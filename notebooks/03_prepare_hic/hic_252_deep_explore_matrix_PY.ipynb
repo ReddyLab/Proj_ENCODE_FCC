{
 "cells": [
  {
   "cell_type": "raw",
   "id": "0ace7a7f-aeab-407b-9eb3-3ce149d13876",
   "metadata": {},
   "source": [
    "---\n",
    "title: Prepare Hi-C data 051 (in situ Hi-C)\n",
    "subtitle: Explore data (Matrix)\n",
    "format:\n",
    "    html:\n",
    "        code-fold:  true\n",
    "        code-tools: true\n",
    "---"
   ]
  },
  {
   "cell_type": "markdown",
   "id": "48d0ef57-33ef-4b92-829b-a131038fc1e8",
   "metadata": {},
   "source": [
    "**Set environment**"
   ]
  },
  {
   "cell_type": "code",
   "execution_count": 6,
   "id": "3335a517-ea26-470f-946a-d4761ffa24e9",
   "metadata": {},
   "outputs": [
    {
     "name": "stdout",
     "output_type": "stream",
     "text": [
      "chrom.hg38.main.bed\t       encode_open_chromatin\n",
      "chrom.hg38.total.bed\t       encode_rnaseq\n",
      "chrom.sizes.hg19\t       genome_tss\n",
      "chrom.sizes.hg38\t       hic_insitu_GM12878\n",
      "encode_chipseq_agarwal2023     hic_insitu_K562_ENCSR545YBD\n",
      "encode_chipseq_flagship        hic_intact_K562_deep\n",
      "encode_chipseq_histone\t       hic_intact_K562_ENCSR479XDG\n",
      "encode_chipseq_histone_241223  protein_interpro\n",
      "encode_chipseq_histone_250120  RNAseq\n",
      "encode_chipseq_subset\t       z_encode_chipseq_encode4\n",
      "encode_chipseq_tf_250108       z_encode_chipseq_flagship\n",
      "encode_chipseq_tf_250120       z_encode_chipseq_histone\n",
      "encode_chromatin_states        z_encode_chipseq_subset\n",
      "encode_crispri_hcrff\n"
     ]
    }
   ],
   "source": [
    "!ls /mount/repo/Proj_ENCODE_FCC/data/external"
   ]
  },
  {
   "cell_type": "code",
   "execution_count": 9,
   "id": "37346ad0-4a0e-4322-a703-c8340a2f058e",
   "metadata": {},
   "outputs": [
    {
     "name": "stdout",
     "output_type": "stream",
     "text": [
      "inter.hic  localizedList_primary_10.bedpe  processed\n"
     ]
    }
   ],
   "source": [
    "!ls /data/reddylab/Kuei/repo/Proj_ENCODE_FCC/data/external/hic_intact_K562_deep"
   ]
  },
  {
   "cell_type": "code",
   "execution_count": 10,
   "id": "10201719-c315-4d98-9fae-f0d8751ce495",
   "metadata": {},
   "outputs": [],
   "source": [
    "import hicstraw\n",
    "import os"
   ]
  },
  {
   "cell_type": "code",
   "execution_count": 11,
   "id": "2009feab-0891-4919-999d-3921682e16ea",
   "metadata": {},
   "outputs": [
    {
     "name": "stdout",
     "output_type": "stream",
     "text": [
      "/data/reddylab/Kuei/repo/Proj_ENCODE_FCC/data/external/hic_intact_K562_deep/inter.hic\n"
     ]
    }
   ],
   "source": [
    "fdiry = \"/data/reddylab/Kuei/repo/Proj_ENCODE_FCC/data/external/hic_intact_K562_deep\"\n",
    "fname = \"inter.hic\"\n",
    "fpath = os.path.join(fdiry, fname)\n",
    "print(fpath)"
   ]
  },
  {
   "cell_type": "code",
   "execution_count": 12,
   "id": "73d7efc9-37c9-42de-a176-998dee64566c",
   "metadata": {},
   "outputs": [
    {
     "name": "stdout",
     "output_type": "stream",
     "text": [
      "[<hicstraw.chromosome object at 0x155552071fb0>, <hicstraw.chromosome object at 0x1555520981b0>, <hicstraw.chromosome object at 0x1555520982f0>, <hicstraw.chromosome object at 0x155552098170>, <hicstraw.chromosome object at 0x1555520983f0>, <hicstraw.chromosome object at 0x1555520987f0>, <hicstraw.chromosome object at 0x155552098970>, <hicstraw.chromosome object at 0x155552098cb0>, <hicstraw.chromosome object at 0x155552099d70>, <hicstraw.chromosome object at 0x155552099c70>, <hicstraw.chromosome object at 0x155552099cf0>, <hicstraw.chromosome object at 0x155552099d30>, <hicstraw.chromosome object at 0x15555209b530>, <hicstraw.chromosome object at 0x15555209b4f0>, <hicstraw.chromosome object at 0x155552099e30>, <hicstraw.chromosome object at 0x155552099eb0>, <hicstraw.chromosome object at 0x155552099ef0>, <hicstraw.chromosome object at 0x155552099fb0>, <hicstraw.chromosome object at 0x155552099f70>, <hicstraw.chromosome object at 0x15555209a030>, <hicstraw.chromosome object at 0x15555209a130>, <hicstraw.chromosome object at 0x15555209a230>, <hicstraw.chromosome object at 0x15555209a2b0>, <hicstraw.chromosome object at 0x15555209a3f0>, <hicstraw.chromosome object at 0x15555209a4f0>, <hicstraw.chromosome object at 0x15555209a5b0>]\n",
      "hg38\n",
      "[2500000, 1000000, 500000, 250000, 100000, 50000, 25000, 10000, 5000, 2000, 1000, 500, 200, 100, 50, 20, 10, 1]\n"
     ]
    }
   ],
   "source": [
    "hic = hicstraw.HiCFile(fpath)\n",
    "print(hic.getChromosomes())\n",
    "print(hic.getGenomeID())\n",
    "print(hic.getResolutions())"
   ]
  },
  {
   "cell_type": "code",
   "execution_count": 18,
   "id": "45d88f1b-1753-4bd5-8293-70b8f96da9f9",
   "metadata": {},
   "outputs": [
    {
     "name": "stdout",
     "output_type": "stream",
     "text": [
      "['__class__', '__delattr__', '__dir__', '__doc__', '__eq__', '__format__', '__ge__', '__getattribute__', '__getstate__', '__gt__', '__hash__', '__init__', '__init_subclass__', '__le__', '__lt__', '__module__', '__ne__', '__new__', '__reduce__', '__reduce_ex__', '__repr__', '__setattr__', '__sizeof__', '__str__', '__subclasshook__', '_pybind11_conduit_v1_', 'getChromosomes', 'getGenomeID', 'getMatrixZoomData', 'getResolutions']\n"
     ]
    }
   ],
   "source": [
    "print(dir(hic))"
   ]
  },
  {
   "cell_type": "code",
   "execution_count": 15,
   "id": "4a0dac8b-92e3-4c64-abde-0d7681250091",
   "metadata": {},
   "outputs": [
    {
     "ename": "AttributeError",
     "evalue": "'hicstraw.HiCFile' object has no attribute 'metaData'",
     "output_type": "error",
     "traceback": [
      "\u001b[0;31m---------------------------------------------------------------------------\u001b[0m",
      "\u001b[0;31mAttributeError\u001b[0m                            Traceback (most recent call last)",
      "Cell \u001b[0;32mIn[15], line 2\u001b[0m\n\u001b[1;32m      1\u001b[0m \u001b[38;5;66;03m#print(\"Juicer Version:\", hic.version)\u001b[39;00m\n\u001b[0;32m----> 2\u001b[0m \u001b[38;5;28mprint\u001b[39m(\u001b[43mhic\u001b[49m\u001b[38;5;241;43m.\u001b[39;49m\u001b[43mmetaData\u001b[49m)\n",
      "\u001b[0;31mAttributeError\u001b[0m: 'hicstraw.HiCFile' object has no attribute 'metaData'"
     ]
    }
   ],
   "source": [
    "#print(\"Juicer Version:\", hic.version)\n",
    "print(hic.metaData)"
   ]
  },
  {
   "cell_type": "code",
   "execution_count": 13,
   "id": "e318fe35-29e3-4119-b40f-baac03c746d7",
   "metadata": {},
   "outputs": [
    {
     "name": "stdout",
     "output_type": "stream",
     "text": [
      "All 3088286\n",
      "chr1 248956422\n",
      "chr2 242193529\n",
      "chr3 198295559\n",
      "chr4 190214555\n",
      "chr5 181538259\n",
      "chr6 170805979\n",
      "chr7 159345973\n",
      "chr8 145138636\n",
      "chr9 138394717\n",
      "chr10 133797422\n",
      "chr11 135086622\n",
      "chr12 133275309\n",
      "chr13 114364328\n",
      "chr14 107043718\n",
      "chr15 101991189\n",
      "chr16 90338345\n",
      "chr17 83257441\n",
      "chr18 80373285\n",
      "chr19 58617616\n",
      "chr20 64444167\n",
      "chr21 46709983\n",
      "chr22 50818468\n",
      "chrX 156040895\n",
      "chrY 57227415\n",
      "chrM 16569\n"
     ]
    }
   ],
   "source": [
    "for chrom in hic.getChromosomes():\n",
    "  print(chrom.name, chrom.length)"
   ]
  },
  {
   "cell_type": "code",
   "execution_count": 19,
   "id": "6902f7ef-9308-49e8-a71f-4b733a886cb3",
   "metadata": {},
   "outputs": [
    {
     "name": "stdout",
     "output_type": "stream",
     "text": [
      "HIC\u0000\t\u0000\u0000\u0000l`G\u0000\u0000\u0000hg38\u0000\\3?H\u0000\u0000\u0000,\u0013\u0001\u0000\u0000\u0000\u0000\u0000\u0002\u0000\u0000\u0000software\u0000Juicer Tools Version 2.13.07\u0000hicFileScalingFactor\u0000\n"
     ]
    }
   ],
   "source": [
    "with open(fpath, \"rb\") as f:\n",
    "    header = f.read(100)  # Read first 100 bytes\n",
    "    print(header.decode(errors=\"ignore\"))"
   ]
  },
  {
   "cell_type": "code",
   "execution_count": null,
   "id": "89a1ff91-3ffb-4cd6-ad00-2c872bd55777",
   "metadata": {},
   "outputs": [],
   "source": []
  }
 ],
 "metadata": {
  "kernelspec": {
   "display_name": "Python 3 (ipykernel)",
   "language": "python",
   "name": "python3"
  },
  "language_info": {
   "codemirror_mode": {
    "name": "ipython",
    "version": 3
   },
   "file_extension": ".py",
   "mimetype": "text/x-python",
   "name": "python",
   "nbconvert_exporter": "python",
   "pygments_lexer": "ipython3",
   "version": "3.11.6"
  }
 },
 "nbformat": 4,
 "nbformat_minor": 5
}
