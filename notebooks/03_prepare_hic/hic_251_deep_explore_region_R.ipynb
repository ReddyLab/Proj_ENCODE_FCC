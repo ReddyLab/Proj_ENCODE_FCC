{
 "cells": [
  {
   "cell_type": "raw",
   "id": "a7f54252-b65e-40f0-b89a-22ac740dc6a3",
   "metadata": {},
   "source": [
    "---\n",
    "title: Prepare Hi-C data 251 (deep intact Hi-C)\n",
    "subtitle: Explore data (Loop)\n",
    "format:\n",
    "    html:\n",
    "        code-fold:  true\n",
    "        code-tools: true\n",
    "---"
   ]
  },
  {
   "cell_type": "markdown",
   "id": "c3b1edba-1644-4c50-bbc6-82a821642e38",
   "metadata": {},
   "source": [
    "**Set environment**"
   ]
  },
  {
   "cell_type": "code",
   "execution_count": null,
   "id": "bc40bebd-e61a-4b8a-b8ed-d5ce05de42ce",
   "metadata": {
    "tags": []
   },
   "outputs": [],
   "source": [
    "suppressMessages(suppressWarnings(source(\"../run_config_project_sing.R\")))\n",
    "show_env()"
   ]
  },
  {
   "cell_type": "markdown",
   "id": "13492ff2-59b3-4899-8b87-d01a8d2ad131",
   "metadata": {},
   "source": [
    "**Set global variables**"
   ]
  },
  {
   "cell_type": "code",
   "execution_count": null,
   "id": "c1bb3507-cafd-47e6-9b42-d324e8e1a0a4",
   "metadata": {},
   "outputs": [],
   "source": [
    "TXT_FOLDER_REGION = \"hic_intact_K562_deep\""
   ]
  },
  {
   "cell_type": "markdown",
   "id": "369c52e9-5cb8-4845-aea6-0832c5ca8003",
   "metadata": {
    "tags": []
   },
   "source": [
    "## Import data"
   ]
  },
  {
   "cell_type": "code",
   "execution_count": null,
   "id": "4cc9439d-3fb3-4e3b-9c97-a0d3913b29ad",
   "metadata": {},
   "outputs": [],
   "source": [
    "txt_folder = TXT_FOLDER_REGION\n",
    "txt_fdiry  = file.path(FD_RES, \"region\", txt_folder)\n",
    "\n",
    "vec = dir(txt_fdiry)\n",
    "for (txt in vec){cat(txt, \"\\n\")}"
   ]
  },
  {
   "cell_type": "code",
   "execution_count": null,
   "id": "a8f7b122-f5d4-4ef8-a9f4-cab27b706738",
   "metadata": {},
   "outputs": [],
   "source": [
    "txt_folder = TXT_FOLDER_REGION\n",
    "txt_fdiry  = file.path(FD_RES, \"region\", txt_folder, \"summary\")\n",
    "\n",
    "vec = dir(txt_fdiry)\n",
    "for (txt in vec){cat(txt, \"\\n\")}"
   ]
  },
  {
   "cell_type": "code",
   "execution_count": 5,
   "id": "8ddac0fa-7bdf-4f50-8044-35c78befb029",
   "metadata": {},
   "outputs": [
    {
     "data": {
      "text/html": [
       "<table>\n",
       " <thead>\n",
       "  <tr>\n",
       "   <th style=\"text-align:left;\"> Name </th>\n",
       "   <th style=\"text-align:left;\"> Note </th>\n",
       "  </tr>\n",
       " </thead>\n",
       "<tbody>\n",
       "  <tr>\n",
       "   <td style=\"text-align:left;\"> Chrom </td>\n",
       "   <td style=\"text-align:left;\"> Name of the chromosome </td>\n",
       "  </tr>\n",
       "  <tr>\n",
       "   <td style=\"text-align:left;\"> ChromStart </td>\n",
       "   <td style=\"text-align:left;\"> The starting position of the feature in the chromosome </td>\n",
       "  </tr>\n",
       "  <tr>\n",
       "   <td style=\"text-align:left;\"> ChromEnd </td>\n",
       "   <td style=\"text-align:left;\"> The ending position of the feature in the chromosome </td>\n",
       "  </tr>\n",
       "  <tr>\n",
       "   <td style=\"text-align:left;\"> Name </td>\n",
       "   <td style=\"text-align:left;\"> Name given to a region; Use '.' if no name is assigned. </td>\n",
       "  </tr>\n",
       "  <tr>\n",
       "   <td style=\"text-align:left;\"> Group </td>\n",
       "   <td style=\"text-align:left;\"> Assay Name </td>\n",
       "  </tr>\n",
       "  <tr>\n",
       "   <td style=\"text-align:left;\"> Label </td>\n",
       "   <td style=\"text-align:left;\"> Region Label </td>\n",
       "  </tr>\n",
       "</tbody>\n",
       "</table>"
      ]
     },
     "metadata": {},
     "output_type": "display_data"
    }
   ],
   "source": [
    "### set file path\n",
    "txt_folder = TXT_FOLDER_REGION\n",
    "txt_fdiry  = file.path(FD_RES, \"region\", txt_folder, \"summary\")\n",
    "txt_fname = \"description.tsv\"\n",
    "txt_fpath = file.path(txt_fdiry, txt_fname)\n",
    "\n",
    "### read table\n",
    "dat = read_tsv(txt_fpath, show_col_types = FALSE)\n",
    "\n",
    "### assign and show\n",
    "dat_cname     = dat\n",
    "vec_txt_cname = dat$Name\n",
    "fun_display_table(head(dat))"
   ]
  },
  {
   "cell_type": "code",
   "execution_count": 6,
   "id": "dd21cdf6-e33c-426b-a3ce-e60082d8b427",
   "metadata": {},
   "outputs": [
    {
     "data": {
      "text/html": [
       "<table>\n",
       " <thead>\n",
       "  <tr>\n",
       "   <th style=\"text-align:left;\"> Chrom_A </th>\n",
       "   <th style=\"text-align:right;\"> ChromStart_A </th>\n",
       "   <th style=\"text-align:right;\"> ChromEnd_A </th>\n",
       "   <th style=\"text-align:left;\"> Region_A </th>\n",
       "   <th style=\"text-align:right;\"> Length_A </th>\n",
       "   <th style=\"text-align:left;\"> Chrom_B </th>\n",
       "   <th style=\"text-align:right;\"> ChromStart_B </th>\n",
       "   <th style=\"text-align:right;\"> ChromEnd_B </th>\n",
       "   <th style=\"text-align:left;\"> Region_B </th>\n",
       "   <th style=\"text-align:right;\"> Length_B </th>\n",
       "   <th style=\"text-align:left;\"> Name </th>\n",
       "   <th style=\"text-align:right;\"> Observed </th>\n",
       "   <th style=\"text-align:right;\"> Centroid_A </th>\n",
       "   <th style=\"text-align:right;\"> Centroid_B </th>\n",
       "   <th style=\"text-align:right;\"> Radius </th>\n",
       "   <th style=\"text-align:right;\"> Distance </th>\n",
       "   <th style=\"text-align:right;\"> Size </th>\n",
       "  </tr>\n",
       " </thead>\n",
       "<tbody>\n",
       "  <tr>\n",
       "   <td style=\"text-align:left;\"> chr1 </td>\n",
       "   <td style=\"text-align:right;\"> 778000 </td>\n",
       "   <td style=\"text-align:right;\"> 779000 </td>\n",
       "   <td style=\"text-align:left;\"> chr1:778000-779000 </td>\n",
       "   <td style=\"text-align:right;\"> 1000 </td>\n",
       "   <td style=\"text-align:left;\"> chr1 </td>\n",
       "   <td style=\"text-align:right;\"> 827000 </td>\n",
       "   <td style=\"text-align:right;\"> 828000 </td>\n",
       "   <td style=\"text-align:left;\"> chr1:827000-828000 </td>\n",
       "   <td style=\"text-align:right;\"> 1000 </td>\n",
       "   <td style=\"text-align:left;\"> chr1:778000-779000|chr1:827000-828000 </td>\n",
       "   <td style=\"text-align:right;\"> 16 </td>\n",
       "   <td style=\"text-align:right;\"> 778500 </td>\n",
       "   <td style=\"text-align:right;\"> 827500 </td>\n",
       "   <td style=\"text-align:right;\"> 0 </td>\n",
       "   <td style=\"text-align:right;\"> 49000 </td>\n",
       "   <td style=\"text-align:right;\"> 1000 </td>\n",
       "  </tr>\n",
       "  <tr>\n",
       "   <td style=\"text-align:left;\"> chr1 </td>\n",
       "   <td style=\"text-align:right;\"> 868000 </td>\n",
       "   <td style=\"text-align:right;\"> 870000 </td>\n",
       "   <td style=\"text-align:left;\"> chr1:868000-870000 </td>\n",
       "   <td style=\"text-align:right;\"> 2000 </td>\n",
       "   <td style=\"text-align:left;\"> chr1 </td>\n",
       "   <td style=\"text-align:right;\"> 1290000 </td>\n",
       "   <td style=\"text-align:right;\"> 1292000 </td>\n",
       "   <td style=\"text-align:left;\"> chr1:1290000-1292000 </td>\n",
       "   <td style=\"text-align:right;\"> 2000 </td>\n",
       "   <td style=\"text-align:left;\"> chr1:868000-870000|chr1:1290000-1292000 </td>\n",
       "   <td style=\"text-align:right;\"> 14 </td>\n",
       "   <td style=\"text-align:right;\"> 869000 </td>\n",
       "   <td style=\"text-align:right;\"> 1291000 </td>\n",
       "   <td style=\"text-align:right;\"> 0 </td>\n",
       "   <td style=\"text-align:right;\"> 422000 </td>\n",
       "   <td style=\"text-align:right;\"> 2000 </td>\n",
       "  </tr>\n",
       "  <tr>\n",
       "   <td style=\"text-align:left;\"> chr1 </td>\n",
       "   <td style=\"text-align:right;\"> 870000 </td>\n",
       "   <td style=\"text-align:right;\"> 872000 </td>\n",
       "   <td style=\"text-align:left;\"> chr1:870000-872000 </td>\n",
       "   <td style=\"text-align:right;\"> 2000 </td>\n",
       "   <td style=\"text-align:left;\"> chr1 </td>\n",
       "   <td style=\"text-align:right;\"> 974000 </td>\n",
       "   <td style=\"text-align:right;\"> 976000 </td>\n",
       "   <td style=\"text-align:left;\"> chr1:974000-976000 </td>\n",
       "   <td style=\"text-align:right;\"> 2000 </td>\n",
       "   <td style=\"text-align:left;\"> chr1:870000-872000|chr1:974000-976000 </td>\n",
       "   <td style=\"text-align:right;\"> 31 </td>\n",
       "   <td style=\"text-align:right;\"> 871000 </td>\n",
       "   <td style=\"text-align:right;\"> 975000 </td>\n",
       "   <td style=\"text-align:right;\"> 0 </td>\n",
       "   <td style=\"text-align:right;\"> 104000 </td>\n",
       "   <td style=\"text-align:right;\"> 2000 </td>\n",
       "  </tr>\n",
       "  <tr>\n",
       "   <td style=\"text-align:left;\"> chr1 </td>\n",
       "   <td style=\"text-align:right;\"> 870000 </td>\n",
       "   <td style=\"text-align:right;\"> 872000 </td>\n",
       "   <td style=\"text-align:left;\"> chr1:870000-872000 </td>\n",
       "   <td style=\"text-align:right;\"> 2000 </td>\n",
       "   <td style=\"text-align:left;\"> chr1 </td>\n",
       "   <td style=\"text-align:right;\"> 1062000 </td>\n",
       "   <td style=\"text-align:right;\"> 1064000 </td>\n",
       "   <td style=\"text-align:left;\"> chr1:1062000-1064000 </td>\n",
       "   <td style=\"text-align:right;\"> 2000 </td>\n",
       "   <td style=\"text-align:left;\"> chr1:870000-872000|chr1:1062000-1064000 </td>\n",
       "   <td style=\"text-align:right;\"> 24 </td>\n",
       "   <td style=\"text-align:right;\"> 870000 </td>\n",
       "   <td style=\"text-align:right;\"> 1063000 </td>\n",
       "   <td style=\"text-align:right;\"> 1000 </td>\n",
       "   <td style=\"text-align:right;\"> 193000 </td>\n",
       "   <td style=\"text-align:right;\"> 2000 </td>\n",
       "  </tr>\n",
       "  <tr>\n",
       "   <td style=\"text-align:left;\"> chr1 </td>\n",
       "   <td style=\"text-align:right;\"> 870000 </td>\n",
       "   <td style=\"text-align:right;\"> 875000 </td>\n",
       "   <td style=\"text-align:left;\"> chr1:870000-875000 </td>\n",
       "   <td style=\"text-align:right;\"> 5000 </td>\n",
       "   <td style=\"text-align:left;\"> chr1 </td>\n",
       "   <td style=\"text-align:right;\"> 935000 </td>\n",
       "   <td style=\"text-align:right;\"> 940000 </td>\n",
       "   <td style=\"text-align:left;\"> chr1:935000-940000 </td>\n",
       "   <td style=\"text-align:right;\"> 5000 </td>\n",
       "   <td style=\"text-align:left;\"> chr1:870000-875000|chr1:935000-940000 </td>\n",
       "   <td style=\"text-align:right;\"> 129 </td>\n",
       "   <td style=\"text-align:right;\"> 870000 </td>\n",
       "   <td style=\"text-align:right;\"> 937500 </td>\n",
       "   <td style=\"text-align:right;\"> 2500 </td>\n",
       "   <td style=\"text-align:right;\"> 67500 </td>\n",
       "   <td style=\"text-align:right;\"> 5000 </td>\n",
       "  </tr>\n",
       "  <tr>\n",
       "   <td style=\"text-align:left;\"> chr1 </td>\n",
       "   <td style=\"text-align:right;\"> 904000 </td>\n",
       "   <td style=\"text-align:right;\"> 905000 </td>\n",
       "   <td style=\"text-align:left;\"> chr1:904000-905000 </td>\n",
       "   <td style=\"text-align:right;\"> 1000 </td>\n",
       "   <td style=\"text-align:left;\"> chr1 </td>\n",
       "   <td style=\"text-align:right;\"> 940000 </td>\n",
       "   <td style=\"text-align:right;\"> 941000 </td>\n",
       "   <td style=\"text-align:left;\"> chr1:940000-941000 </td>\n",
       "   <td style=\"text-align:right;\"> 1000 </td>\n",
       "   <td style=\"text-align:left;\"> chr1:904000-905000|chr1:940000-941000 </td>\n",
       "   <td style=\"text-align:right;\"> 49 </td>\n",
       "   <td style=\"text-align:right;\"> 905590 </td>\n",
       "   <td style=\"text-align:right;\"> 939590 </td>\n",
       "   <td style=\"text-align:right;\"> 2357 </td>\n",
       "   <td style=\"text-align:right;\"> 34000 </td>\n",
       "   <td style=\"text-align:right;\"> 1000 </td>\n",
       "  </tr>\n",
       "</tbody>\n",
       "</table>"
      ]
     },
     "metadata": {},
     "output_type": "display_data"
    }
   ],
   "source": [
    "### set file path\n",
    "txt_folder = TXT_FOLDER_REGION\n",
    "txt_fdiry  = file.path(FD_RES, \"region\", txt_folder, \"summary\")\n",
    "txt_fname = \"K562.hg38.hic_intact.Loop.tsv\"\n",
    "txt_fpath = file.path(txt_fdiry, txt_fname)\n",
    "\n",
    "### read table\n",
    "dat = read_tsv(txt_fpath, show_col_types = FALSE)\n",
    "\n",
    "### assign and show\n",
    "dat_region_loop = dat\n",
    "fun_display_table(head(dat))"
   ]
  },
  {
   "cell_type": "markdown",
   "id": "56ef83de-50e7-47db-b691-306ca03397b6",
   "metadata": {},
   "source": [
    "## Explore"
   ]
  },
  {
   "cell_type": "code",
   "execution_count": 7,
   "id": "31a17fd5-0c69-45ad-8655-827ec563a802",
   "metadata": {},
   "outputs": [
    {
     "data": {
      "text/plain": [
       "   Min. 1st Qu.  Median    Mean 3rd Qu.    Max. \n",
       "   8000   67500  171200  381227  413000 9640000 "
      ]
     },
     "metadata": {},
     "output_type": "display_data"
    }
   ],
   "source": [
    "dat = dat_region_loop\n",
    "summary(dat$Distance)"
   ]
  },
  {
   "cell_type": "code",
   "execution_count": 8,
   "id": "31616db6-aba7-43b2-9e8e-3b27d9207e99",
   "metadata": {},
   "outputs": [
    {
     "data": {
      "text/plain": [
       "\n",
       " 1000  2000  5000 10000 \n",
       "80948 22895 19294  5577 "
      ]
     },
     "metadata": {},
     "output_type": "display_data"
    }
   ],
   "source": [
    "dat = dat_region_loop\n",
    "table(dat$Size)"
   ]
  },
  {
   "cell_type": "code",
   "execution_count": 9,
   "id": "e76102d3-a65c-4e35-a583-57fd7038f0c4",
   "metadata": {},
   "outputs": [
    {
     "data": {
      "image/png": "[encoded data removed]",
      "text/plain": [
       "plot without title"
      ]
     },
     "metadata": {
      "image/png": {
       "height": 240,
       "width": 360
      }
     },
     "output_type": "display_data"
    }
   ],
   "source": [
    "dat = dat_region_loop\n",
    "gpt = ggplot(dat, aes(x=Distance)) + \n",
    "    geom_histogram(bins=50) +\n",
    "    theme_cowplot() +\n",
    "    background_grid()\n",
    "\n",
    "options(repr.plot.height=4, repr.plot.width=6)\n",
    "print(gpt)"
   ]
  },
  {
   "cell_type": "code",
   "execution_count": 10,
   "id": "ac12b42c-4b09-47c7-b676-fe731b02c68a",
   "metadata": {},
   "outputs": [
    {
     "data": {
      "image/png": "[encoded data removed]",
      "text/plain": [
       "plot without title"
      ]
     },
     "metadata": {
      "image/png": {
       "height": 480,
       "width": 720
      }
     },
     "output_type": "display_data"
    }
   ],
   "source": [
    "dat = dat_region_loop\n",
    "\n",
    "gpt = ggplot(dat, aes(x=Distance)) + \n",
    "    geom_histogram(bins=50) +\n",
    "    theme_cowplot() +\n",
    "    background_grid() +\n",
    "    facet_wrap(~Size, scale = \"free_y\")\n",
    "\n",
    "options(repr.plot.height=8, repr.plot.width=12)\n",
    "print(gpt)"
   ]
  },
  {
   "cell_type": "code",
   "execution_count": null,
   "id": "356fd21a-a1a6-4302-b1ff-4b601a8cc370",
   "metadata": {},
   "outputs": [],
   "source": []
  }
 ],
 "metadata": {
  "kernelspec": {
   "display_name": "R",
   "language": "R",
   "name": "ir"
  },
  "language_info": {
   "codemirror_mode": "r",
   "file_extension": ".r",
   "mimetype": "text/x-r-source",
   "name": "R",
   "pygments_lexer": "r",
   "version": "4.4.2"
  }
 },
 "nbformat": 4,
 "nbformat_minor": 5
}
