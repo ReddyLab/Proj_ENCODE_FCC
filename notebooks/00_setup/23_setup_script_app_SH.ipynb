{
 "cells": [
  {
   "cell_type": "raw",
   "id": "6d5759a5-b7f8-401d-b915-fc71a8af44f4",
   "metadata": {},
   "source": [
    "---\n",
    "title: Setup Scripts 03\n",
    "subtitle: Biocontainers and UCSC\n",
    "format:\n",
    "    html:\n",
    "        code-fold:  true\n",
    "        code-tools: true\n",
    "---"
   ]
  },
  {
   "cell_type": "code",
   "execution_count": 1,
   "id": "cd917d76-88d8-4e9c-ba48-d983674ff9e5",
   "metadata": {},
   "outputs": [
    {
     "name": "stdout",
     "output_type": "stream",
     "text": [
      "\u001b[0m\u001b[38;5;51mdata\u001b[0m  \u001b[38;5;51mlog\u001b[0m        README.md   \u001b[38;5;51mresults\u001b[0m  \u001b[38;5;27msite\u001b[0m   \u001b[38;5;27mtmp\u001b[0m\n",
      "\u001b[38;5;27mdocs\u001b[0m  \u001b[38;5;27mnotebooks\u001b[0m  \u001b[38;5;27mreferences\u001b[0m  \u001b[38;5;27mscripts\u001b[0m  \u001b[38;5;27mtests\u001b[0m\n"
     ]
    }
   ],
   "source": [
    "FD_PRJ=/data/reddylab/Kuei/repo/Proj_ENCODE_FCC\n",
    "FD_EXE=${FD_PRJ}/scripts\n",
    "\n",
    "ls ${FD_PRJ}"
   ]
  },
  {
   "cell_type": "code",
   "execution_count": 2,
   "id": "2cf1964b-5cd9-4fdc-a594-cfae883956e3",
   "metadata": {},
   "outputs": [
    {
     "name": "stdout",
     "output_type": "stream",
     "text": [
      "\u001b[0m\u001b[38;5;27mbackup\u001b[0m  \u001b[38;5;27mbin\u001b[0m  \u001b[38;5;27mcontainer\u001b[0m  \u001b[38;5;27mdata\u001b[0m  \u001b[38;5;27mrepo\u001b[0m  \u001b[38;5;27mvenv\u001b[0m  \u001b[38;5;27mwork\u001b[0m\n",
      "\n",
      "\u001b[0m\u001b[38;5;27marchive\u001b[0m  \u001b[38;5;27mbiocontainer\u001b[0m  \u001b[38;5;27mhome\u001b[0m  \u001b[38;5;27mproject\u001b[0m  \u001b[38;5;27mtoolbox\u001b[0m\n"
     ]
    }
   ],
   "source": [
    "FD_BASE=/data/reddylab/Kuei\n",
    "FD_SING=/data/reddylab/Kuei/container\n",
    "\n",
    "ls ${FD_BASE}\n",
    "echo\n",
    "ls ${FD_SING}"
   ]
  },
  {
   "cell_type": "markdown",
   "id": "772441ef-f3cc-409e-bf9e-40f2d1329e6b",
   "metadata": {},
   "source": [
    "## Dowload containers"
   ]
  },
  {
   "cell_type": "markdown",
   "id": "0958d938-3b2e-4b1e-9282-292929966d74",
   "metadata": {},
   "source": [
    "- https://biocontainers.pro/tools/bedops\n",
    "- https://biocontainers.pro/tools/bedtools"
   ]
  },
  {
   "cell_type": "code",
   "execution_count": 5,
   "id": "61434292-4c80-46ff-af96-f37c57d7a35b",
   "metadata": {},
   "outputs": [
    {
     "name": "stdout",
     "output_type": "stream",
     "text": [
      "bedtools:2.31.1--hf5e1c6e_1 already exists.\n"
     ]
    }
   ],
   "source": [
    "IMG=\"bedtools:2.31.1--hf5e1c6e_1\"\n",
    "URL=\"https://depot.galaxyproject.org/singularity/${IMG}\"\n",
    "DIR=${FD_SING}/biocontainer\n",
    "\n",
    "if [[ -f \"${DIR}/${IMG}\" ]]; then\n",
    "    echo \"${IMG} already exists.\"\n",
    "else\n",
    "    echo \"${IMG} does not exists. Download now...\"\n",
    "    singularity pull --dir ${DIR} ${URL}\n",
    "fi"
   ]
  },
  {
   "cell_type": "code",
   "execution_count": 6,
   "id": "fe4d9519-029b-42b2-99ee-ec5c49e25828",
   "metadata": {},
   "outputs": [
    {
     "name": "stdout",
     "output_type": "stream",
     "text": [
      "bedops:2.4.40--h9f5acd7_0 does not exists. Download now...\n",
      "\u001b[34mINFO:   \u001b[0m Downloading network image\n",
      "159.7KiB / 32.1MiB [-----------------------------------------] 0 % 1.3 MiB/s 24s\n",
      "\u001b[1A\u001b[J511.7KiB / 32.1MiB [>----------------------------------------] 2 % 2.1 MiB/s 15s\n",
      "\u001b[1A\u001b[J1.4MiB / 32.1MiB [=>------------------------------------------] 4 % 3.8 MiB/s 8s\n",
      "\u001b[1A\u001b[J3.7MiB / 32.1MiB [====>--------------------------------------] 11 % 7.6 MiB/s 3s\n",
      "\u001b[1A\u001b[J8.7MiB / 32.1MiB [==========>-------------------------------] 27 % 14.5 MiB/s 1s\n",
      "\u001b[1A\u001b[J13.0MiB / 32.1MiB [================>------------------------] 40 % 18.0 MiB/s 1s\n",
      "\u001b[1A\u001b[J17.1MiB / 32.1MiB [=====================>-------------------] 53 % 20.3 MiB/s 0s\n",
      "\u001b[1A\u001b[J21.0MiB / 32.1MiB [==========================>--------------] 65 % 21.9 MiB/s 0s\n",
      "\u001b[1A\u001b[J25.1MiB / 32.1MiB [===============================>---------] 78 % 23.2 MiB/s 0s\n",
      "\u001b[1A\u001b[J29.3MiB / 32.1MiB [====================================>----] 91 % 24.4 MiB/s 0s\n",
      "\u001b[1A\u001b[J32.1MiB / 32.1MiB [========================================] 100 % 25.0 MiB/s 0s\n",
      "\u001b[1A\u001b[J32.1MiB / 32.1MiB [========================================] 100 % 25.0 MiB/s 0s\n"
     ]
    }
   ],
   "source": [
    "IMG=\"bedops:2.4.40--h9f5acd7_0\"\n",
    "URL=\"https://depot.galaxyproject.org/singularity/${IMG}\"\n",
    "DIR=${FD_SING}/biocontainer\n",
    "\n",
    "if [[ -f \"${DIR}/${IMG}\" ]]; then\n",
    "    echo \"${IMG} already exists.\"\n",
    "else\n",
    "    echo \"${IMG} does not exists. Download now...\"\n",
    "    singularity pull --dir ${DIR} ${URL}\n",
    "fi"
   ]
  },
  {
   "cell_type": "markdown",
   "id": "dc5464b2-97d4-44cd-baf6-3c8f78e5d844",
   "metadata": {},
   "source": [
    "## Wrapping containers"
   ]
  },
  {
   "cell_type": "code",
   "execution_count": 3,
   "id": "cbccd246-ef62-424a-b2b1-7e08fe00dbbe",
   "metadata": {},
   "outputs": [
    {
     "name": "stdout",
     "output_type": "stream",
     "text": [
      "\u001b[0m\u001b[38;5;34mbedops:2.4.40--h9f5acd7_0\u001b[0m\n",
      "\u001b[38;5;34mbedtools:2.30.0--h468198e_3\u001b[0m\n",
      "\u001b[38;5;34mbedtools:2.31.1--hf5e1c6e_1\u001b[0m\n",
      "\u001b[38;5;34mdeeptools:3.5.1--py_0\u001b[0m\n"
     ]
    }
   ],
   "source": [
    "ls -1 ${FD_SING}/biocontainer"
   ]
  },
  {
   "cell_type": "markdown",
   "id": "52a51415-e280-4741-a4e1-ab5a75ebb2aa",
   "metadata": {},
   "source": [
    "**Set template**"
   ]
  },
  {
   "cell_type": "code",
   "execution_count": 4,
   "id": "21a813f6-96e9-4806-952c-a96fa8bbc7f9",
   "metadata": {},
   "outputs": [
    {
     "name": "stdout",
     "output_type": "stream",
     "text": [
      "#!/bin/bash\n",
      "\n",
      "#########################################\n",
      "### Wrapper of PLACEHOLDER_CMD container\n",
      "### =====================================\n",
      "\n",
      "IMAGE=PLACEHOLDER_IMG\n",
      "\n",
      "CMD=\"PLACEHOLDER_CMD\"\n",
      "ARGS=\"$@\"\n",
      "\n",
      "singularity exec   \\\n",
      "    -B ${PWD}      \\\n",
      "    -B /data:/data \\\n",
      "    -B /gpfs:/gpfs \\\n",
      "    ${IMAGE} ${CMD} ${ARGS}\n"
     ]
    }
   ],
   "source": [
    "FDIRY=${FD_EXE}/app_duke_hardac\n",
    "FNAME=sing_template.sh\n",
    "FPATH=${FDIRY}/${FNAME}\n",
    "\n",
    "cat > ${FPATH} << 'EOF'\n",
    "#!/bin/bash\n",
    "\n",
    "#########################################\n",
    "### Wrapper of PLACEHOLDER_CMD container\n",
    "### =====================================\n",
    "\n",
    "IMAGE=PLACEHOLDER_IMG\n",
    "\n",
    "CMD=\"PLACEHOLDER_CMD\"\n",
    "ARGS=\"$@\"\n",
    "\n",
    "singularity exec   \\\n",
    "    -B ${PWD}      \\\n",
    "    -B /data:/data \\\n",
    "    -B /gpfs:/gpfs \\\n",
    "    ${IMAGE} ${CMD} ${ARGS}\n",
    "EOF\n",
    "\n",
    "cat ${FPATH}"
   ]
  },
  {
   "cell_type": "markdown",
   "id": "e8cc55f9-2911-48a7-8def-7471b2d13652",
   "metadata": {},
   "source": [
    "## Bedtools"
   ]
  },
  {
   "cell_type": "code",
   "execution_count": 5,
   "id": "11351184-5a27-47fb-b0ae-948fd7ce0bdc",
   "metadata": {},
   "outputs": [
    {
     "name": "stdout",
     "output_type": "stream",
     "text": [
      "#!/bin/bash\n",
      "\n",
      "#########################################\n",
      "### Wrapper of bedtools container\n",
      "### =====================================\n",
      "\n",
      "IMAGE=/data/reddylab/Kuei/container/biocontainer/bedtools:2.31.1--hf5e1c6e_1\n",
      "\n",
      "CMD=\"bedtools\"\n",
      "ARGS=\"$@\"\n",
      "\n",
      "singularity exec   \\\n",
      "    -B ${PWD}      \\\n",
      "    -B /data:/data \\\n",
      "    -B /gpfs:/gpfs \\\n",
      "    ${IMAGE} ${CMD} ${ARGS}\n"
     ]
    }
   ],
   "source": [
    "CMD=\"bedtools\"\n",
    "IMG=${FD_SING}/biocontainer/\"bedtools:2.31.1--hf5e1c6e_1\"\n",
    "\n",
    "FD_INP=${FD_EXE}/app_duke_hardac\n",
    "FN_INP=sing_template.sh\n",
    "FP_INP=${FD_INP}/${FN_INP}\n",
    "\n",
    "FD_OUT=${FD_INP}\n",
    "FN_OUT=${CMD}\n",
    "FP_OUT=${FD_OUT}/${FN_OUT}\n",
    "\n",
    "cp ${FP_INP} ${FP_OUT}\n",
    "sed -i \"s|PLACEHOLDER_IMG|${IMG}|g\" ${FP_OUT}\n",
    "sed -i \"s|PLACEHOLDER_CMD|${CMD}|g\" ${FP_OUT}\n",
    "chmod +x ${FP_OUT}\n",
    "\n",
    "cat ${FP_OUT}"
   ]
  },
  {
   "cell_type": "markdown",
   "id": "f0267dee-54e8-4d2a-a69d-29d8312d3157",
   "metadata": {},
   "source": [
    "## Bedops"
   ]
  },
  {
   "cell_type": "code",
   "execution_count": 6,
   "id": "5fd746cd-7c65-44a8-9672-f3e1df84bf29",
   "metadata": {},
   "outputs": [
    {
     "name": "stdout",
     "output_type": "stream",
     "text": [
      "#!/bin/bash\n",
      "\n",
      "#########################################\n",
      "### Wrapper of bedops container\n",
      "### =====================================\n",
      "\n",
      "IMAGE=/data/reddylab/Kuei/container/biocontainer/bedops:2.4.40--h9f5acd7_0\n",
      "\n",
      "CMD=\"bedops\"\n",
      "ARGS=\"$@\"\n",
      "\n",
      "singularity exec   \\\n",
      "    -B ${PWD}      \\\n",
      "    -B /data:/data \\\n",
      "    -B /gpfs:/gpfs \\\n",
      "    ${IMAGE} ${CMD} ${ARGS}\n"
     ]
    }
   ],
   "source": [
    "CMD=\"bedops\"\n",
    "IMG=${FD_SING}/biocontainer/\"bedops:2.4.40--h9f5acd7_0\"\n",
    "\n",
    "FD_INP=${FD_EXE}/app_duke_hardac\n",
    "FN_INP=sing_template.sh\n",
    "FP_INP=${FD_INP}/${FN_INP}\n",
    "\n",
    "FD_OUT=${FD_INP}\n",
    "FN_OUT=${CMD}\n",
    "FP_OUT=${FD_OUT}/${FN_OUT}\n",
    "\n",
    "cp ${FP_INP} ${FP_OUT}\n",
    "sed -i \"s|PLACEHOLDER_IMG|${IMG}|g\" ${FP_OUT}\n",
    "sed -i \"s|PLACEHOLDER_CMD|${CMD}|g\" ${FP_OUT}\n",
    "chmod +x ${FP_OUT}\n",
    "\n",
    "cat ${FP_OUT}"
   ]
  },
  {
   "cell_type": "code",
   "execution_count": 7,
   "id": "30c377b3-949e-42d0-ad08-25133944ff63",
   "metadata": {},
   "outputs": [
    {
     "name": "stdout",
     "output_type": "stream",
     "text": [
      "#!/bin/bash\n",
      "\n",
      "#########################################\n",
      "### Wrapper of bedextract container\n",
      "### =====================================\n",
      "\n",
      "IMAGE=/data/reddylab/Kuei/container/biocontainer/bedops:2.4.40--h9f5acd7_0\n",
      "\n",
      "CMD=\"bedextract\"\n",
      "ARGS=\"$@\"\n",
      "\n",
      "singularity exec   \\\n",
      "    -B ${PWD}      \\\n",
      "    -B /data:/data \\\n",
      "    -B /gpfs:/gpfs \\\n",
      "    ${IMAGE} ${CMD} ${ARGS}\n"
     ]
    }
   ],
   "source": [
    "CMD=\"bedextract\"\n",
    "IMG=${FD_SING}/biocontainer/\"bedops:2.4.40--h9f5acd7_0\"\n",
    "\n",
    "FD_INP=${FD_EXE}/app_duke_hardac\n",
    "FN_INP=sing_template.sh\n",
    "FP_INP=${FD_INP}/${FN_INP}\n",
    "\n",
    "FD_OUT=${FD_INP}\n",
    "FN_OUT=${CMD}\n",
    "FP_OUT=${FD_OUT}/${FN_OUT}\n",
    "\n",
    "cp ${FP_INP} ${FP_OUT}\n",
    "sed -i \"s|PLACEHOLDER_IMG|${IMG}|g\" ${FP_OUT}\n",
    "sed -i \"s|PLACEHOLDER_CMD|${CMD}|g\" ${FP_OUT}\n",
    "chmod +x ${FP_OUT}\n",
    "\n",
    "cat ${FP_OUT}"
   ]
  },
  {
   "cell_type": "markdown",
   "id": "8c3b3e60-3908-4191-912d-95ca668b3bd8",
   "metadata": {},
   "source": [
    "## Check UCSC"
   ]
  },
  {
   "cell_type": "code",
   "execution_count": null,
   "id": "be2f431b-91fb-488c-ba5b-e028af6e1839",
   "metadata": {},
   "outputs": [],
   "source": []
  },
  {
   "cell_type": "markdown",
   "id": "f791939f-721d-4421-9685-6a751af0b271",
   "metadata": {},
   "source": [
    "## Wrapping UCSC scripts"
   ]
  },
  {
   "cell_type": "code",
   "execution_count": null,
   "id": "43540b09-5ffa-4bf8-b118-ca3fe858eaa2",
   "metadata": {},
   "outputs": [],
   "source": []
  }
 ],
 "metadata": {
  "kernelspec": {
   "display_name": "Bash",
   "language": "bash",
   "name": "bash"
  },
  "language_info": {
   "codemirror_mode": "shell",
   "file_extension": ".sh",
   "mimetype": "text/x-sh",
   "name": "bash"
  }
 },
 "nbformat": 4,
 "nbformat_minor": 5
}
