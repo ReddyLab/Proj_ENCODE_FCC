{
 "cells": [
  {
   "cell_type": "raw",
   "id": "25b7c385-0dd3-4e96-bccb-01f7e52f626a",
   "metadata": {},
   "source": [
    "---\n",
    "title: Setup Scripts 05\n",
    "subtitle: Commands based on UCSC\n",
    "format:\n",
    "    html:\n",
    "        code-fold:  true\n",
    "        code-tools: true\n",
    "---"
   ]
  },
  {
   "cell_type": "markdown",
   "id": "d745ad3b-7532-4923-bcfa-d4262fa6cfaf",
   "metadata": {},
   "source": [
    "**Set environment**"
   ]
  },
  {
   "cell_type": "code",
   "execution_count": 1,
   "id": "97892549-d67b-4fc2-a256-7b58237b397a",
   "metadata": {},
   "outputs": [
    {
     "name": "stdout",
     "output_type": "stream",
     "text": [
      "You are working on             Duke Server: HARDAC\n",
      "BASE DIRECTORY (FD_BASE):      /data/reddylab/Kuei\n",
      "REPO DIRECTORY (FD_REPO):      /data/reddylab/Kuei/repo\n",
      "WORK DIRECTORY (FD_WORK):      /data/reddylab/Kuei/work\n",
      "DATA DIRECTORY (FD_DATA):      /data/reddylab/Kuei/data\n",
      "CONTAINER DIR. (FD_SING):      /data/reddylab/Kuei/container\n",
      "\n",
      "You are working with           ENCODE FCC\n",
      "PATH OF PROJECT (FD_PRJ):      /data/reddylab/Kuei/repo/Proj_ENCODE_FCC\n",
      "PROJECT RESULTS (FD_RES):      /data/reddylab/Kuei/repo/Proj_ENCODE_FCC/results\n",
      "PROJECT SCRIPTS (FD_EXE):      /data/reddylab/Kuei/repo/Proj_ENCODE_FCC/scripts\n",
      "PROJECT DATA    (FD_DAT):      /data/reddylab/Kuei/repo/Proj_ENCODE_FCC/data\n",
      "PROJECT NOTE    (FD_NBK):      /data/reddylab/Kuei/repo/Proj_ENCODE_FCC/notebooks\n",
      "PROJECT DOCS    (FD_DOC):      /data/reddylab/Kuei/repo/Proj_ENCODE_FCC/docs\n",
      "PROJECT LOG     (FD_LOG):      /data/reddylab/Kuei/repo/Proj_ENCODE_FCC/log\n",
      "PROJECT APP     (FD_APP):      \n",
      "PROJECT REF     (FD_REF):      /data/reddylab/Kuei/repo/Proj_ENCODE_FCC/references\n",
      "PROJECT IMAGE   (FP_PRJ_SIF):  /data/reddylab/Kuei/container/project/singularity_proj_encode_fcc.sif\n",
      "\n"
     ]
    }
   ],
   "source": [
    "source ../run_config_project.sh\n",
    "show_env"
   ]
  },
  {
   "cell_type": "code",
   "execution_count": 2,
   "id": "da35d284-b301-49b6-9485-2d426b7ffc0b",
   "metadata": {},
   "outputs": [
    {
     "name": "stdout",
     "output_type": "stream",
     "text": [
      "/data/reddylab/Kuei/repo/Proj_ENCODE_FCC/scripts\n"
     ]
    }
   ],
   "source": [
    "echo ${FD_EXE}"
   ]
  },
  {
   "cell_type": "code",
   "execution_count": 4,
   "id": "d383d944-5bdb-4512-8505-044388731498",
   "metadata": {},
   "outputs": [
    {
     "name": "stdout",
     "output_type": "stream",
     "text": [
      "\u001b[0m\u001b[38;5;27mapp_bedops\u001b[0m  \u001b[38;5;34mbedextract\u001b[0m  \u001b[38;5;34mbedops\u001b[0m  \u001b[38;5;34mbedtools\u001b[0m  sing_template.sh  \u001b[38;5;27mucsc\u001b[0m\n"
     ]
    }
   ],
   "source": [
    "ls ${FD_EXE}/app_duke_hardac"
   ]
  },
  {
   "cell_type": "code",
   "execution_count": 6,
   "id": "e5de0537-e013-43ad-a16d-f9618b99613d",
   "metadata": {},
   "outputs": [
    {
     "name": "stdout",
     "output_type": "stream",
     "text": [
      "2to3\n",
      "2to3-3.9\n",
      "addCols\n",
      "ameme\n",
      "autoDtd\n",
      "autoSql\n",
      "autoXml\n",
      "aveCols\n",
      "axtChain\n",
      "axtSort\n"
     ]
    }
   ],
   "source": [
    "ls /data/common/shared_conda_envs/ucsc/bin | head"
   ]
  },
  {
   "cell_type": "code",
   "execution_count": 7,
   "id": "7f523e36-21fb-439d-bb7e-d59ac5d5119d",
   "metadata": {},
   "outputs": [
    {
     "name": "stdout",
     "output_type": "stream",
     "text": [
      "\u001b[01;31m\u001b[KbigWig\u001b[m\u001b[KAverageOverBed\n",
      "\u001b[01;31m\u001b[KbigWig\u001b[m\u001b[KCat\n",
      "\u001b[01;31m\u001b[KbigWig\u001b[m\u001b[KCluster\n",
      "\u001b[01;31m\u001b[KbigWig\u001b[m\u001b[KCorrelate\n",
      "\u001b[01;31m\u001b[KbigWig\u001b[m\u001b[KInfo\n",
      "\u001b[01;31m\u001b[KbigWig\u001b[m\u001b[KMerge\n",
      "\u001b[01;31m\u001b[KbigWig\u001b[m\u001b[KSummary\n",
      "\u001b[01;31m\u001b[KbigWig\u001b[m\u001b[KToBedGraph\n",
      "\u001b[01;31m\u001b[KbigWig\u001b[m\u001b[KToWig\n"
     ]
    }
   ],
   "source": [
    "ls /data/common/shared_conda_envs/ucsc/bin | grep bigWig"
   ]
  },
  {
   "cell_type": "markdown",
   "id": "27cd8dc4-717b-4411-b6c1-0311b8c9c7fe",
   "metadata": {},
   "source": [
    "FP_EXE=${FD_EXE}/app_duke_hardac/ucsc/bigWigAverageOverBed\n",
    "cat > ${FP_EXE} << 'EOF'\n",
    "#!/bin/bash\n",
    "\n",
    "#########################################\n",
    "### Wrapper of UCSC bigWigAverageOverBed\n",
    "### =====================================\n",
    "\n",
    "FD_UCSC=/data/common/shared_conda_envs/ucsc/bin\n",
    "\n",
    "CMD=${FD_UCSC}/bigWigAverageOverBed\n",
    "ARGS=\"$@\"\n",
    "\n",
    "${CMD} ${ARGS}\n",
    "\n",
    "EOF\n",
    "\n",
    "chmod +x ${FP_EXE}"
   ]
  },
  {
   "cell_type": "code",
   "execution_count": null,
   "id": "ac52dbf9-7db4-4452-a722-916588b3c0c3",
   "metadata": {},
   "outputs": [],
   "source": []
  },
  {
   "cell_type": "code",
   "execution_count": null,
   "id": "fe33f628-29d8-4ddc-ac23-15093b662024",
   "metadata": {},
   "outputs": [],
   "source": []
  },
  {
   "cell_type": "markdown",
   "id": "f344104a-3d01-4780-88b0-3a394356bd6d",
   "metadata": {},
   "source": [
    "## Setup scripts for running UCSC command"
   ]
  },
  {
   "cell_type": "code",
   "execution_count": 2,
   "id": "65c1bebe-21db-47e1-b52a-d2a08bc869a5",
   "metadata": {},
   "outputs": [
    {
     "name": "stdout",
     "output_type": "stream",
     "text": [
      "\u001b[0m\u001b[38;5;34mconfig_func.sh\u001b[0m                  \u001b[38;5;34mrun_bedtools_intersect.sh\u001b[0m\n",
      "\u001b[38;5;34mconfig_load_module_bedtools.sh\u001b[0m  \u001b[38;5;34mrun_bedtools_intersect_unique.sh\u001b[0m\n",
      "\u001b[38;5;34mconfig_path_duke_hardac.sh\u001b[0m      \u001b[38;5;34mrun_bedtools_test.sh\u001b[0m\n",
      "\u001b[38;5;34mconfig_path_sing.sh\u001b[0m             run_calulate_lib_size.sh\n",
      "\u001b[38;5;34mconfig_project.sh\u001b[0m               \u001b[38;5;34mrun_liftOver.sh\u001b[0m\n",
      "\u001b[38;5;34mconfig_project_sing.py\u001b[0m          \u001b[38;5;34mrun_script_test.sh\u001b[0m\n",
      "\u001b[38;5;34mconfig_project_sing.R\u001b[0m           \u001b[38;5;34msing_jupyter.sh\u001b[0m\n",
      "config_project_site.R           \u001b[38;5;34msing_quarto.sh\u001b[0m\n",
      "\u001b[38;5;34mconfig_venv_wrapper.sh\u001b[0m          \u001b[38;5;34msing_script.sh\u001b[0m\n",
      "\u001b[38;5;34mrun_bedtools_coverage.sh\u001b[0m\n"
     ]
    }
   ],
   "source": [
    "ls ${FD_EXE}"
   ]
  },
  {
   "cell_type": "code",
   "execution_count": 5,
   "id": "f7487cd8-ade8-4d3e-91ab-62df1fbbf8e9",
   "metadata": {},
   "outputs": [],
   "source": [
    "cat > ${FD_EXE}/run_liftOver.sh << 'EOF'\n",
    "#!/bin/bash\n",
    "\n",
    "FD_UCSC=/data/common/shared_conda_envs/ucsc/bin\n",
    "CMD=${FD_UCSC}/liftOver\n",
    "ARGS=\"$@\"\n",
    "\n",
    "${CMD} ${ARGS}\n",
    "\n",
    "EOF"
   ]
  },
  {
   "cell_type": "markdown",
   "id": "410f891f-7482-4af5-9fc9-b7966f7be39b",
   "metadata": {
    "tags": []
   },
   "source": [
    "**Test scripts**"
   ]
  },
  {
   "cell_type": "code",
   "execution_count": 4,
   "id": "3ee5cc2d-e864-44dc-aca3-bd9208a990c4",
   "metadata": {},
   "outputs": [],
   "source": [
    "chmod +x ${FD_EXE}/*"
   ]
  },
  {
   "cell_type": "code",
   "execution_count": 5,
   "id": "93489628-e587-40a9-9973-d5e5757817ea",
   "metadata": {
    "tags": []
   },
   "outputs": [
    {
     "name": "stdout",
     "output_type": "stream",
     "text": [
      "liftOver - Move annotations from one assembly to another\n",
      "usage:\n",
      "   liftOver oldFile map.chain newFile unMapped\n",
      "oldFile and newFile are in bed format by default, but can be in GFF and\n",
      "maybe eventually others with the appropriate flags below.\n",
      "The map.chain file has the old genome as the target and the new genome\n",
      "as the query.\n",
      "\n",
      "***********************************************************************\n",
      "WARNING: liftOver was only designed to work between different\n",
      "         assemblies of the same organism. It may not do what you want\n",
      "         if you are lifting between different organisms. If there has\n",
      "         been a rearrangement in one of the species, the size of the\n",
      "         region being mapped may change dramatically after mapping.\n",
      "***********************************************************************\n",
      "\n",
      "options:\n",
      "   -minMatch=0.N Minimum ratio of bases that must remap. Default 0.95\n",
      "   -gff  File is in gff/gtf format.  Note that the gff lines are converted\n",
      "         separately.  It would be good to have a separate check after this\n",
      "         that the lines that make up a gene model still make a plausible gene\n",
      "         after liftOver\n",
      "   -genePred - File is in genePred format\n",
      "   -sample - File is in sample format\n",
      "   -bedPlus=N - File is bed N+ format (i.e. first N fields conform to bed format)\n",
      "   -positions - File is in browser \"position\" format\n",
      "   -hasBin - File has bin value (used only with -bedPlus)\n",
      "   -tab - Separate by tabs rather than space (used only with -bedPlus)\n",
      "   -pslT - File is in psl format, map target side only\n",
      "   -ends=N - Lift the first and last N bases of each record and combine the\n",
      "             result. This is useful for lifting large regions like BAC end pairs.\n",
      "   -minBlocks=0.N Minimum ratio of alignment blocks or exons that must map\n",
      "                  (default 1.00)\n",
      "   -fudgeThick    (bed 12 or 12+ only) If thickStart/thickEnd is not mapped,\n",
      "                  use the closest mapped base.  Recommended if using \n",
      "                  -minBlocks.\n",
      "   -multiple               Allow multiple output regions\n",
      "   -noSerial               In -multiple mode, do not put a serial number in the 5th BED column\n",
      "   -minChainT, -minChainQ  Minimum chain size in target/query, when mapping\n",
      "                           to multiple output regions (default 0, 0)\n",
      "   -minSizeT               deprecated synonym for -minChainT (ENCODE compat.)\n",
      "   -minSizeQ               Min matching region size in query with -multiple.\n",
      "   -chainTable             Used with -multiple, format is db.tablename,\n",
      "                               to extend chains from net (preserves dups)\n",
      "   -errorHelp              Explain error messages\n",
      "\n"
     ]
    },
    {
     "ename": "",
     "evalue": "255",
     "output_type": "error",
     "traceback": []
    }
   ],
   "source": [
    "${FD_EXE}/run_liftOver.sh"
   ]
  },
  {
   "cell_type": "code",
   "execution_count": 6,
   "id": "03bf1a69-0d6f-403a-9e84-b6d5e5c0252d",
   "metadata": {},
   "outputs": [],
   "source": [
    "cat > ${FD_EXE}/run_bigWigToWig.sh << 'EOF'\n",
    "#!/bin/bash\n",
    "\n",
    "FD_UCSC=/data/common/shared_conda_envs/ucsc/bin\n",
    "CMD=${FD_UCSC}/bigWigToWig\n",
    "ARGS=\"$@\"\n",
    "\n",
    "${CMD} ${ARGS}\n",
    "\n",
    "EOF"
   ]
  },
  {
   "cell_type": "markdown",
   "id": "c3f58bca-b41f-4e87-a022-cd5fb46c02d6",
   "metadata": {
    "tags": []
   },
   "source": [
    "**Test scripts**"
   ]
  },
  {
   "cell_type": "code",
   "execution_count": 7,
   "id": "d3df3f14-4d9f-4704-bf39-3a1f659d3bd6",
   "metadata": {},
   "outputs": [],
   "source": [
    "chmod +x ${FD_EXE}/*"
   ]
  },
  {
   "cell_type": "code",
   "execution_count": 8,
   "id": "15ef09af-08f8-4831-9413-5183280e2645",
   "metadata": {
    "tags": []
   },
   "outputs": [
    {
     "name": "stdout",
     "output_type": "stream",
     "text": [
      "bigWigToWig - Convert bigWig to wig.  This will keep more of the same structure of the\n",
      "original wig than bigWigToBedGraph does, but still will break up large stepped sections\n",
      "into smaller ones.\n",
      "usage:\n",
      "   bigWigToWig in.bigWig out.wig\n",
      "options:\n",
      "   -chrom=chr1 - if set restrict output to given chromosome\n",
      "   -start=N - if set, restrict output to only that over start\n",
      "   -end=N - if set, restict output to only that under end\n",
      "   -udcDir=/dir/to/cache - place to put cache for remote bigBed/bigWigs\n",
      "\n"
     ]
    },
    {
     "ename": "",
     "evalue": "255",
     "output_type": "error",
     "traceback": []
    }
   ],
   "source": [
    "${FD_EXE}/run_bigWigToWig.sh"
   ]
  },
  {
   "cell_type": "code",
   "execution_count": 9,
   "id": "ca71f5ca-399e-433e-8c1b-8cbaa723b6d7",
   "metadata": {},
   "outputs": [
    {
     "name": "stdout",
     "output_type": "stream",
     "text": [
      "bash: wig2bed: command not found\n"
     ]
    },
    {
     "ename": "",
     "evalue": "127",
     "output_type": "error",
     "traceback": []
    }
   ],
   "source": [
    "wig2bed"
   ]
  },
  {
   "cell_type": "code",
   "execution_count": null,
   "id": "110ae8f6-b961-4863-896d-fc552fe4119b",
   "metadata": {},
   "outputs": [],
   "source": []
  }
 ],
 "metadata": {
  "kernelspec": {
   "display_name": "Bash",
   "language": "bash",
   "name": "bash"
  },
  "language_info": {
   "codemirror_mode": "shell",
   "file_extension": ".sh",
   "mimetype": "text/x-sh",
   "name": "bash"
  }
 },
 "nbformat": 4,
 "nbformat_minor": 5
}
