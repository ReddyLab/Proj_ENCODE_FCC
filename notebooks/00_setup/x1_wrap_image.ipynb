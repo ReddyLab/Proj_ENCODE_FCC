{
 "cells": [
  {
   "cell_type": "code",
   "execution_count": 1,
   "id": "ecee492b-2c7f-43f0-b923-b6563d88d6a6",
   "metadata": {},
   "outputs": [
    {
     "name": "stdout",
     "output_type": "stream",
     "text": [
      "\u001b[0m\u001b[38;5;51madmin\u001b[0m  \u001b[38;5;27mboot\u001b[0m  \u001b[38;5;27mdev\u001b[0m  \u001b[38;5;27mgpfs\u001b[0m  \u001b[38;5;51mlib\u001b[0m    \u001b[38;5;27mmedia\u001b[0m  \u001b[38;5;27mnfs\u001b[0m  \u001b[38;5;27mproc\u001b[0m  \u001b[38;5;27mrun\u001b[0m   \u001b[38;5;27msrv\u001b[0m  \u001b[48;5;10;38;5;16mtmp\u001b[0m  \u001b[38;5;27mvar\u001b[0m\n",
      "\u001b[38;5;51mbin\u001b[0m    \u001b[38;5;51mdata\u001b[0m  \u001b[38;5;27metc\u001b[0m  \u001b[38;5;51mhome\u001b[0m  \u001b[38;5;51mlib64\u001b[0m  \u001b[38;5;27mmnt\u001b[0m    \u001b[38;5;27mopt\u001b[0m  \u001b[38;5;27mroot\u001b[0m  \u001b[38;5;51msbin\u001b[0m  \u001b[38;5;27msys\u001b[0m  \u001b[38;5;27musr\u001b[0m\n"
     ]
    }
   ],
   "source": [
    "ls /"
   ]
  },
  {
   "cell_type": "code",
   "execution_count": 2,
   "id": "97996ebd-83c3-4797-97a9-0b394fa710a3",
   "metadata": {},
   "outputs": [
    {
     "name": "stdout",
     "output_type": "stream",
     "text": [
      "You are working on             Duke Server: HARDAC\n",
      "BASE DIRECTORY (FD_BASE):      /data/reddylab/Kuei\n",
      "REPO DIRECTORY (FD_REPO):      /data/reddylab/Kuei/repo\n",
      "WORK DIRECTORY (FD_WORK):      /data/reddylab/Kuei/work\n",
      "DATA DIRECTORY (FD_DATA):      /data/reddylab/Kuei/data\n",
      "CONTAINER DIR. (FD_SING):      /data/reddylab/Kuei/container\n",
      "\n",
      "You are working with           ENCODE FCC\n",
      "PATH OF PROJECT (FD_PRJ):      /data/reddylab/Kuei/repo/Proj_ENCODE_FCC\n",
      "PROJECT RESULTS (FD_RES):      /data/reddylab/Kuei/repo/Proj_ENCODE_FCC/results\n",
      "PROJECT SCRIPTS (FD_EXE):      /data/reddylab/Kuei/repo/Proj_ENCODE_FCC/scripts\n",
      "PROJECT DATA    (FD_DAT):      /data/reddylab/Kuei/repo/Proj_ENCODE_FCC/data\n",
      "PROJECT NOTE    (FD_NBK):      /data/reddylab/Kuei/repo/Proj_ENCODE_FCC/notebooks\n",
      "PROJECT DOCS    (FD_DOC):      /data/reddylab/Kuei/repo/Proj_ENCODE_FCC/docs\n",
      "PROJECT LOG     (FD_LOG):      /data/reddylab/Kuei/repo/Proj_ENCODE_FCC/log\n",
      "PROJECT APP     (FD_APP):      /data/reddylab/Kuei/repo/Proj_ENCODE_FCC/app\n",
      "PROJECT REF     (FD_REF):      /data/reddylab/Kuei/repo/Proj_ENCODE_FCC/references\n",
      "PROJECT IMAGE   (FP_PRJ_SIF):  /data/reddylab/Kuei/repo/Proj_ENCODE_FCC/app/singularity_proj_encode_fcc.sif\n",
      "\n"
     ]
    }
   ],
   "source": [
    "source ../run_config_project.sh\n",
    "show_env"
   ]
  },
  {
   "cell_type": "code",
   "execution_count": 13,
   "id": "0740df11-f24a-48e6-9e05-bd4381f31b04",
   "metadata": {},
   "outputs": [
    {
     "name": "stdout",
     "output_type": "stream",
     "text": [
      "\u001b[0m\u001b[38;5;34mconfig_func.sh\u001b[0m                  \u001b[38;5;34mrun_bedtools_intersect.sh\u001b[0m\n",
      "config_load_module_bedops.sh    \u001b[38;5;34mrun_bedtools_intersect_unique.sh\u001b[0m\n",
      "\u001b[38;5;34mconfig_load_module_bedtools.sh\u001b[0m  \u001b[38;5;34mrun_bedtools_summary.sh\u001b[0m\n",
      "\u001b[38;5;34mconfig_path_duke_hardac.sh\u001b[0m      \u001b[38;5;34mrun_bedtools_test.sh\u001b[0m\n",
      "\u001b[38;5;34mconfig_path_sing.sh\u001b[0m             \u001b[38;5;34mrun_bigWigToWig.sh\u001b[0m\n",
      "\u001b[38;5;34mconfig_project.sh\u001b[0m               \u001b[38;5;34mrun_calulate_lib_size.sh\u001b[0m\n",
      "\u001b[38;5;34mconfig_project_sing.py\u001b[0m          \u001b[38;5;34mrun_liftOver.sh\u001b[0m\n",
      "\u001b[38;5;34mconfig_project_sing.R\u001b[0m           \u001b[38;5;34mrun_script_test.sh\u001b[0m\n",
      "\u001b[38;5;34mconfig_project_site.R\u001b[0m           \u001b[38;5;34msing_jupyter.sh\u001b[0m\n",
      "\u001b[38;5;34mconfig_venv_wrapper.sh\u001b[0m          \u001b[38;5;34msing_quarto.sh\u001b[0m\n",
      "\u001b[38;5;34mrun_bedtools_coverage.sh\u001b[0m        \u001b[38;5;34msing_script.sh\u001b[0m\n"
     ]
    }
   ],
   "source": [
    "ls ${FD_EXE}"
   ]
  },
  {
   "cell_type": "code",
   "execution_count": 14,
   "id": "923add63-afd9-4104-9c0f-c9ca28fa4b87",
   "metadata": {},
   "outputs": [
    {
     "name": "stdout",
     "output_type": "stream",
     "text": [
      "#!/bin/bash\n",
      "\n",
      "#########################################\n",
      "### Wrapper of PLACEHOLDER_CMD container\n",
      "### =====================================\n",
      "\n",
      "IMAGE=PLACEHOLDER_IMG\n",
      "\n",
      "CMD=\"PLACEHOLDER_CMD\"\n",
      "ARGS=\"$@\"\n",
      "\n",
      "singularity exec   \\\n",
      "    -B ${PWD}      \\\n",
      "    -B /data:/data \\\n",
      "    -B /gpfs:/gpfs \\\n",
      "    ${IMAGE} ${CMD} ${ARGS}\n"
     ]
    }
   ],
   "source": [
    "FDIRY=${FD_EXE}/app_duke_hardac\n",
    "FNAME=sing_template.sh\n",
    "FPATH=${FDIRY}/${FNAME}\n",
    "\n",
    "cat > ${FPATH} << 'EOF'\n",
    "#!/bin/bash\n",
    "\n",
    "#########################################\n",
    "### Wrapper of PLACEHOLDER_CMD container\n",
    "### =====================================\n",
    "\n",
    "IMAGE=PLACEHOLDER_IMG\n",
    "\n",
    "CMD=\"PLACEHOLDER_CMD\"\n",
    "ARGS=\"$@\"\n",
    "\n",
    "singularity exec   \\\n",
    "    -B ${PWD}      \\\n",
    "    -B /data:/data \\\n",
    "    -B /gpfs:/gpfs \\\n",
    "    ${IMAGE} ${CMD} ${ARGS}\n",
    "EOF\n",
    "\n",
    "cat ${FPATH}"
   ]
  },
  {
   "cell_type": "code",
   "execution_count": 26,
   "id": "3a30d18d-2ca5-4600-835b-95c354cc63ec",
   "metadata": {},
   "outputs": [
    {
     "name": "stdout",
     "output_type": "stream",
     "text": [
      "#!/bin/bash\n",
      "\n",
      "#########################################\n",
      "### Wrapper of bedtools container\n",
      "### =====================================\n",
      "\n",
      "IMAGE=/data/reddylab/Kuei/container/biocontainer/bedtools:2.31.1--hf5e1c6e_1\n",
      "\n",
      "CMD=\"bedtools\"\n",
      "ARGS=\"$@\"\n",
      "\n",
      "singularity exec   \\\n",
      "    -B ${PWD}      \\\n",
      "    -B /data:/data \\\n",
      "    -B /gpfs:/gpfs \\\n",
      "    ${IMAGE} ${CMD} ${ARGS}\n"
     ]
    }
   ],
   "source": [
    "CMD=\"bedtools\"\n",
    "IMG=${FD_SING}/biocontainer/\"bedtools:2.31.1--hf5e1c6e_1\"\n",
    "\n",
    "FD_INP=${FD_EXE}/app_duke_hardac\n",
    "FN_INP=sing_template.sh\n",
    "FP_INP=${FD_INP}/${FN_INP}\n",
    "\n",
    "FD_OUT=${FD_INP}\n",
    "FN_OUT=${CMD}\n",
    "FP_OUT=${FD_OUT}/${FN_OUT}\n",
    "\n",
    "cp ${FP_INP} ${FP_OUT}\n",
    "sed -i \"s|PLACEHOLDER_IMG|${IMG}|g\" ${FP_OUT}\n",
    "sed -i \"s|PLACEHOLDER_CMD|${CMD}|g\" ${FP_OUT}\n",
    "chmod +x ${FP_OUT}\n",
    "\n",
    "cat ${FP_OUT}"
   ]
  },
  {
   "cell_type": "code",
   "execution_count": 22,
   "id": "b41af6e4-5a80-4e3f-857c-8274413e46a2",
   "metadata": {},
   "outputs": [
    {
     "name": "stdout",
     "output_type": "stream",
     "text": [
      "bedtools  sing_template.sh\n"
     ]
    }
   ],
   "source": [
    "ls ${FD_EXE}/app_duke_hardac"
   ]
  },
  {
   "cell_type": "code",
   "execution_count": 21,
   "id": "e4ed3597-2c20-49a8-8c47-997cbe874762",
   "metadata": {},
   "outputs": [
    {
     "name": "stdout",
     "output_type": "stream",
     "text": [
      "bash: bedtools: command not found\n"
     ]
    },
    {
     "ename": "",
     "evalue": "127",
     "output_type": "error",
     "traceback": []
    }
   ],
   "source": [
    "bedtools"
   ]
  },
  {
   "cell_type": "code",
   "execution_count": 23,
   "id": "3fdb1c07-8a7b-448a-95a0-1291fb6c1235",
   "metadata": {},
   "outputs": [],
   "source": [
    "export PATH=\"${FD_EXE}/app_duke_hardac:$PATH\""
   ]
  },
  {
   "cell_type": "code",
   "execution_count": 24,
   "id": "b8e1576c-6006-48c2-9cd2-15d5d34f7853",
   "metadata": {},
   "outputs": [
    {
     "name": "stdout",
     "output_type": "stream",
     "text": [
      "/data/reddylab/Kuei/repo/Proj_ENCODE_FCC/scripts/app_duke_hardac:/gpfs/fs1/data/reddylab/Kuei/venv/env_jupyter/bin:/nfs/software/helmod/apps/Core/Anaconda3/2019.10-gcb02/x/condabin:/nfs/software/helmod/apps/Core/Anaconda3/2019.10-gcb02/x/bin:/gpfs/fs1/home/kk319/.vscode-server/bin/441438abd1ac652551dbe4d408dfcec8a499b8bf/bin/remote-cli:/usr/local/bin:/usr/bin:/usr/lpp/mmfs/bin:/usr/local/sbin:/usr/sbin:/home/kk319/bin\n"
     ]
    }
   ],
   "source": [
    "echo ${PATH}"
   ]
  },
  {
   "cell_type": "code",
   "execution_count": 28,
   "id": "9811f495-13a9-41c0-8314-61edf6f61600",
   "metadata": {},
   "outputs": [
    {
     "name": "stdout",
     "output_type": "stream",
     "text": [
      "bedtools v2.31.1\n"
     ]
    }
   ],
   "source": [
    "bedtools --version"
   ]
  },
  {
   "cell_type": "code",
   "execution_count": 27,
   "id": "d5096423-3588-4d91-9f04-53eb78794764",
   "metadata": {},
   "outputs": [
    {
     "name": "stdout",
     "output_type": "stream",
     "text": [
      "bedtools is a powerful toolset for genome arithmetic.\n",
      "\n",
      "Version:   v2.31.1\n",
      "About:     developed in the quinlanlab.org and by many contributors worldwide.\n",
      "Docs:      http://bedtools.readthedocs.io/\n",
      "Code:      https://github.com/arq5x/bedtools2\n",
      "Mail:      https://groups.google.com/forum/#!forum/bedtools-discuss\n",
      "\n",
      "Usage:     bedtools <subcommand> [options]\n",
      "\n",
      "The bedtools sub-commands include:\n",
      "\n",
      "[ Genome arithmetic ]\n",
      "    intersect     Find overlapping intervals in various ways.\n",
      "    window        Find overlapping intervals within a window around an interval.\n",
      "    closest       Find the closest, potentially non-overlapping interval.\n",
      "    coverage      Compute the coverage over defined intervals.\n",
      "    map           Apply a function to a column for each overlapping interval.\n",
      "    genomecov     Compute the coverage over an entire genome.\n",
      "    merge         Combine overlapping/nearby intervals into a single interval.\n",
      "    cluster       Cluster (but don't merge) overlapping/nearby intervals.\n",
      "    complement    Extract intervals _not_ represented by an interval file.\n",
      "    shift         Adjust the position of intervals.\n",
      "    subtract      Remove intervals based on overlaps b/w two files.\n",
      "    slop          Adjust the size of intervals.\n",
      "    flank         Create new intervals from the flanks of existing intervals.\n",
      "    sort          Order the intervals in a file.\n",
      "    random        Generate random intervals in a genome.\n",
      "    shuffle       Randomly redistribute intervals in a genome.\n",
      "    sample        Sample random records from file using reservoir sampling.\n",
      "    spacing       Report the gap lengths between intervals in a file.\n",
      "    annotate      Annotate coverage of features from multiple files.\n",
      "\n",
      "[ Multi-way file comparisons ]\n",
      "    multiinter    Identifies common intervals among multiple interval files.\n",
      "    unionbedg     Combines coverage intervals from multiple BEDGRAPH files.\n",
      "\n",
      "[ Paired-end manipulation ]\n",
      "    pairtobed     Find pairs that overlap intervals in various ways.\n",
      "    pairtopair    Find pairs that overlap other pairs in various ways.\n",
      "\n",
      "[ Format conversion ]\n",
      "    bamtobed      Convert BAM alignments to BED (& other) formats.\n",
      "    bedtobam      Convert intervals to BAM records.\n",
      "    bamtofastq    Convert BAM records to FASTQ records.\n",
      "    bedpetobam    Convert BEDPE intervals to BAM records.\n",
      "    bed12tobed6   Breaks BED12 intervals into discrete BED6 intervals.\n",
      "\n",
      "[ Fasta manipulation ]\n",
      "    getfasta      Use intervals to extract sequences from a FASTA file.\n",
      "    maskfasta     Use intervals to mask sequences from a FASTA file.\n",
      "    nuc           Profile the nucleotide content of intervals in a FASTA file.\n",
      "\n",
      "[ BAM focused tools ]\n",
      "    multicov      Counts coverage from multiple BAMs at specific intervals.\n",
      "    tag           Tag BAM alignments based on overlaps with interval files.\n",
      "\n",
      "[ Statistical relationships ]\n",
      "    jaccard       Calculate the Jaccard statistic b/w two sets of intervals.\n",
      "    reldist       Calculate the distribution of relative distances b/w two files.\n",
      "    fisher        Calculate Fisher statistic b/w two feature files.\n",
      "\n",
      "[ Miscellaneous tools ]\n",
      "    overlap       Computes the amount of overlap from two intervals.\n",
      "    igv           Create an IGV snapshot batch script.\n",
      "    links         Create a HTML page of links to UCSC locations.\n",
      "    makewindows   Make interval \"windows\" across a genome.\n",
      "    groupby       Group by common cols. & summarize oth. cols. (~ SQL \"groupBy\")\n",
      "    expand        Replicate lines based on lists of values in columns.\n",
      "    split         Split a file into multiple files with equal records or base pairs.\n",
      "    summary       Statistical summary of intervals in a file.\n",
      "\n",
      "[ General Parameters ]\n",
      "     --cram-ref    Reference used by a CRAM input\n",
      "\n",
      "[ General help ]\n",
      "    --help        Print this help menu.\n",
      "    --version     What version of bedtools are you using?.\n",
      "    --contact     Feature requests, bugs, mailing lists, etc.\n",
      "\n"
     ]
    }
   ],
   "source": [
    "bedtools --help"
   ]
  },
  {
   "cell_type": "code",
   "execution_count": 29,
   "id": "93f0fe56-ee9c-4af0-b906-848981f6b2aa",
   "metadata": {},
   "outputs": [],
   "source": [
    "TAB=\"$(printf '\\t')\"\n",
    "\n",
    "cat > A.bed << EOF\n",
    "chr1${TAB}10${TAB}20\n",
    "chr1${TAB}20${TAB}40\n",
    "EOF\n",
    "\n",
    "cat > B.bed << EOF\n",
    "chr1${TAB}15${TAB}20\n",
    "EOF"
   ]
  },
  {
   "cell_type": "code",
   "execution_count": 30,
   "id": "946b2c61-e05b-49fa-8e92-035a7657e31e",
   "metadata": {},
   "outputs": [
    {
     "name": "stdout",
     "output_type": "stream",
     "text": [
      "chr1\t15\t20\n"
     ]
    }
   ],
   "source": [
    "bedtools intersect -a ./A.bed -b ./B.bed"
   ]
  },
  {
   "cell_type": "code",
   "execution_count": null,
   "id": "52b33dca-97eb-4fe2-b906-a98f3ab4c9bf",
   "metadata": {},
   "outputs": [],
   "source": []
  },
  {
   "cell_type": "code",
   "execution_count": null,
   "id": "eb3df5a8-844d-4cb8-9823-be019a3dfbff",
   "metadata": {},
   "outputs": [],
   "source": []
  },
  {
   "cell_type": "code",
   "execution_count": null,
   "id": "ae266fed-5ed5-47dc-b4d0-16f238557009",
   "metadata": {},
   "outputs": [],
   "source": [
    "CMD=\"bedtools\"\n",
    "IMG=${FD_SING}/biocontainer/\"bedtools:2.31.1--hf5e1c6e_1\""
   ]
  },
  {
   "cell_type": "code",
   "execution_count": null,
   "id": "6cb7084b-3a0b-4fda-a1a3-5f78ffeb2899",
   "metadata": {},
   "outputs": [],
   "source": []
  },
  {
   "cell_type": "code",
   "execution_count": null,
   "id": "5ccbe1b4-eea3-4f00-8b4f-7d037500d4ab",
   "metadata": {},
   "outputs": [],
   "source": []
  },
  {
   "cell_type": "code",
   "execution_count": 3,
   "id": "0d9dcd73-5ddd-4f8a-8711-a0874b3bcebe",
   "metadata": {},
   "outputs": [
    {
     "name": "stdout",
     "output_type": "stream",
     "text": [
      "\u001b[0m\u001b[38;5;27mbiocontainer\u001b[0m  \u001b[38;5;27mhome\u001b[0m  \u001b[38;5;27mproject\u001b[0m  \u001b[38;5;27mproject_backup\u001b[0m  \u001b[38;5;27mproject_tmp\u001b[0m  \u001b[38;5;27mrstudio_tmp\u001b[0m  \u001b[38;5;27mtoolbox\u001b[0m\n"
     ]
    }
   ],
   "source": [
    "ls ${FD_SING}"
   ]
  },
  {
   "cell_type": "code",
   "execution_count": 4,
   "id": "ef420541-aabc-44c0-8085-69a97681665a",
   "metadata": {},
   "outputs": [
    {
     "name": "stdout",
     "output_type": "stream",
     "text": [
      "\u001b[0m\u001b[38;5;34mbedtools:2.30.0--h468198e_3\u001b[0m  \u001b[38;5;34mbedtools:2.31.1--hf5e1c6e_1\u001b[0m  \u001b[38;5;34mdeeptools:3.5.1--py_0\u001b[0m\n"
     ]
    }
   ],
   "source": [
    "ls ${FD_SING}/biocontainer"
   ]
  },
  {
   "cell_type": "code",
   "execution_count": 5,
   "id": "0498aca1-7098-4ccf-8c5a-929c1a5a8061",
   "metadata": {},
   "outputs": [],
   "source": [
    "CMD=\"bedtools\"\n",
    "IMG=\"bedtools:2.31.1--hf5e1c6e_1\"\n",
    "URL=\"https://depot.galaxyproject.org/singularity/${IMG}\"\n",
    "DIR=${FD_SING}/biocontainer"
   ]
  },
  {
   "cell_type": "code",
   "execution_count": 6,
   "id": "267d6bbc-5611-45b5-aea7-bfcf52fbc794",
   "metadata": {},
   "outputs": [],
   "source": [
    "FPATH=./${CMD}\n",
    "\n",
    "cat > ${FPATH} << 'EOF'\n",
    "#!/bin/bash\n",
    "\n",
    "#########################################\n",
    "### Wrapper of PLACEHOLDER_CMD container\n",
    "### =====================================\n",
    "\n",
    "IMAGE=PLACEHOLDER_DIR/PLACEHOLDER_IMG\n",
    "\n",
    "CMD=\"PLACEHOLDER_CMD\"\n",
    "ARGS=\"$@\"\n",
    "\n",
    "singularity exec   \\\n",
    "    -B ${PWD}      \\\n",
    "    -B /data:/data \\\n",
    "    -B /gpfs:/gpfs \\\n",
    "    ${IMAGE} ${CMD} ${ARGS}\n",
    "EOF"
   ]
  },
  {
   "cell_type": "code",
   "execution_count": 7,
   "id": "f109641e-3a76-4bc0-a727-dda91addca3c",
   "metadata": {},
   "outputs": [
    {
     "name": "stdout",
     "output_type": "stream",
     "text": [
      "#!/bin/bash\n",
      "\n",
      "#########################################\n",
      "### Wrapper of PLACEHOLDER_CMD container\n",
      "### =====================================\n",
      "\n",
      "IMAGE=PLACEHOLDER_DIR/PLACEHOLDER_IMG\n",
      "\n",
      "CMD=\"PLACEHOLDER_CMD\"\n",
      "ARGS=\"$@\"\n",
      "\n",
      "singularity exec   \\\n",
      "    -B ${PWD}      \\\n",
      "    -B /data:/data \\\n",
      "    -B /gpfs:/gpfs \\\n",
      "    ${IMAGE} ${CMD} ${ARGS}\n"
     ]
    }
   ],
   "source": [
    "cat ${FPATH}"
   ]
  },
  {
   "cell_type": "code",
   "execution_count": 8,
   "id": "ef0cc58d-9023-4598-b990-b191006e19a8",
   "metadata": {},
   "outputs": [
    {
     "name": "stdout",
     "output_type": "stream",
     "text": [
      "#!/bin/bash\n",
      "\n",
      "#########################################\n",
      "### Wrapper of bedtools container\n",
      "### =====================================\n",
      "\n",
      "IMAGE=/data/reddylab/Kuei/container/biocontainer/bedtools:2.31.1--hf5e1c6e_1\n",
      "\n",
      "CMD=\"bedtools\"\n",
      "ARGS=\"$@\"\n",
      "\n",
      "singularity exec   \\\n",
      "    -B ${PWD}      \\\n",
      "    -B /data:/data \\\n",
      "    -B /gpfs:/gpfs \\\n",
      "    ${IMAGE} ${CMD} ${ARGS}\n"
     ]
    }
   ],
   "source": [
    "sed -i \"s|PLACEHOLDER_DIR|${DIR}|g\" ${FPATH}\n",
    "sed -i \"s|PLACEHOLDER_IMG|${IMG}|g\" ${FPATH}\n",
    "sed -i \"s|PLACEHOLDER_CMD|${CMD}|g\" ${FPATH}\n",
    "chmod +x ${FPATH}\n",
    "cat      ${FPATH}"
   ]
  },
  {
   "cell_type": "code",
   "execution_count": 10,
   "id": "1aa31f6f-6ea6-4dfa-88a0-2387e2105ed6",
   "metadata": {},
   "outputs": [
    {
     "name": "stdout",
     "output_type": "stream",
     "text": [
      "bedtools is a powerful toolset for genome arithmetic.\n",
      "\n",
      "Version:   v2.31.1\n",
      "About:     developed in the quinlanlab.org and by many contributors worldwide.\n",
      "Docs:      http://bedtools.readthedocs.io/\n",
      "Code:      https://github.com/arq5x/bedtools2\n",
      "Mail:      https://groups.google.com/forum/#!forum/bedtools-discuss\n",
      "\n",
      "Usage:     bedtools <subcommand> [options]\n",
      "\n",
      "The bedtools sub-commands include:\n",
      "\n",
      "[ Genome arithmetic ]\n",
      "    intersect     Find overlapping intervals in various ways.\n",
      "    window        Find overlapping intervals within a window around an interval.\n",
      "    closest       Find the closest, potentially non-overlapping interval.\n",
      "    coverage      Compute the coverage over defined intervals.\n",
      "    map           Apply a function to a column for each overlapping interval.\n",
      "    genomecov     Compute the coverage over an entire genome.\n",
      "    merge         Combine overlapping/nearby intervals into a single interval.\n",
      "    cluster       Cluster (but don't merge) overlapping/nearby intervals.\n",
      "    complement    Extract intervals _not_ represented by an interval file.\n",
      "    shift         Adjust the position of intervals.\n",
      "    subtract      Remove intervals based on overlaps b/w two files.\n",
      "    slop          Adjust the size of intervals.\n",
      "    flank         Create new intervals from the flanks of existing intervals.\n",
      "    sort          Order the intervals in a file.\n",
      "    random        Generate random intervals in a genome.\n",
      "    shuffle       Randomly redistribute intervals in a genome.\n",
      "    sample        Sample random records from file using reservoir sampling.\n",
      "    spacing       Report the gap lengths between intervals in a file.\n",
      "    annotate      Annotate coverage of features from multiple files.\n",
      "\n",
      "[ Multi-way file comparisons ]\n",
      "    multiinter    Identifies common intervals among multiple interval files.\n",
      "    unionbedg     Combines coverage intervals from multiple BEDGRAPH files.\n",
      "\n",
      "[ Paired-end manipulation ]\n",
      "    pairtobed     Find pairs that overlap intervals in various ways.\n",
      "    pairtopair    Find pairs that overlap other pairs in various ways.\n",
      "\n",
      "[ Format conversion ]\n",
      "    bamtobed      Convert BAM alignments to BED (& other) formats.\n",
      "    bedtobam      Convert intervals to BAM records.\n",
      "    bamtofastq    Convert BAM records to FASTQ records.\n",
      "    bedpetobam    Convert BEDPE intervals to BAM records.\n",
      "    bed12tobed6   Breaks BED12 intervals into discrete BED6 intervals.\n",
      "\n",
      "[ Fasta manipulation ]\n",
      "    getfasta      Use intervals to extract sequences from a FASTA file.\n",
      "    maskfasta     Use intervals to mask sequences from a FASTA file.\n",
      "    nuc           Profile the nucleotide content of intervals in a FASTA file.\n",
      "\n",
      "[ BAM focused tools ]\n",
      "    multicov      Counts coverage from multiple BAMs at specific intervals.\n",
      "    tag           Tag BAM alignments based on overlaps with interval files.\n",
      "\n",
      "[ Statistical relationships ]\n",
      "    jaccard       Calculate the Jaccard statistic b/w two sets of intervals.\n",
      "    reldist       Calculate the distribution of relative distances b/w two files.\n",
      "    fisher        Calculate Fisher statistic b/w two feature files.\n",
      "\n",
      "[ Miscellaneous tools ]\n",
      "    overlap       Computes the amount of overlap from two intervals.\n",
      "    igv           Create an IGV snapshot batch script.\n",
      "    links         Create a HTML page of links to UCSC locations.\n",
      "    makewindows   Make interval \"windows\" across a genome.\n",
      "    groupby       Group by common cols. & summarize oth. cols. (~ SQL \"groupBy\")\n",
      "    expand        Replicate lines based on lists of values in columns.\n",
      "    split         Split a file into multiple files with equal records or base pairs.\n",
      "    summary       Statistical summary of intervals in a file.\n",
      "\n",
      "[ General Parameters ]\n",
      "     --cram-ref    Reference used by a CRAM input\n",
      "\n",
      "[ General help ]\n",
      "    --help        Print this help menu.\n",
      "    --version     What version of bedtools are you using?.\n",
      "    --contact     Feature requests, bugs, mailing lists, etc.\n",
      "\n"
     ]
    }
   ],
   "source": [
    "./bedtools --help"
   ]
  },
  {
   "cell_type": "code",
   "execution_count": 11,
   "id": "fe500ee8-5e15-4b37-8111-edc46cca4999",
   "metadata": {},
   "outputs": [],
   "source": [
    "TAB=\"$(printf '\\t')\"\n",
    "\n",
    "cat > A.bed << EOF\n",
    "chr1${TAB}10${TAB}20\n",
    "chr1${TAB}20${TAB}40\n",
    "EOF\n",
    "\n",
    "cat > B.bed << EOF\n",
    "chr1${TAB}15${TAB}20\n",
    "EOF"
   ]
  },
  {
   "cell_type": "code",
   "execution_count": 12,
   "id": "a04f26cb-9b12-48a5-80ca-c88efefa627f",
   "metadata": {},
   "outputs": [
    {
     "name": "stdout",
     "output_type": "stream",
     "text": [
      "chr1\t15\t20\n"
     ]
    }
   ],
   "source": [
    "./bedtools intersect -a ./A.bed -b ./B.bed"
   ]
  },
  {
   "cell_type": "code",
   "execution_count": null,
   "id": "037f37d3-7476-4d16-8588-ee9b4d4f8b48",
   "metadata": {},
   "outputs": [],
   "source": []
  }
 ],
 "metadata": {
  "kernelspec": {
   "display_name": "Bash",
   "language": "bash",
   "name": "bash"
  },
  "language_info": {
   "codemirror_mode": "shell",
   "file_extension": ".sh",
   "mimetype": "text/x-sh",
   "name": "bash"
  }
 },
 "nbformat": 4,
 "nbformat_minor": 5
}
