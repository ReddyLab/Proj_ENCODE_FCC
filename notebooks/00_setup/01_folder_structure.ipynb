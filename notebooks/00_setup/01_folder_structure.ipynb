{
 "cells": [
  {
   "cell_type": "code",
   "execution_count": 1,
   "id": "20ee314f-3f69-4f0b-b09d-4a78db984943",
   "metadata": {},
   "outputs": [
    {
     "name": "stdout",
     "output_type": "stream",
     "text": [
      "\u001b[0m\u001b[38;5;27m00_setup\u001b[0m  \u001b[38;5;27m01_data_download\u001b[0m  \u001b[38;5;27m02_data_prepare\u001b[0m\n"
     ]
    }
   ],
   "source": [
    "ls ../"
   ]
  },
  {
   "cell_type": "code",
   "execution_count": 2,
   "id": "c624da64-10a5-4fb9-b8d6-fdfeca3bcc7b",
   "metadata": {},
   "outputs": [
    {
     "name": "stdout",
     "output_type": "stream",
     "text": [
      "\u001b[0m\u001b[38;5;27mdocs\u001b[0m  \u001b[38;5;27mnotebooks\u001b[0m  README.md  \u001b[38;5;27mreferences\u001b[0m  \u001b[38;5;27mscripts\u001b[0m  \u001b[38;5;27mtests\u001b[0m  \u001b[38;5;27mtmp\u001b[0m\n"
     ]
    }
   ],
   "source": [
    "ls ../../"
   ]
  },
  {
   "cell_type": "code",
   "execution_count": 3,
   "id": "078bb166-4422-44d4-ab95-2c90cfeffb57",
   "metadata": {},
   "outputs": [
    {
     "name": "stdout",
     "output_type": "stream",
     "text": [
      "/gpfs/fs1/data/reddylab/Kuei/repo/Proj_CombEffect_ENCODE_FCC/notebooks/00_setup\n"
     ]
    }
   ],
   "source": [
    "pwd"
   ]
  },
  {
   "cell_type": "code",
   "execution_count": 6,
   "id": "0f599ec2-ae28-45da-9bf7-123781301b42",
   "metadata": {},
   "outputs": [],
   "source": [
    "FD_WORK=/data/reddylab/Kuei/work\n",
    "FD_REPO=/data/reddylab/Kuei/repo"
   ]
  },
  {
   "cell_type": "code",
   "execution_count": 4,
   "id": "ec0c1c98-bac5-433a-903e-416b5884bc8f",
   "metadata": {},
   "outputs": [],
   "source": [
    "FD_PRJ=/data/reddylab/Kuei/repo/Proj_CombEffect_ENCODE_FCC"
   ]
  },
  {
   "cell_type": "code",
   "execution_count": 8,
   "id": "61458041-aa25-4ba2-b323-5eaf6c60fbcf",
   "metadata": {},
   "outputs": [
    {
     "name": "stdout",
     "output_type": "stream",
     "text": [
      "\u001b[0m\u001b[38;5;27mdata\u001b[0m  Readme.md  \u001b[38;5;9mresults_v1.tar.gz\u001b[0m  \u001b[38;5;27mresults_v3\u001b[0m\n",
      "\u001b[38;5;27mlog\u001b[0m   \u001b[38;5;27mresults\u001b[0m    \u001b[38;5;9mresults_v2.tar.gz\u001b[0m  \u001b[38;5;27msource\u001b[0m\n"
     ]
    }
   ],
   "source": [
    "ls ${FD_WORK}/proj_combeffect_encode_fcc"
   ]
  },
  {
   "cell_type": "code",
   "execution_count": 5,
   "id": "4a7ae951-1223-4f74-8b5c-e3cafd6edf90",
   "metadata": {},
   "outputs": [
    {
     "name": "stdout",
     "output_type": "stream",
     "text": [
      "\u001b[0m\u001b[38;5;27mdocs\u001b[0m  \u001b[38;5;27mnotebooks\u001b[0m  README.md  \u001b[38;5;27mreferences\u001b[0m  \u001b[38;5;27mscripts\u001b[0m  \u001b[38;5;27mtests\u001b[0m  \u001b[38;5;27mtmp\u001b[0m\n"
     ]
    }
   ],
   "source": [
    "ls ${FD_PRJ}"
   ]
  },
  {
   "cell_type": "markdown",
   "id": "44cc0760-fdf9-44ad-9dc7-6ade43408f29",
   "metadata": {},
   "source": [
    "## Create symlinks"
   ]
  },
  {
   "cell_type": "code",
   "execution_count": null,
   "id": "fdcffee1-d4de-4d0a-9a31-d44c4b3cf04e",
   "metadata": {},
   "outputs": [],
   "source": [
    "ls ls ${FD_PRJ}"
   ]
  }
 ],
 "metadata": {
  "kernelspec": {
   "display_name": "Bash",
   "language": "bash",
   "name": "bash"
  },
  "language_info": {
   "codemirror_mode": "shell",
   "file_extension": ".sh",
   "mimetype": "text/x-sh",
   "name": "bash"
  }
 },
 "nbformat": 4,
 "nbformat_minor": 5
}
