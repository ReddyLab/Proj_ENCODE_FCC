{
 "cells": [
  {
   "cell_type": "code",
   "execution_count": 1,
   "id": "61d922af-6ef1-4766-9f8a-6ad1fb6d0bf4",
   "metadata": {},
   "outputs": [
    {
     "name": "stdout",
     "output_type": "stream",
     "text": [
      "You are working on        Duke HARDAC\n",
      "BASE DIRECTORY (FD_BASE): /data/reddylab/Kuei\n",
      "REPO DIRECTORY (FD_REPO): /data/reddylab/Kuei/repo\n",
      "WORK DIRECTORY (FD_WORK): /data/reddylab/Kuei/work\n",
      "DATA DIRECTORY (FD_DATA): /data/reddylab/Kuei/data\n",
      "CONTAINER DIR. (FD_SING): /data/reddylab/Kuei/container\n",
      "\n",
      "You are working with      ENCODE FCC\n",
      "PATH OF PROJECT (FD_PRJ): /data/reddylab/Kuei/repo/Proj_CombEffect_ENCODE_FCC\n",
      "PROJECT RESULTS (FD_RES): /data/reddylab/Kuei/repo/Proj_CombEffect_ENCODE_FCC/results\n",
      "PROJECT SCRIPTS (FD_EXE): /data/reddylab/Kuei/repo/Proj_CombEffect_ENCODE_FCC/scripts\n",
      "PROJECT DATA    (FD_DAT): /data/reddylab/Kuei/repo/Proj_CombEffect_ENCODE_FCC/data\n",
      "PROJECT DOCS    (FD_DOC): /data/reddylab/Kuei/repo/Proj_CombEffect_ENCODE_FCC/docs\n",
      "PROJECT LOG     (FD_LOG): /data/reddylab/Kuei/repo/Proj_CombEffect_ENCODE_FCC/log\n",
      "PROJECT APP     (FD_APP): /data/reddylab/Kuei/repo/Proj_CombEffect_ENCODE_FCC/app\n",
      "PROJECT REF     (FD_REF): /data/reddylab/Kuei/repo/Proj_CombEffect_ENCODE_FCC/references\n",
      "PROJECT IMAGE   (FP_SIF): /data/reddylab/Kuei/repo/Proj_CombEffect_ENCODE_FCC/app/singularity_proj_encode_fcc.sif\n",
      "\n"
     ]
    }
   ],
   "source": [
    "source ../get_config.sh\n",
    "show_env"
   ]
  },
  {
   "cell_type": "code",
   "execution_count": 2,
   "id": "5f819fb7-2937-4325-ae42-28b92e997223",
   "metadata": {},
   "outputs": [
    {
     "name": "stdout",
     "output_type": "stream",
     "text": [
      "\u001b[0m\u001b[38;5;27mapp\u001b[0m  \u001b[38;5;27mdocs\u001b[0m  \u001b[38;5;27mnotebooks\u001b[0m  README.md  \u001b[38;5;27mreferences\u001b[0m  \u001b[38;5;27mscripts\u001b[0m  \u001b[38;5;27mtests\u001b[0m  test.txt  \u001b[38;5;27mtmp\u001b[0m\n"
     ]
    }
   ],
   "source": [
    "ls ${FD_PRJ}"
   ]
  },
  {
   "cell_type": "code",
   "execution_count": 3,
   "id": "3845aec6-fd1c-4a04-a02f-a060e177ceb9",
   "metadata": {},
   "outputs": [
    {
     "name": "stdout",
     "output_type": "stream",
     "text": [
      "config_func.sh              config_path_wrapper.sh\n",
      "config_path_duke_hardac.sh  config_project.sh\n"
     ]
    }
   ],
   "source": [
    "ls ${FD_EXE}"
   ]
  },
  {
   "cell_type": "code",
   "execution_count": 4,
   "id": "f49bbde4-21d3-4dbc-8cd5-9f51a1b39b12",
   "metadata": {},
   "outputs": [
    {
     "name": "stdout",
     "output_type": "stream",
     "text": [
      "\u001b[0m\u001b[38;5;27mbiocontainer\u001b[0m  \u001b[38;5;27mhome\u001b[0m  \u001b[38;5;27mproject\u001b[0m  \u001b[38;5;27mproject_backup\u001b[0m  \u001b[38;5;27mproject_tmp\u001b[0m  \u001b[38;5;27mrstudio_tmp\u001b[0m  \u001b[38;5;27mtoolbox\u001b[0m\n",
      "singularity_motif.sif            singularity_scratch.sif\n",
      "singularity_proj_encode_fcc.sif  singularity_test.sif\n"
     ]
    }
   ],
   "source": [
    "ls ${FD_SING}\n",
    "ls ${FD_SING}/project"
   ]
  },
  {
   "cell_type": "code",
   "execution_count": 1,
   "id": "20ee314f-3f69-4f0b-b09d-4a78db984943",
   "metadata": {},
   "outputs": [
    {
     "name": "stdout",
     "output_type": "stream",
     "text": [
      "\u001b[0m\u001b[38;5;27m00_setup\u001b[0m  \u001b[38;5;27m01_data_download\u001b[0m  \u001b[38;5;27m02_data_prepare\u001b[0m\n"
     ]
    }
   ],
   "source": [
    "ls ../"
   ]
  },
  {
   "cell_type": "code",
   "execution_count": 2,
   "id": "c624da64-10a5-4fb9-b8d6-fdfeca3bcc7b",
   "metadata": {},
   "outputs": [
    {
     "name": "stdout",
     "output_type": "stream",
     "text": [
      "\u001b[0m\u001b[38;5;27mdocs\u001b[0m  \u001b[38;5;27mnotebooks\u001b[0m  README.md  \u001b[38;5;27mreferences\u001b[0m  \u001b[38;5;27mscripts\u001b[0m  \u001b[38;5;27mtests\u001b[0m  \u001b[38;5;27mtmp\u001b[0m\n"
     ]
    }
   ],
   "source": [
    "ls ../../"
   ]
  },
  {
   "cell_type": "code",
   "execution_count": 3,
   "id": "078bb166-4422-44d4-ab95-2c90cfeffb57",
   "metadata": {},
   "outputs": [
    {
     "name": "stdout",
     "output_type": "stream",
     "text": [
      "/gpfs/fs1/data/reddylab/Kuei/repo/Proj_CombEffect_ENCODE_FCC/notebooks/00_setup\n"
     ]
    }
   ],
   "source": [
    "pwd"
   ]
  },
  {
   "cell_type": "code",
   "execution_count": 6,
   "id": "0f599ec2-ae28-45da-9bf7-123781301b42",
   "metadata": {},
   "outputs": [],
   "source": [
    "FD_WORK=/data/reddylab/Kuei/work\n",
    "FD_REPO=/data/reddylab/Kuei/repo"
   ]
  },
  {
   "cell_type": "code",
   "execution_count": 4,
   "id": "ec0c1c98-bac5-433a-903e-416b5884bc8f",
   "metadata": {},
   "outputs": [],
   "source": [
    "FD_PRJ=/data/reddylab/Kuei/repo/Proj_CombEffect_ENCODE_FCC"
   ]
  },
  {
   "cell_type": "code",
   "execution_count": 8,
   "id": "61458041-aa25-4ba2-b323-5eaf6c60fbcf",
   "metadata": {},
   "outputs": [
    {
     "name": "stdout",
     "output_type": "stream",
     "text": [
      "\u001b[0m\u001b[38;5;27mdata\u001b[0m  Readme.md  \u001b[38;5;9mresults_v1.tar.gz\u001b[0m  \u001b[38;5;27mresults_v3\u001b[0m\n",
      "\u001b[38;5;27mlog\u001b[0m   \u001b[38;5;27mresults\u001b[0m    \u001b[38;5;9mresults_v2.tar.gz\u001b[0m  \u001b[38;5;27msource\u001b[0m\n"
     ]
    }
   ],
   "source": [
    "ls ${FD_WORK}/proj_combeffect_encode_fcc"
   ]
  },
  {
   "cell_type": "code",
   "execution_count": 5,
   "id": "4a7ae951-1223-4f74-8b5c-e3cafd6edf90",
   "metadata": {},
   "outputs": [
    {
     "name": "stdout",
     "output_type": "stream",
     "text": [
      "\u001b[0m\u001b[38;5;27mdocs\u001b[0m  \u001b[38;5;27mnotebooks\u001b[0m  README.md  \u001b[38;5;27mreferences\u001b[0m  \u001b[38;5;27mscripts\u001b[0m  \u001b[38;5;27mtests\u001b[0m  \u001b[38;5;27mtmp\u001b[0m\n"
     ]
    }
   ],
   "source": [
    "ls ${FD_PRJ}"
   ]
  },
  {
   "cell_type": "markdown",
   "id": "b6b13c3a-1ace-40fb-86a5-143c778652c4",
   "metadata": {},
   "source": [
    "## Set executable"
   ]
  },
  {
   "cell_type": "code",
   "execution_count": 8,
   "id": "59f04ecc-3244-4acd-b1ef-05e697211852",
   "metadata": {},
   "outputs": [],
   "source": [
    "chmod +x ${FD_EXE}/sing_script.sh"
   ]
  },
  {
   "cell_type": "markdown",
   "id": "44cc0760-fdf9-44ad-9dc7-6ade43408f29",
   "metadata": {},
   "source": [
    "## Create symlinks\n",
    "```\n",
    "ln -s file link\n",
    "```"
   ]
  },
  {
   "cell_type": "code",
   "execution_count": 7,
   "id": "c784eb95-ff13-4ffd-93e3-8e7e25601705",
   "metadata": {},
   "outputs": [
    {
     "name": "stdout",
     "output_type": "stream",
     "text": [
      "/data/reddylab/Kuei/container/project/singularity_proj_encode_fcc.sif\n"
     ]
    }
   ],
   "source": [
    "ls ${FD_SING}/project/singularity_proj_encode_fcc.sif"
   ]
  },
  {
   "cell_type": "code",
   "execution_count": 4,
   "id": "6dfd1457-7796-4596-8d6f-79cdd3cf9a0d",
   "metadata": {},
   "outputs": [],
   "source": [
    "#ls ${FD_DATA}/proj_combeffect_encode_fcc/ ${FD_PRJ}/data\n",
    "#ls ${FD_WORK}/proj_combeffect_encode_fcc/results_v ${FD_PRJ}/results\n",
    "#ls ${FD_WORK}/proj_combeffect_encode_fcc/          ${FD_PRJ}/log\n",
    "\n",
    "FILE=${FD_SING}/project/singularity_proj_encode_fcc.sif\n",
    "LINK=${FP_SIF}\n",
    "ln -s ${FILE} ${LINK}"
   ]
  },
  {
   "cell_type": "code",
   "execution_count": 29,
   "id": "fdcffee1-d4de-4d0a-9a31-d44c4b3cf04e",
   "metadata": {},
   "outputs": [
    {
     "name": "stdout",
     "output_type": "stream",
     "text": [
      "01_folder_structure.ipynb\n"
     ]
    }
   ],
   "source": [
    "${FD_EXE}/sing_script.sh ls"
   ]
  },
  {
   "cell_type": "markdown",
   "id": "30803ae0-a3eb-43e3-92be-4ac6df4e3ba5",
   "metadata": {},
   "source": [
    "https://stackoverflow.com/questions/71524077/how-to-verify-if-in-singularityapptainer-container"
   ]
  },
  {
   "cell_type": "code",
   "execution_count": 19,
   "id": "d06fd7f6-f8f7-41b8-86a2-349288baca2f",
   "metadata": {},
   "outputs": [
    {
     "name": "stdout",
     "output_type": "stream",
     "text": [
      "ls: cannot access /.singularity.d: No such file or directory\n"
     ]
    },
    {
     "ename": "",
     "evalue": "2",
     "output_type": "error",
     "traceback": []
    }
   ],
   "source": [
    "ls /.singularity.d"
   ]
  },
  {
   "cell_type": "code",
   "execution_count": 20,
   "id": "6eb1e724-a05e-4920-9d6d-a8a61f1b6df3",
   "metadata": {},
   "outputs": [
    {
     "name": "stdout",
     "output_type": "stream",
     "text": [
      "\u001b[31mFATAL:  \u001b[0m stat /home/if [ -d /.singularity.d ]; then echo \"in singularity\"; fi: no such file or directory\n"
     ]
    },
    {
     "ename": "",
     "evalue": "255",
     "output_type": "error",
     "traceback": []
    }
   ],
   "source": [
    "${FD_EXE}/sing_script.sh ls /.singularity.d"
   ]
  },
  {
   "cell_type": "code",
   "execution_count": 9,
   "id": "432b4b45-e107-4d73-b777-717dca613e65",
   "metadata": {},
   "outputs": [
    {
     "name": "stdout",
     "output_type": "stream",
     "text": [
      "singularity_motif.sif            singularity_scratch.sif\n",
      "singularity_proj_encode_fcc.sif  singularity_test.sif\n"
     ]
    }
   ],
   "source": [
    "ls /home/kk319/Kuei/container/project"
   ]
  },
  {
   "cell_type": "code",
   "execution_count": 22,
   "id": "22366cab-4740-4ac9-ae65-13c436f59d49",
   "metadata": {},
   "outputs": [],
   "source": []
  },
  {
   "cell_type": "code",
   "execution_count": null,
   "id": "7176151b-fa8f-448d-938c-bb6bff77d225",
   "metadata": {},
   "outputs": [],
   "source": []
  }
 ],
 "metadata": {
  "kernelspec": {
   "display_name": "Bash",
   "language": "bash",
   "name": "bash"
  },
  "language_info": {
   "codemirror_mode": "shell",
   "file_extension": ".sh",
   "mimetype": "text/x-sh",
   "name": "bash"
  }
 },
 "nbformat": 4,
 "nbformat_minor": 5
}
