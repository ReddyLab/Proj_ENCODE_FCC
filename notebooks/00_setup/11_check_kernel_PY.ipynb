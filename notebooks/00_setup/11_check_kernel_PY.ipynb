{
 "cells": [
  {
   "cell_type": "code",
   "execution_count": 1,
   "id": "2c584cef-d4ea-4f1f-9f3a-386c7d4d8965",
   "metadata": {},
   "outputs": [],
   "source": [
    "import numpy as np\n",
    "import hicstraw"
   ]
  },
  {
   "cell_type": "code",
   "execution_count": null,
   "id": "095f6898-0b60-4941-b3d8-a8ade88195cd",
   "metadata": {},
   "outputs": [],
   "source": []
  }
 ],
 "metadata": {
  "kernelspec": {
   "display_name": "Python 3 (ipykernel)",
   "language": "python",
   "name": "python3"
  },
  "language_info": {
   "codemirror_mode": {
    "name": "ipython",
    "version": 3
   },
   "file_extension": ".py",
   "mimetype": "text/x-python",
   "name": "python",
   "nbconvert_exporter": "python",
   "pygments_lexer": "ipython3",
   "version": "3.11.6"
  }
 },
 "nbformat": 4,
 "nbformat_minor": 5
}
