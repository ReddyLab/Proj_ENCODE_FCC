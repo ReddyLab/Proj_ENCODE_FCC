{
 "cells": [
  {
   "cell_type": "raw",
   "id": "20c1a1c3-85c0-4472-9908-e365240bf640",
   "metadata": {
    "tags": []
   },
   "source": [
    "---\n",
    "title: Check Scripts 03\n",
    "subtitle: Check bedtools scripts\n",
    "format:\n",
    "    html:\n",
    "        code-fold:  true\n",
    "        code-tools: true\n",
    "---"
   ]
  },
  {
   "cell_type": "markdown",
   "id": "7c0320e2-fe21-4c14-825a-ce59ef5d080f",
   "metadata": {},
   "source": [
    "**Set environment**"
   ]
  },
  {
   "cell_type": "code",
   "execution_count": 1,
   "id": "a0a83799-2922-4fb5-9630-304366e72858",
   "metadata": {},
   "outputs": [
    {
     "name": "stdout",
     "output_type": "stream",
     "text": [
      "You are working on             Duke Server: HARDAC\n",
      "BASE DIRECTORY (FD_BASE):      /data/reddylab/Kuei\n",
      "REPO DIRECTORY (FD_REPO):      /data/reddylab/Kuei/repo\n",
      "WORK DIRECTORY (FD_WORK):      /data/reddylab/Kuei/work\n",
      "DATA DIRECTORY (FD_DATA):      /data/reddylab/Kuei/data\n",
      "CONTAINER DIR. (FD_SING):      /data/reddylab/Kuei/container\n",
      "\n",
      "You are working with           ENCODE FCC\n",
      "PATH OF PROJECT (FD_PRJ):      /data/reddylab/Kuei/repo/Proj_ENCODE_FCC\n",
      "PROJECT RESULTS (FD_RES):      /data/reddylab/Kuei/repo/Proj_ENCODE_FCC/results\n",
      "PROJECT SCRIPTS (FD_EXE):      /data/reddylab/Kuei/repo/Proj_ENCODE_FCC/scripts\n",
      "PROJECT DATA    (FD_DAT):      /data/reddylab/Kuei/repo/Proj_ENCODE_FCC/data\n",
      "PROJECT NOTE    (FD_NBK):      /data/reddylab/Kuei/repo/Proj_ENCODE_FCC/notebooks\n",
      "PROJECT DOCS    (FD_DOC):      /data/reddylab/Kuei/repo/Proj_ENCODE_FCC/docs\n",
      "PROJECT LOG     (FD_LOG):      /data/reddylab/Kuei/repo/Proj_ENCODE_FCC/log\n",
      "PROJECT APP     (FD_APP):      \n",
      "PROJECT REF     (FD_REF):      /data/reddylab/Kuei/repo/Proj_ENCODE_FCC/references\n",
      "PROJECT IMAGE   (FP_PRJ_SIF):  /data/reddylab/Kuei/container/project/singularity_proj_encode_fcc.sif\n",
      "\n"
     ]
    }
   ],
   "source": [
    "source ../run_config_project.sh\n",
    "show_env"
   ]
  },
  {
   "cell_type": "markdown",
   "id": "27e065dc-8281-468c-b9e9-ae267fdd5659",
   "metadata": {},
   "source": [
    "## Bedtools summary"
   ]
  },
  {
   "cell_type": "code",
   "execution_count": 4,
   "id": "15538dc2-c561-48b4-b665-d9ae2b8f44c6",
   "metadata": {},
   "outputs": [
    {
     "name": "stdout",
     "output_type": "stream",
     "text": [
      "chrom.list.auto\n",
      "chrom.list.main\n",
      "chrom.list.sex\n",
      "chrom.sizes.hg19\n",
      "chrom.sizes.hg38\n",
      "\u001b[0m\u001b[38;5;27mencode_chipseq_flagship\u001b[0m\n",
      "\u001b[38;5;27mencode_chipseq_histone\u001b[0m\n",
      "\u001b[38;5;27mencode_chipseq_subset\u001b[0m\n",
      "\u001b[38;5;27mencode_chromatin_states\u001b[0m\n",
      "\u001b[38;5;27mencode_crispri_hcrff\u001b[0m\n",
      "\u001b[38;5;27mencode_open_chromatin\u001b[0m\n",
      "\u001b[38;5;27mencode_rnaseq\u001b[0m\n",
      "\u001b[38;5;27mgenome_tss\u001b[0m\n",
      "\u001b[38;5;27mhic_insitu_GM12878\u001b[0m\n",
      "\u001b[38;5;27mhic_insitu_K562_ENCSR545YBD\u001b[0m\n",
      "\u001b[38;5;27mhic_intact_K562_deep\u001b[0m\n",
      "\u001b[38;5;27mhic_intact_K562_ENCSR479XDG\u001b[0m\n",
      "\u001b[38;5;27mRNAseq\u001b[0m\n"
     ]
    }
   ],
   "source": [
    "ls -1 ${FD_DAT}/external"
   ]
  },
  {
   "cell_type": "code",
   "execution_count": 20,
   "id": "49088fea-232d-4de9-82bf-29beea1a5d7f",
   "metadata": {},
   "outputs": [
    {
     "name": "stdout",
     "output_type": "stream",
     "text": [
      "chr1\t248956422\n",
      "chr2\t242193529\n",
      "chr3\t198295559\n",
      "chr4\t190214555\n",
      "chr5\t181538259\n",
      "\n",
      "chrUn_KI270423v1\t981\n",
      "chrUn_KI270392v1\t971\n",
      "chrUn_KI270394v1\t970\n",
      "\n",
      "\u001b[01;31m\u001b[KchrM\u001b[m\u001b[K\t16569\n"
     ]
    }
   ],
   "source": [
    "FP_GEN=${FD_DAT}/external/chrom.sizes.hg38\n",
    "head -n 5 ${FP_GEN}\n",
    "echo\n",
    "tail -n 3 ${FP_GEN}\n",
    "echo \n",
    "cat  ${FP_GEN} | grep chrM"
   ]
  },
  {
   "cell_type": "code",
   "execution_count": 10,
   "id": "8162fff6-0c2c-4dd7-b83f-ced936b934e8",
   "metadata": {},
   "outputs": [],
   "source": [
    "curl -s http://hgdownload.soe.ucsc.edu/goldenPath/hg38/database/simpleRepeat.txt.gz  \\\n",
    "| zcat \\\n",
    "| cut -f 2-5 \\\n",
    "| grep -v -E 'Un|fix|random|alt|hap' \\\n",
    "> test.simrep.hg38.bed"
   ]
  },
  {
   "cell_type": "code",
   "execution_count": 14,
   "id": "09a349bf-769c-4df0-aea5-ab86c4ba80b1",
   "metadata": {},
   "outputs": [
    {
     "name": "stdout",
     "output_type": "stream",
     "text": [
      "965511 test.simrep.hg38.bed\n",
      "\n",
      "chr1\t10000\t10468\ttrf\n",
      "chr1\t10627\t10800\ttrf\n",
      "chr1\t10757\t10997\ttrf\n",
      "\n",
      "chrY\t57217316\t57217415\ttrf\n",
      "chrY\t57217316\t57217414\ttrf\n",
      "chrY\t57217318\t57217413\ttrf\n"
     ]
    }
   ],
   "source": [
    "wc -l test.simrep.hg38.bed\n",
    "echo\n",
    "head -n 3 test.simrep.hg38.bed\n",
    "echo\n",
    "tail -n 3 test.simrep.hg38.bed"
   ]
  },
  {
   "cell_type": "code",
   "execution_count": 18,
   "id": "e97c6eda-8701-4652-88f1-cfaec891ea41",
   "metadata": {},
   "outputs": [
    {
     "name": "stdout",
     "output_type": "stream",
     "text": [
      "chrom\tchrom_length\tnum_ivls\ttotal_ivl_bp\tchrom_frac_genome\tfrac_all_ivls\tfrac_all_bp\tmin\tmax\tmean\n",
      "chr1\t248956422\t74548\t15557884\t0.077573770\t0.077210928\t0.048725518\t25\t124438\t208.696195740\t\n",
      "chr2\t242193529\t74474\t14493548\t0.075466481\t0.077134284\t0.045392139\t25\t336509\t194.612186803\t\n"
     ]
    }
   ],
   "source": [
    "FP_INP=./test.simrep.hg38.bed\n",
    "bedtools summary -i ${FP_INP} -g ${FP_GEN} > test.simrep.summary.tsv\n",
    "head -n 3 test.simrep.summary.tsv"
   ]
  },
  {
   "cell_type": "markdown",
   "id": "0954d005-531b-4003-9231-6ec734ecb64e",
   "metadata": {},
   "source": [
    "## Bedtools intersect"
   ]
  },
  {
   "cell_type": "code",
   "execution_count": 24,
   "id": "35b994ca-4a25-4435-a998-9c63c069e73a",
   "metadata": {},
   "outputs": [],
   "source": [
    "TAB=\"$(printf '\\t')\"\n",
    "\n",
    "cat > A.bed << EOF\n",
    "chr1${TAB}10${TAB}20\n",
    "chr1${TAB}20${TAB}40\n",
    "EOF\n",
    "\n",
    "cat > B.bed << EOF\n",
    "chr1${TAB}15${TAB}20\n",
    "EOF"
   ]
  },
  {
   "cell_type": "code",
   "execution_count": 25,
   "id": "a6d3e3da-f1c8-457a-8db6-3106db8441b0",
   "metadata": {},
   "outputs": [
    {
     "name": "stdout",
     "output_type": "stream",
     "text": [
      "Error: unable to open file or unable to determine types for file ./B.bed\n",
      "\n",
      "- Please ensure that your file is TAB delimited (e.g., cat -t FILE).\n",
      "- Also ensure that your file has integer chromosome coordinates in the \n",
      "  expected columns (e.g., cols 2 and 3 for BED).\n"
     ]
    },
    {
     "ename": "",
     "evalue": "1",
     "output_type": "error",
     "traceback": []
    }
   ],
   "source": [
    "bedtools intersect -a ./A.bed -b ./B.bed"
   ]
  },
  {
   "cell_type": "code",
   "execution_count": null,
   "id": "c999977f-6927-47e9-bd88-0e5a8d01d8bc",
   "metadata": {},
   "outputs": [],
   "source": []
  },
  {
   "cell_type": "markdown",
   "id": "76acc86f-ad68-4336-b478-b2b56af7fc99",
   "metadata": {
    "tags": []
   },
   "source": [
    "## Run test scripts"
   ]
  },
  {
   "cell_type": "code",
   "execution_count": 2,
   "id": "04167077-2175-416c-bca1-5f3d8f6436d1",
   "metadata": {},
   "outputs": [
    {
     "name": "stdout",
     "output_type": "stream",
     "text": [
      "/data/reddylab/Kuei/repo/Proj_ENCODE_FCC/log\n"
     ]
    }
   ],
   "source": [
    "echo ${FD_LOG}"
   ]
  },
  {
   "cell_type": "code",
   "execution_count": 3,
   "id": "39d019da-16b5-4a5e-9991-e21e0015ad45",
   "metadata": {},
   "outputs": [
    {
     "name": "stdout",
     "output_type": "stream",
     "text": [
      "all\n"
     ]
    }
   ],
   "source": [
    "echo ${NODE}"
   ]
  },
  {
   "cell_type": "code",
   "execution_count": 4,
   "id": "7779da69-28fc-4509-91b8-8a34fce54866",
   "metadata": {},
   "outputs": [],
   "source": [
    "TAB=\"$(printf '\\t')\"\n",
    "\n",
    "cat > A.bed << EOF\n",
    "chr1${TAB}10${TAB}20\n",
    "chr1${TAB}20${TAB}40\n",
    "EOF\n",
    "\n",
    "cat > B.bed << EOF\n",
    "chr1${TAB}15${TAB}20\n",
    "EOF"
   ]
  },
  {
   "cell_type": "markdown",
   "id": "bf7eaf89-1cf4-4dae-9288-e18a660f9f72",
   "metadata": {},
   "source": [
    "**Execute**"
   ]
  },
  {
   "cell_type": "code",
   "execution_count": 5,
   "id": "a13995c4-6b23-4288-a3e0-10930a1117ab",
   "metadata": {},
   "outputs": [
    {
     "name": "stdout",
     "output_type": "stream",
     "text": [
      "Submitted batch job 30767433\n"
     ]
    }
   ],
   "source": [
    "FN_LOG=\"test_bedtools.txt\"\n",
    "FP_LOG=${FD_LOG}/${FN_LOG}\n",
    "FP_INP=\"A.bed\"\n",
    "\n",
    "sbatch -p ${NODE} \\\n",
    "    --exclude=dl-01 \\\n",
    "    --cpus-per-task 2 \\\n",
    "    --mem 2G \\\n",
    "    --output ${FP_LOG} \\\n",
    "    ${FD_EXE}/run_bedtools_test.sh ${FD_PRJ} ${FP_INP}"
   ]
  },
  {
   "cell_type": "markdown",
   "id": "d568a523-4cfd-4528-bcc0-77a6e7c5956b",
   "metadata": {},
   "source": [
    "**Check results**"
   ]
  },
  {
   "cell_type": "code",
   "execution_count": 6,
   "id": "85944aaf-6a3c-4186-9573-b0cc01d9c156",
   "metadata": {},
   "outputs": [
    {
     "name": "stdout",
     "output_type": "stream",
     "text": [
      "Hostname:           x2-02-3.genome.duke.edu\n",
      "Slurm Array Index: \n",
      "Time Stamp:         04-30-24+15:15:08\n",
      "\n",
      "Input:  A.bed\n",
      "\n",
      "show first few lines of input\n",
      "chr1\t10\t20\n",
      "chr1\t20\t40\n",
      "\n",
      "bedtools is a powerful toolset for genome arithmetic.\n",
      "\n",
      "Version:   v2.31.1\n",
      "About:     developed in the quinlanlab.org and by many contributors worldwide.\n",
      "Docs:      http://bedtools.readthedocs.io/\n",
      "Code:      https://github.com/arq5x/bedtools2\n",
      "Mail:      https://groups.google.com/forum/#!forum/bedtools-discuss\n",
      "\n",
      "Usage:     bedtools <subcommand> [options]\n",
      "\n",
      "The bedtools sub-commands include:\n",
      "\n",
      "[ Genome arithmetic ]\n",
      "    intersect     Find overlapping intervals in various ways.\n",
      "    window        Find overlapping intervals within a window around an interval.\n",
      "    closest       Find the closest, potentially non-overlapping interval.\n",
      "    coverage      Compute the coverage over defined intervals.\n",
      "    map           Apply a function to a column for each overlapping interval.\n",
      "    genomecov     Compute the coverage over an entire genome.\n",
      "    merge         Combine overlapping/nearby intervals into a single interval.\n",
      "    cluster       Cluster (but don't merge) overlapping/nearby intervals.\n",
      "    complement    Extract intervals _not_ represented by an interval file.\n",
      "    shift         Adjust the position of intervals.\n",
      "    subtract      Remove intervals based on overlaps b/w two files.\n",
      "    slop          Adjust the size of intervals.\n",
      "    flank         Create new intervals from the flanks of existing intervals.\n",
      "    sort          Order the intervals in a file.\n",
      "    random        Generate random intervals in a genome.\n",
      "    shuffle       Randomly redistribute intervals in a genome.\n",
      "    sample        Sample random records from file using reservoir sampling.\n",
      "    spacing       Report the gap lengths between intervals in a file.\n",
      "    annotate      Annotate coverage of features from multiple files.\n",
      "\n",
      "[ Multi-way file comparisons ]\n",
      "    multiinter    Identifies common intervals among multiple interval files.\n",
      "    unionbedg     Combines coverage intervals from multiple BEDGRAPH files.\n",
      "\n",
      "[ Paired-end manipulation ]\n",
      "    pairtobed     Find pairs that overlap intervals in various ways.\n",
      "    pairtopair    Find pairs that overlap other pairs in various ways.\n",
      "\n",
      "[ Format conversion ]\n",
      "    bamtobed      Convert BAM alignments to BED (& other) formats.\n",
      "    bedtobam      Convert intervals to BAM records.\n",
      "    bamtofastq    Convert BAM records to FASTQ records.\n",
      "    bedpetobam    Convert BEDPE intervals to BAM records.\n",
      "    bed12tobed6   Breaks BED12 intervals into discrete BED6 intervals.\n",
      "\n",
      "[ Fasta manipulation ]\n",
      "    getfasta      Use intervals to extract sequences from a FASTA file.\n",
      "    maskfasta     Use intervals to mask sequences from a FASTA file.\n",
      "    nuc           Profile the nucleotide content of intervals in a FASTA file.\n",
      "\n",
      "[ BAM focused tools ]\n",
      "    multicov      Counts coverage from multiple BAMs at specific intervals.\n",
      "    tag           Tag BAM alignments based on overlaps with interval files.\n",
      "\n",
      "[ Statistical relationships ]\n",
      "    jaccard       Calculate the Jaccard statistic b/w two sets of intervals.\n",
      "    reldist       Calculate the distribution of relative distances b/w two files.\n",
      "    fisher        Calculate Fisher statistic b/w two feature files.\n",
      "\n",
      "[ Miscellaneous tools ]\n",
      "    overlap       Computes the amount of overlap from two intervals.\n",
      "    igv           Create an IGV snapshot batch script.\n",
      "    links         Create a HTML page of links to UCSC locations.\n",
      "    makewindows   Make interval \"windows\" across a genome.\n",
      "    groupby       Group by common cols. & summarize oth. cols. (~ SQL \"groupBy\")\n",
      "    expand        Replicate lines based on lists of values in columns.\n",
      "    split         Split a file into multiple files with equal records or base pairs.\n",
      "    summary       Statistical summary of intervals in a file.\n",
      "\n",
      "[ General Parameters ]\n",
      "     --cram-ref    Reference used by a CRAM input\n",
      "\n",
      "[ General help ]\n",
      "    --help        Print this help menu.\n",
      "    --version     What version of bedtools are you using?.\n",
      "    --contact     Feature requests, bugs, mailing lists, etc.\n",
      "\n",
      "\n",
      "\n",
      "Done!\n",
      "Run Time: 1 seconds\n"
     ]
    }
   ],
   "source": [
    "cat ${FD_LOG}/test_bedtools.txt"
   ]
  },
  {
   "cell_type": "code",
   "execution_count": null,
   "id": "65e36440-6938-439c-9117-95949a2efee8",
   "metadata": {},
   "outputs": [],
   "source": []
  }
 ],
 "metadata": {
  "kernelspec": {
   "display_name": "Bash",
   "language": "bash",
   "name": "bash"
  },
  "language_info": {
   "codemirror_mode": "shell",
   "file_extension": ".sh",
   "mimetype": "text/x-sh",
   "name": "bash"
  }
 },
 "nbformat": 4,
 "nbformat_minor": 5
}
