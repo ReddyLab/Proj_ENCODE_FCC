{
 "cells": [
  {
   "cell_type": "markdown",
   "id": "da67b5c4-4931-434d-92a6-e18e53e5a963",
   "metadata": {},
   "source": [
    "https://www.winzip.com/en/learn/file-formats/tar-gz/\n",
    "```\n",
    "Opening and extracting Tar GZ files on Linux: $ tar xvzf file.tar.gz\n",
    "Uncompressing a Tar GZ file on Linux: $ tar xvzf file.tar.gz -C /path/to/yourdirectory\n",
    "To view the Tar GZ files table of contents on Linux: $ tar -tvf file.tar.gz\n",
    "To extract the .GZ file without tar on Linux: $ gunzip file.gz\n",
    "Compress an entire directory to Tar GZ on Linux: tar -zcvf file.tar.gz /path/to/yourdirectory/\n",
    "Compress a single file to Tar GZ on Linux: tar -zcvf file.tar.gz /path/to/filename\n",
    "```"
   ]
  },
  {
   "cell_type": "markdown",
   "id": "90d6cd31-a61d-4f72-b5f9-cdb5a0debfe6",
   "metadata": {},
   "source": [
    "https://www.cyberciti.biz/faq/how-to-create-tar-gz-file-in-linux-using-command-line/\n",
    "```\n",
    "Linux create tar.gz file with tar command\n",
    "tar -czvf filename.tar.gz /path/to/dir1\n",
    "tar -czvf filename.tar.gz /path/to/dir1 dir2 file1 file2\n",
    "# Create a tar.gz file from all pdf (\".pdf\") files\n",
    "tar -czvf archive.tgz *.pdf\n",
    "\n",
    "Next verify newly created tar.gz file in Linux using the ls command:\n",
    "ls -l projects.tar.gz\n",
    "\n",
    "One can list the contents of a tar or tar.gz file using the tar command:\n",
    "tar -ztvf projects.tar.gz\n",
    "```"
   ]
  },
  {
   "cell_type": "markdown",
   "id": "ef1e7722-a3f7-4a0e-8c2d-6428a42204db",
   "metadata": {},
   "source": [
    "Compress an entire directory to Tar GZ on Linux: \n",
    "```\n",
    "tar -zcvf file.tar.gz /path/to/yourdirectory/\n",
    "tar -czvf file.tar.gz directory\n",
    "```"
   ]
  },
  {
   "cell_type": "markdown",
   "id": "fdd39f51-3203-4c84-b63a-4f2d2db03600",
   "metadata": {},
   "source": [
    "**Set environment**"
   ]
  },
  {
   "cell_type": "code",
   "execution_count": 1,
   "id": "63136225-7e38-42cd-9db0-decf57f22917",
   "metadata": {},
   "outputs": [
    {
     "name": "stdout",
     "output_type": "stream",
     "text": [
      "You are working on             Duke HARDAC\n",
      "BASE DIRECTORY (FD_BASE):      /data/reddylab/Kuei\n",
      "REPO DIRECTORY (FD_REPO):      /data/reddylab/Kuei/repo\n",
      "WORK DIRECTORY (FD_WORK):      /data/reddylab/Kuei/work\n",
      "DATA DIRECTORY (FD_DATA):      /data/reddylab/Kuei/data\n",
      "CONTAINER DIR. (FD_SING):      /data/reddylab/Kuei/container\n",
      "\n",
      "You are working with           ENCODE FCC\n",
      "PATH OF PROJECT (FD_PRJ):      /data/reddylab/Kuei/repo/Proj_CombEffect_ENCODE_FCC\n",
      "PROJECT RESULTS (FD_RES):      /data/reddylab/Kuei/repo/Proj_CombEffect_ENCODE_FCC/results\n",
      "PROJECT SCRIPTS (FD_EXE):      /data/reddylab/Kuei/repo/Proj_CombEffect_ENCODE_FCC/scripts\n",
      "PROJECT DATA    (FD_DAT):      /data/reddylab/Kuei/repo/Proj_CombEffect_ENCODE_FCC/data\n",
      "PROJECT NOTE    (FD_NBK):      /data/reddylab/Kuei/repo/Proj_CombEffect_ENCODE_FCC/notebooks\n",
      "PROJECT DOCS    (FD_DOC):      /data/reddylab/Kuei/repo/Proj_CombEffect_ENCODE_FCC/docs\n",
      "PROJECT LOG     (FD_LOG):      /data/reddylab/Kuei/repo/Proj_CombEffect_ENCODE_FCC/log\n",
      "PROJECT APP     (FD_APP):      /data/reddylab/Kuei/repo/Proj_CombEffect_ENCODE_FCC/app\n",
      "PROJECT REF     (FD_REF):      /data/reddylab/Kuei/repo/Proj_CombEffect_ENCODE_FCC/references\n",
      "PROJECT IMAGE   (FP_PRJ_SIF):  /data/reddylab/Kuei/repo/Proj_CombEffect_ENCODE_FCC/app/singularity_proj_encode_fcc.sif\n",
      "\n"
     ]
    }
   ],
   "source": [
    "source ../get_config.sh\n",
    "show_env"
   ]
  },
  {
   "cell_type": "code",
   "execution_count": 4,
   "id": "44dd25fb-efb0-4404-8371-f3f9d021bedb",
   "metadata": {},
   "outputs": [
    {
     "name": "stdout",
     "output_type": "stream",
     "text": [
      "/data/reddylab/Kuei/work\n",
      "total 34\n",
      "drwxrwsr-x+ 19 kk319 reddylab 8192 Jul 12  2022 \u001b[0m\u001b[38;5;27mproj_combeffect\u001b[0m\n",
      "drwxrwsr-x+  9 kk319 reddylab 8192 Feb 15 11:07 \u001b[38;5;27mproj_combeffect_encode_fcc\u001b[0m\n",
      "drwxrwsr-x+  9 kk319 reddylab  512 Oct  2 22:52 \u001b[38;5;27mscratch\u001b[0m\n",
      "drwxrwsr-x+  4 kk319 reddylab  512 Jul 18  2023 \u001b[38;5;27mtrackhub\u001b[0m\n"
     ]
    }
   ],
   "source": [
    "echo  ${FD_WORK}\n",
    "ls -l ${FD_WORK}"
   ]
  },
  {
   "cell_type": "code",
   "execution_count": 6,
   "id": "b5ebaed9-de49-4ae7-8103-3c801813f9f7",
   "metadata": {},
   "outputs": [
    {
     "name": "stdout",
     "output_type": "stream",
     "text": [
      "\u001b[0m\u001b[38;5;27mdata\u001b[0m\n",
      "\u001b[38;5;27mlog\u001b[0m\n",
      "Readme.md\n",
      "\u001b[38;5;27mresults\u001b[0m\n",
      "\u001b[38;5;9mresults_v1.tar.gz\u001b[0m\n",
      "\u001b[38;5;9mresults_v2.tar.gz\u001b[0m\n",
      "\u001b[38;5;27mresults_v3\u001b[0m\n",
      "\u001b[38;5;27mresults_v4\u001b[0m\n",
      "\u001b[38;5;27msource\u001b[0m\n"
     ]
    }
   ],
   "source": [
    "cd ${FD_WORK}/proj_combeffect_encode_fcc\n",
    "ls -1"
   ]
  },
  {
   "cell_type": "markdown",
   "id": "033be65b-972a-40ab-ae1c-d2148f13af2c",
   "metadata": {},
   "source": [
    "```\n",
    "tar -czvf results_v3.tar.gz results_v3\n",
    "```"
   ]
  },
  {
   "cell_type": "code",
   "execution_count": null,
   "id": "38fc844c-e3c0-444b-8613-767e914619ee",
   "metadata": {},
   "outputs": [],
   "source": []
  }
 ],
 "metadata": {
  "kernelspec": {
   "display_name": "Bash",
   "language": "bash",
   "name": "bash"
  },
  "language_info": {
   "codemirror_mode": "shell",
   "file_extension": ".sh",
   "mimetype": "text/x-sh",
   "name": "bash"
  }
 },
 "nbformat": 4,
 "nbformat_minor": 5
}
