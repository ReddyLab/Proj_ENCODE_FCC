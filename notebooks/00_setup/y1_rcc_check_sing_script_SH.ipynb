{
 "cells": [
  {
   "cell_type": "raw",
   "id": "c22f9507-f911-4e28-a6ed-cc518fd25203",
   "metadata": {},
   "source": [
    "---\n",
    "title: Prepare TF Modules 01\n",
    "subtitle: Explore the data\n",
    "format:\n",
    "    html:\n",
    "        code-fold:  true\n",
    "        code-tools: true\n",
    "---"
   ]
  },
  {
   "cell_type": "markdown",
   "id": "804ecb1f-144d-46dd-9eb8-4f3af3306681",
   "metadata": {},
   "source": [
    "**Set environment**"
   ]
  },
  {
   "cell_type": "code",
   "execution_count": 1,
   "id": "2068a4ef-abbb-4560-9e26-a96d5007ae0c",
   "metadata": {},
   "outputs": [
    {
     "name": "stdout",
     "output_type": "stream",
     "text": [
      "You are working on             Duke Server: RCC\n",
      "BASE DIRECTORY (FD_BASE):      /data/reddylab/Kuei\n",
      "REPO DIRECTORY (FD_REPO):      /data/reddylab/Kuei/repo\n",
      "WORK DIRECTORY (FD_WORK):      /data/reddylab/Kuei/work\n",
      "DATA DIRECTORY (FD_DATA):      /data/reddylab/Kuei/data\n",
      "CONTAINER DIR. (FD_SING):      /data/reddylab/Kuei/container\n",
      "\n",
      "You are working with           ENCODE FCC\n",
      "PATH OF PROJECT (FD_PRJ):      /data/reddylab/Kuei/repo/Proj_ENCODE_FCC_new\n",
      "PROJECT RESULTS (FD_RES):      /data/reddylab/Kuei/repo/Proj_ENCODE_FCC_new/results\n",
      "PROJECT SCRIPTS (FD_EXE):      /data/reddylab/Kuei/repo/Proj_ENCODE_FCC_new/scripts\n",
      "PROJECT DATA    (FD_DAT):      /data/reddylab/Kuei/repo/Proj_ENCODE_FCC_new/data\n",
      "PROJECT NOTE    (FD_NBK):      /data/reddylab/Kuei/repo/Proj_ENCODE_FCC_new/notebooks\n",
      "PROJECT DOCS    (FD_DOC):      /data/reddylab/Kuei/repo/Proj_ENCODE_FCC_new/docs\n",
      "PROJECT LOG     (FD_LOG):      /data/reddylab/Kuei/repo/Proj_ENCODE_FCC_new/log\n",
      "PROJECT REF     (FD_REF):      /data/reddylab/Kuei/repo/Proj_ENCODE_FCC_new/references\n",
      "PROJECT IMAGE   (FP_PRJ_SIF):  /data/reddylab/Kuei/container/project/singularity_proj_encode_fcc.sif\n",
      "PROJECT CONF.   (FP_CNF):      /data/reddylab/Kuei/repo/Proj_ENCODE_FCC_new/config/config_project.sh\n",
      "\n"
     ]
    }
   ],
   "source": [
    "source ../run_config_project.sh\n",
    "show_env"
   ]
  },
  {
   "cell_type": "code",
   "execution_count": 2,
   "id": "3327cc4f-d207-470f-8f1a-22a98dfaf22f",
   "metadata": {},
   "outputs": [
    {
     "name": "stdout",
     "output_type": "stream",
     "text": [
      "/data/reddylab/Kuei/repo/Proj_ENCODE_FCC_new/scripts\n"
     ]
    }
   ],
   "source": [
    "echo ${FD_EXE}"
   ]
  },
  {
   "cell_type": "code",
   "execution_count": 3,
   "id": "b109e95b-3139-436f-9025-15d63ad83aab",
   "metadata": {},
   "outputs": [
    {
     "name": "stdout",
     "output_type": "stream",
     "text": [
      "sing_jupyter.sh  \u001b[0m\u001b[01;32msing_script.sh\u001b[0m\n"
     ]
    }
   ],
   "source": [
    "ls ${FD_EXE}"
   ]
  },
  {
   "cell_type": "code",
   "execution_count": 4,
   "id": "4db6844a-98ba-4150-bdd7-c99b62172191",
   "metadata": {},
   "outputs": [
    {
     "name": "stdout",
     "output_type": "stream",
     "text": [
      "#!/bin/bash\n",
      "\n",
      "### The first argument is expected to be the configuration file\n",
      "FP_CNF=$1\n",
      "source ${FP_CNF}\n",
      "\n",
      "### From the configuration file, Get the following:\n",
      "### singularity file path and temporary directory\n",
      "FP_SIF=${FP_PRJ_SIF}\n",
      "FD_TMP=${FD_TEMP}\n",
      "\n",
      "### Get the rest of arguments\n",
      "#ARGS=\"$@\"\n",
      "ARGS=\"${@:2}\"\n",
      "\n",
      "###\n",
      "singularity exec   \\\n",
      "    --env NUMBA_CACHE_DIR=/tmp \\\n",
      "    -B ${FD_TMP}:/tmp \\\n",
      "    -B ${PWD}      \\\n",
      "    -B /data:/data \\\n",
      "    ${FP_SIF} ${ARGS}\n"
     ]
    }
   ],
   "source": [
    "FN_EXE=sing_script.sh\n",
    "FP_EXE=${FD_EXE}/${FN_EXE}\n",
    "chmod +x ${FP_EXE}\n",
    "cat ${FP_EXE}"
   ]
  },
  {
   "cell_type": "code",
   "execution_count": 5,
   "id": "8e0a7185-8083-4e0e-b6d7-48c630a00db6",
   "metadata": {},
   "outputs": [
    {
     "name": "stdout",
     "output_type": "stream",
     "text": [
      "01_setup_folder_on_hardac_SH.ipynb\t 4_targz_results_SH.ipynb\n",
      "02_setup_config_on_duke_hardac_SH.ipynb  A.bed\n",
      "03_setup_config_on_sing_SH.ipynb\t B.bed\n",
      "04_setup_config_module_SH.ipynb\t\t bedtools\n",
      "11_check_config_and_kernel_PY.ipynb\t link2test\n",
      "12_check_config_and_kernel_R.ipynb\t link2testgz\n",
      "13_check_config_sing_SH.ipynb\t\t Readmd.md\n",
      "14_check_config_hardac_SH.ipynb\t\t test_bedops_SH.ipynb\n",
      "21_setup_script_template_SH.ipynb\t test_bedtools_SH.ipynb\n",
      "22_setup_script_utils_SH.ipynb\t\t test_func_R.ipynb\n",
      "23_setup_script_app_SH.ipynb\t\t test_func_SH.ipynb\n",
      "24_setup_script_bedtools_SH.ipynb\t test.simrep.hg38.bed\n",
      "25_setup_script_ucsc_SH.ipynb\t\t test.simrep.summary.tsv\n",
      "26_setup_other_SH.ipynb\t\t\t test.txt\n",
      "27_setup_other_R.ipynb\t\t\t test.txt.gz\n",
      "31_check_script_test_SH.ipynb\t\t x1_wrap_image.ipynb\n",
      "32_check_script_ucsc_SH.ipynb\t\t x2_test_export.ipynb\n",
      "33_check_script_bedtools_SH.ipynb\t x4_summary_info_R.ipynb\n",
      "3x_check_script_app.ipynb\t\t y1_rcc_check_sing_script_SH.ipynb\n"
     ]
    }
   ],
   "source": [
    "${FP_EXE} ${FP_CNF} ls"
   ]
  },
  {
   "cell_type": "code",
   "execution_count": 7,
   "id": "a838d983-c534-447d-b612-f4aa07e473b9",
   "metadata": {},
   "outputs": [
    {
     "name": "stdout",
     "output_type": "stream",
     "text": [
      "/shared/data/reddylab/Kuei/envs/env_jupyterlab_venv/bin/python\n"
     ]
    }
   ],
   "source": [
    "which python"
   ]
  },
  {
   "cell_type": "code",
   "execution_count": 6,
   "id": "3e7f056e-e65d-4b39-84e6-4f62411e4156",
   "metadata": {},
   "outputs": [
    {
     "name": "stdout",
     "output_type": "stream",
     "text": [
      "/opt/conda/bin/python\n",
      "Python 3.11.6\n"
     ]
    }
   ],
   "source": [
    "${FP_EXE} ${FP_CNF} which python\n",
    "${FP_EXE} ${FP_CNF} python -V"
   ]
  },
  {
   "cell_type": "code",
   "execution_count": 8,
   "id": "018cfd1d-2387-40ee-b56d-3a303748e1b6",
   "metadata": {},
   "outputs": [
    {
     "name": "stdout",
     "output_type": "stream",
     "text": [
      "/usr/bin/which: no R in (/data/reddylab/Kuei/bins/ucsc:/data/reddylab/Kuei/bins:/shared/data/reddylab/Kuei/envs/env_jupyterlab_venv/bin:/data/reddylab/Kuei/bins/ucsc:/data/reddylab/Kuei/bins:/shared/home/kk319/.vscode-server/cli/servers/Stable-e8653663e8840adaf45af01eab5c627a5af81807/server/bin/remote-cli:/cm/local/apps/gcc/11.2.0/bin:/home/kk319/.local/bin:/home/kk319/bin:/cm/shared/apps/git/2.9.5/bin:/cm/shared/apps/slurm/current/sbin:/cm/shared/apps/slurm/current/bin:/cm/local/apps/environment-modules/4.5.3//bin:/usr/local/bin:/usr/bin:/usr/local/sbin:/usr/sbin:/sbin:/usr/sbin:/cm/local/apps/environment-modules/4.5.3/bin:/opt/dell/srvadmin/bin)\n"
     ]
    },
    {
     "ename": "",
     "evalue": "1",
     "output_type": "error",
     "traceback": []
    }
   ],
   "source": [
    "which R"
   ]
  },
  {
   "cell_type": "code",
   "execution_count": 10,
   "id": "989c34fc-db83-4f0f-84c4-94b9d9947e5e",
   "metadata": {},
   "outputs": [
    {
     "name": "stdout",
     "output_type": "stream",
     "text": [
      "/usr/bin/Rscript\n",
      "               _                           \n",
      "platform       x86_64-pc-linux-gnu         \n",
      "arch           x86_64                      \n",
      "os             linux-gnu                   \n",
      "system         x86_64, linux-gnu           \n",
      "status                                     \n",
      "major          4                           \n",
      "minor          4.1                         \n",
      "year           2024                        \n",
      "month          06                          \n",
      "day            14                          \n",
      "svn rev        86737                       \n",
      "language       R                           \n",
      "version.string R version 4.4.1 (2024-06-14)\n",
      "nickname       Race for Your Life          \n"
     ]
    }
   ],
   "source": [
    "${FP_EXE} ${FP_CNF} which Rscript\n",
    "${FP_EXE} ${FP_CNF} Rscript -e 'R.version'"
   ]
  },
  {
   "cell_type": "code",
   "execution_count": null,
   "id": "78faa150-264a-4827-b5c4-ec976766c4e8",
   "metadata": {},
   "outputs": [],
   "source": []
  }
 ],
 "metadata": {
  "kernelspec": {
   "display_name": "Bash",
   "language": "bash",
   "name": "bash"
  },
  "language_info": {
   "codemirror_mode": "shell",
   "file_extension": ".sh",
   "mimetype": "text/x-sh",
   "name": "bash"
  }
 },
 "nbformat": 4,
 "nbformat_minor": 5
}
