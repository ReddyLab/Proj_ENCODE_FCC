{
 "cells": [
  {
   "cell_type": "markdown",
   "id": "2ef53754-0f35-407a-b92d-63ef96dc6aca",
   "metadata": {},
   "source": [
    "# Setup folder structure and file arrangement of the project on Duke HARDAC Server"
   ]
  },
  {
   "cell_type": "markdown",
   "id": "2ff6d99f-c8d9-44a8-9218-9ddf2efa0cbc",
   "metadata": {},
   "source": [
    "```\n",
    "PROJECT\n",
    "├── app\n",
    "│   └── singularity_proj_encode_fcc.sif\n",
    "├── data\n",
    "│   ├── external\n",
    "│   └── processed\n",
    "├── results\n",
    "├── scripts\n",
    "├── references\n",
    "├── notebooks\n",
    "├── docs\n",
    "├── site\n",
    "├── log\n",
    "├── README.md\n",
    "└── .gitignore\n",
    "```"
   ]
  },
  {
   "cell_type": "markdown",
   "id": "8cd7f2bd-13ee-4dbe-b6a7-5e7133e5302c",
   "metadata": {},
   "source": [
    "**Set environment**"
   ]
  },
  {
   "cell_type": "code",
   "execution_count": 1,
   "id": "61d922af-6ef1-4766-9f8a-6ad1fb6d0bf4",
   "metadata": {},
   "outputs": [
    {
     "name": "stdout",
     "output_type": "stream",
     "text": [
      "You are working on             Duke HARDAC\n",
      "BASE DIRECTORY (FD_BASE):      /data/reddylab/Kuei\n",
      "REPO DIRECTORY (FD_REPO):      /data/reddylab/Kuei/repo\n",
      "WORK DIRECTORY (FD_WORK):      /data/reddylab/Kuei/work\n",
      "DATA DIRECTORY (FD_DATA):      /data/reddylab/Kuei/data\n",
      "CONTAINER DIR. (FD_SING):      /data/reddylab/Kuei/container\n",
      "\n",
      "You are working with           ENCODE FCC\n",
      "PATH OF PROJECT (FD_PRJ):      /data/reddylab/Kuei/repo/Proj_CombEffect_ENCODE_FCC\n",
      "PROJECT RESULTS (FD_RES):      /data/reddylab/Kuei/repo/Proj_CombEffect_ENCODE_FCC/results\n",
      "PROJECT SCRIPTS (FD_EXE):      /data/reddylab/Kuei/repo/Proj_CombEffect_ENCODE_FCC/scripts\n",
      "PROJECT DATA    (FD_DAT):      /data/reddylab/Kuei/repo/Proj_CombEffect_ENCODE_FCC/data\n",
      "PROJECT NOTE    (FD_NBK):      /data/reddylab/Kuei/repo/Proj_CombEffect_ENCODE_FCC/notebooks\n",
      "PROJECT DOCS    (FD_DOC):      /data/reddylab/Kuei/repo/Proj_CombEffect_ENCODE_FCC/docs\n",
      "PROJECT LOG     (FD_LOG):      /data/reddylab/Kuei/repo/Proj_CombEffect_ENCODE_FCC/log\n",
      "PROJECT APP     (FD_APP):      /data/reddylab/Kuei/repo/Proj_CombEffect_ENCODE_FCC/app\n",
      "PROJECT REF     (FD_REF):      /data/reddylab/Kuei/repo/Proj_CombEffect_ENCODE_FCC/references\n",
      "PROJECT IMAGE   (FP_PRJ_SIF):  /data/reddylab/Kuei/repo/Proj_CombEffect_ENCODE_FCC/app/singularity_proj_encode_fcc.sif\n",
      "\n"
     ]
    }
   ],
   "source": [
    "source ../get_config.sh\n",
    "show_env"
   ]
  },
  {
   "cell_type": "code",
   "execution_count": 6,
   "id": "5f819fb7-2937-4325-ae42-28b92e997223",
   "metadata": {},
   "outputs": [
    {
     "name": "stdout",
     "output_type": "stream",
     "text": [
      "/data/reddylab/Kuei/repo/Proj_CombEffect_ENCODE_FCC\n",
      "\u001b[0m\u001b[38;5;27mapp\u001b[0m\n",
      "\u001b[38;5;51mdata\u001b[0m\n",
      "\u001b[38;5;27mdocs\u001b[0m\n",
      "\u001b[38;5;51mlog\u001b[0m\n",
      "\u001b[38;5;27mnotebooks\u001b[0m\n",
      "README.md\n",
      "\u001b[38;5;27mreferences\u001b[0m\n",
      "\u001b[38;5;51mresults\u001b[0m\n",
      "\u001b[38;5;27mscripts\u001b[0m\n",
      "\u001b[38;5;27msite\u001b[0m\n",
      "\u001b[38;5;27mtests\u001b[0m\n",
      "\u001b[38;5;27mtmp\u001b[0m\n"
     ]
    }
   ],
   "source": [
    "echo  ${FD_PRJ}\n",
    "ls -1 ${FD_PRJ}"
   ]
  },
  {
   "cell_type": "code",
   "execution_count": 8,
   "id": "720eb8ba-d971-4693-925e-ab70de8d124d",
   "metadata": {},
   "outputs": [
    {
     "name": "stdout",
     "output_type": "stream",
     "text": [
      "/data/reddylab/Kuei/repo/Proj_CombEffect_ENCODE_FCC/tmp\n",
      "\u001b[0m\u001b[38;5;27mnotebooks_pre\u001b[0m\n",
      "\u001b[38;5;27mnotebooks_v1\u001b[0m\n",
      "\u001b[38;5;27mnotebooks_v2\u001b[0m\n",
      "\u001b[38;5;27mnotebooks_v3\u001b[0m\n",
      "\u001b[38;5;27mnotebooks_v4\u001b[0m\n",
      "test.txt\n"
     ]
    }
   ],
   "source": [
    "echo  ${FD_PRJ}/tmp\n",
    "ls -1 ${FD_PRJ}/tmp"
   ]
  },
  {
   "cell_type": "code",
   "execution_count": 4,
   "id": "f49bbde4-21d3-4dbc-8cd5-9f51a1b39b12",
   "metadata": {},
   "outputs": [
    {
     "name": "stdout",
     "output_type": "stream",
     "text": [
      "\u001b[0m\u001b[38;5;27mbiocontainer\u001b[0m  \u001b[38;5;27mhome\u001b[0m  \u001b[38;5;27mproject\u001b[0m  \u001b[38;5;27mproject_backup\u001b[0m  \u001b[38;5;27mproject_tmp\u001b[0m  \u001b[38;5;27mrstudio_tmp\u001b[0m  \u001b[38;5;27mtoolbox\u001b[0m\n",
      "singularity_motif.sif            singularity_scratch.sif\n",
      "singularity_proj_encode_fcc.sif  singularity_test.sif\n"
     ]
    }
   ],
   "source": [
    "ls ${FD_SING}\n",
    "ls ${FD_SING}/project"
   ]
  },
  {
   "cell_type": "markdown",
   "id": "b6b13c3a-1ace-40fb-86a5-143c778652c4",
   "metadata": {},
   "source": [
    "## Set executable\n",
    "```\n",
    "chmod +x file\n",
    "```"
   ]
  },
  {
   "cell_type": "code",
   "execution_count": 14,
   "id": "00f4f08f-043a-40bf-a506-79d1b2628e11",
   "metadata": {},
   "outputs": [
    {
     "name": "stdout",
     "output_type": "stream",
     "text": [
      "/data/reddylab/Kuei/repo/Proj_CombEffect_ENCODE_FCC/scripts\n"
     ]
    }
   ],
   "source": [
    "echo ${FD_EXE}"
   ]
  },
  {
   "cell_type": "code",
   "execution_count": 21,
   "id": "59f04ecc-3244-4acd-b1ef-05e697211852",
   "metadata": {},
   "outputs": [
    {
     "name": "stdout",
     "output_type": "stream",
     "text": [
      "\u001b[0m\u001b[38;5;34mconfig_func.sh\u001b[0m\n",
      "\u001b[38;5;34mconfig_path_duke_hardac.sh\u001b[0m\n",
      "\u001b[38;5;34mconfig_path_sing.sh\u001b[0m\n",
      "\u001b[38;5;34mconfig_project.sh\u001b[0m\n",
      "\u001b[38;5;34mconfig_venv_wrapper.sh\u001b[0m\n",
      "\u001b[38;5;34msing_jupyter.sh\u001b[0m\n",
      "\u001b[38;5;34msing_quarto.sh\u001b[0m\n",
      "\u001b[38;5;34msing_script.sh\u001b[0m\n"
     ]
    }
   ],
   "source": [
    "#chmod +x ${FD_EXE}/sing_*.sh\n",
    "chmod +x ${FD_EXE}/*\n",
    "ls -1 ${FD_EXE}"
   ]
  },
  {
   "cell_type": "markdown",
   "id": "44cc0760-fdf9-44ad-9dc7-6ade43408f29",
   "metadata": {
    "tags": []
   },
   "source": [
    "## Create symlinks\n",
    "```\n",
    "ln -s file link\n",
    "```"
   ]
  },
  {
   "cell_type": "markdown",
   "id": "ad336ebf-52ce-4cdd-a022-33e59efaa1fe",
   "metadata": {},
   "source": [
    "```\n",
    "<PROJECT>\n",
    "├── app\n",
    "│   └── singularity_proj_encode_fcc.sif -> <CONTAINER>/project/singularity_proj_encode_fcc.sif\n",
    "├── data    -> <WORK>/data\n",
    "├── results -> <WORK>/results\n",
    "├── scripts\n",
    "├── references\n",
    "├── notebooks\n",
    "├── docs\n",
    "├── site\n",
    "├── log     -> <WORK>/log\n",
    "├── README.md\n",
    "└── .gitignore\n",
    "```"
   ]
  },
  {
   "cell_type": "code",
   "execution_count": 57,
   "id": "5a2017ee-8812-438c-9f31-5a2e2b3940da",
   "metadata": {},
   "outputs": [
    {
     "name": "stdout",
     "output_type": "stream",
     "text": [
      "FILE exist.\n",
      "LINK exist.\n",
      "Both FILE and LINK exist.\n",
      "- FILE is not a symbolic link\n",
      "- LINK is a symbolic link\n",
      "\n",
      "\u001b[0m\u001b[38;5;27m/data/reddylab/Kuei/work/proj_combeffect_encode_fcc/data\u001b[0m\n",
      "lrwxrwxrwx 1 kk319 reddylab 56 Feb 15 11:14 \u001b[0m\u001b[38;5;51m/data/reddylab/Kuei/repo/Proj_CombEffect_ENCODE_FCC/data\u001b[0m -> \u001b[38;5;27m/data/reddylab/Kuei/work/proj_combeffect_encode_fcc/data\u001b[0m\u001b[K\n"
     ]
    }
   ],
   "source": [
    "FILE=${FD_WORK}/proj_combeffect_encode_fcc/data\n",
    "LINK=${FD_PRJ}/data\n",
    "\n",
    "if [[ -e ${FILE} ]]; then\n",
    "    echo \"FILE exist.\"\n",
    "else\n",
    "    echo \"FILE does not exist\"\n",
    "fi\n",
    "\n",
    "if [[ -e ${LINK} ]]; then\n",
    "    echo \"LINK exist.\"\n",
    "else\n",
    "    echo \"LINK does not exist\"\n",
    "fi\n",
    "\n",
    "if [[ -e ${FILE} && ! -e ${LINK} ]]; then\n",
    "    echo \"Create symbolic links: LINK -> FILE\"\n",
    "    ln -s ${FILE} ${LINK}\n",
    "fi\n",
    "\n",
    "if [[ -e ${FILE}  &&  -e ${LINK} ]]; then\n",
    "    echo \"Both FILE and LINK exist.\"\n",
    "    \n",
    "    if [ -h ${FILE} ]; then\n",
    "        echo \"- FILE is a symbolic link\"\n",
    "    else\n",
    "        echo \"- FILE is not a symbolic link\"\n",
    "    fi\n",
    "    \n",
    "    if [ -h ${LINK} ]; then\n",
    "        echo \"- LINK is a symbolic link\"\n",
    "    else\n",
    "        echo \"- LINK is not a symbolic link\"\n",
    "    fi\n",
    "    \n",
    "else\n",
    "    echo \"either FILE or LINK does not exist.\"\n",
    "fi\n",
    "\n",
    "echo\n",
    "ls -d ${FILE}\n",
    "ls -l ${LINK}"
   ]
  },
  {
   "cell_type": "code",
   "execution_count": 59,
   "id": "9abca4fd-d79e-4b22-b372-9bdd94723a07",
   "metadata": {
    "tags": []
   },
   "outputs": [
    {
     "name": "stdout",
     "output_type": "stream",
     "text": [
      "FILE exist.\n",
      "LINK exist.\n",
      "\n",
      "\u001b[0m\u001b[38;5;27m/data/reddylab/Kuei/work/proj_combeffect_encode_fcc/log\u001b[0m\n",
      "lrwxrwxrwx 1 kk319 reddylab 55 Feb 15 11:14 \u001b[0m\u001b[38;5;51m/data/reddylab/Kuei/repo/Proj_CombEffect_ENCODE_FCC/log\u001b[0m -> \u001b[38;5;27m/data/reddylab/Kuei/work/proj_combeffect_encode_fcc/log\u001b[0m\u001b[K\n"
     ]
    }
   ],
   "source": [
    "FILE=${FD_WORK}/proj_combeffect_encode_fcc/log\n",
    "LINK=${FD_PRJ}/log\n",
    "\n",
    "if [[ -e ${FILE} ]]; then\n",
    "    echo \"FILE exist.\"\n",
    "else\n",
    "    echo \"FILE does not exist\"\n",
    "fi\n",
    "\n",
    "if [[ -e ${LINK} ]]; then\n",
    "    echo \"LINK exist.\"\n",
    "else\n",
    "    echo \"LINK does not exist\"\n",
    "fi\n",
    "\n",
    "if [[ -e ${FILE} && ! -e ${LINK} ]]; then\n",
    "    echo \"Create symbolic links: LINK -> FILE\"\n",
    "    ln -s ${FILE} ${LINK}\n",
    "fi\n",
    "\n",
    "echo\n",
    "ls -d ${FILE}\n",
    "ls -l ${LINK}"
   ]
  },
  {
   "cell_type": "code",
   "execution_count": 60,
   "id": "bc8e163c-8568-47e2-a16e-cc4bfb571943",
   "metadata": {},
   "outputs": [
    {
     "name": "stdout",
     "output_type": "stream",
     "text": [
      "FILE exist.\n",
      "LINK exist.\n",
      "\n",
      "\u001b[0m\u001b[38;5;27m/data/reddylab/Kuei/work/proj_combeffect_encode_fcc/results\u001b[0m\n",
      "lrwxrwxrwx 1 kk319 reddylab 59 Feb 15 11:14 \u001b[0m\u001b[38;5;51m/data/reddylab/Kuei/repo/Proj_CombEffect_ENCODE_FCC/results\u001b[0m -> \u001b[38;5;27m/data/reddylab/Kuei/work/proj_combeffect_encode_fcc/results\u001b[0m\u001b[K\n"
     ]
    }
   ],
   "source": [
    "FILE=${FD_WORK}/proj_combeffect_encode_fcc/results\n",
    "LINK=${FD_PRJ}/results\n",
    "\n",
    "if [[ -e ${FILE} ]]; then\n",
    "    echo \"FILE exist.\"\n",
    "else\n",
    "    echo \"FILE does not exist\"\n",
    "fi\n",
    "\n",
    "if [[ -e ${LINK} ]]; then\n",
    "    echo \"LINK exist.\"\n",
    "else\n",
    "    echo \"LINK does not exist\"\n",
    "fi\n",
    "\n",
    "if [[ -e ${FILE} && ! -e ${LINK} ]]; then\n",
    "    echo \"Create symbolic links: LINK -> FILE\"\n",
    "    ln -s ${FILE} ${LINK}\n",
    "fi\n",
    "\n",
    "echo\n",
    "ls -d ${FILE}\n",
    "ls -l ${LINK}"
   ]
  },
  {
   "cell_type": "code",
   "execution_count": 64,
   "id": "d51509d9-6f71-4d16-8c9a-6a4b1e290d55",
   "metadata": {},
   "outputs": [
    {
     "name": "stdout",
     "output_type": "stream",
     "text": [
      "FILE exist.\n",
      "LINK exist.\n",
      "\n",
      "-rw-rw-r-- 1 kk319 reddylab 2.7G Oct 22 12:26 /data/reddylab/Kuei/container/project/singularity_proj_encode_fcc.sif\n",
      "lrwxrwxrwx 1 kk319 reddylab 69 Feb 12 17:20 \u001b[0m\u001b[38;5;51m/data/reddylab/Kuei/repo/Proj_CombEffect_ENCODE_FCC/app/singularity_proj_encode_fcc.sif\u001b[0m\u001b[K -> /data/reddylab/Kuei/container/project/singularity_proj_encode_fcc.sif\n"
     ]
    }
   ],
   "source": [
    "FILE=${FD_SING}/project/singularity_proj_encode_fcc.sif\n",
    "LINK=${FD_APP}/singularity_proj_encode_fcc.sif\n",
    "\n",
    "if [[ -e ${FILE} ]]; then\n",
    "    echo \"FILE exist.\"\n",
    "else\n",
    "    echo \"FILE does not exist\"\n",
    "fi\n",
    "\n",
    "if [[ -e ${LINK} ]]; then\n",
    "    echo \"LINK exist.\"\n",
    "else\n",
    "    echo \"LINK does not exist\"\n",
    "fi\n",
    "\n",
    "if [[ -e ${FILE} && ! -e ${LINK} ]]; then\n",
    "    echo \"Create symbolic links: LINK -> FILE\"\n",
    "    ln -s ${FILE} ${LINK}\n",
    "fi\n",
    "\n",
    "echo\n",
    "ls -lh ${FILE}\n",
    "ls -lh ${LINK}"
   ]
  },
  {
   "cell_type": "code",
   "execution_count": null,
   "id": "fb84cab4-722b-406a-8c7f-42fef39b24d6",
   "metadata": {},
   "outputs": [],
   "source": []
  },
  {
   "cell_type": "code",
   "execution_count": 68,
   "id": "88b91494-9388-4354-b10c-d008e4ddd517",
   "metadata": {},
   "outputs": [
    {
     "name": "stdout",
     "output_type": "stream",
     "text": [
      "\u001b[0m\u001b[38;5;27mapp\u001b[0m\n",
      "\u001b[38;5;51mdata\u001b[0m\n",
      "\u001b[38;5;27mdocs\u001b[0m\n",
      "\u001b[38;5;51mlog\u001b[0m\n",
      "\u001b[38;5;27mnotebooks\u001b[0m\n",
      "README.md\n",
      "\u001b[38;5;27mreferences\u001b[0m\n",
      "\u001b[38;5;51mresults\u001b[0m\n",
      "\u001b[38;5;27mscripts\u001b[0m\n",
      "\u001b[38;5;27msite\u001b[0m\n",
      "\u001b[38;5;27mtests\u001b[0m\n",
      "test.txt\n",
      "\u001b[38;5;27mtmp\u001b[0m\n"
     ]
    }
   ],
   "source": [
    "ls -1 ${FD_PRJ}"
   ]
  },
  {
   "cell_type": "code",
   "execution_count": 66,
   "id": "cedcefa1-1f8c-4798-92a6-b4dde3be5c03",
   "metadata": {},
   "outputs": [
    {
     "name": "stdout",
     "output_type": "stream",
     "text": [
      "total 42\n",
      "drwxrwsr-x+ 2 kk319 reddylab  512 Feb 12 17:20 \u001b[0m\u001b[38;5;27mapp\u001b[0m\n",
      "lrwxrwxrwx  1 kk319 reddylab   56 Feb 15 11:14 \u001b[38;5;51mdata\u001b[0m -> \u001b[38;5;27m/data/reddylab/Kuei/work/proj_combeffect_encode_fcc/data\u001b[0m\u001b[K\n",
      "drwxr-sr-x+ 4 kk319 reddylab  512 Feb 14 14:51 \u001b[38;5;27mdocs\u001b[0m\n",
      "lrwxrwxrwx  1 kk319 reddylab   55 Feb 15 11:14 \u001b[38;5;51mlog\u001b[0m -> \u001b[38;5;27m/data/reddylab/Kuei/work/proj_combeffect_encode_fcc/log\u001b[0m\n",
      "drwxrwsr-x+ 9 kk319 reddylab  512 Feb 13 14:45 \u001b[38;5;27mnotebooks\u001b[0m\n",
      "-rw-rw-r--  1 kk319 reddylab  164 Feb 12 10:40 README.md\n",
      "drwxrwsr-x+ 2 kk319 reddylab  512 Feb 12 13:21 \u001b[38;5;27mreferences\u001b[0m\n",
      "lrwxrwxrwx  1 kk319 reddylab   59 Feb 15 11:14 \u001b[38;5;51mresults\u001b[0m -> \u001b[38;5;27m/data/reddylab/Kuei/work/proj_combeffect_encode_fcc/results\u001b[0m\u001b[K\n",
      "drwxrwsr-x+ 3 kk319 reddylab 8192 Feb 14 12:43 \u001b[38;5;27mscripts\u001b[0m\n",
      "drwxrwsr-x+ 7 kk319 reddylab 8192 Feb 14 14:51 \u001b[38;5;27msite\u001b[0m\n",
      "drwxrwsr-x+ 2 kk319 reddylab  512 Feb 12 13:21 \u001b[38;5;27mtests\u001b[0m\n",
      "-rw-rw-r--  1 kk319 reddylab    8 Feb 12 10:43 test.txt\n",
      "drwxrwsr-x+ 7 kk319 reddylab  512 Feb 12 14:36 \u001b[38;5;27mtmp\u001b[0m\n"
     ]
    }
   ],
   "source": [
    "ls -l ${FD_PRJ}"
   ]
  },
  {
   "cell_type": "code",
   "execution_count": null,
   "id": "53f9c699-a9c9-4c14-9460-d97d9c2bb497",
   "metadata": {},
   "outputs": [],
   "source": []
  }
 ],
 "metadata": {
  "kernelspec": {
   "display_name": "Bash",
   "language": "bash",
   "name": "bash"
  },
  "language_info": {
   "codemirror_mode": "shell",
   "file_extension": ".sh",
   "mimetype": "text/x-sh",
   "name": "bash"
  }
 },
 "nbformat": 4,
 "nbformat_minor": 5
}
