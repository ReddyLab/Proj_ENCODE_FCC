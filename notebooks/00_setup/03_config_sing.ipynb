{
 "cells": [
  {
   "cell_type": "code",
   "execution_count": 1,
   "id": "66f0d372-e42a-4621-a63c-181ebe7fc025",
   "metadata": {},
   "outputs": [
    {
     "name": "stdout",
     "output_type": "stream",
     "text": [
      "You are working on             Singularity\n",
      "BASE DIRECTORY (FD_BASE):      /mount\n",
      "REPO DIRECTORY (FD_REPO):      /mount/repo\n",
      "WORK DIRECTORY (FD_WORK):      /mount/work\n",
      "DATA DIRECTORY (FD_DATA):      /mount/data\n",
      "CONTAINER DIR. (FD_SING):      /data/reddylab/Kuei/container\n",
      "\n",
      "You are working with           ENCODE FCC\n",
      "PATH OF PROJECT (FD_PRJ):      /mount/repo/Proj_CombEffect_ENCODE_FCC\n",
      "PROJECT RESULTS (FD_RES):      /mount/repo/Proj_CombEffect_ENCODE_FCC/results\n",
      "PROJECT SCRIPTS (FD_EXE):      /mount/repo/Proj_CombEffect_ENCODE_FCC/scripts\n",
      "PROJECT DATA    (FD_DAT):      /mount/repo/Proj_CombEffect_ENCODE_FCC/data\n",
      "PROJECT NOTE    (FD_NBK):      /mount/repo/Proj_CombEffect_ENCODE_FCC/notebooks\n",
      "PROJECT DOCS    (FD_DOC):      /mount/repo/Proj_CombEffect_ENCODE_FCC/docs\n",
      "PROJECT LOG     (FD_LOG):      /mount/repo/Proj_CombEffect_ENCODE_FCC/log\n",
      "PROJECT APP     (FD_APP):      /mount/repo/Proj_CombEffect_ENCODE_FCC/app\n",
      "PROJECT REF     (FD_REF):      /mount/repo/Proj_CombEffect_ENCODE_FCC/references\n",
      "PROJECT IMAGE   (FP_PRJ_SIF):  /mount/repo/Proj_CombEffect_ENCODE_FCC/app/singularity_proj_encode_fcc.sif\n",
      "\n"
     ]
    }
   ],
   "source": [
    "source ../get_config.sh\n",
    "show_env"
   ]
  },
  {
   "cell_type": "code",
   "execution_count": 2,
   "id": "7588d581-c534-4963-8bd5-e2f4fa35f378",
   "metadata": {},
   "outputs": [
    {
     "name": "stdout",
     "output_type": "stream",
     "text": [
      "You are working on             Singularity\n",
      "BASE DIRECTORY (FD_BASE):      /data/reddylab/Kuei\n",
      "REPO DIRECTORY (FD_REPO):      /data/reddylab/Kuei/repo\n",
      "WORK DIRECTORY (FD_WORK):      /data/reddylab/Kuei/work\n",
      "DATA DIRECTORY (FD_DATA):      /data/reddylab/Kuei/data\n",
      "CONTAINER DIR. (FD_SING):      /data/reddylab/Kuei/container\n",
      "\n",
      "You are working with           ENCODE FCC\n",
      "PATH OF PROJECT (FD_PRJ):      /mount/repo/Proj_CombEffect_ENCODE_FCC\n",
      "PROJECT RESULTS (FD_RES):      /mount/repo/Proj_CombEffect_ENCODE_FCC/results\n",
      "PROJECT SCRIPTS (FD_EXE):      /mount/repo/Proj_CombEffect_ENCODE_FCC/scripts\n",
      "PROJECT DATA    (FD_DAT):      /mount/repo/Proj_CombEffect_ENCODE_FCC/data\n",
      "PROJECT NOTE    (FD_NBK):      /mount/repo/Proj_CombEffect_ENCODE_FCC/notebooks\n",
      "PROJECT DOCS    (FD_DOC):      /mount/repo/Proj_CombEffect_ENCODE_FCC/docs\n",
      "PROJECT LOG     (FD_LOG):      /mount/repo/Proj_CombEffect_ENCODE_FCC/log\n",
      "PROJECT APP     (FD_APP):      /mount/repo/Proj_CombEffect_ENCODE_FCC/app\n",
      "PROJECT REF     (FD_REF):      /mount/repo/Proj_CombEffect_ENCODE_FCC/references\n",
      "PROJECT IMAGE   (FP_PRJ_SIF):  /mount/repo/Proj_CombEffect_ENCODE_FCC/app/singularity_proj_encode_fcc.sif\n",
      "\n"
     ]
    }
   ],
   "source": [
    "source ../../scripts/config_path_duke_hardac.sh\n",
    "show_env"
   ]
  },
  {
   "cell_type": "code",
   "execution_count": 3,
   "id": "3af6efe0-d532-4cd6-a598-edcb5e7c4cde",
   "metadata": {},
   "outputs": [
    {
     "name": "stdout",
     "output_type": "stream",
     "text": [
      "Proj_CombEffect_ENCODE_FCC  Proj_multitreat_modeling  Settool_Bio\n",
      "Proj_CombEffect_STARRseq    Proj_PROcap_analysis      shared\n",
      "Proj_ENCODE_FCC\t\t    scratch\t\t      tmp\n"
     ]
    }
   ],
   "source": [
    "ls /mount/repo"
   ]
  },
  {
   "cell_type": "code",
   "execution_count": 4,
   "id": "532157f6-865b-4e20-b473-e5389cb03bde",
   "metadata": {},
   "outputs": [
    {
     "name": "stdout",
     "output_type": "stream",
     "text": [
      "Proj_CombEffect_ENCODE_FCC  Proj_multitreat_modeling  Settool_Bio\n",
      "Proj_CombEffect_STARRseq    Proj_PROcap_analysis      shared\n",
      "Proj_ENCODE_FCC\t\t    scratch\t\t      tmp\n"
     ]
    }
   ],
   "source": [
    "ls /data/reddylab/Kuei/repo"
   ]
  },
  {
   "cell_type": "code",
   "execution_count": 5,
   "id": "12ff880a-2bc7-4c3f-b622-158a0d97854d",
   "metadata": {},
   "outputs": [
    {
     "name": "stdout",
     "output_type": "stream",
     "text": [
      "proj_combeffect  proj_combeffect_encode_fcc  scratch  trackhub\n"
     ]
    }
   ],
   "source": [
    "ls /mount/work"
   ]
  },
  {
   "cell_type": "code",
   "execution_count": 6,
   "id": "ca183797-7a47-411d-8998-427afbfcbb4f",
   "metadata": {},
   "outputs": [
    {
     "name": "stdout",
     "output_type": "stream",
     "text": [
      "proj_combeffect  proj_combeffect_encode_fcc  scratch  trackhub\n"
     ]
    }
   ],
   "source": [
    "ls /data/reddylab/Kuei/work"
   ]
  },
  {
   "cell_type": "code",
   "execution_count": null,
   "id": "255d803f-9b9f-4c7c-997c-b052fa55ea55",
   "metadata": {},
   "outputs": [],
   "source": []
  }
 ],
 "metadata": {
  "kernelspec": {
   "display_name": "Bash",
   "language": "bash",
   "name": "bash"
  },
  "language_info": {
   "codemirror_mode": "shell",
   "file_extension": ".sh",
   "mimetype": "text/x-sh",
   "name": "bash"
  }
 },
 "nbformat": 4,
 "nbformat_minor": 5
}
