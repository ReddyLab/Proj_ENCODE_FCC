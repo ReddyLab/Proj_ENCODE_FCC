{
 "cells": [
  {
   "cell_type": "code",
   "execution_count": null,
   "id": "f81af896-c75c-4556-a116-bcb494f7fbe9",
   "metadata": {},
   "outputs": [],
   "source": [
    "import igv_notebook"
   ]
  },
  {
   "cell_type": "code",
   "execution_count": null,
   "id": "fff70d18-59d5-420d-aa13-1fa4528f4d08",
   "metadata": {},
   "outputs": [],
   "source": [
    "### ASTARR\n",
    "ID_TRACK = \"ASTARR_KS91_INP1\"\n",
    "FD_TRACK = \"/mount/work/proj_combeffect_encode_fcc/data/processed/KS91_K562_hg38_ASTARRseq_210401/fragments\"\n",
    "FN_TRACK = \"KS91_K562_hg38_ASTARRseq_Input_rep1.masked.exclude_dups.cpm.bw\"\n",
    "FP_TRACK = os.path.join(FD_TRACK, FD_TRACK, FN_TRACK)\n",
    "DCT_TRACK_PATH[ID_TRACK][\"signal\"] = FP_TRACK\n",
    "\n",
    "ID_TRACK = \"ASTARR_KS91_INP2\"\n",
    "FD_TRACK = \"/mount/work/proj_combeffect_encode_fcc/data/processed/KS91_K562_hg38_ASTARRseq_210401/fragments\"\n",
    "FN_TRACK = \"KS91_K562_hg38_ASTARRseq_Input_rep2.masked.exclude_dups.cpm.bw\"\n",
    "FP_TRACK = os.path.join(FD_TRACK, FD_TRACK, FN_TRACK)\n",
    "DCT_TRACK_PATH[ID_TRACK][\"signal\"] = FP_TRACK"
   ]
  }
 ],
 "metadata": {
  "kernelspec": {
   "display_name": "Python 3 (ipykernel)",
   "language": "python",
   "name": "python3"
  },
  "language_info": {
   "codemirror_mode": {
    "name": "ipython",
    "version": 3
   },
   "file_extension": ".py",
   "mimetype": "text/x-python",
   "name": "python",
   "nbconvert_exporter": "python",
   "pygments_lexer": "ipython3",
   "version": "3.11.6"
  }
 },
 "nbformat": 4,
 "nbformat_minor": 5
}
