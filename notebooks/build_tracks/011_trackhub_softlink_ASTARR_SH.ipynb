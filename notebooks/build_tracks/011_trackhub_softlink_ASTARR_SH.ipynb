{
 "cells": [
  {
   "cell_type": "raw",
   "id": "20c5507a-a071-4230-b3e6-8858a0e8c41f",
   "metadata": {},
   "source": [
    "---\n",
    "title: Prepare STARR-seq data 01\n",
    "subtitle: Get K562 STARR-seq data files from Reddy lab\n",
    "format:\n",
    "    html:\n",
    "        code-fold:  true\n",
    "        code-tools: true\n",
    "---"
   ]
  },
  {
   "cell_type": "markdown",
   "id": "5807a071-bac1-4a6e-9f26-6a727438f0c4",
   "metadata": {},
   "source": [
    "**Set environment**"
   ]
  },
  {
   "cell_type": "code",
   "execution_count": 1,
   "id": "d74c1400-866f-4a37-9054-55baffed561a",
   "metadata": {},
   "outputs": [
    {
     "name": "stdout",
     "output_type": "stream",
     "text": [
      "You are working on             Duke Server: RCC\n",
      "BASE DIRECTORY (FD_BASE):      /data/reddylab/Kuei\n",
      "REPO DIRECTORY (FD_REPO):      /data/reddylab/Kuei/repo\n",
      "WORK DIRECTORY (FD_WORK):      /data/reddylab/Kuei/work\n",
      "DATA DIRECTORY (FD_DATA):      /data/reddylab/Kuei/data\n",
      "CONTAINER DIR. (FD_SING):      /data/reddylab/Kuei/container\n",
      "\n",
      "You are working with           ENCODE FCC\n",
      "PATH OF PROJECT (FD_PRJ):      /data/reddylab/Kuei/repo/Proj_ENCODE_FCC\n",
      "PROJECT RESULTS (FD_RES):      /data/reddylab/Kuei/repo/Proj_ENCODE_FCC/results\n",
      "PROJECT SCRIPTS (FD_EXE):      /data/reddylab/Kuei/repo/Proj_ENCODE_FCC/scripts\n",
      "PROJECT DATA    (FD_DAT):      /data/reddylab/Kuei/repo/Proj_ENCODE_FCC/data\n",
      "PROJECT NOTE    (FD_NBK):      /data/reddylab/Kuei/repo/Proj_ENCODE_FCC/notebooks\n",
      "PROJECT DOCS    (FD_DOC):      /data/reddylab/Kuei/repo/Proj_ENCODE_FCC/docs\n",
      "PROJECT LOG     (FD_LOG):      /data/reddylab/Kuei/repo/Proj_ENCODE_FCC/log\n",
      "PROJECT REF     (FD_REF):      /data/reddylab/Kuei/repo/Proj_ENCODE_FCC/references\n",
      "PROJECT IMAGE   (FP_PRJ_SIF):  /data/reddylab/Kuei/container/project/singularity_proj_encode_fcc.sif\n",
      "PROJECT CONF.   (FP_CNF):      /data/reddylab/Kuei/repo/Proj_ENCODE_FCC/scripts/config_project.sh\n",
      "\n"
     ]
    }
   ],
   "source": [
    "source ../run_config_project.sh\n",
    "show_env"
   ]
  },
  {
   "cell_type": "code",
   "execution_count": 7,
   "id": "77ce0a46-f73e-40da-af54-87b27209b392",
   "metadata": {},
   "outputs": [
    {
     "name": "stdout",
     "output_type": "stream",
     "text": [
      "/data/reddylab/Kuei/work\n",
      "\u001b[0m\u001b[01;34mproj_combeffect\u001b[0m  \u001b[01;34mproj_encode_fcc\u001b[0m  \u001b[01;34mscratch\u001b[0m  \u001b[01;34mtrackhub\u001b[0m\n",
      "\n",
      "/data/reddylab/Kuei/work/trackhub\n",
      "\u001b[0m\u001b[01;34mproj_combeffect_encode_fcc_archive241231\u001b[0m  \u001b[01;31mproj_encode_fcc.tar.gz\u001b[0m\n",
      "\u001b[01;34mproj_encode_fcc\u001b[0m\n",
      "\n",
      "/data/reddylab/Kuei/work/trackhub/proj_encode_fcc\n",
      "\u001b[0m\u001b[01;34mtrack_starrmpra\u001b[0m\n",
      "\n",
      "/data/reddylab/Kuei/work/trackhub/proj_encode_fcc/track_starrmpra\n",
      "\u001b[0m\u001b[01;34mtrack_region\u001b[0m  \u001b[01;34mtrack_signal_original\u001b[0m\n",
      "\n",
      "/data/reddylab/Kuei/work/trackhub/proj_encode_fcc/track_starrmpra/track_signal_original\n",
      "\u001b[0m\u001b[01;36mSTARRseq_ATAC.K562.TR.hg38.Input_rep1.cpm.WHG.unstranded.bw\u001b[0m\n",
      "\u001b[01;36mSTARRseq_ATAC.K562.TR.hg38.Input_rep2.cpm.WHG.unstranded.bw\u001b[0m\n",
      "\u001b[01;36mSTARRseq_ATAC.K562.TR.hg38.Input_rep3.cpm.WHG.unstranded.bw\u001b[0m\n",
      "\u001b[01;36mSTARRseq_ATAC.K562.TR.hg38.Input_rep4.cpm.WHG.unstranded.bw\u001b[0m\n",
      "\u001b[01;36mSTARRseq_ATAC.K562.TR.hg38.Input_rep5.cpm.WHG.unstranded.bw\u001b[0m\n",
      "\u001b[01;36mSTARRseq_ATAC.K562.TR.hg38.Input_rep6.cpm.WHG.unstranded.bw\u001b[0m\n",
      "\n",
      "/data/reddylab/Kuei/work/trackhub/proj_encode_fcc/track_starrmpra/track_region\n",
      "\u001b[0m\u001b[01;36mSTARRseq_ATAC.K562.TR.hg38.input.rep1.summit.bed.gz\u001b[0m\n",
      "\u001b[01;36mSTARRseq_ATAC.K562.TR.hg38.input.rep2.summit.bed.gz\u001b[0m\n",
      "\u001b[01;36mSTARRseq_ATAC.K562.TR.hg38.input.rep3.summit.bed.gz\u001b[0m\n",
      "\u001b[01;36mSTARRseq_ATAC.K562.TR.hg38.input.rep4.summit.bed.gz\u001b[0m\n",
      "\u001b[01;36mSTARRseq_ATAC.K562.TR.hg38.input.rep5.summit.bed.gz\u001b[0m\n",
      "\u001b[01;36mSTARRseq_ATAC.K562.TR.hg38.input.rep6.summit.bed.gz\u001b[0m\n",
      "\u001b[01;36mSTARRseq_ATAC.K562.TR.hg38.input.rep_all.max_overlaps.q5.bed.gz\u001b[0m\n",
      "\u001b[01;36mSTARRseq_ATAC.K562.TR.hg38.input.rep_all.union.q5.bed.gz\u001b[0m\n",
      "\n"
     ]
    }
   ],
   "source": [
    "FDIRY=${FD_WORK}\n",
    "echo ${FDIRY}\n",
    "ls   ${FDIRY}\n",
    "echo\n",
    "\n",
    "FDIRY=${FD_WORK}/trackhub\n",
    "echo ${FDIRY}\n",
    "ls   ${FDIRY}\n",
    "echo\n",
    "\n",
    "FDIRY=${FD_WORK}/trackhub/proj_encode_fcc\n",
    "echo ${FDIRY}\n",
    "ls   ${FDIRY}\n",
    "echo\n",
    "\n",
    "FDIRY=${FD_WORK}/trackhub/proj_encode_fcc/track_starrmpra\n",
    "echo ${FDIRY}\n",
    "ls   ${FDIRY}\n",
    "echo\n",
    "\n",
    "FDIRY=${FD_WORK}/trackhub/proj_encode_fcc/track_starrmpra/track_signal_original\n",
    "echo ${FDIRY}\n",
    "ls   ${FDIRY}\n",
    "echo\n",
    "\n",
    "FDIRY=${FD_WORK}/trackhub/proj_encode_fcc/track_starrmpra/track_region\n",
    "echo ${FDIRY}\n",
    "ls   ${FDIRY}\n",
    "echo"
   ]
  },
  {
   "cell_type": "markdown",
   "id": "6b3fb4ec-cc25-4987-bbaa-41de1fbe23fe",
   "metadata": {},
   "source": [
    "## ASTARR input"
   ]
  },
  {
   "cell_type": "markdown",
   "id": "3a48e83e-d756-4a7f-b2c7-78c8117ad3d4",
   "metadata": {},
   "source": [
    "### Bigwig"
   ]
  },
  {
   "cell_type": "code",
   "execution_count": 9,
   "id": "b19fc52b-fa9a-4c9b-9fbb-1e3bf0bea07a",
   "metadata": {},
   "outputs": [
    {
     "name": "stdout",
     "output_type": "stream",
     "text": [
      "KS91_K562_hg38_ASTARRseq_Input_rep1.masked.dedup.cpm.bw\n",
      "KS91_K562_hg38_ASTARRseq_Input_rep2.masked.dedup.cpm.bw\n",
      "KS91_K562_hg38_ASTARRseq_Input_rep3.masked.dedup.cpm.bw\n",
      "KS91_K562_hg38_ASTARRseq_Input_rep4.masked.dedup.cpm.bw\n",
      "KS91_K562_hg38_ASTARRseq_Input_rep5.masked.dedup.cpm.bw\n",
      "KS91_K562_hg38_ASTARRseq_Input_rep5.masked.exclude_dups.cpm.bw\n",
      "KS91_K562_hg38_ASTARRseq_Input_rep6.masked.dedup.cpm.bw\n"
     ]
    }
   ],
   "source": [
    "FD_INP=${FD_DAT}/processed/STARR_ATAC_K562_Reddy_KS91_210401/tracks\n",
    "ls -1 ${FD_INP}"
   ]
  },
  {
   "cell_type": "code",
   "execution_count": 10,
   "id": "8988c541-99a8-41b8-94e4-7619a1a02ae6",
   "metadata": {},
   "outputs": [],
   "source": [
    "FD_INP=${FD_DAT}/processed/STARR_ATAC_K562_Reddy_KS91_210401/tracks\n",
    "\n",
    "FD_OUT=${FD_WORK}/trackhub/proj_encode_fcc\n",
    "FD_OUT=${FD_OUT}/track_starrmpra\n",
    "FD_OUT=${FD_OUT}/track_signal_original\n",
    "mkdir -p ${FD_OUT}"
   ]
  },
  {
   "cell_type": "code",
   "execution_count": 11,
   "id": "6db646fe-7fab-44e8-9a82-553b60c372d6",
   "metadata": {},
   "outputs": [],
   "source": [
    "for NUM in {1..6}; do\n",
    "    FP_FILE=$(ls ${FD_INP}/KS91_K562_hg38_ASTARRseq_Input_rep${NUM}.masked.dedup.cpm.bw)\n",
    "    FN_LINK=STARRseq_ATAC.K562.TR.hg38.Input_rep${NUM}.cpm.WHG.unstranded.bw\n",
    "    FP_LINK=${FD_OUT}/${FN_LINK}\n",
    "    ln -fs ${FP_FILE} ${FP_LINK} \n",
    "done"
   ]
  },
  {
   "cell_type": "code",
   "execution_count": 12,
   "id": "29f2cceb-c749-48ef-a191-64c9caf416a0",
   "metadata": {},
   "outputs": [
    {
     "name": "stdout",
     "output_type": "stream",
     "text": [
      "\u001b[0m\u001b[01;36mSTARRseq_ATAC.K562.TR.hg38.Input_rep1.cpm.WHG.unstranded.bw\u001b[0m\n",
      "\u001b[01;36mSTARRseq_ATAC.K562.TR.hg38.Input_rep2.cpm.WHG.unstranded.bw\u001b[0m\n",
      "\u001b[01;36mSTARRseq_ATAC.K562.TR.hg38.Input_rep3.cpm.WHG.unstranded.bw\u001b[0m\n",
      "\u001b[01;36mSTARRseq_ATAC.K562.TR.hg38.Input_rep4.cpm.WHG.unstranded.bw\u001b[0m\n",
      "\u001b[01;36mSTARRseq_ATAC.K562.TR.hg38.Input_rep5.cpm.WHG.unstranded.bw\u001b[0m\n",
      "\u001b[01;36mSTARRseq_ATAC.K562.TR.hg38.Input_rep6.cpm.WHG.unstranded.bw\u001b[0m\n"
     ]
    }
   ],
   "source": [
    "ls -1 ${FD_OUT}"
   ]
  },
  {
   "cell_type": "markdown",
   "id": "d11b1455-d0d4-4f52-a4b6-ae4b3bdcfee4",
   "metadata": {},
   "source": [
    "### NarrowPeak"
   ]
  },
  {
   "cell_type": "code",
   "execution_count": 24,
   "id": "f73bbc4b-1f63-412f-bf9f-4a3c0fbec4c4",
   "metadata": {},
   "outputs": [
    {
     "name": "stdout",
     "output_type": "stream",
     "text": [
      "\u001b[0m\u001b[01;31mK562.hg38.ASTARR.macs.KS91.input.rep1.narrowpeak.bed.gz\u001b[0m\n",
      "\u001b[01;31mK562.hg38.ASTARR.macs.KS91.input.rep1.summit.bed.gz\u001b[0m\n",
      "\u001b[01;31mK562.hg38.ASTARR.macs.KS91.input.rep2.narrowpeak.bed.gz\u001b[0m\n",
      "\u001b[01;31mK562.hg38.ASTARR.macs.KS91.input.rep2.summit.bed.gz\u001b[0m\n",
      "\u001b[01;31mK562.hg38.ASTARR.macs.KS91.input.rep3.narrowpeak.bed.gz\u001b[0m\n",
      "\u001b[01;31mK562.hg38.ASTARR.macs.KS91.input.rep3.summit.bed.gz\u001b[0m\n",
      "\u001b[01;31mK562.hg38.ASTARR.macs.KS91.input.rep4.narrowpeak.bed.gz\u001b[0m\n",
      "\u001b[01;31mK562.hg38.ASTARR.macs.KS91.input.rep4.summit.bed.gz\u001b[0m\n",
      "\u001b[01;31mK562.hg38.ASTARR.macs.KS91.input.rep5.narrowpeak.bed.gz\u001b[0m\n",
      "\u001b[01;31mK562.hg38.ASTARR.macs.KS91.input.rep5.summit.bed.gz\u001b[0m\n",
      "\u001b[01;31mK562.hg38.ASTARR.macs.KS91.input.rep6.narrowpeak.bed.gz\u001b[0m\n",
      "\u001b[01;31mK562.hg38.ASTARR.macs.KS91.input.rep6.summit.bed.gz\u001b[0m\n",
      "\u001b[01;34msummary\u001b[0m\n"
     ]
    }
   ],
   "source": [
    "FD_INP=${FD_RES}/region/fcc_astarr_macs_narrowpeak\n",
    "ls -1 ${FD_INP}"
   ]
  },
  {
   "cell_type": "code",
   "execution_count": 25,
   "id": "cc7b6b89-737d-468d-a48c-a7c3898ba4e4",
   "metadata": {},
   "outputs": [],
   "source": [
    "FD_INP=${FD_RES}/region/fcc_astarr_macs_narrowpeak\n",
    "\n",
    "FD_OUT=${FD_WORK}/trackhub/proj_encode_fcc\n",
    "FD_OUT=${FD_OUT}/track_starrmpra\n",
    "FD_OUT=${FD_OUT}/track_region\n",
    "mkdir -p ${FD_OUT}"
   ]
  },
  {
   "cell_type": "code",
   "execution_count": 26,
   "id": "8ffb4dce-852a-4969-a7f8-82719d24ec92",
   "metadata": {},
   "outputs": [
    {
     "name": "stdout",
     "output_type": "stream",
     "text": [
      "K562.hg38.ASTARR.macs.KS91.input.rep1.narrowpeak.bed.gz\n",
      "STARRseq_ATAC.K562.TR.hg38.input.rep1.narrowpeak.bed.gz\n",
      "\n",
      "K562.hg38.ASTARR.macs.KS91.input.rep1.summit.bed.gz\n",
      "STARRseq_ATAC.K562.TR.hg38.input.rep1.summit.bed.gz\n",
      "\n",
      "K562.hg38.ASTARR.macs.KS91.input.rep2.narrowpeak.bed.gz\n",
      "STARRseq_ATAC.K562.TR.hg38.input.rep2.narrowpeak.bed.gz\n",
      "\n",
      "K562.hg38.ASTARR.macs.KS91.input.rep2.summit.bed.gz\n",
      "STARRseq_ATAC.K562.TR.hg38.input.rep2.summit.bed.gz\n",
      "\n",
      "K562.hg38.ASTARR.macs.KS91.input.rep3.narrowpeak.bed.gz\n",
      "STARRseq_ATAC.K562.TR.hg38.input.rep3.narrowpeak.bed.gz\n",
      "\n",
      "K562.hg38.ASTARR.macs.KS91.input.rep3.summit.bed.gz\n",
      "STARRseq_ATAC.K562.TR.hg38.input.rep3.summit.bed.gz\n",
      "\n",
      "K562.hg38.ASTARR.macs.KS91.input.rep4.narrowpeak.bed.gz\n",
      "STARRseq_ATAC.K562.TR.hg38.input.rep4.narrowpeak.bed.gz\n",
      "\n",
      "K562.hg38.ASTARR.macs.KS91.input.rep4.summit.bed.gz\n",
      "STARRseq_ATAC.K562.TR.hg38.input.rep4.summit.bed.gz\n",
      "\n",
      "K562.hg38.ASTARR.macs.KS91.input.rep5.narrowpeak.bed.gz\n",
      "STARRseq_ATAC.K562.TR.hg38.input.rep5.narrowpeak.bed.gz\n",
      "\n",
      "K562.hg38.ASTARR.macs.KS91.input.rep5.summit.bed.gz\n",
      "STARRseq_ATAC.K562.TR.hg38.input.rep5.summit.bed.gz\n",
      "\n",
      "K562.hg38.ASTARR.macs.KS91.input.rep6.narrowpeak.bed.gz\n",
      "STARRseq_ATAC.K562.TR.hg38.input.rep6.narrowpeak.bed.gz\n",
      "\n",
      "K562.hg38.ASTARR.macs.KS91.input.rep6.summit.bed.gz\n",
      "STARRseq_ATAC.K562.TR.hg38.input.rep6.summit.bed.gz\n",
      "\n"
     ]
    }
   ],
   "source": [
    "FP_INPS=($(ls ${FD_INP}/*bed.gz))\n",
    "\n",
    "for FP_INP in ${FP_INPS[@]}; do\n",
    "    PREFIX_INP=K562.hg38.ASTARR.macs.KS91\n",
    "    PREFIX_OUT=STARRseq_ATAC.K562.TR.hg38\n",
    "    \n",
    "    FN_INP=$(basename ${FP_INP})\n",
    "    FN_OUT=${FN_INP/${PREFIX_INP}/${PREFIX_OUT}}\n",
    "    \n",
    "    echo ${FN_INP}\n",
    "    echo ${FN_OUT}\n",
    "    echo\n",
    "done"
   ]
  },
  {
   "cell_type": "code",
   "execution_count": 27,
   "id": "d7c0f5ea-c2bc-4724-9786-7ba5cbbe7a6c",
   "metadata": {},
   "outputs": [
    {
     "name": "stdout",
     "output_type": "stream",
     "text": [
      "K562.hg38.ASTARR.macs.KS91.input.rep1.narrowpeak.bed.gz\n",
      "STARRseq_ATAC.K562.TR.hg38.input.rep1.narrowpeak.bed.gz\n",
      "\n",
      "K562.hg38.ASTARR.macs.KS91.input.rep1.summit.bed.gz\n",
      "STARRseq_ATAC.K562.TR.hg38.input.rep1.summit.bed.gz\n",
      "\n",
      "K562.hg38.ASTARR.macs.KS91.input.rep2.narrowpeak.bed.gz\n",
      "STARRseq_ATAC.K562.TR.hg38.input.rep2.narrowpeak.bed.gz\n",
      "\n",
      "K562.hg38.ASTARR.macs.KS91.input.rep2.summit.bed.gz\n",
      "STARRseq_ATAC.K562.TR.hg38.input.rep2.summit.bed.gz\n",
      "\n",
      "K562.hg38.ASTARR.macs.KS91.input.rep3.narrowpeak.bed.gz\n",
      "STARRseq_ATAC.K562.TR.hg38.input.rep3.narrowpeak.bed.gz\n",
      "\n",
      "K562.hg38.ASTARR.macs.KS91.input.rep3.summit.bed.gz\n",
      "STARRseq_ATAC.K562.TR.hg38.input.rep3.summit.bed.gz\n",
      "\n",
      "K562.hg38.ASTARR.macs.KS91.input.rep4.narrowpeak.bed.gz\n",
      "STARRseq_ATAC.K562.TR.hg38.input.rep4.narrowpeak.bed.gz\n",
      "\n",
      "K562.hg38.ASTARR.macs.KS91.input.rep4.summit.bed.gz\n",
      "STARRseq_ATAC.K562.TR.hg38.input.rep4.summit.bed.gz\n",
      "\n",
      "K562.hg38.ASTARR.macs.KS91.input.rep5.narrowpeak.bed.gz\n",
      "STARRseq_ATAC.K562.TR.hg38.input.rep5.narrowpeak.bed.gz\n",
      "\n",
      "K562.hg38.ASTARR.macs.KS91.input.rep5.summit.bed.gz\n",
      "STARRseq_ATAC.K562.TR.hg38.input.rep5.summit.bed.gz\n",
      "\n",
      "K562.hg38.ASTARR.macs.KS91.input.rep6.narrowpeak.bed.gz\n",
      "STARRseq_ATAC.K562.TR.hg38.input.rep6.narrowpeak.bed.gz\n",
      "\n",
      "K562.hg38.ASTARR.macs.KS91.input.rep6.summit.bed.gz\n",
      "STARRseq_ATAC.K562.TR.hg38.input.rep6.summit.bed.gz\n",
      "\n"
     ]
    }
   ],
   "source": [
    "FP_INPS=($(ls ${FD_INP}/*bed.gz))\n",
    "\n",
    "for FP_INP in ${FP_INPS[@]}; do\n",
    "    PREFIX_INP=K562.hg38.ASTARR.macs.KS91\n",
    "    PREFIX_OUT=STARRseq_ATAC.K562.TR.hg38\n",
    "    \n",
    "    FN_INP=$(basename ${FP_INP})\n",
    "    FN_OUT=${FN_INP/${PREFIX_INP}/${PREFIX_OUT}}\n",
    "    FP_OUT=${FD_OUT}/${FN_OUT}\n",
    "    \n",
    "    FP_FILE=${FP_INP}\n",
    "    FP_LINK=${FP_OUT}\n",
    "    ln -fs ${FP_FILE} ${FP_LINK} \n",
    "\n",
    "    echo ${FN_INP}\n",
    "    echo ${FN_OUT}\n",
    "    echo\n",
    "done"
   ]
  },
  {
   "cell_type": "markdown",
   "id": "7b5bfa1f-e194-4ffe-88ed-2f56882b8833",
   "metadata": {},
   "source": [
    "### Summary"
   ]
  },
  {
   "cell_type": "code",
   "execution_count": 28,
   "id": "3c5d9e21-fd0c-4260-aa2a-11ed02142fb8",
   "metadata": {},
   "outputs": [
    {
     "name": "stdout",
     "output_type": "stream",
     "text": [
      "\u001b[0m\u001b[01;31mK562.hg38.ASTARR.macs.KS91.input.rep_all.max_overlaps.q5.bed.gz\u001b[0m\n",
      "\u001b[01;31mK562.hg38.ASTARR.macs.KS91.input.rep_all.union.q5.bed.gz\u001b[0m\n",
      "\u001b[01;34msummary\u001b[0m\n",
      "\u001b[01;34mtmp\u001b[0m\n"
     ]
    }
   ],
   "source": [
    "FD_INP=${FD_RES}/region/fcc_astarr_macs\n",
    "\n",
    "ls -1 ${FD_INP}"
   ]
  },
  {
   "cell_type": "code",
   "execution_count": 29,
   "id": "1a43d946-1a09-42af-9c01-fbf7ad698276",
   "metadata": {},
   "outputs": [],
   "source": [
    "FD_INP=${FD_RES}/region/fcc_astarr_macs\n",
    "\n",
    "FD_OUT=${FD_WORK}/trackhub/proj_encode_fcc\n",
    "FD_OUT=${FD_OUT}/track_starrmpra\n",
    "FD_OUT=${FD_OUT}/track_region\n",
    "mkdir -p ${FD_OUT}"
   ]
  },
  {
   "cell_type": "code",
   "execution_count": 30,
   "id": "46139daa-0f9c-424c-827d-4feef036f06f",
   "metadata": {},
   "outputs": [
    {
     "name": "stdout",
     "output_type": "stream",
     "text": [
      "K562.hg38.ASTARR.macs.KS91.input.rep_all.max_overlaps.q5.bed.gz\n",
      "STARRseq_ATAC.K562.TR.hg38.input.rep_all.max_overlaps.q5.bed.gz\n",
      "\n",
      "K562.hg38.ASTARR.macs.KS91.input.rep_all.union.q5.bed.gz\n",
      "STARRseq_ATAC.K562.TR.hg38.input.rep_all.union.q5.bed.gz\n",
      "\n"
     ]
    }
   ],
   "source": [
    "FP_INPS=($(ls ${FD_INP}/*bed.gz))\n",
    "\n",
    "for FP_INP in ${FP_INPS[@]}; do\n",
    "    PREFIX_INP=K562.hg38.ASTARR.macs.KS91\n",
    "    PREFIX_OUT=STARRseq_ATAC.K562.TR.hg38\n",
    "    \n",
    "    FN_INP=$(basename ${FP_INP})\n",
    "    FN_OUT=${FN_INP/${PREFIX_INP}/${PREFIX_OUT}}\n",
    "    \n",
    "    echo ${FN_INP}\n",
    "    echo ${FN_OUT}\n",
    "    echo\n",
    "done"
   ]
  },
  {
   "cell_type": "code",
   "execution_count": 31,
   "id": "3b1a4d17-1e5f-4df4-bb3e-db6cccddaa46",
   "metadata": {},
   "outputs": [
    {
     "name": "stdout",
     "output_type": "stream",
     "text": [
      "K562.hg38.ASTARR.macs.KS91.input.rep_all.max_overlaps.q5.bed.gz\n",
      "STARRseq_ATAC.K562.TR.hg38.input.rep_all.max_overlaps.q5.bed.gz\n",
      "\n",
      "K562.hg38.ASTARR.macs.KS91.input.rep_all.union.q5.bed.gz\n",
      "STARRseq_ATAC.K562.TR.hg38.input.rep_all.union.q5.bed.gz\n",
      "\n"
     ]
    }
   ],
   "source": [
    "FP_INPS=($(ls ${FD_INP}/*bed.gz))\n",
    "\n",
    "for FP_INP in ${FP_INPS[@]}; do\n",
    "    PREFIX_INP=K562.hg38.ASTARR.macs.KS91\n",
    "    PREFIX_OUT=STARRseq_ATAC.K562.TR.hg38\n",
    "    \n",
    "    FN_INP=$(basename ${FP_INP})\n",
    "    FN_OUT=${FN_INP/${PREFIX_INP}/${PREFIX_OUT}}\n",
    "    FP_OUT=${FD_OUT}/${FN_OUT}\n",
    "    \n",
    "    FP_FILE=${FP_INP}\n",
    "    FP_LINK=${FP_OUT}\n",
    "    ln -fs ${FP_FILE} ${FP_LINK} \n",
    "\n",
    "    echo ${FN_INP}\n",
    "    echo ${FN_OUT}\n",
    "    echo\n",
    "done"
   ]
  },
  {
   "cell_type": "code",
   "execution_count": 32,
   "id": "a55e3dfb-8a1a-49ce-881c-0121c5c70979",
   "metadata": {},
   "outputs": [
    {
     "name": "stdout",
     "output_type": "stream",
     "text": [
      "\u001b[0m\u001b[01;36mSTARRseq_ATAC.K562.TR.hg38.input.rep1.narrowpeak.bed.gz\u001b[0m\n",
      "\u001b[01;36mSTARRseq_ATAC.K562.TR.hg38.input.rep1.summit.bed.gz\u001b[0m\n",
      "\u001b[01;36mSTARRseq_ATAC.K562.TR.hg38.input.rep2.narrowpeak.bed.gz\u001b[0m\n",
      "\u001b[01;36mSTARRseq_ATAC.K562.TR.hg38.input.rep2.summit.bed.gz\u001b[0m\n",
      "\u001b[01;36mSTARRseq_ATAC.K562.TR.hg38.input.rep3.narrowpeak.bed.gz\u001b[0m\n",
      "\u001b[01;36mSTARRseq_ATAC.K562.TR.hg38.input.rep3.summit.bed.gz\u001b[0m\n",
      "\u001b[01;36mSTARRseq_ATAC.K562.TR.hg38.input.rep4.narrowpeak.bed.gz\u001b[0m\n",
      "\u001b[01;36mSTARRseq_ATAC.K562.TR.hg38.input.rep4.summit.bed.gz\u001b[0m\n",
      "\u001b[01;36mSTARRseq_ATAC.K562.TR.hg38.input.rep5.narrowpeak.bed.gz\u001b[0m\n",
      "\u001b[01;36mSTARRseq_ATAC.K562.TR.hg38.input.rep5.summit.bed.gz\u001b[0m\n",
      "\u001b[01;36mSTARRseq_ATAC.K562.TR.hg38.input.rep6.narrowpeak.bed.gz\u001b[0m\n",
      "\u001b[01;36mSTARRseq_ATAC.K562.TR.hg38.input.rep6.summit.bed.gz\u001b[0m\n",
      "\u001b[01;36mSTARRseq_ATAC.K562.TR.hg38.input.rep_all.max_overlaps.q5.bed.gz\u001b[0m\n",
      "\u001b[01;36mSTARRseq_ATAC.K562.TR.hg38.input.rep_all.union.q5.bed.gz\u001b[0m\n"
     ]
    }
   ],
   "source": [
    "ls ${FD_OUT}"
   ]
  },
  {
   "cell_type": "code",
   "execution_count": null,
   "id": "fc155ade-083f-49ac-affe-441d7e0f5709",
   "metadata": {},
   "outputs": [],
   "source": []
  }
 ],
 "metadata": {
  "kernelspec": {
   "display_name": "Bash",
   "language": "bash",
   "name": "bash"
  },
  "language_info": {
   "codemirror_mode": "shell",
   "file_extension": ".sh",
   "mimetype": "text/x-sh",
   "name": "bash"
  }
 },
 "nbformat": 4,
 "nbformat_minor": 5
}
