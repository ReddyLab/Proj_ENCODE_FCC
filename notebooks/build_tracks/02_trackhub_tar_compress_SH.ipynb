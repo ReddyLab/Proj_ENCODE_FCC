{
 "cells": [
  {
   "cell_type": "raw",
   "id": "d41bb618-ad0d-42b7-a42a-70169d87c5c8",
   "metadata": {},
   "source": [
    "---\n",
    "title: Prepare STARR-seq data 01\n",
    "subtitle: Get K562 STARR-seq data files from Reddy lab\n",
    "format:\n",
    "    html:\n",
    "        code-fold:  true\n",
    "        code-tools: true\n",
    "---"
   ]
  },
  {
   "cell_type": "markdown",
   "id": "9b4961c3-058f-4b95-8f9d-5caf76519588",
   "metadata": {},
   "source": [
    "**Set environment**"
   ]
  },
  {
   "cell_type": "code",
   "execution_count": 1,
   "id": "831d6e57-5360-486e-8df8-eff9de733897",
   "metadata": {},
   "outputs": [
    {
     "name": "stdout",
     "output_type": "stream",
     "text": [
      "You are working on             Duke Server: RCC\n",
      "BASE DIRECTORY (FD_BASE):      /data/reddylab/Kuei\n",
      "REPO DIRECTORY (FD_REPO):      /data/reddylab/Kuei/repo\n",
      "WORK DIRECTORY (FD_WORK):      /data/reddylab/Kuei/work\n",
      "DATA DIRECTORY (FD_DATA):      /data/reddylab/Kuei/data\n",
      "CONTAINER DIR. (FD_SING):      /data/reddylab/Kuei/container\n",
      "\n",
      "You are working with           ENCODE FCC\n",
      "PATH OF PROJECT (FD_PRJ):      /data/reddylab/Kuei/repo/Proj_ENCODE_FCC\n",
      "PROJECT RESULTS (FD_RES):      /data/reddylab/Kuei/repo/Proj_ENCODE_FCC/results\n",
      "PROJECT SCRIPTS (FD_EXE):      /data/reddylab/Kuei/repo/Proj_ENCODE_FCC/scripts\n",
      "PROJECT DATA    (FD_DAT):      /data/reddylab/Kuei/repo/Proj_ENCODE_FCC/data\n",
      "PROJECT NOTE    (FD_NBK):      /data/reddylab/Kuei/repo/Proj_ENCODE_FCC/notebooks\n",
      "PROJECT DOCS    (FD_DOC):      /data/reddylab/Kuei/repo/Proj_ENCODE_FCC/docs\n",
      "PROJECT LOG     (FD_LOG):      /data/reddylab/Kuei/repo/Proj_ENCODE_FCC/log\n",
      "PROJECT REF     (FD_REF):      /data/reddylab/Kuei/repo/Proj_ENCODE_FCC/references\n",
      "PROJECT IMAGE   (FP_PRJ_SIF):  /data/reddylab/Kuei/container/project/singularity_proj_encode_fcc.sif\n",
      "PROJECT CONF.   (FP_CNF):      /data/reddylab/Kuei/repo/Proj_ENCODE_FCC/scripts/config_project.sh\n",
      "\n"
     ]
    }
   ],
   "source": [
    "source ../run_config_project.sh\n",
    "show_env"
   ]
  },
  {
   "cell_type": "code",
   "execution_count": 2,
   "id": "6bf1b564-dac5-4436-9275-4ec0b1068349",
   "metadata": {},
   "outputs": [
    {
     "name": "stdout",
     "output_type": "stream",
     "text": [
      "/data/reddylab/Kuei/work\n",
      "\u001b[0m\u001b[01;34mtrack_starrmpra\u001b[0m\n"
     ]
    }
   ],
   "source": [
    "echo ${FD_WORK}\n",
    "ls   ${FD_WORK}/trackhub/proj_combeffect_encode_fcc"
   ]
  },
  {
   "cell_type": "code",
   "execution_count": 3,
   "id": "660c985a-9837-49fe-99aa-a05aaa0a8152",
   "metadata": {},
   "outputs": [
    {
     "name": "stdout",
     "output_type": "stream",
     "text": [
      "proj_combeffect_encode_fcc/\n",
      "proj_combeffect_encode_fcc/track_starrmpra/\n",
      "proj_combeffect_encode_fcc/track_starrmpra/track_signal_original/\n",
      "proj_combeffect_encode_fcc/track_starrmpra/track_signal_original/STARRseq_ATAC.K562.TR.hg38.Input_rep1.cpm.WHG.unstranded.bw\n",
      "proj_combeffect_encode_fcc/track_starrmpra/track_signal_original/STARRseq_ATAC.K562.TR.hg38.Input_rep2.cpm.WHG.unstranded.bw\n",
      "proj_combeffect_encode_fcc/track_starrmpra/track_signal_original/STARRseq_ATAC.K562.TR.hg38.Input_rep3.cpm.WHG.unstranded.bw\n",
      "proj_combeffect_encode_fcc/track_starrmpra/track_signal_original/STARRseq_ATAC.K562.TR.hg38.Input_rep4.cpm.WHG.unstranded.bw\n",
      "proj_combeffect_encode_fcc/track_starrmpra/track_signal_original/STARRseq_ATAC.K562.TR.hg38.Input_rep5.cpm.WHG.unstranded.bw\n",
      "proj_combeffect_encode_fcc/track_starrmpra/track_signal_original/STARRseq_ATAC.K562.TR.hg38.Input_rep6.cpm.WHG.unstranded.bw\n"
     ]
    }
   ],
   "source": [
    "cd ${FD_WORK}/trackhub\n",
    "tar -zchvf proj_combeffect_encode_fcc.tar.gz proj_combeffect_encode_fcc"
   ]
  },
  {
   "cell_type": "code",
   "execution_count": 4,
   "id": "f8678600-7247-4e5f-b8bf-10742f96056a",
   "metadata": {},
   "outputs": [
    {
     "name": "stdout",
     "output_type": "stream",
     "text": [
      "\u001b[0m\u001b[01;34mproj_combeffect_encode_fcc\u001b[0m                \u001b[01;31mproj_combeffect_encode_fcc.tar.gz\u001b[0m\n",
      "\u001b[01;34mproj_combeffect_encode_fcc_archive241231\u001b[0m\n"
     ]
    }
   ],
   "source": [
    "ls"
   ]
  },
  {
   "cell_type": "code",
   "execution_count": 5,
   "id": "c8015c5f-1f78-48a0-8e10-7253385d3da7",
   "metadata": {},
   "outputs": [
    {
     "name": "stdout",
     "output_type": "stream",
     "text": [
      "total 14G\n",
      "drwxr-sr-x 3 kk319 grouper-duke-policies-oasis-res-compute-cluster-reddylab  37 Dec 31 23:23 \u001b[0m\u001b[01;34mproj_combeffect_encode_fcc\u001b[0m\n",
      "drwxrwsr-x 9 kk319 grouper-duke-policies-oasis-res-compute-cluster-reddylab 212 Oct 17  2023 \u001b[01;34mproj_combeffect_encode_fcc_archive241231\u001b[0m\n",
      "-rw-rw-r-- 1 kk319 grouper-duke-policies-oasis-res-compute-cluster-reddylab 14G Dec 31 23:39 \u001b[01;31mproj_combeffect_encode_fcc.tar.gz\u001b[0m\n"
     ]
    }
   ],
   "source": [
    "ls -lh"
   ]
  },
  {
   "cell_type": "code",
   "execution_count": null,
   "id": "1129cc1a-9a39-41ea-a2de-8ddba424f1ef",
   "metadata": {},
   "outputs": [],
   "source": []
  }
 ],
 "metadata": {
  "kernelspec": {
   "display_name": "Bash",
   "language": "bash",
   "name": "bash"
  },
  "language_info": {
   "codemirror_mode": "shell",
   "file_extension": ".sh",
   "mimetype": "text/x-sh",
   "name": "bash"
  }
 },
 "nbformat": 4,
 "nbformat_minor": 5
}
