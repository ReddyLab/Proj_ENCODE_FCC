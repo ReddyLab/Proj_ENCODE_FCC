{
 "cells": [
  {
   "cell_type": "markdown",
   "id": "c37e1608-5baf-43d5-b1b4-e48d1fc75383",
   "metadata": {},
   "source": [
    "---\n",
    "title: ENCODE ATAC/DNase Peaks\n",
    "format:\n",
    "    html:\n",
    "        code-fold: true\n",
    "---"
   ]
  },
  {
   "cell_type": "markdown",
   "id": "ab158399-bb82-4557-9f0a-ebd9894a99fc",
   "metadata": {},
   "source": [
    "# ENCODE ATAC/DNase Peaks: Generate download script to download the peak data"
   ]
  },
  {
   "cell_type": "markdown",
   "id": "b36919ad-2159-4640-8dcf-22afedaa0458",
   "metadata": {},
   "source": [
    "**Set environment**"
   ]
  },
  {
   "cell_type": "code",
   "execution_count": 1,
   "id": "3360d477-48dd-4970-8d88-f39bad5504c0",
   "metadata": {
    "scrolled": true
   },
   "outputs": [
    {
     "name": "stdout",
     "output_type": "stream",
     "text": [
      "You are working on        Singularity \n",
      "BASE DIRECTORY (FD_BASE): /mount \n",
      "REPO DIRECTORY (FD_REPO): /mount/repo \n",
      "WORK DIRECTORY (FD_WORK): /mount/work \n",
      "DATA DIRECTORY (FD_DATA): /mount/data \n",
      "\n",
      "You are working with      ENCODE FCC \n",
      "PATH OF PROJECT (FD_PRJ): /mount/repo/Proj_CombEffect_ENCODE_FCC \n",
      "PROJECT RESULTS (FD_RES): /mount/repo/Proj_CombEffect_ENCODE_FCC/results \n",
      "PROJECT SCRIPTS (FD_EXE): /mount/repo/Proj_CombEffect_ENCODE_FCC/scripts \n",
      "PROJECT DATA    (FD_DAT): /mount/repo/Proj_CombEffect_ENCODE_FCC/data \n",
      "PROJECT NOTE    (FD_NBK): /mount/repo/Proj_CombEffect_ENCODE_FCC/notebooks \n",
      "PROJECT DOCS    (FD_DOC): /mount/repo/Proj_CombEffect_ENCODE_FCC/docs \n",
      "PROJECT LOG     (FD_LOG): /mount/repo/Proj_CombEffect_ENCODE_FCC/log \n",
      "PROJECT APP     (FD_APP): /mount/repo/Proj_CombEffect_ENCODE_FCC/app \n",
      "PROJECT REF     (FD_REF): /mount/repo/Proj_CombEffect_ENCODE_FCC/references \n",
      "\n"
     ]
    }
   ],
   "source": [
    "suppressMessages(suppressWarnings(source(\"../run_config_project_sing.R\")))\n",
    "show_env()"
   ]
  },
  {
   "cell_type": "markdown",
   "id": "ac4a1fc0-a345-48d3-8aa9-6ea238603532",
   "metadata": {},
   "source": [
    "## Import metadata"
   ]
  },
  {
   "cell_type": "code",
   "execution_count": 2,
   "id": "36f2bcac-c3d7-499e-998f-b4634ea4d40f",
   "metadata": {},
   "outputs": [
    {
     "data": {
      "text/html": [
       "<table class=\"dataframe\">\n",
       "<caption>A spec_tbl_df: 6 × 12</caption>\n",
       "<thead>\n",
       "\t<tr><th scope=col>Assay</th><th scope=col>Biosample</th><th scope=col>Index_Experiment</th><th scope=col>Index_File</th><th scope=col>File_Type</th><th scope=col>Output_Type</th><th scope=col>isogenic_replicate</th><th scope=col>Genome</th><th scope=col>Number_Peaks</th><th scope=col>File_Name_Keyword</th><th scope=col>File_URL_Summary</th><th scope=col>File_URL_Download</th></tr>\n",
       "\t<tr><th scope=col>&lt;chr&gt;</th><th scope=col>&lt;chr&gt;</th><th scope=col>&lt;chr&gt;</th><th scope=col>&lt;chr&gt;</th><th scope=col>&lt;chr&gt;</th><th scope=col>&lt;chr&gt;</th><th scope=col>&lt;chr&gt;</th><th scope=col>&lt;chr&gt;</th><th scope=col>&lt;dbl&gt;</th><th scope=col>&lt;chr&gt;</th><th scope=col>&lt;chr&gt;</th><th scope=col>&lt;chr&gt;</th></tr>\n",
       "</thead>\n",
       "<tbody>\n",
       "\t<tr><td>ATAC </td><td>K562</td><td>ENCSR868FGK</td><td>ENCFF333TAT</td><td>bed narrowPeak</td><td>pseudoreplicated peaks</td><td>1, 2, 3</td><td>hg38</td><td>269800</td><td>call-overlap_ppr/pooled-pr1_vs_pooled-pr2.overlap.bfilt.narrowPeak.gz</td><td>https://www.encodeproject.org/files/ENCFF333TAT/</td><td>https://www.encodeproject.org/files/ENCFF333TAT/@@download/ENCFF333TAT.bed.gz</td></tr>\n",
       "\t<tr><td>ATAC </td><td>K562</td><td>ENCSR868FGK</td><td>ENCFF948AFM</td><td>bed narrowPeak</td><td>IDR thresholded peaks </td><td>1, 2, 3</td><td>hg38</td><td>181340</td><td>call-idr_ppr/pooled-pr1_vs_pooled-pr2.idr0.05.bfilt.narrowPeak.gz    </td><td>https://www.encodeproject.org/files/ENCFF948AFM/</td><td>https://www.encodeproject.org/files/ENCFF948AFM/@@download/ENCFF948AFM.bed.gz</td></tr>\n",
       "\t<tr><td>ATAC </td><td>K562</td><td>ENCSR483RKN</td><td>ENCFF558BLC</td><td>bed narrowPeak</td><td>pseudoreplicated peaks</td><td>1, 2   </td><td>hg38</td><td>203874</td><td>call-overlap_ppr/pooled-pr1_vs_pooled-pr2.overlap.bfilt.narrowPeak.gz</td><td>https://www.encodeproject.org/files/ENCFF558BLC/</td><td>https://www.encodeproject.org/files/ENCFF558BLC/@@download/ENCFF558BLC.bed.gz</td></tr>\n",
       "\t<tr><td>ATAC </td><td>K562</td><td>ENCSR483RKN</td><td>ENCFF925CYR</td><td>bed narrowPeak</td><td>IDR thresholded peaks </td><td>1, 2   </td><td>hg38</td><td>123009</td><td>call-idr_ppr/pooled-pr1_vs_pooled-pr2.idr0.05.bfilt.narrowPeak.gz    </td><td>https://www.encodeproject.org/files/ENCFF925CYR/</td><td>https://www.encodeproject.org/files/ENCFF925CYR/@@download/ENCFF925CYR.bed.gz</td></tr>\n",
       "\t<tr><td>DNase</td><td>K562</td><td>ENCSR000EKS</td><td>ENCFF274YGF</td><td>bed narrowPeak</td><td>peaks                 </td><td>1      </td><td>hg38</td><td>118721</td><td>call-compress/nuclear.0.001.peaks.narrowpeaks.bed.gz                 </td><td>https://www.encodeproject.org/files/ENCFF274YGF/</td><td>https://www.encodeproject.org/files/ENCFF274YGF/@@download/ENCFF274YGF.bed.gz</td></tr>\n",
       "\t<tr><td>DNase</td><td>K562</td><td>ENCSR000EOT</td><td>ENCFF185XRG</td><td>bed narrowPeak</td><td>peaks                 </td><td>1      </td><td>hg38</td><td>159277</td><td>call-compress/nuclear.0.001.peaks.narrowpeaks.bed.gz                 </td><td>https://www.encodeproject.org/files/ENCFF185XRG/</td><td>https://www.encodeproject.org/files/ENCFF185XRG/@@download/ENCFF185XRG.bed.gz</td></tr>\n",
       "</tbody>\n",
       "</table>\n"
      ],
      "text/latex": [
       "A spec\\_tbl\\_df: 6 × 12\n",
       "\\begin{tabular}{llllllllllll}\n",
       " Assay & Biosample & Index\\_Experiment & Index\\_File & File\\_Type & Output\\_Type & isogenic\\_replicate & Genome & Number\\_Peaks & File\\_Name\\_Keyword & File\\_URL\\_Summary & File\\_URL\\_Download\\\\\n",
       " <chr> & <chr> & <chr> & <chr> & <chr> & <chr> & <chr> & <chr> & <dbl> & <chr> & <chr> & <chr>\\\\\n",
       "\\hline\n",
       "\t ATAC  & K562 & ENCSR868FGK & ENCFF333TAT & bed narrowPeak & pseudoreplicated peaks & 1, 2, 3 & hg38 & 269800 & call-overlap\\_ppr/pooled-pr1\\_vs\\_pooled-pr2.overlap.bfilt.narrowPeak.gz & https://www.encodeproject.org/files/ENCFF333TAT/ & https://www.encodeproject.org/files/ENCFF333TAT/@@download/ENCFF333TAT.bed.gz\\\\\n",
       "\t ATAC  & K562 & ENCSR868FGK & ENCFF948AFM & bed narrowPeak & IDR thresholded peaks  & 1, 2, 3 & hg38 & 181340 & call-idr\\_ppr/pooled-pr1\\_vs\\_pooled-pr2.idr0.05.bfilt.narrowPeak.gz     & https://www.encodeproject.org/files/ENCFF948AFM/ & https://www.encodeproject.org/files/ENCFF948AFM/@@download/ENCFF948AFM.bed.gz\\\\\n",
       "\t ATAC  & K562 & ENCSR483RKN & ENCFF558BLC & bed narrowPeak & pseudoreplicated peaks & 1, 2    & hg38 & 203874 & call-overlap\\_ppr/pooled-pr1\\_vs\\_pooled-pr2.overlap.bfilt.narrowPeak.gz & https://www.encodeproject.org/files/ENCFF558BLC/ & https://www.encodeproject.org/files/ENCFF558BLC/@@download/ENCFF558BLC.bed.gz\\\\\n",
       "\t ATAC  & K562 & ENCSR483RKN & ENCFF925CYR & bed narrowPeak & IDR thresholded peaks  & 1, 2    & hg38 & 123009 & call-idr\\_ppr/pooled-pr1\\_vs\\_pooled-pr2.idr0.05.bfilt.narrowPeak.gz     & https://www.encodeproject.org/files/ENCFF925CYR/ & https://www.encodeproject.org/files/ENCFF925CYR/@@download/ENCFF925CYR.bed.gz\\\\\n",
       "\t DNase & K562 & ENCSR000EKS & ENCFF274YGF & bed narrowPeak & peaks                  & 1       & hg38 & 118721 & call-compress/nuclear.0.001.peaks.narrowpeaks.bed.gz                  & https://www.encodeproject.org/files/ENCFF274YGF/ & https://www.encodeproject.org/files/ENCFF274YGF/@@download/ENCFF274YGF.bed.gz\\\\\n",
       "\t DNase & K562 & ENCSR000EOT & ENCFF185XRG & bed narrowPeak & peaks                  & 1       & hg38 & 159277 & call-compress/nuclear.0.001.peaks.narrowpeaks.bed.gz                  & https://www.encodeproject.org/files/ENCFF185XRG/ & https://www.encodeproject.org/files/ENCFF185XRG/@@download/ENCFF185XRG.bed.gz\\\\\n",
       "\\end{tabular}\n"
      ],
      "text/markdown": [
       "\n",
       "A spec_tbl_df: 6 × 12\n",
       "\n",
       "| Assay &lt;chr&gt; | Biosample &lt;chr&gt; | Index_Experiment &lt;chr&gt; | Index_File &lt;chr&gt; | File_Type &lt;chr&gt; | Output_Type &lt;chr&gt; | isogenic_replicate &lt;chr&gt; | Genome &lt;chr&gt; | Number_Peaks &lt;dbl&gt; | File_Name_Keyword &lt;chr&gt; | File_URL_Summary &lt;chr&gt; | File_URL_Download &lt;chr&gt; |\n",
       "|---|---|---|---|---|---|---|---|---|---|---|---|\n",
       "| ATAC  | K562 | ENCSR868FGK | ENCFF333TAT | bed narrowPeak | pseudoreplicated peaks | 1, 2, 3 | hg38 | 269800 | call-overlap_ppr/pooled-pr1_vs_pooled-pr2.overlap.bfilt.narrowPeak.gz | https://www.encodeproject.org/files/ENCFF333TAT/ | https://www.encodeproject.org/files/ENCFF333TAT/@@download/ENCFF333TAT.bed.gz |\n",
       "| ATAC  | K562 | ENCSR868FGK | ENCFF948AFM | bed narrowPeak | IDR thresholded peaks  | 1, 2, 3 | hg38 | 181340 | call-idr_ppr/pooled-pr1_vs_pooled-pr2.idr0.05.bfilt.narrowPeak.gz     | https://www.encodeproject.org/files/ENCFF948AFM/ | https://www.encodeproject.org/files/ENCFF948AFM/@@download/ENCFF948AFM.bed.gz |\n",
       "| ATAC  | K562 | ENCSR483RKN | ENCFF558BLC | bed narrowPeak | pseudoreplicated peaks | 1, 2    | hg38 | 203874 | call-overlap_ppr/pooled-pr1_vs_pooled-pr2.overlap.bfilt.narrowPeak.gz | https://www.encodeproject.org/files/ENCFF558BLC/ | https://www.encodeproject.org/files/ENCFF558BLC/@@download/ENCFF558BLC.bed.gz |\n",
       "| ATAC  | K562 | ENCSR483RKN | ENCFF925CYR | bed narrowPeak | IDR thresholded peaks  | 1, 2    | hg38 | 123009 | call-idr_ppr/pooled-pr1_vs_pooled-pr2.idr0.05.bfilt.narrowPeak.gz     | https://www.encodeproject.org/files/ENCFF925CYR/ | https://www.encodeproject.org/files/ENCFF925CYR/@@download/ENCFF925CYR.bed.gz |\n",
       "| DNase | K562 | ENCSR000EKS | ENCFF274YGF | bed narrowPeak | peaks                  | 1       | hg38 | 118721 | call-compress/nuclear.0.001.peaks.narrowpeaks.bed.gz                  | https://www.encodeproject.org/files/ENCFF274YGF/ | https://www.encodeproject.org/files/ENCFF274YGF/@@download/ENCFF274YGF.bed.gz |\n",
       "| DNase | K562 | ENCSR000EOT | ENCFF185XRG | bed narrowPeak | peaks                  | 1       | hg38 | 159277 | call-compress/nuclear.0.001.peaks.narrowpeaks.bed.gz                  | https://www.encodeproject.org/files/ENCFF185XRG/ | https://www.encodeproject.org/files/ENCFF185XRG/@@download/ENCFF185XRG.bed.gz |\n",
       "\n"
      ],
      "text/plain": [
       "  Assay Biosample Index_Experiment Index_File  File_Type     \n",
       "1 ATAC  K562      ENCSR868FGK      ENCFF333TAT bed narrowPeak\n",
       "2 ATAC  K562      ENCSR868FGK      ENCFF948AFM bed narrowPeak\n",
       "3 ATAC  K562      ENCSR483RKN      ENCFF558BLC bed narrowPeak\n",
       "4 ATAC  K562      ENCSR483RKN      ENCFF925CYR bed narrowPeak\n",
       "5 DNase K562      ENCSR000EKS      ENCFF274YGF bed narrowPeak\n",
       "6 DNase K562      ENCSR000EOT      ENCFF185XRG bed narrowPeak\n",
       "  Output_Type            isogenic_replicate Genome Number_Peaks\n",
       "1 pseudoreplicated peaks 1, 2, 3            hg38   269800      \n",
       "2 IDR thresholded peaks  1, 2, 3            hg38   181340      \n",
       "3 pseudoreplicated peaks 1, 2               hg38   203874      \n",
       "4 IDR thresholded peaks  1, 2               hg38   123009      \n",
       "5 peaks                  1                  hg38   118721      \n",
       "6 peaks                  1                  hg38   159277      \n",
       "  File_Name_Keyword                                                    \n",
       "1 call-overlap_ppr/pooled-pr1_vs_pooled-pr2.overlap.bfilt.narrowPeak.gz\n",
       "2 call-idr_ppr/pooled-pr1_vs_pooled-pr2.idr0.05.bfilt.narrowPeak.gz    \n",
       "3 call-overlap_ppr/pooled-pr1_vs_pooled-pr2.overlap.bfilt.narrowPeak.gz\n",
       "4 call-idr_ppr/pooled-pr1_vs_pooled-pr2.idr0.05.bfilt.narrowPeak.gz    \n",
       "5 call-compress/nuclear.0.001.peaks.narrowpeaks.bed.gz                 \n",
       "6 call-compress/nuclear.0.001.peaks.narrowpeaks.bed.gz                 \n",
       "  File_URL_Summary                                \n",
       "1 https://www.encodeproject.org/files/ENCFF333TAT/\n",
       "2 https://www.encodeproject.org/files/ENCFF948AFM/\n",
       "3 https://www.encodeproject.org/files/ENCFF558BLC/\n",
       "4 https://www.encodeproject.org/files/ENCFF925CYR/\n",
       "5 https://www.encodeproject.org/files/ENCFF274YGF/\n",
       "6 https://www.encodeproject.org/files/ENCFF185XRG/\n",
       "  File_URL_Download                                                            \n",
       "1 https://www.encodeproject.org/files/ENCFF333TAT/@@download/ENCFF333TAT.bed.gz\n",
       "2 https://www.encodeproject.org/files/ENCFF948AFM/@@download/ENCFF948AFM.bed.gz\n",
       "3 https://www.encodeproject.org/files/ENCFF558BLC/@@download/ENCFF558BLC.bed.gz\n",
       "4 https://www.encodeproject.org/files/ENCFF925CYR/@@download/ENCFF925CYR.bed.gz\n",
       "5 https://www.encodeproject.org/files/ENCFF274YGF/@@download/ENCFF274YGF.bed.gz\n",
       "6 https://www.encodeproject.org/files/ENCFF185XRG/@@download/ENCFF185XRG.bed.gz"
      ]
     },
     "metadata": {},
     "output_type": "display_data"
    }
   ],
   "source": [
    "### set file path\n",
    "txt_fdiry = file.path(FD_REF, \"encode_open_chromatin\")\n",
    "txt_fname = \"ENCODE_K562_hg38_ATAC_DNase.tsv\"\n",
    "txt_fpath = file.path(txt_fdiry, txt_fname)\n",
    "\n",
    "### read table\n",
    "dat = read_tsv(txt_fpath, show_col_types = FALSE)\n",
    "\n",
    "### show and assign\n",
    "dat_metadata = dat\n",
    "IRdisplay::display(dat)"
   ]
  },
  {
   "cell_type": "markdown",
   "id": "ea0a50d1-9284-4bcd-b8d2-650680596267",
   "metadata": {},
   "source": [
    "## Generate download script\n",
    "```\n",
    "wget -O FILE URL\n",
    "```"
   ]
  },
  {
   "cell_type": "code",
   "execution_count": 3,
   "id": "a6e1a628-0c88-44ff-be39-746e5b526961",
   "metadata": {},
   "outputs": [
    {
     "data": {
      "text/html": [
       "<table class=\"dataframe\">\n",
       "<caption>A tibble: 6 × 1</caption>\n",
       "<thead>\n",
       "\t<tr><th scope=col>CMD</th></tr>\n",
       "\t<tr><th scope=col>&lt;chr&gt;</th></tr>\n",
       "</thead>\n",
       "<tbody>\n",
       "\t<tr><td>wget --append-output=run_download.log.txt -O K562.hg38.ENCSR868FGK.ENCFF333TAT.ATAC.bed.gz https://www.encodeproject.org/files/ENCFF333TAT/@@download/ENCFF333TAT.bed.gz </td></tr>\n",
       "\t<tr><td>wget --append-output=run_download.log.txt -O K562.hg38.ENCSR868FGK.ENCFF948AFM.ATAC.bed.gz https://www.encodeproject.org/files/ENCFF948AFM/@@download/ENCFF948AFM.bed.gz </td></tr>\n",
       "\t<tr><td>wget --append-output=run_download.log.txt -O K562.hg38.ENCSR483RKN.ENCFF558BLC.ATAC.bed.gz https://www.encodeproject.org/files/ENCFF558BLC/@@download/ENCFF558BLC.bed.gz </td></tr>\n",
       "\t<tr><td>wget --append-output=run_download.log.txt -O K562.hg38.ENCSR483RKN.ENCFF925CYR.ATAC.bed.gz https://www.encodeproject.org/files/ENCFF925CYR/@@download/ENCFF925CYR.bed.gz </td></tr>\n",
       "\t<tr><td>wget --append-output=run_download.log.txt -O K562.hg38.ENCSR000EKS.ENCFF274YGF.DNase.bed.gz https://www.encodeproject.org/files/ENCFF274YGF/@@download/ENCFF274YGF.bed.gz</td></tr>\n",
       "\t<tr><td>wget --append-output=run_download.log.txt -O K562.hg38.ENCSR000EOT.ENCFF185XRG.DNase.bed.gz https://www.encodeproject.org/files/ENCFF185XRG/@@download/ENCFF185XRG.bed.gz</td></tr>\n",
       "</tbody>\n",
       "</table>\n"
      ],
      "text/latex": [
       "A tibble: 6 × 1\n",
       "\\begin{tabular}{l}\n",
       " CMD\\\\\n",
       " <chr>\\\\\n",
       "\\hline\n",
       "\t wget --append-output=run\\_download.log.txt -O K562.hg38.ENCSR868FGK.ENCFF333TAT.ATAC.bed.gz https://www.encodeproject.org/files/ENCFF333TAT/@@download/ENCFF333TAT.bed.gz \\\\\n",
       "\t wget --append-output=run\\_download.log.txt -O K562.hg38.ENCSR868FGK.ENCFF948AFM.ATAC.bed.gz https://www.encodeproject.org/files/ENCFF948AFM/@@download/ENCFF948AFM.bed.gz \\\\\n",
       "\t wget --append-output=run\\_download.log.txt -O K562.hg38.ENCSR483RKN.ENCFF558BLC.ATAC.bed.gz https://www.encodeproject.org/files/ENCFF558BLC/@@download/ENCFF558BLC.bed.gz \\\\\n",
       "\t wget --append-output=run\\_download.log.txt -O K562.hg38.ENCSR483RKN.ENCFF925CYR.ATAC.bed.gz https://www.encodeproject.org/files/ENCFF925CYR/@@download/ENCFF925CYR.bed.gz \\\\\n",
       "\t wget --append-output=run\\_download.log.txt -O K562.hg38.ENCSR000EKS.ENCFF274YGF.DNase.bed.gz https://www.encodeproject.org/files/ENCFF274YGF/@@download/ENCFF274YGF.bed.gz\\\\\n",
       "\t wget --append-output=run\\_download.log.txt -O K562.hg38.ENCSR000EOT.ENCFF185XRG.DNase.bed.gz https://www.encodeproject.org/files/ENCFF185XRG/@@download/ENCFF185XRG.bed.gz\\\\\n",
       "\\end{tabular}\n"
      ],
      "text/markdown": [
       "\n",
       "A tibble: 6 × 1\n",
       "\n",
       "| CMD &lt;chr&gt; |\n",
       "|---|\n",
       "| wget --append-output=run_download.log.txt -O K562.hg38.ENCSR868FGK.ENCFF333TAT.ATAC.bed.gz https://www.encodeproject.org/files/ENCFF333TAT/@@download/ENCFF333TAT.bed.gz  |\n",
       "| wget --append-output=run_download.log.txt -O K562.hg38.ENCSR868FGK.ENCFF948AFM.ATAC.bed.gz https://www.encodeproject.org/files/ENCFF948AFM/@@download/ENCFF948AFM.bed.gz  |\n",
       "| wget --append-output=run_download.log.txt -O K562.hg38.ENCSR483RKN.ENCFF558BLC.ATAC.bed.gz https://www.encodeproject.org/files/ENCFF558BLC/@@download/ENCFF558BLC.bed.gz  |\n",
       "| wget --append-output=run_download.log.txt -O K562.hg38.ENCSR483RKN.ENCFF925CYR.ATAC.bed.gz https://www.encodeproject.org/files/ENCFF925CYR/@@download/ENCFF925CYR.bed.gz  |\n",
       "| wget --append-output=run_download.log.txt -O K562.hg38.ENCSR000EKS.ENCFF274YGF.DNase.bed.gz https://www.encodeproject.org/files/ENCFF274YGF/@@download/ENCFF274YGF.bed.gz |\n",
       "| wget --append-output=run_download.log.txt -O K562.hg38.ENCSR000EOT.ENCFF185XRG.DNase.bed.gz https://www.encodeproject.org/files/ENCFF185XRG/@@download/ENCFF185XRG.bed.gz |\n",
       "\n"
      ],
      "text/plain": [
       "  CMD                                                                                                                                                                      \n",
       "1 wget --append-output=run_download.log.txt -O K562.hg38.ENCSR868FGK.ENCFF333TAT.ATAC.bed.gz https://www.encodeproject.org/files/ENCFF333TAT/@@download/ENCFF333TAT.bed.gz \n",
       "2 wget --append-output=run_download.log.txt -O K562.hg38.ENCSR868FGK.ENCFF948AFM.ATAC.bed.gz https://www.encodeproject.org/files/ENCFF948AFM/@@download/ENCFF948AFM.bed.gz \n",
       "3 wget --append-output=run_download.log.txt -O K562.hg38.ENCSR483RKN.ENCFF558BLC.ATAC.bed.gz https://www.encodeproject.org/files/ENCFF558BLC/@@download/ENCFF558BLC.bed.gz \n",
       "4 wget --append-output=run_download.log.txt -O K562.hg38.ENCSR483RKN.ENCFF925CYR.ATAC.bed.gz https://www.encodeproject.org/files/ENCFF925CYR/@@download/ENCFF925CYR.bed.gz \n",
       "5 wget --append-output=run_download.log.txt -O K562.hg38.ENCSR000EKS.ENCFF274YGF.DNase.bed.gz https://www.encodeproject.org/files/ENCFF274YGF/@@download/ENCFF274YGF.bed.gz\n",
       "6 wget --append-output=run_download.log.txt -O K562.hg38.ENCSR000EOT.ENCFF185XRG.DNase.bed.gz https://www.encodeproject.org/files/ENCFF185XRG/@@download/ENCFF185XRG.bed.gz"
      ]
     },
     "metadata": {},
     "output_type": "display_data"
    }
   ],
   "source": [
    "### init\n",
    "dat = dat_metadata\n",
    "\n",
    "### setup download file name and wget command\n",
    "dat = dat %>%\n",
    "    dplyr::mutate(\n",
    "        File_Name = paste(\n",
    "            Biosample, \n",
    "            Genome, \n",
    "            Index_Experiment, \n",
    "            Index_File,\n",
    "            Assay,\n",
    "            \"bed.gz\", \n",
    "            sep=\".\")\n",
    "    ) %>%\n",
    "    dplyr::mutate(\n",
    "        CMD = paste(\"wget\", \"--append-output=run_download.log.txt\", \"-O\", File_Name, File_URL_Download)\n",
    "    )\n",
    "#dat = dat %>% dplyr::select(Assay, Biosample, Index_Experiment, Index_File, File_Name, CMD)\n",
    "dat = dat %>% dplyr::select(CMD)\n",
    "\n",
    "### assign and show\n",
    "dat_cmd = dat\n",
    "IRdisplay::display(dat)"
   ]
  },
  {
   "cell_type": "markdown",
   "id": "939b3401-2267-4f13-920b-87f11a9c9912",
   "metadata": {},
   "source": [
    "## Save to script"
   ]
  },
  {
   "cell_type": "code",
   "execution_count": 4,
   "id": "d151b8c9-583f-41b1-9cc4-15f9b9f2c44e",
   "metadata": {},
   "outputs": [],
   "source": [
    "### set output path\n",
    "txt_fdiry = file.path(FD_DAT, \"external\", \"encode_open_chromatin\")\n",
    "txt_fname = \"run_download.sh\"\n",
    "txt_fpath = file.path(txt_fdiry, txt_fname)\n",
    "\n",
    "### arrange table\n",
    "dat = dat_cmd\n",
    "colnames(dat) = \"#!/bin/bash\"\n",
    "\n",
    "### save table\n",
    "dir.create(txt_fdiry, showWarnings = FALSE)\n",
    "write_tsv(dat, txt_fpath)\n",
    "    #header    = FALSE,\n",
    "    #row.names = FALSE)    "
   ]
  },
  {
   "cell_type": "code",
   "execution_count": null,
   "id": "77d07325-7d19-49c3-af72-2ca5c3dd334e",
   "metadata": {},
   "outputs": [],
   "source": []
  }
 ],
 "metadata": {
  "kernelspec": {
   "display_name": "R",
   "language": "R",
   "name": "ir"
  },
  "language_info": {
   "codemirror_mode": "r",
   "file_extension": ".r",
   "mimetype": "text/x-r-source",
   "name": "R",
   "pygments_lexer": "r",
   "version": "4.3.1"
  }
 },
 "nbformat": 4,
 "nbformat_minor": 5
}
