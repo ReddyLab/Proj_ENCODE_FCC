{
 "cells": [
  {
   "cell_type": "markdown",
   "id": "d017a329-67f0-48da-9bb1-a7db964398b2",
   "metadata": {},
   "source": [
    "```\n",
    "ln -s file link\n",
    "```"
   ]
  },
  {
   "cell_type": "markdown",
   "id": "fcbd185b-ba0e-4586-8687-5afb436a77d8",
   "metadata": {},
   "source": [
    "**Set environment**"
   ]
  },
  {
   "cell_type": "code",
   "execution_count": 2,
   "id": "f2ca7f4e-a2d1-46db-b1ad-24b4b8dfb937",
   "metadata": {},
   "outputs": [
    {
     "name": "stdout",
     "output_type": "stream",
     "text": [
      "You are working on             Duke Server: HARDAC\n",
      "BASE DIRECTORY (FD_BASE):      /data/reddylab/Kuei\n",
      "REPO DIRECTORY (FD_REPO):      /data/reddylab/Kuei/repo\n",
      "WORK DIRECTORY (FD_WORK):      /data/reddylab/Kuei/work\n",
      "DATA DIRECTORY (FD_DATA):      /data/reddylab/Kuei/data\n",
      "CONTAINER DIR. (FD_SING):      /data/reddylab/Kuei/container\n",
      "\n",
      "You are working with           ENCODE FCC\n",
      "PATH OF PROJECT (FD_PRJ):      /data/reddylab/Kuei/repo/Proj_CombEffect_ENCODE_FCC\n",
      "PROJECT RESULTS (FD_RES):      /data/reddylab/Kuei/repo/Proj_CombEffect_ENCODE_FCC/results\n",
      "PROJECT SCRIPTS (FD_EXE):      /data/reddylab/Kuei/repo/Proj_CombEffect_ENCODE_FCC/scripts\n",
      "PROJECT DATA    (FD_DAT):      /data/reddylab/Kuei/repo/Proj_CombEffect_ENCODE_FCC/data\n",
      "PROJECT NOTE    (FD_NBK):      /data/reddylab/Kuei/repo/Proj_CombEffect_ENCODE_FCC/notebooks\n",
      "PROJECT DOCS    (FD_DOC):      /data/reddylab/Kuei/repo/Proj_CombEffect_ENCODE_FCC/docs\n",
      "PROJECT LOG     (FD_LOG):      /data/reddylab/Kuei/repo/Proj_CombEffect_ENCODE_FCC/log\n",
      "PROJECT APP     (FD_APP):      /data/reddylab/Kuei/repo/Proj_CombEffect_ENCODE_FCC/app\n",
      "PROJECT REF     (FD_REF):      /data/reddylab/Kuei/repo/Proj_CombEffect_ENCODE_FCC/references\n",
      "PROJECT IMAGE   (FP_PRJ_SIF):  /data/reddylab/Kuei/repo/Proj_CombEffect_ENCODE_FCC/app/singularity_proj_encode_fcc.sif\n",
      "\n"
     ]
    }
   ],
   "source": [
    "source ../run_config_project.sh\n",
    "show_env"
   ]
  },
  {
   "cell_type": "code",
   "execution_count": 2,
   "id": "855e3249-9c6b-479e-b4ef-f02acc160108",
   "metadata": {},
   "outputs": [],
   "source": [
    "mkdir -p ${FD_RES}/region/STARR_ATAC_K562_Reddy_KS91/fragment_counts\n",
    "mkdir -p ${FD_RES}/assay_fcc/STARR_WHG_K562_Reddy_A001/fragment_counts\n",
    "mkdir -p ${FD_RES}/region/starr_macs"
   ]
  },
  {
   "cell_type": "code",
   "execution_count": 3,
   "id": "fe1d3e15-ad4e-4d04-beb9-96daee097a74",
   "metadata": {},
   "outputs": [
    {
     "name": "stdout",
     "output_type": "stream",
     "text": [
      "\u001b[0m\u001b[38;5;9mK562.hg38.ENCSR000EKS.ENCFF274YGF.DNase.bed.gz\u001b[0m\n",
      "\u001b[38;5;9mK562.hg38.ENCSR000EOT.ENCFF185XRG.DNase.bed.gz\u001b[0m\n",
      "\u001b[38;5;9mK562.hg38.ENCSR483RKN.ENCFF558BLC.ATAC.bed.gz\u001b[0m\n",
      "\u001b[38;5;9mK562.hg38.ENCSR483RKN.ENCFF925CYR.ATAC.bed.gz\u001b[0m\n",
      "\u001b[38;5;9mK562.hg38.ENCSR868FGK.ENCFF333TAT.ATAC.bed.gz\u001b[0m\n",
      "\u001b[38;5;9mK562.hg38.ENCSR868FGK.ENCFF948AFM.ATAC.bed.gz\u001b[0m\n",
      "run_download.log.txt\n",
      "\u001b[38;5;34mrun_download.sh\u001b[0m\n"
     ]
    }
   ],
   "source": [
    "ls ${FD_DAT}/external/encode_open_chromatin"
   ]
  },
  {
   "cell_type": "code",
   "execution_count": 4,
   "id": "70b4a16c-66b8-4adc-b815-17b85360593b",
   "metadata": {},
   "outputs": [
    {
     "name": "stdout",
     "output_type": "stream",
     "text": [
      "chr1\t181400\t181530\t.\t0\t.\t0.299874\t-1\t-1\t75\n",
      "chr1\t778660\t778800\t.\t0\t.\t14.1383\t-1\t-1\t75\n",
      "chr1\t779137\t779200\t.\t0\t.\t0.33144\t-1\t-1\t75\n",
      "chr1\t827460\t827554\t.\t0\t.\t3.38384\t-1\t-1\t75\n",
      "chr1\t842880\t843060\t.\t0\t.\t1.64457\t-1\t-1\t75\n",
      "chr1\t869800\t869980\t.\t0\t.\t2.23485\t-1\t-1\t75\n",
      "chr1\t875760\t875920\t.\t0\t.\t0.356692\t-1\t-1\t75\n",
      "chr1\t898828\t899004\t.\t0\t.\t0.363005\t-1\t-1\t75\n",
      "chr1\t900030\t900100\t.\t0\t.\t0.249369\t-1\t-1\t75\n",
      "chr1\t901580\t901645\t.\t0\t.\t0.217803\t-1\t-1\t75\n"
     ]
    }
   ],
   "source": [
    "FDIRY=${FD_DAT}/external/encode_open_chromatin\n",
    "FNAME=K562.hg38.ENCSR000EKS.ENCFF274YGF.DNase.bed.gz\n",
    "FPATH=${FDIRY}/${FNAME}\n",
    "zcat ${FPATH} | head"
   ]
  },
  {
   "cell_type": "code",
   "execution_count": null,
   "id": "fb1e9dd5-107f-438f-984e-92d939198f58",
   "metadata": {},
   "outputs": [],
   "source": []
  }
 ],
 "metadata": {
  "kernelspec": {
   "display_name": "Bash",
   "language": "bash",
   "name": "bash"
  },
  "language_info": {
   "codemirror_mode": "shell",
   "file_extension": ".sh",
   "mimetype": "text/x-sh",
   "name": "bash"
  }
 },
 "nbformat": 4,
 "nbformat_minor": 5
}
