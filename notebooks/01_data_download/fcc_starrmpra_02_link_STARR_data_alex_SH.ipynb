{
 "cells": [
  {
   "cell_type": "markdown",
   "id": "4397f047-cd59-4539-9280-1692059fb242",
   "metadata": {},
   "source": [
    "* Link from `KS91_K562_hg38_ASTARRseq_210401` to `STARR_ATAC_K562_Reddy_KS91`\n",
    "* Link from `A001_K562_hg38_WSTARRseq` to `STARR_WHG_K562_Reddy_A001`\n",
    "\n",
    "```\n",
    "ln -s file link\n",
    "```"
   ]
  },
  {
   "cell_type": "markdown",
   "id": "90d1e5e2-4620-4e07-8955-01bd08781714",
   "metadata": {},
   "source": [
    "**Set environment**"
   ]
  },
  {
   "cell_type": "code",
   "execution_count": 1,
   "id": "87f7e9e5-70c6-4e7f-8b6d-e439b16e9352",
   "metadata": {},
   "outputs": [
    {
     "name": "stdout",
     "output_type": "stream",
     "text": [
      "You are working on             Duke Server: HARDAC\n",
      "BASE DIRECTORY (FD_BASE):      /data/reddylab/Kuei\n",
      "REPO DIRECTORY (FD_REPO):      /data/reddylab/Kuei/repo\n",
      "WORK DIRECTORY (FD_WORK):      /data/reddylab/Kuei/work\n",
      "DATA DIRECTORY (FD_DATA):      /data/reddylab/Kuei/data\n",
      "CONTAINER DIR. (FD_SING):      /data/reddylab/Kuei/container\n",
      "\n",
      "You are working with           ENCODE FCC\n",
      "PATH OF PROJECT (FD_PRJ):      /data/reddylab/Kuei/repo/Proj_CombEffect_ENCODE_FCC\n",
      "PROJECT RESULTS (FD_RES):      /data/reddylab/Kuei/repo/Proj_CombEffect_ENCODE_FCC/results\n",
      "PROJECT SCRIPTS (FD_EXE):      /data/reddylab/Kuei/repo/Proj_CombEffect_ENCODE_FCC/scripts\n",
      "PROJECT DATA    (FD_DAT):      /data/reddylab/Kuei/repo/Proj_CombEffect_ENCODE_FCC/data\n",
      "PROJECT NOTE    (FD_NBK):      /data/reddylab/Kuei/repo/Proj_CombEffect_ENCODE_FCC/notebooks\n",
      "PROJECT DOCS    (FD_DOC):      /data/reddylab/Kuei/repo/Proj_CombEffect_ENCODE_FCC/docs\n",
      "PROJECT LOG     (FD_LOG):      /data/reddylab/Kuei/repo/Proj_CombEffect_ENCODE_FCC/log\n",
      "PROJECT APP     (FD_APP):      /data/reddylab/Kuei/repo/Proj_CombEffect_ENCODE_FCC/app\n",
      "PROJECT REF     (FD_REF):      /data/reddylab/Kuei/repo/Proj_CombEffect_ENCODE_FCC/references\n",
      "PROJECT IMAGE   (FP_PRJ_SIF):  /data/reddylab/Kuei/repo/Proj_CombEffect_ENCODE_FCC/app/singularity_proj_encode_fcc.sif\n",
      "\n"
     ]
    }
   ],
   "source": [
    "source ../run_config_project.sh\n",
    "show_env"
   ]
  },
  {
   "cell_type": "code",
   "execution_count": 2,
   "id": "581d5c4d-175f-4c9d-9c29-a0872202a20c",
   "metadata": {},
   "outputs": [],
   "source": [
    "mkdir -p ${FD_RES}/assay_fcc/STARR_ATAC_K562_Reddy_KS91/fragment_counts\n",
    "mkdir -p ${FD_RES}/assay_fcc/STARR_WHG_K562_Reddy_A001/fragment_counts"
   ]
  },
  {
   "cell_type": "markdown",
   "id": "f7feec24-bbe6-474e-8930-c8080a5e6a65",
   "metadata": {},
   "source": [
    "## Link fragment counts of ASTARR"
   ]
  },
  {
   "cell_type": "markdown",
   "id": "900778ce-8065-4b90-a7c6-10f3aa39a9ce",
   "metadata": {},
   "source": [
    "Original files\n",
    "\n",
    "`PROJECT/data/processed/KS91_K562_hg38_ASTARRseq_210401/fragments`\n",
    "\n",
    "```\n",
    "KS91_K562_hg38_ASTARRseq_Input_rep1.masked.dedup.fragments.counts.txt.gz\n",
    "KS91_K562_hg38_ASTARRseq_Input_rep2.masked.dedup.fragments.counts.txt.gz\n",
    "KS91_K562_hg38_ASTARRseq_Input_rep3.masked.dedup.fragments.counts.txt.gz\n",
    "KS91_K562_hg38_ASTARRseq_Input_rep4.masked.dedup.fragments.counts.txt.gz\n",
    "KS91_K562_hg38_ASTARRseq_Input_rep5.masked.dedup.fragments.counts.txt.gz\n",
    "KS91_K562_hg38_ASTARRseq_Input_rep6.masked.dedup.fragments.counts.txt.gz\n",
    "\n",
    "KS91_K562_hg38_ASTARRseq_Output_rep1.f3q10.fragments.counts.txt.gz\n",
    "KS91_K562_hg38_ASTARRseq_Output_rep2.f3q10.fragments.counts.txt.gz\n",
    "KS91_K562_hg38_ASTARRseq_Output_rep3.f3q10.fragments.counts.txt.gz\n",
    "KS91_K562_hg38_ASTARRseq_Output_rep4.f3q10.fragments.counts.txt.gz\n",
    "```"
   ]
  },
  {
   "cell_type": "markdown",
   "id": "a0dbf595-902f-40a4-a75a-df15dbf1d0e4",
   "metadata": {},
   "source": [
    "SymLinks\n",
    "\n",
    "`PROJECT/results/assay_fcc/STARR_ATAC_K562_Reddy_KS91/fragment_counts`\n",
    "\n",
    "```\n",
    "ASTARRseq_K562_KS91.hg38.Input.rep1.WGS.unstranded.bed.gz\n",
    "ASTARRseq_K562_KS91.hg38.Input.rep2.WGS.unstranded.bed.gz\n",
    "ASTARRseq_K562_KS91.hg38.Input.rep3.WGS.unstranded.bed.gz\n",
    "ASTARRseq_K562_KS91.hg38.Input.rep4.WGS.unstranded.bed.gz\n",
    "ASTARRseq_K562_KS91.hg38.Input.rep5.WGS.unstranded.bed.gz\n",
    "ASTARRseq_K562_KS91.hg38.Input.rep6.WGS.unstranded.bed.gz\n",
    "\n",
    "ASTARRseq_K562_KS91.hg38.Output.rep1.WGS.unstranded.bed.gz\n",
    "ASTARRseq_K562_KS91.hg38.Output.rep2.WGS.unstranded.bed.gz\n",
    "ASTARRseq_K562_KS91.hg38.Output.rep3.WGS.unstranded.bed.gz\n",
    "ASTARRseq_K562_KS91.hg38.Output.rep4.WGS.unstranded.bed.gz\n",
    "```"
   ]
  },
  {
   "cell_type": "code",
   "execution_count": 3,
   "id": "350f9760-d14e-4ed2-ac4a-1f5c2f68607e",
   "metadata": {},
   "outputs": [
    {
     "name": "stdout",
     "output_type": "stream",
     "text": [
      "\u001b[0m\u001b[38;5;9mKS91_K562_hg38_ASTARRseq_Input_rep1.masked.dedup.fragments.counts.txt.gz\u001b[0m\n",
      "\u001b[38;5;9mKS91_K562_hg38_ASTARRseq_Input_rep2.masked.dedup.fragments.counts.txt.gz\u001b[0m\n",
      "\u001b[38;5;9mKS91_K562_hg38_ASTARRseq_Input_rep3.masked.dedup.fragments.counts.txt.gz\u001b[0m\n",
      "\u001b[38;5;9mKS91_K562_hg38_ASTARRseq_Input_rep4.masked.dedup.fragments.counts.txt.gz\u001b[0m\n",
      "\u001b[38;5;9mKS91_K562_hg38_ASTARRseq_Input_rep5.masked.dedup.fragments.counts.txt.gz\u001b[0m\n",
      "\u001b[38;5;9mKS91_K562_hg38_ASTARRseq_Input_rep6.masked.dedup.fragments.counts.txt.gz\u001b[0m\n",
      "\u001b[38;5;9mKS91_K562_hg38_ASTARRseq_Output_rep1.f3q10.fragments.counts.txt.gz\u001b[0m\n",
      "\u001b[38;5;9mKS91_K562_hg38_ASTARRseq_Output_rep2.f3q10.fragments.counts.txt.gz\u001b[0m\n",
      "\u001b[38;5;9mKS91_K562_hg38_ASTARRseq_Output_rep3.f3q10.fragments.counts.txt.gz\u001b[0m\n",
      "\u001b[38;5;9mKS91_K562_hg38_ASTARRseq_Output_rep4.f3q10.fragments.counts.txt.gz\u001b[0m\n"
     ]
    }
   ],
   "source": [
    "FD_INP=${FD_DAT}/processed/KS91_K562_hg38_ASTARRseq_210401/fragments\n",
    "ls ${FD_INP}"
   ]
  },
  {
   "cell_type": "code",
   "execution_count": 4,
   "id": "2accdab6-516f-4d1d-98ae-da3fc1e71eb7",
   "metadata": {},
   "outputs": [],
   "source": [
    "FD_INP=${FD_DAT}/processed/KS91_K562_hg38_ASTARRseq_210401/fragments\n",
    "FN_INPS=(\n",
    "    KS91_K562_hg38_ASTARRseq_Input_rep1.masked.dedup.fragments.counts.txt.gz\n",
    "    KS91_K562_hg38_ASTARRseq_Input_rep2.masked.dedup.fragments.counts.txt.gz\n",
    "    KS91_K562_hg38_ASTARRseq_Input_rep3.masked.dedup.fragments.counts.txt.gz\n",
    "    KS91_K562_hg38_ASTARRseq_Input_rep4.masked.dedup.fragments.counts.txt.gz\n",
    "    KS91_K562_hg38_ASTARRseq_Input_rep5.masked.dedup.fragments.counts.txt.gz\n",
    "    KS91_K562_hg38_ASTARRseq_Input_rep6.masked.dedup.fragments.counts.txt.gz\n",
    "    KS91_K562_hg38_ASTARRseq_Output_rep1.f3q10.fragments.counts.txt.gz\n",
    "    KS91_K562_hg38_ASTARRseq_Output_rep2.f3q10.fragments.counts.txt.gz\n",
    "    KS91_K562_hg38_ASTARRseq_Output_rep3.f3q10.fragments.counts.txt.gz\n",
    "    KS91_K562_hg38_ASTARRseq_Output_rep4.f3q10.fragments.counts.txt.gz\n",
    ")"
   ]
  },
  {
   "cell_type": "code",
   "execution_count": 5,
   "id": "61e7be9a-4b72-4830-ae93-46ac9c7e7162",
   "metadata": {},
   "outputs": [],
   "source": [
    "FD_OUT=${FD_RES}/assay_fcc/STARR_ATAC_K562_Reddy_KS91/fragment_counts\n",
    "FN_OUTS=(\n",
    "    ASTARRseq_K562_KS91.hg38.Input.rep1.WGS.unstranded.bed.gz\n",
    "    ASTARRseq_K562_KS91.hg38.Input.rep2.WGS.unstranded.bed.gz\n",
    "    ASTARRseq_K562_KS91.hg38.Input.rep3.WGS.unstranded.bed.gz\n",
    "    ASTARRseq_K562_KS91.hg38.Input.rep4.WGS.unstranded.bed.gz\n",
    "    ASTARRseq_K562_KS91.hg38.Input.rep5.WGS.unstranded.bed.gz\n",
    "    ASTARRseq_K562_KS91.hg38.Input.rep6.WGS.unstranded.bed.gz\n",
    "    ASTARRseq_K562_KS91.hg38.Output.rep1.WGS.unstranded.bed.gz\n",
    "    ASTARRseq_K562_KS91.hg38.Output.rep2.WGS.unstranded.bed.gz\n",
    "    ASTARRseq_K562_KS91.hg38.Output.rep3.WGS.unstranded.bed.gz\n",
    "    ASTARRseq_K562_KS91.hg38.Output.rep4.WGS.unstranded.bed.gz\n",
    ")"
   ]
  },
  {
   "cell_type": "code",
   "execution_count": 6,
   "id": "39767ccc-4533-4156-9a45-63bea93da8ca",
   "metadata": {},
   "outputs": [],
   "source": [
    "for idx in \"${!FN_INPS[@]}\"\n",
    "do\n",
    "    FN_INP=${FN_INPS[idx]}\n",
    "    FN_OUT=${FN_OUTS[idx]}\n",
    "    \n",
    "    FILE=${FD_INP}/${FN_INP}\n",
    "    LINK=${FD_OUT}/${FN_OUT}\n",
    "    \n",
    "    if [[ ! -e ${LINK} ]]; then\n",
    "        ln -s ${FILE} ${LINK}\n",
    "    fi\n",
    "done"
   ]
  },
  {
   "cell_type": "code",
   "execution_count": 7,
   "id": "de178f56-2962-423b-93dc-4387787e5317",
   "metadata": {},
   "outputs": [
    {
     "name": "stdout",
     "output_type": "stream",
     "text": [
      "\u001b[0m\u001b[38;5;51mASTARRseq_K562_KS91.hg38.Input.rep1.WGS.unstranded.bed.gz\u001b[0m\n",
      "\u001b[38;5;51mASTARRseq_K562_KS91.hg38.Input.rep2.WGS.unstranded.bed.gz\u001b[0m\n",
      "\u001b[38;5;51mASTARRseq_K562_KS91.hg38.Input.rep3.WGS.unstranded.bed.gz\u001b[0m\n",
      "\u001b[38;5;51mASTARRseq_K562_KS91.hg38.Input.rep4.WGS.unstranded.bed.gz\u001b[0m\n",
      "\u001b[38;5;51mASTARRseq_K562_KS91.hg38.Input.rep5.WGS.unstranded.bed.gz\u001b[0m\n",
      "\u001b[38;5;51mASTARRseq_K562_KS91.hg38.Input.rep6.WGS.unstranded.bed.gz\u001b[0m\n",
      "\u001b[38;5;51mASTARRseq_K562_KS91.hg38.Output.rep1.WGS.unstranded.bed.gz\u001b[0m\n",
      "\u001b[38;5;51mASTARRseq_K562_KS91.hg38.Output.rep2.WGS.unstranded.bed.gz\u001b[0m\n",
      "\u001b[38;5;51mASTARRseq_K562_KS91.hg38.Output.rep3.WGS.unstranded.bed.gz\u001b[0m\n",
      "\u001b[38;5;51mASTARRseq_K562_KS91.hg38.Output.rep4.WGS.unstranded.bed.gz\u001b[0m\n"
     ]
    }
   ],
   "source": [
    "FD_OUT=${FD_RES}/assay_fcc/STARR_ATAC_K562_Reddy_KS91/fragment_counts\n",
    "ls ${FD_OUT}"
   ]
  },
  {
   "cell_type": "code",
   "execution_count": 8,
   "id": "26e4af8f-57fd-44b8-ab86-b464381416ce",
   "metadata": {},
   "outputs": [
    {
     "name": "stdout",
     "output_type": "stream",
     "text": [
      "chr1\t10001\t10143\tchr1_10001_10143\t1\t.\n",
      "chr1\t10002\t10118\tchr1_10002_10118\t1\t.\n",
      "chr1\t10002\t10131\tchr1_10002_10131\t1\t.\n",
      "chr1\t10002\t10203\tchr1_10002_10203\t1\t.\n",
      "chr1\t10002\t10209\tchr1_10002_10209\t1\t.\n",
      "chr1\t10002\t10227\tchr1_10002_10227\t1\t.\n",
      "chr1\t10002\t10436\tchr1_10002_10436\t1\t.\n",
      "chr1\t10003\t10113\tchr1_10003_10113\t1\t.\n",
      "chr1\t10003\t10118\tchr1_10003_10118\t1\t.\n",
      "chr1\t10003\t10119\tchr1_10003_10119\t1\t.\n"
     ]
    }
   ],
   "source": [
    "FD_OUT=${FD_RES}/assay_fcc/STARR_ATAC_K562_Reddy_KS91/fragment_counts\n",
    "FN_OUT=ASTARRseq_K562_KS91.hg38.Input.rep1.WGS.unstranded.bed.gz\n",
    "FP_OUT=${FD_OUT}/${FN_OUT}\n",
    "\n",
    "zcat ${FP_OUT} | head"
   ]
  },
  {
   "cell_type": "markdown",
   "id": "bd40d5d9-6af3-4404-b3c3-8acaefdbd9c7",
   "metadata": {},
   "source": [
    "## Link fragment counts of WSTARR"
   ]
  },
  {
   "cell_type": "markdown",
   "id": "a88eb21f-f08e-4897-8442-a1593355429e",
   "metadata": {},
   "source": [
    "Original files\n",
    "\n",
    "`PROJECT/data/processed/A001_K562_hg38_WSTARRseq/fragments`\n",
    "\n",
    "```\n",
    "A001-input-K562-rep1.masked.dedup.fragments.counts.txt.gz\n",
    "A001-input-K562-rep2.masked.dedup.fragments.counts.txt.gz\n",
    "A001-input-K562-rep3.masked.dedup.fragments.counts.txt.gz\n",
    "A001-input-K562-rep4.masked.dedup.fragments.counts.txt.gz\n",
    "A001-K562-rep1.masked.dedup.fragments.counts.txt.gz\n",
    "A001-K562-rep2.masked.dedup.fragments.counts.txt.gz\n",
    "A001-K562-rep3.masked.dedup.fragments.counts.txt.gz\n",
    "```"
   ]
  },
  {
   "cell_type": "markdown",
   "id": "88043761-bc4c-468e-a797-1d0d1b916820",
   "metadata": {},
   "source": [
    "SymLinks\n",
    "\n",
    "`PROJECT/results/assay_fcc/STARR_ATAC_K562_Reddy_KS91/fragment_counts`\n",
    "\n",
    "```\n",
    "WSTARRseq_K562_A001.hg38.Input.rep1.WGS.unstranded.bed.gz\n",
    "WSTARRseq_K562_A001.hg38.Input.rep2.WGS.unstranded.bed.gz\n",
    "WSTARRseq_K562_A001.hg38.Input.rep3.WGS.unstranded.bed.gz\n",
    "WSTARRseq_K562_A001.hg38.Input.rep4.WGS.unstranded.bed.gz\n",
    "\n",
    "WSTARRseq_K562_A001.hg38.Output.rep1.WGS.unstranded.bed.gz\n",
    "WSTARRseq_K562_A001.hg38.Output.rep2.WGS.unstranded.bed.gz\n",
    "WSTARRseq_K562_A001.hg38.Output.rep3.WGS.unstranded.bed.gz\n",
    "```"
   ]
  },
  {
   "cell_type": "code",
   "execution_count": 9,
   "id": "3b74e3ea-94b8-4756-a493-19c6d61ca0c6",
   "metadata": {},
   "outputs": [
    {
     "name": "stdout",
     "output_type": "stream",
     "text": [
      "\u001b[0m\u001b[38;5;9mA001-input-K562-rep1.masked.dedup.fragments.counts.txt.gz\u001b[0m\n",
      "\u001b[38;5;9mA001-input-K562-rep2.masked.dedup.fragments.counts.txt.gz\u001b[0m\n",
      "\u001b[38;5;9mA001-input-K562-rep3.masked.dedup.fragments.counts.txt.gz\u001b[0m\n",
      "\u001b[38;5;9mA001-input-K562-rep4.masked.dedup.fragments.counts.txt.gz\u001b[0m\n",
      "\u001b[38;5;9mA001-K562-rep1.masked.dedup.fragments.counts.txt.gz\u001b[0m\n",
      "\u001b[38;5;9mA001-K562-rep2.masked.dedup.fragments.counts.txt.gz\u001b[0m\n",
      "\u001b[38;5;9mA001-K562-rep3.masked.dedup.fragments.counts.txt.gz\u001b[0m\n"
     ]
    }
   ],
   "source": [
    "FD_INP=${FD_DAT}/processed/A001_K562_hg38_WSTARRseq/fragments\n",
    "ls ${FD_INP}"
   ]
  },
  {
   "cell_type": "code",
   "execution_count": 10,
   "id": "60083cb2-e644-4ded-b475-bd4b0790fb06",
   "metadata": {},
   "outputs": [],
   "source": [
    "FD_INP=${FD_DAT}/processed/A001_K562_hg38_WSTARRseq/fragments\n",
    "FN_INPS=(\n",
    "    A001-input-K562-rep1.masked.dedup.fragments.counts.txt.gz\n",
    "    A001-input-K562-rep2.masked.dedup.fragments.counts.txt.gz\n",
    "    A001-input-K562-rep3.masked.dedup.fragments.counts.txt.gz\n",
    "    A001-input-K562-rep4.masked.dedup.fragments.counts.txt.gz\n",
    "    A001-K562-rep1.masked.dedup.fragments.counts.txt.gz\n",
    "    A001-K562-rep2.masked.dedup.fragments.counts.txt.gz\n",
    "    A001-K562-rep3.masked.dedup.fragments.counts.txt.gz\n",
    ")"
   ]
  },
  {
   "cell_type": "code",
   "execution_count": 11,
   "id": "dca36149-b376-42e0-9307-6c5e909ef88d",
   "metadata": {},
   "outputs": [],
   "source": [
    "FD_OUT=${FD_RES}/assay_fcc/STARR_WHG_K562_Reddy_A001/fragment_counts\n",
    "FN_OUTS=(\n",
    "    WSTARRseq_K562_A001.hg38.Input.rep1.WGS.unstranded.bed.gz\n",
    "    WSTARRseq_K562_A001.hg38.Input.rep2.WGS.unstranded.bed.gz\n",
    "    WSTARRseq_K562_A001.hg38.Input.rep3.WGS.unstranded.bed.gz\n",
    "    WSTARRseq_K562_A001.hg38.Input.rep4.WGS.unstranded.bed.gz\n",
    "    WSTARRseq_K562_A001.hg38.Output.rep1.WGS.unstranded.bed.gz\n",
    "    WSTARRseq_K562_A001.hg38.Output.rep2.WGS.unstranded.bed.gz\n",
    "    WSTARRseq_K562_A001.hg38.Output.rep3.WGS.unstranded.bed.gz\n",
    ")"
   ]
  },
  {
   "cell_type": "code",
   "execution_count": 12,
   "id": "787211ca-d812-4c7d-8638-ca2c32012b86",
   "metadata": {},
   "outputs": [],
   "source": [
    "for idx in \"${!FN_INPS[@]}\"\n",
    "do\n",
    "    FN_INP=${FN_INPS[idx]}\n",
    "    FN_OUT=${FN_OUTS[idx]}\n",
    "    \n",
    "    FILE=${FD_INP}/${FN_INP}\n",
    "    LINK=${FD_OUT}/${FN_OUT}\n",
    "    \n",
    "    if [[ ! -e ${LINK} ]]; then\n",
    "        ln -s ${FILE} ${LINK}\n",
    "    fi\n",
    "done"
   ]
  },
  {
   "cell_type": "code",
   "execution_count": 13,
   "id": "33cf5d7e-41fb-4e4c-a5a5-87c575f242d1",
   "metadata": {},
   "outputs": [
    {
     "name": "stdout",
     "output_type": "stream",
     "text": [
      "\u001b[0m\u001b[38;5;51mWSTARRseq_K562_A001.hg38.Input.rep1.WGS.unstranded.bed.gz\u001b[0m\n",
      "\u001b[38;5;51mWSTARRseq_K562_A001.hg38.Input.rep2.WGS.unstranded.bed.gz\u001b[0m\n",
      "\u001b[38;5;51mWSTARRseq_K562_A001.hg38.Input.rep3.WGS.unstranded.bed.gz\u001b[0m\n",
      "\u001b[38;5;51mWSTARRseq_K562_A001.hg38.Input.rep4.WGS.unstranded.bed.gz\u001b[0m\n",
      "\u001b[38;5;51mWSTARRseq_K562_A001.hg38.Output.rep1.WGS.unstranded.bed.gz\u001b[0m\n",
      "\u001b[38;5;51mWSTARRseq_K562_A001.hg38.Output.rep2.WGS.unstranded.bed.gz\u001b[0m\n",
      "\u001b[38;5;51mWSTARRseq_K562_A001.hg38.Output.rep3.WGS.unstranded.bed.gz\u001b[0m\n"
     ]
    }
   ],
   "source": [
    "FD_OUT=${FD_RES}/assay_fcc/STARR_WHG_K562_Reddy_A001/fragment_counts\n",
    "ls ${FD_OUT}"
   ]
  },
  {
   "cell_type": "code",
   "execution_count": 14,
   "id": "280a052b-436a-460d-8333-67c1d956a02d",
   "metadata": {},
   "outputs": [
    {
     "name": "stdout",
     "output_type": "stream",
     "text": [
      "chr1\t10335\t10549\tchr1_10335_10549\t1\t.\n",
      "chr1\t16983\t17500\tchr1_16983_17500\t1\t.\n",
      "chr1\t16985\t17499\tchr1_16985_17499\t1\t.\n",
      "chr1\t17004\t17500\tchr1_17004_17500\t1\t.\n",
      "chr1\t17483\t17898\tchr1_17483_17898\t1\t.\n",
      "chr1\t17487\t17941\tchr1_17487_17941\t1\t.\n",
      "chr1\t33606\t33997\tchr1_33606_33997\t1\t.\n",
      "chr1\t33617\t33997\tchr1_33617_33997\t1\t.\n",
      "chr1\t38785\t39226\tchr1_38785_39226\t1\t.\n",
      "chr1\t46328\t46678\tchr1_46328_46678\t1\t.\n"
     ]
    }
   ],
   "source": [
    "FD_OUT=${FD_RES}/assay_fcc/STARR_WHG_K562_Reddy_A001/fragment_counts\n",
    "FN_OUT=WSTARRseq_K562_A001.hg38.Input.rep1.WGS.unstranded.bed.gz\n",
    "FP_OUT=${FD_OUT}/${FN_OUT}\n",
    "\n",
    "zcat ${FP_OUT} | head"
   ]
  },
  {
   "cell_type": "code",
   "execution_count": null,
   "id": "891b19ce-f885-4f4b-8886-cecefaaed762",
   "metadata": {},
   "outputs": [],
   "source": []
  }
 ],
 "metadata": {
  "kernelspec": {
   "display_name": "Bash",
   "language": "bash",
   "name": "bash"
  },
  "language_info": {
   "codemirror_mode": "shell",
   "file_extension": ".sh",
   "mimetype": "text/x-sh",
   "name": "bash"
  }
 },
 "nbformat": 4,
 "nbformat_minor": 5
}
