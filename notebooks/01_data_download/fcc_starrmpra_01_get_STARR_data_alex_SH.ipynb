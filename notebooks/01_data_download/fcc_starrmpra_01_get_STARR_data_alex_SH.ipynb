{
 "cells": [
  {
   "cell_type": "markdown",
   "id": "16daf41d-a3ca-46ba-b016-b83318f815e9",
   "metadata": {},
   "source": [
    "**Set environment**"
   ]
  },
  {
   "cell_type": "code",
   "execution_count": 1,
   "id": "d2b1a74e-0900-4901-98de-bc40ea4303c1",
   "metadata": {},
   "outputs": [
    {
     "name": "stdout",
     "output_type": "stream",
     "text": [
      "You are working on             Duke Server: HARDAC\n",
      "BASE DIRECTORY (FD_BASE):      /data/reddylab/Kuei\n",
      "REPO DIRECTORY (FD_REPO):      /data/reddylab/Kuei/repo\n",
      "WORK DIRECTORY (FD_WORK):      /data/reddylab/Kuei/work\n",
      "DATA DIRECTORY (FD_DATA):      /data/reddylab/Kuei/data\n",
      "CONTAINER DIR. (FD_SING):      /data/reddylab/Kuei/container\n",
      "\n",
      "You are working with           ENCODE FCC\n",
      "PATH OF PROJECT (FD_PRJ):      /data/reddylab/Kuei/repo/Proj_CombEffect_ENCODE_FCC\n",
      "PROJECT RESULTS (FD_RES):      /data/reddylab/Kuei/repo/Proj_CombEffect_ENCODE_FCC/results\n",
      "PROJECT SCRIPTS (FD_EXE):      /data/reddylab/Kuei/repo/Proj_CombEffect_ENCODE_FCC/scripts\n",
      "PROJECT DATA    (FD_DAT):      /data/reddylab/Kuei/repo/Proj_CombEffect_ENCODE_FCC/data\n",
      "PROJECT NOTE    (FD_NBK):      /data/reddylab/Kuei/repo/Proj_CombEffect_ENCODE_FCC/notebooks\n",
      "PROJECT DOCS    (FD_DOC):      /data/reddylab/Kuei/repo/Proj_CombEffect_ENCODE_FCC/docs\n",
      "PROJECT LOG     (FD_LOG):      /data/reddylab/Kuei/repo/Proj_CombEffect_ENCODE_FCC/log\n",
      "PROJECT APP     (FD_APP):      /data/reddylab/Kuei/repo/Proj_CombEffect_ENCODE_FCC/app\n",
      "PROJECT REF     (FD_REF):      /data/reddylab/Kuei/repo/Proj_CombEffect_ENCODE_FCC/references\n",
      "PROJECT IMAGE   (FP_PRJ_SIF):  /data/reddylab/Kuei/repo/Proj_CombEffect_ENCODE_FCC/app/singularity_proj_encode_fcc.sif\n",
      "\n"
     ]
    }
   ],
   "source": [
    "source ../run_config_project.sh\n",
    "show_env"
   ]
  },
  {
   "cell_type": "markdown",
   "id": "125818df-845f-4e39-b689-9cd0207c3ebf",
   "metadata": {},
   "source": [
    "## Check existence of STARR data\n",
    "```\n",
    "### WSTARR\n",
    "FD_WGS_WSTARR=${FD_ALEX}/encode4_duke/data/starr_seq\n",
    "FP_WGS_WSTARR=($(ls ${FD_WGS_WSTARR}/fragments/*.fragments.counts.txt.gz))\n",
    "\n",
    "### ASTARR\n",
    "FP_WGS_ASTARR_INP=($(ls ${FD_WGS_ASTARR_INP}/merged2/*counts.txt.gz))\n",
    "FP_WGS_ASTARR_OUT=($(ls ${FD_WGS_ASTARR_OUT}/*f3q10.fragments.counts.txt.gz))\n",
    "FP_WGS_ASTARR=(\"${FP_WGS_ASTARR_INP[@]}\" \"${FP_WGS_ASTARR_OUT[@]}\")\n",
    "\n",
    "FN_WGS_ASTARR_INP_PEAKS=(\n",
    "    \n",
    "    ### MACS peak set (union)\n",
    "    KS91_K562_hg38_ASTARRseq_Input.all_reps.masked.union_narrowPeak.q5.bed\n",
    "    \n",
    "    ### MACS peak set (intersect; overlap)\n",
    "    KS91_K562_hg38_ASTARRseq_Input.q5.in_all.max_overlaps.bed\n",
    ")\n",
    "```"
   ]
  },
  {
   "cell_type": "code",
   "execution_count": 2,
   "id": "b8ee9f0d-40fe-4589-82aa-fe38841701c1",
   "metadata": {},
   "outputs": [
    {
     "name": "stdout",
     "output_type": "stream",
     "text": [
      "\u001b[0m\u001b[38;5;27mfragments\u001b[0m  \u001b[38;5;27mmetadata\u001b[0m  \u001b[38;5;27mmotifs\u001b[0m  \u001b[38;5;27mpeaks\u001b[0m  \u001b[38;5;27mprocessed_raw_reads\u001b[0m  \u001b[38;5;27mqc\u001b[0m  \u001b[38;5;27mraw_reads\u001b[0m\n"
     ]
    }
   ],
   "source": [
    "ls ${FD_WGS_WSTARR}"
   ]
  },
  {
   "cell_type": "code",
   "execution_count": 3,
   "id": "d8647f1e-9f00-43d6-aa61-48833453d009",
   "metadata": {},
   "outputs": [
    {
     "name": "stdout",
     "output_type": "stream",
     "text": [
      "A001-input-K562-rep1.masked.dedup.fragments.counts.txt.gz\n",
      "A001-input-K562-rep2.masked.dedup.fragments.counts.txt.gz\n",
      "A001-input-K562-rep3.masked.dedup.fragments.counts.txt.gz\n",
      "A001-input-K562-rep4.masked.dedup.fragments.counts.txt.gz\n",
      "A001-K562-rep1.masked.dedup.fragments.counts.txt.gz\n",
      "A001-K562-rep2.masked.dedup.fragments.counts.txt.gz\n",
      "A001-K562-rep3.masked.dedup.fragments.counts.txt.gz\n"
     ]
    }
   ],
   "source": [
    "for FPATH in ${FP_WGS_WSTARR[@]}; do\n",
    "    ls ${FPATH} | xargs -n 1 basename\n",
    "done"
   ]
  },
  {
   "cell_type": "code",
   "execution_count": 4,
   "id": "a15d5f39-36c1-4236-bb90-25cd41be85eb",
   "metadata": {},
   "outputs": [
    {
     "name": "stdout",
     "output_type": "stream",
     "text": [
      "KS91_K562_hg38_ASTARRseq_Input_rep1.masked.dedup.fragments.counts.txt.gz\n",
      "KS91_K562_hg38_ASTARRseq_Input_rep2.masked.dedup.fragments.counts.txt.gz\n",
      "KS91_K562_hg38_ASTARRseq_Input_rep3.masked.dedup.fragments.counts.txt.gz\n",
      "KS91_K562_hg38_ASTARRseq_Input_rep4.masked.dedup.fragments.counts.txt.gz\n",
      "KS91_K562_hg38_ASTARRseq_Input_rep5.masked.dedup.fragments.counts.txt.gz\n",
      "KS91_K562_hg38_ASTARRseq_Input_rep6.masked.dedup.fragments.counts.txt.gz\n",
      "KS91_K562_hg38_ASTARRseq_Output_rep1.f3q10.fragments.counts.txt.gz\n",
      "KS91_K562_hg38_ASTARRseq_Output_rep2.f3q10.fragments.counts.txt.gz\n",
      "KS91_K562_hg38_ASTARRseq_Output_rep3.f3q10.fragments.counts.txt.gz\n",
      "KS91_K562_hg38_ASTARRseq_Output_rep4.f3q10.fragments.counts.txt.gz\n"
     ]
    }
   ],
   "source": [
    "for FPATH in ${FP_WGS_ASTARR[@]}; do\n",
    "    ls ${FPATH} | xargs -n 1 basename\n",
    "done"
   ]
  },
  {
   "cell_type": "code",
   "execution_count": 5,
   "id": "7b22d2f8-ac94-4d90-b873-46815fe9d7c8",
   "metadata": {},
   "outputs": [
    {
     "name": "stdout",
     "output_type": "stream",
     "text": [
      "KS91_K562_hg38_ASTARRseq_Input.all_reps.masked.union_narrowPeak.q5.bed\n",
      "KS91_K562_hg38_ASTARRseq_Input.q5.in_all.max_overlaps.bed\n"
     ]
    }
   ],
   "source": [
    "for FPATH in ${FP_WGS_ASTARR_INP_PEAKS[@]}; do\n",
    "    ls ${FPATH} | xargs -n 1 basename\n",
    "done"
   ]
  },
  {
   "cell_type": "markdown",
   "id": "4ad9d591-6167-4484-b73d-a5b79c6b102c",
   "metadata": {},
   "source": [
    "## Set data directories and copy the data files"
   ]
  },
  {
   "cell_type": "markdown",
   "id": "b4c40a0e-94c5-43d7-8875-697a5a30900d",
   "metadata": {},
   "source": [
    "**Create data directories**"
   ]
  },
  {
   "cell_type": "code",
   "execution_count": 6,
   "id": "62fc6bd6-55e0-4aa1-ab02-c47a6ccb39f6",
   "metadata": {},
   "outputs": [],
   "source": [
    "mkdir -p ${FD_DAT}/processed/A001_K562_hg38_WSTARRseq/fragments\n",
    "mkdir -p ${FD_DAT}/processed/KS91_K562_hg38_ASTARRseq_210401/fragments\n",
    "mkdir -p ${FD_DAT}/processed/KS91_K562_hg38_ASTARRseq_210401/peaks"
   ]
  },
  {
   "cell_type": "markdown",
   "id": "ea64437d-12d1-421e-9986-0b5569145dec",
   "metadata": {},
   "source": [
    "**Copy data files**"
   ]
  },
  {
   "cell_type": "code",
   "execution_count": 7,
   "id": "9a2d21cd-8085-4801-8162-226a5673cc1d",
   "metadata": {},
   "outputs": [
    {
     "name": "stdout",
     "output_type": "stream",
     "text": [
      "/data/reddylab/Alex/encode4_duke/data/starr_seq/fragments/A001-input-K562-rep1.masked.dedup.fragments.counts.txt.gz\n",
      "A001-input-K562-rep1.masked.dedup.fragments.counts.txt.gz\n",
      "\n",
      "/data/reddylab/Alex/encode4_duke/data/starr_seq/fragments/A001-input-K562-rep2.masked.dedup.fragments.counts.txt.gz\n",
      "A001-input-K562-rep2.masked.dedup.fragments.counts.txt.gz\n",
      "\n",
      "/data/reddylab/Alex/encode4_duke/data/starr_seq/fragments/A001-input-K562-rep3.masked.dedup.fragments.counts.txt.gz\n",
      "A001-input-K562-rep3.masked.dedup.fragments.counts.txt.gz\n",
      "\n",
      "/data/reddylab/Alex/encode4_duke/data/starr_seq/fragments/A001-input-K562-rep4.masked.dedup.fragments.counts.txt.gz\n",
      "A001-input-K562-rep4.masked.dedup.fragments.counts.txt.gz\n",
      "\n",
      "/data/reddylab/Alex/encode4_duke/data/starr_seq/fragments/A001-K562-rep1.masked.dedup.fragments.counts.txt.gz\n",
      "A001-K562-rep1.masked.dedup.fragments.counts.txt.gz\n",
      "\n",
      "/data/reddylab/Alex/encode4_duke/data/starr_seq/fragments/A001-K562-rep2.masked.dedup.fragments.counts.txt.gz\n",
      "A001-K562-rep2.masked.dedup.fragments.counts.txt.gz\n",
      "\n",
      "/data/reddylab/Alex/encode4_duke/data/starr_seq/fragments/A001-K562-rep3.masked.dedup.fragments.counts.txt.gz\n",
      "A001-K562-rep3.masked.dedup.fragments.counts.txt.gz\n",
      "\n"
     ]
    }
   ],
   "source": [
    "FD_OUT=${FD_DAT}/processed/A001_K562_hg38_WSTARRseq/fragments\n",
    "\n",
    "for FPATH in ${FP_WGS_WSTARR[@]}; do\n",
    "    FNAME=$(basename ${FPATH})\n",
    "    cp ${FPATH} ${FD_OUT}/${FNAME}\n",
    "    echo ${FPATH}\n",
    "    echo ${FNAME}\n",
    "    echo\n",
    "done"
   ]
  },
  {
   "cell_type": "code",
   "execution_count": 8,
   "id": "9e9be6b5-1121-4ec3-a56f-c081aeae40a0",
   "metadata": {},
   "outputs": [
    {
     "name": "stdout",
     "output_type": "stream",
     "text": [
      "/data/reddylab/Alex/encode4_duke/processing/atac_seq/210401_KS91_K562ASTARR_NovaSeq.hg38-pe-blacklist-removal/merged2/KS91_K562_hg38_ASTARRseq_Input_rep1.masked.dedup.fragments.counts.txt.gz\n",
      "KS91_K562_hg38_ASTARRseq_Input_rep1.masked.dedup.fragments.counts.txt.gz\n",
      "\n",
      "/data/reddylab/Alex/encode4_duke/processing/atac_seq/210401_KS91_K562ASTARR_NovaSeq.hg38-pe-blacklist-removal/merged2/KS91_K562_hg38_ASTARRseq_Input_rep2.masked.dedup.fragments.counts.txt.gz\n",
      "KS91_K562_hg38_ASTARRseq_Input_rep2.masked.dedup.fragments.counts.txt.gz\n",
      "\n",
      "/data/reddylab/Alex/encode4_duke/processing/atac_seq/210401_KS91_K562ASTARR_NovaSeq.hg38-pe-blacklist-removal/merged2/KS91_K562_hg38_ASTARRseq_Input_rep3.masked.dedup.fragments.counts.txt.gz\n",
      "KS91_K562_hg38_ASTARRseq_Input_rep3.masked.dedup.fragments.counts.txt.gz\n",
      "\n",
      "/data/reddylab/Alex/encode4_duke/processing/atac_seq/210401_KS91_K562ASTARR_NovaSeq.hg38-pe-blacklist-removal/merged2/KS91_K562_hg38_ASTARRseq_Input_rep4.masked.dedup.fragments.counts.txt.gz\n",
      "KS91_K562_hg38_ASTARRseq_Input_rep4.masked.dedup.fragments.counts.txt.gz\n",
      "\n",
      "/data/reddylab/Alex/encode4_duke/processing/atac_seq/210401_KS91_K562ASTARR_NovaSeq.hg38-pe-blacklist-removal/merged2/KS91_K562_hg38_ASTARRseq_Input_rep5.masked.dedup.fragments.counts.txt.gz\n",
      "KS91_K562_hg38_ASTARRseq_Input_rep5.masked.dedup.fragments.counts.txt.gz\n",
      "\n",
      "/data/reddylab/Alex/encode4_duke/processing/atac_seq/210401_KS91_K562ASTARR_NovaSeq.hg38-pe-blacklist-removal/merged2/KS91_K562_hg38_ASTARRseq_Input_rep6.masked.dedup.fragments.counts.txt.gz\n",
      "KS91_K562_hg38_ASTARRseq_Input_rep6.masked.dedup.fragments.counts.txt.gz\n",
      "\n",
      "/data/reddylab/Alex/encode4_duke/processing/starr_seq/210401_KS91_K562ASTARR_NovaSeq.hg38-pe-umis/KS91_K562_hg38_ASTARRseq_Output_rep1.f3q10.fragments.counts.txt.gz\n",
      "KS91_K562_hg38_ASTARRseq_Output_rep1.f3q10.fragments.counts.txt.gz\n",
      "\n",
      "/data/reddylab/Alex/encode4_duke/processing/starr_seq/210401_KS91_K562ASTARR_NovaSeq.hg38-pe-umis/KS91_K562_hg38_ASTARRseq_Output_rep2.f3q10.fragments.counts.txt.gz\n",
      "KS91_K562_hg38_ASTARRseq_Output_rep2.f3q10.fragments.counts.txt.gz\n",
      "\n",
      "/data/reddylab/Alex/encode4_duke/processing/starr_seq/210401_KS91_K562ASTARR_NovaSeq.hg38-pe-umis/KS91_K562_hg38_ASTARRseq_Output_rep3.f3q10.fragments.counts.txt.gz\n",
      "KS91_K562_hg38_ASTARRseq_Output_rep3.f3q10.fragments.counts.txt.gz\n",
      "\n",
      "/data/reddylab/Alex/encode4_duke/processing/starr_seq/210401_KS91_K562ASTARR_NovaSeq.hg38-pe-umis/KS91_K562_hg38_ASTARRseq_Output_rep4.f3q10.fragments.counts.txt.gz\n",
      "KS91_K562_hg38_ASTARRseq_Output_rep4.f3q10.fragments.counts.txt.gz\n",
      "\n"
     ]
    }
   ],
   "source": [
    "FD_OUT=${FD_DAT}/processed/KS91_K562_hg38_ASTARRseq_210401/fragments\n",
    "\n",
    "for FPATH in ${FP_WGS_ASTARR[@]}; do\n",
    "    FNAME=$(basename ${FPATH})\n",
    "    cp ${FPATH} ${FD_OUT}/${FNAME}\n",
    "    echo ${FPATH}\n",
    "    echo ${FNAME}\n",
    "    echo\n",
    "done"
   ]
  },
  {
   "cell_type": "code",
   "execution_count": 9,
   "id": "bfad9706-fed2-49e9-af48-bd0cdd91a39d",
   "metadata": {},
   "outputs": [
    {
     "name": "stdout",
     "output_type": "stream",
     "text": [
      "/data/reddylab/Alex/encode4_duke/processing/atac_seq/210401_KS91_K562ASTARR_NovaSeq.hg38-pe-blacklist-removal/KS91_K562_hg38_ASTARRseq_Input.all_reps.masked.union_narrowPeak.q5.bed\n",
      "KS91_K562_hg38_ASTARRseq_Input.all_reps.masked.union_narrowPeak.q5.bed\n",
      "\n",
      "/data/reddylab/Alex/encode4_duke/processing/atac_seq/210401_KS91_K562ASTARR_NovaSeq.hg38-pe-blacklist-removal/KS91_K562_hg38_ASTARRseq_Input.q5.in_all.max_overlaps.bed\n",
      "KS91_K562_hg38_ASTARRseq_Input.q5.in_all.max_overlaps.bed\n",
      "\n"
     ]
    }
   ],
   "source": [
    "FD_OUT=${FD_DAT}/processed/KS91_K562_hg38_ASTARRseq_210401/peaks\n",
    "\n",
    "for FPATH in ${FP_WGS_ASTARR_INP_PEAKS[@]}; do\n",
    "    FNAME=$(basename ${FPATH})\n",
    "    cp ${FPATH} ${FD_OUT}/${FNAME}\n",
    "    echo ${FPATH}\n",
    "    echo ${FNAME}\n",
    "    echo\n",
    "done"
   ]
  },
  {
   "cell_type": "markdown",
   "id": "4b08f391-db56-459c-9946-4bbb191edb84",
   "metadata": {},
   "source": [
    "**Check results**"
   ]
  },
  {
   "cell_type": "code",
   "execution_count": 14,
   "id": "b62823d3-ab28-4396-97b8-4da37d83cf61",
   "metadata": {},
   "outputs": [
    {
     "name": "stdout",
     "output_type": "stream",
     "text": [
      "\u001b[0m\u001b[38;5;9mA001-input-K562-rep1.masked.dedup.fragments.counts.txt.gz\u001b[0m\n",
      "\u001b[38;5;9mA001-input-K562-rep2.masked.dedup.fragments.counts.txt.gz\u001b[0m\n",
      "\u001b[38;5;9mA001-input-K562-rep3.masked.dedup.fragments.counts.txt.gz\u001b[0m\n",
      "\u001b[38;5;9mA001-input-K562-rep4.masked.dedup.fragments.counts.txt.gz\u001b[0m\n",
      "\u001b[38;5;9mA001-K562-rep1.masked.dedup.fragments.counts.txt.gz\u001b[0m\n",
      "\u001b[38;5;9mA001-K562-rep2.masked.dedup.fragments.counts.txt.gz\u001b[0m\n",
      "\u001b[38;5;9mA001-K562-rep3.masked.dedup.fragments.counts.txt.gz\u001b[0m\n"
     ]
    }
   ],
   "source": [
    "ls ${FD_DAT}/processed/A001_K562_hg38_WSTARRseq/fragments"
   ]
  },
  {
   "cell_type": "code",
   "execution_count": 11,
   "id": "956a7320-b9c6-4b48-8327-6a863b1cc7f6",
   "metadata": {},
   "outputs": [
    {
     "name": "stdout",
     "output_type": "stream",
     "text": [
      "/data/reddylab/Kuei/repo/Proj_CombEffect_ENCODE_FCC/data/processed/KS91_K562_hg38_ASTARRseq_210401/fragments:\n",
      "\u001b[0m\u001b[38;5;9mKS91_K562_hg38_ASTARRseq_Input_rep1.masked.dedup.fragments.counts.txt.gz\u001b[0m\n",
      "\u001b[38;5;9mKS91_K562_hg38_ASTARRseq_Input_rep2.masked.dedup.fragments.counts.txt.gz\u001b[0m\n",
      "\u001b[38;5;9mKS91_K562_hg38_ASTARRseq_Input_rep3.masked.dedup.fragments.counts.txt.gz\u001b[0m\n",
      "\u001b[38;5;9mKS91_K562_hg38_ASTARRseq_Input_rep4.masked.dedup.fragments.counts.txt.gz\u001b[0m\n",
      "\u001b[38;5;9mKS91_K562_hg38_ASTARRseq_Input_rep5.masked.dedup.fragments.counts.txt.gz\u001b[0m\n",
      "\u001b[38;5;9mKS91_K562_hg38_ASTARRseq_Input_rep6.masked.dedup.fragments.counts.txt.gz\u001b[0m\n",
      "\u001b[38;5;9mKS91_K562_hg38_ASTARRseq_Output_rep1.f3q10.fragments.counts.txt.gz\u001b[0m\n",
      "\u001b[38;5;9mKS91_K562_hg38_ASTARRseq_Output_rep2.f3q10.fragments.counts.txt.gz\u001b[0m\n",
      "\u001b[38;5;9mKS91_K562_hg38_ASTARRseq_Output_rep3.f3q10.fragments.counts.txt.gz\u001b[0m\n",
      "\u001b[38;5;9mKS91_K562_hg38_ASTARRseq_Output_rep4.f3q10.fragments.counts.txt.gz\u001b[0m\n",
      "\n",
      "/data/reddylab/Kuei/repo/Proj_CombEffect_ENCODE_FCC/data/processed/KS91_K562_hg38_ASTARRseq_210401/peaks:\n",
      "KS91_K562_hg38_ASTARRseq_Input.all_reps.masked.union_narrowPeak.q5.bed\n",
      "KS91_K562_hg38_ASTARRseq_Input.q5.in_all.max_overlaps.bed\n"
     ]
    }
   ],
   "source": [
    "ls ${FD_DAT}/processed/KS91_K562_hg38_ASTARRseq_210401/*"
   ]
  },
  {
   "cell_type": "code",
   "execution_count": 15,
   "id": "6b0c3921-3b77-40bc-bc13-4eac56754b47",
   "metadata": {},
   "outputs": [
    {
     "name": "stdout",
     "output_type": "stream",
     "text": [
      "9.8G\t/data/reddylab/Kuei/repo/Proj_CombEffect_ENCODE_FCC/data/processed/A001_K562_hg38_WSTARRseq/fragments\n"
     ]
    }
   ],
   "source": [
    "du -sh ${FD_DAT}/processed/A001_K562_hg38_WSTARRseq/fragments"
   ]
  },
  {
   "cell_type": "code",
   "execution_count": 16,
   "id": "d79076a1-7cf3-45d7-9831-0a71de4c21c8",
   "metadata": {},
   "outputs": [
    {
     "name": "stdout",
     "output_type": "stream",
     "text": [
      "24G\t/data/reddylab/Kuei/repo/Proj_CombEffect_ENCODE_FCC/data/processed/KS91_K562_hg38_ASTARRseq_210401\n"
     ]
    }
   ],
   "source": [
    "du -sh ${FD_DAT}/processed/KS91_K562_hg38_ASTARRseq_210401"
   ]
  },
  {
   "cell_type": "code",
   "execution_count": null,
   "id": "d5ae4f80-e171-4ced-90b2-f4ef8b6d530e",
   "metadata": {},
   "outputs": [],
   "source": []
  }
 ],
 "metadata": {
  "kernelspec": {
   "display_name": "Bash",
   "language": "bash",
   "name": "bash"
  },
  "language_info": {
   "codemirror_mode": "shell",
   "file_extension": ".sh",
   "mimetype": "text/x-sh",
   "name": "bash"
  }
 },
 "nbformat": 4,
 "nbformat_minor": 5
}
