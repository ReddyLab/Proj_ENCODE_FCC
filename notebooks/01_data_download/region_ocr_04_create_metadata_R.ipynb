{
 "cells": [
  {
   "cell_type": "code",
   "execution_count": null,
   "id": "b932ea65-a718-40d0-8d68-6457474475b3",
   "metadata": {},
   "outputs": [],
   "source": []
  },
  {
   "cell_type": "markdown",
   "id": "e26f29d3-2f93-4f3e-800e-2ac5c031dbe0",
   "metadata": {},
   "source": [
    "**Set environment**"
   ]
  },
  {
   "cell_type": "code",
   "execution_count": 1,
   "id": "b2ec4945-f0b1-41aa-86e2-5d0d8cb1551d",
   "metadata": {},
   "outputs": [
    {
     "name": "stdout",
     "output_type": "stream",
     "text": [
      "You are working on        Singularity \n",
      "BASE DIRECTORY (FD_BASE): /mount \n",
      "REPO DIRECTORY (FD_REPO): /mount/repo \n",
      "WORK DIRECTORY (FD_WORK): /mount/work \n",
      "DATA DIRECTORY (FD_DATA): /mount/data \n",
      "\n",
      "You are working with      ENCODE FCC \n",
      "PATH OF PROJECT (FD_PRJ): /mount/repo/Proj_CombEffect_ENCODE_FCC \n",
      "PROJECT RESULTS (FD_RES): /mount/repo/Proj_CombEffect_ENCODE_FCC/results \n",
      "PROJECT SCRIPTS (FD_EXE): /mount/repo/Proj_CombEffect_ENCODE_FCC/scripts \n",
      "PROJECT DATA    (FD_DAT): /mount/repo/Proj_CombEffect_ENCODE_FCC/data \n",
      "PROJECT NOTE    (FD_NBK): /mount/repo/Proj_CombEffect_ENCODE_FCC/notebooks \n",
      "PROJECT DOCS    (FD_DOC): /mount/repo/Proj_CombEffect_ENCODE_FCC/docs \n",
      "PROJECT LOG     (FD_LOG): /mount/repo/Proj_CombEffect_ENCODE_FCC/log \n",
      "PROJECT APP     (FD_APP): /mount/repo/Proj_CombEffect_ENCODE_FCC/app \n",
      "PROJECT REF     (FD_REF): /mount/repo/Proj_CombEffect_ENCODE_FCC/references \n",
      "\n"
     ]
    }
   ],
   "source": [
    "suppressMessages(suppressWarnings(source(\"../run_config_project_sing.R\")))\n",
    "show_env()"
   ]
  },
  {
   "cell_type": "markdown",
   "id": "c3254391-26c0-4f75-bf94-cb7cfc5d6d6f",
   "metadata": {},
   "source": [
    "## Define metadata"
   ]
  },
  {
   "cell_type": "code",
   "execution_count": 6,
   "id": "fd553811-706d-4842-8e85-d8dc31e372e6",
   "metadata": {},
   "outputs": [
    {
     "data": {
      "text/html": [
       "<table class=\"dataframe\">\n",
       "<caption>A tibble: 10 × 2</caption>\n",
       "<thead>\n",
       "\t<tr><th scope=col>Name</th><th scope=col>Note</th></tr>\n",
       "\t<tr><th scope=col>&lt;chr&gt;</th><th scope=col>&lt;chr&gt;</th></tr>\n",
       "</thead>\n",
       "<tbody>\n",
       "\t<tr><td>Chrom      </td><td>Name of the chromosome                                                                                       </td></tr>\n",
       "\t<tr><td>ChromStart </td><td>The starting position of the feature in the chromosome                                                       </td></tr>\n",
       "\t<tr><td>ChromEnd   </td><td>The ending position of the feature in the chromosome                                                         </td></tr>\n",
       "\t<tr><td>Name       </td><td>Name given to a region; Use '.' if no name is assigned.                                                      </td></tr>\n",
       "\t<tr><td>Score      </td><td>Indicates how dark the peak will be displayed in the browser (0-1000).                                       </td></tr>\n",
       "\t<tr><td>Strand     </td><td>+/- to denote strand or orientation. Use '.' if no orientation is assigned.                                  </td></tr>\n",
       "\t<tr><td>SignalValue</td><td>Measurement of overall (usually, average) enrichment for the region.                                         </td></tr>\n",
       "\t<tr><td>PValue     </td><td>Measurement of statistical significance (-log10). Use -1 if no pValue is assigned.                           </td></tr>\n",
       "\t<tr><td>QValue     </td><td>Measurement of statistical significance using false discovery rate (-log10). Use -1 if no qValue is assigned.</td></tr>\n",
       "\t<tr><td>Peak       </td><td>Point-source called for this peak; 0-based offset from chromStart. Use -1 if no point-source called.         </td></tr>\n",
       "</tbody>\n",
       "</table>\n"
      ],
      "text/latex": [
       "A tibble: 10 × 2\n",
       "\\begin{tabular}{ll}\n",
       " Name & Note\\\\\n",
       " <chr> & <chr>\\\\\n",
       "\\hline\n",
       "\t Chrom       & Name of the chromosome                                                                                       \\\\\n",
       "\t ChromStart  & The starting position of the feature in the chromosome                                                       \\\\\n",
       "\t ChromEnd    & The ending position of the feature in the chromosome                                                         \\\\\n",
       "\t Name        & Name given to a region; Use '.' if no name is assigned.                                                      \\\\\n",
       "\t Score       & Indicates how dark the peak will be displayed in the browser (0-1000).                                       \\\\\n",
       "\t Strand      & +/- to denote strand or orientation. Use '.' if no orientation is assigned.                                  \\\\\n",
       "\t SignalValue & Measurement of overall (usually, average) enrichment for the region.                                         \\\\\n",
       "\t PValue      & Measurement of statistical significance (-log10). Use -1 if no pValue is assigned.                           \\\\\n",
       "\t QValue      & Measurement of statistical significance using false discovery rate (-log10). Use -1 if no qValue is assigned.\\\\\n",
       "\t Peak        & Point-source called for this peak; 0-based offset from chromStart. Use -1 if no point-source called.         \\\\\n",
       "\\end{tabular}\n"
      ],
      "text/markdown": [
       "\n",
       "A tibble: 10 × 2\n",
       "\n",
       "| Name &lt;chr&gt; | Note &lt;chr&gt; |\n",
       "|---|---|\n",
       "| Chrom       | Name of the chromosome                                                                                        |\n",
       "| ChromStart  | The starting position of the feature in the chromosome                                                        |\n",
       "| ChromEnd    | The ending position of the feature in the chromosome                                                          |\n",
       "| Name        | Name given to a region; Use '.' if no name is assigned.                                                       |\n",
       "| Score       | Indicates how dark the peak will be displayed in the browser (0-1000).                                        |\n",
       "| Strand      | +/- to denote strand or orientation. Use '.' if no orientation is assigned.                                   |\n",
       "| SignalValue | Measurement of overall (usually, average) enrichment for the region.                                          |\n",
       "| PValue      | Measurement of statistical significance (-log10). Use -1 if no pValue is assigned.                            |\n",
       "| QValue      | Measurement of statistical significance using false discovery rate (-log10). Use -1 if no qValue is assigned. |\n",
       "| Peak        | Point-source called for this peak; 0-based offset from chromStart. Use -1 if no point-source called.          |\n",
       "\n"
      ],
      "text/plain": [
       "   Name       \n",
       "1  Chrom      \n",
       "2  ChromStart \n",
       "3  ChromEnd   \n",
       "4  Name       \n",
       "5  Score      \n",
       "6  Strand     \n",
       "7  SignalValue\n",
       "8  PValue     \n",
       "9  QValue     \n",
       "10 Peak       \n",
       "   Note                                                                                                         \n",
       "1  Name of the chromosome                                                                                       \n",
       "2  The starting position of the feature in the chromosome                                                       \n",
       "3  The ending position of the feature in the chromosome                                                         \n",
       "4  Name given to a region; Use '.' if no name is assigned.                                                      \n",
       "5  Indicates how dark the peak will be displayed in the browser (0-1000).                                       \n",
       "6  +/- to denote strand or orientation. Use '.' if no orientation is assigned.                                  \n",
       "7  Measurement of overall (usually, average) enrichment for the region.                                         \n",
       "8  Measurement of statistical significance (-log10). Use -1 if no pValue is assigned.                           \n",
       "9  Measurement of statistical significance using false discovery rate (-log10). Use -1 if no qValue is assigned.\n",
       "10 Point-source called for this peak; 0-based offset from chromStart. Use -1 if no point-source called.         "
      ]
     },
     "metadata": {},
     "output_type": "display_data"
    }
   ],
   "source": [
    "### ENCODE narrowPeak: Narrow (or Point-Source) Peaks format\n",
    "dat = tribble(\n",
    "    ~Name, ~Note,\n",
    "    \"Chrom\",      \"Name of the chromosome\",\n",
    "    \"ChromStart\", \"The starting position of the feature in the chromosome\",\n",
    "    \"ChromEnd\",   \"The ending position of the feature in the chromosome\",\n",
    "    \"Name\",       \"Name given to a region; Use '.' if no name is assigned.\",\n",
    "    \"Score\",      \"Indicates how dark the peak will be displayed in the browser (0-1000).\",\n",
    "    \"Strand\",     \"+/- to denote strand or orientation. Use '.' if no orientation is assigned.\",\n",
    "    \"SignalValue\",\"Measurement of overall (usually, average) enrichment for the region.\",\n",
    "    \"PValue\",     \"Measurement of statistical significance (-log10). Use -1 if no pValue is assigned.\",\n",
    "    \"QValue\",     \"Measurement of statistical significance using false discovery rate (-log10). Use -1 if no qValue is assigned.\",\n",
    "    \"Peak\",       \"Point-source called for this peak; 0-based offset from chromStart. Use -1 if no point-source called.\"\n",
    "    \n",
    ")\n",
    "\n",
    "### assign and show\n",
    "dat_cnames = dat\n",
    "IRdisplay::display(dat)"
   ]
  },
  {
   "cell_type": "markdown",
   "id": "f99e40d1-0f0e-49bd-97ca-7f0f6c2bd532",
   "metadata": {},
   "source": [
    "## Save results"
   ]
  },
  {
   "cell_type": "code",
   "execution_count": 10,
   "id": "09f7f3fc-ca3e-4f98-bce6-3da327518298",
   "metadata": {},
   "outputs": [],
   "source": [
    "fdiry = file.path(FD_DAT, \"external\", \"encode_open_chromatin\")\n",
    "fname = \"description.tsv\"\n",
    "fpath = file.path(fdiry, fname)\n",
    "\n",
    "write_tsv(dat_cnames, fpath)"
   ]
  },
  {
   "cell_type": "code",
   "execution_count": null,
   "id": "f3057ac0-fb54-495e-a88d-7b890948a9d0",
   "metadata": {},
   "outputs": [],
   "source": []
  }
 ],
 "metadata": {
  "kernelspec": {
   "display_name": "R",
   "language": "R",
   "name": "ir"
  },
  "language_info": {
   "codemirror_mode": "r",
   "file_extension": ".r",
   "mimetype": "text/x-r-source",
   "name": "R",
   "pygments_lexer": "r",
   "version": "4.3.1"
  }
 },
 "nbformat": 4,
 "nbformat_minor": 5
}
