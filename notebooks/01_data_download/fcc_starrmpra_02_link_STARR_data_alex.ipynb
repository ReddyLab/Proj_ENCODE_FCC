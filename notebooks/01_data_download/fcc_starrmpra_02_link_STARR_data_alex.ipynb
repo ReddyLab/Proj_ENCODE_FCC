{
 "cells": [
  {
   "cell_type": "markdown",
   "id": "4397f047-cd59-4539-9280-1692059fb242",
   "metadata": {},
   "source": [
    "* Link from `KS91_K562_hg38_ASTARRseq_210401` to `STARR_ATAC_K562_Reddy_KS91`\n",
    "* Link from `A001_K562_hg38_WSTARRseq` to `STARR_WHG_K562_Reddy_A001`"
   ]
  },
  {
   "cell_type": "markdown",
   "id": "90d1e5e2-4620-4e07-8955-01bd08781714",
   "metadata": {},
   "source": [
    "**Set environment**"
   ]
  },
  {
   "cell_type": "code",
   "execution_count": 1,
   "id": "87f7e9e5-70c6-4e7f-8b6d-e439b16e9352",
   "metadata": {},
   "outputs": [
    {
     "name": "stdout",
     "output_type": "stream",
     "text": [
      "You are working on             Duke Server: HARDAC\n",
      "BASE DIRECTORY (FD_BASE):      /data/reddylab/Kuei\n",
      "REPO DIRECTORY (FD_REPO):      /data/reddylab/Kuei/repo\n",
      "WORK DIRECTORY (FD_WORK):      /data/reddylab/Kuei/work\n",
      "DATA DIRECTORY (FD_DATA):      /data/reddylab/Kuei/data\n",
      "CONTAINER DIR. (FD_SING):      /data/reddylab/Kuei/container\n",
      "\n",
      "You are working with           ENCODE FCC\n",
      "PATH OF PROJECT (FD_PRJ):      /data/reddylab/Kuei/repo/Proj_CombEffect_ENCODE_FCC\n",
      "PROJECT RESULTS (FD_RES):      /data/reddylab/Kuei/repo/Proj_CombEffect_ENCODE_FCC/results\n",
      "PROJECT SCRIPTS (FD_EXE):      /data/reddylab/Kuei/repo/Proj_CombEffect_ENCODE_FCC/scripts\n",
      "PROJECT DATA    (FD_DAT):      /data/reddylab/Kuei/repo/Proj_CombEffect_ENCODE_FCC/data\n",
      "PROJECT NOTE    (FD_NBK):      /data/reddylab/Kuei/repo/Proj_CombEffect_ENCODE_FCC/notebooks\n",
      "PROJECT DOCS    (FD_DOC):      /data/reddylab/Kuei/repo/Proj_CombEffect_ENCODE_FCC/docs\n",
      "PROJECT LOG     (FD_LOG):      /data/reddylab/Kuei/repo/Proj_CombEffect_ENCODE_FCC/log\n",
      "PROJECT APP     (FD_APP):      /data/reddylab/Kuei/repo/Proj_CombEffect_ENCODE_FCC/app\n",
      "PROJECT REF     (FD_REF):      /data/reddylab/Kuei/repo/Proj_CombEffect_ENCODE_FCC/references\n",
      "PROJECT IMAGE   (FP_PRJ_SIF):  /data/reddylab/Kuei/repo/Proj_CombEffect_ENCODE_FCC/app/singularity_proj_encode_fcc.sif\n",
      "\n"
     ]
    }
   ],
   "source": [
    "source ../run_config_project.sh\n",
    "show_env"
   ]
  },
  {
   "cell_type": "code",
   "execution_count": 7,
   "id": "581d5c4d-175f-4c9d-9c29-a0872202a20c",
   "metadata": {},
   "outputs": [],
   "source": [
    "mkdir -p ${FD_RES}/assay_fcc/STARR_ATAC_K562_Reddy_KS91/fragment_counts\n",
    "mkdir -p ${FD_RES}/assay_fcc/STARR_WHG_K562_Reddy_A001/fragment_counts"
   ]
  },
  {
   "cell_type": "markdown",
   "id": "f7feec24-bbe6-474e-8930-c8080a5e6a65",
   "metadata": {},
   "source": [
    "## Link fragment counts of ASTARR"
   ]
  },
  {
   "cell_type": "markdown",
   "id": "900778ce-8065-4b90-a7c6-10f3aa39a9ce",
   "metadata": {},
   "source": [
    "```\n",
    "KS91_K562_hg38_ASTARRseq_Input_rep1.masked.dedup.fragments.counts.txt.gz\n",
    "KS91_K562_hg38_ASTARRseq_Input_rep2.masked.dedup.fragments.counts.txt.gz\n",
    "KS91_K562_hg38_ASTARRseq_Input_rep3.masked.dedup.fragments.counts.txt.gz\n",
    "KS91_K562_hg38_ASTARRseq_Input_rep4.masked.dedup.fragments.counts.txt.gz\n",
    "KS91_K562_hg38_ASTARRseq_Input_rep5.masked.dedup.fragments.counts.txt.gz\n",
    "KS91_K562_hg38_ASTARRseq_Input_rep6.masked.dedup.fragments.counts.txt.gz\n",
    "KS91_K562_hg38_ASTARRseq_Output_rep1.f3q10.fragments.counts.txt.gz\n",
    "KS91_K562_hg38_ASTARRseq_Output_rep2.f3q10.fragments.counts.txt.gz\n",
    "KS91_K562_hg38_ASTARRseq_Output_rep3.f3q10.fragments.counts.txt.gz\n",
    "KS91_K562_hg38_ASTARRseq_Output_rep4.f3q10.fragments.counts.txt.gz\n",
    "```"
   ]
  },
  {
   "cell_type": "markdown",
   "id": "a0dbf595-902f-40a4-a75a-df15dbf1d0e4",
   "metadata": {},
   "source": [
    "```\n",
    "ASTARRseq_K562_KS91.hg38.Input.rep1.WGS.unstranded.bed.gz\n",
    "```"
   ]
  },
  {
   "cell_type": "code",
   "execution_count": 12,
   "id": "350f9760-d14e-4ed2-ac4a-1f5c2f68607e",
   "metadata": {},
   "outputs": [
    {
     "name": "stdout",
     "output_type": "stream",
     "text": [
      "\u001b[0m\u001b[38;5;9mKS91_K562_hg38_ASTARRseq_Input_rep1.masked.dedup.fragments.counts.txt.gz\u001b[0m\n",
      "\u001b[38;5;9mKS91_K562_hg38_ASTARRseq_Input_rep2.masked.dedup.fragments.counts.txt.gz\u001b[0m\n",
      "\u001b[38;5;9mKS91_K562_hg38_ASTARRseq_Input_rep3.masked.dedup.fragments.counts.txt.gz\u001b[0m\n",
      "\u001b[38;5;9mKS91_K562_hg38_ASTARRseq_Input_rep4.masked.dedup.fragments.counts.txt.gz\u001b[0m\n",
      "\u001b[38;5;9mKS91_K562_hg38_ASTARRseq_Input_rep5.masked.dedup.fragments.counts.txt.gz\u001b[0m\n",
      "\u001b[38;5;9mKS91_K562_hg38_ASTARRseq_Input_rep6.masked.dedup.fragments.counts.txt.gz\u001b[0m\n",
      "\u001b[38;5;9mKS91_K562_hg38_ASTARRseq_Output_rep1.f3q10.fragments.counts.txt.gz\u001b[0m\n",
      "\u001b[38;5;9mKS91_K562_hg38_ASTARRseq_Output_rep2.f3q10.fragments.counts.txt.gz\u001b[0m\n",
      "\u001b[38;5;9mKS91_K562_hg38_ASTARRseq_Output_rep3.f3q10.fragments.counts.txt.gz\u001b[0m\n",
      "\u001b[38;5;9mKS91_K562_hg38_ASTARRseq_Output_rep4.f3q10.fragments.counts.txt.gz\u001b[0m\n"
     ]
    }
   ],
   "source": [
    "FD_INP=${FD_DAT}/processed/KS91_K562_hg38_ASTARRseq_210401/fragments\n",
    "ls ${FD_INP}"
   ]
  },
  {
   "cell_type": "code",
   "execution_count": null,
   "id": "2accdab6-516f-4d1d-98ae-da3fc1e71eb7",
   "metadata": {},
   "outputs": [],
   "source": [
    "ln -s "
   ]
  },
  {
   "cell_type": "markdown",
   "id": "bd40d5d9-6af3-4404-b3c3-8acaefdbd9c7",
   "metadata": {},
   "source": [
    "## Link fragment counts of WSTARR"
   ]
  },
  {
   "cell_type": "markdown",
   "id": "a88eb21f-f08e-4897-8442-a1593355429e",
   "metadata": {},
   "source": [
    "```\n",
    "A001-input-K562-rep1.masked.dedup.fragments.counts.txt.gz\n",
    "A001-input-K562-rep2.masked.dedup.fragments.counts.txt.gz\n",
    "A001-input-K562-rep3.masked.dedup.fragments.counts.txt.gz\n",
    "A001-input-K562-rep4.masked.dedup.fragments.counts.txt.gz\n",
    "A001-K562-rep1.masked.dedup.fragments.counts.txt.gz\n",
    "A001-K562-rep2.masked.dedup.fragments.counts.txt.gz\n",
    "A001-K562-rep3.masked.dedup.fragments.counts.txt.gz\n",
    "```"
   ]
  },
  {
   "cell_type": "markdown",
   "id": "88043761-bc4c-468e-a797-1d0d1b916820",
   "metadata": {},
   "source": [
    "```\n",
    "WSTARRseq_K562_A001.hg38.Input.rep1.WGS.unstranded.bed.gz\n",
    "```"
   ]
  },
  {
   "cell_type": "code",
   "execution_count": 13,
   "id": "796bb2fc-e87b-4584-ade7-abe2c7432308",
   "metadata": {},
   "outputs": [
    {
     "name": "stdout",
     "output_type": "stream",
     "text": [
      "\u001b[0m\u001b[38;5;9mA001-input-K562-rep1.masked.dedup.fragments.counts.txt.gz\u001b[0m\n",
      "\u001b[38;5;9mA001-input-K562-rep2.masked.dedup.fragments.counts.txt.gz\u001b[0m\n",
      "\u001b[38;5;9mA001-input-K562-rep3.masked.dedup.fragments.counts.txt.gz\u001b[0m\n",
      "\u001b[38;5;9mA001-input-K562-rep4.masked.dedup.fragments.counts.txt.gz\u001b[0m\n",
      "\u001b[38;5;9mA001-K562-rep1.masked.dedup.fragments.counts.txt.gz\u001b[0m\n",
      "\u001b[38;5;9mA001-K562-rep2.masked.dedup.fragments.counts.txt.gz\u001b[0m\n",
      "\u001b[38;5;9mA001-K562-rep3.masked.dedup.fragments.counts.txt.gz\u001b[0m\n"
     ]
    }
   ],
   "source": [
    "ls ${FD_DAT}/processed/A001_K562_hg38_WSTARRseq/fragments"
   ]
  },
  {
   "cell_type": "code",
   "execution_count": 14,
   "id": "3b74e3ea-94b8-4756-a493-19c6d61ca0c6",
   "metadata": {},
   "outputs": [
    {
     "name": "stdout",
     "output_type": "stream",
     "text": [
      "\u001b[0m\u001b[38;5;9mA001-input-K562-rep1.masked.dedup.fragments.counts.txt.gz\u001b[0m\n",
      "\u001b[38;5;9mA001-input-K562-rep2.masked.dedup.fragments.counts.txt.gz\u001b[0m\n",
      "\u001b[38;5;9mA001-input-K562-rep3.masked.dedup.fragments.counts.txt.gz\u001b[0m\n",
      "\u001b[38;5;9mA001-input-K562-rep4.masked.dedup.fragments.counts.txt.gz\u001b[0m\n",
      "\u001b[38;5;9mA001-K562-rep1.masked.dedup.fragments.counts.txt.gz\u001b[0m\n",
      "\u001b[38;5;9mA001-K562-rep2.masked.dedup.fragments.counts.txt.gz\u001b[0m\n",
      "\u001b[38;5;9mA001-K562-rep3.masked.dedup.fragments.counts.txt.gz\u001b[0m\n"
     ]
    }
   ],
   "source": [
    "FD_INP=${FD_DAT}/processed/A001_K562_hg38_WSTARRseq/fragments\n",
    "ls ${FD_INP}"
   ]
  },
  {
   "cell_type": "code",
   "execution_count": null,
   "id": "b2b24514-8134-42f8-ba16-f1c5fa41a19d",
   "metadata": {},
   "outputs": [],
   "source": []
  }
 ],
 "metadata": {
  "kernelspec": {
   "display_name": "Bash",
   "language": "bash",
   "name": "bash"
  },
  "language_info": {
   "codemirror_mode": "shell",
   "file_extension": ".sh",
   "mimetype": "text/x-sh",
   "name": "bash"
  }
 },
 "nbformat": 4,
 "nbformat_minor": 5
}
