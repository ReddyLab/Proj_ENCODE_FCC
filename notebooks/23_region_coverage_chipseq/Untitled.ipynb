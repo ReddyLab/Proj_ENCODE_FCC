{
 "cells": [
  {
   "cell_type": "raw",
   "id": "d66a0af7-3230-4d90-b969-d246d51f46b3",
   "metadata": {},
   "source": [
    "---\n",
    "title: Region annotation 11 (ASTARR MACS peaks)\n",
    "subtitle: Summarize annotations (Main)\n",
    "format:\n",
    "    html:\n",
    "        code-fold:  true\n",
    "        code-tools: true\n",
    "---"
   ]
  },
  {
   "cell_type": "markdown",
   "id": "b3db8007-bb28-4f42-b5e4-588e60caf29e",
   "metadata": {},
   "source": [
    "**Set environment**"
   ]
  },
  {
   "cell_type": "code",
   "execution_count": 1,
   "id": "2e63e302-a8f7-46d9-87b2-6a904367b372",
   "metadata": {
    "tags": []
   },
   "outputs": [
    {
     "name": "stdout",
     "output_type": "stream",
     "text": [
      "You are working on        Singularity: singularity_proj_encode_fcc \n",
      "BASE DIRECTORY (FD_BASE): /data/reddylab/Kuei \n",
      "REPO DIRECTORY (FD_REPO): /data/reddylab/Kuei/repo \n",
      "WORK DIRECTORY (FD_WORK): /data/reddylab/Kuei/work \n",
      "DATA DIRECTORY (FD_DATA): /data/reddylab/Kuei/data \n",
      "\n",
      "You are working with      ENCODE FCC \n",
      "PATH OF PROJECT (FD_PRJ): /data/reddylab/Kuei/repo/Proj_ENCODE_FCC \n",
      "PROJECT RESULTS (FD_RES): /data/reddylab/Kuei/repo/Proj_ENCODE_FCC/results \n",
      "PROJECT SCRIPTS (FD_EXE): /data/reddylab/Kuei/repo/Proj_ENCODE_FCC/scripts \n",
      "PROJECT DATA    (FD_DAT): /data/reddylab/Kuei/repo/Proj_ENCODE_FCC/data \n",
      "PROJECT NOTE    (FD_NBK): /data/reddylab/Kuei/repo/Proj_ENCODE_FCC/notebooks \n",
      "PROJECT DOCS    (FD_DOC): /data/reddylab/Kuei/repo/Proj_ENCODE_FCC/docs \n",
      "PROJECT LOG     (FD_LOG): /data/reddylab/Kuei/repo/Proj_ENCODE_FCC/log \n",
      "PROJECT REF     (FD_REF): /data/reddylab/Kuei/repo/Proj_ENCODE_FCC/references \n",
      "\n"
     ]
    }
   ],
   "source": [
    "suppressMessages(suppressWarnings(source(\"../run_config_project_sing.R\")))\n",
    "show_env()"
   ]
  },
  {
   "cell_type": "code",
   "execution_count": 2,
   "id": "db5ed380-e75d-4593-a271-6e9e2fb63b94",
   "metadata": {},
   "outputs": [
    {
     "name": "stdout",
     "output_type": "stream",
     "text": [
      "[1] 2850798      12\n"
     ]
    },
    {
     "data": {
      "text/html": [
       "<table class=\"dataframe\">\n",
       "<caption>A tibble: 6 × 12</caption>\n",
       "<thead>\n",
       "\t<tr><th scope=col>Region</th><th scope=col>Size</th><th scope=col>Covered</th><th scope=col>Sum</th><th scope=col>Mean0</th><th scope=col>Mean</th><th scope=col>Min</th><th scope=col>Max</th><th scope=col>Annotation_A</th><th scope=col>Annotation_B</th><th scope=col>Target</th><th scope=col>Index_File</th></tr>\n",
       "\t<tr><th scope=col>&lt;chr&gt;</th><th scope=col>&lt;dbl&gt;</th><th scope=col>&lt;dbl&gt;</th><th scope=col>&lt;dbl&gt;</th><th scope=col>&lt;dbl&gt;</th><th scope=col>&lt;dbl&gt;</th><th scope=col>&lt;dbl&gt;</th><th scope=col>&lt;dbl&gt;</th><th scope=col>&lt;chr&gt;</th><th scope=col>&lt;chr&gt;</th><th scope=col>&lt;chr&gt;</th><th scope=col>&lt;chr&gt;</th></tr>\n",
       "</thead>\n",
       "<tbody>\n",
       "\t<tr><td>chr1:10038-10405  </td><td>367</td><td>367</td><td> 73.3865</td><td>0.1999630</td><td>0.1999630</td><td>0.07471</td><td>0.25932</td><td>fcc_astarr_macs_input_overlap</td><td>encode_chipseq_H2AFZ_ENCFF202EVH</td><td>H2AFZ</td><td>ENCFF202EVH</td></tr>\n",
       "\t<tr><td>chr1:14282-14614  </td><td>332</td><td>332</td><td> 24.8037</td><td>0.0747100</td><td>0.0747100</td><td>0.07471</td><td>0.07471</td><td>fcc_astarr_macs_input_overlap</td><td>encode_chipseq_H2AFZ_ENCFF202EVH</td><td>H2AFZ</td><td>ENCFF202EVH</td></tr>\n",
       "\t<tr><td>chr1:16025-16338  </td><td>313</td><td>313</td><td> 18.5679</td><td>0.0593224</td><td>0.0593224</td><td>0.02044</td><td>0.07471</td><td>fcc_astarr_macs_input_overlap</td><td>encode_chipseq_H2AFZ_ENCFF202EVH</td><td>H2AFZ</td><td>ENCFF202EVH</td></tr>\n",
       "\t<tr><td>chr1:17288-17689  </td><td>401</td><td>401</td><td> 29.9587</td><td>0.0747100</td><td>0.0747100</td><td>0.07471</td><td>0.07471</td><td>fcc_astarr_macs_input_overlap</td><td>encode_chipseq_H2AFZ_ENCFF202EVH</td><td>H2AFZ</td><td>ENCFF202EVH</td></tr>\n",
       "\t<tr><td>chr1:28934-29499  </td><td>565</td><td>565</td><td> 42.2111</td><td>0.0747100</td><td>0.0747100</td><td>0.07471</td><td>0.07471</td><td>fcc_astarr_macs_input_overlap</td><td>encode_chipseq_H2AFZ_ENCFF202EVH</td><td>H2AFZ</td><td>ENCFF202EVH</td></tr>\n",
       "\t<tr><td>chr1:115429-115969</td><td>540</td><td>540</td><td>246.0580</td><td>0.4556630</td><td>0.4556630</td><td>0.07471</td><td>1.40070</td><td>fcc_astarr_macs_input_overlap</td><td>encode_chipseq_H2AFZ_ENCFF202EVH</td><td>H2AFZ</td><td>ENCFF202EVH</td></tr>\n",
       "</tbody>\n",
       "</table>\n"
      ],
      "text/latex": [
       "A tibble: 6 × 12\n",
       "\\begin{tabular}{llllllllllll}\n",
       " Region & Size & Covered & Sum & Mean0 & Mean & Min & Max & Annotation\\_A & Annotation\\_B & Target & Index\\_File\\\\\n",
       " <chr> & <dbl> & <dbl> & <dbl> & <dbl> & <dbl> & <dbl> & <dbl> & <chr> & <chr> & <chr> & <chr>\\\\\n",
       "\\hline\n",
       "\t chr1:10038-10405   & 367 & 367 &  73.3865 & 0.1999630 & 0.1999630 & 0.07471 & 0.25932 & fcc\\_astarr\\_macs\\_input\\_overlap & encode\\_chipseq\\_H2AFZ\\_ENCFF202EVH & H2AFZ & ENCFF202EVH\\\\\n",
       "\t chr1:14282-14614   & 332 & 332 &  24.8037 & 0.0747100 & 0.0747100 & 0.07471 & 0.07471 & fcc\\_astarr\\_macs\\_input\\_overlap & encode\\_chipseq\\_H2AFZ\\_ENCFF202EVH & H2AFZ & ENCFF202EVH\\\\\n",
       "\t chr1:16025-16338   & 313 & 313 &  18.5679 & 0.0593224 & 0.0593224 & 0.02044 & 0.07471 & fcc\\_astarr\\_macs\\_input\\_overlap & encode\\_chipseq\\_H2AFZ\\_ENCFF202EVH & H2AFZ & ENCFF202EVH\\\\\n",
       "\t chr1:17288-17689   & 401 & 401 &  29.9587 & 0.0747100 & 0.0747100 & 0.07471 & 0.07471 & fcc\\_astarr\\_macs\\_input\\_overlap & encode\\_chipseq\\_H2AFZ\\_ENCFF202EVH & H2AFZ & ENCFF202EVH\\\\\n",
       "\t chr1:28934-29499   & 565 & 565 &  42.2111 & 0.0747100 & 0.0747100 & 0.07471 & 0.07471 & fcc\\_astarr\\_macs\\_input\\_overlap & encode\\_chipseq\\_H2AFZ\\_ENCFF202EVH & H2AFZ & ENCFF202EVH\\\\\n",
       "\t chr1:115429-115969 & 540 & 540 & 246.0580 & 0.4556630 & 0.4556630 & 0.07471 & 1.40070 & fcc\\_astarr\\_macs\\_input\\_overlap & encode\\_chipseq\\_H2AFZ\\_ENCFF202EVH & H2AFZ & ENCFF202EVH\\\\\n",
       "\\end{tabular}\n"
      ],
      "text/markdown": [
       "\n",
       "A tibble: 6 × 12\n",
       "\n",
       "| Region &lt;chr&gt; | Size &lt;dbl&gt; | Covered &lt;dbl&gt; | Sum &lt;dbl&gt; | Mean0 &lt;dbl&gt; | Mean &lt;dbl&gt; | Min &lt;dbl&gt; | Max &lt;dbl&gt; | Annotation_A &lt;chr&gt; | Annotation_B &lt;chr&gt; | Target &lt;chr&gt; | Index_File &lt;chr&gt; |\n",
       "|---|---|---|---|---|---|---|---|---|---|---|---|\n",
       "| chr1:10038-10405   | 367 | 367 |  73.3865 | 0.1999630 | 0.1999630 | 0.07471 | 0.25932 | fcc_astarr_macs_input_overlap | encode_chipseq_H2AFZ_ENCFF202EVH | H2AFZ | ENCFF202EVH |\n",
       "| chr1:14282-14614   | 332 | 332 |  24.8037 | 0.0747100 | 0.0747100 | 0.07471 | 0.07471 | fcc_astarr_macs_input_overlap | encode_chipseq_H2AFZ_ENCFF202EVH | H2AFZ | ENCFF202EVH |\n",
       "| chr1:16025-16338   | 313 | 313 |  18.5679 | 0.0593224 | 0.0593224 | 0.02044 | 0.07471 | fcc_astarr_macs_input_overlap | encode_chipseq_H2AFZ_ENCFF202EVH | H2AFZ | ENCFF202EVH |\n",
       "| chr1:17288-17689   | 401 | 401 |  29.9587 | 0.0747100 | 0.0747100 | 0.07471 | 0.07471 | fcc_astarr_macs_input_overlap | encode_chipseq_H2AFZ_ENCFF202EVH | H2AFZ | ENCFF202EVH |\n",
       "| chr1:28934-29499   | 565 | 565 |  42.2111 | 0.0747100 | 0.0747100 | 0.07471 | 0.07471 | fcc_astarr_macs_input_overlap | encode_chipseq_H2AFZ_ENCFF202EVH | H2AFZ | ENCFF202EVH |\n",
       "| chr1:115429-115969 | 540 | 540 | 246.0580 | 0.4556630 | 0.4556630 | 0.07471 | 1.40070 | fcc_astarr_macs_input_overlap | encode_chipseq_H2AFZ_ENCFF202EVH | H2AFZ | ENCFF202EVH |\n",
       "\n"
      ],
      "text/plain": [
       "  Region             Size Covered Sum      Mean0     Mean      Min     Max    \n",
       "1 chr1:10038-10405   367  367      73.3865 0.1999630 0.1999630 0.07471 0.25932\n",
       "2 chr1:14282-14614   332  332      24.8037 0.0747100 0.0747100 0.07471 0.07471\n",
       "3 chr1:16025-16338   313  313      18.5679 0.0593224 0.0593224 0.02044 0.07471\n",
       "4 chr1:17288-17689   401  401      29.9587 0.0747100 0.0747100 0.07471 0.07471\n",
       "5 chr1:28934-29499   565  565      42.2111 0.0747100 0.0747100 0.07471 0.07471\n",
       "6 chr1:115429-115969 540  540     246.0580 0.4556630 0.4556630 0.07471 1.40070\n",
       "  Annotation_A                  Annotation_B                     Target\n",
       "1 fcc_astarr_macs_input_overlap encode_chipseq_H2AFZ_ENCFF202EVH H2AFZ \n",
       "2 fcc_astarr_macs_input_overlap encode_chipseq_H2AFZ_ENCFF202EVH H2AFZ \n",
       "3 fcc_astarr_macs_input_overlap encode_chipseq_H2AFZ_ENCFF202EVH H2AFZ \n",
       "4 fcc_astarr_macs_input_overlap encode_chipseq_H2AFZ_ENCFF202EVH H2AFZ \n",
       "5 fcc_astarr_macs_input_overlap encode_chipseq_H2AFZ_ENCFF202EVH H2AFZ \n",
       "6 fcc_astarr_macs_input_overlap encode_chipseq_H2AFZ_ENCFF202EVH H2AFZ \n",
       "  Index_File \n",
       "1 ENCFF202EVH\n",
       "2 ENCFF202EVH\n",
       "3 ENCFF202EVH\n",
       "4 ENCFF202EVH\n",
       "5 ENCFF202EVH\n",
       "6 ENCFF202EVH"
      ]
     },
     "metadata": {},
     "output_type": "display_data"
    }
   ],
   "source": [
    "txt_fdiry = \"/data/reddylab/Kuei/repo/Proj_ENCODE_FCC/results/region_coverage_chipseq/fcc_astarr_macs_input_overlap/summary\"\n",
    "txt_fname = \"region.coverage.encode_chipseq_histone.tsv\"\n",
    "txt_fpath = file.path(txt_fdiry, txt_fname)\n",
    "\n",
    "dat = read_tsv(txt_fpath, show_col_types = FALSE)\n",
    "\n",
    "dat_coverage_chipseq_histone = dat\n",
    "print(dim(dat))\n",
    "head(dat)"
   ]
  },
  {
   "cell_type": "code",
   "execution_count": 3,
   "id": "33f32a82-a162-432e-adb5-f2a703115199",
   "metadata": {},
   "outputs": [
    {
     "name": "stdout",
     "output_type": "stream",
     "text": [
      "[1] 1800504       3\n"
     ]
    },
    {
     "data": {
      "text/html": [
       "<table class=\"dataframe\">\n",
       "<caption>A tibble: 6 × 3</caption>\n",
       "<thead>\n",
       "\t<tr><th scope=col>Region</th><th scope=col>Target</th><th scope=col>Score</th></tr>\n",
       "\t<tr><th scope=col>&lt;chr&gt;</th><th scope=col>&lt;chr&gt;</th><th scope=col>&lt;dbl&gt;</th></tr>\n",
       "</thead>\n",
       "<tbody>\n",
       "\t<tr><td>chr10:100009244-100010395</td><td>H2AFZ   </td><td>14.65310000</td></tr>\n",
       "\t<tr><td>chr10:100009244-100010395</td><td>H3K27ac </td><td> 3.36609000</td></tr>\n",
       "\t<tr><td>chr10:100009244-100010395</td><td>H3K27me3</td><td> 0.09102275</td></tr>\n",
       "\t<tr><td>chr10:100009244-100010395</td><td>H3K36me3</td><td> 0.18934650</td></tr>\n",
       "\t<tr><td>chr10:100009244-100010395</td><td>H3K4me1 </td><td> 4.09280500</td></tr>\n",
       "\t<tr><td>chr10:100009244-100010395</td><td>H3K4me2 </td><td>25.66270000</td></tr>\n",
       "</tbody>\n",
       "</table>\n"
      ],
      "text/latex": [
       "A tibble: 6 × 3\n",
       "\\begin{tabular}{lll}\n",
       " Region & Target & Score\\\\\n",
       " <chr> & <chr> & <dbl>\\\\\n",
       "\\hline\n",
       "\t chr10:100009244-100010395 & H2AFZ    & 14.65310000\\\\\n",
       "\t chr10:100009244-100010395 & H3K27ac  &  3.36609000\\\\\n",
       "\t chr10:100009244-100010395 & H3K27me3 &  0.09102275\\\\\n",
       "\t chr10:100009244-100010395 & H3K36me3 &  0.18934650\\\\\n",
       "\t chr10:100009244-100010395 & H3K4me1  &  4.09280500\\\\\n",
       "\t chr10:100009244-100010395 & H3K4me2  & 25.66270000\\\\\n",
       "\\end{tabular}\n"
      ],
      "text/markdown": [
       "\n",
       "A tibble: 6 × 3\n",
       "\n",
       "| Region &lt;chr&gt; | Target &lt;chr&gt; | Score &lt;dbl&gt; |\n",
       "|---|---|---|\n",
       "| chr10:100009244-100010395 | H2AFZ    | 14.65310000 |\n",
       "| chr10:100009244-100010395 | H3K27ac  |  3.36609000 |\n",
       "| chr10:100009244-100010395 | H3K27me3 |  0.09102275 |\n",
       "| chr10:100009244-100010395 | H3K36me3 |  0.18934650 |\n",
       "| chr10:100009244-100010395 | H3K4me1  |  4.09280500 |\n",
       "| chr10:100009244-100010395 | H3K4me2  | 25.66270000 |\n",
       "\n"
      ],
      "text/plain": [
       "  Region                    Target   Score      \n",
       "1 chr10:100009244-100010395 H2AFZ    14.65310000\n",
       "2 chr10:100009244-100010395 H3K27ac   3.36609000\n",
       "3 chr10:100009244-100010395 H3K27me3  0.09102275\n",
       "4 chr10:100009244-100010395 H3K36me3  0.18934650\n",
       "5 chr10:100009244-100010395 H3K4me1   4.09280500\n",
       "6 chr10:100009244-100010395 H3K4me2  25.66270000"
      ]
     },
     "metadata": {},
     "output_type": "display_data"
    }
   ],
   "source": [
    "dat = dat_coverage_chipseq_histone\n",
    "dat = dat %>% \n",
    "    dplyr::group_by(Region, Target) %>% \n",
    "    dplyr::summarise(Score = mean(Mean0), .groups = 'drop')\n",
    "\n",
    "dat_coverage_summary = dat\n",
    "print(dim(dat))\n",
    "head(dat)"
   ]
  },
  {
   "cell_type": "code",
   "execution_count": 4,
   "id": "d1d59c34-56cd-4cab-9a02-562b9cdaea27",
   "metadata": {},
   "outputs": [
    {
     "data": {
      "text/html": [
       "FALSE"
      ],
      "text/latex": [
       "FALSE"
      ],
      "text/markdown": [
       "FALSE"
      ],
      "text/plain": [
       "[1] FALSE"
      ]
     },
     "metadata": {},
     "output_type": "display_data"
    }
   ],
   "source": [
    "dat = dat_coverage_summary\n",
    "any(is.na(dat$Score))"
   ]
  },
  {
   "cell_type": "code",
   "execution_count": 5,
   "id": "7db86137-2a6e-4118-b095-3acb1b4ffe88",
   "metadata": {},
   "outputs": [
    {
     "name": "stdout",
     "output_type": "stream",
     "text": [
      "[1] 150042     13\n"
     ]
    },
    {
     "data": {
      "text/html": [
       "<table class=\"dataframe\">\n",
       "<caption>A tibble: 6 × 13</caption>\n",
       "<thead>\n",
       "\t<tr><th scope=col>Region</th><th scope=col>H2AFZ</th><th scope=col>H3K27ac</th><th scope=col>H3K27me3</th><th scope=col>H3K36me3</th><th scope=col>H3K4me1</th><th scope=col>H3K4me2</th><th scope=col>H3K4me3</th><th scope=col>H3K79me2</th><th scope=col>H3K9ac</th><th scope=col>H3K9me1</th><th scope=col>H3K9me3</th><th scope=col>H4K20me1</th></tr>\n",
       "\t<tr><th scope=col>&lt;chr&gt;</th><th scope=col>&lt;dbl&gt;</th><th scope=col>&lt;dbl&gt;</th><th scope=col>&lt;dbl&gt;</th><th scope=col>&lt;dbl&gt;</th><th scope=col>&lt;dbl&gt;</th><th scope=col>&lt;dbl&gt;</th><th scope=col>&lt;dbl&gt;</th><th scope=col>&lt;dbl&gt;</th><th scope=col>&lt;dbl&gt;</th><th scope=col>&lt;dbl&gt;</th><th scope=col>&lt;dbl&gt;</th><th scope=col>&lt;dbl&gt;</th></tr>\n",
       "</thead>\n",
       "<tbody>\n",
       "\t<tr><td>chr1:100028014-100029653</td><td> 0.5440270</td><td>  1.547830</td><td>0.034976800</td><td>0.7343255</td><td>1.618630</td><td> 0.421442</td><td>  0.2467395</td><td> 0.0621427</td><td> 0.5230985</td><td>0.229260</td><td>0.301103</td><td>0.267525</td></tr>\n",
       "\t<tr><td>chr1:100036895-100039189</td><td>11.8517000</td><td>118.523000</td><td>0.045839000</td><td>1.1265035</td><td>0.818885</td><td>63.283200</td><td>192.0023750</td><td>74.0817000</td><td>87.7667000</td><td>0.326536</td><td>0.686410</td><td>0.522124</td></tr>\n",
       "\t<tr><td>chr1:100046252-100046533</td><td> 0.0520506</td><td>  0.769209</td><td>0.035720165</td><td>0.1937501</td><td>4.162750</td><td> 0.758239</td><td>  0.5511430</td><td>25.7854000</td><td> 0.7853099</td><td>1.266150</td><td>0.112500</td><td>1.349110</td></tr>\n",
       "\t<tr><td>chr1:100048290-100048918</td><td> 0.1297520</td><td>  2.315990</td><td>0.236703100</td><td>0.7268745</td><td>4.381910</td><td> 0.728546</td><td>  0.4523622</td><td>26.2643000</td><td> 0.7424300</td><td>1.480710</td><td>0.261518</td><td>4.739960</td></tr>\n",
       "\t<tr><td>chr1:100050225-100050529</td><td> 0.2726720</td><td>  4.912780</td><td>0.004278435</td><td>4.0054800</td><td>5.371100</td><td> 2.067760</td><td>  0.6200202</td><td>22.3808000</td><td> 1.0369080</td><td>0.633395</td><td>0.267164</td><td>1.828230</td></tr>\n",
       "\t<tr><td>chr1:100064757-100065161</td><td> 0.0940149</td><td>  0.863932</td><td>0.033456395</td><td>1.8845535</td><td>1.206043</td><td> 0.295002</td><td>  0.2319361</td><td> 0.7202330</td><td> 1.6244865</td><td>0.310127</td><td>0.214077</td><td>0.360903</td></tr>\n",
       "</tbody>\n",
       "</table>\n"
      ],
      "text/latex": [
       "A tibble: 6 × 13\n",
       "\\begin{tabular}{lllllllllllll}\n",
       " Region & H2AFZ & H3K27ac & H3K27me3 & H3K36me3 & H3K4me1 & H3K4me2 & H3K4me3 & H3K79me2 & H3K9ac & H3K9me1 & H3K9me3 & H4K20me1\\\\\n",
       " <chr> & <dbl> & <dbl> & <dbl> & <dbl> & <dbl> & <dbl> & <dbl> & <dbl> & <dbl> & <dbl> & <dbl> & <dbl>\\\\\n",
       "\\hline\n",
       "\t chr1:100028014-100029653 &  0.5440270 &   1.547830 & 0.034976800 & 0.7343255 & 1.618630 &  0.421442 &   0.2467395 &  0.0621427 &  0.5230985 & 0.229260 & 0.301103 & 0.267525\\\\\n",
       "\t chr1:100036895-100039189 & 11.8517000 & 118.523000 & 0.045839000 & 1.1265035 & 0.818885 & 63.283200 & 192.0023750 & 74.0817000 & 87.7667000 & 0.326536 & 0.686410 & 0.522124\\\\\n",
       "\t chr1:100046252-100046533 &  0.0520506 &   0.769209 & 0.035720165 & 0.1937501 & 4.162750 &  0.758239 &   0.5511430 & 25.7854000 &  0.7853099 & 1.266150 & 0.112500 & 1.349110\\\\\n",
       "\t chr1:100048290-100048918 &  0.1297520 &   2.315990 & 0.236703100 & 0.7268745 & 4.381910 &  0.728546 &   0.4523622 & 26.2643000 &  0.7424300 & 1.480710 & 0.261518 & 4.739960\\\\\n",
       "\t chr1:100050225-100050529 &  0.2726720 &   4.912780 & 0.004278435 & 4.0054800 & 5.371100 &  2.067760 &   0.6200202 & 22.3808000 &  1.0369080 & 0.633395 & 0.267164 & 1.828230\\\\\n",
       "\t chr1:100064757-100065161 &  0.0940149 &   0.863932 & 0.033456395 & 1.8845535 & 1.206043 &  0.295002 &   0.2319361 &  0.7202330 &  1.6244865 & 0.310127 & 0.214077 & 0.360903\\\\\n",
       "\\end{tabular}\n"
      ],
      "text/markdown": [
       "\n",
       "A tibble: 6 × 13\n",
       "\n",
       "| Region &lt;chr&gt; | H2AFZ &lt;dbl&gt; | H3K27ac &lt;dbl&gt; | H3K27me3 &lt;dbl&gt; | H3K36me3 &lt;dbl&gt; | H3K4me1 &lt;dbl&gt; | H3K4me2 &lt;dbl&gt; | H3K4me3 &lt;dbl&gt; | H3K79me2 &lt;dbl&gt; | H3K9ac &lt;dbl&gt; | H3K9me1 &lt;dbl&gt; | H3K9me3 &lt;dbl&gt; | H4K20me1 &lt;dbl&gt; |\n",
       "|---|---|---|---|---|---|---|---|---|---|---|---|---|\n",
       "| chr1:100028014-100029653 |  0.5440270 |   1.547830 | 0.034976800 | 0.7343255 | 1.618630 |  0.421442 |   0.2467395 |  0.0621427 |  0.5230985 | 0.229260 | 0.301103 | 0.267525 |\n",
       "| chr1:100036895-100039189 | 11.8517000 | 118.523000 | 0.045839000 | 1.1265035 | 0.818885 | 63.283200 | 192.0023750 | 74.0817000 | 87.7667000 | 0.326536 | 0.686410 | 0.522124 |\n",
       "| chr1:100046252-100046533 |  0.0520506 |   0.769209 | 0.035720165 | 0.1937501 | 4.162750 |  0.758239 |   0.5511430 | 25.7854000 |  0.7853099 | 1.266150 | 0.112500 | 1.349110 |\n",
       "| chr1:100048290-100048918 |  0.1297520 |   2.315990 | 0.236703100 | 0.7268745 | 4.381910 |  0.728546 |   0.4523622 | 26.2643000 |  0.7424300 | 1.480710 | 0.261518 | 4.739960 |\n",
       "| chr1:100050225-100050529 |  0.2726720 |   4.912780 | 0.004278435 | 4.0054800 | 5.371100 |  2.067760 |   0.6200202 | 22.3808000 |  1.0369080 | 0.633395 | 0.267164 | 1.828230 |\n",
       "| chr1:100064757-100065161 |  0.0940149 |   0.863932 | 0.033456395 | 1.8845535 | 1.206043 |  0.295002 |   0.2319361 |  0.7202330 |  1.6244865 | 0.310127 | 0.214077 | 0.360903 |\n",
       "\n"
      ],
      "text/plain": [
       "  Region                   H2AFZ      H3K27ac    H3K27me3    H3K36me3  H3K4me1 \n",
       "1 chr1:100028014-100029653  0.5440270   1.547830 0.034976800 0.7343255 1.618630\n",
       "2 chr1:100036895-100039189 11.8517000 118.523000 0.045839000 1.1265035 0.818885\n",
       "3 chr1:100046252-100046533  0.0520506   0.769209 0.035720165 0.1937501 4.162750\n",
       "4 chr1:100048290-100048918  0.1297520   2.315990 0.236703100 0.7268745 4.381910\n",
       "5 chr1:100050225-100050529  0.2726720   4.912780 0.004278435 4.0054800 5.371100\n",
       "6 chr1:100064757-100065161  0.0940149   0.863932 0.033456395 1.8845535 1.206043\n",
       "  H3K4me2   H3K4me3     H3K79me2   H3K9ac     H3K9me1  H3K9me3  H4K20me1\n",
       "1  0.421442   0.2467395  0.0621427  0.5230985 0.229260 0.301103 0.267525\n",
       "2 63.283200 192.0023750 74.0817000 87.7667000 0.326536 0.686410 0.522124\n",
       "3  0.758239   0.5511430 25.7854000  0.7853099 1.266150 0.112500 1.349110\n",
       "4  0.728546   0.4523622 26.2643000  0.7424300 1.480710 0.261518 4.739960\n",
       "5  2.067760   0.6200202 22.3808000  1.0369080 0.633395 0.267164 1.828230\n",
       "6  0.295002   0.2319361  0.7202330  1.6244865 0.310127 0.214077 0.360903"
      ]
     },
     "metadata": {},
     "output_type": "display_data"
    }
   ],
   "source": [
    "dat = dat_coverage_summary\n",
    "dat = dat %>% tidyr::spread(Target, Score)\n",
    "\n",
    "mat_coverage_summary = dat\n",
    "print(dim(dat))\n",
    "head(dat)"
   ]
  },
  {
   "cell_type": "code",
   "execution_count": 6,
   "id": "27a478a8-4128-4313-8aad-bb937197601b",
   "metadata": {},
   "outputs": [
    {
     "data": {
      "text/html": [
       "FALSE"
      ],
      "text/latex": [
       "FALSE"
      ],
      "text/markdown": [
       "FALSE"
      ],
      "text/plain": [
       "[1] FALSE"
      ]
     },
     "metadata": {},
     "output_type": "display_data"
    }
   ],
   "source": [
    "any(is.na(mat_coverage_summary))"
   ]
  },
  {
   "cell_type": "code",
   "execution_count": 7,
   "id": "d12c1c2a-2bd9-4ac1-8ee4-c1fc24cfb348",
   "metadata": {},
   "outputs": [],
   "source": [
    "library(pheatmap)"
   ]
  },
  {
   "cell_type": "code",
   "execution_count": 8,
   "id": "124c57bd-4b75-44b3-8eef-27397bab52ae",
   "metadata": {},
   "outputs": [
    {
     "data": {
      "text/html": [
       "<table class=\"dataframe\">\n",
       "<caption>A data.frame: 6 × 12</caption>\n",
       "<thead>\n",
       "\t<tr><th></th><th scope=col>H2AFZ</th><th scope=col>H3K27ac</th><th scope=col>H3K27me3</th><th scope=col>H3K36me3</th><th scope=col>H3K4me1</th><th scope=col>H3K4me2</th><th scope=col>H3K4me3</th><th scope=col>H3K79me2</th><th scope=col>H3K9ac</th><th scope=col>H3K9me1</th><th scope=col>H3K9me3</th><th scope=col>H4K20me1</th></tr>\n",
       "\t<tr><th></th><th scope=col>&lt;dbl&gt;</th><th scope=col>&lt;dbl&gt;</th><th scope=col>&lt;dbl&gt;</th><th scope=col>&lt;dbl&gt;</th><th scope=col>&lt;dbl&gt;</th><th scope=col>&lt;dbl&gt;</th><th scope=col>&lt;dbl&gt;</th><th scope=col>&lt;dbl&gt;</th><th scope=col>&lt;dbl&gt;</th><th scope=col>&lt;dbl&gt;</th><th scope=col>&lt;dbl&gt;</th><th scope=col>&lt;dbl&gt;</th></tr>\n",
       "</thead>\n",
       "<tbody>\n",
       "\t<tr><th scope=row>chr1:100028014-100029653</th><td> 0.5440270</td><td>  1.547830</td><td>0.034976800</td><td>0.7343255</td><td>1.618630</td><td> 0.421442</td><td>  0.2467395</td><td> 0.0621427</td><td> 0.5230985</td><td>0.229260</td><td>0.301103</td><td>0.267525</td></tr>\n",
       "\t<tr><th scope=row>chr1:100036895-100039189</th><td>11.8517000</td><td>118.523000</td><td>0.045839000</td><td>1.1265035</td><td>0.818885</td><td>63.283200</td><td>192.0023750</td><td>74.0817000</td><td>87.7667000</td><td>0.326536</td><td>0.686410</td><td>0.522124</td></tr>\n",
       "\t<tr><th scope=row>chr1:100046252-100046533</th><td> 0.0520506</td><td>  0.769209</td><td>0.035720165</td><td>0.1937501</td><td>4.162750</td><td> 0.758239</td><td>  0.5511430</td><td>25.7854000</td><td> 0.7853099</td><td>1.266150</td><td>0.112500</td><td>1.349110</td></tr>\n",
       "\t<tr><th scope=row>chr1:100048290-100048918</th><td> 0.1297520</td><td>  2.315990</td><td>0.236703100</td><td>0.7268745</td><td>4.381910</td><td> 0.728546</td><td>  0.4523622</td><td>26.2643000</td><td> 0.7424300</td><td>1.480710</td><td>0.261518</td><td>4.739960</td></tr>\n",
       "\t<tr><th scope=row>chr1:100050225-100050529</th><td> 0.2726720</td><td>  4.912780</td><td>0.004278435</td><td>4.0054800</td><td>5.371100</td><td> 2.067760</td><td>  0.6200202</td><td>22.3808000</td><td> 1.0369080</td><td>0.633395</td><td>0.267164</td><td>1.828230</td></tr>\n",
       "\t<tr><th scope=row>chr1:100064757-100065161</th><td> 0.0940149</td><td>  0.863932</td><td>0.033456395</td><td>1.8845535</td><td>1.206043</td><td> 0.295002</td><td>  0.2319361</td><td> 0.7202330</td><td> 1.6244865</td><td>0.310127</td><td>0.214077</td><td>0.360903</td></tr>\n",
       "</tbody>\n",
       "</table>\n"
      ],
      "text/latex": [
       "A data.frame: 6 × 12\n",
       "\\begin{tabular}{r|llllllllllll}\n",
       "  & H2AFZ & H3K27ac & H3K27me3 & H3K36me3 & H3K4me1 & H3K4me2 & H3K4me3 & H3K79me2 & H3K9ac & H3K9me1 & H3K9me3 & H4K20me1\\\\\n",
       "  & <dbl> & <dbl> & <dbl> & <dbl> & <dbl> & <dbl> & <dbl> & <dbl> & <dbl> & <dbl> & <dbl> & <dbl>\\\\\n",
       "\\hline\n",
       "\tchr1:100028014-100029653 &  0.5440270 &   1.547830 & 0.034976800 & 0.7343255 & 1.618630 &  0.421442 &   0.2467395 &  0.0621427 &  0.5230985 & 0.229260 & 0.301103 & 0.267525\\\\\n",
       "\tchr1:100036895-100039189 & 11.8517000 & 118.523000 & 0.045839000 & 1.1265035 & 0.818885 & 63.283200 & 192.0023750 & 74.0817000 & 87.7667000 & 0.326536 & 0.686410 & 0.522124\\\\\n",
       "\tchr1:100046252-100046533 &  0.0520506 &   0.769209 & 0.035720165 & 0.1937501 & 4.162750 &  0.758239 &   0.5511430 & 25.7854000 &  0.7853099 & 1.266150 & 0.112500 & 1.349110\\\\\n",
       "\tchr1:100048290-100048918 &  0.1297520 &   2.315990 & 0.236703100 & 0.7268745 & 4.381910 &  0.728546 &   0.4523622 & 26.2643000 &  0.7424300 & 1.480710 & 0.261518 & 4.739960\\\\\n",
       "\tchr1:100050225-100050529 &  0.2726720 &   4.912780 & 0.004278435 & 4.0054800 & 5.371100 &  2.067760 &   0.6200202 & 22.3808000 &  1.0369080 & 0.633395 & 0.267164 & 1.828230\\\\\n",
       "\tchr1:100064757-100065161 &  0.0940149 &   0.863932 & 0.033456395 & 1.8845535 & 1.206043 &  0.295002 &   0.2319361 &  0.7202330 &  1.6244865 & 0.310127 & 0.214077 & 0.360903\\\\\n",
       "\\end{tabular}\n"
      ],
      "text/markdown": [
       "\n",
       "A data.frame: 6 × 12\n",
       "\n",
       "| <!--/--> | H2AFZ &lt;dbl&gt; | H3K27ac &lt;dbl&gt; | H3K27me3 &lt;dbl&gt; | H3K36me3 &lt;dbl&gt; | H3K4me1 &lt;dbl&gt; | H3K4me2 &lt;dbl&gt; | H3K4me3 &lt;dbl&gt; | H3K79me2 &lt;dbl&gt; | H3K9ac &lt;dbl&gt; | H3K9me1 &lt;dbl&gt; | H3K9me3 &lt;dbl&gt; | H4K20me1 &lt;dbl&gt; |\n",
       "|---|---|---|---|---|---|---|---|---|---|---|---|---|\n",
       "| chr1:100028014-100029653 |  0.5440270 |   1.547830 | 0.034976800 | 0.7343255 | 1.618630 |  0.421442 |   0.2467395 |  0.0621427 |  0.5230985 | 0.229260 | 0.301103 | 0.267525 |\n",
       "| chr1:100036895-100039189 | 11.8517000 | 118.523000 | 0.045839000 | 1.1265035 | 0.818885 | 63.283200 | 192.0023750 | 74.0817000 | 87.7667000 | 0.326536 | 0.686410 | 0.522124 |\n",
       "| chr1:100046252-100046533 |  0.0520506 |   0.769209 | 0.035720165 | 0.1937501 | 4.162750 |  0.758239 |   0.5511430 | 25.7854000 |  0.7853099 | 1.266150 | 0.112500 | 1.349110 |\n",
       "| chr1:100048290-100048918 |  0.1297520 |   2.315990 | 0.236703100 | 0.7268745 | 4.381910 |  0.728546 |   0.4523622 | 26.2643000 |  0.7424300 | 1.480710 | 0.261518 | 4.739960 |\n",
       "| chr1:100050225-100050529 |  0.2726720 |   4.912780 | 0.004278435 | 4.0054800 | 5.371100 |  2.067760 |   0.6200202 | 22.3808000 |  1.0369080 | 0.633395 | 0.267164 | 1.828230 |\n",
       "| chr1:100064757-100065161 |  0.0940149 |   0.863932 | 0.033456395 | 1.8845535 | 1.206043 |  0.295002 |   0.2319361 |  0.7202330 |  1.6244865 | 0.310127 | 0.214077 | 0.360903 |\n",
       "\n"
      ],
      "text/plain": [
       "                         H2AFZ      H3K27ac    H3K27me3    H3K36me3  H3K4me1 \n",
       "chr1:100028014-100029653  0.5440270   1.547830 0.034976800 0.7343255 1.618630\n",
       "chr1:100036895-100039189 11.8517000 118.523000 0.045839000 1.1265035 0.818885\n",
       "chr1:100046252-100046533  0.0520506   0.769209 0.035720165 0.1937501 4.162750\n",
       "chr1:100048290-100048918  0.1297520   2.315990 0.236703100 0.7268745 4.381910\n",
       "chr1:100050225-100050529  0.2726720   4.912780 0.004278435 4.0054800 5.371100\n",
       "chr1:100064757-100065161  0.0940149   0.863932 0.033456395 1.8845535 1.206043\n",
       "                         H3K4me2   H3K4me3     H3K79me2   H3K9ac     H3K9me1 \n",
       "chr1:100028014-100029653  0.421442   0.2467395  0.0621427  0.5230985 0.229260\n",
       "chr1:100036895-100039189 63.283200 192.0023750 74.0817000 87.7667000 0.326536\n",
       "chr1:100046252-100046533  0.758239   0.5511430 25.7854000  0.7853099 1.266150\n",
       "chr1:100048290-100048918  0.728546   0.4523622 26.2643000  0.7424300 1.480710\n",
       "chr1:100050225-100050529  2.067760   0.6200202 22.3808000  1.0369080 0.633395\n",
       "chr1:100064757-100065161  0.295002   0.2319361  0.7202330  1.6244865 0.310127\n",
       "                         H3K9me3  H4K20me1\n",
       "chr1:100028014-100029653 0.301103 0.267525\n",
       "chr1:100036895-100039189 0.686410 0.522124\n",
       "chr1:100046252-100046533 0.112500 1.349110\n",
       "chr1:100048290-100048918 0.261518 4.739960\n",
       "chr1:100050225-100050529 0.267164 1.828230\n",
       "chr1:100064757-100065161 0.214077 0.360903"
      ]
     },
     "metadata": {},
     "output_type": "display_data"
    }
   ],
   "source": [
    "dat = mat_coverage_summary\n",
    "dat = dat %>% column_to_rownames(var = \"Region\")\n",
    "head(dat)"
   ]
  },
  {
   "cell_type": "code",
   "execution_count": 16,
   "id": "8146946f-4374-43a2-95a8-64c0016a86c5",
   "metadata": {},
   "outputs": [
    {
     "name": "stdout",
     "output_type": "stream",
     "text": [
      "[1] 10000\n"
     ]
    }
   ],
   "source": [
    "set.seed(123)\n",
    "idx = sample(1:nrow(dat), size = 10000)\n",
    "print(length(idx))"
   ]
  },
  {
   "cell_type": "code",
   "execution_count": 17,
   "id": "a97e7561-8726-446d-96c0-d3c645741a09",
   "metadata": {},
   "outputs": [
    {
     "data": {
      "text/html": [
       "<style>\n",
       ".list-inline {list-style: none; margin:0; padding: 0}\n",
       ".list-inline>li {display: inline-block}\n",
       ".list-inline>li:not(:last-child)::after {content: \"\\00b7\"; padding: 0 .5ex}\n",
       "</style>\n",
       "<ol class=list-inline><li>10000</li><li>12</li></ol>\n"
      ],
      "text/latex": [
       "\\begin{enumerate*}\n",
       "\\item 10000\n",
       "\\item 12\n",
       "\\end{enumerate*}\n"
      ],
      "text/markdown": [
       "1. 10000\n",
       "2. 12\n",
       "\n",
       "\n"
      ],
      "text/plain": [
       "[1] 10000    12"
      ]
     },
     "metadata": {},
     "output_type": "display_data"
    }
   ],
   "source": [
    "tmp = dat[idx,]\n",
    "dim(tmp)"
   ]
  },
  {
   "cell_type": "code",
   "execution_count": 18,
   "id": "a6fc6dbc-d753-42c2-b478-39bb26af6ca6",
   "metadata": {},
   "outputs": [],
   "source": [
    "vec = brewer.pal(n = 7, name = \"Reds\")\n",
    "vec = c(\"#FFFFFF\", vec)"
   ]
  },
  {
   "cell_type": "code",
   "execution_count": 19,
   "id": "2faac88c-e5bc-4a38-8beb-dd64238a01c2",
   "metadata": {},
   "outputs": [
    {
     "data": {
      "image/png": "[encoded data removed]",
      "text/plain": [
       "plot without title"
      ]
     },
     "metadata": {
      "image/png": {
       "height": 420,
       "width": 420
      }
     },
     "output_type": "display_data"
    }
   ],
   "source": [
    "pheatmap(\n",
    "    tmp, \n",
    "    color = colorRampPalette(vec)(100),\n",
    "    show_rownames = FALSE)"
   ]
  },
  {
   "cell_type": "code",
   "execution_count": null,
   "id": "bf995b0b-aa64-4229-b6cb-b79406705583",
   "metadata": {},
   "outputs": [],
   "source": []
  }
 ],
 "metadata": {
  "kernelspec": {
   "display_name": "R",
   "language": "R",
   "name": "ir"
  },
  "language_info": {
   "codemirror_mode": "r",
   "file_extension": ".r",
   "mimetype": "text/x-r-source",
   "name": "R",
   "pygments_lexer": "r",
   "version": "4.4.1"
  }
 },
 "nbformat": 4,
 "nbformat_minor": 5
}
