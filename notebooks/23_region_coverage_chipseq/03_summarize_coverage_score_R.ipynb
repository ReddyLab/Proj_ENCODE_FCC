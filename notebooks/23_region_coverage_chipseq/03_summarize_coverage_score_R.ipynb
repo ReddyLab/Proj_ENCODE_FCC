{
 "cells": [
  {
   "cell_type": "raw",
   "id": "64f15f9f-4847-412c-a5ba-76965891835d",
   "metadata": {},
   "source": [
    "---\n",
    "title: Region annotation 11 (ASTARR MACS peaks)\n",
    "subtitle: Summarize annotations (Main)\n",
    "format:\n",
    "    html:\n",
    "        code-fold:  true\n",
    "        code-tools: true\n",
    "---"
   ]
  },
  {
   "cell_type": "markdown",
   "id": "22fd8134-1ab0-4cf8-910d-bd7502a84243",
   "metadata": {},
   "source": [
    "**Set environment**"
   ]
  },
  {
   "cell_type": "code",
   "execution_count": 1,
   "id": "235189ed-079e-49c4-978e-54ced76512a3",
   "metadata": {
    "tags": []
   },
   "outputs": [
    {
     "name": "stdout",
     "output_type": "stream",
     "text": [
      "You are working on        Singularity: singularity_proj_encode_fcc \n",
      "BASE DIRECTORY (FD_BASE): /data/reddylab/Kuei \n",
      "REPO DIRECTORY (FD_REPO): /data/reddylab/Kuei/repo \n",
      "WORK DIRECTORY (FD_WORK): /data/reddylab/Kuei/work \n",
      "DATA DIRECTORY (FD_DATA): /data/reddylab/Kuei/data \n",
      "\n",
      "You are working with      ENCODE FCC \n",
      "PATH OF PROJECT (FD_PRJ): /data/reddylab/Kuei/repo/Proj_ENCODE_FCC \n",
      "PROJECT RESULTS (FD_RES): /data/reddylab/Kuei/repo/Proj_ENCODE_FCC/results \n",
      "PROJECT SCRIPTS (FD_EXE): /data/reddylab/Kuei/repo/Proj_ENCODE_FCC/scripts \n",
      "PROJECT DATA    (FD_DAT): /data/reddylab/Kuei/repo/Proj_ENCODE_FCC/data \n",
      "PROJECT NOTE    (FD_NBK): /data/reddylab/Kuei/repo/Proj_ENCODE_FCC/notebooks \n",
      "PROJECT DOCS    (FD_DOC): /data/reddylab/Kuei/repo/Proj_ENCODE_FCC/docs \n",
      "PROJECT LOG     (FD_LOG): /data/reddylab/Kuei/repo/Proj_ENCODE_FCC/log \n",
      "PROJECT REF     (FD_REF): /data/reddylab/Kuei/repo/Proj_ENCODE_FCC/references \n",
      "\n"
     ]
    }
   ],
   "source": [
    "suppressMessages(suppressWarnings(source(\"../run_config_project_sing.R\")))\n",
    "show_env()"
   ]
  },
  {
   "cell_type": "code",
   "execution_count": 2,
   "id": "9019a512-7c1b-47c5-bbc6-c90284db9f7e",
   "metadata": {},
   "outputs": [
    {
     "name": "stdout",
     "output_type": "stream",
     "text": [
      "fcc_astarr_macs_input_overlap \n",
      "fcc_astarr_macs_input_union \n"
     ]
    }
   ],
   "source": [
    "### get annotated region folder\n",
    "vec = c(\n",
    "    \"fcc_astarr_macs_input_overlap\",\n",
    "    \"fcc_astarr_macs_input_union\"\n",
    ")\n",
    "names(vec) = vec\n",
    "\n",
    "### assign and show\n",
    "vec_txt_folder = vec\n",
    "for(txt in vec){cat(txt, \"\\n\")}"
   ]
  },
  {
   "cell_type": "code",
   "execution_count": 5,
   "id": "08fad3a5-9ac7-4a22-9152-c3becb401abf",
   "metadata": {},
   "outputs": [
    {
     "name": "stdout",
     "output_type": "stream",
     "text": [
      "/data/reddylab/Kuei/repo/Proj_ENCODE_FCC/results/region_coverage_chipseq/fcc_astarr_macs_input_overlap/summary/region.coverage.encode_chipseq_histone.by_index.mean0.tsv \n",
      "/data/reddylab/Kuei/repo/Proj_ENCODE_FCC/results/region_coverage_chipseq/fcc_astarr_macs_input_union/summary/region.coverage.encode_chipseq_histone.by_index.mean0.tsv \n"
     ]
    }
   ],
   "source": [
    "txt_fdiry = file.path(FD_RES, \"region_coverage_chipseq\", \"*\", \"summary\")\n",
    "txt_fname = \"region.coverage.encode_chipseq_histone.by_index.mean0.tsv\"\n",
    "txt_fglob = file.path(txt_fdiry, txt_fname)\n",
    "\n",
    "vec = Sys.glob(txt_fglob)\n",
    "for(txt in vec){cat(txt, \"\\n\")}"
   ]
  },
  {
   "cell_type": "markdown",
   "id": "0ebf198b-c2cd-475f-a12e-7ae8fd168f9e",
   "metadata": {},
   "source": [
    "## Import data"
   ]
  },
  {
   "cell_type": "code",
   "execution_count": 6,
   "id": "5349649e-8f85-422c-aaa5-b0d07d744449",
   "metadata": {},
   "outputs": [
    {
     "name": "stdout",
     "output_type": "stream",
     "text": [
      "$fcc_astarr_macs_input_overlap\n",
      "[1] 2850798       7\n",
      "\n",
      "$fcc_astarr_macs_input_union\n",
      "[1] 4690188       7\n",
      "\n"
     ]
    },
    {
     "data": {
      "text/html": [
       "<table>\n",
       " <thead>\n",
       "  <tr>\n",
       "   <th style=\"text-align:left;\"> Chrom </th>\n",
       "   <th style=\"text-align:right;\"> ChromStart </th>\n",
       "   <th style=\"text-align:right;\"> ChromEnd </th>\n",
       "   <th style=\"text-align:left;\"> Region </th>\n",
       "   <th style=\"text-align:right;\"> Value </th>\n",
       "   <th style=\"text-align:left;\"> Target </th>\n",
       "   <th style=\"text-align:left;\"> Index_Label </th>\n",
       "  </tr>\n",
       " </thead>\n",
       "<tbody>\n",
       "  <tr>\n",
       "   <td style=\"text-align:left;\"> chr1 </td>\n",
       "   <td style=\"text-align:right;\"> 10038 </td>\n",
       "   <td style=\"text-align:right;\"> 10405 </td>\n",
       "   <td style=\"text-align:left;\"> chr1:10038-10405 </td>\n",
       "   <td style=\"text-align:right;\"> 0.428333 </td>\n",
       "   <td style=\"text-align:left;\"> H2AFZ </td>\n",
       "   <td style=\"text-align:left;\"> H2AFZ_ENCFF621DJP </td>\n",
       "  </tr>\n",
       "  <tr>\n",
       "   <td style=\"text-align:left;\"> chr1 </td>\n",
       "   <td style=\"text-align:right;\"> 14282 </td>\n",
       "   <td style=\"text-align:right;\"> 14614 </td>\n",
       "   <td style=\"text-align:left;\"> chr1:14282-14614 </td>\n",
       "   <td style=\"text-align:right;\"> 0.000000 </td>\n",
       "   <td style=\"text-align:left;\"> H2AFZ </td>\n",
       "   <td style=\"text-align:left;\"> H2AFZ_ENCFF621DJP </td>\n",
       "  </tr>\n",
       "  <tr>\n",
       "   <td style=\"text-align:left;\"> chr1 </td>\n",
       "   <td style=\"text-align:right;\"> 16025 </td>\n",
       "   <td style=\"text-align:right;\"> 16338 </td>\n",
       "   <td style=\"text-align:left;\"> chr1:16025-16338 </td>\n",
       "   <td style=\"text-align:right;\"> 0.000000 </td>\n",
       "   <td style=\"text-align:left;\"> H2AFZ </td>\n",
       "   <td style=\"text-align:left;\"> H2AFZ_ENCFF621DJP </td>\n",
       "  </tr>\n",
       "</tbody>\n",
       "</table>"
      ]
     },
     "metadata": {},
     "output_type": "display_data"
    }
   ],
   "source": [
    "### loop to import data\n",
    "lst = lapply(vec_txt_folder, function(txt_folder){\n",
    "    ### set file directory\n",
    "    txt_fdiry = file.path(FD_RES, \"region_coverage_chipseq\", txt_folder, \"summary\")\n",
    "    txt_fname = \"region.coverage.encode_chipseq_histone.by_index.mean0.tsv\"\n",
    "    txt_fpath = file.path(txt_fdiry, txt_fname)\n",
    "\n",
    "    ### read table\n",
    "    dat = read_tsv(txt_fpath, show_col_types = FALSE)\n",
    "    return(dat)\n",
    "})\n",
    "names(lst) = vec_txt_folder\n",
    "\n",
    "### assign and show\n",
    "lst_dat_region_coverage_by_index = lst\n",
    "\n",
    "res = lapply(lst, dim)\n",
    "print(res)\n",
    "\n",
    "dat = lst[[1]]\n",
    "fun_display_table(head(dat, 3))"
   ]
  },
  {
   "cell_type": "markdown",
   "id": "856b4d47-55c0-45f3-a6f4-213747045218",
   "metadata": {},
   "source": [
    "## Summarized by Target"
   ]
  },
  {
   "cell_type": "code",
   "execution_count": 7,
   "id": "311064c3-4e5d-4db5-9b74-c072376303a4",
   "metadata": {},
   "outputs": [
    {
     "name": "stdout",
     "output_type": "stream",
     "text": [
      "$fcc_astarr_macs_input_overlap\n",
      "[1] 1800504       6\n",
      "\n",
      "$fcc_astarr_macs_input_union\n",
      "[1] 2962224       6\n",
      "\n"
     ]
    },
    {
     "data": {
      "text/html": [
       "<table>\n",
       " <thead>\n",
       "  <tr>\n",
       "   <th style=\"text-align:left;\"> Chrom </th>\n",
       "   <th style=\"text-align:right;\"> ChromStart </th>\n",
       "   <th style=\"text-align:right;\"> ChromEnd </th>\n",
       "   <th style=\"text-align:left;\"> Region </th>\n",
       "   <th style=\"text-align:left;\"> Target </th>\n",
       "   <th style=\"text-align:right;\"> Value </th>\n",
       "  </tr>\n",
       " </thead>\n",
       "<tbody>\n",
       "  <tr>\n",
       "   <td style=\"text-align:left;\"> chr1 </td>\n",
       "   <td style=\"text-align:right;\"> 10038 </td>\n",
       "   <td style=\"text-align:right;\"> 10405 </td>\n",
       "   <td style=\"text-align:left;\"> chr1:10038-10405 </td>\n",
       "   <td style=\"text-align:left;\"> H2AFZ </td>\n",
       "   <td style=\"text-align:right;\"> 0.428333 </td>\n",
       "  </tr>\n",
       "  <tr>\n",
       "   <td style=\"text-align:left;\"> chr1 </td>\n",
       "   <td style=\"text-align:right;\"> 10038 </td>\n",
       "   <td style=\"text-align:right;\"> 10405 </td>\n",
       "   <td style=\"text-align:left;\"> chr1:10038-10405 </td>\n",
       "   <td style=\"text-align:left;\"> H3K27ac </td>\n",
       "   <td style=\"text-align:right;\"> 0.817488 </td>\n",
       "  </tr>\n",
       "  <tr>\n",
       "   <td style=\"text-align:left;\"> chr1 </td>\n",
       "   <td style=\"text-align:right;\"> 10038 </td>\n",
       "   <td style=\"text-align:right;\"> 10405 </td>\n",
       "   <td style=\"text-align:left;\"> chr1:10038-10405 </td>\n",
       "   <td style=\"text-align:left;\"> H3K27me3 </td>\n",
       "   <td style=\"text-align:right;\"> 0.184980 </td>\n",
       "  </tr>\n",
       "</tbody>\n",
       "</table>"
      ]
     },
     "metadata": {},
     "output_type": "display_data"
    }
   ],
   "source": [
    "### loop to import data\n",
    "lst = lst_dat_region_coverage_by_index\n",
    "lst = lapply(lst, function(dat){\n",
    "    dat = dat %>%\n",
    "        dplyr::group_by(Chrom, ChromStart, ChromEnd, Region, Target) %>%\n",
    "        dplyr::summarise(\n",
    "            Value = mean(Value),\n",
    "            .groups = \"drop\"\n",
    "        )\n",
    "    return(dat)\n",
    "})\n",
    "names(lst) = vec_txt_folder\n",
    "\n",
    "### assign and show\n",
    "lst_dat_region_coverage_by_tfs = lst\n",
    "\n",
    "res = lapply(lst, dim)\n",
    "print(res)\n",
    "\n",
    "dat = lst[[1]]\n",
    "fun_display_table(head(dat, 3))"
   ]
  },
  {
   "cell_type": "markdown",
   "id": "3e35838d-cbc3-41f1-b462-003140300b35",
   "metadata": {},
   "source": [
    "## Convert to matrix (column as file)"
   ]
  },
  {
   "cell_type": "code",
   "execution_count": 8,
   "id": "417322ec-edf0-4a34-a0e2-6ceda6cb9504",
   "metadata": {},
   "outputs": [
    {
     "name": "stdout",
     "output_type": "stream",
     "text": [
      "$fcc_astarr_macs_input_overlap\n",
      "[1] 150042     23\n",
      "\n",
      "$fcc_astarr_macs_input_union\n",
      "[1] 246852     23\n",
      "\n"
     ]
    },
    {
     "data": {
      "text/html": [
       "<table>\n",
       " <thead>\n",
       "  <tr>\n",
       "   <th style=\"text-align:left;\"> Chrom </th>\n",
       "   <th style=\"text-align:right;\"> ChromStart </th>\n",
       "   <th style=\"text-align:right;\"> ChromEnd </th>\n",
       "   <th style=\"text-align:left;\"> Region </th>\n",
       "   <th style=\"text-align:right;\"> H2AFZ_ENCFF621DJP </th>\n",
       "   <th style=\"text-align:right;\"> H3K27ac_ENCFF381NDD </th>\n",
       "   <th style=\"text-align:right;\"> H3K27me3_ENCFF139KZL </th>\n",
       "   <th style=\"text-align:right;\"> H3K27me3_ENCFF242ENK </th>\n",
       "   <th style=\"text-align:right;\"> H3K36me3_ENCFF317VHO </th>\n",
       "   <th style=\"text-align:right;\"> H3K36me3_ENCFF347YYH </th>\n",
       "   <th style=\"text-align:right;\"> H3K4me1_ENCFF399SGM </th>\n",
       "   <th style=\"text-align:right;\"> H3K4me1_ENCFF607SUJ </th>\n",
       "   <th style=\"text-align:right;\"> H3K4me2_ENCFF959YJV </th>\n",
       "   <th style=\"text-align:right;\"> H3K4me3_ENCFF253TOF </th>\n",
       "   <th style=\"text-align:right;\"> H3K4me3_ENCFF660WUG </th>\n",
       "   <th style=\"text-align:right;\"> H3K4me3_ENCFF806YEZ </th>\n",
       "   <th style=\"text-align:right;\"> H3K4me3_ENCFF911JVK </th>\n",
       "   <th style=\"text-align:right;\"> H3K79me2_ENCFF544AVW </th>\n",
       "   <th style=\"text-align:right;\"> H3K9ac_ENCFF286WRJ </th>\n",
       "   <th style=\"text-align:right;\"> H3K9ac_ENCFF583BKU </th>\n",
       "   <th style=\"text-align:right;\"> H3K9me1_ENCFF654SLZ </th>\n",
       "   <th style=\"text-align:right;\"> H3K9me3_ENCFF601JGK </th>\n",
       "   <th style=\"text-align:right;\"> H4K20me1_ENCFF605FAF </th>\n",
       "  </tr>\n",
       " </thead>\n",
       "<tbody>\n",
       "  <tr>\n",
       "   <td style=\"text-align:left;\"> chr1 </td>\n",
       "   <td style=\"text-align:right;\"> 10038 </td>\n",
       "   <td style=\"text-align:right;\"> 10405 </td>\n",
       "   <td style=\"text-align:left;\"> chr1:10038-10405 </td>\n",
       "   <td style=\"text-align:right;\"> 0.428333 </td>\n",
       "   <td style=\"text-align:right;\"> 0.817488 </td>\n",
       "   <td style=\"text-align:right;\"> 0.107386 </td>\n",
       "   <td style=\"text-align:right;\"> 0.262574 </td>\n",
       "   <td style=\"text-align:right;\"> 0.0000 </td>\n",
       "   <td style=\"text-align:right;\"> 0.00000 </td>\n",
       "   <td style=\"text-align:right;\"> 0.00000 </td>\n",
       "   <td style=\"text-align:right;\"> 0.553310 </td>\n",
       "   <td style=\"text-align:right;\"> 0.000000 </td>\n",
       "   <td style=\"text-align:right;\"> 0.000000 </td>\n",
       "   <td style=\"text-align:right;\"> 0.401427 </td>\n",
       "   <td style=\"text-align:right;\"> 0.000000 </td>\n",
       "   <td style=\"text-align:right;\"> 0.00000 </td>\n",
       "   <td style=\"text-align:right;\"> 0.331634 </td>\n",
       "   <td style=\"text-align:right;\"> 0.576476 </td>\n",
       "   <td style=\"text-align:right;\"> 0.111871 </td>\n",
       "   <td style=\"text-align:right;\"> 0.000000 </td>\n",
       "   <td style=\"text-align:right;\"> 1.577270 </td>\n",
       "   <td style=\"text-align:right;\"> 0.329131 </td>\n",
       "  </tr>\n",
       "  <tr>\n",
       "   <td style=\"text-align:left;\"> chr1 </td>\n",
       "   <td style=\"text-align:right;\"> 14282 </td>\n",
       "   <td style=\"text-align:right;\"> 14614 </td>\n",
       "   <td style=\"text-align:left;\"> chr1:14282-14614 </td>\n",
       "   <td style=\"text-align:right;\"> 0.000000 </td>\n",
       "   <td style=\"text-align:right;\"> 0.000000 </td>\n",
       "   <td style=\"text-align:right;\"> 0.000000 </td>\n",
       "   <td style=\"text-align:right;\"> 0.000000 </td>\n",
       "   <td style=\"text-align:right;\"> 0.0000 </td>\n",
       "   <td style=\"text-align:right;\"> 0.00000 </td>\n",
       "   <td style=\"text-align:right;\"> 0.00000 </td>\n",
       "   <td style=\"text-align:right;\"> 0.000000 </td>\n",
       "   <td style=\"text-align:right;\"> 0.000000 </td>\n",
       "   <td style=\"text-align:right;\"> 0.000000 </td>\n",
       "   <td style=\"text-align:right;\"> 0.000000 </td>\n",
       "   <td style=\"text-align:right;\"> 0.000000 </td>\n",
       "   <td style=\"text-align:right;\"> 0.00000 </td>\n",
       "   <td style=\"text-align:right;\"> 0.000000 </td>\n",
       "   <td style=\"text-align:right;\"> 0.000000 </td>\n",
       "   <td style=\"text-align:right;\"> 0.000000 </td>\n",
       "   <td style=\"text-align:right;\"> 0.000000 </td>\n",
       "   <td style=\"text-align:right;\"> 0.000000 </td>\n",
       "   <td style=\"text-align:right;\"> 0.000000 </td>\n",
       "  </tr>\n",
       "  <tr>\n",
       "   <td style=\"text-align:left;\"> chr1 </td>\n",
       "   <td style=\"text-align:right;\"> 16025 </td>\n",
       "   <td style=\"text-align:right;\"> 16338 </td>\n",
       "   <td style=\"text-align:left;\"> chr1:16025-16338 </td>\n",
       "   <td style=\"text-align:right;\"> 0.000000 </td>\n",
       "   <td style=\"text-align:right;\"> 0.425308 </td>\n",
       "   <td style=\"text-align:right;\"> 0.330878 </td>\n",
       "   <td style=\"text-align:right;\"> 0.151007 </td>\n",
       "   <td style=\"text-align:right;\"> 3.2605 </td>\n",
       "   <td style=\"text-align:right;\"> 4.49391 </td>\n",
       "   <td style=\"text-align:right;\"> 3.32406 </td>\n",
       "   <td style=\"text-align:right;\"> 0.530134 </td>\n",
       "   <td style=\"text-align:right;\"> 0.759999 </td>\n",
       "   <td style=\"text-align:right;\"> 0.148913 </td>\n",
       "   <td style=\"text-align:right;\"> 0.848994 </td>\n",
       "   <td style=\"text-align:right;\"> 0.381918 </td>\n",
       "   <td style=\"text-align:right;\"> 1.07162 </td>\n",
       "   <td style=\"text-align:right;\"> 0.485412 </td>\n",
       "   <td style=\"text-align:right;\"> 0.371048 </td>\n",
       "   <td style=\"text-align:right;\"> 1.274190 </td>\n",
       "   <td style=\"text-align:right;\"> 0.388273 </td>\n",
       "   <td style=\"text-align:right;\"> 0.561836 </td>\n",
       "   <td style=\"text-align:right;\"> 0.923506 </td>\n",
       "  </tr>\n",
       "</tbody>\n",
       "</table>"
      ]
     },
     "metadata": {},
     "output_type": "display_data"
    }
   ],
   "source": [
    "### loop to import data\n",
    "lst = lst_dat_region_coverage_by_index\n",
    "lst = lapply(lst, function(dat){\n",
    "    ### convert to matrix\n",
    "    dat = dat %>%\n",
    "        dplyr::select(Chrom, ChromStart, ChromEnd, Region, Index_Label, Value) %>%\n",
    "        tidyr::spread(Index_Label, Value)\n",
    "    return(dat)\n",
    "})\n",
    "names(lst) = vec_txt_folder\n",
    "\n",
    "### assign and show\n",
    "lst_mat_region_coverage_by_index = lst\n",
    "\n",
    "res = lapply(lst, dim)\n",
    "print(res)\n",
    "\n",
    "dat = lst[[1]]\n",
    "fun_display_table(head(dat, 3))"
   ]
  },
  {
   "cell_type": "markdown",
   "id": "30354793-75af-4517-897e-4c524fa4d0e3",
   "metadata": {},
   "source": [
    "## Convert to matrix (column as target)"
   ]
  },
  {
   "cell_type": "code",
   "execution_count": 9,
   "id": "eb2adabe-c6fa-4241-95bf-3c303e200471",
   "metadata": {},
   "outputs": [
    {
     "name": "stdout",
     "output_type": "stream",
     "text": [
      "$fcc_astarr_macs_input_overlap\n",
      "[1] 150042     16\n",
      "\n",
      "$fcc_astarr_macs_input_union\n",
      "[1] 246852     16\n",
      "\n"
     ]
    },
    {
     "data": {
      "text/html": [
       "<table>\n",
       " <thead>\n",
       "  <tr>\n",
       "   <th style=\"text-align:left;\"> Chrom </th>\n",
       "   <th style=\"text-align:right;\"> ChromStart </th>\n",
       "   <th style=\"text-align:right;\"> ChromEnd </th>\n",
       "   <th style=\"text-align:left;\"> Region </th>\n",
       "   <th style=\"text-align:right;\"> H2AFZ </th>\n",
       "   <th style=\"text-align:right;\"> H3K27ac </th>\n",
       "   <th style=\"text-align:right;\"> H3K27me3 </th>\n",
       "   <th style=\"text-align:right;\"> H3K36me3 </th>\n",
       "   <th style=\"text-align:right;\"> H3K4me1 </th>\n",
       "   <th style=\"text-align:right;\"> H3K4me2 </th>\n",
       "   <th style=\"text-align:right;\"> H3K4me3 </th>\n",
       "   <th style=\"text-align:right;\"> H3K79me2 </th>\n",
       "   <th style=\"text-align:right;\"> H3K9ac </th>\n",
       "   <th style=\"text-align:right;\"> H3K9me1 </th>\n",
       "   <th style=\"text-align:right;\"> H3K9me3 </th>\n",
       "   <th style=\"text-align:right;\"> H4K20me1 </th>\n",
       "  </tr>\n",
       " </thead>\n",
       "<tbody>\n",
       "  <tr>\n",
       "   <td style=\"text-align:left;\"> chr1 </td>\n",
       "   <td style=\"text-align:right;\"> 10038 </td>\n",
       "   <td style=\"text-align:right;\"> 10405 </td>\n",
       "   <td style=\"text-align:left;\"> chr1:10038-10405 </td>\n",
       "   <td style=\"text-align:right;\"> 0.428333 </td>\n",
       "   <td style=\"text-align:right;\"> 0.817488 </td>\n",
       "   <td style=\"text-align:right;\"> 0.1849800 </td>\n",
       "   <td style=\"text-align:right;\"> 0.000000 </td>\n",
       "   <td style=\"text-align:right;\"> 0.276655 </td>\n",
       "   <td style=\"text-align:right;\"> 0.000000 </td>\n",
       "   <td style=\"text-align:right;\"> 0.1003568 </td>\n",
       "   <td style=\"text-align:right;\"> 0.331634 </td>\n",
       "   <td style=\"text-align:right;\"> 0.3441735 </td>\n",
       "   <td style=\"text-align:right;\"> 0.000000 </td>\n",
       "   <td style=\"text-align:right;\"> 1.577270 </td>\n",
       "   <td style=\"text-align:right;\"> 0.329131 </td>\n",
       "  </tr>\n",
       "  <tr>\n",
       "   <td style=\"text-align:left;\"> chr1 </td>\n",
       "   <td style=\"text-align:right;\"> 14282 </td>\n",
       "   <td style=\"text-align:right;\"> 14614 </td>\n",
       "   <td style=\"text-align:left;\"> chr1:14282-14614 </td>\n",
       "   <td style=\"text-align:right;\"> 0.000000 </td>\n",
       "   <td style=\"text-align:right;\"> 0.000000 </td>\n",
       "   <td style=\"text-align:right;\"> 0.0000000 </td>\n",
       "   <td style=\"text-align:right;\"> 0.000000 </td>\n",
       "   <td style=\"text-align:right;\"> 0.000000 </td>\n",
       "   <td style=\"text-align:right;\"> 0.000000 </td>\n",
       "   <td style=\"text-align:right;\"> 0.0000000 </td>\n",
       "   <td style=\"text-align:right;\"> 0.000000 </td>\n",
       "   <td style=\"text-align:right;\"> 0.0000000 </td>\n",
       "   <td style=\"text-align:right;\"> 0.000000 </td>\n",
       "   <td style=\"text-align:right;\"> 0.000000 </td>\n",
       "   <td style=\"text-align:right;\"> 0.000000 </td>\n",
       "  </tr>\n",
       "  <tr>\n",
       "   <td style=\"text-align:left;\"> chr1 </td>\n",
       "   <td style=\"text-align:right;\"> 16025 </td>\n",
       "   <td style=\"text-align:right;\"> 16338 </td>\n",
       "   <td style=\"text-align:left;\"> chr1:16025-16338 </td>\n",
       "   <td style=\"text-align:right;\"> 0.000000 </td>\n",
       "   <td style=\"text-align:right;\"> 0.425308 </td>\n",
       "   <td style=\"text-align:right;\"> 0.2409425 </td>\n",
       "   <td style=\"text-align:right;\"> 3.877205 </td>\n",
       "   <td style=\"text-align:right;\"> 1.927097 </td>\n",
       "   <td style=\"text-align:right;\"> 0.759999 </td>\n",
       "   <td style=\"text-align:right;\"> 0.6128612 </td>\n",
       "   <td style=\"text-align:right;\"> 0.485412 </td>\n",
       "   <td style=\"text-align:right;\"> 0.8226190 </td>\n",
       "   <td style=\"text-align:right;\"> 0.388273 </td>\n",
       "   <td style=\"text-align:right;\"> 0.561836 </td>\n",
       "   <td style=\"text-align:right;\"> 0.923506 </td>\n",
       "  </tr>\n",
       "</tbody>\n",
       "</table>"
      ]
     },
     "metadata": {},
     "output_type": "display_data"
    }
   ],
   "source": [
    "### loop to import data\n",
    "lst = lst_dat_region_coverage_by_tfs\n",
    "lst = lapply(lst, function(dat){\n",
    "    ### convert to matrix\n",
    "    dat = dat %>%\n",
    "        dplyr::select(Chrom, ChromStart, ChromEnd, Region, Target, Value) %>%\n",
    "        tidyr::spread(Target, Value) \n",
    "    return(dat)\n",
    "})\n",
    "names(lst) = vec_txt_folder\n",
    "\n",
    "### assign and show\n",
    "lst_mat_region_coverage_by_tfs = lst\n",
    "\n",
    "res = lapply(lst, dim)\n",
    "print(res)\n",
    "\n",
    "dat = lst[[1]]\n",
    "fun_display_table(head(dat, 3))"
   ]
  },
  {
   "cell_type": "markdown",
   "id": "f24326b2-d9e9-45a2-b66b-31dfd624f0d2",
   "metadata": {},
   "source": [
    "## Save results"
   ]
  },
  {
   "cell_type": "code",
   "execution_count": 10,
   "id": "552bbcf2-c84a-49e7-8792-8abd630c76cf",
   "metadata": {},
   "outputs": [],
   "source": [
    "for (txt_folder in vec_txt_folder){\n",
    "    ### acquire data\n",
    "    dat_region_coverage_by_tfs   = lst_dat_region_coverage_by_tfs[[txt_folder]]\n",
    "    mat_region_coverage_by_index = lst_mat_region_coverage_by_index[[txt_folder]]\n",
    "    mat_region_coverage_by_tfs   = lst_mat_region_coverage_by_tfs[[txt_folder]]\n",
    "    \n",
    "    ### set file directory\n",
    "    txt_fdiry = file.path(FD_RES, \"region_coverage_chipseq\", txt_folder, \"summary\")\n",
    "    \n",
    "    ### save \n",
    "    txt_fname = \"region.coverage.encode_chipseq_histone.by_target.mean0.tsv\"\n",
    "    txt_fpath = file.path(txt_fdiry, txt_fname)\n",
    "    dat = dat_region_coverage_by_tfs\n",
    "    write_tsv(dat, txt_fpath)\n",
    "    \n",
    "    ###\n",
    "    txt_fname = \"matrix.coverage.encode_chipseq_histone.by_index.mean0.tsv\"\n",
    "    txt_fpath = file.path(txt_fdiry, txt_fname)\n",
    "    dat = mat_region_coverage_by_index\n",
    "    write_tsv(dat, txt_fpath)\n",
    "    \n",
    "    ###\n",
    "    txt_fname = \"matrix.coverage.encode_chipseq_histone.by_target.mean0.tsv\"\n",
    "    txt_fpath = file.path(txt_fdiry, txt_fname)\n",
    "    dat = mat_region_coverage_by_tfs\n",
    "    write_tsv(dat, txt_fpath)\n",
    "}"
   ]
  },
  {
   "cell_type": "code",
   "execution_count": null,
   "id": "6810b384-e097-4219-9165-600c936fc38e",
   "metadata": {},
   "outputs": [],
   "source": []
  },
  {
   "cell_type": "code",
   "execution_count": null,
   "id": "2890150f-3d24-489c-9911-e660a5be721c",
   "metadata": {},
   "outputs": [],
   "source": []
  },
  {
   "cell_type": "code",
   "execution_count": null,
   "id": "55ba5610-c7a0-4e3c-99a5-396f50d8189d",
   "metadata": {},
   "outputs": [],
   "source": []
  }
 ],
 "metadata": {
  "kernelspec": {
   "display_name": "R",
   "language": "R",
   "name": "ir"
  },
  "language_info": {
   "codemirror_mode": "r",
   "file_extension": ".r",
   "mimetype": "text/x-r-source",
   "name": "R",
   "pygments_lexer": "r",
   "version": "4.4.2"
  }
 },
 "nbformat": 4,
 "nbformat_minor": 5
}
