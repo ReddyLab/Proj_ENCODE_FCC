{
 "cells": [
  {
   "cell_type": "raw",
   "id": "28381c95-4044-468b-9785-ef4950d821f7",
   "metadata": {},
   "source": [
    "---\n",
    "title: Prepare CRISPRi Growth data 01\n",
    "subtitle: Prepare data\n",
    "format:\n",
    "    html:\n",
    "        code-fold:  true\n",
    "        code-tools: true\n",
    "---"
   ]
  },
  {
   "cell_type": "markdown",
   "id": "056a566b-0674-4036-a327-cf638af9c5c3",
   "metadata": {},
   "source": [
    "**Set environment**"
   ]
  },
  {
   "cell_type": "code",
   "execution_count": 20,
   "id": "12ae7cf6-d288-4cc5-bfa9-330eba4cd00d",
   "metadata": {
    "tags": []
   },
   "outputs": [
    {
     "name": "stdout",
     "output_type": "stream",
     "text": [
      "You are working on        Singularity \n",
      "BASE DIRECTORY (FD_BASE): /mount \n",
      "REPO DIRECTORY (FD_REPO): /mount/repo \n",
      "WORK DIRECTORY (FD_WORK): /mount/work \n",
      "DATA DIRECTORY (FD_DATA): /mount/data \n",
      "\n",
      "You are working with      ENCODE FCC \n",
      "PATH OF PROJECT (FD_PRJ): /mount/repo/Proj_ENCODE_FCC \n",
      "PROJECT RESULTS (FD_RES): /mount/repo/Proj_ENCODE_FCC/results \n",
      "PROJECT SCRIPTS (FD_EXE): /mount/repo/Proj_ENCODE_FCC/scripts \n",
      "PROJECT DATA    (FD_DAT): /mount/repo/Proj_ENCODE_FCC/data \n",
      "PROJECT NOTE    (FD_NBK): /mount/repo/Proj_ENCODE_FCC/notebooks \n",
      "PROJECT DOCS    (FD_DOC): /mount/repo/Proj_ENCODE_FCC/docs \n",
      "PROJECT LOG     (FD_LOG): /mount/repo/Proj_ENCODE_FCC/log \n",
      "PROJECT APP     (FD_APP): /mount/repo/Proj_ENCODE_FCC/app \n",
      "PROJECT REF     (FD_REF): /mount/repo/Proj_ENCODE_FCC/references \n",
      "\n"
     ]
    }
   ],
   "source": [
    "suppressMessages(suppressWarnings(source(\"../run_config_project_sing.R\")))\n",
    "show_env()"
   ]
  },
  {
   "cell_type": "markdown",
   "id": "e9921680-657c-4d58-97b7-bf3fc0aa7b3a",
   "metadata": {},
   "source": [
    "**Set global variable**"
   ]
  },
  {
   "cell_type": "code",
   "execution_count": 2,
   "id": "a03add1a-b6ad-45e1-9f9b-1a267b7c41d4",
   "metadata": {},
   "outputs": [],
   "source": [
    "TXT_FOLDER_REGION = \"fcc_table\""
   ]
  },
  {
   "cell_type": "markdown",
   "id": "95349dab-c944-414b-806f-8ad2390e6645",
   "metadata": {},
   "source": [
    "## Import data"
   ]
  },
  {
   "cell_type": "code",
   "execution_count": 3,
   "id": "291c3de0-8289-45b9-a66f-336d21586a10",
   "metadata": {},
   "outputs": [
    {
     "name": "stdout",
     "output_type": "stream",
     "text": [
      "fcc_table.concat.starr.mpra.crispri.e2g.atac.tss.bed.gz \n",
      "fcc_table.final.starr.mpra.crispri.e2g.atac.tss.bed.gz \n",
      "fcc_table.final.starr.mpra.crispri.e2g.atac.tss.tsv \n",
      "fcc_table.merge.starr.mpra.crispri.e2g.atac.tss.bed.gz \n",
      "fcc_table.result.starr.mpra.crispri.e2g.atac.tss.bed.gz \n",
      "fcc_table.share.starr.mpra.crispri.e2g.atac.tss.tsv \n",
      "K562.hg38.atac.bed.gz \n",
      "K562.hg38.encode_e2g_benchmark.bed.gz \n",
      "K562.hg38.fcc_astarr_csaw.bed.gz \n",
      "K562.hg38.fcc_crispri_growth.bed.gz \n",
      "K562.hg38.fcc_crispri_hcrff.bed.gz \n",
      "K562.hg38.fcc_starrmpra_junke.bed.gz \n",
      "K562.hg38.tss.bed.gz \n",
      "summary \n"
     ]
    }
   ],
   "source": [
    "### set directory\n",
    "txt_folder = TXT_FOLDER_REGION\n",
    "txt_fdiry  = file.path(FD_RES, \"region\", txt_folder)\n",
    "\n",
    "vec = dir(txt_fdiry)\n",
    "for (txt in vec){cat(txt, \"\\n\")}"
   ]
  },
  {
   "cell_type": "code",
   "execution_count": 4,
   "id": "5a7a8a23-3045-4507-b809-b993bae0aad9",
   "metadata": {},
   "outputs": [
    {
     "name": "stdout",
     "output_type": "stream",
     "text": [
      "[1] 895792     15\n"
     ]
    },
    {
     "data": {
      "text/html": [
       "<table>\n",
       " <thead>\n",
       "  <tr>\n",
       "   <th style=\"text-align:left;\"> Chrom </th>\n",
       "   <th style=\"text-align:right;\"> ChromStart </th>\n",
       "   <th style=\"text-align:right;\"> ChromEnd </th>\n",
       "   <th style=\"text-align:left;\"> Merge_Region </th>\n",
       "   <th style=\"text-align:left;\"> Merge_Group </th>\n",
       "   <th style=\"text-align:left;\"> Merge_Label </th>\n",
       "   <th style=\"text-align:left;\"> Assay </th>\n",
       "   <th style=\"text-align:left;\"> Group </th>\n",
       "   <th style=\"text-align:left;\"> Label </th>\n",
       "   <th style=\"text-align:left;\"> Region </th>\n",
       "   <th style=\"text-align:left;\"> Target </th>\n",
       "   <th style=\"text-align:right;\"> Score </th>\n",
       "   <th style=\"text-align:right;\"> NLog10P </th>\n",
       "   <th style=\"text-align:left;\"> Method </th>\n",
       "   <th style=\"text-align:left;\"> Source </th>\n",
       "  </tr>\n",
       " </thead>\n",
       "<tbody>\n",
       "  <tr>\n",
       "   <td style=\"text-align:left;\"> chr1 </td>\n",
       "   <td style=\"text-align:right;\"> 9976 </td>\n",
       "   <td style=\"text-align:right;\"> 10475 </td>\n",
       "   <td style=\"text-align:left;\"> chr1:9976-10475 </td>\n",
       "   <td style=\"text-align:left;\"> ASTARR,ATAC </td>\n",
       "   <td style=\"text-align:left;\"> ASTARR_R:csaw:KS91,ASTARR_R:junke,ATAC </td>\n",
       "   <td style=\"text-align:left;\"> ATAC-STARR </td>\n",
       "   <td style=\"text-align:left;\"> ASTARR </td>\n",
       "   <td style=\"text-align:left;\"> ASTARR_R:csaw:KS91 </td>\n",
       "   <td style=\"text-align:left;\"> chr1:9976-10475 </td>\n",
       "   <td style=\"text-align:left;\"> NA </td>\n",
       "   <td style=\"text-align:right;\"> -4.184000 </td>\n",
       "   <td style=\"text-align:right;\"> 7.358 </td>\n",
       "   <td style=\"text-align:left;\"> CSAW </td>\n",
       "   <td style=\"text-align:left;\"> Reddy Lab </td>\n",
       "  </tr>\n",
       "  <tr>\n",
       "   <td style=\"text-align:left;\"> chr1 </td>\n",
       "   <td style=\"text-align:right;\"> 9976 </td>\n",
       "   <td style=\"text-align:right;\"> 10475 </td>\n",
       "   <td style=\"text-align:left;\"> chr1:9976-10475 </td>\n",
       "   <td style=\"text-align:left;\"> ASTARR,ATAC </td>\n",
       "   <td style=\"text-align:left;\"> ASTARR_R:csaw:KS91,ASTARR_R:junke,ATAC </td>\n",
       "   <td style=\"text-align:left;\"> ATAC-STARR </td>\n",
       "   <td style=\"text-align:left;\"> ASTARR </td>\n",
       "   <td style=\"text-align:left;\"> ASTARR_R:junke </td>\n",
       "   <td style=\"text-align:left;\"> chr1:10010-10430 </td>\n",
       "   <td style=\"text-align:left;\"> NA </td>\n",
       "   <td style=\"text-align:right;\"> -2.520916 </td>\n",
       "   <td style=\"text-align:right;\"> NA </td>\n",
       "   <td style=\"text-align:left;\"> Junke </td>\n",
       "   <td style=\"text-align:left;\"> Reddy Lab </td>\n",
       "  </tr>\n",
       "  <tr>\n",
       "   <td style=\"text-align:left;\"> chr1 </td>\n",
       "   <td style=\"text-align:right;\"> 9976 </td>\n",
       "   <td style=\"text-align:right;\"> 10475 </td>\n",
       "   <td style=\"text-align:left;\"> chr1:9976-10475 </td>\n",
       "   <td style=\"text-align:left;\"> ASTARR,ATAC </td>\n",
       "   <td style=\"text-align:left;\"> ASTARR_R:csaw:KS91,ASTARR_R:junke,ATAC </td>\n",
       "   <td style=\"text-align:left;\"> ATAC </td>\n",
       "   <td style=\"text-align:left;\"> ATAC </td>\n",
       "   <td style=\"text-align:left;\"> ATAC </td>\n",
       "   <td style=\"text-align:left;\"> chr1:10038-10405 </td>\n",
       "   <td style=\"text-align:left;\"> NA </td>\n",
       "   <td style=\"text-align:right;\"> 3.940038 </td>\n",
       "   <td style=\"text-align:right;\"> NA </td>\n",
       "   <td style=\"text-align:left;\"> MACS </td>\n",
       "   <td style=\"text-align:left;\"> Reddy Lab </td>\n",
       "  </tr>\n",
       "</tbody>\n",
       "</table>"
      ]
     },
     "metadata": {},
     "output_type": "display_data"
    }
   ],
   "source": [
    "### set file path\n",
    "txt_folder = TXT_FOLDER_REGION\n",
    "txt_fdiry  = file.path(FD_RES, \"region\", txt_folder)\n",
    "txt_fname  = \"fcc_table.final.starr.mpra.crispri.e2g.atac.tss.tsv\"\n",
    "txt_fpath  = file.path(txt_fdiry, txt_fname)\n",
    "\n",
    "### read table\n",
    "dat = read_tsv(txt_fpath, show_col_types = FALSE)\n",
    "\n",
    "### assign and show\n",
    "dat_region_fcc_union = dat\n",
    "print(dim(dat))\n",
    "fun_display_table(head(dat, 3))"
   ]
  },
  {
   "cell_type": "code",
   "execution_count": null,
   "id": "de65156a-57b2-47a1-8c64-d560aeac4969",
   "metadata": {},
   "outputs": [],
   "source": []
  },
  {
   "cell_type": "code",
   "execution_count": null,
   "id": "f4309948-379e-4345-9d5b-2f9ac9c94346",
   "metadata": {},
   "outputs": [],
   "source": []
  }
 ],
 "metadata": {
  "kernelspec": {
   "display_name": "R",
   "language": "R",
   "name": "ir"
  },
  "language_info": {
   "codemirror_mode": "r",
   "file_extension": ".r",
   "mimetype": "text/x-r-source",
   "name": "R",
   "pygments_lexer": "r",
   "version": "4.4.1"
  }
 },
 "nbformat": 4,
 "nbformat_minor": 5
}
