{
 "cells": [
  {
   "cell_type": "raw",
   "id": "25637082-c040-4313-af39-bb7422a624b7",
   "metadata": {},
   "source": [
    "---\n",
    "title: Prepare CRISPRi Growth data 01\n",
    "subtitle: Prepare data\n",
    "format:\n",
    "    html:\n",
    "        code-fold:  true\n",
    "        code-tools: true\n",
    "---"
   ]
  },
  {
   "cell_type": "markdown",
   "id": "5e23ff55-bb3b-4ae6-b102-c8926c18bb57",
   "metadata": {},
   "source": [
    "**Set environment**"
   ]
  },
  {
   "cell_type": "code",
   "execution_count": 1,
   "id": "a8b29fcc-0549-42ac-ac04-c3cdfcd18d5a",
   "metadata": {
    "tags": []
   },
   "outputs": [
    {
     "name": "stdout",
     "output_type": "stream",
     "text": [
      "You are working on        Singularity \n",
      "BASE DIRECTORY (FD_BASE): /mount \n",
      "REPO DIRECTORY (FD_REPO): /mount/repo \n",
      "WORK DIRECTORY (FD_WORK): /mount/work \n",
      "DATA DIRECTORY (FD_DATA): /mount/data \n",
      "\n",
      "You are working with      ENCODE FCC \n",
      "PATH OF PROJECT (FD_PRJ): /mount/repo/Proj_ENCODE_FCC \n",
      "PROJECT RESULTS (FD_RES): /mount/repo/Proj_ENCODE_FCC/results \n",
      "PROJECT SCRIPTS (FD_EXE): /mount/repo/Proj_ENCODE_FCC/scripts \n",
      "PROJECT DATA    (FD_DAT): /mount/repo/Proj_ENCODE_FCC/data \n",
      "PROJECT NOTE    (FD_NBK): /mount/repo/Proj_ENCODE_FCC/notebooks \n",
      "PROJECT DOCS    (FD_DOC): /mount/repo/Proj_ENCODE_FCC/docs \n",
      "PROJECT LOG     (FD_LOG): /mount/repo/Proj_ENCODE_FCC/log \n",
      "PROJECT APP     (FD_APP): /mount/repo/Proj_ENCODE_FCC/app \n",
      "PROJECT REF     (FD_REF): /mount/repo/Proj_ENCODE_FCC/references \n",
      "\n"
     ]
    }
   ],
   "source": [
    "suppressMessages(suppressWarnings(source(\"../run_config_project_sing.R\")))\n",
    "show_env()"
   ]
  },
  {
   "cell_type": "markdown",
   "id": "7dbb3e60-7829-4fdd-bda1-8d58cc0ef2ec",
   "metadata": {},
   "source": [
    "**Set global variable**"
   ]
  },
  {
   "cell_type": "code",
   "execution_count": 2,
   "id": "b9385dc6-1a5d-404e-b69c-e95f39eddd77",
   "metadata": {},
   "outputs": [],
   "source": [
    "TXT_FOLDER_INP = \"fcc_starrmpra_junke\"\n",
    "TXT_FOLDER_OUT = \"fcc_table\""
   ]
  },
  {
   "cell_type": "markdown",
   "id": "6c17c3e6-1be4-4f84-a163-4c2762c54348",
   "metadata": {},
   "source": [
    "## Import data"
   ]
  },
  {
   "cell_type": "code",
   "execution_count": 3,
   "id": "5648e40e-d889-40ed-a005-4bcbe5b8ce3e",
   "metadata": {},
   "outputs": [
    {
     "data": {
      "text/html": [
       "<style>\n",
       ".list-inline {list-style: none; margin:0; padding: 0}\n",
       ".list-inline>li {display: inline-block}\n",
       ".list-inline>li:not(:last-child)::after {content: \"\\00b7\"; padding: 0 .5ex}\n",
       "</style>\n",
       "<ol class=list-inline><li>'K562.hg38.ASTARR.junke.bed.gz'</li><li>'K562.hg38.eSTARR.junke.bed.gz'</li><li>'K562.hg38.LMPRA.junke.bed.gz'</li><li>'K562.hg38.TMPRA.junke.bed.gz'</li><li>'K562.hg38.WSTARR.junke.bed.gz'</li><li>'summary'</li></ol>\n"
      ],
      "text/latex": [
       "\\begin{enumerate*}\n",
       "\\item 'K562.hg38.ASTARR.junke.bed.gz'\n",
       "\\item 'K562.hg38.eSTARR.junke.bed.gz'\n",
       "\\item 'K562.hg38.LMPRA.junke.bed.gz'\n",
       "\\item 'K562.hg38.TMPRA.junke.bed.gz'\n",
       "\\item 'K562.hg38.WSTARR.junke.bed.gz'\n",
       "\\item 'summary'\n",
       "\\end{enumerate*}\n"
      ],
      "text/markdown": [
       "1. 'K562.hg38.ASTARR.junke.bed.gz'\n",
       "2. 'K562.hg38.eSTARR.junke.bed.gz'\n",
       "3. 'K562.hg38.LMPRA.junke.bed.gz'\n",
       "4. 'K562.hg38.TMPRA.junke.bed.gz'\n",
       "5. 'K562.hg38.WSTARR.junke.bed.gz'\n",
       "6. 'summary'\n",
       "\n",
       "\n"
      ],
      "text/plain": [
       "[1] \"K562.hg38.ASTARR.junke.bed.gz\" \"K562.hg38.eSTARR.junke.bed.gz\"\n",
       "[3] \"K562.hg38.LMPRA.junke.bed.gz\"  \"K562.hg38.TMPRA.junke.bed.gz\" \n",
       "[5] \"K562.hg38.WSTARR.junke.bed.gz\" \"summary\"                      "
      ]
     },
     "metadata": {},
     "output_type": "display_data"
    }
   ],
   "source": [
    "### set directory\n",
    "txt_folder = TXT_FOLDER_INP\n",
    "txt_fdiry  = file.path(FD_RES, \"region\", txt_folder)\n",
    "dir(txt_fdiry)"
   ]
  },
  {
   "cell_type": "code",
   "execution_count": 4,
   "id": "446486ee-3096-453a-8380-80909b086dae",
   "metadata": {},
   "outputs": [
    {
     "data": {
      "text/html": [
       "<table>\n",
       " <thead>\n",
       "  <tr>\n",
       "   <th style=\"text-align:left;\"> Name </th>\n",
       "   <th style=\"text-align:left;\"> Note </th>\n",
       "  </tr>\n",
       " </thead>\n",
       "<tbody>\n",
       "  <tr>\n",
       "   <td style=\"text-align:left;\"> Chrom </td>\n",
       "   <td style=\"text-align:left;\"> Name of the chromosome </td>\n",
       "  </tr>\n",
       "  <tr>\n",
       "   <td style=\"text-align:left;\"> ChromStart </td>\n",
       "   <td style=\"text-align:left;\"> The starting position of the feature in the chromosome </td>\n",
       "  </tr>\n",
       "  <tr>\n",
       "   <td style=\"text-align:left;\"> ChromEnd </td>\n",
       "   <td style=\"text-align:left;\"> The ending position of the feature in the chromosome </td>\n",
       "  </tr>\n",
       "  <tr>\n",
       "   <td style=\"text-align:left;\"> Name </td>\n",
       "   <td style=\"text-align:left;\"> Name </td>\n",
       "  </tr>\n",
       "  <tr>\n",
       "   <td style=\"text-align:left;\"> Score </td>\n",
       "   <td style=\"text-align:left;\"> Z score based on mean(logFC of all the bins) </td>\n",
       "  </tr>\n",
       "  <tr>\n",
       "   <td style=\"text-align:left;\"> Strand </td>\n",
       "   <td style=\"text-align:left;\"> Strand </td>\n",
       "  </tr>\n",
       "  <tr>\n",
       "   <td style=\"text-align:left;\"> Group </td>\n",
       "   <td style=\"text-align:left;\"> Assay name </td>\n",
       "  </tr>\n",
       "  <tr>\n",
       "   <td style=\"text-align:left;\"> Label </td>\n",
       "   <td style=\"text-align:left;\"> Assay name + direction </td>\n",
       "  </tr>\n",
       "  <tr>\n",
       "   <td style=\"text-align:left;\"> Dataset </td>\n",
       "   <td style=\"text-align:left;\"> Assay dataset </td>\n",
       "  </tr>\n",
       "</tbody>\n",
       "</table>"
      ]
     },
     "metadata": {},
     "output_type": "display_data"
    }
   ],
   "source": [
    "### set file path\n",
    "txt_folder = TXT_FOLDER_INP\n",
    "txt_fdiry  = file.path(FD_RES, \"region\", txt_folder, \"summary\")\n",
    "txt_fname  = \"description.tsv\"\n",
    "txt_fpath  = file.path(txt_fdiry, txt_fname)\n",
    "\n",
    "### read table\n",
    "dat = read_tsv(txt_fpath, show_col_types = FALSE)\n",
    "\n",
    "### assign and show\n",
    "dat_cnames = dat\n",
    "fun_display_table(dat)"
   ]
  },
  {
   "cell_type": "code",
   "execution_count": 5,
   "id": "1a6000ea-1444-4e38-b2b3-3f6c4eae0d68",
   "metadata": {},
   "outputs": [
    {
     "name": "stdout",
     "output_type": "stream",
     "text": [
      "[1] 446934      9\n"
     ]
    },
    {
     "data": {
      "text/html": [
       "<table>\n",
       " <thead>\n",
       "  <tr>\n",
       "   <th style=\"text-align:left;\"> Chrom </th>\n",
       "   <th style=\"text-align:right;\"> ChromStart </th>\n",
       "   <th style=\"text-align:right;\"> ChromEnd </th>\n",
       "   <th style=\"text-align:left;\"> Name </th>\n",
       "   <th style=\"text-align:right;\"> Score </th>\n",
       "   <th style=\"text-align:left;\"> Strand </th>\n",
       "   <th style=\"text-align:left;\"> Group </th>\n",
       "   <th style=\"text-align:left;\"> Label </th>\n",
       "   <th style=\"text-align:left;\"> Dataset </th>\n",
       "  </tr>\n",
       " </thead>\n",
       "<tbody>\n",
       "  <tr>\n",
       "   <td style=\"text-align:left;\"> chr1 </td>\n",
       "   <td style=\"text-align:right;\"> 10010 </td>\n",
       "   <td style=\"text-align:right;\"> 10430 </td>\n",
       "   <td style=\"text-align:left;\"> peak1 </td>\n",
       "   <td style=\"text-align:right;\"> -2.520916 </td>\n",
       "   <td style=\"text-align:left;\"> . </td>\n",
       "   <td style=\"text-align:left;\"> ASTARR </td>\n",
       "   <td style=\"text-align:left;\"> ASTARR_R </td>\n",
       "   <td style=\"text-align:left;\"> ASTARR_TR </td>\n",
       "  </tr>\n",
       "  <tr>\n",
       "   <td style=\"text-align:left;\"> chr1 </td>\n",
       "   <td style=\"text-align:right;\"> 16220 </td>\n",
       "   <td style=\"text-align:right;\"> 16340 </td>\n",
       "   <td style=\"text-align:left;\"> peak2 </td>\n",
       "   <td style=\"text-align:right;\"> -2.338765 </td>\n",
       "   <td style=\"text-align:left;\"> . </td>\n",
       "   <td style=\"text-align:left;\"> ASTARR </td>\n",
       "   <td style=\"text-align:left;\"> ASTARR_R </td>\n",
       "   <td style=\"text-align:left;\"> ASTARR_TR </td>\n",
       "  </tr>\n",
       "  <tr>\n",
       "   <td style=\"text-align:left;\"> chr1 </td>\n",
       "   <td style=\"text-align:right;\"> 17230 </td>\n",
       "   <td style=\"text-align:right;\"> 17440 </td>\n",
       "   <td style=\"text-align:left;\"> peak3 </td>\n",
       "   <td style=\"text-align:right;\"> -2.342680 </td>\n",
       "   <td style=\"text-align:left;\"> . </td>\n",
       "   <td style=\"text-align:left;\"> ASTARR </td>\n",
       "   <td style=\"text-align:left;\"> ASTARR_R </td>\n",
       "   <td style=\"text-align:left;\"> ASTARR_TR </td>\n",
       "  </tr>\n",
       "</tbody>\n",
       "</table>"
      ]
     },
     "metadata": {},
     "output_type": "display_data"
    }
   ],
   "source": [
    "### set file path\n",
    "txt_folder = TXT_FOLDER_INP\n",
    "txt_fdiry  = file.path(FD_RES, \"region\", txt_folder)\n",
    "\n",
    "vec_txt_fname = c(\n",
    "    'K562.hg38.ASTARR.junke.bed.gz',\n",
    "    'K562.hg38.WSTARR.junke.bed.gz',\n",
    "    'K562.hg38.LMPRA.junke.bed.gz',\n",
    "    'K562.hg38.TMPRA.junke.bed.gz'\n",
    ")\n",
    "vec_txt_fpath  = file.path(txt_fdiry, vec_txt_fname)\n",
    "\n",
    "### read table\n",
    "vec = dat_cnames$Name\n",
    "lst = lapply(vec_txt_fpath, function(txt_fpath){\n",
    "    dat = read_tsv(txt_fpath, col_names = vec, show_col_types = FALSE)\n",
    "    return(dat)\n",
    "})\n",
    "dat = bind_rows(lst)\n",
    "\n",
    "### assign and show\n",
    "dat_region_import = dat\n",
    "print(dim(dat))\n",
    "fun_display_table(head(dat, 3))"
   ]
  },
  {
   "cell_type": "code",
   "execution_count": 6,
   "id": "13b2965a-bf3b-4c52-b5d0-21aa4bbd196c",
   "metadata": {},
   "outputs": [
    {
     "data": {
      "text/plain": [
       "\n",
       "ASTARR  LMPRA  TMPRA WSTARR \n",
       "230297  42864   6329 167444 "
      ]
     },
     "metadata": {},
     "output_type": "display_data"
    },
    {
     "data": {
      "text/plain": [
       "\n",
       " ASTARR_A ASTARR_AB  ASTARR_R ASTARR_RB   LMPRA_A  LMPRA_AB   LMPRA_R  LMPRA_RB \n",
       "    35505     11680    154337     28775     25648     16603       485       128 \n",
       "  TMPRA_A  TMPRA_AB   TMPRA_R  TMPRA_RB  WSTARR_A WSTARR_AB  WSTARR_R \n",
       "     6017        57       254         1     79738     25505     62201 "
      ]
     },
     "metadata": {},
     "output_type": "display_data"
    },
    {
     "data": {
      "text/plain": [
       "\n",
       "  ASTARR_TR LMPRA_Nadav  TMPRA_OL13  TMPRA_OL43  TMPRA_OL45   WSTARR_TR \n",
       "     230297       42864         281        2214        3834      167444 "
      ]
     },
     "metadata": {},
     "output_type": "display_data"
    }
   ],
   "source": [
    "dat = dat_region_import\n",
    "table(dat$Group)\n",
    "table(dat$Label)\n",
    "table(dat$Dataset)"
   ]
  },
  {
   "cell_type": "markdown",
   "id": "20de4f7e-63ba-461b-9710-79639bb209fa",
   "metadata": {},
   "source": [
    "# Filter table"
   ]
  },
  {
   "cell_type": "code",
   "execution_count": 7,
   "id": "9d0dc865-0d46-4f71-9df9-a4e05bc89989",
   "metadata": {},
   "outputs": [
    {
     "name": "stdout",
     "output_type": "stream",
     "text": [
      "[1] \"ASTARR_AB\" \"WSTARR_AB\" \"TMPRA_AB\"  \"LMPRA_AB\"  \"ASTARR_RB\" \"WSTARR_RB\"\n",
      "[7] \"TMPRA_RB\"  \"LMPRA_RB\" \n",
      "[1] 364185      9\n"
     ]
    },
    {
     "data": {
      "text/html": [
       "<table>\n",
       " <thead>\n",
       "  <tr>\n",
       "   <th style=\"text-align:left;\"> Chrom </th>\n",
       "   <th style=\"text-align:right;\"> ChromStart </th>\n",
       "   <th style=\"text-align:right;\"> ChromEnd </th>\n",
       "   <th style=\"text-align:left;\"> Name </th>\n",
       "   <th style=\"text-align:right;\"> Score </th>\n",
       "   <th style=\"text-align:left;\"> Strand </th>\n",
       "   <th style=\"text-align:left;\"> Group </th>\n",
       "   <th style=\"text-align:left;\"> Label </th>\n",
       "   <th style=\"text-align:left;\"> Dataset </th>\n",
       "  </tr>\n",
       " </thead>\n",
       "<tbody>\n",
       "  <tr>\n",
       "   <td style=\"text-align:left;\"> chr1 </td>\n",
       "   <td style=\"text-align:right;\"> 10010 </td>\n",
       "   <td style=\"text-align:right;\"> 10430 </td>\n",
       "   <td style=\"text-align:left;\"> peak1 </td>\n",
       "   <td style=\"text-align:right;\"> -2.520916 </td>\n",
       "   <td style=\"text-align:left;\"> . </td>\n",
       "   <td style=\"text-align:left;\"> ASTARR </td>\n",
       "   <td style=\"text-align:left;\"> ASTARR_R </td>\n",
       "   <td style=\"text-align:left;\"> ASTARR_TR </td>\n",
       "  </tr>\n",
       "  <tr>\n",
       "   <td style=\"text-align:left;\"> chr1 </td>\n",
       "   <td style=\"text-align:right;\"> 16220 </td>\n",
       "   <td style=\"text-align:right;\"> 16340 </td>\n",
       "   <td style=\"text-align:left;\"> peak2 </td>\n",
       "   <td style=\"text-align:right;\"> -2.338765 </td>\n",
       "   <td style=\"text-align:left;\"> . </td>\n",
       "   <td style=\"text-align:left;\"> ASTARR </td>\n",
       "   <td style=\"text-align:left;\"> ASTARR_R </td>\n",
       "   <td style=\"text-align:left;\"> ASTARR_TR </td>\n",
       "  </tr>\n",
       "  <tr>\n",
       "   <td style=\"text-align:left;\"> chr1 </td>\n",
       "   <td style=\"text-align:right;\"> 17230 </td>\n",
       "   <td style=\"text-align:right;\"> 17440 </td>\n",
       "   <td style=\"text-align:left;\"> peak3 </td>\n",
       "   <td style=\"text-align:right;\"> -2.342680 </td>\n",
       "   <td style=\"text-align:left;\"> . </td>\n",
       "   <td style=\"text-align:left;\"> ASTARR </td>\n",
       "   <td style=\"text-align:left;\"> ASTARR_R </td>\n",
       "   <td style=\"text-align:left;\"> ASTARR_TR </td>\n",
       "  </tr>\n",
       "</tbody>\n",
       "</table>"
      ]
     },
     "metadata": {},
     "output_type": "display_data"
    }
   ],
   "source": [
    "dat = dat_region_import\n",
    "vec = c(\"ASTARR\", \"WSTARR\", \"TMPRA\", \"LMPRA\")\n",
    "vec = c(\n",
    "    paste(vec, \"AB\", sep=\"_\"),\n",
    "    paste(vec, \"RB\", sep=\"_\")\n",
    ")\n",
    "print(vec)\n",
    "dat = dat %>% dplyr::filter(!(Label %in% vec))\n",
    "\n",
    "### assign and show\n",
    "dat_region_filter = dat\n",
    "print(dim(dat))\n",
    "fun_display_table(head(dat, 3))"
   ]
  },
  {
   "cell_type": "code",
   "execution_count": 8,
   "id": "79062a56-e655-430c-baf6-54259b0d0d4a",
   "metadata": {},
   "outputs": [
    {
     "data": {
      "text/plain": [
       "\n",
       "ASTARR  LMPRA  TMPRA WSTARR \n",
       "189842  26133   6271 141939 "
      ]
     },
     "metadata": {},
     "output_type": "display_data"
    },
    {
     "data": {
      "text/plain": [
       "\n",
       "ASTARR_A ASTARR_R  LMPRA_A  LMPRA_R  TMPRA_A  TMPRA_R WSTARR_A WSTARR_R \n",
       "   35505   154337    25648      485     6017      254    79738    62201 "
      ]
     },
     "metadata": {},
     "output_type": "display_data"
    },
    {
     "data": {
      "text/plain": [
       "\n",
       "  ASTARR_TR LMPRA_Nadav  TMPRA_OL13  TMPRA_OL43  TMPRA_OL45   WSTARR_TR \n",
       "     189842       26133         223        2214        3834      141939 "
      ]
     },
     "metadata": {},
     "output_type": "display_data"
    }
   ],
   "source": [
    "dat = dat_region_filter\n",
    "table(dat$Group)\n",
    "table(dat$Label)\n",
    "table(dat$Dataset)"
   ]
  },
  {
   "cell_type": "markdown",
   "id": "36a53217-b88b-4c4a-ba64-91df0253db35",
   "metadata": {},
   "source": [
    "## Arrange table"
   ]
  },
  {
   "cell_type": "code",
   "execution_count": 9,
   "id": "432a48f5-5456-440d-8a49-78696d995092",
   "metadata": {},
   "outputs": [],
   "source": [
    "fun_get_assay = function(vec){\n",
    "    dat = tribble(\n",
    "        ~ColA,    ~ColB,\n",
    "        \"ASTARR\", \"ATAC-STARR\",\n",
    "        \"WSTARR\", \"WHG-STARR\",\n",
    "        \"LMPRA\",  \"Lenti-MPRA\",\n",
    "        \"TMPRA\",  \"Tiling-MPRA\"\n",
    "    )\n",
    "    res = fun_str_map_match(vec, dat$ColA, dat$ColB)\n",
    "    return(res)\n",
    "}\n",
    "\n",
    "fun_get_source = function(vec){\n",
    "    dat = tribble(\n",
    "        ~ColA,    ~ColB,\n",
    "        \"ASTARR_TR\",   \"Reddy Lab\",\n",
    "        \"WSTARR_TR\",   \"Reddy Lab\",\n",
    "        \"LMPRA_Nadav\", \"Nadav Lab\",\n",
    "        \"TMPRA_OL13\",  \"Tewhey Lab\",\n",
    "        \"TMPRA_OL43\",  \"Tewhey Lab\",\n",
    "        \"TMPRA_OL45\",  \"Tewhey Lab\"\n",
    "    )\n",
    "    res = fun_str_map_match(vec, dat$ColA, dat$ColB)\n",
    "    return(res)\n",
    "}"
   ]
  },
  {
   "cell_type": "code",
   "execution_count": 10,
   "id": "7003d77c-247e-4cbc-8c5b-0c700762da50",
   "metadata": {},
   "outputs": [
    {
     "name": "stdout",
     "output_type": "stream",
     "text": [
      "[1] 364185     12\n"
     ]
    },
    {
     "data": {
      "text/html": [
       "<table>\n",
       " <thead>\n",
       "  <tr>\n",
       "   <th style=\"text-align:left;\"> Chrom </th>\n",
       "   <th style=\"text-align:right;\"> ChromStart </th>\n",
       "   <th style=\"text-align:right;\"> ChromEnd </th>\n",
       "   <th style=\"text-align:left;\"> Group </th>\n",
       "   <th style=\"text-align:left;\"> Label </th>\n",
       "   <th style=\"text-align:left;\"> Assay </th>\n",
       "   <th style=\"text-align:left;\"> Region </th>\n",
       "   <th style=\"text-align:left;\"> Target </th>\n",
       "   <th style=\"text-align:right;\"> Score </th>\n",
       "   <th style=\"text-align:left;\"> NLog10P </th>\n",
       "   <th style=\"text-align:left;\"> Method </th>\n",
       "   <th style=\"text-align:left;\"> Source </th>\n",
       "  </tr>\n",
       " </thead>\n",
       "<tbody>\n",
       "  <tr>\n",
       "   <td style=\"text-align:left;\"> chr1 </td>\n",
       "   <td style=\"text-align:right;\"> 10010 </td>\n",
       "   <td style=\"text-align:right;\"> 10430 </td>\n",
       "   <td style=\"text-align:left;\"> ASTARR </td>\n",
       "   <td style=\"text-align:left;\"> ASTARR_R:junke </td>\n",
       "   <td style=\"text-align:left;\"> ATAC-STARR </td>\n",
       "   <td style=\"text-align:left;\"> chr1:10010-10430 </td>\n",
       "   <td style=\"text-align:left;\"> NA </td>\n",
       "   <td style=\"text-align:right;\"> -2.520916 </td>\n",
       "   <td style=\"text-align:left;\"> NA </td>\n",
       "   <td style=\"text-align:left;\"> Junke </td>\n",
       "   <td style=\"text-align:left;\"> Reddy Lab </td>\n",
       "  </tr>\n",
       "  <tr>\n",
       "   <td style=\"text-align:left;\"> chr1 </td>\n",
       "   <td style=\"text-align:right;\"> 16220 </td>\n",
       "   <td style=\"text-align:right;\"> 16340 </td>\n",
       "   <td style=\"text-align:left;\"> ASTARR </td>\n",
       "   <td style=\"text-align:left;\"> ASTARR_R:junke </td>\n",
       "   <td style=\"text-align:left;\"> ATAC-STARR </td>\n",
       "   <td style=\"text-align:left;\"> chr1:16220-16340 </td>\n",
       "   <td style=\"text-align:left;\"> NA </td>\n",
       "   <td style=\"text-align:right;\"> -2.338765 </td>\n",
       "   <td style=\"text-align:left;\"> NA </td>\n",
       "   <td style=\"text-align:left;\"> Junke </td>\n",
       "   <td style=\"text-align:left;\"> Reddy Lab </td>\n",
       "  </tr>\n",
       "  <tr>\n",
       "   <td style=\"text-align:left;\"> chr1 </td>\n",
       "   <td style=\"text-align:right;\"> 17230 </td>\n",
       "   <td style=\"text-align:right;\"> 17440 </td>\n",
       "   <td style=\"text-align:left;\"> ASTARR </td>\n",
       "   <td style=\"text-align:left;\"> ASTARR_R:junke </td>\n",
       "   <td style=\"text-align:left;\"> ATAC-STARR </td>\n",
       "   <td style=\"text-align:left;\"> chr1:17230-17440 </td>\n",
       "   <td style=\"text-align:left;\"> NA </td>\n",
       "   <td style=\"text-align:right;\"> -2.342680 </td>\n",
       "   <td style=\"text-align:left;\"> NA </td>\n",
       "   <td style=\"text-align:left;\"> Junke </td>\n",
       "   <td style=\"text-align:left;\"> Reddy Lab </td>\n",
       "  </tr>\n",
       "</tbody>\n",
       "</table>"
      ]
     },
     "metadata": {},
     "output_type": "display_data"
    }
   ],
   "source": [
    "### get table\n",
    "dat = dat_region_filter\n",
    "vec = c(\n",
    "    \"Chrom\", \"ChromStart\", \"ChromEnd\", \"Group\", \"Label\",\n",
    "    \"Assay\", \"Region\", \"Target\", \"Score\", \"NLog10P\",\n",
    "    \"Method\", \"Source\"\n",
    ")\n",
    "\n",
    "dat = dat %>%\n",
    "    dplyr::mutate(\n",
    "        Label   = paste(Label, \"junke\", sep = \":\"),\n",
    "        Assay   = fun_get_assay(Group),\n",
    "        Region  = fun_gen_region(Chrom, ChromStart, ChromEnd),\n",
    "        Target  = NA,\n",
    "        NLog10P = NA,\n",
    "        Method  = \"Junke\",\n",
    "        Source  = fun_get_source(Dataset)\n",
    "    ) %>%\n",
    "    dplyr::select(!!!vec)\n",
    "\n",
    "dat_region_arrange = dat\n",
    "print(dim(dat))\n",
    "fun_display_table(head(dat, 3))"
   ]
  },
  {
   "cell_type": "markdown",
   "id": "d0d04054-de3c-428e-9da9-091d707add47",
   "metadata": {},
   "source": [
    "**Check results**"
   ]
  },
  {
   "cell_type": "code",
   "execution_count": 11,
   "id": "b9c4e536-3fe3-46a7-a39d-f613deaccef9",
   "metadata": {},
   "outputs": [
    {
     "data": {
      "text/plain": [
       "\n",
       "ASTARR  LMPRA  TMPRA WSTARR \n",
       "189842  26133   6271 141939 "
      ]
     },
     "metadata": {},
     "output_type": "display_data"
    },
    {
     "data": {
      "text/plain": [
       "\n",
       "ASTARR_A:junke ASTARR_R:junke  LMPRA_A:junke  LMPRA_R:junke  TMPRA_A:junke \n",
       "         35505         154337          25648            485           6017 \n",
       " TMPRA_R:junke WSTARR_A:junke WSTARR_R:junke \n",
       "           254          79738          62201 "
      ]
     },
     "metadata": {},
     "output_type": "display_data"
    },
    {
     "data": {
      "text/plain": [
       "\n",
       " Nadav Lab  Reddy Lab Tewhey Lab \n",
       "     26133     331781       6271 "
      ]
     },
     "metadata": {},
     "output_type": "display_data"
    }
   ],
   "source": [
    "dat = dat_region_arrange\n",
    "table(dat$Group)\n",
    "table(dat$Label)\n",
    "table(dat$Source)"
   ]
  },
  {
   "cell_type": "markdown",
   "id": "668268b0-bd93-4879-bcc7-f753ab7d3dbf",
   "metadata": {},
   "source": [
    "## Export results"
   ]
  },
  {
   "cell_type": "code",
   "execution_count": 12,
   "id": "bdea63dc-4e26-4f49-81b9-0d67f027ee88",
   "metadata": {},
   "outputs": [],
   "source": [
    "### set file path\n",
    "txt_folder = TXT_FOLDER_OUT\n",
    "txt_fdiry  = file.path(FD_RES, \"region\", txt_folder)\n",
    "txt_fname  = \"K562.hg38.fcc_starrmpra_junke.bed.gz\"\n",
    "txt_fpath  = file.path(txt_fdiry, txt_fname)\n",
    "\n",
    "### set table\n",
    "dat = dat_region_arrange\n",
    "dat = dat %>% dplyr::arrange(Chrom, ChromStart, ChromEnd)\n",
    "\n",
    "### write table\n",
    "write_tsv(dat, txt_fpath, col_names = FALSE)"
   ]
  },
  {
   "cell_type": "code",
   "execution_count": null,
   "id": "dda237b2-9234-4ec2-a30f-61fd2ac8bf60",
   "metadata": {},
   "outputs": [],
   "source": []
  }
 ],
 "metadata": {
  "kernelspec": {
   "display_name": "R",
   "language": "R",
   "name": "ir"
  },
  "language_info": {
   "codemirror_mode": "r",
   "file_extension": ".r",
   "mimetype": "text/x-r-source",
   "name": "R",
   "pygments_lexer": "r",
   "version": "4.4.1"
  }
 },
 "nbformat": 4,
 "nbformat_minor": 5
}
