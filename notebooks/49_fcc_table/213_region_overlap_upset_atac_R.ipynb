{
 "cells": [
  {
   "cell_type": "raw",
   "id": "4ad17eab-398e-4731-af1e-a85ab0f7ebb9",
   "metadata": {},
   "source": [
    "---\n",
    "title: Prepare CRISPRi Growth data 01\n",
    "subtitle: Prepare data\n",
    "format:\n",
    "    html:\n",
    "        code-fold:  true\n",
    "        code-tools: true\n",
    "---"
   ]
  },
  {
   "cell_type": "markdown",
   "id": "9c7da191-94e8-4308-94b2-425166dbb978",
   "metadata": {},
   "source": [
    "**Set environment**"
   ]
  },
  {
   "cell_type": "code",
   "execution_count": 1,
   "id": "2019262b-41bc-4bff-bea7-a904dc334f3c",
   "metadata": {
    "tags": []
   },
   "outputs": [
    {
     "name": "stdout",
     "output_type": "stream",
     "text": [
      "You are working on        Singularity \n",
      "BASE DIRECTORY (FD_BASE): /mount \n",
      "REPO DIRECTORY (FD_REPO): /mount/repo \n",
      "WORK DIRECTORY (FD_WORK): /mount/work \n",
      "DATA DIRECTORY (FD_DATA): /mount/data \n",
      "\n",
      "You are working with      ENCODE FCC \n",
      "PATH OF PROJECT (FD_PRJ): /mount/repo/Proj_ENCODE_FCC \n",
      "PROJECT RESULTS (FD_RES): /mount/repo/Proj_ENCODE_FCC/results \n",
      "PROJECT SCRIPTS (FD_EXE): /mount/repo/Proj_ENCODE_FCC/scripts \n",
      "PROJECT DATA    (FD_DAT): /mount/repo/Proj_ENCODE_FCC/data \n",
      "PROJECT NOTE    (FD_NBK): /mount/repo/Proj_ENCODE_FCC/notebooks \n",
      "PROJECT DOCS    (FD_DOC): /mount/repo/Proj_ENCODE_FCC/docs \n",
      "PROJECT LOG     (FD_LOG): /mount/repo/Proj_ENCODE_FCC/log \n",
      "PROJECT APP     (FD_APP): /mount/repo/Proj_ENCODE_FCC/app \n",
      "PROJECT REF     (FD_REF): /mount/repo/Proj_ENCODE_FCC/references \n",
      "\n"
     ]
    }
   ],
   "source": [
    "suppressMessages(suppressWarnings(source(\"../run_config_project_sing.R\")))\n",
    "library(UpSetR)\n",
    "show_env()"
   ]
  },
  {
   "cell_type": "markdown",
   "id": "076fd390-253c-4d9e-b474-a62952626da6",
   "metadata": {},
   "source": [
    "**Set global variable**"
   ]
  },
  {
   "cell_type": "code",
   "execution_count": 2,
   "id": "9104281f-d0aa-4527-8230-af62ff292bae",
   "metadata": {},
   "outputs": [],
   "source": [
    "TXT_FOLDER_REGION = \"fcc_table\""
   ]
  },
  {
   "cell_type": "markdown",
   "id": "64a3a8c1-21ed-4b7b-a6fa-71a4f872ba34",
   "metadata": {},
   "source": [
    "## Import data"
   ]
  },
  {
   "cell_type": "code",
   "execution_count": 3,
   "id": "79faa632-8b48-4491-a861-0923cc1cfcf5",
   "metadata": {},
   "outputs": [
    {
     "name": "stdout",
     "output_type": "stream",
     "text": [
      "fcc_table.concat.starr.mpra.crispri.e2g.atac.tss.bed.gz \n",
      "fcc_table.final.starr.mpra.crispri.e2g.atac.tss.bed.gz \n",
      "fcc_table.final.starr.mpra.crispri.e2g.atac.tss.tsv \n",
      "fcc_table.merge.starr.mpra.crispri.e2g.atac.tss.bed.gz \n",
      "fcc_table.result.starr.mpra.crispri.e2g.atac.tss.bed.gz \n",
      "fcc_table.share.starr.mpra.crispri.e2g.atac.tss.tsv \n",
      "K562.hg38.atac.bed.gz \n",
      "K562.hg38.encode_e2g_benchmark.bed.gz \n",
      "K562.hg38.fcc_astarr_csaw.bed.gz \n",
      "K562.hg38.fcc_crispri_growth.bed.gz \n",
      "K562.hg38.fcc_crispri_hcrff.bed.gz \n",
      "K562.hg38.fcc_starrmpra_junke.bed.gz \n",
      "K562.hg38.tss.bed.gz \n",
      "summary \n"
     ]
    }
   ],
   "source": [
    "### set directory\n",
    "txt_folder = TXT_FOLDER_REGION\n",
    "txt_fdiry  = file.path(FD_RES, \"region\", txt_folder)\n",
    "\n",
    "vec = dir(txt_fdiry)\n",
    "for (txt in vec){cat(txt, \"\\n\")}"
   ]
  },
  {
   "cell_type": "code",
   "execution_count": 4,
   "id": "834c3a44-2ab5-4596-8c5a-12024e116497",
   "metadata": {},
   "outputs": [
    {
     "name": "stdout",
     "output_type": "stream",
     "text": [
      "[1] 895792     15\n"
     ]
    },
    {
     "data": {
      "text/html": [
       "<table>\n",
       " <thead>\n",
       "  <tr>\n",
       "   <th style=\"text-align:left;\"> Chrom </th>\n",
       "   <th style=\"text-align:right;\"> ChromStart </th>\n",
       "   <th style=\"text-align:right;\"> ChromEnd </th>\n",
       "   <th style=\"text-align:left;\"> Merge_Region </th>\n",
       "   <th style=\"text-align:left;\"> Merge_Group </th>\n",
       "   <th style=\"text-align:left;\"> Merge_Label </th>\n",
       "   <th style=\"text-align:left;\"> Assay </th>\n",
       "   <th style=\"text-align:left;\"> Group </th>\n",
       "   <th style=\"text-align:left;\"> Label </th>\n",
       "   <th style=\"text-align:left;\"> Region </th>\n",
       "   <th style=\"text-align:left;\"> Target </th>\n",
       "   <th style=\"text-align:right;\"> Score </th>\n",
       "   <th style=\"text-align:right;\"> NLog10P </th>\n",
       "   <th style=\"text-align:left;\"> Method </th>\n",
       "   <th style=\"text-align:left;\"> Source </th>\n",
       "  </tr>\n",
       " </thead>\n",
       "<tbody>\n",
       "  <tr>\n",
       "   <td style=\"text-align:left;\"> chr1 </td>\n",
       "   <td style=\"text-align:right;\"> 9976 </td>\n",
       "   <td style=\"text-align:right;\"> 10475 </td>\n",
       "   <td style=\"text-align:left;\"> chr1:9976-10475 </td>\n",
       "   <td style=\"text-align:left;\"> ASTARR,ATAC </td>\n",
       "   <td style=\"text-align:left;\"> ASTARR_R:csaw:KS91,ASTARR_R:junke,ATAC </td>\n",
       "   <td style=\"text-align:left;\"> ATAC-STARR </td>\n",
       "   <td style=\"text-align:left;\"> ASTARR </td>\n",
       "   <td style=\"text-align:left;\"> ASTARR_R:csaw:KS91 </td>\n",
       "   <td style=\"text-align:left;\"> chr1:9976-10475 </td>\n",
       "   <td style=\"text-align:left;\"> NA </td>\n",
       "   <td style=\"text-align:right;\"> -4.184000 </td>\n",
       "   <td style=\"text-align:right;\"> 7.358 </td>\n",
       "   <td style=\"text-align:left;\"> CSAW </td>\n",
       "   <td style=\"text-align:left;\"> Reddy Lab </td>\n",
       "  </tr>\n",
       "  <tr>\n",
       "   <td style=\"text-align:left;\"> chr1 </td>\n",
       "   <td style=\"text-align:right;\"> 9976 </td>\n",
       "   <td style=\"text-align:right;\"> 10475 </td>\n",
       "   <td style=\"text-align:left;\"> chr1:9976-10475 </td>\n",
       "   <td style=\"text-align:left;\"> ASTARR,ATAC </td>\n",
       "   <td style=\"text-align:left;\"> ASTARR_R:csaw:KS91,ASTARR_R:junke,ATAC </td>\n",
       "   <td style=\"text-align:left;\"> ATAC-STARR </td>\n",
       "   <td style=\"text-align:left;\"> ASTARR </td>\n",
       "   <td style=\"text-align:left;\"> ASTARR_R:junke </td>\n",
       "   <td style=\"text-align:left;\"> chr1:10010-10430 </td>\n",
       "   <td style=\"text-align:left;\"> NA </td>\n",
       "   <td style=\"text-align:right;\"> -2.520916 </td>\n",
       "   <td style=\"text-align:right;\"> NA </td>\n",
       "   <td style=\"text-align:left;\"> Junke </td>\n",
       "   <td style=\"text-align:left;\"> Reddy Lab </td>\n",
       "  </tr>\n",
       "  <tr>\n",
       "   <td style=\"text-align:left;\"> chr1 </td>\n",
       "   <td style=\"text-align:right;\"> 9976 </td>\n",
       "   <td style=\"text-align:right;\"> 10475 </td>\n",
       "   <td style=\"text-align:left;\"> chr1:9976-10475 </td>\n",
       "   <td style=\"text-align:left;\"> ASTARR,ATAC </td>\n",
       "   <td style=\"text-align:left;\"> ASTARR_R:csaw:KS91,ASTARR_R:junke,ATAC </td>\n",
       "   <td style=\"text-align:left;\"> ATAC </td>\n",
       "   <td style=\"text-align:left;\"> ATAC </td>\n",
       "   <td style=\"text-align:left;\"> ATAC </td>\n",
       "   <td style=\"text-align:left;\"> chr1:10038-10405 </td>\n",
       "   <td style=\"text-align:left;\"> NA </td>\n",
       "   <td style=\"text-align:right;\"> 3.940038 </td>\n",
       "   <td style=\"text-align:right;\"> NA </td>\n",
       "   <td style=\"text-align:left;\"> MACS </td>\n",
       "   <td style=\"text-align:left;\"> Reddy Lab </td>\n",
       "  </tr>\n",
       "</tbody>\n",
       "</table>"
      ]
     },
     "metadata": {},
     "output_type": "display_data"
    }
   ],
   "source": [
    "### set file path\n",
    "txt_folder = TXT_FOLDER_REGION\n",
    "txt_fdiry  = file.path(FD_RES, \"region\", txt_folder)\n",
    "txt_fname  = \"fcc_table.final.starr.mpra.crispri.e2g.atac.tss.tsv\"\n",
    "txt_fpath  = file.path(txt_fdiry, txt_fname)\n",
    "\n",
    "### read table\n",
    "dat = read_tsv(txt_fpath, show_col_types = FALSE)\n",
    "\n",
    "### assign and show\n",
    "dat_region_fcc_union = dat\n",
    "print(dim(dat))\n",
    "fun_display_table(head(dat, 3))"
   ]
  },
  {
   "cell_type": "markdown",
   "id": "48c50cd1-8603-41a5-9901-381fc91b8d1d",
   "metadata": {},
   "source": [
    "## Subset"
   ]
  },
  {
   "cell_type": "markdown",
   "id": "46674314-cc9c-445b-be19-ab34c0e2d05b",
   "metadata": {},
   "source": [
    "**Check**"
   ]
  },
  {
   "cell_type": "code",
   "execution_count": 6,
   "id": "0036b353-8706-46d2-a696-83ae9ea74d39",
   "metadata": {},
   "outputs": [
    {
     "name": "stdout",
     "output_type": "stream",
     "text": [
      "[1] 150041     15\n"
     ]
    },
    {
     "data": {
      "text/plain": [
       "\n",
       "  ATAC \n",
       "150041 "
      ]
     },
     "metadata": {},
     "output_type": "display_data"
    }
   ],
   "source": [
    "dat = dat_region_fcc_union\n",
    "dat = dat %>% dplyr::filter(Group == \"ATAC\")\n",
    "\n",
    "print(dim(dat))\n",
    "table(dat$Label)"
   ]
  },
  {
   "cell_type": "code",
   "execution_count": 7,
   "id": "53121d22-a0b3-494b-a3b9-4b8c71c8f02d",
   "metadata": {},
   "outputs": [
    {
     "name": "stdout",
     "output_type": "stream",
     "text": [
      "[1] 10375    15\n"
     ]
    },
    {
     "data": {
      "text/plain": [
       "\n",
       "E2G:Regulated:FALSE  E2G:Regulated:TRUE \n",
       "               9903                 472 "
      ]
     },
     "metadata": {},
     "output_type": "display_data"
    }
   ],
   "source": [
    "dat = dat_region_fcc_union\n",
    "dat = dat %>% dplyr::filter(str_detect(Group, \"E2G\"))\n",
    "\n",
    "print(dim(dat))\n",
    "table(dat$Label)"
   ]
  },
  {
   "cell_type": "code",
   "execution_count": 71,
   "id": "c26c2259-ee60-4d87-8322-8eedcbb4b974",
   "metadata": {},
   "outputs": [
    {
     "name": "stdout",
     "output_type": "stream",
     "text": [
      "[1] 723956     15\n"
     ]
    },
    {
     "data": {
      "text/plain": [
       "\n",
       "        ASTARR CRISPRi-Growth  CRISPRi-HCRFF  E2G-Benchmark          LMPRA \n",
       "        542786           6242            113            472          26133 \n",
       "         TMPRA         WSTARR \n",
       "          6271         141939 "
      ]
     },
     "metadata": {},
     "output_type": "display_data"
    }
   ],
   "source": [
    "dat  = dat_region_fcc_union\n",
    "dat  = dat %>% dplyr::filter(str_detect(Group, \"STARR|MPRA|CRISPR\"))\n",
    "dat1 = dat\n",
    "\n",
    "dat  = dat_region_fcc_union\n",
    "dat  = dat %>% dplyr::filter(Label == \"E2G:Regulated:TRUE\")\n",
    "dat2 = dat\n",
    "\n",
    "dat = bind_rows(dat1, dat2)\n",
    "print(dim(dat))\n",
    "table(dat$Group)"
   ]
  },
  {
   "cell_type": "markdown",
   "id": "e1679895-cdb5-48bf-8a3c-004b1621d565",
   "metadata": {},
   "source": [
    "**Subset**"
   ]
  },
  {
   "cell_type": "code",
   "execution_count": 12,
   "id": "a03fb07e-9301-4743-9608-b84820bd833f",
   "metadata": {},
   "outputs": [
    {
     "name": "stdout",
     "output_type": "stream",
     "text": [
      "[1] 488017      2\n",
      "\n",
      "        ASTARR CRISPRi-Growth  CRISPRi-HCRFF  E2G-Benchmark          LMPRA \n",
      "        320896           6183             74            387          25091 \n",
      "         TMPRA         WSTARR \n",
      "          5691         129695 \n"
     ]
    },
    {
     "data": {
      "text/html": [
       "<table>\n",
       " <thead>\n",
       "  <tr>\n",
       "   <th style=\"text-align:left;\"> Merge_Region </th>\n",
       "   <th style=\"text-align:left;\"> Group </th>\n",
       "  </tr>\n",
       " </thead>\n",
       "<tbody>\n",
       "  <tr>\n",
       "   <td style=\"text-align:left;\"> chr1:9976-10475 </td>\n",
       "   <td style=\"text-align:left;\"> ASTARR </td>\n",
       "  </tr>\n",
       "  <tr>\n",
       "   <td style=\"text-align:left;\"> chr1:14226-14675 </td>\n",
       "   <td style=\"text-align:left;\"> ASTARR </td>\n",
       "  </tr>\n",
       "  <tr>\n",
       "   <td style=\"text-align:left;\"> chr1:15976-16525 </td>\n",
       "   <td style=\"text-align:left;\"> ASTARR </td>\n",
       "  </tr>\n",
       "</tbody>\n",
       "</table>"
      ]
     },
     "metadata": {},
     "output_type": "display_data"
    }
   ],
   "source": [
    "dat  = dat_region_fcc_union\n",
    "dat  = dat %>% dplyr::filter(str_detect(Group, \"STARR|MPRA|CRISPR\"))\n",
    "dat1 = dat\n",
    "\n",
    "dat  = dat_region_fcc_union\n",
    "dat  = dat %>% dplyr::filter(Label == \"E2G:Regulated:TRUE\")\n",
    "dat2 = dat\n",
    "\n",
    "dat = bind_rows(dat1, dat2)\n",
    "dat = dat %>%\n",
    "    dplyr::select(Merge_Region, Group) %>%\n",
    "    dplyr::distinct()\n",
    "\n",
    "### assign and show\n",
    "dat_region_cres = dat\n",
    "print(dim(dat))\n",
    "print(table(dat$Group))\n",
    "fun_display_table(head(dat,3))"
   ]
  },
  {
   "cell_type": "markdown",
   "id": "aaaf7299-1ecd-49e5-8ddd-090f3183c881",
   "metadata": {},
   "source": [
    "**Filter**"
   ]
  },
  {
   "cell_type": "code",
   "execution_count": 13,
   "id": "9a61e192-3996-4e6f-a0d9-d6524168f98b",
   "metadata": {},
   "outputs": [
    {
     "name": "stdout",
     "output_type": "stream",
     "text": [
      "[1] 149603\n"
     ]
    }
   ],
   "source": [
    "dat = dat_region_fcc_union\n",
    "dat = dat %>% dplyr::filter(Group == \"ATAC\")\n",
    "vec = unique(dat$Merge_Region)\n",
    "\n",
    "vec_txt_region = vec\n",
    "print(length(vec))"
   ]
  },
  {
   "cell_type": "code",
   "execution_count": 15,
   "id": "a661417a-5cfe-41d5-a41c-d9495517fbc5",
   "metadata": {},
   "outputs": [
    {
     "name": "stdout",
     "output_type": "stream",
     "text": [
      "[1] 205736      2\n",
      "[1] 148880\n",
      "\n",
      "        ASTARR CRISPRi-Growth  CRISPRi-HCRFF  E2G-Benchmark          LMPRA \n",
      "        148825           4383             52            357          20976 \n",
      "         TMPRA         WSTARR \n",
      "           852          30291 \n"
     ]
    },
    {
     "data": {
      "text/html": [
       "<table>\n",
       " <thead>\n",
       "  <tr>\n",
       "   <th style=\"text-align:left;\"> Merge_Region </th>\n",
       "   <th style=\"text-align:left;\"> Group </th>\n",
       "  </tr>\n",
       " </thead>\n",
       "<tbody>\n",
       "  <tr>\n",
       "   <td style=\"text-align:left;\"> chr1:9976-10475 </td>\n",
       "   <td style=\"text-align:left;\"> ASTARR </td>\n",
       "  </tr>\n",
       "  <tr>\n",
       "   <td style=\"text-align:left;\"> chr1:14226-14675 </td>\n",
       "   <td style=\"text-align:left;\"> ASTARR </td>\n",
       "  </tr>\n",
       "  <tr>\n",
       "   <td style=\"text-align:left;\"> chr1:15976-16525 </td>\n",
       "   <td style=\"text-align:left;\"> ASTARR </td>\n",
       "  </tr>\n",
       "</tbody>\n",
       "</table>"
      ]
     },
     "metadata": {},
     "output_type": "display_data"
    }
   ],
   "source": [
    "dat = dat_region_cres\n",
    "dat = dat %>% dplyr::filter(Merge_Region %in% vec_txt_region)\n",
    "vec = unique(dat$Merge_Region)\n",
    "\n",
    "dat_region_subset = dat\n",
    "print(dim(dat))\n",
    "print(length(vec))\n",
    "print(table(dat$Group))\n",
    "fun_display_table(head(dat,3))"
   ]
  },
  {
   "cell_type": "markdown",
   "id": "68648a9b-fed5-41be-a187-6e41509085fa",
   "metadata": {},
   "source": [
    "## Upset plot: Total"
   ]
  },
  {
   "cell_type": "code",
   "execution_count": 16,
   "id": "ed76bd60-aeab-4935-b4e7-127c573be865",
   "metadata": {},
   "outputs": [
    {
     "data": {
      "text/html": [
       "<table>\n",
       " <thead>\n",
       "  <tr>\n",
       "   <th style=\"text-align:left;\"> Merge_Region </th>\n",
       "   <th style=\"text-align:left;\"> Group </th>\n",
       "   <th style=\"text-align:right;\"> Count </th>\n",
       "  </tr>\n",
       " </thead>\n",
       "<tbody>\n",
       "  <tr>\n",
       "   <td style=\"text-align:left;\"> chr1:9976-10475 </td>\n",
       "   <td style=\"text-align:left;\"> ASTARR </td>\n",
       "   <td style=\"text-align:right;\"> 1 </td>\n",
       "  </tr>\n",
       "  <tr>\n",
       "   <td style=\"text-align:left;\"> chr1:14226-14675 </td>\n",
       "   <td style=\"text-align:left;\"> ASTARR </td>\n",
       "   <td style=\"text-align:right;\"> 1 </td>\n",
       "  </tr>\n",
       "  <tr>\n",
       "   <td style=\"text-align:left;\"> chr1:15976-16525 </td>\n",
       "   <td style=\"text-align:left;\"> ASTARR </td>\n",
       "   <td style=\"text-align:right;\"> 1 </td>\n",
       "  </tr>\n",
       "</tbody>\n",
       "</table>"
      ]
     },
     "metadata": {},
     "output_type": "display_data"
    }
   ],
   "source": [
    "dat = dat_region_subset\n",
    "dat = dat %>% \n",
    "    dplyr::group_by(Merge_Region) %>% \n",
    "    dplyr::mutate(Count = n()) %>%\n",
    "    dplyr::ungroup()\n",
    "\n",
    "dat_region_arrange = dat\n",
    "fun_display_table(head(dat,3))"
   ]
  },
  {
   "cell_type": "code",
   "execution_count": 17,
   "id": "3625385a-8a6c-4b83-9b23-b6b49ae54b36",
   "metadata": {},
   "outputs": [
    {
     "data": {
      "image/png": "[encoded data removed]",
      "text/plain": [
       "plot without title"
      ]
     },
     "metadata": {
      "image/png": {
       "height": 360,
       "width": 600
      }
     },
     "output_type": "display_data"
    }
   ],
   "source": [
    "dat = dat_region_arrange\n",
    "dat = dat %>% dplyr::filter(Count > 1)\n",
    "lst = split(dat$Merge_Region, dat$Group)\n",
    "\n",
    "options(repr.plot.width=10, repr.plot.height=6)\n",
    "upset(\n",
    "    fromList(lst), \n",
    "    nintersects = NA, \n",
    "    order.by = \"freq\", \n",
    "    nsets = 7,\n",
    "    mb.ratio = c(0.6, 0.4)\n",
    ")"
   ]
  },
  {
   "cell_type": "code",
   "execution_count": 18,
   "id": "c4fc48a8-f68d-49ba-abea-9c09bea7a1f9",
   "metadata": {},
   "outputs": [
    {
     "data": {
      "image/png": "[encoded data removed]",
      "text/plain": [
       "plot without title"
      ]
     },
     "metadata": {
      "image/png": {
       "height": 360,
       "width": 600
      }
     },
     "output_type": "display_data"
    }
   ],
   "source": [
    "dat = dat_region_arrange\n",
    "dat = dat %>% dplyr::filter(Count > 1)\n",
    "lst = split(dat$Merge_Region, dat$Group)\n",
    "\n",
    "options(repr.plot.width=10, repr.plot.height=6)\n",
    "upset(\n",
    "    fromList(lst), \n",
    "    nintersects = 20, \n",
    "    order.by = \"freq\", \n",
    "    nsets = 7,\n",
    "    mb.ratio = c(0.6, 0.4)\n",
    ")"
   ]
  },
  {
   "cell_type": "markdown",
   "id": "d3788aab-4b09-4942-a277-5dcac5a52d5c",
   "metadata": {},
   "source": [
    "## Upset plot: Summary"
   ]
  },
  {
   "cell_type": "code",
   "execution_count": 24,
   "id": "f4008272-8a14-439c-97cb-7ff360b1927c",
   "metadata": {},
   "outputs": [],
   "source": [
    "fun_str_map = function(vec){\n",
    "    dat = tribble(\n",
    "        ~Assay,              ~Label,\n",
    "        \"ASTARR\",            \"STARR\",\n",
    "        \"WSTARR\",            \"STARR\",\n",
    "        \"TMPRA\",             \"MPRA\",\n",
    "        \"LMPRA\",             \"MPRA\",\n",
    "        \"CRISPRi-HCRFF\",     \"CRISPR\",\n",
    "        \"CRISPRi-Growth\",    \"CRISPR\",\n",
    "        \"E2G-Benchmark\",     \"CRISPR\"\n",
    "    )\n",
    "    \n",
    "    res = fun_str_map_match(\n",
    "        vec_txt_input   = vec,\n",
    "        vec_txt_pattern = dat$Assay,\n",
    "        vec_txt_replace = dat$Label\n",
    "    )\n",
    "    return(res)\n",
    "}"
   ]
  },
  {
   "cell_type": "code",
   "execution_count": 25,
   "id": "804158a8-0850-4889-96bb-785ad6dec60f",
   "metadata": {},
   "outputs": [
    {
     "data": {
      "text/html": [
       "'STARR'"
      ],
      "text/latex": [
       "'STARR'"
      ],
      "text/markdown": [
       "'STARR'"
      ],
      "text/plain": [
       "[1] \"STARR\""
      ]
     },
     "metadata": {},
     "output_type": "display_data"
    }
   ],
   "source": [
    "fun_str_map(\"ASTARR\")"
   ]
  },
  {
   "cell_type": "code",
   "execution_count": 26,
   "id": "3e1c8ea3-dad2-41c5-ad59-4144efe74756",
   "metadata": {},
   "outputs": [
    {
     "data": {
      "text/html": [
       "<style>\n",
       ".list-inline {list-style: none; margin:0; padding: 0}\n",
       ".list-inline>li {display: inline-block}\n",
       ".list-inline>li:not(:last-child)::after {content: \"\\00b7\"; padding: 0 .5ex}\n",
       "</style>\n",
       "<ol class=list-inline><li>'STARR'</li><li>'STARR'</li></ol>\n"
      ],
      "text/latex": [
       "\\begin{enumerate*}\n",
       "\\item 'STARR'\n",
       "\\item 'STARR'\n",
       "\\end{enumerate*}\n"
      ],
      "text/markdown": [
       "1. 'STARR'\n",
       "2. 'STARR'\n",
       "\n",
       "\n"
      ],
      "text/plain": [
       "[1] \"STARR\" \"STARR\""
      ]
     },
     "metadata": {},
     "output_type": "display_data"
    }
   ],
   "source": [
    "fun_str_map(c(\"ASTARR\", \"ASTARR\"))"
   ]
  },
  {
   "cell_type": "code",
   "execution_count": 27,
   "id": "10d1f8a2-6c80-4a07-b958-0b12821c63b7",
   "metadata": {},
   "outputs": [
    {
     "name": "stdout",
     "output_type": "stream",
     "text": [
      "[1] 175217      3\n",
      "\n",
      "CRISPR   MPRA  STARR \n",
      "  4736  21618 148863 \n"
     ]
    },
    {
     "data": {
      "text/html": [
       "<table>\n",
       " <thead>\n",
       "  <tr>\n",
       "   <th style=\"text-align:left;\"> Merge_Region </th>\n",
       "   <th style=\"text-align:left;\"> Group </th>\n",
       "   <th style=\"text-align:right;\"> Count </th>\n",
       "  </tr>\n",
       " </thead>\n",
       "<tbody>\n",
       "  <tr>\n",
       "   <td style=\"text-align:left;\"> chr1:9976-10475 </td>\n",
       "   <td style=\"text-align:left;\"> STARR </td>\n",
       "   <td style=\"text-align:right;\"> 1 </td>\n",
       "  </tr>\n",
       "  <tr>\n",
       "   <td style=\"text-align:left;\"> chr1:14226-14675 </td>\n",
       "   <td style=\"text-align:left;\"> STARR </td>\n",
       "   <td style=\"text-align:right;\"> 1 </td>\n",
       "  </tr>\n",
       "  <tr>\n",
       "   <td style=\"text-align:left;\"> chr1:15976-16525 </td>\n",
       "   <td style=\"text-align:left;\"> STARR </td>\n",
       "   <td style=\"text-align:right;\"> 1 </td>\n",
       "  </tr>\n",
       "</tbody>\n",
       "</table>"
      ]
     },
     "metadata": {},
     "output_type": "display_data"
    }
   ],
   "source": [
    "dat = dat_region_subset\n",
    "dat = dat %>%\n",
    "    dplyr::mutate(Group = fun_str_map(Group)) %>%\n",
    "    dplyr::distinct()\n",
    "\n",
    "dat = dat %>%\n",
    "    dplyr::group_by(Merge_Region) %>% \n",
    "    dplyr::mutate(Count = n()) %>%\n",
    "    dplyr::ungroup()\n",
    "\n",
    "### assign and show\n",
    "dat_region_arrange = dat\n",
    "print(dim(dat))\n",
    "print(table(dat$Group))\n",
    "fun_display_table(head(dat,3))"
   ]
  },
  {
   "cell_type": "markdown",
   "id": "2b8c4317-b3a4-4ed5-9372-86319db3123f",
   "metadata": {},
   "source": [
    "**Plot**"
   ]
  },
  {
   "cell_type": "code",
   "execution_count": 28,
   "id": "87a6bf94-f722-4a74-816c-caf9d14e19c9",
   "metadata": {},
   "outputs": [
    {
     "data": {
      "image/png": "[encoded data removed]",
      "text/plain": [
       "plot without title"
      ]
     },
     "metadata": {
      "image/png": {
       "height": 240,
       "width": 420
      }
     },
     "output_type": "display_data"
    }
   ],
   "source": [
    "dat = dat_region_arrange\n",
    "\n",
    "dat = dat %>% dplyr::filter(Count > 1)\n",
    "lst = split(dat$Merge_Region, dat$Group)\n",
    "\n",
    "options(repr.plot.width=7, repr.plot.height=4)\n",
    "upset(\n",
    "    fromList(lst), \n",
    "    nintersects = NA, \n",
    "    order.by = \"freq\", \n",
    "    nsets = 7,\n",
    "    mb.ratio = c(0.5, 0.5)\n",
    ")"
   ]
  },
  {
   "cell_type": "code",
   "execution_count": 37,
   "id": "2ba13012-4643-4ae9-b923-928b73dc96b1",
   "metadata": {},
   "outputs": [
    {
     "data": {
      "image/png": "[encoded data removed]",
      "text/plain": [
       "plot without title"
      ]
     },
     "metadata": {
      "image/png": {
       "height": 420,
       "width": 720
      }
     },
     "output_type": "display_data"
    }
   ],
   "source": [
    "dat = dat_region_arrange\n",
    "\n",
    "dat = dat %>% dplyr::filter(Count > 1)\n",
    "lst = split(dat$Merge_Region, dat$Group)\n",
    "\n",
    "plt = upset(fromList(lst), \n",
    "      order.by = \"freq\", \n",
    "      nsets = 8,\n",
    "      nintersects = 3,\n",
    "      number.angles = 0,\n",
    "      point.size = 3, \n",
    "      line.size  = 2,\n",
    "      mb.ratio = c(0.7, 0.3),\n",
    "      mainbar.y.label = \"Regulatory regions identified\", \n",
    "      sets.x.label    = \"Assay Type\", \n",
    "      text.scale = c(\n",
    "          2.5, # upper barplot y axis title\n",
    "          2, # upper barplot y axis text\n",
    "          1.6, # left  barplot y axis title\n",
    "          1.4, # left  barplot y axis text\n",
    "          2.5, # set title\n",
    "          2  # upper barplot count number\n",
    "      )\n",
    ")\n",
    "\n",
    "options(repr.plot.height=7, repr.plot.width=12)\n",
    "print(plt)"
   ]
  },
  {
   "cell_type": "code",
   "execution_count": null,
   "id": "7c0b27ba-04d9-456a-bea2-a0125fa814f7",
   "metadata": {},
   "outputs": [],
   "source": []
  }
 ],
 "metadata": {
  "kernelspec": {
   "display_name": "R",
   "language": "R",
   "name": "ir"
  },
  "language_info": {
   "codemirror_mode": "r",
   "file_extension": ".r",
   "mimetype": "text/x-r-source",
   "name": "R",
   "pygments_lexer": "r",
   "version": "4.4.1"
  }
 },
 "nbformat": 4,
 "nbformat_minor": 5
}
