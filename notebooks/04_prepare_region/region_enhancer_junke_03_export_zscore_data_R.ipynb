{
 "cells": [
  {
   "cell_type": "raw",
   "id": "c4e3f8b6-7ab3-404e-8b81-72cd0f572b14",
   "metadata": {},
   "source": [
    "---\n",
    "title: Prepare Junke peak call region 04\n",
    "subtitle: Get peak call from Junke's z-score peak caller\n",
    "format:\n",
    "    html:\n",
    "        code-fold:  true\n",
    "        code-tools: true\n",
    "---"
   ]
  },
  {
   "cell_type": "markdown",
   "id": "4bb900ff-8caa-4dcd-b413-8dee11798ea8",
   "metadata": {},
   "source": [
    "**Set environment**"
   ]
  },
  {
   "cell_type": "code",
   "execution_count": 1,
   "id": "5b77ea49-3590-418e-8a2b-2d79c6dbf799",
   "metadata": {
    "tags": []
   },
   "outputs": [
    {
     "name": "stdout",
     "output_type": "stream",
     "text": [
      "You are working on        Singularity \n",
      "BASE DIRECTORY (FD_BASE): /mount \n",
      "REPO DIRECTORY (FD_REPO): /mount/repo \n",
      "WORK DIRECTORY (FD_WORK): /mount/work \n",
      "DATA DIRECTORY (FD_DATA): /mount/data \n",
      "\n",
      "You are working with      ENCODE FCC \n",
      "PATH OF PROJECT (FD_PRJ): /mount/repo/Proj_ENCODE_FCC \n",
      "PROJECT RESULTS (FD_RES): /mount/repo/Proj_ENCODE_FCC/results \n",
      "PROJECT SCRIPTS (FD_EXE): /mount/repo/Proj_ENCODE_FCC/scripts \n",
      "PROJECT DATA    (FD_DAT): /mount/repo/Proj_ENCODE_FCC/data \n",
      "PROJECT NOTE    (FD_NBK): /mount/repo/Proj_ENCODE_FCC/notebooks \n",
      "PROJECT DOCS    (FD_DOC): /mount/repo/Proj_ENCODE_FCC/docs \n",
      "PROJECT LOG     (FD_LOG): /mount/repo/Proj_ENCODE_FCC/log \n",
      "PROJECT APP     (FD_APP): /mount/repo/Proj_ENCODE_FCC/app \n",
      "PROJECT REF     (FD_REF): /mount/repo/Proj_ENCODE_FCC/references \n",
      "\n"
     ]
    }
   ],
   "source": [
    "suppressMessages(suppressWarnings(source(\"../run_config_project_sing.R\")))\n",
    "show_env()"
   ]
  },
  {
   "cell_type": "code",
   "execution_count": 2,
   "id": "9c669854-ba3e-4257-9fb6-f9fdb62b9857",
   "metadata": {},
   "outputs": [
    {
     "name": "stdout",
     "output_type": "stream",
     "text": [
      "ATAC_STARR_seq_100bp_genomic_bin_in_ATAC_seq_peak_cpm_20_avg_DNA_lib_ \n",
      "eSTARR_seq \n",
      "LentiMPRA_DNA_filtering_avg_DNA_lib_count_10 \n",
      "TilingMPRA_ENCSR363XER_DNA_filtering_avg_DNA_lib_count_10 \n",
      "TilingMPRA_ENCSR394HXI_DNA_filtering_avg_DNA_lib_count_10 \n",
      "TilingMPRA_ENCSR917SFD_DNA_filtering_avg_DNA_lib_count_10 \n",
      "WHG_STARR_TR \n"
     ]
    }
   ],
   "source": [
    "txt_fdiry = file.path(FD_DAT, \"processed\", \"fcc_enhancer_Junke_zscore_240611\", \"decompressed\")\n",
    "vec = dir(txt_fdiry)\n",
    "for(txt in vec){cat(txt, \"\\n\")}"
   ]
  },
  {
   "cell_type": "code",
   "execution_count": 7,
   "id": "098e6845-5056-449f-902f-0bbb63f0a497",
   "metadata": {},
   "outputs": [],
   "source": [
    "VEC_TXT_REGION_NAME = c(\n",
    "    \"ATAC_STARR_seq_100bp_genomic_bin_in_ATAC_seq_peak_cpm_20_avg_DNA_lib_\",\n",
    "    \"WHG_STARR_TR\",\n",
    "    \"TilingMPRA_ENCSR363XER_DNA_filtering_avg_DNA_lib_count_10\",\n",
    "    \"TilingMPRA_ENCSR394HXI_DNA_filtering_avg_DNA_lib_count_10\",\n",
    "    \"TilingMPRA_ENCSR917SFD_DNA_filtering_avg_DNA_lib_count_10\",\n",
    "    \"LentiMPRA_DNA_filtering_avg_DNA_lib_count_10\"\n",
    ")\n",
    "\n",
    "VEC_TXT_ASSAY_NAME = c(\n",
    "    \"ASTARR_TR\",\n",
    "    \"wSTARR_TR\",\n",
    "    \"TMPRA_OL45\",\n",
    "    \"TMPRA_OL13\",\n",
    "    \"TMPRA_OL43\",\n",
    "    \"LMPRA_Nadav\"\n",
    ")\n",
    "\n",
    "VEC_TXT_ASSAY_GROUP = c(\n",
    "    \"ASTARR\",\n",
    "    \"wSTARR\",\n",
    "    \"TMPRA\",\n",
    "    \"TMPRA\",\n",
    "    \"TMPRA\",\n",
    "    \"LMPRA\"\n",
    ")"
   ]
  },
  {
   "cell_type": "code",
   "execution_count": 8,
   "id": "d7a6cd94-edef-4658-8112-06dcd7ad7758",
   "metadata": {},
   "outputs": [],
   "source": [
    "vec1 = VEC_TXT_REGION_NAME\n",
    "vec2 = VEC_TXT_ASSAY_NAME\n",
    "fun1 = function(txt){\n",
    "    res = fun_str_map_detect(txt, vec1, vec2)\n",
    "    return(res)\n",
    "}\n",
    "\n",
    "vec1 = VEC_TXT_REGION_NAME\n",
    "vec2 = VEC_TXT_ASSAY_GROUP\n",
    "fun1 = function(txt){\n",
    "    res = fun_str_map_detect(txt, vec1, vec2)\n",
    "    return(res)\n",
    "}\n",
    "\n",
    "vec1 = c(\"enhancer\", \"regressor\")\n",
    "vec2 = c(\"A\", \"R\")\n",
    "fun2 = function(txt){\n",
    "    res = fun_str_map_detect(txt, vec1, vec2)\n",
    "    return(res)\n",
    "}\n",
    "\n",
    "vec1 = c(\"orientation_independent\", \"in_either_orientation\")\n",
    "vec2 = c(\"B\", \"\")\n",
    "fun3 = function(txt){\n",
    "    res = fun_str_map_detect(txt, vec1, vec2)\n",
    "    return(res)\n",
    "}"
   ]
  },
  {
   "cell_type": "code",
   "execution_count": null,
   "id": "5f7f0f6b-51b1-4ee4-b6d3-c96c6dff7015",
   "metadata": {},
   "outputs": [],
   "source": [
    "vec_txt_fname = VEC_TXT_REGION_NAME\n",
    "txt_fdiry = file.path(FD_DAT, \"processed\", \"fcc_enhancer_Junke_zscore_240611\", \"decompressed\")\n",
    "\n",
    "for (txt_fname in vec_txt_fname){\n",
    "    txt_fpath = file.path(txt_fdiry, txt_fname)\n",
    "    dat = read_tsv(txt_fpath)\n",
    "}"
   ]
  }
 ],
 "metadata": {
  "kernelspec": {
   "display_name": "R",
   "language": "R",
   "name": "ir"
  },
  "language_info": {
   "codemirror_mode": "r",
   "file_extension": ".r",
   "mimetype": "text/x-r-source",
   "name": "R",
   "pygments_lexer": "r",
   "version": "4.4.0"
  }
 },
 "nbformat": 4,
 "nbformat_minor": 5
}
