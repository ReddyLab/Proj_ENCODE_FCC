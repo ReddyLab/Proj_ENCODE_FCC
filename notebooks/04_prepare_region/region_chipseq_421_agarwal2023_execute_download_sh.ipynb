{
 "cells": [
  {
   "cell_type": "raw",
   "id": "4352bf77-df49-416f-91f0-0b7bb9cae083",
   "metadata": {},
   "source": [
    "---\n",
    "title: Prepare ENCODE ChIP-seq ...\n",
    "subtitle: ...\n",
    "format:\n",
    "    html:\n",
    "        code-fold:  true\n",
    "        code-tools: true\n",
    "---"
   ]
  },
  {
   "cell_type": "markdown",
   "id": "a5ed13f0-d97c-4d35-88c2-d1d1091b0cc2",
   "metadata": {
    "tags": []
   },
   "source": [
    "## Initialization"
   ]
  },
  {
   "cell_type": "markdown",
   "id": "57ab7855-9476-4161-a616-151e5079c81c",
   "metadata": {},
   "source": [
    "**set environment**"
   ]
  },
  {
   "cell_type": "code",
   "execution_count": 1,
   "id": "5e18aea0-8716-4ca1-87fd-04a9155dc8ed",
   "metadata": {},
   "outputs": [
    {
     "name": "stdout",
     "output_type": "stream",
     "text": [
      "You are working on             Duke Server: HARDAC\n",
      "BASE DIRECTORY (FD_BASE):      /data/reddylab/Kuei\n",
      "REPO DIRECTORY (FD_REPO):      /data/reddylab/Kuei/repo\n",
      "WORK DIRECTORY (FD_WORK):      /data/reddylab/Kuei/work\n",
      "DATA DIRECTORY (FD_DATA):      /data/reddylab/Kuei/data\n",
      "CONTAINER DIR. (FD_SING):      /data/reddylab/Kuei/container\n",
      "\n",
      "You are working with           ENCODE FCC\n",
      "PATH OF PROJECT (FD_PRJ):      /data/reddylab/Kuei/repo/Proj_ENCODE_FCC\n",
      "PROJECT RESULTS (FD_RES):      /data/reddylab/Kuei/repo/Proj_ENCODE_FCC/results\n",
      "PROJECT SCRIPTS (FD_EXE):      /data/reddylab/Kuei/repo/Proj_ENCODE_FCC/scripts\n",
      "PROJECT DATA    (FD_DAT):      /data/reddylab/Kuei/repo/Proj_ENCODE_FCC/data\n",
      "PROJECT NOTE    (FD_NBK):      /data/reddylab/Kuei/repo/Proj_ENCODE_FCC/notebooks\n",
      "PROJECT DOCS    (FD_DOC):      /data/reddylab/Kuei/repo/Proj_ENCODE_FCC/docs\n",
      "PROJECT LOG     (FD_LOG):      /data/reddylab/Kuei/repo/Proj_ENCODE_FCC/log\n",
      "PROJECT APP     (FD_APP):      \n",
      "PROJECT REF     (FD_REF):      /data/reddylab/Kuei/repo/Proj_ENCODE_FCC/references\n",
      "PROJECT IMAGE   (FP_PRJ_SIF):  /data/reddylab/Kuei/container/project/singularity_proj_encode_fcc.sif\n",
      "\n"
     ]
    }
   ],
   "source": [
    "source ../run_config_project.sh\n",
    "show_env"
   ]
  },
  {
   "cell_type": "markdown",
   "id": "1b3500bc-e960-4981-b85b-42dda95db5f5",
   "metadata": {},
   "source": [
    "**Global variables**"
   ]
  },
  {
   "cell_type": "code",
   "execution_count": 2,
   "id": "ed74bbe2-873f-4ed1-a7d0-11c53222d649",
   "metadata": {},
   "outputs": [],
   "source": [
    "FD_OUT=${FD_DAT}/external/encode_chipseq_agarwal2023"
   ]
  },
  {
   "cell_type": "markdown",
   "id": "ff2a7051-7f35-41ed-85db-b12f7c5ab638",
   "metadata": {},
   "source": [
    "## Preview"
   ]
  },
  {
   "cell_type": "code",
   "execution_count": 3,
   "id": "b619b682-c203-460d-9349-4d06512a24b7",
   "metadata": {},
   "outputs": [
    {
     "name": "stdout",
     "output_type": "stream",
     "text": [
      "/data/reddylab/Kuei/repo/Proj_ENCODE_FCC/data/external/encode_chipseq_agarwal2023/files.txt\n",
      "\n",
      "https://www.encodeproject.org/files/ENCFF254FCX/@@download/ENCFF254FCX.bigWig\n",
      "https://www.encodeproject.org/files/ENCFF580YKQ/@@download/ENCFF580YKQ.bigWig\n",
      "https://www.encodeproject.org/files/ENCFF057BCB/@@download/ENCFF057BCB.bigWig\n",
      "https://www.encodeproject.org/files/ENCFF593VAW/@@download/ENCFF593VAW.bigWig\n",
      "https://www.encodeproject.org/files/ENCFF020OLK/@@download/ENCFF020OLK.bigWig\n",
      "https://www.encodeproject.org/files/ENCFF521JBC/@@download/ENCFF521JBC.bigWig\n",
      "https://www.encodeproject.org/files/ENCFF269QMN/@@download/ENCFF269QMN.bigWig\n",
      "https://www.encodeproject.org/files/ENCFF380UBH/@@download/ENCFF380UBH.bigWig\n",
      "https://www.encodeproject.org/files/ENCFF018XBY/@@download/ENCFF018XBY.bigWig\n",
      "https://www.encodeproject.org/files/ENCFF110QYF/@@download/ENCFF110QYF.bigWig\n"
     ]
    }
   ],
   "source": [
    "ls ${FD_OUT}/files.txt\n",
    "echo\n",
    "cat ${FD_OUT}/files.txt | head"
   ]
  },
  {
   "cell_type": "markdown",
   "id": "4d11a4c8-1cd8-40d3-985b-dae52efb700c",
   "metadata": {},
   "source": [
    "## Execute"
   ]
  },
  {
   "cell_type": "markdown",
   "id": "51d5f635-3d25-414a-85f9-b3eedef920be",
   "metadata": {},
   "source": [
    "**Run the download script**"
   ]
  },
  {
   "cell_type": "code",
   "execution_count": 4,
   "id": "15401659-24cd-4d44-bda4-6ad4681cb6f8",
   "metadata": {},
   "outputs": [
    {
     "name": "stdout",
     "output_type": "stream",
     "text": [
      "\n"
     ]
    }
   ],
   "source": [
    "cd ${FD_OUT}\n",
    "echo -n \"\" > download_log.txt\n",
    "xargs -L 1 curl -O -J -L < files.txt >> download_log.txt 2>&1"
   ]
  },
  {
   "cell_type": "code",
   "execution_count": 5,
   "id": "d5764db7-964c-402f-a0e7-cc2196745311",
   "metadata": {},
   "outputs": [
    {
     "name": "stdout",
     "output_type": "stream",
     "text": [
      "\n"
     ]
    }
   ],
   "source": [
    "cd ${FD_OUT}\n",
    "echo -n \"\" > download_rerun_log.txt\n",
    "xargs -L 1 curl -O -J -L < files.txt >> download_rerun_log.txt 2>&1"
   ]
  },
  {
   "cell_type": "code",
   "execution_count": 15,
   "id": "c1089267-368a-4c53-ac5b-7e301130a8c7",
   "metadata": {},
   "outputs": [
    {
     "name": "stdout",
     "output_type": "stream",
     "text": [
      "Submitted batch job 30864801\n"
     ]
    }
   ],
   "source": [
    "FN_LOG=download.encode_chipseq_agarwal2023.rerun.txt\n",
    "FP_LOG=${FD_LOG}/${FN_LOG}\n",
    "\n",
    "sbatch -p ${NODE} \\\n",
    "    --exclude=dl-01 \\\n",
    "    --cpus-per-task 4 \\\n",
    "    --mem 4G \\\n",
    "    --output ${FP_LOG} \\\n",
    "    <<EOF\n",
    "#!/bin/bash\n",
    "pwd\n",
    "xargs -L 1 curl -O -J -L < files.txt\n",
    "EOF"
   ]
  },
  {
   "cell_type": "code",
   "execution_count": 17,
   "id": "a81de4c6-68ed-4d5e-9481-7bf2f8c219e5",
   "metadata": {},
   "outputs": [
    {
     "name": "stdout",
     "output_type": "stream",
     "text": [
      "/data/reddylab/Kuei/repo/Proj_ENCODE_FCC/log/download.encode_chipseq_agarwal2023.rerun.txt\n"
     ]
    }
   ],
   "source": [
    "echo ${FP_LOG}"
   ]
  },
  {
   "cell_type": "markdown",
   "id": "df90f41f-bdce-42c9-814f-9e0cfb89f6ea",
   "metadata": {},
   "source": [
    "## Review"
   ]
  },
  {
   "cell_type": "code",
   "execution_count": 5,
   "id": "d58fff36-a654-4326-a9be-febfeaaa44bb",
   "metadata": {},
   "outputs": [
    {
     "name": "stdout",
     "output_type": "stream",
     "text": [
      "  % Total    % Received % Xferd  Average Speed   Time    Time     Time  Current\n",
      "                                 Dload  Upload   Total   Spent    Left  Speed\n",
      "100  1949  100  1949    0     0   3744      0 --:--:-- --:--:-- --:--:--  3748\n",
      "100 40212  100 40212    0     0  38023      0  0:00:01  0:00:01 --:--:--  130k\n",
      "curl: Saved to filename 'ENCFF018TNP.bed.gz'\n",
      "  % Total    % Received % Xferd  Average Speed   Time    Time     Time  Current\n",
      "                                 Dload  Upload   Total   Spent    Left  Speed\n",
      "100  1949  100  1949    0     0   3658      0 --:--:-- --:--:-- --:--:--  3670\n",
      "100  130k  100  130k    0     0   114k      0  0:00:01  0:00:01 --:--:--  302k\n",
      "curl: Saved to filename 'ENCFF720UCM.bigBed'\n"
     ]
    }
   ],
   "source": [
    "cd ${FD_OUT}\n",
    "tail download_log.txt"
   ]
  },
  {
   "cell_type": "code",
   "execution_count": 6,
   "id": "f38beabf-88e5-472b-bdb3-5e0f8b57648e",
   "metadata": {},
   "outputs": [
    {
     "name": "stdout",
     "output_type": "stream",
     "text": [
      "237\n"
     ]
    }
   ],
   "source": [
    "cd ${FD_OUT}\n",
    "ls ./*bed.gz | wc -l"
   ]
  },
  {
   "cell_type": "code",
   "execution_count": 7,
   "id": "9c354d00-4ea8-4a42-a7d2-1e0905209fa8",
   "metadata": {},
   "outputs": [
    {
     "name": "stdout",
     "output_type": "stream",
     "text": [
      "237\n"
     ]
    }
   ],
   "source": [
    "cd ${FD_OUT}\n",
    "ls ./*bigWig | wc -l"
   ]
  },
  {
   "cell_type": "code",
   "execution_count": 9,
   "id": "55cde261-4f6a-4cbf-9fbe-0a8ec79ce8e2",
   "metadata": {},
   "outputs": [
    {
     "name": "stdout",
     "output_type": "stream",
     "text": [
      "237\n"
     ]
    }
   ],
   "source": [
    "cd ${FD_OUT}\n",
    "ls ./*bigBed | wc -l"
   ]
  },
  {
   "cell_type": "markdown",
   "id": "84bb94d8-5a98-4d3f-830e-b3fd1cb55129",
   "metadata": {},
   "source": [
    "237 x 3 = 711"
   ]
  },
  {
   "cell_type": "code",
   "execution_count": null,
   "id": "3e342b25-3f2b-43df-ae13-5e80ca159e39",
   "metadata": {},
   "outputs": [],
   "source": []
  }
 ],
 "metadata": {
  "kernelspec": {
   "display_name": "Bash",
   "language": "bash",
   "name": "bash"
  },
  "language_info": {
   "codemirror_mode": "shell",
   "file_extension": ".sh",
   "mimetype": "text/x-sh",
   "name": "bash"
  }
 },
 "nbformat": 4,
 "nbformat_minor": 5
}
