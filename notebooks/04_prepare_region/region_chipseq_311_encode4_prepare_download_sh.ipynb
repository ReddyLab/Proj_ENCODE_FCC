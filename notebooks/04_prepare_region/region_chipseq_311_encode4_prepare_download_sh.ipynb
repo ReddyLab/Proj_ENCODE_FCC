{
 "cells": [
  {
   "cell_type": "raw",
   "id": "4352bf77-df49-416f-91f0-0b7bb9cae083",
   "metadata": {},
   "source": [
    "---\n",
    "title: Prepare ENCODE ChIP-seq ...\n",
    "subtitle: ...\n",
    "format:\n",
    "    html:\n",
    "        code-fold:  true\n",
    "        code-tools: true\n",
    "---"
   ]
  },
  {
   "cell_type": "markdown",
   "id": "57ab7855-9476-4161-a616-151e5079c81c",
   "metadata": {},
   "source": [
    "**set environment**"
   ]
  },
  {
   "cell_type": "code",
   "execution_count": 1,
   "id": "5e18aea0-8716-4ca1-87fd-04a9155dc8ed",
   "metadata": {},
   "outputs": [
    {
     "name": "stdout",
     "output_type": "stream",
     "text": [
      "You are working on             Duke Server: HARDAC\n",
      "BASE DIRECTORY (FD_BASE):      /data/reddylab/Kuei\n",
      "REPO DIRECTORY (FD_REPO):      /data/reddylab/Kuei/repo\n",
      "WORK DIRECTORY (FD_WORK):      /data/reddylab/Kuei/work\n",
      "DATA DIRECTORY (FD_DATA):      /data/reddylab/Kuei/data\n",
      "CONTAINER DIR. (FD_SING):      /data/reddylab/Kuei/container\n",
      "\n",
      "You are working with           ENCODE FCC\n",
      "PATH OF PROJECT (FD_PRJ):      /data/reddylab/Kuei/repo/Proj_ENCODE_FCC\n",
      "PROJECT RESULTS (FD_RES):      /data/reddylab/Kuei/repo/Proj_ENCODE_FCC/results\n",
      "PROJECT SCRIPTS (FD_EXE):      /data/reddylab/Kuei/repo/Proj_ENCODE_FCC/scripts\n",
      "PROJECT DATA    (FD_DAT):      /data/reddylab/Kuei/repo/Proj_ENCODE_FCC/data\n",
      "PROJECT NOTE    (FD_NBK):      /data/reddylab/Kuei/repo/Proj_ENCODE_FCC/notebooks\n",
      "PROJECT DOCS    (FD_DOC):      /data/reddylab/Kuei/repo/Proj_ENCODE_FCC/docs\n",
      "PROJECT LOG     (FD_LOG):      /data/reddylab/Kuei/repo/Proj_ENCODE_FCC/log\n",
      "PROJECT APP     (FD_APP):      \n",
      "PROJECT REF     (FD_REF):      /data/reddylab/Kuei/repo/Proj_ENCODE_FCC/references\n",
      "PROJECT IMAGE   (FP_PRJ_SIF):  /data/reddylab/Kuei/container/project/singularity_proj_encode_fcc.sif\n",
      "\n"
     ]
    }
   ],
   "source": [
    "source ../run_config_project.sh\n",
    "show_env"
   ]
  },
  {
   "cell_type": "markdown",
   "id": "65755fad-2011-45d0-b6b0-0eb60362cce8",
   "metadata": {},
   "source": [
    "## Get the ENCODE4 file list"
   ]
  },
  {
   "cell_type": "code",
   "execution_count": 3,
   "id": "bb94bf8d-d1ca-4891-b658-593f9e0771db",
   "metadata": {},
   "outputs": [
    {
     "name": "stdout",
     "output_type": "stream",
     "text": [
      "files.txt  metadata.tsv\n"
     ]
    }
   ],
   "source": [
    "ls ${FD_REF}/encode_chipseq_encode4"
   ]
  },
  {
   "cell_type": "code",
   "execution_count": 4,
   "id": "b5b19436-30af-423a-8a02-2574e3a4d2a8",
   "metadata": {},
   "outputs": [
    {
     "name": "stdout",
     "output_type": "stream",
     "text": [
      "\"https://www.encodeproject.org/metadata/?replicates.library.biosample.donor.organism.scientific_name=Homo+sapiens&assay_title=TF+ChIP-seq&status=released&biosample_ontology.term_name=K562&perturbed=false&assembly=GRCh38&award.rfa=ENCODE4&type=Experiment&files.analyses.status=released&files.preferred_default=true\"\n",
      "https://www.encodeproject.org/files/ENCFF132HZU/@@download/ENCFF132HZU.bigWig\n",
      "https://www.encodeproject.org/files/ENCFF876UWD/@@download/ENCFF876UWD.bigBed\n",
      "https://www.encodeproject.org/files/ENCFF822FXR/@@download/ENCFF822FXR.bed.gz\n",
      "https://www.encodeproject.org/files/ENCFF547OVU/@@download/ENCFF547OVU.bigWig\n",
      "https://www.encodeproject.org/files/ENCFF410DHO/@@download/ENCFF410DHO.bigBed\n",
      "https://www.encodeproject.org/files/ENCFF798AFV/@@download/ENCFF798AFV.bed.gz\n",
      "https://www.encodeproject.org/files/ENCFF245JPK/@@download/ENCFF245JPK.bed.gz\n",
      "https://www.encodeproject.org/files/ENCFF360BJK/@@download/ENCFF360BJK.bigWig\n",
      "https://www.encodeproject.org/files/ENCFF829SLD/@@download/ENCFF829SLD.bigBed\n"
     ]
    }
   ],
   "source": [
    "head ${FD_REF}/encode_chipseq_encode4/files.txt"
   ]
  },
  {
   "cell_type": "code",
   "execution_count": 8,
   "id": "5873e426-e64a-44e9-b10d-5ca7f7dd0bbb",
   "metadata": {},
   "outputs": [
    {
     "name": "stdout",
     "output_type": "stream",
     "text": [
      "File accession\tFile format\tFile type\tFile format type\tOutput type\n",
      "ENCFF036TCU\tbigWig\tbigWig\t\tsignal p-value\n",
      "ENCFF692HUD\tbed narrowPeak\tbed\tnarrowPeak\tIDR thresholded peaks\n",
      "ENCFF465AQA\tbigBed narrowPeak\tbigBed\tnarrowPeak\tIDR thresholded peaks\n",
      "ENCFF397QGU\tbigBed narrowPeak\tbigBed\tnarrowPeak\tIDR thresholded peaks\n",
      "ENCFF788SPW\tbigWig\tbigWig\t\tsignal p-value\n",
      "ENCFF289ZIR\tbed narrowPeak\tbed\tnarrowPeak\tIDR thresholded peaks\n",
      "ENCFF718DSJ\tbed narrowPeak\tbed\tnarrowPeak\tconservative IDR thresholded peaks\n",
      "ENCFF529QQI\tbigWig\tbigWig\t\tsignal p-value\n",
      "ENCFF885DQE\tbigBed narrowPeak\tbigBed\tnarrowPeak\tconservative IDR thresholded peaks\n"
     ]
    }
   ],
   "source": [
    "cat ${FD_REF}/encode_chipseq_encode4/metadata.tsv | cut -f 1-5 | head"
   ]
  },
  {
   "cell_type": "markdown",
   "id": "7156e30b-e51b-4c59-9407-164b125c44c7",
   "metadata": {},
   "source": [
    "## Copy the file list to data folder"
   ]
  },
  {
   "cell_type": "code",
   "execution_count": 11,
   "id": "88f08b6d-c399-4744-9715-c527d0fb3af6",
   "metadata": {},
   "outputs": [
    {
     "name": "stdout",
     "output_type": "stream",
     "text": [
      "\u001b[0m\u001b[38;5;27mexternal\u001b[0m  \u001b[38;5;27mprocessed\u001b[0m\n"
     ]
    }
   ],
   "source": [
    "ls ${FD_DAT}"
   ]
  },
  {
   "cell_type": "code",
   "execution_count": 12,
   "id": "09c470f9-7458-44b7-ad09-69313f13a086",
   "metadata": {},
   "outputs": [
    {
     "name": "stdout",
     "output_type": "stream",
     "text": [
      "chrom.hg38.main.bed      \u001b[0m\u001b[38;5;27mencode_chipseq_subset\u001b[0m    \u001b[38;5;27mhic_insitu_GM12878\u001b[0m\n",
      "chrom.hg38.total.bed     \u001b[38;5;27mencode_chromatin_states\u001b[0m  \u001b[38;5;27mhic_insitu_K562_ENCSR545YBD\u001b[0m\n",
      "chrom.sizes.hg19         \u001b[38;5;27mencode_crispri_hcrff\u001b[0m     \u001b[38;5;27mhic_intact_K562_deep\u001b[0m\n",
      "chrom.sizes.hg38         \u001b[38;5;27mencode_open_chromatin\u001b[0m    \u001b[38;5;27mhic_intact_K562_ENCSR479XDG\u001b[0m\n",
      "\u001b[38;5;27mencode_chipseq_flagship\u001b[0m  \u001b[38;5;27mencode_rnaseq\u001b[0m            \u001b[38;5;27mRNAseq\u001b[0m\n",
      "\u001b[38;5;27mencode_chipseq_histone\u001b[0m   \u001b[38;5;27mgenome_tss\u001b[0m\n"
     ]
    }
   ],
   "source": [
    "ls ${FD_DAT}/external"
   ]
  },
  {
   "cell_type": "code",
   "execution_count": 13,
   "id": "bf625f4b-3ddb-4aa1-be55-a8e921a82c97",
   "metadata": {},
   "outputs": [],
   "source": [
    "mkdir -p ${FD_DAT}/external/encode_chipseq_encode4"
   ]
  },
  {
   "cell_type": "code",
   "execution_count": 14,
   "id": "b7b83c9d-f53f-4e7f-8500-0d9567359ffe",
   "metadata": {},
   "outputs": [],
   "source": [
    "cp ${FD_REF}/encode_chipseq_encode4/files.txt ${FD_DAT}/external/encode_chipseq_encode4/"
   ]
  },
  {
   "cell_type": "code",
   "execution_count": 15,
   "id": "59d038b3-0ade-4a9b-86e4-9b7126143772",
   "metadata": {},
   "outputs": [
    {
     "name": "stdout",
     "output_type": "stream",
     "text": [
      "files.txt\n"
     ]
    }
   ],
   "source": [
    "ls ${FD_DAT}/external/encode_chipseq_encode4/"
   ]
  },
  {
   "cell_type": "code",
   "execution_count": null,
   "id": "bce248d1-61aa-4fc2-813c-a0147f5ddeda",
   "metadata": {},
   "outputs": [],
   "source": []
  }
 ],
 "metadata": {
  "kernelspec": {
   "display_name": "Bash",
   "language": "bash",
   "name": "bash"
  },
  "language_info": {
   "codemirror_mode": "shell",
   "file_extension": ".sh",
   "mimetype": "text/x-sh",
   "name": "bash"
  }
 },
 "nbformat": 4,
 "nbformat_minor": 5
}
