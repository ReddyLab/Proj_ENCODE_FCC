{
 "cells": [
  {
   "cell_type": "raw",
   "id": "a809cd43-2f44-4ff5-821d-e378c3272147",
   "metadata": {},
   "source": [
    "---\n",
    "title: Prepare Metadata for annotation\n",
    "subtitle: annotate ASTARR MACS peaks\n",
    "format:\n",
    "    html:\n",
    "        code-fold:  true\n",
    "        code-tools: true\r\n",
    "---"
   ]
  },
  {
   "cell_type": "markdown",
   "id": "029df934-4866-4db3-bc88-bd629d870a63",
   "metadata": {},
   "source": [
    "**Set environment**"
   ]
  },
  {
   "cell_type": "code",
   "execution_count": 1,
   "id": "19559128-af3a-404f-b592-e1cfdc790f14",
   "metadata": {},
   "outputs": [
    {
     "name": "stdout",
     "output_type": "stream",
     "text": [
      "You are working on        Singularity \n",
      "BASE DIRECTORY (FD_BASE): /mount \n",
      "REPO DIRECTORY (FD_REPO): /mount/repo \n",
      "WORK DIRECTORY (FD_WORK): /mount/work \n",
      "DATA DIRECTORY (FD_DATA): /mount/data \n",
      "\n",
      "You are working with      ENCODE FCC \n",
      "PATH OF PROJECT (FD_PRJ): /mount/repo/Proj_ENCODE_FCC \n",
      "PROJECT RESULTS (FD_RES): /mount/repo/Proj_ENCODE_FCC/results \n",
      "PROJECT SCRIPTS (FD_EXE): /mount/repo/Proj_ENCODE_FCC/scripts \n",
      "PROJECT DATA    (FD_DAT): /mount/repo/Proj_ENCODE_FCC/data \n",
      "PROJECT NOTE    (FD_NBK): /mount/repo/Proj_ENCODE_FCC/notebooks \n",
      "PROJECT DOCS    (FD_DOC): /mount/repo/Proj_ENCODE_FCC/docs \n",
      "PROJECT LOG     (FD_LOG): /mount/repo/Proj_ENCODE_FCC/log \n",
      "PROJECT APP     (FD_APP): /mount/repo/Proj_ENCODE_FCC/app \n",
      "PROJECT REF     (FD_REF): /mount/repo/Proj_ENCODE_FCC/references \n",
      "\n"
     ]
    }
   ],
   "source": [
    "suppressMessages(suppressWarnings(source(\"../run_config_project_sing.R\")))\n",
    "show_env()"
   ]
  },
  {
   "cell_type": "markdown",
   "id": "0707180f-0fa2-459c-ac16-be71e8646f68",
   "metadata": {},
   "source": [
    "## Prepare file path"
   ]
  },
  {
   "cell_type": "markdown",
   "id": "f24c5dde-046e-4c7f-9c52-4ac54b38245f",
   "metadata": {},
   "source": [
    "**Check input**"
   ]
  },
  {
   "cell_type": "code",
   "execution_count": 2,
   "id": "5f26eca1-0b7a-49e2-86b8-ee45427ad324",
   "metadata": {},
   "outputs": [
    {
     "name": "stdout",
     "output_type": "stream",
     "text": [
      "encode_chipseq_encode4 \n",
      "encode_chipseq_flagship \n",
      "encode_chipseq_histone \n",
      "encode_chipseq_subset \n",
      "encode_chromatin_states \n",
      "encode_open_chromatin \n",
      "fcc_astarr_csaw \n",
      "fcc_astarr_macs \n",
      "fcc_crispri_hcrff \n",
      "fcc_screened \n",
      "genome_tss \n",
      "hic_insitu_K562_ENCSR545YBD \n",
      "hic_intact_K562_deep \n",
      "hic_intact_K562_ENCSR479XDG \n",
      "summary \n"
     ]
    }
   ],
   "source": [
    "txt_fdiry = file.path(FD_RES, \"region\")\n",
    "vec = dir(txt_fdiry)\n",
    "for (txt in vec){cat(txt, \"\\n\")}"
   ]
  },
  {
   "cell_type": "code",
   "execution_count": 3,
   "id": "661d85da-09d0-42e8-9b39-328d37bf045b",
   "metadata": {},
   "outputs": [
    {
     "name": "stdout",
     "output_type": "stream",
     "text": [
      "/mount/repo/Proj_ENCODE_FCC/results/region/encode_chipseq_encode4/summary/metadata.label.tsv \n",
      "/mount/repo/Proj_ENCODE_FCC/results/region/encode_chipseq_flagship/summary/metadata.label.tsv \n",
      "/mount/repo/Proj_ENCODE_FCC/results/region/encode_chipseq_histone/summary/metadata.label.tsv \n",
      "/mount/repo/Proj_ENCODE_FCC/results/region/encode_chipseq_subset/summary/metadata.label.tsv \n",
      "/mount/repo/Proj_ENCODE_FCC/results/region/encode_chromatin_states/summary/metadata.label.tsv \n",
      "/mount/repo/Proj_ENCODE_FCC/results/region/encode_open_chromatin/summary/metadata.label.tsv \n",
      "/mount/repo/Proj_ENCODE_FCC/results/region/fcc_astarr_csaw/summary/metadata.label.tsv \n",
      "/mount/repo/Proj_ENCODE_FCC/results/region/fcc_astarr_macs/summary/metadata.label.tsv \n",
      "/mount/repo/Proj_ENCODE_FCC/results/region/fcc_crispri_hcrff/summary/metadata.label.tsv \n",
      "/mount/repo/Proj_ENCODE_FCC/results/region/genome_tss/summary/metadata.label.tsv \n",
      "/mount/repo/Proj_ENCODE_FCC/results/region/hic_insitu_K562_ENCSR545YBD/summary/metadata.label.tsv \n",
      "/mount/repo/Proj_ENCODE_FCC/results/region/hic_intact_K562_deep/summary/metadata.label.tsv \n",
      "/mount/repo/Proj_ENCODE_FCC/results/region/hic_intact_K562_ENCSR479XDG/summary/metadata.label.tsv \n"
     ]
    }
   ],
   "source": [
    "txt_fdiry = file.path(FD_RES, \"region\")\n",
    "txt_fname = \"metadata.label.tsv\"\n",
    "txt_fglob = file.path(txt_fdiry, \"*\", \"summary\", txt_fname)\n",
    "\n",
    "vec = Sys.glob(txt_fglob)\n",
    "for (txt in vec){cat(txt, \"\\n\")}"
   ]
  },
  {
   "cell_type": "markdown",
   "id": "5182f7c9-2388-4de2-b41b-08900ceb36ea",
   "metadata": {},
   "source": [
    "## Import data"
   ]
  },
  {
   "cell_type": "code",
   "execution_count": 4,
   "id": "0c56bf1d-02d2-40d3-976a-37819644b5f4",
   "metadata": {},
   "outputs": [
    {
     "data": {
      "text/html": [
       "<style>\n",
       ".list-inline {list-style: none; margin:0; padding: 0}\n",
       ".list-inline>li {display: inline-block}\n",
       ".list-inline>li:not(:last-child)::after {content: \"\\00b7\"; padding: 0 .5ex}\n",
       "</style>\n",
       "<ol class=list-inline><li>'/mount/repo/Proj_ENCODE_FCC/results/region/encode_chipseq_encode4/summary/metadata.label.tsv'</li><li>'/mount/repo/Proj_ENCODE_FCC/results/region/encode_chipseq_flagship/summary/metadata.label.tsv'</li><li>'/mount/repo/Proj_ENCODE_FCC/results/region/encode_chipseq_histone/summary/metadata.label.tsv'</li><li>'/mount/repo/Proj_ENCODE_FCC/results/region/encode_chipseq_subset/summary/metadata.label.tsv'</li><li>'/mount/repo/Proj_ENCODE_FCC/results/region/encode_chromatin_states/summary/metadata.label.tsv'</li><li>'/mount/repo/Proj_ENCODE_FCC/results/region/encode_open_chromatin/summary/metadata.label.tsv'</li><li>'/mount/repo/Proj_ENCODE_FCC/results/region/fcc_astarr_csaw/summary/metadata.label.tsv'</li><li>'/mount/repo/Proj_ENCODE_FCC/results/region/fcc_astarr_macs/summary/metadata.label.tsv'</li><li>'/mount/repo/Proj_ENCODE_FCC/results/region/fcc_crispri_hcrff/summary/metadata.label.tsv'</li><li>'/mount/repo/Proj_ENCODE_FCC/results/region/genome_tss/summary/metadata.label.tsv'</li><li>'/mount/repo/Proj_ENCODE_FCC/results/region/hic_insitu_K562_ENCSR545YBD/summary/metadata.label.tsv'</li><li>'/mount/repo/Proj_ENCODE_FCC/results/region/hic_intact_K562_deep/summary/metadata.label.tsv'</li><li>'/mount/repo/Proj_ENCODE_FCC/results/region/hic_intact_K562_ENCSR479XDG/summary/metadata.label.tsv'</li></ol>\n"
      ],
      "text/latex": [
       "\\begin{enumerate*}\n",
       "\\item '/mount/repo/Proj\\_ENCODE\\_FCC/results/region/encode\\_chipseq\\_encode4/summary/metadata.label.tsv'\n",
       "\\item '/mount/repo/Proj\\_ENCODE\\_FCC/results/region/encode\\_chipseq\\_flagship/summary/metadata.label.tsv'\n",
       "\\item '/mount/repo/Proj\\_ENCODE\\_FCC/results/region/encode\\_chipseq\\_histone/summary/metadata.label.tsv'\n",
       "\\item '/mount/repo/Proj\\_ENCODE\\_FCC/results/region/encode\\_chipseq\\_subset/summary/metadata.label.tsv'\n",
       "\\item '/mount/repo/Proj\\_ENCODE\\_FCC/results/region/encode\\_chromatin\\_states/summary/metadata.label.tsv'\n",
       "\\item '/mount/repo/Proj\\_ENCODE\\_FCC/results/region/encode\\_open\\_chromatin/summary/metadata.label.tsv'\n",
       "\\item '/mount/repo/Proj\\_ENCODE\\_FCC/results/region/fcc\\_astarr\\_csaw/summary/metadata.label.tsv'\n",
       "\\item '/mount/repo/Proj\\_ENCODE\\_FCC/results/region/fcc\\_astarr\\_macs/summary/metadata.label.tsv'\n",
       "\\item '/mount/repo/Proj\\_ENCODE\\_FCC/results/region/fcc\\_crispri\\_hcrff/summary/metadata.label.tsv'\n",
       "\\item '/mount/repo/Proj\\_ENCODE\\_FCC/results/region/genome\\_tss/summary/metadata.label.tsv'\n",
       "\\item '/mount/repo/Proj\\_ENCODE\\_FCC/results/region/hic\\_insitu\\_K562\\_ENCSR545YBD/summary/metadata.label.tsv'\n",
       "\\item '/mount/repo/Proj\\_ENCODE\\_FCC/results/region/hic\\_intact\\_K562\\_deep/summary/metadata.label.tsv'\n",
       "\\item '/mount/repo/Proj\\_ENCODE\\_FCC/results/region/hic\\_intact\\_K562\\_ENCSR479XDG/summary/metadata.label.tsv'\n",
       "\\end{enumerate*}\n"
      ],
      "text/markdown": [
       "1. '/mount/repo/Proj_ENCODE_FCC/results/region/encode_chipseq_encode4/summary/metadata.label.tsv'\n",
       "2. '/mount/repo/Proj_ENCODE_FCC/results/region/encode_chipseq_flagship/summary/metadata.label.tsv'\n",
       "3. '/mount/repo/Proj_ENCODE_FCC/results/region/encode_chipseq_histone/summary/metadata.label.tsv'\n",
       "4. '/mount/repo/Proj_ENCODE_FCC/results/region/encode_chipseq_subset/summary/metadata.label.tsv'\n",
       "5. '/mount/repo/Proj_ENCODE_FCC/results/region/encode_chromatin_states/summary/metadata.label.tsv'\n",
       "6. '/mount/repo/Proj_ENCODE_FCC/results/region/encode_open_chromatin/summary/metadata.label.tsv'\n",
       "7. '/mount/repo/Proj_ENCODE_FCC/results/region/fcc_astarr_csaw/summary/metadata.label.tsv'\n",
       "8. '/mount/repo/Proj_ENCODE_FCC/results/region/fcc_astarr_macs/summary/metadata.label.tsv'\n",
       "9. '/mount/repo/Proj_ENCODE_FCC/results/region/fcc_crispri_hcrff/summary/metadata.label.tsv'\n",
       "10. '/mount/repo/Proj_ENCODE_FCC/results/region/genome_tss/summary/metadata.label.tsv'\n",
       "11. '/mount/repo/Proj_ENCODE_FCC/results/region/hic_insitu_K562_ENCSR545YBD/summary/metadata.label.tsv'\n",
       "12. '/mount/repo/Proj_ENCODE_FCC/results/region/hic_intact_K562_deep/summary/metadata.label.tsv'\n",
       "13. '/mount/repo/Proj_ENCODE_FCC/results/region/hic_intact_K562_ENCSR479XDG/summary/metadata.label.tsv'\n",
       "\n",
       "\n"
      ],
      "text/plain": [
       " [1] \"/mount/repo/Proj_ENCODE_FCC/results/region/encode_chipseq_encode4/summary/metadata.label.tsv\"     \n",
       " [2] \"/mount/repo/Proj_ENCODE_FCC/results/region/encode_chipseq_flagship/summary/metadata.label.tsv\"    \n",
       " [3] \"/mount/repo/Proj_ENCODE_FCC/results/region/encode_chipseq_histone/summary/metadata.label.tsv\"     \n",
       " [4] \"/mount/repo/Proj_ENCODE_FCC/results/region/encode_chipseq_subset/summary/metadata.label.tsv\"      \n",
       " [5] \"/mount/repo/Proj_ENCODE_FCC/results/region/encode_chromatin_states/summary/metadata.label.tsv\"    \n",
       " [6] \"/mount/repo/Proj_ENCODE_FCC/results/region/encode_open_chromatin/summary/metadata.label.tsv\"      \n",
       " [7] \"/mount/repo/Proj_ENCODE_FCC/results/region/fcc_astarr_csaw/summary/metadata.label.tsv\"            \n",
       " [8] \"/mount/repo/Proj_ENCODE_FCC/results/region/fcc_astarr_macs/summary/metadata.label.tsv\"            \n",
       " [9] \"/mount/repo/Proj_ENCODE_FCC/results/region/fcc_crispri_hcrff/summary/metadata.label.tsv\"          \n",
       "[10] \"/mount/repo/Proj_ENCODE_FCC/results/region/genome_tss/summary/metadata.label.tsv\"                 \n",
       "[11] \"/mount/repo/Proj_ENCODE_FCC/results/region/hic_insitu_K562_ENCSR545YBD/summary/metadata.label.tsv\"\n",
       "[12] \"/mount/repo/Proj_ENCODE_FCC/results/region/hic_intact_K562_deep/summary/metadata.label.tsv\"       \n",
       "[13] \"/mount/repo/Proj_ENCODE_FCC/results/region/hic_intact_K562_ENCSR479XDG/summary/metadata.label.tsv\""
      ]
     },
     "metadata": {},
     "output_type": "display_data"
    }
   ],
   "source": [
    "### set directory\n",
    "txt_fdiry = file.path(FD_RES, \"region\")\n",
    "txt_fname = \"metadata.label.tsv\"\n",
    "txt_fglob = file.path(txt_fdiry, \"*\", \"summary\", txt_fname)\n",
    "\n",
    "### get file path\n",
    "vec = Sys.glob(txt_fglob)\n",
    "vec_txt_fpath = vec\n",
    "\n",
    "### read tables\n",
    "vec = vec_txt_fpath\n",
    "lst = lapply(vec, function(txt_fpath){\n",
    "    dat = read_tsv(txt_fpath, show_col_types = FALSE)\n",
    "    return(dat)\n",
    "})\n",
    "names(lst) = vec\n",
    "\n",
    "### assign and show\n",
    "lst_dat_import = lst\n",
    "names(lst)"
   ]
  },
  {
   "cell_type": "markdown",
   "id": "81ef9320-15dd-4600-b6d6-75929407668b",
   "metadata": {},
   "source": [
    "## MACS"
   ]
  },
  {
   "cell_type": "markdown",
   "id": "463ef582-27ff-4610-88e5-f81beec4d245",
   "metadata": {},
   "source": [
    "**Check**"
   ]
  },
  {
   "cell_type": "code",
   "execution_count": 5,
   "id": "791da6f9-cc5d-4807-b14f-d88dc0e8f0f2",
   "metadata": {},
   "outputs": [
    {
     "name": "stdout",
     "output_type": "stream",
     "text": [
      "[1] \"/mount/repo/Proj_ENCODE_FCC/results/region/fcc_astarr_macs/summary/metadata.label.tsv\"\n"
     ]
    }
   ],
   "source": [
    "###\n",
    "txt = \"fcc_astarr_macs\"\n",
    "\n",
    "###\n",
    "vec = vec_txt_fpath\n",
    "idx = str_detect(vec, txt)\n",
    "vec = vec[idx]\n",
    "\n",
    "print(vec)"
   ]
  },
  {
   "cell_type": "markdown",
   "id": "bcf81fb9-f8b1-4b95-96bc-f05c53e89a7e",
   "metadata": {},
   "source": [
    "**Select tables**"
   ]
  },
  {
   "cell_type": "code",
   "execution_count": 6,
   "id": "1c2c8422-36e6-4a6d-ae8c-589cee2deca5",
   "metadata": {},
   "outputs": [
    {
     "name": "stdout",
     "output_type": "stream",
     "text": [
      "[1] 2 3\n"
     ]
    },
    {
     "data": {
      "text/html": [
       "<table>\n",
       " <thead>\n",
       "  <tr>\n",
       "   <th style=\"text-align:left;\"> Folder </th>\n",
       "   <th style=\"text-align:left;\"> FName </th>\n",
       "   <th style=\"text-align:left;\"> Label </th>\n",
       "  </tr>\n",
       " </thead>\n",
       "<tbody>\n",
       "  <tr>\n",
       "   <td style=\"text-align:left;\"> fcc_astarr_macs </td>\n",
       "   <td style=\"text-align:left;\"> K562.hg38.ASTARR.macs.KS91.input.rep_all.max_overlaps.q5.bed.gz </td>\n",
       "   <td style=\"text-align:left;\"> fcc_astarr_macs_input_overlap </td>\n",
       "  </tr>\n",
       "  <tr>\n",
       "   <td style=\"text-align:left;\"> fcc_astarr_macs </td>\n",
       "   <td style=\"text-align:left;\"> K562.hg38.ASTARR.macs.KS91.input.rep_all.union.q5.bed.gz </td>\n",
       "   <td style=\"text-align:left;\"> fcc_astarr_macs_input_union </td>\n",
       "  </tr>\n",
       "</tbody>\n",
       "</table>"
      ]
     },
     "metadata": {},
     "output_type": "display_data"
    }
   ],
   "source": [
    "###\n",
    "txt = \"fcc_astarr_macs\"\n",
    "\n",
    "###\n",
    "vec = vec_txt_fpath\n",
    "idx = str_detect(vec, txt)\n",
    "vec = vec[idx]\n",
    "\n",
    "### read tables\n",
    "lst = lst_dat_import\n",
    "lst = lst[vec]\n",
    "dat = bind_rows(lst)\n",
    "\n",
    "### assign and show\n",
    "dat_label_region = dat\n",
    "print(dim(dat))\n",
    "fun_display_table(dat)"
   ]
  },
  {
   "cell_type": "markdown",
   "id": "a6adf502-3304-42eb-a0f2-95335e4e183e",
   "metadata": {},
   "source": [
    "**Save results**"
   ]
  },
  {
   "cell_type": "code",
   "execution_count": 7,
   "id": "5d74b748-5ce4-451e-9264-e045cdfb1b61",
   "metadata": {},
   "outputs": [],
   "source": [
    "### set path\n",
    "txt_fdiry = file.path(FD_RES, \"region\", \"summary\")\n",
    "txt_fname = \"metadata.label.astarr_macs.tsv\"\n",
    "txt_fpath = file.path(txt_fdiry, txt_fname)\n",
    "\n",
    "### write table\n",
    "dat = dat_label_region\n",
    "write_tsv(dat, txt_fpath)"
   ]
  },
  {
   "cell_type": "markdown",
   "id": "881f2a5d-2773-4c94-a4f0-b59613142161",
   "metadata": {},
   "source": [
    "## OCR"
   ]
  },
  {
   "cell_type": "markdown",
   "id": "5ea7ee97-c806-437b-8392-7455e7589825",
   "metadata": {},
   "source": [
    "**Check**"
   ]
  },
  {
   "cell_type": "code",
   "execution_count": 8,
   "id": "8c04cae3-b85b-4629-bbb9-d7cf56492901",
   "metadata": {},
   "outputs": [
    {
     "name": "stdout",
     "output_type": "stream",
     "text": [
      "[1] \"/mount/repo/Proj_ENCODE_FCC/results/region/encode_open_chromatin/summary/metadata.label.tsv\"\n",
      "[2] \"/mount/repo/Proj_ENCODE_FCC/results/region/fcc_astarr_macs/summary/metadata.label.tsv\"      \n"
     ]
    }
   ],
   "source": [
    "###\n",
    "vec = c(\n",
    "    \"fcc_astarr_macs\", \n",
    "    \"encode_open_chromatin\"\n",
    ")\n",
    "txt = paste(vec, collapse = \"|\")\n",
    "\n",
    "###\n",
    "vec = vec_txt_fpath\n",
    "idx = str_detect(vec, txt)\n",
    "vec = vec[idx]\n",
    "\n",
    "print(vec)"
   ]
  },
  {
   "cell_type": "markdown",
   "id": "f000dd6d-5434-4e99-9e55-e9b946283855",
   "metadata": {},
   "source": [
    "**Select tables**"
   ]
  },
  {
   "cell_type": "code",
   "execution_count": 9,
   "id": "6d81fbf4-c61f-4944-95cc-fbd1dd6a4030",
   "metadata": {},
   "outputs": [
    {
     "name": "stdout",
     "output_type": "stream",
     "text": [
      "[1] 8 3\n"
     ]
    },
    {
     "data": {
      "text/html": [
       "<table>\n",
       " <thead>\n",
       "  <tr>\n",
       "   <th style=\"text-align:left;\"> Folder </th>\n",
       "   <th style=\"text-align:left;\"> FName </th>\n",
       "   <th style=\"text-align:left;\"> Label </th>\n",
       "  </tr>\n",
       " </thead>\n",
       "<tbody>\n",
       "  <tr>\n",
       "   <td style=\"text-align:left;\"> encode_open_chromatin </td>\n",
       "   <td style=\"text-align:left;\"> K562.hg38.ENCSR000EKS.ENCFF274YGF.DNase.bed.gz </td>\n",
       "   <td style=\"text-align:left;\"> dnase_ENCFF274YGF </td>\n",
       "  </tr>\n",
       "  <tr>\n",
       "   <td style=\"text-align:left;\"> encode_open_chromatin </td>\n",
       "   <td style=\"text-align:left;\"> K562.hg38.ENCSR000EOT.ENCFF185XRG.DNase.bed.gz </td>\n",
       "   <td style=\"text-align:left;\"> dnase_ENCFF185XRG </td>\n",
       "  </tr>\n",
       "  <tr>\n",
       "   <td style=\"text-align:left;\"> encode_open_chromatin </td>\n",
       "   <td style=\"text-align:left;\"> K562.hg38.ENCSR483RKN.ENCFF558BLC.ATAC.bed.gz </td>\n",
       "   <td style=\"text-align:left;\"> atac_ENCFF558BLC </td>\n",
       "  </tr>\n",
       "  <tr>\n",
       "   <td style=\"text-align:left;\"> encode_open_chromatin </td>\n",
       "   <td style=\"text-align:left;\"> K562.hg38.ENCSR483RKN.ENCFF925CYR.ATAC.bed.gz </td>\n",
       "   <td style=\"text-align:left;\"> atac_ENCFF925CYR </td>\n",
       "  </tr>\n",
       "  <tr>\n",
       "   <td style=\"text-align:left;\"> encode_open_chromatin </td>\n",
       "   <td style=\"text-align:left;\"> K562.hg38.ENCSR868FGK.ENCFF333TAT.ATAC.bed.gz </td>\n",
       "   <td style=\"text-align:left;\"> atac_ENCFF333TAT </td>\n",
       "  </tr>\n",
       "  <tr>\n",
       "   <td style=\"text-align:left;\"> encode_open_chromatin </td>\n",
       "   <td style=\"text-align:left;\"> K562.hg38.ENCSR868FGK.ENCFF948AFM.ATAC.bed.gz </td>\n",
       "   <td style=\"text-align:left;\"> atac_ENCFF948AFM </td>\n",
       "  </tr>\n",
       "  <tr>\n",
       "   <td style=\"text-align:left;\"> fcc_astarr_macs </td>\n",
       "   <td style=\"text-align:left;\"> K562.hg38.ASTARR.macs.KS91.input.rep_all.max_overlaps.q5.bed.gz </td>\n",
       "   <td style=\"text-align:left;\"> fcc_astarr_macs_input_overlap </td>\n",
       "  </tr>\n",
       "  <tr>\n",
       "   <td style=\"text-align:left;\"> fcc_astarr_macs </td>\n",
       "   <td style=\"text-align:left;\"> K562.hg38.ASTARR.macs.KS91.input.rep_all.union.q5.bed.gz </td>\n",
       "   <td style=\"text-align:left;\"> fcc_astarr_macs_input_union </td>\n",
       "  </tr>\n",
       "</tbody>\n",
       "</table>"
      ]
     },
     "metadata": {},
     "output_type": "display_data"
    }
   ],
   "source": [
    "###\n",
    "vec = c(\n",
    "    \"fcc_astarr_macs\", \n",
    "    \"encode_open_chromatin\"\n",
    ")\n",
    "txt = paste(vec, collapse = \"|\")\n",
    "\n",
    "###\n",
    "vec = vec_txt_fpath\n",
    "idx = str_detect(vec, txt)\n",
    "vec = vec[idx]\n",
    "\n",
    "### read tables\n",
    "lst = lst_dat_import\n",
    "lst = lst[vec]\n",
    "dat = bind_rows(lst)\n",
    "\n",
    "### assign and show\n",
    "dat_label_region = dat\n",
    "print(dim(dat))\n",
    "fun_display_table(dat)"
   ]
  },
  {
   "cell_type": "markdown",
   "id": "e638bc47-cfe3-418e-9fa1-68e0c0533665",
   "metadata": {},
   "source": [
    "**Save results**"
   ]
  },
  {
   "cell_type": "code",
   "execution_count": 10,
   "id": "f15d5ff6-7b05-4889-a0ba-39e22760bd8e",
   "metadata": {},
   "outputs": [],
   "source": [
    "### set path\n",
    "txt_fdiry = file.path(FD_RES, \"region\", \"summary\")\n",
    "txt_fname = \"metadata.label.ocr.tsv\"\n",
    "txt_fpath = file.path(txt_fdiry, txt_fname)\n",
    "\n",
    "### write table\n",
    "dat = dat_label_region\n",
    "write_tsv(dat, txt_fpath)"
   ]
  },
  {
   "cell_type": "markdown",
   "id": "9ef69874-7dea-49ee-aa95-768f0c222220",
   "metadata": {},
   "source": [
    "## Main"
   ]
  },
  {
   "cell_type": "code",
   "execution_count": 23,
   "id": "ce41aec4-b0e3-4423-a76b-897dcccc2c64",
   "metadata": {},
   "outputs": [
    {
     "name": "stdout",
     "output_type": "stream",
     "text": [
      "[1] 44  3\n",
      "\n",
      "      encode_chipseq_subset     encode_chromatin_states \n",
      "                         21                           4 \n",
      "      encode_open_chromatin             fcc_astarr_csaw \n",
      "                          6                           2 \n",
      "          fcc_crispri_hcrff                  genome_tss \n",
      "                          1                           2 \n",
      "hic_insitu_K562_ENCSR545YBD        hic_intact_K562_deep \n",
      "                          3                           2 \n",
      "hic_intact_K562_ENCSR479XDG \n",
      "                          3 \n"
     ]
    },
    {
     "data": {
      "text/html": [
       "<table>\n",
       " <thead>\n",
       "  <tr>\n",
       "   <th style=\"text-align:left;\"> Folder </th>\n",
       "   <th style=\"text-align:left;\"> FName </th>\n",
       "   <th style=\"text-align:left;\"> Label </th>\n",
       "  </tr>\n",
       " </thead>\n",
       "<tbody>\n",
       "  <tr>\n",
       "   <td style=\"text-align:left;\"> encode_chipseq_subset </td>\n",
       "   <td style=\"text-align:left;\"> K562.hg38.ENCSR000AKP.ENCFF544LXB.ChIPseq.H3K27ac.bed.gz </td>\n",
       "   <td style=\"text-align:left;\"> encode_chipseq_H3K27ac_ENCFF544LXB </td>\n",
       "  </tr>\n",
       "  <tr>\n",
       "   <td style=\"text-align:left;\"> encode_chipseq_subset </td>\n",
       "   <td style=\"text-align:left;\"> K562.hg38.ENCSR000AKQ.ENCFF323WOT.ChIPseq.H3K27me3.bed.gz </td>\n",
       "   <td style=\"text-align:left;\"> encode_chipseq_H3K27me3_ENCFF323WOT </td>\n",
       "  </tr>\n",
       "  <tr>\n",
       "   <td style=\"text-align:left;\"> encode_chipseq_subset </td>\n",
       "   <td style=\"text-align:left;\"> K562.hg38.ENCSR000AKS.ENCFF135ZLM.ChIPseq.H3K4me1.bed.gz </td>\n",
       "   <td style=\"text-align:left;\"> encode_chipseq_H3K4me1_ENCFF135ZLM </td>\n",
       "  </tr>\n",
       "  <tr>\n",
       "   <td style=\"text-align:left;\"> encode_chipseq_subset </td>\n",
       "   <td style=\"text-align:left;\"> K562.hg38.ENCSR000AKT.ENCFF749KLQ.ChIPseq.H3K4me2.bed.gz </td>\n",
       "   <td style=\"text-align:left;\"> encode_chipseq_H3K4me2_ENCFF749KLQ </td>\n",
       "  </tr>\n",
       "  <tr>\n",
       "   <td style=\"text-align:left;\"> encode_chipseq_subset </td>\n",
       "   <td style=\"text-align:left;\"> K562.hg38.ENCSR000BMH.ENCFF398UQZ.ChIPseq.YY1.bed.gz </td>\n",
       "   <td style=\"text-align:left;\"> encode_chipseq_YY1_ENCFF398UQZ </td>\n",
       "  </tr>\n",
       "  <tr>\n",
       "   <td style=\"text-align:left;\"> encode_chipseq_subset </td>\n",
       "   <td style=\"text-align:left;\"> K562.hg38.ENCSR000BMW.ENCFF707MDI.ChIPseq.REST.bed.gz </td>\n",
       "   <td style=\"text-align:left;\"> encode_chipseq_REST_ENCFF707MDI </td>\n",
       "  </tr>\n",
       "  <tr>\n",
       "   <td style=\"text-align:left;\"> encode_chipseq_subset </td>\n",
       "   <td style=\"text-align:left;\"> K562.hg38.ENCSR000EFS.ENCFF190CGV.ChIPseq.JUN.bed.gz </td>\n",
       "   <td style=\"text-align:left;\"> encode_chipseq_JUN_ENCFF190CGV </td>\n",
       "  </tr>\n",
       "  <tr>\n",
       "   <td style=\"text-align:left;\"> encode_chipseq_subset </td>\n",
       "   <td style=\"text-align:left;\"> K562.hg38.ENCSR000EFT.ENCFF657CTC.ChIPseq.GATA1.bed.gz </td>\n",
       "   <td style=\"text-align:left;\"> encode_chipseq_GATA1_ENCFF657CTC </td>\n",
       "  </tr>\n",
       "  <tr>\n",
       "   <td style=\"text-align:left;\"> encode_chipseq_subset </td>\n",
       "   <td style=\"text-align:left;\"> K562.hg38.ENCSR000EFU.ENCFF715WGN.ChIPseq.ELK1.bed.gz </td>\n",
       "   <td style=\"text-align:left;\"> encode_chipseq_ELK1_ENCFF715WGN </td>\n",
       "  </tr>\n",
       "  <tr>\n",
       "   <td style=\"text-align:left;\"> encode_chipseq_subset </td>\n",
       "   <td style=\"text-align:left;\"> K562.hg38.ENCSR000EGE.ENCFF702XPO.ChIPseq.EP300.bed.gz </td>\n",
       "   <td style=\"text-align:left;\"> encode_chipseq_EP300_ENCFF702XPO </td>\n",
       "  </tr>\n",
       "  <tr>\n",
       "   <td style=\"text-align:left;\"> encode_chipseq_subset </td>\n",
       "   <td style=\"text-align:left;\"> K562.hg38.ENCSR000EGM.ENCFF660GHM.ChIPseq.CTCF.bed.gz </td>\n",
       "   <td style=\"text-align:left;\"> encode_chipseq_CTCF_ENCFF660GHM </td>\n",
       "  </tr>\n",
       "  <tr>\n",
       "   <td style=\"text-align:left;\"> encode_chipseq_subset </td>\n",
       "   <td style=\"text-align:left;\"> K562.hg38.ENCSR000EHB.ENCFF852ZRK.ChIPseq.TAL1.bed.gz </td>\n",
       "   <td style=\"text-align:left;\"> encode_chipseq_TAL1_ENCFF852ZRK </td>\n",
       "  </tr>\n",
       "  <tr>\n",
       "   <td style=\"text-align:left;\"> encode_chipseq_subset </td>\n",
       "   <td style=\"text-align:left;\"> K562.hg38.ENCSR004GKA.ENCFF242AOL.ChIPseq.ZEB2.bed.gz </td>\n",
       "   <td style=\"text-align:left;\"> encode_chipseq_ZEB2_ENCFF242AOL </td>\n",
       "  </tr>\n",
       "  <tr>\n",
       "   <td style=\"text-align:left;\"> encode_chipseq_subset </td>\n",
       "   <td style=\"text-align:left;\"> K562.hg38.ENCSR091GVJ.ENCFF627RSK.ChIPseq.ATF1.bed.gz </td>\n",
       "   <td style=\"text-align:left;\"> encode_chipseq_ATF1_ENCFF627RSK </td>\n",
       "  </tr>\n",
       "  <tr>\n",
       "   <td style=\"text-align:left;\"> encode_chipseq_subset </td>\n",
       "   <td style=\"text-align:left;\"> K562.hg38.ENCSR121SPB.ENCFF142ZTD.ChIPseq.KLF10.bed.gz </td>\n",
       "   <td style=\"text-align:left;\"> encode_chipseq_KLF10_ENCFF142ZTD </td>\n",
       "  </tr>\n",
       "  <tr>\n",
       "   <td style=\"text-align:left;\"> encode_chipseq_subset </td>\n",
       "   <td style=\"text-align:left;\"> K562.hg38.ENCSR388QZF.ENCFF355MNE.ChIPseq.POLR2A.bed.gz </td>\n",
       "   <td style=\"text-align:left;\"> encode_chipseq_POLR2A_ENCFF355MNE </td>\n",
       "  </tr>\n",
       "  <tr>\n",
       "   <td style=\"text-align:left;\"> encode_chipseq_subset </td>\n",
       "   <td style=\"text-align:left;\"> K562.hg38.ENCSR552YGL.ENCFF023IFO.ChIPseq.NFE2.bed.gz </td>\n",
       "   <td style=\"text-align:left;\"> encode_chipseq_NFE2_ENCFF023IFO </td>\n",
       "  </tr>\n",
       "  <tr>\n",
       "   <td style=\"text-align:left;\"> encode_chipseq_subset </td>\n",
       "   <td style=\"text-align:left;\"> K562.hg38.ENCSR668LDD.ENCFF885FQN.ChIPseq.H3K4me3.bed.gz </td>\n",
       "   <td style=\"text-align:left;\"> encode_chipseq_H3K4me3_ENCFF885FQN </td>\n",
       "  </tr>\n",
       "  <tr>\n",
       "   <td style=\"text-align:left;\"> encode_chipseq_subset </td>\n",
       "   <td style=\"text-align:left;\"> K562.hg38.ENCSR760UVO.ENCFF488OTN.ChIPseq.KLF16.bed.gz </td>\n",
       "   <td style=\"text-align:left;\"> encode_chipseq_KLF16_ENCFF488OTN </td>\n",
       "  </tr>\n",
       "  <tr>\n",
       "   <td style=\"text-align:left;\"> encode_chipseq_subset </td>\n",
       "   <td style=\"text-align:left;\"> K562.hg38.ENCSR991ELG.ENCFF553GPK.ChIPseq.SP1.bed.gz </td>\n",
       "   <td style=\"text-align:left;\"> encode_chipseq_SP1_ENCFF553GPK </td>\n",
       "  </tr>\n",
       "  <tr>\n",
       "   <td style=\"text-align:left;\"> encode_chipseq_subset </td>\n",
       "   <td style=\"text-align:left;\"> K562.hg38.ENCSR998AJK.ENCFF777PKJ.ChIPseq.NRF1.bed.gz </td>\n",
       "   <td style=\"text-align:left;\"> encode_chipseq_NRF1_ENCFF777PKJ </td>\n",
       "  </tr>\n",
       "  <tr>\n",
       "   <td style=\"text-align:left;\"> encode_chromatin_states </td>\n",
       "   <td style=\"text-align:left;\"> K562.hg38.cCREs.silencer_rest.bed.gz </td>\n",
       "   <td style=\"text-align:left;\"> encode_ccres_silencer_rest </td>\n",
       "  </tr>\n",
       "  <tr>\n",
       "   <td style=\"text-align:left;\"> encode_chromatin_states </td>\n",
       "   <td style=\"text-align:left;\"> K562.hg38.cCREs.silencer_starr.bed.gz </td>\n",
       "   <td style=\"text-align:left;\"> encode_ccres_silencer_starr </td>\n",
       "  </tr>\n",
       "  <tr>\n",
       "   <td style=\"text-align:left;\"> encode_chromatin_states </td>\n",
       "   <td style=\"text-align:left;\"> K562.hg38.ENCSR365YNI.ENCFF106BGJ.ChromHMM.simplified.bed.gz </td>\n",
       "   <td style=\"text-align:left;\"> encode_chromhmm_ENCFF106BGJ </td>\n",
       "  </tr>\n",
       "  <tr>\n",
       "   <td style=\"text-align:left;\"> encode_chromatin_states </td>\n",
       "   <td style=\"text-align:left;\"> K562.hg38.ENCSR913HQX.ENCFF286VQG.cCREs.simplified.bed.gz </td>\n",
       "   <td style=\"text-align:left;\"> encode_ccres_ENCFF286VQG </td>\n",
       "  </tr>\n",
       "  <tr>\n",
       "   <td style=\"text-align:left;\"> encode_open_chromatin </td>\n",
       "   <td style=\"text-align:left;\"> K562.hg38.ENCSR000EKS.ENCFF274YGF.DNase.bed.gz </td>\n",
       "   <td style=\"text-align:left;\"> dnase_ENCFF274YGF </td>\n",
       "  </tr>\n",
       "  <tr>\n",
       "   <td style=\"text-align:left;\"> encode_open_chromatin </td>\n",
       "   <td style=\"text-align:left;\"> K562.hg38.ENCSR000EOT.ENCFF185XRG.DNase.bed.gz </td>\n",
       "   <td style=\"text-align:left;\"> dnase_ENCFF185XRG </td>\n",
       "  </tr>\n",
       "  <tr>\n",
       "   <td style=\"text-align:left;\"> encode_open_chromatin </td>\n",
       "   <td style=\"text-align:left;\"> K562.hg38.ENCSR483RKN.ENCFF558BLC.ATAC.bed.gz </td>\n",
       "   <td style=\"text-align:left;\"> atac_ENCFF558BLC </td>\n",
       "  </tr>\n",
       "  <tr>\n",
       "   <td style=\"text-align:left;\"> encode_open_chromatin </td>\n",
       "   <td style=\"text-align:left;\"> K562.hg38.ENCSR483RKN.ENCFF925CYR.ATAC.bed.gz </td>\n",
       "   <td style=\"text-align:left;\"> atac_ENCFF925CYR </td>\n",
       "  </tr>\n",
       "  <tr>\n",
       "   <td style=\"text-align:left;\"> encode_open_chromatin </td>\n",
       "   <td style=\"text-align:left;\"> K562.hg38.ENCSR868FGK.ENCFF333TAT.ATAC.bed.gz </td>\n",
       "   <td style=\"text-align:left;\"> atac_ENCFF333TAT </td>\n",
       "  </tr>\n",
       "  <tr>\n",
       "   <td style=\"text-align:left;\"> encode_open_chromatin </td>\n",
       "   <td style=\"text-align:left;\"> K562.hg38.ENCSR868FGK.ENCFF948AFM.ATAC.bed.gz </td>\n",
       "   <td style=\"text-align:left;\"> atac_ENCFF948AFM </td>\n",
       "  </tr>\n",
       "  <tr>\n",
       "   <td style=\"text-align:left;\"> fcc_astarr_csaw </td>\n",
       "   <td style=\"text-align:left;\"> K562.hg38.ASTARR.csaw.KS91.bed.gz </td>\n",
       "   <td style=\"text-align:left;\"> fcc_astarr_csaw_KS91 </td>\n",
       "  </tr>\n",
       "  <tr>\n",
       "   <td style=\"text-align:left;\"> fcc_astarr_csaw </td>\n",
       "   <td style=\"text-align:left;\"> K562.hg38.ASTARR.csaw.KSMerge.bed.gz </td>\n",
       "   <td style=\"text-align:left;\"> fcc_astarr_csaw_KSMerge </td>\n",
       "  </tr>\n",
       "  <tr>\n",
       "   <td style=\"text-align:left;\"> fcc_crispri_hcrff </td>\n",
       "   <td style=\"text-align:left;\"> K562.hg38.CRISPRi_HCRFF.CASA.bed.gz </td>\n",
       "   <td style=\"text-align:left;\"> fcc_crispri_hcrff_casa </td>\n",
       "  </tr>\n",
       "  <tr>\n",
       "   <td style=\"text-align:left;\"> genome_tss </td>\n",
       "   <td style=\"text-align:left;\"> K562.hg38.TSS.selected_by_highest_Pol2_signal.bed.gz </td>\n",
       "   <td style=\"text-align:left;\"> genome_tss_pol2 </td>\n",
       "  </tr>\n",
       "  <tr>\n",
       "   <td style=\"text-align:left;\"> genome_tss </td>\n",
       "   <td style=\"text-align:left;\"> K562.hg38.TSS.selected_by_highest_Pol2_signal.filtered_by_RNAseq_TPM.bed.gz </td>\n",
       "   <td style=\"text-align:left;\"> genome_tss_pol2_rnaseq </td>\n",
       "  </tr>\n",
       "  <tr>\n",
       "   <td style=\"text-align:left;\"> hic_insitu_K562_ENCSR545YBD </td>\n",
       "   <td style=\"text-align:left;\"> K562.hg38.hic_insitu.Loop_A.bed.gz </td>\n",
       "   <td style=\"text-align:left;\"> hic_insitu_Loop_A_ENCSR545YBD </td>\n",
       "  </tr>\n",
       "  <tr>\n",
       "   <td style=\"text-align:left;\"> hic_insitu_K562_ENCSR545YBD </td>\n",
       "   <td style=\"text-align:left;\"> K562.hg38.hic_insitu.Loop_B.bed.gz </td>\n",
       "   <td style=\"text-align:left;\"> hic_insitu_Loop_B_ENCSR545YBD </td>\n",
       "  </tr>\n",
       "  <tr>\n",
       "   <td style=\"text-align:left;\"> hic_insitu_K562_ENCSR545YBD </td>\n",
       "   <td style=\"text-align:left;\"> K562.hg38.hic_insitu.TAD.bedpe.gz </td>\n",
       "   <td style=\"text-align:left;\"> hic_insitu_TAD_ENCSR545YBD </td>\n",
       "  </tr>\n",
       "  <tr>\n",
       "   <td style=\"text-align:left;\"> hic_intact_K562_deep </td>\n",
       "   <td style=\"text-align:left;\"> K562.hg38.hic_intact.Loop_A.bed.gz </td>\n",
       "   <td style=\"text-align:left;\"> hic_intact_Loop_A_deep </td>\n",
       "  </tr>\n",
       "  <tr>\n",
       "   <td style=\"text-align:left;\"> hic_intact_K562_deep </td>\n",
       "   <td style=\"text-align:left;\"> K562.hg38.hic_intact.Loop_B.bed.gz </td>\n",
       "   <td style=\"text-align:left;\"> hic_intact_Loop_B_deep </td>\n",
       "  </tr>\n",
       "  <tr>\n",
       "   <td style=\"text-align:left;\"> hic_intact_K562_ENCSR479XDG </td>\n",
       "   <td style=\"text-align:left;\"> K562.hg38.hic_intact.Loop_A.bed.gz </td>\n",
       "   <td style=\"text-align:left;\"> hic_intact_Loop_A_ENCSR479XDG </td>\n",
       "  </tr>\n",
       "  <tr>\n",
       "   <td style=\"text-align:left;\"> hic_intact_K562_ENCSR479XDG </td>\n",
       "   <td style=\"text-align:left;\"> K562.hg38.hic_intact.Loop_B.bed.gz </td>\n",
       "   <td style=\"text-align:left;\"> hic_intact_Loop_B_ENCSR479XDG </td>\n",
       "  </tr>\n",
       "  <tr>\n",
       "   <td style=\"text-align:left;\"> hic_intact_K562_ENCSR479XDG </td>\n",
       "   <td style=\"text-align:left;\"> K562.hg38.hic_intact.TAD.bedpe.gz </td>\n",
       "   <td style=\"text-align:left;\"> hic_intact_TAD_ENCSR479XDG </td>\n",
       "  </tr>\n",
       "</tbody>\n",
       "</table>"
      ]
     },
     "metadata": {},
     "output_type": "display_data"
    }
   ],
   "source": [
    "###\n",
    "vec = c(\n",
    "    \"fcc_astarr_macs\", \n",
    "    \"encode_chipseq_histone\",\n",
    "    \"encode_chipseq_encode4\",\n",
    "    \"encode_chipseq_flagship\"\n",
    ")\n",
    "txt = paste(vec, collapse = \"|\")\n",
    "\n",
    "###\n",
    "vec = vec_txt_fpath\n",
    "idx = str_detect(vec, txt)\n",
    "vec = vec[!idx]\n",
    "\n",
    "### read tables\n",
    "lst = lapply(vec, function(txt_fpath){\n",
    "    dat = read_tsv(txt_fpath, show_col_types = FALSE)\n",
    "    return(dat)\n",
    "})\n",
    "dat = bind_rows(lst)\n",
    "\n",
    "### assign and show\n",
    "dat_label_region = dat\n",
    "print(dim(dat))\n",
    "print(table(dat$Folder))\n",
    "fun_display_table(dat)"
   ]
  },
  {
   "cell_type": "markdown",
   "id": "f0ac20da-b3b5-4045-8eaa-6210fc5f5df9",
   "metadata": {},
   "source": [
    "**Save results**"
   ]
  },
  {
   "cell_type": "code",
   "execution_count": 24,
   "id": "b30d8496-12bc-49d1-ac61-567fa5090d65",
   "metadata": {},
   "outputs": [],
   "source": [
    "### set path\n",
    "txt_fdiry = file.path(FD_RES, \"region\", \"summary\")\n",
    "txt_fname = \"metadata.label.main.tsv\"\n",
    "txt_fpath = file.path(txt_fdiry, txt_fname)\n",
    "\n",
    "### write table\n",
    "dat = dat_label_region\n",
    "write_tsv(dat, txt_fpath)"
   ]
  },
  {
   "cell_type": "markdown",
   "id": "5334ea0d-1290-46f1-bd0e-68b5d390eda0",
   "metadata": {},
   "source": [
    "## ChIP-seq"
   ]
  },
  {
   "cell_type": "code",
   "execution_count": 25,
   "id": "b16b8ad1-50ab-48fb-a21e-2f6d569e9a10",
   "metadata": {},
   "outputs": [
    {
     "name": "stdout",
     "output_type": "stream",
     "text": [
      "[1] 256   3\n"
     ]
    },
    {
     "data": {
      "text/html": [
       "<table>\n",
       " <thead>\n",
       "  <tr>\n",
       "   <th style=\"text-align:left;\"> Folder </th>\n",
       "   <th style=\"text-align:left;\"> FName </th>\n",
       "   <th style=\"text-align:left;\"> Label </th>\n",
       "  </tr>\n",
       " </thead>\n",
       "<tbody>\n",
       "  <tr>\n",
       "   <td style=\"text-align:left;\"> encode_chipseq_encode4 </td>\n",
       "   <td style=\"text-align:left;\"> ENCFF124KCE.bed.gz </td>\n",
       "   <td style=\"text-align:left;\"> chipseq_ZBTB43_ENCFF124KCE </td>\n",
       "  </tr>\n",
       "  <tr>\n",
       "   <td style=\"text-align:left;\"> encode_chipseq_encode4 </td>\n",
       "   <td style=\"text-align:left;\"> ENCFF173QUY.bed.gz </td>\n",
       "   <td style=\"text-align:left;\"> chipseq_E2F5_ENCFF173QUY </td>\n",
       "  </tr>\n",
       "  <tr>\n",
       "   <td style=\"text-align:left;\"> encode_chipseq_encode4 </td>\n",
       "   <td style=\"text-align:left;\"> ENCFF442RYH.bed.gz </td>\n",
       "   <td style=\"text-align:left;\"> chipseq_ZNF431_ENCFF442RYH </td>\n",
       "  </tr>\n",
       "  <tr>\n",
       "   <td style=\"text-align:left;\"> encode_chipseq_encode4 </td>\n",
       "   <td style=\"text-align:left;\"> ENCFF817EJA.bed.gz </td>\n",
       "   <td style=\"text-align:left;\"> chipseq_ZNF512_ENCFF817EJA </td>\n",
       "  </tr>\n",
       "  <tr>\n",
       "   <td style=\"text-align:left;\"> encode_chipseq_encode4 </td>\n",
       "   <td style=\"text-align:left;\"> ENCFF430YXJ.bed.gz </td>\n",
       "   <td style=\"text-align:left;\"> chipseq_IRF2_ENCFF430YXJ </td>\n",
       "  </tr>\n",
       "  <tr>\n",
       "   <td style=\"text-align:left;\"> encode_chipseq_encode4 </td>\n",
       "   <td style=\"text-align:left;\"> ENCFF881MMD.bed.gz </td>\n",
       "   <td style=\"text-align:left;\"> chipseq_ZNF124_ENCFF881MMD </td>\n",
       "  </tr>\n",
       "</tbody>\n",
       "</table>"
      ]
     },
     "metadata": {},
     "output_type": "display_data"
    }
   ],
   "source": [
    "###\n",
    "vec = c(\n",
    "    \"encode_chipseq_histone\",\n",
    "    \"encode_chipseq_encode4\"\n",
    "    #\"encode_chipseq_flagship\"\n",
    ")\n",
    "txt = paste(vec, collapse = \"|\")\n",
    "\n",
    "###\n",
    "vec = vec_txt_fpath\n",
    "idx = str_detect(vec, txt)\n",
    "vec = vec[idx]\n",
    "\n",
    "### read tables\n",
    "lst = lapply(vec, function(txt_fpath){\n",
    "    dat = read_tsv(txt_fpath, show_col_types = FALSE)\n",
    "    return(dat)\n",
    "})\n",
    "dat = bind_rows(lst)\n",
    "\n",
    "### assign and show\n",
    "dat_label_region = dat\n",
    "print(dim(dat))\n",
    "fun_display_table(head(dat))"
   ]
  },
  {
   "cell_type": "markdown",
   "id": "fede0a42-a2a9-445c-8390-2ab7cb21ea5c",
   "metadata": {},
   "source": [
    "**Save results**"
   ]
  },
  {
   "cell_type": "code",
   "execution_count": 26,
   "id": "d70ea3ed-9cbd-4154-93b5-26694e00b798",
   "metadata": {},
   "outputs": [],
   "source": [
    "### set path\n",
    "txt_fdiry = file.path(FD_RES, \"region\", \"summary\")\n",
    "txt_fname = \"metadata.label.chipseq_full.tsv\"\n",
    "txt_fpath = file.path(txt_fdiry, txt_fname)\n",
    "\n",
    "### write table\n",
    "dat = dat_label_region\n",
    "write_tsv(dat, txt_fpath)"
   ]
  },
  {
   "cell_type": "code",
   "execution_count": null,
   "id": "5e3d9b34-7c7c-47fd-a9b7-dedcc95074bc",
   "metadata": {},
   "outputs": [],
   "source": []
  },
  {
   "cell_type": "code",
   "execution_count": null,
   "id": "13f498b9-2ba0-4664-8361-c10730163d1b",
   "metadata": {},
   "outputs": [],
   "source": []
  },
  {
   "cell_type": "code",
   "execution_count": null,
   "id": "3e0c3ecf-2a27-4fc6-b098-9e0f9fb9ac6e",
   "metadata": {},
   "outputs": [],
   "source": []
  },
  {
   "cell_type": "code",
   "execution_count": null,
   "id": "f4f8da7c-dd97-4286-a9be-86cf71078530",
   "metadata": {},
   "outputs": [],
   "source": []
  },
  {
   "cell_type": "code",
   "execution_count": null,
   "id": "66483839-60ec-41ef-b614-95fba13feb28",
   "metadata": {},
   "outputs": [],
   "source": [
    "###\n",
    "vec = c(\n",
    "    \"encode_chipseq_histone\",\n",
    "    \"encode_chipseq_flagship\"\n",
    ")\n",
    "txt = paste(vec, collapse = \"|\")\n",
    "\n",
    "###\n",
    "vec = vec_txt_fpath\n",
    "idx = str_detect(vec, txt)\n",
    "vec = vec[idx]\n",
    "\n",
    "### read tables\n",
    "lst = lapply(vec, function(txt_fpath){\n",
    "    dat = read_tsv(txt_fpath, show_col_types = FALSE)\n",
    "    return(dat)\n",
    "})\n",
    "dat = bind_rows(lst)\n",
    "\n",
    "### assign and show\n",
    "dat_label_region = dat\n",
    "print(dim(dat))\n",
    "fun_display_table(head(dat))"
   ]
  },
  {
   "cell_type": "code",
   "execution_count": null,
   "id": "c6021b25-9777-4a23-bc94-01d3495e666f",
   "metadata": {},
   "outputs": [],
   "source": []
  },
  {
   "cell_type": "code",
   "execution_count": null,
   "id": "7dc785da-0341-4aa1-b8e7-811668c8fbc4",
   "metadata": {},
   "outputs": [],
   "source": []
  },
  {
   "cell_type": "code",
   "execution_count": null,
   "id": "c42f85d4-8582-46f0-98e5-24d384a6ab77",
   "metadata": {},
   "outputs": [],
   "source": []
  },
  {
   "cell_type": "code",
   "execution_count": null,
   "id": "bb049e53-6eda-47c9-9277-744f19a2cd34",
   "metadata": {},
   "outputs": [],
   "source": []
  },
  {
   "cell_type": "code",
   "execution_count": null,
   "id": "4f255ad0-0828-43b4-aaef-4a78cbe7112c",
   "metadata": {},
   "outputs": [],
   "source": []
  },
  {
   "cell_type": "code",
   "execution_count": 4,
   "id": "408334e7-0f74-4666-adb2-d686c6db3f3d",
   "metadata": {},
   "outputs": [],
   "source": [
    "### set directory\n",
    "txt_fdiry = file.path(FD_RES, \"region\")\n",
    "txt_fname = \"metadata.label.tsv\"\n",
    "txt_fglob = file.path(txt_fdiry, \"*\", \"summary\", txt_fname)\n",
    "\n",
    "### get file path\n",
    "vec = Sys.glob(txt_fglob)\n",
    "vec_txt_fpath = vec\n",
    "\n",
    "### file path for region A\n",
    "txt = \"fcc_astarr_macs\"\n",
    "\n",
    "vec = vec_txt_fpath\n",
    "idx = str_detect(vec, txt)\n",
    "vec_txt_fpath_region_A = vec[idx]\n",
    "vec_txt_fpath_region_B = vec[!idx]\n",
    "\n",
    "### file path for region B\n",
    "txt = \"chipseq\"\n",
    "\n",
    "vec = vec_txt_fpath_region_B\n",
    "idx = str_detect(vec, txt)\n",
    "vec_txt_fpath_region_B_chipseq = vec[ idx]\n",
    "vec_txt_fpath_region_B_main    = vec[!idx]\n",
    "\n",
    "### file path for region B\n",
    "vec = c(\"encode_chipseq_flagship\", \"encode_chipseq_histone\")\n",
    "txt = paste(vec, collapse = \"|\")\n",
    "\n",
    "vec = vec_txt_fpath_region_B_chipseq\n",
    "idx = str_detect(vec, txt)\n",
    "vec_txt_fpath_region_B_chipseq_full   = vec[ idx]\n",
    "vec_txt_fpath_region_B_chipseq_subset = vec[!idx]"
   ]
  },
  {
   "cell_type": "markdown",
   "id": "60c3c721-74d9-46e1-95dd-914619dd98dc",
   "metadata": {},
   "source": [
    "**Check**"
   ]
  },
  {
   "cell_type": "code",
   "execution_count": 5,
   "id": "8a4581b1-ec88-4a6e-affa-b1c3f0990e14",
   "metadata": {},
   "outputs": [
    {
     "name": "stdout",
     "output_type": "stream",
     "text": [
      "[1] \"/mount/repo/Proj_ENCODE_FCC/results/region/fcc_astarr_macs/summary/metadata.label.tsv\"\n",
      "\n",
      "[1] \"/mount/repo/Proj_ENCODE_FCC/results/region/encode_chromatin_states/summary/metadata.label.tsv\"    \n",
      "[2] \"/mount/repo/Proj_ENCODE_FCC/results/region/fcc_astarr_csaw/summary/metadata.label.tsv\"            \n",
      "[3] \"/mount/repo/Proj_ENCODE_FCC/results/region/fcc_crispri_hcrff/summary/metadata.label.tsv\"          \n",
      "[4] \"/mount/repo/Proj_ENCODE_FCC/results/region/genome_tss/summary/metadata.label.tsv\"                 \n",
      "[5] \"/mount/repo/Proj_ENCODE_FCC/results/region/hic_insitu_K562_ENCSR545YBD/summary/metadata.label.tsv\"\n",
      "[6] \"/mount/repo/Proj_ENCODE_FCC/results/region/hic_intact_K562_deep/summary/metadata.label.tsv\"       \n",
      "[7] \"/mount/repo/Proj_ENCODE_FCC/results/region/hic_intact_K562_ENCSR479XDG/summary/metadata.label.tsv\"\n",
      "\n",
      "[1] \"/mount/repo/Proj_ENCODE_FCC/results/region/encode_chipseq_subset/summary/metadata.label.tsv\"\n",
      "\n",
      "[1] \"/mount/repo/Proj_ENCODE_FCC/results/region/encode_chipseq_flagship/summary/metadata.label.tsv\"\n",
      "[2] \"/mount/repo/Proj_ENCODE_FCC/results/region/encode_chipseq_histone/summary/metadata.label.tsv\" \n"
     ]
    }
   ],
   "source": [
    "print(vec_txt_fpath_region_A)\n",
    "cat(\"\\n\")\n",
    "print(vec_txt_fpath_region_B_main)\n",
    "cat(\"\\n\")\n",
    "print(vec_txt_fpath_region_B_chipseq_subset)\n",
    "cat(\"\\n\")\n",
    "print(vec_txt_fpath_region_B_chipseq_full)"
   ]
  },
  {
   "cell_type": "markdown",
   "id": "00529c19-aeca-4c5f-a65e-80d00a8d7225",
   "metadata": {},
   "source": [
    "### Import metadata"
   ]
  },
  {
   "cell_type": "code",
   "execution_count": 6,
   "id": "a4a8302c-a593-4a31-bd6a-b23288eff264",
   "metadata": {},
   "outputs": [
    {
     "name": "stdout",
     "output_type": "stream",
     "text": [
      "[1] 2 3\n"
     ]
    },
    {
     "data": {
      "text/html": [
       "<table>\n",
       " <thead>\n",
       "  <tr>\n",
       "   <th style=\"text-align:left;\"> Folder </th>\n",
       "   <th style=\"text-align:left;\"> FName </th>\n",
       "   <th style=\"text-align:left;\"> Label </th>\n",
       "  </tr>\n",
       " </thead>\n",
       "<tbody>\n",
       "  <tr>\n",
       "   <td style=\"text-align:left;\"> fcc_astarr_macs </td>\n",
       "   <td style=\"text-align:left;\"> ASTARRseq_K562_KS91.hg38.Input.rep_all.max_overlaps.q5.bed.gz </td>\n",
       "   <td style=\"text-align:left;\"> fcc_astarr_macs_input_overlap </td>\n",
       "  </tr>\n",
       "  <tr>\n",
       "   <td style=\"text-align:left;\"> fcc_astarr_macs </td>\n",
       "   <td style=\"text-align:left;\"> ASTARRseq_K562_KS91.hg38.Input.rep_all.union.q5.bed.gz </td>\n",
       "   <td style=\"text-align:left;\"> fcc_astarr_macs_input_union </td>\n",
       "  </tr>\n",
       "</tbody>\n",
       "</table>"
      ]
     },
     "metadata": {},
     "output_type": "display_data"
    }
   ],
   "source": [
    "### init\n",
    "vec = vec_txt_fpath_region_A\n",
    "\n",
    "### read tables\n",
    "lst = lapply(vec, function(txt_fpath){\n",
    "    dat = read_tsv(txt_fpath, show_col_types = FALSE)\n",
    "    return(dat)\n",
    "})\n",
    "dat = bind_rows(lst)\n",
    "\n",
    "### assign and show\n",
    "dat_label_region_A = dat\n",
    "print(dim(dat))\n",
    "fun_display_table(head(dat))"
   ]
  },
  {
   "cell_type": "code",
   "execution_count": 7,
   "id": "852b5b1a-970f-47b0-a059-ddac53e364f1",
   "metadata": {},
   "outputs": [
    {
     "name": "stdout",
     "output_type": "stream",
     "text": [
      "[1] 17  3\n",
      "\n",
      "    encode_chromatin_states             fcc_astarr_csaw \n",
      "                          4                           2 \n",
      "          fcc_crispri_hcrff                  genome_tss \n",
      "                          1                           2 \n",
      "hic_insitu_K562_ENCSR545YBD        hic_intact_K562_deep \n",
      "                          3                           2 \n",
      "hic_intact_K562_ENCSR479XDG \n",
      "                          3 \n"
     ]
    },
    {
     "data": {
      "text/html": [
       "<table>\n",
       " <thead>\n",
       "  <tr>\n",
       "   <th style=\"text-align:left;\"> Folder </th>\n",
       "   <th style=\"text-align:left;\"> FName </th>\n",
       "   <th style=\"text-align:left;\"> Label </th>\n",
       "  </tr>\n",
       " </thead>\n",
       "<tbody>\n",
       "  <tr>\n",
       "   <td style=\"text-align:left;\"> encode_chromatin_states </td>\n",
       "   <td style=\"text-align:left;\"> K562.hg38.cCREs.silencer_rest.bed.gz </td>\n",
       "   <td style=\"text-align:left;\"> encode_ccres_silencer_rest </td>\n",
       "  </tr>\n",
       "  <tr>\n",
       "   <td style=\"text-align:left;\"> encode_chromatin_states </td>\n",
       "   <td style=\"text-align:left;\"> K562.hg38.cCREs.silencer_starr.bed.gz </td>\n",
       "   <td style=\"text-align:left;\"> encode_ccres_silencer_starr </td>\n",
       "  </tr>\n",
       "  <tr>\n",
       "   <td style=\"text-align:left;\"> encode_chromatin_states </td>\n",
       "   <td style=\"text-align:left;\"> K562.hg38.ENCSR365YNI.ENCFF106BGJ.ChromHMM.simplified.bed.gz </td>\n",
       "   <td style=\"text-align:left;\"> encode_chromhmm_ENCFF106BGJ </td>\n",
       "  </tr>\n",
       "  <tr>\n",
       "   <td style=\"text-align:left;\"> encode_chromatin_states </td>\n",
       "   <td style=\"text-align:left;\"> K562.hg38.ENCSR913HQX.ENCFF286VQG.cCREs.simplified.bed.gz </td>\n",
       "   <td style=\"text-align:left;\"> encode_ccres_ENCFF286VQG </td>\n",
       "  </tr>\n",
       "  <tr>\n",
       "   <td style=\"text-align:left;\"> fcc_astarr_csaw </td>\n",
       "   <td style=\"text-align:left;\"> K562.hg38.ASTARR.KS91.csaw.bed.gz </td>\n",
       "   <td style=\"text-align:left;\"> fcc_astarr_csaw_KS91 </td>\n",
       "  </tr>\n",
       "  <tr>\n",
       "   <td style=\"text-align:left;\"> fcc_astarr_csaw </td>\n",
       "   <td style=\"text-align:left;\"> K562.hg38.ASTARR.KSMerge.csaw.bed.gz </td>\n",
       "   <td style=\"text-align:left;\"> fcc_astarr_csaw_KSMerge </td>\n",
       "  </tr>\n",
       "</tbody>\n",
       "</table>"
      ]
     },
     "metadata": {},
     "output_type": "display_data"
    }
   ],
   "source": [
    "### init\n",
    "vec = vec_txt_fpath_region_B_main\n",
    "\n",
    "### read tables\n",
    "lst = lapply(vec, function(txt_fpath){\n",
    "    dat = read_tsv(txt_fpath, show_col_types = FALSE)\n",
    "    return(dat)\n",
    "})\n",
    "dat = bind_rows(lst)\n",
    "\n",
    "### assign and show\n",
    "dat_label_region_B_main = dat\n",
    "print(dim(dat))\n",
    "print(table(dat$Folder))\n",
    "fun_display_table(head(dat))"
   ]
  },
  {
   "cell_type": "code",
   "execution_count": 8,
   "id": "782ece88-de3e-4f77-b42a-100f0b6d4ccc",
   "metadata": {},
   "outputs": [
    {
     "name": "stdout",
     "output_type": "stream",
     "text": [
      "[1] 21  3\n",
      "\n",
      "encode_chipseq_subset \n",
      "                   21 \n"
     ]
    },
    {
     "data": {
      "text/html": [
       "<table>\n",
       " <thead>\n",
       "  <tr>\n",
       "   <th style=\"text-align:left;\"> Folder </th>\n",
       "   <th style=\"text-align:left;\"> FName </th>\n",
       "   <th style=\"text-align:left;\"> Label </th>\n",
       "  </tr>\n",
       " </thead>\n",
       "<tbody>\n",
       "  <tr>\n",
       "   <td style=\"text-align:left;\"> encode_chipseq_subset </td>\n",
       "   <td style=\"text-align:left;\"> K562.hg38.ENCSR000AKP.ENCFF544LXB.ChIPseq.H3K27ac.bed.gz </td>\n",
       "   <td style=\"text-align:left;\"> encode_chipseq_H3K27ac_ENCFF544LXB </td>\n",
       "  </tr>\n",
       "  <tr>\n",
       "   <td style=\"text-align:left;\"> encode_chipseq_subset </td>\n",
       "   <td style=\"text-align:left;\"> K562.hg38.ENCSR000AKQ.ENCFF323WOT.ChIPseq.H3K27me3.bed.gz </td>\n",
       "   <td style=\"text-align:left;\"> encode_chipseq_H3K27me3_ENCFF323WOT </td>\n",
       "  </tr>\n",
       "  <tr>\n",
       "   <td style=\"text-align:left;\"> encode_chipseq_subset </td>\n",
       "   <td style=\"text-align:left;\"> K562.hg38.ENCSR000AKS.ENCFF135ZLM.ChIPseq.H3K4me1.bed.gz </td>\n",
       "   <td style=\"text-align:left;\"> encode_chipseq_H3K4me1_ENCFF135ZLM </td>\n",
       "  </tr>\n",
       "  <tr>\n",
       "   <td style=\"text-align:left;\"> encode_chipseq_subset </td>\n",
       "   <td style=\"text-align:left;\"> K562.hg38.ENCSR000AKT.ENCFF749KLQ.ChIPseq.H3K4me2.bed.gz </td>\n",
       "   <td style=\"text-align:left;\"> encode_chipseq_H3K4me2_ENCFF749KLQ </td>\n",
       "  </tr>\n",
       "  <tr>\n",
       "   <td style=\"text-align:left;\"> encode_chipseq_subset </td>\n",
       "   <td style=\"text-align:left;\"> K562.hg38.ENCSR000BMH.ENCFF398UQZ.ChIPseq.YY1.bed.gz </td>\n",
       "   <td style=\"text-align:left;\"> encode_chipseq_YY1_ENCFF398UQZ </td>\n",
       "  </tr>\n",
       "  <tr>\n",
       "   <td style=\"text-align:left;\"> encode_chipseq_subset </td>\n",
       "   <td style=\"text-align:left;\"> K562.hg38.ENCSR000BMW.ENCFF707MDI.ChIPseq.REST.bed.gz </td>\n",
       "   <td style=\"text-align:left;\"> encode_chipseq_REST_ENCFF707MDI </td>\n",
       "  </tr>\n",
       "</tbody>\n",
       "</table>"
      ]
     },
     "metadata": {},
     "output_type": "display_data"
    }
   ],
   "source": [
    "### init\n",
    "vec = vec_txt_fpath_region_B_chipseq_subset\n",
    "\n",
    "### read tables\n",
    "lst = lapply(vec, function(txt_fpath){\n",
    "    dat = read_tsv(txt_fpath, show_col_types = FALSE)\n",
    "    return(dat)\n",
    "})\n",
    "dat = bind_rows(lst)\n",
    "\n",
    "### assign and show\n",
    "dat_label_region_B_chipseq_subset = dat\n",
    "print(dim(dat))\n",
    "print(table(dat$Folder))\n",
    "fun_display_table(head(dat))"
   ]
  },
  {
   "cell_type": "code",
   "execution_count": 9,
   "id": "4a214a08-289f-4025-8f80-7d4aa575482e",
   "metadata": {},
   "outputs": [
    {
     "name": "stdout",
     "output_type": "stream",
     "text": [
      "[1] 753   3\n",
      "\n",
      "encode_chipseq_flagship  encode_chipseq_histone \n",
      "                    734                      19 \n"
     ]
    },
    {
     "data": {
      "text/html": [
       "<table>\n",
       " <thead>\n",
       "  <tr>\n",
       "   <th style=\"text-align:left;\"> Folder </th>\n",
       "   <th style=\"text-align:left;\"> FName </th>\n",
       "   <th style=\"text-align:left;\"> Label </th>\n",
       "  </tr>\n",
       " </thead>\n",
       "<tbody>\n",
       "  <tr>\n",
       "   <td style=\"text-align:left;\"> encode_chipseq_flagship </td>\n",
       "   <td style=\"text-align:left;\"> K562.hg38.ENCSR000AKO.ENCFF769AUF.ChIPseq.CTCF.bed.gz </td>\n",
       "   <td style=\"text-align:left;\"> chipseq_CTCF_ENCFF769AUF </td>\n",
       "  </tr>\n",
       "  <tr>\n",
       "   <td style=\"text-align:left;\"> encode_chipseq_flagship </td>\n",
       "   <td style=\"text-align:left;\"> K562.hg38.ENCSR000AQA.ENCFF807FNB.ChIPseq.KDM5B.bed.gz </td>\n",
       "   <td style=\"text-align:left;\"> chipseq_KDM5B_ENCFF807FNB </td>\n",
       "  </tr>\n",
       "  <tr>\n",
       "   <td style=\"text-align:left;\"> encode_chipseq_flagship </td>\n",
       "   <td style=\"text-align:left;\"> K562.hg38.ENCSR000AQD.ENCFF408NUX.ChIPseq.CHD1.bed.gz </td>\n",
       "   <td style=\"text-align:left;\"> chipseq_CHD1_ENCFF408NUX </td>\n",
       "  </tr>\n",
       "  <tr>\n",
       "   <td style=\"text-align:left;\"> encode_chipseq_flagship </td>\n",
       "   <td style=\"text-align:left;\"> K562.hg38.ENCSR000AQE.ENCFF804RVA.ChIPseq.EZH2.bed.gz </td>\n",
       "   <td style=\"text-align:left;\"> chipseq_EZH2_ENCFF804RVA </td>\n",
       "  </tr>\n",
       "  <tr>\n",
       "   <td style=\"text-align:left;\"> encode_chipseq_flagship </td>\n",
       "   <td style=\"text-align:left;\"> K562.hg38.ENCSR000AQF.ENCFF669MJX.ChIPseq.HDAC1.bed.gz </td>\n",
       "   <td style=\"text-align:left;\"> chipseq_HDAC1_ENCFF669MJX </td>\n",
       "  </tr>\n",
       "  <tr>\n",
       "   <td style=\"text-align:left;\"> encode_chipseq_flagship </td>\n",
       "   <td style=\"text-align:left;\"> K562.hg38.ENCSR000AQG.ENCFF182MPT.ChIPseq.HDAC2.bed.gz </td>\n",
       "   <td style=\"text-align:left;\"> chipseq_HDAC2_ENCFF182MPT </td>\n",
       "  </tr>\n",
       "</tbody>\n",
       "</table>"
      ]
     },
     "metadata": {},
     "output_type": "display_data"
    }
   ],
   "source": [
    "### init\n",
    "vec = vec_txt_fpath_region_B_chipseq_full\n",
    "\n",
    "### read tables\n",
    "lst = lapply(vec, function(txt_fpath){\n",
    "    dat = read_tsv(txt_fpath, show_col_types = FALSE)\n",
    "    return(dat)\n",
    "})\n",
    "dat = bind_rows(lst)\n",
    "\n",
    "### assign and show\n",
    "dat_label_region_B_chipseq_full = dat\n",
    "print(dim(dat))\n",
    "print(table(dat$Folder))\n",
    "fun_display_table(head(dat))"
   ]
  },
  {
   "cell_type": "markdown",
   "id": "26e39346-c157-4783-9733-a6a0361cfd01",
   "metadata": {},
   "source": [
    "## Save results"
   ]
  },
  {
   "cell_type": "code",
   "execution_count": 10,
   "id": "f4f002ea-4453-4919-9863-d1f5b16c2206",
   "metadata": {},
   "outputs": [],
   "source": [
    "txt_fdiry = file.path(FD_RES, \"region\", \"summary\")\n",
    "txt_fname = \"annotation.macs.label.region_A.tsv\"\n",
    "txt_fpath = file.path(txt_fdiry, txt_fname)\n",
    "\n",
    "dat = dat_label_region_A\n",
    "write_tsv(dat, txt_fpath)"
   ]
  },
  {
   "cell_type": "code",
   "execution_count": 11,
   "id": "2692ec13-0578-4ef1-bc6c-1ce779349fae",
   "metadata": {},
   "outputs": [],
   "source": [
    "txt_fdiry = file.path(FD_RES, \"region\", \"summary\")\n",
    "txt_fname = \"annotation.macs.label.region_B.main.tsv\"\n",
    "txt_fpath = file.path(txt_fdiry, txt_fname)\n",
    "\n",
    "dat = dat_label_region_B_main\n",
    "write_tsv(dat, txt_fpath)"
   ]
  },
  {
   "cell_type": "code",
   "execution_count": 12,
   "id": "16b0a63a-c20f-4671-802c-b32dbb37babd",
   "metadata": {},
   "outputs": [],
   "source": [
    "txt_fdiry = file.path(FD_RES, \"region\", \"summary\")\n",
    "txt_fname = \"annotation.macs.label.region_B.chipseq_subset.tsv\"\n",
    "txt_fpath = file.path(txt_fdiry, txt_fname)\n",
    "\n",
    "dat = dat_label_region_B_chipseq_subset\n",
    "write_tsv(dat, txt_fpath)"
   ]
  },
  {
   "cell_type": "code",
   "execution_count": 13,
   "id": "0efbac29-3356-43bc-ba5e-a85232354c9f",
   "metadata": {},
   "outputs": [],
   "source": [
    "txt_fdiry = file.path(FD_RES, \"region\", \"summary\")\n",
    "txt_fname = \"annotation.macs.label.region_B.chipseq_full.tsv\"\n",
    "txt_fpath = file.path(txt_fdiry, txt_fname)\n",
    "\n",
    "dat = dat_label_region_B_chipseq_full\n",
    "write_tsv(dat, txt_fpath)"
   ]
  },
  {
   "cell_type": "code",
   "execution_count": null,
   "id": "961eb268-dada-46df-8ad6-3e93d32e7b36",
   "metadata": {},
   "outputs": [],
   "source": []
  }
 ],
 "metadata": {
  "kernelspec": {
   "display_name": "R",
   "language": "R",
   "name": "ir"
  },
  "language_info": {
   "codemirror_mode": "r",
   "file_extension": ".r",
   "mimetype": "text/x-r-source",
   "name": "R",
   "pygments_lexer": "r",
   "version": "4.4.0"
  }
 },
 "nbformat": 4,
 "nbformat_minor": 5
}
