{
 "cells": [
  {
   "cell_type": "raw",
   "id": "655a3b74-e322-4597-90ce-2863c59b56df",
   "metadata": {},
   "source": [
    "---\n",
    "title: Prepare ENCODE ChIP-seq 23 (TF; Flagship)\n",
    "subtitle: Prepare the data\n",
    "format:\n",
    "    html:\n",
    "        code-fold:  true\n",
    "        code-tools: true\n",
    "---"
   ]
  },
  {
   "cell_type": "markdown",
   "id": "fcbd185b-ba0e-4586-8687-5afb436a77d8",
   "metadata": {},
   "source": [
    "**Set environment**"
   ]
  },
  {
   "cell_type": "code",
   "execution_count": 1,
   "id": "f2ca7f4e-a2d1-46db-b1ad-24b4b8dfb937",
   "metadata": {},
   "outputs": [
    {
     "name": "stdout",
     "output_type": "stream",
     "text": [
      "You are working on             Duke Server: HARDAC\n",
      "BASE DIRECTORY (FD_BASE):      /data/reddylab/Kuei\n",
      "REPO DIRECTORY (FD_REPO):      /data/reddylab/Kuei/repo\n",
      "WORK DIRECTORY (FD_WORK):      /data/reddylab/Kuei/work\n",
      "DATA DIRECTORY (FD_DATA):      /data/reddylab/Kuei/data\n",
      "CONTAINER DIR. (FD_SING):      /data/reddylab/Kuei/container\n",
      "\n",
      "You are working with           ENCODE FCC\n",
      "PATH OF PROJECT (FD_PRJ):      /data/reddylab/Kuei/repo/Proj_ENCODE_FCC\n",
      "PROJECT RESULTS (FD_RES):      /data/reddylab/Kuei/repo/Proj_ENCODE_FCC/results\n",
      "PROJECT SCRIPTS (FD_EXE):      /data/reddylab/Kuei/repo/Proj_ENCODE_FCC/scripts\n",
      "PROJECT DATA    (FD_DAT):      /data/reddylab/Kuei/repo/Proj_ENCODE_FCC/data\n",
      "PROJECT NOTE    (FD_NBK):      /data/reddylab/Kuei/repo/Proj_ENCODE_FCC/notebooks\n",
      "PROJECT DOCS    (FD_DOC):      /data/reddylab/Kuei/repo/Proj_ENCODE_FCC/docs\n",
      "PROJECT LOG     (FD_LOG):      /data/reddylab/Kuei/repo/Proj_ENCODE_FCC/log\n",
      "PROJECT APP     (FD_APP):      \n",
      "PROJECT REF     (FD_REF):      /data/reddylab/Kuei/repo/Proj_ENCODE_FCC/references\n",
      "PROJECT IMAGE   (FP_PRJ_SIF):  /data/reddylab/Kuei/container/project/singularity_proj_encode_fcc.sif\n",
      "\n"
     ]
    }
   ],
   "source": [
    "source ../run_config_project.sh\n",
    "show_env"
   ]
  },
  {
   "cell_type": "markdown",
   "id": "26fc9be3-7ec1-4f09-807b-afd1a199129e",
   "metadata": {
    "tags": []
   },
   "source": [
    "## Prepare"
   ]
  },
  {
   "cell_type": "code",
   "execution_count": 2,
   "id": "ba770b13-6cd3-4e69-a13f-03fc94cbaa97",
   "metadata": {},
   "outputs": [
    {
     "name": "stdout",
     "output_type": "stream",
     "text": [
      "/data/reddylab/Kuei/repo/Proj_ENCODE_FCC/data/external/encode_chipseq_encode4\n",
      "237\n",
      "ENCFF009RFC.bed.gz\n",
      "ENCFF014HYS.bed.gz\n",
      "ENCFF018HWM.bed.gz\n",
      "ENCFF018TNP.bed.gz\n",
      "ENCFF019NGO.bed.gz\n",
      "ENCFF021JCJ.bed.gz\n",
      "ENCFF023JGT.bed.gz\n",
      "ENCFF030AXK.bed.gz\n",
      "ENCFF044IDV.bed.gz\n",
      "ENCFF049MDN.bed.gz\n"
     ]
    }
   ],
   "source": [
    "FDIRY=${FD_DAT}/external/encode_chipseq_encode4\n",
    "\n",
    "echo ${FDIRY}\n",
    "ls   ${FDIRY}/*.bed.gz | wc -l\n",
    "ls   ${FDIRY}/*.bed.gz | head | xargs -n 1 basename"
   ]
  },
  {
   "cell_type": "code",
   "execution_count": 3,
   "id": "70b4a16c-66b8-4adc-b815-17b85360593b",
   "metadata": {},
   "outputs": [
    {
     "name": "stdout",
     "output_type": "stream",
     "text": [
      "chr11\t47578618\t47579342\t.\t1000\t.\t1046.02416\t-1.00000\t4.23485\t382\n",
      "chr5\t103119745\t103120520\t.\t1000\t.\t1021.46679\t-1.00000\t4.23485\t444\n",
      "chr1\t37989727\t37990418\t.\t1000\t.\t1010.90042\t-1.00000\t4.23485\t351\n",
      "chr11\t47248538\t47249253\t.\t1000\t.\t1001.32076\t-1.00000\t4.23485\t362\n",
      "chr6\t28080593\t28081375\t.\t1000\t.\t997.83177\t-1.00000\t4.23485\t370\n",
      "chr1\t44213120\t44213781\t.\t1000\t.\t971.33751\t-1.00000\t4.23485\t319\n",
      "chr3\t183884510\t183885211\t.\t1000\t.\t970.73728\t-1.00000\t4.23485\t389\n",
      "chr12\t123601607\t123602389\t.\t1000\t.\t963.60932\t-1.00000\t4.23485\t442\n",
      "chr12\t68686652\t68687362\t.\t1000\t.\t939.73551\t-1.00000\t4.23485\t295\n",
      "chr13\t40770923\t40771494\t.\t1000\t.\t889.09695\t-1.00000\t4.23485\t289\n"
     ]
    }
   ],
   "source": [
    "FDIRY=${FD_DAT}/external/encode_chipseq_encode4\n",
    "FNAME=ENCFF009RFC.bed.gz\n",
    "FPATH=${FDIRY}/${FNAME}\n",
    "zcat ${FPATH} | head"
   ]
  },
  {
   "cell_type": "markdown",
   "id": "53e1fdfa-bb7f-4be4-84a5-0ae7b60ef511",
   "metadata": {},
   "source": [
    "## Copy and sort the files"
   ]
  },
  {
   "cell_type": "code",
   "execution_count": 4,
   "id": "def12d6c-d941-4c0f-85fb-76fc3396abe3",
   "metadata": {},
   "outputs": [
    {
     "name": "stdout",
     "output_type": "stream",
     "text": [
      "ENCFF009RFC.bed.gz\n",
      "ENCFF014HYS.bed.gz\n",
      "ENCFF018HWM.bed.gz\n",
      "ENCFF018TNP.bed.gz\n",
      "ENCFF019NGO.bed.gz\n",
      "ENCFF021JCJ.bed.gz\n",
      "ENCFF023JGT.bed.gz\n",
      "ENCFF030AXK.bed.gz\n",
      "ENCFF044IDV.bed.gz\n",
      "ENCFF049MDN.bed.gz\n",
      "ENCFF053ABJ.bed.gz\n",
      "ENCFF057JFH.bed.gz\n",
      "ENCFF057RJK.bed.gz\n",
      "ENCFF063VRD.bed.gz\n",
      "ENCFF080KWE.bed.gz\n",
      "ENCFF086FAZ.bed.gz\n",
      "ENCFF087EVW.bed.gz\n",
      "ENCFF093BBG.bed.gz\n",
      "ENCFF094FBP.bed.gz\n",
      "ENCFF096AYV.bed.gz\n",
      "ENCFF099OSI.bed.gz\n",
      "ENCFF103YZQ.bed.gz\n",
      "ENCFF106ECV.bed.gz\n",
      "ENCFF109UVJ.bed.gz\n",
      "ENCFF114VAI.bed.gz\n",
      "ENCFF118ATD.bed.gz\n",
      "ENCFF118ECK.bed.gz\n",
      "ENCFF121HYT.bed.gz\n",
      "ENCFF122FTW.bed.gz\n",
      "ENCFF123IHX.bed.gz\n",
      "ENCFF124KCE.bed.gz\n",
      "ENCFF128YWS.bed.gz\n",
      "ENCFF130WQT.bed.gz\n",
      "ENCFF132DPY.bed.gz\n",
      "ENCFF137TCL.bed.gz\n",
      "ENCFF141HPL.bed.gz\n",
      "ENCFF142MJD.bed.gz\n",
      "ENCFF142ZTD.bed.gz\n",
      "ENCFF144ZLB.bed.gz\n",
      "ENCFF150ZBY.bed.gz\n",
      "ENCFF156EZP.bed.gz\n",
      "ENCFF159END.bed.gz\n",
      "ENCFF165JQS.bed.gz\n",
      "ENCFF169AWH.bed.gz\n",
      "ENCFF169QYL.bed.gz\n",
      "ENCFF171ZNN.bed.gz\n",
      "ENCFF173QUY.bed.gz\n",
      "ENCFF180KAV.bed.gz\n",
      "ENCFF185KMK.bed.gz\n",
      "ENCFF188PLS.bed.gz\n",
      "ENCFF193BGB.bed.gz\n",
      "ENCFF197SXI.bed.gz\n",
      "ENCFF198NGY.bed.gz\n",
      "ENCFF201BGD.bed.gz\n",
      "ENCFF201WFM.bed.gz\n",
      "ENCFF206LMB.bed.gz\n",
      "ENCFF207MLR.bed.gz\n",
      "ENCFF207XCM.bed.gz\n",
      "ENCFF208OME.bed.gz\n",
      "ENCFF214SNH.bed.gz\n",
      "ENCFF221TRR.bed.gz\n",
      "ENCFF227HVU.bed.gz\n",
      "ENCFF227LKX.bed.gz\n",
      "ENCFF232ZHD.bed.gz\n",
      "ENCFF238XIA.bed.gz\n",
      "ENCFF245JPK.bed.gz\n",
      "ENCFF246USC.bed.gz\n",
      "ENCFF250MUC.bed.gz\n",
      "ENCFF253UAF.bed.gz\n",
      "ENCFF255QDL.bed.gz\n",
      "ENCFF265MQC.bed.gz\n",
      "ENCFF266MUT.bed.gz\n",
      "ENCFF266YHW.bed.gz\n",
      "ENCFF269PAM.bed.gz\n",
      "ENCFF270TMW.bed.gz\n",
      "ENCFF270TSN.bed.gz\n",
      "ENCFF285MHB.bed.gz\n",
      "ENCFF289ZIR.bed.gz\n",
      "ENCFF292HSS.bed.gz\n",
      "ENCFF295XBK.bed.gz\n",
      "ENCFF295XCB.bed.gz\n",
      "ENCFF303CVC.bed.gz\n",
      "ENCFF305XQM.bed.gz\n",
      "ENCFF307UZC.bed.gz\n",
      "ENCFF308VAI.bed.gz\n",
      "ENCFF313VEF.bed.gz\n",
      "ENCFF318ZUN.bed.gz\n",
      "ENCFF330EGV.bed.gz\n",
      "ENCFF330SHG.bed.gz\n",
      "ENCFF335ZTU.bed.gz\n",
      "ENCFF352NGK.bed.gz\n",
      "ENCFF359ZQQ.bed.gz\n",
      "ENCFF372YFU.bed.gz\n",
      "ENCFF380KJB.bed.gz\n",
      "ENCFF382QUI.bed.gz\n",
      "ENCFF389FLV.bed.gz\n",
      "ENCFF392MAR.bed.gz\n",
      "ENCFF405EGZ.bed.gz\n",
      "ENCFF405QTW.bed.gz\n",
      "ENCFF410SWS.bed.gz\n",
      "ENCFF412ERW.bed.gz\n",
      "ENCFF415MKA.bed.gz\n",
      "ENCFF416TFM.bed.gz\n",
      "ENCFF417FFL.bed.gz\n",
      "ENCFF424OWM.bed.gz\n",
      "ENCFF430YXJ.bed.gz\n",
      "ENCFF435MHH.bed.gz\n",
      "ENCFF438IYI.bed.gz\n",
      "ENCFF439KTZ.bed.gz\n",
      "ENCFF441QXF.bed.gz\n",
      "ENCFF442RYH.bed.gz\n",
      "ENCFF443BGE.bed.gz\n",
      "ENCFF449JMB.bed.gz\n",
      "ENCFF462ZIG.bed.gz\n",
      "ENCFF473NCJ.bed.gz\n",
      "ENCFF478MAJ.bed.gz\n",
      "ENCFF491EEI.bed.gz\n",
      "ENCFF493LZB.bed.gz\n",
      "ENCFF500BWO.bed.gz\n",
      "ENCFF504WWL.bed.gz\n",
      "ENCFF505INE.bed.gz\n",
      "ENCFF515LWL.bed.gz\n",
      "ENCFF516ZWP.bed.gz\n",
      "ENCFF518EGY.bed.gz\n",
      "ENCFF518SJY.bed.gz\n",
      "ENCFF528IDR.bed.gz\n",
      "ENCFF529SRS.bed.gz\n",
      "ENCFF537HHU.bed.gz\n",
      "ENCFF549NPY.bed.gz\n",
      "ENCFF555IKI.bed.gz\n",
      "ENCFF558AJI.bed.gz\n",
      "ENCFF559MTF.bed.gz\n",
      "ENCFF563ZJM.bed.gz\n",
      "ENCFF567CPM.bed.gz\n",
      "ENCFF569TJP.bed.gz\n",
      "ENCFF586MZX.bed.gz\n",
      "ENCFF588CXX.bed.gz\n",
      "ENCFF592NJN.bed.gz\n",
      "ENCFF596HNP.bed.gz\n",
      "ENCFF598VGY.bed.gz\n",
      "ENCFF601LMD.bed.gz\n",
      "ENCFF603EAX.bed.gz\n",
      "ENCFF604LXR.bed.gz\n",
      "ENCFF604RBX.bed.gz\n",
      "ENCFF620FIH.bed.gz\n",
      "ENCFF629EAD.bed.gz\n",
      "ENCFF645IVF.bed.gz\n",
      "ENCFF645OCW.bed.gz\n",
      "ENCFF647RGI.bed.gz\n",
      "ENCFF648ORA.bed.gz\n",
      "ENCFF648UJW.bed.gz\n",
      "ENCFF650DWZ.bed.gz\n",
      "ENCFF653ABW.bed.gz\n",
      "ENCFF653DNY.bed.gz\n",
      "ENCFF656THP.bed.gz\n",
      "ENCFF670RLH.bed.gz\n",
      "ENCFF672PJF.bed.gz\n",
      "ENCFF683VXW.bed.gz\n",
      "ENCFF691JZW.bed.gz\n",
      "ENCFF692HUD.bed.gz\n",
      "ENCFF695PDY.bed.gz\n",
      "ENCFF697DRN.bed.gz\n",
      "ENCFF701RWL.bed.gz\n",
      "ENCFF702THZ.bed.gz\n",
      "ENCFF704UVS.bed.gz\n",
      "ENCFF710UAZ.bed.gz\n",
      "ENCFF710YFH.bed.gz\n",
      "ENCFF712NHB.bed.gz\n",
      "ENCFF716OTE.bed.gz\n",
      "ENCFF718DSJ.bed.gz\n",
      "ENCFF718IGO.bed.gz\n",
      "ENCFF726LLI.bed.gz\n",
      "ENCFF727JXN.bed.gz\n",
      "ENCFF738IQL.bed.gz\n",
      "ENCFF743JJF.bed.gz\n",
      "ENCFF749GMT.bed.gz\n",
      "ENCFF750AGR.bed.gz\n",
      "ENCFF763MXW.bed.gz\n",
      "ENCFF763XBV.bed.gz\n",
      "ENCFF771XZZ.bed.gz\n",
      "ENCFF772OKO.bed.gz\n",
      "ENCFF773RNU.bed.gz\n",
      "ENCFF774NZZ.bed.gz\n",
      "ENCFF786CRW.bed.gz\n",
      "ENCFF793HSJ.bed.gz\n",
      "ENCFF794OSY.bed.gz\n",
      "ENCFF794SCQ.bed.gz\n",
      "ENCFF795AWO.bed.gz\n",
      "ENCFF798AFV.bed.gz\n",
      "ENCFF798KXN.bed.gz\n",
      "ENCFF798LLI.bed.gz\n",
      "ENCFF802NHC.bed.gz\n",
      "ENCFF809JNC.bed.gz\n",
      "ENCFF810OHB.bed.gz\n",
      "ENCFF817EJA.bed.gz\n",
      "ENCFF820MJD.bed.gz\n",
      "ENCFF822FXR.bed.gz\n",
      "ENCFF824EJC.bed.gz\n",
      "ENCFF830MTX.bed.gz\n",
      "ENCFF832DBU.bed.gz\n",
      "ENCFF840NZE.bed.gz\n",
      "ENCFF843NBV.bed.gz\n",
      "ENCFF854SNX.bed.gz\n",
      "ENCFF863WFD.bed.gz\n",
      "ENCFF863ZFH.bed.gz\n",
      "ENCFF865UPM.bed.gz\n",
      "ENCFF866ARI.bed.gz\n",
      "ENCFF866OZW.bed.gz\n",
      "ENCFF869RFC.bed.gz\n",
      "ENCFF873VFI.bed.gz\n",
      "ENCFF875JMR.bed.gz\n",
      "ENCFF878SVX.bed.gz\n",
      "ENCFF881MMD.bed.gz\n",
      "ENCFF882XTP.bed.gz\n",
      "ENCFF882ZEN.bed.gz\n",
      "ENCFF885HJI.bed.gz\n",
      "ENCFF887ZDT.bed.gz\n",
      "ENCFF893YKY.bed.gz\n",
      "ENCFF899BJR.bed.gz\n",
      "ENCFF904RTN.bed.gz\n",
      "ENCFF905RSN.bed.gz\n",
      "ENCFF913YMX.bed.gz\n",
      "ENCFF916CTU.bed.gz\n",
      "ENCFF917HUH.bed.gz\n",
      "ENCFF921BXP.bed.gz\n",
      "ENCFF922RHM.bed.gz\n",
      "ENCFF927NEU.bed.gz\n",
      "ENCFF927VIS.bed.gz\n",
      "ENCFF932KRN.bed.gz\n",
      "ENCFF934NEX.bed.gz\n",
      "ENCFF941EDY.bed.gz\n",
      "ENCFF945IST.bed.gz\n",
      "ENCFF946CTR.bed.gz\n",
      "ENCFF959SMC.bed.gz\n",
      "ENCFF959ZKZ.bed.gz\n",
      "ENCFF970QKS.bed.gz\n",
      "ENCFF974IPP.bed.gz\n"
     ]
    }
   ],
   "source": [
    "### set directory\n",
    "FD_INP=${FD_DAT}/external/encode_chipseq_encode4\n",
    "FD_OUT=${FD_RES}/region/encode_chipseq_encode4\n",
    "mkdir -p ${FD_OUT}\n",
    "\n",
    "### loop and link files\n",
    "FP_INPS=($(ls ${FD_INP}/*bed.gz))\n",
    "for FP_INP in ${FP_INPS[@]}; do\n",
    "    ### get input file name\n",
    "    FN_INP=$(basename ${FP_INP})\n",
    "    echo ${FN_INP}\n",
    "    \n",
    "    ### set output file name\n",
    "    FN_OUT=${FN_INP}\n",
    "    FP_OUT=${FD_OUT}/${FN_OUT}\n",
    "    \n",
    "    ### sort and output to a new file\n",
    "    zcat ${FP_INP} | sort -k 1,1 -k2,2n | gzip -c > ${FP_OUT}\n",
    "done"
   ]
  },
  {
   "cell_type": "markdown",
   "id": "120053de-9523-4058-9d3b-f9a10765dff1",
   "metadata": {},
   "source": [
    "## Review"
   ]
  },
  {
   "cell_type": "markdown",
   "id": "7ea97470-89da-4184-ac5a-47670f0c5dee",
   "metadata": {},
   "source": [
    "**Check output files**"
   ]
  },
  {
   "cell_type": "code",
   "execution_count": 14,
   "id": "d50da224-ea16-4b95-a45d-3c2baec98328",
   "metadata": {},
   "outputs": [
    {
     "name": "stdout",
     "output_type": "stream",
     "text": [
      "734\n",
      "-rw-rw-r-- 1 kk319 reddylab  919491 Nov  1  2020 /data/reddylab/Kuei/repo/Proj_ENCODE_FCC/data/external/encode_chipseq_flagship/K562.hg38.ENCSR000AKO.ENCFF769AUF.ChIPseq.CTCF.bed.gz\n"
     ]
    }
   ],
   "source": [
    "### set directory\n",
    "FD_INP=${FD_DAT}/external/encode_chipseq_flagship\n",
    "FD_OUT=${FD_RES}/region/encode_chipseq_flagship\n",
    "\n",
    "ls -l ${FD_INP}/*.bed.gz | wc -l\n",
    "ls -l ${FD_INP}/*.bed.gz | head -n 1"
   ]
  },
  {
   "cell_type": "code",
   "execution_count": 15,
   "id": "cbe12fa2-055c-42a3-8fe6-5918da188dca",
   "metadata": {},
   "outputs": [
    {
     "name": "stdout",
     "output_type": "stream",
     "text": [
      "734\n",
      "-rw-rw-r-- 1 kk319 reddylab  974027 Apr 29 11:28 /data/reddylab/Kuei/repo/Proj_ENCODE_FCC/results/region/encode_chipseq_flagship/K562.hg38.ENCSR000AKO.ENCFF769AUF.ChIPseq.CTCF.bed.gz\n"
     ]
    }
   ],
   "source": [
    "### set directory\n",
    "FD_INP=${FD_DAT}/external/encode_chipseq_flagship\n",
    "FD_OUT=${FD_RES}/region/encode_chipseq_flagship\n",
    "\n",
    "ls -l ${FD_OUT}/*.bed.gz | wc -l\n",
    "ls -l ${FD_OUT}/*.bed.gz | head -n 1"
   ]
  },
  {
   "cell_type": "code",
   "execution_count": 16,
   "id": "8dfbc3b7-2e76-475e-ae66-caef40adc389",
   "metadata": {},
   "outputs": [
    {
     "name": "stdout",
     "output_type": "stream",
     "text": [
      "chr22\t20564140\t20564886\t.\t1000\t.\t784.65941\t-1.00000\t4.65032\t347\n",
      "chr22\t20885368\t20886090\t.\t1000\t.\t732.78043\t-1.00000\t4.65032\t312\n",
      "chr22\t22195085\t22195875\t.\t1000\t.\t725.95624\t-1.00000\t4.65032\t417\n",
      "chr7\t151172436\t151173045\t.\t1000\t.\t697.29742\t-1.00000\t4.65032\t291\n",
      "chr22\t22342698\t22343309\t.\t1000\t.\t676.67050\t-1.00000\t4.65032\t316\n",
      "chr22\t20916863\t20917508\t.\t1000\t.\t657.14559\t-1.00000\t4.65032\t357\n",
      "chr22\t20456159\t20456747\t.\t1000\t.\t639.36086\t-1.00000\t4.65032\t290\n",
      "chr1\t114346365\t114346941\t.\t1000\t.\t623.48502\t-1.00000\t4.65032\t310\n",
      "chr22\t21646616\t21647160\t.\t1000\t.\t611.42749\t-1.00000\t4.65032\t277\n",
      "chr22\t21102655\t21103309\t.\t1000\t.\t596.36171\t-1.00000\t4.65032\t322\n"
     ]
    }
   ],
   "source": [
    "FNAME=K562.hg38.ENCSR000AKO.ENCFF769AUF.ChIPseq.CTCF.bed.gz\n",
    "FPATH=${FD_INP}/${FNAME}\n",
    "zcat ${FPATH} | head"
   ]
  },
  {
   "cell_type": "code",
   "execution_count": 17,
   "id": "fa834ece-804e-4961-a62e-987af0c514e6",
   "metadata": {},
   "outputs": [
    {
     "name": "stdout",
     "output_type": "stream",
     "text": [
      "chr1\t267966\t268092\t.\t1000\t.\t36.26682\t-1.00000\t4.33816\t58\n",
      "chr1\t778701\t778979\t.\t1000\t.\t78.32446\t-1.00000\t4.65032\t175\n",
      "chr1\t778870\t779294\t.\t1000\t.\t22.45062\t-1.00000\t4.08853\t212\n",
      "chr1\t869772\t870056\t.\t1000\t.\t140.67100\t-1.00000\t4.65032\t149\n",
      "chr1\t904625\t904954\t.\t1000\t.\t150.99362\t-1.00000\t4.65032\t154\n",
      "chr1\t912808\t913232\t.\t1000\t.\t49.29953\t-1.00000\t4.25610\t212\n",
      "chr1\t919601\t920025\t.\t942\t.\t27.32858\t-1.00000\t4.04016\t212\n",
      "chr1\t921022\t921446\t.\t921\t.\t50.13322\t-1.00000\t4.25184\t212\n",
      "chr1\t923084\t923508\t.\t1000\t.\t33.43900\t-1.00000\t4.35891\t212\n",
      "chr1\t931556\t931980\t.\t793\t.\t24.20014\t-1.00000\t4.07024\t212\n"
     ]
    }
   ],
   "source": [
    "FNAME=K562.hg38.ENCSR000AKO.ENCFF769AUF.ChIPseq.CTCF.bed.gz\n",
    "FPATH=${FD_OUT}/${FNAME}\n",
    "zcat ${FPATH} | head"
   ]
  },
  {
   "cell_type": "code",
   "execution_count": null,
   "id": "ed895bca-01e1-4aa1-9770-60f989e5b914",
   "metadata": {},
   "outputs": [],
   "source": []
  }
 ],
 "metadata": {
  "kernelspec": {
   "display_name": "Bash",
   "language": "bash",
   "name": "bash"
  },
  "language_info": {
   "codemirror_mode": "shell",
   "file_extension": ".sh",
   "mimetype": "text/x-sh",
   "name": "bash"
  }
 },
 "nbformat": 4,
 "nbformat_minor": 5
}
