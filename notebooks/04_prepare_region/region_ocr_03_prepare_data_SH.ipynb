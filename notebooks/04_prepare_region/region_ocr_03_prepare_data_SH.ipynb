{
 "cells": [
  {
   "cell_type": "raw",
   "id": "655a3b74-e322-4597-90ce-2863c59b56df",
   "metadata": {},
   "source": [
    "---\n",
    "title: Prepare ENCODE ATAC/DNase Peaks 03\n",
    "subtitle: Prepare the data\n",
    "format:\n",
    "    html:\n",
    "        code-fold:  true\n",
    "        code-tools: true\n",
    "---"
   ]
  },
  {
   "cell_type": "markdown",
   "id": "b1e58dad-8cf4-4124-bbab-f4506b4f9902",
   "metadata": {},
   "source": [
    "**Set environment**"
   ]
  },
  {
   "cell_type": "code",
   "execution_count": 1,
   "id": "29e41e40-2790-42b3-ab8c-c4aae97e8c53",
   "metadata": {},
   "outputs": [
    {
     "name": "stdout",
     "output_type": "stream",
     "text": [
      "You are working on             Duke Server: HARDAC\n",
      "BASE DIRECTORY (FD_BASE):      /data/reddylab/Kuei\n",
      "REPO DIRECTORY (FD_REPO):      /data/reddylab/Kuei/repo\n",
      "WORK DIRECTORY (FD_WORK):      /data/reddylab/Kuei/work\n",
      "DATA DIRECTORY (FD_DATA):      /data/reddylab/Kuei/data\n",
      "CONTAINER DIR. (FD_SING):      /data/reddylab/Kuei/container\n",
      "\n",
      "You are working with           ENCODE FCC\n",
      "PATH OF PROJECT (FD_PRJ):      /data/reddylab/Kuei/repo/Proj_ENCODE_FCC\n",
      "PROJECT RESULTS (FD_RES):      /data/reddylab/Kuei/repo/Proj_ENCODE_FCC/results\n",
      "PROJECT SCRIPTS (FD_EXE):      /data/reddylab/Kuei/repo/Proj_ENCODE_FCC/scripts\n",
      "PROJECT DATA    (FD_DAT):      /data/reddylab/Kuei/repo/Proj_ENCODE_FCC/data\n",
      "PROJECT NOTE    (FD_NBK):      /data/reddylab/Kuei/repo/Proj_ENCODE_FCC/notebooks\n",
      "PROJECT DOCS    (FD_DOC):      /data/reddylab/Kuei/repo/Proj_ENCODE_FCC/docs\n",
      "PROJECT LOG     (FD_LOG):      /data/reddylab/Kuei/repo/Proj_ENCODE_FCC/log\n",
      "PROJECT APP     (FD_APP):      /data/reddylab/Kuei/repo/Proj_ENCODE_FCC/app\n",
      "PROJECT REF     (FD_REF):      /data/reddylab/Kuei/repo/Proj_ENCODE_FCC/references\n",
      "PROJECT IMAGE   (FP_PRJ_SIF):  /data/reddylab/Kuei/repo/Proj_ENCODE_FCC/app/singularity_proj_encode_fcc.sif\n",
      "\n"
     ]
    }
   ],
   "source": [
    "source ../run_config_project.sh\n",
    "show_env"
   ]
  },
  {
   "cell_type": "markdown",
   "id": "eba9dbcc-8369-4f4a-91f7-a7e4151b1bfb",
   "metadata": {
    "tags": []
   },
   "source": [
    "## Prepare"
   ]
  },
  {
   "cell_type": "code",
   "execution_count": 2,
   "id": "8fb1a1aa-0474-4186-94fa-6ea77eb23453",
   "metadata": {},
   "outputs": [
    {
     "name": "stdout",
     "output_type": "stream",
     "text": [
      "/data/reddylab/Kuei/repo/Proj_ENCODE_FCC/data/external/encode_open_chromatin\n",
      "6\n",
      "K562.hg38.ENCSR000EKS.ENCFF274YGF.DNase.bed.gz\n",
      "K562.hg38.ENCSR000EOT.ENCFF185XRG.DNase.bed.gz\n",
      "K562.hg38.ENCSR483RKN.ENCFF558BLC.ATAC.bed.gz\n",
      "K562.hg38.ENCSR483RKN.ENCFF925CYR.ATAC.bed.gz\n",
      "K562.hg38.ENCSR868FGK.ENCFF333TAT.ATAC.bed.gz\n",
      "K562.hg38.ENCSR868FGK.ENCFF948AFM.ATAC.bed.gz\n"
     ]
    }
   ],
   "source": [
    "FDIRY=${FD_DAT}/external/encode_open_chromatin\n",
    "\n",
    "echo ${FDIRY}\n",
    "ls   ${FDIRY}/*.bed.gz | wc -l\n",
    "ls   ${FDIRY}/*.bed.gz | xargs -n 1 basename"
   ]
  },
  {
   "cell_type": "code",
   "execution_count": 3,
   "id": "78c55b22-0a78-4137-9c96-87ad9b57f092",
   "metadata": {},
   "outputs": [
    {
     "name": "stdout",
     "output_type": "stream",
     "text": [
      "chr1\t181400\t181530\t.\t0\t.\t0.299874\t-1\t-1\t75\n",
      "chr1\t778660\t778800\t.\t0\t.\t14.1383\t-1\t-1\t75\n",
      "chr1\t779137\t779200\t.\t0\t.\t0.33144\t-1\t-1\t75\n",
      "chr1\t827460\t827554\t.\t0\t.\t3.38384\t-1\t-1\t75\n",
      "chr1\t842880\t843060\t.\t0\t.\t1.64457\t-1\t-1\t75\n",
      "chr1\t869800\t869980\t.\t0\t.\t2.23485\t-1\t-1\t75\n",
      "chr1\t875760\t875920\t.\t0\t.\t0.356692\t-1\t-1\t75\n",
      "chr1\t898828\t899004\t.\t0\t.\t0.363005\t-1\t-1\t75\n",
      "chr1\t900030\t900100\t.\t0\t.\t0.249369\t-1\t-1\t75\n",
      "chr1\t901580\t901645\t.\t0\t.\t0.217803\t-1\t-1\t75\n"
     ]
    }
   ],
   "source": [
    "FDIRY=${FD_DAT}/external/encode_open_chromatin\n",
    "FNAME=K562.hg38.ENCSR000EKS.ENCFF274YGF.DNase.bed.gz\n",
    "FPATH=${FDIRY}/${FNAME}\n",
    "zcat ${FPATH} | head"
   ]
  },
  {
   "cell_type": "markdown",
   "id": "c88af325-e8f4-4cd5-bfe4-4bff05f92d74",
   "metadata": {},
   "source": [
    "## Copy and sort the files\n",
    "```\n",
    "ln -s file link\n",
    "zcat ${FP_INP} | sort -k 1,1 -k2,2n | gzip -c > ${FP_OUT}\n",
    "```"
   ]
  },
  {
   "cell_type": "code",
   "execution_count": 4,
   "id": "1cdbf300-f54d-473a-8dc7-5712f0a23782",
   "metadata": {},
   "outputs": [
    {
     "name": "stdout",
     "output_type": "stream",
     "text": [
      "K562.hg38.ENCSR000EKS.ENCFF274YGF.DNase.bed.gz\n",
      "K562.hg38.ENCSR000EOT.ENCFF185XRG.DNase.bed.gz\n",
      "K562.hg38.ENCSR483RKN.ENCFF558BLC.ATAC.bed.gz\n",
      "K562.hg38.ENCSR483RKN.ENCFF925CYR.ATAC.bed.gz\n",
      "K562.hg38.ENCSR868FGK.ENCFF333TAT.ATAC.bed.gz\n",
      "K562.hg38.ENCSR868FGK.ENCFF948AFM.ATAC.bed.gz\n"
     ]
    }
   ],
   "source": [
    "### set directory\n",
    "FD_INP=${FD_DAT}/external/encode_open_chromatin\n",
    "FD_OUT=${FD_RES}/region/encode_open_chromatin\n",
    "mkdir -p ${FD_OUT}\n",
    "\n",
    "### loop and link files\n",
    "FP_INPS=($(ls ${FD_INP}/*bed.gz))\n",
    "for FP_INP in ${FP_INPS[@]}; do\n",
    "    ### get input file name\n",
    "    FN_INP=$(basename ${FP_INP})\n",
    "    echo ${FN_INP}\n",
    "    \n",
    "    ### set output file name\n",
    "    FN_OUT=${FN_INP}\n",
    "    FP_OUT=${FD_OUT}/${FN_OUT}\n",
    "    \n",
    "    ### sort and output to a new file\n",
    "    zcat ${FP_INP} | sort -k 1,1 -k2,2n | gzip -c > ${FP_OUT}\n",
    "done"
   ]
  },
  {
   "cell_type": "markdown",
   "id": "9450f6fa-ca1e-455d-90dd-3aff1e8465bb",
   "metadata": {},
   "source": [
    "## Review"
   ]
  },
  {
   "cell_type": "markdown",
   "id": "f320c867-5658-4bb3-95c7-8248a88d1a31",
   "metadata": {},
   "source": [
    "**Check output files**"
   ]
  },
  {
   "cell_type": "code",
   "execution_count": 6,
   "id": "af12bf28-e9cb-45a2-b91a-bd1d2cb1f60e",
   "metadata": {},
   "outputs": [
    {
     "name": "stdout",
     "output_type": "stream",
     "text": [
      "description.tsv\n",
      "\u001b[0m\u001b[38;5;9mK562.hg38.ENCSR000EKS.ENCFF274YGF.DNase.bed.gz\u001b[0m\n",
      "\u001b[38;5;9mK562.hg38.ENCSR000EOT.ENCFF185XRG.DNase.bed.gz\u001b[0m\n",
      "\u001b[38;5;9mK562.hg38.ENCSR483RKN.ENCFF558BLC.ATAC.bed.gz\u001b[0m\n",
      "\u001b[38;5;9mK562.hg38.ENCSR483RKN.ENCFF925CYR.ATAC.bed.gz\u001b[0m\n",
      "\u001b[38;5;9mK562.hg38.ENCSR868FGK.ENCFF333TAT.ATAC.bed.gz\u001b[0m\n",
      "\u001b[38;5;9mK562.hg38.ENCSR868FGK.ENCFF948AFM.ATAC.bed.gz\u001b[0m\n"
     ]
    }
   ],
   "source": [
    "### set directory\n",
    "FD_INP=${FD_DAT}/external/encode_open_chromatin\n",
    "FD_OUT=${FD_RES}/region/encode_open_chromatin\n",
    "\n",
    "ls ${FD_OUT}"
   ]
  },
  {
   "cell_type": "code",
   "execution_count": 7,
   "id": "34d6fae3-2fb6-4615-9885-c5602a0fb526",
   "metadata": {},
   "outputs": [
    {
     "name": "stdout",
     "output_type": "stream",
     "text": [
      "chr1\t100028923\t100029241\tPeak_202759\t52\t.\t2.91347\t5.24652\t3.38358\t74\n",
      "chr1\t100037575\t100038998\tPeak_172664\t68\t.\t1.83651\t6.83702\t4.90355\t60\n",
      "chr1\t100037575\t100038998\tPeak_30781\t934\t.\t5.32597\t93.45621\t90.75060\t988\n",
      "chr1\t100037575\t100038998\tPeak_37596\t722\t.\t4.66917\t72.27560\t69.66279\t791\n",
      "chr1\t100037575\t100038998\tPeak_38860\t692\t.\t4.55797\t69.21054\t66.61273\t1182\n",
      "chr1\t100037575\t100038998\tPeak_7320\t1000\t.\t12.39880\t394.75714\t391.35434\t513\n",
      "chr1\t100046904\t100047187\tPeak_125191\t111\t.\t3.44067\t11.11133\t9.04548\t94\n",
      "chr1\t100048739\t100048974\tPeak_163268\t74\t.\t2.90807\t7.42227\t5.46578\t145\n",
      "chr1\t100050176\t100050470\tPeak_153800\t81\t.\t3.11401\t8.14941\t6.16809\t117\n",
      "chr1\t100090679\t100091339\tPeak_149202\t84\t.\t3.47044\t8.41934\t6.42649\t269\n"
     ]
    }
   ],
   "source": [
    "FNAME=K562.hg38.ENCSR483RKN.ENCFF558BLC.ATAC.bed.gz\n",
    "FPATH=${FD_INP}/${FNAME}\n",
    "zcat ${FPATH} | head"
   ]
  },
  {
   "cell_type": "code",
   "execution_count": 8,
   "id": "10b9c739-a1a5-4980-b85b-68230fdd8ca9",
   "metadata": {},
   "outputs": [
    {
     "name": "stdout",
     "output_type": "stream",
     "text": [
      "chr1\t10509\t10674\tPeak_125662\t110\t.\t4.29354\t11.01368\t8.94965\t94\n",
      "chr1\t41987\t42385\tPeak_116641\t124\t.\t4.60022\t12.47548\t10.37921\t281\n",
      "chr1\t41987\t42385\tPeak_178161\t63\t.\t3.22015\t6.39968\t4.47989\t99\n",
      "chr1\t46755\t47025\tPeak_217457\t47\t.\t2.76013\t4.70157\t2.87144\t182\n",
      "chr1\t68969\t69964\tPeak_105604\t147\t.\t5.06024\t14.77241\t12.63228\t733\n",
      "chr1\t68969\t69964\tPeak_203155\t52\t.\t2.91347\t5.24652\t3.38358\t77\n",
      "chr1\t68969\t69964\tPeak_80922\t232\t.\t6.59365\t23.21283\t20.95212\t310\n",
      "chr1\t78951\t79407\tPeak_150566\t82\t.\t3.68018\t8.27430\t6.28501\t335\n",
      "chr1\t778328\t779235\tPeak_145438\t89\t.\t2.37705\t8.90270\t6.89830\t74\n",
      "chr1\t778328\t779235\tPeak_2263\t1000\t.\t28.93443\t749.94922\t745.95093\t458\n"
     ]
    }
   ],
   "source": [
    "FNAME=K562.hg38.ENCSR483RKN.ENCFF558BLC.ATAC.bed.gz\n",
    "FPATH=${FD_OUT}/${FNAME}\n",
    "zcat ${FPATH} | head"
   ]
  },
  {
   "cell_type": "code",
   "execution_count": null,
   "id": "ff8f28e3-5680-41f7-8730-e43a42bb75ec",
   "metadata": {},
   "outputs": [],
   "source": []
  }
 ],
 "metadata": {
  "kernelspec": {
   "display_name": "Bash",
   "language": "bash",
   "name": "bash"
  },
  "language_info": {
   "codemirror_mode": "shell",
   "file_extension": ".sh",
   "mimetype": "text/x-sh",
   "name": "bash"
  }
 },
 "nbformat": 4,
 "nbformat_minor": 5
}
