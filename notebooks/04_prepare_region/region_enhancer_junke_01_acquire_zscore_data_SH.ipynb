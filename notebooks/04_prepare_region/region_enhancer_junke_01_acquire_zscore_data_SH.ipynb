{
 "cells": [
  {
   "cell_type": "raw",
   "id": "aa8133e8-e982-423e-814b-e58cc3710e20",
   "metadata": {},
   "source": [
    "---\n",
    "title: Prepare Junke peak call (z score) region 01\n",
    "subtitle: Get peak call from Junke's z-score peak caller\n",
    "format:\n",
    "    html:\n",
    "        code-fold:  true\n",
    "        code-tools: true\n",
    "---"
   ]
  },
  {
   "cell_type": "markdown",
   "id": "46960a8d-59e5-49a5-86b4-6c4d75bfe14b",
   "metadata": {},
   "source": [
    "**Set environment**"
   ]
  },
  {
   "cell_type": "code",
   "execution_count": 1,
   "id": "cdc3b4a3-74ab-4225-b6d1-82d4c88546a9",
   "metadata": {},
   "outputs": [
    {
     "name": "stdout",
     "output_type": "stream",
     "text": [
      "You are working on             Duke Server: HARDAC\n",
      "BASE DIRECTORY (FD_BASE):      /data/reddylab/Kuei\n",
      "REPO DIRECTORY (FD_REPO):      /data/reddylab/Kuei/repo\n",
      "WORK DIRECTORY (FD_WORK):      /data/reddylab/Kuei/work\n",
      "DATA DIRECTORY (FD_DATA):      /data/reddylab/Kuei/data\n",
      "CONTAINER DIR. (FD_SING):      /data/reddylab/Kuei/container\n",
      "\n",
      "You are working with           ENCODE FCC\n",
      "PATH OF PROJECT (FD_PRJ):      /data/reddylab/Kuei/repo/Proj_ENCODE_FCC\n",
      "PROJECT RESULTS (FD_RES):      /data/reddylab/Kuei/repo/Proj_ENCODE_FCC/results\n",
      "PROJECT SCRIPTS (FD_EXE):      /data/reddylab/Kuei/repo/Proj_ENCODE_FCC/scripts\n",
      "PROJECT DATA    (FD_DAT):      /data/reddylab/Kuei/repo/Proj_ENCODE_FCC/data\n",
      "PROJECT NOTE    (FD_NBK):      /data/reddylab/Kuei/repo/Proj_ENCODE_FCC/notebooks\n",
      "PROJECT DOCS    (FD_DOC):      /data/reddylab/Kuei/repo/Proj_ENCODE_FCC/docs\n",
      "PROJECT LOG     (FD_LOG):      /data/reddylab/Kuei/repo/Proj_ENCODE_FCC/log\n",
      "PROJECT APP     (FD_APP):      \n",
      "PROJECT REF     (FD_REF):      /data/reddylab/Kuei/repo/Proj_ENCODE_FCC/references\n",
      "PROJECT IMAGE   (FP_PRJ_SIF):  /data/reddylab/Kuei/container/project/singularity_proj_encode_fcc.sif\n",
      "\n"
     ]
    }
   ],
   "source": [
    "source ../run_config_project.sh\n",
    "show_env"
   ]
  },
  {
   "cell_type": "markdown",
   "id": "90558f49-6410-4367-8a58-9ab21167d954",
   "metadata": {},
   "source": [
    "## View files"
   ]
  },
  {
   "cell_type": "code",
   "execution_count": 2,
   "id": "4b43cfb3-9a3d-4141-a5c9-53be80be8be5",
   "metadata": {},
   "outputs": [
    {
     "name": "stdout",
     "output_type": "stream",
     "text": [
      "ATAC_STARR_seq_100bp_genomic_bin_in_ATAC_seq_peak_cpm_20_avg_DNA_lib.zip\n",
      "eSTARR_seq.zip\n",
      "LentiMPRA_DNA_filtering_avg_DNA_lib_count_10.zip\n",
      "TilingMPRA_ENCSR363XER_DNA_filtering_avg_DNA_lib_count_10.zip\n",
      "TilingMPRA_ENCSR394HXI_DNA_filtering_avg_DNA_lib_count_10.zip\n",
      "TilingMPRA_ENCSR917SFD_DNA_filtering_avg_DNA_lib_count_10.zip\n",
      "WHG_STARR_TR.zip\n"
     ]
    }
   ],
   "source": [
    "FD_INP=${FD_DAT}/processed/fcc_enhancer_Junke_zscore_240611\n",
    "ls ${FD_INP}/*zip | xargs -n 1 basename"
   ]
  },
  {
   "cell_type": "code",
   "execution_count": 4,
   "id": "577f372a-c4eb-41d1-99b5-692909c1141e",
   "metadata": {},
   "outputs": [
    {
     "name": "stdout",
     "output_type": "stream",
     "text": [
      "\u001b[0m\u001b[38;5;9mATAC_STARR_seq_100bp_genomic_bin_in_ATAC_seq_peak_cpm_20_avg_DNA_lib.zip\u001b[0m\n",
      "\u001b[38;5;27mdecompressed\u001b[0m\n",
      "\u001b[38;5;9meSTARR_seq.zip\u001b[0m\n",
      "\u001b[38;5;9mLentiMPRA_DNA_filtering_avg_DNA_lib_count_10.zip\u001b[0m\n",
      "\u001b[38;5;9mTilingMPRA_ENCSR363XER_DNA_filtering_avg_DNA_lib_count_10.zip\u001b[0m\n",
      "\u001b[38;5;9mTilingMPRA_ENCSR394HXI_DNA_filtering_avg_DNA_lib_count_10.zip\u001b[0m\n",
      "\u001b[38;5;9mTilingMPRA_ENCSR917SFD_DNA_filtering_avg_DNA_lib_count_10.zip\u001b[0m\n",
      "\u001b[38;5;9mWHG_STARR_TR.zip\u001b[0m\n"
     ]
    }
   ],
   "source": [
    "ls ${FD_INP}"
   ]
  },
  {
   "cell_type": "code",
   "execution_count": null,
   "id": "bc20f3d1-abf2-4e35-8891-61ec5813f38e",
   "metadata": {},
   "outputs": [],
   "source": []
  },
  {
   "cell_type": "code",
   "execution_count": null,
   "id": "b0ad84f8-9a33-48ed-8515-cf4ad53a13d1",
   "metadata": {},
   "outputs": [],
   "source": []
  },
  {
   "cell_type": "code",
   "execution_count": null,
   "id": "1fd56957-2975-469d-a16c-148060295dfc",
   "metadata": {},
   "outputs": [],
   "source": []
  },
  {
   "cell_type": "code",
   "execution_count": null,
   "id": "50036acc-e809-4900-8bc9-5c3967c80ea8",
   "metadata": {},
   "outputs": [],
   "source": []
  },
  {
   "cell_type": "code",
   "execution_count": null,
   "id": "e4e245d8-30ec-4d4f-8fe7-ca93990fb9a3",
   "metadata": {},
   "outputs": [],
   "source": []
  },
  {
   "cell_type": "code",
   "execution_count": null,
   "id": "a384466d-489b-4504-8607-6ed2df0f5511",
   "metadata": {},
   "outputs": [],
   "source": []
  },
  {
   "cell_type": "code",
   "execution_count": 5,
   "id": "4bb7913e-6165-4ff2-ba9d-6c00f379c7d9",
   "metadata": {},
   "outputs": [
    {
     "name": "stdout",
     "output_type": "stream",
     "text": [
      "\u001b[0m\u001b[38;5;9mATAC_STARR_seq_100bp_genomic_bin_in_ATAC_seq_peak_cpm_20_avg_DNA_lib.zip\u001b[0m\n",
      "\u001b[38;5;9meSTARR_seq.zip\u001b[0m\n",
      "\u001b[38;5;9mLentiMPRA_DNA_filtering_avg_DNA_lib_count_10.zip\u001b[0m\n",
      "\u001b[38;5;9mTilingMPRA_ENCSR363XER_DNA_filtering_avg_DNA_lib_count_10.zip\u001b[0m\n",
      "\u001b[38;5;9mTilingMPRA_ENCSR394HXI_DNA_filtering_avg_DNA_lib_count_10.zip\u001b[0m\n",
      "\u001b[38;5;9mTilingMPRA_ENCSR917SFD_DNA_filtering_avg_DNA_lib_count_10.zip\u001b[0m\n"
     ]
    }
   ],
   "source": [
    "ls ${FD_DAT}/processed/fcc_enhancer_Junke_zscore_240611"
   ]
  },
  {
   "cell_type": "code",
   "execution_count": 7,
   "id": "019e8be1-9a1b-49ed-87c3-8bc059c5aee8",
   "metadata": {},
   "outputs": [
    {
     "name": "stdout",
     "output_type": "stream",
     "text": [
      "\u001b[0m\u001b[38;5;9mATAC_STARR_seq_100bp_genomic_bin_in_ATAC_seq_peak_cpm_20_avg_DNA_lib.zip\u001b[0m\n",
      "\u001b[38;5;9meSTARR_seq.zip\u001b[0m\n",
      "\u001b[38;5;9mLentiMPRA_DNA_filtering_avg_DNA_lib_count_10.zip\u001b[0m\n",
      "\u001b[38;5;9mTilingMPRA_ENCSR363XER_DNA_filtering_avg_DNA_lib_count_10.zip\u001b[0m\n",
      "\u001b[38;5;9mTilingMPRA_ENCSR394HXI_DNA_filtering_avg_DNA_lib_count_10.zip\u001b[0m\n",
      "\u001b[38;5;9mTilingMPRA_ENCSR917SFD_DNA_filtering_avg_DNA_lib_count_10.zip\u001b[0m\n"
     ]
    }
   ],
   "source": [
    "cd ${FD_DAT}/processed/fcc_enhancer_Junke_zscore_240611\n",
    "ls"
   ]
  },
  {
   "cell_type": "code",
   "execution_count": 9,
   "id": "3105d0e4-ae15-47ad-9467-8222d22b7be2",
   "metadata": {},
   "outputs": [
    {
     "name": "stdout",
     "output_type": "stream",
     "text": [
      "Archive:  eSTARR_seq.zip\n",
      "   creating: test/eSTARR_seq/\n",
      "  inflating: test/__MACOSX/._eSTARR_seq  \n",
      "  inflating: test/eSTARR_seq/neg_ctrl_region.txt  \n",
      "   creating: test/eSTARR_seq/merged_peak/\n",
      "   creating: test/eSTARR_seq/element_level/\n",
      "  inflating: test/eSTARR_seq/neg_ctrl.pdf  \n",
      "  inflating: test/eSTARR_seq/merged_peak/merged_repressor_peaks_in_either_orientation.bed.gz  \n",
      "  inflating: test/eSTARR_seq/merged_peak/merged_enhancer_peaks_in_either_orientation.bed.gz  \n",
      "  inflating: test/eSTARR_seq/merged_peak/merged_enhancer_peak_orientation_independent.bed.gz  \n",
      "  inflating: test/eSTARR_seq/merged_peak/merged_repressor_peak_orientation_independent.bed.gz  \n",
      "  inflating: test/eSTARR_seq/element_level/all_element_tested_in_both_orientations.bed.gz  \n",
      "  inflating: test/eSTARR_seq/element_level/element_level_all_result.bed.gz  \n"
     ]
    }
   ],
   "source": [
    "unzip eSTARR_seq.zip -d test"
   ]
  },
  {
   "cell_type": "code",
   "execution_count": 12,
   "id": "a7d03f53-a25c-4153-8c88-305acc5aabbe",
   "metadata": {},
   "outputs": [
    {
     "name": "stdout",
     "output_type": "stream",
     "text": [
      "\u001b[0m\u001b[38;5;27meSTARR_seq\u001b[0m  \u001b[38;5;27m__MACOSX\u001b[0m\n"
     ]
    }
   ],
   "source": [
    "ls test\n",
    "rm -rf ./test/__MACOSX"
   ]
  },
  {
   "cell_type": "code",
   "execution_count": 13,
   "id": "b5b16921-c358-477b-b490-75a44950daaa",
   "metadata": {},
   "outputs": [
    {
     "name": "stdout",
     "output_type": "stream",
     "text": [
      "\u001b[0m\u001b[38;5;27melement_level\u001b[0m  \u001b[38;5;27mmerged_peak\u001b[0m  neg_ctrl.pdf  neg_ctrl_region.txt\n"
     ]
    }
   ],
   "source": [
    "ls test/eSTARR_seq"
   ]
  },
  {
   "cell_type": "code",
   "execution_count": null,
   "id": "01b51cb7-5a79-426b-8031-a06dbcbdc38e",
   "metadata": {},
   "outputs": [],
   "source": []
  },
  {
   "cell_type": "code",
   "execution_count": null,
   "id": "aaf1071e-464a-4e26-a094-dbac445b8301",
   "metadata": {},
   "outputs": [],
   "source": []
  },
  {
   "cell_type": "code",
   "execution_count": null,
   "id": "99d57cf1-3c61-4414-9439-baae135fb126",
   "metadata": {},
   "outputs": [],
   "source": [
    "FD_INP=${FD_WORK}/proj_encode_fcc/source/annotation_enhancer_junke_zscore\n",
    "ls ${FD_INP}"
   ]
  },
  {
   "cell_type": "code",
   "execution_count": null,
   "id": "0251bbad-a5db-42ef-85dc-3e06110cfce2",
   "metadata": {},
   "outputs": [],
   "source": []
  },
  {
   "cell_type": "code",
   "execution_count": null,
   "id": "8abe68c4-4b08-42ce-9300-afaf2cf8287b",
   "metadata": {},
   "outputs": [],
   "source": []
  },
  {
   "cell_type": "code",
   "execution_count": null,
   "id": "2e2dc999-a76a-4476-82d5-c5ce329c6c36",
   "metadata": {},
   "outputs": [],
   "source": []
  },
  {
   "cell_type": "code",
   "execution_count": null,
   "id": "9e7c910a-c625-4df8-8024-c25d5bd011fc",
   "metadata": {},
   "outputs": [],
   "source": []
  },
  {
   "cell_type": "markdown",
   "id": "9826b7c0-d3e0-4a0c-92c6-374aac10d064",
   "metadata": {},
   "source": [
    "**Set environment**"
   ]
  },
  {
   "cell_type": "code",
   "execution_count": 1,
   "id": "a0f00ba2-0f76-4453-9575-692215ff4f76",
   "metadata": {},
   "outputs": [
    {
     "name": "stdout",
     "output_type": "stream",
     "text": [
      "You are working on             Duke Server: HARDAC\n",
      "BASE DIRECTORY (FD_BASE):      /data/reddylab/Kuei\n",
      "REPO DIRECTORY (FD_REPO):      /data/reddylab/Kuei/repo\n",
      "WORK DIRECTORY (FD_WORK):      /data/reddylab/Kuei/work\n",
      "DATA DIRECTORY (FD_DATA):      /data/reddylab/Kuei/data\n",
      "CONTAINER DIR. (FD_SING):      /data/reddylab/Kuei/container\n",
      "\n",
      "You are working with           ENCODE FCC\n",
      "PATH OF PROJECT (FD_PRJ):      /data/reddylab/Kuei/repo/Proj_ENCODE_FCC\n",
      "PROJECT RESULTS (FD_RES):      /data/reddylab/Kuei/repo/Proj_ENCODE_FCC/results\n",
      "PROJECT SCRIPTS (FD_EXE):      /data/reddylab/Kuei/repo/Proj_ENCODE_FCC/scripts\n",
      "PROJECT DATA    (FD_DAT):      /data/reddylab/Kuei/repo/Proj_ENCODE_FCC/data\n",
      "PROJECT NOTE    (FD_NBK):      /data/reddylab/Kuei/repo/Proj_ENCODE_FCC/notebooks\n",
      "PROJECT DOCS    (FD_DOC):      /data/reddylab/Kuei/repo/Proj_ENCODE_FCC/docs\n",
      "PROJECT LOG     (FD_LOG):      /data/reddylab/Kuei/repo/Proj_ENCODE_FCC/log\n",
      "PROJECT APP     (FD_APP):      /data/reddylab/Kuei/repo/Proj_ENCODE_FCC/app\n",
      "PROJECT REF     (FD_REF):      /data/reddylab/Kuei/repo/Proj_ENCODE_FCC/references\n",
      "PROJECT IMAGE   (FP_PRJ_SIF):  /data/reddylab/Kuei/repo/Proj_ENCODE_FCC/app/singularity_proj_encode_fcc.sif\n",
      "\n"
     ]
    }
   ],
   "source": [
    "source ../run_config_project.sh\n",
    "show_env"
   ]
  },
  {
   "cell_type": "code",
   "execution_count": 7,
   "id": "6c339ea6-6b0e-4171-bd01-4f2fac601fbf",
   "metadata": {},
   "outputs": [
    {
     "name": "stdout",
     "output_type": "stream",
     "text": [
      "\u001b[0m\u001b[38;5;27mdeep_ATAC_STARR_seq.genomic_bin_100_sliding_10\u001b[0m\n",
      "\u001b[38;5;9mdeep_ATAC_STARR_seq.genomic_bin_100_sliding_10.tar.gz\u001b[0m\n",
      "Enhancer call file format documentation.docx\n",
      "\u001b[38;5;27mlentiMPRA\u001b[0m\n",
      "\u001b[38;5;9mlentiMPRA.tar.gz\u001b[0m\n",
      "Note.md\n",
      "Readme.md\n",
      "\u001b[38;5;27mtilingMPRA_MYC_GATA\u001b[0m\n",
      "\u001b[38;5;9mtilingMPRA_MYC_GATA.tar.gz\u001b[0m\n",
      "\u001b[38;5;27mtilingMPRA_OL13\u001b[0m\n",
      "\u001b[38;5;9mtilingMPRA_OL13.tar.gz\u001b[0m\n",
      "\u001b[38;5;27mtilingMPRA_OL45\u001b[0m\n",
      "\u001b[38;5;9mtilingMPRA_OL45.tar.gz\u001b[0m\n",
      "\u001b[38;5;27mWHG_STARR_TR\u001b[0m\n",
      "\u001b[38;5;9mWHG_STARR_TR.tar.gz\u001b[0m\n",
      "\u001b[38;5;27mzold_MPRA\u001b[0m\n"
     ]
    }
   ],
   "source": [
    "FD_INP=${FD_WORK}/proj_encode_fcc/source/annotation_enhancer_junke_zscore\n",
    "ls ${FD_INP}"
   ]
  },
  {
   "cell_type": "code",
   "execution_count": 8,
   "id": "8a85b154-a7db-4bb5-9150-7db12eb131b0",
   "metadata": {},
   "outputs": [
    {
     "name": "stdout",
     "output_type": "stream",
     "text": [
      "\u001b[0m\u001b[38;5;27mlentiMPRA\u001b[0m            \u001b[38;5;9mtilingMPRA_GATA_MYC.tar.gz\u001b[0m  \u001b[38;5;27mtilingMPRA_OL45\u001b[0m\n",
      "\u001b[38;5;9mlentiMPRA.tar.gz\u001b[0m     \u001b[38;5;27mtilingMPRA_OL13\u001b[0m             \u001b[38;5;9mtilingMPRA_OL45.tar.gz\u001b[0m\n",
      "\u001b[38;5;27mtilingMPRA_GATA_MYC\u001b[0m  \u001b[38;5;9mtilingMPRA_OL13.tar.gz\u001b[0m\n"
     ]
    }
   ],
   "source": [
    "ls ${FD_INP}/zold_MPRA"
   ]
  },
  {
   "cell_type": "code",
   "execution_count": 9,
   "id": "a8c67b6a-ba21-4349-a16a-c45f2481707a",
   "metadata": {},
   "outputs": [
    {
     "name": "stdout",
     "output_type": "stream",
     "text": [
      "\u001b[0m\u001b[38;5;9m/data/reddylab/Kuei/work/proj_encode_fcc/source/annotation_enhancer_junke_zscore/deep_ATAC_STARR_seq.genomic_bin_100_sliding_10.tar.gz\u001b[0m\u001b[K\n",
      "\u001b[38;5;9m/data/reddylab/Kuei/work/proj_encode_fcc/source/annotation_enhancer_junke_zscore/lentiMPRA.tar.gz\u001b[0m\u001b[K\n",
      "\u001b[38;5;9m/data/reddylab/Kuei/work/proj_encode_fcc/source/annotation_enhancer_junke_zscore/tilingMPRA_MYC_GATA.tar.gz\u001b[0m\u001b[K\n",
      "\u001b[38;5;9m/data/reddylab/Kuei/work/proj_encode_fcc/source/annotation_enhancer_junke_zscore/tilingMPRA_OL13.tar.gz\u001b[0m\u001b[K\n",
      "\u001b[38;5;9m/data/reddylab/Kuei/work/proj_encode_fcc/source/annotation_enhancer_junke_zscore/tilingMPRA_OL45.tar.gz\u001b[0m\u001b[K\n",
      "\u001b[38;5;9m/data/reddylab/Kuei/work/proj_encode_fcc/source/annotation_enhancer_junke_zscore/WHG_STARR_TR.tar.gz\u001b[0m\u001b[K\n"
     ]
    }
   ],
   "source": [
    "ls ${FD_INP}/*tar.gz"
   ]
  },
  {
   "cell_type": "code",
   "execution_count": 10,
   "id": "4583cf09-f870-4d60-88f0-fc8c000c2bf0",
   "metadata": {},
   "outputs": [],
   "source": [
    "FD_OUT=${FD_DAT}/processed/fcc_enhancer_Junke_zscore\n",
    "cp ${FD_INP}/*tar.gz ${FD_OUT}/"
   ]
  },
  {
   "cell_type": "code",
   "execution_count": 11,
   "id": "3b5c58a9-8b98-42d4-819a-04543d8c2d62",
   "metadata": {},
   "outputs": [
    {
     "name": "stdout",
     "output_type": "stream",
     "text": [
      "-rw-rw-r-- 1 kk319 reddylab 584M Jun 14  2023 \u001b[0m\u001b[38;5;9m/data/reddylab/Kuei/work/proj_encode_fcc/source/annotation_enhancer_junke_zscore/deep_ATAC_STARR_seq.genomic_bin_100_sliding_10.tar.gz\u001b[0m\u001b[K\n",
      "-rw-rw-r-- 1 kk319 reddylab  31M Dec  5 12:26 \u001b[38;5;9m/data/reddylab/Kuei/work/proj_encode_fcc/source/annotation_enhancer_junke_zscore/lentiMPRA.tar.gz\u001b[0m\u001b[K\n",
      "-rw-rw-r-- 1 kk319 reddylab 8.3M Dec  5 12:26 \u001b[38;5;9m/data/reddylab/Kuei/work/proj_encode_fcc/source/annotation_enhancer_junke_zscore/tilingMPRA_MYC_GATA.tar.gz\u001b[0m\u001b[K\n",
      "-rw-rw-r-- 1 kk319 reddylab 3.6M Dec  5 12:26 \u001b[38;5;9m/data/reddylab/Kuei/work/proj_encode_fcc/source/annotation_enhancer_junke_zscore/tilingMPRA_OL13.tar.gz\u001b[0m\u001b[K\n",
      "-rw-rw-r-- 1 kk319 reddylab 7.7M Dec  5 12:26 \u001b[38;5;9m/data/reddylab/Kuei/work/proj_encode_fcc/source/annotation_enhancer_junke_zscore/tilingMPRA_OL45.tar.gz\u001b[0m\u001b[K\n",
      "-rw-rw-r-- 1 kk319 reddylab  22G Jun 14  2023 \u001b[38;5;9m/data/reddylab/Kuei/work/proj_encode_fcc/source/annotation_enhancer_junke_zscore/WHG_STARR_TR.tar.gz\u001b[0m\u001b[K\n"
     ]
    }
   ],
   "source": [
    "ls -lh ${FD_INP}/*tar.gz"
   ]
  },
  {
   "cell_type": "code",
   "execution_count": 12,
   "id": "4baa4f90-190e-4e13-b27f-d8a43cb7059b",
   "metadata": {},
   "outputs": [
    {
     "name": "stdout",
     "output_type": "stream",
     "text": [
      "total 22G\n",
      "-rw-rw-r-- 1 kk319 reddylab 584M Apr 15 11:07 \u001b[0m\u001b[38;5;9mdeep_ATAC_STARR_seq.genomic_bin_100_sliding_10.tar.gz\u001b[0m\n",
      "-rw-rw-r-- 1 kk319 reddylab  31M Apr 15 11:07 \u001b[38;5;9mlentiMPRA.tar.gz\u001b[0m\n",
      "-rw-rw-r-- 1 kk319 reddylab 8.3M Apr 15 11:07 \u001b[38;5;9mtilingMPRA_MYC_GATA.tar.gz\u001b[0m\n",
      "-rw-rw-r-- 1 kk319 reddylab 3.6M Apr 15 11:07 \u001b[38;5;9mtilingMPRA_OL13.tar.gz\u001b[0m\n",
      "-rw-rw-r-- 1 kk319 reddylab 7.7M Apr 15 11:07 \u001b[38;5;9mtilingMPRA_OL45.tar.gz\u001b[0m\n",
      "-rw-rw-r-- 1 kk319 reddylab  22G Apr 15 11:08 \u001b[38;5;9mWHG_STARR_TR.tar.gz\u001b[0m\n"
     ]
    }
   ],
   "source": [
    "ls -lh ${FD_OUT}"
   ]
  },
  {
   "cell_type": "code",
   "execution_count": 15,
   "id": "7af84ad6-02dd-4f7a-8aef-40d5e49dc1a3",
   "metadata": {},
   "outputs": [
    {
     "name": "stdout",
     "output_type": "stream",
     "text": [
      "deep_ATAC_STARR_seq.genomic_bin_100_sliding_10.tar.gz\n",
      "lentiMPRA.tar.gz\n",
      "tilingMPRA_MYC_GATA.tar.gz\n",
      "tilingMPRA_OL13.tar.gz\n",
      "tilingMPRA_OL45.tar.gz\n",
      "WHG_STARR_TR.tar.gz\n"
     ]
    }
   ],
   "source": [
    "ls -1 ${FD_OUT}/*tar.gz | xargs -n 1 basename"
   ]
  },
  {
   "cell_type": "code",
   "execution_count": null,
   "id": "7d8d5903-d780-43c1-9941-c698fb284bf0",
   "metadata": {},
   "outputs": [],
   "source": []
  }
 ],
 "metadata": {
  "kernelspec": {
   "display_name": "Bash",
   "language": "bash",
   "name": "bash"
  },
  "language_info": {
   "codemirror_mode": "shell",
   "file_extension": ".sh",
   "mimetype": "text/x-sh",
   "name": "bash"
  }
 },
 "nbformat": 4,
 "nbformat_minor": 5
}
