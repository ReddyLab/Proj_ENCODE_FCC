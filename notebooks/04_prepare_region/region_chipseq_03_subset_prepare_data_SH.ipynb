{
 "cells": [
  {
   "cell_type": "raw",
   "id": "655a3b74-e322-4597-90ce-2863c59b56df",
   "metadata": {},
   "source": [
    "---\n",
    "title: Prepare ENCODE ChIP-seq 03 (Subset)\n",
    "subtitle: Prepare the data\n",
    "format:\n",
    "    html:\n",
    "        code-fold:  true\n",
    "        code-tools: true\n",
    "---"
   ]
  },
  {
   "cell_type": "markdown",
   "id": "fcbd185b-ba0e-4586-8687-5afb436a77d8",
   "metadata": {},
   "source": [
    "**Set environment**"
   ]
  },
  {
   "cell_type": "code",
   "execution_count": 1,
   "id": "f2ca7f4e-a2d1-46db-b1ad-24b4b8dfb937",
   "metadata": {},
   "outputs": [
    {
     "name": "stdout",
     "output_type": "stream",
     "text": [
      "You are working on             Duke Server: HARDAC\n",
      "BASE DIRECTORY (FD_BASE):      /data/reddylab/Kuei\n",
      "REPO DIRECTORY (FD_REPO):      /data/reddylab/Kuei/repo\n",
      "WORK DIRECTORY (FD_WORK):      /data/reddylab/Kuei/work\n",
      "DATA DIRECTORY (FD_DATA):      /data/reddylab/Kuei/data\n",
      "CONTAINER DIR. (FD_SING):      /data/reddylab/Kuei/container\n",
      "\n",
      "You are working with           ENCODE FCC\n",
      "PATH OF PROJECT (FD_PRJ):      /data/reddylab/Kuei/repo/Proj_ENCODE_FCC\n",
      "PROJECT RESULTS (FD_RES):      /data/reddylab/Kuei/repo/Proj_ENCODE_FCC/results\n",
      "PROJECT SCRIPTS (FD_EXE):      /data/reddylab/Kuei/repo/Proj_ENCODE_FCC/scripts\n",
      "PROJECT DATA    (FD_DAT):      /data/reddylab/Kuei/repo/Proj_ENCODE_FCC/data\n",
      "PROJECT NOTE    (FD_NBK):      /data/reddylab/Kuei/repo/Proj_ENCODE_FCC/notebooks\n",
      "PROJECT DOCS    (FD_DOC):      /data/reddylab/Kuei/repo/Proj_ENCODE_FCC/docs\n",
      "PROJECT LOG     (FD_LOG):      /data/reddylab/Kuei/repo/Proj_ENCODE_FCC/log\n",
      "PROJECT APP     (FD_APP):      /data/reddylab/Kuei/repo/Proj_ENCODE_FCC/app\n",
      "PROJECT REF     (FD_REF):      /data/reddylab/Kuei/repo/Proj_ENCODE_FCC/references\n",
      "PROJECT IMAGE   (FP_PRJ_SIF):  /data/reddylab/Kuei/repo/Proj_ENCODE_FCC/app/singularity_proj_encode_fcc.sif\n",
      "\n"
     ]
    }
   ],
   "source": [
    "source ../run_config_project.sh\n",
    "show_env"
   ]
  },
  {
   "cell_type": "markdown",
   "id": "26fc9be3-7ec1-4f09-807b-afd1a199129e",
   "metadata": {
    "tags": []
   },
   "source": [
    "## Prepare"
   ]
  },
  {
   "cell_type": "code",
   "execution_count": 2,
   "id": "ba770b13-6cd3-4e69-a13f-03fc94cbaa97",
   "metadata": {},
   "outputs": [
    {
     "name": "stdout",
     "output_type": "stream",
     "text": [
      "/data/reddylab/Kuei/repo/Proj_ENCODE_FCC/data/external/encode_chipseq_subset\n",
      "21\n",
      "K562.hg38.ENCSR000AKP.ENCFF544LXB.ChIPseq.H3K27ac.bed.gz\n",
      "K562.hg38.ENCSR000AKQ.ENCFF323WOT.ChIPseq.H3K27me3.bed.gz\n",
      "K562.hg38.ENCSR000AKS.ENCFF135ZLM.ChIPseq.H3K4me1.bed.gz\n",
      "K562.hg38.ENCSR000AKT.ENCFF749KLQ.ChIPseq.H3K4me2.bed.gz\n",
      "K562.hg38.ENCSR000BMH.ENCFF398UQZ.ChIPseq.YY1.bed.gz\n",
      "K562.hg38.ENCSR000BMW.ENCFF707MDI.ChIPseq.REST.bed.gz\n",
      "K562.hg38.ENCSR000EFS.ENCFF190CGV.ChIPseq.JUN.bed.gz\n",
      "K562.hg38.ENCSR000EFT.ENCFF657CTC.ChIPseq.GATA1.bed.gz\n",
      "K562.hg38.ENCSR000EFU.ENCFF715WGN.ChIPseq.ELK1.bed.gz\n",
      "K562.hg38.ENCSR000EGE.ENCFF702XPO.ChIPseq.EP300.bed.gz\n",
      "K562.hg38.ENCSR000EGM.ENCFF660GHM.ChIPseq.CTCF.bed.gz\n",
      "K562.hg38.ENCSR000EHB.ENCFF852ZRK.ChIPseq.TAL1.bed.gz\n",
      "K562.hg38.ENCSR004GKA.ENCFF242AOL.ChIPseq.ZEB2.bed.gz\n",
      "K562.hg38.ENCSR091GVJ.ENCFF627RSK.ChIPseq.ATF1.bed.gz\n",
      "K562.hg38.ENCSR121SPB.ENCFF142ZTD.ChIPseq.KLF10.bed.gz\n",
      "K562.hg38.ENCSR388QZF.ENCFF355MNE.ChIPseq.POLR2A.bed.gz\n",
      "K562.hg38.ENCSR552YGL.ENCFF023IFO.ChIPseq.NFE2.bed.gz\n",
      "K562.hg38.ENCSR668LDD.ENCFF885FQN.ChIPseq.H3K4me3.bed.gz\n",
      "K562.hg38.ENCSR760UVO.ENCFF488OTN.ChIPseq.KLF16.bed.gz\n",
      "K562.hg38.ENCSR991ELG.ENCFF553GPK.ChIPseq.SP1.bed.gz\n",
      "K562.hg38.ENCSR998AJK.ENCFF777PKJ.ChIPseq.NRF1.bed.gz\n"
     ]
    }
   ],
   "source": [
    "FDIRY=${FD_DAT}/external/encode_chipseq_subset\n",
    "\n",
    "echo ${FDIRY}\n",
    "ls   ${FDIRY}/*.bed.gz | wc -l\n",
    "ls   ${FDIRY}/*.bed.gz | xargs -n 1 basename"
   ]
  },
  {
   "cell_type": "code",
   "execution_count": 3,
   "id": "70b4a16c-66b8-4adc-b815-17b85360593b",
   "metadata": {},
   "outputs": [
    {
     "name": "stdout",
     "output_type": "stream",
     "text": [
      "chr1\t100028600\t100028930\tPeak_47835\t54\t.\t2.76831\t5.42882\t3.51807\t159\n",
      "chr1\t100036704\t100039952\tPeak_1354\t1000\t.\t25.73648\t216.21426\t212.19016\t1075\n",
      "chr1\t100049282\t100049759\tPeak_40225\t69\t.\t3.43177\t6.91015\t4.94452\t331\n",
      "chr1\t100050055\t100050522\tPeak_53510\t47\t.\t2.44126\t4.75251\t2.87542\t319\n",
      "chr1\t100061449\t100061694\tPeak_49711\t52\t.\t3.02405\t5.23828\t3.33907\t115\n",
      "chr1\t100090387\t100090929\tPeak_41569\t65\t.\t3.34388\t6.56285\t4.60720\t144\n",
      "chr1\t100129975\t100134105\tPeak_5627\t1000\t.\t10.20206\t106.07190\t102.91519\t2814\n",
      "chr1\t100244086\t100244356\tPeak_50570\t50\t.\t2.94687\t5.05628\t3.16241\t121\n",
      "chr1\t100244551\t100245189\tPeak_55989\t44\t.\t2.48105\t4.47616\t2.61285\t488\n",
      "chr1\t100246265\t100247485\tPeak_20752\t205\t.\t5.07687\t20.59566\t18.32800\t522\n"
     ]
    }
   ],
   "source": [
    "FDIRY=${FD_DAT}/external/encode_chipseq_subset\n",
    "FNAME=K562.hg38.ENCSR000AKP.ENCFF544LXB.ChIPseq.H3K27ac.bed.gz\n",
    "FPATH=${FDIRY}/${FNAME}\n",
    "zcat ${FPATH} | head"
   ]
  },
  {
   "cell_type": "markdown",
   "id": "53e1fdfa-bb7f-4be4-84a5-0ae7b60ef511",
   "metadata": {},
   "source": [
    "## Copy and sort the files\n",
    "```\n",
    "ln -s file link\n",
    "zcat ${FP_INP} | sort -k 1,1 -k2,2n | gzip -c > ${FP_OUT}\n",
    "```"
   ]
  },
  {
   "cell_type": "code",
   "execution_count": 4,
   "id": "def12d6c-d941-4c0f-85fb-76fc3396abe3",
   "metadata": {},
   "outputs": [
    {
     "name": "stdout",
     "output_type": "stream",
     "text": [
      "K562.hg38.ENCSR000AKP.ENCFF544LXB.ChIPseq.H3K27ac.bed.gz\n",
      "K562.hg38.ENCSR000AKQ.ENCFF323WOT.ChIPseq.H3K27me3.bed.gz\n",
      "K562.hg38.ENCSR000AKS.ENCFF135ZLM.ChIPseq.H3K4me1.bed.gz\n",
      "K562.hg38.ENCSR000AKT.ENCFF749KLQ.ChIPseq.H3K4me2.bed.gz\n",
      "K562.hg38.ENCSR000BMH.ENCFF398UQZ.ChIPseq.YY1.bed.gz\n",
      "K562.hg38.ENCSR000BMW.ENCFF707MDI.ChIPseq.REST.bed.gz\n",
      "K562.hg38.ENCSR000EFS.ENCFF190CGV.ChIPseq.JUN.bed.gz\n",
      "K562.hg38.ENCSR000EFT.ENCFF657CTC.ChIPseq.GATA1.bed.gz\n",
      "K562.hg38.ENCSR000EFU.ENCFF715WGN.ChIPseq.ELK1.bed.gz\n",
      "K562.hg38.ENCSR000EGE.ENCFF702XPO.ChIPseq.EP300.bed.gz\n",
      "K562.hg38.ENCSR000EGM.ENCFF660GHM.ChIPseq.CTCF.bed.gz\n",
      "K562.hg38.ENCSR000EHB.ENCFF852ZRK.ChIPseq.TAL1.bed.gz\n",
      "K562.hg38.ENCSR004GKA.ENCFF242AOL.ChIPseq.ZEB2.bed.gz\n",
      "K562.hg38.ENCSR091GVJ.ENCFF627RSK.ChIPseq.ATF1.bed.gz\n",
      "K562.hg38.ENCSR121SPB.ENCFF142ZTD.ChIPseq.KLF10.bed.gz\n",
      "K562.hg38.ENCSR388QZF.ENCFF355MNE.ChIPseq.POLR2A.bed.gz\n",
      "K562.hg38.ENCSR552YGL.ENCFF023IFO.ChIPseq.NFE2.bed.gz\n",
      "K562.hg38.ENCSR668LDD.ENCFF885FQN.ChIPseq.H3K4me3.bed.gz\n",
      "K562.hg38.ENCSR760UVO.ENCFF488OTN.ChIPseq.KLF16.bed.gz\n",
      "K562.hg38.ENCSR991ELG.ENCFF553GPK.ChIPseq.SP1.bed.gz\n",
      "K562.hg38.ENCSR998AJK.ENCFF777PKJ.ChIPseq.NRF1.bed.gz\n"
     ]
    }
   ],
   "source": [
    "### set directory\n",
    "FD_INP=${FD_DAT}/external/encode_chipseq_subset\n",
    "FD_OUT=${FD_RES}/region/encode_chipseq_subset\n",
    "mkdir -p ${FD_OUT}\n",
    "\n",
    "### loop and link files\n",
    "FP_INPS=($(ls ${FD_INP}/*bed.gz))\n",
    "for FP_INP in ${FP_INPS[@]}; do\n",
    "    ### get input file name\n",
    "    FN_INP=$(basename ${FP_INP})\n",
    "    echo ${FN_INP}\n",
    "    \n",
    "    ### set output file name\n",
    "    FN_OUT=${FN_INP}\n",
    "    FP_OUT=${FD_OUT}/${FN_OUT}\n",
    "    \n",
    "    ### sort and output to a new file\n",
    "    zcat ${FP_INP} | sort -k 1,1 -k2,2n | gzip -c > ${FP_OUT}\n",
    "done"
   ]
  },
  {
   "cell_type": "markdown",
   "id": "120053de-9523-4058-9d3b-f9a10765dff1",
   "metadata": {},
   "source": [
    "## Review"
   ]
  },
  {
   "cell_type": "markdown",
   "id": "7ea97470-89da-4184-ac5a-47670f0c5dee",
   "metadata": {},
   "source": [
    "**Check output files**"
   ]
  },
  {
   "cell_type": "code",
   "execution_count": 5,
   "id": "d50da224-ea16-4b95-a45d-3c2baec98328",
   "metadata": {},
   "outputs": [
    {
     "name": "stdout",
     "output_type": "stream",
     "text": [
      "\u001b[0m\u001b[38;5;9mK562.hg38.ENCSR000AKP.ENCFF544LXB.ChIPseq.H3K27ac.bed.gz\u001b[0m\n",
      "\u001b[38;5;9mK562.hg38.ENCSR000AKQ.ENCFF323WOT.ChIPseq.H3K27me3.bed.gz\u001b[0m\n",
      "\u001b[38;5;9mK562.hg38.ENCSR000AKS.ENCFF135ZLM.ChIPseq.H3K4me1.bed.gz\u001b[0m\n",
      "\u001b[38;5;9mK562.hg38.ENCSR000AKT.ENCFF749KLQ.ChIPseq.H3K4me2.bed.gz\u001b[0m\n",
      "\u001b[38;5;9mK562.hg38.ENCSR000BMH.ENCFF398UQZ.ChIPseq.YY1.bed.gz\u001b[0m\n",
      "\u001b[38;5;9mK562.hg38.ENCSR000BMW.ENCFF707MDI.ChIPseq.REST.bed.gz\u001b[0m\n",
      "\u001b[38;5;9mK562.hg38.ENCSR000EFS.ENCFF190CGV.ChIPseq.JUN.bed.gz\u001b[0m\n",
      "\u001b[38;5;9mK562.hg38.ENCSR000EFT.ENCFF657CTC.ChIPseq.GATA1.bed.gz\u001b[0m\n",
      "\u001b[38;5;9mK562.hg38.ENCSR000EFU.ENCFF715WGN.ChIPseq.ELK1.bed.gz\u001b[0m\n",
      "\u001b[38;5;9mK562.hg38.ENCSR000EGE.ENCFF702XPO.ChIPseq.EP300.bed.gz\u001b[0m\n",
      "\u001b[38;5;9mK562.hg38.ENCSR000EGM.ENCFF660GHM.ChIPseq.CTCF.bed.gz\u001b[0m\n",
      "\u001b[38;5;9mK562.hg38.ENCSR000EHB.ENCFF852ZRK.ChIPseq.TAL1.bed.gz\u001b[0m\n",
      "\u001b[38;5;9mK562.hg38.ENCSR004GKA.ENCFF242AOL.ChIPseq.ZEB2.bed.gz\u001b[0m\n",
      "\u001b[38;5;9mK562.hg38.ENCSR091GVJ.ENCFF627RSK.ChIPseq.ATF1.bed.gz\u001b[0m\n",
      "\u001b[38;5;9mK562.hg38.ENCSR121SPB.ENCFF142ZTD.ChIPseq.KLF10.bed.gz\u001b[0m\n",
      "\u001b[38;5;9mK562.hg38.ENCSR388QZF.ENCFF355MNE.ChIPseq.POLR2A.bed.gz\u001b[0m\n",
      "\u001b[38;5;9mK562.hg38.ENCSR552YGL.ENCFF023IFO.ChIPseq.NFE2.bed.gz\u001b[0m\n",
      "\u001b[38;5;9mK562.hg38.ENCSR668LDD.ENCFF885FQN.ChIPseq.H3K4me3.bed.gz\u001b[0m\n",
      "\u001b[38;5;9mK562.hg38.ENCSR760UVO.ENCFF488OTN.ChIPseq.KLF16.bed.gz\u001b[0m\n",
      "\u001b[38;5;9mK562.hg38.ENCSR991ELG.ENCFF553GPK.ChIPseq.SP1.bed.gz\u001b[0m\n",
      "\u001b[38;5;9mK562.hg38.ENCSR998AJK.ENCFF777PKJ.ChIPseq.NRF1.bed.gz\u001b[0m\n"
     ]
    }
   ],
   "source": [
    "### set directory\n",
    "FD_INP=${FD_DAT}/external/encode_chipseq_subset\n",
    "FD_OUT=${FD_RES}/region/encode_chipseq_subset\n",
    "\n",
    "ls ${FD_OUT}"
   ]
  },
  {
   "cell_type": "code",
   "execution_count": 6,
   "id": "8dfbc3b7-2e76-475e-ae66-caef40adc389",
   "metadata": {},
   "outputs": [
    {
     "name": "stdout",
     "output_type": "stream",
     "text": [
      "chr1\t100028600\t100028930\tPeak_47835\t54\t.\t2.76831\t5.42882\t3.51807\t159\n",
      "chr1\t100036704\t100039952\tPeak_1354\t1000\t.\t25.73648\t216.21426\t212.19016\t1075\n",
      "chr1\t100049282\t100049759\tPeak_40225\t69\t.\t3.43177\t6.91015\t4.94452\t331\n",
      "chr1\t100050055\t100050522\tPeak_53510\t47\t.\t2.44126\t4.75251\t2.87542\t319\n",
      "chr1\t100061449\t100061694\tPeak_49711\t52\t.\t3.02405\t5.23828\t3.33907\t115\n",
      "chr1\t100090387\t100090929\tPeak_41569\t65\t.\t3.34388\t6.56285\t4.60720\t144\n",
      "chr1\t100129975\t100134105\tPeak_5627\t1000\t.\t10.20206\t106.07190\t102.91519\t2814\n",
      "chr1\t100244086\t100244356\tPeak_50570\t50\t.\t2.94687\t5.05628\t3.16241\t121\n",
      "chr1\t100244551\t100245189\tPeak_55989\t44\t.\t2.48105\t4.47616\t2.61285\t488\n",
      "chr1\t100246265\t100247485\tPeak_20752\t205\t.\t5.07687\t20.59566\t18.32800\t522\n"
     ]
    }
   ],
   "source": [
    "FNAME=K562.hg38.ENCSR000AKP.ENCFF544LXB.ChIPseq.H3K27ac.bed.gz\n",
    "FPATH=${FD_INP}/${FNAME}\n",
    "zcat ${FPATH} | head"
   ]
  },
  {
   "cell_type": "code",
   "execution_count": 7,
   "id": "fa834ece-804e-4961-a62e-987af0c514e6",
   "metadata": {},
   "outputs": [
    {
     "name": "stdout",
     "output_type": "stream",
     "text": [
      "chr1\t118751\t119101\tPeak_29282\t111\t.\t5.05870\t11.17124\t9.08295\t187\n",
      "chr1\t120082\t120287\tPeak_29283\t111\t.\t4.92747\t11.17124\t9.08295\t171\n",
      "chr1\t137650\t138169\tPeak_16228\t317\t.\t9.24885\t31.74444\t29.32013\t338\n",
      "chr1\t138356\t139236\tPeak_19531\t228\t.\t7.55215\t22.82356\t20.52066\t178\n",
      "chr1\t139285\t139490\tPeak_33716\t88\t.\t4.27130\t8.85756\t6.82864\t172\n",
      "chr1\t777712\t778823\tPeak_6597\t939\t.\t19.33186\t93.91751\t90.86520\t823\n",
      "chr1\t778887\t779412\tPeak_16912\t296\t.\t8.99031\t29.63080\t27.23310\t306\n",
      "chr1\t826565\t827901\tPeak_8064\t783\t.\t17.13224\t78.32069\t75.40894\t869\n",
      "chr1\t904427\t905189\tPeak_20746\t205\t.\t6.90387\t20.59898\t18.33118\t515\n",
      "chr1\t958526\t959284\tPeak_18429\t254\t.\t5.37920\t25.40607\t23.06551\t348\n"
     ]
    }
   ],
   "source": [
    "FNAME=K562.hg38.ENCSR000AKP.ENCFF544LXB.ChIPseq.H3K27ac.bed.gz\n",
    "FPATH=${FD_OUT}/${FNAME}\n",
    "zcat ${FPATH} | head"
   ]
  },
  {
   "cell_type": "code",
   "execution_count": null,
   "id": "aec357e4-c64c-41b4-8c93-fb82109d13c6",
   "metadata": {},
   "outputs": [],
   "source": []
  }
 ],
 "metadata": {
  "kernelspec": {
   "display_name": "Bash",
   "language": "bash",
   "name": "bash"
  },
  "language_info": {
   "codemirror_mode": "shell",
   "file_extension": ".sh",
   "mimetype": "text/x-sh",
   "name": "bash"
  }
 },
 "nbformat": 4,
 "nbformat_minor": 5
}
