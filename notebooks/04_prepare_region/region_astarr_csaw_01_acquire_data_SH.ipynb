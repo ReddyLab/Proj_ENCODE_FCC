{
 "cells": [
  {
   "cell_type": "raw",
   "id": "d5a7c1e3-5a9e-4731-96d9-babaef16924e",
   "metadata": {},
   "source": [
    "---\n",
    "title: Prepare ASTARR CSAW Peaks 01\n",
    "subtitle: Acquire data\n",
    "format:\n",
    "    html:\n",
    "        code-fold:  true\n",
    "        code-tools: true\n",
    "---"
   ]
  },
  {
   "cell_type": "markdown",
   "id": "54e8e273-5df9-40dc-9482-5d0834efe992",
   "metadata": {},
   "source": [
    "**set environment**"
   ]
  },
  {
   "cell_type": "code",
   "execution_count": 1,
   "id": "a82cd052-1493-44b9-8caa-043ff370c037",
   "metadata": {},
   "outputs": [
    {
     "name": "stdout",
     "output_type": "stream",
     "text": [
      "You are working on             Duke Server: HARDAC\n",
      "BASE DIRECTORY (FD_BASE):      /data/reddylab/Kuei\n",
      "REPO DIRECTORY (FD_REPO):      /data/reddylab/Kuei/repo\n",
      "WORK DIRECTORY (FD_WORK):      /data/reddylab/Kuei/work\n",
      "DATA DIRECTORY (FD_DATA):      /data/reddylab/Kuei/data\n",
      "CONTAINER DIR. (FD_SING):      /data/reddylab/Kuei/container\n",
      "\n",
      "You are working with           ENCODE FCC\n",
      "PATH OF PROJECT (FD_PRJ):      /data/reddylab/Kuei/repo/Proj_ENCODE_FCC\n",
      "PROJECT RESULTS (FD_RES):      /data/reddylab/Kuei/repo/Proj_ENCODE_FCC/results\n",
      "PROJECT SCRIPTS (FD_EXE):      /data/reddylab/Kuei/repo/Proj_ENCODE_FCC/scripts\n",
      "PROJECT DATA    (FD_DAT):      /data/reddylab/Kuei/repo/Proj_ENCODE_FCC/data\n",
      "PROJECT NOTE    (FD_NBK):      /data/reddylab/Kuei/repo/Proj_ENCODE_FCC/notebooks\n",
      "PROJECT DOCS    (FD_DOC):      /data/reddylab/Kuei/repo/Proj_ENCODE_FCC/docs\n",
      "PROJECT LOG     (FD_LOG):      /data/reddylab/Kuei/repo/Proj_ENCODE_FCC/log\n",
      "PROJECT APP     (FD_APP):      \n",
      "PROJECT REF     (FD_REF):      /data/reddylab/Kuei/repo/Proj_ENCODE_FCC/references\n",
      "PROJECT IMAGE   (FP_PRJ_SIF):  /data/reddylab/Kuei/container/project/singularity_proj_encode_fcc.sif\n",
      "\n"
     ]
    }
   ],
   "source": [
    "source ../run_config_project.sh\n",
    "show_env"
   ]
  },
  {
   "cell_type": "markdown",
   "id": "1327d3d5-2fc7-472d-b0f9-8eabbee3df34",
   "metadata": {},
   "source": [
    "**Set global variables**"
   ]
  },
  {
   "cell_type": "code",
   "execution_count": 2,
   "id": "31d4398f-3db6-43bc-898f-ca7efc2663f0",
   "metadata": {},
   "outputs": [
    {
     "name": "stdout",
     "output_type": "stream",
     "text": [
      "/data/reddylab/Alex\n"
     ]
    }
   ],
   "source": [
    "echo ${FD_ALEX}"
   ]
  },
  {
   "cell_type": "code",
   "execution_count": 14,
   "id": "a45fed36-3576-4ea6-bab3-a7010a044999",
   "metadata": {},
   "outputs": [],
   "source": [
    "FD_INP=${FD_ALEX}/tmp\n",
    "FD_OUT=${FD_DAT}/processed/fcc_astarr_csaw"
   ]
  },
  {
   "cell_type": "code",
   "execution_count": 24,
   "id": "7be9bbd5-5de8-441a-b87f-78657945d0d6",
   "metadata": {},
   "outputs": [
    {
     "name": "stdout",
     "output_type": "stream",
     "text": [
      "atacSTARR.ultra_deep.6dna7rna.csaw.hg38.v10.common_file_formatted.txt\n",
      "atacSTARR.ultra_deep.6dna7rna.csaw.hg38.v10.tsv\n",
      "atacSTARR.ultra_deep.6dna7rna.csaw.hg38.v10.windows.bed\n",
      "atacSTARR.ultra_deep.6dna7rna.csaw.hg38.v10.windows.txt\n",
      "atacSTARR.ultra_deep.6dna7rna.csaw_tab_best.hg38.v10.tsv\n"
     ]
    }
   ],
   "source": [
    "FP_INPS=($(ls ${FD_INP}/atacSTARR.ultra_deep.6dna7rna*))\n",
    "basename -a ${FP_INPS[@]}"
   ]
  },
  {
   "cell_type": "code",
   "execution_count": 25,
   "id": "64e45437-1558-4f78-97cd-be0fdfc915e1",
   "metadata": {},
   "outputs": [
    {
     "name": "stdout",
     "output_type": "stream",
     "text": [
      "atacSTARR.ultra_deep.corrected.csaw.hg38.v10.common_file_formatted.txt\n",
      "atacSTARR.ultra_deep.corrected.csaw.hg38.v10.tsv\n",
      "atacSTARR.ultra_deep.corrected.no_reps_5_and_6.csaw.hg38.v10.tsv\n",
      "atacSTARR.ultra_deep.corrected.no_reps_5_and_6.csaw.hg38.v10.windows.bed\n",
      "atacSTARR.ultra_deep.corrected.no_reps_5_and_6.csaw.hg38.v10.windows.txt\n",
      "atacSTARR.ultra_deep.corrected.no_reps_5_and_6.csaw_tab_best.hg38.v10.tsv\n"
     ]
    }
   ],
   "source": [
    "FP_INPS=($(ls ${FD_INP}/atacSTARR.ultra_deep.corrected*))\n",
    "basename -a ${FP_INPS[@]}"
   ]
  },
  {
   "cell_type": "code",
   "execution_count": 27,
   "id": "b48dc602-5b23-44ee-a52b-49e98b51f0cf",
   "metadata": {},
   "outputs": [],
   "source": [
    "mkdir -p ${FD_OUT}\n",
    "cp ${FD_INP}/atacSTARR.ultra_deep.corrected* ${FD_OUT}/"
   ]
  },
  {
   "cell_type": "code",
   "execution_count": 28,
   "id": "a99a41b9-fdd5-40c8-83db-ca730fd5ee5d",
   "metadata": {},
   "outputs": [],
   "source": [
    "mkdir -p ${FD_OUT}\n",
    "cp ${FD_INP}/atacSTARR.ultra_deep.6dna7rna* ${FD_OUT}/"
   ]
  },
  {
   "cell_type": "code",
   "execution_count": 29,
   "id": "f9bcdc15-df08-4754-8ea4-7699d8a3fc68",
   "metadata": {},
   "outputs": [
    {
     "name": "stdout",
     "output_type": "stream",
     "text": [
      "\u001b[0m\u001b[38;5;27mCRISPRi_FlowFISH_K562_Riley_JinWoo\u001b[0m\n",
      "\u001b[38;5;27mCRISPRi_Growth_K562_Gersbach_Alex\u001b[0m\n",
      "\u001b[38;5;27mfcc_astarr_csaw\u001b[0m\n",
      "\u001b[38;5;27mfcc_enhancer_Junke_zscore\u001b[0m\n",
      "\u001b[38;5;27mfcc_trackhub_JinWoo\u001b[0m\n",
      "\u001b[38;5;27mMPRA_Lenti_K562_Nadav_Vikram_230621\u001b[0m\n",
      "\u001b[38;5;27mMPRA_Tiling_K562_Tewhey_Hannah\u001b[0m\n",
      "Readmd.md\n",
      "\u001b[38;5;27mSTARR_ATAC_K562_Reddy_KS274_240311\u001b[0m\n",
      "\u001b[38;5;27mSTARR_ATAC_K562_Reddy_KS91_210401\u001b[0m\n",
      "\u001b[38;5;27mSTARR_WHG_K562_Reddy_A001_Alex\u001b[0m\n",
      "\u001b[38;5;27mSTARR_WHG_K562_Reddy_A001_Kari\u001b[0m\n",
      "\u001b[38;5;27mTF_modules_Shannon\u001b[0m\n"
     ]
    }
   ],
   "source": [
    "ls -1 ${FD_DAT}/processed"
   ]
  },
  {
   "cell_type": "code",
   "execution_count": 30,
   "id": "6254295a-7a8b-433f-864b-8c6f1a28431b",
   "metadata": {},
   "outputs": [
    {
     "name": "stdout",
     "output_type": "stream",
     "text": [
      "total 1302528\n",
      "-rw-r--r-- 1 kk319 reddylab  29585549 May  9 17:03 atacSTARR.ultra_deep.6dna7rna.csaw.hg38.v10.common_file_formatted.txt\n",
      "-rw-r--r-- 1 kk319 reddylab  37906290 May  9 17:03 atacSTARR.ultra_deep.6dna7rna.csaw.hg38.v10.tsv\n",
      "-rw-r--r-- 1 kk319 reddylab 162923789 May  9 17:03 atacSTARR.ultra_deep.6dna7rna.csaw.hg38.v10.windows.bed\n",
      "-rw-r--r-- 1 kk319 reddylab 410557124 May  9 17:03 atacSTARR.ultra_deep.6dna7rna.csaw.hg38.v10.windows.txt\n",
      "-rw-r--r-- 1 kk319 reddylab  52066228 May  9 17:03 atacSTARR.ultra_deep.6dna7rna.csaw_tab_best.hg38.v10.tsv\n",
      "-rw-r--r-- 1 kk319 reddylab  29082966 May  9 17:03 atacSTARR.ultra_deep.corrected.csaw.hg38.v10.common_file_formatted.txt\n",
      "-rw-r--r-- 1 kk319 reddylab  37180893 May  9 17:03 atacSTARR.ultra_deep.corrected.csaw.hg38.v10.tsv\n",
      "-rw-r--r-- 1 kk319 reddylab  37180893 May  9 17:03 atacSTARR.ultra_deep.corrected.no_reps_5_and_6.csaw.hg38.v10.tsv\n",
      "-rw-r--r-- 1 kk319 reddylab 156656669 May  9 17:03 atacSTARR.ultra_deep.corrected.no_reps_5_and_6.csaw.hg38.v10.windows.bed\n",
      "-rw-r--r-- 1 kk319 reddylab 394467786 May  9 17:03 atacSTARR.ultra_deep.corrected.no_reps_5_and_6.csaw.hg38.v10.windows.txt\n",
      "-rw-r--r-- 1 kk319 reddylab  38222659 May  9 17:03 atacSTARR.ultra_deep.corrected.no_reps_5_and_6.csaw_tab_best.hg38.v10.tsv\n"
     ]
    }
   ],
   "source": [
    "ls -l ${FD_DAT}/processed/fcc_astarr_csaw"
   ]
  },
  {
   "cell_type": "code",
   "execution_count": null,
   "id": "4e0fdeef-bd2f-46a4-a774-013008e343b2",
   "metadata": {},
   "outputs": [],
   "source": []
  }
 ],
 "metadata": {
  "kernelspec": {
   "display_name": "Bash",
   "language": "bash",
   "name": "bash"
  },
  "language_info": {
   "codemirror_mode": "shell",
   "file_extension": ".sh",
   "mimetype": "text/x-sh",
   "name": "bash"
  }
 },
 "nbformat": 4,
 "nbformat_minor": 5
}
