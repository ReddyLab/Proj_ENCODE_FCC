{
 "cells": [
  {
   "cell_type": "raw",
   "id": "824c5b24-4b6d-4196-b3a6-b082d09d1804",
   "metadata": {},
   "source": [
    "---\n",
    "title: Prepare ENCODE ChIP-seq 04 (Subset)\n",
    "subtitle: Create metadata\n",
    "format:\n",
    "    html:\n",
    "        code-fold:  true\n",
    "        code-tools: true\n",
    "---"
   ]
  },
  {
   "cell_type": "markdown",
   "id": "be108294-8fc4-49fe-9bbf-52a6d94689b3",
   "metadata": {},
   "source": [
    "**Set environment**"
   ]
  },
  {
   "cell_type": "code",
   "execution_count": 1,
   "id": "7bf0c251-1c12-4280-9905-6651347fdee8",
   "metadata": {},
   "outputs": [
    {
     "name": "stdout",
     "output_type": "stream",
     "text": [
      "You are working on        Singularity \n",
      "BASE DIRECTORY (FD_BASE): /mount \n",
      "REPO DIRECTORY (FD_REPO): /mount/repo \n",
      "WORK DIRECTORY (FD_WORK): /mount/work \n",
      "DATA DIRECTORY (FD_DATA): /mount/data \n",
      "\n",
      "You are working with      ENCODE FCC \n",
      "PATH OF PROJECT (FD_PRJ): /mount/repo/Proj_ENCODE_FCC \n",
      "PROJECT RESULTS (FD_RES): /mount/repo/Proj_ENCODE_FCC/results \n",
      "PROJECT SCRIPTS (FD_EXE): /mount/repo/Proj_ENCODE_FCC/scripts \n",
      "PROJECT DATA    (FD_DAT): /mount/repo/Proj_ENCODE_FCC/data \n",
      "PROJECT NOTE    (FD_NBK): /mount/repo/Proj_ENCODE_FCC/notebooks \n",
      "PROJECT DOCS    (FD_DOC): /mount/repo/Proj_ENCODE_FCC/docs \n",
      "PROJECT LOG     (FD_LOG): /mount/repo/Proj_ENCODE_FCC/log \n",
      "PROJECT APP     (FD_APP): /mount/repo/Proj_ENCODE_FCC/app \n",
      "PROJECT REF     (FD_REF): /mount/repo/Proj_ENCODE_FCC/references \n",
      "\n"
     ]
    }
   ],
   "source": [
    "suppressMessages(suppressWarnings(source(\"../run_config_project_sing.R\")))\n",
    "show_env()"
   ]
  },
  {
   "cell_type": "markdown",
   "id": "664a4244-1f73-4f75-b9c8-196eb3b89ac0",
   "metadata": {},
   "source": [
    "**Set global variables**"
   ]
  },
  {
   "cell_type": "code",
   "execution_count": 2,
   "id": "4bb3a19a-d477-4b84-81f7-fa6cde066c75",
   "metadata": {},
   "outputs": [],
   "source": [
    "TXT_FOLDER_REGION = \"encode_chipseq_subset\""
   ]
  },
  {
   "cell_type": "markdown",
   "id": "3f0c9816-a609-40dc-b744-09090960fac6",
   "metadata": {},
   "source": [
    "## Define column description\n",
    "The peak file is in narrowPeak format, which is a standard six field bed with four additional fields (BED6+4 format)"
   ]
  },
  {
   "cell_type": "code",
   "execution_count": 3,
   "id": "1a7b3434-9f40-4fdf-9fea-7d4f0f60a383",
   "metadata": {},
   "outputs": [
    {
     "data": {
      "text/html": [
       "<table>\n",
       " <thead>\n",
       "  <tr>\n",
       "   <th style=\"text-align:left;\"> Name </th>\n",
       "   <th style=\"text-align:left;\"> Note </th>\n",
       "  </tr>\n",
       " </thead>\n",
       "<tbody>\n",
       "  <tr>\n",
       "   <td style=\"text-align:left;\"> Chrom </td>\n",
       "   <td style=\"text-align:left;\"> Name of the chromosome </td>\n",
       "  </tr>\n",
       "  <tr>\n",
       "   <td style=\"text-align:left;\"> ChromStart </td>\n",
       "   <td style=\"text-align:left;\"> The starting position of the feature in the chromosome </td>\n",
       "  </tr>\n",
       "  <tr>\n",
       "   <td style=\"text-align:left;\"> ChromEnd </td>\n",
       "   <td style=\"text-align:left;\"> The ending position of the feature in the chromosome </td>\n",
       "  </tr>\n",
       "  <tr>\n",
       "   <td style=\"text-align:left;\"> Name </td>\n",
       "   <td style=\"text-align:left;\"> Name given to a region; Use '.' if no name is assigned. </td>\n",
       "  </tr>\n",
       "  <tr>\n",
       "   <td style=\"text-align:left;\"> Score </td>\n",
       "   <td style=\"text-align:left;\"> Indicates how dark the peak will be displayed in the browser (0-1000). </td>\n",
       "  </tr>\n",
       "  <tr>\n",
       "   <td style=\"text-align:left;\"> Strand </td>\n",
       "   <td style=\"text-align:left;\"> +/- to denote strand or orientation. Use '.' if no orientation is assigned. </td>\n",
       "  </tr>\n",
       "  <tr>\n",
       "   <td style=\"text-align:left;\"> SignalValue </td>\n",
       "   <td style=\"text-align:left;\"> Measurement of overall (usually, average) enrichment for the region. </td>\n",
       "  </tr>\n",
       "  <tr>\n",
       "   <td style=\"text-align:left;\"> PValue </td>\n",
       "   <td style=\"text-align:left;\"> Measurement of statistical significance (-log10). Use -1 if no pValue is assigned. </td>\n",
       "  </tr>\n",
       "  <tr>\n",
       "   <td style=\"text-align:left;\"> QValue </td>\n",
       "   <td style=\"text-align:left;\"> Measurement of statistical significance using false discovery rate (-log10). Use -1 if no qValue is assigned. </td>\n",
       "  </tr>\n",
       "  <tr>\n",
       "   <td style=\"text-align:left;\"> Peak </td>\n",
       "   <td style=\"text-align:left;\"> Point-source called for this peak; 0-based offset from chromStart. Use -1 if no point-source called. </td>\n",
       "  </tr>\n",
       "</tbody>\n",
       "</table>"
      ]
     },
     "metadata": {},
     "output_type": "display_data"
    }
   ],
   "source": [
    "### ENCODE narrowPeak: Narrow (or Point-Source) Peaks format\n",
    "dat = tribble(\n",
    "    ~Name,        ~Note,\n",
    "    \"Chrom\",      \"Name of the chromosome\",\n",
    "    \"ChromStart\", \"The starting position of the feature in the chromosome\",\n",
    "    \"ChromEnd\",   \"The ending position of the feature in the chromosome\",\n",
    "    \"Name\",       \"Name given to a region; Use '.' if no name is assigned.\",\n",
    "    \"Score\",      \"Indicates how dark the peak will be displayed in the browser (0-1000).\",\n",
    "    \"Strand\",     \"+/- to denote strand or orientation. Use '.' if no orientation is assigned.\",\n",
    "    \"SignalValue\",\"Measurement of overall (usually, average) enrichment for the region.\",\n",
    "    \"PValue\",     \"Measurement of statistical significance (-log10). Use -1 if no pValue is assigned.\",\n",
    "    \"QValue\",     \"Measurement of statistical significance using false discovery rate (-log10). Use -1 if no qValue is assigned.\",\n",
    "    \"Peak\",       \"Point-source called for this peak; 0-based offset from chromStart. Use -1 if no point-source called.\"\n",
    "    \n",
    ")\n",
    "\n",
    "### assign and show\n",
    "dat_cname = dat\n",
    "fun_display_table(dat)"
   ]
  },
  {
   "cell_type": "markdown",
   "id": "a3c6f709-54b0-4c20-ae05-8c18cb7c1f32",
   "metadata": {},
   "source": [
    "## Define file labeling"
   ]
  },
  {
   "cell_type": "code",
   "execution_count": 7,
   "id": "edd8e09e-cd0c-4468-b3fc-d7746cf44d95",
   "metadata": {},
   "outputs": [
    {
     "data": {
      "text/html": [
       "<table>\n",
       " <thead>\n",
       "  <tr>\n",
       "   <th style=\"text-align:left;\"> Folder </th>\n",
       "   <th style=\"text-align:left;\"> FName </th>\n",
       "   <th style=\"text-align:left;\"> Label </th>\n",
       "  </tr>\n",
       " </thead>\n",
       "<tbody>\n",
       "  <tr>\n",
       "   <td style=\"text-align:left;\"> encode_chipseq_subset </td>\n",
       "   <td style=\"text-align:left;\"> K562.hg38.ENCSR000AKP.ENCFF544LXB.ChIPseq.H3K27ac.bed.gz </td>\n",
       "   <td style=\"text-align:left;\"> encode_chipseq_H3K27ac_ENCFF544LXB </td>\n",
       "  </tr>\n",
       "  <tr>\n",
       "   <td style=\"text-align:left;\"> encode_chipseq_subset </td>\n",
       "   <td style=\"text-align:left;\"> K562.hg38.ENCSR000AKQ.ENCFF323WOT.ChIPseq.H3K27me3.bed.gz </td>\n",
       "   <td style=\"text-align:left;\"> encode_chipseq_H3K27me3_ENCFF323WOT </td>\n",
       "  </tr>\n",
       "  <tr>\n",
       "   <td style=\"text-align:left;\"> encode_chipseq_subset </td>\n",
       "   <td style=\"text-align:left;\"> K562.hg38.ENCSR000AKS.ENCFF135ZLM.ChIPseq.H3K4me1.bed.gz </td>\n",
       "   <td style=\"text-align:left;\"> encode_chipseq_H3K4me1_ENCFF135ZLM </td>\n",
       "  </tr>\n",
       "  <tr>\n",
       "   <td style=\"text-align:left;\"> encode_chipseq_subset </td>\n",
       "   <td style=\"text-align:left;\"> K562.hg38.ENCSR000AKT.ENCFF749KLQ.ChIPseq.H3K4me2.bed.gz </td>\n",
       "   <td style=\"text-align:left;\"> encode_chipseq_H3K4me2_ENCFF749KLQ </td>\n",
       "  </tr>\n",
       "  <tr>\n",
       "   <td style=\"text-align:left;\"> encode_chipseq_subset </td>\n",
       "   <td style=\"text-align:left;\"> K562.hg38.ENCSR000BMH.ENCFF398UQZ.ChIPseq.YY1.bed.gz </td>\n",
       "   <td style=\"text-align:left;\"> encode_chipseq_YY1_ENCFF398UQZ </td>\n",
       "  </tr>\n",
       "  <tr>\n",
       "   <td style=\"text-align:left;\"> encode_chipseq_subset </td>\n",
       "   <td style=\"text-align:left;\"> K562.hg38.ENCSR000BMW.ENCFF707MDI.ChIPseq.REST.bed.gz </td>\n",
       "   <td style=\"text-align:left;\"> encode_chipseq_REST_ENCFF707MDI </td>\n",
       "  </tr>\n",
       "  <tr>\n",
       "   <td style=\"text-align:left;\"> encode_chipseq_subset </td>\n",
       "   <td style=\"text-align:left;\"> K562.hg38.ENCSR000EFS.ENCFF190CGV.ChIPseq.JUN.bed.gz </td>\n",
       "   <td style=\"text-align:left;\"> encode_chipseq_JUN_ENCFF190CGV </td>\n",
       "  </tr>\n",
       "  <tr>\n",
       "   <td style=\"text-align:left;\"> encode_chipseq_subset </td>\n",
       "   <td style=\"text-align:left;\"> K562.hg38.ENCSR000EFT.ENCFF657CTC.ChIPseq.GATA1.bed.gz </td>\n",
       "   <td style=\"text-align:left;\"> encode_chipseq_GATA1_ENCFF657CTC </td>\n",
       "  </tr>\n",
       "  <tr>\n",
       "   <td style=\"text-align:left;\"> encode_chipseq_subset </td>\n",
       "   <td style=\"text-align:left;\"> K562.hg38.ENCSR000EFU.ENCFF715WGN.ChIPseq.ELK1.bed.gz </td>\n",
       "   <td style=\"text-align:left;\"> encode_chipseq_ELK1_ENCFF715WGN </td>\n",
       "  </tr>\n",
       "  <tr>\n",
       "   <td style=\"text-align:left;\"> encode_chipseq_subset </td>\n",
       "   <td style=\"text-align:left;\"> K562.hg38.ENCSR000EGE.ENCFF702XPO.ChIPseq.EP300.bed.gz </td>\n",
       "   <td style=\"text-align:left;\"> encode_chipseq_EP300_ENCFF702XPO </td>\n",
       "  </tr>\n",
       "  <tr>\n",
       "   <td style=\"text-align:left;\"> encode_chipseq_subset </td>\n",
       "   <td style=\"text-align:left;\"> K562.hg38.ENCSR000EGM.ENCFF660GHM.ChIPseq.CTCF.bed.gz </td>\n",
       "   <td style=\"text-align:left;\"> encode_chipseq_CTCF_ENCFF660GHM </td>\n",
       "  </tr>\n",
       "  <tr>\n",
       "   <td style=\"text-align:left;\"> encode_chipseq_subset </td>\n",
       "   <td style=\"text-align:left;\"> K562.hg38.ENCSR000EHB.ENCFF852ZRK.ChIPseq.TAL1.bed.gz </td>\n",
       "   <td style=\"text-align:left;\"> encode_chipseq_TAL1_ENCFF852ZRK </td>\n",
       "  </tr>\n",
       "  <tr>\n",
       "   <td style=\"text-align:left;\"> encode_chipseq_subset </td>\n",
       "   <td style=\"text-align:left;\"> K562.hg38.ENCSR004GKA.ENCFF242AOL.ChIPseq.ZEB2.bed.gz </td>\n",
       "   <td style=\"text-align:left;\"> encode_chipseq_ZEB2_ENCFF242AOL </td>\n",
       "  </tr>\n",
       "  <tr>\n",
       "   <td style=\"text-align:left;\"> encode_chipseq_subset </td>\n",
       "   <td style=\"text-align:left;\"> K562.hg38.ENCSR091GVJ.ENCFF627RSK.ChIPseq.ATF1.bed.gz </td>\n",
       "   <td style=\"text-align:left;\"> encode_chipseq_ATF1_ENCFF627RSK </td>\n",
       "  </tr>\n",
       "  <tr>\n",
       "   <td style=\"text-align:left;\"> encode_chipseq_subset </td>\n",
       "   <td style=\"text-align:left;\"> K562.hg38.ENCSR121SPB.ENCFF142ZTD.ChIPseq.KLF10.bed.gz </td>\n",
       "   <td style=\"text-align:left;\"> encode_chipseq_KLF10_ENCFF142ZTD </td>\n",
       "  </tr>\n",
       "  <tr>\n",
       "   <td style=\"text-align:left;\"> encode_chipseq_subset </td>\n",
       "   <td style=\"text-align:left;\"> K562.hg38.ENCSR388QZF.ENCFF355MNE.ChIPseq.POLR2A.bed.gz </td>\n",
       "   <td style=\"text-align:left;\"> encode_chipseq_POLR2A_ENCFF355MNE </td>\n",
       "  </tr>\n",
       "  <tr>\n",
       "   <td style=\"text-align:left;\"> encode_chipseq_subset </td>\n",
       "   <td style=\"text-align:left;\"> K562.hg38.ENCSR552YGL.ENCFF023IFO.ChIPseq.NFE2.bed.gz </td>\n",
       "   <td style=\"text-align:left;\"> encode_chipseq_NFE2_ENCFF023IFO </td>\n",
       "  </tr>\n",
       "  <tr>\n",
       "   <td style=\"text-align:left;\"> encode_chipseq_subset </td>\n",
       "   <td style=\"text-align:left;\"> K562.hg38.ENCSR668LDD.ENCFF885FQN.ChIPseq.H3K4me3.bed.gz </td>\n",
       "   <td style=\"text-align:left;\"> encode_chipseq_H3K4me3_ENCFF885FQN </td>\n",
       "  </tr>\n",
       "  <tr>\n",
       "   <td style=\"text-align:left;\"> encode_chipseq_subset </td>\n",
       "   <td style=\"text-align:left;\"> K562.hg38.ENCSR760UVO.ENCFF488OTN.ChIPseq.KLF16.bed.gz </td>\n",
       "   <td style=\"text-align:left;\"> encode_chipseq_KLF16_ENCFF488OTN </td>\n",
       "  </tr>\n",
       "  <tr>\n",
       "   <td style=\"text-align:left;\"> encode_chipseq_subset </td>\n",
       "   <td style=\"text-align:left;\"> K562.hg38.ENCSR991ELG.ENCFF553GPK.ChIPseq.SP1.bed.gz </td>\n",
       "   <td style=\"text-align:left;\"> encode_chipseq_SP1_ENCFF553GPK </td>\n",
       "  </tr>\n",
       "  <tr>\n",
       "   <td style=\"text-align:left;\"> encode_chipseq_subset </td>\n",
       "   <td style=\"text-align:left;\"> K562.hg38.ENCSR998AJK.ENCFF777PKJ.ChIPseq.NRF1.bed.gz </td>\n",
       "   <td style=\"text-align:left;\"> encode_chipseq_NRF1_ENCFF777PKJ </td>\n",
       "  </tr>\n",
       "</tbody>\n",
       "</table>"
      ]
     },
     "metadata": {},
     "output_type": "display_data"
    }
   ],
   "source": [
    "### set directory\n",
    "txt_folder = TXT_FOLDER_REGION\n",
    "txt_fdiry  = file.path(FD_RES, \"region\", txt_folder)\n",
    "txt_fglob  = file.path(txt_fdiry, \"*bed*\")\n",
    "\n",
    "### get file names\n",
    "vec_txt_fpath = Sys.glob(txt_fglob)\n",
    "vec_txt_fname = basename(vec_txt_fpath)\n",
    "\n",
    "### init info table\n",
    "dat = data.frame(\n",
    "    \"Folder\" = txt_folder,\n",
    "    \"FName\"  = vec_txt_fname\n",
    ")\n",
    "\n",
    "### arrange table\n",
    "dat = dat %>% \n",
    "    tidyr::separate(\n",
    "        FName, \n",
    "        c(\"Biosample\", \"Genome\", \"Index_Experiment\", \"Index_File\", \"Assay\", \"Label\", \"File_Type\", \"File_Ext\"),\n",
    "        sep = \"\\\\.\",\n",
    "        remove = FALSE\n",
    "    ) %>%\n",
    "    dplyr::mutate(\n",
    "        Label = paste(\"encode_chipseq\", Label, Index_File, sep=\"_\")\n",
    "    ) %>%\n",
    "    dplyr::select(Folder, FName, Label) \n",
    "\n",
    "### assign and show\n",
    "dat_region_label = dat\n",
    "fun_display_table(dat)"
   ]
  },
  {
   "cell_type": "markdown",
   "id": "eee81291-3c14-4293-a2ba-c520fd4d7b4c",
   "metadata": {},
   "source": [
    "## Save results"
   ]
  },
  {
   "cell_type": "code",
   "execution_count": 8,
   "id": "63f94a28-0770-4775-ad1a-ca1958317811",
   "metadata": {},
   "outputs": [],
   "source": [
    "txt_folder = TXT_FOLDER_REGION\n",
    "txt_fdiry  = file.path(FD_RES, \"region\", txt_folder, \"summary\")\n",
    "txt_fname  = \"description.tsv\"\n",
    "txt_fpath  = file.path(txt_fdiry, txt_fname)\n",
    "\n",
    "dir.create(txt_fdiry, showWarnings = FALSE)\n",
    "dat = dat_cname\n",
    "write_tsv(dat, txt_fpath)"
   ]
  },
  {
   "cell_type": "code",
   "execution_count": 9,
   "id": "45514e27-7d9d-4fcb-82fb-ef8c647ab84d",
   "metadata": {},
   "outputs": [],
   "source": [
    "txt_folder = TXT_FOLDER_REGION\n",
    "txt_fdiry  = file.path(FD_RES, \"region\", txt_folder, \"summary\")\n",
    "txt_fname  = \"metadata.label.tsv\"\n",
    "txt_fpath  = file.path(txt_fdiry, txt_fname)\n",
    "\n",
    "dir.create(txt_fdiry, showWarnings = FALSE)\n",
    "dat = dat_region_label\n",
    "write_tsv(dat, txt_fpath)"
   ]
  },
  {
   "cell_type": "code",
   "execution_count": null,
   "id": "954e6c6b-80ec-41b9-a39f-6919c212d539",
   "metadata": {},
   "outputs": [],
   "source": []
  }
 ],
 "metadata": {
  "kernelspec": {
   "display_name": "R",
   "language": "R",
   "name": "ir"
  },
  "language_info": {
   "codemirror_mode": "r",
   "file_extension": ".r",
   "mimetype": "text/x-r-source",
   "name": "R",
   "pygments_lexer": "r",
   "version": "4.4.0"
  }
 },
 "nbformat": 4,
 "nbformat_minor": 5
}
