{
 "cells": [
  {
   "cell_type": "raw",
   "id": "63d3a2a5-c0d5-45dc-83c7-671ef2b5ba47",
   "metadata": {},
   "source": [
    "---\n",
    "title: Prepare ASTARR Input MACS Peaks 03\n",
    "subtitle: Create metadata\n",
    "format:\n",
    "    html:\n",
    "        code-fold:  true\n",
    "        code-tools: true\n",
    "---"
   ]
  },
  {
   "cell_type": "markdown",
   "id": "ac805cbf-416a-4677-833b-83a0123be43c",
   "metadata": {},
   "source": [
    "**Set environment**"
   ]
  },
  {
   "cell_type": "code",
   "execution_count": 1,
   "id": "8ef4f3f5-b874-4de6-a7db-33943d4adeec",
   "metadata": {
    "tags": []
   },
   "outputs": [
    {
     "name": "stdout",
     "output_type": "stream",
     "text": [
      "You are working on        Singularity \n",
      "BASE DIRECTORY (FD_BASE): /mount \n",
      "REPO DIRECTORY (FD_REPO): /mount/repo \n",
      "WORK DIRECTORY (FD_WORK): /mount/work \n",
      "DATA DIRECTORY (FD_DATA): /mount/data \n",
      "\n",
      "You are working with      ENCODE FCC \n",
      "PATH OF PROJECT (FD_PRJ): /mount/repo/Proj_ENCODE_FCC \n",
      "PROJECT RESULTS (FD_RES): /mount/repo/Proj_ENCODE_FCC/results \n",
      "PROJECT SCRIPTS (FD_EXE): /mount/repo/Proj_ENCODE_FCC/scripts \n",
      "PROJECT DATA    (FD_DAT): /mount/repo/Proj_ENCODE_FCC/data \n",
      "PROJECT NOTE    (FD_NBK): /mount/repo/Proj_ENCODE_FCC/notebooks \n",
      "PROJECT DOCS    (FD_DOC): /mount/repo/Proj_ENCODE_FCC/docs \n",
      "PROJECT LOG     (FD_LOG): /mount/repo/Proj_ENCODE_FCC/log \n",
      "PROJECT APP     (FD_APP): /mount/repo/Proj_ENCODE_FCC/app \n",
      "PROJECT REF     (FD_REF): /mount/repo/Proj_ENCODE_FCC/references \n",
      "\n"
     ]
    }
   ],
   "source": [
    "suppressMessages(suppressWarnings(source(\"../run_config_project_sing.R\")))\n",
    "show_env()"
   ]
  },
  {
   "cell_type": "markdown",
   "id": "32b1e989-da3a-447a-9eb0-e00c06cf5c90",
   "metadata": {},
   "source": [
    "**Set global variables**"
   ]
  },
  {
   "cell_type": "code",
   "execution_count": 2,
   "id": "519e2310-890c-49fb-a7f0-da2ef1dce74b",
   "metadata": {},
   "outputs": [],
   "source": [
    "TXT_FOLDER_REGION = \"fcc_astarr_macs\""
   ]
  },
  {
   "cell_type": "markdown",
   "id": "9d4d1310-958f-430d-8b31-0a82f24fed3e",
   "metadata": {},
   "source": [
    "## Define column description"
   ]
  },
  {
   "cell_type": "code",
   "execution_count": 3,
   "id": "82cd6083-422c-4b49-b543-eb84b0ab074e",
   "metadata": {},
   "outputs": [
    {
     "data": {
      "text/html": [
       "<table>\n",
       " <thead>\n",
       "  <tr>\n",
       "   <th style=\"text-align:left;\"> Name </th>\n",
       "   <th style=\"text-align:left;\"> Note </th>\n",
       "  </tr>\n",
       " </thead>\n",
       "<tbody>\n",
       "  <tr>\n",
       "   <td style=\"text-align:left;\"> Chrom </td>\n",
       "   <td style=\"text-align:left;\"> Name of the chromosome </td>\n",
       "  </tr>\n",
       "  <tr>\n",
       "   <td style=\"text-align:left;\"> ChromStart </td>\n",
       "   <td style=\"text-align:left;\"> The starting position of the feature in the chromosome </td>\n",
       "  </tr>\n",
       "  <tr>\n",
       "   <td style=\"text-align:left;\"> ChromEnd </td>\n",
       "   <td style=\"text-align:left;\"> The ending position of the feature in the chromosome </td>\n",
       "  </tr>\n",
       "</tbody>\n",
       "</table>"
      ]
     },
     "metadata": {},
     "output_type": "display_data"
    }
   ],
   "source": [
    "### set column name and description\n",
    "dat = tribble(\n",
    "    ~Name,        ~Note,\n",
    "    \"Chrom\",      \"Name of the chromosome\",\n",
    "    \"ChromStart\", \"The starting position of the feature in the chromosome\",\n",
    "    \"ChromEnd\",   \"The ending position of the feature in the chromosome\"\n",
    ")\n",
    "\n",
    "### assign and show\n",
    "dat_cname = dat\n",
    "fun_display_table(dat)"
   ]
  },
  {
   "cell_type": "markdown",
   "id": "8ef27f6c-4058-4622-8dc7-f345cc38bc9e",
   "metadata": {},
   "source": [
    "## Define file labeling"
   ]
  },
  {
   "cell_type": "code",
   "execution_count": 4,
   "id": "3c9d498e-7fa0-43ce-bd4c-62c74b9e3cf2",
   "metadata": {},
   "outputs": [
    {
     "name": "stdout",
     "output_type": "stream",
     "text": [
      "[1] \"ASTARRseq_K562_KS91.hg38.Input.rep_all.max_overlaps.q5.bed.gz\"  \n",
      "[2] \"ASTARRseq_K562_KS91.hg38.Input.rep_all.union.q5.bed.gz\"         \n",
      "[3] \"K562.hg38.ASTARR.macs.KS91.input.rep_all.max_overlaps.q5.bed.gz\"\n",
      "[4] \"K562.hg38.ASTARR.macs.KS91.input.rep_all.union.q5.bed.gz\"       \n"
     ]
    }
   ],
   "source": [
    "### set directory\n",
    "txt_folder = TXT_FOLDER_REGION\n",
    "txt_fdiry  = file.path(FD_RES, \"region\", txt_folder)\n",
    "txt_fglob  = file.path(txt_fdiry, \"*bed*\")\n",
    "\n",
    "### get file names\n",
    "vec_txt_fpath = Sys.glob(txt_fglob)\n",
    "vec_txt_fname = basename(vec_txt_fpath)\n",
    "\n",
    "print(vec_txt_fname)"
   ]
  },
  {
   "cell_type": "code",
   "execution_count": 10,
   "id": "5f9ca82b-bd9c-42b9-9206-e61dd9b603ad",
   "metadata": {},
   "outputs": [
    {
     "data": {
      "text/html": [
       "<table>\n",
       " <thead>\n",
       "  <tr>\n",
       "   <th style=\"text-align:left;\"> Folder </th>\n",
       "   <th style=\"text-align:left;\"> FName </th>\n",
       "   <th style=\"text-align:left;\"> Label </th>\n",
       "  </tr>\n",
       " </thead>\n",
       "<tbody>\n",
       "  <tr>\n",
       "   <td style=\"text-align:left;\"> fcc_astarr_macs </td>\n",
       "   <td style=\"text-align:left;\"> ASTARRseq_K562_KS91.hg38.Input.rep_all.max_overlaps.q5.bed.gz </td>\n",
       "   <td style=\"text-align:left;\"> fcc_astarr_macs_input_overlap </td>\n",
       "  </tr>\n",
       "  <tr>\n",
       "   <td style=\"text-align:left;\"> fcc_astarr_macs </td>\n",
       "   <td style=\"text-align:left;\"> ASTARRseq_K562_KS91.hg38.Input.rep_all.union.q5.bed.gz </td>\n",
       "   <td style=\"text-align:left;\"> fcc_astarr_macs_input_union </td>\n",
       "  </tr>\n",
       "</tbody>\n",
       "</table>"
      ]
     },
     "metadata": {},
     "output_type": "display_data"
    }
   ],
   "source": [
    "### init info table\n",
    "dat = data.frame(\n",
    "    \"Folder\" = txt_folder,\n",
    "    \"FName\"  = vec_txt_fname,\n",
    "    \"Label\"  = c(\"fcc_astarr_macs_input_overlap\", \"fcc_astarr_macs_input_union\")\n",
    ")\n",
    "\n",
    "### assign and show\n",
    "dat_region_label = dat\n",
    "fun_display_table(dat)"
   ]
  },
  {
   "cell_type": "code",
   "execution_count": 6,
   "id": "e524bdc9-023e-44d3-bd19-72a777013310",
   "metadata": {},
   "outputs": [
    {
     "data": {
      "text/html": [
       "<table>\n",
       " <thead>\n",
       "  <tr>\n",
       "   <th style=\"text-align:left;\"> Folder </th>\n",
       "   <th style=\"text-align:left;\"> FName </th>\n",
       "   <th style=\"text-align:left;\"> Label </th>\n",
       "  </tr>\n",
       " </thead>\n",
       "<tbody>\n",
       "  <tr>\n",
       "   <td style=\"text-align:left;\"> fcc_astarr_macs </td>\n",
       "   <td style=\"text-align:left;\"> K562.hg38.ASTARR.macs.KS91.input.rep_all.max_overlaps.q5.bed.gz </td>\n",
       "   <td style=\"text-align:left;\"> fcc_astarr_macs_input_overlap </td>\n",
       "  </tr>\n",
       "  <tr>\n",
       "   <td style=\"text-align:left;\"> fcc_astarr_macs </td>\n",
       "   <td style=\"text-align:left;\"> K562.hg38.ASTARR.macs.KS91.input.rep_all.union.q5.bed.gz </td>\n",
       "   <td style=\"text-align:left;\"> fcc_astarr_macs_input_union </td>\n",
       "  </tr>\n",
       "</tbody>\n",
       "</table>"
      ]
     },
     "metadata": {},
     "output_type": "display_data"
    }
   ],
   "source": [
    "### init info table\n",
    "dat = data.frame(\n",
    "    \"Folder\" = txt_folder,\n",
    "    \"FName\"  = c(\n",
    "        \"K562.hg38.ASTARR.macs.KS91.input.rep_all.max_overlaps.q5.bed.gz\",\n",
    "        \"K562.hg38.ASTARR.macs.KS91.input.rep_all.union.q5.bed.gz\"\n",
    "    ),\n",
    "    \"Label\"  = c(\"fcc_astarr_macs_input_overlap\", \"fcc_astarr_macs_input_union\")\n",
    ")\n",
    "\n",
    "### assign and show\n",
    "dat_region_label = dat\n",
    "fun_display_table(dat)"
   ]
  },
  {
   "cell_type": "markdown",
   "id": "25d9dc82-892b-4c0f-a235-32c2fb5dbfa8",
   "metadata": {},
   "source": [
    "## Save results"
   ]
  },
  {
   "cell_type": "code",
   "execution_count": 7,
   "id": "f7a82cd6-6618-4893-b568-5b9fd56441c6",
   "metadata": {},
   "outputs": [],
   "source": [
    "txt_folder = TXT_FOLDER_REGION\n",
    "txt_fdiry  = file.path(FD_RES, \"region\", txt_folder, \"summary\")\n",
    "txt_fname  = \"description.tsv\"\n",
    "txt_fpath  = file.path(txt_fdiry, txt_fname)\n",
    "\n",
    "dir.create(txt_fdiry, showWarnings = FALSE)\n",
    "dat = dat_cname\n",
    "write_tsv(dat, txt_fpath)"
   ]
  },
  {
   "cell_type": "code",
   "execution_count": 8,
   "id": "1422230f-90d8-4c13-a8eb-ab617175e4a9",
   "metadata": {},
   "outputs": [],
   "source": [
    "txt_folder = TXT_FOLDER_REGION\n",
    "txt_fdiry  = file.path(FD_RES, \"region\", txt_folder, \"summary\")\n",
    "txt_fname  = \"metadata.label.tsv\"\n",
    "txt_fpath  = file.path(txt_fdiry, txt_fname)\n",
    "\n",
    "dir.create(txt_fdiry, showWarnings = FALSE)\n",
    "dat = dat_region_label\n",
    "write_tsv(dat, txt_fpath)"
   ]
  },
  {
   "cell_type": "code",
   "execution_count": null,
   "id": "a99da0d7-fc62-43bf-a291-7171f062cad8",
   "metadata": {},
   "outputs": [],
   "source": []
  }
 ],
 "metadata": {
  "kernelspec": {
   "display_name": "R",
   "language": "R",
   "name": "ir"
  },
  "language_info": {
   "codemirror_mode": "r",
   "file_extension": ".r",
   "mimetype": "text/x-r-source",
   "name": "R",
   "pygments_lexer": "r",
   "version": "4.4.0"
  }
 },
 "nbformat": 4,
 "nbformat_minor": 5
}
