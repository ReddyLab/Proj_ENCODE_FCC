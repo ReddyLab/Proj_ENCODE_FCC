{
 "cells": [
  {
   "cell_type": "markdown",
   "metadata": {},
   "source": [
    "# 240311_KS274_ASTARR_Output_Nextseq - starr_seq\n",
    "This notebook will create all the necessary files, scripts and folders to pre-process the aforementioned project. Is designed to be used in a jupyter server deployed in a system running SLURM. The majority of the scripts and heavy-lifting processes are wrapped up in sbatch scripts.As an end user, in order to pre-process your samples provided in the spread sheet, you will simply need to *run the entire notebook* (Cell > Run all) and the system should take care of the rest for you.\n",
    "#### Create necessary folder(s)"
   ]
  },
  {
   "cell_type": "code",
   "execution_count": 34,
   "metadata": {},
   "outputs": [],
   "source": [
    "%%bash\n",
    "mkdir -p /home/ks476/data_keith/encode4_duke//data/starr_seq/metadata\n",
    "mkdir -p /home/ks476/data_keith/encode4_duke//data/starr_seq/raw_reads\n",
    "mkdir -p /home/ks476/data_keith/encode4_duke//data/starr_seq/processed_raw_reads\n",
    "mkdir -p /home/ks476/data_keith/encode4_duke//processing/starr_seq/scripts\n",
    "mkdir -p /home/ks476/data_keith/encode4_duke//processing/starr_seq/jsons\n",
    "mkdir -p /home/ks476/data_keith/encode4_duke//processing/starr_seq/logs"
   ]
  },
  {
   "cell_type": "markdown",
   "metadata": {},
   "source": [
    "Save metadata file"
   ]
  },
  {
   "cell_type": "code",
   "execution_count": 1,
   "metadata": {},
   "outputs": [
    {
     "name": "stdout",
     "output_type": "stream",
     "text": [
      "Overwriting /home/ks476/data_keith/encode4_duke//data/starr_seq/metadata/starr_seq_download_metadata.240311_KS274_ASTARR_Output_Nextseq.txt\n"
     ]
    }
   ],
   "source": [
    "%%writefile /home/ks476/data_keith/encode4_duke//data/starr_seq/metadata/starr_seq_download_metadata.240311_KS274_ASTARR_Output_Nextseq.txt\n",
    "Sequencing core user\tSequencing core project\tSequencing core library name\tname\tPaired-end or single-end\tGenome\tLibrary type\tBlacklist removal\tUmis\tI5 index\n",
    "\t240311_KS274_ASTARR_Output_Nextseq\tKS275-Th17-ASTARR-Th17inp-Output-rep1\tKS275_Th17_ASTARR_Th17inp_Output_rep1\tPE\tmm10\tSTARR-seq\tTrue\tTrue\t4\n",
    "\t240311_KS274_ASTARR_Output_Nextseq\tK562-ASTARR-repeat-rep1\tK562_ASTARR_repeat_rep1\tPE\thg38\tSTARR-seq\tTrue\tTrue\t1\n",
    "\t240311_KS274_ASTARR_Output_Nextseq\tK562-ASTARR-repeat-rep2\tK562_ASTARR_repeat_rep2\tPE\thg38\tSTARR-seq\tTrue\tTrue\t13\n",
    "\t240311_KS274_ASTARR_Output_Nextseq\tK562-ASTARR-repeat-rep3\tK562_ASTARR_repeat_rep3\tPE\thg38\tSTARR-seq\tTrue\tTrue\t18\n",
    "\t240311_KS274_ASTARR_Output_Nextseq\tKS258-Th17-ASTARR-Pooled-Output-rep1\tKS258_Th1_ASTARR_Pooled_Output_rep1\tPE\tmm10\tSTARR-seq\tTrue\tTrue\t17\n"
   ]
  },
  {
   "cell_type": "markdown",
   "metadata": {},
   "source": [
    "#### Merge lanes of FASTQ files"
   ]
  },
  {
   "cell_type": "code",
   "execution_count": 2,
   "metadata": {},
   "outputs": [
    {
     "name": "stdout",
     "output_type": "stream",
     "text": [
      "Overwriting /home/ks476/data_keith/encode4_duke//processing/starr_seq/scripts/merge_lanes_240311_KS274_ASTARR_Output_Nextseq.sh\n"
     ]
    }
   ],
   "source": [
    "%%writefile /home/ks476/data_keith/encode4_duke//processing/starr_seq/scripts/merge_lanes_240311_KS274_ASTARR_Output_Nextseq.sh\n",
    "#!/bin/bash\n",
    "#SBATCH --array=0-5%20\n",
    "ORDER=240311_KS274_ASTARR_Output_Nextseq\n",
    "RAW_DATA_DIR=/home/ks476/data_keith/encode4_duke//data/starr_seq/raw_reads/${ORDER}\n",
    "PROCESSED_DATA_DIR=/home/ks476/data_keith/encode4_duke//data/starr_seq/processed_raw_reads/${ORDER}\n",
    "METADATA=/home/ks476/data_keith/encode4_duke//data/starr_seq/metadata/starr_seq_download_metadata.240311_KS274_ASTARR_Output_Nextseq.txt\n",
    "\n",
    "mkdir -p ${PROCESSED_DATA_DIR}\n",
    "cd ${PROCESSED_DATA_DIR}\n",
    "\n",
    "seq_name_header=$(/bin/grep -Eoi \"sequencing.?core.?library.?name\" ${METADATA})\n",
    "if [[ $? == 1 ]];\n",
    "then\n",
    "    echo -e \"ERROR: Sequencing core library name not found in ${METADATA}\"\n",
    "    exit 1\n",
    "fi\n",
    "\n",
    "name_header=$(/bin/grep -Poi \"\\tname\\t\" ${METADATA})\n",
    "if [[ $? == 1 ]];\n",
    "then\n",
    "    echo -e \"ERROR: Library Name column not found in ${METADATA}\"\n",
    "    exit 1\n",
    "fi\n",
    "name_header=$(echo ${name_header} | cut -f2)\n",
    "\n",
    "seq_type_header=$(head -1 ${METADATA} | /bin/grep -Poi \"paired.?end.?or.?single.?end\")\n",
    "if [[ $? == 1 ]];\n",
    "then\n",
    "    echo -e \"ERROR: Paired-end or single-end column not found in ${METADATA}\"\n",
    "    exit 1\n",
    "fi\n",
    "\n",
    "sample_seq_name=$(/data/reddylab/software/bin/print_tab_cols.awk -v cols=\"${seq_name_header}\" ${METADATA} \\\n",
    "    | awk -v SLURM_ARRAY_TASK_ID=${SLURM_ARRAY_TASK_ID} 'NR==SLURM_ARRAY_TASK_ID+1{print}');\n",
    "sample_name=$(/data/reddylab/software/bin/print_tab_cols.awk -v cols=\"${name_header}\" ${METADATA} \\\n",
    "    | awk -v SLURM_ARRAY_TASK_ID=${SLURM_ARRAY_TASK_ID} 'NR==SLURM_ARRAY_TASK_ID+1{print}');\n",
    "seq_type=$(/data/reddylab/software/bin/print_tab_cols.awk -v cols=\"${seq_type_header}\" ${METADATA} \\\n",
    "    | awk -v SLURM_ARRAY_TASK_ID=${SLURM_ARRAY_TASK_ID} 'NR==SLURM_ARRAY_TASK_ID+1{print}');\n",
    "\n",
    "\n",
    "for read_pair in R1 R2 UMI;\n",
    "do\n",
    "    sample_files=$(/bin/ls ${RAW_DATA_DIR}/${sample_seq_name/ /}_S[0-9]*_L[0-9][0-9][0-9]_${read_pair}_* 2> /dev/null)\n",
    "    if [[ $? != 0 ]]; # If no samples found with that read_pair, continue\n",
    "    then\n",
    "        continue;\n",
    "    fi\n",
    "    if [[ ${read_pair} == \"R1\" || (${seq_type/ /} == \"PE\" || ${seq_type/ /} == \"pe\") ]];\n",
    "    then\n",
    "        # Merge all lanes\n",
    "        merged=$(basename $(echo ${sample_files} | awk '{print $1}') | sed -e 's/_L[0-9]\\{3\\}_/_/')\n",
    "        cat ${sample_files} > ${merged};\n",
    "\n",
    "        # Rename samples with our sample Names\n",
    "        dest_filename=$(basename $(echo ${merged} | awk '{print $1}') | sed -r 's/\\_S[0-9]+//; s/\\_(R1|R2|UMI)\\_/\\.\\1\\./; s/\\.[0-9]+\\.fastq/\\.fastq/')\n",
    "        mv ${merged} ${dest_filename}\n",
    "\n",
    "        cleaned_dest_filename=${dest_filename/${sample_seq_name/ /}/${sample_name/ /}}\n",
    "\n",
    "        if [[ ${seq_type/ /} == \"SE\" || ${seq_type/ /} == \"se\" ]];\n",
    "        then\n",
    "            cleaned_dest_filename=${cleaned_dest_filename/.R1/}\n",
    "        fi\n",
    "        \n",
    "        mv ${dest_filename} ${cleaned_dest_filename}\n",
    "    fi\n",
    "done\n"
   ]
  },
  {
   "cell_type": "markdown",
   "metadata": {},
   "source": [
    "Execute file to merge lanes of FASTQ files"
   ]
  },
  {
   "cell_type": "code",
   "execution_count": 3,
   "metadata": {},
   "outputs": [],
   "source": [
    "%%script --out blocking_job_str bash -s \"$blocking_job\"\n",
    "sbatch -o /home/ks476/data_keith/encode4_duke//processing/starr_seq/logs/240311_KS274_ASTARR_Output_Nextseq_merge_fastq_files_%a.out \\\n",
    " -p all \\\n",
    " --array 0-4%20 \\\n",
    " /home/ks476/data_keith/encode4_duke//processing/starr_seq/scripts/merge_lanes_240311_KS274_ASTARR_Output_Nextseq.sh"
   ]
  },
  {
   "cell_type": "markdown",
   "metadata": {},
   "source": [
    "Extract blocking job id"
   ]
  },
  {
   "cell_type": "code",
   "execution_count": 4,
   "metadata": {},
   "outputs": [],
   "source": [
    "import re\n",
    "blocking_job = re.match('Submitted batch job (\\d+).*', blocking_job_str).group(1)"
   ]
  },
  {
   "cell_type": "markdown",
   "metadata": {},
   "source": [
    "#### Create JSON files for CWL pipeline files"
   ]
  },
  {
   "cell_type": "code",
   "execution_count": 5,
   "metadata": {},
   "outputs": [
    {
     "name": "stdout",
     "output_type": "stream",
     "text": [
      "Overwriting /home/ks476/data_keith/encode4_duke//processing/starr_seq/scripts/cwl_json_gen_240311_KS274_ASTARR_Output_Nextseq.sh\n"
     ]
    }
   ],
   "source": [
    "%%writefile /home/ks476/data_keith/encode4_duke//processing/starr_seq/scripts/cwl_json_gen_240311_KS274_ASTARR_Output_Nextseq.sh\n",
    "#!/bin/bash\n",
    "ORDER=240311_KS274_ASTARR_Output_Nextseq\n",
    "PROCESSED_DATA_DIR=/home/ks476/data_keith/encode4_duke//data/starr_seq/processed_raw_reads/${ORDER}\n",
    "METADATA=/home/ks476/data_keith/encode4_duke//data/starr_seq/metadata/starr_seq_download_metadata.240311_KS274_ASTARR_Output_Nextseq.txt\n",
    "\n",
    "python /data/reddylab/software/cwl/GGR-cwl/v1.0/json-generator/run.py \\\n",
    "    -m ${METADATA} \\\n",
    "    -d ${PROCESSED_DATA_DIR} \\\n",
    "    -o /home/ks476/data_keith/encode4_duke//processing/starr_seq/jsons \\\n",
    "    -t starr-seq \\\n",
    "    --fastq-gzipped \\\n",
    "    --mem 128000 \\\n",
    "    --nthreads 24 \\\n",
    "    --separate-jsons\n",
    "\n"
   ]
  },
  {
   "cell_type": "markdown",
   "metadata": {},
   "source": [
    "Execute file to create JSON files"
   ]
  },
  {
   "cell_type": "code",
   "execution_count": 6,
   "metadata": {},
   "outputs": [],
   "source": [
    "%%script --out blocking_job_str bash -s \"$blocking_job\"\n",
    "source /data/reddylab/software/miniconda2/bin/activate cwl10\n",
    "sbatch -o /home/ks476/data_keith/encode4_duke//processing/starr_seq/logs/240311_KS274_ASTARR_Output_Nextseq_cwl_json_gen.out \\\n",
    " -p all \\\n",
    " --depend afterok:$1 \\\n",
    " /home/ks476/data_keith/encode4_duke//processing/starr_seq/scripts/cwl_json_gen_240311_KS274_ASTARR_Output_Nextseq.sh"
   ]
  },
  {
   "cell_type": "markdown",
   "metadata": {},
   "source": [
    "Extract blocking job id"
   ]
  },
  {
   "cell_type": "code",
   "execution_count": 7,
   "metadata": {},
   "outputs": [],
   "source": [
    "import re\n",
    "blocking_job = re.match('Submitted batch job (\\d+).*', blocking_job_str).group(1)"
   ]
  },
  {
   "cell_type": "markdown",
   "metadata": {},
   "source": [
    "#### Create SLURM array master bash file for pe-umis samples"
   ]
  },
  {
   "cell_type": "code",
   "execution_count": 9,
   "metadata": {},
   "outputs": [
    {
     "name": "stdout",
     "output_type": "stream",
     "text": [
      "Overwriting /home/ks476/data_keith/encode4_duke//processing/starr_seq/scripts/240311_KS274_ASTARR_Output_Nextseq-pe-umis.sh\n"
     ]
    }
   ],
   "source": [
    "%%writefile /home/ks476/data_keith/encode4_duke//processing/starr_seq/scripts/240311_KS274_ASTARR_Output_Nextseq-pe-umis.sh\n",
    "#!/bin/bash\n",
    "#SBATCH --job-name=cwl_starr_seq\n",
    "#SBATCH --output=/home/ks476/data_keith/encode4_duke//processing/starr_seq/logs/240311_KS274_ASTARR_Output_Nextseq-pe-umis-%a.out\n",
    "#SBATCH --mail-user=ks476@duke.edu\n",
    "#SBATCH --mail-type=FAIL,END\n",
    "#SBATCH --mem=128000\n",
    "#SBATCH --cpus-per-task=24\n",
    "\n",
    "export PATH=\"/data/reddylab/software/bin:$PATH\"\n",
    "export PATH=\"/data/reddylab/software/cwl/bin:$PATH\"\n",
    "export PATH=\"/data/reddylab/software/preseq_v2.0:$PATH\"\n",
    "export PATH=\"/data/reddylab/software/rsem-1.2.21/:$PATH\"\n",
    "export PATH=\"/data/reddylab/software/phantompeakqualtools-1.2/:$PATH\"\n",
    "export PATH=\"/data/reddylab/software/miniconda2/envs/cwl10/bin:$PATH\"\n",
    "\n",
    "module load bedtools2\n",
    "module load fastqc\n",
    "module load samtools\n",
    "module load bowtie2\n",
    "module load java\n",
    "\n",
    "# For Fastqc\n",
    "export DISPLAY=:0.0\n",
    "\n",
    "# Make sure temporary files and folders are created in a specific folder\n",
    "mkdir -p /home/ks476/data_keith/encode4_duke//processing/starr_seq/tmpdirs/tmp-240311_KS274_ASTARR_Output_Nextseq-pe-umis-${SLURM_ARRAY_TASK_ID}-\n",
    "export TMPDIR=\"/home/ks476/data_keith/encode4_duke//processing/starr_seq/tmpdirs/tmp-240311_KS274_ASTARR_Output_Nextseq-pe-umis-${SLURM_ARRAY_TASK_ID}-\"\n",
    "\n",
    "cwltool --debug \\\n",
    "    --non-strict \\\n",
    "    --preserve-environment PATH \\\n",
    "    --preserve-environment DISPLAY \\\n",
    "    --preserve-environment TMPDIR \\\n",
    "    --outdir /home/ks476/data_keith/encode4_duke//processing/starr_seq/240311_KS274_ASTARR_Output_Nextseq-pe-umis  \\\n",
    "    --no-container \\\n",
    "    /data/reddylab/software/cwl/GGR-cwl/v1.0/STARR-seq_pipeline/pipeline-pe-umis.cwl \\\n",
    "    /home/ks476/data_keith/encode4_duke//processing/starr_seq/jsons/starr_seq_download_metadata.240311_KS274_ASTARR_Output_Nextseq-pe-umis-${SLURM_ARRAY_TASK_ID}.json\n",
    "\n",
    "# Delete any tmpdir not removed by cwltool\n",
    "rm -rf /home/ks476/data_keith/encode4_duke//processing/starr_seq/tmpdirs/tmp-240311_KS274_ASTARR_Output_Nextseq-pe-umis-${SLURM_ARRAY_TASK_ID}-\n"
   ]
  },
  {
   "cell_type": "markdown",
   "metadata": {},
   "source": [
    "Execute SLURM array master file"
   ]
  },
  {
   "cell_type": "code",
   "execution_count": 10,
   "metadata": {},
   "outputs": [],
   "source": [
    "%%script --out blocking_job_str bash -s \"$blocking_job\"\n",
    "source /data/reddylab/software/miniconda2/bin/activate cwl10\n",
    "sbatch -p all \\\n",
    " --depend afterok:$1 \\\n",
    " --array 0-4%20 \\\n",
    " /home/ks476/data_keith/encode4_duke//processing/starr_seq/scripts/240311_KS274_ASTARR_Output_Nextseq-pe-umis.sh"
   ]
  },
  {
   "cell_type": "markdown",
   "metadata": {},
   "source": [
    "Extract blocking job id"
   ]
  },
  {
   "cell_type": "code",
   "execution_count": 11,
   "metadata": {},
   "outputs": [],
   "source": [
    "import re\n",
    "blocking_job = re.match('Submitted batch job (\\d+).*', blocking_job_str).group(1)"
   ]
  },
  {
   "cell_type": "markdown",
   "metadata": {},
   "source": [
    "#### Create QC generating script"
   ]
  },
  {
   "cell_type": "code",
   "execution_count": 12,
   "metadata": {},
   "outputs": [
    {
     "name": "stdout",
     "output_type": "stream",
     "text": [
      "Overwriting /home/ks476/data_keith/encode4_duke//processing/starr_seq/scripts/generate_qc_cell_240311_KS274_ASTARR_Output_Nextseq-pe-umis.sh\n"
     ]
    }
   ],
   "source": [
    "%%writefile /home/ks476/data_keith/encode4_duke//processing/starr_seq/scripts/generate_qc_cell_240311_KS274_ASTARR_Output_Nextseq-pe-umis.sh\n",
    "#!/bin/bash\n",
    "#SBATCH --job-name=qc\n",
    "#SBATCH --output=/home/ks476/data_keith/encode4_duke//processing/starr_seq/logs/qc_gen.240311_KS274_ASTARR_Output_Nextseq-pe-umis.out\n",
    "\n",
    "source /data/reddylab/software/miniconda2/bin/activate alex\n",
    "cd /home/ks476/data_keith/encode4_duke//processing/starr_seq/240311_KS274_ASTARR_Output_Nextseq-pe-umis\n",
    "\n",
    "python /data/reddylab/software/cwl/bin/generate_stats_starrseq_paired_end.py ./ \\\n",
    "    -samples $(/bin/ls -1 *PBC.txt | sed 's@.PBC.txt@@') \\\n",
    "> qc.txt"
   ]
  },
  {
   "cell_type": "markdown",
   "metadata": {},
   "source": [
    "Generate QCs for 240311_KS274_ASTARR_Output_Nextseq-pe-umis"
   ]
  },
  {
   "cell_type": "code",
   "execution_count": 13,
   "metadata": {},
   "outputs": [],
   "source": [
    "%%script --out blocking_job_str bash -s \"$blocking_job\"\n",
    "sbatch -p all \\\n",
    " --depend afterok:$1 \\\n",
    " /home/ks476/data_keith/encode4_duke//processing/starr_seq/scripts/generate_qc_cell_240311_KS274_ASTARR_Output_Nextseq-pe-umis.sh"
   ]
  },
  {
   "cell_type": "markdown",
   "metadata": {},
   "source": [
    "Extract blocking job id"
   ]
  },
  {
   "cell_type": "code",
   "execution_count": 14,
   "metadata": {},
   "outputs": [],
   "source": [
    "import re\n",
    "blocking_job = re.match('Submitted batch job (\\d+).*', blocking_job_str).group(1)"
   ]
  },
  {
   "cell_type": "code",
   "execution_count": null,
   "metadata": {},
   "outputs": [],
   "source": []
  },
  {
   "cell_type": "code",
   "execution_count": null,
   "metadata": {},
   "outputs": [],
   "source": []
  }
 ],
 "metadata": {
  "kernelspec": {
   "display_name": "Python 3",
   "language": "python",
   "name": "python3"
  },
  "language_info": {
   "codemirror_mode": {
    "name": "ipython",
    "version": 3
   },
   "file_extension": ".py",
   "mimetype": "text/x-python",
   "name": "python",
   "nbconvert_exporter": "python",
   "pygments_lexer": "ipython3",
   "version": "3.6.7"
  }
 },
 "nbformat": 4,
 "nbformat_minor": 1
}
