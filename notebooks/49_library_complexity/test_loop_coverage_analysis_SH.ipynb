{
 "cells": [
  {
   "cell_type": "code",
   "execution_count": null,
   "id": "38f0119a-29c4-4dd9-98c9-a3a56fcfcf2d",
   "metadata": {},
   "outputs": [],
   "source": []
  },
  {
   "cell_type": "markdown",
   "id": "e9300e14-aa0b-4c20-ad3c-66746376162a",
   "metadata": {},
   "source": [
    "**Set environment**"
   ]
  },
  {
   "cell_type": "code",
   "execution_count": 1,
   "id": "e09b36cd-21a2-45fa-a135-8d2c091f88d2",
   "metadata": {},
   "outputs": [
    {
     "name": "stdout",
     "output_type": "stream",
     "text": [
      "You are working on             Duke Server: HARDAC\n",
      "BASE DIRECTORY (FD_BASE):      /data/reddylab/Kuei\n",
      "REPO DIRECTORY (FD_REPO):      /data/reddylab/Kuei/repo\n",
      "WORK DIRECTORY (FD_WORK):      /data/reddylab/Kuei/work\n",
      "DATA DIRECTORY (FD_DATA):      /data/reddylab/Kuei/data\n",
      "CONTAINER DIR. (FD_SING):      /data/reddylab/Kuei/container\n",
      "\n",
      "You are working with           ENCODE FCC\n",
      "PATH OF PROJECT (FD_PRJ):      /data/reddylab/Kuei/repo/Proj_CombEffect_ENCODE_FCC\n",
      "PROJECT RESULTS (FD_RES):      /data/reddylab/Kuei/repo/Proj_CombEffect_ENCODE_FCC/results\n",
      "PROJECT SCRIPTS (FD_EXE):      /data/reddylab/Kuei/repo/Proj_CombEffect_ENCODE_FCC/scripts\n",
      "PROJECT DATA    (FD_DAT):      /data/reddylab/Kuei/repo/Proj_CombEffect_ENCODE_FCC/data\n",
      "PROJECT NOTE    (FD_NBK):      /data/reddylab/Kuei/repo/Proj_CombEffect_ENCODE_FCC/notebooks\n",
      "PROJECT DOCS    (FD_DOC):      /data/reddylab/Kuei/repo/Proj_CombEffect_ENCODE_FCC/docs\n",
      "PROJECT LOG     (FD_LOG):      /data/reddylab/Kuei/repo/Proj_CombEffect_ENCODE_FCC/log\n",
      "PROJECT APP     (FD_APP):      /data/reddylab/Kuei/repo/Proj_CombEffect_ENCODE_FCC/app\n",
      "PROJECT REF     (FD_REF):      /data/reddylab/Kuei/repo/Proj_CombEffect_ENCODE_FCC/references\n",
      "PROJECT IMAGE   (FP_PRJ_SIF):  /data/reddylab/Kuei/repo/Proj_CombEffect_ENCODE_FCC/app/singularity_proj_encode_fcc.sif\n",
      "\n"
     ]
    }
   ],
   "source": [
    "source ../run_config_project.sh\n",
    "show_env"
   ]
  },
  {
   "cell_type": "code",
   "execution_count": null,
   "id": "2f3025cd-b0f8-45f2-ba1b-d33d76cba999",
   "metadata": {},
   "outputs": [],
   "source": []
  },
  {
   "cell_type": "code",
   "execution_count": 4,
   "id": "1ee11be2-f5a3-4c5d-82e0-280250e3ee27",
   "metadata": {},
   "outputs": [
    {
     "name": "stdout",
     "output_type": "stream",
     "text": [
      "metadata_region_label.tsv\n"
     ]
    }
   ],
   "source": [
    "ls ${FD_RES}/region/summary"
   ]
  },
  {
   "cell_type": "code",
   "execution_count": 5,
   "id": "05df8aa7-56c8-4677-912d-095d52ac1940",
   "metadata": {},
   "outputs": [
    {
     "name": "stdout",
     "output_type": "stream",
     "text": [
      "Folder\tFName\tLabel\n",
      "encode_open_chromatin\tK562.hg38.ENCSR000EKS.ENCFF274YGF.DNase.bed.gz\tdnase_ENCFF274YGF\n",
      "encode_open_chromatin\tK562.hg38.ENCSR000EOT.ENCFF185XRG.DNase.bed.gz\tdnase_ENCFF185XRG\n",
      "encode_open_chromatin\tK562.hg38.ENCSR483RKN.ENCFF558BLC.ATAC.bed.gz\tatac_ENCFF558BLC\n",
      "encode_open_chromatin\tK562.hg38.ENCSR483RKN.ENCFF925CYR.ATAC.bed.gz\tatac_ENCFF925CYR\n",
      "encode_open_chromatin\tK562.hg38.ENCSR868FGK.ENCFF333TAT.ATAC.bed.gz\tatac_ENCFF333TAT\n",
      "encode_open_chromatin\tK562.hg38.ENCSR868FGK.ENCFF948AFM.ATAC.bed.gz\tatac_ENCFF948AFM\n",
      "fcc_astarr_macs\tASTARRseq_K562_KS91.hg38.Input.rep_all.max_overlaps.q5.bed\tastarr_macs_input_overlap\n",
      "fcc_astarr_macs\tASTARRseq_K562_KS91.hg38.Input.rep_all.union.q5.bed\tastarr_macs_input_union\n"
     ]
    }
   ],
   "source": [
    "FDIRY=${FD_RES}/region/summary\n",
    "FNAME=metadata_region_label.tsv\n",
    "FPATH=${FDIRY}/${FNAME}\n",
    "\n",
    "cat ${FPATH}"
   ]
  },
  {
   "cell_type": "code",
   "execution_count": 20,
   "id": "6f09631b-b290-424b-ad8f-c5f4be5eb8ee",
   "metadata": {},
   "outputs": [
    {
     "name": "stdout",
     "output_type": "stream",
     "text": [
      "FOLDER=Folder LABEL=Label\n",
      "FOLDER=encode_open_chromatin LABEL=dnase_ENCFF274YGF\n",
      "FOLDER=encode_open_chromatin LABEL=dnase_ENCFF185XRG\n",
      "FOLDER=encode_open_chromatin LABEL=atac_ENCFF558BLC\n",
      "FOLDER=encode_open_chromatin LABEL=atac_ENCFF925CYR\n",
      "FOLDER=encode_open_chromatin LABEL=atac_ENCFF333TAT\n",
      "FOLDER=encode_open_chromatin LABEL=atac_ENCFF948AFM\n",
      "FOLDER=fcc_astarr_macs LABEL=astarr_macs_input_overlap\n",
      "FOLDER=fcc_astarr_macs LABEL=astarr_macs_input_union\n"
     ]
    }
   ],
   "source": [
    "while read FOLDER FNAME LABEL; do\n",
    "  echo \"FOLDER=${FOLDER} LABEL=${LABEL}\"\n",
    "done < ${FPATH}"
   ]
  },
  {
   "cell_type": "code",
   "execution_count": 21,
   "id": "a2389be0-c741-4fe1-a8c1-b514047cc486",
   "metadata": {},
   "outputs": [
    {
     "name": "stdout",
     "output_type": "stream",
     "text": [
      "FOLDER=Folder LABEL=Label\n",
      "FOLDER=encode_open_chromatin LABEL=dnase_ENCFF274YGF\n",
      "FOLDER=encode_open_chromatin LABEL=dnase_ENCFF185XRG\n",
      "FOLDER=encode_open_chromatin LABEL=atac_ENCFF558BLC\n",
      "FOLDER=encode_open_chromatin LABEL=atac_ENCFF925CYR\n",
      "FOLDER=encode_open_chromatin LABEL=atac_ENCFF333TAT\n",
      "FOLDER=encode_open_chromatin LABEL=atac_ENCFF948AFM\n",
      "FOLDER=fcc_astarr_macs LABEL=astarr_macs_input_overlap\n",
      "FOLDER=fcc_astarr_macs LABEL=astarr_macs_input_union\n"
     ]
    }
   ],
   "source": [
    "while read FOLDER FNAME LABEL; do\n",
    "  echo \"FOLDER=${FOLDER} LABEL=${LABEL}\"\n",
    "done < <(cat ${FPATH})"
   ]
  },
  {
   "cell_type": "code",
   "execution_count": 22,
   "id": "72ad1e4c-d319-47c1-9ef6-8ec205ace789",
   "metadata": {},
   "outputs": [
    {
     "name": "stdout",
     "output_type": "stream",
     "text": [
      "FOLDER=encode_open_chromatin LABEL=dnase_ENCFF274YGF\n",
      "FOLDER=encode_open_chromatin LABEL=dnase_ENCFF185XRG\n",
      "FOLDER=encode_open_chromatin LABEL=atac_ENCFF558BLC\n",
      "FOLDER=encode_open_chromatin LABEL=atac_ENCFF925CYR\n",
      "FOLDER=encode_open_chromatin LABEL=atac_ENCFF333TAT\n",
      "FOLDER=encode_open_chromatin LABEL=atac_ENCFF948AFM\n",
      "FOLDER=fcc_astarr_macs LABEL=astarr_macs_input_overlap\n",
      "FOLDER=fcc_astarr_macs LABEL=astarr_macs_input_union\n"
     ]
    }
   ],
   "source": [
    "while read FOLDER FNAME LABEL; do\n",
    "  echo \"FOLDER=${FOLDER} LABEL=${LABEL}\"\n",
    "done < <(cat ${FPATH} | awk 'NR >=2 {print}')"
   ]
  },
  {
   "cell_type": "code",
   "execution_count": null,
   "id": "506d14b1-096c-4fed-96f5-fa228b5a4af2",
   "metadata": {},
   "outputs": [],
   "source": [
    " FNAME=${FNAME} LABEL=${LABEL}"
   ]
  }
 ],
 "metadata": {
  "kernelspec": {
   "display_name": "Bash",
   "language": "bash",
   "name": "bash"
  },
  "language_info": {
   "codemirror_mode": "shell",
   "file_extension": ".sh",
   "mimetype": "text/x-sh",
   "name": "bash"
  }
 },
 "nbformat": 4,
 "nbformat_minor": 5
}
