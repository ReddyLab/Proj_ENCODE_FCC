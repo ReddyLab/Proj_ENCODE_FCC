{
 "cells": [
  {
   "cell_type": "raw",
   "id": "a898d21a-c428-43bc-97a2-e155ea3d6245",
   "metadata": {},
   "source": [
    "---\n",
    "title: Prepare Interpro (Flagship)\n",
    "subtitle: Download the data\n",
    "format:\n",
    "    html:\n",
    "        code-fold:  true\n",
    "        code-tools: true\n",
    "---"
   ]
  },
  {
   "cell_type": "markdown",
   "id": "b15f3078-1f5d-47c3-9540-bf1218dc4bc4",
   "metadata": {},
   "source": [
    "**set environment**"
   ]
  },
  {
   "cell_type": "code",
   "execution_count": 1,
   "id": "e95dfbfd-17f2-4bb6-ab0a-236d490289e6",
   "metadata": {},
   "outputs": [
    {
     "name": "stdout",
     "output_type": "stream",
     "text": [
      "You are working on             Duke Server: HARDAC\n",
      "BASE DIRECTORY (FD_BASE):      /data/reddylab/Kuei\n",
      "REPO DIRECTORY (FD_REPO):      /data/reddylab/Kuei/repo\n",
      "WORK DIRECTORY (FD_WORK):      /data/reddylab/Kuei/work\n",
      "DATA DIRECTORY (FD_DATA):      /data/reddylab/Kuei/data\n",
      "CONTAINER DIR. (FD_SING):      /data/reddylab/Kuei/container\n",
      "\n",
      "You are working with           ENCODE FCC\n",
      "PATH OF PROJECT (FD_PRJ):      /data/reddylab/Kuei/repo/Proj_ENCODE_FCC\n",
      "PROJECT RESULTS (FD_RES):      /data/reddylab/Kuei/repo/Proj_ENCODE_FCC/results\n",
      "PROJECT SCRIPTS (FD_EXE):      /data/reddylab/Kuei/repo/Proj_ENCODE_FCC/scripts\n",
      "PROJECT DATA    (FD_DAT):      /data/reddylab/Kuei/repo/Proj_ENCODE_FCC/data\n",
      "PROJECT NOTE    (FD_NBK):      /data/reddylab/Kuei/repo/Proj_ENCODE_FCC/notebooks\n",
      "PROJECT DOCS    (FD_DOC):      /data/reddylab/Kuei/repo/Proj_ENCODE_FCC/docs\n",
      "PROJECT LOG     (FD_LOG):      /data/reddylab/Kuei/repo/Proj_ENCODE_FCC/log\n",
      "PROJECT REF     (FD_REF):      /data/reddylab/Kuei/repo/Proj_ENCODE_FCC/references\n",
      "PROJECT IMAGE   (FP_PRJ_SIF):  /data/reddylab/Kuei/container/project/singularity_proj_encode_fcc.sif\n",
      "\n"
     ]
    }
   ],
   "source": [
    "source ../run_config_project.sh\n",
    "show_env"
   ]
  },
  {
   "cell_type": "code",
   "execution_count": 2,
   "id": "9af50093-79de-4eb5-8419-ddd2e4217986",
   "metadata": {},
   "outputs": [
    {
     "name": "stdout",
     "output_type": "stream",
     "text": [
      "#!/bin/bash\n",
      "\n",
      "### print start message\n",
      "timer_start=`date +%s`\n",
      "echo \"Hostname:          \" $(hostname)\n",
      "echo \"Slurm Array Index: \" ${SLURM_ARRAY_TASK_ID}\n",
      "echo \"Time Stamp:        \" $(date +\"%m-%d-%y+%T\")\n",
      "echo\n",
      "\n",
      "### setup env:\n",
      "###     get project root path\n",
      "###     load helper functions\n",
      "FD_PRJ=$1\n",
      "FD_EXE=${FD_PRJ}/scripts\n",
      "source ${FD_EXE}/config_project.sh\n",
      "\n",
      "### print end message\n",
      "timer=`date +%s`\n",
      "runtime=$(echo \"${timer} - ${timer_start}\" | bc -l)\n",
      "echo\n",
      "echo 'Done!'\n",
      "echo \"Run Time: $(displaytime ${runtime})\"\n",
      "\n"
     ]
    }
   ],
   "source": [
    "cat ${FD_EXE}/run_test.sh"
   ]
  },
  {
   "cell_type": "code",
   "execution_count": 3,
   "id": "ed137ade-1a2b-42a1-adce-b9d1e0935916",
   "metadata": {},
   "outputs": [
    {
     "name": "stdout",
     "output_type": "stream",
     "text": [
      "#!/bin/bash\n",
      "\n",
      "### print start message\n",
      "timer_start=`date +%s`\n",
      "echo \"Hostname:          \" $(hostname)\n",
      "echo \"Slurm Array Index: \" ${SLURM_ARRAY_TASK_ID}\n",
      "echo \"Time Stamp:        \" $(date +\"%m-%d-%y+%T\")\n",
      "echo\n",
      "\n",
      "### setup env:\n",
      "###     get project root path\n",
      "###     load helper functions\n",
      "FD_PRJ=$1\n",
      "FD_EXE=${FD_PRJ}/scripts\n",
      "source ${FD_EXE}/config_project.sh\n",
      "\n",
      "### setup input and output\n",
      "FP_INP=$2\n",
      "\n",
      "### show input file\n",
      "echo \"Input: \" ${FP_INP}\n",
      "echo\n",
      "echo \"show first few lines of input\"\n",
      "fun_cat ${FP_INP} | head\n",
      "echo\n",
      "\n",
      "### execute\n",
      "bedtools --help\n",
      "echo\n",
      "\n",
      "### print end message\n",
      "timer=`date +%s`\n",
      "runtime=$(echo \"${timer} - ${timer_start}\" | bc -l)\n",
      "echo\n",
      "echo 'Done!'\n",
      "echo \"Run Time: $(displaytime ${runtime})\"\n",
      "\n"
     ]
    }
   ],
   "source": [
    "cat ${FD_EXE}/run_bedtools_test.sh"
   ]
  },
  {
   "cell_type": "code",
   "execution_count": 5,
   "id": "947f0ad9-6ba8-4bba-b671-258cfafee8ac",
   "metadata": {},
   "outputs": [
    {
     "name": "stdout",
     "output_type": "stream",
     "text": [
      "/data/reddylab/Kuei/data/annotation/genome/hg38\n",
      "\u001b[0m\u001b[38;5;27mfasta\u001b[0m\n",
      "hg38.chrom.sizes\n",
      "hg38.chrom.sizes.chr1\n",
      "hg38.chrom.sizes.chr10\n",
      "hg38.chrom.sizes.chr11\n",
      "hg38.chrom.sizes.chr12\n",
      "hg38.chrom.sizes.chr13\n",
      "hg38.chrom.sizes.chr14\n",
      "hg38.chrom.sizes.chr15\n",
      "hg38.chrom.sizes.chr16\n",
      "hg38.chrom.sizes.chr17\n",
      "hg38.chrom.sizes.chr18\n",
      "hg38.chrom.sizes.chr19\n",
      "hg38.chrom.sizes.chr2\n",
      "hg38.chrom.sizes.chr20\n",
      "hg38.chrom.sizes.chr21\n",
      "hg38.chrom.sizes.chr22\n",
      "hg38.chrom.sizes.chr3\n",
      "hg38.chrom.sizes.chr4\n",
      "hg38.chrom.sizes.chr5\n",
      "hg38.chrom.sizes.chr6\n",
      "hg38.chrom.sizes.chr7\n",
      "hg38.chrom.sizes.chr8\n",
      "hg38.chrom.sizes.chr9\n",
      "hg38.chrom.sizes.chrX\n",
      "hg38.chrom.sizes.chrY\n",
      "\u001b[38;5;13mhg38.chrom.sizes.rm\u001b[0m\n"
     ]
    }
   ],
   "source": [
    "echo  ${FD_GEN}\n",
    "ls -1 ${FD_GEN}"
   ]
  },
  {
   "cell_type": "code",
   "execution_count": 8,
   "id": "672ceeaf-94f5-4b44-ace1-3821a5eaaaab",
   "metadata": {},
   "outputs": [
    {
     "name": "stdout",
     "output_type": "stream",
     "text": [
      "/data/reddylab/Kuei/data/annotation/genome/hg38\n",
      "/data/reddylab/Kuei/data/annotation/genome/hg38/fasta/chr1.fa\n",
      "/data/reddylab/Kuei/data/annotation/genome/hg38/fasta/chr1.fa.fai\n",
      "/data/reddylab/Kuei/data/annotation/genome/hg38/fasta/hg38.fa\n",
      "/data/reddylab/Kuei/data/annotation/genome/hg38/fasta/hg38.fa.fai\n"
     ]
    }
   ],
   "source": [
    "echo  ${FD_GEN}\n",
    "ls -1 ${FD_GEN}/fasta/chr1.*\n",
    "ls -1 ${FD_GEN}/fasta/hg38*"
   ]
  },
  {
   "cell_type": "code",
   "execution_count": 7,
   "id": "839e320d-63d5-474c-ba63-bfd6dc2e58e0",
   "metadata": {},
   "outputs": [
    {
     "name": "stdout",
     "output_type": "stream",
     "text": [
      "/data/reddylab/Kuei/repo/Proj_ENCODE_FCC/results\n",
      "\u001b[0m\u001b[38;5;9mK562.hg38.ASTARR.macs.KS91.input.rep_all.max_overlaps.q5.bed.gz\u001b[0m\n",
      "\u001b[38;5;9mK562.hg38.ASTARR.macs.KS91.input.rep_all.union.q5.bed.gz\u001b[0m\n",
      "\u001b[38;5;27msummary\u001b[0m\n",
      "\u001b[38;5;27mtmp\u001b[0m\n"
     ]
    }
   ],
   "source": [
    "echo  ${FD_RES}\n",
    "ls -1 ${FD_RES}/region/fcc_astarr_macs"
   ]
  },
  {
   "cell_type": "code",
   "execution_count": 14,
   "id": "2e21271f-f124-4ebb-ad99-7762c7f5464c",
   "metadata": {},
   "outputs": [
    {
     "name": "stdout",
     "output_type": "stream",
     "text": [
      "\u001b[0m\u001b[38;5;9m/data/reddylab/Kuei/repo/Proj_ENCODE_FCC/results/region/fcc_astarr_macs/K562.hg38.ASTARR.macs.KS91.input.rep_all.max_overlaps.q5.bed.gz\u001b[0m\u001b[K\n"
     ]
    }
   ],
   "source": [
    "FD_INP=${FD_RES}/region/fcc_astarr_macs\n",
    "FN_INP=\"K562.hg38.ASTARR.macs.KS91.input.rep_all.max_overlaps.q5.bed.gz\"\n",
    "FP_INP=${FD_INP}/${FN_INP}\n",
    "\n",
    "ls ${FP_INP}"
   ]
  },
  {
   "cell_type": "code",
   "execution_count": 16,
   "id": "e45f213e-1649-43cf-abc6-879d87564f6a",
   "metadata": {},
   "outputs": [],
   "source": [
    "FD_OUT=${FD_RES}/region_nuc/fcc_astarr_macs\n",
    "FN_OUT=${FN_INP}\n",
    "FP_OUT=${FD_OUT}/${FN_OUT}\n",
    "\n",
    "mkdir -p ${FD_OUT}"
   ]
  },
  {
   "cell_type": "code",
   "execution_count": 17,
   "id": "aa8cf741-e344-46f9-982f-4820805e7cf2",
   "metadata": {},
   "outputs": [
    {
     "name": "stdout",
     "output_type": "stream",
     "text": [
      "/data/reddylab/Kuei/data/annotation/genome/hg38\n",
      "/data/reddylab/Kuei/data/annotation/genome/hg38/fasta/hg38.fa\n"
     ]
    }
   ],
   "source": [
    "echo ${FD_GEN}\n",
    "FN_GEN=fasta/hg38.fa\n",
    "FP_GEN=${FD_GEN}/${FN_GEN}\n",
    "\n",
    "ls ${FP_GEN}"
   ]
  },
  {
   "cell_type": "code",
   "execution_count": 18,
   "id": "df5820d0-141e-4aef-9962-20893a1df87b",
   "metadata": {},
   "outputs": [
    {
     "name": "stdout",
     "output_type": "stream",
     "text": [
      "Submitted batch job 35135993\n"
     ]
    }
   ],
   "source": [
    "FN_LOG=bedtools.nuc.region.atac.txt\n",
    "FP_LOG=${FD_LOG}/${FN_LOG}\n",
    "\n",
    "sbatch -p ${NODE} \\\n",
    "    --exclude=dl-01 \\\n",
    "    --cpus-per-task 4 \\\n",
    "    --mem 4G \\\n",
    "    --output ${FP_LOG} \\\n",
    "    ${FD_EXE}/run_bedtools_nuc.sh ${FD_PRJ} ${FP_GEN} ${FP_INP} ${FP_OUT}"
   ]
  },
  {
   "cell_type": "code",
   "execution_count": 19,
   "id": "f5fe90a8-148b-41b9-a487-cb35b287b6c7",
   "metadata": {},
   "outputs": [
    {
     "name": "stdout",
     "output_type": "stream",
     "text": [
      "Hostname:           x2-08-1.genome.duke.edu\n",
      "Slurm Array Index: \n",
      "Time Stamp:         09-24-24+17:44:18\n",
      "\n",
      "Genome:  /data/reddylab/Kuei/data/annotation/genome/hg38/fasta/hg38.fa\n",
      "\n",
      "Input:   /data/reddylab/Kuei/repo/Proj_ENCODE_FCC/results/region/fcc_astarr_macs/K562.hg38.ASTARR.macs.KS91.input.rep_all.max_overlaps.q5.bed.gz\n",
      "\n",
      "show first few lines of input\n",
      "chr1\t10038\t10405\n",
      "chr1\t14282\t14614\n",
      "chr1\t16025\t16338\n",
      "chr1\t17288\t17689\n",
      "chr1\t28934\t29499\n",
      "chr1\t115429\t115969\n",
      "chr1\t136201\t137353\n",
      "chr1\t137748\t138049\n",
      "chr1\t138321\t139517\n",
      "chr1\t181005\t181854\n",
      "\n",
      "\n",
      "Output:  /data/reddylab/Kuei/repo/Proj_ENCODE_FCC/results/region_nuc/fcc_astarr_macs/K562.hg38.ASTARR.macs.KS91.input.rep_all.max_overlaps.q5.bed.gz\n",
      "\n",
      "show first few lines of output:\n",
      "#1_usercol\t2_usercol\t3_usercol\t4_pct_at\t5_pct_gc\t6_num_A\t7_num_C\t8_num_G\t9_num_T\t10_num_N\t11_num_oth\t12_seq_len\n",
      "chr1\t10038\t10405\t0.476839\t0.523161\t122\t192\t0\t53\t0\t0\t367\n",
      "chr1\t14282\t14614\t0.421687\t0.578313\t65\t102\t90\t75\t0\t0\t332\n",
      "chr1\t16025\t16338\t0.412141\t0.587859\t62\t89\t95\t67\t0\t0\t313\n",
      "chr1\t17288\t17689\t0.374065\t0.625935\t69\t144\t107\t81\t0\t0\t401\n",
      "chr1\t28934\t29499\t0.228319\t0.771681\t66\t247\t189\t63\t0\t0\t565\n",
      "chr1\t115429\t115969\t0.618519\t0.381481\t160\t119\t87\t174\t0\t0\t540\n",
      "chr1\t136201\t137353\t0.305556\t0.694444\t166\t296\t504\t186\t0\t0\t1152\n",
      "chr1\t137748\t138049\t0.365449\t0.634551\t69\t68\t123\t41\t0\t0\t301\n",
      "chr1\t138321\t139517\t0.413880\t0.586120\t282\t238\t463\t213\t0\t0\t1196\n",
      "\n",
      "\n",
      "Done!\n",
      "Run Time: 6 seconds\n"
     ]
    }
   ],
   "source": [
    "cat ${FP_LOG}"
   ]
  },
  {
   "cell_type": "code",
   "execution_count": null,
   "id": "a0c1913b-0555-427f-ba25-af09ffa8e24b",
   "metadata": {},
   "outputs": [],
   "source": []
  },
  {
   "cell_type": "code",
   "execution_count": null,
   "id": "ba31d393-6fc8-46fb-8c2b-41de00eed2d1",
   "metadata": {},
   "outputs": [],
   "source": []
  },
  {
   "cell_type": "code",
   "execution_count": 11,
   "id": "116855f8-6579-4068-b2c9-34bacebadeba",
   "metadata": {},
   "outputs": [
    {
     "name": "stdout",
     "output_type": "stream",
     "text": [
      "Submitted batch job 35135992\n"
     ]
    }
   ],
   "source": [
    "FN_LOG=bedtools.nuc.region.atac.txt\n",
    "FP_LOG=${FD_LOG}/${FN_LOG}\n",
    "\n",
    "sbatch -p ${NODE} \\\n",
    "    --exclude=dl-01 \\\n",
    "    --cpus-per-task 4 \\\n",
    "    --mem 4G \\\n",
    "    --output ${FP_LOG} \\\n",
    "    ${FD_EXE}/run_bedtools_test.sh ${FD_PRJ} ${FP_INP}"
   ]
  },
  {
   "cell_type": "code",
   "execution_count": 12,
   "id": "1c83c4bb-20b2-40a0-b94f-7485dfc65a48",
   "metadata": {},
   "outputs": [
    {
     "name": "stdout",
     "output_type": "stream",
     "text": [
      "Hostname:           x2-08-1.genome.duke.edu\n",
      "Slurm Array Index: \n",
      "Time Stamp:         09-24-24+17:39:49\n",
      "\n",
      "Input:  /data/reddylab/Kuei/repo/Proj_ENCODE_FCC/results/region/fcc_astarr_macs/K562.hg38.ASTARR.macs.KS91.input.rep_all.max_overlaps.q5.bed.gz\n",
      "\n",
      "show first few lines of input\n",
      "chr1\t10038\t10405\n",
      "chr1\t14282\t14614\n",
      "chr1\t16025\t16338\n",
      "chr1\t17288\t17689\n",
      "chr1\t28934\t29499\n",
      "chr1\t115429\t115969\n",
      "chr1\t136201\t137353\n",
      "chr1\t137748\t138049\n",
      "chr1\t138321\t139517\n",
      "chr1\t181005\t181854\n",
      "\n",
      "bedtools is a powerful toolset for genome arithmetic.\n",
      "\n",
      "Version:   v2.31.1\n",
      "About:     developed in the quinlanlab.org and by many contributors worldwide.\n",
      "Docs:      http://bedtools.readthedocs.io/\n",
      "Code:      https://github.com/arq5x/bedtools2\n",
      "Mail:      https://groups.google.com/forum/#!forum/bedtools-discuss\n",
      "\n",
      "Usage:     bedtools <subcommand> [options]\n",
      "\n",
      "The bedtools sub-commands include:\n",
      "\n",
      "[ Genome arithmetic ]\n",
      "    intersect     Find overlapping intervals in various ways.\n",
      "    window        Find overlapping intervals within a window around an interval.\n",
      "    closest       Find the closest, potentially non-overlapping interval.\n",
      "    coverage      Compute the coverage over defined intervals.\n",
      "    map           Apply a function to a column for each overlapping interval.\n",
      "    genomecov     Compute the coverage over an entire genome.\n",
      "    merge         Combine overlapping/nearby intervals into a single interval.\n",
      "    cluster       Cluster (but don't merge) overlapping/nearby intervals.\n",
      "    complement    Extract intervals _not_ represented by an interval file.\n",
      "    shift         Adjust the position of intervals.\n",
      "    subtract      Remove intervals based on overlaps b/w two files.\n",
      "    slop          Adjust the size of intervals.\n",
      "    flank         Create new intervals from the flanks of existing intervals.\n",
      "    sort          Order the intervals in a file.\n",
      "    random        Generate random intervals in a genome.\n",
      "    shuffle       Randomly redistribute intervals in a genome.\n",
      "    sample        Sample random records from file using reservoir sampling.\n",
      "    spacing       Report the gap lengths between intervals in a file.\n",
      "    annotate      Annotate coverage of features from multiple files.\n",
      "\n",
      "[ Multi-way file comparisons ]\n",
      "    multiinter    Identifies common intervals among multiple interval files.\n",
      "    unionbedg     Combines coverage intervals from multiple BEDGRAPH files.\n",
      "\n",
      "[ Paired-end manipulation ]\n",
      "    pairtobed     Find pairs that overlap intervals in various ways.\n",
      "    pairtopair    Find pairs that overlap other pairs in various ways.\n",
      "\n",
      "[ Format conversion ]\n",
      "    bamtobed      Convert BAM alignments to BED (& other) formats.\n",
      "    bedtobam      Convert intervals to BAM records.\n",
      "    bamtofastq    Convert BAM records to FASTQ records.\n",
      "    bedpetobam    Convert BEDPE intervals to BAM records.\n",
      "    bed12tobed6   Breaks BED12 intervals into discrete BED6 intervals.\n",
      "\n",
      "[ Fasta manipulation ]\n",
      "    getfasta      Use intervals to extract sequences from a FASTA file.\n",
      "    maskfasta     Use intervals to mask sequences from a FASTA file.\n",
      "    nuc           Profile the nucleotide content of intervals in a FASTA file.\n",
      "\n",
      "[ BAM focused tools ]\n",
      "    multicov      Counts coverage from multiple BAMs at specific intervals.\n",
      "    tag           Tag BAM alignments based on overlaps with interval files.\n",
      "\n",
      "[ Statistical relationships ]\n",
      "    jaccard       Calculate the Jaccard statistic b/w two sets of intervals.\n",
      "    reldist       Calculate the distribution of relative distances b/w two files.\n",
      "    fisher        Calculate Fisher statistic b/w two feature files.\n",
      "\n",
      "[ Miscellaneous tools ]\n",
      "    overlap       Computes the amount of overlap from two intervals.\n",
      "    igv           Create an IGV snapshot batch script.\n",
      "    links         Create a HTML page of links to UCSC locations.\n",
      "    makewindows   Make interval \"windows\" across a genome.\n",
      "    groupby       Group by common cols. & summarize oth. cols. (~ SQL \"groupBy\")\n",
      "    expand        Replicate lines based on lists of values in columns.\n",
      "    split         Split a file into multiple files with equal records or base pairs.\n",
      "    summary       Statistical summary of intervals in a file.\n",
      "\n",
      "[ General Parameters ]\n",
      "     --cram-ref    Reference used by a CRAM input\n",
      "\n",
      "[ General help ]\n",
      "    --help        Print this help menu.\n",
      "    --version     What version of bedtools are you using?.\n",
      "    --contact     Feature requests, bugs, mailing lists, etc.\n",
      "\n",
      "\n",
      "\n",
      "Done!\n",
      "Run Time: 1 seconds\n"
     ]
    }
   ],
   "source": [
    "cat ${FP_LOG}"
   ]
  },
  {
   "cell_type": "code",
   "execution_count": null,
   "id": "555c2a81-a6c0-4410-9016-4c8fc257d103",
   "metadata": {},
   "outputs": [],
   "source": []
  },
  {
   "cell_type": "code",
   "execution_count": null,
   "id": "06ac4d55-8cec-420c-a96b-239a00ea0efa",
   "metadata": {},
   "outputs": [],
   "source": []
  },
  {
   "cell_type": "code",
   "execution_count": null,
   "id": "13a61443-7528-4c66-accc-2c97c5cfad05",
   "metadata": {},
   "outputs": [],
   "source": []
  },
  {
   "cell_type": "code",
   "execution_count": null,
   "id": "c1880bad-1339-4b23-b5a7-f9dcde33f5ee",
   "metadata": {},
   "outputs": [],
   "source": []
  },
  {
   "cell_type": "code",
   "execution_count": null,
   "id": "8449664d-ea91-4c70-bd1d-81ff588054a5",
   "metadata": {},
   "outputs": [],
   "source": []
  },
  {
   "cell_type": "markdown",
   "id": "f3eebc71-6218-40c2-a087-2a6533cd6819",
   "metadata": {},
   "source": []
  },
  {
   "cell_type": "code",
   "execution_count": 15,
   "id": "baae54d8-fd2c-42b3-ad57-bab1b9a79386",
   "metadata": {},
   "outputs": [
    {
     "name": "stdout",
     "output_type": "stream",
     "text": [
      "/data/reddylab/Kuei/repo/Proj_ENCODE_FCC/scripts/app_duke_hardac/bedtools\n"
     ]
    }
   ],
   "source": [
    "which bedtools"
   ]
  },
  {
   "cell_type": "code",
   "execution_count": 19,
   "id": "ba854bf2-4b8f-45ac-890a-6c30fedc4204",
   "metadata": {},
   "outputs": [
    {
     "name": "stdout",
     "output_type": "stream",
     "text": [
      "\u001b[0m\u001b[38;5;27mfasta\u001b[0m                   hg38.chrom.sizes.chr16  hg38.chrom.sizes.chr4\n",
      "hg38.chrom.sizes        hg38.chrom.sizes.chr17  hg38.chrom.sizes.chr5\n",
      "hg38.chrom.sizes.chr1   hg38.chrom.sizes.chr18  hg38.chrom.sizes.chr6\n",
      "hg38.chrom.sizes.chr10  hg38.chrom.sizes.chr19  hg38.chrom.sizes.chr7\n",
      "hg38.chrom.sizes.chr11  hg38.chrom.sizes.chr2   hg38.chrom.sizes.chr8\n",
      "hg38.chrom.sizes.chr12  hg38.chrom.sizes.chr20  hg38.chrom.sizes.chr9\n",
      "hg38.chrom.sizes.chr13  hg38.chrom.sizes.chr21  hg38.chrom.sizes.chrX\n",
      "hg38.chrom.sizes.chr14  hg38.chrom.sizes.chr22  hg38.chrom.sizes.chrY\n",
      "hg38.chrom.sizes.chr15  hg38.chrom.sizes.chr3   \u001b[38;5;13mhg38.chrom.sizes.rm\u001b[0m\n"
     ]
    }
   ],
   "source": [
    "ls /data/reddylab/Kuei/data/annotation/genome/hg38"
   ]
  },
  {
   "cell_type": "code",
   "execution_count": 31,
   "id": "283c0d58-8d35-4feb-afce-4eb0d5550886",
   "metadata": {},
   "outputs": [
    {
     "name": "stdout",
     "output_type": "stream",
     "text": [
      "chr10.fa                    chr3_KI270777v1_alt.fa\n",
      "chr10.fa.fai                chr3_KI270778v1_alt.fa\n",
      "chr10_GL383545v1_alt.fa     chr3_KI270779v1_alt.fa\n",
      "chr10_GL383546v1_alt.fa     chr3_KI270780v1_alt.fa\n",
      "chr10_KI270824v1_alt.fa     chr3_KI270781v1_alt.fa\n",
      "chr10_KI270825v1_alt.fa     chr3_KI270782v1_alt.fa\n",
      "chr11.fa                    chr3_KI270783v1_alt.fa\n",
      "chr11.fa.fai                chr3_KI270784v1_alt.fa\n",
      "chr11_GL383547v1_alt.fa     chr3_KI270895v1_alt.fa\n",
      "chr11_JH159136v1_alt.fa     chr3_KI270924v1_alt.fa\n",
      "chr11_JH159137v1_alt.fa     chr3_KI270934v1_alt.fa\n",
      "chr11_KI270721v1_random.fa  chr3_KI270935v1_alt.fa\n",
      "chr11_KI270826v1_alt.fa     chr3_KI270936v1_alt.fa\n",
      "chr11_KI270827v1_alt.fa     chr3_KI270937v1_alt.fa\n",
      "chr11_KI270829v1_alt.fa     chr4.fa\n",
      "chr11_KI270830v1_alt.fa     chr4.fa.fai\n",
      "chr11_KI270831v1_alt.fa     chr4_GL000008v2_random.fa\n",
      "chr11_KI270832v1_alt.fa     chr4_GL000257v2_alt.fa\n",
      "chr11_KI270902v1_alt.fa     chr4_GL383527v1_alt.fa\n",
      "chr11_KI270903v1_alt.fa     chr4_GL383528v1_alt.fa\n",
      "chr11_KI270927v1_alt.fa     chr4_KI270785v1_alt.fa\n",
      "chr12.fa                    chr4_KI270786v1_alt.fa\n",
      "chr12.fa.fai                chr4_KI270787v1_alt.fa\n",
      "chr12_GL383549v1_alt.fa     chr4_KI270788v1_alt.fa\n",
      "chr12_GL383550v2_alt.fa     chr4_KI270789v1_alt.fa\n",
      "chr12_GL383551v1_alt.fa     chr4_KI270790v1_alt.fa\n",
      "chr12_GL383552v1_alt.fa     chr4_KI270896v1_alt.fa\n",
      "chr12_GL383553v2_alt.fa     chr4_KI270925v1_alt.fa\n",
      "chr12_GL877875v1_alt.fa     chr5.fa\n",
      "chr12_GL877876v1_alt.fa     chr5.fa.fai\n",
      "chr12_KI270833v1_alt.fa     chr5_GL000208v1_random.fa\n",
      "chr12_KI270834v1_alt.fa     chr5_GL339449v2_alt.fa\n",
      "chr12_KI270835v1_alt.fa     chr5_GL383530v1_alt.fa\n",
      "chr12_KI270836v1_alt.fa     chr5_GL383531v1_alt.fa\n",
      "chr12_KI270837v1_alt.fa     chr5_GL383532v1_alt.fa\n",
      "chr12_KI270904v1_alt.fa     chr5_GL949742v1_alt.fa\n",
      "chr13.fa                    chr5_KI270791v1_alt.fa\n",
      "chr13.fa.fai                chr5_KI270792v1_alt.fa\n",
      "chr13_KI270838v1_alt.fa     chr5_KI270793v1_alt.fa\n",
      "chr13_KI270839v1_alt.fa     chr5_KI270794v1_alt.fa\n",
      "chr13_KI270840v1_alt.fa     chr5_KI270795v1_alt.fa\n",
      "chr13_KI270841v1_alt.fa     chr5_KI270796v1_alt.fa\n",
      "chr13_KI270842v1_alt.fa     chr5_KI270897v1_alt.fa\n",
      "chr13_KI270843v1_alt.fa     chr5_KI270898v1_alt.fa\n",
      "chr14.fa                    chr6.fa\n",
      "chr14.fa.fai                chr6.fa.fai\n",
      "chr14_GL000009v2_random.fa  chr6_GL000250v2_alt.fa\n",
      "chr14_GL000194v1_random.fa  chr6_GL000251v2_alt.fa\n",
      "chr14_GL000225v1_random.fa  chr6_GL000252v2_alt.fa\n",
      "chr14_KI270722v1_random.fa  chr6_GL000253v2_alt.fa\n",
      "chr14_KI270723v1_random.fa  chr6_GL000254v2_alt.fa\n",
      "chr14_KI270724v1_random.fa  chr6_GL000255v2_alt.fa\n",
      "chr14_KI270725v1_random.fa  chr6_GL000256v2_alt.fa\n",
      "chr14_KI270726v1_random.fa  chr6_GL383533v1_alt.fa\n",
      "chr14_KI270844v1_alt.fa     chr6_KB021644v2_alt.fa\n",
      "chr14_KI270845v1_alt.fa     chr6_KI270758v1_alt.fa\n",
      "chr14_KI270846v1_alt.fa     chr6_KI270797v1_alt.fa\n",
      "chr14_KI270847v1_alt.fa     chr6_KI270798v1_alt.fa\n",
      "chr15.fa                    chr6_KI270799v1_alt.fa\n",
      "chr15.fa.fai                chr6_KI270800v1_alt.fa\n",
      "chr15_GL383554v1_alt.fa     chr6_KI270801v1_alt.fa\n",
      "chr15_GL383555v2_alt.fa     chr6_KI270802v1_alt.fa\n",
      "chr15_KI270727v1_random.fa  chr7.fa\n",
      "chr15_KI270848v1_alt.fa     chr7.fa.fai\n",
      "chr15_KI270849v1_alt.fa     chr7_GL383534v2_alt.fa\n",
      "chr15_KI270850v1_alt.fa     chr7_KI270803v1_alt.fa\n",
      "chr15_KI270851v1_alt.fa     chr7_KI270804v1_alt.fa\n",
      "chr15_KI270852v1_alt.fa     chr7_KI270805v1_alt.fa\n",
      "chr15_KI270905v1_alt.fa     chr7_KI270806v1_alt.fa\n",
      "chr15_KI270906v1_alt.fa     chr7_KI270807v1_alt.fa\n",
      "chr16.fa                    chr7_KI270808v1_alt.fa\n",
      "chr16.fa.fai                chr7_KI270809v1_alt.fa\n",
      "chr16_GL383556v1_alt.fa     chr7_KI270899v1_alt.fa\n",
      "chr16_GL383557v1_alt.fa     chr8.fa\n",
      "chr16_KI270728v1_random.fa  chr8.fa.fai\n",
      "chr16_KI270853v1_alt.fa     chr8_KI270810v1_alt.fa\n",
      "chr16_KI270854v1_alt.fa     chr8_KI270811v1_alt.fa\n",
      "chr16_KI270855v1_alt.fa     chr8_KI270812v1_alt.fa\n",
      "chr16_KI270856v1_alt.fa     chr8_KI270813v1_alt.fa\n",
      "chr17.fa                    chr8_KI270814v1_alt.fa\n",
      "chr17.fa.fai                chr8_KI270815v1_alt.fa\n",
      "chr17_GL000205v2_random.fa  chr8_KI270816v1_alt.fa\n",
      "chr17_GL000258v2_alt.fa     chr8_KI270817v1_alt.fa\n",
      "chr17_GL383563v3_alt.fa     chr8_KI270818v1_alt.fa\n",
      "chr17_GL383564v2_alt.fa     chr8_KI270819v1_alt.fa\n",
      "chr17_GL383565v1_alt.fa     chr8_KI270820v1_alt.fa\n",
      "chr17_GL383566v1_alt.fa     chr8_KI270821v1_alt.fa\n",
      "chr17_JH159146v1_alt.fa     chr8_KI270822v1_alt.fa\n",
      "chr17_JH159147v1_alt.fa     chr8_KI270900v1_alt.fa\n",
      "chr17_JH159148v1_alt.fa     chr8_KI270901v1_alt.fa\n",
      "chr17_KI270729v1_random.fa  chr8_KI270926v1_alt.fa\n",
      "chr17_KI270730v1_random.fa  chr9.fa\n",
      "chr17_KI270857v1_alt.fa     chr9.fa.fai\n",
      "chr17_KI270858v1_alt.fa     chr9_GL383539v1_alt.fa\n",
      "chr17_KI270859v1_alt.fa     chr9_GL383540v1_alt.fa\n",
      "chr17_KI270860v1_alt.fa     chr9_GL383541v1_alt.fa\n",
      "chr17_KI270861v1_alt.fa     chr9_GL383542v1_alt.fa\n",
      "chr17_KI270862v1_alt.fa     chr9_KI270717v1_random.fa\n",
      "chr17_KI270907v1_alt.fa     chr9_KI270718v1_random.fa\n",
      "chr17_KI270908v1_alt.fa     chr9_KI270719v1_random.fa\n",
      "chr17_KI270909v1_alt.fa     chr9_KI270720v1_random.fa\n",
      "chr17_KI270910v1_alt.fa     chr9_KI270823v1_alt.fa\n",
      "chr18.fa                    chrM.fa\n",
      "chr18.fa.fai                chrUn_GL000195v1.fa\n",
      "chr18_GL383567v1_alt.fa     chrUn_GL000213v1.fa\n",
      "chr18_GL383568v1_alt.fa     chrUn_GL000214v1.fa\n",
      "chr18_GL383569v1_alt.fa     chrUn_GL000216v2.fa\n",
      "chr18_GL383570v1_alt.fa     chrUn_GL000218v1.fa\n",
      "chr18_GL383571v1_alt.fa     chrUn_GL000219v1.fa\n",
      "chr18_GL383572v1_alt.fa     chrUn_GL000220v1.fa\n",
      "chr18_KI270863v1_alt.fa     chrUn_GL000224v1.fa\n",
      "chr18_KI270864v1_alt.fa     chrUn_GL000226v1.fa\n",
      "chr18_KI270911v1_alt.fa     chrUn_KI270302v1.fa\n",
      "chr18_KI270912v1_alt.fa     chrUn_KI270303v1.fa\n",
      "chr19.fa                    chrUn_KI270304v1.fa\n",
      "chr19.fa.fai                chrUn_KI270305v1.fa\n",
      "chr19_GL000209v2_alt.fa     chrUn_KI270310v1.fa\n",
      "chr19_GL383573v1_alt.fa     chrUn_KI270311v1.fa\n",
      "chr19_GL383574v1_alt.fa     chrUn_KI270312v1.fa\n",
      "chr19_GL383575v2_alt.fa     chrUn_KI270315v1.fa\n",
      "chr19_GL383576v1_alt.fa     chrUn_KI270316v1.fa\n",
      "chr19_GL949746v1_alt.fa     chrUn_KI270317v1.fa\n",
      "chr19_GL949747v2_alt.fa     chrUn_KI270320v1.fa\n",
      "chr19_GL949748v2_alt.fa     chrUn_KI270322v1.fa\n",
      "chr19_GL949749v2_alt.fa     chrUn_KI270329v1.fa\n",
      "chr19_GL949750v2_alt.fa     chrUn_KI270330v1.fa\n",
      "chr19_GL949751v2_alt.fa     chrUn_KI270333v1.fa\n",
      "chr19_GL949752v1_alt.fa     chrUn_KI270334v1.fa\n",
      "chr19_GL949753v2_alt.fa     chrUn_KI270335v1.fa\n",
      "chr19_KI270865v1_alt.fa     chrUn_KI270336v1.fa\n",
      "chr19_KI270866v1_alt.fa     chrUn_KI270337v1.fa\n",
      "chr19_KI270867v1_alt.fa     chrUn_KI270338v1.fa\n",
      "chr19_KI270868v1_alt.fa     chrUn_KI270340v1.fa\n",
      "chr19_KI270882v1_alt.fa     chrUn_KI270362v1.fa\n",
      "chr19_KI270883v1_alt.fa     chrUn_KI270363v1.fa\n",
      "chr19_KI270884v1_alt.fa     chrUn_KI270364v1.fa\n",
      "chr19_KI270885v1_alt.fa     chrUn_KI270366v1.fa\n",
      "chr19_KI270886v1_alt.fa     chrUn_KI270371v1.fa\n",
      "chr19_KI270887v1_alt.fa     chrUn_KI270372v1.fa\n",
      "chr19_KI270888v1_alt.fa     chrUn_KI270373v1.fa\n",
      "chr19_KI270889v1_alt.fa     chrUn_KI270374v1.fa\n",
      "chr19_KI270890v1_alt.fa     chrUn_KI270375v1.fa\n",
      "chr19_KI270891v1_alt.fa     chrUn_KI270376v1.fa\n",
      "chr19_KI270914v1_alt.fa     chrUn_KI270378v1.fa\n",
      "chr19_KI270915v1_alt.fa     chrUn_KI270379v1.fa\n",
      "chr19_KI270916v1_alt.fa     chrUn_KI270381v1.fa\n",
      "chr19_KI270917v1_alt.fa     chrUn_KI270382v1.fa\n",
      "chr19_KI270918v1_alt.fa     chrUn_KI270383v1.fa\n",
      "chr19_KI270919v1_alt.fa     chrUn_KI270384v1.fa\n",
      "chr19_KI270920v1_alt.fa     chrUn_KI270385v1.fa\n",
      "chr19_KI270921v1_alt.fa     chrUn_KI270386v1.fa\n",
      "chr19_KI270922v1_alt.fa     chrUn_KI270387v1.fa\n",
      "chr19_KI270923v1_alt.fa     chrUn_KI270388v1.fa\n",
      "chr19_KI270929v1_alt.fa     chrUn_KI270389v1.fa\n",
      "chr19_KI270930v1_alt.fa     chrUn_KI270390v1.fa\n",
      "chr19_KI270931v1_alt.fa     chrUn_KI270391v1.fa\n",
      "chr19_KI270932v1_alt.fa     chrUn_KI270392v1.fa\n",
      "chr19_KI270933v1_alt.fa     chrUn_KI270393v1.fa\n",
      "chr19_KI270938v1_alt.fa     chrUn_KI270394v1.fa\n",
      "chr1.fa                     chrUn_KI270395v1.fa\n",
      "chr1.fa.fai                 chrUn_KI270396v1.fa\n",
      "chr1_GL383518v1_alt.fa      chrUn_KI270411v1.fa\n",
      "chr1_GL383519v1_alt.fa      chrUn_KI270412v1.fa\n",
      "chr1_GL383520v2_alt.fa      chrUn_KI270414v1.fa\n",
      "chr1_KI270706v1_random.fa   chrUn_KI270417v1.fa\n",
      "chr1_KI270707v1_random.fa   chrUn_KI270418v1.fa\n",
      "chr1_KI270708v1_random.fa   chrUn_KI270419v1.fa\n",
      "chr1_KI270709v1_random.fa   chrUn_KI270420v1.fa\n",
      "chr1_KI270710v1_random.fa   chrUn_KI270422v1.fa\n",
      "chr1_KI270711v1_random.fa   chrUn_KI270423v1.fa\n",
      "chr1_KI270712v1_random.fa   chrUn_KI270424v1.fa\n",
      "chr1_KI270713v1_random.fa   chrUn_KI270425v1.fa\n",
      "chr1_KI270714v1_random.fa   chrUn_KI270429v1.fa\n",
      "chr1_KI270759v1_alt.fa      chrUn_KI270435v1.fa\n",
      "chr1_KI270760v1_alt.fa      chrUn_KI270438v1.fa\n",
      "chr1_KI270761v1_alt.fa      chrUn_KI270442v1.fa\n",
      "chr1_KI270762v1_alt.fa      chrUn_KI270448v1.fa\n",
      "chr1_KI270763v1_alt.fa      chrUn_KI270465v1.fa\n",
      "chr1_KI270764v1_alt.fa      chrUn_KI270466v1.fa\n",
      "chr1_KI270765v1_alt.fa      chrUn_KI270467v1.fa\n",
      "chr1_KI270766v1_alt.fa      chrUn_KI270468v1.fa\n",
      "chr1_KI270892v1_alt.fa      chrUn_KI270507v1.fa\n",
      "chr20.fa                    chrUn_KI270508v1.fa\n",
      "chr20.fa.fai                chrUn_KI270509v1.fa\n",
      "chr20_GL383577v2_alt.fa     chrUn_KI270510v1.fa\n",
      "chr20_KI270869v1_alt.fa     chrUn_KI270511v1.fa\n",
      "chr20_KI270870v1_alt.fa     chrUn_KI270512v1.fa\n",
      "chr20_KI270871v1_alt.fa     chrUn_KI270515v1.fa\n",
      "chr21.fa                    chrUn_KI270516v1.fa\n",
      "chr21.fa.fai                chrUn_KI270517v1.fa\n",
      "chr21_GL383578v2_alt.fa     chrUn_KI270518v1.fa\n",
      "chr21_GL383579v2_alt.fa     chrUn_KI270519v1.fa\n",
      "chr21_GL383580v2_alt.fa     chrUn_KI270521v1.fa\n",
      "chr21_GL383581v2_alt.fa     chrUn_KI270522v1.fa\n",
      "chr21_KI270872v1_alt.fa     chrUn_KI270528v1.fa\n",
      "chr21_KI270873v1_alt.fa     chrUn_KI270529v1.fa\n",
      "chr21_KI270874v1_alt.fa     chrUn_KI270530v1.fa\n",
      "chr22.fa                    chrUn_KI270538v1.fa\n",
      "chr22.fa.fai                chrUn_KI270539v1.fa\n",
      "chr22_GL383582v2_alt.fa     chrUn_KI270544v1.fa\n",
      "chr22_GL383583v2_alt.fa     chrUn_KI270548v1.fa\n",
      "chr22_KB663609v1_alt.fa     chrUn_KI270579v1.fa\n",
      "chr22_KI270731v1_random.fa  chrUn_KI270580v1.fa\n",
      "chr22_KI270732v1_random.fa  chrUn_KI270581v1.fa\n",
      "chr22_KI270733v1_random.fa  chrUn_KI270582v1.fa\n",
      "chr22_KI270734v1_random.fa  chrUn_KI270583v1.fa\n",
      "chr22_KI270735v1_random.fa  chrUn_KI270584v1.fa\n",
      "chr22_KI270736v1_random.fa  chrUn_KI270587v1.fa\n",
      "chr22_KI270737v1_random.fa  chrUn_KI270588v1.fa\n",
      "chr22_KI270738v1_random.fa  chrUn_KI270589v1.fa\n",
      "chr22_KI270739v1_random.fa  chrUn_KI270590v1.fa\n",
      "chr22_KI270875v1_alt.fa     chrUn_KI270591v1.fa\n",
      "chr22_KI270876v1_alt.fa     chrUn_KI270593v1.fa\n",
      "chr22_KI270877v1_alt.fa     chrUn_KI270741v1.fa\n",
      "chr22_KI270878v1_alt.fa     chrUn_KI270742v1.fa\n",
      "chr22_KI270879v1_alt.fa     chrUn_KI270743v1.fa\n",
      "chr22_KI270928v1_alt.fa     chrUn_KI270744v1.fa\n",
      "chr2.fa                     chrUn_KI270745v1.fa\n",
      "chr2.fa.fai                 chrUn_KI270746v1.fa\n",
      "chr2_GL383521v1_alt.fa      chrUn_KI270747v1.fa\n",
      "chr2_GL383522v1_alt.fa      chrUn_KI270748v1.fa\n",
      "chr2_GL582966v2_alt.fa      chrUn_KI270749v1.fa\n",
      "chr2_KI270715v1_random.fa   chrUn_KI270750v1.fa\n",
      "chr2_KI270716v1_random.fa   chrUn_KI270751v1.fa\n",
      "chr2_KI270767v1_alt.fa      chrUn_KI270752v1.fa\n",
      "chr2_KI270768v1_alt.fa      chrUn_KI270753v1.fa\n",
      "chr2_KI270769v1_alt.fa      chrUn_KI270754v1.fa\n",
      "chr2_KI270770v1_alt.fa      chrUn_KI270755v1.fa\n",
      "chr2_KI270771v1_alt.fa      chrUn_KI270756v1.fa\n",
      "chr2_KI270772v1_alt.fa      chrUn_KI270757v1.fa\n",
      "chr2_KI270773v1_alt.fa      chrX.fa\n",
      "chr2_KI270774v1_alt.fa      chrX.fa.fai\n",
      "chr2_KI270775v1_alt.fa      chrX_KI270880v1_alt.fa\n",
      "chr2_KI270776v1_alt.fa      chrX_KI270881v1_alt.fa\n",
      "chr2_KI270893v1_alt.fa      chrX_KI270913v1_alt.fa\n",
      "chr2_KI270894v1_alt.fa      chrY.fa\n",
      "chr3.fa                     chrY.fa.fai\n",
      "chr3.fa.fai                 chrY_KI270740v1_random.fa\n",
      "chr3_GL000221v1_random.fa   hg38.fa\n",
      "chr3_GL383526v1_alt.fa      hg38.fa.fai\n",
      "chr3_JH636055v2_alt.fa\n"
     ]
    }
   ],
   "source": [
    "ls /data/reddylab/Kuei/data/annotation/genome/hg38/fasta"
   ]
  },
  {
   "cell_type": "code",
   "execution_count": 33,
   "id": "2da836b6-875b-4f95-ba19-7fd5a6a636a6",
   "metadata": {},
   "outputs": [
    {
     "name": "stdout",
     "output_type": "stream",
     "text": [
      "4979130 /data/reddylab/Kuei/data/annotation/genome/hg38/fasta/chr1.fa\n"
     ]
    }
   ],
   "source": [
    "FD_GEN=/data/reddylab/Kuei/data/annotation/genome/hg38/fasta\n",
    "FN_GEN=chr1.fa\n",
    "FP_GEN=${FD_GEN}/${FN_GEN}\n",
    "\n",
    "wc -l ${FP_GEN}"
   ]
  },
  {
   "cell_type": "code",
   "execution_count": 36,
   "id": "f5dce70a-e8c3-497e-a5e2-7c8fecf4dd5c",
   "metadata": {},
   "outputs": [
    {
     "name": "stdout",
     "output_type": "stream",
     "text": [
      ">chr1\n",
      "NNNNNNNNNNNNNNNNNNNNNNNNNNNNNNNNNNNNNNNNNNNNNNNNNN\n",
      "NNNNNNNNNNNNNNNNNNNNNNNNNNNNNNNNNNNNNNNNNNNNNNNNNN\n",
      "NNNNNNNNNNNNNNNNNNNNNNNNNNNNNNNNNNNNNNNNNNNNNNNNNN\n",
      "NNNNNNNNNNNNNNNNNNNNNNNNNNNNNNNNNNNNNNNNNNNNNNNNNN\n"
     ]
    }
   ],
   "source": [
    "head -n 5 ${FP_GEN}"
   ]
  },
  {
   "cell_type": "code",
   "execution_count": 38,
   "id": "6cd37b65-d897-4981-b57f-14c237e1e50d",
   "metadata": {},
   "outputs": [
    {
     "name": "stdout",
     "output_type": "stream",
     "text": [
      "64186394 /data/reddylab/Kuei/data/annotation/genome/hg38/fasta/hg38.fa\n"
     ]
    }
   ],
   "source": [
    "FD_GEN=/data/reddylab/Kuei/data/annotation/genome/hg38/fasta\n",
    "FN_GEN=hg38.fa\n",
    "FP_GEN=${FD_GEN}/${FN_GEN}\n",
    "\n",
    "wc -l ${FP_GEN}"
   ]
  },
  {
   "cell_type": "code",
   "execution_count": null,
   "id": "8582357f-22c4-4f41-bec9-dcac0ebfa919",
   "metadata": {},
   "outputs": [],
   "source": []
  },
  {
   "cell_type": "code",
   "execution_count": 25,
   "id": "3b35aac1-146f-490a-99bb-a559df023030",
   "metadata": {},
   "outputs": [
    {
     "name": "stdout",
     "output_type": "stream",
     "text": [
      "\u001b[0m\u001b[38;5;9mASTARRseq_K562_KS91.hg38.Input.rep_all.max_overlaps.q5.bed.gz\u001b[0m\n",
      "\u001b[38;5;9mASTARRseq_K562_KS91.hg38.Input.rep_all.union.q5.bed.gz\u001b[0m\n",
      "\u001b[38;5;9mK562.hg38.ASTARR.macs.KS91.input.rep_all.max_overlaps.q5.bed.gz\u001b[0m\n",
      "\u001b[38;5;9mK562.hg38.ASTARR.macs.KS91.input.rep_all.union.q5.bed.gz\u001b[0m\n",
      "\u001b[38;5;27msummary\u001b[0m\n"
     ]
    }
   ],
   "source": [
    "ls ${FD_RES}/region/fcc_astarr_macs"
   ]
  },
  {
   "cell_type": "code",
   "execution_count": 39,
   "id": "8ac694c1-bc45-4325-8748-898153d05cab",
   "metadata": {},
   "outputs": [],
   "source": [
    "FD_BED=${FD_RES}/region/fcc_astarr_macs\n",
    "FN_BED=K562.hg38.ASTARR.macs.KS91.input.rep_all.max_overlaps.q5.bed.gz\n",
    "FP_BED=${FD_BED}/${FN_BED}\n",
    "\n",
    "zcat ${FP_BED} | head -n 3 > test.bed"
   ]
  },
  {
   "cell_type": "code",
   "execution_count": 40,
   "id": "61241864-1cc9-4e1d-a897-d77b0c0c3dd1",
   "metadata": {},
   "outputs": [
    {
     "name": "stdout",
     "output_type": "stream",
     "text": [
      "chr1\t10038\t10405\n",
      "chr1\t14282\t14614\n",
      "chr1\t16025\t16338\n"
     ]
    }
   ],
   "source": [
    "cat test.bed"
   ]
  },
  {
   "cell_type": "code",
   "execution_count": 41,
   "id": "a613c9c2-e4bb-466b-968b-c0e7d88b6f68",
   "metadata": {},
   "outputs": [
    {
     "name": "stdout",
     "output_type": "stream",
     "text": [
      "#1_usercol\t2_usercol\t3_usercol\t4_pct_at\t5_pct_gc\t6_num_A\t7_num_C\t8_num_G\t9_num_T\t10_num_N\t11_num_oth\t12_seq_len\n",
      "chr1\t10038\t10405\t0.476839\t0.523161\t122\t192\t0\t53\t0\t0\t367\n",
      "chr1\t14282\t14614\t0.421687\t0.578313\t65\t102\t90\t75\t0\t0\t332\n",
      "chr1\t16025\t16338\t0.412141\t0.587859\t62\t89\t95\t67\t0\t0\t313\n"
     ]
    }
   ],
   "source": [
    "bedtools nuc \\\n",
    "    -fi  ${FP_GEN} \\\n",
    "    -bed test.bed"
   ]
  },
  {
   "cell_type": "code",
   "execution_count": null,
   "id": "5442e099-c1bd-44a8-9b2c-00d516d78ebe",
   "metadata": {},
   "outputs": [],
   "source": []
  },
  {
   "cell_type": "code",
   "execution_count": null,
   "id": "95698cc4-79f5-4610-b53e-b19404a45934",
   "metadata": {},
   "outputs": [],
   "source": []
  },
  {
   "cell_type": "code",
   "execution_count": 2,
   "id": "3277e8d8-d310-4edb-bda2-c5e752db8161",
   "metadata": {},
   "outputs": [
    {
     "name": "stdout",
     "output_type": "stream",
     "text": [
      "/data/reddylab/Kuei\n",
      "\u001b[0m\u001b[38;5;27mbackup\u001b[0m  \u001b[38;5;27mbin\u001b[0m  \u001b[38;5;27mcontainer\u001b[0m  \u001b[38;5;27mdata\u001b[0m  \u001b[38;5;27mrepo\u001b[0m  \u001b[38;5;27mtmp\u001b[0m  \u001b[38;5;27mvenv\u001b[0m  \u001b[38;5;27mwork\u001b[0m\n"
     ]
    }
   ],
   "source": [
    "echo ${FD_BASE}\n",
    "ls   ${FD_BASE}"
   ]
  },
  {
   "cell_type": "code",
   "execution_count": 9,
   "id": "54fdd879-f914-417a-8f47-2528b39a325c",
   "metadata": {},
   "outputs": [
    {
     "name": "stdout",
     "output_type": "stream",
     "text": [
      "/data/reddylab/Kuei/data\n",
      "\u001b[0m\u001b[38;5;27mannotation\u001b[0m  \u001b[38;5;27mscratch\u001b[0m  \u001b[38;5;27msource\u001b[0m\n"
     ]
    }
   ],
   "source": [
    "echo ${FD_DATA}\n",
    "ls   ${FD_DATA}"
   ]
  },
  {
   "cell_type": "code",
   "execution_count": 14,
   "id": "babf5f9e-4964-4237-9316-1efee47b6372",
   "metadata": {},
   "outputs": [
    {
     "name": "stdout",
     "output_type": "stream",
     "text": [
      "/data/reddylab/Kuei/data\n",
      "\u001b[0m\u001b[38;5;27mgenome\u001b[0m  \u001b[38;5;27mlog\u001b[0m  \u001b[38;5;27mmotif_cluster_jvierstra\u001b[0m  \u001b[38;5;27msnp\u001b[0m\n"
     ]
    }
   ],
   "source": [
    "echo ${FD_DATA}\n",
    "ls   ${FD_DATA}/annotation"
   ]
  },
  {
   "cell_type": "code",
   "execution_count": 13,
   "id": "9da34c15-bf3c-42f3-a4ec-24ee307344cf",
   "metadata": {},
   "outputs": [
    {
     "name": "stdout",
     "output_type": "stream",
     "text": [
      "/data/reddylab/Kuei/data\n",
      "\u001b[0m\u001b[38;5;27mfasta\u001b[0m                   hg38.chrom.sizes.chr16  hg38.chrom.sizes.chr4\n",
      "hg38.chrom.sizes        hg38.chrom.sizes.chr17  hg38.chrom.sizes.chr5\n",
      "hg38.chrom.sizes.chr1   hg38.chrom.sizes.chr18  hg38.chrom.sizes.chr6\n",
      "hg38.chrom.sizes.chr10  hg38.chrom.sizes.chr19  hg38.chrom.sizes.chr7\n",
      "hg38.chrom.sizes.chr11  hg38.chrom.sizes.chr2   hg38.chrom.sizes.chr8\n",
      "hg38.chrom.sizes.chr12  hg38.chrom.sizes.chr20  hg38.chrom.sizes.chr9\n",
      "hg38.chrom.sizes.chr13  hg38.chrom.sizes.chr21  hg38.chrom.sizes.chrX\n",
      "hg38.chrom.sizes.chr14  hg38.chrom.sizes.chr22  hg38.chrom.sizes.chrY\n",
      "hg38.chrom.sizes.chr15  hg38.chrom.sizes.chr3   \u001b[38;5;13mhg38.chrom.sizes.rm\u001b[0m\n"
     ]
    }
   ],
   "source": [
    "echo ${FD_DATA}\n",
    "ls   ${FD_DATA}/annotation/genome/hg38"
   ]
  },
  {
   "cell_type": "code",
   "execution_count": 11,
   "id": "45c6089d-1902-4182-949d-e5ea397baf45",
   "metadata": {},
   "outputs": [
    {
     "name": "stdout",
     "output_type": "stream",
     "text": [
      "/data/reddylab/Kuei/data\n",
      "chr1\t248956422\n"
     ]
    }
   ],
   "source": [
    "echo ${FD_DATA}\n",
    "cat  ${FD_DATA}/annotation/genome/hg38/hg38.chrom.sizes.chr1"
   ]
  },
  {
   "cell_type": "code",
   "execution_count": 8,
   "id": "71ad0d62-1a2e-468f-8cc0-2a3e9269789c",
   "metadata": {},
   "outputs": [
    {
     "name": "stdout",
     "output_type": "stream",
     "text": [
      "/data/reddylab/Kuei/data\n",
      "chr10.fa                    chr3_KI270777v1_alt.fa\n",
      "chr10.fa.fai                chr3_KI270778v1_alt.fa\n",
      "chr10_GL383545v1_alt.fa     chr3_KI270779v1_alt.fa\n",
      "chr10_GL383546v1_alt.fa     chr3_KI270780v1_alt.fa\n",
      "chr10_KI270824v1_alt.fa     chr3_KI270781v1_alt.fa\n",
      "chr10_KI270825v1_alt.fa     chr3_KI270782v1_alt.fa\n",
      "chr11.fa                    chr3_KI270783v1_alt.fa\n",
      "chr11.fa.fai                chr3_KI270784v1_alt.fa\n",
      "chr11_GL383547v1_alt.fa     chr3_KI270895v1_alt.fa\n",
      "chr11_JH159136v1_alt.fa     chr3_KI270924v1_alt.fa\n",
      "chr11_JH159137v1_alt.fa     chr3_KI270934v1_alt.fa\n",
      "chr11_KI270721v1_random.fa  chr3_KI270935v1_alt.fa\n",
      "chr11_KI270826v1_alt.fa     chr3_KI270936v1_alt.fa\n",
      "chr11_KI270827v1_alt.fa     chr3_KI270937v1_alt.fa\n",
      "chr11_KI270829v1_alt.fa     chr4.fa\n",
      "chr11_KI270830v1_alt.fa     chr4.fa.fai\n",
      "chr11_KI270831v1_alt.fa     chr4_GL000008v2_random.fa\n",
      "chr11_KI270832v1_alt.fa     chr4_GL000257v2_alt.fa\n",
      "chr11_KI270902v1_alt.fa     chr4_GL383527v1_alt.fa\n",
      "chr11_KI270903v1_alt.fa     chr4_GL383528v1_alt.fa\n",
      "chr11_KI270927v1_alt.fa     chr4_KI270785v1_alt.fa\n",
      "chr12.fa                    chr4_KI270786v1_alt.fa\n",
      "chr12.fa.fai                chr4_KI270787v1_alt.fa\n",
      "chr12_GL383549v1_alt.fa     chr4_KI270788v1_alt.fa\n",
      "chr12_GL383550v2_alt.fa     chr4_KI270789v1_alt.fa\n",
      "chr12_GL383551v1_alt.fa     chr4_KI270790v1_alt.fa\n",
      "chr12_GL383552v1_alt.fa     chr4_KI270896v1_alt.fa\n",
      "chr12_GL383553v2_alt.fa     chr4_KI270925v1_alt.fa\n",
      "chr12_GL877875v1_alt.fa     chr5.fa\n",
      "chr12_GL877876v1_alt.fa     chr5.fa.fai\n",
      "chr12_KI270833v1_alt.fa     chr5_GL000208v1_random.fa\n",
      "chr12_KI270834v1_alt.fa     chr5_GL339449v2_alt.fa\n",
      "chr12_KI270835v1_alt.fa     chr5_GL383530v1_alt.fa\n",
      "chr12_KI270836v1_alt.fa     chr5_GL383531v1_alt.fa\n",
      "chr12_KI270837v1_alt.fa     chr5_GL383532v1_alt.fa\n",
      "chr12_KI270904v1_alt.fa     chr5_GL949742v1_alt.fa\n",
      "chr13.fa                    chr5_KI270791v1_alt.fa\n",
      "chr13.fa.fai                chr5_KI270792v1_alt.fa\n",
      "chr13_KI270838v1_alt.fa     chr5_KI270793v1_alt.fa\n",
      "chr13_KI270839v1_alt.fa     chr5_KI270794v1_alt.fa\n",
      "chr13_KI270840v1_alt.fa     chr5_KI270795v1_alt.fa\n",
      "chr13_KI270841v1_alt.fa     chr5_KI270796v1_alt.fa\n",
      "chr13_KI270842v1_alt.fa     chr5_KI270897v1_alt.fa\n",
      "chr13_KI270843v1_alt.fa     chr5_KI270898v1_alt.fa\n",
      "chr14.fa                    chr6.fa\n",
      "chr14.fa.fai                chr6.fa.fai\n",
      "chr14_GL000009v2_random.fa  chr6_GL000250v2_alt.fa\n",
      "chr14_GL000194v1_random.fa  chr6_GL000251v2_alt.fa\n",
      "chr14_GL000225v1_random.fa  chr6_GL000252v2_alt.fa\n",
      "chr14_KI270722v1_random.fa  chr6_GL000253v2_alt.fa\n",
      "chr14_KI270723v1_random.fa  chr6_GL000254v2_alt.fa\n",
      "chr14_KI270724v1_random.fa  chr6_GL000255v2_alt.fa\n",
      "chr14_KI270725v1_random.fa  chr6_GL000256v2_alt.fa\n",
      "chr14_KI270726v1_random.fa  chr6_GL383533v1_alt.fa\n",
      "chr14_KI270844v1_alt.fa     chr6_KB021644v2_alt.fa\n",
      "chr14_KI270845v1_alt.fa     chr6_KI270758v1_alt.fa\n",
      "chr14_KI270846v1_alt.fa     chr6_KI270797v1_alt.fa\n",
      "chr14_KI270847v1_alt.fa     chr6_KI270798v1_alt.fa\n",
      "chr15.fa                    chr6_KI270799v1_alt.fa\n",
      "chr15.fa.fai                chr6_KI270800v1_alt.fa\n",
      "chr15_GL383554v1_alt.fa     chr6_KI270801v1_alt.fa\n",
      "chr15_GL383555v2_alt.fa     chr6_KI270802v1_alt.fa\n",
      "chr15_KI270727v1_random.fa  chr7.fa\n",
      "chr15_KI270848v1_alt.fa     chr7.fa.fai\n",
      "chr15_KI270849v1_alt.fa     chr7_GL383534v2_alt.fa\n",
      "chr15_KI270850v1_alt.fa     chr7_KI270803v1_alt.fa\n",
      "chr15_KI270851v1_alt.fa     chr7_KI270804v1_alt.fa\n",
      "chr15_KI270852v1_alt.fa     chr7_KI270805v1_alt.fa\n",
      "chr15_KI270905v1_alt.fa     chr7_KI270806v1_alt.fa\n",
      "chr15_KI270906v1_alt.fa     chr7_KI270807v1_alt.fa\n",
      "chr16.fa                    chr7_KI270808v1_alt.fa\n",
      "chr16.fa.fai                chr7_KI270809v1_alt.fa\n",
      "chr16_GL383556v1_alt.fa     chr7_KI270899v1_alt.fa\n",
      "chr16_GL383557v1_alt.fa     chr8.fa\n",
      "chr16_KI270728v1_random.fa  chr8.fa.fai\n",
      "chr16_KI270853v1_alt.fa     chr8_KI270810v1_alt.fa\n",
      "chr16_KI270854v1_alt.fa     chr8_KI270811v1_alt.fa\n",
      "chr16_KI270855v1_alt.fa     chr8_KI270812v1_alt.fa\n",
      "chr16_KI270856v1_alt.fa     chr8_KI270813v1_alt.fa\n",
      "chr17.fa                    chr8_KI270814v1_alt.fa\n",
      "chr17.fa.fai                chr8_KI270815v1_alt.fa\n",
      "chr17_GL000205v2_random.fa  chr8_KI270816v1_alt.fa\n",
      "chr17_GL000258v2_alt.fa     chr8_KI270817v1_alt.fa\n",
      "chr17_GL383563v3_alt.fa     chr8_KI270818v1_alt.fa\n",
      "chr17_GL383564v2_alt.fa     chr8_KI270819v1_alt.fa\n",
      "chr17_GL383565v1_alt.fa     chr8_KI270820v1_alt.fa\n",
      "chr17_GL383566v1_alt.fa     chr8_KI270821v1_alt.fa\n",
      "chr17_JH159146v1_alt.fa     chr8_KI270822v1_alt.fa\n",
      "chr17_JH159147v1_alt.fa     chr8_KI270900v1_alt.fa\n",
      "chr17_JH159148v1_alt.fa     chr8_KI270901v1_alt.fa\n",
      "chr17_KI270729v1_random.fa  chr8_KI270926v1_alt.fa\n",
      "chr17_KI270730v1_random.fa  chr9.fa\n",
      "chr17_KI270857v1_alt.fa     chr9.fa.fai\n",
      "chr17_KI270858v1_alt.fa     chr9_GL383539v1_alt.fa\n",
      "chr17_KI270859v1_alt.fa     chr9_GL383540v1_alt.fa\n",
      "chr17_KI270860v1_alt.fa     chr9_GL383541v1_alt.fa\n",
      "chr17_KI270861v1_alt.fa     chr9_GL383542v1_alt.fa\n",
      "chr17_KI270862v1_alt.fa     chr9_KI270717v1_random.fa\n",
      "chr17_KI270907v1_alt.fa     chr9_KI270718v1_random.fa\n",
      "chr17_KI270908v1_alt.fa     chr9_KI270719v1_random.fa\n",
      "chr17_KI270909v1_alt.fa     chr9_KI270720v1_random.fa\n",
      "chr17_KI270910v1_alt.fa     chr9_KI270823v1_alt.fa\n",
      "chr18.fa                    chrM.fa\n",
      "chr18.fa.fai                chrUn_GL000195v1.fa\n",
      "chr18_GL383567v1_alt.fa     chrUn_GL000213v1.fa\n",
      "chr18_GL383568v1_alt.fa     chrUn_GL000214v1.fa\n",
      "chr18_GL383569v1_alt.fa     chrUn_GL000216v2.fa\n",
      "chr18_GL383570v1_alt.fa     chrUn_GL000218v1.fa\n",
      "chr18_GL383571v1_alt.fa     chrUn_GL000219v1.fa\n",
      "chr18_GL383572v1_alt.fa     chrUn_GL000220v1.fa\n",
      "chr18_KI270863v1_alt.fa     chrUn_GL000224v1.fa\n",
      "chr18_KI270864v1_alt.fa     chrUn_GL000226v1.fa\n",
      "chr18_KI270911v1_alt.fa     chrUn_KI270302v1.fa\n",
      "chr18_KI270912v1_alt.fa     chrUn_KI270303v1.fa\n",
      "chr19.fa                    chrUn_KI270304v1.fa\n",
      "chr19.fa.fai                chrUn_KI270305v1.fa\n",
      "chr19_GL000209v2_alt.fa     chrUn_KI270310v1.fa\n",
      "chr19_GL383573v1_alt.fa     chrUn_KI270311v1.fa\n",
      "chr19_GL383574v1_alt.fa     chrUn_KI270312v1.fa\n",
      "chr19_GL383575v2_alt.fa     chrUn_KI270315v1.fa\n",
      "chr19_GL383576v1_alt.fa     chrUn_KI270316v1.fa\n",
      "chr19_GL949746v1_alt.fa     chrUn_KI270317v1.fa\n",
      "chr19_GL949747v2_alt.fa     chrUn_KI270320v1.fa\n",
      "chr19_GL949748v2_alt.fa     chrUn_KI270322v1.fa\n",
      "chr19_GL949749v2_alt.fa     chrUn_KI270329v1.fa\n",
      "chr19_GL949750v2_alt.fa     chrUn_KI270330v1.fa\n",
      "chr19_GL949751v2_alt.fa     chrUn_KI270333v1.fa\n",
      "chr19_GL949752v1_alt.fa     chrUn_KI270334v1.fa\n",
      "chr19_GL949753v2_alt.fa     chrUn_KI270335v1.fa\n",
      "chr19_KI270865v1_alt.fa     chrUn_KI270336v1.fa\n",
      "chr19_KI270866v1_alt.fa     chrUn_KI270337v1.fa\n",
      "chr19_KI270867v1_alt.fa     chrUn_KI270338v1.fa\n",
      "chr19_KI270868v1_alt.fa     chrUn_KI270340v1.fa\n",
      "chr19_KI270882v1_alt.fa     chrUn_KI270362v1.fa\n",
      "chr19_KI270883v1_alt.fa     chrUn_KI270363v1.fa\n",
      "chr19_KI270884v1_alt.fa     chrUn_KI270364v1.fa\n",
      "chr19_KI270885v1_alt.fa     chrUn_KI270366v1.fa\n",
      "chr19_KI270886v1_alt.fa     chrUn_KI270371v1.fa\n",
      "chr19_KI270887v1_alt.fa     chrUn_KI270372v1.fa\n",
      "chr19_KI270888v1_alt.fa     chrUn_KI270373v1.fa\n",
      "chr19_KI270889v1_alt.fa     chrUn_KI270374v1.fa\n",
      "chr19_KI270890v1_alt.fa     chrUn_KI270375v1.fa\n",
      "chr19_KI270891v1_alt.fa     chrUn_KI270376v1.fa\n",
      "chr19_KI270914v1_alt.fa     chrUn_KI270378v1.fa\n",
      "chr19_KI270915v1_alt.fa     chrUn_KI270379v1.fa\n",
      "chr19_KI270916v1_alt.fa     chrUn_KI270381v1.fa\n",
      "chr19_KI270917v1_alt.fa     chrUn_KI270382v1.fa\n",
      "chr19_KI270918v1_alt.fa     chrUn_KI270383v1.fa\n",
      "chr19_KI270919v1_alt.fa     chrUn_KI270384v1.fa\n",
      "chr19_KI270920v1_alt.fa     chrUn_KI270385v1.fa\n",
      "chr19_KI270921v1_alt.fa     chrUn_KI270386v1.fa\n",
      "chr19_KI270922v1_alt.fa     chrUn_KI270387v1.fa\n",
      "chr19_KI270923v1_alt.fa     chrUn_KI270388v1.fa\n",
      "chr19_KI270929v1_alt.fa     chrUn_KI270389v1.fa\n",
      "chr19_KI270930v1_alt.fa     chrUn_KI270390v1.fa\n",
      "chr19_KI270931v1_alt.fa     chrUn_KI270391v1.fa\n",
      "chr19_KI270932v1_alt.fa     chrUn_KI270392v1.fa\n",
      "chr19_KI270933v1_alt.fa     chrUn_KI270393v1.fa\n",
      "chr19_KI270938v1_alt.fa     chrUn_KI270394v1.fa\n",
      "chr1.fa                     chrUn_KI270395v1.fa\n",
      "chr1.fa.fai                 chrUn_KI270396v1.fa\n",
      "chr1_GL383518v1_alt.fa      chrUn_KI270411v1.fa\n",
      "chr1_GL383519v1_alt.fa      chrUn_KI270412v1.fa\n",
      "chr1_GL383520v2_alt.fa      chrUn_KI270414v1.fa\n",
      "chr1_KI270706v1_random.fa   chrUn_KI270417v1.fa\n",
      "chr1_KI270707v1_random.fa   chrUn_KI270418v1.fa\n",
      "chr1_KI270708v1_random.fa   chrUn_KI270419v1.fa\n",
      "chr1_KI270709v1_random.fa   chrUn_KI270420v1.fa\n",
      "chr1_KI270710v1_random.fa   chrUn_KI270422v1.fa\n",
      "chr1_KI270711v1_random.fa   chrUn_KI270423v1.fa\n",
      "chr1_KI270712v1_random.fa   chrUn_KI270424v1.fa\n",
      "chr1_KI270713v1_random.fa   chrUn_KI270425v1.fa\n",
      "chr1_KI270714v1_random.fa   chrUn_KI270429v1.fa\n",
      "chr1_KI270759v1_alt.fa      chrUn_KI270435v1.fa\n",
      "chr1_KI270760v1_alt.fa      chrUn_KI270438v1.fa\n",
      "chr1_KI270761v1_alt.fa      chrUn_KI270442v1.fa\n",
      "chr1_KI270762v1_alt.fa      chrUn_KI270448v1.fa\n",
      "chr1_KI270763v1_alt.fa      chrUn_KI270465v1.fa\n",
      "chr1_KI270764v1_alt.fa      chrUn_KI270466v1.fa\n",
      "chr1_KI270765v1_alt.fa      chrUn_KI270467v1.fa\n",
      "chr1_KI270766v1_alt.fa      chrUn_KI270468v1.fa\n",
      "chr1_KI270892v1_alt.fa      chrUn_KI270507v1.fa\n",
      "chr20.fa                    chrUn_KI270508v1.fa\n",
      "chr20.fa.fai                chrUn_KI270509v1.fa\n",
      "chr20_GL383577v2_alt.fa     chrUn_KI270510v1.fa\n",
      "chr20_KI270869v1_alt.fa     chrUn_KI270511v1.fa\n",
      "chr20_KI270870v1_alt.fa     chrUn_KI270512v1.fa\n",
      "chr20_KI270871v1_alt.fa     chrUn_KI270515v1.fa\n",
      "chr21.fa                    chrUn_KI270516v1.fa\n",
      "chr21.fa.fai                chrUn_KI270517v1.fa\n",
      "chr21_GL383578v2_alt.fa     chrUn_KI270518v1.fa\n",
      "chr21_GL383579v2_alt.fa     chrUn_KI270519v1.fa\n",
      "chr21_GL383580v2_alt.fa     chrUn_KI270521v1.fa\n",
      "chr21_GL383581v2_alt.fa     chrUn_KI270522v1.fa\n",
      "chr21_KI270872v1_alt.fa     chrUn_KI270528v1.fa\n",
      "chr21_KI270873v1_alt.fa     chrUn_KI270529v1.fa\n",
      "chr21_KI270874v1_alt.fa     chrUn_KI270530v1.fa\n",
      "chr22.fa                    chrUn_KI270538v1.fa\n",
      "chr22.fa.fai                chrUn_KI270539v1.fa\n",
      "chr22_GL383582v2_alt.fa     chrUn_KI270544v1.fa\n",
      "chr22_GL383583v2_alt.fa     chrUn_KI270548v1.fa\n",
      "chr22_KB663609v1_alt.fa     chrUn_KI270579v1.fa\n",
      "chr22_KI270731v1_random.fa  chrUn_KI270580v1.fa\n",
      "chr22_KI270732v1_random.fa  chrUn_KI270581v1.fa\n",
      "chr22_KI270733v1_random.fa  chrUn_KI270582v1.fa\n",
      "chr22_KI270734v1_random.fa  chrUn_KI270583v1.fa\n",
      "chr22_KI270735v1_random.fa  chrUn_KI270584v1.fa\n",
      "chr22_KI270736v1_random.fa  chrUn_KI270587v1.fa\n",
      "chr22_KI270737v1_random.fa  chrUn_KI270588v1.fa\n",
      "chr22_KI270738v1_random.fa  chrUn_KI270589v1.fa\n",
      "chr22_KI270739v1_random.fa  chrUn_KI270590v1.fa\n",
      "chr22_KI270875v1_alt.fa     chrUn_KI270591v1.fa\n",
      "chr22_KI270876v1_alt.fa     chrUn_KI270593v1.fa\n",
      "chr22_KI270877v1_alt.fa     chrUn_KI270741v1.fa\n",
      "chr22_KI270878v1_alt.fa     chrUn_KI270742v1.fa\n",
      "chr22_KI270879v1_alt.fa     chrUn_KI270743v1.fa\n",
      "chr22_KI270928v1_alt.fa     chrUn_KI270744v1.fa\n",
      "chr2.fa                     chrUn_KI270745v1.fa\n",
      "chr2.fa.fai                 chrUn_KI270746v1.fa\n",
      "chr2_GL383521v1_alt.fa      chrUn_KI270747v1.fa\n",
      "chr2_GL383522v1_alt.fa      chrUn_KI270748v1.fa\n",
      "chr2_GL582966v2_alt.fa      chrUn_KI270749v1.fa\n",
      "chr2_KI270715v1_random.fa   chrUn_KI270750v1.fa\n",
      "chr2_KI270716v1_random.fa   chrUn_KI270751v1.fa\n",
      "chr2_KI270767v1_alt.fa      chrUn_KI270752v1.fa\n",
      "chr2_KI270768v1_alt.fa      chrUn_KI270753v1.fa\n",
      "chr2_KI270769v1_alt.fa      chrUn_KI270754v1.fa\n",
      "chr2_KI270770v1_alt.fa      chrUn_KI270755v1.fa\n",
      "chr2_KI270771v1_alt.fa      chrUn_KI270756v1.fa\n",
      "chr2_KI270772v1_alt.fa      chrUn_KI270757v1.fa\n",
      "chr2_KI270773v1_alt.fa      chrX.fa\n",
      "chr2_KI270774v1_alt.fa      chrX.fa.fai\n",
      "chr2_KI270775v1_alt.fa      chrX_KI270880v1_alt.fa\n",
      "chr2_KI270776v1_alt.fa      chrX_KI270881v1_alt.fa\n",
      "chr2_KI270893v1_alt.fa      chrX_KI270913v1_alt.fa\n",
      "chr2_KI270894v1_alt.fa      chrY.fa\n",
      "chr3.fa                     chrY.fa.fai\n",
      "chr3.fa.fai                 chrY_KI270740v1_random.fa\n",
      "chr3_GL000221v1_random.fa   hg38.fa\n",
      "chr3_GL383526v1_alt.fa      hg38.fa.fai\n",
      "chr3_JH636055v2_alt.fa\n"
     ]
    }
   ],
   "source": [
    "echo ${FD_DATA}\n",
    "ls   ${FD_DATA}/annotation/genome/hg38/fasta"
   ]
  },
  {
   "cell_type": "code",
   "execution_count": null,
   "id": "8e0442c1-c09f-4d81-879f-6eb88de57ec1",
   "metadata": {},
   "outputs": [],
   "source": []
  }
 ],
 "metadata": {
  "kernelspec": {
   "display_name": "Bash",
   "language": "bash",
   "name": "bash"
  },
  "language_info": {
   "codemirror_mode": "shell",
   "file_extension": ".sh",
   "mimetype": "text/x-sh",
   "name": "bash"
  }
 },
 "nbformat": 4,
 "nbformat_minor": 5
}
