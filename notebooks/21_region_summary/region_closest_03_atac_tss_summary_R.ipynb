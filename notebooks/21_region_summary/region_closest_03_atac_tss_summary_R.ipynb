{
 "cells": [
  {
   "cell_type": "raw",
   "id": "b3cc9b08-a5c7-49d9-94fa-6927ea1303b0",
   "metadata": {},
   "source": [
    "---\n",
    "title: Region annotation 11 (ASTARR MACS peaks)\n",
    "subtitle: Summarize annotations (Main)\n",
    "format:\n",
    "    html:\n",
    "        code-fold:  true\n",
    "        code-tools: true\n",
    "---"
   ]
  },
  {
   "cell_type": "markdown",
   "id": "52a11a0c-d9b9-4319-89aa-1c57e4cdab16",
   "metadata": {},
   "source": [
    "**Set environment**"
   ]
  },
  {
   "cell_type": "code",
   "execution_count": 1,
   "id": "9bc44458-2d76-4e5f-a5dc-e5164aa97fad",
   "metadata": {
    "tags": []
   },
   "outputs": [
    {
     "name": "stdout",
     "output_type": "stream",
     "text": [
      "You are working on        Singularity: singularity_proj_encode_fcc \n",
      "BASE DIRECTORY (FD_BASE): /data/reddylab/Kuei \n",
      "REPO DIRECTORY (FD_REPO): /data/reddylab/Kuei/repo \n",
      "WORK DIRECTORY (FD_WORK): /data/reddylab/Kuei/work \n",
      "DATA DIRECTORY (FD_DATA): /data/reddylab/Kuei/data \n",
      "\n",
      "You are working with      ENCODE FCC \n",
      "PATH OF PROJECT (FD_PRJ): /data/reddylab/Kuei/repo/Proj_ENCODE_FCC \n",
      "PROJECT RESULTS (FD_RES): /data/reddylab/Kuei/repo/Proj_ENCODE_FCC/results \n",
      "PROJECT SCRIPTS (FD_EXE): /data/reddylab/Kuei/repo/Proj_ENCODE_FCC/scripts \n",
      "PROJECT DATA    (FD_DAT): /data/reddylab/Kuei/repo/Proj_ENCODE_FCC/data \n",
      "PROJECT NOTE    (FD_NBK): /data/reddylab/Kuei/repo/Proj_ENCODE_FCC/notebooks \n",
      "PROJECT DOCS    (FD_DOC): /data/reddylab/Kuei/repo/Proj_ENCODE_FCC/docs \n",
      "PROJECT LOG     (FD_LOG): /data/reddylab/Kuei/repo/Proj_ENCODE_FCC/log \n",
      "PROJECT REF     (FD_REF): /data/reddylab/Kuei/repo/Proj_ENCODE_FCC/references \n",
      "\n"
     ]
    }
   ],
   "source": [
    "suppressMessages(suppressWarnings(source(\"../run_config_project_sing.R\")))\n",
    "show_env()"
   ]
  },
  {
   "cell_type": "markdown",
   "id": "1a8c4725-e390-4274-acad-29b57ef5a346",
   "metadata": {},
   "source": [
    "## Import, arrange, and save data"
   ]
  },
  {
   "cell_type": "markdown",
   "id": "3af7a26e-ca90-465d-a285-033ee7d42930",
   "metadata": {},
   "source": [
    "**Helper function for labeling region based on their TSS proximity**"
   ]
  },
  {
   "cell_type": "code",
   "execution_count": 2,
   "id": "ad6a23e9-2431-4e70-af9c-a40787527a8e",
   "metadata": {},
   "outputs": [],
   "source": [
    "fun_label_by_tss_proximity = function(vec_num_distance){\n",
    "    vec_txt_label = ifelse(\n",
    "        vec_num_distance <= 2000,\n",
    "        \"Proximal\",\n",
    "        \"Distal\"\n",
    "    )\n",
    "    return(vec_txt_label)\n",
    "}"
   ]
  },
  {
   "cell_type": "markdown",
   "id": "e3f0f1c8-f0f6-4717-ab22-8af82163c5dd",
   "metadata": {},
   "source": [
    "**Process each data**"
   ]
  },
  {
   "cell_type": "code",
   "execution_count": 5,
   "id": "12e41475-2ce3-4345-90c6-207c7a340921",
   "metadata": {},
   "outputs": [
    {
     "name": "stdout",
     "output_type": "stream",
     "text": [
      "Save: /data/reddylab/Kuei/repo/Proj_ENCODE_FCC/results/region_closest/fcc_astarr_macs_input_overlap/summary/region.summary.genome_tss.tsv \n",
      "\n",
      "Save: /data/reddylab/Kuei/repo/Proj_ENCODE_FCC/results/region_closest/fcc_astarr_macs_input_union/summary/region.summary.genome_tss.tsv \n",
      "\n"
     ]
    }
   ],
   "source": [
    "### init\n",
    "vec_txt_region_label = c(\n",
    "    \"fcc_astarr_macs_input_overlap\",\n",
    "    \"fcc_astarr_macs_input_union\"\n",
    ")\n",
    "\n",
    "### loop through each region pair file\n",
    "for (txt_region_label in  vec_txt_region_label){\n",
    "    \n",
    "    ### set file directory\n",
    "    txt_fdiry = file.path(\n",
    "        FD_RES, \n",
    "        \"region_closest\",\n",
    "        txt_region_label,\n",
    "        \"summary\"\n",
    "    )\n",
    "    txt_fname = \"region.pair.genome_tss.tsv\"\n",
    "    txt_fpath = file.path(txt_fdiry, txt_fname)\n",
    "    dat_region_pair = read_tsv(txt_fpath, show_col_types = FALSE)\n",
    "\n",
    "    ### select and rename columns\n",
    "    dat = dat_region_pair\n",
    "    dat = dat %>% \n",
    "        dplyr::filter(Annotation_B == \"genome_tss_pol2_rnaseq\") %>%\n",
    "        dplyr::select(\n",
    "            Chrom_A, ChromStart_A, ChromEnd_A, Region_A, \n",
    "            Annotation_A, Annotation_B,\n",
    "            Distance\n",
    "        ) %>% \n",
    "        dplyr::distinct()\n",
    "    colnames(dat) = c(\n",
    "        \"Chrom\", \"ChromStart\", \"ChromEnd\", \"Region\",\n",
    "        \"Annotation_A\", \"Annotation_B\",\n",
    "        \"Distance2TSS\"\n",
    "    )\n",
    "    dat_region_rename = dat\n",
    "    \n",
    "    ### add label\n",
    "    dat = dat_region_rename\n",
    "    dat = dat %>%\n",
    "        dplyr::mutate(\n",
    "            TSS_Proximity = fun_label_by_tss_proximity(Distance2TSS),\n",
    "        )\n",
    "    dat_region_summary = dat\n",
    "\n",
    "    ### write table\n",
    "    txt_fname = \"region.summary.genome_tss.tsv\"\n",
    "    txt_fpath = file.path(txt_fdiry, txt_fname)\n",
    "    dat = dat_region_summary\n",
    "    write_tsv(dat, txt_fpath)\n",
    "\n",
    "    ### show progress\n",
    "    cat(\"Save:\", txt_fpath, \"\\n\")\n",
    "    cat(\"\\n\")\n",
    "}"
   ]
  },
  {
   "cell_type": "code",
   "execution_count": 4,
   "id": "3bcbe0ad-4bfa-41c7-80ae-1dbc2d75fd31",
   "metadata": {},
   "outputs": [
    {
     "data": {
      "text/html": [
       "<table class=\"dataframe\">\n",
       "<caption>A tibble: 6 × 15</caption>\n",
       "<thead>\n",
       "\t<tr><th scope=col>Chrom_A</th><th scope=col>ChromStart_A</th><th scope=col>ChromEnd_A</th><th scope=col>Region_A</th><th scope=col>Chrom_B</th><th scope=col>ChromStart_B</th><th scope=col>ChromEnd_B</th><th scope=col>Region_B</th><th scope=col>Gene_B</th><th scope=col>Score_B</th><th scope=col>Group_B</th><th scope=col>Label_B</th><th scope=col>Distance</th><th scope=col>Annotation_A</th><th scope=col>Annotation_B</th></tr>\n",
       "\t<tr><th scope=col>&lt;chr&gt;</th><th scope=col>&lt;dbl&gt;</th><th scope=col>&lt;dbl&gt;</th><th scope=col>&lt;chr&gt;</th><th scope=col>&lt;chr&gt;</th><th scope=col>&lt;dbl&gt;</th><th scope=col>&lt;dbl&gt;</th><th scope=col>&lt;chr&gt;</th><th scope=col>&lt;chr&gt;</th><th scope=col>&lt;dbl&gt;</th><th scope=col>&lt;chr&gt;</th><th scope=col>&lt;chr&gt;</th><th scope=col>&lt;dbl&gt;</th><th scope=col>&lt;chr&gt;</th><th scope=col>&lt;chr&gt;</th></tr>\n",
       "</thead>\n",
       "<tbody>\n",
       "\t<tr><td>chr1</td><td>10038</td><td>10405</td><td>chr1:10038-10405</td><td>chr1</td><td>11873</td><td>11874</td><td>chr1:11873-11874</td><td>DDX11L1  </td><td>0.00023</td><td>TSS_Pol2</td><td>DDX11L1  </td><td>1469</td><td>fcc_astarr_macs_input_overlap</td><td>genome_tss_pol2</td></tr>\n",
       "\t<tr><td>chr1</td><td>14282</td><td>14614</td><td>chr1:14282-14614</td><td>chr1</td><td>11873</td><td>11874</td><td>chr1:11873-11874</td><td>DDX11L1  </td><td>0.00023</td><td>TSS_Pol2</td><td>DDX11L1  </td><td>2409</td><td>fcc_astarr_macs_input_overlap</td><td>genome_tss_pol2</td></tr>\n",
       "\t<tr><td>chr1</td><td>16025</td><td>16338</td><td>chr1:16025-16338</td><td>chr1</td><td>17436</td><td>17437</td><td>chr1:17436-17437</td><td>MIR6859-1</td><td>9.43812</td><td>TSS_Pol2</td><td>MIR6859-1</td><td>1099</td><td>fcc_astarr_macs_input_overlap</td><td>genome_tss_pol2</td></tr>\n",
       "\t<tr><td>chr1</td><td>16025</td><td>16338</td><td>chr1:16025-16338</td><td>chr1</td><td>17436</td><td>17437</td><td>chr1:17436-17437</td><td>MIR6859-2</td><td>9.43812</td><td>TSS_Pol2</td><td>MIR6859-2</td><td>1099</td><td>fcc_astarr_macs_input_overlap</td><td>genome_tss_pol2</td></tr>\n",
       "\t<tr><td>chr1</td><td>16025</td><td>16338</td><td>chr1:16025-16338</td><td>chr1</td><td>17436</td><td>17437</td><td>chr1:17436-17437</td><td>MIR6859-3</td><td>9.43812</td><td>TSS_Pol2</td><td>MIR6859-3</td><td>1099</td><td>fcc_astarr_macs_input_overlap</td><td>genome_tss_pol2</td></tr>\n",
       "\t<tr><td>chr1</td><td>16025</td><td>16338</td><td>chr1:16025-16338</td><td>chr1</td><td>17436</td><td>17437</td><td>chr1:17436-17437</td><td>MIR6859-4</td><td>9.43812</td><td>TSS_Pol2</td><td>MIR6859-4</td><td>1099</td><td>fcc_astarr_macs_input_overlap</td><td>genome_tss_pol2</td></tr>\n",
       "</tbody>\n",
       "</table>\n"
      ],
      "text/latex": [
       "A tibble: 6 × 15\n",
       "\\begin{tabular}{lllllllllllllll}\n",
       " Chrom\\_A & ChromStart\\_A & ChromEnd\\_A & Region\\_A & Chrom\\_B & ChromStart\\_B & ChromEnd\\_B & Region\\_B & Gene\\_B & Score\\_B & Group\\_B & Label\\_B & Distance & Annotation\\_A & Annotation\\_B\\\\\n",
       " <chr> & <dbl> & <dbl> & <chr> & <chr> & <dbl> & <dbl> & <chr> & <chr> & <dbl> & <chr> & <chr> & <dbl> & <chr> & <chr>\\\\\n",
       "\\hline\n",
       "\t chr1 & 10038 & 10405 & chr1:10038-10405 & chr1 & 11873 & 11874 & chr1:11873-11874 & DDX11L1   & 0.00023 & TSS\\_Pol2 & DDX11L1   & 1469 & fcc\\_astarr\\_macs\\_input\\_overlap & genome\\_tss\\_pol2\\\\\n",
       "\t chr1 & 14282 & 14614 & chr1:14282-14614 & chr1 & 11873 & 11874 & chr1:11873-11874 & DDX11L1   & 0.00023 & TSS\\_Pol2 & DDX11L1   & 2409 & fcc\\_astarr\\_macs\\_input\\_overlap & genome\\_tss\\_pol2\\\\\n",
       "\t chr1 & 16025 & 16338 & chr1:16025-16338 & chr1 & 17436 & 17437 & chr1:17436-17437 & MIR6859-1 & 9.43812 & TSS\\_Pol2 & MIR6859-1 & 1099 & fcc\\_astarr\\_macs\\_input\\_overlap & genome\\_tss\\_pol2\\\\\n",
       "\t chr1 & 16025 & 16338 & chr1:16025-16338 & chr1 & 17436 & 17437 & chr1:17436-17437 & MIR6859-2 & 9.43812 & TSS\\_Pol2 & MIR6859-2 & 1099 & fcc\\_astarr\\_macs\\_input\\_overlap & genome\\_tss\\_pol2\\\\\n",
       "\t chr1 & 16025 & 16338 & chr1:16025-16338 & chr1 & 17436 & 17437 & chr1:17436-17437 & MIR6859-3 & 9.43812 & TSS\\_Pol2 & MIR6859-3 & 1099 & fcc\\_astarr\\_macs\\_input\\_overlap & genome\\_tss\\_pol2\\\\\n",
       "\t chr1 & 16025 & 16338 & chr1:16025-16338 & chr1 & 17436 & 17437 & chr1:17436-17437 & MIR6859-4 & 9.43812 & TSS\\_Pol2 & MIR6859-4 & 1099 & fcc\\_astarr\\_macs\\_input\\_overlap & genome\\_tss\\_pol2\\\\\n",
       "\\end{tabular}\n"
      ],
      "text/markdown": [
       "\n",
       "A tibble: 6 × 15\n",
       "\n",
       "| Chrom_A &lt;chr&gt; | ChromStart_A &lt;dbl&gt; | ChromEnd_A &lt;dbl&gt; | Region_A &lt;chr&gt; | Chrom_B &lt;chr&gt; | ChromStart_B &lt;dbl&gt; | ChromEnd_B &lt;dbl&gt; | Region_B &lt;chr&gt; | Gene_B &lt;chr&gt; | Score_B &lt;dbl&gt; | Group_B &lt;chr&gt; | Label_B &lt;chr&gt; | Distance &lt;dbl&gt; | Annotation_A &lt;chr&gt; | Annotation_B &lt;chr&gt; |\n",
       "|---|---|---|---|---|---|---|---|---|---|---|---|---|---|---|\n",
       "| chr1 | 10038 | 10405 | chr1:10038-10405 | chr1 | 11873 | 11874 | chr1:11873-11874 | DDX11L1   | 0.00023 | TSS_Pol2 | DDX11L1   | 1469 | fcc_astarr_macs_input_overlap | genome_tss_pol2 |\n",
       "| chr1 | 14282 | 14614 | chr1:14282-14614 | chr1 | 11873 | 11874 | chr1:11873-11874 | DDX11L1   | 0.00023 | TSS_Pol2 | DDX11L1   | 2409 | fcc_astarr_macs_input_overlap | genome_tss_pol2 |\n",
       "| chr1 | 16025 | 16338 | chr1:16025-16338 | chr1 | 17436 | 17437 | chr1:17436-17437 | MIR6859-1 | 9.43812 | TSS_Pol2 | MIR6859-1 | 1099 | fcc_astarr_macs_input_overlap | genome_tss_pol2 |\n",
       "| chr1 | 16025 | 16338 | chr1:16025-16338 | chr1 | 17436 | 17437 | chr1:17436-17437 | MIR6859-2 | 9.43812 | TSS_Pol2 | MIR6859-2 | 1099 | fcc_astarr_macs_input_overlap | genome_tss_pol2 |\n",
       "| chr1 | 16025 | 16338 | chr1:16025-16338 | chr1 | 17436 | 17437 | chr1:17436-17437 | MIR6859-3 | 9.43812 | TSS_Pol2 | MIR6859-3 | 1099 | fcc_astarr_macs_input_overlap | genome_tss_pol2 |\n",
       "| chr1 | 16025 | 16338 | chr1:16025-16338 | chr1 | 17436 | 17437 | chr1:17436-17437 | MIR6859-4 | 9.43812 | TSS_Pol2 | MIR6859-4 | 1099 | fcc_astarr_macs_input_overlap | genome_tss_pol2 |\n",
       "\n"
      ],
      "text/plain": [
       "  Chrom_A ChromStart_A ChromEnd_A Region_A         Chrom_B ChromStart_B\n",
       "1 chr1    10038        10405      chr1:10038-10405 chr1    11873       \n",
       "2 chr1    14282        14614      chr1:14282-14614 chr1    11873       \n",
       "3 chr1    16025        16338      chr1:16025-16338 chr1    17436       \n",
       "4 chr1    16025        16338      chr1:16025-16338 chr1    17436       \n",
       "5 chr1    16025        16338      chr1:16025-16338 chr1    17436       \n",
       "6 chr1    16025        16338      chr1:16025-16338 chr1    17436       \n",
       "  ChromEnd_B Region_B         Gene_B    Score_B Group_B  Label_B   Distance\n",
       "1 11874      chr1:11873-11874 DDX11L1   0.00023 TSS_Pol2 DDX11L1   1469    \n",
       "2 11874      chr1:11873-11874 DDX11L1   0.00023 TSS_Pol2 DDX11L1   2409    \n",
       "3 17437      chr1:17436-17437 MIR6859-1 9.43812 TSS_Pol2 MIR6859-1 1099    \n",
       "4 17437      chr1:17436-17437 MIR6859-2 9.43812 TSS_Pol2 MIR6859-2 1099    \n",
       "5 17437      chr1:17436-17437 MIR6859-3 9.43812 TSS_Pol2 MIR6859-3 1099    \n",
       "6 17437      chr1:17436-17437 MIR6859-4 9.43812 TSS_Pol2 MIR6859-4 1099    \n",
       "  Annotation_A                  Annotation_B   \n",
       "1 fcc_astarr_macs_input_overlap genome_tss_pol2\n",
       "2 fcc_astarr_macs_input_overlap genome_tss_pol2\n",
       "3 fcc_astarr_macs_input_overlap genome_tss_pol2\n",
       "4 fcc_astarr_macs_input_overlap genome_tss_pol2\n",
       "5 fcc_astarr_macs_input_overlap genome_tss_pol2\n",
       "6 fcc_astarr_macs_input_overlap genome_tss_pol2"
      ]
     },
     "metadata": {},
     "output_type": "display_data"
    }
   ],
   "source": [
    "head(dat_region_pair)"
   ]
  },
  {
   "cell_type": "code",
   "execution_count": null,
   "id": "07430007-fba7-4e65-a412-80c9a9ffbe72",
   "metadata": {},
   "outputs": [],
   "source": []
  }
 ],
 "metadata": {
  "kernelspec": {
   "display_name": "R",
   "language": "R",
   "name": "ir"
  },
  "language_info": {
   "codemirror_mode": "r",
   "file_extension": ".r",
   "mimetype": "text/x-r-source",
   "name": "R",
   "pygments_lexer": "r",
   "version": "4.4.2"
  }
 },
 "nbformat": 4,
 "nbformat_minor": 5
}
