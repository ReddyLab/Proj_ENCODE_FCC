{
 "cells": [
  {
   "cell_type": "raw",
   "id": "b3cc9b08-a5c7-49d9-94fa-6927ea1303b0",
   "metadata": {},
   "source": [
    "---\n",
    "title: Region annotation 11 (ASTARR MACS peaks)\n",
    "subtitle: Summarize annotations (Main)\n",
    "format:\n",
    "    html:\n",
    "        code-fold:  true\n",
    "        code-tools: true\n",
    "---"
   ]
  },
  {
   "cell_type": "markdown",
   "id": "52a11a0c-d9b9-4319-89aa-1c57e4cdab16",
   "metadata": {},
   "source": [
    "**Set environment**"
   ]
  },
  {
   "cell_type": "code",
   "execution_count": 1,
   "id": "9bc44458-2d76-4e5f-a5dc-e5164aa97fad",
   "metadata": {
    "tags": []
   },
   "outputs": [
    {
     "name": "stdout",
     "output_type": "stream",
     "text": [
      "You are working on        Singularity: singularity_proj_encode_fcc \n",
      "BASE DIRECTORY (FD_BASE): /data/reddylab/Kuei \n",
      "REPO DIRECTORY (FD_REPO): /data/reddylab/Kuei/repo \n",
      "WORK DIRECTORY (FD_WORK): /data/reddylab/Kuei/work \n",
      "DATA DIRECTORY (FD_DATA): /data/reddylab/Kuei/data \n",
      "\n",
      "You are working with      ENCODE FCC \n",
      "PATH OF PROJECT (FD_PRJ): /data/reddylab/Kuei/repo/Proj_ENCODE_FCC \n",
      "PROJECT RESULTS (FD_RES): /data/reddylab/Kuei/repo/Proj_ENCODE_FCC/results \n",
      "PROJECT SCRIPTS (FD_EXE): /data/reddylab/Kuei/repo/Proj_ENCODE_FCC/scripts \n",
      "PROJECT DATA    (FD_DAT): /data/reddylab/Kuei/repo/Proj_ENCODE_FCC/data \n",
      "PROJECT NOTE    (FD_NBK): /data/reddylab/Kuei/repo/Proj_ENCODE_FCC/notebooks \n",
      "PROJECT DOCS    (FD_DOC): /data/reddylab/Kuei/repo/Proj_ENCODE_FCC/docs \n",
      "PROJECT LOG     (FD_LOG): /data/reddylab/Kuei/repo/Proj_ENCODE_FCC/log \n",
      "PROJECT REF     (FD_REF): /data/reddylab/Kuei/repo/Proj_ENCODE_FCC/references \n",
      "\n"
     ]
    }
   ],
   "source": [
    "suppressMessages(suppressWarnings(source(\"../run_config_project_sing.R\")))\n",
    "show_env()"
   ]
  },
  {
   "cell_type": "markdown",
   "id": "c63a4c45-330a-4253-a598-308796698e89",
   "metadata": {},
   "source": [
    "## Prepare"
   ]
  },
  {
   "cell_type": "markdown",
   "id": "cbc16648-3d77-4f1c-a4ea-4061491410ff",
   "metadata": {},
   "source": [
    "**Set global variable**"
   ]
  },
  {
   "cell_type": "code",
   "execution_count": 2,
   "id": "400d32df-429d-4d25-b732-bbce1f80cefe",
   "metadata": {},
   "outputs": [
    {
     "name": "stdout",
     "output_type": "stream",
     "text": [
      "fcc_astarr_macs_input_overlap \n",
      "fcc_astarr_macs_input_union \n"
     ]
    }
   ],
   "source": [
    "vec = c(\n",
    "    \"fcc_astarr_macs_input_overlap\",\n",
    "    \"fcc_astarr_macs_input_union\"\n",
    ")\n",
    "names(vec) = vec\n",
    "\n",
    "VEC_TXT_FOLDER = vec\n",
    "for(txt in vec){cat(txt, \"\\n\")}"
   ]
  },
  {
   "cell_type": "code",
   "execution_count": 3,
   "id": "d5216f63-8572-4b60-a456-a11823905035",
   "metadata": {},
   "outputs": [],
   "source": [
    "TXT_FNAME_INP = \"region.summary.genome_tss.tss_proximity.tsv\""
   ]
  },
  {
   "cell_type": "markdown",
   "id": "f85fe90c-0c61-4cc0-9fae-3f027b697bff",
   "metadata": {},
   "source": [
    "**View files**"
   ]
  },
  {
   "cell_type": "code",
   "execution_count": 4,
   "id": "2b04f70f-c489-478f-8aee-7a8e30329a27",
   "metadata": {},
   "outputs": [
    {
     "name": "stdout",
     "output_type": "stream",
     "text": [
      "/data/reddylab/Kuei/repo/Proj_ENCODE_FCC/results/region_closest/fcc_astarr_macs_input_overlap/summary/region.summary.genome_tss.tss_proximity.tsv \n",
      "/data/reddylab/Kuei/repo/Proj_ENCODE_FCC/results/region_closest/fcc_astarr_macs_input_union/summary/region.summary.genome_tss.tss_proximity.tsv \n"
     ]
    }
   ],
   "source": [
    "txt_fdiry = file.path(FD_RES, \"region_closest\", \"*\", \"summary\")\n",
    "txt_fname = TXT_FNAME_INP\n",
    "txt_fglob = file.path(txt_fdiry, txt_fname)\n",
    "\n",
    "vec = Sys.glob(txt_fglob)\n",
    "for(txt in vec){cat(txt, \"\\n\")}"
   ]
  },
  {
   "cell_type": "markdown",
   "id": "0b9404fd-d2ae-4414-8dd4-12cc1b7f3e4a",
   "metadata": {},
   "source": [
    "## Import data"
   ]
  },
  {
   "cell_type": "markdown",
   "id": "aafe5763-3aff-4ad2-a18d-6491db089a51",
   "metadata": {},
   "source": [
    "### Import ATAC-TSS region distance"
   ]
  },
  {
   "cell_type": "code",
   "execution_count": 5,
   "id": "173f441f-efa9-4706-a91d-2473bbaab4d5",
   "metadata": {},
   "outputs": [
    {
     "name": "stdout",
     "output_type": "stream",
     "text": [
      "$fcc_astarr_macs_input_overlap\n",
      "[1] 304915     11\n",
      "\n",
      "$fcc_astarr_macs_input_union\n",
      "[1] 499336     11\n",
      "\n"
     ]
    },
    {
     "data": {
      "text/html": [
       "<table>\n",
       " <thead>\n",
       "  <tr>\n",
       "   <th style=\"text-align:left;\"> Chrom </th>\n",
       "   <th style=\"text-align:right;\"> ChromStart </th>\n",
       "   <th style=\"text-align:right;\"> ChromEnd </th>\n",
       "   <th style=\"text-align:left;\"> Region </th>\n",
       "   <th style=\"text-align:left;\"> Annotation_A </th>\n",
       "   <th style=\"text-align:left;\"> Annotation_B </th>\n",
       "   <th style=\"text-align:left;\"> Region_TSS </th>\n",
       "   <th style=\"text-align:right;\"> Score_Pol2 </th>\n",
       "   <th style=\"text-align:left;\"> Gene </th>\n",
       "   <th style=\"text-align:right;\"> Distance2TSS </th>\n",
       "   <th style=\"text-align:left;\"> TSS_Proximity </th>\n",
       "  </tr>\n",
       " </thead>\n",
       "<tbody>\n",
       "  <tr>\n",
       "   <td style=\"text-align:left;\"> chr1 </td>\n",
       "   <td style=\"text-align:right;\"> 10038 </td>\n",
       "   <td style=\"text-align:right;\"> 10405 </td>\n",
       "   <td style=\"text-align:left;\"> chr1:10038-10405 </td>\n",
       "   <td style=\"text-align:left;\"> fcc_astarr_macs_input_overlap </td>\n",
       "   <td style=\"text-align:left;\"> genome_tss_pol2 </td>\n",
       "   <td style=\"text-align:left;\"> chr1:11873-11874 </td>\n",
       "   <td style=\"text-align:right;\"> 0.00023 </td>\n",
       "   <td style=\"text-align:left;\"> DDX11L1 </td>\n",
       "   <td style=\"text-align:right;\"> 1469 </td>\n",
       "   <td style=\"text-align:left;\"> Proximal </td>\n",
       "  </tr>\n",
       "  <tr>\n",
       "   <td style=\"text-align:left;\"> chr1 </td>\n",
       "   <td style=\"text-align:right;\"> 10038 </td>\n",
       "   <td style=\"text-align:right;\"> 10405 </td>\n",
       "   <td style=\"text-align:left;\"> chr1:10038-10405 </td>\n",
       "   <td style=\"text-align:left;\"> fcc_astarr_macs_input_overlap </td>\n",
       "   <td style=\"text-align:left;\"> genome_tss_pol2_rnaseq </td>\n",
       "   <td style=\"text-align:left;\"> chr1:29370-29371 </td>\n",
       "   <td style=\"text-align:right;\"> 0.00023 </td>\n",
       "   <td style=\"text-align:left;\"> WASH7P </td>\n",
       "   <td style=\"text-align:right;\"> 18966 </td>\n",
       "   <td style=\"text-align:left;\"> Distal </td>\n",
       "  </tr>\n",
       "  <tr>\n",
       "   <td style=\"text-align:left;\"> chr1 </td>\n",
       "   <td style=\"text-align:right;\"> 14282 </td>\n",
       "   <td style=\"text-align:right;\"> 14614 </td>\n",
       "   <td style=\"text-align:left;\"> chr1:14282-14614 </td>\n",
       "   <td style=\"text-align:left;\"> fcc_astarr_macs_input_overlap </td>\n",
       "   <td style=\"text-align:left;\"> genome_tss_pol2 </td>\n",
       "   <td style=\"text-align:left;\"> chr1:11873-11874 </td>\n",
       "   <td style=\"text-align:right;\"> 0.00023 </td>\n",
       "   <td style=\"text-align:left;\"> DDX11L1 </td>\n",
       "   <td style=\"text-align:right;\"> 2409 </td>\n",
       "   <td style=\"text-align:left;\"> Distal </td>\n",
       "  </tr>\n",
       "</tbody>\n",
       "</table>"
      ]
     },
     "metadata": {},
     "output_type": "display_data"
    }
   ],
   "source": [
    "### loop to import data\n",
    "lst = lapply(VEC_TXT_FOLDER, function(txt_folder){\n",
    "    ### set file directory\n",
    "    txt_fdiry = file.path(FD_RES, \"region_closest\", txt_folder, \"summary\")\n",
    "    txt_fname = TXT_FNAME_INP\n",
    "    txt_fpath = file.path(txt_fdiry, txt_fname)\n",
    "\n",
    "    ### read table\n",
    "    dat = read_tsv(txt_fpath, show_col_types = FALSE)\n",
    "    return(dat)\n",
    "})\n",
    "\n",
    "### assign and show\n",
    "lst_dat_region_annot_import = lst\n",
    "\n",
    "res = lapply(lst, dim)\n",
    "print(res)\n",
    "\n",
    "dat = lst[[1]]\n",
    "fun_display_table(head(dat, 3))"
   ]
  },
  {
   "cell_type": "markdown",
   "id": "3e82e5d4-b311-4e88-b072-b3ff7d2a633b",
   "metadata": {},
   "source": [
    "**Check count**"
   ]
  },
  {
   "cell_type": "code",
   "execution_count": 6,
   "id": "4b6c8646-626b-4d74-bbd1-4807b13e2ed9",
   "metadata": {},
   "outputs": [
    {
     "data": {
      "text/html": [
       "<table>\n",
       " <thead>\n",
       "  <tr>\n",
       "   <th style=\"text-align:left;\"> Annotation </th>\n",
       "   <th style=\"text-align:right;\"> fcc_astarr_macs_input_overlap </th>\n",
       "   <th style=\"text-align:right;\"> fcc_astarr_macs_input_union </th>\n",
       "  </tr>\n",
       " </thead>\n",
       "<tbody>\n",
       "  <tr>\n",
       "   <td style=\"text-align:left;\"> genome_tss_pol2 </td>\n",
       "   <td style=\"text-align:right;\"> 153357 </td>\n",
       "   <td style=\"text-align:right;\"> 250787 </td>\n",
       "  </tr>\n",
       "  <tr>\n",
       "   <td style=\"text-align:left;\"> genome_tss_pol2_rnaseq </td>\n",
       "   <td style=\"text-align:right;\"> 151558 </td>\n",
       "   <td style=\"text-align:right;\"> 248549 </td>\n",
       "  </tr>\n",
       "</tbody>\n",
       "</table>"
      ]
     },
     "metadata": {},
     "output_type": "display_data"
    }
   ],
   "source": [
    "lst = lst_dat_region_annot_import\n",
    "lst = lapply(lst, function(dat){\n",
    "    res = table(dat$Annotation_B, dnn = \"Annotation\")\n",
    "    dat = as.data.frame(res)\n",
    "    return(dat)\n",
    "})\n",
    "\n",
    "dat = bind_rows(lst, .id = \"Region\")\n",
    "dat = dat %>% tidyr::spread(Region, Freq)\n",
    "fun_display_table(head(dat))"
   ]
  },
  {
   "cell_type": "markdown",
   "id": "882da936-564f-495a-86ea-63d719764697",
   "metadata": {},
   "source": [
    "### Import gene essential label"
   ]
  },
  {
   "cell_type": "code",
   "execution_count": 7,
   "id": "e5a42f0a-6e7e-4f7f-a86a-deb08b098e89",
   "metadata": {},
   "outputs": [
    {
     "name": "stdout",
     "output_type": "stream",
     "text": [
      "[1] 1247    4\n"
     ]
    },
    {
     "data": {
      "text/html": [
       "<table>\n",
       " <thead>\n",
       "  <tr>\n",
       "   <th style=\"text-align:left;\"> Gene </th>\n",
       "   <th style=\"text-align:left;\"> Source </th>\n",
       "   <th style=\"text-align:left;\"> Version </th>\n",
       "   <th style=\"text-align:left;\"> File </th>\n",
       "  </tr>\n",
       " </thead>\n",
       "<tbody>\n",
       "  <tr>\n",
       "   <td style=\"text-align:left;\"> AAMP </td>\n",
       "   <td style=\"text-align:left;\"> demap </td>\n",
       "   <td style=\"text-align:left;\"> v24Q2 </td>\n",
       "   <td style=\"text-align:left;\"> AchillesCommonEssentialControls </td>\n",
       "  </tr>\n",
       "  <tr>\n",
       "   <td style=\"text-align:left;\"> AARS1 </td>\n",
       "   <td style=\"text-align:left;\"> demap </td>\n",
       "   <td style=\"text-align:left;\"> v24Q2 </td>\n",
       "   <td style=\"text-align:left;\"> AchillesCommonEssentialControls </td>\n",
       "  </tr>\n",
       "  <tr>\n",
       "   <td style=\"text-align:left;\"> AASDHPPT </td>\n",
       "   <td style=\"text-align:left;\"> demap </td>\n",
       "   <td style=\"text-align:left;\"> v24Q2 </td>\n",
       "   <td style=\"text-align:left;\"> AchillesCommonEssentialControls </td>\n",
       "  </tr>\n",
       "</tbody>\n",
       "</table>"
      ]
     },
     "metadata": {},
     "output_type": "display_data"
    }
   ],
   "source": [
    "### set file directory\n",
    "txt_fdiry = file.path(FD_RES, \"annotation\", \"gene_essential\")\n",
    "txt_fname = \"demap.v24Q2.AchillesCommonEssentialControls.tsv\"\n",
    "txt_fpath = file.path(txt_fdiry, txt_fname)\n",
    "\n",
    "### read table\n",
    "dat = read_tsv(txt_fpath, show_col_types = FALSE)\n",
    "\n",
    "### assign and show\n",
    "dat_gene_essential_import = dat\n",
    "print(dim(dat))\n",
    "fun_display_table(head(dat, 3))"
   ]
  },
  {
   "cell_type": "markdown",
   "id": "4afe1df6-e10a-4e22-b74d-5e8d17dcfa32",
   "metadata": {},
   "source": [
    "## Label TSS essential"
   ]
  },
  {
   "cell_type": "code",
   "execution_count": 8,
   "id": "3298ff05-43c1-4551-bfd0-2fd0915767e6",
   "metadata": {},
   "outputs": [
    {
     "name": "stdout",
     "output_type": "stream",
     "text": [
      "$fcc_astarr_macs_input_overlap\n",
      "[1] 300084      8\n",
      "\n",
      "$fcc_astarr_macs_input_union\n",
      "[1] 493704      8\n",
      "\n"
     ]
    },
    {
     "data": {
      "text/html": [
       "<table>\n",
       " <thead>\n",
       "  <tr>\n",
       "   <th style=\"text-align:left;\"> Chrom </th>\n",
       "   <th style=\"text-align:right;\"> ChromStart </th>\n",
       "   <th style=\"text-align:right;\"> ChromEnd </th>\n",
       "   <th style=\"text-align:left;\"> Region </th>\n",
       "   <th style=\"text-align:left;\"> Annotation_A </th>\n",
       "   <th style=\"text-align:left;\"> Annotation_B </th>\n",
       "   <th style=\"text-align:left;\"> TSS_Proximity </th>\n",
       "   <th style=\"text-align:right;\"> TSS_Essential_Count </th>\n",
       "  </tr>\n",
       " </thead>\n",
       "<tbody>\n",
       "  <tr>\n",
       "   <td style=\"text-align:left;\"> chr1 </td>\n",
       "   <td style=\"text-align:right;\"> 10038 </td>\n",
       "   <td style=\"text-align:right;\"> 10405 </td>\n",
       "   <td style=\"text-align:left;\"> chr1:10038-10405 </td>\n",
       "   <td style=\"text-align:left;\"> fcc_astarr_macs_input_overlap </td>\n",
       "   <td style=\"text-align:left;\"> genome_tss_pol2 </td>\n",
       "   <td style=\"text-align:left;\"> Proximal </td>\n",
       "   <td style=\"text-align:right;\"> 0 </td>\n",
       "  </tr>\n",
       "  <tr>\n",
       "   <td style=\"text-align:left;\"> chr1 </td>\n",
       "   <td style=\"text-align:right;\"> 10038 </td>\n",
       "   <td style=\"text-align:right;\"> 10405 </td>\n",
       "   <td style=\"text-align:left;\"> chr1:10038-10405 </td>\n",
       "   <td style=\"text-align:left;\"> fcc_astarr_macs_input_overlap </td>\n",
       "   <td style=\"text-align:left;\"> genome_tss_pol2_rnaseq </td>\n",
       "   <td style=\"text-align:left;\"> Distal </td>\n",
       "   <td style=\"text-align:right;\"> 0 </td>\n",
       "  </tr>\n",
       "  <tr>\n",
       "   <td style=\"text-align:left;\"> chr1 </td>\n",
       "   <td style=\"text-align:right;\"> 14282 </td>\n",
       "   <td style=\"text-align:right;\"> 14614 </td>\n",
       "   <td style=\"text-align:left;\"> chr1:14282-14614 </td>\n",
       "   <td style=\"text-align:left;\"> fcc_astarr_macs_input_overlap </td>\n",
       "   <td style=\"text-align:left;\"> genome_tss_pol2 </td>\n",
       "   <td style=\"text-align:left;\"> Distal </td>\n",
       "   <td style=\"text-align:right;\"> 0 </td>\n",
       "  </tr>\n",
       "</tbody>\n",
       "</table>"
      ]
     },
     "metadata": {},
     "output_type": "display_data"
    }
   ],
   "source": [
    "### init\n",
    "dat = dat_gene_essential_import\n",
    "vec = dat$Gene\n",
    "vec_txt_gene_essential = vec\n",
    "\n",
    "### loop and arrange table\n",
    "lst = lst_dat_region_annot_import\n",
    "lst = lapply(lst, function(dat){\n",
    "    dat = dat %>%\n",
    "        dplyr::mutate(TSS_Essential_Label = (Gene %in% vec_txt_gene_essential)) %>%\n",
    "        dplyr::mutate(TSS_Essential_Label = ifelse(TSS_Essential_Label, 1, 0))\n",
    "\n",
    "    dat = dat %>% \n",
    "        dplyr::group_by(\n",
    "            Chrom, ChromStart, ChromEnd, Region, \n",
    "            Annotation_A, \n",
    "            Annotation_B,\n",
    "            TSS_Proximity\n",
    "        ) %>%\n",
    "        dplyr::summarise(\n",
    "            TSS_Essential_Count = sum(TSS_Essential_Label),\n",
    "            .groups = \"drop\"\n",
    "        )\n",
    "    return(dat)\n",
    "})\n",
    "\n",
    "### assign and show\n",
    "lst_dat_region_annot_count_tss_essential = lst\n",
    "\n",
    "res = lapply(lst, dim)\n",
    "print(res)\n",
    "\n",
    "dat = lst[[1]]\n",
    "fun_display_table(head(dat, 3))"
   ]
  },
  {
   "cell_type": "markdown",
   "id": "f12fdbe9-18ad-4a31-9383-53a15db2ab76",
   "metadata": {},
   "source": [
    "**Explore: count**"
   ]
  },
  {
   "cell_type": "code",
   "execution_count": 9,
   "id": "c064598f-8112-4c27-8b73-07c9e5f5b5b1",
   "metadata": {},
   "outputs": [
    {
     "data": {
      "text/html": [
       "<table>\n",
       " <thead>\n",
       "  <tr>\n",
       "   <th style=\"text-align:left;\"> TSS_Annotation </th>\n",
       "   <th style=\"text-align:left;\"> TSS_Proximity </th>\n",
       "   <th style=\"text-align:left;\"> TSS_Essential_Count </th>\n",
       "   <th style=\"text-align:right;\"> fcc_astarr_macs_input_overlap </th>\n",
       "   <th style=\"text-align:right;\"> fcc_astarr_macs_input_union </th>\n",
       "  </tr>\n",
       " </thead>\n",
       "<tbody>\n",
       "  <tr>\n",
       "   <td style=\"text-align:left;\"> genome_tss_pol2 </td>\n",
       "   <td style=\"text-align:left;\"> Distal </td>\n",
       "   <td style=\"text-align:left;\"> 0 </td>\n",
       "   <td style=\"text-align:right;\"> 124224 </td>\n",
       "   <td style=\"text-align:right;\"> 213239 </td>\n",
       "  </tr>\n",
       "  <tr>\n",
       "   <td style=\"text-align:left;\"> genome_tss_pol2 </td>\n",
       "   <td style=\"text-align:left;\"> Distal </td>\n",
       "   <td style=\"text-align:left;\"> 1 </td>\n",
       "   <td style=\"text-align:right;\"> 5242 </td>\n",
       "   <td style=\"text-align:right;\"> 9493 </td>\n",
       "  </tr>\n",
       "  <tr>\n",
       "   <td style=\"text-align:left;\"> genome_tss_pol2 </td>\n",
       "   <td style=\"text-align:left;\"> Proximal </td>\n",
       "   <td style=\"text-align:left;\"> 0 </td>\n",
       "   <td style=\"text-align:right;\"> 19283 </td>\n",
       "   <td style=\"text-align:right;\"> 22819 </td>\n",
       "  </tr>\n",
       "  <tr>\n",
       "   <td style=\"text-align:left;\"> genome_tss_pol2 </td>\n",
       "   <td style=\"text-align:left;\"> Proximal </td>\n",
       "   <td style=\"text-align:left;\"> 1 </td>\n",
       "   <td style=\"text-align:right;\"> 1251 </td>\n",
       "   <td style=\"text-align:right;\"> 1258 </td>\n",
       "  </tr>\n",
       "  <tr>\n",
       "   <td style=\"text-align:left;\"> genome_tss_pol2 </td>\n",
       "   <td style=\"text-align:left;\"> Proximal </td>\n",
       "   <td style=\"text-align:left;\"> 2 </td>\n",
       "   <td style=\"text-align:right;\"> 42 </td>\n",
       "   <td style=\"text-align:right;\"> 43 </td>\n",
       "  </tr>\n",
       "  <tr>\n",
       "   <td style=\"text-align:left;\"> genome_tss_pol2_rnaseq </td>\n",
       "   <td style=\"text-align:left;\"> Distal </td>\n",
       "   <td style=\"text-align:left;\"> 0 </td>\n",
       "   <td style=\"text-align:right;\"> 125411 </td>\n",
       "   <td style=\"text-align:right;\"> 212114 </td>\n",
       "  </tr>\n",
       "  <tr>\n",
       "   <td style=\"text-align:left;\"> genome_tss_pol2_rnaseq </td>\n",
       "   <td style=\"text-align:left;\"> Distal </td>\n",
       "   <td style=\"text-align:left;\"> 1 </td>\n",
       "   <td style=\"text-align:right;\"> 12816 </td>\n",
       "   <td style=\"text-align:right;\"> 22595 </td>\n",
       "  </tr>\n",
       "  <tr>\n",
       "   <td style=\"text-align:left;\"> genome_tss_pol2_rnaseq </td>\n",
       "   <td style=\"text-align:left;\"> Proximal </td>\n",
       "   <td style=\"text-align:left;\"> 0 </td>\n",
       "   <td style=\"text-align:right;\"> 10515 </td>\n",
       "   <td style=\"text-align:right;\"> 10836 </td>\n",
       "  </tr>\n",
       "  <tr>\n",
       "   <td style=\"text-align:left;\"> genome_tss_pol2_rnaseq </td>\n",
       "   <td style=\"text-align:left;\"> Proximal </td>\n",
       "   <td style=\"text-align:left;\"> 1 </td>\n",
       "   <td style=\"text-align:right;\"> 1258 </td>\n",
       "   <td style=\"text-align:right;\"> 1264 </td>\n",
       "  </tr>\n",
       "  <tr>\n",
       "   <td style=\"text-align:left;\"> genome_tss_pol2_rnaseq </td>\n",
       "   <td style=\"text-align:left;\"> Proximal </td>\n",
       "   <td style=\"text-align:left;\"> 2 </td>\n",
       "   <td style=\"text-align:right;\"> 42 </td>\n",
       "   <td style=\"text-align:right;\"> 43 </td>\n",
       "  </tr>\n",
       "</tbody>\n",
       "</table>"
      ]
     },
     "metadata": {},
     "output_type": "display_data"
    }
   ],
   "source": [
    "lst = lst_dat_region_annot_count_tss_essential\n",
    "lst = lapply(lst, function(dat){\n",
    "    res = table(\n",
    "        dat$Annotation_B,\n",
    "        dat$TSS_Proximity, \n",
    "        dat$TSS_Essential_Count, \n",
    "        dnn = c(\n",
    "            \"TSS_Annotation\",\n",
    "            \"TSS_Proximity\", \n",
    "            \"TSS_Essential_Count\"\n",
    "        )\n",
    "    )\n",
    "    dat = as.data.frame(res)\n",
    "    return(dat)\n",
    "})\n",
    "\n",
    "dat = bind_rows(lst, .id = \"Region\")\n",
    "dat = dat %>% dplyr::filter(Freq != 0)\n",
    "dat = dat %>% tidyr::spread(Region, Freq)\n",
    "fun_display_table(dat)"
   ]
  },
  {
   "cell_type": "markdown",
   "id": "9fcb3649-0f0b-490d-be3e-fd242e258ff6",
   "metadata": {},
   "source": [
    "## Summary"
   ]
  },
  {
   "cell_type": "markdown",
   "id": "4deef19f-d0bc-4b7d-84a8-a1159bb34f2a",
   "metadata": {},
   "source": [
    "**Helper function**"
   ]
  },
  {
   "cell_type": "code",
   "execution_count": 10,
   "id": "b3edb1b7-29a3-4107-96a2-f7cbcb046a07",
   "metadata": {},
   "outputs": [],
   "source": [
    "fun_label_region_category = function(txt_tss_proximity, num_tss_essential){\n",
    "    if (txt_tss_proximity == \"Distal\"){\n",
    "        return(\"Distal\")\n",
    "    }\n",
    "    if (num_tss_essential > 0){\n",
    "        return(\"Proximal:Essential\")\n",
    "    } else {\n",
    "        return(\"Proximal:Non-Essential\")\n",
    "    }\n",
    "}"
   ]
  },
  {
   "cell_type": "markdown",
   "id": "54563dc9-d3b7-4398-8944-b79de3ec54c0",
   "metadata": {},
   "source": [
    "**Summarize TSS essential**"
   ]
  },
  {
   "cell_type": "code",
   "execution_count": 11,
   "id": "8067f020-0fe0-4601-b7db-13686bc6d917",
   "metadata": {},
   "outputs": [
    {
     "name": "stdout",
     "output_type": "stream",
     "text": [
      "$fcc_astarr_macs_input_overlap\n",
      "[1] 300084      9\n",
      "\n",
      "$fcc_astarr_macs_input_union\n",
      "[1] 493704      9\n",
      "\n"
     ]
    },
    {
     "data": {
      "text/html": [
       "<table>\n",
       " <thead>\n",
       "  <tr>\n",
       "   <th style=\"text-align:left;\"> Chrom </th>\n",
       "   <th style=\"text-align:right;\"> ChromStart </th>\n",
       "   <th style=\"text-align:right;\"> ChromEnd </th>\n",
       "   <th style=\"text-align:left;\"> Region </th>\n",
       "   <th style=\"text-align:left;\"> Annotation_A </th>\n",
       "   <th style=\"text-align:left;\"> Annotation_B </th>\n",
       "   <th style=\"text-align:left;\"> TSS_Proximity </th>\n",
       "   <th style=\"text-align:right;\"> TSS_Essential_Count </th>\n",
       "   <th style=\"text-align:left;\"> TSS_Category </th>\n",
       "  </tr>\n",
       " </thead>\n",
       "<tbody>\n",
       "  <tr>\n",
       "   <td style=\"text-align:left;\"> chr1 </td>\n",
       "   <td style=\"text-align:right;\"> 10038 </td>\n",
       "   <td style=\"text-align:right;\"> 10405 </td>\n",
       "   <td style=\"text-align:left;\"> chr1:10038-10405 </td>\n",
       "   <td style=\"text-align:left;\"> fcc_astarr_macs_input_overlap </td>\n",
       "   <td style=\"text-align:left;\"> genome_tss_pol2 </td>\n",
       "   <td style=\"text-align:left;\"> Proximal </td>\n",
       "   <td style=\"text-align:right;\"> 0 </td>\n",
       "   <td style=\"text-align:left;\"> Proximal:Non-Essential </td>\n",
       "  </tr>\n",
       "  <tr>\n",
       "   <td style=\"text-align:left;\"> chr1 </td>\n",
       "   <td style=\"text-align:right;\"> 10038 </td>\n",
       "   <td style=\"text-align:right;\"> 10405 </td>\n",
       "   <td style=\"text-align:left;\"> chr1:10038-10405 </td>\n",
       "   <td style=\"text-align:left;\"> fcc_astarr_macs_input_overlap </td>\n",
       "   <td style=\"text-align:left;\"> genome_tss_pol2_rnaseq </td>\n",
       "   <td style=\"text-align:left;\"> Distal </td>\n",
       "   <td style=\"text-align:right;\"> 0 </td>\n",
       "   <td style=\"text-align:left;\"> Distal </td>\n",
       "  </tr>\n",
       "  <tr>\n",
       "   <td style=\"text-align:left;\"> chr1 </td>\n",
       "   <td style=\"text-align:right;\"> 14282 </td>\n",
       "   <td style=\"text-align:right;\"> 14614 </td>\n",
       "   <td style=\"text-align:left;\"> chr1:14282-14614 </td>\n",
       "   <td style=\"text-align:left;\"> fcc_astarr_macs_input_overlap </td>\n",
       "   <td style=\"text-align:left;\"> genome_tss_pol2 </td>\n",
       "   <td style=\"text-align:left;\"> Distal </td>\n",
       "   <td style=\"text-align:right;\"> 0 </td>\n",
       "   <td style=\"text-align:left;\"> Distal </td>\n",
       "  </tr>\n",
       "</tbody>\n",
       "</table>"
      ]
     },
     "metadata": {},
     "output_type": "display_data"
    }
   ],
   "source": [
    "lst = lst_dat_region_annot_count_tss_essential\n",
    "lst = lapply(lst, function(dat){\n",
    "    dat = dat %>%\n",
    "        dplyr::mutate(\n",
    "            TSS_Category = purrr::pmap_chr(\n",
    "                list(TSS_Proximity, TSS_Essential_Count),\n",
    "                fun_label_region_category\n",
    "            )\n",
    "        )\n",
    "    return(dat)\n",
    "})\n",
    "\n",
    "### assign and show\n",
    "lst_dat_region_annot_summary_tss_essential = lst\n",
    "\n",
    "res = lapply(lst, dim)\n",
    "print(res)\n",
    "\n",
    "dat = lst[[1]]\n",
    "fun_display_table(head(dat, 3))"
   ]
  },
  {
   "cell_type": "markdown",
   "id": "0b5a34f9-65b9-4e0c-9ae6-82d7be8449cf",
   "metadata": {},
   "source": [
    "**Check: unique region?**"
   ]
  },
  {
   "cell_type": "code",
   "execution_count": 12,
   "id": "55a50de7-449a-4e44-8126-43ace542b19a",
   "metadata": {},
   "outputs": [
    {
     "name": "stdout",
     "output_type": "stream",
     "text": [
      "$fcc_astarr_macs_input_overlap\n",
      "       genome_tss_pol2 genome_tss_pol2_rnaseq \n",
      "                 FALSE                  FALSE \n",
      "\n",
      "$fcc_astarr_macs_input_union\n",
      "       genome_tss_pol2 genome_tss_pol2_rnaseq \n",
      "                 FALSE                  FALSE \n",
      "\n"
     ]
    }
   ],
   "source": [
    "lst = lst_dat_region_annot_summary_tss_essential\n",
    "lst = lapply(lst, function(dat){\n",
    "    lst = split(dat$Region, dat$Annotation_B)\n",
    "    lst = lapply(lst, function(vec){\n",
    "        res = any(duplicated(vec))\n",
    "        return(res)\n",
    "    })\n",
    "    res = unlist(lst)\n",
    "    return(res)\n",
    "})\n",
    "\n",
    "print(lst)"
   ]
  },
  {
   "cell_type": "markdown",
   "id": "c8c2e9b7-9b96-48f8-a23d-c93de12e6065",
   "metadata": {},
   "source": [
    "## Export results"
   ]
  },
  {
   "cell_type": "code",
   "execution_count": 13,
   "id": "e0530f96-077d-45e7-addf-84b03fb98834",
   "metadata": {},
   "outputs": [
    {
     "name": "stdout",
     "output_type": "stream",
     "text": [
      "Save file: \n",
      "Folder: fcc_astarr_macs_input_overlap \n",
      "/data/reddylab/Kuei/repo/Proj_ENCODE_FCC/results/region_closest/fcc_astarr_macs_input_overlap/summary/region.summary.genome_tss.tss_essential.tsv \n",
      "\n",
      "Save file: \n",
      "Folder: fcc_astarr_macs_input_union \n",
      "/data/reddylab/Kuei/repo/Proj_ENCODE_FCC/results/region_closest/fcc_astarr_macs_input_union/summary/region.summary.genome_tss.tss_essential.tsv \n",
      "\n"
     ]
    }
   ],
   "source": [
    "for (txt_folder in VEC_TXT_FOLDER){\n",
    "\n",
    "    ### get table\n",
    "    dat_region_annot_result = lst_dat_region_annot_summary_tss_essential[[txt_folder]]\n",
    "    \n",
    "    ### set file directory\n",
    "    txt_fdiry = file.path(FD_RES, \"region_closest\", txt_folder, \"summary\")\n",
    "    dir.create(txt_fdiry, showWarnings = FALSE)\n",
    "\n",
    "    ### set file directory\n",
    "    txt_fname = paste(\"region.summary\", \"genome_tss\", \"tss_essential\", \"tsv\", sep = \".\")\n",
    "    txt_fpath = file.path(txt_fdiry, txt_fname)\n",
    "\n",
    "    ### save table\n",
    "    dat = dat_region_annot_result\n",
    "    dat = dat %>% \n",
    "        dplyr::arrange(Chrom, ChromStart, ChromEnd) %>%\n",
    "        dplyr::distinct()\n",
    "    write_tsv(dat, txt_fpath)\n",
    "    \n",
    "    ### show progress\n",
    "    cat(\"Save file:\", \"\\n\")\n",
    "    cat(\"Folder:\", txt_folder, \"\\n\")\n",
    "    cat(txt_fpath, \"\\n\")\n",
    "    cat(\"\\n\")\n",
    "    flush.console()\n",
    "}"
   ]
  }
 ],
 "metadata": {
  "kernelspec": {
   "display_name": "R",
   "language": "R",
   "name": "ir"
  },
  "language_info": {
   "codemirror_mode": "r",
   "file_extension": ".r",
   "mimetype": "text/x-r-source",
   "name": "R",
   "pygments_lexer": "r",
   "version": "4.5.1"
  }
 },
 "nbformat": 4,
 "nbformat_minor": 5
}
