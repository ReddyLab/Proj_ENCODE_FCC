{
 "cells": [
  {
   "cell_type": "code",
   "execution_count": 1,
   "id": "efbde35f-f2e7-46fc-9c50-4d3ebba0cb81",
   "metadata": {},
   "outputs": [
    {
     "data": {
      "text/html": [
       "<style>\n",
       ".list-inline {list-style: none; margin:0; padding: 0}\n",
       ".list-inline>li {display: inline-block}\n",
       ".list-inline>li:not(:last-child)::after {content: \"\\00b7\"; padding: 0 .5ex}\n",
       "</style>\n",
       "<ol class=list-inline><li>'app'</li><li>'data'</li><li>'docs'</li><li>'log'</li><li>'notebooks'</li><li>'README.md'</li><li>'references'</li><li>'results'</li><li>'scripts'</li><li>'site'</li><li>'tests'</li><li>'tmp'</li></ol>\n"
      ],
      "text/latex": [
       "\\begin{enumerate*}\n",
       "\\item 'app'\n",
       "\\item 'data'\n",
       "\\item 'docs'\n",
       "\\item 'log'\n",
       "\\item 'notebooks'\n",
       "\\item 'README.md'\n",
       "\\item 'references'\n",
       "\\item 'results'\n",
       "\\item 'scripts'\n",
       "\\item 'site'\n",
       "\\item 'tests'\n",
       "\\item 'tmp'\n",
       "\\end{enumerate*}\n"
      ],
      "text/markdown": [
       "1. 'app'\n",
       "2. 'data'\n",
       "3. 'docs'\n",
       "4. 'log'\n",
       "5. 'notebooks'\n",
       "6. 'README.md'\n",
       "7. 'references'\n",
       "8. 'results'\n",
       "9. 'scripts'\n",
       "10. 'site'\n",
       "11. 'tests'\n",
       "12. 'tmp'\n",
       "\n",
       "\n"
      ],
      "text/plain": [
       " [1] \"app\"        \"data\"       \"docs\"       \"log\"        \"notebooks\" \n",
       " [6] \"README.md\"  \"references\" \"results\"    \"scripts\"    \"site\"      \n",
       "[11] \"tests\"      \"tmp\"       "
      ]
     },
     "metadata": {},
     "output_type": "display_data"
    }
   ],
   "source": [
    "dir(\"../../\")"
   ]
  },
  {
   "cell_type": "code",
   "execution_count": 2,
   "id": "68800229-af86-46e2-8973-5c9119162835",
   "metadata": {},
   "outputs": [
    {
     "name": "stdout",
     "output_type": "stream",
     "text": [
      "You are in Singularity: singularity_proj_encode_fcc \n",
      "BASE DIRECTORY (FD_BASE): /data/reddylab/Kuei \n",
      "WORK DIRECTORY (FD_WORK): /data/reddylab/Kuei/work \n",
      "CODE DIRECTORY (FD_REPO): /data/reddylab/Kuei/repo \n",
      "PATH OF PROJECT (FD_PRJ): /data/reddylab/Kuei/repo/Proj_CombEffect_ENCODE_FCC \n",
      "PATH OF RESULTS (FD_DAT): /data/reddylab/Kuei/work/proj_combeffect_encode_fcc/data \n",
      "PATH OF RESULTS (FD_RES): /data/reddylab/Kuei/work/proj_combeffect_encode_fcc/results \n",
      "PATH OF LOG     (FD_LOG): /data/reddylab/Kuei/work/proj_combeffect_encode_fcc/log \n"
     ]
    }
   ],
   "source": [
    "fdiry = \"../../scripts\"\n",
    "fname = \"config_project_sing.R\"\n",
    "fpath = file.path(fdiry, fname)\n",
    "\n",
    "suppressMessages(suppressWarnings(source(fpath)))\n",
    "suppressMessages(suppressWarnings(library(\"DESeq2\")))\n",
    "show_env()"
   ]
  },
  {
   "cell_type": "code",
   "execution_count": 3,
   "id": "a24b717a-d208-474a-a876-9eda6df3b6b0",
   "metadata": {},
   "outputs": [
    {
     "name": "stdout",
     "output_type": "stream",
     "text": [
      "[1] \"/data/reddylab/Kuei/work/proj_combeffect_encode_fcc/results\"\n",
      "[1] \"/data/reddylab/Kuei/work/proj_combeffect_encode_fcc/results_v4\"\n"
     ]
    }
   ],
   "source": [
    "print(FD_RES)\n",
    "FD_RES = \"/data/reddylab/Kuei/work/proj_combeffect_encode_fcc/results_v4\"\n",
    "print(FD_RES)"
   ]
  },
  {
   "cell_type": "code",
   "execution_count": 4,
   "id": "da29d808-e4a5-460c-9977-c882e769f58c",
   "metadata": {},
   "outputs": [
    {
     "data": {
      "text/html": [
       "<style>\n",
       ".list-inline {list-style: none; margin:0; padding: 0}\n",
       ".list-inline>li {display: inline-block}\n",
       ".list-inline>li:not(:last-child)::after {content: \"\\00b7\"; padding: 0 .5ex}\n",
       "</style>\n",
       "<ol class=list-inline><li>'A001_K562_WSTARRseq'</li><li>'comparison'</li><li>'comparison_archive231029'</li><li>'CRISPRi_FlowFISH'</li><li>'CRISPRi_Growth_K562_Gersbach'</li><li>'hic_intact_K562_deep'</li><li>'hic_intact_K562_ENCSR479XDG'</li><li>'KS91_K562_ASTARRseq'</li><li>'LentiMPRA_K562_Nadav'</li><li>'region'</li><li>'Tewhey_K562_TileMPRA'</li></ol>\n"
      ],
      "text/latex": [
       "\\begin{enumerate*}\n",
       "\\item 'A001\\_K562\\_WSTARRseq'\n",
       "\\item 'comparison'\n",
       "\\item 'comparison\\_archive231029'\n",
       "\\item 'CRISPRi\\_FlowFISH'\n",
       "\\item 'CRISPRi\\_Growth\\_K562\\_Gersbach'\n",
       "\\item 'hic\\_intact\\_K562\\_deep'\n",
       "\\item 'hic\\_intact\\_K562\\_ENCSR479XDG'\n",
       "\\item 'KS91\\_K562\\_ASTARRseq'\n",
       "\\item 'LentiMPRA\\_K562\\_Nadav'\n",
       "\\item 'region'\n",
       "\\item 'Tewhey\\_K562\\_TileMPRA'\n",
       "\\end{enumerate*}\n"
      ],
      "text/markdown": [
       "1. 'A001_K562_WSTARRseq'\n",
       "2. 'comparison'\n",
       "3. 'comparison_archive231029'\n",
       "4. 'CRISPRi_FlowFISH'\n",
       "5. 'CRISPRi_Growth_K562_Gersbach'\n",
       "6. 'hic_intact_K562_deep'\n",
       "7. 'hic_intact_K562_ENCSR479XDG'\n",
       "8. 'KS91_K562_ASTARRseq'\n",
       "9. 'LentiMPRA_K562_Nadav'\n",
       "10. 'region'\n",
       "11. 'Tewhey_K562_TileMPRA'\n",
       "\n",
       "\n"
      ],
      "text/plain": [
       " [1] \"A001_K562_WSTARRseq\"          \"comparison\"                  \n",
       " [3] \"comparison_archive231029\"     \"CRISPRi_FlowFISH\"            \n",
       " [5] \"CRISPRi_Growth_K562_Gersbach\" \"hic_intact_K562_deep\"        \n",
       " [7] \"hic_intact_K562_ENCSR479XDG\"  \"KS91_K562_ASTARRseq\"         \n",
       " [9] \"LentiMPRA_K562_Nadav\"         \"region\"                      \n",
       "[11] \"Tewhey_K562_TileMPRA\"        "
      ]
     },
     "metadata": {},
     "output_type": "display_data"
    }
   ],
   "source": [
    "dir(FD_RES)"
   ]
  },
  {
   "cell_type": "code",
   "execution_count": 5,
   "id": "26724a4f-dc5b-4be0-9229-1893009445d8",
   "metadata": {},
   "outputs": [
    {
     "name": "stdout",
     "output_type": "stream",
     "text": [
      "[1] \"matrix.raw.count.WGS.tsv\"\n",
      "[1] \"matrix.raw.cpm.WGS.tsv\"\n",
      "[1] \"metadata.raw.WGS.tsv\"\n",
      "[1] \"result.Log2FC.raw.cpm.WGS.tsv\"\n",
      "[1] \"result.Log2FC.raw.deseq.WGS.tsv\"\n",
      "[1] \"result.score.raw.cpm.WGS.tsv\"\n"
     ]
    }
   ],
   "source": [
    "PREFIX = \"KS91_K562_ASTARRseq\"\n",
    "FOLDER = \"coverage_astarrseq_peak_macs_input\"\n",
    "\n",
    "fdiry = file.path(FD_RES, PREFIX, FOLDER, \"summary\")\n",
    "for(txt in dir(fdiry)){print(txt)}"
   ]
  },
  {
   "cell_type": "code",
   "execution_count": 6,
   "id": "1f5a37ca-d1eb-46bc-915b-494861eac8cc",
   "metadata": {},
   "outputs": [],
   "source": [
    "PREFIX = \"KS91_K562_ASTARRseq\"\n",
    "FOLDER = \"coverage_astarrseq_peak_macs_input\"\n",
    "\n",
    "fdiry = file.path(FD_RES, PREFIX, FOLDER, \"summary\")\n",
    "\n",
    "fname = \"matrix.raw.count.WGS.tsv\"\n",
    "fpath = file.path(fdiry, fname)\n",
    "dat_count = read_tsv(fpath, show_col_types = FALSE)\n",
    "\n",
    "fname = \"metadata.raw.WGS.tsv\"\n",
    "fpath = file.path(fdiry, fname)\n",
    "dat_meta = read_tsv(fpath, show_col_types = FALSE)"
   ]
  },
  {
   "cell_type": "markdown",
   "id": "30e5a8e3-3ed4-47d8-9d2e-f2f9100bcb9d",
   "metadata": {},
   "source": [
    "**Arrange count matrix and metadata**"
   ]
  },
  {
   "cell_type": "code",
   "execution_count": 7,
   "id": "e6cb87ff-a54c-4a8b-8b93-68ad86be1f46",
   "metadata": {},
   "outputs": [],
   "source": [
    "dat_col = dat_meta  %>% \n",
    "    dplyr::select(Sample, Group) %>% \n",
    "    dplyr::rename(condition = Group) %>%\n",
    "    column_to_rownames(var = \"Sample\")\n",
    "\n",
    "dat_cnt = dat_count %>% \n",
    "    column_to_rownames(var = \"Peak\")\n",
    "\n",
    "dat_cnt[is.na(dat_cnt)] = 0"
   ]
  },
  {
   "cell_type": "markdown",
   "id": "cb0e6fd0-9391-4735-8e11-a9a200eefbce",
   "metadata": {},
   "source": [
    "**Show data**"
   ]
  },
  {
   "cell_type": "code",
   "execution_count": 8,
   "id": "94353fcc-30c9-447b-824e-6e3f6bac306f",
   "metadata": {},
   "outputs": [
    {
     "data": {
      "text/html": [
       "<table class=\"dataframe\">\n",
       "<caption>A data.frame: 6 × 10</caption>\n",
       "<thead>\n",
       "\t<tr><th></th><th scope=col>Input.rep1</th><th scope=col>Input.rep2</th><th scope=col>Input.rep3</th><th scope=col>Input.rep4</th><th scope=col>Input.rep5</th><th scope=col>Input.rep6</th><th scope=col>Output.rep1</th><th scope=col>Output.rep2</th><th scope=col>Output.rep3</th><th scope=col>Output.rep4</th></tr>\n",
       "\t<tr><th></th><th scope=col>&lt;dbl&gt;</th><th scope=col>&lt;dbl&gt;</th><th scope=col>&lt;dbl&gt;</th><th scope=col>&lt;dbl&gt;</th><th scope=col>&lt;dbl&gt;</th><th scope=col>&lt;dbl&gt;</th><th scope=col>&lt;dbl&gt;</th><th scope=col>&lt;dbl&gt;</th><th scope=col>&lt;dbl&gt;</th><th scope=col>&lt;dbl&gt;</th></tr>\n",
       "</thead>\n",
       "<tbody>\n",
       "\t<tr><th scope=row>chr1:100006256-100006880</th><td>121</td><td>176</td><td>180</td><td>155</td><td>147</td><td>152</td><td>10</td><td> 32</td><td> 24</td><td> 51</td></tr>\n",
       "\t<tr><th scope=row>chr1:100010437-100010915</th><td>103</td><td>122</td><td>125</td><td>146</td><td>123</td><td>119</td><td> 2</td><td>  9</td><td> 15</td><td> 28</td></tr>\n",
       "\t<tr><th scope=row>chr1:10002087-10003910</th><td>399</td><td>561</td><td>538</td><td>546</td><td>536</td><td>458</td><td>28</td><td> 77</td><td> 70</td><td>127</td></tr>\n",
       "\t<tr><th scope=row>chr1:100021298-100021629</th><td> 79</td><td>106</td><td>121</td><td>106</td><td> 96</td><td> 92</td><td> 2</td><td>  7</td><td> 12</td><td> 16</td></tr>\n",
       "\t<tr><th scope=row>chr1:100023727-100023976</th><td> 48</td><td> 72</td><td> 72</td><td> 68</td><td> 79</td><td> 57</td><td>11</td><td> 11</td><td>  7</td><td> 14</td></tr>\n",
       "\t<tr><th scope=row>chr1:100027983-100029702</th><td>480</td><td>611</td><td>744</td><td>697</td><td>676</td><td>573</td><td>37</td><td>108</td><td>110</td><td>165</td></tr>\n",
       "</tbody>\n",
       "</table>\n"
      ],
      "text/latex": [
       "A data.frame: 6 × 10\n",
       "\\begin{tabular}{r|llllllllll}\n",
       "  & Input.rep1 & Input.rep2 & Input.rep3 & Input.rep4 & Input.rep5 & Input.rep6 & Output.rep1 & Output.rep2 & Output.rep3 & Output.rep4\\\\\n",
       "  & <dbl> & <dbl> & <dbl> & <dbl> & <dbl> & <dbl> & <dbl> & <dbl> & <dbl> & <dbl>\\\\\n",
       "\\hline\n",
       "\tchr1:100006256-100006880 & 121 & 176 & 180 & 155 & 147 & 152 & 10 &  32 &  24 &  51\\\\\n",
       "\tchr1:100010437-100010915 & 103 & 122 & 125 & 146 & 123 & 119 &  2 &   9 &  15 &  28\\\\\n",
       "\tchr1:10002087-10003910 & 399 & 561 & 538 & 546 & 536 & 458 & 28 &  77 &  70 & 127\\\\\n",
       "\tchr1:100021298-100021629 &  79 & 106 & 121 & 106 &  96 &  92 &  2 &   7 &  12 &  16\\\\\n",
       "\tchr1:100023727-100023976 &  48 &  72 &  72 &  68 &  79 &  57 & 11 &  11 &   7 &  14\\\\\n",
       "\tchr1:100027983-100029702 & 480 & 611 & 744 & 697 & 676 & 573 & 37 & 108 & 110 & 165\\\\\n",
       "\\end{tabular}\n"
      ],
      "text/markdown": [
       "\n",
       "A data.frame: 6 × 10\n",
       "\n",
       "| <!--/--> | Input.rep1 &lt;dbl&gt; | Input.rep2 &lt;dbl&gt; | Input.rep3 &lt;dbl&gt; | Input.rep4 &lt;dbl&gt; | Input.rep5 &lt;dbl&gt; | Input.rep6 &lt;dbl&gt; | Output.rep1 &lt;dbl&gt; | Output.rep2 &lt;dbl&gt; | Output.rep3 &lt;dbl&gt; | Output.rep4 &lt;dbl&gt; |\n",
       "|---|---|---|---|---|---|---|---|---|---|---|\n",
       "| chr1:100006256-100006880 | 121 | 176 | 180 | 155 | 147 | 152 | 10 |  32 |  24 |  51 |\n",
       "| chr1:100010437-100010915 | 103 | 122 | 125 | 146 | 123 | 119 |  2 |   9 |  15 |  28 |\n",
       "| chr1:10002087-10003910 | 399 | 561 | 538 | 546 | 536 | 458 | 28 |  77 |  70 | 127 |\n",
       "| chr1:100021298-100021629 |  79 | 106 | 121 | 106 |  96 |  92 |  2 |   7 |  12 |  16 |\n",
       "| chr1:100023727-100023976 |  48 |  72 |  72 |  68 |  79 |  57 | 11 |  11 |   7 |  14 |\n",
       "| chr1:100027983-100029702 | 480 | 611 | 744 | 697 | 676 | 573 | 37 | 108 | 110 | 165 |\n",
       "\n"
      ],
      "text/plain": [
       "                         Input.rep1 Input.rep2 Input.rep3 Input.rep4 Input.rep5\n",
       "chr1:100006256-100006880 121        176        180        155        147       \n",
       "chr1:100010437-100010915 103        122        125        146        123       \n",
       "chr1:10002087-10003910   399        561        538        546        536       \n",
       "chr1:100021298-100021629  79        106        121        106         96       \n",
       "chr1:100023727-100023976  48         72         72         68         79       \n",
       "chr1:100027983-100029702 480        611        744        697        676       \n",
       "                         Input.rep6 Output.rep1 Output.rep2 Output.rep3\n",
       "chr1:100006256-100006880 152        10           32          24        \n",
       "chr1:100010437-100010915 119         2            9          15        \n",
       "chr1:10002087-10003910   458        28           77          70        \n",
       "chr1:100021298-100021629  92         2            7          12        \n",
       "chr1:100023727-100023976  57        11           11           7        \n",
       "chr1:100027983-100029702 573        37          108         110        \n",
       "                         Output.rep4\n",
       "chr1:100006256-100006880  51        \n",
       "chr1:100010437-100010915  28        \n",
       "chr1:10002087-10003910   127        \n",
       "chr1:100021298-100021629  16        \n",
       "chr1:100023727-100023976  14        \n",
       "chr1:100027983-100029702 165        "
      ]
     },
     "metadata": {},
     "output_type": "display_data"
    }
   ],
   "source": [
    "head(dat_cnt)"
   ]
  },
  {
   "cell_type": "code",
   "execution_count": 9,
   "id": "3b855e5e-b97a-42de-8bf4-abfe69a62f13",
   "metadata": {},
   "outputs": [
    {
     "data": {
      "text/html": [
       "<table class=\"dataframe\">\n",
       "<caption>A data.frame: 10 × 1</caption>\n",
       "<thead>\n",
       "\t<tr><th></th><th scope=col>condition</th></tr>\n",
       "\t<tr><th></th><th scope=col>&lt;chr&gt;</th></tr>\n",
       "</thead>\n",
       "<tbody>\n",
       "\t<tr><th scope=row>Input.rep1</th><td>Input </td></tr>\n",
       "\t<tr><th scope=row>Input.rep2</th><td>Input </td></tr>\n",
       "\t<tr><th scope=row>Input.rep3</th><td>Input </td></tr>\n",
       "\t<tr><th scope=row>Input.rep4</th><td>Input </td></tr>\n",
       "\t<tr><th scope=row>Input.rep5</th><td>Input </td></tr>\n",
       "\t<tr><th scope=row>Input.rep6</th><td>Input </td></tr>\n",
       "\t<tr><th scope=row>Output.rep1</th><td>Output</td></tr>\n",
       "\t<tr><th scope=row>Output.rep2</th><td>Output</td></tr>\n",
       "\t<tr><th scope=row>Output.rep3</th><td>Output</td></tr>\n",
       "\t<tr><th scope=row>Output.rep4</th><td>Output</td></tr>\n",
       "</tbody>\n",
       "</table>\n"
      ],
      "text/latex": [
       "A data.frame: 10 × 1\n",
       "\\begin{tabular}{r|l}\n",
       "  & condition\\\\\n",
       "  & <chr>\\\\\n",
       "\\hline\n",
       "\tInput.rep1 & Input \\\\\n",
       "\tInput.rep2 & Input \\\\\n",
       "\tInput.rep3 & Input \\\\\n",
       "\tInput.rep4 & Input \\\\\n",
       "\tInput.rep5 & Input \\\\\n",
       "\tInput.rep6 & Input \\\\\n",
       "\tOutput.rep1 & Output\\\\\n",
       "\tOutput.rep2 & Output\\\\\n",
       "\tOutput.rep3 & Output\\\\\n",
       "\tOutput.rep4 & Output\\\\\n",
       "\\end{tabular}\n"
      ],
      "text/markdown": [
       "\n",
       "A data.frame: 10 × 1\n",
       "\n",
       "| <!--/--> | condition &lt;chr&gt; |\n",
       "|---|---|\n",
       "| Input.rep1 | Input  |\n",
       "| Input.rep2 | Input  |\n",
       "| Input.rep3 | Input  |\n",
       "| Input.rep4 | Input  |\n",
       "| Input.rep5 | Input  |\n",
       "| Input.rep6 | Input  |\n",
       "| Output.rep1 | Output |\n",
       "| Output.rep2 | Output |\n",
       "| Output.rep3 | Output |\n",
       "| Output.rep4 | Output |\n",
       "\n"
      ],
      "text/plain": [
       "            condition\n",
       "Input.rep1  Input    \n",
       "Input.rep2  Input    \n",
       "Input.rep3  Input    \n",
       "Input.rep4  Input    \n",
       "Input.rep5  Input    \n",
       "Input.rep6  Input    \n",
       "Output.rep1 Output   \n",
       "Output.rep2 Output   \n",
       "Output.rep3 Output   \n",
       "Output.rep4 Output   "
      ]
     },
     "metadata": {},
     "output_type": "display_data"
    }
   ],
   "source": [
    "dat_col"
   ]
  },
  {
   "cell_type": "code",
   "execution_count": 10,
   "id": "910893f5-42e2-40bc-9752-8d8ec418cc5d",
   "metadata": {},
   "outputs": [
    {
     "name": "stdout",
     "output_type": "stream",
     "text": [
      "[1] TRUE\n",
      "[1] TRUE\n"
     ]
    }
   ],
   "source": [
    "print(all(rownames(dat_col) %in% colnames(dat_cnt)))\n",
    "print(all(rownames(dat_col) ==   colnames(dat_cnt)))"
   ]
  },
  {
   "cell_type": "markdown",
   "id": "d98f9db8-3a91-47f1-9229-4dff02268c7d",
   "metadata": {},
   "source": [
    "## Setup DESeq2"
   ]
  },
  {
   "cell_type": "code",
   "execution_count": 11,
   "id": "f59beb8f-0953-44a2-b1ad-8eea20850a45",
   "metadata": {},
   "outputs": [
    {
     "name": "stderr",
     "output_type": "stream",
     "text": [
      "converting counts to integer mode\n",
      "\n",
      "Warning message in DESeqDataSet(se, design = design, ignoreRank):\n",
      "“some variables in design formula are characters, converting to factors”\n"
     ]
    }
   ],
   "source": [
    "dds = DESeqDataSetFromMatrix(\n",
    "    countData = dat_cnt, \n",
    "    colData   = dat_col, \n",
    "    design    = ~condition)"
   ]
  },
  {
   "cell_type": "markdown",
   "id": "9d23d6b3-bdc1-491f-b07f-c609e8752f33",
   "metadata": {},
   "source": [
    "**Pre-filtering**"
   ]
  },
  {
   "cell_type": "code",
   "execution_count": 12,
   "id": "29b1a5fd-4ec9-4fcb-a2db-4e730f572a8f",
   "metadata": {},
   "outputs": [
    {
     "name": "stdout",
     "output_type": "stream",
     "text": [
      "Before filter: 246852 \n",
      "After  filter: 246850 \n"
     ]
    }
   ],
   "source": [
    "### remove the peaks which have < 10 reads\n",
    "cat(\"Before filter:\", nrow(dds), \"\\n\")\n",
    "dds = dds[rowSums(counts(dds)) >= 10,]\n",
    "cat(\"After  filter:\", nrow(dds), \"\\n\")\n",
    "\n",
    "### set control condition as reference\n",
    "dds$condition <- relevel(dds$condition, ref = \"Input\")"
   ]
  },
  {
   "cell_type": "markdown",
   "id": "1f09d0a5-73b0-4f67-8d2b-416888415d85",
   "metadata": {},
   "source": [
    "## Run DESeq2"
   ]
  },
  {
   "cell_type": "code",
   "execution_count": 13,
   "id": "4c545755-0be8-4ecd-8e0d-155c673faf7e",
   "metadata": {},
   "outputs": [
    {
     "name": "stderr",
     "output_type": "stream",
     "text": [
      "estimating size factors\n",
      "\n",
      "estimating dispersions\n",
      "\n",
      "gene-wise dispersion estimates\n",
      "\n",
      "mean-dispersion relationship\n",
      "\n",
      "final dispersion estimates\n",
      "\n",
      "fitting model and testing\n",
      "\n"
     ]
    }
   ],
   "source": [
    "dds = DESeq(dds)"
   ]
  },
  {
   "cell_type": "markdown",
   "id": "f19b9c2d-0c54-4cce-a71e-3aab6f9a4090",
   "metadata": {},
   "source": [
    "## Get results"
   ]
  },
  {
   "cell_type": "code",
   "execution_count": 14,
   "id": "bc2eafc8-1ee3-47bb-8df9-c209ee52f4e7",
   "metadata": {},
   "outputs": [
    {
     "data": {
      "text/html": [
       "<style>\n",
       ".list-inline {list-style: none; margin:0; padding: 0}\n",
       ".list-inline>li {display: inline-block}\n",
       ".list-inline>li:not(:last-child)::after {content: \"\\00b7\"; padding: 0 .5ex}\n",
       "</style>\n",
       "<ol class=list-inline><li>'Intercept'</li><li>'condition_Output_vs_Input'</li></ol>\n"
      ],
      "text/latex": [
       "\\begin{enumerate*}\n",
       "\\item 'Intercept'\n",
       "\\item 'condition\\_Output\\_vs\\_Input'\n",
       "\\end{enumerate*}\n"
      ],
      "text/markdown": [
       "1. 'Intercept'\n",
       "2. 'condition_Output_vs_Input'\n",
       "\n",
       "\n"
      ],
      "text/plain": [
       "[1] \"Intercept\"                 \"condition_Output_vs_Input\""
      ]
     },
     "metadata": {},
     "output_type": "display_data"
    }
   ],
   "source": [
    "resultsNames(dds)"
   ]
  },
  {
   "cell_type": "code",
   "execution_count": 15,
   "id": "e09a1722-3140-43d2-bbf5-dcdd0c3ce409",
   "metadata": {},
   "outputs": [
    {
     "name": "stdout",
     "output_type": "stream",
     "text": [
      "After Deseq2.results: 246850 \n"
     ]
    },
    {
     "data": {
      "text/html": [
       "<table class=\"dataframe\">\n",
       "<caption>A data.frame: 6 × 7</caption>\n",
       "<thead>\n",
       "\t<tr><th></th><th scope=col>Peak</th><th scope=col>baseMean</th><th scope=col>log2FoldChange</th><th scope=col>lfcSE</th><th scope=col>stat</th><th scope=col>pvalue</th><th scope=col>padj</th></tr>\n",
       "\t<tr><th></th><th scope=col>&lt;chr&gt;</th><th scope=col>&lt;dbl&gt;</th><th scope=col>&lt;dbl&gt;</th><th scope=col>&lt;dbl&gt;</th><th scope=col>&lt;dbl&gt;</th><th scope=col>&lt;dbl&gt;</th><th scope=col>&lt;dbl&gt;</th></tr>\n",
       "</thead>\n",
       "<tbody>\n",
       "\t<tr><th scope=row>1</th><td>chr1:100006256-100006880</td><td> 74.39238</td><td>-0.01311792</td><td>0.15512423</td><td>-0.08456397</td><td>9.326080e-01</td><td>0.9510236543</td></tr>\n",
       "\t<tr><th scope=row>2</th><td>chr1:100010437-100010915</td><td> 48.25931</td><td>-0.80687947</td><td>0.22174651</td><td>-3.63874709</td><td>2.739677e-04</td><td>0.0008947519</td></tr>\n",
       "\t<tr><th scope=row>3</th><td>chr1:10002087-10003910  </td><td>224.35927</td><td>-0.34892859</td><td>0.09743886</td><td>-3.58100041</td><td>3.422811e-04</td><td>0.0010926173</td></tr>\n",
       "\t<tr><th scope=row>4</th><td>chr1:100021298-100021629</td><td> 38.13434</td><td>-1.03799571</td><td>0.25401013</td><td>-4.08643436</td><td>4.380534e-05</td><td>0.0001707736</td></tr>\n",
       "\t<tr><th scope=row>5</th><td>chr1:100023727-100023976</td><td> 32.62049</td><td>-0.19100207</td><td>0.25625467</td><td>-0.74536036</td><td>4.560539e-01</td><td>0.5497617125</td></tr>\n",
       "\t<tr><th scope=row>6</th><td>chr1:100027983-100029702</td><td>290.98442</td><td>-0.18001582</td><td>0.09610434</td><td>-1.87312902</td><td>6.105057e-02</td><td>0.1032752224</td></tr>\n",
       "</tbody>\n",
       "</table>\n"
      ],
      "text/latex": [
       "A data.frame: 6 × 7\n",
       "\\begin{tabular}{r|lllllll}\n",
       "  & Peak & baseMean & log2FoldChange & lfcSE & stat & pvalue & padj\\\\\n",
       "  & <chr> & <dbl> & <dbl> & <dbl> & <dbl> & <dbl> & <dbl>\\\\\n",
       "\\hline\n",
       "\t1 & chr1:100006256-100006880 &  74.39238 & -0.01311792 & 0.15512423 & -0.08456397 & 9.326080e-01 & 0.9510236543\\\\\n",
       "\t2 & chr1:100010437-100010915 &  48.25931 & -0.80687947 & 0.22174651 & -3.63874709 & 2.739677e-04 & 0.0008947519\\\\\n",
       "\t3 & chr1:10002087-10003910   & 224.35927 & -0.34892859 & 0.09743886 & -3.58100041 & 3.422811e-04 & 0.0010926173\\\\\n",
       "\t4 & chr1:100021298-100021629 &  38.13434 & -1.03799571 & 0.25401013 & -4.08643436 & 4.380534e-05 & 0.0001707736\\\\\n",
       "\t5 & chr1:100023727-100023976 &  32.62049 & -0.19100207 & 0.25625467 & -0.74536036 & 4.560539e-01 & 0.5497617125\\\\\n",
       "\t6 & chr1:100027983-100029702 & 290.98442 & -0.18001582 & 0.09610434 & -1.87312902 & 6.105057e-02 & 0.1032752224\\\\\n",
       "\\end{tabular}\n"
      ],
      "text/markdown": [
       "\n",
       "A data.frame: 6 × 7\n",
       "\n",
       "| <!--/--> | Peak &lt;chr&gt; | baseMean &lt;dbl&gt; | log2FoldChange &lt;dbl&gt; | lfcSE &lt;dbl&gt; | stat &lt;dbl&gt; | pvalue &lt;dbl&gt; | padj &lt;dbl&gt; |\n",
       "|---|---|---|---|---|---|---|---|\n",
       "| 1 | chr1:100006256-100006880 |  74.39238 | -0.01311792 | 0.15512423 | -0.08456397 | 9.326080e-01 | 0.9510236543 |\n",
       "| 2 | chr1:100010437-100010915 |  48.25931 | -0.80687947 | 0.22174651 | -3.63874709 | 2.739677e-04 | 0.0008947519 |\n",
       "| 3 | chr1:10002087-10003910   | 224.35927 | -0.34892859 | 0.09743886 | -3.58100041 | 3.422811e-04 | 0.0010926173 |\n",
       "| 4 | chr1:100021298-100021629 |  38.13434 | -1.03799571 | 0.25401013 | -4.08643436 | 4.380534e-05 | 0.0001707736 |\n",
       "| 5 | chr1:100023727-100023976 |  32.62049 | -0.19100207 | 0.25625467 | -0.74536036 | 4.560539e-01 | 0.5497617125 |\n",
       "| 6 | chr1:100027983-100029702 | 290.98442 | -0.18001582 | 0.09610434 | -1.87312902 | 6.105057e-02 | 0.1032752224 |\n",
       "\n"
      ],
      "text/plain": [
       "  Peak                     baseMean  log2FoldChange lfcSE      stat       \n",
       "1 chr1:100006256-100006880  74.39238 -0.01311792    0.15512423 -0.08456397\n",
       "2 chr1:100010437-100010915  48.25931 -0.80687947    0.22174651 -3.63874709\n",
       "3 chr1:10002087-10003910   224.35927 -0.34892859    0.09743886 -3.58100041\n",
       "4 chr1:100021298-100021629  38.13434 -1.03799571    0.25401013 -4.08643436\n",
       "5 chr1:100023727-100023976  32.62049 -0.19100207    0.25625467 -0.74536036\n",
       "6 chr1:100027983-100029702 290.98442 -0.18001582    0.09610434 -1.87312902\n",
       "  pvalue       padj        \n",
       "1 9.326080e-01 0.9510236543\n",
       "2 2.739677e-04 0.0008947519\n",
       "3 3.422811e-04 0.0010926173\n",
       "4 4.380534e-05 0.0001707736\n",
       "5 4.560539e-01 0.5497617125\n",
       "6 6.105057e-02 0.1032752224"
      ]
     },
     "metadata": {},
     "output_type": "display_data"
    }
   ],
   "source": [
    "res = results(dds)\n",
    "dat = as.data.frame(res) %>% rownames_to_column(var = \"Peak\")\n",
    "\n",
    "cat(\"After Deseq2.results:\", nrow(dat), \"\\n\")\n",
    "head(dat)"
   ]
  },
  {
   "cell_type": "markdown",
   "id": "6bc8008d-2f2d-4a8e-8806-d7d0a1717323",
   "metadata": {},
   "source": [
    "```\n",
    "Before filter:         246852 \n",
    "After  filter:         246850\n",
    "After  Deseq2.results: 246850\n",
    "```"
   ]
  },
  {
   "cell_type": "code",
   "execution_count": 17,
   "id": "7c0382b4-8172-4065-a576-6f126113289a",
   "metadata": {},
   "outputs": [
    {
     "data": {
      "text/html": [
       "<dl>\n",
       "\t<dt>$filterThreshold</dt>\n",
       "\t\t<dd><strong>0%:</strong> 17.6119910726172</dd>\n",
       "\t<dt>$filterTheta</dt>\n",
       "\t\t<dd>0</dd>\n",
       "\t<dt>$filterNumRej</dt>\n",
       "\t\t<dd><table class=\"dataframe\">\n",
       "<caption>A data.frame: 50 × 2</caption>\n",
       "<thead>\n",
       "\t<tr><th></th><th scope=col>theta</th><th scope=col>numRej</th></tr>\n",
       "\t<tr><th></th><th scope=col>&lt;dbl&gt;</th><th scope=col>&lt;dbl&gt;</th></tr>\n",
       "</thead>\n",
       "<tbody>\n",
       "\t<tr><th scope=row>0%</th><td>0.00000000</td><td>145092</td></tr>\n",
       "\t<tr><th scope=row>1.938776%</th><td>0.01938776</td><td>142061</td></tr>\n",
       "\t<tr><th scope=row>3.877551%</th><td>0.03877551</td><td>140279</td></tr>\n",
       "\t<tr><th scope=row>5.816327%</th><td>0.05816327</td><td>138486</td></tr>\n",
       "\t<tr><th scope=row>7.755102%</th><td>0.07755102</td><td>136622</td></tr>\n",
       "\t<tr><th scope=row>9.693878%</th><td>0.09693878</td><td>134697</td></tr>\n",
       "\t<tr><th scope=row>11.63265%</th><td>0.11632653</td><td>132734</td></tr>\n",
       "\t<tr><th scope=row>13.57143%</th><td>0.13571429</td><td>130672</td></tr>\n",
       "\t<tr><th scope=row>15.5102%</th><td>0.15510204</td><td>128617</td></tr>\n",
       "\t<tr><th scope=row>17.44898%</th><td>0.17448980</td><td>126512</td></tr>\n",
       "\t<tr><th scope=row>19.38776%</th><td>0.19387755</td><td>124401</td></tr>\n",
       "\t<tr><th scope=row>21.32653%</th><td>0.21326531</td><td>122209</td></tr>\n",
       "\t<tr><th scope=row>23.26531%</th><td>0.23265306</td><td>119998</td></tr>\n",
       "\t<tr><th scope=row>25.20408%</th><td>0.25204082</td><td>117718</td></tr>\n",
       "\t<tr><th scope=row>27.14286%</th><td>0.27142857</td><td>115372</td></tr>\n",
       "\t<tr><th scope=row>29.08163%</th><td>0.29081633</td><td>113045</td></tr>\n",
       "\t<tr><th scope=row>31.02041%</th><td>0.31020408</td><td>110682</td></tr>\n",
       "\t<tr><th scope=row>32.95918%</th><td>0.32959184</td><td>108261</td></tr>\n",
       "\t<tr><th scope=row>34.89796%</th><td>0.34897959</td><td>105836</td></tr>\n",
       "\t<tr><th scope=row>36.83673%</th><td>0.36836735</td><td>103338</td></tr>\n",
       "\t<tr><th scope=row>38.77551%</th><td>0.38775510</td><td>100868</td></tr>\n",
       "\t<tr><th scope=row>40.71429%</th><td>0.40714286</td><td> 98292</td></tr>\n",
       "\t<tr><th scope=row>42.65306%</th><td>0.42653061</td><td> 95737</td></tr>\n",
       "\t<tr><th scope=row>44.59184%</th><td>0.44591837</td><td> 93118</td></tr>\n",
       "\t<tr><th scope=row>46.53061%</th><td>0.46530612</td><td> 90474</td></tr>\n",
       "\t<tr><th scope=row>48.46939%</th><td>0.48469388</td><td> 87836</td></tr>\n",
       "\t<tr><th scope=row>50.40816%</th><td>0.50408163</td><td> 85189</td></tr>\n",
       "\t<tr><th scope=row>52.34694%</th><td>0.52346939</td><td> 82471</td></tr>\n",
       "\t<tr><th scope=row>54.28571%</th><td>0.54285714</td><td> 79711</td></tr>\n",
       "\t<tr><th scope=row>56.22449%</th><td>0.56224490</td><td> 76992</td></tr>\n",
       "\t<tr><th scope=row>58.16327%</th><td>0.58163265</td><td> 74194</td></tr>\n",
       "\t<tr><th scope=row>60.10204%</th><td>0.60102041</td><td> 71294</td></tr>\n",
       "\t<tr><th scope=row>62.04082%</th><td>0.62040816</td><td> 68446</td></tr>\n",
       "\t<tr><th scope=row>63.97959%</th><td>0.63979592</td><td> 65501</td></tr>\n",
       "\t<tr><th scope=row>65.91837%</th><td>0.65918367</td><td> 62566</td></tr>\n",
       "\t<tr><th scope=row>67.85714%</th><td>0.67857143</td><td> 59563</td></tr>\n",
       "\t<tr><th scope=row>69.79592%</th><td>0.69795918</td><td> 56514</td></tr>\n",
       "\t<tr><th scope=row>71.73469%</th><td>0.71734694</td><td> 53456</td></tr>\n",
       "\t<tr><th scope=row>73.67347%</th><td>0.73673469</td><td> 50326</td></tr>\n",
       "\t<tr><th scope=row>75.61224%</th><td>0.75612245</td><td> 47134</td></tr>\n",
       "\t<tr><th scope=row>77.55102%</th><td>0.77551020</td><td> 43866</td></tr>\n",
       "\t<tr><th scope=row>79.4898%</th><td>0.79489796</td><td> 40579</td></tr>\n",
       "\t<tr><th scope=row>81.42857%</th><td>0.81428571</td><td> 37279</td></tr>\n",
       "\t<tr><th scope=row>83.36735%</th><td>0.83367347</td><td> 33863</td></tr>\n",
       "\t<tr><th scope=row>85.30612%</th><td>0.85306122</td><td> 30321</td></tr>\n",
       "\t<tr><th scope=row>87.2449%</th><td>0.87244898</td><td> 26726</td></tr>\n",
       "\t<tr><th scope=row>89.18367%</th><td>0.89183673</td><td> 22987</td></tr>\n",
       "\t<tr><th scope=row>91.12245%</th><td>0.91122449</td><td> 19049</td></tr>\n",
       "\t<tr><th scope=row>93.06122%</th><td>0.93061224</td><td> 14943</td></tr>\n",
       "\t<tr><th scope=row>95%</th><td>0.95000000</td><td> 10796</td></tr>\n",
       "</tbody>\n",
       "</table>\n",
       "</dd>\n",
       "\t<dt>$lo.fit</dt>\n",
       "\t\t<dd><dl>\n",
       "\t<dt>$x</dt>\n",
       "\t\t<dd><style>\n",
       ".list-inline {list-style: none; margin:0; padding: 0}\n",
       ".list-inline>li {display: inline-block}\n",
       ".list-inline>li:not(:last-child)::after {content: \"\\00b7\"; padding: 0 .5ex}\n",
       "</style>\n",
       "<ol class=list-inline><li>0</li><li>0.0193877551020408</li><li>0.0387755102040816</li><li>0.0581632653061225</li><li>0.0775510204081633</li><li>0.0969387755102041</li><li>0.116326530612245</li><li>0.135714285714286</li><li>0.155102040816327</li><li>0.174489795918367</li><li>0.193877551020408</li><li>0.213265306122449</li><li>0.23265306122449</li><li>0.252040816326531</li><li>0.271428571428571</li><li>0.290816326530612</li><li>0.310204081632653</li><li>0.329591836734694</li><li>0.348979591836735</li><li>0.368367346938775</li><li>0.387755102040816</li><li>0.407142857142857</li><li>0.426530612244898</li><li>0.445918367346939</li><li>0.46530612244898</li><li>0.48469387755102</li><li>0.504081632653061</li><li>0.523469387755102</li><li>0.542857142857143</li><li>0.562244897959184</li><li>0.581632653061224</li><li>0.601020408163265</li><li>0.620408163265306</li><li>0.639795918367347</li><li>0.659183673469388</li><li>0.678571428571429</li><li>0.697959183673469</li><li>0.71734693877551</li><li>0.736734693877551</li><li>0.756122448979592</li><li>0.775510204081633</li><li>0.794897959183673</li><li>0.814285714285714</li><li>0.833673469387755</li><li>0.853061224489796</li><li>0.872448979591837</li><li>0.891836734693878</li><li>0.911224489795918</li><li>0.930612244897959</li><li>0.95</li></ol>\n",
       "</dd>\n",
       "\t<dt>$y</dt>\n",
       "\t\t<dd><style>\n",
       ".list-inline {list-style: none; margin:0; padding: 0}\n",
       ".list-inline>li {display: inline-block}\n",
       ".list-inline>li:not(:last-child)::after {content: \"\\00b7\"; padding: 0 .5ex}\n",
       "</style>\n",
       "<ol class=list-inline><li>144024.673970015</li><li>142161.172347313</li><li>140290.059954336</li><li>138411.309563524</li><li>136526.695033989</li><li>134597.185504875</li><li>132627.960747439</li><li>130614.159307274</li><li>128555.86710571</li><li>126455.08529414</li><li>124312.075817471</li><li>122127.51104257</li><li>119902.599387546</li><li>117637.864084982</li><li>115333.433710722</li><li>112991.488743529</li><li>110614.72240911</li><li>108206.748715046</li><li>105766.881217971</li><li>103293.211133527</li><li>100785.073803878</li><li>98244.203571849</li><li>95673.2804597698</li><li>93075.2273729566</li><li>90449.2479303523</li><li>87796.2568237566</li><li>85118.4830454272</li><li>82414.1429555527</li><li>79677.1512254688</li><li>76904.3388509569</li><li>74095.2646697036</li><li>71251.3392393529</li><li>68369.5114820489</li><li>65446.9811410649</li><li>62486.5887355189</li><li>59488.3896344583</li><li>56445.8078387372</li><li>53354.9464445324</li><li>50216.5800103654</li><li>47032.4220089741</li><li>43798.3437437671</li><li>40507.3504062254</li><li>37153.1672656335</li><li>33687.3817564264</li><li>30090.7301048609</li><li>26437.8149837781</li><li>22705.7147070529</li><li>18969.5823773203</li><li>15220.6505941356</li><li>11455.9179366688</li></ol>\n",
       "</dd>\n",
       "</dl>\n",
       "</dd>\n",
       "\t<dt>$alpha</dt>\n",
       "\t\t<dd>0.1</dd>\n",
       "\t<dt>$lfcThreshold</dt>\n",
       "\t\t<dd>0</dd>\n",
       "</dl>\n"
      ],
      "text/latex": [
       "\\begin{description}\n",
       "\\item[\\$filterThreshold] \\textbf{0\\textbackslash{}\\%:} 17.6119910726172\n",
       "\\item[\\$filterTheta] 0\n",
       "\\item[\\$filterNumRej] A data.frame: 50 × 2\n",
       "\\begin{tabular}{r|ll}\n",
       "  & theta & numRej\\\\\n",
       "  & <dbl> & <dbl>\\\\\n",
       "\\hline\n",
       "\t0\\% & 0.00000000 & 145092\\\\\n",
       "\t1.938776\\% & 0.01938776 & 142061\\\\\n",
       "\t3.877551\\% & 0.03877551 & 140279\\\\\n",
       "\t5.816327\\% & 0.05816327 & 138486\\\\\n",
       "\t7.755102\\% & 0.07755102 & 136622\\\\\n",
       "\t9.693878\\% & 0.09693878 & 134697\\\\\n",
       "\t11.63265\\% & 0.11632653 & 132734\\\\\n",
       "\t13.57143\\% & 0.13571429 & 130672\\\\\n",
       "\t15.5102\\% & 0.15510204 & 128617\\\\\n",
       "\t17.44898\\% & 0.17448980 & 126512\\\\\n",
       "\t19.38776\\% & 0.19387755 & 124401\\\\\n",
       "\t21.32653\\% & 0.21326531 & 122209\\\\\n",
       "\t23.26531\\% & 0.23265306 & 119998\\\\\n",
       "\t25.20408\\% & 0.25204082 & 117718\\\\\n",
       "\t27.14286\\% & 0.27142857 & 115372\\\\\n",
       "\t29.08163\\% & 0.29081633 & 113045\\\\\n",
       "\t31.02041\\% & 0.31020408 & 110682\\\\\n",
       "\t32.95918\\% & 0.32959184 & 108261\\\\\n",
       "\t34.89796\\% & 0.34897959 & 105836\\\\\n",
       "\t36.83673\\% & 0.36836735 & 103338\\\\\n",
       "\t38.77551\\% & 0.38775510 & 100868\\\\\n",
       "\t40.71429\\% & 0.40714286 &  98292\\\\\n",
       "\t42.65306\\% & 0.42653061 &  95737\\\\\n",
       "\t44.59184\\% & 0.44591837 &  93118\\\\\n",
       "\t46.53061\\% & 0.46530612 &  90474\\\\\n",
       "\t48.46939\\% & 0.48469388 &  87836\\\\\n",
       "\t50.40816\\% & 0.50408163 &  85189\\\\\n",
       "\t52.34694\\% & 0.52346939 &  82471\\\\\n",
       "\t54.28571\\% & 0.54285714 &  79711\\\\\n",
       "\t56.22449\\% & 0.56224490 &  76992\\\\\n",
       "\t58.16327\\% & 0.58163265 &  74194\\\\\n",
       "\t60.10204\\% & 0.60102041 &  71294\\\\\n",
       "\t62.04082\\% & 0.62040816 &  68446\\\\\n",
       "\t63.97959\\% & 0.63979592 &  65501\\\\\n",
       "\t65.91837\\% & 0.65918367 &  62566\\\\\n",
       "\t67.85714\\% & 0.67857143 &  59563\\\\\n",
       "\t69.79592\\% & 0.69795918 &  56514\\\\\n",
       "\t71.73469\\% & 0.71734694 &  53456\\\\\n",
       "\t73.67347\\% & 0.73673469 &  50326\\\\\n",
       "\t75.61224\\% & 0.75612245 &  47134\\\\\n",
       "\t77.55102\\% & 0.77551020 &  43866\\\\\n",
       "\t79.4898\\% & 0.79489796 &  40579\\\\\n",
       "\t81.42857\\% & 0.81428571 &  37279\\\\\n",
       "\t83.36735\\% & 0.83367347 &  33863\\\\\n",
       "\t85.30612\\% & 0.85306122 &  30321\\\\\n",
       "\t87.2449\\% & 0.87244898 &  26726\\\\\n",
       "\t89.18367\\% & 0.89183673 &  22987\\\\\n",
       "\t91.12245\\% & 0.91122449 &  19049\\\\\n",
       "\t93.06122\\% & 0.93061224 &  14943\\\\\n",
       "\t95\\% & 0.95000000 &  10796\\\\\n",
       "\\end{tabular}\n",
       "\n",
       "\\item[\\$lo.fit] \\begin{description}\n",
       "\\item[\\$x] \\begin{enumerate*}\n",
       "\\item 0\n",
       "\\item 0.0193877551020408\n",
       "\\item 0.0387755102040816\n",
       "\\item 0.0581632653061225\n",
       "\\item 0.0775510204081633\n",
       "\\item 0.0969387755102041\n",
       "\\item 0.116326530612245\n",
       "\\item 0.135714285714286\n",
       "\\item 0.155102040816327\n",
       "\\item 0.174489795918367\n",
       "\\item 0.193877551020408\n",
       "\\item 0.213265306122449\n",
       "\\item 0.23265306122449\n",
       "\\item 0.252040816326531\n",
       "\\item 0.271428571428571\n",
       "\\item 0.290816326530612\n",
       "\\item 0.310204081632653\n",
       "\\item 0.329591836734694\n",
       "\\item 0.348979591836735\n",
       "\\item 0.368367346938775\n",
       "\\item 0.387755102040816\n",
       "\\item 0.407142857142857\n",
       "\\item 0.426530612244898\n",
       "\\item 0.445918367346939\n",
       "\\item 0.46530612244898\n",
       "\\item 0.48469387755102\n",
       "\\item 0.504081632653061\n",
       "\\item 0.523469387755102\n",
       "\\item 0.542857142857143\n",
       "\\item 0.562244897959184\n",
       "\\item 0.581632653061224\n",
       "\\item 0.601020408163265\n",
       "\\item 0.620408163265306\n",
       "\\item 0.639795918367347\n",
       "\\item 0.659183673469388\n",
       "\\item 0.678571428571429\n",
       "\\item 0.697959183673469\n",
       "\\item 0.71734693877551\n",
       "\\item 0.736734693877551\n",
       "\\item 0.756122448979592\n",
       "\\item 0.775510204081633\n",
       "\\item 0.794897959183673\n",
       "\\item 0.814285714285714\n",
       "\\item 0.833673469387755\n",
       "\\item 0.853061224489796\n",
       "\\item 0.872448979591837\n",
       "\\item 0.891836734693878\n",
       "\\item 0.911224489795918\n",
       "\\item 0.930612244897959\n",
       "\\item 0.95\n",
       "\\end{enumerate*}\n",
       "\n",
       "\\item[\\$y] \\begin{enumerate*}\n",
       "\\item 144024.673970015\n",
       "\\item 142161.172347313\n",
       "\\item 140290.059954336\n",
       "\\item 138411.309563524\n",
       "\\item 136526.695033989\n",
       "\\item 134597.185504875\n",
       "\\item 132627.960747439\n",
       "\\item 130614.159307274\n",
       "\\item 128555.86710571\n",
       "\\item 126455.08529414\n",
       "\\item 124312.075817471\n",
       "\\item 122127.51104257\n",
       "\\item 119902.599387546\n",
       "\\item 117637.864084982\n",
       "\\item 115333.433710722\n",
       "\\item 112991.488743529\n",
       "\\item 110614.72240911\n",
       "\\item 108206.748715046\n",
       "\\item 105766.881217971\n",
       "\\item 103293.211133527\n",
       "\\item 100785.073803878\n",
       "\\item 98244.203571849\n",
       "\\item 95673.2804597698\n",
       "\\item 93075.2273729566\n",
       "\\item 90449.2479303523\n",
       "\\item 87796.2568237566\n",
       "\\item 85118.4830454272\n",
       "\\item 82414.1429555527\n",
       "\\item 79677.1512254688\n",
       "\\item 76904.3388509569\n",
       "\\item 74095.2646697036\n",
       "\\item 71251.3392393529\n",
       "\\item 68369.5114820489\n",
       "\\item 65446.9811410649\n",
       "\\item 62486.5887355189\n",
       "\\item 59488.3896344583\n",
       "\\item 56445.8078387372\n",
       "\\item 53354.9464445324\n",
       "\\item 50216.5800103654\n",
       "\\item 47032.4220089741\n",
       "\\item 43798.3437437671\n",
       "\\item 40507.3504062254\n",
       "\\item 37153.1672656335\n",
       "\\item 33687.3817564264\n",
       "\\item 30090.7301048609\n",
       "\\item 26437.8149837781\n",
       "\\item 22705.7147070529\n",
       "\\item 18969.5823773203\n",
       "\\item 15220.6505941356\n",
       "\\item 11455.9179366688\n",
       "\\end{enumerate*}\n",
       "\n",
       "\\end{description}\n",
       "\n",
       "\\item[\\$alpha] 0.1\n",
       "\\item[\\$lfcThreshold] 0\n",
       "\\end{description}\n"
      ],
      "text/markdown": [
       "$filterThreshold\n",
       ":   **0%:** 17.6119910726172\n",
       "$filterTheta\n",
       ":   0\n",
       "$filterNumRej\n",
       ":   \n",
       "A data.frame: 50 × 2\n",
       "\n",
       "| <!--/--> | theta &lt;dbl&gt; | numRej &lt;dbl&gt; |\n",
       "|---|---|---|\n",
       "| 0% | 0.00000000 | 145092 |\n",
       "| 1.938776% | 0.01938776 | 142061 |\n",
       "| 3.877551% | 0.03877551 | 140279 |\n",
       "| 5.816327% | 0.05816327 | 138486 |\n",
       "| 7.755102% | 0.07755102 | 136622 |\n",
       "| 9.693878% | 0.09693878 | 134697 |\n",
       "| 11.63265% | 0.11632653 | 132734 |\n",
       "| 13.57143% | 0.13571429 | 130672 |\n",
       "| 15.5102% | 0.15510204 | 128617 |\n",
       "| 17.44898% | 0.17448980 | 126512 |\n",
       "| 19.38776% | 0.19387755 | 124401 |\n",
       "| 21.32653% | 0.21326531 | 122209 |\n",
       "| 23.26531% | 0.23265306 | 119998 |\n",
       "| 25.20408% | 0.25204082 | 117718 |\n",
       "| 27.14286% | 0.27142857 | 115372 |\n",
       "| 29.08163% | 0.29081633 | 113045 |\n",
       "| 31.02041% | 0.31020408 | 110682 |\n",
       "| 32.95918% | 0.32959184 | 108261 |\n",
       "| 34.89796% | 0.34897959 | 105836 |\n",
       "| 36.83673% | 0.36836735 | 103338 |\n",
       "| 38.77551% | 0.38775510 | 100868 |\n",
       "| 40.71429% | 0.40714286 |  98292 |\n",
       "| 42.65306% | 0.42653061 |  95737 |\n",
       "| 44.59184% | 0.44591837 |  93118 |\n",
       "| 46.53061% | 0.46530612 |  90474 |\n",
       "| 48.46939% | 0.48469388 |  87836 |\n",
       "| 50.40816% | 0.50408163 |  85189 |\n",
       "| 52.34694% | 0.52346939 |  82471 |\n",
       "| 54.28571% | 0.54285714 |  79711 |\n",
       "| 56.22449% | 0.56224490 |  76992 |\n",
       "| 58.16327% | 0.58163265 |  74194 |\n",
       "| 60.10204% | 0.60102041 |  71294 |\n",
       "| 62.04082% | 0.62040816 |  68446 |\n",
       "| 63.97959% | 0.63979592 |  65501 |\n",
       "| 65.91837% | 0.65918367 |  62566 |\n",
       "| 67.85714% | 0.67857143 |  59563 |\n",
       "| 69.79592% | 0.69795918 |  56514 |\n",
       "| 71.73469% | 0.71734694 |  53456 |\n",
       "| 73.67347% | 0.73673469 |  50326 |\n",
       "| 75.61224% | 0.75612245 |  47134 |\n",
       "| 77.55102% | 0.77551020 |  43866 |\n",
       "| 79.4898% | 0.79489796 |  40579 |\n",
       "| 81.42857% | 0.81428571 |  37279 |\n",
       "| 83.36735% | 0.83367347 |  33863 |\n",
       "| 85.30612% | 0.85306122 |  30321 |\n",
       "| 87.2449% | 0.87244898 |  26726 |\n",
       "| 89.18367% | 0.89183673 |  22987 |\n",
       "| 91.12245% | 0.91122449 |  19049 |\n",
       "| 93.06122% | 0.93061224 |  14943 |\n",
       "| 95% | 0.95000000 |  10796 |\n",
       "\n",
       "\n",
       "$lo.fit\n",
       ":   $x\n",
       ":   1. 0\n",
       "2. 0.0193877551020408\n",
       "3. 0.0387755102040816\n",
       "4. 0.0581632653061225\n",
       "5. 0.0775510204081633\n",
       "6. 0.0969387755102041\n",
       "7. 0.116326530612245\n",
       "8. 0.135714285714286\n",
       "9. 0.155102040816327\n",
       "10. 0.174489795918367\n",
       "11. 0.193877551020408\n",
       "12. 0.213265306122449\n",
       "13. 0.23265306122449\n",
       "14. 0.252040816326531\n",
       "15. 0.271428571428571\n",
       "16. 0.290816326530612\n",
       "17. 0.310204081632653\n",
       "18. 0.329591836734694\n",
       "19. 0.348979591836735\n",
       "20. 0.368367346938775\n",
       "21. 0.387755102040816\n",
       "22. 0.407142857142857\n",
       "23. 0.426530612244898\n",
       "24. 0.445918367346939\n",
       "25. 0.46530612244898\n",
       "26. 0.48469387755102\n",
       "27. 0.504081632653061\n",
       "28. 0.523469387755102\n",
       "29. 0.542857142857143\n",
       "30. 0.562244897959184\n",
       "31. 0.581632653061224\n",
       "32. 0.601020408163265\n",
       "33. 0.620408163265306\n",
       "34. 0.639795918367347\n",
       "35. 0.659183673469388\n",
       "36. 0.678571428571429\n",
       "37. 0.697959183673469\n",
       "38. 0.71734693877551\n",
       "39. 0.736734693877551\n",
       "40. 0.756122448979592\n",
       "41. 0.775510204081633\n",
       "42. 0.794897959183673\n",
       "43. 0.814285714285714\n",
       "44. 0.833673469387755\n",
       "45. 0.853061224489796\n",
       "46. 0.872448979591837\n",
       "47. 0.891836734693878\n",
       "48. 0.911224489795918\n",
       "49. 0.930612244897959\n",
       "50. 0.95\n",
       "\n",
       "\n",
       "\n",
       "$y\n",
       ":   1. 144024.673970015\n",
       "2. 142161.172347313\n",
       "3. 140290.059954336\n",
       "4. 138411.309563524\n",
       "5. 136526.695033989\n",
       "6. 134597.185504875\n",
       "7. 132627.960747439\n",
       "8. 130614.159307274\n",
       "9. 128555.86710571\n",
       "10. 126455.08529414\n",
       "11. 124312.075817471\n",
       "12. 122127.51104257\n",
       "13. 119902.599387546\n",
       "14. 117637.864084982\n",
       "15. 115333.433710722\n",
       "16. 112991.488743529\n",
       "17. 110614.72240911\n",
       "18. 108206.748715046\n",
       "19. 105766.881217971\n",
       "20. 103293.211133527\n",
       "21. 100785.073803878\n",
       "22. 98244.203571849\n",
       "23. 95673.2804597698\n",
       "24. 93075.2273729566\n",
       "25. 90449.2479303523\n",
       "26. 87796.2568237566\n",
       "27. 85118.4830454272\n",
       "28. 82414.1429555527\n",
       "29. 79677.1512254688\n",
       "30. 76904.3388509569\n",
       "31. 74095.2646697036\n",
       "32. 71251.3392393529\n",
       "33. 68369.5114820489\n",
       "34. 65446.9811410649\n",
       "35. 62486.5887355189\n",
       "36. 59488.3896344583\n",
       "37. 56445.8078387372\n",
       "38. 53354.9464445324\n",
       "39. 50216.5800103654\n",
       "40. 47032.4220089741\n",
       "41. 43798.3437437671\n",
       "42. 40507.3504062254\n",
       "43. 37153.1672656335\n",
       "44. 33687.3817564264\n",
       "45. 30090.7301048609\n",
       "46. 26437.8149837781\n",
       "47. 22705.7147070529\n",
       "48. 18969.5823773203\n",
       "49. 15220.6505941356\n",
       "50. 11455.9179366688\n",
       "\n",
       "\n",
       "\n",
       "\n",
       "\n",
       "\n",
       "$alpha\n",
       ":   0.1\n",
       "$lfcThreshold\n",
       ":   0\n",
       "\n",
       "\n"
      ],
      "text/plain": [
       "$filterThreshold\n",
       "      0% \n",
       "17.61199 \n",
       "\n",
       "$filterTheta\n",
       "[1] 0\n",
       "\n",
       "$filterNumRej\n",
       "               theta numRej\n",
       "0%        0.00000000 145092\n",
       "1.938776% 0.01938776 142061\n",
       "3.877551% 0.03877551 140279\n",
       "5.816327% 0.05816327 138486\n",
       "7.755102% 0.07755102 136622\n",
       "9.693878% 0.09693878 134697\n",
       "11.63265% 0.11632653 132734\n",
       "13.57143% 0.13571429 130672\n",
       "15.5102%  0.15510204 128617\n",
       "17.44898% 0.17448980 126512\n",
       "19.38776% 0.19387755 124401\n",
       "21.32653% 0.21326531 122209\n",
       "23.26531% 0.23265306 119998\n",
       "25.20408% 0.25204082 117718\n",
       "27.14286% 0.27142857 115372\n",
       "29.08163% 0.29081633 113045\n",
       "31.02041% 0.31020408 110682\n",
       "32.95918% 0.32959184 108261\n",
       "34.89796% 0.34897959 105836\n",
       "36.83673% 0.36836735 103338\n",
       "38.77551% 0.38775510 100868\n",
       "40.71429% 0.40714286  98292\n",
       "42.65306% 0.42653061  95737\n",
       "44.59184% 0.44591837  93118\n",
       "46.53061% 0.46530612  90474\n",
       "48.46939% 0.48469388  87836\n",
       "50.40816% 0.50408163  85189\n",
       "52.34694% 0.52346939  82471\n",
       "54.28571% 0.54285714  79711\n",
       "56.22449% 0.56224490  76992\n",
       "58.16327% 0.58163265  74194\n",
       "60.10204% 0.60102041  71294\n",
       "62.04082% 0.62040816  68446\n",
       "63.97959% 0.63979592  65501\n",
       "65.91837% 0.65918367  62566\n",
       "67.85714% 0.67857143  59563\n",
       "69.79592% 0.69795918  56514\n",
       "71.73469% 0.71734694  53456\n",
       "73.67347% 0.73673469  50326\n",
       "75.61224% 0.75612245  47134\n",
       "77.55102% 0.77551020  43866\n",
       "79.4898%  0.79489796  40579\n",
       "81.42857% 0.81428571  37279\n",
       "83.36735% 0.83367347  33863\n",
       "85.30612% 0.85306122  30321\n",
       "87.2449%  0.87244898  26726\n",
       "89.18367% 0.89183673  22987\n",
       "91.12245% 0.91122449  19049\n",
       "93.06122% 0.93061224  14943\n",
       "95%       0.95000000  10796\n",
       "\n",
       "$lo.fit\n",
       "$lo.fit$x\n",
       " [1] 0.00000000 0.01938776 0.03877551 0.05816327 0.07755102 0.09693878\n",
       " [7] 0.11632653 0.13571429 0.15510204 0.17448980 0.19387755 0.21326531\n",
       "[13] 0.23265306 0.25204082 0.27142857 0.29081633 0.31020408 0.32959184\n",
       "[19] 0.34897959 0.36836735 0.38775510 0.40714286 0.42653061 0.44591837\n",
       "[25] 0.46530612 0.48469388 0.50408163 0.52346939 0.54285714 0.56224490\n",
       "[31] 0.58163265 0.60102041 0.62040816 0.63979592 0.65918367 0.67857143\n",
       "[37] 0.69795918 0.71734694 0.73673469 0.75612245 0.77551020 0.79489796\n",
       "[43] 0.81428571 0.83367347 0.85306122 0.87244898 0.89183673 0.91122449\n",
       "[49] 0.93061224 0.95000000\n",
       "\n",
       "$lo.fit$y\n",
       " [1] 144024.67 142161.17 140290.06 138411.31 136526.70 134597.19 132627.96\n",
       " [8] 130614.16 128555.87 126455.09 124312.08 122127.51 119902.60 117637.86\n",
       "[15] 115333.43 112991.49 110614.72 108206.75 105766.88 103293.21 100785.07\n",
       "[22]  98244.20  95673.28  93075.23  90449.25  87796.26  85118.48  82414.14\n",
       "[29]  79677.15  76904.34  74095.26  71251.34  68369.51  65446.98  62486.59\n",
       "[36]  59488.39  56445.81  53354.95  50216.58  47032.42  43798.34  40507.35\n",
       "[43]  37153.17  33687.38  30090.73  26437.81  22705.71  18969.58  15220.65\n",
       "[50]  11455.92\n",
       "\n",
       "\n",
       "$alpha\n",
       "[1] 0.1\n",
       "\n",
       "$lfcThreshold\n",
       "[1] 0\n"
      ]
     },
     "metadata": {},
     "output_type": "display_data"
    }
   ],
   "source": [
    "metadata(res)"
   ]
  },
  {
   "cell_type": "code",
   "execution_count": 18,
   "id": "3dd5791f-56a4-4fd4-a5ab-3151aae828da",
   "metadata": {},
   "outputs": [
    {
     "name": "stdout",
     "output_type": "stream",
     "text": [
      "[1] 0.1\n",
      "      0% \n",
      "17.61199 \n"
     ]
    }
   ],
   "source": [
    "num = metadata(res)$alpha\n",
    "print(num)\n",
    "num = metadata(res)$filterThreshold\n",
    "print(num)"
   ]
  },
  {
   "cell_type": "markdown",
   "id": "e0bc4178-a7a5-4e1b-ae29-160239285865",
   "metadata": {},
   "source": [
    "DESeq2 has filtered out genes with a mean count of 17.61. As a result, 0% of genes were filtered out of the analysis."
   ]
  },
  {
   "cell_type": "code",
   "execution_count": 16,
   "id": "15a326c8-2c9b-44c3-9414-63fdc539b205",
   "metadata": {},
   "outputs": [
    {
     "data": {
      "image/png": "[encoded data removed]",
      "text/plain": [
       "plot without title"
      ]
     },
     "metadata": {
      "image/png": {
       "height": 420,
       "width": 420
      }
     },
     "output_type": "display_data"
    }
   ],
   "source": [
    "plot(metadata(res)$filterNumRej, \n",
    "     type=\"b\", ylab=\"number of rejections\",\n",
    "     xlab=\"quantiles of filter\")\n",
    "lines(metadata(res)$lo.fit, col=\"red\")\n",
    "abline(v=metadata(res)$filterTheta)"
   ]
  },
  {
   "cell_type": "code",
   "execution_count": 19,
   "id": "7fe8f532-7279-4ed7-a077-2eaf59c44785",
   "metadata": {},
   "outputs": [
    {
     "data": {
      "text/html": [
       "<table class=\"dataframe\">\n",
       "<caption>A table: 3 × 3 of type dbl</caption>\n",
       "<thead>\n",
       "\t<tr><th></th><th scope=col>FALSE</th><th scope=col>TRUE</th><th scope=col>Sum</th></tr>\n",
       "</thead>\n",
       "<tbody>\n",
       "\t<tr><th scope=row>FALSE</th><td>101758</td><td>     0</td><td>101758</td></tr>\n",
       "\t<tr><th scope=row>TRUE</th><td>     0</td><td>145092</td><td>145092</td></tr>\n",
       "\t<tr><th scope=row>Sum</th><td>101758</td><td>145092</td><td>246850</td></tr>\n",
       "</tbody>\n",
       "</table>\n"
      ],
      "text/latex": [
       "A table: 3 × 3 of type dbl\n",
       "\\begin{tabular}{r|lll}\n",
       "  & FALSE & TRUE & Sum\\\\\n",
       "\\hline\n",
       "\tFALSE & 101758 &      0 & 101758\\\\\n",
       "\tTRUE &      0 & 145092 & 145092\\\\\n",
       "\tSum & 101758 & 145092 & 246850\\\\\n",
       "\\end{tabular}\n"
      ],
      "text/markdown": [
       "\n",
       "A table: 3 × 3 of type dbl\n",
       "\n",
       "| <!--/--> | FALSE | TRUE | Sum |\n",
       "|---|---|---|---|\n",
       "| FALSE | 101758 |      0 | 101758 |\n",
       "| TRUE |      0 | 145092 | 145092 |\n",
       "| Sum | 101758 | 145092 | 246850 |\n",
       "\n"
      ],
      "text/plain": [
       "         noFiltering\n",
       "filtering FALSE  TRUE   Sum   \n",
       "    FALSE 101758      0 101758\n",
       "    TRUE       0 145092 145092\n",
       "    Sum   101758 145092 246850"
      ]
     },
     "metadata": {},
     "output_type": "display_data"
    }
   ],
   "source": [
    "resNoFilt <- results(dds, independentFiltering=FALSE)\n",
    "addmargins(table(filtering=(res$padj < .1),\n",
    "                 noFiltering=(resNoFilt$padj < .1)))"
   ]
  },
  {
   "cell_type": "code",
   "execution_count": null,
   "id": "3de73dd3-32aa-4e2b-be54-65141d1f3099",
   "metadata": {},
   "outputs": [],
   "source": []
  }
 ],
 "metadata": {
  "kernelspec": {
   "display_name": "R",
   "language": "R",
   "name": "ir"
  },
  "language_info": {
   "codemirror_mode": "r",
   "file_extension": ".r",
   "mimetype": "text/x-r-source",
   "name": "R",
   "pygments_lexer": "r",
   "version": "4.3.1"
  }
 },
 "nbformat": 4,
 "nbformat_minor": 5
}
