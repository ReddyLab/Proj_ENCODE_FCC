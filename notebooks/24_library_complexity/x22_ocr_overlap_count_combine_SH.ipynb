{
 "cells": [
  {
   "cell_type": "code",
   "execution_count": null,
   "id": "2bc11a94-80a1-45d2-8b8f-7d83736f5387",
   "metadata": {},
   "outputs": [],
   "source": []
  },
  {
   "cell_type": "markdown",
   "id": "ddf14518-1516-4e20-826d-3883543de2e2",
   "metadata": {},
   "source": [
    "**Set environment**"
   ]
  },
  {
   "cell_type": "code",
   "execution_count": 1,
   "id": "65a2b397-2f6e-45d0-a4b5-2636e7d20034",
   "metadata": {},
   "outputs": [
    {
     "name": "stdout",
     "output_type": "stream",
     "text": [
      "You are working on             Duke Server: HARDAC\n",
      "BASE DIRECTORY (FD_BASE):      /data/reddylab/Kuei\n",
      "REPO DIRECTORY (FD_REPO):      /data/reddylab/Kuei/repo\n",
      "WORK DIRECTORY (FD_WORK):      /data/reddylab/Kuei/work\n",
      "DATA DIRECTORY (FD_DATA):      /data/reddylab/Kuei/data\n",
      "CONTAINER DIR. (FD_SING):      /data/reddylab/Kuei/container\n",
      "\n",
      "You are working with           ENCODE FCC\n",
      "PATH OF PROJECT (FD_PRJ):      /data/reddylab/Kuei/repo/Proj_ENCODE_FCC\n",
      "PROJECT RESULTS (FD_RES):      /data/reddylab/Kuei/repo/Proj_ENCODE_FCC/results\n",
      "PROJECT SCRIPTS (FD_EXE):      /data/reddylab/Kuei/repo/Proj_ENCODE_FCC/scripts\n",
      "PROJECT DATA    (FD_DAT):      /data/reddylab/Kuei/repo/Proj_ENCODE_FCC/data\n",
      "PROJECT NOTE    (FD_NBK):      /data/reddylab/Kuei/repo/Proj_ENCODE_FCC/notebooks\n",
      "PROJECT DOCS    (FD_DOC):      /data/reddylab/Kuei/repo/Proj_ENCODE_FCC/docs\n",
      "PROJECT LOG     (FD_LOG):      /data/reddylab/Kuei/repo/Proj_ENCODE_FCC/log\n",
      "PROJECT APP     (FD_APP):      /data/reddylab/Kuei/repo/Proj_ENCODE_FCC/app\n",
      "PROJECT REF     (FD_REF):      /data/reddylab/Kuei/repo/Proj_ENCODE_FCC/references\n",
      "PROJECT IMAGE   (FP_PRJ_SIF):  /data/reddylab/Kuei/repo/Proj_ENCODE_FCC/app/singularity_proj_encode_fcc.sif\n",
      "\n"
     ]
    }
   ],
   "source": [
    "source ../run_config_project.sh\n",
    "show_env"
   ]
  },
  {
   "cell_type": "code",
   "execution_count": 2,
   "id": "2c1a6c0d-b020-473a-89f9-85970a7c01ae",
   "metadata": {},
   "outputs": [
    {
     "name": "stdout",
     "output_type": "stream",
     "text": [
      "Folder\tFName\tLabel\n",
      "encode_open_chromatin\tK562.hg38.ENCSR000EKS.ENCFF274YGF.DNase.bed.gz\tdnase_ENCFF274YGF\n",
      "encode_open_chromatin\tK562.hg38.ENCSR000EOT.ENCFF185XRG.DNase.bed.gz\tdnase_ENCFF185XRG\n",
      "encode_open_chromatin\tK562.hg38.ENCSR483RKN.ENCFF558BLC.ATAC.bed.gz\tatac_ENCFF558BLC\n",
      "encode_open_chromatin\tK562.hg38.ENCSR483RKN.ENCFF925CYR.ATAC.bed.gz\tatac_ENCFF925CYR\n",
      "encode_open_chromatin\tK562.hg38.ENCSR868FGK.ENCFF333TAT.ATAC.bed.gz\tatac_ENCFF333TAT\n",
      "encode_open_chromatin\tK562.hg38.ENCSR868FGK.ENCFF948AFM.ATAC.bed.gz\tatac_ENCFF948AFM\n",
      "fcc_astarr_macs\tASTARRseq_K562_KS91.hg38.Input.rep_all.max_overlaps.q5.bed.gz\tastarr_macs_input_overlap\n",
      "fcc_astarr_macs\tASTARRseq_K562_KS91.hg38.Input.rep_all.union.q5.bed.gz\tastarr_macs_input_union\n"
     ]
    }
   ],
   "source": [
    "### Assay\n",
    "ASSAY_TYPE=assay_fcc\n",
    "ASSAY_NAMES=(\n",
    "    STARR_ATAC_K562_Reddy_KS274\n",
    "    STARR_ATAC_K562_Reddy_KS91\n",
    "    STARR_WHG_K562_Reddy_A001\n",
    ")\n",
    "\n",
    "### set directory\n",
    "FDIRY=${FD_RES}/region/summary\n",
    "FNAME=metadata_region_label.tsv\n",
    "FPATH=${FDIRY}/${FNAME}\n",
    "\n",
    "### get table\n",
    "FP_REGION_LABEL=${FPATH}\n",
    "cat ${FPATH}"
   ]
  },
  {
   "cell_type": "code",
   "execution_count": 3,
   "id": "960e4614-b9e4-4c70-8638-289314645e80",
   "metadata": {},
   "outputs": [
    {
     "name": "stdout",
     "output_type": "stream",
     "text": [
      "==============================\n",
      "Region folder: fcc_astarr_macs\n",
      "Region label:  astarr_macs_input_overlap\n",
      "Assay  name:   STARR_ATAC_K562_Reddy_KS274\n",
      "Result folder: overlap_fragment_unique\n",
      "\n",
      "ASTARRseq_K562_KS274.hg38.Output.rep1.WGS.unstranded.bed.gz,14141773,34434586\n",
      "ASTARRseq_K562_KS274.hg38.Output.rep2.WGS.unstranded.bed.gz,11915775,28632813\n",
      "ASTARRseq_K562_KS274.hg38.Output.rep3.WGS.unstranded.bed.gz,15363745,36173601\n",
      "\n",
      "==============================\n",
      "Region folder: fcc_astarr_macs\n",
      "Region label:  astarr_macs_input_overlap\n",
      "Assay  name:   STARR_ATAC_K562_Reddy_KS274\n",
      "Result folder: overlap_fragment_one2one\n",
      "\n",
      "ASTARRseq_K562_KS274.hg38.Output.rep1.WGS.unstranded.bed.gz,14141773,34434586\n",
      "ASTARRseq_K562_KS274.hg38.Output.rep2.WGS.unstranded.bed.gz,11915775,28632813\n",
      "ASTARRseq_K562_KS274.hg38.Output.rep3.WGS.unstranded.bed.gz,15363745,36173601\n",
      "\n",
      "==============================\n",
      "Region folder: fcc_astarr_macs\n",
      "Region label:  astarr_macs_input_overlap\n",
      "Assay  name:   STARR_ATAC_K562_Reddy_KS91\n",
      "Result folder: overlap_fragment_unique\n",
      "\n",
      "ASTARRseq_K562_KS91.hg38.Input.rep1.WGS.unstranded.bed.gz,118212222,118212222\n",
      "ASTARRseq_K562_KS91.hg38.Input.rep2.WGS.unstranded.bed.gz,149512330,149512330\n",
      "ASTARRseq_K562_KS91.hg38.Input.rep3.WGS.unstranded.bed.gz,159858862,159858862\n",
      "ASTARRseq_K562_KS91.hg38.Input.rep4.WGS.unstranded.bed.gz,150695534,150695534\n",
      "ASTARRseq_K562_KS91.hg38.Input.rep5.WGS.unstranded.bed.gz,147294367,147294367\n",
      "ASTARRseq_K562_KS91.hg38.Input.rep6.WGS.unstranded.bed.gz,133574079,133574079\n",
      "ASTARRseq_K562_KS91.hg38.Output.rep1.WGS.unstranded.bed.gz,14736263,17037803\n",
      "ASTARRseq_K562_KS91.hg38.Output.rep2.WGS.unstranded.bed.gz,24292584,28892755\n",
      "ASTARRseq_K562_KS91.hg38.Output.rep3.WGS.unstranded.bed.gz,26000302,30672298\n",
      "ASTARRseq_K562_KS91.hg38.Output.rep4.WGS.unstranded.bed.gz,46899547,59714603\n",
      "\n",
      "==============================\n",
      "Region folder: fcc_astarr_macs\n",
      "Region label:  astarr_macs_input_overlap\n",
      "Assay  name:   STARR_ATAC_K562_Reddy_KS91\n",
      "Result folder: overlap_fragment_one2one\n",
      "\n",
      "ASTARRseq_K562_KS91.hg38.Input.rep1.WGS.unstranded.bed.gz,118212222,118212222\n",
      "ASTARRseq_K562_KS91.hg38.Input.rep2.WGS.unstranded.bed.gz,149512330,149512330\n",
      "ASTARRseq_K562_KS91.hg38.Input.rep3.WGS.unstranded.bed.gz,159858862,159858862\n",
      "ASTARRseq_K562_KS91.hg38.Input.rep4.WGS.unstranded.bed.gz,150695534,150695534\n",
      "ASTARRseq_K562_KS91.hg38.Input.rep5.WGS.unstranded.bed.gz,147294367,147294367\n",
      "ASTARRseq_K562_KS91.hg38.Input.rep6.WGS.unstranded.bed.gz,133574079,133574079\n",
      "ASTARRseq_K562_KS91.hg38.Output.rep1.WGS.unstranded.bed.gz,14736263,17037803\n",
      "ASTARRseq_K562_KS91.hg38.Output.rep2.WGS.unstranded.bed.gz,24292584,28892755\n",
      "ASTARRseq_K562_KS91.hg38.Output.rep3.WGS.unstranded.bed.gz,26000302,30672298\n",
      "ASTARRseq_K562_KS91.hg38.Output.rep4.WGS.unstranded.bed.gz,46899547,59714603\n",
      "\n",
      "==============================\n",
      "Region folder: fcc_astarr_macs\n",
      "Region label:  astarr_macs_input_overlap\n",
      "Assay  name:   STARR_WHG_K562_Reddy_A001\n",
      "Result folder: overlap_fragment_unique\n",
      "\n",
      "WSTARRseq_K562_A001.hg38.Input.rep1.WGS.unstranded.bed.gz,2745503,2745503\n",
      "WSTARRseq_K562_A001.hg38.Input.rep2.WGS.unstranded.bed.gz,10030185,10030185\n",
      "WSTARRseq_K562_A001.hg38.Input.rep3.WGS.unstranded.bed.gz,10685720,10685720\n",
      "WSTARRseq_K562_A001.hg38.Input.rep4.WGS.unstranded.bed.gz,10892741,10892741\n",
      "WSTARRseq_K562_A001.hg38.Output.rep1.WGS.unstranded.bed.gz,19599819,19599819\n",
      "WSTARRseq_K562_A001.hg38.Output.rep2.WGS.unstranded.bed.gz,19087013,19087013\n",
      "WSTARRseq_K562_A001.hg38.Output.rep3.WGS.unstranded.bed.gz,38975575,38975575\n",
      "\n",
      "==============================\n",
      "Region folder: fcc_astarr_macs\n",
      "Region label:  astarr_macs_input_overlap\n",
      "Assay  name:   STARR_WHG_K562_Reddy_A001\n",
      "Result folder: overlap_fragment_one2one\n",
      "\n",
      "WSTARRseq_K562_A001.hg38.Input.rep1.WGS.unstranded.bed.gz,2745503,2745503\n",
      "WSTARRseq_K562_A001.hg38.Input.rep2.WGS.unstranded.bed.gz,10030185,10030185\n",
      "WSTARRseq_K562_A001.hg38.Input.rep3.WGS.unstranded.bed.gz,10685720,10685720\n",
      "WSTARRseq_K562_A001.hg38.Input.rep4.WGS.unstranded.bed.gz,10892741,10892741\n",
      "WSTARRseq_K562_A001.hg38.Output.rep1.WGS.unstranded.bed.gz,19599819,19599819\n",
      "WSTARRseq_K562_A001.hg38.Output.rep2.WGS.unstranded.bed.gz,19087013,19087013\n",
      "WSTARRseq_K562_A001.hg38.Output.rep3.WGS.unstranded.bed.gz,38975575,38975575\n",
      "\n",
      "==============================\n",
      "Region folder: fcc_astarr_macs\n",
      "Region label:  astarr_macs_input_union\n",
      "Assay  name:   STARR_ATAC_K562_Reddy_KS274\n",
      "Result folder: overlap_fragment_unique\n",
      "\n",
      "ASTARRseq_K562_KS274.hg38.Output.rep1.WGS.unstranded.bed.gz,16704696,38351070\n",
      "ASTARRseq_K562_KS274.hg38.Output.rep2.WGS.unstranded.bed.gz,13970319,31721369\n",
      "ASTARRseq_K562_KS274.hg38.Output.rep3.WGS.unstranded.bed.gz,18226651,40235953\n",
      "\n",
      "==============================\n",
      "Region folder: fcc_astarr_macs\n",
      "Region label:  astarr_macs_input_union\n",
      "Assay  name:   STARR_ATAC_K562_Reddy_KS274\n",
      "Result folder: overlap_fragment_one2one\n",
      "\n",
      "ASTARRseq_K562_KS274.hg38.Output.rep1.WGS.unstranded.bed.gz,16704696,38351070\n",
      "ASTARRseq_K562_KS274.hg38.Output.rep2.WGS.unstranded.bed.gz,13970319,31721369\n",
      "ASTARRseq_K562_KS274.hg38.Output.rep3.WGS.unstranded.bed.gz,18226651,40235953\n",
      "\n",
      "==============================\n",
      "Region folder: fcc_astarr_macs\n",
      "Region label:  astarr_macs_input_union\n",
      "Assay  name:   STARR_ATAC_K562_Reddy_KS91\n",
      "Result folder: overlap_fragment_unique\n",
      "\n",
      "ASTARRseq_K562_KS91.hg38.Input.rep1.WGS.unstranded.bed.gz,142328094,142328094\n",
      "ASTARRseq_K562_KS91.hg38.Input.rep2.WGS.unstranded.bed.gz,181205592,181205592\n",
      "ASTARRseq_K562_KS91.hg38.Input.rep3.WGS.unstranded.bed.gz,194279294,194279294\n",
      "ASTARRseq_K562_KS91.hg38.Input.rep4.WGS.unstranded.bed.gz,182773381,182773381\n",
      "ASTARRseq_K562_KS91.hg38.Input.rep5.WGS.unstranded.bed.gz,178434289,178434289\n",
      "ASTARRseq_K562_KS91.hg38.Input.rep6.WGS.unstranded.bed.gz,161391572,161391572\n",
      "ASTARRseq_K562_KS91.hg38.Output.rep1.WGS.unstranded.bed.gz,17115849,19671551\n",
      "ASTARRseq_K562_KS91.hg38.Output.rep2.WGS.unstranded.bed.gz,28660529,33788132\n",
      "ASTARRseq_K562_KS91.hg38.Output.rep3.WGS.unstranded.bed.gz,30668121,35788945\n",
      "ASTARRseq_K562_KS91.hg38.Output.rep4.WGS.unstranded.bed.gz,54688174,68625425\n",
      "\n",
      "==============================\n",
      "Region folder: fcc_astarr_macs\n",
      "Region label:  astarr_macs_input_union\n",
      "Assay  name:   STARR_ATAC_K562_Reddy_KS91\n",
      "Result folder: overlap_fragment_one2one\n",
      "\n",
      "ASTARRseq_K562_KS91.hg38.Input.rep1.WGS.unstranded.bed.gz,0,\n",
      "ASTARRseq_K562_KS91.hg38.Input.rep2.WGS.unstranded.bed.gz,0,\n",
      "ASTARRseq_K562_KS91.hg38.Input.rep3.WGS.unstranded.bed.gz,0,\n",
      "ASTARRseq_K562_KS91.hg38.Input.rep4.WGS.unstranded.bed.gz,0,\n",
      "ASTARRseq_K562_KS91.hg38.Input.rep5.WGS.unstranded.bed.gz,0,\n",
      "ASTARRseq_K562_KS91.hg38.Input.rep6.WGS.unstranded.bed.gz,0,\n",
      "ASTARRseq_K562_KS91.hg38.Output.rep1.WGS.unstranded.bed.gz,17115849,19671551\n",
      "ASTARRseq_K562_KS91.hg38.Output.rep2.WGS.unstranded.bed.gz,28660529,33788132\n",
      "ASTARRseq_K562_KS91.hg38.Output.rep3.WGS.unstranded.bed.gz,30668121,35788945\n",
      "ASTARRseq_K562_KS91.hg38.Output.rep4.WGS.unstranded.bed.gz,54688174,68625425\n",
      "\n",
      "==============================\n",
      "Region folder: fcc_astarr_macs\n",
      "Region label:  astarr_macs_input_union\n",
      "Assay  name:   STARR_WHG_K562_Reddy_A001\n",
      "Result folder: overlap_fragment_unique\n",
      "\n",
      "WSTARRseq_K562_A001.hg38.Input.rep1.WGS.unstranded.bed.gz,4555714,4555714\n",
      "WSTARRseq_K562_A001.hg38.Input.rep2.WGS.unstranded.bed.gz,16679909,16679909\n",
      "WSTARRseq_K562_A001.hg38.Input.rep3.WGS.unstranded.bed.gz,17756791,17756791\n",
      "WSTARRseq_K562_A001.hg38.Input.rep4.WGS.unstranded.bed.gz,18121347,18121347\n",
      "WSTARRseq_K562_A001.hg38.Output.rep1.WGS.unstranded.bed.gz,30872226,30872226\n",
      "WSTARRseq_K562_A001.hg38.Output.rep2.WGS.unstranded.bed.gz,30133078,30133078\n",
      "WSTARRseq_K562_A001.hg38.Output.rep3.WGS.unstranded.bed.gz,61892028,61892028\n",
      "\n",
      "==============================\n",
      "Region folder: fcc_astarr_macs\n",
      "Region label:  astarr_macs_input_union\n",
      "Assay  name:   STARR_WHG_K562_Reddy_A001\n",
      "Result folder: overlap_fragment_one2one\n",
      "\n",
      "WSTARRseq_K562_A001.hg38.Input.rep1.WGS.unstranded.bed.gz,4555714,4555714\n",
      "WSTARRseq_K562_A001.hg38.Input.rep2.WGS.unstranded.bed.gz,16679909,16679909\n",
      "WSTARRseq_K562_A001.hg38.Input.rep3.WGS.unstranded.bed.gz,17756791,17756791\n",
      "WSTARRseq_K562_A001.hg38.Input.rep4.WGS.unstranded.bed.gz,18121347,18121347\n",
      "WSTARRseq_K562_A001.hg38.Output.rep1.WGS.unstranded.bed.gz,30872226,30872226\n",
      "WSTARRseq_K562_A001.hg38.Output.rep2.WGS.unstranded.bed.gz,30133078,30133078\n",
      "WSTARRseq_K562_A001.hg38.Output.rep3.WGS.unstranded.bed.gz,61892028,61892028\n",
      "\n"
     ]
    }
   ],
   "source": [
    "### loop through each region set\n",
    "while read FOLDER_REG FNAME_REG LABEL_REG; do\n",
    "    for ASSAY_NAME in ${ASSAY_NAMES[@]}; do\n",
    "        for FOLDER_RES in overlap_fragment_unique overlap_fragment_one2one; do\n",
    "            ### show progress\n",
    "            echo ==============================\n",
    "            echo \"Region folder:\" ${FOLDER_REG}\n",
    "            echo \"Region label: \" ${LABEL_REG}\n",
    "            echo \"Assay  name:  \" ${ASSAY_NAME}\n",
    "            echo \"Result folder:\" ${FOLDER_RES}\n",
    "            echo\n",
    "            FD_INP=${FD_RES}/${ASSAY_TYPE}/${ASSAY_NAME}/coverage/${FOLDER_REG}/${LABEL_REG}/${FOLDER_RES}/summary\n",
    "            FP_INPS=($(ls ${FD_INP}/result.size.?.csv))\n",
    "            \n",
    "            FD_OUT=${FD_INP}\n",
    "            FN_OUT=\"result.size.concat.csv\"\n",
    "            FP_OUT=${FD_OUT}/${FN_OUT}\n",
    "            \n",
    "            echo -n > ${FP_OUT}\n",
    "            for FP_INP in ${FP_INPS[@]}; do\n",
    "                cat ${FP_INP} >> ${FP_OUT}\n",
    "            done\n",
    "            \n",
    "            cat ${FP_OUT}\n",
    "            echo            \n",
    "        done\n",
    "    done\n",
    "done < <(cat ${FP_REGION_LABEL} | awk 'NR >=2 {print}' | grep fcc_astarr_macs)"
   ]
  },
  {
   "cell_type": "code",
   "execution_count": null,
   "id": "fe2b31ea-c561-4525-bfc9-2fb780890f5f",
   "metadata": {},
   "outputs": [],
   "source": []
  },
  {
   "cell_type": "code",
   "execution_count": null,
   "id": "d9f70cb7-e1ea-4b91-993a-35a70123b81a",
   "metadata": {},
   "outputs": [],
   "source": [
    "FP_INPS=($(ls ${FD_INP/*hg38*rep*bed.gz))\n",
    "            for FP_INP in ${FP_INPS[@]}; do\n",
    "                \n",
    "            done"
   ]
  },
  {
   "cell_type": "markdown",
   "id": "c9015ddb-152d-4daf-8bad-ec850fa399a9",
   "metadata": {},
   "source": [
    "## Prepare"
   ]
  },
  {
   "cell_type": "markdown",
   "id": "867beccc-fd1f-4277-a3d2-241123d38483",
   "metadata": {
    "tags": []
   },
   "source": [
    "**Check data**"
   ]
  },
  {
   "cell_type": "code",
   "execution_count": 2,
   "id": "106086c9-00bb-4c3a-9e45-4d2cf890d1ac",
   "metadata": {},
   "outputs": [
    {
     "name": "stdout",
     "output_type": "stream",
     "text": [
      "Folder\tFName\tLabel\n",
      "encode_open_chromatin\tK562.hg38.ENCSR000EKS.ENCFF274YGF.DNase.bed.gz\tdnase_ENCFF274YGF\n",
      "encode_open_chromatin\tK562.hg38.ENCSR000EOT.ENCFF185XRG.DNase.bed.gz\tdnase_ENCFF185XRG\n",
      "encode_open_chromatin\tK562.hg38.ENCSR483RKN.ENCFF558BLC.ATAC.bed.gz\tatac_ENCFF558BLC\n",
      "encode_open_chromatin\tK562.hg38.ENCSR483RKN.ENCFF925CYR.ATAC.bed.gz\tatac_ENCFF925CYR\n",
      "encode_open_chromatin\tK562.hg38.ENCSR868FGK.ENCFF333TAT.ATAC.bed.gz\tatac_ENCFF333TAT\n",
      "encode_open_chromatin\tK562.hg38.ENCSR868FGK.ENCFF948AFM.ATAC.bed.gz\tatac_ENCFF948AFM\n",
      "fcc_astarr_macs\tASTARRseq_K562_KS91.hg38.Input.rep_all.max_overlaps.q5.bed.gz\tastarr_macs_input_overlap\n",
      "fcc_astarr_macs\tASTARRseq_K562_KS91.hg38.Input.rep_all.union.q5.bed.gz\tastarr_macs_input_union\n"
     ]
    }
   ],
   "source": [
    "### set directory\n",
    "FDIRY=${FD_RES}/region/summary\n",
    "FNAME=metadata_region_label.tsv\n",
    "FPATH=${FDIRY}/${FNAME}\n",
    "\n",
    "### get table\n",
    "FP_REGION_LABEL=${FPATH}\n",
    "cat ${FPATH}"
   ]
  },
  {
   "cell_type": "code",
   "execution_count": 3,
   "id": "0c331dbd-ca77-4f90-9a1f-f674a1d33b58",
   "metadata": {},
   "outputs": [
    {
     "name": "stdout",
     "output_type": "stream",
     "text": [
      "\u001b[0m\u001b[38;5;27mCRISPRi_FlowFISH_K562_Riley_JinWoo\u001b[0m\n",
      "\u001b[38;5;27mCRISPRi_Growth_K562_Gersbach_JinWoo\u001b[0m\n",
      "\u001b[38;5;27mMPRA_Lenti_K562_Nadav_Vikram\u001b[0m\n",
      "\u001b[38;5;27mMPRA_Tiling_K562_Tewhey_Hannah\u001b[0m\n",
      "\u001b[38;5;27mSTARR_ATAC_K562_Reddy_KS274\u001b[0m\n",
      "\u001b[38;5;27mSTARR_ATAC_K562_Reddy_KS91\u001b[0m\n",
      "\u001b[38;5;27mSTARR_WHG_K562_Reddy_A001\u001b[0m\n"
     ]
    }
   ],
   "source": [
    "ls -1 ${FD_RES}/assay_fcc"
   ]
  },
  {
   "cell_type": "markdown",
   "id": "12a6fe1d-de23-4216-8db8-4dd56e0ebcdd",
   "metadata": {},
   "source": [
    "**Set global environment**"
   ]
  },
  {
   "cell_type": "code",
   "execution_count": 4,
   "id": "6c44e312-8d18-4212-9db6-43410e94c9ca",
   "metadata": {},
   "outputs": [],
   "source": [
    "### Assay\n",
    "ASSAY_TYPE=assay_fcc\n",
    "ASSAY_NAMES=(\n",
    "    STARR_ATAC_K562_Reddy_KS274\n",
    "    STARR_ATAC_K562_Reddy_KS91\n",
    "    STARR_WHG_K562_Reddy_A001\n",
    ")"
   ]
  },
  {
   "cell_type": "markdown",
   "id": "4d680936-7539-4013-872a-3fad85d08f8a",
   "metadata": {},
   "source": [
    "**Test loop: Region**"
   ]
  },
  {
   "cell_type": "code",
   "execution_count": 5,
   "id": "dd786af6-f4ca-4950-9036-f7bbeed50d35",
   "metadata": {},
   "outputs": [
    {
     "name": "stdout",
     "output_type": "stream",
     "text": [
      "encode_open_chromatin\tK562.hg38.ENCSR000EKS.ENCFF274YGF.DNase.bed.gz\tdnase_ENCFF274YGF\n",
      "encode_open_chromatin\tK562.hg38.ENCSR000EOT.ENCFF185XRG.DNase.bed.gz\tdnase_ENCFF185XRG\n",
      "encode_open_chromatin\tK562.hg38.ENCSR483RKN.ENCFF558BLC.ATAC.bed.gz\tatac_ENCFF558BLC\n",
      "encode_open_chromatin\tK562.hg38.ENCSR483RKN.ENCFF925CYR.ATAC.bed.gz\tatac_ENCFF925CYR\n",
      "encode_open_chromatin\tK562.hg38.ENCSR868FGK.ENCFF333TAT.ATAC.bed.gz\tatac_ENCFF333TAT\n",
      "encode_open_chromatin\tK562.hg38.ENCSR868FGK.ENCFF948AFM.ATAC.bed.gz\tatac_ENCFF948AFM\n",
      "fcc_astarr_macs\tASTARRseq_K562_KS91.hg38.Input.rep_all.max_overlaps.q5.bed.gz\tastarr_macs_input_overlap\n",
      "fcc_astarr_macs\tASTARRseq_K562_KS91.hg38.Input.rep_all.union.q5.bed.gz\tastarr_macs_input_union\n"
     ]
    }
   ],
   "source": [
    "cat ${FP_REGION_LABEL} | awk 'NR >=2 {print}'"
   ]
  },
  {
   "cell_type": "code",
   "execution_count": 6,
   "id": "25c55afe-fbdc-4739-a743-eb7164c30937",
   "metadata": {},
   "outputs": [
    {
     "name": "stdout",
     "output_type": "stream",
     "text": [
      "\u001b[01;31m\u001b[Kfcc_astarr_macs\u001b[m\u001b[K\tASTARRseq_K562_KS91.hg38.Input.rep_all.max_overlaps.q5.bed.gz\tastarr_macs_input_overlap\n",
      "\u001b[01;31m\u001b[Kfcc_astarr_macs\u001b[m\u001b[K\tASTARRseq_K562_KS91.hg38.Input.rep_all.union.q5.bed.gz\tastarr_macs_input_union\n"
     ]
    }
   ],
   "source": [
    "cat ${FP_REGION_LABEL} | awk 'NR >=2 {print}' | grep fcc_astarr_macs"
   ]
  },
  {
   "cell_type": "code",
   "execution_count": 7,
   "id": "a8bde084-b4e3-4f80-b369-3134759980fd",
   "metadata": {},
   "outputs": [
    {
     "name": "stdout",
     "output_type": "stream",
     "text": [
      "==============================\n",
      "Region folder: fcc_astarr_macs\n",
      "Region label:  astarr_macs_input_overlap\n",
      "==============================\n",
      "Region folder: fcc_astarr_macs\n",
      "Region label:  astarr_macs_input_union\n"
     ]
    }
   ],
   "source": [
    "while read FOLDER_REG FNAME_REG LABEL_REG; do\n",
    "    \n",
    "    ### show progress\n",
    "    echo ==============================\n",
    "    echo \"Region folder:\" ${FOLDER_REG}\n",
    "    echo \"Region label: \" ${LABEL_REG}\n",
    "    \n",
    "    ### Set directory\n",
    "    FD_INP_A=${FD_RES}/region/${FOLDER_REG}\n",
    "    FN_INP_A=${FNAME_REG}\n",
    "    FP_INP_A=${FD_INP_A}/${FN_INP_A}\n",
    "    \n",
    "done < <(cat ${FP_REGION_LABEL} | awk 'NR >=2 {print}' | grep fcc_astarr_macs)"
   ]
  },
  {
   "cell_type": "markdown",
   "id": "eab5679d-53b3-4c27-8733-f4dc78991b34",
   "metadata": {},
   "source": [
    "**Test loop: Assay**"
   ]
  },
  {
   "cell_type": "code",
   "execution_count": 8,
   "id": "78912a30-742f-46f7-859b-975eeacea74a",
   "metadata": {},
   "outputs": [
    {
     "name": "stdout",
     "output_type": "stream",
     "text": [
      "==============================\n",
      "Assay name:  STARR_ATAC_K562_Reddy_KS274\n",
      "ASTARRseq_K562_KS274.hg38.Output.rep1.WGS.unstranded.bed.gz\n",
      "ASTARRseq_K562_KS274.hg38.Output.rep2.WGS.unstranded.bed.gz\n",
      "ASTARRseq_K562_KS274.hg38.Output.rep3.WGS.unstranded.bed.gz\n",
      "==============================\n",
      "Assay name:  STARR_ATAC_K562_Reddy_KS91\n",
      "ASTARRseq_K562_KS91.hg38.Input.rep1.WGS.unstranded.bed.gz\n",
      "ASTARRseq_K562_KS91.hg38.Input.rep2.WGS.unstranded.bed.gz\n",
      "ASTARRseq_K562_KS91.hg38.Input.rep3.WGS.unstranded.bed.gz\n",
      "ASTARRseq_K562_KS91.hg38.Input.rep4.WGS.unstranded.bed.gz\n",
      "ASTARRseq_K562_KS91.hg38.Input.rep5.WGS.unstranded.bed.gz\n",
      "ASTARRseq_K562_KS91.hg38.Input.rep6.WGS.unstranded.bed.gz\n",
      "ASTARRseq_K562_KS91.hg38.Output.rep1.WGS.unstranded.bed.gz\n",
      "ASTARRseq_K562_KS91.hg38.Output.rep2.WGS.unstranded.bed.gz\n",
      "ASTARRseq_K562_KS91.hg38.Output.rep3.WGS.unstranded.bed.gz\n",
      "ASTARRseq_K562_KS91.hg38.Output.rep4.WGS.unstranded.bed.gz\n",
      "==============================\n",
      "Assay name:  STARR_WHG_K562_Reddy_A001\n",
      "WSTARRseq_K562_A001.hg38.Input.rep1.WGS.unstranded.bed.gz\n",
      "WSTARRseq_K562_A001.hg38.Input.rep2.WGS.unstranded.bed.gz\n",
      "WSTARRseq_K562_A001.hg38.Input.rep3.WGS.unstranded.bed.gz\n",
      "WSTARRseq_K562_A001.hg38.Input.rep4.WGS.unstranded.bed.gz\n",
      "WSTARRseq_K562_A001.hg38.Output.rep1.WGS.unstranded.bed.gz\n",
      "WSTARRseq_K562_A001.hg38.Output.rep2.WGS.unstranded.bed.gz\n",
      "WSTARRseq_K562_A001.hg38.Output.rep3.WGS.unstranded.bed.gz\n"
     ]
    }
   ],
   "source": [
    "FOLDER_REG=fcc_astarr_macs\n",
    "LABEL_REG=astarr_macs_input_union\n",
    "\n",
    "for ASSAY_NAME in ${ASSAY_NAMES[@]}; do\n",
    "    \n",
    "    ### show progress\n",
    "    echo ==============================\n",
    "    echo \"Assay name: \" ${ASSAY_NAME}\n",
    "    \n",
    "    ### Set directory\n",
    "    FD_INP_B=${FD_RES}/${ASSAY_TYPE}/${ASSAY_NAME}/coverage/${FOLDER_REG}/${LABEL_REG}/overlap_fragment_one2one\n",
    "    FP_INPS=($(ls ${FD_INP_B}/*hg38*rep*bed.gz))\n",
    "    \n",
    "    ### loop through each sample\n",
    "    for FP_INP_B in ${FP_INPS[@]}; do\n",
    "        FN_INP_B=$(basename ${FP_INP_B})\n",
    "        echo ${FN_INP_B}\n",
    "    done\n",
    "done"
   ]
  }
 ],
 "metadata": {
  "kernelspec": {
   "display_name": "Bash",
   "language": "bash",
   "name": "bash"
  },
  "language_info": {
   "codemirror_mode": "shell",
   "file_extension": ".sh",
   "mimetype": "text/x-sh",
   "name": "bash"
  }
 },
 "nbformat": 4,
 "nbformat_minor": 5
}
