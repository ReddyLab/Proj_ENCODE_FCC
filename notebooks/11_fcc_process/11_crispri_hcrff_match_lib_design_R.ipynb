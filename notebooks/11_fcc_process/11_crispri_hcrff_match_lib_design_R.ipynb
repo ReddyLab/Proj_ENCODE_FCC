{
 "cells": [
  {
   "cell_type": "raw",
   "id": "d954f587-55c8-43ba-ad18-f6f00fb48d93",
   "metadata": {},
   "source": [
    "---\n",
    "title: ...\n",
    "subtitle: ...\n",
    "format:\n",
    "    html:\n",
    "        code-fold:  true\n",
    "        code-tools: true\n",
    "---"
   ]
  },
  {
   "cell_type": "markdown",
   "id": "19669bec-4e9a-4574-92ea-7f117d052992",
   "metadata": {},
   "source": [
    "**Set environment**"
   ]
  },
  {
   "cell_type": "code",
   "execution_count": 1,
   "id": "72442e3f-1bbf-4e16-ac2f-d05e20b19cb8",
   "metadata": {},
   "outputs": [
    {
     "name": "stdout",
     "output_type": "stream",
     "text": [
      "You are working on        Singularity \n",
      "BASE DIRECTORY (FD_BASE): /mount \n",
      "REPO DIRECTORY (FD_REPO): /mount/repo \n",
      "WORK DIRECTORY (FD_WORK): /mount/work \n",
      "DATA DIRECTORY (FD_DATA): /mount/data \n",
      "\n",
      "You are working with      ENCODE FCC \n",
      "PATH OF PROJECT (FD_PRJ): /mount/repo/Proj_ENCODE_FCC \n",
      "PROJECT RESULTS (FD_RES): /mount/repo/Proj_ENCODE_FCC/results \n",
      "PROJECT SCRIPTS (FD_EXE): /mount/repo/Proj_ENCODE_FCC/scripts \n",
      "PROJECT DATA    (FD_DAT): /mount/repo/Proj_ENCODE_FCC/data \n",
      "PROJECT NOTE    (FD_NBK): /mount/repo/Proj_ENCODE_FCC/notebooks \n",
      "PROJECT DOCS    (FD_DOC): /mount/repo/Proj_ENCODE_FCC/docs \n",
      "PROJECT LOG     (FD_LOG): /mount/repo/Proj_ENCODE_FCC/log \n",
      "PROJECT APP     (FD_APP): /mount/repo/Proj_ENCODE_FCC/app \n",
      "PROJECT REF     (FD_REF): /mount/repo/Proj_ENCODE_FCC/references \n",
      "\n"
     ]
    }
   ],
   "source": [
    "suppressMessages(suppressWarnings(source(\"../run_config_project_sing.R\")))\n",
    "show_env()"
   ]
  },
  {
   "cell_type": "markdown",
   "id": "2318f7bc-0685-4b98-b249-cce0e531296f",
   "metadata": {},
   "source": [
    "## Import data"
   ]
  },
  {
   "cell_type": "code",
   "execution_count": 11,
   "id": "791e036b-bd4f-4f42-959c-567f1eec0b50",
   "metadata": {},
   "outputs": [
    {
     "data": {
      "text/html": [
       "<style>\n",
       ".list-inline {list-style: none; margin:0; padding: 0}\n",
       ".list-inline>li {display: inline-block}\n",
       ".list-inline>li:not(:last-child)::after {content: \"\\00b7\"; padding: 0 .5ex}\n",
       "</style>\n",
       "<ol class=list-inline><li>'CAPRIN1'</li><li>'CAT'</li><li>'CD164'</li><li>'ERP29'</li><li>'FADS1'</li><li>'FADS2'</li><li>'FADS3'</li><li>'FEN1'</li><li>'GATA1'</li><li>'HBE1'</li><li>'HBG1'</li><li>'HBG2'</li><li>'HBS1L'</li><li>'HDAC6'</li><li>'LMO2'</li><li>'MEF2C'</li><li>'MYB'</li><li>'MYC'</li><li>'NMU'</li><li>'PVT1'</li></ol>\n"
      ],
      "text/latex": [
       "\\begin{enumerate*}\n",
       "\\item 'CAPRIN1'\n",
       "\\item 'CAT'\n",
       "\\item 'CD164'\n",
       "\\item 'ERP29'\n",
       "\\item 'FADS1'\n",
       "\\item 'FADS2'\n",
       "\\item 'FADS3'\n",
       "\\item 'FEN1'\n",
       "\\item 'GATA1'\n",
       "\\item 'HBE1'\n",
       "\\item 'HBG1'\n",
       "\\item 'HBG2'\n",
       "\\item 'HBS1L'\n",
       "\\item 'HDAC6'\n",
       "\\item 'LMO2'\n",
       "\\item 'MEF2C'\n",
       "\\item 'MYB'\n",
       "\\item 'MYC'\n",
       "\\item 'NMU'\n",
       "\\item 'PVT1'\n",
       "\\end{enumerate*}\n"
      ],
      "text/markdown": [
       "1. 'CAPRIN1'\n",
       "2. 'CAT'\n",
       "3. 'CD164'\n",
       "4. 'ERP29'\n",
       "5. 'FADS1'\n",
       "6. 'FADS2'\n",
       "7. 'FADS3'\n",
       "8. 'FEN1'\n",
       "9. 'GATA1'\n",
       "10. 'HBE1'\n",
       "11. 'HBG1'\n",
       "12. 'HBG2'\n",
       "13. 'HBS1L'\n",
       "14. 'HDAC6'\n",
       "15. 'LMO2'\n",
       "16. 'MEF2C'\n",
       "17. 'MYB'\n",
       "18. 'MYC'\n",
       "19. 'NMU'\n",
       "20. 'PVT1'\n",
       "\n",
       "\n"
      ],
      "text/plain": [
       " [1] \"CAPRIN1\" \"CAT\"     \"CD164\"   \"ERP29\"   \"FADS1\"   \"FADS2\"   \"FADS3\"  \n",
       " [8] \"FEN1\"    \"GATA1\"   \"HBE1\"    \"HBG1\"    \"HBG2\"    \"HBS1L\"   \"HDAC6\"  \n",
       "[15] \"LMO2\"    \"MEF2C\"   \"MYB\"     \"MYC\"     \"NMU\"     \"PVT1\"   "
      ]
     },
     "metadata": {},
     "output_type": "display_data"
    }
   ],
   "source": [
    "txt_fdiry = file.path(FD_DAT, \"processed\", \"CRISPRi_FlowFISH_K562_Riley_JinWoo\", \"track_bedgraph\")\n",
    "txt_fname = \"*HS_exp_r1.tsv.gz\"\n",
    "txt_fglob = file.path(txt_fdiry, txt_fname)\n",
    "\n",
    "vec_txt_fpath  = Sys.glob(txt_fglob)\n",
    "vec_txt_fname  = basename(vec_txt_fpath)\n",
    "vec_txt_target = str_remove(vec_txt_fname, \"_HS_exp_r1.tsv.gz\")\n",
    "vec_txt_target"
   ]
  },
  {
   "cell_type": "code",
   "execution_count": 17,
   "id": "b646ea96-3e0f-465d-8c06-8de47f6e4878",
   "metadata": {},
   "outputs": [
    {
     "name": "stdout",
     "output_type": "stream",
     "text": [
      "CAPRIN1 60000 17 \n",
      "CAT     60000 17 \n",
      "CD164   60001 17 \n",
      "ERP29   60000 17 \n",
      "FADS1   10000 17 \n",
      "FADS2   10000 17 \n",
      "FADS3   10000 17 \n",
      "FEN1    10000 17 \n",
      "GATA1   15335 17 \n",
      "HBE1    21170 17 \n",
      "HBG1    21170 17 \n",
      "HBG2    21170 17 \n",
      "HBS1L   21170 17 \n",
      "HDAC6   15335 17 \n",
      "LMO2    60000 17 \n",
      "MEF2C   60000 17 \n",
      "MYB     21170 17 \n",
      "MYC     51130 17 \n",
      "NMU     45500 17 \n",
      "PVT1    51130 17 \n"
     ]
    },
    {
     "data": {
      "text/html": [
       "<table class=\"dataframe\">\n",
       "<caption>A tibble: 6 × 17</caption>\n",
       "<thead>\n",
       "\t<tr><th scope=col>Chrom</th><th scope=col>ChromStart</th><th scope=col>ChromEnd</th><th scope=col>Name</th><th scope=col>SeqCounts</th><th scope=col>Strand</th><th scope=col>Guide_ID</th><th scope=col>Chrom_TSS</th><th scope=col>Start_TSS</th><th scope=col>End_TSS</th><th scope=col>Strand_Gene</th><th scope=col>Gene_Symbol</th><th scope=col>Gene_ENS</th><th scope=col>Guide_SpacerSeq</th><th scope=col>Guide_Seq</th><th scope=col>Guide_Type</th><th scope=col>Notes</th></tr>\n",
       "\t<tr><th scope=col>&lt;chr&gt;</th><th scope=col>&lt;int&gt;</th><th scope=col>&lt;int&gt;</th><th scope=col>&lt;chr&gt;</th><th scope=col>&lt;dbl&gt;</th><th scope=col>&lt;chr&gt;</th><th scope=col>&lt;chr&gt;</th><th scope=col>&lt;chr&gt;</th><th scope=col>&lt;dbl&gt;</th><th scope=col>&lt;dbl&gt;</th><th scope=col>&lt;chr&gt;</th><th scope=col>&lt;chr&gt;</th><th scope=col>&lt;chr&gt;</th><th scope=col>&lt;chr&gt;</th><th scope=col>&lt;chr&gt;</th><th scope=col>&lt;chr&gt;</th><th scope=col>&lt;chr&gt;</th></tr>\n",
       "</thead>\n",
       "<tbody>\n",
       "\t<tr><td>chr11</td><td>61748850</td><td>61748853</td><td>NA|chr11:61748831-61748850:+</td><td>121</td><td>+</td><td>chr11:61748831-61748850:+</td><td>chr11</td><td>34051731</td><td>34051732</td><td>+</td><td>CAPRIN1</td><td>ENSG00000135387</td><td>CTTTACCTCCACTGTAAGGC</td><td>GCTTTACCTCCACTGTAAGGC</td><td>negative_control</td><td>STT</td></tr>\n",
       "\t<tr><td>chr11</td><td>61748851</td><td>61748854</td><td>NA|chr11:61748832-61748851:+</td><td>153</td><td>+</td><td>chr11:61748832-61748851:+</td><td>chr11</td><td>34051731</td><td>34051732</td><td>+</td><td>CAPRIN1</td><td>ENSG00000135387</td><td>TTTACCTCCACTGTAAGGCA</td><td>GTTTACCTCCACTGTAAGGCA</td><td>negative_control</td><td>STT</td></tr>\n",
       "\t<tr><td>chr11</td><td>61748971</td><td>61748974</td><td>NA|chr11:61748975-61748994:-</td><td>172</td><td>-</td><td>chr11:61748975-61748994:-</td><td>chr11</td><td>34051731</td><td>34051732</td><td>+</td><td>CAPRIN1</td><td>ENSG00000135387</td><td>CTACCGAGCCACAGTGAGTG</td><td>GCTACCGAGCCACAGTGAGTG</td><td>negative_control</td><td>STT</td></tr>\n",
       "\t<tr><td>chr11</td><td>61749002</td><td>61749005</td><td>NA|chr11:61748983-61749002:+</td><td>  3</td><td>+</td><td>chr11:61748983-61749002:+</td><td>chr11</td><td>34051731</td><td>34051732</td><td>+</td><td>CAPRIN1</td><td>ENSG00000135387</td><td>GTGGCTCGGTAGAGAAGCCA</td><td>GTGGCTCGGTAGAGAAGCCA </td><td>negative_control</td><td>STT</td></tr>\n",
       "\t<tr><td>chr11</td><td>61749033</td><td>61749036</td><td>NA|chr11:61749014-61749033:+</td><td>246</td><td>+</td><td>chr11:61749014-61749033:+</td><td>chr11</td><td>34051731</td><td>34051732</td><td>+</td><td>CAPRIN1</td><td>ENSG00000135387</td><td>GAGGACTCATCTCCATTGAT</td><td>GAGGACTCATCTCCATTGAT </td><td>negative_control</td><td>STT</td></tr>\n",
       "\t<tr><td>chr11</td><td>61749038</td><td>61749041</td><td>NA|chr11:61749042-61749061:-</td><td>851</td><td>-</td><td>chr11:61749042-61749061:-</td><td>chr11</td><td>34051731</td><td>34051732</td><td>+</td><td>CAPRIN1</td><td>ENSG00000135387</td><td>ACTTGCATACAAGGACCTAG</td><td>GACTTGCATACAAGGACCTAG</td><td>negative_control</td><td>STT</td></tr>\n",
       "</tbody>\n",
       "</table>\n"
      ],
      "text/latex": [
       "A tibble: 6 × 17\n",
       "\\begin{tabular}{lllllllllllllllll}\n",
       " Chrom & ChromStart & ChromEnd & Name & SeqCounts & Strand & Guide\\_ID & Chrom\\_TSS & Start\\_TSS & End\\_TSS & Strand\\_Gene & Gene\\_Symbol & Gene\\_ENS & Guide\\_SpacerSeq & Guide\\_Seq & Guide\\_Type & Notes\\\\\n",
       " <chr> & <int> & <int> & <chr> & <dbl> & <chr> & <chr> & <chr> & <dbl> & <dbl> & <chr> & <chr> & <chr> & <chr> & <chr> & <chr> & <chr>\\\\\n",
       "\\hline\n",
       "\t chr11 & 61748850 & 61748853 & NA\\textbar{}chr11:61748831-61748850:+ & 121 & + & chr11:61748831-61748850:+ & chr11 & 34051731 & 34051732 & + & CAPRIN1 & ENSG00000135387 & CTTTACCTCCACTGTAAGGC & GCTTTACCTCCACTGTAAGGC & negative\\_control & STT\\\\\n",
       "\t chr11 & 61748851 & 61748854 & NA\\textbar{}chr11:61748832-61748851:+ & 153 & + & chr11:61748832-61748851:+ & chr11 & 34051731 & 34051732 & + & CAPRIN1 & ENSG00000135387 & TTTACCTCCACTGTAAGGCA & GTTTACCTCCACTGTAAGGCA & negative\\_control & STT\\\\\n",
       "\t chr11 & 61748971 & 61748974 & NA\\textbar{}chr11:61748975-61748994:- & 172 & - & chr11:61748975-61748994:- & chr11 & 34051731 & 34051732 & + & CAPRIN1 & ENSG00000135387 & CTACCGAGCCACAGTGAGTG & GCTACCGAGCCACAGTGAGTG & negative\\_control & STT\\\\\n",
       "\t chr11 & 61749002 & 61749005 & NA\\textbar{}chr11:61748983-61749002:+ &   3 & + & chr11:61748983-61749002:+ & chr11 & 34051731 & 34051732 & + & CAPRIN1 & ENSG00000135387 & GTGGCTCGGTAGAGAAGCCA & GTGGCTCGGTAGAGAAGCCA  & negative\\_control & STT\\\\\n",
       "\t chr11 & 61749033 & 61749036 & NA\\textbar{}chr11:61749014-61749033:+ & 246 & + & chr11:61749014-61749033:+ & chr11 & 34051731 & 34051732 & + & CAPRIN1 & ENSG00000135387 & GAGGACTCATCTCCATTGAT & GAGGACTCATCTCCATTGAT  & negative\\_control & STT\\\\\n",
       "\t chr11 & 61749038 & 61749041 & NA\\textbar{}chr11:61749042-61749061:- & 851 & - & chr11:61749042-61749061:- & chr11 & 34051731 & 34051732 & + & CAPRIN1 & ENSG00000135387 & ACTTGCATACAAGGACCTAG & GACTTGCATACAAGGACCTAG & negative\\_control & STT\\\\\n",
       "\\end{tabular}\n"
      ],
      "text/markdown": [
       "\n",
       "A tibble: 6 × 17\n",
       "\n",
       "| Chrom &lt;chr&gt; | ChromStart &lt;int&gt; | ChromEnd &lt;int&gt; | Name &lt;chr&gt; | SeqCounts &lt;dbl&gt; | Strand &lt;chr&gt; | Guide_ID &lt;chr&gt; | Chrom_TSS &lt;chr&gt; | Start_TSS &lt;dbl&gt; | End_TSS &lt;dbl&gt; | Strand_Gene &lt;chr&gt; | Gene_Symbol &lt;chr&gt; | Gene_ENS &lt;chr&gt; | Guide_SpacerSeq &lt;chr&gt; | Guide_Seq &lt;chr&gt; | Guide_Type &lt;chr&gt; | Notes &lt;chr&gt; |\n",
       "|---|---|---|---|---|---|---|---|---|---|---|---|---|---|---|---|---|\n",
       "| chr11 | 61748850 | 61748853 | NA|chr11:61748831-61748850:+ | 121 | + | chr11:61748831-61748850:+ | chr11 | 34051731 | 34051732 | + | CAPRIN1 | ENSG00000135387 | CTTTACCTCCACTGTAAGGC | GCTTTACCTCCACTGTAAGGC | negative_control | STT |\n",
       "| chr11 | 61748851 | 61748854 | NA|chr11:61748832-61748851:+ | 153 | + | chr11:61748832-61748851:+ | chr11 | 34051731 | 34051732 | + | CAPRIN1 | ENSG00000135387 | TTTACCTCCACTGTAAGGCA | GTTTACCTCCACTGTAAGGCA | negative_control | STT |\n",
       "| chr11 | 61748971 | 61748974 | NA|chr11:61748975-61748994:- | 172 | - | chr11:61748975-61748994:- | chr11 | 34051731 | 34051732 | + | CAPRIN1 | ENSG00000135387 | CTACCGAGCCACAGTGAGTG | GCTACCGAGCCACAGTGAGTG | negative_control | STT |\n",
       "| chr11 | 61749002 | 61749005 | NA|chr11:61748983-61749002:+ |   3 | + | chr11:61748983-61749002:+ | chr11 | 34051731 | 34051732 | + | CAPRIN1 | ENSG00000135387 | GTGGCTCGGTAGAGAAGCCA | GTGGCTCGGTAGAGAAGCCA  | negative_control | STT |\n",
       "| chr11 | 61749033 | 61749036 | NA|chr11:61749014-61749033:+ | 246 | + | chr11:61749014-61749033:+ | chr11 | 34051731 | 34051732 | + | CAPRIN1 | ENSG00000135387 | GAGGACTCATCTCCATTGAT | GAGGACTCATCTCCATTGAT  | negative_control | STT |\n",
       "| chr11 | 61749038 | 61749041 | NA|chr11:61749042-61749061:- | 851 | - | chr11:61749042-61749061:- | chr11 | 34051731 | 34051732 | + | CAPRIN1 | ENSG00000135387 | ACTTGCATACAAGGACCTAG | GACTTGCATACAAGGACCTAG | negative_control | STT |\n",
       "\n"
      ],
      "text/plain": [
       "  Chrom ChromStart ChromEnd Name                         SeqCounts Strand\n",
       "1 chr11 61748850   61748853 NA|chr11:61748831-61748850:+ 121       +     \n",
       "2 chr11 61748851   61748854 NA|chr11:61748832-61748851:+ 153       +     \n",
       "3 chr11 61748971   61748974 NA|chr11:61748975-61748994:- 172       -     \n",
       "4 chr11 61749002   61749005 NA|chr11:61748983-61749002:+   3       +     \n",
       "5 chr11 61749033   61749036 NA|chr11:61749014-61749033:+ 246       +     \n",
       "6 chr11 61749038   61749041 NA|chr11:61749042-61749061:- 851       -     \n",
       "  Guide_ID                  Chrom_TSS Start_TSS End_TSS  Strand_Gene\n",
       "1 chr11:61748831-61748850:+ chr11     34051731  34051732 +          \n",
       "2 chr11:61748832-61748851:+ chr11     34051731  34051732 +          \n",
       "3 chr11:61748975-61748994:- chr11     34051731  34051732 +          \n",
       "4 chr11:61748983-61749002:+ chr11     34051731  34051732 +          \n",
       "5 chr11:61749014-61749033:+ chr11     34051731  34051732 +          \n",
       "6 chr11:61749042-61749061:- chr11     34051731  34051732 +          \n",
       "  Gene_Symbol Gene_ENS        Guide_SpacerSeq      Guide_Seq            \n",
       "1 CAPRIN1     ENSG00000135387 CTTTACCTCCACTGTAAGGC GCTTTACCTCCACTGTAAGGC\n",
       "2 CAPRIN1     ENSG00000135387 TTTACCTCCACTGTAAGGCA GTTTACCTCCACTGTAAGGCA\n",
       "3 CAPRIN1     ENSG00000135387 CTACCGAGCCACAGTGAGTG GCTACCGAGCCACAGTGAGTG\n",
       "4 CAPRIN1     ENSG00000135387 GTGGCTCGGTAGAGAAGCCA GTGGCTCGGTAGAGAAGCCA \n",
       "5 CAPRIN1     ENSG00000135387 GAGGACTCATCTCCATTGAT GAGGACTCATCTCCATTGAT \n",
       "6 CAPRIN1     ENSG00000135387 ACTTGCATACAAGGACCTAG GACTTGCATACAAGGACCTAG\n",
       "  Guide_Type       Notes\n",
       "1 negative_control STT  \n",
       "2 negative_control STT  \n",
       "3 negative_control STT  \n",
       "4 negative_control STT  \n",
       "5 negative_control STT  \n",
       "6 negative_control STT  "
      ]
     },
     "metadata": {},
     "output_type": "display_data"
    }
   ],
   "source": [
    "lst = lapply(vec_txt_fpath, function(txt_fpath){\n",
    "        \n",
    "    ### read data\n",
    "    vec_txt_cname = c(\n",
    "        \"Chrom\", \"ChromStart\", \"ChromEnd\", \"Name\", \"SeqCounts\", \"Strand\", \"Guide_ID\", \n",
    "        \"Chrom_TSS\", \"Start_TSS\", \"End_TSS\", \"Strand_Gene\", \n",
    "        \"Gene_Symbol\", \n",
    "        \"Gene_ENS\", \n",
    "        \"Guide_SpacerSeq\",\n",
    "        \"Guide_Seq\",\n",
    "        \"Guide_Type\",\n",
    "        \"Notes\"\n",
    "    )\n",
    "    vec_col_ctype = cols(\n",
    "        \"Chrom\" = col_character(),\n",
    "        \"ChromStart\" = col_integer(),\n",
    "        \"ChromEnd\"   = col_integer()\n",
    "    )\n",
    "    dat = read_tsv(\n",
    "        txt_fpath, \n",
    "        col_names = vec_txt_cname, \n",
    "        col_types = vec_col_ctype, \n",
    "        show_col_types = FALSE)\n",
    "    return(dat)\n",
    "})\n",
    "names(lst) = vec_txt_target\n",
    "\n",
    "lst_dat_crispri_info = lst\n",
    "for (idx in names(lst)){\n",
    "    dat = lst[[idx]]\n",
    "    txt = format(idx, width = 7, justify = \"left\")\n",
    "    cat(txt, dim(dat), \"\\n\")\n",
    "}\n",
    "\n",
    "dat = lst[[1]]\n",
    "head(dat)"
   ]
  },
  {
   "cell_type": "code",
   "execution_count": 19,
   "id": "6d1110e5-5916-496e-ba54-e7c682b54039",
   "metadata": {},
   "outputs": [
    {
     "data": {
      "text/html": [
       "<table class=\"dataframe\">\n",
       "<caption>A tibble: 6 × 7</caption>\n",
       "<thead>\n",
       "\t<tr><th scope=col>Chrom</th><th scope=col>ChromStart</th><th scope=col>ChromEnd</th><th scope=col>Name</th><th scope=col>Score</th><th scope=col>Strand</th><th scope=col>Target</th></tr>\n",
       "\t<tr><th scope=col>&lt;chr&gt;</th><th scope=col>&lt;dbl&gt;</th><th scope=col>&lt;dbl&gt;</th><th scope=col>&lt;chr&gt;</th><th scope=col>&lt;dbl&gt;</th><th scope=col>&lt;chr&gt;</th><th scope=col>&lt;chr&gt;</th></tr>\n",
       "</thead>\n",
       "<tbody>\n",
       "\t<tr><td>chr1</td><td>74582275</td><td>74582276</td><td>id-1</td><td> 0.414014</td><td>.</td><td>CD164</td></tr>\n",
       "\t<tr><td>chr1</td><td>74582275</td><td>74582276</td><td>id-1</td><td>-0.493091</td><td>.</td><td>MYC  </td></tr>\n",
       "\t<tr><td>chr1</td><td>74582275</td><td>74582276</td><td>id-1</td><td> 0.024514</td><td>.</td><td>NMU  </td></tr>\n",
       "\t<tr><td>chr1</td><td>74582275</td><td>74582276</td><td>id-1</td><td> 0.440890</td><td>.</td><td>PVT1 </td></tr>\n",
       "\t<tr><td>chr1</td><td>74582309</td><td>74582310</td><td>id-2</td><td>-0.181799</td><td>.</td><td>CD164</td></tr>\n",
       "\t<tr><td>chr1</td><td>74582309</td><td>74582310</td><td>id-2</td><td> 0.997649</td><td>.</td><td>MYC  </td></tr>\n",
       "</tbody>\n",
       "</table>\n"
      ],
      "text/latex": [
       "A tibble: 6 × 7\n",
       "\\begin{tabular}{lllllll}\n",
       " Chrom & ChromStart & ChromEnd & Name & Score & Strand & Target\\\\\n",
       " <chr> & <dbl> & <dbl> & <chr> & <dbl> & <chr> & <chr>\\\\\n",
       "\\hline\n",
       "\t chr1 & 74582275 & 74582276 & id-1 &  0.414014 & . & CD164\\\\\n",
       "\t chr1 & 74582275 & 74582276 & id-1 & -0.493091 & . & MYC  \\\\\n",
       "\t chr1 & 74582275 & 74582276 & id-1 &  0.024514 & . & NMU  \\\\\n",
       "\t chr1 & 74582275 & 74582276 & id-1 &  0.440890 & . & PVT1 \\\\\n",
       "\t chr1 & 74582309 & 74582310 & id-2 & -0.181799 & . & CD164\\\\\n",
       "\t chr1 & 74582309 & 74582310 & id-2 &  0.997649 & . & MYC  \\\\\n",
       "\\end{tabular}\n"
      ],
      "text/markdown": [
       "\n",
       "A tibble: 6 × 7\n",
       "\n",
       "| Chrom &lt;chr&gt; | ChromStart &lt;dbl&gt; | ChromEnd &lt;dbl&gt; | Name &lt;chr&gt; | Score &lt;dbl&gt; | Strand &lt;chr&gt; | Target &lt;chr&gt; |\n",
       "|---|---|---|---|---|---|---|\n",
       "| chr1 | 74582275 | 74582276 | id-1 |  0.414014 | . | CD164 |\n",
       "| chr1 | 74582275 | 74582276 | id-1 | -0.493091 | . | MYC   |\n",
       "| chr1 | 74582275 | 74582276 | id-1 |  0.024514 | . | NMU   |\n",
       "| chr1 | 74582275 | 74582276 | id-1 |  0.440890 | . | PVT1  |\n",
       "| chr1 | 74582309 | 74582310 | id-2 | -0.181799 | . | CD164 |\n",
       "| chr1 | 74582309 | 74582310 | id-2 |  0.997649 | . | MYC   |\n",
       "\n"
      ],
      "text/plain": [
       "  Chrom ChromStart ChromEnd Name Score     Strand Target\n",
       "1 chr1  74582275   74582276 id-1  0.414014 .      CD164 \n",
       "2 chr1  74582275   74582276 id-1 -0.493091 .      MYC   \n",
       "3 chr1  74582275   74582276 id-1  0.024514 .      NMU   \n",
       "4 chr1  74582275   74582276 id-1  0.440890 .      PVT1  \n",
       "5 chr1  74582309   74582310 id-2 -0.181799 .      CD164 \n",
       "6 chr1  74582309   74582310 id-2  0.997649 .      MYC   "
      ]
     },
     "metadata": {},
     "output_type": "display_data"
    }
   ],
   "source": [
    "### set directory\n",
    "txt_assay  = \"CRISPRi_FlowFISH_K562_Riley_JinWoo\"\n",
    "txt_folder = \"guide_scores\"\n",
    "txt_fdiry  = file.path(FD_RES, \"assay_fcc\", txt_assay, txt_folder)\n",
    "txt_fname  = \"CRISPRi_HCRFF_K562.hg38.ZScore.unstranded.bed.gz\"\n",
    "txt_fpath  = file.path(txt_fdiry, txt_fname)\n",
    "\n",
    "vec_txt_cname = c(\"Chrom\", \"ChromStart\", \"ChromEnd\", \"Name\", \"Score\", \"Strand\", \"Target\")\n",
    "dat = read_tsv(txt_fpath, col_names = vec_txt_cname, show_col_types = FALSE)\n",
    "lst = split(dat, dat$Target)\n",
    "\n",
    "lst_dat_crispri_score = lst\n",
    "dat_crispri_score = dat\n",
    "head(dat)"
   ]
  },
  {
   "cell_type": "markdown",
   "id": "2ae927a1-2803-4a7b-a1c9-c79c80631c45",
   "metadata": {},
   "source": [
    "## Test matching guides between tables"
   ]
  },
  {
   "cell_type": "code",
   "execution_count": 38,
   "id": "f966f2bf-f755-4508-b2ac-a3f71b821654",
   "metadata": {},
   "outputs": [
    {
     "name": "stdout",
     "output_type": "stream",
     "text": [
      "                  \n",
      "                    chr1 chr10 chr11 chr12 chr13 chr14 chr15 chr16 chr17 chr18\n",
      "  negative_control    60    58    89    30    67    27    34     8     7    29\n",
      "  targeting            0     0     0     0     0     0     0     0     0     0\n",
      "                  \n",
      "                   chr19  chr2 chr21  chr3  chr4  chr5  chr6  chr7  chr8  chr9\n",
      "  negative_control     2    63    21    48    99    68    58    66    92    38\n",
      "  targeting            0     0     0     0     0     0     0     0 50130     0\n",
      "                  \n",
      "                    chrX\n",
      "  negative_control    36\n",
      "  targeting            0\n"
     ]
    },
    {
     "data": {
      "text/html": [
       "<table class=\"dataframe\">\n",
       "<caption>A tibble: 6 × 7</caption>\n",
       "<thead>\n",
       "\t<tr><th scope=col>Chrom</th><th scope=col>ChromStart</th><th scope=col>ChromEnd</th><th scope=col>ChromLoc</th><th scope=col>Guide_Loc</th><th scope=col>Guide_Type</th><th scope=col>Notes</th></tr>\n",
       "\t<tr><th scope=col>&lt;chr&gt;</th><th scope=col>&lt;int&gt;</th><th scope=col>&lt;int&gt;</th><th scope=col>&lt;dbl&gt;</th><th scope=col>&lt;chr&gt;</th><th scope=col>&lt;chr&gt;</th><th scope=col>&lt;chr&gt;</th></tr>\n",
       "</thead>\n",
       "<tbody>\n",
       "\t<tr><td>chr1</td><td> 74582274</td><td> 74582277</td><td> 74582275</td><td>chr1:74582275 </td><td>negative_control</td><td>ST</td></tr>\n",
       "\t<tr><td>chr1</td><td> 74582308</td><td> 74582311</td><td> 74582309</td><td>chr1:74582309 </td><td>negative_control</td><td>ST</td></tr>\n",
       "\t<tr><td>chr1</td><td> 80526337</td><td> 80526340</td><td> 80526338</td><td>chr1:80526338 </td><td>negative_control</td><td>ST</td></tr>\n",
       "\t<tr><td>chr1</td><td>102025740</td><td>102025743</td><td>102025739</td><td>chr1:102025739</td><td>negative_control</td><td>ST</td></tr>\n",
       "\t<tr><td>chr1</td><td>102026462</td><td>102026465</td><td>102026463</td><td>chr1:102026463</td><td>negative_control</td><td>ST</td></tr>\n",
       "\t<tr><td>chr1</td><td>102522707</td><td>102522710</td><td>102522706</td><td>chr1:102522706</td><td>negative_control</td><td>ST</td></tr>\n",
       "</tbody>\n",
       "</table>\n"
      ],
      "text/latex": [
       "A tibble: 6 × 7\n",
       "\\begin{tabular}{lllllll}\n",
       " Chrom & ChromStart & ChromEnd & ChromLoc & Guide\\_Loc & Guide\\_Type & Notes\\\\\n",
       " <chr> & <int> & <int> & <dbl> & <chr> & <chr> & <chr>\\\\\n",
       "\\hline\n",
       "\t chr1 &  74582274 &  74582277 &  74582275 & chr1:74582275  & negative\\_control & ST\\\\\n",
       "\t chr1 &  74582308 &  74582311 &  74582309 & chr1:74582309  & negative\\_control & ST\\\\\n",
       "\t chr1 &  80526337 &  80526340 &  80526338 & chr1:80526338  & negative\\_control & ST\\\\\n",
       "\t chr1 & 102025740 & 102025743 & 102025739 & chr1:102025739 & negative\\_control & ST\\\\\n",
       "\t chr1 & 102026462 & 102026465 & 102026463 & chr1:102026463 & negative\\_control & ST\\\\\n",
       "\t chr1 & 102522707 & 102522710 & 102522706 & chr1:102522706 & negative\\_control & ST\\\\\n",
       "\\end{tabular}\n"
      ],
      "text/markdown": [
       "\n",
       "A tibble: 6 × 7\n",
       "\n",
       "| Chrom &lt;chr&gt; | ChromStart &lt;int&gt; | ChromEnd &lt;int&gt; | ChromLoc &lt;dbl&gt; | Guide_Loc &lt;chr&gt; | Guide_Type &lt;chr&gt; | Notes &lt;chr&gt; |\n",
       "|---|---|---|---|---|---|---|\n",
       "| chr1 |  74582274 |  74582277 |  74582275 | chr1:74582275  | negative_control | ST |\n",
       "| chr1 |  74582308 |  74582311 |  74582309 | chr1:74582309  | negative_control | ST |\n",
       "| chr1 |  80526337 |  80526340 |  80526338 | chr1:80526338  | negative_control | ST |\n",
       "| chr1 | 102025740 | 102025743 | 102025739 | chr1:102025739 | negative_control | ST |\n",
       "| chr1 | 102026462 | 102026465 | 102026463 | chr1:102026463 | negative_control | ST |\n",
       "| chr1 | 102522707 | 102522710 | 102522706 | chr1:102522706 | negative_control | ST |\n",
       "\n"
      ],
      "text/plain": [
       "  Chrom ChromStart ChromEnd  ChromLoc  Guide_Loc      Guide_Type       Notes\n",
       "1 chr1   74582274   74582277  74582275 chr1:74582275  negative_control ST   \n",
       "2 chr1   74582308   74582311  74582309 chr1:74582309  negative_control ST   \n",
       "3 chr1   80526337   80526340  80526338 chr1:80526338  negative_control ST   \n",
       "4 chr1  102025740  102025743 102025739 chr1:102025739 negative_control ST   \n",
       "5 chr1  102026462  102026465 102026463 chr1:102026463 negative_control ST   \n",
       "6 chr1  102522707  102522710 102522706 chr1:102522706 negative_control ST   "
      ]
     },
     "metadata": {},
     "output_type": "display_data"
    }
   ],
   "source": [
    "lst = lst_dat_crispri_info\n",
    "dat = lst[[\"MYC\"]]\n",
    "dat = dat %>% \n",
    "    dplyr::mutate(ChromLoc  = ifelse(Strand == \"+\", ChromStart - 1, ChromStart + 1)) %>%\n",
    "    dplyr::mutate(Guide_Loc = paste(Chrom, as.integer(ChromLoc), sep = \":\")) %>%\n",
    "    dplyr::select(Chrom, ChromStart, ChromEnd, ChromLoc, Guide_Loc, Guide_Type, Notes) %>% \n",
    "    dplyr::arrange(Chrom, ChromStart, ChromEnd)\n",
    "res = table(dat$Guide_Type, dat$Chrom)\n",
    "\n",
    "dat_info = dat\n",
    "print(res)\n",
    "head(dat)"
   ]
  },
  {
   "cell_type": "code",
   "execution_count": 39,
   "id": "aac44de4-1b19-4f89-a352-55d5383358f4",
   "metadata": {},
   "outputs": [
    {
     "data": {
      "text/html": [
       "<table class=\"dataframe\">\n",
       "<caption>A tibble: 6 × 8</caption>\n",
       "<thead>\n",
       "\t<tr><th scope=col>Chrom</th><th scope=col>ChromStart</th><th scope=col>ChromEnd</th><th scope=col>Name</th><th scope=col>Score</th><th scope=col>Strand</th><th scope=col>Target</th><th scope=col>Guide_Loc</th></tr>\n",
       "\t<tr><th scope=col>&lt;chr&gt;</th><th scope=col>&lt;dbl&gt;</th><th scope=col>&lt;dbl&gt;</th><th scope=col>&lt;chr&gt;</th><th scope=col>&lt;dbl&gt;</th><th scope=col>&lt;chr&gt;</th><th scope=col>&lt;chr&gt;</th><th scope=col>&lt;chr&gt;</th></tr>\n",
       "</thead>\n",
       "<tbody>\n",
       "\t<tr><td>chr1</td><td> 74582275</td><td> 74582276</td><td>id-1</td><td>-0.493091</td><td>.</td><td>MYC</td><td>chr1:74582275 </td></tr>\n",
       "\t<tr><td>chr1</td><td> 74582309</td><td> 74582310</td><td>id-2</td><td> 0.997649</td><td>.</td><td>MYC</td><td>chr1:74582309 </td></tr>\n",
       "\t<tr><td>chr1</td><td> 80526338</td><td> 80526339</td><td>id-3</td><td> 0.340142</td><td>.</td><td>MYC</td><td>chr1:80526338 </td></tr>\n",
       "\t<tr><td>chr1</td><td>102025739</td><td>102025740</td><td>id-4</td><td>-0.018728</td><td>.</td><td>MYC</td><td>chr1:102025739</td></tr>\n",
       "\t<tr><td>chr1</td><td>102026463</td><td>102026464</td><td>id-5</td><td>-0.757373</td><td>.</td><td>MYC</td><td>chr1:102026463</td></tr>\n",
       "\t<tr><td>chr1</td><td>102522706</td><td>102522707</td><td>id-6</td><td>-0.379157</td><td>.</td><td>MYC</td><td>chr1:102522706</td></tr>\n",
       "</tbody>\n",
       "</table>\n"
      ],
      "text/latex": [
       "A tibble: 6 × 8\n",
       "\\begin{tabular}{llllllll}\n",
       " Chrom & ChromStart & ChromEnd & Name & Score & Strand & Target & Guide\\_Loc\\\\\n",
       " <chr> & <dbl> & <dbl> & <chr> & <dbl> & <chr> & <chr> & <chr>\\\\\n",
       "\\hline\n",
       "\t chr1 &  74582275 &  74582276 & id-1 & -0.493091 & . & MYC & chr1:74582275 \\\\\n",
       "\t chr1 &  74582309 &  74582310 & id-2 &  0.997649 & . & MYC & chr1:74582309 \\\\\n",
       "\t chr1 &  80526338 &  80526339 & id-3 &  0.340142 & . & MYC & chr1:80526338 \\\\\n",
       "\t chr1 & 102025739 & 102025740 & id-4 & -0.018728 & . & MYC & chr1:102025739\\\\\n",
       "\t chr1 & 102026463 & 102026464 & id-5 & -0.757373 & . & MYC & chr1:102026463\\\\\n",
       "\t chr1 & 102522706 & 102522707 & id-6 & -0.379157 & . & MYC & chr1:102522706\\\\\n",
       "\\end{tabular}\n"
      ],
      "text/markdown": [
       "\n",
       "A tibble: 6 × 8\n",
       "\n",
       "| Chrom &lt;chr&gt; | ChromStart &lt;dbl&gt; | ChromEnd &lt;dbl&gt; | Name &lt;chr&gt; | Score &lt;dbl&gt; | Strand &lt;chr&gt; | Target &lt;chr&gt; | Guide_Loc &lt;chr&gt; |\n",
       "|---|---|---|---|---|---|---|---|\n",
       "| chr1 |  74582275 |  74582276 | id-1 | -0.493091 | . | MYC | chr1:74582275  |\n",
       "| chr1 |  74582309 |  74582310 | id-2 |  0.997649 | . | MYC | chr1:74582309  |\n",
       "| chr1 |  80526338 |  80526339 | id-3 |  0.340142 | . | MYC | chr1:80526338  |\n",
       "| chr1 | 102025739 | 102025740 | id-4 | -0.018728 | . | MYC | chr1:102025739 |\n",
       "| chr1 | 102026463 | 102026464 | id-5 | -0.757373 | . | MYC | chr1:102026463 |\n",
       "| chr1 | 102522706 | 102522707 | id-6 | -0.379157 | . | MYC | chr1:102522706 |\n",
       "\n"
      ],
      "text/plain": [
       "  Chrom ChromStart ChromEnd  Name Score     Strand Target Guide_Loc     \n",
       "1 chr1   74582275   74582276 id-1 -0.493091 .      MYC    chr1:74582275 \n",
       "2 chr1   74582309   74582310 id-2  0.997649 .      MYC    chr1:74582309 \n",
       "3 chr1   80526338   80526339 id-3  0.340142 .      MYC    chr1:80526338 \n",
       "4 chr1  102025739  102025740 id-4 -0.018728 .      MYC    chr1:102025739\n",
       "5 chr1  102026463  102026464 id-5 -0.757373 .      MYC    chr1:102026463\n",
       "6 chr1  102522706  102522707 id-6 -0.379157 .      MYC    chr1:102522706"
      ]
     },
     "metadata": {},
     "output_type": "display_data"
    }
   ],
   "source": [
    "lst = lst_dat_crispri_score\n",
    "dat = lst[[\"MYC\"]]\n",
    "dat = dat %>% dplyr::mutate(Guide_Loc = paste(Chrom, as.integer(ChromStart), sep = \":\"))\n",
    "\n",
    "dat_score = dat\n",
    "head(dat)"
   ]
  },
  {
   "cell_type": "code",
   "execution_count": 41,
   "id": "b0007c89-7d37-48e4-a583-a0ac02505afe",
   "metadata": {},
   "outputs": [
    {
     "name": "stdout",
     "output_type": "stream",
     "text": [
      "                  \n",
      "                    chr1 chr10 chr11 chr12 chr13 chr14 chr15 chr16 chr17 chr18\n",
      "  negative_control    60    58    89    30    67    27    34     8     7    29\n",
      "  targeting            0     0     0     0     0     0     0     0     0     0\n",
      "                  \n",
      "                   chr19  chr2 chr21  chr3  chr4  chr5  chr6  chr7  chr8  chr9\n",
      "  negative_control     2    63    21    48    99    68    58    66    92    38\n",
      "  targeting            0     0     0     0     0     0     0     0 50130     0\n",
      "                  \n",
      "                    chrX\n",
      "  negative_control    36\n",
      "  targeting            0\n"
     ]
    },
    {
     "data": {
      "text/html": [
       "<table class=\"dataframe\">\n",
       "<caption>A tibble: 6 × 9</caption>\n",
       "<thead>\n",
       "\t<tr><th scope=col>Chrom</th><th scope=col>ChromStart</th><th scope=col>ChromEnd</th><th scope=col>Name</th><th scope=col>Score</th><th scope=col>Strand</th><th scope=col>Target</th><th scope=col>Guide_Loc</th><th scope=col>Guide_Type</th></tr>\n",
       "\t<tr><th scope=col>&lt;chr&gt;</th><th scope=col>&lt;dbl&gt;</th><th scope=col>&lt;dbl&gt;</th><th scope=col>&lt;chr&gt;</th><th scope=col>&lt;dbl&gt;</th><th scope=col>&lt;chr&gt;</th><th scope=col>&lt;chr&gt;</th><th scope=col>&lt;chr&gt;</th><th scope=col>&lt;chr&gt;</th></tr>\n",
       "</thead>\n",
       "<tbody>\n",
       "\t<tr><td>chr1</td><td> 74582275</td><td> 74582276</td><td>id-1</td><td>-0.493091</td><td>.</td><td>MYC</td><td>chr1:74582275 </td><td>negative_control</td></tr>\n",
       "\t<tr><td>chr1</td><td> 74582309</td><td> 74582310</td><td>id-2</td><td> 0.997649</td><td>.</td><td>MYC</td><td>chr1:74582309 </td><td>negative_control</td></tr>\n",
       "\t<tr><td>chr1</td><td> 80526338</td><td> 80526339</td><td>id-3</td><td> 0.340142</td><td>.</td><td>MYC</td><td>chr1:80526338 </td><td>negative_control</td></tr>\n",
       "\t<tr><td>chr1</td><td>102025739</td><td>102025740</td><td>id-4</td><td>-0.018728</td><td>.</td><td>MYC</td><td>chr1:102025739</td><td>negative_control</td></tr>\n",
       "\t<tr><td>chr1</td><td>102026463</td><td>102026464</td><td>id-5</td><td>-0.757373</td><td>.</td><td>MYC</td><td>chr1:102026463</td><td>negative_control</td></tr>\n",
       "\t<tr><td>chr1</td><td>102522706</td><td>102522707</td><td>id-6</td><td>-0.379157</td><td>.</td><td>MYC</td><td>chr1:102522706</td><td>negative_control</td></tr>\n",
       "</tbody>\n",
       "</table>\n"
      ],
      "text/latex": [
       "A tibble: 6 × 9\n",
       "\\begin{tabular}{lllllllll}\n",
       " Chrom & ChromStart & ChromEnd & Name & Score & Strand & Target & Guide\\_Loc & Guide\\_Type\\\\\n",
       " <chr> & <dbl> & <dbl> & <chr> & <dbl> & <chr> & <chr> & <chr> & <chr>\\\\\n",
       "\\hline\n",
       "\t chr1 &  74582275 &  74582276 & id-1 & -0.493091 & . & MYC & chr1:74582275  & negative\\_control\\\\\n",
       "\t chr1 &  74582309 &  74582310 & id-2 &  0.997649 & . & MYC & chr1:74582309  & negative\\_control\\\\\n",
       "\t chr1 &  80526338 &  80526339 & id-3 &  0.340142 & . & MYC & chr1:80526338  & negative\\_control\\\\\n",
       "\t chr1 & 102025739 & 102025740 & id-4 & -0.018728 & . & MYC & chr1:102025739 & negative\\_control\\\\\n",
       "\t chr1 & 102026463 & 102026464 & id-5 & -0.757373 & . & MYC & chr1:102026463 & negative\\_control\\\\\n",
       "\t chr1 & 102522706 & 102522707 & id-6 & -0.379157 & . & MYC & chr1:102522706 & negative\\_control\\\\\n",
       "\\end{tabular}\n"
      ],
      "text/markdown": [
       "\n",
       "A tibble: 6 × 9\n",
       "\n",
       "| Chrom &lt;chr&gt; | ChromStart &lt;dbl&gt; | ChromEnd &lt;dbl&gt; | Name &lt;chr&gt; | Score &lt;dbl&gt; | Strand &lt;chr&gt; | Target &lt;chr&gt; | Guide_Loc &lt;chr&gt; | Guide_Type &lt;chr&gt; |\n",
       "|---|---|---|---|---|---|---|---|---|\n",
       "| chr1 |  74582275 |  74582276 | id-1 | -0.493091 | . | MYC | chr1:74582275  | negative_control |\n",
       "| chr1 |  74582309 |  74582310 | id-2 |  0.997649 | . | MYC | chr1:74582309  | negative_control |\n",
       "| chr1 |  80526338 |  80526339 | id-3 |  0.340142 | . | MYC | chr1:80526338  | negative_control |\n",
       "| chr1 | 102025739 | 102025740 | id-4 | -0.018728 | . | MYC | chr1:102025739 | negative_control |\n",
       "| chr1 | 102026463 | 102026464 | id-5 | -0.757373 | . | MYC | chr1:102026463 | negative_control |\n",
       "| chr1 | 102522706 | 102522707 | id-6 | -0.379157 | . | MYC | chr1:102522706 | negative_control |\n",
       "\n"
      ],
      "text/plain": [
       "  Chrom ChromStart ChromEnd  Name Score     Strand Target Guide_Loc     \n",
       "1 chr1   74582275   74582276 id-1 -0.493091 .      MYC    chr1:74582275 \n",
       "2 chr1   74582309   74582310 id-2  0.997649 .      MYC    chr1:74582309 \n",
       "3 chr1   80526338   80526339 id-3  0.340142 .      MYC    chr1:80526338 \n",
       "4 chr1  102025739  102025740 id-4 -0.018728 .      MYC    chr1:102025739\n",
       "5 chr1  102026463  102026464 id-5 -0.757373 .      MYC    chr1:102026463\n",
       "6 chr1  102522706  102522707 id-6 -0.379157 .      MYC    chr1:102522706\n",
       "  Guide_Type      \n",
       "1 negative_control\n",
       "2 negative_control\n",
       "3 negative_control\n",
       "4 negative_control\n",
       "5 negative_control\n",
       "6 negative_control"
      ]
     },
     "metadata": {},
     "output_type": "display_data"
    }
   ],
   "source": [
    "dat = dat_info\n",
    "dat = dat %>% dplyr::select(Chrom, Guide_Loc, Guide_Type)\n",
    "\n",
    "dat = dplyr::left_join(dat_score, dat, by=c(\"Chrom\", \"Guide_Loc\"))\n",
    "res = table(dat$Guide_Type, dat$Chrom)\n",
    "\n",
    "print(res)\n",
    "head(dat)"
   ]
  },
  {
   "cell_type": "code",
   "execution_count": 45,
   "id": "e9fb229d-29a5-4c6d-a338-dd95f0c773e4",
   "metadata": {},
   "outputs": [
    {
     "name": "stdout",
     "output_type": "stream",
     "text": [
      "[1] 49986\n",
      "[1] 51130\n",
      "[1] TRUE\n"
     ]
    }
   ],
   "source": [
    "x = dat_score$Guide_Loc\n",
    "y = dat_info$Guide_Loc\n",
    "\n",
    "print(length(x))\n",
    "print(length(y))\n",
    "print(all(x %in% y))\n",
    "#n =   100; print(all(x[1:n] == y[1:n]))\n",
    "#n =   500; print(all(x[1:n] == y[1:n]))\n",
    "#n = 10000; print(all(x[1:n] == y[1:n]))\n",
    "#n = 20000; print(all(x[1:n] == y[1:n]))"
   ]
  },
  {
   "cell_type": "code",
   "execution_count": null,
   "id": "d1220a5e-2e35-4595-ac0d-07eb8bc0e1ee",
   "metadata": {},
   "outputs": [],
   "source": []
  },
  {
   "cell_type": "code",
   "execution_count": null,
   "id": "286ba05b-34e9-47c0-a14a-4998776ed64b",
   "metadata": {},
   "outputs": [],
   "source": []
  }
 ],
 "metadata": {
  "kernelspec": {
   "display_name": "R",
   "language": "R",
   "name": "ir"
  },
  "language_info": {
   "codemirror_mode": "r",
   "file_extension": ".r",
   "mimetype": "text/x-r-source",
   "name": "R",
   "pygments_lexer": "r",
   "version": "4.4.0"
  }
 },
 "nbformat": 4,
 "nbformat_minor": 5
}
