{
 "cells": [
  {
   "cell_type": "raw",
   "id": "fafdaee8-2d57-40bf-a48f-4c3799e9e6cb",
   "metadata": {},
   "source": [
    "---\n",
    "title: Prepare STARR-seq data 03\n",
    "subtitle: Summarize STARR-seq data files\n",
    "format:\n",
    "    html:\n",
    "        code-fold:  true\n",
    "        code-tools: true\n",
    "---"
   ]
  },
  {
   "cell_type": "markdown",
   "id": "f5dddcc5-f304-4059-b9cd-aa6d2a52887b",
   "metadata": {},
   "source": [
    "**Set environment**"
   ]
  },
  {
   "cell_type": "code",
   "execution_count": 1,
   "id": "8b18622c-4d01-4887-9238-7f76e04a4ac9",
   "metadata": {},
   "outputs": [
    {
     "name": "stdout",
     "output_type": "stream",
     "text": [
      "You are working on             Duke Server: HARDAC\n",
      "BASE DIRECTORY (FD_BASE):      /data/reddylab/Kuei\n",
      "REPO DIRECTORY (FD_REPO):      /data/reddylab/Kuei/repo\n",
      "WORK DIRECTORY (FD_WORK):      /data/reddylab/Kuei/work\n",
      "DATA DIRECTORY (FD_DATA):      /data/reddylab/Kuei/data\n",
      "CONTAINER DIR. (FD_SING):      /data/reddylab/Kuei/container\n",
      "\n",
      "You are working with           ENCODE FCC\n",
      "PATH OF PROJECT (FD_PRJ):      /data/reddylab/Kuei/repo/Proj_ENCODE_FCC\n",
      "PROJECT RESULTS (FD_RES):      /data/reddylab/Kuei/repo/Proj_ENCODE_FCC/results\n",
      "PROJECT SCRIPTS (FD_EXE):      /data/reddylab/Kuei/repo/Proj_ENCODE_FCC/scripts\n",
      "PROJECT DATA    (FD_DAT):      /data/reddylab/Kuei/repo/Proj_ENCODE_FCC/data\n",
      "PROJECT NOTE    (FD_NBK):      /data/reddylab/Kuei/repo/Proj_ENCODE_FCC/notebooks\n",
      "PROJECT DOCS    (FD_DOC):      /data/reddylab/Kuei/repo/Proj_ENCODE_FCC/docs\n",
      "PROJECT LOG     (FD_LOG):      /data/reddylab/Kuei/repo/Proj_ENCODE_FCC/log\n",
      "PROJECT APP     (FD_APP):      /data/reddylab/Kuei/repo/Proj_ENCODE_FCC/app\n",
      "PROJECT REF     (FD_REF):      /data/reddylab/Kuei/repo/Proj_ENCODE_FCC/references\n",
      "PROJECT IMAGE   (FP_PRJ_SIF):  /data/reddylab/Kuei/repo/Proj_ENCODE_FCC/app/singularity_proj_encode_fcc.sif\n",
      "\n"
     ]
    }
   ],
   "source": [
    "source ../run_config_project.sh\n",
    "source ${FD_EXE}/config_load_module_bedtools.sh\n",
    "show_env"
   ]
  },
  {
   "cell_type": "markdown",
   "id": "4589636e-d6fb-4193-bbf8-130264abbc64",
   "metadata": {},
   "source": [
    "## Prepare"
   ]
  },
  {
   "cell_type": "markdown",
   "id": "be082170-8d6c-4141-aeaf-d240d40e15b1",
   "metadata": {},
   "source": [
    "**Set assay names**"
   ]
  },
  {
   "cell_type": "code",
   "execution_count": 2,
   "id": "10f2d204-fa10-498d-9c81-caac834c2866",
   "metadata": {},
   "outputs": [
    {
     "name": "stdout",
     "output_type": "stream",
     "text": [
      "\u001b[0m\u001b[38;5;27m/data/reddylab/Kuei/repo/Proj_ENCODE_FCC/results/assay_fcc/STARR_ATAC_K562_Reddy_KS\u001b[0m\u001b[K\n",
      "\u001b[38;5;27m/data/reddylab/Kuei/repo/Proj_ENCODE_FCC/results/assay_fcc/STARR_ATAC_K562_Reddy_KS274\u001b[0m\u001b[K\n",
      "\u001b[38;5;27m/data/reddylab/Kuei/repo/Proj_ENCODE_FCC/results/assay_fcc/STARR_ATAC_K562_Reddy_KS91\u001b[0m\u001b[K\n",
      "\u001b[38;5;27m/data/reddylab/Kuei/repo/Proj_ENCODE_FCC/results/assay_fcc/STARR_WHG_K562_Reddy_A001\u001b[0m\u001b[K\n"
     ]
    }
   ],
   "source": [
    "ls -d ${FD_RES}/assay_fcc/STARR*"
   ]
  },
  {
   "cell_type": "code",
   "execution_count": 3,
   "id": "ab994ff2-dfb7-4510-a602-8733995372c9",
   "metadata": {},
   "outputs": [],
   "source": [
    "### Assay\n",
    "ASSAY_TYPE=assay_fcc\n",
    "ASSAY_NAMES=(\n",
    "    STARR_ATAC_K562_Reddy_KS274\n",
    "    STARR_ATAC_K562_Reddy_KS91\n",
    "    STARR_WHG_K562_Reddy_A001\n",
    ")"
   ]
  },
  {
   "cell_type": "markdown",
   "id": "90338652-9b22-47f1-91d5-0e104ef9f178",
   "metadata": {},
   "source": [
    "**Set genome file**"
   ]
  },
  {
   "cell_type": "code",
   "execution_count": 1,
   "id": "4a7465f6-6cb6-4c8b-81c0-e51e3beeab09",
   "metadata": {},
   "outputs": [
    {
     "name": "stdout",
     "output_type": "stream",
     "text": [
      "ls: cannot access /external/chrom*: No such file or directory\n"
     ]
    },
    {
     "ename": "",
     "evalue": "2",
     "output_type": "error",
     "traceback": []
    }
   ],
   "source": [
    "ls ${FD_DAT}/external/chrom*"
   ]
  },
  {
   "cell_type": "code",
   "execution_count": 10,
   "id": "779f05e4-d48c-42b0-8abb-c8c50a851866",
   "metadata": {},
   "outputs": [],
   "source": [
    "FP_GEN=${FD_DAT}/external/chrom.sizes.hg38"
   ]
  },
  {
   "cell_type": "markdown",
   "id": "f2ce7ea1-44c0-4a05-9f37-ac63ff76b8af",
   "metadata": {},
   "source": [
    "**Test loop**"
   ]
  },
  {
   "cell_type": "code",
   "execution_count": 11,
   "id": "78db8709-36dc-4695-a88c-666a19560bb5",
   "metadata": {},
   "outputs": [
    {
     "name": "stdout",
     "output_type": "stream",
     "text": [
      "======================================\n",
      "Assay:       STARR_ATAC_K562_Reddy_KS274\n",
      "Input  file: /data/reddylab/Kuei/repo/Proj_ENCODE_FCC/results/assay_fcc/STARR_ATAC_K562_Reddy_KS274/fragment_counts/ASTARRseq_K562_KS274.hg38.Output.rep1.WGS.unstranded.bed.gz\n",
      "Genome file: /data/reddylab/Kuei/repo/Proj_ENCODE_FCC/data/external/chrom.sizes.hg38\n",
      "Output file: /data/reddylab/Kuei/repo/Proj_ENCODE_FCC/results/assay_fcc/STARR_ATAC_K562_Reddy_KS274/fragment_counts/summary/result.summary.ASTARRseq_K562_KS274.hg38.Output.rep1.WGS.unstranded.bed.gz.csv\n",
      "Log    file: ${FD_LOG}/result.summary.ASTARRseq_K562_KS274.hg38.Output.rep1.WGS.unstranded.bed.gz.txt\n",
      "\n",
      "======================================\n",
      "Assay:       STARR_ATAC_K562_Reddy_KS274\n",
      "Input  file: /data/reddylab/Kuei/repo/Proj_ENCODE_FCC/results/assay_fcc/STARR_ATAC_K562_Reddy_KS274/fragment_counts/ASTARRseq_K562_KS274.hg38.Output.rep2.WGS.unstranded.bed.gz\n",
      "Genome file: /data/reddylab/Kuei/repo/Proj_ENCODE_FCC/data/external/chrom.sizes.hg38\n",
      "Output file: /data/reddylab/Kuei/repo/Proj_ENCODE_FCC/results/assay_fcc/STARR_ATAC_K562_Reddy_KS274/fragment_counts/summary/result.summary.ASTARRseq_K562_KS274.hg38.Output.rep2.WGS.unstranded.bed.gz.csv\n",
      "Log    file: ${FD_LOG}/result.summary.ASTARRseq_K562_KS274.hg38.Output.rep2.WGS.unstranded.bed.gz.txt\n",
      "\n",
      "======================================\n",
      "Assay:       STARR_ATAC_K562_Reddy_KS274\n",
      "Input  file: /data/reddylab/Kuei/repo/Proj_ENCODE_FCC/results/assay_fcc/STARR_ATAC_K562_Reddy_KS274/fragment_counts/ASTARRseq_K562_KS274.hg38.Output.rep3.WGS.unstranded.bed.gz\n",
      "Genome file: /data/reddylab/Kuei/repo/Proj_ENCODE_FCC/data/external/chrom.sizes.hg38\n",
      "Output file: /data/reddylab/Kuei/repo/Proj_ENCODE_FCC/results/assay_fcc/STARR_ATAC_K562_Reddy_KS274/fragment_counts/summary/result.summary.ASTARRseq_K562_KS274.hg38.Output.rep3.WGS.unstranded.bed.gz.csv\n",
      "Log    file: ${FD_LOG}/result.summary.ASTARRseq_K562_KS274.hg38.Output.rep3.WGS.unstranded.bed.gz.txt\n",
      "\n",
      "======================================\n",
      "Assay:       STARR_ATAC_K562_Reddy_KS91\n",
      "Input  file: /data/reddylab/Kuei/repo/Proj_ENCODE_FCC/results/assay_fcc/STARR_ATAC_K562_Reddy_KS91/fragment_counts/ASTARRseq_K562_KS91.hg38.Input.rep1.WGS.unstranded.bed.gz\n",
      "Genome file: /data/reddylab/Kuei/repo/Proj_ENCODE_FCC/data/external/chrom.sizes.hg38\n",
      "Output file: /data/reddylab/Kuei/repo/Proj_ENCODE_FCC/results/assay_fcc/STARR_ATAC_K562_Reddy_KS91/fragment_counts/summary/result.summary.ASTARRseq_K562_KS91.hg38.Input.rep1.WGS.unstranded.bed.gz.csv\n",
      "Log    file: ${FD_LOG}/result.summary.ASTARRseq_K562_KS91.hg38.Input.rep1.WGS.unstranded.bed.gz.txt\n",
      "\n",
      "======================================\n",
      "Assay:       STARR_ATAC_K562_Reddy_KS91\n",
      "Input  file: /data/reddylab/Kuei/repo/Proj_ENCODE_FCC/results/assay_fcc/STARR_ATAC_K562_Reddy_KS91/fragment_counts/ASTARRseq_K562_KS91.hg38.Input.rep2.WGS.unstranded.bed.gz\n",
      "Genome file: /data/reddylab/Kuei/repo/Proj_ENCODE_FCC/data/external/chrom.sizes.hg38\n",
      "Output file: /data/reddylab/Kuei/repo/Proj_ENCODE_FCC/results/assay_fcc/STARR_ATAC_K562_Reddy_KS91/fragment_counts/summary/result.summary.ASTARRseq_K562_KS91.hg38.Input.rep2.WGS.unstranded.bed.gz.csv\n",
      "Log    file: ${FD_LOG}/result.summary.ASTARRseq_K562_KS91.hg38.Input.rep2.WGS.unstranded.bed.gz.txt\n",
      "\n",
      "======================================\n",
      "Assay:       STARR_ATAC_K562_Reddy_KS91\n",
      "Input  file: /data/reddylab/Kuei/repo/Proj_ENCODE_FCC/results/assay_fcc/STARR_ATAC_K562_Reddy_KS91/fragment_counts/ASTARRseq_K562_KS91.hg38.Input.rep3.WGS.unstranded.bed.gz\n",
      "Genome file: /data/reddylab/Kuei/repo/Proj_ENCODE_FCC/data/external/chrom.sizes.hg38\n",
      "Output file: /data/reddylab/Kuei/repo/Proj_ENCODE_FCC/results/assay_fcc/STARR_ATAC_K562_Reddy_KS91/fragment_counts/summary/result.summary.ASTARRseq_K562_KS91.hg38.Input.rep3.WGS.unstranded.bed.gz.csv\n",
      "Log    file: ${FD_LOG}/result.summary.ASTARRseq_K562_KS91.hg38.Input.rep3.WGS.unstranded.bed.gz.txt\n",
      "\n",
      "======================================\n",
      "Assay:       STARR_ATAC_K562_Reddy_KS91\n",
      "Input  file: /data/reddylab/Kuei/repo/Proj_ENCODE_FCC/results/assay_fcc/STARR_ATAC_K562_Reddy_KS91/fragment_counts/ASTARRseq_K562_KS91.hg38.Input.rep4.WGS.unstranded.bed.gz\n",
      "Genome file: /data/reddylab/Kuei/repo/Proj_ENCODE_FCC/data/external/chrom.sizes.hg38\n",
      "Output file: /data/reddylab/Kuei/repo/Proj_ENCODE_FCC/results/assay_fcc/STARR_ATAC_K562_Reddy_KS91/fragment_counts/summary/result.summary.ASTARRseq_K562_KS91.hg38.Input.rep4.WGS.unstranded.bed.gz.csv\n",
      "Log    file: ${FD_LOG}/result.summary.ASTARRseq_K562_KS91.hg38.Input.rep4.WGS.unstranded.bed.gz.txt\n",
      "\n",
      "======================================\n",
      "Assay:       STARR_ATAC_K562_Reddy_KS91\n",
      "Input  file: /data/reddylab/Kuei/repo/Proj_ENCODE_FCC/results/assay_fcc/STARR_ATAC_K562_Reddy_KS91/fragment_counts/ASTARRseq_K562_KS91.hg38.Input.rep5.WGS.unstranded.bed.gz\n",
      "Genome file: /data/reddylab/Kuei/repo/Proj_ENCODE_FCC/data/external/chrom.sizes.hg38\n",
      "Output file: /data/reddylab/Kuei/repo/Proj_ENCODE_FCC/results/assay_fcc/STARR_ATAC_K562_Reddy_KS91/fragment_counts/summary/result.summary.ASTARRseq_K562_KS91.hg38.Input.rep5.WGS.unstranded.bed.gz.csv\n",
      "Log    file: ${FD_LOG}/result.summary.ASTARRseq_K562_KS91.hg38.Input.rep5.WGS.unstranded.bed.gz.txt\n",
      "\n",
      "======================================\n",
      "Assay:       STARR_ATAC_K562_Reddy_KS91\n",
      "Input  file: /data/reddylab/Kuei/repo/Proj_ENCODE_FCC/results/assay_fcc/STARR_ATAC_K562_Reddy_KS91/fragment_counts/ASTARRseq_K562_KS91.hg38.Input.rep6.WGS.unstranded.bed.gz\n",
      "Genome file: /data/reddylab/Kuei/repo/Proj_ENCODE_FCC/data/external/chrom.sizes.hg38\n",
      "Output file: /data/reddylab/Kuei/repo/Proj_ENCODE_FCC/results/assay_fcc/STARR_ATAC_K562_Reddy_KS91/fragment_counts/summary/result.summary.ASTARRseq_K562_KS91.hg38.Input.rep6.WGS.unstranded.bed.gz.csv\n",
      "Log    file: ${FD_LOG}/result.summary.ASTARRseq_K562_KS91.hg38.Input.rep6.WGS.unstranded.bed.gz.txt\n",
      "\n",
      "======================================\n",
      "Assay:       STARR_ATAC_K562_Reddy_KS91\n",
      "Input  file: /data/reddylab/Kuei/repo/Proj_ENCODE_FCC/results/assay_fcc/STARR_ATAC_K562_Reddy_KS91/fragment_counts/ASTARRseq_K562_KS91.hg38.Output.rep1.WGS.unstranded.bed.gz\n",
      "Genome file: /data/reddylab/Kuei/repo/Proj_ENCODE_FCC/data/external/chrom.sizes.hg38\n",
      "Output file: /data/reddylab/Kuei/repo/Proj_ENCODE_FCC/results/assay_fcc/STARR_ATAC_K562_Reddy_KS91/fragment_counts/summary/result.summary.ASTARRseq_K562_KS91.hg38.Output.rep1.WGS.unstranded.bed.gz.csv\n",
      "Log    file: ${FD_LOG}/result.summary.ASTARRseq_K562_KS91.hg38.Output.rep1.WGS.unstranded.bed.gz.txt\n",
      "\n",
      "======================================\n",
      "Assay:       STARR_ATAC_K562_Reddy_KS91\n",
      "Input  file: /data/reddylab/Kuei/repo/Proj_ENCODE_FCC/results/assay_fcc/STARR_ATAC_K562_Reddy_KS91/fragment_counts/ASTARRseq_K562_KS91.hg38.Output.rep2.WGS.unstranded.bed.gz\n",
      "Genome file: /data/reddylab/Kuei/repo/Proj_ENCODE_FCC/data/external/chrom.sizes.hg38\n",
      "Output file: /data/reddylab/Kuei/repo/Proj_ENCODE_FCC/results/assay_fcc/STARR_ATAC_K562_Reddy_KS91/fragment_counts/summary/result.summary.ASTARRseq_K562_KS91.hg38.Output.rep2.WGS.unstranded.bed.gz.csv\n",
      "Log    file: ${FD_LOG}/result.summary.ASTARRseq_K562_KS91.hg38.Output.rep2.WGS.unstranded.bed.gz.txt\n",
      "\n",
      "======================================\n",
      "Assay:       STARR_ATAC_K562_Reddy_KS91\n",
      "Input  file: /data/reddylab/Kuei/repo/Proj_ENCODE_FCC/results/assay_fcc/STARR_ATAC_K562_Reddy_KS91/fragment_counts/ASTARRseq_K562_KS91.hg38.Output.rep3.WGS.unstranded.bed.gz\n",
      "Genome file: /data/reddylab/Kuei/repo/Proj_ENCODE_FCC/data/external/chrom.sizes.hg38\n",
      "Output file: /data/reddylab/Kuei/repo/Proj_ENCODE_FCC/results/assay_fcc/STARR_ATAC_K562_Reddy_KS91/fragment_counts/summary/result.summary.ASTARRseq_K562_KS91.hg38.Output.rep3.WGS.unstranded.bed.gz.csv\n",
      "Log    file: ${FD_LOG}/result.summary.ASTARRseq_K562_KS91.hg38.Output.rep3.WGS.unstranded.bed.gz.txt\n",
      "\n",
      "======================================\n",
      "Assay:       STARR_ATAC_K562_Reddy_KS91\n",
      "Input  file: /data/reddylab/Kuei/repo/Proj_ENCODE_FCC/results/assay_fcc/STARR_ATAC_K562_Reddy_KS91/fragment_counts/ASTARRseq_K562_KS91.hg38.Output.rep4.WGS.unstranded.bed.gz\n",
      "Genome file: /data/reddylab/Kuei/repo/Proj_ENCODE_FCC/data/external/chrom.sizes.hg38\n",
      "Output file: /data/reddylab/Kuei/repo/Proj_ENCODE_FCC/results/assay_fcc/STARR_ATAC_K562_Reddy_KS91/fragment_counts/summary/result.summary.ASTARRseq_K562_KS91.hg38.Output.rep4.WGS.unstranded.bed.gz.csv\n",
      "Log    file: ${FD_LOG}/result.summary.ASTARRseq_K562_KS91.hg38.Output.rep4.WGS.unstranded.bed.gz.txt\n",
      "\n",
      "======================================\n",
      "Assay:       STARR_WHG_K562_Reddy_A001\n",
      "Input  file: /data/reddylab/Kuei/repo/Proj_ENCODE_FCC/results/assay_fcc/STARR_WHG_K562_Reddy_A001/fragment_counts/WSTARRseq_K562_A001.hg38.Input.rep1.WGS.unstranded.bed.gz\n",
      "Genome file: /data/reddylab/Kuei/repo/Proj_ENCODE_FCC/data/external/chrom.sizes.hg38\n",
      "Output file: /data/reddylab/Kuei/repo/Proj_ENCODE_FCC/results/assay_fcc/STARR_WHG_K562_Reddy_A001/fragment_counts/summary/result.summary.WSTARRseq_K562_A001.hg38.Input.rep1.WGS.unstranded.bed.gz.csv\n",
      "Log    file: ${FD_LOG}/result.summary.WSTARRseq_K562_A001.hg38.Input.rep1.WGS.unstranded.bed.gz.txt\n",
      "\n",
      "======================================\n",
      "Assay:       STARR_WHG_K562_Reddy_A001\n",
      "Input  file: /data/reddylab/Kuei/repo/Proj_ENCODE_FCC/results/assay_fcc/STARR_WHG_K562_Reddy_A001/fragment_counts/WSTARRseq_K562_A001.hg38.Input.rep2.WGS.unstranded.bed.gz\n",
      "Genome file: /data/reddylab/Kuei/repo/Proj_ENCODE_FCC/data/external/chrom.sizes.hg38\n",
      "Output file: /data/reddylab/Kuei/repo/Proj_ENCODE_FCC/results/assay_fcc/STARR_WHG_K562_Reddy_A001/fragment_counts/summary/result.summary.WSTARRseq_K562_A001.hg38.Input.rep2.WGS.unstranded.bed.gz.csv\n",
      "Log    file: ${FD_LOG}/result.summary.WSTARRseq_K562_A001.hg38.Input.rep2.WGS.unstranded.bed.gz.txt\n",
      "\n",
      "======================================\n",
      "Assay:       STARR_WHG_K562_Reddy_A001\n",
      "Input  file: /data/reddylab/Kuei/repo/Proj_ENCODE_FCC/results/assay_fcc/STARR_WHG_K562_Reddy_A001/fragment_counts/WSTARRseq_K562_A001.hg38.Input.rep3.WGS.unstranded.bed.gz\n",
      "Genome file: /data/reddylab/Kuei/repo/Proj_ENCODE_FCC/data/external/chrom.sizes.hg38\n",
      "Output file: /data/reddylab/Kuei/repo/Proj_ENCODE_FCC/results/assay_fcc/STARR_WHG_K562_Reddy_A001/fragment_counts/summary/result.summary.WSTARRseq_K562_A001.hg38.Input.rep3.WGS.unstranded.bed.gz.csv\n",
      "Log    file: ${FD_LOG}/result.summary.WSTARRseq_K562_A001.hg38.Input.rep3.WGS.unstranded.bed.gz.txt\n",
      "\n",
      "======================================\n",
      "Assay:       STARR_WHG_K562_Reddy_A001\n",
      "Input  file: /data/reddylab/Kuei/repo/Proj_ENCODE_FCC/results/assay_fcc/STARR_WHG_K562_Reddy_A001/fragment_counts/WSTARRseq_K562_A001.hg38.Input.rep4.WGS.unstranded.bed.gz\n",
      "Genome file: /data/reddylab/Kuei/repo/Proj_ENCODE_FCC/data/external/chrom.sizes.hg38\n",
      "Output file: /data/reddylab/Kuei/repo/Proj_ENCODE_FCC/results/assay_fcc/STARR_WHG_K562_Reddy_A001/fragment_counts/summary/result.summary.WSTARRseq_K562_A001.hg38.Input.rep4.WGS.unstranded.bed.gz.csv\n",
      "Log    file: ${FD_LOG}/result.summary.WSTARRseq_K562_A001.hg38.Input.rep4.WGS.unstranded.bed.gz.txt\n",
      "\n",
      "======================================\n",
      "Assay:       STARR_WHG_K562_Reddy_A001\n",
      "Input  file: /data/reddylab/Kuei/repo/Proj_ENCODE_FCC/results/assay_fcc/STARR_WHG_K562_Reddy_A001/fragment_counts/WSTARRseq_K562_A001.hg38.Output.rep1.WGS.unstranded.bed.gz\n",
      "Genome file: /data/reddylab/Kuei/repo/Proj_ENCODE_FCC/data/external/chrom.sizes.hg38\n",
      "Output file: /data/reddylab/Kuei/repo/Proj_ENCODE_FCC/results/assay_fcc/STARR_WHG_K562_Reddy_A001/fragment_counts/summary/result.summary.WSTARRseq_K562_A001.hg38.Output.rep1.WGS.unstranded.bed.gz.csv\n",
      "Log    file: ${FD_LOG}/result.summary.WSTARRseq_K562_A001.hg38.Output.rep1.WGS.unstranded.bed.gz.txt\n",
      "\n",
      "======================================\n",
      "Assay:       STARR_WHG_K562_Reddy_A001\n",
      "Input  file: /data/reddylab/Kuei/repo/Proj_ENCODE_FCC/results/assay_fcc/STARR_WHG_K562_Reddy_A001/fragment_counts/WSTARRseq_K562_A001.hg38.Output.rep2.WGS.unstranded.bed.gz\n",
      "Genome file: /data/reddylab/Kuei/repo/Proj_ENCODE_FCC/data/external/chrom.sizes.hg38\n",
      "Output file: /data/reddylab/Kuei/repo/Proj_ENCODE_FCC/results/assay_fcc/STARR_WHG_K562_Reddy_A001/fragment_counts/summary/result.summary.WSTARRseq_K562_A001.hg38.Output.rep2.WGS.unstranded.bed.gz.csv\n",
      "Log    file: ${FD_LOG}/result.summary.WSTARRseq_K562_A001.hg38.Output.rep2.WGS.unstranded.bed.gz.txt\n",
      "\n",
      "======================================\n",
      "Assay:       STARR_WHG_K562_Reddy_A001\n",
      "Input  file: /data/reddylab/Kuei/repo/Proj_ENCODE_FCC/results/assay_fcc/STARR_WHG_K562_Reddy_A001/fragment_counts/WSTARRseq_K562_A001.hg38.Output.rep3.WGS.unstranded.bed.gz\n",
      "Genome file: /data/reddylab/Kuei/repo/Proj_ENCODE_FCC/data/external/chrom.sizes.hg38\n",
      "Output file: /data/reddylab/Kuei/repo/Proj_ENCODE_FCC/results/assay_fcc/STARR_WHG_K562_Reddy_A001/fragment_counts/summary/result.summary.WSTARRseq_K562_A001.hg38.Output.rep3.WGS.unstranded.bed.gz.csv\n",
      "Log    file: ${FD_LOG}/result.summary.WSTARRseq_K562_A001.hg38.Output.rep3.WGS.unstranded.bed.gz.txt\n",
      "\n"
     ]
    }
   ],
   "source": [
    "for ASSAY_NAME in ${ASSAY_NAMES[@]}; do\n",
    "    \n",
    "    ### set input and output files\n",
    "    FD_INP=${FD_RES}/assay_fcc/${ASSAY_NAME}/fragment_counts\n",
    "    FP_INPS=($(ls ${FD_INP}/*hg38*WGS*bed.gz))\n",
    "    \n",
    "    ### loop through each input file\n",
    "    for FP_INP in ${FP_INPS[@]}; do\n",
    "    \n",
    "        ### set output file\n",
    "        FN_INP=$(basename ${FP_INP})\n",
    "        FD_OUT=${FD_INP}/summary\n",
    "        FN_OUT=\"result.summary.${FN_INP}.csv\"\n",
    "        FP_OUT=${FD_OUT}/${FN_OUT}\n",
    "        \n",
    "        ### set log file\n",
    "        FN_LOG=result.summary.${FN_INP}.txt\n",
    "        FP_LOG=${FD_LOG}/${FN_LOG}\n",
    "    \n",
    "        ### show progress\n",
    "        echo ======================================\n",
    "        echo \"Assay:      \" ${ASSAY_NAME}\n",
    "        echo \"Input  file:\" ${FP_INP}\n",
    "        echo \"Genome file:\" ${FP_GEN}\n",
    "        echo \"Output file:\" ${FP_OUT}\n",
    "        echo \"Log    file:\" '${FD_LOG}/'${FN_LOG}\n",
    "        echo\n",
    "    done\n",
    "done"
   ]
  }
 ],
 "metadata": {
  "kernelspec": {
   "display_name": "Bash",
   "language": "bash",
   "name": "bash"
  },
  "language_info": {
   "codemirror_mode": "shell",
   "file_extension": ".sh",
   "mimetype": "text/x-sh",
   "name": "bash"
  }
 },
 "nbformat": 4,
 "nbformat_minor": 5
}
