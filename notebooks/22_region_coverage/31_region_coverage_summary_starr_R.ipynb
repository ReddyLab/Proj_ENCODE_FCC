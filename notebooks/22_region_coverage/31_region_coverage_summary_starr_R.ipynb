{
 "cells": [
  {
   "cell_type": "raw",
   "id": "08bbf7cf-341a-4b6c-b07b-2aedada461a4",
   "metadata": {},
   "source": [
    "---\n",
    "title: Region Coverage 31\n",
    "subtitle: Summarize coverage for STARR-seq\n",
    "format:\n",
    "    html:\n",
    "        code-fold:  true\n",
    "        code-tools: true\n",
    "---"
   ]
  },
  {
   "cell_type": "markdown",
   "id": "7fee45fc-dd0f-4d40-b2a8-e10a608bf909",
   "metadata": {},
   "source": [
    "**Set environment**"
   ]
  },
  {
   "cell_type": "code",
   "execution_count": 1,
   "id": "31cc799b-f3fd-402a-b8df-2e03f0df65c2",
   "metadata": {},
   "outputs": [
    {
     "name": "stdout",
     "output_type": "stream",
     "text": [
      "You are working on        Singularity \n",
      "BASE DIRECTORY (FD_BASE): /mount \n",
      "REPO DIRECTORY (FD_REPO): /mount/repo \n",
      "WORK DIRECTORY (FD_WORK): /mount/work \n",
      "DATA DIRECTORY (FD_DATA): /mount/data \n",
      "\n",
      "You are working with      ENCODE FCC \n",
      "PATH OF PROJECT (FD_PRJ): /mount/repo/Proj_ENCODE_FCC \n",
      "PROJECT RESULTS (FD_RES): /mount/repo/Proj_ENCODE_FCC/results \n",
      "PROJECT SCRIPTS (FD_EXE): /mount/repo/Proj_ENCODE_FCC/scripts \n",
      "PROJECT DATA    (FD_DAT): /mount/repo/Proj_ENCODE_FCC/data \n",
      "PROJECT NOTE    (FD_NBK): /mount/repo/Proj_ENCODE_FCC/notebooks \n",
      "PROJECT DOCS    (FD_DOC): /mount/repo/Proj_ENCODE_FCC/docs \n",
      "PROJECT LOG     (FD_LOG): /mount/repo/Proj_ENCODE_FCC/log \n",
      "PROJECT APP     (FD_APP): /mount/repo/Proj_ENCODE_FCC/app \n",
      "PROJECT REF     (FD_REF): /mount/repo/Proj_ENCODE_FCC/references \n",
      "\n"
     ]
    }
   ],
   "source": [
    "suppressMessages(suppressWarnings(source(\"../run_config_project_sing.R\")))\n",
    "suppressMessages(suppressWarnings(library(\"DESeq2\")))\n",
    "suppressMessages(suppressWarnings(library(\"edgeR\")))\n",
    "show_env()"
   ]
  },
  {
   "cell_type": "markdown",
   "id": "c72fa3ab-c875-45d4-8224-14f0559039a4",
   "metadata": {},
   "source": [
    "**Set global variable**"
   ]
  },
  {
   "cell_type": "code",
   "execution_count": 2,
   "id": "6e94444b-1f75-4a5e-a30f-4295c0002c5e",
   "metadata": {},
   "outputs": [
    {
     "name": "stdout",
     "output_type": "stream",
     "text": [
      "CRISPRi_FlowFISH_K562_Riley_JinWoo \n",
      "CRISPRi_Growth_K562_Gersbach_JinWoo \n",
      "MPRA_Lenti_K562_Nadav_Vikram \n",
      "MPRA_Tiling_K562_Tewhey_Hannah \n",
      "STARR_ATAC_K562_Reddy_KS274 \n",
      "STARR_ATAC_K562_Reddy_KS91 \n",
      "STARR_ATAC_K562_Reddy_KSMerge \n",
      "STARR_WHG_K562_Reddy_A001 \n"
     ]
    }
   ],
   "source": [
    "txt_fdiry = file.path(FD_RES, \"assay_fcc\")\n",
    "vec = dir(txt_fdiry)\n",
    "for (txt in vec) {cat(txt, \"\\n\")}"
   ]
  },
  {
   "cell_type": "code",
   "execution_count": 3,
   "id": "837f029c-7a79-46d4-8cbd-d456707ebcb2",
   "metadata": {},
   "outputs": [],
   "source": [
    "VEC_TXT_ASSAY = c(\n",
    "    \"STARR_ATAC_K562_Reddy_KS91\",\n",
    "    \"STARR_ATAC_K562_Reddy_KS274\",\n",
    "    \"STARR_ATAC_K562_Reddy_KSMerge\",\n",
    "    \"STARR_WHG_K562_Reddy_A001\"\n",
    ")"
   ]
  },
  {
   "cell_type": "markdown",
   "id": "6aa85779-313d-4091-83da-1b8edcbeb91f",
   "metadata": {},
   "source": [
    "**Helper function**"
   ]
  },
  {
   "cell_type": "code",
   "execution_count": 4,
   "id": "56d0c13f-0385-4a63-ab2c-f8ee834629a6",
   "metadata": {},
   "outputs": [],
   "source": [
    "get_fpkm = function(mat, vec_num_length){\n",
    "    ### normlaized by size\n",
    "    fun = function(x){x * 10^6 / sum(x)}\n",
    "    mat = apply(mat, 2, fun)\n",
    "    \n",
    "    ### normlaized by length\n",
    "    vec = vec_num_length\n",
    "    fun = function(x){x/vec}\n",
    "    mat = apply(mat, 2, fun)\n",
    "\n",
    "    return(mat)\n",
    "}\n",
    "\n",
    "get_tpm  = function(mat, vec_num_length){\n",
    "    ### normlaized by length\n",
    "    vec = vec_num_length\n",
    "    fun = function(x){x/vec}\n",
    "    mat = apply(mat, 2, fun)\n",
    "    \n",
    "    ### normlaized by size\n",
    "    fun = function(x){x * 10^6 / sum(x)}\n",
    "    mat = apply(mat, 2, fun)\n",
    "    \n",
    "    return(mat)\n",
    "}"
   ]
  },
  {
   "cell_type": "markdown",
   "id": "69b71613-1b2a-4613-b947-25085a9d08be",
   "metadata": {},
   "source": [
    "## Execute"
   ]
  },
  {
   "cell_type": "code",
   "execution_count": 6,
   "id": "4b2aec03-2542-4e06-bfb7-78e8348049b3",
   "metadata": {},
   "outputs": [
    {
     "name": "stdout",
     "output_type": "stream",
     "text": [
      "Assay         STARR_ATAC_K562_Reddy_KS91 \n",
      "Region Folder fcc_astarr_macs \n",
      "Region Label  fcc_astarr_macs_input_overlap \n",
      "\n"
     ]
    },
    {
     "name": "stderr",
     "output_type": "stream",
     "text": [
      "Warning message in filterByExpr.DGEList(dge):\n",
      "“All samples appear to belong to the same group.”\n",
      "Warning message in filterByExpr.DGEList(dge):\n",
      "“All samples appear to belong to the same group.”\n"
     ]
    },
    {
     "name": "stdout",
     "output_type": "stream",
     "text": [
      "Assay         STARR_ATAC_K562_Reddy_KS274 \n",
      "Region Folder fcc_astarr_macs \n",
      "Region Label  fcc_astarr_macs_input_overlap \n",
      "\n"
     ]
    },
    {
     "name": "stderr",
     "output_type": "stream",
     "text": [
      "Warning message in filterByExpr.DGEList(dge):\n",
      "“All samples appear to belong to the same group.”\n",
      "Warning message in filterByExpr.DGEList(dge):\n",
      "“All samples appear to belong to the same group.”\n"
     ]
    },
    {
     "name": "stdout",
     "output_type": "stream",
     "text": [
      "Assay         STARR_ATAC_K562_Reddy_KSMerge \n",
      "Region Folder fcc_astarr_macs \n",
      "Region Label  fcc_astarr_macs_input_overlap \n",
      "\n"
     ]
    },
    {
     "name": "stderr",
     "output_type": "stream",
     "text": [
      "Warning message in filterByExpr.DGEList(dge):\n",
      "“All samples appear to belong to the same group.”\n",
      "Warning message in filterByExpr.DGEList(dge):\n",
      "“All samples appear to belong to the same group.”\n"
     ]
    },
    {
     "name": "stdout",
     "output_type": "stream",
     "text": [
      "Assay         STARR_WHG_K562_Reddy_A001 \n",
      "Region Folder fcc_astarr_macs \n",
      "Region Label  fcc_astarr_macs_input_overlap \n",
      "\n"
     ]
    },
    {
     "name": "stderr",
     "output_type": "stream",
     "text": [
      "Warning message in filterByExpr.DGEList(dge):\n",
      "“All samples appear to belong to the same group.”\n",
      "Warning message in filterByExpr.DGEList(dge):\n",
      "“All samples appear to belong to the same group.”\n"
     ]
    }
   ],
   "source": [
    "###\n",
    "vec_txt_assay  = VEC_TXT_ASSAY\n",
    "vec_txt_region = c(\"fcc_astarr_macs_input_overlap\") #, \"astarr_macs_input_union\")\n",
    "txt_region_folder = \"fcc_astarr_macs\"\n",
    "\n",
    "###\n",
    "for (txt_assay in vec_txt_assay){\n",
    "    for (txt_region_label in vec_txt_region) {\n",
    "        \n",
    "        ### show progress\n",
    "        cat(\"Assay        \", txt_assay,         \"\\n\")\n",
    "        cat(\"Region Folder\", txt_region_folder, \"\\n\")\n",
    "        cat(\"Region Label \", txt_region_label,  \"\\n\")\n",
    "        cat(\"\\n\")\n",
    "        flush.console()\n",
    "\n",
    "        ### get column and column data\n",
    "        txt_fdiry = file.path(\n",
    "            FD_RES, \n",
    "            \"region_coverage_fcc\",\n",
    "            txt_region_label,\n",
    "            txt_assay, \n",
    "            \"overlap_count\", \n",
    "            \"summary\")\n",
    "\n",
    "        ###\n",
    "        txt_fname = \"data.count_column.raw.WGS.rds\"\n",
    "        txt_fpath = file.path(txt_fdiry, txt_fname)\n",
    "\n",
    "        lst_dat = readRDS(txt_fpath)\n",
    "        dat_cnt = lst_dat$data_cnt\n",
    "        dat_col = lst_dat$data_col\n",
    "        dat_reg = dat_cnt %>% dplyr::select(Chrom, ChromStart, ChromEnd, Region)\n",
    "        \n",
    "        ###\n",
    "        txt_fname = \"data.deseq2.rds\"\n",
    "        txt_fpath = file.path(txt_fdiry, txt_fname)\n",
    "\n",
    "        dds = readRDS(txt_fpath)\n",
    "        \n",
    "        ###\n",
    "        txt_fname = \"data.edger.rds\"\n",
    "        txt_fpath = file.path(txt_fdiry, txt_fname)\n",
    "\n",
    "        lst_dge = readRDS(txt_fpath)\n",
    "\n",
    "        ### ========================================\n",
    "        ### Calculate: Screened\n",
    "        ### ----------------------------------------\n",
    "        \n",
    "        lst = lst_dge\n",
    "        lst = lapply(lst, function(dge){\n",
    "            idx = filterByExpr(dge)\n",
    "            dat = data.frame(\n",
    "                Region = names(idx),\n",
    "                Screen = idx\n",
    "            )\n",
    "            return(dat)\n",
    "        })\n",
    "        \n",
    "        dat = bind_rows(lst, .id = \"Set\")\n",
    "        dat = dat %>% tidyr::spread(Set, Screen)\n",
    "        dat = dplyr::left_join(dat_reg, dat, by = \"Region\")\n",
    "        \n",
    "        dat_screen = dat\n",
    "        \n",
    "        ### ========================================\n",
    "        ### Calculate DESeq2 Counts & Log2FC\n",
    "        ### ----------------------------------------\n",
    "\n",
    "        ### DESeq2 normalized counts\n",
    "        mat = counts(dds, normalized=TRUE)\n",
    "        dat = mat %>% as.data.frame %>% rownames_to_column(\"Region\")\n",
    "        dat = dplyr::left_join(dat_reg, dat, by = \"Region\")\n",
    "\n",
    "        mat_dds_count = mat\n",
    "        dat_dds_count = dat\n",
    "\n",
    "        ### Deseq2 results\n",
    "        res = results(dds, contrast = c(\"Group\", \"Output\", \"Input\"))\n",
    "        dat = res %>% as.data.frame %>% rownames_to_column(\"Region\")\n",
    "        dat = dplyr::left_join(dat_reg, dat, by = \"Region\")\n",
    "        \n",
    "        dat_dds_result = dat\n",
    "\n",
    "        ### ========================================\n",
    "        ### Calculate CPM\n",
    "        ### ----------------------------------------\n",
    "        \n",
    "        ### ========================================\n",
    "        ### Calculate TPM & FPKM\n",
    "        ### ----------------------------------------\n",
    "\n",
    "        ### init and get region length\n",
    "        dat = dat_cnt\n",
    "        dat = dat %>% dplyr::mutate(Length = ChromEnd - ChromStart)\n",
    "\n",
    "        ### arrange count into matrix\n",
    "        mat = dat %>% \n",
    "           dplyr::select(\n",
    "               Region, \n",
    "               starts_with(\"Input\"), \n",
    "               starts_with(\"Output\")) %>% \n",
    "           column_to_rownames(var = \"Region\")\n",
    "        \n",
    "        ### calculate TPM and FPKM\n",
    "        mat_tpm  = get_tpm(mat, dat$Length)\n",
    "        mat_fpkm = get_fpkm(mat, dat$Length)\n",
    "\n",
    "        ### arrange matrix into dataframe\n",
    "        mat = mat_tpm\n",
    "        dat = mat %>% as.data.frame %>% rownames_to_column(\"Region\")\n",
    "        dat = dplyr::left_join(dat_reg, dat, by = \"Region\")\n",
    "        dat_tpm = dat\n",
    "\n",
    "        mat = mat_fpkm\n",
    "        dat = mat %>% as.data.frame %>% rownames_to_column(\"Region\")\n",
    "        dat = dplyr::left_join(dat_reg, dat, by = \"Region\")\n",
    "        dat_fpkm = dat\n",
    "        \n",
    "        ### ========================================\n",
    "        ### Calculate mean TPM & FPKM\n",
    "        ### ----------------------------------------\n",
    "        \n",
    "        ### convert to tidy data\n",
    "        lst = list(\n",
    "            \"TPM\"   = mat_tpm,\n",
    "            \"FPKM\"  = mat_fpkm,\n",
    "            \"DESeq\" = mat_dds_count\n",
    "        )\n",
    "        lst = lapply(lst, function(mat){\n",
    "            dat = mat %>% \n",
    "                as.data.frame %>% \n",
    "                rownames_to_column(var = \"Region\") %>% \n",
    "                tidyr::gather(Sample, Value, -Region)\n",
    "            return(dat)\n",
    "        })\n",
    "        dat = bind_rows(lst, .id = \"Method\")\n",
    "        \n",
    "        ### calculate mean by group (Input & Output)\n",
    "        tmp = dat_col %>% dplyr::select(Sample, Group)\n",
    "        dat = dplyr::left_join(dat, tmp, by=\"Sample\")\n",
    "        dat = dat %>%\n",
    "            dplyr::group_by(Region, Method, Group) %>%\n",
    "            dplyr::summarize(Mean = mean(Value), .groups = \"drop\") %>%\n",
    "            dplyr::mutate(Name = paste(Group, Method, sep = \"_\")) %>%\n",
    "            dplyr::select(Region, Name, Mean) %>%\n",
    "            tidyr::spread(Name, Mean)\n",
    "        \n",
    "        dat = dplyr::left_join(dat_reg, dat, by = \"Region\")\n",
    "        dat_summary = dat\n",
    "\n",
    "        ### ========================================\n",
    "        ### Save results\n",
    "        ### ----------------------------------------\n",
    "        \n",
    "        txt_fname = \"matrix.count.TPM.WGS.tsv\"\n",
    "        txt_fpath = file.path(txt_fdiry, txt_fname)\n",
    "        dat = dat_tpm\n",
    "        write_tsv(dat, txt_fpath)\n",
    "        \n",
    "        txt_fname = \"matrix.count.FPKM.WGS.tsv\"\n",
    "        txt_fpath = file.path(txt_fdiry, txt_fname)\n",
    "        dat = dat_fpkm\n",
    "        write_tsv(dat, txt_fpath)\n",
    "        \n",
    "        txt_fname = \"matrix.count.deseq.WGS.tsv\"\n",
    "        txt_fpath = file.path(txt_fdiry, txt_fname)\n",
    "        dat = dat_dds_count\n",
    "        write_tsv(dat, txt_fpath)\n",
    "        \n",
    "        txt_fname = \"result.coverage.Log2FC.deseq.tsv\"\n",
    "        txt_fpath = file.path(txt_fdiry, txt_fname)\n",
    "        dat = dat_dds_result\n",
    "        write_tsv(dat, txt_fpath)\n",
    "        \n",
    "        txt_fname = \"result.coverage.summary.tsv\"\n",
    "        txt_fpath = file.path(txt_fdiry, txt_fname)\n",
    "        dat = dat_summary\n",
    "        write_tsv(dat, txt_fpath)\n",
    "        \n",
    "        txt_fname = \"result.coverage.screened.tsv\"\n",
    "        txt_fpath = file.path(txt_fdiry, txt_fname)\n",
    "        dat = dat_screen\n",
    "        write_tsv(dat, txt_fpath)\n",
    "        \n",
    "    }\n",
    "}"
   ]
  },
  {
   "cell_type": "markdown",
   "id": "97e5140e-443c-4fcb-a829-cc7915ef0ab8",
   "metadata": {},
   "source": [
    "## Review"
   ]
  },
  {
   "cell_type": "code",
   "execution_count": 56,
   "id": "f291dd24-872c-4930-8e94-a37e5dd5e711",
   "metadata": {},
   "outputs": [
    {
     "data": {
      "text/html": [
       "<table class=\"dataframe\">\n",
       "<caption>A tibble: 3 × 14</caption>\n",
       "<thead>\n",
       "\t<tr><th scope=col>Chrom</th><th scope=col>ChromStart</th><th scope=col>ChromEnd</th><th scope=col>Region</th><th scope=col>Input.rep1</th><th scope=col>Input.rep2</th><th scope=col>Input.rep3</th><th scope=col>Input.rep4</th><th scope=col>Input.rep5</th><th scope=col>Input.rep6</th><th scope=col>Output.rep1</th><th scope=col>Output.rep2</th><th scope=col>Output.rep3</th><th scope=col>Output.rep4</th></tr>\n",
       "\t<tr><th scope=col>&lt;chr&gt;</th><th scope=col>&lt;dbl&gt;</th><th scope=col>&lt;dbl&gt;</th><th scope=col>&lt;chr&gt;</th><th scope=col>&lt;dbl&gt;</th><th scope=col>&lt;dbl&gt;</th><th scope=col>&lt;dbl&gt;</th><th scope=col>&lt;dbl&gt;</th><th scope=col>&lt;dbl&gt;</th><th scope=col>&lt;dbl&gt;</th><th scope=col>&lt;dbl&gt;</th><th scope=col>&lt;dbl&gt;</th><th scope=col>&lt;dbl&gt;</th><th scope=col>&lt;dbl&gt;</th></tr>\n",
       "</thead>\n",
       "<tbody>\n",
       "\t<tr><td>chr1</td><td>10038</td><td>10405</td><td>chr1:10038-10405</td><td>85.29216</td><td>94.85917</td><td>103.92258</td><td>104.02099</td><td>82.94011</td><td>106.93828</td><td>26.91726</td><td>34.93514</td><td>11.10767</td><td>15.78996</td></tr>\n",
       "\t<tr><td>chr1</td><td>14282</td><td>14614</td><td>chr1:14282-14614</td><td>62.35151</td><td>63.69770</td><td> 65.16457</td><td> 62.23090</td><td>57.31255</td><td> 66.44709</td><td>43.06761</td><td>66.95901</td><td>72.19984</td><td>64.73885</td></tr>\n",
       "\t<tr><td>chr1</td><td>16025</td><td>16338</td><td>chr1:16025-16338</td><td>72.93950</td><td>86.61054</td><td> 74.53464</td><td> 77.22082</td><td>82.94011</td><td> 85.13533</td><td>43.06761</td><td>20.37883</td><td>41.65375</td><td>28.42194</td></tr>\n",
       "</tbody>\n",
       "</table>\n"
      ],
      "text/latex": [
       "A tibble: 3 × 14\n",
       "\\begin{tabular}{llllllllllllll}\n",
       " Chrom & ChromStart & ChromEnd & Region & Input.rep1 & Input.rep2 & Input.rep3 & Input.rep4 & Input.rep5 & Input.rep6 & Output.rep1 & Output.rep2 & Output.rep3 & Output.rep4\\\\\n",
       " <chr> & <dbl> & <dbl> & <chr> & <dbl> & <dbl> & <dbl> & <dbl> & <dbl> & <dbl> & <dbl> & <dbl> & <dbl> & <dbl>\\\\\n",
       "\\hline\n",
       "\t chr1 & 10038 & 10405 & chr1:10038-10405 & 85.29216 & 94.85917 & 103.92258 & 104.02099 & 82.94011 & 106.93828 & 26.91726 & 34.93514 & 11.10767 & 15.78996\\\\\n",
       "\t chr1 & 14282 & 14614 & chr1:14282-14614 & 62.35151 & 63.69770 &  65.16457 &  62.23090 & 57.31255 &  66.44709 & 43.06761 & 66.95901 & 72.19984 & 64.73885\\\\\n",
       "\t chr1 & 16025 & 16338 & chr1:16025-16338 & 72.93950 & 86.61054 &  74.53464 &  77.22082 & 82.94011 &  85.13533 & 43.06761 & 20.37883 & 41.65375 & 28.42194\\\\\n",
       "\\end{tabular}\n"
      ],
      "text/markdown": [
       "\n",
       "A tibble: 3 × 14\n",
       "\n",
       "| Chrom &lt;chr&gt; | ChromStart &lt;dbl&gt; | ChromEnd &lt;dbl&gt; | Region &lt;chr&gt; | Input.rep1 &lt;dbl&gt; | Input.rep2 &lt;dbl&gt; | Input.rep3 &lt;dbl&gt; | Input.rep4 &lt;dbl&gt; | Input.rep5 &lt;dbl&gt; | Input.rep6 &lt;dbl&gt; | Output.rep1 &lt;dbl&gt; | Output.rep2 &lt;dbl&gt; | Output.rep3 &lt;dbl&gt; | Output.rep4 &lt;dbl&gt; |\n",
       "|---|---|---|---|---|---|---|---|---|---|---|---|---|---|\n",
       "| chr1 | 10038 | 10405 | chr1:10038-10405 | 85.29216 | 94.85917 | 103.92258 | 104.02099 | 82.94011 | 106.93828 | 26.91726 | 34.93514 | 11.10767 | 15.78996 |\n",
       "| chr1 | 14282 | 14614 | chr1:14282-14614 | 62.35151 | 63.69770 |  65.16457 |  62.23090 | 57.31255 |  66.44709 | 43.06761 | 66.95901 | 72.19984 | 64.73885 |\n",
       "| chr1 | 16025 | 16338 | chr1:16025-16338 | 72.93950 | 86.61054 |  74.53464 |  77.22082 | 82.94011 |  85.13533 | 43.06761 | 20.37883 | 41.65375 | 28.42194 |\n",
       "\n"
      ],
      "text/plain": [
       "  Chrom ChromStart ChromEnd Region           Input.rep1 Input.rep2 Input.rep3\n",
       "1 chr1  10038      10405    chr1:10038-10405 85.29216   94.85917   103.92258 \n",
       "2 chr1  14282      14614    chr1:14282-14614 62.35151   63.69770    65.16457 \n",
       "3 chr1  16025      16338    chr1:16025-16338 72.93950   86.61054    74.53464 \n",
       "  Input.rep4 Input.rep5 Input.rep6 Output.rep1 Output.rep2 Output.rep3\n",
       "1 104.02099  82.94011   106.93828  26.91726    34.93514    11.10767   \n",
       "2  62.23090  57.31255    66.44709  43.06761    66.95901    72.19984   \n",
       "3  77.22082  82.94011    85.13533  43.06761    20.37883    41.65375   \n",
       "  Output.rep4\n",
       "1 15.78996   \n",
       "2 64.73885   \n",
       "3 28.42194   "
      ]
     },
     "metadata": {},
     "output_type": "display_data"
    }
   ],
   "source": [
    "head(dat_dds_count, 3)"
   ]
  },
  {
   "cell_type": "code",
   "execution_count": 57,
   "id": "dd28fed7-c303-48c9-b03a-78353cf751d1",
   "metadata": {},
   "outputs": [
    {
     "data": {
      "text/html": [
       "<table class=\"dataframe\">\n",
       "<caption>A tibble: 3 × 10</caption>\n",
       "<thead>\n",
       "\t<tr><th scope=col>Chrom</th><th scope=col>ChromStart</th><th scope=col>ChromEnd</th><th scope=col>Region</th><th scope=col>baseMean</th><th scope=col>log2FoldChange</th><th scope=col>lfcSE</th><th scope=col>stat</th><th scope=col>pvalue</th><th scope=col>padj</th></tr>\n",
       "\t<tr><th scope=col>&lt;chr&gt;</th><th scope=col>&lt;dbl&gt;</th><th scope=col>&lt;dbl&gt;</th><th scope=col>&lt;chr&gt;</th><th scope=col>&lt;dbl&gt;</th><th scope=col>&lt;dbl&gt;</th><th scope=col>&lt;dbl&gt;</th><th scope=col>&lt;dbl&gt;</th><th scope=col>&lt;dbl&gt;</th><th scope=col>&lt;dbl&gt;</th></tr>\n",
       "</thead>\n",
       "<tbody>\n",
       "\t<tr><td>chr1</td><td>10038</td><td>10405</td><td>chr1:10038-10405</td><td>66.67233</td><td>-2.23485278</td><td>0.2790669</td><td>-8.0083052</td><td>1.163000e-15</td><td>8.299026e-15</td></tr>\n",
       "\t<tr><td>chr1</td><td>14282</td><td>14614</td><td>chr1:14282-14614</td><td>62.41696</td><td> 0.03179054</td><td>0.1644506</td><td> 0.1933136</td><td>8.467134e-01</td><td>8.816469e-01</td></tr>\n",
       "\t<tr><td>chr1</td><td>16025</td><td>16338</td><td>chr1:16025-16338</td><td>61.29031</td><td>-1.33934074</td><td>0.2226910</td><td>-6.0143468</td><td>1.806134e-09</td><td>8.654528e-09</td></tr>\n",
       "</tbody>\n",
       "</table>\n"
      ],
      "text/latex": [
       "A tibble: 3 × 10\n",
       "\\begin{tabular}{llllllllll}\n",
       " Chrom & ChromStart & ChromEnd & Region & baseMean & log2FoldChange & lfcSE & stat & pvalue & padj\\\\\n",
       " <chr> & <dbl> & <dbl> & <chr> & <dbl> & <dbl> & <dbl> & <dbl> & <dbl> & <dbl>\\\\\n",
       "\\hline\n",
       "\t chr1 & 10038 & 10405 & chr1:10038-10405 & 66.67233 & -2.23485278 & 0.2790669 & -8.0083052 & 1.163000e-15 & 8.299026e-15\\\\\n",
       "\t chr1 & 14282 & 14614 & chr1:14282-14614 & 62.41696 &  0.03179054 & 0.1644506 &  0.1933136 & 8.467134e-01 & 8.816469e-01\\\\\n",
       "\t chr1 & 16025 & 16338 & chr1:16025-16338 & 61.29031 & -1.33934074 & 0.2226910 & -6.0143468 & 1.806134e-09 & 8.654528e-09\\\\\n",
       "\\end{tabular}\n"
      ],
      "text/markdown": [
       "\n",
       "A tibble: 3 × 10\n",
       "\n",
       "| Chrom &lt;chr&gt; | ChromStart &lt;dbl&gt; | ChromEnd &lt;dbl&gt; | Region &lt;chr&gt; | baseMean &lt;dbl&gt; | log2FoldChange &lt;dbl&gt; | lfcSE &lt;dbl&gt; | stat &lt;dbl&gt; | pvalue &lt;dbl&gt; | padj &lt;dbl&gt; |\n",
       "|---|---|---|---|---|---|---|---|---|---|\n",
       "| chr1 | 10038 | 10405 | chr1:10038-10405 | 66.67233 | -2.23485278 | 0.2790669 | -8.0083052 | 1.163000e-15 | 8.299026e-15 |\n",
       "| chr1 | 14282 | 14614 | chr1:14282-14614 | 62.41696 |  0.03179054 | 0.1644506 |  0.1933136 | 8.467134e-01 | 8.816469e-01 |\n",
       "| chr1 | 16025 | 16338 | chr1:16025-16338 | 61.29031 | -1.33934074 | 0.2226910 | -6.0143468 | 1.806134e-09 | 8.654528e-09 |\n",
       "\n"
      ],
      "text/plain": [
       "  Chrom ChromStart ChromEnd Region           baseMean log2FoldChange lfcSE    \n",
       "1 chr1  10038      10405    chr1:10038-10405 66.67233 -2.23485278    0.2790669\n",
       "2 chr1  14282      14614    chr1:14282-14614 62.41696  0.03179054    0.1644506\n",
       "3 chr1  16025      16338    chr1:16025-16338 61.29031 -1.33934074    0.2226910\n",
       "  stat       pvalue       padj        \n",
       "1 -8.0083052 1.163000e-15 8.299026e-15\n",
       "2  0.1933136 8.467134e-01 8.816469e-01\n",
       "3 -6.0143468 1.806134e-09 8.654528e-09"
      ]
     },
     "metadata": {},
     "output_type": "display_data"
    }
   ],
   "source": [
    "head(dat_dds_result, 3)"
   ]
  },
  {
   "cell_type": "code",
   "execution_count": 59,
   "id": "170c7063-9d60-43b5-a475-5efafde9145e",
   "metadata": {},
   "outputs": [
    {
     "data": {
      "text/html": [
       "<table class=\"dataframe\">\n",
       "<caption>A tibble: 3 × 14</caption>\n",
       "<thead>\n",
       "\t<tr><th scope=col>Chrom</th><th scope=col>ChromStart</th><th scope=col>ChromEnd</th><th scope=col>Region</th><th scope=col>Input.rep1</th><th scope=col>Input.rep2</th><th scope=col>Input.rep3</th><th scope=col>Input.rep4</th><th scope=col>Input.rep5</th><th scope=col>Input.rep6</th><th scope=col>Output.rep1</th><th scope=col>Output.rep2</th><th scope=col>Output.rep3</th><th scope=col>Output.rep4</th></tr>\n",
       "\t<tr><th scope=col>&lt;chr&gt;</th><th scope=col>&lt;dbl&gt;</th><th scope=col>&lt;dbl&gt;</th><th scope=col>&lt;chr&gt;</th><th scope=col>&lt;dbl&gt;</th><th scope=col>&lt;dbl&gt;</th><th scope=col>&lt;dbl&gt;</th><th scope=col>&lt;dbl&gt;</th><th scope=col>&lt;dbl&gt;</th><th scope=col>&lt;dbl&gt;</th><th scope=col>&lt;dbl&gt;</th><th scope=col>&lt;dbl&gt;</th><th scope=col>&lt;dbl&gt;</th><th scope=col>&lt;dbl&gt;</th></tr>\n",
       "</thead>\n",
       "<tbody>\n",
       "\t<tr><td>chr1</td><td>10038</td><td>10405</td><td>chr1:10038-10405</td><td>3.445338</td><td>3.888148</td><td>4.290341</td><td>4.273202</td><td>3.397390</td><td>4.345809</td><td>0.8436118</td><td>1.171350</td><td>0.3693823</td><td>0.4884531</td></tr>\n",
       "\t<tr><td>chr1</td><td>14282</td><td>14614</td><td>chr1:14282-14614</td><td>2.784182</td><td>2.886126</td><td>2.973866</td><td>2.825963</td><td>2.595126</td><td>2.984980</td><td>1.4920749</td><td>2.481768</td><td>2.6541010</td><td>2.2137812</td></tr>\n",
       "\t<tr><td>chr1</td><td>16025</td><td>16338</td><td>chr1:16025-16338</td><td>3.454675</td><td>4.162517</td><td>3.607961</td><td>3.719535</td><td>3.983521</td><td>4.056664</td><td>1.5826481</td><td>0.801171</td><td>1.6241611</td><td>1.0309013</td></tr>\n",
       "</tbody>\n",
       "</table>\n"
      ],
      "text/latex": [
       "A tibble: 3 × 14\n",
       "\\begin{tabular}{llllllllllllll}\n",
       " Chrom & ChromStart & ChromEnd & Region & Input.rep1 & Input.rep2 & Input.rep3 & Input.rep4 & Input.rep5 & Input.rep6 & Output.rep1 & Output.rep2 & Output.rep3 & Output.rep4\\\\\n",
       " <chr> & <dbl> & <dbl> & <chr> & <dbl> & <dbl> & <dbl> & <dbl> & <dbl> & <dbl> & <dbl> & <dbl> & <dbl> & <dbl>\\\\\n",
       "\\hline\n",
       "\t chr1 & 10038 & 10405 & chr1:10038-10405 & 3.445338 & 3.888148 & 4.290341 & 4.273202 & 3.397390 & 4.345809 & 0.8436118 & 1.171350 & 0.3693823 & 0.4884531\\\\\n",
       "\t chr1 & 14282 & 14614 & chr1:14282-14614 & 2.784182 & 2.886126 & 2.973866 & 2.825963 & 2.595126 & 2.984980 & 1.4920749 & 2.481768 & 2.6541010 & 2.2137812\\\\\n",
       "\t chr1 & 16025 & 16338 & chr1:16025-16338 & 3.454675 & 4.162517 & 3.607961 & 3.719535 & 3.983521 & 4.056664 & 1.5826481 & 0.801171 & 1.6241611 & 1.0309013\\\\\n",
       "\\end{tabular}\n"
      ],
      "text/markdown": [
       "\n",
       "A tibble: 3 × 14\n",
       "\n",
       "| Chrom &lt;chr&gt; | ChromStart &lt;dbl&gt; | ChromEnd &lt;dbl&gt; | Region &lt;chr&gt; | Input.rep1 &lt;dbl&gt; | Input.rep2 &lt;dbl&gt; | Input.rep3 &lt;dbl&gt; | Input.rep4 &lt;dbl&gt; | Input.rep5 &lt;dbl&gt; | Input.rep6 &lt;dbl&gt; | Output.rep1 &lt;dbl&gt; | Output.rep2 &lt;dbl&gt; | Output.rep3 &lt;dbl&gt; | Output.rep4 &lt;dbl&gt; |\n",
       "|---|---|---|---|---|---|---|---|---|---|---|---|---|---|\n",
       "| chr1 | 10038 | 10405 | chr1:10038-10405 | 3.445338 | 3.888148 | 4.290341 | 4.273202 | 3.397390 | 4.345809 | 0.8436118 | 1.171350 | 0.3693823 | 0.4884531 |\n",
       "| chr1 | 14282 | 14614 | chr1:14282-14614 | 2.784182 | 2.886126 | 2.973866 | 2.825963 | 2.595126 | 2.984980 | 1.4920749 | 2.481768 | 2.6541010 | 2.2137812 |\n",
       "| chr1 | 16025 | 16338 | chr1:16025-16338 | 3.454675 | 4.162517 | 3.607961 | 3.719535 | 3.983521 | 4.056664 | 1.5826481 | 0.801171 | 1.6241611 | 1.0309013 |\n",
       "\n"
      ],
      "text/plain": [
       "  Chrom ChromStart ChromEnd Region           Input.rep1 Input.rep2 Input.rep3\n",
       "1 chr1  10038      10405    chr1:10038-10405 3.445338   3.888148   4.290341  \n",
       "2 chr1  14282      14614    chr1:14282-14614 2.784182   2.886126   2.973866  \n",
       "3 chr1  16025      16338    chr1:16025-16338 3.454675   4.162517   3.607961  \n",
       "  Input.rep4 Input.rep5 Input.rep6 Output.rep1 Output.rep2 Output.rep3\n",
       "1 4.273202   3.397390   4.345809   0.8436118   1.171350    0.3693823  \n",
       "2 2.825963   2.595126   2.984980   1.4920749   2.481768    2.6541010  \n",
       "3 3.719535   3.983521   4.056664   1.5826481   0.801171    1.6241611  \n",
       "  Output.rep4\n",
       "1 0.4884531  \n",
       "2 2.2137812  \n",
       "3 1.0309013  "
      ]
     },
     "metadata": {},
     "output_type": "display_data"
    }
   ],
   "source": [
    "head(dat_tpm, 3)"
   ]
  },
  {
   "cell_type": "code",
   "execution_count": 60,
   "id": "eaf40346-5cb3-4748-8edb-80c164480d09",
   "metadata": {},
   "outputs": [
    {
     "data": {
      "text/html": [
       "<table class=\"dataframe\">\n",
       "<caption>A tibble: 3 × 14</caption>\n",
       "<thead>\n",
       "\t<tr><th scope=col>Chrom</th><th scope=col>ChromStart</th><th scope=col>ChromEnd</th><th scope=col>Region</th><th scope=col>Input.rep1</th><th scope=col>Input.rep2</th><th scope=col>Input.rep3</th><th scope=col>Input.rep4</th><th scope=col>Input.rep5</th><th scope=col>Input.rep6</th><th scope=col>Output.rep1</th><th scope=col>Output.rep2</th><th scope=col>Output.rep3</th><th scope=col>Output.rep4</th></tr>\n",
       "\t<tr><th scope=col>&lt;chr&gt;</th><th scope=col>&lt;dbl&gt;</th><th scope=col>&lt;dbl&gt;</th><th scope=col>&lt;chr&gt;</th><th scope=col>&lt;dbl&gt;</th><th scope=col>&lt;dbl&gt;</th><th scope=col>&lt;dbl&gt;</th><th scope=col>&lt;dbl&gt;</th><th scope=col>&lt;dbl&gt;</th><th scope=col>&lt;dbl&gt;</th><th scope=col>&lt;dbl&gt;</th><th scope=col>&lt;dbl&gt;</th><th scope=col>&lt;dbl&gt;</th><th scope=col>&lt;dbl&gt;</th></tr>\n",
       "</thead>\n",
       "<tbody>\n",
       "\t<tr><td>chr1</td><td>10038</td><td>10405</td><td>chr1:10038-10405</td><td>0.003629544</td><td>0.004114802</td><td>0.004548045</td><td>0.004522405</td><td>0.003592098</td><td>0.004579404</td><td>0.0008557153</td><td>0.0012171316</td><td>0.0003817082</td><td>0.000488374</td></tr>\n",
       "\t<tr><td>chr1</td><td>14282</td><td>14614</td><td>chr1:14282-14614</td><td>0.002933039</td><td>0.003054368</td><td>0.003152495</td><td>0.002990766</td><td>0.002743856</td><td>0.003145428</td><td>0.0015134820</td><td>0.0025787671</td><td>0.0027426652</td><td>0.002213423</td></tr>\n",
       "\t<tr><td>chr1</td><td>16025</td><td>16338</td><td>chr1:16025-16338</td><td>0.003639380</td><td>0.004405164</td><td>0.003824677</td><td>0.003936449</td><td>0.004211821</td><td>0.004274716</td><td>0.0016053547</td><td>0.0008324843</td><td>0.0016783574</td><td>0.001030734</td></tr>\n",
       "</tbody>\n",
       "</table>\n"
      ],
      "text/latex": [
       "A tibble: 3 × 14\n",
       "\\begin{tabular}{llllllllllllll}\n",
       " Chrom & ChromStart & ChromEnd & Region & Input.rep1 & Input.rep2 & Input.rep3 & Input.rep4 & Input.rep5 & Input.rep6 & Output.rep1 & Output.rep2 & Output.rep3 & Output.rep4\\\\\n",
       " <chr> & <dbl> & <dbl> & <chr> & <dbl> & <dbl> & <dbl> & <dbl> & <dbl> & <dbl> & <dbl> & <dbl> & <dbl> & <dbl>\\\\\n",
       "\\hline\n",
       "\t chr1 & 10038 & 10405 & chr1:10038-10405 & 0.003629544 & 0.004114802 & 0.004548045 & 0.004522405 & 0.003592098 & 0.004579404 & 0.0008557153 & 0.0012171316 & 0.0003817082 & 0.000488374\\\\\n",
       "\t chr1 & 14282 & 14614 & chr1:14282-14614 & 0.002933039 & 0.003054368 & 0.003152495 & 0.002990766 & 0.002743856 & 0.003145428 & 0.0015134820 & 0.0025787671 & 0.0027426652 & 0.002213423\\\\\n",
       "\t chr1 & 16025 & 16338 & chr1:16025-16338 & 0.003639380 & 0.004405164 & 0.003824677 & 0.003936449 & 0.004211821 & 0.004274716 & 0.0016053547 & 0.0008324843 & 0.0016783574 & 0.001030734\\\\\n",
       "\\end{tabular}\n"
      ],
      "text/markdown": [
       "\n",
       "A tibble: 3 × 14\n",
       "\n",
       "| Chrom &lt;chr&gt; | ChromStart &lt;dbl&gt; | ChromEnd &lt;dbl&gt; | Region &lt;chr&gt; | Input.rep1 &lt;dbl&gt; | Input.rep2 &lt;dbl&gt; | Input.rep3 &lt;dbl&gt; | Input.rep4 &lt;dbl&gt; | Input.rep5 &lt;dbl&gt; | Input.rep6 &lt;dbl&gt; | Output.rep1 &lt;dbl&gt; | Output.rep2 &lt;dbl&gt; | Output.rep3 &lt;dbl&gt; | Output.rep4 &lt;dbl&gt; |\n",
       "|---|---|---|---|---|---|---|---|---|---|---|---|---|---|\n",
       "| chr1 | 10038 | 10405 | chr1:10038-10405 | 0.003629544 | 0.004114802 | 0.004548045 | 0.004522405 | 0.003592098 | 0.004579404 | 0.0008557153 | 0.0012171316 | 0.0003817082 | 0.000488374 |\n",
       "| chr1 | 14282 | 14614 | chr1:14282-14614 | 0.002933039 | 0.003054368 | 0.003152495 | 0.002990766 | 0.002743856 | 0.003145428 | 0.0015134820 | 0.0025787671 | 0.0027426652 | 0.002213423 |\n",
       "| chr1 | 16025 | 16338 | chr1:16025-16338 | 0.003639380 | 0.004405164 | 0.003824677 | 0.003936449 | 0.004211821 | 0.004274716 | 0.0016053547 | 0.0008324843 | 0.0016783574 | 0.001030734 |\n",
       "\n"
      ],
      "text/plain": [
       "  Chrom ChromStart ChromEnd Region           Input.rep1  Input.rep2 \n",
       "1 chr1  10038      10405    chr1:10038-10405 0.003629544 0.004114802\n",
       "2 chr1  14282      14614    chr1:14282-14614 0.002933039 0.003054368\n",
       "3 chr1  16025      16338    chr1:16025-16338 0.003639380 0.004405164\n",
       "  Input.rep3  Input.rep4  Input.rep5  Input.rep6  Output.rep1  Output.rep2 \n",
       "1 0.004548045 0.004522405 0.003592098 0.004579404 0.0008557153 0.0012171316\n",
       "2 0.003152495 0.002990766 0.002743856 0.003145428 0.0015134820 0.0025787671\n",
       "3 0.003824677 0.003936449 0.004211821 0.004274716 0.0016053547 0.0008324843\n",
       "  Output.rep3  Output.rep4\n",
       "1 0.0003817082 0.000488374\n",
       "2 0.0027426652 0.002213423\n",
       "3 0.0016783574 0.001030734"
      ]
     },
     "metadata": {},
     "output_type": "display_data"
    }
   ],
   "source": [
    "head(dat_fpkm, 3)"
   ]
  },
  {
   "cell_type": "code",
   "execution_count": 58,
   "id": "50f33084-120f-45c2-adc1-8ba0e4532a10",
   "metadata": {},
   "outputs": [
    {
     "data": {
      "text/html": [
       "<table class=\"dataframe\">\n",
       "<caption>A tibble: 3 × 8</caption>\n",
       "<thead>\n",
       "\t<tr><th scope=col>Chrom</th><th scope=col>ChromStart</th><th scope=col>ChromEnd</th><th scope=col>Region</th><th scope=col>Input_FPKM</th><th scope=col>Input_TPM</th><th scope=col>Output_FPKM</th><th scope=col>Output_TPM</th></tr>\n",
       "\t<tr><th scope=col>&lt;chr&gt;</th><th scope=col>&lt;dbl&gt;</th><th scope=col>&lt;dbl&gt;</th><th scope=col>&lt;chr&gt;</th><th scope=col>&lt;dbl&gt;</th><th scope=col>&lt;dbl&gt;</th><th scope=col>&lt;dbl&gt;</th><th scope=col>&lt;dbl&gt;</th></tr>\n",
       "</thead>\n",
       "<tbody>\n",
       "\t<tr><td>chr1</td><td>10038</td><td>10405</td><td>chr1:10038-10405</td><td>0.004164383</td><td>3.940038</td><td>0.0007357323</td><td>0.7181993</td></tr>\n",
       "\t<tr><td>chr1</td><td>14282</td><td>14614</td><td>chr1:14282-14614</td><td>0.003003325</td><td>2.841707</td><td>0.0022620843</td><td>2.2104314</td></tr>\n",
       "\t<tr><td>chr1</td><td>16025</td><td>16338</td><td>chr1:16025-16338</td><td>0.004048701</td><td>3.830812</td><td>0.0012867327</td><td>1.2597204</td></tr>\n",
       "</tbody>\n",
       "</table>\n"
      ],
      "text/latex": [
       "A tibble: 3 × 8\n",
       "\\begin{tabular}{llllllll}\n",
       " Chrom & ChromStart & ChromEnd & Region & Input\\_FPKM & Input\\_TPM & Output\\_FPKM & Output\\_TPM\\\\\n",
       " <chr> & <dbl> & <dbl> & <chr> & <dbl> & <dbl> & <dbl> & <dbl>\\\\\n",
       "\\hline\n",
       "\t chr1 & 10038 & 10405 & chr1:10038-10405 & 0.004164383 & 3.940038 & 0.0007357323 & 0.7181993\\\\\n",
       "\t chr1 & 14282 & 14614 & chr1:14282-14614 & 0.003003325 & 2.841707 & 0.0022620843 & 2.2104314\\\\\n",
       "\t chr1 & 16025 & 16338 & chr1:16025-16338 & 0.004048701 & 3.830812 & 0.0012867327 & 1.2597204\\\\\n",
       "\\end{tabular}\n"
      ],
      "text/markdown": [
       "\n",
       "A tibble: 3 × 8\n",
       "\n",
       "| Chrom &lt;chr&gt; | ChromStart &lt;dbl&gt; | ChromEnd &lt;dbl&gt; | Region &lt;chr&gt; | Input_FPKM &lt;dbl&gt; | Input_TPM &lt;dbl&gt; | Output_FPKM &lt;dbl&gt; | Output_TPM &lt;dbl&gt; |\n",
       "|---|---|---|---|---|---|---|---|\n",
       "| chr1 | 10038 | 10405 | chr1:10038-10405 | 0.004164383 | 3.940038 | 0.0007357323 | 0.7181993 |\n",
       "| chr1 | 14282 | 14614 | chr1:14282-14614 | 0.003003325 | 2.841707 | 0.0022620843 | 2.2104314 |\n",
       "| chr1 | 16025 | 16338 | chr1:16025-16338 | 0.004048701 | 3.830812 | 0.0012867327 | 1.2597204 |\n",
       "\n"
      ],
      "text/plain": [
       "  Chrom ChromStart ChromEnd Region           Input_FPKM  Input_TPM Output_FPKM \n",
       "1 chr1  10038      10405    chr1:10038-10405 0.004164383 3.940038  0.0007357323\n",
       "2 chr1  14282      14614    chr1:14282-14614 0.003003325 2.841707  0.0022620843\n",
       "3 chr1  16025      16338    chr1:16025-16338 0.004048701 3.830812  0.0012867327\n",
       "  Output_TPM\n",
       "1 0.7181993 \n",
       "2 2.2104314 \n",
       "3 1.2597204 "
      ]
     },
     "metadata": {},
     "output_type": "display_data"
    }
   ],
   "source": [
    "head(dat_summary, 3)"
   ]
  },
  {
   "cell_type": "code",
   "execution_count": null,
   "id": "da95b056-2249-4805-af99-834ddf516d36",
   "metadata": {},
   "outputs": [],
   "source": []
  },
  {
   "cell_type": "code",
   "execution_count": null,
   "id": "785f0838-096a-479c-8ba8-d01704d157b2",
   "metadata": {},
   "outputs": [],
   "source": []
  },
  {
   "cell_type": "code",
   "execution_count": null,
   "id": "2ed3eebc-9141-4749-8e6b-2b61afdc117a",
   "metadata": {},
   "outputs": [],
   "source": []
  },
  {
   "cell_type": "code",
   "execution_count": 53,
   "id": "610284c8-6956-49d3-982d-fd91f3fa2dbb",
   "metadata": {},
   "outputs": [
    {
     "data": {
      "text/html": [
       "<table class=\"dataframe\">\n",
       "<caption>A data.frame: 6 × 11</caption>\n",
       "<thead>\n",
       "\t<tr><th></th><th scope=col>Region</th><th scope=col>Input.rep1</th><th scope=col>Input.rep2</th><th scope=col>Input.rep3</th><th scope=col>Input.rep4</th><th scope=col>Input.rep5</th><th scope=col>Input.rep6</th><th scope=col>Output.rep1</th><th scope=col>Output.rep2</th><th scope=col>Output.rep3</th><th scope=col>Output.rep4</th></tr>\n",
       "\t<tr><th></th><th scope=col>&lt;chr&gt;</th><th scope=col>&lt;dbl&gt;</th><th scope=col>&lt;dbl&gt;</th><th scope=col>&lt;dbl&gt;</th><th scope=col>&lt;dbl&gt;</th><th scope=col>&lt;dbl&gt;</th><th scope=col>&lt;dbl&gt;</th><th scope=col>&lt;dbl&gt;</th><th scope=col>&lt;dbl&gt;</th><th scope=col>&lt;dbl&gt;</th><th scope=col>&lt;dbl&gt;</th></tr>\n",
       "</thead>\n",
       "<tbody>\n",
       "\t<tr><th scope=row>1</th><td>chr1:10038-10405  </td><td> 85.29216</td><td> 94.85917</td><td>103.92258</td><td>104.02099</td><td> 82.94011</td><td>106.93828</td><td>  26.91726</td><td>  34.93514</td><td>  11.107668</td><td>  15.78996</td></tr>\n",
       "\t<tr><th scope=row>2</th><td>chr1:14282-14614  </td><td> 62.35151</td><td> 63.69770</td><td> 65.16457</td><td> 62.23090</td><td> 57.31255</td><td> 66.44709</td><td>  43.06761</td><td>  66.95901</td><td>  72.199841</td><td>  64.73885</td></tr>\n",
       "\t<tr><th scope=row>3</th><td>chr1:16025-16338  </td><td> 72.93950</td><td> 86.61054</td><td> 74.53464</td><td> 77.22082</td><td> 82.94011</td><td> 85.13533</td><td>  43.06761</td><td>  20.37883</td><td>  41.653755</td><td>  28.42194</td></tr>\n",
       "\t<tr><th scope=row>4</th><td>chr1:17288-17689  </td><td>152.34944</td><td>160.38990</td><td>170.36488</td><td>166.70613</td><td>171.93764</td><td>171.82801</td><td>  37.68416</td><td>  37.84640</td><td>  63.869090</td><td>  93.16079</td></tr>\n",
       "\t<tr><th scope=row>5</th><td>chr1:28934-29499  </td><td>151.76122</td><td>148.47522</td><td>148.64336</td><td>147.17381</td><td>161.22066</td><td>160.92653</td><td>  43.06761</td><td>  32.02388</td><td>   8.330751</td><td>  41.05391</td></tr>\n",
       "\t<tr><th scope=row>6</th><td>chr1:115429-115969</td><td>558.81068</td><td>537.99354</td><td>543.46398</td><td>522.83041</td><td>549.36173</td><td>547.15022</td><td>1259.72765</td><td>1289.68879</td><td>1302.374058</td><td>1187.40534</td></tr>\n",
       "</tbody>\n",
       "</table>\n"
      ],
      "text/latex": [
       "A data.frame: 6 × 11\n",
       "\\begin{tabular}{r|lllllllllll}\n",
       "  & Region & Input.rep1 & Input.rep2 & Input.rep3 & Input.rep4 & Input.rep5 & Input.rep6 & Output.rep1 & Output.rep2 & Output.rep3 & Output.rep4\\\\\n",
       "  & <chr> & <dbl> & <dbl> & <dbl> & <dbl> & <dbl> & <dbl> & <dbl> & <dbl> & <dbl> & <dbl>\\\\\n",
       "\\hline\n",
       "\t1 & chr1:10038-10405   &  85.29216 &  94.85917 & 103.92258 & 104.02099 &  82.94011 & 106.93828 &   26.91726 &   34.93514 &   11.107668 &   15.78996\\\\\n",
       "\t2 & chr1:14282-14614   &  62.35151 &  63.69770 &  65.16457 &  62.23090 &  57.31255 &  66.44709 &   43.06761 &   66.95901 &   72.199841 &   64.73885\\\\\n",
       "\t3 & chr1:16025-16338   &  72.93950 &  86.61054 &  74.53464 &  77.22082 &  82.94011 &  85.13533 &   43.06761 &   20.37883 &   41.653755 &   28.42194\\\\\n",
       "\t4 & chr1:17288-17689   & 152.34944 & 160.38990 & 170.36488 & 166.70613 & 171.93764 & 171.82801 &   37.68416 &   37.84640 &   63.869090 &   93.16079\\\\\n",
       "\t5 & chr1:28934-29499   & 151.76122 & 148.47522 & 148.64336 & 147.17381 & 161.22066 & 160.92653 &   43.06761 &   32.02388 &    8.330751 &   41.05391\\\\\n",
       "\t6 & chr1:115429-115969 & 558.81068 & 537.99354 & 543.46398 & 522.83041 & 549.36173 & 547.15022 & 1259.72765 & 1289.68879 & 1302.374058 & 1187.40534\\\\\n",
       "\\end{tabular}\n"
      ],
      "text/markdown": [
       "\n",
       "A data.frame: 6 × 11\n",
       "\n",
       "| <!--/--> | Region &lt;chr&gt; | Input.rep1 &lt;dbl&gt; | Input.rep2 &lt;dbl&gt; | Input.rep3 &lt;dbl&gt; | Input.rep4 &lt;dbl&gt; | Input.rep5 &lt;dbl&gt; | Input.rep6 &lt;dbl&gt; | Output.rep1 &lt;dbl&gt; | Output.rep2 &lt;dbl&gt; | Output.rep3 &lt;dbl&gt; | Output.rep4 &lt;dbl&gt; |\n",
       "|---|---|---|---|---|---|---|---|---|---|---|---|\n",
       "| 1 | chr1:10038-10405   |  85.29216 |  94.85917 | 103.92258 | 104.02099 |  82.94011 | 106.93828 |   26.91726 |   34.93514 |   11.107668 |   15.78996 |\n",
       "| 2 | chr1:14282-14614   |  62.35151 |  63.69770 |  65.16457 |  62.23090 |  57.31255 |  66.44709 |   43.06761 |   66.95901 |   72.199841 |   64.73885 |\n",
       "| 3 | chr1:16025-16338   |  72.93950 |  86.61054 |  74.53464 |  77.22082 |  82.94011 |  85.13533 |   43.06761 |   20.37883 |   41.653755 |   28.42194 |\n",
       "| 4 | chr1:17288-17689   | 152.34944 | 160.38990 | 170.36488 | 166.70613 | 171.93764 | 171.82801 |   37.68416 |   37.84640 |   63.869090 |   93.16079 |\n",
       "| 5 | chr1:28934-29499   | 151.76122 | 148.47522 | 148.64336 | 147.17381 | 161.22066 | 160.92653 |   43.06761 |   32.02388 |    8.330751 |   41.05391 |\n",
       "| 6 | chr1:115429-115969 | 558.81068 | 537.99354 | 543.46398 | 522.83041 | 549.36173 | 547.15022 | 1259.72765 | 1289.68879 | 1302.374058 | 1187.40534 |\n",
       "\n"
      ],
      "text/plain": [
       "  Region             Input.rep1 Input.rep2 Input.rep3 Input.rep4 Input.rep5\n",
       "1 chr1:10038-10405    85.29216   94.85917  103.92258  104.02099   82.94011 \n",
       "2 chr1:14282-14614    62.35151   63.69770   65.16457   62.23090   57.31255 \n",
       "3 chr1:16025-16338    72.93950   86.61054   74.53464   77.22082   82.94011 \n",
       "4 chr1:17288-17689   152.34944  160.38990  170.36488  166.70613  171.93764 \n",
       "5 chr1:28934-29499   151.76122  148.47522  148.64336  147.17381  161.22066 \n",
       "6 chr1:115429-115969 558.81068  537.99354  543.46398  522.83041  549.36173 \n",
       "  Input.rep6 Output.rep1 Output.rep2 Output.rep3 Output.rep4\n",
       "1 106.93828    26.91726    34.93514    11.107668   15.78996 \n",
       "2  66.44709    43.06761    66.95901    72.199841   64.73885 \n",
       "3  85.13533    43.06761    20.37883    41.653755   28.42194 \n",
       "4 171.82801    37.68416    37.84640    63.869090   93.16079 \n",
       "5 160.92653    43.06761    32.02388     8.330751   41.05391 \n",
       "6 547.15022  1259.72765  1289.68879  1302.374058 1187.40534 "
      ]
     },
     "metadata": {},
     "output_type": "display_data"
    }
   ],
   "source": [
    "mat = counts(dds, normalized=TRUE)\n",
    "dat = mat %>% as.data.frame %>% rownames_to_column(\"Region\")\n",
    "head(dat)"
   ]
  },
  {
   "cell_type": "code",
   "execution_count": 40,
   "id": "5334998d-f8e8-4a74-a014-7999cf0be448",
   "metadata": {},
   "outputs": [
    {
     "data": {
      "text/html": [
       "<table class=\"dataframe\">\n",
       "<caption>A data.frame: 3 × 7</caption>\n",
       "<thead>\n",
       "\t<tr><th></th><th scope=col>Region</th><th scope=col>baseMean</th><th scope=col>log2FoldChange</th><th scope=col>lfcSE</th><th scope=col>stat</th><th scope=col>pvalue</th><th scope=col>padj</th></tr>\n",
       "\t<tr><th></th><th scope=col>&lt;chr&gt;</th><th scope=col>&lt;dbl&gt;</th><th scope=col>&lt;dbl&gt;</th><th scope=col>&lt;dbl&gt;</th><th scope=col>&lt;dbl&gt;</th><th scope=col>&lt;dbl&gt;</th><th scope=col>&lt;dbl&gt;</th></tr>\n",
       "</thead>\n",
       "<tbody>\n",
       "\t<tr><th scope=row>1</th><td>chr1:10038-10405</td><td>66.67233</td><td>-2.23485278</td><td>0.2790669</td><td>-8.0083052</td><td>1.163000e-15</td><td>8.299026e-15</td></tr>\n",
       "\t<tr><th scope=row>2</th><td>chr1:14282-14614</td><td>62.41696</td><td> 0.03179054</td><td>0.1644506</td><td> 0.1933136</td><td>8.467134e-01</td><td>8.816469e-01</td></tr>\n",
       "\t<tr><th scope=row>3</th><td>chr1:16025-16338</td><td>61.29031</td><td>-1.33934074</td><td>0.2226910</td><td>-6.0143468</td><td>1.806134e-09</td><td>8.654528e-09</td></tr>\n",
       "</tbody>\n",
       "</table>\n"
      ],
      "text/latex": [
       "A data.frame: 3 × 7\n",
       "\\begin{tabular}{r|lllllll}\n",
       "  & Region & baseMean & log2FoldChange & lfcSE & stat & pvalue & padj\\\\\n",
       "  & <chr> & <dbl> & <dbl> & <dbl> & <dbl> & <dbl> & <dbl>\\\\\n",
       "\\hline\n",
       "\t1 & chr1:10038-10405 & 66.67233 & -2.23485278 & 0.2790669 & -8.0083052 & 1.163000e-15 & 8.299026e-15\\\\\n",
       "\t2 & chr1:14282-14614 & 62.41696 &  0.03179054 & 0.1644506 &  0.1933136 & 8.467134e-01 & 8.816469e-01\\\\\n",
       "\t3 & chr1:16025-16338 & 61.29031 & -1.33934074 & 0.2226910 & -6.0143468 & 1.806134e-09 & 8.654528e-09\\\\\n",
       "\\end{tabular}\n"
      ],
      "text/markdown": [
       "\n",
       "A data.frame: 3 × 7\n",
       "\n",
       "| <!--/--> | Region &lt;chr&gt; | baseMean &lt;dbl&gt; | log2FoldChange &lt;dbl&gt; | lfcSE &lt;dbl&gt; | stat &lt;dbl&gt; | pvalue &lt;dbl&gt; | padj &lt;dbl&gt; |\n",
       "|---|---|---|---|---|---|---|---|\n",
       "| 1 | chr1:10038-10405 | 66.67233 | -2.23485278 | 0.2790669 | -8.0083052 | 1.163000e-15 | 8.299026e-15 |\n",
       "| 2 | chr1:14282-14614 | 62.41696 |  0.03179054 | 0.1644506 |  0.1933136 | 8.467134e-01 | 8.816469e-01 |\n",
       "| 3 | chr1:16025-16338 | 61.29031 | -1.33934074 | 0.2226910 | -6.0143468 | 1.806134e-09 | 8.654528e-09 |\n",
       "\n"
      ],
      "text/plain": [
       "  Region           baseMean log2FoldChange lfcSE     stat       pvalue      \n",
       "1 chr1:10038-10405 66.67233 -2.23485278    0.2790669 -8.0083052 1.163000e-15\n",
       "2 chr1:14282-14614 62.41696  0.03179054    0.1644506  0.1933136 8.467134e-01\n",
       "3 chr1:16025-16338 61.29031 -1.33934074    0.2226910 -6.0143468 1.806134e-09\n",
       "  padj        \n",
       "1 8.299026e-15\n",
       "2 8.816469e-01\n",
       "3 8.654528e-09"
      ]
     },
     "metadata": {},
     "output_type": "display_data"
    }
   ],
   "source": [
    "res = results(dds, contrast = c(\"Group\", \"Output\", \"Input\"))\n",
    "dat = as.data.frame(res) %>% rownames_to_column(\"Region\")\n",
    "\n",
    "dat_log2fc = dat\n",
    "head(dat, 3)"
   ]
  },
  {
   "cell_type": "code",
   "execution_count": 39,
   "id": "16274c97-cf41-474f-9841-f3701c08444f",
   "metadata": {},
   "outputs": [
    {
     "name": "stderr",
     "output_type": "stream",
     "text": [
      "Warning message in filterByExpr.DGEList(dge):\n",
      "“All samples appear to belong to the same group.”\n",
      "Warning message in filterByExpr.DGEList(dge):\n",
      "“All samples appear to belong to the same group.”\n"
     ]
    },
    {
     "data": {
      "text/html": [
       "<table class=\"dataframe\">\n",
       "<caption>A data.frame: 3 × 4</caption>\n",
       "<thead>\n",
       "\t<tr><th></th><th scope=col>Region</th><th scope=col>Input</th><th scope=col>Output</th><th scope=col>Total</th></tr>\n",
       "\t<tr><th></th><th scope=col>&lt;chr&gt;</th><th scope=col>&lt;lgl&gt;</th><th scope=col>&lt;lgl&gt;</th><th scope=col>&lt;lgl&gt;</th></tr>\n",
       "</thead>\n",
       "<tbody>\n",
       "\t<tr><th scope=row>1</th><td>chr1:100028014-100029653</td><td>TRUE</td><td>TRUE</td><td>TRUE</td></tr>\n",
       "\t<tr><th scope=row>2</th><td>chr1:100036895-100039189</td><td>TRUE</td><td>TRUE</td><td>TRUE</td></tr>\n",
       "\t<tr><th scope=row>3</th><td>chr1:100046252-100046533</td><td>TRUE</td><td>TRUE</td><td>TRUE</td></tr>\n",
       "</tbody>\n",
       "</table>\n"
      ],
      "text/latex": [
       "A data.frame: 3 × 4\n",
       "\\begin{tabular}{r|llll}\n",
       "  & Region & Input & Output & Total\\\\\n",
       "  & <chr> & <lgl> & <lgl> & <lgl>\\\\\n",
       "\\hline\n",
       "\t1 & chr1:100028014-100029653 & TRUE & TRUE & TRUE\\\\\n",
       "\t2 & chr1:100036895-100039189 & TRUE & TRUE & TRUE\\\\\n",
       "\t3 & chr1:100046252-100046533 & TRUE & TRUE & TRUE\\\\\n",
       "\\end{tabular}\n"
      ],
      "text/markdown": [
       "\n",
       "A data.frame: 3 × 4\n",
       "\n",
       "| <!--/--> | Region &lt;chr&gt; | Input &lt;lgl&gt; | Output &lt;lgl&gt; | Total &lt;lgl&gt; |\n",
       "|---|---|---|---|---|\n",
       "| 1 | chr1:100028014-100029653 | TRUE | TRUE | TRUE |\n",
       "| 2 | chr1:100036895-100039189 | TRUE | TRUE | TRUE |\n",
       "| 3 | chr1:100046252-100046533 | TRUE | TRUE | TRUE |\n",
       "\n"
      ],
      "text/plain": [
       "  Region                   Input Output Total\n",
       "1 chr1:100028014-100029653 TRUE  TRUE   TRUE \n",
       "2 chr1:100036895-100039189 TRUE  TRUE   TRUE \n",
       "3 chr1:100046252-100046533 TRUE  TRUE   TRUE "
      ]
     },
     "metadata": {},
     "output_type": "display_data"
    }
   ],
   "source": [
    "lst = lst_dge\n",
    "lst = lapply(lst, function(dge){\n",
    "    idx = filterByExpr(dge)\n",
    "    dat = data.frame(\n",
    "        Region = names(idx),\n",
    "        Screen = idx\n",
    "    )\n",
    "    return(dat)\n",
    "})\n",
    "\n",
    "dat = bind_rows(lst, .id = \"Set\")\n",
    "dat = dat %>% tidyr::spread(Set, Screen)\n",
    "\n",
    "dat_screen = dat\n",
    "head(dat, 3)"
   ]
  },
  {
   "cell_type": "code",
   "execution_count": null,
   "id": "8563a185-39e4-46eb-9078-e494e0526779",
   "metadata": {},
   "outputs": [],
   "source": []
  },
  {
   "cell_type": "code",
   "execution_count": null,
   "id": "86da5c0d-0647-4807-aadc-7d217c577d9a",
   "metadata": {},
   "outputs": [],
   "source": []
  },
  {
   "cell_type": "code",
   "execution_count": 17,
   "id": "3d92875b-032a-494c-846b-d72ba40f15b7",
   "metadata": {},
   "outputs": [
    {
     "data": {
      "text/html": [
       "<table class=\"dataframe\">\n",
       "<caption>A tibble: 6 × 14</caption>\n",
       "<thead>\n",
       "\t<tr><th scope=col>Chrom</th><th scope=col>ChromStart</th><th scope=col>ChromEnd</th><th scope=col>Region</th><th scope=col>Input.rep1</th><th scope=col>Input.rep2</th><th scope=col>Input.rep3</th><th scope=col>Input.rep4</th><th scope=col>Input.rep5</th><th scope=col>Input.rep6</th><th scope=col>Output.rep1</th><th scope=col>Output.rep2</th><th scope=col>Output.rep3</th><th scope=col>Output.rep4</th></tr>\n",
       "\t<tr><th scope=col>&lt;chr&gt;</th><th scope=col>&lt;dbl&gt;</th><th scope=col>&lt;dbl&gt;</th><th scope=col>&lt;chr&gt;</th><th scope=col>&lt;int&gt;</th><th scope=col>&lt;int&gt;</th><th scope=col>&lt;int&gt;</th><th scope=col>&lt;int&gt;</th><th scope=col>&lt;int&gt;</th><th scope=col>&lt;int&gt;</th><th scope=col>&lt;int&gt;</th><th scope=col>&lt;int&gt;</th><th scope=col>&lt;int&gt;</th><th scope=col>&lt;int&gt;</th></tr>\n",
       "</thead>\n",
       "<tbody>\n",
       "\t<tr><td>chr1</td><td> 10038</td><td> 10405</td><td>chr1:10038-10405  </td><td>145</td><td> 207</td><td> 244</td><td> 229</td><td> 178</td><td> 206</td><td>  5</td><td> 12</td><td>  4</td><td> 10</td></tr>\n",
       "\t<tr><td>chr1</td><td> 14282</td><td> 14614</td><td>chr1:14282-14614  </td><td>106</td><td> 139</td><td> 153</td><td> 137</td><td> 123</td><td> 128</td><td>  8</td><td> 23</td><td> 26</td><td> 41</td></tr>\n",
       "\t<tr><td>chr1</td><td> 16025</td><td> 16338</td><td>chr1:16025-16338  </td><td>124</td><td> 189</td><td> 175</td><td> 170</td><td> 178</td><td> 164</td><td>  8</td><td>  7</td><td> 15</td><td> 18</td></tr>\n",
       "\t<tr><td>chr1</td><td> 17288</td><td> 17689</td><td>chr1:17288-17689  </td><td>259</td><td> 350</td><td> 400</td><td> 367</td><td> 369</td><td> 331</td><td>  7</td><td> 13</td><td> 23</td><td> 59</td></tr>\n",
       "\t<tr><td>chr1</td><td> 28934</td><td> 29499</td><td>chr1:28934-29499  </td><td>258</td><td> 324</td><td> 349</td><td> 324</td><td> 346</td><td> 310</td><td>  8</td><td> 11</td><td>  3</td><td> 26</td></tr>\n",
       "\t<tr><td>chr1</td><td>115429</td><td>115969</td><td>chr1:115429-115969</td><td>950</td><td>1174</td><td>1276</td><td>1151</td><td>1179</td><td>1054</td><td>234</td><td>443</td><td>469</td><td>752</td></tr>\n",
       "</tbody>\n",
       "</table>\n"
      ],
      "text/latex": [
       "A tibble: 6 × 14\n",
       "\\begin{tabular}{llllllllllllll}\n",
       " Chrom & ChromStart & ChromEnd & Region & Input.rep1 & Input.rep2 & Input.rep3 & Input.rep4 & Input.rep5 & Input.rep6 & Output.rep1 & Output.rep2 & Output.rep3 & Output.rep4\\\\\n",
       " <chr> & <dbl> & <dbl> & <chr> & <int> & <int> & <int> & <int> & <int> & <int> & <int> & <int> & <int> & <int>\\\\\n",
       "\\hline\n",
       "\t chr1 &  10038 &  10405 & chr1:10038-10405   & 145 &  207 &  244 &  229 &  178 &  206 &   5 &  12 &   4 &  10\\\\\n",
       "\t chr1 &  14282 &  14614 & chr1:14282-14614   & 106 &  139 &  153 &  137 &  123 &  128 &   8 &  23 &  26 &  41\\\\\n",
       "\t chr1 &  16025 &  16338 & chr1:16025-16338   & 124 &  189 &  175 &  170 &  178 &  164 &   8 &   7 &  15 &  18\\\\\n",
       "\t chr1 &  17288 &  17689 & chr1:17288-17689   & 259 &  350 &  400 &  367 &  369 &  331 &   7 &  13 &  23 &  59\\\\\n",
       "\t chr1 &  28934 &  29499 & chr1:28934-29499   & 258 &  324 &  349 &  324 &  346 &  310 &   8 &  11 &   3 &  26\\\\\n",
       "\t chr1 & 115429 & 115969 & chr1:115429-115969 & 950 & 1174 & 1276 & 1151 & 1179 & 1054 & 234 & 443 & 469 & 752\\\\\n",
       "\\end{tabular}\n"
      ],
      "text/markdown": [
       "\n",
       "A tibble: 6 × 14\n",
       "\n",
       "| Chrom &lt;chr&gt; | ChromStart &lt;dbl&gt; | ChromEnd &lt;dbl&gt; | Region &lt;chr&gt; | Input.rep1 &lt;int&gt; | Input.rep2 &lt;int&gt; | Input.rep3 &lt;int&gt; | Input.rep4 &lt;int&gt; | Input.rep5 &lt;int&gt; | Input.rep6 &lt;int&gt; | Output.rep1 &lt;int&gt; | Output.rep2 &lt;int&gt; | Output.rep3 &lt;int&gt; | Output.rep4 &lt;int&gt; |\n",
       "|---|---|---|---|---|---|---|---|---|---|---|---|---|---|\n",
       "| chr1 |  10038 |  10405 | chr1:10038-10405   | 145 |  207 |  244 |  229 |  178 |  206 |   5 |  12 |   4 |  10 |\n",
       "| chr1 |  14282 |  14614 | chr1:14282-14614   | 106 |  139 |  153 |  137 |  123 |  128 |   8 |  23 |  26 |  41 |\n",
       "| chr1 |  16025 |  16338 | chr1:16025-16338   | 124 |  189 |  175 |  170 |  178 |  164 |   8 |   7 |  15 |  18 |\n",
       "| chr1 |  17288 |  17689 | chr1:17288-17689   | 259 |  350 |  400 |  367 |  369 |  331 |   7 |  13 |  23 |  59 |\n",
       "| chr1 |  28934 |  29499 | chr1:28934-29499   | 258 |  324 |  349 |  324 |  346 |  310 |   8 |  11 |   3 |  26 |\n",
       "| chr1 | 115429 | 115969 | chr1:115429-115969 | 950 | 1174 | 1276 | 1151 | 1179 | 1054 | 234 | 443 | 469 | 752 |\n",
       "\n"
      ],
      "text/plain": [
       "  Chrom ChromStart ChromEnd Region             Input.rep1 Input.rep2 Input.rep3\n",
       "1 chr1   10038      10405   chr1:10038-10405   145         207        244      \n",
       "2 chr1   14282      14614   chr1:14282-14614   106         139        153      \n",
       "3 chr1   16025      16338   chr1:16025-16338   124         189        175      \n",
       "4 chr1   17288      17689   chr1:17288-17689   259         350        400      \n",
       "5 chr1   28934      29499   chr1:28934-29499   258         324        349      \n",
       "6 chr1  115429     115969   chr1:115429-115969 950        1174       1276      \n",
       "  Input.rep4 Input.rep5 Input.rep6 Output.rep1 Output.rep2 Output.rep3\n",
       "1  229        178        206         5          12           4        \n",
       "2  137        123        128         8          23          26        \n",
       "3  170        178        164         8           7          15        \n",
       "4  367        369        331         7          13          23        \n",
       "5  324        346        310         8          11           3        \n",
       "6 1151       1179       1054       234         443         469        \n",
       "  Output.rep4\n",
       "1  10        \n",
       "2  41        \n",
       "3  18        \n",
       "4  59        \n",
       "5  26        \n",
       "6 752        "
      ]
     },
     "metadata": {},
     "output_type": "display_data"
    }
   ],
   "source": [
    "dat_cnt = lst$data_cnt\n",
    "head(dat_cnt)"
   ]
  },
  {
   "cell_type": "code",
   "execution_count": 16,
   "id": "7bda64e1-aaa0-481b-87b9-d1d55d5e6899",
   "metadata": {},
   "outputs": [
    {
     "data": {
      "text/plain": [
       "log2 fold change (MLE): Group Output vs Input \n",
       "Wald test p-value: Group Output vs Input \n",
       "DataFrame with 150040 rows and 6 columns\n",
       "                          baseMean log2FoldChange     lfcSE       stat\n",
       "                         <numeric>      <numeric> <numeric>  <numeric>\n",
       "chr1:10038-10405           66.6723     -2.2348528  0.279067  -8.008305\n",
       "chr1:14282-14614           62.4170      0.0317905  0.164451   0.193314\n",
       "chr1:16025-16338           61.2903     -1.3393407  0.222691  -6.014347\n",
       "chr1:17288-17689          122.6136     -1.3305558  0.163003  -8.162766\n",
       "chr1:28934-29499          104.2677     -2.2809210  0.216204 -10.549835\n",
       "...                            ...            ...       ...        ...\n",
       "chrX:156000431-156003126 1495.2194       0.534917  0.039766   13.45164\n",
       "chrX:156009723-156010194   46.9103      -1.779449  0.284619   -6.25203\n",
       "chrX:156016432-156016780   53.2759      -4.199531  0.549431   -7.64341\n",
       "chrX:156024963-156025554  161.3988      -0.343981  0.113474   -3.03136\n",
       "chrX:156030352-156030709   56.3998      -6.749283  1.009910   -6.68305\n",
       "                              pvalue        padj\n",
       "                           <numeric>   <numeric>\n",
       "chr1:10038-10405         1.16300e-15 8.29903e-15\n",
       "chr1:14282-14614         8.46713e-01 8.81647e-01\n",
       "chr1:16025-16338         1.80613e-09 8.65453e-09\n",
       "chr1:17288-17689         3.27440e-16 2.39863e-15\n",
       "chr1:28934-29499         5.08866e-26 5.35336e-25\n",
       "...                              ...         ...\n",
       "chrX:156000431-156003126 3.01128e-41 4.57621e-40\n",
       "chrX:156009723-156010194 4.05147e-10 2.04756e-09\n",
       "chrX:156016432-156016780 2.11539e-14 1.41194e-13\n",
       "chrX:156024963-156025554 2.43454e-03 5.28328e-03\n",
       "chrX:156030352-156030709 2.34013e-11 1.29667e-10"
      ]
     },
     "metadata": {},
     "output_type": "display_data"
    }
   ],
   "source": [
    "res"
   ]
  },
  {
   "cell_type": "markdown",
   "id": "dfedf6e3-f30b-417a-90cd-3905156a739a",
   "metadata": {},
   "source": [
    "## Execute"
   ]
  },
  {
   "cell_type": "code",
   "execution_count": 8,
   "id": "da346296-0028-405c-9877-0768e77352cf",
   "metadata": {},
   "outputs": [
    {
     "data": {
      "text/html": [
       "<table>\n",
       " <thead>\n",
       "  <tr>\n",
       "   <th style=\"text-align:left;\"> Chrom </th>\n",
       "   <th style=\"text-align:right;\"> ChromStart </th>\n",
       "   <th style=\"text-align:right;\"> ChromEnd </th>\n",
       "   <th style=\"text-align:left;\"> Region </th>\n",
       "   <th style=\"text-align:right;\"> Input_FPKM </th>\n",
       "   <th style=\"text-align:right;\"> Input_TPM </th>\n",
       "   <th style=\"text-align:right;\"> Output_FPKM </th>\n",
       "   <th style=\"text-align:right;\"> Output_TPM </th>\n",
       "  </tr>\n",
       " </thead>\n",
       "<tbody>\n",
       "  <tr>\n",
       "   <td style=\"text-align:left;\"> chr1 </td>\n",
       "   <td style=\"text-align:right;\"> 10038 </td>\n",
       "   <td style=\"text-align:right;\"> 10405 </td>\n",
       "   <td style=\"text-align:left;\"> chr1:10038-10405 </td>\n",
       "   <td style=\"text-align:right;\"> 0.0041644 </td>\n",
       "   <td style=\"text-align:right;\"> 3.940038 </td>\n",
       "   <td style=\"text-align:right;\"> 0.0007357 </td>\n",
       "   <td style=\"text-align:right;\"> 0.7181993 </td>\n",
       "  </tr>\n",
       "  <tr>\n",
       "   <td style=\"text-align:left;\"> chr1 </td>\n",
       "   <td style=\"text-align:right;\"> 14282 </td>\n",
       "   <td style=\"text-align:right;\"> 14614 </td>\n",
       "   <td style=\"text-align:left;\"> chr1:14282-14614 </td>\n",
       "   <td style=\"text-align:right;\"> 0.0030033 </td>\n",
       "   <td style=\"text-align:right;\"> 2.841707 </td>\n",
       "   <td style=\"text-align:right;\"> 0.0022621 </td>\n",
       "   <td style=\"text-align:right;\"> 2.2104314 </td>\n",
       "  </tr>\n",
       "  <tr>\n",
       "   <td style=\"text-align:left;\"> chr1 </td>\n",
       "   <td style=\"text-align:right;\"> 16025 </td>\n",
       "   <td style=\"text-align:right;\"> 16338 </td>\n",
       "   <td style=\"text-align:left;\"> chr1:16025-16338 </td>\n",
       "   <td style=\"text-align:right;\"> 0.0040487 </td>\n",
       "   <td style=\"text-align:right;\"> 3.830812 </td>\n",
       "   <td style=\"text-align:right;\"> 0.0012867 </td>\n",
       "   <td style=\"text-align:right;\"> 1.2597204 </td>\n",
       "  </tr>\n",
       "  <tr>\n",
       "   <td style=\"text-align:left;\"> chr1 </td>\n",
       "   <td style=\"text-align:right;\"> 17288 </td>\n",
       "   <td style=\"text-align:right;\"> 17689 </td>\n",
       "   <td style=\"text-align:left;\"> chr1:17288-17689 </td>\n",
       "   <td style=\"text-align:right;\"> 0.0065512 </td>\n",
       "   <td style=\"text-align:right;\"> 6.198372 </td>\n",
       "   <td style=\"text-align:right;\"> 0.0017373 </td>\n",
       "   <td style=\"text-align:right;\"> 1.7059186 </td>\n",
       "  </tr>\n",
       "  <tr>\n",
       "   <td style=\"text-align:left;\"> chr1 </td>\n",
       "   <td style=\"text-align:right;\"> 28934 </td>\n",
       "   <td style=\"text-align:right;\"> 29499 </td>\n",
       "   <td style=\"text-align:left;\"> chr1:28934-29499 </td>\n",
       "   <td style=\"text-align:right;\"> 0.0042953 </td>\n",
       "   <td style=\"text-align:right;\"> 4.064322 </td>\n",
       "   <td style=\"text-align:right;\"> 0.0006562 </td>\n",
       "   <td style=\"text-align:right;\"> 0.6447721 </td>\n",
       "  </tr>\n",
       "  <tr>\n",
       "   <td style=\"text-align:left;\"> chr1 </td>\n",
       "   <td style=\"text-align:right;\"> 115429 </td>\n",
       "   <td style=\"text-align:right;\"> 115969 </td>\n",
       "   <td style=\"text-align:left;\"> chr1:115429-115969 </td>\n",
       "   <td style=\"text-align:right;\"> 0.0159548 </td>\n",
       "   <td style=\"text-align:right;\"> 15.096518 </td>\n",
       "   <td style=\"text-align:right;\"> 0.0282829 </td>\n",
       "   <td style=\"text-align:right;\"> 27.6549997 </td>\n",
       "  </tr>\n",
       "</tbody>\n",
       "</table>"
      ]
     },
     "metadata": {},
     "output_type": "display_data"
    },
    {
     "name": "stdout",
     "output_type": "stream",
     "text": [
      "Assay         STARR_ATAC_K562_Reddy_KS91 \n",
      "Region Folder fcc_astarr_macs \n",
      "Region Label  astarr_macs_input_overlap \n"
     ]
    },
    {
     "data": {
      "text/html": [
       "<table>\n",
       " <thead>\n",
       "  <tr>\n",
       "   <th style=\"text-align:left;\"> Chrom </th>\n",
       "   <th style=\"text-align:right;\"> ChromStart </th>\n",
       "   <th style=\"text-align:right;\"> ChromEnd </th>\n",
       "   <th style=\"text-align:left;\"> Region </th>\n",
       "   <th style=\"text-align:right;\"> Input_FPKM </th>\n",
       "   <th style=\"text-align:right;\"> Input_TPM </th>\n",
       "   <th style=\"text-align:right;\"> Output_FPKM </th>\n",
       "   <th style=\"text-align:right;\"> Output_TPM </th>\n",
       "  </tr>\n",
       " </thead>\n",
       "<tbody>\n",
       "  <tr>\n",
       "   <td style=\"text-align:left;\"> chr1 </td>\n",
       "   <td style=\"text-align:right;\"> 10015 </td>\n",
       "   <td style=\"text-align:right;\"> 10442 </td>\n",
       "   <td style=\"text-align:left;\"> chr1:10015-10442 </td>\n",
       "   <td style=\"text-align:right;\"> 0.0030830 </td>\n",
       "   <td style=\"text-align:right;\"> 3.160573 </td>\n",
       "   <td style=\"text-align:right;\"> 0.0006187 </td>\n",
       "   <td style=\"text-align:right;\"> 0.6571619 </td>\n",
       "  </tr>\n",
       "  <tr>\n",
       "   <td style=\"text-align:left;\"> chr1 </td>\n",
       "   <td style=\"text-align:right;\"> 14253 </td>\n",
       "   <td style=\"text-align:right;\"> 14645 </td>\n",
       "   <td style=\"text-align:left;\"> chr1:14253-14645 </td>\n",
       "   <td style=\"text-align:right;\"> 0.0021763 </td>\n",
       "   <td style=\"text-align:right;\"> 2.231167 </td>\n",
       "   <td style=\"text-align:right;\"> 0.0019510 </td>\n",
       "   <td style=\"text-align:right;\"> 2.0734986 </td>\n",
       "  </tr>\n",
       "  <tr>\n",
       "   <td style=\"text-align:left;\"> chr1 </td>\n",
       "   <td style=\"text-align:right;\"> 16015 </td>\n",
       "   <td style=\"text-align:right;\"> 16477 </td>\n",
       "   <td style=\"text-align:left;\"> chr1:16015-16477 </td>\n",
       "   <td style=\"text-align:right;\"> 0.0025549 </td>\n",
       "   <td style=\"text-align:right;\"> 2.619283 </td>\n",
       "   <td style=\"text-align:right;\"> 0.0009085 </td>\n",
       "   <td style=\"text-align:right;\"> 0.9661250 </td>\n",
       "  </tr>\n",
       "  <tr>\n",
       "   <td style=\"text-align:left;\"> chr1 </td>\n",
       "   <td style=\"text-align:right;\"> 17237 </td>\n",
       "   <td style=\"text-align:right;\"> 17772 </td>\n",
       "   <td style=\"text-align:left;\"> chr1:17237-17772 </td>\n",
       "   <td style=\"text-align:right;\"> 0.0040513 </td>\n",
       "   <td style=\"text-align:right;\"> 4.153273 </td>\n",
       "   <td style=\"text-align:right;\"> 0.0011264 </td>\n",
       "   <td style=\"text-align:right;\"> 1.2014016 </td>\n",
       "  </tr>\n",
       "  <tr>\n",
       "   <td style=\"text-align:left;\"> chr1 </td>\n",
       "   <td style=\"text-align:right;\"> 28903 </td>\n",
       "   <td style=\"text-align:right;\"> 29613 </td>\n",
       "   <td style=\"text-align:left;\"> chr1:28903-29613 </td>\n",
       "   <td style=\"text-align:right;\"> 0.0029078 </td>\n",
       "   <td style=\"text-align:right;\"> 2.981219 </td>\n",
       "   <td style=\"text-align:right;\"> 0.0006405 </td>\n",
       "   <td style=\"text-align:right;\"> 0.6827709 </td>\n",
       "  </tr>\n",
       "  <tr>\n",
       "   <td style=\"text-align:left;\"> chr1 </td>\n",
       "   <td style=\"text-align:right;\"> 30803 </td>\n",
       "   <td style=\"text-align:right;\"> 31072 </td>\n",
       "   <td style=\"text-align:left;\"> chr1:30803-31072 </td>\n",
       "   <td style=\"text-align:right;\"> 0.0027935 </td>\n",
       "   <td style=\"text-align:right;\"> 2.863264 </td>\n",
       "   <td style=\"text-align:right;\"> 0.0021818 </td>\n",
       "   <td style=\"text-align:right;\"> 2.3197849 </td>\n",
       "  </tr>\n",
       "</tbody>\n",
       "</table>"
      ]
     },
     "metadata": {},
     "output_type": "display_data"
    },
    {
     "name": "stdout",
     "output_type": "stream",
     "text": [
      "Assay         STARR_ATAC_K562_Reddy_KS91 \n",
      "Region Folder fcc_astarr_macs \n",
      "Region Label  astarr_macs_input_union \n"
     ]
    }
   ],
   "source": [
    "###\n",
    "vec_txt_assay_name = c(\"STARR_ATAC_K562_Reddy_KS91\")\n",
    "vec_txt_region_label = c(\"astarr_macs_input_overlap\", \"astarr_macs_input_union\")\n",
    "\n",
    "txt_region_folder = \"fcc_astarr_macs\"\n",
    "\n",
    "###\n",
    "for (txt_assay_name in vec_txt_assay_name){\n",
    "    for (txt_region_label in vec_txt_region_label){\n",
    "        ### ========================================\n",
    "        ### write tables\n",
    "        ### ----------------------------------------\n",
    "        \n",
    "        ### show progress\n",
    "        cat(\"Assay        \", txt_assay_name,    \"\\n\")\n",
    "        cat(\"Region Folder\", txt_region_folder, \"\\n\")\n",
    "        cat(\"Region Label \", txt_region_label,  \"\\n\")\n",
    "        flush.console()\n",
    "        \n",
    "        ###\n",
    "        txt_fdiry = file.path(\n",
    "            FD_RES, \n",
    "            \"assay_fcc\", \n",
    "            txt_assay_name, \n",
    "            \"coverage\", \n",
    "            txt_region_folder, \n",
    "            txt_region_label,\n",
    "            \"overlap_count\",\n",
    "            \"summary\")\n",
    "        txt_fname = \"data_list_count_column.rds\"\n",
    "        txt_fpath = file.path(txt_fdiry, txt_fname)\n",
    "    \n",
    "        ###\n",
    "        lst = readRDS(txt_fpath)\n",
    "        dat_cnt = lst$data_cnt\n",
    "        dat_col = lst$data_col\n",
    "\n",
    "        ### ========================================\n",
    "        ### write tables\n",
    "        ### ----------------------------------------\n",
    "        ###\n",
    "        dat = dat_cnt\n",
    "        dat = dat %>% dplyr::mutate(Length = ChromEnd - ChromStart)\n",
    "        mat = dat %>% \n",
    "           dplyr::select(\n",
    "               Region, \n",
    "               starts_with(\"Input\"), \n",
    "               starts_with(\"Output\")) %>% \n",
    "           column_to_rownames(var = \"Region\")\n",
    "        \n",
    "        ###\n",
    "        mat_tpm  = get_tpm(mat, dat$Length)\n",
    "        mat_fpkm = get_fpkm(mat, dat$Length)\n",
    "        \n",
    "        ### convert to tidy data\n",
    "        lst = list(\n",
    "            \"TPM\"  = mat_tpm,\n",
    "            \"FPKM\" = mat_fpkm\n",
    "        )\n",
    "        lst = lapply(lst, function(mat){\n",
    "            dat = mat %>% \n",
    "                as.data.frame %>% \n",
    "                rownames_to_column(var = \"Region\") %>% \n",
    "                tidyr::gather(Sample, Value, -Region)\n",
    "            return(dat)\n",
    "        })\n",
    "\n",
    "        ### ========================================\n",
    "        ### write tables\n",
    "        ### ----------------------------------------\n",
    "        \n",
    "        ###\n",
    "        tmp = dat_col %>% dplyr::select(Sample, Group)\n",
    "        dat = bind_rows(lst, .id = \"Method\")\n",
    "        dat = dplyr::left_join(dat, tmp, by=\"Sample\")\n",
    "        dat = dat %>%\n",
    "            dplyr::group_by(Region, Method, Group) %>%\n",
    "            dplyr::summarize(Mean = mean(Value), .groups = \"drop\") %>%\n",
    "            dplyr::mutate(Name = paste(Group, Method, sep = \"_\")) %>%\n",
    "            dplyr::select(Region, Name, Mean) %>%\n",
    "            tidyr::spread(Name, Mean)\n",
    "        \n",
    "        ###\n",
    "        tmp = dat_cnt %>% dplyr::select(Chrom, ChromStart, ChromEnd, Region)\n",
    "        dat = dplyr::left_join(tmp, dat, by=\"Region\")\n",
    "        \n",
    "        ### assign and show\n",
    "        dat_score_mean = dat\n",
    "        fun_display_table(head(dat))\n",
    "        flush.console()\n",
    "        \n",
    "        ### ========================================\n",
    "        ### write tables\n",
    "        ### ----------------------------------------\n",
    "        txt_fdiry = file.path(\n",
    "            FD_RES, \n",
    "            \"assay_fcc\", \n",
    "            txt_assay_name, \n",
    "            \"coverage\", \n",
    "            txt_region_folder, \n",
    "            txt_region_label,\n",
    "            \"overlap_count\",\n",
    "            \"summary\")\n",
    "        txt_fname = \"result.coverage.TPM.FPKM.tsv\"\n",
    "        txt_fpath = file.path(txt_fdiry, txt_fname)\n",
    "        \n",
    "        dat = dat_score_mean\n",
    "        write_tsv(dat, txt_fpath)\n",
    "    }\n",
    "}\n"
   ]
  },
  {
   "cell_type": "code",
   "execution_count": null,
   "id": "11fb5204-542b-420a-8227-55d08c5f9fd3",
   "metadata": {},
   "outputs": [],
   "source": []
  },
  {
   "cell_type": "code",
   "execution_count": null,
   "id": "95c5d5a3-8bfa-4628-91ff-062158f37428",
   "metadata": {},
   "outputs": [],
   "source": []
  },
  {
   "cell_type": "code",
   "execution_count": null,
   "id": "dc69ee5e-c541-4f51-b003-cf478527f7fa",
   "metadata": {},
   "outputs": [],
   "source": []
  },
  {
   "cell_type": "code",
   "execution_count": null,
   "id": "ac1f8532-62e2-48df-b765-643aa8c28aed",
   "metadata": {},
   "outputs": [],
   "source": []
  },
  {
   "cell_type": "code",
   "execution_count": 5,
   "id": "1be3fce4-29c1-4021-a99e-3130d59b69dd",
   "metadata": {},
   "outputs": [
    {
     "data": {
      "text/html": [
       "<style>\n",
       ".list-inline {list-style: none; margin:0; padding: 0}\n",
       ".list-inline>li {display: inline-block}\n",
       ".list-inline>li:not(:last-child)::after {content: \"\\00b7\"; padding: 0 .5ex}\n",
       "</style>\n",
       "<ol class=list-inline><li>'data_cnt'</li><li>'data_col'</li></ol>\n"
      ],
      "text/latex": [
       "\\begin{enumerate*}\n",
       "\\item 'data\\_cnt'\n",
       "\\item 'data\\_col'\n",
       "\\end{enumerate*}\n"
      ],
      "text/markdown": [
       "1. 'data_cnt'\n",
       "2. 'data_col'\n",
       "\n",
       "\n"
      ],
      "text/plain": [
       "[1] \"data_cnt\" \"data_col\""
      ]
     },
     "metadata": {},
     "output_type": "display_data"
    }
   ],
   "source": [
    "txt_assay = \"STARR_ATAC_K562_Reddy_KS91\"\n",
    "txt_fdiry = file.path(\n",
    "    FD_RES, \n",
    "    \"assay_fcc\", \n",
    "    txt_assay, \n",
    "    \"coverage\", \n",
    "    \"fcc_astarr_macs\", \n",
    "    \"astarr_macs_input_overlap\",\n",
    "    \"overlap_count\",\n",
    "    \"summary\")\n",
    "\n",
    "txt_fname = \"data_list_count_column.rds\"\n",
    "txt_fpath = file.path(txt_fdiry, txt_fname)\n",
    "\n",
    "lst = readRDS(txt_fpath)\n",
    "lst_ocr_overlap = lst\n",
    "names(lst)"
   ]
  },
  {
   "cell_type": "code",
   "execution_count": 6,
   "id": "121b5f98-0e53-482b-82d3-9b22ce9b68b7",
   "metadata": {},
   "outputs": [
    {
     "data": {
      "text/html": [
       "<style>\n",
       ".list-inline {list-style: none; margin:0; padding: 0}\n",
       ".list-inline>li {display: inline-block}\n",
       ".list-inline>li:not(:last-child)::after {content: \"\\00b7\"; padding: 0 .5ex}\n",
       "</style>\n",
       "<ol class=list-inline><li>'data_cnt'</li><li>'data_col'</li></ol>\n"
      ],
      "text/latex": [
       "\\begin{enumerate*}\n",
       "\\item 'data\\_cnt'\n",
       "\\item 'data\\_col'\n",
       "\\end{enumerate*}\n"
      ],
      "text/markdown": [
       "1. 'data_cnt'\n",
       "2. 'data_col'\n",
       "\n",
       "\n"
      ],
      "text/plain": [
       "[1] \"data_cnt\" \"data_col\""
      ]
     },
     "metadata": {},
     "output_type": "display_data"
    }
   ],
   "source": [
    "txt_assay = \"STARR_ATAC_K562_Reddy_KS91\"\n",
    "txt_fdiry = file.path(\n",
    "    FD_RES, \n",
    "    \"assay_fcc\", \n",
    "    txt_assay, \n",
    "    \"coverage\", \n",
    "    \"fcc_astarr_macs\", \n",
    "    \"astarr_macs_input_union\",\n",
    "    \"overlap_count\",\n",
    "    \"summary\")\n",
    "\n",
    "txt_fname = \"data_list_count_column.rds\"\n",
    "txt_fpath = file.path(txt_fdiry, txt_fname)\n",
    "\n",
    "lst = readRDS(txt_fpath)\n",
    "lst_ocr_union = lst\n",
    "names(lst)"
   ]
  },
  {
   "cell_type": "code",
   "execution_count": 10,
   "id": "25260706-0d49-4e59-8edb-004723850316",
   "metadata": {},
   "outputs": [],
   "source": [
    "dat_cnt = lst$data_cnt\n",
    "dat_col = lst$data_col"
   ]
  },
  {
   "cell_type": "code",
   "execution_count": 11,
   "id": "03703110-00a8-47c3-b1f6-6f3cbf550985",
   "metadata": {},
   "outputs": [
    {
     "data": {
      "text/html": [
       "<table class=\"dataframe\">\n",
       "<caption>A tibble: 6 × 14</caption>\n",
       "<thead>\n",
       "\t<tr><th scope=col>Chrom</th><th scope=col>ChromStart</th><th scope=col>ChromEnd</th><th scope=col>Region</th><th scope=col>Input.rep1</th><th scope=col>Input.rep2</th><th scope=col>Input.rep3</th><th scope=col>Input.rep4</th><th scope=col>Input.rep5</th><th scope=col>Input.rep6</th><th scope=col>Output.rep1</th><th scope=col>Output.rep2</th><th scope=col>Output.rep3</th><th scope=col>Output.rep4</th></tr>\n",
       "\t<tr><th scope=col>&lt;chr&gt;</th><th scope=col>&lt;dbl&gt;</th><th scope=col>&lt;dbl&gt;</th><th scope=col>&lt;chr&gt;</th><th scope=col>&lt;int&gt;</th><th scope=col>&lt;int&gt;</th><th scope=col>&lt;int&gt;</th><th scope=col>&lt;int&gt;</th><th scope=col>&lt;int&gt;</th><th scope=col>&lt;int&gt;</th><th scope=col>&lt;int&gt;</th><th scope=col>&lt;int&gt;</th><th scope=col>&lt;int&gt;</th><th scope=col>&lt;int&gt;</th></tr>\n",
       "</thead>\n",
       "<tbody>\n",
       "\t<tr><td>chr1</td><td> 10038</td><td> 10405</td><td>chr1:10038-10405  </td><td>145</td><td> 207</td><td> 244</td><td> 229</td><td> 178</td><td> 206</td><td>  5</td><td> 12</td><td>  4</td><td> 10</td></tr>\n",
       "\t<tr><td>chr1</td><td> 14282</td><td> 14614</td><td>chr1:14282-14614  </td><td>106</td><td> 139</td><td> 153</td><td> 137</td><td> 123</td><td> 128</td><td>  8</td><td> 23</td><td> 26</td><td> 41</td></tr>\n",
       "\t<tr><td>chr1</td><td> 16025</td><td> 16338</td><td>chr1:16025-16338  </td><td>124</td><td> 189</td><td> 175</td><td> 170</td><td> 178</td><td> 164</td><td>  8</td><td>  7</td><td> 15</td><td> 18</td></tr>\n",
       "\t<tr><td>chr1</td><td> 17288</td><td> 17689</td><td>chr1:17288-17689  </td><td>259</td><td> 350</td><td> 400</td><td> 367</td><td> 369</td><td> 331</td><td>  7</td><td> 13</td><td> 23</td><td> 59</td></tr>\n",
       "\t<tr><td>chr1</td><td> 28934</td><td> 29499</td><td>chr1:28934-29499  </td><td>258</td><td> 324</td><td> 349</td><td> 324</td><td> 346</td><td> 310</td><td>  8</td><td> 11</td><td>  3</td><td> 26</td></tr>\n",
       "\t<tr><td>chr1</td><td>115429</td><td>115969</td><td>chr1:115429-115969</td><td>950</td><td>1174</td><td>1276</td><td>1151</td><td>1179</td><td>1054</td><td>234</td><td>443</td><td>469</td><td>752</td></tr>\n",
       "</tbody>\n",
       "</table>\n"
      ],
      "text/latex": [
       "A tibble: 6 × 14\n",
       "\\begin{tabular}{llllllllllllll}\n",
       " Chrom & ChromStart & ChromEnd & Region & Input.rep1 & Input.rep2 & Input.rep3 & Input.rep4 & Input.rep5 & Input.rep6 & Output.rep1 & Output.rep2 & Output.rep3 & Output.rep4\\\\\n",
       " <chr> & <dbl> & <dbl> & <chr> & <int> & <int> & <int> & <int> & <int> & <int> & <int> & <int> & <int> & <int>\\\\\n",
       "\\hline\n",
       "\t chr1 &  10038 &  10405 & chr1:10038-10405   & 145 &  207 &  244 &  229 &  178 &  206 &   5 &  12 &   4 &  10\\\\\n",
       "\t chr1 &  14282 &  14614 & chr1:14282-14614   & 106 &  139 &  153 &  137 &  123 &  128 &   8 &  23 &  26 &  41\\\\\n",
       "\t chr1 &  16025 &  16338 & chr1:16025-16338   & 124 &  189 &  175 &  170 &  178 &  164 &   8 &   7 &  15 &  18\\\\\n",
       "\t chr1 &  17288 &  17689 & chr1:17288-17689   & 259 &  350 &  400 &  367 &  369 &  331 &   7 &  13 &  23 &  59\\\\\n",
       "\t chr1 &  28934 &  29499 & chr1:28934-29499   & 258 &  324 &  349 &  324 &  346 &  310 &   8 &  11 &   3 &  26\\\\\n",
       "\t chr1 & 115429 & 115969 & chr1:115429-115969 & 950 & 1174 & 1276 & 1151 & 1179 & 1054 & 234 & 443 & 469 & 752\\\\\n",
       "\\end{tabular}\n"
      ],
      "text/markdown": [
       "\n",
       "A tibble: 6 × 14\n",
       "\n",
       "| Chrom &lt;chr&gt; | ChromStart &lt;dbl&gt; | ChromEnd &lt;dbl&gt; | Region &lt;chr&gt; | Input.rep1 &lt;int&gt; | Input.rep2 &lt;int&gt; | Input.rep3 &lt;int&gt; | Input.rep4 &lt;int&gt; | Input.rep5 &lt;int&gt; | Input.rep6 &lt;int&gt; | Output.rep1 &lt;int&gt; | Output.rep2 &lt;int&gt; | Output.rep3 &lt;int&gt; | Output.rep4 &lt;int&gt; |\n",
       "|---|---|---|---|---|---|---|---|---|---|---|---|---|---|\n",
       "| chr1 |  10038 |  10405 | chr1:10038-10405   | 145 |  207 |  244 |  229 |  178 |  206 |   5 |  12 |   4 |  10 |\n",
       "| chr1 |  14282 |  14614 | chr1:14282-14614   | 106 |  139 |  153 |  137 |  123 |  128 |   8 |  23 |  26 |  41 |\n",
       "| chr1 |  16025 |  16338 | chr1:16025-16338   | 124 |  189 |  175 |  170 |  178 |  164 |   8 |   7 |  15 |  18 |\n",
       "| chr1 |  17288 |  17689 | chr1:17288-17689   | 259 |  350 |  400 |  367 |  369 |  331 |   7 |  13 |  23 |  59 |\n",
       "| chr1 |  28934 |  29499 | chr1:28934-29499   | 258 |  324 |  349 |  324 |  346 |  310 |   8 |  11 |   3 |  26 |\n",
       "| chr1 | 115429 | 115969 | chr1:115429-115969 | 950 | 1174 | 1276 | 1151 | 1179 | 1054 | 234 | 443 | 469 | 752 |\n",
       "\n"
      ],
      "text/plain": [
       "  Chrom ChromStart ChromEnd Region             Input.rep1 Input.rep2 Input.rep3\n",
       "1 chr1   10038      10405   chr1:10038-10405   145         207        244      \n",
       "2 chr1   14282      14614   chr1:14282-14614   106         139        153      \n",
       "3 chr1   16025      16338   chr1:16025-16338   124         189        175      \n",
       "4 chr1   17288      17689   chr1:17288-17689   259         350        400      \n",
       "5 chr1   28934      29499   chr1:28934-29499   258         324        349      \n",
       "6 chr1  115429     115969   chr1:115429-115969 950        1174       1276      \n",
       "  Input.rep4 Input.rep5 Input.rep6 Output.rep1 Output.rep2 Output.rep3\n",
       "1  229        178        206         5          12           4        \n",
       "2  137        123        128         8          23          26        \n",
       "3  170        178        164         8           7          15        \n",
       "4  367        369        331         7          13          23        \n",
       "5  324        346        310         8          11           3        \n",
       "6 1151       1179       1054       234         443         469        \n",
       "  Output.rep4\n",
       "1  10        \n",
       "2  41        \n",
       "3  18        \n",
       "4  59        \n",
       "5  26        \n",
       "6 752        "
      ]
     },
     "metadata": {},
     "output_type": "display_data"
    }
   ],
   "source": [
    "head(dat_cnt)"
   ]
  },
  {
   "cell_type": "code",
   "execution_count": 13,
   "id": "5b68a5da-babd-4c9c-b730-1495e4bdaa9f",
   "metadata": {},
   "outputs": [
    {
     "data": {
      "text/html": [
       "0.664850136239782"
      ],
      "text/latex": [
       "0.664850136239782"
      ],
      "text/markdown": [
       "0.664850136239782"
      ],
      "text/plain": [
       "[1] 0.6648501"
      ]
     },
     "metadata": {},
     "output_type": "display_data"
    }
   ],
   "source": [
    "244\t/ 367"
   ]
  },
  {
   "cell_type": "code",
   "execution_count": 58,
   "id": "73f87638-5cf0-40b4-b6b3-b51fdd4207dd",
   "metadata": {},
   "outputs": [],
   "source": [
    "get_fpkm = function(mat, vec_num_length){\n",
    "    ### normlaized by size\n",
    "    fun = function(x){x * 10^6 / sum(x)}\n",
    "    mat = apply(mat, 2, fun)\n",
    "    \n",
    "    ### normlaized by length\n",
    "    vec = vec_num_length\n",
    "    fun = function(x){x/vec}\n",
    "    mat = apply(mat, 2, fun)\n",
    "\n",
    "    return(mat)\n",
    "}\n",
    "\n",
    "get_tpm  = function(mat, vec_num_length){\n",
    "    ### normlaized by length\n",
    "    vec = vec_num_length\n",
    "    fun = function(x){x/vec}\n",
    "    mat = apply(mat, 2, fun)\n",
    "    \n",
    "    ### normlaized by size\n",
    "    fun = function(x){x * 10^6 / sum(x)}\n",
    "    mat = apply(mat, 2, fun)\n",
    "    \n",
    "    return(mat)\n",
    "}\n",
    "\n"
   ]
  },
  {
   "cell_type": "code",
   "execution_count": 60,
   "id": "b9f67311-0d4b-473f-b432-c4cd5853cccb",
   "metadata": {},
   "outputs": [
    {
     "name": "stdout",
     "output_type": "stream",
     "text": [
      "[1] 150041      8\n"
     ]
    },
    {
     "data": {
      "text/html": [
       "<table class=\"dataframe\">\n",
       "<caption>A tibble: 6 × 8</caption>\n",
       "<thead>\n",
       "\t<tr><th scope=col>Chrom</th><th scope=col>ChromStart</th><th scope=col>ChromEnd</th><th scope=col>Region</th><th scope=col>Input_FPKM</th><th scope=col>Input_TPM</th><th scope=col>Output_FPKM</th><th scope=col>Output_TPM</th></tr>\n",
       "\t<tr><th scope=col>&lt;chr&gt;</th><th scope=col>&lt;dbl&gt;</th><th scope=col>&lt;dbl&gt;</th><th scope=col>&lt;chr&gt;</th><th scope=col>&lt;dbl&gt;</th><th scope=col>&lt;dbl&gt;</th><th scope=col>&lt;dbl&gt;</th><th scope=col>&lt;dbl&gt;</th></tr>\n",
       "</thead>\n",
       "<tbody>\n",
       "\t<tr><td>chr1</td><td> 10038</td><td> 10405</td><td>chr1:10038-10405  </td><td>0.004164383</td><td> 3.940038</td><td>0.0006671239</td><td> 0.6488611</td></tr>\n",
       "\t<tr><td>chr1</td><td> 14282</td><td> 14614</td><td>chr1:14282-14614  </td><td>0.003003325</td><td> 2.841707</td><td>0.0020670469</td><td> 2.0120603</td></tr>\n",
       "\t<tr><td>chr1</td><td> 16025</td><td> 16338</td><td>chr1:16025-16338  </td><td>0.004048701</td><td> 3.830812</td><td>0.0012104446</td><td> 1.1818766</td></tr>\n",
       "\t<tr><td>chr1</td><td> 17288</td><td> 17689</td><td>chr1:17288-17689  </td><td>0.006551198</td><td> 6.198372</td><td>0.0015784974</td><td> 1.5431749</td></tr>\n",
       "\t<tr><td>chr1</td><td> 28934</td><td> 29499</td><td>chr1:28934-29499  </td><td>0.004295316</td><td> 4.064322</td><td>0.0005928433</td><td> 0.5801715</td></tr>\n",
       "\t<tr><td>chr1</td><td>115429</td><td>115969</td><td>chr1:115429-115969</td><td>0.015954822</td><td>15.096518</td><td>0.0260260669</td><td>25.3605429</td></tr>\n",
       "</tbody>\n",
       "</table>\n"
      ],
      "text/latex": [
       "A tibble: 6 × 8\n",
       "\\begin{tabular}{llllllll}\n",
       " Chrom & ChromStart & ChromEnd & Region & Input\\_FPKM & Input\\_TPM & Output\\_FPKM & Output\\_TPM\\\\\n",
       " <chr> & <dbl> & <dbl> & <chr> & <dbl> & <dbl> & <dbl> & <dbl>\\\\\n",
       "\\hline\n",
       "\t chr1 &  10038 &  10405 & chr1:10038-10405   & 0.004164383 &  3.940038 & 0.0006671239 &  0.6488611\\\\\n",
       "\t chr1 &  14282 &  14614 & chr1:14282-14614   & 0.003003325 &  2.841707 & 0.0020670469 &  2.0120603\\\\\n",
       "\t chr1 &  16025 &  16338 & chr1:16025-16338   & 0.004048701 &  3.830812 & 0.0012104446 &  1.1818766\\\\\n",
       "\t chr1 &  17288 &  17689 & chr1:17288-17689   & 0.006551198 &  6.198372 & 0.0015784974 &  1.5431749\\\\\n",
       "\t chr1 &  28934 &  29499 & chr1:28934-29499   & 0.004295316 &  4.064322 & 0.0005928433 &  0.5801715\\\\\n",
       "\t chr1 & 115429 & 115969 & chr1:115429-115969 & 0.015954822 & 15.096518 & 0.0260260669 & 25.3605429\\\\\n",
       "\\end{tabular}\n"
      ],
      "text/markdown": [
       "\n",
       "A tibble: 6 × 8\n",
       "\n",
       "| Chrom &lt;chr&gt; | ChromStart &lt;dbl&gt; | ChromEnd &lt;dbl&gt; | Region &lt;chr&gt; | Input_FPKM &lt;dbl&gt; | Input_TPM &lt;dbl&gt; | Output_FPKM &lt;dbl&gt; | Output_TPM &lt;dbl&gt; |\n",
       "|---|---|---|---|---|---|---|---|\n",
       "| chr1 |  10038 |  10405 | chr1:10038-10405   | 0.004164383 |  3.940038 | 0.0006671239 |  0.6488611 |\n",
       "| chr1 |  14282 |  14614 | chr1:14282-14614   | 0.003003325 |  2.841707 | 0.0020670469 |  2.0120603 |\n",
       "| chr1 |  16025 |  16338 | chr1:16025-16338   | 0.004048701 |  3.830812 | 0.0012104446 |  1.1818766 |\n",
       "| chr1 |  17288 |  17689 | chr1:17288-17689   | 0.006551198 |  6.198372 | 0.0015784974 |  1.5431749 |\n",
       "| chr1 |  28934 |  29499 | chr1:28934-29499   | 0.004295316 |  4.064322 | 0.0005928433 |  0.5801715 |\n",
       "| chr1 | 115429 | 115969 | chr1:115429-115969 | 0.015954822 | 15.096518 | 0.0260260669 | 25.3605429 |\n",
       "\n"
      ],
      "text/plain": [
       "  Chrom ChromStart ChromEnd Region             Input_FPKM  Input_TPM\n",
       "1 chr1   10038      10405   chr1:10038-10405   0.004164383  3.940038\n",
       "2 chr1   14282      14614   chr1:14282-14614   0.003003325  2.841707\n",
       "3 chr1   16025      16338   chr1:16025-16338   0.004048701  3.830812\n",
       "4 chr1   17288      17689   chr1:17288-17689   0.006551198  6.198372\n",
       "5 chr1   28934      29499   chr1:28934-29499   0.004295316  4.064322\n",
       "6 chr1  115429     115969   chr1:115429-115969 0.015954822 15.096518\n",
       "  Output_FPKM  Output_TPM\n",
       "1 0.0006671239  0.6488611\n",
       "2 0.0020670469  2.0120603\n",
       "3 0.0012104446  1.1818766\n",
       "4 0.0015784974  1.5431749\n",
       "5 0.0005928433  0.5801715\n",
       "6 0.0260260669 25.3605429"
      ]
     },
     "metadata": {},
     "output_type": "display_data"
    }
   ],
   "source": [
    "###\n",
    "dat = dat_cnt\n",
    "dat = dat %>% dplyr::mutate(Length = ChromEnd - ChromStart)\n",
    "mat = dat %>% \n",
    "   dplyr::select(\n",
    "       Region, \n",
    "       starts_with(\"Input\"), \n",
    "       starts_with(\"Output\")) %>% \n",
    "   column_to_rownames(var = \"Region\")\n",
    "\n",
    "###\n",
    "mat_tpm  = get_tpm(mat, dat$Length)\n",
    "mat_fpkm = get_fpkm(mat, dat$Length)\n",
    "\n",
    "###\n",
    "lst = list(\n",
    "    \"TPM\"  = mat_tpm,\n",
    "    \"FPKM\" = mat_fpkm\n",
    ")\n",
    "\n",
    "lst = lapply(lst, function(mat){\n",
    "    dat = mat %>% \n",
    "        as.data.frame %>% \n",
    "        rownames_to_column(var = \"Region\") %>% \n",
    "        tidyr::gather(Sample, Value, -Region)\n",
    "    return(dat)\n",
    "})\n",
    "\n",
    "###\n",
    "tmp = dat_col %>% dplyr::select(Sample, Group)\n",
    "dat = bind_rows(lst, .id = \"Method\")\n",
    "dat = dplyr::left_join(dat, tmp, by=\"Sample\")\n",
    "dat = dat %>%\n",
    "    dplyr::group_by(Region, Method, Group) %>%\n",
    "    dplyr::summarize(Mean = mean(Value), .groups = \"drop\") %>%\n",
    "    dplyr::mutate(Name = paste(Group, Method, sep = \"_\")) %>%\n",
    "    dplyr::select(Region, Name, Mean) %>%\n",
    "    tidyr::spread(Name, Mean)\n",
    "\n",
    "###\n",
    "tmp = dat_cnt %>% dplyr::select(Chrom, ChromStart, ChromEnd, Region)\n",
    "dat = dplyr::left_join(tmp, dat, by=\"Region\")\n",
    "\n",
    "### assign and show\n",
    "dat_score_mean = dat\n",
    "print(dim(dat))\n",
    "head(dat)"
   ]
  },
  {
   "cell_type": "code",
   "execution_count": 61,
   "id": "2aa8d55d-e74c-4830-bf2e-e8268ba47bdc",
   "metadata": {},
   "outputs": [],
   "source": [
    "txt_assay = \"STARR_ATAC_K562_Reddy_KS91\"\n",
    "txt_fdiry = file.path(\n",
    "    FD_RES, \n",
    "    \"assay_fcc\", \n",
    "    txt_assay, \n",
    "    \"coverage\", \n",
    "    \"fcc_astarr_macs\", \n",
    "    \"astarr_macs_input_overlap\",\n",
    "    \"summary\")\n",
    "\n",
    "txt_fname = \"result.score.mean.tsv\"\n",
    "txt_fpath = file.path(txt_fdiry, txt_fname)\n",
    "\n",
    "dat = dat_score_mean\n",
    "write_tsv(dat, txt_fpath)"
   ]
  },
  {
   "cell_type": "code",
   "execution_count": null,
   "id": "2768d498-26b0-494b-a412-fbf6bdb65dfb",
   "metadata": {},
   "outputs": [],
   "source": []
  },
  {
   "cell_type": "code",
   "execution_count": null,
   "id": "ea6154fb-71d7-49e0-86eb-e06c0131168e",
   "metadata": {},
   "outputs": [],
   "source": []
  }
 ],
 "metadata": {
  "kernelspec": {
   "display_name": "R",
   "language": "R",
   "name": "ir"
  },
  "language_info": {
   "codemirror_mode": "r",
   "file_extension": ".r",
   "mimetype": "text/x-r-source",
   "name": "R",
   "pygments_lexer": "r",
   "version": "4.4.1"
  }
 },
 "nbformat": 4,
 "nbformat_minor": 5
}
