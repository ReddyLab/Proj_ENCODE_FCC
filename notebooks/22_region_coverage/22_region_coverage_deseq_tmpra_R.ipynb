{
 "cells": [
  {
   "cell_type": "raw",
   "id": "0ac85b5b-0f18-4e28-a653-3ae6bc61dd89",
   "metadata": {},
   "source": [
    "---\n",
    "title: Region Coverage 22\n",
    "subtitle: Apply DESeq2 to process count matrix (TMPRA)\n",
    "format:\n",
    "    html:\n",
    "        code-fold:  true\n",
    "        code-tools: true\n",
    "---"
   ]
  },
  {
   "cell_type": "markdown",
   "id": "c25c099f-0610-4ebd-bab0-053baa97175b",
   "metadata": {},
   "source": [
    "**Set environment**"
   ]
  },
  {
   "cell_type": "code",
   "execution_count": 1,
   "id": "8611439a-4633-4025-9147-fe4e14bae6fe",
   "metadata": {},
   "outputs": [
    {
     "name": "stdout",
     "output_type": "stream",
     "text": [
      "You are working on        Singularity \n",
      "BASE DIRECTORY (FD_BASE): /mount \n",
      "REPO DIRECTORY (FD_REPO): /mount/repo \n",
      "WORK DIRECTORY (FD_WORK): /mount/work \n",
      "DATA DIRECTORY (FD_DATA): /mount/data \n",
      "\n",
      "You are working with      ENCODE FCC \n",
      "PATH OF PROJECT (FD_PRJ): /mount/repo/Proj_ENCODE_FCC \n",
      "PROJECT RESULTS (FD_RES): /mount/repo/Proj_ENCODE_FCC/results \n",
      "PROJECT SCRIPTS (FD_EXE): /mount/repo/Proj_ENCODE_FCC/scripts \n",
      "PROJECT DATA    (FD_DAT): /mount/repo/Proj_ENCODE_FCC/data \n",
      "PROJECT NOTE    (FD_NBK): /mount/repo/Proj_ENCODE_FCC/notebooks \n",
      "PROJECT DOCS    (FD_DOC): /mount/repo/Proj_ENCODE_FCC/docs \n",
      "PROJECT LOG     (FD_LOG): /mount/repo/Proj_ENCODE_FCC/log \n",
      "PROJECT APP     (FD_APP): /mount/repo/Proj_ENCODE_FCC/app \n",
      "PROJECT REF     (FD_REF): /mount/repo/Proj_ENCODE_FCC/references \n",
      "\n"
     ]
    }
   ],
   "source": [
    "suppressMessages(suppressWarnings(source(\"../run_config_project_sing.R\")))\n",
    "suppressMessages(suppressWarnings(library(\"DESeq2\")))\n",
    "suppressMessages(suppressWarnings(library(\"edgeR\")))\n",
    "show_env()"
   ]
  },
  {
   "cell_type": "markdown",
   "id": "565c9a44-499e-4f81-a673-4444cdce37c9",
   "metadata": {},
   "source": [
    "## Loop through regions and assays to create count matrix"
   ]
  },
  {
   "cell_type": "markdown",
   "id": "f7303989-0a53-4e46-be41-8fd22be3b4cb",
   "metadata": {},
   "source": [
    "**Test loop**"
   ]
  },
  {
   "cell_type": "code",
   "execution_count": 2,
   "id": "bd644402-67bc-4d9f-80b9-40add3df58a4",
   "metadata": {},
   "outputs": [
    {
     "name": "stdout",
     "output_type": "stream",
     "text": [
      "[1] \"/mount/repo/Proj_ENCODE_FCC/results/region_coverage_fcc/fcc_astarr_macs_input_overlap/MPRA_Tiling_K562_Tewhey_Hannah/overlap_count/summary/data.count_column.raw.OL13.rds\"\n",
      "[2] \"/mount/repo/Proj_ENCODE_FCC/results/region_coverage_fcc/fcc_astarr_macs_input_overlap/MPRA_Tiling_K562_Tewhey_Hannah/overlap_count/summary/data.count_column.raw.OL43.rds\"\n",
      "[3] \"/mount/repo/Proj_ENCODE_FCC/results/region_coverage_fcc/fcc_astarr_macs_input_overlap/MPRA_Tiling_K562_Tewhey_Hannah/overlap_count/summary/data.count_column.raw.OL45.rds\"\n"
     ]
    }
   ],
   "source": [
    "txt_assay  = \"MPRA_Tiling_K562_Tewhey_Hannah\"\n",
    "txt_region = \"fcc_astarr_macs_input_overlap\"\n",
    "txt_fdiry  = file.path(\n",
    "    FD_RES, \"region_coverage_fcc\",\n",
    "    txt_region,\n",
    "    txt_assay,\n",
    "    \"overlap_count\",\n",
    "    \"summary\"\n",
    ")\n",
    "txt_fname = \"data*raw*rds\"\n",
    "txt_fglob = file.path(txt_fdiry, txt_fname)\n",
    "\n",
    "vec_txt_fpath = Sys.glob(txt_fglob)\n",
    "print(vec_txt_fpath)"
   ]
  },
  {
   "cell_type": "markdown",
   "id": "56adcdb1-59d3-4d16-847e-c733be1b081f",
   "metadata": {},
   "source": [
    "**Generate effect size**"
   ]
  },
  {
   "cell_type": "code",
   "execution_count": null,
   "id": "eb73b4f3-88fa-42bb-8822-39c767883bc5",
   "metadata": {},
   "outputs": [
    {
     "name": "stdout",
     "output_type": "stream",
     "text": [
      "[1] \"atac_ENCFF333TAT\"              \"atac_ENCFF558BLC\"             \n",
      "[3] \"atac_ENCFF925CYR\"              \"atac_ENCFF948AFM\"             \n",
      "[5] \"dnase_ENCFF185XRG\"             \"dnase_ENCFF274YGF\"            \n",
      "[7] \"fcc_astarr_macs_input_overlap\" \"fcc_astarr_macs_input_union\"  \n",
      "\n",
      "\n",
      "====================\n",
      "Region: fcc_astarr_macs_input_overlap \n",
      "Assay:  MPRA_Tiling_K562_Tewhey_Hannah \n",
      "Prefix: OL13 \n",
      "FPath:  /mount/repo/Proj_ENCODE_FCC/results/region_coverage_fcc/fcc_astarr_macs_input_overlap/MPRA_Tiling_K562_Tewhey_Hannah/overlap_count/summary/data.count_column.raw.OL13.rds \n",
      "FName:  data.count_column.raw.OL13.rds \n",
      "Import Counts:\n",
      "#Rows (Before filter): 18 \n",
      "#Rows (After  filter): 18 \n",
      "\n",
      "Apply DESeq2: ~Group \n"
     ]
    },
    {
     "name": "stderr",
     "output_type": "stream",
     "text": [
      "estimating size factors\n",
      "\n",
      "estimating dispersions\n",
      "\n",
      "gene-wise dispersion estimates\n",
      "\n",
      "mean-dispersion relationship\n",
      "\n",
      "-- note: fitType='parametric', but the dispersion trend was not well captured by the\n",
      "   function: y = a/x + b, and a local regression fit was automatically substituted.\n",
      "   specify fitType='local' or 'mean' to avoid this message next time.\n",
      "\n",
      "final dispersion estimates\n",
      "\n",
      "fitting model and testing\n",
      "\n"
     ]
    },
    {
     "name": "stdout",
     "output_type": "stream",
     "text": [
      "\n",
      "====================\n",
      "Region: fcc_astarr_macs_input_overlap \n",
      "Assay:  MPRA_Tiling_K562_Tewhey_Hannah \n",
      "Prefix: OL43 \n",
      "FPath:  /mount/repo/Proj_ENCODE_FCC/results/region_coverage_fcc/fcc_astarr_macs_input_overlap/MPRA_Tiling_K562_Tewhey_Hannah/overlap_count/summary/data.count_column.raw.OL43.rds \n",
      "FName:  data.count_column.raw.OL43.rds \n",
      "Import Counts:\n",
      "#Rows (Before filter): 307 \n",
      "#Rows (After  filter): 307 \n",
      "\n",
      "Apply DESeq2: ~Group \n"
     ]
    },
    {
     "name": "stderr",
     "output_type": "stream",
     "text": [
      "estimating size factors\n",
      "\n",
      "estimating dispersions\n",
      "\n",
      "gene-wise dispersion estimates\n",
      "\n",
      "mean-dispersion relationship\n",
      "\n",
      "final dispersion estimates\n",
      "\n",
      "fitting model and testing\n",
      "\n"
     ]
    },
    {
     "name": "stdout",
     "output_type": "stream",
     "text": [
      "\n",
      "====================\n",
      "Region: fcc_astarr_macs_input_overlap \n",
      "Assay:  MPRA_Tiling_K562_Tewhey_Hannah \n",
      "Prefix: OL45 \n",
      "FPath:  /mount/repo/Proj_ENCODE_FCC/results/region_coverage_fcc/fcc_astarr_macs_input_overlap/MPRA_Tiling_K562_Tewhey_Hannah/overlap_count/summary/data.count_column.raw.OL45.rds \n",
      "FName:  data.count_column.raw.OL45.rds \n",
      "Import Counts:\n",
      "#Rows (Before filter): 823 \n",
      "#Rows (After  filter): 823 \n",
      "\n",
      "Apply DESeq2: ~Group \n"
     ]
    },
    {
     "name": "stderr",
     "output_type": "stream",
     "text": [
      "estimating size factors\n",
      "\n",
      "estimating dispersions\n",
      "\n",
      "gene-wise dispersion estimates\n",
      "\n",
      "mean-dispersion relationship\n",
      "\n",
      "-- note: fitType='parametric', but the dispersion trend was not well captured by the\n",
      "   function: y = a/x + b, and a local regression fit was automatically substituted.\n",
      "   specify fitType='local' or 'mean' to avoid this message next time.\n",
      "\n",
      "final dispersion estimates\n",
      "\n",
      "fitting model and testing\n",
      "\n"
     ]
    }
   ],
   "source": [
    "### init: region folders\n",
    "txt_fdiry = file.path(FD_RES, \"region_coverage_fcc\")\n",
    "vec_txt_region = dir(txt_fdiry)\n",
    "print(vec_txt_region)\n",
    "cat(\"\\n\")\n",
    "\n",
    "vec_txt_region = \"fcc_astarr_macs_input_overlap\"\n",
    "\n",
    "### init: assay name\n",
    "txt_assay  = \"MPRA_Tiling_K562_Tewhey_Hannah\"\n",
    "\n",
    "### init: assay prefix\n",
    "vec_txt_prefix = c(\"OL13\", \"OL43\", \"OL45\")\n",
    "fun_get_prefix = function(txt){\n",
    "    res = fun_str_map_detect(txt, vec_txt_prefix, vec_txt_prefix)\n",
    "    return(res)\n",
    "}\n",
    "\n",
    "### loop\n",
    "for (txt_region in vec_txt_region) {\n",
    "\n",
    "    ### init: get RDS files w/ count matrix and column information\n",
    "    txt_fdiry = file.path(FD_RES, \"region_coverage_fcc\", txt_region, txt_assay, \"overlap_count\", \"summary\")\n",
    "    txt_fname = \"data*count_column*raw*rds\"\n",
    "    txt_fglob = file.path(txt_fdiry, txt_fname)\n",
    "    \n",
    "    vec_txt_fpath_inp = Sys.glob(txt_fglob)\n",
    "    \n",
    "    ### loop\n",
    "    for (txt_fpath_inp in vec_txt_fpath_inp){\n",
    "\n",
    "        ### read object\n",
    "        lst_dat = readRDS(txt_fpath_inp)\n",
    "        dat_cnt = lst_dat$data_cnt\n",
    "        dat_col = lst_dat$data_col\n",
    "        \n",
    "        ### arrange column data\n",
    "        dat_col = dat_col  %>% \n",
    "            dplyr::mutate(Group = factor(Group, levels = c(\"Input\", \"Output\"))) %>%\n",
    "            column_to_rownames(var = \"Sample\")\n",
    "        \n",
    "        ### arrange count matrix\n",
    "        mat_tot = dat_cnt %>%\n",
    "            dplyr::select(-Chrom, -ChromStart, -ChromEnd) %>%\n",
    "            column_to_rownames(var = \"Region\")\n",
    "        mat_inp = mat_tot %>% dplyr::select(starts_with(\"Input\"))\n",
    "        mat_out = mat_tot %>% dplyr::select(starts_with(\"Output\"))\n",
    "\n",
    "        ### create list of DGE objects for total, input, and output\n",
    "        lst = list()\n",
    "        lst[[\"Total\"]]  = DGEList(counts=mat_tot, group = dat_col$Group)\n",
    "        lst[[\"Input\"]]  = DGEList(counts=mat_inp, group = rep(\"Input\",  ncol(mat_inp)))\n",
    "        lst[[\"Output\"]] = DGEList(counts=mat_out, group = rep(\"Output\", ncol(mat_out)))\n",
    "        lst_edger = lst\n",
    "\n",
    "        ### filter counts using filterByExpr from edgeR\n",
    "        dge = lst_edger[[\"Total\"]]\n",
    "        idx = filterByExpr(dge)\n",
    "\n",
    "        ### Check: index matched when filtering\n",
    "        x = names(idx)\n",
    "        y = row.names(mat_tot)\n",
    "        if (!all(x == y)) {stop(\"Error index\")}\n",
    "\n",
    "        ### if passed: filter matrix\n",
    "        mat_cnt = mat_tot[idx,]\n",
    "\n",
    "        ### show progress:\n",
    "        txt_fpath  = txt_fpath_inp\n",
    "        txt_fname  = basename(txt_fpath)\n",
    "        txt_prefix = fun_get_prefix(txt_fname)\n",
    "        \n",
    "        cat(\"\\n====================\\n\")\n",
    "        cat(\"Region:\", txt_region, \"\\n\")\n",
    "        cat(\"Assay: \", txt_assay,  \"\\n\")\n",
    "        cat(\"Prefix:\", txt_prefix, \"\\n\")\n",
    "        cat(\"FPath: \", txt_fpath,  \"\\n\")\n",
    "        cat(\"FName: \", txt_fname,  \"\\n\")\n",
    "        cat(\"Import Counts:\\n\")\n",
    "        cat(\"#Rows (Before filter):\", nrow(dat_cnt), \"\\n\")\n",
    "        cat(\"#Rows (After  filter):\", nrow(mat_cnt), \"\\n\")\n",
    "        cat(\"\\n\")\n",
    "        flush.console()\n",
    "\n",
    "        ### create dds object\n",
    "        cat(\"Apply DESeq2: ~Group\", \"\\n\")\n",
    "        dds = DESeqDataSetFromMatrix(\n",
    "            countData = mat_cnt, \n",
    "            colData   = dat_col, \n",
    "            design    = ~Group)\n",
    "        \n",
    "        ### ensure Input group is set as reference\n",
    "        dds$Group <- relevel(dds$Group, ref = \"Input\")\n",
    "\n",
    "        ### run deseq analysis\n",
    "        dds = DESeq(dds)\n",
    "\n",
    "        ### save deseq object\n",
    "        txt_fdiry = dirname(txt_fpath_inp)\n",
    "        txt_fname = paste(\"data\", \"deseq2\", txt_prefix, \"rds\", sep=\".\")\n",
    "        txt_fpath = file.path(txt_fdiry, txt_fname)\n",
    "        \n",
    "        obj = dds\n",
    "        saveRDS(obj, txt_fpath)\n",
    "\n",
    "        ### save DGEList object\n",
    "        txt_fdiry = dirname(txt_fpath_inp)\n",
    "        txt_fname = paste(\"data\", \"edger\", txt_prefix, \"rds\", sep=\".\")\n",
    "        txt_fpath = file.path(txt_fdiry, txt_fname)\n",
    "        \n",
    "        obj = lst_edger\n",
    "        saveRDS(obj, txt_fpath)\n",
    "    }\n",
    "}"
   ]
  },
  {
   "cell_type": "code",
   "execution_count": null,
   "id": "0bfda3c9-7be5-4a64-9cd3-c85a28f99133",
   "metadata": {},
   "outputs": [],
   "source": []
  },
  {
   "cell_type": "code",
   "execution_count": null,
   "id": "5d891ef9-f07c-4494-85e9-fe608d64eb60",
   "metadata": {},
   "outputs": [],
   "source": []
  },
  {
   "cell_type": "code",
   "execution_count": 64,
   "id": "0c4ecf29-2089-4fff-a211-533e74cbaf44",
   "metadata": {},
   "outputs": [
    {
     "name": "stderr",
     "output_type": "stream",
     "text": [
      "\u001b[1mRows: \u001b[22m\u001b[34m22\u001b[39m \u001b[1mColumns: \u001b[22m\u001b[34m7\u001b[39m\n",
      "\u001b[36m──\u001b[39m \u001b[1mColumn specification\u001b[22m \u001b[36m─────────────────────────────────────────────\u001b[39m\n",
      "\u001b[1mDelimiter:\u001b[22m \"\\t\"\n",
      "\u001b[31mchr\u001b[39m (1): Peak\n",
      "\u001b[32mdbl\u001b[39m (6): baseMean, log2FoldChange, lfcSE, stat, pvalue, padj\n",
      "\n",
      "\u001b[36mℹ\u001b[39m Use `spec()` to retrieve the full column specification for this data.\n",
      "\u001b[36mℹ\u001b[39m Specify the column types or set `show_col_types = FALSE` to quiet this message.\n"
     ]
    },
    {
     "data": {
      "text/html": [
       "<table class=\"dataframe\">\n",
       "<caption>A tibble: 6 × 7</caption>\n",
       "<thead>\n",
       "\t<tr><th scope=col>Peak</th><th scope=col>baseMean</th><th scope=col>log2FoldChange</th><th scope=col>lfcSE</th><th scope=col>stat</th><th scope=col>pvalue</th><th scope=col>padj</th></tr>\n",
       "\t<tr><th scope=col>&lt;chr&gt;</th><th scope=col>&lt;dbl&gt;</th><th scope=col>&lt;dbl&gt;</th><th scope=col>&lt;dbl&gt;</th><th scope=col>&lt;dbl&gt;</th><th scope=col>&lt;dbl&gt;</th><th scope=col>&lt;dbl&gt;</th></tr>\n",
       "</thead>\n",
       "<tbody>\n",
       "\t<tr><td>chr11:61792068-61793464</td><td>260242.12</td><td> 1.6665654</td><td>0.03671583</td><td> 45.390919</td><td>0.000000e+00</td><td>0.000000e+00</td></tr>\n",
       "\t<tr><td>chr11:61800085-61801113</td><td>216437.58</td><td> 1.8554038</td><td>0.04389284</td><td> 42.271214</td><td>0.000000e+00</td><td>0.000000e+00</td></tr>\n",
       "\t<tr><td>chr11:61806630-61807154</td><td> 49327.33</td><td>-1.3562271</td><td>0.07733082</td><td>-17.537989</td><td>7.348170e-69</td><td>1.347165e-68</td></tr>\n",
       "\t<tr><td>chr11:61814735-61817343</td><td>682819.52</td><td> 2.5310145</td><td>0.03600593</td><td> 70.294376</td><td>0.000000e+00</td><td>0.000000e+00</td></tr>\n",
       "\t<tr><td>chr11:61822094-61822443</td><td> 20363.10</td><td>-1.7731459</td><td>0.16511332</td><td>-10.738963</td><td>6.679004e-27</td><td>8.163227e-27</td></tr>\n",
       "\t<tr><td>chr11:61825795-61826306</td><td> 29539.40</td><td>-0.3921375</td><td>0.05359585</td><td> -7.316565</td><td>2.543988e-13</td><td>2.665130e-13</td></tr>\n",
       "</tbody>\n",
       "</table>\n"
      ],
      "text/latex": [
       "A tibble: 6 × 7\n",
       "\\begin{tabular}{lllllll}\n",
       " Peak & baseMean & log2FoldChange & lfcSE & stat & pvalue & padj\\\\\n",
       " <chr> & <dbl> & <dbl> & <dbl> & <dbl> & <dbl> & <dbl>\\\\\n",
       "\\hline\n",
       "\t chr11:61792068-61793464 & 260242.12 &  1.6665654 & 0.03671583 &  45.390919 & 0.000000e+00 & 0.000000e+00\\\\\n",
       "\t chr11:61800085-61801113 & 216437.58 &  1.8554038 & 0.04389284 &  42.271214 & 0.000000e+00 & 0.000000e+00\\\\\n",
       "\t chr11:61806630-61807154 &  49327.33 & -1.3562271 & 0.07733082 & -17.537989 & 7.348170e-69 & 1.347165e-68\\\\\n",
       "\t chr11:61814735-61817343 & 682819.52 &  2.5310145 & 0.03600593 &  70.294376 & 0.000000e+00 & 0.000000e+00\\\\\n",
       "\t chr11:61822094-61822443 &  20363.10 & -1.7731459 & 0.16511332 & -10.738963 & 6.679004e-27 & 8.163227e-27\\\\\n",
       "\t chr11:61825795-61826306 &  29539.40 & -0.3921375 & 0.05359585 &  -7.316565 & 2.543988e-13 & 2.665130e-13\\\\\n",
       "\\end{tabular}\n"
      ],
      "text/markdown": [
       "\n",
       "A tibble: 6 × 7\n",
       "\n",
       "| Peak &lt;chr&gt; | baseMean &lt;dbl&gt; | log2FoldChange &lt;dbl&gt; | lfcSE &lt;dbl&gt; | stat &lt;dbl&gt; | pvalue &lt;dbl&gt; | padj &lt;dbl&gt; |\n",
       "|---|---|---|---|---|---|---|\n",
       "| chr11:61792068-61793464 | 260242.12 |  1.6665654 | 0.03671583 |  45.390919 | 0.000000e+00 | 0.000000e+00 |\n",
       "| chr11:61800085-61801113 | 216437.58 |  1.8554038 | 0.04389284 |  42.271214 | 0.000000e+00 | 0.000000e+00 |\n",
       "| chr11:61806630-61807154 |  49327.33 | -1.3562271 | 0.07733082 | -17.537989 | 7.348170e-69 | 1.347165e-68 |\n",
       "| chr11:61814735-61817343 | 682819.52 |  2.5310145 | 0.03600593 |  70.294376 | 0.000000e+00 | 0.000000e+00 |\n",
       "| chr11:61822094-61822443 |  20363.10 | -1.7731459 | 0.16511332 | -10.738963 | 6.679004e-27 | 8.163227e-27 |\n",
       "| chr11:61825795-61826306 |  29539.40 | -0.3921375 | 0.05359585 |  -7.316565 | 2.543988e-13 | 2.665130e-13 |\n",
       "\n"
      ],
      "text/plain": [
       "  Peak                    baseMean  log2FoldChange lfcSE      stat      \n",
       "1 chr11:61792068-61793464 260242.12  1.6665654     0.03671583  45.390919\n",
       "2 chr11:61800085-61801113 216437.58  1.8554038     0.04389284  42.271214\n",
       "3 chr11:61806630-61807154  49327.33 -1.3562271     0.07733082 -17.537989\n",
       "4 chr11:61814735-61817343 682819.52  2.5310145     0.03600593  70.294376\n",
       "5 chr11:61822094-61822443  20363.10 -1.7731459     0.16511332 -10.738963\n",
       "6 chr11:61825795-61826306  29539.40 -0.3921375     0.05359585  -7.316565\n",
       "  pvalue       padj        \n",
       "1 0.000000e+00 0.000000e+00\n",
       "2 0.000000e+00 0.000000e+00\n",
       "3 7.348170e-69 1.347165e-68\n",
       "4 0.000000e+00 0.000000e+00\n",
       "5 6.679004e-27 8.163227e-27\n",
       "6 2.543988e-13 2.665130e-13"
      ]
     },
     "metadata": {},
     "output_type": "display_data"
    }
   ],
   "source": [
    "#txt_fdiry = \"/data/reddylab/Kuei/work\"\n",
    "txt_fpath = \"/data/reddylab/Kuei/work/proj_encode_fcc/results_v4/Tewhey_K562_TileMPRA/coverage_astarrseq_peak_macs_input/summary/result.Log2FC.raw.deseq.OL13_20220512.tsv\"\n",
    "\n",
    "dat = read_tsv(txt_fpath)\n",
    "head(dat)"
   ]
  },
  {
   "cell_type": "code",
   "execution_count": 67,
   "id": "4c1e2eac-378b-4821-a75a-c8caafe39834",
   "metadata": {},
   "outputs": [
    {
     "data": {
      "text/html": [
       "<table class=\"dataframe\">\n",
       "<caption>A data.frame: 6 × 6</caption>\n",
       "<thead>\n",
       "\t<tr><th></th><th scope=col>baseMean</th><th scope=col>log2FoldChange</th><th scope=col>lfcSE</th><th scope=col>stat</th><th scope=col>pvalue</th><th scope=col>padj</th></tr>\n",
       "\t<tr><th></th><th scope=col>&lt;dbl&gt;</th><th scope=col>&lt;dbl&gt;</th><th scope=col>&lt;dbl&gt;</th><th scope=col>&lt;dbl&gt;</th><th scope=col>&lt;dbl&gt;</th><th scope=col>&lt;dbl&gt;</th></tr>\n",
       "</thead>\n",
       "<tbody>\n",
       "\t<tr><th scope=row>chr11:61792068-61793464</th><td>260242.12</td><td> 1.6665705</td><td>0.04117109</td><td> 40.479145</td><td> 0.000000e+00</td><td> 0.000000e+00</td></tr>\n",
       "\t<tr><th scope=row>chr11:61800085-61801113</th><td>216437.58</td><td> 1.8554055</td><td>0.04972890</td><td> 37.310405</td><td>1.112851e-304</td><td>6.120682e-304</td></tr>\n",
       "\t<tr><th scope=row>chr11:61806630-61807154</th><td> 49327.33</td><td>-1.3562455</td><td>0.08825841</td><td>-15.366758</td><td> 2.735191e-53</td><td> 4.628784e-53</td></tr>\n",
       "\t<tr><th scope=row>chr11:61814735-61817343</th><td>682819.52</td><td> 2.5310135</td><td>0.03452518</td><td> 73.309201</td><td> 0.000000e+00</td><td> 0.000000e+00</td></tr>\n",
       "\t<tr><th scope=row>chr11:61822094-61822443</th><td> 20363.10</td><td>-1.7731145</td><td>0.14597377</td><td>-12.146802</td><td> 5.965339e-34</td><td> 7.719850e-34</td></tr>\n",
       "\t<tr><th scope=row>chr11:61825795-61826306</th><td> 29539.40</td><td>-0.3921839</td><td>0.07941651</td><td> -4.938318</td><td> 7.879932e-07</td><td> 7.879932e-07</td></tr>\n",
       "</tbody>\n",
       "</table>\n"
      ],
      "text/latex": [
       "A data.frame: 6 × 6\n",
       "\\begin{tabular}{r|llllll}\n",
       "  & baseMean & log2FoldChange & lfcSE & stat & pvalue & padj\\\\\n",
       "  & <dbl> & <dbl> & <dbl> & <dbl> & <dbl> & <dbl>\\\\\n",
       "\\hline\n",
       "\tchr11:61792068-61793464 & 260242.12 &  1.6665705 & 0.04117109 &  40.479145 &  0.000000e+00 &  0.000000e+00\\\\\n",
       "\tchr11:61800085-61801113 & 216437.58 &  1.8554055 & 0.04972890 &  37.310405 & 1.112851e-304 & 6.120682e-304\\\\\n",
       "\tchr11:61806630-61807154 &  49327.33 & -1.3562455 & 0.08825841 & -15.366758 &  2.735191e-53 &  4.628784e-53\\\\\n",
       "\tchr11:61814735-61817343 & 682819.52 &  2.5310135 & 0.03452518 &  73.309201 &  0.000000e+00 &  0.000000e+00\\\\\n",
       "\tchr11:61822094-61822443 &  20363.10 & -1.7731145 & 0.14597377 & -12.146802 &  5.965339e-34 &  7.719850e-34\\\\\n",
       "\tchr11:61825795-61826306 &  29539.40 & -0.3921839 & 0.07941651 &  -4.938318 &  7.879932e-07 &  7.879932e-07\\\\\n",
       "\\end{tabular}\n"
      ],
      "text/markdown": [
       "\n",
       "A data.frame: 6 × 6\n",
       "\n",
       "| <!--/--> | baseMean &lt;dbl&gt; | log2FoldChange &lt;dbl&gt; | lfcSE &lt;dbl&gt; | stat &lt;dbl&gt; | pvalue &lt;dbl&gt; | padj &lt;dbl&gt; |\n",
       "|---|---|---|---|---|---|---|\n",
       "| chr11:61792068-61793464 | 260242.12 |  1.6665705 | 0.04117109 |  40.479145 |  0.000000e+00 |  0.000000e+00 |\n",
       "| chr11:61800085-61801113 | 216437.58 |  1.8554055 | 0.04972890 |  37.310405 | 1.112851e-304 | 6.120682e-304 |\n",
       "| chr11:61806630-61807154 |  49327.33 | -1.3562455 | 0.08825841 | -15.366758 |  2.735191e-53 |  4.628784e-53 |\n",
       "| chr11:61814735-61817343 | 682819.52 |  2.5310135 | 0.03452518 |  73.309201 |  0.000000e+00 |  0.000000e+00 |\n",
       "| chr11:61822094-61822443 |  20363.10 | -1.7731145 | 0.14597377 | -12.146802 |  5.965339e-34 |  7.719850e-34 |\n",
       "| chr11:61825795-61826306 |  29539.40 | -0.3921839 | 0.07941651 |  -4.938318 |  7.879932e-07 |  7.879932e-07 |\n",
       "\n"
      ],
      "text/plain": [
       "                        baseMean  log2FoldChange lfcSE      stat      \n",
       "chr11:61792068-61793464 260242.12  1.6665705     0.04117109  40.479145\n",
       "chr11:61800085-61801113 216437.58  1.8554055     0.04972890  37.310405\n",
       "chr11:61806630-61807154  49327.33 -1.3562455     0.08825841 -15.366758\n",
       "chr11:61814735-61817343 682819.52  2.5310135     0.03452518  73.309201\n",
       "chr11:61822094-61822443  20363.10 -1.7731145     0.14597377 -12.146802\n",
       "chr11:61825795-61826306  29539.40 -0.3921839     0.07941651  -4.938318\n",
       "                        pvalue        padj         \n",
       "chr11:61792068-61793464  0.000000e+00  0.000000e+00\n",
       "chr11:61800085-61801113 1.112851e-304 6.120682e-304\n",
       "chr11:61806630-61807154  2.735191e-53  4.628784e-53\n",
       "chr11:61814735-61817343  0.000000e+00  0.000000e+00\n",
       "chr11:61822094-61822443  5.965339e-34  7.719850e-34\n",
       "chr11:61825795-61826306  7.879932e-07  7.879932e-07"
      ]
     },
     "metadata": {},
     "output_type": "display_data"
    }
   ],
   "source": [
    "dat = as.data.frame(results(dds))\n",
    "head(dat)"
   ]
  },
  {
   "cell_type": "code",
   "execution_count": null,
   "id": "f5ca3736-a965-48a5-8e50-7db9fdec02fc",
   "metadata": {},
   "outputs": [],
   "source": []
  }
 ],
 "metadata": {
  "kernelspec": {
   "display_name": "R",
   "language": "R",
   "name": "ir"
  },
  "language_info": {
   "codemirror_mode": "r",
   "file_extension": ".r",
   "mimetype": "text/x-r-source",
   "name": "R",
   "pygments_lexer": "r",
   "version": "4.4.0"
  }
 },
 "nbformat": 4,
 "nbformat_minor": 5
}
