{
 "cells": [
  {
   "cell_type": "raw",
   "id": "a7f54252-b65e-40f0-b89a-22ac740dc6a3",
   "metadata": {},
   "source": [
    "---\n",
    "title: Prepare Hi-C data 22 (intact Hi-C)\n",
    "subtitle: Explore data (TAD)\n",
    "format:\n",
    "    html:\n",
    "        code-fold:  true\n",
    "        code-tools: true\n",
    "---"
   ]
  },
  {
   "cell_type": "markdown",
   "id": "9550ef84-2625-44d7-a9b9-a6e8c1c4e655",
   "metadata": {},
   "source": [
    "**Set environment**"
   ]
  },
  {
   "cell_type": "code",
   "execution_count": 1,
   "id": "1ee7dcd2-79e3-4e98-bb3f-4c5ba62746db",
   "metadata": {
    "tags": []
   },
   "outputs": [
    {
     "name": "stdout",
     "output_type": "stream",
     "text": [
      "You are working on        Singularity: singularity_proj_encode_fcc \n",
      "BASE DIRECTORY (FD_BASE): /data/reddylab/Kuei \n",
      "REPO DIRECTORY (FD_REPO): /data/reddylab/Kuei/repo \n",
      "WORK DIRECTORY (FD_WORK): /data/reddylab/Kuei/work \n",
      "DATA DIRECTORY (FD_DATA): /data/reddylab/Kuei/data \n",
      "\n",
      "You are working with      ENCODE FCC \n",
      "PATH OF PROJECT (FD_PRJ): /data/reddylab/Kuei/repo/Proj_ENCODE_FCC \n",
      "PROJECT RESULTS (FD_RES): /data/reddylab/Kuei/repo/Proj_ENCODE_FCC/results \n",
      "PROJECT SCRIPTS (FD_EXE): /data/reddylab/Kuei/repo/Proj_ENCODE_FCC/scripts \n",
      "PROJECT DATA    (FD_DAT): /data/reddylab/Kuei/repo/Proj_ENCODE_FCC/data \n",
      "PROJECT NOTE    (FD_NBK): /data/reddylab/Kuei/repo/Proj_ENCODE_FCC/notebooks \n",
      "PROJECT DOCS    (FD_DOC): /data/reddylab/Kuei/repo/Proj_ENCODE_FCC/docs \n",
      "PROJECT LOG     (FD_LOG): /data/reddylab/Kuei/repo/Proj_ENCODE_FCC/log \n",
      "PROJECT REF     (FD_REF): /data/reddylab/Kuei/repo/Proj_ENCODE_FCC/references \n",
      "\n"
     ]
    }
   ],
   "source": [
    "suppressMessages(suppressWarnings(source(\"../run_config_project_sing.R\")))\n",
    "show_env()"
   ]
  },
  {
   "cell_type": "markdown",
   "id": "acc1f0a3-3da6-4907-8de5-5c1a57149e92",
   "metadata": {},
   "source": [
    "**Set global variables**"
   ]
  },
  {
   "cell_type": "code",
   "execution_count": 2,
   "id": "c40a4b0d-887f-4602-bc33-26bf79b89b30",
   "metadata": {},
   "outputs": [],
   "source": [
    "TXT_FOLDER_REGION = \"hic_intact_K562_ENCSR479XDG\"\n",
    "TXT_ASSAY = \"hic_intact_ENCSR479XDG\"\n",
    "TXT_INDEX = \"ENCSR479XDG\""
   ]
  },
  {
   "cell_type": "markdown",
   "id": "ccca6c21-479d-42d8-a824-f8124673bfdf",
   "metadata": {
    "tags": []
   },
   "source": [
    "## Import data"
   ]
  },
  {
   "cell_type": "markdown",
   "id": "9ff9671e-1fde-4071-a094-449940ee646c",
   "metadata": {},
   "source": [
    "**View files**"
   ]
  },
  {
   "cell_type": "code",
   "execution_count": 3,
   "id": "87cd2e6f-967f-48ea-83f8-a2403f54ac41",
   "metadata": {},
   "outputs": [
    {
     "name": "stdout",
     "output_type": "stream",
     "text": [
      "K562.hg38.hic_intact.Loop_A.bed.gz \n",
      "K562.hg38.hic_intact.Loop_B.bed.gz \n",
      "K562.hg38.hic_intact.TAD.bed.gz \n",
      "summary \n"
     ]
    }
   ],
   "source": [
    "txt_folder = TXT_FOLDER_REGION\n",
    "txt_fdiry  = file.path(FD_RES, \"region\", txt_folder)\n",
    "\n",
    "vec = dir(txt_fdiry)\n",
    "for (txt in vec){cat(txt, \"\\n\")}"
   ]
  },
  {
   "cell_type": "code",
   "execution_count": 4,
   "id": "738fc111-8ae5-43d7-bab9-ea9454d79e56",
   "metadata": {},
   "outputs": [
    {
     "name": "stdout",
     "output_type": "stream",
     "text": [
      "description.tsv \n",
      "K562.hg38.hic_intact.Loop.tsv \n",
      "K562.hg38.hic_intact.TAD.tsv \n",
      "metadata.label.tsv \n"
     ]
    }
   ],
   "source": [
    "txt_folder = TXT_FOLDER_REGION\n",
    "txt_fdiry  = file.path(FD_RES, \"region\", txt_folder, \"summary\")\n",
    "\n",
    "vec = dir(txt_fdiry)\n",
    "for (txt in vec){cat(txt, \"\\n\")}"
   ]
  },
  {
   "cell_type": "markdown",
   "id": "8ed0076d-925b-4300-8be3-ea77aa543617",
   "metadata": {},
   "source": [
    "**Read data**"
   ]
  },
  {
   "cell_type": "code",
   "execution_count": 6,
   "id": "12e98416-97ba-4c84-b8b8-bede4e0ceb87",
   "metadata": {},
   "outputs": [
    {
     "data": {
      "text/html": [
       "<table>\n",
       " <thead>\n",
       "  <tr>\n",
       "   <th style=\"text-align:left;\"> Chrom_1 </th>\n",
       "   <th style=\"text-align:right;\"> ChromStart_1 </th>\n",
       "   <th style=\"text-align:right;\"> ChromEnd_1 </th>\n",
       "   <th style=\"text-align:left;\"> Chrom_2 </th>\n",
       "   <th style=\"text-align:right;\"> ChromStart_2 </th>\n",
       "   <th style=\"text-align:right;\"> ChromEnd_2 </th>\n",
       "   <th style=\"text-align:left;\"> Name </th>\n",
       "   <th style=\"text-align:left;\"> Score </th>\n",
       "   <th style=\"text-align:left;\"> Strand_1 </th>\n",
       "   <th style=\"text-align:left;\"> Strand_2 </th>\n",
       "   <th style=\"text-align:right;\"> Color </th>\n",
       "   <th style=\"text-align:right;\"> DomainScore </th>\n",
       "   <th style=\"text-align:right;\"> UVarScore </th>\n",
       "   <th style=\"text-align:right;\"> LVarScore </th>\n",
       "   <th style=\"text-align:right;\"> UpSign </th>\n",
       "   <th style=\"text-align:right;\"> LoSign </th>\n",
       "   <th style=\"text-align:left;\"> Region </th>\n",
       "   <th style=\"text-align:right;\"> Size </th>\n",
       "  </tr>\n",
       " </thead>\n",
       "<tbody>\n",
       "  <tr>\n",
       "   <td style=\"text-align:left;\"> chr1 </td>\n",
       "   <td style=\"text-align:right;\"> 1120000 </td>\n",
       "   <td style=\"text-align:right;\"> 1240000 </td>\n",
       "   <td style=\"text-align:left;\"> chr1 </td>\n",
       "   <td style=\"text-align:right;\"> 1120000 </td>\n",
       "   <td style=\"text-align:right;\"> 1240000 </td>\n",
       "   <td style=\"text-align:left;\"> . </td>\n",
       "   <td style=\"text-align:left;\"> . </td>\n",
       "   <td style=\"text-align:left;\"> . </td>\n",
       "   <td style=\"text-align:left;\"> . </td>\n",
       "   <td style=\"text-align:right;\"> 2552550 </td>\n",
       "   <td style=\"text-align:right;\"> 1.1516209 </td>\n",
       "   <td style=\"text-align:right;\"> 0.0817219 </td>\n",
       "   <td style=\"text-align:right;\"> 0.1037843 </td>\n",
       "   <td style=\"text-align:right;\"> 0.6602564 </td>\n",
       "   <td style=\"text-align:right;\"> 0.6089744 </td>\n",
       "   <td style=\"text-align:left;\"> chr1:1120000-1240000 </td>\n",
       "   <td style=\"text-align:right;\"> 120000 </td>\n",
       "  </tr>\n",
       "  <tr>\n",
       "   <td style=\"text-align:left;\"> chr1 </td>\n",
       "   <td style=\"text-align:right;\"> 1940000 </td>\n",
       "   <td style=\"text-align:right;\"> 2040000 </td>\n",
       "   <td style=\"text-align:left;\"> chr1 </td>\n",
       "   <td style=\"text-align:right;\"> 1940000 </td>\n",
       "   <td style=\"text-align:right;\"> 2040000 </td>\n",
       "   <td style=\"text-align:left;\"> . </td>\n",
       "   <td style=\"text-align:left;\"> . </td>\n",
       "   <td style=\"text-align:left;\"> . </td>\n",
       "   <td style=\"text-align:left;\"> . </td>\n",
       "   <td style=\"text-align:right;\"> 2552550 </td>\n",
       "   <td style=\"text-align:right;\"> 1.2914074 </td>\n",
       "   <td style=\"text-align:right;\"> 0.1206491 </td>\n",
       "   <td style=\"text-align:right;\"> 0.0732068 </td>\n",
       "   <td style=\"text-align:right;\"> 0.6818182 </td>\n",
       "   <td style=\"text-align:right;\"> 0.6818182 </td>\n",
       "   <td style=\"text-align:left;\"> chr1:1940000-2040000 </td>\n",
       "   <td style=\"text-align:right;\"> 100000 </td>\n",
       "  </tr>\n",
       "  <tr>\n",
       "   <td style=\"text-align:left;\"> chr1 </td>\n",
       "   <td style=\"text-align:right;\"> 2205000 </td>\n",
       "   <td style=\"text-align:right;\"> 2310000 </td>\n",
       "   <td style=\"text-align:left;\"> chr1 </td>\n",
       "   <td style=\"text-align:right;\"> 2205000 </td>\n",
       "   <td style=\"text-align:right;\"> 2310000 </td>\n",
       "   <td style=\"text-align:left;\"> . </td>\n",
       "   <td style=\"text-align:left;\"> . </td>\n",
       "   <td style=\"text-align:left;\"> . </td>\n",
       "   <td style=\"text-align:left;\"> . </td>\n",
       "   <td style=\"text-align:right;\"> 2552550 </td>\n",
       "   <td style=\"text-align:right;\"> 0.9176018 </td>\n",
       "   <td style=\"text-align:right;\"> 0.0864835 </td>\n",
       "   <td style=\"text-align:right;\"> 0.0742821 </td>\n",
       "   <td style=\"text-align:right;\"> 0.5513372 </td>\n",
       "   <td style=\"text-align:right;\"> 0.5235595 </td>\n",
       "   <td style=\"text-align:left;\"> chr1:2205000-2310000 </td>\n",
       "   <td style=\"text-align:right;\"> 105000 </td>\n",
       "  </tr>\n",
       "  <tr>\n",
       "   <td style=\"text-align:left;\"> chr1 </td>\n",
       "   <td style=\"text-align:right;\"> 2410000 </td>\n",
       "   <td style=\"text-align:right;\"> 2525000 </td>\n",
       "   <td style=\"text-align:left;\"> chr1 </td>\n",
       "   <td style=\"text-align:right;\"> 2410000 </td>\n",
       "   <td style=\"text-align:right;\"> 2525000 </td>\n",
       "   <td style=\"text-align:left;\"> . </td>\n",
       "   <td style=\"text-align:left;\"> . </td>\n",
       "   <td style=\"text-align:left;\"> . </td>\n",
       "   <td style=\"text-align:left;\"> . </td>\n",
       "   <td style=\"text-align:right;\"> 2552550 </td>\n",
       "   <td style=\"text-align:right;\"> 1.1805713 </td>\n",
       "   <td style=\"text-align:right;\"> 0.0992426 </td>\n",
       "   <td style=\"text-align:right;\"> 0.1005837 </td>\n",
       "   <td style=\"text-align:right;\"> 0.7430556 </td>\n",
       "   <td style=\"text-align:right;\"> 0.5069444 </td>\n",
       "   <td style=\"text-align:left;\"> chr1:2410000-2525000 </td>\n",
       "   <td style=\"text-align:right;\"> 115000 </td>\n",
       "  </tr>\n",
       "  <tr>\n",
       "   <td style=\"text-align:left;\"> chr1 </td>\n",
       "   <td style=\"text-align:right;\"> 2820000 </td>\n",
       "   <td style=\"text-align:right;\"> 3430000 </td>\n",
       "   <td style=\"text-align:left;\"> chr1 </td>\n",
       "   <td style=\"text-align:right;\"> 2820000 </td>\n",
       "   <td style=\"text-align:right;\"> 3430000 </td>\n",
       "   <td style=\"text-align:left;\"> . </td>\n",
       "   <td style=\"text-align:left;\"> . </td>\n",
       "   <td style=\"text-align:left;\"> . </td>\n",
       "   <td style=\"text-align:left;\"> . </td>\n",
       "   <td style=\"text-align:right;\"> 2552550 </td>\n",
       "   <td style=\"text-align:right;\"> 0.8683581 </td>\n",
       "   <td style=\"text-align:right;\"> 0.3776343 </td>\n",
       "   <td style=\"text-align:right;\"> 0.3330414 </td>\n",
       "   <td style=\"text-align:right;\"> 0.5698043 </td>\n",
       "   <td style=\"text-align:right;\"> 0.6123744 </td>\n",
       "   <td style=\"text-align:left;\"> chr1:2820000-3430000 </td>\n",
       "   <td style=\"text-align:right;\"> 610000 </td>\n",
       "  </tr>\n",
       "  <tr>\n",
       "   <td style=\"text-align:left;\"> chr1 </td>\n",
       "   <td style=\"text-align:right;\"> 3490000 </td>\n",
       "   <td style=\"text-align:right;\"> 3620000 </td>\n",
       "   <td style=\"text-align:left;\"> chr1 </td>\n",
       "   <td style=\"text-align:right;\"> 3490000 </td>\n",
       "   <td style=\"text-align:right;\"> 3620000 </td>\n",
       "   <td style=\"text-align:left;\"> . </td>\n",
       "   <td style=\"text-align:left;\"> . </td>\n",
       "   <td style=\"text-align:left;\"> . </td>\n",
       "   <td style=\"text-align:left;\"> . </td>\n",
       "   <td style=\"text-align:right;\"> 2552550 </td>\n",
       "   <td style=\"text-align:right;\"> 1.0455175 </td>\n",
       "   <td style=\"text-align:right;\"> 0.1256210 </td>\n",
       "   <td style=\"text-align:right;\"> 0.0735656 </td>\n",
       "   <td style=\"text-align:right;\"> 0.5329670 </td>\n",
       "   <td style=\"text-align:right;\"> 0.6758242 </td>\n",
       "   <td style=\"text-align:left;\"> chr1:3490000-3620000 </td>\n",
       "   <td style=\"text-align:right;\"> 130000 </td>\n",
       "  </tr>\n",
       "</tbody>\n",
       "</table>"
      ]
     },
     "metadata": {},
     "output_type": "display_data"
    }
   ],
   "source": [
    "### set file path\n",
    "txt_folder = TXT_FOLDER_REGION\n",
    "txt_fdiry  = file.path(FD_RES, \"region\", txt_folder, \"summary\")\n",
    "txt_fname = \"K562.hg38.hic_intact.TAD.tsv\"\n",
    "txt_fpath = file.path(txt_fdiry, txt_fname)\n",
    "\n",
    "### read table\n",
    "dat = read_tsv(txt_fpath, show_col_types = FALSE)\n",
    "\n",
    "### assign and show\n",
    "dat_region_import = dat\n",
    "fun_display_table(head(dat))"
   ]
  },
  {
   "cell_type": "markdown",
   "id": "e51a73b9-d24d-430d-b52e-9766c1662479",
   "metadata": {},
   "source": [
    "## Explore data"
   ]
  },
  {
   "cell_type": "markdown",
   "id": "bcc8b348-1a48-4f6c-9aee-ee7d12b53a14",
   "metadata": {},
   "source": [
    "### TAD Size"
   ]
  },
  {
   "cell_type": "markdown",
   "id": "f8732105-7cc9-4339-a453-886bdced0bf2",
   "metadata": {},
   "source": [
    "**Summary**"
   ]
  },
  {
   "cell_type": "code",
   "execution_count": 7,
   "id": "443e324e-e7cd-4c8d-a434-0a232e5c148d",
   "metadata": {},
   "outputs": [
    {
     "data": {
      "text/plain": [
       "\n",
       "  60000   65000   70000   75000   80000   85000   90000   95000   1e+05  105000 \n",
       "     47      47     167     186     257     172     254     182     208     174 \n",
       " 110000  115000  120000  125000  130000  135000  140000  145000  150000  155000 \n",
       "    167     149     128     108     121      99     108      89      79      74 \n",
       " 160000  165000  170000  175000  180000  185000  190000  195000   2e+05  205000 \n",
       "     76      68      58      49      50      38      42      33      31      19 \n",
       " 210000  215000  220000  225000  230000  235000  240000  245000  250000  255000 \n",
       "     24      18      20      12      13      14      13       6      13       6 \n",
       " 260000  265000  270000  275000  280000  285000  290000  295000   3e+05  305000 \n",
       "     12       5       4       5       5       6       4       6       5      26 \n",
       " 310000  315000  320000  325000  330000  335000  340000  345000  350000  355000 \n",
       "     30      22      36      14      30      16      22      23      21      20 \n",
       " 360000  365000  370000  375000  380000  385000  390000  395000   4e+05  405000 \n",
       "     17      25      16       8      15      14       5      13      16      12 \n",
       " 410000  415000  420000  425000  430000  435000  440000  445000  450000  455000 \n",
       "     14      10       8       3      12       8       6       9       8      10 \n",
       " 460000  465000  470000  475000  480000  485000  490000  495000   5e+05  505000 \n",
       "     10       9       7       6      12       4      13      11       3       4 \n",
       " 510000  515000  520000  525000  530000  535000  540000  545000  550000  555000 \n",
       "      1       5       8       7       8       7       7       6       5       5 \n",
       " 560000  565000  570000  575000  580000  585000  590000  595000   6e+05  605000 \n",
       "      7       5       5       4       5       1       7       3       7       4 \n",
       " 610000  615000  620000  625000  630000  635000  640000  645000  650000  655000 \n",
       "      5       4       1       4       3       4       3       6       7       6 \n",
       " 660000  665000  670000  680000  685000  690000  695000   7e+05  705000  720000 \n",
       "      1       2       2       3       2       2       3       4       3       6 \n",
       " 725000  730000  735000  740000  745000  750000  755000  760000  765000  770000 \n",
       "      2       2       2       1       1       3       1       4       2       2 \n",
       " 775000  780000  790000  795000  805000  810000  815000  820000  830000  835000 \n",
       "      3       1       1       2       2       1       2       1       2       4 \n",
       " 845000  860000  875000  880000  885000  890000  895000   9e+05  905000  915000 \n",
       "      1       1       1       2       1       3       1       1       1       1 \n",
       " 920000  930000  935000  940000  945000  950000  955000  960000  965000  980000 \n",
       "      5       2       3       2       1       2       1       1       1       1 \n",
       " 990000 1010000 1040000 1050000 1055000 1060000 1070000 1080000 1085000 1090000 \n",
       "      1       1       1       1       1       1       1       1       1       4 \n",
       "1100000 1105000 1110000 1125000 1130000 1135000 1145000 1160000 1175000 1205000 \n",
       "      1       2       1       1       2       1       1       1       1       1 \n",
       "1215000 1230000 1260000 1270000 1290000 1320000 1365000 1375000 1385000 1400000 \n",
       "      1       1       1       2       2       1       1       1       1       3 \n",
       "1410000 1420000 1430000 1445000 1545000 1555000 1560000 1565000 1610000 1615000 \n",
       "      1       1       1       1       1       1       1       1       1       1 \n",
       "1640000 1690000 1815000 1840000 1890000 1910000 1980000 2010000 2165000 2255000 \n",
       "      1       1       1       1       1       1       1       1       1       1 \n",
       "2605000 \n",
       "      1 "
      ]
     },
     "metadata": {},
     "output_type": "display_data"
    }
   ],
   "source": [
    "dat = dat_region_import\n",
    "res = table(dat$Size)\n",
    "res"
   ]
  },
  {
   "cell_type": "markdown",
   "id": "aba8e9b6-a811-4e3e-828b-aa2283d9cb7d",
   "metadata": {},
   "source": [
    "**Plot distribution**"
   ]
  },
  {
   "cell_type": "code",
   "execution_count": 8,
   "id": "0cbc3cd7-06c0-41e6-9810-e1f73abdccbe",
   "metadata": {},
   "outputs": [
    {
     "data": {
      "image/png": "[encoded data removed]",
      "text/plain": [
       "plot without title"
      ]
     },
     "metadata": {
      "image/png": {
       "height": 300,
       "width": 420
      }
     },
     "output_type": "display_data"
    }
   ],
   "source": [
    "dat = dat_region_import\n",
    "\n",
    "gpt = ggplot(dat, aes(x=Size/1000)) +\n",
    "    geom_histogram(bins=100) +\n",
    "    theme_cowplot() +\n",
    "    background_grid() +\n",
    "    labs(x=\"Size (kb)\", y=\"Count\")\n",
    "\n",
    "options(repr.plot.height=5, repr.plot.width=7)\n",
    "print(gpt)"
   ]
  },
  {
   "cell_type": "markdown",
   "id": "dcbcc5c2-b1ee-4246-ae42-f2847c5c1f7d",
   "metadata": {},
   "source": [
    "### Domain Score"
   ]
  },
  {
   "cell_type": "markdown",
   "id": "6c4ec724-ad68-46c3-b09b-0176e0c0eee5",
   "metadata": {},
   "source": [
    "**Summary**"
   ]
  },
  {
   "cell_type": "code",
   "execution_count": 9,
   "id": "55a2f43f-d086-41d7-8240-9db66380ab64",
   "metadata": {},
   "outputs": [
    {
     "data": {
      "text/plain": [
       "   Min. 1st Qu.  Median    Mean 3rd Qu.    Max. \n",
       " 0.1941  0.9900  1.1484  1.1617  1.3397  1.8730 "
      ]
     },
     "metadata": {},
     "output_type": "display_data"
    }
   ],
   "source": [
    "dat = dat_region_import\n",
    "summary(dat$DomainScore)"
   ]
  },
  {
   "cell_type": "markdown",
   "id": "1e2f2bd7-e2d0-4b57-bd61-d2e3e9352c02",
   "metadata": {},
   "source": [
    "**Plot distribution**"
   ]
  },
  {
   "cell_type": "code",
   "execution_count": 10,
   "id": "ad516be3-a12a-48f6-8c3e-4769676a208e",
   "metadata": {},
   "outputs": [
    {
     "data": {
      "image/png": "[encoded data removed]",
      "text/plain": [
       "plot without title"
      ]
     },
     "metadata": {
      "image/png": {
       "height": 360,
       "width": 420
      }
     },
     "output_type": "display_data"
    }
   ],
   "source": [
    "dat = dat_region_import\n",
    "gpt = ggplot(dat, aes(x=DomainScore)) + \n",
    "    geom_histogram(bins=70) +\n",
    "    theme_cowplot() +\n",
    "    background_grid() +\n",
    "    labs(x=\"Score\", y = \"Count\", title = \"Hi-C domain score\")\n",
    "\n",
    "options(repr.plot.height=6, repr.plot.width=7)\n",
    "print(gpt)"
   ]
  },
  {
   "cell_type": "code",
   "execution_count": 11,
   "id": "33b07174-3cdd-4612-95a6-9f9661de9285",
   "metadata": {},
   "outputs": [
    {
     "data": {
      "image/png": "[encoded data removed]",
      "text/plain": [
       "plot without title"
      ]
     },
     "metadata": {
      "image/png": {
       "height": 360,
       "width": 420
      }
     },
     "output_type": "display_data"
    }
   ],
   "source": [
    "dat = dat_region_import\n",
    "gpt = ggplot(dat, aes(x=Size/1000, y=DomainScore)) + \n",
    "    geom_point() +\n",
    "    theme_cowplot() +\n",
    "    background_grid() +\n",
    "    labs(x=\"Size (kb)\", y = \"Domain Score\", title = \"Hi-C domain score vs size\")\n",
    "\n",
    "options(repr.plot.height=6, repr.plot.width=7)\n",
    "print(gpt)"
   ]
  },
  {
   "cell_type": "code",
   "execution_count": null,
   "id": "b98ba661-cec7-48e6-b855-cbe0fc501ca5",
   "metadata": {},
   "outputs": [],
   "source": []
  }
 ],
 "metadata": {
  "kernelspec": {
   "display_name": "R",
   "language": "R",
   "name": "ir"
  },
  "language_info": {
   "codemirror_mode": "r",
   "file_extension": ".r",
   "mimetype": "text/x-r-source",
   "name": "R",
   "pygments_lexer": "r",
   "version": "4.4.2"
  }
 },
 "nbformat": 4,
 "nbformat_minor": 5
}
