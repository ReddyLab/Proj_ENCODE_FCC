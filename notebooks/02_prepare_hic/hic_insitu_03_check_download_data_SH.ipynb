{
 "cells": [
  {
   "cell_type": "raw",
   "id": "87a50293-24d0-4df4-8364-04994b33e7c8",
   "metadata": {},
   "source": [
    "---\n",
    "title: Prepare Hi-C data 03 (in situ Hi-C)\n",
    "subtitle: Check downloaded data\n",
    "format:\n",
    "    html:\n",
    "        code-fold:  true\n",
    "        code-tools: true\n",
    "---"
   ]
  },
  {
   "cell_type": "markdown",
   "id": "6a2bc3c5-27f0-4ab4-a1bf-ef3b9b02e9f9",
   "metadata": {},
   "source": [
    "**set environment**"
   ]
  },
  {
   "cell_type": "code",
   "execution_count": 1,
   "id": "0a39acfb-cd2c-47be-aa65-07eff738bfb4",
   "metadata": {},
   "outputs": [
    {
     "name": "stdout",
     "output_type": "stream",
     "text": [
      "You are working on             Duke Server: RCC\n",
      "BASE DIRECTORY (FD_BASE):      /data/reddylab/Kuei\n",
      "REPO DIRECTORY (FD_REPO):      /data/reddylab/Kuei/repo\n",
      "WORK DIRECTORY (FD_WORK):      /data/reddylab/Kuei/work\n",
      "DATA DIRECTORY (FD_DATA):      /data/reddylab/Kuei/data\n",
      "CONTAINER DIR. (FD_SING):      /data/reddylab/Kuei/container\n",
      "\n",
      "You are working with           ENCODE FCC\n",
      "PATH OF PROJECT (FD_PRJ):      /data/reddylab/Kuei/repo/Proj_ENCODE_FCC\n",
      "PROJECT RESULTS (FD_RES):      /data/reddylab/Kuei/repo/Proj_ENCODE_FCC/results\n",
      "PROJECT SCRIPTS (FD_EXE):      /data/reddylab/Kuei/repo/Proj_ENCODE_FCC/scripts\n",
      "PROJECT DATA    (FD_DAT):      /data/reddylab/Kuei/repo/Proj_ENCODE_FCC/data\n",
      "PROJECT NOTE    (FD_NBK):      /data/reddylab/Kuei/repo/Proj_ENCODE_FCC/notebooks\n",
      "PROJECT DOCS    (FD_DOC):      /data/reddylab/Kuei/repo/Proj_ENCODE_FCC/docs\n",
      "PROJECT LOG     (FD_LOG):      /data/reddylab/Kuei/repo/Proj_ENCODE_FCC/log\n",
      "PROJECT REF     (FD_REF):      /data/reddylab/Kuei/repo/Proj_ENCODE_FCC/references\n",
      "PROJECT IMAGE   (FP_PRJ_SIF):  /data/reddylab/Kuei/container/project/singularity_proj_encode_fcc.sif\n",
      "PROJECT CONF.   (FP_CNF):      /data/reddylab/Kuei/repo/Proj_ENCODE_FCC/scripts/config_project.sh\n",
      "\n"
     ]
    }
   ],
   "source": [
    "source ../run_config_project.sh\n",
    "show_env"
   ]
  },
  {
   "cell_type": "markdown",
   "id": "bac3a0ff-94a1-4f51-8476-350964dc20c7",
   "metadata": {},
   "source": [
    "**Set global variable**"
   ]
  },
  {
   "cell_type": "code",
   "execution_count": 2,
   "id": "e0694716-3878-48a0-b576-33744d391956",
   "metadata": {},
   "outputs": [],
   "source": [
    "TXT_FOLDER=hic_insitu_K562_ENCSR545YBD"
   ]
  },
  {
   "cell_type": "markdown",
   "id": "7dd3713a-e6f2-4bd6-9918-93428761cd0e",
   "metadata": {},
   "source": [
    "## View data"
   ]
  },
  {
   "cell_type": "code",
   "execution_count": 5,
   "id": "9a1c1cf2-81eb-4c01-a7ce-ccaef8421710",
   "metadata": {},
   "outputs": [
    {
     "name": "stdout",
     "output_type": "stream",
     "text": [
      "/data/reddylab/Kuei/repo/Proj_ENCODE_FCC/data/external/hic_insitu_K562_ENCSR545YBD\n",
      "total 22G\n",
      "296K \u001b[0m\u001b[01;31mK562.hg38.ENCSR545YBD.ENCFF271SAF.hic_insitu.contact_domain.bedpe.gz\u001b[0m\n",
      " 22G K562.hg38.ENCSR545YBD.ENCFF616PUW.hic_insitu.matrix.hic\n",
      "880K \u001b[01;31mK562.hg38.ENCSR545YBD.ENCFF693XIL.hic_insitu.loop.bedpe.gz\u001b[0m\n",
      " 34M run_download.log.txt\n",
      "4.0K \u001b[01;32mrun_download.sh\u001b[0m\n"
     ]
    }
   ],
   "source": [
    "FDIRY=${FD_DAT}/external/${TXT_FOLDER}\n",
    "\n",
    "echo   ${FDIRY}\n",
    "ls -hs ${FDIRY}"
   ]
  },
  {
   "cell_type": "markdown",
   "id": "9d89388b-9e12-4485-868d-134da95eebdc",
   "metadata": {},
   "source": [
    "**Hi-C loop calls**"
   ]
  },
  {
   "cell_type": "code",
   "execution_count": 10,
   "id": "3f584205-9827-4bbe-be7f-e70963881a09",
   "metadata": {},
   "outputs": [
    {
     "name": "stdout",
     "output_type": "stream",
     "text": [
      "#chr1\tx1\tx2\tchr2\ty1\ty2\tname\tscore\tstrand1\tstrand2\tcolor\tobserved\texpectedBL\texpectedDonut\texpectedH\texpectedV\tfdrBL\tfdrDonut\tfdrH\tfdrV\tnumCollapsed\tcentroid1\tcentroid2\tradius\n",
      "# juicer_tools version 2.13.06\n",
      "chr10\t34010000\t34020000\tchr10\t35050000\t35060000\t.\t.\t.\t.\t0,255,255\t25.0\t6.6749783\t6.117001\t6.028173\t4.855595\t0.0036679406\t3.0621103E-4\t3.4923825E-4\t6.161639E-6\t1\t34015000\t35055000\t0\n",
      "chr10\t124000000\t124005000\tchr10\t124380000\t124385000\t.\t.\t.\t.\t0,255,255\t38.0\t13.690522\t14.195029\t18.101181\t18.336344\t0.0022106771\t0.0023932518\t0.058508653\t0.059743028\t3\t123997500\t124387500\t7071\n",
      "chr10\t133330000\t133335000\tchr10\t133495000\t133500000\t.\t.\t.\t.\t0,255,255\t39.0\t14.323421\t15.468441\t18.856985\t18.800962\t0.0011134844\t0.0011820481\t0.037496306\t0.038466662\t2\t133330000\t133500000\t3536\n"
     ]
    }
   ],
   "source": [
    "FDIRY=${FD_DAT}/external/${TXT_FOLDER}\n",
    "FNAME=K562.hg38.ENCSR545YBD.ENCFF693XIL.hic_insitu.loop.bedpe.gz\n",
    "FPATH=${FDIRY}/${FNAME}\n",
    "\n",
    "zcat ${FPATH} | head -5"
   ]
  },
  {
   "cell_type": "markdown",
   "id": "e4a6fe3d-c693-49e7-856f-0bc775ddb93c",
   "metadata": {},
   "source": [
    "**Hi-C TAD calls**"
   ]
  },
  {
   "cell_type": "code",
   "execution_count": 9,
   "id": "4e425dc9-60c0-4699-8501-f844a5be6a37",
   "metadata": {},
   "outputs": [
    {
     "name": "stdout",
     "output_type": "stream",
     "text": [
      "#chr1\tx1\tx2\tchr2\ty1\ty2\tname\tscore\tstrand1\tstrand2\tcolor\tscore\tuVarScore\tlVarScore\tupSign\tloSign\n",
      "# juicer_tools version 2.13.06\n",
      "chr10\t84565000\t86085000\tchr10\t84565000\t86085000\t.\t.\t.\t.\t255,255,0\t0.797322669093712\t0.36036680286901346\t0.34029928924052977\t0.44465944272445823\t0.547858617131063\n",
      "chr10\t50985000\t52225000\tchr10\t50985000\t52225000\t.\t.\t.\t.\t255,255,0\t1.0083018408826874\t0.3171058429109649\t0.34772601741376474\t0.5433548387096774\t0.4545161290322581\n",
      "chr10\t98415000\t99300000\tchr10\t98415000\t99300000\t.\t.\t.\t.\t255,255,0\t0.6516994003966435\t0.2746901933484111\t0.28586117952993195\t0.4402221941674031\t0.6153263476833734\n"
     ]
    }
   ],
   "source": [
    "FDIRY=${FD_DAT}/external/${TXT_FOLDER}\n",
    "FNAME=K562.hg38.ENCSR545YBD.ENCFF271SAF.hic_insitu.contact_domain.bedpe.gz\n",
    "FPATH=${FDIRY}/${FNAME}\n",
    "\n",
    "zcat ${FPATH} | head -5"
   ]
  },
  {
   "cell_type": "code",
   "execution_count": null,
   "id": "a0148b9a-6eea-4945-8d02-592d56592ec0",
   "metadata": {},
   "outputs": [],
   "source": []
  }
 ],
 "metadata": {
  "kernelspec": {
   "display_name": "Bash",
   "language": "bash",
   "name": "bash"
  },
  "language_info": {
   "codemirror_mode": "shell",
   "file_extension": ".sh",
   "mimetype": "text/x-sh",
   "name": "bash"
  }
 },
 "nbformat": 4,
 "nbformat_minor": 5
}
