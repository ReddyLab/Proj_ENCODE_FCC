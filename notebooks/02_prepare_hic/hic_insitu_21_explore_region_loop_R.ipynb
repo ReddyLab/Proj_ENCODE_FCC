{
 "cells": [
  {
   "cell_type": "raw",
   "id": "a7f54252-b65e-40f0-b89a-22ac740dc6a3",
   "metadata": {},
   "source": [
    "---\n",
    "title: Prepare Hi-C data 21 (in situ Hi-C)\n",
    "subtitle: Explore data (Loop)\n",
    "format:\n",
    "    html:\n",
    "        code-fold:  true\n",
    "        code-tools: true\n",
    "---"
   ]
  },
  {
   "cell_type": "markdown",
   "id": "9550ef84-2625-44d7-a9b9-a6e8c1c4e655",
   "metadata": {},
   "source": [
    "**Set environment**"
   ]
  },
  {
   "cell_type": "code",
   "execution_count": 1,
   "id": "1ee7dcd2-79e3-4e98-bb3f-4c5ba62746db",
   "metadata": {
    "tags": []
   },
   "outputs": [
    {
     "name": "stdout",
     "output_type": "stream",
     "text": [
      "You are working on        Singularity: singularity_proj_encode_fcc \n",
      "BASE DIRECTORY (FD_BASE): /data/reddylab/Kuei \n",
      "REPO DIRECTORY (FD_REPO): /data/reddylab/Kuei/repo \n",
      "WORK DIRECTORY (FD_WORK): /data/reddylab/Kuei/work \n",
      "DATA DIRECTORY (FD_DATA): /data/reddylab/Kuei/data \n",
      "\n",
      "You are working with      ENCODE FCC \n",
      "PATH OF PROJECT (FD_PRJ): /data/reddylab/Kuei/repo/Proj_ENCODE_FCC \n",
      "PROJECT RESULTS (FD_RES): /data/reddylab/Kuei/repo/Proj_ENCODE_FCC/results \n",
      "PROJECT SCRIPTS (FD_EXE): /data/reddylab/Kuei/repo/Proj_ENCODE_FCC/scripts \n",
      "PROJECT DATA    (FD_DAT): /data/reddylab/Kuei/repo/Proj_ENCODE_FCC/data \n",
      "PROJECT NOTE    (FD_NBK): /data/reddylab/Kuei/repo/Proj_ENCODE_FCC/notebooks \n",
      "PROJECT DOCS    (FD_DOC): /data/reddylab/Kuei/repo/Proj_ENCODE_FCC/docs \n",
      "PROJECT LOG     (FD_LOG): /data/reddylab/Kuei/repo/Proj_ENCODE_FCC/log \n",
      "PROJECT REF     (FD_REF): /data/reddylab/Kuei/repo/Proj_ENCODE_FCC/references \n",
      "\n"
     ]
    }
   ],
   "source": [
    "suppressMessages(suppressWarnings(source(\"../run_config_project_sing.R\")))\n",
    "show_env()"
   ]
  },
  {
   "cell_type": "markdown",
   "id": "acc1f0a3-3da6-4907-8de5-5c1a57149e92",
   "metadata": {},
   "source": [
    "**Set global variables**"
   ]
  },
  {
   "cell_type": "code",
   "execution_count": 2,
   "id": "c40a4b0d-887f-4602-bc33-26bf79b89b30",
   "metadata": {},
   "outputs": [],
   "source": [
    "TXT_FOLDER_REGION = \"hic_insitu_K562_ENCSR545YBD\""
   ]
  },
  {
   "cell_type": "markdown",
   "id": "ccca6c21-479d-42d8-a824-f8124673bfdf",
   "metadata": {
    "tags": []
   },
   "source": [
    "## Import data"
   ]
  },
  {
   "cell_type": "markdown",
   "id": "9ff9671e-1fde-4071-a094-449940ee646c",
   "metadata": {},
   "source": [
    "**View files**"
   ]
  },
  {
   "cell_type": "code",
   "execution_count": 3,
   "id": "87cd2e6f-967f-48ea-83f8-a2403f54ac41",
   "metadata": {},
   "outputs": [
    {
     "name": "stdout",
     "output_type": "stream",
     "text": [
      "K562.hg38.hic_insitu.Loop_A.bed.gz \n",
      "K562.hg38.hic_insitu.Loop_B.bed.gz \n",
      "K562.hg38.hic_insitu.TAD.bed.gz \n",
      "summary \n"
     ]
    }
   ],
   "source": [
    "txt_folder = TXT_FOLDER_REGION\n",
    "txt_fdiry  = file.path(FD_RES, \"region\", txt_folder)\n",
    "\n",
    "vec = dir(txt_fdiry)\n",
    "for (txt in vec){cat(txt, \"\\n\")}"
   ]
  },
  {
   "cell_type": "code",
   "execution_count": 4,
   "id": "738fc111-8ae5-43d7-bab9-ea9454d79e56",
   "metadata": {},
   "outputs": [
    {
     "name": "stdout",
     "output_type": "stream",
     "text": [
      "description.tsv \n",
      "K562.hg38.hic_insitu.Loop.tsv \n",
      "K562.hg38.hic_insitu.TAD.tsv \n",
      "metadata.label.tsv \n"
     ]
    }
   ],
   "source": [
    "txt_folder = TXT_FOLDER_REGION\n",
    "txt_fdiry  = file.path(FD_RES, \"region\", txt_folder, \"summary\")\n",
    "\n",
    "vec = dir(txt_fdiry)\n",
    "for (txt in vec){cat(txt, \"\\n\")}"
   ]
  },
  {
   "cell_type": "markdown",
   "id": "8ed0076d-925b-4300-8be3-ea77aa543617",
   "metadata": {},
   "source": [
    "**Read data**"
   ]
  },
  {
   "cell_type": "code",
   "execution_count": 5,
   "id": "12e98416-97ba-4c84-b8b8-bede4e0ceb87",
   "metadata": {},
   "outputs": [
    {
     "data": {
      "text/html": [
       "<table>\n",
       " <thead>\n",
       "  <tr>\n",
       "   <th style=\"text-align:left;\"> Chrom_A </th>\n",
       "   <th style=\"text-align:right;\"> ChromStart_A </th>\n",
       "   <th style=\"text-align:right;\"> ChromEnd_A </th>\n",
       "   <th style=\"text-align:left;\"> Chrom_B </th>\n",
       "   <th style=\"text-align:right;\"> ChromStart_B </th>\n",
       "   <th style=\"text-align:right;\"> ChromEnd_B </th>\n",
       "   <th style=\"text-align:left;\"> Name </th>\n",
       "   <th style=\"text-align:left;\"> Score </th>\n",
       "   <th style=\"text-align:left;\"> Strand_A </th>\n",
       "   <th style=\"text-align:left;\"> Strand_B </th>\n",
       "   <th style=\"text-align:left;\"> Color </th>\n",
       "   <th style=\"text-align:right;\"> Observed </th>\n",
       "   <th style=\"text-align:right;\"> ExpectedBL </th>\n",
       "   <th style=\"text-align:right;\"> ExpectedDonut </th>\n",
       "   <th style=\"text-align:right;\"> ExpectedH </th>\n",
       "   <th style=\"text-align:right;\"> ExpectedV </th>\n",
       "   <th style=\"text-align:right;\"> FdrBL </th>\n",
       "   <th style=\"text-align:right;\"> FdrDonut </th>\n",
       "   <th style=\"text-align:right;\"> FdrH </th>\n",
       "   <th style=\"text-align:right;\"> FdrV </th>\n",
       "   <th style=\"text-align:right;\"> NumCollapsed </th>\n",
       "   <th style=\"text-align:right;\"> Centroid_A </th>\n",
       "   <th style=\"text-align:right;\"> Centroid_B </th>\n",
       "   <th style=\"text-align:right;\"> Radius </th>\n",
       "   <th style=\"text-align:right;\"> Length_A </th>\n",
       "   <th style=\"text-align:right;\"> Length_B </th>\n",
       "   <th style=\"text-align:right;\"> Size </th>\n",
       "   <th style=\"text-align:left;\"> Region_A </th>\n",
       "   <th style=\"text-align:left;\"> Region_B </th>\n",
       "   <th style=\"text-align:right;\"> Distance </th>\n",
       "  </tr>\n",
       " </thead>\n",
       "<tbody>\n",
       "  <tr>\n",
       "   <td style=\"text-align:left;\"> chr1 </td>\n",
       "   <td style=\"text-align:right;\"> 230000 </td>\n",
       "   <td style=\"text-align:right;\"> 235000 </td>\n",
       "   <td style=\"text-align:left;\"> chr1 </td>\n",
       "   <td style=\"text-align:right;\"> 825000 </td>\n",
       "   <td style=\"text-align:right;\"> 830000 </td>\n",
       "   <td style=\"text-align:left;\"> chr1:230000-235000|chr1:825000-830000 </td>\n",
       "   <td style=\"text-align:left;\"> . </td>\n",
       "   <td style=\"text-align:left;\"> . </td>\n",
       "   <td style=\"text-align:left;\"> . </td>\n",
       "   <td style=\"text-align:left;\"> 0,255,255 </td>\n",
       "   <td style=\"text-align:right;\"> 15 </td>\n",
       "   <td style=\"text-align:right;\"> 0.1938882 </td>\n",
       "   <td style=\"text-align:right;\"> 0.1299357 </td>\n",
       "   <td style=\"text-align:right;\"> 0.1660875 </td>\n",
       "   <td style=\"text-align:right;\"> 0.1477586 </td>\n",
       "   <td style=\"text-align:right;\"> 2.63e-05 </td>\n",
       "   <td style=\"text-align:right;\"> 6.21e-05 </td>\n",
       "   <td style=\"text-align:right;\"> 0.0000437 </td>\n",
       "   <td style=\"text-align:right;\"> 0.0000489 </td>\n",
       "   <td style=\"text-align:right;\"> 2 </td>\n",
       "   <td style=\"text-align:right;\"> 232500 </td>\n",
       "   <td style=\"text-align:right;\"> 825000 </td>\n",
       "   <td style=\"text-align:right;\"> 2500 </td>\n",
       "   <td style=\"text-align:right;\"> 5000 </td>\n",
       "   <td style=\"text-align:right;\"> 5000 </td>\n",
       "   <td style=\"text-align:right;\"> 5000 </td>\n",
       "   <td style=\"text-align:left;\"> chr1:230000-235000 </td>\n",
       "   <td style=\"text-align:left;\"> chr1:825000-830000 </td>\n",
       "   <td style=\"text-align:right;\"> 592500 </td>\n",
       "  </tr>\n",
       "  <tr>\n",
       "   <td style=\"text-align:left;\"> chr1 </td>\n",
       "   <td style=\"text-align:right;\"> 315000 </td>\n",
       "   <td style=\"text-align:right;\"> 320000 </td>\n",
       "   <td style=\"text-align:left;\"> chr1 </td>\n",
       "   <td style=\"text-align:right;\"> 840000 </td>\n",
       "   <td style=\"text-align:right;\"> 845000 </td>\n",
       "   <td style=\"text-align:left;\"> chr1:315000-320000|chr1:840000-845000 </td>\n",
       "   <td style=\"text-align:left;\"> . </td>\n",
       "   <td style=\"text-align:left;\"> . </td>\n",
       "   <td style=\"text-align:left;\"> . </td>\n",
       "   <td style=\"text-align:left;\"> 0,255,255 </td>\n",
       "   <td style=\"text-align:right;\"> 18 </td>\n",
       "   <td style=\"text-align:right;\"> 0.0679354 </td>\n",
       "   <td style=\"text-align:right;\"> 0.3073510 </td>\n",
       "   <td style=\"text-align:right;\"> 0.2349367 </td>\n",
       "   <td style=\"text-align:right;\"> 0.3188750 </td>\n",
       "   <td style=\"text-align:right;\"> 0.00e+00 </td>\n",
       "   <td style=\"text-align:right;\"> 0.00e+00 </td>\n",
       "   <td style=\"text-align:right;\"> 0.0000000 </td>\n",
       "   <td style=\"text-align:right;\"> 0.0000000 </td>\n",
       "   <td style=\"text-align:right;\"> 5 </td>\n",
       "   <td style=\"text-align:right;\"> 317500 </td>\n",
       "   <td style=\"text-align:right;\"> 842500 </td>\n",
       "   <td style=\"text-align:right;\"> 14142 </td>\n",
       "   <td style=\"text-align:right;\"> 5000 </td>\n",
       "   <td style=\"text-align:right;\"> 5000 </td>\n",
       "   <td style=\"text-align:right;\"> 5000 </td>\n",
       "   <td style=\"text-align:left;\"> chr1:315000-320000 </td>\n",
       "   <td style=\"text-align:left;\"> chr1:840000-845000 </td>\n",
       "   <td style=\"text-align:right;\"> 525000 </td>\n",
       "  </tr>\n",
       "  <tr>\n",
       "   <td style=\"text-align:left;\"> chr1 </td>\n",
       "   <td style=\"text-align:right;\"> 375000 </td>\n",
       "   <td style=\"text-align:right;\"> 380000 </td>\n",
       "   <td style=\"text-align:left;\"> chr1 </td>\n",
       "   <td style=\"text-align:right;\"> 820000 </td>\n",
       "   <td style=\"text-align:right;\"> 825000 </td>\n",
       "   <td style=\"text-align:left;\"> chr1:375000-380000|chr1:820000-825000 </td>\n",
       "   <td style=\"text-align:left;\"> . </td>\n",
       "   <td style=\"text-align:left;\"> . </td>\n",
       "   <td style=\"text-align:left;\"> . </td>\n",
       "   <td style=\"text-align:left;\"> 0,255,255 </td>\n",
       "   <td style=\"text-align:right;\"> 20 </td>\n",
       "   <td style=\"text-align:right;\"> 0.3900613 </td>\n",
       "   <td style=\"text-align:right;\"> 0.2977808 </td>\n",
       "   <td style=\"text-align:right;\"> 0.8871883 </td>\n",
       "   <td style=\"text-align:right;\"> 0.6679043 </td>\n",
       "   <td style=\"text-align:right;\"> 0.00e+00 </td>\n",
       "   <td style=\"text-align:right;\"> 0.00e+00 </td>\n",
       "   <td style=\"text-align:right;\"> 0.0000000 </td>\n",
       "   <td style=\"text-align:right;\"> 0.0000000 </td>\n",
       "   <td style=\"text-align:right;\"> 2 </td>\n",
       "   <td style=\"text-align:right;\"> 375000 </td>\n",
       "   <td style=\"text-align:right;\"> 822500 </td>\n",
       "   <td style=\"text-align:right;\"> 2500 </td>\n",
       "   <td style=\"text-align:right;\"> 5000 </td>\n",
       "   <td style=\"text-align:right;\"> 5000 </td>\n",
       "   <td style=\"text-align:right;\"> 5000 </td>\n",
       "   <td style=\"text-align:left;\"> chr1:375000-380000 </td>\n",
       "   <td style=\"text-align:left;\"> chr1:820000-825000 </td>\n",
       "   <td style=\"text-align:right;\"> 447500 </td>\n",
       "  </tr>\n",
       "  <tr>\n",
       "   <td style=\"text-align:left;\"> chr1 </td>\n",
       "   <td style=\"text-align:right;\"> 600000 </td>\n",
       "   <td style=\"text-align:right;\"> 625000 </td>\n",
       "   <td style=\"text-align:left;\"> chr1 </td>\n",
       "   <td style=\"text-align:right;\"> 223875000 </td>\n",
       "   <td style=\"text-align:right;\"> 223900000 </td>\n",
       "   <td style=\"text-align:left;\"> chr1:600000-625000|chr1:223875000-223900000 </td>\n",
       "   <td style=\"text-align:left;\"> . </td>\n",
       "   <td style=\"text-align:left;\"> . </td>\n",
       "   <td style=\"text-align:left;\"> . </td>\n",
       "   <td style=\"text-align:left;\"> 0,255,255 </td>\n",
       "   <td style=\"text-align:right;\"> 17 </td>\n",
       "   <td style=\"text-align:right;\"> 0.6316217 </td>\n",
       "   <td style=\"text-align:right;\"> 0.2068224 </td>\n",
       "   <td style=\"text-align:right;\"> 0.4818782 </td>\n",
       "   <td style=\"text-align:right;\"> 0.4220959 </td>\n",
       "   <td style=\"text-align:right;\"> 0.00e+00 </td>\n",
       "   <td style=\"text-align:right;\"> 0.00e+00 </td>\n",
       "   <td style=\"text-align:right;\"> 0.0000000 </td>\n",
       "   <td style=\"text-align:right;\"> 0.0000000 </td>\n",
       "   <td style=\"text-align:right;\"> 1 </td>\n",
       "   <td style=\"text-align:right;\"> 612500 </td>\n",
       "   <td style=\"text-align:right;\"> 223887500 </td>\n",
       "   <td style=\"text-align:right;\"> 0 </td>\n",
       "   <td style=\"text-align:right;\"> 25000 </td>\n",
       "   <td style=\"text-align:right;\"> 25000 </td>\n",
       "   <td style=\"text-align:right;\"> 25000 </td>\n",
       "   <td style=\"text-align:left;\"> chr1:600000-625000 </td>\n",
       "   <td style=\"text-align:left;\"> chr1:223875000-223900000 </td>\n",
       "   <td style=\"text-align:right;\"> 223275000 </td>\n",
       "  </tr>\n",
       "  <tr>\n",
       "   <td style=\"text-align:left;\"> chr1 </td>\n",
       "   <td style=\"text-align:right;\"> 775000 </td>\n",
       "   <td style=\"text-align:right;\"> 780000 </td>\n",
       "   <td style=\"text-align:left;\"> chr1 </td>\n",
       "   <td style=\"text-align:right;\"> 820000 </td>\n",
       "   <td style=\"text-align:right;\"> 825000 </td>\n",
       "   <td style=\"text-align:left;\"> chr1:775000-780000|chr1:820000-825000 </td>\n",
       "   <td style=\"text-align:left;\"> . </td>\n",
       "   <td style=\"text-align:left;\"> . </td>\n",
       "   <td style=\"text-align:left;\"> . </td>\n",
       "   <td style=\"text-align:left;\"> 0,255,255 </td>\n",
       "   <td style=\"text-align:right;\"> 50 </td>\n",
       "   <td style=\"text-align:right;\"> 11.3413370 </td>\n",
       "   <td style=\"text-align:right;\"> 14.2262980 </td>\n",
       "   <td style=\"text-align:right;\"> 19.7378140 </td>\n",
       "   <td style=\"text-align:right;\"> 21.0899960 </td>\n",
       "   <td style=\"text-align:right;\"> 0.00e+00 </td>\n",
       "   <td style=\"text-align:right;\"> 1.00e-07 </td>\n",
       "   <td style=\"text-align:right;\"> 0.0041471 </td>\n",
       "   <td style=\"text-align:right;\"> 0.0043991 </td>\n",
       "   <td style=\"text-align:right;\"> 1 </td>\n",
       "   <td style=\"text-align:right;\"> 777500 </td>\n",
       "   <td style=\"text-align:right;\"> 822500 </td>\n",
       "   <td style=\"text-align:right;\"> 0 </td>\n",
       "   <td style=\"text-align:right;\"> 5000 </td>\n",
       "   <td style=\"text-align:right;\"> 5000 </td>\n",
       "   <td style=\"text-align:right;\"> 5000 </td>\n",
       "   <td style=\"text-align:left;\"> chr1:775000-780000 </td>\n",
       "   <td style=\"text-align:left;\"> chr1:820000-825000 </td>\n",
       "   <td style=\"text-align:right;\"> 45000 </td>\n",
       "  </tr>\n",
       "  <tr>\n",
       "   <td style=\"text-align:left;\"> chr1 </td>\n",
       "   <td style=\"text-align:right;\"> 775000 </td>\n",
       "   <td style=\"text-align:right;\"> 780000 </td>\n",
       "   <td style=\"text-align:left;\"> chr1 </td>\n",
       "   <td style=\"text-align:right;\"> 223990000 </td>\n",
       "   <td style=\"text-align:right;\"> 223995000 </td>\n",
       "   <td style=\"text-align:left;\"> chr1:775000-780000|chr1:223990000-223995000 </td>\n",
       "   <td style=\"text-align:left;\"> . </td>\n",
       "   <td style=\"text-align:left;\"> . </td>\n",
       "   <td style=\"text-align:left;\"> . </td>\n",
       "   <td style=\"text-align:left;\"> 0,255,255 </td>\n",
       "   <td style=\"text-align:right;\"> 40 </td>\n",
       "   <td style=\"text-align:right;\"> 0.7908701 </td>\n",
       "   <td style=\"text-align:right;\"> 4.7483435 </td>\n",
       "   <td style=\"text-align:right;\"> 0.7729960 </td>\n",
       "   <td style=\"text-align:right;\"> 0.3650999 </td>\n",
       "   <td style=\"text-align:right;\"> 0.00e+00 </td>\n",
       "   <td style=\"text-align:right;\"> 0.00e+00 </td>\n",
       "   <td style=\"text-align:right;\"> 0.0000000 </td>\n",
       "   <td style=\"text-align:right;\"> 0.0000000 </td>\n",
       "   <td style=\"text-align:right;\"> 1 </td>\n",
       "   <td style=\"text-align:right;\"> 777500 </td>\n",
       "   <td style=\"text-align:right;\"> 223992500 </td>\n",
       "   <td style=\"text-align:right;\"> 0 </td>\n",
       "   <td style=\"text-align:right;\"> 5000 </td>\n",
       "   <td style=\"text-align:right;\"> 5000 </td>\n",
       "   <td style=\"text-align:right;\"> 5000 </td>\n",
       "   <td style=\"text-align:left;\"> chr1:775000-780000 </td>\n",
       "   <td style=\"text-align:left;\"> chr1:223990000-223995000 </td>\n",
       "   <td style=\"text-align:right;\"> 223215000 </td>\n",
       "  </tr>\n",
       "</tbody>\n",
       "</table>"
      ]
     },
     "metadata": {},
     "output_type": "display_data"
    }
   ],
   "source": [
    "### set file path\n",
    "txt_folder = TXT_FOLDER_REGION\n",
    "txt_fdiry  = file.path(FD_RES, \"region\", txt_folder, \"summary\")\n",
    "txt_fname = \"K562.hg38.hic_insitu.Loop.tsv\"\n",
    "txt_fpath = file.path(txt_fdiry, txt_fname)\n",
    "\n",
    "### read table\n",
    "dat = read_tsv(txt_fpath, show_col_types = FALSE)\n",
    "\n",
    "### assign and show\n",
    "dat_region_import = dat\n",
    "fun_display_table(head(dat))"
   ]
  },
  {
   "cell_type": "markdown",
   "id": "e51a73b9-d24d-430d-b52e-9766c1662479",
   "metadata": {},
   "source": [
    "## Explore data"
   ]
  },
  {
   "cell_type": "markdown",
   "id": "bcc8b348-1a48-4f6c-9aee-ee7d12b53a14",
   "metadata": {},
   "source": [
    "### Loop anchor length (resolution)"
   ]
  },
  {
   "cell_type": "code",
   "execution_count": 6,
   "id": "443e324e-e7cd-4c8d-a434-0a232e5c148d",
   "metadata": {},
   "outputs": [
    {
     "data": {
      "text/plain": [
       "\n",
       " 5000 10000 25000 \n",
       " 6162  4164  3295 "
      ]
     },
     "metadata": {},
     "output_type": "display_data"
    }
   ],
   "source": [
    "dat = dat_region_import\n",
    "res = table(dat$Size)\n",
    "res"
   ]
  },
  {
   "cell_type": "markdown",
   "id": "dcbcc5c2-b1ee-4246-ae42-f2847c5c1f7d",
   "metadata": {},
   "source": [
    "### Distance"
   ]
  },
  {
   "cell_type": "code",
   "execution_count": 7,
   "id": "55a2f43f-d086-41d7-8240-9db66380ab64",
   "metadata": {},
   "outputs": [
    {
     "data": {
      "text/plain": [
       "    Min.  1st Qu.   Median     Mean  3rd Qu.     Max. \n",
       "    35.0    162.5    390.0   6364.4   1235.0 241300.0 "
      ]
     },
     "metadata": {},
     "output_type": "display_data"
    }
   ],
   "source": [
    "dat = dat_region_import\n",
    "summary(dat$Distance/1000)"
   ]
  },
  {
   "cell_type": "code",
   "execution_count": 8,
   "id": "474769a1-9ce9-485c-8095-901d5f5fc8e8",
   "metadata": {},
   "outputs": [
    {
     "name": "stderr",
     "output_type": "stream",
     "text": [
      "Warning message in scale_y_log10():\n",
      "“\u001b[1m\u001b[22m\u001b[32mlog-10\u001b[39m transformation introduced infinite values.”\n",
      "Warning message:\n",
      "“\u001b[1m\u001b[22mRemoved 31 rows containing missing values or values outside the scale range\n",
      "(`geom_bar()`).”\n"
     ]
    },
    {
     "data": {
      "image/png": "[encoded data removed]",
      "text/plain": [
       "plot without title"
      ]
     },
     "metadata": {
      "image/png": {
       "height": 360,
       "width": 420
      }
     },
     "output_type": "display_data"
    }
   ],
   "source": [
    "dat = dat_region_import\n",
    "gpt = ggplot(dat, aes(x=Distance/1000000)) + \n",
    "    geom_histogram(bins=50) +\n",
    "    theme_cowplot() +\n",
    "    background_grid() +\n",
    "    scale_y_log10() +\n",
    "    facet_wrap(~Size, scale = \"free_y\", nrow=3) +\n",
    "    labs(x=\"Mb\", y=\"Count\")\n",
    "\n",
    "options(repr.plot.height=6, repr.plot.width=7)\n",
    "print(gpt)"
   ]
  },
  {
   "cell_type": "markdown",
   "id": "45def53b-8a7c-4930-8c6d-527043b54a11",
   "metadata": {},
   "source": [
    "### Score: Observed"
   ]
  },
  {
   "cell_type": "code",
   "execution_count": 9,
   "id": "d419c769-9654-488b-b604-9c24924473c8",
   "metadata": {},
   "outputs": [
    {
     "data": {
      "text/plain": [
       "   Min. 1st Qu.  Median    Mean 3rd Qu.    Max. \n",
       "  11.00   34.00   68.00   92.02  112.00 6723.00 "
      ]
     },
     "metadata": {},
     "output_type": "display_data"
    }
   ],
   "source": [
    "dat = dat_region_import\n",
    "summary(dat$Observed)"
   ]
  },
  {
   "cell_type": "code",
   "execution_count": 17,
   "id": "ad516be3-a12a-48f6-8c3e-4769676a208e",
   "metadata": {},
   "outputs": [
    {
     "name": "stderr",
     "output_type": "stream",
     "text": [
      "Warning message:\n",
      "“\u001b[1m\u001b[22mRemoved 1 row containing non-finite outside the scale range (`stat_bin()`).”\n",
      "Warning message in scale_y_log10():\n",
      "“\u001b[1m\u001b[22m\u001b[32mlog-10\u001b[39m transformation introduced infinite values.”\n",
      "Warning message:\n",
      "“\u001b[1m\u001b[22mRemoved 118 rows containing missing values or values outside the scale range\n",
      "(`geom_bar()`).”\n"
     ]
    },
    {
     "data": {
      "image/png": "[encoded data removed]",
      "text/plain": [
       "plot without title"
      ]
     },
     "metadata": {
      "image/png": {
       "height": 360,
       "width": 420
      }
     },
     "output_type": "display_data"
    }
   ],
   "source": [
    "dat = dat_region_import\n",
    "gpt = ggplot(dat, aes(x=Observed)) + \n",
    "    geom_histogram(bins=70) +\n",
    "    theme_cowplot() +\n",
    "    background_grid() +\n",
    "    scale_y_log10() +\n",
    "    facet_wrap(~Size, scale = \"free_y\", nrow=3) +\n",
    "    xlim(0, 2000) +\n",
    "    labs(x=\"Raw Contact Count\", y = \"Count\", title = \"Observed Hi-C signal\")\n",
    "\n",
    "options(repr.plot.height=6, repr.plot.width=7)\n",
    "print(gpt)"
   ]
  },
  {
   "cell_type": "markdown",
   "id": "b5fd70cc-7b03-4dbe-9ea0-b28f52e66c2e",
   "metadata": {},
   "source": [
    "### Score: Expected (BL)"
   ]
  },
  {
   "cell_type": "code",
   "execution_count": 12,
   "id": "2464924c-a991-4b4b-b3a0-0990d438c9db",
   "metadata": {},
   "outputs": [
    {
     "data": {
      "text/plain": [
       "   Min. 1st Qu.  Median    Mean 3rd Qu.    Max. \n",
       "  0.000   7.349  24.933  36.268  45.787 874.359 "
      ]
     },
     "metadata": {},
     "output_type": "display_data"
    }
   ],
   "source": [
    "dat = dat_region_import\n",
    "summary(dat$ExpectedDonut)"
   ]
  },
  {
   "cell_type": "code",
   "execution_count": 19,
   "id": "68481474-0cfa-473e-8d38-d41742616afa",
   "metadata": {},
   "outputs": [
    {
     "name": "stderr",
     "output_type": "stream",
     "text": [
      "Warning message in scale_y_log10():\n",
      "“\u001b[1m\u001b[22m\u001b[32mlog-10\u001b[39m transformation introduced infinite values.”\n",
      "Warning message:\n",
      "“\u001b[1m\u001b[22mRemoved 129 rows containing missing values or values outside the scale range\n",
      "(`geom_bar()`).”\n"
     ]
    },
    {
     "data": {
      "image/png": "[encoded data removed]",
      "text/plain": [
       "plot without title"
      ]
     },
     "metadata": {
      "image/png": {
       "height": 360,
       "width": 420
      }
     },
     "output_type": "display_data"
    }
   ],
   "source": [
    "dat = dat_region_import\n",
    "gpt = ggplot(dat, aes(x=ExpectedBL)) + \n",
    "    geom_histogram(bins=70) +\n",
    "    theme_cowplot() +\n",
    "    background_grid() +\n",
    "    scale_y_log10() +\n",
    "    facet_wrap(~Size, scale = \"free_y\", nrow=3) +\n",
    "    xlim(0, 1000) +\n",
    "    labs(x=\"Expected (BL)\", y = \"Count\", title = \"Observed Hi-C signal\")\n",
    "\n",
    "options(repr.plot.height=6, repr.plot.width=7)\n",
    "print(gpt)"
   ]
  },
  {
   "cell_type": "code",
   "execution_count": 20,
   "id": "42f21ebd-5f51-49f0-acf3-a4f0e68270e2",
   "metadata": {},
   "outputs": [
    {
     "name": "stderr",
     "output_type": "stream",
     "text": [
      "Warning message:\n",
      "“\u001b[1m\u001b[22mRemoved 1537 rows containing missing values or values outside the scale range\n",
      "(`geom_point()`).”\n"
     ]
    },
    {
     "data": {
      "image/png": "[encoded data removed]",
      "text/plain": [
       "plot without title"
      ]
     },
     "metadata": {
      "image/png": {
       "height": 360,
       "width": 420
      }
     },
     "output_type": "display_data"
    }
   ],
   "source": [
    "dat = dat_region_import\n",
    "gpt = ggplot(dat, aes(x=Distance/1000000, y=ExpectedBL)) + \n",
    "    geom_point() +\n",
    "    theme_cowplot() +\n",
    "    background_grid() +\n",
    "    labs(x=\"Distance (Mb)\", y = \"Expected (BL)\", title = \"Expected Hi-C signal\") +\n",
    "    xlim(0, 10)\n",
    "\n",
    "options(repr.plot.height=6, repr.plot.width=7)\n",
    "print(gpt)"
   ]
  },
  {
   "cell_type": "markdown",
   "id": "76b91f4a-ed35-4ea5-a8ae-0c60bab66492",
   "metadata": {},
   "source": [
    "### Score: Expected (Donut)"
   ]
  },
  {
   "cell_type": "code",
   "execution_count": 21,
   "id": "53798994-762e-4a44-8de9-ea7db336994a",
   "metadata": {},
   "outputs": [
    {
     "name": "stderr",
     "output_type": "stream",
     "text": [
      "Warning message:\n",
      "“\u001b[1m\u001b[22mRemoved 5 rows containing non-finite outside the scale range (`stat_bin()`).”\n",
      "Warning message in scale_y_log10():\n",
      "“\u001b[1m\u001b[22m\u001b[32mlog-10\u001b[39m transformation introduced infinite values.”\n",
      "Warning message:\n",
      "“\u001b[1m\u001b[22mRemoved 130 rows containing missing values or values outside the scale range\n",
      "(`geom_bar()`).”\n"
     ]
    },
    {
     "data": {
      "image/png": "[encoded data removed]",
      "text/plain": [
       "plot without title"
      ]
     },
     "metadata": {
      "image/png": {
       "height": 360,
       "width": 420
      }
     },
     "output_type": "display_data"
    }
   ],
   "source": [
    "dat = dat_region_import\n",
    "gpt = ggplot(dat, aes(x=ExpectedDonut)) + \n",
    "    geom_histogram(bins=70) +\n",
    "    theme_cowplot() +\n",
    "    background_grid() +\n",
    "    scale_y_log10() +\n",
    "    facet_wrap(~Size, scale = \"free_y\", nrow=3) +\n",
    "    xlim(0, 1000) +\n",
    "    labs(x=\"Expected (Donut)\", y = \"Count\", title = \"Observed Hi-C signal\")\n",
    "\n",
    "options(repr.plot.height=6, repr.plot.width=7)\n",
    "print(gpt)"
   ]
  },
  {
   "cell_type": "code",
   "execution_count": 22,
   "id": "f299bdb8-a455-4e1a-ad16-e8d20b21a5d1",
   "metadata": {},
   "outputs": [
    {
     "name": "stderr",
     "output_type": "stream",
     "text": [
      "Warning message:\n",
      "“\u001b[1m\u001b[22mRemoved 1537 rows containing missing values or values outside the scale range\n",
      "(`geom_point()`).”\n"
     ]
    },
    {
     "data": {
      "image/png": "[encoded data removed]",
      "text/plain": [
       "plot without title"
      ]
     },
     "metadata": {
      "image/png": {
       "height": 360,
       "width": 420
      }
     },
     "output_type": "display_data"
    }
   ],
   "source": [
    "dat = dat_region_import\n",
    "gpt = ggplot(dat, aes(x=Distance/1000000, y=ExpectedDonut)) + \n",
    "    geom_point() +\n",
    "    theme_cowplot() +\n",
    "    background_grid() +\n",
    "    labs(x=\"Distance (Mb)\", y = \"Expected (Donut)\", title = \"Expected Hi-C signal\") +\n",
    "    xlim(0, 10)\n",
    "\n",
    "options(repr.plot.height=6, repr.plot.width=7)\n",
    "print(gpt)"
   ]
  },
  {
   "cell_type": "markdown",
   "id": "7c33a880-1937-49b9-ad6a-6d92aa4c7d68",
   "metadata": {},
   "source": [
    "### Score: O/E"
   ]
  },
  {
   "cell_type": "code",
   "execution_count": 25,
   "id": "650b4fee-6566-4708-9152-90a28c3733ea",
   "metadata": {},
   "outputs": [
    {
     "name": "stderr",
     "output_type": "stream",
     "text": [
      "Warning message:\n",
      "“\u001b[1m\u001b[22mThere was 1 warning in `dplyr::mutate()`.\n",
      "\u001b[1m\u001b[22m\u001b[36mℹ\u001b[39m In argument: `Value = log2(Observed/ExpectedDonut)`.\n",
      "Caused by warning:\n",
      "\u001b[33m!\u001b[39m NaNs produced”\n"
     ]
    },
    {
     "data": {
      "text/plain": [
       "   Min. 1st Qu.  Median    Mean 3rd Qu.    Max.    NA's \n",
       " 0.8079  1.1943  1.4809  2.0710  2.1900 35.6147       5 "
      ]
     },
     "metadata": {},
     "output_type": "display_data"
    }
   ],
   "source": [
    "dat = dat_region_import\n",
    "dat = dat %>% dplyr::mutate(Value = log2(Observed / ExpectedDonut))\n",
    "vec = dat$Value\n",
    "\n",
    "summary(vec)"
   ]
  },
  {
   "cell_type": "code",
   "execution_count": 23,
   "id": "a1247d5e-e9be-4c6d-944b-0f00e9e19e20",
   "metadata": {},
   "outputs": [
    {
     "name": "stderr",
     "output_type": "stream",
     "text": [
      "Warning message:\n",
      "“\u001b[1m\u001b[22mThere was 1 warning in `dplyr::mutate()`.\n",
      "\u001b[1m\u001b[22m\u001b[36mℹ\u001b[39m In argument: `Value = log2(Observed/ExpectedDonut)`.\n",
      "Caused by warning:\n",
      "\u001b[33m!\u001b[39m NaNs produced”\n",
      "Warning message:\n",
      "“\u001b[1m\u001b[22mRemoved 5 rows containing non-finite outside the scale range (`stat_bin()`).”\n"
     ]
    },
    {
     "data": {
      "image/png": "[encoded data removed]",
      "text/plain": [
       "plot without title"
      ]
     },
     "metadata": {
      "image/png": {
       "height": 180,
       "width": 420
      }
     },
     "output_type": "display_data"
    }
   ],
   "source": [
    "dat = dat_region_import\n",
    "dat = dat %>% dplyr::mutate(Value = log2(Observed / ExpectedDonut))\n",
    "\n",
    "gpt = ggplot(dat, aes(x=Value)) + \n",
    "    geom_histogram(bins = 70) +\n",
    "    theme_cowplot() +\n",
    "    background_grid()\n",
    "\n",
    "options(repr.plot.height=3, repr.plot.width=7)\n",
    "print(gpt)"
   ]
  },
  {
   "cell_type": "code",
   "execution_count": 24,
   "id": "33b07174-3cdd-4612-95a6-9f9661de9285",
   "metadata": {},
   "outputs": [
    {
     "name": "stderr",
     "output_type": "stream",
     "text": [
      "Warning message:\n",
      "“\u001b[1m\u001b[22mThere was 1 warning in `dplyr::mutate()`.\n",
      "\u001b[1m\u001b[22m\u001b[36mℹ\u001b[39m In argument: `Value = log2(Observed/ExpectedDonut)`.\n",
      "Caused by warning:\n",
      "\u001b[33m!\u001b[39m NaNs produced”\n",
      "Warning message:\n",
      "“\u001b[1m\u001b[22mRemoved 15 rows containing non-finite outside the scale range (`stat_bin()`).”\n",
      "Warning message:\n",
      "“\u001b[1m\u001b[22mRemoved 2 rows containing missing values or values outside the scale range\n",
      "(`geom_bar()`).”\n"
     ]
    },
    {
     "data": {
      "image/png": "[encoded data removed]",
      "text/plain": [
       "plot without title"
      ]
     },
     "metadata": {
      "image/png": {
       "height": 180,
       "width": 420
      }
     },
     "output_type": "display_data"
    }
   ],
   "source": [
    "dat = dat_region_import\n",
    "dat = dat %>% dplyr::mutate(Value = log2(Observed / ExpectedDonut))\n",
    "\n",
    "gpt = ggplot(dat, aes(x=Value)) + \n",
    "    geom_histogram(bins = 100) +\n",
    "    theme_cowplot() +\n",
    "    background_grid() +\n",
    "    xlim(0, 10)\n",
    "\n",
    "options(repr.plot.height=3, repr.plot.width=7)\n",
    "print(gpt)"
   ]
  },
  {
   "cell_type": "code",
   "execution_count": null,
   "id": "b98ba661-cec7-48e6-b855-cbe0fc501ca5",
   "metadata": {},
   "outputs": [],
   "source": []
  }
 ],
 "metadata": {
  "kernelspec": {
   "display_name": "R",
   "language": "R",
   "name": "ir"
  },
  "language_info": {
   "codemirror_mode": "r",
   "file_extension": ".r",
   "mimetype": "text/x-r-source",
   "name": "R",
   "pygments_lexer": "r",
   "version": "4.4.2"
  }
 },
 "nbformat": 4,
 "nbformat_minor": 5
}
