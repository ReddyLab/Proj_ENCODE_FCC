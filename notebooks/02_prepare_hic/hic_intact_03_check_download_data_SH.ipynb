{
 "cells": [
  {
   "cell_type": "raw",
   "id": "87a50293-24d0-4df4-8364-04994b33e7c8",
   "metadata": {},
   "source": [
    "---\n",
    "title: Prepare Hi-C data 03 (intact Hi-C)\n",
    "subtitle: Check downloaded data\n",
    "format:\n",
    "    html:\n",
    "        code-fold:  true\n",
    "        code-tools: true\n",
    "---"
   ]
  },
  {
   "cell_type": "markdown",
   "id": "6a2bc3c5-27f0-4ab4-a1bf-ef3b9b02e9f9",
   "metadata": {},
   "source": [
    "**set environment**"
   ]
  },
  {
   "cell_type": "code",
   "execution_count": 1,
   "id": "0a39acfb-cd2c-47be-aa65-07eff738bfb4",
   "metadata": {},
   "outputs": [
    {
     "name": "stdout",
     "output_type": "stream",
     "text": [
      "You are working on             Duke Server: RCC\n",
      "BASE DIRECTORY (FD_BASE):      /data/reddylab/Kuei\n",
      "REPO DIRECTORY (FD_REPO):      /data/reddylab/Kuei/repo\n",
      "WORK DIRECTORY (FD_WORK):      /data/reddylab/Kuei/work\n",
      "DATA DIRECTORY (FD_DATA):      /data/reddylab/Kuei/data\n",
      "CONTAINER DIR. (FD_SING):      /data/reddylab/Kuei/container\n",
      "\n",
      "You are working with           ENCODE FCC\n",
      "PATH OF PROJECT (FD_PRJ):      /data/reddylab/Kuei/repo/Proj_ENCODE_FCC\n",
      "PROJECT RESULTS (FD_RES):      /data/reddylab/Kuei/repo/Proj_ENCODE_FCC/results\n",
      "PROJECT SCRIPTS (FD_EXE):      /data/reddylab/Kuei/repo/Proj_ENCODE_FCC/scripts\n",
      "PROJECT DATA    (FD_DAT):      /data/reddylab/Kuei/repo/Proj_ENCODE_FCC/data\n",
      "PROJECT NOTE    (FD_NBK):      /data/reddylab/Kuei/repo/Proj_ENCODE_FCC/notebooks\n",
      "PROJECT DOCS    (FD_DOC):      /data/reddylab/Kuei/repo/Proj_ENCODE_FCC/docs\n",
      "PROJECT LOG     (FD_LOG):      /data/reddylab/Kuei/repo/Proj_ENCODE_FCC/log\n",
      "PROJECT REF     (FD_REF):      /data/reddylab/Kuei/repo/Proj_ENCODE_FCC/references\n",
      "PROJECT IMAGE   (FP_PRJ_SIF):  /data/reddylab/Kuei/container/project/singularity_proj_encode_fcc.sif\n",
      "PROJECT CONF.   (FP_CNF):      /data/reddylab/Kuei/repo/Proj_ENCODE_FCC/scripts/config_project.sh\n",
      "\n"
     ]
    }
   ],
   "source": [
    "source ../run_config_project.sh\n",
    "show_env"
   ]
  },
  {
   "cell_type": "markdown",
   "id": "bac3a0ff-94a1-4f51-8476-350964dc20c7",
   "metadata": {},
   "source": [
    "**Set global variable**"
   ]
  },
  {
   "cell_type": "code",
   "execution_count": 2,
   "id": "e0694716-3878-48a0-b576-33744d391956",
   "metadata": {},
   "outputs": [],
   "source": [
    "TXT_FOLDER=hic_intact_K562_ENCSR479XDG"
   ]
  },
  {
   "cell_type": "markdown",
   "id": "7dd3713a-e6f2-4bd6-9918-93428761cd0e",
   "metadata": {},
   "source": [
    "## View data"
   ]
  },
  {
   "cell_type": "code",
   "execution_count": 3,
   "id": "9a1c1cf2-81eb-4c01-a7ce-ccaef8421710",
   "metadata": {},
   "outputs": [
    {
     "name": "stdout",
     "output_type": "stream",
     "text": [
      "/data/reddylab/Kuei/repo/Proj_ENCODE_FCC/data/external/hic_intact_K562_ENCSR479XDG\n",
      "total 32G\n",
      "220K \u001b[0m\u001b[01;31mK562.hg38.ENCSR479XDG.ENCFF126GED.hic_intact.contact_domain.bedpe.gz\u001b[0m\n",
      "2.8M \u001b[01;31mK562.hg38.ENCSR479XDG.ENCFF256ZMD.hic_intact.loop.bedpe.gz\u001b[0m\n",
      " 32G K562.hg38.ENCSR479XDG.ENCFF621AIY.hic_intact.matrix.hic\n",
      " 51M run_download.log.txt\n",
      "4.0K \u001b[01;32mrun_download.sh\u001b[0m\n"
     ]
    }
   ],
   "source": [
    "FDIRY=${FD_DAT}/external/${TXT_FOLDER}\n",
    "\n",
    "echo   ${FDIRY}\n",
    "ls -hs ${FDIRY}"
   ]
  },
  {
   "cell_type": "markdown",
   "id": "9d89388b-9e12-4485-868d-134da95eebdc",
   "metadata": {},
   "source": [
    "**Hi-C loop calls**"
   ]
  },
  {
   "cell_type": "code",
   "execution_count": 5,
   "id": "3f584205-9827-4bbe-be7f-e70963881a09",
   "metadata": {},
   "outputs": [
    {
     "name": "stdout",
     "output_type": "stream",
     "text": [
      "#chr1\tx1\tx2\tchr2\ty1\ty2\tname\tscore\tstrand1\tstrand2\tcolor\tobserved\texpectedBL\texpectedDonut\texpectedH\texpectedV\tfdrBL\tfdrDonut\tfdrH\tfdrV\tnumCollapsed\tcentroid1\tcentroid2\tradius\thighRes_start_1\thighRes_end_1\thighRes_start_2\thighRes_end_2\tlocalX\tlocalY\tlocalObserved\tlocalPval\tlocalPeakID\n",
      "# juicer_tools version 2.13.07\n",
      "chr10\t102835000\t102836000\tchr10\t102901000\t102902000\t.\t.\t.\t.\t0,255,255\t16.0\t2.5453029\t2.0566912\t2.896359\t2.6027875\t0.0\t0.0\t5.9604645E-8\t0.0\t2\t102835000\t102901500\t500\t102834600\t102835200\t102901400\t102901700\t102834700\t102901500\t4.0\t2.17173181723318E-4\t0\n",
      "chr10\t123583000\t123584000\tchr10\t123967000\t123968000\t.\t.\t.\t.\t0,255,255\t17.0\t1.2294405\t1.126373\t1.5320965\t2.968846\t0.0\t0.0\t0.0\t0.0\t2\t123583000\t123967500\t500\tNA\tNA\tNA\tNA\tNA\tNA\tNA\tNA\tNA\n",
      "chr10\t60780000\t60782000\tchr10\t60828000\t60830000\t.\t.\t.\t.\t0,255,255\t16.0\t3.9354546\t3.6036625\t4.087633\t2.7198699\t3.993511E-6\t1.3113022E-6\t6.377697E-6\t5.9604645E-8\t1\t60781000\t60829000\t0\tNA\tNA\tNA\tNA\tNA\tNA\tNA\tNA\tNA\n"
     ]
    }
   ],
   "source": [
    "FDIRY=${FD_DAT}/external/${TXT_FOLDER}\n",
    "FNAME=K562.hg38.ENCSR479XDG.ENCFF256ZMD.hic_intact.loop.bedpe.gz\n",
    "FPATH=${FDIRY}/${FNAME}\n",
    "\n",
    "zcat ${FPATH} | head -5"
   ]
  },
  {
   "cell_type": "markdown",
   "id": "e4a6fe3d-c693-49e7-856f-0bc775ddb93c",
   "metadata": {},
   "source": [
    "**Hi-C TAD calls**"
   ]
  },
  {
   "cell_type": "code",
   "execution_count": 6,
   "id": "4e425dc9-60c0-4699-8501-f844a5be6a37",
   "metadata": {},
   "outputs": [
    {
     "name": "stdout",
     "output_type": "stream",
     "text": [
      "#chr1\tx1\tx2\tchr2\ty1\ty2\tname\tscore\tstrand1\tstrand2\tcolor\tscore\tuVarScore\tlVarScore\tupSign\tloSign\n",
      "# juicer_tools version 2.13.06\n",
      "chr10\t89790000\t90730000\tchr10\t89790000\t90730000\t.\t.\t.\t.\t255,255,0\t0.48733428805910184\t0.43218752937273686\t0.39101424267719964\t0.4366181410974244\t0.5132138857782754\n",
      "chr10\t117485000\t118260000\tchr10\t117485000\t118260000\t.\t.\t.\t.\t255,255,0\t0.47145995448002187\t0.40388060738386966\t0.40280872469677464\t0.44690992767915844\t0.4451019066403682\n",
      "chr10\t51125000\t52215000\tchr10\t51125000\t52215000\t.\t.\t.\t.\t255,255,0\t0.575707559391474\t0.38559880334456653\t0.3954850048221743\t0.47122602168473726\t0.40008340283569643\n"
     ]
    }
   ],
   "source": [
    "FDIRY=${FD_DAT}/external/${TXT_FOLDER}\n",
    "FNAME=K562.hg38.ENCSR479XDG.ENCFF126GED.hic_intact.contact_domain.bedpe.gz\n",
    "FPATH=${FDIRY}/${FNAME}\n",
    "\n",
    "zcat ${FPATH} | head -5"
   ]
  },
  {
   "cell_type": "code",
   "execution_count": null,
   "id": "a0148b9a-6eea-4945-8d02-592d56592ec0",
   "metadata": {},
   "outputs": [],
   "source": []
  }
 ],
 "metadata": {
  "kernelspec": {
   "display_name": "Bash",
   "language": "bash",
   "name": "bash"
  },
  "language_info": {
   "codemirror_mode": "shell",
   "file_extension": ".sh",
   "mimetype": "text/x-sh",
   "name": "bash"
  }
 },
 "nbformat": 4,
 "nbformat_minor": 5
}
