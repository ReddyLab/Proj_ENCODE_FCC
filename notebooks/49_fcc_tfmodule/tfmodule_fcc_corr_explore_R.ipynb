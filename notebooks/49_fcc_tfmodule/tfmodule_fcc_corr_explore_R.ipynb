{
 "cells": [
  {
   "cell_type": "raw",
   "id": "04cae112-7d39-4d32-8ee5-871ae5e14fc7",
   "metadata": {},
   "source": [
    "---\n",
    "title: Prepare TF Modules 01\n",
    "subtitle: Explore the data\n",
    "format:\n",
    "    html:\n",
    "        code-fold:  true\n",
    "        code-tools: true\n",
    "---"
   ]
  },
  {
   "cell_type": "markdown",
   "id": "fe3de883-0eee-4b8e-9ca4-794d508a7178",
   "metadata": {},
   "source": [
    "**Set environment**"
   ]
  },
  {
   "cell_type": "code",
   "execution_count": 1,
   "id": "f6d529fb-fadb-4acc-be1b-b30396a9f1f1",
   "metadata": {},
   "outputs": [
    {
     "name": "stdout",
     "output_type": "stream",
     "text": [
      "You are working on        Singularity \n",
      "BASE DIRECTORY (FD_BASE): /mount \n",
      "REPO DIRECTORY (FD_REPO): /mount/repo \n",
      "WORK DIRECTORY (FD_WORK): /mount/work \n",
      "DATA DIRECTORY (FD_DATA): /mount/data \n",
      "\n",
      "You are working with      ENCODE FCC \n",
      "PATH OF PROJECT (FD_PRJ): /mount/repo/Proj_ENCODE_FCC \n",
      "PROJECT RESULTS (FD_RES): /mount/repo/Proj_ENCODE_FCC/results \n",
      "PROJECT SCRIPTS (FD_EXE): /mount/repo/Proj_ENCODE_FCC/scripts \n",
      "PROJECT DATA    (FD_DAT): /mount/repo/Proj_ENCODE_FCC/data \n",
      "PROJECT NOTE    (FD_NBK): /mount/repo/Proj_ENCODE_FCC/notebooks \n",
      "PROJECT DOCS    (FD_DOC): /mount/repo/Proj_ENCODE_FCC/docs \n",
      "PROJECT LOG     (FD_LOG): /mount/repo/Proj_ENCODE_FCC/log \n",
      "PROJECT APP     (FD_APP): /mount/repo/Proj_ENCODE_FCC/app \n",
      "PROJECT REF     (FD_REF): /mount/repo/Proj_ENCODE_FCC/references \n",
      "\n"
     ]
    }
   ],
   "source": [
    "suppressMessages(suppressWarnings(source(\"../run_config_project_sing.R\")))\n",
    "show_env()"
   ]
  },
  {
   "cell_type": "code",
   "execution_count": 4,
   "id": "a7c11855-78f3-47d1-b592-538da4953e80",
   "metadata": {},
   "outputs": [
    {
     "name": "stderr",
     "output_type": "stream",
     "text": [
      "\u001b[1mRows: \u001b[22m\u001b[34m70\u001b[39m \u001b[1mColumns: \u001b[22m\u001b[34m8\u001b[39m\n",
      "\u001b[36m──\u001b[39m \u001b[1mColumn specification\u001b[22m \u001b[36m───────────────────────────────────────────────────────────────\u001b[39m\n",
      "\u001b[1mDelimiter:\u001b[22m \"\\t\"\n",
      "\u001b[31mchr\u001b[39m (1): pathway\n",
      "\u001b[32mdbl\u001b[39m (6): pval, padj, log2err, ES, NES, size\n",
      "\u001b[33mlgl\u001b[39m (1): leadingEdge\n",
      "\n",
      "\u001b[36mℹ\u001b[39m Use `spec()` to retrieve the full column specification for this data.\n",
      "\u001b[36mℹ\u001b[39m Specify the column types or set `show_col_types = FALSE` to quiet this message.\n"
     ]
    },
    {
     "data": {
      "text/html": [
       "<table class=\"dataframe\">\n",
       "<caption>A tibble: 3 × 8</caption>\n",
       "<thead>\n",
       "\t<tr><th scope=col>pathway</th><th scope=col>pval</th><th scope=col>padj</th><th scope=col>log2err</th><th scope=col>ES</th><th scope=col>NES</th><th scope=col>size</th><th scope=col>leadingEdge</th></tr>\n",
       "\t<tr><th scope=col>&lt;chr&gt;</th><th scope=col>&lt;dbl&gt;</th><th scope=col>&lt;dbl&gt;</th><th scope=col>&lt;dbl&gt;</th><th scope=col>&lt;dbl&gt;</th><th scope=col>&lt;dbl&gt;</th><th scope=col>&lt;dbl&gt;</th><th scope=col>&lt;lgl&gt;</th></tr>\n",
       "</thead>\n",
       "<tbody>\n",
       "\t<tr><td>Module_01</td><td>4.007230e-112</td><td>1.626464e-111</td><td>0.4543564</td><td> 0.3488813</td><td>2.238566</td><td>4799</td><td>NA</td></tr>\n",
       "\t<tr><td>Module_02</td><td>           NA</td><td>           NA</td><td>       NA</td><td>-0.3460024</td><td>      NA</td><td>9682</td><td>NA</td></tr>\n",
       "\t<tr><td>Module_03</td><td> 1.651872e-36</td><td> 3.453915e-36</td><td>0.2573257</td><td> 0.3124394</td><td>1.963153</td><td>2303</td><td>NA</td></tr>\n",
       "</tbody>\n",
       "</table>\n"
      ],
      "text/latex": [
       "A tibble: 3 × 8\n",
       "\\begin{tabular}{llllllll}\n",
       " pathway & pval & padj & log2err & ES & NES & size & leadingEdge\\\\\n",
       " <chr> & <dbl> & <dbl> & <dbl> & <dbl> & <dbl> & <dbl> & <lgl>\\\\\n",
       "\\hline\n",
       "\t Module\\_01 & 4.007230e-112 & 1.626464e-111 & 0.4543564 &  0.3488813 & 2.238566 & 4799 & NA\\\\\n",
       "\t Module\\_02 &            NA &            NA &        NA & -0.3460024 &       NA & 9682 & NA\\\\\n",
       "\t Module\\_03 &  1.651872e-36 &  3.453915e-36 & 0.2573257 &  0.3124394 & 1.963153 & 2303 & NA\\\\\n",
       "\\end{tabular}\n"
      ],
      "text/markdown": [
       "\n",
       "A tibble: 3 × 8\n",
       "\n",
       "| pathway &lt;chr&gt; | pval &lt;dbl&gt; | padj &lt;dbl&gt; | log2err &lt;dbl&gt; | ES &lt;dbl&gt; | NES &lt;dbl&gt; | size &lt;dbl&gt; | leadingEdge &lt;lgl&gt; |\n",
       "|---|---|---|---|---|---|---|---|\n",
       "| Module_01 | 4.007230e-112 | 1.626464e-111 | 0.4543564 |  0.3488813 | 2.238566 | 4799 | NA |\n",
       "| Module_02 |            NA |            NA |        NA | -0.3460024 |       NA | 9682 | NA |\n",
       "| Module_03 |  1.651872e-36 |  3.453915e-36 | 0.2573257 |  0.3124394 | 1.963153 | 2303 | NA |\n",
       "\n"
      ],
      "text/plain": [
       "  pathway   pval          padj          log2err   ES         NES      size\n",
       "1 Module_01 4.007230e-112 1.626464e-111 0.4543564  0.3488813 2.238566 4799\n",
       "2 Module_02            NA            NA        NA -0.3460024       NA 9682\n",
       "3 Module_03  1.651872e-36  3.453915e-36 0.2573257  0.3124394 1.963153 2303\n",
       "  leadingEdge\n",
       "1 NA         \n",
       "2 NA         \n",
       "3 NA         "
      ]
     },
     "metadata": {},
     "output_type": "display_data"
    }
   ],
   "source": [
    "txt_region = \"fcc_astarr_macs_input_overlap\"\n",
    "txt_fdiry  = file.path(FD_RES, \"region_integration\", txt_region)\n",
    "txt_fname  = \"result.test.ranknom.module.gsea_v2.tsv\"\n",
    "txt_fpath  = file.path(txt_fdiry, txt_fname)\n",
    "\n",
    "dat = read_tsv(txt_fpath)\n",
    "dat_res_gsea = dat\n",
    "head(dat, 3)"
   ]
  },
  {
   "cell_type": "code",
   "execution_count": 5,
   "id": "ff16492a-0292-4405-a541-6db08a1357a5",
   "metadata": {},
   "outputs": [
    {
     "name": "stderr",
     "output_type": "stream",
     "text": [
      "\u001b[1mRows: \u001b[22m\u001b[34m70\u001b[39m \u001b[1mColumns: \u001b[22m\u001b[34m7\u001b[39m\n",
      "\u001b[36m──\u001b[39m \u001b[1mColumn specification\u001b[22m \u001b[36m───────────────────────────────────────────────────────────────\u001b[39m\n",
      "\u001b[1mDelimiter:\u001b[22m \"\\t\"\n",
      "\u001b[31mchr\u001b[39m (1): Group\n",
      "\u001b[32mdbl\u001b[39m (6): Label_0, Label_1, Diff, pval, padj, nlog10p\n",
      "\n",
      "\u001b[36mℹ\u001b[39m Use `spec()` to retrieve the full column specification for this data.\n",
      "\u001b[36mℹ\u001b[39m Specify the column types or set `show_col_types = FALSE` to quiet this message.\n"
     ]
    },
    {
     "data": {
      "text/html": [
       "<table class=\"dataframe\">\n",
       "<caption>A tibble: 3 × 7</caption>\n",
       "<thead>\n",
       "\t<tr><th scope=col>Group</th><th scope=col>Label_0</th><th scope=col>Label_1</th><th scope=col>Diff</th><th scope=col>pval</th><th scope=col>padj</th><th scope=col>nlog10p</th></tr>\n",
       "\t<tr><th scope=col>&lt;chr&gt;</th><th scope=col>&lt;dbl&gt;</th><th scope=col>&lt;dbl&gt;</th><th scope=col>&lt;dbl&gt;</th><th scope=col>&lt;dbl&gt;</th><th scope=col>&lt;dbl&gt;</th><th scope=col>&lt;dbl&gt;</th></tr>\n",
       "</thead>\n",
       "<tbody>\n",
       "\t<tr><td>Module_01</td><td>0.4794890</td><td>0.5790634</td><td> 0.09957438</td><td>5.262701e-131</td><td>2.046606e-130</td><td>129.68897</td></tr>\n",
       "\t<tr><td>Module_02</td><td>0.5073438</td><td>0.3927478</td><td>-0.11459605</td><td> 0.000000e+00</td><td> 0.000000e+00</td><td>      Inf</td></tr>\n",
       "\t<tr><td>Module_03</td><td>0.4844436</td><td>0.5625887</td><td> 0.07814511</td><td> 1.571698e-43</td><td> 3.333906e-43</td><td> 42.47705</td></tr>\n",
       "</tbody>\n",
       "</table>\n"
      ],
      "text/latex": [
       "A tibble: 3 × 7\n",
       "\\begin{tabular}{lllllll}\n",
       " Group & Label\\_0 & Label\\_1 & Diff & pval & padj & nlog10p\\\\\n",
       " <chr> & <dbl> & <dbl> & <dbl> & <dbl> & <dbl> & <dbl>\\\\\n",
       "\\hline\n",
       "\t Module\\_01 & 0.4794890 & 0.5790634 &  0.09957438 & 5.262701e-131 & 2.046606e-130 & 129.68897\\\\\n",
       "\t Module\\_02 & 0.5073438 & 0.3927478 & -0.11459605 &  0.000000e+00 &  0.000000e+00 &       Inf\\\\\n",
       "\t Module\\_03 & 0.4844436 & 0.5625887 &  0.07814511 &  1.571698e-43 &  3.333906e-43 &  42.47705\\\\\n",
       "\\end{tabular}\n"
      ],
      "text/markdown": [
       "\n",
       "A tibble: 3 × 7\n",
       "\n",
       "| Group &lt;chr&gt; | Label_0 &lt;dbl&gt; | Label_1 &lt;dbl&gt; | Diff &lt;dbl&gt; | pval &lt;dbl&gt; | padj &lt;dbl&gt; | nlog10p &lt;dbl&gt; |\n",
       "|---|---|---|---|---|---|---|\n",
       "| Module_01 | 0.4794890 | 0.5790634 |  0.09957438 | 5.262701e-131 | 2.046606e-130 | 129.68897 |\n",
       "| Module_02 | 0.5073438 | 0.3927478 | -0.11459605 |  0.000000e+00 |  0.000000e+00 |       Inf |\n",
       "| Module_03 | 0.4844436 | 0.5625887 |  0.07814511 |  1.571698e-43 |  3.333906e-43 |  42.47705 |\n",
       "\n"
      ],
      "text/plain": [
       "  Group     Label_0   Label_1   Diff        pval          padj         \n",
       "1 Module_01 0.4794890 0.5790634  0.09957438 5.262701e-131 2.046606e-130\n",
       "2 Module_02 0.5073438 0.3927478 -0.11459605  0.000000e+00  0.000000e+00\n",
       "3 Module_03 0.4844436 0.5625887  0.07814511  1.571698e-43  3.333906e-43\n",
       "  nlog10p  \n",
       "1 129.68897\n",
       "2       Inf\n",
       "3  42.47705"
      ]
     },
     "metadata": {},
     "output_type": "display_data"
    }
   ],
   "source": [
    "txt_region = \"fcc_astarr_macs_input_overlap\"\n",
    "txt_fdiry  = file.path(FD_RES, \"region_integration\", txt_region)\n",
    "txt_fname  = \"result.test.ranknom.module.wcox.tsv\"\n",
    "txt_fpath  = file.path(txt_fdiry, txt_fname)\n",
    "\n",
    "dat = read_tsv(txt_fpath)\n",
    "dat_res_wcox = dat\n",
    "head(dat, 3)"
   ]
  },
  {
   "cell_type": "code",
   "execution_count": null,
   "id": "e8deec05-1887-4679-99b8-734bb105c33e",
   "metadata": {},
   "outputs": [],
   "source": []
  },
  {
   "cell_type": "code",
   "execution_count": null,
   "id": "406262ec-609b-4850-a8d5-64fe7c24c0a0",
   "metadata": {},
   "outputs": [],
   "source": []
  },
  {
   "cell_type": "code",
   "execution_count": null,
   "id": "12db91c7-ef04-40e3-a704-f4e5809c3ba3",
   "metadata": {},
   "outputs": [],
   "source": []
  },
  {
   "cell_type": "code",
   "execution_count": 20,
   "id": "d16b70f8-eeee-494f-9973-561645ac85a5",
   "metadata": {},
   "outputs": [],
   "source": [
    "dat = dat_res_gsea\n",
    "dat = dat %>% dplyr::select(pathway, NES, padj)\n",
    "colnames(dat) = c(\"Module\", \"NES\", \"Padj_GSEA\")\n",
    "dat = dat %>% dplyr::mutate(Rank_NES = rank(NES), Rank_Padj_GSEA = rank(Padj_GSEA))\n",
    "dat1 = dat\n",
    "\n",
    "dat = dat_res_wcox\n",
    "dat = dat %>% dplyr::select(Group, Diff, padj)\n",
    "colnames(dat) = c(\"Module\", \"Diff\", \"Padj_WCOX\")\n",
    "dat = dat %>% dplyr::mutate(Rank_Diff = rank(Diff), Rank_Padj_WCOX = rank(Padj_WCOX))\n",
    "dat2 = dat\n",
    "\n",
    "dat_res_merge = dplyr::left_join(dat1, dat2, by = \"Module\")"
   ]
  },
  {
   "cell_type": "code",
   "execution_count": 21,
   "id": "a880d86e-af99-434c-bc51-a5321df32844",
   "metadata": {},
   "outputs": [
    {
     "data": {
      "text/html": [
       "<table class=\"dataframe\">\n",
       "<caption>A tibble: 6 × 9</caption>\n",
       "<thead>\n",
       "\t<tr><th scope=col>Module</th><th scope=col>NES</th><th scope=col>Padj_GSEA</th><th scope=col>Rank_NES</th><th scope=col>Rank_Padj_GSEA</th><th scope=col>Diff</th><th scope=col>Padj_WCOX</th><th scope=col>Rank_Diff</th><th scope=col>Rank_Padj_WCOX</th></tr>\n",
       "\t<tr><th scope=col>&lt;chr&gt;</th><th scope=col>&lt;dbl&gt;</th><th scope=col>&lt;dbl&gt;</th><th scope=col>&lt;dbl&gt;</th><th scope=col>&lt;dbl&gt;</th><th scope=col>&lt;dbl&gt;</th><th scope=col>&lt;dbl&gt;</th><th scope=col>&lt;dbl&gt;</th><th scope=col>&lt;dbl&gt;</th></tr>\n",
       "</thead>\n",
       "<tbody>\n",
       "\t<tr><td>Module_01</td><td>2.238566</td><td>1.626464e-111</td><td>48</td><td>17</td><td> 0.09957438</td><td>2.046606e-130</td><td>45</td><td>18.0</td></tr>\n",
       "\t<tr><td>Module_02</td><td>      NA</td><td>           NA</td><td>70</td><td>70</td><td>-0.11459605</td><td> 0.000000e+00</td><td> 1</td><td> 2.5</td></tr>\n",
       "\t<tr><td>Module_03</td><td>1.963153</td><td> 3.453915e-36</td><td>34</td><td>33</td><td> 0.07814511</td><td> 3.333906e-43</td><td>32</td><td>33.0</td></tr>\n",
       "\t<tr><td>Module_04</td><td>1.955139</td><td> 2.999403e-56</td><td>33</td><td>27</td><td> 0.07643769</td><td> 8.553121e-68</td><td>29</td><td>27.0</td></tr>\n",
       "\t<tr><td>Module_05</td><td>1.968653</td><td> 2.265498e-34</td><td>35</td><td>34</td><td> 0.07941261</td><td> 3.592909e-43</td><td>33</td><td>34.0</td></tr>\n",
       "\t<tr><td>Module_06</td><td>2.176726</td><td>3.280680e-122</td><td>46</td><td>15</td><td> 0.09594647</td><td>4.213572e-140</td><td>41</td><td>17.0</td></tr>\n",
       "</tbody>\n",
       "</table>\n"
      ],
      "text/latex": [
       "A tibble: 6 × 9\n",
       "\\begin{tabular}{lllllllll}\n",
       " Module & NES & Padj\\_GSEA & Rank\\_NES & Rank\\_Padj\\_GSEA & Diff & Padj\\_WCOX & Rank\\_Diff & Rank\\_Padj\\_WCOX\\\\\n",
       " <chr> & <dbl> & <dbl> & <dbl> & <dbl> & <dbl> & <dbl> & <dbl> & <dbl>\\\\\n",
       "\\hline\n",
       "\t Module\\_01 & 2.238566 & 1.626464e-111 & 48 & 17 &  0.09957438 & 2.046606e-130 & 45 & 18.0\\\\\n",
       "\t Module\\_02 &       NA &            NA & 70 & 70 & -0.11459605 &  0.000000e+00 &  1 &  2.5\\\\\n",
       "\t Module\\_03 & 1.963153 &  3.453915e-36 & 34 & 33 &  0.07814511 &  3.333906e-43 & 32 & 33.0\\\\\n",
       "\t Module\\_04 & 1.955139 &  2.999403e-56 & 33 & 27 &  0.07643769 &  8.553121e-68 & 29 & 27.0\\\\\n",
       "\t Module\\_05 & 1.968653 &  2.265498e-34 & 35 & 34 &  0.07941261 &  3.592909e-43 & 33 & 34.0\\\\\n",
       "\t Module\\_06 & 2.176726 & 3.280680e-122 & 46 & 15 &  0.09594647 & 4.213572e-140 & 41 & 17.0\\\\\n",
       "\\end{tabular}\n"
      ],
      "text/markdown": [
       "\n",
       "A tibble: 6 × 9\n",
       "\n",
       "| Module &lt;chr&gt; | NES &lt;dbl&gt; | Padj_GSEA &lt;dbl&gt; | Rank_NES &lt;dbl&gt; | Rank_Padj_GSEA &lt;dbl&gt; | Diff &lt;dbl&gt; | Padj_WCOX &lt;dbl&gt; | Rank_Diff &lt;dbl&gt; | Rank_Padj_WCOX &lt;dbl&gt; |\n",
       "|---|---|---|---|---|---|---|---|---|\n",
       "| Module_01 | 2.238566 | 1.626464e-111 | 48 | 17 |  0.09957438 | 2.046606e-130 | 45 | 18.0 |\n",
       "| Module_02 |       NA |            NA | 70 | 70 | -0.11459605 |  0.000000e+00 |  1 |  2.5 |\n",
       "| Module_03 | 1.963153 |  3.453915e-36 | 34 | 33 |  0.07814511 |  3.333906e-43 | 32 | 33.0 |\n",
       "| Module_04 | 1.955139 |  2.999403e-56 | 33 | 27 |  0.07643769 |  8.553121e-68 | 29 | 27.0 |\n",
       "| Module_05 | 1.968653 |  2.265498e-34 | 35 | 34 |  0.07941261 |  3.592909e-43 | 33 | 34.0 |\n",
       "| Module_06 | 2.176726 | 3.280680e-122 | 46 | 15 |  0.09594647 | 4.213572e-140 | 41 | 17.0 |\n",
       "\n"
      ],
      "text/plain": [
       "  Module    NES      Padj_GSEA     Rank_NES Rank_Padj_GSEA Diff       \n",
       "1 Module_01 2.238566 1.626464e-111 48       17              0.09957438\n",
       "2 Module_02       NA            NA 70       70             -0.11459605\n",
       "3 Module_03 1.963153  3.453915e-36 34       33              0.07814511\n",
       "4 Module_04 1.955139  2.999403e-56 33       27              0.07643769\n",
       "5 Module_05 1.968653  2.265498e-34 35       34              0.07941261\n",
       "6 Module_06 2.176726 3.280680e-122 46       15              0.09594647\n",
       "  Padj_WCOX     Rank_Diff Rank_Padj_WCOX\n",
       "1 2.046606e-130 45        18.0          \n",
       "2  0.000000e+00  1         2.5          \n",
       "3  3.333906e-43 32        33.0          \n",
       "4  8.553121e-68 29        27.0          \n",
       "5  3.592909e-43 33        34.0          \n",
       "6 4.213572e-140 41        17.0          "
      ]
     },
     "metadata": {},
     "output_type": "display_data"
    }
   ],
   "source": [
    "dat = dat_res_merge\n",
    "head(dat)"
   ]
  },
  {
   "cell_type": "code",
   "execution_count": 22,
   "id": "509975bd-bf3d-4584-9d9e-5bda991f8795",
   "metadata": {},
   "outputs": [
    {
     "name": "stderr",
     "output_type": "stream",
     "text": [
      "Warning message:\n",
      "“\u001b[1m\u001b[22mRemoved 1 row containing missing values or values outside the scale range\n",
      "(`geom_point()`).”\n"
     ]
    },
    {
     "data": {
      "image/png": "[encoded data removed]",
      "text/plain": [
       "plot without title"
      ]
     },
     "metadata": {
      "image/png": {
       "height": 420,
       "width": 420
      }
     },
     "output_type": "display_data"
    }
   ],
   "source": [
    "gpt = ggplot(dat, aes(x=NES, y=Diff)) + geom_point() + theme_cowplot() + background_grid()\n",
    "print(gpt)"
   ]
  },
  {
   "cell_type": "code",
   "execution_count": 23,
   "id": "323b866f-3c4a-406d-b919-a024a93cd5aa",
   "metadata": {},
   "outputs": [
    {
     "data": {
      "image/png": "[encoded data removed]",
      "text/plain": [
       "plot without title"
      ]
     },
     "metadata": {
      "image/png": {
       "height": 420,
       "width": 420
      }
     },
     "output_type": "display_data"
    }
   ],
   "source": [
    "gpt = ggplot(dat, aes(x=Rank_NES, y=Rank_Diff)) + \n",
    "    geom_point() + \n",
    "    theme_cowplot() + \n",
    "    background_grid()\n",
    "print(gpt)"
   ]
  },
  {
   "cell_type": "code",
   "execution_count": 24,
   "id": "67a45788-74cc-4d4c-8cda-bb1d873d6017",
   "metadata": {},
   "outputs": [
    {
     "data": {
      "image/png": "[encoded data removed]",
      "text/plain": [
       "plot without title"
      ]
     },
     "metadata": {
      "image/png": {
       "height": 420,
       "width": 420
      }
     },
     "output_type": "display_data"
    }
   ],
   "source": [
    "gpt = ggplot(dat, aes(x=Rank_Padj_GSEA, y=Rank_Padj_WCOX)) + \n",
    "    geom_point() + \n",
    "    theme_cowplot() + \n",
    "    background_grid()\n",
    "print(gpt)"
   ]
  },
  {
   "cell_type": "code",
   "execution_count": null,
   "id": "a5ae9fb6-a5a9-44d9-9494-206317f5876e",
   "metadata": {},
   "outputs": [],
   "source": []
  }
 ],
 "metadata": {
  "kernelspec": {
   "display_name": "R",
   "language": "R",
   "name": "ir"
  },
  "language_info": {
   "codemirror_mode": "r",
   "file_extension": ".r",
   "mimetype": "text/x-r-source",
   "name": "R",
   "pygments_lexer": "r",
   "version": "4.4.1"
  }
 },
 "nbformat": 4,
 "nbformat_minor": 5
}
