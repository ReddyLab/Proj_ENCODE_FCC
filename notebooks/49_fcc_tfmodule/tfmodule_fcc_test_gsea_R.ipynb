{
 "cells": [
  {
   "cell_type": "raw",
   "id": "91acb877-38ac-4993-a53e-ec71a7f05eef",
   "metadata": {},
   "source": [
    "---\n",
    "title: Prepare TF Modules 01\n",
    "subtitle: Explore the data\n",
    "format:\n",
    "    html:\n",
    "        code-fold:  true\n",
    "        code-tools: true\n",
    "---"
   ]
  },
  {
   "cell_type": "markdown",
   "id": "590d93b1-646c-4a8c-a1d7-412d1126686a",
   "metadata": {},
   "source": [
    "**Set environment**"
   ]
  },
  {
   "cell_type": "code",
   "execution_count": 43,
   "id": "d23a5606-18da-4c6e-8d3f-c0c43f0c0bf0",
   "metadata": {},
   "outputs": [
    {
     "name": "stdout",
     "output_type": "stream",
     "text": [
      "You are working on        Singularity \n",
      "BASE DIRECTORY (FD_BASE): /mount \n",
      "REPO DIRECTORY (FD_REPO): /mount/repo \n",
      "WORK DIRECTORY (FD_WORK): /mount/work \n",
      "DATA DIRECTORY (FD_DATA): /mount/data \n",
      "\n",
      "You are working with      ENCODE FCC \n",
      "PATH OF PROJECT (FD_PRJ): /mount/repo/Proj_ENCODE_FCC \n",
      "PROJECT RESULTS (FD_RES): /mount/repo/Proj_ENCODE_FCC/results \n",
      "PROJECT SCRIPTS (FD_EXE): /mount/repo/Proj_ENCODE_FCC/scripts \n",
      "PROJECT DATA    (FD_DAT): /mount/repo/Proj_ENCODE_FCC/data \n",
      "PROJECT NOTE    (FD_NBK): /mount/repo/Proj_ENCODE_FCC/notebooks \n",
      "PROJECT DOCS    (FD_DOC): /mount/repo/Proj_ENCODE_FCC/docs \n",
      "PROJECT LOG     (FD_LOG): /mount/repo/Proj_ENCODE_FCC/log \n",
      "PROJECT APP     (FD_APP): /mount/repo/Proj_ENCODE_FCC/app \n",
      "PROJECT REF     (FD_REF): /mount/repo/Proj_ENCODE_FCC/references \n",
      "\n"
     ]
    }
   ],
   "source": [
    "suppressMessages(suppressWarnings(source(\"../run_config_project_sing.R\")))\n",
    "library(\"fgsea\")\n",
    "show_env()"
   ]
  },
  {
   "cell_type": "code",
   "execution_count": 18,
   "id": "e919dbb3-b4d8-4319-8cc3-550e0891b638",
   "metadata": {},
   "outputs": [
    {
     "name": "stdout",
     "output_type": "stream",
     "text": [
      "[1] 60618     5\n"
     ]
    },
    {
     "data": {
      "text/html": [
       "<table>\n",
       " <thead>\n",
       "  <tr>\n",
       "   <th style=\"text-align:left;\"> Region </th>\n",
       "   <th style=\"text-align:right;\"> ASTARR </th>\n",
       "   <th style=\"text-align:right;\"> LMPRA </th>\n",
       "   <th style=\"text-align:right;\"> WSTARR </th>\n",
       "   <th style=\"text-align:right;\"> Mean </th>\n",
       "  </tr>\n",
       " </thead>\n",
       "<tbody>\n",
       "  <tr>\n",
       "   <td style=\"text-align:left;\"> chr1:100036895-100039189 </td>\n",
       "   <td style=\"text-align:right;\"> 0.9032466 </td>\n",
       "   <td style=\"text-align:right;\"> 0.9352832 </td>\n",
       "   <td style=\"text-align:right;\"> 0.9627008 </td>\n",
       "   <td style=\"text-align:right;\"> 0.9337436 </td>\n",
       "  </tr>\n",
       "  <tr>\n",
       "   <td style=\"text-align:left;\"> chr1:100048290-100048918 </td>\n",
       "   <td style=\"text-align:right;\"> 0.0495727 </td>\n",
       "   <td style=\"text-align:right;\"> 0.0133706 </td>\n",
       "   <td style=\"text-align:right;\"> 0.0349896 </td>\n",
       "   <td style=\"text-align:right;\"> 0.0326443 </td>\n",
       "  </tr>\n",
       "  <tr>\n",
       "   <td style=\"text-align:left;\"> chr1:100050225-100050529 </td>\n",
       "   <td style=\"text-align:right;\"> 0.7499258 </td>\n",
       "   <td style=\"text-align:right;\"> 0.0718681 </td>\n",
       "   <td style=\"text-align:right;\"> 0.8012307 </td>\n",
       "   <td style=\"text-align:right;\"> 0.5410082 </td>\n",
       "  </tr>\n",
       "</tbody>\n",
       "</table>"
      ]
     },
     "metadata": {},
     "output_type": "display_data"
    }
   ],
   "source": [
    "txt_region = \"fcc_astarr_macs_input_overlap\"\n",
    "txt_fdiry  = file.path(FD_RES, \"region_integration\", txt_region)\n",
    "txt_fname  = \"result.coverage.ranknorm.whg.tsv\"\n",
    "txt_fpath  = file.path(txt_fdiry, txt_fname)\n",
    "\n",
    "dat = read_tsv(txt_fpath, show_col_types = FALSE)\n",
    "dat_region_score_starrmpra_ranknorm = dat\n",
    "\n",
    "print(dim(dat))\n",
    "fun_display_table(head(dat, 3))"
   ]
  },
  {
   "cell_type": "code",
   "execution_count": 19,
   "id": "b4d226f8-ee3d-4826-a714-7b37b46eb3b2",
   "metadata": {},
   "outputs": [
    {
     "data": {
      "text/html": [
       "<table class=\"dataframe\">\n",
       "<caption>A tibble: 3 × 5</caption>\n",
       "<thead>\n",
       "\t<tr><th scope=col>Region</th><th scope=col>ASTARR</th><th scope=col>LMPRA</th><th scope=col>WSTARR</th><th scope=col>Mean</th></tr>\n",
       "\t<tr><th scope=col>&lt;chr&gt;</th><th scope=col>&lt;dbl&gt;</th><th scope=col>&lt;dbl&gt;</th><th scope=col>&lt;dbl&gt;</th><th scope=col>&lt;dbl&gt;</th></tr>\n",
       "</thead>\n",
       "<tbody>\n",
       "\t<tr><td>chr11:119493738-119494104</td><td>0.0013692303</td><td>0.002458016</td><td>0.0002804448</td><td>0.001369230</td></tr>\n",
       "\t<tr><td>chr12:109020860-109021302</td><td>0.0003629285</td><td>0.003612788</td><td>0.0051469860</td><td>0.003040901</td></tr>\n",
       "\t<tr><td>chr2:112821224-112821459 </td><td>0.0018641328</td><td>0.008182388</td><td>0.0003959220</td><td>0.003480814</td></tr>\n",
       "</tbody>\n",
       "</table>\n"
      ],
      "text/latex": [
       "A tibble: 3 × 5\n",
       "\\begin{tabular}{lllll}\n",
       " Region & ASTARR & LMPRA & WSTARR & Mean\\\\\n",
       " <chr> & <dbl> & <dbl> & <dbl> & <dbl>\\\\\n",
       "\\hline\n",
       "\t chr11:119493738-119494104 & 0.0013692303 & 0.002458016 & 0.0002804448 & 0.001369230\\\\\n",
       "\t chr12:109020860-109021302 & 0.0003629285 & 0.003612788 & 0.0051469860 & 0.003040901\\\\\n",
       "\t chr2:112821224-112821459  & 0.0018641328 & 0.008182388 & 0.0003959220 & 0.003480814\\\\\n",
       "\\end{tabular}\n"
      ],
      "text/markdown": [
       "\n",
       "A tibble: 3 × 5\n",
       "\n",
       "| Region &lt;chr&gt; | ASTARR &lt;dbl&gt; | LMPRA &lt;dbl&gt; | WSTARR &lt;dbl&gt; | Mean &lt;dbl&gt; |\n",
       "|---|---|---|---|---|\n",
       "| chr11:119493738-119494104 | 0.0013692303 | 0.002458016 | 0.0002804448 | 0.001369230 |\n",
       "| chr12:109020860-109021302 | 0.0003629285 | 0.003612788 | 0.0051469860 | 0.003040901 |\n",
       "| chr2:112821224-112821459  | 0.0018641328 | 0.008182388 | 0.0003959220 | 0.003480814 |\n",
       "\n"
      ],
      "text/plain": [
       "  Region                    ASTARR       LMPRA       WSTARR       Mean       \n",
       "1 chr11:119493738-119494104 0.0013692303 0.002458016 0.0002804448 0.001369230\n",
       "2 chr12:109020860-109021302 0.0003629285 0.003612788 0.0051469860 0.003040901\n",
       "3 chr2:112821224-112821459  0.0018641328 0.008182388 0.0003959220 0.003480814"
      ]
     },
     "metadata": {},
     "output_type": "display_data"
    }
   ],
   "source": [
    "dat = dat_region_score_starrmpra_ranknorm\n",
    "dat = dat %>% dplyr::arrange(Mean)\n",
    "\n",
    "VEC_TXT_REGION = dat$Region\n",
    "VEC_TXT_ASSAY  = c(\"ASTARR\", \"WSTARR\", \"LMPRA\")\n",
    "head(dat, 3)"
   ]
  },
  {
   "cell_type": "code",
   "execution_count": 15,
   "id": "763b3266-c2e1-4468-a29a-55c3cac883e0",
   "metadata": {},
   "outputs": [
    {
     "name": "stdout",
     "output_type": "stream",
     "text": [
      "[1] 181854      3\n"
     ]
    },
    {
     "data": {
      "text/html": [
       "<table class=\"dataframe\">\n",
       "<caption>A tibble: 6 × 3</caption>\n",
       "<thead>\n",
       "\t<tr><th scope=col>Region</th><th scope=col>Assay</th><th scope=col>Score</th></tr>\n",
       "\t<tr><th scope=col>&lt;fct&gt;</th><th scope=col>&lt;fct&gt;</th><th scope=col>&lt;dbl&gt;</th></tr>\n",
       "</thead>\n",
       "<tbody>\n",
       "\t<tr><td>chr1:100036895-100039189</td><td>ASTARR</td><td>0.90324656</td></tr>\n",
       "\t<tr><td>chr1:100048290-100048918</td><td>ASTARR</td><td>0.04957273</td></tr>\n",
       "\t<tr><td>chr1:100050225-100050529</td><td>ASTARR</td><td>0.74992576</td></tr>\n",
       "\t<tr><td>chr1:100132375-100133491</td><td>ASTARR</td><td>0.98051734</td></tr>\n",
       "\t<tr><td>chr1:10015258-10016191  </td><td>ASTARR</td><td>0.34964862</td></tr>\n",
       "\t<tr><td>chr1:100248956-100250290</td><td>ASTARR</td><td>0.80720248</td></tr>\n",
       "</tbody>\n",
       "</table>\n"
      ],
      "text/latex": [
       "A tibble: 6 × 3\n",
       "\\begin{tabular}{lll}\n",
       " Region & Assay & Score\\\\\n",
       " <fct> & <fct> & <dbl>\\\\\n",
       "\\hline\n",
       "\t chr1:100036895-100039189 & ASTARR & 0.90324656\\\\\n",
       "\t chr1:100048290-100048918 & ASTARR & 0.04957273\\\\\n",
       "\t chr1:100050225-100050529 & ASTARR & 0.74992576\\\\\n",
       "\t chr1:100132375-100133491 & ASTARR & 0.98051734\\\\\n",
       "\t chr1:10015258-10016191   & ASTARR & 0.34964862\\\\\n",
       "\t chr1:100248956-100250290 & ASTARR & 0.80720248\\\\\n",
       "\\end{tabular}\n"
      ],
      "text/markdown": [
       "\n",
       "A tibble: 6 × 3\n",
       "\n",
       "| Region &lt;fct&gt; | Assay &lt;fct&gt; | Score &lt;dbl&gt; |\n",
       "|---|---|---|\n",
       "| chr1:100036895-100039189 | ASTARR | 0.90324656 |\n",
       "| chr1:100048290-100048918 | ASTARR | 0.04957273 |\n",
       "| chr1:100050225-100050529 | ASTARR | 0.74992576 |\n",
       "| chr1:100132375-100133491 | ASTARR | 0.98051734 |\n",
       "| chr1:10015258-10016191   | ASTARR | 0.34964862 |\n",
       "| chr1:100248956-100250290 | ASTARR | 0.80720248 |\n",
       "\n"
      ],
      "text/plain": [
       "  Region                   Assay  Score     \n",
       "1 chr1:100036895-100039189 ASTARR 0.90324656\n",
       "2 chr1:100048290-100048918 ASTARR 0.04957273\n",
       "3 chr1:100050225-100050529 ASTARR 0.74992576\n",
       "4 chr1:100132375-100133491 ASTARR 0.98051734\n",
       "5 chr1:10015258-10016191   ASTARR 0.34964862\n",
       "6 chr1:100248956-100250290 ASTARR 0.80720248"
      ]
     },
     "metadata": {},
     "output_type": "display_data"
    }
   ],
   "source": [
    "dat = dat_region_starrmpra_ranknorm\n",
    "dat = dat %>%\n",
    "    dplyr::select(-Mean) %>%\n",
    "    tidyr::gather(Assay, Score, -Region) %>% \n",
    "    dplyr::mutate(\n",
    "        Assay  = factor(Assay,  levels=VEC_TXT_ASSAY),\n",
    "        Region = factor(Region, levels=VEC_TXT_REGION),\n",
    "    )\n",
    "\n",
    "dat_region_score = dat\n",
    "print(dim(dat))\n",
    "head(dat)"
   ]
  },
  {
   "cell_type": "code",
   "execution_count": 16,
   "id": "ee5d9757-6e8d-45af-9be6-504ecbe49bde",
   "metadata": {},
   "outputs": [
    {
     "data": {
      "image/png": "[encoded data removed]",
      "text/plain": [
       "plot without title"
      ]
     },
     "metadata": {
      "image/png": {
       "height": 180,
       "width": 900
      }
     },
     "output_type": "display_data"
    }
   ],
   "source": [
    "theme_fill = scale_fill_gradient2(\n",
    "    low  = \"#4575b4\",\n",
    "    mid  = \"#ffffbf\",\n",
    "    high = \"#d73027\",\n",
    "    midpoint = 0.5\n",
    ")\n",
    "\n",
    "theme_text = theme(\n",
    "    axis.ticks.x = element_blank(),\n",
    "    axis.text.x  = element_blank(),\n",
    "    axis.text.y  = element_text(size = 15),\n",
    "    #axis.title.x = element_text(size = 20),\n",
    "    axis.title.x = element_blank(),\n",
    "    axis.title.y = element_blank()\n",
    ")\n",
    "\n",
    "theme_legend = theme(legend.position = \"none\")\n",
    "\n",
    "dat = dat_region_score\n",
    "\n",
    "gpt = ggplot(dat, aes(x=Region, y=Assay, fill=Score)) +\n",
    "    geom_tile() +\n",
    "    labs(x=\"Open Chromatin Regions\") +\n",
    "    theme_cowplot() + \n",
    "    theme_text +\n",
    "    theme_fill\n",
    "\n",
    "gpt_score_starrmpra = gpt + theme(legend.position = \"none\")\n",
    "\n",
    "options(repr.plot.height=3, repr.plot.width=15)\n",
    "print(gpt)"
   ]
  },
  {
   "cell_type": "code",
   "execution_count": null,
   "id": "25f2bcb5-ca6e-4f60-86af-3d52ba290c2e",
   "metadata": {},
   "outputs": [],
   "source": []
  },
  {
   "cell_type": "code",
   "execution_count": null,
   "id": "772a4476-6630-48ed-8c9c-026436d286e1",
   "metadata": {},
   "outputs": [],
   "source": []
  },
  {
   "cell_type": "code",
   "execution_count": null,
   "id": "afd21a1b-1a01-45b1-8b7f-aa080fea7e9d",
   "metadata": {},
   "outputs": [],
   "source": []
  },
  {
   "cell_type": "code",
   "execution_count": 26,
   "id": "dea05539-a4d7-4a8c-8644-3ef8ea502209",
   "metadata": {},
   "outputs": [
    {
     "data": {
      "text/html": [
       "<table class=\"dataframe\">\n",
       "<caption>A tibble: 6 × 6</caption>\n",
       "<thead>\n",
       "\t<tr><th scope=col>Chrom</th><th scope=col>ChromStart</th><th scope=col>ChromEnd</th><th scope=col>Region</th><th scope=col>Group</th><th scope=col>Label</th></tr>\n",
       "\t<tr><th scope=col>&lt;chr&gt;</th><th scope=col>&lt;dbl&gt;</th><th scope=col>&lt;dbl&gt;</th><th scope=col>&lt;chr&gt;</th><th scope=col>&lt;chr&gt;</th><th scope=col>&lt;chr&gt;</th></tr>\n",
       "</thead>\n",
       "<tbody>\n",
       "\t<tr><td>chr1</td><td>115429</td><td>115969</td><td>chr1:115429-115969</td><td>TF_Module</td><td>Module_02</td></tr>\n",
       "\t<tr><td>chr1</td><td>115429</td><td>115969</td><td>chr1:115429-115969</td><td>TF_Module</td><td>Module_05</td></tr>\n",
       "\t<tr><td>chr1</td><td>115429</td><td>115969</td><td>chr1:115429-115969</td><td>TF_Module</td><td>Module_10</td></tr>\n",
       "\t<tr><td>chr1</td><td>115429</td><td>115969</td><td>chr1:115429-115969</td><td>TF_Module</td><td>Module_44</td></tr>\n",
       "\t<tr><td>chr1</td><td>136201</td><td>137353</td><td>chr1:136201-137353</td><td>TF_Module</td><td>Module_27</td></tr>\n",
       "\t<tr><td>chr1</td><td>138321</td><td>139517</td><td>chr1:138321-139517</td><td>TF_Module</td><td>Module_02</td></tr>\n",
       "</tbody>\n",
       "</table>\n"
      ],
      "text/latex": [
       "A tibble: 6 × 6\n",
       "\\begin{tabular}{llllll}\n",
       " Chrom & ChromStart & ChromEnd & Region & Group & Label\\\\\n",
       " <chr> & <dbl> & <dbl> & <chr> & <chr> & <chr>\\\\\n",
       "\\hline\n",
       "\t chr1 & 115429 & 115969 & chr1:115429-115969 & TF\\_Module & Module\\_02\\\\\n",
       "\t chr1 & 115429 & 115969 & chr1:115429-115969 & TF\\_Module & Module\\_05\\\\\n",
       "\t chr1 & 115429 & 115969 & chr1:115429-115969 & TF\\_Module & Module\\_10\\\\\n",
       "\t chr1 & 115429 & 115969 & chr1:115429-115969 & TF\\_Module & Module\\_44\\\\\n",
       "\t chr1 & 136201 & 137353 & chr1:136201-137353 & TF\\_Module & Module\\_27\\\\\n",
       "\t chr1 & 138321 & 139517 & chr1:138321-139517 & TF\\_Module & Module\\_02\\\\\n",
       "\\end{tabular}\n"
      ],
      "text/markdown": [
       "\n",
       "A tibble: 6 × 6\n",
       "\n",
       "| Chrom &lt;chr&gt; | ChromStart &lt;dbl&gt; | ChromEnd &lt;dbl&gt; | Region &lt;chr&gt; | Group &lt;chr&gt; | Label &lt;chr&gt; |\n",
       "|---|---|---|---|---|---|\n",
       "| chr1 | 115429 | 115969 | chr1:115429-115969 | TF_Module | Module_02 |\n",
       "| chr1 | 115429 | 115969 | chr1:115429-115969 | TF_Module | Module_05 |\n",
       "| chr1 | 115429 | 115969 | chr1:115429-115969 | TF_Module | Module_10 |\n",
       "| chr1 | 115429 | 115969 | chr1:115429-115969 | TF_Module | Module_44 |\n",
       "| chr1 | 136201 | 137353 | chr1:136201-137353 | TF_Module | Module_27 |\n",
       "| chr1 | 138321 | 139517 | chr1:138321-139517 | TF_Module | Module_02 |\n",
       "\n"
      ],
      "text/plain": [
       "  Chrom ChromStart ChromEnd Region             Group     Label    \n",
       "1 chr1  115429     115969   chr1:115429-115969 TF_Module Module_02\n",
       "2 chr1  115429     115969   chr1:115429-115969 TF_Module Module_05\n",
       "3 chr1  115429     115969   chr1:115429-115969 TF_Module Module_10\n",
       "4 chr1  115429     115969   chr1:115429-115969 TF_Module Module_44\n",
       "5 chr1  136201     137353   chr1:136201-137353 TF_Module Module_27\n",
       "6 chr1  138321     139517   chr1:138321-139517 TF_Module Module_02"
      ]
     },
     "metadata": {},
     "output_type": "display_data"
    }
   ],
   "source": [
    "txt_fdiry = file.path(\n",
    "    FD_RES, \n",
    "    \"region_annotation\", \n",
    "    \"fcc_astarr_macs_input_overlap\",\n",
    "    \"summary\"\n",
    ")\n",
    "txt_fname = \"result.summary.tfmodule.tsv\"\n",
    "txt_fpath = file.path(txt_fdiry, txt_fname)\n",
    "\n",
    "dat = read_tsv(txt_fpath, show_col_types = FALSE)\n",
    "\n",
    "dat_region_annot_tfmodule = dat\n",
    "head(dat)"
   ]
  },
  {
   "cell_type": "code",
   "execution_count": null,
   "id": "86f6d8f8-93d4-4cca-a3da-ecf6f60bff9c",
   "metadata": {},
   "outputs": [],
   "source": []
  },
  {
   "cell_type": "code",
   "execution_count": null,
   "id": "c5aca8b7-a1a1-46e3-91c1-bb073accae35",
   "metadata": {},
   "outputs": [],
   "source": []
  },
  {
   "cell_type": "code",
   "execution_count": null,
   "id": "0fb25969-e3d7-4c5b-b342-212d9a6cc3a4",
   "metadata": {},
   "outputs": [],
   "source": []
  },
  {
   "cell_type": "code",
   "execution_count": 37,
   "id": "bf57f7ac-933c-401a-9afb-42e22c6a943c",
   "metadata": {},
   "outputs": [
    {
     "name": "stdout",
     "output_type": "stream",
     "text": [
      "[1] 60618     2\n"
     ]
    },
    {
     "data": {
      "text/html": [
       "<table class=\"dataframe\">\n",
       "<caption>A tibble: 3 × 2</caption>\n",
       "<thead>\n",
       "\t<tr><th scope=col>Region</th><th scope=col>Score</th></tr>\n",
       "\t<tr><th scope=col>&lt;chr&gt;</th><th scope=col>&lt;dbl&gt;</th></tr>\n",
       "</thead>\n",
       "<tbody>\n",
       "\t<tr><td>chr1:100036895-100039189</td><td>0.93374355</td></tr>\n",
       "\t<tr><td>chr1:100048290-100048918</td><td>0.03264432</td></tr>\n",
       "\t<tr><td>chr1:100050225-100050529</td><td>0.54100817</td></tr>\n",
       "</tbody>\n",
       "</table>\n"
      ],
      "text/latex": [
       "A tibble: 3 × 2\n",
       "\\begin{tabular}{ll}\n",
       " Region & Score\\\\\n",
       " <chr> & <dbl>\\\\\n",
       "\\hline\n",
       "\t chr1:100036895-100039189 & 0.93374355\\\\\n",
       "\t chr1:100048290-100048918 & 0.03264432\\\\\n",
       "\t chr1:100050225-100050529 & 0.54100817\\\\\n",
       "\\end{tabular}\n"
      ],
      "text/markdown": [
       "\n",
       "A tibble: 3 × 2\n",
       "\n",
       "| Region &lt;chr&gt; | Score &lt;dbl&gt; |\n",
       "|---|---|\n",
       "| chr1:100036895-100039189 | 0.93374355 |\n",
       "| chr1:100048290-100048918 | 0.03264432 |\n",
       "| chr1:100050225-100050529 | 0.54100817 |\n",
       "\n"
      ],
      "text/plain": [
       "  Region                   Score     \n",
       "1 chr1:100036895-100039189 0.93374355\n",
       "2 chr1:100048290-100048918 0.03264432\n",
       "3 chr1:100050225-100050529 0.54100817"
      ]
     },
     "metadata": {},
     "output_type": "display_data"
    }
   ],
   "source": [
    "dat = dat_region_score_starrmpra_ranknorm\n",
    "dat = dat %>% dplyr::select(Region, Mean)\n",
    "colnames(dat) = c(\"Region\", \"Score\")\n",
    "\n",
    "vec = dat$Score\n",
    "names(vec) = dat$Region\n",
    "\n",
    "dat_region_score = dat\n",
    "vec_region_score = vec\n",
    "\n",
    "print(dim(dat))\n",
    "head(dat, 3)"
   ]
  },
  {
   "cell_type": "code",
   "execution_count": 53,
   "id": "d9463e75-a02e-4e55-984a-21e25e8a80e0",
   "metadata": {},
   "outputs": [
    {
     "data": {
      "text/html": [
       "0.480319377082715"
      ],
      "text/latex": [
       "0.480319377082715"
      ],
      "text/markdown": [
       "0.480319377082715"
      ],
      "text/plain": [
       "[1] 0.4803194"
      ]
     },
     "metadata": {},
     "output_type": "display_data"
    }
   ],
   "source": [
    "vec = vec_region_score\n",
    "sum(vec > 0.5) / length(vec)"
   ]
  },
  {
   "cell_type": "code",
   "execution_count": 40,
   "id": "e61e01f2-3adc-42d4-850f-17e744bee76c",
   "metadata": {},
   "outputs": [
    {
     "name": "stdout",
     "output_type": "stream",
     "text": [
      " [1] \"Module_01\" \"Module_02\" \"Module_03\" \"Module_04\" \"Module_05\" \"Module_06\"\n",
      " [7] \"Module_07\" \"Module_08\" \"Module_09\" \"Module_10\" \"Module_11\" \"Module_12\"\n",
      "[13] \"Module_13\" \"Module_14\" \"Module_15\" \"Module_16\" \"Module_17\" \"Module_18\"\n",
      "[19] \"Module_19\" \"Module_20\" \"Module_21\" \"Module_22\" \"Module_23\" \"Module_24\"\n",
      "[25] \"Module_25\" \"Module_26\" \"Module_27\" \"Module_28\" \"Module_29\" \"Module_30\"\n",
      "[31] \"Module_31\" \"Module_33\" \"Module_34\" \"Module_35\" \"Module_36\" \"Module_37\"\n",
      "[37] \"Module_39\" \"Module_40\" \"Module_41\" \"Module_42\" \"Module_43\" \"Module_44\"\n",
      "[43] \"Module_45\" \"Module_46\" \"Module_47\" \"Module_48\" \"Module_49\" \"Module_50\"\n",
      "[49] \"Module_51\" \"Module_52\" \"Module_53\" \"Module_54\" \"Module_55\" \"Module_56\"\n",
      "[55] \"Module_57\" \"Module_58\" \"Module_59\" \"Module_61\" \"Module_63\" \"Module_64\"\n",
      "[61] \"Module_65\" \"Module_66\" \"Module_67\" \"Module_68\" \"Module_71\" \"Module_72\"\n",
      "[67] \"Module_73\" \"Module_74\" \"Module_75\" \"Module_77\"\n"
     ]
    }
   ],
   "source": [
    "dat = dat_region_annot_tfmodule\n",
    "lst = split(dat$Region, dat$Label)\n",
    "\n",
    "lst_region_annot = lst\n",
    "print(names(lst))"
   ]
  },
  {
   "cell_type": "code",
   "execution_count": 54,
   "id": "cb112431-6ced-4203-847a-eeb6dd21ffa4",
   "metadata": {},
   "outputs": [
    {
     "name": "stderr",
     "output_type": "stream",
     "text": [
      "Warning message in preparePathwaysAndStats(pathways, stats, minSize, maxSize, gseaParam, :\n",
      "“There are ties in the preranked stats (7.93% of the list).\n",
      "The order of those tied genes will be arbitrary, which may produce unexpected results.”\n",
      "Warning message in fgseaMultilevel(pathways = pathways, stats = stats, minSize = minSize, :\n",
      "“There were 1 pathways for which P-values were not calculated properly due to unbalanced (positive and negative) gene-level statistic values. For such pathways pval, padj, NES, log2err are set to NA. You can try to increase the value of the argument nPermSimple (for example set it nPermSimple = 10000)”\n"
     ]
    }
   ],
   "source": [
    "set.seed(123)\n",
    "res = fgsea(\n",
    "    pathways  = lst_region_annot, \n",
    "    stats     = vec_region_score - 0.5,\n",
    "    scoreType = \"std\",\n",
    "    eps       = 0\n",
    ")"
   ]
  },
  {
   "cell_type": "code",
   "execution_count": null,
   "id": "5d81a91d-c384-45a8-acdb-c19959948dcc",
   "metadata": {},
   "outputs": [],
   "source": [
    "scoreType = \"pos\""
   ]
  },
  {
   "cell_type": "code",
   "execution_count": 55,
   "id": "22642bca-aa54-4cc3-b6ef-1a62a8a282ba",
   "metadata": {},
   "outputs": [
    {
     "data": {
      "text/html": [
       "<table class=\"dataframe\">\n",
       "<caption>A data.table: 6 × 7</caption>\n",
       "<thead>\n",
       "\t<tr><th scope=col>pathway</th><th scope=col>pval</th><th scope=col>padj</th><th scope=col>log2err</th><th scope=col>ES</th><th scope=col>NES</th><th scope=col>size</th></tr>\n",
       "\t<tr><th scope=col>&lt;chr&gt;</th><th scope=col>&lt;dbl&gt;</th><th scope=col>&lt;dbl&gt;</th><th scope=col>&lt;dbl&gt;</th><th scope=col>&lt;dbl&gt;</th><th scope=col>&lt;dbl&gt;</th><th scope=col>&lt;int&gt;</th></tr>\n",
       "</thead>\n",
       "<tbody>\n",
       "\t<tr><td>Module_01</td><td>5.920255e-112</td><td>2.402927e-111</td><td>2.768021</td><td> 0.3488813</td><td>2.238566</td><td>4799</td></tr>\n",
       "\t<tr><td>Module_02</td><td>           NA</td><td>           NA</td><td>      NA</td><td>-0.3460024</td><td>      NA</td><td>9682</td></tr>\n",
       "\t<tr><td>Module_03</td><td> 1.304673e-35</td><td> 2.727953e-35</td><td>1.549878</td><td> 0.3124394</td><td>1.963153</td><td>2303</td></tr>\n",
       "\t<tr><td>Module_04</td><td> 5.358140e-57</td><td> 1.369302e-56</td><td>1.967838</td><td> 0.3062335</td><td>1.955139</td><td>3959</td></tr>\n",
       "\t<tr><td>Module_05</td><td> 1.794637e-34</td><td> 3.642058e-34</td><td>1.529705</td><td> 0.3140958</td><td>1.968653</td><td>2141</td></tr>\n",
       "\t<tr><td>Module_06</td><td>5.915164e-123</td><td>2.720976e-122</td><td>2.903125</td><td> 0.3378740</td><td>2.176726</td><td>5964</td></tr>\n",
       "</tbody>\n",
       "</table>\n"
      ],
      "text/latex": [
       "A data.table: 6 × 7\n",
       "\\begin{tabular}{lllllll}\n",
       " pathway & pval & padj & log2err & ES & NES & size\\\\\n",
       " <chr> & <dbl> & <dbl> & <dbl> & <dbl> & <dbl> & <int>\\\\\n",
       "\\hline\n",
       "\t Module\\_01 & 5.920255e-112 & 2.402927e-111 & 2.768021 &  0.3488813 & 2.238566 & 4799\\\\\n",
       "\t Module\\_02 &            NA &            NA &       NA & -0.3460024 &       NA & 9682\\\\\n",
       "\t Module\\_03 &  1.304673e-35 &  2.727953e-35 & 1.549878 &  0.3124394 & 1.963153 & 2303\\\\\n",
       "\t Module\\_04 &  5.358140e-57 &  1.369302e-56 & 1.967838 &  0.3062335 & 1.955139 & 3959\\\\\n",
       "\t Module\\_05 &  1.794637e-34 &  3.642058e-34 & 1.529705 &  0.3140958 & 1.968653 & 2141\\\\\n",
       "\t Module\\_06 & 5.915164e-123 & 2.720976e-122 & 2.903125 &  0.3378740 & 2.176726 & 5964\\\\\n",
       "\\end{tabular}\n"
      ],
      "text/markdown": [
       "\n",
       "A data.table: 6 × 7\n",
       "\n",
       "| pathway &lt;chr&gt; | pval &lt;dbl&gt; | padj &lt;dbl&gt; | log2err &lt;dbl&gt; | ES &lt;dbl&gt; | NES &lt;dbl&gt; | size &lt;int&gt; |\n",
       "|---|---|---|---|---|---|---|\n",
       "| Module_01 | 5.920255e-112 | 2.402927e-111 | 2.768021 |  0.3488813 | 2.238566 | 4799 |\n",
       "| Module_02 |            NA |            NA |       NA | -0.3460024 |       NA | 9682 |\n",
       "| Module_03 |  1.304673e-35 |  2.727953e-35 | 1.549878 |  0.3124394 | 1.963153 | 2303 |\n",
       "| Module_04 |  5.358140e-57 |  1.369302e-56 | 1.967838 |  0.3062335 | 1.955139 | 3959 |\n",
       "| Module_05 |  1.794637e-34 |  3.642058e-34 | 1.529705 |  0.3140958 | 1.968653 | 2141 |\n",
       "| Module_06 | 5.915164e-123 | 2.720976e-122 | 2.903125 |  0.3378740 | 2.176726 | 5964 |\n",
       "\n"
      ],
      "text/plain": [
       "  pathway   pval          padj          log2err  ES         NES      size\n",
       "1 Module_01 5.920255e-112 2.402927e-111 2.768021  0.3488813 2.238566 4799\n",
       "2 Module_02            NA            NA       NA -0.3460024       NA 9682\n",
       "3 Module_03  1.304673e-35  2.727953e-35 1.549878  0.3124394 1.963153 2303\n",
       "4 Module_04  5.358140e-57  1.369302e-56 1.967838  0.3062335 1.955139 3959\n",
       "5 Module_05  1.794637e-34  3.642058e-34 1.529705  0.3140958 1.968653 2141\n",
       "6 Module_06 5.915164e-123 2.720976e-122 2.903125  0.3378740 2.176726 5964"
      ]
     },
     "metadata": {},
     "output_type": "display_data"
    }
   ],
   "source": [
    "dat = res\n",
    "dat = dat %>%\n",
    "    dplyr::select(pathway, pval, padj, log2err, ES, NES, size)\n",
    "head(dat)"
   ]
  },
  {
   "cell_type": "code",
   "execution_count": 58,
   "id": "0ff5dad2-9307-48d1-aeea-8e8f7430650c",
   "metadata": {},
   "outputs": [
    {
     "data": {
      "text/html": [
       "3740.51428571429"
      ],
      "text/latex": [
       "3740.51428571429"
      ],
      "text/markdown": [
       "3740.51428571429"
      ],
      "text/plain": [
       "[1] 3740.514"
      ]
     },
     "metadata": {},
     "output_type": "display_data"
    }
   ],
   "source": [
    "lst = lst_region_annot\n",
    "lst = lapply(lst, length)\n",
    "vec = unlist(lst)\n",
    "mean(vec)"
   ]
  },
  {
   "cell_type": "code",
   "execution_count": 59,
   "id": "00910bac-4210-4b68-8c16-f365452017c6",
   "metadata": {},
   "outputs": [
    {
     "data": {
      "text/html": [
       "3650"
      ],
      "text/latex": [
       "3650"
      ],
      "text/markdown": [
       "3650"
      ],
      "text/plain": [
       "[1] 3650"
      ]
     },
     "metadata": {},
     "output_type": "display_data"
    }
   ],
   "source": [
    "median(vec)"
   ]
  },
  {
   "cell_type": "code",
   "execution_count": 60,
   "id": "e8dbd763-1e7c-4cf0-b1b0-63120fcb9db9",
   "metadata": {},
   "outputs": [
    {
     "name": "stderr",
     "output_type": "stream",
     "text": [
      "Warning message in preparePathwaysAndStats(pathways, stats, minSize, maxSize, gseaParam, :\n",
      "“There are ties in the preranked stats (7.93% of the list).\n",
      "The order of those tied genes will be arbitrary, which may produce unexpected results.”\n",
      "Warning message in fgseaMultilevel(pathways = pathways, stats = stats, minSize = minSize, :\n",
      "“There were 1 pathways for which P-values were not calculated properly due to unbalanced (positive and negative) gene-level statistic values. For such pathways pval, padj, NES, log2err are set to NA. You can try to increase the value of the argument nPermSimple (for example set it nPermSimple = 10000)”\n"
     ]
    }
   ],
   "source": [
    "set.seed(123)\n",
    "res2 = fgsea(\n",
    "    pathways  = lst_region_annot, \n",
    "    stats     = vec_region_score - 0.5,\n",
    "    scoreType = \"std\",\n",
    "    eps       = 0,\n",
    "    sampleSize = 3740\n",
    ")"
   ]
  },
  {
   "cell_type": "code",
   "execution_count": 61,
   "id": "0a531389-9322-4cba-a100-caa0a47c2d38",
   "metadata": {},
   "outputs": [
    {
     "data": {
      "text/html": [
       "<table class=\"dataframe\">\n",
       "<caption>A data.table: 6 × 7</caption>\n",
       "<thead>\n",
       "\t<tr><th scope=col>pathway</th><th scope=col>pval</th><th scope=col>padj</th><th scope=col>log2err</th><th scope=col>ES</th><th scope=col>NES</th><th scope=col>size</th></tr>\n",
       "\t<tr><th scope=col>&lt;chr&gt;</th><th scope=col>&lt;dbl&gt;</th><th scope=col>&lt;dbl&gt;</th><th scope=col>&lt;dbl&gt;</th><th scope=col>&lt;dbl&gt;</th><th scope=col>&lt;dbl&gt;</th><th scope=col>&lt;int&gt;</th></tr>\n",
       "</thead>\n",
       "<tbody>\n",
       "\t<tr><td>Module_01</td><td>4.007230e-112</td><td>1.626464e-111</td><td>0.4543564</td><td> 0.3488813</td><td>2.238566</td><td>4799</td></tr>\n",
       "\t<tr><td>Module_02</td><td>           NA</td><td>           NA</td><td>       NA</td><td>-0.3460024</td><td>      NA</td><td>9682</td></tr>\n",
       "\t<tr><td>Module_03</td><td> 1.651872e-36</td><td> 3.453915e-36</td><td>0.2573257</td><td> 0.3124394</td><td>1.963153</td><td>2303</td></tr>\n",
       "\t<tr><td>Module_04</td><td> 1.173679e-56</td><td> 2.999403e-56</td><td>0.3217112</td><td> 0.3062335</td><td>1.955139</td><td>3959</td></tr>\n",
       "\t<tr><td>Module_05</td><td> 1.116332e-34</td><td> 2.265498e-34</td><td>0.2507546</td><td> 0.3140958</td><td>1.968653</td><td>2141</td></tr>\n",
       "\t<tr><td>Module_06</td><td>7.131912e-123</td><td>3.280680e-122</td><td>0.4753054</td><td> 0.3378740</td><td>2.176726</td><td>5964</td></tr>\n",
       "</tbody>\n",
       "</table>\n"
      ],
      "text/latex": [
       "A data.table: 6 × 7\n",
       "\\begin{tabular}{lllllll}\n",
       " pathway & pval & padj & log2err & ES & NES & size\\\\\n",
       " <chr> & <dbl> & <dbl> & <dbl> & <dbl> & <dbl> & <int>\\\\\n",
       "\\hline\n",
       "\t Module\\_01 & 4.007230e-112 & 1.626464e-111 & 0.4543564 &  0.3488813 & 2.238566 & 4799\\\\\n",
       "\t Module\\_02 &            NA &            NA &        NA & -0.3460024 &       NA & 9682\\\\\n",
       "\t Module\\_03 &  1.651872e-36 &  3.453915e-36 & 0.2573257 &  0.3124394 & 1.963153 & 2303\\\\\n",
       "\t Module\\_04 &  1.173679e-56 &  2.999403e-56 & 0.3217112 &  0.3062335 & 1.955139 & 3959\\\\\n",
       "\t Module\\_05 &  1.116332e-34 &  2.265498e-34 & 0.2507546 &  0.3140958 & 1.968653 & 2141\\\\\n",
       "\t Module\\_06 & 7.131912e-123 & 3.280680e-122 & 0.4753054 &  0.3378740 & 2.176726 & 5964\\\\\n",
       "\\end{tabular}\n"
      ],
      "text/markdown": [
       "\n",
       "A data.table: 6 × 7\n",
       "\n",
       "| pathway &lt;chr&gt; | pval &lt;dbl&gt; | padj &lt;dbl&gt; | log2err &lt;dbl&gt; | ES &lt;dbl&gt; | NES &lt;dbl&gt; | size &lt;int&gt; |\n",
       "|---|---|---|---|---|---|---|\n",
       "| Module_01 | 4.007230e-112 | 1.626464e-111 | 0.4543564 |  0.3488813 | 2.238566 | 4799 |\n",
       "| Module_02 |            NA |            NA |        NA | -0.3460024 |       NA | 9682 |\n",
       "| Module_03 |  1.651872e-36 |  3.453915e-36 | 0.2573257 |  0.3124394 | 1.963153 | 2303 |\n",
       "| Module_04 |  1.173679e-56 |  2.999403e-56 | 0.3217112 |  0.3062335 | 1.955139 | 3959 |\n",
       "| Module_05 |  1.116332e-34 |  2.265498e-34 | 0.2507546 |  0.3140958 | 1.968653 | 2141 |\n",
       "| Module_06 | 7.131912e-123 | 3.280680e-122 | 0.4753054 |  0.3378740 | 2.176726 | 5964 |\n",
       "\n"
      ],
      "text/plain": [
       "  pathway   pval          padj          log2err   ES         NES      size\n",
       "1 Module_01 4.007230e-112 1.626464e-111 0.4543564  0.3488813 2.238566 4799\n",
       "2 Module_02            NA            NA        NA -0.3460024       NA 9682\n",
       "3 Module_03  1.651872e-36  3.453915e-36 0.2573257  0.3124394 1.963153 2303\n",
       "4 Module_04  1.173679e-56  2.999403e-56 0.3217112  0.3062335 1.955139 3959\n",
       "5 Module_05  1.116332e-34  2.265498e-34 0.2507546  0.3140958 1.968653 2141\n",
       "6 Module_06 7.131912e-123 3.280680e-122 0.4753054  0.3378740 2.176726 5964"
      ]
     },
     "metadata": {},
     "output_type": "display_data"
    }
   ],
   "source": [
    "dat = res2\n",
    "dat = dat %>%\n",
    "    dplyr::select(pathway, pval, padj, log2err, ES, NES, size)\n",
    "head(dat)"
   ]
  },
  {
   "cell_type": "code",
   "execution_count": 62,
   "id": "43941328-9272-44f3-9316-71b02f41cd09",
   "metadata": {},
   "outputs": [],
   "source": [
    "txt_region = \"fcc_astarr_macs_input_overlap\"\n",
    "txt_fdiry  = file.path(FD_RES, \"region_integration\", txt_region)\n",
    "txt_fname  = \"result.test.ranknom.module.gsea_v1.tsv\"\n",
    "txt_fpath  = file.path(txt_fdiry, txt_fname)\n",
    "\n",
    "dat = res\n",
    "write_tsv(dat, txt_fpath)"
   ]
  },
  {
   "cell_type": "code",
   "execution_count": 63,
   "id": "26215c73-f7af-41c9-b7c5-fc679825ba95",
   "metadata": {},
   "outputs": [],
   "source": [
    "txt_region = \"fcc_astarr_macs_input_overlap\"\n",
    "txt_fdiry  = file.path(FD_RES, \"region_integration\", txt_region)\n",
    "txt_fname  = \"result.test.ranknom.module.gsea_v2.tsv\"\n",
    "txt_fpath  = file.path(txt_fdiry, txt_fname)\n",
    "\n",
    "dat = res2\n",
    "write_tsv(dat, txt_fpath)"
   ]
  },
  {
   "cell_type": "code",
   "execution_count": null,
   "id": "5a44e54d-e2a2-429c-b2f9-9f0a9e753b08",
   "metadata": {},
   "outputs": [],
   "source": []
  },
  {
   "cell_type": "code",
   "execution_count": null,
   "id": "937fc378-9753-49b7-b9ad-36fa0be6aa1f",
   "metadata": {},
   "outputs": [],
   "source": []
  },
  {
   "cell_type": "code",
   "execution_count": null,
   "id": "47b7ae76-623b-4806-9b0d-2daf0cf740ab",
   "metadata": {},
   "outputs": [],
   "source": []
  },
  {
   "cell_type": "code",
   "execution_count": 69,
   "id": "6d861388-a1d4-47ec-b1cf-0429dc716dd4",
   "metadata": {},
   "outputs": [
    {
     "data": {
      "text/html": [
       "<table class=\"dataframe\">\n",
       "<caption>A data.table: 1 × 7</caption>\n",
       "<thead>\n",
       "\t<tr><th scope=col>pathway</th><th scope=col>pval</th><th scope=col>padj</th><th scope=col>log2err</th><th scope=col>ES</th><th scope=col>NES</th><th scope=col>size</th></tr>\n",
       "\t<tr><th scope=col>&lt;chr&gt;</th><th scope=col>&lt;dbl&gt;</th><th scope=col>&lt;dbl&gt;</th><th scope=col>&lt;dbl&gt;</th><th scope=col>&lt;dbl&gt;</th><th scope=col>&lt;dbl&gt;</th><th scope=col>&lt;int&gt;</th></tr>\n",
       "</thead>\n",
       "<tbody>\n",
       "\t<tr><td>Module_02</td><td>NA</td><td>NA</td><td>NA</td><td>-0.3460024</td><td>NA</td><td>9682</td></tr>\n",
       "</tbody>\n",
       "</table>\n"
      ],
      "text/latex": [
       "A data.table: 1 × 7\n",
       "\\begin{tabular}{lllllll}\n",
       " pathway & pval & padj & log2err & ES & NES & size\\\\\n",
       " <chr> & <dbl> & <dbl> & <dbl> & <dbl> & <dbl> & <int>\\\\\n",
       "\\hline\n",
       "\t Module\\_02 & NA & NA & NA & -0.3460024 & NA & 9682\\\\\n",
       "\\end{tabular}\n"
      ],
      "text/markdown": [
       "\n",
       "A data.table: 1 × 7\n",
       "\n",
       "| pathway &lt;chr&gt; | pval &lt;dbl&gt; | padj &lt;dbl&gt; | log2err &lt;dbl&gt; | ES &lt;dbl&gt; | NES &lt;dbl&gt; | size &lt;int&gt; |\n",
       "|---|---|---|---|---|---|---|\n",
       "| Module_02 | NA | NA | NA | -0.3460024 | NA | 9682 |\n",
       "\n"
      ],
      "text/plain": [
       "  pathway   pval padj log2err ES         NES size\n",
       "1 Module_02 NA   NA   NA      -0.3460024 NA  9682"
      ]
     },
     "metadata": {},
     "output_type": "display_data"
    }
   ],
   "source": [
    "dat = res2\n",
    "dat %>%\n",
    "    dplyr::select(pathway, pval, padj, log2err, ES, NES, size)  %>% \n",
    "    dplyr::filter(is.na(log2err))"
   ]
  },
  {
   "cell_type": "code",
   "execution_count": 66,
   "id": "046b2c28-3abe-4431-95d8-8d9057dfdddc",
   "metadata": {},
   "outputs": [
    {
     "name": "stderr",
     "output_type": "stream",
     "text": [
      "\u001b[1m\u001b[22m`stat_bin()` using `bins = 30`. Pick better value with `binwidth`.\n",
      "Warning message:\n",
      "“\u001b[1m\u001b[22mRemoved 1 row containing non-finite outside the scale range (`stat_bin()`).”\n"
     ]
    },
    {
     "data": {
      "image/png": "[encoded data removed]",
      "text/plain": [
       "plot without title"
      ]
     },
     "metadata": {
      "image/png": {
       "height": 300,
       "width": 420
      }
     },
     "output_type": "display_data"
    }
   ],
   "source": [
    "dat = res2\n",
    "dat = dat %>%\n",
    "    dplyr::select(pathway, pval, padj, log2err, ES, NES, size)\n",
    "\n",
    "gpt = ggplot(dat, aes(x = padj)) +\n",
    "    geom_histogram() +\n",
    "    theme_cowplot() +\n",
    "    background_grid()\n",
    "\n",
    "options(repr.plot.height=5, repr.plot.width=7)\n",
    "print(gpt)"
   ]
  },
  {
   "cell_type": "code",
   "execution_count": 67,
   "id": "5feda3bd-8bbf-47a1-a70c-f49897d01018",
   "metadata": {},
   "outputs": [
    {
     "name": "stderr",
     "output_type": "stream",
     "text": [
      "\u001b[1m\u001b[22m`stat_bin()` using `bins = 30`. Pick better value with `binwidth`.\n",
      "Warning message:\n",
      "“\u001b[1m\u001b[22mRemoved 3 rows containing non-finite outside the scale range (`stat_bin()`).”\n"
     ]
    },
    {
     "data": {
      "image/png": "[encoded data removed]",
      "text/plain": [
       "plot without title"
      ]
     },
     "metadata": {
      "image/png": {
       "height": 300,
       "width": 420
      }
     },
     "output_type": "display_data"
    }
   ],
   "source": [
    "dat = res2\n",
    "dat = dat %>%\n",
    "    dplyr::select(pathway, pval, padj, log2err, ES, NES, size) \n",
    "\n",
    "gpt = ggplot(dat, aes(x = -log10(padj))) +\n",
    "    geom_histogram() +\n",
    "    theme_cowplot() +\n",
    "    background_grid()\n",
    "\n",
    "options(repr.plot.height=5, repr.plot.width=7)\n",
    "print(gpt)"
   ]
  },
  {
   "cell_type": "code",
   "execution_count": 72,
   "id": "22683c8e-15d7-40f2-80f1-ebcc42b43ca2",
   "metadata": {},
   "outputs": [
    {
     "name": "stderr",
     "output_type": "stream",
     "text": [
      "Warning message:\n",
      "“\u001b[1m\u001b[22mRemoved 1 row containing missing values or values outside the scale range\n",
      "(`geom_point()`).”\n"
     ]
    },
    {
     "data": {
      "image/png": "[encoded data removed]",
      "text/plain": [
       "plot without title"
      ]
     },
     "metadata": {
      "image/png": {
       "height": 300,
       "width": 420
      }
     },
     "output_type": "display_data"
    }
   ],
   "source": [
    "dat = res2\n",
    "dat = dat %>%\n",
    "    dplyr::select(pathway, pval, padj, log2err, ES, NES, size) \n",
    "\n",
    "gpt = ggplot(dat, aes(x = NES, y = -log10(padj))) +\n",
    "    geom_point() +\n",
    "    labs(\n",
    "        x = \"Normalized Enrichment Score\", \n",
    "        y = \"-Log10(adjusted p-values\",\n",
    "        title = \"GSEA, Mean(STARR/MPRA), TF Modules\"\n",
    "    ) +\n",
    "    theme_cowplot() +\n",
    "    background_grid()\n",
    "\n",
    "options(repr.plot.height=5, repr.plot.width=7)\n",
    "print(gpt)"
   ]
  },
  {
   "cell_type": "code",
   "execution_count": null,
   "id": "d0816ec0-0a7a-4cdc-b4f4-f5d9566ad7da",
   "metadata": {},
   "outputs": [],
   "source": []
  },
  {
   "cell_type": "code",
   "execution_count": 47,
   "id": "1ad058e6-6a9f-414e-a885-a5f9602e6906",
   "metadata": {},
   "outputs": [
    {
     "data": {
      "text/html": [
       "<style>\n",
       ".list-inline {list-style: none; margin:0; padding: 0}\n",
       ".list-inline>li {display: inline-block}\n",
       ".list-inline>li:not(:last-child)::after {content: \"\\00b7\"; padding: 0 .5ex}\n",
       "</style>\n",
       "<ol class=list-inline><li>'pathway'</li><li>'pval'</li><li>'padj'</li><li>'log2err'</li><li>'ES'</li><li>'NES'</li><li>'size'</li><li>'leadingEdge'</li></ol>\n"
      ],
      "text/latex": [
       "\\begin{enumerate*}\n",
       "\\item 'pathway'\n",
       "\\item 'pval'\n",
       "\\item 'padj'\n",
       "\\item 'log2err'\n",
       "\\item 'ES'\n",
       "\\item 'NES'\n",
       "\\item 'size'\n",
       "\\item 'leadingEdge'\n",
       "\\end{enumerate*}\n"
      ],
      "text/markdown": [
       "1. 'pathway'\n",
       "2. 'pval'\n",
       "3. 'padj'\n",
       "4. 'log2err'\n",
       "5. 'ES'\n",
       "6. 'NES'\n",
       "7. 'size'\n",
       "8. 'leadingEdge'\n",
       "\n",
       "\n"
      ],
      "text/plain": [
       "[1] \"pathway\"     \"pval\"        \"padj\"        \"log2err\"     \"ES\"         \n",
       "[6] \"NES\"         \"size\"        \"leadingEdge\""
      ]
     },
     "metadata": {},
     "output_type": "display_data"
    }
   ],
   "source": [
    "colnames(res)"
   ]
  },
  {
   "cell_type": "code",
   "execution_count": 52,
   "id": "93b3e789-cdf1-414e-9945-32f2bbfa60d1",
   "metadata": {},
   "outputs": [
    {
     "data": {
      "image/png": "[encoded data removed]",
      "text/plain": [
       "plot without title"
      ]
     },
     "metadata": {
      "image/png": {
       "height": 180,
       "width": 900
      }
     },
     "output_type": "display_data"
    }
   ],
   "source": [
    "plotEnrichment(\n",
    "    lst_region_annot[[\"Module_02\"]],\n",
    "    vec_region_score) + \n",
    "labs(title = \"Module_02\")"
   ]
  },
  {
   "cell_type": "code",
   "execution_count": null,
   "id": "d76bd7ca-836a-4e9b-8323-ca988b8f5033",
   "metadata": {},
   "outputs": [],
   "source": []
  },
  {
   "cell_type": "code",
   "execution_count": null,
   "id": "bf57bdd5-2cac-4fd8-88a3-0d8791696fb5",
   "metadata": {},
   "outputs": [],
   "source": []
  },
  {
   "cell_type": "code",
   "execution_count": null,
   "id": "429c36da-008b-4b6f-a121-4f3b8ad060fd",
   "metadata": {},
   "outputs": [],
   "source": []
  },
  {
   "cell_type": "code",
   "execution_count": 36,
   "id": "d239abde-330c-419e-af91-efa662cd6dd4",
   "metadata": {},
   "outputs": [
    {
     "name": "stdout",
     "output_type": "stream",
     "text": [
      "[1] 60618    72\n"
     ]
    },
    {
     "data": {
      "text/html": [
       "<table class=\"dataframe\">\n",
       "<caption>A tibble: 6 × 72</caption>\n",
       "<thead>\n",
       "\t<tr><th scope=col>Region</th><th scope=col>Score</th><th scope=col>Module_01</th><th scope=col>Module_02</th><th scope=col>Module_03</th><th scope=col>Module_04</th><th scope=col>Module_05</th><th scope=col>Module_06</th><th scope=col>Module_07</th><th scope=col>Module_08</th><th scope=col>⋯</th><th scope=col>Module_65</th><th scope=col>Module_66</th><th scope=col>Module_67</th><th scope=col>Module_68</th><th scope=col>Module_71</th><th scope=col>Module_72</th><th scope=col>Module_73</th><th scope=col>Module_74</th><th scope=col>Module_75</th><th scope=col>Module_77</th></tr>\n",
       "\t<tr><th scope=col>&lt;chr&gt;</th><th scope=col>&lt;dbl&gt;</th><th scope=col>&lt;dbl&gt;</th><th scope=col>&lt;dbl&gt;</th><th scope=col>&lt;dbl&gt;</th><th scope=col>&lt;dbl&gt;</th><th scope=col>&lt;dbl&gt;</th><th scope=col>&lt;dbl&gt;</th><th scope=col>&lt;dbl&gt;</th><th scope=col>&lt;dbl&gt;</th><th scope=col>⋯</th><th scope=col>&lt;dbl&gt;</th><th scope=col>&lt;dbl&gt;</th><th scope=col>&lt;dbl&gt;</th><th scope=col>&lt;dbl&gt;</th><th scope=col>&lt;dbl&gt;</th><th scope=col>&lt;dbl&gt;</th><th scope=col>&lt;dbl&gt;</th><th scope=col>&lt;dbl&gt;</th><th scope=col>&lt;dbl&gt;</th><th scope=col>&lt;dbl&gt;</th></tr>\n",
       "</thead>\n",
       "<tbody>\n",
       "\t<tr><td>chr1:100036895-100039189</td><td>0.93374355</td><td>0</td><td>1</td><td>0</td><td>0</td><td>0</td><td>0</td><td>0</td><td>0</td><td>⋯</td><td>0</td><td>0</td><td>0</td><td>0</td><td>0</td><td>0</td><td>0</td><td>0</td><td>0</td><td>0</td></tr>\n",
       "\t<tr><td>chr1:100048290-100048918</td><td>0.03264432</td><td>0</td><td>0</td><td>0</td><td>0</td><td>0</td><td>0</td><td>0</td><td>0</td><td>⋯</td><td>0</td><td>0</td><td>0</td><td>0</td><td>0</td><td>0</td><td>0</td><td>0</td><td>0</td><td>0</td></tr>\n",
       "\t<tr><td>chr1:100050225-100050529</td><td>0.54100817</td><td>0</td><td>0</td><td>0</td><td>1</td><td>0</td><td>0</td><td>0</td><td>0</td><td>⋯</td><td>0</td><td>0</td><td>0</td><td>0</td><td>0</td><td>0</td><td>0</td><td>0</td><td>0</td><td>0</td></tr>\n",
       "\t<tr><td>chr1:100132375-100133491</td><td>0.91814588</td><td>0</td><td>0</td><td>0</td><td>0</td><td>0</td><td>0</td><td>0</td><td>0</td><td>⋯</td><td>0</td><td>0</td><td>0</td><td>0</td><td>0</td><td>0</td><td>0</td><td>0</td><td>0</td><td>0</td></tr>\n",
       "\t<tr><td>chr1:10015258-10016191  </td><td>0.16646046</td><td>0</td><td>0</td><td>0</td><td>0</td><td>0</td><td>0</td><td>0</td><td>0</td><td>⋯</td><td>0</td><td>0</td><td>0</td><td>0</td><td>0</td><td>0</td><td>0</td><td>0</td><td>0</td><td>0</td></tr>\n",
       "\t<tr><td>chr1:100248956-100250290</td><td>0.72932407</td><td>1</td><td>0</td><td>0</td><td>0</td><td>0</td><td>1</td><td>0</td><td>0</td><td>⋯</td><td>0</td><td>0</td><td>0</td><td>0</td><td>0</td><td>0</td><td>0</td><td>0</td><td>0</td><td>0</td></tr>\n",
       "</tbody>\n",
       "</table>\n"
      ],
      "text/latex": [
       "A tibble: 6 × 72\n",
       "\\begin{tabular}{lllllllllllllllllllll}\n",
       " Region & Score & Module\\_01 & Module\\_02 & Module\\_03 & Module\\_04 & Module\\_05 & Module\\_06 & Module\\_07 & Module\\_08 & ⋯ & Module\\_65 & Module\\_66 & Module\\_67 & Module\\_68 & Module\\_71 & Module\\_72 & Module\\_73 & Module\\_74 & Module\\_75 & Module\\_77\\\\\n",
       " <chr> & <dbl> & <dbl> & <dbl> & <dbl> & <dbl> & <dbl> & <dbl> & <dbl> & <dbl> & ⋯ & <dbl> & <dbl> & <dbl> & <dbl> & <dbl> & <dbl> & <dbl> & <dbl> & <dbl> & <dbl>\\\\\n",
       "\\hline\n",
       "\t chr1:100036895-100039189 & 0.93374355 & 0 & 1 & 0 & 0 & 0 & 0 & 0 & 0 & ⋯ & 0 & 0 & 0 & 0 & 0 & 0 & 0 & 0 & 0 & 0\\\\\n",
       "\t chr1:100048290-100048918 & 0.03264432 & 0 & 0 & 0 & 0 & 0 & 0 & 0 & 0 & ⋯ & 0 & 0 & 0 & 0 & 0 & 0 & 0 & 0 & 0 & 0\\\\\n",
       "\t chr1:100050225-100050529 & 0.54100817 & 0 & 0 & 0 & 1 & 0 & 0 & 0 & 0 & ⋯ & 0 & 0 & 0 & 0 & 0 & 0 & 0 & 0 & 0 & 0\\\\\n",
       "\t chr1:100132375-100133491 & 0.91814588 & 0 & 0 & 0 & 0 & 0 & 0 & 0 & 0 & ⋯ & 0 & 0 & 0 & 0 & 0 & 0 & 0 & 0 & 0 & 0\\\\\n",
       "\t chr1:10015258-10016191   & 0.16646046 & 0 & 0 & 0 & 0 & 0 & 0 & 0 & 0 & ⋯ & 0 & 0 & 0 & 0 & 0 & 0 & 0 & 0 & 0 & 0\\\\\n",
       "\t chr1:100248956-100250290 & 0.72932407 & 1 & 0 & 0 & 0 & 0 & 1 & 0 & 0 & ⋯ & 0 & 0 & 0 & 0 & 0 & 0 & 0 & 0 & 0 & 0\\\\\n",
       "\\end{tabular}\n"
      ],
      "text/markdown": [
       "\n",
       "A tibble: 6 × 72\n",
       "\n",
       "| Region &lt;chr&gt; | Score &lt;dbl&gt; | Module_01 &lt;dbl&gt; | Module_02 &lt;dbl&gt; | Module_03 &lt;dbl&gt; | Module_04 &lt;dbl&gt; | Module_05 &lt;dbl&gt; | Module_06 &lt;dbl&gt; | Module_07 &lt;dbl&gt; | Module_08 &lt;dbl&gt; | ⋯ ⋯ | Module_65 &lt;dbl&gt; | Module_66 &lt;dbl&gt; | Module_67 &lt;dbl&gt; | Module_68 &lt;dbl&gt; | Module_71 &lt;dbl&gt; | Module_72 &lt;dbl&gt; | Module_73 &lt;dbl&gt; | Module_74 &lt;dbl&gt; | Module_75 &lt;dbl&gt; | Module_77 &lt;dbl&gt; |\n",
       "|---|---|---|---|---|---|---|---|---|---|---|---|---|---|---|---|---|---|---|---|---|\n",
       "| chr1:100036895-100039189 | 0.93374355 | 0 | 1 | 0 | 0 | 0 | 0 | 0 | 0 | ⋯ | 0 | 0 | 0 | 0 | 0 | 0 | 0 | 0 | 0 | 0 |\n",
       "| chr1:100048290-100048918 | 0.03264432 | 0 | 0 | 0 | 0 | 0 | 0 | 0 | 0 | ⋯ | 0 | 0 | 0 | 0 | 0 | 0 | 0 | 0 | 0 | 0 |\n",
       "| chr1:100050225-100050529 | 0.54100817 | 0 | 0 | 0 | 1 | 0 | 0 | 0 | 0 | ⋯ | 0 | 0 | 0 | 0 | 0 | 0 | 0 | 0 | 0 | 0 |\n",
       "| chr1:100132375-100133491 | 0.91814588 | 0 | 0 | 0 | 0 | 0 | 0 | 0 | 0 | ⋯ | 0 | 0 | 0 | 0 | 0 | 0 | 0 | 0 | 0 | 0 |\n",
       "| chr1:10015258-10016191   | 0.16646046 | 0 | 0 | 0 | 0 | 0 | 0 | 0 | 0 | ⋯ | 0 | 0 | 0 | 0 | 0 | 0 | 0 | 0 | 0 | 0 |\n",
       "| chr1:100248956-100250290 | 0.72932407 | 1 | 0 | 0 | 0 | 0 | 1 | 0 | 0 | ⋯ | 0 | 0 | 0 | 0 | 0 | 0 | 0 | 0 | 0 | 0 |\n",
       "\n"
      ],
      "text/plain": [
       "  Region                   Score      Module_01 Module_02 Module_03 Module_04\n",
       "1 chr1:100036895-100039189 0.93374355 0         1         0         0        \n",
       "2 chr1:100048290-100048918 0.03264432 0         0         0         0        \n",
       "3 chr1:100050225-100050529 0.54100817 0         0         0         1        \n",
       "4 chr1:100132375-100133491 0.91814588 0         0         0         0        \n",
       "5 chr1:10015258-10016191   0.16646046 0         0         0         0        \n",
       "6 chr1:100248956-100250290 0.72932407 1         0         0         0        \n",
       "  Module_05 Module_06 Module_07 Module_08 ⋯ Module_65 Module_66 Module_67\n",
       "1 0         0         0         0         ⋯ 0         0         0        \n",
       "2 0         0         0         0         ⋯ 0         0         0        \n",
       "3 0         0         0         0         ⋯ 0         0         0        \n",
       "4 0         0         0         0         ⋯ 0         0         0        \n",
       "5 0         0         0         0         ⋯ 0         0         0        \n",
       "6 0         1         0         0         ⋯ 0         0         0        \n",
       "  Module_68 Module_71 Module_72 Module_73 Module_74 Module_75 Module_77\n",
       "1 0         0         0         0         0         0         0        \n",
       "2 0         0         0         0         0         0         0        \n",
       "3 0         0         0         0         0         0         0        \n",
       "4 0         0         0         0         0         0         0        \n",
       "5 0         0         0         0         0         0         0        \n",
       "6 0         0         0         0         0         0         0        "
      ]
     },
     "metadata": {},
     "output_type": "display_data"
    }
   ],
   "source": [
    "dat = dplyr::left_join(\n",
    "    dat_region_score, \n",
    "    dat_region_annot, \n",
    "    by = c(\"Region\")\n",
    ")\n",
    "dat = dat %>% replace(is.na(.), 0)\n",
    "\n",
    "dat_region_merge = dat\n",
    "print(dim(dat))\n",
    "head(dat)"
   ]
  },
  {
   "cell_type": "code",
   "execution_count": null,
   "id": "73c5fc63-d738-41f8-8776-9c77fbf9ea0a",
   "metadata": {},
   "outputs": [],
   "source": []
  },
  {
   "cell_type": "code",
   "execution_count": null,
   "id": "a616af34-ad82-4081-b54b-ddf08e806bd1",
   "metadata": {},
   "outputs": [],
   "source": []
  },
  {
   "cell_type": "code",
   "execution_count": null,
   "id": "ad9f76cf-a8c9-426e-9671-567e02a0bd31",
   "metadata": {},
   "outputs": [],
   "source": []
  },
  {
   "cell_type": "code",
   "execution_count": null,
   "id": "a39df510-496a-4869-94e7-1cb0c812af28",
   "metadata": {},
   "outputs": [],
   "source": []
  },
  {
   "cell_type": "code",
   "execution_count": null,
   "id": "a1b97296-77d2-45e5-9a54-c63b6ce959a3",
   "metadata": {},
   "outputs": [],
   "source": []
  }
 ],
 "metadata": {
  "kernelspec": {
   "display_name": "R",
   "language": "R",
   "name": "ir"
  },
  "language_info": {
   "codemirror_mode": "r",
   "file_extension": ".r",
   "mimetype": "text/x-r-source",
   "name": "R",
   "pygments_lexer": "r",
   "version": "4.4.1"
  }
 },
 "nbformat": 4,
 "nbformat_minor": 5
}
