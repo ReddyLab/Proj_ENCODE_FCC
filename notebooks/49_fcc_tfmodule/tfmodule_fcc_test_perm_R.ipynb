{
 "cells": [
  {
   "cell_type": "raw",
   "id": "10c79ec7-a8eb-4206-9297-99242fb93d45",
   "metadata": {},
   "source": [
    "---\n",
    "title: Prepare TF Modules 01\n",
    "subtitle: Explore the data\n",
    "format:\n",
    "    html:\n",
    "        code-fold:  true\n",
    "        code-tools: true\n",
    "---"
   ]
  },
  {
   "cell_type": "markdown",
   "id": "81c7ba71-341a-4dbd-b0a5-9760199aec63",
   "metadata": {},
   "source": [
    "**Set environment**"
   ]
  },
  {
   "cell_type": "code",
   "execution_count": 1,
   "id": "5f039812-20b4-466b-bd9f-6fe73876907e",
   "metadata": {},
   "outputs": [
    {
     "name": "stdout",
     "output_type": "stream",
     "text": [
      "You are working on        Singularity \n",
      "BASE DIRECTORY (FD_BASE): /mount \n",
      "REPO DIRECTORY (FD_REPO): /mount/repo \n",
      "WORK DIRECTORY (FD_WORK): /mount/work \n",
      "DATA DIRECTORY (FD_DATA): /mount/data \n",
      "\n",
      "You are working with      ENCODE FCC \n",
      "PATH OF PROJECT (FD_PRJ): /mount/repo/Proj_ENCODE_FCC \n",
      "PROJECT RESULTS (FD_RES): /mount/repo/Proj_ENCODE_FCC/results \n",
      "PROJECT SCRIPTS (FD_EXE): /mount/repo/Proj_ENCODE_FCC/scripts \n",
      "PROJECT DATA    (FD_DAT): /mount/repo/Proj_ENCODE_FCC/data \n",
      "PROJECT NOTE    (FD_NBK): /mount/repo/Proj_ENCODE_FCC/notebooks \n",
      "PROJECT DOCS    (FD_DOC): /mount/repo/Proj_ENCODE_FCC/docs \n",
      "PROJECT LOG     (FD_LOG): /mount/repo/Proj_ENCODE_FCC/log \n",
      "PROJECT APP     (FD_APP): /mount/repo/Proj_ENCODE_FCC/app \n",
      "PROJECT REF     (FD_REF): /mount/repo/Proj_ENCODE_FCC/references \n",
      "\n"
     ]
    }
   ],
   "source": [
    "suppressMessages(suppressWarnings(source(\"../run_config_project_sing.R\")))\n",
    "show_env()"
   ]
  },
  {
   "cell_type": "code",
   "execution_count": 2,
   "id": "67982b16-6c7f-4ad7-8a33-24168cd94a5b",
   "metadata": {},
   "outputs": [
    {
     "name": "stdout",
     "output_type": "stream",
     "text": [
      "[1] 60618     5\n"
     ]
    },
    {
     "data": {
      "text/html": [
       "<table>\n",
       " <thead>\n",
       "  <tr>\n",
       "   <th style=\"text-align:left;\"> Region </th>\n",
       "   <th style=\"text-align:right;\"> ASTARR </th>\n",
       "   <th style=\"text-align:right;\"> LMPRA </th>\n",
       "   <th style=\"text-align:right;\"> WSTARR </th>\n",
       "   <th style=\"text-align:right;\"> Mean </th>\n",
       "  </tr>\n",
       " </thead>\n",
       "<tbody>\n",
       "  <tr>\n",
       "   <td style=\"text-align:left;\"> chr1:100036895-100039189 </td>\n",
       "   <td style=\"text-align:right;\"> 0.9032466 </td>\n",
       "   <td style=\"text-align:right;\"> 0.9352832 </td>\n",
       "   <td style=\"text-align:right;\"> 0.9627008 </td>\n",
       "   <td style=\"text-align:right;\"> 0.9337436 </td>\n",
       "  </tr>\n",
       "  <tr>\n",
       "   <td style=\"text-align:left;\"> chr1:100048290-100048918 </td>\n",
       "   <td style=\"text-align:right;\"> 0.0495727 </td>\n",
       "   <td style=\"text-align:right;\"> 0.0133706 </td>\n",
       "   <td style=\"text-align:right;\"> 0.0349896 </td>\n",
       "   <td style=\"text-align:right;\"> 0.0326443 </td>\n",
       "  </tr>\n",
       "  <tr>\n",
       "   <td style=\"text-align:left;\"> chr1:100050225-100050529 </td>\n",
       "   <td style=\"text-align:right;\"> 0.7499258 </td>\n",
       "   <td style=\"text-align:right;\"> 0.0718681 </td>\n",
       "   <td style=\"text-align:right;\"> 0.8012307 </td>\n",
       "   <td style=\"text-align:right;\"> 0.5410082 </td>\n",
       "  </tr>\n",
       "</tbody>\n",
       "</table>"
      ]
     },
     "metadata": {},
     "output_type": "display_data"
    }
   ],
   "source": [
    "txt_region = \"fcc_astarr_macs_input_overlap\"\n",
    "txt_fdiry  = file.path(FD_RES, \"region_integration\", txt_region)\n",
    "txt_fname  = \"result.coverage.ranknorm.whg.tsv\"\n",
    "txt_fpath  = file.path(txt_fdiry, txt_fname)\n",
    "\n",
    "dat = read_tsv(txt_fpath, show_col_types = FALSE)\n",
    "dat_region_score_starrmpra_ranknorm = dat\n",
    "\n",
    "print(dim(dat))\n",
    "fun_display_table(head(dat, 3))"
   ]
  },
  {
   "cell_type": "code",
   "execution_count": 3,
   "id": "948608dd-b701-4cd2-925a-7ee4b52f413c",
   "metadata": {},
   "outputs": [
    {
     "data": {
      "text/html": [
       "<table class=\"dataframe\">\n",
       "<caption>A tibble: 6 × 6</caption>\n",
       "<thead>\n",
       "\t<tr><th scope=col>Chrom</th><th scope=col>ChromStart</th><th scope=col>ChromEnd</th><th scope=col>Region</th><th scope=col>Group</th><th scope=col>Label</th></tr>\n",
       "\t<tr><th scope=col>&lt;chr&gt;</th><th scope=col>&lt;dbl&gt;</th><th scope=col>&lt;dbl&gt;</th><th scope=col>&lt;chr&gt;</th><th scope=col>&lt;chr&gt;</th><th scope=col>&lt;chr&gt;</th></tr>\n",
       "</thead>\n",
       "<tbody>\n",
       "\t<tr><td>chr1</td><td>115429</td><td>115969</td><td>chr1:115429-115969</td><td>TF_Module</td><td>Module_02</td></tr>\n",
       "\t<tr><td>chr1</td><td>115429</td><td>115969</td><td>chr1:115429-115969</td><td>TF_Module</td><td>Module_05</td></tr>\n",
       "\t<tr><td>chr1</td><td>115429</td><td>115969</td><td>chr1:115429-115969</td><td>TF_Module</td><td>Module_10</td></tr>\n",
       "\t<tr><td>chr1</td><td>115429</td><td>115969</td><td>chr1:115429-115969</td><td>TF_Module</td><td>Module_44</td></tr>\n",
       "\t<tr><td>chr1</td><td>136201</td><td>137353</td><td>chr1:136201-137353</td><td>TF_Module</td><td>Module_27</td></tr>\n",
       "\t<tr><td>chr1</td><td>138321</td><td>139517</td><td>chr1:138321-139517</td><td>TF_Module</td><td>Module_02</td></tr>\n",
       "</tbody>\n",
       "</table>\n"
      ],
      "text/latex": [
       "A tibble: 6 × 6\n",
       "\\begin{tabular}{llllll}\n",
       " Chrom & ChromStart & ChromEnd & Region & Group & Label\\\\\n",
       " <chr> & <dbl> & <dbl> & <chr> & <chr> & <chr>\\\\\n",
       "\\hline\n",
       "\t chr1 & 115429 & 115969 & chr1:115429-115969 & TF\\_Module & Module\\_02\\\\\n",
       "\t chr1 & 115429 & 115969 & chr1:115429-115969 & TF\\_Module & Module\\_05\\\\\n",
       "\t chr1 & 115429 & 115969 & chr1:115429-115969 & TF\\_Module & Module\\_10\\\\\n",
       "\t chr1 & 115429 & 115969 & chr1:115429-115969 & TF\\_Module & Module\\_44\\\\\n",
       "\t chr1 & 136201 & 137353 & chr1:136201-137353 & TF\\_Module & Module\\_27\\\\\n",
       "\t chr1 & 138321 & 139517 & chr1:138321-139517 & TF\\_Module & Module\\_02\\\\\n",
       "\\end{tabular}\n"
      ],
      "text/markdown": [
       "\n",
       "A tibble: 6 × 6\n",
       "\n",
       "| Chrom &lt;chr&gt; | ChromStart &lt;dbl&gt; | ChromEnd &lt;dbl&gt; | Region &lt;chr&gt; | Group &lt;chr&gt; | Label &lt;chr&gt; |\n",
       "|---|---|---|---|---|---|\n",
       "| chr1 | 115429 | 115969 | chr1:115429-115969 | TF_Module | Module_02 |\n",
       "| chr1 | 115429 | 115969 | chr1:115429-115969 | TF_Module | Module_05 |\n",
       "| chr1 | 115429 | 115969 | chr1:115429-115969 | TF_Module | Module_10 |\n",
       "| chr1 | 115429 | 115969 | chr1:115429-115969 | TF_Module | Module_44 |\n",
       "| chr1 | 136201 | 137353 | chr1:136201-137353 | TF_Module | Module_27 |\n",
       "| chr1 | 138321 | 139517 | chr1:138321-139517 | TF_Module | Module_02 |\n",
       "\n"
      ],
      "text/plain": [
       "  Chrom ChromStart ChromEnd Region             Group     Label    \n",
       "1 chr1  115429     115969   chr1:115429-115969 TF_Module Module_02\n",
       "2 chr1  115429     115969   chr1:115429-115969 TF_Module Module_05\n",
       "3 chr1  115429     115969   chr1:115429-115969 TF_Module Module_10\n",
       "4 chr1  115429     115969   chr1:115429-115969 TF_Module Module_44\n",
       "5 chr1  136201     137353   chr1:136201-137353 TF_Module Module_27\n",
       "6 chr1  138321     139517   chr1:138321-139517 TF_Module Module_02"
      ]
     },
     "metadata": {},
     "output_type": "display_data"
    }
   ],
   "source": [
    "txt_fdiry = file.path(\n",
    "    FD_RES, \n",
    "    \"region_annotation\", \n",
    "    \"fcc_astarr_macs_input_overlap\",\n",
    "    \"summary\"\n",
    ")\n",
    "txt_fname = \"result.summary.tfmodule.tsv\"\n",
    "txt_fpath = file.path(txt_fdiry, txt_fname)\n",
    "\n",
    "dat = read_tsv(txt_fpath, show_col_types = FALSE)\n",
    "\n",
    "dat_region_annot_tfmodule = dat\n",
    "head(dat)"
   ]
  },
  {
   "cell_type": "code",
   "execution_count": 4,
   "id": "2459a151-93cc-4f16-b572-7e4a9b188493",
   "metadata": {},
   "outputs": [
    {
     "data": {
      "text/html": [
       "70"
      ],
      "text/latex": [
       "70"
      ],
      "text/markdown": [
       "70"
      ],
      "text/plain": [
       "[1] 70"
      ]
     },
     "metadata": {},
     "output_type": "display_data"
    }
   ],
   "source": [
    "vec = dat$Label\n",
    "length(unique(vec))"
   ]
  },
  {
   "cell_type": "code",
   "execution_count": 5,
   "id": "f886aaca-e39e-4f06-a468-20d645008a8b",
   "metadata": {},
   "outputs": [
    {
     "name": "stdout",
     "output_type": "stream",
     "text": [
      "[1] 60618     2\n"
     ]
    },
    {
     "data": {
      "text/html": [
       "<table class=\"dataframe\">\n",
       "<caption>A tibble: 3 × 2</caption>\n",
       "<thead>\n",
       "\t<tr><th scope=col>Region</th><th scope=col>Score</th></tr>\n",
       "\t<tr><th scope=col>&lt;chr&gt;</th><th scope=col>&lt;dbl&gt;</th></tr>\n",
       "</thead>\n",
       "<tbody>\n",
       "\t<tr><td>chr1:100036895-100039189</td><td>0.93374355</td></tr>\n",
       "\t<tr><td>chr1:100048290-100048918</td><td>0.03264432</td></tr>\n",
       "\t<tr><td>chr1:100050225-100050529</td><td>0.54100817</td></tr>\n",
       "</tbody>\n",
       "</table>\n"
      ],
      "text/latex": [
       "A tibble: 3 × 2\n",
       "\\begin{tabular}{ll}\n",
       " Region & Score\\\\\n",
       " <chr> & <dbl>\\\\\n",
       "\\hline\n",
       "\t chr1:100036895-100039189 & 0.93374355\\\\\n",
       "\t chr1:100048290-100048918 & 0.03264432\\\\\n",
       "\t chr1:100050225-100050529 & 0.54100817\\\\\n",
       "\\end{tabular}\n"
      ],
      "text/markdown": [
       "\n",
       "A tibble: 3 × 2\n",
       "\n",
       "| Region &lt;chr&gt; | Score &lt;dbl&gt; |\n",
       "|---|---|\n",
       "| chr1:100036895-100039189 | 0.93374355 |\n",
       "| chr1:100048290-100048918 | 0.03264432 |\n",
       "| chr1:100050225-100050529 | 0.54100817 |\n",
       "\n"
      ],
      "text/plain": [
       "  Region                   Score     \n",
       "1 chr1:100036895-100039189 0.93374355\n",
       "2 chr1:100048290-100048918 0.03264432\n",
       "3 chr1:100050225-100050529 0.54100817"
      ]
     },
     "metadata": {},
     "output_type": "display_data"
    }
   ],
   "source": [
    "dat = dat_region_score_starrmpra_ranknorm\n",
    "dat = dat %>% dplyr::select(Region, Mean)\n",
    "colnames(dat) = c(\"Region\", \"Score\")\n",
    "\n",
    "vec = dat$Score\n",
    "names(vec) = dat$Region\n",
    "\n",
    "dat_region_score = dat\n",
    "vec_region_score = vec\n",
    "\n",
    "print(dim(dat))\n",
    "head(dat, 3)"
   ]
  },
  {
   "cell_type": "code",
   "execution_count": 6,
   "id": "79711884-65d8-4b2e-ab9d-9c2a8c776d60",
   "metadata": {},
   "outputs": [
    {
     "name": "stdout",
     "output_type": "stream",
     "text": [
      "[1] 77726    71\n"
     ]
    },
    {
     "data": {
      "text/html": [
       "<table class=\"dataframe\">\n",
       "<caption>A tibble: 6 × 71</caption>\n",
       "<thead>\n",
       "\t<tr><th scope=col>Region</th><th scope=col>Module_01</th><th scope=col>Module_02</th><th scope=col>Module_03</th><th scope=col>Module_04</th><th scope=col>Module_05</th><th scope=col>Module_06</th><th scope=col>Module_07</th><th scope=col>Module_08</th><th scope=col>Module_09</th><th scope=col>⋯</th><th scope=col>Module_65</th><th scope=col>Module_66</th><th scope=col>Module_67</th><th scope=col>Module_68</th><th scope=col>Module_71</th><th scope=col>Module_72</th><th scope=col>Module_73</th><th scope=col>Module_74</th><th scope=col>Module_75</th><th scope=col>Module_77</th></tr>\n",
       "\t<tr><th scope=col>&lt;chr&gt;</th><th scope=col>&lt;dbl&gt;</th><th scope=col>&lt;dbl&gt;</th><th scope=col>&lt;dbl&gt;</th><th scope=col>&lt;dbl&gt;</th><th scope=col>&lt;dbl&gt;</th><th scope=col>&lt;dbl&gt;</th><th scope=col>&lt;dbl&gt;</th><th scope=col>&lt;dbl&gt;</th><th scope=col>&lt;dbl&gt;</th><th scope=col>⋯</th><th scope=col>&lt;dbl&gt;</th><th scope=col>&lt;dbl&gt;</th><th scope=col>&lt;dbl&gt;</th><th scope=col>&lt;dbl&gt;</th><th scope=col>&lt;dbl&gt;</th><th scope=col>&lt;dbl&gt;</th><th scope=col>&lt;dbl&gt;</th><th scope=col>&lt;dbl&gt;</th><th scope=col>&lt;dbl&gt;</th><th scope=col>&lt;dbl&gt;</th></tr>\n",
       "</thead>\n",
       "<tbody>\n",
       "\t<tr><td>chr1:100036895-100039189</td><td>NA</td><td> 1</td><td>NA</td><td>NA</td><td>NA</td><td>NA</td><td>NA</td><td>NA</td><td>NA</td><td>⋯</td><td>NA</td><td>NA</td><td>NA</td><td>NA</td><td>NA</td><td>NA</td><td>NA</td><td>NA</td><td>NA</td><td>NA</td></tr>\n",
       "\t<tr><td>chr1:100048290-100048918</td><td>NA</td><td>NA</td><td>NA</td><td>NA</td><td>NA</td><td>NA</td><td>NA</td><td>NA</td><td>NA</td><td>⋯</td><td>NA</td><td>NA</td><td>NA</td><td>NA</td><td>NA</td><td>NA</td><td>NA</td><td>NA</td><td>NA</td><td>NA</td></tr>\n",
       "\t<tr><td>chr1:100050225-100050529</td><td>NA</td><td>NA</td><td>NA</td><td> 1</td><td>NA</td><td>NA</td><td>NA</td><td>NA</td><td>NA</td><td>⋯</td><td>NA</td><td>NA</td><td>NA</td><td>NA</td><td>NA</td><td>NA</td><td>NA</td><td>NA</td><td>NA</td><td>NA</td></tr>\n",
       "\t<tr><td>chr1:100099076-100100488</td><td>NA</td><td>NA</td><td>NA</td><td>NA</td><td>NA</td><td>NA</td><td>NA</td><td>NA</td><td>NA</td><td>⋯</td><td>NA</td><td>NA</td><td>NA</td><td>NA</td><td>NA</td><td>NA</td><td>NA</td><td>NA</td><td>NA</td><td>NA</td></tr>\n",
       "\t<tr><td>chr1:100130577-100130967</td><td> 1</td><td>NA</td><td> 1</td><td>NA</td><td>NA</td><td>NA</td><td>NA</td><td>NA</td><td>NA</td><td>⋯</td><td>NA</td><td>NA</td><td>NA</td><td>NA</td><td>NA</td><td>NA</td><td>NA</td><td>NA</td><td>NA</td><td>NA</td></tr>\n",
       "\t<tr><td>chr1:100132375-100133491</td><td>NA</td><td>NA</td><td>NA</td><td>NA</td><td>NA</td><td>NA</td><td>NA</td><td>NA</td><td>NA</td><td>⋯</td><td>NA</td><td>NA</td><td>NA</td><td>NA</td><td>NA</td><td>NA</td><td>NA</td><td>NA</td><td>NA</td><td>NA</td></tr>\n",
       "</tbody>\n",
       "</table>\n"
      ],
      "text/latex": [
       "A tibble: 6 × 71\n",
       "\\begin{tabular}{lllllllllllllllllllll}\n",
       " Region & Module\\_01 & Module\\_02 & Module\\_03 & Module\\_04 & Module\\_05 & Module\\_06 & Module\\_07 & Module\\_08 & Module\\_09 & ⋯ & Module\\_65 & Module\\_66 & Module\\_67 & Module\\_68 & Module\\_71 & Module\\_72 & Module\\_73 & Module\\_74 & Module\\_75 & Module\\_77\\\\\n",
       " <chr> & <dbl> & <dbl> & <dbl> & <dbl> & <dbl> & <dbl> & <dbl> & <dbl> & <dbl> & ⋯ & <dbl> & <dbl> & <dbl> & <dbl> & <dbl> & <dbl> & <dbl> & <dbl> & <dbl> & <dbl>\\\\\n",
       "\\hline\n",
       "\t chr1:100036895-100039189 & NA &  1 & NA & NA & NA & NA & NA & NA & NA & ⋯ & NA & NA & NA & NA & NA & NA & NA & NA & NA & NA\\\\\n",
       "\t chr1:100048290-100048918 & NA & NA & NA & NA & NA & NA & NA & NA & NA & ⋯ & NA & NA & NA & NA & NA & NA & NA & NA & NA & NA\\\\\n",
       "\t chr1:100050225-100050529 & NA & NA & NA &  1 & NA & NA & NA & NA & NA & ⋯ & NA & NA & NA & NA & NA & NA & NA & NA & NA & NA\\\\\n",
       "\t chr1:100099076-100100488 & NA & NA & NA & NA & NA & NA & NA & NA & NA & ⋯ & NA & NA & NA & NA & NA & NA & NA & NA & NA & NA\\\\\n",
       "\t chr1:100130577-100130967 &  1 & NA &  1 & NA & NA & NA & NA & NA & NA & ⋯ & NA & NA & NA & NA & NA & NA & NA & NA & NA & NA\\\\\n",
       "\t chr1:100132375-100133491 & NA & NA & NA & NA & NA & NA & NA & NA & NA & ⋯ & NA & NA & NA & NA & NA & NA & NA & NA & NA & NA\\\\\n",
       "\\end{tabular}\n"
      ],
      "text/markdown": [
       "\n",
       "A tibble: 6 × 71\n",
       "\n",
       "| Region &lt;chr&gt; | Module_01 &lt;dbl&gt; | Module_02 &lt;dbl&gt; | Module_03 &lt;dbl&gt; | Module_04 &lt;dbl&gt; | Module_05 &lt;dbl&gt; | Module_06 &lt;dbl&gt; | Module_07 &lt;dbl&gt; | Module_08 &lt;dbl&gt; | Module_09 &lt;dbl&gt; | ⋯ ⋯ | Module_65 &lt;dbl&gt; | Module_66 &lt;dbl&gt; | Module_67 &lt;dbl&gt; | Module_68 &lt;dbl&gt; | Module_71 &lt;dbl&gt; | Module_72 &lt;dbl&gt; | Module_73 &lt;dbl&gt; | Module_74 &lt;dbl&gt; | Module_75 &lt;dbl&gt; | Module_77 &lt;dbl&gt; |\n",
       "|---|---|---|---|---|---|---|---|---|---|---|---|---|---|---|---|---|---|---|---|---|\n",
       "| chr1:100036895-100039189 | NA |  1 | NA | NA | NA | NA | NA | NA | NA | ⋯ | NA | NA | NA | NA | NA | NA | NA | NA | NA | NA |\n",
       "| chr1:100048290-100048918 | NA | NA | NA | NA | NA | NA | NA | NA | NA | ⋯ | NA | NA | NA | NA | NA | NA | NA | NA | NA | NA |\n",
       "| chr1:100050225-100050529 | NA | NA | NA |  1 | NA | NA | NA | NA | NA | ⋯ | NA | NA | NA | NA | NA | NA | NA | NA | NA | NA |\n",
       "| chr1:100099076-100100488 | NA | NA | NA | NA | NA | NA | NA | NA | NA | ⋯ | NA | NA | NA | NA | NA | NA | NA | NA | NA | NA |\n",
       "| chr1:100130577-100130967 |  1 | NA |  1 | NA | NA | NA | NA | NA | NA | ⋯ | NA | NA | NA | NA | NA | NA | NA | NA | NA | NA |\n",
       "| chr1:100132375-100133491 | NA | NA | NA | NA | NA | NA | NA | NA | NA | ⋯ | NA | NA | NA | NA | NA | NA | NA | NA | NA | NA |\n",
       "\n"
      ],
      "text/plain": [
       "  Region                   Module_01 Module_02 Module_03 Module_04 Module_05\n",
       "1 chr1:100036895-100039189 NA         1        NA        NA        NA       \n",
       "2 chr1:100048290-100048918 NA        NA        NA        NA        NA       \n",
       "3 chr1:100050225-100050529 NA        NA        NA         1        NA       \n",
       "4 chr1:100099076-100100488 NA        NA        NA        NA        NA       \n",
       "5 chr1:100130577-100130967  1        NA         1        NA        NA       \n",
       "6 chr1:100132375-100133491 NA        NA        NA        NA        NA       \n",
       "  Module_06 Module_07 Module_08 Module_09 ⋯ Module_65 Module_66 Module_67\n",
       "1 NA        NA        NA        NA        ⋯ NA        NA        NA       \n",
       "2 NA        NA        NA        NA        ⋯ NA        NA        NA       \n",
       "3 NA        NA        NA        NA        ⋯ NA        NA        NA       \n",
       "4 NA        NA        NA        NA        ⋯ NA        NA        NA       \n",
       "5 NA        NA        NA        NA        ⋯ NA        NA        NA       \n",
       "6 NA        NA        NA        NA        ⋯ NA        NA        NA       \n",
       "  Module_68 Module_71 Module_72 Module_73 Module_74 Module_75 Module_77\n",
       "1 NA        NA        NA        NA        NA        NA        NA       \n",
       "2 NA        NA        NA        NA        NA        NA        NA       \n",
       "3 NA        NA        NA        NA        NA        NA        NA       \n",
       "4 NA        NA        NA        NA        NA        NA        NA       \n",
       "5 NA        NA        NA        NA        NA        NA        NA       \n",
       "6 NA        NA        NA        NA        NA        NA        NA       "
      ]
     },
     "metadata": {},
     "output_type": "display_data"
    }
   ],
   "source": [
    "dat = dat_region_annot_tfmodule\n",
    "dat = dat %>% \n",
    "    dplyr::select(Region, Label) %>%\n",
    "    dplyr::mutate(Value = 1) %>%\n",
    "    tidyr::spread(Label, Value)\n",
    "\n",
    "dat_region_annot = dat\n",
    "print(dim(dat))\n",
    "head(dat)"
   ]
  },
  {
   "cell_type": "code",
   "execution_count": 7,
   "id": "088f6cc4-54ca-436d-92b0-7b509c3b9424",
   "metadata": {},
   "outputs": [
    {
     "name": "stdout",
     "output_type": "stream",
     "text": [
      "[1] 60618    72\n"
     ]
    },
    {
     "data": {
      "text/html": [
       "<table class=\"dataframe\">\n",
       "<caption>A tibble: 6 × 72</caption>\n",
       "<thead>\n",
       "\t<tr><th scope=col>Region</th><th scope=col>Score</th><th scope=col>Module_01</th><th scope=col>Module_02</th><th scope=col>Module_03</th><th scope=col>Module_04</th><th scope=col>Module_05</th><th scope=col>Module_06</th><th scope=col>Module_07</th><th scope=col>Module_08</th><th scope=col>⋯</th><th scope=col>Module_65</th><th scope=col>Module_66</th><th scope=col>Module_67</th><th scope=col>Module_68</th><th scope=col>Module_71</th><th scope=col>Module_72</th><th scope=col>Module_73</th><th scope=col>Module_74</th><th scope=col>Module_75</th><th scope=col>Module_77</th></tr>\n",
       "\t<tr><th scope=col>&lt;chr&gt;</th><th scope=col>&lt;dbl&gt;</th><th scope=col>&lt;dbl&gt;</th><th scope=col>&lt;dbl&gt;</th><th scope=col>&lt;dbl&gt;</th><th scope=col>&lt;dbl&gt;</th><th scope=col>&lt;dbl&gt;</th><th scope=col>&lt;dbl&gt;</th><th scope=col>&lt;dbl&gt;</th><th scope=col>&lt;dbl&gt;</th><th scope=col>⋯</th><th scope=col>&lt;dbl&gt;</th><th scope=col>&lt;dbl&gt;</th><th scope=col>&lt;dbl&gt;</th><th scope=col>&lt;dbl&gt;</th><th scope=col>&lt;dbl&gt;</th><th scope=col>&lt;dbl&gt;</th><th scope=col>&lt;dbl&gt;</th><th scope=col>&lt;dbl&gt;</th><th scope=col>&lt;dbl&gt;</th><th scope=col>&lt;dbl&gt;</th></tr>\n",
       "</thead>\n",
       "<tbody>\n",
       "\t<tr><td>chr1:100036895-100039189</td><td>0.93374355</td><td>0</td><td>1</td><td>0</td><td>0</td><td>0</td><td>0</td><td>0</td><td>0</td><td>⋯</td><td>0</td><td>0</td><td>0</td><td>0</td><td>0</td><td>0</td><td>0</td><td>0</td><td>0</td><td>0</td></tr>\n",
       "\t<tr><td>chr1:100048290-100048918</td><td>0.03264432</td><td>0</td><td>0</td><td>0</td><td>0</td><td>0</td><td>0</td><td>0</td><td>0</td><td>⋯</td><td>0</td><td>0</td><td>0</td><td>0</td><td>0</td><td>0</td><td>0</td><td>0</td><td>0</td><td>0</td></tr>\n",
       "\t<tr><td>chr1:100050225-100050529</td><td>0.54100817</td><td>0</td><td>0</td><td>0</td><td>1</td><td>0</td><td>0</td><td>0</td><td>0</td><td>⋯</td><td>0</td><td>0</td><td>0</td><td>0</td><td>0</td><td>0</td><td>0</td><td>0</td><td>0</td><td>0</td></tr>\n",
       "\t<tr><td>chr1:100132375-100133491</td><td>0.91814588</td><td>0</td><td>0</td><td>0</td><td>0</td><td>0</td><td>0</td><td>0</td><td>0</td><td>⋯</td><td>0</td><td>0</td><td>0</td><td>0</td><td>0</td><td>0</td><td>0</td><td>0</td><td>0</td><td>0</td></tr>\n",
       "\t<tr><td>chr1:10015258-10016191  </td><td>0.16646046</td><td>0</td><td>0</td><td>0</td><td>0</td><td>0</td><td>0</td><td>0</td><td>0</td><td>⋯</td><td>0</td><td>0</td><td>0</td><td>0</td><td>0</td><td>0</td><td>0</td><td>0</td><td>0</td><td>0</td></tr>\n",
       "\t<tr><td>chr1:100248956-100250290</td><td>0.72932407</td><td>1</td><td>0</td><td>0</td><td>0</td><td>0</td><td>1</td><td>0</td><td>0</td><td>⋯</td><td>0</td><td>0</td><td>0</td><td>0</td><td>0</td><td>0</td><td>0</td><td>0</td><td>0</td><td>0</td></tr>\n",
       "</tbody>\n",
       "</table>\n"
      ],
      "text/latex": [
       "A tibble: 6 × 72\n",
       "\\begin{tabular}{lllllllllllllllllllll}\n",
       " Region & Score & Module\\_01 & Module\\_02 & Module\\_03 & Module\\_04 & Module\\_05 & Module\\_06 & Module\\_07 & Module\\_08 & ⋯ & Module\\_65 & Module\\_66 & Module\\_67 & Module\\_68 & Module\\_71 & Module\\_72 & Module\\_73 & Module\\_74 & Module\\_75 & Module\\_77\\\\\n",
       " <chr> & <dbl> & <dbl> & <dbl> & <dbl> & <dbl> & <dbl> & <dbl> & <dbl> & <dbl> & ⋯ & <dbl> & <dbl> & <dbl> & <dbl> & <dbl> & <dbl> & <dbl> & <dbl> & <dbl> & <dbl>\\\\\n",
       "\\hline\n",
       "\t chr1:100036895-100039189 & 0.93374355 & 0 & 1 & 0 & 0 & 0 & 0 & 0 & 0 & ⋯ & 0 & 0 & 0 & 0 & 0 & 0 & 0 & 0 & 0 & 0\\\\\n",
       "\t chr1:100048290-100048918 & 0.03264432 & 0 & 0 & 0 & 0 & 0 & 0 & 0 & 0 & ⋯ & 0 & 0 & 0 & 0 & 0 & 0 & 0 & 0 & 0 & 0\\\\\n",
       "\t chr1:100050225-100050529 & 0.54100817 & 0 & 0 & 0 & 1 & 0 & 0 & 0 & 0 & ⋯ & 0 & 0 & 0 & 0 & 0 & 0 & 0 & 0 & 0 & 0\\\\\n",
       "\t chr1:100132375-100133491 & 0.91814588 & 0 & 0 & 0 & 0 & 0 & 0 & 0 & 0 & ⋯ & 0 & 0 & 0 & 0 & 0 & 0 & 0 & 0 & 0 & 0\\\\\n",
       "\t chr1:10015258-10016191   & 0.16646046 & 0 & 0 & 0 & 0 & 0 & 0 & 0 & 0 & ⋯ & 0 & 0 & 0 & 0 & 0 & 0 & 0 & 0 & 0 & 0\\\\\n",
       "\t chr1:100248956-100250290 & 0.72932407 & 1 & 0 & 0 & 0 & 0 & 1 & 0 & 0 & ⋯ & 0 & 0 & 0 & 0 & 0 & 0 & 0 & 0 & 0 & 0\\\\\n",
       "\\end{tabular}\n"
      ],
      "text/markdown": [
       "\n",
       "A tibble: 6 × 72\n",
       "\n",
       "| Region &lt;chr&gt; | Score &lt;dbl&gt; | Module_01 &lt;dbl&gt; | Module_02 &lt;dbl&gt; | Module_03 &lt;dbl&gt; | Module_04 &lt;dbl&gt; | Module_05 &lt;dbl&gt; | Module_06 &lt;dbl&gt; | Module_07 &lt;dbl&gt; | Module_08 &lt;dbl&gt; | ⋯ ⋯ | Module_65 &lt;dbl&gt; | Module_66 &lt;dbl&gt; | Module_67 &lt;dbl&gt; | Module_68 &lt;dbl&gt; | Module_71 &lt;dbl&gt; | Module_72 &lt;dbl&gt; | Module_73 &lt;dbl&gt; | Module_74 &lt;dbl&gt; | Module_75 &lt;dbl&gt; | Module_77 &lt;dbl&gt; |\n",
       "|---|---|---|---|---|---|---|---|---|---|---|---|---|---|---|---|---|---|---|---|---|\n",
       "| chr1:100036895-100039189 | 0.93374355 | 0 | 1 | 0 | 0 | 0 | 0 | 0 | 0 | ⋯ | 0 | 0 | 0 | 0 | 0 | 0 | 0 | 0 | 0 | 0 |\n",
       "| chr1:100048290-100048918 | 0.03264432 | 0 | 0 | 0 | 0 | 0 | 0 | 0 | 0 | ⋯ | 0 | 0 | 0 | 0 | 0 | 0 | 0 | 0 | 0 | 0 |\n",
       "| chr1:100050225-100050529 | 0.54100817 | 0 | 0 | 0 | 1 | 0 | 0 | 0 | 0 | ⋯ | 0 | 0 | 0 | 0 | 0 | 0 | 0 | 0 | 0 | 0 |\n",
       "| chr1:100132375-100133491 | 0.91814588 | 0 | 0 | 0 | 0 | 0 | 0 | 0 | 0 | ⋯ | 0 | 0 | 0 | 0 | 0 | 0 | 0 | 0 | 0 | 0 |\n",
       "| chr1:10015258-10016191   | 0.16646046 | 0 | 0 | 0 | 0 | 0 | 0 | 0 | 0 | ⋯ | 0 | 0 | 0 | 0 | 0 | 0 | 0 | 0 | 0 | 0 |\n",
       "| chr1:100248956-100250290 | 0.72932407 | 1 | 0 | 0 | 0 | 0 | 1 | 0 | 0 | ⋯ | 0 | 0 | 0 | 0 | 0 | 0 | 0 | 0 | 0 | 0 |\n",
       "\n"
      ],
      "text/plain": [
       "  Region                   Score      Module_01 Module_02 Module_03 Module_04\n",
       "1 chr1:100036895-100039189 0.93374355 0         1         0         0        \n",
       "2 chr1:100048290-100048918 0.03264432 0         0         0         0        \n",
       "3 chr1:100050225-100050529 0.54100817 0         0         0         1        \n",
       "4 chr1:100132375-100133491 0.91814588 0         0         0         0        \n",
       "5 chr1:10015258-10016191   0.16646046 0         0         0         0        \n",
       "6 chr1:100248956-100250290 0.72932407 1         0         0         0        \n",
       "  Module_05 Module_06 Module_07 Module_08 ⋯ Module_65 Module_66 Module_67\n",
       "1 0         0         0         0         ⋯ 0         0         0        \n",
       "2 0         0         0         0         ⋯ 0         0         0        \n",
       "3 0         0         0         0         ⋯ 0         0         0        \n",
       "4 0         0         0         0         ⋯ 0         0         0        \n",
       "5 0         0         0         0         ⋯ 0         0         0        \n",
       "6 0         1         0         0         ⋯ 0         0         0        \n",
       "  Module_68 Module_71 Module_72 Module_73 Module_74 Module_75 Module_77\n",
       "1 0         0         0         0         0         0         0        \n",
       "2 0         0         0         0         0         0         0        \n",
       "3 0         0         0         0         0         0         0        \n",
       "4 0         0         0         0         0         0         0        \n",
       "5 0         0         0         0         0         0         0        \n",
       "6 0         0         0         0         0         0         0        "
      ]
     },
     "metadata": {},
     "output_type": "display_data"
    }
   ],
   "source": [
    "dat = dplyr::left_join(\n",
    "    dat_region_score, \n",
    "    dat_region_annot,\n",
    "    by = c(\"Region\")\n",
    ")\n",
    "dat = dat %>% replace(is.na(.), 0)\n",
    "\n",
    "dat_region_merge = dat\n",
    "print(dim(dat))\n",
    "head(dat)"
   ]
  },
  {
   "cell_type": "code",
   "execution_count": null,
   "id": "7a087629-db7e-447d-b6cc-efacb919cd74",
   "metadata": {},
   "outputs": [],
   "source": []
  },
  {
   "cell_type": "code",
   "execution_count": null,
   "id": "9b6d6dbb-d04c-441f-9fdd-512d385c78d8",
   "metadata": {},
   "outputs": [],
   "source": []
  },
  {
   "cell_type": "code",
   "execution_count": null,
   "id": "69845d91-c154-4217-8a18-c02abc4ec3e8",
   "metadata": {},
   "outputs": [],
   "source": []
  },
  {
   "cell_type": "code",
   "execution_count": 8,
   "id": "18b133c6-b296-4755-a1d9-4c862d6ffcbe",
   "metadata": {},
   "outputs": [
    {
     "name": "stdout",
     "output_type": "stream",
     "text": [
      "[1] 4243260       4\n"
     ]
    },
    {
     "data": {
      "text/html": [
       "<table class=\"dataframe\">\n",
       "<caption>A tibble: 6 × 4</caption>\n",
       "<thead>\n",
       "\t<tr><th scope=col>Region</th><th scope=col>Score</th><th scope=col>Group</th><th scope=col>Label</th></tr>\n",
       "\t<tr><th scope=col>&lt;chr&gt;</th><th scope=col>&lt;dbl&gt;</th><th scope=col>&lt;chr&gt;</th><th scope=col>&lt;dbl&gt;</th></tr>\n",
       "</thead>\n",
       "<tbody>\n",
       "\t<tr><td>chr1:100036895-100039189</td><td>0.93374355</td><td>Module_01</td><td>0</td></tr>\n",
       "\t<tr><td>chr1:100048290-100048918</td><td>0.03264432</td><td>Module_01</td><td>0</td></tr>\n",
       "\t<tr><td>chr1:100050225-100050529</td><td>0.54100817</td><td>Module_01</td><td>0</td></tr>\n",
       "\t<tr><td>chr1:100132375-100133491</td><td>0.91814588</td><td>Module_01</td><td>0</td></tr>\n",
       "\t<tr><td>chr1:10015258-10016191  </td><td>0.16646046</td><td>Module_01</td><td>0</td></tr>\n",
       "\t<tr><td>chr1:100248956-100250290</td><td>0.72932407</td><td>Module_01</td><td>1</td></tr>\n",
       "</tbody>\n",
       "</table>\n"
      ],
      "text/latex": [
       "A tibble: 6 × 4\n",
       "\\begin{tabular}{llll}\n",
       " Region & Score & Group & Label\\\\\n",
       " <chr> & <dbl> & <chr> & <dbl>\\\\\n",
       "\\hline\n",
       "\t chr1:100036895-100039189 & 0.93374355 & Module\\_01 & 0\\\\\n",
       "\t chr1:100048290-100048918 & 0.03264432 & Module\\_01 & 0\\\\\n",
       "\t chr1:100050225-100050529 & 0.54100817 & Module\\_01 & 0\\\\\n",
       "\t chr1:100132375-100133491 & 0.91814588 & Module\\_01 & 0\\\\\n",
       "\t chr1:10015258-10016191   & 0.16646046 & Module\\_01 & 0\\\\\n",
       "\t chr1:100248956-100250290 & 0.72932407 & Module\\_01 & 1\\\\\n",
       "\\end{tabular}\n"
      ],
      "text/markdown": [
       "\n",
       "A tibble: 6 × 4\n",
       "\n",
       "| Region &lt;chr&gt; | Score &lt;dbl&gt; | Group &lt;chr&gt; | Label &lt;dbl&gt; |\n",
       "|---|---|---|---|\n",
       "| chr1:100036895-100039189 | 0.93374355 | Module_01 | 0 |\n",
       "| chr1:100048290-100048918 | 0.03264432 | Module_01 | 0 |\n",
       "| chr1:100050225-100050529 | 0.54100817 | Module_01 | 0 |\n",
       "| chr1:100132375-100133491 | 0.91814588 | Module_01 | 0 |\n",
       "| chr1:10015258-10016191   | 0.16646046 | Module_01 | 0 |\n",
       "| chr1:100248956-100250290 | 0.72932407 | Module_01 | 1 |\n",
       "\n"
      ],
      "text/plain": [
       "  Region                   Score      Group     Label\n",
       "1 chr1:100036895-100039189 0.93374355 Module_01 0    \n",
       "2 chr1:100048290-100048918 0.03264432 Module_01 0    \n",
       "3 chr1:100050225-100050529 0.54100817 Module_01 0    \n",
       "4 chr1:100132375-100133491 0.91814588 Module_01 0    \n",
       "5 chr1:10015258-10016191   0.16646046 Module_01 0    \n",
       "6 chr1:100248956-100250290 0.72932407 Module_01 1    "
      ]
     },
     "metadata": {},
     "output_type": "display_data"
    }
   ],
   "source": [
    "dat = dat_region_merge\n",
    "dat = dat %>% tidyr::gather(Group, Label, -Region, -Score)\n",
    "\n",
    "dat_region_arrange = dat\n",
    "print(dim(dat))\n",
    "head(dat)"
   ]
  },
  {
   "cell_type": "code",
   "execution_count": 9,
   "id": "b5f95ee8-bc7a-4fd9-a1d0-70d8d2815107",
   "metadata": {},
   "outputs": [
    {
     "name": "stdout",
     "output_type": "stream",
     "text": [
      "[1] 140   5\n"
     ]
    },
    {
     "data": {
      "text/html": [
       "<table class=\"dataframe\">\n",
       "<caption>A tibble: 6 × 5</caption>\n",
       "<thead>\n",
       "\t<tr><th scope=col>Group</th><th scope=col>Label</th><th scope=col>Count</th><th scope=col>Median</th><th scope=col>IQR</th></tr>\n",
       "\t<tr><th scope=col>&lt;chr&gt;</th><th scope=col>&lt;dbl&gt;</th><th scope=col>&lt;int&gt;</th><th scope=col>&lt;dbl&gt;</th><th scope=col>&lt;dbl&gt;</th></tr>\n",
       "</thead>\n",
       "<tbody>\n",
       "\t<tr><td>Module_01</td><td>0</td><td>55819</td><td>0.4794890</td><td>0.3304615</td></tr>\n",
       "\t<tr><td>Module_01</td><td>1</td><td> 4799</td><td>0.5790634</td><td>0.3251248</td></tr>\n",
       "\t<tr><td>Module_02</td><td>0</td><td>50936</td><td>0.5073438</td><td>0.3335093</td></tr>\n",
       "\t<tr><td>Module_02</td><td>1</td><td> 9682</td><td>0.3927478</td><td>0.2773365</td></tr>\n",
       "\t<tr><td>Module_03</td><td>0</td><td>58315</td><td>0.4844436</td><td>0.3320933</td></tr>\n",
       "\t<tr><td>Module_03</td><td>1</td><td> 2303</td><td>0.5625887</td><td>0.3234339</td></tr>\n",
       "</tbody>\n",
       "</table>\n"
      ],
      "text/latex": [
       "A tibble: 6 × 5\n",
       "\\begin{tabular}{lllll}\n",
       " Group & Label & Count & Median & IQR\\\\\n",
       " <chr> & <dbl> & <int> & <dbl> & <dbl>\\\\\n",
       "\\hline\n",
       "\t Module\\_01 & 0 & 55819 & 0.4794890 & 0.3304615\\\\\n",
       "\t Module\\_01 & 1 &  4799 & 0.5790634 & 0.3251248\\\\\n",
       "\t Module\\_02 & 0 & 50936 & 0.5073438 & 0.3335093\\\\\n",
       "\t Module\\_02 & 1 &  9682 & 0.3927478 & 0.2773365\\\\\n",
       "\t Module\\_03 & 0 & 58315 & 0.4844436 & 0.3320933\\\\\n",
       "\t Module\\_03 & 1 &  2303 & 0.5625887 & 0.3234339\\\\\n",
       "\\end{tabular}\n"
      ],
      "text/markdown": [
       "\n",
       "A tibble: 6 × 5\n",
       "\n",
       "| Group &lt;chr&gt; | Label &lt;dbl&gt; | Count &lt;int&gt; | Median &lt;dbl&gt; | IQR &lt;dbl&gt; |\n",
       "|---|---|---|---|---|\n",
       "| Module_01 | 0 | 55819 | 0.4794890 | 0.3304615 |\n",
       "| Module_01 | 1 |  4799 | 0.5790634 | 0.3251248 |\n",
       "| Module_02 | 0 | 50936 | 0.5073438 | 0.3335093 |\n",
       "| Module_02 | 1 |  9682 | 0.3927478 | 0.2773365 |\n",
       "| Module_03 | 0 | 58315 | 0.4844436 | 0.3320933 |\n",
       "| Module_03 | 1 |  2303 | 0.5625887 | 0.3234339 |\n",
       "\n"
      ],
      "text/plain": [
       "  Group     Label Count Median    IQR      \n",
       "1 Module_01 0     55819 0.4794890 0.3304615\n",
       "2 Module_01 1      4799 0.5790634 0.3251248\n",
       "3 Module_02 0     50936 0.5073438 0.3335093\n",
       "4 Module_02 1      9682 0.3927478 0.2773365\n",
       "5 Module_03 0     58315 0.4844436 0.3320933\n",
       "6 Module_03 1      2303 0.5625887 0.3234339"
      ]
     },
     "metadata": {},
     "output_type": "display_data"
    }
   ],
   "source": [
    "dat = dat_region_arrange\n",
    "dat = dat %>%\n",
    "    dplyr::group_by(Group, Label) %>%\n",
    "    dplyr::summarise(\n",
    "        Count   = n(),\n",
    "        Median  = median(Score),\n",
    "        IQR     = IQR(Score),\n",
    "        .groups = \"drop\"\n",
    "    )\n",
    "\n",
    "dat_des_summary = dat\n",
    "print(dim(dat))\n",
    "head(dat)"
   ]
  },
  {
   "cell_type": "code",
   "execution_count": 10,
   "id": "021a8850-20a1-4a4e-8ebd-08ca24c9c363",
   "metadata": {},
   "outputs": [
    {
     "name": "stdout",
     "output_type": "stream",
     "text": [
      "[1] 70  4\n"
     ]
    },
    {
     "data": {
      "text/html": [
       "<table class=\"dataframe\">\n",
       "<caption>A tibble: 6 × 4</caption>\n",
       "<thead>\n",
       "\t<tr><th scope=col>Group</th><th scope=col>Label_0</th><th scope=col>Label_1</th><th scope=col>Diff</th></tr>\n",
       "\t<tr><th scope=col>&lt;chr&gt;</th><th scope=col>&lt;dbl&gt;</th><th scope=col>&lt;dbl&gt;</th><th scope=col>&lt;dbl&gt;</th></tr>\n",
       "</thead>\n",
       "<tbody>\n",
       "\t<tr><td>Module_01</td><td>0.4794890</td><td>0.5790634</td><td> 0.09957438</td></tr>\n",
       "\t<tr><td>Module_02</td><td>0.5073438</td><td>0.3927478</td><td>-0.11459605</td></tr>\n",
       "\t<tr><td>Module_03</td><td>0.4844436</td><td>0.5625887</td><td> 0.07814511</td></tr>\n",
       "\t<tr><td>Module_04</td><td>0.4818481</td><td>0.5582858</td><td> 0.07643769</td></tr>\n",
       "\t<tr><td>Module_05</td><td>0.4841026</td><td>0.5635152</td><td> 0.07941261</td></tr>\n",
       "\t<tr><td>Module_06</td><td>0.4781982</td><td>0.5741446</td><td> 0.09594647</td></tr>\n",
       "</tbody>\n",
       "</table>\n"
      ],
      "text/latex": [
       "A tibble: 6 × 4\n",
       "\\begin{tabular}{llll}\n",
       " Group & Label\\_0 & Label\\_1 & Diff\\\\\n",
       " <chr> & <dbl> & <dbl> & <dbl>\\\\\n",
       "\\hline\n",
       "\t Module\\_01 & 0.4794890 & 0.5790634 &  0.09957438\\\\\n",
       "\t Module\\_02 & 0.5073438 & 0.3927478 & -0.11459605\\\\\n",
       "\t Module\\_03 & 0.4844436 & 0.5625887 &  0.07814511\\\\\n",
       "\t Module\\_04 & 0.4818481 & 0.5582858 &  0.07643769\\\\\n",
       "\t Module\\_05 & 0.4841026 & 0.5635152 &  0.07941261\\\\\n",
       "\t Module\\_06 & 0.4781982 & 0.5741446 &  0.09594647\\\\\n",
       "\\end{tabular}\n"
      ],
      "text/markdown": [
       "\n",
       "A tibble: 6 × 4\n",
       "\n",
       "| Group &lt;chr&gt; | Label_0 &lt;dbl&gt; | Label_1 &lt;dbl&gt; | Diff &lt;dbl&gt; |\n",
       "|---|---|---|---|\n",
       "| Module_01 | 0.4794890 | 0.5790634 |  0.09957438 |\n",
       "| Module_02 | 0.5073438 | 0.3927478 | -0.11459605 |\n",
       "| Module_03 | 0.4844436 | 0.5625887 |  0.07814511 |\n",
       "| Module_04 | 0.4818481 | 0.5582858 |  0.07643769 |\n",
       "| Module_05 | 0.4841026 | 0.5635152 |  0.07941261 |\n",
       "| Module_06 | 0.4781982 | 0.5741446 |  0.09594647 |\n",
       "\n"
      ],
      "text/plain": [
       "  Group     Label_0   Label_1   Diff       \n",
       "1 Module_01 0.4794890 0.5790634  0.09957438\n",
       "2 Module_02 0.5073438 0.3927478 -0.11459605\n",
       "3 Module_03 0.4844436 0.5625887  0.07814511\n",
       "4 Module_04 0.4818481 0.5582858  0.07643769\n",
       "5 Module_05 0.4841026 0.5635152  0.07941261\n",
       "6 Module_06 0.4781982 0.5741446  0.09594647"
      ]
     },
     "metadata": {},
     "output_type": "display_data"
    }
   ],
   "source": [
    "dat = dat_des_summary\n",
    "dat = dat %>% \n",
    "    dplyr::mutate(Label = paste(\"Label\", Label, sep = \"_\")) %>%\n",
    "    dplyr::select(Group, Label, Median) %>%\n",
    "    tidyr::spread(Label, Median) %>%\n",
    "    dplyr::mutate(Diff = Label_1 - Label_0)\n",
    "\n",
    "dat_dif_summary = dat\n",
    "print(dim(dat))\n",
    "head(dat)"
   ]
  },
  {
   "cell_type": "code",
   "execution_count": 15,
   "id": "7f7cc1b4-0304-4489-8002-4632f2793489",
   "metadata": {},
   "outputs": [],
   "source": [
    "dat = dat_region_arrange\n",
    "dat = dat %>% dplyr::mutate(Label = paste(\"Label\", Label, sep = \"_\"))\n",
    "lst = split(dat, dat$Group)\n",
    "lst_dat_lab = lst\n",
    "\n",
    "dat = dat_dif_summary\n",
    "lst = split(dat$Diff, dat$Group)\n",
    "lst_num_dif = lst"
   ]
  },
  {
   "cell_type": "code",
   "execution_count": 16,
   "id": "8e7e8cab-2ce0-4852-b9f8-62ea5ac395e7",
   "metadata": {},
   "outputs": [
    {
     "data": {
      "text/html": [
       "<table class=\"dataframe\">\n",
       "<caption>A tibble: 6 × 4</caption>\n",
       "<thead>\n",
       "\t<tr><th scope=col>Region</th><th scope=col>Score</th><th scope=col>Group</th><th scope=col>Label</th></tr>\n",
       "\t<tr><th scope=col>&lt;chr&gt;</th><th scope=col>&lt;dbl&gt;</th><th scope=col>&lt;chr&gt;</th><th scope=col>&lt;chr&gt;</th></tr>\n",
       "</thead>\n",
       "<tbody>\n",
       "\t<tr><td>chr1:100036895-100039189</td><td>0.93374355</td><td>Module_01</td><td>Label_0</td></tr>\n",
       "\t<tr><td>chr1:100048290-100048918</td><td>0.03264432</td><td>Module_01</td><td>Label_0</td></tr>\n",
       "\t<tr><td>chr1:100050225-100050529</td><td>0.54100817</td><td>Module_01</td><td>Label_0</td></tr>\n",
       "\t<tr><td>chr1:100132375-100133491</td><td>0.91814588</td><td>Module_01</td><td>Label_0</td></tr>\n",
       "\t<tr><td>chr1:10015258-10016191  </td><td>0.16646046</td><td>Module_01</td><td>Label_0</td></tr>\n",
       "\t<tr><td>chr1:100248956-100250290</td><td>0.72932407</td><td>Module_01</td><td>Label_1</td></tr>\n",
       "</tbody>\n",
       "</table>\n"
      ],
      "text/latex": [
       "A tibble: 6 × 4\n",
       "\\begin{tabular}{llll}\n",
       " Region & Score & Group & Label\\\\\n",
       " <chr> & <dbl> & <chr> & <chr>\\\\\n",
       "\\hline\n",
       "\t chr1:100036895-100039189 & 0.93374355 & Module\\_01 & Label\\_0\\\\\n",
       "\t chr1:100048290-100048918 & 0.03264432 & Module\\_01 & Label\\_0\\\\\n",
       "\t chr1:100050225-100050529 & 0.54100817 & Module\\_01 & Label\\_0\\\\\n",
       "\t chr1:100132375-100133491 & 0.91814588 & Module\\_01 & Label\\_0\\\\\n",
       "\t chr1:10015258-10016191   & 0.16646046 & Module\\_01 & Label\\_0\\\\\n",
       "\t chr1:100248956-100250290 & 0.72932407 & Module\\_01 & Label\\_1\\\\\n",
       "\\end{tabular}\n"
      ],
      "text/markdown": [
       "\n",
       "A tibble: 6 × 4\n",
       "\n",
       "| Region &lt;chr&gt; | Score &lt;dbl&gt; | Group &lt;chr&gt; | Label &lt;chr&gt; |\n",
       "|---|---|---|---|\n",
       "| chr1:100036895-100039189 | 0.93374355 | Module_01 | Label_0 |\n",
       "| chr1:100048290-100048918 | 0.03264432 | Module_01 | Label_0 |\n",
       "| chr1:100050225-100050529 | 0.54100817 | Module_01 | Label_0 |\n",
       "| chr1:100132375-100133491 | 0.91814588 | Module_01 | Label_0 |\n",
       "| chr1:10015258-10016191   | 0.16646046 | Module_01 | Label_0 |\n",
       "| chr1:100248956-100250290 | 0.72932407 | Module_01 | Label_1 |\n",
       "\n"
      ],
      "text/plain": [
       "  Region                   Score      Group     Label  \n",
       "1 chr1:100036895-100039189 0.93374355 Module_01 Label_0\n",
       "2 chr1:100048290-100048918 0.03264432 Module_01 Label_0\n",
       "3 chr1:100050225-100050529 0.54100817 Module_01 Label_0\n",
       "4 chr1:100132375-100133491 0.91814588 Module_01 Label_0\n",
       "5 chr1:10015258-10016191   0.16646046 Module_01 Label_0\n",
       "6 chr1:100248956-100250290 0.72932407 Module_01 Label_1"
      ]
     },
     "metadata": {},
     "output_type": "display_data"
    }
   ],
   "source": [
    "idx = \"Module_01\"\n",
    "dat = lst_dat_lab[[idx]]\n",
    "head(dat)"
   ]
  },
  {
   "cell_type": "code",
   "execution_count": 14,
   "id": "b30a04e2-db70-4125-bdf3-6014eae4593d",
   "metadata": {},
   "outputs": [
    {
     "data": {
      "text/html": [
       "0.0995743838463822"
      ],
      "text/latex": [
       "0.0995743838463822"
      ],
      "text/markdown": [
       "0.0995743838463822"
      ],
      "text/plain": [
       "[1] 0.09957438"
      ]
     },
     "metadata": {},
     "output_type": "display_data"
    }
   ],
   "source": [
    "idx = \"Module_01\"\n",
    "num = lst_num_dif[[idx]]\n",
    "num"
   ]
  },
  {
   "cell_type": "code",
   "execution_count": 21,
   "id": "0308d9f2-8a19-4541-a3f6-51d2dbfd1099",
   "metadata": {},
   "outputs": [
    {
     "data": {
      "text/html": [
       "<style>\n",
       ".list-inline {list-style: none; margin:0; padding: 0}\n",
       ".list-inline>li {display: inline-block}\n",
       ".list-inline>li:not(:last-child)::after {content: \"\\00b7\"; padding: 0 .5ex}\n",
       "</style>\n",
       "<ol class=list-inline><li>3</li><li>5</li><li>2</li><li>1</li><li>4</li></ol>\n"
      ],
      "text/latex": [
       "\\begin{enumerate*}\n",
       "\\item 3\n",
       "\\item 5\n",
       "\\item 2\n",
       "\\item 1\n",
       "\\item 4\n",
       "\\end{enumerate*}\n"
      ],
      "text/markdown": [
       "1. 3\n",
       "2. 5\n",
       "3. 2\n",
       "4. 1\n",
       "5. 4\n",
       "\n",
       "\n"
      ],
      "text/plain": [
       "[1] 3 5 2 1 4"
      ]
     },
     "metadata": {},
     "output_type": "display_data"
    }
   ],
   "source": [
    "sample(1:5, replace=FALSE)"
   ]
  },
  {
   "cell_type": "code",
   "execution_count": 59,
   "id": "9cc38e56-d9a5-46fb-8a75-b58d9cc97acf",
   "metadata": {},
   "outputs": [],
   "source": [
    "fun = function(dat){\n",
    "    dat$Label = sample(dat$Label)\n",
    "    lst = split(dat$Score, dat$Label)\n",
    "    lst = lapply(lst, median)\n",
    "    num = lst$Label_1 - lst$Label_0\n",
    "    return(num)\n",
    "}"
   ]
  },
  {
   "cell_type": "code",
   "execution_count": 67,
   "id": "73bc114d-5cd9-473f-9009-83f910f2a1e7",
   "metadata": {},
   "outputs": [
    {
     "data": {
      "text/html": [
       "0"
      ],
      "text/latex": [
       "0"
      ],
      "text/markdown": [
       "0"
      ],
      "text/plain": [
       "[1] 0"
      ]
     },
     "metadata": {},
     "output_type": "display_data"
    }
   ],
   "source": [
    "num_iter = 10000\n",
    "idx = \"Module_01\"\n",
    "dat = lst_dat_lab[[idx]]\n",
    "num = lst_num_dif[[idx]]\n",
    "\n",
    "set.seed(123)\n",
    "vec = replicate(num_iter, fun(dat))\n",
    "tmp = mean(vec >= num)\n",
    "tmp"
   ]
  },
  {
   "cell_type": "code",
   "execution_count": 69,
   "id": "7bce4a74-2c6a-4a77-9d3b-a3013fefbcb6",
   "metadata": {},
   "outputs": [
    {
     "data": {
      "image/png": "[encoded data removed]",
      "text/plain": [
       "plot without title"
      ]
     },
     "metadata": {
      "image/png": {
       "height": 420,
       "width": 420
      }
     },
     "output_type": "display_data"
    }
   ],
   "source": [
    "dat = data.frame(Score = vec)\n",
    "gpt = ggplot(dat, aes(x=Score)) +\n",
    "    geom_histogram(binwidth = 0.001) +\n",
    "    theme_cowplot() +\n",
    "    background_grid()\n",
    "print(gpt)"
   ]
  },
  {
   "cell_type": "code",
   "execution_count": 75,
   "id": "bba187b7-03bb-4f64-9f3f-d55adcce7614",
   "metadata": {},
   "outputs": [
    {
     "data": {
      "image/png": "[encoded data removed]",
      "text/plain": [
       "plot without title"
      ]
     },
     "metadata": {
      "image/png": {
       "height": 420,
       "width": 420
      }
     },
     "output_type": "display_data"
    }
   ],
   "source": [
    "bw <- 0.75\n",
    "plot(kde <- ks::kde(x = vec, h = bw), lwd = 3) # ?ks::plot.kde for options\n",
    "lines(density(x = vec, bw = bw), col = 2)"
   ]
  },
  {
   "cell_type": "code",
   "execution_count": 82,
   "id": "efad08dc-17e0-4d1c-987e-1a9d2f7e4dd4",
   "metadata": {},
   "outputs": [
    {
     "data": {
      "image/png": "[encoded data removed]",
      "text/plain": [
       "Plot with title “ecdf(x)”"
      ]
     },
     "metadata": {
      "image/png": {
       "height": 420,
       "width": 420
      }
     },
     "output_type": "display_data"
    }
   ],
   "source": [
    "plot.ecdf(vec)"
   ]
  },
  {
   "cell_type": "code",
   "execution_count": 73,
   "id": "6f77b599-acfe-4d89-a889-4a4f68fc11ca",
   "metadata": {},
   "outputs": [
    {
     "data": {
      "text/html": [
       "1"
      ],
      "text/latex": [
       "1"
      ],
      "text/markdown": [
       "1"
      ],
      "text/plain": [
       "[1] 1"
      ]
     },
     "metadata": {},
     "output_type": "display_data"
    }
   ],
   "source": [
    "tmp = ecdf(vec)\n",
    "tmp(num)"
   ]
  },
  {
   "cell_type": "code",
   "execution_count": 65,
   "id": "cefe97d6-6b27-46ef-b7ad-1f0fee8568de",
   "metadata": {},
   "outputs": [
    {
     "data": {
      "image/png": "[encoded data removed]",
      "text/plain": [
       "Plot with title “”"
      ]
     },
     "metadata": {
      "image/png": {
       "height": 420,
       "width": 420
      }
     },
     "output_type": "display_data"
    }
   ],
   "source": [
    "hist(vec,col=\"gray\",las=1,main=\"\")\n",
    "abline(v=num,col=\"red\")"
   ]
  },
  {
   "cell_type": "code",
   "execution_count": 66,
   "id": "92db7d54-ce93-47cc-8ddc-abc78a6ff133",
   "metadata": {},
   "outputs": [
    {
     "data": {
      "text/html": [
       "0.0995743838463822"
      ],
      "text/latex": [
       "0.0995743838463822"
      ],
      "text/markdown": [
       "0.0995743838463822"
      ],
      "text/plain": [
       "[1] 0.09957438"
      ]
     },
     "metadata": {},
     "output_type": "display_data"
    }
   ],
   "source": [
    "num"
   ]
  },
  {
   "cell_type": "code",
   "execution_count": 58,
   "id": "fb5b4ec7-1f74-495b-9d7a-1db103c7ffb5",
   "metadata": {},
   "outputs": [
    {
     "name": "stdout",
     "output_type": "stream",
     "text": [
      "[1] -0.009771575\n"
     ]
    }
   ],
   "source": [
    "num_iter = 100\n",
    "idx = \"Module_01\"\n",
    "dat = lst_dat_lab[[idx]]\n",
    "\n",
    "set.seed(123)\n",
    "\n",
    "dat$Label = sample(dat$Label)\n",
    "\n",
    "lst = split(dat$Score, dat$Label)\n",
    "lst = lapply(lst, median)\n",
    "num = lst$Label_1 - lst$Label_0\n",
    "print(num)"
   ]
  },
  {
   "cell_type": "code",
   "execution_count": 45,
   "id": "c1cb8eb0-73cb-45a9-b827-82eabbd8e1e6",
   "metadata": {},
   "outputs": [
    {
     "data": {
      "text/html": [
       "<style>\n",
       ".list-inline {list-style: none; margin:0; padding: 0}\n",
       ".list-inline>li {display: inline-block}\n",
       ".list-inline>li:not(:last-child)::after {content: \"\\00b7\"; padding: 0 .5ex}\n",
       "</style>\n",
       "<ol class=list-inline><li>'Label_0'</li><li>'Label_0'</li><li>'Label_0'</li><li>'Label_1'</li><li>'Label_0'</li><li>'Label_0'</li><li>'Label_0'</li><li>'Label_0'</li><li>'Label_0'</li><li>'Label_0'</li><li>'Label_0'</li><li>'Label_0'</li><li>'Label_0'</li><li>'Label_0'</li><li>'Label_0'</li><li>'Label_0'</li><li>'Label_0'</li><li>'Label_0'</li><li>'Label_1'</li><li>'Label_0'</li><li>'Label_0'</li><li>'Label_0'</li><li>'Label_0'</li><li>'Label_0'</li><li>'Label_0'</li><li>'Label_0'</li><li>'Label_0'</li><li>'Label_0'</li><li>'Label_0'</li><li>'Label_0'</li><li>'Label_0'</li><li>'Label_0'</li><li>'Label_0'</li><li>'Label_0'</li><li>'Label_0'</li><li>'Label_0'</li><li>'Label_0'</li><li>'Label_1'</li><li>'Label_0'</li><li>'Label_0'</li><li>'Label_0'</li><li>'Label_0'</li><li>'Label_0'</li><li>'Label_0'</li><li>'Label_0'</li><li>'Label_0'</li><li>'Label_0'</li><li>'Label_0'</li><li>'Label_0'</li><li>'Label_0'</li><li>'Label_0'</li><li>'Label_0'</li><li>'Label_0'</li><li>'Label_0'</li><li>'Label_0'</li><li>'Label_0'</li><li>'Label_0'</li><li>'Label_0'</li><li>'Label_0'</li><li>'Label_0'</li><li>'Label_0'</li><li>'Label_0'</li><li>'Label_0'</li><li>'Label_0'</li><li>'Label_0'</li><li>'Label_0'</li><li>'Label_1'</li><li>'Label_0'</li><li>'Label_0'</li><li>'Label_0'</li><li>'Label_0'</li><li>'Label_0'</li><li>'Label_0'</li><li>'Label_1'</li><li>'Label_0'</li><li>'Label_0'</li><li>'Label_0'</li><li>'Label_0'</li><li>'Label_0'</li><li>'Label_1'</li><li>'Label_0'</li><li>'Label_0'</li><li>'Label_0'</li><li>'Label_1'</li><li>'Label_0'</li><li>'Label_0'</li><li>'Label_0'</li><li>'Label_0'</li><li>'Label_0'</li><li>'Label_0'</li><li>'Label_0'</li><li>'Label_0'</li><li>'Label_0'</li><li>'Label_0'</li><li>'Label_0'</li><li>'Label_1'</li><li>'Label_0'</li><li>'Label_0'</li><li>'Label_0'</li><li>'Label_0'</li></ol>\n"
      ],
      "text/latex": [
       "\\begin{enumerate*}\n",
       "\\item 'Label\\_0'\n",
       "\\item 'Label\\_0'\n",
       "\\item 'Label\\_0'\n",
       "\\item 'Label\\_1'\n",
       "\\item 'Label\\_0'\n",
       "\\item 'Label\\_0'\n",
       "\\item 'Label\\_0'\n",
       "\\item 'Label\\_0'\n",
       "\\item 'Label\\_0'\n",
       "\\item 'Label\\_0'\n",
       "\\item 'Label\\_0'\n",
       "\\item 'Label\\_0'\n",
       "\\item 'Label\\_0'\n",
       "\\item 'Label\\_0'\n",
       "\\item 'Label\\_0'\n",
       "\\item 'Label\\_0'\n",
       "\\item 'Label\\_0'\n",
       "\\item 'Label\\_0'\n",
       "\\item 'Label\\_1'\n",
       "\\item 'Label\\_0'\n",
       "\\item 'Label\\_0'\n",
       "\\item 'Label\\_0'\n",
       "\\item 'Label\\_0'\n",
       "\\item 'Label\\_0'\n",
       "\\item 'Label\\_0'\n",
       "\\item 'Label\\_0'\n",
       "\\item 'Label\\_0'\n",
       "\\item 'Label\\_0'\n",
       "\\item 'Label\\_0'\n",
       "\\item 'Label\\_0'\n",
       "\\item 'Label\\_0'\n",
       "\\item 'Label\\_0'\n",
       "\\item 'Label\\_0'\n",
       "\\item 'Label\\_0'\n",
       "\\item 'Label\\_0'\n",
       "\\item 'Label\\_0'\n",
       "\\item 'Label\\_0'\n",
       "\\item 'Label\\_1'\n",
       "\\item 'Label\\_0'\n",
       "\\item 'Label\\_0'\n",
       "\\item 'Label\\_0'\n",
       "\\item 'Label\\_0'\n",
       "\\item 'Label\\_0'\n",
       "\\item 'Label\\_0'\n",
       "\\item 'Label\\_0'\n",
       "\\item 'Label\\_0'\n",
       "\\item 'Label\\_0'\n",
       "\\item 'Label\\_0'\n",
       "\\item 'Label\\_0'\n",
       "\\item 'Label\\_0'\n",
       "\\item 'Label\\_0'\n",
       "\\item 'Label\\_0'\n",
       "\\item 'Label\\_0'\n",
       "\\item 'Label\\_0'\n",
       "\\item 'Label\\_0'\n",
       "\\item 'Label\\_0'\n",
       "\\item 'Label\\_0'\n",
       "\\item 'Label\\_0'\n",
       "\\item 'Label\\_0'\n",
       "\\item 'Label\\_0'\n",
       "\\item 'Label\\_0'\n",
       "\\item 'Label\\_0'\n",
       "\\item 'Label\\_0'\n",
       "\\item 'Label\\_0'\n",
       "\\item 'Label\\_0'\n",
       "\\item 'Label\\_0'\n",
       "\\item 'Label\\_1'\n",
       "\\item 'Label\\_0'\n",
       "\\item 'Label\\_0'\n",
       "\\item 'Label\\_0'\n",
       "\\item 'Label\\_0'\n",
       "\\item 'Label\\_0'\n",
       "\\item 'Label\\_0'\n",
       "\\item 'Label\\_1'\n",
       "\\item 'Label\\_0'\n",
       "\\item 'Label\\_0'\n",
       "\\item 'Label\\_0'\n",
       "\\item 'Label\\_0'\n",
       "\\item 'Label\\_0'\n",
       "\\item 'Label\\_1'\n",
       "\\item 'Label\\_0'\n",
       "\\item 'Label\\_0'\n",
       "\\item 'Label\\_0'\n",
       "\\item 'Label\\_1'\n",
       "\\item 'Label\\_0'\n",
       "\\item 'Label\\_0'\n",
       "\\item 'Label\\_0'\n",
       "\\item 'Label\\_0'\n",
       "\\item 'Label\\_0'\n",
       "\\item 'Label\\_0'\n",
       "\\item 'Label\\_0'\n",
       "\\item 'Label\\_0'\n",
       "\\item 'Label\\_0'\n",
       "\\item 'Label\\_0'\n",
       "\\item 'Label\\_0'\n",
       "\\item 'Label\\_1'\n",
       "\\item 'Label\\_0'\n",
       "\\item 'Label\\_0'\n",
       "\\item 'Label\\_0'\n",
       "\\item 'Label\\_0'\n",
       "\\end{enumerate*}\n"
      ],
      "text/markdown": [
       "1. 'Label_0'\n",
       "2. 'Label_0'\n",
       "3. 'Label_0'\n",
       "4. 'Label_1'\n",
       "5. 'Label_0'\n",
       "6. 'Label_0'\n",
       "7. 'Label_0'\n",
       "8. 'Label_0'\n",
       "9. 'Label_0'\n",
       "10. 'Label_0'\n",
       "11. 'Label_0'\n",
       "12. 'Label_0'\n",
       "13. 'Label_0'\n",
       "14. 'Label_0'\n",
       "15. 'Label_0'\n",
       "16. 'Label_0'\n",
       "17. 'Label_0'\n",
       "18. 'Label_0'\n",
       "19. 'Label_1'\n",
       "20. 'Label_0'\n",
       "21. 'Label_0'\n",
       "22. 'Label_0'\n",
       "23. 'Label_0'\n",
       "24. 'Label_0'\n",
       "25. 'Label_0'\n",
       "26. 'Label_0'\n",
       "27. 'Label_0'\n",
       "28. 'Label_0'\n",
       "29. 'Label_0'\n",
       "30. 'Label_0'\n",
       "31. 'Label_0'\n",
       "32. 'Label_0'\n",
       "33. 'Label_0'\n",
       "34. 'Label_0'\n",
       "35. 'Label_0'\n",
       "36. 'Label_0'\n",
       "37. 'Label_0'\n",
       "38. 'Label_1'\n",
       "39. 'Label_0'\n",
       "40. 'Label_0'\n",
       "41. 'Label_0'\n",
       "42. 'Label_0'\n",
       "43. 'Label_0'\n",
       "44. 'Label_0'\n",
       "45. 'Label_0'\n",
       "46. 'Label_0'\n",
       "47. 'Label_0'\n",
       "48. 'Label_0'\n",
       "49. 'Label_0'\n",
       "50. 'Label_0'\n",
       "51. 'Label_0'\n",
       "52. 'Label_0'\n",
       "53. 'Label_0'\n",
       "54. 'Label_0'\n",
       "55. 'Label_0'\n",
       "56. 'Label_0'\n",
       "57. 'Label_0'\n",
       "58. 'Label_0'\n",
       "59. 'Label_0'\n",
       "60. 'Label_0'\n",
       "61. 'Label_0'\n",
       "62. 'Label_0'\n",
       "63. 'Label_0'\n",
       "64. 'Label_0'\n",
       "65. 'Label_0'\n",
       "66. 'Label_0'\n",
       "67. 'Label_1'\n",
       "68. 'Label_0'\n",
       "69. 'Label_0'\n",
       "70. 'Label_0'\n",
       "71. 'Label_0'\n",
       "72. 'Label_0'\n",
       "73. 'Label_0'\n",
       "74. 'Label_1'\n",
       "75. 'Label_0'\n",
       "76. 'Label_0'\n",
       "77. 'Label_0'\n",
       "78. 'Label_0'\n",
       "79. 'Label_0'\n",
       "80. 'Label_1'\n",
       "81. 'Label_0'\n",
       "82. 'Label_0'\n",
       "83. 'Label_0'\n",
       "84. 'Label_1'\n",
       "85. 'Label_0'\n",
       "86. 'Label_0'\n",
       "87. 'Label_0'\n",
       "88. 'Label_0'\n",
       "89. 'Label_0'\n",
       "90. 'Label_0'\n",
       "91. 'Label_0'\n",
       "92. 'Label_0'\n",
       "93. 'Label_0'\n",
       "94. 'Label_0'\n",
       "95. 'Label_0'\n",
       "96. 'Label_1'\n",
       "97. 'Label_0'\n",
       "98. 'Label_0'\n",
       "99. 'Label_0'\n",
       "100. 'Label_0'\n",
       "\n",
       "\n"
      ],
      "text/plain": [
       "  [1] \"Label_0\" \"Label_0\" \"Label_0\" \"Label_1\" \"Label_0\" \"Label_0\" \"Label_0\"\n",
       "  [8] \"Label_0\" \"Label_0\" \"Label_0\" \"Label_0\" \"Label_0\" \"Label_0\" \"Label_0\"\n",
       " [15] \"Label_0\" \"Label_0\" \"Label_0\" \"Label_0\" \"Label_1\" \"Label_0\" \"Label_0\"\n",
       " [22] \"Label_0\" \"Label_0\" \"Label_0\" \"Label_0\" \"Label_0\" \"Label_0\" \"Label_0\"\n",
       " [29] \"Label_0\" \"Label_0\" \"Label_0\" \"Label_0\" \"Label_0\" \"Label_0\" \"Label_0\"\n",
       " [36] \"Label_0\" \"Label_0\" \"Label_1\" \"Label_0\" \"Label_0\" \"Label_0\" \"Label_0\"\n",
       " [43] \"Label_0\" \"Label_0\" \"Label_0\" \"Label_0\" \"Label_0\" \"Label_0\" \"Label_0\"\n",
       " [50] \"Label_0\" \"Label_0\" \"Label_0\" \"Label_0\" \"Label_0\" \"Label_0\" \"Label_0\"\n",
       " [57] \"Label_0\" \"Label_0\" \"Label_0\" \"Label_0\" \"Label_0\" \"Label_0\" \"Label_0\"\n",
       " [64] \"Label_0\" \"Label_0\" \"Label_0\" \"Label_1\" \"Label_0\" \"Label_0\" \"Label_0\"\n",
       " [71] \"Label_0\" \"Label_0\" \"Label_0\" \"Label_1\" \"Label_0\" \"Label_0\" \"Label_0\"\n",
       " [78] \"Label_0\" \"Label_0\" \"Label_1\" \"Label_0\" \"Label_0\" \"Label_0\" \"Label_1\"\n",
       " [85] \"Label_0\" \"Label_0\" \"Label_0\" \"Label_0\" \"Label_0\" \"Label_0\" \"Label_0\"\n",
       " [92] \"Label_0\" \"Label_0\" \"Label_0\" \"Label_0\" \"Label_1\" \"Label_0\" \"Label_0\"\n",
       " [99] \"Label_0\" \"Label_0\""
      ]
     },
     "metadata": {},
     "output_type": "display_data"
    }
   ],
   "source": [
    "sample(dat$Label) %>% head(100)"
   ]
  },
  {
   "cell_type": "code",
   "execution_count": 33,
   "id": "dea819ad-e126-40e3-b663-451e6b91c83a",
   "metadata": {},
   "outputs": [
    {
     "data": {
      "text/html": [
       "<table class=\"dataframe\">\n",
       "<caption>A tibble: 6 × 4</caption>\n",
       "<thead>\n",
       "\t<tr><th scope=col>Region</th><th scope=col>Score</th><th scope=col>Group</th><th scope=col>Label</th></tr>\n",
       "\t<tr><th scope=col>&lt;chr&gt;</th><th scope=col>&lt;dbl&gt;</th><th scope=col>&lt;chr&gt;</th><th scope=col>&lt;chr&gt;</th></tr>\n",
       "</thead>\n",
       "<tbody>\n",
       "\t<tr><td>chr1:100036895-100039189</td><td>0.93374355</td><td>Module_01</td><td>Label_0</td></tr>\n",
       "\t<tr><td>chr1:100048290-100048918</td><td>0.03264432</td><td>Module_01</td><td>Label_0</td></tr>\n",
       "\t<tr><td>chr1:100050225-100050529</td><td>0.54100817</td><td>Module_01</td><td>Label_0</td></tr>\n",
       "\t<tr><td>chr1:100132375-100133491</td><td>0.91814588</td><td>Module_01</td><td>Label_0</td></tr>\n",
       "\t<tr><td>chr1:10015258-10016191  </td><td>0.16646046</td><td>Module_01</td><td>Label_0</td></tr>\n",
       "\t<tr><td>chr1:100248956-100250290</td><td>0.72932407</td><td>Module_01</td><td>Label_1</td></tr>\n",
       "</tbody>\n",
       "</table>\n"
      ],
      "text/latex": [
       "A tibble: 6 × 4\n",
       "\\begin{tabular}{llll}\n",
       " Region & Score & Group & Label\\\\\n",
       " <chr> & <dbl> & <chr> & <chr>\\\\\n",
       "\\hline\n",
       "\t chr1:100036895-100039189 & 0.93374355 & Module\\_01 & Label\\_0\\\\\n",
       "\t chr1:100048290-100048918 & 0.03264432 & Module\\_01 & Label\\_0\\\\\n",
       "\t chr1:100050225-100050529 & 0.54100817 & Module\\_01 & Label\\_0\\\\\n",
       "\t chr1:100132375-100133491 & 0.91814588 & Module\\_01 & Label\\_0\\\\\n",
       "\t chr1:10015258-10016191   & 0.16646046 & Module\\_01 & Label\\_0\\\\\n",
       "\t chr1:100248956-100250290 & 0.72932407 & Module\\_01 & Label\\_1\\\\\n",
       "\\end{tabular}\n"
      ],
      "text/markdown": [
       "\n",
       "A tibble: 6 × 4\n",
       "\n",
       "| Region &lt;chr&gt; | Score &lt;dbl&gt; | Group &lt;chr&gt; | Label &lt;chr&gt; |\n",
       "|---|---|---|---|\n",
       "| chr1:100036895-100039189 | 0.93374355 | Module_01 | Label_0 |\n",
       "| chr1:100048290-100048918 | 0.03264432 | Module_01 | Label_0 |\n",
       "| chr1:100050225-100050529 | 0.54100817 | Module_01 | Label_0 |\n",
       "| chr1:100132375-100133491 | 0.91814588 | Module_01 | Label_0 |\n",
       "| chr1:10015258-10016191   | 0.16646046 | Module_01 | Label_0 |\n",
       "| chr1:100248956-100250290 | 0.72932407 | Module_01 | Label_1 |\n",
       "\n"
      ],
      "text/plain": [
       "  Region                   Score      Group     Label  \n",
       "1 chr1:100036895-100039189 0.93374355 Module_01 Label_0\n",
       "2 chr1:100048290-100048918 0.03264432 Module_01 Label_0\n",
       "3 chr1:100050225-100050529 0.54100817 Module_01 Label_0\n",
       "4 chr1:100132375-100133491 0.91814588 Module_01 Label_0\n",
       "5 chr1:10015258-10016191   0.16646046 Module_01 Label_0\n",
       "6 chr1:100248956-100250290 0.72932407 Module_01 Label_1"
      ]
     },
     "metadata": {},
     "output_type": "display_data"
    }
   ],
   "source": []
  },
  {
   "cell_type": "code",
   "execution_count": null,
   "id": "1450c90c-b33f-49bf-abf1-86713736bd14",
   "metadata": {},
   "outputs": [],
   "source": [
    "vec_txt_module = names(lst_lab)\n",
    "lst = lapply(vec_txt_module, function(idx){\n",
    "    \n",
    "})a"
   ]
  },
  {
   "cell_type": "code",
   "execution_count": null,
   "id": "245237f4-e5ef-4276-8dcf-fb0de93a198a",
   "metadata": {},
   "outputs": [],
   "source": []
  },
  {
   "cell_type": "code",
   "execution_count": null,
   "id": "6b5f15c3-831c-4a57-bc26-e8d66ae3a583",
   "metadata": {},
   "outputs": [],
   "source": []
  },
  {
   "cell_type": "code",
   "execution_count": 22,
   "id": "e2495bcc-add2-4d78-a7d3-510675476d92",
   "metadata": {},
   "outputs": [
    {
     "name": "stdout",
     "output_type": "stream",
     "text": [
      "[1] 70\n",
      " [1] \"Module_01\" \"Module_02\" \"Module_03\" \"Module_04\" \"Module_05\" \"Module_06\"\n",
      " [7] \"Module_07\" \"Module_08\" \"Module_09\" \"Module_10\" \"Module_11\" \"Module_12\"\n",
      "[13] \"Module_13\" \"Module_14\" \"Module_15\" \"Module_16\" \"Module_17\" \"Module_18\"\n",
      "[19] \"Module_19\" \"Module_20\" \"Module_21\" \"Module_22\" \"Module_23\" \"Module_24\"\n",
      "[25] \"Module_25\" \"Module_26\" \"Module_27\" \"Module_28\" \"Module_29\" \"Module_30\"\n",
      "[31] \"Module_31\" \"Module_33\" \"Module_34\" \"Module_35\" \"Module_36\" \"Module_37\"\n",
      "[37] \"Module_39\" \"Module_40\" \"Module_41\" \"Module_42\" \"Module_43\" \"Module_44\"\n",
      "[43] \"Module_45\" \"Module_46\" \"Module_47\" \"Module_48\" \"Module_49\" \"Module_50\"\n",
      "[49] \"Module_51\" \"Module_52\" \"Module_53\" \"Module_54\" \"Module_55\" \"Module_56\"\n",
      "[55] \"Module_57\" \"Module_58\" \"Module_59\" \"Module_61\" \"Module_63\" \"Module_64\"\n",
      "[61] \"Module_65\" \"Module_66\" \"Module_67\" \"Module_68\" \"Module_71\" \"Module_72\"\n",
      "[67] \"Module_73\" \"Module_74\" \"Module_75\" \"Module_77\"\n"
     ]
    }
   ],
   "source": [
    "dat = dat_region_arrange\n",
    "lst = split(dat, dat$Group)\n",
    "lst = lapply(lst, function(dat){\n",
    "    res = wilcox.test(Score ~ Label, data = dat, exact = FALSE)\n",
    "    return(res)\n",
    "})\n",
    "lst_fit_wilcox = lst\n",
    "print(length(lst))\n",
    "print(names(lst))"
   ]
  },
  {
   "cell_type": "code",
   "execution_count": 68,
   "id": "f7c29e8f-ce77-4e1c-b253-3ff0cb0746c1",
   "metadata": {},
   "outputs": [
    {
     "name": "stdout",
     "output_type": "stream",
     "text": [
      "\n",
      "\tWilcoxon rank sum test with continuity correction\n",
      "\n",
      "data:  Score by Label\n",
      "W = 309488138, p-value < 2.2e-16\n",
      "alternative hypothesis: true location shift is not equal to 0\n",
      "\n",
      "[1] 0\n"
     ]
    }
   ],
   "source": [
    "dat = dat_region_arrange\n",
    "lst = split(dat, dat$Group)\n",
    "\n",
    "dat = lst[[2]]\n",
    "res = wilcox.test(Score ~ Label, data = dat, exact = FALSE)\n",
    "print(res)\n",
    "print(res$p.value)"
   ]
  },
  {
   "cell_type": "code",
   "execution_count": 51,
   "id": "1be50720-260b-42dc-9025-c62c1d654a05",
   "metadata": {},
   "outputs": [
    {
     "name": "stdout",
     "output_type": "stream",
     "text": [
      "[1] 70  4\n"
     ]
    },
    {
     "data": {
      "text/html": [
       "<table class=\"dataframe\">\n",
       "<caption>A data.frame: 6 × 4</caption>\n",
       "<thead>\n",
       "\t<tr><th></th><th scope=col>Group</th><th scope=col>pval</th><th scope=col>padj</th><th scope=col>nlog10p</th></tr>\n",
       "\t<tr><th></th><th scope=col>&lt;chr&gt;</th><th scope=col>&lt;dbl&gt;</th><th scope=col>&lt;dbl&gt;</th><th scope=col>&lt;dbl&gt;</th></tr>\n",
       "</thead>\n",
       "<tbody>\n",
       "\t<tr><th scope=row>Module_01</th><td>Module_01</td><td>5.262701e-131</td><td>2.046606e-130</td><td>129.68897</td></tr>\n",
       "\t<tr><th scope=row>Module_02</th><td>Module_02</td><td> 0.000000e+00</td><td> 0.000000e+00</td><td>      Inf</td></tr>\n",
       "\t<tr><th scope=row>Module_03</th><td>Module_03</td><td> 1.571698e-43</td><td> 3.333906e-43</td><td> 42.47705</td></tr>\n",
       "\t<tr><th scope=row>Module_04</th><td>Module_04</td><td> 3.299061e-68</td><td> 8.553121e-68</td><td> 67.06788</td></tr>\n",
       "\t<tr><th scope=row>Module_05</th><td>Module_05</td><td> 1.745127e-43</td><td> 3.592909e-43</td><td> 42.44455</td></tr>\n",
       "\t<tr><th scope=row>Module_06</th><td>Module_06</td><td>1.023296e-140</td><td>4.213572e-140</td><td>139.37535</td></tr>\n",
       "</tbody>\n",
       "</table>\n"
      ],
      "text/latex": [
       "A data.frame: 6 × 4\n",
       "\\begin{tabular}{r|llll}\n",
       "  & Group & pval & padj & nlog10p\\\\\n",
       "  & <chr> & <dbl> & <dbl> & <dbl>\\\\\n",
       "\\hline\n",
       "\tModule\\_01 & Module\\_01 & 5.262701e-131 & 2.046606e-130 & 129.68897\\\\\n",
       "\tModule\\_02 & Module\\_02 &  0.000000e+00 &  0.000000e+00 &       Inf\\\\\n",
       "\tModule\\_03 & Module\\_03 &  1.571698e-43 &  3.333906e-43 &  42.47705\\\\\n",
       "\tModule\\_04 & Module\\_04 &  3.299061e-68 &  8.553121e-68 &  67.06788\\\\\n",
       "\tModule\\_05 & Module\\_05 &  1.745127e-43 &  3.592909e-43 &  42.44455\\\\\n",
       "\tModule\\_06 & Module\\_06 & 1.023296e-140 & 4.213572e-140 & 139.37535\\\\\n",
       "\\end{tabular}\n"
      ],
      "text/markdown": [
       "\n",
       "A data.frame: 6 × 4\n",
       "\n",
       "| <!--/--> | Group &lt;chr&gt; | pval &lt;dbl&gt; | padj &lt;dbl&gt; | nlog10p &lt;dbl&gt; |\n",
       "|---|---|---|---|---|\n",
       "| Module_01 | Module_01 | 5.262701e-131 | 2.046606e-130 | 129.68897 |\n",
       "| Module_02 | Module_02 |  0.000000e+00 |  0.000000e+00 |       Inf |\n",
       "| Module_03 | Module_03 |  1.571698e-43 |  3.333906e-43 |  42.47705 |\n",
       "| Module_04 | Module_04 |  3.299061e-68 |  8.553121e-68 |  67.06788 |\n",
       "| Module_05 | Module_05 |  1.745127e-43 |  3.592909e-43 |  42.44455 |\n",
       "| Module_06 | Module_06 | 1.023296e-140 | 4.213572e-140 | 139.37535 |\n",
       "\n"
      ],
      "text/plain": [
       "          Group     pval          padj          nlog10p  \n",
       "Module_01 Module_01 5.262701e-131 2.046606e-130 129.68897\n",
       "Module_02 Module_02  0.000000e+00  0.000000e+00       Inf\n",
       "Module_03 Module_03  1.571698e-43  3.333906e-43  42.47705\n",
       "Module_04 Module_04  3.299061e-68  8.553121e-68  67.06788\n",
       "Module_05 Module_05  1.745127e-43  3.592909e-43  42.44455\n",
       "Module_06 Module_06 1.023296e-140 4.213572e-140 139.37535"
      ]
     },
     "metadata": {},
     "output_type": "display_data"
    }
   ],
   "source": [
    "lst = lst_fit_wilcox\n",
    "lst = lapply(lst, function(res){res$p.value})\n",
    "vec = unlist(lst)\n",
    "\n",
    "dat = data.frame(Group = names(vec), pval = vec)\n",
    "dat = dat %>% \n",
    "    dplyr::mutate(padj    = p.adjust(pval, method = \"BH\")) %>%\n",
    "    dplyr::mutate(nlog10p = -log10(padj))\n",
    "\n",
    "dat_fit_summary = dat\n",
    "print(dim(dat))\n",
    "head(dat)"
   ]
  },
  {
   "cell_type": "code",
   "execution_count": 35,
   "id": "b97911e4-8537-45fe-b38e-b4bdf3277d01",
   "metadata": {},
   "outputs": [
    {
     "data": {
      "text/html": [
       "2"
      ],
      "text/latex": [
       "2"
      ],
      "text/markdown": [
       "2"
      ],
      "text/plain": [
       "[1] 2"
      ]
     },
     "metadata": {},
     "output_type": "display_data"
    }
   ],
   "source": [
    "-log10(0.001)"
   ]
  },
  {
   "cell_type": "code",
   "execution_count": 60,
   "id": "1acdc27f-d137-40f7-91fe-b5c7b81da4cc",
   "metadata": {},
   "outputs": [
    {
     "name": "stdout",
     "output_type": "stream",
     "text": [
      "[1] 70  7\n"
     ]
    },
    {
     "data": {
      "text/html": [
       "<table class=\"dataframe\">\n",
       "<caption>A tibble: 6 × 7</caption>\n",
       "<thead>\n",
       "\t<tr><th scope=col>Group</th><th scope=col>Label_0</th><th scope=col>Label_1</th><th scope=col>Diff</th><th scope=col>pval</th><th scope=col>padj</th><th scope=col>nlog10p</th></tr>\n",
       "\t<tr><th scope=col>&lt;chr&gt;</th><th scope=col>&lt;dbl&gt;</th><th scope=col>&lt;dbl&gt;</th><th scope=col>&lt;dbl&gt;</th><th scope=col>&lt;dbl&gt;</th><th scope=col>&lt;dbl&gt;</th><th scope=col>&lt;dbl&gt;</th></tr>\n",
       "</thead>\n",
       "<tbody>\n",
       "\t<tr><td>Module_01</td><td>0.4794890</td><td>0.5790634</td><td> 0.09957438</td><td>5.262701e-131</td><td>2.046606e-130</td><td>129.68897</td></tr>\n",
       "\t<tr><td>Module_02</td><td>0.5073438</td><td>0.3927478</td><td>-0.11459605</td><td> 0.000000e+00</td><td> 0.000000e+00</td><td>      Inf</td></tr>\n",
       "\t<tr><td>Module_03</td><td>0.4844436</td><td>0.5625887</td><td> 0.07814511</td><td> 1.571698e-43</td><td> 3.333906e-43</td><td> 42.47705</td></tr>\n",
       "\t<tr><td>Module_04</td><td>0.4818481</td><td>0.5582858</td><td> 0.07643769</td><td> 3.299061e-68</td><td> 8.553121e-68</td><td> 67.06788</td></tr>\n",
       "\t<tr><td>Module_05</td><td>0.4841026</td><td>0.5635152</td><td> 0.07941261</td><td> 1.745127e-43</td><td> 3.592909e-43</td><td> 42.44455</td></tr>\n",
       "\t<tr><td>Module_06</td><td>0.4781982</td><td>0.5741446</td><td> 0.09594647</td><td>1.023296e-140</td><td>4.213572e-140</td><td>139.37535</td></tr>\n",
       "</tbody>\n",
       "</table>\n"
      ],
      "text/latex": [
       "A tibble: 6 × 7\n",
       "\\begin{tabular}{lllllll}\n",
       " Group & Label\\_0 & Label\\_1 & Diff & pval & padj & nlog10p\\\\\n",
       " <chr> & <dbl> & <dbl> & <dbl> & <dbl> & <dbl> & <dbl>\\\\\n",
       "\\hline\n",
       "\t Module\\_01 & 0.4794890 & 0.5790634 &  0.09957438 & 5.262701e-131 & 2.046606e-130 & 129.68897\\\\\n",
       "\t Module\\_02 & 0.5073438 & 0.3927478 & -0.11459605 &  0.000000e+00 &  0.000000e+00 &       Inf\\\\\n",
       "\t Module\\_03 & 0.4844436 & 0.5625887 &  0.07814511 &  1.571698e-43 &  3.333906e-43 &  42.47705\\\\\n",
       "\t Module\\_04 & 0.4818481 & 0.5582858 &  0.07643769 &  3.299061e-68 &  8.553121e-68 &  67.06788\\\\\n",
       "\t Module\\_05 & 0.4841026 & 0.5635152 &  0.07941261 &  1.745127e-43 &  3.592909e-43 &  42.44455\\\\\n",
       "\t Module\\_06 & 0.4781982 & 0.5741446 &  0.09594647 & 1.023296e-140 & 4.213572e-140 & 139.37535\\\\\n",
       "\\end{tabular}\n"
      ],
      "text/markdown": [
       "\n",
       "A tibble: 6 × 7\n",
       "\n",
       "| Group &lt;chr&gt; | Label_0 &lt;dbl&gt; | Label_1 &lt;dbl&gt; | Diff &lt;dbl&gt; | pval &lt;dbl&gt; | padj &lt;dbl&gt; | nlog10p &lt;dbl&gt; |\n",
       "|---|---|---|---|---|---|---|\n",
       "| Module_01 | 0.4794890 | 0.5790634 |  0.09957438 | 5.262701e-131 | 2.046606e-130 | 129.68897 |\n",
       "| Module_02 | 0.5073438 | 0.3927478 | -0.11459605 |  0.000000e+00 |  0.000000e+00 |       Inf |\n",
       "| Module_03 | 0.4844436 | 0.5625887 |  0.07814511 |  1.571698e-43 |  3.333906e-43 |  42.47705 |\n",
       "| Module_04 | 0.4818481 | 0.5582858 |  0.07643769 |  3.299061e-68 |  8.553121e-68 |  67.06788 |\n",
       "| Module_05 | 0.4841026 | 0.5635152 |  0.07941261 |  1.745127e-43 |  3.592909e-43 |  42.44455 |\n",
       "| Module_06 | 0.4781982 | 0.5741446 |  0.09594647 | 1.023296e-140 | 4.213572e-140 | 139.37535 |\n",
       "\n"
      ],
      "text/plain": [
       "  Group     Label_0   Label_1   Diff        pval          padj         \n",
       "1 Module_01 0.4794890 0.5790634  0.09957438 5.262701e-131 2.046606e-130\n",
       "2 Module_02 0.5073438 0.3927478 -0.11459605  0.000000e+00  0.000000e+00\n",
       "3 Module_03 0.4844436 0.5625887  0.07814511  1.571698e-43  3.333906e-43\n",
       "4 Module_04 0.4818481 0.5582858  0.07643769  3.299061e-68  8.553121e-68\n",
       "5 Module_05 0.4841026 0.5635152  0.07941261  1.745127e-43  3.592909e-43\n",
       "6 Module_06 0.4781982 0.5741446  0.09594647 1.023296e-140 4.213572e-140\n",
       "  nlog10p  \n",
       "1 129.68897\n",
       "2       Inf\n",
       "3  42.47705\n",
       "4  67.06788\n",
       "5  42.44455\n",
       "6 139.37535"
      ]
     },
     "metadata": {},
     "output_type": "display_data"
    }
   ],
   "source": [
    "dat = dplyr::left_join(\n",
    "    dat_diff_summary, \n",
    "    dat_fit_summary,\n",
    "    by = \"Group\")\n",
    "\n",
    "dat_res_summary = dat\n",
    "print(dim(dat))\n",
    "head(dat)"
   ]
  },
  {
   "cell_type": "code",
   "execution_count": 61,
   "id": "6db1fe3e-d07e-4cdc-baa5-55cc15500932",
   "metadata": {},
   "outputs": [
    {
     "data": {
      "text/html": [
       "<table class=\"dataframe\">\n",
       "<caption>A tibble: 4 × 7</caption>\n",
       "<thead>\n",
       "\t<tr><th scope=col>Group</th><th scope=col>Label_0</th><th scope=col>Label_1</th><th scope=col>Diff</th><th scope=col>pval</th><th scope=col>padj</th><th scope=col>nlog10p</th></tr>\n",
       "\t<tr><th scope=col>&lt;chr&gt;</th><th scope=col>&lt;dbl&gt;</th><th scope=col>&lt;dbl&gt;</th><th scope=col>&lt;dbl&gt;</th><th scope=col>&lt;dbl&gt;</th><th scope=col>&lt;dbl&gt;</th><th scope=col>&lt;dbl&gt;</th></tr>\n",
       "</thead>\n",
       "<tbody>\n",
       "\t<tr><td>Module_02</td><td>0.5073438</td><td>0.3927478</td><td>-0.1145960</td><td>0</td><td>0</td><td>Inf</td></tr>\n",
       "\t<tr><td>Module_11</td><td>0.4755065</td><td>0.7083416</td><td> 0.2328351</td><td>0</td><td>0</td><td>Inf</td></tr>\n",
       "\t<tr><td>Module_31</td><td>0.4786670</td><td>0.7137883</td><td> 0.2351213</td><td>0</td><td>0</td><td>Inf</td></tr>\n",
       "\t<tr><td>Module_42</td><td>0.4774943</td><td>0.6849286</td><td> 0.2074343</td><td>0</td><td>0</td><td>Inf</td></tr>\n",
       "</tbody>\n",
       "</table>\n"
      ],
      "text/latex": [
       "A tibble: 4 × 7\n",
       "\\begin{tabular}{lllllll}\n",
       " Group & Label\\_0 & Label\\_1 & Diff & pval & padj & nlog10p\\\\\n",
       " <chr> & <dbl> & <dbl> & <dbl> & <dbl> & <dbl> & <dbl>\\\\\n",
       "\\hline\n",
       "\t Module\\_02 & 0.5073438 & 0.3927478 & -0.1145960 & 0 & 0 & Inf\\\\\n",
       "\t Module\\_11 & 0.4755065 & 0.7083416 &  0.2328351 & 0 & 0 & Inf\\\\\n",
       "\t Module\\_31 & 0.4786670 & 0.7137883 &  0.2351213 & 0 & 0 & Inf\\\\\n",
       "\t Module\\_42 & 0.4774943 & 0.6849286 &  0.2074343 & 0 & 0 & Inf\\\\\n",
       "\\end{tabular}\n"
      ],
      "text/markdown": [
       "\n",
       "A tibble: 4 × 7\n",
       "\n",
       "| Group &lt;chr&gt; | Label_0 &lt;dbl&gt; | Label_1 &lt;dbl&gt; | Diff &lt;dbl&gt; | pval &lt;dbl&gt; | padj &lt;dbl&gt; | nlog10p &lt;dbl&gt; |\n",
       "|---|---|---|---|---|---|---|\n",
       "| Module_02 | 0.5073438 | 0.3927478 | -0.1145960 | 0 | 0 | Inf |\n",
       "| Module_11 | 0.4755065 | 0.7083416 |  0.2328351 | 0 | 0 | Inf |\n",
       "| Module_31 | 0.4786670 | 0.7137883 |  0.2351213 | 0 | 0 | Inf |\n",
       "| Module_42 | 0.4774943 | 0.6849286 |  0.2074343 | 0 | 0 | Inf |\n",
       "\n"
      ],
      "text/plain": [
       "  Group     Label_0   Label_1   Diff       pval padj nlog10p\n",
       "1 Module_02 0.5073438 0.3927478 -0.1145960 0    0    Inf    \n",
       "2 Module_11 0.4755065 0.7083416  0.2328351 0    0    Inf    \n",
       "3 Module_31 0.4786670 0.7137883  0.2351213 0    0    Inf    \n",
       "4 Module_42 0.4774943 0.6849286  0.2074343 0    0    Inf    "
      ]
     },
     "metadata": {},
     "output_type": "display_data"
    }
   ],
   "source": [
    "dat = dat_res_summary\n",
    "dat %>% dplyr::filter(is.infinite(nlog10p))"
   ]
  },
  {
   "cell_type": "code",
   "execution_count": 64,
   "id": "92ff452f-9db2-4084-8ceb-25b4bae263a9",
   "metadata": {},
   "outputs": [
    {
     "data": {
      "image/png": "[encoded data removed]",
      "text/plain": [
       "plot without title"
      ]
     },
     "metadata": {
      "image/png": {
       "height": 300,
       "width": 420
      }
     },
     "output_type": "display_data"
    }
   ],
   "source": [
    "dat = dat %>% dplyr::filter(!is.infinite(nlog10p)) \n",
    "\n",
    "gpt = ggplot(dat, aes(x=Diff, y = nlog10p)) +\n",
    "    geom_point() +\n",
    "    labs(\n",
    "        x = \"Median Difference\", \n",
    "        y = \"-Log10(adjusted p-values)\",\n",
    "        title = \"Mann-Whitney test, Mean(STARR/MPRA), TF Modules\"\n",
    "    ) +\n",
    "    theme_cowplot() +\n",
    "    background_grid()\n",
    "\n",
    "options(repr.plot.height=5, repr.plot.width=7)\n",
    "print(gpt)"
   ]
  },
  {
   "cell_type": "code",
   "execution_count": null,
   "id": "130fe953-177f-49fb-8e1c-ed80be58a8f5",
   "metadata": {},
   "outputs": [],
   "source": []
  }
 ],
 "metadata": {
  "kernelspec": {
   "display_name": "R",
   "language": "R",
   "name": "ir"
  },
  "language_info": {
   "codemirror_mode": "r",
   "file_extension": ".r",
   "mimetype": "text/x-r-source",
   "name": "R",
   "pygments_lexer": "r",
   "version": "4.4.1"
  }
 },
 "nbformat": 4,
 "nbformat_minor": 5
}
