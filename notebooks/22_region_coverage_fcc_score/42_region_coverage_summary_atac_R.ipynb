{
 "cells": [
  {
   "cell_type": "raw",
   "id": "a9b43120-3564-4d90-872e-845da845e5a9",
   "metadata": {},
   "source": [
    "---\n",
    "title: Region Coverage (FCC) 42\n",
    "subtitle: Summarize region accessibility score\n",
    "format:\n",
    "    html:\n",
    "        code-fold:  true\n",
    "        code-tools: true\n",
    "---"
   ]
  },
  {
   "cell_type": "markdown",
   "id": "eca534ba-e49a-4f41-b27b-ac7c5a329e89",
   "metadata": {},
   "source": [
    "**Set environment**"
   ]
  },
  {
   "cell_type": "code",
   "execution_count": 1,
   "id": "41a5420d-c856-495e-8cd7-f5bd7515b7db",
   "metadata": {},
   "outputs": [
    {
     "name": "stdout",
     "output_type": "stream",
     "text": [
      "You are working on        Singularity: singularity_proj_encode_fcc \n",
      "BASE DIRECTORY (FD_BASE): /data/reddylab/Kuei \n",
      "REPO DIRECTORY (FD_REPO): /data/reddylab/Kuei/repo \n",
      "WORK DIRECTORY (FD_WORK): /data/reddylab/Kuei/work \n",
      "DATA DIRECTORY (FD_DATA): /data/reddylab/Kuei/data \n",
      "\n",
      "You are working with      ENCODE FCC \n",
      "PATH OF PROJECT (FD_PRJ): /data/reddylab/Kuei/repo/Proj_ENCODE_FCC \n",
      "PROJECT RESULTS (FD_RES): /data/reddylab/Kuei/repo/Proj_ENCODE_FCC/results \n",
      "PROJECT SCRIPTS (FD_EXE): /data/reddylab/Kuei/repo/Proj_ENCODE_FCC/scripts \n",
      "PROJECT DATA    (FD_DAT): /data/reddylab/Kuei/repo/Proj_ENCODE_FCC/data \n",
      "PROJECT NOTE    (FD_NBK): /data/reddylab/Kuei/repo/Proj_ENCODE_FCC/notebooks \n",
      "PROJECT DOCS    (FD_DOC): /data/reddylab/Kuei/repo/Proj_ENCODE_FCC/docs \n",
      "PROJECT LOG     (FD_LOG): /data/reddylab/Kuei/repo/Proj_ENCODE_FCC/log \n",
      "PROJECT REF     (FD_REF): /data/reddylab/Kuei/repo/Proj_ENCODE_FCC/references \n",
      "\n"
     ]
    }
   ],
   "source": [
    "suppressMessages(suppressWarnings(source(\"../run_config_project_sing.R\")))\n",
    "show_env()"
   ]
  },
  {
   "cell_type": "markdown",
   "id": "361582c4-1b2a-464d-b189-16b0313d113d",
   "metadata": {},
   "source": [
    "**Check: region directory**"
   ]
  },
  {
   "cell_type": "code",
   "execution_count": 2,
   "id": "71bad761-9479-436f-a913-84da10da69df",
   "metadata": {},
   "outputs": [
    {
     "name": "stdout",
     "output_type": "stream",
     "text": [
      "atac_ENCFF333TAT \n",
      "atac_ENCFF558BLC \n",
      "atac_ENCFF925CYR \n",
      "atac_ENCFF948AFM \n",
      "dnase_ENCFF185XRG \n",
      "dnase_ENCFF274YGF \n",
      "fcc_astarr_macs_input_overlap \n",
      "fcc_astarr_macs_input_union \n"
     ]
    }
   ],
   "source": [
    "txt_fdiry = file.path(FD_RES, \"region_coverage_fcc_score\")\n",
    "\n",
    "vec = dir(txt_fdiry)\n",
    "for (txt in vec){cat(txt, \"\\n\")}"
   ]
  },
  {
   "cell_type": "markdown",
   "id": "acd1343c-932a-4a08-a4cf-3092b4f1aba2",
   "metadata": {},
   "source": [
    "**Check: assay directory**"
   ]
  },
  {
   "cell_type": "code",
   "execution_count": 3,
   "id": "ab201025-c2f5-4dab-bca0-68eaa6a176ce",
   "metadata": {},
   "outputs": [
    {
     "name": "stdout",
     "output_type": "stream",
     "text": [
      "CRISPRi_FlowFISH_K562_Riley_JinWoo \n",
      "CRISPRi_Growth_K562_Gersbach_JinWoo \n",
      "MPRA_Lenti_K562_Nadav_Vikram \n",
      "MPRA_Tiling_K562_Tewhey_Hannah \n",
      "STARR_ATAC_K562_Reddy_KS274 \n",
      "STARR_ATAC_K562_Reddy_KS91 \n",
      "STARR_ATAC_K562_Reddy_KSMerge \n",
      "STARR_WHG_K562_Reddy_A001 \n",
      "summary \n"
     ]
    }
   ],
   "source": [
    "txt_region = \"fcc_astarr_macs_input_union\"\n",
    "txt_fdiry  = file.path(FD_RES, \"region_coverage_fcc_score\", txt_region)\n",
    "vec = dir(txt_fdiry)\n",
    "for (txt in vec) {cat(txt, \"\\n\")}"
   ]
  },
  {
   "cell_type": "markdown",
   "id": "2290d6f3-10ff-411f-aebb-bde31168ed33",
   "metadata": {},
   "source": [
    "**Set global variable**"
   ]
  },
  {
   "cell_type": "code",
   "execution_count": 4,
   "id": "0478d7fa-a980-4598-8f90-2fd499a95955",
   "metadata": {},
   "outputs": [
    {
     "name": "stdout",
     "output_type": "stream",
     "text": [
      "fcc_astarr_macs_input_overlap \n",
      "fcc_astarr_macs_input_union \n"
     ]
    }
   ],
   "source": [
    "## init: region folder\n",
    "vec = c(\"fcc_astarr_macs_input_overlap\", \"fcc_astarr_macs_input_union\")\n",
    "names(vec) = vec\n",
    "\n",
    "VEC_TXT_REGION = vec\n",
    "for (txt in vec) {cat(txt, \"\\n\")}"
   ]
  },
  {
   "cell_type": "code",
   "execution_count": 5,
   "id": "78f73afe-0286-44bf-b6be-9d44e7ade3c3",
   "metadata": {},
   "outputs": [],
   "source": [
    "### init: assay folder and files\n",
    "TXT_ASSAY     = \"STARR_ATAC_K562_Reddy_KS91\"\n",
    "TXT_FNAME_INP = \"region.coverage.summary.tsv\"\n",
    "TXT_FNAME_OUT = \"region.coverage.score.atac.tsv\""
   ]
  },
  {
   "cell_type": "markdown",
   "id": "c060fc60-cc18-4c03-944d-b9b29e69f3ed",
   "metadata": {},
   "source": [
    "**Check: files**"
   ]
  },
  {
   "cell_type": "code",
   "execution_count": 6,
   "id": "c613d069-7ce6-4bc7-b615-cc65d31e4030",
   "metadata": {},
   "outputs": [
    {
     "name": "stdout",
     "output_type": "stream",
     "text": [
      "/data/reddylab/Kuei/repo/Proj_ENCODE_FCC/results/region_coverage_fcc_score/fcc_astarr_macs_input_overlap/STARR_ATAC_K562_Reddy_KS91/summary/region.coverage.summary.tsv \n"
     ]
    }
   ],
   "source": [
    "txt_region = VEC_TXT_REGION[1]\n",
    "txt_fdiry  = file.path(\n",
    "    FD_RES, \"region_coverage_fcc_score\",\n",
    "    txt_region,\n",
    "    TXT_ASSAY,\n",
    "    \"summary\"\n",
    ")\n",
    "txt_fname = TXT_FNAME_INP\n",
    "txt_fglob = file.path(txt_fdiry, txt_fname)\n",
    "\n",
    "vec = Sys.glob(txt_fglob)\n",
    "for (txt in vec) {cat(txt, \"\\n\")}"
   ]
  },
  {
   "cell_type": "markdown",
   "id": "1367129c-6dc0-40a2-9459-bbf9c3d9ac16",
   "metadata": {},
   "source": [
    "## Import ASTARR input"
   ]
  },
  {
   "cell_type": "code",
   "execution_count": 7,
   "id": "4343c62f-2ad4-4a8d-8c50-42f73d3e8cb1",
   "metadata": {},
   "outputs": [
    {
     "name": "stdout",
     "output_type": "stream",
     "text": [
      "$fcc_astarr_macs_input_overlap\n",
      "[1] 150041     10\n",
      "\n",
      "$fcc_astarr_macs_input_union\n",
      "[1] 246852     10\n",
      "\n"
     ]
    },
    {
     "data": {
      "text/html": [
       "<table>\n",
       " <thead>\n",
       "  <tr>\n",
       "   <th style=\"text-align:left;\"> Chrom </th>\n",
       "   <th style=\"text-align:right;\"> ChromStart </th>\n",
       "   <th style=\"text-align:right;\"> ChromEnd </th>\n",
       "   <th style=\"text-align:left;\"> Region </th>\n",
       "   <th style=\"text-align:right;\"> Input_DESeq </th>\n",
       "   <th style=\"text-align:right;\"> Input_FPKM </th>\n",
       "   <th style=\"text-align:right;\"> Input_TPM </th>\n",
       "   <th style=\"text-align:right;\"> Output_DESeq </th>\n",
       "   <th style=\"text-align:right;\"> Output_FPKM </th>\n",
       "   <th style=\"text-align:right;\"> Output_TPM </th>\n",
       "  </tr>\n",
       " </thead>\n",
       "<tbody>\n",
       "  <tr>\n",
       "   <td style=\"text-align:left;\"> chr1 </td>\n",
       "   <td style=\"text-align:right;\"> 10038 </td>\n",
       "   <td style=\"text-align:right;\"> 10405 </td>\n",
       "   <td style=\"text-align:left;\"> chr1:10038-10405 </td>\n",
       "   <td style=\"text-align:right;\"> 96.32888 </td>\n",
       "   <td style=\"text-align:right;\"> 0.0041644 </td>\n",
       "   <td style=\"text-align:right;\"> 3.940038 </td>\n",
       "   <td style=\"text-align:right;\"> 22.18751 </td>\n",
       "   <td style=\"text-align:right;\"> 0.0007357 </td>\n",
       "   <td style=\"text-align:right;\"> 0.7181993 </td>\n",
       "  </tr>\n",
       "  <tr>\n",
       "   <td style=\"text-align:left;\"> chr1 </td>\n",
       "   <td style=\"text-align:right;\"> 14282 </td>\n",
       "   <td style=\"text-align:right;\"> 14614 </td>\n",
       "   <td style=\"text-align:left;\"> chr1:14282-14614 </td>\n",
       "   <td style=\"text-align:right;\"> 62.86738 </td>\n",
       "   <td style=\"text-align:right;\"> 0.0030033 </td>\n",
       "   <td style=\"text-align:right;\"> 2.841707 </td>\n",
       "   <td style=\"text-align:right;\"> 61.74133 </td>\n",
       "   <td style=\"text-align:right;\"> 0.0022621 </td>\n",
       "   <td style=\"text-align:right;\"> 2.2104314 </td>\n",
       "  </tr>\n",
       "  <tr>\n",
       "   <td style=\"text-align:left;\"> chr1 </td>\n",
       "   <td style=\"text-align:right;\"> 16025 </td>\n",
       "   <td style=\"text-align:right;\"> 16338 </td>\n",
       "   <td style=\"text-align:left;\"> chr1:16025-16338 </td>\n",
       "   <td style=\"text-align:right;\"> 79.89682 </td>\n",
       "   <td style=\"text-align:right;\"> 0.0040487 </td>\n",
       "   <td style=\"text-align:right;\"> 3.830812 </td>\n",
       "   <td style=\"text-align:right;\"> 33.38053 </td>\n",
       "   <td style=\"text-align:right;\"> 0.0012867 </td>\n",
       "   <td style=\"text-align:right;\"> 1.2597204 </td>\n",
       "  </tr>\n",
       "</tbody>\n",
       "</table>"
      ]
     },
     "metadata": {},
     "output_type": "display_data"
    }
   ],
   "source": [
    "### loop through region sets and import table\n",
    "lst = lapply(VEC_TXT_REGION, function(txt_region){\n",
    "    ### set file directory\n",
    "    txt_fdiry  = file.path(\n",
    "        FD_RES, \"region_coverage_fcc_score\",\n",
    "        txt_region,\n",
    "        TXT_ASSAY,\n",
    "        \"summary\"\n",
    "    )\n",
    "    txt_fname = TXT_FNAME_INP\n",
    "    txt_fpath = file.path(txt_fdiry, txt_fname)\n",
    "\n",
    "    ### read table\n",
    "    dat = read_tsv(txt_fpath, show_col_types = FALSE)\n",
    "})\n",
    "\n",
    "### assign and show\n",
    "lst_dat_region_score_import = lst\n",
    "\n",
    "res = lapply(lst, dim)\n",
    "print(res)\n",
    "\n",
    "dat = lst[[1]]\n",
    "fun_display_table(head(dat, 3))"
   ]
  },
  {
   "cell_type": "markdown",
   "id": "8efcdd8c-10fe-4276-8df4-4186ed1df1ff",
   "metadata": {},
   "source": [
    "## Arrange table"
   ]
  },
  {
   "cell_type": "code",
   "execution_count": 8,
   "id": "46185a95-b23d-4b1b-aab5-c7af33a74108",
   "metadata": {},
   "outputs": [
    {
     "name": "stdout",
     "output_type": "stream",
     "text": [
      "$fcc_astarr_macs_input_overlap\n",
      "[1] 150041     10\n",
      "\n",
      "$fcc_astarr_macs_input_union\n",
      "[1] 246852     10\n",
      "\n"
     ]
    },
    {
     "data": {
      "text/html": [
       "<table>\n",
       " <thead>\n",
       "  <tr>\n",
       "   <th style=\"text-align:left;\"> Chrom </th>\n",
       "   <th style=\"text-align:right;\"> ChromStart </th>\n",
       "   <th style=\"text-align:right;\"> ChromEnd </th>\n",
       "   <th style=\"text-align:left;\"> Region </th>\n",
       "   <th style=\"text-align:right;\"> Score </th>\n",
       "   <th style=\"text-align:left;\"> Score_Label </th>\n",
       "   <th style=\"text-align:left;\"> Score_Quantile </th>\n",
       "   <th style=\"text-align:left;\"> Assay_Folder </th>\n",
       "   <th style=\"text-align:left;\"> Assay_Group </th>\n",
       "   <th style=\"text-align:left;\"> Assay_Label </th>\n",
       "  </tr>\n",
       " </thead>\n",
       "<tbody>\n",
       "  <tr>\n",
       "   <td style=\"text-align:left;\"> chr1 </td>\n",
       "   <td style=\"text-align:right;\"> 10038 </td>\n",
       "   <td style=\"text-align:right;\"> 10405 </td>\n",
       "   <td style=\"text-align:left;\"> chr1:10038-10405 </td>\n",
       "   <td style=\"text-align:right;\"> 3.940038 </td>\n",
       "   <td style=\"text-align:left;\"> ASTARR Input TPM </td>\n",
       "   <td style=\"text-align:left;\"> Q3 </td>\n",
       "   <td style=\"text-align:left;\"> STARR_ATAC_K562_Reddy_KS91 </td>\n",
       "   <td style=\"text-align:left;\"> ASTARR_KS91 </td>\n",
       "   <td style=\"text-align:left;\"> ATAC </td>\n",
       "  </tr>\n",
       "  <tr>\n",
       "   <td style=\"text-align:left;\"> chr1 </td>\n",
       "   <td style=\"text-align:right;\"> 14282 </td>\n",
       "   <td style=\"text-align:right;\"> 14614 </td>\n",
       "   <td style=\"text-align:left;\"> chr1:14282-14614 </td>\n",
       "   <td style=\"text-align:right;\"> 2.841707 </td>\n",
       "   <td style=\"text-align:left;\"> ASTARR Input TPM </td>\n",
       "   <td style=\"text-align:left;\"> Q2 </td>\n",
       "   <td style=\"text-align:left;\"> STARR_ATAC_K562_Reddy_KS91 </td>\n",
       "   <td style=\"text-align:left;\"> ASTARR_KS91 </td>\n",
       "   <td style=\"text-align:left;\"> ATAC </td>\n",
       "  </tr>\n",
       "  <tr>\n",
       "   <td style=\"text-align:left;\"> chr1 </td>\n",
       "   <td style=\"text-align:right;\"> 16025 </td>\n",
       "   <td style=\"text-align:right;\"> 16338 </td>\n",
       "   <td style=\"text-align:left;\"> chr1:16025-16338 </td>\n",
       "   <td style=\"text-align:right;\"> 3.830812 </td>\n",
       "   <td style=\"text-align:left;\"> ASTARR Input TPM </td>\n",
       "   <td style=\"text-align:left;\"> Q3 </td>\n",
       "   <td style=\"text-align:left;\"> STARR_ATAC_K562_Reddy_KS91 </td>\n",
       "   <td style=\"text-align:left;\"> ASTARR_KS91 </td>\n",
       "   <td style=\"text-align:left;\"> ATAC </td>\n",
       "  </tr>\n",
       "</tbody>\n",
       "</table>"
      ]
     },
     "metadata": {},
     "output_type": "display_data"
    }
   ],
   "source": [
    "lst = lst_dat_region_score_import\n",
    "lst = lapply(lst, function(dat){\n",
    "    ### set score column\n",
    "    dat = dat %>% dplyr::mutate(\n",
    "        Score       = Input_TPM,\n",
    "        Score_Label = \"ASTARR Input TPM\"\n",
    "    )\n",
    "\n",
    "    ### break by quantiles\n",
    "    vec_num_qs = quantile(dat$Score, probs = seq(0, 1, by = 0.25), na.rm = TRUE)\n",
    "        \n",
    "    dat$Score_Quantile = cut(\n",
    "        dat$Score,\n",
    "        breaks = vec_num_qs,\n",
    "        include.lowest = TRUE,\n",
    "        labels = c(\"Q1\", \"Q2\", \"Q3\", \"Q4\")\n",
    "    )\n",
    "    # dat$Score_Label = \"ASTARR Input TPM\"\n",
    "            \n",
    "    ### assign assay information\n",
    "    dat = dat %>%\n",
    "        dplyr::mutate(\n",
    "            Assay_Folder  = \"STARR_ATAC_K562_Reddy_KS91\",\n",
    "            Assay_Group = \"ASTARR_KS91\",\n",
    "            Assay_Label = \"ATAC\"\n",
    "        ) %>%\n",
    "        dplyr::select(\n",
    "            Chrom, ChromStart, ChromEnd, Region, \n",
    "            Score, \n",
    "            Score_Label,\n",
    "            Score_Quantile,\n",
    "            Assay_Folder,\n",
    "            Assay_Group,\n",
    "            Assay_Label\n",
    "        ) %>%\n",
    "        dplyr::arrange(Chrom, ChromStart, ChromEnd)\n",
    "    return(dat)\n",
    "})\n",
    "\n",
    "### assign and show\n",
    "lst_dat_region_score_arrange = lst\n",
    "\n",
    "res = lapply(lst, dim)\n",
    "print(res)\n",
    "\n",
    "dat = lst[[1]]\n",
    "fun_display_table(head(dat, 3))"
   ]
  },
  {
   "cell_type": "markdown",
   "id": "e5cd803a-1ba0-43dc-89f8-7b4588e0448f",
   "metadata": {},
   "source": [
    "## Save results"
   ]
  },
  {
   "cell_type": "code",
   "execution_count": 9,
   "id": "5eed8574-7315-40fe-9692-3c2b94e63017",
   "metadata": {},
   "outputs": [
    {
     "name": "stdout",
     "output_type": "stream",
     "text": [
      "Save file \n",
      "/data/reddylab/Kuei/repo/Proj_ENCODE_FCC/results/region_coverage_fcc_score/fcc_astarr_macs_input_overlap/summary \n",
      "region.coverage.score.atac.tsv \n",
      "\n",
      "Save file \n",
      "/data/reddylab/Kuei/repo/Proj_ENCODE_FCC/results/region_coverage_fcc_score/fcc_astarr_macs_input_union/summary \n",
      "region.coverage.score.atac.tsv \n",
      "\n"
     ]
    }
   ],
   "source": [
    "for (txt_region in VEC_TXT_REGION){\n",
    "    ### get table\n",
    "    dat_region_score = lst_dat_region_score_arrange[[txt_region]]\n",
    "    \n",
    "    ### set file directory\n",
    "    txt_fdiry  = file.path(\n",
    "        FD_RES, \n",
    "        \"region_coverage_fcc_score\", \n",
    "        txt_region, \n",
    "        \"summary\"\n",
    "    )\n",
    "    dir.create(txt_fdiry, showWarnings = FALSE)\n",
    "    #txt_cmd = paste(\"mkdir -p\", txt_fdiry)\n",
    "    #system(txt_cmd)\n",
    "\n",
    "    ### wrte table\n",
    "    txt_fname  = TXT_FNAME_OUT\n",
    "    txt_fpath = file.path(txt_fdiry, txt_fname)\n",
    "    dat = dat_region_score\n",
    "    dat = dat %>% dplyr::arrange(Chrom, ChromStart, ChromEnd)\n",
    "    write_tsv(dat, txt_fpath)\n",
    "\n",
    "    ### show progress\n",
    "    cat(\"Save file\", \"\\n\")\n",
    "    cat(txt_fdiry, \"\\n\")\n",
    "    cat(txt_fname, \"\\n\")\n",
    "    cat(\"\\n\")\n",
    "}"
   ]
  },
  {
   "cell_type": "code",
   "execution_count": null,
   "id": "27533d4c-4e4d-4003-b932-f8e10292cac3",
   "metadata": {},
   "outputs": [],
   "source": []
  },
  {
   "cell_type": "code",
   "execution_count": null,
   "id": "acc07f27-ab2e-4c6a-ba06-b1c9aef3dd49",
   "metadata": {},
   "outputs": [],
   "source": []
  }
 ],
 "metadata": {
  "kernelspec": {
   "display_name": "R",
   "language": "R",
   "name": "ir"
  },
  "language_info": {
   "codemirror_mode": "r",
   "file_extension": ".r",
   "mimetype": "text/x-r-source",
   "name": "R",
   "pygments_lexer": "r",
   "version": "4.5.1"
  }
 },
 "nbformat": 4,
 "nbformat_minor": 5
}
