{
 "cells": [
  {
   "cell_type": "raw",
   "id": "be820017-b66e-457b-aac6-e427210b5c2b",
   "metadata": {},
   "source": [
    "---\n",
    "title: Region Coverage (FCC) 72\n",
    "subtitle: Pairwise Spearman correlations of FCC assays\n",
    "format:\n",
    "    html:\n",
    "        code-fold:  true\n",
    "        code-tools: true\n",
    "---"
   ]
  },
  {
   "cell_type": "markdown",
   "id": "2adf56c1-a928-4907-aa8d-f2eced9623ae",
   "metadata": {},
   "source": [
    "**Set environment**"
   ]
  },
  {
   "cell_type": "code",
   "execution_count": 1,
   "id": "3894ba6f-ac19-4e1d-babb-aee28012049c",
   "metadata": {},
   "outputs": [
    {
     "name": "stdout",
     "output_type": "stream",
     "text": [
      "You are working on        Singularity: singularity_proj_encode_fcc \n",
      "BASE DIRECTORY (FD_BASE): /data/reddylab/Kuei \n",
      "REPO DIRECTORY (FD_REPO): /data/reddylab/Kuei/repo \n",
      "WORK DIRECTORY (FD_WORK): /data/reddylab/Kuei/work \n",
      "DATA DIRECTORY (FD_DATA): /data/reddylab/Kuei/data \n",
      "\n",
      "You are working with      ENCODE FCC \n",
      "PATH OF PROJECT (FD_PRJ): /data/reddylab/Kuei/repo/Proj_ENCODE_FCC \n",
      "PROJECT RESULTS (FD_RES): /data/reddylab/Kuei/repo/Proj_ENCODE_FCC/results \n",
      "PROJECT SCRIPTS (FD_EXE): /data/reddylab/Kuei/repo/Proj_ENCODE_FCC/scripts \n",
      "PROJECT DATA    (FD_DAT): /data/reddylab/Kuei/repo/Proj_ENCODE_FCC/data \n",
      "PROJECT NOTE    (FD_NBK): /data/reddylab/Kuei/repo/Proj_ENCODE_FCC/notebooks \n",
      "PROJECT DOCS    (FD_DOC): /data/reddylab/Kuei/repo/Proj_ENCODE_FCC/docs \n",
      "PROJECT LOG     (FD_LOG): /data/reddylab/Kuei/repo/Proj_ENCODE_FCC/log \n",
      "PROJECT REF     (FD_REF): /data/reddylab/Kuei/repo/Proj_ENCODE_FCC/references \n",
      "\n"
     ]
    }
   ],
   "source": [
    "suppressMessages(suppressWarnings(source(\"../run_config_project_sing.R\")))\n",
    "library(pheatmap)\n",
    "show_env()"
   ]
  },
  {
   "cell_type": "markdown",
   "id": "719768e3-33d4-4bb2-abc0-b1326d855e1c",
   "metadata": {},
   "source": [
    "**Set global variable**"
   ]
  },
  {
   "cell_type": "code",
   "execution_count": 2,
   "id": "ec161465-2bc7-4e8e-b3d9-d02b51be0d1b",
   "metadata": {},
   "outputs": [
    {
     "name": "stdout",
     "output_type": "stream",
     "text": [
      "fcc_astarr_macs_input_overlap \n",
      "fcc_astarr_macs_input_union \n"
     ]
    }
   ],
   "source": [
    "## init: region folder\n",
    "vec = c(\"fcc_astarr_macs_input_overlap\", \"fcc_astarr_macs_input_union\")\n",
    "names(vec) = vec\n",
    "\n",
    "VEC_TXT_FOLDER = vec\n",
    "for (txt in vec) {cat(txt, \"\\n\")}"
   ]
  },
  {
   "cell_type": "markdown",
   "id": "1010ab0f-6f7d-4a0c-b04c-eb2ba8d8ebba",
   "metadata": {},
   "source": [
    "**Check input files**"
   ]
  },
  {
   "cell_type": "code",
   "execution_count": 3,
   "id": "a4047e3b-b1cb-417a-a6c4-226dbe9cc96f",
   "metadata": {},
   "outputs": [
    {
     "name": "stdout",
     "output_type": "stream",
     "text": [
      "/data/reddylab/Kuei/repo/Proj_ENCODE_FCC/results/region_coverage_fcc_score/fcc_astarr_macs_input_overlap/summary/region.coverage.score.fcc.final.tsv \n",
      "/data/reddylab/Kuei/repo/Proj_ENCODE_FCC/results/region_coverage_fcc_score/fcc_astarr_macs_input_overlap/summary/region.coverage.score.fcc.test.tsv \n",
      "/data/reddylab/Kuei/repo/Proj_ENCODE_FCC/results/region_coverage_fcc_score/fcc_astarr_macs_input_overlap/summary/region.coverage.score.fcc.total.tsv \n"
     ]
    }
   ],
   "source": [
    "txt_folder = VEC_TXT_FOLDER[1]\n",
    "txt_fdiry  = file.path(FD_RES, \"region_coverage_fcc_score\", txt_folder, \"summary\")\n",
    "txt_fname  = \"region.coverage.score.fcc.*.tsv\"\n",
    "txt_fglob  = file.path(txt_fdiry, txt_fname)\n",
    "\n",
    "vec = Sys.glob(txt_fglob)\n",
    "for (txt in vec) {cat(txt, \"\\n\")}"
   ]
  },
  {
   "cell_type": "markdown",
   "id": "896da19b-2a73-4fe4-94b5-162ecfe57202",
   "metadata": {},
   "source": [
    "## Import data"
   ]
  },
  {
   "cell_type": "code",
   "execution_count": 4,
   "id": "06ffe71f-c835-4e40-a998-7d66c3bbf40c",
   "metadata": {},
   "outputs": [
    {
     "name": "stdout",
     "output_type": "stream",
     "text": [
      "$fcc_astarr_macs_input_overlap\n",
      "[1] 432928     11\n",
      "\n",
      "$fcc_astarr_macs_input_union\n",
      "[1] 639718     11\n",
      "\n"
     ]
    },
    {
     "data": {
      "text/html": [
       "<table class=\"dataframe\">\n",
       "<caption>A tibble: 3 × 11</caption>\n",
       "<thead>\n",
       "\t<tr><th scope=col>Chrom</th><th scope=col>ChromStart</th><th scope=col>ChromEnd</th><th scope=col>Region</th><th scope=col>Score</th><th scope=col>Zcore</th><th scope=col>Score_Label</th><th scope=col>Zcore_Label</th><th scope=col>Assay_Folder</th><th scope=col>Assay_Group</th><th scope=col>Assay_Label</th></tr>\n",
       "\t<tr><th scope=col>&lt;chr&gt;</th><th scope=col>&lt;dbl&gt;</th><th scope=col>&lt;dbl&gt;</th><th scope=col>&lt;chr&gt;</th><th scope=col>&lt;dbl&gt;</th><th scope=col>&lt;dbl&gt;</th><th scope=col>&lt;chr&gt;</th><th scope=col>&lt;chr&gt;</th><th scope=col>&lt;chr&gt;</th><th scope=col>&lt;chr&gt;</th><th scope=col>&lt;chr&gt;</th></tr>\n",
       "</thead>\n",
       "<tbody>\n",
       "\t<tr><td>chr1</td><td>10038</td><td>10405</td><td>chr1:10038-10405</td><td>-2.23485265</td><td>-3.5573621</td><td>Log2FC</td><td>Scale(Log2FC)</td><td>STARR_ATAC_K562_Reddy_KS91</td><td>ASTARR_KS91</td><td>ASTARR</td></tr>\n",
       "\t<tr><td>chr1</td><td>14282</td><td>14614</td><td>chr1:14282-14614</td><td> 0.03179044</td><td> 0.0361388</td><td>Log2FC</td><td>Scale(Log2FC)</td><td>STARR_ATAC_K562_Reddy_KS91</td><td>ASTARR_KS91</td><td>ASTARR</td></tr>\n",
       "\t<tr><td>chr1</td><td>16025</td><td>16338</td><td>chr1:16025-16338</td><td>-1.33934060</td><td>-2.1376311</td><td>Log2FC</td><td>Scale(Log2FC)</td><td>STARR_ATAC_K562_Reddy_KS91</td><td>ASTARR_KS91</td><td>ASTARR</td></tr>\n",
       "</tbody>\n",
       "</table>\n"
      ],
      "text/latex": [
       "A tibble: 3 × 11\n",
       "\\begin{tabular}{lllllllllll}\n",
       " Chrom & ChromStart & ChromEnd & Region & Score & Zcore & Score\\_Label & Zcore\\_Label & Assay\\_Folder & Assay\\_Group & Assay\\_Label\\\\\n",
       " <chr> & <dbl> & <dbl> & <chr> & <dbl> & <dbl> & <chr> & <chr> & <chr> & <chr> & <chr>\\\\\n",
       "\\hline\n",
       "\t chr1 & 10038 & 10405 & chr1:10038-10405 & -2.23485265 & -3.5573621 & Log2FC & Scale(Log2FC) & STARR\\_ATAC\\_K562\\_Reddy\\_KS91 & ASTARR\\_KS91 & ASTARR\\\\\n",
       "\t chr1 & 14282 & 14614 & chr1:14282-14614 &  0.03179044 &  0.0361388 & Log2FC & Scale(Log2FC) & STARR\\_ATAC\\_K562\\_Reddy\\_KS91 & ASTARR\\_KS91 & ASTARR\\\\\n",
       "\t chr1 & 16025 & 16338 & chr1:16025-16338 & -1.33934060 & -2.1376311 & Log2FC & Scale(Log2FC) & STARR\\_ATAC\\_K562\\_Reddy\\_KS91 & ASTARR\\_KS91 & ASTARR\\\\\n",
       "\\end{tabular}\n"
      ],
      "text/markdown": [
       "\n",
       "A tibble: 3 × 11\n",
       "\n",
       "| Chrom &lt;chr&gt; | ChromStart &lt;dbl&gt; | ChromEnd &lt;dbl&gt; | Region &lt;chr&gt; | Score &lt;dbl&gt; | Zcore &lt;dbl&gt; | Score_Label &lt;chr&gt; | Zcore_Label &lt;chr&gt; | Assay_Folder &lt;chr&gt; | Assay_Group &lt;chr&gt; | Assay_Label &lt;chr&gt; |\n",
       "|---|---|---|---|---|---|---|---|---|---|---|\n",
       "| chr1 | 10038 | 10405 | chr1:10038-10405 | -2.23485265 | -3.5573621 | Log2FC | Scale(Log2FC) | STARR_ATAC_K562_Reddy_KS91 | ASTARR_KS91 | ASTARR |\n",
       "| chr1 | 14282 | 14614 | chr1:14282-14614 |  0.03179044 |  0.0361388 | Log2FC | Scale(Log2FC) | STARR_ATAC_K562_Reddy_KS91 | ASTARR_KS91 | ASTARR |\n",
       "| chr1 | 16025 | 16338 | chr1:16025-16338 | -1.33934060 | -2.1376311 | Log2FC | Scale(Log2FC) | STARR_ATAC_K562_Reddy_KS91 | ASTARR_KS91 | ASTARR |\n",
       "\n"
      ],
      "text/plain": [
       "  Chrom ChromStart ChromEnd Region           Score       Zcore      Score_Label\n",
       "1 chr1  10038      10405    chr1:10038-10405 -2.23485265 -3.5573621 Log2FC     \n",
       "2 chr1  14282      14614    chr1:14282-14614  0.03179044  0.0361388 Log2FC     \n",
       "3 chr1  16025      16338    chr1:16025-16338 -1.33934060 -2.1376311 Log2FC     \n",
       "  Zcore_Label   Assay_Folder               Assay_Group Assay_Label\n",
       "1 Scale(Log2FC) STARR_ATAC_K562_Reddy_KS91 ASTARR_KS91 ASTARR     \n",
       "2 Scale(Log2FC) STARR_ATAC_K562_Reddy_KS91 ASTARR_KS91 ASTARR     \n",
       "3 Scale(Log2FC) STARR_ATAC_K562_Reddy_KS91 ASTARR_KS91 ASTARR     "
      ]
     },
     "metadata": {},
     "output_type": "display_data"
    }
   ],
   "source": [
    "lst = lapply(VEC_TXT_FOLDER, function(txt_folder){\n",
    "    ### set file directory\n",
    "    txt_fdiry  = file.path(\n",
    "        FD_RES, \"region_coverage_fcc_score\", \n",
    "        txt_folder, \n",
    "        \"summary\"\n",
    "    )\n",
    "    txt_fname = \"region.coverage.score.fcc.final.tsv\"\n",
    "    txt_fpath = file.path(txt_fdiry, txt_fname)\n",
    "\n",
    "    ### read table\n",
    "    dat = read_tsv(txt_fpath, show_col_types = FALSE)\n",
    "    return(dat)\n",
    "})\n",
    "\n",
    "### assign and show\n",
    "lst_dat_region_score_import = lst\n",
    "\n",
    "res = lapply(lst, dim)\n",
    "print(res)\n",
    "\n",
    "dat = lst[[1]]\n",
    "head(dat, 3)"
   ]
  },
  {
   "cell_type": "markdown",
   "id": "dce1c2f0-bdcc-4b7c-bd1f-2d87850ed06f",
   "metadata": {},
   "source": [
    "## Arrange table"
   ]
  },
  {
   "cell_type": "code",
   "execution_count": 5,
   "id": "3e9809e2-d092-4954-8dde-c276141dff78",
   "metadata": {},
   "outputs": [
    {
     "data": {
      "text/html": [
       "<table>\n",
       " <thead>\n",
       "  <tr>\n",
       "   <th style=\"text-align:left;\"> Chrom </th>\n",
       "   <th style=\"text-align:right;\"> ChromStart </th>\n",
       "   <th style=\"text-align:right;\"> ChromEnd </th>\n",
       "   <th style=\"text-align:left;\"> Region </th>\n",
       "   <th style=\"text-align:right;\"> Score </th>\n",
       "   <th style=\"text-align:right;\"> Zcore </th>\n",
       "   <th style=\"text-align:left;\"> Score_Label </th>\n",
       "   <th style=\"text-align:left;\"> Zcore_Label </th>\n",
       "   <th style=\"text-align:left;\"> Assay_Folder </th>\n",
       "   <th style=\"text-align:left;\"> Assay_Group </th>\n",
       "   <th style=\"text-align:left;\"> Assay_Label </th>\n",
       "  </tr>\n",
       " </thead>\n",
       "<tbody>\n",
       "  <tr>\n",
       "   <td style=\"text-align:left;\"> chr1 </td>\n",
       "   <td style=\"text-align:right;\"> 10015 </td>\n",
       "   <td style=\"text-align:right;\"> 10442 </td>\n",
       "   <td style=\"text-align:left;\"> chr1:10015-10442 </td>\n",
       "   <td style=\"text-align:right;\"> -2.1177891 </td>\n",
       "   <td style=\"text-align:right;\"> -3.7814427 </td>\n",
       "   <td style=\"text-align:left;\"> Log2FC </td>\n",
       "   <td style=\"text-align:left;\"> Scale(Log2FC) </td>\n",
       "   <td style=\"text-align:left;\"> STARR_ATAC_K562_Reddy_KS91 </td>\n",
       "   <td style=\"text-align:left;\"> ASTARR_KS91 </td>\n",
       "   <td style=\"text-align:left;\"> ASTARR </td>\n",
       "  </tr>\n",
       "  <tr>\n",
       "   <td style=\"text-align:left;\"> chr1 </td>\n",
       "   <td style=\"text-align:right;\"> 14253 </td>\n",
       "   <td style=\"text-align:right;\"> 14645 </td>\n",
       "   <td style=\"text-align:left;\"> chr1:14253-14645 </td>\n",
       "   <td style=\"text-align:right;\"> 0.3206124 </td>\n",
       "   <td style=\"text-align:right;\"> 0.5653917 </td>\n",
       "   <td style=\"text-align:left;\"> Log2FC </td>\n",
       "   <td style=\"text-align:left;\"> Scale(Log2FC) </td>\n",
       "   <td style=\"text-align:left;\"> STARR_ATAC_K562_Reddy_KS91 </td>\n",
       "   <td style=\"text-align:left;\"> ASTARR_KS91 </td>\n",
       "   <td style=\"text-align:left;\"> ASTARR </td>\n",
       "  </tr>\n",
       "  <tr>\n",
       "   <td style=\"text-align:left;\"> chr1 </td>\n",
       "   <td style=\"text-align:right;\"> 16015 </td>\n",
       "   <td style=\"text-align:right;\"> 16477 </td>\n",
       "   <td style=\"text-align:left;\"> chr1:16015-16477 </td>\n",
       "   <td style=\"text-align:right;\"> -1.1744478 </td>\n",
       "   <td style=\"text-align:right;\"> -2.0997884 </td>\n",
       "   <td style=\"text-align:left;\"> Log2FC </td>\n",
       "   <td style=\"text-align:left;\"> Scale(Log2FC) </td>\n",
       "   <td style=\"text-align:left;\"> STARR_ATAC_K562_Reddy_KS91 </td>\n",
       "   <td style=\"text-align:left;\"> ASTARR_KS91 </td>\n",
       "   <td style=\"text-align:left;\"> ASTARR </td>\n",
       "  </tr>\n",
       "</tbody>\n",
       "</table>"
      ]
     },
     "metadata": {},
     "output_type": "display_data"
    }
   ],
   "source": [
    "txt = \"fcc_astarr_macs_input_union\"\n",
    "lst = lst_dat_region_score_import\n",
    "dat = lst[[txt]]\n",
    "dat_region_score_import = dat\n",
    "fun_display_table(head(dat, 3))"
   ]
  },
  {
   "cell_type": "code",
   "execution_count": 6,
   "id": "8d605bd4-3733-418c-89d6-5c3e796fcd0d",
   "metadata": {},
   "outputs": [
    {
     "name": "stdout",
     "output_type": "stream",
     "text": [
      "[1] 246851      7\n"
     ]
    },
    {
     "data": {
      "text/html": [
       "<table>\n",
       " <thead>\n",
       "  <tr>\n",
       "   <th style=\"text-align:left;\"> Region </th>\n",
       "   <th style=\"text-align:right;\"> ASTARR </th>\n",
       "   <th style=\"text-align:right;\"> CRISPRi-Growth </th>\n",
       "   <th style=\"text-align:right;\"> CRISPRi-HCRFF </th>\n",
       "   <th style=\"text-align:right;\"> LMPRA </th>\n",
       "   <th style=\"text-align:right;\"> TMPRA </th>\n",
       "   <th style=\"text-align:right;\"> WSTARR </th>\n",
       "  </tr>\n",
       " </thead>\n",
       "<tbody>\n",
       "  <tr>\n",
       "   <td style=\"text-align:left;\"> chr1:100006256-100006880 </td>\n",
       "   <td style=\"text-align:right;\"> 0.1455252 </td>\n",
       "   <td style=\"text-align:right;\"> NA </td>\n",
       "   <td style=\"text-align:right;\"> NA </td>\n",
       "   <td style=\"text-align:right;\"> NA </td>\n",
       "   <td style=\"text-align:right;\"> NA </td>\n",
       "   <td style=\"text-align:right;\"> -1.283181 </td>\n",
       "  </tr>\n",
       "  <tr>\n",
       "   <td style=\"text-align:left;\"> chr1:100010437-100010915 </td>\n",
       "   <td style=\"text-align:right;\"> -1.2667511 </td>\n",
       "   <td style=\"text-align:right;\"> NA </td>\n",
       "   <td style=\"text-align:right;\"> NA </td>\n",
       "   <td style=\"text-align:right;\"> NA </td>\n",
       "   <td style=\"text-align:right;\"> NA </td>\n",
       "   <td style=\"text-align:right;\"> -0.802340 </td>\n",
       "  </tr>\n",
       "  <tr>\n",
       "   <td style=\"text-align:left;\"> chr1:10002087-10003910 </td>\n",
       "   <td style=\"text-align:right;\"> -0.4550979 </td>\n",
       "   <td style=\"text-align:right;\"> NA </td>\n",
       "   <td style=\"text-align:right;\"> NA </td>\n",
       "   <td style=\"text-align:right;\"> NA </td>\n",
       "   <td style=\"text-align:right;\"> NA </td>\n",
       "   <td style=\"text-align:right;\"> -1.009224 </td>\n",
       "  </tr>\n",
       "</tbody>\n",
       "</table>"
      ]
     },
     "metadata": {},
     "output_type": "display_data"
    }
   ],
   "source": [
    "dat = dat_region_score_import\n",
    "dat = dat %>% \n",
    "    dplyr::mutate(Assay = Assay_Label) %>%\n",
    "    dplyr::select(Region, Zcore, Assay) %>%\n",
    "    tidyr::spread(Assay, Zcore)\n",
    "\n",
    "dat_region_score_arrange = dat\n",
    "print(dim(dat))\n",
    "fun_display_table(head(dat, 3))"
   ]
  },
  {
   "cell_type": "markdown",
   "id": "02a05bbf-efc7-4273-8a70-c772dbbd164b",
   "metadata": {},
   "source": [
    "## Calculate pairwise correlations across assays"
   ]
  },
  {
   "cell_type": "markdown",
   "id": "b9b97d0b-b8b3-4fe7-96ab-df3224e4231d",
   "metadata": {},
   "source": [
    "**Assay pairs for looping**"
   ]
  },
  {
   "cell_type": "code",
   "execution_count": 7,
   "id": "d65a9b6b-21fc-4a65-8230-d896882ca44e",
   "metadata": {},
   "outputs": [
    {
     "name": "stdout",
     "output_type": "stream",
     "text": [
      "[1] \"ASTARR\"         \"WSTARR\"         \"TMPRA\"          \"LMPRA\"         \n",
      "[5] \"CRISPRi-Growth\" \"CRISPRi-HCRFF\" \n"
     ]
    }
   ],
   "source": [
    "dat = dat_region_score_import\n",
    "vec = unique(dat$Assay_Label)\n",
    "print(vec)"
   ]
  },
  {
   "cell_type": "code",
   "execution_count": 8,
   "id": "90833b44-f08c-4c4b-9a6c-1cac783e54f2",
   "metadata": {},
   "outputs": [],
   "source": [
    "vec = c(\"ASTARR\", \"WSTARR\", \"TMPRA\", \"LMPRA\", \"CRISPRi-HCRFF\", \"CRISPRi-Growth\")\n",
    "names(vec) = vec\n",
    "vec_txt_assay = vec"
   ]
  },
  {
   "cell_type": "code",
   "execution_count": 9,
   "id": "2f34869b-61fc-40e8-9abe-d65865352ff4",
   "metadata": {},
   "outputs": [
    {
     "data": {
      "text/html": [
       "<table>\n",
       " <thead>\n",
       "  <tr>\n",
       "   <th style=\"text-align:left;\">   </th>\n",
       "   <th style=\"text-align:left;\"> V1 </th>\n",
       "   <th style=\"text-align:left;\"> V2 </th>\n",
       "   <th style=\"text-align:left;\"> V3 </th>\n",
       "   <th style=\"text-align:left;\"> V4 </th>\n",
       "   <th style=\"text-align:left;\"> V5 </th>\n",
       "   <th style=\"text-align:left;\"> V6 </th>\n",
       "   <th style=\"text-align:left;\"> V7 </th>\n",
       "   <th style=\"text-align:left;\"> V8 </th>\n",
       "   <th style=\"text-align:left;\"> V9 </th>\n",
       "   <th style=\"text-align:left;\"> V10 </th>\n",
       "   <th style=\"text-align:left;\"> V11 </th>\n",
       "   <th style=\"text-align:left;\"> V12 </th>\n",
       "   <th style=\"text-align:left;\"> V13 </th>\n",
       "   <th style=\"text-align:left;\"> V14 </th>\n",
       "   <th style=\"text-align:left;\"> V15 </th>\n",
       "   <th style=\"text-align:left;\"> V16 </th>\n",
       "   <th style=\"text-align:left;\"> V17 </th>\n",
       "   <th style=\"text-align:left;\"> V18 </th>\n",
       "   <th style=\"text-align:left;\"> V19 </th>\n",
       "   <th style=\"text-align:left;\"> V20 </th>\n",
       "   <th style=\"text-align:left;\"> V21 </th>\n",
       "   <th style=\"text-align:left;\"> V22 </th>\n",
       "   <th style=\"text-align:left;\"> V23 </th>\n",
       "   <th style=\"text-align:left;\"> V24 </th>\n",
       "   <th style=\"text-align:left;\"> V25 </th>\n",
       "   <th style=\"text-align:left;\"> V26 </th>\n",
       "   <th style=\"text-align:left;\"> V27 </th>\n",
       "   <th style=\"text-align:left;\"> V28 </th>\n",
       "   <th style=\"text-align:left;\"> V29 </th>\n",
       "   <th style=\"text-align:left;\"> V30 </th>\n",
       "   <th style=\"text-align:left;\"> V31 </th>\n",
       "   <th style=\"text-align:left;\"> V32 </th>\n",
       "   <th style=\"text-align:left;\"> V33 </th>\n",
       "   <th style=\"text-align:left;\"> V34 </th>\n",
       "   <th style=\"text-align:left;\"> V35 </th>\n",
       "   <th style=\"text-align:left;\"> V36 </th>\n",
       "  </tr>\n",
       " </thead>\n",
       "<tbody>\n",
       "  <tr>\n",
       "   <td style=\"text-align:left;\"> Var1 </td>\n",
       "   <td style=\"text-align:left;\"> ASTARR </td>\n",
       "   <td style=\"text-align:left;\"> WSTARR </td>\n",
       "   <td style=\"text-align:left;\"> TMPRA </td>\n",
       "   <td style=\"text-align:left;\"> LMPRA </td>\n",
       "   <td style=\"text-align:left;\"> CRISPRi-HCRFF </td>\n",
       "   <td style=\"text-align:left;\"> CRISPRi-Growth </td>\n",
       "   <td style=\"text-align:left;\"> ASTARR </td>\n",
       "   <td style=\"text-align:left;\"> WSTARR </td>\n",
       "   <td style=\"text-align:left;\"> TMPRA </td>\n",
       "   <td style=\"text-align:left;\"> LMPRA </td>\n",
       "   <td style=\"text-align:left;\"> CRISPRi-HCRFF </td>\n",
       "   <td style=\"text-align:left;\"> CRISPRi-Growth </td>\n",
       "   <td style=\"text-align:left;\"> ASTARR </td>\n",
       "   <td style=\"text-align:left;\"> WSTARR </td>\n",
       "   <td style=\"text-align:left;\"> TMPRA </td>\n",
       "   <td style=\"text-align:left;\"> LMPRA </td>\n",
       "   <td style=\"text-align:left;\"> CRISPRi-HCRFF </td>\n",
       "   <td style=\"text-align:left;\"> CRISPRi-Growth </td>\n",
       "   <td style=\"text-align:left;\"> ASTARR </td>\n",
       "   <td style=\"text-align:left;\"> WSTARR </td>\n",
       "   <td style=\"text-align:left;\"> TMPRA </td>\n",
       "   <td style=\"text-align:left;\"> LMPRA </td>\n",
       "   <td style=\"text-align:left;\"> CRISPRi-HCRFF </td>\n",
       "   <td style=\"text-align:left;\"> CRISPRi-Growth </td>\n",
       "   <td style=\"text-align:left;\"> ASTARR </td>\n",
       "   <td style=\"text-align:left;\"> WSTARR </td>\n",
       "   <td style=\"text-align:left;\"> TMPRA </td>\n",
       "   <td style=\"text-align:left;\"> LMPRA </td>\n",
       "   <td style=\"text-align:left;\"> CRISPRi-HCRFF </td>\n",
       "   <td style=\"text-align:left;\"> CRISPRi-Growth </td>\n",
       "   <td style=\"text-align:left;\"> ASTARR </td>\n",
       "   <td style=\"text-align:left;\"> WSTARR </td>\n",
       "   <td style=\"text-align:left;\"> TMPRA </td>\n",
       "   <td style=\"text-align:left;\"> LMPRA </td>\n",
       "   <td style=\"text-align:left;\"> CRISPRi-HCRFF </td>\n",
       "   <td style=\"text-align:left;\"> CRISPRi-Growth </td>\n",
       "  </tr>\n",
       "  <tr>\n",
       "   <td style=\"text-align:left;\"> Var2 </td>\n",
       "   <td style=\"text-align:left;\"> ASTARR </td>\n",
       "   <td style=\"text-align:left;\"> ASTARR </td>\n",
       "   <td style=\"text-align:left;\"> ASTARR </td>\n",
       "   <td style=\"text-align:left;\"> ASTARR </td>\n",
       "   <td style=\"text-align:left;\"> ASTARR </td>\n",
       "   <td style=\"text-align:left;\"> ASTARR </td>\n",
       "   <td style=\"text-align:left;\"> WSTARR </td>\n",
       "   <td style=\"text-align:left;\"> WSTARR </td>\n",
       "   <td style=\"text-align:left;\"> WSTARR </td>\n",
       "   <td style=\"text-align:left;\"> WSTARR </td>\n",
       "   <td style=\"text-align:left;\"> WSTARR </td>\n",
       "   <td style=\"text-align:left;\"> WSTARR </td>\n",
       "   <td style=\"text-align:left;\"> TMPRA </td>\n",
       "   <td style=\"text-align:left;\"> TMPRA </td>\n",
       "   <td style=\"text-align:left;\"> TMPRA </td>\n",
       "   <td style=\"text-align:left;\"> TMPRA </td>\n",
       "   <td style=\"text-align:left;\"> TMPRA </td>\n",
       "   <td style=\"text-align:left;\"> TMPRA </td>\n",
       "   <td style=\"text-align:left;\"> LMPRA </td>\n",
       "   <td style=\"text-align:left;\"> LMPRA </td>\n",
       "   <td style=\"text-align:left;\"> LMPRA </td>\n",
       "   <td style=\"text-align:left;\"> LMPRA </td>\n",
       "   <td style=\"text-align:left;\"> LMPRA </td>\n",
       "   <td style=\"text-align:left;\"> LMPRA </td>\n",
       "   <td style=\"text-align:left;\"> CRISPRi-HCRFF </td>\n",
       "   <td style=\"text-align:left;\"> CRISPRi-HCRFF </td>\n",
       "   <td style=\"text-align:left;\"> CRISPRi-HCRFF </td>\n",
       "   <td style=\"text-align:left;\"> CRISPRi-HCRFF </td>\n",
       "   <td style=\"text-align:left;\"> CRISPRi-HCRFF </td>\n",
       "   <td style=\"text-align:left;\"> CRISPRi-HCRFF </td>\n",
       "   <td style=\"text-align:left;\"> CRISPRi-Growth </td>\n",
       "   <td style=\"text-align:left;\"> CRISPRi-Growth </td>\n",
       "   <td style=\"text-align:left;\"> CRISPRi-Growth </td>\n",
       "   <td style=\"text-align:left;\"> CRISPRi-Growth </td>\n",
       "   <td style=\"text-align:left;\"> CRISPRi-Growth </td>\n",
       "   <td style=\"text-align:left;\"> CRISPRi-Growth </td>\n",
       "  </tr>\n",
       "</tbody>\n",
       "</table>"
      ]
     },
     "metadata": {},
     "output_type": "display_data"
    }
   ],
   "source": [
    "vec = vec_txt_assay\n",
    "dat = expand.grid(vec, vec) |> t() |> as.data.frame()\n",
    "\n",
    "dat_assay_pair = dat\n",
    "fun_display_table(dat)"
   ]
  },
  {
   "cell_type": "markdown",
   "id": "1f03a8fd-510d-46a5-a7a3-8ea75fb27a8f",
   "metadata": {},
   "source": [
    "**Loop through each pair and calculate Spearman correlation**"
   ]
  },
  {
   "cell_type": "code",
   "execution_count": 10,
   "id": "4a50ba61-4c37-4e29-9617-d3708f1ce7ca",
   "metadata": {},
   "outputs": [
    {
     "name": "stdout",
     "output_type": "stream",
     "text": [
      "[1] 36  4\n"
     ]
    },
    {
     "data": {
      "text/html": [
       "<table>\n",
       " <thead>\n",
       "  <tr>\n",
       "   <th style=\"text-align:left;\"> Assay1 </th>\n",
       "   <th style=\"text-align:left;\"> Assay2 </th>\n",
       "   <th style=\"text-align:right;\"> Count </th>\n",
       "   <th style=\"text-align:right;\"> Correlation </th>\n",
       "  </tr>\n",
       " </thead>\n",
       "<tbody>\n",
       "  <tr>\n",
       "   <td style=\"text-align:left;\"> ASTARR </td>\n",
       "   <td style=\"text-align:left;\"> ASTARR </td>\n",
       "   <td style=\"text-align:right;\"> 246850 </td>\n",
       "   <td style=\"text-align:right;\"> 1.0000000 </td>\n",
       "  </tr>\n",
       "  <tr>\n",
       "   <td style=\"text-align:left;\"> WSTARR </td>\n",
       "   <td style=\"text-align:left;\"> ASTARR </td>\n",
       "   <td style=\"text-align:right;\"> 241030 </td>\n",
       "   <td style=\"text-align:right;\"> 0.3026786 </td>\n",
       "  </tr>\n",
       "  <tr>\n",
       "   <td style=\"text-align:left;\"> TMPRA </td>\n",
       "   <td style=\"text-align:left;\"> ASTARR </td>\n",
       "   <td style=\"text-align:right;\"> 1722 </td>\n",
       "   <td style=\"text-align:right;\"> 0.2644954 </td>\n",
       "  </tr>\n",
       "  <tr>\n",
       "   <td style=\"text-align:left;\"> LMPRA </td>\n",
       "   <td style=\"text-align:left;\"> ASTARR </td>\n",
       "   <td style=\"text-align:right;\"> 68497 </td>\n",
       "   <td style=\"text-align:right;\"> 0.2289869 </td>\n",
       "  </tr>\n",
       "  <tr>\n",
       "   <td style=\"text-align:left;\"> CRISPRi-HCRFF </td>\n",
       "   <td style=\"text-align:left;\"> ASTARR </td>\n",
       "   <td style=\"text-align:right;\"> 1330 </td>\n",
       "   <td style=\"text-align:right;\"> 0.0386677 </td>\n",
       "  </tr>\n",
       "  <tr>\n",
       "   <td style=\"text-align:left;\"> CRISPRi-Growth </td>\n",
       "   <td style=\"text-align:left;\"> ASTARR </td>\n",
       "   <td style=\"text-align:right;\"> 80288 </td>\n",
       "   <td style=\"text-align:right;\"> -0.0180952 </td>\n",
       "  </tr>\n",
       "  <tr>\n",
       "   <td style=\"text-align:left;\"> ASTARR </td>\n",
       "   <td style=\"text-align:left;\"> WSTARR </td>\n",
       "   <td style=\"text-align:right;\"> 241030 </td>\n",
       "   <td style=\"text-align:right;\"> 0.3026786 </td>\n",
       "  </tr>\n",
       "  <tr>\n",
       "   <td style=\"text-align:left;\"> WSTARR </td>\n",
       "   <td style=\"text-align:left;\"> WSTARR </td>\n",
       "   <td style=\"text-align:right;\"> 241031 </td>\n",
       "   <td style=\"text-align:right;\"> 1.0000000 </td>\n",
       "  </tr>\n",
       "  <tr>\n",
       "   <td style=\"text-align:left;\"> TMPRA </td>\n",
       "   <td style=\"text-align:left;\"> WSTARR </td>\n",
       "   <td style=\"text-align:right;\"> 1700 </td>\n",
       "   <td style=\"text-align:right;\"> 0.5406762 </td>\n",
       "  </tr>\n",
       "  <tr>\n",
       "   <td style=\"text-align:left;\"> LMPRA </td>\n",
       "   <td style=\"text-align:left;\"> WSTARR </td>\n",
       "   <td style=\"text-align:right;\"> 67728 </td>\n",
       "   <td style=\"text-align:right;\"> 0.4005676 </td>\n",
       "  </tr>\n",
       "  <tr>\n",
       "   <td style=\"text-align:left;\"> CRISPRi-HCRFF </td>\n",
       "   <td style=\"text-align:left;\"> WSTARR </td>\n",
       "   <td style=\"text-align:right;\"> 1306 </td>\n",
       "   <td style=\"text-align:right;\"> 0.0349937 </td>\n",
       "  </tr>\n",
       "  <tr>\n",
       "   <td style=\"text-align:left;\"> CRISPRi-Growth </td>\n",
       "   <td style=\"text-align:left;\"> WSTARR </td>\n",
       "   <td style=\"text-align:right;\"> 79528 </td>\n",
       "   <td style=\"text-align:right;\"> 0.0938136 </td>\n",
       "  </tr>\n",
       "  <tr>\n",
       "   <td style=\"text-align:left;\"> ASTARR </td>\n",
       "   <td style=\"text-align:left;\"> TMPRA </td>\n",
       "   <td style=\"text-align:right;\"> 1722 </td>\n",
       "   <td style=\"text-align:right;\"> 0.2644954 </td>\n",
       "  </tr>\n",
       "  <tr>\n",
       "   <td style=\"text-align:left;\"> WSTARR </td>\n",
       "   <td style=\"text-align:left;\"> TMPRA </td>\n",
       "   <td style=\"text-align:right;\"> 1700 </td>\n",
       "   <td style=\"text-align:right;\"> 0.5406762 </td>\n",
       "  </tr>\n",
       "  <tr>\n",
       "   <td style=\"text-align:left;\"> TMPRA </td>\n",
       "   <td style=\"text-align:left;\"> TMPRA </td>\n",
       "   <td style=\"text-align:right;\"> 1722 </td>\n",
       "   <td style=\"text-align:right;\"> 1.0000000 </td>\n",
       "  </tr>\n",
       "  <tr>\n",
       "   <td style=\"text-align:left;\"> LMPRA </td>\n",
       "   <td style=\"text-align:left;\"> TMPRA </td>\n",
       "   <td style=\"text-align:right;\"> 1244 </td>\n",
       "   <td style=\"text-align:right;\"> 0.4431628 </td>\n",
       "  </tr>\n",
       "  <tr>\n",
       "   <td style=\"text-align:left;\"> CRISPRi-HCRFF </td>\n",
       "   <td style=\"text-align:left;\"> TMPRA </td>\n",
       "   <td style=\"text-align:right;\"> 632 </td>\n",
       "   <td style=\"text-align:right;\"> 0.0019486 </td>\n",
       "  </tr>\n",
       "  <tr>\n",
       "   <td style=\"text-align:left;\"> CRISPRi-Growth </td>\n",
       "   <td style=\"text-align:left;\"> TMPRA </td>\n",
       "   <td style=\"text-align:right;\"> 708 </td>\n",
       "   <td style=\"text-align:right;\"> 0.1533737 </td>\n",
       "  </tr>\n",
       "  <tr>\n",
       "   <td style=\"text-align:left;\"> ASTARR </td>\n",
       "   <td style=\"text-align:left;\"> LMPRA </td>\n",
       "   <td style=\"text-align:right;\"> 68497 </td>\n",
       "   <td style=\"text-align:right;\"> 0.2289869 </td>\n",
       "  </tr>\n",
       "  <tr>\n",
       "   <td style=\"text-align:left;\"> WSTARR </td>\n",
       "   <td style=\"text-align:left;\"> LMPRA </td>\n",
       "   <td style=\"text-align:right;\"> 67728 </td>\n",
       "   <td style=\"text-align:right;\"> 0.4005676 </td>\n",
       "  </tr>\n",
       "  <tr>\n",
       "   <td style=\"text-align:left;\"> TMPRA </td>\n",
       "   <td style=\"text-align:left;\"> LMPRA </td>\n",
       "   <td style=\"text-align:right;\"> 1244 </td>\n",
       "   <td style=\"text-align:right;\"> 0.4431628 </td>\n",
       "  </tr>\n",
       "  <tr>\n",
       "   <td style=\"text-align:left;\"> LMPRA </td>\n",
       "   <td style=\"text-align:left;\"> LMPRA </td>\n",
       "   <td style=\"text-align:right;\"> 68497 </td>\n",
       "   <td style=\"text-align:right;\"> 1.0000000 </td>\n",
       "  </tr>\n",
       "  <tr>\n",
       "   <td style=\"text-align:left;\"> CRISPRi-HCRFF </td>\n",
       "   <td style=\"text-align:left;\"> LMPRA </td>\n",
       "   <td style=\"text-align:right;\"> 721 </td>\n",
       "   <td style=\"text-align:right;\"> 0.0182321 </td>\n",
       "  </tr>\n",
       "  <tr>\n",
       "   <td style=\"text-align:left;\"> CRISPRi-Growth </td>\n",
       "   <td style=\"text-align:left;\"> LMPRA </td>\n",
       "   <td style=\"text-align:right;\"> 53957 </td>\n",
       "   <td style=\"text-align:right;\"> 0.0732455 </td>\n",
       "  </tr>\n",
       "  <tr>\n",
       "   <td style=\"text-align:left;\"> ASTARR </td>\n",
       "   <td style=\"text-align:left;\"> CRISPRi-HCRFF </td>\n",
       "   <td style=\"text-align:right;\"> 1330 </td>\n",
       "   <td style=\"text-align:right;\"> 0.0386677 </td>\n",
       "  </tr>\n",
       "  <tr>\n",
       "   <td style=\"text-align:left;\"> WSTARR </td>\n",
       "   <td style=\"text-align:left;\"> CRISPRi-HCRFF </td>\n",
       "   <td style=\"text-align:right;\"> 1306 </td>\n",
       "   <td style=\"text-align:right;\"> 0.0349937 </td>\n",
       "  </tr>\n",
       "  <tr>\n",
       "   <td style=\"text-align:left;\"> TMPRA </td>\n",
       "   <td style=\"text-align:left;\"> CRISPRi-HCRFF </td>\n",
       "   <td style=\"text-align:right;\"> 632 </td>\n",
       "   <td style=\"text-align:right;\"> 0.0019486 </td>\n",
       "  </tr>\n",
       "  <tr>\n",
       "   <td style=\"text-align:left;\"> LMPRA </td>\n",
       "   <td style=\"text-align:left;\"> CRISPRi-HCRFF </td>\n",
       "   <td style=\"text-align:right;\"> 721 </td>\n",
       "   <td style=\"text-align:right;\"> 0.0182321 </td>\n",
       "  </tr>\n",
       "  <tr>\n",
       "   <td style=\"text-align:left;\"> CRISPRi-HCRFF </td>\n",
       "   <td style=\"text-align:left;\"> CRISPRi-HCRFF </td>\n",
       "   <td style=\"text-align:right;\"> 1330 </td>\n",
       "   <td style=\"text-align:right;\"> 1.0000000 </td>\n",
       "  </tr>\n",
       "  <tr>\n",
       "   <td style=\"text-align:left;\"> CRISPRi-Growth </td>\n",
       "   <td style=\"text-align:left;\"> CRISPRi-HCRFF </td>\n",
       "   <td style=\"text-align:right;\"> 558 </td>\n",
       "   <td style=\"text-align:right;\"> 0.0702657 </td>\n",
       "  </tr>\n",
       "  <tr>\n",
       "   <td style=\"text-align:left;\"> ASTARR </td>\n",
       "   <td style=\"text-align:left;\"> CRISPRi-Growth </td>\n",
       "   <td style=\"text-align:right;\"> 80288 </td>\n",
       "   <td style=\"text-align:right;\"> -0.0180952 </td>\n",
       "  </tr>\n",
       "  <tr>\n",
       "   <td style=\"text-align:left;\"> WSTARR </td>\n",
       "   <td style=\"text-align:left;\"> CRISPRi-Growth </td>\n",
       "   <td style=\"text-align:right;\"> 79528 </td>\n",
       "   <td style=\"text-align:right;\"> 0.0938136 </td>\n",
       "  </tr>\n",
       "  <tr>\n",
       "   <td style=\"text-align:left;\"> TMPRA </td>\n",
       "   <td style=\"text-align:left;\"> CRISPRi-Growth </td>\n",
       "   <td style=\"text-align:right;\"> 708 </td>\n",
       "   <td style=\"text-align:right;\"> 0.1533737 </td>\n",
       "  </tr>\n",
       "  <tr>\n",
       "   <td style=\"text-align:left;\"> LMPRA </td>\n",
       "   <td style=\"text-align:left;\"> CRISPRi-Growth </td>\n",
       "   <td style=\"text-align:right;\"> 53957 </td>\n",
       "   <td style=\"text-align:right;\"> 0.0732455 </td>\n",
       "  </tr>\n",
       "  <tr>\n",
       "   <td style=\"text-align:left;\"> CRISPRi-HCRFF </td>\n",
       "   <td style=\"text-align:left;\"> CRISPRi-Growth </td>\n",
       "   <td style=\"text-align:right;\"> 558 </td>\n",
       "   <td style=\"text-align:right;\"> 0.0702657 </td>\n",
       "  </tr>\n",
       "  <tr>\n",
       "   <td style=\"text-align:left;\"> CRISPRi-Growth </td>\n",
       "   <td style=\"text-align:left;\"> CRISPRi-Growth </td>\n",
       "   <td style=\"text-align:right;\"> 80288 </td>\n",
       "   <td style=\"text-align:right;\"> 1.0000000 </td>\n",
       "  </tr>\n",
       "</tbody>\n",
       "</table>"
      ]
     },
     "metadata": {},
     "output_type": "display_data"
    }
   ],
   "source": [
    "lst = lapply(dat_assay_pair, function(idxs){\n",
    "    ### get assay pair\n",
    "    txt_assay1 = idxs[1]\n",
    "    txt_assay2 = idxs[2]\n",
    "\n",
    "    ### get assay scores at overlapped regions\n",
    "    dat = dat_region_score_arrange\n",
    "    dat = dat %>% dplyr::select({{idxs}}) %>% na.omit\n",
    "    \n",
    "    ### calculate Spearman correlations\n",
    "    res      = cor(dat, method=\"spearman\")\n",
    "    num_corr = res[txt_assay1, txt_assay2]\n",
    "    num_size = nrow(dat)\n",
    "    \n",
    "    ### summarize results\n",
    "    res = list(\n",
    "        \"Assay1\"      = txt_assay1, \n",
    "        \"Assay2\"      = txt_assay2, \n",
    "        \"Count\"       = num_size,\n",
    "        \"Correlation\" = num_corr\n",
    "    )\n",
    "    return(res)\n",
    "})\n",
    "dat = bind_rows(lst)\n",
    "\n",
    "### assign and show\n",
    "dat_assay_corr = dat\n",
    "print(dim(dat))\n",
    "fun_display_table(dat)"
   ]
  },
  {
   "cell_type": "markdown",
   "id": "96235169-11b1-4bd4-99bb-fe5b4a6c8cea",
   "metadata": {},
   "source": [
    "**Convert data from long form to wide form**"
   ]
  },
  {
   "cell_type": "code",
   "execution_count": 11,
   "id": "2624471c-4ccf-41c7-8d96-462fda8e7f67",
   "metadata": {},
   "outputs": [
    {
     "data": {
      "text/html": [
       "<table class=\"dataframe\">\n",
       "<caption>A data.frame: 6 × 6</caption>\n",
       "<thead>\n",
       "\t<tr><th></th><th scope=col>ASTARR</th><th scope=col>LMPRA</th><th scope=col>TMPRA</th><th scope=col>WSTARR</th><th scope=col>CRISPRi-Growth</th><th scope=col>CRISPRi-HCRFF</th></tr>\n",
       "\t<tr><th></th><th scope=col>&lt;dbl&gt;</th><th scope=col>&lt;dbl&gt;</th><th scope=col>&lt;dbl&gt;</th><th scope=col>&lt;dbl&gt;</th><th scope=col>&lt;dbl&gt;</th><th scope=col>&lt;dbl&gt;</th></tr>\n",
       "</thead>\n",
       "<tbody>\n",
       "\t<tr><th scope=row>ASTARR</th><td> 1.00</td><td>0.23</td><td>0.26</td><td>0.30</td><td>-0.02</td><td>0.04</td></tr>\n",
       "\t<tr><th scope=row>LMPRA</th><td> 0.23</td><td>1.00</td><td>0.44</td><td>0.40</td><td> 0.07</td><td>0.02</td></tr>\n",
       "\t<tr><th scope=row>TMPRA</th><td> 0.26</td><td>0.44</td><td>1.00</td><td>0.54</td><td> 0.15</td><td>0.00</td></tr>\n",
       "\t<tr><th scope=row>WSTARR</th><td> 0.30</td><td>0.40</td><td>0.54</td><td>1.00</td><td> 0.09</td><td>0.03</td></tr>\n",
       "\t<tr><th scope=row>CRISPRi-Growth</th><td>-0.02</td><td>0.07</td><td>0.15</td><td>0.09</td><td> 1.00</td><td>0.07</td></tr>\n",
       "\t<tr><th scope=row>CRISPRi-HCRFF</th><td> 0.04</td><td>0.02</td><td>0.00</td><td>0.03</td><td> 0.07</td><td>1.00</td></tr>\n",
       "</tbody>\n",
       "</table>\n"
      ],
      "text/latex": [
       "A data.frame: 6 × 6\n",
       "\\begin{tabular}{r|llllll}\n",
       "  & ASTARR & LMPRA & TMPRA & WSTARR & CRISPRi-Growth & CRISPRi-HCRFF\\\\\n",
       "  & <dbl> & <dbl> & <dbl> & <dbl> & <dbl> & <dbl>\\\\\n",
       "\\hline\n",
       "\tASTARR &  1.00 & 0.23 & 0.26 & 0.30 & -0.02 & 0.04\\\\\n",
       "\tLMPRA &  0.23 & 1.00 & 0.44 & 0.40 &  0.07 & 0.02\\\\\n",
       "\tTMPRA &  0.26 & 0.44 & 1.00 & 0.54 &  0.15 & 0.00\\\\\n",
       "\tWSTARR &  0.30 & 0.40 & 0.54 & 1.00 &  0.09 & 0.03\\\\\n",
       "\tCRISPRi-Growth & -0.02 & 0.07 & 0.15 & 0.09 &  1.00 & 0.07\\\\\n",
       "\tCRISPRi-HCRFF &  0.04 & 0.02 & 0.00 & 0.03 &  0.07 & 1.00\\\\\n",
       "\\end{tabular}\n"
      ],
      "text/markdown": [
       "\n",
       "A data.frame: 6 × 6\n",
       "\n",
       "| <!--/--> | ASTARR &lt;dbl&gt; | LMPRA &lt;dbl&gt; | TMPRA &lt;dbl&gt; | WSTARR &lt;dbl&gt; | CRISPRi-Growth &lt;dbl&gt; | CRISPRi-HCRFF &lt;dbl&gt; |\n",
       "|---|---|---|---|---|---|---|\n",
       "| ASTARR |  1.00 | 0.23 | 0.26 | 0.30 | -0.02 | 0.04 |\n",
       "| LMPRA |  0.23 | 1.00 | 0.44 | 0.40 |  0.07 | 0.02 |\n",
       "| TMPRA |  0.26 | 0.44 | 1.00 | 0.54 |  0.15 | 0.00 |\n",
       "| WSTARR |  0.30 | 0.40 | 0.54 | 1.00 |  0.09 | 0.03 |\n",
       "| CRISPRi-Growth | -0.02 | 0.07 | 0.15 | 0.09 |  1.00 | 0.07 |\n",
       "| CRISPRi-HCRFF |  0.04 | 0.02 | 0.00 | 0.03 |  0.07 | 1.00 |\n",
       "\n"
      ],
      "text/plain": [
       "               ASTARR LMPRA TMPRA WSTARR CRISPRi-Growth CRISPRi-HCRFF\n",
       "ASTARR          1.00  0.23  0.26  0.30   -0.02          0.04         \n",
       "LMPRA           0.23  1.00  0.44  0.40    0.07          0.02         \n",
       "TMPRA           0.26  0.44  1.00  0.54    0.15          0.00         \n",
       "WSTARR          0.30  0.40  0.54  1.00    0.09          0.03         \n",
       "CRISPRi-Growth -0.02  0.07  0.15  0.09    1.00          0.07         \n",
       "CRISPRi-HCRFF   0.04  0.02  0.00  0.03    0.07          1.00         "
      ]
     },
     "metadata": {},
     "output_type": "display_data"
    }
   ],
   "source": [
    "### convert data from long form to wide form\n",
    "dat = dat_assay_corr\n",
    "dat = dat %>% dplyr::mutate(Correlation = as.double(Correlation))\n",
    "dat = dat %>% \n",
    "    dplyr::select(Assay1, Assay2, Correlation) %>%\n",
    "    tidyr::spread(Assay2, Correlation)\n",
    "dat = dat %>% column_to_rownames(\"Assay1\")\n",
    "\n",
    "### assign and show\n",
    "mat_assay_corr = dat\n",
    "vec = c(\"ASTARR\", \"LMPRA\", \"TMPRA\", \"WSTARR\", \"CRISPRi-Growth\", \"CRISPRi-HCRFF\")\n",
    "round(dat[vec, vec], 2)"
   ]
  },
  {
   "cell_type": "markdown",
   "id": "25665563-d708-4832-8135-e3f0206d29fd",
   "metadata": {},
   "source": [
    "## Clustering and visualize correlation matrix"
   ]
  },
  {
   "cell_type": "markdown",
   "id": "99d600f4-720d-4aad-b470-a6ceff2eae7b",
   "metadata": {},
   "source": [
    "**Colorscale (-1, 1)**"
   ]
  },
  {
   "cell_type": "code",
   "execution_count": 12,
   "id": "c226a041-83a3-44a1-b6db-d133f20e2413",
   "metadata": {},
   "outputs": [],
   "source": [
    "mat = mat_assay_corr\n",
    "\n",
    "num_palette_length = 50\n",
    "vec_txt_color = colorRampPalette(c(\"#4575b4\", \"white\", \"#d73027\"))(num_palette_length)\n",
    "vec_num_break = c(\n",
    "    seq(-1,                   0, length.out = ceiling(num_palette_length / 2) + 1), \n",
    "    seq(1/num_palette_length, 1, length.out = floor(  num_palette_length / 2))\n",
    ")"
   ]
  },
  {
   "cell_type": "code",
   "execution_count": 13,
   "id": "a729c842-1694-4b49-8e4c-a2e3998656d8",
   "metadata": {},
   "outputs": [
    {
     "data": {
      "image/png": "[encoded data removed]",
      "text/plain": [
       "plot without title"
      ]
     },
     "metadata": {
      "image/png": {
       "height": 360,
       "width": 360
      }
     },
     "output_type": "display_data"
    }
   ],
   "source": [
    "mat = mat_assay_corr\n",
    "plt = pheatmap(\n",
    "    mat,\n",
    "    color  = vec_txt_color, \n",
    "    breaks = vec_num_break\n",
    ")\n",
    "\n",
    "options(repr.plot.height=6, repr.plot.width=6)\n",
    "print(plt)"
   ]
  },
  {
   "cell_type": "markdown",
   "id": "4abd84eb-90e5-46b9-912a-df2057c1a0f0",
   "metadata": {},
   "source": [
    "**Colorscale (-0.6, 0.6)**"
   ]
  },
  {
   "cell_type": "code",
   "execution_count": 14,
   "id": "ec76858a-850a-4a35-a86c-a99e4d2b6b5d",
   "metadata": {},
   "outputs": [],
   "source": [
    "mat = mat_assay_corr\n",
    "\n",
    "num_palette_length = 50\n",
    "vec_txt_color = colorRampPalette(c(\"#4575b4\", \"white\", \"#d73027\"))(num_palette_length)\n",
    "vec_num_break = c(\n",
    "    seq(-0.6,                   0,   length.out = ceiling(num_palette_length / 2) + 1), \n",
    "    seq(1/num_palette_length,   0.6, length.out = floor(  num_palette_length / 2))\n",
    ")"
   ]
  },
  {
   "cell_type": "code",
   "execution_count": 15,
   "id": "a652a926-61c9-4d77-a7d2-6e7bc34b3dbc",
   "metadata": {},
   "outputs": [
    {
     "data": {
      "image/png": "[encoded data removed]",
      "text/plain": [
       "plot without title"
      ]
     },
     "metadata": {
      "image/png": {
       "height": 360,
       "width": 360
      }
     },
     "output_type": "display_data"
    }
   ],
   "source": [
    "mat = mat_assay_corr\n",
    "plt = pheatmap(\n",
    "    mat,\n",
    "    color  = vec_txt_color, \n",
    "    breaks = vec_num_break\n",
    ")\n",
    "\n",
    "plt_export_heatmap_full_starrmpracrispri = plt\n",
    "options(repr.plot.height=6, repr.plot.width=6)\n",
    "print(plt)"
   ]
  },
  {
   "cell_type": "markdown",
   "id": "2db30b29-e3a7-4b5b-8125-d636f2ab92c7",
   "metadata": {},
   "source": [
    "**Upper triangle plot**"
   ]
  },
  {
   "cell_type": "code",
   "execution_count": 16,
   "id": "3cb3bd05-48ff-4267-80e0-88c62bd7e78e",
   "metadata": {},
   "outputs": [
    {
     "data": {
      "image/png": "[encoded data removed]",
      "text/plain": [
       "plot without title"
      ]
     },
     "metadata": {
      "image/png": {
       "height": 360,
       "width": 390
      }
     },
     "output_type": "display_data"
    }
   ],
   "source": [
    "mat = mat_assay_corr\n",
    "idx = c(\"ASTARR\", \"LMPRA\", \"TMPRA\", \"WSTARR\", \"CRISPRi-Growth\", \"CRISPRi-HCRFF\")\n",
    "mat = mat[idx, idx]\n",
    "\n",
    "idx = lower.tri(mat, diag = TRUE)\n",
    "mat[idx] = NA\n",
    "\n",
    "plt = pheatmap(\n",
    "    mat,\n",
    "    color  = vec_txt_color, \n",
    "    breaks = vec_num_break, \n",
    "    cluster_rows = FALSE, \n",
    "    cluster_cols = FALSE,\n",
    "    na_col=\"white\"\n",
    ")\n",
    "\n",
    "options(repr.plot.height=6, repr.plot.width=6.5)\n",
    "print(plt)"
   ]
  },
  {
   "cell_type": "code",
   "execution_count": 17,
   "id": "8804b8f2-a0db-47b0-9512-c90bb212891f",
   "metadata": {},
   "outputs": [
    {
     "data": {
      "image/png": "[encoded data removed]",
      "text/plain": [
       "plot without title"
      ]
     },
     "metadata": {
      "image/png": {
       "height": 360,
       "width": 390
      }
     },
     "output_type": "display_data"
    }
   ],
   "source": [
    "mat = mat_assay_corr\n",
    "idx = c(\"ASTARR\", \"LMPRA\", \"TMPRA\", \"WSTARR\")\n",
    "mat = mat[idx, idx]\n",
    "\n",
    "idx = lower.tri(mat, diag = TRUE)\n",
    "mat[idx] = NA\n",
    "\n",
    "plt = pheatmap(\n",
    "    mat,\n",
    "    color  = vec_txt_color, \n",
    "    breaks = vec_num_break, \n",
    "    cluster_rows = FALSE, \n",
    "    cluster_cols = FALSE,\n",
    "    na_col=\"white\"\n",
    ")\n",
    "\n",
    "plt_export_heatmap_upper_starrmpra = plt\n",
    "options(repr.plot.height=6, repr.plot.width=6.5)\n",
    "print(plt)"
   ]
  },
  {
   "cell_type": "markdown",
   "id": "2a520818-760a-43ec-b388-6435a71433db",
   "metadata": {},
   "source": [
    "## Save results"
   ]
  },
  {
   "cell_type": "markdown",
   "id": "42854631-9e69-4054-8593-ae83dd64f0c1",
   "metadata": {},
   "source": [
    "**Show table**"
   ]
  },
  {
   "cell_type": "code",
   "execution_count": 18,
   "id": "abcb9f1f-514c-4b6c-a135-c6e094606622",
   "metadata": {},
   "outputs": [
    {
     "name": "stdout",
     "output_type": "stream",
     "text": [
      "[1] 6 7\n"
     ]
    },
    {
     "data": {
      "text/html": [
       "<table>\n",
       " <thead>\n",
       "  <tr>\n",
       "   <th style=\"text-align:left;\"> Assay </th>\n",
       "   <th style=\"text-align:right;\"> ASTARR </th>\n",
       "   <th style=\"text-align:right;\"> LMPRA </th>\n",
       "   <th style=\"text-align:right;\"> TMPRA </th>\n",
       "   <th style=\"text-align:right;\"> WSTARR </th>\n",
       "   <th style=\"text-align:right;\"> CRISPRi-Growth </th>\n",
       "   <th style=\"text-align:right;\"> CRISPRi-HCRFF </th>\n",
       "  </tr>\n",
       " </thead>\n",
       "<tbody>\n",
       "  <tr>\n",
       "   <td style=\"text-align:left;\"> ASTARR </td>\n",
       "   <td style=\"text-align:right;\"> 1.0000000 </td>\n",
       "   <td style=\"text-align:right;\"> 0.2289869 </td>\n",
       "   <td style=\"text-align:right;\"> 0.2644954 </td>\n",
       "   <td style=\"text-align:right;\"> 0.3026786 </td>\n",
       "   <td style=\"text-align:right;\"> -0.0180952 </td>\n",
       "   <td style=\"text-align:right;\"> 0.0386677 </td>\n",
       "  </tr>\n",
       "  <tr>\n",
       "   <td style=\"text-align:left;\"> LMPRA </td>\n",
       "   <td style=\"text-align:right;\"> 0.2289869 </td>\n",
       "   <td style=\"text-align:right;\"> 1.0000000 </td>\n",
       "   <td style=\"text-align:right;\"> 0.4431628 </td>\n",
       "   <td style=\"text-align:right;\"> 0.4005676 </td>\n",
       "   <td style=\"text-align:right;\"> 0.0732455 </td>\n",
       "   <td style=\"text-align:right;\"> 0.0182321 </td>\n",
       "  </tr>\n",
       "  <tr>\n",
       "   <td style=\"text-align:left;\"> TMPRA </td>\n",
       "   <td style=\"text-align:right;\"> 0.2644954 </td>\n",
       "   <td style=\"text-align:right;\"> 0.4431628 </td>\n",
       "   <td style=\"text-align:right;\"> 1.0000000 </td>\n",
       "   <td style=\"text-align:right;\"> 0.5406762 </td>\n",
       "   <td style=\"text-align:right;\"> 0.1533737 </td>\n",
       "   <td style=\"text-align:right;\"> 0.0019486 </td>\n",
       "  </tr>\n",
       "  <tr>\n",
       "   <td style=\"text-align:left;\"> WSTARR </td>\n",
       "   <td style=\"text-align:right;\"> 0.3026786 </td>\n",
       "   <td style=\"text-align:right;\"> 0.4005676 </td>\n",
       "   <td style=\"text-align:right;\"> 0.5406762 </td>\n",
       "   <td style=\"text-align:right;\"> 1.0000000 </td>\n",
       "   <td style=\"text-align:right;\"> 0.0938136 </td>\n",
       "   <td style=\"text-align:right;\"> 0.0349937 </td>\n",
       "  </tr>\n",
       "  <tr>\n",
       "   <td style=\"text-align:left;\"> CRISPRi-Growth </td>\n",
       "   <td style=\"text-align:right;\"> -0.0180952 </td>\n",
       "   <td style=\"text-align:right;\"> 0.0732455 </td>\n",
       "   <td style=\"text-align:right;\"> 0.1533737 </td>\n",
       "   <td style=\"text-align:right;\"> 0.0938136 </td>\n",
       "   <td style=\"text-align:right;\"> 1.0000000 </td>\n",
       "   <td style=\"text-align:right;\"> 0.0702657 </td>\n",
       "  </tr>\n",
       "  <tr>\n",
       "   <td style=\"text-align:left;\"> CRISPRi-HCRFF </td>\n",
       "   <td style=\"text-align:right;\"> 0.0386677 </td>\n",
       "   <td style=\"text-align:right;\"> 0.0182321 </td>\n",
       "   <td style=\"text-align:right;\"> 0.0019486 </td>\n",
       "   <td style=\"text-align:right;\"> 0.0349937 </td>\n",
       "   <td style=\"text-align:right;\"> 0.0702657 </td>\n",
       "   <td style=\"text-align:right;\"> 1.0000000 </td>\n",
       "  </tr>\n",
       "</tbody>\n",
       "</table>"
      ]
     },
     "metadata": {},
     "output_type": "display_data"
    }
   ],
   "source": [
    "### set assay order\n",
    "idx = c(\"ASTARR\", \"LMPRA\", \"TMPRA\", \"WSTARR\", \"CRISPRi-Growth\", \"CRISPRi-HCRFF\")\n",
    "\n",
    "### arrange table\n",
    "dat = mat_assay_corr\n",
    "dat = dat[idx, idx]\n",
    "dat = dat %>% \n",
    "    as.data.frame %>% \n",
    "    tibble::rownames_to_column(\"Assay\") %>%\n",
    "    as_tibble\n",
    "\n",
    "### assign and show\n",
    "tmp_assay_corr = dat\n",
    "print(dim(dat))\n",
    "fun_display_table(dat)"
   ]
  },
  {
   "cell_type": "code",
   "execution_count": 19,
   "id": "a0277310-d146-4b59-bcc4-9d600cfce766",
   "metadata": {},
   "outputs": [
    {
     "name": "stdout",
     "output_type": "stream",
     "text": [
      "[1] 6 7\n"
     ]
    },
    {
     "data": {
      "text/html": [
       "<table>\n",
       " <thead>\n",
       "  <tr>\n",
       "   <th style=\"text-align:left;\"> Assay </th>\n",
       "   <th style=\"text-align:right;\"> ASTARR </th>\n",
       "   <th style=\"text-align:right;\"> LMPRA </th>\n",
       "   <th style=\"text-align:right;\"> TMPRA </th>\n",
       "   <th style=\"text-align:right;\"> WSTARR </th>\n",
       "   <th style=\"text-align:right;\"> CRISPRi-Growth </th>\n",
       "   <th style=\"text-align:right;\"> CRISPRi-HCRFF </th>\n",
       "  </tr>\n",
       " </thead>\n",
       "<tbody>\n",
       "  <tr>\n",
       "   <td style=\"text-align:left;\"> ASTARR </td>\n",
       "   <td style=\"text-align:right;\"> 1.00 </td>\n",
       "   <td style=\"text-align:right;\"> 0.23 </td>\n",
       "   <td style=\"text-align:right;\"> 0.26 </td>\n",
       "   <td style=\"text-align:right;\"> 0.30 </td>\n",
       "   <td style=\"text-align:right;\"> -0.02 </td>\n",
       "   <td style=\"text-align:right;\"> 0.04 </td>\n",
       "  </tr>\n",
       "  <tr>\n",
       "   <td style=\"text-align:left;\"> LMPRA </td>\n",
       "   <td style=\"text-align:right;\"> 0.23 </td>\n",
       "   <td style=\"text-align:right;\"> 1.00 </td>\n",
       "   <td style=\"text-align:right;\"> 0.44 </td>\n",
       "   <td style=\"text-align:right;\"> 0.40 </td>\n",
       "   <td style=\"text-align:right;\"> 0.07 </td>\n",
       "   <td style=\"text-align:right;\"> 0.02 </td>\n",
       "  </tr>\n",
       "  <tr>\n",
       "   <td style=\"text-align:left;\"> TMPRA </td>\n",
       "   <td style=\"text-align:right;\"> 0.26 </td>\n",
       "   <td style=\"text-align:right;\"> 0.44 </td>\n",
       "   <td style=\"text-align:right;\"> 1.00 </td>\n",
       "   <td style=\"text-align:right;\"> 0.54 </td>\n",
       "   <td style=\"text-align:right;\"> 0.15 </td>\n",
       "   <td style=\"text-align:right;\"> 0.00 </td>\n",
       "  </tr>\n",
       "  <tr>\n",
       "   <td style=\"text-align:left;\"> WSTARR </td>\n",
       "   <td style=\"text-align:right;\"> 0.30 </td>\n",
       "   <td style=\"text-align:right;\"> 0.40 </td>\n",
       "   <td style=\"text-align:right;\"> 0.54 </td>\n",
       "   <td style=\"text-align:right;\"> 1.00 </td>\n",
       "   <td style=\"text-align:right;\"> 0.09 </td>\n",
       "   <td style=\"text-align:right;\"> 0.03 </td>\n",
       "  </tr>\n",
       "  <tr>\n",
       "   <td style=\"text-align:left;\"> CRISPRi-Growth </td>\n",
       "   <td style=\"text-align:right;\"> -0.02 </td>\n",
       "   <td style=\"text-align:right;\"> 0.07 </td>\n",
       "   <td style=\"text-align:right;\"> 0.15 </td>\n",
       "   <td style=\"text-align:right;\"> 0.09 </td>\n",
       "   <td style=\"text-align:right;\"> 1.00 </td>\n",
       "   <td style=\"text-align:right;\"> 0.07 </td>\n",
       "  </tr>\n",
       "  <tr>\n",
       "   <td style=\"text-align:left;\"> CRISPRi-HCRFF </td>\n",
       "   <td style=\"text-align:right;\"> 0.04 </td>\n",
       "   <td style=\"text-align:right;\"> 0.02 </td>\n",
       "   <td style=\"text-align:right;\"> 0.00 </td>\n",
       "   <td style=\"text-align:right;\"> 0.03 </td>\n",
       "   <td style=\"text-align:right;\"> 0.07 </td>\n",
       "   <td style=\"text-align:right;\"> 1.00 </td>\n",
       "  </tr>\n",
       "</tbody>\n",
       "</table>"
      ]
     },
     "metadata": {},
     "output_type": "display_data"
    }
   ],
   "source": [
    "dat = tmp_assay_corr\n",
    "fun = function(x){return(round(x, 2))}\n",
    "dat = dat %>% dplyr::mutate(across(where(is.double), fun))\n",
    "print(dim(dat))\n",
    "fun_display_table(dat)"
   ]
  },
  {
   "cell_type": "markdown",
   "id": "7b2e56a0-8cad-4a19-b243-25e842d6f3f9",
   "metadata": {},
   "source": [
    "**Save plots**"
   ]
  },
  {
   "cell_type": "code",
   "execution_count": 20,
   "id": "44743778-bcd3-4e72-8809-a804717929fe",
   "metadata": {},
   "outputs": [
    {
     "data": {
      "text/html": [
       "<strong>agg_record_973046249:</strong> 2"
      ],
      "text/latex": [
       "\\textbf{agg\\textbackslash{}\\_record\\textbackslash{}\\_973046249:} 2"
      ],
      "text/markdown": [
       "**agg_record_973046249:** 2"
      ],
      "text/plain": [
       "agg_record_973046249 \n",
       "                   2 "
      ]
     },
     "metadata": {},
     "output_type": "display_data"
    },
    {
     "data": {
      "text/html": [
       "<strong>agg_record_973046249:</strong> 2"
      ],
      "text/latex": [
       "\\textbf{agg\\textbackslash{}\\_record\\textbackslash{}\\_973046249:} 2"
      ],
      "text/markdown": [
       "**agg_record_973046249:** 2"
      ],
      "text/plain": [
       "agg_record_973046249 \n",
       "                   2 "
      ]
     },
     "metadata": {},
     "output_type": "display_data"
    }
   ],
   "source": [
    "plt_export = plt_export_heatmap_full_starrmpracrispri\n",
    "txt_export = \"fig.region_coverage_fcc.heatmap.correlation_spearman\"\n",
    "\n",
    "txt_fdiry = \"./\"\n",
    "txt_fname = paste(txt_export, \"png\", sep = \".\")\n",
    "txt_fpath = file.path(txt_fdiry, txt_fname)\n",
    "\n",
    "png(txt_fpath, height = 10, width = 10, units = \"in\", res = 300)\n",
    "print(plt_export)\n",
    "dev.off()\n",
    "\n",
    "txt_fdiry = \"./\"\n",
    "txt_fname = paste(txt_export, \"svg\", sep = \".\")\n",
    "txt_fpath = file.path(txt_fdiry, txt_fname)\n",
    "\n",
    "svg(txt_fpath, height = 10, width = 10)\n",
    "print(plt_export)\n",
    "dev.off()"
   ]
  },
  {
   "cell_type": "code",
   "execution_count": null,
   "id": "ea8cbf0f-6731-47f0-99c0-09ff567c800b",
   "metadata": {},
   "outputs": [],
   "source": []
  }
 ],
 "metadata": {
  "kernelspec": {
   "display_name": "R",
   "language": "R",
   "name": "ir"
  },
  "language_info": {
   "codemirror_mode": "r",
   "file_extension": ".r",
   "mimetype": "text/x-r-source",
   "name": "R",
   "pygments_lexer": "r",
   "version": "4.5.1"
  }
 },
 "nbformat": 4,
 "nbformat_minor": 5
}
