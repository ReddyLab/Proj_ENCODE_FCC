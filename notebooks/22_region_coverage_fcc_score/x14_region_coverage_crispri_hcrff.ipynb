{
 "cells": [
  {
   "cell_type": "raw",
   "id": "6a78ec7a-3fdd-450b-90be-4225652c0c62",
   "metadata": {},
   "source": [
    "---\n",
    "title: ...\n",
    "subtitle: combine ATAC, setup total, final, and share verion of table\n",
    "format:\n",
    "    html:\n",
    "        code-fold:  true\n",
    "        code-tools: true\n",
    "---"
   ]
  },
  {
   "cell_type": "markdown",
   "id": "6a3ad146-daee-4070-bc46-e579109c9538",
   "metadata": {},
   "source": [
    "**Set environment**"
   ]
  },
  {
   "cell_type": "code",
   "execution_count": 44,
   "id": "0e09c6df-c48e-4b86-8719-ae741b8ede5c",
   "metadata": {},
   "outputs": [
    {
     "name": "stdout",
     "output_type": "stream",
     "text": [
      "You are working on        Singularity: singularity_proj_encode_fcc \n",
      "BASE DIRECTORY (FD_BASE): /data/reddylab/Kuei \n",
      "REPO DIRECTORY (FD_REPO): /data/reddylab/Kuei/repo \n",
      "WORK DIRECTORY (FD_WORK): /data/reddylab/Kuei/work \n",
      "DATA DIRECTORY (FD_DATA): /data/reddylab/Kuei/data \n",
      "\n",
      "You are working with      ENCODE FCC \n",
      "PATH OF PROJECT (FD_PRJ): /data/reddylab/Kuei/repo/Proj_ENCODE_FCC \n",
      "PROJECT RESULTS (FD_RES): /data/reddylab/Kuei/repo/Proj_ENCODE_FCC/results \n",
      "PROJECT SCRIPTS (FD_EXE): /data/reddylab/Kuei/repo/Proj_ENCODE_FCC/scripts \n",
      "PROJECT DATA    (FD_DAT): /data/reddylab/Kuei/repo/Proj_ENCODE_FCC/data \n",
      "PROJECT NOTE    (FD_NBK): /data/reddylab/Kuei/repo/Proj_ENCODE_FCC/notebooks \n",
      "PROJECT DOCS    (FD_DOC): /data/reddylab/Kuei/repo/Proj_ENCODE_FCC/docs \n",
      "PROJECT LOG     (FD_LOG): /data/reddylab/Kuei/repo/Proj_ENCODE_FCC/log \n",
      "PROJECT REF     (FD_REF): /data/reddylab/Kuei/repo/Proj_ENCODE_FCC/references \n",
      "\n"
     ]
    }
   ],
   "source": [
    "suppressMessages(suppressWarnings(source(\"../run_config_project_sing.R\")))\n",
    "library(pheatmap)\n",
    "show_env()"
   ]
  },
  {
   "cell_type": "markdown",
   "id": "225b3e3f-5698-42ab-8b52-8cb642a4411e",
   "metadata": {},
   "source": [
    "**Set global variables**"
   ]
  },
  {
   "cell_type": "code",
   "execution_count": 3,
   "id": "8f7ad1d9-7f9f-4257-b8de-61fd9fbaf978",
   "metadata": {},
   "outputs": [
    {
     "name": "stdout",
     "output_type": "stream",
     "text": [
      "atac_ENCFF333TAT \n",
      "atac_ENCFF558BLC \n",
      "atac_ENCFF925CYR \n",
      "atac_ENCFF948AFM \n",
      "dnase_ENCFF185XRG \n",
      "dnase_ENCFF274YGF \n",
      "fcc_astarr_macs_input_overlap \n",
      "fcc_astarr_macs_input_union \n"
     ]
    }
   ],
   "source": [
    "txt_fdiry = file.path(FD_RES, \"region_coverage_fcc\")\n",
    "vec = dir(txt_fdiry)\n",
    "for (txt in vec) {cat(txt, \"\\n\")}"
   ]
  },
  {
   "cell_type": "code",
   "execution_count": 4,
   "id": "0f79fd93-d264-4f54-aa07-74922a310d02",
   "metadata": {},
   "outputs": [
    {
     "name": "stdout",
     "output_type": "stream",
     "text": [
      "CRISPRi_FlowFISH_K562_Riley_JinWoo \n",
      "CRISPRi_Growth_K562_Gersbach_JinWoo \n",
      "MPRA_Lenti_K562_Nadav_Vikram \n",
      "MPRA_Tiling_K562_Tewhey_Hannah \n",
      "STARR_ATAC_K562_Reddy_KS274 \n",
      "STARR_ATAC_K562_Reddy_KS91 \n",
      "STARR_ATAC_K562_Reddy_KSMerge \n",
      "STARR_WHG_K562_Reddy_A001 \n",
      "summary \n"
     ]
    }
   ],
   "source": [
    "txt_region = \"fcc_astarr_macs_input_union\"\n",
    "txt_fdiry  = file.path(FD_RES, \"region_coverage_fcc\", txt_region)\n",
    "vec = dir(txt_fdiry)\n",
    "for (txt in vec) {cat(txt, \"\\n\")}"
   ]
  },
  {
   "cell_type": "code",
   "execution_count": 5,
   "id": "154901c5-6d21-4f16-a114-9f621debbdbe",
   "metadata": {},
   "outputs": [
    {
     "name": "stdout",
     "output_type": "stream",
     "text": [
      "fcc_astarr_macs_input_overlap \n",
      "fcc_astarr_macs_input_union \n"
     ]
    }
   ],
   "source": [
    "#txt_fdiry = file.path(FD_RES, \"region_coverage_fcc\")\n",
    "#vec = dir(txt_fdiry)\n",
    "vec = c(\"fcc_astarr_macs_input_overlap\", \"fcc_astarr_macs_input_union\")\n",
    "names(vec) = vec\n",
    "\n",
    "VEC_TXT_REGION = vec\n",
    "for (txt in vec) {cat(txt, \"\\n\")}"
   ]
  },
  {
   "cell_type": "markdown",
   "id": "db140b90-783f-4c62-a3dd-3c8217b2c7f1",
   "metadata": {},
   "source": [
    "## Import data"
   ]
  },
  {
   "cell_type": "code",
   "execution_count": 7,
   "id": "d668b33e-c856-4615-9232-774ca2f3d2d4",
   "metadata": {},
   "outputs": [
    {
     "name": "stdout",
     "output_type": "stream",
     "text": [
      "$fcc_astarr_macs_input_overlap\n",
      "[1] 941  32\n",
      "\n",
      "$fcc_astarr_macs_input_union\n",
      "[1] 1358   32\n",
      "\n"
     ]
    },
    {
     "data": {
      "text/html": [
       "<table class=\"dataframe\">\n",
       "<caption>A tibble: 3 × 32</caption>\n",
       "<thead>\n",
       "\t<tr><th scope=col>Chrom</th><th scope=col>ChromStart</th><th scope=col>ChromEnd</th><th scope=col>Region</th><th scope=col>Mean</th><th scope=col>Median</th><th scope=col>AbsMax</th><th scope=col>Max</th><th scope=col>Min</th><th scope=col>Count</th><th scope=col>⋯</th><th scope=col>Target_HBG1</th><th scope=col>Target_HBG2</th><th scope=col>Target_HBS1L</th><th scope=col>Target_HDAC6</th><th scope=col>Target_LMO2</th><th scope=col>Target_MEF2C</th><th scope=col>Target_MYB</th><th scope=col>Target_MYC</th><th scope=col>Target_NMU</th><th scope=col>Target_PVT1</th></tr>\n",
       "\t<tr><th scope=col>&lt;chr&gt;</th><th scope=col>&lt;dbl&gt;</th><th scope=col>&lt;dbl&gt;</th><th scope=col>&lt;chr&gt;</th><th scope=col>&lt;dbl&gt;</th><th scope=col>&lt;dbl&gt;</th><th scope=col>&lt;dbl&gt;</th><th scope=col>&lt;dbl&gt;</th><th scope=col>&lt;dbl&gt;</th><th scope=col>&lt;dbl&gt;</th><th scope=col>⋯</th><th scope=col>&lt;dbl&gt;</th><th scope=col>&lt;dbl&gt;</th><th scope=col>&lt;dbl&gt;</th><th scope=col>&lt;dbl&gt;</th><th scope=col>&lt;dbl&gt;</th><th scope=col>&lt;dbl&gt;</th><th scope=col>&lt;dbl&gt;</th><th scope=col>&lt;dbl&gt;</th><th scope=col>&lt;dbl&gt;</th><th scope=col>&lt;dbl&gt;</th></tr>\n",
       "</thead>\n",
       "<tbody>\n",
       "\t<tr><td>chr10</td><td>100729094</td><td>100729750</td><td>chr10:100729094-100729750</td><td>-0.07708560</td><td>-0.155771</td><td>-1.82683</td><td>1.63462</td><td>-1.82683</td><td> 84</td><td>⋯</td><td>NA</td><td>NA</td><td>NA</td><td>NA</td><td> 0.0534315</td><td>-0.453715167</td><td>NA</td><td>NA</td><td>-0.1621681</td><td>NA</td></tr>\n",
       "\t<tr><td>chr10</td><td>100743501</td><td>100744571</td><td>chr10:100743501-100744571</td><td>-0.06350497</td><td>-0.101530</td><td>-1.97401</td><td>1.83498</td><td>-1.97401</td><td>147</td><td>⋯</td><td>NA</td><td>NA</td><td>NA</td><td>NA</td><td>-0.1640059</td><td> 0.159182286</td><td>NA</td><td>NA</td><td>-0.1338784</td><td>NA</td></tr>\n",
       "\t<tr><td>chr10</td><td>100745413</td><td>100745741</td><td>chr10:100745413-100745741</td><td> 0.08003521</td><td> 0.111189</td><td> 2.60601</td><td>2.60601</td><td>-2.44093</td><td> 42</td><td>⋯</td><td>NA</td><td>NA</td><td>NA</td><td>NA</td><td>-0.1335742</td><td>-0.004853833</td><td>NA</td><td>NA</td><td> 0.2845222</td><td>NA</td></tr>\n",
       "</tbody>\n",
       "</table>\n"
      ],
      "text/latex": [
       "A tibble: 3 × 32\n",
       "\\begin{tabular}{lllllllllllllllllllll}\n",
       " Chrom & ChromStart & ChromEnd & Region & Mean & Median & AbsMax & Max & Min & Count & ⋯ & Target\\_HBG1 & Target\\_HBG2 & Target\\_HBS1L & Target\\_HDAC6 & Target\\_LMO2 & Target\\_MEF2C & Target\\_MYB & Target\\_MYC & Target\\_NMU & Target\\_PVT1\\\\\n",
       " <chr> & <dbl> & <dbl> & <chr> & <dbl> & <dbl> & <dbl> & <dbl> & <dbl> & <dbl> & ⋯ & <dbl> & <dbl> & <dbl> & <dbl> & <dbl> & <dbl> & <dbl> & <dbl> & <dbl> & <dbl>\\\\\n",
       "\\hline\n",
       "\t chr10 & 100729094 & 100729750 & chr10:100729094-100729750 & -0.07708560 & -0.155771 & -1.82683 & 1.63462 & -1.82683 &  84 & ⋯ & NA & NA & NA & NA &  0.0534315 & -0.453715167 & NA & NA & -0.1621681 & NA\\\\\n",
       "\t chr10 & 100743501 & 100744571 & chr10:100743501-100744571 & -0.06350497 & -0.101530 & -1.97401 & 1.83498 & -1.97401 & 147 & ⋯ & NA & NA & NA & NA & -0.1640059 &  0.159182286 & NA & NA & -0.1338784 & NA\\\\\n",
       "\t chr10 & 100745413 & 100745741 & chr10:100745413-100745741 &  0.08003521 &  0.111189 &  2.60601 & 2.60601 & -2.44093 &  42 & ⋯ & NA & NA & NA & NA & -0.1335742 & -0.004853833 & NA & NA &  0.2845222 & NA\\\\\n",
       "\\end{tabular}\n"
      ],
      "text/markdown": [
       "\n",
       "A tibble: 3 × 32\n",
       "\n",
       "| Chrom &lt;chr&gt; | ChromStart &lt;dbl&gt; | ChromEnd &lt;dbl&gt; | Region &lt;chr&gt; | Mean &lt;dbl&gt; | Median &lt;dbl&gt; | AbsMax &lt;dbl&gt; | Max &lt;dbl&gt; | Min &lt;dbl&gt; | Count &lt;dbl&gt; | ⋯ ⋯ | Target_HBG1 &lt;dbl&gt; | Target_HBG2 &lt;dbl&gt; | Target_HBS1L &lt;dbl&gt; | Target_HDAC6 &lt;dbl&gt; | Target_LMO2 &lt;dbl&gt; | Target_MEF2C &lt;dbl&gt; | Target_MYB &lt;dbl&gt; | Target_MYC &lt;dbl&gt; | Target_NMU &lt;dbl&gt; | Target_PVT1 &lt;dbl&gt; |\n",
       "|---|---|---|---|---|---|---|---|---|---|---|---|---|---|---|---|---|---|---|---|---|\n",
       "| chr10 | 100729094 | 100729750 | chr10:100729094-100729750 | -0.07708560 | -0.155771 | -1.82683 | 1.63462 | -1.82683 |  84 | ⋯ | NA | NA | NA | NA |  0.0534315 | -0.453715167 | NA | NA | -0.1621681 | NA |\n",
       "| chr10 | 100743501 | 100744571 | chr10:100743501-100744571 | -0.06350497 | -0.101530 | -1.97401 | 1.83498 | -1.97401 | 147 | ⋯ | NA | NA | NA | NA | -0.1640059 |  0.159182286 | NA | NA | -0.1338784 | NA |\n",
       "| chr10 | 100745413 | 100745741 | chr10:100745413-100745741 |  0.08003521 |  0.111189 |  2.60601 | 2.60601 | -2.44093 |  42 | ⋯ | NA | NA | NA | NA | -0.1335742 | -0.004853833 | NA | NA |  0.2845222 | NA |\n",
       "\n"
      ],
      "text/plain": [
       "  Chrom ChromStart ChromEnd  Region                    Mean        Median   \n",
       "1 chr10 100729094  100729750 chr10:100729094-100729750 -0.07708560 -0.155771\n",
       "2 chr10 100743501  100744571 chr10:100743501-100744571 -0.06350497 -0.101530\n",
       "3 chr10 100745413  100745741 chr10:100745413-100745741  0.08003521  0.111189\n",
       "  AbsMax   Max     Min      Count ⋯ Target_HBG1 Target_HBG2 Target_HBS1L\n",
       "1 -1.82683 1.63462 -1.82683  84   ⋯ NA          NA          NA          \n",
       "2 -1.97401 1.83498 -1.97401 147   ⋯ NA          NA          NA          \n",
       "3  2.60601 2.60601 -2.44093  42   ⋯ NA          NA          NA          \n",
       "  Target_HDAC6 Target_LMO2 Target_MEF2C Target_MYB Target_MYC Target_NMU\n",
       "1 NA            0.0534315  -0.453715167 NA         NA         -0.1621681\n",
       "2 NA           -0.1640059   0.159182286 NA         NA         -0.1338784\n",
       "3 NA           -0.1335742  -0.004853833 NA         NA          0.2845222\n",
       "  Target_PVT1\n",
       "1 NA         \n",
       "2 NA         \n",
       "3 NA         "
      ]
     },
     "metadata": {},
     "output_type": "display_data"
    }
   ],
   "source": [
    "### init\n",
    "txt_assay  = \"CRISPRi_FlowFISH_K562_Riley_JinWoo\"\n",
    "\n",
    "###\n",
    "lst = lapply(VEC_TXT_REGION, function(txt_region){\n",
    "    ### set file directory\n",
    "    txt_fdiry = file.path(\n",
    "        FD_RES, \"region_coverage_fcc\", \n",
    "        txt_region, \n",
    "        txt_assay, \n",
    "        \"overlap_score\",\n",
    "        \"summary\"\n",
    "    )\n",
    "    txt_fname = \"result.coverage.score.tsv\"\n",
    "    txt_fpath = file.path(txt_fdiry, txt_fname)\n",
    "\n",
    "    ### read table\n",
    "    dat = read_tsv(txt_fpath, show_col_types = FALSE)\n",
    "    return(dat)\n",
    "})\n",
    "\n",
    "### assign and show\n",
    "lst_dat_region_score_import = lst\n",
    "\n",
    "res = lapply(lst, dim)\n",
    "print(res)\n",
    "\n",
    "dat = lst[[1]]\n",
    "head(dat, 3)"
   ]
  },
  {
   "cell_type": "code",
   "execution_count": 11,
   "id": "4dc0219e-106d-4896-9010-0ac60d4ce100",
   "metadata": {},
   "outputs": [
    {
     "name": "stdout",
     "output_type": "stream",
     "text": [
      "$fcc_astarr_macs_input_overlap\n",
      "[1] 925  32\n",
      "\n",
      "$fcc_astarr_macs_input_union\n",
      "[1] 1330   32\n",
      "\n"
     ]
    },
    {
     "data": {
      "text/html": [
       "<table class=\"dataframe\">\n",
       "<caption>A tibble: 3 × 32</caption>\n",
       "<thead>\n",
       "\t<tr><th scope=col>Chrom</th><th scope=col>ChromStart</th><th scope=col>ChromEnd</th><th scope=col>Region</th><th scope=col>Mean</th><th scope=col>Median</th><th scope=col>AbsMax</th><th scope=col>Max</th><th scope=col>Min</th><th scope=col>Count</th><th scope=col>⋯</th><th scope=col>Target_HBG1</th><th scope=col>Target_HBG2</th><th scope=col>Target_HBS1L</th><th scope=col>Target_HDAC6</th><th scope=col>Target_LMO2</th><th scope=col>Target_MEF2C</th><th scope=col>Target_MYB</th><th scope=col>Target_MYC</th><th scope=col>Target_NMU</th><th scope=col>Target_PVT1</th></tr>\n",
       "\t<tr><th scope=col>&lt;chr&gt;</th><th scope=col>&lt;dbl&gt;</th><th scope=col>&lt;dbl&gt;</th><th scope=col>&lt;chr&gt;</th><th scope=col>&lt;dbl&gt;</th><th scope=col>&lt;dbl&gt;</th><th scope=col>&lt;dbl&gt;</th><th scope=col>&lt;dbl&gt;</th><th scope=col>&lt;dbl&gt;</th><th scope=col>&lt;dbl&gt;</th><th scope=col>⋯</th><th scope=col>&lt;dbl&gt;</th><th scope=col>&lt;dbl&gt;</th><th scope=col>&lt;dbl&gt;</th><th scope=col>&lt;dbl&gt;</th><th scope=col>&lt;dbl&gt;</th><th scope=col>&lt;dbl&gt;</th><th scope=col>&lt;dbl&gt;</th><th scope=col>&lt;dbl&gt;</th><th scope=col>&lt;dbl&gt;</th><th scope=col>&lt;dbl&gt;</th></tr>\n",
       "</thead>\n",
       "<tbody>\n",
       "\t<tr><td>chr11</td><td>4092109</td><td>4092511</td><td>chr11:4092109-4092511</td><td>-0.12943640</td><td>-0.154327</td><td>-2.05570</td><td>1.47841</td><td>-2.05570</td><td> 320</td><td>⋯</td><td>-0.15174300</td><td>-0.24259277</td><td>-0.047190250</td><td>NA</td><td>NA</td><td>NA</td><td>-0.09194356</td><td>NA</td><td>NA</td><td>NA</td></tr>\n",
       "\t<tr><td>chr11</td><td>4094223</td><td>4095304</td><td>chr11:4094223-4095304</td><td>-0.04849565</td><td>-0.045032</td><td>-3.02950</td><td>2.38441</td><td>-3.02950</td><td>1030</td><td>⋯</td><td>-0.06110858</td><td>-0.02017601</td><td>-0.004131782</td><td>NA</td><td>NA</td><td>NA</td><td> 0.09460382</td><td>NA</td><td>NA</td><td>NA</td></tr>\n",
       "\t<tr><td>chr11</td><td>4144721</td><td>4147004</td><td>chr11:4144721-4147004</td><td>-0.07024901</td><td>-0.066676</td><td>-2.83058</td><td>2.67552</td><td>-2.83058</td><td>1185</td><td>⋯</td><td>-0.15152373</td><td>-0.08632305</td><td>-0.003365882</td><td>NA</td><td>NA</td><td>NA</td><td>-0.01313274</td><td>NA</td><td>NA</td><td>NA</td></tr>\n",
       "</tbody>\n",
       "</table>\n"
      ],
      "text/latex": [
       "A tibble: 3 × 32\n",
       "\\begin{tabular}{lllllllllllllllllllll}\n",
       " Chrom & ChromStart & ChromEnd & Region & Mean & Median & AbsMax & Max & Min & Count & ⋯ & Target\\_HBG1 & Target\\_HBG2 & Target\\_HBS1L & Target\\_HDAC6 & Target\\_LMO2 & Target\\_MEF2C & Target\\_MYB & Target\\_MYC & Target\\_NMU & Target\\_PVT1\\\\\n",
       " <chr> & <dbl> & <dbl> & <chr> & <dbl> & <dbl> & <dbl> & <dbl> & <dbl> & <dbl> & ⋯ & <dbl> & <dbl> & <dbl> & <dbl> & <dbl> & <dbl> & <dbl> & <dbl> & <dbl> & <dbl>\\\\\n",
       "\\hline\n",
       "\t chr11 & 4092109 & 4092511 & chr11:4092109-4092511 & -0.12943640 & -0.154327 & -2.05570 & 1.47841 & -2.05570 &  320 & ⋯ & -0.15174300 & -0.24259277 & -0.047190250 & NA & NA & NA & -0.09194356 & NA & NA & NA\\\\\n",
       "\t chr11 & 4094223 & 4095304 & chr11:4094223-4095304 & -0.04849565 & -0.045032 & -3.02950 & 2.38441 & -3.02950 & 1030 & ⋯ & -0.06110858 & -0.02017601 & -0.004131782 & NA & NA & NA &  0.09460382 & NA & NA & NA\\\\\n",
       "\t chr11 & 4144721 & 4147004 & chr11:4144721-4147004 & -0.07024901 & -0.066676 & -2.83058 & 2.67552 & -2.83058 & 1185 & ⋯ & -0.15152373 & -0.08632305 & -0.003365882 & NA & NA & NA & -0.01313274 & NA & NA & NA\\\\\n",
       "\\end{tabular}\n"
      ],
      "text/markdown": [
       "\n",
       "A tibble: 3 × 32\n",
       "\n",
       "| Chrom &lt;chr&gt; | ChromStart &lt;dbl&gt; | ChromEnd &lt;dbl&gt; | Region &lt;chr&gt; | Mean &lt;dbl&gt; | Median &lt;dbl&gt; | AbsMax &lt;dbl&gt; | Max &lt;dbl&gt; | Min &lt;dbl&gt; | Count &lt;dbl&gt; | ⋯ ⋯ | Target_HBG1 &lt;dbl&gt; | Target_HBG2 &lt;dbl&gt; | Target_HBS1L &lt;dbl&gt; | Target_HDAC6 &lt;dbl&gt; | Target_LMO2 &lt;dbl&gt; | Target_MEF2C &lt;dbl&gt; | Target_MYB &lt;dbl&gt; | Target_MYC &lt;dbl&gt; | Target_NMU &lt;dbl&gt; | Target_PVT1 &lt;dbl&gt; |\n",
       "|---|---|---|---|---|---|---|---|---|---|---|---|---|---|---|---|---|---|---|---|---|\n",
       "| chr11 | 4092109 | 4092511 | chr11:4092109-4092511 | -0.12943640 | -0.154327 | -2.05570 | 1.47841 | -2.05570 |  320 | ⋯ | -0.15174300 | -0.24259277 | -0.047190250 | NA | NA | NA | -0.09194356 | NA | NA | NA |\n",
       "| chr11 | 4094223 | 4095304 | chr11:4094223-4095304 | -0.04849565 | -0.045032 | -3.02950 | 2.38441 | -3.02950 | 1030 | ⋯ | -0.06110858 | -0.02017601 | -0.004131782 | NA | NA | NA |  0.09460382 | NA | NA | NA |\n",
       "| chr11 | 4144721 | 4147004 | chr11:4144721-4147004 | -0.07024901 | -0.066676 | -2.83058 | 2.67552 | -2.83058 | 1185 | ⋯ | -0.15152373 | -0.08632305 | -0.003365882 | NA | NA | NA | -0.01313274 | NA | NA | NA |\n",
       "\n"
      ],
      "text/plain": [
       "  Chrom ChromStart ChromEnd Region                Mean        Median   \n",
       "1 chr11 4092109    4092511  chr11:4092109-4092511 -0.12943640 -0.154327\n",
       "2 chr11 4094223    4095304  chr11:4094223-4095304 -0.04849565 -0.045032\n",
       "3 chr11 4144721    4147004  chr11:4144721-4147004 -0.07024901 -0.066676\n",
       "  AbsMax   Max     Min      Count ⋯ Target_HBG1 Target_HBG2 Target_HBS1L\n",
       "1 -2.05570 1.47841 -2.05570  320  ⋯ -0.15174300 -0.24259277 -0.047190250\n",
       "2 -3.02950 2.38441 -3.02950 1030  ⋯ -0.06110858 -0.02017601 -0.004131782\n",
       "3 -2.83058 2.67552 -2.83058 1185  ⋯ -0.15152373 -0.08632305 -0.003365882\n",
       "  Target_HDAC6 Target_LMO2 Target_MEF2C Target_MYB  Target_MYC Target_NMU\n",
       "1 NA           NA          NA           -0.09194356 NA         NA        \n",
       "2 NA           NA          NA            0.09460382 NA         NA        \n",
       "3 NA           NA          NA           -0.01313274 NA         NA        \n",
       "  Target_PVT1\n",
       "1 NA         \n",
       "2 NA         \n",
       "3 NA         "
      ]
     },
     "metadata": {},
     "output_type": "display_data"
    }
   ],
   "source": [
    "### init\n",
    "txt_assay  = \"CRISPRi_FlowFISH_K562_Riley_JinWoo\"\n",
    "\n",
    "###\n",
    "lst = lapply(VEC_TXT_REGION, function(txt_region){\n",
    "    ### set file directory\n",
    "    txt_fdiry = file.path(\n",
    "        FD_RES, \"region_coverage_fcc\", \n",
    "        txt_region, \n",
    "        txt_assay, \n",
    "        \"overlap_score\",\n",
    "        \"summary\"\n",
    "    )\n",
    "    txt_fname = \"result.coverage.score.filtered.tsv\"\n",
    "    txt_fpath = file.path(txt_fdiry, txt_fname)\n",
    "\n",
    "    ### read table\n",
    "    dat = read_tsv(\n",
    "        txt_fpath, show_col_types = FALSE,\n",
    "        col_types = cols(\n",
    "            .default = col_double(),\n",
    "            Chrom    = col_character(),\n",
    "            Region   = col_character()\n",
    "        )\n",
    "    )\n",
    "    return(dat)\n",
    "})\n",
    "\n",
    "### assign and show\n",
    "lst_dat_region_score_filter_import = lst\n",
    "\n",
    "res = lapply(lst, dim)\n",
    "print(res)\n",
    "\n",
    "dat = lst[[1]]\n",
    "head(dat, 3)"
   ]
  },
  {
   "cell_type": "code",
   "execution_count": null,
   "id": "8ada682f-0c83-4618-b1cd-6c1337039121",
   "metadata": {},
   "outputs": [],
   "source": []
  },
  {
   "cell_type": "code",
   "execution_count": null,
   "id": "beb857e3-9791-44ab-94dc-9d66e2b45a30",
   "metadata": {},
   "outputs": [],
   "source": []
  },
  {
   "cell_type": "code",
   "execution_count": null,
   "id": "66457fea-ed90-489d-8103-fbc33e663d95",
   "metadata": {},
   "outputs": [],
   "source": []
  },
  {
   "cell_type": "code",
   "execution_count": 13,
   "id": "4e5b733f-b864-47ca-9a7d-ce42c3f44074",
   "metadata": {},
   "outputs": [
    {
     "data": {
      "text/html": [
       "<table>\n",
       " <thead>\n",
       "  <tr>\n",
       "   <th style=\"text-align:left;\"> Chrom </th>\n",
       "   <th style=\"text-align:right;\"> ChromStart </th>\n",
       "   <th style=\"text-align:right;\"> ChromEnd </th>\n",
       "   <th style=\"text-align:left;\"> Region </th>\n",
       "   <th style=\"text-align:right;\"> Mean </th>\n",
       "   <th style=\"text-align:right;\"> Median </th>\n",
       "   <th style=\"text-align:right;\"> AbsMax </th>\n",
       "   <th style=\"text-align:right;\"> Max </th>\n",
       "   <th style=\"text-align:right;\"> Min </th>\n",
       "   <th style=\"text-align:right;\"> Count </th>\n",
       "   <th style=\"text-align:right;\"> Mean_Neg </th>\n",
       "   <th style=\"text-align:right;\"> Mean_Pos </th>\n",
       "   <th style=\"text-align:right;\"> Target_CAPRIN1 </th>\n",
       "   <th style=\"text-align:right;\"> Target_CAT </th>\n",
       "   <th style=\"text-align:right;\"> Target_CD164 </th>\n",
       "   <th style=\"text-align:right;\"> Target_ERP29 </th>\n",
       "   <th style=\"text-align:right;\"> Target_FADS1 </th>\n",
       "   <th style=\"text-align:right;\"> Target_FADS2 </th>\n",
       "   <th style=\"text-align:right;\"> Target_FADS3 </th>\n",
       "   <th style=\"text-align:right;\"> Target_FEN1 </th>\n",
       "   <th style=\"text-align:right;\"> Target_GATA1 </th>\n",
       "   <th style=\"text-align:right;\"> Target_HBE1 </th>\n",
       "   <th style=\"text-align:right;\"> Target_HBG1 </th>\n",
       "   <th style=\"text-align:right;\"> Target_HBG2 </th>\n",
       "   <th style=\"text-align:right;\"> Target_HBS1L </th>\n",
       "   <th style=\"text-align:right;\"> Target_HDAC6 </th>\n",
       "   <th style=\"text-align:right;\"> Target_LMO2 </th>\n",
       "   <th style=\"text-align:right;\"> Target_MEF2C </th>\n",
       "   <th style=\"text-align:right;\"> Target_MYB </th>\n",
       "   <th style=\"text-align:right;\"> Target_MYC </th>\n",
       "   <th style=\"text-align:right;\"> Target_NMU </th>\n",
       "   <th style=\"text-align:right;\"> Target_PVT1 </th>\n",
       "  </tr>\n",
       " </thead>\n",
       "<tbody>\n",
       "  <tr>\n",
       "   <td style=\"text-align:left;\"> chr10 </td>\n",
       "   <td style=\"text-align:right;\"> 100729027 </td>\n",
       "   <td style=\"text-align:right;\"> 100729908 </td>\n",
       "   <td style=\"text-align:left;\"> chr10:100729027-100729908 </td>\n",
       "   <td style=\"text-align:right;\"> -0.0858394 </td>\n",
       "   <td style=\"text-align:right;\"> -0.1594330 </td>\n",
       "   <td style=\"text-align:right;\"> 2.14893 </td>\n",
       "   <td style=\"text-align:right;\"> 2.14893 </td>\n",
       "   <td style=\"text-align:right;\"> -1.82683 </td>\n",
       "   <td style=\"text-align:right;\"> 105 </td>\n",
       "   <td style=\"text-align:right;\"> -0.5536601 </td>\n",
       "   <td style=\"text-align:right;\"> 0.5141915 </td>\n",
       "   <td style=\"text-align:right;\"> -0.0414317 </td>\n",
       "   <td style=\"text-align:right;\"> -0.2229054 </td>\n",
       "   <td style=\"text-align:right;\"> -0.3815898 </td>\n",
       "   <td style=\"text-align:right;\"> 0.5596685 </td>\n",
       "   <td style=\"text-align:right;\"> NA </td>\n",
       "   <td style=\"text-align:right;\"> NA </td>\n",
       "   <td style=\"text-align:right;\"> NA </td>\n",
       "   <td style=\"text-align:right;\"> NA </td>\n",
       "   <td style=\"text-align:right;\"> NA </td>\n",
       "   <td style=\"text-align:right;\"> NA </td>\n",
       "   <td style=\"text-align:right;\"> NA </td>\n",
       "   <td style=\"text-align:right;\"> NA </td>\n",
       "   <td style=\"text-align:right;\"> NA </td>\n",
       "   <td style=\"text-align:right;\"> NA </td>\n",
       "   <td style=\"text-align:right;\"> 0.0318141 </td>\n",
       "   <td style=\"text-align:right;\"> -0.4688053 </td>\n",
       "   <td style=\"text-align:right;\"> NA </td>\n",
       "   <td style=\"text-align:right;\"> NA </td>\n",
       "   <td style=\"text-align:right;\"> -0.0776260 </td>\n",
       "   <td style=\"text-align:right;\"> NA </td>\n",
       "  </tr>\n",
       "  <tr>\n",
       "   <td style=\"text-align:left;\"> chr10 </td>\n",
       "   <td style=\"text-align:right;\"> 100731148 </td>\n",
       "   <td style=\"text-align:right;\"> 100731673 </td>\n",
       "   <td style=\"text-align:left;\"> chr10:100731148-100731673 </td>\n",
       "   <td style=\"text-align:right;\"> -0.0904755 </td>\n",
       "   <td style=\"text-align:right;\"> -0.0654630 </td>\n",
       "   <td style=\"text-align:right;\"> -1.82975 </td>\n",
       "   <td style=\"text-align:right;\"> 1.82954 </td>\n",
       "   <td style=\"text-align:right;\"> -1.82975 </td>\n",
       "   <td style=\"text-align:right;\"> 77 </td>\n",
       "   <td style=\"text-align:right;\"> -0.5561907 </td>\n",
       "   <td style=\"text-align:right;\"> 0.4683827 </td>\n",
       "   <td style=\"text-align:right;\"> -0.0352723 </td>\n",
       "   <td style=\"text-align:right;\"> -0.0595452 </td>\n",
       "   <td style=\"text-align:right;\"> 0.0086696 </td>\n",
       "   <td style=\"text-align:right;\"> 0.0036632 </td>\n",
       "   <td style=\"text-align:right;\"> NA </td>\n",
       "   <td style=\"text-align:right;\"> NA </td>\n",
       "   <td style=\"text-align:right;\"> NA </td>\n",
       "   <td style=\"text-align:right;\"> NA </td>\n",
       "   <td style=\"text-align:right;\"> NA </td>\n",
       "   <td style=\"text-align:right;\"> NA </td>\n",
       "   <td style=\"text-align:right;\"> NA </td>\n",
       "   <td style=\"text-align:right;\"> NA </td>\n",
       "   <td style=\"text-align:right;\"> NA </td>\n",
       "   <td style=\"text-align:right;\"> NA </td>\n",
       "   <td style=\"text-align:right;\"> 0.1832274 </td>\n",
       "   <td style=\"text-align:right;\"> -0.4742773 </td>\n",
       "   <td style=\"text-align:right;\"> NA </td>\n",
       "   <td style=\"text-align:right;\"> NA </td>\n",
       "   <td style=\"text-align:right;\"> -0.2597943 </td>\n",
       "   <td style=\"text-align:right;\"> NA </td>\n",
       "  </tr>\n",
       "  <tr>\n",
       "   <td style=\"text-align:left;\"> chr10 </td>\n",
       "   <td style=\"text-align:right;\"> 100735439 </td>\n",
       "   <td style=\"text-align:right;\"> 100736071 </td>\n",
       "   <td style=\"text-align:left;\"> chr10:100735439-100736071 </td>\n",
       "   <td style=\"text-align:right;\"> -0.0833788 </td>\n",
       "   <td style=\"text-align:right;\"> -0.0532875 </td>\n",
       "   <td style=\"text-align:right;\"> 2.91365 </td>\n",
       "   <td style=\"text-align:right;\"> 2.91365 </td>\n",
       "   <td style=\"text-align:right;\"> -2.46520 </td>\n",
       "   <td style=\"text-align:right;\"> 70 </td>\n",
       "   <td style=\"text-align:right;\"> -0.8810970 </td>\n",
       "   <td style=\"text-align:right;\"> 0.7143393 </td>\n",
       "   <td style=\"text-align:right;\"> -0.1459802 </td>\n",
       "   <td style=\"text-align:right;\"> -0.0943544 </td>\n",
       "   <td style=\"text-align:right;\"> 0.3746315 </td>\n",
       "   <td style=\"text-align:right;\"> -0.0374764 </td>\n",
       "   <td style=\"text-align:right;\"> NA </td>\n",
       "   <td style=\"text-align:right;\"> NA </td>\n",
       "   <td style=\"text-align:right;\"> NA </td>\n",
       "   <td style=\"text-align:right;\"> NA </td>\n",
       "   <td style=\"text-align:right;\"> NA </td>\n",
       "   <td style=\"text-align:right;\"> NA </td>\n",
       "   <td style=\"text-align:right;\"> NA </td>\n",
       "   <td style=\"text-align:right;\"> NA </td>\n",
       "   <td style=\"text-align:right;\"> NA </td>\n",
       "   <td style=\"text-align:right;\"> NA </td>\n",
       "   <td style=\"text-align:right;\"> -0.0494644 </td>\n",
       "   <td style=\"text-align:right;\"> -0.4473627 </td>\n",
       "   <td style=\"text-align:right;\"> NA </td>\n",
       "   <td style=\"text-align:right;\"> NA </td>\n",
       "   <td style=\"text-align:right;\"> -0.1836452 </td>\n",
       "   <td style=\"text-align:right;\"> NA </td>\n",
       "  </tr>\n",
       "</tbody>\n",
       "</table>"
      ]
     },
     "metadata": {},
     "output_type": "display_data"
    }
   ],
   "source": [
    "txt = \"fcc_astarr_macs_input_union\"\n",
    "lst = lst_dat_region_score_import\n",
    "dat = lst[[txt]]\n",
    "dat_region_score_import = dat\n",
    "fun_display_table(head(dat, 3))"
   ]
  },
  {
   "cell_type": "code",
   "execution_count": 15,
   "id": "f0be4ca3-b018-4674-8895-4ebcb0e445ac",
   "metadata": {},
   "outputs": [
    {
     "data": {
      "text/html": [
       "<table>\n",
       " <thead>\n",
       "  <tr>\n",
       "   <th style=\"text-align:left;\"> Chrom </th>\n",
       "   <th style=\"text-align:right;\"> ChromStart </th>\n",
       "   <th style=\"text-align:right;\"> ChromEnd </th>\n",
       "   <th style=\"text-align:left;\"> Region </th>\n",
       "   <th style=\"text-align:right;\"> Mean </th>\n",
       "   <th style=\"text-align:right;\"> Median </th>\n",
       "   <th style=\"text-align:right;\"> AbsMax </th>\n",
       "   <th style=\"text-align:right;\"> Max </th>\n",
       "   <th style=\"text-align:right;\"> Min </th>\n",
       "   <th style=\"text-align:right;\"> Count </th>\n",
       "   <th style=\"text-align:right;\"> Mean_Neg </th>\n",
       "   <th style=\"text-align:right;\"> Mean_Pos </th>\n",
       "   <th style=\"text-align:right;\"> Target_CAPRIN1 </th>\n",
       "   <th style=\"text-align:right;\"> Target_CAT </th>\n",
       "   <th style=\"text-align:right;\"> Target_CD164 </th>\n",
       "   <th style=\"text-align:right;\"> Target_ERP29 </th>\n",
       "   <th style=\"text-align:right;\"> Target_FADS1 </th>\n",
       "   <th style=\"text-align:right;\"> Target_FADS2 </th>\n",
       "   <th style=\"text-align:right;\"> Target_FADS3 </th>\n",
       "   <th style=\"text-align:right;\"> Target_FEN1 </th>\n",
       "   <th style=\"text-align:right;\"> Target_GATA1 </th>\n",
       "   <th style=\"text-align:right;\"> Target_HBE1 </th>\n",
       "   <th style=\"text-align:right;\"> Target_HBG1 </th>\n",
       "   <th style=\"text-align:right;\"> Target_HBG2 </th>\n",
       "   <th style=\"text-align:right;\"> Target_HBS1L </th>\n",
       "   <th style=\"text-align:right;\"> Target_HDAC6 </th>\n",
       "   <th style=\"text-align:right;\"> Target_LMO2 </th>\n",
       "   <th style=\"text-align:right;\"> Target_MEF2C </th>\n",
       "   <th style=\"text-align:right;\"> Target_MYB </th>\n",
       "   <th style=\"text-align:right;\"> Target_MYC </th>\n",
       "   <th style=\"text-align:right;\"> Target_NMU </th>\n",
       "   <th style=\"text-align:right;\"> Target_PVT1 </th>\n",
       "  </tr>\n",
       " </thead>\n",
       "<tbody>\n",
       "  <tr>\n",
       "   <td style=\"text-align:left;\"> chr11 </td>\n",
       "   <td style=\"text-align:right;\"> 4092104 </td>\n",
       "   <td style=\"text-align:right;\"> 4092566 </td>\n",
       "   <td style=\"text-align:left;\"> chr11:4092104-4092566 </td>\n",
       "   <td style=\"text-align:right;\"> -0.1340399 </td>\n",
       "   <td style=\"text-align:right;\"> -0.159709 </td>\n",
       "   <td style=\"text-align:right;\"> -2.05570 </td>\n",
       "   <td style=\"text-align:right;\"> 1.47841 </td>\n",
       "   <td style=\"text-align:right;\"> -2.05570 </td>\n",
       "   <td style=\"text-align:right;\"> 325 </td>\n",
       "   <td style=\"text-align:right;\"> -0.5238011 </td>\n",
       "   <td style=\"text-align:right;\"> 0.4658268 </td>\n",
       "   <td style=\"text-align:right;\"> NA </td>\n",
       "   <td style=\"text-align:right;\"> NA </td>\n",
       "   <td style=\"text-align:right;\"> NA </td>\n",
       "   <td style=\"text-align:right;\"> NA </td>\n",
       "   <td style=\"text-align:right;\"> NA </td>\n",
       "   <td style=\"text-align:right;\"> NA </td>\n",
       "   <td style=\"text-align:right;\"> NA </td>\n",
       "   <td style=\"text-align:right;\"> NA </td>\n",
       "   <td style=\"text-align:right;\"> NA </td>\n",
       "   <td style=\"text-align:right;\"> -0.1163553 </td>\n",
       "   <td style=\"text-align:right;\"> -0.1667420 </td>\n",
       "   <td style=\"text-align:right;\"> -0.2522359 </td>\n",
       "   <td style=\"text-align:right;\"> -0.0414748 </td>\n",
       "   <td style=\"text-align:right;\"> NA </td>\n",
       "   <td style=\"text-align:right;\"> NA </td>\n",
       "   <td style=\"text-align:right;\"> NA </td>\n",
       "   <td style=\"text-align:right;\"> -0.0933917 </td>\n",
       "   <td style=\"text-align:right;\"> NA </td>\n",
       "   <td style=\"text-align:right;\"> NA </td>\n",
       "   <td style=\"text-align:right;\"> NA </td>\n",
       "  </tr>\n",
       "  <tr>\n",
       "   <td style=\"text-align:left;\"> chr11 </td>\n",
       "   <td style=\"text-align:right;\"> 4094204 </td>\n",
       "   <td style=\"text-align:right;\"> 4095676 </td>\n",
       "   <td style=\"text-align:left;\"> chr11:4094204-4095676 </td>\n",
       "   <td style=\"text-align:right;\"> -0.0482194 </td>\n",
       "   <td style=\"text-align:right;\"> -0.047314 </td>\n",
       "   <td style=\"text-align:right;\"> -3.02950 </td>\n",
       "   <td style=\"text-align:right;\"> 2.38441 </td>\n",
       "   <td style=\"text-align:right;\"> -3.02950 </td>\n",
       "   <td style=\"text-align:right;\"> 1330 </td>\n",
       "   <td style=\"text-align:right;\"> -0.5110948 </td>\n",
       "   <td style=\"text-align:right;\"> 0.4739041 </td>\n",
       "   <td style=\"text-align:right;\"> NA </td>\n",
       "   <td style=\"text-align:right;\"> NA </td>\n",
       "   <td style=\"text-align:right;\"> NA </td>\n",
       "   <td style=\"text-align:right;\"> NA </td>\n",
       "   <td style=\"text-align:right;\"> NA </td>\n",
       "   <td style=\"text-align:right;\"> NA </td>\n",
       "   <td style=\"text-align:right;\"> NA </td>\n",
       "   <td style=\"text-align:right;\"> NA </td>\n",
       "   <td style=\"text-align:right;\"> NA </td>\n",
       "   <td style=\"text-align:right;\"> -0.2284214 </td>\n",
       "   <td style=\"text-align:right;\"> -0.0521823 </td>\n",
       "   <td style=\"text-align:right;\"> 0.0052552 </td>\n",
       "   <td style=\"text-align:right;\"> -0.0243134 </td>\n",
       "   <td style=\"text-align:right;\"> NA </td>\n",
       "   <td style=\"text-align:right;\"> NA </td>\n",
       "   <td style=\"text-align:right;\"> NA </td>\n",
       "   <td style=\"text-align:right;\"> 0.0585651 </td>\n",
       "   <td style=\"text-align:right;\"> NA </td>\n",
       "   <td style=\"text-align:right;\"> NA </td>\n",
       "   <td style=\"text-align:right;\"> NA </td>\n",
       "  </tr>\n",
       "  <tr>\n",
       "   <td style=\"text-align:left;\"> chr11 </td>\n",
       "   <td style=\"text-align:right;\"> 4144511 </td>\n",
       "   <td style=\"text-align:right;\"> 4147030 </td>\n",
       "   <td style=\"text-align:left;\"> chr11:4144511-4147030 </td>\n",
       "   <td style=\"text-align:right;\"> -0.0702490 </td>\n",
       "   <td style=\"text-align:right;\"> -0.066676 </td>\n",
       "   <td style=\"text-align:right;\"> -2.83058 </td>\n",
       "   <td style=\"text-align:right;\"> 2.67552 </td>\n",
       "   <td style=\"text-align:right;\"> -2.83058 </td>\n",
       "   <td style=\"text-align:right;\"> 1185 </td>\n",
       "   <td style=\"text-align:right;\"> -0.5219641 </td>\n",
       "   <td style=\"text-align:right;\"> 0.4566143 </td>\n",
       "   <td style=\"text-align:right;\"> NA </td>\n",
       "   <td style=\"text-align:right;\"> NA </td>\n",
       "   <td style=\"text-align:right;\"> NA </td>\n",
       "   <td style=\"text-align:right;\"> NA </td>\n",
       "   <td style=\"text-align:right;\"> NA </td>\n",
       "   <td style=\"text-align:right;\"> NA </td>\n",
       "   <td style=\"text-align:right;\"> NA </td>\n",
       "   <td style=\"text-align:right;\"> NA </td>\n",
       "   <td style=\"text-align:right;\"> NA </td>\n",
       "   <td style=\"text-align:right;\"> -0.0968996 </td>\n",
       "   <td style=\"text-align:right;\"> -0.1515237 </td>\n",
       "   <td style=\"text-align:right;\"> -0.0863231 </td>\n",
       "   <td style=\"text-align:right;\"> -0.0033659 </td>\n",
       "   <td style=\"text-align:right;\"> NA </td>\n",
       "   <td style=\"text-align:right;\"> NA </td>\n",
       "   <td style=\"text-align:right;\"> NA </td>\n",
       "   <td style=\"text-align:right;\"> -0.0131327 </td>\n",
       "   <td style=\"text-align:right;\"> NA </td>\n",
       "   <td style=\"text-align:right;\"> NA </td>\n",
       "   <td style=\"text-align:right;\"> NA </td>\n",
       "  </tr>\n",
       "</tbody>\n",
       "</table>"
      ]
     },
     "metadata": {},
     "output_type": "display_data"
    }
   ],
   "source": [
    "txt = \"fcc_astarr_macs_input_union\"\n",
    "lst = lst_dat_region_score_filter_import\n",
    "dat = lst[[txt]]\n",
    "dat_region_score_filter_import = dat\n",
    "fun_display_table(head(dat, 3))"
   ]
  },
  {
   "cell_type": "code",
   "execution_count": null,
   "id": "f1c40f02-a682-4b64-9ff4-b1d7afb18731",
   "metadata": {},
   "outputs": [],
   "source": []
  },
  {
   "cell_type": "code",
   "execution_count": null,
   "id": "e5d811c8-9937-4959-8e30-dccb0ca71595",
   "metadata": {},
   "outputs": [],
   "source": []
  },
  {
   "cell_type": "code",
   "execution_count": 8,
   "id": "d384e2fd-4a66-460b-b5a9-dc066f5331b7",
   "metadata": {},
   "outputs": [],
   "source": [
    "GENES = c(\n",
    "    \"NMU\",\n",
    "    \"MEF2C\",\n",
    "    \"CD164\",\n",
    "    \"MYB\", \"HBS1L\", \"HBG1\", \"HBG2\", \"HBE1\",\n",
    "    \"PVT1\", \"MYC\",\n",
    "    \"LMO2\", \"CAPRIN1\", \"CAT\",\n",
    "    \"FADS1\", \"FADS2\", \"FADS3\", \"FEN1\",\n",
    "    \"ERP29\",\n",
    "    \"GATA1\", \"HDAC6\"\n",
    ")\n",
    "\n",
    "CHROMS = paste0(\"chr\", c(1:22, \"X\", \"Y\"))"
   ]
  },
  {
   "cell_type": "code",
   "execution_count": 32,
   "id": "37af2678-ee49-40c4-a545-4bc3f78946a7",
   "metadata": {},
   "outputs": [
    {
     "data": {
      "text/html": [
       "<table class=\"dataframe\">\n",
       "<caption>A tibble: 3 × 24</caption>\n",
       "<thead>\n",
       "\t<tr><th scope=col>Chrom</th><th scope=col>ChromStart</th><th scope=col>ChromEnd</th><th scope=col>Region</th><th scope=col>Target_CAPRIN1</th><th scope=col>Target_CAT</th><th scope=col>Target_CD164</th><th scope=col>Target_ERP29</th><th scope=col>Target_FADS1</th><th scope=col>Target_FADS2</th><th scope=col>⋯</th><th scope=col>Target_HBG1</th><th scope=col>Target_HBG2</th><th scope=col>Target_HBS1L</th><th scope=col>Target_HDAC6</th><th scope=col>Target_LMO2</th><th scope=col>Target_MEF2C</th><th scope=col>Target_MYB</th><th scope=col>Target_MYC</th><th scope=col>Target_NMU</th><th scope=col>Target_PVT1</th></tr>\n",
       "\t<tr><th scope=col>&lt;chr&gt;</th><th scope=col>&lt;dbl&gt;</th><th scope=col>&lt;dbl&gt;</th><th scope=col>&lt;chr&gt;</th><th scope=col>&lt;dbl&gt;</th><th scope=col>&lt;dbl&gt;</th><th scope=col>&lt;dbl&gt;</th><th scope=col>&lt;dbl&gt;</th><th scope=col>&lt;dbl&gt;</th><th scope=col>&lt;dbl&gt;</th><th scope=col>⋯</th><th scope=col>&lt;dbl&gt;</th><th scope=col>&lt;dbl&gt;</th><th scope=col>&lt;dbl&gt;</th><th scope=col>&lt;dbl&gt;</th><th scope=col>&lt;dbl&gt;</th><th scope=col>&lt;dbl&gt;</th><th scope=col>&lt;dbl&gt;</th><th scope=col>&lt;dbl&gt;</th><th scope=col>&lt;dbl&gt;</th><th scope=col>&lt;dbl&gt;</th></tr>\n",
       "</thead>\n",
       "<tbody>\n",
       "\t<tr><td>chr10</td><td>100729027</td><td>100729908</td><td>chr10:100729027-100729908</td><td>-0.04143173</td><td>-0.22290540</td><td>-0.381589800</td><td> 0.559668467</td><td>NA</td><td>NA</td><td>⋯</td><td>NA</td><td>NA</td><td>NA</td><td>NA</td><td> 0.03181413</td><td>-0.4688053</td><td>NA</td><td>NA</td><td>-0.0776260</td><td>NA</td></tr>\n",
       "\t<tr><td>chr10</td><td>100731148</td><td>100731673</td><td>chr10:100731148-100731673</td><td>-0.03527227</td><td>-0.05954518</td><td> 0.008669636</td><td> 0.003663182</td><td>NA</td><td>NA</td><td>⋯</td><td>NA</td><td>NA</td><td>NA</td><td>NA</td><td> 0.18322736</td><td>-0.4742773</td><td>NA</td><td>NA</td><td>-0.2597943</td><td>NA</td></tr>\n",
       "\t<tr><td>chr10</td><td>100735439</td><td>100736071</td><td>chr10:100735439-100736071</td><td>-0.14598020</td><td>-0.09435440</td><td> 0.374631500</td><td>-0.037476400</td><td>NA</td><td>NA</td><td>⋯</td><td>NA</td><td>NA</td><td>NA</td><td>NA</td><td>-0.04946440</td><td>-0.4473627</td><td>NA</td><td>NA</td><td>-0.1836452</td><td>NA</td></tr>\n",
       "</tbody>\n",
       "</table>\n"
      ],
      "text/latex": [
       "A tibble: 3 × 24\n",
       "\\begin{tabular}{lllllllllllllllllllll}\n",
       " Chrom & ChromStart & ChromEnd & Region & Target\\_CAPRIN1 & Target\\_CAT & Target\\_CD164 & Target\\_ERP29 & Target\\_FADS1 & Target\\_FADS2 & ⋯ & Target\\_HBG1 & Target\\_HBG2 & Target\\_HBS1L & Target\\_HDAC6 & Target\\_LMO2 & Target\\_MEF2C & Target\\_MYB & Target\\_MYC & Target\\_NMU & Target\\_PVT1\\\\\n",
       " <chr> & <dbl> & <dbl> & <chr> & <dbl> & <dbl> & <dbl> & <dbl> & <dbl> & <dbl> & ⋯ & <dbl> & <dbl> & <dbl> & <dbl> & <dbl> & <dbl> & <dbl> & <dbl> & <dbl> & <dbl>\\\\\n",
       "\\hline\n",
       "\t chr10 & 100729027 & 100729908 & chr10:100729027-100729908 & -0.04143173 & -0.22290540 & -0.381589800 &  0.559668467 & NA & NA & ⋯ & NA & NA & NA & NA &  0.03181413 & -0.4688053 & NA & NA & -0.0776260 & NA\\\\\n",
       "\t chr10 & 100731148 & 100731673 & chr10:100731148-100731673 & -0.03527227 & -0.05954518 &  0.008669636 &  0.003663182 & NA & NA & ⋯ & NA & NA & NA & NA &  0.18322736 & -0.4742773 & NA & NA & -0.2597943 & NA\\\\\n",
       "\t chr10 & 100735439 & 100736071 & chr10:100735439-100736071 & -0.14598020 & -0.09435440 &  0.374631500 & -0.037476400 & NA & NA & ⋯ & NA & NA & NA & NA & -0.04946440 & -0.4473627 & NA & NA & -0.1836452 & NA\\\\\n",
       "\\end{tabular}\n"
      ],
      "text/markdown": [
       "\n",
       "A tibble: 3 × 24\n",
       "\n",
       "| Chrom &lt;chr&gt; | ChromStart &lt;dbl&gt; | ChromEnd &lt;dbl&gt; | Region &lt;chr&gt; | Target_CAPRIN1 &lt;dbl&gt; | Target_CAT &lt;dbl&gt; | Target_CD164 &lt;dbl&gt; | Target_ERP29 &lt;dbl&gt; | Target_FADS1 &lt;dbl&gt; | Target_FADS2 &lt;dbl&gt; | ⋯ ⋯ | Target_HBG1 &lt;dbl&gt; | Target_HBG2 &lt;dbl&gt; | Target_HBS1L &lt;dbl&gt; | Target_HDAC6 &lt;dbl&gt; | Target_LMO2 &lt;dbl&gt; | Target_MEF2C &lt;dbl&gt; | Target_MYB &lt;dbl&gt; | Target_MYC &lt;dbl&gt; | Target_NMU &lt;dbl&gt; | Target_PVT1 &lt;dbl&gt; |\n",
       "|---|---|---|---|---|---|---|---|---|---|---|---|---|---|---|---|---|---|---|---|---|\n",
       "| chr10 | 100729027 | 100729908 | chr10:100729027-100729908 | -0.04143173 | -0.22290540 | -0.381589800 |  0.559668467 | NA | NA | ⋯ | NA | NA | NA | NA |  0.03181413 | -0.4688053 | NA | NA | -0.0776260 | NA |\n",
       "| chr10 | 100731148 | 100731673 | chr10:100731148-100731673 | -0.03527227 | -0.05954518 |  0.008669636 |  0.003663182 | NA | NA | ⋯ | NA | NA | NA | NA |  0.18322736 | -0.4742773 | NA | NA | -0.2597943 | NA |\n",
       "| chr10 | 100735439 | 100736071 | chr10:100735439-100736071 | -0.14598020 | -0.09435440 |  0.374631500 | -0.037476400 | NA | NA | ⋯ | NA | NA | NA | NA | -0.04946440 | -0.4473627 | NA | NA | -0.1836452 | NA |\n",
       "\n"
      ],
      "text/plain": [
       "  Chrom ChromStart ChromEnd  Region                    Target_CAPRIN1\n",
       "1 chr10 100729027  100729908 chr10:100729027-100729908 -0.04143173   \n",
       "2 chr10 100731148  100731673 chr10:100731148-100731673 -0.03527227   \n",
       "3 chr10 100735439  100736071 chr10:100735439-100736071 -0.14598020   \n",
       "  Target_CAT  Target_CD164 Target_ERP29 Target_FADS1 Target_FADS2 ⋯ Target_HBG1\n",
       "1 -0.22290540 -0.381589800  0.559668467 NA           NA           ⋯ NA         \n",
       "2 -0.05954518  0.008669636  0.003663182 NA           NA           ⋯ NA         \n",
       "3 -0.09435440  0.374631500 -0.037476400 NA           NA           ⋯ NA         \n",
       "  Target_HBG2 Target_HBS1L Target_HDAC6 Target_LMO2 Target_MEF2C Target_MYB\n",
       "1 NA          NA           NA            0.03181413 -0.4688053   NA        \n",
       "2 NA          NA           NA            0.18322736 -0.4742773   NA        \n",
       "3 NA          NA           NA           -0.04946440 -0.4473627   NA        \n",
       "  Target_MYC Target_NMU Target_PVT1\n",
       "1 NA         -0.0776260 NA         \n",
       "2 NA         -0.2597943 NA         \n",
       "3 NA         -0.1836452 NA         "
      ]
     },
     "metadata": {},
     "output_type": "display_data"
    }
   ],
   "source": [
    "dat = dat_region_score_import\n",
    "dat = dat %>% dplyr::select(Chrom:Region, starts_with(\"Target\"))\n",
    "head(dat, 3)"
   ]
  },
  {
   "cell_type": "code",
   "execution_count": 33,
   "id": "cc872a69-0bfe-453b-ac0e-b3bd2ac90438",
   "metadata": {},
   "outputs": [
    {
     "data": {
      "text/html": [
       "<table class=\"dataframe\">\n",
       "<caption>A tibble: 3 × 24</caption>\n",
       "<thead>\n",
       "\t<tr><th scope=col>Chrom</th><th scope=col>ChromStart</th><th scope=col>ChromEnd</th><th scope=col>Region</th><th scope=col>Target_CAPRIN1</th><th scope=col>Target_CAT</th><th scope=col>Target_CD164</th><th scope=col>Target_ERP29</th><th scope=col>Target_FADS1</th><th scope=col>Target_FADS2</th><th scope=col>⋯</th><th scope=col>Target_HBG1</th><th scope=col>Target_HBG2</th><th scope=col>Target_HBS1L</th><th scope=col>Target_HDAC6</th><th scope=col>Target_LMO2</th><th scope=col>Target_MEF2C</th><th scope=col>Target_MYB</th><th scope=col>Target_MYC</th><th scope=col>Target_NMU</th><th scope=col>Target_PVT1</th></tr>\n",
       "\t<tr><th scope=col>&lt;chr&gt;</th><th scope=col>&lt;dbl&gt;</th><th scope=col>&lt;dbl&gt;</th><th scope=col>&lt;chr&gt;</th><th scope=col>&lt;dbl&gt;</th><th scope=col>&lt;dbl&gt;</th><th scope=col>&lt;dbl&gt;</th><th scope=col>&lt;dbl&gt;</th><th scope=col>&lt;dbl&gt;</th><th scope=col>&lt;dbl&gt;</th><th scope=col>⋯</th><th scope=col>&lt;dbl&gt;</th><th scope=col>&lt;dbl&gt;</th><th scope=col>&lt;dbl&gt;</th><th scope=col>&lt;dbl&gt;</th><th scope=col>&lt;dbl&gt;</th><th scope=col>&lt;dbl&gt;</th><th scope=col>&lt;dbl&gt;</th><th scope=col>&lt;dbl&gt;</th><th scope=col>&lt;dbl&gt;</th><th scope=col>&lt;dbl&gt;</th></tr>\n",
       "</thead>\n",
       "<tbody>\n",
       "\t<tr><td>chr11</td><td>4092104</td><td>4092566</td><td>chr11:4092104-4092566</td><td>NA</td><td>NA</td><td>NA</td><td>NA</td><td>NA</td><td>NA</td><td>⋯</td><td>-0.16674203</td><td>-0.252235877</td><td>-0.041474754</td><td>NA</td><td>NA</td><td>NA</td><td>-0.09339174</td><td>NA</td><td>NA</td><td>NA</td></tr>\n",
       "\t<tr><td>chr11</td><td>4094204</td><td>4095676</td><td>chr11:4094204-4095676</td><td>NA</td><td>NA</td><td>NA</td><td>NA</td><td>NA</td><td>NA</td><td>⋯</td><td>-0.05218232</td><td> 0.005255162</td><td>-0.024313406</td><td>NA</td><td>NA</td><td>NA</td><td> 0.05856510</td><td>NA</td><td>NA</td><td>NA</td></tr>\n",
       "\t<tr><td>chr11</td><td>4144511</td><td>4147030</td><td>chr11:4144511-4147030</td><td>NA</td><td>NA</td><td>NA</td><td>NA</td><td>NA</td><td>NA</td><td>⋯</td><td>-0.15152373</td><td>-0.086323055</td><td>-0.003365882</td><td>NA</td><td>NA</td><td>NA</td><td>-0.01313274</td><td>NA</td><td>NA</td><td>NA</td></tr>\n",
       "</tbody>\n",
       "</table>\n"
      ],
      "text/latex": [
       "A tibble: 3 × 24\n",
       "\\begin{tabular}{lllllllllllllllllllll}\n",
       " Chrom & ChromStart & ChromEnd & Region & Target\\_CAPRIN1 & Target\\_CAT & Target\\_CD164 & Target\\_ERP29 & Target\\_FADS1 & Target\\_FADS2 & ⋯ & Target\\_HBG1 & Target\\_HBG2 & Target\\_HBS1L & Target\\_HDAC6 & Target\\_LMO2 & Target\\_MEF2C & Target\\_MYB & Target\\_MYC & Target\\_NMU & Target\\_PVT1\\\\\n",
       " <chr> & <dbl> & <dbl> & <chr> & <dbl> & <dbl> & <dbl> & <dbl> & <dbl> & <dbl> & ⋯ & <dbl> & <dbl> & <dbl> & <dbl> & <dbl> & <dbl> & <dbl> & <dbl> & <dbl> & <dbl>\\\\\n",
       "\\hline\n",
       "\t chr11 & 4092104 & 4092566 & chr11:4092104-4092566 & NA & NA & NA & NA & NA & NA & ⋯ & -0.16674203 & -0.252235877 & -0.041474754 & NA & NA & NA & -0.09339174 & NA & NA & NA\\\\\n",
       "\t chr11 & 4094204 & 4095676 & chr11:4094204-4095676 & NA & NA & NA & NA & NA & NA & ⋯ & -0.05218232 &  0.005255162 & -0.024313406 & NA & NA & NA &  0.05856510 & NA & NA & NA\\\\\n",
       "\t chr11 & 4144511 & 4147030 & chr11:4144511-4147030 & NA & NA & NA & NA & NA & NA & ⋯ & -0.15152373 & -0.086323055 & -0.003365882 & NA & NA & NA & -0.01313274 & NA & NA & NA\\\\\n",
       "\\end{tabular}\n"
      ],
      "text/markdown": [
       "\n",
       "A tibble: 3 × 24\n",
       "\n",
       "| Chrom &lt;chr&gt; | ChromStart &lt;dbl&gt; | ChromEnd &lt;dbl&gt; | Region &lt;chr&gt; | Target_CAPRIN1 &lt;dbl&gt; | Target_CAT &lt;dbl&gt; | Target_CD164 &lt;dbl&gt; | Target_ERP29 &lt;dbl&gt; | Target_FADS1 &lt;dbl&gt; | Target_FADS2 &lt;dbl&gt; | ⋯ ⋯ | Target_HBG1 &lt;dbl&gt; | Target_HBG2 &lt;dbl&gt; | Target_HBS1L &lt;dbl&gt; | Target_HDAC6 &lt;dbl&gt; | Target_LMO2 &lt;dbl&gt; | Target_MEF2C &lt;dbl&gt; | Target_MYB &lt;dbl&gt; | Target_MYC &lt;dbl&gt; | Target_NMU &lt;dbl&gt; | Target_PVT1 &lt;dbl&gt; |\n",
       "|---|---|---|---|---|---|---|---|---|---|---|---|---|---|---|---|---|---|---|---|---|\n",
       "| chr11 | 4092104 | 4092566 | chr11:4092104-4092566 | NA | NA | NA | NA | NA | NA | ⋯ | -0.16674203 | -0.252235877 | -0.041474754 | NA | NA | NA | -0.09339174 | NA | NA | NA |\n",
       "| chr11 | 4094204 | 4095676 | chr11:4094204-4095676 | NA | NA | NA | NA | NA | NA | ⋯ | -0.05218232 |  0.005255162 | -0.024313406 | NA | NA | NA |  0.05856510 | NA | NA | NA |\n",
       "| chr11 | 4144511 | 4147030 | chr11:4144511-4147030 | NA | NA | NA | NA | NA | NA | ⋯ | -0.15152373 | -0.086323055 | -0.003365882 | NA | NA | NA | -0.01313274 | NA | NA | NA |\n",
       "\n"
      ],
      "text/plain": [
       "  Chrom ChromStart ChromEnd Region                Target_CAPRIN1 Target_CAT\n",
       "1 chr11 4092104    4092566  chr11:4092104-4092566 NA             NA        \n",
       "2 chr11 4094204    4095676  chr11:4094204-4095676 NA             NA        \n",
       "3 chr11 4144511    4147030  chr11:4144511-4147030 NA             NA        \n",
       "  Target_CD164 Target_ERP29 Target_FADS1 Target_FADS2 ⋯ Target_HBG1\n",
       "1 NA           NA           NA           NA           ⋯ -0.16674203\n",
       "2 NA           NA           NA           NA           ⋯ -0.05218232\n",
       "3 NA           NA           NA           NA           ⋯ -0.15152373\n",
       "  Target_HBG2  Target_HBS1L Target_HDAC6 Target_LMO2 Target_MEF2C Target_MYB \n",
       "1 -0.252235877 -0.041474754 NA           NA          NA           -0.09339174\n",
       "2  0.005255162 -0.024313406 NA           NA          NA            0.05856510\n",
       "3 -0.086323055 -0.003365882 NA           NA          NA           -0.01313274\n",
       "  Target_MYC Target_NMU Target_PVT1\n",
       "1 NA         NA         NA         \n",
       "2 NA         NA         NA         \n",
       "3 NA         NA         NA         "
      ]
     },
     "metadata": {},
     "output_type": "display_data"
    }
   ],
   "source": [
    "dat = dat_region_score_filter_import\n",
    "dat = dat %>% dplyr::select(Chrom:Region, starts_with(\"Target\"))\n",
    "head(dat, 3)"
   ]
  },
  {
   "cell_type": "code",
   "execution_count": 38,
   "id": "6a0582f0-b629-4405-8da4-f757b1d7df30",
   "metadata": {},
   "outputs": [
    {
     "name": "stdout",
     "output_type": "stream",
     "text": [
      "[1] 1358\n",
      "[1] 1358\n"
     ]
    }
   ],
   "source": [
    "dat = dat = dat_region_score_import\n",
    "dat = dat %>% dplyr::select(Chrom:Region, starts_with(\"Target\"))\n",
    "\n",
    "vec = dat$Region\n",
    "print(length(vec))\n",
    "vec = unique(vec)\n",
    "print(length(vec))"
   ]
  },
  {
   "cell_type": "code",
   "execution_count": null,
   "id": "33a7df5c-77fb-4228-b091-3fe823bd2479",
   "metadata": {},
   "outputs": [],
   "source": []
  },
  {
   "cell_type": "code",
   "execution_count": null,
   "id": "e0c0cde2-56e0-401e-a17c-ba70b658bc72",
   "metadata": {},
   "outputs": [],
   "source": []
  },
  {
   "cell_type": "code",
   "execution_count": 42,
   "id": "4c6d4ec9-e56b-44c6-ab93-456e3a690865",
   "metadata": {},
   "outputs": [],
   "source": [
    "dat = dat = dat_region_score_import\n",
    "dat = dat %>% dplyr::select(Chrom:Region, starts_with(\"Target\"))\n",
    "\n",
    "dat$Chrom = factor(dat$Chrom, levels=CHROMS)\n",
    "dat = dat %>% dplyr::arrange(Chrom, ChromStart, ChromEnd) %>% dplyr::distinct()\n",
    "\n",
    "### split into score matrix and annotatoin\n",
    "dat_annot = dat %>% dplyr::select(Region, Chrom)  %>% column_to_rownames(var = \"Region\")\n",
    "dat_score = dat %>% dplyr::select(-Chrom, -ChromStart, -ChromEnd) %>% column_to_rownames(var = \"Region\")\n"
   ]
  },
  {
   "cell_type": "code",
   "execution_count": 45,
   "id": "cb37f205-b3b7-43eb-8a29-492e2686d341",
   "metadata": {},
   "outputs": [
    {
     "data": {
      "image/png": "[encoded data removed]",
      "text/plain": [
       "plot without title"
      ]
     },
     "metadata": {
      "image/png": {
       "height": 600,
       "width": 480
      }
     },
     "output_type": "display_data"
    }
   ],
   "source": [
    "###\n",
    "paletteLength = 50\n",
    "mat  = dat_score\n",
    "bmin = -2.5\n",
    "bmax =  6\n",
    "xmin = -2 # min(mat)\n",
    "xmax =  2 # max(mat)\n",
    "nmin = ceiling((paletteLength-1)/2)\n",
    "nmax = floor(  (paletteLength-1)/2)\n",
    "\n",
    "myColor = c(\n",
    "    \"blue\",\n",
    "    colorRampPalette(c(\"blue\", \"white\"))(nmin),\n",
    "    \"white\",\n",
    "    colorRampPalette(c(\"white\", \"red\"))(nmax),\n",
    "    \"red\"\n",
    ")\n",
    "\n",
    "myBreaks = c(\n",
    "    bmin,\n",
    "    seq(xmin, xmin/paletteLength, length.out=nmin),\n",
    "    0,\n",
    "    seq(xmax/paletteLength, xmax, length.out=nmax),\n",
    "    bmax\n",
    ")\n",
    "\n",
    "options(repr.plot.height=10, repr.plot.width=8)\n",
    "pheatmap(mat,\n",
    "         cluster_row  = FALSE,\n",
    "         cluster_cols = FALSE,\n",
    "         show_rownames = FALSE,\n",
    "         annotation_names_row = FALSE,\n",
    "         annotation_row = dat_annot,\n",
    "         color=myColor, \n",
    "         breaks=myBreaks)"
   ]
  },
  {
   "cell_type": "code",
   "execution_count": null,
   "id": "a35b9832-c26b-40f2-ac14-4edd27d38b06",
   "metadata": {},
   "outputs": [],
   "source": []
  },
  {
   "cell_type": "code",
   "execution_count": null,
   "id": "554619db-3398-4c6d-baf4-cdd58a234d49",
   "metadata": {},
   "outputs": [],
   "source": []
  },
  {
   "cell_type": "code",
   "execution_count": 28,
   "id": "8d2d1056-5c74-459c-b573-e54ca011014a",
   "metadata": {},
   "outputs": [
    {
     "name": "stdout",
     "output_type": "stream",
     "text": [
      "[1] 3279    7\n"
     ]
    },
    {
     "data": {
      "text/html": [
       "<table class=\"dataframe\">\n",
       "<caption>A tibble: 6 × 7</caption>\n",
       "<thead>\n",
       "\t<tr><th scope=col>Region</th><th scope=col>Chrom</th><th scope=col>Start</th><th scope=col>End</th><th scope=col>X</th><th scope=col>Gene</th><th scope=col>Value</th></tr>\n",
       "\t<tr><th scope=col>&lt;chr&gt;</th><th scope=col>&lt;fct&gt;</th><th scope=col>&lt;chr&gt;</th><th scope=col>&lt;chr&gt;</th><th scope=col>&lt;chr&gt;</th><th scope=col>&lt;chr&gt;</th><th scope=col>&lt;dbl&gt;</th></tr>\n",
       "</thead>\n",
       "<tbody>\n",
       "\t<tr><td>chr2:129361843-129362257</td><td>chr2</td><td>129361843</td><td>129362257</td><td>Target</td><td>CD164</td><td> 0.134735</td></tr>\n",
       "\t<tr><td>chr2:129361843-129362257</td><td>chr2</td><td>129361843</td><td>129362257</td><td>Target</td><td>HBE1 </td><td>-0.401875</td></tr>\n",
       "\t<tr><td>chr2:129361843-129362257</td><td>chr2</td><td>129361843</td><td>129362257</td><td>Target</td><td>HBG1 </td><td>-0.794888</td></tr>\n",
       "\t<tr><td>chr2:129361843-129362257</td><td>chr2</td><td>129361843</td><td>129362257</td><td>Target</td><td>HBG2 </td><td>-0.986619</td></tr>\n",
       "\t<tr><td>chr2:129361843-129362257</td><td>chr2</td><td>129361843</td><td>129362257</td><td>Target</td><td>HBS1L</td><td>-0.213830</td></tr>\n",
       "\t<tr><td>chr2:129361843-129362257</td><td>chr2</td><td>129361843</td><td>129362257</td><td>Target</td><td>MYB  </td><td> 0.099261</td></tr>\n",
       "</tbody>\n",
       "</table>\n"
      ],
      "text/latex": [
       "A tibble: 6 × 7\n",
       "\\begin{tabular}{lllllll}\n",
       " Region & Chrom & Start & End & X & Gene & Value\\\\\n",
       " <chr> & <fct> & <chr> & <chr> & <chr> & <chr> & <dbl>\\\\\n",
       "\\hline\n",
       "\t chr2:129361843-129362257 & chr2 & 129361843 & 129362257 & Target & CD164 &  0.134735\\\\\n",
       "\t chr2:129361843-129362257 & chr2 & 129361843 & 129362257 & Target & HBE1  & -0.401875\\\\\n",
       "\t chr2:129361843-129362257 & chr2 & 129361843 & 129362257 & Target & HBG1  & -0.794888\\\\\n",
       "\t chr2:129361843-129362257 & chr2 & 129361843 & 129362257 & Target & HBG2  & -0.986619\\\\\n",
       "\t chr2:129361843-129362257 & chr2 & 129361843 & 129362257 & Target & HBS1L & -0.213830\\\\\n",
       "\t chr2:129361843-129362257 & chr2 & 129361843 & 129362257 & Target & MYB   &  0.099261\\\\\n",
       "\\end{tabular}\n"
      ],
      "text/markdown": [
       "\n",
       "A tibble: 6 × 7\n",
       "\n",
       "| Region &lt;chr&gt; | Chrom &lt;fct&gt; | Start &lt;chr&gt; | End &lt;chr&gt; | X &lt;chr&gt; | Gene &lt;chr&gt; | Value &lt;dbl&gt; |\n",
       "|---|---|---|---|---|---|---|\n",
       "| chr2:129361843-129362257 | chr2 | 129361843 | 129362257 | Target | CD164 |  0.134735 |\n",
       "| chr2:129361843-129362257 | chr2 | 129361843 | 129362257 | Target | HBE1  | -0.401875 |\n",
       "| chr2:129361843-129362257 | chr2 | 129361843 | 129362257 | Target | HBG1  | -0.794888 |\n",
       "| chr2:129361843-129362257 | chr2 | 129361843 | 129362257 | Target | HBG2  | -0.986619 |\n",
       "| chr2:129361843-129362257 | chr2 | 129361843 | 129362257 | Target | HBS1L | -0.213830 |\n",
       "| chr2:129361843-129362257 | chr2 | 129361843 | 129362257 | Target | MYB   |  0.099261 |\n",
       "\n"
      ],
      "text/plain": [
       "  Region                   Chrom Start     End       X      Gene  Value    \n",
       "1 chr2:129361843-129362257 chr2  129361843 129362257 Target CD164  0.134735\n",
       "2 chr2:129361843-129362257 chr2  129361843 129362257 Target HBE1  -0.401875\n",
       "3 chr2:129361843-129362257 chr2  129361843 129362257 Target HBG1  -0.794888\n",
       "4 chr2:129361843-129362257 chr2  129361843 129362257 Target HBG2  -0.986619\n",
       "5 chr2:129361843-129362257 chr2  129361843 129362257 Target HBS1L -0.213830\n",
       "6 chr2:129361843-129362257 chr2  129361843 129362257 Target MYB    0.099261"
      ]
     },
     "metadata": {},
     "output_type": "display_data"
    }
   ],
   "source": [
    "dat = dat_region_score_import\n",
    "dat = dat %>% dplyr::select(Region, starts_with(\"Target\"))\n",
    "dat = dat %>% \n",
    "    tidyr::gather(Sample, Value, -Region) %>% \n",
    "    tidyr::separate(Sample, c(\"X\", \"Gene\"), sep = \"_\") %>%\n",
    "    tidyr::separate(Region, c(\"Chrom\", \"Start\", \"End\"), remove = FALSE) %>%\n",
    "    na.omit\n",
    "\n",
    "dat$Chrom = factor(dat$Chrom, levels=CHROMS)\n",
    "dat = dat %>% dplyr::arrange(Chrom, Start, End) %>% dplyr::distinct()\n",
    "\n",
    "### split into score matrix and annotatoin\n",
    "#dat_annot = dat %>% dplyr::select(Region, Chrom)        %>% column_to_rownames(var = \"Region\")\n",
    "#dat_score = dat %>% dplyr::select(-Chrom, -Start, -End) %>% column_to_rownames(var = \"Region\")\n",
    "\n",
    "print(dim(dat))\n",
    "head(dat)"
   ]
  },
  {
   "cell_type": "code",
   "execution_count": null,
   "id": "ddc3883d-dab7-4aab-9058-ef00f61a9cfc",
   "metadata": {},
   "outputs": [],
   "source": [
    "dat$Chrom = factor(dat$Chrom, levels=CHROMS)\n",
    "dat = dat %>% dplyr::arrange(Chrom, Start, End)\n",
    "\n",
    "### split into score matrix and annotatoin\n",
    "dat_annot = dat %>% dplyr::select(Peak, Chrom)          %>% column_to_rownames(var = \"Peak\")\n",
    "dat_score = dat %>% dplyr::select(-Chrom, -Start, -End) %>% column_to_rownames(var = \"Peak\")"
   ]
  },
  {
   "cell_type": "code",
   "execution_count": null,
   "id": "262cd4dc-529e-4e8d-acef-e24e3da21073",
   "metadata": {},
   "outputs": [],
   "source": []
  },
  {
   "cell_type": "code",
   "execution_count": null,
   "id": "ae59a80d-dd72-4e3c-9d2d-c235654ac0fa",
   "metadata": {},
   "outputs": [],
   "source": [
    "dat = dat_region_score_import\n",
    "\n",
    "###\n",
    "dat = dat %>% \n",
    "    dplyr::select(Peak, Gene, Mean) %>%\n",
    "    tidyr::spread(Gene, Mean) %>% \n",
    "    dplyr::mutate(across(where(is.numeric), ~replace_na(.,0))) %>%\n",
    "    tidyr::separate(Peak, c(\"Chrom\", \"Start\", \"End\"), remove = FALSE) %>%\n",
    "    dplyr::select(Peak, Chrom, Start, End, !!genes)\n",
    "\n",
    "### sort by location\n",
    "dat$Chrom = factor(dat$Chrom, levels=CHROMS)\n",
    "dat = dat %>% dplyr::arrange(Chrom, Start, End)\n",
    "\n",
    "### split into score matrix and annotatoin\n",
    "dat_annot = dat %>% dplyr::select(Peak, Chrom)          %>% column_to_rownames(var = \"Peak\")\n",
    "dat_score = dat %>% dplyr::select(-Chrom, -Start, -End) %>% column_to_rownames(var = \"Peak\")\n",
    "\n",
    "\n",
    "head(dat)"
   ]
  }
 ],
 "metadata": {
  "kernelspec": {
   "display_name": "R",
   "language": "R",
   "name": "ir"
  },
  "language_info": {
   "codemirror_mode": "r",
   "file_extension": ".r",
   "mimetype": "text/x-r-source",
   "name": "R",
   "pygments_lexer": "r",
   "version": "4.5.1"
  }
 },
 "nbformat": 4,
 "nbformat_minor": 5
}
