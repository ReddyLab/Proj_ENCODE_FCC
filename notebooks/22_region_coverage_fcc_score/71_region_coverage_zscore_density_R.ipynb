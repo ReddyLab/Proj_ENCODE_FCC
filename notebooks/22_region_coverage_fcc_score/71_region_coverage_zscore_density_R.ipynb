{
 "cells": [
  {
   "cell_type": "raw",
   "id": "23fdaed1-514d-4b35-b168-b3d622b8f353",
   "metadata": {},
   "source": [
    "---\n",
    "title: Region Coverage (FCC) 61\n",
    "subtitle: Density plots of scores\n",
    "format:\n",
    "    html:\n",
    "        code-fold:  true\n",
    "        code-tools: true\n",
    "---"
   ]
  },
  {
   "cell_type": "markdown",
   "id": "cc25b451-416d-42f7-bddc-70acca4b332c",
   "metadata": {},
   "source": [
    "**Set environment**"
   ]
  },
  {
   "cell_type": "code",
   "execution_count": 1,
   "id": "9a77ebca-9352-4a14-b9f3-956402c8e494",
   "metadata": {},
   "outputs": [
    {
     "name": "stdout",
     "output_type": "stream",
     "text": [
      "You are working on        Singularity: singularity_proj_encode_fcc \n",
      "BASE DIRECTORY (FD_BASE): /data/reddylab/Kuei \n",
      "REPO DIRECTORY (FD_REPO): /data/reddylab/Kuei/repo \n",
      "WORK DIRECTORY (FD_WORK): /data/reddylab/Kuei/work \n",
      "DATA DIRECTORY (FD_DATA): /data/reddylab/Kuei/data \n",
      "\n",
      "You are working with      ENCODE FCC \n",
      "PATH OF PROJECT (FD_PRJ): /data/reddylab/Kuei/repo/Proj_ENCODE_FCC \n",
      "PROJECT RESULTS (FD_RES): /data/reddylab/Kuei/repo/Proj_ENCODE_FCC/results \n",
      "PROJECT SCRIPTS (FD_EXE): /data/reddylab/Kuei/repo/Proj_ENCODE_FCC/scripts \n",
      "PROJECT DATA    (FD_DAT): /data/reddylab/Kuei/repo/Proj_ENCODE_FCC/data \n",
      "PROJECT NOTE    (FD_NBK): /data/reddylab/Kuei/repo/Proj_ENCODE_FCC/notebooks \n",
      "PROJECT DOCS    (FD_DOC): /data/reddylab/Kuei/repo/Proj_ENCODE_FCC/docs \n",
      "PROJECT LOG     (FD_LOG): /data/reddylab/Kuei/repo/Proj_ENCODE_FCC/log \n",
      "PROJECT REF     (FD_REF): /data/reddylab/Kuei/repo/Proj_ENCODE_FCC/references \n",
      "\n"
     ]
    }
   ],
   "source": [
    "suppressMessages(suppressWarnings(source(\"../run_config_project_sing.R\")))\n",
    "show_env()"
   ]
  },
  {
   "cell_type": "markdown",
   "id": "1c8b76a0-9629-46b7-b714-e996aacf0059",
   "metadata": {},
   "source": [
    "**Set global variable**"
   ]
  },
  {
   "cell_type": "code",
   "execution_count": 2,
   "id": "42f0c07c-aa9b-4452-a00f-994546a9ddee",
   "metadata": {},
   "outputs": [
    {
     "name": "stdout",
     "output_type": "stream",
     "text": [
      "fcc_astarr_macs_input_overlap \n",
      "fcc_astarr_macs_input_union \n"
     ]
    }
   ],
   "source": [
    "## init: region folder\n",
    "vec = c(\"fcc_astarr_macs_input_overlap\", \"fcc_astarr_macs_input_union\")\n",
    "names(vec) = vec\n",
    "\n",
    "VEC_TXT_FOLDER = vec\n",
    "for (txt in vec) {cat(txt, \"\\n\")}"
   ]
  },
  {
   "cell_type": "markdown",
   "id": "1ba728bf-9966-413e-ba9c-7cb7b8439d74",
   "metadata": {},
   "source": [
    "**Check input files**"
   ]
  },
  {
   "cell_type": "code",
   "execution_count": 3,
   "id": "9bbbb7a7-3386-4d3d-abbb-0b13b7a9fbab",
   "metadata": {},
   "outputs": [
    {
     "name": "stdout",
     "output_type": "stream",
     "text": [
      "/data/reddylab/Kuei/repo/Proj_ENCODE_FCC/results/region_coverage_fcc_score/fcc_astarr_macs_input_overlap/summary/region.coverage.score.fcc.final.tsv \n",
      "/data/reddylab/Kuei/repo/Proj_ENCODE_FCC/results/region_coverage_fcc_score/fcc_astarr_macs_input_overlap/summary/region.coverage.score.fcc.test.tsv \n",
      "/data/reddylab/Kuei/repo/Proj_ENCODE_FCC/results/region_coverage_fcc_score/fcc_astarr_macs_input_overlap/summary/region.coverage.score.fcc.total.tsv \n"
     ]
    }
   ],
   "source": [
    "txt_folder = VEC_TXT_FOLDER[1]\n",
    "txt_fdiry  = file.path(FD_RES, \"region_coverage_fcc_score\", txt_folder, \"summary\")\n",
    "txt_fname  = \"region.coverage.score.fcc.*.tsv\"\n",
    "txt_fglob  = file.path(txt_fdiry, txt_fname)\n",
    "\n",
    "vec = Sys.glob(txt_fglob)\n",
    "for (txt in vec) {cat(txt, \"\\n\")}"
   ]
  },
  {
   "cell_type": "markdown",
   "id": "064a3cf6-fbf7-47e1-be1c-372dd4e65cc7",
   "metadata": {},
   "source": [
    "## Import data"
   ]
  },
  {
   "cell_type": "code",
   "execution_count": 29,
   "id": "175d6aff-ae80-4c28-8b0b-564d15252e66",
   "metadata": {},
   "outputs": [
    {
     "name": "stdout",
     "output_type": "stream",
     "text": [
      "$fcc_astarr_macs_input_overlap\n",
      "[1] 432928     11\n",
      "\n",
      "$fcc_astarr_macs_input_union\n",
      "[1] 639718     11\n",
      "\n"
     ]
    },
    {
     "data": {
      "text/html": [
       "<table class=\"dataframe\">\n",
       "<caption>A tibble: 3 × 11</caption>\n",
       "<thead>\n",
       "\t<tr><th scope=col>Chrom</th><th scope=col>ChromStart</th><th scope=col>ChromEnd</th><th scope=col>Region</th><th scope=col>Score</th><th scope=col>Zcore</th><th scope=col>Score_Label</th><th scope=col>Zcore_Label</th><th scope=col>Assay_Folder</th><th scope=col>Assay_Group</th><th scope=col>Assay_Label</th></tr>\n",
       "\t<tr><th scope=col>&lt;chr&gt;</th><th scope=col>&lt;dbl&gt;</th><th scope=col>&lt;dbl&gt;</th><th scope=col>&lt;chr&gt;</th><th scope=col>&lt;dbl&gt;</th><th scope=col>&lt;dbl&gt;</th><th scope=col>&lt;chr&gt;</th><th scope=col>&lt;chr&gt;</th><th scope=col>&lt;chr&gt;</th><th scope=col>&lt;chr&gt;</th><th scope=col>&lt;chr&gt;</th></tr>\n",
       "</thead>\n",
       "<tbody>\n",
       "\t<tr><td>chr1</td><td>10038</td><td>10405</td><td>chr1:10038-10405</td><td>-2.23485265</td><td>-3.5573621</td><td>Log2FC</td><td>Scale(Log2FC)</td><td>STARR_ATAC_K562_Reddy_KS91</td><td>ASTARR_KS91</td><td>ASTARR</td></tr>\n",
       "\t<tr><td>chr1</td><td>14282</td><td>14614</td><td>chr1:14282-14614</td><td> 0.03179044</td><td> 0.0361388</td><td>Log2FC</td><td>Scale(Log2FC)</td><td>STARR_ATAC_K562_Reddy_KS91</td><td>ASTARR_KS91</td><td>ASTARR</td></tr>\n",
       "\t<tr><td>chr1</td><td>16025</td><td>16338</td><td>chr1:16025-16338</td><td>-1.33934060</td><td>-2.1376311</td><td>Log2FC</td><td>Scale(Log2FC)</td><td>STARR_ATAC_K562_Reddy_KS91</td><td>ASTARR_KS91</td><td>ASTARR</td></tr>\n",
       "</tbody>\n",
       "</table>\n"
      ],
      "text/latex": [
       "A tibble: 3 × 11\n",
       "\\begin{tabular}{lllllllllll}\n",
       " Chrom & ChromStart & ChromEnd & Region & Score & Zcore & Score\\_Label & Zcore\\_Label & Assay\\_Folder & Assay\\_Group & Assay\\_Label\\\\\n",
       " <chr> & <dbl> & <dbl> & <chr> & <dbl> & <dbl> & <chr> & <chr> & <chr> & <chr> & <chr>\\\\\n",
       "\\hline\n",
       "\t chr1 & 10038 & 10405 & chr1:10038-10405 & -2.23485265 & -3.5573621 & Log2FC & Scale(Log2FC) & STARR\\_ATAC\\_K562\\_Reddy\\_KS91 & ASTARR\\_KS91 & ASTARR\\\\\n",
       "\t chr1 & 14282 & 14614 & chr1:14282-14614 &  0.03179044 &  0.0361388 & Log2FC & Scale(Log2FC) & STARR\\_ATAC\\_K562\\_Reddy\\_KS91 & ASTARR\\_KS91 & ASTARR\\\\\n",
       "\t chr1 & 16025 & 16338 & chr1:16025-16338 & -1.33934060 & -2.1376311 & Log2FC & Scale(Log2FC) & STARR\\_ATAC\\_K562\\_Reddy\\_KS91 & ASTARR\\_KS91 & ASTARR\\\\\n",
       "\\end{tabular}\n"
      ],
      "text/markdown": [
       "\n",
       "A tibble: 3 × 11\n",
       "\n",
       "| Chrom &lt;chr&gt; | ChromStart &lt;dbl&gt; | ChromEnd &lt;dbl&gt; | Region &lt;chr&gt; | Score &lt;dbl&gt; | Zcore &lt;dbl&gt; | Score_Label &lt;chr&gt; | Zcore_Label &lt;chr&gt; | Assay_Folder &lt;chr&gt; | Assay_Group &lt;chr&gt; | Assay_Label &lt;chr&gt; |\n",
       "|---|---|---|---|---|---|---|---|---|---|---|\n",
       "| chr1 | 10038 | 10405 | chr1:10038-10405 | -2.23485265 | -3.5573621 | Log2FC | Scale(Log2FC) | STARR_ATAC_K562_Reddy_KS91 | ASTARR_KS91 | ASTARR |\n",
       "| chr1 | 14282 | 14614 | chr1:14282-14614 |  0.03179044 |  0.0361388 | Log2FC | Scale(Log2FC) | STARR_ATAC_K562_Reddy_KS91 | ASTARR_KS91 | ASTARR |\n",
       "| chr1 | 16025 | 16338 | chr1:16025-16338 | -1.33934060 | -2.1376311 | Log2FC | Scale(Log2FC) | STARR_ATAC_K562_Reddy_KS91 | ASTARR_KS91 | ASTARR |\n",
       "\n"
      ],
      "text/plain": [
       "  Chrom ChromStart ChromEnd Region           Score       Zcore      Score_Label\n",
       "1 chr1  10038      10405    chr1:10038-10405 -2.23485265 -3.5573621 Log2FC     \n",
       "2 chr1  14282      14614    chr1:14282-14614  0.03179044  0.0361388 Log2FC     \n",
       "3 chr1  16025      16338    chr1:16025-16338 -1.33934060 -2.1376311 Log2FC     \n",
       "  Zcore_Label   Assay_Folder               Assay_Group Assay_Label\n",
       "1 Scale(Log2FC) STARR_ATAC_K562_Reddy_KS91 ASTARR_KS91 ASTARR     \n",
       "2 Scale(Log2FC) STARR_ATAC_K562_Reddy_KS91 ASTARR_KS91 ASTARR     \n",
       "3 Scale(Log2FC) STARR_ATAC_K562_Reddy_KS91 ASTARR_KS91 ASTARR     "
      ]
     },
     "metadata": {},
     "output_type": "display_data"
    }
   ],
   "source": [
    "lst = lapply(VEC_TXT_FOLDER, function(txt_folder){\n",
    "    ### set file directory\n",
    "    txt_fdiry  = file.path(\n",
    "        FD_RES, \"region_coverage_fcc_score\", \n",
    "        txt_folder, \n",
    "        \"summary\"\n",
    "    )\n",
    "    txt_fname = \"region.coverage.score.fcc.final.tsv\"\n",
    "    txt_fpath = file.path(txt_fdiry, txt_fname)\n",
    "\n",
    "    ### read table\n",
    "    dat = read_tsv(txt_fpath, show_col_types = FALSE)\n",
    "    return(dat)\n",
    "})\n",
    "\n",
    "### assign and show\n",
    "lst_dat_region_score_import = lst\n",
    "\n",
    "res = lapply(lst, dim)\n",
    "print(res)\n",
    "\n",
    "dat = lst[[1]]\n",
    "head(dat, 3)"
   ]
  },
  {
   "cell_type": "markdown",
   "id": "2d6967bb-ff05-49fe-96e7-dc8169004328",
   "metadata": {},
   "source": [
    "**Check: count**"
   ]
  },
  {
   "cell_type": "code",
   "execution_count": 30,
   "id": "9841f73c-7b31-4392-acc5-bc068ffd8899",
   "metadata": {},
   "outputs": [
    {
     "data": {
      "text/html": [
       "<table class=\"dataframe\">\n",
       "<caption>A data.frame: 6 × 3</caption>\n",
       "<thead>\n",
       "\t<tr><th scope=col>Assay</th><th scope=col>fcc_astarr_macs_input_overlap</th><th scope=col>fcc_astarr_macs_input_union</th></tr>\n",
       "\t<tr><th scope=col>&lt;fct&gt;</th><th scope=col>&lt;int&gt;</th><th scope=col>&lt;int&gt;</th></tr>\n",
       "</thead>\n",
       "<tbody>\n",
       "\t<tr><td>ASTARR_KS91   </td><td>150040</td><td>246850</td></tr>\n",
       "\t<tr><td>CRISPRi-Growth</td><td> 72743</td><td> 80288</td></tr>\n",
       "\t<tr><td>CRISPRi-HCRFF </td><td>   925</td><td>  1330</td></tr>\n",
       "\t<tr><td>LMPRA         </td><td> 61478</td><td> 68497</td></tr>\n",
       "\t<tr><td>TMPRA         </td><td>  1148</td><td>  1722</td></tr>\n",
       "\t<tr><td>WSTARR        </td><td>146594</td><td>241031</td></tr>\n",
       "</tbody>\n",
       "</table>\n"
      ],
      "text/latex": [
       "A data.frame: 6 × 3\n",
       "\\begin{tabular}{lll}\n",
       " Assay & fcc\\_astarr\\_macs\\_input\\_overlap & fcc\\_astarr\\_macs\\_input\\_union\\\\\n",
       " <fct> & <int> & <int>\\\\\n",
       "\\hline\n",
       "\t ASTARR\\_KS91    & 150040 & 246850\\\\\n",
       "\t CRISPRi-Growth &  72743 &  80288\\\\\n",
       "\t CRISPRi-HCRFF  &    925 &   1330\\\\\n",
       "\t LMPRA          &  61478 &  68497\\\\\n",
       "\t TMPRA          &   1148 &   1722\\\\\n",
       "\t WSTARR         & 146594 & 241031\\\\\n",
       "\\end{tabular}\n"
      ],
      "text/markdown": [
       "\n",
       "A data.frame: 6 × 3\n",
       "\n",
       "| Assay &lt;fct&gt; | fcc_astarr_macs_input_overlap &lt;int&gt; | fcc_astarr_macs_input_union &lt;int&gt; |\n",
       "|---|---|---|\n",
       "| ASTARR_KS91    | 150040 | 246850 |\n",
       "| CRISPRi-Growth |  72743 |  80288 |\n",
       "| CRISPRi-HCRFF  |    925 |   1330 |\n",
       "| LMPRA          |  61478 |  68497 |\n",
       "| TMPRA          |   1148 |   1722 |\n",
       "| WSTARR         | 146594 | 241031 |\n",
       "\n"
      ],
      "text/plain": [
       "  Assay          fcc_astarr_macs_input_overlap fcc_astarr_macs_input_union\n",
       "1 ASTARR_KS91    150040                        246850                     \n",
       "2 CRISPRi-Growth  72743                         80288                     \n",
       "3 CRISPRi-HCRFF     925                          1330                     \n",
       "4 LMPRA           61478                         68497                     \n",
       "5 TMPRA            1148                          1722                     \n",
       "6 WSTARR         146594                        241031                     "
      ]
     },
     "metadata": {},
     "output_type": "display_data"
    }
   ],
   "source": [
    "lst = lst_dat_region_score_import\n",
    "lst = lapply(lst, function(dat){\n",
    "    res = table(dat$Assay_Group, dnn = \"Assay\")\n",
    "    dat = as.data.frame(res)\n",
    "    return(dat)\n",
    "})\n",
    "dat = bind_rows(lst, .id = \"Folder\")\n",
    "dat = dat %>% tidyr::spread(Folder, Freq)\n",
    "dat"
   ]
  },
  {
   "cell_type": "code",
   "execution_count": 32,
   "id": "41c15a24-c5d3-49d4-bbf8-db69b38edbd4",
   "metadata": {},
   "outputs": [
    {
     "data": {
      "text/html": [
       "<table class=\"dataframe\">\n",
       "<caption>A data.frame: 6 × 4</caption>\n",
       "<thead>\n",
       "\t<tr><th scope=col>Assay_Label</th><th scope=col>Score_Label</th><th scope=col>fcc_astarr_macs_input_overlap</th><th scope=col>fcc_astarr_macs_input_union</th></tr>\n",
       "\t<tr><th scope=col>&lt;fct&gt;</th><th scope=col>&lt;fct&gt;</th><th scope=col>&lt;int&gt;</th><th scope=col>&lt;int&gt;</th></tr>\n",
       "</thead>\n",
       "<tbody>\n",
       "\t<tr><td>ASTARR        </td><td>Log2FC                   </td><td>150040</td><td>246850</td></tr>\n",
       "\t<tr><td>CRISPRi-Growth</td><td>Mean(ZScore)             </td><td> 72743</td><td> 80288</td></tr>\n",
       "\t<tr><td>CRISPRi-HCRFF </td><td>Mean(ZScore)             </td><td>   925</td><td>  1330</td></tr>\n",
       "\t<tr><td>LMPRA         </td><td>Log2FC scaled by Neg.Ctrl</td><td> 61478</td><td> 68497</td></tr>\n",
       "\t<tr><td>TMPRA         </td><td>Log2FC                   </td><td>  1148</td><td>  1722</td></tr>\n",
       "\t<tr><td>WSTARR        </td><td>Log2FC                   </td><td>146594</td><td>241031</td></tr>\n",
       "</tbody>\n",
       "</table>\n"
      ],
      "text/latex": [
       "A data.frame: 6 × 4\n",
       "\\begin{tabular}{llll}\n",
       " Assay\\_Label & Score\\_Label & fcc\\_astarr\\_macs\\_input\\_overlap & fcc\\_astarr\\_macs\\_input\\_union\\\\\n",
       " <fct> & <fct> & <int> & <int>\\\\\n",
       "\\hline\n",
       "\t ASTARR         & Log2FC                    & 150040 & 246850\\\\\n",
       "\t CRISPRi-Growth & Mean(ZScore)              &  72743 &  80288\\\\\n",
       "\t CRISPRi-HCRFF  & Mean(ZScore)              &    925 &   1330\\\\\n",
       "\t LMPRA          & Log2FC scaled by Neg.Ctrl &  61478 &  68497\\\\\n",
       "\t TMPRA          & Log2FC                    &   1148 &   1722\\\\\n",
       "\t WSTARR         & Log2FC                    & 146594 & 241031\\\\\n",
       "\\end{tabular}\n"
      ],
      "text/markdown": [
       "\n",
       "A data.frame: 6 × 4\n",
       "\n",
       "| Assay_Label &lt;fct&gt; | Score_Label &lt;fct&gt; | fcc_astarr_macs_input_overlap &lt;int&gt; | fcc_astarr_macs_input_union &lt;int&gt; |\n",
       "|---|---|---|---|\n",
       "| ASTARR         | Log2FC                    | 150040 | 246850 |\n",
       "| CRISPRi-Growth | Mean(ZScore)              |  72743 |  80288 |\n",
       "| CRISPRi-HCRFF  | Mean(ZScore)              |    925 |   1330 |\n",
       "| LMPRA          | Log2FC scaled by Neg.Ctrl |  61478 |  68497 |\n",
       "| TMPRA          | Log2FC                    |   1148 |   1722 |\n",
       "| WSTARR         | Log2FC                    | 146594 | 241031 |\n",
       "\n"
      ],
      "text/plain": [
       "  Assay_Label    Score_Label               fcc_astarr_macs_input_overlap\n",
       "1 ASTARR         Log2FC                    150040                       \n",
       "2 CRISPRi-Growth Mean(ZScore)               72743                       \n",
       "3 CRISPRi-HCRFF  Mean(ZScore)                 925                       \n",
       "4 LMPRA          Log2FC scaled by Neg.Ctrl  61478                       \n",
       "5 TMPRA          Log2FC                      1148                       \n",
       "6 WSTARR         Log2FC                    146594                       \n",
       "  fcc_astarr_macs_input_union\n",
       "1 246850                     \n",
       "2  80288                     \n",
       "3   1330                     \n",
       "4  68497                     \n",
       "5   1722                     \n",
       "6 241031                     "
      ]
     },
     "metadata": {},
     "output_type": "display_data"
    }
   ],
   "source": [
    "lst = lst_dat_region_score_import\n",
    "lst = lapply(lst, function(dat){\n",
    "    res = table(dat$Assay_Label, dat$Score_Label, dnn = c(\"Assay_Label\", \"Score_Label\"))\n",
    "    dat = as.data.frame(res)\n",
    "    return(dat)\n",
    "})\n",
    "dat = bind_rows(lst, .id = \"Folder\")\n",
    "dat = dat %>% \n",
    "    dplyr::filter(Freq != 0) %>%\n",
    "    tidyr::spread(Folder, Freq)\n",
    "dat"
   ]
  },
  {
   "cell_type": "code",
   "execution_count": 33,
   "id": "f577af38-3326-4131-93a6-b9d50dffdc46",
   "metadata": {},
   "outputs": [
    {
     "data": {
      "text/html": [
       "<table class=\"dataframe\">\n",
       "<caption>A data.frame: 6 × 4</caption>\n",
       "<thead>\n",
       "\t<tr><th scope=col>Assay_Label</th><th scope=col>Zcore_Label</th><th scope=col>fcc_astarr_macs_input_overlap</th><th scope=col>fcc_astarr_macs_input_union</th></tr>\n",
       "\t<tr><th scope=col>&lt;fct&gt;</th><th scope=col>&lt;fct&gt;</th><th scope=col>&lt;int&gt;</th><th scope=col>&lt;int&gt;</th></tr>\n",
       "</thead>\n",
       "<tbody>\n",
       "\t<tr><td>ASTARR        </td><td>Scale(Log2FC)</td><td>150040</td><td>246850</td></tr>\n",
       "\t<tr><td>CRISPRi-Growth</td><td>Mean(ZScore) </td><td> 72743</td><td> 80288</td></tr>\n",
       "\t<tr><td>CRISPRi-HCRFF </td><td>Mean(ZScore) </td><td>   925</td><td>  1330</td></tr>\n",
       "\t<tr><td>LMPRA         </td><td>Scale(Log2FC)</td><td> 61478</td><td> 68497</td></tr>\n",
       "\t<tr><td>TMPRA         </td><td>Scale(Log2FC)</td><td>  1148</td><td>  1722</td></tr>\n",
       "\t<tr><td>WSTARR        </td><td>Scale(Log2FC)</td><td>146594</td><td>241031</td></tr>\n",
       "</tbody>\n",
       "</table>\n"
      ],
      "text/latex": [
       "A data.frame: 6 × 4\n",
       "\\begin{tabular}{llll}\n",
       " Assay\\_Label & Zcore\\_Label & fcc\\_astarr\\_macs\\_input\\_overlap & fcc\\_astarr\\_macs\\_input\\_union\\\\\n",
       " <fct> & <fct> & <int> & <int>\\\\\n",
       "\\hline\n",
       "\t ASTARR         & Scale(Log2FC) & 150040 & 246850\\\\\n",
       "\t CRISPRi-Growth & Mean(ZScore)  &  72743 &  80288\\\\\n",
       "\t CRISPRi-HCRFF  & Mean(ZScore)  &    925 &   1330\\\\\n",
       "\t LMPRA          & Scale(Log2FC) &  61478 &  68497\\\\\n",
       "\t TMPRA          & Scale(Log2FC) &   1148 &   1722\\\\\n",
       "\t WSTARR         & Scale(Log2FC) & 146594 & 241031\\\\\n",
       "\\end{tabular}\n"
      ],
      "text/markdown": [
       "\n",
       "A data.frame: 6 × 4\n",
       "\n",
       "| Assay_Label &lt;fct&gt; | Zcore_Label &lt;fct&gt; | fcc_astarr_macs_input_overlap &lt;int&gt; | fcc_astarr_macs_input_union &lt;int&gt; |\n",
       "|---|---|---|---|\n",
       "| ASTARR         | Scale(Log2FC) | 150040 | 246850 |\n",
       "| CRISPRi-Growth | Mean(ZScore)  |  72743 |  80288 |\n",
       "| CRISPRi-HCRFF  | Mean(ZScore)  |    925 |   1330 |\n",
       "| LMPRA          | Scale(Log2FC) |  61478 |  68497 |\n",
       "| TMPRA          | Scale(Log2FC) |   1148 |   1722 |\n",
       "| WSTARR         | Scale(Log2FC) | 146594 | 241031 |\n",
       "\n"
      ],
      "text/plain": [
       "  Assay_Label    Zcore_Label   fcc_astarr_macs_input_overlap\n",
       "1 ASTARR         Scale(Log2FC) 150040                       \n",
       "2 CRISPRi-Growth Mean(ZScore)   72743                       \n",
       "3 CRISPRi-HCRFF  Mean(ZScore)     925                       \n",
       "4 LMPRA          Scale(Log2FC)  61478                       \n",
       "5 TMPRA          Scale(Log2FC)   1148                       \n",
       "6 WSTARR         Scale(Log2FC) 146594                       \n",
       "  fcc_astarr_macs_input_union\n",
       "1 246850                     \n",
       "2  80288                     \n",
       "3   1330                     \n",
       "4  68497                     \n",
       "5   1722                     \n",
       "6 241031                     "
      ]
     },
     "metadata": {},
     "output_type": "display_data"
    }
   ],
   "source": [
    "lst = lst_dat_region_score_import\n",
    "lst = lapply(lst, function(dat){\n",
    "    res = table(dat$Assay_Label, dat$Zcore_Label, dnn = c(\"Assay_Label\", \"Zcore_Label\"))\n",
    "    dat = as.data.frame(res)\n",
    "    return(dat)\n",
    "})\n",
    "dat = bind_rows(lst, .id = \"Folder\")\n",
    "dat = dat %>% \n",
    "    dplyr::filter(Freq != 0) %>%\n",
    "    tidyr::spread(Folder, Freq)\n",
    "dat"
   ]
  },
  {
   "cell_type": "markdown",
   "id": "d6b46ca4-15e3-4305-990b-d719cbbc2a35",
   "metadata": {},
   "source": [
    "## Arrange tables"
   ]
  },
  {
   "cell_type": "code",
   "execution_count": 34,
   "id": "6afe297b-d6b5-4703-94bc-e969ff9b27ec",
   "metadata": {},
   "outputs": [
    {
     "name": "stdout",
     "output_type": "stream",
     "text": [
      "[1] 639718     11\n"
     ]
    },
    {
     "data": {
      "text/html": [
       "<table>\n",
       " <thead>\n",
       "  <tr>\n",
       "   <th style=\"text-align:left;\"> Chrom </th>\n",
       "   <th style=\"text-align:right;\"> ChromStart </th>\n",
       "   <th style=\"text-align:right;\"> ChromEnd </th>\n",
       "   <th style=\"text-align:left;\"> Region </th>\n",
       "   <th style=\"text-align:right;\"> Score </th>\n",
       "   <th style=\"text-align:right;\"> Zcore </th>\n",
       "   <th style=\"text-align:left;\"> Score_Label </th>\n",
       "   <th style=\"text-align:left;\"> Zcore_Label </th>\n",
       "   <th style=\"text-align:left;\"> Assay_Folder </th>\n",
       "   <th style=\"text-align:left;\"> Assay_Group </th>\n",
       "   <th style=\"text-align:left;\"> Assay_Label </th>\n",
       "  </tr>\n",
       " </thead>\n",
       "<tbody>\n",
       "  <tr>\n",
       "   <td style=\"text-align:left;\"> chr1 </td>\n",
       "   <td style=\"text-align:right;\"> 10015 </td>\n",
       "   <td style=\"text-align:right;\"> 10442 </td>\n",
       "   <td style=\"text-align:left;\"> chr1:10015-10442 </td>\n",
       "   <td style=\"text-align:right;\"> -2.1177891 </td>\n",
       "   <td style=\"text-align:right;\"> -3.7814427 </td>\n",
       "   <td style=\"text-align:left;\"> Log2FC </td>\n",
       "   <td style=\"text-align:left;\"> Scale(Log2FC) </td>\n",
       "   <td style=\"text-align:left;\"> STARR_ATAC_K562_Reddy_KS91 </td>\n",
       "   <td style=\"text-align:left;\"> ASTARR_KS91 </td>\n",
       "   <td style=\"text-align:left;\"> ASTARR </td>\n",
       "  </tr>\n",
       "  <tr>\n",
       "   <td style=\"text-align:left;\"> chr1 </td>\n",
       "   <td style=\"text-align:right;\"> 14253 </td>\n",
       "   <td style=\"text-align:right;\"> 14645 </td>\n",
       "   <td style=\"text-align:left;\"> chr1:14253-14645 </td>\n",
       "   <td style=\"text-align:right;\"> 0.3206124 </td>\n",
       "   <td style=\"text-align:right;\"> 0.5653917 </td>\n",
       "   <td style=\"text-align:left;\"> Log2FC </td>\n",
       "   <td style=\"text-align:left;\"> Scale(Log2FC) </td>\n",
       "   <td style=\"text-align:left;\"> STARR_ATAC_K562_Reddy_KS91 </td>\n",
       "   <td style=\"text-align:left;\"> ASTARR_KS91 </td>\n",
       "   <td style=\"text-align:left;\"> ASTARR </td>\n",
       "  </tr>\n",
       "  <tr>\n",
       "   <td style=\"text-align:left;\"> chr1 </td>\n",
       "   <td style=\"text-align:right;\"> 16015 </td>\n",
       "   <td style=\"text-align:right;\"> 16477 </td>\n",
       "   <td style=\"text-align:left;\"> chr1:16015-16477 </td>\n",
       "   <td style=\"text-align:right;\"> -1.1744478 </td>\n",
       "   <td style=\"text-align:right;\"> -2.0997884 </td>\n",
       "   <td style=\"text-align:left;\"> Log2FC </td>\n",
       "   <td style=\"text-align:left;\"> Scale(Log2FC) </td>\n",
       "   <td style=\"text-align:left;\"> STARR_ATAC_K562_Reddy_KS91 </td>\n",
       "   <td style=\"text-align:left;\"> ASTARR_KS91 </td>\n",
       "   <td style=\"text-align:left;\"> ASTARR </td>\n",
       "  </tr>\n",
       "</tbody>\n",
       "</table>"
      ]
     },
     "metadata": {},
     "output_type": "display_data"
    }
   ],
   "source": [
    "idx = \"fcc_astarr_macs_input_union\"\n",
    "lst = lst_dat_region_score_import\n",
    "dat = lst[[idx]]\n",
    "\n",
    "dat_region_score_import = dat\n",
    "print(dim(dat))\n",
    "fun_display_table(head(dat, 3))"
   ]
  },
  {
   "cell_type": "code",
   "execution_count": 37,
   "id": "13a2918d-385a-4aec-a3b8-162cfa9683c8",
   "metadata": {},
   "outputs": [
    {
     "name": "stdout",
     "output_type": "stream",
     "text": [
      "[1] \"ASTARR\"         \"CRISPRi-Growth\" \"CRISPRi-HCRFF\"  \"LMPRA\"         \n",
      "[5] \"TMPRA\"          \"WSTARR\"        \n"
     ]
    }
   ],
   "source": [
    "dat = dat_region_score_import\n",
    "lst = split(dat$Zcore, dat$Assay_Label)\n",
    "\n",
    "lst_vec_num_score = lst\n",
    "print(names(lst))"
   ]
  },
  {
   "cell_type": "code",
   "execution_count": 38,
   "id": "03abe27d-d2a2-493d-82d6-0a240c5b8f6d",
   "metadata": {},
   "outputs": [
    {
     "name": "stderr",
     "output_type": "stream",
     "text": [
      "Warning message:\n",
      "“\u001b[1m\u001b[22mRemoved 14 rows containing non-finite outside the scale range (`stat_bin()`).”\n",
      "Warning message:\n",
      "“\u001b[1m\u001b[22mRemoved 2 rows containing missing values or values outside the scale range\n",
      "(`geom_bar()`).”\n"
     ]
    },
    {
     "data": {
      "image/png": "[encoded data removed]",
      "text/plain": [
       "plot without title"
      ]
     },
     "metadata": {
      "image/png": {
       "height": 180,
       "width": 180
      }
     },
     "output_type": "display_data"
    }
   ],
   "source": [
    "lst = lapply(vec_txt_assay, function(txt_assay){\n",
    "    ### get scores\n",
    "    vec_num_score = lst_vec_num_score[[txt_assay]]\n",
    "    dat_num_score = data.frame(Score = vec_num_score)\n",
    "\n",
    "    ### set plot range\n",
    "    num_prob = 0.0001\n",
    "    vec_num_range = quantile(\n",
    "        vec_num_score, \n",
    "        probs = c(num_prob, 1-num_prob)\n",
    "    )\n",
    "    \n",
    "    ### generate plot\n",
    "    gpt = ggplot(dat_num_score, aes(x=Score)) + \n",
    "        geom_histogram(bins = 70) + \n",
    "        labs(x=\"\", y=\"\", title=txt_assay) +\n",
    "        theme_cowplot() +\n",
    "        xlim(vec_num_range)\n",
    "})\n",
    "\n",
    "### assign and show\n",
    "lst_gpt_hist_assay = lst\n",
    "\n",
    "gpt = lst[[4]]\n",
    "\n",
    "options(repr.plot.height=3, repr.plot.width=3)\n",
    "print(gpt)"
   ]
  },
  {
   "cell_type": "code",
   "execution_count": 23,
   "id": "12aeddb4-94ff-40fc-90e3-e015dc2bf6ad",
   "metadata": {},
   "outputs": [
    {
     "name": "stdout",
     "output_type": "stream",
     "text": [
      "[1] \"ASTARR\"         \"CRISPRi-Growth\" \"CRISPRi-HCRFF\"  \"LMPRA\"         \n",
      "[5] \"TMPRA\"          \"WSTARR\"        \n"
     ]
    }
   ],
   "source": [
    "dat = dat_region_score_import\n",
    "lst = split(dat$Zcore, dat$Assay_Label)\n",
    "\n",
    "lst_vec_num_score = lst\n",
    "print(names(lst))"
   ]
  },
  {
   "cell_type": "code",
   "execution_count": 24,
   "id": "1a3c9372-1ef8-46c2-bb12-845c7ced20b4",
   "metadata": {},
   "outputs": [
    {
     "name": "stderr",
     "output_type": "stream",
     "text": [
      "Warning message:\n",
      "“\u001b[1m\u001b[22mRemoved 14 rows containing non-finite outside the scale range (`stat_bin()`).”\n",
      "Warning message:\n",
      "“\u001b[1m\u001b[22mRemoved 2 rows containing missing values or values outside the scale range\n",
      "(`geom_bar()`).”\n"
     ]
    },
    {
     "data": {
      "image/png": "[encoded data removed]",
      "text/plain": [
       "plot without title"
      ]
     },
     "metadata": {
      "image/png": {
       "height": 180,
       "width": 180
      }
     },
     "output_type": "display_data"
    }
   ],
   "source": [
    "lst = lapply(vec_txt_assay, function(txt_assay){\n",
    "    ### get scores\n",
    "    vec_num_score = lst_vec_num_score[[txt_assay]]\n",
    "    dat_num_score = data.frame(Score = vec_num_score)\n",
    "\n",
    "    ### set plot range\n",
    "    num_prob = 0.0001\n",
    "    vec_num_range = quantile(\n",
    "        vec_num_score, \n",
    "        probs = c(num_prob, 1-num_prob)\n",
    "    )\n",
    "    \n",
    "    ### generate plot\n",
    "    gpt = ggplot(dat_num_score, aes(x=Score)) + \n",
    "        geom_histogram(bins = 70) + \n",
    "        labs(x=\"\", y=\"\", title=txt_assay) +\n",
    "        theme_cowplot() +\n",
    "        xlim(vec_num_range)\n",
    "})\n",
    "\n",
    "### assign and show\n",
    "lst_gpt_hist_assay = lst\n",
    "\n",
    "gpt = lst[[4]]\n",
    "\n",
    "options(repr.plot.height=3, repr.plot.width=3)\n",
    "print(gpt)"
   ]
  },
  {
   "cell_type": "markdown",
   "id": "a392e20b-e512-4d33-97f5-faf58d3c63e6",
   "metadata": {},
   "source": [
    "## Explore: Density plot"
   ]
  },
  {
   "cell_type": "code",
   "execution_count": 17,
   "id": "98458233-046d-4241-a698-b33fcc7d9635",
   "metadata": {},
   "outputs": [
    {
     "name": "stdout",
     "output_type": "stream",
     "text": [
      "[1] 6\n",
      "          ASTARR           WSTARR            TMPRA            LMPRA \n",
      "        \"ASTARR\"         \"WSTARR\"          \"TMPRA\"          \"LMPRA\" \n",
      "   CRISPRi-HCRFF   CRISPRi-Growth \n",
      " \"CRISPRi-HCRFF\" \"CRISPRi-Growth\" \n"
     ]
    }
   ],
   "source": [
    "vec = c(\"ASTARR\", \"WSTARR\", \"TMPRA\", \"LMPRA\", \"CRISPRi-HCRFF\", \"CRISPRi-Growth\")\n",
    "names(vec) = vec\n",
    "\n",
    "vec_txt_assay = vec\n",
    "print(length(vec))\n",
    "print(vec)"
   ]
  },
  {
   "cell_type": "code",
   "execution_count": 18,
   "id": "106d3d8b-a785-4252-aea7-54c6ce91ccfa",
   "metadata": {},
   "outputs": [
    {
     "name": "stderr",
     "output_type": "stream",
     "text": [
      "Warning message:\n",
      "“\u001b[1m\u001b[22mRemoved 50 rows containing non-finite outside the scale range (`stat_bin()`).”\n",
      "Warning message:\n",
      "“\u001b[1m\u001b[22mRemoved 2 rows containing missing values or values outside the scale range\n",
      "(`geom_bar()`).”\n"
     ]
    },
    {
     "data": {
      "image/png": "[encoded data removed]",
      "text/plain": [
       "plot without title"
      ]
     },
     "metadata": {
      "image/png": {
       "height": 180,
       "width": 180
      }
     },
     "output_type": "display_data"
    }
   ],
   "source": [
    "lst = lapply(vec_txt_assay, function(txt_assay){\n",
    "    ### get scores\n",
    "    vec_num_score = lst_vec_num_score[[txt_assay]]\n",
    "    dat_num_score = data.frame(Score = vec_num_score)\n",
    "\n",
    "    ### set plot range\n",
    "    num_prob = 0.0001\n",
    "    vec_num_range = quantile(\n",
    "        vec_num_score, \n",
    "        probs = c(num_prob, 1-num_prob)\n",
    "    )\n",
    "    \n",
    "    ### generate plot\n",
    "    gpt = ggplot(dat_num_score, aes(x=Score)) + \n",
    "        geom_histogram(bins = 70) + \n",
    "        labs(x=\"\", y=\"\", title=txt_assay) +\n",
    "        theme_cowplot() +\n",
    "        xlim(vec_num_range)\n",
    "})\n",
    "\n",
    "### assign and show\n",
    "lst_gpt_hist_assay = lst\n",
    "\n",
    "gpt = lst[[1]]\n",
    "\n",
    "options(repr.plot.height=3, repr.plot.width=3)\n",
    "print(gpt)"
   ]
  },
  {
   "cell_type": "code",
   "execution_count": 19,
   "id": "a5025ad3-12c2-4be7-ac2e-384088bad82a",
   "metadata": {},
   "outputs": [
    {
     "name": "stderr",
     "output_type": "stream",
     "text": [
      "Warning message:\n",
      "“\u001b[1m\u001b[22mRemoved 50 rows containing non-finite outside the scale range (`stat_bin()`).”\n",
      "Warning message:\n",
      "“\u001b[1m\u001b[22mRemoved 2 rows containing missing values or values outside the scale range\n",
      "(`geom_bar()`).”\n",
      "Warning message:\n",
      "“\u001b[1m\u001b[22mRemoved 50 rows containing non-finite outside the scale range (`stat_bin()`).”\n",
      "Warning message:\n",
      "“\u001b[1m\u001b[22mRemoved 2 rows containing missing values or values outside the scale range\n",
      "(`geom_bar()`).”\n",
      "Warning message:\n",
      "“\u001b[1m\u001b[22mRemoved 2 rows containing non-finite outside the scale range (`stat_bin()`).”\n",
      "Warning message:\n",
      "“\u001b[1m\u001b[22mRemoved 2 rows containing missing values or values outside the scale range\n",
      "(`geom_bar()`).”\n",
      "Warning message:\n",
      "“\u001b[1m\u001b[22mRemoved 14 rows containing non-finite outside the scale range (`stat_bin()`).”\n",
      "Warning message:\n",
      "“\u001b[1m\u001b[22mRemoved 2 rows containing missing values or values outside the scale range\n",
      "(`geom_bar()`).”\n",
      "Warning message:\n",
      "“\u001b[1m\u001b[22mRemoved 2 rows containing non-finite outside the scale range (`stat_bin()`).”\n",
      "Warning message:\n",
      "“\u001b[1m\u001b[22mRemoved 2 rows containing missing values or values outside the scale range\n",
      "(`geom_bar()`).”\n",
      "Warning message:\n",
      "“\u001b[1m\u001b[22mRemoved 18 rows containing non-finite outside the scale range (`stat_bin()`).”\n",
      "Warning message:\n",
      "“\u001b[1m\u001b[22mRemoved 2 rows containing missing values or values outside the scale range\n",
      "(`geom_bar()`).”\n"
     ]
    },
    {
     "data": {
      "image/png": "[encoded data removed]",
      "text/plain": [
       "plot without title"
      ]
     },
     "metadata": {
      "image/png": {
       "height": 180,
       "width": 1080
      }
     },
     "output_type": "display_data"
    }
   ],
   "source": [
    "### arrange plots\n",
    "lst = lst_gpt_hist_assay\n",
    "\n",
    "### generate plot\n",
    "plt = plot_grid(plotlist = lst, nrow = 1)\n",
    "\n",
    "### assign and show\n",
    "plt_hist_assay = plt\n",
    "options(repr.plot.height=3*1, repr.plot.width=3*6)\n",
    "print(plt)"
   ]
  },
  {
   "cell_type": "code",
   "execution_count": 9,
   "id": "076f742c-d296-4cf3-999e-de0dc9ef76b5",
   "metadata": {},
   "outputs": [
    {
     "name": "stderr",
     "output_type": "stream",
     "text": [
      "Warning message:\n",
      "“\u001b[1m\u001b[22mRemoved 50 rows containing non-finite outside the scale range (`stat_bin()`).”\n",
      "Warning message:\n",
      "“\u001b[1m\u001b[22mRemoved 2 rows containing missing values or values outside the scale range\n",
      "(`geom_bar()`).”\n",
      "Warning message:\n",
      "“\u001b[1m\u001b[22mRemoved 50 rows containing non-finite outside the scale range (`stat_bin()`).”\n",
      "Warning message:\n",
      "“\u001b[1m\u001b[22mRemoved 2 rows containing missing values or values outside the scale range\n",
      "(`geom_bar()`).”\n",
      "Warning message:\n",
      "“\u001b[1m\u001b[22mRemoved 2 rows containing non-finite outside the scale range (`stat_bin()`).”\n",
      "Warning message:\n",
      "“\u001b[1m\u001b[22mRemoved 2 rows containing missing values or values outside the scale range\n",
      "(`geom_bar()`).”\n",
      "Warning message:\n",
      "“\u001b[1m\u001b[22mRemoved 14 rows containing non-finite outside the scale range (`stat_bin()`).”\n",
      "Warning message:\n",
      "“\u001b[1m\u001b[22mRemoved 2 rows containing missing values or values outside the scale range\n",
      "(`geom_bar()`).”\n",
      "Warning message:\n",
      "“\u001b[1m\u001b[22mRemoved 2 rows containing non-finite outside the scale range (`stat_bin()`).”\n",
      "Warning message:\n",
      "“\u001b[1m\u001b[22mRemoved 2 rows containing missing values or values outside the scale range\n",
      "(`geom_bar()`).”\n",
      "Warning message:\n",
      "“\u001b[1m\u001b[22mRemoved 18 rows containing non-finite outside the scale range (`stat_bin()`).”\n",
      "Warning message:\n",
      "“\u001b[1m\u001b[22mRemoved 2 rows containing missing values or values outside the scale range\n",
      "(`geom_bar()`).”\n"
     ]
    },
    {
     "data": {
      "image/png": "[encoded data removed]",
      "text/plain": [
       "plot without title"
      ]
     },
     "metadata": {
      "image/png": {
       "height": 180,
       "width": 1080
      }
     },
     "output_type": "display_data"
    }
   ],
   "source": [
    "### arrange plots\n",
    "lst = lst_gpt_hist_assay\n",
    "\n",
    "### generate plot\n",
    "plt = plot_grid(plotlist = lst, nrow = 1)\n",
    "\n",
    "### assign and show\n",
    "plt_hist_assay = plt\n",
    "options(repr.plot.height=3*1, repr.plot.width=3*6)\n",
    "print(plt)"
   ]
  },
  {
   "cell_type": "markdown",
   "id": "aa8dfe32-47f5-4982-85f5-c18328cffbc6",
   "metadata": {},
   "source": [
    "## Save plots"
   ]
  },
  {
   "cell_type": "markdown",
   "id": "e5661213-f5f8-4d03-b1c4-658334582ad5",
   "metadata": {},
   "source": [
    "**Save plot grid**"
   ]
  },
  {
   "cell_type": "code",
   "execution_count": 10,
   "id": "e2425cba-57fb-4550-bc29-d324d3620919",
   "metadata": {},
   "outputs": [],
   "source": [
    "plt_export = plt_hist_assay\n",
    "txt_export = \"fig.region_coverage_fcc.histogram.zscore.grid\"\n",
    "\n",
    "txt_fdiry = \"./\"\n",
    "txt_fname = paste(txt_export, \"png\", sep = \".\")\n",
    "txt_fpath = file.path(txt_fdiry, txt_fname)\n",
    "ggsave(txt_fpath, plt_export, height = 3*1, width = 3*6, units = \"in\")\n",
    "\n",
    "txt_fdiry = \"./\"\n",
    "txt_fname = paste(txt_export, \"svg\", sep = \".\")\n",
    "txt_fpath = file.path(txt_fdiry, txt_fname)\n",
    "ggsave(txt_fpath, plt_export, height = 3*1, width = 3*6, units = \"in\")"
   ]
  },
  {
   "cell_type": "markdown",
   "id": "8e42f5ce-3d78-417a-87aa-0011e430d5f2",
   "metadata": {},
   "source": [
    "**Save each plot**"
   ]
  },
  {
   "cell_type": "code",
   "execution_count": 11,
   "id": "6469acc2-3022-42a1-a10a-5c609b4e1467",
   "metadata": {},
   "outputs": [
    {
     "name": "stdout",
     "output_type": "stream",
     "text": [
      "ASTARR \n",
      "ASTARR \n",
      "\n",
      "WSTARR \n",
      "WSTARR \n",
      "\n",
      "TMPRA \n",
      "TMPRA \n",
      "\n",
      "LMPRA \n",
      "LMPRA \n",
      "\n",
      "CRISPRi-HCRFF \n",
      "CRISPRi_HCRFF \n",
      "\n",
      "CRISPRi-Growth \n",
      "CRISPRi_Growth \n",
      "\n"
     ]
    }
   ],
   "source": [
    "lst = lst_gpt_hist_assay\n",
    "for (idx in names(lst)){\n",
    "    ### get plot\n",
    "    txt = str_replace_all(idx, \"-\", \"_\")\n",
    "    gpt = lst[[idx]]\n",
    "    \n",
    "    ### show progress\n",
    "    cat(idx, \"\\n\")\n",
    "    cat(txt, \"\\n\")\n",
    "    cat(\"\\n\")\n",
    "\n",
    "    ### save plot\n",
    "    txt_fdiry = \".\"\n",
    "    txt_fname = paste0(\"fig.region_coverage_fcc.histogram.zscore.\", txt, \".png\")\n",
    "    txt_fpath = file.path(txt_fdiry, txt_fname)\n",
    "    \n",
    "    suppressWarnings(ggsave(txt_fpath, gpt, height = 3, width = 3, units = \"in\"))\n",
    "}"
   ]
  },
  {
   "cell_type": "code",
   "execution_count": null,
   "id": "1fad5616-2647-4d61-baaa-fe0cc9236193",
   "metadata": {},
   "outputs": [],
   "source": []
  }
 ],
 "metadata": {
  "kernelspec": {
   "display_name": "R",
   "language": "R",
   "name": "ir"
  },
  "language_info": {
   "codemirror_mode": "r",
   "file_extension": ".r",
   "mimetype": "text/x-r-source",
   "name": "R",
   "pygments_lexer": "r",
   "version": "4.5.1"
  }
 },
 "nbformat": 4,
 "nbformat_minor": 5
}
