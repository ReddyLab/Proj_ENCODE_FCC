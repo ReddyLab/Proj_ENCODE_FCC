{
 "cells": [
  {
   "cell_type": "raw",
   "id": "8e129e42-77fb-447b-ad7c-c04f135e0f17",
   "metadata": {},
   "source": [
    "---\n",
    "title: ...\n",
    "subtitle: combine ATAC, setup total, final, and share verion of table\n",
    "format:\n",
    "    html:\n",
    "        code-fold:  true\n",
    "        code-tools: true\n",
    "---"
   ]
  },
  {
   "cell_type": "markdown",
   "id": "f5835517-9c00-43e8-8133-f260a4c34f3d",
   "metadata": {},
   "source": [
    "**Set environment**"
   ]
  },
  {
   "cell_type": "code",
   "execution_count": 22,
   "id": "c1327e0d-8982-4c50-9ec8-92ba9512d7c1",
   "metadata": {},
   "outputs": [
    {
     "name": "stdout",
     "output_type": "stream",
     "text": [
      "You are working on        Singularity: singularity_proj_encode_fcc \n",
      "BASE DIRECTORY (FD_BASE): /data/reddylab/Kuei \n",
      "REPO DIRECTORY (FD_REPO): /data/reddylab/Kuei/repo \n",
      "WORK DIRECTORY (FD_WORK): /data/reddylab/Kuei/work \n",
      "DATA DIRECTORY (FD_DATA): /data/reddylab/Kuei/data \n",
      "\n",
      "You are working with      ENCODE FCC \n",
      "PATH OF PROJECT (FD_PRJ): /data/reddylab/Kuei/repo/Proj_ENCODE_FCC \n",
      "PROJECT RESULTS (FD_RES): /data/reddylab/Kuei/repo/Proj_ENCODE_FCC/results \n",
      "PROJECT SCRIPTS (FD_EXE): /data/reddylab/Kuei/repo/Proj_ENCODE_FCC/scripts \n",
      "PROJECT DATA    (FD_DAT): /data/reddylab/Kuei/repo/Proj_ENCODE_FCC/data \n",
      "PROJECT NOTE    (FD_NBK): /data/reddylab/Kuei/repo/Proj_ENCODE_FCC/notebooks \n",
      "PROJECT DOCS    (FD_DOC): /data/reddylab/Kuei/repo/Proj_ENCODE_FCC/docs \n",
      "PROJECT LOG     (FD_LOG): /data/reddylab/Kuei/repo/Proj_ENCODE_FCC/log \n",
      "PROJECT REF     (FD_REF): /data/reddylab/Kuei/repo/Proj_ENCODE_FCC/references \n",
      "\n"
     ]
    }
   ],
   "source": [
    "suppressMessages(suppressWarnings(source(\"../run_config_project_sing.R\")))\n",
    "library(pheatmap)\n",
    "show_env()"
   ]
  },
  {
   "cell_type": "markdown",
   "id": "3bbcf9c6-4aa0-42bc-ac8f-4a71e7263220",
   "metadata": {},
   "source": [
    "**Set global variables**"
   ]
  },
  {
   "cell_type": "code",
   "execution_count": 2,
   "id": "4bbb237d-c7ee-4ccf-b558-db49c0995e9b",
   "metadata": {},
   "outputs": [
    {
     "name": "stdout",
     "output_type": "stream",
     "text": [
      "atac_ENCFF333TAT \n",
      "atac_ENCFF558BLC \n",
      "atac_ENCFF925CYR \n",
      "atac_ENCFF948AFM \n",
      "dnase_ENCFF185XRG \n",
      "dnase_ENCFF274YGF \n",
      "fcc_astarr_macs_input_overlap \n",
      "fcc_astarr_macs_input_union \n"
     ]
    }
   ],
   "source": [
    "txt_fdiry = file.path(FD_RES, \"region_coverage_fcc\")\n",
    "vec = dir(txt_fdiry)\n",
    "for (txt in vec) {cat(txt, \"\\n\")}"
   ]
  },
  {
   "cell_type": "code",
   "execution_count": 3,
   "id": "4c68e9ba-ce33-47cf-b73d-3bfb23f1a443",
   "metadata": {},
   "outputs": [
    {
     "name": "stdout",
     "output_type": "stream",
     "text": [
      "CRISPRi_FlowFISH_K562_Riley_JinWoo \n",
      "CRISPRi_Growth_K562_Gersbach_JinWoo \n",
      "MPRA_Lenti_K562_Nadav_Vikram \n",
      "MPRA_Tiling_K562_Tewhey_Hannah \n",
      "STARR_ATAC_K562_Reddy_KS274 \n",
      "STARR_ATAC_K562_Reddy_KS91 \n",
      "STARR_ATAC_K562_Reddy_KSMerge \n",
      "STARR_WHG_K562_Reddy_A001 \n",
      "summary \n"
     ]
    }
   ],
   "source": [
    "txt_region = \"fcc_astarr_macs_input_union\"\n",
    "txt_fdiry  = file.path(FD_RES, \"region_coverage_fcc\", txt_region)\n",
    "vec = dir(txt_fdiry)\n",
    "for (txt in vec) {cat(txt, \"\\n\")}"
   ]
  },
  {
   "cell_type": "code",
   "execution_count": 4,
   "id": "d3a284a0-93a7-4b17-8d67-20fef8c1a157",
   "metadata": {},
   "outputs": [
    {
     "name": "stdout",
     "output_type": "stream",
     "text": [
      "fcc_astarr_macs_input_overlap \n",
      "fcc_astarr_macs_input_union \n"
     ]
    }
   ],
   "source": [
    "#txt_fdiry = file.path(FD_RES, \"region_coverage_fcc\")\n",
    "#vec = dir(txt_fdiry)\n",
    "vec = c(\"fcc_astarr_macs_input_overlap\", \"fcc_astarr_macs_input_union\")\n",
    "names(vec) = vec\n",
    "\n",
    "VEC_TXT_REGION = vec\n",
    "for (txt in vec) {cat(txt, \"\\n\")}"
   ]
  },
  {
   "cell_type": "markdown",
   "id": "fbaeef82-0910-44d5-8c47-caca5590e689",
   "metadata": {},
   "source": [
    "## Import data"
   ]
  },
  {
   "cell_type": "code",
   "execution_count": 5,
   "id": "4794e7ae-531b-4973-a6e3-9628c5684733",
   "metadata": {},
   "outputs": [
    {
     "name": "stdout",
     "output_type": "stream",
     "text": [
      "$fcc_astarr_macs_input_overlap\n",
      "[1] 432603      9\n",
      "\n",
      "$fcc_astarr_macs_input_union\n",
      "[1] 639302      9\n",
      "\n"
     ]
    },
    {
     "data": {
      "text/html": [
       "<table class=\"dataframe\">\n",
       "<caption>A tibble: 3 × 9</caption>\n",
       "<thead>\n",
       "\t<tr><th scope=col>Chrom</th><th scope=col>ChromStart</th><th scope=col>ChromEnd</th><th scope=col>Region</th><th scope=col>Score</th><th scope=col>Assay_Name</th><th scope=col>Assay_Type</th><th scope=col>Assay_Group</th><th scope=col>Assay_Label</th></tr>\n",
       "\t<tr><th scope=col>&lt;chr&gt;</th><th scope=col>&lt;dbl&gt;</th><th scope=col>&lt;dbl&gt;</th><th scope=col>&lt;chr&gt;</th><th scope=col>&lt;dbl&gt;</th><th scope=col>&lt;chr&gt;</th><th scope=col>&lt;chr&gt;</th><th scope=col>&lt;chr&gt;</th><th scope=col>&lt;chr&gt;</th></tr>\n",
       "</thead>\n",
       "<tbody>\n",
       "\t<tr><td>chr11</td><td>4092109</td><td>4092511</td><td>chr11:4092109-4092511</td><td>-0.4446170</td><td>CRISPRi_FlowFISH_K562_Riley_JinWoo</td><td>CRISPRi-HCRFF</td><td>CRISPRi-HCRFF</td><td>CRISPRi-HCR FlowFISH</td></tr>\n",
       "\t<tr><td>chr11</td><td>4094223</td><td>4095304</td><td>chr11:4094223-4095304</td><td>-0.2302549</td><td>CRISPRi_FlowFISH_K562_Riley_JinWoo</td><td>CRISPRi-HCRFF</td><td>CRISPRi-HCRFF</td><td>CRISPRi-HCR FlowFISH</td></tr>\n",
       "\t<tr><td>chr11</td><td>4144721</td><td>4147004</td><td>chr11:4144721-4147004</td><td>-0.2878661</td><td>CRISPRi_FlowFISH_K562_Riley_JinWoo</td><td>CRISPRi-HCRFF</td><td>CRISPRi-HCRFF</td><td>CRISPRi-HCR FlowFISH</td></tr>\n",
       "</tbody>\n",
       "</table>\n"
      ],
      "text/latex": [
       "A tibble: 3 × 9\n",
       "\\begin{tabular}{lllllllll}\n",
       " Chrom & ChromStart & ChromEnd & Region & Score & Assay\\_Name & Assay\\_Type & Assay\\_Group & Assay\\_Label\\\\\n",
       " <chr> & <dbl> & <dbl> & <chr> & <dbl> & <chr> & <chr> & <chr> & <chr>\\\\\n",
       "\\hline\n",
       "\t chr11 & 4092109 & 4092511 & chr11:4092109-4092511 & -0.4446170 & CRISPRi\\_FlowFISH\\_K562\\_Riley\\_JinWoo & CRISPRi-HCRFF & CRISPRi-HCRFF & CRISPRi-HCR FlowFISH\\\\\n",
       "\t chr11 & 4094223 & 4095304 & chr11:4094223-4095304 & -0.2302549 & CRISPRi\\_FlowFISH\\_K562\\_Riley\\_JinWoo & CRISPRi-HCRFF & CRISPRi-HCRFF & CRISPRi-HCR FlowFISH\\\\\n",
       "\t chr11 & 4144721 & 4147004 & chr11:4144721-4147004 & -0.2878661 & CRISPRi\\_FlowFISH\\_K562\\_Riley\\_JinWoo & CRISPRi-HCRFF & CRISPRi-HCRFF & CRISPRi-HCR FlowFISH\\\\\n",
       "\\end{tabular}\n"
      ],
      "text/markdown": [
       "\n",
       "A tibble: 3 × 9\n",
       "\n",
       "| Chrom &lt;chr&gt; | ChromStart &lt;dbl&gt; | ChromEnd &lt;dbl&gt; | Region &lt;chr&gt; | Score &lt;dbl&gt; | Assay_Name &lt;chr&gt; | Assay_Type &lt;chr&gt; | Assay_Group &lt;chr&gt; | Assay_Label &lt;chr&gt; |\n",
       "|---|---|---|---|---|---|---|---|---|\n",
       "| chr11 | 4092109 | 4092511 | chr11:4092109-4092511 | -0.4446170 | CRISPRi_FlowFISH_K562_Riley_JinWoo | CRISPRi-HCRFF | CRISPRi-HCRFF | CRISPRi-HCR FlowFISH |\n",
       "| chr11 | 4094223 | 4095304 | chr11:4094223-4095304 | -0.2302549 | CRISPRi_FlowFISH_K562_Riley_JinWoo | CRISPRi-HCRFF | CRISPRi-HCRFF | CRISPRi-HCR FlowFISH |\n",
       "| chr11 | 4144721 | 4147004 | chr11:4144721-4147004 | -0.2878661 | CRISPRi_FlowFISH_K562_Riley_JinWoo | CRISPRi-HCRFF | CRISPRi-HCRFF | CRISPRi-HCR FlowFISH |\n",
       "\n"
      ],
      "text/plain": [
       "  Chrom ChromStart ChromEnd Region                Score     \n",
       "1 chr11 4092109    4092511  chr11:4092109-4092511 -0.4446170\n",
       "2 chr11 4094223    4095304  chr11:4094223-4095304 -0.2302549\n",
       "3 chr11 4144721    4147004  chr11:4144721-4147004 -0.2878661\n",
       "  Assay_Name                         Assay_Type    Assay_Group  \n",
       "1 CRISPRi_FlowFISH_K562_Riley_JinWoo CRISPRi-HCRFF CRISPRi-HCRFF\n",
       "2 CRISPRi_FlowFISH_K562_Riley_JinWoo CRISPRi-HCRFF CRISPRi-HCRFF\n",
       "3 CRISPRi_FlowFISH_K562_Riley_JinWoo CRISPRi-HCRFF CRISPRi-HCRFF\n",
       "  Assay_Label         \n",
       "1 CRISPRi-HCR FlowFISH\n",
       "2 CRISPRi-HCR FlowFISH\n",
       "3 CRISPRi-HCR FlowFISH"
      ]
     },
     "metadata": {},
     "output_type": "display_data"
    }
   ],
   "source": [
    "lst = lapply(VEC_TXT_REGION, function(txt_region){\n",
    "    ### set file directory\n",
    "    txt_fdiry  = file.path(\n",
    "        FD_RES, \n",
    "        \"region_coverage_fcc\", \n",
    "        txt_region, \n",
    "        \"summary\"\n",
    "    )\n",
    "    txt_fname = \"result.coverage.score.final.tsv\"\n",
    "    txt_fpath = file.path(txt_fdiry, txt_fname)\n",
    "\n",
    "    ### read table\n",
    "    dat = read_tsv(txt_fpath, show_col_types = FALSE)\n",
    "    return(dat)\n",
    "})\n",
    "\n",
    "### assign and show\n",
    "lst_dat_region_score_import = lst\n",
    "\n",
    "res = lapply(lst, dim)\n",
    "print(res)\n",
    "\n",
    "dat = lst[[1]]\n",
    "head(dat, 3)"
   ]
  },
  {
   "cell_type": "markdown",
   "id": "979cdbc3-34d5-46dc-844b-44203fcc3f3f",
   "metadata": {},
   "source": [
    "## Arrange table"
   ]
  },
  {
   "cell_type": "code",
   "execution_count": 6,
   "id": "d3575904-260d-4b9e-b754-0740a5a13e98",
   "metadata": {},
   "outputs": [
    {
     "data": {
      "text/html": [
       "<table>\n",
       " <thead>\n",
       "  <tr>\n",
       "   <th style=\"text-align:left;\"> Chrom </th>\n",
       "   <th style=\"text-align:right;\"> ChromStart </th>\n",
       "   <th style=\"text-align:right;\"> ChromEnd </th>\n",
       "   <th style=\"text-align:left;\"> Region </th>\n",
       "   <th style=\"text-align:right;\"> Score </th>\n",
       "   <th style=\"text-align:left;\"> Assay_Name </th>\n",
       "   <th style=\"text-align:left;\"> Assay_Type </th>\n",
       "   <th style=\"text-align:left;\"> Assay_Group </th>\n",
       "   <th style=\"text-align:left;\"> Assay_Label </th>\n",
       "  </tr>\n",
       " </thead>\n",
       "<tbody>\n",
       "  <tr>\n",
       "   <td style=\"text-align:left;\"> chr11 </td>\n",
       "   <td style=\"text-align:right;\"> 4092104 </td>\n",
       "   <td style=\"text-align:right;\"> 4092566 </td>\n",
       "   <td style=\"text-align:left;\"> chr11:4092104-4092566 </td>\n",
       "   <td style=\"text-align:right;\"> -0.4800155 </td>\n",
       "   <td style=\"text-align:left;\"> CRISPRi_FlowFISH_K562_Riley_JinWoo </td>\n",
       "   <td style=\"text-align:left;\"> CRISPRi-HCRFF </td>\n",
       "   <td style=\"text-align:left;\"> CRISPRi-HCRFF </td>\n",
       "   <td style=\"text-align:left;\"> CRISPRi-HCR FlowFISH </td>\n",
       "  </tr>\n",
       "  <tr>\n",
       "   <td style=\"text-align:left;\"> chr11 </td>\n",
       "   <td style=\"text-align:right;\"> 4094204 </td>\n",
       "   <td style=\"text-align:right;\"> 4095676 </td>\n",
       "   <td style=\"text-align:left;\"> chr11:4094204-4095676 </td>\n",
       "   <td style=\"text-align:right;\"> -0.2046389 </td>\n",
       "   <td style=\"text-align:left;\"> CRISPRi_FlowFISH_K562_Riley_JinWoo </td>\n",
       "   <td style=\"text-align:left;\"> CRISPRi-HCRFF </td>\n",
       "   <td style=\"text-align:left;\"> CRISPRi-HCRFF </td>\n",
       "   <td style=\"text-align:left;\"> CRISPRi-HCR FlowFISH </td>\n",
       "  </tr>\n",
       "  <tr>\n",
       "   <td style=\"text-align:left;\"> chr11 </td>\n",
       "   <td style=\"text-align:right;\"> 4144511 </td>\n",
       "   <td style=\"text-align:right;\"> 4147030 </td>\n",
       "   <td style=\"text-align:left;\"> chr11:4144511-4147030 </td>\n",
       "   <td style=\"text-align:right;\"> -0.2753264 </td>\n",
       "   <td style=\"text-align:left;\"> CRISPRi_FlowFISH_K562_Riley_JinWoo </td>\n",
       "   <td style=\"text-align:left;\"> CRISPRi-HCRFF </td>\n",
       "   <td style=\"text-align:left;\"> CRISPRi-HCRFF </td>\n",
       "   <td style=\"text-align:left;\"> CRISPRi-HCR FlowFISH </td>\n",
       "  </tr>\n",
       "</tbody>\n",
       "</table>"
      ]
     },
     "metadata": {},
     "output_type": "display_data"
    }
   ],
   "source": [
    "txt = \"fcc_astarr_macs_input_union\"\n",
    "lst = lst_dat_region_score_import\n",
    "dat = lst[[txt]]\n",
    "dat_region_score_import = dat\n",
    "fun_display_table(head(dat, 3))"
   ]
  },
  {
   "cell_type": "code",
   "execution_count": 8,
   "id": "08621c38-a510-4f84-a5ca-d878b9336c68",
   "metadata": {},
   "outputs": [
    {
     "name": "stdout",
     "output_type": "stream",
     "text": [
      "[1] 639302      2\n"
     ]
    },
    {
     "data": {
      "text/html": [
       "<table>\n",
       " <thead>\n",
       "  <tr>\n",
       "   <th style=\"text-align:left;\"> Region </th>\n",
       "   <th style=\"text-align:left;\"> Assay_Type </th>\n",
       "  </tr>\n",
       " </thead>\n",
       "<tbody>\n",
       "  <tr>\n",
       "   <td style=\"text-align:left;\"> chr11:4092104-4092566 </td>\n",
       "   <td style=\"text-align:left;\"> CRISPRi-HCRFF </td>\n",
       "  </tr>\n",
       "  <tr>\n",
       "   <td style=\"text-align:left;\"> chr11:4094204-4095676 </td>\n",
       "   <td style=\"text-align:left;\"> CRISPRi-HCRFF </td>\n",
       "  </tr>\n",
       "  <tr>\n",
       "   <td style=\"text-align:left;\"> chr11:4144511-4147030 </td>\n",
       "   <td style=\"text-align:left;\"> CRISPRi-HCRFF </td>\n",
       "  </tr>\n",
       "</tbody>\n",
       "</table>"
      ]
     },
     "metadata": {},
     "output_type": "display_data"
    }
   ],
   "source": [
    "dat = dat_region_score_import\n",
    "dat = dat %>% dplyr::select(Region, Assay_Type) %>% dplyr::distinct()\n",
    "\n",
    "dat_region_score_arrange = dat\n",
    "print(dim(dat))\n",
    "fun_display_table(head(dat, 3))"
   ]
  },
  {
   "cell_type": "markdown",
   "id": "d1c0608c-a6be-4e5d-bbd2-588809a0685b",
   "metadata": {},
   "source": [
    "## Calculate coverage similarity"
   ]
  },
  {
   "cell_type": "code",
   "execution_count": 9,
   "id": "4899f6ef-baf3-4cd6-abde-c07aabc3f426",
   "metadata": {},
   "outputs": [
    {
     "data": {
      "text/plain": [
       "\n",
       "        ASTARR CRISPRi-Growth  CRISPRi-HCRFF          LMPRA          TMPRA \n",
       "        246850          80288           1330          68497           1306 \n",
       "        WSTARR \n",
       "        241031 "
      ]
     },
     "metadata": {},
     "output_type": "display_data"
    },
    {
     "name": "stdout",
     "output_type": "stream",
     "text": [
      "[1] \"ASTARR\"         \"CRISPRi-Growth\" \"CRISPRi-HCRFF\"  \"LMPRA\"         \n",
      "[5] \"TMPRA\"          \"WSTARR\"        \n"
     ]
    }
   ],
   "source": [
    "dat = dat_region_score_arrange\n",
    "lst = split(dat$Region, dat$Assay_Type)\n",
    "\n",
    "lst_vec_txt_region = lst\n",
    "table(dat$Assay_Type)\n",
    "print(names(lst))"
   ]
  },
  {
   "cell_type": "code",
   "execution_count": 14,
   "id": "e967a270-d8b9-4b64-ba63-677b0f170d9a",
   "metadata": {},
   "outputs": [],
   "source": [
    "fun_jaccard = function(vec1, vec2){\n",
    "    num_size1 = length(vec1)\n",
    "    num_size2 = length(vec2)\n",
    "    num_size_inter = length(intersect(vec1, vec2))\n",
    "    num_size_union = length(union(vec1, vec2))\n",
    "    num_sim_jaccard = num_size_inter / num_size_union\n",
    "    num_sim_overlap = num_size_inter / min(num_size1, num_size2)\n",
    "\n",
    "    ###\n",
    "    dat = data.frame(\n",
    "        \"Intersect\" = num_size_inter,\n",
    "        \"Union\"     = num_size_union,\n",
    "        \"Jaccard\"   = num_sim_jaccard,\n",
    "        \"Overlap\"   = num_sim_overlap\n",
    "    )\n",
    "    return(dat)\n",
    "}"
   ]
  },
  {
   "cell_type": "code",
   "execution_count": 15,
   "id": "a8547fc0-282e-4125-a830-706c9113a702",
   "metadata": {},
   "outputs": [
    {
     "data": {
      "text/html": [
       "<table class=\"dataframe\">\n",
       "<caption>A data.frame: 36 × 2</caption>\n",
       "<thead>\n",
       "\t<tr><th scope=col>Var1</th><th scope=col>Var2</th></tr>\n",
       "\t<tr><th scope=col>&lt;fct&gt;</th><th scope=col>&lt;fct&gt;</th></tr>\n",
       "</thead>\n",
       "<tbody>\n",
       "\t<tr><td>ASTARR        </td><td>ASTARR        </td></tr>\n",
       "\t<tr><td>CRISPRi-Growth</td><td>ASTARR        </td></tr>\n",
       "\t<tr><td>CRISPRi-HCRFF </td><td>ASTARR        </td></tr>\n",
       "\t<tr><td>LMPRA         </td><td>ASTARR        </td></tr>\n",
       "\t<tr><td>TMPRA         </td><td>ASTARR        </td></tr>\n",
       "\t<tr><td>WSTARR        </td><td>ASTARR        </td></tr>\n",
       "\t<tr><td>ASTARR        </td><td>CRISPRi-Growth</td></tr>\n",
       "\t<tr><td>CRISPRi-Growth</td><td>CRISPRi-Growth</td></tr>\n",
       "\t<tr><td>CRISPRi-HCRFF </td><td>CRISPRi-Growth</td></tr>\n",
       "\t<tr><td>LMPRA         </td><td>CRISPRi-Growth</td></tr>\n",
       "\t<tr><td>TMPRA         </td><td>CRISPRi-Growth</td></tr>\n",
       "\t<tr><td>WSTARR        </td><td>CRISPRi-Growth</td></tr>\n",
       "\t<tr><td>ASTARR        </td><td>CRISPRi-HCRFF </td></tr>\n",
       "\t<tr><td>CRISPRi-Growth</td><td>CRISPRi-HCRFF </td></tr>\n",
       "\t<tr><td>CRISPRi-HCRFF </td><td>CRISPRi-HCRFF </td></tr>\n",
       "\t<tr><td>LMPRA         </td><td>CRISPRi-HCRFF </td></tr>\n",
       "\t<tr><td>TMPRA         </td><td>CRISPRi-HCRFF </td></tr>\n",
       "\t<tr><td>WSTARR        </td><td>CRISPRi-HCRFF </td></tr>\n",
       "\t<tr><td>ASTARR        </td><td>LMPRA         </td></tr>\n",
       "\t<tr><td>CRISPRi-Growth</td><td>LMPRA         </td></tr>\n",
       "\t<tr><td>CRISPRi-HCRFF </td><td>LMPRA         </td></tr>\n",
       "\t<tr><td>LMPRA         </td><td>LMPRA         </td></tr>\n",
       "\t<tr><td>TMPRA         </td><td>LMPRA         </td></tr>\n",
       "\t<tr><td>WSTARR        </td><td>LMPRA         </td></tr>\n",
       "\t<tr><td>ASTARR        </td><td>TMPRA         </td></tr>\n",
       "\t<tr><td>CRISPRi-Growth</td><td>TMPRA         </td></tr>\n",
       "\t<tr><td>CRISPRi-HCRFF </td><td>TMPRA         </td></tr>\n",
       "\t<tr><td>LMPRA         </td><td>TMPRA         </td></tr>\n",
       "\t<tr><td>TMPRA         </td><td>TMPRA         </td></tr>\n",
       "\t<tr><td>WSTARR        </td><td>TMPRA         </td></tr>\n",
       "\t<tr><td>ASTARR        </td><td>WSTARR        </td></tr>\n",
       "\t<tr><td>CRISPRi-Growth</td><td>WSTARR        </td></tr>\n",
       "\t<tr><td>CRISPRi-HCRFF </td><td>WSTARR        </td></tr>\n",
       "\t<tr><td>LMPRA         </td><td>WSTARR        </td></tr>\n",
       "\t<tr><td>TMPRA         </td><td>WSTARR        </td></tr>\n",
       "\t<tr><td>WSTARR        </td><td>WSTARR        </td></tr>\n",
       "</tbody>\n",
       "</table>\n"
      ],
      "text/latex": [
       "A data.frame: 36 × 2\n",
       "\\begin{tabular}{ll}\n",
       " Var1 & Var2\\\\\n",
       " <fct> & <fct>\\\\\n",
       "\\hline\n",
       "\t ASTARR         & ASTARR        \\\\\n",
       "\t CRISPRi-Growth & ASTARR        \\\\\n",
       "\t CRISPRi-HCRFF  & ASTARR        \\\\\n",
       "\t LMPRA          & ASTARR        \\\\\n",
       "\t TMPRA          & ASTARR        \\\\\n",
       "\t WSTARR         & ASTARR        \\\\\n",
       "\t ASTARR         & CRISPRi-Growth\\\\\n",
       "\t CRISPRi-Growth & CRISPRi-Growth\\\\\n",
       "\t CRISPRi-HCRFF  & CRISPRi-Growth\\\\\n",
       "\t LMPRA          & CRISPRi-Growth\\\\\n",
       "\t TMPRA          & CRISPRi-Growth\\\\\n",
       "\t WSTARR         & CRISPRi-Growth\\\\\n",
       "\t ASTARR         & CRISPRi-HCRFF \\\\\n",
       "\t CRISPRi-Growth & CRISPRi-HCRFF \\\\\n",
       "\t CRISPRi-HCRFF  & CRISPRi-HCRFF \\\\\n",
       "\t LMPRA          & CRISPRi-HCRFF \\\\\n",
       "\t TMPRA          & CRISPRi-HCRFF \\\\\n",
       "\t WSTARR         & CRISPRi-HCRFF \\\\\n",
       "\t ASTARR         & LMPRA         \\\\\n",
       "\t CRISPRi-Growth & LMPRA         \\\\\n",
       "\t CRISPRi-HCRFF  & LMPRA         \\\\\n",
       "\t LMPRA          & LMPRA         \\\\\n",
       "\t TMPRA          & LMPRA         \\\\\n",
       "\t WSTARR         & LMPRA         \\\\\n",
       "\t ASTARR         & TMPRA         \\\\\n",
       "\t CRISPRi-Growth & TMPRA         \\\\\n",
       "\t CRISPRi-HCRFF  & TMPRA         \\\\\n",
       "\t LMPRA          & TMPRA         \\\\\n",
       "\t TMPRA          & TMPRA         \\\\\n",
       "\t WSTARR         & TMPRA         \\\\\n",
       "\t ASTARR         & WSTARR        \\\\\n",
       "\t CRISPRi-Growth & WSTARR        \\\\\n",
       "\t CRISPRi-HCRFF  & WSTARR        \\\\\n",
       "\t LMPRA          & WSTARR        \\\\\n",
       "\t TMPRA          & WSTARR        \\\\\n",
       "\t WSTARR         & WSTARR        \\\\\n",
       "\\end{tabular}\n"
      ],
      "text/markdown": [
       "\n",
       "A data.frame: 36 × 2\n",
       "\n",
       "| Var1 &lt;fct&gt; | Var2 &lt;fct&gt; |\n",
       "|---|---|\n",
       "| ASTARR         | ASTARR         |\n",
       "| CRISPRi-Growth | ASTARR         |\n",
       "| CRISPRi-HCRFF  | ASTARR         |\n",
       "| LMPRA          | ASTARR         |\n",
       "| TMPRA          | ASTARR         |\n",
       "| WSTARR         | ASTARR         |\n",
       "| ASTARR         | CRISPRi-Growth |\n",
       "| CRISPRi-Growth | CRISPRi-Growth |\n",
       "| CRISPRi-HCRFF  | CRISPRi-Growth |\n",
       "| LMPRA          | CRISPRi-Growth |\n",
       "| TMPRA          | CRISPRi-Growth |\n",
       "| WSTARR         | CRISPRi-Growth |\n",
       "| ASTARR         | CRISPRi-HCRFF  |\n",
       "| CRISPRi-Growth | CRISPRi-HCRFF  |\n",
       "| CRISPRi-HCRFF  | CRISPRi-HCRFF  |\n",
       "| LMPRA          | CRISPRi-HCRFF  |\n",
       "| TMPRA          | CRISPRi-HCRFF  |\n",
       "| WSTARR         | CRISPRi-HCRFF  |\n",
       "| ASTARR         | LMPRA          |\n",
       "| CRISPRi-Growth | LMPRA          |\n",
       "| CRISPRi-HCRFF  | LMPRA          |\n",
       "| LMPRA          | LMPRA          |\n",
       "| TMPRA          | LMPRA          |\n",
       "| WSTARR         | LMPRA          |\n",
       "| ASTARR         | TMPRA          |\n",
       "| CRISPRi-Growth | TMPRA          |\n",
       "| CRISPRi-HCRFF  | TMPRA          |\n",
       "| LMPRA          | TMPRA          |\n",
       "| TMPRA          | TMPRA          |\n",
       "| WSTARR         | TMPRA          |\n",
       "| ASTARR         | WSTARR         |\n",
       "| CRISPRi-Growth | WSTARR         |\n",
       "| CRISPRi-HCRFF  | WSTARR         |\n",
       "| LMPRA          | WSTARR         |\n",
       "| TMPRA          | WSTARR         |\n",
       "| WSTARR         | WSTARR         |\n",
       "\n"
      ],
      "text/plain": [
       "   Var1           Var2          \n",
       "1  ASTARR         ASTARR        \n",
       "2  CRISPRi-Growth ASTARR        \n",
       "3  CRISPRi-HCRFF  ASTARR        \n",
       "4  LMPRA          ASTARR        \n",
       "5  TMPRA          ASTARR        \n",
       "6  WSTARR         ASTARR        \n",
       "7  ASTARR         CRISPRi-Growth\n",
       "8  CRISPRi-Growth CRISPRi-Growth\n",
       "9  CRISPRi-HCRFF  CRISPRi-Growth\n",
       "10 LMPRA          CRISPRi-Growth\n",
       "11 TMPRA          CRISPRi-Growth\n",
       "12 WSTARR         CRISPRi-Growth\n",
       "13 ASTARR         CRISPRi-HCRFF \n",
       "14 CRISPRi-Growth CRISPRi-HCRFF \n",
       "15 CRISPRi-HCRFF  CRISPRi-HCRFF \n",
       "16 LMPRA          CRISPRi-HCRFF \n",
       "17 TMPRA          CRISPRi-HCRFF \n",
       "18 WSTARR         CRISPRi-HCRFF \n",
       "19 ASTARR         LMPRA         \n",
       "20 CRISPRi-Growth LMPRA         \n",
       "21 CRISPRi-HCRFF  LMPRA         \n",
       "22 LMPRA          LMPRA         \n",
       "23 TMPRA          LMPRA         \n",
       "24 WSTARR         LMPRA         \n",
       "25 ASTARR         TMPRA         \n",
       "26 CRISPRi-Growth TMPRA         \n",
       "27 CRISPRi-HCRFF  TMPRA         \n",
       "28 LMPRA          TMPRA         \n",
       "29 TMPRA          TMPRA         \n",
       "30 WSTARR         TMPRA         \n",
       "31 ASTARR         WSTARR        \n",
       "32 CRISPRi-Growth WSTARR        \n",
       "33 CRISPRi-HCRFF  WSTARR        \n",
       "34 LMPRA          WSTARR        \n",
       "35 TMPRA          WSTARR        \n",
       "36 WSTARR         WSTARR        "
      ]
     },
     "metadata": {},
     "output_type": "display_data"
    }
   ],
   "source": [
    "lst = lst_vec_txt_region\n",
    "vec = names(lst)\n",
    "dat = expand.grid(vec, vec)\n",
    "dat"
   ]
  },
  {
   "cell_type": "code",
   "execution_count": 17,
   "id": "34778702-7272-482d-9ca5-c5c27d9e7305",
   "metadata": {},
   "outputs": [
    {
     "name": "stdout",
     "output_type": "stream",
     "text": [
      "[1] 36  6\n"
     ]
    },
    {
     "data": {
      "text/html": [
       "<table class=\"dataframe\">\n",
       "<caption>A data.frame: 6 × 6</caption>\n",
       "<thead>\n",
       "\t<tr><th></th><th scope=col>Intersect</th><th scope=col>Union</th><th scope=col>Jaccard</th><th scope=col>Overlap</th><th scope=col>Assay1</th><th scope=col>Assay2</th></tr>\n",
       "\t<tr><th></th><th scope=col>&lt;int&gt;</th><th scope=col>&lt;int&gt;</th><th scope=col>&lt;dbl&gt;</th><th scope=col>&lt;dbl&gt;</th><th scope=col>&lt;chr&gt;</th><th scope=col>&lt;chr&gt;</th></tr>\n",
       "</thead>\n",
       "<tbody>\n",
       "\t<tr><th scope=row>1</th><td>246850</td><td>246850</td><td>1.000000000</td><td>1.0000000</td><td>ASTARR        </td><td>ASTARR</td></tr>\n",
       "\t<tr><th scope=row>2</th><td> 80288</td><td>246850</td><td>0.325250152</td><td>1.0000000</td><td>CRISPRi-Growth</td><td>ASTARR</td></tr>\n",
       "\t<tr><th scope=row>3</th><td>  1330</td><td>246850</td><td>0.005387887</td><td>1.0000000</td><td>CRISPRi-HCRFF </td><td>ASTARR</td></tr>\n",
       "\t<tr><th scope=row>4</th><td> 68497</td><td>246850</td><td>0.277484302</td><td>1.0000000</td><td>LMPRA         </td><td>ASTARR</td></tr>\n",
       "\t<tr><th scope=row>5</th><td>  1306</td><td>246850</td><td>0.005290662</td><td>1.0000000</td><td>TMPRA         </td><td>ASTARR</td></tr>\n",
       "\t<tr><th scope=row>6</th><td>241030</td><td>246851</td><td>0.976418973</td><td>0.9999959</td><td>WSTARR        </td><td>ASTARR</td></tr>\n",
       "</tbody>\n",
       "</table>\n"
      ],
      "text/latex": [
       "A data.frame: 6 × 6\n",
       "\\begin{tabular}{r|llllll}\n",
       "  & Intersect & Union & Jaccard & Overlap & Assay1 & Assay2\\\\\n",
       "  & <int> & <int> & <dbl> & <dbl> & <chr> & <chr>\\\\\n",
       "\\hline\n",
       "\t1 & 246850 & 246850 & 1.000000000 & 1.0000000 & ASTARR         & ASTARR\\\\\n",
       "\t2 &  80288 & 246850 & 0.325250152 & 1.0000000 & CRISPRi-Growth & ASTARR\\\\\n",
       "\t3 &   1330 & 246850 & 0.005387887 & 1.0000000 & CRISPRi-HCRFF  & ASTARR\\\\\n",
       "\t4 &  68497 & 246850 & 0.277484302 & 1.0000000 & LMPRA          & ASTARR\\\\\n",
       "\t5 &   1306 & 246850 & 0.005290662 & 1.0000000 & TMPRA          & ASTARR\\\\\n",
       "\t6 & 241030 & 246851 & 0.976418973 & 0.9999959 & WSTARR         & ASTARR\\\\\n",
       "\\end{tabular}\n"
      ],
      "text/markdown": [
       "\n",
       "A data.frame: 6 × 6\n",
       "\n",
       "| <!--/--> | Intersect &lt;int&gt; | Union &lt;int&gt; | Jaccard &lt;dbl&gt; | Overlap &lt;dbl&gt; | Assay1 &lt;chr&gt; | Assay2 &lt;chr&gt; |\n",
       "|---|---|---|---|---|---|---|\n",
       "| 1 | 246850 | 246850 | 1.000000000 | 1.0000000 | ASTARR         | ASTARR |\n",
       "| 2 |  80288 | 246850 | 0.325250152 | 1.0000000 | CRISPRi-Growth | ASTARR |\n",
       "| 3 |   1330 | 246850 | 0.005387887 | 1.0000000 | CRISPRi-HCRFF  | ASTARR |\n",
       "| 4 |  68497 | 246850 | 0.277484302 | 1.0000000 | LMPRA          | ASTARR |\n",
       "| 5 |   1306 | 246850 | 0.005290662 | 1.0000000 | TMPRA          | ASTARR |\n",
       "| 6 | 241030 | 246851 | 0.976418973 | 0.9999959 | WSTARR         | ASTARR |\n",
       "\n"
      ],
      "text/plain": [
       "  Intersect Union  Jaccard     Overlap   Assay1         Assay2\n",
       "1 246850    246850 1.000000000 1.0000000 ASTARR         ASTARR\n",
       "2  80288    246850 0.325250152 1.0000000 CRISPRi-Growth ASTARR\n",
       "3   1330    246850 0.005387887 1.0000000 CRISPRi-HCRFF  ASTARR\n",
       "4  68497    246850 0.277484302 1.0000000 LMPRA          ASTARR\n",
       "5   1306    246850 0.005290662 1.0000000 TMPRA          ASTARR\n",
       "6 241030    246851 0.976418973 0.9999959 WSTARR         ASTARR"
      ]
     },
     "metadata": {},
     "output_type": "display_data"
    }
   ],
   "source": [
    "lst = lst_vec_txt_region\n",
    "vec = names(lst)\n",
    "tmp = expand.grid(vec, vec) %>% t %>% as.data.frame\n",
    "lst = lapply(tmp, function(vec){\n",
    "    txt1 = vec[1]\n",
    "    txt2 = vec[2]\n",
    "    vec1 = lst[[txt1]]\n",
    "    vec2 = lst[[txt2]]\n",
    "    \n",
    "    dat = fun_jaccard(vec1, vec2)\n",
    "    dat$Assay1 = txt1\n",
    "    dat$Assay2 = txt2\n",
    "    return(dat)\n",
    "})\n",
    "dat = bind_rows(lst)\n",
    "\n",
    "### assign and show\n",
    "dat_summary = dat\n",
    "print(dim(dat))\n",
    "head(dat)"
   ]
  },
  {
   "cell_type": "code",
   "execution_count": 18,
   "id": "d52549b7-cce9-4119-9e83-ddf0f10e29b3",
   "metadata": {},
   "outputs": [
    {
     "data": {
      "text/html": [
       "<table class=\"dataframe\">\n",
       "<caption>A matrix: 6 × 6 of type dbl</caption>\n",
       "<thead>\n",
       "\t<tr><th></th><th scope=col>ASTARR</th><th scope=col>CRISPRi-Growth</th><th scope=col>CRISPRi-HCRFF</th><th scope=col>LMPRA</th><th scope=col>TMPRA</th><th scope=col>WSTARR</th></tr>\n",
       "</thead>\n",
       "<tbody>\n",
       "\t<tr><th scope=row>ASTARR</th><td>1.000000000</td><td>0.325250152</td><td>0.005387887</td><td>0.27748430</td><td>0.005290662</td><td>0.976418973</td></tr>\n",
       "\t<tr><th scope=row>CRISPRi-Growth</th><td>0.325250152</td><td>1.000000000</td><td>0.006883790</td><td>0.56899861</td><td>0.006376654</td><td>0.328912160</td></tr>\n",
       "\t<tr><th scope=row>CRISPRi-HCRFF</th><td>0.005387887</td><td>0.006883790</td><td>1.000000000</td><td>0.01043325</td><td>0.137678032</td><td>0.005417851</td></tr>\n",
       "\t<tr><th scope=row>LMPRA</th><td>0.277484302</td><td>0.568998608</td><td>0.010433247</td><td>1.00000000</td><td>0.013812235</td><td>0.280099256</td></tr>\n",
       "\t<tr><th scope=row>TMPRA</th><td>0.005290662</td><td>0.006376654</td><td>0.137678032</td><td>0.01381223</td><td>1.000000000</td><td>0.005347483</td></tr>\n",
       "\t<tr><th scope=row>WSTARR</th><td>0.976418973</td><td>0.328912160</td><td>0.005417851</td><td>0.28009926</td><td>0.005347483</td><td>1.000000000</td></tr>\n",
       "</tbody>\n",
       "</table>\n"
      ],
      "text/latex": [
       "A matrix: 6 × 6 of type dbl\n",
       "\\begin{tabular}{r|llllll}\n",
       "  & ASTARR & CRISPRi-Growth & CRISPRi-HCRFF & LMPRA & TMPRA & WSTARR\\\\\n",
       "\\hline\n",
       "\tASTARR & 1.000000000 & 0.325250152 & 0.005387887 & 0.27748430 & 0.005290662 & 0.976418973\\\\\n",
       "\tCRISPRi-Growth & 0.325250152 & 1.000000000 & 0.006883790 & 0.56899861 & 0.006376654 & 0.328912160\\\\\n",
       "\tCRISPRi-HCRFF & 0.005387887 & 0.006883790 & 1.000000000 & 0.01043325 & 0.137678032 & 0.005417851\\\\\n",
       "\tLMPRA & 0.277484302 & 0.568998608 & 0.010433247 & 1.00000000 & 0.013812235 & 0.280099256\\\\\n",
       "\tTMPRA & 0.005290662 & 0.006376654 & 0.137678032 & 0.01381223 & 1.000000000 & 0.005347483\\\\\n",
       "\tWSTARR & 0.976418973 & 0.328912160 & 0.005417851 & 0.28009926 & 0.005347483 & 1.000000000\\\\\n",
       "\\end{tabular}\n"
      ],
      "text/markdown": [
       "\n",
       "A matrix: 6 × 6 of type dbl\n",
       "\n",
       "| <!--/--> | ASTARR | CRISPRi-Growth | CRISPRi-HCRFF | LMPRA | TMPRA | WSTARR |\n",
       "|---|---|---|---|---|---|---|\n",
       "| ASTARR | 1.000000000 | 0.325250152 | 0.005387887 | 0.27748430 | 0.005290662 | 0.976418973 |\n",
       "| CRISPRi-Growth | 0.325250152 | 1.000000000 | 0.006883790 | 0.56899861 | 0.006376654 | 0.328912160 |\n",
       "| CRISPRi-HCRFF | 0.005387887 | 0.006883790 | 1.000000000 | 0.01043325 | 0.137678032 | 0.005417851 |\n",
       "| LMPRA | 0.277484302 | 0.568998608 | 0.010433247 | 1.00000000 | 0.013812235 | 0.280099256 |\n",
       "| TMPRA | 0.005290662 | 0.006376654 | 0.137678032 | 0.01381223 | 1.000000000 | 0.005347483 |\n",
       "| WSTARR | 0.976418973 | 0.328912160 | 0.005417851 | 0.28009926 | 0.005347483 | 1.000000000 |\n",
       "\n"
      ],
      "text/plain": [
       "               ASTARR      CRISPRi-Growth CRISPRi-HCRFF LMPRA      TMPRA      \n",
       "ASTARR         1.000000000 0.325250152    0.005387887   0.27748430 0.005290662\n",
       "CRISPRi-Growth 0.325250152 1.000000000    0.006883790   0.56899861 0.006376654\n",
       "CRISPRi-HCRFF  0.005387887 0.006883790    1.000000000   0.01043325 0.137678032\n",
       "LMPRA          0.277484302 0.568998608    0.010433247   1.00000000 0.013812235\n",
       "TMPRA          0.005290662 0.006376654    0.137678032   0.01381223 1.000000000\n",
       "WSTARR         0.976418973 0.328912160    0.005417851   0.28009926 0.005347483\n",
       "               WSTARR     \n",
       "ASTARR         0.976418973\n",
       "CRISPRi-Growth 0.328912160\n",
       "CRISPRi-HCRFF  0.005417851\n",
       "LMPRA          0.280099256\n",
       "TMPRA          0.005347483\n",
       "WSTARR         1.000000000"
      ]
     },
     "metadata": {},
     "output_type": "display_data"
    }
   ],
   "source": [
    "dat = dat_summary\n",
    "dat = dat %>% \n",
    "    dplyr::mutate(Value = as.double(Jaccard)) %>% \n",
    "    dplyr::select(Assay1, Assay2, Value)\n",
    "\n",
    "mat = dat %>% \n",
    "    tidyr::spread(Assay2, Value) %>% \n",
    "    column_to_rownames(\"Assay1\") %>% \n",
    "    as.matrix\n",
    "\n",
    "mat_score_pairwise = mat\n",
    "mat"
   ]
  },
  {
   "cell_type": "code",
   "execution_count": 19,
   "id": "9e151fd1-51b1-4f1a-b9e0-1b6b14865c21",
   "metadata": {},
   "outputs": [],
   "source": [
    "mat = mat_score_pairwise\n",
    "\n",
    "paletteLength <- 50\n",
    "#myColor <- colorRampPalette(c(\"#abd9e9\", \"white\", \"#d73027\"))(paletteLength)\n",
    "#myBreaks <- c(seq(-0.1, 0, length.out=ceiling(paletteLength/2) + 1), \n",
    "#              seq(1/paletteLength, 1, length.out=floor(paletteLength/2)))\n",
    "\n",
    "num      = 1\n",
    "myColor  = colorRampPalette(c(\"white\", \"#d73027\"))(paletteLength)\n",
    "myBreaks = seq(0, num, length.out=paletteLength)"
   ]
  },
  {
   "cell_type": "code",
   "execution_count": 23,
   "id": "743c10f6-1cca-4bb4-a3f5-03db963fae7f",
   "metadata": {},
   "outputs": [
    {
     "data": {
      "image/png": "[encoded data removed]",
      "text/plain": [
       "plot without title"
      ]
     },
     "metadata": {
      "image/png": {
       "height": 420,
       "width": 420
      }
     },
     "output_type": "display_data"
    }
   ],
   "source": [
    "mat = mat_score_pairwise\n",
    "pheatmap(\n",
    "    mat,\n",
    "    color=myColor, \n",
    "    breaks=myBreaks\n",
    ")"
   ]
  },
  {
   "cell_type": "code",
   "execution_count": null,
   "id": "52ef77b6-23cc-48b8-88eb-62425d21b7dd",
   "metadata": {},
   "outputs": [],
   "source": []
  }
 ],
 "metadata": {
  "kernelspec": {
   "display_name": "R",
   "language": "R",
   "name": "ir"
  },
  "language_info": {
   "codemirror_mode": "r",
   "file_extension": ".r",
   "mimetype": "text/x-r-source",
   "name": "R",
   "pygments_lexer": "r",
   "version": "4.5.1"
  }
 },
 "nbformat": 4,
 "nbformat_minor": 5
}
