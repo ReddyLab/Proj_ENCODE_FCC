{
 "cells": [
  {
   "cell_type": "raw",
   "id": "1ac5b5da-bada-4939-86b7-791033c91889",
   "metadata": {},
   "source": [
    "---\n",
    "title: Region Coverage 31\n",
    "subtitle: Summarize coverage for STARR-seq\n",
    "format:\n",
    "    html:\n",
    "        code-fold:  true\n",
    "        code-tools: true\n",
    "---"
   ]
  },
  {
   "cell_type": "markdown",
   "id": "024795fa-c939-48f5-8e47-fea06e0621b8",
   "metadata": {},
   "source": [
    "**Set environment**"
   ]
  },
  {
   "cell_type": "code",
   "execution_count": 1,
   "id": "a72c2752-8391-4301-9e77-51cd7b82bb07",
   "metadata": {},
   "outputs": [
    {
     "name": "stdout",
     "output_type": "stream",
     "text": [
      "You are working on        Singularity: singularity_proj_encode_fcc \n",
      "BASE DIRECTORY (FD_BASE): /data/reddylab/Kuei \n",
      "REPO DIRECTORY (FD_REPO): /data/reddylab/Kuei/repo \n",
      "WORK DIRECTORY (FD_WORK): /data/reddylab/Kuei/work \n",
      "DATA DIRECTORY (FD_DATA): /data/reddylab/Kuei/data \n",
      "\n",
      "You are working with      ENCODE FCC \n",
      "PATH OF PROJECT (FD_PRJ): /data/reddylab/Kuei/repo/Proj_ENCODE_FCC \n",
      "PROJECT RESULTS (FD_RES): /data/reddylab/Kuei/repo/Proj_ENCODE_FCC/results \n",
      "PROJECT SCRIPTS (FD_EXE): /data/reddylab/Kuei/repo/Proj_ENCODE_FCC/scripts \n",
      "PROJECT DATA    (FD_DAT): /data/reddylab/Kuei/repo/Proj_ENCODE_FCC/data \n",
      "PROJECT NOTE    (FD_NBK): /data/reddylab/Kuei/repo/Proj_ENCODE_FCC/notebooks \n",
      "PROJECT DOCS    (FD_DOC): /data/reddylab/Kuei/repo/Proj_ENCODE_FCC/docs \n",
      "PROJECT LOG     (FD_LOG): /data/reddylab/Kuei/repo/Proj_ENCODE_FCC/log \n",
      "PROJECT REF     (FD_REF): /data/reddylab/Kuei/repo/Proj_ENCODE_FCC/references \n",
      "\n"
     ]
    }
   ],
   "source": [
    "suppressMessages(suppressWarnings(source(\"../run_config_project_sing.R\")))\n",
    "suppressMessages(suppressWarnings(library(\"DESeq2\")))\n",
    "suppressMessages(suppressWarnings(library(\"edgeR\")))\n",
    "show_env()"
   ]
  },
  {
   "cell_type": "markdown",
   "id": "e1a735c8-4b2d-4613-85a9-8412370d55b6",
   "metadata": {},
   "source": [
    "**Check: region directory**"
   ]
  },
  {
   "cell_type": "code",
   "execution_count": 2,
   "id": "e8277e9c-7cfb-4734-ba8d-155fdfa75f3b",
   "metadata": {},
   "outputs": [
    {
     "name": "stdout",
     "output_type": "stream",
     "text": [
      "atac_ENCFF333TAT \n",
      "atac_ENCFF558BLC \n",
      "atac_ENCFF925CYR \n",
      "atac_ENCFF948AFM \n",
      "dnase_ENCFF185XRG \n",
      "dnase_ENCFF274YGF \n",
      "fcc_astarr_macs_input_overlap \n",
      "fcc_astarr_macs_input_union \n"
     ]
    }
   ],
   "source": [
    "txt_fdiry = file.path(FD_RES, \"region_coverage_fcc_score\")\n",
    "\n",
    "vec = dir(txt_fdiry)\n",
    "for (txt in vec){cat(txt, \"\\n\")}"
   ]
  },
  {
   "cell_type": "markdown",
   "id": "a6e93154-961c-4c91-8171-71acb80e29b8",
   "metadata": {},
   "source": [
    "**Check: assay files**"
   ]
  },
  {
   "cell_type": "code",
   "execution_count": 4,
   "id": "75c0ac1f-39c5-43e9-b3fb-a48d0d81d4ea",
   "metadata": {},
   "outputs": [
    {
     "name": "stdout",
     "output_type": "stream",
     "text": [
      "/data/reddylab/Kuei/repo/Proj_ENCODE_FCC/results/region_coverage_fcc_score/fcc_astarr_macs_input_overlap/MPRA_Tiling_K562_Tewhey_Hannah/summary/region.coverage.summary.tsv \n",
      "/data/reddylab/Kuei/repo/Proj_ENCODE_FCC/results/region_coverage_fcc_score/fcc_astarr_macs_input_overlap/STARR_ATAC_K562_Reddy_KS274/summary/region.coverage.summary.tsv \n",
      "/data/reddylab/Kuei/repo/Proj_ENCODE_FCC/results/region_coverage_fcc_score/fcc_astarr_macs_input_overlap/STARR_ATAC_K562_Reddy_KS91/summary/region.coverage.summary.tsv \n",
      "/data/reddylab/Kuei/repo/Proj_ENCODE_FCC/results/region_coverage_fcc_score/fcc_astarr_macs_input_overlap/STARR_ATAC_K562_Reddy_KSMerge/summary/region.coverage.summary.tsv \n",
      "/data/reddylab/Kuei/repo/Proj_ENCODE_FCC/results/region_coverage_fcc_score/fcc_astarr_macs_input_overlap/STARR_WHG_K562_Reddy_A001/summary/region.coverage.summary.tsv \n"
     ]
    }
   ],
   "source": [
    "txt_folder = \"fcc_astarr_macs_input_overlap\"\n",
    "txt_fdiry  = file.path(\n",
    "    FD_RES, \"region_coverage_fcc_score\",\n",
    "    txt_folder,\n",
    "    \"*\",\n",
    "    \"summary\"\n",
    ")\n",
    "txt_fname = \"region.coverage.summary.tsv\"\n",
    "txt_fglob = file.path(txt_fdiry, txt_fname)\n",
    "\n",
    "vec = Sys.glob(txt_fglob)\n",
    "for (txt in vec) {cat(txt, \"\\n\")}"
   ]
  },
  {
   "cell_type": "markdown",
   "id": "a8230c60-3a7c-4ffe-b9cb-6e5d20113b86",
   "metadata": {},
   "source": [
    "**Set global variable**"
   ]
  },
  {
   "cell_type": "code",
   "execution_count": 5,
   "id": "13caa2f8-5701-4648-843b-ef5e2147da5c",
   "metadata": {},
   "outputs": [
    {
     "name": "stdout",
     "output_type": "stream",
     "text": [
      "fcc_astarr_macs_input_overlap \n",
      "fcc_astarr_macs_input_union \n"
     ]
    }
   ],
   "source": [
    "## init: region folder\n",
    "vec = c(\"fcc_astarr_macs_input_overlap\", \"fcc_astarr_macs_input_union\")\n",
    "names(vec) = vec\n",
    "\n",
    "VEC_TXT_REGION = vec\n",
    "for (txt in vec) {cat(txt, \"\\n\")}"
   ]
  },
  {
   "cell_type": "code",
   "execution_count": 6,
   "id": "7a807c6b-3cdd-42b9-84a8-abdfa715b223",
   "metadata": {},
   "outputs": [],
   "source": [
    "### init: assay folder\n",
    "VEC_TXT_ASSAY = c(\n",
    "    \"STARR_ATAC_K562_Reddy_KS91\",\n",
    "    \"STARR_ATAC_K562_Reddy_KS274\",\n",
    "    \"STARR_ATAC_K562_Reddy_KSMerge\",\n",
    "    \"STARR_WHG_K562_Reddy_A001\"\n",
    ")"
   ]
  },
  {
   "cell_type": "code",
   "execution_count": null,
   "id": "95d9fdb1-a77b-4cac-b1cc-fc4a06f41b2d",
   "metadata": {},
   "outputs": [],
   "source": []
  },
  {
   "cell_type": "code",
   "execution_count": null,
   "id": "8c8fd53d-269e-46cd-9058-6a967b0173f3",
   "metadata": {},
   "outputs": [],
   "source": []
  },
  {
   "cell_type": "code",
   "execution_count": null,
   "id": "2ba71d6f-c5d9-4900-a237-d107a115e4ca",
   "metadata": {},
   "outputs": [],
   "source": []
  },
  {
   "cell_type": "code",
   "execution_count": null,
   "id": "390d2495-2862-4d26-8417-043c7b3239f9",
   "metadata": {},
   "outputs": [],
   "source": []
  },
  {
   "cell_type": "code",
   "execution_count": null,
   "id": "d438fcb9-7fee-41bc-8299-082fa9138da0",
   "metadata": {},
   "outputs": [],
   "source": []
  },
  {
   "cell_type": "code",
   "execution_count": null,
   "id": "64c71372-df76-4ab2-aaf9-77268a7d9e20",
   "metadata": {},
   "outputs": [],
   "source": []
  },
  {
   "cell_type": "code",
   "execution_count": 4,
   "id": "7527edeb-6131-4372-9673-97693e3271e2",
   "metadata": {},
   "outputs": [
    {
     "name": "stdout",
     "output_type": "stream",
     "text": [
      "/data/reddylab/Kuei/repo/Proj_ENCODE_FCC/results/region_coverage_fcc_score/fcc_astarr_macs_input_union/STARR_ATAC_K562_Reddy_KS274/summary/data.count_column.raw.WGS.rds \n",
      "/data/reddylab/Kuei/repo/Proj_ENCODE_FCC/results/region_coverage_fcc_score/fcc_astarr_macs_input_union/STARR_ATAC_K562_Reddy_KS91/summary/data.count_column.raw.WGS.rds \n",
      "/data/reddylab/Kuei/repo/Proj_ENCODE_FCC/results/region_coverage_fcc_score/fcc_astarr_macs_input_union/STARR_ATAC_K562_Reddy_KSMerge/summary/data.count_column.raw.WGS.rds \n",
      "/data/reddylab/Kuei/repo/Proj_ENCODE_FCC/results/region_coverage_fcc_score/fcc_astarr_macs_input_union/STARR_WHG_K562_Reddy_A001/summary/data.count_column.raw.WGS.rds \n"
     ]
    }
   ],
   "source": [
    "txt_folder = \"fcc_astarr_macs_input_union\"\n",
    "txt_fdiry  = file.path(\n",
    "    FD_RES, \"region_coverage_fcc_score\",\n",
    "    txt_folder,\n",
    "    \"*\",\n",
    "    \"summary\"\n",
    ")\n",
    "txt_fname = \"data.count_column.raw.WGS.rds\"\n",
    "txt_fglob = file.path(txt_fdiry, txt_fname)\n",
    "\n",
    "vec = Sys.glob(txt_fglob)\n",
    "for (txt in vec) {cat(txt, \"\\n\")}"
   ]
  },
  {
   "cell_type": "markdown",
   "id": "2919cb9b-9044-40c0-be35-514d71837fe4",
   "metadata": {},
   "source": [
    "**Set global variable**"
   ]
  },
  {
   "cell_type": "code",
   "execution_count": 5,
   "id": "75522e74-407d-4ab9-bea9-4c44a94e19c9",
   "metadata": {},
   "outputs": [
    {
     "name": "stdout",
     "output_type": "stream",
     "text": [
      "fcc_astarr_macs_input_overlap \n",
      "fcc_astarr_macs_input_union \n"
     ]
    }
   ],
   "source": [
    "## init: region folder\n",
    "vec = c(\"fcc_astarr_macs_input_overlap\", \"fcc_astarr_macs_input_union\")\n",
    "names(vec) = vec\n",
    "\n",
    "VEC_TXT_REGION = vec\n",
    "for (txt in vec) {cat(txt, \"\\n\")}"
   ]
  },
  {
   "cell_type": "code",
   "execution_count": 9,
   "id": "3dc90855-4b61-4f2b-9b83-1fe55bb9553d",
   "metadata": {},
   "outputs": [],
   "source": [
    "### init: assay folder\n",
    "VEC_TXT_ASSAY = c(\n",
    "    \"STARR_ATAC_K562_Reddy_KS91\",\n",
    "    \"STARR_ATAC_K562_Reddy_KS274\",\n",
    "    \"STARR_ATAC_K562_Reddy_KSMerge\",\n",
    "    \"STARR_WHG_K562_Reddy_A001\",\n",
    "    \"MPRA_Tiling_K562_Tewhey_Hannah\"\n",
    ")"
   ]
  },
  {
   "cell_type": "code",
   "execution_count": 10,
   "id": "7d6d44b6-3a4a-446b-a367-5615ffb4de9e",
   "metadata": {},
   "outputs": [],
   "source": [
    "### helper function\n",
    "fun_get_assay = function(txt){\n",
    "    res = fun_str_map_detect(txt, VEC_TXT_ASSAY, VEC_TXT_ASSAY)\n",
    "    return(res)\n",
    "}"
   ]
  },
  {
   "cell_type": "code",
   "execution_count": null,
   "id": "539a3bfa-b0da-4b23-9b8a-e44e25773979",
   "metadata": {},
   "outputs": [],
   "source": []
  },
  {
   "cell_type": "code",
   "execution_count": 14,
   "id": "b2ecd8af-cd7a-4e60-b300-8e453d898939",
   "metadata": {},
   "outputs": [
    {
     "name": "stdout",
     "output_type": "stream",
     "text": [
      "$MPRA_Tiling_K562_Tewhey_Hannah\n",
      "[1] 1722   11\n",
      "\n",
      "$STARR_ATAC_K562_Reddy_KS274\n",
      "[1] 246852     10\n",
      "\n",
      "$STARR_ATAC_K562_Reddy_KS91\n",
      "[1] 246852     10\n",
      "\n",
      "$STARR_ATAC_K562_Reddy_KSMerge\n",
      "[1] 246852     10\n",
      "\n",
      "$STARR_WHG_K562_Reddy_A001\n",
      "[1] 246828     10\n",
      "\n"
     ]
    },
    {
     "data": {
      "text/html": [
       "<table>\n",
       " <thead>\n",
       "  <tr>\n",
       "   <th style=\"text-align:left;\"> Batch </th>\n",
       "   <th style=\"text-align:left;\"> Chrom </th>\n",
       "   <th style=\"text-align:right;\"> ChromStart </th>\n",
       "   <th style=\"text-align:right;\"> ChromEnd </th>\n",
       "   <th style=\"text-align:left;\"> Region </th>\n",
       "   <th style=\"text-align:right;\"> Input_DESeq </th>\n",
       "   <th style=\"text-align:right;\"> Input_FPKM </th>\n",
       "   <th style=\"text-align:right;\"> Input_TPM </th>\n",
       "   <th style=\"text-align:right;\"> Output_DESeq </th>\n",
       "   <th style=\"text-align:right;\"> Output_FPKM </th>\n",
       "   <th style=\"text-align:right;\"> Output_TPM </th>\n",
       "  </tr>\n",
       " </thead>\n",
       "<tbody>\n",
       "  <tr>\n",
       "   <td style=\"text-align:left;\"> OL13 </td>\n",
       "   <td style=\"text-align:left;\"> chr11 </td>\n",
       "   <td style=\"text-align:right;\"> 61792068 </td>\n",
       "   <td style=\"text-align:right;\"> 61793464 </td>\n",
       "   <td style=\"text-align:left;\"> chr11:61792068-61793464 </td>\n",
       "   <td style=\"text-align:right;\"> 124677.80 </td>\n",
       "   <td style=\"text-align:right;\"> 39.97229 </td>\n",
       "   <td style=\"text-align:right;\"> 38569.23 </td>\n",
       "   <td style=\"text-align:right;\"> 395806.44 </td>\n",
       "   <td style=\"text-align:right;\"> 58.18742 </td>\n",
       "   <td style=\"text-align:right;\"> 72534.72 </td>\n",
       "  </tr>\n",
       "  <tr>\n",
       "   <td style=\"text-align:left;\"> OL13 </td>\n",
       "   <td style=\"text-align:left;\"> chr11 </td>\n",
       "   <td style=\"text-align:right;\"> 61800085 </td>\n",
       "   <td style=\"text-align:right;\"> 61801113 </td>\n",
       "   <td style=\"text-align:left;\"> chr11:61800085-61801113 </td>\n",
       "   <td style=\"text-align:right;\"> 93725.36 </td>\n",
       "   <td style=\"text-align:right;\"> 40.80625 </td>\n",
       "   <td style=\"text-align:right;\"> 39374.02 </td>\n",
       "   <td style=\"text-align:right;\"> 339149.81 </td>\n",
       "   <td style=\"text-align:right;\"> 67.64054 </td>\n",
       "   <td style=\"text-align:right;\"> 84323.76 </td>\n",
       "  </tr>\n",
       "  <tr>\n",
       "   <td style=\"text-align:left;\"> OL13 </td>\n",
       "   <td style=\"text-align:left;\"> chr11 </td>\n",
       "   <td style=\"text-align:right;\"> 61806630 </td>\n",
       "   <td style=\"text-align:right;\"> 61807154 </td>\n",
       "   <td style=\"text-align:left;\"> chr11:61806630-61807154 </td>\n",
       "   <td style=\"text-align:right;\"> 70944.93 </td>\n",
       "   <td style=\"text-align:right;\"> 60.58770 </td>\n",
       "   <td style=\"text-align:right;\"> 58460.65 </td>\n",
       "   <td style=\"text-align:right;\"> 27709.74 </td>\n",
       "   <td style=\"text-align:right;\"> 10.88209 </td>\n",
       "   <td style=\"text-align:right;\"> 13558.65 </td>\n",
       "  </tr>\n",
       "</tbody>\n",
       "</table>"
      ]
     },
     "metadata": {},
     "output_type": "display_data"
    }
   ],
   "source": [
    "###\n",
    "txt_folder = \"fcc_astarr_macs_input_union\"\n",
    "txt_fdiry  = file.path(\n",
    "    FD_RES, \"region_coverage_fcc_score\",\n",
    "    txt_folder,\n",
    "    \"*\",\n",
    "    \"summary\"\n",
    ")\n",
    "txt_fname = \"region.coverage.summary.tsv\"\n",
    "txt_fglob = file.path(txt_fdiry, txt_fname)\n",
    "\n",
    "###\n",
    "vec = Sys.glob(txt_fglob)\n",
    "names(vec) = fun_get_assay(vec)\n",
    "vec_txt_fpath = vec\n",
    "\n",
    "###\n",
    "lst = lapply(vec_txt_fpath, function(txt_fpath){\n",
    "    dat = read_tsv(txt_fpath, show_col_types = FALSE)\n",
    "    return(dat)\n",
    "})\n",
    "\n",
    "\n",
    "lst_dat_region_coverage_summary = lst\n",
    "\n",
    "res = lapply(lst, dim)\n",
    "print(res)\n",
    "\n",
    "dat = lst[[1]]\n",
    "fun_display_table(head(dat, 3))"
   ]
  },
  {
   "cell_type": "code",
   "execution_count": 15,
   "id": "539a7286-5c4b-4f3f-847a-c81574da9588",
   "metadata": {},
   "outputs": [
    {
     "name": "stdout",
     "output_type": "stream",
     "text": [
      "$MPRA_Tiling_K562_Tewhey_Hannah\n",
      "[1] 1722   11\n",
      "\n",
      "$STARR_ATAC_K562_Reddy_KS274\n",
      "[1] 246851     10\n",
      "\n",
      "$STARR_ATAC_K562_Reddy_KS91\n",
      "[1] 246850     10\n",
      "\n",
      "$STARR_ATAC_K562_Reddy_KSMerge\n",
      "[1] 246850     10\n",
      "\n",
      "$STARR_WHG_K562_Reddy_A001\n",
      "[1] 241031     10\n",
      "\n"
     ]
    },
    {
     "data": {
      "text/html": [
       "<table>\n",
       " <thead>\n",
       "  <tr>\n",
       "   <th style=\"text-align:left;\"> Batch </th>\n",
       "   <th style=\"text-align:left;\"> Chrom </th>\n",
       "   <th style=\"text-align:right;\"> ChromStart </th>\n",
       "   <th style=\"text-align:right;\"> ChromEnd </th>\n",
       "   <th style=\"text-align:left;\"> Region </th>\n",
       "   <th style=\"text-align:right;\"> baseMean </th>\n",
       "   <th style=\"text-align:right;\"> log2FoldChange </th>\n",
       "   <th style=\"text-align:right;\"> lfcSE </th>\n",
       "   <th style=\"text-align:right;\"> stat </th>\n",
       "   <th style=\"text-align:right;\"> pvalue </th>\n",
       "   <th style=\"text-align:right;\"> padj </th>\n",
       "  </tr>\n",
       " </thead>\n",
       "<tbody>\n",
       "  <tr>\n",
       "   <td style=\"text-align:left;\"> OL13 </td>\n",
       "   <td style=\"text-align:left;\"> chr11 </td>\n",
       "   <td style=\"text-align:right;\"> 61792068 </td>\n",
       "   <td style=\"text-align:right;\"> 61793464 </td>\n",
       "   <td style=\"text-align:left;\"> chr11:61792068-61793464 </td>\n",
       "   <td style=\"text-align:right;\"> 260242.12 </td>\n",
       "   <td style=\"text-align:right;\"> 1.666570 </td>\n",
       "   <td style=\"text-align:right;\"> 0.0411711 </td>\n",
       "   <td style=\"text-align:right;\"> 40.47914 </td>\n",
       "   <td style=\"text-align:right;\"> 0 </td>\n",
       "   <td style=\"text-align:right;\"> 0 </td>\n",
       "  </tr>\n",
       "  <tr>\n",
       "   <td style=\"text-align:left;\"> OL13 </td>\n",
       "   <td style=\"text-align:left;\"> chr11 </td>\n",
       "   <td style=\"text-align:right;\"> 61800085 </td>\n",
       "   <td style=\"text-align:right;\"> 61801113 </td>\n",
       "   <td style=\"text-align:left;\"> chr11:61800085-61801113 </td>\n",
       "   <td style=\"text-align:right;\"> 216437.58 </td>\n",
       "   <td style=\"text-align:right;\"> 1.855406 </td>\n",
       "   <td style=\"text-align:right;\"> 0.0497289 </td>\n",
       "   <td style=\"text-align:right;\"> 37.31041 </td>\n",
       "   <td style=\"text-align:right;\"> 0 </td>\n",
       "   <td style=\"text-align:right;\"> 0 </td>\n",
       "  </tr>\n",
       "  <tr>\n",
       "   <td style=\"text-align:left;\"> OL13 </td>\n",
       "   <td style=\"text-align:left;\"> chr11 </td>\n",
       "   <td style=\"text-align:right;\"> 61806630 </td>\n",
       "   <td style=\"text-align:right;\"> 61807154 </td>\n",
       "   <td style=\"text-align:left;\"> chr11:61806630-61807154 </td>\n",
       "   <td style=\"text-align:right;\"> 49327.33 </td>\n",
       "   <td style=\"text-align:right;\"> -1.356245 </td>\n",
       "   <td style=\"text-align:right;\"> 0.0882584 </td>\n",
       "   <td style=\"text-align:right;\"> -15.36676 </td>\n",
       "   <td style=\"text-align:right;\"> 0 </td>\n",
       "   <td style=\"text-align:right;\"> 0 </td>\n",
       "  </tr>\n",
       "</tbody>\n",
       "</table>"
      ]
     },
     "metadata": {},
     "output_type": "display_data"
    }
   ],
   "source": [
    "###\n",
    "txt_folder = \"fcc_astarr_macs_input_union\"\n",
    "txt_fdiry  = file.path(\n",
    "    FD_RES, \"region_coverage_fcc_score\",\n",
    "    txt_folder,\n",
    "    \"*\",\n",
    "    \"summary\"\n",
    ")\n",
    "txt_fname = \"region.coverage.Log2FC.deseq.tsv\"\n",
    "txt_fglob = file.path(txt_fdiry, txt_fname)\n",
    "\n",
    "###\n",
    "vec = Sys.glob(txt_fglob)\n",
    "names(vec) = fun_get_assay(vec)\n",
    "vec_txt_fpath = vec\n",
    "\n",
    "###\n",
    "lst = lapply(vec_txt_fpath, function(txt_fpath){\n",
    "    dat = read_tsv(txt_fpath, show_col_types = FALSE)\n",
    "    return(dat)\n",
    "})\n",
    "\n",
    "\n",
    "lst_dat_region_coverage_deseq = lst\n",
    "\n",
    "res = lapply(lst, dim)\n",
    "print(res)\n",
    "\n",
    "dat = lst[[1]]\n",
    "fun_display_table(head(dat, 3))"
   ]
  },
  {
   "cell_type": "code",
   "execution_count": null,
   "id": "28127d86-5e4c-4f70-a42c-b000cd06afe4",
   "metadata": {},
   "outputs": [],
   "source": []
  },
  {
   "cell_type": "code",
   "execution_count": 28,
   "id": "4056b042-fe20-44fe-b70c-af7ec7e4252b",
   "metadata": {},
   "outputs": [
    {
     "data": {
      "text/html": [
       "<table class=\"dataframe\">\n",
       "<caption>A tibble: 6 × 19</caption>\n",
       "<thead>\n",
       "\t<tr><th scope=col>Chrom</th><th scope=col>ChromStart</th><th scope=col>ChromEnd</th><th scope=col>Region</th><th scope=col>Input_DESeq</th><th scope=col>Input_FPKM</th><th scope=col>Input_TPM</th><th scope=col>Output_DESeq</th><th scope=col>Output_FPKM</th><th scope=col>Output_TPM</th><th scope=col>baseMean</th><th scope=col>log2FoldChange</th><th scope=col>lfcSE</th><th scope=col>stat</th><th scope=col>pvalue</th><th scope=col>padj</th><th scope=col>Log2FC_DESeq</th><th scope=col>Log2FC_TPM</th><th scope=col>pLog2FC_TPM</th></tr>\n",
       "\t<tr><th scope=col>&lt;chr&gt;</th><th scope=col>&lt;dbl&gt;</th><th scope=col>&lt;dbl&gt;</th><th scope=col>&lt;chr&gt;</th><th scope=col>&lt;dbl&gt;</th><th scope=col>&lt;dbl&gt;</th><th scope=col>&lt;dbl&gt;</th><th scope=col>&lt;dbl&gt;</th><th scope=col>&lt;dbl&gt;</th><th scope=col>&lt;dbl&gt;</th><th scope=col>&lt;dbl&gt;</th><th scope=col>&lt;dbl&gt;</th><th scope=col>&lt;dbl&gt;</th><th scope=col>&lt;dbl&gt;</th><th scope=col>&lt;dbl&gt;</th><th scope=col>&lt;dbl&gt;</th><th scope=col>&lt;dbl&gt;</th><th scope=col>&lt;dbl&gt;</th><th scope=col>&lt;dbl&gt;</th></tr>\n",
       "</thead>\n",
       "<tbody>\n",
       "\t<tr><td>chr1</td><td>10015</td><td>10442</td><td>chr1:10015-10442</td><td> 99.35528</td><td>0.003083020</td><td>3.160573</td><td>25.74094</td><td>0.0006187167</td><td>0.6571619</td><td> 69.90954</td><td>-2.11778909</td><td>0.2661622</td><td>-7.9567615</td><td>1.766006e-15</td><td>1.928761e-14</td><td>-2.11778909</td><td>-2.2658654</td><td>-1.32806766</td></tr>\n",
       "\t<tr><td>chr1</td><td>14253</td><td>14645</td><td>chr1:14253-14645</td><td> 64.40633</td><td>0.002176306</td><td>2.231167</td><td>74.31226</td><td>0.0019510008</td><td>2.0734986</td><td> 68.36870</td><td> 0.32061244</td><td>0.1521388</td><td> 2.1073680</td><td>3.508570e-02</td><td>6.846456e-02</td><td> 0.32061244</td><td>-0.1057315</td><td>-0.07217352</td></tr>\n",
       "\t<tr><td>chr1</td><td>16015</td><td>16477</td><td>chr1:16015-16477</td><td> 89.10514</td><td>0.002554920</td><td>2.619283</td><td>40.97085</td><td>0.0009084734</td><td>0.9661250</td><td> 69.85142</td><td>-1.17444776</td><td>0.2002231</td><td>-5.8656965</td><td>4.472513e-09</td><td>3.101815e-08</td><td>-1.17444776</td><td>-1.4388900</td><td>-0.88034878</td></tr>\n",
       "\t<tr><td>chr1</td><td>17237</td><td>17772</td><td>chr1:17237-17772</td><td>163.59769</td><td>0.004051316</td><td>4.153273</td><td>59.22112</td><td>0.0011264281</td><td>1.2014016</td><td>121.84706</td><td>-1.28369643</td><td>0.1608175</td><td>-7.9823168</td><td>1.436118e-15</td><td>1.576338e-14</td><td>-1.28369643</td><td>-1.7895301</td><td>-1.22706657</td></tr>\n",
       "\t<tr><td>chr1</td><td>28903</td><td>29613</td><td>chr1:28903-29613</td><td>155.88142</td><td>0.002907835</td><td>2.981219</td><td>44.81941</td><td>0.0006404741</td><td>0.6827709</td><td>111.45662</td><td>-1.84254259</td><td>0.1876204</td><td>-9.8205890</td><td>9.180557e-23</td><td>1.364700e-21</td><td>-1.84254259</td><td>-2.1264290</td><td>-1.24237158</td></tr>\n",
       "\t<tr><td>chr1</td><td>30803</td><td>31072</td><td>chr1:30803-31072</td><td> 56.67336</td><td>0.002793456</td><td>2.863264</td><td>57.29138</td><td>0.0021818358</td><td>2.3197849</td><td> 56.92057</td><td>-0.04059471</td><td>0.2097442</td><td>-0.1935438</td><td>8.465331e-01</td><td>8.909108e-01</td><td>-0.04059471</td><td>-0.3036698</td><td>-0.21873059</td></tr>\n",
       "</tbody>\n",
       "</table>\n"
      ],
      "text/latex": [
       "A tibble: 6 × 19\n",
       "\\begin{tabular}{lllllllllllllllllll}\n",
       " Chrom & ChromStart & ChromEnd & Region & Input\\_DESeq & Input\\_FPKM & Input\\_TPM & Output\\_DESeq & Output\\_FPKM & Output\\_TPM & baseMean & log2FoldChange & lfcSE & stat & pvalue & padj & Log2FC\\_DESeq & Log2FC\\_TPM & pLog2FC\\_TPM\\\\\n",
       " <chr> & <dbl> & <dbl> & <chr> & <dbl> & <dbl> & <dbl> & <dbl> & <dbl> & <dbl> & <dbl> & <dbl> & <dbl> & <dbl> & <dbl> & <dbl> & <dbl> & <dbl> & <dbl>\\\\\n",
       "\\hline\n",
       "\t chr1 & 10015 & 10442 & chr1:10015-10442 &  99.35528 & 0.003083020 & 3.160573 & 25.74094 & 0.0006187167 & 0.6571619 &  69.90954 & -2.11778909 & 0.2661622 & -7.9567615 & 1.766006e-15 & 1.928761e-14 & -2.11778909 & -2.2658654 & -1.32806766\\\\\n",
       "\t chr1 & 14253 & 14645 & chr1:14253-14645 &  64.40633 & 0.002176306 & 2.231167 & 74.31226 & 0.0019510008 & 2.0734986 &  68.36870 &  0.32061244 & 0.1521388 &  2.1073680 & 3.508570e-02 & 6.846456e-02 &  0.32061244 & -0.1057315 & -0.07217352\\\\\n",
       "\t chr1 & 16015 & 16477 & chr1:16015-16477 &  89.10514 & 0.002554920 & 2.619283 & 40.97085 & 0.0009084734 & 0.9661250 &  69.85142 & -1.17444776 & 0.2002231 & -5.8656965 & 4.472513e-09 & 3.101815e-08 & -1.17444776 & -1.4388900 & -0.88034878\\\\\n",
       "\t chr1 & 17237 & 17772 & chr1:17237-17772 & 163.59769 & 0.004051316 & 4.153273 & 59.22112 & 0.0011264281 & 1.2014016 & 121.84706 & -1.28369643 & 0.1608175 & -7.9823168 & 1.436118e-15 & 1.576338e-14 & -1.28369643 & -1.7895301 & -1.22706657\\\\\n",
       "\t chr1 & 28903 & 29613 & chr1:28903-29613 & 155.88142 & 0.002907835 & 2.981219 & 44.81941 & 0.0006404741 & 0.6827709 & 111.45662 & -1.84254259 & 0.1876204 & -9.8205890 & 9.180557e-23 & 1.364700e-21 & -1.84254259 & -2.1264290 & -1.24237158\\\\\n",
       "\t chr1 & 30803 & 31072 & chr1:30803-31072 &  56.67336 & 0.002793456 & 2.863264 & 57.29138 & 0.0021818358 & 2.3197849 &  56.92057 & -0.04059471 & 0.2097442 & -0.1935438 & 8.465331e-01 & 8.909108e-01 & -0.04059471 & -0.3036698 & -0.21873059\\\\\n",
       "\\end{tabular}\n"
      ],
      "text/markdown": [
       "\n",
       "A tibble: 6 × 19\n",
       "\n",
       "| Chrom &lt;chr&gt; | ChromStart &lt;dbl&gt; | ChromEnd &lt;dbl&gt; | Region &lt;chr&gt; | Input_DESeq &lt;dbl&gt; | Input_FPKM &lt;dbl&gt; | Input_TPM &lt;dbl&gt; | Output_DESeq &lt;dbl&gt; | Output_FPKM &lt;dbl&gt; | Output_TPM &lt;dbl&gt; | baseMean &lt;dbl&gt; | log2FoldChange &lt;dbl&gt; | lfcSE &lt;dbl&gt; | stat &lt;dbl&gt; | pvalue &lt;dbl&gt; | padj &lt;dbl&gt; | Log2FC_DESeq &lt;dbl&gt; | Log2FC_TPM &lt;dbl&gt; | pLog2FC_TPM &lt;dbl&gt; |\n",
       "|---|---|---|---|---|---|---|---|---|---|---|---|---|---|---|---|---|---|---|\n",
       "| chr1 | 10015 | 10442 | chr1:10015-10442 |  99.35528 | 0.003083020 | 3.160573 | 25.74094 | 0.0006187167 | 0.6571619 |  69.90954 | -2.11778909 | 0.2661622 | -7.9567615 | 1.766006e-15 | 1.928761e-14 | -2.11778909 | -2.2658654 | -1.32806766 |\n",
       "| chr1 | 14253 | 14645 | chr1:14253-14645 |  64.40633 | 0.002176306 | 2.231167 | 74.31226 | 0.0019510008 | 2.0734986 |  68.36870 |  0.32061244 | 0.1521388 |  2.1073680 | 3.508570e-02 | 6.846456e-02 |  0.32061244 | -0.1057315 | -0.07217352 |\n",
       "| chr1 | 16015 | 16477 | chr1:16015-16477 |  89.10514 | 0.002554920 | 2.619283 | 40.97085 | 0.0009084734 | 0.9661250 |  69.85142 | -1.17444776 | 0.2002231 | -5.8656965 | 4.472513e-09 | 3.101815e-08 | -1.17444776 | -1.4388900 | -0.88034878 |\n",
       "| chr1 | 17237 | 17772 | chr1:17237-17772 | 163.59769 | 0.004051316 | 4.153273 | 59.22112 | 0.0011264281 | 1.2014016 | 121.84706 | -1.28369643 | 0.1608175 | -7.9823168 | 1.436118e-15 | 1.576338e-14 | -1.28369643 | -1.7895301 | -1.22706657 |\n",
       "| chr1 | 28903 | 29613 | chr1:28903-29613 | 155.88142 | 0.002907835 | 2.981219 | 44.81941 | 0.0006404741 | 0.6827709 | 111.45662 | -1.84254259 | 0.1876204 | -9.8205890 | 9.180557e-23 | 1.364700e-21 | -1.84254259 | -2.1264290 | -1.24237158 |\n",
       "| chr1 | 30803 | 31072 | chr1:30803-31072 |  56.67336 | 0.002793456 | 2.863264 | 57.29138 | 0.0021818358 | 2.3197849 |  56.92057 | -0.04059471 | 0.2097442 | -0.1935438 | 8.465331e-01 | 8.909108e-01 | -0.04059471 | -0.3036698 | -0.21873059 |\n",
       "\n"
      ],
      "text/plain": [
       "  Chrom ChromStart ChromEnd Region           Input_DESeq Input_FPKM  Input_TPM\n",
       "1 chr1  10015      10442    chr1:10015-10442  99.35528   0.003083020 3.160573 \n",
       "2 chr1  14253      14645    chr1:14253-14645  64.40633   0.002176306 2.231167 \n",
       "3 chr1  16015      16477    chr1:16015-16477  89.10514   0.002554920 2.619283 \n",
       "4 chr1  17237      17772    chr1:17237-17772 163.59769   0.004051316 4.153273 \n",
       "5 chr1  28903      29613    chr1:28903-29613 155.88142   0.002907835 2.981219 \n",
       "6 chr1  30803      31072    chr1:30803-31072  56.67336   0.002793456 2.863264 \n",
       "  Output_DESeq Output_FPKM  Output_TPM baseMean  log2FoldChange lfcSE    \n",
       "1 25.74094     0.0006187167 0.6571619   69.90954 -2.11778909    0.2661622\n",
       "2 74.31226     0.0019510008 2.0734986   68.36870  0.32061244    0.1521388\n",
       "3 40.97085     0.0009084734 0.9661250   69.85142 -1.17444776    0.2002231\n",
       "4 59.22112     0.0011264281 1.2014016  121.84706 -1.28369643    0.1608175\n",
       "5 44.81941     0.0006404741 0.6827709  111.45662 -1.84254259    0.1876204\n",
       "6 57.29138     0.0021818358 2.3197849   56.92057 -0.04059471    0.2097442\n",
       "  stat       pvalue       padj         Log2FC_DESeq Log2FC_TPM pLog2FC_TPM\n",
       "1 -7.9567615 1.766006e-15 1.928761e-14 -2.11778909  -2.2658654 -1.32806766\n",
       "2  2.1073680 3.508570e-02 6.846456e-02  0.32061244  -0.1057315 -0.07217352\n",
       "3 -5.8656965 4.472513e-09 3.101815e-08 -1.17444776  -1.4388900 -0.88034878\n",
       "4 -7.9823168 1.436118e-15 1.576338e-14 -1.28369643  -1.7895301 -1.22706657\n",
       "5 -9.8205890 9.180557e-23 1.364700e-21 -1.84254259  -2.1264290 -1.24237158\n",
       "6 -0.1935438 8.465331e-01 8.909108e-01 -0.04059471  -0.3036698 -0.21873059"
      ]
     },
     "metadata": {},
     "output_type": "display_data"
    }
   ],
   "source": [
    "idx  = \"STARR_ATAC_K562_Reddy_KS91\"\n",
    "lst  = lst_dat_region_coverage_summary\n",
    "dat1 = lst[[idx]]\n",
    "lst  = lst_dat_region_coverage_deseq\n",
    "dat2 = lst[[idx]]\n",
    "\n",
    "vec = c(\"Chrom\", \"ChromStart\", \"ChromEnd\", \"Region\")\n",
    "dat = dplyr::inner_join(dat1, dat2, by = vec)\n",
    "dat = dat %>% dplyr::mutate(\n",
    "    Log2FC_DESeq = log2FoldChange, \n",
    "    Log2FC_TPM   = log2(Output_TPM)-log2(Input_TPM),\n",
    "    pLog2FC_TPM  = log2(Output_TPM+1)-log2(Input_TPM+1)\n",
    ")\n",
    "\n",
    "head(dat)"
   ]
  },
  {
   "cell_type": "code",
   "execution_count": 31,
   "id": "07099d68-8887-4797-b905-dd447d298ba7",
   "metadata": {},
   "outputs": [
    {
     "data": {
      "image/png": "[encoded data removed]",
      "text/plain": [
       "plot without title"
      ]
     },
     "metadata": {
      "image/png": {
       "height": 300,
       "width": 300
      }
     },
     "output_type": "display_data"
    }
   ],
   "source": [
    "gpt = ggplot(dat, aes(x=Log2FC_TPM, y=Log2FC_DESeq)) + \n",
    "    geom_point(alpha = 0.3) + \n",
    "    geom_hline(yintercept = 0) +\n",
    "    geom_vline(xintercept = 0) +\n",
    "    theme_cowplot() + \n",
    "    background_grid() +\n",
    "    labs(x = \"Log2 Fold Change (TPM)\", y = \"Log2 Fold Change (DESeq2)\", title = \"ATAC-STARR-seq\")\n",
    "\n",
    "options(repr.plot.height=5, repr.plot.width=5)\n",
    "print(gpt)"
   ]
  },
  {
   "cell_type": "code",
   "execution_count": 32,
   "id": "7ea904a5-ee98-4b7b-8d66-54f4b8e4841d",
   "metadata": {},
   "outputs": [
    {
     "data": {
      "image/png": "[encoded data removed]",
      "text/plain": [
       "plot without title"
      ]
     },
     "metadata": {
      "image/png": {
       "height": 300,
       "width": 300
      }
     },
     "output_type": "display_data"
    }
   ],
   "source": [
    "gpt = ggplot(dat, aes(x=pLog2FC_TPM, y=Log2FC_DESeq)) + \n",
    "    geom_point(alpha = 0.3) + \n",
    "    geom_hline(yintercept = 0) +\n",
    "    geom_vline(xintercept = 0) +\n",
    "    theme_cowplot() + \n",
    "    background_grid() \n",
    "\n",
    "options(repr.plot.height=5, repr.plot.width=5)\n",
    "print(gpt)"
   ]
  },
  {
   "cell_type": "code",
   "execution_count": null,
   "id": "66649a31-e942-426f-a983-01361d22a06c",
   "metadata": {},
   "outputs": [],
   "source": []
  },
  {
   "cell_type": "code",
   "execution_count": 25,
   "id": "cfee9b99-6c49-487a-9ba3-e18931c1261a",
   "metadata": {},
   "outputs": [
    {
     "data": {
      "text/html": [
       "<table class=\"dataframe\">\n",
       "<caption>A tibble: 6 × 19</caption>\n",
       "<thead>\n",
       "\t<tr><th scope=col>Chrom</th><th scope=col>ChromStart</th><th scope=col>ChromEnd</th><th scope=col>Region</th><th scope=col>Input_DESeq</th><th scope=col>Input_FPKM</th><th scope=col>Input_TPM</th><th scope=col>Output_DESeq</th><th scope=col>Output_FPKM</th><th scope=col>Output_TPM</th><th scope=col>baseMean</th><th scope=col>log2FoldChange</th><th scope=col>lfcSE</th><th scope=col>stat</th><th scope=col>pvalue</th><th scope=col>padj</th><th scope=col>Log2FC_DESeq</th><th scope=col>Log2FC_TPM</th><th scope=col>pLog2FC_TPM</th></tr>\n",
       "\t<tr><th scope=col>&lt;chr&gt;</th><th scope=col>&lt;dbl&gt;</th><th scope=col>&lt;dbl&gt;</th><th scope=col>&lt;chr&gt;</th><th scope=col>&lt;dbl&gt;</th><th scope=col>&lt;dbl&gt;</th><th scope=col>&lt;dbl&gt;</th><th scope=col>&lt;dbl&gt;</th><th scope=col>&lt;dbl&gt;</th><th scope=col>&lt;dbl&gt;</th><th scope=col>&lt;dbl&gt;</th><th scope=col>&lt;dbl&gt;</th><th scope=col>&lt;dbl&gt;</th><th scope=col>&lt;dbl&gt;</th><th scope=col>&lt;dbl&gt;</th><th scope=col>&lt;dbl&gt;</th><th scope=col>&lt;dbl&gt;</th><th scope=col>&lt;dbl&gt;</th><th scope=col>&lt;dbl&gt;</th></tr>\n",
       "</thead>\n",
       "<tbody>\n",
       "\t<tr><td>chr1</td><td> 17237</td><td> 17772</td><td>chr1:17237-17772  </td><td>18.02759</td><td>0.002271413</td><td>1.812727</td><td>12.15365</td><td>0.001432397</td><td>1.191103</td><td>15.51018</td><td>-0.5529035</td><td>0.3647704</td><td>-1.5157577</td><td>1.295806e-01</td><td>0.373586438</td><td>-0.5529035</td><td>-0.60586290</td><td>-0.36031188</td></tr>\n",
       "\t<tr><td>chr1</td><td>137737</td><td>139544</td><td>chr1:137737-139544</td><td>53.31069</td><td>0.001989432</td><td>1.587698</td><td>88.49095</td><td>0.003088594</td><td>2.568239</td><td>68.38794</td><td> 0.7581450</td><td>0.1908046</td><td> 3.9734116</td><td>7.085046e-05</td><td>0.001396904</td><td> 0.7581450</td><td> 0.69384307</td><td> 0.46354308</td></tr>\n",
       "\t<tr><td>chr1</td><td>180982</td><td>182087</td><td>chr1:180982-182087</td><td>33.14167</td><td>0.002023449</td><td>1.614823</td><td>37.69949</td><td>0.002152353</td><td>1.789643</td><td>35.09502</td><td> 0.1910327</td><td>0.2416620</td><td> 0.7904953</td><td>4.292385e-01</td><td>0.696333205</td><td> 0.1910327</td><td> 0.14829577</td><td> 0.09336721</td></tr>\n",
       "\t<tr><td>chr1</td><td>183239</td><td>184602</td><td>chr1:183239-184602</td><td>48.85236</td><td>0.002417931</td><td>1.929666</td><td>50.52595</td><td>0.002341748</td><td>1.946520</td><td>49.56961</td><td> 0.0828976</td><td>0.2018062</td><td> 0.4107782</td><td>6.812352e-01</td><td>0.858098159</td><td> 0.0828976</td><td> 0.01254577</td><td> 0.00827570</td></tr>\n",
       "\t<tr><td>chr1</td><td>186238</td><td>187159</td><td>chr1:186238-187159</td><td>53.47788</td><td>0.003915565</td><td>3.124918</td><td>46.42704</td><td>0.003187302</td><td>2.648746</td><td>50.45609</td><td>-0.1395572</td><td>0.2159412</td><td>-0.6462742</td><td>5.181018e-01</td><td>0.760177354</td><td>-0.1395572</td><td>-0.23850866</td><td>-0.17696459</td></tr>\n",
       "\t<tr><td>chr1</td><td>191188</td><td>191739</td><td>chr1:191188-191739</td><td>51.08362</td><td>0.006243608</td><td>4.982741</td><td>47.37843</td><td>0.005430942</td><td>4.514617</td><td>49.49568</td><td> 0.0121358</td><td>0.2108722</td><td> 0.0575505</td><td>9.541067e-01</td><td>0.982825732</td><td> 0.0121358</td><td>-0.14233597</td><td>-0.11754591</td></tr>\n",
       "</tbody>\n",
       "</table>\n"
      ],
      "text/latex": [
       "A tibble: 6 × 19\n",
       "\\begin{tabular}{lllllllllllllllllll}\n",
       " Chrom & ChromStart & ChromEnd & Region & Input\\_DESeq & Input\\_FPKM & Input\\_TPM & Output\\_DESeq & Output\\_FPKM & Output\\_TPM & baseMean & log2FoldChange & lfcSE & stat & pvalue & padj & Log2FC\\_DESeq & Log2FC\\_TPM & pLog2FC\\_TPM\\\\\n",
       " <chr> & <dbl> & <dbl> & <chr> & <dbl> & <dbl> & <dbl> & <dbl> & <dbl> & <dbl> & <dbl> & <dbl> & <dbl> & <dbl> & <dbl> & <dbl> & <dbl> & <dbl> & <dbl>\\\\\n",
       "\\hline\n",
       "\t chr1 &  17237 &  17772 & chr1:17237-17772   & 18.02759 & 0.002271413 & 1.812727 & 12.15365 & 0.001432397 & 1.191103 & 15.51018 & -0.5529035 & 0.3647704 & -1.5157577 & 1.295806e-01 & 0.373586438 & -0.5529035 & -0.60586290 & -0.36031188\\\\\n",
       "\t chr1 & 137737 & 139544 & chr1:137737-139544 & 53.31069 & 0.001989432 & 1.587698 & 88.49095 & 0.003088594 & 2.568239 & 68.38794 &  0.7581450 & 0.1908046 &  3.9734116 & 7.085046e-05 & 0.001396904 &  0.7581450 &  0.69384307 &  0.46354308\\\\\n",
       "\t chr1 & 180982 & 182087 & chr1:180982-182087 & 33.14167 & 0.002023449 & 1.614823 & 37.69949 & 0.002152353 & 1.789643 & 35.09502 &  0.1910327 & 0.2416620 &  0.7904953 & 4.292385e-01 & 0.696333205 &  0.1910327 &  0.14829577 &  0.09336721\\\\\n",
       "\t chr1 & 183239 & 184602 & chr1:183239-184602 & 48.85236 & 0.002417931 & 1.929666 & 50.52595 & 0.002341748 & 1.946520 & 49.56961 &  0.0828976 & 0.2018062 &  0.4107782 & 6.812352e-01 & 0.858098159 &  0.0828976 &  0.01254577 &  0.00827570\\\\\n",
       "\t chr1 & 186238 & 187159 & chr1:186238-187159 & 53.47788 & 0.003915565 & 3.124918 & 46.42704 & 0.003187302 & 2.648746 & 50.45609 & -0.1395572 & 0.2159412 & -0.6462742 & 5.181018e-01 & 0.760177354 & -0.1395572 & -0.23850866 & -0.17696459\\\\\n",
       "\t chr1 & 191188 & 191739 & chr1:191188-191739 & 51.08362 & 0.006243608 & 4.982741 & 47.37843 & 0.005430942 & 4.514617 & 49.49568 &  0.0121358 & 0.2108722 &  0.0575505 & 9.541067e-01 & 0.982825732 &  0.0121358 & -0.14233597 & -0.11754591\\\\\n",
       "\\end{tabular}\n"
      ],
      "text/markdown": [
       "\n",
       "A tibble: 6 × 19\n",
       "\n",
       "| Chrom &lt;chr&gt; | ChromStart &lt;dbl&gt; | ChromEnd &lt;dbl&gt; | Region &lt;chr&gt; | Input_DESeq &lt;dbl&gt; | Input_FPKM &lt;dbl&gt; | Input_TPM &lt;dbl&gt; | Output_DESeq &lt;dbl&gt; | Output_FPKM &lt;dbl&gt; | Output_TPM &lt;dbl&gt; | baseMean &lt;dbl&gt; | log2FoldChange &lt;dbl&gt; | lfcSE &lt;dbl&gt; | stat &lt;dbl&gt; | pvalue &lt;dbl&gt; | padj &lt;dbl&gt; | Log2FC_DESeq &lt;dbl&gt; | Log2FC_TPM &lt;dbl&gt; | pLog2FC_TPM &lt;dbl&gt; |\n",
       "|---|---|---|---|---|---|---|---|---|---|---|---|---|---|---|---|---|---|---|\n",
       "| chr1 |  17237 |  17772 | chr1:17237-17772   | 18.02759 | 0.002271413 | 1.812727 | 12.15365 | 0.001432397 | 1.191103 | 15.51018 | -0.5529035 | 0.3647704 | -1.5157577 | 1.295806e-01 | 0.373586438 | -0.5529035 | -0.60586290 | -0.36031188 |\n",
       "| chr1 | 137737 | 139544 | chr1:137737-139544 | 53.31069 | 0.001989432 | 1.587698 | 88.49095 | 0.003088594 | 2.568239 | 68.38794 |  0.7581450 | 0.1908046 |  3.9734116 | 7.085046e-05 | 0.001396904 |  0.7581450 |  0.69384307 |  0.46354308 |\n",
       "| chr1 | 180982 | 182087 | chr1:180982-182087 | 33.14167 | 0.002023449 | 1.614823 | 37.69949 | 0.002152353 | 1.789643 | 35.09502 |  0.1910327 | 0.2416620 |  0.7904953 | 4.292385e-01 | 0.696333205 |  0.1910327 |  0.14829577 |  0.09336721 |\n",
       "| chr1 | 183239 | 184602 | chr1:183239-184602 | 48.85236 | 0.002417931 | 1.929666 | 50.52595 | 0.002341748 | 1.946520 | 49.56961 |  0.0828976 | 0.2018062 |  0.4107782 | 6.812352e-01 | 0.858098159 |  0.0828976 |  0.01254577 |  0.00827570 |\n",
       "| chr1 | 186238 | 187159 | chr1:186238-187159 | 53.47788 | 0.003915565 | 3.124918 | 46.42704 | 0.003187302 | 2.648746 | 50.45609 | -0.1395572 | 0.2159412 | -0.6462742 | 5.181018e-01 | 0.760177354 | -0.1395572 | -0.23850866 | -0.17696459 |\n",
       "| chr1 | 191188 | 191739 | chr1:191188-191739 | 51.08362 | 0.006243608 | 4.982741 | 47.37843 | 0.005430942 | 4.514617 | 49.49568 |  0.0121358 | 0.2108722 |  0.0575505 | 9.541067e-01 | 0.982825732 |  0.0121358 | -0.14233597 | -0.11754591 |\n",
       "\n"
      ],
      "text/plain": [
       "  Chrom ChromStart ChromEnd Region             Input_DESeq Input_FPKM \n",
       "1 chr1   17237      17772   chr1:17237-17772   18.02759    0.002271413\n",
       "2 chr1  137737     139544   chr1:137737-139544 53.31069    0.001989432\n",
       "3 chr1  180982     182087   chr1:180982-182087 33.14167    0.002023449\n",
       "4 chr1  183239     184602   chr1:183239-184602 48.85236    0.002417931\n",
       "5 chr1  186238     187159   chr1:186238-187159 53.47788    0.003915565\n",
       "6 chr1  191188     191739   chr1:191188-191739 51.08362    0.006243608\n",
       "  Input_TPM Output_DESeq Output_FPKM Output_TPM baseMean log2FoldChange\n",
       "1 1.812727  12.15365     0.001432397 1.191103   15.51018 -0.5529035    \n",
       "2 1.587698  88.49095     0.003088594 2.568239   68.38794  0.7581450    \n",
       "3 1.614823  37.69949     0.002152353 1.789643   35.09502  0.1910327    \n",
       "4 1.929666  50.52595     0.002341748 1.946520   49.56961  0.0828976    \n",
       "5 3.124918  46.42704     0.003187302 2.648746   50.45609 -0.1395572    \n",
       "6 4.982741  47.37843     0.005430942 4.514617   49.49568  0.0121358    \n",
       "  lfcSE     stat       pvalue       padj        Log2FC_DESeq Log2FC_TPM \n",
       "1 0.3647704 -1.5157577 1.295806e-01 0.373586438 -0.5529035   -0.60586290\n",
       "2 0.1908046  3.9734116 7.085046e-05 0.001396904  0.7581450    0.69384307\n",
       "3 0.2416620  0.7904953 4.292385e-01 0.696333205  0.1910327    0.14829577\n",
       "4 0.2018062  0.4107782 6.812352e-01 0.858098159  0.0828976    0.01254577\n",
       "5 0.2159412 -0.6462742 5.181018e-01 0.760177354 -0.1395572   -0.23850866\n",
       "6 0.2108722  0.0575505 9.541067e-01 0.982825732  0.0121358   -0.14233597\n",
       "  pLog2FC_TPM\n",
       "1 -0.36031188\n",
       "2  0.46354308\n",
       "3  0.09336721\n",
       "4  0.00827570\n",
       "5 -0.17696459\n",
       "6 -0.11754591"
      ]
     },
     "metadata": {},
     "output_type": "display_data"
    }
   ],
   "source": [
    "idx  = \"STARR_WHG_K562_Reddy_A001\"\n",
    "lst  = lst_dat_region_coverage_summary\n",
    "dat1 = lst[[idx]]\n",
    "lst  = lst_dat_region_coverage_deseq\n",
    "dat2 = lst[[idx]]\n",
    "\n",
    "vec = c(\"Chrom\", \"ChromStart\", \"ChromEnd\", \"Region\")\n",
    "dat = dplyr::inner_join(dat1, dat2, by = vec)\n",
    "dat = dat %>% dplyr::mutate(\n",
    "    Log2FC_DESeq = log2FoldChange, \n",
    "    Log2FC_TPM   = log2(Output_TPM)-log2(Input_TPM),\n",
    "    pLog2FC_TPM  = log2(Output_TPM+1)-log2(Input_TPM+1)\n",
    ")\n",
    "\n",
    "head(dat)"
   ]
  },
  {
   "cell_type": "code",
   "execution_count": 27,
   "id": "bb5eabf2-a065-453a-8e72-1c66ef7194c1",
   "metadata": {},
   "outputs": [
    {
     "data": {
      "image/png": "[encoded data removed]",
      "text/plain": [
       "plot without title"
      ]
     },
     "metadata": {
      "image/png": {
       "height": 300,
       "width": 300
      }
     },
     "output_type": "display_data"
    }
   ],
   "source": [
    "gpt = ggplot(dat, aes(x=Log2FC_TPM, y=Log2FC_DESeq)) + \n",
    "    geom_point(alpha = 0.3) + \n",
    "    geom_hline(yintercept = 0) +\n",
    "    geom_vline(xintercept = 0) +\n",
    "    theme_cowplot() + \n",
    "    background_grid() +\n",
    "    labs(x = \"Log2 Fold Change (TPM)\", y = \"Log2 Fold Change (DESeq2)\", title = \"WHG-STARR-seq\")\n",
    "\n",
    "options(repr.plot.height=5, repr.plot.width=5)\n",
    "print(gpt)"
   ]
  },
  {
   "cell_type": "code",
   "execution_count": 26,
   "id": "f24206ff-870f-4ae1-b2d5-83f01de85eb0",
   "metadata": {},
   "outputs": [
    {
     "data": {
      "image/png": "[encoded data removed]",
      "text/plain": [
       "plot without title"
      ]
     },
     "metadata": {
      "image/png": {
       "height": 300,
       "width": 300
      }
     },
     "output_type": "display_data"
    }
   ],
   "source": [
    "gpt = ggplot(dat, aes(x=pLog2FC_TPM, y=Log2FC_DESeq)) + \n",
    "    geom_point(alpha = 0.3) + \n",
    "    geom_hline(yintercept = 0) +\n",
    "    geom_vline(xintercept = 0) +\n",
    "    theme_cowplot() + \n",
    "    background_grid() \n",
    "\n",
    "options(repr.plot.height=5, repr.plot.width=5)\n",
    "print(gpt)"
   ]
  },
  {
   "cell_type": "code",
   "execution_count": null,
   "id": "85aa8a40-20f5-4d3a-80b3-12db473f0158",
   "metadata": {},
   "outputs": [],
   "source": []
  },
  {
   "cell_type": "code",
   "execution_count": 5,
   "id": "83c120f2-1641-41bb-a800-8356fb15ad72",
   "metadata": {},
   "outputs": [
    {
     "data": {
      "text/html": [
       "<table>\n",
       " <thead>\n",
       "  <tr>\n",
       "   <th style=\"text-align:left;\"> Batch </th>\n",
       "   <th style=\"text-align:left;\"> Chrom </th>\n",
       "   <th style=\"text-align:right;\"> ChromStart </th>\n",
       "   <th style=\"text-align:right;\"> ChromEnd </th>\n",
       "   <th style=\"text-align:left;\"> Region </th>\n",
       "   <th style=\"text-align:right;\"> Input_DESeq </th>\n",
       "   <th style=\"text-align:right;\"> Input_FPKM </th>\n",
       "   <th style=\"text-align:right;\"> Input_TPM </th>\n",
       "   <th style=\"text-align:right;\"> Output_DESeq </th>\n",
       "   <th style=\"text-align:right;\"> Output_FPKM </th>\n",
       "   <th style=\"text-align:right;\"> Output_TPM </th>\n",
       "  </tr>\n",
       " </thead>\n",
       "<tbody>\n",
       "  <tr>\n",
       "   <td style=\"text-align:left;\"> OL13 </td>\n",
       "   <td style=\"text-align:left;\"> chr11 </td>\n",
       "   <td style=\"text-align:right;\"> 61792073 </td>\n",
       "   <td style=\"text-align:right;\"> 61793400 </td>\n",
       "   <td style=\"text-align:left;\"> chr11:61792073-61793400 </td>\n",
       "   <td style=\"text-align:right;\"> 142727.32 </td>\n",
       "   <td style=\"text-align:right;\"> 51.14884 </td>\n",
       "   <td style=\"text-align:right;\"> 43969.07 </td>\n",
       "   <td style=\"text-align:right;\"> 324659.51 </td>\n",
       "   <td style=\"text-align:right;\"> 64.82986 </td>\n",
       "   <td style=\"text-align:right;\"> 74294.57 </td>\n",
       "  </tr>\n",
       "  <tr>\n",
       "   <td style=\"text-align:left;\"> OL13 </td>\n",
       "   <td style=\"text-align:left;\"> chr11 </td>\n",
       "   <td style=\"text-align:right;\"> 61800349 </td>\n",
       "   <td style=\"text-align:right;\"> 61801103 </td>\n",
       "   <td style=\"text-align:left;\"> chr11:61800349-61801103 </td>\n",
       "   <td style=\"text-align:right;\"> 64599.30 </td>\n",
       "   <td style=\"text-align:right;\"> 40.74804 </td>\n",
       "   <td style=\"text-align:right;\"> 35028.94 </td>\n",
       "   <td style=\"text-align:right;\"> 252902.36 </td>\n",
       "   <td style=\"text-align:right;\"> 88.98829 </td>\n",
       "   <td style=\"text-align:right;\"> 101976.84 </td>\n",
       "  </tr>\n",
       "  <tr>\n",
       "   <td style=\"text-align:left;\"> OL13 </td>\n",
       "   <td style=\"text-align:left;\"> chr11 </td>\n",
       "   <td style=\"text-align:right;\"> 61806747 </td>\n",
       "   <td style=\"text-align:right;\"> 61807139 </td>\n",
       "   <td style=\"text-align:left;\"> chr11:61806747-61807139 </td>\n",
       "   <td style=\"text-align:right;\"> 71655.21 </td>\n",
       "   <td style=\"text-align:right;\"> 86.93375 </td>\n",
       "   <td style=\"text-align:right;\"> 74731.12 </td>\n",
       "   <td style=\"text-align:right;\"> 18736.07 </td>\n",
       "   <td style=\"text-align:right;\"> 12.64441 </td>\n",
       "   <td style=\"text-align:right;\"> 14484.02 </td>\n",
       "  </tr>\n",
       "</tbody>\n",
       "</table>"
      ]
     },
     "metadata": {},
     "output_type": "display_data"
    },
    {
     "data": {
      "text/html": [
       "<table>\n",
       " <thead>\n",
       "  <tr>\n",
       "   <th style=\"text-align:left;\"> Chrom </th>\n",
       "   <th style=\"text-align:right;\"> ChromStart </th>\n",
       "   <th style=\"text-align:right;\"> ChromEnd </th>\n",
       "   <th style=\"text-align:left;\"> Region </th>\n",
       "   <th style=\"text-align:right;\"> Input_DESeq </th>\n",
       "   <th style=\"text-align:right;\"> Input_FPKM </th>\n",
       "   <th style=\"text-align:right;\"> Input_TPM </th>\n",
       "   <th style=\"text-align:right;\"> Output_DESeq </th>\n",
       "   <th style=\"text-align:right;\"> Output_FPKM </th>\n",
       "   <th style=\"text-align:right;\"> Output_TPM </th>\n",
       "  </tr>\n",
       " </thead>\n",
       "<tbody>\n",
       "  <tr>\n",
       "   <td style=\"text-align:left;\"> chr1 </td>\n",
       "   <td style=\"text-align:right;\"> 10038 </td>\n",
       "   <td style=\"text-align:right;\"> 10405 </td>\n",
       "   <td style=\"text-align:left;\"> chr1:10038-10405 </td>\n",
       "   <td style=\"text-align:right;\"> 98.67650 </td>\n",
       "   <td style=\"text-align:right;\"> 0.0041644 </td>\n",
       "   <td style=\"text-align:right;\"> 3.940038 </td>\n",
       "   <td style=\"text-align:right;\"> 0.00000 </td>\n",
       "   <td style=\"text-align:right;\"> 0.0000000 </td>\n",
       "   <td style=\"text-align:right;\"> 0.0000000 </td>\n",
       "  </tr>\n",
       "  <tr>\n",
       "   <td style=\"text-align:left;\"> chr1 </td>\n",
       "   <td style=\"text-align:right;\"> 14282 </td>\n",
       "   <td style=\"text-align:right;\"> 14614 </td>\n",
       "   <td style=\"text-align:left;\"> chr1:14282-14614 </td>\n",
       "   <td style=\"text-align:right;\"> 64.39957 </td>\n",
       "   <td style=\"text-align:right;\"> 0.0030033 </td>\n",
       "   <td style=\"text-align:right;\"> 2.841707 </td>\n",
       "   <td style=\"text-align:right;\"> 20.49193 </td>\n",
       "   <td style=\"text-align:right;\"> 0.0008461 </td>\n",
       "   <td style=\"text-align:right;\"> 0.8008422 </td>\n",
       "  </tr>\n",
       "  <tr>\n",
       "   <td style=\"text-align:left;\"> chr1 </td>\n",
       "   <td style=\"text-align:right;\"> 16025 </td>\n",
       "   <td style=\"text-align:right;\"> 16338 </td>\n",
       "   <td style=\"text-align:left;\"> chr1:16025-16338 </td>\n",
       "   <td style=\"text-align:right;\"> 81.84571 </td>\n",
       "   <td style=\"text-align:right;\"> 0.0040487 </td>\n",
       "   <td style=\"text-align:right;\"> 3.830812 </td>\n",
       "   <td style=\"text-align:right;\"> 29.80962 </td>\n",
       "   <td style=\"text-align:right;\"> 0.0013189 </td>\n",
       "   <td style=\"text-align:right;\"> 1.2473554 </td>\n",
       "  </tr>\n",
       "</tbody>\n",
       "</table>"
      ]
     },
     "metadata": {},
     "output_type": "display_data"
    },
    {
     "data": {
      "text/html": [
       "<table>\n",
       " <thead>\n",
       "  <tr>\n",
       "   <th style=\"text-align:left;\"> Chrom </th>\n",
       "   <th style=\"text-align:right;\"> ChromStart </th>\n",
       "   <th style=\"text-align:right;\"> ChromEnd </th>\n",
       "   <th style=\"text-align:left;\"> Region </th>\n",
       "   <th style=\"text-align:right;\"> Input_DESeq </th>\n",
       "   <th style=\"text-align:right;\"> Input_FPKM </th>\n",
       "   <th style=\"text-align:right;\"> Input_TPM </th>\n",
       "   <th style=\"text-align:right;\"> Output_DESeq </th>\n",
       "   <th style=\"text-align:right;\"> Output_FPKM </th>\n",
       "   <th style=\"text-align:right;\"> Output_TPM </th>\n",
       "  </tr>\n",
       " </thead>\n",
       "<tbody>\n",
       "  <tr>\n",
       "   <td style=\"text-align:left;\"> chr1 </td>\n",
       "   <td style=\"text-align:right;\"> 10038 </td>\n",
       "   <td style=\"text-align:right;\"> 10405 </td>\n",
       "   <td style=\"text-align:left;\"> chr1:10038-10405 </td>\n",
       "   <td style=\"text-align:right;\"> 96.32888 </td>\n",
       "   <td style=\"text-align:right;\"> 0.0041644 </td>\n",
       "   <td style=\"text-align:right;\"> 3.940038 </td>\n",
       "   <td style=\"text-align:right;\"> 22.18751 </td>\n",
       "   <td style=\"text-align:right;\"> 0.0007357 </td>\n",
       "   <td style=\"text-align:right;\"> 0.7181993 </td>\n",
       "  </tr>\n",
       "  <tr>\n",
       "   <td style=\"text-align:left;\"> chr1 </td>\n",
       "   <td style=\"text-align:right;\"> 14282 </td>\n",
       "   <td style=\"text-align:right;\"> 14614 </td>\n",
       "   <td style=\"text-align:left;\"> chr1:14282-14614 </td>\n",
       "   <td style=\"text-align:right;\"> 62.86738 </td>\n",
       "   <td style=\"text-align:right;\"> 0.0030033 </td>\n",
       "   <td style=\"text-align:right;\"> 2.841707 </td>\n",
       "   <td style=\"text-align:right;\"> 61.74133 </td>\n",
       "   <td style=\"text-align:right;\"> 0.0022621 </td>\n",
       "   <td style=\"text-align:right;\"> 2.2104314 </td>\n",
       "  </tr>\n",
       "  <tr>\n",
       "   <td style=\"text-align:left;\"> chr1 </td>\n",
       "   <td style=\"text-align:right;\"> 16025 </td>\n",
       "   <td style=\"text-align:right;\"> 16338 </td>\n",
       "   <td style=\"text-align:left;\"> chr1:16025-16338 </td>\n",
       "   <td style=\"text-align:right;\"> 79.89682 </td>\n",
       "   <td style=\"text-align:right;\"> 0.0040487 </td>\n",
       "   <td style=\"text-align:right;\"> 3.830812 </td>\n",
       "   <td style=\"text-align:right;\"> 33.38053 </td>\n",
       "   <td style=\"text-align:right;\"> 0.0012867 </td>\n",
       "   <td style=\"text-align:right;\"> 1.2597204 </td>\n",
       "  </tr>\n",
       "</tbody>\n",
       "</table>"
      ]
     },
     "metadata": {},
     "output_type": "display_data"
    },
    {
     "data": {
      "text/html": [
       "<table>\n",
       " <thead>\n",
       "  <tr>\n",
       "   <th style=\"text-align:left;\"> Chrom </th>\n",
       "   <th style=\"text-align:right;\"> ChromStart </th>\n",
       "   <th style=\"text-align:right;\"> ChromEnd </th>\n",
       "   <th style=\"text-align:left;\"> Region </th>\n",
       "   <th style=\"text-align:right;\"> Input_DESeq </th>\n",
       "   <th style=\"text-align:right;\"> Input_FPKM </th>\n",
       "   <th style=\"text-align:right;\"> Input_TPM </th>\n",
       "   <th style=\"text-align:right;\"> Output_DESeq </th>\n",
       "   <th style=\"text-align:right;\"> Output_FPKM </th>\n",
       "   <th style=\"text-align:right;\"> Output_TPM </th>\n",
       "  </tr>\n",
       " </thead>\n",
       "<tbody>\n",
       "  <tr>\n",
       "   <td style=\"text-align:left;\"> chr1 </td>\n",
       "   <td style=\"text-align:right;\"> 10038 </td>\n",
       "   <td style=\"text-align:right;\"> 10405 </td>\n",
       "   <td style=\"text-align:left;\"> chr1:10038-10405 </td>\n",
       "   <td style=\"text-align:right;\"> 69.80239 </td>\n",
       "   <td style=\"text-align:right;\"> 0.0041644 </td>\n",
       "   <td style=\"text-align:right;\"> 3.940038 </td>\n",
       "   <td style=\"text-align:right;\"> 9.162451 </td>\n",
       "   <td style=\"text-align:right;\"> 0.0004204 </td>\n",
       "   <td style=\"text-align:right;\"> 0.4103996 </td>\n",
       "  </tr>\n",
       "  <tr>\n",
       "   <td style=\"text-align:left;\"> chr1 </td>\n",
       "   <td style=\"text-align:right;\"> 14282 </td>\n",
       "   <td style=\"text-align:right;\"> 14614 </td>\n",
       "   <td style=\"text-align:left;\"> chr1:14282-14614 </td>\n",
       "   <td style=\"text-align:right;\"> 45.55563 </td>\n",
       "   <td style=\"text-align:right;\"> 0.0030033 </td>\n",
       "   <td style=\"text-align:right;\"> 2.841707 </td>\n",
       "   <td style=\"text-align:right;\"> 31.773044 </td>\n",
       "   <td style=\"text-align:right;\"> 0.0016552 </td>\n",
       "   <td style=\"text-align:right;\"> 1.6063217 </td>\n",
       "  </tr>\n",
       "  <tr>\n",
       "   <td style=\"text-align:left;\"> chr1 </td>\n",
       "   <td style=\"text-align:right;\"> 16025 </td>\n",
       "   <td style=\"text-align:right;\"> 16338 </td>\n",
       "   <td style=\"text-align:left;\"> chr1:16025-16338 </td>\n",
       "   <td style=\"text-align:right;\"> 57.89633 </td>\n",
       "   <td style=\"text-align:right;\"> 0.0040487 </td>\n",
       "   <td style=\"text-align:right;\"> 3.830812 </td>\n",
       "   <td style=\"text-align:right;\"> 22.921286 </td>\n",
       "   <td style=\"text-align:right;\"> 0.0013005 </td>\n",
       "   <td style=\"text-align:right;\"> 1.2544211 </td>\n",
       "  </tr>\n",
       "</tbody>\n",
       "</table>"
      ]
     },
     "metadata": {},
     "output_type": "display_data"
    },
    {
     "data": {
      "text/html": [
       "<table>\n",
       " <thead>\n",
       "  <tr>\n",
       "   <th style=\"text-align:left;\"> Chrom </th>\n",
       "   <th style=\"text-align:right;\"> ChromStart </th>\n",
       "   <th style=\"text-align:right;\"> ChromEnd </th>\n",
       "   <th style=\"text-align:left;\"> Region </th>\n",
       "   <th style=\"text-align:right;\"> Input_DESeq </th>\n",
       "   <th style=\"text-align:right;\"> Input_FPKM </th>\n",
       "   <th style=\"text-align:right;\"> Input_TPM </th>\n",
       "   <th style=\"text-align:right;\"> Output_DESeq </th>\n",
       "   <th style=\"text-align:right;\"> Output_FPKM </th>\n",
       "   <th style=\"text-align:right;\"> Output_TPM </th>\n",
       "  </tr>\n",
       " </thead>\n",
       "<tbody>\n",
       "  <tr>\n",
       "   <td style=\"text-align:left;\"> chr1 </td>\n",
       "   <td style=\"text-align:right;\"> 10038 </td>\n",
       "   <td style=\"text-align:right;\"> 10405 </td>\n",
       "   <td style=\"text-align:left;\"> chr1:10038-10405 </td>\n",
       "   <td style=\"text-align:right;\"> NA </td>\n",
       "   <td style=\"text-align:right;\"> 0.0002732 </td>\n",
       "   <td style=\"text-align:right;\"> 0.1900767 </td>\n",
       "   <td style=\"text-align:right;\"> NA </td>\n",
       "   <td style=\"text-align:right;\"> 0.0000000 </td>\n",
       "   <td style=\"text-align:right;\"> 0.000000 </td>\n",
       "  </tr>\n",
       "  <tr>\n",
       "   <td style=\"text-align:left;\"> chr1 </td>\n",
       "   <td style=\"text-align:right;\"> 14282 </td>\n",
       "   <td style=\"text-align:right;\"> 14614 </td>\n",
       "   <td style=\"text-align:left;\"> chr1:14282-14614 </td>\n",
       "   <td style=\"text-align:right;\"> NA </td>\n",
       "   <td style=\"text-align:right;\"> 0.0000000 </td>\n",
       "   <td style=\"text-align:right;\"> 0.0000000 </td>\n",
       "   <td style=\"text-align:right;\"> NA </td>\n",
       "   <td style=\"text-align:right;\"> 0.0000342 </td>\n",
       "   <td style=\"text-align:right;\"> 0.024998 </td>\n",
       "  </tr>\n",
       "  <tr>\n",
       "   <td style=\"text-align:left;\"> chr1 </td>\n",
       "   <td style=\"text-align:right;\"> 16025 </td>\n",
       "   <td style=\"text-align:right;\"> 16338 </td>\n",
       "   <td style=\"text-align:left;\"> chr1:16025-16338 </td>\n",
       "   <td style=\"text-align:right;\"> NA </td>\n",
       "   <td style=\"text-align:right;\"> 0.0017855 </td>\n",
       "   <td style=\"text-align:right;\"> 1.2419070 </td>\n",
       "   <td style=\"text-align:right;\"> NA </td>\n",
       "   <td style=\"text-align:right;\"> 0.0023876 </td>\n",
       "   <td style=\"text-align:right;\"> 1.754151 </td>\n",
       "  </tr>\n",
       "</tbody>\n",
       "</table>"
      ]
     },
     "metadata": {},
     "output_type": "display_data"
    }
   ],
   "source": [
    "for (dat in lst){\n",
    "    fun_display_table(head(dat, 3))\n",
    "    flush.console()\n",
    "}"
   ]
  },
  {
   "cell_type": "code",
   "execution_count": null,
   "id": "7301be48-9ba0-4c7a-adb2-f90848da228f",
   "metadata": {},
   "outputs": [],
   "source": []
  },
  {
   "cell_type": "code",
   "execution_count": null,
   "id": "393d639a-24f6-4145-b1d9-a33b634d7ba5",
   "metadata": {},
   "outputs": [],
   "source": []
  },
  {
   "cell_type": "code",
   "execution_count": null,
   "id": "9643fe0e-d910-4a20-8920-164b28b4d7d6",
   "metadata": {},
   "outputs": [],
   "source": []
  },
  {
   "cell_type": "code",
   "execution_count": 7,
   "id": "a444b81d-ed81-457a-8574-c1eb1f98d81a",
   "metadata": {},
   "outputs": [
    {
     "name": "stdout",
     "output_type": "stream",
     "text": [
      "/data/reddylab/Kuei/repo/Proj_ENCODE_FCC/results/region_coverage_fcc_score/fcc_astarr_macs_input_overlap/STARR_ATAC_K562_Reddy_KS274/summary/matrix.count.deseq.WGS.tsv \n",
      "/data/reddylab/Kuei/repo/Proj_ENCODE_FCC/results/region_coverage_fcc_score/fcc_astarr_macs_input_overlap/STARR_ATAC_K562_Reddy_KS91/summary/matrix.count.deseq.WGS.tsv \n",
      "/data/reddylab/Kuei/repo/Proj_ENCODE_FCC/results/region_coverage_fcc_score/fcc_astarr_macs_input_overlap/STARR_ATAC_K562_Reddy_KSMerge/summary/matrix.count.deseq.WGS.tsv \n",
      "/data/reddylab/Kuei/repo/Proj_ENCODE_FCC/results/region_coverage_fcc_score/fcc_astarr_macs_input_overlap/STARR_WHG_K562_Reddy_A001/summary/matrix.count.deseq.WGS.tsv \n",
      "[[1]]\n",
      "[1] 150041     13\n",
      "\n",
      "[[2]]\n",
      "[1] 150040     14\n",
      "\n",
      "[[3]]\n",
      "[1] 150040     17\n",
      "\n",
      "[[4]]\n",
      "[1] 146594     11\n",
      "\n"
     ]
    },
    {
     "data": {
      "text/html": [
       "<table>\n",
       " <thead>\n",
       "  <tr>\n",
       "   <th style=\"text-align:left;\"> Chrom </th>\n",
       "   <th style=\"text-align:right;\"> ChromStart </th>\n",
       "   <th style=\"text-align:right;\"> ChromEnd </th>\n",
       "   <th style=\"text-align:left;\"> Region </th>\n",
       "   <th style=\"text-align:right;\"> Input.rep1 </th>\n",
       "   <th style=\"text-align:right;\"> Input.rep2 </th>\n",
       "   <th style=\"text-align:right;\"> Input.rep3 </th>\n",
       "   <th style=\"text-align:right;\"> Input.rep4 </th>\n",
       "   <th style=\"text-align:right;\"> Input.rep5 </th>\n",
       "   <th style=\"text-align:right;\"> Input.rep6 </th>\n",
       "   <th style=\"text-align:right;\"> Output.rep1 </th>\n",
       "   <th style=\"text-align:right;\"> Output.rep2 </th>\n",
       "   <th style=\"text-align:right;\"> Output.rep3 </th>\n",
       "  </tr>\n",
       " </thead>\n",
       "<tbody>\n",
       "  <tr>\n",
       "   <td style=\"text-align:left;\"> chr1 </td>\n",
       "   <td style=\"text-align:right;\"> 10038 </td>\n",
       "   <td style=\"text-align:right;\"> 10405 </td>\n",
       "   <td style=\"text-align:left;\"> chr1:10038-10405 </td>\n",
       "   <td style=\"text-align:right;\"> 87.34594 </td>\n",
       "   <td style=\"text-align:right;\"> 97.16003 </td>\n",
       "   <td style=\"text-align:right;\"> 106.42588 </td>\n",
       "   <td style=\"text-align:right;\"> 106.54933 </td>\n",
       "   <td style=\"text-align:right;\"> 85.01250 </td>\n",
       "   <td style=\"text-align:right;\"> 109.56535 </td>\n",
       "   <td style=\"text-align:right;\"> 0.00000 </td>\n",
       "   <td style=\"text-align:right;\"> 0.00000 </td>\n",
       "   <td style=\"text-align:right;\"> 0.00000 </td>\n",
       "  </tr>\n",
       "  <tr>\n",
       "   <td style=\"text-align:left;\"> chr1 </td>\n",
       "   <td style=\"text-align:right;\"> 14282 </td>\n",
       "   <td style=\"text-align:right;\"> 14614 </td>\n",
       "   <td style=\"text-align:left;\"> chr1:14282-14614 </td>\n",
       "   <td style=\"text-align:right;\"> 63.85290 </td>\n",
       "   <td style=\"text-align:right;\"> 65.24272 </td>\n",
       "   <td style=\"text-align:right;\"> 66.73426 </td>\n",
       "   <td style=\"text-align:right;\"> 63.74348 </td>\n",
       "   <td style=\"text-align:right;\"> 58.74459 </td>\n",
       "   <td style=\"text-align:right;\"> 68.07944 </td>\n",
       "   <td style=\"text-align:right;\"> 14.92312 </td>\n",
       "   <td style=\"text-align:right;\"> 28.31232 </td>\n",
       "   <td style=\"text-align:right;\"> 18.24034 </td>\n",
       "  </tr>\n",
       "  <tr>\n",
       "   <td style=\"text-align:left;\"> chr1 </td>\n",
       "   <td style=\"text-align:right;\"> 16025 </td>\n",
       "   <td style=\"text-align:right;\"> 16338 </td>\n",
       "   <td style=\"text-align:left;\"> chr1:16025-16338 </td>\n",
       "   <td style=\"text-align:right;\"> 74.69584 </td>\n",
       "   <td style=\"text-align:right;\"> 88.71133 </td>\n",
       "   <td style=\"text-align:right;\"> 76.33004 </td>\n",
       "   <td style=\"text-align:right;\"> 79.09775 </td>\n",
       "   <td style=\"text-align:right;\"> 85.01250 </td>\n",
       "   <td style=\"text-align:right;\"> 87.22678 </td>\n",
       "   <td style=\"text-align:right;\"> 55.96171 </td>\n",
       "   <td style=\"text-align:right;\"> 18.87488 </td>\n",
       "   <td style=\"text-align:right;\"> 14.59228 </td>\n",
       "  </tr>\n",
       "</tbody>\n",
       "</table>"
      ]
     },
     "metadata": {},
     "output_type": "display_data"
    }
   ],
   "source": [
    "txt_folder = \"fcc_astarr_macs_input_overlap\"\n",
    "txt_fdiry  = file.path(\n",
    "    FD_RES, \"region_coverage_fcc_score\",\n",
    "    txt_folder,\n",
    "    \"*\",\n",
    "    \"summary\"\n",
    ")\n",
    "txt_fname = \"matrix.count.deseq.WGS.tsv\"\n",
    "txt_fglob = file.path(txt_fdiry, txt_fname)\n",
    "\n",
    "vec = Sys.glob(txt_fglob)\n",
    "vec_txt_fpath = vec\n",
    "for (txt in vec) {cat(txt, \"\\n\")}\n",
    "\n",
    "lst = lapply(vec_txt_fpath, function(txt_fpath){\n",
    "    dat = read_tsv(txt_fpath, show_col_types = FALSE)\n",
    "    return(dat)\n",
    "})\n",
    "\n",
    "lst_dat_region_coverage = lst\n",
    "\n",
    "res = lapply(lst, dim)\n",
    "print(res)\n",
    "\n",
    "dat = lst[[1]]\n",
    "fun_display_table(head(dat, 3))"
   ]
  },
  {
   "cell_type": "code",
   "execution_count": 9,
   "id": "d39bd7df-afbc-4f5e-b1d7-009c4e0fe7e5",
   "metadata": {},
   "outputs": [
    {
     "name": "stdout",
     "output_type": "stream",
     "text": [
      "[1] FALSE\n"
     ]
    },
    {
     "data": {
      "text/html": [
       "<table>\n",
       " <thead>\n",
       "  <tr>\n",
       "   <th style=\"text-align:left;\"> Chrom </th>\n",
       "   <th style=\"text-align:right;\"> ChromStart </th>\n",
       "   <th style=\"text-align:right;\"> ChromEnd </th>\n",
       "   <th style=\"text-align:left;\"> Region </th>\n",
       "   <th style=\"text-align:right;\"> Input.rep1 </th>\n",
       "   <th style=\"text-align:right;\"> Input.rep2 </th>\n",
       "   <th style=\"text-align:right;\"> Input.rep3 </th>\n",
       "   <th style=\"text-align:right;\"> Input.rep4 </th>\n",
       "   <th style=\"text-align:right;\"> Input.rep5 </th>\n",
       "   <th style=\"text-align:right;\"> Input.rep6 </th>\n",
       "   <th style=\"text-align:right;\"> Output.rep1 </th>\n",
       "   <th style=\"text-align:right;\"> Output.rep2 </th>\n",
       "   <th style=\"text-align:right;\"> Output.rep3 </th>\n",
       "  </tr>\n",
       " </thead>\n",
       "<tbody>\n",
       "  <tr>\n",
       "   <td style=\"text-align:left;\"> chr1 </td>\n",
       "   <td style=\"text-align:right;\"> 10038 </td>\n",
       "   <td style=\"text-align:right;\"> 10405 </td>\n",
       "   <td style=\"text-align:left;\"> chr1:10038-10405 </td>\n",
       "   <td style=\"text-align:right;\"> 87.34594 </td>\n",
       "   <td style=\"text-align:right;\"> 97.16003 </td>\n",
       "   <td style=\"text-align:right;\"> 106.42588 </td>\n",
       "   <td style=\"text-align:right;\"> 106.54933 </td>\n",
       "   <td style=\"text-align:right;\"> 85.01250 </td>\n",
       "   <td style=\"text-align:right;\"> 109.56535 </td>\n",
       "   <td style=\"text-align:right;\"> 0.00000 </td>\n",
       "   <td style=\"text-align:right;\"> 0.00000 </td>\n",
       "   <td style=\"text-align:right;\"> 0.00000 </td>\n",
       "  </tr>\n",
       "  <tr>\n",
       "   <td style=\"text-align:left;\"> chr1 </td>\n",
       "   <td style=\"text-align:right;\"> 14282 </td>\n",
       "   <td style=\"text-align:right;\"> 14614 </td>\n",
       "   <td style=\"text-align:left;\"> chr1:14282-14614 </td>\n",
       "   <td style=\"text-align:right;\"> 63.85290 </td>\n",
       "   <td style=\"text-align:right;\"> 65.24272 </td>\n",
       "   <td style=\"text-align:right;\"> 66.73426 </td>\n",
       "   <td style=\"text-align:right;\"> 63.74348 </td>\n",
       "   <td style=\"text-align:right;\"> 58.74459 </td>\n",
       "   <td style=\"text-align:right;\"> 68.07944 </td>\n",
       "   <td style=\"text-align:right;\"> 14.92312 </td>\n",
       "   <td style=\"text-align:right;\"> 28.31232 </td>\n",
       "   <td style=\"text-align:right;\"> 18.24034 </td>\n",
       "  </tr>\n",
       "  <tr>\n",
       "   <td style=\"text-align:left;\"> chr1 </td>\n",
       "   <td style=\"text-align:right;\"> 16025 </td>\n",
       "   <td style=\"text-align:right;\"> 16338 </td>\n",
       "   <td style=\"text-align:left;\"> chr1:16025-16338 </td>\n",
       "   <td style=\"text-align:right;\"> 74.69584 </td>\n",
       "   <td style=\"text-align:right;\"> 88.71133 </td>\n",
       "   <td style=\"text-align:right;\"> 76.33004 </td>\n",
       "   <td style=\"text-align:right;\"> 79.09775 </td>\n",
       "   <td style=\"text-align:right;\"> 85.01250 </td>\n",
       "   <td style=\"text-align:right;\"> 87.22678 </td>\n",
       "   <td style=\"text-align:right;\"> 55.96171 </td>\n",
       "   <td style=\"text-align:right;\"> 18.87488 </td>\n",
       "   <td style=\"text-align:right;\"> 14.59228 </td>\n",
       "  </tr>\n",
       "</tbody>\n",
       "</table>"
      ]
     },
     "metadata": {},
     "output_type": "display_data"
    },
    {
     "name": "stdout",
     "output_type": "stream",
     "text": [
      "[1] FALSE\n"
     ]
    },
    {
     "data": {
      "text/html": [
       "<table>\n",
       " <thead>\n",
       "  <tr>\n",
       "   <th style=\"text-align:left;\"> Chrom </th>\n",
       "   <th style=\"text-align:right;\"> ChromStart </th>\n",
       "   <th style=\"text-align:right;\"> ChromEnd </th>\n",
       "   <th style=\"text-align:left;\"> Region </th>\n",
       "   <th style=\"text-align:right;\"> Input.rep1 </th>\n",
       "   <th style=\"text-align:right;\"> Input.rep2 </th>\n",
       "   <th style=\"text-align:right;\"> Input.rep3 </th>\n",
       "   <th style=\"text-align:right;\"> Input.rep4 </th>\n",
       "   <th style=\"text-align:right;\"> Input.rep5 </th>\n",
       "   <th style=\"text-align:right;\"> Input.rep6 </th>\n",
       "   <th style=\"text-align:right;\"> Output.rep1 </th>\n",
       "   <th style=\"text-align:right;\"> Output.rep2 </th>\n",
       "   <th style=\"text-align:right;\"> Output.rep3 </th>\n",
       "   <th style=\"text-align:right;\"> Output.rep4 </th>\n",
       "  </tr>\n",
       " </thead>\n",
       "<tbody>\n",
       "  <tr>\n",
       "   <td style=\"text-align:left;\"> chr1 </td>\n",
       "   <td style=\"text-align:right;\"> 10038 </td>\n",
       "   <td style=\"text-align:right;\"> 10405 </td>\n",
       "   <td style=\"text-align:left;\"> chr1:10038-10405 </td>\n",
       "   <td style=\"text-align:right;\"> 85.29216 </td>\n",
       "   <td style=\"text-align:right;\"> 94.85917 </td>\n",
       "   <td style=\"text-align:right;\"> 103.92258 </td>\n",
       "   <td style=\"text-align:right;\"> 104.02099 </td>\n",
       "   <td style=\"text-align:right;\"> 82.94011 </td>\n",
       "   <td style=\"text-align:right;\"> 106.93828 </td>\n",
       "   <td style=\"text-align:right;\"> 26.91726 </td>\n",
       "   <td style=\"text-align:right;\"> 34.93514 </td>\n",
       "   <td style=\"text-align:right;\"> 11.10767 </td>\n",
       "   <td style=\"text-align:right;\"> 15.78996 </td>\n",
       "  </tr>\n",
       "  <tr>\n",
       "   <td style=\"text-align:left;\"> chr1 </td>\n",
       "   <td style=\"text-align:right;\"> 14282 </td>\n",
       "   <td style=\"text-align:right;\"> 14614 </td>\n",
       "   <td style=\"text-align:left;\"> chr1:14282-14614 </td>\n",
       "   <td style=\"text-align:right;\"> 62.35151 </td>\n",
       "   <td style=\"text-align:right;\"> 63.69770 </td>\n",
       "   <td style=\"text-align:right;\"> 65.16457 </td>\n",
       "   <td style=\"text-align:right;\"> 62.23090 </td>\n",
       "   <td style=\"text-align:right;\"> 57.31255 </td>\n",
       "   <td style=\"text-align:right;\"> 66.44709 </td>\n",
       "   <td style=\"text-align:right;\"> 43.06761 </td>\n",
       "   <td style=\"text-align:right;\"> 66.95901 </td>\n",
       "   <td style=\"text-align:right;\"> 72.19984 </td>\n",
       "   <td style=\"text-align:right;\"> 64.73885 </td>\n",
       "  </tr>\n",
       "  <tr>\n",
       "   <td style=\"text-align:left;\"> chr1 </td>\n",
       "   <td style=\"text-align:right;\"> 16025 </td>\n",
       "   <td style=\"text-align:right;\"> 16338 </td>\n",
       "   <td style=\"text-align:left;\"> chr1:16025-16338 </td>\n",
       "   <td style=\"text-align:right;\"> 72.93950 </td>\n",
       "   <td style=\"text-align:right;\"> 86.61054 </td>\n",
       "   <td style=\"text-align:right;\"> 74.53464 </td>\n",
       "   <td style=\"text-align:right;\"> 77.22082 </td>\n",
       "   <td style=\"text-align:right;\"> 82.94011 </td>\n",
       "   <td style=\"text-align:right;\"> 85.13533 </td>\n",
       "   <td style=\"text-align:right;\"> 43.06761 </td>\n",
       "   <td style=\"text-align:right;\"> 20.37883 </td>\n",
       "   <td style=\"text-align:right;\"> 41.65375 </td>\n",
       "   <td style=\"text-align:right;\"> 28.42194 </td>\n",
       "  </tr>\n",
       "</tbody>\n",
       "</table>"
      ]
     },
     "metadata": {},
     "output_type": "display_data"
    },
    {
     "name": "stdout",
     "output_type": "stream",
     "text": [
      "[1] FALSE\n"
     ]
    },
    {
     "data": {
      "text/html": [
       "<table>\n",
       " <thead>\n",
       "  <tr>\n",
       "   <th style=\"text-align:left;\"> Chrom </th>\n",
       "   <th style=\"text-align:right;\"> ChromStart </th>\n",
       "   <th style=\"text-align:right;\"> ChromEnd </th>\n",
       "   <th style=\"text-align:left;\"> Region </th>\n",
       "   <th style=\"text-align:right;\"> Input.rep1 </th>\n",
       "   <th style=\"text-align:right;\"> Input.rep2 </th>\n",
       "   <th style=\"text-align:right;\"> Input.rep3 </th>\n",
       "   <th style=\"text-align:right;\"> Input.rep4 </th>\n",
       "   <th style=\"text-align:right;\"> Input.rep5 </th>\n",
       "   <th style=\"text-align:right;\"> Input.rep6 </th>\n",
       "   <th style=\"text-align:right;\"> Output.rep1 </th>\n",
       "   <th style=\"text-align:right;\"> Output.rep2 </th>\n",
       "   <th style=\"text-align:right;\"> Output.rep3 </th>\n",
       "   <th style=\"text-align:right;\"> Output.rep4 </th>\n",
       "   <th style=\"text-align:right;\"> Output.rep5 </th>\n",
       "   <th style=\"text-align:right;\"> Output.rep6 </th>\n",
       "   <th style=\"text-align:right;\"> Output.rep7 </th>\n",
       "  </tr>\n",
       " </thead>\n",
       "<tbody>\n",
       "  <tr>\n",
       "   <td style=\"text-align:left;\"> chr1 </td>\n",
       "   <td style=\"text-align:right;\"> 10038 </td>\n",
       "   <td style=\"text-align:right;\"> 10405 </td>\n",
       "   <td style=\"text-align:left;\"> chr1:10038-10405 </td>\n",
       "   <td style=\"text-align:right;\"> 61.80066 </td>\n",
       "   <td style=\"text-align:right;\"> 68.74870 </td>\n",
       "   <td style=\"text-align:right;\"> 75.30292 </td>\n",
       "   <td style=\"text-align:right;\"> 75.36581 </td>\n",
       "   <td style=\"text-align:right;\"> 60.12194 </td>\n",
       "   <td style=\"text-align:right;\"> 77.47433 </td>\n",
       "   <td style=\"text-align:right;\"> 19.41690 </td>\n",
       "   <td style=\"text-align:right;\"> 25.28700 </td>\n",
       "   <td style=\"text-align:right;\"> 8.036995 </td>\n",
       "   <td style=\"text-align:right;\"> 11.39625 </td>\n",
       "   <td style=\"text-align:right;\"> 0.00000 </td>\n",
       "   <td style=\"text-align:right;\"> 0.00000 </td>\n",
       "   <td style=\"text-align:right;\"> 0.00000 </td>\n",
       "  </tr>\n",
       "  <tr>\n",
       "   <td style=\"text-align:left;\"> chr1 </td>\n",
       "   <td style=\"text-align:right;\"> 14282 </td>\n",
       "   <td style=\"text-align:right;\"> 14614 </td>\n",
       "   <td style=\"text-align:left;\"> chr1:14282-14614 </td>\n",
       "   <td style=\"text-align:right;\"> 45.17842 </td>\n",
       "   <td style=\"text-align:right;\"> 46.16459 </td>\n",
       "   <td style=\"text-align:right;\"> 47.21863 </td>\n",
       "   <td style=\"text-align:right;\"> 45.08784 </td>\n",
       "   <td style=\"text-align:right;\"> 41.54494 </td>\n",
       "   <td style=\"text-align:right;\"> 48.13939 </td>\n",
       "   <td style=\"text-align:right;\"> 31.06705 </td>\n",
       "   <td style=\"text-align:right;\"> 48.46675 </td>\n",
       "   <td style=\"text-align:right;\"> 52.240469 </td>\n",
       "   <td style=\"text-align:right;\"> 46.72463 </td>\n",
       "   <td style=\"text-align:right;\"> 10.69129 </td>\n",
       "   <td style=\"text-align:right;\"> 20.17518 </td>\n",
       "   <td style=\"text-align:right;\"> 13.04593 </td>\n",
       "  </tr>\n",
       "  <tr>\n",
       "   <td style=\"text-align:left;\"> chr1 </td>\n",
       "   <td style=\"text-align:right;\"> 16025 </td>\n",
       "   <td style=\"text-align:right;\"> 16338 </td>\n",
       "   <td style=\"text-align:left;\"> chr1:16025-16338 </td>\n",
       "   <td style=\"text-align:right;\"> 52.85022 </td>\n",
       "   <td style=\"text-align:right;\"> 62.77056 </td>\n",
       "   <td style=\"text-align:right;\"> 54.00824 </td>\n",
       "   <td style=\"text-align:right;\"> 55.94841 </td>\n",
       "   <td style=\"text-align:right;\"> 60.12194 </td>\n",
       "   <td style=\"text-align:right;\"> 61.67860 </td>\n",
       "   <td style=\"text-align:right;\"> 31.06705 </td>\n",
       "   <td style=\"text-align:right;\"> 14.75075 </td>\n",
       "   <td style=\"text-align:right;\"> 30.138732 </td>\n",
       "   <td style=\"text-align:right;\"> 20.51325 </td>\n",
       "   <td style=\"text-align:right;\"> 40.09235 </td>\n",
       "   <td style=\"text-align:right;\"> 13.45012 </td>\n",
       "   <td style=\"text-align:right;\"> 10.43674 </td>\n",
       "  </tr>\n",
       "</tbody>\n",
       "</table>"
      ]
     },
     "metadata": {},
     "output_type": "display_data"
    },
    {
     "name": "stdout",
     "output_type": "stream",
     "text": [
      "[1] FALSE\n"
     ]
    },
    {
     "data": {
      "text/html": [
       "<table>\n",
       " <thead>\n",
       "  <tr>\n",
       "   <th style=\"text-align:left;\"> Chrom </th>\n",
       "   <th style=\"text-align:right;\"> ChromStart </th>\n",
       "   <th style=\"text-align:right;\"> ChromEnd </th>\n",
       "   <th style=\"text-align:left;\"> Region </th>\n",
       "   <th style=\"text-align:right;\"> Input.rep1 </th>\n",
       "   <th style=\"text-align:right;\"> Input.rep2 </th>\n",
       "   <th style=\"text-align:right;\"> Input.rep3 </th>\n",
       "   <th style=\"text-align:right;\"> Input.rep4 </th>\n",
       "   <th style=\"text-align:right;\"> Output.rep1 </th>\n",
       "   <th style=\"text-align:right;\"> Output.rep2 </th>\n",
       "   <th style=\"text-align:right;\"> Output.rep3 </th>\n",
       "  </tr>\n",
       " </thead>\n",
       "<tbody>\n",
       "  <tr>\n",
       "   <td style=\"text-align:left;\"> chr1 </td>\n",
       "   <td style=\"text-align:right;\"> 17288 </td>\n",
       "   <td style=\"text-align:right;\"> 17689 </td>\n",
       "   <td style=\"text-align:left;\"> chr1:17288-17689 </td>\n",
       "   <td style=\"text-align:right;\"> 22.85398 </td>\n",
       "   <td style=\"text-align:right;\"> 14.66521 </td>\n",
       "   <td style=\"text-align:right;\"> 17.22705 </td>\n",
       "   <td style=\"text-align:right;\"> 19.09676 </td>\n",
       "   <td style=\"text-align:right;\"> 11.60282 </td>\n",
       "   <td style=\"text-align:right;\"> 14.50819 </td>\n",
       "   <td style=\"text-align:right;\"> 8.562796 </td>\n",
       "  </tr>\n",
       "  <tr>\n",
       "   <td style=\"text-align:left;\"> chr1 </td>\n",
       "   <td style=\"text-align:right;\"> 138321 </td>\n",
       "   <td style=\"text-align:right;\"> 139517 </td>\n",
       "   <td style=\"text-align:left;\"> chr1:138321-139517 </td>\n",
       "   <td style=\"text-align:right;\"> 54.84954 </td>\n",
       "   <td style=\"text-align:right;\"> 35.44092 </td>\n",
       "   <td style=\"text-align:right;\"> 39.04798 </td>\n",
       "   <td style=\"text-align:right;\"> 47.18023 </td>\n",
       "   <td style=\"text-align:right;\"> 72.19530 </td>\n",
       "   <td style=\"text-align:right;\"> 71.22202 </td>\n",
       "   <td style=\"text-align:right;\"> 47.253949 </td>\n",
       "  </tr>\n",
       "  <tr>\n",
       "   <td style=\"text-align:left;\"> chr1 </td>\n",
       "   <td style=\"text-align:right;\"> 181005 </td>\n",
       "   <td style=\"text-align:right;\"> 181854 </td>\n",
       "   <td style=\"text-align:left;\"> chr1:181005-181854 </td>\n",
       "   <td style=\"text-align:right;\"> 31.99557 </td>\n",
       "   <td style=\"text-align:right;\"> 35.44092 </td>\n",
       "   <td style=\"text-align:right;\"> 28.71175 </td>\n",
       "   <td style=\"text-align:right;\"> 28.08347 </td>\n",
       "   <td style=\"text-align:right;\"> 39.96525 </td>\n",
       "   <td style=\"text-align:right;\"> 33.63262 </td>\n",
       "   <td style=\"text-align:right;\"> 29.176935 </td>\n",
       "  </tr>\n",
       "</tbody>\n",
       "</table>"
      ]
     },
     "metadata": {},
     "output_type": "display_data"
    }
   ],
   "source": [
    "for (dat in lst){\n",
    "    tmp = any(is.na(dat))\n",
    "    print(tmp)\n",
    "    flush.console()\n",
    "    fun_display_table(head(dat, 3))\n",
    "    flush.console()\n",
    "}"
   ]
  },
  {
   "cell_type": "code",
   "execution_count": null,
   "id": "fc7233a3-e327-46c9-99a6-1dc68467bcf9",
   "metadata": {},
   "outputs": [],
   "source": []
  }
 ],
 "metadata": {
  "kernelspec": {
   "display_name": "R",
   "language": "R",
   "name": "ir"
  },
  "language_info": {
   "codemirror_mode": "r",
   "file_extension": ".r",
   "mimetype": "text/x-r-source",
   "name": "R",
   "pygments_lexer": "r",
   "version": "4.5.1"
  }
 },
 "nbformat": 4,
 "nbformat_minor": 5
}
