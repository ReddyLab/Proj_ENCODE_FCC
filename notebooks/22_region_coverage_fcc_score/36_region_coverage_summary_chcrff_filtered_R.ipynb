{
 "cells": [
  {
   "cell_type": "raw",
   "id": "3a3939b2-2460-4e28-a340-f1729ec4e4c2",
   "metadata": {},
   "source": [
    "---\n",
    "title: Region Coverage (FCC) 36\n",
    "subtitle: Summarize coverage for CRISPRi-HCRFF (Filter out safe-targeting guides)\n",
    "format:\n",
    "    html:\n",
    "        code-fold:  true\n",
    "        code-tools: true\n",
    "---"
   ]
  },
  {
   "cell_type": "markdown",
   "id": "b1abb574-09d1-4190-a89a-5ffb89cb53e9",
   "metadata": {},
   "source": [
    "**Set environment**"
   ]
  },
  {
   "cell_type": "code",
   "execution_count": 1,
   "id": "37dc86c9-5535-43ea-990b-fdcc03f125bb",
   "metadata": {},
   "outputs": [
    {
     "name": "stdout",
     "output_type": "stream",
     "text": [
      "You are working on        Singularity: singularity_proj_encode_fcc \n",
      "BASE DIRECTORY (FD_BASE): /data/reddylab/Kuei \n",
      "REPO DIRECTORY (FD_REPO): /data/reddylab/Kuei/repo \n",
      "WORK DIRECTORY (FD_WORK): /data/reddylab/Kuei/work \n",
      "DATA DIRECTORY (FD_DATA): /data/reddylab/Kuei/data \n",
      "\n",
      "You are working with      ENCODE FCC \n",
      "PATH OF PROJECT (FD_PRJ): /data/reddylab/Kuei/repo/Proj_ENCODE_FCC \n",
      "PROJECT RESULTS (FD_RES): /data/reddylab/Kuei/repo/Proj_ENCODE_FCC/results \n",
      "PROJECT SCRIPTS (FD_EXE): /data/reddylab/Kuei/repo/Proj_ENCODE_FCC/scripts \n",
      "PROJECT DATA    (FD_DAT): /data/reddylab/Kuei/repo/Proj_ENCODE_FCC/data \n",
      "PROJECT NOTE    (FD_NBK): /data/reddylab/Kuei/repo/Proj_ENCODE_FCC/notebooks \n",
      "PROJECT DOCS    (FD_DOC): /data/reddylab/Kuei/repo/Proj_ENCODE_FCC/docs \n",
      "PROJECT LOG     (FD_LOG): /data/reddylab/Kuei/repo/Proj_ENCODE_FCC/log \n",
      "PROJECT REF     (FD_REF): /data/reddylab/Kuei/repo/Proj_ENCODE_FCC/references \n",
      "\n"
     ]
    }
   ],
   "source": [
    "suppressMessages(suppressWarnings(source(\"../run_config_project_sing.R\")))\n",
    "show_env()"
   ]
  },
  {
   "cell_type": "markdown",
   "id": "73da2c5b-dd54-4e21-b14a-85b3456b1b2f",
   "metadata": {},
   "source": [
    "**Check: region directory**"
   ]
  },
  {
   "cell_type": "code",
   "execution_count": 2,
   "id": "5c2a4a45-5752-4e4e-8ff2-ef0c2c8b30e8",
   "metadata": {},
   "outputs": [
    {
     "name": "stdout",
     "output_type": "stream",
     "text": [
      "atac_ENCFF333TAT \n",
      "atac_ENCFF558BLC \n",
      "atac_ENCFF925CYR \n",
      "atac_ENCFF948AFM \n",
      "dnase_ENCFF185XRG \n",
      "dnase_ENCFF274YGF \n",
      "fcc_astarr_macs_input_overlap \n",
      "fcc_astarr_macs_input_union \n"
     ]
    }
   ],
   "source": [
    "txt_fdiry = file.path(FD_RES, \"region_coverage_fcc_score\")\n",
    "\n",
    "vec = dir(txt_fdiry)\n",
    "for (txt in vec){cat(txt, \"\\n\")}"
   ]
  },
  {
   "cell_type": "markdown",
   "id": "012f9ce5-1a7c-44ab-b21f-19eb8a723618",
   "metadata": {},
   "source": [
    "**Check: assay directory**"
   ]
  },
  {
   "cell_type": "code",
   "execution_count": 3,
   "id": "9811b216-525d-4313-8b83-03f73d3dd41d",
   "metadata": {},
   "outputs": [
    {
     "name": "stdout",
     "output_type": "stream",
     "text": [
      "CRISPRi_FlowFISH_K562_Riley_JinWoo \n",
      "CRISPRi_Growth_K562_Gersbach_JinWoo \n",
      "MPRA_Lenti_K562_Nadav_Vikram \n",
      "MPRA_Tiling_K562_Tewhey_Hannah \n",
      "STARR_ATAC_K562_Reddy_KS274 \n",
      "STARR_ATAC_K562_Reddy_KS91 \n",
      "STARR_ATAC_K562_Reddy_KSMerge \n",
      "STARR_WHG_K562_Reddy_A001 \n"
     ]
    }
   ],
   "source": [
    "txt_region = \"fcc_astarr_macs_input_union\"\n",
    "txt_fdiry  = file.path(FD_RES, \"region_coverage_fcc_score\", txt_region)\n",
    "vec = dir(txt_fdiry)\n",
    "for (txt in vec) {cat(txt, \"\\n\")}"
   ]
  },
  {
   "cell_type": "markdown",
   "id": "b95aed6c-08f2-4352-b903-44805b4efb58",
   "metadata": {},
   "source": [
    "**Set global variable**"
   ]
  },
  {
   "cell_type": "code",
   "execution_count": 4,
   "id": "2f08b065-3fa2-4231-8c75-ea1adfe93e97",
   "metadata": {},
   "outputs": [
    {
     "name": "stdout",
     "output_type": "stream",
     "text": [
      "fcc_astarr_macs_input_overlap \n",
      "fcc_astarr_macs_input_union \n"
     ]
    }
   ],
   "source": [
    "## init: region folder\n",
    "vec = c(\"fcc_astarr_macs_input_overlap\", \"fcc_astarr_macs_input_union\")\n",
    "names(vec) = vec\n",
    "\n",
    "VEC_TXT_REGION = vec\n",
    "for (txt in vec) {cat(txt, \"\\n\")}"
   ]
  },
  {
   "cell_type": "code",
   "execution_count": 5,
   "id": "937334c7-9fb2-45c9-ad47-64af55b3bab1",
   "metadata": {},
   "outputs": [],
   "source": [
    "### init: assay folder\n",
    "TXT_ASSAY      = \"CRISPRi_FlowFISH_K562_Riley_JinWoo\"\n",
    "TXT_FNAME_INP  = \"CRISPRi_HCRFF_K562.hg38.ZScore.filtered.unstranded.bed.gz\"\n",
    "TXT_FNAME_OUT_TARGET = \"region.coverage.score.filtered.target.tsv\"\n",
    "TXT_FNAME_OUT_MERGE  = \"region.coverage.score.filtered.merge.tsv\""
   ]
  },
  {
   "cell_type": "markdown",
   "id": "ebc1dee8-8dea-4bdb-ad0c-e92bffacea81",
   "metadata": {},
   "source": [
    "**Check: assay files**"
   ]
  },
  {
   "cell_type": "code",
   "execution_count": 6,
   "id": "6e518f09-0cf0-4816-ac84-39500b034eba",
   "metadata": {},
   "outputs": [
    {
     "name": "stdout",
     "output_type": "stream",
     "text": [
      "/data/reddylab/Kuei/repo/Proj_ENCODE_FCC/results/region_coverage_fcc_score/fcc_astarr_macs_input_overlap/CRISPRi_FlowFISH_K562_Riley_JinWoo/CRISPRi_HCRFF_K562.hg38.ZScore.filtered.unstranded.bed.gz \n"
     ]
    }
   ],
   "source": [
    "txt_folder = VEC_TXT_REGION[1]\n",
    "txt_fdiry  = file.path(\n",
    "    FD_RES, \"region_coverage_fcc_score\",\n",
    "    txt_folder,\n",
    "    TXT_ASSAY \n",
    ")\n",
    "txt_fname = TXT_FNAME_INP\n",
    "txt_fglob = file.path(txt_fdiry, txt_fname)\n",
    "\n",
    "vec = Sys.glob(txt_fglob)\n",
    "for (txt in vec) {cat(txt, \"\\n\")}"
   ]
  },
  {
   "cell_type": "markdown",
   "id": "7d1d4f67-9a68-4e8d-846c-fcaea51a6369",
   "metadata": {},
   "source": [
    "## Import region data"
   ]
  },
  {
   "cell_type": "markdown",
   "id": "a877cd1e-a052-40de-b76f-ffa57720333d",
   "metadata": {},
   "source": [
    "**Read region metadata table**"
   ]
  },
  {
   "cell_type": "code",
   "execution_count": 7,
   "id": "3bf92c83-12d0-454d-a294-3bd59285e014",
   "metadata": {},
   "outputs": [
    {
     "data": {
      "text/html": [
       "<table>\n",
       " <thead>\n",
       "  <tr>\n",
       "   <th style=\"text-align:left;\"> Folder </th>\n",
       "   <th style=\"text-align:left;\"> FName </th>\n",
       "   <th style=\"text-align:left;\"> Label </th>\n",
       "   <th style=\"text-align:left;\"> FPath </th>\n",
       "  </tr>\n",
       " </thead>\n",
       "<tbody>\n",
       "  <tr>\n",
       "   <td style=\"text-align:left;\"> region_for_analysis </td>\n",
       "   <td style=\"text-align:left;\"> K562.hg38.ASTARR.macs.KS91.input.rep_all.max_overlaps.q5.bed.gz </td>\n",
       "   <td style=\"text-align:left;\"> fcc_astarr_macs_input_overlap </td>\n",
       "   <td style=\"text-align:left;\"> /data/reddylab/Kuei/repo/Proj_ENCODE_FCC/results/region/region_for_analysis/K562.hg38.ASTARR.macs.KS91.input.rep_all.max_overlaps.q5.bed.gz </td>\n",
       "  </tr>\n",
       "  <tr>\n",
       "   <td style=\"text-align:left;\"> region_for_analysis </td>\n",
       "   <td style=\"text-align:left;\"> K562.hg38.ASTARR.macs.KS91.input.rep_all.union.q5.bed.gz </td>\n",
       "   <td style=\"text-align:left;\"> fcc_astarr_macs_input_union </td>\n",
       "   <td style=\"text-align:left;\"> /data/reddylab/Kuei/repo/Proj_ENCODE_FCC/results/region/region_for_analysis/K562.hg38.ASTARR.macs.KS91.input.rep_all.union.q5.bed.gz </td>\n",
       "  </tr>\n",
       "  <tr>\n",
       "   <td style=\"text-align:left;\"> region_for_analysis </td>\n",
       "   <td style=\"text-align:left;\"> K562.hg38.ENCSR000EKS.ENCFF274YGF.DNase.bed.gz </td>\n",
       "   <td style=\"text-align:left;\"> dnase_ENCFF274YGF </td>\n",
       "   <td style=\"text-align:left;\"> /data/reddylab/Kuei/repo/Proj_ENCODE_FCC/results/region/region_for_analysis/K562.hg38.ENCSR000EKS.ENCFF274YGF.DNase.bed.gz </td>\n",
       "  </tr>\n",
       "  <tr>\n",
       "   <td style=\"text-align:left;\"> region_for_analysis </td>\n",
       "   <td style=\"text-align:left;\"> K562.hg38.ENCSR000EOT.ENCFF185XRG.DNase.bed.gz </td>\n",
       "   <td style=\"text-align:left;\"> dnase_ENCFF185XRG </td>\n",
       "   <td style=\"text-align:left;\"> /data/reddylab/Kuei/repo/Proj_ENCODE_FCC/results/region/region_for_analysis/K562.hg38.ENCSR000EOT.ENCFF185XRG.DNase.bed.gz </td>\n",
       "  </tr>\n",
       "  <tr>\n",
       "   <td style=\"text-align:left;\"> region_for_analysis </td>\n",
       "   <td style=\"text-align:left;\"> K562.hg38.ENCSR483RKN.ENCFF558BLC.ATAC.bed.gz </td>\n",
       "   <td style=\"text-align:left;\"> atac_ENCFF558BLC </td>\n",
       "   <td style=\"text-align:left;\"> /data/reddylab/Kuei/repo/Proj_ENCODE_FCC/results/region/region_for_analysis/K562.hg38.ENCSR483RKN.ENCFF558BLC.ATAC.bed.gz </td>\n",
       "  </tr>\n",
       "  <tr>\n",
       "   <td style=\"text-align:left;\"> region_for_analysis </td>\n",
       "   <td style=\"text-align:left;\"> K562.hg38.ENCSR483RKN.ENCFF925CYR.ATAC.bed.gz </td>\n",
       "   <td style=\"text-align:left;\"> atac_ENCFF925CYR </td>\n",
       "   <td style=\"text-align:left;\"> /data/reddylab/Kuei/repo/Proj_ENCODE_FCC/results/region/region_for_analysis/K562.hg38.ENCSR483RKN.ENCFF925CYR.ATAC.bed.gz </td>\n",
       "  </tr>\n",
       "  <tr>\n",
       "   <td style=\"text-align:left;\"> region_for_analysis </td>\n",
       "   <td style=\"text-align:left;\"> K562.hg38.ENCSR868FGK.ENCFF333TAT.ATAC.bed.gz </td>\n",
       "   <td style=\"text-align:left;\"> atac_ENCFF333TAT </td>\n",
       "   <td style=\"text-align:left;\"> /data/reddylab/Kuei/repo/Proj_ENCODE_FCC/results/region/region_for_analysis/K562.hg38.ENCSR868FGK.ENCFF333TAT.ATAC.bed.gz </td>\n",
       "  </tr>\n",
       "  <tr>\n",
       "   <td style=\"text-align:left;\"> region_for_analysis </td>\n",
       "   <td style=\"text-align:left;\"> K562.hg38.ENCSR868FGK.ENCFF948AFM.ATAC.bed.gz </td>\n",
       "   <td style=\"text-align:left;\"> atac_ENCFF948AFM </td>\n",
       "   <td style=\"text-align:left;\"> /data/reddylab/Kuei/repo/Proj_ENCODE_FCC/results/region/region_for_analysis/K562.hg38.ENCSR868FGK.ENCFF948AFM.ATAC.bed.gz </td>\n",
       "  </tr>\n",
       "</tbody>\n",
       "</table>"
      ]
     },
     "metadata": {},
     "output_type": "display_data"
    }
   ],
   "source": [
    "### set directory\n",
    "txt_fdiry = file.path(FD_RES, \"region\", \"summary\")\n",
    "txt_fname = \"metadata.label.region_for_analysis.tsv\"\n",
    "txt_fpath = file.path(txt_fdiry, txt_fname)\n",
    "\n",
    "### read table\n",
    "dat = read_tsv(txt_fpath, show_col_types = FALSE)\n",
    "\n",
    "### assign and show\n",
    "dat_meta_region = dat\n",
    "fun_display_table(dat)"
   ]
  },
  {
   "cell_type": "markdown",
   "id": "71e09ae9-3d70-4e62-a0e3-8416e13a38cc",
   "metadata": {},
   "source": [
    "**Create region list for looping**"
   ]
  },
  {
   "cell_type": "code",
   "execution_count": 8,
   "id": "c42bf55a-e661-4b7d-803a-0add61bf23b4",
   "metadata": {},
   "outputs": [
    {
     "name": "stdout",
     "output_type": "stream",
     "text": [
      "$atac_ENCFF333TAT\n",
      "[1] \"region_for_analysis\"\n",
      "\n",
      "$atac_ENCFF558BLC\n",
      "[1] \"region_for_analysis\"\n",
      "\n",
      "$atac_ENCFF925CYR\n",
      "[1] \"region_for_analysis\"\n",
      "\n",
      "$atac_ENCFF948AFM\n",
      "[1] \"region_for_analysis\"\n",
      "\n",
      "$dnase_ENCFF185XRG\n",
      "[1] \"region_for_analysis\"\n",
      "\n",
      "$dnase_ENCFF274YGF\n",
      "[1] \"region_for_analysis\"\n",
      "\n",
      "$fcc_astarr_macs_input_overlap\n",
      "[1] \"region_for_analysis\"\n",
      "\n",
      "$fcc_astarr_macs_input_union\n",
      "[1] \"region_for_analysis\"\n",
      "\n"
     ]
    }
   ],
   "source": [
    "dat = dat_meta_region\n",
    "lst = split(dat$Folder, dat$Label)\n",
    "\n",
    "lst_txt_folder = lst\n",
    "print(lst)"
   ]
  },
  {
   "cell_type": "markdown",
   "id": "f6ae9702-54c9-493b-9f7a-61347cefed1c",
   "metadata": {},
   "source": [
    "## Helper functions"
   ]
  },
  {
   "cell_type": "code",
   "execution_count": 9,
   "id": "6cfe0f13-22be-4a45-aee5-594fb7a089bb",
   "metadata": {},
   "outputs": [],
   "source": [
    "fun_get_absmax = function(x){ x[which.max(abs(x))] }"
   ]
  },
  {
   "cell_type": "markdown",
   "id": "e2fcd4f4-71e6-4b4a-bd5f-bef99a3fe7d4",
   "metadata": {},
   "source": [
    "## Import data"
   ]
  },
  {
   "cell_type": "code",
   "execution_count": 10,
   "id": "6a53ede0-c530-4370-8666-a5d1ce004654",
   "metadata": {},
   "outputs": [
    {
     "name": "stdout",
     "output_type": "stream",
     "text": [
      "====================\n",
      "Region Folder: fcc_astarr_macs_input_overlap \n",
      "Assay  Folder: CRISPRi_FlowFISH_K562_Riley_JinWoo \n",
      "Import Files:\n",
      "CRISPRi_HCRFF_K562.hg38.ZScore.filtered.unstranded.bed.gz \n",
      "\n",
      "====================\n",
      "Region Folder: fcc_astarr_macs_input_union \n",
      "Assay  Folder: CRISPRi_FlowFISH_K562_Riley_JinWoo \n",
      "Import Files:\n",
      "CRISPRi_HCRFF_K562.hg38.ZScore.filtered.unstranded.bed.gz \n",
      "\n",
      "$fcc_astarr_macs_input_overlap\n",
      "[1] 135351     12\n",
      "\n",
      "$fcc_astarr_macs_input_union\n",
      "[1] 176457     12\n",
      "\n"
     ]
    },
    {
     "data": {
      "text/html": [
       "<table class=\"dataframe\">\n",
       "<caption>A tibble: 3 × 12</caption>\n",
       "<thead>\n",
       "\t<tr><th scope=col>Chrom_A</th><th scope=col>ChromStart_A</th><th scope=col>ChromEnd_A</th><th scope=col>Region_A</th><th scope=col>Chrom_B</th><th scope=col>ChromStart_B</th><th scope=col>ChromEnd_B</th><th scope=col>Name_B</th><th scope=col>Score_B</th><th scope=col>Strand_B</th><th scope=col>Target_B</th><th scope=col>Overlap</th></tr>\n",
       "\t<tr><th scope=col>&lt;chr&gt;</th><th scope=col>&lt;dbl&gt;</th><th scope=col>&lt;dbl&gt;</th><th scope=col>&lt;chr&gt;</th><th scope=col>&lt;chr&gt;</th><th scope=col>&lt;dbl&gt;</th><th scope=col>&lt;dbl&gt;</th><th scope=col>&lt;chr&gt;</th><th scope=col>&lt;dbl&gt;</th><th scope=col>&lt;chr&gt;</th><th scope=col>&lt;chr&gt;</th><th scope=col>&lt;dbl&gt;</th></tr>\n",
       "</thead>\n",
       "<tbody>\n",
       "\t<tr><td>chr11</td><td>4092109</td><td>4092511</td><td>chr11:4092109-4092511</td><td>chr11</td><td>4092122</td><td>4092123</td><td>id-145</td><td>-1.101030</td><td>.</td><td>HBE1</td><td>1</td></tr>\n",
       "\t<tr><td>chr11</td><td>4092109</td><td>4092511</td><td>chr11:4092109-4092511</td><td>chr11</td><td>4092122</td><td>4092123</td><td>id-145</td><td>-0.015199</td><td>.</td><td>HBG1</td><td>1</td></tr>\n",
       "\t<tr><td>chr11</td><td>4092109</td><td>4092511</td><td>chr11:4092109-4092511</td><td>chr11</td><td>4092122</td><td>4092123</td><td>id-145</td><td> 0.304337</td><td>.</td><td>HBG2</td><td>1</td></tr>\n",
       "</tbody>\n",
       "</table>\n"
      ],
      "text/latex": [
       "A tibble: 3 × 12\n",
       "\\begin{tabular}{llllllllllll}\n",
       " Chrom\\_A & ChromStart\\_A & ChromEnd\\_A & Region\\_A & Chrom\\_B & ChromStart\\_B & ChromEnd\\_B & Name\\_B & Score\\_B & Strand\\_B & Target\\_B & Overlap\\\\\n",
       " <chr> & <dbl> & <dbl> & <chr> & <chr> & <dbl> & <dbl> & <chr> & <dbl> & <chr> & <chr> & <dbl>\\\\\n",
       "\\hline\n",
       "\t chr11 & 4092109 & 4092511 & chr11:4092109-4092511 & chr11 & 4092122 & 4092123 & id-145 & -1.101030 & . & HBE1 & 1\\\\\n",
       "\t chr11 & 4092109 & 4092511 & chr11:4092109-4092511 & chr11 & 4092122 & 4092123 & id-145 & -0.015199 & . & HBG1 & 1\\\\\n",
       "\t chr11 & 4092109 & 4092511 & chr11:4092109-4092511 & chr11 & 4092122 & 4092123 & id-145 &  0.304337 & . & HBG2 & 1\\\\\n",
       "\\end{tabular}\n"
      ],
      "text/markdown": [
       "\n",
       "A tibble: 3 × 12\n",
       "\n",
       "| Chrom_A &lt;chr&gt; | ChromStart_A &lt;dbl&gt; | ChromEnd_A &lt;dbl&gt; | Region_A &lt;chr&gt; | Chrom_B &lt;chr&gt; | ChromStart_B &lt;dbl&gt; | ChromEnd_B &lt;dbl&gt; | Name_B &lt;chr&gt; | Score_B &lt;dbl&gt; | Strand_B &lt;chr&gt; | Target_B &lt;chr&gt; | Overlap &lt;dbl&gt; |\n",
       "|---|---|---|---|---|---|---|---|---|---|---|---|\n",
       "| chr11 | 4092109 | 4092511 | chr11:4092109-4092511 | chr11 | 4092122 | 4092123 | id-145 | -1.101030 | . | HBE1 | 1 |\n",
       "| chr11 | 4092109 | 4092511 | chr11:4092109-4092511 | chr11 | 4092122 | 4092123 | id-145 | -0.015199 | . | HBG1 | 1 |\n",
       "| chr11 | 4092109 | 4092511 | chr11:4092109-4092511 | chr11 | 4092122 | 4092123 | id-145 |  0.304337 | . | HBG2 | 1 |\n",
       "\n"
      ],
      "text/plain": [
       "  Chrom_A ChromStart_A ChromEnd_A Region_A              Chrom_B ChromStart_B\n",
       "1 chr11   4092109      4092511    chr11:4092109-4092511 chr11   4092122     \n",
       "2 chr11   4092109      4092511    chr11:4092109-4092511 chr11   4092122     \n",
       "3 chr11   4092109      4092511    chr11:4092109-4092511 chr11   4092122     \n",
       "  ChromEnd_B Name_B Score_B   Strand_B Target_B Overlap\n",
       "1 4092123    id-145 -1.101030 .        HBE1     1      \n",
       "2 4092123    id-145 -0.015199 .        HBG1     1      \n",
       "3 4092123    id-145  0.304337 .        HBG2     1      "
      ]
     },
     "metadata": {},
     "output_type": "display_data"
    }
   ],
   "source": [
    "lst = lapply(VEC_TXT_REGION, function(txt_region){\n",
    "    \n",
    "    ### show progress:\n",
    "    cat(\"====================\\n\")\n",
    "    cat(\"Region Folder:\", txt_region, \"\\n\")\n",
    "    cat(\"Assay  Folder:\", TXT_ASSAY,  \"\\n\")\n",
    "    cat(\"Import Files:\\n\")\n",
    "    cat(TXT_FNAME_INP, \"\\n\")\n",
    "    cat(\"\\n\")\n",
    "    flush.console()\n",
    "    \n",
    "    ### set directory and import assay description\n",
    "    txt_fdiry = file.path(FD_RES, \"assay_fcc\", TXT_ASSAY, \"coverage\", \"summary\")\n",
    "    txt_fname = \"description.tsv\"\n",
    "    txt_fpath = file.path(txt_fdiry, txt_fname)\n",
    "\n",
    "    dat_cname_assay = read_tsv(txt_fpath, show_col_types = FALSE)\n",
    "\n",
    "    ### set directory and import region description\n",
    "    txt_folder = lst_txt_folder[[txt_region]]\n",
    "    txt_fdiry  = file.path(FD_RES, \"region\", txt_folder, \"summary\")\n",
    "    txt_fname  = \"description.tsv\"\n",
    "    txt_fpath  = file.path(txt_fdiry, txt_fname)\n",
    "    \n",
    "    dat_cname_region = read_tsv(txt_fpath, show_col_types = FALSE)\n",
    "\n",
    "    ### set column names/types for overlap score\n",
    "    vec_txt_cname = c(\n",
    "        paste(dat_cname_region$Name, \"A\", sep = \"_\"), \n",
    "        paste(dat_cname_assay$Name,  \"B\", sep = \"_\"), \n",
    "        \"Overlap\"\n",
    "    )\n",
    "\n",
    "    ### set directory and import region-assay overlap\n",
    "    txt_fdiry  = file.path(FD_RES, \"region_coverage_fcc_score\", txt_region, TXT_ASSAY)\n",
    "    txt_fname  = TXT_FNAME_INP\n",
    "    txt_fpath  = file.path(txt_fdiry, txt_fname)\n",
    "\n",
    "    ### read table\n",
    "    dat = read_tsv(txt_fpath, col_names = vec_txt_cname, show_col_types = FALSE)\n",
    "    return(dat)\n",
    "})\n",
    "\n",
    "### assign and show\n",
    "lst_dat_region_score_import = lst\n",
    "\n",
    "res = lapply(lst, dim)\n",
    "print(res)\n",
    "\n",
    "dat = lst[[1]]\n",
    "head(dat, 3)"
   ]
  },
  {
   "cell_type": "markdown",
   "id": "3abed027-505c-47f7-96bc-f1ee6b781c9f",
   "metadata": {},
   "source": [
    "## Arrange table"
   ]
  },
  {
   "cell_type": "code",
   "execution_count": 11,
   "id": "0938729f-dc63-40cc-b2d9-3f8e77954b5b",
   "metadata": {},
   "outputs": [
    {
     "name": "stdout",
     "output_type": "stream",
     "text": [
      "$fcc_astarr_macs_input_overlap\n",
      "[1] 135351      8\n",
      "\n",
      "$fcc_astarr_macs_input_union\n",
      "[1] 176457      8\n",
      "\n"
     ]
    },
    {
     "data": {
      "text/html": [
       "<table class=\"dataframe\">\n",
       "<caption>A tibble: 3 × 8</caption>\n",
       "<thead>\n",
       "\t<tr><th scope=col>Chrom</th><th scope=col>ChromStart</th><th scope=col>ChromEnd</th><th scope=col>Region</th><th scope=col>Guide</th><th scope=col>Score</th><th scope=col>Target</th><th scope=col>Sign</th></tr>\n",
       "\t<tr><th scope=col>&lt;chr&gt;</th><th scope=col>&lt;dbl&gt;</th><th scope=col>&lt;dbl&gt;</th><th scope=col>&lt;chr&gt;</th><th scope=col>&lt;chr&gt;</th><th scope=col>&lt;dbl&gt;</th><th scope=col>&lt;chr&gt;</th><th scope=col>&lt;chr&gt;</th></tr>\n",
       "</thead>\n",
       "<tbody>\n",
       "\t<tr><td>chr11</td><td>4092109</td><td>4092511</td><td>chr11:4092109-4092511</td><td>chr11:4092122-4092123</td><td>-1.101030</td><td>HBE1</td><td>neg</td></tr>\n",
       "\t<tr><td>chr11</td><td>4092109</td><td>4092511</td><td>chr11:4092109-4092511</td><td>chr11:4092122-4092123</td><td>-0.015199</td><td>HBG1</td><td>neg</td></tr>\n",
       "\t<tr><td>chr11</td><td>4092109</td><td>4092511</td><td>chr11:4092109-4092511</td><td>chr11:4092122-4092123</td><td> 0.304337</td><td>HBG2</td><td>pos</td></tr>\n",
       "</tbody>\n",
       "</table>\n"
      ],
      "text/latex": [
       "A tibble: 3 × 8\n",
       "\\begin{tabular}{llllllll}\n",
       " Chrom & ChromStart & ChromEnd & Region & Guide & Score & Target & Sign\\\\\n",
       " <chr> & <dbl> & <dbl> & <chr> & <chr> & <dbl> & <chr> & <chr>\\\\\n",
       "\\hline\n",
       "\t chr11 & 4092109 & 4092511 & chr11:4092109-4092511 & chr11:4092122-4092123 & -1.101030 & HBE1 & neg\\\\\n",
       "\t chr11 & 4092109 & 4092511 & chr11:4092109-4092511 & chr11:4092122-4092123 & -0.015199 & HBG1 & neg\\\\\n",
       "\t chr11 & 4092109 & 4092511 & chr11:4092109-4092511 & chr11:4092122-4092123 &  0.304337 & HBG2 & pos\\\\\n",
       "\\end{tabular}\n"
      ],
      "text/markdown": [
       "\n",
       "A tibble: 3 × 8\n",
       "\n",
       "| Chrom &lt;chr&gt; | ChromStart &lt;dbl&gt; | ChromEnd &lt;dbl&gt; | Region &lt;chr&gt; | Guide &lt;chr&gt; | Score &lt;dbl&gt; | Target &lt;chr&gt; | Sign &lt;chr&gt; |\n",
       "|---|---|---|---|---|---|---|---|\n",
       "| chr11 | 4092109 | 4092511 | chr11:4092109-4092511 | chr11:4092122-4092123 | -1.101030 | HBE1 | neg |\n",
       "| chr11 | 4092109 | 4092511 | chr11:4092109-4092511 | chr11:4092122-4092123 | -0.015199 | HBG1 | neg |\n",
       "| chr11 | 4092109 | 4092511 | chr11:4092109-4092511 | chr11:4092122-4092123 |  0.304337 | HBG2 | pos |\n",
       "\n"
      ],
      "text/plain": [
       "  Chrom ChromStart ChromEnd Region                Guide                \n",
       "1 chr11 4092109    4092511  chr11:4092109-4092511 chr11:4092122-4092123\n",
       "2 chr11 4092109    4092511  chr11:4092109-4092511 chr11:4092122-4092123\n",
       "3 chr11 4092109    4092511  chr11:4092109-4092511 chr11:4092122-4092123\n",
       "  Score     Target Sign\n",
       "1 -1.101030 HBE1   neg \n",
       "2 -0.015199 HBG1   neg \n",
       "3  0.304337 HBG2   pos "
      ]
     },
     "metadata": {},
     "output_type": "display_data"
    }
   ],
   "source": [
    "lst = lst_dat_region_score_import\n",
    "lst = lapply(lst, function(dat){\n",
    "    ### setup the columns\n",
    "    dat = dat %>% \n",
    "        dplyr::mutate(\n",
    "            Chrom      = Chrom_A,\n",
    "            ChromStart = ChromStart_A,\n",
    "            ChromEnd   = ChromEnd_A,\n",
    "            Region     = fun_gen_region(Chrom_A, ChromStart_A, ChromEnd_A),\n",
    "            Guide      = fun_gen_region(Chrom_B, ChromStart_B, ChromEnd_B),\n",
    "            Score      = Score_B,\n",
    "            Target     = Target_B\n",
    "        ) %>%\n",
    "        dplyr::mutate(Sign = ifelse(Score > 0, \"pos\", \"neg\"))\n",
    "\n",
    "    ### select the columns\n",
    "    dat = dat %>%\n",
    "        dplyr::select(Chrom, ChromStart, ChromEnd, Region, Guide, Score, Target, Sign) %>%\n",
    "        dplyr::distinct()\n",
    "    return(dat)\n",
    "})\n",
    "\n",
    "### assign and show\n",
    "lst_dat_region_score_arrange = lst\n",
    "\n",
    "res = lapply(lst, dim)\n",
    "print(res)\n",
    "\n",
    "dat = lst[[1]]\n",
    "head(dat, 3)"
   ]
  },
  {
   "cell_type": "markdown",
   "id": "2ce89d7a-cd41-40d7-9176-989551c055d5",
   "metadata": {},
   "source": [
    "## Summarize scores by target"
   ]
  },
  {
   "cell_type": "code",
   "execution_count": 12,
   "id": "6def3816-c0b4-46da-86e8-1e0c0438ed64",
   "metadata": {},
   "outputs": [
    {
     "name": "stdout",
     "output_type": "stream",
     "text": [
      "$fcc_astarr_macs_input_overlap\n",
      "[1] 2304   12\n",
      "\n",
      "$fcc_astarr_macs_input_union\n",
      "[1] 3084   12\n",
      "\n"
     ]
    },
    {
     "data": {
      "text/html": [
       "<table class=\"dataframe\">\n",
       "<caption>A tibble: 3 × 12</caption>\n",
       "<thead>\n",
       "\t<tr><th scope=col>Chrom</th><th scope=col>ChromStart</th><th scope=col>ChromEnd</th><th scope=col>Region</th><th scope=col>Target</th><th scope=col>Mean</th><th scope=col>Median</th><th scope=col>Max</th><th scope=col>Min</th><th scope=col>Count</th><th scope=col>Mean_Neg</th><th scope=col>Mean_Pos</th></tr>\n",
       "\t<tr><th scope=col>&lt;chr&gt;</th><th scope=col>&lt;dbl&gt;</th><th scope=col>&lt;dbl&gt;</th><th scope=col>&lt;chr&gt;</th><th scope=col>&lt;chr&gt;</th><th scope=col>&lt;dbl&gt;</th><th scope=col>&lt;dbl&gt;</th><th scope=col>&lt;dbl&gt;</th><th scope=col>&lt;dbl&gt;</th><th scope=col>&lt;int&gt;</th><th scope=col>&lt;dbl&gt;</th><th scope=col>&lt;dbl&gt;</th></tr>\n",
       "</thead>\n",
       "<tbody>\n",
       "\t<tr><td>chr11</td><td>4092109</td><td>4092511</td><td>chr11:4092109-4092511</td><td>HBE1</td><td>-0.1137124</td><td>-0.1415565</td><td>1.21353</td><td>-2.05570</td><td>64</td><td>-0.5895217</td><td>0.5817010</td></tr>\n",
       "\t<tr><td>chr11</td><td>4092109</td><td>4092511</td><td>chr11:4092109-4092511</td><td>HBG1</td><td>-0.1517430</td><td>-0.1508580</td><td>1.47841</td><td>-1.53233</td><td>64</td><td>-0.5163575</td><td>0.4982220</td></tr>\n",
       "\t<tr><td>chr11</td><td>4092109</td><td>4092511</td><td>chr11:4092109-4092511</td><td>HBG2</td><td>-0.2425928</td><td>-0.2483860</td><td>0.72989</td><td>-1.95678</td><td>64</td><td>-0.4951560</td><td>0.3130464</td></tr>\n",
       "</tbody>\n",
       "</table>\n"
      ],
      "text/latex": [
       "A tibble: 3 × 12\n",
       "\\begin{tabular}{llllllllllll}\n",
       " Chrom & ChromStart & ChromEnd & Region & Target & Mean & Median & Max & Min & Count & Mean\\_Neg & Mean\\_Pos\\\\\n",
       " <chr> & <dbl> & <dbl> & <chr> & <chr> & <dbl> & <dbl> & <dbl> & <dbl> & <int> & <dbl> & <dbl>\\\\\n",
       "\\hline\n",
       "\t chr11 & 4092109 & 4092511 & chr11:4092109-4092511 & HBE1 & -0.1137124 & -0.1415565 & 1.21353 & -2.05570 & 64 & -0.5895217 & 0.5817010\\\\\n",
       "\t chr11 & 4092109 & 4092511 & chr11:4092109-4092511 & HBG1 & -0.1517430 & -0.1508580 & 1.47841 & -1.53233 & 64 & -0.5163575 & 0.4982220\\\\\n",
       "\t chr11 & 4092109 & 4092511 & chr11:4092109-4092511 & HBG2 & -0.2425928 & -0.2483860 & 0.72989 & -1.95678 & 64 & -0.4951560 & 0.3130464\\\\\n",
       "\\end{tabular}\n"
      ],
      "text/markdown": [
       "\n",
       "A tibble: 3 × 12\n",
       "\n",
       "| Chrom &lt;chr&gt; | ChromStart &lt;dbl&gt; | ChromEnd &lt;dbl&gt; | Region &lt;chr&gt; | Target &lt;chr&gt; | Mean &lt;dbl&gt; | Median &lt;dbl&gt; | Max &lt;dbl&gt; | Min &lt;dbl&gt; | Count &lt;int&gt; | Mean_Neg &lt;dbl&gt; | Mean_Pos &lt;dbl&gt; |\n",
       "|---|---|---|---|---|---|---|---|---|---|---|---|\n",
       "| chr11 | 4092109 | 4092511 | chr11:4092109-4092511 | HBE1 | -0.1137124 | -0.1415565 | 1.21353 | -2.05570 | 64 | -0.5895217 | 0.5817010 |\n",
       "| chr11 | 4092109 | 4092511 | chr11:4092109-4092511 | HBG1 | -0.1517430 | -0.1508580 | 1.47841 | -1.53233 | 64 | -0.5163575 | 0.4982220 |\n",
       "| chr11 | 4092109 | 4092511 | chr11:4092109-4092511 | HBG2 | -0.2425928 | -0.2483860 | 0.72989 | -1.95678 | 64 | -0.4951560 | 0.3130464 |\n",
       "\n"
      ],
      "text/plain": [
       "  Chrom ChromStart ChromEnd Region                Target Mean       Median    \n",
       "1 chr11 4092109    4092511  chr11:4092109-4092511 HBE1   -0.1137124 -0.1415565\n",
       "2 chr11 4092109    4092511  chr11:4092109-4092511 HBG1   -0.1517430 -0.1508580\n",
       "3 chr11 4092109    4092511  chr11:4092109-4092511 HBG2   -0.2425928 -0.2483860\n",
       "  Max     Min      Count Mean_Neg   Mean_Pos \n",
       "1 1.21353 -2.05570 64    -0.5895217 0.5817010\n",
       "2 1.47841 -1.53233 64    -0.5163575 0.4982220\n",
       "3 0.72989 -1.95678 64    -0.4951560 0.3130464"
      ]
     },
     "metadata": {},
     "output_type": "display_data"
    }
   ],
   "source": [
    "lst = lst_dat_region_score_arrange\n",
    "lst = lapply(lst, function(dat){\n",
    "    ### summarize scores by each target\n",
    "    dat_summary_total = dat %>%\n",
    "        dplyr::group_by(Chrom, ChromStart, ChromEnd, Region, Target) %>%\n",
    "        dplyr::summarise(\n",
    "            Mean    = mean(Score),\n",
    "            Median  = median(Score),\n",
    "            Max     = max(Score),\n",
    "            Min     = min(Score),\n",
    "            Count   = n(),\n",
    "            .groups = \"drop\"\n",
    "        )\n",
    "    \n",
    "    ### summarize scores by sign (direction)\n",
    "    dat_summary_sign = dat %>%\n",
    "        dplyr::group_by(Chrom, ChromStart, ChromEnd, Region, Target, Sign) %>%\n",
    "        dplyr::summarise(Mean = mean(Score), .groups = \"drop\") %>% \n",
    "        dplyr::mutate(Sign = dplyr::recode(Sign, `pos` = \"Mean_Pos\", `neg` = \"Mean_Neg\")) %>% \n",
    "        tidyr::spread(Sign, Mean)\n",
    "    \n",
    "    ### merge the results\n",
    "    vec = c(\"Chrom\", \"ChromStart\", \"ChromEnd\", \"Region\", \"Target\")\n",
    "    dat = dplyr::left_join(\n",
    "        dat_summary_total,\n",
    "        dat_summary_sign,\n",
    "        by = vec) %>% \n",
    "        replace(is.na(.), 0)\n",
    "    return(dat)\n",
    "})\n",
    "\n",
    "### assign and show\n",
    "lst_dat_region_score_by_target = lst\n",
    "\n",
    "res = lapply(lst, dim)\n",
    "print(res)\n",
    "\n",
    "dat = lst[[1]]\n",
    "head(dat, 3)"
   ]
  },
  {
   "cell_type": "markdown",
   "id": "f886f0fb-5079-44a9-a881-28966695973d",
   "metadata": {},
   "source": [
    "## Futher summarize scores across different targets"
   ]
  },
  {
   "cell_type": "code",
   "execution_count": 13,
   "id": "9875fbf0-e82e-4bd8-9589-ae434a92bfaa",
   "metadata": {},
   "outputs": [
    {
     "name": "stdout",
     "output_type": "stream",
     "text": [
      "$fcc_astarr_macs_input_overlap\n",
      "[1] 925   9\n",
      "\n",
      "$fcc_astarr_macs_input_union\n",
      "[1] 1330    9\n",
      "\n"
     ]
    },
    {
     "data": {
      "text/html": [
       "<table class=\"dataframe\">\n",
       "<caption>A tibble: 3 × 9</caption>\n",
       "<thead>\n",
       "\t<tr><th scope=col>Chrom</th><th scope=col>ChromStart</th><th scope=col>ChromEnd</th><th scope=col>Region</th><th scope=col>Mean</th><th scope=col>Mean_Pos</th><th scope=col>Mean_Neg</th><th scope=col>Count</th><th scope=col>Note</th></tr>\n",
       "\t<tr><th scope=col>&lt;chr&gt;</th><th scope=col>&lt;dbl&gt;</th><th scope=col>&lt;dbl&gt;</th><th scope=col>&lt;chr&gt;</th><th scope=col>&lt;dbl&gt;</th><th scope=col>&lt;dbl&gt;</th><th scope=col>&lt;dbl&gt;</th><th scope=col>&lt;int&gt;</th><th scope=col>&lt;chr&gt;</th></tr>\n",
       "</thead>\n",
       "<tbody>\n",
       "\t<tr><td>chr11</td><td>4092109</td><td>4092511</td><td>chr11:4092109-4092511</td><td>-0.12943640</td><td>0.00000000</td><td>-0.2425928</td><td> 320</td><td>HBE1:320|HBG1:320|HBG2:320|HBS1L:320|MYB:320     </td></tr>\n",
       "\t<tr><td>chr11</td><td>4094223</td><td>4095304</td><td>chr11:4094223-4095304</td><td>-0.04849565</td><td>0.09460382</td><td>-0.2516657</td><td>1030</td><td>HBE1:1030|HBG1:1030|HBG2:1030|HBS1L:1030|MYB:1030</td></tr>\n",
       "\t<tr><td>chr11</td><td>4144721</td><td>4147004</td><td>chr11:4144721-4147004</td><td>-0.07024901</td><td>0.00000000</td><td>-0.1515237</td><td>1185</td><td>HBE1:1185|HBG1:1185|HBG2:1185|HBS1L:1185|MYB:1185</td></tr>\n",
       "</tbody>\n",
       "</table>\n"
      ],
      "text/latex": [
       "A tibble: 3 × 9\n",
       "\\begin{tabular}{lllllllll}\n",
       " Chrom & ChromStart & ChromEnd & Region & Mean & Mean\\_Pos & Mean\\_Neg & Count & Note\\\\\n",
       " <chr> & <dbl> & <dbl> & <chr> & <dbl> & <dbl> & <dbl> & <int> & <chr>\\\\\n",
       "\\hline\n",
       "\t chr11 & 4092109 & 4092511 & chr11:4092109-4092511 & -0.12943640 & 0.00000000 & -0.2425928 &  320 & HBE1:320\\textbar{}HBG1:320\\textbar{}HBG2:320\\textbar{}HBS1L:320\\textbar{}MYB:320     \\\\\n",
       "\t chr11 & 4094223 & 4095304 & chr11:4094223-4095304 & -0.04849565 & 0.09460382 & -0.2516657 & 1030 & HBE1:1030\\textbar{}HBG1:1030\\textbar{}HBG2:1030\\textbar{}HBS1L:1030\\textbar{}MYB:1030\\\\\n",
       "\t chr11 & 4144721 & 4147004 & chr11:4144721-4147004 & -0.07024901 & 0.00000000 & -0.1515237 & 1185 & HBE1:1185\\textbar{}HBG1:1185\\textbar{}HBG2:1185\\textbar{}HBS1L:1185\\textbar{}MYB:1185\\\\\n",
       "\\end{tabular}\n"
      ],
      "text/markdown": [
       "\n",
       "A tibble: 3 × 9\n",
       "\n",
       "| Chrom &lt;chr&gt; | ChromStart &lt;dbl&gt; | ChromEnd &lt;dbl&gt; | Region &lt;chr&gt; | Mean &lt;dbl&gt; | Mean_Pos &lt;dbl&gt; | Mean_Neg &lt;dbl&gt; | Count &lt;int&gt; | Note &lt;chr&gt; |\n",
       "|---|---|---|---|---|---|---|---|---|\n",
       "| chr11 | 4092109 | 4092511 | chr11:4092109-4092511 | -0.12943640 | 0.00000000 | -0.2425928 |  320 | HBE1:320|HBG1:320|HBG2:320|HBS1L:320|MYB:320      |\n",
       "| chr11 | 4094223 | 4095304 | chr11:4094223-4095304 | -0.04849565 | 0.09460382 | -0.2516657 | 1030 | HBE1:1030|HBG1:1030|HBG2:1030|HBS1L:1030|MYB:1030 |\n",
       "| chr11 | 4144721 | 4147004 | chr11:4144721-4147004 | -0.07024901 | 0.00000000 | -0.1515237 | 1185 | HBE1:1185|HBG1:1185|HBG2:1185|HBS1L:1185|MYB:1185 |\n",
       "\n"
      ],
      "text/plain": [
       "  Chrom ChromStart ChromEnd Region                Mean        Mean_Pos  \n",
       "1 chr11 4092109    4092511  chr11:4092109-4092511 -0.12943640 0.00000000\n",
       "2 chr11 4094223    4095304  chr11:4094223-4095304 -0.04849565 0.09460382\n",
       "3 chr11 4144721    4147004  chr11:4144721-4147004 -0.07024901 0.00000000\n",
       "  Mean_Neg   Count Note                                             \n",
       "1 -0.2425928  320  HBE1:320|HBG1:320|HBG2:320|HBS1L:320|MYB:320     \n",
       "2 -0.2516657 1030  HBE1:1030|HBG1:1030|HBG2:1030|HBS1L:1030|MYB:1030\n",
       "3 -0.1515237 1185  HBE1:1185|HBG1:1185|HBG2:1185|HBS1L:1185|MYB:1185"
      ]
     },
     "metadata": {},
     "output_type": "display_data"
    }
   ],
   "source": [
    "lst = lst_dat_region_score_by_target\n",
    "lst = lapply(lst, function(dat){\n",
    "    ### summarize mean(scores) across different targets\n",
    "    dat = dat %>% \n",
    "        dplyr::group_by(Chrom, ChromStart, ChromEnd, Region) %>%\n",
    "        dplyr::summarize(\n",
    "            Mean_Tot = mean(Mean),\n",
    "            Mean_Pos = max(Mean, 0),\n",
    "            Mean_Neg = min(Mean, 0),\n",
    "            Count    = sum(Count),\n",
    "            Note     = paste(Target, Count, sep=\":\", collapse=\"|\"),\n",
    "            .groups  = \"drop\"\n",
    "        ) %>%\n",
    "        dplyr::rename(\"Mean\" = \"Mean_Tot\")\n",
    "    return(dat)\n",
    "})\n",
    "\n",
    "### assign and show\n",
    "lst_dat_region_score_merge = lst\n",
    "\n",
    "res = lapply(lst, dim)\n",
    "print(res)\n",
    "\n",
    "dat = lst[[1]]\n",
    "head(dat, 3)"
   ]
  },
  {
   "cell_type": "markdown",
   "id": "e7bc2eb2-b605-4461-aa7c-c3ec99b73e8e",
   "metadata": {},
   "source": [
    "## Save results"
   ]
  },
  {
   "cell_type": "code",
   "execution_count": 14,
   "id": "67d1e9aa-e2de-46be-838a-b52146758ca6",
   "metadata": {},
   "outputs": [
    {
     "name": "stdout",
     "output_type": "stream",
     "text": [
      "====================\n",
      "Region Folder: fcc_astarr_macs_input_overlap \n",
      "Assay  Folder: CRISPRi_FlowFISH_K562_Riley_JinWoo \n",
      "\n",
      "Save file \n",
      "/data/reddylab/Kuei/repo/Proj_ENCODE_FCC/results/region_coverage_fcc_score/fcc_astarr_macs_input_overlap/CRISPRi_FlowFISH_K562_Riley_JinWoo/summary \n",
      "region.coverage.score.filtered.target.tsv \n",
      "\n",
      "Save file \n",
      "/data/reddylab/Kuei/repo/Proj_ENCODE_FCC/results/region_coverage_fcc_score/fcc_astarr_macs_input_overlap/CRISPRi_FlowFISH_K562_Riley_JinWoo/summary \n",
      "region.coverage.score.filtered.merge.tsv \n",
      "\n",
      "====================\n",
      "Region Folder: fcc_astarr_macs_input_union \n",
      "Assay  Folder: CRISPRi_FlowFISH_K562_Riley_JinWoo \n",
      "\n",
      "Save file \n",
      "/data/reddylab/Kuei/repo/Proj_ENCODE_FCC/results/region_coverage_fcc_score/fcc_astarr_macs_input_union/CRISPRi_FlowFISH_K562_Riley_JinWoo/summary \n",
      "region.coverage.score.filtered.target.tsv \n",
      "\n",
      "Save file \n",
      "/data/reddylab/Kuei/repo/Proj_ENCODE_FCC/results/region_coverage_fcc_score/fcc_astarr_macs_input_union/CRISPRi_FlowFISH_K562_Riley_JinWoo/summary \n",
      "region.coverage.score.filtered.merge.tsv \n",
      "\n"
     ]
    }
   ],
   "source": [
    "for (txt_region in VEC_TXT_REGION){\n",
    "    ### show progress:\n",
    "    cat(\"====================\\n\")\n",
    "    cat(\"Region Folder:\", txt_region, \"\\n\")\n",
    "    cat(\"Assay  Folder:\", TXT_ASSAY,  \"\\n\")\n",
    "    cat(\"\\n\")\n",
    "    flush.console()\n",
    "    \n",
    "    ### get tables\n",
    "    dat_region_score_by_target = lst_dat_region_score_by_target[[txt_region]]\n",
    "    dat_region_score_merge     = lst_dat_region_score_merge[[txt_region]]\n",
    "    \n",
    "    ### set file directory\n",
    "    txt_fdiry  = file.path(\n",
    "        FD_RES, \"region_coverage_fcc_score\", \n",
    "        txt_region, \n",
    "        TXT_ASSAY,\n",
    "        \"summary\"\n",
    "    )\n",
    "    dir.create(txt_fdiry, showWarnings = FALSE)\n",
    "    \n",
    "    \n",
    "    ### write table (summarized by target)\n",
    "    txt_fname = TXT_FNAME_OUT_TARGET\n",
    "    txt_fpath = file.path(txt_fdiry, txt_fname)\n",
    "\n",
    "    dat = dat_region_score_by_target\n",
    "    dat = dat %>% dplyr::arrange(Chrom, ChromStart, ChromEnd)\n",
    "    write_tsv(dat, txt_fpath)\n",
    "\n",
    "    ### show progress\n",
    "    cat(\"Save file\", \"\\n\")\n",
    "    cat(txt_fdiry, \"\\n\")\n",
    "    cat(txt_fname, \"\\n\")\n",
    "    cat(\"\\n\")\n",
    "    \n",
    "    ### write table (further summarized across target)\n",
    "    txt_fname = TXT_FNAME_OUT_MERGE\n",
    "    txt_fpath = file.path(txt_fdiry, txt_fname)\n",
    "\n",
    "    dat = dat_region_score_merge\n",
    "    dat = dat %>% dplyr::arrange(Chrom, ChromStart, ChromEnd)\n",
    "    write_tsv(dat, txt_fpath)\n",
    "    \n",
    "    ### show progress\n",
    "    cat(\"Save file\", \"\\n\")\n",
    "    cat(txt_fdiry, \"\\n\")\n",
    "    cat(txt_fname, \"\\n\")\n",
    "    cat(\"\\n\")\n",
    "}"
   ]
  },
  {
   "cell_type": "code",
   "execution_count": null,
   "id": "66000069-0603-413d-81aa-90b7d8479106",
   "metadata": {},
   "outputs": [],
   "source": []
  }
 ],
 "metadata": {
  "kernelspec": {
   "display_name": "R",
   "language": "R",
   "name": "ir"
  },
  "language_info": {
   "codemirror_mode": "r",
   "file_extension": ".r",
   "mimetype": "text/x-r-source",
   "name": "R",
   "pygments_lexer": "r",
   "version": "4.5.1"
  }
 },
 "nbformat": 4,
 "nbformat_minor": 5
}
