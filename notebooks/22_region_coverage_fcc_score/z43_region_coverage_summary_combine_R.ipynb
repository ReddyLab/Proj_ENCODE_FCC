{
 "cells": [
  {
   "cell_type": "raw",
   "id": "11e127c5-1370-4f70-9247-2bd8643ff165",
   "metadata": {},
   "source": [
    "---\n",
    "title: ...\n",
    "subtitle: combine ATAC, setup total, final, and share verion of table\n",
    "format:\n",
    "    html:\n",
    "        code-fold:  true\n",
    "        code-tools: true\n",
    "---"
   ]
  },
  {
   "cell_type": "markdown",
   "id": "9b09599a-6dff-4869-9807-294cfba7a875",
   "metadata": {},
   "source": [
    "**Set environment**"
   ]
  },
  {
   "cell_type": "code",
   "execution_count": 1,
   "id": "39df349c-1241-4938-827d-b9e2aa705b09",
   "metadata": {},
   "outputs": [
    {
     "name": "stdout",
     "output_type": "stream",
     "text": [
      "You are working on        Singularity: singularity_proj_encode_fcc \n",
      "BASE DIRECTORY (FD_BASE): /data/reddylab/Kuei \n",
      "REPO DIRECTORY (FD_REPO): /data/reddylab/Kuei/repo \n",
      "WORK DIRECTORY (FD_WORK): /data/reddylab/Kuei/work \n",
      "DATA DIRECTORY (FD_DATA): /data/reddylab/Kuei/data \n",
      "\n",
      "You are working with      ENCODE FCC \n",
      "PATH OF PROJECT (FD_PRJ): /data/reddylab/Kuei/repo/Proj_ENCODE_FCC \n",
      "PROJECT RESULTS (FD_RES): /data/reddylab/Kuei/repo/Proj_ENCODE_FCC/results \n",
      "PROJECT SCRIPTS (FD_EXE): /data/reddylab/Kuei/repo/Proj_ENCODE_FCC/scripts \n",
      "PROJECT DATA    (FD_DAT): /data/reddylab/Kuei/repo/Proj_ENCODE_FCC/data \n",
      "PROJECT NOTE    (FD_NBK): /data/reddylab/Kuei/repo/Proj_ENCODE_FCC/notebooks \n",
      "PROJECT DOCS    (FD_DOC): /data/reddylab/Kuei/repo/Proj_ENCODE_FCC/docs \n",
      "PROJECT LOG     (FD_LOG): /data/reddylab/Kuei/repo/Proj_ENCODE_FCC/log \n",
      "PROJECT REF     (FD_REF): /data/reddylab/Kuei/repo/Proj_ENCODE_FCC/references \n",
      "\n"
     ]
    }
   ],
   "source": [
    "suppressMessages(suppressWarnings(source(\"../run_config_project_sing.R\")))\n",
    "show_env()"
   ]
  },
  {
   "cell_type": "markdown",
   "id": "f7a9b03e-b618-4ada-8721-773115f422e9",
   "metadata": {},
   "source": [
    "**Set global variables**"
   ]
  },
  {
   "cell_type": "code",
   "execution_count": 2,
   "id": "375e69e0-c8d8-420b-9f38-c17d63041fcd",
   "metadata": {},
   "outputs": [
    {
     "name": "stdout",
     "output_type": "stream",
     "text": [
      "atac_ENCFF333TAT \n",
      "atac_ENCFF558BLC \n",
      "atac_ENCFF925CYR \n",
      "atac_ENCFF948AFM \n",
      "dnase_ENCFF185XRG \n",
      "dnase_ENCFF274YGF \n",
      "fcc_astarr_macs_input_overlap \n",
      "fcc_astarr_macs_input_union \n"
     ]
    }
   ],
   "source": [
    "txt_fdiry = file.path(FD_RES, \"region_coverage_fcc\")\n",
    "vec = dir(txt_fdiry)\n",
    "for (txt in vec) {cat(txt, \"\\n\")}"
   ]
  },
  {
   "cell_type": "code",
   "execution_count": 3,
   "id": "828eb882-b277-48b8-a437-d4cdb36ad18e",
   "metadata": {},
   "outputs": [
    {
     "name": "stdout",
     "output_type": "stream",
     "text": [
      "CRISPRi_FlowFISH_K562_Riley_JinWoo \n",
      "CRISPRi_Growth_K562_Gersbach_JinWoo \n",
      "MPRA_Lenti_K562_Nadav_Vikram \n",
      "MPRA_Tiling_K562_Tewhey_Hannah \n",
      "STARR_ATAC_K562_Reddy_KS274 \n",
      "STARR_ATAC_K562_Reddy_KS91 \n",
      "STARR_ATAC_K562_Reddy_KSMerge \n",
      "STARR_WHG_K562_Reddy_A001 \n",
      "summary \n"
     ]
    }
   ],
   "source": [
    "txt_region = \"fcc_astarr_macs_input_union\"\n",
    "txt_fdiry  = file.path(FD_RES, \"region_coverage_fcc\", txt_region)\n",
    "vec = dir(txt_fdiry)\n",
    "for (txt in vec) {cat(txt, \"\\n\")}"
   ]
  },
  {
   "cell_type": "code",
   "execution_count": 4,
   "id": "643f3a84-feb0-4ce9-b47a-45a44f0cb353",
   "metadata": {},
   "outputs": [
    {
     "name": "stdout",
     "output_type": "stream",
     "text": [
      "fcc_astarr_macs_input_overlap \n",
      "fcc_astarr_macs_input_union \n"
     ]
    }
   ],
   "source": [
    "#txt_fdiry = file.path(FD_RES, \"region_coverage_fcc\")\n",
    "#vec = dir(txt_fdiry)\n",
    "vec = c(\"fcc_astarr_macs_input_overlap\", \"fcc_astarr_macs_input_union\")\n",
    "names(vec) = vec\n",
    "\n",
    "VEC_TXT_REGION = vec\n",
    "for (txt in vec) {cat(txt, \"\\n\")}"
   ]
  },
  {
   "cell_type": "markdown",
   "id": "9d7f6be4-8c69-413d-a1b6-aef39e233adb",
   "metadata": {},
   "source": [
    "## Prepare input"
   ]
  },
  {
   "cell_type": "markdown",
   "id": "c54c2647-c9c5-4d7f-bc4d-53949e3fbac4",
   "metadata": {},
   "source": [
    "**Check files**"
   ]
  },
  {
   "cell_type": "code",
   "execution_count": 5,
   "id": "fb46cfdc-e33e-4295-868a-b8b9c106d065",
   "metadata": {},
   "outputs": [
    {
     "name": "stdout",
     "output_type": "stream",
     "text": [
      "/data/reddylab/Kuei/repo/Proj_ENCODE_FCC/results/region_coverage_fcc/fcc_astarr_macs_input_overlap/CRISPRi_FlowFISH_K562_Riley_JinWoo/overlap_score/summary/result.coverage.zscore.tsv \n",
      "/data/reddylab/Kuei/repo/Proj_ENCODE_FCC/results/region_coverage_fcc/fcc_astarr_macs_input_overlap/CRISPRi_Growth_K562_Gersbach_JinWoo/overlap_score/summary/result.coverage.zscore.tsv \n",
      "/data/reddylab/Kuei/repo/Proj_ENCODE_FCC/results/region_coverage_fcc/fcc_astarr_macs_input_overlap/MPRA_Lenti_K562_Nadav_Vikram/overlap_score/summary/result.coverage.zscore.tsv \n",
      "/data/reddylab/Kuei/repo/Proj_ENCODE_FCC/results/region_coverage_fcc/fcc_astarr_macs_input_overlap/MPRA_Tiling_K562_Tewhey_Hannah/overlap_score/summary/result.coverage.zscore.tsv \n",
      "/data/reddylab/Kuei/repo/Proj_ENCODE_FCC/results/region_coverage_fcc/fcc_astarr_macs_input_overlap/STARR_ATAC_K562_Reddy_KS274/overlap_score/summary/result.coverage.zscore.tsv \n",
      "/data/reddylab/Kuei/repo/Proj_ENCODE_FCC/results/region_coverage_fcc/fcc_astarr_macs_input_overlap/STARR_ATAC_K562_Reddy_KS91/overlap_score/summary/result.coverage.zscore.tsv \n",
      "/data/reddylab/Kuei/repo/Proj_ENCODE_FCC/results/region_coverage_fcc/fcc_astarr_macs_input_overlap/STARR_ATAC_K562_Reddy_KSMerge/overlap_score/summary/result.coverage.zscore.tsv \n",
      "/data/reddylab/Kuei/repo/Proj_ENCODE_FCC/results/region_coverage_fcc/fcc_astarr_macs_input_overlap/STARR_WHG_K562_Reddy_A001/overlap_score/summary/result.coverage.zscore.tsv \n"
     ]
    }
   ],
   "source": [
    "txt_region = \"fcc_astarr_macs_input_overlap\"\n",
    "txt_fdiry  = file.path(FD_RES, \"region_coverage_fcc\", txt_region)\n",
    "txt_fname  = \"result.coverage.zscore.tsv\"\n",
    "txt_fglob  = file.path(txt_fdiry, \"*\", \"overlap_score\", \"summary\", txt_fname)\n",
    "vec = Sys.glob(txt_fglob)\n",
    "\n",
    "vec_txt_fpath = vec\n",
    "\n",
    "for (txt in vec) {cat(txt, \"\\n\")}"
   ]
  },
  {
   "cell_type": "code",
   "execution_count": null,
   "id": "3c32fc7c-3617-46e5-9466-9dff29e93cab",
   "metadata": {},
   "outputs": [],
   "source": []
  },
  {
   "cell_type": "code",
   "execution_count": 6,
   "id": "c7a180cf-4a50-4602-9a3b-77cd6ccf7828",
   "metadata": {},
   "outputs": [
    {
     "name": "stdout",
     "output_type": "stream",
     "text": [
      "$fcc_astarr_macs_input_overlap\n",
      "[1] 733009      9\n",
      "\n",
      "$fcc_astarr_macs_input_union\n",
      "[1] 1133419       9\n",
      "\n"
     ]
    },
    {
     "data": {
      "text/html": [
       "<table class=\"dataframe\">\n",
       "<caption>A tibble: 3 × 9</caption>\n",
       "<thead>\n",
       "\t<tr><th scope=col>Chrom</th><th scope=col>ChromStart</th><th scope=col>ChromEnd</th><th scope=col>Region</th><th scope=col>Score</th><th scope=col>Assay_Name</th><th scope=col>Assay_Type</th><th scope=col>Assay_Group</th><th scope=col>Assay_Label</th></tr>\n",
       "\t<tr><th scope=col>&lt;chr&gt;</th><th scope=col>&lt;dbl&gt;</th><th scope=col>&lt;dbl&gt;</th><th scope=col>&lt;chr&gt;</th><th scope=col>&lt;dbl&gt;</th><th scope=col>&lt;chr&gt;</th><th scope=col>&lt;chr&gt;</th><th scope=col>&lt;chr&gt;</th><th scope=col>&lt;chr&gt;</th></tr>\n",
       "</thead>\n",
       "<tbody>\n",
       "\t<tr><td>chr11</td><td>4092109</td><td>4092511</td><td>chr11:4092109-4092511</td><td>-0.4446170</td><td>CRISPRi_FlowFISH_K562_Riley_JinWoo</td><td>CRISPRi-HCRFF</td><td>CRISPRi-HCRFF</td><td>CRISPRi-HCR FlowFISH</td></tr>\n",
       "\t<tr><td>chr11</td><td>4094223</td><td>4095304</td><td>chr11:4094223-4095304</td><td>-0.2302549</td><td>CRISPRi_FlowFISH_K562_Riley_JinWoo</td><td>CRISPRi-HCRFF</td><td>CRISPRi-HCRFF</td><td>CRISPRi-HCR FlowFISH</td></tr>\n",
       "\t<tr><td>chr11</td><td>4144721</td><td>4147004</td><td>chr11:4144721-4147004</td><td>-0.2878661</td><td>CRISPRi_FlowFISH_K562_Riley_JinWoo</td><td>CRISPRi-HCRFF</td><td>CRISPRi-HCRFF</td><td>CRISPRi-HCR FlowFISH</td></tr>\n",
       "</tbody>\n",
       "</table>\n"
      ],
      "text/latex": [
       "A tibble: 3 × 9\n",
       "\\begin{tabular}{lllllllll}\n",
       " Chrom & ChromStart & ChromEnd & Region & Score & Assay\\_Name & Assay\\_Type & Assay\\_Group & Assay\\_Label\\\\\n",
       " <chr> & <dbl> & <dbl> & <chr> & <dbl> & <chr> & <chr> & <chr> & <chr>\\\\\n",
       "\\hline\n",
       "\t chr11 & 4092109 & 4092511 & chr11:4092109-4092511 & -0.4446170 & CRISPRi\\_FlowFISH\\_K562\\_Riley\\_JinWoo & CRISPRi-HCRFF & CRISPRi-HCRFF & CRISPRi-HCR FlowFISH\\\\\n",
       "\t chr11 & 4094223 & 4095304 & chr11:4094223-4095304 & -0.2302549 & CRISPRi\\_FlowFISH\\_K562\\_Riley\\_JinWoo & CRISPRi-HCRFF & CRISPRi-HCRFF & CRISPRi-HCR FlowFISH\\\\\n",
       "\t chr11 & 4144721 & 4147004 & chr11:4144721-4147004 & -0.2878661 & CRISPRi\\_FlowFISH\\_K562\\_Riley\\_JinWoo & CRISPRi-HCRFF & CRISPRi-HCRFF & CRISPRi-HCR FlowFISH\\\\\n",
       "\\end{tabular}\n"
      ],
      "text/markdown": [
       "\n",
       "A tibble: 3 × 9\n",
       "\n",
       "| Chrom &lt;chr&gt; | ChromStart &lt;dbl&gt; | ChromEnd &lt;dbl&gt; | Region &lt;chr&gt; | Score &lt;dbl&gt; | Assay_Name &lt;chr&gt; | Assay_Type &lt;chr&gt; | Assay_Group &lt;chr&gt; | Assay_Label &lt;chr&gt; |\n",
       "|---|---|---|---|---|---|---|---|---|\n",
       "| chr11 | 4092109 | 4092511 | chr11:4092109-4092511 | -0.4446170 | CRISPRi_FlowFISH_K562_Riley_JinWoo | CRISPRi-HCRFF | CRISPRi-HCRFF | CRISPRi-HCR FlowFISH |\n",
       "| chr11 | 4094223 | 4095304 | chr11:4094223-4095304 | -0.2302549 | CRISPRi_FlowFISH_K562_Riley_JinWoo | CRISPRi-HCRFF | CRISPRi-HCRFF | CRISPRi-HCR FlowFISH |\n",
       "| chr11 | 4144721 | 4147004 | chr11:4144721-4147004 | -0.2878661 | CRISPRi_FlowFISH_K562_Riley_JinWoo | CRISPRi-HCRFF | CRISPRi-HCRFF | CRISPRi-HCR FlowFISH |\n",
       "\n"
      ],
      "text/plain": [
       "  Chrom ChromStart ChromEnd Region                Score     \n",
       "1 chr11 4092109    4092511  chr11:4092109-4092511 -0.4446170\n",
       "2 chr11 4094223    4095304  chr11:4094223-4095304 -0.2302549\n",
       "3 chr11 4144721    4147004  chr11:4144721-4147004 -0.2878661\n",
       "  Assay_Name                         Assay_Type    Assay_Group  \n",
       "1 CRISPRi_FlowFISH_K562_Riley_JinWoo CRISPRi-HCRFF CRISPRi-HCRFF\n",
       "2 CRISPRi_FlowFISH_K562_Riley_JinWoo CRISPRi-HCRFF CRISPRi-HCRFF\n",
       "3 CRISPRi_FlowFISH_K562_Riley_JinWoo CRISPRi-HCRFF CRISPRi-HCRFF\n",
       "  Assay_Label         \n",
       "1 CRISPRi-HCR FlowFISH\n",
       "2 CRISPRi-HCR FlowFISH\n",
       "3 CRISPRi-HCR FlowFISH"
      ]
     },
     "metadata": {},
     "output_type": "display_data"
    }
   ],
   "source": [
    "lst = lapply(VEC_TXT_REGION, function(txt_region){\n",
    "    ### get file paths\n",
    "    txt_fdiry  = file.path(FD_RES, \"region_coverage_fcc\", txt_region)\n",
    "    txt_fname  = \"result.coverage.zscore.tsv\"\n",
    "    txt_fglob  = file.path(txt_fdiry, \"*\", \"overlap_score\", \"summary\", txt_fname)\n",
    "    vec = Sys.glob(txt_fglob)\n",
    "    vec_txt_fpath = vec\n",
    "\n",
    "    ### import all z scores\n",
    "    lst = lapply(vec_txt_fpath, function(txt_fpath){\n",
    "        dat = read_tsv(txt_fpath, show_col_types = FALSE)\n",
    "        return(dat)\n",
    "    })\n",
    "    dat = bind_rows(lst)\n",
    "    return(dat)\n",
    "})\n",
    "\n",
    "### assign and show\n",
    "lst_dat_score_fcc_import = lst\n",
    "\n",
    "res = lapply(lst, dim)\n",
    "print(res)\n",
    "\n",
    "dat = lst[[1]]\n",
    "head(dat, 3)"
   ]
  },
  {
   "cell_type": "code",
   "execution_count": 7,
   "id": "9d6851da-deb1-4ed6-a3fc-c29ea2275094",
   "metadata": {},
   "outputs": [
    {
     "name": "stdout",
     "output_type": "stream",
     "text": [
      "$fcc_astarr_macs_input_overlap\n",
      "[1] 150041      9\n",
      "\n",
      "$fcc_astarr_macs_input_union\n",
      "[1] 246852      9\n",
      "\n"
     ]
    },
    {
     "data": {
      "text/html": [
       "<table class=\"dataframe\">\n",
       "<caption>A tibble: 3 × 9</caption>\n",
       "<thead>\n",
       "\t<tr><th scope=col>Chrom</th><th scope=col>ChromStart</th><th scope=col>ChromEnd</th><th scope=col>Region</th><th scope=col>Score</th><th scope=col>Assay_Name</th><th scope=col>Assay_Type</th><th scope=col>Assay_Group</th><th scope=col>Assay_Label</th></tr>\n",
       "\t<tr><th scope=col>&lt;chr&gt;</th><th scope=col>&lt;dbl&gt;</th><th scope=col>&lt;dbl&gt;</th><th scope=col>&lt;chr&gt;</th><th scope=col>&lt;dbl&gt;</th><th scope=col>&lt;chr&gt;</th><th scope=col>&lt;chr&gt;</th><th scope=col>&lt;chr&gt;</th><th scope=col>&lt;chr&gt;</th></tr>\n",
       "</thead>\n",
       "<tbody>\n",
       "\t<tr><td>chr1</td><td>10038</td><td>10405</td><td>chr1:10038-10405</td><td>3.940038</td><td>STARR_ATAC_K562_Reddy_KS91</td><td>ATAC</td><td>ASTARR_KS91</td><td>ATAC</td></tr>\n",
       "\t<tr><td>chr1</td><td>14282</td><td>14614</td><td>chr1:14282-14614</td><td>2.841707</td><td>STARR_ATAC_K562_Reddy_KS91</td><td>ATAC</td><td>ASTARR_KS91</td><td>ATAC</td></tr>\n",
       "\t<tr><td>chr1</td><td>16025</td><td>16338</td><td>chr1:16025-16338</td><td>3.830812</td><td>STARR_ATAC_K562_Reddy_KS91</td><td>ATAC</td><td>ASTARR_KS91</td><td>ATAC</td></tr>\n",
       "</tbody>\n",
       "</table>\n"
      ],
      "text/latex": [
       "A tibble: 3 × 9\n",
       "\\begin{tabular}{lllllllll}\n",
       " Chrom & ChromStart & ChromEnd & Region & Score & Assay\\_Name & Assay\\_Type & Assay\\_Group & Assay\\_Label\\\\\n",
       " <chr> & <dbl> & <dbl> & <chr> & <dbl> & <chr> & <chr> & <chr> & <chr>\\\\\n",
       "\\hline\n",
       "\t chr1 & 10038 & 10405 & chr1:10038-10405 & 3.940038 & STARR\\_ATAC\\_K562\\_Reddy\\_KS91 & ATAC & ASTARR\\_KS91 & ATAC\\\\\n",
       "\t chr1 & 14282 & 14614 & chr1:14282-14614 & 2.841707 & STARR\\_ATAC\\_K562\\_Reddy\\_KS91 & ATAC & ASTARR\\_KS91 & ATAC\\\\\n",
       "\t chr1 & 16025 & 16338 & chr1:16025-16338 & 3.830812 & STARR\\_ATAC\\_K562\\_Reddy\\_KS91 & ATAC & ASTARR\\_KS91 & ATAC\\\\\n",
       "\\end{tabular}\n"
      ],
      "text/markdown": [
       "\n",
       "A tibble: 3 × 9\n",
       "\n",
       "| Chrom &lt;chr&gt; | ChromStart &lt;dbl&gt; | ChromEnd &lt;dbl&gt; | Region &lt;chr&gt; | Score &lt;dbl&gt; | Assay_Name &lt;chr&gt; | Assay_Type &lt;chr&gt; | Assay_Group &lt;chr&gt; | Assay_Label &lt;chr&gt; |\n",
       "|---|---|---|---|---|---|---|---|---|\n",
       "| chr1 | 10038 | 10405 | chr1:10038-10405 | 3.940038 | STARR_ATAC_K562_Reddy_KS91 | ATAC | ASTARR_KS91 | ATAC |\n",
       "| chr1 | 14282 | 14614 | chr1:14282-14614 | 2.841707 | STARR_ATAC_K562_Reddy_KS91 | ATAC | ASTARR_KS91 | ATAC |\n",
       "| chr1 | 16025 | 16338 | chr1:16025-16338 | 3.830812 | STARR_ATAC_K562_Reddy_KS91 | ATAC | ASTARR_KS91 | ATAC |\n",
       "\n"
      ],
      "text/plain": [
       "  Chrom ChromStart ChromEnd Region           Score   \n",
       "1 chr1  10038      10405    chr1:10038-10405 3.940038\n",
       "2 chr1  14282      14614    chr1:14282-14614 2.841707\n",
       "3 chr1  16025      16338    chr1:16025-16338 3.830812\n",
       "  Assay_Name                 Assay_Type Assay_Group Assay_Label\n",
       "1 STARR_ATAC_K562_Reddy_KS91 ATAC       ASTARR_KS91 ATAC       \n",
       "2 STARR_ATAC_K562_Reddy_KS91 ATAC       ASTARR_KS91 ATAC       \n",
       "3 STARR_ATAC_K562_Reddy_KS91 ATAC       ASTARR_KS91 ATAC       "
      ]
     },
     "metadata": {},
     "output_type": "display_data"
    }
   ],
   "source": [
    "lst = lapply(VEC_TXT_REGION, function(txt_region){\n",
    "    ### get file paths\n",
    "    txt_fdiry  = file.path(\n",
    "        FD_RES, \n",
    "        \"region_coverage_fcc\", \n",
    "        txt_region, \n",
    "        \"summary\"\n",
    "    )\n",
    "    txt_fname  = \"result.coverage.score.atac.tsv\"\n",
    "    txt_fpath  = file.path(txt_fdiry, txt_fname)\n",
    "\n",
    "    ### \n",
    "    dat = read_tsv(txt_fpath, show_col_types = FALSE)\n",
    "    return(dat)\n",
    "})\n",
    "\n",
    "lst_dat_score_atac = lst\n",
    "\n",
    "res = lapply(lst, dim)\n",
    "print(res)\n",
    "\n",
    "dat = lst[[1]]\n",
    "head(dat, 3)"
   ]
  },
  {
   "cell_type": "code",
   "execution_count": 8,
   "id": "946c96d8-8ad4-4489-a2ee-571f44bc2bb8",
   "metadata": {},
   "outputs": [
    {
     "name": "stdout",
     "output_type": "stream",
     "text": [
      "$fcc_astarr_macs_input_overlap\n",
      "[1] 883050      9\n",
      "\n",
      "$fcc_astarr_macs_input_union\n",
      "[1] 1380271       9\n",
      "\n"
     ]
    },
    {
     "data": {
      "text/html": [
       "<table class=\"dataframe\">\n",
       "<caption>A tibble: 3 × 9</caption>\n",
       "<thead>\n",
       "\t<tr><th scope=col>Chrom</th><th scope=col>ChromStart</th><th scope=col>ChromEnd</th><th scope=col>Region</th><th scope=col>Score</th><th scope=col>Assay_Name</th><th scope=col>Assay_Type</th><th scope=col>Assay_Group</th><th scope=col>Assay_Label</th></tr>\n",
       "\t<tr><th scope=col>&lt;chr&gt;</th><th scope=col>&lt;dbl&gt;</th><th scope=col>&lt;dbl&gt;</th><th scope=col>&lt;chr&gt;</th><th scope=col>&lt;dbl&gt;</th><th scope=col>&lt;chr&gt;</th><th scope=col>&lt;chr&gt;</th><th scope=col>&lt;chr&gt;</th><th scope=col>&lt;chr&gt;</th></tr>\n",
       "</thead>\n",
       "<tbody>\n",
       "\t<tr><td>chr11</td><td>4092109</td><td>4092511</td><td>chr11:4092109-4092511</td><td>-0.4446170</td><td>CRISPRi_FlowFISH_K562_Riley_JinWoo</td><td>CRISPRi-HCRFF</td><td>CRISPRi-HCRFF</td><td>CRISPRi-HCR FlowFISH</td></tr>\n",
       "\t<tr><td>chr11</td><td>4094223</td><td>4095304</td><td>chr11:4094223-4095304</td><td>-0.2302549</td><td>CRISPRi_FlowFISH_K562_Riley_JinWoo</td><td>CRISPRi-HCRFF</td><td>CRISPRi-HCRFF</td><td>CRISPRi-HCR FlowFISH</td></tr>\n",
       "\t<tr><td>chr11</td><td>4144721</td><td>4147004</td><td>chr11:4144721-4147004</td><td>-0.2878661</td><td>CRISPRi_FlowFISH_K562_Riley_JinWoo</td><td>CRISPRi-HCRFF</td><td>CRISPRi-HCRFF</td><td>CRISPRi-HCR FlowFISH</td></tr>\n",
       "</tbody>\n",
       "</table>\n"
      ],
      "text/latex": [
       "A tibble: 3 × 9\n",
       "\\begin{tabular}{lllllllll}\n",
       " Chrom & ChromStart & ChromEnd & Region & Score & Assay\\_Name & Assay\\_Type & Assay\\_Group & Assay\\_Label\\\\\n",
       " <chr> & <dbl> & <dbl> & <chr> & <dbl> & <chr> & <chr> & <chr> & <chr>\\\\\n",
       "\\hline\n",
       "\t chr11 & 4092109 & 4092511 & chr11:4092109-4092511 & -0.4446170 & CRISPRi\\_FlowFISH\\_K562\\_Riley\\_JinWoo & CRISPRi-HCRFF & CRISPRi-HCRFF & CRISPRi-HCR FlowFISH\\\\\n",
       "\t chr11 & 4094223 & 4095304 & chr11:4094223-4095304 & -0.2302549 & CRISPRi\\_FlowFISH\\_K562\\_Riley\\_JinWoo & CRISPRi-HCRFF & CRISPRi-HCRFF & CRISPRi-HCR FlowFISH\\\\\n",
       "\t chr11 & 4144721 & 4147004 & chr11:4144721-4147004 & -0.2878661 & CRISPRi\\_FlowFISH\\_K562\\_Riley\\_JinWoo & CRISPRi-HCRFF & CRISPRi-HCRFF & CRISPRi-HCR FlowFISH\\\\\n",
       "\\end{tabular}\n"
      ],
      "text/markdown": [
       "\n",
       "A tibble: 3 × 9\n",
       "\n",
       "| Chrom &lt;chr&gt; | ChromStart &lt;dbl&gt; | ChromEnd &lt;dbl&gt; | Region &lt;chr&gt; | Score &lt;dbl&gt; | Assay_Name &lt;chr&gt; | Assay_Type &lt;chr&gt; | Assay_Group &lt;chr&gt; | Assay_Label &lt;chr&gt; |\n",
       "|---|---|---|---|---|---|---|---|---|\n",
       "| chr11 | 4092109 | 4092511 | chr11:4092109-4092511 | -0.4446170 | CRISPRi_FlowFISH_K562_Riley_JinWoo | CRISPRi-HCRFF | CRISPRi-HCRFF | CRISPRi-HCR FlowFISH |\n",
       "| chr11 | 4094223 | 4095304 | chr11:4094223-4095304 | -0.2302549 | CRISPRi_FlowFISH_K562_Riley_JinWoo | CRISPRi-HCRFF | CRISPRi-HCRFF | CRISPRi-HCR FlowFISH |\n",
       "| chr11 | 4144721 | 4147004 | chr11:4144721-4147004 | -0.2878661 | CRISPRi_FlowFISH_K562_Riley_JinWoo | CRISPRi-HCRFF | CRISPRi-HCRFF | CRISPRi-HCR FlowFISH |\n",
       "\n"
      ],
      "text/plain": [
       "  Chrom ChromStart ChromEnd Region                Score     \n",
       "1 chr11 4092109    4092511  chr11:4092109-4092511 -0.4446170\n",
       "2 chr11 4094223    4095304  chr11:4094223-4095304 -0.2302549\n",
       "3 chr11 4144721    4147004  chr11:4144721-4147004 -0.2878661\n",
       "  Assay_Name                         Assay_Type    Assay_Group  \n",
       "1 CRISPRi_FlowFISH_K562_Riley_JinWoo CRISPRi-HCRFF CRISPRi-HCRFF\n",
       "2 CRISPRi_FlowFISH_K562_Riley_JinWoo CRISPRi-HCRFF CRISPRi-HCRFF\n",
       "3 CRISPRi_FlowFISH_K562_Riley_JinWoo CRISPRi-HCRFF CRISPRi-HCRFF\n",
       "  Assay_Label         \n",
       "1 CRISPRi-HCR FlowFISH\n",
       "2 CRISPRi-HCR FlowFISH\n",
       "3 CRISPRi-HCR FlowFISH"
      ]
     },
     "metadata": {},
     "output_type": "display_data"
    }
   ],
   "source": [
    "lst = lapply(VEC_TXT_REGION, function(txt_region){\n",
    "    ### get tables\n",
    "    dat_score_fcc  = lst_dat_score_fcc_import[[txt_region]]\n",
    "    dat_score_atac = lst_dat_score_atac[[txt_region]]\n",
    "    \n",
    "    ### \n",
    "    dat = bind_rows(dat_score_fcc, dat_score_atac)\n",
    "    return(dat)\n",
    "})\n",
    "\n",
    "lst_dat_score_total = lst\n",
    "\n",
    "res = lapply(lst, dim)\n",
    "print(res)\n",
    "\n",
    "dat = lst[[1]]\n",
    "head(dat, 3)"
   ]
  },
  {
   "cell_type": "markdown",
   "id": "7f9a403b-c462-4363-aae7-705fda008655",
   "metadata": {},
   "source": [
    "**Explore**"
   ]
  },
  {
   "cell_type": "code",
   "execution_count": 9,
   "id": "366a818b-5d2d-47c9-9f08-eb99271f1b48",
   "metadata": {},
   "outputs": [
    {
     "data": {
      "text/html": [
       "<table class=\"dataframe\">\n",
       "<caption>A data.frame: 16 × 9</caption>\n",
       "<thead>\n",
       "\t<tr><th scope=col>Region</th><th scope=col>Group</th><th scope=col>ASTARR</th><th scope=col>ATAC</th><th scope=col>CRISPRi-Growth</th><th scope=col>CRISPRi-HCRFF</th><th scope=col>LMPRA</th><th scope=col>TMPRA</th><th scope=col>WSTARR</th></tr>\n",
       "\t<tr><th scope=col>&lt;chr&gt;</th><th scope=col>&lt;fct&gt;</th><th scope=col>&lt;int&gt;</th><th scope=col>&lt;int&gt;</th><th scope=col>&lt;int&gt;</th><th scope=col>&lt;int&gt;</th><th scope=col>&lt;int&gt;</th><th scope=col>&lt;int&gt;</th><th scope=col>&lt;int&gt;</th></tr>\n",
       "</thead>\n",
       "<tbody>\n",
       "\t<tr><td>fcc_astarr_macs_input_overlap</td><td>ASTARR_KS274  </td><td>150041</td><td>     0</td><td>    0</td><td>   0</td><td>    0</td><td>   0</td><td>     0</td></tr>\n",
       "\t<tr><td>fcc_astarr_macs_input_overlap</td><td>ASTARR_KS91   </td><td>150040</td><td>150041</td><td>    0</td><td>   0</td><td>    0</td><td>   0</td><td>     0</td></tr>\n",
       "\t<tr><td>fcc_astarr_macs_input_overlap</td><td>ASTARR_KSMerge</td><td>150040</td><td>     0</td><td>    0</td><td>   0</td><td>    0</td><td>   0</td><td>     0</td></tr>\n",
       "\t<tr><td>fcc_astarr_macs_input_overlap</td><td>CRISPRi-Growth</td><td>     0</td><td>     0</td><td>72743</td><td>   0</td><td>    0</td><td>   0</td><td>     0</td></tr>\n",
       "\t<tr><td>fcc_astarr_macs_input_overlap</td><td>CRISPRi-HCRFF </td><td>     0</td><td>     0</td><td>    0</td><td> 925</td><td>    0</td><td>   0</td><td>     0</td></tr>\n",
       "\t<tr><td>fcc_astarr_macs_input_overlap</td><td>LMPRA         </td><td>     0</td><td>     0</td><td>    0</td><td>   0</td><td>61478</td><td>   0</td><td>     0</td></tr>\n",
       "\t<tr><td>fcc_astarr_macs_input_overlap</td><td>TMPRA         </td><td>     0</td><td>     0</td><td>    0</td><td>   0</td><td>    0</td><td>1148</td><td>     0</td></tr>\n",
       "\t<tr><td>fcc_astarr_macs_input_overlap</td><td>WSTARR        </td><td>     0</td><td>     0</td><td>    0</td><td>   0</td><td>    0</td><td>   0</td><td>146594</td></tr>\n",
       "\t<tr><td>fcc_astarr_macs_input_union  </td><td>ASTARR_KS274  </td><td>246851</td><td>     0</td><td>    0</td><td>   0</td><td>    0</td><td>   0</td><td>     0</td></tr>\n",
       "\t<tr><td>fcc_astarr_macs_input_union  </td><td>ASTARR_KS91   </td><td>246850</td><td>246852</td><td>    0</td><td>   0</td><td>    0</td><td>   0</td><td>     0</td></tr>\n",
       "\t<tr><td>fcc_astarr_macs_input_union  </td><td>ASTARR_KSMerge</td><td>246850</td><td>     0</td><td>    0</td><td>   0</td><td>    0</td><td>   0</td><td>     0</td></tr>\n",
       "\t<tr><td>fcc_astarr_macs_input_union  </td><td>CRISPRi-Growth</td><td>     0</td><td>     0</td><td>80288</td><td>   0</td><td>    0</td><td>   0</td><td>     0</td></tr>\n",
       "\t<tr><td>fcc_astarr_macs_input_union  </td><td>CRISPRi-HCRFF </td><td>     0</td><td>     0</td><td>    0</td><td>1330</td><td>    0</td><td>   0</td><td>     0</td></tr>\n",
       "\t<tr><td>fcc_astarr_macs_input_union  </td><td>LMPRA         </td><td>     0</td><td>     0</td><td>    0</td><td>   0</td><td>68497</td><td>   0</td><td>     0</td></tr>\n",
       "\t<tr><td>fcc_astarr_macs_input_union  </td><td>TMPRA         </td><td>     0</td><td>     0</td><td>    0</td><td>   0</td><td>    0</td><td>1722</td><td>     0</td></tr>\n",
       "\t<tr><td>fcc_astarr_macs_input_union  </td><td>WSTARR        </td><td>     0</td><td>     0</td><td>    0</td><td>   0</td><td>    0</td><td>   0</td><td>241031</td></tr>\n",
       "</tbody>\n",
       "</table>\n"
      ],
      "text/latex": [
       "A data.frame: 16 × 9\n",
       "\\begin{tabular}{lllllllll}\n",
       " Region & Group & ASTARR & ATAC & CRISPRi-Growth & CRISPRi-HCRFF & LMPRA & TMPRA & WSTARR\\\\\n",
       " <chr> & <fct> & <int> & <int> & <int> & <int> & <int> & <int> & <int>\\\\\n",
       "\\hline\n",
       "\t fcc\\_astarr\\_macs\\_input\\_overlap & ASTARR\\_KS274   & 150041 &      0 &     0 &    0 &     0 &    0 &      0\\\\\n",
       "\t fcc\\_astarr\\_macs\\_input\\_overlap & ASTARR\\_KS91    & 150040 & 150041 &     0 &    0 &     0 &    0 &      0\\\\\n",
       "\t fcc\\_astarr\\_macs\\_input\\_overlap & ASTARR\\_KSMerge & 150040 &      0 &     0 &    0 &     0 &    0 &      0\\\\\n",
       "\t fcc\\_astarr\\_macs\\_input\\_overlap & CRISPRi-Growth &      0 &      0 & 72743 &    0 &     0 &    0 &      0\\\\\n",
       "\t fcc\\_astarr\\_macs\\_input\\_overlap & CRISPRi-HCRFF  &      0 &      0 &     0 &  925 &     0 &    0 &      0\\\\\n",
       "\t fcc\\_astarr\\_macs\\_input\\_overlap & LMPRA          &      0 &      0 &     0 &    0 & 61478 &    0 &      0\\\\\n",
       "\t fcc\\_astarr\\_macs\\_input\\_overlap & TMPRA          &      0 &      0 &     0 &    0 &     0 & 1148 &      0\\\\\n",
       "\t fcc\\_astarr\\_macs\\_input\\_overlap & WSTARR         &      0 &      0 &     0 &    0 &     0 &    0 & 146594\\\\\n",
       "\t fcc\\_astarr\\_macs\\_input\\_union   & ASTARR\\_KS274   & 246851 &      0 &     0 &    0 &     0 &    0 &      0\\\\\n",
       "\t fcc\\_astarr\\_macs\\_input\\_union   & ASTARR\\_KS91    & 246850 & 246852 &     0 &    0 &     0 &    0 &      0\\\\\n",
       "\t fcc\\_astarr\\_macs\\_input\\_union   & ASTARR\\_KSMerge & 246850 &      0 &     0 &    0 &     0 &    0 &      0\\\\\n",
       "\t fcc\\_astarr\\_macs\\_input\\_union   & CRISPRi-Growth &      0 &      0 & 80288 &    0 &     0 &    0 &      0\\\\\n",
       "\t fcc\\_astarr\\_macs\\_input\\_union   & CRISPRi-HCRFF  &      0 &      0 &     0 & 1330 &     0 &    0 &      0\\\\\n",
       "\t fcc\\_astarr\\_macs\\_input\\_union   & LMPRA          &      0 &      0 &     0 &    0 & 68497 &    0 &      0\\\\\n",
       "\t fcc\\_astarr\\_macs\\_input\\_union   & TMPRA          &      0 &      0 &     0 &    0 &     0 & 1722 &      0\\\\\n",
       "\t fcc\\_astarr\\_macs\\_input\\_union   & WSTARR         &      0 &      0 &     0 &    0 &     0 &    0 & 241031\\\\\n",
       "\\end{tabular}\n"
      ],
      "text/markdown": [
       "\n",
       "A data.frame: 16 × 9\n",
       "\n",
       "| Region &lt;chr&gt; | Group &lt;fct&gt; | ASTARR &lt;int&gt; | ATAC &lt;int&gt; | CRISPRi-Growth &lt;int&gt; | CRISPRi-HCRFF &lt;int&gt; | LMPRA &lt;int&gt; | TMPRA &lt;int&gt; | WSTARR &lt;int&gt; |\n",
       "|---|---|---|---|---|---|---|---|---|\n",
       "| fcc_astarr_macs_input_overlap | ASTARR_KS274   | 150041 |      0 |     0 |    0 |     0 |    0 |      0 |\n",
       "| fcc_astarr_macs_input_overlap | ASTARR_KS91    | 150040 | 150041 |     0 |    0 |     0 |    0 |      0 |\n",
       "| fcc_astarr_macs_input_overlap | ASTARR_KSMerge | 150040 |      0 |     0 |    0 |     0 |    0 |      0 |\n",
       "| fcc_astarr_macs_input_overlap | CRISPRi-Growth |      0 |      0 | 72743 |    0 |     0 |    0 |      0 |\n",
       "| fcc_astarr_macs_input_overlap | CRISPRi-HCRFF  |      0 |      0 |     0 |  925 |     0 |    0 |      0 |\n",
       "| fcc_astarr_macs_input_overlap | LMPRA          |      0 |      0 |     0 |    0 | 61478 |    0 |      0 |\n",
       "| fcc_astarr_macs_input_overlap | TMPRA          |      0 |      0 |     0 |    0 |     0 | 1148 |      0 |\n",
       "| fcc_astarr_macs_input_overlap | WSTARR         |      0 |      0 |     0 |    0 |     0 |    0 | 146594 |\n",
       "| fcc_astarr_macs_input_union   | ASTARR_KS274   | 246851 |      0 |     0 |    0 |     0 |    0 |      0 |\n",
       "| fcc_astarr_macs_input_union   | ASTARR_KS91    | 246850 | 246852 |     0 |    0 |     0 |    0 |      0 |\n",
       "| fcc_astarr_macs_input_union   | ASTARR_KSMerge | 246850 |      0 |     0 |    0 |     0 |    0 |      0 |\n",
       "| fcc_astarr_macs_input_union   | CRISPRi-Growth |      0 |      0 | 80288 |    0 |     0 |    0 |      0 |\n",
       "| fcc_astarr_macs_input_union   | CRISPRi-HCRFF  |      0 |      0 |     0 | 1330 |     0 |    0 |      0 |\n",
       "| fcc_astarr_macs_input_union   | LMPRA          |      0 |      0 |     0 |    0 | 68497 |    0 |      0 |\n",
       "| fcc_astarr_macs_input_union   | TMPRA          |      0 |      0 |     0 |    0 |     0 | 1722 |      0 |\n",
       "| fcc_astarr_macs_input_union   | WSTARR         |      0 |      0 |     0 |    0 |     0 |    0 | 241031 |\n",
       "\n"
      ],
      "text/plain": [
       "   Region                        Group          ASTARR ATAC   CRISPRi-Growth\n",
       "1  fcc_astarr_macs_input_overlap ASTARR_KS274   150041      0     0         \n",
       "2  fcc_astarr_macs_input_overlap ASTARR_KS91    150040 150041     0         \n",
       "3  fcc_astarr_macs_input_overlap ASTARR_KSMerge 150040      0     0         \n",
       "4  fcc_astarr_macs_input_overlap CRISPRi-Growth      0      0 72743         \n",
       "5  fcc_astarr_macs_input_overlap CRISPRi-HCRFF       0      0     0         \n",
       "6  fcc_astarr_macs_input_overlap LMPRA               0      0     0         \n",
       "7  fcc_astarr_macs_input_overlap TMPRA               0      0     0         \n",
       "8  fcc_astarr_macs_input_overlap WSTARR              0      0     0         \n",
       "9  fcc_astarr_macs_input_union   ASTARR_KS274   246851      0     0         \n",
       "10 fcc_astarr_macs_input_union   ASTARR_KS91    246850 246852     0         \n",
       "11 fcc_astarr_macs_input_union   ASTARR_KSMerge 246850      0     0         \n",
       "12 fcc_astarr_macs_input_union   CRISPRi-Growth      0      0 80288         \n",
       "13 fcc_astarr_macs_input_union   CRISPRi-HCRFF       0      0     0         \n",
       "14 fcc_astarr_macs_input_union   LMPRA               0      0     0         \n",
       "15 fcc_astarr_macs_input_union   TMPRA               0      0     0         \n",
       "16 fcc_astarr_macs_input_union   WSTARR              0      0     0         \n",
       "   CRISPRi-HCRFF LMPRA TMPRA WSTARR\n",
       "1     0              0    0       0\n",
       "2     0              0    0       0\n",
       "3     0              0    0       0\n",
       "4     0              0    0       0\n",
       "5   925              0    0       0\n",
       "6     0          61478    0       0\n",
       "7     0              0 1148       0\n",
       "8     0              0    0  146594\n",
       "9     0              0    0       0\n",
       "10    0              0    0       0\n",
       "11    0              0    0       0\n",
       "12    0              0    0       0\n",
       "13 1330              0    0       0\n",
       "14    0          68497    0       0\n",
       "15    0              0 1722       0\n",
       "16    0              0    0  241031"
      ]
     },
     "metadata": {},
     "output_type": "display_data"
    }
   ],
   "source": [
    "lst = lst_dat_score_total \n",
    "lst = lapply(lst, function(dat){\n",
    "    res = table(dat$Assay_Type, dat$Assay_Group, dnn = c(\"Type\", \"Group\"))\n",
    "    dat = as.data.frame(res)\n",
    "    return(dat)\n",
    "})\n",
    "\n",
    "dat = bind_rows(lst, .id = \"Region\")\n",
    "dat = dat %>% tidyr::spread(Type, Freq)\n",
    "dat"
   ]
  },
  {
   "cell_type": "code",
   "execution_count": null,
   "id": "36555359-0f85-4e7d-af28-b2e90950b60b",
   "metadata": {},
   "outputs": [],
   "source": []
  },
  {
   "cell_type": "code",
   "execution_count": null,
   "id": "4620ffed-4d28-4f72-8364-4a5e416b9cfc",
   "metadata": {},
   "outputs": [],
   "source": []
  },
  {
   "cell_type": "code",
   "execution_count": null,
   "id": "2bf2cd5d-03a7-4b01-b88f-b7b7a11af87c",
   "metadata": {},
   "outputs": [],
   "source": []
  },
  {
   "cell_type": "code",
   "execution_count": 10,
   "id": "e3f803a6-9eda-4f7e-8f30-4dcb5fb92f46",
   "metadata": {},
   "outputs": [
    {
     "name": "stdout",
     "output_type": "stream",
     "text": [
      "$fcc_astarr_macs_input_overlap\n",
      "[1] 432928      9\n",
      "\n",
      "$fcc_astarr_macs_input_union\n",
      "[1] 639718      9\n",
      "\n"
     ]
    },
    {
     "data": {
      "text/html": [
       "<table class=\"dataframe\">\n",
       "<caption>A tibble: 3 × 9</caption>\n",
       "<thead>\n",
       "\t<tr><th scope=col>Chrom</th><th scope=col>ChromStart</th><th scope=col>ChromEnd</th><th scope=col>Region</th><th scope=col>Score</th><th scope=col>Assay_Name</th><th scope=col>Assay_Type</th><th scope=col>Assay_Group</th><th scope=col>Assay_Label</th></tr>\n",
       "\t<tr><th scope=col>&lt;chr&gt;</th><th scope=col>&lt;dbl&gt;</th><th scope=col>&lt;dbl&gt;</th><th scope=col>&lt;chr&gt;</th><th scope=col>&lt;dbl&gt;</th><th scope=col>&lt;chr&gt;</th><th scope=col>&lt;chr&gt;</th><th scope=col>&lt;chr&gt;</th><th scope=col>&lt;chr&gt;</th></tr>\n",
       "</thead>\n",
       "<tbody>\n",
       "\t<tr><td>chr11</td><td>4092109</td><td>4092511</td><td>chr11:4092109-4092511</td><td>-0.4446170</td><td>CRISPRi_FlowFISH_K562_Riley_JinWoo</td><td>CRISPRi-HCRFF</td><td>CRISPRi-HCRFF</td><td>CRISPRi-HCR FlowFISH</td></tr>\n",
       "\t<tr><td>chr11</td><td>4094223</td><td>4095304</td><td>chr11:4094223-4095304</td><td>-0.2302549</td><td>CRISPRi_FlowFISH_K562_Riley_JinWoo</td><td>CRISPRi-HCRFF</td><td>CRISPRi-HCRFF</td><td>CRISPRi-HCR FlowFISH</td></tr>\n",
       "\t<tr><td>chr11</td><td>4144721</td><td>4147004</td><td>chr11:4144721-4147004</td><td>-0.2878661</td><td>CRISPRi_FlowFISH_K562_Riley_JinWoo</td><td>CRISPRi-HCRFF</td><td>CRISPRi-HCRFF</td><td>CRISPRi-HCR FlowFISH</td></tr>\n",
       "</tbody>\n",
       "</table>\n"
      ],
      "text/latex": [
       "A tibble: 3 × 9\n",
       "\\begin{tabular}{lllllllll}\n",
       " Chrom & ChromStart & ChromEnd & Region & Score & Assay\\_Name & Assay\\_Type & Assay\\_Group & Assay\\_Label\\\\\n",
       " <chr> & <dbl> & <dbl> & <chr> & <dbl> & <chr> & <chr> & <chr> & <chr>\\\\\n",
       "\\hline\n",
       "\t chr11 & 4092109 & 4092511 & chr11:4092109-4092511 & -0.4446170 & CRISPRi\\_FlowFISH\\_K562\\_Riley\\_JinWoo & CRISPRi-HCRFF & CRISPRi-HCRFF & CRISPRi-HCR FlowFISH\\\\\n",
       "\t chr11 & 4094223 & 4095304 & chr11:4094223-4095304 & -0.2302549 & CRISPRi\\_FlowFISH\\_K562\\_Riley\\_JinWoo & CRISPRi-HCRFF & CRISPRi-HCRFF & CRISPRi-HCR FlowFISH\\\\\n",
       "\t chr11 & 4144721 & 4147004 & chr11:4144721-4147004 & -0.2878661 & CRISPRi\\_FlowFISH\\_K562\\_Riley\\_JinWoo & CRISPRi-HCRFF & CRISPRi-HCRFF & CRISPRi-HCR FlowFISH\\\\\n",
       "\\end{tabular}\n"
      ],
      "text/markdown": [
       "\n",
       "A tibble: 3 × 9\n",
       "\n",
       "| Chrom &lt;chr&gt; | ChromStart &lt;dbl&gt; | ChromEnd &lt;dbl&gt; | Region &lt;chr&gt; | Score &lt;dbl&gt; | Assay_Name &lt;chr&gt; | Assay_Type &lt;chr&gt; | Assay_Group &lt;chr&gt; | Assay_Label &lt;chr&gt; |\n",
       "|---|---|---|---|---|---|---|---|---|\n",
       "| chr11 | 4092109 | 4092511 | chr11:4092109-4092511 | -0.4446170 | CRISPRi_FlowFISH_K562_Riley_JinWoo | CRISPRi-HCRFF | CRISPRi-HCRFF | CRISPRi-HCR FlowFISH |\n",
       "| chr11 | 4094223 | 4095304 | chr11:4094223-4095304 | -0.2302549 | CRISPRi_FlowFISH_K562_Riley_JinWoo | CRISPRi-HCRFF | CRISPRi-HCRFF | CRISPRi-HCR FlowFISH |\n",
       "| chr11 | 4144721 | 4147004 | chr11:4144721-4147004 | -0.2878661 | CRISPRi_FlowFISH_K562_Riley_JinWoo | CRISPRi-HCRFF | CRISPRi-HCRFF | CRISPRi-HCR FlowFISH |\n",
       "\n"
      ],
      "text/plain": [
       "  Chrom ChromStart ChromEnd Region                Score     \n",
       "1 chr11 4092109    4092511  chr11:4092109-4092511 -0.4446170\n",
       "2 chr11 4094223    4095304  chr11:4094223-4095304 -0.2302549\n",
       "3 chr11 4144721    4147004  chr11:4144721-4147004 -0.2878661\n",
       "  Assay_Name                         Assay_Type    Assay_Group  \n",
       "1 CRISPRi_FlowFISH_K562_Riley_JinWoo CRISPRi-HCRFF CRISPRi-HCRFF\n",
       "2 CRISPRi_FlowFISH_K562_Riley_JinWoo CRISPRi-HCRFF CRISPRi-HCRFF\n",
       "3 CRISPRi_FlowFISH_K562_Riley_JinWoo CRISPRi-HCRFF CRISPRi-HCRFF\n",
       "  Assay_Label         \n",
       "1 CRISPRi-HCR FlowFISH\n",
       "2 CRISPRi-HCR FlowFISH\n",
       "3 CRISPRi-HCR FlowFISH"
      ]
     },
     "metadata": {},
     "output_type": "display_data"
    }
   ],
   "source": [
    "vec_txt_assay = c(\n",
    "    \"CRISPRi_FlowFISH_K562_Riley_JinWoo\",\n",
    "    \"CRISPRi_Growth_K562_Gersbach_JinWoo\", \n",
    "    \"MPRA_Lenti_K562_Nadav_Vikram\", \n",
    "    \"MPRA_Tiling_K562_Tewhey_Hannah\", \n",
    "    \"STARR_ATAC_K562_Reddy_KS91\", \n",
    "    \"STARR_WHG_K562_Reddy_A001\"#,\n",
    "    #\"ATAC\"\n",
    ")\n",
    "\n",
    "#lst = lst_dat_score_total\n",
    "lst = lst_dat_score_fcc_import\n",
    "lst = lapply(lst, function(dat){\n",
    "    dat = dat %>% dplyr::filter(Assay_Name %in% vec_txt_assay)\n",
    "    return(dat)\n",
    "})\n",
    "\n",
    "lst_dat_score_final = lst\n",
    "\n",
    "res = lapply(lst, dim)\n",
    "print(res)\n",
    "\n",
    "dat = lst[[1]]\n",
    "head(dat, 3)"
   ]
  },
  {
   "cell_type": "code",
   "execution_count": 11,
   "id": "f8caae6f-16be-494c-b1c8-ce193bc56db5",
   "metadata": {},
   "outputs": [
    {
     "name": "stdout",
     "output_type": "stream",
     "text": [
      "$fcc_astarr_macs_input_overlap\n",
      "[1] 432603      9\n",
      "\n",
      "$fcc_astarr_macs_input_union\n",
      "[1] 639302      9\n",
      "\n"
     ]
    },
    {
     "data": {
      "text/html": [
       "<table class=\"dataframe\">\n",
       "<caption>A tibble: 3 × 9</caption>\n",
       "<thead>\n",
       "\t<tr><th scope=col>Chrom</th><th scope=col>ChromStart</th><th scope=col>ChromEnd</th><th scope=col>Region</th><th scope=col>Score</th><th scope=col>Assay_Name</th><th scope=col>Assay_Type</th><th scope=col>Assay_Group</th><th scope=col>Assay_Label</th></tr>\n",
       "\t<tr><th scope=col>&lt;chr&gt;</th><th scope=col>&lt;dbl&gt;</th><th scope=col>&lt;dbl&gt;</th><th scope=col>&lt;chr&gt;</th><th scope=col>&lt;dbl&gt;</th><th scope=col>&lt;chr&gt;</th><th scope=col>&lt;chr&gt;</th><th scope=col>&lt;chr&gt;</th><th scope=col>&lt;chr&gt;</th></tr>\n",
       "</thead>\n",
       "<tbody>\n",
       "\t<tr><td>chr11</td><td>4092109</td><td>4092511</td><td>chr11:4092109-4092511</td><td>-0.4446170</td><td>CRISPRi_FlowFISH_K562_Riley_JinWoo</td><td>CRISPRi-HCRFF</td><td>CRISPRi-HCRFF</td><td>CRISPRi-HCR FlowFISH</td></tr>\n",
       "\t<tr><td>chr11</td><td>4094223</td><td>4095304</td><td>chr11:4094223-4095304</td><td>-0.2302549</td><td>CRISPRi_FlowFISH_K562_Riley_JinWoo</td><td>CRISPRi-HCRFF</td><td>CRISPRi-HCRFF</td><td>CRISPRi-HCR FlowFISH</td></tr>\n",
       "\t<tr><td>chr11</td><td>4144721</td><td>4147004</td><td>chr11:4144721-4147004</td><td>-0.2878661</td><td>CRISPRi_FlowFISH_K562_Riley_JinWoo</td><td>CRISPRi-HCRFF</td><td>CRISPRi-HCRFF</td><td>CRISPRi-HCR FlowFISH</td></tr>\n",
       "</tbody>\n",
       "</table>\n"
      ],
      "text/latex": [
       "A tibble: 3 × 9\n",
       "\\begin{tabular}{lllllllll}\n",
       " Chrom & ChromStart & ChromEnd & Region & Score & Assay\\_Name & Assay\\_Type & Assay\\_Group & Assay\\_Label\\\\\n",
       " <chr> & <dbl> & <dbl> & <chr> & <dbl> & <chr> & <chr> & <chr> & <chr>\\\\\n",
       "\\hline\n",
       "\t chr11 & 4092109 & 4092511 & chr11:4092109-4092511 & -0.4446170 & CRISPRi\\_FlowFISH\\_K562\\_Riley\\_JinWoo & CRISPRi-HCRFF & CRISPRi-HCRFF & CRISPRi-HCR FlowFISH\\\\\n",
       "\t chr11 & 4094223 & 4095304 & chr11:4094223-4095304 & -0.2302549 & CRISPRi\\_FlowFISH\\_K562\\_Riley\\_JinWoo & CRISPRi-HCRFF & CRISPRi-HCRFF & CRISPRi-HCR FlowFISH\\\\\n",
       "\t chr11 & 4144721 & 4147004 & chr11:4144721-4147004 & -0.2878661 & CRISPRi\\_FlowFISH\\_K562\\_Riley\\_JinWoo & CRISPRi-HCRFF & CRISPRi-HCRFF & CRISPRi-HCR FlowFISH\\\\\n",
       "\\end{tabular}\n"
      ],
      "text/markdown": [
       "\n",
       "A tibble: 3 × 9\n",
       "\n",
       "| Chrom &lt;chr&gt; | ChromStart &lt;dbl&gt; | ChromEnd &lt;dbl&gt; | Region &lt;chr&gt; | Score &lt;dbl&gt; | Assay_Name &lt;chr&gt; | Assay_Type &lt;chr&gt; | Assay_Group &lt;chr&gt; | Assay_Label &lt;chr&gt; |\n",
       "|---|---|---|---|---|---|---|---|---|\n",
       "| chr11 | 4092109 | 4092511 | chr11:4092109-4092511 | -0.4446170 | CRISPRi_FlowFISH_K562_Riley_JinWoo | CRISPRi-HCRFF | CRISPRi-HCRFF | CRISPRi-HCR FlowFISH |\n",
       "| chr11 | 4094223 | 4095304 | chr11:4094223-4095304 | -0.2302549 | CRISPRi_FlowFISH_K562_Riley_JinWoo | CRISPRi-HCRFF | CRISPRi-HCRFF | CRISPRi-HCR FlowFISH |\n",
       "| chr11 | 4144721 | 4147004 | chr11:4144721-4147004 | -0.2878661 | CRISPRi_FlowFISH_K562_Riley_JinWoo | CRISPRi-HCRFF | CRISPRi-HCRFF | CRISPRi-HCR FlowFISH |\n",
       "\n"
      ],
      "text/plain": [
       "  Chrom ChromStart ChromEnd Region                Score     \n",
       "1 chr11 4092109    4092511  chr11:4092109-4092511 -0.4446170\n",
       "2 chr11 4094223    4095304  chr11:4094223-4095304 -0.2302549\n",
       "3 chr11 4144721    4147004  chr11:4144721-4147004 -0.2878661\n",
       "  Assay_Name                         Assay_Type    Assay_Group  \n",
       "1 CRISPRi_FlowFISH_K562_Riley_JinWoo CRISPRi-HCRFF CRISPRi-HCRFF\n",
       "2 CRISPRi_FlowFISH_K562_Riley_JinWoo CRISPRi-HCRFF CRISPRi-HCRFF\n",
       "3 CRISPRi_FlowFISH_K562_Riley_JinWoo CRISPRi-HCRFF CRISPRi-HCRFF\n",
       "  Assay_Label         \n",
       "1 CRISPRi-HCR FlowFISH\n",
       "2 CRISPRi-HCR FlowFISH\n",
       "3 CRISPRi-HCR FlowFISH"
      ]
     },
     "metadata": {},
     "output_type": "display_data"
    }
   ],
   "source": [
    "vec_txt_assay = c(\n",
    "    \"CRISPRi_FlowFISH_K562_Riley_JinWoo\",\n",
    "    \"CRISPRi_Growth_K562_Gersbach_JinWoo\", \n",
    "    \"MPRA_Lenti_K562_Nadav_Vikram\", \n",
    "    \"MPRA_Tiling_K562_Tewhey_Hannah\", \n",
    "    \"STARR_ATAC_K562_Reddy_KS91\", \n",
    "    \"STARR_WHG_K562_Reddy_A001\"#,\n",
    "    #\"ATAC\"\n",
    ")\n",
    "\n",
    "#lst = lst_dat_score_total\n",
    "lst = lst_dat_score_fcc_import\n",
    "lst = lapply(lst, function(dat){\n",
    "    dat = dat %>% dplyr::filter(Assay_Name %in% vec_txt_assay)\n",
    "    return(dat)\n",
    "})\n",
    "\n",
    "lst_dat_score_final = lst\n",
    "\n",
    "res = lapply(lst, dim)\n",
    "print(res)\n",
    "\n",
    "dat = lst[[1]]\n",
    "head(dat, 3)"
   ]
  },
  {
   "cell_type": "markdown",
   "id": "7516b2a6-7af1-4030-960f-96dfeec84301",
   "metadata": {},
   "source": [
    "**Explore**"
   ]
  },
  {
   "cell_type": "code",
   "execution_count": 11,
   "id": "97d4138c-e5bd-4303-bef0-267046ae7db8",
   "metadata": {},
   "outputs": [
    {
     "data": {
      "text/html": [
       "<table>\n",
       " <thead>\n",
       "  <tr>\n",
       "   <th style=\"text-align:left;\"> Region </th>\n",
       "   <th style=\"text-align:left;\"> Group </th>\n",
       "   <th style=\"text-align:right;\"> ASTARR </th>\n",
       "   <th style=\"text-align:right;\"> CRISPRi-Growth </th>\n",
       "   <th style=\"text-align:right;\"> CRISPRi-HCRFF </th>\n",
       "   <th style=\"text-align:right;\"> LMPRA </th>\n",
       "   <th style=\"text-align:right;\"> TMPRA </th>\n",
       "   <th style=\"text-align:right;\"> WSTARR </th>\n",
       "  </tr>\n",
       " </thead>\n",
       "<tbody>\n",
       "  <tr>\n",
       "   <td style=\"text-align:left;\"> fcc_astarr_macs_input_overlap </td>\n",
       "   <td style=\"text-align:left;\"> ASTARR_KS91 </td>\n",
       "   <td style=\"text-align:right;\"> 150040 </td>\n",
       "   <td style=\"text-align:right;\"> 0 </td>\n",
       "   <td style=\"text-align:right;\"> 0 </td>\n",
       "   <td style=\"text-align:right;\"> 0 </td>\n",
       "   <td style=\"text-align:right;\"> 0 </td>\n",
       "   <td style=\"text-align:right;\"> 0 </td>\n",
       "  </tr>\n",
       "  <tr>\n",
       "   <td style=\"text-align:left;\"> fcc_astarr_macs_input_overlap </td>\n",
       "   <td style=\"text-align:left;\"> CRISPRi-Growth </td>\n",
       "   <td style=\"text-align:right;\"> 0 </td>\n",
       "   <td style=\"text-align:right;\"> 72743 </td>\n",
       "   <td style=\"text-align:right;\"> 0 </td>\n",
       "   <td style=\"text-align:right;\"> 0 </td>\n",
       "   <td style=\"text-align:right;\"> 0 </td>\n",
       "   <td style=\"text-align:right;\"> 0 </td>\n",
       "  </tr>\n",
       "  <tr>\n",
       "   <td style=\"text-align:left;\"> fcc_astarr_macs_input_overlap </td>\n",
       "   <td style=\"text-align:left;\"> CRISPRi-HCRFF </td>\n",
       "   <td style=\"text-align:right;\"> 0 </td>\n",
       "   <td style=\"text-align:right;\"> 0 </td>\n",
       "   <td style=\"text-align:right;\"> 925 </td>\n",
       "   <td style=\"text-align:right;\"> 0 </td>\n",
       "   <td style=\"text-align:right;\"> 0 </td>\n",
       "   <td style=\"text-align:right;\"> 0 </td>\n",
       "  </tr>\n",
       "  <tr>\n",
       "   <td style=\"text-align:left;\"> fcc_astarr_macs_input_overlap </td>\n",
       "   <td style=\"text-align:left;\"> LMPRA </td>\n",
       "   <td style=\"text-align:right;\"> 0 </td>\n",
       "   <td style=\"text-align:right;\"> 0 </td>\n",
       "   <td style=\"text-align:right;\"> 0 </td>\n",
       "   <td style=\"text-align:right;\"> 61478 </td>\n",
       "   <td style=\"text-align:right;\"> 0 </td>\n",
       "   <td style=\"text-align:right;\"> 0 </td>\n",
       "  </tr>\n",
       "  <tr>\n",
       "   <td style=\"text-align:left;\"> fcc_astarr_macs_input_overlap </td>\n",
       "   <td style=\"text-align:left;\"> TMPRA </td>\n",
       "   <td style=\"text-align:right;\"> 0 </td>\n",
       "   <td style=\"text-align:right;\"> 0 </td>\n",
       "   <td style=\"text-align:right;\"> 0 </td>\n",
       "   <td style=\"text-align:right;\"> 0 </td>\n",
       "   <td style=\"text-align:right;\"> 1148 </td>\n",
       "   <td style=\"text-align:right;\"> 0 </td>\n",
       "  </tr>\n",
       "  <tr>\n",
       "   <td style=\"text-align:left;\"> fcc_astarr_macs_input_overlap </td>\n",
       "   <td style=\"text-align:left;\"> WSTARR </td>\n",
       "   <td style=\"text-align:right;\"> 0 </td>\n",
       "   <td style=\"text-align:right;\"> 0 </td>\n",
       "   <td style=\"text-align:right;\"> 0 </td>\n",
       "   <td style=\"text-align:right;\"> 0 </td>\n",
       "   <td style=\"text-align:right;\"> 0 </td>\n",
       "   <td style=\"text-align:right;\"> 146594 </td>\n",
       "  </tr>\n",
       "  <tr>\n",
       "   <td style=\"text-align:left;\"> fcc_astarr_macs_input_union </td>\n",
       "   <td style=\"text-align:left;\"> ASTARR_KS91 </td>\n",
       "   <td style=\"text-align:right;\"> 246850 </td>\n",
       "   <td style=\"text-align:right;\"> 0 </td>\n",
       "   <td style=\"text-align:right;\"> 0 </td>\n",
       "   <td style=\"text-align:right;\"> 0 </td>\n",
       "   <td style=\"text-align:right;\"> 0 </td>\n",
       "   <td style=\"text-align:right;\"> 0 </td>\n",
       "  </tr>\n",
       "  <tr>\n",
       "   <td style=\"text-align:left;\"> fcc_astarr_macs_input_union </td>\n",
       "   <td style=\"text-align:left;\"> CRISPRi-Growth </td>\n",
       "   <td style=\"text-align:right;\"> 0 </td>\n",
       "   <td style=\"text-align:right;\"> 80288 </td>\n",
       "   <td style=\"text-align:right;\"> 0 </td>\n",
       "   <td style=\"text-align:right;\"> 0 </td>\n",
       "   <td style=\"text-align:right;\"> 0 </td>\n",
       "   <td style=\"text-align:right;\"> 0 </td>\n",
       "  </tr>\n",
       "  <tr>\n",
       "   <td style=\"text-align:left;\"> fcc_astarr_macs_input_union </td>\n",
       "   <td style=\"text-align:left;\"> CRISPRi-HCRFF </td>\n",
       "   <td style=\"text-align:right;\"> 0 </td>\n",
       "   <td style=\"text-align:right;\"> 0 </td>\n",
       "   <td style=\"text-align:right;\"> 1330 </td>\n",
       "   <td style=\"text-align:right;\"> 0 </td>\n",
       "   <td style=\"text-align:right;\"> 0 </td>\n",
       "   <td style=\"text-align:right;\"> 0 </td>\n",
       "  </tr>\n",
       "  <tr>\n",
       "   <td style=\"text-align:left;\"> fcc_astarr_macs_input_union </td>\n",
       "   <td style=\"text-align:left;\"> LMPRA </td>\n",
       "   <td style=\"text-align:right;\"> 0 </td>\n",
       "   <td style=\"text-align:right;\"> 0 </td>\n",
       "   <td style=\"text-align:right;\"> 0 </td>\n",
       "   <td style=\"text-align:right;\"> 68497 </td>\n",
       "   <td style=\"text-align:right;\"> 0 </td>\n",
       "   <td style=\"text-align:right;\"> 0 </td>\n",
       "  </tr>\n",
       "  <tr>\n",
       "   <td style=\"text-align:left;\"> fcc_astarr_macs_input_union </td>\n",
       "   <td style=\"text-align:left;\"> TMPRA </td>\n",
       "   <td style=\"text-align:right;\"> 0 </td>\n",
       "   <td style=\"text-align:right;\"> 0 </td>\n",
       "   <td style=\"text-align:right;\"> 0 </td>\n",
       "   <td style=\"text-align:right;\"> 0 </td>\n",
       "   <td style=\"text-align:right;\"> 1722 </td>\n",
       "   <td style=\"text-align:right;\"> 0 </td>\n",
       "  </tr>\n",
       "  <tr>\n",
       "   <td style=\"text-align:left;\"> fcc_astarr_macs_input_union </td>\n",
       "   <td style=\"text-align:left;\"> WSTARR </td>\n",
       "   <td style=\"text-align:right;\"> 0 </td>\n",
       "   <td style=\"text-align:right;\"> 0 </td>\n",
       "   <td style=\"text-align:right;\"> 0 </td>\n",
       "   <td style=\"text-align:right;\"> 0 </td>\n",
       "   <td style=\"text-align:right;\"> 0 </td>\n",
       "   <td style=\"text-align:right;\"> 241031 </td>\n",
       "  </tr>\n",
       "</tbody>\n",
       "</table>"
      ]
     },
     "metadata": {},
     "output_type": "display_data"
    }
   ],
   "source": [
    "lst = lst_dat_score_final \n",
    "lst = lapply(lst, function(dat){\n",
    "    res = table(dat$Assay_Type, dat$Assay_Group, dnn = c(\"Type\", \"Group\"))\n",
    "    dat = as.data.frame(res)\n",
    "    return(dat)\n",
    "})\n",
    "\n",
    "dat = bind_rows(lst, .id = \"Region\")\n",
    "dat = dat %>% tidyr::spread(Type, Freq)\n",
    "fun_display_table(dat)"
   ]
  },
  {
   "cell_type": "code",
   "execution_count": null,
   "id": "55a8eb90-fa76-40b8-9e9f-2490d38b6a9b",
   "metadata": {},
   "outputs": [],
   "source": []
  },
  {
   "cell_type": "code",
   "execution_count": null,
   "id": "ad543dc8-d611-4c6d-991d-b0b60d097038",
   "metadata": {},
   "outputs": [],
   "source": []
  },
  {
   "cell_type": "code",
   "execution_count": 12,
   "id": "bb86508a-a6e9-44d0-8330-ccf6653121d6",
   "metadata": {},
   "outputs": [
    {
     "name": "stdout",
     "output_type": "stream",
     "text": [
      "$fcc_astarr_macs_input_overlap\n",
      "[1] 432928      6\n",
      "\n",
      "$fcc_astarr_macs_input_union\n",
      "[1] 639718      6\n",
      "\n"
     ]
    },
    {
     "data": {
      "text/html": [
       "<table class=\"dataframe\">\n",
       "<caption>A tibble: 3 × 6</caption>\n",
       "<thead>\n",
       "\t<tr><th scope=col>Chrom</th><th scope=col>ChromStart</th><th scope=col>ChromEnd</th><th scope=col>Region</th><th scope=col>Score</th><th scope=col>Assay</th></tr>\n",
       "\t<tr><th scope=col>&lt;chr&gt;</th><th scope=col>&lt;dbl&gt;</th><th scope=col>&lt;dbl&gt;</th><th scope=col>&lt;chr&gt;</th><th scope=col>&lt;dbl&gt;</th><th scope=col>&lt;chr&gt;</th></tr>\n",
       "</thead>\n",
       "<tbody>\n",
       "\t<tr><td>chr11</td><td>4092109</td><td>4092511</td><td>chr11:4092109-4092511</td><td>-0.4446170</td><td>CRISPRi-HCR FlowFISH</td></tr>\n",
       "\t<tr><td>chr11</td><td>4094223</td><td>4095304</td><td>chr11:4094223-4095304</td><td>-0.2302549</td><td>CRISPRi-HCR FlowFISH</td></tr>\n",
       "\t<tr><td>chr11</td><td>4144721</td><td>4147004</td><td>chr11:4144721-4147004</td><td>-0.2878661</td><td>CRISPRi-HCR FlowFISH</td></tr>\n",
       "</tbody>\n",
       "</table>\n"
      ],
      "text/latex": [
       "A tibble: 3 × 6\n",
       "\\begin{tabular}{llllll}\n",
       " Chrom & ChromStart & ChromEnd & Region & Score & Assay\\\\\n",
       " <chr> & <dbl> & <dbl> & <chr> & <dbl> & <chr>\\\\\n",
       "\\hline\n",
       "\t chr11 & 4092109 & 4092511 & chr11:4092109-4092511 & -0.4446170 & CRISPRi-HCR FlowFISH\\\\\n",
       "\t chr11 & 4094223 & 4095304 & chr11:4094223-4095304 & -0.2302549 & CRISPRi-HCR FlowFISH\\\\\n",
       "\t chr11 & 4144721 & 4147004 & chr11:4144721-4147004 & -0.2878661 & CRISPRi-HCR FlowFISH\\\\\n",
       "\\end{tabular}\n"
      ],
      "text/markdown": [
       "\n",
       "A tibble: 3 × 6\n",
       "\n",
       "| Chrom &lt;chr&gt; | ChromStart &lt;dbl&gt; | ChromEnd &lt;dbl&gt; | Region &lt;chr&gt; | Score &lt;dbl&gt; | Assay &lt;chr&gt; |\n",
       "|---|---|---|---|---|---|\n",
       "| chr11 | 4092109 | 4092511 | chr11:4092109-4092511 | -0.4446170 | CRISPRi-HCR FlowFISH |\n",
       "| chr11 | 4094223 | 4095304 | chr11:4094223-4095304 | -0.2302549 | CRISPRi-HCR FlowFISH |\n",
       "| chr11 | 4144721 | 4147004 | chr11:4144721-4147004 | -0.2878661 | CRISPRi-HCR FlowFISH |\n",
       "\n"
      ],
      "text/plain": [
       "  Chrom ChromStart ChromEnd Region                Score     \n",
       "1 chr11 4092109    4092511  chr11:4092109-4092511 -0.4446170\n",
       "2 chr11 4094223    4095304  chr11:4094223-4095304 -0.2302549\n",
       "3 chr11 4144721    4147004  chr11:4144721-4147004 -0.2878661\n",
       "  Assay               \n",
       "1 CRISPRi-HCR FlowFISH\n",
       "2 CRISPRi-HCR FlowFISH\n",
       "3 CRISPRi-HCR FlowFISH"
      ]
     },
     "metadata": {},
     "output_type": "display_data"
    }
   ],
   "source": [
    "vec_txt_assay_name = c(\n",
    "    \"CRISPRi_FlowFISH_K562_Riley_JinWoo\",\n",
    "    \"CRISPRi_Growth_K562_Gersbach_JinWoo\", \n",
    "    \"MPRA_Lenti_K562_Nadav_Vikram\", \n",
    "    \"MPRA_Tiling_K562_Tewhey_Hannah\", \n",
    "    \"STARR_ATAC_K562_Reddy_KS91\", \n",
    "    \"STARR_WHG_K562_Reddy_A001\"\n",
    ")\n",
    "\n",
    "vec_txt_assay_type = c(\n",
    "    \"CRISPRi-HCRFF\",\n",
    "    \"CRISPRi-Growth\", \n",
    "    \"LMPRA\", \n",
    "    \"TMPRA\", \n",
    "    \"ASTARR\", \n",
    "    \"WSTARR\"\n",
    ")\n",
    "\n",
    "lst = lst_dat_score_total\n",
    "lst = lapply(lst, function(dat){\n",
    "    dat = dat %>% \n",
    "        dplyr::filter(Assay_Name %in% vec_txt_assay_name) %>% \n",
    "        dplyr::filter(Assay_Type %in% vec_txt_assay_type) %>% \n",
    "        dplyr::mutate(Assay = Assay_Label) %>%\n",
    "        dplyr::select(Chrom, ChromStart, ChromEnd, Region, Score, Assay)\n",
    "    return(dat)\n",
    "})\n",
    "\n",
    "lst_dat_score_share = lst\n",
    "\n",
    "res = lapply(lst, dim)\n",
    "print(res)\n",
    "\n",
    "dat = lst[[1]]\n",
    "head(dat, 3)"
   ]
  },
  {
   "cell_type": "markdown",
   "id": "88f28220-f792-42e1-bb2d-ecfbfc5dcc73",
   "metadata": {},
   "source": [
    "**Explore**"
   ]
  },
  {
   "cell_type": "code",
   "execution_count": 13,
   "id": "1d9d7e58-3f71-4f09-b784-723afa1289e6",
   "metadata": {},
   "outputs": [
    {
     "data": {
      "text/html": [
       "<table class=\"dataframe\">\n",
       "<caption>A data.frame: 2 × 7</caption>\n",
       "<thead>\n",
       "\t<tr><th scope=col>Region</th><th scope=col>ATAC-STARR</th><th scope=col>CRISPRi-Growth</th><th scope=col>CRISPRi-HCR FlowFISH</th><th scope=col>Lenti-MPRA</th><th scope=col>Tiling-MPRA</th><th scope=col>WHG-STARR</th></tr>\n",
       "\t<tr><th scope=col>&lt;chr&gt;</th><th scope=col>&lt;int&gt;</th><th scope=col>&lt;int&gt;</th><th scope=col>&lt;int&gt;</th><th scope=col>&lt;int&gt;</th><th scope=col>&lt;int&gt;</th><th scope=col>&lt;int&gt;</th></tr>\n",
       "</thead>\n",
       "<tbody>\n",
       "\t<tr><td>fcc_astarr_macs_input_overlap</td><td>150040</td><td>72743</td><td> 925</td><td>61478</td><td>1148</td><td>146594</td></tr>\n",
       "\t<tr><td>fcc_astarr_macs_input_union  </td><td>246850</td><td>80288</td><td>1330</td><td>68497</td><td>1722</td><td>241031</td></tr>\n",
       "</tbody>\n",
       "</table>\n"
      ],
      "text/latex": [
       "A data.frame: 2 × 7\n",
       "\\begin{tabular}{lllllll}\n",
       " Region & ATAC-STARR & CRISPRi-Growth & CRISPRi-HCR FlowFISH & Lenti-MPRA & Tiling-MPRA & WHG-STARR\\\\\n",
       " <chr> & <int> & <int> & <int> & <int> & <int> & <int>\\\\\n",
       "\\hline\n",
       "\t fcc\\_astarr\\_macs\\_input\\_overlap & 150040 & 72743 &  925 & 61478 & 1148 & 146594\\\\\n",
       "\t fcc\\_astarr\\_macs\\_input\\_union   & 246850 & 80288 & 1330 & 68497 & 1722 & 241031\\\\\n",
       "\\end{tabular}\n"
      ],
      "text/markdown": [
       "\n",
       "A data.frame: 2 × 7\n",
       "\n",
       "| Region &lt;chr&gt; | ATAC-STARR &lt;int&gt; | CRISPRi-Growth &lt;int&gt; | CRISPRi-HCR FlowFISH &lt;int&gt; | Lenti-MPRA &lt;int&gt; | Tiling-MPRA &lt;int&gt; | WHG-STARR &lt;int&gt; |\n",
       "|---|---|---|---|---|---|---|\n",
       "| fcc_astarr_macs_input_overlap | 150040 | 72743 |  925 | 61478 | 1148 | 146594 |\n",
       "| fcc_astarr_macs_input_union   | 246850 | 80288 | 1330 | 68497 | 1722 | 241031 |\n",
       "\n"
      ],
      "text/plain": [
       "  Region                        ATAC-STARR CRISPRi-Growth CRISPRi-HCR FlowFISH\n",
       "1 fcc_astarr_macs_input_overlap 150040     72743           925                \n",
       "2 fcc_astarr_macs_input_union   246850     80288          1330                \n",
       "  Lenti-MPRA Tiling-MPRA WHG-STARR\n",
       "1 61478      1148        146594   \n",
       "2 68497      1722        241031   "
      ]
     },
     "metadata": {},
     "output_type": "display_data"
    }
   ],
   "source": [
    "lst = lst_dat_score_share\n",
    "lst = lapply(lst, function(dat){\n",
    "    res = table(dat$Assay, dnn = c(\"Assay\"))\n",
    "    dat = as.data.frame(res)\n",
    "    return(dat)\n",
    "})\n",
    "\n",
    "dat = bind_rows(lst, .id = \"Region\")\n",
    "dat = dat %>% tidyr::spread(Assay, Freq)\n",
    "dat"
   ]
  },
  {
   "cell_type": "code",
   "execution_count": 14,
   "id": "7d353d01-afa7-44b9-9c55-b9740bd53748",
   "metadata": {},
   "outputs": [
    {
     "data": {
      "text/html": [
       "<table class=\"dataframe\">\n",
       "<caption>A data.frame: 2 × 7</caption>\n",
       "<thead>\n",
       "\t<tr><th scope=col>Region</th><th scope=col>ATAC-STARR</th><th scope=col>CRISPRi-Growth</th><th scope=col>CRISPRi-HCR FlowFISH</th><th scope=col>Lenti-MPRA</th><th scope=col>Tiling-MPRA</th><th scope=col>WHG-STARR</th></tr>\n",
       "\t<tr><th scope=col>&lt;chr&gt;</th><th scope=col>&lt;int&gt;</th><th scope=col>&lt;int&gt;</th><th scope=col>&lt;int&gt;</th><th scope=col>&lt;int&gt;</th><th scope=col>&lt;int&gt;</th><th scope=col>&lt;int&gt;</th></tr>\n",
       "</thead>\n",
       "<tbody>\n",
       "\t<tr><td>fcc_astarr_macs_input_overlap</td><td>150040</td><td>72743</td><td> 925</td><td>61478</td><td> 823</td><td>146594</td></tr>\n",
       "\t<tr><td>fcc_astarr_macs_input_union  </td><td>246850</td><td>80288</td><td>1330</td><td>68497</td><td>1306</td><td>241031</td></tr>\n",
       "</tbody>\n",
       "</table>\n"
      ],
      "text/latex": [
       "A data.frame: 2 × 7\n",
       "\\begin{tabular}{lllllll}\n",
       " Region & ATAC-STARR & CRISPRi-Growth & CRISPRi-HCR FlowFISH & Lenti-MPRA & Tiling-MPRA & WHG-STARR\\\\\n",
       " <chr> & <int> & <int> & <int> & <int> & <int> & <int>\\\\\n",
       "\\hline\n",
       "\t fcc\\_astarr\\_macs\\_input\\_overlap & 150040 & 72743 &  925 & 61478 &  823 & 146594\\\\\n",
       "\t fcc\\_astarr\\_macs\\_input\\_union   & 246850 & 80288 & 1330 & 68497 & 1306 & 241031\\\\\n",
       "\\end{tabular}\n"
      ],
      "text/markdown": [
       "\n",
       "A data.frame: 2 × 7\n",
       "\n",
       "| Region &lt;chr&gt; | ATAC-STARR &lt;int&gt; | CRISPRi-Growth &lt;int&gt; | CRISPRi-HCR FlowFISH &lt;int&gt; | Lenti-MPRA &lt;int&gt; | Tiling-MPRA &lt;int&gt; | WHG-STARR &lt;int&gt; |\n",
       "|---|---|---|---|---|---|---|\n",
       "| fcc_astarr_macs_input_overlap | 150040 | 72743 |  925 | 61478 |  823 | 146594 |\n",
       "| fcc_astarr_macs_input_union   | 246850 | 80288 | 1330 | 68497 | 1306 | 241031 |\n",
       "\n"
      ],
      "text/plain": [
       "  Region                        ATAC-STARR CRISPRi-Growth CRISPRi-HCR FlowFISH\n",
       "1 fcc_astarr_macs_input_overlap 150040     72743           925                \n",
       "2 fcc_astarr_macs_input_union   246850     80288          1330                \n",
       "  Lenti-MPRA Tiling-MPRA WHG-STARR\n",
       "1 61478       823        146594   \n",
       "2 68497      1306        241031   "
      ]
     },
     "metadata": {},
     "output_type": "display_data"
    }
   ],
   "source": [
    "lst = lst_dat_score_share\n",
    "lst = lapply(lst, function(dat){\n",
    "    res = table(dat$Assay, dnn = c(\"Assay\"))\n",
    "    dat = as.data.frame(res)\n",
    "    return(dat)\n",
    "})\n",
    "\n",
    "dat = bind_rows(lst, .id = \"Region\")\n",
    "dat = dat %>% tidyr::spread(Assay, Freq)\n",
    "dat"
   ]
  },
  {
   "cell_type": "code",
   "execution_count": null,
   "id": "0eb26863-bc0e-4f7c-9108-5ddbd77367de",
   "metadata": {},
   "outputs": [],
   "source": []
  },
  {
   "cell_type": "code",
   "execution_count": null,
   "id": "fc3188c0-78a0-427d-8866-cdda3211080e",
   "metadata": {},
   "outputs": [],
   "source": []
  },
  {
   "cell_type": "code",
   "execution_count": null,
   "id": "a3b0a14b-f5a7-4788-a262-fca5093fcb08",
   "metadata": {},
   "outputs": [],
   "source": []
  },
  {
   "cell_type": "code",
   "execution_count": 14,
   "id": "9ab585b0-adb2-4466-8bc9-f572cb30c2a4",
   "metadata": {},
   "outputs": [],
   "source": [
    "lst = lapply(VEC_TXT_REGION, function(txt_region){\n",
    "    ### get tables\n",
    "    dat_score_total = lst_dat_score_total[[txt_region]]\n",
    "    dat_score_final = lst_dat_score_final[[txt_region]]\n",
    "    \n",
    "    ### set file directory\n",
    "    txt_fdiry  = file.path(\n",
    "        FD_RES, \n",
    "        \"region_coverage_fcc\", \n",
    "        txt_region, \n",
    "        \"summary\"\n",
    "    )\n",
    "    \n",
    "    ###\n",
    "    txt_fname = \"result.coverage.score.total.tsv\"\n",
    "    txt_fpath = file.path(txt_fdiry, txt_fname)\n",
    "    dat = dat_score_total\n",
    "    write_tsv(dat, txt_fpath)\n",
    "    \n",
    "    ###\n",
    "    txt_fname = \"result.coverage.score.final.tsv\"\n",
    "    txt_fpath = file.path(txt_fdiry, txt_fname)\n",
    "    dat = dat_score_final\n",
    "    write_tsv(dat, txt_fpath)\n",
    "    \n",
    "    return(dat)\n",
    "})"
   ]
  },
  {
   "cell_type": "markdown",
   "id": "794b7e04-ef90-43df-abb5-4ab54e6c471e",
   "metadata": {},
   "source": [
    "**Save a copy to reference folder**"
   ]
  },
  {
   "cell_type": "code",
   "execution_count": 15,
   "id": "5e786e60-079c-439a-b1c7-1eec4b4bf6ac",
   "metadata": {},
   "outputs": [],
   "source": [
    "txt_region = \"fcc_astarr_macs_input_overlap\"\n",
    "txt_fdiry  = file.path(\n",
    "    FD_RES, \n",
    "    \"region_coverage_fcc\", \n",
    "    txt_region, \n",
    "    \"summary\"\n",
    ")\n",
    "txt_fname  = \"region.atac_overlap.coverage.fcc.zscore.tsv\"\n",
    "txt_fname  = \"region.coverage.fcc.zscore.atac_overlap.tsv\"\n",
    "txt_fpath  = file.path(txt_fdiry, txt_fname)\n",
    "\n",
    "lst = lst_dat_score_share\n",
    "dat = lst[[txt_region]]\n",
    "#write_tsv(dat, txt_fpath)"
   ]
  },
  {
   "cell_type": "code",
   "execution_count": 16,
   "id": "e1cc9069-6420-4d35-bfb4-decf9a9723c0",
   "metadata": {},
   "outputs": [],
   "source": [
    "txt_region = \"fcc_astarr_macs_input_union\"\n",
    "txt_fdiry  = file.path(\n",
    "    FD_RES, \n",
    "    \"region_coverage_fcc\", \n",
    "    txt_region, \n",
    "    \"summary\"\n",
    ")\n",
    "txt_fname  = \"region.atac_union.coverage.fcc.zscore.tsv\"\n",
    "txt_fname  = \"region.coverage.fcc.zscore.atac_union.tsv\"\n",
    "txt_fpath  = file.path(txt_fdiry, txt_fname)\n",
    "\n",
    "lst = lst_dat_score_share\n",
    "dat = lst[[txt_region]]\n",
    "#write_tsv(dat, txt_fpath)"
   ]
  },
  {
   "cell_type": "code",
   "execution_count": null,
   "id": "4547f9bb-3e67-49f8-91eb-1e1e038f03ec",
   "metadata": {},
   "outputs": [],
   "source": []
  }
 ],
 "metadata": {
  "kernelspec": {
   "display_name": "R",
   "language": "R",
   "name": "ir"
  },
  "language_info": {
   "codemirror_mode": "r",
   "file_extension": ".r",
   "mimetype": "text/x-r-source",
   "name": "R",
   "pygments_lexer": "r",
   "version": "4.4.2"
  }
 },
 "nbformat": 4,
 "nbformat_minor": 5
}
