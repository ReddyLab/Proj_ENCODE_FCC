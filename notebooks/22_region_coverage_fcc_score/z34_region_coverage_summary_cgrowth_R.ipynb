{
 "cells": [
  {
   "cell_type": "raw",
   "id": "808fb1d2-9b24-4935-81d6-b1dbc62b7b2f",
   "metadata": {},
   "source": [
    "---\n",
    "title: ...\n",
    "subtitle: ...\n",
    "format:\n",
    "    html:\n",
    "        code-fold:  true\n",
    "        code-tools: true\n",
    "---"
   ]
  },
  {
   "cell_type": "markdown",
   "id": "780e8dfd-6e95-45e5-8a2b-f37238c13bea",
   "metadata": {},
   "source": [
    "**Set environment**"
   ]
  },
  {
   "cell_type": "code",
   "execution_count": 1,
   "id": "000c7046-1469-4315-9d29-579f71156c2d",
   "metadata": {},
   "outputs": [
    {
     "name": "stdout",
     "output_type": "stream",
     "text": [
      "You are working on        Singularity: singularity_proj_encode_fcc \n",
      "BASE DIRECTORY (FD_BASE): /data/reddylab/Kuei \n",
      "REPO DIRECTORY (FD_REPO): /data/reddylab/Kuei/repo \n",
      "WORK DIRECTORY (FD_WORK): /data/reddylab/Kuei/work \n",
      "DATA DIRECTORY (FD_DATA): /data/reddylab/Kuei/data \n",
      "\n",
      "You are working with      ENCODE FCC \n",
      "PATH OF PROJECT (FD_PRJ): /data/reddylab/Kuei/repo/Proj_ENCODE_FCC \n",
      "PROJECT RESULTS (FD_RES): /data/reddylab/Kuei/repo/Proj_ENCODE_FCC/results \n",
      "PROJECT SCRIPTS (FD_EXE): /data/reddylab/Kuei/repo/Proj_ENCODE_FCC/scripts \n",
      "PROJECT DATA    (FD_DAT): /data/reddylab/Kuei/repo/Proj_ENCODE_FCC/data \n",
      "PROJECT NOTE    (FD_NBK): /data/reddylab/Kuei/repo/Proj_ENCODE_FCC/notebooks \n",
      "PROJECT DOCS    (FD_DOC): /data/reddylab/Kuei/repo/Proj_ENCODE_FCC/docs \n",
      "PROJECT LOG     (FD_LOG): /data/reddylab/Kuei/repo/Proj_ENCODE_FCC/log \n",
      "PROJECT REF     (FD_REF): /data/reddylab/Kuei/repo/Proj_ENCODE_FCC/references \n",
      "\n"
     ]
    }
   ],
   "source": [
    "suppressMessages(suppressWarnings(source(\"../run_config_project_sing.R\")))\n",
    "show_env()"
   ]
  },
  {
   "cell_type": "markdown",
   "id": "eab004b3-9f65-4758-aa42-c22253039e6c",
   "metadata": {},
   "source": [
    "**Set global variables**"
   ]
  },
  {
   "cell_type": "code",
   "execution_count": 2,
   "id": "862dd854-a2cd-47d1-adf2-4bb047d36b74",
   "metadata": {},
   "outputs": [
    {
     "name": "stdout",
     "output_type": "stream",
     "text": [
      "atac_ENCFF333TAT \n",
      "atac_ENCFF558BLC \n",
      "atac_ENCFF925CYR \n",
      "atac_ENCFF948AFM \n",
      "dnase_ENCFF185XRG \n",
      "dnase_ENCFF274YGF \n",
      "fcc_astarr_macs_input_overlap \n",
      "fcc_astarr_macs_input_union \n"
     ]
    }
   ],
   "source": [
    "txt_fdiry = file.path(FD_RES, \"region_coverage_fcc\")\n",
    "vec = dir(txt_fdiry)\n",
    "for (txt in vec) {cat(txt, \"\\n\")}"
   ]
  },
  {
   "cell_type": "code",
   "execution_count": 3,
   "id": "659469fd-1fb0-42c2-8cf9-6fc2303e7f79",
   "metadata": {},
   "outputs": [
    {
     "name": "stdout",
     "output_type": "stream",
     "text": [
      "CRISPRi_FlowFISH_K562_Riley_JinWoo \n",
      "CRISPRi_Growth_K562_Gersbach_JinWoo \n",
      "MPRA_Lenti_K562_Nadav_Vikram \n",
      "MPRA_Tiling_K562_Tewhey_Hannah \n",
      "STARR_ATAC_K562_Reddy_KS274 \n",
      "STARR_ATAC_K562_Reddy_KS91 \n",
      "STARR_ATAC_K562_Reddy_KSMerge \n",
      "STARR_WHG_K562_Reddy_A001 \n"
     ]
    }
   ],
   "source": [
    "txt_region = \"fcc_astarr_macs_input_union\"\n",
    "txt_fdiry  = file.path(FD_RES, \"region_coverage_fcc\", txt_region)\n",
    "vec = dir(txt_fdiry)\n",
    "for (txt in vec) {cat(txt, \"\\n\")}"
   ]
  },
  {
   "cell_type": "code",
   "execution_count": 4,
   "id": "d721e887-64d6-469e-9d09-3c679b4d73c0",
   "metadata": {},
   "outputs": [
    {
     "name": "stdout",
     "output_type": "stream",
     "text": [
      "fcc_astarr_macs_input_overlap \n",
      "fcc_astarr_macs_input_union \n"
     ]
    }
   ],
   "source": [
    "#txt_fdiry = file.path(FD_RES, \"region_coverage_fcc\")\n",
    "#vec = dir(txt_fdiry)\n",
    "vec = c(\"fcc_astarr_macs_input_overlap\", \"fcc_astarr_macs_input_union\")\n",
    "names(vec) = vec\n",
    "\n",
    "VEC_TXT_REGION = vec\n",
    "for (txt in vec) {cat(txt, \"\\n\")}"
   ]
  },
  {
   "cell_type": "markdown",
   "id": "4de057c0-451b-4da9-a4cb-528b922fcbab",
   "metadata": {},
   "source": [
    "```\n",
    "vec_txt_assay = c(\n",
    "    \"CRISPRi_FlowFISH_K562_Riley_JinWoo\",\n",
    "    \"CRISPRi_Growth_K562_Gersbach_JinWoo\",\n",
    "    \"MPRA_Lenti_K562_Nadav_Vikram\"\n",
    ")\n",
    "```"
   ]
  },
  {
   "cell_type": "markdown",
   "id": "b44101b1-8a30-4a1b-b596-1f66876a2ed0",
   "metadata": {},
   "source": [
    "## Import region data"
   ]
  },
  {
   "cell_type": "markdown",
   "id": "07c229c7-c50f-483b-a9b6-9fa59aec8d1b",
   "metadata": {},
   "source": [
    "**Read region metadata table**"
   ]
  },
  {
   "cell_type": "code",
   "execution_count": 5,
   "id": "afe758de-8409-469f-95cc-2523314a8705",
   "metadata": {},
   "outputs": [
    {
     "data": {
      "text/html": [
       "<table>\n",
       " <thead>\n",
       "  <tr>\n",
       "   <th style=\"text-align:left;\"> Folder </th>\n",
       "   <th style=\"text-align:left;\"> FName </th>\n",
       "   <th style=\"text-align:left;\"> Label </th>\n",
       "   <th style=\"text-align:left;\"> FPath </th>\n",
       "  </tr>\n",
       " </thead>\n",
       "<tbody>\n",
       "  <tr>\n",
       "   <td style=\"text-align:left;\"> region_for_analysis </td>\n",
       "   <td style=\"text-align:left;\"> K562.hg38.ASTARR.macs.KS91.input.rep_all.max_overlaps.q5.bed.gz </td>\n",
       "   <td style=\"text-align:left;\"> fcc_astarr_macs_input_overlap </td>\n",
       "   <td style=\"text-align:left;\"> /data/reddylab/Kuei/repo/Proj_ENCODE_FCC/results/region/region_for_analysis/K562.hg38.ASTARR.macs.KS91.input.rep_all.max_overlaps.q5.bed.gz </td>\n",
       "  </tr>\n",
       "  <tr>\n",
       "   <td style=\"text-align:left;\"> region_for_analysis </td>\n",
       "   <td style=\"text-align:left;\"> K562.hg38.ASTARR.macs.KS91.input.rep_all.union.q5.bed.gz </td>\n",
       "   <td style=\"text-align:left;\"> fcc_astarr_macs_input_union </td>\n",
       "   <td style=\"text-align:left;\"> /data/reddylab/Kuei/repo/Proj_ENCODE_FCC/results/region/region_for_analysis/K562.hg38.ASTARR.macs.KS91.input.rep_all.union.q5.bed.gz </td>\n",
       "  </tr>\n",
       "  <tr>\n",
       "   <td style=\"text-align:left;\"> region_for_analysis </td>\n",
       "   <td style=\"text-align:left;\"> K562.hg38.ENCSR000EKS.ENCFF274YGF.DNase.bed.gz </td>\n",
       "   <td style=\"text-align:left;\"> dnase_ENCFF274YGF </td>\n",
       "   <td style=\"text-align:left;\"> /data/reddylab/Kuei/repo/Proj_ENCODE_FCC/results/region/region_for_analysis/K562.hg38.ENCSR000EKS.ENCFF274YGF.DNase.bed.gz </td>\n",
       "  </tr>\n",
       "  <tr>\n",
       "   <td style=\"text-align:left;\"> region_for_analysis </td>\n",
       "   <td style=\"text-align:left;\"> K562.hg38.ENCSR000EOT.ENCFF185XRG.DNase.bed.gz </td>\n",
       "   <td style=\"text-align:left;\"> dnase_ENCFF185XRG </td>\n",
       "   <td style=\"text-align:left;\"> /data/reddylab/Kuei/repo/Proj_ENCODE_FCC/results/region/region_for_analysis/K562.hg38.ENCSR000EOT.ENCFF185XRG.DNase.bed.gz </td>\n",
       "  </tr>\n",
       "  <tr>\n",
       "   <td style=\"text-align:left;\"> region_for_analysis </td>\n",
       "   <td style=\"text-align:left;\"> K562.hg38.ENCSR483RKN.ENCFF558BLC.ATAC.bed.gz </td>\n",
       "   <td style=\"text-align:left;\"> atac_ENCFF558BLC </td>\n",
       "   <td style=\"text-align:left;\"> /data/reddylab/Kuei/repo/Proj_ENCODE_FCC/results/region/region_for_analysis/K562.hg38.ENCSR483RKN.ENCFF558BLC.ATAC.bed.gz </td>\n",
       "  </tr>\n",
       "  <tr>\n",
       "   <td style=\"text-align:left;\"> region_for_analysis </td>\n",
       "   <td style=\"text-align:left;\"> K562.hg38.ENCSR483RKN.ENCFF925CYR.ATAC.bed.gz </td>\n",
       "   <td style=\"text-align:left;\"> atac_ENCFF925CYR </td>\n",
       "   <td style=\"text-align:left;\"> /data/reddylab/Kuei/repo/Proj_ENCODE_FCC/results/region/region_for_analysis/K562.hg38.ENCSR483RKN.ENCFF925CYR.ATAC.bed.gz </td>\n",
       "  </tr>\n",
       "  <tr>\n",
       "   <td style=\"text-align:left;\"> region_for_analysis </td>\n",
       "   <td style=\"text-align:left;\"> K562.hg38.ENCSR868FGK.ENCFF333TAT.ATAC.bed.gz </td>\n",
       "   <td style=\"text-align:left;\"> atac_ENCFF333TAT </td>\n",
       "   <td style=\"text-align:left;\"> /data/reddylab/Kuei/repo/Proj_ENCODE_FCC/results/region/region_for_analysis/K562.hg38.ENCSR868FGK.ENCFF333TAT.ATAC.bed.gz </td>\n",
       "  </tr>\n",
       "  <tr>\n",
       "   <td style=\"text-align:left;\"> region_for_analysis </td>\n",
       "   <td style=\"text-align:left;\"> K562.hg38.ENCSR868FGK.ENCFF948AFM.ATAC.bed.gz </td>\n",
       "   <td style=\"text-align:left;\"> atac_ENCFF948AFM </td>\n",
       "   <td style=\"text-align:left;\"> /data/reddylab/Kuei/repo/Proj_ENCODE_FCC/results/region/region_for_analysis/K562.hg38.ENCSR868FGK.ENCFF948AFM.ATAC.bed.gz </td>\n",
       "  </tr>\n",
       "</tbody>\n",
       "</table>"
      ]
     },
     "metadata": {},
     "output_type": "display_data"
    }
   ],
   "source": [
    "### set directory\n",
    "txt_fdiry = file.path(FD_RES, \"region\", \"summary\")\n",
    "txt_fname = \"metadata.label.region_for_analysis.tsv\"\n",
    "txt_fpath = file.path(txt_fdiry, txt_fname)\n",
    "\n",
    "### read table\n",
    "dat = read_tsv(txt_fpath, show_col_types = FALSE)\n",
    "\n",
    "### assign and show\n",
    "dat_meta_region = dat\n",
    "fun_display_table(dat)"
   ]
  },
  {
   "cell_type": "markdown",
   "id": "1628d701-90cd-4486-90f0-d8ee2ab1c48b",
   "metadata": {},
   "source": [
    "**Create region list for looping**"
   ]
  },
  {
   "cell_type": "code",
   "execution_count": 6,
   "id": "1af9cf8d-0ede-4dbd-8579-5038a4de3b49",
   "metadata": {},
   "outputs": [
    {
     "name": "stdout",
     "output_type": "stream",
     "text": [
      "$atac_ENCFF333TAT\n",
      "[1] \"region_for_analysis\"\n",
      "\n",
      "$atac_ENCFF558BLC\n",
      "[1] \"region_for_analysis\"\n",
      "\n",
      "$atac_ENCFF925CYR\n",
      "[1] \"region_for_analysis\"\n",
      "\n",
      "$atac_ENCFF948AFM\n",
      "[1] \"region_for_analysis\"\n",
      "\n",
      "$dnase_ENCFF185XRG\n",
      "[1] \"region_for_analysis\"\n",
      "\n",
      "$dnase_ENCFF274YGF\n",
      "[1] \"region_for_analysis\"\n",
      "\n",
      "$fcc_astarr_macs_input_overlap\n",
      "[1] \"region_for_analysis\"\n",
      "\n",
      "$fcc_astarr_macs_input_union\n",
      "[1] \"region_for_analysis\"\n",
      "\n"
     ]
    }
   ],
   "source": [
    "dat = dat_meta_region\n",
    "lst = split(dat$Folder, dat$Label)\n",
    "\n",
    "lst_txt_folder = lst\n",
    "print(lst)"
   ]
  },
  {
   "cell_type": "markdown",
   "id": "8b15a7e7-f06d-4fec-a0d6-2d3ccb3ec001",
   "metadata": {},
   "source": [
    "## Helper functions"
   ]
  },
  {
   "cell_type": "code",
   "execution_count": 7,
   "id": "1008ee00-7912-427b-bde0-651dc52785fb",
   "metadata": {},
   "outputs": [],
   "source": [
    "fun_get_absmax = function(x){ x[which.max(abs(x))] }"
   ]
  },
  {
   "cell_type": "markdown",
   "id": "faff21bd-c72c-49d1-91e0-4a6cb961f589",
   "metadata": {},
   "source": [
    "## CRISPRi-Growth"
   ]
  },
  {
   "cell_type": "code",
   "execution_count": 11,
   "id": "de9b7317-818d-4125-9efc-7fff4fdfb5db",
   "metadata": {},
   "outputs": [
    {
     "name": "stdout",
     "output_type": "stream",
     "text": [
      "====================\n",
      "Region Folder: fcc_astarr_macs_input_overlap \n",
      "Assay  Folder: CRISPRi_Growth_K562_Gersbach_JinWoo \n",
      "Import Files:\n",
      "[1] \"CRISPRi_Growth_K562.hg38.ZScore.unstranded.bed.gz\"\n",
      "\n",
      "Save Files:\n",
      "[1] \"/data/reddylab/Kuei/repo/Proj_ENCODE_FCC/results/region_coverage_fcc/fcc_astarr_macs_input_overlap/CRISPRi_Growth_K562_Gersbach_JinWoo/overlap_score/summary/result.coverage.score.tsv\"\n",
      "\n",
      "====================\n",
      "Region Folder: fcc_astarr_macs_input_union \n",
      "Assay  Folder: CRISPRi_Growth_K562_Gersbach_JinWoo \n",
      "Import Files:\n",
      "[1] \"CRISPRi_Growth_K562.hg38.ZScore.unstranded.bed.gz\"\n",
      "\n",
      "Save Files:\n",
      "[1] \"/data/reddylab/Kuei/repo/Proj_ENCODE_FCC/results/region_coverage_fcc/fcc_astarr_macs_input_union/CRISPRi_Growth_K562_Gersbach_JinWoo/overlap_score/summary/result.coverage.score.tsv\"\n",
      "\n"
     ]
    }
   ],
   "source": [
    "### init\n",
    "txt_assay = \"CRISPRi_Growth_K562_Gersbach_JinWoo\"\n",
    "txt_fname_import = \"CRISPRi_Growth_K562.hg38.ZScore.unstranded.bed.gz\"\n",
    "\n",
    "for (txt_region in VEC_TXT_REGION){\n",
    "    ### init:\n",
    "    txt_fdiry     = file.path(FD_RES, \"region_coverage_fcc\", txt_region, txt_assay, \"overlap_score\")\n",
    "    vec_txt_fname = dir(txt_fdiry)\n",
    "    \n",
    "    ### show progress:\n",
    "    cat(\"====================\\n\")\n",
    "    cat(\"Region Folder:\", txt_region, \"\\n\")\n",
    "    cat(\"Assay  Folder:\", txt_assay,  \"\\n\")\n",
    "    cat(\"Import Files:\\n\")\n",
    "    print(txt_fname_import)\n",
    "    cat(\"\\n\")\n",
    "    flush.console()\n",
    "    \n",
    "    ### set directory and import assay description\n",
    "    txt_fdiry = file.path(FD_RES, \"assay_fcc\", txt_assay, \"coverage\", \"summary\")\n",
    "    txt_fname = \"description.tsv\"\n",
    "    txt_fpath = file.path(txt_fdiry, txt_fname)\n",
    "\n",
    "    dat_cname_assay = read_tsv(txt_fpath, show_col_types = FALSE)\n",
    "\n",
    "    ### set directory and import region description\n",
    "    txt_folder = lst_txt_folder[[txt_region]]\n",
    "    txt_fdiry  = file.path(FD_RES, \"region\", txt_folder, \"summary\")\n",
    "    txt_fname  = \"description.tsv\"\n",
    "    txt_fpath  = file.path(txt_fdiry, txt_fname)\n",
    "    \n",
    "    dat_cname_region = read_tsv(txt_fpath, show_col_types = FALSE)\n",
    "\n",
    "    ### set column names/types for overlap score\n",
    "    vec_txt_cname = c(\n",
    "        paste(dat_cname_region$Name, \"A\", sep = \"_\"), \n",
    "        paste(dat_cname_assay$Name,  \"B\", sep = \"_\"), \n",
    "        \"Overlap\"\n",
    "    )\n",
    "\n",
    "    ### set directory and import region-assay overlap\n",
    "    txt_folder = \"overlap_score\"\n",
    "    txt_fdiry  = file.path(FD_RES, \"region_coverage_fcc\", txt_region, txt_assay, txt_folder)\n",
    "    txt_fname  = txt_fname_import\n",
    "    txt_fpath  = file.path(txt_fdiry, txt_fname)\n",
    "\n",
    "    dat_overlap_import = read_tsv(txt_fpath, col_names = vec_txt_cname, show_col_types = FALSE)\n",
    "    \n",
    "    ### arrange overlapped scores\n",
    "    dat = dat_overlap_import\n",
    "    dat = dat %>% \n",
    "        dplyr::mutate(\n",
    "            Chrom      = Chrom_A,\n",
    "            ChromStart = ChromStart_A,\n",
    "            ChromEnd   = ChromEnd_A,\n",
    "            Region     = fun_gen_region(Chrom_A, ChromStart_A, ChromEnd_A),\n",
    "            Score      = Score_B,\n",
    "            Sign       = ifelse(Score > 0, \"pos\", \"neg\")\n",
    "        )\n",
    "    dat_overlap_arrange = dat\n",
    "    \n",
    "    ### summarize scores for each region\n",
    "    dat = dat_overlap_arrange\n",
    "    dat = dat %>% \n",
    "        dplyr::group_by(Chrom, ChromStart, ChromEnd, Region) %>%\n",
    "        dplyr::summarise(\n",
    "            Mean    = mean(Score),\n",
    "            Median  = median(Score),\n",
    "            AbsMax  = fun_get_absmax(Score),\n",
    "            Max     = max(Score),\n",
    "            Min     = min(Score),\n",
    "            Count   = n(),\n",
    "            .groups = \"drop\"\n",
    "        )\n",
    "    dat_score_summary_total = dat\n",
    "\n",
    "    ### summarize scores for each region + sign\n",
    "    dat = dat_overlap_arrange\n",
    "    dat = dat %>%\n",
    "        dplyr::group_by(Region, Sign) %>%\n",
    "        dplyr::summarise(Mean = mean(Score), .groups = \"drop\") %>%\n",
    "        dplyr::mutate(Sign = dplyr::recode(Sign, `pos` = \"Mean_Pos\", `neg` = \"Mean_Neg\")) %>% \n",
    "        tidyr::spread(Sign, Mean) %>% \n",
    "        replace(is.na(.), 0)\n",
    "    dat_score_summary_sign = dat\n",
    "    \n",
    "    ### combine score summaries\n",
    "    dat = dplyr::left_join(\n",
    "        dat_score_summary_total,\n",
    "        dat_score_summary_sign,\n",
    "        by = c(\"Region\"))\n",
    "    dat_score_summary = dat\n",
    "    \n",
    "    ### set directory to save results\n",
    "    txt_folder = \"overlap_score\"\n",
    "    txt_fdiry  = file.path(FD_RES, \"region_coverage_fcc\", txt_region, txt_assay, txt_folder, \"summary\")\n",
    "    txt_fname = \"result.coverage.score.tsv\"\n",
    "    txt_fpath  = file.path(txt_fdiry, txt_fname)\n",
    "\n",
    "    ### export region scores\n",
    "    txt_cmd = paste(\"mkdir -p\", txt_fdiry)\n",
    "    system(txt_cmd)\n",
    "    dat = dat_score_summary\n",
    "    dat = dat %>% dplyr::arrange(Chrom, ChromStart, ChromEnd)\n",
    "    write_tsv(dat, txt_fpath)\n",
    "    \n",
    "    ### show progress:\n",
    "    cat(\"Save Files:\\n\")\n",
    "    print(txt_fpath)\n",
    "    cat(\"\\n\")\n",
    "    flush.console()\n",
    "}"
   ]
  },
  {
   "cell_type": "code",
   "execution_count": 9,
   "id": "0a967e8d-20ec-4d4a-ba40-e0683067ec87",
   "metadata": {},
   "outputs": [
    {
     "data": {
      "text/html": [
       "<table class=\"dataframe\">\n",
       "<caption>A tibble: 6 × 11</caption>\n",
       "<thead>\n",
       "\t<tr><th scope=col>Chrom_A</th><th scope=col>ChromStart_A</th><th scope=col>ChromEnd_A</th><th scope=col>Region_A</th><th scope=col>Chrom_B</th><th scope=col>ChromStart_B</th><th scope=col>ChromEnd_B</th><th scope=col>Name_B</th><th scope=col>Score_B</th><th scope=col>Strand_B</th><th scope=col>Overlap</th></tr>\n",
       "\t<tr><th scope=col>&lt;chr&gt;</th><th scope=col>&lt;dbl&gt;</th><th scope=col>&lt;dbl&gt;</th><th scope=col>&lt;chr&gt;</th><th scope=col>&lt;chr&gt;</th><th scope=col>&lt;dbl&gt;</th><th scope=col>&lt;dbl&gt;</th><th scope=col>&lt;chr&gt;</th><th scope=col>&lt;dbl&gt;</th><th scope=col>&lt;chr&gt;</th><th scope=col>&lt;dbl&gt;</th></tr>\n",
       "</thead>\n",
       "<tbody>\n",
       "\t<tr><td>chr1</td><td>605090</td><td>605823</td><td>chr1:605090-605823</td><td>chr1</td><td>605580</td><td>605581</td><td>id-1</td><td>-0.180660</td><td>.</td><td>1</td></tr>\n",
       "\t<tr><td>chr1</td><td>605090</td><td>605823</td><td>chr1:605090-605823</td><td>chr1</td><td>605581</td><td>605582</td><td>id-2</td><td> 0.486646</td><td>.</td><td>1</td></tr>\n",
       "\t<tr><td>chr1</td><td>605090</td><td>605823</td><td>chr1:605090-605823</td><td>chr1</td><td>605589</td><td>605590</td><td>id-3</td><td> 3.171240</td><td>.</td><td>1</td></tr>\n",
       "\t<tr><td>chr1</td><td>605090</td><td>605823</td><td>chr1:605090-605823</td><td>chr1</td><td>605591</td><td>605592</td><td>id-4</td><td>-0.364573</td><td>.</td><td>1</td></tr>\n",
       "\t<tr><td>chr1</td><td>605090</td><td>605823</td><td>chr1:605090-605823</td><td>chr1</td><td>605592</td><td>605593</td><td>id-5</td><td>-0.206319</td><td>.</td><td>1</td></tr>\n",
       "\t<tr><td>chr1</td><td>605090</td><td>605823</td><td>chr1:605090-605823</td><td>chr1</td><td>605609</td><td>605610</td><td>id-6</td><td>-0.266750</td><td>.</td><td>1</td></tr>\n",
       "</tbody>\n",
       "</table>\n"
      ],
      "text/latex": [
       "A tibble: 6 × 11\n",
       "\\begin{tabular}{lllllllllll}\n",
       " Chrom\\_A & ChromStart\\_A & ChromEnd\\_A & Region\\_A & Chrom\\_B & ChromStart\\_B & ChromEnd\\_B & Name\\_B & Score\\_B & Strand\\_B & Overlap\\\\\n",
       " <chr> & <dbl> & <dbl> & <chr> & <chr> & <dbl> & <dbl> & <chr> & <dbl> & <chr> & <dbl>\\\\\n",
       "\\hline\n",
       "\t chr1 & 605090 & 605823 & chr1:605090-605823 & chr1 & 605580 & 605581 & id-1 & -0.180660 & . & 1\\\\\n",
       "\t chr1 & 605090 & 605823 & chr1:605090-605823 & chr1 & 605581 & 605582 & id-2 &  0.486646 & . & 1\\\\\n",
       "\t chr1 & 605090 & 605823 & chr1:605090-605823 & chr1 & 605589 & 605590 & id-3 &  3.171240 & . & 1\\\\\n",
       "\t chr1 & 605090 & 605823 & chr1:605090-605823 & chr1 & 605591 & 605592 & id-4 & -0.364573 & . & 1\\\\\n",
       "\t chr1 & 605090 & 605823 & chr1:605090-605823 & chr1 & 605592 & 605593 & id-5 & -0.206319 & . & 1\\\\\n",
       "\t chr1 & 605090 & 605823 & chr1:605090-605823 & chr1 & 605609 & 605610 & id-6 & -0.266750 & . & 1\\\\\n",
       "\\end{tabular}\n"
      ],
      "text/markdown": [
       "\n",
       "A tibble: 6 × 11\n",
       "\n",
       "| Chrom_A &lt;chr&gt; | ChromStart_A &lt;dbl&gt; | ChromEnd_A &lt;dbl&gt; | Region_A &lt;chr&gt; | Chrom_B &lt;chr&gt; | ChromStart_B &lt;dbl&gt; | ChromEnd_B &lt;dbl&gt; | Name_B &lt;chr&gt; | Score_B &lt;dbl&gt; | Strand_B &lt;chr&gt; | Overlap &lt;dbl&gt; |\n",
       "|---|---|---|---|---|---|---|---|---|---|---|\n",
       "| chr1 | 605090 | 605823 | chr1:605090-605823 | chr1 | 605580 | 605581 | id-1 | -0.180660 | . | 1 |\n",
       "| chr1 | 605090 | 605823 | chr1:605090-605823 | chr1 | 605581 | 605582 | id-2 |  0.486646 | . | 1 |\n",
       "| chr1 | 605090 | 605823 | chr1:605090-605823 | chr1 | 605589 | 605590 | id-3 |  3.171240 | . | 1 |\n",
       "| chr1 | 605090 | 605823 | chr1:605090-605823 | chr1 | 605591 | 605592 | id-4 | -0.364573 | . | 1 |\n",
       "| chr1 | 605090 | 605823 | chr1:605090-605823 | chr1 | 605592 | 605593 | id-5 | -0.206319 | . | 1 |\n",
       "| chr1 | 605090 | 605823 | chr1:605090-605823 | chr1 | 605609 | 605610 | id-6 | -0.266750 | . | 1 |\n",
       "\n"
      ],
      "text/plain": [
       "  Chrom_A ChromStart_A ChromEnd_A Region_A           Chrom_B ChromStart_B\n",
       "1 chr1    605090       605823     chr1:605090-605823 chr1    605580      \n",
       "2 chr1    605090       605823     chr1:605090-605823 chr1    605581      \n",
       "3 chr1    605090       605823     chr1:605090-605823 chr1    605589      \n",
       "4 chr1    605090       605823     chr1:605090-605823 chr1    605591      \n",
       "5 chr1    605090       605823     chr1:605090-605823 chr1    605592      \n",
       "6 chr1    605090       605823     chr1:605090-605823 chr1    605609      \n",
       "  ChromEnd_B Name_B Score_B   Strand_B Overlap\n",
       "1 605581     id-1   -0.180660 .        1      \n",
       "2 605582     id-2    0.486646 .        1      \n",
       "3 605590     id-3    3.171240 .        1      \n",
       "4 605592     id-4   -0.364573 .        1      \n",
       "5 605593     id-5   -0.206319 .        1      \n",
       "6 605610     id-6   -0.266750 .        1      "
      ]
     },
     "metadata": {},
     "output_type": "display_data"
    }
   ],
   "source": [
    "dat = dat_overlap_import\n",
    "head(dat)"
   ]
  },
  {
   "cell_type": "code",
   "execution_count": 10,
   "id": "8321ade2-7aee-4998-b593-59e64f0d51f0",
   "metadata": {},
   "outputs": [
    {
     "name": "stdout",
     "output_type": "stream",
     "text": [
      "\n",
      " chr1 chr10 chr11 chr12 chr13 chr14 chr15 chr16 chr17 chr18 chr19  chr2 chr20 \n",
      " 9044  3591  4474  3875  1095  2068  2720  3541  4314  1260  4394  5550  2543 \n",
      "chr21 chr22  chr3  chr4  chr5  chr6  chr7  chr8  chr9  chrX \n",
      " 1099  2016  4454  2772  3801  4671  4543  3186  3269  2008 \n"
     ]
    },
    {
     "data": {
      "text/html": [
       "<table>\n",
       " <thead>\n",
       "  <tr>\n",
       "   <th style=\"text-align:left;\"> Chrom </th>\n",
       "   <th style=\"text-align:right;\"> ChromStart </th>\n",
       "   <th style=\"text-align:right;\"> ChromEnd </th>\n",
       "   <th style=\"text-align:left;\"> Region </th>\n",
       "   <th style=\"text-align:right;\"> Mean </th>\n",
       "   <th style=\"text-align:right;\"> Median </th>\n",
       "   <th style=\"text-align:right;\"> AbsMax </th>\n",
       "   <th style=\"text-align:right;\"> Max </th>\n",
       "   <th style=\"text-align:right;\"> Min </th>\n",
       "   <th style=\"text-align:right;\"> Count </th>\n",
       "   <th style=\"text-align:right;\"> Mean_Neg </th>\n",
       "   <th style=\"text-align:right;\"> Mean_Pos </th>\n",
       "  </tr>\n",
       " </thead>\n",
       "<tbody>\n",
       "  <tr>\n",
       "   <td style=\"text-align:left;\"> chr1 </td>\n",
       "   <td style=\"text-align:right;\"> 605090 </td>\n",
       "   <td style=\"text-align:right;\"> 605823 </td>\n",
       "   <td style=\"text-align:left;\"> chr1:605090-605823 </td>\n",
       "   <td style=\"text-align:right;\"> 0.0904152 </td>\n",
       "   <td style=\"text-align:right;\"> -0.2365345 </td>\n",
       "   <td style=\"text-align:right;\"> 3.171240 </td>\n",
       "   <td style=\"text-align:right;\"> 3.171240 </td>\n",
       "   <td style=\"text-align:right;\"> -0.774100 </td>\n",
       "   <td style=\"text-align:right;\"> 10 </td>\n",
       "   <td style=\"text-align:right;\"> -0.3442168 </td>\n",
       "   <td style=\"text-align:right;\"> 1.8289430 </td>\n",
       "  </tr>\n",
       "  <tr>\n",
       "   <td style=\"text-align:left;\"> chr1 </td>\n",
       "   <td style=\"text-align:right;\"> 777949 </td>\n",
       "   <td style=\"text-align:right;\"> 779437 </td>\n",
       "   <td style=\"text-align:left;\"> chr1:777949-779437 </td>\n",
       "   <td style=\"text-align:right;\"> 0.1162065 </td>\n",
       "   <td style=\"text-align:right;\"> 0.0869985 </td>\n",
       "   <td style=\"text-align:right;\"> 0.666834 </td>\n",
       "   <td style=\"text-align:right;\"> 0.666834 </td>\n",
       "   <td style=\"text-align:right;\"> -0.405530 </td>\n",
       "   <td style=\"text-align:right;\"> 10 </td>\n",
       "   <td style=\"text-align:right;\"> -0.2424447 </td>\n",
       "   <td style=\"text-align:right;\"> 0.3553073 </td>\n",
       "  </tr>\n",
       "  <tr>\n",
       "   <td style=\"text-align:left;\"> chr1 </td>\n",
       "   <td style=\"text-align:right;\"> 816774 </td>\n",
       "   <td style=\"text-align:right;\"> 817547 </td>\n",
       "   <td style=\"text-align:left;\"> chr1:816774-817547 </td>\n",
       "   <td style=\"text-align:right;\"> -0.1820106 </td>\n",
       "   <td style=\"text-align:right;\"> -0.3681095 </td>\n",
       "   <td style=\"text-align:right;\"> 1.049030 </td>\n",
       "   <td style=\"text-align:right;\"> 1.049030 </td>\n",
       "   <td style=\"text-align:right;\"> -0.928019 </td>\n",
       "   <td style=\"text-align:right;\"> 8 </td>\n",
       "   <td style=\"text-align:right;\"> -0.5017798 </td>\n",
       "   <td style=\"text-align:right;\"> 0.7772970 </td>\n",
       "  </tr>\n",
       "  <tr>\n",
       "   <td style=\"text-align:left;\"> chr1 </td>\n",
       "   <td style=\"text-align:right;\"> 826754 </td>\n",
       "   <td style=\"text-align:right;\"> 828040 </td>\n",
       "   <td style=\"text-align:left;\"> chr1:826754-828040 </td>\n",
       "   <td style=\"text-align:right;\"> -0.1634086 </td>\n",
       "   <td style=\"text-align:right;\"> 0.0540820 </td>\n",
       "   <td style=\"text-align:right;\"> -1.109290 </td>\n",
       "   <td style=\"text-align:right;\"> 0.455815 </td>\n",
       "   <td style=\"text-align:right;\"> -1.109290 </td>\n",
       "   <td style=\"text-align:right;\"> 10 </td>\n",
       "   <td style=\"text-align:right;\"> -0.6708465 </td>\n",
       "   <td style=\"text-align:right;\"> 0.1748833 </td>\n",
       "  </tr>\n",
       "  <tr>\n",
       "   <td style=\"text-align:left;\"> chr1 </td>\n",
       "   <td style=\"text-align:right;\"> 842480 </td>\n",
       "   <td style=\"text-align:right;\"> 843449 </td>\n",
       "   <td style=\"text-align:left;\"> chr1:842480-843449 </td>\n",
       "   <td style=\"text-align:right;\"> -0.1534377 </td>\n",
       "   <td style=\"text-align:right;\"> -0.1342135 </td>\n",
       "   <td style=\"text-align:right;\"> -1.155270 </td>\n",
       "   <td style=\"text-align:right;\"> 0.595066 </td>\n",
       "   <td style=\"text-align:right;\"> -1.155270 </td>\n",
       "   <td style=\"text-align:right;\"> 10 </td>\n",
       "   <td style=\"text-align:right;\"> -0.3755820 </td>\n",
       "   <td style=\"text-align:right;\"> 0.3648990 </td>\n",
       "  </tr>\n",
       "  <tr>\n",
       "   <td style=\"text-align:left;\"> chr1 </td>\n",
       "   <td style=\"text-align:right;\"> 858023 </td>\n",
       "   <td style=\"text-align:right;\"> 859008 </td>\n",
       "   <td style=\"text-align:left;\"> chr1:858023-859008 </td>\n",
       "   <td style=\"text-align:right;\"> -0.1097497 </td>\n",
       "   <td style=\"text-align:right;\"> -0.0834595 </td>\n",
       "   <td style=\"text-align:right;\"> 1.046400 </td>\n",
       "   <td style=\"text-align:right;\"> 1.046400 </td>\n",
       "   <td style=\"text-align:right;\"> -0.673025 </td>\n",
       "   <td style=\"text-align:right;\"> 18 </td>\n",
       "   <td style=\"text-align:right;\"> -0.3147057 </td>\n",
       "   <td style=\"text-align:right;\"> 0.3001623 </td>\n",
       "  </tr>\n",
       "</tbody>\n",
       "</table>"
      ]
     },
     "metadata": {},
     "output_type": "display_data"
    }
   ],
   "source": [
    "dat = dat_score_summary\n",
    "print(table(dat$Chrom))\n",
    "fun_display_table(head(dat))"
   ]
  },
  {
   "cell_type": "code",
   "execution_count": null,
   "id": "0ffca3b6-6d1f-4bf0-8732-a44c6ad2a6b3",
   "metadata": {},
   "outputs": [],
   "source": []
  },
  {
   "cell_type": "code",
   "execution_count": null,
   "id": "78c3ced3-0d11-4581-9024-9917091212ad",
   "metadata": {},
   "outputs": [],
   "source": []
  },
  {
   "cell_type": "code",
   "execution_count": 18,
   "id": "a7ef6925-08f2-497e-8c42-708f995f34c5",
   "metadata": {},
   "outputs": [
    {
     "data": {
      "text/html": [
       "<table class=\"dataframe\">\n",
       "<caption>A tibble: 6 × 10</caption>\n",
       "<thead>\n",
       "\t<tr><th scope=col>Chrom_A</th><th scope=col>ChromStart_A</th><th scope=col>ChromEnd_A</th><th scope=col>Chrom_B</th><th scope=col>ChromStart_B</th><th scope=col>ChromEnd_B</th><th scope=col>Name_B</th><th scope=col>Score_B</th><th scope=col>Strand_B</th><th scope=col>Overlap</th></tr>\n",
       "\t<tr><th scope=col>&lt;chr&gt;</th><th scope=col>&lt;dbl&gt;</th><th scope=col>&lt;dbl&gt;</th><th scope=col>&lt;chr&gt;</th><th scope=col>&lt;dbl&gt;</th><th scope=col>&lt;dbl&gt;</th><th scope=col>&lt;chr&gt;</th><th scope=col>&lt;dbl&gt;</th><th scope=col>&lt;chr&gt;</th><th scope=col>&lt;dbl&gt;</th></tr>\n",
       "</thead>\n",
       "<tbody>\n",
       "\t<tr><td>chr1</td><td>605104</td><td>605675</td><td>chr1</td><td>605580</td><td>605581</td><td>id-1</td><td>-0.180660</td><td>.</td><td>1</td></tr>\n",
       "\t<tr><td>chr1</td><td>605104</td><td>605675</td><td>chr1</td><td>605581</td><td>605582</td><td>id-2</td><td> 0.486646</td><td>.</td><td>1</td></tr>\n",
       "\t<tr><td>chr1</td><td>605104</td><td>605675</td><td>chr1</td><td>605589</td><td>605590</td><td>id-3</td><td> 3.171240</td><td>.</td><td>1</td></tr>\n",
       "\t<tr><td>chr1</td><td>605104</td><td>605675</td><td>chr1</td><td>605591</td><td>605592</td><td>id-4</td><td>-0.364573</td><td>.</td><td>1</td></tr>\n",
       "\t<tr><td>chr1</td><td>605104</td><td>605675</td><td>chr1</td><td>605592</td><td>605593</td><td>id-5</td><td>-0.206319</td><td>.</td><td>1</td></tr>\n",
       "\t<tr><td>chr1</td><td>605104</td><td>605675</td><td>chr1</td><td>605609</td><td>605610</td><td>id-6</td><td>-0.266750</td><td>.</td><td>1</td></tr>\n",
       "</tbody>\n",
       "</table>\n"
      ],
      "text/latex": [
       "A tibble: 6 × 10\n",
       "\\begin{tabular}{llllllllll}\n",
       " Chrom\\_A & ChromStart\\_A & ChromEnd\\_A & Chrom\\_B & ChromStart\\_B & ChromEnd\\_B & Name\\_B & Score\\_B & Strand\\_B & Overlap\\\\\n",
       " <chr> & <dbl> & <dbl> & <chr> & <dbl> & <dbl> & <chr> & <dbl> & <chr> & <dbl>\\\\\n",
       "\\hline\n",
       "\t chr1 & 605104 & 605675 & chr1 & 605580 & 605581 & id-1 & -0.180660 & . & 1\\\\\n",
       "\t chr1 & 605104 & 605675 & chr1 & 605581 & 605582 & id-2 &  0.486646 & . & 1\\\\\n",
       "\t chr1 & 605104 & 605675 & chr1 & 605589 & 605590 & id-3 &  3.171240 & . & 1\\\\\n",
       "\t chr1 & 605104 & 605675 & chr1 & 605591 & 605592 & id-4 & -0.364573 & . & 1\\\\\n",
       "\t chr1 & 605104 & 605675 & chr1 & 605592 & 605593 & id-5 & -0.206319 & . & 1\\\\\n",
       "\t chr1 & 605104 & 605675 & chr1 & 605609 & 605610 & id-6 & -0.266750 & . & 1\\\\\n",
       "\\end{tabular}\n"
      ],
      "text/markdown": [
       "\n",
       "A tibble: 6 × 10\n",
       "\n",
       "| Chrom_A &lt;chr&gt; | ChromStart_A &lt;dbl&gt; | ChromEnd_A &lt;dbl&gt; | Chrom_B &lt;chr&gt; | ChromStart_B &lt;dbl&gt; | ChromEnd_B &lt;dbl&gt; | Name_B &lt;chr&gt; | Score_B &lt;dbl&gt; | Strand_B &lt;chr&gt; | Overlap &lt;dbl&gt; |\n",
       "|---|---|---|---|---|---|---|---|---|---|\n",
       "| chr1 | 605104 | 605675 | chr1 | 605580 | 605581 | id-1 | -0.180660 | . | 1 |\n",
       "| chr1 | 605104 | 605675 | chr1 | 605581 | 605582 | id-2 |  0.486646 | . | 1 |\n",
       "| chr1 | 605104 | 605675 | chr1 | 605589 | 605590 | id-3 |  3.171240 | . | 1 |\n",
       "| chr1 | 605104 | 605675 | chr1 | 605591 | 605592 | id-4 | -0.364573 | . | 1 |\n",
       "| chr1 | 605104 | 605675 | chr1 | 605592 | 605593 | id-5 | -0.206319 | . | 1 |\n",
       "| chr1 | 605104 | 605675 | chr1 | 605609 | 605610 | id-6 | -0.266750 | . | 1 |\n",
       "\n"
      ],
      "text/plain": [
       "  Chrom_A ChromStart_A ChromEnd_A Chrom_B ChromStart_B ChromEnd_B Name_B\n",
       "1 chr1    605104       605675     chr1    605580       605581     id-1  \n",
       "2 chr1    605104       605675     chr1    605581       605582     id-2  \n",
       "3 chr1    605104       605675     chr1    605589       605590     id-3  \n",
       "4 chr1    605104       605675     chr1    605591       605592     id-4  \n",
       "5 chr1    605104       605675     chr1    605592       605593     id-5  \n",
       "6 chr1    605104       605675     chr1    605609       605610     id-6  \n",
       "  Score_B   Strand_B Overlap\n",
       "1 -0.180660 .        1      \n",
       "2  0.486646 .        1      \n",
       "3  3.171240 .        1      \n",
       "4 -0.364573 .        1      \n",
       "5 -0.206319 .        1      \n",
       "6 -0.266750 .        1      "
      ]
     },
     "metadata": {},
     "output_type": "display_data"
    }
   ],
   "source": [
    "dat = dat_overlap_import\n",
    "head(dat)"
   ]
  },
  {
   "cell_type": "code",
   "execution_count": 16,
   "id": "11d4ad8a-9039-4b2d-8f28-40f78e327258",
   "metadata": {},
   "outputs": [
    {
     "name": "stdout",
     "output_type": "stream",
     "text": [
      "\n",
      " chr1 chr10 chr11 chr12 chr13 chr14 chr15 chr16 chr17 chr18 chr19  chr2 chr20 \n",
      " 9044  3591  4474  3875  1095  2068  2720  3541  4314  1260  4394  5550  2543 \n",
      "chr21 chr22  chr3  chr4  chr5  chr6  chr7  chr8  chr9  chrX \n",
      " 1099  2016  4454  2772  3801  4671  4543  3186  3269  2008 \n"
     ]
    },
    {
     "data": {
      "text/html": [
       "<table>\n",
       " <thead>\n",
       "  <tr>\n",
       "   <th style=\"text-align:left;\"> Chrom </th>\n",
       "   <th style=\"text-align:right;\"> ChromStart </th>\n",
       "   <th style=\"text-align:right;\"> ChromEnd </th>\n",
       "   <th style=\"text-align:left;\"> Region </th>\n",
       "   <th style=\"text-align:right;\"> Mean </th>\n",
       "   <th style=\"text-align:right;\"> Median </th>\n",
       "   <th style=\"text-align:right;\"> AbsMax </th>\n",
       "   <th style=\"text-align:right;\"> Max </th>\n",
       "   <th style=\"text-align:right;\"> Min </th>\n",
       "   <th style=\"text-align:right;\"> Count </th>\n",
       "   <th style=\"text-align:right;\"> Mean_Neg </th>\n",
       "   <th style=\"text-align:right;\"> Mean_Pos </th>\n",
       "  </tr>\n",
       " </thead>\n",
       "<tbody>\n",
       "  <tr>\n",
       "   <td style=\"text-align:left;\"> chr1 </td>\n",
       "   <td style=\"text-align:right;\"> 605090 </td>\n",
       "   <td style=\"text-align:right;\"> 605823 </td>\n",
       "   <td style=\"text-align:left;\"> chr1:605090-605823 </td>\n",
       "   <td style=\"text-align:right;\"> 0.0904152 </td>\n",
       "   <td style=\"text-align:right;\"> -0.2365345 </td>\n",
       "   <td style=\"text-align:right;\"> 3.171240 </td>\n",
       "   <td style=\"text-align:right;\"> 3.171240 </td>\n",
       "   <td style=\"text-align:right;\"> -0.774100 </td>\n",
       "   <td style=\"text-align:right;\"> 10 </td>\n",
       "   <td style=\"text-align:right;\"> -0.3442168 </td>\n",
       "   <td style=\"text-align:right;\"> 1.8289430 </td>\n",
       "  </tr>\n",
       "  <tr>\n",
       "   <td style=\"text-align:left;\"> chr1 </td>\n",
       "   <td style=\"text-align:right;\"> 777949 </td>\n",
       "   <td style=\"text-align:right;\"> 779437 </td>\n",
       "   <td style=\"text-align:left;\"> chr1:777949-779437 </td>\n",
       "   <td style=\"text-align:right;\"> 0.1162065 </td>\n",
       "   <td style=\"text-align:right;\"> 0.0869985 </td>\n",
       "   <td style=\"text-align:right;\"> 0.666834 </td>\n",
       "   <td style=\"text-align:right;\"> 0.666834 </td>\n",
       "   <td style=\"text-align:right;\"> -0.405530 </td>\n",
       "   <td style=\"text-align:right;\"> 10 </td>\n",
       "   <td style=\"text-align:right;\"> -0.2424447 </td>\n",
       "   <td style=\"text-align:right;\"> 0.3553073 </td>\n",
       "  </tr>\n",
       "  <tr>\n",
       "   <td style=\"text-align:left;\"> chr1 </td>\n",
       "   <td style=\"text-align:right;\"> 816774 </td>\n",
       "   <td style=\"text-align:right;\"> 817547 </td>\n",
       "   <td style=\"text-align:left;\"> chr1:816774-817547 </td>\n",
       "   <td style=\"text-align:right;\"> -0.1820106 </td>\n",
       "   <td style=\"text-align:right;\"> -0.3681095 </td>\n",
       "   <td style=\"text-align:right;\"> 1.049030 </td>\n",
       "   <td style=\"text-align:right;\"> 1.049030 </td>\n",
       "   <td style=\"text-align:right;\"> -0.928019 </td>\n",
       "   <td style=\"text-align:right;\"> 8 </td>\n",
       "   <td style=\"text-align:right;\"> -0.5017798 </td>\n",
       "   <td style=\"text-align:right;\"> 0.7772970 </td>\n",
       "  </tr>\n",
       "  <tr>\n",
       "   <td style=\"text-align:left;\"> chr1 </td>\n",
       "   <td style=\"text-align:right;\"> 826754 </td>\n",
       "   <td style=\"text-align:right;\"> 828040 </td>\n",
       "   <td style=\"text-align:left;\"> chr1:826754-828040 </td>\n",
       "   <td style=\"text-align:right;\"> -0.1634086 </td>\n",
       "   <td style=\"text-align:right;\"> 0.0540820 </td>\n",
       "   <td style=\"text-align:right;\"> -1.109290 </td>\n",
       "   <td style=\"text-align:right;\"> 0.455815 </td>\n",
       "   <td style=\"text-align:right;\"> -1.109290 </td>\n",
       "   <td style=\"text-align:right;\"> 10 </td>\n",
       "   <td style=\"text-align:right;\"> -0.6708465 </td>\n",
       "   <td style=\"text-align:right;\"> 0.1748833 </td>\n",
       "  </tr>\n",
       "  <tr>\n",
       "   <td style=\"text-align:left;\"> chr1 </td>\n",
       "   <td style=\"text-align:right;\"> 842480 </td>\n",
       "   <td style=\"text-align:right;\"> 843449 </td>\n",
       "   <td style=\"text-align:left;\"> chr1:842480-843449 </td>\n",
       "   <td style=\"text-align:right;\"> -0.1534377 </td>\n",
       "   <td style=\"text-align:right;\"> -0.1342135 </td>\n",
       "   <td style=\"text-align:right;\"> -1.155270 </td>\n",
       "   <td style=\"text-align:right;\"> 0.595066 </td>\n",
       "   <td style=\"text-align:right;\"> -1.155270 </td>\n",
       "   <td style=\"text-align:right;\"> 10 </td>\n",
       "   <td style=\"text-align:right;\"> -0.3755820 </td>\n",
       "   <td style=\"text-align:right;\"> 0.3648990 </td>\n",
       "  </tr>\n",
       "  <tr>\n",
       "   <td style=\"text-align:left;\"> chr1 </td>\n",
       "   <td style=\"text-align:right;\"> 858023 </td>\n",
       "   <td style=\"text-align:right;\"> 859008 </td>\n",
       "   <td style=\"text-align:left;\"> chr1:858023-859008 </td>\n",
       "   <td style=\"text-align:right;\"> -0.1097497 </td>\n",
       "   <td style=\"text-align:right;\"> -0.0834595 </td>\n",
       "   <td style=\"text-align:right;\"> 1.046400 </td>\n",
       "   <td style=\"text-align:right;\"> 1.046400 </td>\n",
       "   <td style=\"text-align:right;\"> -0.673025 </td>\n",
       "   <td style=\"text-align:right;\"> 18 </td>\n",
       "   <td style=\"text-align:right;\"> -0.3147057 </td>\n",
       "   <td style=\"text-align:right;\"> 0.3001623 </td>\n",
       "  </tr>\n",
       "</tbody>\n",
       "</table>"
      ]
     },
     "metadata": {},
     "output_type": "display_data"
    }
   ],
   "source": [
    "dat = dat_score_summary\n",
    "print(table(dat$Chrom))\n",
    "fun_display_table(head(dat))"
   ]
  }
 ],
 "metadata": {
  "kernelspec": {
   "display_name": "R",
   "language": "R",
   "name": "ir"
  },
  "language_info": {
   "codemirror_mode": "r",
   "file_extension": ".r",
   "mimetype": "text/x-r-source",
   "name": "R",
   "pygments_lexer": "r",
   "version": "4.4.2"
  }
 },
 "nbformat": 4,
 "nbformat_minor": 5
}
