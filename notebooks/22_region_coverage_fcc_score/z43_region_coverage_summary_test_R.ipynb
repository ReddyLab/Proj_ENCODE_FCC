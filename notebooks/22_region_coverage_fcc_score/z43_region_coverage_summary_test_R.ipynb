{
 "cells": [
  {
   "cell_type": "raw",
   "id": "a670bb73-7089-48bf-93ff-04f5a7e24235",
   "metadata": {},
   "source": [
    "---\n",
    "title: Region Coverage (FCC) 41\n",
    "subtitle: Combine FCC effect sizes across assays\n",
    "format:\n",
    "    html:\n",
    "        code-fold:  true\n",
    "        code-tools: true\n",
    "---"
   ]
  },
  {
   "cell_type": "markdown",
   "id": "cd96fe3e-33c6-4efb-bcdf-dfe5f868a025",
   "metadata": {},
   "source": [
    "**Set environment**"
   ]
  },
  {
   "cell_type": "code",
   "execution_count": 28,
   "id": "ae45d29e-f13f-4ab0-a3d3-420b48cd28bf",
   "metadata": {},
   "outputs": [
    {
     "name": "stdout",
     "output_type": "stream",
     "text": [
      "You are working on        Singularity: singularity_proj_encode_fcc \n",
      "BASE DIRECTORY (FD_BASE): /data/reddylab/Kuei \n",
      "REPO DIRECTORY (FD_REPO): /data/reddylab/Kuei/repo \n",
      "WORK DIRECTORY (FD_WORK): /data/reddylab/Kuei/work \n",
      "DATA DIRECTORY (FD_DATA): /data/reddylab/Kuei/data \n",
      "\n",
      "You are working with      ENCODE FCC \n",
      "PATH OF PROJECT (FD_PRJ): /data/reddylab/Kuei/repo/Proj_ENCODE_FCC \n",
      "PROJECT RESULTS (FD_RES): /data/reddylab/Kuei/repo/Proj_ENCODE_FCC/results \n",
      "PROJECT SCRIPTS (FD_EXE): /data/reddylab/Kuei/repo/Proj_ENCODE_FCC/scripts \n",
      "PROJECT DATA    (FD_DAT): /data/reddylab/Kuei/repo/Proj_ENCODE_FCC/data \n",
      "PROJECT NOTE    (FD_NBK): /data/reddylab/Kuei/repo/Proj_ENCODE_FCC/notebooks \n",
      "PROJECT DOCS    (FD_DOC): /data/reddylab/Kuei/repo/Proj_ENCODE_FCC/docs \n",
      "PROJECT LOG     (FD_LOG): /data/reddylab/Kuei/repo/Proj_ENCODE_FCC/log \n",
      "PROJECT REF     (FD_REF): /data/reddylab/Kuei/repo/Proj_ENCODE_FCC/references \n",
      "\n"
     ]
    }
   ],
   "source": [
    "suppressMessages(suppressWarnings(source(\"../run_config_project_sing.R\")))\n",
    "show_env()"
   ]
  },
  {
   "cell_type": "markdown",
   "id": "1762f71b-f588-4ab3-8070-464f943d6073",
   "metadata": {},
   "source": [
    "**Check: region directory**"
   ]
  },
  {
   "cell_type": "code",
   "execution_count": 29,
   "id": "036bc7bc-6356-4820-b14c-157e8d4c7a66",
   "metadata": {},
   "outputs": [
    {
     "name": "stdout",
     "output_type": "stream",
     "text": [
      "atac_ENCFF333TAT \n",
      "atac_ENCFF558BLC \n",
      "atac_ENCFF925CYR \n",
      "atac_ENCFF948AFM \n",
      "dnase_ENCFF185XRG \n",
      "dnase_ENCFF274YGF \n",
      "fcc_astarr_macs_input_overlap \n",
      "fcc_astarr_macs_input_union \n"
     ]
    }
   ],
   "source": [
    "txt_fdiry = file.path(FD_RES, \"region_coverage_fcc_score\")\n",
    "\n",
    "vec = dir(txt_fdiry)\n",
    "for (txt in vec){cat(txt, \"\\n\")}"
   ]
  },
  {
   "cell_type": "markdown",
   "id": "3ad1fb62-8ef2-4d09-9a8e-f10505219d02",
   "metadata": {},
   "source": [
    "**Check: assay directory**"
   ]
  },
  {
   "cell_type": "code",
   "execution_count": 30,
   "id": "931989f4-f5dc-4878-a314-212d2cce097f",
   "metadata": {},
   "outputs": [
    {
     "name": "stdout",
     "output_type": "stream",
     "text": [
      "CRISPRi_FlowFISH_K562_Riley_JinWoo \n",
      "CRISPRi_Growth_K562_Gersbach_JinWoo \n",
      "MPRA_Lenti_K562_Nadav_Vikram \n",
      "MPRA_Tiling_K562_Tewhey_Hannah \n",
      "STARR_ATAC_K562_Reddy_KS274 \n",
      "STARR_ATAC_K562_Reddy_KS91 \n",
      "STARR_ATAC_K562_Reddy_KSMerge \n",
      "STARR_WHG_K562_Reddy_A001 \n",
      "summary \n"
     ]
    }
   ],
   "source": [
    "txt_region = \"fcc_astarr_macs_input_union\"\n",
    "txt_fdiry  = file.path(FD_RES, \"region_coverage_fcc_score\", txt_region)\n",
    "vec = dir(txt_fdiry)\n",
    "for (txt in vec) {cat(txt, \"\\n\")}"
   ]
  },
  {
   "cell_type": "markdown",
   "id": "6aa0fc65-fef2-43e3-81d5-7aefefbb4e7d",
   "metadata": {},
   "source": [
    "**Set global variable**"
   ]
  },
  {
   "cell_type": "code",
   "execution_count": 31,
   "id": "246770fb-94c6-4c6d-a406-ea6915a7e95f",
   "metadata": {},
   "outputs": [
    {
     "name": "stdout",
     "output_type": "stream",
     "text": [
      "fcc_astarr_macs_input_overlap \n",
      "fcc_astarr_macs_input_union \n"
     ]
    }
   ],
   "source": [
    "## init: region folder\n",
    "vec = c(\"fcc_astarr_macs_input_overlap\", \"fcc_astarr_macs_input_union\")\n",
    "names(vec) = vec\n",
    "\n",
    "VEC_TXT_REGION = vec\n",
    "for (txt in vec) {cat(txt, \"\\n\")}"
   ]
  },
  {
   "cell_type": "markdown",
   "id": "3418bdb3-fe9a-45c9-bfc8-a5992d30b375",
   "metadata": {},
   "source": [
    "## Helper functions"
   ]
  },
  {
   "cell_type": "markdown",
   "id": "d4e73e7c-2727-4987-a491-cdc734a843bc",
   "metadata": {},
   "source": [
    "**Setup assay name, type, and group matching**"
   ]
  },
  {
   "cell_type": "code",
   "execution_count": 32,
   "id": "a592dc16-f28c-4e25-b3a5-83c5f4cbaecc",
   "metadata": {},
   "outputs": [],
   "source": [
    "VEC_TXT_ASSAY_FOLDER = c(\n",
    "    \"CRISPRi_FlowFISH_K562_Riley_JinWoo\",\n",
    "    \"CRISPRi_Growth_K562_Gersbach_JinWoo\", \n",
    "    \"MPRA_Lenti_K562_Nadav_Vikram\", \n",
    "    \"MPRA_Tiling_K562_Tewhey_Hannah\", \n",
    "    \"STARR_ATAC_K562_Reddy_KS274\", \n",
    "    \"STARR_ATAC_K562_Reddy_KS91\", \n",
    "    \"STARR_ATAC_K562_Reddy_KSMerge\", \n",
    "    \"STARR_WHG_K562_Reddy_A001\"\n",
    ")\n",
    "\n",
    "VEC_TXT_ASSAY_GROUP = c(\n",
    "    \"CRISPRi-HCRFF\",\n",
    "    \"CRISPRi-Growth\",\n",
    "    \"LMPRA\",\n",
    "    \"TMPRA\",\n",
    "    \"ASTARR_KS274\",\n",
    "    \"ASTARR_KS91\",\n",
    "    \"ASTARR_KSMerge\",\n",
    "    \"WSTARR\"\n",
    ")\n",
    "\n",
    "VEC_TXT_ASSAY_LABEL = c(\n",
    "    \"CRISPRi-HCRFF\",\n",
    "    \"CRISPRi-Growth\",\n",
    "    \"LMPRA\",\n",
    "    \"TMPRA\",\n",
    "    \"ASTARR\",\n",
    "    \"ASTARR\",\n",
    "    \"ASTARR\",\n",
    "    \"WSTARR\"\n",
    ")\n",
    "\n",
    "fun1 = function(txt){\n",
    "    vec1 = VEC_TXT_ASSAY_FOLDER\n",
    "    vec2 = VEC_TXT_ASSAY_FOLDER\n",
    "    res  = fun_str_map_detect(txt, vec1, vec2)\n",
    "    return(res)\n",
    "}\n",
    "\n",
    "fun2 = function(txt){\n",
    "    vec1 = VEC_TXT_ASSAY_FOLDER\n",
    "    vec2 = VEC_TXT_ASSAY_GROUP\n",
    "    res  = fun_str_map_detect(txt, vec1, vec2)\n",
    "    return(res)\n",
    "}\n",
    "\n",
    "fun3 = function(txt){\n",
    "    vec1 = VEC_TXT_ASSAY_FOLDER\n",
    "    vec2 = VEC_TXT_ASSAY_LABEL\n",
    "    res  = fun_str_map_detect(txt, vec1, vec2)\n",
    "    return(res)\n",
    "}"
   ]
  },
  {
   "cell_type": "markdown",
   "id": "7d0c7a66-6807-4cb2-be5f-8422d39fad09",
   "metadata": {},
   "source": [
    "## Process ASTARR/WSTARR/TMPRA"
   ]
  },
  {
   "cell_type": "markdown",
   "id": "4e078a73-703d-4f5d-946b-8dac127ec517",
   "metadata": {},
   "source": [
    "**Check input files**"
   ]
  },
  {
   "cell_type": "code",
   "execution_count": 33,
   "id": "a455f3ec-d5a0-4a18-b3a9-f2bedd2ebb9b",
   "metadata": {},
   "outputs": [
    {
     "name": "stdout",
     "output_type": "stream",
     "text": [
      "/data/reddylab/Kuei/repo/Proj_ENCODE_FCC/results/region_coverage_fcc_score/fcc_astarr_macs_input_overlap/MPRA_Tiling_K562_Tewhey_Hannah/summary/region.coverage.Log2FC.deseq.tsv \n",
      "/data/reddylab/Kuei/repo/Proj_ENCODE_FCC/results/region_coverage_fcc_score/fcc_astarr_macs_input_overlap/STARR_ATAC_K562_Reddy_KS274/summary/region.coverage.Log2FC.deseq.tsv \n",
      "/data/reddylab/Kuei/repo/Proj_ENCODE_FCC/results/region_coverage_fcc_score/fcc_astarr_macs_input_overlap/STARR_ATAC_K562_Reddy_KS91/summary/region.coverage.Log2FC.deseq.tsv \n",
      "/data/reddylab/Kuei/repo/Proj_ENCODE_FCC/results/region_coverage_fcc_score/fcc_astarr_macs_input_overlap/STARR_ATAC_K562_Reddy_KSMerge/summary/region.coverage.Log2FC.deseq.tsv \n",
      "/data/reddylab/Kuei/repo/Proj_ENCODE_FCC/results/region_coverage_fcc_score/fcc_astarr_macs_input_overlap/STARR_WHG_K562_Reddy_A001/summary/region.coverage.Log2FC.deseq.tsv \n"
     ]
    }
   ],
   "source": [
    "txt_region = VEC_TXT_REGION[1]\n",
    "txt_fdiry  = file.path(FD_RES, \"region_coverage_fcc_score\", txt_region)\n",
    "txt_fname  = \"region.coverage.Log2FC.deseq.tsv\"\n",
    "txt_fglob  = file.path(txt_fdiry, \"*\", \"summary\", txt_fname)\n",
    "\n",
    "vec = Sys.glob(txt_fglob)\n",
    "for (txt in vec) {cat(txt, \"\\n\")}"
   ]
  },
  {
   "cell_type": "markdown",
   "id": "47f2e9fe-4ad2-42b8-a27b-13899e4d0561",
   "metadata": {},
   "source": [
    "### Import data"
   ]
  },
  {
   "cell_type": "code",
   "execution_count": 34,
   "id": "1246aad7-9f1d-4f74-abb4-13bbb9af2bc9",
   "metadata": {},
   "outputs": [
    {
     "name": "stdout",
     "output_type": "stream",
     "text": [
      "$fcc_astarr_macs_input_overlap\n",
      "[1] 597863     14\n",
      "\n",
      "$fcc_astarr_macs_input_union\n",
      "[1] 983304     14\n",
      "\n"
     ]
    },
    {
     "data": {
      "text/html": [
       "<table>\n",
       " <thead>\n",
       "  <tr>\n",
       "   <th style=\"text-align:left;\"> Batch </th>\n",
       "   <th style=\"text-align:left;\"> Chrom </th>\n",
       "   <th style=\"text-align:right;\"> ChromStart </th>\n",
       "   <th style=\"text-align:right;\"> ChromEnd </th>\n",
       "   <th style=\"text-align:left;\"> Region </th>\n",
       "   <th style=\"text-align:right;\"> baseMean </th>\n",
       "   <th style=\"text-align:right;\"> log2FoldChange </th>\n",
       "   <th style=\"text-align:right;\"> lfcSE </th>\n",
       "   <th style=\"text-align:right;\"> stat </th>\n",
       "   <th style=\"text-align:right;\"> pvalue </th>\n",
       "   <th style=\"text-align:right;\"> padj </th>\n",
       "   <th style=\"text-align:left;\"> Assay_Folder </th>\n",
       "   <th style=\"text-align:left;\"> Assay_Group </th>\n",
       "   <th style=\"text-align:left;\"> Assay_Label </th>\n",
       "  </tr>\n",
       " </thead>\n",
       "<tbody>\n",
       "  <tr>\n",
       "   <td style=\"text-align:left;\"> OL13 </td>\n",
       "   <td style=\"text-align:left;\"> chr11 </td>\n",
       "   <td style=\"text-align:right;\"> 61792073 </td>\n",
       "   <td style=\"text-align:right;\"> 61793400 </td>\n",
       "   <td style=\"text-align:left;\"> chr11:61792073-61793400 </td>\n",
       "   <td style=\"text-align:right;\"> 233693.42 </td>\n",
       "   <td style=\"text-align:right;\"> 1.185662 </td>\n",
       "   <td style=\"text-align:right;\"> 0.0476694 </td>\n",
       "   <td style=\"text-align:right;\"> 24.87262 </td>\n",
       "   <td style=\"text-align:right;\"> 0 </td>\n",
       "   <td style=\"text-align:right;\"> 0 </td>\n",
       "   <td style=\"text-align:left;\"> MPRA_Tiling_K562_Tewhey_Hannah </td>\n",
       "   <td style=\"text-align:left;\"> TMPRA </td>\n",
       "   <td style=\"text-align:left;\"> TMPRA </td>\n",
       "  </tr>\n",
       "  <tr>\n",
       "   <td style=\"text-align:left;\"> OL13 </td>\n",
       "   <td style=\"text-align:left;\"> chr11 </td>\n",
       "   <td style=\"text-align:right;\"> 61800349 </td>\n",
       "   <td style=\"text-align:right;\"> 61801103 </td>\n",
       "   <td style=\"text-align:left;\"> chr11:61800349-61801103 </td>\n",
       "   <td style=\"text-align:right;\"> 158750.83 </td>\n",
       "   <td style=\"text-align:right;\"> 1.969132 </td>\n",
       "   <td style=\"text-align:right;\"> 0.0278373 </td>\n",
       "   <td style=\"text-align:right;\"> 70.73714 </td>\n",
       "   <td style=\"text-align:right;\"> 0 </td>\n",
       "   <td style=\"text-align:right;\"> 0 </td>\n",
       "   <td style=\"text-align:left;\"> MPRA_Tiling_K562_Tewhey_Hannah </td>\n",
       "   <td style=\"text-align:left;\"> TMPRA </td>\n",
       "   <td style=\"text-align:left;\"> TMPRA </td>\n",
       "  </tr>\n",
       "  <tr>\n",
       "   <td style=\"text-align:left;\"> OL13 </td>\n",
       "   <td style=\"text-align:left;\"> chr11 </td>\n",
       "   <td style=\"text-align:right;\"> 61806747 </td>\n",
       "   <td style=\"text-align:right;\"> 61807139 </td>\n",
       "   <td style=\"text-align:left;\"> chr11:61806747-61807139 </td>\n",
       "   <td style=\"text-align:right;\"> 45195.64 </td>\n",
       "   <td style=\"text-align:right;\"> -1.935220 </td>\n",
       "   <td style=\"text-align:right;\"> 0.1366341 </td>\n",
       "   <td style=\"text-align:right;\"> -14.16352 </td>\n",
       "   <td style=\"text-align:right;\"> 0 </td>\n",
       "   <td style=\"text-align:right;\"> 0 </td>\n",
       "   <td style=\"text-align:left;\"> MPRA_Tiling_K562_Tewhey_Hannah </td>\n",
       "   <td style=\"text-align:left;\"> TMPRA </td>\n",
       "   <td style=\"text-align:left;\"> TMPRA </td>\n",
       "  </tr>\n",
       "</tbody>\n",
       "</table>"
      ]
     },
     "metadata": {},
     "output_type": "display_data"
    }
   ],
   "source": [
    "lst = lapply(VEC_TXT_REGION, function(txt_region){\n",
    "    ### set file glob\n",
    "    txt_fdiry  = file.path(FD_RES, \"region_coverage_fcc_score\", txt_region)\n",
    "    txt_fname  = \"region.coverage.Log2FC.deseq.tsv\"\n",
    "    txt_fglob  = file.path(txt_fdiry, \"*\", \"summary\", txt_fname)\n",
    "\n",
    "    ### get file paths\n",
    "    vec = Sys.glob(txt_fglob)\n",
    "    vec_txt_fpath = vec\n",
    "\n",
    "    ### import tables\n",
    "    lst = lapply(vec_txt_fpath, function(txt_fpath){\n",
    "        dat = read_tsv(txt_fpath, show_col_types = FALSE)\n",
    "        dat = dat %>% dplyr::mutate(\n",
    "            Assay_Folder = fun1(txt_fpath),\n",
    "            Assay_Group  = fun2(txt_fpath),\n",
    "            Assay_Label  = fun3(txt_fpath)\n",
    "        )\n",
    "        return(dat)\n",
    "    }) \n",
    "\n",
    "    ### combine tables\n",
    "    dat = bind_rows(lst)\n",
    "    return(dat)\n",
    "})  \n",
    "\n",
    "### assign and label\n",
    "lst_dat_region_score_deseq_import = lst\n",
    "\n",
    "res = lapply(lst, dim)\n",
    "print(res)\n",
    "\n",
    "dat = lst[[1]]\n",
    "fun_display_table(head(dat, 3))"
   ]
  },
  {
   "cell_type": "markdown",
   "id": "c7eed76a-f8f3-4578-bc0d-c7caf015b777",
   "metadata": {},
   "source": [
    "**Explore: count**"
   ]
  },
  {
   "cell_type": "code",
   "execution_count": 35,
   "id": "ab85ff6a-3856-4b42-9bba-65c4c2f6fee3",
   "metadata": {},
   "outputs": [
    {
     "data": {
      "text/html": [
       "<table class=\"dataframe\">\n",
       "<caption>A data.frame: 5 × 3</caption>\n",
       "<thead>\n",
       "\t<tr><th scope=col>Assay</th><th scope=col>fcc_astarr_macs_input_overlap</th><th scope=col>fcc_astarr_macs_input_union</th></tr>\n",
       "\t<tr><th scope=col>&lt;fct&gt;</th><th scope=col>&lt;int&gt;</th><th scope=col>&lt;int&gt;</th></tr>\n",
       "</thead>\n",
       "<tbody>\n",
       "\t<tr><td>ASTARR_KS274  </td><td>150041</td><td>246851</td></tr>\n",
       "\t<tr><td>ASTARR_KS91   </td><td>150040</td><td>246850</td></tr>\n",
       "\t<tr><td>ASTARR_KSMerge</td><td>150040</td><td>246850</td></tr>\n",
       "\t<tr><td>TMPRA         </td><td>  1148</td><td>  1722</td></tr>\n",
       "\t<tr><td>WSTARR        </td><td>146594</td><td>241031</td></tr>\n",
       "</tbody>\n",
       "</table>\n"
      ],
      "text/latex": [
       "A data.frame: 5 × 3\n",
       "\\begin{tabular}{lll}\n",
       " Assay & fcc\\_astarr\\_macs\\_input\\_overlap & fcc\\_astarr\\_macs\\_input\\_union\\\\\n",
       " <fct> & <int> & <int>\\\\\n",
       "\\hline\n",
       "\t ASTARR\\_KS274   & 150041 & 246851\\\\\n",
       "\t ASTARR\\_KS91    & 150040 & 246850\\\\\n",
       "\t ASTARR\\_KSMerge & 150040 & 246850\\\\\n",
       "\t TMPRA          &   1148 &   1722\\\\\n",
       "\t WSTARR         & 146594 & 241031\\\\\n",
       "\\end{tabular}\n"
      ],
      "text/markdown": [
       "\n",
       "A data.frame: 5 × 3\n",
       "\n",
       "| Assay &lt;fct&gt; | fcc_astarr_macs_input_overlap &lt;int&gt; | fcc_astarr_macs_input_union &lt;int&gt; |\n",
       "|---|---|---|\n",
       "| ASTARR_KS274   | 150041 | 246851 |\n",
       "| ASTARR_KS91    | 150040 | 246850 |\n",
       "| ASTARR_KSMerge | 150040 | 246850 |\n",
       "| TMPRA          |   1148 |   1722 |\n",
       "| WSTARR         | 146594 | 241031 |\n",
       "\n"
      ],
      "text/plain": [
       "  Assay          fcc_astarr_macs_input_overlap fcc_astarr_macs_input_union\n",
       "1 ASTARR_KS274   150041                        246851                     \n",
       "2 ASTARR_KS91    150040                        246850                     \n",
       "3 ASTARR_KSMerge 150040                        246850                     \n",
       "4 TMPRA            1148                          1722                     \n",
       "5 WSTARR         146594                        241031                     "
      ]
     },
     "metadata": {},
     "output_type": "display_data"
    }
   ],
   "source": [
    "lst = lst_dat_region_score_deseq_import\n",
    "lst = lapply(lst, function(dat){\n",
    "    res = table(dat$Assay_Group, dnn = \"Assay\")\n",
    "    dat = as.data.frame(res)\n",
    "    return(dat)\n",
    "})\n",
    "dat = bind_rows(lst, .id = \"Folder\")\n",
    "dat = dat %>% tidyr::spread(Folder, Freq)\n",
    "dat"
   ]
  },
  {
   "cell_type": "markdown",
   "id": "7de997e1-2153-4306-8b80-1d17077a0e37",
   "metadata": {},
   "source": [
    "**Explore: Missing data**"
   ]
  },
  {
   "cell_type": "code",
   "execution_count": 36,
   "id": "bc46719c-c441-404b-8244-74b7dadef9fb",
   "metadata": {},
   "outputs": [
    {
     "data": {
      "text/html": [
       "<table>\n",
       " <thead>\n",
       "  <tr>\n",
       "   <th style=\"text-align:left;\"> Folder </th>\n",
       "   <th style=\"text-align:right;\"> Batch </th>\n",
       "   <th style=\"text-align:right;\"> Chrom </th>\n",
       "   <th style=\"text-align:right;\"> ChromStart </th>\n",
       "   <th style=\"text-align:right;\"> ChromEnd </th>\n",
       "   <th style=\"text-align:right;\"> Region </th>\n",
       "   <th style=\"text-align:right;\"> baseMean </th>\n",
       "   <th style=\"text-align:right;\"> log2FoldChange </th>\n",
       "   <th style=\"text-align:right;\"> lfcSE </th>\n",
       "   <th style=\"text-align:right;\"> stat </th>\n",
       "   <th style=\"text-align:right;\"> pvalue </th>\n",
       "   <th style=\"text-align:right;\"> padj </th>\n",
       "   <th style=\"text-align:right;\"> Assay_Folder </th>\n",
       "   <th style=\"text-align:right;\"> Assay_Group </th>\n",
       "   <th style=\"text-align:right;\"> Assay_Label </th>\n",
       "  </tr>\n",
       " </thead>\n",
       "<tbody>\n",
       "  <tr>\n",
       "   <td style=\"text-align:left;\"> fcc_astarr_macs_input_overlap </td>\n",
       "   <td style=\"text-align:right;\"> 596715 </td>\n",
       "   <td style=\"text-align:right;\"> 0 </td>\n",
       "   <td style=\"text-align:right;\"> 0 </td>\n",
       "   <td style=\"text-align:right;\"> 0 </td>\n",
       "   <td style=\"text-align:right;\"> 0 </td>\n",
       "   <td style=\"text-align:right;\"> 0 </td>\n",
       "   <td style=\"text-align:right;\"> 0 </td>\n",
       "   <td style=\"text-align:right;\"> 0 </td>\n",
       "   <td style=\"text-align:right;\"> 0 </td>\n",
       "   <td style=\"text-align:right;\"> 5 </td>\n",
       "   <td style=\"text-align:right;\"> 5 </td>\n",
       "   <td style=\"text-align:right;\"> 0 </td>\n",
       "   <td style=\"text-align:right;\"> 0 </td>\n",
       "   <td style=\"text-align:right;\"> 0 </td>\n",
       "  </tr>\n",
       "  <tr>\n",
       "   <td style=\"text-align:left;\"> fcc_astarr_macs_input_union </td>\n",
       "   <td style=\"text-align:right;\"> 981582 </td>\n",
       "   <td style=\"text-align:right;\"> 0 </td>\n",
       "   <td style=\"text-align:right;\"> 0 </td>\n",
       "   <td style=\"text-align:right;\"> 0 </td>\n",
       "   <td style=\"text-align:right;\"> 0 </td>\n",
       "   <td style=\"text-align:right;\"> 0 </td>\n",
       "   <td style=\"text-align:right;\"> 0 </td>\n",
       "   <td style=\"text-align:right;\"> 0 </td>\n",
       "   <td style=\"text-align:right;\"> 0 </td>\n",
       "   <td style=\"text-align:right;\"> 4 </td>\n",
       "   <td style=\"text-align:right;\"> 4 </td>\n",
       "   <td style=\"text-align:right;\"> 0 </td>\n",
       "   <td style=\"text-align:right;\"> 0 </td>\n",
       "   <td style=\"text-align:right;\"> 0 </td>\n",
       "  </tr>\n",
       "</tbody>\n",
       "</table>"
      ]
     },
     "metadata": {},
     "output_type": "display_data"
    }
   ],
   "source": [
    "lst = lst_dat_region_score_deseq_import\n",
    "lst = lapply(lst, function(dat){\n",
    "    lst = lapply(dat, function(vec){\n",
    "        num = sum(is.na(vec))    \n",
    "        return(num)\n",
    "    })\n",
    "    vec = unlist(lst)\n",
    "    return(vec)\n",
    "})\n",
    "\n",
    "dat = bind_rows(lst, .id = \"Folder\")\n",
    "fun_display_table(dat)"
   ]
  },
  {
   "cell_type": "markdown",
   "id": "b724da10-cc12-4c69-b3fb-cded4ffa16c6",
   "metadata": {},
   "source": [
    "**Explore: Independent filtering in DESeq2**"
   ]
  },
  {
   "cell_type": "code",
   "execution_count": 37,
   "id": "b2737fe8-05ab-4f45-bfb6-bbf00820df1f",
   "metadata": {},
   "outputs": [
    {
     "data": {
      "text/html": [
       "<table>\n",
       " <thead>\n",
       "  <tr>\n",
       "   <th style=\"text-align:left;\"> Group </th>\n",
       "   <th style=\"text-align:left;\"> IsNA </th>\n",
       "   <th style=\"text-align:right;\"> fcc_astarr_macs_input_overlap </th>\n",
       "   <th style=\"text-align:right;\"> fcc_astarr_macs_input_union </th>\n",
       "  </tr>\n",
       " </thead>\n",
       "<tbody>\n",
       "  <tr>\n",
       "   <td style=\"text-align:left;\"> ASTARR_KS274 </td>\n",
       "   <td style=\"text-align:left;\"> FALSE </td>\n",
       "   <td style=\"text-align:right;\"> 150041 </td>\n",
       "   <td style=\"text-align:right;\"> 246851 </td>\n",
       "  </tr>\n",
       "  <tr>\n",
       "   <td style=\"text-align:left;\"> ASTARR_KS274 </td>\n",
       "   <td style=\"text-align:left;\"> TRUE </td>\n",
       "   <td style=\"text-align:right;\"> 0 </td>\n",
       "   <td style=\"text-align:right;\"> 0 </td>\n",
       "  </tr>\n",
       "  <tr>\n",
       "   <td style=\"text-align:left;\"> ASTARR_KS91 </td>\n",
       "   <td style=\"text-align:left;\"> FALSE </td>\n",
       "   <td style=\"text-align:right;\"> 150039 </td>\n",
       "   <td style=\"text-align:right;\"> 246850 </td>\n",
       "  </tr>\n",
       "  <tr>\n",
       "   <td style=\"text-align:left;\"> ASTARR_KS91 </td>\n",
       "   <td style=\"text-align:left;\"> TRUE </td>\n",
       "   <td style=\"text-align:right;\"> 1 </td>\n",
       "   <td style=\"text-align:right;\"> 0 </td>\n",
       "  </tr>\n",
       "  <tr>\n",
       "   <td style=\"text-align:left;\"> ASTARR_KSMerge </td>\n",
       "   <td style=\"text-align:left;\"> FALSE </td>\n",
       "   <td style=\"text-align:right;\"> 150036 </td>\n",
       "   <td style=\"text-align:right;\"> 246846 </td>\n",
       "  </tr>\n",
       "  <tr>\n",
       "   <td style=\"text-align:left;\"> ASTARR_KSMerge </td>\n",
       "   <td style=\"text-align:left;\"> TRUE </td>\n",
       "   <td style=\"text-align:right;\"> 4 </td>\n",
       "   <td style=\"text-align:right;\"> 4 </td>\n",
       "  </tr>\n",
       "  <tr>\n",
       "   <td style=\"text-align:left;\"> TMPRA </td>\n",
       "   <td style=\"text-align:left;\"> FALSE </td>\n",
       "   <td style=\"text-align:right;\"> 1148 </td>\n",
       "   <td style=\"text-align:right;\"> 1722 </td>\n",
       "  </tr>\n",
       "  <tr>\n",
       "   <td style=\"text-align:left;\"> TMPRA </td>\n",
       "   <td style=\"text-align:left;\"> TRUE </td>\n",
       "   <td style=\"text-align:right;\"> 0 </td>\n",
       "   <td style=\"text-align:right;\"> 0 </td>\n",
       "  </tr>\n",
       "  <tr>\n",
       "   <td style=\"text-align:left;\"> WSTARR </td>\n",
       "   <td style=\"text-align:left;\"> FALSE </td>\n",
       "   <td style=\"text-align:right;\"> 146594 </td>\n",
       "   <td style=\"text-align:right;\"> 241031 </td>\n",
       "  </tr>\n",
       "  <tr>\n",
       "   <td style=\"text-align:left;\"> WSTARR </td>\n",
       "   <td style=\"text-align:left;\"> TRUE </td>\n",
       "   <td style=\"text-align:right;\"> 0 </td>\n",
       "   <td style=\"text-align:right;\"> 0 </td>\n",
       "  </tr>\n",
       "</tbody>\n",
       "</table>"
      ]
     },
     "metadata": {},
     "output_type": "display_data"
    }
   ],
   "source": [
    "lst = lst_dat_region_score_deseq_import\n",
    "lst = lapply(lst, function(dat){\n",
    "    res = table(\n",
    "        dat$Assay_Group,\n",
    "        is.na(dat$pvalue), \n",
    "        dnn = c(\"Group\", \"IsNA\")\n",
    "    )\n",
    "    dat = as.data.frame(res)\n",
    "    return(dat)\n",
    "})\n",
    "\n",
    "dat = bind_rows(lst, .id = \"Region\")\n",
    "dat = dat %>% tidyr::spread(Region, Freq)\n",
    "fun_display_table(dat)"
   ]
  },
  {
   "cell_type": "markdown",
   "id": "478d92bf-54ee-42e5-958f-7a4ca3cd1652",
   "metadata": {},
   "source": [
    "### Summarize FCC effect sizes"
   ]
  },
  {
   "cell_type": "code",
   "execution_count": 38,
   "id": "7b4bd426-bc77-4474-b970-e2557e8e0b47",
   "metadata": {},
   "outputs": [
    {
     "name": "stdout",
     "output_type": "stream",
     "text": [
      "$fcc_astarr_macs_input_overlap\n",
      "[1] 597863     11\n",
      "\n",
      "$fcc_astarr_macs_input_union\n",
      "[1] 983304     11\n",
      "\n"
     ]
    },
    {
     "data": {
      "text/html": [
       "<table>\n",
       " <thead>\n",
       "  <tr>\n",
       "   <th style=\"text-align:left;\"> Chrom </th>\n",
       "   <th style=\"text-align:right;\"> ChromStart </th>\n",
       "   <th style=\"text-align:right;\"> ChromEnd </th>\n",
       "   <th style=\"text-align:left;\"> Region </th>\n",
       "   <th style=\"text-align:right;\"> Score </th>\n",
       "   <th style=\"text-align:right;\"> Zcore </th>\n",
       "   <th style=\"text-align:left;\"> Score_Label </th>\n",
       "   <th style=\"text-align:left;\"> Zcore_Label </th>\n",
       "   <th style=\"text-align:left;\"> Assay_Folder </th>\n",
       "   <th style=\"text-align:left;\"> Assay_Group </th>\n",
       "   <th style=\"text-align:left;\"> Assay_Label </th>\n",
       "  </tr>\n",
       " </thead>\n",
       "<tbody>\n",
       "  <tr>\n",
       "   <td style=\"text-align:left;\"> chr1 </td>\n",
       "   <td style=\"text-align:right;\"> 10038 </td>\n",
       "   <td style=\"text-align:right;\"> 10405 </td>\n",
       "   <td style=\"text-align:left;\"> chr1:10038-10405 </td>\n",
       "   <td style=\"text-align:right;\"> -7.067991 </td>\n",
       "   <td style=\"text-align:right;\"> -11.824755 </td>\n",
       "   <td style=\"text-align:left;\"> Log2FC </td>\n",
       "   <td style=\"text-align:left;\"> Scale(Log2FC) </td>\n",
       "   <td style=\"text-align:left;\"> STARR_ATAC_K562_Reddy_KS274 </td>\n",
       "   <td style=\"text-align:left;\"> ASTARR_KS274 </td>\n",
       "   <td style=\"text-align:left;\"> ASTARR </td>\n",
       "  </tr>\n",
       "  <tr>\n",
       "   <td style=\"text-align:left;\"> chr1 </td>\n",
       "   <td style=\"text-align:right;\"> 10038 </td>\n",
       "   <td style=\"text-align:right;\"> 10405 </td>\n",
       "   <td style=\"text-align:left;\"> chr1:10038-10405 </td>\n",
       "   <td style=\"text-align:right;\"> -2.234853 </td>\n",
       "   <td style=\"text-align:right;\"> -3.557362 </td>\n",
       "   <td style=\"text-align:left;\"> Log2FC </td>\n",
       "   <td style=\"text-align:left;\"> Scale(Log2FC) </td>\n",
       "   <td style=\"text-align:left;\"> STARR_ATAC_K562_Reddy_KS91 </td>\n",
       "   <td style=\"text-align:left;\"> ASTARR_KS91 </td>\n",
       "   <td style=\"text-align:left;\"> ASTARR </td>\n",
       "  </tr>\n",
       "  <tr>\n",
       "   <td style=\"text-align:left;\"> chr1 </td>\n",
       "   <td style=\"text-align:right;\"> 10038 </td>\n",
       "   <td style=\"text-align:right;\"> 10405 </td>\n",
       "   <td style=\"text-align:left;\"> chr1:10038-10405 </td>\n",
       "   <td style=\"text-align:right;\"> -2.237409 </td>\n",
       "   <td style=\"text-align:right;\"> -3.552832 </td>\n",
       "   <td style=\"text-align:left;\"> Log2FC </td>\n",
       "   <td style=\"text-align:left;\"> Scale(Log2FC) </td>\n",
       "   <td style=\"text-align:left;\"> STARR_ATAC_K562_Reddy_KSMerge </td>\n",
       "   <td style=\"text-align:left;\"> ASTARR_KSMerge </td>\n",
       "   <td style=\"text-align:left;\"> ASTARR </td>\n",
       "  </tr>\n",
       "</tbody>\n",
       "</table>"
      ]
     },
     "metadata": {},
     "output_type": "display_data"
    }
   ],
   "source": [
    "lst = lst_dat_region_score_deseq_import\n",
    "lst = lapply(lst, function(dat){\n",
    "    ### process scores\n",
    "    dat = dat %>% \n",
    "        dplyr::group_by(Assay_Group) %>%\n",
    "        dplyr::mutate(\n",
    "            Score = log2FoldChange,\n",
    "            Zcore = as.vector(scale(log2FoldChange)),\n",
    "            Score_Label = \"Log2FC\",\n",
    "            Zcore_Label = \"Scale(Log2FC)\"\n",
    "        ) %>%\n",
    "        dplyr::ungroup()\n",
    "\n",
    "    ### arrange results\n",
    "    dat = dat %>%\n",
    "        dplyr::select(\n",
    "            Chrom, ChromStart, ChromEnd, Region, \n",
    "            Score, \n",
    "            Zcore,\n",
    "            Score_Label,\n",
    "            Zcore_Label,\n",
    "            Assay_Folder,  \n",
    "            Assay_Group,\n",
    "            Assay_Label\n",
    "        ) %>%\n",
    "        dplyr::arrange(Chrom, ChromStart, ChromEnd)\n",
    "    return(dat)\n",
    "})  \n",
    "\n",
    "### assign and label\n",
    "lst_dat_region_score_deseq_arrange = lst\n",
    "\n",
    "res = lapply(lst, dim)\n",
    "print(res)\n",
    "\n",
    "dat = lst[[1]]\n",
    "fun_display_table(head(dat, 3))"
   ]
  },
  {
   "cell_type": "markdown",
   "id": "05784501-41c5-4d1b-ae77-50c77ba211d4",
   "metadata": {},
   "source": [
    "**Explore: count**"
   ]
  },
  {
   "cell_type": "code",
   "execution_count": 39,
   "id": "33852798-7d72-4243-babd-b6d47d88c59d",
   "metadata": {},
   "outputs": [
    {
     "data": {
      "text/html": [
       "<table class=\"dataframe\">\n",
       "<caption>A data.frame: 5 × 3</caption>\n",
       "<thead>\n",
       "\t<tr><th scope=col>Assay</th><th scope=col>fcc_astarr_macs_input_overlap</th><th scope=col>fcc_astarr_macs_input_union</th></tr>\n",
       "\t<tr><th scope=col>&lt;fct&gt;</th><th scope=col>&lt;int&gt;</th><th scope=col>&lt;int&gt;</th></tr>\n",
       "</thead>\n",
       "<tbody>\n",
       "\t<tr><td>ASTARR_KS274  </td><td>150041</td><td>246851</td></tr>\n",
       "\t<tr><td>ASTARR_KS91   </td><td>150040</td><td>246850</td></tr>\n",
       "\t<tr><td>ASTARR_KSMerge</td><td>150040</td><td>246850</td></tr>\n",
       "\t<tr><td>TMPRA         </td><td>  1148</td><td>  1722</td></tr>\n",
       "\t<tr><td>WSTARR        </td><td>146594</td><td>241031</td></tr>\n",
       "</tbody>\n",
       "</table>\n"
      ],
      "text/latex": [
       "A data.frame: 5 × 3\n",
       "\\begin{tabular}{lll}\n",
       " Assay & fcc\\_astarr\\_macs\\_input\\_overlap & fcc\\_astarr\\_macs\\_input\\_union\\\\\n",
       " <fct> & <int> & <int>\\\\\n",
       "\\hline\n",
       "\t ASTARR\\_KS274   & 150041 & 246851\\\\\n",
       "\t ASTARR\\_KS91    & 150040 & 246850\\\\\n",
       "\t ASTARR\\_KSMerge & 150040 & 246850\\\\\n",
       "\t TMPRA          &   1148 &   1722\\\\\n",
       "\t WSTARR         & 146594 & 241031\\\\\n",
       "\\end{tabular}\n"
      ],
      "text/markdown": [
       "\n",
       "A data.frame: 5 × 3\n",
       "\n",
       "| Assay &lt;fct&gt; | fcc_astarr_macs_input_overlap &lt;int&gt; | fcc_astarr_macs_input_union &lt;int&gt; |\n",
       "|---|---|---|\n",
       "| ASTARR_KS274   | 150041 | 246851 |\n",
       "| ASTARR_KS91    | 150040 | 246850 |\n",
       "| ASTARR_KSMerge | 150040 | 246850 |\n",
       "| TMPRA          |   1148 |   1722 |\n",
       "| WSTARR         | 146594 | 241031 |\n",
       "\n"
      ],
      "text/plain": [
       "  Assay          fcc_astarr_macs_input_overlap fcc_astarr_macs_input_union\n",
       "1 ASTARR_KS274   150041                        246851                     \n",
       "2 ASTARR_KS91    150040                        246850                     \n",
       "3 ASTARR_KSMerge 150040                        246850                     \n",
       "4 TMPRA            1148                          1722                     \n",
       "5 WSTARR         146594                        241031                     "
      ]
     },
     "metadata": {},
     "output_type": "display_data"
    }
   ],
   "source": [
    "lst = lst_dat_region_score_deseq_arrange\n",
    "lst = lapply(lst, function(dat){\n",
    "    res = table(dat$Assay_Group, dnn = \"Assay\")\n",
    "    dat = as.data.frame(res)\n",
    "    return(dat)\n",
    "})\n",
    "dat = bind_rows(lst, .id = \"Folder\")\n",
    "dat = dat %>% tidyr::spread(Folder, Freq)\n",
    "dat"
   ]
  },
  {
   "cell_type": "markdown",
   "id": "bb4d0170-87f0-4327-a235-e74ab33e65bb",
   "metadata": {},
   "source": [
    "**Explore: Missing data**"
   ]
  },
  {
   "cell_type": "code",
   "execution_count": 40,
   "id": "aba14fb9-fa26-41aa-a2c0-0f1f920ead85",
   "metadata": {},
   "outputs": [
    {
     "data": {
      "text/html": [
       "<table>\n",
       " <thead>\n",
       "  <tr>\n",
       "   <th style=\"text-align:left;\"> Folder </th>\n",
       "   <th style=\"text-align:right;\"> Chrom </th>\n",
       "   <th style=\"text-align:right;\"> ChromStart </th>\n",
       "   <th style=\"text-align:right;\"> ChromEnd </th>\n",
       "   <th style=\"text-align:right;\"> Region </th>\n",
       "   <th style=\"text-align:right;\"> Score </th>\n",
       "   <th style=\"text-align:right;\"> Zcore </th>\n",
       "   <th style=\"text-align:right;\"> Score_Label </th>\n",
       "   <th style=\"text-align:right;\"> Zcore_Label </th>\n",
       "   <th style=\"text-align:right;\"> Assay_Folder </th>\n",
       "   <th style=\"text-align:right;\"> Assay_Group </th>\n",
       "   <th style=\"text-align:right;\"> Assay_Label </th>\n",
       "  </tr>\n",
       " </thead>\n",
       "<tbody>\n",
       "  <tr>\n",
       "   <td style=\"text-align:left;\"> fcc_astarr_macs_input_overlap </td>\n",
       "   <td style=\"text-align:right;\"> 0 </td>\n",
       "   <td style=\"text-align:right;\"> 0 </td>\n",
       "   <td style=\"text-align:right;\"> 0 </td>\n",
       "   <td style=\"text-align:right;\"> 0 </td>\n",
       "   <td style=\"text-align:right;\"> 0 </td>\n",
       "   <td style=\"text-align:right;\"> 0 </td>\n",
       "   <td style=\"text-align:right;\"> 0 </td>\n",
       "   <td style=\"text-align:right;\"> 0 </td>\n",
       "   <td style=\"text-align:right;\"> 0 </td>\n",
       "   <td style=\"text-align:right;\"> 0 </td>\n",
       "   <td style=\"text-align:right;\"> 0 </td>\n",
       "  </tr>\n",
       "  <tr>\n",
       "   <td style=\"text-align:left;\"> fcc_astarr_macs_input_union </td>\n",
       "   <td style=\"text-align:right;\"> 0 </td>\n",
       "   <td style=\"text-align:right;\"> 0 </td>\n",
       "   <td style=\"text-align:right;\"> 0 </td>\n",
       "   <td style=\"text-align:right;\"> 0 </td>\n",
       "   <td style=\"text-align:right;\"> 0 </td>\n",
       "   <td style=\"text-align:right;\"> 0 </td>\n",
       "   <td style=\"text-align:right;\"> 0 </td>\n",
       "   <td style=\"text-align:right;\"> 0 </td>\n",
       "   <td style=\"text-align:right;\"> 0 </td>\n",
       "   <td style=\"text-align:right;\"> 0 </td>\n",
       "   <td style=\"text-align:right;\"> 0 </td>\n",
       "  </tr>\n",
       "</tbody>\n",
       "</table>"
      ]
     },
     "metadata": {},
     "output_type": "display_data"
    }
   ],
   "source": [
    "lst = lst_dat_region_score_deseq_arrange\n",
    "lst = lapply(lst, function(dat){\n",
    "    lst = lapply(dat, function(vec){\n",
    "        num = sum(is.na(vec))    \n",
    "        return(num)\n",
    "    })\n",
    "    vec = unlist(lst)\n",
    "    return(vec)\n",
    "})\n",
    "\n",
    "dat = bind_rows(lst, .id = \"Folder\")\n",
    "fun_display_table(dat)"
   ]
  },
  {
   "cell_type": "markdown",
   "id": "3f908bed-90c9-4f91-a36a-9ce05636de2e",
   "metadata": {},
   "source": [
    "## Process LMPRA/CRISPRi-HCRFF/CRISPRi-Growth"
   ]
  },
  {
   "cell_type": "markdown",
   "id": "c48bdc32-b49b-416b-95e9-c2ace168c12d",
   "metadata": {},
   "source": [
    "**Prepare assay and file names**"
   ]
  },
  {
   "cell_type": "code",
   "execution_count": 41,
   "id": "0a2190ab-7c18-403b-b8b6-297344ad6fe0",
   "metadata": {},
   "outputs": [],
   "source": [
    "vec_txt_assay = c(\n",
    "    \"CRISPRi_FlowFISH_K562_Riley_JinWoo\",\n",
    "    \"CRISPRi_Growth_K562_Gersbach_JinWoo\", \n",
    "    \"MPRA_Lenti_K562_Nadav_Vikram\"\n",
    ")\n",
    "vec = c(\n",
    "    \"region.coverage.score.filtered.merge.tsv\",\n",
    "    \"region.coverage.score.tsv\",\n",
    "    \"region.coverage.score.log2fc.tsv\"\n",
    ")\n",
    "names(vec) = vec_txt_assay\n",
    "vec_txt_fname = vec"
   ]
  },
  {
   "cell_type": "markdown",
   "id": "ed5a8d33-c5c2-4c8e-928f-cba6c5580bc4",
   "metadata": {},
   "source": [
    "**Check input files**"
   ]
  },
  {
   "cell_type": "code",
   "execution_count": 42,
   "id": "695ff5d3-b779-4bb0-8f5a-075aea5e1c9a",
   "metadata": {},
   "outputs": [
    {
     "name": "stdout",
     "output_type": "stream",
     "text": [
      "/data/reddylab/Kuei/repo/Proj_ENCODE_FCC/results/region_coverage_fcc_score/fcc_astarr_macs_input_overlap/CRISPRi_Growth_K562_Gersbach_JinWoo/summary/region.coverage.score.tsv \n",
      "/data/reddylab/Kuei/repo/Proj_ENCODE_FCC/results/region_coverage_fcc_score/fcc_astarr_macs_input_overlap/MPRA_Lenti_K562_Nadav_Vikram/summary/region.coverage.score.tsv \n"
     ]
    }
   ],
   "source": [
    "txt_region = VEC_TXT_REGION[1]\n",
    "txt_fdiry  = file.path(FD_RES, \"region_coverage_fcc_score\", txt_region)\n",
    "txt_fname  = \"region.coverage.score.tsv\"\n",
    "txt_fglob  = file.path(txt_fdiry, \"*\", \"summary\", txt_fname)\n",
    "\n",
    "vec = Sys.glob(txt_fglob)\n",
    "for (txt in vec) {cat(txt, \"\\n\")}"
   ]
  },
  {
   "cell_type": "code",
   "execution_count": 43,
   "id": "bff527c8-65f6-4f34-b798-f0ad02663f30",
   "metadata": {},
   "outputs": [
    {
     "name": "stdout",
     "output_type": "stream",
     "text": [
      "/data/reddylab/Kuei/repo/Proj_ENCODE_FCC/results/region_coverage_fcc_score/fcc_astarr_macs_input_overlap/CRISPRi_FlowFISH_K562_Riley_JinWoo/summary/region.coverage.score.filtered.merge.tsv \n"
     ]
    }
   ],
   "source": [
    "txt_region = VEC_TXT_REGION[1]\n",
    "txt_fdiry  = file.path(FD_RES, \"region_coverage_fcc_score\", txt_region)\n",
    "txt_fname  = \"region.coverage.score.filtered.merge.tsv\"\n",
    "txt_fglob  = file.path(txt_fdiry, \"*\", \"summary\", txt_fname)\n",
    "\n",
    "vec = Sys.glob(txt_fglob)\n",
    "for (txt in vec) {cat(txt, \"\\n\")}"
   ]
  },
  {
   "cell_type": "markdown",
   "id": "d5aecb35-5684-47b7-aebe-e2fbd418f9fc",
   "metadata": {},
   "source": [
    "### Import data"
   ]
  },
  {
   "cell_type": "code",
   "execution_count": 44,
   "id": "f44c6f39-3449-4824-b8e0-73f29fc66a09",
   "metadata": {},
   "outputs": [
    {
     "name": "stdout",
     "output_type": "stream",
     "text": [
      "$fcc_astarr_macs_input_overlap\n",
      "[1] 135146     16\n",
      "\n",
      "$fcc_astarr_macs_input_union\n",
      "[1] 150115     16\n",
      "\n"
     ]
    },
    {
     "data": {
      "text/html": [
       "<table>\n",
       " <thead>\n",
       "  <tr>\n",
       "   <th style=\"text-align:left;\"> Chrom </th>\n",
       "   <th style=\"text-align:right;\"> ChromStart </th>\n",
       "   <th style=\"text-align:right;\"> ChromEnd </th>\n",
       "   <th style=\"text-align:left;\"> Region </th>\n",
       "   <th style=\"text-align:right;\"> Mean </th>\n",
       "   <th style=\"text-align:right;\"> Mean_Pos </th>\n",
       "   <th style=\"text-align:right;\"> Mean_Neg </th>\n",
       "   <th style=\"text-align:right;\"> Count </th>\n",
       "   <th style=\"text-align:left;\"> Note </th>\n",
       "   <th style=\"text-align:left;\"> Assay_Folder </th>\n",
       "   <th style=\"text-align:left;\"> Assay_Group </th>\n",
       "   <th style=\"text-align:left;\"> Assay_Label </th>\n",
       "   <th style=\"text-align:right;\"> Median </th>\n",
       "   <th style=\"text-align:right;\"> Max </th>\n",
       "   <th style=\"text-align:right;\"> Min </th>\n",
       "   <th style=\"text-align:right;\"> AbsMax </th>\n",
       "  </tr>\n",
       " </thead>\n",
       "<tbody>\n",
       "  <tr>\n",
       "   <td style=\"text-align:left;\"> chr11 </td>\n",
       "   <td style=\"text-align:right;\"> 4092109 </td>\n",
       "   <td style=\"text-align:right;\"> 4092511 </td>\n",
       "   <td style=\"text-align:left;\"> chr11:4092109-4092511 </td>\n",
       "   <td style=\"text-align:right;\"> -0.1294364 </td>\n",
       "   <td style=\"text-align:right;\"> 0.0000000 </td>\n",
       "   <td style=\"text-align:right;\"> -0.2425928 </td>\n",
       "   <td style=\"text-align:right;\"> 320 </td>\n",
       "   <td style=\"text-align:left;\"> HBE1:320|HBG1:320|HBG2:320|HBS1L:320|MYB:320 </td>\n",
       "   <td style=\"text-align:left;\"> CRISPRi_FlowFISH_K562_Riley_JinWoo </td>\n",
       "   <td style=\"text-align:left;\"> CRISPRi-HCRFF </td>\n",
       "   <td style=\"text-align:left;\"> CRISPRi-HCRFF </td>\n",
       "   <td style=\"text-align:right;\"> NA </td>\n",
       "   <td style=\"text-align:right;\"> NA </td>\n",
       "   <td style=\"text-align:right;\"> NA </td>\n",
       "   <td style=\"text-align:right;\"> NA </td>\n",
       "  </tr>\n",
       "  <tr>\n",
       "   <td style=\"text-align:left;\"> chr11 </td>\n",
       "   <td style=\"text-align:right;\"> 4094223 </td>\n",
       "   <td style=\"text-align:right;\"> 4095304 </td>\n",
       "   <td style=\"text-align:left;\"> chr11:4094223-4095304 </td>\n",
       "   <td style=\"text-align:right;\"> -0.0484957 </td>\n",
       "   <td style=\"text-align:right;\"> 0.0946038 </td>\n",
       "   <td style=\"text-align:right;\"> -0.2516657 </td>\n",
       "   <td style=\"text-align:right;\"> 1030 </td>\n",
       "   <td style=\"text-align:left;\"> HBE1:1030|HBG1:1030|HBG2:1030|HBS1L:1030|MYB:1030 </td>\n",
       "   <td style=\"text-align:left;\"> CRISPRi_FlowFISH_K562_Riley_JinWoo </td>\n",
       "   <td style=\"text-align:left;\"> CRISPRi-HCRFF </td>\n",
       "   <td style=\"text-align:left;\"> CRISPRi-HCRFF </td>\n",
       "   <td style=\"text-align:right;\"> NA </td>\n",
       "   <td style=\"text-align:right;\"> NA </td>\n",
       "   <td style=\"text-align:right;\"> NA </td>\n",
       "   <td style=\"text-align:right;\"> NA </td>\n",
       "  </tr>\n",
       "  <tr>\n",
       "   <td style=\"text-align:left;\"> chr11 </td>\n",
       "   <td style=\"text-align:right;\"> 4144721 </td>\n",
       "   <td style=\"text-align:right;\"> 4147004 </td>\n",
       "   <td style=\"text-align:left;\"> chr11:4144721-4147004 </td>\n",
       "   <td style=\"text-align:right;\"> -0.0702490 </td>\n",
       "   <td style=\"text-align:right;\"> 0.0000000 </td>\n",
       "   <td style=\"text-align:right;\"> -0.1515237 </td>\n",
       "   <td style=\"text-align:right;\"> 1185 </td>\n",
       "   <td style=\"text-align:left;\"> HBE1:1185|HBG1:1185|HBG2:1185|HBS1L:1185|MYB:1185 </td>\n",
       "   <td style=\"text-align:left;\"> CRISPRi_FlowFISH_K562_Riley_JinWoo </td>\n",
       "   <td style=\"text-align:left;\"> CRISPRi-HCRFF </td>\n",
       "   <td style=\"text-align:left;\"> CRISPRi-HCRFF </td>\n",
       "   <td style=\"text-align:right;\"> NA </td>\n",
       "   <td style=\"text-align:right;\"> NA </td>\n",
       "   <td style=\"text-align:right;\"> NA </td>\n",
       "   <td style=\"text-align:right;\"> NA </td>\n",
       "  </tr>\n",
       "</tbody>\n",
       "</table>"
      ]
     },
     "metadata": {},
     "output_type": "display_data"
    }
   ],
   "source": [
    "lst = lapply(VEC_TXT_REGION, function(txt_region){\n",
    "    ### loop through each assay and import table\n",
    "    lst = lapply(vec_txt_assay, function(txt_assay){\n",
    "        ### set file glob\n",
    "        txt_fdiry  = file.path(FD_RES, \"region_coverage_fcc_score\", txt_region, txt_assay, \"summary\")\n",
    "        txt_fname = vec_txt_fname[txt_assay]\n",
    "        txt_fpath = file.path(txt_fdiry, txt_fname)\n",
    "\n",
    "        ### import table\n",
    "        dat = read_tsv(txt_fpath, show_col_types = FALSE)\n",
    "        dat = dat %>% dplyr::mutate(\n",
    "            Assay_Folder = fun1(txt_fpath),\n",
    "            Assay_Group  = fun2(txt_fpath),\n",
    "            Assay_Label  = fun3(txt_fpath)\n",
    "        )\n",
    "        return(dat)\n",
    "    }) \n",
    "\n",
    "    ### combine tables\n",
    "    dat = bind_rows(lst)\n",
    "    return(dat)\n",
    "})  \n",
    "\n",
    "### assign and label\n",
    "lst_dat_region_score_other_import = lst\n",
    "\n",
    "res = lapply(lst, dim)\n",
    "print(res)\n",
    "\n",
    "dat = lst[[1]]\n",
    "fun_display_table(head(dat, 3))"
   ]
  },
  {
   "cell_type": "markdown",
   "id": "f651876c-6646-4f9b-98a3-f25fe796bf35",
   "metadata": {},
   "source": [
    "**Explore: count**"
   ]
  },
  {
   "cell_type": "code",
   "execution_count": 45,
   "id": "1d1a4c4b-04b1-44a6-bbcc-46b4d3b50500",
   "metadata": {},
   "outputs": [
    {
     "data": {
      "text/html": [
       "<table class=\"dataframe\">\n",
       "<caption>A data.frame: 3 × 3</caption>\n",
       "<thead>\n",
       "\t<tr><th scope=col>Assay</th><th scope=col>fcc_astarr_macs_input_overlap</th><th scope=col>fcc_astarr_macs_input_union</th></tr>\n",
       "\t<tr><th scope=col>&lt;fct&gt;</th><th scope=col>&lt;int&gt;</th><th scope=col>&lt;int&gt;</th></tr>\n",
       "</thead>\n",
       "<tbody>\n",
       "\t<tr><td>CRISPRi-Growth</td><td>72743</td><td>80288</td></tr>\n",
       "\t<tr><td>CRISPRi-HCRFF </td><td>  925</td><td> 1330</td></tr>\n",
       "\t<tr><td>LMPRA         </td><td>61478</td><td>68497</td></tr>\n",
       "</tbody>\n",
       "</table>\n"
      ],
      "text/latex": [
       "A data.frame: 3 × 3\n",
       "\\begin{tabular}{lll}\n",
       " Assay & fcc\\_astarr\\_macs\\_input\\_overlap & fcc\\_astarr\\_macs\\_input\\_union\\\\\n",
       " <fct> & <int> & <int>\\\\\n",
       "\\hline\n",
       "\t CRISPRi-Growth & 72743 & 80288\\\\\n",
       "\t CRISPRi-HCRFF  &   925 &  1330\\\\\n",
       "\t LMPRA          & 61478 & 68497\\\\\n",
       "\\end{tabular}\n"
      ],
      "text/markdown": [
       "\n",
       "A data.frame: 3 × 3\n",
       "\n",
       "| Assay &lt;fct&gt; | fcc_astarr_macs_input_overlap &lt;int&gt; | fcc_astarr_macs_input_union &lt;int&gt; |\n",
       "|---|---|---|\n",
       "| CRISPRi-Growth | 72743 | 80288 |\n",
       "| CRISPRi-HCRFF  |   925 |  1330 |\n",
       "| LMPRA          | 61478 | 68497 |\n",
       "\n"
      ],
      "text/plain": [
       "  Assay          fcc_astarr_macs_input_overlap fcc_astarr_macs_input_union\n",
       "1 CRISPRi-Growth 72743                         80288                      \n",
       "2 CRISPRi-HCRFF    925                          1330                      \n",
       "3 LMPRA          61478                         68497                      "
      ]
     },
     "metadata": {},
     "output_type": "display_data"
    }
   ],
   "source": [
    "lst = lst_dat_region_score_other_import\n",
    "lst = lapply(lst, function(dat){\n",
    "    res = table(dat$Assay_Group, dnn = \"Assay\")\n",
    "    dat = as.data.frame(res)\n",
    "    return(dat)\n",
    "})\n",
    "dat = bind_rows(lst, .id = \"Folder\")\n",
    "dat = dat %>% tidyr::spread(Folder, Freq)\n",
    "dat"
   ]
  },
  {
   "cell_type": "markdown",
   "id": "0b0cd7bb-bc53-490a-a20a-69cc6db9a75e",
   "metadata": {},
   "source": [
    "**Explore: Missing data**"
   ]
  },
  {
   "cell_type": "code",
   "execution_count": 46,
   "id": "e04f4e90-8fa3-426e-a399-744212045d73",
   "metadata": {},
   "outputs": [
    {
     "data": {
      "text/html": [
       "<table>\n",
       " <thead>\n",
       "  <tr>\n",
       "   <th style=\"text-align:left;\"> Folder </th>\n",
       "   <th style=\"text-align:right;\"> Chrom </th>\n",
       "   <th style=\"text-align:right;\"> ChromStart </th>\n",
       "   <th style=\"text-align:right;\"> ChromEnd </th>\n",
       "   <th style=\"text-align:right;\"> Region </th>\n",
       "   <th style=\"text-align:right;\"> Mean </th>\n",
       "   <th style=\"text-align:right;\"> Mean_Pos </th>\n",
       "   <th style=\"text-align:right;\"> Mean_Neg </th>\n",
       "   <th style=\"text-align:right;\"> Count </th>\n",
       "   <th style=\"text-align:right;\"> Note </th>\n",
       "   <th style=\"text-align:right;\"> Assay_Folder </th>\n",
       "   <th style=\"text-align:right;\"> Assay_Group </th>\n",
       "   <th style=\"text-align:right;\"> Assay_Label </th>\n",
       "   <th style=\"text-align:right;\"> Median </th>\n",
       "   <th style=\"text-align:right;\"> Max </th>\n",
       "   <th style=\"text-align:right;\"> Min </th>\n",
       "   <th style=\"text-align:right;\"> AbsMax </th>\n",
       "  </tr>\n",
       " </thead>\n",
       "<tbody>\n",
       "  <tr>\n",
       "   <td style=\"text-align:left;\"> fcc_astarr_macs_input_overlap </td>\n",
       "   <td style=\"text-align:right;\"> 0 </td>\n",
       "   <td style=\"text-align:right;\"> 0 </td>\n",
       "   <td style=\"text-align:right;\"> 0 </td>\n",
       "   <td style=\"text-align:right;\"> 0 </td>\n",
       "   <td style=\"text-align:right;\"> 0 </td>\n",
       "   <td style=\"text-align:right;\"> 61478 </td>\n",
       "   <td style=\"text-align:right;\"> 61478 </td>\n",
       "   <td style=\"text-align:right;\"> 0 </td>\n",
       "   <td style=\"text-align:right;\"> 134221 </td>\n",
       "   <td style=\"text-align:right;\"> 0 </td>\n",
       "   <td style=\"text-align:right;\"> 0 </td>\n",
       "   <td style=\"text-align:right;\"> 0 </td>\n",
       "   <td style=\"text-align:right;\"> 925 </td>\n",
       "   <td style=\"text-align:right;\"> 925 </td>\n",
       "   <td style=\"text-align:right;\"> 925 </td>\n",
       "   <td style=\"text-align:right;\"> 73668 </td>\n",
       "  </tr>\n",
       "  <tr>\n",
       "   <td style=\"text-align:left;\"> fcc_astarr_macs_input_union </td>\n",
       "   <td style=\"text-align:right;\"> 0 </td>\n",
       "   <td style=\"text-align:right;\"> 0 </td>\n",
       "   <td style=\"text-align:right;\"> 0 </td>\n",
       "   <td style=\"text-align:right;\"> 0 </td>\n",
       "   <td style=\"text-align:right;\"> 0 </td>\n",
       "   <td style=\"text-align:right;\"> 68497 </td>\n",
       "   <td style=\"text-align:right;\"> 68497 </td>\n",
       "   <td style=\"text-align:right;\"> 0 </td>\n",
       "   <td style=\"text-align:right;\"> 148785 </td>\n",
       "   <td style=\"text-align:right;\"> 0 </td>\n",
       "   <td style=\"text-align:right;\"> 0 </td>\n",
       "   <td style=\"text-align:right;\"> 0 </td>\n",
       "   <td style=\"text-align:right;\"> 1330 </td>\n",
       "   <td style=\"text-align:right;\"> 1330 </td>\n",
       "   <td style=\"text-align:right;\"> 1330 </td>\n",
       "   <td style=\"text-align:right;\"> 81618 </td>\n",
       "  </tr>\n",
       "</tbody>\n",
       "</table>"
      ]
     },
     "metadata": {},
     "output_type": "display_data"
    }
   ],
   "source": [
    "lst = lst_dat_region_score_other_import\n",
    "lst = lapply(lst, function(dat){\n",
    "    lst = lapply(dat, function(vec){\n",
    "        num = sum(is.na(vec))    \n",
    "        return(num)\n",
    "    })\n",
    "    vec = unlist(lst)\n",
    "    return(vec)\n",
    "})\n",
    "\n",
    "dat = bind_rows(lst, .id = \"Folder\")\n",
    "fun_display_table(dat)"
   ]
  },
  {
   "cell_type": "markdown",
   "id": "969de4ee-155b-431a-b41a-63fbd82d0a98",
   "metadata": {},
   "source": [
    "### Summarize FCC effect sizes"
   ]
  },
  {
   "cell_type": "code",
   "execution_count": 47,
   "id": "c9beedd0-814d-4f08-abbe-9bdcaadd96c4",
   "metadata": {},
   "outputs": [
    {
     "name": "stdout",
     "output_type": "stream",
     "text": [
      "$fcc_astarr_macs_input_overlap\n",
      "[1] 135146     11\n",
      "\n",
      "$fcc_astarr_macs_input_union\n",
      "[1] 150115     11\n",
      "\n"
     ]
    },
    {
     "data": {
      "text/html": [
       "<table>\n",
       " <thead>\n",
       "  <tr>\n",
       "   <th style=\"text-align:left;\"> Chrom </th>\n",
       "   <th style=\"text-align:right;\"> ChromStart </th>\n",
       "   <th style=\"text-align:right;\"> ChromEnd </th>\n",
       "   <th style=\"text-align:left;\"> Region </th>\n",
       "   <th style=\"text-align:right;\"> Score </th>\n",
       "   <th style=\"text-align:right;\"> Zcore </th>\n",
       "   <th style=\"text-align:left;\"> Score_Label </th>\n",
       "   <th style=\"text-align:left;\"> Zcore_Label </th>\n",
       "   <th style=\"text-align:left;\"> Assay_Folder </th>\n",
       "   <th style=\"text-align:left;\"> Assay_Group </th>\n",
       "   <th style=\"text-align:left;\"> Assay_Label </th>\n",
       "  </tr>\n",
       " </thead>\n",
       "<tbody>\n",
       "  <tr>\n",
       "   <td style=\"text-align:left;\"> chr1 </td>\n",
       "   <td style=\"text-align:right;\"> 115429 </td>\n",
       "   <td style=\"text-align:right;\"> 115969 </td>\n",
       "   <td style=\"text-align:left;\"> chr1:115429-115969 </td>\n",
       "   <td style=\"text-align:right;\"> 0.040 </td>\n",
       "   <td style=\"text-align:right;\"> 0.1663499 </td>\n",
       "   <td style=\"text-align:left;\"> Mean(ZScore) </td>\n",
       "   <td style=\"text-align:left;\"> Scale(Mean(ZScore)) </td>\n",
       "   <td style=\"text-align:left;\"> MPRA_Lenti_K562_Nadav_Vikram </td>\n",
       "   <td style=\"text-align:left;\"> LMPRA </td>\n",
       "   <td style=\"text-align:left;\"> LMPRA </td>\n",
       "  </tr>\n",
       "  <tr>\n",
       "   <td style=\"text-align:left;\"> chr1 </td>\n",
       "   <td style=\"text-align:right;\"> 138321 </td>\n",
       "   <td style=\"text-align:right;\"> 139517 </td>\n",
       "   <td style=\"text-align:left;\"> chr1:138321-139517 </td>\n",
       "   <td style=\"text-align:right;\"> -0.322 </td>\n",
       "   <td style=\"text-align:right;\"> -0.5919431 </td>\n",
       "   <td style=\"text-align:left;\"> Mean(ZScore) </td>\n",
       "   <td style=\"text-align:left;\"> Scale(Mean(ZScore)) </td>\n",
       "   <td style=\"text-align:left;\"> MPRA_Lenti_K562_Nadav_Vikram </td>\n",
       "   <td style=\"text-align:left;\"> LMPRA </td>\n",
       "   <td style=\"text-align:left;\"> LMPRA </td>\n",
       "  </tr>\n",
       "  <tr>\n",
       "   <td style=\"text-align:left;\"> chr1 </td>\n",
       "   <td style=\"text-align:right;\"> 267910 </td>\n",
       "   <td style=\"text-align:right;\"> 268557 </td>\n",
       "   <td style=\"text-align:left;\"> chr1:267910-268557 </td>\n",
       "   <td style=\"text-align:right;\"> -0.371 </td>\n",
       "   <td style=\"text-align:right;\"> -0.6945850 </td>\n",
       "   <td style=\"text-align:left;\"> Mean(ZScore) </td>\n",
       "   <td style=\"text-align:left;\"> Scale(Mean(ZScore)) </td>\n",
       "   <td style=\"text-align:left;\"> MPRA_Lenti_K562_Nadav_Vikram </td>\n",
       "   <td style=\"text-align:left;\"> LMPRA </td>\n",
       "   <td style=\"text-align:left;\"> LMPRA </td>\n",
       "  </tr>\n",
       "</tbody>\n",
       "</table>"
      ]
     },
     "metadata": {},
     "output_type": "display_data"
    }
   ],
   "source": [
    "lst = lst_dat_region_score_other_import\n",
    "lst = lapply(lst, function(dat){\n",
    "    ### process scores\n",
    "    dat = dat %>% \n",
    "        dplyr::group_by(Assay_Group) %>%\n",
    "        dplyr::mutate(\n",
    "            Score = Mean,\n",
    "            #Zcore = Mean,\n",
    "            Zcore = as.vector(scale(Mean)),\n",
    "            Score_Label = \"Mean(ZScore)\",\n",
    "            Zcore_Label = \"Scale(Mean(ZScore))\"\n",
    "        ) %>%\n",
    "        dplyr::ungroup()\n",
    "\n",
    "    ### arrange results\n",
    "    dat = dat %>% \n",
    "        dplyr::select(\n",
    "            Chrom, ChromStart, ChromEnd, Region, \n",
    "            Score, \n",
    "            Zcore,\n",
    "            Score_Label,\n",
    "            Zcore_Label,\n",
    "            Assay_Folder,\n",
    "            Assay_Group,\n",
    "            Assay_Label\n",
    "        ) %>%\n",
    "        dplyr::arrange(Chrom, ChromStart, ChromEnd)\n",
    "    return(dat)\n",
    "})  \n",
    "\n",
    "### assign and label\n",
    "lst_dat_region_score_other_arrange = lst\n",
    "\n",
    "res = lapply(lst, dim)\n",
    "print(res)\n",
    "\n",
    "dat = lst[[1]]\n",
    "fun_display_table(head(dat, 3))"
   ]
  },
  {
   "cell_type": "markdown",
   "id": "2393f29d-590f-49b5-a517-2308349916e0",
   "metadata": {},
   "source": [
    "**Explore: count**"
   ]
  },
  {
   "cell_type": "code",
   "execution_count": 48,
   "id": "00ae564d-e81b-4250-b57b-6f797129695d",
   "metadata": {},
   "outputs": [
    {
     "data": {
      "text/html": [
       "<table class=\"dataframe\">\n",
       "<caption>A data.frame: 3 × 3</caption>\n",
       "<thead>\n",
       "\t<tr><th scope=col>Assay</th><th scope=col>fcc_astarr_macs_input_overlap</th><th scope=col>fcc_astarr_macs_input_union</th></tr>\n",
       "\t<tr><th scope=col>&lt;fct&gt;</th><th scope=col>&lt;int&gt;</th><th scope=col>&lt;int&gt;</th></tr>\n",
       "</thead>\n",
       "<tbody>\n",
       "\t<tr><td>CRISPRi-Growth</td><td>72743</td><td>80288</td></tr>\n",
       "\t<tr><td>CRISPRi-HCRFF </td><td>  925</td><td> 1330</td></tr>\n",
       "\t<tr><td>LMPRA         </td><td>61478</td><td>68497</td></tr>\n",
       "</tbody>\n",
       "</table>\n"
      ],
      "text/latex": [
       "A data.frame: 3 × 3\n",
       "\\begin{tabular}{lll}\n",
       " Assay & fcc\\_astarr\\_macs\\_input\\_overlap & fcc\\_astarr\\_macs\\_input\\_union\\\\\n",
       " <fct> & <int> & <int>\\\\\n",
       "\\hline\n",
       "\t CRISPRi-Growth & 72743 & 80288\\\\\n",
       "\t CRISPRi-HCRFF  &   925 &  1330\\\\\n",
       "\t LMPRA          & 61478 & 68497\\\\\n",
       "\\end{tabular}\n"
      ],
      "text/markdown": [
       "\n",
       "A data.frame: 3 × 3\n",
       "\n",
       "| Assay &lt;fct&gt; | fcc_astarr_macs_input_overlap &lt;int&gt; | fcc_astarr_macs_input_union &lt;int&gt; |\n",
       "|---|---|---|\n",
       "| CRISPRi-Growth | 72743 | 80288 |\n",
       "| CRISPRi-HCRFF  |   925 |  1330 |\n",
       "| LMPRA          | 61478 | 68497 |\n",
       "\n"
      ],
      "text/plain": [
       "  Assay          fcc_astarr_macs_input_overlap fcc_astarr_macs_input_union\n",
       "1 CRISPRi-Growth 72743                         80288                      \n",
       "2 CRISPRi-HCRFF    925                          1330                      \n",
       "3 LMPRA          61478                         68497                      "
      ]
     },
     "metadata": {},
     "output_type": "display_data"
    }
   ],
   "source": [
    "lst = lst_dat_region_score_other_arrange\n",
    "lst = lapply(lst, function(dat){\n",
    "    res = table(dat$Assay_Group, dnn = \"Assay\")\n",
    "    dat = as.data.frame(res)\n",
    "    return(dat)\n",
    "})\n",
    "dat = bind_rows(lst, .id = \"Folder\")\n",
    "dat = dat %>% tidyr::spread(Folder, Freq)\n",
    "dat"
   ]
  },
  {
   "cell_type": "markdown",
   "id": "0e848dac-55be-4ea2-930d-1073f34486cd",
   "metadata": {},
   "source": [
    "**Explore: Missing data**"
   ]
  },
  {
   "cell_type": "code",
   "execution_count": 49,
   "id": "04080245-c67a-45df-bf2c-54ab2e86148c",
   "metadata": {},
   "outputs": [
    {
     "data": {
      "text/html": [
       "<table>\n",
       " <thead>\n",
       "  <tr>\n",
       "   <th style=\"text-align:left;\"> Folder </th>\n",
       "   <th style=\"text-align:right;\"> Chrom </th>\n",
       "   <th style=\"text-align:right;\"> ChromStart </th>\n",
       "   <th style=\"text-align:right;\"> ChromEnd </th>\n",
       "   <th style=\"text-align:right;\"> Region </th>\n",
       "   <th style=\"text-align:right;\"> Score </th>\n",
       "   <th style=\"text-align:right;\"> Zcore </th>\n",
       "   <th style=\"text-align:right;\"> Score_Label </th>\n",
       "   <th style=\"text-align:right;\"> Zcore_Label </th>\n",
       "   <th style=\"text-align:right;\"> Assay_Folder </th>\n",
       "   <th style=\"text-align:right;\"> Assay_Group </th>\n",
       "   <th style=\"text-align:right;\"> Assay_Label </th>\n",
       "  </tr>\n",
       " </thead>\n",
       "<tbody>\n",
       "  <tr>\n",
       "   <td style=\"text-align:left;\"> fcc_astarr_macs_input_overlap </td>\n",
       "   <td style=\"text-align:right;\"> 0 </td>\n",
       "   <td style=\"text-align:right;\"> 0 </td>\n",
       "   <td style=\"text-align:right;\"> 0 </td>\n",
       "   <td style=\"text-align:right;\"> 0 </td>\n",
       "   <td style=\"text-align:right;\"> 0 </td>\n",
       "   <td style=\"text-align:right;\"> 0 </td>\n",
       "   <td style=\"text-align:right;\"> 0 </td>\n",
       "   <td style=\"text-align:right;\"> 0 </td>\n",
       "   <td style=\"text-align:right;\"> 0 </td>\n",
       "   <td style=\"text-align:right;\"> 0 </td>\n",
       "   <td style=\"text-align:right;\"> 0 </td>\n",
       "  </tr>\n",
       "  <tr>\n",
       "   <td style=\"text-align:left;\"> fcc_astarr_macs_input_union </td>\n",
       "   <td style=\"text-align:right;\"> 0 </td>\n",
       "   <td style=\"text-align:right;\"> 0 </td>\n",
       "   <td style=\"text-align:right;\"> 0 </td>\n",
       "   <td style=\"text-align:right;\"> 0 </td>\n",
       "   <td style=\"text-align:right;\"> 0 </td>\n",
       "   <td style=\"text-align:right;\"> 0 </td>\n",
       "   <td style=\"text-align:right;\"> 0 </td>\n",
       "   <td style=\"text-align:right;\"> 0 </td>\n",
       "   <td style=\"text-align:right;\"> 0 </td>\n",
       "   <td style=\"text-align:right;\"> 0 </td>\n",
       "   <td style=\"text-align:right;\"> 0 </td>\n",
       "  </tr>\n",
       "</tbody>\n",
       "</table>"
      ]
     },
     "metadata": {},
     "output_type": "display_data"
    }
   ],
   "source": [
    "lst = lst_dat_region_score_other_arrange\n",
    "lst = lapply(lst, function(dat){\n",
    "    lst = lapply(dat, function(vec){\n",
    "        num = sum(is.na(vec))    \n",
    "        return(num)\n",
    "    })\n",
    "    vec = unlist(lst)\n",
    "    return(vec)\n",
    "})\n",
    "\n",
    "dat = bind_rows(lst, .id = \"Folder\")\n",
    "fun_display_table(dat)"
   ]
  },
  {
   "cell_type": "markdown",
   "id": "c934d65d-2bd1-44a3-9cc6-428edbda0c4b",
   "metadata": {},
   "source": [
    "## Combine scores from all FCC assays"
   ]
  },
  {
   "cell_type": "code",
   "execution_count": 50,
   "id": "c7f1dcb0-7dc5-4f98-95fa-7094789f18a1",
   "metadata": {},
   "outputs": [
    {
     "name": "stdout",
     "output_type": "stream",
     "text": [
      "$fcc_astarr_macs_input_overlap\n",
      "[1] 733009     11\n",
      "\n",
      "$fcc_astarr_macs_input_union\n",
      "[1] 1133419      11\n",
      "\n"
     ]
    },
    {
     "data": {
      "text/html": [
       "<table class=\"dataframe\">\n",
       "<caption>A tibble: 3 × 11</caption>\n",
       "<thead>\n",
       "\t<tr><th scope=col>Chrom</th><th scope=col>ChromStart</th><th scope=col>ChromEnd</th><th scope=col>Region</th><th scope=col>Score</th><th scope=col>Zcore</th><th scope=col>Score_Label</th><th scope=col>Zcore_Label</th><th scope=col>Assay_Folder</th><th scope=col>Assay_Group</th><th scope=col>Assay_Label</th></tr>\n",
       "\t<tr><th scope=col>&lt;chr&gt;</th><th scope=col>&lt;dbl&gt;</th><th scope=col>&lt;dbl&gt;</th><th scope=col>&lt;chr&gt;</th><th scope=col>&lt;dbl&gt;</th><th scope=col>&lt;dbl&gt;</th><th scope=col>&lt;chr&gt;</th><th scope=col>&lt;chr&gt;</th><th scope=col>&lt;chr&gt;</th><th scope=col>&lt;chr&gt;</th><th scope=col>&lt;chr&gt;</th></tr>\n",
       "</thead>\n",
       "<tbody>\n",
       "\t<tr><td>chr1</td><td>10038</td><td>10405</td><td>chr1:10038-10405</td><td>-7.067991</td><td>-11.824755</td><td>Log2FC</td><td>Scale(Log2FC)</td><td>STARR_ATAC_K562_Reddy_KS274  </td><td>ASTARR_KS274  </td><td>ASTARR</td></tr>\n",
       "\t<tr><td>chr1</td><td>10038</td><td>10405</td><td>chr1:10038-10405</td><td>-2.234853</td><td> -3.557362</td><td>Log2FC</td><td>Scale(Log2FC)</td><td>STARR_ATAC_K562_Reddy_KS91   </td><td>ASTARR_KS91   </td><td>ASTARR</td></tr>\n",
       "\t<tr><td>chr1</td><td>10038</td><td>10405</td><td>chr1:10038-10405</td><td>-2.237409</td><td> -3.552832</td><td>Log2FC</td><td>Scale(Log2FC)</td><td>STARR_ATAC_K562_Reddy_KSMerge</td><td>ASTARR_KSMerge</td><td>ASTARR</td></tr>\n",
       "</tbody>\n",
       "</table>\n"
      ],
      "text/latex": [
       "A tibble: 3 × 11\n",
       "\\begin{tabular}{lllllllllll}\n",
       " Chrom & ChromStart & ChromEnd & Region & Score & Zcore & Score\\_Label & Zcore\\_Label & Assay\\_Folder & Assay\\_Group & Assay\\_Label\\\\\n",
       " <chr> & <dbl> & <dbl> & <chr> & <dbl> & <dbl> & <chr> & <chr> & <chr> & <chr> & <chr>\\\\\n",
       "\\hline\n",
       "\t chr1 & 10038 & 10405 & chr1:10038-10405 & -7.067991 & -11.824755 & Log2FC & Scale(Log2FC) & STARR\\_ATAC\\_K562\\_Reddy\\_KS274   & ASTARR\\_KS274   & ASTARR\\\\\n",
       "\t chr1 & 10038 & 10405 & chr1:10038-10405 & -2.234853 &  -3.557362 & Log2FC & Scale(Log2FC) & STARR\\_ATAC\\_K562\\_Reddy\\_KS91    & ASTARR\\_KS91    & ASTARR\\\\\n",
       "\t chr1 & 10038 & 10405 & chr1:10038-10405 & -2.237409 &  -3.552832 & Log2FC & Scale(Log2FC) & STARR\\_ATAC\\_K562\\_Reddy\\_KSMerge & ASTARR\\_KSMerge & ASTARR\\\\\n",
       "\\end{tabular}\n"
      ],
      "text/markdown": [
       "\n",
       "A tibble: 3 × 11\n",
       "\n",
       "| Chrom &lt;chr&gt; | ChromStart &lt;dbl&gt; | ChromEnd &lt;dbl&gt; | Region &lt;chr&gt; | Score &lt;dbl&gt; | Zcore &lt;dbl&gt; | Score_Label &lt;chr&gt; | Zcore_Label &lt;chr&gt; | Assay_Folder &lt;chr&gt; | Assay_Group &lt;chr&gt; | Assay_Label &lt;chr&gt; |\n",
       "|---|---|---|---|---|---|---|---|---|---|---|\n",
       "| chr1 | 10038 | 10405 | chr1:10038-10405 | -7.067991 | -11.824755 | Log2FC | Scale(Log2FC) | STARR_ATAC_K562_Reddy_KS274   | ASTARR_KS274   | ASTARR |\n",
       "| chr1 | 10038 | 10405 | chr1:10038-10405 | -2.234853 |  -3.557362 | Log2FC | Scale(Log2FC) | STARR_ATAC_K562_Reddy_KS91    | ASTARR_KS91    | ASTARR |\n",
       "| chr1 | 10038 | 10405 | chr1:10038-10405 | -2.237409 |  -3.552832 | Log2FC | Scale(Log2FC) | STARR_ATAC_K562_Reddy_KSMerge | ASTARR_KSMerge | ASTARR |\n",
       "\n"
      ],
      "text/plain": [
       "  Chrom ChromStart ChromEnd Region           Score     Zcore      Score_Label\n",
       "1 chr1  10038      10405    chr1:10038-10405 -7.067991 -11.824755 Log2FC     \n",
       "2 chr1  10038      10405    chr1:10038-10405 -2.234853  -3.557362 Log2FC     \n",
       "3 chr1  10038      10405    chr1:10038-10405 -2.237409  -3.552832 Log2FC     \n",
       "  Zcore_Label   Assay_Folder                  Assay_Group    Assay_Label\n",
       "1 Scale(Log2FC) STARR_ATAC_K562_Reddy_KS274   ASTARR_KS274   ASTARR     \n",
       "2 Scale(Log2FC) STARR_ATAC_K562_Reddy_KS91    ASTARR_KS91    ASTARR     \n",
       "3 Scale(Log2FC) STARR_ATAC_K562_Reddy_KSMerge ASTARR_KSMerge ASTARR     "
      ]
     },
     "metadata": {},
     "output_type": "display_data"
    }
   ],
   "source": [
    "lst = lapply(VEC_TXT_REGION, function(txt_region){\n",
    "    ### get tables\n",
    "    dat1 = lst_dat_region_score_deseq_arrange[[txt_region]]\n",
    "    dat2 = lst_dat_region_score_other_arrange[[txt_region]]\n",
    "    \n",
    "    ### combine tables\n",
    "    dat = bind_rows(dat1, dat2)\n",
    "    return(dat)\n",
    "})\n",
    "\n",
    "### assign and show\n",
    "lst_dat_region_score_total = lst\n",
    "\n",
    "res = lapply(lst, dim)\n",
    "print(res)\n",
    "\n",
    "dat = lst[[1]]\n",
    "head(dat, 3)"
   ]
  },
  {
   "cell_type": "markdown",
   "id": "2bd757d2-9b3b-4857-8559-629888e61c1f",
   "metadata": {},
   "source": [
    "**Explore: count**"
   ]
  },
  {
   "cell_type": "code",
   "execution_count": 51,
   "id": "0866d66f-7849-4d67-ad78-0a0ef83dd017",
   "metadata": {},
   "outputs": [
    {
     "data": {
      "text/html": [
       "<table class=\"dataframe\">\n",
       "<caption>A data.frame: 8 × 3</caption>\n",
       "<thead>\n",
       "\t<tr><th scope=col>Assay</th><th scope=col>fcc_astarr_macs_input_overlap</th><th scope=col>fcc_astarr_macs_input_union</th></tr>\n",
       "\t<tr><th scope=col>&lt;fct&gt;</th><th scope=col>&lt;int&gt;</th><th scope=col>&lt;int&gt;</th></tr>\n",
       "</thead>\n",
       "<tbody>\n",
       "\t<tr><td>ASTARR_KS274  </td><td>150041</td><td>246851</td></tr>\n",
       "\t<tr><td>ASTARR_KS91   </td><td>150040</td><td>246850</td></tr>\n",
       "\t<tr><td>ASTARR_KSMerge</td><td>150040</td><td>246850</td></tr>\n",
       "\t<tr><td>CRISPRi-Growth</td><td> 72743</td><td> 80288</td></tr>\n",
       "\t<tr><td>CRISPRi-HCRFF </td><td>   925</td><td>  1330</td></tr>\n",
       "\t<tr><td>LMPRA         </td><td> 61478</td><td> 68497</td></tr>\n",
       "\t<tr><td>TMPRA         </td><td>  1148</td><td>  1722</td></tr>\n",
       "\t<tr><td>WSTARR        </td><td>146594</td><td>241031</td></tr>\n",
       "</tbody>\n",
       "</table>\n"
      ],
      "text/latex": [
       "A data.frame: 8 × 3\n",
       "\\begin{tabular}{lll}\n",
       " Assay & fcc\\_astarr\\_macs\\_input\\_overlap & fcc\\_astarr\\_macs\\_input\\_union\\\\\n",
       " <fct> & <int> & <int>\\\\\n",
       "\\hline\n",
       "\t ASTARR\\_KS274   & 150041 & 246851\\\\\n",
       "\t ASTARR\\_KS91    & 150040 & 246850\\\\\n",
       "\t ASTARR\\_KSMerge & 150040 & 246850\\\\\n",
       "\t CRISPRi-Growth &  72743 &  80288\\\\\n",
       "\t CRISPRi-HCRFF  &    925 &   1330\\\\\n",
       "\t LMPRA          &  61478 &  68497\\\\\n",
       "\t TMPRA          &   1148 &   1722\\\\\n",
       "\t WSTARR         & 146594 & 241031\\\\\n",
       "\\end{tabular}\n"
      ],
      "text/markdown": [
       "\n",
       "A data.frame: 8 × 3\n",
       "\n",
       "| Assay &lt;fct&gt; | fcc_astarr_macs_input_overlap &lt;int&gt; | fcc_astarr_macs_input_union &lt;int&gt; |\n",
       "|---|---|---|\n",
       "| ASTARR_KS274   | 150041 | 246851 |\n",
       "| ASTARR_KS91    | 150040 | 246850 |\n",
       "| ASTARR_KSMerge | 150040 | 246850 |\n",
       "| CRISPRi-Growth |  72743 |  80288 |\n",
       "| CRISPRi-HCRFF  |    925 |   1330 |\n",
       "| LMPRA          |  61478 |  68497 |\n",
       "| TMPRA          |   1148 |   1722 |\n",
       "| WSTARR         | 146594 | 241031 |\n",
       "\n"
      ],
      "text/plain": [
       "  Assay          fcc_astarr_macs_input_overlap fcc_astarr_macs_input_union\n",
       "1 ASTARR_KS274   150041                        246851                     \n",
       "2 ASTARR_KS91    150040                        246850                     \n",
       "3 ASTARR_KSMerge 150040                        246850                     \n",
       "4 CRISPRi-Growth  72743                         80288                     \n",
       "5 CRISPRi-HCRFF     925                          1330                     \n",
       "6 LMPRA           61478                         68497                     \n",
       "7 TMPRA            1148                          1722                     \n",
       "8 WSTARR         146594                        241031                     "
      ]
     },
     "metadata": {},
     "output_type": "display_data"
    }
   ],
   "source": [
    "lst = lst_dat_region_score_total\n",
    "lst = lapply(lst, function(dat){\n",
    "    res = table(dat$Assay_Group, dnn = \"Assay\")\n",
    "    dat = as.data.frame(res)\n",
    "    return(dat)\n",
    "})\n",
    "dat = bind_rows(lst, .id = \"Folder\")\n",
    "dat = dat %>% tidyr::spread(Folder, Freq)\n",
    "dat"
   ]
  },
  {
   "cell_type": "markdown",
   "id": "eb0c1466-6b0a-4f64-b223-a51eded255e1",
   "metadata": {},
   "source": [
    "## Filter assays (choose one across different ASTARR assays)"
   ]
  },
  {
   "cell_type": "code",
   "execution_count": 52,
   "id": "b09eac65-5dcc-48c4-abc6-b7815d9c4768",
   "metadata": {},
   "outputs": [
    {
     "name": "stdout",
     "output_type": "stream",
     "text": [
      "$fcc_astarr_macs_input_overlap\n",
      "[1] 432928     11\n",
      "\n",
      "$fcc_astarr_macs_input_union\n",
      "[1] 639718     11\n",
      "\n"
     ]
    },
    {
     "data": {
      "text/html": [
       "<table class=\"dataframe\">\n",
       "<caption>A tibble: 3 × 11</caption>\n",
       "<thead>\n",
       "\t<tr><th scope=col>Chrom</th><th scope=col>ChromStart</th><th scope=col>ChromEnd</th><th scope=col>Region</th><th scope=col>Score</th><th scope=col>Zcore</th><th scope=col>Score_Label</th><th scope=col>Zcore_Label</th><th scope=col>Assay_Folder</th><th scope=col>Assay_Group</th><th scope=col>Assay_Label</th></tr>\n",
       "\t<tr><th scope=col>&lt;chr&gt;</th><th scope=col>&lt;dbl&gt;</th><th scope=col>&lt;dbl&gt;</th><th scope=col>&lt;chr&gt;</th><th scope=col>&lt;dbl&gt;</th><th scope=col>&lt;dbl&gt;</th><th scope=col>&lt;chr&gt;</th><th scope=col>&lt;chr&gt;</th><th scope=col>&lt;chr&gt;</th><th scope=col>&lt;chr&gt;</th><th scope=col>&lt;chr&gt;</th></tr>\n",
       "</thead>\n",
       "<tbody>\n",
       "\t<tr><td>chr1</td><td>10038</td><td>10405</td><td>chr1:10038-10405</td><td>-2.23485265</td><td>-3.5573621</td><td>Log2FC</td><td>Scale(Log2FC)</td><td>STARR_ATAC_K562_Reddy_KS91</td><td>ASTARR_KS91</td><td>ASTARR</td></tr>\n",
       "\t<tr><td>chr1</td><td>14282</td><td>14614</td><td>chr1:14282-14614</td><td> 0.03179044</td><td> 0.0361388</td><td>Log2FC</td><td>Scale(Log2FC)</td><td>STARR_ATAC_K562_Reddy_KS91</td><td>ASTARR_KS91</td><td>ASTARR</td></tr>\n",
       "\t<tr><td>chr1</td><td>16025</td><td>16338</td><td>chr1:16025-16338</td><td>-1.33934060</td><td>-2.1376311</td><td>Log2FC</td><td>Scale(Log2FC)</td><td>STARR_ATAC_K562_Reddy_KS91</td><td>ASTARR_KS91</td><td>ASTARR</td></tr>\n",
       "</tbody>\n",
       "</table>\n"
      ],
      "text/latex": [
       "A tibble: 3 × 11\n",
       "\\begin{tabular}{lllllllllll}\n",
       " Chrom & ChromStart & ChromEnd & Region & Score & Zcore & Score\\_Label & Zcore\\_Label & Assay\\_Folder & Assay\\_Group & Assay\\_Label\\\\\n",
       " <chr> & <dbl> & <dbl> & <chr> & <dbl> & <dbl> & <chr> & <chr> & <chr> & <chr> & <chr>\\\\\n",
       "\\hline\n",
       "\t chr1 & 10038 & 10405 & chr1:10038-10405 & -2.23485265 & -3.5573621 & Log2FC & Scale(Log2FC) & STARR\\_ATAC\\_K562\\_Reddy\\_KS91 & ASTARR\\_KS91 & ASTARR\\\\\n",
       "\t chr1 & 14282 & 14614 & chr1:14282-14614 &  0.03179044 &  0.0361388 & Log2FC & Scale(Log2FC) & STARR\\_ATAC\\_K562\\_Reddy\\_KS91 & ASTARR\\_KS91 & ASTARR\\\\\n",
       "\t chr1 & 16025 & 16338 & chr1:16025-16338 & -1.33934060 & -2.1376311 & Log2FC & Scale(Log2FC) & STARR\\_ATAC\\_K562\\_Reddy\\_KS91 & ASTARR\\_KS91 & ASTARR\\\\\n",
       "\\end{tabular}\n"
      ],
      "text/markdown": [
       "\n",
       "A tibble: 3 × 11\n",
       "\n",
       "| Chrom &lt;chr&gt; | ChromStart &lt;dbl&gt; | ChromEnd &lt;dbl&gt; | Region &lt;chr&gt; | Score &lt;dbl&gt; | Zcore &lt;dbl&gt; | Score_Label &lt;chr&gt; | Zcore_Label &lt;chr&gt; | Assay_Folder &lt;chr&gt; | Assay_Group &lt;chr&gt; | Assay_Label &lt;chr&gt; |\n",
       "|---|---|---|---|---|---|---|---|---|---|---|\n",
       "| chr1 | 10038 | 10405 | chr1:10038-10405 | -2.23485265 | -3.5573621 | Log2FC | Scale(Log2FC) | STARR_ATAC_K562_Reddy_KS91 | ASTARR_KS91 | ASTARR |\n",
       "| chr1 | 14282 | 14614 | chr1:14282-14614 |  0.03179044 |  0.0361388 | Log2FC | Scale(Log2FC) | STARR_ATAC_K562_Reddy_KS91 | ASTARR_KS91 | ASTARR |\n",
       "| chr1 | 16025 | 16338 | chr1:16025-16338 | -1.33934060 | -2.1376311 | Log2FC | Scale(Log2FC) | STARR_ATAC_K562_Reddy_KS91 | ASTARR_KS91 | ASTARR |\n",
       "\n"
      ],
      "text/plain": [
       "  Chrom ChromStart ChromEnd Region           Score       Zcore      Score_Label\n",
       "1 chr1  10038      10405    chr1:10038-10405 -2.23485265 -3.5573621 Log2FC     \n",
       "2 chr1  14282      14614    chr1:14282-14614  0.03179044  0.0361388 Log2FC     \n",
       "3 chr1  16025      16338    chr1:16025-16338 -1.33934060 -2.1376311 Log2FC     \n",
       "  Zcore_Label   Assay_Folder               Assay_Group Assay_Label\n",
       "1 Scale(Log2FC) STARR_ATAC_K562_Reddy_KS91 ASTARR_KS91 ASTARR     \n",
       "2 Scale(Log2FC) STARR_ATAC_K562_Reddy_KS91 ASTARR_KS91 ASTARR     \n",
       "3 Scale(Log2FC) STARR_ATAC_K562_Reddy_KS91 ASTARR_KS91 ASTARR     "
      ]
     },
     "metadata": {},
     "output_type": "display_data"
    }
   ],
   "source": [
    "### init: assays\n",
    "vec_txt_assay = c(\n",
    "    \"CRISPRi_FlowFISH_K562_Riley_JinWoo\",\n",
    "    \"CRISPRi_Growth_K562_Gersbach_JinWoo\", \n",
    "    \"MPRA_Lenti_K562_Nadav_Vikram\", \n",
    "    \"MPRA_Tiling_K562_Tewhey_Hannah\", \n",
    "    \"STARR_ATAC_K562_Reddy_KS91\", \n",
    "    \"STARR_WHG_K562_Reddy_A001\"\n",
    ")\n",
    "\n",
    "### filter score table by assays\n",
    "lst = lst_dat_region_score_total\n",
    "lst = lapply(lst, function(dat){\n",
    "    dat = dat %>% dplyr::filter(Assay_Folder %in% vec_txt_assay)\n",
    "    return(dat)\n",
    "})\n",
    "\n",
    "### assign and show\n",
    "lst_dat_region_score_final = lst\n",
    "\n",
    "res = lapply(lst, dim)\n",
    "print(res)\n",
    "\n",
    "dat = lst[[1]]\n",
    "head(dat, 3)"
   ]
  },
  {
   "cell_type": "markdown",
   "id": "d342d5bb-3044-4fe0-bbb5-aad3d3868a22",
   "metadata": {},
   "source": [
    "**Explore: count**"
   ]
  },
  {
   "cell_type": "code",
   "execution_count": 53,
   "id": "95275264-44d3-49e0-a3d8-67f48a09bbfb",
   "metadata": {},
   "outputs": [
    {
     "data": {
      "text/html": [
       "<table class=\"dataframe\">\n",
       "<caption>A data.frame: 6 × 3</caption>\n",
       "<thead>\n",
       "\t<tr><th scope=col>Assay</th><th scope=col>fcc_astarr_macs_input_overlap</th><th scope=col>fcc_astarr_macs_input_union</th></tr>\n",
       "\t<tr><th scope=col>&lt;fct&gt;</th><th scope=col>&lt;int&gt;</th><th scope=col>&lt;int&gt;</th></tr>\n",
       "</thead>\n",
       "<tbody>\n",
       "\t<tr><td>ASTARR_KS91   </td><td>150040</td><td>246850</td></tr>\n",
       "\t<tr><td>CRISPRi-Growth</td><td> 72743</td><td> 80288</td></tr>\n",
       "\t<tr><td>CRISPRi-HCRFF </td><td>   925</td><td>  1330</td></tr>\n",
       "\t<tr><td>LMPRA         </td><td> 61478</td><td> 68497</td></tr>\n",
       "\t<tr><td>TMPRA         </td><td>  1148</td><td>  1722</td></tr>\n",
       "\t<tr><td>WSTARR        </td><td>146594</td><td>241031</td></tr>\n",
       "</tbody>\n",
       "</table>\n"
      ],
      "text/latex": [
       "A data.frame: 6 × 3\n",
       "\\begin{tabular}{lll}\n",
       " Assay & fcc\\_astarr\\_macs\\_input\\_overlap & fcc\\_astarr\\_macs\\_input\\_union\\\\\n",
       " <fct> & <int> & <int>\\\\\n",
       "\\hline\n",
       "\t ASTARR\\_KS91    & 150040 & 246850\\\\\n",
       "\t CRISPRi-Growth &  72743 &  80288\\\\\n",
       "\t CRISPRi-HCRFF  &    925 &   1330\\\\\n",
       "\t LMPRA          &  61478 &  68497\\\\\n",
       "\t TMPRA          &   1148 &   1722\\\\\n",
       "\t WSTARR         & 146594 & 241031\\\\\n",
       "\\end{tabular}\n"
      ],
      "text/markdown": [
       "\n",
       "A data.frame: 6 × 3\n",
       "\n",
       "| Assay &lt;fct&gt; | fcc_astarr_macs_input_overlap &lt;int&gt; | fcc_astarr_macs_input_union &lt;int&gt; |\n",
       "|---|---|---|\n",
       "| ASTARR_KS91    | 150040 | 246850 |\n",
       "| CRISPRi-Growth |  72743 |  80288 |\n",
       "| CRISPRi-HCRFF  |    925 |   1330 |\n",
       "| LMPRA          |  61478 |  68497 |\n",
       "| TMPRA          |   1148 |   1722 |\n",
       "| WSTARR         | 146594 | 241031 |\n",
       "\n"
      ],
      "text/plain": [
       "  Assay          fcc_astarr_macs_input_overlap fcc_astarr_macs_input_union\n",
       "1 ASTARR_KS91    150040                        246850                     \n",
       "2 CRISPRi-Growth  72743                         80288                     \n",
       "3 CRISPRi-HCRFF     925                          1330                     \n",
       "4 LMPRA           61478                         68497                     \n",
       "5 TMPRA            1148                          1722                     \n",
       "6 WSTARR         146594                        241031                     "
      ]
     },
     "metadata": {},
     "output_type": "display_data"
    }
   ],
   "source": [
    "lst = lst_dat_region_score_final\n",
    "lst = lapply(lst, function(dat){\n",
    "    res = table(dat$Assay_Group, dnn = \"Assay\")\n",
    "    dat = as.data.frame(res)\n",
    "    return(dat)\n",
    "})\n",
    "dat = bind_rows(lst, .id = \"Folder\")\n",
    "dat = dat %>% tidyr::spread(Folder, Freq)\n",
    "dat"
   ]
  },
  {
   "cell_type": "markdown",
   "id": "8675fe26-514b-40ae-acfe-3b43dbd0041d",
   "metadata": {},
   "source": [
    "## Save results"
   ]
  },
  {
   "cell_type": "code",
   "execution_count": 54,
   "id": "47f12e23-d651-47df-a4bd-f607e2d17c33",
   "metadata": {},
   "outputs": [
    {
     "name": "stdout",
     "output_type": "stream",
     "text": [
      "Save file \n",
      "/data/reddylab/Kuei/repo/Proj_ENCODE_FCC/results/region_coverage_fcc_score/fcc_astarr_macs_input_overlap/summary \n",
      "region.coverage.score.filtered.merge.tsv \n",
      "\n",
      "Save file \n",
      "/data/reddylab/Kuei/repo/Proj_ENCODE_FCC/results/region_coverage_fcc_score/fcc_astarr_macs_input_overlap/summary \n",
      "region.coverage.score.fcc.test.tsv \n",
      "\n",
      "Save file \n",
      "/data/reddylab/Kuei/repo/Proj_ENCODE_FCC/results/region_coverage_fcc_score/fcc_astarr_macs_input_union/summary \n",
      "region.coverage.score.fcc.test.tsv \n",
      "\n",
      "Save file \n",
      "/data/reddylab/Kuei/repo/Proj_ENCODE_FCC/results/region_coverage_fcc_score/fcc_astarr_macs_input_union/summary \n",
      "region.coverage.score.fcc.test.tsv \n",
      "\n"
     ]
    }
   ],
   "source": [
    "for (txt_region in VEC_TXT_REGION){\n",
    "    ### get tables\n",
    "    #dat_region_score_total = lst_dat_region_score_total[[txt_region]]\n",
    "    dat_region_score_final = lst_dat_region_score_final[[txt_region]]\n",
    "    \n",
    "    ### set file directory\n",
    "    txt_fdiry  = file.path(\n",
    "        FD_RES, \n",
    "        \"region_coverage_fcc_score\", \n",
    "        txt_region, \n",
    "        \"summary\"\n",
    "    )\n",
    "    #dir.create(txt_fdiry, showWarnings = FALSE)\n",
    "    #txt_cmd = paste(\"mkdir -p\", txt_fdiry)\n",
    "    #system(txt_cmd)\n",
    "    \n",
    "    ### save table with all FCC assays\n",
    "    #txt_fname = \"region.coverage.score.fcc.total.tsv\"\n",
    "    #txt_fpath = file.path(txt_fdiry, txt_fname)\n",
    "    #dat = dat_region_score_total\n",
    "    #dat = dat %>% dplyr::arrange(Chrom, ChromStart, ChromEnd)\n",
    "    #write_tsv(dat, txt_fpath)\n",
    "\n",
    "    ### show progress\n",
    "    cat(\"Save file\", \"\\n\")\n",
    "    cat(txt_fdiry, \"\\n\")\n",
    "    cat(txt_fname, \"\\n\")\n",
    "    cat(\"\\n\")\n",
    "    \n",
    "    ### save table with selected FCC assays\n",
    "    txt_fname = \"region.coverage.score.fcc.test.tsv\"\n",
    "    txt_fpath = file.path(txt_fdiry, txt_fname)\n",
    "    dat = dat_region_score_final\n",
    "    dat = dat %>% dplyr::arrange(Chrom, ChromStart, ChromEnd)\n",
    "    write_tsv(dat, txt_fpath)\n",
    "\n",
    "    ### show progress\n",
    "    cat(\"Save file\", \"\\n\")\n",
    "    cat(txt_fdiry, \"\\n\")\n",
    "    cat(txt_fname, \"\\n\")\n",
    "    cat(\"\\n\")\n",
    "}"
   ]
  },
  {
   "cell_type": "code",
   "execution_count": null,
   "id": "adf35437-c74f-48fa-859a-ed5d6d71d997",
   "metadata": {},
   "outputs": [],
   "source": []
  }
 ],
 "metadata": {
  "kernelspec": {
   "display_name": "R",
   "language": "R",
   "name": "ir"
  },
  "language_info": {
   "codemirror_mode": "r",
   "file_extension": ".r",
   "mimetype": "text/x-r-source",
   "name": "R",
   "pygments_lexer": "r",
   "version": "4.5.1"
  }
 },
 "nbformat": 4,
 "nbformat_minor": 5
}
