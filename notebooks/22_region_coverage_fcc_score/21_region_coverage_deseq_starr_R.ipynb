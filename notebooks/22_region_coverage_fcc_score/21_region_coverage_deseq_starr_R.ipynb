{
 "cells": [
  {
   "cell_type": "raw",
   "id": "f6aaa52f-e5b6-4f38-8348-d15f7ed91b52",
   "metadata": {},
   "source": [
    "---\n",
    "title: Region Coverage (FCC) 21\n",
    "subtitle: Apply EdgeR/DESeq2 to process count matrix (STARR)\n",
    "format:\n",
    "    html:\n",
    "        code-fold:  true\n",
    "        code-tools: true\n",
    "---"
   ]
  },
  {
   "cell_type": "markdown",
   "id": "a2e5d87e-778b-4c31-8ffd-635952bdf280",
   "metadata": {},
   "source": [
    "**Set environment**"
   ]
  },
  {
   "cell_type": "code",
   "execution_count": 1,
   "id": "68750804-cf2e-437e-b9d6-a9d87facd7c6",
   "metadata": {},
   "outputs": [
    {
     "name": "stdout",
     "output_type": "stream",
     "text": [
      "You are working on        Singularity: singularity_proj_encode_fcc \n",
      "BASE DIRECTORY (FD_BASE): /data/reddylab/Kuei \n",
      "REPO DIRECTORY (FD_REPO): /data/reddylab/Kuei/repo \n",
      "WORK DIRECTORY (FD_WORK): /data/reddylab/Kuei/work \n",
      "DATA DIRECTORY (FD_DATA): /data/reddylab/Kuei/data \n",
      "\n",
      "You are working with      ENCODE FCC \n",
      "PATH OF PROJECT (FD_PRJ): /data/reddylab/Kuei/repo/Proj_ENCODE_FCC \n",
      "PROJECT RESULTS (FD_RES): /data/reddylab/Kuei/repo/Proj_ENCODE_FCC/results \n",
      "PROJECT SCRIPTS (FD_EXE): /data/reddylab/Kuei/repo/Proj_ENCODE_FCC/scripts \n",
      "PROJECT DATA    (FD_DAT): /data/reddylab/Kuei/repo/Proj_ENCODE_FCC/data \n",
      "PROJECT NOTE    (FD_NBK): /data/reddylab/Kuei/repo/Proj_ENCODE_FCC/notebooks \n",
      "PROJECT DOCS    (FD_DOC): /data/reddylab/Kuei/repo/Proj_ENCODE_FCC/docs \n",
      "PROJECT LOG     (FD_LOG): /data/reddylab/Kuei/repo/Proj_ENCODE_FCC/log \n",
      "PROJECT REF     (FD_REF): /data/reddylab/Kuei/repo/Proj_ENCODE_FCC/references \n",
      "\n"
     ]
    }
   ],
   "source": [
    "suppressMessages(suppressWarnings(source(\"../run_config_project_sing.R\")))\n",
    "suppressMessages(suppressWarnings(library(\"DESeq2\")))\n",
    "suppressMessages(suppressWarnings(library(\"edgeR\")))\n",
    "show_env()"
   ]
  },
  {
   "cell_type": "markdown",
   "id": "6c3dc495-4e8a-4b05-aad9-dade9fc1a391",
   "metadata": {},
   "source": [
    "**Check: region directory**"
   ]
  },
  {
   "cell_type": "code",
   "execution_count": 8,
   "id": "75875861-ffa7-4d9b-800c-c65bbf5eaec1",
   "metadata": {},
   "outputs": [
    {
     "name": "stdout",
     "output_type": "stream",
     "text": [
      "atac_ENCFF333TAT \n",
      "atac_ENCFF558BLC \n",
      "atac_ENCFF925CYR \n",
      "atac_ENCFF948AFM \n",
      "dnase_ENCFF185XRG \n",
      "dnase_ENCFF274YGF \n",
      "fcc_astarr_macs_input_overlap \n",
      "fcc_astarr_macs_input_union \n"
     ]
    }
   ],
   "source": [
    "txt_fdiry = file.path(FD_RES, \"region_coverage_fcc_score\")\n",
    "\n",
    "vec = dir(txt_fdiry)\n",
    "for (txt in vec){cat(txt, \"\\n\")}"
   ]
  },
  {
   "cell_type": "markdown",
   "id": "85e25761-8079-4ebb-88c6-d5b8f4c4dcd0",
   "metadata": {},
   "source": [
    "**Check: assay files**"
   ]
  },
  {
   "cell_type": "code",
   "execution_count": 3,
   "id": "4790ee65-170d-4103-805f-25fc3362bb8c",
   "metadata": {},
   "outputs": [
    {
     "name": "stdout",
     "output_type": "stream",
     "text": [
      "/data/reddylab/Kuei/repo/Proj_ENCODE_FCC/results/region_coverage_fcc_score/fcc_astarr_macs_input_overlap/STARR_ATAC_K562_Reddy_KS274/summary/data.count_column.raw.WGS.rds \n",
      "/data/reddylab/Kuei/repo/Proj_ENCODE_FCC/results/region_coverage_fcc_score/fcc_astarr_macs_input_overlap/STARR_ATAC_K562_Reddy_KS91/summary/data.count_column.raw.WGS.rds \n",
      "/data/reddylab/Kuei/repo/Proj_ENCODE_FCC/results/region_coverage_fcc_score/fcc_astarr_macs_input_overlap/STARR_ATAC_K562_Reddy_KSMerge/summary/data.count_column.raw.WGS.rds \n",
      "/data/reddylab/Kuei/repo/Proj_ENCODE_FCC/results/region_coverage_fcc_score/fcc_astarr_macs_input_overlap/STARR_WHG_K562_Reddy_A001/summary/data.count_column.raw.WGS.rds \n"
     ]
    }
   ],
   "source": [
    "txt_folder = \"fcc_astarr_macs_input_overlap\"\n",
    "txt_fdiry  = file.path(\n",
    "    FD_RES, \"region_coverage_fcc_score\",\n",
    "    txt_folder,\n",
    "    \"*\",\n",
    "    \"summary\"\n",
    ")\n",
    "txt_fname = \"data.count_column.raw.WGS.rds\"\n",
    "txt_fglob = file.path(txt_fdiry, txt_fname)\n",
    "\n",
    "vec = Sys.glob(txt_fglob)\n",
    "for (txt in vec) {cat(txt, \"\\n\")}"
   ]
  },
  {
   "cell_type": "markdown",
   "id": "119f6a55-c62e-454d-a885-411ad42cf415",
   "metadata": {},
   "source": [
    "**Set global variable**"
   ]
  },
  {
   "cell_type": "code",
   "execution_count": 4,
   "id": "38684f22-5cc7-4262-8e36-d15ca5507933",
   "metadata": {},
   "outputs": [
    {
     "name": "stdout",
     "output_type": "stream",
     "text": [
      "fcc_astarr_macs_input_overlap \n",
      "fcc_astarr_macs_input_union \n"
     ]
    }
   ],
   "source": [
    "## init: region folder\n",
    "vec = c(\"fcc_astarr_macs_input_overlap\", \"fcc_astarr_macs_input_union\")\n",
    "names(vec) = vec\n",
    "\n",
    "VEC_TXT_REGION = vec\n",
    "for (txt in vec) {cat(txt, \"\\n\")}"
   ]
  },
  {
   "cell_type": "code",
   "execution_count": 5,
   "id": "cdb78dc4-32e2-4e53-ac47-5b0e35c4fb66",
   "metadata": {},
   "outputs": [],
   "source": [
    "### init: assay folder\n",
    "VEC_TXT_ASSAY = c(\n",
    "    \"STARR_ATAC_K562_Reddy_KS91\",\n",
    "    \"STARR_ATAC_K562_Reddy_KS274\",\n",
    "    \"STARR_ATAC_K562_Reddy_KSMerge\",\n",
    "    \"STARR_WHG_K562_Reddy_A001\"\n",
    ")"
   ]
  },
  {
   "cell_type": "markdown",
   "id": "6ca159c2-59a3-4b7e-bb00-ef4ff0fc577e",
   "metadata": {},
   "source": [
    "## Loop through regions to create EdgeR and DESeq2 object of each assay"
   ]
  },
  {
   "cell_type": "markdown",
   "id": "6beac9bf-b455-4160-b42e-933ac0b2d17d",
   "metadata": {},
   "source": [
    "**Test loop**"
   ]
  },
  {
   "cell_type": "code",
   "execution_count": 6,
   "id": "ab416111-007b-4f9c-90ab-8b8db98a5125",
   "metadata": {},
   "outputs": [
    {
     "name": "stdout",
     "output_type": "stream",
     "text": [
      "/data/reddylab/Kuei/repo/Proj_ENCODE_FCC/results/region_coverage_fcc_score/fcc_astarr_macs_input_overlap/STARR_ATAC_K562_Reddy_KS274/summary/data.count_column.raw.WGS.rds \n",
      "/data/reddylab/Kuei/repo/Proj_ENCODE_FCC/results/region_coverage_fcc_score/fcc_astarr_macs_input_overlap/STARR_ATAC_K562_Reddy_KS91/summary/data.count_column.raw.WGS.rds \n",
      "/data/reddylab/Kuei/repo/Proj_ENCODE_FCC/results/region_coverage_fcc_score/fcc_astarr_macs_input_overlap/STARR_ATAC_K562_Reddy_KSMerge/summary/data.count_column.raw.WGS.rds \n",
      "/data/reddylab/Kuei/repo/Proj_ENCODE_FCC/results/region_coverage_fcc_score/fcc_astarr_macs_input_overlap/STARR_WHG_K562_Reddy_A001/summary/data.count_column.raw.WGS.rds \n",
      "/data/reddylab/Kuei/repo/Proj_ENCODE_FCC/results/region_coverage_fcc_score/fcc_astarr_macs_input_union/STARR_ATAC_K562_Reddy_KS274/summary/data.count_column.raw.WGS.rds \n",
      "/data/reddylab/Kuei/repo/Proj_ENCODE_FCC/results/region_coverage_fcc_score/fcc_astarr_macs_input_union/STARR_ATAC_K562_Reddy_KS91/summary/data.count_column.raw.WGS.rds \n",
      "/data/reddylab/Kuei/repo/Proj_ENCODE_FCC/results/region_coverage_fcc_score/fcc_astarr_macs_input_union/STARR_ATAC_K562_Reddy_KSMerge/summary/data.count_column.raw.WGS.rds \n",
      "/data/reddylab/Kuei/repo/Proj_ENCODE_FCC/results/region_coverage_fcc_score/fcc_astarr_macs_input_union/STARR_WHG_K562_Reddy_A001/summary/data.count_column.raw.WGS.rds \n"
     ]
    }
   ],
   "source": [
    "for (txt_region in VEC_TXT_REGION) {\n",
    "    \n",
    "    ### init: get RDS files w/ count matrix and column information\n",
    "    txt_fdiry = file.path(FD_RES, \"region_coverage_fcc_score\", txt_region, \"STARR*\", \"summary\")\n",
    "    txt_fname = \"data.count_column.raw.WGS.rds\"\n",
    "    txt_fglob = file.path(txt_fdiry, txt_fname)\n",
    "\n",
    "    ### get files and show progress\n",
    "    vec = Sys.glob(txt_fglob)\n",
    "    for (txt in vec) {cat(txt, \"\\n\")}\n",
    "    flush.console()\n",
    "}"
   ]
  },
  {
   "cell_type": "markdown",
   "id": "65d56289-a065-45c2-9cd9-60a1d72de79b",
   "metadata": {},
   "source": [
    "**Apply EdgeR filtering and DESeq2 model fitting**"
   ]
  },
  {
   "cell_type": "code",
   "execution_count": 7,
   "id": "6e04435f-f4cb-4a0e-a45e-4fd0a2d6b56b",
   "metadata": {},
   "outputs": [
    {
     "name": "stdout",
     "output_type": "stream",
     "text": [
      "/data/reddylab/Kuei/repo/Proj_ENCODE_FCC/results/region_coverage_fcc_score/fcc_astarr_macs_input_overlap/STARR_ATAC_K562_Reddy_KS274/summary/data.count_column.raw.WGS.rds \n",
      "/data/reddylab/Kuei/repo/Proj_ENCODE_FCC/results/region_coverage_fcc_score/fcc_astarr_macs_input_overlap/STARR_ATAC_K562_Reddy_KS91/summary/data.count_column.raw.WGS.rds \n",
      "/data/reddylab/Kuei/repo/Proj_ENCODE_FCC/results/region_coverage_fcc_score/fcc_astarr_macs_input_overlap/STARR_ATAC_K562_Reddy_KSMerge/summary/data.count_column.raw.WGS.rds \n",
      "/data/reddylab/Kuei/repo/Proj_ENCODE_FCC/results/region_coverage_fcc_score/fcc_astarr_macs_input_overlap/STARR_WHG_K562_Reddy_A001/summary/data.count_column.raw.WGS.rds \n",
      "\n",
      "====================\n",
      "Region: fcc_astarr_macs_input_overlap \n",
      "Assay:  STARR_ATAC_K562_Reddy_KS274 \n",
      "FPath:  /data/reddylab/Kuei/repo/Proj_ENCODE_FCC/results/region_coverage_fcc_score/fcc_astarr_macs_input_overlap/STARR_ATAC_K562_Reddy_KS274/summary/data.count_column.raw.WGS.rds \n",
      "FName:  data.count_column.raw.WGS.rds \n",
      "Import Counts:\n",
      "#Rows (Before filter): 150042 \n",
      "#Rows (After  filter): 150041 \n",
      "\n",
      "Apply DESeq2: ~Group \n"
     ]
    },
    {
     "name": "stderr",
     "output_type": "stream",
     "text": [
      "estimating size factors\n",
      "\n",
      "estimating dispersions\n",
      "\n",
      "gene-wise dispersion estimates\n",
      "\n",
      "mean-dispersion relationship\n",
      "\n",
      "final dispersion estimates\n",
      "\n",
      "fitting model and testing\n",
      "\n"
     ]
    },
    {
     "name": "stdout",
     "output_type": "stream",
     "text": [
      "\n",
      "====================\n",
      "Region: fcc_astarr_macs_input_overlap \n",
      "Assay:  STARR_ATAC_K562_Reddy_KS91 \n",
      "FPath:  /data/reddylab/Kuei/repo/Proj_ENCODE_FCC/results/region_coverage_fcc_score/fcc_astarr_macs_input_overlap/STARR_ATAC_K562_Reddy_KS91/summary/data.count_column.raw.WGS.rds \n",
      "FName:  data.count_column.raw.WGS.rds \n",
      "Import Counts:\n",
      "#Rows (Before filter): 150041 \n",
      "#Rows (After  filter): 150040 \n",
      "\n",
      "Apply DESeq2: ~Group \n"
     ]
    },
    {
     "name": "stderr",
     "output_type": "stream",
     "text": [
      "estimating size factors\n",
      "\n",
      "estimating dispersions\n",
      "\n",
      "gene-wise dispersion estimates\n",
      "\n",
      "mean-dispersion relationship\n",
      "\n",
      "final dispersion estimates\n",
      "\n",
      "fitting model and testing\n",
      "\n"
     ]
    },
    {
     "name": "stdout",
     "output_type": "stream",
     "text": [
      "\n",
      "====================\n",
      "Region: fcc_astarr_macs_input_overlap \n",
      "Assay:  STARR_ATAC_K562_Reddy_KSMerge \n",
      "FPath:  /data/reddylab/Kuei/repo/Proj_ENCODE_FCC/results/region_coverage_fcc_score/fcc_astarr_macs_input_overlap/STARR_ATAC_K562_Reddy_KSMerge/summary/data.count_column.raw.WGS.rds \n",
      "FName:  data.count_column.raw.WGS.rds \n",
      "Import Counts:\n",
      "#Rows (Before filter): 150042 \n",
      "#Rows (After  filter): 150040 \n",
      "\n",
      "Apply DESeq2: ~Group+Prefix \n"
     ]
    },
    {
     "name": "stderr",
     "output_type": "stream",
     "text": [
      "Warning message in DESeqDataSet(se, design = design, ignoreRank):\n",
      "“some variables in design formula are characters, converting to factors”\n",
      "estimating size factors\n",
      "\n",
      "estimating dispersions\n",
      "\n",
      "gene-wise dispersion estimates\n",
      "\n",
      "mean-dispersion relationship\n",
      "\n",
      "final dispersion estimates\n",
      "\n",
      "fitting model and testing\n",
      "\n"
     ]
    },
    {
     "name": "stdout",
     "output_type": "stream",
     "text": [
      "\n",
      "====================\n",
      "Region: fcc_astarr_macs_input_overlap \n",
      "Assay:  STARR_WHG_K562_Reddy_A001 \n",
      "FPath:  /data/reddylab/Kuei/repo/Proj_ENCODE_FCC/results/region_coverage_fcc_score/fcc_astarr_macs_input_overlap/STARR_WHG_K562_Reddy_A001/summary/data.count_column.raw.WGS.rds \n",
      "FName:  data.count_column.raw.WGS.rds \n",
      "Import Counts:\n",
      "#Rows (Before filter): 150030 \n",
      "#Rows (After  filter): 146594 \n",
      "\n",
      "Apply DESeq2: ~Group \n"
     ]
    },
    {
     "name": "stderr",
     "output_type": "stream",
     "text": [
      "estimating size factors\n",
      "\n",
      "estimating dispersions\n",
      "\n",
      "gene-wise dispersion estimates\n",
      "\n",
      "mean-dispersion relationship\n",
      "\n",
      "final dispersion estimates\n",
      "\n",
      "fitting model and testing\n",
      "\n"
     ]
    },
    {
     "name": "stdout",
     "output_type": "stream",
     "text": [
      "/data/reddylab/Kuei/repo/Proj_ENCODE_FCC/results/region_coverage_fcc_score/fcc_astarr_macs_input_union/STARR_ATAC_K562_Reddy_KS274/summary/data.count_column.raw.WGS.rds \n",
      "/data/reddylab/Kuei/repo/Proj_ENCODE_FCC/results/region_coverage_fcc_score/fcc_astarr_macs_input_union/STARR_ATAC_K562_Reddy_KS91/summary/data.count_column.raw.WGS.rds \n",
      "/data/reddylab/Kuei/repo/Proj_ENCODE_FCC/results/region_coverage_fcc_score/fcc_astarr_macs_input_union/STARR_ATAC_K562_Reddy_KSMerge/summary/data.count_column.raw.WGS.rds \n",
      "/data/reddylab/Kuei/repo/Proj_ENCODE_FCC/results/region_coverage_fcc_score/fcc_astarr_macs_input_union/STARR_WHG_K562_Reddy_A001/summary/data.count_column.raw.WGS.rds \n",
      "\n",
      "====================\n",
      "Region: fcc_astarr_macs_input_union \n",
      "Assay:  STARR_ATAC_K562_Reddy_KS274 \n",
      "FPath:  /data/reddylab/Kuei/repo/Proj_ENCODE_FCC/results/region_coverage_fcc_score/fcc_astarr_macs_input_union/STARR_ATAC_K562_Reddy_KS274/summary/data.count_column.raw.WGS.rds \n",
      "FName:  data.count_column.raw.WGS.rds \n",
      "Import Counts:\n",
      "#Rows (Before filter): 246852 \n",
      "#Rows (After  filter): 246851 \n",
      "\n",
      "Apply DESeq2: ~Group \n"
     ]
    },
    {
     "name": "stderr",
     "output_type": "stream",
     "text": [
      "estimating size factors\n",
      "\n",
      "estimating dispersions\n",
      "\n",
      "gene-wise dispersion estimates\n",
      "\n",
      "mean-dispersion relationship\n",
      "\n",
      "final dispersion estimates\n",
      "\n",
      "fitting model and testing\n",
      "\n"
     ]
    },
    {
     "name": "stdout",
     "output_type": "stream",
     "text": [
      "\n",
      "====================\n",
      "Region: fcc_astarr_macs_input_union \n",
      "Assay:  STARR_ATAC_K562_Reddy_KS91 \n",
      "FPath:  /data/reddylab/Kuei/repo/Proj_ENCODE_FCC/results/region_coverage_fcc_score/fcc_astarr_macs_input_union/STARR_ATAC_K562_Reddy_KS91/summary/data.count_column.raw.WGS.rds \n",
      "FName:  data.count_column.raw.WGS.rds \n",
      "Import Counts:\n",
      "#Rows (Before filter): 246852 \n",
      "#Rows (After  filter): 246850 \n",
      "\n",
      "Apply DESeq2: ~Group \n"
     ]
    },
    {
     "name": "stderr",
     "output_type": "stream",
     "text": [
      "estimating size factors\n",
      "\n",
      "estimating dispersions\n",
      "\n",
      "gene-wise dispersion estimates\n",
      "\n",
      "mean-dispersion relationship\n",
      "\n",
      "final dispersion estimates\n",
      "\n",
      "fitting model and testing\n",
      "\n"
     ]
    },
    {
     "name": "stdout",
     "output_type": "stream",
     "text": [
      "\n",
      "====================\n",
      "Region: fcc_astarr_macs_input_union \n",
      "Assay:  STARR_ATAC_K562_Reddy_KSMerge \n",
      "FPath:  /data/reddylab/Kuei/repo/Proj_ENCODE_FCC/results/region_coverage_fcc_score/fcc_astarr_macs_input_union/STARR_ATAC_K562_Reddy_KSMerge/summary/data.count_column.raw.WGS.rds \n",
      "FName:  data.count_column.raw.WGS.rds \n",
      "Import Counts:\n",
      "#Rows (Before filter): 246852 \n",
      "#Rows (After  filter): 246850 \n",
      "\n",
      "Apply DESeq2: ~Group+Prefix \n"
     ]
    },
    {
     "name": "stderr",
     "output_type": "stream",
     "text": [
      "Warning message in DESeqDataSet(se, design = design, ignoreRank):\n",
      "“some variables in design formula are characters, converting to factors”\n",
      "estimating size factors\n",
      "\n",
      "estimating dispersions\n",
      "\n",
      "gene-wise dispersion estimates\n",
      "\n",
      "mean-dispersion relationship\n",
      "\n",
      "final dispersion estimates\n",
      "\n",
      "fitting model and testing\n",
      "\n"
     ]
    },
    {
     "name": "stdout",
     "output_type": "stream",
     "text": [
      "\n",
      "====================\n",
      "Region: fcc_astarr_macs_input_union \n",
      "Assay:  STARR_WHG_K562_Reddy_A001 \n",
      "FPath:  /data/reddylab/Kuei/repo/Proj_ENCODE_FCC/results/region_coverage_fcc_score/fcc_astarr_macs_input_union/STARR_WHG_K562_Reddy_A001/summary/data.count_column.raw.WGS.rds \n",
      "FName:  data.count_column.raw.WGS.rds \n",
      "Import Counts:\n",
      "#Rows (Before filter): 246828 \n",
      "#Rows (After  filter): 241031 \n",
      "\n",
      "Apply DESeq2: ~Group \n"
     ]
    },
    {
     "name": "stderr",
     "output_type": "stream",
     "text": [
      "estimating size factors\n",
      "\n",
      "estimating dispersions\n",
      "\n",
      "gene-wise dispersion estimates\n",
      "\n",
      "mean-dispersion relationship\n",
      "\n",
      "final dispersion estimates\n",
      "\n",
      "fitting model and testing\n",
      "\n"
     ]
    }
   ],
   "source": [
    "### helper function\n",
    "fun_get_assay = function(txt){\n",
    "    res = fun_str_map_detect(txt, VEC_TXT_ASSAY, VEC_TXT_ASSAY)\n",
    "    return(res)\n",
    "}\n",
    "\n",
    "### loop through each region set\n",
    "for (txt_region in VEC_TXT_REGION) {\n",
    "    \n",
    "    ### init: get RDS files w/ count matrix and column information\n",
    "    txt_fdiry = file.path(FD_RES, \"region_coverage_fcc_score\", txt_region, \"STARR*\", \"summary\")\n",
    "    txt_fname = \"data.count_column.raw.WGS.rds\"\n",
    "    txt_fglob = file.path(txt_fdiry, txt_fname)\n",
    "\n",
    "    ### get files and show progress\n",
    "    vec = Sys.glob(txt_fglob)\n",
    "    vec_txt_fpath_inp = vec\n",
    "    for (txt in vec) {cat(txt, \"\\n\")}\n",
    "    flush.console()\n",
    "    \n",
    "    ### loop through each file\n",
    "    for (txt_fpath_inp in vec_txt_fpath_inp){\n",
    "\n",
    "        ### read object\n",
    "        lst_dat = readRDS(txt_fpath_inp)\n",
    "        dat_cnt = lst_dat$data_cnt\n",
    "        dat_col = lst_dat$data_col\n",
    "        \n",
    "        ### arrange column data\n",
    "        dat_col = dat_col  %>% \n",
    "            dplyr::mutate(Group = factor(Group, levels = c(\"Input\", \"Output\"))) %>%\n",
    "            column_to_rownames(var = \"Sample\")\n",
    "        \n",
    "        ### arrange count matrix\n",
    "        mat_tot = dat_cnt %>%\n",
    "            dplyr::select(-Chrom, -ChromStart, -ChromEnd) %>%\n",
    "            column_to_rownames(var = \"Region\")\n",
    "        mat_inp = mat_tot %>% dplyr::select(starts_with(\"Input\"))\n",
    "        mat_out = mat_tot %>% dplyr::select(starts_with(\"Output\"))\n",
    "\n",
    "        ### create list of DGE objects for total, input, and output\n",
    "        lst = list()\n",
    "        lst[[\"Total\"]]  = DGEList(counts=mat_tot, group = dat_col$Group)\n",
    "        lst[[\"Input\"]]  = DGEList(counts=mat_inp, group = rep(\"Input\",  ncol(mat_inp)))\n",
    "        lst[[\"Output\"]] = DGEList(counts=mat_out, group = rep(\"Output\", ncol(mat_out)))\n",
    "        lst_edger = lst\n",
    "\n",
    "        ### filter counts using filterByExpr from edgeR\n",
    "        dge = lst_edger[[\"Total\"]]\n",
    "        idx = filterByExpr(dge)\n",
    "\n",
    "        ### Check: index matched when filtering\n",
    "        x = names(idx)\n",
    "        y = row.names(mat_tot)\n",
    "        if (!all(x == y)) {stop(\"Error index\")}\n",
    "\n",
    "        ### if passed: filter matrix\n",
    "        mat_cnt = mat_tot[idx,]\n",
    "\n",
    "        ### show progress:\n",
    "        txt_fpath = txt_fpath_inp\n",
    "        txt_fname = basename(txt_fpath)\n",
    "        txt_assay = fun_get_assay(txt_fpath)\n",
    "        \n",
    "        cat(\"\\n====================\\n\")\n",
    "        cat(\"Region:\", txt_region, \"\\n\")\n",
    "        cat(\"Assay: \", txt_assay,  \"\\n\")\n",
    "        cat(\"FPath: \", txt_fpath,  \"\\n\")\n",
    "        cat(\"FName: \", txt_fname,  \"\\n\")\n",
    "        cat(\"Import Counts:\\n\")\n",
    "        cat(\"#Rows (Before filter):\", nrow(dat_cnt), \"\\n\")\n",
    "        cat(\"#Rows (After  filter):\", nrow(mat_cnt), \"\\n\")\n",
    "        cat(\"\\n\")\n",
    "        flush.console()\n",
    "\n",
    "        ### create DESeq2 object\n",
    "        if (str_detect(txt_assay, \"KSMerge\")){\n",
    "            cat(\"Apply DESeq2: ~Group+Prefix\", \"\\n\")\n",
    "            dds = DESeqDataSetFromMatrix(\n",
    "                countData = mat_cnt, \n",
    "                colData   = dat_col, \n",
    "                design    = ~Group+Prefix)\n",
    "        } else {\n",
    "            cat(\"Apply DESeq2: ~Group\", \"\\n\")\n",
    "            dds = DESeqDataSetFromMatrix(\n",
    "                countData = mat_cnt, \n",
    "                colData   = dat_col, \n",
    "                design    = ~Group)\n",
    "        }\n",
    "\n",
    "        ### ensure Input group is set as reference\n",
    "        dds$Group <- relevel(dds$Group, ref = \"Input\")\n",
    "\n",
    "        ### run deseq analysis\n",
    "        dds = DESeq(dds)\n",
    "\n",
    "        ### save deseq object\n",
    "        txt_fdiry = dirname(txt_fpath_inp)\n",
    "        txt_fname = \"data.deseq2.rds\"\n",
    "        txt_fpath = file.path(txt_fdiry, txt_fname)\n",
    "        \n",
    "        obj = dds\n",
    "        saveRDS(obj, txt_fpath)\n",
    "\n",
    "        ### save DGEList object\n",
    "        txt_fdiry = dirname(txt_fpath_inp)\n",
    "        txt_fname = \"data.edger.rds\"\n",
    "        txt_fpath = file.path(txt_fdiry, txt_fname)\n",
    "        \n",
    "        obj = lst_edger\n",
    "        saveRDS(obj, txt_fpath)\n",
    "    }\n",
    "}"
   ]
  },
  {
   "cell_type": "code",
   "execution_count": null,
   "id": "92c3368b-870b-46c0-b21e-efb9493a928a",
   "metadata": {},
   "outputs": [],
   "source": []
  }
 ],
 "metadata": {
  "kernelspec": {
   "display_name": "R",
   "language": "R",
   "name": "ir"
  },
  "language_info": {
   "codemirror_mode": "r",
   "file_extension": ".r",
   "mimetype": "text/x-r-source",
   "name": "R",
   "pygments_lexer": "r",
   "version": "4.4.2"
  }
 },
 "nbformat": 4,
 "nbformat_minor": 5
}
