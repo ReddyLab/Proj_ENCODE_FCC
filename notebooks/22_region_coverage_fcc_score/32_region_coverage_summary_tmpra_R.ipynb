{
 "cells": [
  {
   "cell_type": "raw",
   "id": "2bcd338f-4e71-4013-b7db-59ed237eb785",
   "metadata": {},
   "source": [
    "---\n",
    "title: Region Coverage (FCC) 32\n",
    "subtitle: Summarize coverage for Tiling MPRA\n",
    "format:\n",
    "    html:\n",
    "        code-fold:  true\n",
    "        code-tools: true\n",
    "---"
   ]
  },
  {
   "cell_type": "markdown",
   "id": "7467233e-7962-46a7-a880-f87e7e91e9ff",
   "metadata": {},
   "source": [
    "**Set environment**"
   ]
  },
  {
   "cell_type": "code",
   "execution_count": 1,
   "id": "4ec7d685-7ec6-4315-ae19-a3288a003b28",
   "metadata": {},
   "outputs": [
    {
     "name": "stdout",
     "output_type": "stream",
     "text": [
      "You are working on        Singularity: singularity_proj_encode_fcc \n",
      "BASE DIRECTORY (FD_BASE): /data/reddylab/Kuei \n",
      "REPO DIRECTORY (FD_REPO): /data/reddylab/Kuei/repo \n",
      "WORK DIRECTORY (FD_WORK): /data/reddylab/Kuei/work \n",
      "DATA DIRECTORY (FD_DATA): /data/reddylab/Kuei/data \n",
      "\n",
      "You are working with      ENCODE FCC \n",
      "PATH OF PROJECT (FD_PRJ): /data/reddylab/Kuei/repo/Proj_ENCODE_FCC \n",
      "PROJECT RESULTS (FD_RES): /data/reddylab/Kuei/repo/Proj_ENCODE_FCC/results \n",
      "PROJECT SCRIPTS (FD_EXE): /data/reddylab/Kuei/repo/Proj_ENCODE_FCC/scripts \n",
      "PROJECT DATA    (FD_DAT): /data/reddylab/Kuei/repo/Proj_ENCODE_FCC/data \n",
      "PROJECT NOTE    (FD_NBK): /data/reddylab/Kuei/repo/Proj_ENCODE_FCC/notebooks \n",
      "PROJECT DOCS    (FD_DOC): /data/reddylab/Kuei/repo/Proj_ENCODE_FCC/docs \n",
      "PROJECT LOG     (FD_LOG): /data/reddylab/Kuei/repo/Proj_ENCODE_FCC/log \n",
      "PROJECT REF     (FD_REF): /data/reddylab/Kuei/repo/Proj_ENCODE_FCC/references \n",
      "\n"
     ]
    }
   ],
   "source": [
    "suppressMessages(suppressWarnings(source(\"../run_config_project_sing.R\")))\n",
    "suppressMessages(suppressWarnings(library(\"DESeq2\")))\n",
    "suppressMessages(suppressWarnings(library(\"edgeR\")))\n",
    "show_env()"
   ]
  },
  {
   "cell_type": "markdown",
   "id": "95c4c7a7-58ec-4610-be7b-bbb693096bf0",
   "metadata": {},
   "source": [
    "**Check: region directory**"
   ]
  },
  {
   "cell_type": "code",
   "execution_count": 2,
   "id": "d6a8c3db-a936-4de5-9ab0-38a027b1fde3",
   "metadata": {},
   "outputs": [
    {
     "name": "stdout",
     "output_type": "stream",
     "text": [
      "atac_ENCFF333TAT \n",
      "atac_ENCFF558BLC \n",
      "atac_ENCFF925CYR \n",
      "atac_ENCFF948AFM \n",
      "dnase_ENCFF185XRG \n",
      "dnase_ENCFF274YGF \n",
      "fcc_astarr_macs_input_overlap \n",
      "fcc_astarr_macs_input_union \n"
     ]
    }
   ],
   "source": [
    "txt_fdiry = file.path(FD_RES, \"region_coverage_fcc_score\")\n",
    "\n",
    "vec = dir(txt_fdiry)\n",
    "for (txt in vec){cat(txt, \"\\n\")}"
   ]
  },
  {
   "cell_type": "markdown",
   "id": "f40cd7ed-fbc1-405b-92e7-805dbca3330f",
   "metadata": {},
   "source": [
    "**Check: assay directory**"
   ]
  },
  {
   "cell_type": "code",
   "execution_count": 3,
   "id": "d3855eaf-2da7-4dc0-a400-d4b325e33268",
   "metadata": {},
   "outputs": [
    {
     "name": "stdout",
     "output_type": "stream",
     "text": [
      "CRISPRi_FlowFISH_K562_Riley_JinWoo \n",
      "CRISPRi_Growth_K562_Gersbach_JinWoo \n",
      "MPRA_Lenti_K562_Nadav_Vikram \n",
      "MPRA_Tiling_K562_Tewhey_Hannah \n",
      "STARR_ATAC_K562_Reddy_KS274 \n",
      "STARR_ATAC_K562_Reddy_KS91 \n",
      "STARR_ATAC_K562_Reddy_KSMerge \n",
      "STARR_WHG_K562_Reddy_A001 \n"
     ]
    }
   ],
   "source": [
    "txt_region = \"fcc_astarr_macs_input_union\"\n",
    "txt_fdiry  = file.path(FD_RES, \"region_coverage_fcc_score\", txt_region)\n",
    "vec = dir(txt_fdiry)\n",
    "for (txt in vec) {cat(txt, \"\\n\")}"
   ]
  },
  {
   "cell_type": "markdown",
   "id": "ad685158-f721-460b-89cd-bc2e7e575808",
   "metadata": {},
   "source": [
    "**Set global variable**"
   ]
  },
  {
   "cell_type": "code",
   "execution_count": 4,
   "id": "1a74ddca-6ed0-46b2-8755-ea696ab34c8a",
   "metadata": {},
   "outputs": [
    {
     "name": "stdout",
     "output_type": "stream",
     "text": [
      "fcc_astarr_macs_input_overlap \n",
      "fcc_astarr_macs_input_union \n"
     ]
    }
   ],
   "source": [
    "## init: region folder\n",
    "vec = c(\"fcc_astarr_macs_input_overlap\", \"fcc_astarr_macs_input_union\")\n",
    "names(vec) = vec\n",
    "\n",
    "VEC_TXT_REGION = vec\n",
    "for (txt in vec) {cat(txt, \"\\n\")}"
   ]
  },
  {
   "cell_type": "code",
   "execution_count": 5,
   "id": "b0542706-309c-48e0-bdd3-e52accf76124",
   "metadata": {},
   "outputs": [],
   "source": [
    "TXT_ASSAY = \"MPRA_Tiling_K562_Tewhey_Hannah\"\n",
    "VEC_TXT_PREFIX = c(\"OL13\", \"OL43\", \"OL45\")"
   ]
  },
  {
   "cell_type": "markdown",
   "id": "c6f852dd-4489-413c-ad3f-1a3804523f4d",
   "metadata": {},
   "source": [
    "**Check: assay files**"
   ]
  },
  {
   "cell_type": "code",
   "execution_count": 6,
   "id": "6d2cc762-a293-4797-8dc3-263a592812eb",
   "metadata": {},
   "outputs": [
    {
     "name": "stdout",
     "output_type": "stream",
     "text": [
      "/data/reddylab/Kuei/repo/Proj_ENCODE_FCC/results/region_coverage_fcc_score/fcc_astarr_macs_input_overlap/MPRA_Tiling_K562_Tewhey_Hannah/summary/data.count_column.raw.OL13.rds \n",
      "/data/reddylab/Kuei/repo/Proj_ENCODE_FCC/results/region_coverage_fcc_score/fcc_astarr_macs_input_overlap/MPRA_Tiling_K562_Tewhey_Hannah/summary/data.count_column.raw.OL43.rds \n",
      "/data/reddylab/Kuei/repo/Proj_ENCODE_FCC/results/region_coverage_fcc_score/fcc_astarr_macs_input_overlap/MPRA_Tiling_K562_Tewhey_Hannah/summary/data.count_column.raw.OL45.rds \n"
     ]
    }
   ],
   "source": [
    "txt_folder = VEC_TXT_REGION[1]\n",
    "txt_fdiry  = file.path(\n",
    "    FD_RES, \"region_coverage_fcc_score\",\n",
    "    txt_folder,\n",
    "    TXT_ASSAY,\n",
    "    \"summary\"\n",
    ")\n",
    "txt_fname = \"data.count_column.raw.*.rds\"\n",
    "txt_fglob = file.path(txt_fdiry, txt_fname)\n",
    "\n",
    "vec = Sys.glob(txt_fglob)\n",
    "for (txt in vec) {cat(txt, \"\\n\")}"
   ]
  },
  {
   "cell_type": "code",
   "execution_count": 7,
   "id": "5fde5057-b153-4a0e-b49c-13e431d1b0f0",
   "metadata": {},
   "outputs": [
    {
     "name": "stdout",
     "output_type": "stream",
     "text": [
      "/data/reddylab/Kuei/repo/Proj_ENCODE_FCC/results/region_coverage_fcc_score/fcc_astarr_macs_input_overlap/MPRA_Tiling_K562_Tewhey_Hannah/summary/data.deseq2.OL13.rds \n",
      "/data/reddylab/Kuei/repo/Proj_ENCODE_FCC/results/region_coverage_fcc_score/fcc_astarr_macs_input_overlap/MPRA_Tiling_K562_Tewhey_Hannah/summary/data.deseq2.OL43.rds \n",
      "/data/reddylab/Kuei/repo/Proj_ENCODE_FCC/results/region_coverage_fcc_score/fcc_astarr_macs_input_overlap/MPRA_Tiling_K562_Tewhey_Hannah/summary/data.deseq2.OL45.rds \n"
     ]
    }
   ],
   "source": [
    "txt_folder = VEC_TXT_REGION[1]\n",
    "txt_fdiry  = file.path(\n",
    "    FD_RES, \"region_coverage_fcc_score\",\n",
    "    txt_folder,\n",
    "    TXT_ASSAY,\n",
    "    \"summary\"\n",
    ")\n",
    "txt_fname = \"data.deseq2.*.rds\"\n",
    "txt_fglob = file.path(txt_fdiry, txt_fname)\n",
    "\n",
    "vec = Sys.glob(txt_fglob)\n",
    "for (txt in vec) {cat(txt, \"\\n\")}"
   ]
  },
  {
   "cell_type": "code",
   "execution_count": 8,
   "id": "ec776b9d-b044-4f8c-b64a-8f2e47468866",
   "metadata": {},
   "outputs": [
    {
     "name": "stdout",
     "output_type": "stream",
     "text": [
      "/data/reddylab/Kuei/repo/Proj_ENCODE_FCC/results/region_coverage_fcc_score/fcc_astarr_macs_input_overlap/MPRA_Tiling_K562_Tewhey_Hannah/summary/data.edger.OL13.rds \n",
      "/data/reddylab/Kuei/repo/Proj_ENCODE_FCC/results/region_coverage_fcc_score/fcc_astarr_macs_input_overlap/MPRA_Tiling_K562_Tewhey_Hannah/summary/data.edger.OL43.rds \n",
      "/data/reddylab/Kuei/repo/Proj_ENCODE_FCC/results/region_coverage_fcc_score/fcc_astarr_macs_input_overlap/MPRA_Tiling_K562_Tewhey_Hannah/summary/data.edger.OL45.rds \n"
     ]
    }
   ],
   "source": [
    "txt_folder = VEC_TXT_REGION[1]\n",
    "txt_fdiry  = file.path(\n",
    "    FD_RES, \"region_coverage_fcc_score\",\n",
    "    txt_folder,\n",
    "    TXT_ASSAY,\n",
    "    \"summary\"\n",
    ")\n",
    "txt_fname = \"data.edger.*.rds\"\n",
    "txt_fglob = file.path(txt_fdiry, txt_fname)\n",
    "\n",
    "vec = Sys.glob(txt_fglob)\n",
    "for (txt in vec) {cat(txt, \"\\n\")}"
   ]
  },
  {
   "cell_type": "markdown",
   "id": "5fafaf98-357a-43d0-805c-585f9bd78009",
   "metadata": {},
   "source": [
    "## Execute"
   ]
  },
  {
   "cell_type": "markdown",
   "id": "f6cc7b33-de16-4ee0-ad2d-b4966adbf217",
   "metadata": {},
   "source": [
    "**Helper function**"
   ]
  },
  {
   "cell_type": "code",
   "execution_count": 9,
   "id": "f8a4ed5a-58db-4e6b-bc16-2b3c370a60e3",
   "metadata": {},
   "outputs": [],
   "source": [
    "get_fpkm = function(mat, vec_num_length){\n",
    "    ### normlaized by size\n",
    "    fun = function(x){x * 10^6 / sum(x)}\n",
    "    mat = apply(mat, 2, fun)\n",
    "    \n",
    "    ### normlaized by length\n",
    "    vec = vec_num_length\n",
    "    fun = function(x){x/vec}\n",
    "    mat = apply(mat, 2, fun)\n",
    "\n",
    "    return(mat)\n",
    "}\n",
    "\n",
    "get_tpm  = function(mat, vec_num_length){\n",
    "    ### normlaized by length\n",
    "    vec = vec_num_length\n",
    "    fun = function(x){x/vec}\n",
    "    mat = apply(mat, 2, fun)\n",
    "    \n",
    "    ### normlaized by size\n",
    "    fun = function(x){x * 10^6 / sum(x)}\n",
    "    mat = apply(mat, 2, fun)\n",
    "    \n",
    "    return(mat)\n",
    "}"
   ]
  },
  {
   "cell_type": "markdown",
   "id": "2de31837-4507-404e-9256-dbeb51c5255d",
   "metadata": {},
   "source": [
    "**Generate matrix of normalized scores**"
   ]
  },
  {
   "cell_type": "code",
   "execution_count": 10,
   "id": "192a1ac6-6651-4115-9d2d-f49334cc69d5",
   "metadata": {},
   "outputs": [
    {
     "name": "stdout",
     "output_type": "stream",
     "text": [
      "Assay:  MPRA_Tiling_K562_Tewhey_Hannah \n",
      "Prefix: OL13 \n",
      "Region: fcc_astarr_macs_input_overlap \n",
      "\n"
     ]
    },
    {
     "name": "stderr",
     "output_type": "stream",
     "text": [
      "Warning message in filterByExpr.DGEList(dge):\n",
      "“All samples appear to belong to the same group.”\n",
      "Warning message in filterByExpr.DGEList(dge):\n",
      "“All samples appear to belong to the same group.”\n"
     ]
    },
    {
     "name": "stdout",
     "output_type": "stream",
     "text": [
      "Assay:  MPRA_Tiling_K562_Tewhey_Hannah \n",
      "Prefix: OL43 \n",
      "Region: fcc_astarr_macs_input_overlap \n",
      "\n"
     ]
    },
    {
     "name": "stderr",
     "output_type": "stream",
     "text": [
      "Warning message in filterByExpr.DGEList(dge):\n",
      "“All samples appear to belong to the same group.”\n",
      "Warning message in filterByExpr.DGEList(dge):\n",
      "“All samples appear to belong to the same group.”\n"
     ]
    },
    {
     "name": "stdout",
     "output_type": "stream",
     "text": [
      "Assay:  MPRA_Tiling_K562_Tewhey_Hannah \n",
      "Prefix: OL45 \n",
      "Region: fcc_astarr_macs_input_overlap \n",
      "\n"
     ]
    },
    {
     "name": "stderr",
     "output_type": "stream",
     "text": [
      "Warning message in filterByExpr.DGEList(dge):\n",
      "“All samples appear to belong to the same group.”\n",
      "Warning message in filterByExpr.DGEList(dge):\n",
      "“All samples appear to belong to the same group.”\n"
     ]
    },
    {
     "name": "stdout",
     "output_type": "stream",
     "text": [
      "Assay:  MPRA_Tiling_K562_Tewhey_Hannah \n",
      "Prefix: OL13 \n",
      "Region: fcc_astarr_macs_input_union \n",
      "\n"
     ]
    },
    {
     "name": "stderr",
     "output_type": "stream",
     "text": [
      "Warning message in filterByExpr.DGEList(dge):\n",
      "“All samples appear to belong to the same group.”\n",
      "Warning message in filterByExpr.DGEList(dge):\n",
      "“All samples appear to belong to the same group.”\n"
     ]
    },
    {
     "name": "stdout",
     "output_type": "stream",
     "text": [
      "Assay:  MPRA_Tiling_K562_Tewhey_Hannah \n",
      "Prefix: OL43 \n",
      "Region: fcc_astarr_macs_input_union \n",
      "\n"
     ]
    },
    {
     "name": "stderr",
     "output_type": "stream",
     "text": [
      "Warning message in filterByExpr.DGEList(dge):\n",
      "“All samples appear to belong to the same group.”\n",
      "Warning message in filterByExpr.DGEList(dge):\n",
      "“All samples appear to belong to the same group.”\n"
     ]
    },
    {
     "name": "stdout",
     "output_type": "stream",
     "text": [
      "Assay:  MPRA_Tiling_K562_Tewhey_Hannah \n",
      "Prefix: OL45 \n",
      "Region: fcc_astarr_macs_input_union \n",
      "\n"
     ]
    },
    {
     "name": "stderr",
     "output_type": "stream",
     "text": [
      "Warning message in filterByExpr.DGEList(dge):\n",
      "“All samples appear to belong to the same group.”\n",
      "Warning message in filterByExpr.DGEList(dge):\n",
      "“All samples appear to belong to the same group.”\n"
     ]
    }
   ],
   "source": [
    "### init\n",
    "txt_assay = TXT_ASSAY\n",
    "\n",
    "### excute\n",
    "for (txt_region in VEC_TXT_REGION) {\n",
    "    \n",
    "    ### init \n",
    "    lst_dat_screen     = list()\n",
    "    lst_dat_dds_result = list()\n",
    "    lst_dat_summary    = list()\n",
    "    \n",
    "    for (txt_prefix in VEC_TXT_PREFIX){\n",
    "\n",
    "        ### ========================================\n",
    "        ### Import data\n",
    "        ### ----------------------------------------\n",
    "        \n",
    "        ### show progress\n",
    "        cat(\"Assay: \", txt_assay,  \"\\n\")\n",
    "        cat(\"Prefix:\", txt_prefix, \"\\n\")\n",
    "        cat(\"Region:\", txt_region, \"\\n\")\n",
    "        cat(\"\\n\")\n",
    "        flush.console()\n",
    "\n",
    "        ### set file directory\n",
    "        txt_fdiry = file.path(\n",
    "            FD_RES, \n",
    "            \"region_coverage_fcc_score\",\n",
    "            txt_region,\n",
    "            txt_assay, \n",
    "            \"summary\"\n",
    "        )\n",
    "                \n",
    "        ### get matrix (raw count) and column data\n",
    "        txt_fname = paste(\"data.count_column.raw\", txt_prefix, \"rds\", sep = \".\")\n",
    "        txt_fpath = file.path(txt_fdiry, txt_fname)\n",
    "\n",
    "        lst_dat = readRDS(txt_fpath)\n",
    "        dat_cnt = lst_dat$data_cnt\n",
    "        dat_col = lst_dat$data_col\n",
    "        dat_region = dat_cnt %>% dplyr::select(Chrom, ChromStart, ChromEnd, Region)\n",
    "        \n",
    "        ### get DESeq2 object\n",
    "        txt_fname = paste(\"data.deseq2\", txt_prefix, \"rds\", sep = \".\")\n",
    "        txt_fpath = file.path(txt_fdiry, txt_fname)\n",
    "\n",
    "        dds = readRDS(txt_fpath)\n",
    "        \n",
    "        ### get EdgeR object\n",
    "        txt_fname = paste(\"data.edger\", txt_prefix, \"rds\", sep = \".\")\n",
    "        txt_fpath = file.path(txt_fdiry, txt_fname)\n",
    "\n",
    "        lst_dge = readRDS(txt_fpath)\n",
    "\n",
    "        ### ========================================\n",
    "        ### Calculate: Screened\n",
    "        ### ----------------------------------------\n",
    "\n",
    "        ### apply EdgeR filtering\n",
    "        lst = lst_dge\n",
    "        lst = lapply(lst, function(dge){\n",
    "            idx = filterByExpr(dge)\n",
    "            dat = data.frame(\n",
    "                Region = names(idx),\n",
    "                Screen = idx\n",
    "            )\n",
    "            return(dat)\n",
    "        })\n",
    "\n",
    "        ### summarize which regions are screened\n",
    "        dat = bind_rows(lst, .id = \"Set\")\n",
    "        dat = dat %>% tidyr::spread(Set, Screen)\n",
    "        dat = dplyr::inner_join(dat_region, dat, by = \"Region\")\n",
    "        \n",
    "        dat_screen = dat\n",
    "        \n",
    "        ### ========================================\n",
    "        ### Calculate DESeq2 Counts & Log2FC\n",
    "        ### ----------------------------------------\n",
    "\n",
    "        ### DESeq2 normalized counts\n",
    "        mat = counts(dds, normalized=TRUE)\n",
    "        dat = mat %>% as.data.frame %>% rownames_to_column(\"Region\")\n",
    "        dat = dplyr::inner_join(dat_region, dat, by = \"Region\")\n",
    "\n",
    "        mat_dds_count = mat\n",
    "        dat_dds_count = dat\n",
    "\n",
    "        ### Deseq2 results\n",
    "        res = results(dds, contrast = c(\"Group\", \"Output\", \"Input\"))\n",
    "        dat = res %>% as.data.frame %>% rownames_to_column(\"Region\")\n",
    "        dat = dplyr::inner_join(dat_region, dat, by = \"Region\")\n",
    "        \n",
    "        dat_dds_result = dat\n",
    "        \n",
    "        ### ========================================\n",
    "        ### Calculate TPM & FPKM\n",
    "        ### ----------------------------------------\n",
    "\n",
    "        ### init and get region length\n",
    "        dat = dat_cnt\n",
    "        dat = dat %>% dplyr::mutate(Length = ChromEnd - ChromStart)\n",
    "\n",
    "        ### arrange count into matrix\n",
    "        mat = dat %>% \n",
    "           dplyr::select(\n",
    "               Region, \n",
    "               starts_with(\"Input\"), \n",
    "               starts_with(\"Output\")) %>% \n",
    "           column_to_rownames(var = \"Region\")\n",
    "        \n",
    "        ### calculate TPM and FPKM\n",
    "        mat_tpm  = get_tpm(mat, dat$Length)\n",
    "        mat_fpkm = get_fpkm(mat, dat$Length)\n",
    "        \n",
    "        ### arrange matrix into dataframe\n",
    "        mat = mat_tpm\n",
    "        dat = mat %>% as.data.frame %>% rownames_to_column(\"Region\")\n",
    "        dat = dplyr::inner_join(dat_region, dat, by = \"Region\")\n",
    "        \n",
    "        dat_tpm = dat\n",
    "        \n",
    "        mat = mat_fpkm\n",
    "        dat = mat %>% as.data.frame %>% rownames_to_column(\"Region\")\n",
    "        dat = dplyr::inner_join(dat_region, dat, by = \"Region\")\n",
    "        \n",
    "        dat_fpkm = dat\n",
    "        \n",
    "        ### ========================================\n",
    "        ### Calculate mean TPM & FPKM\n",
    "        ### ----------------------------------------\n",
    "        \n",
    "        ### convert to tidy data\n",
    "        lst = list(\n",
    "            \"TPM\"   = mat_tpm,\n",
    "            \"FPKM\"  = mat_fpkm,\n",
    "            \"DESeq\" = mat_dds_count\n",
    "        )\n",
    "        lst = lapply(lst, function(mat){\n",
    "            dat = mat %>% \n",
    "                as.data.frame %>% \n",
    "                rownames_to_column(var = \"Region\") %>% \n",
    "                tidyr::gather(Sample, Value, -Region)\n",
    "            return(dat)\n",
    "        })\n",
    "        dat = bind_rows(lst, .id = \"Method\")\n",
    "        \n",
    "        ### calculate mean by group (Input & Output)\n",
    "        tmp = dat_col %>% dplyr::select(Sample, Group)\n",
    "        dat = dplyr::left_join(dat, tmp, by=\"Sample\")\n",
    "        dat = dat %>%\n",
    "            dplyr::group_by(Region, Method, Group) %>%\n",
    "            dplyr::summarize(Mean = mean(Value), .groups = \"drop\") %>%\n",
    "            dplyr::mutate(Name = paste(Group, Method, sep = \"_\")) %>%\n",
    "            dplyr::select(Region, Name, Mean) %>%\n",
    "            tidyr::spread(Name, Mean)\n",
    "        \n",
    "        dat = dplyr::inner_join(dat_region, dat, by = \"Region\")\n",
    "        dat_summary = dat\n",
    "\n",
    "        ### ========================================\n",
    "        ### Save results\n",
    "        ### ----------------------------------------\n",
    "\n",
    "        ### collect\n",
    "        lst_dat_screen[[txt_prefix]]     = dat_screen\n",
    "        lst_dat_dds_result[[txt_prefix]] = dat_dds_result\n",
    "        lst_dat_summary[[txt_prefix]]    = dat_summary\n",
    "        \n",
    "        #txt_fname = \"matrix.count.TPM.WGS.tsv\"\n",
    "        txt_fname = paste(\"matrix.count.TPM\", txt_prefix, \"tsv\", sep = \".\")\n",
    "        txt_fpath = file.path(txt_fdiry, txt_fname)\n",
    "        dat = dat_tpm\n",
    "        write_tsv(dat, txt_fpath)\n",
    "        \n",
    "        #txt_fname = \"matrix.count.FPKM.WGS.tsv\"\n",
    "        txt_fname = paste(\"matrix.count.FPKM\", txt_prefix, \"tsv\", sep = \".\")\n",
    "        txt_fpath = file.path(txt_fdiry, txt_fname)\n",
    "        dat = dat_fpkm\n",
    "        write_tsv(dat, txt_fpath)\n",
    "        \n",
    "        #txt_fname = \"matrix.count.deseq.WGS.tsv\"\n",
    "        txt_fname = paste(\"matrix.count.deseq\", txt_prefix, \"tsv\", sep = \".\")\n",
    "        txt_fpath = file.path(txt_fdiry, txt_fname)\n",
    "        dat = dat_dds_count\n",
    "        write_tsv(dat, txt_fpath)\n",
    "        \n",
    "        #txt_fname = \"result.coverage.Log2FC.deseq.tsv\"\n",
    "        txt_fname = paste(\"region.coverage.Log2FC.deseq\", txt_prefix, \"tsv\", sep = \".\")\n",
    "        txt_fpath = file.path(txt_fdiry, txt_fname)\n",
    "        dat = dat_dds_result\n",
    "        write_tsv(dat, txt_fpath)\n",
    "        \n",
    "        #txt_fname = \"result.coverage.TPM.FPKM.tsv\"\n",
    "        txt_fname = paste(\"region.coverage.summary\", txt_prefix, \"tsv\", sep = \".\")\n",
    "        txt_fpath = file.path(txt_fdiry, txt_fname)\n",
    "        dat = dat_summary\n",
    "        write_tsv(dat, txt_fpath)\n",
    "        \n",
    "        #txt_fname = \"result.coverage.screened.tsv\"\n",
    "        txt_fname = paste(\"region.coverage.screened\", txt_prefix, \"tsv\", sep = \".\")\n",
    "        txt_fpath = file.path(txt_fdiry, txt_fname)\n",
    "        dat = dat_screen\n",
    "        write_tsv(dat, txt_fpath)\n",
    "    }\n",
    "    \n",
    "    ### concatenate batches\n",
    "    lst = lst_dat_screen\n",
    "    dat = bind_rows(lst, .id = \"Batch\")\n",
    "    dat_screen_merge = dat\n",
    "    \n",
    "    lst = lst_dat_dds_result\n",
    "    dat = bind_rows(lst, .id = \"Batch\")\n",
    "    dat_dds_result_merge = dat\n",
    "    \n",
    "    lst = lst_dat_summary\n",
    "    dat = bind_rows(lst, .id = \"Batch\")\n",
    "    dat_summary_merge = dat\n",
    "    \n",
    "    #txt_fname = \"result.coverage.Log2FC.deseq.tsv\"\n",
    "    txt_fname = paste(\"region.coverage.Log2FC.deseq\", \"tsv\", sep = \".\")\n",
    "    txt_fpath = file.path(txt_fdiry, txt_fname)\n",
    "    dat = dat_dds_result_merge\n",
    "    write_tsv(dat, txt_fpath)\n",
    "    \n",
    "    #txt_fname = \"result.coverage.TPM.FPKM.tsv\"\n",
    "    txt_fname = paste(\"region.coverage.summary\", \"tsv\", sep = \".\")\n",
    "    txt_fpath = file.path(txt_fdiry, txt_fname)\n",
    "    dat = dat_summary_merge\n",
    "    write_tsv(dat, txt_fpath)\n",
    "    \n",
    "    #txt_fname = \"result.coverage.screened.tsv\"\n",
    "    txt_fname = paste(\"region.coverage.screened\", \"tsv\", sep = \".\")\n",
    "    txt_fpath = file.path(txt_fdiry, txt_fname)\n",
    "    dat = dat_screen_merge\n",
    "    write_tsv(dat, txt_fpath)\n",
    "}"
   ]
  },
  {
   "cell_type": "markdown",
   "id": "364daccf-fcbe-4e11-8af8-49186e8b9897",
   "metadata": {},
   "source": [
    "## Review"
   ]
  },
  {
   "cell_type": "code",
   "execution_count": 11,
   "id": "4bc92b49-0ad4-4662-afc5-38abfd52dd2e",
   "metadata": {},
   "outputs": [
    {
     "name": "stdout",
     "output_type": "stream",
     "text": [
      "Assay:  MPRA_Tiling_K562_Tewhey_Hannah \n",
      "Prefix: OL45 \n",
      "Region: fcc_astarr_macs_input_union \n"
     ]
    }
   ],
   "source": [
    "### show progress\n",
    "cat(\"Assay: \", txt_assay,  \"\\n\")\n",
    "cat(\"Prefix:\", txt_prefix, \"\\n\")\n",
    "cat(\"Region:\", txt_region, \"\\n\")"
   ]
  },
  {
   "cell_type": "code",
   "execution_count": 12,
   "id": "24b88d16-479e-4543-8126-2f2112b3e889",
   "metadata": {},
   "outputs": [
    {
     "data": {
      "text/html": [
       "<table class=\"dataframe\">\n",
       "<caption>A tibble: 3 × 12</caption>\n",
       "<thead>\n",
       "\t<tr><th scope=col>Chrom</th><th scope=col>ChromStart</th><th scope=col>ChromEnd</th><th scope=col>Region</th><th scope=col>Input.rep1</th><th scope=col>Input.rep2</th><th scope=col>Input.rep3</th><th scope=col>Input.rep4</th><th scope=col>Output.rep1</th><th scope=col>Output.rep2</th><th scope=col>Output.rep3</th><th scope=col>Output.rep4</th></tr>\n",
       "\t<tr><th scope=col>&lt;chr&gt;</th><th scope=col>&lt;dbl&gt;</th><th scope=col>&lt;dbl&gt;</th><th scope=col>&lt;chr&gt;</th><th scope=col>&lt;dbl&gt;</th><th scope=col>&lt;dbl&gt;</th><th scope=col>&lt;dbl&gt;</th><th scope=col>&lt;dbl&gt;</th><th scope=col>&lt;dbl&gt;</th><th scope=col>&lt;dbl&gt;</th><th scope=col>&lt;dbl&gt;</th><th scope=col>&lt;dbl&gt;</th></tr>\n",
       "</thead>\n",
       "<tbody>\n",
       "\t<tr><td>chr11</td><td>4539569</td><td>4540043</td><td>chr11:4539569-4540043</td><td>3154.169</td><td>2987.859</td><td>3082.831</td><td>3175.009</td><td> 1690.818</td><td> 1621.901</td><td> 1587.496</td><td> 1595.478</td></tr>\n",
       "\t<tr><td>chr11</td><td>4551336</td><td>4552012</td><td>chr11:4551336-4552012</td><td>4612.922</td><td>4530.288</td><td>4727.241</td><td>4467.691</td><td> 5305.174</td><td> 4464.261</td><td> 4550.544</td><td> 5561.003</td></tr>\n",
       "\t<tr><td>chr11</td><td>4553969</td><td>4555012</td><td>chr11:4553969-4555012</td><td>5997.206</td><td>5893.087</td><td>5869.550</td><td>6155.459</td><td>22852.932</td><td>27955.727</td><td>31852.766</td><td>21504.754</td></tr>\n",
       "</tbody>\n",
       "</table>\n"
      ],
      "text/latex": [
       "A tibble: 3 × 12\n",
       "\\begin{tabular}{llllllllllll}\n",
       " Chrom & ChromStart & ChromEnd & Region & Input.rep1 & Input.rep2 & Input.rep3 & Input.rep4 & Output.rep1 & Output.rep2 & Output.rep3 & Output.rep4\\\\\n",
       " <chr> & <dbl> & <dbl> & <chr> & <dbl> & <dbl> & <dbl> & <dbl> & <dbl> & <dbl> & <dbl> & <dbl>\\\\\n",
       "\\hline\n",
       "\t chr11 & 4539569 & 4540043 & chr11:4539569-4540043 & 3154.169 & 2987.859 & 3082.831 & 3175.009 &  1690.818 &  1621.901 &  1587.496 &  1595.478\\\\\n",
       "\t chr11 & 4551336 & 4552012 & chr11:4551336-4552012 & 4612.922 & 4530.288 & 4727.241 & 4467.691 &  5305.174 &  4464.261 &  4550.544 &  5561.003\\\\\n",
       "\t chr11 & 4553969 & 4555012 & chr11:4553969-4555012 & 5997.206 & 5893.087 & 5869.550 & 6155.459 & 22852.932 & 27955.727 & 31852.766 & 21504.754\\\\\n",
       "\\end{tabular}\n"
      ],
      "text/markdown": [
       "\n",
       "A tibble: 3 × 12\n",
       "\n",
       "| Chrom &lt;chr&gt; | ChromStart &lt;dbl&gt; | ChromEnd &lt;dbl&gt; | Region &lt;chr&gt; | Input.rep1 &lt;dbl&gt; | Input.rep2 &lt;dbl&gt; | Input.rep3 &lt;dbl&gt; | Input.rep4 &lt;dbl&gt; | Output.rep1 &lt;dbl&gt; | Output.rep2 &lt;dbl&gt; | Output.rep3 &lt;dbl&gt; | Output.rep4 &lt;dbl&gt; |\n",
       "|---|---|---|---|---|---|---|---|---|---|---|---|\n",
       "| chr11 | 4539569 | 4540043 | chr11:4539569-4540043 | 3154.169 | 2987.859 | 3082.831 | 3175.009 |  1690.818 |  1621.901 |  1587.496 |  1595.478 |\n",
       "| chr11 | 4551336 | 4552012 | chr11:4551336-4552012 | 4612.922 | 4530.288 | 4727.241 | 4467.691 |  5305.174 |  4464.261 |  4550.544 |  5561.003 |\n",
       "| chr11 | 4553969 | 4555012 | chr11:4553969-4555012 | 5997.206 | 5893.087 | 5869.550 | 6155.459 | 22852.932 | 27955.727 | 31852.766 | 21504.754 |\n",
       "\n"
      ],
      "text/plain": [
       "  Chrom ChromStart ChromEnd Region                Input.rep1 Input.rep2\n",
       "1 chr11 4539569    4540043  chr11:4539569-4540043 3154.169   2987.859  \n",
       "2 chr11 4551336    4552012  chr11:4551336-4552012 4612.922   4530.288  \n",
       "3 chr11 4553969    4555012  chr11:4553969-4555012 5997.206   5893.087  \n",
       "  Input.rep3 Input.rep4 Output.rep1 Output.rep2 Output.rep3 Output.rep4\n",
       "1 3082.831   3175.009    1690.818    1621.901    1587.496    1595.478  \n",
       "2 4727.241   4467.691    5305.174    4464.261    4550.544    5561.003  \n",
       "3 5869.550   6155.459   22852.932   27955.727   31852.766   21504.754  "
      ]
     },
     "metadata": {},
     "output_type": "display_data"
    }
   ],
   "source": [
    "head(dat_dds_count, 3)"
   ]
  },
  {
   "cell_type": "code",
   "execution_count": 13,
   "id": "d8294838-629f-4778-b878-91f4e4e53964",
   "metadata": {},
   "outputs": [
    {
     "data": {
      "text/html": [
       "<table class=\"dataframe\">\n",
       "<caption>A tibble: 3 × 12</caption>\n",
       "<thead>\n",
       "\t<tr><th scope=col>Chrom</th><th scope=col>ChromStart</th><th scope=col>ChromEnd</th><th scope=col>Region</th><th scope=col>Input.rep1</th><th scope=col>Input.rep2</th><th scope=col>Input.rep3</th><th scope=col>Input.rep4</th><th scope=col>Output.rep1</th><th scope=col>Output.rep2</th><th scope=col>Output.rep3</th><th scope=col>Output.rep4</th></tr>\n",
       "\t<tr><th scope=col>&lt;chr&gt;</th><th scope=col>&lt;dbl&gt;</th><th scope=col>&lt;dbl&gt;</th><th scope=col>&lt;chr&gt;</th><th scope=col>&lt;dbl&gt;</th><th scope=col>&lt;dbl&gt;</th><th scope=col>&lt;dbl&gt;</th><th scope=col>&lt;dbl&gt;</th><th scope=col>&lt;dbl&gt;</th><th scope=col>&lt;dbl&gt;</th><th scope=col>&lt;dbl&gt;</th><th scope=col>&lt;dbl&gt;</th></tr>\n",
       "</thead>\n",
       "<tbody>\n",
       "\t<tr><td>chr11</td><td>4539569</td><td>4540043</td><td>chr11:4539569-4540043</td><td>732.7824</td><td>696.7152</td><td>716.2879</td><td>736.5864</td><td> 185.8892</td><td> 183.9695</td><td> 177.9628</td><td> 168.3192</td></tr>\n",
       "\t<tr><td>chr11</td><td>4551336</td><td>4552012</td><td>chr11:4551336-4552012</td><td>751.4459</td><td>740.7177</td><td>770.1536</td><td>726.7642</td><td> 408.9672</td><td> 355.0608</td><td> 357.6940</td><td> 411.3653</td></tr>\n",
       "\t<tr><td>chr11</td><td>4553969</td><td>4555012</td><td>chr11:4553969-4555012</td><td>633.1885</td><td>624.4996</td><td>619.7789</td><td>648.9829</td><td>1141.8082</td><td>1441.0741</td><td>1622.7736</td><td>1031.0301</td></tr>\n",
       "</tbody>\n",
       "</table>\n"
      ],
      "text/latex": [
       "A tibble: 3 × 12\n",
       "\\begin{tabular}{llllllllllll}\n",
       " Chrom & ChromStart & ChromEnd & Region & Input.rep1 & Input.rep2 & Input.rep3 & Input.rep4 & Output.rep1 & Output.rep2 & Output.rep3 & Output.rep4\\\\\n",
       " <chr> & <dbl> & <dbl> & <chr> & <dbl> & <dbl> & <dbl> & <dbl> & <dbl> & <dbl> & <dbl> & <dbl>\\\\\n",
       "\\hline\n",
       "\t chr11 & 4539569 & 4540043 & chr11:4539569-4540043 & 732.7824 & 696.7152 & 716.2879 & 736.5864 &  185.8892 &  183.9695 &  177.9628 &  168.3192\\\\\n",
       "\t chr11 & 4551336 & 4552012 & chr11:4551336-4552012 & 751.4459 & 740.7177 & 770.1536 & 726.7642 &  408.9672 &  355.0608 &  357.6940 &  411.3653\\\\\n",
       "\t chr11 & 4553969 & 4555012 & chr11:4553969-4555012 & 633.1885 & 624.4996 & 619.7789 & 648.9829 & 1141.8082 & 1441.0741 & 1622.7736 & 1031.0301\\\\\n",
       "\\end{tabular}\n"
      ],
      "text/markdown": [
       "\n",
       "A tibble: 3 × 12\n",
       "\n",
       "| Chrom &lt;chr&gt; | ChromStart &lt;dbl&gt; | ChromEnd &lt;dbl&gt; | Region &lt;chr&gt; | Input.rep1 &lt;dbl&gt; | Input.rep2 &lt;dbl&gt; | Input.rep3 &lt;dbl&gt; | Input.rep4 &lt;dbl&gt; | Output.rep1 &lt;dbl&gt; | Output.rep2 &lt;dbl&gt; | Output.rep3 &lt;dbl&gt; | Output.rep4 &lt;dbl&gt; |\n",
       "|---|---|---|---|---|---|---|---|---|---|---|---|\n",
       "| chr11 | 4539569 | 4540043 | chr11:4539569-4540043 | 732.7824 | 696.7152 | 716.2879 | 736.5864 |  185.8892 |  183.9695 |  177.9628 |  168.3192 |\n",
       "| chr11 | 4551336 | 4552012 | chr11:4551336-4552012 | 751.4459 | 740.7177 | 770.1536 | 726.7642 |  408.9672 |  355.0608 |  357.6940 |  411.3653 |\n",
       "| chr11 | 4553969 | 4555012 | chr11:4553969-4555012 | 633.1885 | 624.4996 | 619.7789 | 648.9829 | 1141.8082 | 1441.0741 | 1622.7736 | 1031.0301 |\n",
       "\n"
      ],
      "text/plain": [
       "  Chrom ChromStart ChromEnd Region                Input.rep1 Input.rep2\n",
       "1 chr11 4539569    4540043  chr11:4539569-4540043 732.7824   696.7152  \n",
       "2 chr11 4551336    4552012  chr11:4551336-4552012 751.4459   740.7177  \n",
       "3 chr11 4553969    4555012  chr11:4553969-4555012 633.1885   624.4996  \n",
       "  Input.rep3 Input.rep4 Output.rep1 Output.rep2 Output.rep3 Output.rep4\n",
       "1 716.2879   736.5864    185.8892    183.9695    177.9628    168.3192  \n",
       "2 770.1536   726.7642    408.9672    355.0608    357.6940    411.3653  \n",
       "3 619.7789   648.9829   1141.8082   1441.0741   1622.7736   1031.0301  "
      ]
     },
     "metadata": {},
     "output_type": "display_data"
    }
   ],
   "source": [
    "head(dat_tpm, 3)"
   ]
  },
  {
   "cell_type": "code",
   "execution_count": 14,
   "id": "2c176987-3c22-44d1-b036-f4991831aea4",
   "metadata": {},
   "outputs": [
    {
     "data": {
      "text/html": [
       "<table class=\"dataframe\">\n",
       "<caption>A tibble: 3 × 12</caption>\n",
       "<thead>\n",
       "\t<tr><th scope=col>Chrom</th><th scope=col>ChromStart</th><th scope=col>ChromEnd</th><th scope=col>Region</th><th scope=col>Input.rep1</th><th scope=col>Input.rep2</th><th scope=col>Input.rep3</th><th scope=col>Input.rep4</th><th scope=col>Output.rep1</th><th scope=col>Output.rep2</th><th scope=col>Output.rep3</th><th scope=col>Output.rep4</th></tr>\n",
       "\t<tr><th scope=col>&lt;chr&gt;</th><th scope=col>&lt;dbl&gt;</th><th scope=col>&lt;dbl&gt;</th><th scope=col>&lt;chr&gt;</th><th scope=col>&lt;dbl&gt;</th><th scope=col>&lt;dbl&gt;</th><th scope=col>&lt;dbl&gt;</th><th scope=col>&lt;dbl&gt;</th><th scope=col>&lt;dbl&gt;</th><th scope=col>&lt;dbl&gt;</th><th scope=col>&lt;dbl&gt;</th><th scope=col>&lt;dbl&gt;</th></tr>\n",
       "</thead>\n",
       "<tbody>\n",
       "\t<tr><td>chr11</td><td>4539569</td><td>4540043</td><td>chr11:4539569-4540043</td><td>0.8786719</td><td>0.8353773</td><td>0.8598151</td><td>0.8825189</td><td>0.1949980</td><td>0.1951447</td><td>0.1885996</td><td>0.1763881</td></tr>\n",
       "\t<tr><td>chr11</td><td>4551336</td><td>4552012</td><td>chr11:4551336-4552012</td><td>0.9010512</td><td>0.8881373</td><td>0.9244742</td><td>0.8707508</td><td>0.4290071</td><td>0.3766289</td><td>0.3790733</td><td>0.4310852</td></tr>\n",
       "\t<tr><td>chr11</td><td>4553969</td><td>4555012</td><td>chr11:4553969-4555012</td><td>0.7592499</td><td>0.7487891</td><td>0.7439681</td><td>0.7775594</td><td>1.1977584</td><td>1.5286119</td><td>1.7197663</td><td>1.0804553</td></tr>\n",
       "</tbody>\n",
       "</table>\n"
      ],
      "text/latex": [
       "A tibble: 3 × 12\n",
       "\\begin{tabular}{llllllllllll}\n",
       " Chrom & ChromStart & ChromEnd & Region & Input.rep1 & Input.rep2 & Input.rep3 & Input.rep4 & Output.rep1 & Output.rep2 & Output.rep3 & Output.rep4\\\\\n",
       " <chr> & <dbl> & <dbl> & <chr> & <dbl> & <dbl> & <dbl> & <dbl> & <dbl> & <dbl> & <dbl> & <dbl>\\\\\n",
       "\\hline\n",
       "\t chr11 & 4539569 & 4540043 & chr11:4539569-4540043 & 0.8786719 & 0.8353773 & 0.8598151 & 0.8825189 & 0.1949980 & 0.1951447 & 0.1885996 & 0.1763881\\\\\n",
       "\t chr11 & 4551336 & 4552012 & chr11:4551336-4552012 & 0.9010512 & 0.8881373 & 0.9244742 & 0.8707508 & 0.4290071 & 0.3766289 & 0.3790733 & 0.4310852\\\\\n",
       "\t chr11 & 4553969 & 4555012 & chr11:4553969-4555012 & 0.7592499 & 0.7487891 & 0.7439681 & 0.7775594 & 1.1977584 & 1.5286119 & 1.7197663 & 1.0804553\\\\\n",
       "\\end{tabular}\n"
      ],
      "text/markdown": [
       "\n",
       "A tibble: 3 × 12\n",
       "\n",
       "| Chrom &lt;chr&gt; | ChromStart &lt;dbl&gt; | ChromEnd &lt;dbl&gt; | Region &lt;chr&gt; | Input.rep1 &lt;dbl&gt; | Input.rep2 &lt;dbl&gt; | Input.rep3 &lt;dbl&gt; | Input.rep4 &lt;dbl&gt; | Output.rep1 &lt;dbl&gt; | Output.rep2 &lt;dbl&gt; | Output.rep3 &lt;dbl&gt; | Output.rep4 &lt;dbl&gt; |\n",
       "|---|---|---|---|---|---|---|---|---|---|---|---|\n",
       "| chr11 | 4539569 | 4540043 | chr11:4539569-4540043 | 0.8786719 | 0.8353773 | 0.8598151 | 0.8825189 | 0.1949980 | 0.1951447 | 0.1885996 | 0.1763881 |\n",
       "| chr11 | 4551336 | 4552012 | chr11:4551336-4552012 | 0.9010512 | 0.8881373 | 0.9244742 | 0.8707508 | 0.4290071 | 0.3766289 | 0.3790733 | 0.4310852 |\n",
       "| chr11 | 4553969 | 4555012 | chr11:4553969-4555012 | 0.7592499 | 0.7487891 | 0.7439681 | 0.7775594 | 1.1977584 | 1.5286119 | 1.7197663 | 1.0804553 |\n",
       "\n"
      ],
      "text/plain": [
       "  Chrom ChromStart ChromEnd Region                Input.rep1 Input.rep2\n",
       "1 chr11 4539569    4540043  chr11:4539569-4540043 0.8786719  0.8353773 \n",
       "2 chr11 4551336    4552012  chr11:4551336-4552012 0.9010512  0.8881373 \n",
       "3 chr11 4553969    4555012  chr11:4553969-4555012 0.7592499  0.7487891 \n",
       "  Input.rep3 Input.rep4 Output.rep1 Output.rep2 Output.rep3 Output.rep4\n",
       "1 0.8598151  0.8825189  0.1949980   0.1951447   0.1885996   0.1763881  \n",
       "2 0.9244742  0.8707508  0.4290071   0.3766289   0.3790733   0.4310852  \n",
       "3 0.7439681  0.7775594  1.1977584   1.5286119   1.7197663   1.0804553  "
      ]
     },
     "metadata": {},
     "output_type": "display_data"
    }
   ],
   "source": [
    "head(dat_fpkm, 3)"
   ]
  },
  {
   "cell_type": "code",
   "execution_count": 15,
   "id": "d2aefdcd-bd8b-49ef-9ff2-fc6121e19809",
   "metadata": {},
   "outputs": [
    {
     "data": {
      "text/html": [
       "<table class=\"dataframe\">\n",
       "<caption>A tibble: 3 × 10</caption>\n",
       "<thead>\n",
       "\t<tr><th scope=col>Chrom</th><th scope=col>ChromStart</th><th scope=col>ChromEnd</th><th scope=col>Region</th><th scope=col>Input_DESeq</th><th scope=col>Input_FPKM</th><th scope=col>Input_TPM</th><th scope=col>Output_DESeq</th><th scope=col>Output_FPKM</th><th scope=col>Output_TPM</th></tr>\n",
       "\t<tr><th scope=col>&lt;chr&gt;</th><th scope=col>&lt;dbl&gt;</th><th scope=col>&lt;dbl&gt;</th><th scope=col>&lt;chr&gt;</th><th scope=col>&lt;dbl&gt;</th><th scope=col>&lt;dbl&gt;</th><th scope=col>&lt;dbl&gt;</th><th scope=col>&lt;dbl&gt;</th><th scope=col>&lt;dbl&gt;</th><th scope=col>&lt;dbl&gt;</th></tr>\n",
       "</thead>\n",
       "<tbody>\n",
       "\t<tr><td>chr11</td><td>4539569</td><td>4540043</td><td>chr11:4539569-4540043</td><td>3099.967</td><td>0.8640958</td><td>720.5930</td><td> 1623.923</td><td>0.1887826</td><td> 179.0352</td></tr>\n",
       "\t<tr><td>chr11</td><td>4551336</td><td>4552012</td><td>chr11:4551336-4552012</td><td>4584.535</td><td>0.8961034</td><td>747.2704</td><td> 4970.245</td><td>0.4039486</td><td> 383.2718</td></tr>\n",
       "\t<tr><td>chr11</td><td>4553969</td><td>4555012</td><td>chr11:4553969-4555012</td><td>5978.826</td><td>0.7573916</td><td>631.6125</td><td>26041.545</td><td>1.3816480</td><td>1309.1715</td></tr>\n",
       "</tbody>\n",
       "</table>\n"
      ],
      "text/latex": [
       "A tibble: 3 × 10\n",
       "\\begin{tabular}{llllllllll}\n",
       " Chrom & ChromStart & ChromEnd & Region & Input\\_DESeq & Input\\_FPKM & Input\\_TPM & Output\\_DESeq & Output\\_FPKM & Output\\_TPM\\\\\n",
       " <chr> & <dbl> & <dbl> & <chr> & <dbl> & <dbl> & <dbl> & <dbl> & <dbl> & <dbl>\\\\\n",
       "\\hline\n",
       "\t chr11 & 4539569 & 4540043 & chr11:4539569-4540043 & 3099.967 & 0.8640958 & 720.5930 &  1623.923 & 0.1887826 &  179.0352\\\\\n",
       "\t chr11 & 4551336 & 4552012 & chr11:4551336-4552012 & 4584.535 & 0.8961034 & 747.2704 &  4970.245 & 0.4039486 &  383.2718\\\\\n",
       "\t chr11 & 4553969 & 4555012 & chr11:4553969-4555012 & 5978.826 & 0.7573916 & 631.6125 & 26041.545 & 1.3816480 & 1309.1715\\\\\n",
       "\\end{tabular}\n"
      ],
      "text/markdown": [
       "\n",
       "A tibble: 3 × 10\n",
       "\n",
       "| Chrom &lt;chr&gt; | ChromStart &lt;dbl&gt; | ChromEnd &lt;dbl&gt; | Region &lt;chr&gt; | Input_DESeq &lt;dbl&gt; | Input_FPKM &lt;dbl&gt; | Input_TPM &lt;dbl&gt; | Output_DESeq &lt;dbl&gt; | Output_FPKM &lt;dbl&gt; | Output_TPM &lt;dbl&gt; |\n",
       "|---|---|---|---|---|---|---|---|---|---|\n",
       "| chr11 | 4539569 | 4540043 | chr11:4539569-4540043 | 3099.967 | 0.8640958 | 720.5930 |  1623.923 | 0.1887826 |  179.0352 |\n",
       "| chr11 | 4551336 | 4552012 | chr11:4551336-4552012 | 4584.535 | 0.8961034 | 747.2704 |  4970.245 | 0.4039486 |  383.2718 |\n",
       "| chr11 | 4553969 | 4555012 | chr11:4553969-4555012 | 5978.826 | 0.7573916 | 631.6125 | 26041.545 | 1.3816480 | 1309.1715 |\n",
       "\n"
      ],
      "text/plain": [
       "  Chrom ChromStart ChromEnd Region                Input_DESeq Input_FPKM\n",
       "1 chr11 4539569    4540043  chr11:4539569-4540043 3099.967    0.8640958 \n",
       "2 chr11 4551336    4552012  chr11:4551336-4552012 4584.535    0.8961034 \n",
       "3 chr11 4553969    4555012  chr11:4553969-4555012 5978.826    0.7573916 \n",
       "  Input_TPM Output_DESeq Output_FPKM Output_TPM\n",
       "1 720.5930   1623.923    0.1887826    179.0352 \n",
       "2 747.2704   4970.245    0.4039486    383.2718 \n",
       "3 631.6125  26041.545    1.3816480   1309.1715 "
      ]
     },
     "metadata": {},
     "output_type": "display_data"
    }
   ],
   "source": [
    "head(dat_summary, 3)"
   ]
  },
  {
   "cell_type": "code",
   "execution_count": null,
   "id": "f9435804-86c0-4d43-a649-6a0391c794cb",
   "metadata": {},
   "outputs": [],
   "source": []
  }
 ],
 "metadata": {
  "kernelspec": {
   "display_name": "R",
   "language": "R",
   "name": "ir"
  },
  "language_info": {
   "codemirror_mode": "r",
   "file_extension": ".r",
   "mimetype": "text/x-r-source",
   "name": "R",
   "pygments_lexer": "r",
   "version": "4.4.2"
  }
 },
 "nbformat": 4,
 "nbformat_minor": 5
}
