{
 "cells": [
  {
   "cell_type": "raw",
   "id": "cc32a1a2-fce1-44b5-b639-c9d32c0ddf4f",
   "metadata": {},
   "source": [
    "---\n",
    "title: ...\n",
    "subtitle: ...\n",
    "format:\n",
    "    html:\n",
    "        code-fold:  true\n",
    "        code-tools: true\n",
    "---"
   ]
  },
  {
   "cell_type": "markdown",
   "id": "eea72570-f332-4e9b-a402-d263db56b852",
   "metadata": {},
   "source": [
    "**Set environment**"
   ]
  },
  {
   "cell_type": "code",
   "execution_count": 1,
   "id": "bd85a6fb-419b-46d8-a60c-02fe6927af22",
   "metadata": {},
   "outputs": [
    {
     "name": "stdout",
     "output_type": "stream",
     "text": [
      "You are working on        Singularity: singularity_proj_encode_fcc \n",
      "BASE DIRECTORY (FD_BASE): /data/reddylab/Kuei \n",
      "REPO DIRECTORY (FD_REPO): /data/reddylab/Kuei/repo \n",
      "WORK DIRECTORY (FD_WORK): /data/reddylab/Kuei/work \n",
      "DATA DIRECTORY (FD_DATA): /data/reddylab/Kuei/data \n",
      "\n",
      "You are working with      ENCODE FCC \n",
      "PATH OF PROJECT (FD_PRJ): /data/reddylab/Kuei/repo/Proj_ENCODE_FCC \n",
      "PROJECT RESULTS (FD_RES): /data/reddylab/Kuei/repo/Proj_ENCODE_FCC/results \n",
      "PROJECT SCRIPTS (FD_EXE): /data/reddylab/Kuei/repo/Proj_ENCODE_FCC/scripts \n",
      "PROJECT DATA    (FD_DAT): /data/reddylab/Kuei/repo/Proj_ENCODE_FCC/data \n",
      "PROJECT NOTE    (FD_NBK): /data/reddylab/Kuei/repo/Proj_ENCODE_FCC/notebooks \n",
      "PROJECT DOCS    (FD_DOC): /data/reddylab/Kuei/repo/Proj_ENCODE_FCC/docs \n",
      "PROJECT LOG     (FD_LOG): /data/reddylab/Kuei/repo/Proj_ENCODE_FCC/log \n",
      "PROJECT REF     (FD_REF): /data/reddylab/Kuei/repo/Proj_ENCODE_FCC/references \n",
      "\n"
     ]
    }
   ],
   "source": [
    "suppressMessages(suppressWarnings(source(\"../run_config_project_sing.R\")))\n",
    "show_env()"
   ]
  },
  {
   "cell_type": "markdown",
   "id": "535ff1eb-9fa7-4c98-af0c-d080519a64d1",
   "metadata": {},
   "source": [
    "**Set global variable**"
   ]
  },
  {
   "cell_type": "code",
   "execution_count": 2,
   "id": "d28984ba-2476-4baa-9955-210555eed246",
   "metadata": {},
   "outputs": [
    {
     "name": "stdout",
     "output_type": "stream",
     "text": [
      "fcc_astarr_macs_input_overlap \n",
      "fcc_astarr_macs_input_union \n"
     ]
    }
   ],
   "source": [
    "#txt_fdiry = file.path(FD_RES, \"region_coverage_fcc\")\n",
    "#vec = dir(txt_fdiry)\n",
    "vec = c(\"fcc_astarr_macs_input_overlap\", \"fcc_astarr_macs_input_union\")\n",
    "names(vec) = vec\n",
    "\n",
    "VEC_TXT_REGION = vec\n",
    "for (txt in vec) {cat(txt, \"\\n\")}"
   ]
  },
  {
   "cell_type": "markdown",
   "id": "eebbeece-c3ef-40c7-8a97-964e1ceb3e4a",
   "metadata": {},
   "source": [
    "## Prepare input"
   ]
  },
  {
   "cell_type": "markdown",
   "id": "12f61e43-2ce3-4fe8-9e14-58fbb0757811",
   "metadata": {},
   "source": [
    "**Different region sets**"
   ]
  },
  {
   "cell_type": "code",
   "execution_count": 3,
   "id": "b26c0cf9-6356-4b54-a896-58c736ffbc0f",
   "metadata": {},
   "outputs": [
    {
     "name": "stdout",
     "output_type": "stream",
     "text": [
      "atac_ENCFF333TAT \n",
      "atac_ENCFF558BLC \n",
      "atac_ENCFF925CYR \n",
      "atac_ENCFF948AFM \n",
      "dnase_ENCFF185XRG \n",
      "dnase_ENCFF274YGF \n",
      "fcc_astarr_macs_input_overlap \n",
      "fcc_astarr_macs_input_union \n"
     ]
    }
   ],
   "source": [
    "txt_fdiry = file.path(FD_RES, \"region_coverage_fcc\")\n",
    "vec = dir(txt_fdiry)\n",
    "for (txt in vec) {cat(txt, \"\\n\")}"
   ]
  },
  {
   "cell_type": "markdown",
   "id": "87b0e212-6181-405d-8ecb-eff4033dba2b",
   "metadata": {},
   "source": [
    "**Different fcc assays**"
   ]
  },
  {
   "cell_type": "code",
   "execution_count": 4,
   "id": "b45e9e9b-6abd-4b56-8a00-c41131d951e3",
   "metadata": {},
   "outputs": [
    {
     "name": "stdout",
     "output_type": "stream",
     "text": [
      "CRISPRi_FlowFISH_K562_Riley_JinWoo \n",
      "CRISPRi_Growth_K562_Gersbach_JinWoo \n",
      "MPRA_Lenti_K562_Nadav_Vikram \n",
      "MPRA_Tiling_K562_Tewhey_Hannah \n",
      "STARR_ATAC_K562_Reddy_KS274 \n",
      "STARR_ATAC_K562_Reddy_KS91 \n",
      "STARR_ATAC_K562_Reddy_KSMerge \n",
      "STARR_WHG_K562_Reddy_A001 \n",
      "summary \n"
     ]
    }
   ],
   "source": [
    "txt_region = \"fcc_astarr_macs_input_overlap\"\n",
    "txt_fdiry  = file.path(FD_RES, \"region_coverage_fcc\", txt_region)\n",
    "vec = dir(txt_fdiry)\n",
    "for (txt in vec) {cat(txt, \"\\n\")}"
   ]
  },
  {
   "cell_type": "markdown",
   "id": "c56e0e0b-30e5-4c69-9e17-f0b706222a93",
   "metadata": {},
   "source": [
    "**Setup assay name, type, and group matching**"
   ]
  },
  {
   "cell_type": "code",
   "execution_count": 5,
   "id": "e28ee902-e52c-425d-b1bc-e88dddd9bc9e",
   "metadata": {},
   "outputs": [],
   "source": [
    "VEC_TXT_ASSAY_NAME = c(\n",
    "    \"CRISPRi_FlowFISH_K562_Riley_JinWoo\",\n",
    "    \"CRISPRi_Growth_K562_Gersbach_JinWoo\", \n",
    "    \"MPRA_Lenti_K562_Nadav_Vikram\", \n",
    "    \"MPRA_Tiling_K562_Tewhey_Hannah\", \n",
    "    \"STARR_ATAC_K562_Reddy_KS274\", \n",
    "    \"STARR_ATAC_K562_Reddy_KS91\", \n",
    "    \"STARR_ATAC_K562_Reddy_KSMerge\", \n",
    "    \"STARR_WHG_K562_Reddy_A001\"\n",
    ")\n",
    "\n",
    "VEC_TXT_ASSAY_TYPE = c(\n",
    "    \"CRISPRi-HCRFF\",\n",
    "    \"CRISPRi-Growth\",\n",
    "    \"LMPRA\",\n",
    "    \"TMPRA\",\n",
    "    \"ASTARR\",\n",
    "    \"ASTARR\",\n",
    "    \"ASTARR\",\n",
    "    \"WSTARR\"\n",
    ")\n",
    "\n",
    "VEC_TXT_ASSAY_GROUP = c(\n",
    "    \"CRISPRi-HCRFF\",\n",
    "    \"CRISPRi-Growth\",\n",
    "    \"LMPRA\",\n",
    "    \"TMPRA\",\n",
    "    \"ASTARR_KS274\",\n",
    "    \"ASTARR_KS91\",\n",
    "    \"ASTARR_KSMerge\",\n",
    "    \"WSTARR\"\n",
    ")\n",
    "\n",
    "VEC_TXT_ASSAY_LABEL = c(\n",
    "    \"CRISPRi-HCR FlowFISH\",\n",
    "    \"CRISPRi-Growth\", \n",
    "    \"Lenti-MPRA\", \n",
    "    \"Tiling-MPRA\", \n",
    "    \"ATAC-STARR\", \n",
    "    \"ATAC-STARR\", \n",
    "    \"ATAC-STARR\", \n",
    "    \"WHG-STARR\"\n",
    ")\n",
    "\n",
    "fun1 = function(txt){\n",
    "    vec1 = VEC_TXT_ASSAY_NAME\n",
    "    vec2 = VEC_TXT_ASSAY_NAME\n",
    "    res  = fun_str_map_detect(txt, vec1, vec2)\n",
    "    return(res)\n",
    "}\n",
    "\n",
    "fun2 = function(txt){\n",
    "    vec1 = VEC_TXT_ASSAY_NAME\n",
    "    vec2 = VEC_TXT_ASSAY_TYPE\n",
    "    res  = fun_str_map_detect(txt, vec1, vec2)\n",
    "    return(res)\n",
    "}\n",
    "\n",
    "fun3 = function(txt){\n",
    "    vec1 = VEC_TXT_ASSAY_NAME\n",
    "    vec2 = VEC_TXT_ASSAY_GROUP\n",
    "    res  = fun_str_map_detect(txt, vec1, vec2)\n",
    "    return(res)\n",
    "}\n",
    "\n",
    "fun4 = function(txt){\n",
    "    vec1 = VEC_TXT_ASSAY_NAME\n",
    "    vec2 = VEC_TXT_ASSAY_LABEL\n",
    "    res  = fun_str_map_detect(txt, vec1, vec2)\n",
    "    return(res)\n",
    "}"
   ]
  },
  {
   "cell_type": "markdown",
   "id": "6c337430-d34e-4c94-b7df-e6900fd215af",
   "metadata": {},
   "source": [
    "## Process ASTARR/WSTARR/TMPRA"
   ]
  },
  {
   "cell_type": "markdown",
   "id": "c8529c11-a651-452c-aa76-581f6270d66f",
   "metadata": {},
   "source": [
    "**Check input files**"
   ]
  },
  {
   "cell_type": "code",
   "execution_count": 6,
   "id": "90e15a30-c8f1-4e48-8984-2692055e048c",
   "metadata": {},
   "outputs": [
    {
     "name": "stdout",
     "output_type": "stream",
     "text": [
      "/data/reddylab/Kuei/repo/Proj_ENCODE_FCC/results/region_coverage_fcc/fcc_astarr_macs_input_overlap/MPRA_Tiling_K562_Tewhey_Hannah/overlap_score/summary/result.coverage.Log2FC.deseq.tsv \n",
      "/data/reddylab/Kuei/repo/Proj_ENCODE_FCC/results/region_coverage_fcc/fcc_astarr_macs_input_overlap/STARR_ATAC_K562_Reddy_KS274/overlap_score/summary/result.coverage.Log2FC.deseq.tsv \n",
      "/data/reddylab/Kuei/repo/Proj_ENCODE_FCC/results/region_coverage_fcc/fcc_astarr_macs_input_overlap/STARR_ATAC_K562_Reddy_KS91/overlap_score/summary/result.coverage.Log2FC.deseq.tsv \n",
      "/data/reddylab/Kuei/repo/Proj_ENCODE_FCC/results/region_coverage_fcc/fcc_astarr_macs_input_overlap/STARR_ATAC_K562_Reddy_KSMerge/overlap_score/summary/result.coverage.Log2FC.deseq.tsv \n",
      "/data/reddylab/Kuei/repo/Proj_ENCODE_FCC/results/region_coverage_fcc/fcc_astarr_macs_input_overlap/STARR_WHG_K562_Reddy_A001/overlap_score/summary/result.coverage.Log2FC.deseq.tsv \n"
     ]
    }
   ],
   "source": [
    "txt_region = \"fcc_astarr_macs_input_overlap\"\n",
    "txt_fdiry  = file.path(FD_RES, \"region_coverage_fcc\", txt_region)\n",
    "txt_fname  = \"result.coverage.Log2FC.deseq.tsv\"\n",
    "txt_fglob  = file.path(txt_fdiry, \"*\", \"overlap_score\", \"summary\", txt_fname)\n",
    "vec = Sys.glob(txt_fglob)\n",
    "\n",
    "vec_txt_fpath = vec\n",
    "\n",
    "for (txt in vec) {cat(txt, \"\\n\")}"
   ]
  },
  {
   "cell_type": "code",
   "execution_count": 7,
   "id": "dc504f7f-afda-4e80-8104-a23b2afe1742",
   "metadata": {},
   "outputs": [
    {
     "name": "stdout",
     "output_type": "stream",
     "text": [
      "/data/reddylab/Kuei/repo/Proj_ENCODE_FCC/results/region_coverage_fcc/fcc_astarr_macs_input_union/MPRA_Tiling_K562_Tewhey_Hannah/overlap_score/summary/result.coverage.Log2FC.deseq.tsv \n",
      "/data/reddylab/Kuei/repo/Proj_ENCODE_FCC/results/region_coverage_fcc/fcc_astarr_macs_input_union/STARR_ATAC_K562_Reddy_KS274/overlap_score/summary/result.coverage.Log2FC.deseq.tsv \n",
      "/data/reddylab/Kuei/repo/Proj_ENCODE_FCC/results/region_coverage_fcc/fcc_astarr_macs_input_union/STARR_ATAC_K562_Reddy_KS91/overlap_score/summary/result.coverage.Log2FC.deseq.tsv \n",
      "/data/reddylab/Kuei/repo/Proj_ENCODE_FCC/results/region_coverage_fcc/fcc_astarr_macs_input_union/STARR_ATAC_K562_Reddy_KSMerge/overlap_score/summary/result.coverage.Log2FC.deseq.tsv \n",
      "/data/reddylab/Kuei/repo/Proj_ENCODE_FCC/results/region_coverage_fcc/fcc_astarr_macs_input_union/STARR_WHG_K562_Reddy_A001/overlap_score/summary/result.coverage.Log2FC.deseq.tsv \n"
     ]
    }
   ],
   "source": [
    "txt_region = \"fcc_astarr_macs_input_union\"\n",
    "txt_fdiry  = file.path(FD_RES, \"region_coverage_fcc\", txt_region)\n",
    "txt_fname  = \"result.coverage.Log2FC.deseq.tsv\"\n",
    "txt_fglob  = file.path(txt_fdiry, \"*\", \"overlap_score\", \"summary\", txt_fname)\n",
    "vec = Sys.glob(txt_fglob)\n",
    "\n",
    "vec_txt_fpath = vec\n",
    "\n",
    "for (txt in vec) {cat(txt, \"\\n\")}"
   ]
  },
  {
   "cell_type": "markdown",
   "id": "6deccb2d-0186-4a2b-9138-7381425d4be4",
   "metadata": {},
   "source": [
    "**Import and process**"
   ]
  },
  {
   "cell_type": "code",
   "execution_count": 8,
   "id": "49ec60a2-8921-4c5b-a988-67ab6191c7fd",
   "metadata": {},
   "outputs": [],
   "source": [
    "for (txt_region in VEC_TXT_REGION){\n",
    "    ### get file paths\n",
    "    txt_fdiry  = file.path(FD_RES, \"region_coverage_fcc\", txt_region)\n",
    "    txt_fname  = \"result.coverage.Log2FC.deseq.tsv\"\n",
    "    txt_fglob  = file.path(txt_fdiry, \"*\", \"overlap_score\", \"summary\", txt_fname)\n",
    "    vec = Sys.glob(txt_fglob)\n",
    "    vec_txt_fpath = vec\n",
    "\n",
    "    ### \n",
    "    for (txt_fpath in vec_txt_fpath){\n",
    "        ###\n",
    "        dat = read_tsv(txt_fpath, show_col_types = FALSE)\n",
    "\n",
    "        ###\n",
    "        dat = dat %>% \n",
    "            dplyr::mutate(\n",
    "                Score = as.vector(scale(log2FoldChange)),\n",
    "                Assay_Name  = fun1(txt_fpath),\n",
    "                Assay_Type  = fun2(txt_fpath),\n",
    "                Assay_Group = fun3(txt_fpath),\n",
    "                Assay_Label = fun4(txt_fpath)\n",
    "            ) %>%\n",
    "            dplyr::select(\n",
    "                Chrom, ChromStart, ChromEnd, Region, Score, \n",
    "                Assay_Name,  \n",
    "                Assay_Type,\n",
    "                Assay_Group,\n",
    "                Assay_Label\n",
    "            ) %>%\n",
    "            dplyr::arrange(Chrom, ChromStart, ChromEnd)\n",
    "\n",
    "        ###\n",
    "        txt_fdiry = dirname(txt_fpath)\n",
    "        txt_fname = \"result.coverage.zscore.tsv\"\n",
    "        txt_fpath = file.path(txt_fdiry, txt_fname)\n",
    "    \n",
    "        dat = dat %>% na.omit\n",
    "        write_tsv(dat, txt_fpath)\n",
    "    }    \n",
    "}"
   ]
  },
  {
   "cell_type": "markdown",
   "id": "af7d5a99-6276-46f8-a54f-9172b8b07eba",
   "metadata": {},
   "source": [
    "## Process LMPRA/CRISPRi-HCRFF/CRISPRi-Growth"
   ]
  },
  {
   "cell_type": "code",
   "execution_count": 9,
   "id": "7936d47c-0479-4a58-88f0-1604487d35d0",
   "metadata": {},
   "outputs": [],
   "source": [
    "vec_txt_assay = c(\n",
    "    \"CRISPRi_FlowFISH_K562_Riley_JinWoo\",\n",
    "    \"CRISPRi_Growth_K562_Gersbach_JinWoo\", \n",
    "    \"MPRA_Lenti_K562_Nadav_Vikram\"\n",
    ")\n",
    "vec = c(\n",
    "    \"region.coverage.score.filtered.merge.tsv\",\n",
    "    \"result.coverage.score.tsv\",\n",
    "    \"result.coverage.score.tsv\"\n",
    ")\n",
    "names(vec) = vec_txt_assay\n",
    "vec_txt_fname = vec"
   ]
  },
  {
   "cell_type": "code",
   "execution_count": 10,
   "id": "3ba95a90-1225-41a7-853e-fc7bdebe1d5f",
   "metadata": {},
   "outputs": [
    {
     "name": "stdout",
     "output_type": "stream",
     "text": [
      "fcc_astarr_macs_input_overlap \n",
      "CRISPRi_FlowFISH_K562_Riley_JinWoo \n",
      "region.coverage.score.by_target.tsv \n",
      "region.coverage.score.filtered.by_target.tsv \n",
      "region.coverage.score.filtered.merge.tsv \n",
      "region.coverage.score.merge.tsv \n",
      "region.coverage.score.total.by_target.tsv \n",
      "region.coverage.score.total.merge.tsv \n",
      "result.coverage.score.filtered.tsv \n",
      "result.coverage.score.tsv \n",
      "result.coverage.zscore.tsv \n",
      "result.score.filtered.tsv \n",
      "result.score.tsv \n",
      "\n",
      "fcc_astarr_macs_input_overlap \n",
      "CRISPRi_Growth_K562_Gersbach_JinWoo \n",
      "region.coverage.score.tsv \n",
      "result.coverage.score.tsv \n",
      "result.coverage.zscore.tsv \n",
      "result.score.tsv \n",
      "\n",
      "fcc_astarr_macs_input_overlap \n",
      "MPRA_Lenti_K562_Nadav_Vikram \n",
      "result.coverage.score.tsv \n",
      "result.coverage.zscore.tsv \n",
      "result.score.tsv \n",
      "\n",
      "fcc_astarr_macs_input_union \n",
      "CRISPRi_FlowFISH_K562_Riley_JinWoo \n",
      "region.coverage.score.filtered.by_target.tsv \n",
      "region.coverage.score.filtered.merge.tsv \n",
      "region.coverage.score.total.by_target.tsv \n",
      "region.coverage.score.total.merge.tsv \n",
      "result.coverage.score.filtered.tsv \n",
      "result.coverage.score.tsv \n",
      "result.coverage.zscore.tsv \n",
      "\n",
      "fcc_astarr_macs_input_union \n",
      "CRISPRi_Growth_K562_Gersbach_JinWoo \n",
      "region.coverage.score.tsv \n",
      "result.coverage.score.tsv \n",
      "result.coverage.zscore.tsv \n",
      "result.score.tsv \n",
      "\n",
      "fcc_astarr_macs_input_union \n",
      "MPRA_Lenti_K562_Nadav_Vikram \n",
      "result.coverage.score.tsv \n",
      "result.coverage.zscore.tsv \n",
      "result.score.tsv \n",
      "\n"
     ]
    }
   ],
   "source": [
    "for (txt_region in VEC_TXT_REGION){\n",
    "    for (txt_assay in vec_txt_assay){\n",
    "        cat(txt_region, \"\\n\")\n",
    "        cat(txt_assay,  \"\\n\")\n",
    "        \n",
    "        ### get file paths\n",
    "        txt_fdiry  = file.path(\n",
    "            FD_RES, \"region_coverage_fcc\", \n",
    "            txt_region, \n",
    "            txt_assay,\n",
    "            \"overlap_score\",\n",
    "            \"summary\"\n",
    "        )\n",
    "        vec = dir(txt_fdiry)    \n",
    "\n",
    "        for (txt in vec){cat(txt, \"\\n\")}\n",
    "        cat(\"\\n\")\n",
    "    }\n",
    "}"
   ]
  },
  {
   "cell_type": "code",
   "execution_count": 11,
   "id": "9953c8ef-548a-4422-a797-bc76938c5305",
   "metadata": {},
   "outputs": [
    {
     "name": "stdout",
     "output_type": "stream",
     "text": [
      "fcc_astarr_macs_input_overlap \n",
      "CRISPRi_FlowFISH_K562_Riley_JinWoo \n",
      "[1] \"/data/reddylab/Kuei/repo/Proj_ENCODE_FCC/results/region_coverage_fcc/fcc_astarr_macs_input_overlap/CRISPRi_FlowFISH_K562_Riley_JinWoo/overlap_score/summary/region.coverage.score.filtered.merge.tsv\"\n",
      "fcc_astarr_macs_input_overlap \n",
      "CRISPRi_Growth_K562_Gersbach_JinWoo \n",
      "[1] \"/data/reddylab/Kuei/repo/Proj_ENCODE_FCC/results/region_coverage_fcc/fcc_astarr_macs_input_overlap/CRISPRi_Growth_K562_Gersbach_JinWoo/overlap_score/summary/result.coverage.score.tsv\"\n",
      "fcc_astarr_macs_input_overlap \n",
      "MPRA_Lenti_K562_Nadav_Vikram \n",
      "[1] \"/data/reddylab/Kuei/repo/Proj_ENCODE_FCC/results/region_coverage_fcc/fcc_astarr_macs_input_overlap/MPRA_Lenti_K562_Nadav_Vikram/overlap_score/summary/result.coverage.score.tsv\"\n",
      "fcc_astarr_macs_input_union \n",
      "CRISPRi_FlowFISH_K562_Riley_JinWoo \n",
      "[1] \"/data/reddylab/Kuei/repo/Proj_ENCODE_FCC/results/region_coverage_fcc/fcc_astarr_macs_input_union/CRISPRi_FlowFISH_K562_Riley_JinWoo/overlap_score/summary/region.coverage.score.filtered.merge.tsv\"\n",
      "fcc_astarr_macs_input_union \n",
      "CRISPRi_Growth_K562_Gersbach_JinWoo \n",
      "[1] \"/data/reddylab/Kuei/repo/Proj_ENCODE_FCC/results/region_coverage_fcc/fcc_astarr_macs_input_union/CRISPRi_Growth_K562_Gersbach_JinWoo/overlap_score/summary/result.coverage.score.tsv\"\n",
      "fcc_astarr_macs_input_union \n",
      "MPRA_Lenti_K562_Nadav_Vikram \n",
      "[1] \"/data/reddylab/Kuei/repo/Proj_ENCODE_FCC/results/region_coverage_fcc/fcc_astarr_macs_input_union/MPRA_Lenti_K562_Nadav_Vikram/overlap_score/summary/result.coverage.score.tsv\"\n"
     ]
    }
   ],
   "source": [
    "for (txt_region in VEC_TXT_REGION){\n",
    "    for (txt_assay in vec_txt_assay){\n",
    "        cat(txt_region, \"\\n\")\n",
    "        cat(txt_assay,  \"\\n\")\n",
    "        \n",
    "        ### get file paths\n",
    "        txt_fdiry  = file.path(\n",
    "            FD_RES, \"region_coverage_fcc\", \n",
    "            txt_region, \n",
    "            txt_assay,\n",
    "            \"overlap_score\",\n",
    "            \"summary\"\n",
    "        )\n",
    "        txt_fname = vec_txt_fname[txt_assay]\n",
    "        txt_fpath = file.path(txt_fdiry, txt_fname)\n",
    "        print(txt_fpath)\n",
    "        \n",
    "        ### import data\n",
    "        dat = read_tsv(txt_fpath, show_col_types = FALSE)\n",
    "        \n",
    "        #dat = read_tsv(\n",
    "        #    txt_fpath, show_col_types = FALSE,\n",
    "        #    col_types = cols(\n",
    "        ##        .default = col_double(),\n",
    "        #        Chrom    = col_character(),\n",
    "        #        Region   = col_character()\n",
    "        #    )\n",
    "        #)\n",
    "        \n",
    "        ###\n",
    "        dat = dat %>% \n",
    "            dplyr::mutate(\n",
    "                Score = as.vector(scale(Mean)),\n",
    "                Assay_Name  = fun1(txt_fpath),\n",
    "                Assay_Type  = fun2(txt_fpath),\n",
    "                Assay_Group = fun3(txt_fpath),\n",
    "                Assay_Label = fun4(txt_fpath)\n",
    "            ) %>%\n",
    "            dplyr::select(\n",
    "                Chrom, ChromStart, ChromEnd, Region, Score, \n",
    "                Assay_Name,  \n",
    "                Assay_Type,\n",
    "                Assay_Group,\n",
    "                Assay_Label\n",
    "            ) %>%\n",
    "            dplyr::arrange(Chrom, ChromStart, ChromEnd)\n",
    "\n",
    "        ###\n",
    "        txt_fdiry = dirname(txt_fpath)\n",
    "        txt_fname = \"result.coverage.zscore.tsv\"\n",
    "        txt_fpath = file.path(txt_fdiry, txt_fname)\n",
    "    \n",
    "        dat = dat %>% na.omit\n",
    "        write_tsv(dat, txt_fpath)\n",
    "    }\n",
    "}"
   ]
  },
  {
   "cell_type": "code",
   "execution_count": null,
   "id": "1f921660-3348-4736-8f51-0608927eee41",
   "metadata": {},
   "outputs": [],
   "source": []
  },
  {
   "cell_type": "code",
   "execution_count": null,
   "id": "6244fa57-eba8-4254-b747-73c24b561531",
   "metadata": {},
   "outputs": [],
   "source": []
  },
  {
   "cell_type": "code",
   "execution_count": null,
   "id": "61237ce9-45cf-4687-9b6e-997721ba2166",
   "metadata": {},
   "outputs": [],
   "source": []
  },
  {
   "cell_type": "code",
   "execution_count": null,
   "id": "5283373f-f220-4ea3-a4c7-1cce44c55407",
   "metadata": {},
   "outputs": [],
   "source": []
  },
  {
   "cell_type": "code",
   "execution_count": 18,
   "id": "25dd3d64-26b3-4f53-850f-74aee752b086",
   "metadata": {},
   "outputs": [
    {
     "name": "stdout",
     "output_type": "stream",
     "text": [
      "[1] \"/data/reddylab/Kuei/repo/Proj_ENCODE_FCC/results/region_coverage_fcc/fcc_astarr_macs_input_overlap/CRISPRi_FlowFISH_K562_Riley_JinWoo/overlap_score/summary/result.score.filtered.tsv\"\n",
      "[1] \"/data/reddylab/Kuei/repo/Proj_ENCODE_FCC/results/region_coverage_fcc/fcc_astarr_macs_input_overlap/CRISPRi_Growth_K562_Gersbach_JinWoo/overlap_score/summary/result.score.tsv\"\n",
      "[1] \"/data/reddylab/Kuei/repo/Proj_ENCODE_FCC/results/region_coverage_fcc/fcc_astarr_macs_input_overlap/MPRA_Lenti_K562_Nadav_Vikram/overlap_score/summary/result.score.tsv\"\n"
     ]
    }
   ],
   "source": [
    "\n",
    "for (txt_region in VEC_TXT_REGION){\n",
    "    for (txt_assay in vec_txt_assay){\n",
    "        ### get file directory\n",
    "        txt_fdiry = file.path(\n",
    "            FD_RES, \"region_coverage_fcc\", \n",
    "            txt_region, \n",
    "            txt_assay,\n",
    "            \"overlap_score\",\n",
    "            \"summary\"\n",
    "        )\n",
    "        txt_fname = vec_txt_fname[txt_assay]\n",
    "        txt_fpath = file.path(txt_fdiry, txt_fname)\n",
    "        print(txt_fpath)\n",
    "        \n",
    "        ### import data\n",
    "        dat = read_tsv(txt_fpath, show_col_types = FALSE)\n",
    "\n",
    "        ###\n",
    "        dat = dat %>% \n",
    "            dplyr::mutate(\n",
    "                Score = as.vector(scale(Mean)),\n",
    "                Assay_Name  = fun1(txt_fpath),\n",
    "                Assay_Type  = fun2(txt_fpath),\n",
    "                Assay_Group = fun3(txt_fpath),\n",
    "                Assay_Label = fun4(txt_fpath)\n",
    "            ) %>%\n",
    "            dplyr::select(\n",
    "                Chrom, ChromStart, ChromEnd, Region, Score, \n",
    "                Assay_Name,  \n",
    "                Assay_Type,\n",
    "                Assay_Group,\n",
    "                Assay_Label\n",
    "            ) %>%\n",
    "            dplyr::arrange(Chrom, ChromStart, ChromEnd)\n",
    "\n",
    "        ###\n",
    "        txt_fdiry = dirname(txt_fpath)\n",
    "        txt_fname = \"result.coverage.zscore.tsv\"\n",
    "        txt_fpath = file.path(txt_fdiry, txt_fname)\n",
    "    \n",
    "        dat = dat %>% na.omit\n",
    "        write_tsv(dat, txt_fpath)\n",
    "    }\n",
    "}"
   ]
  },
  {
   "cell_type": "code",
   "execution_count": null,
   "id": "be013cdf-4380-4e0d-bf33-370e40bb3425",
   "metadata": {},
   "outputs": [],
   "source": []
  },
  {
   "cell_type": "code",
   "execution_count": null,
   "id": "73afce59-e2f7-43d2-8f1a-45f9aa701ff5",
   "metadata": {},
   "outputs": [],
   "source": []
  },
  {
   "cell_type": "markdown",
   "id": "4deaf46c-7793-4fc7-8561-4bb97df69676",
   "metadata": {},
   "source": [
    "**Check input files**"
   ]
  },
  {
   "cell_type": "code",
   "execution_count": 11,
   "id": "db46b6f9-8395-4da8-b468-5cc4a2b02ce9",
   "metadata": {},
   "outputs": [
    {
     "name": "stdout",
     "output_type": "stream",
     "text": [
      "/data/reddylab/Kuei/repo/Proj_ENCODE_FCC/results/region_coverage_fcc/fcc_astarr_macs_input_overlap/CRISPRi_FlowFISH_K562_Riley_JinWoo/overlap_score/summary/result.score.tsv \n",
      "/data/reddylab/Kuei/repo/Proj_ENCODE_FCC/results/region_coverage_fcc/fcc_astarr_macs_input_overlap/CRISPRi_Growth_K562_Gersbach_JinWoo/overlap_score/summary/result.score.tsv \n",
      "/data/reddylab/Kuei/repo/Proj_ENCODE_FCC/results/region_coverage_fcc/fcc_astarr_macs_input_overlap/MPRA_Lenti_K562_Nadav_Vikram/overlap_score/summary/result.score.tsv \n"
     ]
    }
   ],
   "source": [
    "txt_region = \"fcc_astarr_macs_input_overlap\"\n",
    "txt_fdiry  = file.path(FD_RES, \"region_coverage_fcc\", txt_region)\n",
    "txt_fname  = \"result.score.tsv\"\n",
    "txt_fglob  = file.path(txt_fdiry, \"*\", \"overlap_score\", \"summary\", txt_fname)\n",
    "vec = Sys.glob(txt_fglob)\n",
    "\n",
    "vec_txt_fpath = vec\n",
    "\n",
    "for (txt in vec) {cat(txt, \"\\n\")}"
   ]
  },
  {
   "cell_type": "code",
   "execution_count": 12,
   "id": "316ff822-868f-47a7-b28a-7850024c1d0b",
   "metadata": {},
   "outputs": [
    {
     "name": "stdout",
     "output_type": "stream",
     "text": [
      "/data/reddylab/Kuei/repo/Proj_ENCODE_FCC/results/region_coverage_fcc/fcc_astarr_macs_input_union/CRISPRi_Growth_K562_Gersbach_JinWoo/overlap_score/summary/result.score.tsv \n",
      "/data/reddylab/Kuei/repo/Proj_ENCODE_FCC/results/region_coverage_fcc/fcc_astarr_macs_input_union/MPRA_Lenti_K562_Nadav_Vikram/overlap_score/summary/result.score.tsv \n"
     ]
    }
   ],
   "source": [
    "txt_region = \"fcc_astarr_macs_input_union\"\n",
    "txt_fdiry  = file.path(FD_RES, \"region_coverage_fcc\", txt_region)\n",
    "txt_fname  = \"result.score.tsv\"\n",
    "txt_fglob  = file.path(txt_fdiry, \"*\", \"overlap_score\", \"summary\", txt_fname)\n",
    "vec = Sys.glob(txt_fglob)\n",
    "\n",
    "vec_txt_fpath = vec\n",
    "\n",
    "for (txt in vec) {cat(txt, \"\\n\")}"
   ]
  },
  {
   "cell_type": "markdown",
   "id": "96e32482-2c52-4d47-b2a4-1bcdc5acaf46",
   "metadata": {},
   "source": [
    "**Import and process**"
   ]
  },
  {
   "cell_type": "code",
   "execution_count": 13,
   "id": "364e2fde-9082-4d96-8932-6e53ccb6807e",
   "metadata": {},
   "outputs": [],
   "source": [
    "vec_txt_region = c(\"fcc_astarr_macs_input_overlap\")\n",
    "\n",
    "for (txt_region in vec_txt_region){\n",
    "    ### get file paths\n",
    "    txt_fdiry  = file.path(FD_RES, \"region_coverage_fcc\", txt_region)\n",
    "    txt_fname  = \"result.score.tsv\"\n",
    "    txt_fglob  = file.path(txt_fdiry, \"*\", \"overlap_score\", \"summary\", txt_fname)\n",
    "    vec = Sys.glob(txt_fglob)\n",
    "    vec_txt_fpath = vec\n",
    "\n",
    "    ### \n",
    "    for (txt_fpath in vec_txt_fpath){\n",
    "        ###\n",
    "        dat = read_tsv(txt_fpath, show_col_types = FALSE)\n",
    "\n",
    "        ###\n",
    "        dat = dat %>% \n",
    "            dplyr::mutate(\n",
    "                Score = as.vector(scale(Mean)),\n",
    "                Assay_Name  = fun1(txt_fpath),\n",
    "                Assay_Type  = fun2(txt_fpath),\n",
    "                Assay_Group = fun3(txt_fpath),\n",
    "                Assay_Label = fun4(txt_fpath)\n",
    "            ) %>%\n",
    "            dplyr::select(\n",
    "                Chrom, ChromStart, ChromEnd, Region, Score, \n",
    "                Assay_Name,  \n",
    "                Assay_Type,\n",
    "                Assay_Group,\n",
    "                Assay_Label\n",
    "            ) %>%\n",
    "            dplyr::arrange(Chrom, ChromStart, ChromEnd)\n",
    "\n",
    "        ###\n",
    "        txt_fdiry = dirname(txt_fpath)\n",
    "        txt_fname = \"result.coverage.zscore.tsv\"\n",
    "        txt_fpath = file.path(txt_fdiry, txt_fname)\n",
    "    \n",
    "        dat = dat %>% na.omit\n",
    "        write_tsv(dat, txt_fpath)\n",
    "    }    \n",
    "}"
   ]
  },
  {
   "cell_type": "code",
   "execution_count": null,
   "id": "57dcf44d-8345-4d67-91ef-69ae6726ae08",
   "metadata": {},
   "outputs": [],
   "source": []
  },
  {
   "cell_type": "code",
   "execution_count": null,
   "id": "b28a9c77-53ec-4340-a404-9cc5ec4ca692",
   "metadata": {},
   "outputs": [],
   "source": []
  },
  {
   "cell_type": "code",
   "execution_count": null,
   "id": "6b8a412a-42a6-45b3-a4a4-9d00e7a5165e",
   "metadata": {},
   "outputs": [],
   "source": []
  },
  {
   "cell_type": "code",
   "execution_count": 6,
   "id": "d1b2da62-0737-41ee-bdb3-4ac4c88a1885",
   "metadata": {},
   "outputs": [],
   "source": [
    "for (txt_fpath in vec_txt_fpath){\n",
    "    dat = read_tsv(txt_fpath, show_col_types = FALSE)\n",
    "    dat = dat %>% \n",
    "        dplyr::mutate(\n",
    "            Score = as.vector(scale(log2FoldChange)),\n",
    "            Assay_Name  = fun1(txt_fpath),\n",
    "            Assay_Type  = fun2(txt_fpath),\n",
    "            Assay_Group = fun3(txt_fpath),\n",
    "            Assay_Label = fun4(txt_fpath)\n",
    "        ) %>%\n",
    "        dplyr::select(\n",
    "            Chrom, ChromStart, ChromEnd, Region, Score, \n",
    "            Assay_Name,  \n",
    "            Assay_Type,\n",
    "            Assay_Group,\n",
    "            Assay_Label\n",
    "        ) %>%\n",
    "        dplyr::arrange(Chrom, ChromStart, ChromEnd)\n",
    "    \n",
    "    txt_fdiry = dirname(txt_fpath)\n",
    "    txt_fname = \"result.coverage.zscore.tsv\"\n",
    "    txt_fpath = file.path(txt_fdiry, txt_fname)\n",
    "\n",
    "    dat = dat %>% na.omit\n",
    "    write_tsv(dat, txt_fpath)\n",
    "}"
   ]
  },
  {
   "cell_type": "code",
   "execution_count": 7,
   "id": "a2780ad7-64e5-4322-af3e-2ba2cc7491f7",
   "metadata": {},
   "outputs": [
    {
     "name": "stdout",
     "output_type": "stream",
     "text": [
      "/data/reddylab/Kuei/repo/Proj_ENCODE_FCC/results/region_coverage_fcc/fcc_astarr_macs_input_overlap/CRISPRi_FlowFISH_K562_Riley_JinWoo/overlap_score/summary/result.score.tsv \n",
      "/data/reddylab/Kuei/repo/Proj_ENCODE_FCC/results/region_coverage_fcc/fcc_astarr_macs_input_overlap/CRISPRi_Growth_K562_Gersbach_JinWoo/overlap_score/summary/result.score.tsv \n",
      "/data/reddylab/Kuei/repo/Proj_ENCODE_FCC/results/region_coverage_fcc/fcc_astarr_macs_input_overlap/MPRA_Lenti_K562_Nadav_Vikram/overlap_score/summary/result.score.tsv \n"
     ]
    }
   ],
   "source": [
    "txt_region = \"fcc_astarr_macs_input_overlap\"\n",
    "txt_fdiry  = file.path(FD_RES, \"region_coverage_fcc\", txt_region)\n",
    "txt_fname  = \"result.score.tsv\"\n",
    "txt_fglob  = file.path(txt_fdiry, \"*\", \"overlap_score\", \"summary\", txt_fname)\n",
    "vec = Sys.glob(txt_fglob)\n",
    "\n",
    "vec_txt_fpath = vec\n",
    "\n",
    "for (txt in vec) {cat(txt, \"\\n\")}"
   ]
  },
  {
   "cell_type": "code",
   "execution_count": 8,
   "id": "be33238a-7368-4009-aa1e-070f798850a2",
   "metadata": {},
   "outputs": [],
   "source": [
    "for (txt_fpath in vec_txt_fpath){\n",
    "    dat = read_tsv(txt_fpath, show_col_types = FALSE)\n",
    "    dat = dat %>% \n",
    "        dplyr::mutate(\n",
    "            Score = as.vector(scale(Mean)),\n",
    "            Assay_Name  = fun1(txt_fpath),\n",
    "            Assay_Type  = fun2(txt_fpath),\n",
    "            Assay_Group = fun3(txt_fpath),\n",
    "            Assay_Label = fun4(txt_fpath)\n",
    "        ) %>%\n",
    "        dplyr::select(\n",
    "            Chrom, ChromStart, ChromEnd, Region, Score, \n",
    "            Assay_Name,  \n",
    "            Assay_Type,\n",
    "            Assay_Group,\n",
    "            Assay_Label\n",
    "        ) %>%\n",
    "        dplyr::arrange(Chrom, ChromStart, ChromEnd)\n",
    "\n",
    "    txt_fdiry = dirname(txt_fpath)\n",
    "    txt_fname = \"result.coverage.zscore.tsv\"\n",
    "    txt_fpath = file.path(txt_fdiry, txt_fname)\n",
    "\n",
    "    dat = dat %>% na.omit\n",
    "    write_tsv(dat, txt_fpath)\n",
    "}"
   ]
  },
  {
   "cell_type": "code",
   "execution_count": 11,
   "id": "b7112dc5-fdbd-4ee3-8b3b-820fad8af1c6",
   "metadata": {},
   "outputs": [
    {
     "name": "stdout",
     "output_type": "stream",
     "text": [
      "/data/reddylab/Kuei/repo/Proj_ENCODE_FCC/results/region_coverage_fcc/fcc_astarr_macs_input_overlap/CRISPRi_FlowFISH_K562_Riley_JinWoo/overlap_score/summary/result.coverage.zscore.tsv \n",
      "/data/reddylab/Kuei/repo/Proj_ENCODE_FCC/results/region_coverage_fcc/fcc_astarr_macs_input_overlap/CRISPRi_Growth_K562_Gersbach_JinWoo/overlap_score/summary/result.coverage.zscore.tsv \n",
      "/data/reddylab/Kuei/repo/Proj_ENCODE_FCC/results/region_coverage_fcc/fcc_astarr_macs_input_overlap/MPRA_Lenti_K562_Nadav_Vikram/overlap_score/summary/result.coverage.zscore.tsv \n",
      "/data/reddylab/Kuei/repo/Proj_ENCODE_FCC/results/region_coverage_fcc/fcc_astarr_macs_input_overlap/MPRA_Tiling_K562_Tewhey_Hannah/overlap_score/summary/result.coverage.zscore.tsv \n",
      "/data/reddylab/Kuei/repo/Proj_ENCODE_FCC/results/region_coverage_fcc/fcc_astarr_macs_input_overlap/STARR_ATAC_K562_Reddy_KS274/overlap_score/summary/result.coverage.zscore.tsv \n",
      "/data/reddylab/Kuei/repo/Proj_ENCODE_FCC/results/region_coverage_fcc/fcc_astarr_macs_input_overlap/STARR_ATAC_K562_Reddy_KS91/overlap_score/summary/result.coverage.zscore.tsv \n",
      "/data/reddylab/Kuei/repo/Proj_ENCODE_FCC/results/region_coverage_fcc/fcc_astarr_macs_input_overlap/STARR_ATAC_K562_Reddy_KSMerge/overlap_score/summary/result.coverage.zscore.tsv \n",
      "/data/reddylab/Kuei/repo/Proj_ENCODE_FCC/results/region_coverage_fcc/fcc_astarr_macs_input_overlap/STARR_WHG_K562_Reddy_A001/overlap_score/summary/result.coverage.zscore.tsv \n"
     ]
    }
   ],
   "source": [
    "txt_region = \"fcc_astarr_macs_input_overlap\"\n",
    "txt_fdiry  = file.path(FD_RES, \"region_coverage_fcc\", txt_region)\n",
    "txt_fname  = \"result.coverage.zscore.tsv\"\n",
    "txt_fglob  = file.path(txt_fdiry, \"*\", \"overlap_score\", \"summary\", txt_fname)\n",
    "vec = Sys.glob(txt_fglob)\n",
    "\n",
    "vec_txt_fpath = vec\n",
    "\n",
    "for (txt in vec) {cat(txt, \"\\n\")}"
   ]
  },
  {
   "cell_type": "code",
   "execution_count": 22,
   "id": "723c265f-9731-4e93-8e07-2999d654190d",
   "metadata": {},
   "outputs": [],
   "source": [
    "vec_txt_assay = c(\n",
    "    \"CRISPRi_FlowFISH_K562_Riley_JinWoo\",\n",
    "    \"CRISPRi_Growth_K562_Gersbach_JinWoo\", \n",
    "    \"MPRA_Lenti_K562_Nadav_Vikram\", \n",
    "    \"MPRA_Tiling_K562_Tewhey_Hannah\", \n",
    "    \"STARR_ATAC_K562_Reddy_KS91\", \n",
    "    \"STARR_WHG_K562_Reddy_A001\"\n",
    ")\n",
    "lst = lapply(vec_txt_fpath, function(txt_fpath){\n",
    "    dat = read_tsv(txt_fpath, show_col_types = FALSE)\n",
    "    return(dat)\n",
    "})\n",
    "dat = bind_rows(lst)\n",
    "dat_zscore_total = dat\n",
    "\n",
    "dat = dat_zscore_total\n",
    "dat = dat %>% \n",
    "    dplyr::filter(Assay_Name %in% vec_txt_assay)\n",
    "dat_zscore_final = dat\n",
    "\n",
    "dat = dat_zscore_total\n",
    "dat = dat %>% \n",
    "    dplyr::filter(Assay_Name %in% vec_txt_assay) %>% \n",
    "    dplyr::mutate(Assay = Assay_Label) %>%\n",
    "    dplyr::select(Chrom, ChromStart, ChromEnd, Region, Score, Assay)\n",
    "dat_zscore_share = dat"
   ]
  },
  {
   "cell_type": "code",
   "execution_count": null,
   "id": "a4c00128-77a5-4c39-94f1-6ce2d6cc8d5f",
   "metadata": {},
   "outputs": [],
   "source": []
  },
  {
   "cell_type": "code",
   "execution_count": 23,
   "id": "b05e77e8-c0df-4ade-a024-1acc06c77fba",
   "metadata": {},
   "outputs": [
    {
     "name": "stdout",
     "output_type": "stream",
     "text": [
      "[1] 732586      9\n"
     ]
    },
    {
     "data": {
      "text/html": [
       "<table>\n",
       " <thead>\n",
       "  <tr>\n",
       "   <th style=\"text-align:left;\"> Chrom </th>\n",
       "   <th style=\"text-align:right;\"> ChromStart </th>\n",
       "   <th style=\"text-align:right;\"> ChromEnd </th>\n",
       "   <th style=\"text-align:left;\"> Region </th>\n",
       "   <th style=\"text-align:right;\"> Score </th>\n",
       "   <th style=\"text-align:left;\"> Assay_Name </th>\n",
       "   <th style=\"text-align:left;\"> Assay_Type </th>\n",
       "   <th style=\"text-align:left;\"> Assay_Group </th>\n",
       "   <th style=\"text-align:left;\"> Assay_Label </th>\n",
       "  </tr>\n",
       " </thead>\n",
       "<tbody>\n",
       "  <tr>\n",
       "   <td style=\"text-align:left;\"> chr10 </td>\n",
       "   <td style=\"text-align:right;\"> 100729094 </td>\n",
       "   <td style=\"text-align:right;\"> 100729750 </td>\n",
       "   <td style=\"text-align:left;\"> chr10:100729094-100729750 </td>\n",
       "   <td style=\"text-align:right;\"> -0.3065107 </td>\n",
       "   <td style=\"text-align:left;\"> CRISPRi_FlowFISH_K562_Riley_JinWoo </td>\n",
       "   <td style=\"text-align:left;\"> CRISPRi-HCRFF </td>\n",
       "   <td style=\"text-align:left;\"> CRISPRi-HCRFF </td>\n",
       "   <td style=\"text-align:left;\"> CRISPRi-HCR FlowFISH </td>\n",
       "  </tr>\n",
       "  <tr>\n",
       "   <td style=\"text-align:left;\"> chr10 </td>\n",
       "   <td style=\"text-align:right;\"> 100743501 </td>\n",
       "   <td style=\"text-align:right;\"> 100744571 </td>\n",
       "   <td style=\"text-align:left;\"> chr10:100743501-100744571 </td>\n",
       "   <td style=\"text-align:right;\"> -0.2702473 </td>\n",
       "   <td style=\"text-align:left;\"> CRISPRi_FlowFISH_K562_Riley_JinWoo </td>\n",
       "   <td style=\"text-align:left;\"> CRISPRi-HCRFF </td>\n",
       "   <td style=\"text-align:left;\"> CRISPRi-HCRFF </td>\n",
       "   <td style=\"text-align:left;\"> CRISPRi-HCR FlowFISH </td>\n",
       "  </tr>\n",
       "  <tr>\n",
       "   <td style=\"text-align:left;\"> chr10 </td>\n",
       "   <td style=\"text-align:right;\"> 100745413 </td>\n",
       "   <td style=\"text-align:right;\"> 100745741 </td>\n",
       "   <td style=\"text-align:left;\"> chr10:100745413-100745741 </td>\n",
       "   <td style=\"text-align:right;\"> 0.1130381 </td>\n",
       "   <td style=\"text-align:left;\"> CRISPRi_FlowFISH_K562_Riley_JinWoo </td>\n",
       "   <td style=\"text-align:left;\"> CRISPRi-HCRFF </td>\n",
       "   <td style=\"text-align:left;\"> CRISPRi-HCRFF </td>\n",
       "   <td style=\"text-align:left;\"> CRISPRi-HCR FlowFISH </td>\n",
       "  </tr>\n",
       "</tbody>\n",
       "</table>"
      ]
     },
     "metadata": {},
     "output_type": "display_data"
    }
   ],
   "source": [
    "dat = dat_zscore_total\n",
    "print(dim(dat))\n",
    "fun_display_table(head(dat, 3))"
   ]
  },
  {
   "cell_type": "code",
   "execution_count": 24,
   "id": "5bbff8e6-c28f-41ba-aa65-4830563a06ed",
   "metadata": {},
   "outputs": [
    {
     "name": "stdout",
     "output_type": "stream",
     "text": [
      "[1] 432505      9\n"
     ]
    },
    {
     "data": {
      "text/html": [
       "<table>\n",
       " <thead>\n",
       "  <tr>\n",
       "   <th style=\"text-align:left;\"> Chrom </th>\n",
       "   <th style=\"text-align:right;\"> ChromStart </th>\n",
       "   <th style=\"text-align:right;\"> ChromEnd </th>\n",
       "   <th style=\"text-align:left;\"> Region </th>\n",
       "   <th style=\"text-align:right;\"> Score </th>\n",
       "   <th style=\"text-align:left;\"> Assay_Name </th>\n",
       "   <th style=\"text-align:left;\"> Assay_Type </th>\n",
       "   <th style=\"text-align:left;\"> Assay_Group </th>\n",
       "   <th style=\"text-align:left;\"> Assay_Label </th>\n",
       "  </tr>\n",
       " </thead>\n",
       "<tbody>\n",
       "  <tr>\n",
       "   <td style=\"text-align:left;\"> chr10 </td>\n",
       "   <td style=\"text-align:right;\"> 100729094 </td>\n",
       "   <td style=\"text-align:right;\"> 100729750 </td>\n",
       "   <td style=\"text-align:left;\"> chr10:100729094-100729750 </td>\n",
       "   <td style=\"text-align:right;\"> -0.3065107 </td>\n",
       "   <td style=\"text-align:left;\"> CRISPRi_FlowFISH_K562_Riley_JinWoo </td>\n",
       "   <td style=\"text-align:left;\"> CRISPRi-HCRFF </td>\n",
       "   <td style=\"text-align:left;\"> CRISPRi-HCRFF </td>\n",
       "   <td style=\"text-align:left;\"> CRISPRi-HCR FlowFISH </td>\n",
       "  </tr>\n",
       "  <tr>\n",
       "   <td style=\"text-align:left;\"> chr10 </td>\n",
       "   <td style=\"text-align:right;\"> 100743501 </td>\n",
       "   <td style=\"text-align:right;\"> 100744571 </td>\n",
       "   <td style=\"text-align:left;\"> chr10:100743501-100744571 </td>\n",
       "   <td style=\"text-align:right;\"> -0.2702473 </td>\n",
       "   <td style=\"text-align:left;\"> CRISPRi_FlowFISH_K562_Riley_JinWoo </td>\n",
       "   <td style=\"text-align:left;\"> CRISPRi-HCRFF </td>\n",
       "   <td style=\"text-align:left;\"> CRISPRi-HCRFF </td>\n",
       "   <td style=\"text-align:left;\"> CRISPRi-HCR FlowFISH </td>\n",
       "  </tr>\n",
       "  <tr>\n",
       "   <td style=\"text-align:left;\"> chr10 </td>\n",
       "   <td style=\"text-align:right;\"> 100745413 </td>\n",
       "   <td style=\"text-align:right;\"> 100745741 </td>\n",
       "   <td style=\"text-align:left;\"> chr10:100745413-100745741 </td>\n",
       "   <td style=\"text-align:right;\"> 0.1130381 </td>\n",
       "   <td style=\"text-align:left;\"> CRISPRi_FlowFISH_K562_Riley_JinWoo </td>\n",
       "   <td style=\"text-align:left;\"> CRISPRi-HCRFF </td>\n",
       "   <td style=\"text-align:left;\"> CRISPRi-HCRFF </td>\n",
       "   <td style=\"text-align:left;\"> CRISPRi-HCR FlowFISH </td>\n",
       "  </tr>\n",
       "</tbody>\n",
       "</table>"
      ]
     },
     "metadata": {},
     "output_type": "display_data"
    }
   ],
   "source": [
    "dat = dat_zscore_final\n",
    "print(dim(dat))\n",
    "fun_display_table(head(dat, 3))"
   ]
  },
  {
   "cell_type": "code",
   "execution_count": 25,
   "id": "eacc7514-c2b9-465f-8776-389fe9811ccc",
   "metadata": {},
   "outputs": [
    {
     "name": "stdout",
     "output_type": "stream",
     "text": [
      "[1] 432505      6\n"
     ]
    },
    {
     "data": {
      "text/html": [
       "<table>\n",
       " <thead>\n",
       "  <tr>\n",
       "   <th style=\"text-align:left;\"> Chrom </th>\n",
       "   <th style=\"text-align:right;\"> ChromStart </th>\n",
       "   <th style=\"text-align:right;\"> ChromEnd </th>\n",
       "   <th style=\"text-align:left;\"> Region </th>\n",
       "   <th style=\"text-align:right;\"> Score </th>\n",
       "   <th style=\"text-align:left;\"> Assay </th>\n",
       "  </tr>\n",
       " </thead>\n",
       "<tbody>\n",
       "  <tr>\n",
       "   <td style=\"text-align:left;\"> chr10 </td>\n",
       "   <td style=\"text-align:right;\"> 100729094 </td>\n",
       "   <td style=\"text-align:right;\"> 100729750 </td>\n",
       "   <td style=\"text-align:left;\"> chr10:100729094-100729750 </td>\n",
       "   <td style=\"text-align:right;\"> -0.3065107 </td>\n",
       "   <td style=\"text-align:left;\"> CRISPRi-HCR FlowFISH </td>\n",
       "  </tr>\n",
       "  <tr>\n",
       "   <td style=\"text-align:left;\"> chr10 </td>\n",
       "   <td style=\"text-align:right;\"> 100743501 </td>\n",
       "   <td style=\"text-align:right;\"> 100744571 </td>\n",
       "   <td style=\"text-align:left;\"> chr10:100743501-100744571 </td>\n",
       "   <td style=\"text-align:right;\"> -0.2702473 </td>\n",
       "   <td style=\"text-align:left;\"> CRISPRi-HCR FlowFISH </td>\n",
       "  </tr>\n",
       "  <tr>\n",
       "   <td style=\"text-align:left;\"> chr10 </td>\n",
       "   <td style=\"text-align:right;\"> 100745413 </td>\n",
       "   <td style=\"text-align:right;\"> 100745741 </td>\n",
       "   <td style=\"text-align:left;\"> chr10:100745413-100745741 </td>\n",
       "   <td style=\"text-align:right;\"> 0.1130381 </td>\n",
       "   <td style=\"text-align:left;\"> CRISPRi-HCR FlowFISH </td>\n",
       "  </tr>\n",
       "</tbody>\n",
       "</table>"
      ]
     },
     "metadata": {},
     "output_type": "display_data"
    }
   ],
   "source": [
    "dat = dat_zscore_share\n",
    "print(dim(dat))\n",
    "fun_display_table(head(dat, 3))"
   ]
  },
  {
   "cell_type": "code",
   "execution_count": null,
   "id": "b7c66135-394a-4568-977a-54f39ba8ca30",
   "metadata": {},
   "outputs": [],
   "source": []
  },
  {
   "cell_type": "code",
   "execution_count": 26,
   "id": "d537b3e5-82bc-41d7-9d4c-cc74730e2470",
   "metadata": {},
   "outputs": [],
   "source": [
    "txt_region = \"fcc_astarr_macs_input_overlap\"\n",
    "txt_fdiry  = file.path(FD_RES, \"region_coverage_fcc\", txt_region, \"summary\")\n",
    "dir.create(txt_fdiry, showWarnings = FALSE)\n",
    "\n",
    "###\n",
    "txt_fname  = \"result.coverage.zscore.total.tsv\"\n",
    "txt_fpath  = file.path(txt_fdiry, txt_fname)\n",
    "\n",
    "dat = dat_zscore_total\n",
    "write_tsv(dat, txt_fpath)\n",
    "\n",
    "###\n",
    "txt_fname  = \"result.coverage.zscore.final.tsv\"\n",
    "txt_fpath  = file.path(txt_fdiry, txt_fname)\n",
    "\n",
    "dat = dat_zscore_final\n",
    "write_tsv(dat, txt_fpath)\n",
    "\n",
    "###\n",
    "txt_fname  = \"result.coverage.zscore.share.tsv\"\n",
    "txt_fpath  = file.path(txt_fdiry, txt_fname)\n",
    "\n",
    "dat = dat_zscore_share\n",
    "write_tsv(dat, txt_fpath)"
   ]
  }
 ],
 "metadata": {
  "kernelspec": {
   "display_name": "R",
   "language": "R",
   "name": "ir"
  },
  "language_info": {
   "codemirror_mode": "r",
   "file_extension": ".r",
   "mimetype": "text/x-r-source",
   "name": "R",
   "pygments_lexer": "r",
   "version": "4.4.2"
  }
 },
 "nbformat": 4,
 "nbformat_minor": 5
}
