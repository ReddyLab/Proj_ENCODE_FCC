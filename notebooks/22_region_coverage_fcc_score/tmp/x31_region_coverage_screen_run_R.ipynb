{
 "cells": [
  {
   "cell_type": "raw",
   "id": "807dc7d6-5c58-4d78-bc53-59ba8e72fa3b",
   "metadata": {},
   "source": [
    "---\n",
    "title: ...\n",
    "subtitle: combine ATAC, setup total, final, and share verion of table\n",
    "format:\n",
    "    html:\n",
    "        code-fold:  true\n",
    "        code-tools: true\n",
    "---"
   ]
  },
  {
   "cell_type": "markdown",
   "id": "e7a6b4ca-e12c-4efc-aded-a69fc5bbeb62",
   "metadata": {},
   "source": [
    "**Set environment**"
   ]
  },
  {
   "cell_type": "code",
   "execution_count": 1,
   "id": "c1af8056-81ca-4e6d-ba64-d22f500b276e",
   "metadata": {},
   "outputs": [
    {
     "name": "stdout",
     "output_type": "stream",
     "text": [
      "You are working on        Singularity: singularity_proj_encode_fcc \n",
      "BASE DIRECTORY (FD_BASE): /data/reddylab/Kuei \n",
      "REPO DIRECTORY (FD_REPO): /data/reddylab/Kuei/repo \n",
      "WORK DIRECTORY (FD_WORK): /data/reddylab/Kuei/work \n",
      "DATA DIRECTORY (FD_DATA): /data/reddylab/Kuei/data \n",
      "\n",
      "You are working with      ENCODE FCC \n",
      "PATH OF PROJECT (FD_PRJ): /data/reddylab/Kuei/repo/Proj_ENCODE_FCC \n",
      "PROJECT RESULTS (FD_RES): /data/reddylab/Kuei/repo/Proj_ENCODE_FCC/results \n",
      "PROJECT SCRIPTS (FD_EXE): /data/reddylab/Kuei/repo/Proj_ENCODE_FCC/scripts \n",
      "PROJECT DATA    (FD_DAT): /data/reddylab/Kuei/repo/Proj_ENCODE_FCC/data \n",
      "PROJECT NOTE    (FD_NBK): /data/reddylab/Kuei/repo/Proj_ENCODE_FCC/notebooks \n",
      "PROJECT DOCS    (FD_DOC): /data/reddylab/Kuei/repo/Proj_ENCODE_FCC/docs \n",
      "PROJECT LOG     (FD_LOG): /data/reddylab/Kuei/repo/Proj_ENCODE_FCC/log \n",
      "PROJECT REF     (FD_REF): /data/reddylab/Kuei/repo/Proj_ENCODE_FCC/references \n",
      "\n"
     ]
    }
   ],
   "source": [
    "suppressMessages(suppressWarnings(source(\"../run_config_project_sing.R\")))\n",
    "show_env()"
   ]
  },
  {
   "cell_type": "markdown",
   "id": "524b6e25-578b-4ca5-96a4-14d3b643d8c3",
   "metadata": {},
   "source": [
    "**Set global variables**"
   ]
  },
  {
   "cell_type": "code",
   "execution_count": 2,
   "id": "22f82912-aa18-4d05-affc-89a69d78fdaf",
   "metadata": {},
   "outputs": [
    {
     "name": "stdout",
     "output_type": "stream",
     "text": [
      "atac_ENCFF333TAT \n",
      "atac_ENCFF558BLC \n",
      "atac_ENCFF925CYR \n",
      "atac_ENCFF948AFM \n",
      "dnase_ENCFF185XRG \n",
      "dnase_ENCFF274YGF \n",
      "fcc_astarr_macs_input_overlap \n",
      "fcc_astarr_macs_input_union \n"
     ]
    }
   ],
   "source": [
    "txt_fdiry = file.path(FD_RES, \"region_coverage_fcc\")\n",
    "vec = dir(txt_fdiry)\n",
    "for (txt in vec) {cat(txt, \"\\n\")}"
   ]
  },
  {
   "cell_type": "code",
   "execution_count": 3,
   "id": "939a2d95-a8f3-4e4a-ba0d-77b5d4259179",
   "metadata": {},
   "outputs": [
    {
     "name": "stdout",
     "output_type": "stream",
     "text": [
      "CRISPRi_FlowFISH_K562_Riley_JinWoo \n",
      "CRISPRi_Growth_K562_Gersbach_JinWoo \n",
      "MPRA_Lenti_K562_Nadav_Vikram \n",
      "MPRA_Tiling_K562_Tewhey_Hannah \n",
      "STARR_ATAC_K562_Reddy_KS274 \n",
      "STARR_ATAC_K562_Reddy_KS91 \n",
      "STARR_ATAC_K562_Reddy_KSMerge \n",
      "STARR_WHG_K562_Reddy_A001 \n",
      "summary \n"
     ]
    }
   ],
   "source": [
    "txt_region = \"fcc_astarr_macs_input_union\"\n",
    "txt_fdiry  = file.path(FD_RES, \"region_coverage_fcc\", txt_region)\n",
    "vec = dir(txt_fdiry)\n",
    "for (txt in vec) {cat(txt, \"\\n\")}"
   ]
  },
  {
   "cell_type": "code",
   "execution_count": 4,
   "id": "0ccb6b2d-33f4-43bf-aa93-9143113db471",
   "metadata": {},
   "outputs": [
    {
     "name": "stdout",
     "output_type": "stream",
     "text": [
      "fcc_astarr_macs_input_overlap \n",
      "fcc_astarr_macs_input_union \n"
     ]
    }
   ],
   "source": [
    "#txt_fdiry = file.path(FD_RES, \"region_coverage_fcc\")\n",
    "#vec = dir(txt_fdiry)\n",
    "vec = c(\"fcc_astarr_macs_input_overlap\", \"fcc_astarr_macs_input_union\")\n",
    "names(vec) = vec\n",
    "\n",
    "VEC_TXT_REGION = vec\n",
    "for (txt in vec) {cat(txt, \"\\n\")}"
   ]
  },
  {
   "cell_type": "markdown",
   "id": "712af5aa-089e-4f30-8b60-21b0ac53f5bf",
   "metadata": {},
   "source": [
    "## Prepare input"
   ]
  },
  {
   "cell_type": "code",
   "execution_count": 5,
   "id": "7de874d5-1f92-43c1-9fae-3c8629f7332f",
   "metadata": {},
   "outputs": [
    {
     "name": "stdout",
     "output_type": "stream",
     "text": [
      "/data/reddylab/Kuei/repo/Proj_ENCODE_FCC/results/region_coverage_fcc/fcc_astarr_macs_input_overlap/MPRA_Tiling_K562_Tewhey_Hannah/overlap_score/summary/result.coverage.screened.tsv \n",
      "/data/reddylab/Kuei/repo/Proj_ENCODE_FCC/results/region_coverage_fcc/fcc_astarr_macs_input_overlap/STARR_ATAC_K562_Reddy_KS274/overlap_score/summary/result.coverage.screened.tsv \n",
      "/data/reddylab/Kuei/repo/Proj_ENCODE_FCC/results/region_coverage_fcc/fcc_astarr_macs_input_overlap/STARR_ATAC_K562_Reddy_KS91/overlap_score/summary/result.coverage.screened.tsv \n",
      "/data/reddylab/Kuei/repo/Proj_ENCODE_FCC/results/region_coverage_fcc/fcc_astarr_macs_input_overlap/STARR_ATAC_K562_Reddy_KSMerge/overlap_score/summary/result.coverage.screened.tsv \n",
      "/data/reddylab/Kuei/repo/Proj_ENCODE_FCC/results/region_coverage_fcc/fcc_astarr_macs_input_overlap/STARR_WHG_K562_Reddy_A001/overlap_score/summary/result.coverage.screened.tsv \n"
     ]
    }
   ],
   "source": [
    "txt_region = \"fcc_astarr_macs_input_overlap\"\n",
    "txt_fdiry  = file.path(FD_RES, \"region_coverage_fcc\", txt_region)\n",
    "txt_fname  = \"result.coverage.screened.tsv\"\n",
    "txt_fglob  = file.path(txt_fdiry, \"*\", \"overlap_score\", \"summary\", txt_fname)\n",
    "vec = Sys.glob(txt_fglob)\n",
    "\n",
    "vec_txt_fpath = vec\n",
    "\n",
    "for (txt in vec) {cat(txt, \"\\n\")}"
   ]
  },
  {
   "cell_type": "code",
   "execution_count": 6,
   "id": "baa6e8d7-3b06-4009-b2ac-2552d116f64f",
   "metadata": {},
   "outputs": [],
   "source": [
    "VEC_TXT_ASSAY_NAME = c(\n",
    "    \"CRISPRi_FlowFISH_K562_Riley_JinWoo\",\n",
    "    \"CRISPRi_Growth_K562_Gersbach_JinWoo\", \n",
    "    \"MPRA_Lenti_K562_Nadav_Vikram\", \n",
    "    \"MPRA_Tiling_K562_Tewhey_Hannah\", \n",
    "    \"STARR_ATAC_K562_Reddy_KS274\", \n",
    "    \"STARR_ATAC_K562_Reddy_KS91\", \n",
    "    \"STARR_ATAC_K562_Reddy_KSMerge\", \n",
    "    \"STARR_WHG_K562_Reddy_A001\"\n",
    ")\n",
    "\n",
    "VEC_TXT_ASSAY_TYPE = c(\n",
    "    \"CRISPRi-HCRFF\",\n",
    "    \"CRISPRi-Growth\",\n",
    "    \"LMPRA\",\n",
    "    \"TMPRA\",\n",
    "    \"ASTARR\",\n",
    "    \"ASTARR\",\n",
    "    \"ASTARR\",\n",
    "    \"WSTARR\"\n",
    ")\n",
    "\n",
    "VEC_TXT_ASSAY_GROUP = c(\n",
    "    \"CRISPRi-HCRFF\",\n",
    "    \"CRISPRi-Growth\",\n",
    "    \"LMPRA\",\n",
    "    \"TMPRA\",\n",
    "    \"ASTARR_KS274\",\n",
    "    \"ASTARR_KS91\",\n",
    "    \"ASTARR_KSMerge\",\n",
    "    \"WSTARR\"\n",
    ")\n",
    "\n",
    "VEC_TXT_ASSAY_LABEL = c(\n",
    "    \"CRISPRi-HCR FlowFISH\",\n",
    "    \"CRISPRi-Growth\", \n",
    "    \"Lenti-MPRA\", \n",
    "    \"Tiling-MPRA\", \n",
    "    \"ATAC-STARR\", \n",
    "    \"ATAC-STARR\", \n",
    "    \"ATAC-STARR\", \n",
    "    \"WHG-STARR\"\n",
    ")\n",
    "\n",
    "fun1 = function(txt){\n",
    "    vec1 = VEC_TXT_ASSAY_NAME\n",
    "    vec2 = VEC_TXT_ASSAY_NAME\n",
    "    res  = fun_str_map_detect(txt, vec1, vec2)\n",
    "    return(res)\n",
    "}\n",
    "\n",
    "fun2 = function(txt){\n",
    "    vec1 = VEC_TXT_ASSAY_NAME\n",
    "    vec2 = VEC_TXT_ASSAY_TYPE\n",
    "    res  = fun_str_map_detect(txt, vec1, vec2)\n",
    "    return(res)\n",
    "}\n",
    "\n",
    "fun3 = function(txt){\n",
    "    vec1 = VEC_TXT_ASSAY_NAME\n",
    "    vec2 = VEC_TXT_ASSAY_GROUP\n",
    "    res  = fun_str_map_detect(txt, vec1, vec2)\n",
    "    return(res)\n",
    "}\n",
    "\n",
    "fun4 = function(txt){\n",
    "    vec1 = VEC_TXT_ASSAY_NAME\n",
    "    vec2 = VEC_TXT_ASSAY_LABEL\n",
    "    res  = fun_str_map_detect(txt, vec1, vec2)\n",
    "    return(res)\n",
    "}"
   ]
  },
  {
   "cell_type": "code",
   "execution_count": null,
   "id": "72ca83ec-1c1f-4e93-a84c-bfe3431f40ee",
   "metadata": {},
   "outputs": [],
   "source": [
    "for (txt_region in VEC_TXT_REGION){\n",
    "    ### get file paths\n",
    "    txt_fdiry  = file.path(FD_RES, \"region_coverage_fcc\", txt_region)\n",
    "    txt_fname  = \"result.coverage.screened.tsv\"\n",
    "    txt_fglob  = file.path(txt_fdiry, \"*\", \"overlap_score\", \"summary\", txt_fname)\n",
    "    vec = Sys.glob(txt_fglob)\n",
    "    vec_txt_fpath = vec\n",
    "\n",
    "    ### \n",
    "    for (txt_fpath in vec_txt_fpath){\n",
    "        ###\n",
    "        dat = read_tsv(txt_fpath, show_col_types = FALSE)\n",
    "\n",
    "        ###\n",
    "        dat = dat %>% \n",
    "            dplyr::mutate(\n",
    "                Score = as.vector(scale(log2FoldChange)),\n",
    "                Assay_Name  = fun1(txt_fpath),\n",
    "                Assay_Type  = fun2(txt_fpath),\n",
    "                Assay_Group = fun3(txt_fpath),\n",
    "                Assay_Label = fun4(txt_fpath)\n",
    "            ) %>%\n",
    "            dplyr::select(\n",
    "                Chrom, ChromStart, ChromEnd, Region, Score, \n",
    "                Assay_Name,  \n",
    "                Assay_Type,\n",
    "                Assay_Group,\n",
    "                Assay_Label\n",
    "            ) %>%\n",
    "            dplyr::arrange(Chrom, ChromStart, ChromEnd)\n",
    "\n",
    "        ###\n",
    "        #txt_fdiry = dirname(txt_fpath)\n",
    "        #txt_fname = \"result.coverage.zscore.tsv\"\n",
    "        #txt_fpath = file.path(txt_fdiry, txt_fname)\n",
    "    \n",
    "        #dat = dat %>% na.omit\n",
    "        #write_tsv(dat, txt_fpath)\n",
    "    }    \n",
    "}"
   ]
  },
  {
   "cell_type": "code",
   "execution_count": null,
   "id": "04203112-29de-4ab2-8ac1-f9129b6b37d2",
   "metadata": {},
   "outputs": [],
   "source": []
  },
  {
   "cell_type": "code",
   "execution_count": 35,
   "id": "6aa41bc5-8fb7-437f-a8ec-fc44dc8f7bfd",
   "metadata": {},
   "outputs": [
    {
     "name": "stdout",
     "output_type": "stream",
     "text": [
      "[1] \"/data/reddylab/Kuei/repo/Proj_ENCODE_FCC/results/region_coverage_fcc/fcc_astarr_macs_input_overlap/summary/result.coverage.score.atac.tsv\"\n",
      "[1] \"/data/reddylab/Kuei/repo/Proj_ENCODE_FCC/results/region_coverage_fcc/fcc_astarr_macs_input_union/summary/result.coverage.score.atac.tsv\"\n",
      "$fcc_astarr_macs_input_overlap\n",
      "[1] 150041      9\n",
      "\n",
      "$fcc_astarr_macs_input_union\n",
      "[1] 246852      9\n",
      "\n"
     ]
    },
    {
     "data": {
      "text/html": [
       "<table class=\"dataframe\">\n",
       "<caption>A tibble: 3 × 9</caption>\n",
       "<thead>\n",
       "\t<tr><th scope=col>Chrom</th><th scope=col>ChromStart</th><th scope=col>ChromEnd</th><th scope=col>Region</th><th scope=col>Score</th><th scope=col>Assay_Name</th><th scope=col>Assay_Type</th><th scope=col>Assay_Group</th><th scope=col>Assay_Label</th></tr>\n",
       "\t<tr><th scope=col>&lt;chr&gt;</th><th scope=col>&lt;dbl&gt;</th><th scope=col>&lt;dbl&gt;</th><th scope=col>&lt;chr&gt;</th><th scope=col>&lt;dbl&gt;</th><th scope=col>&lt;chr&gt;</th><th scope=col>&lt;chr&gt;</th><th scope=col>&lt;chr&gt;</th><th scope=col>&lt;chr&gt;</th></tr>\n",
       "</thead>\n",
       "<tbody>\n",
       "\t<tr><td>chr1</td><td>10038</td><td>10405</td><td>chr1:10038-10405</td><td>3.940038</td><td>STARR_ATAC_K562_Reddy_KS91</td><td>ATAC</td><td>ASTARR_KS91</td><td>ATAC</td></tr>\n",
       "\t<tr><td>chr1</td><td>14282</td><td>14614</td><td>chr1:14282-14614</td><td>2.841707</td><td>STARR_ATAC_K562_Reddy_KS91</td><td>ATAC</td><td>ASTARR_KS91</td><td>ATAC</td></tr>\n",
       "\t<tr><td>chr1</td><td>16025</td><td>16338</td><td>chr1:16025-16338</td><td>3.830812</td><td>STARR_ATAC_K562_Reddy_KS91</td><td>ATAC</td><td>ASTARR_KS91</td><td>ATAC</td></tr>\n",
       "</tbody>\n",
       "</table>\n"
      ],
      "text/latex": [
       "A tibble: 3 × 9\n",
       "\\begin{tabular}{lllllllll}\n",
       " Chrom & ChromStart & ChromEnd & Region & Score & Assay\\_Name & Assay\\_Type & Assay\\_Group & Assay\\_Label\\\\\n",
       " <chr> & <dbl> & <dbl> & <chr> & <dbl> & <chr> & <chr> & <chr> & <chr>\\\\\n",
       "\\hline\n",
       "\t chr1 & 10038 & 10405 & chr1:10038-10405 & 3.940038 & STARR\\_ATAC\\_K562\\_Reddy\\_KS91 & ATAC & ASTARR\\_KS91 & ATAC\\\\\n",
       "\t chr1 & 14282 & 14614 & chr1:14282-14614 & 2.841707 & STARR\\_ATAC\\_K562\\_Reddy\\_KS91 & ATAC & ASTARR\\_KS91 & ATAC\\\\\n",
       "\t chr1 & 16025 & 16338 & chr1:16025-16338 & 3.830812 & STARR\\_ATAC\\_K562\\_Reddy\\_KS91 & ATAC & ASTARR\\_KS91 & ATAC\\\\\n",
       "\\end{tabular}\n"
      ],
      "text/markdown": [
       "\n",
       "A tibble: 3 × 9\n",
       "\n",
       "| Chrom &lt;chr&gt; | ChromStart &lt;dbl&gt; | ChromEnd &lt;dbl&gt; | Region &lt;chr&gt; | Score &lt;dbl&gt; | Assay_Name &lt;chr&gt; | Assay_Type &lt;chr&gt; | Assay_Group &lt;chr&gt; | Assay_Label &lt;chr&gt; |\n",
       "|---|---|---|---|---|---|---|---|---|\n",
       "| chr1 | 10038 | 10405 | chr1:10038-10405 | 3.940038 | STARR_ATAC_K562_Reddy_KS91 | ATAC | ASTARR_KS91 | ATAC |\n",
       "| chr1 | 14282 | 14614 | chr1:14282-14614 | 2.841707 | STARR_ATAC_K562_Reddy_KS91 | ATAC | ASTARR_KS91 | ATAC |\n",
       "| chr1 | 16025 | 16338 | chr1:16025-16338 | 3.830812 | STARR_ATAC_K562_Reddy_KS91 | ATAC | ASTARR_KS91 | ATAC |\n",
       "\n"
      ],
      "text/plain": [
       "  Chrom ChromStart ChromEnd Region           Score   \n",
       "1 chr1  10038      10405    chr1:10038-10405 3.940038\n",
       "2 chr1  14282      14614    chr1:14282-14614 2.841707\n",
       "3 chr1  16025      16338    chr1:16025-16338 3.830812\n",
       "  Assay_Name                 Assay_Type Assay_Group Assay_Label\n",
       "1 STARR_ATAC_K562_Reddy_KS91 ATAC       ASTARR_KS91 ATAC       \n",
       "2 STARR_ATAC_K562_Reddy_KS91 ATAC       ASTARR_KS91 ATAC       \n",
       "3 STARR_ATAC_K562_Reddy_KS91 ATAC       ASTARR_KS91 ATAC       "
      ]
     },
     "metadata": {},
     "output_type": "display_data"
    }
   ],
   "source": [
    "lst = lapply(VEC_TXT_REGION, function(txt_region){\n",
    "    ### get file paths\n",
    "    txt_fdiry  = file.path(FD_RES, \"region_coverage_fcc\", txt_region, \"summary\")\n",
    "    txt_fname  = \"result.coverage.score.atac.tsv\"\n",
    "    txt_fglob  = file.path(txt_fdiry, txt_fname)\n",
    "    vec = Sys.glob(txt_fglob)\n",
    "    vec_txt_fpath = vec\n",
    "    print(vec)\n",
    "    flush.console()\n",
    "    \n",
    "    ### import all z scores\n",
    "    lst = lapply(vec_txt_fpath, function(txt_fpath){\n",
    "        dat = read_tsv(txt_fpath, show_col_types = FALSE)\n",
    "        return(dat)\n",
    "    })\n",
    "    dat = bind_rows(lst)\n",
    "    return(dat)\n",
    "})\n",
    "\n",
    "### assign and show\n",
    "lst_dat_region_atac_import = lst\n",
    "\n",
    "res = lapply(lst, dim)\n",
    "print(res)\n",
    "\n",
    "dat = lst[[1]]\n",
    "head(dat, 3)"
   ]
  },
  {
   "cell_type": "code",
   "execution_count": 8,
   "id": "da118e25-ea7f-499d-9e75-52e86a17eb67",
   "metadata": {},
   "outputs": [
    {
     "name": "stdout",
     "output_type": "stream",
     "text": [
      "[1] \"/data/reddylab/Kuei/repo/Proj_ENCODE_FCC/results/region_coverage_fcc/fcc_astarr_macs_input_overlap/MPRA_Tiling_K562_Tewhey_Hannah/overlap_score/summary/result.coverage.screened.tsv\"\n",
      "[2] \"/data/reddylab/Kuei/repo/Proj_ENCODE_FCC/results/region_coverage_fcc/fcc_astarr_macs_input_overlap/STARR_ATAC_K562_Reddy_KS274/overlap_score/summary/result.coverage.screened.tsv\"   \n",
      "[3] \"/data/reddylab/Kuei/repo/Proj_ENCODE_FCC/results/region_coverage_fcc/fcc_astarr_macs_input_overlap/STARR_ATAC_K562_Reddy_KS91/overlap_score/summary/result.coverage.screened.tsv\"    \n",
      "[4] \"/data/reddylab/Kuei/repo/Proj_ENCODE_FCC/results/region_coverage_fcc/fcc_astarr_macs_input_overlap/STARR_ATAC_K562_Reddy_KSMerge/overlap_score/summary/result.coverage.screened.tsv\" \n",
      "[5] \"/data/reddylab/Kuei/repo/Proj_ENCODE_FCC/results/region_coverage_fcc/fcc_astarr_macs_input_overlap/STARR_WHG_K562_Reddy_A001/overlap_score/summary/result.coverage.screened.tsv\"     \n",
      "[1] \"/data/reddylab/Kuei/repo/Proj_ENCODE_FCC/results/region_coverage_fcc/fcc_astarr_macs_input_union/MPRA_Tiling_K562_Tewhey_Hannah/overlap_score/summary/result.coverage.screened.tsv\"\n",
      "[2] \"/data/reddylab/Kuei/repo/Proj_ENCODE_FCC/results/region_coverage_fcc/fcc_astarr_macs_input_union/STARR_ATAC_K562_Reddy_KS274/overlap_score/summary/result.coverage.screened.tsv\"   \n",
      "[3] \"/data/reddylab/Kuei/repo/Proj_ENCODE_FCC/results/region_coverage_fcc/fcc_astarr_macs_input_union/STARR_ATAC_K562_Reddy_KS91/overlap_score/summary/result.coverage.screened.tsv\"    \n",
      "[4] \"/data/reddylab/Kuei/repo/Proj_ENCODE_FCC/results/region_coverage_fcc/fcc_astarr_macs_input_union/STARR_ATAC_K562_Reddy_KSMerge/overlap_score/summary/result.coverage.screened.tsv\" \n",
      "[5] \"/data/reddylab/Kuei/repo/Proj_ENCODE_FCC/results/region_coverage_fcc/fcc_astarr_macs_input_union/STARR_WHG_K562_Reddy_A001/overlap_score/summary/result.coverage.screened.tsv\"     \n",
      "$fcc_astarr_macs_input_overlap\n",
      "[1] 600978     11\n",
      "\n",
      "$fcc_astarr_macs_input_union\n",
      "[1] 988690     11\n",
      "\n"
     ]
    },
    {
     "data": {
      "text/html": [
       "<table class=\"dataframe\">\n",
       "<caption>A tibble: 3 × 11</caption>\n",
       "<thead>\n",
       "\t<tr><th scope=col>Chrom</th><th scope=col>ChromStart</th><th scope=col>ChromEnd</th><th scope=col>Region</th><th scope=col>Input</th><th scope=col>Output</th><th scope=col>Total</th><th scope=col>Assay_Name</th><th scope=col>Assay_Type</th><th scope=col>Assay_Group</th><th scope=col>Assay_Label</th></tr>\n",
       "\t<tr><th scope=col>&lt;chr&gt;</th><th scope=col>&lt;dbl&gt;</th><th scope=col>&lt;dbl&gt;</th><th scope=col>&lt;chr&gt;</th><th scope=col>&lt;lgl&gt;</th><th scope=col>&lt;lgl&gt;</th><th scope=col>&lt;lgl&gt;</th><th scope=col>&lt;chr&gt;</th><th scope=col>&lt;chr&gt;</th><th scope=col>&lt;chr&gt;</th><th scope=col>&lt;chr&gt;</th></tr>\n",
       "</thead>\n",
       "<tbody>\n",
       "\t<tr><td>chr11</td><td>4551522</td><td>4551988</td><td>chr11:4551522-4551988</td><td>TRUE</td><td>TRUE</td><td>TRUE</td><td>MPRA_Tiling_K562_Tewhey_Hannah</td><td>TMPRA</td><td>TMPRA</td><td>Tiling-MPRA</td></tr>\n",
       "\t<tr><td>chr11</td><td>4554256</td><td>4554817</td><td>chr11:4554256-4554817</td><td>TRUE</td><td>TRUE</td><td>TRUE</td><td>MPRA_Tiling_K562_Tewhey_Hannah</td><td>TMPRA</td><td>TMPRA</td><td>Tiling-MPRA</td></tr>\n",
       "\t<tr><td>chr11</td><td>4577505</td><td>4578002</td><td>chr11:4577505-4578002</td><td>TRUE</td><td>TRUE</td><td>TRUE</td><td>MPRA_Tiling_K562_Tewhey_Hannah</td><td>TMPRA</td><td>TMPRA</td><td>Tiling-MPRA</td></tr>\n",
       "</tbody>\n",
       "</table>\n"
      ],
      "text/latex": [
       "A tibble: 3 × 11\n",
       "\\begin{tabular}{lllllllllll}\n",
       " Chrom & ChromStart & ChromEnd & Region & Input & Output & Total & Assay\\_Name & Assay\\_Type & Assay\\_Group & Assay\\_Label\\\\\n",
       " <chr> & <dbl> & <dbl> & <chr> & <lgl> & <lgl> & <lgl> & <chr> & <chr> & <chr> & <chr>\\\\\n",
       "\\hline\n",
       "\t chr11 & 4551522 & 4551988 & chr11:4551522-4551988 & TRUE & TRUE & TRUE & MPRA\\_Tiling\\_K562\\_Tewhey\\_Hannah & TMPRA & TMPRA & Tiling-MPRA\\\\\n",
       "\t chr11 & 4554256 & 4554817 & chr11:4554256-4554817 & TRUE & TRUE & TRUE & MPRA\\_Tiling\\_K562\\_Tewhey\\_Hannah & TMPRA & TMPRA & Tiling-MPRA\\\\\n",
       "\t chr11 & 4577505 & 4578002 & chr11:4577505-4578002 & TRUE & TRUE & TRUE & MPRA\\_Tiling\\_K562\\_Tewhey\\_Hannah & TMPRA & TMPRA & Tiling-MPRA\\\\\n",
       "\\end{tabular}\n"
      ],
      "text/markdown": [
       "\n",
       "A tibble: 3 × 11\n",
       "\n",
       "| Chrom &lt;chr&gt; | ChromStart &lt;dbl&gt; | ChromEnd &lt;dbl&gt; | Region &lt;chr&gt; | Input &lt;lgl&gt; | Output &lt;lgl&gt; | Total &lt;lgl&gt; | Assay_Name &lt;chr&gt; | Assay_Type &lt;chr&gt; | Assay_Group &lt;chr&gt; | Assay_Label &lt;chr&gt; |\n",
       "|---|---|---|---|---|---|---|---|---|---|---|\n",
       "| chr11 | 4551522 | 4551988 | chr11:4551522-4551988 | TRUE | TRUE | TRUE | MPRA_Tiling_K562_Tewhey_Hannah | TMPRA | TMPRA | Tiling-MPRA |\n",
       "| chr11 | 4554256 | 4554817 | chr11:4554256-4554817 | TRUE | TRUE | TRUE | MPRA_Tiling_K562_Tewhey_Hannah | TMPRA | TMPRA | Tiling-MPRA |\n",
       "| chr11 | 4577505 | 4578002 | chr11:4577505-4578002 | TRUE | TRUE | TRUE | MPRA_Tiling_K562_Tewhey_Hannah | TMPRA | TMPRA | Tiling-MPRA |\n",
       "\n"
      ],
      "text/plain": [
       "  Chrom ChromStart ChromEnd Region                Input Output Total\n",
       "1 chr11 4551522    4551988  chr11:4551522-4551988 TRUE  TRUE   TRUE \n",
       "2 chr11 4554256    4554817  chr11:4554256-4554817 TRUE  TRUE   TRUE \n",
       "3 chr11 4577505    4578002  chr11:4577505-4578002 TRUE  TRUE   TRUE \n",
       "  Assay_Name                     Assay_Type Assay_Group Assay_Label\n",
       "1 MPRA_Tiling_K562_Tewhey_Hannah TMPRA      TMPRA       Tiling-MPRA\n",
       "2 MPRA_Tiling_K562_Tewhey_Hannah TMPRA      TMPRA       Tiling-MPRA\n",
       "3 MPRA_Tiling_K562_Tewhey_Hannah TMPRA      TMPRA       Tiling-MPRA"
      ]
     },
     "metadata": {},
     "output_type": "display_data"
    }
   ],
   "source": [
    "lst = lapply(VEC_TXT_REGION, function(txt_region){\n",
    "    ### get file paths\n",
    "    txt_fdiry  = file.path(FD_RES, \"region_coverage_fcc\", txt_region)\n",
    "    txt_fname  = \"result.coverage.screened.tsv\"\n",
    "    txt_fglob  = file.path(txt_fdiry, \"*\", \"overlap_score\", \"summary\", txt_fname)\n",
    "    vec = Sys.glob(txt_fglob)\n",
    "    vec_txt_fpath = vec\n",
    "    print(vec)\n",
    "    flush.console()\n",
    "    \n",
    "    ### import all z scores\n",
    "    lst = lapply(vec_txt_fpath, function(txt_fpath){\n",
    "        dat = read_tsv(txt_fpath, show_col_types = FALSE)\n",
    "        dat = dat %>% \n",
    "            dplyr::mutate(\n",
    "                Assay_Name  = fun1(txt_fpath),\n",
    "                Assay_Type  = fun2(txt_fpath),\n",
    "                Assay_Group = fun3(txt_fpath),\n",
    "                Assay_Label = fun4(txt_fpath)\n",
    "            )\n",
    "        return(dat)\n",
    "    })\n",
    "    dat = bind_rows(lst)\n",
    "    return(dat)\n",
    "})\n",
    "\n",
    "### assign and show\n",
    "lst_dat_region_screen_import = lst\n",
    "\n",
    "res = lapply(lst, dim)\n",
    "print(res)\n",
    "\n",
    "dat = lst[[1]]\n",
    "head(dat, 3)"
   ]
  },
  {
   "cell_type": "code",
   "execution_count": 9,
   "id": "4a73b6b2-c67c-4ddf-b8a6-38a379afaa96",
   "metadata": {},
   "outputs": [
    {
     "name": "stdout",
     "output_type": "stream",
     "text": [
      "$fcc_astarr_macs_input_overlap\n",
      "[1] 518855     11\n",
      "\n",
      "$fcc_astarr_macs_input_union\n",
      "[1] 802866     11\n",
      "\n"
     ]
    },
    {
     "data": {
      "text/html": [
       "<table class=\"dataframe\">\n",
       "<caption>A tibble: 3 × 11</caption>\n",
       "<thead>\n",
       "\t<tr><th scope=col>Chrom</th><th scope=col>ChromStart</th><th scope=col>ChromEnd</th><th scope=col>Region</th><th scope=col>Input</th><th scope=col>Output</th><th scope=col>Total</th><th scope=col>Assay_Name</th><th scope=col>Assay_Type</th><th scope=col>Assay_Group</th><th scope=col>Assay_Label</th></tr>\n",
       "\t<tr><th scope=col>&lt;chr&gt;</th><th scope=col>&lt;dbl&gt;</th><th scope=col>&lt;dbl&gt;</th><th scope=col>&lt;chr&gt;</th><th scope=col>&lt;lgl&gt;</th><th scope=col>&lt;lgl&gt;</th><th scope=col>&lt;lgl&gt;</th><th scope=col>&lt;chr&gt;</th><th scope=col>&lt;chr&gt;</th><th scope=col>&lt;chr&gt;</th><th scope=col>&lt;chr&gt;</th></tr>\n",
       "</thead>\n",
       "<tbody>\n",
       "\t<tr><td>chr11</td><td>4551522</td><td>4551988</td><td>chr11:4551522-4551988</td><td>TRUE</td><td>TRUE</td><td>TRUE</td><td>MPRA_Tiling_K562_Tewhey_Hannah</td><td>TMPRA</td><td>TMPRA</td><td>Tiling-MPRA</td></tr>\n",
       "\t<tr><td>chr11</td><td>4554256</td><td>4554817</td><td>chr11:4554256-4554817</td><td>TRUE</td><td>TRUE</td><td>TRUE</td><td>MPRA_Tiling_K562_Tewhey_Hannah</td><td>TMPRA</td><td>TMPRA</td><td>Tiling-MPRA</td></tr>\n",
       "\t<tr><td>chr11</td><td>4577505</td><td>4578002</td><td>chr11:4577505-4578002</td><td>TRUE</td><td>TRUE</td><td>TRUE</td><td>MPRA_Tiling_K562_Tewhey_Hannah</td><td>TMPRA</td><td>TMPRA</td><td>Tiling-MPRA</td></tr>\n",
       "</tbody>\n",
       "</table>\n"
      ],
      "text/latex": [
       "A tibble: 3 × 11\n",
       "\\begin{tabular}{lllllllllll}\n",
       " Chrom & ChromStart & ChromEnd & Region & Input & Output & Total & Assay\\_Name & Assay\\_Type & Assay\\_Group & Assay\\_Label\\\\\n",
       " <chr> & <dbl> & <dbl> & <chr> & <lgl> & <lgl> & <lgl> & <chr> & <chr> & <chr> & <chr>\\\\\n",
       "\\hline\n",
       "\t chr11 & 4551522 & 4551988 & chr11:4551522-4551988 & TRUE & TRUE & TRUE & MPRA\\_Tiling\\_K562\\_Tewhey\\_Hannah & TMPRA & TMPRA & Tiling-MPRA\\\\\n",
       "\t chr11 & 4554256 & 4554817 & chr11:4554256-4554817 & TRUE & TRUE & TRUE & MPRA\\_Tiling\\_K562\\_Tewhey\\_Hannah & TMPRA & TMPRA & Tiling-MPRA\\\\\n",
       "\t chr11 & 4577505 & 4578002 & chr11:4577505-4578002 & TRUE & TRUE & TRUE & MPRA\\_Tiling\\_K562\\_Tewhey\\_Hannah & TMPRA & TMPRA & Tiling-MPRA\\\\\n",
       "\\end{tabular}\n"
      ],
      "text/markdown": [
       "\n",
       "A tibble: 3 × 11\n",
       "\n",
       "| Chrom &lt;chr&gt; | ChromStart &lt;dbl&gt; | ChromEnd &lt;dbl&gt; | Region &lt;chr&gt; | Input &lt;lgl&gt; | Output &lt;lgl&gt; | Total &lt;lgl&gt; | Assay_Name &lt;chr&gt; | Assay_Type &lt;chr&gt; | Assay_Group &lt;chr&gt; | Assay_Label &lt;chr&gt; |\n",
       "|---|---|---|---|---|---|---|---|---|---|---|\n",
       "| chr11 | 4551522 | 4551988 | chr11:4551522-4551988 | TRUE | TRUE | TRUE | MPRA_Tiling_K562_Tewhey_Hannah | TMPRA | TMPRA | Tiling-MPRA |\n",
       "| chr11 | 4554256 | 4554817 | chr11:4554256-4554817 | TRUE | TRUE | TRUE | MPRA_Tiling_K562_Tewhey_Hannah | TMPRA | TMPRA | Tiling-MPRA |\n",
       "| chr11 | 4577505 | 4578002 | chr11:4577505-4578002 | TRUE | TRUE | TRUE | MPRA_Tiling_K562_Tewhey_Hannah | TMPRA | TMPRA | Tiling-MPRA |\n",
       "\n"
      ],
      "text/plain": [
       "  Chrom ChromStart ChromEnd Region                Input Output Total\n",
       "1 chr11 4551522    4551988  chr11:4551522-4551988 TRUE  TRUE   TRUE \n",
       "2 chr11 4554256    4554817  chr11:4554256-4554817 TRUE  TRUE   TRUE \n",
       "3 chr11 4577505    4578002  chr11:4577505-4578002 TRUE  TRUE   TRUE \n",
       "  Assay_Name                     Assay_Type Assay_Group Assay_Label\n",
       "1 MPRA_Tiling_K562_Tewhey_Hannah TMPRA      TMPRA       Tiling-MPRA\n",
       "2 MPRA_Tiling_K562_Tewhey_Hannah TMPRA      TMPRA       Tiling-MPRA\n",
       "3 MPRA_Tiling_K562_Tewhey_Hannah TMPRA      TMPRA       Tiling-MPRA"
      ]
     },
     "metadata": {},
     "output_type": "display_data"
    }
   ],
   "source": [
    "lst = lst_dat_region_screen_import\n",
    "lst = lapply(lst, function(dat){\n",
    "    dat = dat %>% dplyr::filter(Input, Output, Total)\n",
    "    return(dat)\n",
    "})\n",
    "\n",
    "lst_dat_region_screen_filter = lst\n",
    "\n",
    "res = lapply(lst, dim)\n",
    "print(res)\n",
    "\n",
    "dat = lst[[1]]\n",
    "head(dat, 3)"
   ]
  },
  {
   "cell_type": "code",
   "execution_count": 37,
   "id": "937b1ec1-957b-41ea-b1af-cb5fca79b624",
   "metadata": {},
   "outputs": [
    {
     "data": {
      "text/html": [
       "<table>\n",
       " <thead>\n",
       "  <tr>\n",
       "   <th style=\"text-align:left;\"> Region </th>\n",
       "   <th style=\"text-align:right;\"> Total </th>\n",
       "  </tr>\n",
       " </thead>\n",
       "<tbody>\n",
       "  <tr>\n",
       "   <td style=\"text-align:left;\"> fcc_astarr_macs_input_overlap </td>\n",
       "   <td style=\"text-align:right;\"> 150041 </td>\n",
       "  </tr>\n",
       "  <tr>\n",
       "   <td style=\"text-align:left;\"> fcc_astarr_macs_input_union </td>\n",
       "   <td style=\"text-align:right;\"> 246852 </td>\n",
       "  </tr>\n",
       "</tbody>\n",
       "</table>"
      ]
     },
     "metadata": {},
     "output_type": "display_data"
    }
   ],
   "source": [
    "lst = lst_dat_region_atac_import\n",
    "lst = lapply(lst, function(dat){\n",
    "    dat = data.frame(Total = nrow(dat))\n",
    "    return(dat)\n",
    "})\n",
    "\n",
    "dat = bind_rows(lst, .id = \"Region\")\n",
    "dat_region_count_total = dat\n",
    "fun_display_table(head(dat, 3))"
   ]
  },
  {
   "cell_type": "code",
   "execution_count": 18,
   "id": "3d21a133-c4aa-40ff-bb29-5ae17da1c697",
   "metadata": {},
   "outputs": [
    {
     "data": {
      "text/html": [
       "<table>\n",
       " <thead>\n",
       "  <tr>\n",
       "   <th style=\"text-align:left;\"> Region </th>\n",
       "   <th style=\"text-align:left;\"> Assay </th>\n",
       "   <th style=\"text-align:right;\"> Total </th>\n",
       "  </tr>\n",
       " </thead>\n",
       "<tbody>\n",
       "  <tr>\n",
       "   <td style=\"text-align:left;\"> fcc_astarr_macs_input_overlap </td>\n",
       "   <td style=\"text-align:left;\"> ASTARR_KS274 </td>\n",
       "   <td style=\"text-align:right;\"> 150042 </td>\n",
       "  </tr>\n",
       "  <tr>\n",
       "   <td style=\"text-align:left;\"> fcc_astarr_macs_input_overlap </td>\n",
       "   <td style=\"text-align:left;\"> ASTARR_KS91 </td>\n",
       "   <td style=\"text-align:right;\"> 150041 </td>\n",
       "  </tr>\n",
       "  <tr>\n",
       "   <td style=\"text-align:left;\"> fcc_astarr_macs_input_overlap </td>\n",
       "   <td style=\"text-align:left;\"> ASTARR_KSMerge </td>\n",
       "   <td style=\"text-align:right;\"> 150042 </td>\n",
       "  </tr>\n",
       "</tbody>\n",
       "</table>"
      ]
     },
     "metadata": {},
     "output_type": "display_data"
    }
   ],
   "source": [
    "lst = lst_dat_region_screen_import\n",
    "lst = lapply(lst, function(dat){\n",
    "    res = table(dat$Assay_Group, dnn = c(\"Assay\"))\n",
    "    dat = as.data.frame(res)\n",
    "    return(dat)\n",
    "})\n",
    "\n",
    "dat = bind_rows(lst, .id = \"Region\")\n",
    "dat = dat %>% dplyr::rename(\"Total\" = \"Freq\")\n",
    "dat_region_screen_total = dat\n",
    "fun_display_table(head(dat, 3))"
   ]
  },
  {
   "cell_type": "code",
   "execution_count": 19,
   "id": "4b0716f4-a3ea-485e-aeac-19412ff5065b",
   "metadata": {},
   "outputs": [
    {
     "data": {
      "text/html": [
       "<table>\n",
       " <thead>\n",
       "  <tr>\n",
       "   <th style=\"text-align:left;\"> Region </th>\n",
       "   <th style=\"text-align:left;\"> Assay </th>\n",
       "   <th style=\"text-align:right;\"> Screen </th>\n",
       "  </tr>\n",
       " </thead>\n",
       "<tbody>\n",
       "  <tr>\n",
       "   <td style=\"text-align:left;\"> fcc_astarr_macs_input_overlap </td>\n",
       "   <td style=\"text-align:left;\"> ASTARR_KS274 </td>\n",
       "   <td style=\"text-align:right;\"> 131348 </td>\n",
       "  </tr>\n",
       "  <tr>\n",
       "   <td style=\"text-align:left;\"> fcc_astarr_macs_input_overlap </td>\n",
       "   <td style=\"text-align:left;\"> ASTARR_KS91 </td>\n",
       "   <td style=\"text-align:right;\"> 132891 </td>\n",
       "  </tr>\n",
       "  <tr>\n",
       "   <td style=\"text-align:left;\"> fcc_astarr_macs_input_overlap </td>\n",
       "   <td style=\"text-align:left;\"> ASTARR_KSMerge </td>\n",
       "   <td style=\"text-align:right;\"> 116117 </td>\n",
       "  </tr>\n",
       "</tbody>\n",
       "</table>"
      ]
     },
     "metadata": {},
     "output_type": "display_data"
    }
   ],
   "source": [
    "lst = lst_dat_region_screen_filter\n",
    "lst = lapply(lst, function(dat){\n",
    "    res = table(dat$Assay_Group, dnn = c(\"Assay\"))\n",
    "    dat = as.data.frame(res)\n",
    "    return(dat)\n",
    "})\n",
    "\n",
    "dat = bind_rows(lst, .id = \"Region\")\n",
    "dat = dat %>% dplyr::rename(\"Screen\" = \"Freq\")\n",
    "dat_region_screen_filter = dat\n",
    "fun_display_table(head(dat, 3))"
   ]
  },
  {
   "cell_type": "code",
   "execution_count": 27,
   "id": "376c9e3e-0a08-47a5-a3f7-8d7c573274a3",
   "metadata": {},
   "outputs": [
    {
     "name": "stdout",
     "output_type": "stream",
     "text": [
      "[1] 10  6\n"
     ]
    },
    {
     "data": {
      "text/html": [
       "<table>\n",
       " <thead>\n",
       "  <tr>\n",
       "   <th style=\"text-align:left;\"> Region </th>\n",
       "   <th style=\"text-align:left;\"> Assay </th>\n",
       "   <th style=\"text-align:right;\"> Screen </th>\n",
       "   <th style=\"text-align:right;\"> Total </th>\n",
       "   <th style=\"text-align:right;\"> Rate </th>\n",
       "   <th style=\"text-align:right;\"> Percent </th>\n",
       "  </tr>\n",
       " </thead>\n",
       "<tbody>\n",
       "  <tr>\n",
       "   <td style=\"text-align:left;\"> fcc_astarr_macs_input_overlap </td>\n",
       "   <td style=\"text-align:left;\"> ASTARR_KS274 </td>\n",
       "   <td style=\"text-align:right;\"> 131348 </td>\n",
       "   <td style=\"text-align:right;\"> 150042 </td>\n",
       "   <td style=\"text-align:right;\"> 0.8754082 </td>\n",
       "   <td style=\"text-align:right;\"> 88 </td>\n",
       "  </tr>\n",
       "  <tr>\n",
       "   <td style=\"text-align:left;\"> fcc_astarr_macs_input_overlap </td>\n",
       "   <td style=\"text-align:left;\"> ASTARR_KS91 </td>\n",
       "   <td style=\"text-align:right;\"> 132891 </td>\n",
       "   <td style=\"text-align:right;\"> 150041 </td>\n",
       "   <td style=\"text-align:right;\"> 0.8856979 </td>\n",
       "   <td style=\"text-align:right;\"> 89 </td>\n",
       "  </tr>\n",
       "  <tr>\n",
       "   <td style=\"text-align:left;\"> fcc_astarr_macs_input_overlap </td>\n",
       "   <td style=\"text-align:left;\"> ASTARR_KSMerge </td>\n",
       "   <td style=\"text-align:right;\"> 116117 </td>\n",
       "   <td style=\"text-align:right;\"> 150042 </td>\n",
       "   <td style=\"text-align:right;\"> 0.7738966 </td>\n",
       "   <td style=\"text-align:right;\"> 77 </td>\n",
       "  </tr>\n",
       "  <tr>\n",
       "   <td style=\"text-align:left;\"> fcc_astarr_macs_input_overlap </td>\n",
       "   <td style=\"text-align:left;\"> TMPRA </td>\n",
       "   <td style=\"text-align:right;\"> 823 </td>\n",
       "   <td style=\"text-align:right;\"> 823 </td>\n",
       "   <td style=\"text-align:right;\"> 1.0000000 </td>\n",
       "   <td style=\"text-align:right;\"> 100 </td>\n",
       "  </tr>\n",
       "  <tr>\n",
       "   <td style=\"text-align:left;\"> fcc_astarr_macs_input_overlap </td>\n",
       "   <td style=\"text-align:left;\"> WSTARR </td>\n",
       "   <td style=\"text-align:right;\"> 137676 </td>\n",
       "   <td style=\"text-align:right;\"> 150030 </td>\n",
       "   <td style=\"text-align:right;\"> 0.9176565 </td>\n",
       "   <td style=\"text-align:right;\"> 92 </td>\n",
       "  </tr>\n",
       "  <tr>\n",
       "   <td style=\"text-align:left;\"> fcc_astarr_macs_input_union </td>\n",
       "   <td style=\"text-align:left;\"> ASTARR_KS274 </td>\n",
       "   <td style=\"text-align:right;\"> 199524 </td>\n",
       "   <td style=\"text-align:right;\"> 246852 </td>\n",
       "   <td style=\"text-align:right;\"> 0.8082738 </td>\n",
       "   <td style=\"text-align:right;\"> 81 </td>\n",
       "  </tr>\n",
       "  <tr>\n",
       "   <td style=\"text-align:left;\"> fcc_astarr_macs_input_union </td>\n",
       "   <td style=\"text-align:left;\"> ASTARR_KS91 </td>\n",
       "   <td style=\"text-align:right;\"> 203487 </td>\n",
       "   <td style=\"text-align:right;\"> 246852 </td>\n",
       "   <td style=\"text-align:right;\"> 0.8243279 </td>\n",
       "   <td style=\"text-align:right;\"> 82 </td>\n",
       "  </tr>\n",
       "  <tr>\n",
       "   <td style=\"text-align:left;\"> fcc_astarr_macs_input_union </td>\n",
       "   <td style=\"text-align:left;\"> ASTARR_KSMerge </td>\n",
       "   <td style=\"text-align:right;\"> 172563 </td>\n",
       "   <td style=\"text-align:right;\"> 246852 </td>\n",
       "   <td style=\"text-align:right;\"> 0.6990545 </td>\n",
       "   <td style=\"text-align:right;\"> 70 </td>\n",
       "  </tr>\n",
       "  <tr>\n",
       "   <td style=\"text-align:left;\"> fcc_astarr_macs_input_union </td>\n",
       "   <td style=\"text-align:left;\"> TMPRA </td>\n",
       "   <td style=\"text-align:right;\"> 1306 </td>\n",
       "   <td style=\"text-align:right;\"> 1306 </td>\n",
       "   <td style=\"text-align:right;\"> 1.0000000 </td>\n",
       "   <td style=\"text-align:right;\"> 100 </td>\n",
       "  </tr>\n",
       "  <tr>\n",
       "   <td style=\"text-align:left;\"> fcc_astarr_macs_input_union </td>\n",
       "   <td style=\"text-align:left;\"> WSTARR </td>\n",
       "   <td style=\"text-align:right;\"> 225986 </td>\n",
       "   <td style=\"text-align:right;\"> 246828 </td>\n",
       "   <td style=\"text-align:right;\"> 0.9155606 </td>\n",
       "   <td style=\"text-align:right;\"> 92 </td>\n",
       "  </tr>\n",
       "</tbody>\n",
       "</table>"
      ]
     },
     "metadata": {},
     "output_type": "display_data"
    }
   ],
   "source": [
    "dat = dplyr::left_join(\n",
    "    dat_reigon_screen_filter,\n",
    "    dat_region_screen_total,\n",
    "    by = c(\"Region\", \"Assay\")\n",
    ")\n",
    "dat = dat %>% \n",
    "    dplyr::mutate(Rate = Screen/Total) %>% \n",
    "    dplyr::mutate(Percent = round(Rate * 100))\n",
    "\n",
    "dat_region_screen_summary = dat\n",
    "print(dim(dat))\n",
    "fun_display_table(dat)"
   ]
  },
  {
   "cell_type": "code",
   "execution_count": 28,
   "id": "8e575157-f74f-47be-9827-3bdebc0e0632",
   "metadata": {},
   "outputs": [
    {
     "data": {
      "text/html": [
       "<table>\n",
       " <thead>\n",
       "  <tr>\n",
       "   <th style=\"text-align:left;\"> Assay </th>\n",
       "   <th style=\"text-align:right;\"> fcc_astarr_macs_input_overlap </th>\n",
       "   <th style=\"text-align:right;\"> fcc_astarr_macs_input_union </th>\n",
       "  </tr>\n",
       " </thead>\n",
       "<tbody>\n",
       "  <tr>\n",
       "   <td style=\"text-align:left;\"> ASTARR_KS274 </td>\n",
       "   <td style=\"text-align:right;\"> 88 </td>\n",
       "   <td style=\"text-align:right;\"> 81 </td>\n",
       "  </tr>\n",
       "  <tr>\n",
       "   <td style=\"text-align:left;\"> ASTARR_KS91 </td>\n",
       "   <td style=\"text-align:right;\"> 89 </td>\n",
       "   <td style=\"text-align:right;\"> 82 </td>\n",
       "  </tr>\n",
       "  <tr>\n",
       "   <td style=\"text-align:left;\"> ASTARR_KSMerge </td>\n",
       "   <td style=\"text-align:right;\"> 77 </td>\n",
       "   <td style=\"text-align:right;\"> 70 </td>\n",
       "  </tr>\n",
       "  <tr>\n",
       "   <td style=\"text-align:left;\"> TMPRA </td>\n",
       "   <td style=\"text-align:right;\"> 100 </td>\n",
       "   <td style=\"text-align:right;\"> 100 </td>\n",
       "  </tr>\n",
       "  <tr>\n",
       "   <td style=\"text-align:left;\"> WSTARR </td>\n",
       "   <td style=\"text-align:right;\"> 92 </td>\n",
       "   <td style=\"text-align:right;\"> 92 </td>\n",
       "  </tr>\n",
       "</tbody>\n",
       "</table>"
      ]
     },
     "metadata": {},
     "output_type": "display_data"
    }
   ],
   "source": [
    "dat = dat_region_screen_summary\n",
    "dat = dat %>% \n",
    "    dplyr::select(Region, Assay, Percent) %>%\n",
    "    tidyr::pivot_wider(names_from = Region, values_from = Percent)\n",
    "fun_display_table(dat)"
   ]
  },
  {
   "cell_type": "code",
   "execution_count": 38,
   "id": "f7a8cb9a-129c-4465-8f53-d8ccc7c01194",
   "metadata": {},
   "outputs": [
    {
     "name": "stdout",
     "output_type": "stream",
     "text": [
      "[1] 10  6\n"
     ]
    },
    {
     "data": {
      "text/html": [
       "<table>\n",
       " <thead>\n",
       "  <tr>\n",
       "   <th style=\"text-align:left;\"> Region </th>\n",
       "   <th style=\"text-align:left;\"> Assay </th>\n",
       "   <th style=\"text-align:right;\"> Screen </th>\n",
       "   <th style=\"text-align:right;\"> Total </th>\n",
       "   <th style=\"text-align:right;\"> Rate </th>\n",
       "   <th style=\"text-align:right;\"> Percent </th>\n",
       "  </tr>\n",
       " </thead>\n",
       "<tbody>\n",
       "  <tr>\n",
       "   <td style=\"text-align:left;\"> fcc_astarr_macs_input_overlap </td>\n",
       "   <td style=\"text-align:left;\"> ASTARR_KS274 </td>\n",
       "   <td style=\"text-align:right;\"> 131348 </td>\n",
       "   <td style=\"text-align:right;\"> 150041 </td>\n",
       "   <td style=\"text-align:right;\"> 0.8754141 </td>\n",
       "   <td style=\"text-align:right;\"> 88 </td>\n",
       "  </tr>\n",
       "  <tr>\n",
       "   <td style=\"text-align:left;\"> fcc_astarr_macs_input_overlap </td>\n",
       "   <td style=\"text-align:left;\"> ASTARR_KS91 </td>\n",
       "   <td style=\"text-align:right;\"> 132891 </td>\n",
       "   <td style=\"text-align:right;\"> 150041 </td>\n",
       "   <td style=\"text-align:right;\"> 0.8856979 </td>\n",
       "   <td style=\"text-align:right;\"> 89 </td>\n",
       "  </tr>\n",
       "  <tr>\n",
       "   <td style=\"text-align:left;\"> fcc_astarr_macs_input_overlap </td>\n",
       "   <td style=\"text-align:left;\"> ASTARR_KSMerge </td>\n",
       "   <td style=\"text-align:right;\"> 116117 </td>\n",
       "   <td style=\"text-align:right;\"> 150041 </td>\n",
       "   <td style=\"text-align:right;\"> 0.7739018 </td>\n",
       "   <td style=\"text-align:right;\"> 77 </td>\n",
       "  </tr>\n",
       "  <tr>\n",
       "   <td style=\"text-align:left;\"> fcc_astarr_macs_input_overlap </td>\n",
       "   <td style=\"text-align:left;\"> TMPRA </td>\n",
       "   <td style=\"text-align:right;\"> 823 </td>\n",
       "   <td style=\"text-align:right;\"> 150041 </td>\n",
       "   <td style=\"text-align:right;\"> 0.0054852 </td>\n",
       "   <td style=\"text-align:right;\"> 1 </td>\n",
       "  </tr>\n",
       "  <tr>\n",
       "   <td style=\"text-align:left;\"> fcc_astarr_macs_input_overlap </td>\n",
       "   <td style=\"text-align:left;\"> WSTARR </td>\n",
       "   <td style=\"text-align:right;\"> 137676 </td>\n",
       "   <td style=\"text-align:right;\"> 150041 </td>\n",
       "   <td style=\"text-align:right;\"> 0.9175892 </td>\n",
       "   <td style=\"text-align:right;\"> 92 </td>\n",
       "  </tr>\n",
       "  <tr>\n",
       "   <td style=\"text-align:left;\"> fcc_astarr_macs_input_union </td>\n",
       "   <td style=\"text-align:left;\"> ASTARR_KS274 </td>\n",
       "   <td style=\"text-align:right;\"> 199524 </td>\n",
       "   <td style=\"text-align:right;\"> 246852 </td>\n",
       "   <td style=\"text-align:right;\"> 0.8082738 </td>\n",
       "   <td style=\"text-align:right;\"> 81 </td>\n",
       "  </tr>\n",
       "  <tr>\n",
       "   <td style=\"text-align:left;\"> fcc_astarr_macs_input_union </td>\n",
       "   <td style=\"text-align:left;\"> ASTARR_KS91 </td>\n",
       "   <td style=\"text-align:right;\"> 203487 </td>\n",
       "   <td style=\"text-align:right;\"> 246852 </td>\n",
       "   <td style=\"text-align:right;\"> 0.8243279 </td>\n",
       "   <td style=\"text-align:right;\"> 82 </td>\n",
       "  </tr>\n",
       "  <tr>\n",
       "   <td style=\"text-align:left;\"> fcc_astarr_macs_input_union </td>\n",
       "   <td style=\"text-align:left;\"> ASTARR_KSMerge </td>\n",
       "   <td style=\"text-align:right;\"> 172563 </td>\n",
       "   <td style=\"text-align:right;\"> 246852 </td>\n",
       "   <td style=\"text-align:right;\"> 0.6990545 </td>\n",
       "   <td style=\"text-align:right;\"> 70 </td>\n",
       "  </tr>\n",
       "  <tr>\n",
       "   <td style=\"text-align:left;\"> fcc_astarr_macs_input_union </td>\n",
       "   <td style=\"text-align:left;\"> TMPRA </td>\n",
       "   <td style=\"text-align:right;\"> 1306 </td>\n",
       "   <td style=\"text-align:right;\"> 246852 </td>\n",
       "   <td style=\"text-align:right;\"> 0.0052906 </td>\n",
       "   <td style=\"text-align:right;\"> 1 </td>\n",
       "  </tr>\n",
       "  <tr>\n",
       "   <td style=\"text-align:left;\"> fcc_astarr_macs_input_union </td>\n",
       "   <td style=\"text-align:left;\"> WSTARR </td>\n",
       "   <td style=\"text-align:right;\"> 225986 </td>\n",
       "   <td style=\"text-align:right;\"> 246852 </td>\n",
       "   <td style=\"text-align:right;\"> 0.9154716 </td>\n",
       "   <td style=\"text-align:right;\"> 92 </td>\n",
       "  </tr>\n",
       "</tbody>\n",
       "</table>"
      ]
     },
     "metadata": {},
     "output_type": "display_data"
    }
   ],
   "source": [
    "dat = dplyr::left_join(\n",
    "    dat_reigon_screen_filter,\n",
    "    dat_region_count_total,\n",
    "    by = c(\"Region\")\n",
    ")\n",
    "dat = dat %>% \n",
    "    dplyr::mutate(Rate = Screen/Total) %>% \n",
    "    dplyr::mutate(Percent = round(Rate * 100))\n",
    "\n",
    "dat_region_screen_summary = dat\n",
    "print(dim(dat))\n",
    "fun_display_table(dat)"
   ]
  },
  {
   "cell_type": "code",
   "execution_count": 39,
   "id": "82cd1a5d-a96a-4549-acbf-4fc66bed5566",
   "metadata": {},
   "outputs": [
    {
     "data": {
      "text/html": [
       "<table>\n",
       " <thead>\n",
       "  <tr>\n",
       "   <th style=\"text-align:left;\"> Assay </th>\n",
       "   <th style=\"text-align:right;\"> fcc_astarr_macs_input_overlap </th>\n",
       "   <th style=\"text-align:right;\"> fcc_astarr_macs_input_union </th>\n",
       "  </tr>\n",
       " </thead>\n",
       "<tbody>\n",
       "  <tr>\n",
       "   <td style=\"text-align:left;\"> ASTARR_KS274 </td>\n",
       "   <td style=\"text-align:right;\"> 88 </td>\n",
       "   <td style=\"text-align:right;\"> 81 </td>\n",
       "  </tr>\n",
       "  <tr>\n",
       "   <td style=\"text-align:left;\"> ASTARR_KS91 </td>\n",
       "   <td style=\"text-align:right;\"> 89 </td>\n",
       "   <td style=\"text-align:right;\"> 82 </td>\n",
       "  </tr>\n",
       "  <tr>\n",
       "   <td style=\"text-align:left;\"> ASTARR_KSMerge </td>\n",
       "   <td style=\"text-align:right;\"> 77 </td>\n",
       "   <td style=\"text-align:right;\"> 70 </td>\n",
       "  </tr>\n",
       "  <tr>\n",
       "   <td style=\"text-align:left;\"> TMPRA </td>\n",
       "   <td style=\"text-align:right;\"> 1 </td>\n",
       "   <td style=\"text-align:right;\"> 1 </td>\n",
       "  </tr>\n",
       "  <tr>\n",
       "   <td style=\"text-align:left;\"> WSTARR </td>\n",
       "   <td style=\"text-align:right;\"> 92 </td>\n",
       "   <td style=\"text-align:right;\"> 92 </td>\n",
       "  </tr>\n",
       "</tbody>\n",
       "</table>"
      ]
     },
     "metadata": {},
     "output_type": "display_data"
    }
   ],
   "source": [
    "dat = dat_region_screen_summary\n",
    "dat = dat %>% \n",
    "    dplyr::select(Region, Assay, Percent) %>%\n",
    "    tidyr::pivot_wider(names_from = Region, values_from = Percent)\n",
    "fun_display_table(dat)"
   ]
  },
  {
   "cell_type": "code",
   "execution_count": 40,
   "id": "40382239-9aa6-4277-81ef-098a97494e82",
   "metadata": {},
   "outputs": [
    {
     "data": {
      "image/png": "[encoded data removed]",
      "text/plain": [
       "plot without title"
      ]
     },
     "metadata": {
      "image/png": {
       "height": 300,
       "width": 420
      }
     },
     "output_type": "display_data"
    }
   ],
   "source": [
    "dat = dat_region_screen_summary\n",
    "dat = dat %>% \n",
    "    dplyr::filter(Region == \"fcc_astarr_macs_input_overlap\") %>%\n",
    "    dplyr::arrange(Percent) %>%\n",
    "    dplyr::mutate(Assay = factor(Assay, levels = Assay))\n",
    "\n",
    "gpt = ggplot(dat, aes(x=Percent, y=Assay)) +\n",
    "    geom_col() +\n",
    "    theme_cowplot() +\n",
    "    background_grid() +\n",
    "    labs(y = \"\")\n",
    "\n",
    "options(repr.plot.height=5, repr.plot.width=7)\n",
    "print(gpt)"
   ]
  },
  {
   "cell_type": "code",
   "execution_count": null,
   "id": "5a928421-4125-4757-a41a-021c6f5c7fa0",
   "metadata": {},
   "outputs": [],
   "source": []
  },
  {
   "cell_type": "code",
   "execution_count": null,
   "id": "5185bd3e-11b8-44cc-b150-8fafd15d8fb8",
   "metadata": {},
   "outputs": [],
   "source": []
  },
  {
   "cell_type": "code",
   "execution_count": null,
   "id": "c3d09927-570e-4930-9925-1e8607e5414f",
   "metadata": {},
   "outputs": [],
   "source": []
  }
 ],
 "metadata": {
  "kernelspec": {
   "display_name": "R",
   "language": "R",
   "name": "ir"
  },
  "language_info": {
   "codemirror_mode": "r",
   "file_extension": ".r",
   "mimetype": "text/x-r-source",
   "name": "R",
   "pygments_lexer": "r",
   "version": "4.4.2"
  }
 },
 "nbformat": 4,
 "nbformat_minor": 5
}
