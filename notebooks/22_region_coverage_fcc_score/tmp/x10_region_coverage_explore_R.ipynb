{
 "cells": [
  {
   "cell_type": "markdown",
   "id": "aac488f3-ce40-4efc-b471-49780303f747",
   "metadata": {},
   "source": [
    "# Plan for ploting coverage\n",
    "\n",
    "## coverage of ASTARR/WSTARR/TMRPA\n",
    "- scatter plot: input vs output vs replicates\n",
    "    - cumulative PDF of input and output (?) Counts / TPM\n",
    " \n",
    "## coverage of CRISPRi-HCRFF\n",
    "- matrix plot for total and filter\n",
    "    - row = region; col = genes\n",
    "\n",
    "## coverage of LMPRA and CRISPRi-Growth\n",
    "- ???\n",
    "\n",
    "## summary\n",
    "- density plot of z scores\n",
    "- correlation summary across multiple atac region set\n",
    "- pairwise scatter plot of fcc assays for ATAC overlap"
   ]
  },
  {
   "cell_type": "code",
   "execution_count": null,
   "id": "8b73e52e-c698-4382-a4ab-9daf8c15d89b",
   "metadata": {},
   "outputs": [],
   "source": []
  }
 ],
 "metadata": {
  "kernelspec": {
   "display_name": "R",
   "language": "R",
   "name": "ir"
  },
  "language_info": {
   "codemirror_mode": "r",
   "file_extension": ".r",
   "mimetype": "text/x-r-source",
   "name": "R",
   "pygments_lexer": "r",
   "version": "4.5.1"
  }
 },
 "nbformat": 4,
 "nbformat_minor": 5
}
