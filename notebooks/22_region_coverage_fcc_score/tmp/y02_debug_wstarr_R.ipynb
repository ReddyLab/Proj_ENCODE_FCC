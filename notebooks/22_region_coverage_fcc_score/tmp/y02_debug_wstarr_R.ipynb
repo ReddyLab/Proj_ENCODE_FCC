{
 "cells": [
  {
   "cell_type": "code",
   "execution_count": null,
   "id": "50632d7e-a6e3-433b-acc6-b8a84c89bb2b",
   "metadata": {},
   "outputs": [],
   "source": []
  },
  {
   "cell_type": "markdown",
   "id": "402e3099-c708-434c-8e06-4008cc6431d9",
   "metadata": {},
   "source": [
    "**Set environment**"
   ]
  },
  {
   "cell_type": "code",
   "execution_count": 1,
   "id": "5a794f75-99ce-4642-bc72-d320fd6231fe",
   "metadata": {},
   "outputs": [
    {
     "name": "stdout",
     "output_type": "stream",
     "text": [
      "You are working on        Singularity: singularity_proj_encode_fcc \n",
      "BASE DIRECTORY (FD_BASE): /data/reddylab/Kuei \n",
      "REPO DIRECTORY (FD_REPO): /data/reddylab/Kuei/repo \n",
      "WORK DIRECTORY (FD_WORK): /data/reddylab/Kuei/work \n",
      "DATA DIRECTORY (FD_DATA): /data/reddylab/Kuei/data \n",
      "\n",
      "You are working with      ENCODE FCC \n",
      "PATH OF PROJECT (FD_PRJ): /data/reddylab/Kuei/repo/Proj_ENCODE_FCC \n",
      "PROJECT RESULTS (FD_RES): /data/reddylab/Kuei/repo/Proj_ENCODE_FCC/results \n",
      "PROJECT SCRIPTS (FD_EXE): /data/reddylab/Kuei/repo/Proj_ENCODE_FCC/scripts \n",
      "PROJECT DATA    (FD_DAT): /data/reddylab/Kuei/repo/Proj_ENCODE_FCC/data \n",
      "PROJECT NOTE    (FD_NBK): /data/reddylab/Kuei/repo/Proj_ENCODE_FCC/notebooks \n",
      "PROJECT DOCS    (FD_DOC): /data/reddylab/Kuei/repo/Proj_ENCODE_FCC/docs \n",
      "PROJECT LOG     (FD_LOG): /data/reddylab/Kuei/repo/Proj_ENCODE_FCC/log \n",
      "PROJECT REF     (FD_REF): /data/reddylab/Kuei/repo/Proj_ENCODE_FCC/references \n",
      "\n"
     ]
    }
   ],
   "source": [
    "suppressMessages(suppressWarnings(source(\"../run_config_project_sing.R\")))\n",
    "show_env()"
   ]
  },
  {
   "cell_type": "code",
   "execution_count": 3,
   "id": "746f9ea2-601b-4c12-b759-5315b4cf96e2",
   "metadata": {},
   "outputs": [
    {
     "name": "stdout",
     "output_type": "stream",
     "text": [
      "fcc_astarr_macs_input_overlap \n",
      "fcc_astarr_macs_input_union \n"
     ]
    }
   ],
   "source": [
    "#txt_fdiry = file.path(FD_RES, \"region_coverage_fcc\")\n",
    "#vec = dir(txt_fdiry)\n",
    "vec = c(\"fcc_astarr_macs_input_overlap\", \"fcc_astarr_macs_input_union\")\n",
    "names(vec) = vec\n",
    "\n",
    "VEC_TXT_REGION = vec\n",
    "for (txt in vec) {cat(txt, \"\\n\")}"
   ]
  },
  {
   "cell_type": "code",
   "execution_count": 6,
   "id": "b26f68ec-e0d2-4e90-a327-b55c5e3fdf0b",
   "metadata": {},
   "outputs": [
    {
     "name": "stdout",
     "output_type": "stream",
     "text": [
      "$fcc_astarr_macs_input_overlap\n",
      "[1] 451334     12\n",
      "\n",
      "$fcc_astarr_macs_input_union\n",
      "[1] 645517     12\n",
      "\n"
     ]
    },
    {
     "data": {
      "text/html": [
       "<table class=\"dataframe\">\n",
       "<caption>A tibble: 3 × 12</caption>\n",
       "<thead>\n",
       "\t<tr><th scope=col>Chrom</th><th scope=col>ChromStart</th><th scope=col>ChromEnd</th><th scope=col>Region</th><th scope=col>Score</th><th scope=col>Zcore</th><th scope=col>Score_Label</th><th scope=col>Zcore_Label</th><th scope=col>Assay_Name</th><th scope=col>Assay_Type</th><th scope=col>Assay_Group</th><th scope=col>Assay_Label</th></tr>\n",
       "\t<tr><th scope=col>&lt;chr&gt;</th><th scope=col>&lt;dbl&gt;</th><th scope=col>&lt;dbl&gt;</th><th scope=col>&lt;chr&gt;</th><th scope=col>&lt;dbl&gt;</th><th scope=col>&lt;dbl&gt;</th><th scope=col>&lt;chr&gt;</th><th scope=col>&lt;chr&gt;</th><th scope=col>&lt;chr&gt;</th><th scope=col>&lt;chr&gt;</th><th scope=col>&lt;chr&gt;</th><th scope=col>&lt;chr&gt;</th></tr>\n",
       "</thead>\n",
       "<tbody>\n",
       "\t<tr><td>chr11</td><td>4551522</td><td>4551988</td><td>chr11:4551522-4551988</td><td>-0.1224555</td><td>-0.2666798</td><td>Log2FC</td><td>Scale(Log2FC)</td><td>MPRA_Tiling_K562_Tewhey_Hannah</td><td>TMPRA</td><td>TMPRA</td><td>Tiling-MPRA</td></tr>\n",
       "\t<tr><td>chr11</td><td>4554256</td><td>4554817</td><td>chr11:4554256-4554817</td><td> 2.3306759</td><td> 1.4683940</td><td>Log2FC</td><td>Scale(Log2FC)</td><td>MPRA_Tiling_K562_Tewhey_Hannah</td><td>TMPRA</td><td>TMPRA</td><td>Tiling-MPRA</td></tr>\n",
       "\t<tr><td>chr11</td><td>4577505</td><td>4578002</td><td>chr11:4577505-4578002</td><td>-0.9483542</td><td>-0.8508291</td><td>Log2FC</td><td>Scale(Log2FC)</td><td>MPRA_Tiling_K562_Tewhey_Hannah</td><td>TMPRA</td><td>TMPRA</td><td>Tiling-MPRA</td></tr>\n",
       "</tbody>\n",
       "</table>\n"
      ],
      "text/latex": [
       "A tibble: 3 × 12\n",
       "\\begin{tabular}{llllllllllll}\n",
       " Chrom & ChromStart & ChromEnd & Region & Score & Zcore & Score\\_Label & Zcore\\_Label & Assay\\_Name & Assay\\_Type & Assay\\_Group & Assay\\_Label\\\\\n",
       " <chr> & <dbl> & <dbl> & <chr> & <dbl> & <dbl> & <chr> & <chr> & <chr> & <chr> & <chr> & <chr>\\\\\n",
       "\\hline\n",
       "\t chr11 & 4551522 & 4551988 & chr11:4551522-4551988 & -0.1224555 & -0.2666798 & Log2FC & Scale(Log2FC) & MPRA\\_Tiling\\_K562\\_Tewhey\\_Hannah & TMPRA & TMPRA & Tiling-MPRA\\\\\n",
       "\t chr11 & 4554256 & 4554817 & chr11:4554256-4554817 &  2.3306759 &  1.4683940 & Log2FC & Scale(Log2FC) & MPRA\\_Tiling\\_K562\\_Tewhey\\_Hannah & TMPRA & TMPRA & Tiling-MPRA\\\\\n",
       "\t chr11 & 4577505 & 4578002 & chr11:4577505-4578002 & -0.9483542 & -0.8508291 & Log2FC & Scale(Log2FC) & MPRA\\_Tiling\\_K562\\_Tewhey\\_Hannah & TMPRA & TMPRA & Tiling-MPRA\\\\\n",
       "\\end{tabular}\n"
      ],
      "text/markdown": [
       "\n",
       "A tibble: 3 × 12\n",
       "\n",
       "| Chrom &lt;chr&gt; | ChromStart &lt;dbl&gt; | ChromEnd &lt;dbl&gt; | Region &lt;chr&gt; | Score &lt;dbl&gt; | Zcore &lt;dbl&gt; | Score_Label &lt;chr&gt; | Zcore_Label &lt;chr&gt; | Assay_Name &lt;chr&gt; | Assay_Type &lt;chr&gt; | Assay_Group &lt;chr&gt; | Assay_Label &lt;chr&gt; |\n",
       "|---|---|---|---|---|---|---|---|---|---|---|---|\n",
       "| chr11 | 4551522 | 4551988 | chr11:4551522-4551988 | -0.1224555 | -0.2666798 | Log2FC | Scale(Log2FC) | MPRA_Tiling_K562_Tewhey_Hannah | TMPRA | TMPRA | Tiling-MPRA |\n",
       "| chr11 | 4554256 | 4554817 | chr11:4554256-4554817 |  2.3306759 |  1.4683940 | Log2FC | Scale(Log2FC) | MPRA_Tiling_K562_Tewhey_Hannah | TMPRA | TMPRA | Tiling-MPRA |\n",
       "| chr11 | 4577505 | 4578002 | chr11:4577505-4578002 | -0.9483542 | -0.8508291 | Log2FC | Scale(Log2FC) | MPRA_Tiling_K562_Tewhey_Hannah | TMPRA | TMPRA | Tiling-MPRA |\n",
       "\n"
      ],
      "text/plain": [
       "  Chrom ChromStart ChromEnd Region                Score      Zcore     \n",
       "1 chr11 4551522    4551988  chr11:4551522-4551988 -0.1224555 -0.2666798\n",
       "2 chr11 4554256    4554817  chr11:4554256-4554817  2.3306759  1.4683940\n",
       "3 chr11 4577505    4578002  chr11:4577505-4578002 -0.9483542 -0.8508291\n",
       "  Score_Label Zcore_Label   Assay_Name                     Assay_Type\n",
       "1 Log2FC      Scale(Log2FC) MPRA_Tiling_K562_Tewhey_Hannah TMPRA     \n",
       "2 Log2FC      Scale(Log2FC) MPRA_Tiling_K562_Tewhey_Hannah TMPRA     \n",
       "3 Log2FC      Scale(Log2FC) MPRA_Tiling_K562_Tewhey_Hannah TMPRA     \n",
       "  Assay_Group Assay_Label\n",
       "1 TMPRA       Tiling-MPRA\n",
       "2 TMPRA       Tiling-MPRA\n",
       "3 TMPRA       Tiling-MPRA"
      ]
     },
     "metadata": {},
     "output_type": "display_data"
    }
   ],
   "source": [
    "lst = lapply(VEC_TXT_REGION, function(txt_region){\n",
    "    ### set file directory\n",
    "    txt_fdiry  = file.path(\n",
    "        FD_RES, \n",
    "        \"region_coverage_fcc\", \n",
    "        txt_region, \n",
    "        \"summary\"\n",
    "    )\n",
    "    #txt_fname = \"result.coverage.score.final.tsv\"\n",
    "    txt_fname = \"region.coverage.score.fcc.final.tsv\"\n",
    "    txt_fpath = file.path(txt_fdiry, txt_fname)\n",
    "\n",
    "    ### read table\n",
    "    dat = read_tsv(txt_fpath, show_col_types = FALSE)\n",
    "    return(dat)\n",
    "})\n",
    "\n",
    "### assign and show\n",
    "lst_dat_region_score_import = lst\n",
    "\n",
    "res = lapply(lst, dim)\n",
    "print(res)\n",
    "\n",
    "dat = lst[[1]]\n",
    "head(dat, 3)"
   ]
  },
  {
   "cell_type": "code",
   "execution_count": 7,
   "id": "365ffd51-9f91-44d0-950f-d03daa3b2714",
   "metadata": {},
   "outputs": [
    {
     "data": {
      "text/plain": [
       "                \n",
       "                 ASTARR_KS91 CRISPRi-Growth CRISPRi-HCRFF  LMPRA  TMPRA WSTARR\n",
       "  ASTARR              246852              0             0      0      0      0\n",
       "  CRISPRi-Growth           0          80288             0      0      0      0\n",
       "  CRISPRi-HCRFF            0              0          1330      0      0      0\n",
       "  LMPRA                    0              0             0  68497      0      0\n",
       "  TMPRA                    0              0             0      0   1722      0\n",
       "  WSTARR                   0              0             0      0      0 246828"
      ]
     },
     "metadata": {},
     "output_type": "display_data"
    }
   ],
   "source": [
    "lst = lst_dat_region_score_import \n",
    "dat = lst[[\"fcc_astarr_macs_input_union\"]]\n",
    "table(dat$Assay_Type,dat$Assay_Group)"
   ]
  },
  {
   "cell_type": "code",
   "execution_count": 8,
   "id": "edbd3538-cd55-4954-8608-e06cff9ee306",
   "metadata": {},
   "outputs": [
    {
     "name": "stdout",
     "output_type": "stream",
     "text": [
      "$fcc_astarr_macs_input_overlap\n",
      "[1] 432928      9\n",
      "\n",
      "$fcc_astarr_macs_input_union\n",
      "[1] 639718      9\n",
      "\n"
     ]
    },
    {
     "data": {
      "text/html": [
       "<table class=\"dataframe\">\n",
       "<caption>A tibble: 3 × 9</caption>\n",
       "<thead>\n",
       "\t<tr><th scope=col>Chrom</th><th scope=col>ChromStart</th><th scope=col>ChromEnd</th><th scope=col>Region</th><th scope=col>Score</th><th scope=col>Assay_Name</th><th scope=col>Assay_Type</th><th scope=col>Assay_Group</th><th scope=col>Assay_Label</th></tr>\n",
       "\t<tr><th scope=col>&lt;chr&gt;</th><th scope=col>&lt;dbl&gt;</th><th scope=col>&lt;dbl&gt;</th><th scope=col>&lt;chr&gt;</th><th scope=col>&lt;dbl&gt;</th><th scope=col>&lt;chr&gt;</th><th scope=col>&lt;chr&gt;</th><th scope=col>&lt;chr&gt;</th><th scope=col>&lt;chr&gt;</th></tr>\n",
       "</thead>\n",
       "<tbody>\n",
       "\t<tr><td>chr11</td><td>4092109</td><td>4092511</td><td>chr11:4092109-4092511</td><td>-0.4446170</td><td>CRISPRi_FlowFISH_K562_Riley_JinWoo</td><td>CRISPRi-HCRFF</td><td>CRISPRi-HCRFF</td><td>CRISPRi-HCR FlowFISH</td></tr>\n",
       "\t<tr><td>chr11</td><td>4094223</td><td>4095304</td><td>chr11:4094223-4095304</td><td>-0.2302549</td><td>CRISPRi_FlowFISH_K562_Riley_JinWoo</td><td>CRISPRi-HCRFF</td><td>CRISPRi-HCRFF</td><td>CRISPRi-HCR FlowFISH</td></tr>\n",
       "\t<tr><td>chr11</td><td>4144721</td><td>4147004</td><td>chr11:4144721-4147004</td><td>-0.2878661</td><td>CRISPRi_FlowFISH_K562_Riley_JinWoo</td><td>CRISPRi-HCRFF</td><td>CRISPRi-HCRFF</td><td>CRISPRi-HCR FlowFISH</td></tr>\n",
       "</tbody>\n",
       "</table>\n"
      ],
      "text/latex": [
       "A tibble: 3 × 9\n",
       "\\begin{tabular}{lllllllll}\n",
       " Chrom & ChromStart & ChromEnd & Region & Score & Assay\\_Name & Assay\\_Type & Assay\\_Group & Assay\\_Label\\\\\n",
       " <chr> & <dbl> & <dbl> & <chr> & <dbl> & <chr> & <chr> & <chr> & <chr>\\\\\n",
       "\\hline\n",
       "\t chr11 & 4092109 & 4092511 & chr11:4092109-4092511 & -0.4446170 & CRISPRi\\_FlowFISH\\_K562\\_Riley\\_JinWoo & CRISPRi-HCRFF & CRISPRi-HCRFF & CRISPRi-HCR FlowFISH\\\\\n",
       "\t chr11 & 4094223 & 4095304 & chr11:4094223-4095304 & -0.2302549 & CRISPRi\\_FlowFISH\\_K562\\_Riley\\_JinWoo & CRISPRi-HCRFF & CRISPRi-HCRFF & CRISPRi-HCR FlowFISH\\\\\n",
       "\t chr11 & 4144721 & 4147004 & chr11:4144721-4147004 & -0.2878661 & CRISPRi\\_FlowFISH\\_K562\\_Riley\\_JinWoo & CRISPRi-HCRFF & CRISPRi-HCRFF & CRISPRi-HCR FlowFISH\\\\\n",
       "\\end{tabular}\n"
      ],
      "text/markdown": [
       "\n",
       "A tibble: 3 × 9\n",
       "\n",
       "| Chrom &lt;chr&gt; | ChromStart &lt;dbl&gt; | ChromEnd &lt;dbl&gt; | Region &lt;chr&gt; | Score &lt;dbl&gt; | Assay_Name &lt;chr&gt; | Assay_Type &lt;chr&gt; | Assay_Group &lt;chr&gt; | Assay_Label &lt;chr&gt; |\n",
       "|---|---|---|---|---|---|---|---|---|\n",
       "| chr11 | 4092109 | 4092511 | chr11:4092109-4092511 | -0.4446170 | CRISPRi_FlowFISH_K562_Riley_JinWoo | CRISPRi-HCRFF | CRISPRi-HCRFF | CRISPRi-HCR FlowFISH |\n",
       "| chr11 | 4094223 | 4095304 | chr11:4094223-4095304 | -0.2302549 | CRISPRi_FlowFISH_K562_Riley_JinWoo | CRISPRi-HCRFF | CRISPRi-HCRFF | CRISPRi-HCR FlowFISH |\n",
       "| chr11 | 4144721 | 4147004 | chr11:4144721-4147004 | -0.2878661 | CRISPRi_FlowFISH_K562_Riley_JinWoo | CRISPRi-HCRFF | CRISPRi-HCRFF | CRISPRi-HCR FlowFISH |\n",
       "\n"
      ],
      "text/plain": [
       "  Chrom ChromStart ChromEnd Region                Score     \n",
       "1 chr11 4092109    4092511  chr11:4092109-4092511 -0.4446170\n",
       "2 chr11 4094223    4095304  chr11:4094223-4095304 -0.2302549\n",
       "3 chr11 4144721    4147004  chr11:4144721-4147004 -0.2878661\n",
       "  Assay_Name                         Assay_Type    Assay_Group  \n",
       "1 CRISPRi_FlowFISH_K562_Riley_JinWoo CRISPRi-HCRFF CRISPRi-HCRFF\n",
       "2 CRISPRi_FlowFISH_K562_Riley_JinWoo CRISPRi-HCRFF CRISPRi-HCRFF\n",
       "3 CRISPRi_FlowFISH_K562_Riley_JinWoo CRISPRi-HCRFF CRISPRi-HCRFF\n",
       "  Assay_Label         \n",
       "1 CRISPRi-HCR FlowFISH\n",
       "2 CRISPRi-HCR FlowFISH\n",
       "3 CRISPRi-HCR FlowFISH"
      ]
     },
     "metadata": {},
     "output_type": "display_data"
    }
   ],
   "source": [
    "lst = lapply(VEC_TXT_REGION, function(txt_region){\n",
    "    ### set file directory\n",
    "    txt_fdiry  = file.path(\n",
    "        FD_RES, \n",
    "        \"region_coverage_fcc\", \n",
    "        txt_region, \n",
    "        \"summary\"\n",
    "    )\n",
    "    txt_fname = \"result.coverage.score.final.tsv\"\n",
    "    #txt_fname = \"region.coverage.score.fcc.final.tsv\"\n",
    "    txt_fpath = file.path(txt_fdiry, txt_fname)\n",
    "\n",
    "    ### read table\n",
    "    dat = read_tsv(txt_fpath, show_col_types = FALSE)\n",
    "    return(dat)\n",
    "})\n",
    "\n",
    "### assign and show\n",
    "lst_dat_region_score_import = lst\n",
    "\n",
    "res = lapply(lst, dim)\n",
    "print(res)\n",
    "\n",
    "dat = lst[[1]]\n",
    "head(dat, 3)"
   ]
  },
  {
   "cell_type": "code",
   "execution_count": 9,
   "id": "b70bc029-f92f-404a-b7c5-68087bfff529",
   "metadata": {},
   "outputs": [
    {
     "data": {
      "text/plain": [
       "                \n",
       "                 ASTARR_KS91 CRISPRi-Growth CRISPRi-HCRFF  LMPRA  TMPRA WSTARR\n",
       "  ASTARR              246850              0             0      0      0      0\n",
       "  CRISPRi-Growth           0          80288             0      0      0      0\n",
       "  CRISPRi-HCRFF            0              0          1330      0      0      0\n",
       "  LMPRA                    0              0             0  68497      0      0\n",
       "  TMPRA                    0              0             0      0   1722      0\n",
       "  WSTARR                   0              0             0      0      0 241031"
      ]
     },
     "metadata": {},
     "output_type": "display_data"
    }
   ],
   "source": [
    "lst = lst_dat_region_score_import \n",
    "dat = lst[[\"fcc_astarr_macs_input_union\"]]\n",
    "table(dat$Assay_Type,dat$Assay_Group)"
   ]
  },
  {
   "cell_type": "code",
   "execution_count": null,
   "id": "48e66e75-7f8a-4d33-9c54-5b44c42ea9c0",
   "metadata": {},
   "outputs": [],
   "source": []
  }
 ],
 "metadata": {
  "kernelspec": {
   "display_name": "R",
   "language": "R",
   "name": "ir"
  },
  "language_info": {
   "codemirror_mode": "r",
   "file_extension": ".r",
   "mimetype": "text/x-r-source",
   "name": "R",
   "pygments_lexer": "r",
   "version": "4.4.2"
  }
 },
 "nbformat": 4,
 "nbformat_minor": 5
}
