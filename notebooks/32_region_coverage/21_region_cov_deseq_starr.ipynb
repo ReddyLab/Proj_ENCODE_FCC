{
 "cells": [
  {
   "cell_type": "raw",
   "id": "e5b161ff-47cf-463a-811c-690fdabe052f",
   "metadata": {},
   "source": [
    "---\n",
    "title: Region Coverage 21\n",
    "subtitle: Apply DESeq2 to process count matrix (STARR)\n",
    "format:\n",
    "    html:\n",
    "        code-fold:  true\n",
    "        code-tools: true\n",
    "---"
   ]
  },
  {
   "cell_type": "markdown",
   "id": "6c8d04b8-590f-4251-b28d-d2a0f54e9181",
   "metadata": {},
   "source": [
    "**Set environment**"
   ]
  },
  {
   "cell_type": "code",
   "execution_count": 8,
   "id": "dba8e58f-03cc-43ff-84f0-cc33ef694eaf",
   "metadata": {},
   "outputs": [
    {
     "name": "stdout",
     "output_type": "stream",
     "text": [
      "You are working on        Singularity \n",
      "BASE DIRECTORY (FD_BASE): /mount \n",
      "REPO DIRECTORY (FD_REPO): /mount/repo \n",
      "WORK DIRECTORY (FD_WORK): /mount/work \n",
      "DATA DIRECTORY (FD_DATA): /mount/data \n",
      "\n",
      "You are working with      ENCODE FCC \n",
      "PATH OF PROJECT (FD_PRJ): /mount/repo/Proj_CombEffect_ENCODE_FCC \n",
      "PROJECT RESULTS (FD_RES): /mount/repo/Proj_CombEffect_ENCODE_FCC/results \n",
      "PROJECT SCRIPTS (FD_EXE): /mount/repo/Proj_CombEffect_ENCODE_FCC/scripts \n",
      "PROJECT DATA    (FD_DAT): /mount/repo/Proj_CombEffect_ENCODE_FCC/data \n",
      "PROJECT NOTE    (FD_NBK): /mount/repo/Proj_CombEffect_ENCODE_FCC/notebooks \n",
      "PROJECT DOCS    (FD_DOC): /mount/repo/Proj_CombEffect_ENCODE_FCC/docs \n",
      "PROJECT LOG     (FD_LOG): /mount/repo/Proj_CombEffect_ENCODE_FCC/log \n",
      "PROJECT APP     (FD_APP): /mount/repo/Proj_CombEffect_ENCODE_FCC/app \n",
      "PROJECT REF     (FD_REF): /mount/repo/Proj_CombEffect_ENCODE_FCC/references \n",
      "\n"
     ]
    }
   ],
   "source": [
    "suppressMessages(suppressWarnings(source(\"../run_config_project_sing.R\")))\n",
    "suppressMessages(suppressWarnings(library(\"DESeq2\")))\n",
    "show_env()"
   ]
  },
  {
   "cell_type": "code",
   "execution_count": 2,
   "id": "b55b7533-e08c-43d7-aa5d-7e2e5d99b0b1",
   "metadata": {},
   "outputs": [
    {
     "data": {
      "text/html": [
       "<style>\n",
       ".list-inline {list-style: none; margin:0; padding: 0}\n",
       ".list-inline>li {display: inline-block}\n",
       ".list-inline>li:not(:last-child)::after {content: \"\\00b7\"; padding: 0 .5ex}\n",
       "</style>\n",
       "<ol class=list-inline><li>'MPRA_Tiling_K562_Tewhey_hannah'</li><li>'STARR_ATAC_K562_Reddy_KS91'</li><li>'STARR_WHG_K562_Reddy_A001'</li></ol>\n"
      ],
      "text/latex": [
       "\\begin{enumerate*}\n",
       "\\item 'MPRA\\_Tiling\\_K562\\_Tewhey\\_hannah'\n",
       "\\item 'STARR\\_ATAC\\_K562\\_Reddy\\_KS91'\n",
       "\\item 'STARR\\_WHG\\_K562\\_Reddy\\_A001'\n",
       "\\end{enumerate*}\n"
      ],
      "text/markdown": [
       "1. 'MPRA_Tiling_K562_Tewhey_hannah'\n",
       "2. 'STARR_ATAC_K562_Reddy_KS91'\n",
       "3. 'STARR_WHG_K562_Reddy_A001'\n",
       "\n",
       "\n"
      ],
      "text/plain": [
       "[1] \"MPRA_Tiling_K562_Tewhey_hannah\" \"STARR_ATAC_K562_Reddy_KS91\"    \n",
       "[3] \"STARR_WHG_K562_Reddy_A001\"     "
      ]
     },
     "metadata": {},
     "output_type": "display_data"
    }
   ],
   "source": [
    "txt_fdiry = file.path(FD_RES, \"assay_fcc\")\n",
    "dir(txt_fdiry)"
   ]
  },
  {
   "cell_type": "code",
   "execution_count": 3,
   "id": "f0a35d8d-7b37-4a56-9879-39902c0637c6",
   "metadata": {},
   "outputs": [],
   "source": [
    "VEC_TXT_ASSAY = c(\n",
    "    \"STARR_ATAC_K562_Reddy_KS91\",\n",
    "    \"STARR_WHG_K562_Reddy_A001\"\n",
    ")"
   ]
  },
  {
   "cell_type": "code",
   "execution_count": 13,
   "id": "b7baa31b-fe79-42c9-b7e7-68caff450fee",
   "metadata": {},
   "outputs": [
    {
     "name": "stdout",
     "output_type": "stream",
     "text": [
      "STARR_ATAC_K562_Reddy_KS91 \n",
      "[1] \"/mount/repo/Proj_CombEffect_ENCODE_FCC/results/assay_fcc/STARR_ATAC_K562_Reddy_KS91/coverage/encode_open_chromatin/dnase_ENCFF274YGF/summary\"\n",
      "[1] \"/mount/repo/Proj_CombEffect_ENCODE_FCC/results/assay_fcc/STARR_ATAC_K562_Reddy_KS91/coverage/fcc_astarr_macs/astarr_macs_input_union/summary\"\n",
      "STARR_WHG_K562_Reddy_A001 \n",
      "[1] \"/mount/repo/Proj_CombEffect_ENCODE_FCC/results/assay_fcc/STARR_WHG_K562_Reddy_A001/coverage/encode_open_chromatin/dnase_ENCFF274YGF/summary\"\n"
     ]
    }
   ],
   "source": [
    "for (txt_assay in VEC_TXT_ASSAY) {\n",
    "    cat(txt_assay, \"\\n\")\n",
    "    txt_fdiry = file.path(FD_RES, \"assay_fcc\", txt_assay, \"coverage\", \"*\", \"*\", \"summary\")\n",
    "    txt_fname = \"data_list_count_column.rds\"\n",
    "    txt_fglob = file.path(txt_fdiry, txt_fname)\n",
    "    \n",
    "    vec_txt_fpath = Sys.glob(txt_fglob)\n",
    "    \n",
    "    for (txt_fpath in vec_txt_fpath){\n",
    "        txt_fdiry = dirname(txt_fpath)\n",
    "        print(txt_fdiry)\n",
    "    }\n",
    "}"
   ]
  },
  {
   "cell_type": "code",
   "execution_count": 30,
   "id": "5d3ec34d-8cec-4efc-bd9b-df62f46cd7f4",
   "metadata": {},
   "outputs": [
    {
     "data": {
      "text/html": [
       "<style>\n",
       ".list-inline {list-style: none; margin:0; padding: 0}\n",
       ".list-inline>li {display: inline-block}\n",
       ".list-inline>li:not(:last-child)::after {content: \"\\00b7\"; padding: 0 .5ex}\n",
       "</style>\n",
       "<ol class=list-inline><li>'Input'</li><li>'Input'</li><li>'Input'</li><li>'Input'</li><li>'Output'</li><li>'Output'</li><li>'Output'</li></ol>\n"
      ],
      "text/latex": [
       "\\begin{enumerate*}\n",
       "\\item 'Input'\n",
       "\\item 'Input'\n",
       "\\item 'Input'\n",
       "\\item 'Input'\n",
       "\\item 'Output'\n",
       "\\item 'Output'\n",
       "\\item 'Output'\n",
       "\\end{enumerate*}\n"
      ],
      "text/markdown": [
       "1. 'Input'\n",
       "2. 'Input'\n",
       "3. 'Input'\n",
       "4. 'Input'\n",
       "5. 'Output'\n",
       "6. 'Output'\n",
       "7. 'Output'\n",
       "\n",
       "\n"
      ],
      "text/plain": [
       "[1] \"Input\"  \"Input\"  \"Input\"  \"Input\"  \"Output\" \"Output\" \"Output\""
      ]
     },
     "metadata": {},
     "output_type": "display_data"
    }
   ],
   "source": [
    "dat_col$Group"
   ]
  },
  {
   "cell_type": "code",
   "execution_count": 39,
   "id": "3fb0bf7e-ad41-40ee-87b8-04a943576b02",
   "metadata": {},
   "outputs": [
    {
     "name": "stdout",
     "output_type": "stream",
     "text": [
      "\n",
      "====================\n",
      "Assay name:     STARR_ATAC_K562_Reddy_KS91 \n",
      "Imported file:  \n",
      "/mount/repo/Proj_CombEffect_ENCODE_FCC/results/assay_fcc/STARR_ATAC_K562_Reddy_KS91/coverage/encode_open_chromatin/dnase_ENCFF274YGF/summary/data_list_count_column.rds \n"
     ]
    },
    {
     "data": {
      "text/html": [
       "<table>\n",
       " <thead>\n",
       "  <tr>\n",
       "   <th style=\"text-align:left;\">   </th>\n",
       "   <th style=\"text-align:right;\"> Input.rep1 </th>\n",
       "   <th style=\"text-align:right;\"> Input.rep2 </th>\n",
       "   <th style=\"text-align:right;\"> Input.rep3 </th>\n",
       "   <th style=\"text-align:right;\"> Input.rep4 </th>\n",
       "   <th style=\"text-align:right;\"> Input.rep5 </th>\n",
       "   <th style=\"text-align:right;\"> Input.rep6 </th>\n",
       "   <th style=\"text-align:right;\"> Output.rep1 </th>\n",
       "   <th style=\"text-align:right;\"> Output.rep2 </th>\n",
       "   <th style=\"text-align:right;\"> Output.rep3 </th>\n",
       "   <th style=\"text-align:right;\"> Output.rep4 </th>\n",
       "  </tr>\n",
       " </thead>\n",
       "<tbody>\n",
       "  <tr>\n",
       "   <td style=\"text-align:left;\"> chr1:181400-181530 </td>\n",
       "   <td style=\"text-align:right;\"> 166 </td>\n",
       "   <td style=\"text-align:right;\"> 229 </td>\n",
       "   <td style=\"text-align:right;\"> 227 </td>\n",
       "   <td style=\"text-align:right;\"> 218 </td>\n",
       "   <td style=\"text-align:right;\"> 220 </td>\n",
       "   <td style=\"text-align:right;\"> 180 </td>\n",
       "   <td style=\"text-align:right;\"> 7 </td>\n",
       "   <td style=\"text-align:right;\"> 11 </td>\n",
       "   <td style=\"text-align:right;\"> 16 </td>\n",
       "   <td style=\"text-align:right;\"> 8 </td>\n",
       "  </tr>\n",
       "  <tr>\n",
       "   <td style=\"text-align:left;\"> chr1:778660-778800 </td>\n",
       "   <td style=\"text-align:right;\"> 3014 </td>\n",
       "   <td style=\"text-align:right;\"> 3520 </td>\n",
       "   <td style=\"text-align:right;\"> 3601 </td>\n",
       "   <td style=\"text-align:right;\"> 3482 </td>\n",
       "   <td style=\"text-align:right;\"> 3447 </td>\n",
       "   <td style=\"text-align:right;\"> 3189 </td>\n",
       "   <td style=\"text-align:right;\"> 1937 </td>\n",
       "   <td style=\"text-align:right;\"> 2413 </td>\n",
       "   <td style=\"text-align:right;\"> 2644 </td>\n",
       "   <td style=\"text-align:right;\"> 4819 </td>\n",
       "  </tr>\n",
       "  <tr>\n",
       "   <td style=\"text-align:left;\"> chr1:779137-779200 </td>\n",
       "   <td style=\"text-align:right;\"> 1137 </td>\n",
       "   <td style=\"text-align:right;\"> 1390 </td>\n",
       "   <td style=\"text-align:right;\"> 1465 </td>\n",
       "   <td style=\"text-align:right;\"> 1383 </td>\n",
       "   <td style=\"text-align:right;\"> 1383 </td>\n",
       "   <td style=\"text-align:right;\"> 1268 </td>\n",
       "   <td style=\"text-align:right;\"> 84 </td>\n",
       "   <td style=\"text-align:right;\"> 128 </td>\n",
       "   <td style=\"text-align:right;\"> 182 </td>\n",
       "   <td style=\"text-align:right;\"> 343 </td>\n",
       "  </tr>\n",
       "  <tr>\n",
       "   <td style=\"text-align:left;\"> chr1:827460-827554 </td>\n",
       "   <td style=\"text-align:right;\"> 2402 </td>\n",
       "   <td style=\"text-align:right;\"> 2947 </td>\n",
       "   <td style=\"text-align:right;\"> 3119 </td>\n",
       "   <td style=\"text-align:right;\"> 2971 </td>\n",
       "   <td style=\"text-align:right;\"> 2918 </td>\n",
       "   <td style=\"text-align:right;\"> 2721 </td>\n",
       "   <td style=\"text-align:right;\"> 636 </td>\n",
       "   <td style=\"text-align:right;\"> 717 </td>\n",
       "   <td style=\"text-align:right;\"> 820 </td>\n",
       "   <td style=\"text-align:right;\"> 1657 </td>\n",
       "  </tr>\n",
       "  <tr>\n",
       "   <td style=\"text-align:left;\"> chr1:842880-843060 </td>\n",
       "   <td style=\"text-align:right;\"> 448 </td>\n",
       "   <td style=\"text-align:right;\"> 526 </td>\n",
       "   <td style=\"text-align:right;\"> 566 </td>\n",
       "   <td style=\"text-align:right;\"> 547 </td>\n",
       "   <td style=\"text-align:right;\"> 510 </td>\n",
       "   <td style=\"text-align:right;\"> 471 </td>\n",
       "   <td style=\"text-align:right;\"> 99 </td>\n",
       "   <td style=\"text-align:right;\"> 190 </td>\n",
       "   <td style=\"text-align:right;\"> 217 </td>\n",
       "   <td style=\"text-align:right;\"> 284 </td>\n",
       "  </tr>\n",
       "  <tr>\n",
       "   <td style=\"text-align:left;\"> chr1:869800-869980 </td>\n",
       "   <td style=\"text-align:right;\"> 880 </td>\n",
       "   <td style=\"text-align:right;\"> 1034 </td>\n",
       "   <td style=\"text-align:right;\"> 1068 </td>\n",
       "   <td style=\"text-align:right;\"> 1034 </td>\n",
       "   <td style=\"text-align:right;\"> 994 </td>\n",
       "   <td style=\"text-align:right;\"> 935 </td>\n",
       "   <td style=\"text-align:right;\"> 46 </td>\n",
       "   <td style=\"text-align:right;\"> 38 </td>\n",
       "   <td style=\"text-align:right;\"> 51 </td>\n",
       "   <td style=\"text-align:right;\"> 105 </td>\n",
       "  </tr>\n",
       "</tbody>\n",
       "</table>"
      ]
     },
     "metadata": {},
     "output_type": "display_data"
    },
    {
     "data": {
      "text/html": [
       "<table>\n",
       " <thead>\n",
       "  <tr>\n",
       "   <th style=\"text-align:left;\">   </th>\n",
       "   <th style=\"text-align:left;\"> Group </th>\n",
       "  </tr>\n",
       " </thead>\n",
       "<tbody>\n",
       "  <tr>\n",
       "   <td style=\"text-align:left;\"> Input.rep1 </td>\n",
       "   <td style=\"text-align:left;\"> Input </td>\n",
       "  </tr>\n",
       "  <tr>\n",
       "   <td style=\"text-align:left;\"> Input.rep2 </td>\n",
       "   <td style=\"text-align:left;\"> Input </td>\n",
       "  </tr>\n",
       "  <tr>\n",
       "   <td style=\"text-align:left;\"> Input.rep3 </td>\n",
       "   <td style=\"text-align:left;\"> Input </td>\n",
       "  </tr>\n",
       "  <tr>\n",
       "   <td style=\"text-align:left;\"> Input.rep4 </td>\n",
       "   <td style=\"text-align:left;\"> Input </td>\n",
       "  </tr>\n",
       "  <tr>\n",
       "   <td style=\"text-align:left;\"> Input.rep5 </td>\n",
       "   <td style=\"text-align:left;\"> Input </td>\n",
       "  </tr>\n",
       "  <tr>\n",
       "   <td style=\"text-align:left;\"> Input.rep6 </td>\n",
       "   <td style=\"text-align:left;\"> Input </td>\n",
       "  </tr>\n",
       "  <tr>\n",
       "   <td style=\"text-align:left;\"> Output.rep1 </td>\n",
       "   <td style=\"text-align:left;\"> Output </td>\n",
       "  </tr>\n",
       "  <tr>\n",
       "   <td style=\"text-align:left;\"> Output.rep2 </td>\n",
       "   <td style=\"text-align:left;\"> Output </td>\n",
       "  </tr>\n",
       "  <tr>\n",
       "   <td style=\"text-align:left;\"> Output.rep3 </td>\n",
       "   <td style=\"text-align:left;\"> Output </td>\n",
       "  </tr>\n",
       "  <tr>\n",
       "   <td style=\"text-align:left;\"> Output.rep4 </td>\n",
       "   <td style=\"text-align:left;\"> Output </td>\n",
       "  </tr>\n",
       "</tbody>\n",
       "</table>"
      ]
     },
     "metadata": {},
     "output_type": "display_data"
    },
    {
     "name": "stdout",
     "output_type": "stream",
     "text": [
      "\n",
      "Check sample name and dimension: \n",
      "Passed! \n",
      "Run DESeq2... \n"
     ]
    },
    {
     "name": "stderr",
     "output_type": "stream",
     "text": [
      "estimating size factors\n",
      "\n",
      "estimating dispersions\n",
      "\n",
      "gene-wise dispersion estimates\n",
      "\n",
      "mean-dispersion relationship\n",
      "\n",
      "final dispersion estimates\n",
      "\n",
      "fitting model and testing\n",
      "\n"
     ]
    },
    {
     "name": "stdout",
     "output_type": "stream",
     "text": [
      "\n",
      "====================\n",
      "Assay name:     STARR_WHG_K562_Reddy_A001 \n",
      "Imported file:  \n",
      "/mount/repo/Proj_CombEffect_ENCODE_FCC/results/assay_fcc/STARR_WHG_K562_Reddy_A001/coverage/encode_open_chromatin/dnase_ENCFF274YGF/summary/data_list_count_column.rds \n"
     ]
    },
    {
     "data": {
      "text/html": [
       "<table>\n",
       " <thead>\n",
       "  <tr>\n",
       "   <th style=\"text-align:left;\">   </th>\n",
       "   <th style=\"text-align:right;\"> Input.rep1 </th>\n",
       "   <th style=\"text-align:right;\"> Input.rep2 </th>\n",
       "   <th style=\"text-align:right;\"> Input.rep3 </th>\n",
       "   <th style=\"text-align:right;\"> Input.rep4 </th>\n",
       "   <th style=\"text-align:right;\"> Output.rep1 </th>\n",
       "   <th style=\"text-align:right;\"> Output.rep2 </th>\n",
       "   <th style=\"text-align:right;\"> Output.rep3 </th>\n",
       "  </tr>\n",
       " </thead>\n",
       "<tbody>\n",
       "  <tr>\n",
       "   <td style=\"text-align:left;\"> chr1:181400-181530 </td>\n",
       "   <td style=\"text-align:right;\"> 3 </td>\n",
       "   <td style=\"text-align:right;\"> 18 </td>\n",
       "   <td style=\"text-align:right;\"> 12 </td>\n",
       "   <td style=\"text-align:right;\"> 15 </td>\n",
       "   <td style=\"text-align:right;\"> 34 </td>\n",
       "   <td style=\"text-align:right;\"> 29 </td>\n",
       "   <td style=\"text-align:right;\"> 51 </td>\n",
       "  </tr>\n",
       "  <tr>\n",
       "   <td style=\"text-align:left;\"> chr1:778660-778800 </td>\n",
       "   <td style=\"text-align:right;\"> 10 </td>\n",
       "   <td style=\"text-align:right;\"> 35 </td>\n",
       "   <td style=\"text-align:right;\"> 27 </td>\n",
       "   <td style=\"text-align:right;\"> 30 </td>\n",
       "   <td style=\"text-align:right;\"> 195 </td>\n",
       "   <td style=\"text-align:right;\"> 181 </td>\n",
       "   <td style=\"text-align:right;\"> 312 </td>\n",
       "  </tr>\n",
       "  <tr>\n",
       "   <td style=\"text-align:left;\"> chr1:779137-779200 </td>\n",
       "   <td style=\"text-align:right;\"> 8 </td>\n",
       "   <td style=\"text-align:right;\"> 31 </td>\n",
       "   <td style=\"text-align:right;\"> 17 </td>\n",
       "   <td style=\"text-align:right;\"> 23 </td>\n",
       "   <td style=\"text-align:right;\"> 56 </td>\n",
       "   <td style=\"text-align:right;\"> 77 </td>\n",
       "   <td style=\"text-align:right;\"> 114 </td>\n",
       "  </tr>\n",
       "  <tr>\n",
       "   <td style=\"text-align:left;\"> chr1:827460-827554 </td>\n",
       "   <td style=\"text-align:right;\"> 10 </td>\n",
       "   <td style=\"text-align:right;\"> 25 </td>\n",
       "   <td style=\"text-align:right;\"> 24 </td>\n",
       "   <td style=\"text-align:right;\"> 25 </td>\n",
       "   <td style=\"text-align:right;\"> 99 </td>\n",
       "   <td style=\"text-align:right;\"> 89 </td>\n",
       "   <td style=\"text-align:right;\"> 128 </td>\n",
       "  </tr>\n",
       "  <tr>\n",
       "   <td style=\"text-align:left;\"> chr1:842880-843060 </td>\n",
       "   <td style=\"text-align:right;\"> 7 </td>\n",
       "   <td style=\"text-align:right;\"> 21 </td>\n",
       "   <td style=\"text-align:right;\"> 19 </td>\n",
       "   <td style=\"text-align:right;\"> 14 </td>\n",
       "   <td style=\"text-align:right;\"> 48 </td>\n",
       "   <td style=\"text-align:right;\"> 40 </td>\n",
       "   <td style=\"text-align:right;\"> 96 </td>\n",
       "  </tr>\n",
       "  <tr>\n",
       "   <td style=\"text-align:left;\"> chr1:869800-869980 </td>\n",
       "   <td style=\"text-align:right;\"> 9 </td>\n",
       "   <td style=\"text-align:right;\"> 25 </td>\n",
       "   <td style=\"text-align:right;\"> 46 </td>\n",
       "   <td style=\"text-align:right;\"> 33 </td>\n",
       "   <td style=\"text-align:right;\"> 43 </td>\n",
       "   <td style=\"text-align:right;\"> 41 </td>\n",
       "   <td style=\"text-align:right;\"> 79 </td>\n",
       "  </tr>\n",
       "</tbody>\n",
       "</table>"
      ]
     },
     "metadata": {},
     "output_type": "display_data"
    },
    {
     "data": {
      "text/html": [
       "<table>\n",
       " <thead>\n",
       "  <tr>\n",
       "   <th style=\"text-align:left;\">   </th>\n",
       "   <th style=\"text-align:left;\"> Group </th>\n",
       "  </tr>\n",
       " </thead>\n",
       "<tbody>\n",
       "  <tr>\n",
       "   <td style=\"text-align:left;\"> Input.rep1 </td>\n",
       "   <td style=\"text-align:left;\"> Input </td>\n",
       "  </tr>\n",
       "  <tr>\n",
       "   <td style=\"text-align:left;\"> Input.rep2 </td>\n",
       "   <td style=\"text-align:left;\"> Input </td>\n",
       "  </tr>\n",
       "  <tr>\n",
       "   <td style=\"text-align:left;\"> Input.rep3 </td>\n",
       "   <td style=\"text-align:left;\"> Input </td>\n",
       "  </tr>\n",
       "  <tr>\n",
       "   <td style=\"text-align:left;\"> Input.rep4 </td>\n",
       "   <td style=\"text-align:left;\"> Input </td>\n",
       "  </tr>\n",
       "  <tr>\n",
       "   <td style=\"text-align:left;\"> Output.rep1 </td>\n",
       "   <td style=\"text-align:left;\"> Output </td>\n",
       "  </tr>\n",
       "  <tr>\n",
       "   <td style=\"text-align:left;\"> Output.rep2 </td>\n",
       "   <td style=\"text-align:left;\"> Output </td>\n",
       "  </tr>\n",
       "  <tr>\n",
       "   <td style=\"text-align:left;\"> Output.rep3 </td>\n",
       "   <td style=\"text-align:left;\"> Output </td>\n",
       "  </tr>\n",
       "</tbody>\n",
       "</table>"
      ]
     },
     "metadata": {},
     "output_type": "display_data"
    },
    {
     "name": "stdout",
     "output_type": "stream",
     "text": [
      "\n",
      "Check sample name and dimension: \n",
      "Passed! \n",
      "Run DESeq2... \n"
     ]
    },
    {
     "name": "stderr",
     "output_type": "stream",
     "text": [
      "estimating size factors\n",
      "\n",
      "estimating dispersions\n",
      "\n",
      "gene-wise dispersion estimates\n",
      "\n",
      "mean-dispersion relationship\n",
      "\n",
      "final dispersion estimates\n",
      "\n",
      "fitting model and testing\n",
      "\n"
     ]
    }
   ],
   "source": [
    "for (txt_assay in VEC_TXT_ASSAY) {\n",
    "    \n",
    "    txt_fdiry = file.path(FD_RES, \"assay_fcc\", txt_assay, \"coverage\", \"*\", \"dnase_ENCFF274YGF\", \"summary\")\n",
    "    txt_fname = \"data_list_count_column.rds\"\n",
    "    txt_fglob = file.path(txt_fdiry, txt_fname)\n",
    "    \n",
    "    vec_txt_fpath = Sys.glob(txt_fglob)\n",
    "    \n",
    "    for (txt_fpath in vec_txt_fpath){\n",
    "\n",
    "        ### read object\n",
    "        lst_dat = readRDS(txt_fpath)\n",
    "        dat_cnt = lst_dat$data_cnt\n",
    "        dat_col = lst_dat$data_col\n",
    "\n",
    "        ### arrange count matrix\n",
    "        mat_cnt = dat_cnt %>%\n",
    "            dplyr::select(-Chrom, -ChromStart, -ChromEnd) %>%\n",
    "            column_to_rownames(var = \"Region\")\n",
    "\n",
    "        ### arrange column data\n",
    "        dat_col = dat_col  %>% \n",
    "            dplyr::select(Sample, Group) %>% \n",
    "            dplyr::mutate(Group = factor(Group, levels = c(\"Input\", \"Output\"))) %>%\n",
    "            column_to_rownames(var = \"Sample\")\n",
    "\n",
    "        ### show progress: init\n",
    "        cat(\"\\n====================\\n\")\n",
    "        cat(\"Assay name:    \", txt_assay, \"\\n\")\n",
    "        cat(\"Imported file: \", \"\\n\")\n",
    "        cat(txt_fpath,   \"\\n\")\n",
    "        flush.console()\n",
    "        \n",
    "        fun_display_table(head(mat_cnt))\n",
    "        fun_display_table(dat_col)\n",
    "        cat(\"\\n\")\n",
    "        flush.console()\n",
    "\n",
    "        ### show progress: check and break if check failed\n",
    "        cat(\"Check sample name and dimension:\", \"\\n\")\n",
    "        vec1 = colnames(mat_cnt)\n",
    "        vec2 = rownames(dat_col)\n",
    "        res  = all(vec1 == vec2)\n",
    "        \n",
    "        if (res){\n",
    "            cat(\"Passed!\", \"\\n\")\n",
    "            cat(\"Run DESeq2...\", \"\\n\")\n",
    "            flush.console()\n",
    "        } else{\n",
    "            cat(\"Failed!\", \"\\n\")\n",
    "            cat(\"Stop the loop.\", \"\\n\")\n",
    "            flush.console()\n",
    "            break()\n",
    "        }\n",
    "        \n",
    "        ### create DESeq2 object\n",
    "        dds = DESeqDataSetFromMatrix(\n",
    "            countData = mat_cnt, \n",
    "            colData   = dat_col, \n",
    "            design    = ~Group)\n",
    "        \n",
    "        ### ensure Input group is set as reference\n",
    "        dds$Group <- relevel(dds$Group, ref = \"Input\")\n",
    "\n",
    "        ### run deseq analysis\n",
    "        dds = DESeq(dds)\n",
    "\n",
    "        ### save deseq object\n",
    "        txt_fdiry = dirname(txt_fpath)\n",
    "        txt_fname = \"data_deseq2.rds\"\n",
    "        txt_fpath = file.path(txt_fdiry, txt_fname)\n",
    "\n",
    "        #obj = dds\n",
    "        #saveRDS(obj, txt_fpath)\n",
    "    }\n",
    "    \n",
    "}"
   ]
  },
  {
   "cell_type": "code",
   "execution_count": 22,
   "id": "a0fe36b0-5d0a-4ce9-9b2e-d886d2069779",
   "metadata": {},
   "outputs": [
    {
     "name": "stdout",
     "output_type": "stream",
     "text": [
      "[1] TRUE\n"
     ]
    }
   ],
   "source": [
    "vec1 = colnames(mat_cnt)\n",
    "vec2 = dat_col$conditions\n",
    "print(all(vec1 == vec2))"
   ]
  },
  {
   "cell_type": "code",
   "execution_count": null,
   "id": "3cd62a02-b5c4-406b-8065-f4a1d15d367c",
   "metadata": {},
   "outputs": [],
   "source": []
  }
 ],
 "metadata": {
  "kernelspec": {
   "display_name": "R",
   "language": "R",
   "name": "ir"
  },
  "language_info": {
   "codemirror_mode": "r",
   "file_extension": ".r",
   "mimetype": "text/x-r-source",
   "name": "R",
   "pygments_lexer": "r",
   "version": "4.3.3"
  }
 },
 "nbformat": 4,
 "nbformat_minor": 5
}
