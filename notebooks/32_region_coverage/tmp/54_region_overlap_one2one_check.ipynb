{
 "cells": [
  {
   "cell_type": "markdown",
   "id": "2bf81d69-e58f-4c22-a762-3c9ebced3102",
   "metadata": {},
   "source": [
    "**Set environment**"
   ]
  },
  {
   "cell_type": "code",
   "execution_count": 1,
   "id": "4550667b-8580-4223-8c41-6d8592c961a6",
   "metadata": {},
   "outputs": [
    {
     "name": "stdout",
     "output_type": "stream",
     "text": [
      "You are working on        Singularity \n",
      "BASE DIRECTORY (FD_BASE): /mount \n",
      "REPO DIRECTORY (FD_REPO): /mount/repo \n",
      "WORK DIRECTORY (FD_WORK): /mount/work \n",
      "DATA DIRECTORY (FD_DATA): /mount/data \n",
      "\n",
      "You are working with      ENCODE FCC \n",
      "PATH OF PROJECT (FD_PRJ): /mount/repo/Proj_ENCODE_FCC \n",
      "PROJECT RESULTS (FD_RES): /mount/repo/Proj_ENCODE_FCC/results \n",
      "PROJECT SCRIPTS (FD_EXE): /mount/repo/Proj_ENCODE_FCC/scripts \n",
      "PROJECT DATA    (FD_DAT): /mount/repo/Proj_ENCODE_FCC/data \n",
      "PROJECT NOTE    (FD_NBK): /mount/repo/Proj_ENCODE_FCC/notebooks \n",
      "PROJECT DOCS    (FD_DOC): /mount/repo/Proj_ENCODE_FCC/docs \n",
      "PROJECT LOG     (FD_LOG): /mount/repo/Proj_ENCODE_FCC/log \n",
      "PROJECT APP     (FD_APP): /mount/repo/Proj_ENCODE_FCC/app \n",
      "PROJECT REF     (FD_REF): /mount/repo/Proj_ENCODE_FCC/references \n",
      "\n"
     ]
    }
   ],
   "source": [
    "suppressMessages(suppressWarnings(source(\"../run_config_project_sing.R\")))\n",
    "show_env()"
   ]
  },
  {
   "cell_type": "code",
   "execution_count": 2,
   "id": "90bc6217-3a7e-4579-9b0b-e0a208aa98cb",
   "metadata": {},
   "outputs": [
    {
     "name": "stderr",
     "output_type": "stream",
     "text": [
      "\u001b[1mRows: \u001b[22m\u001b[34m10\u001b[39m \u001b[1mColumns: \u001b[22m\u001b[34m5\u001b[39m\n",
      "\u001b[36m──\u001b[39m \u001b[1mColumn specification\u001b[22m \u001b[36m─────────────────────────────────────────────\u001b[39m\n",
      "\u001b[1mDelimiter:\u001b[22m \"\\t\"\n",
      "\u001b[31mchr\u001b[39m (5): FName, Assay, Prefix, Group, Sample\n",
      "\n",
      "\u001b[36mℹ\u001b[39m Use `spec()` to retrieve the full column specification for this data.\n",
      "\u001b[36mℹ\u001b[39m Specify the column types or set `show_col_types = FALSE` to quiet this message.\n"
     ]
    },
    {
     "data": {
      "text/html": [
       "<table class=\"dataframe\">\n",
       "<caption>A tibble: 6 × 5</caption>\n",
       "<thead>\n",
       "\t<tr><th scope=col>FName</th><th scope=col>Assay</th><th scope=col>Prefix</th><th scope=col>Group</th><th scope=col>Sample</th></tr>\n",
       "\t<tr><th scope=col>&lt;chr&gt;</th><th scope=col>&lt;chr&gt;</th><th scope=col>&lt;chr&gt;</th><th scope=col>&lt;chr&gt;</th><th scope=col>&lt;chr&gt;</th></tr>\n",
       "</thead>\n",
       "<tbody>\n",
       "\t<tr><td>ASTARRseq_K562_KS91.hg38.Input.rep1.WGS.unstranded.bed.gz</td><td>STARR_ATAC_K562_Reddy_KS91</td><td>ASTARRseq_K562_KS91</td><td>Input</td><td>Input.rep1</td></tr>\n",
       "\t<tr><td>ASTARRseq_K562_KS91.hg38.Input.rep2.WGS.unstranded.bed.gz</td><td>STARR_ATAC_K562_Reddy_KS91</td><td>ASTARRseq_K562_KS91</td><td>Input</td><td>Input.rep2</td></tr>\n",
       "\t<tr><td>ASTARRseq_K562_KS91.hg38.Input.rep3.WGS.unstranded.bed.gz</td><td>STARR_ATAC_K562_Reddy_KS91</td><td>ASTARRseq_K562_KS91</td><td>Input</td><td>Input.rep3</td></tr>\n",
       "\t<tr><td>ASTARRseq_K562_KS91.hg38.Input.rep4.WGS.unstranded.bed.gz</td><td>STARR_ATAC_K562_Reddy_KS91</td><td>ASTARRseq_K562_KS91</td><td>Input</td><td>Input.rep4</td></tr>\n",
       "\t<tr><td>ASTARRseq_K562_KS91.hg38.Input.rep5.WGS.unstranded.bed.gz</td><td>STARR_ATAC_K562_Reddy_KS91</td><td>ASTARRseq_K562_KS91</td><td>Input</td><td>Input.rep5</td></tr>\n",
       "\t<tr><td>ASTARRseq_K562_KS91.hg38.Input.rep6.WGS.unstranded.bed.gz</td><td>STARR_ATAC_K562_Reddy_KS91</td><td>ASTARRseq_K562_KS91</td><td>Input</td><td>Input.rep6</td></tr>\n",
       "</tbody>\n",
       "</table>\n"
      ],
      "text/latex": [
       "A tibble: 6 × 5\n",
       "\\begin{tabular}{lllll}\n",
       " FName & Assay & Prefix & Group & Sample\\\\\n",
       " <chr> & <chr> & <chr> & <chr> & <chr>\\\\\n",
       "\\hline\n",
       "\t ASTARRseq\\_K562\\_KS91.hg38.Input.rep1.WGS.unstranded.bed.gz & STARR\\_ATAC\\_K562\\_Reddy\\_KS91 & ASTARRseq\\_K562\\_KS91 & Input & Input.rep1\\\\\n",
       "\t ASTARRseq\\_K562\\_KS91.hg38.Input.rep2.WGS.unstranded.bed.gz & STARR\\_ATAC\\_K562\\_Reddy\\_KS91 & ASTARRseq\\_K562\\_KS91 & Input & Input.rep2\\\\\n",
       "\t ASTARRseq\\_K562\\_KS91.hg38.Input.rep3.WGS.unstranded.bed.gz & STARR\\_ATAC\\_K562\\_Reddy\\_KS91 & ASTARRseq\\_K562\\_KS91 & Input & Input.rep3\\\\\n",
       "\t ASTARRseq\\_K562\\_KS91.hg38.Input.rep4.WGS.unstranded.bed.gz & STARR\\_ATAC\\_K562\\_Reddy\\_KS91 & ASTARRseq\\_K562\\_KS91 & Input & Input.rep4\\\\\n",
       "\t ASTARRseq\\_K562\\_KS91.hg38.Input.rep5.WGS.unstranded.bed.gz & STARR\\_ATAC\\_K562\\_Reddy\\_KS91 & ASTARRseq\\_K562\\_KS91 & Input & Input.rep5\\\\\n",
       "\t ASTARRseq\\_K562\\_KS91.hg38.Input.rep6.WGS.unstranded.bed.gz & STARR\\_ATAC\\_K562\\_Reddy\\_KS91 & ASTARRseq\\_K562\\_KS91 & Input & Input.rep6\\\\\n",
       "\\end{tabular}\n"
      ],
      "text/markdown": [
       "\n",
       "A tibble: 6 × 5\n",
       "\n",
       "| FName &lt;chr&gt; | Assay &lt;chr&gt; | Prefix &lt;chr&gt; | Group &lt;chr&gt; | Sample &lt;chr&gt; |\n",
       "|---|---|---|---|---|\n",
       "| ASTARRseq_K562_KS91.hg38.Input.rep1.WGS.unstranded.bed.gz | STARR_ATAC_K562_Reddy_KS91 | ASTARRseq_K562_KS91 | Input | Input.rep1 |\n",
       "| ASTARRseq_K562_KS91.hg38.Input.rep2.WGS.unstranded.bed.gz | STARR_ATAC_K562_Reddy_KS91 | ASTARRseq_K562_KS91 | Input | Input.rep2 |\n",
       "| ASTARRseq_K562_KS91.hg38.Input.rep3.WGS.unstranded.bed.gz | STARR_ATAC_K562_Reddy_KS91 | ASTARRseq_K562_KS91 | Input | Input.rep3 |\n",
       "| ASTARRseq_K562_KS91.hg38.Input.rep4.WGS.unstranded.bed.gz | STARR_ATAC_K562_Reddy_KS91 | ASTARRseq_K562_KS91 | Input | Input.rep4 |\n",
       "| ASTARRseq_K562_KS91.hg38.Input.rep5.WGS.unstranded.bed.gz | STARR_ATAC_K562_Reddy_KS91 | ASTARRseq_K562_KS91 | Input | Input.rep5 |\n",
       "| ASTARRseq_K562_KS91.hg38.Input.rep6.WGS.unstranded.bed.gz | STARR_ATAC_K562_Reddy_KS91 | ASTARRseq_K562_KS91 | Input | Input.rep6 |\n",
       "\n"
      ],
      "text/plain": [
       "  FName                                                    \n",
       "1 ASTARRseq_K562_KS91.hg38.Input.rep1.WGS.unstranded.bed.gz\n",
       "2 ASTARRseq_K562_KS91.hg38.Input.rep2.WGS.unstranded.bed.gz\n",
       "3 ASTARRseq_K562_KS91.hg38.Input.rep3.WGS.unstranded.bed.gz\n",
       "4 ASTARRseq_K562_KS91.hg38.Input.rep4.WGS.unstranded.bed.gz\n",
       "5 ASTARRseq_K562_KS91.hg38.Input.rep5.WGS.unstranded.bed.gz\n",
       "6 ASTARRseq_K562_KS91.hg38.Input.rep6.WGS.unstranded.bed.gz\n",
       "  Assay                      Prefix              Group Sample    \n",
       "1 STARR_ATAC_K562_Reddy_KS91 ASTARRseq_K562_KS91 Input Input.rep1\n",
       "2 STARR_ATAC_K562_Reddy_KS91 ASTARRseq_K562_KS91 Input Input.rep2\n",
       "3 STARR_ATAC_K562_Reddy_KS91 ASTARRseq_K562_KS91 Input Input.rep3\n",
       "4 STARR_ATAC_K562_Reddy_KS91 ASTARRseq_K562_KS91 Input Input.rep4\n",
       "5 STARR_ATAC_K562_Reddy_KS91 ASTARRseq_K562_KS91 Input Input.rep5\n",
       "6 STARR_ATAC_K562_Reddy_KS91 ASTARRseq_K562_KS91 Input Input.rep6"
      ]
     },
     "metadata": {},
     "output_type": "display_data"
    }
   ],
   "source": [
    "txt_assay = \"STARR_ATAC_K562_Reddy_KS91\"\n",
    "txt_fdiry = file.path(\n",
    "    FD_RES, \n",
    "    \"assay_fcc\", \n",
    "    txt_assay, \n",
    "    \"fragment_counts\",\n",
    "    \"summary\")\n",
    "txt_fname = \"metadata.tsv\"\n",
    "txt_fpath = file.path(txt_fdiry, txt_fname)\n",
    "\n",
    "dat = read_tsv(txt_fpath)\n",
    "dat_meta = dat\n",
    "head(dat)"
   ]
  },
  {
   "cell_type": "code",
   "execution_count": 6,
   "id": "3e255ab8-bbde-40b5-8663-7ec6c9da2819",
   "metadata": {},
   "outputs": [
    {
     "data": {
      "text/html": [
       "<style>\n",
       ".dl-inline {width: auto; margin:0; padding: 0}\n",
       ".dl-inline>dt, .dl-inline>dd {float: none; width: auto; display: inline-block}\n",
       ".dl-inline>dt::after {content: \":\\0020\"; padding-right: .5ex}\n",
       ".dl-inline>dt:not(:first-of-type) {padding-left: .5ex}\n",
       "</style><dl class=dl-inline><dt>ASTARRseq_K562_KS91.hg38.Input.rep1.WGS.unstranded.bed.gz</dt><dd>'Input.rep1'</dd><dt>ASTARRseq_K562_KS91.hg38.Input.rep2.WGS.unstranded.bed.gz</dt><dd>'Input.rep2'</dd><dt>ASTARRseq_K562_KS91.hg38.Input.rep3.WGS.unstranded.bed.gz</dt><dd>'Input.rep3'</dd><dt>ASTARRseq_K562_KS91.hg38.Input.rep4.WGS.unstranded.bed.gz</dt><dd>'Input.rep4'</dd><dt>ASTARRseq_K562_KS91.hg38.Input.rep5.WGS.unstranded.bed.gz</dt><dd>'Input.rep5'</dd><dt>ASTARRseq_K562_KS91.hg38.Input.rep6.WGS.unstranded.bed.gz</dt><dd>'Input.rep6'</dd><dt>ASTARRseq_K562_KS91.hg38.Output.rep1.WGS.unstranded.bed.gz</dt><dd>'Output.rep1'</dd><dt>ASTARRseq_K562_KS91.hg38.Output.rep2.WGS.unstranded.bed.gz</dt><dd>'Output.rep2'</dd><dt>ASTARRseq_K562_KS91.hg38.Output.rep3.WGS.unstranded.bed.gz</dt><dd>'Output.rep3'</dd><dt>ASTARRseq_K562_KS91.hg38.Output.rep4.WGS.unstranded.bed.gz</dt><dd>'Output.rep4'</dd></dl>\n"
      ],
      "text/latex": [
       "\\begin{description*}\n",
       "\\item[ASTARRseq\\textbackslash{}\\_K562\\textbackslash{}\\_KS91.hg38.Input.rep1.WGS.unstranded.bed.gz] 'Input.rep1'\n",
       "\\item[ASTARRseq\\textbackslash{}\\_K562\\textbackslash{}\\_KS91.hg38.Input.rep2.WGS.unstranded.bed.gz] 'Input.rep2'\n",
       "\\item[ASTARRseq\\textbackslash{}\\_K562\\textbackslash{}\\_KS91.hg38.Input.rep3.WGS.unstranded.bed.gz] 'Input.rep3'\n",
       "\\item[ASTARRseq\\textbackslash{}\\_K562\\textbackslash{}\\_KS91.hg38.Input.rep4.WGS.unstranded.bed.gz] 'Input.rep4'\n",
       "\\item[ASTARRseq\\textbackslash{}\\_K562\\textbackslash{}\\_KS91.hg38.Input.rep5.WGS.unstranded.bed.gz] 'Input.rep5'\n",
       "\\item[ASTARRseq\\textbackslash{}\\_K562\\textbackslash{}\\_KS91.hg38.Input.rep6.WGS.unstranded.bed.gz] 'Input.rep6'\n",
       "\\item[ASTARRseq\\textbackslash{}\\_K562\\textbackslash{}\\_KS91.hg38.Output.rep1.WGS.unstranded.bed.gz] 'Output.rep1'\n",
       "\\item[ASTARRseq\\textbackslash{}\\_K562\\textbackslash{}\\_KS91.hg38.Output.rep2.WGS.unstranded.bed.gz] 'Output.rep2'\n",
       "\\item[ASTARRseq\\textbackslash{}\\_K562\\textbackslash{}\\_KS91.hg38.Output.rep3.WGS.unstranded.bed.gz] 'Output.rep3'\n",
       "\\item[ASTARRseq\\textbackslash{}\\_K562\\textbackslash{}\\_KS91.hg38.Output.rep4.WGS.unstranded.bed.gz] 'Output.rep4'\n",
       "\\end{description*}\n"
      ],
      "text/markdown": [
       "ASTARRseq_K562_KS91.hg38.Input.rep1.WGS.unstranded.bed.gz\n",
       ":   'Input.rep1'ASTARRseq_K562_KS91.hg38.Input.rep2.WGS.unstranded.bed.gz\n",
       ":   'Input.rep2'ASTARRseq_K562_KS91.hg38.Input.rep3.WGS.unstranded.bed.gz\n",
       ":   'Input.rep3'ASTARRseq_K562_KS91.hg38.Input.rep4.WGS.unstranded.bed.gz\n",
       ":   'Input.rep4'ASTARRseq_K562_KS91.hg38.Input.rep5.WGS.unstranded.bed.gz\n",
       ":   'Input.rep5'ASTARRseq_K562_KS91.hg38.Input.rep6.WGS.unstranded.bed.gz\n",
       ":   'Input.rep6'ASTARRseq_K562_KS91.hg38.Output.rep1.WGS.unstranded.bed.gz\n",
       ":   'Output.rep1'ASTARRseq_K562_KS91.hg38.Output.rep2.WGS.unstranded.bed.gz\n",
       ":   'Output.rep2'ASTARRseq_K562_KS91.hg38.Output.rep3.WGS.unstranded.bed.gz\n",
       ":   'Output.rep3'ASTARRseq_K562_KS91.hg38.Output.rep4.WGS.unstranded.bed.gz\n",
       ":   'Output.rep4'\n",
       "\n"
      ],
      "text/plain": [
       " ASTARRseq_K562_KS91.hg38.Input.rep1.WGS.unstranded.bed.gz \n",
       "                                              \"Input.rep1\" \n",
       " ASTARRseq_K562_KS91.hg38.Input.rep2.WGS.unstranded.bed.gz \n",
       "                                              \"Input.rep2\" \n",
       " ASTARRseq_K562_KS91.hg38.Input.rep3.WGS.unstranded.bed.gz \n",
       "                                              \"Input.rep3\" \n",
       " ASTARRseq_K562_KS91.hg38.Input.rep4.WGS.unstranded.bed.gz \n",
       "                                              \"Input.rep4\" \n",
       " ASTARRseq_K562_KS91.hg38.Input.rep5.WGS.unstranded.bed.gz \n",
       "                                              \"Input.rep5\" \n",
       " ASTARRseq_K562_KS91.hg38.Input.rep6.WGS.unstranded.bed.gz \n",
       "                                              \"Input.rep6\" \n",
       "ASTARRseq_K562_KS91.hg38.Output.rep1.WGS.unstranded.bed.gz \n",
       "                                             \"Output.rep1\" \n",
       "ASTARRseq_K562_KS91.hg38.Output.rep2.WGS.unstranded.bed.gz \n",
       "                                             \"Output.rep2\" \n",
       "ASTARRseq_K562_KS91.hg38.Output.rep3.WGS.unstranded.bed.gz \n",
       "                                             \"Output.rep3\" \n",
       "ASTARRseq_K562_KS91.hg38.Output.rep4.WGS.unstranded.bed.gz \n",
       "                                             \"Output.rep4\" "
      ]
     },
     "metadata": {},
     "output_type": "display_data"
    }
   ],
   "source": [
    "dat = dat_meta\n",
    "vec = setNames(dat$Sample, dat$FName)\n",
    "vec_txt_sample = vec\n",
    "vec"
   ]
  },
  {
   "cell_type": "code",
   "execution_count": 3,
   "id": "7fac17e8-743f-4462-9fe3-54ba3c09f362",
   "metadata": {},
   "outputs": [
    {
     "data": {
      "text/html": [
       "<style>\n",
       ".list-inline {list-style: none; margin:0; padding: 0}\n",
       ".list-inline>li {display: inline-block}\n",
       ".list-inline>li:not(:last-child)::after {content: \"\\00b7\"; padding: 0 .5ex}\n",
       "</style>\n",
       "<ol class=list-inline><li>'ASTARRseq_K562_KS91.hg38.Input.rep1.WGS.unstranded.bed.gz'</li><li>'ASTARRseq_K562_KS91.hg38.Input.rep2.WGS.unstranded.bed.gz'</li><li>'ASTARRseq_K562_KS91.hg38.Input.rep3.WGS.unstranded.bed.gz'</li><li>'ASTARRseq_K562_KS91.hg38.Input.rep4.WGS.unstranded.bed.gz'</li><li>'ASTARRseq_K562_KS91.hg38.Input.rep5.WGS.unstranded.bed.gz'</li><li>'ASTARRseq_K562_KS91.hg38.Input.rep6.WGS.unstranded.bed.gz'</li><li>'ASTARRseq_K562_KS91.hg38.Output.rep1.WGS.unstranded.bed.gz'</li><li>'ASTARRseq_K562_KS91.hg38.Output.rep2.WGS.unstranded.bed.gz'</li><li>'ASTARRseq_K562_KS91.hg38.Output.rep3.WGS.unstranded.bed.gz'</li><li>'ASTARRseq_K562_KS91.hg38.Output.rep4.WGS.unstranded.bed.gz'</li><li>'summary'</li></ol>\n"
      ],
      "text/latex": [
       "\\begin{enumerate*}\n",
       "\\item 'ASTARRseq\\_K562\\_KS91.hg38.Input.rep1.WGS.unstranded.bed.gz'\n",
       "\\item 'ASTARRseq\\_K562\\_KS91.hg38.Input.rep2.WGS.unstranded.bed.gz'\n",
       "\\item 'ASTARRseq\\_K562\\_KS91.hg38.Input.rep3.WGS.unstranded.bed.gz'\n",
       "\\item 'ASTARRseq\\_K562\\_KS91.hg38.Input.rep4.WGS.unstranded.bed.gz'\n",
       "\\item 'ASTARRseq\\_K562\\_KS91.hg38.Input.rep5.WGS.unstranded.bed.gz'\n",
       "\\item 'ASTARRseq\\_K562\\_KS91.hg38.Input.rep6.WGS.unstranded.bed.gz'\n",
       "\\item 'ASTARRseq\\_K562\\_KS91.hg38.Output.rep1.WGS.unstranded.bed.gz'\n",
       "\\item 'ASTARRseq\\_K562\\_KS91.hg38.Output.rep2.WGS.unstranded.bed.gz'\n",
       "\\item 'ASTARRseq\\_K562\\_KS91.hg38.Output.rep3.WGS.unstranded.bed.gz'\n",
       "\\item 'ASTARRseq\\_K562\\_KS91.hg38.Output.rep4.WGS.unstranded.bed.gz'\n",
       "\\item 'summary'\n",
       "\\end{enumerate*}\n"
      ],
      "text/markdown": [
       "1. 'ASTARRseq_K562_KS91.hg38.Input.rep1.WGS.unstranded.bed.gz'\n",
       "2. 'ASTARRseq_K562_KS91.hg38.Input.rep2.WGS.unstranded.bed.gz'\n",
       "3. 'ASTARRseq_K562_KS91.hg38.Input.rep3.WGS.unstranded.bed.gz'\n",
       "4. 'ASTARRseq_K562_KS91.hg38.Input.rep4.WGS.unstranded.bed.gz'\n",
       "5. 'ASTARRseq_K562_KS91.hg38.Input.rep5.WGS.unstranded.bed.gz'\n",
       "6. 'ASTARRseq_K562_KS91.hg38.Input.rep6.WGS.unstranded.bed.gz'\n",
       "7. 'ASTARRseq_K562_KS91.hg38.Output.rep1.WGS.unstranded.bed.gz'\n",
       "8. 'ASTARRseq_K562_KS91.hg38.Output.rep2.WGS.unstranded.bed.gz'\n",
       "9. 'ASTARRseq_K562_KS91.hg38.Output.rep3.WGS.unstranded.bed.gz'\n",
       "10. 'ASTARRseq_K562_KS91.hg38.Output.rep4.WGS.unstranded.bed.gz'\n",
       "11. 'summary'\n",
       "\n",
       "\n"
      ],
      "text/plain": [
       " [1] \"ASTARRseq_K562_KS91.hg38.Input.rep1.WGS.unstranded.bed.gz\" \n",
       " [2] \"ASTARRseq_K562_KS91.hg38.Input.rep2.WGS.unstranded.bed.gz\" \n",
       " [3] \"ASTARRseq_K562_KS91.hg38.Input.rep3.WGS.unstranded.bed.gz\" \n",
       " [4] \"ASTARRseq_K562_KS91.hg38.Input.rep4.WGS.unstranded.bed.gz\" \n",
       " [5] \"ASTARRseq_K562_KS91.hg38.Input.rep5.WGS.unstranded.bed.gz\" \n",
       " [6] \"ASTARRseq_K562_KS91.hg38.Input.rep6.WGS.unstranded.bed.gz\" \n",
       " [7] \"ASTARRseq_K562_KS91.hg38.Output.rep1.WGS.unstranded.bed.gz\"\n",
       " [8] \"ASTARRseq_K562_KS91.hg38.Output.rep2.WGS.unstranded.bed.gz\"\n",
       " [9] \"ASTARRseq_K562_KS91.hg38.Output.rep3.WGS.unstranded.bed.gz\"\n",
       "[10] \"ASTARRseq_K562_KS91.hg38.Output.rep4.WGS.unstranded.bed.gz\"\n",
       "[11] \"summary\"                                                   "
      ]
     },
     "metadata": {},
     "output_type": "display_data"
    }
   ],
   "source": [
    "txt_assay = \"STARR_ATAC_K562_Reddy_KS91\"\n",
    "txt_fdiry = file.path(\n",
    "    FD_RES, \n",
    "    \"assay_fcc\", \n",
    "    txt_assay, \n",
    "    \"coverage\", \n",
    "    \"fcc_astarr_macs\", \n",
    "    \"astarr_macs_input_overlap\",\n",
    "    \"overlap_fragment\",\n",
    "    \"overlap_fragment_one2one\")\n",
    "dir(txt_fdiry)"
   ]
  },
  {
   "cell_type": "code",
   "execution_count": 9,
   "id": "4ea1bb66-c217-4622-b6d8-4963177e4ede",
   "metadata": {},
   "outputs": [
    {
     "name": "stdout",
     "output_type": "stream",
     "text": [
      "\u001b[90m# A tibble: 6 × 10\u001b[39m\n",
      "  X1       X2    X3 X4                  X5 X6    X7       X8    X9   X10\n",
      "  \u001b[3m\u001b[90m<chr>\u001b[39m\u001b[23m \u001b[3m\u001b[90m<dbl>\u001b[39m\u001b[23m \u001b[3m\u001b[90m<dbl>\u001b[39m\u001b[23m \u001b[3m\u001b[90m<chr>\u001b[39m\u001b[23m            \u001b[3m\u001b[90m<dbl>\u001b[39m\u001b[23m \u001b[3m\u001b[90m<chr>\u001b[39m\u001b[23m \u001b[3m\u001b[90m<chr>\u001b[39m\u001b[23m \u001b[3m\u001b[90m<dbl>\u001b[39m\u001b[23m \u001b[3m\u001b[90m<dbl>\u001b[39m\u001b[23m \u001b[3m\u001b[90m<dbl>\u001b[39m\u001b[23m\n",
      "\u001b[90m1\u001b[39m chr1  \u001b[4m1\u001b[24m\u001b[4m0\u001b[24m001 \u001b[4m1\u001b[24m\u001b[4m0\u001b[24m143 chr1_10001_10143     1 .     chr1  \u001b[4m1\u001b[24m\u001b[4m0\u001b[24m038 \u001b[4m1\u001b[24m\u001b[4m0\u001b[24m405   105\n",
      "\u001b[90m2\u001b[39m chr1  \u001b[4m1\u001b[24m\u001b[4m0\u001b[24m002 \u001b[4m1\u001b[24m\u001b[4m0\u001b[24m436 chr1_10002_10436     1 .     chr1  \u001b[4m1\u001b[24m\u001b[4m0\u001b[24m038 \u001b[4m1\u001b[24m\u001b[4m0\u001b[24m405   367\n",
      "\u001b[90m3\u001b[39m chr1  \u001b[4m1\u001b[24m\u001b[4m0\u001b[24m002 \u001b[4m1\u001b[24m\u001b[4m0\u001b[24m227 chr1_10002_10227     1 .     chr1  \u001b[4m1\u001b[24m\u001b[4m0\u001b[24m038 \u001b[4m1\u001b[24m\u001b[4m0\u001b[24m405   189\n",
      "\u001b[90m4\u001b[39m chr1  \u001b[4m1\u001b[24m\u001b[4m0\u001b[24m002 \u001b[4m1\u001b[24m\u001b[4m0\u001b[24m209 chr1_10002_10209     1 .     chr1  \u001b[4m1\u001b[24m\u001b[4m0\u001b[24m038 \u001b[4m1\u001b[24m\u001b[4m0\u001b[24m405   171\n",
      "\u001b[90m5\u001b[39m chr1  \u001b[4m1\u001b[24m\u001b[4m0\u001b[24m002 \u001b[4m1\u001b[24m\u001b[4m0\u001b[24m203 chr1_10002_10203     1 .     chr1  \u001b[4m1\u001b[24m\u001b[4m0\u001b[24m038 \u001b[4m1\u001b[24m\u001b[4m0\u001b[24m405   165\n",
      "\u001b[90m6\u001b[39m chr1  \u001b[4m1\u001b[24m\u001b[4m0\u001b[24m002 \u001b[4m1\u001b[24m\u001b[4m0\u001b[24m131 chr1_10002_10131     1 .     chr1  \u001b[4m1\u001b[24m\u001b[4m0\u001b[24m038 \u001b[4m1\u001b[24m\u001b[4m0\u001b[24m405    93\n"
     ]
    }
   ],
   "source": [
    "txt_assay = \"STARR_ATAC_K562_Reddy_KS91\"\n",
    "txt_fdiry = file.path(\n",
    "    FD_RES, \n",
    "    \"assay_fcc\", \n",
    "    txt_assay, \n",
    "    \"coverage\", \n",
    "    \"fcc_astarr_macs\", \n",
    "    \"astarr_macs_input_overlap\",\n",
    "    \"overlap_fragment\",\n",
    "    \"overlap_fragment_one2one\")\n",
    "\n",
    "txt_fname = \"ASTARRseq_K562_KS91.hg38.Input.rep1.WGS.unstranded.bed.gz\"\n",
    "txt_fpath = file.path(txt_fdiry, txt_fname)\n",
    "\n",
    "tmp = str_split(string = txt_fname, pattern = \"\\\\.\", n=3)\n",
    "idx = tmp[[1]][3]\n",
    "txt = vec_txt_sample[idx]\n",
    "    \n",
    "dat = read_tsv(txt_fpath, col_names = FALSE, show_col_types = FALSE)\n",
    "print(head(dat))"
   ]
  },
  {
   "cell_type": "code",
   "execution_count": null,
   "id": "9d6bc16b-c11d-422b-8ba8-f785b6cf3dd5",
   "metadata": {},
   "outputs": [],
   "source": []
  }
 ],
 "metadata": {
  "kernelspec": {
   "display_name": "R",
   "language": "R",
   "name": "ir"
  },
  "language_info": {
   "codemirror_mode": "r",
   "file_extension": ".r",
   "mimetype": "text/x-r-source",
   "name": "R",
   "pygments_lexer": "r",
   "version": "4.3.3"
  }
 },
 "nbformat": 4,
 "nbformat_minor": 5
}
