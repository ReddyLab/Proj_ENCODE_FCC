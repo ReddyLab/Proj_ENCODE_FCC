{
 "cells": [
  {
   "cell_type": "raw",
   "id": "8ea1b431-b94a-440a-86de-3c417967a3ad",
   "metadata": {},
   "source": [
    "---\n",
    "title: Region Coverage 031\n",
    "subtitle: Combine counts across samples and generate count matrix (ASTARR)\n",
    "format:\n",
    "    html:\n",
    "        code-fold:  true\n",
    "        code-tools: true\n",
    "---"
   ]
  },
  {
   "cell_type": "markdown",
   "id": "702be034-d82d-46a4-bbe6-140c087969e5",
   "metadata": {},
   "source": [
    "**Set environment**"
   ]
  },
  {
   "cell_type": "code",
   "execution_count": 1,
   "id": "21fdae94-00f6-4029-94a9-56ad7d2cca81",
   "metadata": {},
   "outputs": [
    {
     "name": "stdout",
     "output_type": "stream",
     "text": [
      "You are working on        Singularity \n",
      "BASE DIRECTORY (FD_BASE): /mount \n",
      "REPO DIRECTORY (FD_REPO): /mount/repo \n",
      "WORK DIRECTORY (FD_WORK): /mount/work \n",
      "DATA DIRECTORY (FD_DATA): /mount/data \n",
      "\n",
      "You are working with      ENCODE FCC \n",
      "PATH OF PROJECT (FD_PRJ): /mount/repo/Proj_CombEffect_ENCODE_FCC \n",
      "PROJECT RESULTS (FD_RES): /mount/repo/Proj_CombEffect_ENCODE_FCC/results \n",
      "PROJECT SCRIPTS (FD_EXE): /mount/repo/Proj_CombEffect_ENCODE_FCC/scripts \n",
      "PROJECT DATA    (FD_DAT): /mount/repo/Proj_CombEffect_ENCODE_FCC/data \n",
      "PROJECT NOTE    (FD_NBK): /mount/repo/Proj_CombEffect_ENCODE_FCC/notebooks \n",
      "PROJECT DOCS    (FD_DOC): /mount/repo/Proj_CombEffect_ENCODE_FCC/docs \n",
      "PROJECT LOG     (FD_LOG): /mount/repo/Proj_CombEffect_ENCODE_FCC/log \n",
      "PROJECT APP     (FD_APP): /mount/repo/Proj_CombEffect_ENCODE_FCC/app \n",
      "PROJECT REF     (FD_REF): /mount/repo/Proj_CombEffect_ENCODE_FCC/references \n",
      "\n"
     ]
    }
   ],
   "source": [
    "suppressMessages(suppressWarnings(source(\"../run_config_project_sing.R\")))\n",
    "suppressMessages(suppressWarnings(library(\"DESeq2\")))\n",
    "show_env()"
   ]
  },
  {
   "cell_type": "markdown",
   "id": "82c78301-f38c-4df7-a746-ff26dc614b1c",
   "metadata": {},
   "source": [
    "## Import count matrix and metadata"
   ]
  },
  {
   "cell_type": "code",
   "execution_count": 2,
   "id": "6d77cdc8-3b09-4794-9fe5-fbce29226135",
   "metadata": {},
   "outputs": [],
   "source": [
    "### init\n",
    "TXT_ASSAY  = \"STARR_ATAC_K562_Reddy_KS91\""
   ]
  },
  {
   "cell_type": "code",
   "execution_count": 3,
   "id": "dc8fb550-a9e0-4a93-863b-27644d764187",
   "metadata": {},
   "outputs": [
    {
     "data": {
      "text/html": [
       "<table>\n",
       " <thead>\n",
       "  <tr>\n",
       "   <th style=\"text-align:left;\"> FName </th>\n",
       "   <th style=\"text-align:left;\"> Assay </th>\n",
       "   <th style=\"text-align:left;\"> Prefix </th>\n",
       "   <th style=\"text-align:left;\"> Group </th>\n",
       "   <th style=\"text-align:left;\"> Sample </th>\n",
       "  </tr>\n",
       " </thead>\n",
       "<tbody>\n",
       "  <tr>\n",
       "   <td style=\"text-align:left;\"> ASTARRseq_K562_KS91.hg38.Input.rep1.WGS.unstranded.bed.gz </td>\n",
       "   <td style=\"text-align:left;\"> STARR_ATAC_K562_Reddy_KS91 </td>\n",
       "   <td style=\"text-align:left;\"> ASTARRseq_K562_KS91 </td>\n",
       "   <td style=\"text-align:left;\"> Input </td>\n",
       "   <td style=\"text-align:left;\"> Input.rep1 </td>\n",
       "  </tr>\n",
       "  <tr>\n",
       "   <td style=\"text-align:left;\"> ASTARRseq_K562_KS91.hg38.Input.rep2.WGS.unstranded.bed.gz </td>\n",
       "   <td style=\"text-align:left;\"> STARR_ATAC_K562_Reddy_KS91 </td>\n",
       "   <td style=\"text-align:left;\"> ASTARRseq_K562_KS91 </td>\n",
       "   <td style=\"text-align:left;\"> Input </td>\n",
       "   <td style=\"text-align:left;\"> Input.rep2 </td>\n",
       "  </tr>\n",
       "  <tr>\n",
       "   <td style=\"text-align:left;\"> ASTARRseq_K562_KS91.hg38.Input.rep3.WGS.unstranded.bed.gz </td>\n",
       "   <td style=\"text-align:left;\"> STARR_ATAC_K562_Reddy_KS91 </td>\n",
       "   <td style=\"text-align:left;\"> ASTARRseq_K562_KS91 </td>\n",
       "   <td style=\"text-align:left;\"> Input </td>\n",
       "   <td style=\"text-align:left;\"> Input.rep3 </td>\n",
       "  </tr>\n",
       "  <tr>\n",
       "   <td style=\"text-align:left;\"> ASTARRseq_K562_KS91.hg38.Input.rep4.WGS.unstranded.bed.gz </td>\n",
       "   <td style=\"text-align:left;\"> STARR_ATAC_K562_Reddy_KS91 </td>\n",
       "   <td style=\"text-align:left;\"> ASTARRseq_K562_KS91 </td>\n",
       "   <td style=\"text-align:left;\"> Input </td>\n",
       "   <td style=\"text-align:left;\"> Input.rep4 </td>\n",
       "  </tr>\n",
       "  <tr>\n",
       "   <td style=\"text-align:left;\"> ASTARRseq_K562_KS91.hg38.Input.rep5.WGS.unstranded.bed.gz </td>\n",
       "   <td style=\"text-align:left;\"> STARR_ATAC_K562_Reddy_KS91 </td>\n",
       "   <td style=\"text-align:left;\"> ASTARRseq_K562_KS91 </td>\n",
       "   <td style=\"text-align:left;\"> Input </td>\n",
       "   <td style=\"text-align:left;\"> Input.rep5 </td>\n",
       "  </tr>\n",
       "  <tr>\n",
       "   <td style=\"text-align:left;\"> ASTARRseq_K562_KS91.hg38.Input.rep6.WGS.unstranded.bed.gz </td>\n",
       "   <td style=\"text-align:left;\"> STARR_ATAC_K562_Reddy_KS91 </td>\n",
       "   <td style=\"text-align:left;\"> ASTARRseq_K562_KS91 </td>\n",
       "   <td style=\"text-align:left;\"> Input </td>\n",
       "   <td style=\"text-align:left;\"> Input.rep6 </td>\n",
       "  </tr>\n",
       "  <tr>\n",
       "   <td style=\"text-align:left;\"> ASTARRseq_K562_KS91.hg38.Output.rep1.WGS.unstranded.bed.gz </td>\n",
       "   <td style=\"text-align:left;\"> STARR_ATAC_K562_Reddy_KS91 </td>\n",
       "   <td style=\"text-align:left;\"> ASTARRseq_K562_KS91 </td>\n",
       "   <td style=\"text-align:left;\"> Output </td>\n",
       "   <td style=\"text-align:left;\"> Output.rep1 </td>\n",
       "  </tr>\n",
       "  <tr>\n",
       "   <td style=\"text-align:left;\"> ASTARRseq_K562_KS91.hg38.Output.rep2.WGS.unstranded.bed.gz </td>\n",
       "   <td style=\"text-align:left;\"> STARR_ATAC_K562_Reddy_KS91 </td>\n",
       "   <td style=\"text-align:left;\"> ASTARRseq_K562_KS91 </td>\n",
       "   <td style=\"text-align:left;\"> Output </td>\n",
       "   <td style=\"text-align:left;\"> Output.rep2 </td>\n",
       "  </tr>\n",
       "  <tr>\n",
       "   <td style=\"text-align:left;\"> ASTARRseq_K562_KS91.hg38.Output.rep3.WGS.unstranded.bed.gz </td>\n",
       "   <td style=\"text-align:left;\"> STARR_ATAC_K562_Reddy_KS91 </td>\n",
       "   <td style=\"text-align:left;\"> ASTARRseq_K562_KS91 </td>\n",
       "   <td style=\"text-align:left;\"> Output </td>\n",
       "   <td style=\"text-align:left;\"> Output.rep3 </td>\n",
       "  </tr>\n",
       "  <tr>\n",
       "   <td style=\"text-align:left;\"> ASTARRseq_K562_KS91.hg38.Output.rep4.WGS.unstranded.bed.gz </td>\n",
       "   <td style=\"text-align:left;\"> STARR_ATAC_K562_Reddy_KS91 </td>\n",
       "   <td style=\"text-align:left;\"> ASTARRseq_K562_KS91 </td>\n",
       "   <td style=\"text-align:left;\"> Output </td>\n",
       "   <td style=\"text-align:left;\"> Output.rep4 </td>\n",
       "  </tr>\n",
       "</tbody>\n",
       "</table>"
      ]
     },
     "metadata": {},
     "output_type": "display_data"
    }
   ],
   "source": [
    "### set directory\n",
    "txt_fdiry = file.path(FD_RES, \"assay_fcc\", TXT_ASSAY, \"fragment_counts\", \"summary\")\n",
    "txt_fname = \"metadata.tsv\"\n",
    "txt_fpath = file.path(txt_fdiry, txt_fname)\n",
    "\n",
    "### read table\n",
    "dat = read_tsv(txt_fpath, show_col_types = FALSE)\n",
    "\n",
    "### assign and show\n",
    "dat_metadata_astarr = dat\n",
    "fun_display_table(dat)"
   ]
  },
  {
   "cell_type": "markdown",
   "id": "4b44205b-18a0-4693-a44d-730605eb8c39",
   "metadata": {},
   "source": [
    "**import region metadata**"
   ]
  },
  {
   "cell_type": "code",
   "execution_count": 4,
   "id": "45f0c722-d356-4fc6-9443-fb691f3ee1bb",
   "metadata": {},
   "outputs": [
    {
     "name": "stdout",
     "output_type": "stream",
     "text": [
      "[1] 8 3\n"
     ]
    },
    {
     "data": {
      "text/html": [
       "<table>\n",
       " <thead>\n",
       "  <tr>\n",
       "   <th style=\"text-align:left;\"> Folder </th>\n",
       "   <th style=\"text-align:left;\"> FName </th>\n",
       "   <th style=\"text-align:left;\"> Label </th>\n",
       "  </tr>\n",
       " </thead>\n",
       "<tbody>\n",
       "  <tr>\n",
       "   <td style=\"text-align:left;\"> encode_open_chromatin </td>\n",
       "   <td style=\"text-align:left;\"> K562.hg38.ENCSR000EKS.ENCFF274YGF.DNase.bed.gz </td>\n",
       "   <td style=\"text-align:left;\"> dnase_ENCFF274YGF </td>\n",
       "  </tr>\n",
       "  <tr>\n",
       "   <td style=\"text-align:left;\"> encode_open_chromatin </td>\n",
       "   <td style=\"text-align:left;\"> K562.hg38.ENCSR000EOT.ENCFF185XRG.DNase.bed.gz </td>\n",
       "   <td style=\"text-align:left;\"> dnase_ENCFF185XRG </td>\n",
       "  </tr>\n",
       "  <tr>\n",
       "   <td style=\"text-align:left;\"> encode_open_chromatin </td>\n",
       "   <td style=\"text-align:left;\"> K562.hg38.ENCSR483RKN.ENCFF558BLC.ATAC.bed.gz </td>\n",
       "   <td style=\"text-align:left;\"> atac_ENCFF558BLC </td>\n",
       "  </tr>\n",
       "  <tr>\n",
       "   <td style=\"text-align:left;\"> encode_open_chromatin </td>\n",
       "   <td style=\"text-align:left;\"> K562.hg38.ENCSR483RKN.ENCFF925CYR.ATAC.bed.gz </td>\n",
       "   <td style=\"text-align:left;\"> atac_ENCFF925CYR </td>\n",
       "  </tr>\n",
       "  <tr>\n",
       "   <td style=\"text-align:left;\"> encode_open_chromatin </td>\n",
       "   <td style=\"text-align:left;\"> K562.hg38.ENCSR868FGK.ENCFF333TAT.ATAC.bed.gz </td>\n",
       "   <td style=\"text-align:left;\"> atac_ENCFF333TAT </td>\n",
       "  </tr>\n",
       "  <tr>\n",
       "   <td style=\"text-align:left;\"> encode_open_chromatin </td>\n",
       "   <td style=\"text-align:left;\"> K562.hg38.ENCSR868FGK.ENCFF948AFM.ATAC.bed.gz </td>\n",
       "   <td style=\"text-align:left;\"> atac_ENCFF948AFM </td>\n",
       "  </tr>\n",
       "  <tr>\n",
       "   <td style=\"text-align:left;\"> fcc_astarr_macs </td>\n",
       "   <td style=\"text-align:left;\"> ASTARRseq_K562_KS91.hg38.Input.rep_all.max_overlaps.q5.bed </td>\n",
       "   <td style=\"text-align:left;\"> astarr_macs_input_overlap </td>\n",
       "  </tr>\n",
       "  <tr>\n",
       "   <td style=\"text-align:left;\"> fcc_astarr_macs </td>\n",
       "   <td style=\"text-align:left;\"> ASTARRseq_K562_KS91.hg38.Input.rep_all.union.q5.bed </td>\n",
       "   <td style=\"text-align:left;\"> astarr_macs_input_union </td>\n",
       "  </tr>\n",
       "</tbody>\n",
       "</table>"
      ]
     },
     "metadata": {},
     "output_type": "display_data"
    }
   ],
   "source": [
    "txt_fdiry = file.path(FD_RES, \"region\", \"summary\")\n",
    "txt_fname = \"metadata_region_label.tsv\"\n",
    "txt_fpath = file.path(txt_fdiry, txt_fname)\n",
    "\n",
    "dat = read_tsv(txt_fpath, show_col_types = FALSE)\n",
    "\n",
    "dat_metadata_region = dat\n",
    "print(dim(dat))\n",
    "fun_display_table(dat)"
   ]
  },
  {
   "cell_type": "markdown",
   "id": "ab9ad2c4-f381-45bd-bf8c-2026f09a2905",
   "metadata": {},
   "source": [
    "**create region list for looping**"
   ]
  },
  {
   "cell_type": "code",
   "execution_count": 5,
   "id": "08e44074-17c6-4779-b3eb-4cacd5722a89",
   "metadata": {},
   "outputs": [
    {
     "name": "stdout",
     "output_type": "stream",
     "text": [
      "$encode_open_chromatin\n",
      "[1] \"dnase_ENCFF274YGF\" \"dnase_ENCFF185XRG\" \"atac_ENCFF558BLC\" \n",
      "[4] \"atac_ENCFF925CYR\"  \"atac_ENCFF333TAT\"  \"atac_ENCFF948AFM\" \n",
      "\n",
      "$fcc_astarr_macs\n",
      "[1] \"astarr_macs_input_overlap\" \"astarr_macs_input_union\"  \n",
      "\n"
     ]
    }
   ],
   "source": [
    "dat = dat_metadata_region\n",
    "lst = split(dat$Label, dat$Folder)\n",
    "\n",
    "lst_metadata_region = lst\n",
    "print(lst)"
   ]
  },
  {
   "cell_type": "code",
   "execution_count": 6,
   "id": "c4ed3d73-8857-402d-8ee5-101b5d2f415a",
   "metadata": {},
   "outputs": [
    {
     "data": {
      "text/html": [
       "<style>\n",
       ".list-inline {list-style: none; margin:0; padding: 0}\n",
       ".list-inline>li {display: inline-block}\n",
       ".list-inline>li:not(:last-child)::after {content: \"\\00b7\"; padding: 0 .5ex}\n",
       "</style>\n",
       "<ol class=list-inline><li>'encode_open_chromatin'</li><li>'fcc_astarr_macs'</li></ol>\n"
      ],
      "text/latex": [
       "\\begin{enumerate*}\n",
       "\\item 'encode\\_open\\_chromatin'\n",
       "\\item 'fcc\\_astarr\\_macs'\n",
       "\\end{enumerate*}\n"
      ],
      "text/markdown": [
       "1. 'encode_open_chromatin'\n",
       "2. 'fcc_astarr_macs'\n",
       "\n",
       "\n"
      ],
      "text/plain": [
       "[1] \"encode_open_chromatin\" \"fcc_astarr_macs\"      "
      ]
     },
     "metadata": {},
     "output_type": "display_data"
    }
   ],
   "source": [
    "txt_fdiry = file.path(FD_RES, \"assay_fcc\", TXT_ASSAY, \"coverage\")\n",
    "dir(txt_fdiry)"
   ]
  },
  {
   "cell_type": "code",
   "execution_count": 9,
   "id": "ef70199c-dff2-44a3-a7be-6a4b47927f99",
   "metadata": {},
   "outputs": [
    {
     "name": "stdout",
     "output_type": "stream",
     "text": [
      "==================== \n",
      "Region Folder: encode_open_chromatin \n",
      "Region Label:  dnase_ENCFF274YGF \n",
      "[1] 118721     11\n"
     ]
    },
    {
     "data": {
      "text/html": [
       "<table>\n",
       " <thead>\n",
       "  <tr>\n",
       "   <th style=\"text-align:left;\"> Region </th>\n",
       "   <th style=\"text-align:right;\"> Input.rep1 </th>\n",
       "   <th style=\"text-align:right;\"> Input.rep2 </th>\n",
       "   <th style=\"text-align:right;\"> Input.rep3 </th>\n",
       "   <th style=\"text-align:right;\"> Input.rep4 </th>\n",
       "   <th style=\"text-align:right;\"> Input.rep5 </th>\n",
       "   <th style=\"text-align:right;\"> Input.rep6 </th>\n",
       "   <th style=\"text-align:right;\"> Output.rep1 </th>\n",
       "   <th style=\"text-align:right;\"> Output.rep2 </th>\n",
       "   <th style=\"text-align:right;\"> Output.rep3 </th>\n",
       "   <th style=\"text-align:right;\"> Output.rep4 </th>\n",
       "  </tr>\n",
       " </thead>\n",
       "<tbody>\n",
       "  <tr>\n",
       "   <td style=\"text-align:left;\"> chr1:181400-181530 </td>\n",
       "   <td style=\"text-align:right;\"> 166 </td>\n",
       "   <td style=\"text-align:right;\"> 229 </td>\n",
       "   <td style=\"text-align:right;\"> 227 </td>\n",
       "   <td style=\"text-align:right;\"> 218 </td>\n",
       "   <td style=\"text-align:right;\"> 220 </td>\n",
       "   <td style=\"text-align:right;\"> 180 </td>\n",
       "   <td style=\"text-align:right;\"> 7 </td>\n",
       "   <td style=\"text-align:right;\"> 11 </td>\n",
       "   <td style=\"text-align:right;\"> 16 </td>\n",
       "   <td style=\"text-align:right;\"> 8 </td>\n",
       "  </tr>\n",
       "  <tr>\n",
       "   <td style=\"text-align:left;\"> chr1:778660-778800 </td>\n",
       "   <td style=\"text-align:right;\"> 3014 </td>\n",
       "   <td style=\"text-align:right;\"> 3520 </td>\n",
       "   <td style=\"text-align:right;\"> 3601 </td>\n",
       "   <td style=\"text-align:right;\"> 3482 </td>\n",
       "   <td style=\"text-align:right;\"> 3447 </td>\n",
       "   <td style=\"text-align:right;\"> 3189 </td>\n",
       "   <td style=\"text-align:right;\"> 1937 </td>\n",
       "   <td style=\"text-align:right;\"> 2413 </td>\n",
       "   <td style=\"text-align:right;\"> 2644 </td>\n",
       "   <td style=\"text-align:right;\"> 4819 </td>\n",
       "  </tr>\n",
       "  <tr>\n",
       "   <td style=\"text-align:left;\"> chr1:779137-779200 </td>\n",
       "   <td style=\"text-align:right;\"> 1137 </td>\n",
       "   <td style=\"text-align:right;\"> 1390 </td>\n",
       "   <td style=\"text-align:right;\"> 1465 </td>\n",
       "   <td style=\"text-align:right;\"> 1383 </td>\n",
       "   <td style=\"text-align:right;\"> 1383 </td>\n",
       "   <td style=\"text-align:right;\"> 1268 </td>\n",
       "   <td style=\"text-align:right;\"> 84 </td>\n",
       "   <td style=\"text-align:right;\"> 128 </td>\n",
       "   <td style=\"text-align:right;\"> 182 </td>\n",
       "   <td style=\"text-align:right;\"> 343 </td>\n",
       "  </tr>\n",
       "  <tr>\n",
       "   <td style=\"text-align:left;\"> chr1:827460-827554 </td>\n",
       "   <td style=\"text-align:right;\"> 2402 </td>\n",
       "   <td style=\"text-align:right;\"> 2947 </td>\n",
       "   <td style=\"text-align:right;\"> 3119 </td>\n",
       "   <td style=\"text-align:right;\"> 2971 </td>\n",
       "   <td style=\"text-align:right;\"> 2918 </td>\n",
       "   <td style=\"text-align:right;\"> 2721 </td>\n",
       "   <td style=\"text-align:right;\"> 636 </td>\n",
       "   <td style=\"text-align:right;\"> 717 </td>\n",
       "   <td style=\"text-align:right;\"> 820 </td>\n",
       "   <td style=\"text-align:right;\"> 1657 </td>\n",
       "  </tr>\n",
       "  <tr>\n",
       "   <td style=\"text-align:left;\"> chr1:842880-843060 </td>\n",
       "   <td style=\"text-align:right;\"> 448 </td>\n",
       "   <td style=\"text-align:right;\"> 526 </td>\n",
       "   <td style=\"text-align:right;\"> 566 </td>\n",
       "   <td style=\"text-align:right;\"> 547 </td>\n",
       "   <td style=\"text-align:right;\"> 510 </td>\n",
       "   <td style=\"text-align:right;\"> 471 </td>\n",
       "   <td style=\"text-align:right;\"> 99 </td>\n",
       "   <td style=\"text-align:right;\"> 190 </td>\n",
       "   <td style=\"text-align:right;\"> 217 </td>\n",
       "   <td style=\"text-align:right;\"> 284 </td>\n",
       "  </tr>\n",
       "  <tr>\n",
       "   <td style=\"text-align:left;\"> chr1:869800-869980 </td>\n",
       "   <td style=\"text-align:right;\"> 880 </td>\n",
       "   <td style=\"text-align:right;\"> 1034 </td>\n",
       "   <td style=\"text-align:right;\"> 1068 </td>\n",
       "   <td style=\"text-align:right;\"> 1034 </td>\n",
       "   <td style=\"text-align:right;\"> 994 </td>\n",
       "   <td style=\"text-align:right;\"> 935 </td>\n",
       "   <td style=\"text-align:right;\"> 46 </td>\n",
       "   <td style=\"text-align:right;\"> 38 </td>\n",
       "   <td style=\"text-align:right;\"> 51 </td>\n",
       "   <td style=\"text-align:right;\"> 105 </td>\n",
       "  </tr>\n",
       "</tbody>\n",
       "</table>"
      ]
     },
     "metadata": {},
     "output_type": "display_data"
    },
    {
     "name": "stdout",
     "output_type": "stream",
     "text": [
      "==================== \n",
      "Region Folder: encode_open_chromatin \n",
      "Region Label:  dnase_ENCFF185XRG \n",
      "[1] 159277     11\n"
     ]
    },
    {
     "data": {
      "text/html": [
       "<table>\n",
       " <thead>\n",
       "  <tr>\n",
       "   <th style=\"text-align:left;\"> Region </th>\n",
       "   <th style=\"text-align:right;\"> Input.rep1 </th>\n",
       "   <th style=\"text-align:right;\"> Input.rep2 </th>\n",
       "   <th style=\"text-align:right;\"> Input.rep3 </th>\n",
       "   <th style=\"text-align:right;\"> Input.rep4 </th>\n",
       "   <th style=\"text-align:right;\"> Input.rep5 </th>\n",
       "   <th style=\"text-align:right;\"> Input.rep6 </th>\n",
       "   <th style=\"text-align:right;\"> Output.rep1 </th>\n",
       "   <th style=\"text-align:right;\"> Output.rep2 </th>\n",
       "   <th style=\"text-align:right;\"> Output.rep3 </th>\n",
       "   <th style=\"text-align:right;\"> Output.rep4 </th>\n",
       "  </tr>\n",
       " </thead>\n",
       "<tbody>\n",
       "  <tr>\n",
       "   <td style=\"text-align:left;\"> chr1:139369-139421 </td>\n",
       "   <td style=\"text-align:right;\"> 115 </td>\n",
       "   <td style=\"text-align:right;\"> 169 </td>\n",
       "   <td style=\"text-align:right;\"> 181 </td>\n",
       "   <td style=\"text-align:right;\"> 161 </td>\n",
       "   <td style=\"text-align:right;\"> 174 </td>\n",
       "   <td style=\"text-align:right;\"> 156 </td>\n",
       "   <td style=\"text-align:right;\"> 11 </td>\n",
       "   <td style=\"text-align:right;\"> 20 </td>\n",
       "   <td style=\"text-align:right;\"> 22 </td>\n",
       "   <td style=\"text-align:right;\"> 69 </td>\n",
       "  </tr>\n",
       "  <tr>\n",
       "   <td style=\"text-align:left;\"> chr1:180800-180871 </td>\n",
       "   <td style=\"text-align:right;\"> 34 </td>\n",
       "   <td style=\"text-align:right;\"> 41 </td>\n",
       "   <td style=\"text-align:right;\"> 42 </td>\n",
       "   <td style=\"text-align:right;\"> 30 </td>\n",
       "   <td style=\"text-align:right;\"> 38 </td>\n",
       "   <td style=\"text-align:right;\"> 33 </td>\n",
       "   <td style=\"text-align:right;\"> 0 </td>\n",
       "   <td style=\"text-align:right;\"> 1 </td>\n",
       "   <td style=\"text-align:right;\"> 0 </td>\n",
       "   <td style=\"text-align:right;\"> 3 </td>\n",
       "  </tr>\n",
       "  <tr>\n",
       "   <td style=\"text-align:left;\"> chr1:181108-181200 </td>\n",
       "   <td style=\"text-align:right;\"> 113 </td>\n",
       "   <td style=\"text-align:right;\"> 146 </td>\n",
       "   <td style=\"text-align:right;\"> 151 </td>\n",
       "   <td style=\"text-align:right;\"> 145 </td>\n",
       "   <td style=\"text-align:right;\"> 149 </td>\n",
       "   <td style=\"text-align:right;\"> 119 </td>\n",
       "   <td style=\"text-align:right;\"> 1 </td>\n",
       "   <td style=\"text-align:right;\"> 4 </td>\n",
       "   <td style=\"text-align:right;\"> 2 </td>\n",
       "   <td style=\"text-align:right;\"> 5 </td>\n",
       "  </tr>\n",
       "  <tr>\n",
       "   <td style=\"text-align:left;\"> chr1:181400-181560 </td>\n",
       "   <td style=\"text-align:right;\"> 177 </td>\n",
       "   <td style=\"text-align:right;\"> 243 </td>\n",
       "   <td style=\"text-align:right;\"> 244 </td>\n",
       "   <td style=\"text-align:right;\"> 235 </td>\n",
       "   <td style=\"text-align:right;\"> 226 </td>\n",
       "   <td style=\"text-align:right;\"> 190 </td>\n",
       "   <td style=\"text-align:right;\"> 6 </td>\n",
       "   <td style=\"text-align:right;\"> 12 </td>\n",
       "   <td style=\"text-align:right;\"> 16 </td>\n",
       "   <td style=\"text-align:right;\"> 7 </td>\n",
       "  </tr>\n",
       "  <tr>\n",
       "   <td style=\"text-align:left;\"> chr1:186785-186839 </td>\n",
       "   <td style=\"text-align:right;\"> 63 </td>\n",
       "   <td style=\"text-align:right;\"> 90 </td>\n",
       "   <td style=\"text-align:right;\"> 89 </td>\n",
       "   <td style=\"text-align:right;\"> 92 </td>\n",
       "   <td style=\"text-align:right;\"> 82 </td>\n",
       "   <td style=\"text-align:right;\"> 86 </td>\n",
       "   <td style=\"text-align:right;\"> 0 </td>\n",
       "   <td style=\"text-align:right;\"> 6 </td>\n",
       "   <td style=\"text-align:right;\"> 9 </td>\n",
       "   <td style=\"text-align:right;\"> 8 </td>\n",
       "  </tr>\n",
       "  <tr>\n",
       "   <td style=\"text-align:left;\"> chr1:186980-187129 </td>\n",
       "   <td style=\"text-align:right;\"> 81 </td>\n",
       "   <td style=\"text-align:right;\"> 113 </td>\n",
       "   <td style=\"text-align:right;\"> 103 </td>\n",
       "   <td style=\"text-align:right;\"> 121 </td>\n",
       "   <td style=\"text-align:right;\"> 122 </td>\n",
       "   <td style=\"text-align:right;\"> 100 </td>\n",
       "   <td style=\"text-align:right;\"> 5 </td>\n",
       "   <td style=\"text-align:right;\"> 19 </td>\n",
       "   <td style=\"text-align:right;\"> 24 </td>\n",
       "   <td style=\"text-align:right;\"> 14 </td>\n",
       "  </tr>\n",
       "</tbody>\n",
       "</table>"
      ]
     },
     "metadata": {},
     "output_type": "display_data"
    },
    {
     "name": "stdout",
     "output_type": "stream",
     "text": [
      "==================== \n",
      "Region Folder: encode_open_chromatin \n",
      "Region Label:  atac_ENCFF558BLC \n",
      "[1] 107082     11\n"
     ]
    },
    {
     "data": {
      "text/html": [
       "<table>\n",
       " <thead>\n",
       "  <tr>\n",
       "   <th style=\"text-align:left;\"> Region </th>\n",
       "   <th style=\"text-align:right;\"> Input.rep1 </th>\n",
       "   <th style=\"text-align:right;\"> Input.rep2 </th>\n",
       "   <th style=\"text-align:right;\"> Input.rep3 </th>\n",
       "   <th style=\"text-align:right;\"> Input.rep4 </th>\n",
       "   <th style=\"text-align:right;\"> Input.rep5 </th>\n",
       "   <th style=\"text-align:right;\"> Input.rep6 </th>\n",
       "   <th style=\"text-align:right;\"> Output.rep1 </th>\n",
       "   <th style=\"text-align:right;\"> Output.rep2 </th>\n",
       "   <th style=\"text-align:right;\"> Output.rep3 </th>\n",
       "   <th style=\"text-align:right;\"> Output.rep4 </th>\n",
       "  </tr>\n",
       " </thead>\n",
       "<tbody>\n",
       "  <tr>\n",
       "   <td style=\"text-align:left;\"> chr1:10509-10674 </td>\n",
       "   <td style=\"text-align:right;\"> 21 </td>\n",
       "   <td style=\"text-align:right;\"> 34 </td>\n",
       "   <td style=\"text-align:right;\"> 35 </td>\n",
       "   <td style=\"text-align:right;\"> 24 </td>\n",
       "   <td style=\"text-align:right;\"> 37 </td>\n",
       "   <td style=\"text-align:right;\"> 36 </td>\n",
       "   <td style=\"text-align:right;\"> 0 </td>\n",
       "   <td style=\"text-align:right;\"> 0 </td>\n",
       "   <td style=\"text-align:right;\"> 2 </td>\n",
       "   <td style=\"text-align:right;\"> 0 </td>\n",
       "  </tr>\n",
       "  <tr>\n",
       "   <td style=\"text-align:left;\"> chr1:41987-42385 </td>\n",
       "   <td style=\"text-align:right;\"> 0 </td>\n",
       "   <td style=\"text-align:right;\"> 0 </td>\n",
       "   <td style=\"text-align:right;\"> 0 </td>\n",
       "   <td style=\"text-align:right;\"> 0 </td>\n",
       "   <td style=\"text-align:right;\"> 0 </td>\n",
       "   <td style=\"text-align:right;\"> 1 </td>\n",
       "   <td style=\"text-align:right;\"> 0 </td>\n",
       "   <td style=\"text-align:right;\"> 0 </td>\n",
       "   <td style=\"text-align:right;\"> 0 </td>\n",
       "   <td style=\"text-align:right;\"> 0 </td>\n",
       "  </tr>\n",
       "  <tr>\n",
       "   <td style=\"text-align:left;\"> chr1:46755-47025 </td>\n",
       "   <td style=\"text-align:right;\"> 0 </td>\n",
       "   <td style=\"text-align:right;\"> 0 </td>\n",
       "   <td style=\"text-align:right;\"> 0 </td>\n",
       "   <td style=\"text-align:right;\"> 1 </td>\n",
       "   <td style=\"text-align:right;\"> 0 </td>\n",
       "   <td style=\"text-align:right;\"> 1 </td>\n",
       "   <td style=\"text-align:right;\"> 0 </td>\n",
       "   <td style=\"text-align:right;\"> 0 </td>\n",
       "   <td style=\"text-align:right;\"> 0 </td>\n",
       "   <td style=\"text-align:right;\"> 0 </td>\n",
       "  </tr>\n",
       "  <tr>\n",
       "   <td style=\"text-align:left;\"> chr1:68969-69964 </td>\n",
       "   <td style=\"text-align:right;\"> 24 </td>\n",
       "   <td style=\"text-align:right;\"> 29 </td>\n",
       "   <td style=\"text-align:right;\"> 20 </td>\n",
       "   <td style=\"text-align:right;\"> 25 </td>\n",
       "   <td style=\"text-align:right;\"> 23 </td>\n",
       "   <td style=\"text-align:right;\"> 19 </td>\n",
       "   <td style=\"text-align:right;\"> 0 </td>\n",
       "   <td style=\"text-align:right;\"> 0 </td>\n",
       "   <td style=\"text-align:right;\"> 0 </td>\n",
       "   <td style=\"text-align:right;\"> 5 </td>\n",
       "  </tr>\n",
       "  <tr>\n",
       "   <td style=\"text-align:left;\"> chr1:78951-79407 </td>\n",
       "   <td style=\"text-align:right;\"> 21 </td>\n",
       "   <td style=\"text-align:right;\"> 30 </td>\n",
       "   <td style=\"text-align:right;\"> 42 </td>\n",
       "   <td style=\"text-align:right;\"> 34 </td>\n",
       "   <td style=\"text-align:right;\"> 35 </td>\n",
       "   <td style=\"text-align:right;\"> 28 </td>\n",
       "   <td style=\"text-align:right;\"> 0 </td>\n",
       "   <td style=\"text-align:right;\"> 5 </td>\n",
       "   <td style=\"text-align:right;\"> 4 </td>\n",
       "   <td style=\"text-align:right;\"> 4 </td>\n",
       "  </tr>\n",
       "  <tr>\n",
       "   <td style=\"text-align:left;\"> chr1:778328-779235 </td>\n",
       "   <td style=\"text-align:right;\"> 7262 </td>\n",
       "   <td style=\"text-align:right;\"> 8508 </td>\n",
       "   <td style=\"text-align:right;\"> 8751 </td>\n",
       "   <td style=\"text-align:right;\"> 8406 </td>\n",
       "   <td style=\"text-align:right;\"> 8362 </td>\n",
       "   <td style=\"text-align:right;\"> 7792 </td>\n",
       "   <td style=\"text-align:right;\"> 2566 </td>\n",
       "   <td style=\"text-align:right;\"> 3646 </td>\n",
       "   <td style=\"text-align:right;\"> 3941 </td>\n",
       "   <td style=\"text-align:right;\"> 7268 </td>\n",
       "  </tr>\n",
       "</tbody>\n",
       "</table>"
      ]
     },
     "metadata": {},
     "output_type": "display_data"
    },
    {
     "name": "stdout",
     "output_type": "stream",
     "text": [
      "==================== \n",
      "Region Folder: encode_open_chromatin \n",
      "Region Label:  atac_ENCFF925CYR \n",
      "[1] 51861    11\n"
     ]
    },
    {
     "data": {
      "text/html": [
       "<table>\n",
       " <thead>\n",
       "  <tr>\n",
       "   <th style=\"text-align:left;\"> Region </th>\n",
       "   <th style=\"text-align:right;\"> Input.rep1 </th>\n",
       "   <th style=\"text-align:right;\"> Input.rep2 </th>\n",
       "   <th style=\"text-align:right;\"> Input.rep3 </th>\n",
       "   <th style=\"text-align:right;\"> Input.rep4 </th>\n",
       "   <th style=\"text-align:right;\"> Input.rep5 </th>\n",
       "   <th style=\"text-align:right;\"> Input.rep6 </th>\n",
       "   <th style=\"text-align:right;\"> Output.rep1 </th>\n",
       "   <th style=\"text-align:right;\"> Output.rep2 </th>\n",
       "   <th style=\"text-align:right;\"> Output.rep3 </th>\n",
       "   <th style=\"text-align:right;\"> Output.rep4 </th>\n",
       "  </tr>\n",
       " </thead>\n",
       "<tbody>\n",
       "  <tr>\n",
       "   <td style=\"text-align:left;\"> chr1:778328-779235 </td>\n",
       "   <td style=\"text-align:right;\"> 7262 </td>\n",
       "   <td style=\"text-align:right;\"> 8508 </td>\n",
       "   <td style=\"text-align:right;\"> 8751 </td>\n",
       "   <td style=\"text-align:right;\"> 8406 </td>\n",
       "   <td style=\"text-align:right;\"> 8362 </td>\n",
       "   <td style=\"text-align:right;\"> 7792 </td>\n",
       "   <td style=\"text-align:right;\"> 2566 </td>\n",
       "   <td style=\"text-align:right;\"> 3646 </td>\n",
       "   <td style=\"text-align:right;\"> 3941 </td>\n",
       "   <td style=\"text-align:right;\"> 7268 </td>\n",
       "  </tr>\n",
       "  <tr>\n",
       "   <td style=\"text-align:left;\"> chr1:817237-818202 </td>\n",
       "   <td style=\"text-align:right;\"> 295 </td>\n",
       "   <td style=\"text-align:right;\"> 405 </td>\n",
       "   <td style=\"text-align:right;\"> 437 </td>\n",
       "   <td style=\"text-align:right;\"> 409 </td>\n",
       "   <td style=\"text-align:right;\"> 385 </td>\n",
       "   <td style=\"text-align:right;\"> 360 </td>\n",
       "   <td style=\"text-align:right;\"> 24 </td>\n",
       "   <td style=\"text-align:right;\"> 57 </td>\n",
       "   <td style=\"text-align:right;\"> 35 </td>\n",
       "   <td style=\"text-align:right;\"> 71 </td>\n",
       "  </tr>\n",
       "  <tr>\n",
       "   <td style=\"text-align:left;\"> chr1:826647-828124 </td>\n",
       "   <td style=\"text-align:right;\"> 4835 </td>\n",
       "   <td style=\"text-align:right;\"> 5959 </td>\n",
       "   <td style=\"text-align:right;\"> 6230 </td>\n",
       "   <td style=\"text-align:right;\"> 5947 </td>\n",
       "   <td style=\"text-align:right;\"> 5845 </td>\n",
       "   <td style=\"text-align:right;\"> 5510 </td>\n",
       "   <td style=\"text-align:right;\"> 766 </td>\n",
       "   <td style=\"text-align:right;\"> 939 </td>\n",
       "   <td style=\"text-align:right;\"> 1086 </td>\n",
       "   <td style=\"text-align:right;\"> 2104 </td>\n",
       "  </tr>\n",
       "  <tr>\n",
       "   <td style=\"text-align:left;\"> chr1:842282-843322 </td>\n",
       "   <td style=\"text-align:right;\"> 1119 </td>\n",
       "   <td style=\"text-align:right;\"> 1395 </td>\n",
       "   <td style=\"text-align:right;\"> 1520 </td>\n",
       "   <td style=\"text-align:right;\"> 1449 </td>\n",
       "   <td style=\"text-align:right;\"> 1372 </td>\n",
       "   <td style=\"text-align:right;\"> 1227 </td>\n",
       "   <td style=\"text-align:right;\"> 162 </td>\n",
       "   <td style=\"text-align:right;\"> 322 </td>\n",
       "   <td style=\"text-align:right;\"> 329 </td>\n",
       "   <td style=\"text-align:right;\"> 459 </td>\n",
       "  </tr>\n",
       "  <tr>\n",
       "   <td style=\"text-align:left;\"> chr1:869581-870256 </td>\n",
       "   <td style=\"text-align:right;\"> 1510 </td>\n",
       "   <td style=\"text-align:right;\"> 1744 </td>\n",
       "   <td style=\"text-align:right;\"> 1818 </td>\n",
       "   <td style=\"text-align:right;\"> 1771 </td>\n",
       "   <td style=\"text-align:right;\"> 1743 </td>\n",
       "   <td style=\"text-align:right;\"> 1639 </td>\n",
       "   <td style=\"text-align:right;\"> 89 </td>\n",
       "   <td style=\"text-align:right;\"> 93 </td>\n",
       "   <td style=\"text-align:right;\"> 136 </td>\n",
       "   <td style=\"text-align:right;\"> 286 </td>\n",
       "  </tr>\n",
       "  <tr>\n",
       "   <td style=\"text-align:left;\"> chr1:898813-899211 </td>\n",
       "   <td style=\"text-align:right;\"> 244 </td>\n",
       "   <td style=\"text-align:right;\"> 276 </td>\n",
       "   <td style=\"text-align:right;\"> 331 </td>\n",
       "   <td style=\"text-align:right;\"> 318 </td>\n",
       "   <td style=\"text-align:right;\"> 285 </td>\n",
       "   <td style=\"text-align:right;\"> 283 </td>\n",
       "   <td style=\"text-align:right;\"> 54 </td>\n",
       "   <td style=\"text-align:right;\"> 68 </td>\n",
       "   <td style=\"text-align:right;\"> 74 </td>\n",
       "   <td style=\"text-align:right;\"> 135 </td>\n",
       "  </tr>\n",
       "</tbody>\n",
       "</table>"
      ]
     },
     "metadata": {},
     "output_type": "display_data"
    },
    {
     "name": "stdout",
     "output_type": "stream",
     "text": [
      "==================== \n",
      "Region Folder: encode_open_chromatin \n",
      "Region Label:  atac_ENCFF333TAT \n",
      "[1] 161693     11\n"
     ]
    },
    {
     "data": {
      "text/html": [
       "<table>\n",
       " <thead>\n",
       "  <tr>\n",
       "   <th style=\"text-align:left;\"> Region </th>\n",
       "   <th style=\"text-align:right;\"> Input.rep1 </th>\n",
       "   <th style=\"text-align:right;\"> Input.rep2 </th>\n",
       "   <th style=\"text-align:right;\"> Input.rep3 </th>\n",
       "   <th style=\"text-align:right;\"> Input.rep4 </th>\n",
       "   <th style=\"text-align:right;\"> Input.rep5 </th>\n",
       "   <th style=\"text-align:right;\"> Input.rep6 </th>\n",
       "   <th style=\"text-align:right;\"> Output.rep1 </th>\n",
       "   <th style=\"text-align:right;\"> Output.rep2 </th>\n",
       "   <th style=\"text-align:right;\"> Output.rep3 </th>\n",
       "   <th style=\"text-align:right;\"> Output.rep4 </th>\n",
       "  </tr>\n",
       " </thead>\n",
       "<tbody>\n",
       "  <tr>\n",
       "   <td style=\"text-align:left;\"> chr1:40649-41403 </td>\n",
       "   <td style=\"text-align:right;\"> 1 </td>\n",
       "   <td style=\"text-align:right;\"> 0 </td>\n",
       "   <td style=\"text-align:right;\"> 2 </td>\n",
       "   <td style=\"text-align:right;\"> 1 </td>\n",
       "   <td style=\"text-align:right;\"> 1 </td>\n",
       "   <td style=\"text-align:right;\"> 1 </td>\n",
       "   <td style=\"text-align:right;\"> 1 </td>\n",
       "   <td style=\"text-align:right;\"> 0 </td>\n",
       "   <td style=\"text-align:right;\"> 0 </td>\n",
       "   <td style=\"text-align:right;\"> 0 </td>\n",
       "  </tr>\n",
       "  <tr>\n",
       "   <td style=\"text-align:left;\"> chr1:41475-41713 </td>\n",
       "   <td style=\"text-align:right;\"> 0 </td>\n",
       "   <td style=\"text-align:right;\"> 0 </td>\n",
       "   <td style=\"text-align:right;\"> 0 </td>\n",
       "   <td style=\"text-align:right;\"> 0 </td>\n",
       "   <td style=\"text-align:right;\"> 0 </td>\n",
       "   <td style=\"text-align:right;\"> 0 </td>\n",
       "   <td style=\"text-align:right;\"> 0 </td>\n",
       "   <td style=\"text-align:right;\"> 0 </td>\n",
       "   <td style=\"text-align:right;\"> 0 </td>\n",
       "   <td style=\"text-align:right;\"> 0 </td>\n",
       "  </tr>\n",
       "  <tr>\n",
       "   <td style=\"text-align:left;\"> chr1:42030-42399 </td>\n",
       "   <td style=\"text-align:right;\"> 0 </td>\n",
       "   <td style=\"text-align:right;\"> 0 </td>\n",
       "   <td style=\"text-align:right;\"> 0 </td>\n",
       "   <td style=\"text-align:right;\"> 0 </td>\n",
       "   <td style=\"text-align:right;\"> 0 </td>\n",
       "   <td style=\"text-align:right;\"> 1 </td>\n",
       "   <td style=\"text-align:right;\"> 0 </td>\n",
       "   <td style=\"text-align:right;\"> 0 </td>\n",
       "   <td style=\"text-align:right;\"> 0 </td>\n",
       "   <td style=\"text-align:right;\"> 0 </td>\n",
       "  </tr>\n",
       "  <tr>\n",
       "   <td style=\"text-align:left;\"> chr1:46255-47025 </td>\n",
       "   <td style=\"text-align:right;\"> 4 </td>\n",
       "   <td style=\"text-align:right;\"> 4 </td>\n",
       "   <td style=\"text-align:right;\"> 4 </td>\n",
       "   <td style=\"text-align:right;\"> 4 </td>\n",
       "   <td style=\"text-align:right;\"> 3 </td>\n",
       "   <td style=\"text-align:right;\"> 3 </td>\n",
       "   <td style=\"text-align:right;\"> 0 </td>\n",
       "   <td style=\"text-align:right;\"> 0 </td>\n",
       "   <td style=\"text-align:right;\"> 0 </td>\n",
       "   <td style=\"text-align:right;\"> 0 </td>\n",
       "  </tr>\n",
       "  <tr>\n",
       "   <td style=\"text-align:left;\"> chr1:67629-67864 </td>\n",
       "   <td style=\"text-align:right;\"> 0 </td>\n",
       "   <td style=\"text-align:right;\"> 0 </td>\n",
       "   <td style=\"text-align:right;\"> 1 </td>\n",
       "   <td style=\"text-align:right;\"> 0 </td>\n",
       "   <td style=\"text-align:right;\"> 0 </td>\n",
       "   <td style=\"text-align:right;\"> 0 </td>\n",
       "   <td style=\"text-align:right;\"> 0 </td>\n",
       "   <td style=\"text-align:right;\"> 0 </td>\n",
       "   <td style=\"text-align:right;\"> 0 </td>\n",
       "   <td style=\"text-align:right;\"> 0 </td>\n",
       "  </tr>\n",
       "  <tr>\n",
       "   <td style=\"text-align:left;\"> chr1:68056-68341 </td>\n",
       "   <td style=\"text-align:right;\"> 1 </td>\n",
       "   <td style=\"text-align:right;\"> 2 </td>\n",
       "   <td style=\"text-align:right;\"> 2 </td>\n",
       "   <td style=\"text-align:right;\"> 0 </td>\n",
       "   <td style=\"text-align:right;\"> 1 </td>\n",
       "   <td style=\"text-align:right;\"> 1 </td>\n",
       "   <td style=\"text-align:right;\"> 0 </td>\n",
       "   <td style=\"text-align:right;\"> 0 </td>\n",
       "   <td style=\"text-align:right;\"> 0 </td>\n",
       "   <td style=\"text-align:right;\"> 3 </td>\n",
       "  </tr>\n",
       "</tbody>\n",
       "</table>"
      ]
     },
     "metadata": {},
     "output_type": "display_data"
    },
    {
     "name": "stdout",
     "output_type": "stream",
     "text": [
      "==================== \n",
      "Region Folder: encode_open_chromatin \n",
      "Region Label:  atac_ENCFF948AFM \n",
      "[1] 90015    11\n"
     ]
    },
    {
     "data": {
      "text/html": [
       "<table>\n",
       " <thead>\n",
       "  <tr>\n",
       "   <th style=\"text-align:left;\"> Region </th>\n",
       "   <th style=\"text-align:right;\"> Input.rep1 </th>\n",
       "   <th style=\"text-align:right;\"> Input.rep2 </th>\n",
       "   <th style=\"text-align:right;\"> Input.rep3 </th>\n",
       "   <th style=\"text-align:right;\"> Input.rep4 </th>\n",
       "   <th style=\"text-align:right;\"> Input.rep5 </th>\n",
       "   <th style=\"text-align:right;\"> Input.rep6 </th>\n",
       "   <th style=\"text-align:right;\"> Output.rep1 </th>\n",
       "   <th style=\"text-align:right;\"> Output.rep2 </th>\n",
       "   <th style=\"text-align:right;\"> Output.rep3 </th>\n",
       "   <th style=\"text-align:right;\"> Output.rep4 </th>\n",
       "  </tr>\n",
       " </thead>\n",
       "<tbody>\n",
       "  <tr>\n",
       "   <td style=\"text-align:left;\"> chr1:42030-42399 </td>\n",
       "   <td style=\"text-align:right;\"> 0 </td>\n",
       "   <td style=\"text-align:right;\"> 0 </td>\n",
       "   <td style=\"text-align:right;\"> 0 </td>\n",
       "   <td style=\"text-align:right;\"> 0 </td>\n",
       "   <td style=\"text-align:right;\"> 0 </td>\n",
       "   <td style=\"text-align:right;\"> 1 </td>\n",
       "   <td style=\"text-align:right;\"> 0 </td>\n",
       "   <td style=\"text-align:right;\"> 0 </td>\n",
       "   <td style=\"text-align:right;\"> 0 </td>\n",
       "   <td style=\"text-align:right;\"> 0 </td>\n",
       "  </tr>\n",
       "  <tr>\n",
       "   <td style=\"text-align:left;\"> chr1:68963-70035 </td>\n",
       "   <td style=\"text-align:right;\"> 24 </td>\n",
       "   <td style=\"text-align:right;\"> 29 </td>\n",
       "   <td style=\"text-align:right;\"> 20 </td>\n",
       "   <td style=\"text-align:right;\"> 25 </td>\n",
       "   <td style=\"text-align:right;\"> 23 </td>\n",
       "   <td style=\"text-align:right;\"> 19 </td>\n",
       "   <td style=\"text-align:right;\"> 0 </td>\n",
       "   <td style=\"text-align:right;\"> 0 </td>\n",
       "   <td style=\"text-align:right;\"> 0 </td>\n",
       "   <td style=\"text-align:right;\"> 5 </td>\n",
       "  </tr>\n",
       "  <tr>\n",
       "   <td style=\"text-align:left;\"> chr1:79151-79653 </td>\n",
       "   <td style=\"text-align:right;\"> 24 </td>\n",
       "   <td style=\"text-align:right;\"> 30 </td>\n",
       "   <td style=\"text-align:right;\"> 43 </td>\n",
       "   <td style=\"text-align:right;\"> 33 </td>\n",
       "   <td style=\"text-align:right;\"> 32 </td>\n",
       "   <td style=\"text-align:right;\"> 38 </td>\n",
       "   <td style=\"text-align:right;\"> 0 </td>\n",
       "   <td style=\"text-align:right;\"> 9 </td>\n",
       "   <td style=\"text-align:right;\"> 11 </td>\n",
       "   <td style=\"text-align:right;\"> 3 </td>\n",
       "  </tr>\n",
       "  <tr>\n",
       "   <td style=\"text-align:left;\"> chr1:778339-779268 </td>\n",
       "   <td style=\"text-align:right;\"> 7304 </td>\n",
       "   <td style=\"text-align:right;\"> 8576 </td>\n",
       "   <td style=\"text-align:right;\"> 8809 </td>\n",
       "   <td style=\"text-align:right;\"> 8458 </td>\n",
       "   <td style=\"text-align:right;\"> 8425 </td>\n",
       "   <td style=\"text-align:right;\"> 7842 </td>\n",
       "   <td style=\"text-align:right;\"> 2569 </td>\n",
       "   <td style=\"text-align:right;\"> 3656 </td>\n",
       "   <td style=\"text-align:right;\"> 3967 </td>\n",
       "   <td style=\"text-align:right;\"> 7288 </td>\n",
       "  </tr>\n",
       "  <tr>\n",
       "   <td style=\"text-align:left;\"> chr1:804424-805054 </td>\n",
       "   <td style=\"text-align:right;\"> 94 </td>\n",
       "   <td style=\"text-align:right;\"> 127 </td>\n",
       "   <td style=\"text-align:right;\"> 133 </td>\n",
       "   <td style=\"text-align:right;\"> 115 </td>\n",
       "   <td style=\"text-align:right;\"> 127 </td>\n",
       "   <td style=\"text-align:right;\"> 107 </td>\n",
       "   <td style=\"text-align:right;\"> 12 </td>\n",
       "   <td style=\"text-align:right;\"> 19 </td>\n",
       "   <td style=\"text-align:right;\"> 18 </td>\n",
       "   <td style=\"text-align:right;\"> 38 </td>\n",
       "  </tr>\n",
       "  <tr>\n",
       "   <td style=\"text-align:left;\"> chr1:811420-811854 </td>\n",
       "   <td style=\"text-align:right;\"> 59 </td>\n",
       "   <td style=\"text-align:right;\"> 80 </td>\n",
       "   <td style=\"text-align:right;\"> 108 </td>\n",
       "   <td style=\"text-align:right;\"> 92 </td>\n",
       "   <td style=\"text-align:right;\"> 82 </td>\n",
       "   <td style=\"text-align:right;\"> 83 </td>\n",
       "   <td style=\"text-align:right;\"> 10 </td>\n",
       "   <td style=\"text-align:right;\"> 9 </td>\n",
       "   <td style=\"text-align:right;\"> 7 </td>\n",
       "   <td style=\"text-align:right;\"> 7 </td>\n",
       "  </tr>\n",
       "</tbody>\n",
       "</table>"
      ]
     },
     "metadata": {},
     "output_type": "display_data"
    },
    {
     "name": "stdout",
     "output_type": "stream",
     "text": [
      "==================== \n",
      "Region Folder: fcc_astarr_macs \n",
      "Region Label:  astarr_macs_input_overlap \n",
      "[1] 150529     11\n"
     ]
    },
    {
     "data": {
      "text/html": [
       "<table>\n",
       " <thead>\n",
       "  <tr>\n",
       "   <th style=\"text-align:left;\"> Region </th>\n",
       "   <th style=\"text-align:right;\"> Input.rep1 </th>\n",
       "   <th style=\"text-align:right;\"> Input.rep2 </th>\n",
       "   <th style=\"text-align:right;\"> Input.rep3 </th>\n",
       "   <th style=\"text-align:right;\"> Input.rep4 </th>\n",
       "   <th style=\"text-align:right;\"> Input.rep5 </th>\n",
       "   <th style=\"text-align:right;\"> Input.rep6 </th>\n",
       "   <th style=\"text-align:right;\"> Output.rep1 </th>\n",
       "   <th style=\"text-align:right;\"> Output.rep2 </th>\n",
       "   <th style=\"text-align:right;\"> Output.rep3 </th>\n",
       "   <th style=\"text-align:right;\"> Output.rep4 </th>\n",
       "  </tr>\n",
       " </thead>\n",
       "<tbody>\n",
       "  <tr>\n",
       "   <td style=\"text-align:left;\"> chr1:10038-10405 </td>\n",
       "   <td style=\"text-align:right;\"> 145 </td>\n",
       "   <td style=\"text-align:right;\"> 207 </td>\n",
       "   <td style=\"text-align:right;\"> 244 </td>\n",
       "   <td style=\"text-align:right;\"> 229 </td>\n",
       "   <td style=\"text-align:right;\"> 178 </td>\n",
       "   <td style=\"text-align:right;\"> 206 </td>\n",
       "   <td style=\"text-align:right;\"> 5 </td>\n",
       "   <td style=\"text-align:right;\"> 12 </td>\n",
       "   <td style=\"text-align:right;\"> 4 </td>\n",
       "   <td style=\"text-align:right;\"> 10 </td>\n",
       "  </tr>\n",
       "  <tr>\n",
       "   <td style=\"text-align:left;\"> chr1:14282-14614 </td>\n",
       "   <td style=\"text-align:right;\"> 106 </td>\n",
       "   <td style=\"text-align:right;\"> 139 </td>\n",
       "   <td style=\"text-align:right;\"> 153 </td>\n",
       "   <td style=\"text-align:right;\"> 137 </td>\n",
       "   <td style=\"text-align:right;\"> 123 </td>\n",
       "   <td style=\"text-align:right;\"> 128 </td>\n",
       "   <td style=\"text-align:right;\"> 8 </td>\n",
       "   <td style=\"text-align:right;\"> 23 </td>\n",
       "   <td style=\"text-align:right;\"> 26 </td>\n",
       "   <td style=\"text-align:right;\"> 41 </td>\n",
       "  </tr>\n",
       "  <tr>\n",
       "   <td style=\"text-align:left;\"> chr1:16025-16338 </td>\n",
       "   <td style=\"text-align:right;\"> 124 </td>\n",
       "   <td style=\"text-align:right;\"> 189 </td>\n",
       "   <td style=\"text-align:right;\"> 175 </td>\n",
       "   <td style=\"text-align:right;\"> 170 </td>\n",
       "   <td style=\"text-align:right;\"> 178 </td>\n",
       "   <td style=\"text-align:right;\"> 164 </td>\n",
       "   <td style=\"text-align:right;\"> 8 </td>\n",
       "   <td style=\"text-align:right;\"> 7 </td>\n",
       "   <td style=\"text-align:right;\"> 15 </td>\n",
       "   <td style=\"text-align:right;\"> 18 </td>\n",
       "  </tr>\n",
       "  <tr>\n",
       "   <td style=\"text-align:left;\"> chr1:17288-17689 </td>\n",
       "   <td style=\"text-align:right;\"> 259 </td>\n",
       "   <td style=\"text-align:right;\"> 350 </td>\n",
       "   <td style=\"text-align:right;\"> 400 </td>\n",
       "   <td style=\"text-align:right;\"> 367 </td>\n",
       "   <td style=\"text-align:right;\"> 369 </td>\n",
       "   <td style=\"text-align:right;\"> 331 </td>\n",
       "   <td style=\"text-align:right;\"> 7 </td>\n",
       "   <td style=\"text-align:right;\"> 13 </td>\n",
       "   <td style=\"text-align:right;\"> 23 </td>\n",
       "   <td style=\"text-align:right;\"> 59 </td>\n",
       "  </tr>\n",
       "  <tr>\n",
       "   <td style=\"text-align:left;\"> chr1:28934-29499 </td>\n",
       "   <td style=\"text-align:right;\"> 258 </td>\n",
       "   <td style=\"text-align:right;\"> 324 </td>\n",
       "   <td style=\"text-align:right;\"> 349 </td>\n",
       "   <td style=\"text-align:right;\"> 324 </td>\n",
       "   <td style=\"text-align:right;\"> 346 </td>\n",
       "   <td style=\"text-align:right;\"> 310 </td>\n",
       "   <td style=\"text-align:right;\"> 8 </td>\n",
       "   <td style=\"text-align:right;\"> 11 </td>\n",
       "   <td style=\"text-align:right;\"> 3 </td>\n",
       "   <td style=\"text-align:right;\"> 26 </td>\n",
       "  </tr>\n",
       "  <tr>\n",
       "   <td style=\"text-align:left;\"> chr1:115429-115969 </td>\n",
       "   <td style=\"text-align:right;\"> 950 </td>\n",
       "   <td style=\"text-align:right;\"> 1174 </td>\n",
       "   <td style=\"text-align:right;\"> 1276 </td>\n",
       "   <td style=\"text-align:right;\"> 1151 </td>\n",
       "   <td style=\"text-align:right;\"> 1179 </td>\n",
       "   <td style=\"text-align:right;\"> 1054 </td>\n",
       "   <td style=\"text-align:right;\"> 234 </td>\n",
       "   <td style=\"text-align:right;\"> 443 </td>\n",
       "   <td style=\"text-align:right;\"> 469 </td>\n",
       "   <td style=\"text-align:right;\"> 752 </td>\n",
       "  </tr>\n",
       "</tbody>\n",
       "</table>"
      ]
     },
     "metadata": {},
     "output_type": "display_data"
    },
    {
     "name": "stdout",
     "output_type": "stream",
     "text": [
      "==================== \n",
      "Region Folder: fcc_astarr_macs \n",
      "Region Label:  astarr_macs_input_union \n",
      "[1] 247520     11\n"
     ]
    },
    {
     "data": {
      "text/html": [
       "<table>\n",
       " <thead>\n",
       "  <tr>\n",
       "   <th style=\"text-align:left;\"> Region </th>\n",
       "   <th style=\"text-align:right;\"> Input.rep1 </th>\n",
       "   <th style=\"text-align:right;\"> Input.rep2 </th>\n",
       "   <th style=\"text-align:right;\"> Input.rep3 </th>\n",
       "   <th style=\"text-align:right;\"> Input.rep4 </th>\n",
       "   <th style=\"text-align:right;\"> Input.rep5 </th>\n",
       "   <th style=\"text-align:right;\"> Input.rep6 </th>\n",
       "   <th style=\"text-align:right;\"> Output.rep1 </th>\n",
       "   <th style=\"text-align:right;\"> Output.rep2 </th>\n",
       "   <th style=\"text-align:right;\"> Output.rep3 </th>\n",
       "   <th style=\"text-align:right;\"> Output.rep4 </th>\n",
       "  </tr>\n",
       " </thead>\n",
       "<tbody>\n",
       "  <tr>\n",
       "   <td style=\"text-align:left;\"> chr1:10015-10442 </td>\n",
       "   <td style=\"text-align:right;\"> 155 </td>\n",
       "   <td style=\"text-align:right;\"> 214 </td>\n",
       "   <td style=\"text-align:right;\"> 257 </td>\n",
       "   <td style=\"text-align:right;\"> 236 </td>\n",
       "   <td style=\"text-align:right;\"> 185 </td>\n",
       "   <td style=\"text-align:right;\"> 214 </td>\n",
       "   <td style=\"text-align:right;\"> 7 </td>\n",
       "   <td style=\"text-align:right;\"> 12 </td>\n",
       "   <td style=\"text-align:right;\"> 4 </td>\n",
       "   <td style=\"text-align:right;\"> 11 </td>\n",
       "  </tr>\n",
       "  <tr>\n",
       "   <td style=\"text-align:left;\"> chr1:14253-14645 </td>\n",
       "   <td style=\"text-align:right;\"> 110 </td>\n",
       "   <td style=\"text-align:right;\"> 144 </td>\n",
       "   <td style=\"text-align:right;\"> 160 </td>\n",
       "   <td style=\"text-align:right;\"> 141 </td>\n",
       "   <td style=\"text-align:right;\"> 130 </td>\n",
       "   <td style=\"text-align:right;\"> 130 </td>\n",
       "   <td style=\"text-align:right;\"> 8 </td>\n",
       "   <td style=\"text-align:right;\"> 26 </td>\n",
       "   <td style=\"text-align:right;\"> 30 </td>\n",
       "   <td style=\"text-align:right;\"> 57 </td>\n",
       "  </tr>\n",
       "  <tr>\n",
       "   <td style=\"text-align:left;\"> chr1:16015-16477 </td>\n",
       "   <td style=\"text-align:right;\"> 141 </td>\n",
       "   <td style=\"text-align:right;\"> 208 </td>\n",
       "   <td style=\"text-align:right;\"> 206 </td>\n",
       "   <td style=\"text-align:right;\"> 190 </td>\n",
       "   <td style=\"text-align:right;\"> 202 </td>\n",
       "   <td style=\"text-align:right;\"> 182 </td>\n",
       "   <td style=\"text-align:right;\"> 9 </td>\n",
       "   <td style=\"text-align:right;\"> 9 </td>\n",
       "   <td style=\"text-align:right;\"> 18 </td>\n",
       "   <td style=\"text-align:right;\"> 23 </td>\n",
       "  </tr>\n",
       "  <tr>\n",
       "   <td style=\"text-align:left;\"> chr1:17237-17772 </td>\n",
       "   <td style=\"text-align:right;\"> 259 </td>\n",
       "   <td style=\"text-align:right;\"> 350 </td>\n",
       "   <td style=\"text-align:right;\"> 399 </td>\n",
       "   <td style=\"text-align:right;\"> 367 </td>\n",
       "   <td style=\"text-align:right;\"> 369 </td>\n",
       "   <td style=\"text-align:right;\"> 331 </td>\n",
       "   <td style=\"text-align:right;\"> 7 </td>\n",
       "   <td style=\"text-align:right;\"> 13 </td>\n",
       "   <td style=\"text-align:right;\"> 23 </td>\n",
       "   <td style=\"text-align:right;\"> 59 </td>\n",
       "  </tr>\n",
       "  <tr>\n",
       "   <td style=\"text-align:left;\"> chr1:28903-29613 </td>\n",
       "   <td style=\"text-align:right;\"> 263 </td>\n",
       "   <td style=\"text-align:right;\"> 338 </td>\n",
       "   <td style=\"text-align:right;\"> 368 </td>\n",
       "   <td style=\"text-align:right;\"> 333 </td>\n",
       "   <td style=\"text-align:right;\"> 352 </td>\n",
       "   <td style=\"text-align:right;\"> 317 </td>\n",
       "   <td style=\"text-align:right;\"> 12 </td>\n",
       "   <td style=\"text-align:right;\"> 18 </td>\n",
       "   <td style=\"text-align:right;\"> 3 </td>\n",
       "   <td style=\"text-align:right;\"> 32 </td>\n",
       "  </tr>\n",
       "  <tr>\n",
       "   <td style=\"text-align:left;\"> chr1:30803-31072 </td>\n",
       "   <td style=\"text-align:right;\"> 82 </td>\n",
       "   <td style=\"text-align:right;\"> 115 </td>\n",
       "   <td style=\"text-align:right;\"> 171 </td>\n",
       "   <td style=\"text-align:right;\"> 136 </td>\n",
       "   <td style=\"text-align:right;\"> 105 </td>\n",
       "   <td style=\"text-align:right;\"> 115 </td>\n",
       "   <td style=\"text-align:right;\"> 13 </td>\n",
       "   <td style=\"text-align:right;\"> 22 </td>\n",
       "   <td style=\"text-align:right;\"> 14 </td>\n",
       "   <td style=\"text-align:right;\"> 33 </td>\n",
       "  </tr>\n",
       "</tbody>\n",
       "</table>"
      ]
     },
     "metadata": {},
     "output_type": "display_data"
    }
   ],
   "source": [
    "###\n",
    "#lst_region = lst_metadata_region[\"fcc_astarr_macs\"]\n",
    "#lst_region = list(\"fcc_astarr_macs\" = \"astarr_macs_input_union\")\n",
    "lst_region = lst_metadata_region\n",
    "dat_meta   = dat_metadata_astarr\n",
    "\n",
    "for (txt_folder in names(lst_region)){\n",
    "    \n",
    "    ###\n",
    "    vec_txt_label = lst_region[[txt_folder]]\n",
    "\n",
    "    ###\n",
    "    for (txt_label in vec_txt_label){\n",
    "        \n",
    "        ###\n",
    "        cat(\"====================\", \"\\n\")\n",
    "        cat(\"Region Folder:\", txt_folder, \"\\n\")\n",
    "        cat(\"Region Label: \", txt_label,  \"\\n\")\n",
    "        flush.console()\n",
    "        \n",
    "        ###\n",
    "        txt_fdiry = file.path(FD_RES, \"assay_fcc\", TXT_ASSAY, \"coverage\", txt_folder, txt_label, \"summary\")\n",
    "        txt_fname = \"matrix.raw.count.WGS.tsv\"\n",
    "        txt_fpath = file.path(txt_fdiry, txt_fname)\n",
    "\n",
    "        dat = read_tsv(txt_fpath, show_col_types = FALSE)\n",
    "        print(dim(dat))\n",
    "        flush.console()\n",
    "        \n",
    "        ###\n",
    "        fun_display_table(head(dat))\n",
    "        flush.console()\n",
    "    }\n",
    "}"
   ]
  },
  {
   "cell_type": "code",
   "execution_count": null,
   "id": "386e5db9-2696-415e-ade6-11139e40c63a",
   "metadata": {},
   "outputs": [],
   "source": []
  },
  {
   "cell_type": "code",
   "execution_count": 11,
   "id": "c53be3bf-8475-46df-b7e2-c9ba72bea754",
   "metadata": {},
   "outputs": [],
   "source": [
    "dat_meta = dat_metadata_astarr\n",
    "\n",
    "\n",
    "dat_col = dat_meta  %>% \n",
    "    dplyr::select(Sample, Group) %>% \n",
    "    dplyr::rename(condition = Group) %>%\n",
    "    column_to_rownames(var = \"Sample\")\n",
    "\n",
    "dat_cnt = dat %>% \n",
    "    column_to_rownames(var = \"Region\")"
   ]
  },
  {
   "cell_type": "code",
   "execution_count": 12,
   "id": "30312f96-c191-43e8-9339-43caad20fb77",
   "metadata": {},
   "outputs": [
    {
     "data": {
      "text/html": [
       "<table class=\"dataframe\">\n",
       "<caption>A data.frame: 6 × 10</caption>\n",
       "<thead>\n",
       "\t<tr><th></th><th scope=col>Input.rep1</th><th scope=col>Input.rep2</th><th scope=col>Input.rep3</th><th scope=col>Input.rep4</th><th scope=col>Input.rep5</th><th scope=col>Input.rep6</th><th scope=col>Output.rep1</th><th scope=col>Output.rep2</th><th scope=col>Output.rep3</th><th scope=col>Output.rep4</th></tr>\n",
       "\t<tr><th></th><th scope=col>&lt;dbl&gt;</th><th scope=col>&lt;dbl&gt;</th><th scope=col>&lt;dbl&gt;</th><th scope=col>&lt;dbl&gt;</th><th scope=col>&lt;dbl&gt;</th><th scope=col>&lt;dbl&gt;</th><th scope=col>&lt;dbl&gt;</th><th scope=col>&lt;dbl&gt;</th><th scope=col>&lt;dbl&gt;</th><th scope=col>&lt;dbl&gt;</th></tr>\n",
       "</thead>\n",
       "<tbody>\n",
       "\t<tr><th scope=row>chr1:100006256-100006880</th><td>121</td><td>176</td><td>180</td><td>155</td><td>147</td><td>152</td><td>10</td><td> 32</td><td> 24</td><td> 51</td></tr>\n",
       "\t<tr><th scope=row>chr1:100010437-100010915</th><td>103</td><td>122</td><td>125</td><td>146</td><td>123</td><td>119</td><td> 2</td><td>  9</td><td> 15</td><td> 28</td></tr>\n",
       "\t<tr><th scope=row>chr1:10002087-10003910</th><td>399</td><td>561</td><td>538</td><td>546</td><td>536</td><td>458</td><td>28</td><td> 77</td><td> 70</td><td>127</td></tr>\n",
       "\t<tr><th scope=row>chr1:100021298-100021629</th><td> 79</td><td>106</td><td>121</td><td>106</td><td> 96</td><td> 92</td><td> 2</td><td>  7</td><td> 12</td><td> 16</td></tr>\n",
       "\t<tr><th scope=row>chr1:100023727-100023976</th><td> 48</td><td> 72</td><td> 72</td><td> 68</td><td> 79</td><td> 57</td><td>11</td><td> 11</td><td>  7</td><td> 14</td></tr>\n",
       "\t<tr><th scope=row>chr1:100027983-100029702</th><td>480</td><td>611</td><td>744</td><td>697</td><td>676</td><td>573</td><td>37</td><td>108</td><td>110</td><td>165</td></tr>\n",
       "</tbody>\n",
       "</table>\n"
      ],
      "text/latex": [
       "A data.frame: 6 × 10\n",
       "\\begin{tabular}{r|llllllllll}\n",
       "  & Input.rep1 & Input.rep2 & Input.rep3 & Input.rep4 & Input.rep5 & Input.rep6 & Output.rep1 & Output.rep2 & Output.rep3 & Output.rep4\\\\\n",
       "  & <dbl> & <dbl> & <dbl> & <dbl> & <dbl> & <dbl> & <dbl> & <dbl> & <dbl> & <dbl>\\\\\n",
       "\\hline\n",
       "\tchr1:100006256-100006880 & 121 & 176 & 180 & 155 & 147 & 152 & 10 &  32 &  24 &  51\\\\\n",
       "\tchr1:100010437-100010915 & 103 & 122 & 125 & 146 & 123 & 119 &  2 &   9 &  15 &  28\\\\\n",
       "\tchr1:10002087-10003910 & 399 & 561 & 538 & 546 & 536 & 458 & 28 &  77 &  70 & 127\\\\\n",
       "\tchr1:100021298-100021629 &  79 & 106 & 121 & 106 &  96 &  92 &  2 &   7 &  12 &  16\\\\\n",
       "\tchr1:100023727-100023976 &  48 &  72 &  72 &  68 &  79 &  57 & 11 &  11 &   7 &  14\\\\\n",
       "\tchr1:100027983-100029702 & 480 & 611 & 744 & 697 & 676 & 573 & 37 & 108 & 110 & 165\\\\\n",
       "\\end{tabular}\n"
      ],
      "text/markdown": [
       "\n",
       "A data.frame: 6 × 10\n",
       "\n",
       "| <!--/--> | Input.rep1 &lt;dbl&gt; | Input.rep2 &lt;dbl&gt; | Input.rep3 &lt;dbl&gt; | Input.rep4 &lt;dbl&gt; | Input.rep5 &lt;dbl&gt; | Input.rep6 &lt;dbl&gt; | Output.rep1 &lt;dbl&gt; | Output.rep2 &lt;dbl&gt; | Output.rep3 &lt;dbl&gt; | Output.rep4 &lt;dbl&gt; |\n",
       "|---|---|---|---|---|---|---|---|---|---|---|\n",
       "| chr1:100006256-100006880 | 121 | 176 | 180 | 155 | 147 | 152 | 10 |  32 |  24 |  51 |\n",
       "| chr1:100010437-100010915 | 103 | 122 | 125 | 146 | 123 | 119 |  2 |   9 |  15 |  28 |\n",
       "| chr1:10002087-10003910 | 399 | 561 | 538 | 546 | 536 | 458 | 28 |  77 |  70 | 127 |\n",
       "| chr1:100021298-100021629 |  79 | 106 | 121 | 106 |  96 |  92 |  2 |   7 |  12 |  16 |\n",
       "| chr1:100023727-100023976 |  48 |  72 |  72 |  68 |  79 |  57 | 11 |  11 |   7 |  14 |\n",
       "| chr1:100027983-100029702 | 480 | 611 | 744 | 697 | 676 | 573 | 37 | 108 | 110 | 165 |\n",
       "\n"
      ],
      "text/plain": [
       "                         Input.rep1 Input.rep2 Input.rep3 Input.rep4 Input.rep5\n",
       "chr1:100006256-100006880 121        176        180        155        147       \n",
       "chr1:100010437-100010915 103        122        125        146        123       \n",
       "chr1:10002087-10003910   399        561        538        546        536       \n",
       "chr1:100021298-100021629  79        106        121        106         96       \n",
       "chr1:100023727-100023976  48         72         72         68         79       \n",
       "chr1:100027983-100029702 480        611        744        697        676       \n",
       "                         Input.rep6 Output.rep1 Output.rep2 Output.rep3\n",
       "chr1:100006256-100006880 152        10           32          24        \n",
       "chr1:100010437-100010915 119         2            9          15        \n",
       "chr1:10002087-10003910   458        28           77          70        \n",
       "chr1:100021298-100021629  92         2            7          12        \n",
       "chr1:100023727-100023976  57        11           11           7        \n",
       "chr1:100027983-100029702 573        37          108         110        \n",
       "                         Output.rep4\n",
       "chr1:100006256-100006880  51        \n",
       "chr1:100010437-100010915  28        \n",
       "chr1:10002087-10003910   127        \n",
       "chr1:100021298-100021629  16        \n",
       "chr1:100023727-100023976  14        \n",
       "chr1:100027983-100029702 165        "
      ]
     },
     "metadata": {},
     "output_type": "display_data"
    }
   ],
   "source": [
    "idx = c(\n",
    "    \"chr1:100006256-100006880\", \n",
    "    \"chr1:100010437-100010915\", \n",
    "    \"chr1:10002087-10003910\",\n",
    "    \"chr1:100021298-100021629\",\n",
    "    \"chr1:100023727-100023976\",\n",
    "    \"chr1:100027983-100029702\"\n",
    ")\n",
    "head(dat_cnt[idx,])"
   ]
  },
  {
   "cell_type": "code",
   "execution_count": 13,
   "id": "e1690475-3ce0-47e4-94ec-9f95839b69f2",
   "metadata": {},
   "outputs": [
    {
     "data": {
      "text/html": [
       "<table class=\"dataframe\">\n",
       "<caption>A data.frame: 10 × 1</caption>\n",
       "<thead>\n",
       "\t<tr><th></th><th scope=col>condition</th></tr>\n",
       "\t<tr><th></th><th scope=col>&lt;chr&gt;</th></tr>\n",
       "</thead>\n",
       "<tbody>\n",
       "\t<tr><th scope=row>Input.rep1</th><td>Input </td></tr>\n",
       "\t<tr><th scope=row>Input.rep2</th><td>Input </td></tr>\n",
       "\t<tr><th scope=row>Input.rep3</th><td>Input </td></tr>\n",
       "\t<tr><th scope=row>Input.rep4</th><td>Input </td></tr>\n",
       "\t<tr><th scope=row>Input.rep5</th><td>Input </td></tr>\n",
       "\t<tr><th scope=row>Input.rep6</th><td>Input </td></tr>\n",
       "\t<tr><th scope=row>Output.rep1</th><td>Output</td></tr>\n",
       "\t<tr><th scope=row>Output.rep2</th><td>Output</td></tr>\n",
       "\t<tr><th scope=row>Output.rep3</th><td>Output</td></tr>\n",
       "\t<tr><th scope=row>Output.rep4</th><td>Output</td></tr>\n",
       "</tbody>\n",
       "</table>\n"
      ],
      "text/latex": [
       "A data.frame: 10 × 1\n",
       "\\begin{tabular}{r|l}\n",
       "  & condition\\\\\n",
       "  & <chr>\\\\\n",
       "\\hline\n",
       "\tInput.rep1 & Input \\\\\n",
       "\tInput.rep2 & Input \\\\\n",
       "\tInput.rep3 & Input \\\\\n",
       "\tInput.rep4 & Input \\\\\n",
       "\tInput.rep5 & Input \\\\\n",
       "\tInput.rep6 & Input \\\\\n",
       "\tOutput.rep1 & Output\\\\\n",
       "\tOutput.rep2 & Output\\\\\n",
       "\tOutput.rep3 & Output\\\\\n",
       "\tOutput.rep4 & Output\\\\\n",
       "\\end{tabular}\n"
      ],
      "text/markdown": [
       "\n",
       "A data.frame: 10 × 1\n",
       "\n",
       "| <!--/--> | condition &lt;chr&gt; |\n",
       "|---|---|\n",
       "| Input.rep1 | Input  |\n",
       "| Input.rep2 | Input  |\n",
       "| Input.rep3 | Input  |\n",
       "| Input.rep4 | Input  |\n",
       "| Input.rep5 | Input  |\n",
       "| Input.rep6 | Input  |\n",
       "| Output.rep1 | Output |\n",
       "| Output.rep2 | Output |\n",
       "| Output.rep3 | Output |\n",
       "| Output.rep4 | Output |\n",
       "\n"
      ],
      "text/plain": [
       "            condition\n",
       "Input.rep1  Input    \n",
       "Input.rep2  Input    \n",
       "Input.rep3  Input    \n",
       "Input.rep4  Input    \n",
       "Input.rep5  Input    \n",
       "Input.rep6  Input    \n",
       "Output.rep1 Output   \n",
       "Output.rep2 Output   \n",
       "Output.rep3 Output   \n",
       "Output.rep4 Output   "
      ]
     },
     "metadata": {},
     "output_type": "display_data"
    }
   ],
   "source": [
    "dat_col"
   ]
  },
  {
   "cell_type": "code",
   "execution_count": 14,
   "id": "e86c1dd5-3772-484c-bf0d-d35b60c83ad3",
   "metadata": {},
   "outputs": [
    {
     "name": "stdout",
     "output_type": "stream",
     "text": [
      "[1] TRUE\n",
      "[1] TRUE\n"
     ]
    }
   ],
   "source": [
    "print(all(rownames(dat_col) %in% colnames(dat_cnt)))\n",
    "print(all(rownames(dat_col) ==   colnames(dat_cnt)))"
   ]
  },
  {
   "cell_type": "code",
   "execution_count": 15,
   "id": "577aedc1-0de5-46d4-bf81-682b6086d703",
   "metadata": {},
   "outputs": [
    {
     "name": "stderr",
     "output_type": "stream",
     "text": [
      "converting counts to integer mode\n",
      "\n",
      "Warning message in DESeqDataSet(se, design = design, ignoreRank):\n",
      "“some variables in design formula are characters, converting to factors”\n"
     ]
    }
   ],
   "source": [
    "dds = DESeqDataSetFromMatrix(\n",
    "    countData = dat_cnt, \n",
    "    colData   = dat_col, \n",
    "    design    = ~condition)\n",
    "\n",
    "### set control condition as reference\n",
    "dds$condition <- relevel(dds$condition, ref = \"Input\")"
   ]
  },
  {
   "cell_type": "code",
   "execution_count": 16,
   "id": "8ac56f15-d92f-4e0b-a21c-7f354bf6c26c",
   "metadata": {},
   "outputs": [
    {
     "name": "stderr",
     "output_type": "stream",
     "text": [
      "estimating size factors\n",
      "\n",
      "estimating dispersions\n",
      "\n",
      "gene-wise dispersion estimates\n",
      "\n",
      "mean-dispersion relationship\n",
      "\n",
      "final dispersion estimates\n",
      "\n",
      "fitting model and testing\n",
      "\n"
     ]
    }
   ],
   "source": [
    "### run DESeq2\n",
    "dds = DESeq(dds)"
   ]
  },
  {
   "cell_type": "code",
   "execution_count": 17,
   "id": "05c155de-ba97-4761-be95-70766585282c",
   "metadata": {},
   "outputs": [
    {
     "data": {
      "text/html": [
       "<table class=\"dataframe\">\n",
       "<caption>A data.frame: 6 × 7</caption>\n",
       "<thead>\n",
       "\t<tr><th></th><th scope=col>Peak</th><th scope=col>baseMean</th><th scope=col>log2FoldChange</th><th scope=col>lfcSE</th><th scope=col>stat</th><th scope=col>pvalue</th><th scope=col>padj</th></tr>\n",
       "\t<tr><th></th><th scope=col>&lt;chr&gt;</th><th scope=col>&lt;dbl&gt;</th><th scope=col>&lt;dbl&gt;</th><th scope=col>&lt;dbl&gt;</th><th scope=col>&lt;dbl&gt;</th><th scope=col>&lt;dbl&gt;</th><th scope=col>&lt;dbl&gt;</th></tr>\n",
       "</thead>\n",
       "<tbody>\n",
       "\t<tr><th scope=row>1</th><td>chr1:100006256-100006880</td><td> 74.39238</td><td>-0.01311789</td><td>0.15512409</td><td>-0.08456385</td><td>9.326081e-01</td><td>0.9510235974</td></tr>\n",
       "\t<tr><th scope=row>2</th><td>chr1:100010437-100010915</td><td> 48.25931</td><td>-0.80687924</td><td>0.22174622</td><td>-3.63875087</td><td>2.739637e-04</td><td>0.0008947578</td></tr>\n",
       "\t<tr><th scope=row>3</th><td>chr1:10002087-10003910  </td><td>224.35927</td><td>-0.34892859</td><td>0.09743886</td><td>-3.58100025</td><td>3.422813e-04</td><td>0.0010926268</td></tr>\n",
       "\t<tr><th scope=row>4</th><td>chr1:100021298-100021629</td><td> 38.13434</td><td>-1.03799569</td><td>0.25400994</td><td>-4.08643736</td><td>4.380477e-05</td><td>0.0001707722</td></tr>\n",
       "\t<tr><th scope=row>5</th><td>chr1:100023727-100023976</td><td> 32.62049</td><td>-0.19100276</td><td>0.25625406</td><td>-0.74536482</td><td>4.560512e-01</td><td>0.5497615997</td></tr>\n",
       "\t<tr><th scope=row>6</th><td>chr1:100027983-100029702</td><td>290.98442</td><td>-0.18001581</td><td>0.09610438</td><td>-1.87312815</td><td>6.105069e-02</td><td>0.1032755532</td></tr>\n",
       "</tbody>\n",
       "</table>\n"
      ],
      "text/latex": [
       "A data.frame: 6 × 7\n",
       "\\begin{tabular}{r|lllllll}\n",
       "  & Peak & baseMean & log2FoldChange & lfcSE & stat & pvalue & padj\\\\\n",
       "  & <chr> & <dbl> & <dbl> & <dbl> & <dbl> & <dbl> & <dbl>\\\\\n",
       "\\hline\n",
       "\t1 & chr1:100006256-100006880 &  74.39238 & -0.01311789 & 0.15512409 & -0.08456385 & 9.326081e-01 & 0.9510235974\\\\\n",
       "\t2 & chr1:100010437-100010915 &  48.25931 & -0.80687924 & 0.22174622 & -3.63875087 & 2.739637e-04 & 0.0008947578\\\\\n",
       "\t3 & chr1:10002087-10003910   & 224.35927 & -0.34892859 & 0.09743886 & -3.58100025 & 3.422813e-04 & 0.0010926268\\\\\n",
       "\t4 & chr1:100021298-100021629 &  38.13434 & -1.03799569 & 0.25400994 & -4.08643736 & 4.380477e-05 & 0.0001707722\\\\\n",
       "\t5 & chr1:100023727-100023976 &  32.62049 & -0.19100276 & 0.25625406 & -0.74536482 & 4.560512e-01 & 0.5497615997\\\\\n",
       "\t6 & chr1:100027983-100029702 & 290.98442 & -0.18001581 & 0.09610438 & -1.87312815 & 6.105069e-02 & 0.1032755532\\\\\n",
       "\\end{tabular}\n"
      ],
      "text/markdown": [
       "\n",
       "A data.frame: 6 × 7\n",
       "\n",
       "| <!--/--> | Peak &lt;chr&gt; | baseMean &lt;dbl&gt; | log2FoldChange &lt;dbl&gt; | lfcSE &lt;dbl&gt; | stat &lt;dbl&gt; | pvalue &lt;dbl&gt; | padj &lt;dbl&gt; |\n",
       "|---|---|---|---|---|---|---|---|\n",
       "| 1 | chr1:100006256-100006880 |  74.39238 | -0.01311789 | 0.15512409 | -0.08456385 | 9.326081e-01 | 0.9510235974 |\n",
       "| 2 | chr1:100010437-100010915 |  48.25931 | -0.80687924 | 0.22174622 | -3.63875087 | 2.739637e-04 | 0.0008947578 |\n",
       "| 3 | chr1:10002087-10003910   | 224.35927 | -0.34892859 | 0.09743886 | -3.58100025 | 3.422813e-04 | 0.0010926268 |\n",
       "| 4 | chr1:100021298-100021629 |  38.13434 | -1.03799569 | 0.25400994 | -4.08643736 | 4.380477e-05 | 0.0001707722 |\n",
       "| 5 | chr1:100023727-100023976 |  32.62049 | -0.19100276 | 0.25625406 | -0.74536482 | 4.560512e-01 | 0.5497615997 |\n",
       "| 6 | chr1:100027983-100029702 | 290.98442 | -0.18001581 | 0.09610438 | -1.87312815 | 6.105069e-02 | 0.1032755532 |\n",
       "\n"
      ],
      "text/plain": [
       "  Peak                     baseMean  log2FoldChange lfcSE      stat       \n",
       "1 chr1:100006256-100006880  74.39238 -0.01311789    0.15512409 -0.08456385\n",
       "2 chr1:100010437-100010915  48.25931 -0.80687924    0.22174622 -3.63875087\n",
       "3 chr1:10002087-10003910   224.35927 -0.34892859    0.09743886 -3.58100025\n",
       "4 chr1:100021298-100021629  38.13434 -1.03799569    0.25400994 -4.08643736\n",
       "5 chr1:100023727-100023976  32.62049 -0.19100276    0.25625406 -0.74536482\n",
       "6 chr1:100027983-100029702 290.98442 -0.18001581    0.09610438 -1.87312815\n",
       "  pvalue       padj        \n",
       "1 9.326081e-01 0.9510235974\n",
       "2 2.739637e-04 0.0008947578\n",
       "3 3.422813e-04 0.0010926268\n",
       "4 4.380477e-05 0.0001707722\n",
       "5 4.560512e-01 0.5497615997\n",
       "6 6.105069e-02 0.1032755532"
      ]
     },
     "metadata": {},
     "output_type": "display_data"
    }
   ],
   "source": [
    "res = results(dds)\n",
    "dat = as.data.frame(res) %>% rownames_to_column(var = \"Peak\")\n",
    "dat %>% dplyr::arrange(Peak) %>% dplyr::filter(Peak %in% idx) %>% head"
   ]
  },
  {
   "cell_type": "code",
   "execution_count": 28,
   "id": "0fc383ba-ee20-4278-964d-5557cd9cf9d8",
   "metadata": {},
   "outputs": [
    {
     "data": {
      "text/html": [
       "<style>\n",
       ".list-inline {list-style: none; margin:0; padding: 0}\n",
       ".list-inline>li {display: inline-block}\n",
       ".list-inline>li:not(:last-child)::after {content: \"\\00b7\"; padding: 0 .5ex}\n",
       "</style>\n",
       "<ol class=list-inline><li>247520</li><li>10</li></ol>\n"
      ],
      "text/latex": [
       "\\begin{enumerate*}\n",
       "\\item 247520\n",
       "\\item 10\n",
       "\\end{enumerate*}\n"
      ],
      "text/markdown": [
       "1. 247520\n",
       "2. 10\n",
       "\n",
       "\n"
      ],
      "text/plain": [
       "[1] 247520     10"
      ]
     },
     "metadata": {},
     "output_type": "display_data"
    }
   ],
   "source": [
    "dim(dat_cnt)"
   ]
  },
  {
   "cell_type": "code",
   "execution_count": 29,
   "id": "0500f641-94f6-486b-b754-af0600e39c4f",
   "metadata": {},
   "outputs": [
    {
     "data": {
      "text/html": [
       "<style>\n",
       ".list-inline {list-style: none; margin:0; padding: 0}\n",
       ".list-inline>li {display: inline-block}\n",
       ".list-inline>li:not(:last-child)::after {content: \"\\00b7\"; padding: 0 .5ex}\n",
       "</style>\n",
       "<ol class=list-inline><li>247520</li><li>7</li></ol>\n"
      ],
      "text/latex": [
       "\\begin{enumerate*}\n",
       "\\item 247520\n",
       "\\item 7\n",
       "\\end{enumerate*}\n"
      ],
      "text/markdown": [
       "1. 247520\n",
       "2. 7\n",
       "\n",
       "\n"
      ],
      "text/plain": [
       "[1] 247520      7"
      ]
     },
     "metadata": {},
     "output_type": "display_data"
    }
   ],
   "source": [
    "dim(res)"
   ]
  },
  {
   "cell_type": "code",
   "execution_count": 30,
   "id": "cde95865-3411-41cc-9302-4f9b2ebba658",
   "metadata": {},
   "outputs": [
    {
     "data": {
      "text/html": [
       "246850"
      ],
      "text/latex": [
       "246850"
      ],
      "text/markdown": [
       "246850"
      ],
      "text/plain": [
       "[1] 246850"
      ]
     },
     "metadata": {},
     "output_type": "display_data"
    }
   ],
   "source": [
    "sum(rowSums(counts(dds)) >= 10)"
   ]
  },
  {
   "cell_type": "code",
   "execution_count": 25,
   "id": "837f60d3-73f4-4e2d-9717-ef21f8a4c2e4",
   "metadata": {},
   "outputs": [
    {
     "data": {
      "text/html": [
       "129371"
      ],
      "text/latex": [
       "129371"
      ],
      "text/markdown": [
       "129371"
      ],
      "text/plain": [
       "[1] 129371"
      ]
     },
     "metadata": {},
     "output_type": "display_data"
    }
   ],
   "source": [
    "sum(dat$padj < 0.05, na.rm=TRUE)"
   ]
  },
  {
   "cell_type": "code",
   "execution_count": 19,
   "id": "29c6137b-3c33-4ab5-860b-cc56f371ed50",
   "metadata": {},
   "outputs": [
    {
     "data": {
      "text/plain": [
       "log2 fold change (MLE): condition Output vs Input \n",
       "Wald test p-value: condition Output vs Input \n",
       "DataFrame with 247520 rows and 6 columns\n",
       "                          baseMean log2FoldChange     lfcSE      stat\n",
       "                         <numeric>      <numeric> <numeric> <numeric>\n",
       "chr1:10015-10442           71.4038      -2.213613  0.269152  -8.22441\n",
       "chr1:14253-14645           68.6303       0.222186  0.153410   1.44832\n",
       "chr1:16015-16477           71.2541      -1.271295  0.201963  -6.29470\n",
       "chr1:17237-17772          124.0313      -1.385289  0.163863  -8.45397\n",
       "chr1:28903-29613          113.6310      -1.942200  0.188613 -10.29728\n",
       "...                            ...            ...       ...       ...\n",
       "chrX:156009687-156010227   59.3053      -1.562456  0.236506  -6.60641\n",
       "chrX:156016391-156016836   57.0261      -3.944716  0.485712  -8.12151\n",
       "chrX:156024950-156025593  164.6780      -0.401819  0.113961  -3.52595\n",
       "chrX:156030187-156030740   68.7253      -3.683179  0.407120  -9.04690\n",
       "chrY:11215098-11215422      0.0000             NA        NA        NA\n",
       "                              pvalue        padj\n",
       "                           <numeric>   <numeric>\n",
       "chr1:10015-10442         1.96152e-16 2.91059e-15\n",
       "chr1:14253-14645         1.47529e-01 2.17811e-01\n",
       "chr1:16015-16477         3.07992e-10 2.65295e-09\n",
       "chr1:17237-17772         2.81572e-17 4.43169e-16\n",
       "chr1:28903-29613         7.24849e-25 1.72363e-23\n",
       "...                              ...         ...\n",
       "chrX:156009687-156010227 3.93741e-11 3.74521e-10\n",
       "chrX:156016391-156016836 4.60428e-16 6.66261e-15\n",
       "chrX:156024950-156025593 4.21969e-04 1.31636e-03\n",
       "chrX:156030187-156030740 1.47082e-19 2.67085e-18\n",
       "chrY:11215098-11215422            NA          NA"
      ]
     },
     "metadata": {},
     "output_type": "display_data"
    }
   ],
   "source": [
    "res"
   ]
  },
  {
   "cell_type": "code",
   "execution_count": 20,
   "id": "24cb8add-506e-41b6-9538-20d2e51a340d",
   "metadata": {},
   "outputs": [
    {
     "name": "stdout",
     "output_type": "stream",
     "text": [
      "[1] 0.1\n",
      "0.2698772% \n",
      "0.04640265 \n"
     ]
    }
   ],
   "source": [
    "num = metadata(res)$alpha\n",
    "print(num)\n",
    "num = metadata(res)$filterThreshold\n",
    "print(num)"
   ]
  },
  {
   "cell_type": "code",
   "execution_count": 22,
   "id": "d678b0f9-6c24-4290-9f6c-b1da617b40d6",
   "metadata": {},
   "outputs": [
    {
     "data": {
      "text/html": [
       "<style>\n",
       ".list-inline {list-style: none; margin:0; padding: 0}\n",
       ".list-inline>li {display: inline-block}\n",
       ".list-inline>li:not(:last-child)::after {content: \"\\00b7\"; padding: 0 .5ex}\n",
       "</style>\n",
       "<ol class=list-inline><li>247520</li><li>7</li></ol>\n"
      ],
      "text/latex": [
       "\\begin{enumerate*}\n",
       "\\item 247520\n",
       "\\item 7\n",
       "\\end{enumerate*}\n"
      ],
      "text/markdown": [
       "1. 247520\n",
       "2. 7\n",
       "\n",
       "\n"
      ],
      "text/plain": [
       "[1] 247520      7"
      ]
     },
     "metadata": {},
     "output_type": "display_data"
    }
   ],
   "source": [
    "dim(dat)"
   ]
  },
  {
   "cell_type": "code",
   "execution_count": 23,
   "id": "149e7bc7-a935-4027-9024-1c4ce7a1e8c9",
   "metadata": {},
   "outputs": [
    {
     "data": {
      "text/html": [
       "668"
      ],
      "text/latex": [
       "668"
      ],
      "text/markdown": [
       "668"
      ],
      "text/plain": [
       "[1] 668"
      ]
     },
     "metadata": {},
     "output_type": "display_data"
    }
   ],
   "source": [
    "sum(is.na(dat$padj))"
   ]
  },
  {
   "cell_type": "code",
   "execution_count": 18,
   "id": "cd5437b0-1fa7-4d3f-844b-e899fad4075f",
   "metadata": {},
   "outputs": [
    {
     "name": "stderr",
     "output_type": "stream",
     "text": [
      "Warning message:\n",
      "“\u001b[1m\u001b[22mRemoved 668 rows containing non-finite values (`stat_bin()`).”\n"
     ]
    },
    {
     "data": {
      "image/png": "[encoded data removed]",
      "text/plain": [
       "plot without title"
      ]
     },
     "metadata": {
      "image/png": {
       "height": 300,
       "width": 420
      }
     },
     "output_type": "display_data"
    }
   ],
   "source": [
    "gpt = ggplot(dat, aes(x=pvalue)) + geom_histogram(bins = 100) + xlim(0, 0.1) + theme_cowplot()\n",
    "options(repr.plot.width=7, repr.plot.height=5)\n",
    "print(gpt)"
   ]
  },
  {
   "cell_type": "code",
   "execution_count": 21,
   "id": "c70c953b-9dfb-493d-9893-4b3714ff081b",
   "metadata": {},
   "outputs": [
    {
     "name": "stderr",
     "output_type": "stream",
     "text": [
      "Warning message:\n",
      "“\u001b[1m\u001b[22mRemoved 90315 rows containing non-finite values (`stat_bin()`).”\n",
      "Warning message:\n",
      "“\u001b[1m\u001b[22mRemoved 2 rows containing missing values (`geom_bar()`).”\n"
     ]
    },
    {
     "data": {
      "image/png": "[encoded data removed]",
      "text/plain": [
       "plot without title"
      ]
     },
     "metadata": {
      "image/png": {
       "height": 300,
       "width": 420
      }
     },
     "output_type": "display_data"
    }
   ],
   "source": [
    "tmp = \n",
    "gpt = ggplot(dat, aes(x=pvalue)) + geom_histogram(bins = 100) + xlim(0, 0.1) + theme_cowplot()\n",
    "options(repr.plot.width=7, repr.plot.height=5)\n",
    "print(gpt)"
   ]
  },
  {
   "cell_type": "code",
   "execution_count": 22,
   "id": "6941ccc6-1b1a-4641-a5f5-360906a9e145",
   "metadata": {},
   "outputs": [
    {
     "name": "stderr",
     "output_type": "stream",
     "text": [
      "Warning message:\n",
      "“\u001b[1m\u001b[22mRemoved 9935 rows containing non-finite values (`stat_bin()`).”\n",
      "Warning message:\n",
      "“\u001b[1m\u001b[22mRemoved 2 rows containing missing values (`geom_bar()`).”\n"
     ]
    },
    {
     "data": {
      "image/png": "[encoded data removed]",
      "text/plain": [
       "plot without title"
      ]
     },
     "metadata": {
      "image/png": {
       "height": 300,
       "width": 420
      }
     },
     "output_type": "display_data"
    }
   ],
   "source": [
    "gpt = ggplot(dat, aes(x=baseMean)) + geom_histogram(bins = 100) + xlim(0, 2000) + theme_cowplot()\n",
    "options(repr.plot.width=7, repr.plot.height=5)\n",
    "print(gpt)"
   ]
  },
  {
   "cell_type": "code",
   "execution_count": 24,
   "id": "d9e65f40-9130-4a9b-af8e-a1b4bfbf189f",
   "metadata": {},
   "outputs": [
    {
     "data": {
      "image/png": "[encoded data removed]",
      "text/plain": [
       "Plot with title “”"
      ]
     },
     "metadata": {
      "image/png": {
       "height": 300,
       "width": 420
      }
     },
     "output_type": "display_data"
    }
   ],
   "source": [
    "plotMA(res)"
   ]
  },
  {
   "cell_type": "code",
   "execution_count": 25,
   "id": "bb5f6831-6d44-45fe-adf9-714587f25724",
   "metadata": {},
   "outputs": [
    {
     "data": {
      "text/html": [
       "<style>\n",
       ".list-inline {list-style: none; margin:0; padding: 0}\n",
       ".list-inline>li {display: inline-block}\n",
       ".list-inline>li:not(:last-child)::after {content: \"\\00b7\"; padding: 0 .5ex}\n",
       "</style>\n",
       "<ol class=list-inline><li>'Intercept'</li><li>'condition_Output_vs_Input'</li></ol>\n"
      ],
      "text/latex": [
       "\\begin{enumerate*}\n",
       "\\item 'Intercept'\n",
       "\\item 'condition\\_Output\\_vs\\_Input'\n",
       "\\end{enumerate*}\n"
      ],
      "text/markdown": [
       "1. 'Intercept'\n",
       "2. 'condition_Output_vs_Input'\n",
       "\n",
       "\n"
      ],
      "text/plain": [
       "[1] \"Intercept\"                 \"condition_Output_vs_Input\""
      ]
     },
     "metadata": {},
     "output_type": "display_data"
    }
   ],
   "source": [
    "resultsNames(dds)"
   ]
  },
  {
   "cell_type": "code",
   "execution_count": 26,
   "id": "44b0ee80-d55f-4b08-be55-7151f7c36a99",
   "metadata": {},
   "outputs": [
    {
     "ename": "ERROR",
     "evalue": "Error in lfcShrink(dds, coef = \"condition_Output_vs_Input\", type = \"apeglm\"): type='apeglm' requires installing the Bioconductor package 'apeglm'\n",
     "output_type": "error",
     "traceback": [
      "Error in lfcShrink(dds, coef = \"condition_Output_vs_Input\", type = \"apeglm\"): type='apeglm' requires installing the Bioconductor package 'apeglm'\nTraceback:\n",
      "1. lfcShrink(dds, coef = \"condition_Output_vs_Input\", type = \"apeglm\")",
      "2. stop(\"type='apeglm' requires installing the Bioconductor package 'apeglm'\")"
     ]
    }
   ],
   "source": [
    "resLFC <- lfcShrink(dds, coef='condition_Output_vs_Input', type=\"apeglm\")\n",
    "resLFC"
   ]
  },
  {
   "cell_type": "code",
   "execution_count": 27,
   "id": "a3e48b51-1195-421c-a7aa-1caf858c59e5",
   "metadata": {},
   "outputs": [
    {
     "name": "stdout",
     "output_type": "stream",
     "text": [
      "\n",
      "out of 246852 with nonzero total read count\n",
      "adjusted p-value < 0.05\n",
      "LFC > 0 (up)       : 69473, 28%\n",
      "LFC < 0 (down)     : 59898, 24%\n",
      "outliers [1]       : 0, 0%\n",
      "low counts [2]     : 0, 0%\n",
      "(mean count < 0)\n",
      "[1] see 'cooksCutoff' argument of ?results\n",
      "[2] see 'independentFiltering' argument of ?results\n",
      "\n"
     ]
    }
   ],
   "source": [
    "res05 <- results(dds, alpha=0.05)\n",
    "summary(res05)"
   ]
  },
  {
   "cell_type": "code",
   "execution_count": 28,
   "id": "7e482bd5-f142-4b32-a059-c0d297636138",
   "metadata": {},
   "outputs": [
    {
     "data": {
      "text/html": [
       "0.1"
      ],
      "text/latex": [
       "0.1"
      ],
      "text/markdown": [
       "0.1"
      ],
      "text/plain": [
       "[1] 0.1"
      ]
     },
     "metadata": {},
     "output_type": "display_data"
    }
   ],
   "source": [
    "metadata(res)$alpha"
   ]
  },
  {
   "cell_type": "code",
   "execution_count": 29,
   "id": "172923f8-8e81-4929-b538-1bd9362f2061",
   "metadata": {},
   "outputs": [
    {
     "data": {
      "text/html": [
       "<strong>0.2698772%:</strong> 0.046402646782993"
      ],
      "text/latex": [
       "\\textbf{0.2698772\\textbackslash{}\\%:} 0.046402646782993"
      ],
      "text/markdown": [
       "**0.2698772%:** 0.046402646782993"
      ],
      "text/plain": [
       "0.2698772% \n",
       "0.04640265 "
      ]
     },
     "metadata": {},
     "output_type": "display_data"
    }
   ],
   "source": [
    "metadata(res)$filterThreshold"
   ]
  },
  {
   "cell_type": "code",
   "execution_count": 30,
   "id": "2387cefd-e4a5-4fbd-bbcf-18ceeb0c5504",
   "metadata": {},
   "outputs": [
    {
     "data": {
      "image/png": "[encoded data removed]",
      "text/plain": [
       "plot without title"
      ]
     },
     "metadata": {
      "image/png": {
       "height": 300,
       "width": 420
      }
     },
     "output_type": "display_data"
    }
   ],
   "source": [
    "plot(metadata(res)$filterNumRej, \n",
    "     type=\"b\", ylab=\"number of rejections\",\n",
    "     xlab=\"quantiles of filter\")\n",
    "lines(metadata(res)$lo.fit, col=\"red\")\n",
    "abline(v=metadata(res)$filterTheta)"
   ]
  },
  {
   "cell_type": "code",
   "execution_count": null,
   "id": "1160871f-1eef-4d97-90a7-18b739ee00e1",
   "metadata": {},
   "outputs": [],
   "source": []
  }
 ],
 "metadata": {
  "kernelspec": {
   "display_name": "R",
   "language": "R",
   "name": "ir"
  },
  "language_info": {
   "codemirror_mode": "r",
   "file_extension": ".r",
   "mimetype": "text/x-r-source",
   "name": "R",
   "pygments_lexer": "r",
   "version": "4.3.1"
  }
 },
 "nbformat": 4,
 "nbformat_minor": 5
}
