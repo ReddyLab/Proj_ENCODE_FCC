{
 "cells": [
  {
   "cell_type": "raw",
   "id": "44bc7874-d6d9-41dc-ae58-43eafabbc4e5",
   "metadata": {},
   "source": [
    "---\n",
    "title: Region Coverage 513\n",
    "subtitle: Fragment assignment pick the longest overlap\n",
    "format:\n",
    "    html:\n",
    "        code-fold:  true\n",
    "        code-tools: true\n",
    "---"
   ]
  },
  {
   "cell_type": "markdown",
   "id": "5b69373b-bbfa-4bbe-a9a3-13194ab10ccc",
   "metadata": {},
   "source": [
    "**Set environment**"
   ]
  },
  {
   "cell_type": "code",
   "execution_count": 1,
   "id": "b779a619-c5d5-4e62-889d-06a1501319bd",
   "metadata": {},
   "outputs": [
    {
     "name": "stdout",
     "output_type": "stream",
     "text": [
      "You are working on             Duke Server: HARDAC\n",
      "BASE DIRECTORY (FD_BASE):      /data/reddylab/Kuei\n",
      "REPO DIRECTORY (FD_REPO):      /data/reddylab/Kuei/repo\n",
      "WORK DIRECTORY (FD_WORK):      /data/reddylab/Kuei/work\n",
      "DATA DIRECTORY (FD_DATA):      /data/reddylab/Kuei/data\n",
      "CONTAINER DIR. (FD_SING):      /data/reddylab/Kuei/container\n",
      "\n",
      "You are working with           ENCODE FCC\n",
      "PATH OF PROJECT (FD_PRJ):      /data/reddylab/Kuei/repo/Proj_ENCODE_FCC\n",
      "PROJECT RESULTS (FD_RES):      /data/reddylab/Kuei/repo/Proj_ENCODE_FCC/results\n",
      "PROJECT SCRIPTS (FD_EXE):      /data/reddylab/Kuei/repo/Proj_ENCODE_FCC/scripts\n",
      "PROJECT DATA    (FD_DAT):      /data/reddylab/Kuei/repo/Proj_ENCODE_FCC/data\n",
      "PROJECT NOTE    (FD_NBK):      /data/reddylab/Kuei/repo/Proj_ENCODE_FCC/notebooks\n",
      "PROJECT DOCS    (FD_DOC):      /data/reddylab/Kuei/repo/Proj_ENCODE_FCC/docs\n",
      "PROJECT LOG     (FD_LOG):      /data/reddylab/Kuei/repo/Proj_ENCODE_FCC/log\n",
      "PROJECT APP     (FD_APP):      /data/reddylab/Kuei/repo/Proj_ENCODE_FCC/app\n",
      "PROJECT REF     (FD_REF):      /data/reddylab/Kuei/repo/Proj_ENCODE_FCC/references\n",
      "PROJECT IMAGE   (FP_PRJ_SIF):  /data/reddylab/Kuei/repo/Proj_ENCODE_FCC/app/singularity_proj_encode_fcc.sif\n",
      "\n"
     ]
    }
   ],
   "source": [
    "source ../run_config_project.sh\n",
    "source ${FD_EXE}/config_load_module_bedtools.sh\n",
    "show_env"
   ]
  },
  {
   "cell_type": "markdown",
   "id": "09465669-9f9d-4563-8848-c5b7ddb4c146",
   "metadata": {},
   "source": [
    "## Prepare"
   ]
  },
  {
   "cell_type": "markdown",
   "id": "0bfd1215-b1a3-47cf-be90-401cd189b6f8",
   "metadata": {},
   "source": [
    "**Set assay names**"
   ]
  },
  {
   "cell_type": "code",
   "execution_count": 2,
   "id": "f5683225-a6b0-4f29-8790-8113f23a8b5a",
   "metadata": {},
   "outputs": [],
   "source": [
    "### Assay\n",
    "ASSAY_TYPE=assay_fcc\n",
    "ASSAY_NAMES=(\n",
    "    STARR_ATAC_K562_Reddy_KS274\n",
    "    STARR_ATAC_K562_Reddy_KS91\n",
    ")"
   ]
  },
  {
   "cell_type": "code",
   "execution_count": 3,
   "id": "ca34024b-d76c-47ac-af56-84ba6b582d7e",
   "metadata": {},
   "outputs": [
    {
     "name": "stdout",
     "output_type": "stream",
     "text": [
      "\u001b[0m\u001b[38;5;27mMPRA_Tiling_K562_Tewhey_hannah\u001b[0m\n",
      "\u001b[38;5;27mSTARR_ATAC_K562_Reddy_KS274\u001b[0m\n",
      "\u001b[38;5;27mSTARR_ATAC_K562_Reddy_KS91\u001b[0m\n",
      "\u001b[38;5;27mSTARR_WHG_K562_Reddy_A001\u001b[0m\n"
     ]
    }
   ],
   "source": [
    "ls -1 ${FD_RES}/assay_fcc"
   ]
  },
  {
   "cell_type": "code",
   "execution_count": 4,
   "id": "041e7e82-b972-487a-a272-d198f9aaf1ca",
   "metadata": {},
   "outputs": [
    {
     "name": "stdout",
     "output_type": "stream",
     "text": [
      "\u001b[0m\u001b[38;5;27moverlap_fragment\u001b[0m  \u001b[38;5;27moverlap_fragment_unique\u001b[0m\n"
     ]
    }
   ],
   "source": [
    "ASSAY_NAME=STARR_ATAC_K562_Reddy_KS274\n",
    "ls ${FD_RES}/assay_fcc/${ASSAY_NAME}/coverage/fcc_astarr_macs/astarr_macs_input_overlap"
   ]
  },
  {
   "cell_type": "code",
   "execution_count": 5,
   "id": "ba54bc68-4ab2-4c70-ac2e-d1ee19d7f3f9",
   "metadata": {},
   "outputs": [
    {
     "name": "stdout",
     "output_type": "stream",
     "text": [
      "\u001b[0m\u001b[38;5;9mASTARRseq_K562_KS274.hg38.Output.rep1.WGS.unstranded.bed.gz\u001b[0m\n",
      "\u001b[38;5;9mASTARRseq_K562_KS274.hg38.Output.rep2.WGS.unstranded.bed.gz\u001b[0m\n",
      "\u001b[38;5;9mASTARRseq_K562_KS274.hg38.Output.rep3.WGS.unstranded.bed.gz\u001b[0m\n",
      "\u001b[38;5;27moverlap_fragment_one2one\u001b[0m\n"
     ]
    }
   ],
   "source": [
    "ASSAY_NAME=STARR_ATAC_K562_Reddy_KS274\n",
    "FDIRY=${FD_RES}/assay_fcc/${ASSAY_NAME}/coverage/fcc_astarr_macs/astarr_macs_input_overlap\n",
    "FDIRY=${FDIRY}/overlap_fragment\n",
    "ls ${FDIRY}"
   ]
  },
  {
   "cell_type": "markdown",
   "id": "042eaaa6-d0b1-491e-a6ba-2acea0f469f3",
   "metadata": {},
   "source": [
    "**Test loop: Assay**"
   ]
  },
  {
   "cell_type": "code",
   "execution_count": 6,
   "id": "a9440189-fc02-4b2b-817c-5743c4431de5",
   "metadata": {},
   "outputs": [
    {
     "name": "stdout",
     "output_type": "stream",
     "text": [
      "==============================\n",
      "Assay name:  STARR_ATAC_K562_Reddy_KS274\n",
      "--------------------------------------\n",
      "Input:     /data/reddylab/Kuei/repo/Proj_ENCODE_FCC/results/assay_fcc/STARR_ATAC_K562_Reddy_KS274/coverage/fcc_astarr_macs/astarr_macs_input_overlap/overlap_fragment/ASTARRseq_K562_KS274.hg38.Output.rep1.WGS.unstranded.bed.gz\n",
      "Log file:  ${FD_LOG}/region.coverage.overlap.one2one.ASTARRseq_K562_KS274.hg38.Output.rep1.WGS.unstranded.bed.gz.txt\n",
      "Submitted batch job 30744195\n",
      "\n",
      "--------------------------------------\n",
      "Input:     /data/reddylab/Kuei/repo/Proj_ENCODE_FCC/results/assay_fcc/STARR_ATAC_K562_Reddy_KS274/coverage/fcc_astarr_macs/astarr_macs_input_overlap/overlap_fragment/ASTARRseq_K562_KS274.hg38.Output.rep2.WGS.unstranded.bed.gz\n",
      "Log file:  ${FD_LOG}/region.coverage.overlap.one2one.ASTARRseq_K562_KS274.hg38.Output.rep2.WGS.unstranded.bed.gz.txt\n",
      "Submitted batch job 30744196\n",
      "\n",
      "--------------------------------------\n",
      "Input:     /data/reddylab/Kuei/repo/Proj_ENCODE_FCC/results/assay_fcc/STARR_ATAC_K562_Reddy_KS274/coverage/fcc_astarr_macs/astarr_macs_input_overlap/overlap_fragment/ASTARRseq_K562_KS274.hg38.Output.rep3.WGS.unstranded.bed.gz\n",
      "Log file:  ${FD_LOG}/region.coverage.overlap.one2one.ASTARRseq_K562_KS274.hg38.Output.rep3.WGS.unstranded.bed.gz.txt\n",
      "Submitted batch job 30744197\n",
      "\n",
      "==============================\n",
      "Assay name:  STARR_ATAC_K562_Reddy_KS91\n",
      "--------------------------------------\n",
      "Input:     /data/reddylab/Kuei/repo/Proj_ENCODE_FCC/results/assay_fcc/STARR_ATAC_K562_Reddy_KS91/coverage/fcc_astarr_macs/astarr_macs_input_overlap/overlap_fragment/ASTARRseq_K562_KS91.hg38.Input.rep1.WGS.unstranded.bed.gz\n",
      "Log file:  ${FD_LOG}/region.coverage.overlap.one2one.ASTARRseq_K562_KS91.hg38.Input.rep1.WGS.unstranded.bed.gz.txt\n",
      "Submitted batch job 30744198\n",
      "\n",
      "--------------------------------------\n",
      "Input:     /data/reddylab/Kuei/repo/Proj_ENCODE_FCC/results/assay_fcc/STARR_ATAC_K562_Reddy_KS91/coverage/fcc_astarr_macs/astarr_macs_input_overlap/overlap_fragment/ASTARRseq_K562_KS91.hg38.Input.rep2.WGS.unstranded.bed.gz\n",
      "Log file:  ${FD_LOG}/region.coverage.overlap.one2one.ASTARRseq_K562_KS91.hg38.Input.rep2.WGS.unstranded.bed.gz.txt\n",
      "Submitted batch job 30744199\n",
      "\n",
      "--------------------------------------\n",
      "Input:     /data/reddylab/Kuei/repo/Proj_ENCODE_FCC/results/assay_fcc/STARR_ATAC_K562_Reddy_KS91/coverage/fcc_astarr_macs/astarr_macs_input_overlap/overlap_fragment/ASTARRseq_K562_KS91.hg38.Input.rep3.WGS.unstranded.bed.gz\n",
      "Log file:  ${FD_LOG}/region.coverage.overlap.one2one.ASTARRseq_K562_KS91.hg38.Input.rep3.WGS.unstranded.bed.gz.txt\n",
      "Submitted batch job 30744200\n",
      "\n",
      "--------------------------------------\n",
      "Input:     /data/reddylab/Kuei/repo/Proj_ENCODE_FCC/results/assay_fcc/STARR_ATAC_K562_Reddy_KS91/coverage/fcc_astarr_macs/astarr_macs_input_overlap/overlap_fragment/ASTARRseq_K562_KS91.hg38.Input.rep4.WGS.unstranded.bed.gz\n",
      "Log file:  ${FD_LOG}/region.coverage.overlap.one2one.ASTARRseq_K562_KS91.hg38.Input.rep4.WGS.unstranded.bed.gz.txt\n",
      "Submitted batch job 30744201\n",
      "\n",
      "--------------------------------------\n",
      "Input:     /data/reddylab/Kuei/repo/Proj_ENCODE_FCC/results/assay_fcc/STARR_ATAC_K562_Reddy_KS91/coverage/fcc_astarr_macs/astarr_macs_input_overlap/overlap_fragment/ASTARRseq_K562_KS91.hg38.Input.rep5.WGS.unstranded.bed.gz\n",
      "Log file:  ${FD_LOG}/region.coverage.overlap.one2one.ASTARRseq_K562_KS91.hg38.Input.rep5.WGS.unstranded.bed.gz.txt\n",
      "Submitted batch job 30744202\n",
      "\n",
      "--------------------------------------\n",
      "Input:     /data/reddylab/Kuei/repo/Proj_ENCODE_FCC/results/assay_fcc/STARR_ATAC_K562_Reddy_KS91/coverage/fcc_astarr_macs/astarr_macs_input_overlap/overlap_fragment/ASTARRseq_K562_KS91.hg38.Input.rep6.WGS.unstranded.bed.gz\n",
      "Log file:  ${FD_LOG}/region.coverage.overlap.one2one.ASTARRseq_K562_KS91.hg38.Input.rep6.WGS.unstranded.bed.gz.txt\n",
      "Submitted batch job 30744203\n",
      "\n",
      "--------------------------------------\n",
      "Input:     /data/reddylab/Kuei/repo/Proj_ENCODE_FCC/results/assay_fcc/STARR_ATAC_K562_Reddy_KS91/coverage/fcc_astarr_macs/astarr_macs_input_overlap/overlap_fragment/ASTARRseq_K562_KS91.hg38.Output.rep1.WGS.unstranded.bed.gz\n",
      "Log file:  ${FD_LOG}/region.coverage.overlap.one2one.ASTARRseq_K562_KS91.hg38.Output.rep1.WGS.unstranded.bed.gz.txt\n",
      "Submitted batch job 30744204\n",
      "\n",
      "--------------------------------------\n",
      "Input:     /data/reddylab/Kuei/repo/Proj_ENCODE_FCC/results/assay_fcc/STARR_ATAC_K562_Reddy_KS91/coverage/fcc_astarr_macs/astarr_macs_input_overlap/overlap_fragment/ASTARRseq_K562_KS91.hg38.Output.rep2.WGS.unstranded.bed.gz\n",
      "Log file:  ${FD_LOG}/region.coverage.overlap.one2one.ASTARRseq_K562_KS91.hg38.Output.rep2.WGS.unstranded.bed.gz.txt\n",
      "Submitted batch job 30744205\n",
      "\n",
      "--------------------------------------\n",
      "Input:     /data/reddylab/Kuei/repo/Proj_ENCODE_FCC/results/assay_fcc/STARR_ATAC_K562_Reddy_KS91/coverage/fcc_astarr_macs/astarr_macs_input_overlap/overlap_fragment/ASTARRseq_K562_KS91.hg38.Output.rep3.WGS.unstranded.bed.gz\n",
      "Log file:  ${FD_LOG}/region.coverage.overlap.one2one.ASTARRseq_K562_KS91.hg38.Output.rep3.WGS.unstranded.bed.gz.txt\n",
      "Submitted batch job 30744206\n",
      "\n",
      "--------------------------------------\n",
      "Input:     /data/reddylab/Kuei/repo/Proj_ENCODE_FCC/results/assay_fcc/STARR_ATAC_K562_Reddy_KS91/coverage/fcc_astarr_macs/astarr_macs_input_overlap/overlap_fragment/ASTARRseq_K562_KS91.hg38.Output.rep4.WGS.unstranded.bed.gz\n",
      "Log file:  ${FD_LOG}/region.coverage.overlap.one2one.ASTARRseq_K562_KS91.hg38.Output.rep4.WGS.unstranded.bed.gz.txt\n",
      "Submitted batch job 30744207\n",
      "\n"
     ]
    }
   ],
   "source": [
    "for ASSAY_NAME in ${ASSAY_NAMES[@]}; do\n",
    "    \n",
    "    ### show progress\n",
    "    echo ==============================\n",
    "    echo \"Assay name: \" ${ASSAY_NAME}\n",
    "    \n",
    "    ### Set directory\n",
    "    FD_TMP=${FD_RES}/${ASSAY_TYPE}/${ASSAY_NAME}/coverage/fcc_astarr_macs/astarr_macs_input_overlap\n",
    "    FD_INP=${FD_TMP}/overlap_fragment\n",
    "    FD_OUT=${FD_TMP}/overlap_fragment_one2one\n",
    "    FP_INPS=($(ls ${FD_INP}/*hg38*rep*bed.gz))\n",
    "    \n",
    "    ### loop through each sample\n",
    "    for FP_INP in ${FP_INPS[@]}; do   \n",
    "        \n",
    "        FD_INP=$(dirname  ${FP_INP})\n",
    "        FN_INP=$(basename ${FP_INP})\n",
    "        \n",
    "        FN_OUT=${FN_INP}\n",
    "        FP_OUT=${FD_OUT}/${FN_OUT}\n",
    "        \n",
    "        FN_LOG=region.coverage.overlap.one2one.${FN_OUT}.txt\n",
    "        FP_LOG=${FD_LOG}/${FN_LOG}\n",
    "        \n",
    "        ### show progress\n",
    "        echo --------------------------------------\n",
    "        echo \"Input:    \"  ${FP_INP}\n",
    "        echo \"Log file: \" '${FD_LOG}/'${FN_LOG}\n",
    "        sbatch -p ${NODE} \\\n",
    "            --exclude=dl-01   \\\n",
    "            --cpus-per-task 4 \\\n",
    "            --mem 4G \\\n",
    "            --output ${FP_LOG} \\\n",
    "            --export=FD_PRJ=${FD_PRJ},FP_INP=${FP_INP},FP_OUT=${FP_OUT} \\\n",
    "            <<'EOF'\n",
    "#!/bin/bash\n",
    "### set environment\n",
    "FD_EXE=${FD_PRJ}/scripts\n",
    "source ${FD_EXE}/config_func.sh\n",
    "source ${FD_EXE}/config_load_module_bedtools.sh\n",
    "\n",
    "### print start message\n",
    "timer_start=`date +%s`\n",
    "echo \"Hostname:          \" $(hostname)\n",
    "echo \"Slurm Array Index: \" ${SLURM_ARRAY_TASK_ID}\n",
    "echo \"Time Stamp:        \" $(date +\"%m-%d-%y+%T\")\n",
    "echo\n",
    "\n",
    "### set input and output files\n",
    "FD_OUT=$(dirname  ${FP_OUT})\n",
    "FN_OUT=$(basename ${FP_OUT})\n",
    "\n",
    "FD_TMP=${FD_OUT}/summary\n",
    "FN_TMP=region.fragment_counts.${FN_OUT}\n",
    "FP_TMP=${FD_TMP}/${FN_TMP}\n",
    "\n",
    "### show I/O file\n",
    "echo \"Input file: ${FP_INP}\"\n",
    "echo\n",
    "echo \"show lines of file\"\n",
    "fun_cat ${FP_INP} | head\n",
    "echo\n",
    "\n",
    "### init\n",
    "mkdir -p ${FD_OUT}\n",
    "mkdir -p ${FD_TMP}\n",
    "NCOL=$(zcat ${FP_INP} | head -n 1 | awk '{print NF}')\n",
    "\n",
    "### execute\n",
    "###   one2one mapping/filtering\n",
    "zcat ${FP_INP} \\\n",
    "| sort -k1,1 -k2,2n -k${NCOL},${NCOL}nr \\\n",
    "| bedtools groupby \\\n",
    "    -g 1-6 \\\n",
    "    -c ${NCOL} \\\n",
    "    -o first \\\n",
    "    -full \\\n",
    "| cut -f 1-${NCOL} \\\n",
    "| gzip -c \\\n",
    "> ${FP_OUT}\n",
    "\n",
    "### summary\n",
    "###   region count\n",
    "zcat ${FP_OUT} \\\n",
    "| bedtools groupby \\\n",
    "    -g 7-9 \\\n",
    "    -c 1 \\\n",
    "    -o count\\\n",
    "| gzip -c \\\n",
    "> ${FP_TMP}\n",
    "\n",
    "### show I/O file\n",
    "echo \"Output file: ${FP_OUT}\"\n",
    "echo\n",
    "echo \"show lines of file\"\n",
    "fun_cat ${FP_OUT} | head\n",
    "echo\n",
    "\n",
    "### show I/O file\n",
    "echo \"Output file: ${FP_TMP}\"\n",
    "echo\n",
    "echo \"show lines of file\"\n",
    "fun_cat ${FP_TMP} | head\n",
    "echo\n",
    "\n",
    "\n",
    "### print end message\n",
    "timer=`date +%s`\n",
    "runtime=$(echo \"${timer} - ${timer_start}\" | bc -l)\n",
    "echo\n",
    "echo 'Done!'\n",
    "echo \"Run Time: $(displaytime ${runtime})\"\n",
    "EOF\n",
    "        echo\n",
    "    done\n",
    "done"
   ]
  },
  {
   "cell_type": "markdown",
   "id": "dbdc5fcc-b313-479b-a418-97d06599e5eb",
   "metadata": {},
   "source": [
    "## Review"
   ]
  },
  {
   "cell_type": "markdown",
   "id": "55b81218-15ae-4f96-89b6-30ced76ac308",
   "metadata": {},
   "source": [
    "**Check results**"
   ]
  },
  {
   "cell_type": "code",
   "execution_count": 9,
   "id": "82420574-1873-478a-bd6c-cba27e60df50",
   "metadata": {},
   "outputs": [
    {
     "name": "stdout",
     "output_type": "stream",
     "text": [
      "Hostname:           x2-03-3.genome.duke.edu\n",
      "Slurm Array Index: \n",
      "Time Stamp:         04-04-24+14:43:03\n",
      "\n",
      "Input file: /data/reddylab/Kuei/repo/Proj_ENCODE_FCC/results/assay_fcc/STARR_ATAC_K562_Reddy_KS274/coverage/fcc_astarr_macs/astarr_macs_input_overlap/overlap_fragment/ASTARRseq_K562_KS274.hg38.Output.rep1.WGS.unstranded.bed.gz\n",
      "\n",
      "show lines of file\n",
      "chr1\t14145\t14485\tchr1:14145-14485\t2\t.\tchr1\t14282\t14614\t203\n",
      "chr1\t14243\t14498\tchr1:14243-14498\t1\t.\tchr1\t14282\t14614\t216\n",
      "chr1\t14454\t14729\tchr1:14454-14729\t1\t.\tchr1\t14282\t14614\t160\n",
      "chr1\t14522\t14725\tchr1:14522-14725\t1\t.\tchr1\t14282\t14614\t92\n",
      "chr1\t14599\t14850\tchr1:14599-14850\t1\t.\tchr1\t14282\t14614\t15\n",
      "chr1\t16048\t16175\tchr1:16048-16175\t1\t.\tchr1\t16025\t16338\t127\n",
      "chr1\t16048\t16176\tchr1:16048-16176\t1\t.\tchr1\t16025\t16338\t128\n",
      "chr1\t16068\t16310\tchr1:16068-16310\t1\t.\tchr1\t16025\t16338\t242\n",
      "chr1\t16174\t16300\tchr1:16174-16300\t2\t.\tchr1\t16025\t16338\t126\n",
      "chr1\t16175\t16300\tchr1:16175-16300\t1\t.\tchr1\t16025\t16338\t125\n",
      "\n",
      "Output file: /data/reddylab/Kuei/repo/Proj_ENCODE_FCC/results/assay_fcc/STARR_ATAC_K562_Reddy_KS274/coverage/fcc_astarr_macs/astarr_macs_input_overlap/overlap_fragment/overlap_fragment_one2one/ASTARRseq_K562_KS274.hg38.Output.rep1.WGS.unstranded.bed.gz\n",
      "\n",
      "show lines of file\n",
      "chr1\t14145\t14485\tchr1:14145-14485\t2\t.\tchr1\t14282\t14614\t203\n",
      "chr1\t14243\t14498\tchr1:14243-14498\t1\t.\tchr1\t14282\t14614\t216\n",
      "chr1\t14454\t14729\tchr1:14454-14729\t1\t.\tchr1\t14282\t14614\t160\n",
      "chr1\t14522\t14725\tchr1:14522-14725\t1\t.\tchr1\t14282\t14614\t92\n",
      "chr1\t14599\t14850\tchr1:14599-14850\t1\t.\tchr1\t14282\t14614\t15\n",
      "chr1\t16048\t16176\tchr1:16048-16176\t1\t.\tchr1\t16025\t16338\t128\n",
      "chr1\t16048\t16175\tchr1:16048-16175\t1\t.\tchr1\t16025\t16338\t127\n",
      "chr1\t16068\t16310\tchr1:16068-16310\t1\t.\tchr1\t16025\t16338\t242\n",
      "chr1\t16174\t16300\tchr1:16174-16300\t2\t.\tchr1\t16025\t16338\t126\n",
      "chr1\t16175\t16300\tchr1:16175-16300\t1\t.\tchr1\t16025\t16338\t125\n",
      "\n",
      "Output file: /data/reddylab/Kuei/repo/Proj_ENCODE_FCC/results/assay_fcc/STARR_ATAC_K562_Reddy_KS274/coverage/fcc_astarr_macs/astarr_macs_input_overlap/overlap_fragment/overlap_fragment_one2one/summary/region.fragment_counts.ASTARRseq_K562_KS274.hg38.Output.rep1.WGS.unstranded.bed.gz\n",
      "\n",
      "show lines of file\n",
      "chr1\t14282\t14614\t5\n",
      "chr1\t16025\t16338\t8\n",
      "chr1\t17288\t17689\t13\n",
      "chr1\t28934\t29499\t2\n",
      "chr1\t115429\t115969\t171\n",
      "chr1\t136201\t137353\t98\n",
      "chr1\t137748\t138049\t6\n",
      "chr1\t138321\t139517\t38\n",
      "chr1\t181005\t181854\t13\n",
      "chr1\t183249\t183860\t13\n",
      "\n",
      "\n",
      "Done!\n",
      "Run Time: 7 minutes and 9 seconds\n",
      "slurmstepd: error: Detected 1 oom-kill event(s) in StepId=30744195.batch cgroup. Some of your processes may have been killed by the cgroup out-of-memory handler.\n"
     ]
    }
   ],
   "source": [
    "cat ${FD_LOG}/region.coverage.overlap.one2one.ASTARRseq_K562_KS274.hg38.Output.rep1.WGS.unstranded.bed.gz.txt"
   ]
  },
  {
   "cell_type": "code",
   "execution_count": null,
   "id": "55a98921-edae-4301-a3fd-ab2725476b1b",
   "metadata": {},
   "outputs": [],
   "source": []
  },
  {
   "cell_type": "code",
   "execution_count": null,
   "id": "2f8cd090-bf1a-4be2-af9d-b840c0d120e2",
   "metadata": {},
   "outputs": [],
   "source": []
  }
 ],
 "metadata": {
  "kernelspec": {
   "display_name": "Bash",
   "language": "bash",
   "name": "bash"
  },
  "language_info": {
   "codemirror_mode": "shell",
   "file_extension": ".sh",
   "mimetype": "text/x-sh",
   "name": "bash"
  }
 },
 "nbformat": 4,
 "nbformat_minor": 5
}
