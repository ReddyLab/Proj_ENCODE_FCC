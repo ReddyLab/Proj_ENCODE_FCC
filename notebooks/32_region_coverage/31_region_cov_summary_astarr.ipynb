{
 "cells": [
  {
   "cell_type": "raw",
   "id": "08bbf7cf-341a-4b6c-b07b-2aedada461a4",
   "metadata": {},
   "source": [
    "---\n",
    "title: Region Coverage 31\n",
    "subtitle: Summarize coverage for STARR-seq\n",
    "format:\n",
    "    html:\n",
    "        code-fold:  true\n",
    "        code-tools: true\n",
    "---"
   ]
  },
  {
   "cell_type": "markdown",
   "id": "7fee45fc-dd0f-4d40-b2a8-e10a608bf909",
   "metadata": {},
   "source": [
    "**Set environment**"
   ]
  },
  {
   "cell_type": "code",
   "execution_count": 1,
   "id": "31cc799b-f3fd-402a-b8df-2e03f0df65c2",
   "metadata": {},
   "outputs": [
    {
     "name": "stdout",
     "output_type": "stream",
     "text": [
      "You are working on        Singularity \n",
      "BASE DIRECTORY (FD_BASE): /mount \n",
      "REPO DIRECTORY (FD_REPO): /mount/repo \n",
      "WORK DIRECTORY (FD_WORK): /mount/work \n",
      "DATA DIRECTORY (FD_DATA): /mount/data \n",
      "\n",
      "You are working with      ENCODE FCC \n",
      "PATH OF PROJECT (FD_PRJ): /mount/repo/Proj_ENCODE_FCC \n",
      "PROJECT RESULTS (FD_RES): /mount/repo/Proj_ENCODE_FCC/results \n",
      "PROJECT SCRIPTS (FD_EXE): /mount/repo/Proj_ENCODE_FCC/scripts \n",
      "PROJECT DATA    (FD_DAT): /mount/repo/Proj_ENCODE_FCC/data \n",
      "PROJECT NOTE    (FD_NBK): /mount/repo/Proj_ENCODE_FCC/notebooks \n",
      "PROJECT DOCS    (FD_DOC): /mount/repo/Proj_ENCODE_FCC/docs \n",
      "PROJECT LOG     (FD_LOG): /mount/repo/Proj_ENCODE_FCC/log \n",
      "PROJECT APP     (FD_APP): /mount/repo/Proj_ENCODE_FCC/app \n",
      "PROJECT REF     (FD_REF): /mount/repo/Proj_ENCODE_FCC/references \n",
      "\n"
     ]
    }
   ],
   "source": [
    "suppressMessages(suppressWarnings(source(\"../run_config_project_sing.R\")))\n",
    "show_env()"
   ]
  },
  {
   "cell_type": "code",
   "execution_count": 2,
   "id": "6e94444b-1f75-4a5e-a30f-4295c0002c5e",
   "metadata": {},
   "outputs": [
    {
     "name": "stdout",
     "output_type": "stream",
     "text": [
      "MPRA_Tiling_K562_Tewhey_hannah \n",
      "STARR_ATAC_K562_Reddy_KS274 \n",
      "STARR_ATAC_K562_Reddy_KS91 \n",
      "STARR_WHG_K562_Reddy_A001 \n"
     ]
    }
   ],
   "source": [
    "txt_fdiry = file.path(FD_RES, \"assay_fcc\")\n",
    "vec = dir(txt_fdiry)\n",
    "for (txt in vec) {cat(txt, \"\\n\")}"
   ]
  },
  {
   "cell_type": "code",
   "execution_count": null,
   "id": "837f029c-7a79-46d4-8cbd-d456707ebcb2",
   "metadata": {},
   "outputs": [],
   "source": [
    "VEC_TXT_ASSAY = c(\n",
    "    \"STARR_ATAC_K562_Reddy_KS91\",\n",
    "    #\"STARR_ATAC_K562_Reddy_KS274\",\n",
    "    \"STARR_WHG_K562_Reddy_A001\"\n",
    ")"
   ]
  },
  {
   "cell_type": "code",
   "execution_count": 9,
   "id": "1be3fce4-29c1-4021-a99e-3130d59b69dd",
   "metadata": {},
   "outputs": [
    {
     "data": {
      "text/html": [
       "<style>\n",
       ".list-inline {list-style: none; margin:0; padding: 0}\n",
       ".list-inline>li {display: inline-block}\n",
       ".list-inline>li:not(:last-child)::after {content: \"\\00b7\"; padding: 0 .5ex}\n",
       "</style>\n",
       "<ol class=list-inline><li>'data_cnt'</li><li>'data_col'</li></ol>\n"
      ],
      "text/latex": [
       "\\begin{enumerate*}\n",
       "\\item 'data\\_cnt'\n",
       "\\item 'data\\_col'\n",
       "\\end{enumerate*}\n"
      ],
      "text/markdown": [
       "1. 'data_cnt'\n",
       "2. 'data_col'\n",
       "\n",
       "\n"
      ],
      "text/plain": [
       "[1] \"data_cnt\" \"data_col\""
      ]
     },
     "metadata": {},
     "output_type": "display_data"
    }
   ],
   "source": [
    "txt_assay = \"STARR_ATAC_K562_Reddy_KS91\"\n",
    "txt_fdiry = file.path(\n",
    "    FD_RES, \n",
    "    \"assay_fcc\", \n",
    "    txt_assay, \n",
    "    \"coverage\", \n",
    "    \"fcc_astarr_macs\", \n",
    "    \"astarr_macs_input_overlap\",\n",
    "    \"summary\")\n",
    "\n",
    "txt_fname = \"data_list_count_column.rds\"\n",
    "txt_fpath = file.path(txt_fdiry, txt_fname)\n",
    "\n",
    "lst = readRDS(txt_fpath)\n",
    "lst_ocr_overlap = lst\n",
    "names(lst)"
   ]
  },
  {
   "cell_type": "code",
   "execution_count": null,
   "id": "121b5f98-0e53-482b-82d3-9b22ce9b68b7",
   "metadata": {},
   "outputs": [],
   "source": [
    "txt_assay = \"STARR_ATAC_K562_Reddy_KS91\"\n",
    "txt_fdiry = file.path(\n",
    "    FD_RES, \n",
    "    \"assay_fcc\", \n",
    "    txt_assay, \n",
    "    \"coverage\", \n",
    "    \"fcc_astarr_macs\", \n",
    "    \"astarr_macs_input_union\",\n",
    "    \"summary\")\n",
    "\n",
    "txt_fname = \"data_list_count_column.rds\"\n",
    "txt_fpath = file.path(txt_fdiry, txt_fname)\n",
    "\n",
    "lst = readRDS(txt_fpath)\n",
    "lst_ocr_union = lst\n",
    "names(lst)"
   ]
  },
  {
   "cell_type": "code",
   "execution_count": 10,
   "id": "25260706-0d49-4e59-8edb-004723850316",
   "metadata": {},
   "outputs": [],
   "source": [
    "dat_cnt = lst$data_cnt\n",
    "dat_col = lst$data_col"
   ]
  },
  {
   "cell_type": "code",
   "execution_count": 11,
   "id": "03703110-00a8-47c3-b1f6-6f3cbf550985",
   "metadata": {},
   "outputs": [
    {
     "data": {
      "text/html": [
       "<table class=\"dataframe\">\n",
       "<caption>A tibble: 6 × 14</caption>\n",
       "<thead>\n",
       "\t<tr><th scope=col>Chrom</th><th scope=col>ChromStart</th><th scope=col>ChromEnd</th><th scope=col>Region</th><th scope=col>Input.rep1</th><th scope=col>Input.rep2</th><th scope=col>Input.rep3</th><th scope=col>Input.rep4</th><th scope=col>Input.rep5</th><th scope=col>Input.rep6</th><th scope=col>Output.rep1</th><th scope=col>Output.rep2</th><th scope=col>Output.rep3</th><th scope=col>Output.rep4</th></tr>\n",
       "\t<tr><th scope=col>&lt;chr&gt;</th><th scope=col>&lt;dbl&gt;</th><th scope=col>&lt;dbl&gt;</th><th scope=col>&lt;chr&gt;</th><th scope=col>&lt;int&gt;</th><th scope=col>&lt;int&gt;</th><th scope=col>&lt;int&gt;</th><th scope=col>&lt;int&gt;</th><th scope=col>&lt;int&gt;</th><th scope=col>&lt;int&gt;</th><th scope=col>&lt;int&gt;</th><th scope=col>&lt;int&gt;</th><th scope=col>&lt;int&gt;</th><th scope=col>&lt;int&gt;</th></tr>\n",
       "</thead>\n",
       "<tbody>\n",
       "\t<tr><td>chr1</td><td> 10038</td><td> 10405</td><td>chr1:10038-10405  </td><td>145</td><td> 207</td><td> 244</td><td> 229</td><td> 178</td><td> 206</td><td>  5</td><td> 12</td><td>  4</td><td> 10</td></tr>\n",
       "\t<tr><td>chr1</td><td> 14282</td><td> 14614</td><td>chr1:14282-14614  </td><td>106</td><td> 139</td><td> 153</td><td> 137</td><td> 123</td><td> 128</td><td>  8</td><td> 23</td><td> 26</td><td> 41</td></tr>\n",
       "\t<tr><td>chr1</td><td> 16025</td><td> 16338</td><td>chr1:16025-16338  </td><td>124</td><td> 189</td><td> 175</td><td> 170</td><td> 178</td><td> 164</td><td>  8</td><td>  7</td><td> 15</td><td> 18</td></tr>\n",
       "\t<tr><td>chr1</td><td> 17288</td><td> 17689</td><td>chr1:17288-17689  </td><td>259</td><td> 350</td><td> 400</td><td> 367</td><td> 369</td><td> 331</td><td>  7</td><td> 13</td><td> 23</td><td> 59</td></tr>\n",
       "\t<tr><td>chr1</td><td> 28934</td><td> 29499</td><td>chr1:28934-29499  </td><td>258</td><td> 324</td><td> 349</td><td> 324</td><td> 346</td><td> 310</td><td>  8</td><td> 11</td><td>  3</td><td> 26</td></tr>\n",
       "\t<tr><td>chr1</td><td>115429</td><td>115969</td><td>chr1:115429-115969</td><td>950</td><td>1174</td><td>1276</td><td>1151</td><td>1179</td><td>1054</td><td>234</td><td>443</td><td>469</td><td>752</td></tr>\n",
       "</tbody>\n",
       "</table>\n"
      ],
      "text/latex": [
       "A tibble: 6 × 14\n",
       "\\begin{tabular}{llllllllllllll}\n",
       " Chrom & ChromStart & ChromEnd & Region & Input.rep1 & Input.rep2 & Input.rep3 & Input.rep4 & Input.rep5 & Input.rep6 & Output.rep1 & Output.rep2 & Output.rep3 & Output.rep4\\\\\n",
       " <chr> & <dbl> & <dbl> & <chr> & <int> & <int> & <int> & <int> & <int> & <int> & <int> & <int> & <int> & <int>\\\\\n",
       "\\hline\n",
       "\t chr1 &  10038 &  10405 & chr1:10038-10405   & 145 &  207 &  244 &  229 &  178 &  206 &   5 &  12 &   4 &  10\\\\\n",
       "\t chr1 &  14282 &  14614 & chr1:14282-14614   & 106 &  139 &  153 &  137 &  123 &  128 &   8 &  23 &  26 &  41\\\\\n",
       "\t chr1 &  16025 &  16338 & chr1:16025-16338   & 124 &  189 &  175 &  170 &  178 &  164 &   8 &   7 &  15 &  18\\\\\n",
       "\t chr1 &  17288 &  17689 & chr1:17288-17689   & 259 &  350 &  400 &  367 &  369 &  331 &   7 &  13 &  23 &  59\\\\\n",
       "\t chr1 &  28934 &  29499 & chr1:28934-29499   & 258 &  324 &  349 &  324 &  346 &  310 &   8 &  11 &   3 &  26\\\\\n",
       "\t chr1 & 115429 & 115969 & chr1:115429-115969 & 950 & 1174 & 1276 & 1151 & 1179 & 1054 & 234 & 443 & 469 & 752\\\\\n",
       "\\end{tabular}\n"
      ],
      "text/markdown": [
       "\n",
       "A tibble: 6 × 14\n",
       "\n",
       "| Chrom &lt;chr&gt; | ChromStart &lt;dbl&gt; | ChromEnd &lt;dbl&gt; | Region &lt;chr&gt; | Input.rep1 &lt;int&gt; | Input.rep2 &lt;int&gt; | Input.rep3 &lt;int&gt; | Input.rep4 &lt;int&gt; | Input.rep5 &lt;int&gt; | Input.rep6 &lt;int&gt; | Output.rep1 &lt;int&gt; | Output.rep2 &lt;int&gt; | Output.rep3 &lt;int&gt; | Output.rep4 &lt;int&gt; |\n",
       "|---|---|---|---|---|---|---|---|---|---|---|---|---|---|\n",
       "| chr1 |  10038 |  10405 | chr1:10038-10405   | 145 |  207 |  244 |  229 |  178 |  206 |   5 |  12 |   4 |  10 |\n",
       "| chr1 |  14282 |  14614 | chr1:14282-14614   | 106 |  139 |  153 |  137 |  123 |  128 |   8 |  23 |  26 |  41 |\n",
       "| chr1 |  16025 |  16338 | chr1:16025-16338   | 124 |  189 |  175 |  170 |  178 |  164 |   8 |   7 |  15 |  18 |\n",
       "| chr1 |  17288 |  17689 | chr1:17288-17689   | 259 |  350 |  400 |  367 |  369 |  331 |   7 |  13 |  23 |  59 |\n",
       "| chr1 |  28934 |  29499 | chr1:28934-29499   | 258 |  324 |  349 |  324 |  346 |  310 |   8 |  11 |   3 |  26 |\n",
       "| chr1 | 115429 | 115969 | chr1:115429-115969 | 950 | 1174 | 1276 | 1151 | 1179 | 1054 | 234 | 443 | 469 | 752 |\n",
       "\n"
      ],
      "text/plain": [
       "  Chrom ChromStart ChromEnd Region             Input.rep1 Input.rep2 Input.rep3\n",
       "1 chr1   10038      10405   chr1:10038-10405   145         207        244      \n",
       "2 chr1   14282      14614   chr1:14282-14614   106         139        153      \n",
       "3 chr1   16025      16338   chr1:16025-16338   124         189        175      \n",
       "4 chr1   17288      17689   chr1:17288-17689   259         350        400      \n",
       "5 chr1   28934      29499   chr1:28934-29499   258         324        349      \n",
       "6 chr1  115429     115969   chr1:115429-115969 950        1174       1276      \n",
       "  Input.rep4 Input.rep5 Input.rep6 Output.rep1 Output.rep2 Output.rep3\n",
       "1  229        178        206         5          12           4        \n",
       "2  137        123        128         8          23          26        \n",
       "3  170        178        164         8           7          15        \n",
       "4  367        369        331         7          13          23        \n",
       "5  324        346        310         8          11           3        \n",
       "6 1151       1179       1054       234         443         469        \n",
       "  Output.rep4\n",
       "1  10        \n",
       "2  41        \n",
       "3  18        \n",
       "4  59        \n",
       "5  26        \n",
       "6 752        "
      ]
     },
     "metadata": {},
     "output_type": "display_data"
    }
   ],
   "source": [
    "head(dat_cnt)"
   ]
  },
  {
   "cell_type": "code",
   "execution_count": 13,
   "id": "5b68a5da-babd-4c9c-b730-1495e4bdaa9f",
   "metadata": {},
   "outputs": [
    {
     "data": {
      "text/html": [
       "0.664850136239782"
      ],
      "text/latex": [
       "0.664850136239782"
      ],
      "text/markdown": [
       "0.664850136239782"
      ],
      "text/plain": [
       "[1] 0.6648501"
      ]
     },
     "metadata": {},
     "output_type": "display_data"
    }
   ],
   "source": [
    "244\t/ 367"
   ]
  },
  {
   "cell_type": "code",
   "execution_count": 58,
   "id": "73f87638-5cf0-40b4-b6b3-b51fdd4207dd",
   "metadata": {},
   "outputs": [],
   "source": [
    "get_fpkm = function(mat, vec_num_length){\n",
    "    ### normlaized by size\n",
    "    fun = function(x){x * 10^6 / sum(x)}\n",
    "    mat = apply(mat, 2, fun)\n",
    "    \n",
    "    ### normlaized by length\n",
    "    vec = vec_num_length\n",
    "    fun = function(x){x/vec}\n",
    "    mat = apply(mat, 2, fun)\n",
    "\n",
    "    return(mat)\n",
    "}\n",
    "\n",
    "get_tpm  = function(mat, vec_num_length){\n",
    "    ### normlaized by length\n",
    "    vec = vec_num_length\n",
    "    fun = function(x){x/vec}\n",
    "    mat = apply(mat, 2, fun)\n",
    "    \n",
    "    ### normlaized by size\n",
    "    fun = function(x){x * 10^6 / sum(x)}\n",
    "    mat = apply(mat, 2, fun)\n",
    "    \n",
    "    return(mat)\n",
    "}\n",
    "\n"
   ]
  },
  {
   "cell_type": "code",
   "execution_count": 60,
   "id": "b9f67311-0d4b-473f-b432-c4cd5853cccb",
   "metadata": {},
   "outputs": [
    {
     "name": "stdout",
     "output_type": "stream",
     "text": [
      "[1] 150041      8\n"
     ]
    },
    {
     "data": {
      "text/html": [
       "<table class=\"dataframe\">\n",
       "<caption>A tibble: 6 × 8</caption>\n",
       "<thead>\n",
       "\t<tr><th scope=col>Chrom</th><th scope=col>ChromStart</th><th scope=col>ChromEnd</th><th scope=col>Region</th><th scope=col>Input_FPKM</th><th scope=col>Input_TPM</th><th scope=col>Output_FPKM</th><th scope=col>Output_TPM</th></tr>\n",
       "\t<tr><th scope=col>&lt;chr&gt;</th><th scope=col>&lt;dbl&gt;</th><th scope=col>&lt;dbl&gt;</th><th scope=col>&lt;chr&gt;</th><th scope=col>&lt;dbl&gt;</th><th scope=col>&lt;dbl&gt;</th><th scope=col>&lt;dbl&gt;</th><th scope=col>&lt;dbl&gt;</th></tr>\n",
       "</thead>\n",
       "<tbody>\n",
       "\t<tr><td>chr1</td><td> 10038</td><td> 10405</td><td>chr1:10038-10405  </td><td>0.004164383</td><td> 3.940038</td><td>0.0006671239</td><td> 0.6488611</td></tr>\n",
       "\t<tr><td>chr1</td><td> 14282</td><td> 14614</td><td>chr1:14282-14614  </td><td>0.003003325</td><td> 2.841707</td><td>0.0020670469</td><td> 2.0120603</td></tr>\n",
       "\t<tr><td>chr1</td><td> 16025</td><td> 16338</td><td>chr1:16025-16338  </td><td>0.004048701</td><td> 3.830812</td><td>0.0012104446</td><td> 1.1818766</td></tr>\n",
       "\t<tr><td>chr1</td><td> 17288</td><td> 17689</td><td>chr1:17288-17689  </td><td>0.006551198</td><td> 6.198372</td><td>0.0015784974</td><td> 1.5431749</td></tr>\n",
       "\t<tr><td>chr1</td><td> 28934</td><td> 29499</td><td>chr1:28934-29499  </td><td>0.004295316</td><td> 4.064322</td><td>0.0005928433</td><td> 0.5801715</td></tr>\n",
       "\t<tr><td>chr1</td><td>115429</td><td>115969</td><td>chr1:115429-115969</td><td>0.015954822</td><td>15.096518</td><td>0.0260260669</td><td>25.3605429</td></tr>\n",
       "</tbody>\n",
       "</table>\n"
      ],
      "text/latex": [
       "A tibble: 6 × 8\n",
       "\\begin{tabular}{llllllll}\n",
       " Chrom & ChromStart & ChromEnd & Region & Input\\_FPKM & Input\\_TPM & Output\\_FPKM & Output\\_TPM\\\\\n",
       " <chr> & <dbl> & <dbl> & <chr> & <dbl> & <dbl> & <dbl> & <dbl>\\\\\n",
       "\\hline\n",
       "\t chr1 &  10038 &  10405 & chr1:10038-10405   & 0.004164383 &  3.940038 & 0.0006671239 &  0.6488611\\\\\n",
       "\t chr1 &  14282 &  14614 & chr1:14282-14614   & 0.003003325 &  2.841707 & 0.0020670469 &  2.0120603\\\\\n",
       "\t chr1 &  16025 &  16338 & chr1:16025-16338   & 0.004048701 &  3.830812 & 0.0012104446 &  1.1818766\\\\\n",
       "\t chr1 &  17288 &  17689 & chr1:17288-17689   & 0.006551198 &  6.198372 & 0.0015784974 &  1.5431749\\\\\n",
       "\t chr1 &  28934 &  29499 & chr1:28934-29499   & 0.004295316 &  4.064322 & 0.0005928433 &  0.5801715\\\\\n",
       "\t chr1 & 115429 & 115969 & chr1:115429-115969 & 0.015954822 & 15.096518 & 0.0260260669 & 25.3605429\\\\\n",
       "\\end{tabular}\n"
      ],
      "text/markdown": [
       "\n",
       "A tibble: 6 × 8\n",
       "\n",
       "| Chrom &lt;chr&gt; | ChromStart &lt;dbl&gt; | ChromEnd &lt;dbl&gt; | Region &lt;chr&gt; | Input_FPKM &lt;dbl&gt; | Input_TPM &lt;dbl&gt; | Output_FPKM &lt;dbl&gt; | Output_TPM &lt;dbl&gt; |\n",
       "|---|---|---|---|---|---|---|---|\n",
       "| chr1 |  10038 |  10405 | chr1:10038-10405   | 0.004164383 |  3.940038 | 0.0006671239 |  0.6488611 |\n",
       "| chr1 |  14282 |  14614 | chr1:14282-14614   | 0.003003325 |  2.841707 | 0.0020670469 |  2.0120603 |\n",
       "| chr1 |  16025 |  16338 | chr1:16025-16338   | 0.004048701 |  3.830812 | 0.0012104446 |  1.1818766 |\n",
       "| chr1 |  17288 |  17689 | chr1:17288-17689   | 0.006551198 |  6.198372 | 0.0015784974 |  1.5431749 |\n",
       "| chr1 |  28934 |  29499 | chr1:28934-29499   | 0.004295316 |  4.064322 | 0.0005928433 |  0.5801715 |\n",
       "| chr1 | 115429 | 115969 | chr1:115429-115969 | 0.015954822 | 15.096518 | 0.0260260669 | 25.3605429 |\n",
       "\n"
      ],
      "text/plain": [
       "  Chrom ChromStart ChromEnd Region             Input_FPKM  Input_TPM\n",
       "1 chr1   10038      10405   chr1:10038-10405   0.004164383  3.940038\n",
       "2 chr1   14282      14614   chr1:14282-14614   0.003003325  2.841707\n",
       "3 chr1   16025      16338   chr1:16025-16338   0.004048701  3.830812\n",
       "4 chr1   17288      17689   chr1:17288-17689   0.006551198  6.198372\n",
       "5 chr1   28934      29499   chr1:28934-29499   0.004295316  4.064322\n",
       "6 chr1  115429     115969   chr1:115429-115969 0.015954822 15.096518\n",
       "  Output_FPKM  Output_TPM\n",
       "1 0.0006671239  0.6488611\n",
       "2 0.0020670469  2.0120603\n",
       "3 0.0012104446  1.1818766\n",
       "4 0.0015784974  1.5431749\n",
       "5 0.0005928433  0.5801715\n",
       "6 0.0260260669 25.3605429"
      ]
     },
     "metadata": {},
     "output_type": "display_data"
    }
   ],
   "source": [
    "###\n",
    "dat = dat_cnt\n",
    "dat = dat %>% dplyr::mutate(Length = ChromEnd - ChromStart)\n",
    "mat = dat %>% \n",
    "   dplyr::select(\n",
    "       Region, \n",
    "       starts_with(\"Input\"), \n",
    "       starts_with(\"Output\")) %>% \n",
    "   column_to_rownames(var = \"Region\")\n",
    "\n",
    "###\n",
    "mat_tpm  = get_tpm(mat, dat$Length)\n",
    "mat_fpkm = get_fpkm(mat, dat$Length)\n",
    "\n",
    "###\n",
    "lst = list(\n",
    "    \"TPM\"  = mat_tpm,\n",
    "    \"FPKM\" = mat_fpkm\n",
    ")\n",
    "\n",
    "lst = lapply(lst, function(mat){\n",
    "    dat = mat %>% \n",
    "        as.data.frame %>% \n",
    "        rownames_to_column(var = \"Region\") %>% \n",
    "        tidyr::gather(Sample, Value, -Region)\n",
    "    return(dat)\n",
    "})\n",
    "\n",
    "###\n",
    "tmp = dat_col %>% dplyr::select(Sample, Group)\n",
    "dat = bind_rows(lst, .id = \"Method\")\n",
    "dat = dplyr::left_join(dat, tmp, by=\"Sample\")\n",
    "dat = dat %>%\n",
    "    dplyr::group_by(Region, Method, Group) %>%\n",
    "    dplyr::summarize(Mean = mean(Value), .groups = \"drop\") %>%\n",
    "    dplyr::mutate(Name = paste(Group, Method, sep = \"_\")) %>%\n",
    "    dplyr::select(Region, Name, Mean) %>%\n",
    "    tidyr::spread(Name, Mean)\n",
    "\n",
    "###\n",
    "tmp = dat_cnt %>% dplyr::select(Chrom, ChromStart, ChromEnd, Region)\n",
    "dat = dplyr::left_join(tmp, dat, by=\"Region\")\n",
    "\n",
    "### assign and show\n",
    "dat_score_mean = dat\n",
    "print(dim(dat))\n",
    "head(dat)"
   ]
  },
  {
   "cell_type": "code",
   "execution_count": 61,
   "id": "2aa8d55d-e74c-4830-bf2e-e8268ba47bdc",
   "metadata": {},
   "outputs": [],
   "source": [
    "txt_assay = \"STARR_ATAC_K562_Reddy_KS91\"\n",
    "txt_fdiry = file.path(\n",
    "    FD_RES, \n",
    "    \"assay_fcc\", \n",
    "    txt_assay, \n",
    "    \"coverage\", \n",
    "    \"fcc_astarr_macs\", \n",
    "    \"astarr_macs_input_overlap\",\n",
    "    \"summary\")\n",
    "\n",
    "txt_fname = \"result.score.mean.tsv\"\n",
    "txt_fpath = file.path(txt_fdiry, txt_fname)\n",
    "\n",
    "dat = dat_score_mean\n",
    "write_tsv(dat, txt_fpath)"
   ]
  },
  {
   "cell_type": "code",
   "execution_count": null,
   "id": "2768d498-26b0-494b-a412-fbf6bdb65dfb",
   "metadata": {},
   "outputs": [],
   "source": []
  },
  {
   "cell_type": "code",
   "execution_count": null,
   "id": "ea6154fb-71d7-49e0-86eb-e06c0131168e",
   "metadata": {},
   "outputs": [],
   "source": []
  }
 ],
 "metadata": {
  "kernelspec": {
   "display_name": "R",
   "language": "R",
   "name": "ir"
  },
  "language_info": {
   "codemirror_mode": "r",
   "file_extension": ".r",
   "mimetype": "text/x-r-source",
   "name": "R",
   "pygments_lexer": "r",
   "version": "4.3.3"
  }
 },
 "nbformat": 4,
 "nbformat_minor": 5
}
