{
 "cells": [
  {
   "cell_type": "raw",
   "id": "59cad905-2cdb-4f9b-863c-ae308ac39364",
   "metadata": {},
   "source": [
    "---\n",
    "title: FCC Peak calls\n",
    "subtitle: export annotation\n",
    "format:\n",
    "    html:\n",
    "        code-fold:  true\n",
    "        code-tools: true\n",
    "---"
   ]
  },
  {
   "cell_type": "markdown",
   "id": "de283e04-f082-498c-9e33-48a007e93730",
   "metadata": {},
   "source": [
    "**Set environment**"
   ]
  },
  {
   "cell_type": "code",
   "execution_count": 2,
   "id": "a21b13a5-9970-42ea-b37b-c4ec4b1b77f3",
   "metadata": {
    "tags": []
   },
   "outputs": [
    {
     "name": "stdout",
     "output_type": "stream",
     "text": [
      "You are working on        Singularity \n",
      "BASE DIRECTORY (FD_BASE): /mount \n",
      "REPO DIRECTORY (FD_REPO): /mount/repo \n",
      "WORK DIRECTORY (FD_WORK): /mount/work \n",
      "DATA DIRECTORY (FD_DATA): /mount/data \n",
      "\n",
      "You are working with      ENCODE FCC \n",
      "PATH OF PROJECT (FD_PRJ): /mount/repo/Proj_ENCODE_FCC \n",
      "PROJECT RESULTS (FD_RES): /mount/repo/Proj_ENCODE_FCC/results \n",
      "PROJECT SCRIPTS (FD_EXE): /mount/repo/Proj_ENCODE_FCC/scripts \n",
      "PROJECT DATA    (FD_DAT): /mount/repo/Proj_ENCODE_FCC/data \n",
      "PROJECT NOTE    (FD_NBK): /mount/repo/Proj_ENCODE_FCC/notebooks \n",
      "PROJECT DOCS    (FD_DOC): /mount/repo/Proj_ENCODE_FCC/docs \n",
      "PROJECT LOG     (FD_LOG): /mount/repo/Proj_ENCODE_FCC/log \n",
      "PROJECT APP     (FD_APP): /mount/repo/Proj_ENCODE_FCC/app \n",
      "PROJECT REF     (FD_REF): /mount/repo/Proj_ENCODE_FCC/references \n",
      "\n"
     ]
    }
   ],
   "source": [
    "suppressMessages(suppressWarnings(source(\"../run_config_project_sing.R\")))\n",
    "show_env()"
   ]
  },
  {
   "cell_type": "code",
   "execution_count": 5,
   "id": "f374e595-356a-41af-a449-6c979d1bc69c",
   "metadata": {},
   "outputs": [
    {
     "name": "stdout",
     "output_type": "stream",
     "text": [
      "entry.list \n",
      "files.txt \n",
      "protein2ipr.dat.gz \n",
      "release_notes.txt \n"
     ]
    }
   ],
   "source": [
    "txt_fdiry = file.path(\n",
    "    FD_DAT, \n",
    "    \"external\",\n",
    "    \"protein_interpro\"\n",
    ")\n",
    "vec = dir(txt_fdiry)\n",
    "for (txt in vec){cat(txt, \"\\n\")}"
   ]
  },
  {
   "cell_type": "code",
   "execution_count": null,
   "id": "feff3c7a-a90b-4529-b201-fc982888da87",
   "metadata": {},
   "outputs": [],
   "source": [
    "txt_fdiry = file.path(\n",
    "    FD_DAT, \n",
    "    \"external\",\n",
    "    \"protein_interpro\"\n",
    ")\n",
    "txt_fname = \"protein2ipr.dat.gz\"\n",
    "txt_fpath = file.path(txt_fdiry, txt_fname)\n",
    "\n",
    "dat = read_tsv(txt_fpath)\n",
    "head(dat)"
   ]
  },
  {
   "cell_type": "code",
   "execution_count": null,
   "id": "0242292f-646e-46b3-8129-c66a0f25801a",
   "metadata": {},
   "outputs": [],
   "source": []
  },
  {
   "cell_type": "code",
   "execution_count": 2,
   "id": "12612fa3-2a88-4722-81c8-9e1c2505c059",
   "metadata": {},
   "outputs": [
    {
     "name": "stdout",
     "output_type": "stream",
     "text": [
      " [1] \"hclust.col.annotation.prepare.chipseq_full.fcc.tss.rds\"             \n",
      " [2] \"hclust.col.annotation.prepare.chipseq_full.only.rds\"                \n",
      " [3] \"hclust.col.annotation.test_chrX.chipseq_full.only.rds\"              \n",
      " [4] \"hclust.row.annotation.prepare.chipseq_full.fcc.tss.rds\"             \n",
      " [5] \"hclust.row.annotation.prepare.chipseq_full.only.rds\"                \n",
      " [6] \"hclust.row.annotation.test_chrX.chipseq_full.only.rds\"              \n",
      " [7] \"matrix.annotation.chipseq_flagship.tsv\"                             \n",
      " [8] \"matrix.annotation.chipseq_full.tsv\"                                 \n",
      " [9] \"matrix.annotation.chipseq_histone.tsv\"                              \n",
      "[10] \"matrix.annotation.chipseq_subset.tsv\"                               \n",
      "[11] \"matrix.annotation.fcc_peak_call.tsv\"                                \n",
      "[12] \"matrix.annotation.genome_tss.tsv\"                                   \n",
      "[13] \"matrix.annotation.merge.chipseq_full.fcc.tss.tsv\"                   \n",
      "[14] \"matrix.annotation.prepare.cre.chipseq_full.fcc.tss.tsv\"             \n",
      "[15] \"matrix.annotation.prepare.enh.chipseq_full.fcc.tss.tsv\"             \n",
      "[16] \"matrix.annotation.prepare.full.chipseq_full.fcc.tss.tsv\"            \n",
      "[17] \"matrix.annotation.prepare.full.chipseq_full.only.tsv\"               \n",
      "[18] \"matrix.annotation.prepare.rep.chipseq_full.fcc.tss.tsv\"             \n",
      "[19] \"matrix.annotation.test_chrX.chipseq_full.fcc.tss.tsv\"               \n",
      "[20] \"matrix.annotation.test_chrX.chipseq_full.only.tsv\"                  \n",
      "[21] \"region.annotation.encode_chipseq_flagship.tsv\"                      \n",
      "[22] \"region.annotation.encode_chipseq_histone.tsv\"                       \n",
      "[23] \"region.annotation.encode_chipseq_subset.tsv\"                        \n",
      "[24] \"region.annotation.encode_chromatin_states.tsv\"                      \n",
      "[25] \"region.annotation.fcc_astarr_csaw.tsv\"                              \n",
      "[26] \"region.annotation.fcc_crispri_growth.tsv\"                           \n",
      "[27] \"region.annotation.fcc_crispri_hcrff.tsv\"                            \n",
      "[28] \"region.annotation.fcc_mpra_agarwal2023.tsv\"                         \n",
      "[29] \"region.annotation.fcc_starrmpra_junke.tsv\"                          \n",
      "[30] \"region.annotation.genome_tss.tsv\"                                   \n",
      "[31] \"region.annotation.hic_insitu_K562_ENCSR545YBD.tsv\"                  \n",
      "[32] \"region.annotation.hic_intact_K562_deep.tsv\"                         \n",
      "[33] \"region.annotation.hic_intact_K562_ENCSR479XDG.tsv\"                  \n",
      "[34] \"region.annotation.module_tf_shannon.tsv\"                            \n",
      "[35] \"region.summary.encode_chipseq_encode4.tsv\"                          \n",
      "[36] \"region.summary.encode_chipseq_flagship.tsv\"                         \n",
      "[37] \"region.summary.encode_chipseq_histone.tsv\"                          \n",
      "[38] \"region.summary.encode_chipseq_subset.tsv\"                           \n",
      "[39] \"region.summary.encode_chromatin_states.tsv\"                         \n",
      "[40] \"region.summary.fcc_astarr_csaw.tsv\"                                 \n",
      "[41] \"region.summary.fcc_crispri_growth.tsv\"                              \n",
      "[42] \"region.summary.fcc_crispri_hcrff.tsv\"                               \n",
      "[43] \"region.summary.fcc_mpra_agarwal2023.tsv\"                            \n",
      "[44] \"region.summary.fcc_starrmpra_junke.tsv\"                             \n",
      "[45] \"region.summary.genome_tss.tsv\"                                      \n",
      "[46] \"region.summary.hic_insitu_K562_ENCSR545YBD.tsv\"                     \n",
      "[47] \"region.summary.hic_intact_K562_deep.tsv\"                            \n",
      "[48] \"region.summary.hic_intact_K562_ENCSR479XDG.tsv\"                     \n",
      "[49] \"region.summary.module_tf_shannon.tsv\"                               \n",
      "[50] \"result.summary.chipseq_flagship.tsv\"                                \n",
      "[51] \"result.summary.chipseq_full.tsv\"                                    \n",
      "[52] \"result.summary.chipseq_histone.tsv\"                                 \n",
      "[53] \"result.summary.chipseq_subset.tsv\"                                  \n",
      "[54] \"result.summary.connectivity.loop.tsv\"                               \n",
      "[55] \"result.summary.encode_chromatin_states.tsv\"                         \n",
      "[56] \"result.summary.fcc_peak_call.tsv\"                                   \n",
      "[57] \"result.summary.genome_tss.tsv\"                                      \n",
      "[58] \"result.summary.tfmodule.tsv\"                                        \n",
      "[59] \"tmp\"                                                                \n",
      "[60] \"umap.n_neighbors_15.annotation.prepare.cre.chipseq_full.fcc.tss.tsv\"\n",
      "[61] \"umap.n_neighbors_15.annotation.prepare.enh.chipseq_full.fcc.tss.tsv\"\n",
      "[62] \"umap.n_neighbors_15.annotation.test_chrX.chipseq_full.fcc.tss.tsv\"  \n",
      "[63] \"umap.n_neighbors_15.annotation.test_chrX.chipseq_full.only.tsv\"     \n",
      "[64] \"umap.n_neighbors_50.annotation.prepare.cre.chipseq_full.fcc.tss.tsv\"\n",
      "[65] \"umap.n_neighbors_50.annotation.prepare.enh.chipseq_full.fcc.tss.tsv\"\n",
      "[66] \"umap.n_neighbors_60.annotation.prepare.cre.chipseq_full.fcc.tss.tsv\"\n",
      "[67] \"umap.n_neighbors_60.annotation.prepare.enh.chipseq_full.fcc.tss.tsv\"\n",
      "[68] \"umap.n_neighbors_70.annotation.prepare.cre.chipseq_full.fcc.tss.tsv\"\n",
      "[69] \"umap.n_neighbors_70.annotation.prepare.enh.chipseq_full.fcc.tss.tsv\"\n",
      "[70] \"umap.n_neighbors_70.annotation.test_chrX.chipseq_full.fcc.tss.tsv\"  \n",
      "[71] \"umap.n_neighbors_70.annotation.test_chrX.chipseq_full.only.tsv\"     \n",
      "[72] \"umap.n_neighbors_90.annotation.prepare.cre.chipseq_full.fcc.tss.tsv\"\n",
      "[73] \"umap.n_neighbors_90.annotation.prepare.enh.chipseq_full.fcc.tss.tsv\"\n"
     ]
    }
   ],
   "source": [
    "txt_fdiry = file.path(\n",
    "    FD_RES, \n",
    "    \"region_annotation\", \n",
    "    \"fcc_astarr_macs_input_overlap\",\n",
    "    \"summary\"\n",
    ")\n",
    "vec = dir(txt_fdiry)\n",
    "print(vec)"
   ]
  }
 ],
 "metadata": {
  "kernelspec": {
   "display_name": "R",
   "language": "R",
   "name": "ir"
  },
  "language_info": {
   "codemirror_mode": "r",
   "file_extension": ".r",
   "mimetype": "text/x-r-source",
   "name": "R",
   "pygments_lexer": "r",
   "version": "4.4.1"
  }
 },
 "nbformat": 4,
 "nbformat_minor": 5
}
