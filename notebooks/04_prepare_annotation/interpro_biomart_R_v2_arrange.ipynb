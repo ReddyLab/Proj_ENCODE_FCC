{
 "cells": [
  {
   "cell_type": "raw",
   "id": "4e7b1697-4f46-4aa8-bb75-e31d45b5aa49",
   "metadata": {},
   "source": [
    "---\n",
    "title: Prepare TF Modules 01\n",
    "subtitle: Explore the data\n",
    "format:\n",
    "    html:\n",
    "        code-fold:  true\n",
    "        code-tools: true\n",
    "---"
   ]
  },
  {
   "cell_type": "markdown",
   "id": "0e05f994-f054-4747-bfff-af8324f12330",
   "metadata": {},
   "source": [
    "**Set environment**"
   ]
  },
  {
   "cell_type": "code",
   "execution_count": 1,
   "id": "9c5c1d96-e402-45b8-8250-677085aa5999",
   "metadata": {
    "tags": []
   },
   "outputs": [
    {
     "name": "stdout",
     "output_type": "stream",
     "text": [
      "You are working on        Singularity \n",
      "BASE DIRECTORY (FD_BASE): /mount \n",
      "REPO DIRECTORY (FD_REPO): /mount/repo \n",
      "WORK DIRECTORY (FD_WORK): /mount/work \n",
      "DATA DIRECTORY (FD_DATA): /mount/data \n",
      "\n",
      "You are working with      ENCODE FCC \n",
      "PATH OF PROJECT (FD_PRJ): /mount/repo/Proj_ENCODE_FCC \n",
      "PROJECT RESULTS (FD_RES): /mount/repo/Proj_ENCODE_FCC/results \n",
      "PROJECT SCRIPTS (FD_EXE): /mount/repo/Proj_ENCODE_FCC/scripts \n",
      "PROJECT DATA    (FD_DAT): /mount/repo/Proj_ENCODE_FCC/data \n",
      "PROJECT NOTE    (FD_NBK): /mount/repo/Proj_ENCODE_FCC/notebooks \n",
      "PROJECT DOCS    (FD_DOC): /mount/repo/Proj_ENCODE_FCC/docs \n",
      "PROJECT LOG     (FD_LOG): /mount/repo/Proj_ENCODE_FCC/log \n",
      "PROJECT APP     (FD_APP): /mount/repo/Proj_ENCODE_FCC/app \n",
      "PROJECT REF     (FD_REF): /mount/repo/Proj_ENCODE_FCC/references \n",
      "\n"
     ]
    }
   ],
   "source": [
    "suppressMessages(suppressWarnings(source(\"../run_config_project_sing.R\")))\n",
    "show_env()"
   ]
  },
  {
   "cell_type": "code",
   "execution_count": 2,
   "id": "16018523-3128-4cac-924d-e5d24242b988",
   "metadata": {},
   "outputs": [
    {
     "name": "stderr",
     "output_type": "stream",
     "text": [
      "\u001b[1mRows: \u001b[22m\u001b[34m1489889\u001b[39m \u001b[1mColumns: \u001b[22m\u001b[34m9\u001b[39m\n",
      "\u001b[36m──\u001b[39m \u001b[1mColumn specification\u001b[22m \u001b[36m────────────────────────────────────────────────────\u001b[39m\n",
      "\u001b[1mDelimiter:\u001b[22m \"\\t\"\n",
      "\u001b[31mchr\u001b[39m (9): Chromosome/scaffold name, Gene stable ID, Gene name, Gene Synonym, ...\n",
      "\n",
      "\u001b[36mℹ\u001b[39m Use `spec()` to retrieve the full column specification for this data.\n",
      "\u001b[36mℹ\u001b[39m Specify the column types or set `show_col_types = FALSE` to quiet this message.\n"
     ]
    },
    {
     "name": "stdout",
     "output_type": "stream",
     "text": [
      "[1] 1489889       9\n"
     ]
    },
    {
     "data": {
      "text/html": [
       "<table class=\"dataframe\">\n",
       "<caption>A tibble: 6 × 9</caption>\n",
       "<thead>\n",
       "\t<tr><th scope=col>Chromosome/scaffold name</th><th scope=col>Gene stable ID</th><th scope=col>Gene name</th><th scope=col>Gene Synonym</th><th scope=col>UniProtKB Gene Name ID</th><th scope=col>UniProtKB Gene Name symbol</th><th scope=col>Interpro ID</th><th scope=col>Interpro Short Description</th><th scope=col>Interpro Description</th></tr>\n",
       "\t<tr><th scope=col>&lt;chr&gt;</th><th scope=col>&lt;chr&gt;</th><th scope=col>&lt;chr&gt;</th><th scope=col>&lt;chr&gt;</th><th scope=col>&lt;chr&gt;</th><th scope=col>&lt;chr&gt;</th><th scope=col>&lt;chr&gt;</th><th scope=col>&lt;chr&gt;</th><th scope=col>&lt;chr&gt;</th></tr>\n",
       "</thead>\n",
       "<tbody>\n",
       "\t<tr><td>MT</td><td>ENSG00000198888</td><td>MT-ND1</td><td>MTND1</td><td>U5Z754</td><td>ND1   </td><td>IPR001694</td><td>NADH_UbQ_OxRdtase_su1/FPO</td><td>NADH:ubiquinone oxidoreductase, subunit 1/F420H2 oxidoreductase subunit H</td></tr>\n",
       "\t<tr><td>MT</td><td>ENSG00000198888</td><td>MT-ND1</td><td>MTND1</td><td>P03886</td><td>MT-ND1</td><td>IPR001694</td><td>NADH_UbQ_OxRdtase_su1/FPO</td><td>NADH:ubiquinone oxidoreductase, subunit 1/F420H2 oxidoreductase subunit H</td></tr>\n",
       "\t<tr><td>MT</td><td>ENSG00000198888</td><td>MT-ND1</td><td>NAD1 </td><td>U5Z754</td><td>ND1   </td><td>IPR001694</td><td>NADH_UbQ_OxRdtase_su1/FPO</td><td>NADH:ubiquinone oxidoreductase, subunit 1/F420H2 oxidoreductase subunit H</td></tr>\n",
       "\t<tr><td>MT</td><td>ENSG00000198888</td><td>MT-ND1</td><td>NAD1 </td><td>P03886</td><td>MT-ND1</td><td>IPR001694</td><td>NADH_UbQ_OxRdtase_su1/FPO</td><td>NADH:ubiquinone oxidoreductase, subunit 1/F420H2 oxidoreductase subunit H</td></tr>\n",
       "\t<tr><td>MT</td><td>ENSG00000198888</td><td>MT-ND1</td><td>ND1  </td><td>U5Z754</td><td>ND1   </td><td>IPR001694</td><td>NADH_UbQ_OxRdtase_su1/FPO</td><td>NADH:ubiquinone oxidoreductase, subunit 1/F420H2 oxidoreductase subunit H</td></tr>\n",
       "\t<tr><td>MT</td><td>ENSG00000198888</td><td>MT-ND1</td><td>ND1  </td><td>P03886</td><td>MT-ND1</td><td>IPR001694</td><td>NADH_UbQ_OxRdtase_su1/FPO</td><td>NADH:ubiquinone oxidoreductase, subunit 1/F420H2 oxidoreductase subunit H</td></tr>\n",
       "</tbody>\n",
       "</table>\n"
      ],
      "text/latex": [
       "A tibble: 6 × 9\n",
       "\\begin{tabular}{lllllllll}\n",
       " Chromosome/scaffold name & Gene stable ID & Gene name & Gene Synonym & UniProtKB Gene Name ID & UniProtKB Gene Name symbol & Interpro ID & Interpro Short Description & Interpro Description\\\\\n",
       " <chr> & <chr> & <chr> & <chr> & <chr> & <chr> & <chr> & <chr> & <chr>\\\\\n",
       "\\hline\n",
       "\t MT & ENSG00000198888 & MT-ND1 & MTND1 & U5Z754 & ND1    & IPR001694 & NADH\\_UbQ\\_OxRdtase\\_su1/FPO & NADH:ubiquinone oxidoreductase, subunit 1/F420H2 oxidoreductase subunit H\\\\\n",
       "\t MT & ENSG00000198888 & MT-ND1 & MTND1 & P03886 & MT-ND1 & IPR001694 & NADH\\_UbQ\\_OxRdtase\\_su1/FPO & NADH:ubiquinone oxidoreductase, subunit 1/F420H2 oxidoreductase subunit H\\\\\n",
       "\t MT & ENSG00000198888 & MT-ND1 & NAD1  & U5Z754 & ND1    & IPR001694 & NADH\\_UbQ\\_OxRdtase\\_su1/FPO & NADH:ubiquinone oxidoreductase, subunit 1/F420H2 oxidoreductase subunit H\\\\\n",
       "\t MT & ENSG00000198888 & MT-ND1 & NAD1  & P03886 & MT-ND1 & IPR001694 & NADH\\_UbQ\\_OxRdtase\\_su1/FPO & NADH:ubiquinone oxidoreductase, subunit 1/F420H2 oxidoreductase subunit H\\\\\n",
       "\t MT & ENSG00000198888 & MT-ND1 & ND1   & U5Z754 & ND1    & IPR001694 & NADH\\_UbQ\\_OxRdtase\\_su1/FPO & NADH:ubiquinone oxidoreductase, subunit 1/F420H2 oxidoreductase subunit H\\\\\n",
       "\t MT & ENSG00000198888 & MT-ND1 & ND1   & P03886 & MT-ND1 & IPR001694 & NADH\\_UbQ\\_OxRdtase\\_su1/FPO & NADH:ubiquinone oxidoreductase, subunit 1/F420H2 oxidoreductase subunit H\\\\\n",
       "\\end{tabular}\n"
      ],
      "text/markdown": [
       "\n",
       "A tibble: 6 × 9\n",
       "\n",
       "| Chromosome/scaffold name &lt;chr&gt; | Gene stable ID &lt;chr&gt; | Gene name &lt;chr&gt; | Gene Synonym &lt;chr&gt; | UniProtKB Gene Name ID &lt;chr&gt; | UniProtKB Gene Name symbol &lt;chr&gt; | Interpro ID &lt;chr&gt; | Interpro Short Description &lt;chr&gt; | Interpro Description &lt;chr&gt; |\n",
       "|---|---|---|---|---|---|---|---|---|\n",
       "| MT | ENSG00000198888 | MT-ND1 | MTND1 | U5Z754 | ND1    | IPR001694 | NADH_UbQ_OxRdtase_su1/FPO | NADH:ubiquinone oxidoreductase, subunit 1/F420H2 oxidoreductase subunit H |\n",
       "| MT | ENSG00000198888 | MT-ND1 | MTND1 | P03886 | MT-ND1 | IPR001694 | NADH_UbQ_OxRdtase_su1/FPO | NADH:ubiquinone oxidoreductase, subunit 1/F420H2 oxidoreductase subunit H |\n",
       "| MT | ENSG00000198888 | MT-ND1 | NAD1  | U5Z754 | ND1    | IPR001694 | NADH_UbQ_OxRdtase_su1/FPO | NADH:ubiquinone oxidoreductase, subunit 1/F420H2 oxidoreductase subunit H |\n",
       "| MT | ENSG00000198888 | MT-ND1 | NAD1  | P03886 | MT-ND1 | IPR001694 | NADH_UbQ_OxRdtase_su1/FPO | NADH:ubiquinone oxidoreductase, subunit 1/F420H2 oxidoreductase subunit H |\n",
       "| MT | ENSG00000198888 | MT-ND1 | ND1   | U5Z754 | ND1    | IPR001694 | NADH_UbQ_OxRdtase_su1/FPO | NADH:ubiquinone oxidoreductase, subunit 1/F420H2 oxidoreductase subunit H |\n",
       "| MT | ENSG00000198888 | MT-ND1 | ND1   | P03886 | MT-ND1 | IPR001694 | NADH_UbQ_OxRdtase_su1/FPO | NADH:ubiquinone oxidoreductase, subunit 1/F420H2 oxidoreductase subunit H |\n",
       "\n"
      ],
      "text/plain": [
       "  Chromosome/scaffold name Gene stable ID  Gene name Gene Synonym\n",
       "1 MT                       ENSG00000198888 MT-ND1    MTND1       \n",
       "2 MT                       ENSG00000198888 MT-ND1    MTND1       \n",
       "3 MT                       ENSG00000198888 MT-ND1    NAD1        \n",
       "4 MT                       ENSG00000198888 MT-ND1    NAD1        \n",
       "5 MT                       ENSG00000198888 MT-ND1    ND1         \n",
       "6 MT                       ENSG00000198888 MT-ND1    ND1         \n",
       "  UniProtKB Gene Name ID UniProtKB Gene Name symbol Interpro ID\n",
       "1 U5Z754                 ND1                        IPR001694  \n",
       "2 P03886                 MT-ND1                     IPR001694  \n",
       "3 U5Z754                 ND1                        IPR001694  \n",
       "4 P03886                 MT-ND1                     IPR001694  \n",
       "5 U5Z754                 ND1                        IPR001694  \n",
       "6 P03886                 MT-ND1                     IPR001694  \n",
       "  Interpro Short Description\n",
       "1 NADH_UbQ_OxRdtase_su1/FPO \n",
       "2 NADH_UbQ_OxRdtase_su1/FPO \n",
       "3 NADH_UbQ_OxRdtase_su1/FPO \n",
       "4 NADH_UbQ_OxRdtase_su1/FPO \n",
       "5 NADH_UbQ_OxRdtase_su1/FPO \n",
       "6 NADH_UbQ_OxRdtase_su1/FPO \n",
       "  Interpro Description                                                     \n",
       "1 NADH:ubiquinone oxidoreductase, subunit 1/F420H2 oxidoreductase subunit H\n",
       "2 NADH:ubiquinone oxidoreductase, subunit 1/F420H2 oxidoreductase subunit H\n",
       "3 NADH:ubiquinone oxidoreductase, subunit 1/F420H2 oxidoreductase subunit H\n",
       "4 NADH:ubiquinone oxidoreductase, subunit 1/F420H2 oxidoreductase subunit H\n",
       "5 NADH:ubiquinone oxidoreductase, subunit 1/F420H2 oxidoreductase subunit H\n",
       "6 NADH:ubiquinone oxidoreductase, subunit 1/F420H2 oxidoreductase subunit H"
      ]
     },
     "metadata": {},
     "output_type": "display_data"
    }
   ],
   "source": [
    "txt_fdiry = file.path(\n",
    "    FD_DAT, \n",
    "    \"external\", \n",
    "    \"protein_interpro\"\n",
    ")\n",
    "txt_fname = \"mart_export_gene_interpro.txt.gz\"\n",
    "txt_fpath = file.path(txt_fdiry, txt_fname)\n",
    "\n",
    "dat = read_tsv(txt_fpath)\n",
    "\n",
    "dat_gene_interpro = dat\n",
    "print(dim(dat))\n",
    "head(dat)"
   ]
  },
  {
   "cell_type": "code",
   "execution_count": 14,
   "id": "4654e49d-0063-4d33-91e1-45fe3ab866e5",
   "metadata": {},
   "outputs": [
    {
     "name": "stdout",
     "output_type": "stream",
     "text": [
      "[1] 957568      9\n"
     ]
    },
    {
     "data": {
      "text/html": [
       "<table class=\"dataframe\">\n",
       "<caption>A tibble: 6 × 9</caption>\n",
       "<thead>\n",
       "\t<tr><th scope=col>Chrom</th><th scope=col>Ensembl_ID</th><th scope=col>Ensembl_Name</th><th scope=col>Ensembl_Synonym</th><th scope=col>UniProt_ID</th><th scope=col>UniProt_Name</th><th scope=col>Interpro_ID</th><th scope=col>Interpro_Desc_Short</th><th scope=col>Interpro_Desc_Long</th></tr>\n",
       "\t<tr><th scope=col>&lt;chr&gt;</th><th scope=col>&lt;chr&gt;</th><th scope=col>&lt;chr&gt;</th><th scope=col>&lt;chr&gt;</th><th scope=col>&lt;chr&gt;</th><th scope=col>&lt;chr&gt;</th><th scope=col>&lt;chr&gt;</th><th scope=col>&lt;chr&gt;</th><th scope=col>&lt;chr&gt;</th></tr>\n",
       "</thead>\n",
       "<tbody>\n",
       "\t<tr><td>chr1</td><td>ENSG00000142611</td><td>PRDM16</td><td>KIAA1675</td><td>H0YA13</td><td>PRDM16</td><td>IPR001214</td><td>SET_dom</td><td>SET domain</td></tr>\n",
       "\t<tr><td>chr1</td><td>ENSG00000142611</td><td>PRDM16</td><td>KIAA1675</td><td>D6RFY3</td><td>PRDM16</td><td>IPR001214</td><td>SET_dom</td><td>SET domain</td></tr>\n",
       "\t<tr><td>chr1</td><td>ENSG00000142611</td><td>PRDM16</td><td>KIAA1675</td><td>D6RDW0</td><td>PRDM16</td><td>IPR001214</td><td>SET_dom</td><td>SET domain</td></tr>\n",
       "\t<tr><td>chr1</td><td>ENSG00000142611</td><td>PRDM16</td><td>KIAA1675</td><td>U3KQL6</td><td>PRDM16</td><td>IPR001214</td><td>SET_dom</td><td>SET domain</td></tr>\n",
       "\t<tr><td>chr1</td><td>ENSG00000142611</td><td>PRDM16</td><td>KIAA1675</td><td>Q9HAZ2</td><td>PRDM16</td><td>IPR001214</td><td>SET_dom</td><td>SET domain</td></tr>\n",
       "\t<tr><td>chr1</td><td>ENSG00000142611</td><td>PRDM16</td><td>KMT8F   </td><td>H0YA13</td><td>PRDM16</td><td>IPR001214</td><td>SET_dom</td><td>SET domain</td></tr>\n",
       "</tbody>\n",
       "</table>\n"
      ],
      "text/latex": [
       "A tibble: 6 × 9\n",
       "\\begin{tabular}{lllllllll}\n",
       " Chrom & Ensembl\\_ID & Ensembl\\_Name & Ensembl\\_Synonym & UniProt\\_ID & UniProt\\_Name & Interpro\\_ID & Interpro\\_Desc\\_Short & Interpro\\_Desc\\_Long\\\\\n",
       " <chr> & <chr> & <chr> & <chr> & <chr> & <chr> & <chr> & <chr> & <chr>\\\\\n",
       "\\hline\n",
       "\t chr1 & ENSG00000142611 & PRDM16 & KIAA1675 & H0YA13 & PRDM16 & IPR001214 & SET\\_dom & SET domain\\\\\n",
       "\t chr1 & ENSG00000142611 & PRDM16 & KIAA1675 & D6RFY3 & PRDM16 & IPR001214 & SET\\_dom & SET domain\\\\\n",
       "\t chr1 & ENSG00000142611 & PRDM16 & KIAA1675 & D6RDW0 & PRDM16 & IPR001214 & SET\\_dom & SET domain\\\\\n",
       "\t chr1 & ENSG00000142611 & PRDM16 & KIAA1675 & U3KQL6 & PRDM16 & IPR001214 & SET\\_dom & SET domain\\\\\n",
       "\t chr1 & ENSG00000142611 & PRDM16 & KIAA1675 & Q9HAZ2 & PRDM16 & IPR001214 & SET\\_dom & SET domain\\\\\n",
       "\t chr1 & ENSG00000142611 & PRDM16 & KMT8F    & H0YA13 & PRDM16 & IPR001214 & SET\\_dom & SET domain\\\\\n",
       "\\end{tabular}\n"
      ],
      "text/markdown": [
       "\n",
       "A tibble: 6 × 9\n",
       "\n",
       "| Chrom &lt;chr&gt; | Ensembl_ID &lt;chr&gt; | Ensembl_Name &lt;chr&gt; | Ensembl_Synonym &lt;chr&gt; | UniProt_ID &lt;chr&gt; | UniProt_Name &lt;chr&gt; | Interpro_ID &lt;chr&gt; | Interpro_Desc_Short &lt;chr&gt; | Interpro_Desc_Long &lt;chr&gt; |\n",
       "|---|---|---|---|---|---|---|---|---|\n",
       "| chr1 | ENSG00000142611 | PRDM16 | KIAA1675 | H0YA13 | PRDM16 | IPR001214 | SET_dom | SET domain |\n",
       "| chr1 | ENSG00000142611 | PRDM16 | KIAA1675 | D6RFY3 | PRDM16 | IPR001214 | SET_dom | SET domain |\n",
       "| chr1 | ENSG00000142611 | PRDM16 | KIAA1675 | D6RDW0 | PRDM16 | IPR001214 | SET_dom | SET domain |\n",
       "| chr1 | ENSG00000142611 | PRDM16 | KIAA1675 | U3KQL6 | PRDM16 | IPR001214 | SET_dom | SET domain |\n",
       "| chr1 | ENSG00000142611 | PRDM16 | KIAA1675 | Q9HAZ2 | PRDM16 | IPR001214 | SET_dom | SET domain |\n",
       "| chr1 | ENSG00000142611 | PRDM16 | KMT8F    | H0YA13 | PRDM16 | IPR001214 | SET_dom | SET domain |\n",
       "\n"
      ],
      "text/plain": [
       "  Chrom Ensembl_ID      Ensembl_Name Ensembl_Synonym UniProt_ID UniProt_Name\n",
       "1 chr1  ENSG00000142611 PRDM16       KIAA1675        H0YA13     PRDM16      \n",
       "2 chr1  ENSG00000142611 PRDM16       KIAA1675        D6RFY3     PRDM16      \n",
       "3 chr1  ENSG00000142611 PRDM16       KIAA1675        D6RDW0     PRDM16      \n",
       "4 chr1  ENSG00000142611 PRDM16       KIAA1675        U3KQL6     PRDM16      \n",
       "5 chr1  ENSG00000142611 PRDM16       KIAA1675        Q9HAZ2     PRDM16      \n",
       "6 chr1  ENSG00000142611 PRDM16       KMT8F           H0YA13     PRDM16      \n",
       "  Interpro_ID Interpro_Desc_Short Interpro_Desc_Long\n",
       "1 IPR001214   SET_dom             SET domain        \n",
       "2 IPR001214   SET_dom             SET domain        \n",
       "3 IPR001214   SET_dom             SET domain        \n",
       "4 IPR001214   SET_dom             SET domain        \n",
       "5 IPR001214   SET_dom             SET domain        \n",
       "6 IPR001214   SET_dom             SET domain        "
      ]
     },
     "metadata": {},
     "output_type": "display_data"
    }
   ],
   "source": [
    "dat = dat_gene_interpro\n",
    "vec = c(1:22, \"X\", \"Y\")\n",
    "\n",
    "dat = dat %>% \n",
    "    dplyr::filter(`Chromosome/scaffold name` %in% vec) %>%\n",
    "    dplyr::distinct() %>%\n",
    "    na.omit\n",
    "\n",
    "colnames(dat) = c(\n",
    "    \"Chrom\", \n",
    "    \"Ensembl_ID\", \"Ensembl_Name\", \"Ensembl_Synonym\",\n",
    "    \"UniProt_ID\", \"UniProt_Name\",\n",
    "    \"Interpro_ID\", \"Interpro_Desc_Short\", \"Interpro_Desc_Long\"\n",
    ")\n",
    "\n",
    "dat = dat %>% \n",
    "    dplyr::mutate(Chrom = paste0(\"chr\", Chrom)) %>%\n",
    "    dplyr::arrange(Chrom)\n",
    "\n",
    "dat_gene_interpro_export = dat\n",
    "print(dim(dat))\n",
    "head(dat)"
   ]
  },
  {
   "cell_type": "code",
   "execution_count": 15,
   "id": "9ab27dc4-34bc-418e-b423-afb016911589",
   "metadata": {},
   "outputs": [
    {
     "data": {
      "text/plain": [
       "\n",
       " chr1 chr10 chr11 chr12 chr13 chr14 chr15 chr16 chr17 chr18 chr19  chr2 chr20 \n",
       "78047 32676 65913 53164 15952 35107 34293 36237 63731 14796 67267 59068 21597 \n",
       "chr21 chr22  chr3  chr4  chr5  chr6  chr7  chr8  chr9  chrX  chrY \n",
       " 8370 16938 61776 36981 37625 58701 42848 36679 35614 42780  1408 "
      ]
     },
     "metadata": {},
     "output_type": "display_data"
    }
   ],
   "source": [
    "table(dat$Chrom)"
   ]
  },
  {
   "cell_type": "code",
   "execution_count": 16,
   "id": "85abd1a4-7351-4c2e-8dbd-7543409abf07",
   "metadata": {},
   "outputs": [
    {
     "data": {
      "text/html": [
       "0.64271096705862"
      ],
      "text/latex": [
       "0.64271096705862"
      ],
      "text/markdown": [
       "0.64271096705862"
      ],
      "text/plain": [
       "[1] 0.642711"
      ]
     },
     "metadata": {},
     "output_type": "display_data"
    }
   ],
   "source": [
    "957568/1489889"
   ]
  },
  {
   "cell_type": "code",
   "execution_count": 17,
   "id": "8afc4559-c932-4878-96d2-2dde215fb87c",
   "metadata": {},
   "outputs": [],
   "source": [
    "txt_fdiry = file.path(\n",
    "    FD_RES, \n",
    "    \"annotation\", \n",
    "    \"protein_interpro\"\n",
    ")\n",
    "txt_fname = \"dat.interpro_gene.mart_export.tsv\"\n",
    "txt_fpath = file.path(txt_fdiry, txt_fname)\n",
    "\n",
    "write_tsv(dat_gene_interpro_export, txt_fpath)"
   ]
  },
  {
   "cell_type": "code",
   "execution_count": null,
   "id": "f73f4b3b-7b3a-4c0b-b770-3db5fd53ace7",
   "metadata": {},
   "outputs": [],
   "source": []
  },
  {
   "cell_type": "code",
   "execution_count": null,
   "id": "60e6b495-1b08-4a39-9d05-ff4e1c3d05d1",
   "metadata": {},
   "outputs": [],
   "source": []
  },
  {
   "cell_type": "code",
   "execution_count": null,
   "id": "b2989d19-390b-4789-8091-0f46e3f66ca5",
   "metadata": {},
   "outputs": [],
   "source": []
  },
  {
   "cell_type": "code",
   "execution_count": 4,
   "id": "09750bb2-ebce-4baf-bcfb-55f212236460",
   "metadata": {},
   "outputs": [
    {
     "name": "stderr",
     "output_type": "stream",
     "text": [
      "\u001b[1mRows: \u001b[22m\u001b[34m2503\u001b[39m \u001b[1mColumns: \u001b[22m\u001b[34m2\u001b[39m\n",
      "\u001b[36m──\u001b[39m \u001b[1mColumn specification\u001b[22m \u001b[36m────────────────────────────────────────────────────\u001b[39m\n",
      "\u001b[1mDelimiter:\u001b[22m \"\\t\"\n",
      "\u001b[31mchr\u001b[39m (2): Module, TF\n",
      "\n",
      "\u001b[36mℹ\u001b[39m Use `spec()` to retrieve the full column specification for this data.\n",
      "\u001b[36mℹ\u001b[39m Specify the column types or set `show_col_types = FALSE` to quiet this message.\n"
     ]
    },
    {
     "name": "stdout",
     "output_type": "stream",
     "text": [
      "[1] 2503    2\n"
     ]
    },
    {
     "data": {
      "text/html": [
       "<table class=\"dataframe\">\n",
       "<caption>A tibble: 6 × 2</caption>\n",
       "<thead>\n",
       "\t<tr><th scope=col>Module</th><th scope=col>TF</th></tr>\n",
       "\t<tr><th scope=col>&lt;chr&gt;</th><th scope=col>&lt;chr&gt;</th></tr>\n",
       "</thead>\n",
       "<tbody>\n",
       "\t<tr><td>Module_01</td><td>ZNF589</td></tr>\n",
       "\t<tr><td>Module_01</td><td>JUNB  </td></tr>\n",
       "\t<tr><td>Module_01</td><td>FOSL1 </td></tr>\n",
       "\t<tr><td>Module_01</td><td>MEIS2 </td></tr>\n",
       "\t<tr><td>Module_01</td><td>EGR1  </td></tr>\n",
       "\t<tr><td>Module_01</td><td>MEF2D </td></tr>\n",
       "</tbody>\n",
       "</table>\n"
      ],
      "text/latex": [
       "A tibble: 6 × 2\n",
       "\\begin{tabular}{ll}\n",
       " Module & TF\\\\\n",
       " <chr> & <chr>\\\\\n",
       "\\hline\n",
       "\t Module\\_01 & ZNF589\\\\\n",
       "\t Module\\_01 & JUNB  \\\\\n",
       "\t Module\\_01 & FOSL1 \\\\\n",
       "\t Module\\_01 & MEIS2 \\\\\n",
       "\t Module\\_01 & EGR1  \\\\\n",
       "\t Module\\_01 & MEF2D \\\\\n",
       "\\end{tabular}\n"
      ],
      "text/markdown": [
       "\n",
       "A tibble: 6 × 2\n",
       "\n",
       "| Module &lt;chr&gt; | TF &lt;chr&gt; |\n",
       "|---|---|\n",
       "| Module_01 | ZNF589 |\n",
       "| Module_01 | JUNB   |\n",
       "| Module_01 | FOSL1  |\n",
       "| Module_01 | MEIS2  |\n",
       "| Module_01 | EGR1   |\n",
       "| Module_01 | MEF2D  |\n",
       "\n"
      ],
      "text/plain": [
       "  Module    TF    \n",
       "1 Module_01 ZNF589\n",
       "2 Module_01 JUNB  \n",
       "3 Module_01 FOSL1 \n",
       "4 Module_01 MEIS2 \n",
       "5 Module_01 EGR1  \n",
       "6 Module_01 MEF2D "
      ]
     },
     "metadata": {},
     "output_type": "display_data"
    }
   ],
   "source": [
    "txt_fdiry = file.path(\n",
    "    FD_RES, \n",
    "    \"region\",\n",
    "    \"module_tf_shannon\", \n",
    "    \"summary\"\n",
    ")\n",
    "txt_fname = \"data.TF_Module.tsv\"\n",
    "txt_fpath = file.path(txt_fdiry, txt_fname)\n",
    "\n",
    "dat = read_tsv(txt_fpath)\n",
    "\n",
    "dat_tf_module = dat\n",
    "print(dim(dat))\n",
    "head(dat)"
   ]
  },
  {
   "cell_type": "code",
   "execution_count": 10,
   "id": "0d7cc33d-a3c9-4fcb-966d-361aa93eac9a",
   "metadata": {},
   "outputs": [
    {
     "name": "stdout",
     "output_type": "stream",
     "text": [
      "232 / 234 \n"
     ]
    }
   ],
   "source": [
    "dat = dat_gene_interpro\n",
    "vec = c(\n",
    "    dat$`UniProtKB Gene Name symbol`,\n",
    "    dat$`Gene name`,\n",
    "    dat$`Gene Synonym`\n",
    ")\n",
    "vec = unique(vec)\n",
    "vec1 = vec\n",
    "\n",
    "dat = dat_tf_module\n",
    "vec = dat$TF\n",
    "vec = unique(vec)\n",
    "vec2 = vec\n",
    "\n",
    "vec = (vec2 %in% vec1)\n",
    "cat(sum(vec), \"/\", length(vec), \"\\n\")"
   ]
  },
  {
   "cell_type": "code",
   "execution_count": 18,
   "id": "6655f09b-b21c-44c1-9d32-eaf29563481d",
   "metadata": {},
   "outputs": [
    {
     "name": "stdout",
     "output_type": "stream",
     "text": [
      "[1] 16530     3\n"
     ]
    },
    {
     "data": {
      "text/html": [
       "<table class=\"dataframe\">\n",
       "<caption>A tibble: 6 × 3</caption>\n",
       "<thead>\n",
       "\t<tr><th scope=col>Interpro_ID</th><th scope=col>Interpro_Short_Description</th><th scope=col>Interpro_Description</th></tr>\n",
       "\t<tr><th scope=col>&lt;chr&gt;</th><th scope=col>&lt;chr&gt;</th><th scope=col>&lt;chr&gt;</th></tr>\n",
       "</thead>\n",
       "<tbody>\n",
       "\t<tr><td>IPR001694</td><td>NADH_UbQ_OxRdtase_su1/FPO</td><td>NADH:ubiquinone oxidoreductase, subunit 1/F420H2 oxidoreductase subunit H</td></tr>\n",
       "\t<tr><td>IPR018086</td><td>NADH_UbQ_OxRdtase_su1_CS </td><td>NADH:ubiquinone oxidoreductase, subunit 1, conserved site                </td></tr>\n",
       "\t<tr><td>IPR001750</td><td>ND/Mrp_mem               </td><td>NADH:quinone oxidoreductase/Mrp antiporter, membrane subunit             </td></tr>\n",
       "\t<tr><td>IPR003917</td><td>NADH_UbQ_OxRdtase_chain2 </td><td>NADH:ubiquinone oxidoreductase, chain 2                                  </td></tr>\n",
       "\t<tr><td>IPR010933</td><td>NADH_DH_su2_C            </td><td>NADH dehydrogenase subunit 2, C-terminal                                 </td></tr>\n",
       "\t<tr><td>IPR000883</td><td>Cyt_C_Oxase_1            </td><td>Cytochrome c oxidase subunit I                                           </td></tr>\n",
       "</tbody>\n",
       "</table>\n"
      ],
      "text/latex": [
       "A tibble: 6 × 3\n",
       "\\begin{tabular}{lll}\n",
       " Interpro\\_ID & Interpro\\_Short\\_Description & Interpro\\_Description\\\\\n",
       " <chr> & <chr> & <chr>\\\\\n",
       "\\hline\n",
       "\t IPR001694 & NADH\\_UbQ\\_OxRdtase\\_su1/FPO & NADH:ubiquinone oxidoreductase, subunit 1/F420H2 oxidoreductase subunit H\\\\\n",
       "\t IPR018086 & NADH\\_UbQ\\_OxRdtase\\_su1\\_CS  & NADH:ubiquinone oxidoreductase, subunit 1, conserved site                \\\\\n",
       "\t IPR001750 & ND/Mrp\\_mem                & NADH:quinone oxidoreductase/Mrp antiporter, membrane subunit             \\\\\n",
       "\t IPR003917 & NADH\\_UbQ\\_OxRdtase\\_chain2  & NADH:ubiquinone oxidoreductase, chain 2                                  \\\\\n",
       "\t IPR010933 & NADH\\_DH\\_su2\\_C             & NADH dehydrogenase subunit 2, C-terminal                                 \\\\\n",
       "\t IPR000883 & Cyt\\_C\\_Oxase\\_1             & Cytochrome c oxidase subunit I                                           \\\\\n",
       "\\end{tabular}\n"
      ],
      "text/markdown": [
       "\n",
       "A tibble: 6 × 3\n",
       "\n",
       "| Interpro_ID &lt;chr&gt; | Interpro_Short_Description &lt;chr&gt; | Interpro_Description &lt;chr&gt; |\n",
       "|---|---|---|\n",
       "| IPR001694 | NADH_UbQ_OxRdtase_su1/FPO | NADH:ubiquinone oxidoreductase, subunit 1/F420H2 oxidoreductase subunit H |\n",
       "| IPR018086 | NADH_UbQ_OxRdtase_su1_CS  | NADH:ubiquinone oxidoreductase, subunit 1, conserved site                 |\n",
       "| IPR001750 | ND/Mrp_mem                | NADH:quinone oxidoreductase/Mrp antiporter, membrane subunit              |\n",
       "| IPR003917 | NADH_UbQ_OxRdtase_chain2  | NADH:ubiquinone oxidoreductase, chain 2                                   |\n",
       "| IPR010933 | NADH_DH_su2_C             | NADH dehydrogenase subunit 2, C-terminal                                  |\n",
       "| IPR000883 | Cyt_C_Oxase_1             | Cytochrome c oxidase subunit I                                            |\n",
       "\n"
      ],
      "text/plain": [
       "  Interpro_ID Interpro_Short_Description\n",
       "1 IPR001694   NADH_UbQ_OxRdtase_su1/FPO \n",
       "2 IPR018086   NADH_UbQ_OxRdtase_su1_CS  \n",
       "3 IPR001750   ND/Mrp_mem                \n",
       "4 IPR003917   NADH_UbQ_OxRdtase_chain2  \n",
       "5 IPR010933   NADH_DH_su2_C             \n",
       "6 IPR000883   Cyt_C_Oxase_1             \n",
       "  Interpro_Description                                                     \n",
       "1 NADH:ubiquinone oxidoreductase, subunit 1/F420H2 oxidoreductase subunit H\n",
       "2 NADH:ubiquinone oxidoreductase, subunit 1, conserved site                \n",
       "3 NADH:quinone oxidoreductase/Mrp antiporter, membrane subunit             \n",
       "4 NADH:ubiquinone oxidoreductase, chain 2                                  \n",
       "5 NADH dehydrogenase subunit 2, C-terminal                                 \n",
       "6 Cytochrome c oxidase subunit I                                           "
      ]
     },
     "metadata": {},
     "output_type": "display_data"
    }
   ],
   "source": [
    "dat = dat_gene_interpro\n",
    "dat = dat %>% \n",
    "    dplyr::select(dplyr::starts_with(\"Interpro\")) %>%\n",
    "    dplyr::distinct() %>%\n",
    "    na.omit\n",
    "colnames(dat) = c(\"Interpro_ID\", \"Interpro_Short_Description\", \"Interpro_Description\")\n",
    "\n",
    "dat_info_interpro = dat\n",
    "print(dim(dat))\n",
    "head(dat)"
   ]
  },
  {
   "cell_type": "code",
   "execution_count": 40,
   "id": "b1a0c6d7-b53d-4de3-a6ff-52936b8a7b1a",
   "metadata": {},
   "outputs": [
    {
     "name": "stdout",
     "output_type": "stream",
     "text": [
      "[1] 84392     3\n"
     ]
    },
    {
     "data": {
      "text/html": [
       "<table class=\"dataframe\">\n",
       "<caption>A tibble: 6 × 3</caption>\n",
       "<thead>\n",
       "\t<tr><th scope=col>Gene_Symbol</th><th scope=col>Interpro_ID</th><th scope=col>Interpro_Short_Desc</th></tr>\n",
       "\t<tr><th scope=col>&lt;chr&gt;</th><th scope=col>&lt;chr&gt;</th><th scope=col>&lt;chr&gt;</th></tr>\n",
       "</thead>\n",
       "<tbody>\n",
       "\t<tr><td>MAFIP     </td><td>IPR000435</td><td>Tektins     </td></tr>\n",
       "\t<tr><td>MAFIP     </td><td>IPR048256</td><td>Tektin-like </td></tr>\n",
       "\t<tr><td>DGCR6     </td><td>IPR010849</td><td>Gonadal     </td></tr>\n",
       "\t<tr><td>IGHV4-38-2</td><td>IPR007110</td><td>Ig-like_dom </td></tr>\n",
       "\t<tr><td>IGHV4-38-2</td><td>IPR013106</td><td>Ig_V-set    </td></tr>\n",
       "\t<tr><td>IGHV4-38-2</td><td>IPR013783</td><td>Ig-like_fold</td></tr>\n",
       "</tbody>\n",
       "</table>\n"
      ],
      "text/latex": [
       "A tibble: 6 × 3\n",
       "\\begin{tabular}{lll}\n",
       " Gene\\_Symbol & Interpro\\_ID & Interpro\\_Short\\_Desc\\\\\n",
       " <chr> & <chr> & <chr>\\\\\n",
       "\\hline\n",
       "\t MAFIP      & IPR000435 & Tektins     \\\\\n",
       "\t MAFIP      & IPR048256 & Tektin-like \\\\\n",
       "\t DGCR6      & IPR010849 & Gonadal     \\\\\n",
       "\t IGHV4-38-2 & IPR007110 & Ig-like\\_dom \\\\\n",
       "\t IGHV4-38-2 & IPR013106 & Ig\\_V-set    \\\\\n",
       "\t IGHV4-38-2 & IPR013783 & Ig-like\\_fold\\\\\n",
       "\\end{tabular}\n"
      ],
      "text/markdown": [
       "\n",
       "A tibble: 6 × 3\n",
       "\n",
       "| Gene_Symbol &lt;chr&gt; | Interpro_ID &lt;chr&gt; | Interpro_Short_Desc &lt;chr&gt; |\n",
       "|---|---|---|\n",
       "| MAFIP      | IPR000435 | Tektins      |\n",
       "| MAFIP      | IPR048256 | Tektin-like  |\n",
       "| DGCR6      | IPR010849 | Gonadal      |\n",
       "| IGHV4-38-2 | IPR007110 | Ig-like_dom  |\n",
       "| IGHV4-38-2 | IPR013106 | Ig_V-set     |\n",
       "| IGHV4-38-2 | IPR013783 | Ig-like_fold |\n",
       "\n"
      ],
      "text/plain": [
       "  Gene_Symbol Interpro_ID Interpro_Short_Desc\n",
       "1 MAFIP       IPR000435   Tektins            \n",
       "2 MAFIP       IPR048256   Tektin-like        \n",
       "3 DGCR6       IPR010849   Gonadal            \n",
       "4 IGHV4-38-2  IPR007110   Ig-like_dom        \n",
       "5 IGHV4-38-2  IPR013106   Ig_V-set           \n",
       "6 IGHV4-38-2  IPR013783   Ig-like_fold       "
      ]
     },
     "metadata": {},
     "output_type": "display_data"
    }
   ],
   "source": [
    "dat = dat_gene_interpro\n",
    "dat = dat %>% \n",
    "    dplyr::filter(`Chromosome/scaffold name` != \"MT\") %>%\n",
    "    dplyr::select(`UniProtKB Gene Name symbol`, `Interpro ID`, `Interpro Short Description`) %>% \n",
    "    dplyr::distinct() %>%\n",
    "    na.omit\n",
    "colnames(dat) = c(\"Gene_Symbol\", \"Interpro_ID\", \"Interpro_Short_Desc\")\n",
    "\n",
    "dat = dat %>% dplyr::filter(!str_detect(Gene_Symbol, \" \"))\n",
    "print(dim(dat))\n",
    "head(dat)"
   ]
  },
  {
   "cell_type": "code",
   "execution_count": 41,
   "id": "acd17caf-d9b7-4f17-a058-15c2d301082b",
   "metadata": {},
   "outputs": [
    {
     "name": "stdout",
     "output_type": "stream",
     "text": [
      "[1] 16456\n"
     ]
    },
    {
     "data": {
      "text/html": [
       "<style>\n",
       ".list-inline {list-style: none; margin:0; padding: 0}\n",
       ".list-inline>li {display: inline-block}\n",
       ".list-inline>li:not(:last-child)::after {content: \"\\00b7\"; padding: 0 .5ex}\n",
       "</style>\n",
       "<ol class=list-inline><li>'IPR000001\\tKringle\\tKREMEN1\\tROR2\\tPRSS12\\tHABP2\\tHGF\\tPLAU\\tPLAT\\tPIK3IP1\\tMGC17330\\tHGFAC\\tPLG\\tMST1\\tLPA\\tKREMEN2\\tROR1\\tF12\\tF2'</li><li>'IPR000003\\tRetinoid-X_rcpt/HNF4\\tRXRA\\tNR2B1\\tRXRG\\tNR2B3\\tRXRB\\tNR2A1\\tHNF4A\\tNR2E3'</li><li>'IPR000006\\tMetalthion_vert\\tMT4\\tMT2A\\tMT1E\\tMT1M\\tMT1A\\tMT1B\\tMT1F\\tMT1X\\tMT1H\\tMT3\\tMT1G\\tMT1HL1'</li><li>'IPR000007\\tTubby_C\\tTULP4\\tTULP1\\tTUB\\tTULP2\\tTULP3'</li><li>'IPR000008\\tC2_dom\\tTOLLIP\\tITSN1\\tC2CD2\\tCPNE6\\tSYTL5\\tCCDC33\\tPLCL2\\tPLCB2\\tRASA3\\tC2CD4C\\tMYOF\\tRIMS4\\tSYT17\\tSYT8\\tSYT9\\tHECW1\\tSYT10\\tWWP1\\tSYDE1\\tPLCH2\\tPCLO\\tRAB11FIP2\\tSYT7\\tTC2N\\tCPNE8\\tBCR\\tCADPS\\tRASAL3\\tSYT12\\tPRKCE\\tCPNE1\\tRIMS3\\tDOC2B\\tESYT3\\tPRKCA\\tUVRAG\\tABR\\tSYT15B\\tDOC2A\\tNEDD4L\\tWWC2\\tPLCG1\\tPKN2\\tSYT3\\tCAPN6\\tHECW2\\tPKN1\\tFER1L6\\tPLCB4\\tSYT4\\tRPGRIP1\\tCPNE7\\tPRF1\\tRPH3A\\tCPNE3\\tPRKCQ\\tPLA2G4A\\tITCH\\tPLCB3\\tCPNE2\\tPLA2G4B\\tPLCE1\\tNEDD4\\tSYTL4\\tCC2D1A\\tPLCZ1\\tPLCD1\\tPIK3C2G\\tPLCH1\\tSYT15\\tSYT11\\tSMURF2\\tPLCD3\\tPLCB1\\tSMURF1\\tSYNGAP1\\tUNC13C\\tSYTL3\\tUNC13B\\tRPGRIP1L\\tMCTP2\\tCAPN5\\tC2CD3\\tPLA2G4D\\tPLA2G4E\\tPRKCB\\tDAB2IP\\tRAB11FIP1\\tPRKCG\\tRASA4\\tRGS3\\tC2CD2L\\tC2CD4A\\tC2CD4B\\tSYT16\\tSYT6\\tESYT2\\tCADPS2\\tPLA2G4F\\tPLCD4\\tRIMS1\\tRIMS2\\tSYT13\\tCC2D2B\\tRASA1\\tOTOF\\tFER1L5\\tPIK3C2A\\tCPNE5\\tUNC13A\\tCC2D1B\\tFAM62A\\tESYT1\\tPLCG2\\tC2CD6\\tPRKCH\\tCEP120\\tCPNE4\\tCPNE9\\tRASA2\\tC2CD5\\tINPP4B\\tCC2D2A\\tWWP2\\tRASA4B\\tSYTL2\\tUNC13D\\tBAIAP3\\tRASAL1\\tPRKCD\\tMCTP1\\tSYT5\\tSYT1\\tPIK3C2B\\tITSN2\\tC2CD4D\\tWWC1\\tSYDE2\\tRASAL2\\tSYTL1\\tINPP4A\\tDYSF\\tSYT14\\tPLCL1\\tRAB11FIP5\\tSYT2'</li><li>'IPR000009\\tPP2A_PR55\\tPPP2R2A\\tPPP2R2C\\tPPP2R2D\\tPPP2R2B'</li></ol>\n"
      ],
      "text/latex": [
       "\\begin{enumerate*}\n",
       "\\item 'IPR000001\\textbackslash{}tKringle\\textbackslash{}tKREMEN1\\textbackslash{}tROR2\\textbackslash{}tPRSS12\\textbackslash{}tHABP2\\textbackslash{}tHGF\\textbackslash{}tPLAU\\textbackslash{}tPLAT\\textbackslash{}tPIK3IP1\\textbackslash{}tMGC17330\\textbackslash{}tHGFAC\\textbackslash{}tPLG\\textbackslash{}tMST1\\textbackslash{}tLPA\\textbackslash{}tKREMEN2\\textbackslash{}tROR1\\textbackslash{}tF12\\textbackslash{}tF2'\n",
       "\\item 'IPR000003\\textbackslash{}tRetinoid-X\\_rcpt/HNF4\\textbackslash{}tRXRA\\textbackslash{}tNR2B1\\textbackslash{}tRXRG\\textbackslash{}tNR2B3\\textbackslash{}tRXRB\\textbackslash{}tNR2A1\\textbackslash{}tHNF4A\\textbackslash{}tNR2E3'\n",
       "\\item 'IPR000006\\textbackslash{}tMetalthion\\_vert\\textbackslash{}tMT4\\textbackslash{}tMT2A\\textbackslash{}tMT1E\\textbackslash{}tMT1M\\textbackslash{}tMT1A\\textbackslash{}tMT1B\\textbackslash{}tMT1F\\textbackslash{}tMT1X\\textbackslash{}tMT1H\\textbackslash{}tMT3\\textbackslash{}tMT1G\\textbackslash{}tMT1HL1'\n",
       "\\item 'IPR000007\\textbackslash{}tTubby\\_C\\textbackslash{}tTULP4\\textbackslash{}tTULP1\\textbackslash{}tTUB\\textbackslash{}tTULP2\\textbackslash{}tTULP3'\n",
       "\\item 'IPR000008\\textbackslash{}tC2\\_dom\\textbackslash{}tTOLLIP\\textbackslash{}tITSN1\\textbackslash{}tC2CD2\\textbackslash{}tCPNE6\\textbackslash{}tSYTL5\\textbackslash{}tCCDC33\\textbackslash{}tPLCL2\\textbackslash{}tPLCB2\\textbackslash{}tRASA3\\textbackslash{}tC2CD4C\\textbackslash{}tMYOF\\textbackslash{}tRIMS4\\textbackslash{}tSYT17\\textbackslash{}tSYT8\\textbackslash{}tSYT9\\textbackslash{}tHECW1\\textbackslash{}tSYT10\\textbackslash{}tWWP1\\textbackslash{}tSYDE1\\textbackslash{}tPLCH2\\textbackslash{}tPCLO\\textbackslash{}tRAB11FIP2\\textbackslash{}tSYT7\\textbackslash{}tTC2N\\textbackslash{}tCPNE8\\textbackslash{}tBCR\\textbackslash{}tCADPS\\textbackslash{}tRASAL3\\textbackslash{}tSYT12\\textbackslash{}tPRKCE\\textbackslash{}tCPNE1\\textbackslash{}tRIMS3\\textbackslash{}tDOC2B\\textbackslash{}tESYT3\\textbackslash{}tPRKCA\\textbackslash{}tUVRAG\\textbackslash{}tABR\\textbackslash{}tSYT15B\\textbackslash{}tDOC2A\\textbackslash{}tNEDD4L\\textbackslash{}tWWC2\\textbackslash{}tPLCG1\\textbackslash{}tPKN2\\textbackslash{}tSYT3\\textbackslash{}tCAPN6\\textbackslash{}tHECW2\\textbackslash{}tPKN1\\textbackslash{}tFER1L6\\textbackslash{}tPLCB4\\textbackslash{}tSYT4\\textbackslash{}tRPGRIP1\\textbackslash{}tCPNE7\\textbackslash{}tPRF1\\textbackslash{}tRPH3A\\textbackslash{}tCPNE3\\textbackslash{}tPRKCQ\\textbackslash{}tPLA2G4A\\textbackslash{}tITCH\\textbackslash{}tPLCB3\\textbackslash{}tCPNE2\\textbackslash{}tPLA2G4B\\textbackslash{}tPLCE1\\textbackslash{}tNEDD4\\textbackslash{}tSYTL4\\textbackslash{}tCC2D1A\\textbackslash{}tPLCZ1\\textbackslash{}tPLCD1\\textbackslash{}tPIK3C2G\\textbackslash{}tPLCH1\\textbackslash{}tSYT15\\textbackslash{}tSYT11\\textbackslash{}tSMURF2\\textbackslash{}tPLCD3\\textbackslash{}tPLCB1\\textbackslash{}tSMURF1\\textbackslash{}tSYNGAP1\\textbackslash{}tUNC13C\\textbackslash{}tSYTL3\\textbackslash{}tUNC13B\\textbackslash{}tRPGRIP1L\\textbackslash{}tMCTP2\\textbackslash{}tCAPN5\\textbackslash{}tC2CD3\\textbackslash{}tPLA2G4D\\textbackslash{}tPLA2G4E\\textbackslash{}tPRKCB\\textbackslash{}tDAB2IP\\textbackslash{}tRAB11FIP1\\textbackslash{}tPRKCG\\textbackslash{}tRASA4\\textbackslash{}tRGS3\\textbackslash{}tC2CD2L\\textbackslash{}tC2CD4A\\textbackslash{}tC2CD4B\\textbackslash{}tSYT16\\textbackslash{}tSYT6\\textbackslash{}tESYT2\\textbackslash{}tCADPS2\\textbackslash{}tPLA2G4F\\textbackslash{}tPLCD4\\textbackslash{}tRIMS1\\textbackslash{}tRIMS2\\textbackslash{}tSYT13\\textbackslash{}tCC2D2B\\textbackslash{}tRASA1\\textbackslash{}tOTOF\\textbackslash{}tFER1L5\\textbackslash{}tPIK3C2A\\textbackslash{}tCPNE5\\textbackslash{}tUNC13A\\textbackslash{}tCC2D1B\\textbackslash{}tFAM62A\\textbackslash{}tESYT1\\textbackslash{}tPLCG2\\textbackslash{}tC2CD6\\textbackslash{}tPRKCH\\textbackslash{}tCEP120\\textbackslash{}tCPNE4\\textbackslash{}tCPNE9\\textbackslash{}tRASA2\\textbackslash{}tC2CD5\\textbackslash{}tINPP4B\\textbackslash{}tCC2D2A\\textbackslash{}tWWP2\\textbackslash{}tRASA4B\\textbackslash{}tSYTL2\\textbackslash{}tUNC13D\\textbackslash{}tBAIAP3\\textbackslash{}tRASAL1\\textbackslash{}tPRKCD\\textbackslash{}tMCTP1\\textbackslash{}tSYT5\\textbackslash{}tSYT1\\textbackslash{}tPIK3C2B\\textbackslash{}tITSN2\\textbackslash{}tC2CD4D\\textbackslash{}tWWC1\\textbackslash{}tSYDE2\\textbackslash{}tRASAL2\\textbackslash{}tSYTL1\\textbackslash{}tINPP4A\\textbackslash{}tDYSF\\textbackslash{}tSYT14\\textbackslash{}tPLCL1\\textbackslash{}tRAB11FIP5\\textbackslash{}tSYT2'\n",
       "\\item 'IPR000009\\textbackslash{}tPP2A\\_PR55\\textbackslash{}tPPP2R2A\\textbackslash{}tPPP2R2C\\textbackslash{}tPPP2R2D\\textbackslash{}tPPP2R2B'\n",
       "\\end{enumerate*}\n"
      ],
      "text/markdown": [
       "1. 'IPR000001\\tKringle\\tKREMEN1\\tROR2\\tPRSS12\\tHABP2\\tHGF\\tPLAU\\tPLAT\\tPIK3IP1\\tMGC17330\\tHGFAC\\tPLG\\tMST1\\tLPA\\tKREMEN2\\tROR1\\tF12\\tF2'\n",
       "2. 'IPR000003\\tRetinoid-X_rcpt/HNF4\\tRXRA\\tNR2B1\\tRXRG\\tNR2B3\\tRXRB\\tNR2A1\\tHNF4A\\tNR2E3'\n",
       "3. 'IPR000006\\tMetalthion_vert\\tMT4\\tMT2A\\tMT1E\\tMT1M\\tMT1A\\tMT1B\\tMT1F\\tMT1X\\tMT1H\\tMT3\\tMT1G\\tMT1HL1'\n",
       "4. 'IPR000007\\tTubby_C\\tTULP4\\tTULP1\\tTUB\\tTULP2\\tTULP3'\n",
       "5. 'IPR000008\\tC2_dom\\tTOLLIP\\tITSN1\\tC2CD2\\tCPNE6\\tSYTL5\\tCCDC33\\tPLCL2\\tPLCB2\\tRASA3\\tC2CD4C\\tMYOF\\tRIMS4\\tSYT17\\tSYT8\\tSYT9\\tHECW1\\tSYT10\\tWWP1\\tSYDE1\\tPLCH2\\tPCLO\\tRAB11FIP2\\tSYT7\\tTC2N\\tCPNE8\\tBCR\\tCADPS\\tRASAL3\\tSYT12\\tPRKCE\\tCPNE1\\tRIMS3\\tDOC2B\\tESYT3\\tPRKCA\\tUVRAG\\tABR\\tSYT15B\\tDOC2A\\tNEDD4L\\tWWC2\\tPLCG1\\tPKN2\\tSYT3\\tCAPN6\\tHECW2\\tPKN1\\tFER1L6\\tPLCB4\\tSYT4\\tRPGRIP1\\tCPNE7\\tPRF1\\tRPH3A\\tCPNE3\\tPRKCQ\\tPLA2G4A\\tITCH\\tPLCB3\\tCPNE2\\tPLA2G4B\\tPLCE1\\tNEDD4\\tSYTL4\\tCC2D1A\\tPLCZ1\\tPLCD1\\tPIK3C2G\\tPLCH1\\tSYT15\\tSYT11\\tSMURF2\\tPLCD3\\tPLCB1\\tSMURF1\\tSYNGAP1\\tUNC13C\\tSYTL3\\tUNC13B\\tRPGRIP1L\\tMCTP2\\tCAPN5\\tC2CD3\\tPLA2G4D\\tPLA2G4E\\tPRKCB\\tDAB2IP\\tRAB11FIP1\\tPRKCG\\tRASA4\\tRGS3\\tC2CD2L\\tC2CD4A\\tC2CD4B\\tSYT16\\tSYT6\\tESYT2\\tCADPS2\\tPLA2G4F\\tPLCD4\\tRIMS1\\tRIMS2\\tSYT13\\tCC2D2B\\tRASA1\\tOTOF\\tFER1L5\\tPIK3C2A\\tCPNE5\\tUNC13A\\tCC2D1B\\tFAM62A\\tESYT1\\tPLCG2\\tC2CD6\\tPRKCH\\tCEP120\\tCPNE4\\tCPNE9\\tRASA2\\tC2CD5\\tINPP4B\\tCC2D2A\\tWWP2\\tRASA4B\\tSYTL2\\tUNC13D\\tBAIAP3\\tRASAL1\\tPRKCD\\tMCTP1\\tSYT5\\tSYT1\\tPIK3C2B\\tITSN2\\tC2CD4D\\tWWC1\\tSYDE2\\tRASAL2\\tSYTL1\\tINPP4A\\tDYSF\\tSYT14\\tPLCL1\\tRAB11FIP5\\tSYT2'\n",
       "6. 'IPR000009\\tPP2A_PR55\\tPPP2R2A\\tPPP2R2C\\tPPP2R2D\\tPPP2R2B'\n",
       "\n",
       "\n"
      ],
      "text/plain": [
       "[1] \"IPR000001\\tKringle\\tKREMEN1\\tROR2\\tPRSS12\\tHABP2\\tHGF\\tPLAU\\tPLAT\\tPIK3IP1\\tMGC17330\\tHGFAC\\tPLG\\tMST1\\tLPA\\tKREMEN2\\tROR1\\tF12\\tF2\"                                                                                                                                                                                                                                                                                                                                                                                                                                                                                                                                                                                                                                                                                                                                                                                                                                                                                                                                                                                    \n",
       "[2] \"IPR000003\\tRetinoid-X_rcpt/HNF4\\tRXRA\\tNR2B1\\tRXRG\\tNR2B3\\tRXRB\\tNR2A1\\tHNF4A\\tNR2E3\"                                                                                                                                                                                                                                                                                                                                                                                                                                                                                                                                                                                                                                                                                                                                                                                                                                                                                                                                                                                                                                   \n",
       "[3] \"IPR000006\\tMetalthion_vert\\tMT4\\tMT2A\\tMT1E\\tMT1M\\tMT1A\\tMT1B\\tMT1F\\tMT1X\\tMT1H\\tMT3\\tMT1G\\tMT1HL1\"                                                                                                                                                                                                                                                                                                                                                                                                                                                                                                                                                                                                                                                                                                                                                                                                                                                                                                                                                                                                                     \n",
       "[4] \"IPR000007\\tTubby_C\\tTULP4\\tTULP1\\tTUB\\tTULP2\\tTULP3\"                                                                                                                                                                                                                                                                                                                                                                                                                                                                                                                                                                                                                                                                                                                                                                                                                                                                                                                                                                                                                                                                    \n",
       "[5] \"IPR000008\\tC2_dom\\tTOLLIP\\tITSN1\\tC2CD2\\tCPNE6\\tSYTL5\\tCCDC33\\tPLCL2\\tPLCB2\\tRASA3\\tC2CD4C\\tMYOF\\tRIMS4\\tSYT17\\tSYT8\\tSYT9\\tHECW1\\tSYT10\\tWWP1\\tSYDE1\\tPLCH2\\tPCLO\\tRAB11FIP2\\tSYT7\\tTC2N\\tCPNE8\\tBCR\\tCADPS\\tRASAL3\\tSYT12\\tPRKCE\\tCPNE1\\tRIMS3\\tDOC2B\\tESYT3\\tPRKCA\\tUVRAG\\tABR\\tSYT15B\\tDOC2A\\tNEDD4L\\tWWC2\\tPLCG1\\tPKN2\\tSYT3\\tCAPN6\\tHECW2\\tPKN1\\tFER1L6\\tPLCB4\\tSYT4\\tRPGRIP1\\tCPNE7\\tPRF1\\tRPH3A\\tCPNE3\\tPRKCQ\\tPLA2G4A\\tITCH\\tPLCB3\\tCPNE2\\tPLA2G4B\\tPLCE1\\tNEDD4\\tSYTL4\\tCC2D1A\\tPLCZ1\\tPLCD1\\tPIK3C2G\\tPLCH1\\tSYT15\\tSYT11\\tSMURF2\\tPLCD3\\tPLCB1\\tSMURF1\\tSYNGAP1\\tUNC13C\\tSYTL3\\tUNC13B\\tRPGRIP1L\\tMCTP2\\tCAPN5\\tC2CD3\\tPLA2G4D\\tPLA2G4E\\tPRKCB\\tDAB2IP\\tRAB11FIP1\\tPRKCG\\tRASA4\\tRGS3\\tC2CD2L\\tC2CD4A\\tC2CD4B\\tSYT16\\tSYT6\\tESYT2\\tCADPS2\\tPLA2G4F\\tPLCD4\\tRIMS1\\tRIMS2\\tSYT13\\tCC2D2B\\tRASA1\\tOTOF\\tFER1L5\\tPIK3C2A\\tCPNE5\\tUNC13A\\tCC2D1B\\tFAM62A\\tESYT1\\tPLCG2\\tC2CD6\\tPRKCH\\tCEP120\\tCPNE4\\tCPNE9\\tRASA2\\tC2CD5\\tINPP4B\\tCC2D2A\\tWWP2\\tRASA4B\\tSYTL2\\tUNC13D\\tBAIAP3\\tRASAL1\\tPRKCD\\tMCTP1\\tSYT5\\tSYT1\\tPIK3C2B\\tITSN2\\tC2CD4D\\tWWC1\\tSYDE2\\tRASAL2\\tSYTL1\\tINPP4A\\tDYSF\\tSYT14\\tPLCL1\\tRAB11FIP5\\tSYT2\"\n",
       "[6] \"IPR000009\\tPP2A_PR55\\tPPP2R2A\\tPPP2R2C\\tPPP2R2D\\tPPP2R2B\"                                                                                                                                                                                                                                                                                                                                                                                                                                                                                                                                                                                                                                                                                                                                                                                                                                                                                                                                                                                                                                                               "
      ]
     },
     "metadata": {},
     "output_type": "display_data"
    }
   ],
   "source": [
    "vec1 = dat$Gene_Symbol\n",
    "vec2 = paste(\n",
    "    dat$Interpro_ID,\n",
    "    dat$Interpro_Short_Desc,\n",
    "    sep = \"\\t\"\n",
    ")\n",
    "\n",
    "lst = split(vec1, vec2)\n",
    "lst = lapply(lst, function(vec){\n",
    "    res = paste(vec, collapse = \"\\t\")\n",
    "    return(res)\n",
    "})\n",
    "\n",
    "vec1 = names(lst)\n",
    "vec2 = unlist(lst)\n",
    "vec  = paste(vec1, vec2, sep = \"\\t\")\n",
    "\n",
    "vec_txt_gmt = vec\n",
    "print(length(vec))\n",
    "head(vec)"
   ]
  },
  {
   "cell_type": "code",
   "execution_count": 42,
   "id": "7119c787-4fae-4810-b46c-b637ee997edc",
   "metadata": {},
   "outputs": [],
   "source": [
    "txt_fdiry = file.path(\n",
    "    FD_DAT, \n",
    "    \"external\", \n",
    "    \"protein_interpro\"\n",
    ")\n",
    "txt_fname = \"mart_export_gene_interpro.gmt\"\n",
    "txt_fpath = file.path(txt_fdiry, txt_fname)\n",
    "\n",
    "write_lines(vec_txt_gmt, txt_fpath)"
   ]
  },
  {
   "cell_type": "code",
   "execution_count": null,
   "id": "dfb9604a-dc49-4f5f-bcb3-e74be7f30025",
   "metadata": {},
   "outputs": [],
   "source": []
  }
 ],
 "metadata": {
  "kernelspec": {
   "display_name": "R",
   "language": "R",
   "name": "ir"
  },
  "language_info": {
   "codemirror_mode": "r",
   "file_extension": ".r",
   "mimetype": "text/x-r-source",
   "name": "R",
   "pygments_lexer": "r",
   "version": "4.4.1"
  }
 },
 "nbformat": 4,
 "nbformat_minor": 5
}
