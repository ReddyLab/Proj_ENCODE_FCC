{
 "cells": [
  {
   "cell_type": "raw",
   "id": "97d6329e-f2ca-49d3-b1d5-43adca96e147",
   "metadata": {},
   "source": [
    "---\n",
    "title: Prepare Interpro (Flagship)\n",
    "subtitle: Download the data\n",
    "format:\n",
    "    html:\n",
    "        code-fold:  true\n",
    "        code-tools: true\n",
    "---"
   ]
  },
  {
   "cell_type": "markdown",
   "id": "1d33bfb8-59a3-4966-bb96-3e011b649761",
   "metadata": {},
   "source": [
    "**set environment**"
   ]
  },
  {
   "cell_type": "code",
   "execution_count": 1,
   "id": "c749a658-743f-495b-973d-edc994cc6eb9",
   "metadata": {},
   "outputs": [
    {
     "name": "stdout",
     "output_type": "stream",
     "text": [
      "You are working on             Duke Server: HARDAC\n",
      "BASE DIRECTORY (FD_BASE):      /data/reddylab/Kuei\n",
      "REPO DIRECTORY (FD_REPO):      /data/reddylab/Kuei/repo\n",
      "WORK DIRECTORY (FD_WORK):      /data/reddylab/Kuei/work\n",
      "DATA DIRECTORY (FD_DATA):      /data/reddylab/Kuei/data\n",
      "CONTAINER DIR. (FD_SING):      /data/reddylab/Kuei/container\n",
      "\n",
      "You are working with           ENCODE FCC\n",
      "PATH OF PROJECT (FD_PRJ):      /data/reddylab/Kuei/repo/Proj_ENCODE_FCC\n",
      "PROJECT RESULTS (FD_RES):      /data/reddylab/Kuei/repo/Proj_ENCODE_FCC/results\n",
      "PROJECT SCRIPTS (FD_EXE):      /data/reddylab/Kuei/repo/Proj_ENCODE_FCC/scripts\n",
      "PROJECT DATA    (FD_DAT):      /data/reddylab/Kuei/repo/Proj_ENCODE_FCC/data\n",
      "PROJECT NOTE    (FD_NBK):      /data/reddylab/Kuei/repo/Proj_ENCODE_FCC/notebooks\n",
      "PROJECT DOCS    (FD_DOC):      /data/reddylab/Kuei/repo/Proj_ENCODE_FCC/docs\n",
      "PROJECT LOG     (FD_LOG):      /data/reddylab/Kuei/repo/Proj_ENCODE_FCC/log\n",
      "PROJECT REF     (FD_REF):      /data/reddylab/Kuei/repo/Proj_ENCODE_FCC/references\n",
      "PROJECT IMAGE   (FP_PRJ_SIF):  /data/reddylab/Kuei/container/project/singularity_proj_encode_fcc.sif\n",
      "\n"
     ]
    }
   ],
   "source": [
    "source ../run_config_project.sh\n",
    "show_env"
   ]
  },
  {
   "cell_type": "markdown",
   "id": "7e6d702b-2bd0-497e-a504-2cf15e90a417",
   "metadata": {},
   "source": [
    "**Global variables**"
   ]
  },
  {
   "cell_type": "code",
   "execution_count": 9,
   "id": "80d3d7fc-1b51-4c3a-b07e-56be15ec1f31",
   "metadata": {},
   "outputs": [],
   "source": [
    "FD_OUT=${FD_DAT}/external/protein_interpro\n",
    "cd ${FD_OUT}"
   ]
  },
  {
   "cell_type": "markdown",
   "id": "9ac743d2-b1d1-40fa-9cf6-a54c53654084",
   "metadata": {},
   "source": [
    "## Explore"
   ]
  },
  {
   "cell_type": "code",
   "execution_count": 11,
   "id": "5d27df69-dd4a-4c03-a0b7-bbb0fbcb3c14",
   "metadata": {},
   "outputs": [
    {
     "name": "stdout",
     "output_type": "stream",
     "text": [
      "checksum_results.txt\n",
      "entry.list\n",
      "files.txt\n",
      "\u001b[0m\u001b[38;5;9mprotein2ipr.dat.gz\u001b[0m\n",
      "protein2ipr.dat.gz.md5\n",
      "release_notes.txt\n"
     ]
    }
   ],
   "source": [
    "ls -1 ${FD_OUT}"
   ]
  },
  {
   "cell_type": "code",
   "execution_count": 12,
   "id": "c907278f-3c39-40b9-9eee-cca1dafdc03d",
   "metadata": {},
   "outputs": [
    {
     "name": "stdout",
     "output_type": "stream",
     "text": [
      "A0A000\tIPR004839\tAminotransferase, class I/classII, large domain\tPF00155\t41\t381\n",
      "A0A000\tIPR010961\tTetrapyrrole biosynthesis, 5-aminolevulinic acid synthase\tTIGR01821\t12\t391\n",
      "A0A000\tIPR015421\tPyridoxal phosphate-dependent transferase, major domain\tG3DSA:3.40.640.10\t48\t288\n",
      "A0A000\tIPR015422\tPyridoxal phosphate-dependent transferase, small domain\tG3DSA:3.90.1150.10\t36\t378\n",
      "A0A000\tIPR015424\tPyridoxal phosphate-dependent transferase\tSSF53383\t9\t389\n",
      "A0A000\tIPR050087\t8-amino-7-oxononanoate synthase class-II\tPTHR13693\t34\t382\n",
      "A0A001\tIPR003439\tABC transporter-like, ATP-binding domain\tPF00005\t361\t503\n",
      "A0A001\tIPR003439\tABC transporter-like, ATP-binding domain\tPS50893\t344\t573\n",
      "A0A001\tIPR003593\tAAA+ ATPase domain\tSM00382\t369\t550\n",
      "A0A001\tIPR011527\tABC transporter type 1, transmembrane domain\tPF00664\t17\t276\n"
     ]
    }
   ],
   "source": [
    "FP_OUT=${FD_OUT}/protein2ipr.dat.gz\n",
    "zcat ${FP_OUT} | head"
   ]
  },
  {
   "cell_type": "code",
   "execution_count": 13,
   "id": "1953e07a-5e36-40db-9355-9af3d9e600c5",
   "metadata": {},
   "outputs": [],
   "source": [
    "md5sum -c protein2ipr.dat.gz.md5 > checksum_results.txt"
   ]
  },
  {
   "cell_type": "code",
   "execution_count": 14,
   "id": "a7fd376c-27b2-419c-9edc-391f0c4e2032",
   "metadata": {},
   "outputs": [
    {
     "name": "stdout",
     "output_type": "stream",
     "text": [
      "protein2ipr.dat.gz: OK\n"
     ]
    }
   ],
   "source": [
    "cat checksum_results.txt"
   ]
  },
  {
   "cell_type": "code",
   "execution_count": 15,
   "id": "f9710522-c35e-438d-894f-56b7012fc366",
   "metadata": {},
   "outputs": [
    {
     "name": "stdout",
     "output_type": "stream",
     "text": [
      "1361375099\n"
     ]
    }
   ],
   "source": [
    "FP_OUT=${FD_OUT}/protein2ipr.dat.gz\n",
    "zcat ${FP_OUT} | wc -l"
   ]
  },
  {
   "cell_type": "code",
   "execution_count": null,
   "id": "c37b347d-dc69-478e-a178-d42ee0cfcdb3",
   "metadata": {},
   "outputs": [],
   "source": [
    "1,361,375,099"
   ]
  }
 ],
 "metadata": {
  "kernelspec": {
   "display_name": "Bash",
   "language": "bash",
   "name": "bash"
  },
  "language_info": {
   "codemirror_mode": "shell",
   "file_extension": ".sh",
   "mimetype": "text/x-sh",
   "name": "bash"
  }
 },
 "nbformat": 4,
 "nbformat_minor": 5
}
