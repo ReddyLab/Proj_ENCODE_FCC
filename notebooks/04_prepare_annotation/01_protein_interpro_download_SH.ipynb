{
 "cells": [
  {
   "cell_type": "raw",
   "id": "50e105eb-0d1f-4b94-9f44-255a239c779a",
   "metadata": {},
   "source": [
    "---\n",
    "title: Prepare Interpro (Flagship)\n",
    "subtitle: Download the data\n",
    "format:\n",
    "    html:\n",
    "        code-fold:  true\n",
    "        code-tools: true\n",
    "---"
   ]
  },
  {
   "cell_type": "markdown",
   "id": "844771ea-0826-4c25-a548-845aecabdc2f",
   "metadata": {},
   "source": [
    "**set environment**"
   ]
  },
  {
   "cell_type": "code",
   "execution_count": 1,
   "id": "dbbafd31-37b9-4fc5-a3c7-810f1e680164",
   "metadata": {},
   "outputs": [
    {
     "name": "stdout",
     "output_type": "stream",
     "text": [
      "You are working on             Duke Server: HARDAC\n",
      "BASE DIRECTORY (FD_BASE):      /data/reddylab/Kuei\n",
      "REPO DIRECTORY (FD_REPO):      /data/reddylab/Kuei/repo\n",
      "WORK DIRECTORY (FD_WORK):      /data/reddylab/Kuei/work\n",
      "DATA DIRECTORY (FD_DATA):      /data/reddylab/Kuei/data\n",
      "CONTAINER DIR. (FD_SING):      /data/reddylab/Kuei/container\n",
      "\n",
      "You are working with           ENCODE FCC\n",
      "PATH OF PROJECT (FD_PRJ):      /data/reddylab/Kuei/repo/Proj_ENCODE_FCC\n",
      "PROJECT RESULTS (FD_RES):      /data/reddylab/Kuei/repo/Proj_ENCODE_FCC/results\n",
      "PROJECT SCRIPTS (FD_EXE):      /data/reddylab/Kuei/repo/Proj_ENCODE_FCC/scripts\n",
      "PROJECT DATA    (FD_DAT):      /data/reddylab/Kuei/repo/Proj_ENCODE_FCC/data\n",
      "PROJECT NOTE    (FD_NBK):      /data/reddylab/Kuei/repo/Proj_ENCODE_FCC/notebooks\n",
      "PROJECT DOCS    (FD_DOC):      /data/reddylab/Kuei/repo/Proj_ENCODE_FCC/docs\n",
      "PROJECT LOG     (FD_LOG):      /data/reddylab/Kuei/repo/Proj_ENCODE_FCC/log\n",
      "PROJECT REF     (FD_REF):      /data/reddylab/Kuei/repo/Proj_ENCODE_FCC/references\n",
      "PROJECT IMAGE   (FP_PRJ_SIF):  /data/reddylab/Kuei/container/project/singularity_proj_encode_fcc.sif\n",
      "\n"
     ]
    }
   ],
   "source": [
    "source ../run_config_project.sh\n",
    "show_env"
   ]
  },
  {
   "cell_type": "markdown",
   "id": "ec5e5462-bf67-414c-b17a-3783ced340f2",
   "metadata": {},
   "source": [
    "**Global variables**"
   ]
  },
  {
   "cell_type": "code",
   "execution_count": 2,
   "id": "443ca147-c614-40c0-a662-595042c69f33",
   "metadata": {},
   "outputs": [],
   "source": [
    "FD_OUT=${FD_DAT}/external/protein_interpro"
   ]
  },
  {
   "cell_type": "markdown",
   "id": "f53c4215-c35c-4af9-9ec4-f2b861147a5c",
   "metadata": {},
   "source": [
    "## Preview"
   ]
  },
  {
   "cell_type": "code",
   "execution_count": 3,
   "id": "34a29e6a-60bc-4b7f-9ae8-197ef4dc46fe",
   "metadata": {},
   "outputs": [
    {
     "name": "stdout",
     "output_type": "stream",
     "text": [
      "files.txt\n"
     ]
    }
   ],
   "source": [
    "ls ${FD_REF}/protein_interpro"
   ]
  },
  {
   "cell_type": "code",
   "execution_count": 4,
   "id": "017d6c33-fc37-430b-98e9-6205ca11f0c5",
   "metadata": {},
   "outputs": [],
   "source": [
    "cp ${FD_REF}/protein_interpro/files.txt ${FD_OUT}/"
   ]
  },
  {
   "cell_type": "code",
   "execution_count": 5,
   "id": "8b40ccbc-fc5a-4476-afa3-82483239be43",
   "metadata": {},
   "outputs": [
    {
     "name": "stdout",
     "output_type": "stream",
     "text": [
      "https://ftp.ebi.ac.uk/pub/databases/interpro/current_release/release_notes.txt\n",
      "https://ftp.ebi.ac.uk/pub/databases/interpro/current_release/entry.list\n",
      "https://ftp.ebi.ac.uk/pub/databases/interpro/current_release/protein2ipr.dat.gz"
     ]
    }
   ],
   "source": [
    "cat ${FD_OUT}/files.txt"
   ]
  },
  {
   "cell_type": "markdown",
   "id": "9a7a6092-130f-4a40-b743-e510f765f889",
   "metadata": {},
   "source": [
    "## Execute"
   ]
  },
  {
   "cell_type": "code",
   "execution_count": 6,
   "id": "d17d6b87-7673-44cd-ae0c-8db36814c829",
   "metadata": {},
   "outputs": [
    {
     "name": "stdout",
     "output_type": "stream",
     "text": [
      "Submitted batch job 35133609\n"
     ]
    }
   ],
   "source": [
    "FN_LOG=download.interpro.annotation.txt\n",
    "FP_LOG=${FD_LOG}/${FN_LOG}\n",
    "\n",
    "sbatch -p ${NODE} \\\n",
    "    --exclude=dl-01 \\\n",
    "    --cpus-per-task 4 \\\n",
    "    --mem 8G \\\n",
    "    --output ${FP_LOG} \\\n",
    "    --export=FD_PRJ=${FD_PRJ},FD_OUT=${FD_OUT} \\\n",
    "    << 'EOF'\n",
    "#!/bin/bash\n",
    "\n",
    "### print start message\n",
    "timer_start=`date +%s`\n",
    "echo \"Hostname:          \" $(hostname)\n",
    "echo \"Slurm Array Index: \" ${SLURM_ARRAY_TASK_ID}\n",
    "echo \"Time Stamp:        \" $(date +\"%m-%d-%y+%T\")\n",
    "echo\n",
    "\n",
    "### set environment\n",
    "source ${FD_PRJ}/scripts/config_project.sh\n",
    "\n",
    "### set I/O\n",
    "cd ${FD_OUT}\n",
    "\n",
    "### show I/O\n",
    "echo \"Current directory:\"\n",
    "echo $(pwd)\n",
    "echo\n",
    "\n",
    "### execute: download file\n",
    "echo \"Download files...\"\n",
    "xargs -L 1 curl -O -J -L < files.txt\n",
    "echo\n",
    "\n",
    "### print end message\n",
    "timer=`date +%s`\n",
    "runtime=$(echo \"${timer} - ${timer_start}\" | bc -l)\n",
    "echo\n",
    "echo 'Done!'\n",
    "echo \"Run Time: $(displaytime ${runtime})\"\n",
    "echo\n",
    "EOF"
   ]
  },
  {
   "cell_type": "markdown",
   "id": "9cdeba07-48fd-44ed-af9c-19f1aaffbca4",
   "metadata": {},
   "source": [
    "## Review"
   ]
  },
  {
   "cell_type": "code",
   "execution_count": 10,
   "id": "8ef7bbbe-8b9c-4ac4-a0ae-43782523e878",
   "metadata": {},
   "outputs": [
    {
     "name": "stdout",
     "output_type": "stream",
     "text": [
      "Hostname:           x2-08-1.genome.duke.edu\n",
      "Slurm Array Index: \n",
      "Time Stamp:         09-09-24+11:42:36\n",
      "\n",
      "Current directory:\n",
      "/data/reddylab/Kuei/repo/Proj_ENCODE_FCC/data/external/protein_interpro\n",
      "\n",
      "Download files...\n",
      "  % Total    % Received % Xferd  Average Speed   Time    Time     Time  Current\n",
      "                                 Dload  Upload   Total   Spent    Left  Speed\n",
      "100  3784  100  3784    0     0   7328      0 --:--:-- --:--:-- --:--:--  7319\n",
      "  % Total    % Received % Xferd  Average Speed   Time    Time     Time  Current\n",
      "                                 Dload  Upload   Total   Spent    Left  Speed\n",
      "100 2467k  100 2467k    0     0   584k      0  0:00:04  0:00:04 --:--:--  584k\n",
      "  % Total    % Received % Xferd  Average Speed   Time    Time     Time  Current\n",
      "                                 Dload  Upload   Total   Spent    Left  Speed\n",
      " 27 18.7G   27 5274M    0     0   555k      0  9:51:09  2:42:02  7:09:07  675k"
     ]
    }
   ],
   "source": [
    "cat ${FD_LOG}/download.interpro.annotation.txt"
   ]
  },
  {
   "cell_type": "code",
   "execution_count": 10,
   "id": "618d7146-3915-45ea-8291-6f0430892b09",
   "metadata": {},
   "outputs": [
    {
     "name": "stdout",
     "output_type": "stream",
     "text": [
      "files.txt\n"
     ]
    }
   ],
   "source": [
    "ls ${FD_REF}/protein_interpro"
   ]
  },
  {
   "cell_type": "code",
   "execution_count": 11,
   "id": "7bbbcba0-9dd6-4274-9d1c-fb19ba046177",
   "metadata": {},
   "outputs": [
    {
     "name": "stdout",
     "output_type": "stream",
     "text": [
      "entry.list  files.txt  untitled.txt\n"
     ]
    }
   ],
   "source": [
    "ls /data/reddylab/Kuei/repo/Proj_ENCODE_FCC/data/external/protein_interpro"
   ]
  },
  {
   "cell_type": "code",
   "execution_count": null,
   "id": "0677e147-2bcb-4e25-9839-6510a411315b",
   "metadata": {},
   "outputs": [],
   "source": []
  },
  {
   "cell_type": "code",
   "execution_count": 7,
   "id": "23201346-f6e4-400e-9350-ea1ba10058e9",
   "metadata": {},
   "outputs": [
    {
     "name": "stdout",
     "output_type": "stream",
     "text": [
      "733\n",
      "\n",
      "ENCFF214SNH.bed.gz: OK\n",
      "ENCFF165ZEP.bed.gz: OK\n",
      "ENCFF634JRD.bed.gz: OK\n",
      "ENCFF744HVD.bed.gz: OK\n",
      "ENCFF660GHM.bed.gz: OK\n",
      "ENCFF495XYS.bed.gz: OK\n",
      "ENCFF289LLT.bed.gz: OK\n",
      "ENCFF258XBJ.bed.gz: OK\n",
      "ENCFF045CFL.bed.gz: OK\n",
      "ENCFF054XCG.bed.gz: OK\n",
      "\n"
     ]
    },
    {
     "ename": "",
     "evalue": "1",
     "output_type": "error",
     "traceback": []
    }
   ],
   "source": [
    "FPATH=${FD_OUT}/checksum_results.txt\n",
    "cat ${FPATH} | wc -l\n",
    "echo \n",
    "cat ${FPATH} | head\n",
    "echo \n",
    "cat ${FPATH} | grep -v OK"
   ]
  }
 ],
 "metadata": {
  "kernelspec": {
   "display_name": "Bash",
   "language": "bash",
   "name": "bash"
  },
  "language_info": {
   "codemirror_mode": "shell",
   "file_extension": ".sh",
   "mimetype": "text/x-sh",
   "name": "bash"
  }
 },
 "nbformat": 4,
 "nbformat_minor": 5
}
