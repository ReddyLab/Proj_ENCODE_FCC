{
 "cells": [
  {
   "cell_type": "raw",
   "id": "7fd4af82-d77f-408e-a058-54aabf55355a",
   "metadata": {},
   "source": [
    "---\n",
    "title: Prepare Essential Gene 01\n",
    "subtitle: Process the essential \n",
    "format:\n",
    "    html:\n",
    "        code-fold:  true\n",
    "        code-tools: true\n",
    "---"
   ]
  },
  {
   "cell_type": "markdown",
   "id": "caf48d67-7a6b-4b52-8deb-ef7a9ebf0c07",
   "metadata": {},
   "source": [
    "**Set environment**"
   ]
  },
  {
   "cell_type": "code",
   "execution_count": 1,
   "id": "5b11c333-91c6-4766-b257-55b573619240",
   "metadata": {
    "tags": []
   },
   "outputs": [
    {
     "name": "stdout",
     "output_type": "stream",
     "text": [
      "You are working on        Singularity: singularity_proj_encode_fcc \n",
      "BASE DIRECTORY (FD_BASE): /data/reddylab/Kuei \n",
      "REPO DIRECTORY (FD_REPO): /data/reddylab/Kuei/repo \n",
      "WORK DIRECTORY (FD_WORK): /data/reddylab/Kuei/work \n",
      "DATA DIRECTORY (FD_DATA): /data/reddylab/Kuei/data \n",
      "\n",
      "You are working with      ENCODE FCC \n",
      "PATH OF PROJECT (FD_PRJ): /data/reddylab/Kuei/repo/Proj_ENCODE_FCC \n",
      "PROJECT RESULTS (FD_RES): /data/reddylab/Kuei/repo/Proj_ENCODE_FCC/results \n",
      "PROJECT SCRIPTS (FD_EXE): /data/reddylab/Kuei/repo/Proj_ENCODE_FCC/scripts \n",
      "PROJECT DATA    (FD_DAT): /data/reddylab/Kuei/repo/Proj_ENCODE_FCC/data \n",
      "PROJECT NOTE    (FD_NBK): /data/reddylab/Kuei/repo/Proj_ENCODE_FCC/notebooks \n",
      "PROJECT DOCS    (FD_DOC): /data/reddylab/Kuei/repo/Proj_ENCODE_FCC/docs \n",
      "PROJECT LOG     (FD_LOG): /data/reddylab/Kuei/repo/Proj_ENCODE_FCC/log \n",
      "PROJECT REF     (FD_REF): /data/reddylab/Kuei/repo/Proj_ENCODE_FCC/references \n",
      "\n"
     ]
    }
   ],
   "source": [
    "suppressMessages(suppressWarnings(source(\"../run_config_project_sing.R\")))\n",
    "show_env()"
   ]
  },
  {
   "cell_type": "markdown",
   "id": "4dc32c24-629d-4869-af19-acf31fdbd913",
   "metadata": {},
   "source": [
    "**Check input files**"
   ]
  },
  {
   "cell_type": "code",
   "execution_count": 2,
   "id": "2979c7c1-19fa-456b-8d8f-9a1bf8d6f91e",
   "metadata": {},
   "outputs": [
    {
     "name": "stdout",
     "output_type": "stream",
     "text": [
      "biomart.ensembl_gene_111.GRCh38.p14.gene_stable_id2name_tss.tsv.gz \n",
      "biomart.ensembl_gene_111.GRCh38.p14.gene_stable_id2name.tsv.gz \n",
      "demap.v24Q2.AchillesCommonEssentialControls.csv \n"
     ]
    }
   ],
   "source": [
    "txt_fdiry = file.path(FD_REF, \"genome_gene\")\n",
    "vec = dir(txt_fdiry)\n",
    "for (txt in vec){cat(txt, \"\\n\")}"
   ]
  },
  {
   "cell_type": "markdown",
   "id": "a45db503-382e-447d-a3aa-05f09dcfb4a0",
   "metadata": {},
   "source": [
    "## Import data"
   ]
  },
  {
   "cell_type": "markdown",
   "id": "fdcc1f8f-03e6-4138-8e40-a8c75380244a",
   "metadata": {},
   "source": [
    "**Import essential gene list**"
   ]
  },
  {
   "cell_type": "code",
   "execution_count": 3,
   "id": "77f2061c-f7b6-41b7-b8c5-974bab1df4d7",
   "metadata": {},
   "outputs": [
    {
     "name": "stdout",
     "output_type": "stream",
     "text": [
      "[1] 1247    1\n"
     ]
    },
    {
     "data": {
      "text/html": [
       "<table>\n",
       " <thead>\n",
       "  <tr>\n",
       "   <th style=\"text-align:left;\"> Gene </th>\n",
       "  </tr>\n",
       " </thead>\n",
       "<tbody>\n",
       "  <tr>\n",
       "   <td style=\"text-align:left;\"> AAMP (14) </td>\n",
       "  </tr>\n",
       "  <tr>\n",
       "   <td style=\"text-align:left;\"> AARS1 (16) </td>\n",
       "  </tr>\n",
       "  <tr>\n",
       "   <td style=\"text-align:left;\"> AASDHPPT (60496) </td>\n",
       "  </tr>\n",
       "</tbody>\n",
       "</table>"
      ]
     },
     "metadata": {},
     "output_type": "display_data"
    }
   ],
   "source": [
    "### set file directory\n",
    "txt_fdiry = file.path(FD_REF, \"genome_gene\")\n",
    "txt_fname = \"demap.v24Q2.AchillesCommonEssentialControls.csv\"\n",
    "txt_fpath = file.path(txt_fdiry, txt_fname)\n",
    "\n",
    "### read table\n",
    "dat = read_csv(txt_fpath, show_col_types = FALSE)\n",
    "\n",
    "### assign and show\n",
    "dat_gene_essential_import = dat\n",
    "print(dim(dat))\n",
    "fun_display_table(head(dat, 3))"
   ]
  },
  {
   "cell_type": "markdown",
   "id": "79e75b17-5dc4-42fa-97f8-154b54d20116",
   "metadata": {},
   "source": [
    "## Arrange table"
   ]
  },
  {
   "cell_type": "code",
   "execution_count": 5,
   "id": "569dbed0-862a-45e6-9c43-b0ea05cd403f",
   "metadata": {},
   "outputs": [
    {
     "name": "stdout",
     "output_type": "stream",
     "text": [
      "[1] 1247    2\n"
     ]
    },
    {
     "data": {
      "text/html": [
       "<table>\n",
       " <thead>\n",
       "  <tr>\n",
       "   <th style=\"text-align:left;\"> Gene </th>\n",
       "   <th style=\"text-align:left;\"> Note </th>\n",
       "  </tr>\n",
       " </thead>\n",
       "<tbody>\n",
       "  <tr>\n",
       "   <td style=\"text-align:left;\"> AAMP </td>\n",
       "   <td style=\"text-align:left;\"> (14) </td>\n",
       "  </tr>\n",
       "  <tr>\n",
       "   <td style=\"text-align:left;\"> AARS1 </td>\n",
       "   <td style=\"text-align:left;\"> (16) </td>\n",
       "  </tr>\n",
       "  <tr>\n",
       "   <td style=\"text-align:left;\"> AASDHPPT </td>\n",
       "   <td style=\"text-align:left;\"> (60496) </td>\n",
       "  </tr>\n",
       "  <tr>\n",
       "   <td style=\"text-align:left;\"> ABCB7 </td>\n",
       "   <td style=\"text-align:left;\"> (22) </td>\n",
       "  </tr>\n",
       "  <tr>\n",
       "   <td style=\"text-align:left;\"> ABCE1 </td>\n",
       "   <td style=\"text-align:left;\"> (6059) </td>\n",
       "  </tr>\n",
       "  <tr>\n",
       "   <td style=\"text-align:left;\"> ABCF1 </td>\n",
       "   <td style=\"text-align:left;\"> (23) </td>\n",
       "  </tr>\n",
       "</tbody>\n",
       "</table>"
      ]
     },
     "metadata": {},
     "output_type": "display_data"
    }
   ],
   "source": [
    "dat = dat_gene_essential_import\n",
    "dat = dat %>% tidyr::separate(col=\"Gene\", into=c(\"Gene\", \"Note\"), sep = \" \")\n",
    "\n",
    "dat_gene_essential_arrange = dat\n",
    "print(dim(dat))\n",
    "fun_display_table(head(dat))"
   ]
  },
  {
   "cell_type": "code",
   "execution_count": 7,
   "id": "5eff2e01-2102-4ffb-ac08-390e1e7d962e",
   "metadata": {},
   "outputs": [
    {
     "name": "stdout",
     "output_type": "stream",
     "text": [
      "[1] 1247    4\n"
     ]
    },
    {
     "data": {
      "text/html": [
       "<table>\n",
       " <thead>\n",
       "  <tr>\n",
       "   <th style=\"text-align:left;\"> Gene </th>\n",
       "   <th style=\"text-align:left;\"> Source </th>\n",
       "   <th style=\"text-align:left;\"> Version </th>\n",
       "   <th style=\"text-align:left;\"> File </th>\n",
       "  </tr>\n",
       " </thead>\n",
       "<tbody>\n",
       "  <tr>\n",
       "   <td style=\"text-align:left;\"> AAMP </td>\n",
       "   <td style=\"text-align:left;\"> demap </td>\n",
       "   <td style=\"text-align:left;\"> v24Q2 </td>\n",
       "   <td style=\"text-align:left;\"> AchillesCommonEssentialControls </td>\n",
       "  </tr>\n",
       "  <tr>\n",
       "   <td style=\"text-align:left;\"> AARS1 </td>\n",
       "   <td style=\"text-align:left;\"> demap </td>\n",
       "   <td style=\"text-align:left;\"> v24Q2 </td>\n",
       "   <td style=\"text-align:left;\"> AchillesCommonEssentialControls </td>\n",
       "  </tr>\n",
       "  <tr>\n",
       "   <td style=\"text-align:left;\"> AASDHPPT </td>\n",
       "   <td style=\"text-align:left;\"> demap </td>\n",
       "   <td style=\"text-align:left;\"> v24Q2 </td>\n",
       "   <td style=\"text-align:left;\"> AchillesCommonEssentialControls </td>\n",
       "  </tr>\n",
       "  <tr>\n",
       "   <td style=\"text-align:left;\"> ABCB7 </td>\n",
       "   <td style=\"text-align:left;\"> demap </td>\n",
       "   <td style=\"text-align:left;\"> v24Q2 </td>\n",
       "   <td style=\"text-align:left;\"> AchillesCommonEssentialControls </td>\n",
       "  </tr>\n",
       "  <tr>\n",
       "   <td style=\"text-align:left;\"> ABCE1 </td>\n",
       "   <td style=\"text-align:left;\"> demap </td>\n",
       "   <td style=\"text-align:left;\"> v24Q2 </td>\n",
       "   <td style=\"text-align:left;\"> AchillesCommonEssentialControls </td>\n",
       "  </tr>\n",
       "  <tr>\n",
       "   <td style=\"text-align:left;\"> ABCF1 </td>\n",
       "   <td style=\"text-align:left;\"> demap </td>\n",
       "   <td style=\"text-align:left;\"> v24Q2 </td>\n",
       "   <td style=\"text-align:left;\"> AchillesCommonEssentialControls </td>\n",
       "  </tr>\n",
       "</tbody>\n",
       "</table>"
      ]
     },
     "metadata": {},
     "output_type": "display_data"
    }
   ],
   "source": [
    "dat = dat_gene_essential_arrange\n",
    "dat = dat %>% \n",
    "    dplyr::mutate(Source = \"demap\", Version = \"v24Q2\", File = \"AchillesCommonEssentialControls\") %>%\n",
    "    dplyr::select(Gene, Source, Version, File) %>%\n",
    "    dplyr::distinct()\n",
    "\n",
    "dat_gene_essential_label = dat\n",
    "print(dim(dat))\n",
    "fun_display_table(head(dat))"
   ]
  },
  {
   "cell_type": "markdown",
   "id": "84fcca9f-edd8-4072-9209-8a5c3341e359",
   "metadata": {},
   "source": [
    "## Export table"
   ]
  },
  {
   "cell_type": "code",
   "execution_count": 8,
   "id": "c10f634b-32e0-4017-8ac6-6e47dddaa888",
   "metadata": {},
   "outputs": [],
   "source": [
    "### set file directory\n",
    "txt_fdiry = file.path(FD_RES, \"annotation\", \"gene_essential\")\n",
    "txt_fname = \"demap.v24Q2.AchillesCommonEssentialControls.tsv\"\n",
    "txt_fpath = file.path(txt_fdiry, txt_fname)\n",
    "\n",
    "### write table\n",
    "dir.create(txt_fdiry)\n",
    "dat = dat_gene_essential_label\n",
    "write_tsv(dat, txt_fpath)"
   ]
  },
  {
   "cell_type": "code",
   "execution_count": null,
   "id": "4c01828b-deba-4fe3-83ef-4638df2d073a",
   "metadata": {},
   "outputs": [],
   "source": []
  }
 ],
 "metadata": {
  "kernelspec": {
   "display_name": "R",
   "language": "R",
   "name": "ir"
  },
  "language_info": {
   "codemirror_mode": "r",
   "file_extension": ".r",
   "mimetype": "text/x-r-source",
   "name": "R",
   "pygments_lexer": "r",
   "version": "4.5.1"
  }
 },
 "nbformat": 4,
 "nbformat_minor": 5
}
