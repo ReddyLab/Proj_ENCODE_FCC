{
 "cells": [
  {
   "cell_type": "raw",
   "id": "52396162-fea8-48a3-968d-ea598c231149",
   "metadata": {},
   "source": [
    "---\n",
    "title: Prepare CRISPRi Growth data 01\n",
    "subtitle: Prepare data\n",
    "format:\n",
    "    html:\n",
    "        code-fold:  true\n",
    "        code-tools: true\n",
    "---"
   ]
  },
  {
   "cell_type": "markdown",
   "id": "ff20368e-bb73-4ae9-b270-858b89543311",
   "metadata": {},
   "source": [
    "**Set environment**"
   ]
  },
  {
   "cell_type": "code",
   "execution_count": 1,
   "id": "953cfccc-67f0-44dc-9768-fd1d54ff17c5",
   "metadata": {
    "tags": []
   },
   "outputs": [
    {
     "name": "stdout",
     "output_type": "stream",
     "text": [
      "You are working on        Singularity \n",
      "BASE DIRECTORY (FD_BASE): /mount \n",
      "REPO DIRECTORY (FD_REPO): /mount/repo \n",
      "WORK DIRECTORY (FD_WORK): /mount/work \n",
      "DATA DIRECTORY (FD_DATA): /mount/data \n",
      "\n",
      "You are working with      ENCODE FCC \n",
      "PATH OF PROJECT (FD_PRJ): /mount/repo/Proj_ENCODE_FCC \n",
      "PROJECT RESULTS (FD_RES): /mount/repo/Proj_ENCODE_FCC/results \n",
      "PROJECT SCRIPTS (FD_EXE): /mount/repo/Proj_ENCODE_FCC/scripts \n",
      "PROJECT DATA    (FD_DAT): /mount/repo/Proj_ENCODE_FCC/data \n",
      "PROJECT NOTE    (FD_NBK): /mount/repo/Proj_ENCODE_FCC/notebooks \n",
      "PROJECT DOCS    (FD_DOC): /mount/repo/Proj_ENCODE_FCC/docs \n",
      "PROJECT LOG     (FD_LOG): /mount/repo/Proj_ENCODE_FCC/log \n",
      "PROJECT APP     (FD_APP): /mount/repo/Proj_ENCODE_FCC/app \n",
      "PROJECT REF     (FD_REF): /mount/repo/Proj_ENCODE_FCC/references \n",
      "\n"
     ]
    }
   ],
   "source": [
    "suppressMessages(suppressWarnings(source(\"../run_config_project_sing.R\")))\n",
    "show_env()"
   ]
  },
  {
   "cell_type": "markdown",
   "id": "bdf25447-9eb9-4ddc-93f6-fb947c42d41a",
   "metadata": {},
   "source": [
    "**Set global variable**"
   ]
  },
  {
   "cell_type": "code",
   "execution_count": 2,
   "id": "61f3adc9-7087-4e26-af9c-9cd6da882c90",
   "metadata": {},
   "outputs": [],
   "source": [
    "TXT_FOLDER_REGION = \"fcc_table\""
   ]
  },
  {
   "cell_type": "markdown",
   "id": "c0a0a061-06c4-47e7-b957-992ef3c35bab",
   "metadata": {},
   "source": [
    "## Import data"
   ]
  },
  {
   "cell_type": "code",
   "execution_count": 3,
   "id": "2f6d65f5-5f53-4144-b381-4f8c2026210c",
   "metadata": {},
   "outputs": [
    {
     "name": "stdout",
     "output_type": "stream",
     "text": [
      "K562.hg38.atac.bed.gz \n",
      "K562.hg38.encode_e2g_benchmark.bed.gz \n",
      "K562.hg38.fcc_astarr_csaw.bed.gz \n",
      "K562.hg38.fcc_crispri_growth.bed.gz \n",
      "K562.hg38.fcc_crispri_hcrff.bed.gz \n",
      "K562.hg38.fcc_starrmpra_junke.bed.gz \n",
      "K562.hg38.tss.bed.gz \n"
     ]
    }
   ],
   "source": [
    "### set file path\n",
    "txt_folder = TXT_FOLDER_REGION\n",
    "txt_fdiry  = file.path(FD_RES, \"region\", txt_folder)\n",
    "txt_fname  = \"K562.hg38.*.bed.gz\"\n",
    "txt_fglob  = file.path(txt_fdiry, txt_fname)\n",
    "\n",
    "vec_txt_fpath = Sys.glob(txt_fglob)\n",
    "vec_txt_fname = basename(vec_txt_fpath)\n",
    "\n",
    "vec = vec_txt_fname\n",
    "for(txt in vec){cat(txt, \"\\n\")}"
   ]
  },
  {
   "cell_type": "code",
   "execution_count": 4,
   "id": "79ddb6e1-9d5d-4691-8b8f-01450606440d",
   "metadata": {},
   "outputs": [
    {
     "name": "stdout",
     "output_type": "stream",
     "text": [
      "[1] 895792     12\n"
     ]
    },
    {
     "data": {
      "text/html": [
       "<table>\n",
       " <thead>\n",
       "  <tr>\n",
       "   <th style=\"text-align:left;\"> Chrom </th>\n",
       "   <th style=\"text-align:right;\"> ChromStart </th>\n",
       "   <th style=\"text-align:right;\"> ChromEnd </th>\n",
       "   <th style=\"text-align:left;\"> Group </th>\n",
       "   <th style=\"text-align:left;\"> Label </th>\n",
       "   <th style=\"text-align:left;\"> Assay </th>\n",
       "   <th style=\"text-align:left;\"> Region </th>\n",
       "   <th style=\"text-align:left;\"> Target </th>\n",
       "   <th style=\"text-align:right;\"> Score </th>\n",
       "   <th style=\"text-align:right;\"> NLog10P </th>\n",
       "   <th style=\"text-align:left;\"> Method </th>\n",
       "   <th style=\"text-align:left;\"> Source </th>\n",
       "  </tr>\n",
       " </thead>\n",
       "<tbody>\n",
       "  <tr>\n",
       "   <td style=\"text-align:left;\"> chr1 </td>\n",
       "   <td style=\"text-align:right;\"> 10038 </td>\n",
       "   <td style=\"text-align:right;\"> 10405 </td>\n",
       "   <td style=\"text-align:left;\"> ATAC </td>\n",
       "   <td style=\"text-align:left;\"> ATAC </td>\n",
       "   <td style=\"text-align:left;\"> ATAC </td>\n",
       "   <td style=\"text-align:left;\"> chr1:10038-10405 </td>\n",
       "   <td style=\"text-align:left;\"> NA </td>\n",
       "   <td style=\"text-align:right;\"> 3.940038 </td>\n",
       "   <td style=\"text-align:right;\"> NA </td>\n",
       "   <td style=\"text-align:left;\"> MACS </td>\n",
       "   <td style=\"text-align:left;\"> Reddy Lab </td>\n",
       "  </tr>\n",
       "  <tr>\n",
       "   <td style=\"text-align:left;\"> chr1 </td>\n",
       "   <td style=\"text-align:right;\"> 14282 </td>\n",
       "   <td style=\"text-align:right;\"> 14614 </td>\n",
       "   <td style=\"text-align:left;\"> ATAC </td>\n",
       "   <td style=\"text-align:left;\"> ATAC </td>\n",
       "   <td style=\"text-align:left;\"> ATAC </td>\n",
       "   <td style=\"text-align:left;\"> chr1:14282-14614 </td>\n",
       "   <td style=\"text-align:left;\"> NA </td>\n",
       "   <td style=\"text-align:right;\"> 2.841707 </td>\n",
       "   <td style=\"text-align:right;\"> NA </td>\n",
       "   <td style=\"text-align:left;\"> MACS </td>\n",
       "   <td style=\"text-align:left;\"> Reddy Lab </td>\n",
       "  </tr>\n",
       "  <tr>\n",
       "   <td style=\"text-align:left;\"> chr1 </td>\n",
       "   <td style=\"text-align:right;\"> 16025 </td>\n",
       "   <td style=\"text-align:right;\"> 16338 </td>\n",
       "   <td style=\"text-align:left;\"> ATAC </td>\n",
       "   <td style=\"text-align:left;\"> ATAC </td>\n",
       "   <td style=\"text-align:left;\"> ATAC </td>\n",
       "   <td style=\"text-align:left;\"> chr1:16025-16338 </td>\n",
       "   <td style=\"text-align:left;\"> NA </td>\n",
       "   <td style=\"text-align:right;\"> 3.830812 </td>\n",
       "   <td style=\"text-align:right;\"> NA </td>\n",
       "   <td style=\"text-align:left;\"> MACS </td>\n",
       "   <td style=\"text-align:left;\"> Reddy Lab </td>\n",
       "  </tr>\n",
       "</tbody>\n",
       "</table>"
      ]
     },
     "metadata": {},
     "output_type": "display_data"
    }
   ],
   "source": [
    "### read table\n",
    "vec_txt_cname = c(\n",
    "    \"Chrom\", \"ChromStart\", \"ChromEnd\", \"Group\", \"Label\",\n",
    "    \"Assay\", \"Region\", \"Target\", \"Score\", \"NLog10P\",\n",
    "    \"Method\", \"Source\"\n",
    ")\n",
    "\n",
    "lst = lapply(vec_txt_fpath, function(txt_fpath){\n",
    "    dat = read_tsv(txt_fpath, col_names = vec, show_col_types = FALSE)        \n",
    "    colnames(dat) = vec_txt_cname\n",
    "    return(dat)\n",
    "})\n",
    "dat = bind_rows(lst)\n",
    "\n",
    "### assign and show\n",
    "dat_region_import = dat\n",
    "print(dim(dat))\n",
    "fun_display_table(head(dat, 3))"
   ]
  },
  {
   "cell_type": "code",
   "execution_count": 7,
   "id": "9f52b929-fea2-4989-8959-9e6d76d65346",
   "metadata": {},
   "outputs": [
    {
     "data": {
      "text/html": [
       "<table class=\"dataframe\">\n",
       "<caption>A tibble: 6 × 12</caption>\n",
       "<thead>\n",
       "\t<tr><th scope=col>Chrom</th><th scope=col>ChromStart</th><th scope=col>ChromEnd</th><th scope=col>Group</th><th scope=col>Label</th><th scope=col>Assay</th><th scope=col>Region</th><th scope=col>Target</th><th scope=col>Score</th><th scope=col>NLog10P</th><th scope=col>Method</th><th scope=col>Source</th></tr>\n",
       "\t<tr><th scope=col>&lt;chr&gt;</th><th scope=col>&lt;dbl&gt;</th><th scope=col>&lt;dbl&gt;</th><th scope=col>&lt;chr&gt;</th><th scope=col>&lt;chr&gt;</th><th scope=col>&lt;chr&gt;</th><th scope=col>&lt;chr&gt;</th><th scope=col>&lt;chr&gt;</th><th scope=col>&lt;dbl&gt;</th><th scope=col>&lt;dbl&gt;</th><th scope=col>&lt;chr&gt;</th><th scope=col>&lt;chr&gt;</th></tr>\n",
       "</thead>\n",
       "<tbody>\n",
       "\t<tr><td>chr1</td><td> 605550</td><td> 605627</td><td>CRISPRi-Growth</td><td>Signif</td><td>CRISPRi-Growth</td><td>chr1:605550-605627  </td><td>chr1.1.1   </td><td>-0.9859338</td><td>10.488680</td><td>DESeq2</td><td>Gersbach Lab</td></tr>\n",
       "\t<tr><td>chr1</td><td> 826642</td><td> 827902</td><td>CRISPRi-Growth</td><td>Signif</td><td>CRISPRi-Growth</td><td>chr1:826642-827902  </td><td>chr1.4.8   </td><td> 0.1855074</td><td> 1.488048</td><td>DESeq2</td><td>Gersbach Lab</td></tr>\n",
       "\t<tr><td>chr1</td><td> 964946</td><td> 965136</td><td>CRISPRi-Growth</td><td>Signif</td><td>CRISPRi-Growth</td><td>chr1:964946-965136  </td><td>chr1.41.7  </td><td>-1.1466792</td><td>25.834265</td><td>DESeq2</td><td>Gersbach Lab</td></tr>\n",
       "\t<tr><td>chr1</td><td> 995761</td><td> 996190</td><td>CRISPRi-Growth</td><td>Signif</td><td>CRISPRi-Growth</td><td>chr1:995761-996190  </td><td>chr1.53.2  </td><td> 0.2141075</td><td> 1.727210</td><td>DESeq2</td><td>Gersbach Lab</td></tr>\n",
       "\t<tr><td>chr1</td><td>1067929</td><td>1070953</td><td>CRISPRi-Growth</td><td>Signif</td><td>CRISPRi-Growth</td><td>chr1:1067929-1070953</td><td>chr1.74.8  </td><td>-0.3383702</td><td> 1.472117</td><td>DESeq2</td><td>Gersbach Lab</td></tr>\n",
       "\t<tr><td>chr1</td><td>1155362</td><td>1155639</td><td>CRISPRi-Growth</td><td>Signif</td><td>CRISPRi-Growth</td><td>chr1:1155362-1155639</td><td>chr1.106.10</td><td>-0.5858502</td><td> 3.495086</td><td>DESeq2</td><td>Gersbach Lab</td></tr>\n",
       "</tbody>\n",
       "</table>\n"
      ],
      "text/latex": [
       "A tibble: 6 × 12\n",
       "\\begin{tabular}{llllllllllll}\n",
       " Chrom & ChromStart & ChromEnd & Group & Label & Assay & Region & Target & Score & NLog10P & Method & Source\\\\\n",
       " <chr> & <dbl> & <dbl> & <chr> & <chr> & <chr> & <chr> & <chr> & <dbl> & <dbl> & <chr> & <chr>\\\\\n",
       "\\hline\n",
       "\t chr1 &  605550 &  605627 & CRISPRi-Growth & Signif & CRISPRi-Growth & chr1:605550-605627   & chr1.1.1    & -0.9859338 & 10.488680 & DESeq2 & Gersbach Lab\\\\\n",
       "\t chr1 &  826642 &  827902 & CRISPRi-Growth & Signif & CRISPRi-Growth & chr1:826642-827902   & chr1.4.8    &  0.1855074 &  1.488048 & DESeq2 & Gersbach Lab\\\\\n",
       "\t chr1 &  964946 &  965136 & CRISPRi-Growth & Signif & CRISPRi-Growth & chr1:964946-965136   & chr1.41.7   & -1.1466792 & 25.834265 & DESeq2 & Gersbach Lab\\\\\n",
       "\t chr1 &  995761 &  996190 & CRISPRi-Growth & Signif & CRISPRi-Growth & chr1:995761-996190   & chr1.53.2   &  0.2141075 &  1.727210 & DESeq2 & Gersbach Lab\\\\\n",
       "\t chr1 & 1067929 & 1070953 & CRISPRi-Growth & Signif & CRISPRi-Growth & chr1:1067929-1070953 & chr1.74.8   & -0.3383702 &  1.472117 & DESeq2 & Gersbach Lab\\\\\n",
       "\t chr1 & 1155362 & 1155639 & CRISPRi-Growth & Signif & CRISPRi-Growth & chr1:1155362-1155639 & chr1.106.10 & -0.5858502 &  3.495086 & DESeq2 & Gersbach Lab\\\\\n",
       "\\end{tabular}\n"
      ],
      "text/markdown": [
       "\n",
       "A tibble: 6 × 12\n",
       "\n",
       "| Chrom &lt;chr&gt; | ChromStart &lt;dbl&gt; | ChromEnd &lt;dbl&gt; | Group &lt;chr&gt; | Label &lt;chr&gt; | Assay &lt;chr&gt; | Region &lt;chr&gt; | Target &lt;chr&gt; | Score &lt;dbl&gt; | NLog10P &lt;dbl&gt; | Method &lt;chr&gt; | Source &lt;chr&gt; |\n",
       "|---|---|---|---|---|---|---|---|---|---|---|---|\n",
       "| chr1 |  605550 |  605627 | CRISPRi-Growth | Signif | CRISPRi-Growth | chr1:605550-605627   | chr1.1.1    | -0.9859338 | 10.488680 | DESeq2 | Gersbach Lab |\n",
       "| chr1 |  826642 |  827902 | CRISPRi-Growth | Signif | CRISPRi-Growth | chr1:826642-827902   | chr1.4.8    |  0.1855074 |  1.488048 | DESeq2 | Gersbach Lab |\n",
       "| chr1 |  964946 |  965136 | CRISPRi-Growth | Signif | CRISPRi-Growth | chr1:964946-965136   | chr1.41.7   | -1.1466792 | 25.834265 | DESeq2 | Gersbach Lab |\n",
       "| chr1 |  995761 |  996190 | CRISPRi-Growth | Signif | CRISPRi-Growth | chr1:995761-996190   | chr1.53.2   |  0.2141075 |  1.727210 | DESeq2 | Gersbach Lab |\n",
       "| chr1 | 1067929 | 1070953 | CRISPRi-Growth | Signif | CRISPRi-Growth | chr1:1067929-1070953 | chr1.74.8   | -0.3383702 |  1.472117 | DESeq2 | Gersbach Lab |\n",
       "| chr1 | 1155362 | 1155639 | CRISPRi-Growth | Signif | CRISPRi-Growth | chr1:1155362-1155639 | chr1.106.10 | -0.5858502 |  3.495086 | DESeq2 | Gersbach Lab |\n",
       "\n"
      ],
      "text/plain": [
       "  Chrom ChromStart ChromEnd Group          Label  Assay         \n",
       "1 chr1   605550     605627  CRISPRi-Growth Signif CRISPRi-Growth\n",
       "2 chr1   826642     827902  CRISPRi-Growth Signif CRISPRi-Growth\n",
       "3 chr1   964946     965136  CRISPRi-Growth Signif CRISPRi-Growth\n",
       "4 chr1   995761     996190  CRISPRi-Growth Signif CRISPRi-Growth\n",
       "5 chr1  1067929    1070953  CRISPRi-Growth Signif CRISPRi-Growth\n",
       "6 chr1  1155362    1155639  CRISPRi-Growth Signif CRISPRi-Growth\n",
       "  Region               Target      Score      NLog10P   Method Source      \n",
       "1 chr1:605550-605627   chr1.1.1    -0.9859338 10.488680 DESeq2 Gersbach Lab\n",
       "2 chr1:826642-827902   chr1.4.8     0.1855074  1.488048 DESeq2 Gersbach Lab\n",
       "3 chr1:964946-965136   chr1.41.7   -1.1466792 25.834265 DESeq2 Gersbach Lab\n",
       "4 chr1:995761-996190   chr1.53.2    0.2141075  1.727210 DESeq2 Gersbach Lab\n",
       "5 chr1:1067929-1070953 chr1.74.8   -0.3383702  1.472117 DESeq2 Gersbach Lab\n",
       "6 chr1:1155362-1155639 chr1.106.10 -0.5858502  3.495086 DESeq2 Gersbach Lab"
      ]
     },
     "metadata": {},
     "output_type": "display_data"
    }
   ],
   "source": [
    "dat = lst[[4]]\n",
    "head(dat)"
   ]
  },
  {
   "cell_type": "markdown",
   "id": "3b01ec04-babf-427d-838a-8ea1d5277269",
   "metadata": {},
   "source": [
    "## Define columns"
   ]
  },
  {
   "cell_type": "code",
   "execution_count": 10,
   "id": "627c685c-53af-4ea0-8e09-e14eac4218ec",
   "metadata": {},
   "outputs": [
    {
     "data": {
      "text/html": [
       "<table>\n",
       " <thead>\n",
       "  <tr>\n",
       "   <th style=\"text-align:left;\"> Name </th>\n",
       "   <th style=\"text-align:left;\"> Note </th>\n",
       "  </tr>\n",
       " </thead>\n",
       "<tbody>\n",
       "  <tr>\n",
       "   <td style=\"text-align:left;\"> Chrom </td>\n",
       "   <td style=\"text-align:left;\"> Name of the chromosome </td>\n",
       "  </tr>\n",
       "  <tr>\n",
       "   <td style=\"text-align:left;\"> ChromStart </td>\n",
       "   <td style=\"text-align:left;\"> The starting position of the feature in the chromosome </td>\n",
       "  </tr>\n",
       "  <tr>\n",
       "   <td style=\"text-align:left;\"> ChromEnd </td>\n",
       "   <td style=\"text-align:left;\"> The ending position of the feature in the chromosome </td>\n",
       "  </tr>\n",
       "  <tr>\n",
       "   <td style=\"text-align:left;\"> Group </td>\n",
       "   <td style=\"text-align:left;\"> Region group </td>\n",
       "  </tr>\n",
       "  <tr>\n",
       "   <td style=\"text-align:left;\"> Label </td>\n",
       "   <td style=\"text-align:left;\"> Region label </td>\n",
       "  </tr>\n",
       "  <tr>\n",
       "   <td style=\"text-align:left;\"> Assay </td>\n",
       "   <td style=\"text-align:left;\"> Assay or annotation name </td>\n",
       "  </tr>\n",
       "  <tr>\n",
       "   <td style=\"text-align:left;\"> Region </td>\n",
       "   <td style=\"text-align:left;\"> Region coordinate </td>\n",
       "  </tr>\n",
       "  <tr>\n",
       "   <td style=\"text-align:left;\"> Target </td>\n",
       "   <td style=\"text-align:left;\"> Targeted genes or guides </td>\n",
       "  </tr>\n",
       "  <tr>\n",
       "   <td style=\"text-align:left;\"> Score </td>\n",
       "   <td style=\"text-align:left;\"> Score assigned to a region. </td>\n",
       "  </tr>\n",
       "  <tr>\n",
       "   <td style=\"text-align:left;\"> NLog10P </td>\n",
       "   <td style=\"text-align:left;\"> -log10 of P-value </td>\n",
       "  </tr>\n",
       "  <tr>\n",
       "   <td style=\"text-align:left;\"> Method </td>\n",
       "   <td style=\"text-align:left;\"> Method of analysis </td>\n",
       "  </tr>\n",
       "  <tr>\n",
       "   <td style=\"text-align:left;\"> Source </td>\n",
       "   <td style=\"text-align:left;\"> Dataset or data source </td>\n",
       "  </tr>\n",
       "</tbody>\n",
       "</table>"
      ]
     },
     "metadata": {},
     "output_type": "display_data"
    }
   ],
   "source": [
    "### setup column description\n",
    "dat = tribble(\n",
    "    ~Name,        ~Note,\n",
    "    \"Chrom\",      \"Name of the chromosome\",\n",
    "    \"ChromStart\", \"The starting position of the feature in the chromosome\",\n",
    "    \"ChromEnd\",   \"The ending position of the feature in the chromosome\",\n",
    "    \"Group\",      \"Region group\",\n",
    "    \"Label\",      \"Region label\",\n",
    "    \"Assay\",      \"Assay or annotation name\",\n",
    "    \"Region\",     \"Region coordinate\",\n",
    "    \"Target\",     \"Targeted genes or guides\",\n",
    "    \"Score\",      \"Score assigned to a region.\",\n",
    "    \"NLog10P\",    \"-log10 of P-value\",\n",
    "    \"Method\",     \"Method of analysis\",\n",
    "    \"Source\",     \"Dataset or data source\"\n",
    ")\n",
    "\n",
    "### assign and show\n",
    "dat_cname = dat\n",
    "fun_display_table(dat)"
   ]
  },
  {
   "cell_type": "markdown",
   "id": "6def827e-3588-4076-aa29-cbd953f452a5",
   "metadata": {},
   "source": [
    "**Check**"
   ]
  },
  {
   "cell_type": "code",
   "execution_count": 11,
   "id": "4ab598aa-1ae9-4862-9191-020211988959",
   "metadata": {},
   "outputs": [
    {
     "data": {
      "text/html": [
       "TRUE"
      ],
      "text/latex": [
       "TRUE"
      ],
      "text/markdown": [
       "TRUE"
      ],
      "text/plain": [
       "[1] TRUE"
      ]
     },
     "metadata": {},
     "output_type": "display_data"
    }
   ],
   "source": [
    "vec1 = colnames(dat_region_import)\n",
    "vec2 = dat_cname$Name\n",
    "all(vec1 == vec2)"
   ]
  },
  {
   "cell_type": "markdown",
   "id": "28100284-341d-4d40-877b-68b5474c5e76",
   "metadata": {},
   "source": [
    "## Export results"
   ]
  },
  {
   "cell_type": "code",
   "execution_count": 12,
   "id": "e45e7d06-c883-4a95-89b6-2dcc228f5742",
   "metadata": {},
   "outputs": [],
   "source": [
    "### set file path\n",
    "txt_folder = TXT_FOLDER_REGION\n",
    "txt_fdiry  = file.path(FD_RES, \"region\", txt_folder, \"summary\")\n",
    "txt_fname  = \"description.tsv\"\n",
    "txt_fpath  = file.path(txt_fdiry, txt_fname)\n",
    "\n",
    "### write table\n",
    "dat = dat_cname\n",
    "write_tsv(dat, txt_fpath)"
   ]
  },
  {
   "cell_type": "code",
   "execution_count": 13,
   "id": "31e5e16a-78e3-4eb2-8e83-41764108ab8e",
   "metadata": {},
   "outputs": [],
   "source": [
    "### set file path\n",
    "txt_folder = TXT_FOLDER_REGION\n",
    "txt_fdiry  = file.path(FD_RES, \"region\", txt_folder)\n",
    "txt_fname  = \"fcc_table.concat.starr.mpra.crispri.e2g.atac.tss.bed.gz\"\n",
    "txt_fpath  = file.path(txt_fdiry, txt_fname)\n",
    "\n",
    "### set table\n",
    "dat = dat_region_import\n",
    "dat = dat %>% dplyr::arrange(Chrom, ChromStart, ChromEnd)\n",
    "\n",
    "### write table\n",
    "write_tsv(dat, txt_fpath, col_names = FALSE)"
   ]
  },
  {
   "cell_type": "code",
   "execution_count": null,
   "id": "742109f7-0759-4627-ba73-86236656b75d",
   "metadata": {},
   "outputs": [],
   "source": []
  }
 ],
 "metadata": {
  "kernelspec": {
   "display_name": "R",
   "language": "R",
   "name": "ir"
  },
  "language_info": {
   "codemirror_mode": "r",
   "file_extension": ".r",
   "mimetype": "text/x-r-source",
   "name": "R",
   "pygments_lexer": "r",
   "version": "4.4.1"
  }
 },
 "nbformat": 4,
 "nbformat_minor": 5
}
