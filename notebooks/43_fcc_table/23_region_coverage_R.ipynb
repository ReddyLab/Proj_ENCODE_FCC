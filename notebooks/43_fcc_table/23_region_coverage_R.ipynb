{
 "cells": [
  {
   "cell_type": "raw",
   "id": "9b24022f-ba4d-40aa-a0c6-ce71419ac28c",
   "metadata": {},
   "source": [
    "---\n",
    "title: Prepare CRISPRi Growth data 01\n",
    "subtitle: Prepare data\n",
    "format:\n",
    "    html:\n",
    "        code-fold:  true\n",
    "        code-tools: true\n",
    "---"
   ]
  },
  {
   "cell_type": "markdown",
   "id": "bb1a0fa8-44ab-44a9-aca9-4ee6b118d039",
   "metadata": {},
   "source": [
    "**Set environment**"
   ]
  },
  {
   "cell_type": "code",
   "execution_count": 1,
   "id": "873b2e4a-7d39-4b46-8f67-129c909b9b77",
   "metadata": {
    "tags": []
   },
   "outputs": [
    {
     "name": "stdout",
     "output_type": "stream",
     "text": [
      "You are working on        Singularity \n",
      "BASE DIRECTORY (FD_BASE): /mount \n",
      "REPO DIRECTORY (FD_REPO): /mount/repo \n",
      "WORK DIRECTORY (FD_WORK): /mount/work \n",
      "DATA DIRECTORY (FD_DATA): /mount/data \n",
      "\n",
      "You are working with      ENCODE FCC \n",
      "PATH OF PROJECT (FD_PRJ): /mount/repo/Proj_ENCODE_FCC \n",
      "PROJECT RESULTS (FD_RES): /mount/repo/Proj_ENCODE_FCC/results \n",
      "PROJECT SCRIPTS (FD_EXE): /mount/repo/Proj_ENCODE_FCC/scripts \n",
      "PROJECT DATA    (FD_DAT): /mount/repo/Proj_ENCODE_FCC/data \n",
      "PROJECT NOTE    (FD_NBK): /mount/repo/Proj_ENCODE_FCC/notebooks \n",
      "PROJECT DOCS    (FD_DOC): /mount/repo/Proj_ENCODE_FCC/docs \n",
      "PROJECT LOG     (FD_LOG): /mount/repo/Proj_ENCODE_FCC/log \n",
      "PROJECT APP     (FD_APP): /mount/repo/Proj_ENCODE_FCC/app \n",
      "PROJECT REF     (FD_REF): /mount/repo/Proj_ENCODE_FCC/references \n",
      "\n"
     ]
    }
   ],
   "source": [
    "suppressMessages(suppressWarnings(source(\"../run_config_project_sing.R\")))\n",
    "show_env()"
   ]
  },
  {
   "cell_type": "markdown",
   "id": "2917d18a-7bbd-4612-af86-ca87a0877c30",
   "metadata": {},
   "source": [
    "## Import data"
   ]
  },
  {
   "cell_type": "code",
   "execution_count": 2,
   "id": "879c211f-e049-4294-bb2d-aaf6c6076d2a",
   "metadata": {},
   "outputs": [
    {
     "name": "stdout",
     "output_type": "stream",
     "text": [
      "[1] 150042      3\n"
     ]
    },
    {
     "data": {
      "text/html": [
       "<table>\n",
       " <thead>\n",
       "  <tr>\n",
       "   <th style=\"text-align:left;\"> Chrom </th>\n",
       "   <th style=\"text-align:right;\"> ChromStart </th>\n",
       "   <th style=\"text-align:right;\"> ChromEnd </th>\n",
       "  </tr>\n",
       " </thead>\n",
       "<tbody>\n",
       "  <tr>\n",
       "   <td style=\"text-align:left;\"> chr1 </td>\n",
       "   <td style=\"text-align:right;\"> 10038 </td>\n",
       "   <td style=\"text-align:right;\"> 10405 </td>\n",
       "  </tr>\n",
       "  <tr>\n",
       "   <td style=\"text-align:left;\"> chr1 </td>\n",
       "   <td style=\"text-align:right;\"> 14282 </td>\n",
       "   <td style=\"text-align:right;\"> 14614 </td>\n",
       "  </tr>\n",
       "  <tr>\n",
       "   <td style=\"text-align:left;\"> chr1 </td>\n",
       "   <td style=\"text-align:right;\"> 16025 </td>\n",
       "   <td style=\"text-align:right;\"> 16338 </td>\n",
       "  </tr>\n",
       "</tbody>\n",
       "</table>"
      ]
     },
     "metadata": {},
     "output_type": "display_data"
    }
   ],
   "source": [
    "txt_region = \"fcc_astarr_macs\"\n",
    "txt_folder = \"region\"\n",
    "txt_fdiry  = file.path(FD_RES, txt_folder, txt_region)\n",
    "txt_fname  = \"K562.hg38.ASTARR.macs.KS91.input.rep_all.max_overlaps.q5.bed.gz\"\n",
    "txt_fpath  = file.path(txt_fdiry, txt_fname)\n",
    "\n",
    "dat = read_tsv(txt_fpath, col_names = FALSE, show_col_types = FALSE)\n",
    "colnames(dat) = c(\"Chrom\", \"ChromStart\", \"ChromEnd\")\n",
    "\n",
    "dat_region_atac = dat\n",
    "print(dim(dat))\n",
    "fun_display_table(head(dat, 3))"
   ]
  },
  {
   "cell_type": "code",
   "execution_count": 3,
   "id": "5559647b-0126-43bc-a8cb-3cb3edcd3163",
   "metadata": {},
   "outputs": [
    {
     "name": "stdout",
     "output_type": "stream",
     "text": [
      "[1] 432505      9\n"
     ]
    },
    {
     "data": {
      "text/html": [
       "<table>\n",
       " <thead>\n",
       "  <tr>\n",
       "   <th style=\"text-align:left;\"> Chrom </th>\n",
       "   <th style=\"text-align:right;\"> ChromStart </th>\n",
       "   <th style=\"text-align:right;\"> ChromEnd </th>\n",
       "   <th style=\"text-align:left;\"> Region </th>\n",
       "   <th style=\"text-align:right;\"> Score </th>\n",
       "   <th style=\"text-align:left;\"> Assay_Name </th>\n",
       "   <th style=\"text-align:left;\"> Assay_Type </th>\n",
       "   <th style=\"text-align:left;\"> Assay_Group </th>\n",
       "   <th style=\"text-align:left;\"> Assay_Label </th>\n",
       "  </tr>\n",
       " </thead>\n",
       "<tbody>\n",
       "  <tr>\n",
       "   <td style=\"text-align:left;\"> chr10 </td>\n",
       "   <td style=\"text-align:right;\"> 100729094 </td>\n",
       "   <td style=\"text-align:right;\"> 100729750 </td>\n",
       "   <td style=\"text-align:left;\"> chr10:100729094-100729750 </td>\n",
       "   <td style=\"text-align:right;\"> -0.3065107 </td>\n",
       "   <td style=\"text-align:left;\"> CRISPRi_FlowFISH_K562_Riley_JinWoo </td>\n",
       "   <td style=\"text-align:left;\"> CRISPRi-HCRFF </td>\n",
       "   <td style=\"text-align:left;\"> CRISPRi-HCRFF </td>\n",
       "   <td style=\"text-align:left;\"> CRISPRi-HCR FlowFISH </td>\n",
       "  </tr>\n",
       "  <tr>\n",
       "   <td style=\"text-align:left;\"> chr10 </td>\n",
       "   <td style=\"text-align:right;\"> 100743501 </td>\n",
       "   <td style=\"text-align:right;\"> 100744571 </td>\n",
       "   <td style=\"text-align:left;\"> chr10:100743501-100744571 </td>\n",
       "   <td style=\"text-align:right;\"> -0.2702473 </td>\n",
       "   <td style=\"text-align:left;\"> CRISPRi_FlowFISH_K562_Riley_JinWoo </td>\n",
       "   <td style=\"text-align:left;\"> CRISPRi-HCRFF </td>\n",
       "   <td style=\"text-align:left;\"> CRISPRi-HCRFF </td>\n",
       "   <td style=\"text-align:left;\"> CRISPRi-HCR FlowFISH </td>\n",
       "  </tr>\n",
       "  <tr>\n",
       "   <td style=\"text-align:left;\"> chr10 </td>\n",
       "   <td style=\"text-align:right;\"> 100745413 </td>\n",
       "   <td style=\"text-align:right;\"> 100745741 </td>\n",
       "   <td style=\"text-align:left;\"> chr10:100745413-100745741 </td>\n",
       "   <td style=\"text-align:right;\"> 0.1130381 </td>\n",
       "   <td style=\"text-align:left;\"> CRISPRi_FlowFISH_K562_Riley_JinWoo </td>\n",
       "   <td style=\"text-align:left;\"> CRISPRi-HCRFF </td>\n",
       "   <td style=\"text-align:left;\"> CRISPRi-HCRFF </td>\n",
       "   <td style=\"text-align:left;\"> CRISPRi-HCR FlowFISH </td>\n",
       "  </tr>\n",
       "</tbody>\n",
       "</table>"
      ]
     },
     "metadata": {},
     "output_type": "display_data"
    }
   ],
   "source": [
    "txt_region = \"fcc_astarr_macs_input_overlap\"\n",
    "txt_folder = \"region_coverage_fcc\"\n",
    "txt_fdiry  = file.path(FD_RES, txt_folder, txt_region, \"summary\")\n",
    "txt_fname  = \"result.coverage.zscore.final.tsv\"\n",
    "txt_fpath  = file.path(txt_fdiry, txt_fname)\n",
    "\n",
    "dat = read_tsv(txt_fpath, show_col_types = FALSE)\n",
    "dat_region_score_fcc = dat\n",
    "\n",
    "print(dim(dat))\n",
    "fun_display_table(head(dat, 3))"
   ]
  },
  {
   "cell_type": "code",
   "execution_count": 5,
   "id": "ea2d919c-7151-43db-9e3e-ac3f57df297e",
   "metadata": {},
   "outputs": [
    {
     "name": "stdout",
     "output_type": "stream",
     "text": [
      "[1] 3035    6\n"
     ]
    },
    {
     "data": {
      "text/html": [
       "<table>\n",
       " <thead>\n",
       "  <tr>\n",
       "   <th style=\"text-align:left;\"> Chrom </th>\n",
       "   <th style=\"text-align:right;\"> ChromStart </th>\n",
       "   <th style=\"text-align:right;\"> ChromEnd </th>\n",
       "   <th style=\"text-align:left;\"> Region </th>\n",
       "   <th style=\"text-align:left;\"> Regulated_Ifany </th>\n",
       "   <th style=\"text-align:right;\"> Regulated_Count </th>\n",
       "  </tr>\n",
       " </thead>\n",
       "<tbody>\n",
       "  <tr>\n",
       "   <td style=\"text-align:left;\"> chr1 </td>\n",
       "   <td style=\"text-align:right;\"> 3774056 </td>\n",
       "   <td style=\"text-align:right;\"> 3776283 </td>\n",
       "   <td style=\"text-align:left;\"> chr1:3774056-3776283 </td>\n",
       "   <td style=\"text-align:left;\"> TRUE </td>\n",
       "   <td style=\"text-align:right;\"> 3 </td>\n",
       "  </tr>\n",
       "  <tr>\n",
       "   <td style=\"text-align:left;\"> chr1 </td>\n",
       "   <td style=\"text-align:right;\"> 3803955 </td>\n",
       "   <td style=\"text-align:right;\"> 3806146 </td>\n",
       "   <td style=\"text-align:left;\"> chr1:3803955-3806146 </td>\n",
       "   <td style=\"text-align:left;\"> FALSE </td>\n",
       "   <td style=\"text-align:right;\"> 0 </td>\n",
       "  </tr>\n",
       "  <tr>\n",
       "   <td style=\"text-align:left;\"> chr1 </td>\n",
       "   <td style=\"text-align:right;\"> 4126841 </td>\n",
       "   <td style=\"text-align:right;\"> 4128109 </td>\n",
       "   <td style=\"text-align:left;\"> chr1:4126841-4128109 </td>\n",
       "   <td style=\"text-align:left;\"> FALSE </td>\n",
       "   <td style=\"text-align:right;\"> 0 </td>\n",
       "  </tr>\n",
       "</tbody>\n",
       "</table>"
      ]
     },
     "metadata": {},
     "output_type": "display_data"
    }
   ],
   "source": [
    "txt_region = \"fcc_astarr_macs_input_overlap\"\n",
    "txt_folder = \"region_annotation\"\n",
    "txt_fdiry  = file.path(FD_RES, txt_folder, txt_region, \"summary\")\n",
    "txt_fname  = \"region.summary.encode_e2g_benchmark.regulated.tsv\"\n",
    "txt_fpath  = file.path(txt_fdiry, txt_fname)\n",
    "\n",
    "dat = read_tsv(txt_fpath, show_col_types = FALSE)\n",
    "dat_region_annot_e2g = dat\n",
    "\n",
    "print(dim(dat))\n",
    "fun_display_table(head(dat, 3))"
   ]
  },
  {
   "cell_type": "code",
   "execution_count": 6,
   "id": "630c546a-3bb1-4b68-a1bf-bd6ead2df091",
   "metadata": {},
   "outputs": [
    {
     "name": "stdout",
     "output_type": "stream",
     "text": [
      "[1] 156326      8\n"
     ]
    },
    {
     "data": {
      "text/html": [
       "<table>\n",
       " <thead>\n",
       "  <tr>\n",
       "   <th style=\"text-align:left;\"> Chrom </th>\n",
       "   <th style=\"text-align:right;\"> ChromStart </th>\n",
       "   <th style=\"text-align:right;\"> ChromEnd </th>\n",
       "   <th style=\"text-align:left;\"> Region </th>\n",
       "   <th style=\"text-align:left;\"> Group </th>\n",
       "   <th style=\"text-align:left;\"> Label </th>\n",
       "   <th style=\"text-align:left;\"> Label2 </th>\n",
       "   <th style=\"text-align:left;\"> Label3 </th>\n",
       "  </tr>\n",
       " </thead>\n",
       "<tbody>\n",
       "  <tr>\n",
       "   <td style=\"text-align:left;\"> chr1 </td>\n",
       "   <td style=\"text-align:right;\"> 10038 </td>\n",
       "   <td style=\"text-align:right;\"> 10405 </td>\n",
       "   <td style=\"text-align:left;\"> chr1:10038-10405 </td>\n",
       "   <td style=\"text-align:left;\"> ASTARR </td>\n",
       "   <td style=\"text-align:left;\"> ASTARR_R </td>\n",
       "   <td style=\"text-align:left;\"> ASTARR_R </td>\n",
       "   <td style=\"text-align:left;\"> Repress (R) </td>\n",
       "  </tr>\n",
       "  <tr>\n",
       "   <td style=\"text-align:left;\"> chr1 </td>\n",
       "   <td style=\"text-align:right;\"> 16025 </td>\n",
       "   <td style=\"text-align:right;\"> 16338 </td>\n",
       "   <td style=\"text-align:left;\"> chr1:16025-16338 </td>\n",
       "   <td style=\"text-align:left;\"> ASTARR </td>\n",
       "   <td style=\"text-align:left;\"> ASTARR_R </td>\n",
       "   <td style=\"text-align:left;\"> ASTARR_R </td>\n",
       "   <td style=\"text-align:left;\"> Repress (R) </td>\n",
       "  </tr>\n",
       "  <tr>\n",
       "   <td style=\"text-align:left;\"> chr1 </td>\n",
       "   <td style=\"text-align:right;\"> 17288 </td>\n",
       "   <td style=\"text-align:right;\"> 17689 </td>\n",
       "   <td style=\"text-align:left;\"> chr1:17288-17689 </td>\n",
       "   <td style=\"text-align:left;\"> ASTARR </td>\n",
       "   <td style=\"text-align:left;\"> ASTARR_R </td>\n",
       "   <td style=\"text-align:left;\"> ASTARR_R </td>\n",
       "   <td style=\"text-align:left;\"> Repress (R) </td>\n",
       "  </tr>\n",
       "</tbody>\n",
       "</table>"
      ]
     },
     "metadata": {},
     "output_type": "display_data"
    }
   ],
   "source": [
    "txt_region = \"fcc_astarr_macs_input_overlap\"\n",
    "txt_folder = \"region_annotation\"\n",
    "txt_fdiry  = file.path(FD_RES, txt_folder, txt_region, \"summary\")\n",
    "txt_fname  = \"region.summary.fcc_peak_call.tsv\"\n",
    "txt_fpath  = file.path(txt_fdiry, txt_fname)\n",
    "\n",
    "dat = read_tsv(txt_fpath, show_col_types = FALSE)\n",
    "dat_region_annot_fcc = dat\n",
    "\n",
    "print(dim(dat))\n",
    "fun_display_table(head(dat, 3))"
   ]
  },
  {
   "cell_type": "markdown",
   "id": "54eb376a-d181-4e02-a610-bef12a2fd1f9",
   "metadata": {},
   "source": [
    "## Arrange table: Coverage"
   ]
  },
  {
   "cell_type": "code",
   "execution_count": 41,
   "id": "6fe96450-dc71-4cee-8ec9-c5b2613ac471",
   "metadata": {},
   "outputs": [
    {
     "name": "stdout",
     "output_type": "stream",
     "text": [
      "[1] 585582      5\n"
     ]
    },
    {
     "data": {
      "text/html": [
       "<table>\n",
       " <thead>\n",
       "  <tr>\n",
       "   <th style=\"text-align:left;\"> Chrom </th>\n",
       "   <th style=\"text-align:right;\"> ChromStart </th>\n",
       "   <th style=\"text-align:right;\"> ChromEnd </th>\n",
       "   <th style=\"text-align:left;\"> Region </th>\n",
       "   <th style=\"text-align:left;\"> Assay_Label </th>\n",
       "  </tr>\n",
       " </thead>\n",
       "<tbody>\n",
       "  <tr>\n",
       "   <td style=\"text-align:left;\"> chr1 </td>\n",
       "   <td style=\"text-align:right;\"> 10038 </td>\n",
       "   <td style=\"text-align:right;\"> 10405 </td>\n",
       "   <td style=\"text-align:left;\"> chr1:10038-10405 </td>\n",
       "   <td style=\"text-align:left;\"> ATAC </td>\n",
       "  </tr>\n",
       "  <tr>\n",
       "   <td style=\"text-align:left;\"> chr1 </td>\n",
       "   <td style=\"text-align:right;\"> 14282 </td>\n",
       "   <td style=\"text-align:right;\"> 14614 </td>\n",
       "   <td style=\"text-align:left;\"> chr1:14282-14614 </td>\n",
       "   <td style=\"text-align:left;\"> ATAC </td>\n",
       "  </tr>\n",
       "  <tr>\n",
       "   <td style=\"text-align:left;\"> chr1 </td>\n",
       "   <td style=\"text-align:right;\"> 16025 </td>\n",
       "   <td style=\"text-align:right;\"> 16338 </td>\n",
       "   <td style=\"text-align:left;\"> chr1:16025-16338 </td>\n",
       "   <td style=\"text-align:left;\"> ATAC </td>\n",
       "  </tr>\n",
       "</tbody>\n",
       "</table>"
      ]
     },
     "metadata": {},
     "output_type": "display_data"
    }
   ],
   "source": [
    "dat  = dat_region_atac\n",
    "dat  = dat %>% dplyr::mutate(\n",
    "    Region = fun_gen_region(Chrom, ChromStart, ChromEnd), \n",
    "    Assay_Label = \"ATAC\"\n",
    ")\n",
    "dat1 = dat\n",
    "\n",
    "dat  = dat_region_score_fcc\n",
    "dat  = dat %>% dplyr::select(Chrom, ChromStart, ChromEnd, Region, Assay_Label)\n",
    "dat2 = dat\n",
    "\n",
    "dat  = dat_region_annot_e2g\n",
    "dat  = dat %>% \n",
    "    dplyr::select(Chrom, ChromStart, ChromEnd, Region) %>%\n",
    "    dplyr::mutate(Assay_Label = \"E2G-Benchmark\")\n",
    "dat3 = dat\n",
    "\n",
    "dat = bind_rows(dat1, dat2, dat3)\n",
    "dat = dat %>% dplyr::distinct()\n",
    "\n",
    "dat_region_screen = dat\n",
    "print(dim(dat))\n",
    "fun_display_table(head(dat, 3))"
   ]
  },
  {
   "cell_type": "code",
   "execution_count": 42,
   "id": "5f961029-1834-4db1-bc54-6cbc1639dab6",
   "metadata": {},
   "outputs": [
    {
     "data": {
      "text/plain": [
       "\n",
       "                ATAC           ATAC-STARR       CRISPRi-Growth \n",
       "              150042               150040                72743 \n",
       "CRISPRi-HCR FlowFISH        E2G-Benchmark           Lenti-MPRA \n",
       "                 941                 3035                61478 \n",
       "         Tiling-MPRA            WHG-STARR \n",
       "                 823               146480 "
      ]
     },
     "metadata": {},
     "output_type": "display_data"
    }
   ],
   "source": [
    "dat = dat_region_screen\n",
    "table(dat$Assay_Label)"
   ]
  },
  {
   "cell_type": "markdown",
   "id": "548eb81f-88d0-4822-a2a8-97c1ae25fca9",
   "metadata": {},
   "source": [
    "## Arrange table: Significant"
   ]
  },
  {
   "cell_type": "code",
   "execution_count": 54,
   "id": "91282307-f8b7-42c7-bc01-6cd56b1e4a1d",
   "metadata": {},
   "outputs": [
    {
     "data": {
      "text/html": [
       "<table>\n",
       " <thead>\n",
       "  <tr>\n",
       "   <th style=\"text-align:left;\"> Group </th>\n",
       "   <th style=\"text-align:left;\"> Assay_Label </th>\n",
       "  </tr>\n",
       " </thead>\n",
       "<tbody>\n",
       "  <tr>\n",
       "   <td style=\"text-align:left;\"> CRISPRi-HCRFF </td>\n",
       "   <td style=\"text-align:left;\"> CRISPRi-HCR FlowFISH </td>\n",
       "  </tr>\n",
       "  <tr>\n",
       "   <td style=\"text-align:left;\"> CRISPRi-Growth </td>\n",
       "   <td style=\"text-align:left;\"> CRISPRi-Growth </td>\n",
       "  </tr>\n",
       "  <tr>\n",
       "   <td style=\"text-align:left;\"> LMPRA </td>\n",
       "   <td style=\"text-align:left;\"> Lenti-MPRA </td>\n",
       "  </tr>\n",
       "  <tr>\n",
       "   <td style=\"text-align:left;\"> TMPRA </td>\n",
       "   <td style=\"text-align:left;\"> Tiling-MPRA </td>\n",
       "  </tr>\n",
       "  <tr>\n",
       "   <td style=\"text-align:left;\"> ASTARR </td>\n",
       "   <td style=\"text-align:left;\"> ATAC-STARR </td>\n",
       "  </tr>\n",
       "  <tr>\n",
       "   <td style=\"text-align:left;\"> WSTARR </td>\n",
       "   <td style=\"text-align:left;\"> WHG-STARR </td>\n",
       "  </tr>\n",
       "</tbody>\n",
       "</table>"
      ]
     },
     "metadata": {},
     "output_type": "display_data"
    }
   ],
   "source": [
    "dat = dat_region_score_fcc\n",
    "dat = dat %>% dplyr::select(Assay_Type, Assay_Label) %>% dplyr::distinct()\n",
    "colnames(dat) = c(\"Group\", \"Assay_Label\")\n",
    "\n",
    "dat_assay_label = dat\n",
    "fun_display_table(dat)"
   ]
  },
  {
   "cell_type": "code",
   "execution_count": 55,
   "id": "be658019-16b5-4035-9723-1dba32bd0f50",
   "metadata": {},
   "outputs": [
    {
     "name": "stdout",
     "output_type": "stream",
     "text": [
      "[1] 146643      2\n"
     ]
    },
    {
     "data": {
      "text/html": [
       "<table>\n",
       " <thead>\n",
       "  <tr>\n",
       "   <th style=\"text-align:left;\"> Region </th>\n",
       "   <th style=\"text-align:left;\"> Assay_Label </th>\n",
       "  </tr>\n",
       " </thead>\n",
       "<tbody>\n",
       "  <tr>\n",
       "   <td style=\"text-align:left;\"> chr1:10038-10405 </td>\n",
       "   <td style=\"text-align:left;\"> ATAC-STARR </td>\n",
       "  </tr>\n",
       "  <tr>\n",
       "   <td style=\"text-align:left;\"> chr1:16025-16338 </td>\n",
       "   <td style=\"text-align:left;\"> ATAC-STARR </td>\n",
       "  </tr>\n",
       "  <tr>\n",
       "   <td style=\"text-align:left;\"> chr1:17288-17689 </td>\n",
       "   <td style=\"text-align:left;\"> ATAC-STARR </td>\n",
       "  </tr>\n",
       "</tbody>\n",
       "</table>"
      ]
     },
     "metadata": {},
     "output_type": "display_data"
    }
   ],
   "source": [
    "dat  = dat_region_annot_fcc\n",
    "dat  = dat %>% \n",
    "    dplyr::left_join(dat_assay_label, by = \"Group\") %>%\n",
    "    dplyr::select(Region, Assay_Label)\n",
    "dat1 = dat\n",
    "\n",
    "dat  = dat_region_annot_e2g\n",
    "dat  = dat %>% \n",
    "    dplyr::filter(Regulated_Ifany) %>%\n",
    "    dplyr::select(Region) %>%\n",
    "    dplyr::mutate(Assay_Label = \"E2G-Benchmark\")\n",
    "dat2 = dat\n",
    "\n",
    "dat = bind_rows(dat1, dat2)\n",
    "dat = dat %>% dplyr::distinct()\n",
    "\n",
    "dat_region_signif = dat\n",
    "print(dim(dat))\n",
    "fun_display_table(head(dat, 3))"
   ]
  },
  {
   "cell_type": "markdown",
   "id": "7202d3dc-686b-4a70-8860-611e7e63bf6e",
   "metadata": {},
   "source": [
    "## Summary"
   ]
  },
  {
   "cell_type": "code",
   "execution_count": 56,
   "id": "6e5a4ffa-ce53-4ac8-9b31-f2d2ea8af557",
   "metadata": {},
   "outputs": [
    {
     "name": "stdout",
     "output_type": "stream",
     "text": [
      "[1] 150042\n"
     ]
    }
   ],
   "source": [
    "dat = dat_region_screen\n",
    "vec = dat$Region\n",
    "vec = unique(vec)\n",
    "\n",
    "vec_txt_peak_total = vec\n",
    "print(length(vec))"
   ]
  },
  {
   "cell_type": "code",
   "execution_count": 58,
   "id": "c0d04bdb-b569-4fa2-962b-16ee66f0365d",
   "metadata": {},
   "outputs": [
    {
     "data": {
      "text/html": [
       "<style>\n",
       ".list-inline {list-style: none; margin:0; padding: 0}\n",
       ".list-inline>li {display: inline-block}\n",
       ".list-inline>li:not(:last-child)::after {content: \"\\00b7\"; padding: 0 .5ex}\n",
       "</style>\n",
       "<ol class=list-inline><li>'ATAC-STARR'</li><li>'CRISPRi-Growth'</li><li>'CRISPRi-HCR FlowFISH'</li><li>'E2G-Benchmark'</li><li>'Lenti-MPRA'</li><li>'Tiling-MPRA'</li><li>'WHG-STARR'</li></ol>\n"
      ],
      "text/latex": [
       "\\begin{enumerate*}\n",
       "\\item 'ATAC-STARR'\n",
       "\\item 'CRISPRi-Growth'\n",
       "\\item 'CRISPRi-HCR FlowFISH'\n",
       "\\item 'E2G-Benchmark'\n",
       "\\item 'Lenti-MPRA'\n",
       "\\item 'Tiling-MPRA'\n",
       "\\item 'WHG-STARR'\n",
       "\\end{enumerate*}\n"
      ],
      "text/markdown": [
       "1. 'ATAC-STARR'\n",
       "2. 'CRISPRi-Growth'\n",
       "3. 'CRISPRi-HCR FlowFISH'\n",
       "4. 'E2G-Benchmark'\n",
       "5. 'Lenti-MPRA'\n",
       "6. 'Tiling-MPRA'\n",
       "7. 'WHG-STARR'\n",
       "\n",
       "\n"
      ],
      "text/plain": [
       "[1] \"ATAC-STARR\"           \"CRISPRi-Growth\"       \"CRISPRi-HCR FlowFISH\"\n",
       "[4] \"E2G-Benchmark\"        \"Lenti-MPRA\"           \"Tiling-MPRA\"         \n",
       "[7] \"WHG-STARR\"           "
      ]
     },
     "metadata": {},
     "output_type": "display_data"
    }
   ],
   "source": [
    "dat = dat_region_signif\n",
    "lst = split(dat$Region, dat$Assay_Label)\n",
    "\n",
    "lst_vec_txt_peak_signif = lst\n",
    "names(lst)"
   ]
  },
  {
   "cell_type": "code",
   "execution_count": 60,
   "id": "62330bef-b754-4477-a589-14d8fd1770b7",
   "metadata": {},
   "outputs": [
    {
     "data": {
      "text/html": [
       "<style>\n",
       ".list-inline {list-style: none; margin:0; padding: 0}\n",
       ".list-inline>li {display: inline-block}\n",
       ".list-inline>li:not(:last-child)::after {content: \"\\00b7\"; padding: 0 .5ex}\n",
       "</style>\n",
       "<ol class=list-inline><li>'ATAC'</li><li>'ATAC-STARR'</li><li>'CRISPRi-Growth'</li><li>'CRISPRi-HCR FlowFISH'</li><li>'E2G-Benchmark'</li><li>'Lenti-MPRA'</li><li>'Tiling-MPRA'</li><li>'WHG-STARR'</li></ol>\n"
      ],
      "text/latex": [
       "\\begin{enumerate*}\n",
       "\\item 'ATAC'\n",
       "\\item 'ATAC-STARR'\n",
       "\\item 'CRISPRi-Growth'\n",
       "\\item 'CRISPRi-HCR FlowFISH'\n",
       "\\item 'E2G-Benchmark'\n",
       "\\item 'Lenti-MPRA'\n",
       "\\item 'Tiling-MPRA'\n",
       "\\item 'WHG-STARR'\n",
       "\\end{enumerate*}\n"
      ],
      "text/markdown": [
       "1. 'ATAC'\n",
       "2. 'ATAC-STARR'\n",
       "3. 'CRISPRi-Growth'\n",
       "4. 'CRISPRi-HCR FlowFISH'\n",
       "5. 'E2G-Benchmark'\n",
       "6. 'Lenti-MPRA'\n",
       "7. 'Tiling-MPRA'\n",
       "8. 'WHG-STARR'\n",
       "\n",
       "\n"
      ],
      "text/plain": [
       "[1] \"ATAC\"                 \"ATAC-STARR\"           \"CRISPRi-Growth\"      \n",
       "[4] \"CRISPRi-HCR FlowFISH\" \"E2G-Benchmark\"        \"Lenti-MPRA\"          \n",
       "[7] \"Tiling-MPRA\"          \"WHG-STARR\"           "
      ]
     },
     "metadata": {},
     "output_type": "display_data"
    }
   ],
   "source": [
    "### init\n",
    "dat = dat_region_screen\n",
    "lst = split(dat$Region, dat$Assay_Label)\n",
    "\n",
    "lst_vec_txt_peak_screen = lst\n",
    "names(lst)"
   ]
  },
  {
   "cell_type": "markdown",
   "id": "caa4a213-68f2-421a-b9df-bf5ac1b0dbb9",
   "metadata": {},
   "source": [
    "### Summary: Coverage"
   ]
  },
  {
   "cell_type": "code",
   "execution_count": 69,
   "id": "19dc245b-a167-492c-8d8f-453d70fc296c",
   "metadata": {},
   "outputs": [
    {
     "name": "stdout",
     "output_type": "stream",
     "text": [
      "[1] 8 5\n"
     ]
    },
    {
     "data": {
      "text/html": [
       "<table class=\"dataframe\">\n",
       "<caption>A tibble: 8 × 5</caption>\n",
       "<thead>\n",
       "\t<tr><th scope=col>Assay</th><th scope=col>Count</th><th scope=col>Freq</th><th scope=col>Count_Label</th><th scope=col>Assay_Label</th></tr>\n",
       "\t<tr><th scope=col>&lt;chr&gt;</th><th scope=col>&lt;int&gt;</th><th scope=col>&lt;dbl&gt;</th><th scope=col>&lt;chr&gt;</th><th scope=col>&lt;chr&gt;</th></tr>\n",
       "</thead>\n",
       "<tbody>\n",
       "\t<tr><td>ATAC                </td><td>150042</td><td>1.000000000</td><td>150K</td><td>ATAC (150K)               </td></tr>\n",
       "\t<tr><td>ATAC-STARR          </td><td>150040</td><td>0.999986670</td><td>150K</td><td>ATAC-STARR (150K)         </td></tr>\n",
       "\t<tr><td>CRISPRi-Growth      </td><td> 72743</td><td>0.484817584</td><td>73K </td><td>CRISPRi-Growth (73K)      </td></tr>\n",
       "\t<tr><td>CRISPRi-HCR FlowFISH</td><td>   941</td><td>0.006271577</td><td>941 </td><td>CRISPRi-HCR FlowFISH (941)</td></tr>\n",
       "\t<tr><td>E2G-Benchmark       </td><td>  3035</td><td>0.020227670</td><td>3K  </td><td>E2G-Benchmark (3K)        </td></tr>\n",
       "\t<tr><td>Lenti-MPRA          </td><td> 61478</td><td>0.409738607</td><td>61K </td><td>Lenti-MPRA (61K)          </td></tr>\n",
       "\t<tr><td>Tiling-MPRA         </td><td>   823</td><td>0.005485131</td><td>823 </td><td>Tiling-MPRA (823)         </td></tr>\n",
       "\t<tr><td>WHG-STARR           </td><td>146480</td><td>0.976259981</td><td>146K</td><td>WHG-STARR (146K)          </td></tr>\n",
       "</tbody>\n",
       "</table>\n"
      ],
      "text/latex": [
       "A tibble: 8 × 5\n",
       "\\begin{tabular}{lllll}\n",
       " Assay & Count & Freq & Count\\_Label & Assay\\_Label\\\\\n",
       " <chr> & <int> & <dbl> & <chr> & <chr>\\\\\n",
       "\\hline\n",
       "\t ATAC                 & 150042 & 1.000000000 & 150K & ATAC (150K)               \\\\\n",
       "\t ATAC-STARR           & 150040 & 0.999986670 & 150K & ATAC-STARR (150K)         \\\\\n",
       "\t CRISPRi-Growth       &  72743 & 0.484817584 & 73K  & CRISPRi-Growth (73K)      \\\\\n",
       "\t CRISPRi-HCR FlowFISH &    941 & 0.006271577 & 941  & CRISPRi-HCR FlowFISH (941)\\\\\n",
       "\t E2G-Benchmark        &   3035 & 0.020227670 & 3K   & E2G-Benchmark (3K)        \\\\\n",
       "\t Lenti-MPRA           &  61478 & 0.409738607 & 61K  & Lenti-MPRA (61K)          \\\\\n",
       "\t Tiling-MPRA          &    823 & 0.005485131 & 823  & Tiling-MPRA (823)         \\\\\n",
       "\t WHG-STARR            & 146480 & 0.976259981 & 146K & WHG-STARR (146K)          \\\\\n",
       "\\end{tabular}\n"
      ],
      "text/markdown": [
       "\n",
       "A tibble: 8 × 5\n",
       "\n",
       "| Assay &lt;chr&gt; | Count &lt;int&gt; | Freq &lt;dbl&gt; | Count_Label &lt;chr&gt; | Assay_Label &lt;chr&gt; |\n",
       "|---|---|---|---|---|\n",
       "| ATAC                 | 150042 | 1.000000000 | 150K | ATAC (150K)                |\n",
       "| ATAC-STARR           | 150040 | 0.999986670 | 150K | ATAC-STARR (150K)          |\n",
       "| CRISPRi-Growth       |  72743 | 0.484817584 | 73K  | CRISPRi-Growth (73K)       |\n",
       "| CRISPRi-HCR FlowFISH |    941 | 0.006271577 | 941  | CRISPRi-HCR FlowFISH (941) |\n",
       "| E2G-Benchmark        |   3035 | 0.020227670 | 3K   | E2G-Benchmark (3K)         |\n",
       "| Lenti-MPRA           |  61478 | 0.409738607 | 61K  | Lenti-MPRA (61K)           |\n",
       "| Tiling-MPRA          |    823 | 0.005485131 | 823  | Tiling-MPRA (823)          |\n",
       "| WHG-STARR            | 146480 | 0.976259981 | 146K | WHG-STARR (146K)           |\n",
       "\n"
      ],
      "text/plain": [
       "  Assay                Count  Freq        Count_Label\n",
       "1 ATAC                 150042 1.000000000 150K       \n",
       "2 ATAC-STARR           150040 0.999986670 150K       \n",
       "3 CRISPRi-Growth        72743 0.484817584 73K        \n",
       "4 CRISPRi-HCR FlowFISH    941 0.006271577 941        \n",
       "5 E2G-Benchmark          3035 0.020227670 3K         \n",
       "6 Lenti-MPRA            61478 0.409738607 61K        \n",
       "7 Tiling-MPRA             823 0.005485131 823        \n",
       "8 WHG-STARR            146480 0.976259981 146K       \n",
       "  Assay_Label               \n",
       "1 ATAC (150K)               \n",
       "2 ATAC-STARR (150K)         \n",
       "3 CRISPRi-Growth (73K)      \n",
       "4 CRISPRi-HCR FlowFISH (941)\n",
       "5 E2G-Benchmark (3K)        \n",
       "6 Lenti-MPRA (61K)          \n",
       "7 Tiling-MPRA (823)         \n",
       "8 WHG-STARR (146K)          "
      ]
     },
     "metadata": {},
     "output_type": "display_data"
    }
   ],
   "source": [
    "### calculate the percentage of fcc atac peaks in total atac peaks\n",
    "lst = lst_vec_txt_peak_screen\n",
    "lst = lapply(lst, function(vec_txt_peak_screen){\n",
    "    ### overlap and summarize\n",
    "    vec = (vec_txt_peak_total %in% vec_txt_peak_screen)\n",
    "    num_count = sum(vec)\n",
    "    num_freq  = mean(vec)\n",
    "\n",
    "    ### arrange results\n",
    "    res = list(num_count, num_freq)\n",
    "    names(res) = c(\"Count\", \"Freq\")\n",
    "    return(res)\n",
    "})\n",
    "\n",
    "### combine results\n",
    "dat = bind_rows(lst, .id = \"Assay\")\n",
    "dat = dat %>%\n",
    "    dplyr::mutate(\n",
    "        Count_Label = ifelse(\n",
    "            Count > 1000, \n",
    "            paste0(round(Count / 1000), \"K\"),\n",
    "            Count\n",
    "        )\n",
    "    ) %>%\n",
    "    dplyr::mutate(\n",
    "        Assay_Label = paste0(Assay, \" \", \"(\", Count_Label, \")\")\n",
    "    )\n",
    "\n",
    "### assign and show\n",
    "dat_peak_atac_coverage = dat\n",
    "print(dim(dat))\n",
    "dat"
   ]
  },
  {
   "cell_type": "markdown",
   "id": "b97eaa04-af4e-40f1-8c09-13aebf464033",
   "metadata": {},
   "source": [
    "### Summary: Significant"
   ]
  },
  {
   "cell_type": "code",
   "execution_count": 73,
   "id": "01997286-f5b8-49d2-8d95-2f067da441e9",
   "metadata": {},
   "outputs": [
    {
     "name": "stdout",
     "output_type": "stream",
     "text": [
      "[1] 7 5\n"
     ]
    },
    {
     "data": {
      "text/html": [
       "<table class=\"dataframe\">\n",
       "<caption>A tibble: 7 × 5</caption>\n",
       "<thead>\n",
       "\t<tr><th scope=col>Assay</th><th scope=col>Count</th><th scope=col>Freq</th><th scope=col>Count_Label</th><th scope=col>Assay_Label</th></tr>\n",
       "\t<tr><th scope=col>&lt;chr&gt;</th><th scope=col>&lt;int&gt;</th><th scope=col>&lt;dbl&gt;</th><th scope=col>&lt;chr&gt;</th><th scope=col>&lt;chr&gt;</th></tr>\n",
       "</thead>\n",
       "<tbody>\n",
       "\t<tr><td>ATAC-STARR          </td><td>90765</td><td>0.60493868</td><td>91K</td><td>ATAC-STARR (91K)         </td></tr>\n",
       "\t<tr><td>CRISPRi-Growth      </td><td> 4347</td><td>0.05975833</td><td>4K </td><td>CRISPRi-Growth (4K)      </td></tr>\n",
       "\t<tr><td>CRISPRi-HCR FlowFISH</td><td>   56</td><td>0.05951116</td><td>56 </td><td>CRISPRi-HCR FlowFISH (56)</td></tr>\n",
       "\t<tr><td>E2G-Benchmark       </td><td>  360</td><td>0.11861614</td><td>360</td><td>E2G-Benchmark (360)      </td></tr>\n",
       "\t<tr><td>Lenti-MPRA          </td><td>20675</td><td>0.33629916</td><td>21K</td><td>Lenti-MPRA (21K)         </td></tr>\n",
       "\t<tr><td>Tiling-MPRA         </td><td>  577</td><td>0.70109356</td><td>577</td><td>Tiling-MPRA (577)        </td></tr>\n",
       "\t<tr><td>WHG-STARR           </td><td>29328</td><td>0.20021846</td><td>29K</td><td>WHG-STARR (29K)          </td></tr>\n",
       "</tbody>\n",
       "</table>\n"
      ],
      "text/latex": [
       "A tibble: 7 × 5\n",
       "\\begin{tabular}{lllll}\n",
       " Assay & Count & Freq & Count\\_Label & Assay\\_Label\\\\\n",
       " <chr> & <int> & <dbl> & <chr> & <chr>\\\\\n",
       "\\hline\n",
       "\t ATAC-STARR           & 90765 & 0.60493868 & 91K & ATAC-STARR (91K)         \\\\\n",
       "\t CRISPRi-Growth       &  4347 & 0.05975833 & 4K  & CRISPRi-Growth (4K)      \\\\\n",
       "\t CRISPRi-HCR FlowFISH &    56 & 0.05951116 & 56  & CRISPRi-HCR FlowFISH (56)\\\\\n",
       "\t E2G-Benchmark        &   360 & 0.11861614 & 360 & E2G-Benchmark (360)      \\\\\n",
       "\t Lenti-MPRA           & 20675 & 0.33629916 & 21K & Lenti-MPRA (21K)         \\\\\n",
       "\t Tiling-MPRA          &   577 & 0.70109356 & 577 & Tiling-MPRA (577)        \\\\\n",
       "\t WHG-STARR            & 29328 & 0.20021846 & 29K & WHG-STARR (29K)          \\\\\n",
       "\\end{tabular}\n"
      ],
      "text/markdown": [
       "\n",
       "A tibble: 7 × 5\n",
       "\n",
       "| Assay &lt;chr&gt; | Count &lt;int&gt; | Freq &lt;dbl&gt; | Count_Label &lt;chr&gt; | Assay_Label &lt;chr&gt; |\n",
       "|---|---|---|---|---|\n",
       "| ATAC-STARR           | 90765 | 0.60493868 | 91K | ATAC-STARR (91K)          |\n",
       "| CRISPRi-Growth       |  4347 | 0.05975833 | 4K  | CRISPRi-Growth (4K)       |\n",
       "| CRISPRi-HCR FlowFISH |    56 | 0.05951116 | 56  | CRISPRi-HCR FlowFISH (56) |\n",
       "| E2G-Benchmark        |   360 | 0.11861614 | 360 | E2G-Benchmark (360)       |\n",
       "| Lenti-MPRA           | 20675 | 0.33629916 | 21K | Lenti-MPRA (21K)          |\n",
       "| Tiling-MPRA          |   577 | 0.70109356 | 577 | Tiling-MPRA (577)         |\n",
       "| WHG-STARR            | 29328 | 0.20021846 | 29K | WHG-STARR (29K)           |\n",
       "\n"
      ],
      "text/plain": [
       "  Assay                Count Freq       Count_Label Assay_Label              \n",
       "1 ATAC-STARR           90765 0.60493868 91K         ATAC-STARR (91K)         \n",
       "2 CRISPRi-Growth        4347 0.05975833 4K          CRISPRi-Growth (4K)      \n",
       "3 CRISPRi-HCR FlowFISH    56 0.05951116 56          CRISPRi-HCR FlowFISH (56)\n",
       "4 E2G-Benchmark          360 0.11861614 360         E2G-Benchmark (360)      \n",
       "5 Lenti-MPRA           20675 0.33629916 21K         Lenti-MPRA (21K)         \n",
       "6 Tiling-MPRA            577 0.70109356 577         Tiling-MPRA (577)        \n",
       "7 WHG-STARR            29328 0.20021846 29K         WHG-STARR (29K)          "
      ]
     },
     "metadata": {},
     "output_type": "display_data"
    }
   ],
   "source": [
    "lst = lst_vec_txt_peak_signif\n",
    "vec_txt_assay = names(lst)\n",
    "\n",
    "lst = lapply(vec_txt_assay, function(txt_assay){\n",
    "\n",
    "    vec_txt_peak_screen = lst_vec_txt_peak_screen[[txt_assay]]\n",
    "    vec_txt_peak_signif = lst_vec_txt_peak_signif[[txt_assay]]\n",
    "    \n",
    "    ### overlap and summarize\n",
    "    vec = (vec_txt_peak_screen %in% vec_txt_peak_signif)\n",
    "    num_count = sum(vec)\n",
    "    num_freq  = mean(vec)\n",
    "\n",
    "    ### arrange results\n",
    "    res = list(txt_assay, num_count, num_freq)\n",
    "    names(res) = c(\"Assay\", \"Count\", \"Freq\")\n",
    "    return(res)\n",
    "})\n",
    "\n",
    "### combine results\n",
    "dat = bind_rows(lst)\n",
    "dat = dat %>%\n",
    "    dplyr::mutate(\n",
    "        Count_Label = ifelse(\n",
    "            Count > 1000, \n",
    "            paste0(round(Count / 1000), \"K\"),\n",
    "            Count\n",
    "        )\n",
    "    ) %>%\n",
    "    dplyr::mutate(\n",
    "        Assay_Label = paste0(Assay, \" \", \"(\", Count_Label, \")\")\n",
    "    )\n",
    "\n",
    "### assign and show\n",
    "dat_peak_atac_call_rate = dat\n",
    "print(dim(dat))\n",
    "dat"
   ]
  },
  {
   "cell_type": "markdown",
   "id": "0fdf1b07-4cd7-4475-a818-fa360f3394b1",
   "metadata": {},
   "source": [
    "## Plot ATAC coverage"
   ]
  },
  {
   "cell_type": "code",
   "execution_count": 76,
   "id": "4454508c-bcad-42da-999b-ff28c59b095f",
   "metadata": {},
   "outputs": [
    {
     "data": {
      "image/png": "[encoded data removed]",
      "text/plain": [
       "plot without title"
      ]
     },
     "metadata": {
      "image/png": {
       "height": 300,
       "width": 480
      }
     },
     "output_type": "display_data"
    }
   ],
   "source": [
    "dat = dat_peak_atac_coverage\n",
    "dat = dat %>% \n",
    "    dplyr::arrange(Freq) %>% \n",
    "    dplyr::mutate(Assay_Label = factor(Assay_Label, levels=Assay_Label))\n",
    "\n",
    "gpt = ggplot(dat, aes(x = Freq, y = Assay_Label)) +\n",
    "    geom_col() +\n",
    "    labs(x = \"Percentage\", y = \"\", title = \"ATAC screened in each assay\") +\n",
    "    theme_cowplot() +\n",
    "    background_grid(\n",
    "        major = \"x\",\n",
    "        minor = \"x\",\n",
    "        size.major = 1,\n",
    "        size.minor = 1,\n",
    "    )\n",
    "\n",
    "options(repr.plot.height=5, repr.plot.width=8)\n",
    "print(gpt)\n",
    "#ggsave(\"fig.fcc_assay.atac.coverage.png\", gpt, width = 6.5, height = 4.5)\n",
    "#ggsave(\"fig.fcc_assay.atac.coverage.pdf\", gpt, width = 6.5, height = 4.5)"
   ]
  },
  {
   "cell_type": "code",
   "execution_count": 77,
   "id": "47464c2d-ddc5-4deb-bb2c-ea6700ba254a",
   "metadata": {},
   "outputs": [
    {
     "data": {
      "image/png": "[encoded data removed]",
      "text/plain": [
       "plot without title"
      ]
     },
     "metadata": {
      "image/png": {
       "height": 300,
       "width": 480
      }
     },
     "output_type": "display_data"
    }
   ],
   "source": [
    "dat = dat_peak_atac_call_rate\n",
    "dat = dat %>% \n",
    "    dplyr::arrange(Freq) %>% \n",
    "    dplyr::mutate(Assay_Label = factor(Assay_Label, levels=Assay_Label))\n",
    "\n",
    "gpt = ggplot(dat, aes(x = Freq, y = Assay_Label)) +\n",
    "    geom_col() +\n",
    "    labs(x = \"Percentage\", y = \"\", title = \"ATAC called significant of each assay\") +\n",
    "    theme_cowplot() +\n",
    "    background_grid(\n",
    "        major = \"x\",\n",
    "        minor = \"x\",\n",
    "        size.major = 1,\n",
    "        size.minor = 1,\n",
    "    )\n",
    "\n",
    "options(repr.plot.height=5, repr.plot.width=8)\n",
    "print(gpt)\n",
    "#ggsave(\"fig.fcc_assay.atac.coverage.png\", gpt, width = 6.5, height = 4.5)\n",
    "#ggsave(\"fig.fcc_assay.atac.coverage.pdf\", gpt, width = 6.5, height = 4.5)"
   ]
  },
  {
   "cell_type": "code",
   "execution_count": null,
   "id": "383232a8-df21-40cb-9a96-4470270e9215",
   "metadata": {},
   "outputs": [],
   "source": []
  }
 ],
 "metadata": {
  "kernelspec": {
   "display_name": "R",
   "language": "R",
   "name": "ir"
  },
  "language_info": {
   "codemirror_mode": "r",
   "file_extension": ".r",
   "mimetype": "text/x-r-source",
   "name": "R",
   "pygments_lexer": "r",
   "version": "4.4.1"
  }
 },
 "nbformat": 4,
 "nbformat_minor": 5
}
