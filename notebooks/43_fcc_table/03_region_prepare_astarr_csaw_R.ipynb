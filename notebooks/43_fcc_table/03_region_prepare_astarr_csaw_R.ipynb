{
 "cells": [
  {
   "cell_type": "raw",
   "id": "359391d3-a9bf-4ffa-b5f2-5c36fa57f167",
   "metadata": {},
   "source": [
    "---\n",
    "title: Prepare CRISPRi Growth data 01\n",
    "subtitle: Prepare data\n",
    "format:\n",
    "    html:\n",
    "        code-fold:  true\n",
    "        code-tools: true\n",
    "---"
   ]
  },
  {
   "cell_type": "markdown",
   "id": "ea4f8371-e036-4e47-bbbe-d35520cc01b2",
   "metadata": {},
   "source": [
    "**Set environment**"
   ]
  },
  {
   "cell_type": "code",
   "execution_count": 1,
   "id": "102176a9-987b-4c36-affa-f64d0202adf0",
   "metadata": {
    "tags": []
   },
   "outputs": [
    {
     "name": "stdout",
     "output_type": "stream",
     "text": [
      "You are working on        Singularity \n",
      "BASE DIRECTORY (FD_BASE): /mount \n",
      "REPO DIRECTORY (FD_REPO): /mount/repo \n",
      "WORK DIRECTORY (FD_WORK): /mount/work \n",
      "DATA DIRECTORY (FD_DATA): /mount/data \n",
      "\n",
      "You are working with      ENCODE FCC \n",
      "PATH OF PROJECT (FD_PRJ): /mount/repo/Proj_ENCODE_FCC \n",
      "PROJECT RESULTS (FD_RES): /mount/repo/Proj_ENCODE_FCC/results \n",
      "PROJECT SCRIPTS (FD_EXE): /mount/repo/Proj_ENCODE_FCC/scripts \n",
      "PROJECT DATA    (FD_DAT): /mount/repo/Proj_ENCODE_FCC/data \n",
      "PROJECT NOTE    (FD_NBK): /mount/repo/Proj_ENCODE_FCC/notebooks \n",
      "PROJECT DOCS    (FD_DOC): /mount/repo/Proj_ENCODE_FCC/docs \n",
      "PROJECT LOG     (FD_LOG): /mount/repo/Proj_ENCODE_FCC/log \n",
      "PROJECT APP     (FD_APP): /mount/repo/Proj_ENCODE_FCC/app \n",
      "PROJECT REF     (FD_REF): /mount/repo/Proj_ENCODE_FCC/references \n",
      "\n"
     ]
    }
   ],
   "source": [
    "suppressMessages(suppressWarnings(source(\"../run_config_project_sing.R\")))\n",
    "show_env()"
   ]
  },
  {
   "cell_type": "markdown",
   "id": "ea6995ab-3d06-422e-a835-254dba89b6d8",
   "metadata": {},
   "source": [
    "**Set global variable**"
   ]
  },
  {
   "cell_type": "code",
   "execution_count": 2,
   "id": "0deade22-9f3d-4395-b230-9101f9ece132",
   "metadata": {},
   "outputs": [],
   "source": [
    "TXT_FOLDER_INP = \"fcc_astarr_csaw\"\n",
    "TXT_FOLDER_OUT = \"fcc_table\""
   ]
  },
  {
   "cell_type": "markdown",
   "id": "0dfc87e7-e615-4769-8ade-b1e09d378d11",
   "metadata": {},
   "source": [
    "## Import data"
   ]
  },
  {
   "cell_type": "code",
   "execution_count": 3,
   "id": "f76650c2-d596-43e8-9101-09fb8821573c",
   "metadata": {},
   "outputs": [
    {
     "data": {
      "text/html": [
       "<style>\n",
       ".list-inline {list-style: none; margin:0; padding: 0}\n",
       ".list-inline>li {display: inline-block}\n",
       ".list-inline>li:not(:last-child)::after {content: \"\\00b7\"; padding: 0 .5ex}\n",
       "</style>\n",
       "<ol class=list-inline><li>'K562.hg38.ASTARR.csaw.KS91.bed.gz'</li><li>'K562.hg38.ASTARR.csaw.KSMerge.bed.gz'</li><li>'summary'</li></ol>\n"
      ],
      "text/latex": [
       "\\begin{enumerate*}\n",
       "\\item 'K562.hg38.ASTARR.csaw.KS91.bed.gz'\n",
       "\\item 'K562.hg38.ASTARR.csaw.KSMerge.bed.gz'\n",
       "\\item 'summary'\n",
       "\\end{enumerate*}\n"
      ],
      "text/markdown": [
       "1. 'K562.hg38.ASTARR.csaw.KS91.bed.gz'\n",
       "2. 'K562.hg38.ASTARR.csaw.KSMerge.bed.gz'\n",
       "3. 'summary'\n",
       "\n",
       "\n"
      ],
      "text/plain": [
       "[1] \"K562.hg38.ASTARR.csaw.KS91.bed.gz\"   \n",
       "[2] \"K562.hg38.ASTARR.csaw.KSMerge.bed.gz\"\n",
       "[3] \"summary\"                             "
      ]
     },
     "metadata": {},
     "output_type": "display_data"
    }
   ],
   "source": [
    "### set directory\n",
    "txt_folder = TXT_FOLDER_INP\n",
    "txt_fdiry  = file.path(FD_RES, \"region\", txt_folder)\n",
    "dir(txt_fdiry)"
   ]
  },
  {
   "cell_type": "code",
   "execution_count": 8,
   "id": "2c3da6bb-a5f4-4d5d-89fa-1a8cc97ddde2",
   "metadata": {},
   "outputs": [
    {
     "data": {
      "text/html": [
       "<table>\n",
       " <thead>\n",
       "  <tr>\n",
       "   <th style=\"text-align:left;\"> Name </th>\n",
       "   <th style=\"text-align:left;\"> Note </th>\n",
       "  </tr>\n",
       " </thead>\n",
       "<tbody>\n",
       "  <tr>\n",
       "   <td style=\"text-align:left;\"> Chrom </td>\n",
       "   <td style=\"text-align:left;\"> Name of the chromosome </td>\n",
       "  </tr>\n",
       "  <tr>\n",
       "   <td style=\"text-align:left;\"> ChromStart </td>\n",
       "   <td style=\"text-align:left;\"> The starting position of the feature in the chromosome </td>\n",
       "  </tr>\n",
       "  <tr>\n",
       "   <td style=\"text-align:left;\"> ChromEnd </td>\n",
       "   <td style=\"text-align:left;\"> The ending position of the feature in the chromosome </td>\n",
       "  </tr>\n",
       "  <tr>\n",
       "   <td style=\"text-align:left;\"> Name </td>\n",
       "   <td style=\"text-align:left;\"> Name given to a region; Use '.' if no name is assigned. </td>\n",
       "  </tr>\n",
       "  <tr>\n",
       "   <td style=\"text-align:left;\"> Score </td>\n",
       "   <td style=\"text-align:left;\"> Score assigned to a region. </td>\n",
       "  </tr>\n",
       "  <tr>\n",
       "   <td style=\"text-align:left;\"> Strand </td>\n",
       "   <td style=\"text-align:left;\"> +/- to denote strand or orientation. Use '.' if no orientation is assigned. </td>\n",
       "  </tr>\n",
       "  <tr>\n",
       "   <td style=\"text-align:left;\"> Log2FC </td>\n",
       "   <td style=\"text-align:left;\"> Fold change (normalized output/input ratio, in log2 space) </td>\n",
       "  </tr>\n",
       "  <tr>\n",
       "   <td style=\"text-align:left;\"> Input_CPM </td>\n",
       "   <td style=\"text-align:left;\"> Input CPM, mean across replicates </td>\n",
       "  </tr>\n",
       "  <tr>\n",
       "   <td style=\"text-align:left;\"> Output_CPM </td>\n",
       "   <td style=\"text-align:left;\"> Output CPM, mean across replicates </td>\n",
       "  </tr>\n",
       "  <tr>\n",
       "   <td style=\"text-align:left;\"> MinusLog10PValue </td>\n",
       "   <td style=\"text-align:left;\"> -log10 of P-value </td>\n",
       "  </tr>\n",
       "  <tr>\n",
       "   <td style=\"text-align:left;\"> MinusLog10QValue </td>\n",
       "   <td style=\"text-align:left;\"> -log10 of Q-value (FDR) </td>\n",
       "  </tr>\n",
       "  <tr>\n",
       "   <td style=\"text-align:left;\"> Dataset </td>\n",
       "   <td style=\"text-align:left;\"> Dataset </td>\n",
       "  </tr>\n",
       "  <tr>\n",
       "   <td style=\"text-align:left;\"> Group </td>\n",
       "   <td style=\"text-align:left;\"> Assay name </td>\n",
       "  </tr>\n",
       "  <tr>\n",
       "   <td style=\"text-align:left;\"> Label </td>\n",
       "   <td style=\"text-align:left;\"> Region label </td>\n",
       "  </tr>\n",
       "</tbody>\n",
       "</table>"
      ]
     },
     "metadata": {},
     "output_type": "display_data"
    }
   ],
   "source": [
    "### set file path\n",
    "txt_folder = TXT_FOLDER_INP\n",
    "txt_fdiry  = file.path(FD_RES, \"region\", txt_folder, \"summary\")\n",
    "txt_fname  = \"description.tsv\"\n",
    "txt_fpath  = file.path(txt_fdiry, txt_fname)\n",
    "\n",
    "### read table\n",
    "dat = read_tsv(txt_fpath, show_col_types = FALSE)\n",
    "\n",
    "### assign and show\n",
    "dat_cnames = dat\n",
    "fun_display_table(dat)"
   ]
  },
  {
   "cell_type": "code",
   "execution_count": 9,
   "id": "b8d22a1f-b7ea-41b4-97d8-440cfd449737",
   "metadata": {},
   "outputs": [
    {
     "name": "stdout",
     "output_type": "stream",
     "text": [
      "[1] 352944     14\n"
     ]
    },
    {
     "data": {
      "text/html": [
       "<table>\n",
       " <thead>\n",
       "  <tr>\n",
       "   <th style=\"text-align:left;\"> Chrom </th>\n",
       "   <th style=\"text-align:right;\"> ChromStart </th>\n",
       "   <th style=\"text-align:right;\"> ChromEnd </th>\n",
       "   <th style=\"text-align:left;\"> Name </th>\n",
       "   <th style=\"text-align:right;\"> Score </th>\n",
       "   <th style=\"text-align:left;\"> Strand </th>\n",
       "   <th style=\"text-align:right;\"> Log2FC </th>\n",
       "   <th style=\"text-align:right;\"> Input_CPM </th>\n",
       "   <th style=\"text-align:right;\"> Output_CPM </th>\n",
       "   <th style=\"text-align:right;\"> MinusLog10PValue </th>\n",
       "   <th style=\"text-align:right;\"> MinusLog10QValue </th>\n",
       "   <th style=\"text-align:left;\"> Dataset </th>\n",
       "   <th style=\"text-align:left;\"> Group </th>\n",
       "   <th style=\"text-align:left;\"> Label </th>\n",
       "  </tr>\n",
       " </thead>\n",
       "<tbody>\n",
       "  <tr>\n",
       "   <td style=\"text-align:left;\"> chr1 </td>\n",
       "   <td style=\"text-align:right;\"> 9976 </td>\n",
       "   <td style=\"text-align:right;\"> 10475 </td>\n",
       "   <td style=\"text-align:left;\"> chr1:9976-10475 </td>\n",
       "   <td style=\"text-align:right;\"> 62 </td>\n",
       "   <td style=\"text-align:left;\"> . </td>\n",
       "   <td style=\"text-align:right;\"> -4.184 </td>\n",
       "   <td style=\"text-align:right;\"> 0.204 </td>\n",
       "   <td style=\"text-align:right;\"> 0.002 </td>\n",
       "   <td style=\"text-align:right;\"> 7.358 </td>\n",
       "   <td style=\"text-align:right;\"> 6.299 </td>\n",
       "   <td style=\"text-align:left;\"> KS91 </td>\n",
       "   <td style=\"text-align:left;\"> ASTARR </td>\n",
       "   <td style=\"text-align:left;\"> ASTARR_R:csaw:KS91 </td>\n",
       "  </tr>\n",
       "  <tr>\n",
       "   <td style=\"text-align:left;\"> chr1 </td>\n",
       "   <td style=\"text-align:right;\"> 14226 </td>\n",
       "   <td style=\"text-align:right;\"> 14675 </td>\n",
       "   <td style=\"text-align:left;\"> chr1:14226-14675 </td>\n",
       "   <td style=\"text-align:right;\"> 79 </td>\n",
       "   <td style=\"text-align:left;\"> . </td>\n",
       "   <td style=\"text-align:right;\"> -6.187 </td>\n",
       "   <td style=\"text-align:right;\"> 0.209 </td>\n",
       "   <td style=\"text-align:right;\"> 0.000 </td>\n",
       "   <td style=\"text-align:right;\"> 9.192 </td>\n",
       "   <td style=\"text-align:right;\"> 7.917 </td>\n",
       "   <td style=\"text-align:left;\"> KS91 </td>\n",
       "   <td style=\"text-align:left;\"> ASTARR </td>\n",
       "   <td style=\"text-align:left;\"> ASTARR_R:csaw:KS91 </td>\n",
       "  </tr>\n",
       "  <tr>\n",
       "   <td style=\"text-align:left;\"> chr1 </td>\n",
       "   <td style=\"text-align:right;\"> 15976 </td>\n",
       "   <td style=\"text-align:right;\"> 16525 </td>\n",
       "   <td style=\"text-align:left;\"> chr1:15976-16525 </td>\n",
       "   <td style=\"text-align:right;\"> 42 </td>\n",
       "   <td style=\"text-align:left;\"> . </td>\n",
       "   <td style=\"text-align:right;\"> -2.236 </td>\n",
       "   <td style=\"text-align:right;\"> 0.196 </td>\n",
       "   <td style=\"text-align:right;\"> 0.013 </td>\n",
       "   <td style=\"text-align:right;\"> 5.062 </td>\n",
       "   <td style=\"text-align:right;\"> 4.267 </td>\n",
       "   <td style=\"text-align:left;\"> KS91 </td>\n",
       "   <td style=\"text-align:left;\"> ASTARR </td>\n",
       "   <td style=\"text-align:left;\"> ASTARR_R:csaw:KS91 </td>\n",
       "  </tr>\n",
       "</tbody>\n",
       "</table>"
      ]
     },
     "metadata": {},
     "output_type": "display_data"
    }
   ],
   "source": [
    "### set file path\n",
    "txt_folder = TXT_FOLDER_INP\n",
    "txt_fdiry  = file.path(FD_RES, \"region\", txt_folder)\n",
    "txt_fname  = \"K562.hg38.ASTARR.csaw.KS91.bed.gz\"\n",
    "txt_fpath  = file.path(txt_fdiry, txt_fname)\n",
    "\n",
    "### read table\n",
    "vec = dat_cnames$Name\n",
    "dat = read_tsv(txt_fpath, col_names = vec, show_col_types = FALSE)\n",
    "\n",
    "### assign and show\n",
    "dat_region_import = dat\n",
    "print(dim(dat))\n",
    "fun_display_table(head(dat, 3))"
   ]
  },
  {
   "cell_type": "code",
   "execution_count": 10,
   "id": "14521dd2-67b1-4e03-8754-b037c3dd2b22",
   "metadata": {},
   "outputs": [
    {
     "data": {
      "text/plain": [
       "   Min. 1st Qu.  Median    Mean 3rd Qu.    Max. \n",
       "   0.00    4.00   13.00   22.01   29.00  162.00 "
      ]
     },
     "metadata": {},
     "output_type": "display_data"
    }
   ],
   "source": [
    "dat = dat_region_import\n",
    "summary(dat$Score)"
   ]
  },
  {
   "cell_type": "markdown",
   "id": "e05cee25-c16a-4a9c-bbeb-f9083f957d91",
   "metadata": {},
   "source": [
    "## Arrange table"
   ]
  },
  {
   "cell_type": "code",
   "execution_count": 14,
   "id": "9986d4ab-ee30-482d-aab6-2baa9d9c472f",
   "metadata": {},
   "outputs": [
    {
     "name": "stdout",
     "output_type": "stream",
     "text": [
      "[1] 352944     12\n"
     ]
    },
    {
     "data": {
      "text/html": [
       "<table>\n",
       " <thead>\n",
       "  <tr>\n",
       "   <th style=\"text-align:left;\"> Chrom </th>\n",
       "   <th style=\"text-align:right;\"> ChromStart </th>\n",
       "   <th style=\"text-align:right;\"> ChromEnd </th>\n",
       "   <th style=\"text-align:left;\"> Group </th>\n",
       "   <th style=\"text-align:left;\"> Label </th>\n",
       "   <th style=\"text-align:left;\"> Assay </th>\n",
       "   <th style=\"text-align:left;\"> Region </th>\n",
       "   <th style=\"text-align:left;\"> Target </th>\n",
       "   <th style=\"text-align:right;\"> Score </th>\n",
       "   <th style=\"text-align:right;\"> NLog10P </th>\n",
       "   <th style=\"text-align:left;\"> Method </th>\n",
       "   <th style=\"text-align:left;\"> Source </th>\n",
       "  </tr>\n",
       " </thead>\n",
       "<tbody>\n",
       "  <tr>\n",
       "   <td style=\"text-align:left;\"> chr1 </td>\n",
       "   <td style=\"text-align:right;\"> 9976 </td>\n",
       "   <td style=\"text-align:right;\"> 10475 </td>\n",
       "   <td style=\"text-align:left;\"> ASTARR </td>\n",
       "   <td style=\"text-align:left;\"> ASTARR_R:csaw:KS91 </td>\n",
       "   <td style=\"text-align:left;\"> ATAC-STARR </td>\n",
       "   <td style=\"text-align:left;\"> chr1:9976-10475 </td>\n",
       "   <td style=\"text-align:left;\"> NA </td>\n",
       "   <td style=\"text-align:right;\"> -4.184 </td>\n",
       "   <td style=\"text-align:right;\"> 7.358 </td>\n",
       "   <td style=\"text-align:left;\"> CSAW </td>\n",
       "   <td style=\"text-align:left;\"> Reddy Lab </td>\n",
       "  </tr>\n",
       "  <tr>\n",
       "   <td style=\"text-align:left;\"> chr1 </td>\n",
       "   <td style=\"text-align:right;\"> 14226 </td>\n",
       "   <td style=\"text-align:right;\"> 14675 </td>\n",
       "   <td style=\"text-align:left;\"> ASTARR </td>\n",
       "   <td style=\"text-align:left;\"> ASTARR_R:csaw:KS91 </td>\n",
       "   <td style=\"text-align:left;\"> ATAC-STARR </td>\n",
       "   <td style=\"text-align:left;\"> chr1:14226-14675 </td>\n",
       "   <td style=\"text-align:left;\"> NA </td>\n",
       "   <td style=\"text-align:right;\"> -6.187 </td>\n",
       "   <td style=\"text-align:right;\"> 9.192 </td>\n",
       "   <td style=\"text-align:left;\"> CSAW </td>\n",
       "   <td style=\"text-align:left;\"> Reddy Lab </td>\n",
       "  </tr>\n",
       "  <tr>\n",
       "   <td style=\"text-align:left;\"> chr1 </td>\n",
       "   <td style=\"text-align:right;\"> 15976 </td>\n",
       "   <td style=\"text-align:right;\"> 16525 </td>\n",
       "   <td style=\"text-align:left;\"> ASTARR </td>\n",
       "   <td style=\"text-align:left;\"> ASTARR_R:csaw:KS91 </td>\n",
       "   <td style=\"text-align:left;\"> ATAC-STARR </td>\n",
       "   <td style=\"text-align:left;\"> chr1:15976-16525 </td>\n",
       "   <td style=\"text-align:left;\"> NA </td>\n",
       "   <td style=\"text-align:right;\"> -2.236 </td>\n",
       "   <td style=\"text-align:right;\"> 5.062 </td>\n",
       "   <td style=\"text-align:left;\"> CSAW </td>\n",
       "   <td style=\"text-align:left;\"> Reddy Lab </td>\n",
       "  </tr>\n",
       "</tbody>\n",
       "</table>"
      ]
     },
     "metadata": {},
     "output_type": "display_data"
    }
   ],
   "source": [
    "### get table\n",
    "dat = dat_region_import\n",
    "vec = c(\n",
    "    \"Chrom\", \"ChromStart\", \"ChromEnd\", \"Group\", \"Label\",\n",
    "    \"Assay\", \"Region\", \"Target\", \"Score\", \"NLog10P\",\n",
    "    \"Method\", \"Source\"\n",
    ")\n",
    "\n",
    "dat = dat %>% \n",
    "    dplyr::mutate(\n",
    "        Assay   = \"ATAC-STARR\",\n",
    "        Region  = fun_gen_region(Chrom, ChromStart, ChromEnd),\n",
    "        Target  = NA,\n",
    "        Score   = Log2FC,\n",
    "        NLog10P = MinusLog10PValue,\n",
    "        Method  = \"CSAW\",\n",
    "        Source  = \"Reddy Lab\"\n",
    "    ) %>%\n",
    "    dplyr::select(!!!vec)\n",
    "\n",
    "dat_region_arrange = dat\n",
    "print(dim(dat))\n",
    "fun_display_table(head(dat, 3))"
   ]
  },
  {
   "cell_type": "markdown",
   "id": "ca5d9caa-36b0-455f-bf3f-9e42978119fa",
   "metadata": {},
   "source": [
    "## Export results"
   ]
  },
  {
   "cell_type": "code",
   "execution_count": 18,
   "id": "c03e9868-1af7-4950-b8fd-c500f2df602e",
   "metadata": {},
   "outputs": [],
   "source": [
    "### set file path\n",
    "txt_folder = TXT_FOLDER_OUT\n",
    "txt_fdiry  = file.path(FD_RES, \"region\", txt_folder)\n",
    "txt_fname  = \"K562.hg38.fcc_astarr_csaw.bed.gz\"\n",
    "txt_fpath  = file.path(txt_fdiry, txt_fname)\n",
    "\n",
    "### set table\n",
    "dat = dat_region_arrange\n",
    "dat = dat %>% dplyr::arrange(Chrom, ChromStart, ChromEnd)\n",
    "\n",
    "### write table\n",
    "write_tsv(dat, txt_fpath, col_names = FALSE)"
   ]
  },
  {
   "cell_type": "code",
   "execution_count": null,
   "id": "3dca9753-8927-4e5f-a23a-ac110c19db0e",
   "metadata": {},
   "outputs": [],
   "source": []
  }
 ],
 "metadata": {
  "kernelspec": {
   "display_name": "R",
   "language": "R",
   "name": "ir"
  },
  "language_info": {
   "codemirror_mode": "r",
   "file_extension": ".r",
   "mimetype": "text/x-r-source",
   "name": "R",
   "pygments_lexer": "r",
   "version": "4.4.1"
  }
 },
 "nbformat": 4,
 "nbformat_minor": 5
}
