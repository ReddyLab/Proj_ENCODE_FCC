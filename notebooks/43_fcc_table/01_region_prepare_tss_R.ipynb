{
 "cells": [
  {
   "cell_type": "raw",
   "id": "45922d9f-0afb-45c9-a897-6fcf1efbd2f5",
   "metadata": {},
   "source": [
    "---\n",
    "title: Prepare TSS annotation 01\n",
    "subtitle: Prepare data\n",
    "format:\n",
    "    html:\n",
    "        code-fold:  true\n",
    "        code-tools: true\n",
    "---"
   ]
  },
  {
   "cell_type": "markdown",
   "id": "1ef12d25-5f2e-4443-ae02-7592c20da160",
   "metadata": {},
   "source": [
    "**Set environment**"
   ]
  },
  {
   "cell_type": "code",
   "execution_count": 1,
   "id": "a760a031-3d92-405a-9098-a593bdca0e2f",
   "metadata": {
    "tags": []
   },
   "outputs": [
    {
     "name": "stdout",
     "output_type": "stream",
     "text": [
      "You are working on        Singularity \n",
      "BASE DIRECTORY (FD_BASE): /mount \n",
      "REPO DIRECTORY (FD_REPO): /mount/repo \n",
      "WORK DIRECTORY (FD_WORK): /mount/work \n",
      "DATA DIRECTORY (FD_DATA): /mount/data \n",
      "\n",
      "You are working with      ENCODE FCC \n",
      "PATH OF PROJECT (FD_PRJ): /mount/repo/Proj_ENCODE_FCC \n",
      "PROJECT RESULTS (FD_RES): /mount/repo/Proj_ENCODE_FCC/results \n",
      "PROJECT SCRIPTS (FD_EXE): /mount/repo/Proj_ENCODE_FCC/scripts \n",
      "PROJECT DATA    (FD_DAT): /mount/repo/Proj_ENCODE_FCC/data \n",
      "PROJECT NOTE    (FD_NBK): /mount/repo/Proj_ENCODE_FCC/notebooks \n",
      "PROJECT DOCS    (FD_DOC): /mount/repo/Proj_ENCODE_FCC/docs \n",
      "PROJECT LOG     (FD_LOG): /mount/repo/Proj_ENCODE_FCC/log \n",
      "PROJECT APP     (FD_APP): /mount/repo/Proj_ENCODE_FCC/app \n",
      "PROJECT REF     (FD_REF): /mount/repo/Proj_ENCODE_FCC/references \n",
      "\n"
     ]
    }
   ],
   "source": [
    "suppressMessages(suppressWarnings(source(\"../run_config_project_sing.R\")))\n",
    "show_env()"
   ]
  },
  {
   "cell_type": "markdown",
   "id": "6fadfc66-fb5d-4a80-949d-9feda70a8cce",
   "metadata": {},
   "source": [
    "**Set global variable**"
   ]
  },
  {
   "cell_type": "code",
   "execution_count": 2,
   "id": "c8f533ed-4694-4143-b812-3d9dd6bd7799",
   "metadata": {},
   "outputs": [],
   "source": [
    "TXT_FOLDER_INP = \"genome_tss\"\n",
    "TXT_FOLDER_OUT = \"fcc_table\""
   ]
  },
  {
   "cell_type": "markdown",
   "id": "629d49ef-51fd-4c46-bf58-bb53c99758e7",
   "metadata": {},
   "source": [
    "## Import data"
   ]
  },
  {
   "cell_type": "code",
   "execution_count": 3,
   "id": "4172d914-250d-47d0-b472-8d7a3cf22be2",
   "metadata": {},
   "outputs": [
    {
     "data": {
      "text/html": [
       "<table>\n",
       " <thead>\n",
       "  <tr>\n",
       "   <th style=\"text-align:left;\"> Name </th>\n",
       "   <th style=\"text-align:left;\"> Note </th>\n",
       "  </tr>\n",
       " </thead>\n",
       "<tbody>\n",
       "  <tr>\n",
       "   <td style=\"text-align:left;\"> Chrom </td>\n",
       "   <td style=\"text-align:left;\"> Name of the chromosome </td>\n",
       "  </tr>\n",
       "  <tr>\n",
       "   <td style=\"text-align:left;\"> ChromStart </td>\n",
       "   <td style=\"text-align:left;\"> The starting position of the feature in the chromosome </td>\n",
       "  </tr>\n",
       "  <tr>\n",
       "   <td style=\"text-align:left;\"> ChromEnd </td>\n",
       "   <td style=\"text-align:left;\"> The ending position of the feature in the chromosome </td>\n",
       "  </tr>\n",
       "  <tr>\n",
       "   <td style=\"text-align:left;\"> Name </td>\n",
       "   <td style=\"text-align:left;\"> Gene name </td>\n",
       "  </tr>\n",
       "  <tr>\n",
       "   <td style=\"text-align:left;\"> Score </td>\n",
       "   <td style=\"text-align:left;\"> highest level of pol2 chip seq (ENCFF914WIS.bigWig) at [TSS-500, TSS+500] among TSS isoform </td>\n",
       "  </tr>\n",
       "  <tr>\n",
       "   <td style=\"text-align:left;\"> Group </td>\n",
       "   <td style=\"text-align:left;\"> Type of Annotation </td>\n",
       "  </tr>\n",
       "  <tr>\n",
       "   <td style=\"text-align:left;\"> Label </td>\n",
       "   <td style=\"text-align:left;\"> Label of Annotation </td>\n",
       "  </tr>\n",
       "</tbody>\n",
       "</table>"
      ]
     },
     "metadata": {},
     "output_type": "display_data"
    }
   ],
   "source": [
    "### set file path\n",
    "txt_folder = TXT_FOLDER_INP\n",
    "txt_fdiry  = file.path(FD_RES, \"region\", txt_folder, \"summary\")\n",
    "txt_fname  = \"description.tsv\"\n",
    "txt_fpath  = file.path(txt_fdiry, txt_fname)\n",
    "\n",
    "### read table\n",
    "dat = read_tsv(txt_fpath, show_col_types = FALSE)\n",
    "\n",
    "### assign and show\n",
    "dat_cnames = dat\n",
    "fun_display_table(dat)"
   ]
  },
  {
   "cell_type": "code",
   "execution_count": 4,
   "id": "2527a831-f294-40fd-9baf-edf1e6060e55",
   "metadata": {},
   "outputs": [
    {
     "name": "stdout",
     "output_type": "stream",
     "text": [
      "[1] 11892     7\n"
     ]
    },
    {
     "data": {
      "text/html": [
       "<table>\n",
       " <thead>\n",
       "  <tr>\n",
       "   <th style=\"text-align:left;\"> Chrom </th>\n",
       "   <th style=\"text-align:right;\"> ChromStart </th>\n",
       "   <th style=\"text-align:right;\"> ChromEnd </th>\n",
       "   <th style=\"text-align:left;\"> Name </th>\n",
       "   <th style=\"text-align:right;\"> Score </th>\n",
       "   <th style=\"text-align:left;\"> Group </th>\n",
       "   <th style=\"text-align:left;\"> Label </th>\n",
       "  </tr>\n",
       " </thead>\n",
       "<tbody>\n",
       "  <tr>\n",
       "   <td style=\"text-align:left;\"> chr1 </td>\n",
       "   <td style=\"text-align:right;\"> 29370 </td>\n",
       "   <td style=\"text-align:right;\"> 29371 </td>\n",
       "   <td style=\"text-align:left;\"> WASH7P </td>\n",
       "   <td style=\"text-align:right;\"> 0.00023 </td>\n",
       "   <td style=\"text-align:left;\"> TSS </td>\n",
       "   <td style=\"text-align:left;\"> TSS_Pol2_RNAseq </td>\n",
       "  </tr>\n",
       "  <tr>\n",
       "   <td style=\"text-align:left;\"> chr1 </td>\n",
       "   <td style=\"text-align:right;\"> 827522 </td>\n",
       "   <td style=\"text-align:right;\"> 827523 </td>\n",
       "   <td style=\"text-align:left;\"> LINC00115 </td>\n",
       "   <td style=\"text-align:right;\"> 64.46560 </td>\n",
       "   <td style=\"text-align:left;\"> TSS </td>\n",
       "   <td style=\"text-align:left;\"> TSS_Pol2_RNAseq </td>\n",
       "  </tr>\n",
       "  <tr>\n",
       "   <td style=\"text-align:left;\"> chr1 </td>\n",
       "   <td style=\"text-align:right;\"> 827590 </td>\n",
       "   <td style=\"text-align:right;\"> 827591 </td>\n",
       "   <td style=\"text-align:left;\"> LINC01128 </td>\n",
       "   <td style=\"text-align:right;\"> 64.46030 </td>\n",
       "   <td style=\"text-align:left;\"> TSS </td>\n",
       "   <td style=\"text-align:left;\"> TSS_Pol2_RNAseq </td>\n",
       "  </tr>\n",
       "</tbody>\n",
       "</table>"
      ]
     },
     "metadata": {},
     "output_type": "display_data"
    }
   ],
   "source": [
    "### set file path\n",
    "txt_folder = TXT_FOLDER_INP\n",
    "txt_fdiry  = file.path(FD_RES, \"region\", txt_folder)\n",
    "txt_fname  = \"K562.hg38.TSS.selected_by_highest_Pol2_signal.filtered_by_RNAseq_TPM.bed.gz\"\n",
    "txt_fpath  = file.path(txt_fdiry, txt_fname)\n",
    "\n",
    "### read table\n",
    "vec = dat_cnames$Name\n",
    "dat = read_tsv(txt_fpath, col_names = vec, show_col_types = FALSE)\n",
    "\n",
    "### assign and show\n",
    "dat_region_import = dat\n",
    "print(dim(dat))\n",
    "fun_display_table(head(dat, 3))"
   ]
  },
  {
   "cell_type": "markdown",
   "id": "63388681-46de-45a3-9ed3-a4a35378afee",
   "metadata": {},
   "source": [
    "## Arrange table"
   ]
  },
  {
   "cell_type": "code",
   "execution_count": 5,
   "id": "aedd5a7f-268d-418d-bca9-2d97d683ce47",
   "metadata": {},
   "outputs": [
    {
     "name": "stdout",
     "output_type": "stream",
     "text": [
      "[1] 11892    12\n"
     ]
    },
    {
     "data": {
      "text/html": [
       "<table>\n",
       " <thead>\n",
       "  <tr>\n",
       "   <th style=\"text-align:left;\"> Chrom </th>\n",
       "   <th style=\"text-align:right;\"> ChromStart </th>\n",
       "   <th style=\"text-align:right;\"> ChromEnd </th>\n",
       "   <th style=\"text-align:left;\"> Group </th>\n",
       "   <th style=\"text-align:left;\"> Label </th>\n",
       "   <th style=\"text-align:left;\"> Assay </th>\n",
       "   <th style=\"text-align:left;\"> Region </th>\n",
       "   <th style=\"text-align:left;\"> Target </th>\n",
       "   <th style=\"text-align:right;\"> Score </th>\n",
       "   <th style=\"text-align:left;\"> NLog10P </th>\n",
       "   <th style=\"text-align:left;\"> Method </th>\n",
       "   <th style=\"text-align:left;\"> Source </th>\n",
       "  </tr>\n",
       " </thead>\n",
       "<tbody>\n",
       "  <tr>\n",
       "   <td style=\"text-align:left;\"> chr1 </td>\n",
       "   <td style=\"text-align:right;\"> 29370 </td>\n",
       "   <td style=\"text-align:right;\"> 29371 </td>\n",
       "   <td style=\"text-align:left;\"> TSS </td>\n",
       "   <td style=\"text-align:left;\"> TSS:WASH7P </td>\n",
       "   <td style=\"text-align:left;\"> TSS </td>\n",
       "   <td style=\"text-align:left;\"> chr1:29370-29371 </td>\n",
       "   <td style=\"text-align:left;\"> WASH7P </td>\n",
       "   <td style=\"text-align:right;\"> 0.00023 </td>\n",
       "   <td style=\"text-align:left;\"> NA </td>\n",
       "   <td style=\"text-align:left;\"> POLR2:ENCFF914WIS;RNAseq:ENCFF421TJX </td>\n",
       "   <td style=\"text-align:left;\"> RefGene </td>\n",
       "  </tr>\n",
       "  <tr>\n",
       "   <td style=\"text-align:left;\"> chr1 </td>\n",
       "   <td style=\"text-align:right;\"> 827522 </td>\n",
       "   <td style=\"text-align:right;\"> 827523 </td>\n",
       "   <td style=\"text-align:left;\"> TSS </td>\n",
       "   <td style=\"text-align:left;\"> TSS:LINC00115 </td>\n",
       "   <td style=\"text-align:left;\"> TSS </td>\n",
       "   <td style=\"text-align:left;\"> chr1:827522-827523 </td>\n",
       "   <td style=\"text-align:left;\"> LINC00115 </td>\n",
       "   <td style=\"text-align:right;\"> 64.46560 </td>\n",
       "   <td style=\"text-align:left;\"> NA </td>\n",
       "   <td style=\"text-align:left;\"> POLR2:ENCFF914WIS;RNAseq:ENCFF421TJX </td>\n",
       "   <td style=\"text-align:left;\"> RefGene </td>\n",
       "  </tr>\n",
       "  <tr>\n",
       "   <td style=\"text-align:left;\"> chr1 </td>\n",
       "   <td style=\"text-align:right;\"> 827590 </td>\n",
       "   <td style=\"text-align:right;\"> 827591 </td>\n",
       "   <td style=\"text-align:left;\"> TSS </td>\n",
       "   <td style=\"text-align:left;\"> TSS:LINC01128 </td>\n",
       "   <td style=\"text-align:left;\"> TSS </td>\n",
       "   <td style=\"text-align:left;\"> chr1:827590-827591 </td>\n",
       "   <td style=\"text-align:left;\"> LINC01128 </td>\n",
       "   <td style=\"text-align:right;\"> 64.46030 </td>\n",
       "   <td style=\"text-align:left;\"> NA </td>\n",
       "   <td style=\"text-align:left;\"> POLR2:ENCFF914WIS;RNAseq:ENCFF421TJX </td>\n",
       "   <td style=\"text-align:left;\"> RefGene </td>\n",
       "  </tr>\n",
       "</tbody>\n",
       "</table>"
      ]
     },
     "metadata": {},
     "output_type": "display_data"
    }
   ],
   "source": [
    "### get table\n",
    "dat = dat_region_import\n",
    "vec = c(\n",
    "    \"Chrom\", \"ChromStart\", \"ChromEnd\", \"Group\", \"Label\",\n",
    "    \"Assay\", \"Region\", \"Target\", \"Score\", \"NLog10P\",\n",
    "    \"Method\", \"Source\"\n",
    ")\n",
    "\n",
    "dat = dat %>% \n",
    "    dplyr::mutate(\n",
    "        Group   = \"TSS\",\n",
    "        Label   = paste(Group, Name, sep = \":\"),\n",
    "        Assay   = \"TSS\",\n",
    "        Region  = fun_gen_region(Chrom, ChromStart, ChromEnd),\n",
    "        Target  = Name,\n",
    "        NLog10P = NA,\n",
    "        Method  = \"POLR2:ENCFF914WIS;RNAseq:ENCFF421TJX\",\n",
    "        Source  = \"RefGene\"\n",
    "    ) %>%\n",
    "    dplyr::select(!!!vec)\n",
    "\n",
    "dat_region_arrange = dat\n",
    "print(dim(dat))\n",
    "fun_display_table(head(dat, 3))"
   ]
  },
  {
   "cell_type": "markdown",
   "id": "95d7a278-b606-496f-b535-cffbcac0cadc",
   "metadata": {},
   "source": [
    "## Export results"
   ]
  },
  {
   "cell_type": "code",
   "execution_count": 7,
   "id": "59843008-d440-42ee-a9db-fcffcd417cad",
   "metadata": {},
   "outputs": [],
   "source": [
    "### set file path\n",
    "txt_folder = TXT_FOLDER_OUT\n",
    "txt_fdiry  = file.path(FD_RES, \"region\", txt_folder)\n",
    "txt_fname  = \"K562.hg38.tss.bed.gz\"\n",
    "txt_fpath  = file.path(txt_fdiry, txt_fname)\n",
    "\n",
    "### set table\n",
    "dat = dat_region_arrange\n",
    "dat = dat %>% dplyr::arrange(Chrom, ChromStart, ChromEnd)\n",
    "\n",
    "### write table\n",
    "write_tsv(dat, txt_fpath, col_names = FALSE)"
   ]
  },
  {
   "cell_type": "code",
   "execution_count": null,
   "id": "b579ac3e-24e4-4f62-bdb9-65c44442f7ba",
   "metadata": {},
   "outputs": [],
   "source": []
  },
  {
   "cell_type": "code",
   "execution_count": null,
   "id": "a46045f7-ef3b-4021-bf86-be1b29c04f0a",
   "metadata": {},
   "outputs": [],
   "source": []
  },
  {
   "cell_type": "code",
   "execution_count": null,
   "id": "161c2264-7357-4dc9-88df-46ff00a03f39",
   "metadata": {},
   "outputs": [],
   "source": []
  },
  {
   "cell_type": "code",
   "execution_count": 17,
   "id": "a4fe9d67-1e3c-43ce-9038-282350179513",
   "metadata": {},
   "outputs": [],
   "source": [
    "fun = function(Region, Gene, Score, Method){\n",
    "    lst = list(\n",
    "        \"Label\"  = \"TSS\",\n",
    "        \"Region\" = Region,\n",
    "        \"Gene\"   = Gene,\n",
    "        \"Score\"  = Score,\n",
    "        \"Method\" = Method\n",
    "    )\n",
    "    txt = jsonlite::toJSON(lst, auto_unbox=TRUE)\n",
    "    txt = as.character(txt)\n",
    "    return(txt)\n",
    "}"
   ]
  },
  {
   "cell_type": "code",
   "execution_count": 24,
   "id": "ba8f598d-710a-4e30-946f-30ae141c993d",
   "metadata": {},
   "outputs": [
    {
     "name": "stdout",
     "output_type": "stream",
     "text": [
      "[1] 11892    10\n"
     ]
    },
    {
     "data": {
      "text/html": [
       "<table>\n",
       " <thead>\n",
       "  <tr>\n",
       "   <th style=\"text-align:left;\"> Chrom </th>\n",
       "   <th style=\"text-align:right;\"> ChromStart </th>\n",
       "   <th style=\"text-align:right;\"> ChromEnd </th>\n",
       "   <th style=\"text-align:left;\"> Name </th>\n",
       "   <th style=\"text-align:right;\"> Score </th>\n",
       "   <th style=\"text-align:left;\"> Group </th>\n",
       "   <th style=\"text-align:left;\"> Label </th>\n",
       "   <th style=\"text-align:left;\"> Region </th>\n",
       "   <th style=\"text-align:left;\"> Method </th>\n",
       "   <th style=\"text-align:left;\"> Note </th>\n",
       "  </tr>\n",
       " </thead>\n",
       "<tbody>\n",
       "  <tr>\n",
       "   <td style=\"text-align:left;\"> chr1 </td>\n",
       "   <td style=\"text-align:right;\"> 29370 </td>\n",
       "   <td style=\"text-align:right;\"> 29371 </td>\n",
       "   <td style=\"text-align:left;\"> WASH7P </td>\n",
       "   <td style=\"text-align:right;\"> 0.00023 </td>\n",
       "   <td style=\"text-align:left;\"> TSS </td>\n",
       "   <td style=\"text-align:left;\"> TSS:WASH7P </td>\n",
       "   <td style=\"text-align:left;\"> chr1:29370-29371 </td>\n",
       "   <td style=\"text-align:left;\"> Pol2A,RNAseq </td>\n",
       "   <td style=\"text-align:left;\"> {&quot;Label&quot;:&quot;TSS&quot;,&quot;Region&quot;:&quot;chr1:29370-29371&quot;,&quot;Gene&quot;:&quot;WASH7P&quot;,&quot;Score&quot;:0.0002,&quot;Method&quot;:&quot;Pol2A,RNAseq&quot;} </td>\n",
       "  </tr>\n",
       "  <tr>\n",
       "   <td style=\"text-align:left;\"> chr1 </td>\n",
       "   <td style=\"text-align:right;\"> 827522 </td>\n",
       "   <td style=\"text-align:right;\"> 827523 </td>\n",
       "   <td style=\"text-align:left;\"> LINC00115 </td>\n",
       "   <td style=\"text-align:right;\"> 64.46560 </td>\n",
       "   <td style=\"text-align:left;\"> TSS </td>\n",
       "   <td style=\"text-align:left;\"> TSS:LINC00115 </td>\n",
       "   <td style=\"text-align:left;\"> chr1:827522-827523 </td>\n",
       "   <td style=\"text-align:left;\"> Pol2A,RNAseq </td>\n",
       "   <td style=\"text-align:left;\"> {&quot;Label&quot;:&quot;TSS&quot;,&quot;Region&quot;:&quot;chr1:827522-827523&quot;,&quot;Gene&quot;:&quot;LINC00115&quot;,&quot;Score&quot;:64.4656,&quot;Method&quot;:&quot;Pol2A,RNAseq&quot;} </td>\n",
       "  </tr>\n",
       "  <tr>\n",
       "   <td style=\"text-align:left;\"> chr1 </td>\n",
       "   <td style=\"text-align:right;\"> 827590 </td>\n",
       "   <td style=\"text-align:right;\"> 827591 </td>\n",
       "   <td style=\"text-align:left;\"> LINC01128 </td>\n",
       "   <td style=\"text-align:right;\"> 64.46030 </td>\n",
       "   <td style=\"text-align:left;\"> TSS </td>\n",
       "   <td style=\"text-align:left;\"> TSS:LINC01128 </td>\n",
       "   <td style=\"text-align:left;\"> chr1:827590-827591 </td>\n",
       "   <td style=\"text-align:left;\"> Pol2A,RNAseq </td>\n",
       "   <td style=\"text-align:left;\"> {&quot;Label&quot;:&quot;TSS&quot;,&quot;Region&quot;:&quot;chr1:827590-827591&quot;,&quot;Gene&quot;:&quot;LINC01128&quot;,&quot;Score&quot;:64.4603,&quot;Method&quot;:&quot;Pol2A,RNAseq&quot;} </td>\n",
       "  </tr>\n",
       "</tbody>\n",
       "</table>"
      ]
     },
     "metadata": {},
     "output_type": "display_data"
    }
   ],
   "source": [
    "### get table\n",
    "dat = dat_region_import\n",
    "dat = dat %>% \n",
    "    dplyr::mutate(\n",
    "        Region = fun_gen_region(Chrom, ChromStart, ChromEnd),\n",
    "        Method = \"Pol2A,RNAseq\",\n",
    "        Group  = \"TSS\", \n",
    "        Label  = paste(Group, Name, sep = \":\")\n",
    "    )\n",
    "\n",
    "dat = dat %>% \n",
    "    dplyr::rowwise() %>% \n",
    "    dplyr::mutate(\n",
    "        Note = fun(Region, Name, Score, Method)\n",
    "    ) %>%\n",
    "    dplyr::ungroup()\n",
    "\n",
    "dat = dat %>% dplyr::arrange(Chrom, ChromStart, ChromEnd)\n",
    "\n",
    "dat_region_arrange = dat\n",
    "print(dim(dat))\n",
    "fun_display_table(head(dat, 3))"
   ]
  },
  {
   "cell_type": "code",
   "execution_count": 26,
   "id": "97b0607b-7cec-4bb0-a8ee-31535a642b9b",
   "metadata": {},
   "outputs": [
    {
     "name": "stdout",
     "output_type": "stream",
     "text": [
      "[1] 11892     6\n"
     ]
    },
    {
     "data": {
      "text/html": [
       "<table>\n",
       " <thead>\n",
       "  <tr>\n",
       "   <th style=\"text-align:left;\"> Chrom </th>\n",
       "   <th style=\"text-align:right;\"> ChromStart </th>\n",
       "   <th style=\"text-align:right;\"> ChromEnd </th>\n",
       "   <th style=\"text-align:left;\"> Group </th>\n",
       "   <th style=\"text-align:left;\"> Label </th>\n",
       "   <th style=\"text-align:left;\"> Note </th>\n",
       "  </tr>\n",
       " </thead>\n",
       "<tbody>\n",
       "  <tr>\n",
       "   <td style=\"text-align:left;\"> chr1 </td>\n",
       "   <td style=\"text-align:right;\"> 29370 </td>\n",
       "   <td style=\"text-align:right;\"> 29371 </td>\n",
       "   <td style=\"text-align:left;\"> TSS </td>\n",
       "   <td style=\"text-align:left;\"> TSS:WASH7P </td>\n",
       "   <td style=\"text-align:left;\"> {&quot;Label&quot;:&quot;TSS&quot;,&quot;Region&quot;:&quot;chr1:29370-29371&quot;,&quot;Gene&quot;:&quot;WASH7P&quot;,&quot;Score&quot;:0.0002,&quot;Method&quot;:&quot;Pol2A,RNAseq&quot;} </td>\n",
       "  </tr>\n",
       "  <tr>\n",
       "   <td style=\"text-align:left;\"> chr1 </td>\n",
       "   <td style=\"text-align:right;\"> 827522 </td>\n",
       "   <td style=\"text-align:right;\"> 827523 </td>\n",
       "   <td style=\"text-align:left;\"> TSS </td>\n",
       "   <td style=\"text-align:left;\"> TSS:LINC00115 </td>\n",
       "   <td style=\"text-align:left;\"> {&quot;Label&quot;:&quot;TSS&quot;,&quot;Region&quot;:&quot;chr1:827522-827523&quot;,&quot;Gene&quot;:&quot;LINC00115&quot;,&quot;Score&quot;:64.4656,&quot;Method&quot;:&quot;Pol2A,RNAseq&quot;} </td>\n",
       "  </tr>\n",
       "  <tr>\n",
       "   <td style=\"text-align:left;\"> chr1 </td>\n",
       "   <td style=\"text-align:right;\"> 827590 </td>\n",
       "   <td style=\"text-align:right;\"> 827591 </td>\n",
       "   <td style=\"text-align:left;\"> TSS </td>\n",
       "   <td style=\"text-align:left;\"> TSS:LINC01128 </td>\n",
       "   <td style=\"text-align:left;\"> {&quot;Label&quot;:&quot;TSS&quot;,&quot;Region&quot;:&quot;chr1:827590-827591&quot;,&quot;Gene&quot;:&quot;LINC01128&quot;,&quot;Score&quot;:64.4603,&quot;Method&quot;:&quot;Pol2A,RNAseq&quot;} </td>\n",
       "  </tr>\n",
       "</tbody>\n",
       "</table>"
      ]
     },
     "metadata": {},
     "output_type": "display_data"
    }
   ],
   "source": [
    "dat = dat_region_arrange\n",
    "vec = c(\"Chrom\", \"ChromStart\", \"ChromEnd\", \"Group\", \"Label\", \"Note\")\n",
    "dat = dat %>% dplyr::select(!!!vec)\n",
    "\n",
    "\n",
    "dat_region_final = dat\n",
    "print(dim(dat))\n",
    "fun_display_table(head(dat, 3))"
   ]
  },
  {
   "cell_type": "code",
   "execution_count": null,
   "id": "78b4f04b-573d-4c02-afd3-480c3d5b82d2",
   "metadata": {},
   "outputs": [],
   "source": []
  },
  {
   "cell_type": "code",
   "execution_count": null,
   "id": "444ce078-b76b-4b63-b78c-cd3c0ce46213",
   "metadata": {},
   "outputs": [],
   "source": []
  },
  {
   "cell_type": "code",
   "execution_count": null,
   "id": "67a29935-946a-49bf-aa11-102ccaaa39cf",
   "metadata": {},
   "outputs": [],
   "source": []
  },
  {
   "cell_type": "code",
   "execution_count": 27,
   "id": "787e6909-6927-4260-9929-793094021920",
   "metadata": {},
   "outputs": [],
   "source": [
    "### set file path\n",
    "txt_folder = \"fcc_table\"\n",
    "txt_fdiry  = file.path(FD_RES, \"region\", txt_folder)\n",
    "txt_fname  = \"K562.hg38.TSS.bed.gz\"\n",
    "txt_fpath  = file.path(txt_fdiry, txt_fname)\n",
    "\n",
    "### read table\n",
    "dat = dat_region_final\n",
    "write_tsv(dat, txt_fpath, col_names = FALSE)"
   ]
  },
  {
   "cell_type": "code",
   "execution_count": null,
   "id": "cbc2685f-59c3-4d33-877d-840b406eba08",
   "metadata": {},
   "outputs": [],
   "source": []
  }
 ],
 "metadata": {
  "kernelspec": {
   "display_name": "R",
   "language": "R",
   "name": "ir"
  },
  "language_info": {
   "codemirror_mode": "r",
   "file_extension": ".r",
   "mimetype": "text/x-r-source",
   "name": "R",
   "pygments_lexer": "r",
   "version": "4.4.1"
  }
 },
 "nbformat": 4,
 "nbformat_minor": 5
}
