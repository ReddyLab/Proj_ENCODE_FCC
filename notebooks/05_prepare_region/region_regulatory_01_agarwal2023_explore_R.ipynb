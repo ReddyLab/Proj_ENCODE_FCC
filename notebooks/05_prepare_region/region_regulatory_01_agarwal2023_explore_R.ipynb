{
 "cells": [
  {
   "cell_type": "raw",
   "id": "0a27308f-1b4c-45f5-bd1c-b89566e8bc86",
   "metadata": {},
   "source": [
    "---\n",
    "title: Prepare regulatory annotations (LMPRA library design)\n",
    "subtitle: Explore the data\n",
    "format:\n",
    "    html:\n",
    "        code-fold:  true\n",
    "        code-tools: true\n",
    "---"
   ]
  },
  {
   "cell_type": "markdown",
   "id": "58743517-5208-44da-92b2-cb7479b89ae8",
   "metadata": {},
   "source": [
    "**Set environment**"
   ]
  },
  {
   "cell_type": "code",
   "execution_count": 1,
   "id": "34715c9a-d60a-4d11-af03-a67c5b1ddd95",
   "metadata": {},
   "outputs": [
    {
     "name": "stdout",
     "output_type": "stream",
     "text": [
      "You are working on        Singularity \n",
      "BASE DIRECTORY (FD_BASE): /mount \n",
      "REPO DIRECTORY (FD_REPO): /mount/repo \n",
      "WORK DIRECTORY (FD_WORK): /mount/work \n",
      "DATA DIRECTORY (FD_DATA): /mount/data \n",
      "\n",
      "You are working with      ENCODE FCC \n",
      "PATH OF PROJECT (FD_PRJ): /mount/repo/Proj_ENCODE_FCC \n",
      "PROJECT RESULTS (FD_RES): /mount/repo/Proj_ENCODE_FCC/results \n",
      "PROJECT SCRIPTS (FD_EXE): /mount/repo/Proj_ENCODE_FCC/scripts \n",
      "PROJECT DATA    (FD_DAT): /mount/repo/Proj_ENCODE_FCC/data \n",
      "PROJECT NOTE    (FD_NBK): /mount/repo/Proj_ENCODE_FCC/notebooks \n",
      "PROJECT DOCS    (FD_DOC): /mount/repo/Proj_ENCODE_FCC/docs \n",
      "PROJECT LOG     (FD_LOG): /mount/repo/Proj_ENCODE_FCC/log \n",
      "PROJECT APP     (FD_APP): /mount/repo/Proj_ENCODE_FCC/app \n",
      "PROJECT REF     (FD_REF): /mount/repo/Proj_ENCODE_FCC/references \n",
      "\n"
     ]
    }
   ],
   "source": [
    "suppressMessages(suppressWarnings(source(\"../run_config_project_sing.R\")))\n",
    "show_env()"
   ]
  },
  {
   "cell_type": "markdown",
   "id": "8971df4e-cb84-4e16-9ab6-edae2e36f842",
   "metadata": {},
   "source": [
    "## Import data"
   ]
  },
  {
   "cell_type": "markdown",
   "id": "3b120077-9148-4c5f-a7e6-ad0fc0d7f013",
   "metadata": {},
   "source": [
    "**Import library design**"
   ]
  },
  {
   "cell_type": "code",
   "execution_count": 2,
   "id": "1a461848-6239-4d02-987e-d90604e32f7d",
   "metadata": {},
   "outputs": [
    {
     "name": "stdout",
     "output_type": "stream",
     "text": [
      "[1] 243780      7\n"
     ]
    },
    {
     "data": {
      "text/html": [
       "<table>\n",
       " <thead>\n",
       "  <tr>\n",
       "   <th style=\"text-align:left;\"> name </th>\n",
       "   <th style=\"text-align:left;\"> category </th>\n",
       "   <th style=\"text-align:left;\"> chr.hg38 </th>\n",
       "   <th style=\"text-align:right;\"> start.hg38 </th>\n",
       "   <th style=\"text-align:right;\"> stop.hg38 </th>\n",
       "   <th style=\"text-align:left;\"> str.hg38 </th>\n",
       "   <th style=\"text-align:left;\"> 230nt sequence (15nt 5' adaptor - 200nt element - 15nt 3' adaptor) </th>\n",
       "  </tr>\n",
       " </thead>\n",
       "<tbody>\n",
       "  <tr>\n",
       "   <td style=\"text-align:left;\"> peak1 </td>\n",
       "   <td style=\"text-align:left;\"> potential enhancer </td>\n",
       "   <td style=\"text-align:left;\"> chr1 </td>\n",
       "   <td style=\"text-align:right;\"> 115631 </td>\n",
       "   <td style=\"text-align:right;\"> 115831 </td>\n",
       "   <td style=\"text-align:left;\"> + </td>\n",
       "   <td style=\"text-align:left;\"> AGGACCGGATCAACTGAGCCGGGTCATGAAAAAGGGGATCTTGTGTGTCTGTCCACGATAAGCACTATCACAAGGACTTTCTATAAACTCACAAGAAATTTCTGCCCACCCAGCACACAGTTTGTCCAGCTCATCCTGTAGGTGTCTCTATAATAGGACCTATCATAAAAAATTCCTCAAGACTGCAGCATTTCAGATAAGCCACCCTCACAAGACATTGCGTGAACCGA </td>\n",
       "  </tr>\n",
       "  <tr>\n",
       "   <td style=\"text-align:left;\"> peak1_Reversed: </td>\n",
       "   <td style=\"text-align:left;\"> potential enhancer </td>\n",
       "   <td style=\"text-align:left;\"> chr1 </td>\n",
       "   <td style=\"text-align:right;\"> 115631 </td>\n",
       "   <td style=\"text-align:right;\"> 115831 </td>\n",
       "   <td style=\"text-align:left;\"> - </td>\n",
       "   <td style=\"text-align:left;\"> AGGACCGGATCAACTTCTTGTGAGGGTGGCTTATCTGAAATGCTGCAGTCTTGAGGAATTTTTTATGATAGGTCCTATTATAGAGACACCTACAGGATGAGCTGGACAAACTGTGTGCTGGGTGGGCAGAAATTTCTTGTGAGTTTATAGAAAGTCCTTGTGATAGTGCTTATCGTGGACAGACACACAAGATCCCCTTTTTCATGACCCGGCTCCATTGCGTGAACCGA </td>\n",
       "  </tr>\n",
       "  <tr>\n",
       "   <td style=\"text-align:left;\"> peak10 </td>\n",
       "   <td style=\"text-align:left;\"> potential enhancer </td>\n",
       "   <td style=\"text-align:left;\"> chr1 </td>\n",
       "   <td style=\"text-align:right;\"> 634309 </td>\n",
       "   <td style=\"text-align:right;\"> 634509 </td>\n",
       "   <td style=\"text-align:left;\"> + </td>\n",
       "   <td style=\"text-align:left;\"> AGGACCGGATCAACTTGTCGCCTTAATCCAAGCCTACGTTTTTACACTTCTAGTAAGCCTCTACCTGCACGACAACACATAATGACCCACCAATCACATGCCTATCATATAGTAAAACCCAGCCCATGGCCCCTAACAGGGGCCCTCTCAGCCCTCCTAATGACCTCCGGCCTAGCCATGTGATTTCACTTCCACTCCACAACCCTCCTCATACTCATTGCGTGAACCGA </td>\n",
       "  </tr>\n",
       "  <tr>\n",
       "   <td style=\"text-align:left;\"> peak10_Reversed: </td>\n",
       "   <td style=\"text-align:left;\"> potential enhancer </td>\n",
       "   <td style=\"text-align:left;\"> chr1 </td>\n",
       "   <td style=\"text-align:right;\"> 634309 </td>\n",
       "   <td style=\"text-align:right;\"> 634509 </td>\n",
       "   <td style=\"text-align:left;\"> - </td>\n",
       "   <td style=\"text-align:left;\"> AGGACCGGATCAACTAGTATGAGGAGGGTTGTGGAGTGGAAGTGAAATCACATGGCTAGGCCGGAGGTCATTAGGAGGGCTGAGAGGGCCCCTGTTAGGGGCCATGGGCTGGGTTTTACTATATGATAGGCATGTGATTGGTGGGTCATTATGTGTTGTCGTGCAGGTAGAGGCTTACTAGAAGTGTAAAAACGTAGGCTTGGATTAAGGCGACACATTGCGTGAACCGA </td>\n",
       "  </tr>\n",
       "  <tr>\n",
       "   <td style=\"text-align:left;\"> peak100 </td>\n",
       "   <td style=\"text-align:left;\"> potential enhancer </td>\n",
       "   <td style=\"text-align:left;\"> chr1 </td>\n",
       "   <td style=\"text-align:right;\"> 2133494 </td>\n",
       "   <td style=\"text-align:right;\"> 2133694 </td>\n",
       "   <td style=\"text-align:left;\"> + </td>\n",
       "   <td style=\"text-align:left;\"> AGGACCGGATCAACTCCCCTCCCCAGCTGTGCGCCCGCCCCTTGGTTCCACCCCCCCCAGCTGTGCATCCGTCCCTTGGCTCCGCCCCGCACTGTGCGTCCATTTTTGACTCCGCCCCCGGCTGTGCGCTCATCCCTCGGCTCCGCCCCCGGCTGTGCGTCCGTCCCTCGGTTCCGCCCCCGGCTGCGCGTCTGTCCCTCGACTCGGCCCCTCAGCATTGCGTGAACCGA </td>\n",
       "  </tr>\n",
       "  <tr>\n",
       "   <td style=\"text-align:left;\"> peak100_Reversed: </td>\n",
       "   <td style=\"text-align:left;\"> potential enhancer </td>\n",
       "   <td style=\"text-align:left;\"> chr1 </td>\n",
       "   <td style=\"text-align:right;\"> 2133494 </td>\n",
       "   <td style=\"text-align:right;\"> 2133694 </td>\n",
       "   <td style=\"text-align:left;\"> - </td>\n",
       "   <td style=\"text-align:left;\"> AGGACCGGATCAACTCTGAGGGGCCGAGTCGAGGGACAGACGCGCAGCCGGGGGCGGAACCGAGGGACGGACGCACAGCCGGGGGCGGAGCCGAGGGATGAGCGCACAGCCGGGGGCGGAGTCAAAAATGGACGCACAGTGCGGGGCGGAGCCAAGGGACGGATGCACAGCTGGGGGGGGTGGAACCAAGGGGCGGGCGCACAGCTGGGGAGGGGCATTGCGTGAACCGA </td>\n",
       "  </tr>\n",
       "</tbody>\n",
       "</table>"
      ]
     },
     "metadata": {},
     "output_type": "display_data"
    }
   ],
   "source": [
    "### set directory\n",
    "fdiry = file.path(FD_DAT, \"processed\", \"MPRA_Lenti_K562_Nadav_Vikram_230621\")\n",
    "fname = \"LentiMPRA.K562.Library_Design.csv\"\n",
    "fpath = file.path(fdiry, fname)\n",
    "\n",
    "### read table\n",
    "dat = read_csv(fpath, show_col_types = FALSE)\n",
    "\n",
    "### assign and show\n",
    "dat_lmpra_library = dat\n",
    "print(dim(dat))\n",
    "fun_display_table(head(dat))"
   ]
  },
  {
   "cell_type": "markdown",
   "id": "4c508f54-aef6-43ca-882e-5adcfe99f2b8",
   "metadata": {},
   "source": [
    "**Import effect size**"
   ]
  },
  {
   "cell_type": "code",
   "execution_count": 3,
   "id": "0e0eb20f-6642-48ad-9d42-7b14a67b4af0",
   "metadata": {},
   "outputs": [
    {
     "name": "stdout",
     "output_type": "stream",
     "text": [
      "[1] 226254      5\n"
     ]
    },
    {
     "data": {
      "text/html": [
       "<table>\n",
       " <thead>\n",
       "  <tr>\n",
       "   <th style=\"text-align:left;\"> name </th>\n",
       "   <th style=\"text-align:right;\"> replicate 1 [log2(rna/dna)] </th>\n",
       "   <th style=\"text-align:right;\"> replicate 2 [log2(rna/dna)] </th>\n",
       "   <th style=\"text-align:right;\"> replicate 3 [log2(rna/dna)] </th>\n",
       "   <th style=\"text-align:right;\"> mean </th>\n",
       "  </tr>\n",
       " </thead>\n",
       "<tbody>\n",
       "  <tr>\n",
       "   <td style=\"text-align:left;\"> peak29573_Reversed: </td>\n",
       "   <td style=\"text-align:right;\"> -0.190 </td>\n",
       "   <td style=\"text-align:right;\"> 0.225 </td>\n",
       "   <td style=\"text-align:right;\"> 0.201 </td>\n",
       "   <td style=\"text-align:right;\"> 0.079 </td>\n",
       "  </tr>\n",
       "  <tr>\n",
       "   <td style=\"text-align:left;\"> peak71109_Reversed: </td>\n",
       "   <td style=\"text-align:right;\"> 0.650 </td>\n",
       "   <td style=\"text-align:right;\"> 0.454 </td>\n",
       "   <td style=\"text-align:right;\"> 0.758 </td>\n",
       "   <td style=\"text-align:right;\"> 0.620 </td>\n",
       "  </tr>\n",
       "  <tr>\n",
       "   <td style=\"text-align:left;\"> ENSG00000123569 </td>\n",
       "   <td style=\"text-align:right;\"> -0.762 </td>\n",
       "   <td style=\"text-align:right;\"> -0.578 </td>\n",
       "   <td style=\"text-align:right;\"> -0.228 </td>\n",
       "   <td style=\"text-align:right;\"> -0.523 </td>\n",
       "  </tr>\n",
       "  <tr>\n",
       "   <td style=\"text-align:left;\"> peak25742_Reversed: </td>\n",
       "   <td style=\"text-align:right;\"> -0.511 </td>\n",
       "   <td style=\"text-align:right;\"> -0.644 </td>\n",
       "   <td style=\"text-align:right;\"> -0.154 </td>\n",
       "   <td style=\"text-align:right;\"> -0.436 </td>\n",
       "  </tr>\n",
       "  <tr>\n",
       "   <td style=\"text-align:left;\"> peak83398 </td>\n",
       "   <td style=\"text-align:right;\"> -0.154 </td>\n",
       "   <td style=\"text-align:right;\"> -0.298 </td>\n",
       "   <td style=\"text-align:right;\"> 0.103 </td>\n",
       "   <td style=\"text-align:right;\"> -0.116 </td>\n",
       "  </tr>\n",
       "  <tr>\n",
       "   <td style=\"text-align:left;\"> peak1037_Reversed: </td>\n",
       "   <td style=\"text-align:right;\"> -0.056 </td>\n",
       "   <td style=\"text-align:right;\"> 0.275 </td>\n",
       "   <td style=\"text-align:right;\"> 0.008 </td>\n",
       "   <td style=\"text-align:right;\"> 0.076 </td>\n",
       "  </tr>\n",
       "</tbody>\n",
       "</table>"
      ]
     },
     "metadata": {},
     "output_type": "display_data"
    }
   ],
   "source": [
    "### set directory\n",
    "fdiry = file.path(FD_DAT, \"processed\", \"MPRA_Lenti_K562_Nadav_Vikram_230621\")\n",
    "fname = \"LentiMPRA.K562.Log2FC.matrix.csv\"\n",
    "fpath = file.path(fdiry, fname)\n",
    "\n",
    "### read table\n",
    "dat = read_csv(fpath, show_col_types = FALSE)\n",
    "\n",
    "### assign and show\n",
    "dat_lmpra_score_matrix = dat\n",
    "print(dim(dat))\n",
    "fun_display_table(head(dat))"
   ]
  },
  {
   "cell_type": "markdown",
   "id": "0046bf25-3c97-4d77-b81b-0eafc13d327a",
   "metadata": {},
   "source": [
    "## Merge and arrange data"
   ]
  },
  {
   "cell_type": "code",
   "execution_count": 9,
   "id": "85750cc3-18fa-4bcb-84fb-be60c3010ffb",
   "metadata": {},
   "outputs": [
    {
     "name": "stdout",
     "output_type": "stream",
     "text": [
      "[1] 225949      8\n"
     ]
    },
    {
     "data": {
      "text/html": [
       "<table>\n",
       " <thead>\n",
       "  <tr>\n",
       "   <th style=\"text-align:left;\"> Chrom </th>\n",
       "   <th style=\"text-align:right;\"> ChromStart </th>\n",
       "   <th style=\"text-align:right;\"> ChromEnd </th>\n",
       "   <th style=\"text-align:left;\"> Name </th>\n",
       "   <th style=\"text-align:right;\"> Score </th>\n",
       "   <th style=\"text-align:left;\"> Strand </th>\n",
       "   <th style=\"text-align:left;\"> Group </th>\n",
       "   <th style=\"text-align:left;\"> Label </th>\n",
       "  </tr>\n",
       " </thead>\n",
       "<tbody>\n",
       "  <tr>\n",
       "   <td style=\"text-align:left;\"> chr1 </td>\n",
       "   <td style=\"text-align:right;\"> 115631 </td>\n",
       "   <td style=\"text-align:right;\"> 115831 </td>\n",
       "   <td style=\"text-align:left;\"> peak1_Reversed: </td>\n",
       "   <td style=\"text-align:right;\"> 0.040 </td>\n",
       "   <td style=\"text-align:left;\"> - </td>\n",
       "   <td style=\"text-align:left;\"> Agarwal2023 </td>\n",
       "   <td style=\"text-align:left;\"> potential enhancer </td>\n",
       "  </tr>\n",
       "  <tr>\n",
       "   <td style=\"text-align:left;\"> chr1 </td>\n",
       "   <td style=\"text-align:right;\"> 138940 </td>\n",
       "   <td style=\"text-align:right;\"> 139140 </td>\n",
       "   <td style=\"text-align:left;\"> peak2 </td>\n",
       "   <td style=\"text-align:right;\"> -0.543 </td>\n",
       "   <td style=\"text-align:left;\"> + </td>\n",
       "   <td style=\"text-align:left;\"> Agarwal2023 </td>\n",
       "   <td style=\"text-align:left;\"> potential enhancer </td>\n",
       "  </tr>\n",
       "  <tr>\n",
       "   <td style=\"text-align:left;\"> chr1 </td>\n",
       "   <td style=\"text-align:right;\"> 138940 </td>\n",
       "   <td style=\"text-align:right;\"> 139140 </td>\n",
       "   <td style=\"text-align:left;\"> peak2_Reversed: </td>\n",
       "   <td style=\"text-align:right;\"> -0.101 </td>\n",
       "   <td style=\"text-align:left;\"> - </td>\n",
       "   <td style=\"text-align:left;\"> Agarwal2023 </td>\n",
       "   <td style=\"text-align:left;\"> potential enhancer </td>\n",
       "  </tr>\n",
       "  <tr>\n",
       "   <td style=\"text-align:left;\"> chr1 </td>\n",
       "   <td style=\"text-align:right;\"> 203225 </td>\n",
       "   <td style=\"text-align:right;\"> 203425 </td>\n",
       "   <td style=\"text-align:left;\"> peak3 </td>\n",
       "   <td style=\"text-align:right;\"> -0.186 </td>\n",
       "   <td style=\"text-align:left;\"> + </td>\n",
       "   <td style=\"text-align:left;\"> Agarwal2023 </td>\n",
       "   <td style=\"text-align:left;\"> potential enhancer </td>\n",
       "  </tr>\n",
       "  <tr>\n",
       "   <td style=\"text-align:left;\"> chr1 </td>\n",
       "   <td style=\"text-align:right;\"> 203225 </td>\n",
       "   <td style=\"text-align:right;\"> 203425 </td>\n",
       "   <td style=\"text-align:left;\"> peak3_Reversed: </td>\n",
       "   <td style=\"text-align:right;\"> -0.281 </td>\n",
       "   <td style=\"text-align:left;\"> - </td>\n",
       "   <td style=\"text-align:left;\"> Agarwal2023 </td>\n",
       "   <td style=\"text-align:left;\"> potential enhancer </td>\n",
       "  </tr>\n",
       "  <tr>\n",
       "   <td style=\"text-align:left;\"> chr1 </td>\n",
       "   <td style=\"text-align:right;\"> 267911 </td>\n",
       "   <td style=\"text-align:right;\"> 268111 </td>\n",
       "   <td style=\"text-align:left;\"> peak4 </td>\n",
       "   <td style=\"text-align:right;\"> 0.225 </td>\n",
       "   <td style=\"text-align:left;\"> + </td>\n",
       "   <td style=\"text-align:left;\"> Agarwal2023 </td>\n",
       "   <td style=\"text-align:left;\"> potential enhancer </td>\n",
       "  </tr>\n",
       "</tbody>\n",
       "</table>"
      ]
     },
     "metadata": {},
     "output_type": "display_data"
    }
   ],
   "source": [
    "### merge score by oligo's ID\n",
    "dat = dplyr::left_join(\n",
    "    dat_lmpra_score_matrix,\n",
    "    dat_lmpra_library,\n",
    "    by=\"name\"\n",
    ")\n",
    "\n",
    "### arrange table\n",
    "dat = dat %>%\n",
    "    dplyr::mutate(Group = \"Agarwal2023\") %>%\n",
    "    dplyr::select(\n",
    "        chr.hg38, \n",
    "        start.hg38, \n",
    "        stop.hg38, \n",
    "        name, \n",
    "        mean, \n",
    "        str.hg38,\n",
    "        Group,\n",
    "        category)\n",
    "colnames(dat) = c(\"Chrom\", \"ChromStart\", \"ChromEnd\", \"Name\", \"Score\", \"Strand\", \"Group\", \"Label\")\n",
    "dat = dat %>% na.omit\n",
    "dat = dat %>% dplyr::arrange(Chrom, ChromStart, ChromEnd, Strand)\n",
    "\n",
    "### assign and show\n",
    "dat_region_arrange = dat\n",
    "print(dim(dat))\n",
    "fun_display_table(head(dat))"
   ]
  },
  {
   "cell_type": "code",
   "execution_count": 10,
   "id": "cd57e81d-340d-4c8a-82b3-a3714bead0dc",
   "metadata": {},
   "outputs": [
    {
     "data": {
      "text/plain": [
       "\n",
       "                intergenic (7 loci) negative control (Ernst et al 2016) \n",
       "                              13979                                 185 \n",
       "positive control (Ernst et al 2016)                  potential enhancer \n",
       "                                 41                               85352 \n",
       "                           promoter \n",
       "                              14894 "
      ]
     },
     "metadata": {},
     "output_type": "display_data"
    }
   ],
   "source": [
    "dat = dat_region_arrange\n",
    "dat = dat %>% \n",
    "    dplyr::select(Chrom, ChromStart, ChromEnd, Label) %>%\n",
    "    dplyr::distinct()\n",
    "table(dat$Label)"
   ]
  },
  {
   "cell_type": "code",
   "execution_count": null,
   "id": "5eabcac4-d360-4a39-8ad3-3e6d47dfda33",
   "metadata": {},
   "outputs": [],
   "source": []
  }
 ],
 "metadata": {
  "kernelspec": {
   "display_name": "R",
   "language": "R",
   "name": "ir"
  },
  "language_info": {
   "codemirror_mode": "r",
   "file_extension": ".r",
   "mimetype": "text/x-r-source",
   "name": "R",
   "pygments_lexer": "r",
   "version": "4.4.0"
  }
 },
 "nbformat": 4,
 "nbformat_minor": 5
}
