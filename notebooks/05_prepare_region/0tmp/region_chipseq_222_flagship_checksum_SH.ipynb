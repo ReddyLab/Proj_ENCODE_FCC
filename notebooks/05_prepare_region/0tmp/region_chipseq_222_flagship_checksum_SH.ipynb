{
 "cells": [
  {
   "cell_type": "code",
   "execution_count": 1,
   "id": "01ed482c-008d-4f85-bdec-d3d2c7242378",
   "metadata": {},
   "outputs": [
    {
     "name": "stdout",
     "output_type": "stream",
     "text": [
      "You are working on             Duke Server: HARDAC\n",
      "BASE DIRECTORY (FD_BASE):      /data/reddylab/Kuei\n",
      "REPO DIRECTORY (FD_REPO):      /data/reddylab/Kuei/repo\n",
      "WORK DIRECTORY (FD_WORK):      /data/reddylab/Kuei/work\n",
      "DATA DIRECTORY (FD_DATA):      /data/reddylab/Kuei/data\n",
      "CONTAINER DIR. (FD_SING):      /data/reddylab/Kuei/container\n",
      "\n",
      "You are working with           ENCODE FCC\n",
      "PATH OF PROJECT (FD_PRJ):      /data/reddylab/Kuei/repo/Proj_ENCODE_FCC\n",
      "PROJECT RESULTS (FD_RES):      /data/reddylab/Kuei/repo/Proj_ENCODE_FCC/results\n",
      "PROJECT SCRIPTS (FD_EXE):      /data/reddylab/Kuei/repo/Proj_ENCODE_FCC/scripts\n",
      "PROJECT DATA    (FD_DAT):      /data/reddylab/Kuei/repo/Proj_ENCODE_FCC/data\n",
      "PROJECT NOTE    (FD_NBK):      /data/reddylab/Kuei/repo/Proj_ENCODE_FCC/notebooks\n",
      "PROJECT DOCS    (FD_DOC):      /data/reddylab/Kuei/repo/Proj_ENCODE_FCC/docs\n",
      "PROJECT LOG     (FD_LOG):      /data/reddylab/Kuei/repo/Proj_ENCODE_FCC/log\n",
      "PROJECT APP     (FD_APP):      \n",
      "PROJECT REF     (FD_REF):      /data/reddylab/Kuei/repo/Proj_ENCODE_FCC/references\n",
      "PROJECT IMAGE   (FP_PRJ_SIF):  /data/reddylab/Kuei/container/project/singularity_proj_encode_fcc.sif\n",
      "\n"
     ]
    }
   ],
   "source": [
    "source ../run_config_project.sh\n",
    "show_env"
   ]
  },
  {
   "cell_type": "code",
   "execution_count": 2,
   "id": "e380b581-c0b8-4e27-adf0-28eba265b996",
   "metadata": {},
   "outputs": [],
   "source": [
    "FD_OUT=${FD_DAT}/external/encode_chipseq_flagship\n",
    "\n",
    "cd ${FD_OUT}"
   ]
  },
  {
   "cell_type": "code",
   "execution_count": 3,
   "id": "53b2e979-517b-4175-a8aa-74eb8ab81529",
   "metadata": {},
   "outputs": [
    {
     "name": "stdout",
     "output_type": "stream",
     "text": [
      "checksum_md5sum.txt\n",
      "K562.hg38.ENCSR000AKO.ENCFF769AUF.ChIPseq.CTCF.bed.gz\n",
      "K562.hg38.ENCSR000AQA.ENCFF807FNB.ChIPseq.KDM5B.bed.gz\n",
      "K562.hg38.ENCSR000AQD.ENCFF408NUX.ChIPseq.CHD1.bed.gz\n",
      "K562.hg38.ENCSR000AQE.ENCFF804RVA.ChIPseq.EZH2.bed.gz\n",
      "K562.hg38.ENCSR000AQF.ENCFF669MJX.ChIPseq.HDAC1.bed.gz\n",
      "K562.hg38.ENCSR000AQG.ENCFF182MPT.ChIPseq.HDAC2.bed.gz\n",
      "K562.hg38.ENCSR000AQH.ENCFF981ISM.ChIPseq.PHF8.bed.gz\n",
      "K562.hg38.ENCSR000AQI.ENCFF942VGF.ChIPseq.RBBP5.bed.gz\n",
      "K562.hg38.ENCSR000AQJ.ENCFF383IEP.ChIPseq.SAP30.bed.gz\n"
     ]
    }
   ],
   "source": [
    "ls | head"
   ]
  },
  {
   "cell_type": "code",
   "execution_count": 4,
   "id": "655f8313-4158-40fc-94ac-063b8ec99374",
   "metadata": {},
   "outputs": [
    {
     "name": "stdout",
     "output_type": "stream",
     "text": [
      "K562.hg38.ENCSR805SIA.ENCFF500BWO.ChIPseq.PURB.bed.gz: OK\n",
      "K562.hg38.ENCSR125RFR.ENCFF863ZFH.ChIPseq.ATF6.bed.gz: OK\n",
      "K562.hg38.ENCSR841GLE.ENCFF515LWL.ChIPseq.ZNF217.bed.gz: OK\n",
      "K562.hg38.ENCSR014ARU.ENCFF121HYT.ChIPseq.ATF2.bed.gz: OK\n",
      "K562.hg38.ENCSR172XJS.ENCFF169QYL.ChIPseq.ZNF165.bed.gz: OK\n",
      "K562.hg38.ENCSR676KDJ.ENCFF528IDR.ChIPseq.ARID4B.bed.gz: OK\n"
     ]
    }
   ],
   "source": [
    "md5sum -c checksum_md5sum.txt"
   ]
  },
  {
   "cell_type": "code",
   "execution_count": null,
   "id": "7e02f80d-0543-4a91-8083-a634241b1d9b",
   "metadata": {},
   "outputs": [],
   "source": []
  }
 ],
 "metadata": {
  "kernelspec": {
   "display_name": "Bash",
   "language": "bash",
   "name": "bash"
  },
  "language_info": {
   "codemirror_mode": "shell",
   "file_extension": ".sh",
   "mimetype": "text/x-sh",
   "name": "bash"
  }
 },
 "nbformat": 4,
 "nbformat_minor": 5
}
