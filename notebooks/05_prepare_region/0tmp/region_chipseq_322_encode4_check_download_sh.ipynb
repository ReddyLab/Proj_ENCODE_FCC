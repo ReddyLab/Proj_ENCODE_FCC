{
 "cells": [
  {
   "cell_type": "raw",
   "id": "a3ed5497-b709-44f6-ad0a-1986b2d52de4",
   "metadata": {},
   "source": [
    "---\n",
    "title: Prepare ENCODE ChIP-seq ...\n",
    "subtitle: ...\n",
    "format:\n",
    "    html:\n",
    "        code-fold:  true\n",
    "        code-tools: true\n",
    "---"
   ]
  },
  {
   "cell_type": "markdown",
   "id": "ebc80383-7e60-4751-9820-7ebd637d2026",
   "metadata": {
    "tags": []
   },
   "source": [
    "## Initialization"
   ]
  },
  {
   "cell_type": "markdown",
   "id": "791b6e37-1deb-456d-bc68-e78fe04ebf79",
   "metadata": {},
   "source": [
    "**set environment**"
   ]
  },
  {
   "cell_type": "code",
   "execution_count": 1,
   "id": "7dd40ac1-665f-4f98-b76c-77587c412b55",
   "metadata": {},
   "outputs": [
    {
     "name": "stdout",
     "output_type": "stream",
     "text": [
      "You are working on             Duke Server: HARDAC\n",
      "BASE DIRECTORY (FD_BASE):      /data/reddylab/Kuei\n",
      "REPO DIRECTORY (FD_REPO):      /data/reddylab/Kuei/repo\n",
      "WORK DIRECTORY (FD_WORK):      /data/reddylab/Kuei/work\n",
      "DATA DIRECTORY (FD_DATA):      /data/reddylab/Kuei/data\n",
      "CONTAINER DIR. (FD_SING):      /data/reddylab/Kuei/container\n",
      "\n",
      "You are working with           ENCODE FCC\n",
      "PATH OF PROJECT (FD_PRJ):      /data/reddylab/Kuei/repo/Proj_ENCODE_FCC\n",
      "PROJECT RESULTS (FD_RES):      /data/reddylab/Kuei/repo/Proj_ENCODE_FCC/results\n",
      "PROJECT SCRIPTS (FD_EXE):      /data/reddylab/Kuei/repo/Proj_ENCODE_FCC/scripts\n",
      "PROJECT DATA    (FD_DAT):      /data/reddylab/Kuei/repo/Proj_ENCODE_FCC/data\n",
      "PROJECT NOTE    (FD_NBK):      /data/reddylab/Kuei/repo/Proj_ENCODE_FCC/notebooks\n",
      "PROJECT DOCS    (FD_DOC):      /data/reddylab/Kuei/repo/Proj_ENCODE_FCC/docs\n",
      "PROJECT LOG     (FD_LOG):      /data/reddylab/Kuei/repo/Proj_ENCODE_FCC/log\n",
      "PROJECT APP     (FD_APP):      \n",
      "PROJECT REF     (FD_REF):      /data/reddylab/Kuei/repo/Proj_ENCODE_FCC/references\n",
      "PROJECT IMAGE   (FP_PRJ_SIF):  /data/reddylab/Kuei/container/project/singularity_proj_encode_fcc.sif\n",
      "\n"
     ]
    }
   ],
   "source": [
    "source ../run_config_project.sh\n",
    "show_env"
   ]
  },
  {
   "cell_type": "markdown",
   "id": "2b8c51af-e857-417c-b3e9-4d724eaa0aba",
   "metadata": {},
   "source": [
    "**Global variables**"
   ]
  },
  {
   "cell_type": "code",
   "execution_count": 2,
   "id": "e555952c-deb9-424b-8bc7-860506e9231a",
   "metadata": {},
   "outputs": [],
   "source": [
    "FD_OUT=${FD_DAT}/external/encode_chipseq_encode4"
   ]
  },
  {
   "cell_type": "markdown",
   "id": "5f034182-407e-415f-8dcd-7cf6aacd0960",
   "metadata": {},
   "source": [
    "## Preview"
   ]
  },
  {
   "cell_type": "code",
   "execution_count": 3,
   "id": "afae7f9f-119d-4c07-b72f-1f2185fc5e04",
   "metadata": {},
   "outputs": [],
   "source": [
    "cd ${FD_OUT}"
   ]
  },
  {
   "cell_type": "code",
   "execution_count": 8,
   "id": "a6d0dddc-e459-4a57-9a84-1ac20df68a4c",
   "metadata": {},
   "outputs": [
    {
     "name": "stdout",
     "output_type": "stream",
     "text": [
      "checksum_md5sum.txt\n",
      "download_log.txt\n",
      "ENCFF003NIX.bigWig\n",
      "ENCFF009RFC.bed.gz\n",
      "ENCFF013FTP.bigWig\n",
      "ENCFF013FZZ.bigWig\n",
      "ENCFF014HYS.bed.gz\n",
      "ENCFF018HWM.bed.gz\n",
      "ENCFF018TNP.bed.gz\n",
      "ENCFF018XUY.bigBed\n"
     ]
    }
   ],
   "source": [
    "ls | head"
   ]
  },
  {
   "cell_type": "markdown",
   "id": "34b25df2-faf3-460c-a6c2-d53055034249",
   "metadata": {},
   "source": [
    "## Execute"
   ]
  },
  {
   "cell_type": "code",
   "execution_count": 9,
   "id": "9d7a301b-31ea-4910-9860-4224c58f80af",
   "metadata": {},
   "outputs": [],
   "source": [
    "md5sum -c checksum_md5sum.txt > checksum_results.txt"
   ]
  },
  {
   "cell_type": "markdown",
   "id": "b6052de1-3d73-4602-9f12-92ddb34f417d",
   "metadata": {},
   "source": [
    "## Review"
   ]
  },
  {
   "cell_type": "code",
   "execution_count": 10,
   "id": "d171a204-e36c-42d7-8b0e-5064622093ae",
   "metadata": {},
   "outputs": [
    {
     "name": "stdout",
     "output_type": "stream",
     "text": [
      "711\n"
     ]
    }
   ],
   "source": [
    "cd ${FD_OUT}\n",
    "cat checksum_results.txt | wc -l"
   ]
  },
  {
   "cell_type": "code",
   "execution_count": 11,
   "id": "876e2c07-b0d0-4752-84a9-4e21ad7f377b",
   "metadata": {},
   "outputs": [
    {
     "name": "stdout",
     "output_type": "stream",
     "text": [
      "ENCFF124KCE.bed.gz: OK\n",
      "ENCFF334ZCX.bigWig: OK\n",
      "ENCFF722QWH.bigBed: OK\n",
      "ENCFF173QUY.bed.gz: OK\n",
      "ENCFF225ZXF.bigWig: OK\n",
      "ENCFF470UPO.bigBed: OK\n",
      "ENCFF664RMA.bigWig: OK\n",
      "ENCFF442RYH.bed.gz: OK\n",
      "ENCFF431VZH.bigBed: OK\n",
      "ENCFF817EJA.bed.gz: OK\n"
     ]
    }
   ],
   "source": [
    "cd ${FD_OUT}\n",
    "cat checksum_results.txt | head"
   ]
  },
  {
   "cell_type": "code",
   "execution_count": 14,
   "id": "b25cacab-667e-4274-86c2-85f1d88adafe",
   "metadata": {},
   "outputs": [
    {
     "ename": "",
     "evalue": "1",
     "output_type": "error",
     "traceback": []
    }
   ],
   "source": [
    "cat checksum_results.txt | grep -v OK"
   ]
  },
  {
   "cell_type": "code",
   "execution_count": null,
   "id": "2b2c4717-38d9-442a-9d72-51a67f093a13",
   "metadata": {},
   "outputs": [],
   "source": []
  }
 ],
 "metadata": {
  "kernelspec": {
   "display_name": "Bash",
   "language": "bash",
   "name": "bash"
  },
  "language_info": {
   "codemirror_mode": "shell",
   "file_extension": ".sh",
   "mimetype": "text/x-sh",
   "name": "bash"
  }
 },
 "nbformat": 4,
 "nbformat_minor": 5
}
