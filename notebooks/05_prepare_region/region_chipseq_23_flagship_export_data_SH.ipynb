{
 "cells": [
  {
   "cell_type": "raw",
   "id": "7ee15bab-8974-401c-b047-72ce41ebe156",
   "metadata": {},
   "source": [
    "---\n",
    "title: Prepare ENCODE ChIP-seq 23 (Flagship)\n",
    "subtitle: Export data to `result` folder\n",
    "format:\n",
    "    html:\n",
    "        code-fold:  true\n",
    "        code-tools: true\n",
    "---"
   ]
  },
  {
   "cell_type": "markdown",
   "id": "5487f930-c1a0-4417-a707-d5be0ad6a5b7",
   "metadata": {},
   "source": [
    "**Set environment**"
   ]
  },
  {
   "cell_type": "code",
   "execution_count": 1,
   "id": "529a70f2-cbfb-4a42-80cd-bdcc221fcf43",
   "metadata": {},
   "outputs": [
    {
     "name": "stdout",
     "output_type": "stream",
     "text": [
      "You are working on             Duke Server: HARDAC\n",
      "BASE DIRECTORY (FD_BASE):      /data/reddylab/Kuei\n",
      "REPO DIRECTORY (FD_REPO):      /data/reddylab/Kuei/repo\n",
      "WORK DIRECTORY (FD_WORK):      /data/reddylab/Kuei/work\n",
      "DATA DIRECTORY (FD_DATA):      /data/reddylab/Kuei/data\n",
      "CONTAINER DIR. (FD_SING):      /data/reddylab/Kuei/container\n",
      "\n",
      "You are working with           ENCODE FCC\n",
      "PATH OF PROJECT (FD_PRJ):      /data/reddylab/Kuei/repo/Proj_ENCODE_FCC\n",
      "PROJECT RESULTS (FD_RES):      /data/reddylab/Kuei/repo/Proj_ENCODE_FCC/results\n",
      "PROJECT SCRIPTS (FD_EXE):      /data/reddylab/Kuei/repo/Proj_ENCODE_FCC/scripts\n",
      "PROJECT DATA    (FD_DAT):      /data/reddylab/Kuei/repo/Proj_ENCODE_FCC/data\n",
      "PROJECT NOTE    (FD_NBK):      /data/reddylab/Kuei/repo/Proj_ENCODE_FCC/notebooks\n",
      "PROJECT DOCS    (FD_DOC):      /data/reddylab/Kuei/repo/Proj_ENCODE_FCC/docs\n",
      "PROJECT LOG     (FD_LOG):      /data/reddylab/Kuei/repo/Proj_ENCODE_FCC/log\n",
      "PROJECT APP     (FD_APP):      \n",
      "PROJECT REF     (FD_REF):      /data/reddylab/Kuei/repo/Proj_ENCODE_FCC/references\n",
      "PROJECT IMAGE   (FP_PRJ_SIF):  /data/reddylab/Kuei/container/project/singularity_proj_encode_fcc.sif\n",
      "\n"
     ]
    }
   ],
   "source": [
    "source ../run_config_project.sh\n",
    "show_env"
   ]
  },
  {
   "cell_type": "markdown",
   "id": "d4ac6ca5-637c-4823-99f4-c7345225f6d5",
   "metadata": {
    "tags": []
   },
   "source": [
    "## Prepare"
   ]
  },
  {
   "cell_type": "code",
   "execution_count": 2,
   "id": "fdb6d127-0c46-4707-bcf2-c97336d6b29b",
   "metadata": {},
   "outputs": [
    {
     "name": "stdout",
     "output_type": "stream",
     "text": [
      "/data/reddylab/Kuei/repo/Proj_ENCODE_FCC/data/external/encode_chipseq_flagship\n",
      "733\n",
      "ENCFF003LPE.bed.gz\n",
      "ENCFF004HXL.bed.gz\n",
      "ENCFF004YCK.bed.gz\n",
      "ENCFF005MBI.bed.gz\n",
      "ENCFF009RFC.bed.gz\n",
      "ENCFF014HYS.bed.gz\n",
      "ENCFF015FXW.bed.gz\n",
      "ENCFF018HWM.bed.gz\n",
      "ENCFF018TNP.bed.gz\n",
      "ENCFF019NGO.bed.gz\n"
     ]
    }
   ],
   "source": [
    "FDIRY=${FD_DAT}/external/encode_chipseq_flagship\n",
    "\n",
    "echo ${FDIRY}\n",
    "ls   ${FDIRY}/*.bed.gz | wc -l\n",
    "ls   ${FDIRY}/*.bed.gz | head | xargs -n 1 basename"
   ]
  },
  {
   "cell_type": "code",
   "execution_count": 3,
   "id": "fbe2ee7f-62a3-4040-9b5c-5d93f6e4e708",
   "metadata": {},
   "outputs": [
    {
     "name": "stdout",
     "output_type": "stream",
     "text": [
      "chr1\t28648519\t28648809\t.\t1000\t.\t257.07279\t-1.00000\t3.57669\t128\n",
      "chr1\t44721579\t44721852\t.\t1000\t.\t219.15150\t-1.00000\t3.57669\t145\n",
      "chr7\t92133746\t92133973\t.\t1000\t.\t189.64778\t-1.00000\t3.57669\t119\n",
      "chr1\t30768991\t30769203\t.\t1000\t.\t181.75529\t-1.00000\t3.57669\t98\n",
      "chr1\t148522536\t148522890\t.\t1000\t.\t172.19716\t-1.00000\t3.57669\t172\n",
      "chr6\t2542919\t2543136\t.\t1000\t.\t170.67619\t-1.00000\t3.57669\t117\n",
      "chr10\t94299534\t94299747\t.\t1000\t.\t170.61951\t-1.00000\t3.57669\t113\n",
      "chr6\t133701674\t133701866\t.\t1000\t.\t169.53383\t-1.00000\t3.57669\t104\n",
      "chr17\t58679429\t58679751\t.\t1000\t.\t165.41649\t-1.00000\t3.57669\t158\n",
      "chr1\t145281070\t145281346\t.\t1000\t.\t161.27171\t-1.00000\t3.57669\t159\n"
     ]
    }
   ],
   "source": [
    "FDIRY=${FD_DAT}/external/encode_chipseq_flagship\n",
    "FNAME=ENCFF003LPE.bed.gz\n",
    "FPATH=${FDIRY}/${FNAME}\n",
    "zcat ${FPATH} | head"
   ]
  },
  {
   "cell_type": "markdown",
   "id": "70bb75c7-78cc-4805-a09f-f2c6d2fa8203",
   "metadata": {
    "tags": []
   },
   "source": [
    "## Execute\n",
    "**Copy and sort the files**\n",
    "```\n",
    "ln -s file link\n",
    "zcat ${FP_INP} | sort -k 1,1 -k2,2n | gzip -c > ${FP_OUT}\n",
    "```"
   ]
  },
  {
   "cell_type": "code",
   "execution_count": 4,
   "id": "bb2078c3-f2cf-4a5b-a234-f626412f818e",
   "metadata": {
    "tags": []
   },
   "outputs": [],
   "source": [
    "### set directory\n",
    "FD_INP=${FD_DAT}/external/encode_chipseq_flagship\n",
    "FD_OUT=${FD_RES}/region/encode_chipseq_flagship\n",
    "mkdir -p ${FD_OUT}\n",
    "\n",
    "### loop and generate sorted files\n",
    "FP_INPS=($(ls ${FD_INP}/*bed.gz))\n",
    "for FP_INP in ${FP_INPS[@]}; do\n",
    "    ### get input file name\n",
    "    FN_INP=$(basename ${FP_INP})\n",
    "    #echo ${FN_INP}\n",
    "    \n",
    "    ### set output file name\n",
    "    FN_OUT=${FN_INP}\n",
    "    FP_OUT=${FD_OUT}/${FN_OUT}\n",
    "    \n",
    "    ### sort and output to a new file\n",
    "    zcat ${FP_INP} | sort -k 1,1 -k2,2n | gzip -c > ${FP_OUT}\n",
    "done"
   ]
  },
  {
   "cell_type": "markdown",
   "id": "58c703a3-8183-4a73-b10b-64c30a10d0e4",
   "metadata": {},
   "source": [
    "## Review"
   ]
  },
  {
   "cell_type": "markdown",
   "id": "5f25da8d-fa53-4332-af8a-ff8c253b0d8b",
   "metadata": {},
   "source": [
    "**Check output files**"
   ]
  },
  {
   "cell_type": "code",
   "execution_count": 5,
   "id": "b7d3b582-dda3-4e4d-965a-47c21983ba1c",
   "metadata": {},
   "outputs": [
    {
     "name": "stdout",
     "output_type": "stream",
     "text": [
      "733\n",
      "ENCFF003LPE.bed.gz\n",
      "ENCFF004HXL.bed.gz\n",
      "ENCFF004YCK.bed.gz\n",
      "ENCFF005MBI.bed.gz\n",
      "ENCFF009RFC.bed.gz\n",
      "ENCFF014HYS.bed.gz\n",
      "ENCFF015FXW.bed.gz\n",
      "ENCFF018HWM.bed.gz\n",
      "ENCFF018TNP.bed.gz\n",
      "ENCFF019NGO.bed.gz\n"
     ]
    }
   ],
   "source": [
    "### set directory\n",
    "FD_INP=${FD_DAT}/external/encode_chipseq_flagship\n",
    "FD_OUT=${FD_RES}/region/encode_chipseq_flagship\n",
    "\n",
    "ls -1 ${FD_OUT}/*.bed.gz | wc -l\n",
    "ls -1 ${FD_OUT}/*.bed.gz | head | xargs -n 1 basename"
   ]
  },
  {
   "cell_type": "code",
   "execution_count": 6,
   "id": "cc996976-979f-4e9d-adc7-1493b34797b4",
   "metadata": {},
   "outputs": [
    {
     "name": "stdout",
     "output_type": "stream",
     "text": [
      "chr1\t28648519\t28648809\t.\t1000\t.\t257.07279\t-1.00000\t3.57669\t128\n",
      "chr1\t44721579\t44721852\t.\t1000\t.\t219.15150\t-1.00000\t3.57669\t145\n",
      "chr7\t92133746\t92133973\t.\t1000\t.\t189.64778\t-1.00000\t3.57669\t119\n",
      "chr1\t30768991\t30769203\t.\t1000\t.\t181.75529\t-1.00000\t3.57669\t98\n",
      "chr1\t148522536\t148522890\t.\t1000\t.\t172.19716\t-1.00000\t3.57669\t172\n",
      "chr6\t2542919\t2543136\t.\t1000\t.\t170.67619\t-1.00000\t3.57669\t117\n",
      "chr10\t94299534\t94299747\t.\t1000\t.\t170.61951\t-1.00000\t3.57669\t113\n",
      "chr6\t133701674\t133701866\t.\t1000\t.\t169.53383\t-1.00000\t3.57669\t104\n",
      "chr17\t58679429\t58679751\t.\t1000\t.\t165.41649\t-1.00000\t3.57669\t158\n",
      "chr1\t145281070\t145281346\t.\t1000\t.\t161.27171\t-1.00000\t3.57669\t159\n"
     ]
    }
   ],
   "source": [
    "FDIRY=${FD_INP}\n",
    "FNAME=ENCFF003LPE.bed.gz\n",
    "FPATH=${FDIRY}/${FNAME}\n",
    "zcat ${FPATH} | head"
   ]
  },
  {
   "cell_type": "code",
   "execution_count": 7,
   "id": "e93c9a4b-fbcf-4671-a6cc-d3a1e8cca03f",
   "metadata": {},
   "outputs": [
    {
     "name": "stdout",
     "output_type": "stream",
     "text": [
      "chr1\t960555\t960865\t.\t717\t.\t22.99687\t-1.00000\t2.69367\t155\n",
      "chr1\t1204095\t1204405\t.\t589\t.\t22.87745\t-1.00000\t2.70099\t155\n",
      "chr1\t1208933\t1209243\t.\t826\t.\t28.87947\t-1.00000\t3.57669\t155\n",
      "chr1\t1209132\t1209442\t.\t826\t.\t9.00918\t-1.00000\t1.03923\t155\n",
      "chr1\t1231848\t1232158\t.\t1000\t.\t37.18844\t-1.00000\t3.57669\t155\n",
      "chr1\t1232520\t1232830\t.\t592\t.\t8.01530\t-1.00000\t0.89630\t155\n",
      "chr1\t1348067\t1348377\t.\t579\t.\t25.54407\t-1.00000\t3.24658\t155\n",
      "chr1\t1375109\t1375419\t.\t805\t.\t23.11212\t-1.00000\t2.68574\t155\n",
      "chr1\t1440884\t1441194\t.\t603\t.\t13.39564\t-1.00000\t1.68071\t155\n",
      "chr1\t1574765\t1575075\t.\t600\t.\t25.99215\t-1.00000\t3.22176\t155\n"
     ]
    }
   ],
   "source": [
    "FDIRY=${FD_OUT}\n",
    "FNAME=ENCFF003LPE.bed.gz\n",
    "FPATH=${FDIRY}/${FNAME}\n",
    "zcat ${FPATH} | head"
   ]
  },
  {
   "cell_type": "code",
   "execution_count": null,
   "id": "6d550415-122d-4f23-9135-e89bbd95b4f4",
   "metadata": {},
   "outputs": [],
   "source": []
  }
 ],
 "metadata": {
  "kernelspec": {
   "display_name": "Bash",
   "language": "bash",
   "name": "bash"
  },
  "language_info": {
   "codemirror_mode": "shell",
   "file_extension": ".sh",
   "mimetype": "text/x-sh",
   "name": "bash"
  }
 },
 "nbformat": 4,
 "nbformat_minor": 5
}
