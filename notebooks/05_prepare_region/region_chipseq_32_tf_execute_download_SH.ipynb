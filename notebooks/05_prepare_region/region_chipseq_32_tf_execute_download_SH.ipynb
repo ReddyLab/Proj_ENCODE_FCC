{
 "cells": [
  {
   "cell_type": "raw",
   "id": "7cdbe2ab-5931-4509-add7-0a0adef5a4c0",
   "metadata": {},
   "source": [
    "---\n",
    "title: Prepare ENCODE ChIP-seq 12 (Histone)\n",
    "subtitle: Download the data\n",
    "format:\n",
    "    html:\n",
    "        code-fold:  true\n",
    "        code-tools: true\n",
    "---"
   ]
  },
  {
   "cell_type": "markdown",
   "id": "fa692d03-3d53-42e0-9c04-0b5c8ac28736",
   "metadata": {},
   "source": [
    "**set environment**"
   ]
  },
  {
   "cell_type": "code",
   "execution_count": 1,
   "id": "94818667-50c0-440a-be11-6733b9772a90",
   "metadata": {},
   "outputs": [
    {
     "name": "stdout",
     "output_type": "stream",
     "text": [
      "You are working on             Duke Server: RCC\n",
      "BASE DIRECTORY (FD_BASE):      /data/reddylab/Kuei\n",
      "REPO DIRECTORY (FD_REPO):      /data/reddylab/Kuei/repo\n",
      "WORK DIRECTORY (FD_WORK):      /data/reddylab/Kuei/work\n",
      "DATA DIRECTORY (FD_DATA):      /data/reddylab/Kuei/data\n",
      "CONTAINER DIR. (FD_SING):      /data/reddylab/Kuei/container\n",
      "\n",
      "You are working with           ENCODE FCC\n",
      "PATH OF PROJECT (FD_PRJ):      /data/reddylab/Kuei/repo/Proj_ENCODE_FCC\n",
      "PROJECT RESULTS (FD_RES):      /data/reddylab/Kuei/repo/Proj_ENCODE_FCC/results\n",
      "PROJECT SCRIPTS (FD_EXE):      /data/reddylab/Kuei/repo/Proj_ENCODE_FCC/scripts\n",
      "PROJECT DATA    (FD_DAT):      /data/reddylab/Kuei/repo/Proj_ENCODE_FCC/data\n",
      "PROJECT NOTE    (FD_NBK):      /data/reddylab/Kuei/repo/Proj_ENCODE_FCC/notebooks\n",
      "PROJECT DOCS    (FD_DOC):      /data/reddylab/Kuei/repo/Proj_ENCODE_FCC/docs\n",
      "PROJECT LOG     (FD_LOG):      /data/reddylab/Kuei/repo/Proj_ENCODE_FCC/log\n",
      "PROJECT REF     (FD_REF):      /data/reddylab/Kuei/repo/Proj_ENCODE_FCC/references\n",
      "PROJECT IMAGE   (FP_PRJ_SIF):  /data/reddylab/Kuei/container/project/singularity_proj_encode_fcc.sif\n",
      "PROJECT CONF.   (FP_CNF):      /data/reddylab/Kuei/repo/Proj_ENCODE_FCC/scripts/config_project.sh\n",
      "\n"
     ]
    }
   ],
   "source": [
    "source ../run_config_project.sh\n",
    "show_env"
   ]
  },
  {
   "cell_type": "markdown",
   "id": "4661b22f-53b6-4cf6-9a48-cb965e86fb83",
   "metadata": {},
   "source": [
    "**Global variables**"
   ]
  },
  {
   "cell_type": "code",
   "execution_count": 2,
   "id": "8650a61b-3a07-4648-80ea-f741ccf1e9f0",
   "metadata": {},
   "outputs": [],
   "source": [
    "FD_OUT=${FD_DAT}/external/encode_chipseq_tf_250108"
   ]
  },
  {
   "cell_type": "markdown",
   "id": "698fd986-f8b4-4949-9dc2-eccafb9ba57e",
   "metadata": {},
   "source": [
    "## Prepare"
   ]
  },
  {
   "cell_type": "code",
   "execution_count": 3,
   "id": "45b29e0b-4973-4d99-9331-313d7ab75616",
   "metadata": {},
   "outputs": [
    {
     "name": "stdout",
     "output_type": "stream",
     "text": [
      "checksum_md5sum.txt  \u001b[0m\u001b[01;31mENCFF318ZUN.bed.gz\u001b[0m  \u001b[01;31mENCFF588GNU.bed.gz\u001b[0m  \u001b[01;31mENCFF866ARI.bed.gz\u001b[0m\n",
      "ENCFF010PUM.bigWig   ENCFF325ACI.bigWig  \u001b[01;31mENCFF589PZO.bed.gz\u001b[0m  ENCFF885JPB.bigWig\n",
      "ENCFF014CIM.bigWig   \u001b[01;31mENCFF326CIT.bed.gz\u001b[0m  \u001b[01;31mENCFF596HNP.bed.gz\u001b[0m  \u001b[01;31mENCFF886BDQ.bed.gz\u001b[0m\n",
      "ENCFF025UPR.bigWig   ENCFF327JLU.bigWig  \u001b[01;31mENCFF608CXN.bed.gz\u001b[0m  \u001b[01;31mENCFF891OQP.bed.gz\u001b[0m\n",
      "ENCFF033EVS.bigWig   ENCFF331URE.bigWig  \u001b[01;31mENCFF611FTI.bed.gz\u001b[0m  ENCFF896RLT.bigWig\n",
      "\u001b[01;31mENCFF034SWM.bed.gz\u001b[0m   ENCFF342RGK.bigWig  ENCFF612SLN.bigWig  ENCFF913JYP.bigWig\n",
      "\u001b[01;31mENCFF051FNO.bed.gz\u001b[0m   ENCFF342TQS.bigWig  ENCFF617VKX.bigWig  \u001b[01;31mENCFF917HUH.bed.gz\u001b[0m\n",
      "ENCFF060LXS.bigWig   ENCFF346NDO.bigWig  ENCFF646TMK.bigWig  \u001b[01;31mENCFF923GDR.bed.gz\u001b[0m\n",
      "ENCFF064AVI.bigWig   ENCFF358PCF.bigWig  ENCFF650LHK.bigWig  ENCFF927TDC.bigWig\n",
      "\u001b[01;31mENCFF068IGH.bed.gz\u001b[0m   ENCFF376XVE.bigWig  \u001b[01;31mENCFF657CTC.bed.gz\u001b[0m  \u001b[01;31mENCFF930WPG.bed.gz\u001b[0m\n",
      "ENCFF072OQK.bigWig   ENCFF377CPT.bigWig  ENCFF670MPV.bigWig  \u001b[01;31mENCFF932KRN.bed.gz\u001b[0m\n",
      "\u001b[01;31mENCFF093BBG.bed.gz\u001b[0m   \u001b[01;31mENCFF380KJB.bed.gz\u001b[0m  \u001b[01;31mENCFF672PJF.bed.gz\u001b[0m  \u001b[01;31mENCFF947AEO.bed.gz\u001b[0m\n",
      "\u001b[01;31mENCFF107SJD.bed.gz\u001b[0m   \u001b[01;31mENCFF398UQZ.bed.gz\u001b[0m  ENCFF673QCO.bigWig  \u001b[01;31mENCFF971YTJ.bed.gz\u001b[0m\n",
      "ENCFF114SLT.bigWig   \u001b[01;31mENCFF408NUX.bed.gz\u001b[0m  \u001b[01;31mENCFF688TNZ.bed.gz\u001b[0m  ENCFF982FCY.bigWig\n",
      "\u001b[01;31mENCFF118ATD.bed.gz\u001b[0m   \u001b[01;31mENCFF410SWS.bed.gz\u001b[0m  ENCFF700NBW.bigWig  \u001b[01;31mENCFF985QBS.bed.gz\u001b[0m\n",
      "\u001b[01;31mENCFF118ECK.bed.gz\u001b[0m   ENCFF424QKM.bigWig  ENCFF707JZE.bigWig  ENCFF992YAL.bigWig\n",
      "ENCFF127BNU.bigWig   ENCFF433VSV.bigWig  \u001b[01;31mENCFF707MDI.bed.gz\u001b[0m  ENCFF995HPN.bigWig\n",
      "ENCFF140BXD.bigWig   \u001b[01;31mENCFF435MHH.bed.gz\u001b[0m  ENCFF713BBY.bigWig  files_bed.txt\n",
      "\u001b[01;31mENCFF142MJD.bed.gz\u001b[0m   ENCFF448BAC.bigWig  ENCFF719XTU.bigWig  files_bwg.01.txt\n",
      "\u001b[01;31mENCFF146GZZ.bed.gz\u001b[0m   \u001b[01;31mENCFF474PRJ.bed.gz\u001b[0m  \u001b[01;31mENCFF722UJW.bed.gz\u001b[0m  files_bwg.02.txt\n",
      "ENCFF163JPZ.bigWig   ENCFF490BCW.bigWig  ENCFF751VAA.bigWig  files_bwg.03.txt\n",
      "\u001b[01;31mENCFF171NEU.bed.gz\u001b[0m   \u001b[01;31mENCFF493LZB.bed.gz\u001b[0m  \u001b[01;31mENCFF769AUF.bed.gz\u001b[0m  files_bwg.04.txt\n",
      "\u001b[01;31mENCFF172CRL.bed.gz\u001b[0m   ENCFF494PCP.bigWig  \u001b[01;31mENCFF772UYI.bed.gz\u001b[0m  files_bwg.05.txt\n",
      "\u001b[01;31mENCFF175YPM.bed.gz\u001b[0m   ENCFF495KOS.bigWig  ENCFF783COJ.bigWig  files_bwg.06.txt\n",
      "ENCFF184FBU.bigWig   \u001b[01;31mENCFF497ISV.bed.gz\u001b[0m  \u001b[01;31mENCFF795AWO.bed.gz\u001b[0m  files_bwg.07.txt\n",
      "\u001b[01;31mENCFF193LLN.bed.gz\u001b[0m   \u001b[01;31mENCFF500BWO.bed.gz\u001b[0m  ENCFF797CES.bigWig  files_bwg.08.txt\n",
      "\u001b[01;31mENCFF206BGR.bed.gz\u001b[0m   ENCFF529CSD.bigWig  ENCFF798FSS.bigWig  files_bwg.09.txt\n",
      "\u001b[01;31mENCFF206LMB.bed.gz\u001b[0m   ENCFF530IWB.bigWig  ENCFF806ERE.bigWig  files_bwg.10.txt\n",
      "ENCFF211RPU.bigWig   \u001b[01;31mENCFF532VPN.bed.gz\u001b[0m  \u001b[01;31mENCFF807FNB.bed.gz\u001b[0m  files_bwg.11.txt\n",
      "\u001b[01;31mENCFF217ACS.bed.gz\u001b[0m   ENCFF538LAN.bigWig  \u001b[01;31mENCFF816AEF.bed.gz\u001b[0m  files_bwg.12.txt\n",
      "\u001b[01;31mENCFF217LXF.bed.gz\u001b[0m   \u001b[01;31mENCFF539MIO.bed.gz\u001b[0m  ENCFF817NXE.bigWig  files_bwg.13.txt\n",
      "ENCFF220RDW.bigWig   ENCFF542OFH.bigWig  ENCFF822GGJ.bigWig  files_bwg.14.txt\n",
      "ENCFF223RME.bigWig   ENCFF547AGX.bigWig  \u001b[01;31mENCFF831NDQ.bed.gz\u001b[0m  files_bwg.15.txt\n",
      "\u001b[01;31mENCFF227HVU.bed.gz\u001b[0m   ENCFF553YRE.bigWig  \u001b[01;31mENCFF832DBU.bed.gz\u001b[0m  files_bwg.16.txt\n",
      "ENCFF227NJB.bigWig   \u001b[01;31mENCFF555IKI.bed.gz\u001b[0m  \u001b[01;31mENCFF840NZE.bed.gz\u001b[0m  files_bwg.17.txt\n",
      "ENCFF246JLN.bigWig   \u001b[01;31mENCFF559MTF.bed.gz\u001b[0m  ENCFF843DKK.bigWig  files_bwg.18.txt\n",
      "\u001b[01;31mENCFF250MUC.bed.gz\u001b[0m   ENCFF559WCY.bigWig  \u001b[01;31mENCFF843NBV.bed.gz\u001b[0m  files_bwg.19.txt\n",
      "ENCFF253NTK.bigWig   ENCFF563XMY.bigWig  ENCFF843VFX.bigWig  files_bwg.20.txt\n",
      "\u001b[01;31mENCFF266MUT.bed.gz\u001b[0m   \u001b[01;31mENCFF568ZPW.bed.gz\u001b[0m  ENCFF843WTJ.bigWig  files.txt\n",
      "\u001b[01;31mENCFF273KIA.bed.gz\u001b[0m   ENCFF579ARY.bigWig  ENCFF845HTM.bigWig\n",
      "ENCFF293QAG.bigWig   \u001b[01;31mENCFF582SNT.bed.gz\u001b[0m  \u001b[01;31mENCFF852ZRK.bed.gz\u001b[0m\n",
      "\u001b[01;31mENCFF306SZL.bed.gz\u001b[0m   \u001b[01;31mENCFF588CXX.bed.gz\u001b[0m  \u001b[01;31mENCFF865UPM.bed.gz\u001b[0m\n"
     ]
    }
   ],
   "source": [
    "ls ${FD_OUT}"
   ]
  },
  {
   "cell_type": "code",
   "execution_count": 4,
   "id": "f068e425-bd60-4066-85ca-6a9d0a51d1eb",
   "metadata": {},
   "outputs": [
    {
     "name": "stdout",
     "output_type": "stream",
     "text": [
      "files.chipseq_tf.default_files.241223.txt\n",
      "files.chipseq_tf.default_files.250108.txt\n",
      "metadata.chipseq_tf.default_files.241223.tsv\n",
      "metadata.chipseq_tf.default_files.250108.tsv\n",
      "Readme.md\n"
     ]
    }
   ],
   "source": [
    "ls ${FD_REF}/encode_chipseq_tf"
   ]
  },
  {
   "cell_type": "code",
   "execution_count": 5,
   "id": "6855e581-b96a-41e0-9244-8d90d10e11a8",
   "metadata": {},
   "outputs": [
    {
     "name": "stdout",
     "output_type": "stream",
     "text": [
      "1440 /data/reddylab/Kuei/repo/Proj_ENCODE_FCC/data/external/encode_chipseq_tf_250108/files.txt\n"
     ]
    }
   ],
   "source": [
    "wc -l ${FD_OUT}/files.txt"
   ]
  },
  {
   "cell_type": "code",
   "execution_count": 6,
   "id": "47b77c73-7836-4cc1-9432-1d144b14b8c0",
   "metadata": {},
   "outputs": [
    {
     "name": "stdout",
     "output_type": "stream",
     "text": [
      "https://www.encodeproject.org/files/ENCFF982FCY/@@download/ENCFF982FCY.bigWig\n",
      "https://www.encodeproject.org/files/ENCFF227HVU/@@download/ENCFF227HVU.bed.gz\n",
      "https://www.encodeproject.org/files/ENCFF448BAC/@@download/ENCFF448BAC.bigWig\n",
      "https://www.encodeproject.org/files/ENCFF832DBU/@@download/ENCFF832DBU.bed.gz\n",
      "https://www.encodeproject.org/files/ENCFF495KOS/@@download/ENCFF495KOS.bigWig\n",
      "https://www.encodeproject.org/files/ENCFF410SWS/@@download/ENCFF410SWS.bed.gz\n",
      "https://www.encodeproject.org/files/ENCFF325ACI/@@download/ENCFF325ACI.bigWig\n",
      "https://www.encodeproject.org/files/ENCFF795AWO/@@download/ENCFF795AWO.bed.gz\n",
      "https://www.encodeproject.org/files/ENCFF843WTJ/@@download/ENCFF843WTJ.bigWig\n",
      "https://www.encodeproject.org/files/ENCFF318ZUN/@@download/ENCFF318ZUN.bed.gz\n"
     ]
    }
   ],
   "source": [
    "head ${FD_OUT}/files.txt"
   ]
  },
  {
   "cell_type": "markdown",
   "id": "18182b3f-eb53-42a6-9a89-51975dd7d961",
   "metadata": {},
   "source": [
    "## Download script"
   ]
  },
  {
   "cell_type": "code",
   "execution_count": 6,
   "id": "2d466c1e-b21b-473b-acf0-71e349f1ed7d",
   "metadata": {},
   "outputs": [
    {
     "name": "stdout",
     "output_type": "stream",
     "text": [
      "/data/reddylab/Kuei/repo/Proj_ENCODE_FCC/scripts\n"
     ]
    }
   ],
   "source": [
    "echo ${FD_EXE}"
   ]
  },
  {
   "cell_type": "code",
   "execution_count": 20,
   "id": "2c502a76-4453-4a19-872e-f874aed470cd",
   "metadata": {},
   "outputs": [],
   "source": [
    "FN_EXE=run_download_files.sh\n",
    "FP_EXE=${FD_EXE}/${FN_EXE}\n",
    "\n",
    "cat > ${FP_EXE} << 'EOF'\n",
    "#!/bin/bash\n",
    "\n",
    "### print start message\n",
    "timer_start=`date +%s`\n",
    "echo \"Hostname:          \" $(hostname)\n",
    "echo \"Slurm Array Index: \" ${SLURM_ARRAY_TASK_ID}\n",
    "echo \"Time Stamp:        \" $(date +\"%m-%d-%y+%T\")\n",
    "echo\n",
    "\n",
    "### get arguments\n",
    "FP_CNF=${1}\n",
    "FD_DOWNLOAD_DIRECTORY=${2}\n",
    "FP_DOWNLOAD_FILE_LIST=${3}\n",
    "\n",
    "### set environment\n",
    "source ${FP_CNF}\n",
    "\n",
    "### show I/O\n",
    "cd   ${FD_DOWNLOAD_DIRECTORY}\n",
    "echo \"Change directory:\"\n",
    "echo $(pwd)\n",
    "echo\n",
    "\n",
    "### execute: download file\n",
    "echo \"Download files...\"\n",
    "xargs -L 1 curl -O -J -L < ${FP_DOWNLOAD_FILE_LIST}\n",
    "echo\n",
    "\n",
    "### print end message\n",
    "timer=`date +%s`\n",
    "runtime=$(echo \"${timer} - ${timer_start}\" | bc -l)\n",
    "echo\n",
    "echo 'Done!'\n",
    "echo \"Run Time: $(displaytime ${runtime})\"\n",
    "echo\n",
    "EOF\n",
    "chmod +x ${FP_EXE}"
   ]
  },
  {
   "cell_type": "code",
   "execution_count": 38,
   "id": "07f20273-5872-488e-a9ec-c4a0a5236fe8",
   "metadata": {},
   "outputs": [],
   "source": [
    "FN_EXE=run_checksum_files.sh\n",
    "FP_EXE=${FD_EXE}/${FN_EXE}\n",
    "\n",
    "cat > ${FP_EXE} << 'EOF'\n",
    "#!/bin/bash\n",
    "\n",
    "### print start message\n",
    "timer_start=`date +%s`\n",
    "echo \"Hostname:          \" $(hostname)\n",
    "echo \"Slurm Array Index: \" ${SLURM_ARRAY_TASK_ID}\n",
    "echo \"Time Stamp:        \" $(date +\"%m-%d-%y+%T\")\n",
    "echo\n",
    "\n",
    "### get arguments\n",
    "FP_CNF=${1}\n",
    "FD_CHECKSUM=${2}\n",
    "FP_CHECKSUM_INP=${3}\n",
    "FP_CHECKSUM_OUT=${4}\n",
    "\n",
    "### set environment\n",
    "source ${FP_CNF}\n",
    "\n",
    "### show I/O\n",
    "cd   ${FD_CHECKSUM}\n",
    "echo \"Change directory:\"\n",
    "echo $(pwd)\n",
    "echo\n",
    "\n",
    "### execute: checksum\n",
    "echo \"Checksum files...\"\n",
    "md5sum -c ${FP_CHECKSUM_INP} > ${FP_CHECKSUM_OUT}\n",
    "echo\n",
    "\n",
    "### print end message\n",
    "timer=`date +%s`\n",
    "runtime=$(echo \"${timer} - ${timer_start}\" | bc -l)\n",
    "echo\n",
    "echo 'Done!'\n",
    "echo \"Run Time: $(displaytime ${runtime})\"\n",
    "echo\n",
    "EOF\n",
    "chmod +x ${FP_EXE}"
   ]
  },
  {
   "cell_type": "markdown",
   "id": "2fe8a050-3046-40d0-975f-9e106cba28b2",
   "metadata": {},
   "source": [
    "## Execute"
   ]
  },
  {
   "cell_type": "code",
   "execution_count": 21,
   "id": "f4e8665e-3f31-4bc9-ba89-25a0eb39b731",
   "metadata": {},
   "outputs": [
    {
     "name": "stdout",
     "output_type": "stream",
     "text": [
      "/data/reddylab/Kuei/repo/Proj_ENCODE_FCC/scripts/config_project.sh\n"
     ]
    }
   ],
   "source": [
    "echo ${FP_CNF}"
   ]
  },
  {
   "cell_type": "code",
   "execution_count": 22,
   "id": "acfe0dcc-b526-4e33-b63d-107717a3e06f",
   "metadata": {},
   "outputs": [
    {
     "name": "stdout",
     "output_type": "stream",
     "text": [
      "/data/reddylab/Kuei/repo/Proj_ENCODE_FCC/data/external/encode_chipseq_tf_250108/files_bed.txt\n",
      "/data/reddylab/Kuei/repo/Proj_ENCODE_FCC/data/external/encode_chipseq_tf_250108/files_bwg.01.txt\n",
      "/data/reddylab/Kuei/repo/Proj_ENCODE_FCC/data/external/encode_chipseq_tf_250108/files_bwg.02.txt\n",
      "/data/reddylab/Kuei/repo/Proj_ENCODE_FCC/data/external/encode_chipseq_tf_250108/files_bwg.03.txt\n",
      "/data/reddylab/Kuei/repo/Proj_ENCODE_FCC/data/external/encode_chipseq_tf_250108/files_bwg.04.txt\n",
      "/data/reddylab/Kuei/repo/Proj_ENCODE_FCC/data/external/encode_chipseq_tf_250108/files_bwg.05.txt\n",
      "/data/reddylab/Kuei/repo/Proj_ENCODE_FCC/data/external/encode_chipseq_tf_250108/files_bwg.06.txt\n",
      "/data/reddylab/Kuei/repo/Proj_ENCODE_FCC/data/external/encode_chipseq_tf_250108/files_bwg.07.txt\n",
      "/data/reddylab/Kuei/repo/Proj_ENCODE_FCC/data/external/encode_chipseq_tf_250108/files_bwg.08.txt\n",
      "/data/reddylab/Kuei/repo/Proj_ENCODE_FCC/data/external/encode_chipseq_tf_250108/files_bwg.09.txt\n",
      "/data/reddylab/Kuei/repo/Proj_ENCODE_FCC/data/external/encode_chipseq_tf_250108/files_bwg.10.txt\n",
      "/data/reddylab/Kuei/repo/Proj_ENCODE_FCC/data/external/encode_chipseq_tf_250108/files_bwg.11.txt\n",
      "/data/reddylab/Kuei/repo/Proj_ENCODE_FCC/data/external/encode_chipseq_tf_250108/files_bwg.12.txt\n",
      "/data/reddylab/Kuei/repo/Proj_ENCODE_FCC/data/external/encode_chipseq_tf_250108/files_bwg.13.txt\n",
      "/data/reddylab/Kuei/repo/Proj_ENCODE_FCC/data/external/encode_chipseq_tf_250108/files_bwg.14.txt\n",
      "/data/reddylab/Kuei/repo/Proj_ENCODE_FCC/data/external/encode_chipseq_tf_250108/files_bwg.15.txt\n",
      "/data/reddylab/Kuei/repo/Proj_ENCODE_FCC/data/external/encode_chipseq_tf_250108/files_bwg.16.txt\n",
      "/data/reddylab/Kuei/repo/Proj_ENCODE_FCC/data/external/encode_chipseq_tf_250108/files_bwg.17.txt\n",
      "/data/reddylab/Kuei/repo/Proj_ENCODE_FCC/data/external/encode_chipseq_tf_250108/files_bwg.18.txt\n",
      "/data/reddylab/Kuei/repo/Proj_ENCODE_FCC/data/external/encode_chipseq_tf_250108/files_bwg.19.txt\n",
      "/data/reddylab/Kuei/repo/Proj_ENCODE_FCC/data/external/encode_chipseq_tf_250108/files_bwg.20.txt\n",
      "/data/reddylab/Kuei/repo/Proj_ENCODE_FCC/data/external/encode_chipseq_tf_250108/files.txt\n"
     ]
    }
   ],
   "source": [
    "ls ${FD_OUT}/file*txt"
   ]
  },
  {
   "cell_type": "code",
   "execution_count": 23,
   "id": "41d91c73-3206-4e5f-b61f-2343c92a67ac",
   "metadata": {},
   "outputs": [
    {
     "name": "stdout",
     "output_type": "stream",
     "text": [
      "Submitted batch job 65155\n"
     ]
    }
   ],
   "source": [
    "FN_EXE=run_download_files.sh\n",
    "FP_EXE=${FD_EXE}/${FN_EXE}\n",
    "\n",
    "FN_LOG=download.encode_chipseq_tf.bed.txt\n",
    "FP_LOG=${FD_LOG}/${FN_LOG}\n",
    "\n",
    "sbatch \\\n",
    "    --cpus-per-task 4 \\\n",
    "    --mem 4G \\\n",
    "    --output ${FP_LOG} \\\n",
    "    ${FP_EXE} ${FP_CNF} ${FD_OUT} ${FD_OUT}/files_bed.txt"
   ]
  },
  {
   "cell_type": "code",
   "execution_count": 35,
   "id": "d24e6714-268c-4bec-9628-858a37f342ce",
   "metadata": {},
   "outputs": [
    {
     "name": "stdout",
     "output_type": "stream",
     "text": [
      "download.encode_chipseq_tf.files_bwg.01.txt.txt\n",
      "https://www.encodeproject.org/files/ENCFF376XVE/@@download/ENCFF376XVE.bigWig\n",
      "https://www.encodeproject.org/files/ENCFF670MPV/@@download/ENCFF670MPV.bigWig\n",
      "https://www.encodeproject.org/files/ENCFF025UPR/@@download/ENCFF025UPR.bigWig\n",
      "\n",
      "download.encode_chipseq_tf.files_bwg.02.txt.txt\n",
      "https://www.encodeproject.org/files/ENCFF982FCY/@@download/ENCFF982FCY.bigWig\n",
      "https://www.encodeproject.org/files/ENCFF494PCP/@@download/ENCFF494PCP.bigWig\n",
      "https://www.encodeproject.org/files/ENCFF346NDO/@@download/ENCFF346NDO.bigWig\n",
      "\n",
      "download.encode_chipseq_tf.files_bwg.03.txt.txt\n",
      "https://www.encodeproject.org/files/ENCFF448BAC/@@download/ENCFF448BAC.bigWig\n",
      "https://www.encodeproject.org/files/ENCFF223RME/@@download/ENCFF223RME.bigWig\n",
      "https://www.encodeproject.org/files/ENCFF060LXS/@@download/ENCFF060LXS.bigWig\n",
      "\n",
      "download.encode_chipseq_tf.files_bwg.04.txt.txt\n",
      "https://www.encodeproject.org/files/ENCFF495KOS/@@download/ENCFF495KOS.bigWig\n",
      "https://www.encodeproject.org/files/ENCFF220RDW/@@download/ENCFF220RDW.bigWig\n",
      "https://www.encodeproject.org/files/ENCFF995HPN/@@download/ENCFF995HPN.bigWig\n",
      "\n",
      "download.encode_chipseq_tf.files_bwg.05.txt.txt\n",
      "https://www.encodeproject.org/files/ENCFF325ACI/@@download/ENCFF325ACI.bigWig\n",
      "https://www.encodeproject.org/files/ENCFF559WCY/@@download/ENCFF559WCY.bigWig\n",
      "https://www.encodeproject.org/files/ENCFF530IWB/@@download/ENCFF530IWB.bigWig\n",
      "\n",
      "download.encode_chipseq_tf.files_bwg.06.txt.txt\n",
      "https://www.encodeproject.org/files/ENCFF843WTJ/@@download/ENCFF843WTJ.bigWig\n",
      "https://www.encodeproject.org/files/ENCFF163JPZ/@@download/ENCFF163JPZ.bigWig\n",
      "https://www.encodeproject.org/files/ENCFF806ERE/@@download/ENCFF806ERE.bigWig\n",
      "\n",
      "download.encode_chipseq_tf.files_bwg.07.txt.txt\n",
      "https://www.encodeproject.org/files/ENCFF563XMY/@@download/ENCFF563XMY.bigWig\n",
      "https://www.encodeproject.org/files/ENCFF327JLU/@@download/ENCFF327JLU.bigWig\n",
      "https://www.encodeproject.org/files/ENCFF707JZE/@@download/ENCFF707JZE.bigWig\n",
      "\n",
      "download.encode_chipseq_tf.files_bwg.08.txt.txt\n",
      "https://www.encodeproject.org/files/ENCFF547AGX/@@download/ENCFF547AGX.bigWig\n",
      "https://www.encodeproject.org/files/ENCFF127BNU/@@download/ENCFF127BNU.bigWig\n",
      "https://www.encodeproject.org/files/ENCFF845HTM/@@download/ENCFF845HTM.bigWig\n",
      "\n",
      "download.encode_chipseq_tf.files_bwg.09.txt.txt\n",
      "https://www.encodeproject.org/files/ENCFF064AVI/@@download/ENCFF064AVI.bigWig\n",
      "https://www.encodeproject.org/files/ENCFF331URE/@@download/ENCFF331URE.bigWig\n",
      "https://www.encodeproject.org/files/ENCFF140BXD/@@download/ENCFF140BXD.bigWig\n",
      "\n",
      "download.encode_chipseq_tf.files_bwg.10.txt.txt\n",
      "https://www.encodeproject.org/files/ENCFF817NXE/@@download/ENCFF817NXE.bigWig\n",
      "https://www.encodeproject.org/files/ENCFF424QKM/@@download/ENCFF424QKM.bigWig\n",
      "https://www.encodeproject.org/files/ENCFF751VAA/@@download/ENCFF751VAA.bigWig\n",
      "\n",
      "download.encode_chipseq_tf.files_bwg.11.txt.txt\n",
      "https://www.encodeproject.org/files/ENCFF579ARY/@@download/ENCFF579ARY.bigWig\n",
      "https://www.encodeproject.org/files/ENCFF843DKK/@@download/ENCFF843DKK.bigWig\n",
      "https://www.encodeproject.org/files/ENCFF377CPT/@@download/ENCFF377CPT.bigWig\n",
      "\n",
      "download.encode_chipseq_tf.files_bwg.12.txt.txt\n",
      "https://www.encodeproject.org/files/ENCFF211RPU/@@download/ENCFF211RPU.bigWig\n",
      "https://www.encodeproject.org/files/ENCFF700NBW/@@download/ENCFF700NBW.bigWig\n",
      "https://www.encodeproject.org/files/ENCFF885JPB/@@download/ENCFF885JPB.bigWig\n",
      "\n",
      "download.encode_chipseq_tf.files_bwg.13.txt.txt\n",
      "https://www.encodeproject.org/files/ENCFF713BBY/@@download/ENCFF713BBY.bigWig\n",
      "https://www.encodeproject.org/files/ENCFF010PUM/@@download/ENCFF010PUM.bigWig\n",
      "https://www.encodeproject.org/files/ENCFF072OQK/@@download/ENCFF072OQK.bigWig\n",
      "\n",
      "download.encode_chipseq_tf.files_bwg.14.txt.txt\n",
      "https://www.encodeproject.org/files/ENCFF114SLT/@@download/ENCFF114SLT.bigWig\n",
      "https://www.encodeproject.org/files/ENCFF014CIM/@@download/ENCFF014CIM.bigWig\n",
      "https://www.encodeproject.org/files/ENCFF719XTU/@@download/ENCFF719XTU.bigWig\n",
      "\n",
      "download.encode_chipseq_tf.files_bwg.15.txt.txt\n",
      "https://www.encodeproject.org/files/ENCFF673QCO/@@download/ENCFF673QCO.bigWig\n",
      "https://www.encodeproject.org/files/ENCFF358PCF/@@download/ENCFF358PCF.bigWig\n",
      "https://www.encodeproject.org/files/ENCFF490BCW/@@download/ENCFF490BCW.bigWig\n",
      "\n",
      "download.encode_chipseq_tf.files_bwg.16.txt.txt\n",
      "https://www.encodeproject.org/files/ENCFF822GGJ/@@download/ENCFF822GGJ.bigWig\n",
      "https://www.encodeproject.org/files/ENCFF843VFX/@@download/ENCFF843VFX.bigWig\n",
      "https://www.encodeproject.org/files/ENCFF927TDC/@@download/ENCFF927TDC.bigWig\n",
      "\n",
      "download.encode_chipseq_tf.files_bwg.17.txt.txt\n",
      "https://www.encodeproject.org/files/ENCFF617VKX/@@download/ENCFF617VKX.bigWig\n",
      "https://www.encodeproject.org/files/ENCFF783COJ/@@download/ENCFF783COJ.bigWig\n",
      "https://www.encodeproject.org/files/ENCFF033EVS/@@download/ENCFF033EVS.bigWig\n",
      "\n",
      "download.encode_chipseq_tf.files_bwg.18.txt.txt\n",
      "https://www.encodeproject.org/files/ENCFF798FSS/@@download/ENCFF798FSS.bigWig\n",
      "https://www.encodeproject.org/files/ENCFF646TMK/@@download/ENCFF646TMK.bigWig\n",
      "https://www.encodeproject.org/files/ENCFF913JYP/@@download/ENCFF913JYP.bigWig\n",
      "\n",
      "download.encode_chipseq_tf.files_bwg.19.txt.txt\n",
      "https://www.encodeproject.org/files/ENCFF612SLN/@@download/ENCFF612SLN.bigWig\n",
      "https://www.encodeproject.org/files/ENCFF797CES/@@download/ENCFF797CES.bigWig\n",
      "https://www.encodeproject.org/files/ENCFF896RLT/@@download/ENCFF896RLT.bigWig\n",
      "\n",
      "download.encode_chipseq_tf.files_bwg.20.txt.txt\n",
      "https://www.encodeproject.org/files/ENCFF342RGK/@@download/ENCFF342RGK.bigWig\n",
      "https://www.encodeproject.org/files/ENCFF184FBU/@@download/ENCFF184FBU.bigWig\n",
      "https://www.encodeproject.org/files/ENCFF227NJB/@@download/ENCFF227NJB.bigWig\n",
      "\n"
     ]
    }
   ],
   "source": [
    "FN_EXE=run_download_files.sh\n",
    "FP_EXE=${FD_EXE}/${FN_EXE}\n",
    "\n",
    "FP_INPS=($(ls ${FD_OUT}/files_bwg*txt))\n",
    "for FP_INP in ${FP_INPS[@]}; do\n",
    "\n",
    "    ### set I/O and log files\n",
    "    FN_INP=$(basename ${FP_INP})\n",
    "    FN_LOG=download.encode_chipseq_tf.${FN_INP}.txt\n",
    "    FP_LOG=${FD_LOG}/${FN_LOG}\n",
    "    echo ${FN_LOG}\n",
    "\n",
    "    ### execute\n",
    "    head -n 3 ${FP_INP}\n",
    "    echo\n",
    "done"
   ]
  },
  {
   "cell_type": "code",
   "execution_count": 66,
   "id": "97a8bdb3-51b2-4dc6-ad37-74933afe97ff",
   "metadata": {},
   "outputs": [
    {
     "name": "stdout",
     "output_type": "stream",
     "text": [
      "download.encode_chipseq_tf.files_bwg.01.txt\n",
      "Submitted batch job 65399\n",
      "\n",
      "download.encode_chipseq_tf.files_bwg.02.txt\n",
      "Submitted batch job 65400\n",
      "\n",
      "download.encode_chipseq_tf.files_bwg.03.txt\n",
      "Submitted batch job 65401\n",
      "\n",
      "download.encode_chipseq_tf.files_bwg.04.txt\n",
      "Submitted batch job 65402\n",
      "\n",
      "download.encode_chipseq_tf.files_bwg.05.txt\n",
      "Submitted batch job 65403\n",
      "\n",
      "download.encode_chipseq_tf.files_bwg.06.txt\n",
      "Submitted batch job 65404\n",
      "\n",
      "download.encode_chipseq_tf.files_bwg.07.txt\n",
      "Submitted batch job 65405\n",
      "\n",
      "download.encode_chipseq_tf.files_bwg.08.txt\n",
      "Submitted batch job 65406\n",
      "\n",
      "download.encode_chipseq_tf.files_bwg.09.txt\n",
      "Submitted batch job 65407\n",
      "\n",
      "download.encode_chipseq_tf.files_bwg.10.txt\n",
      "Submitted batch job 65408\n",
      "\n",
      "download.encode_chipseq_tf.files_bwg.11.txt\n",
      "Submitted batch job 65409\n",
      "\n",
      "download.encode_chipseq_tf.files_bwg.12.txt\n",
      "Submitted batch job 65410\n",
      "\n",
      "download.encode_chipseq_tf.files_bwg.13.txt\n",
      "Submitted batch job 65411\n",
      "\n",
      "download.encode_chipseq_tf.files_bwg.14.txt\n",
      "Submitted batch job 65412\n",
      "\n",
      "download.encode_chipseq_tf.files_bwg.15.txt\n",
      "Submitted batch job 65413\n",
      "\n",
      "download.encode_chipseq_tf.files_bwg.16.txt\n",
      "Submitted batch job 65414\n",
      "\n",
      "download.encode_chipseq_tf.files_bwg.17.txt\n",
      "Submitted batch job 65415\n",
      "\n",
      "download.encode_chipseq_tf.files_bwg.18.txt\n",
      "Submitted batch job 65416\n",
      "\n",
      "download.encode_chipseq_tf.files_bwg.19.txt\n",
      "Submitted batch job 65417\n",
      "\n",
      "download.encode_chipseq_tf.files_bwg.20.txt\n",
      "Submitted batch job 65418\n",
      "\n"
     ]
    }
   ],
   "source": [
    "FN_EXE=run_download_files.sh\n",
    "FP_EXE=${FD_EXE}/${FN_EXE}\n",
    "\n",
    "FP_INPS=($(ls ${FD_OUT}/files_bwg*txt))\n",
    "for FP_INP in ${FP_INPS[@]}; do\n",
    "\n",
    "    ### set I/O and log files\n",
    "    FN_INP=$(basename ${FP_INP})\n",
    "    FN_LOG=download.encode_chipseq_tf.${FN_INP}\n",
    "    FP_LOG=${FD_LOG}/${FN_LOG}\n",
    "    echo ${FN_LOG}\n",
    "\n",
    "    ### execute\n",
    "    sbatch \\\n",
    "        --cpus-per-task 4 \\\n",
    "        --mem 4G \\\n",
    "        --output ${FP_LOG} \\\n",
    "        ${FP_EXE} ${FP_CNF} ${FD_OUT} ${FP_INP}\n",
    "    echo\n",
    "done"
   ]
  },
  {
   "cell_type": "code",
   "execution_count": 65,
   "id": "bf651482-95ae-40bb-97ae-50a7f8faf2d0",
   "metadata": {},
   "outputs": [],
   "source": [
    "scancel {65254..65273}"
   ]
  },
  {
   "cell_type": "code",
   "execution_count": 68,
   "id": "4858f750-4ddf-46f8-bd82-14405569d8ab",
   "metadata": {},
   "outputs": [
    {
     "name": "stdout",
     "output_type": "stream",
     "text": [
      "540\n"
     ]
    }
   ],
   "source": [
    "ls -1 ${FD_OUT}/*bigWig | wc -l"
   ]
  },
  {
   "cell_type": "code",
   "execution_count": 39,
   "id": "4d355310-014b-46fd-86d2-3f9f73aeb7c6",
   "metadata": {},
   "outputs": [
    {
     "name": "stdout",
     "output_type": "stream",
     "text": [
      "/data/reddylab/Kuei/repo/Proj_ENCODE_FCC/data/external/encode_chipseq_tf_250108/checksum_md5sum.bed.txt\n",
      "/data/reddylab/Kuei/repo/Proj_ENCODE_FCC/data/external/encode_chipseq_tf_250108/checksum_md5sum.txt\n",
      "/data/reddylab/Kuei/repo/Proj_ENCODE_FCC/data/external/encode_chipseq_tf_250108/files_bed.txt\n",
      "/data/reddylab/Kuei/repo/Proj_ENCODE_FCC/data/external/encode_chipseq_tf_250108/files_bwg.01.txt\n",
      "/data/reddylab/Kuei/repo/Proj_ENCODE_FCC/data/external/encode_chipseq_tf_250108/files_bwg.02.txt\n",
      "/data/reddylab/Kuei/repo/Proj_ENCODE_FCC/data/external/encode_chipseq_tf_250108/files_bwg.03.txt\n",
      "/data/reddylab/Kuei/repo/Proj_ENCODE_FCC/data/external/encode_chipseq_tf_250108/files_bwg.04.txt\n",
      "/data/reddylab/Kuei/repo/Proj_ENCODE_FCC/data/external/encode_chipseq_tf_250108/files_bwg.05.txt\n",
      "/data/reddylab/Kuei/repo/Proj_ENCODE_FCC/data/external/encode_chipseq_tf_250108/files_bwg.06.txt\n",
      "/data/reddylab/Kuei/repo/Proj_ENCODE_FCC/data/external/encode_chipseq_tf_250108/files_bwg.07.txt\n",
      "/data/reddylab/Kuei/repo/Proj_ENCODE_FCC/data/external/encode_chipseq_tf_250108/files_bwg.08.txt\n",
      "/data/reddylab/Kuei/repo/Proj_ENCODE_FCC/data/external/encode_chipseq_tf_250108/files_bwg.09.txt\n",
      "/data/reddylab/Kuei/repo/Proj_ENCODE_FCC/data/external/encode_chipseq_tf_250108/files_bwg.10.txt\n",
      "/data/reddylab/Kuei/repo/Proj_ENCODE_FCC/data/external/encode_chipseq_tf_250108/files_bwg.11.txt\n",
      "/data/reddylab/Kuei/repo/Proj_ENCODE_FCC/data/external/encode_chipseq_tf_250108/files_bwg.12.txt\n",
      "/data/reddylab/Kuei/repo/Proj_ENCODE_FCC/data/external/encode_chipseq_tf_250108/files_bwg.13.txt\n",
      "/data/reddylab/Kuei/repo/Proj_ENCODE_FCC/data/external/encode_chipseq_tf_250108/files_bwg.14.txt\n",
      "/data/reddylab/Kuei/repo/Proj_ENCODE_FCC/data/external/encode_chipseq_tf_250108/files_bwg.15.txt\n",
      "/data/reddylab/Kuei/repo/Proj_ENCODE_FCC/data/external/encode_chipseq_tf_250108/files_bwg.16.txt\n",
      "/data/reddylab/Kuei/repo/Proj_ENCODE_FCC/data/external/encode_chipseq_tf_250108/files_bwg.17.txt\n",
      "/data/reddylab/Kuei/repo/Proj_ENCODE_FCC/data/external/encode_chipseq_tf_250108/files_bwg.18.txt\n",
      "/data/reddylab/Kuei/repo/Proj_ENCODE_FCC/data/external/encode_chipseq_tf_250108/files_bwg.19.txt\n",
      "/data/reddylab/Kuei/repo/Proj_ENCODE_FCC/data/external/encode_chipseq_tf_250108/files_bwg.20.txt\n",
      "/data/reddylab/Kuei/repo/Proj_ENCODE_FCC/data/external/encode_chipseq_tf_250108/files.txt\n"
     ]
    }
   ],
   "source": [
    "ls ${FD_OUT}/*txt"
   ]
  },
  {
   "cell_type": "code",
   "execution_count": 40,
   "id": "37672e17-1359-456c-b084-bc7419848aea",
   "metadata": {},
   "outputs": [
    {
     "name": "stdout",
     "output_type": "stream",
     "text": [
      "Submitted batch job 65177\n"
     ]
    }
   ],
   "source": [
    "FN_EXE=run_checksum_files.sh\n",
    "FP_EXE=${FD_EXE}/${FN_EXE}\n",
    "\n",
    "FN_LOG=checksum.encode_chipseq_tf.bed.txt\n",
    "FP_LOG=${FD_LOG}/${FN_LOG}\n",
    "\n",
    "sbatch \\\n",
    "    --cpus-per-task 4 \\\n",
    "    --mem 4G \\\n",
    "    --output ${FP_LOG} \\\n",
    "    ${FP_EXE} ${FP_CNF} ${FD_OUT} ${FD_OUT}/checksum_md5sum.bed.txt ${FD_OUT}/checksum_results.bed.txt"
   ]
  },
  {
   "cell_type": "code",
   "execution_count": null,
   "id": "772c21b0-a1a3-47e9-91a3-d4fafd493a8b",
   "metadata": {},
   "outputs": [],
   "source": []
  },
  {
   "cell_type": "code",
   "execution_count": 46,
   "id": "317ee800-fdde-40f7-9f94-e85375c49ad2",
   "metadata": {},
   "outputs": [
    {
     "name": "stdout",
     "output_type": "stream",
     "text": [
      "ENCFF227HVU.bed.gz: OK\n",
      "ENCFF832DBU.bed.gz: OK\n",
      "ENCFF410SWS.bed.gz: OK\n",
      "ENCFF795AWO.bed.gz: OK\n",
      "ENCFF318ZUN.bed.gz: OK\n",
      "ENCFF843NBV.bed.gz: OK\n",
      "ENCFF588CXX.bed.gz: OK\n",
      "ENCFF435MHH.bed.gz: OK\n",
      "ENCFF118ATD.bed.gz: OK\n",
      "ENCFF118ECK.bed.gz: OK\n"
     ]
    }
   ],
   "source": [
    "head ${FD_OUT}/checksum_results.bed.txt"
   ]
  },
  {
   "cell_type": "code",
   "execution_count": 47,
   "id": "7c58a3d4-dc0a-4219-a17d-fd9c2ecb7bf1",
   "metadata": {},
   "outputs": [
    {
     "name": "stdout",
     "output_type": "stream",
     "text": [
      "ENCFF529SRS.bed.gz: OK\n",
      "ENCFF096AYV.bed.gz: OK\n",
      "ENCFF885HJI.bed.gz: OK\n",
      "ENCFF269PAM.bed.gz: OK\n",
      "ENCFF382CUT.bed.gz: OK\n",
      "ENCFF021JCJ.bed.gz: OK\n",
      "ENCFF778UHP.bed.gz: OK\n",
      "ENCFF253UAF.bed.gz: OK\n",
      "ENCFF660GHM.bed.gz: OK\n",
      "ENCFF549NPY.bed.gz: OK\n"
     ]
    }
   ],
   "source": [
    "tail ${FD_OUT}/checksum_results.bed.txt"
   ]
  },
  {
   "cell_type": "code",
   "execution_count": 50,
   "id": "413e9074-24a2-4cc9-8176-b689c5c3ec7d",
   "metadata": {},
   "outputs": [
    {
     "name": "stdout",
     "output_type": "stream",
     "text": [
      "All PASSED\n"
     ]
    }
   ],
   "source": [
    "cat ${FD_OUT}/checksum_results.bed.txt | grep \"FAILED\" && echo \"FAILED\" || echo \"All PASSED\""
   ]
  },
  {
   "cell_type": "code",
   "execution_count": null,
   "id": "2bc7db19-277e-4655-a236-0a094fa72851",
   "metadata": {},
   "outputs": [],
   "source": []
  },
  {
   "cell_type": "code",
   "execution_count": 41,
   "id": "7ab40f7f-1bb9-4d00-9454-bd5023e25467",
   "metadata": {},
   "outputs": [
    {
     "name": "stdout",
     "output_type": "stream",
     "text": [
      "Hostname:           plp-rcc-node-05\n",
      "Slurm Array Index: \n",
      "Time Stamp:         01-08-25+22:38:11\n",
      "\n",
      "Change directory:\n",
      "/data/reddylab/Kuei/repo/Proj_ENCODE_FCC/data/external/encode_chipseq_tf_250108\n",
      "\n",
      "Checksum files...\n",
      "\n",
      "\n",
      "Done!\n",
      "Run Time: 1 seconds\n",
      "\n"
     ]
    }
   ],
   "source": [
    "cat ${FP_LOG}"
   ]
  },
  {
   "cell_type": "code",
   "execution_count": 60,
   "id": "4fc51f60-9e09-48f8-a1b0-d3c914d70eed",
   "metadata": {},
   "outputs": [
    {
     "name": "stdout",
     "output_type": "stream",
     "text": [
      "  0     0    0     0    0     0      0      0 --:--:--  0:00:01 --:--:--     0  0 1019M    0 1426k    0     0   554k      0  0:31:24  0:00:02  0:31:22 1348k  0 1019M    0 6551k    0     0  1871k      0  0:09:18  0:00:03  0:09:15 3298k  1 1019M    1 16.6M    0     0  3799k      0  0:04:34  0:00:04  0:04:30 5734k  3 1019M    3 33.0M    0     0  6172k      0  0:02:49  0:00:05  0:02:44 8523k  6 1019M    6 61.3M    0     0  9681k      0  0:01:47  0:00:06  0:01:41 12.3M  9 1019M    9 94.1M    0     0  12.5M      0  0:01:21  0:00:07  0:01:14 18.9M 12 1019M   12  127M    0     0  15.0M      0  0:01:07  0:00:08  0:00:59 24.3M 15 1019M   15  161M    0     0  16.9M      0  0:00:59  0:00:09  0:00:50 28.9M 18 1019M   18  192M    0     0  18.4M      0  0:00:55  0:00:10  0:00:45 32.0M 22 1019M   22  227M    0     0  19.8M      0  0:00:51  0:00:11  0:00:40 33.3M 25 1019M   25  258M    0     0  20.6M      0  0:00:49  0:00:12  0:00:37 32.7M 28 1019M   28  288M    0     0  21.4M      0  0:00:47  0:00:13  0:00:34 32.2M 31 1019M   31  322M    0     0  22.2M      0  0:00:45  0:00:14  0:00:31 32.1M 34 1019M   34  355M    0     0  22.9M      0  0:00:44  0:00:15  0:00:29 32.4M 38 1019M   38  388M    0     0  23.5M      0  0:00:43  0:00:16  0:00:27 32.0M 41 1019M   41  419M    0     0  23.9M      0  0:00:42  0:00:17  0:00:25 32.3M 44 1019M   44  450M    0     0  24.3M      0  0:00:41  0:00:18  0:00:23 32.4M 47 1019M   47  483M    0     0  24.8M      0  0:00:41  0:00:19  0:00:22 32.2M 50 1019M   50  516M    0     0  25.1M      0  0:00:40  0:00:20  0:00:20 32.0M 53 1019M   53  546M    0     0  25.4M      0  0:00:40  0:00:21  0:00:19 31.7M 56 1019M   56  577M    0     0  25.6M      0  0:00:39  0:00:22  0:00:17 31.4M 59 1019M   59  610M    0     0  25.9M      0  0:00:39  0:00:23  0:00:16 31.8M 63 1019M   63  642M    0     0  26.2M      0  0:00:38  0:00:24  0:00:14 31.7M 66 1019M   66  676M    0     0  26.5M      0  0:00:38  0:00:25  0:00:13 32.0M 69 1019M   69  708M    0     0  26.7M      0  0:00:38  0:00:26  0:00:12 32.3M 72 1019M   72  743M    0     0  27.0M      0  0:00:37  0:00:27  0:00:10 33.2M 75 1019M   75  772M    0     0  27.1M      0  0:00:37  0:00:28  0:00:09 32.3M 78 1019M   78  803M    0     0  27.2M      0  0:00:37  0:00:29  0:00:08 32.0M 81 1019M   81  835M    0     0  27.3M      0  0:00:37  0:00:30  0:00:07 31.8M 84 1019M   84  865M    0     0  27.4M      0  0:00:37  0:00:31  0:00:06 31.5M 88 1019M   88  898M    0     0  27.6M      0  0:00:36  0:00:32  0:00:04 30.9M 91 1019M   91  930M    0     0  27.7M      0  0:00:36  0:00:33  0:00:03 31.6M 94 1019M   94  962M    0     0  27.8M      0  0:00:36  0:00:34  0:00:02 31.8M 97 1019M   97  994M    0     0  28.0M      0  0:00:36  0:00:35  0:00:01 31.8M100 1019M  100 1019M    0     0  28.1M      0  0:00:36  0:00:36 --:--:-- 32.1M\n",
      "\n",
      "\n",
      "Done!\n",
      "Run Time: 47 minutes and 5 seconds\n",
      "\n"
     ]
    }
   ],
   "source": [
    "tail -n 6 ${FD_LOG}/download.encode_chipseq_tf.files_bwg.15.txt.txt"
   ]
  },
  {
   "cell_type": "code",
   "execution_count": null,
   "id": "3284852a-d82c-4496-810a-cc79ab7bd5ed",
   "metadata": {},
   "outputs": [],
   "source": []
  },
  {
   "cell_type": "code",
   "execution_count": null,
   "id": "e8867076-494c-4685-a45e-3f820e8268b8",
   "metadata": {},
   "outputs": [],
   "source": []
  },
  {
   "cell_type": "code",
   "execution_count": null,
   "id": "4b05b0fb-ca6b-404e-ad2e-176ec160364d",
   "metadata": {},
   "outputs": [],
   "source": []
  },
  {
   "cell_type": "code",
   "execution_count": 37,
   "id": "5a8ef718-a5a0-4069-8550-72b8bb1db292",
   "metadata": {},
   "outputs": [
    {
     "name": "stdout",
     "output_type": "stream",
     "text": [
      "  0  910k    0     0    0     0      0      0 --:--:-- --:--:-- --:--:--     0100  910k  100  910k    0     0   724k      0  0:00:01  0:00:01 --:--:-- 1996k\n",
      "  % Total    % Received % Xferd  Average Speed   Time    Time     Time  Current\n",
      "                                 Dload  Upload   Total   Spent    Left  Speed\n",
      "  0     0    0     0    0     0      0      0 --:--:-- --:--:-- --:--:--     0  0     0    0     0    0     0      0      0 --:--:-- --:--:-- --:--:--     0100  1947  100  1947    0     0   5096      0 --:--:-- --:--:-- --:--:--  5083\n",
      "100 47756  100 47756    0     0  58452      0 --:--:-- --:--:-- --:--:-- 58452\n",
      "\n",
      "\n",
      "Done!\n",
      "Run Time: 13 minutes and 14 seconds\n",
      "\n"
     ]
    }
   ],
   "source": [
    "tail ${FD_LOG}/download.encode_chipseq_tf.bed.txt"
   ]
  },
  {
   "cell_type": "code",
   "execution_count": 24,
   "id": "f932983e-8802-4ef5-9494-0cc974c3ac2d",
   "metadata": {},
   "outputs": [
    {
     "name": "stdout",
     "output_type": "stream",
     "text": [
      "Hostname:           plp-rcc-node-05\n",
      "Slurm Array Index: \n",
      "Time Stamp:         01-08-25+22:17:02\n",
      "\n",
      "Change directory:\n",
      "/data/reddylab/Kuei/repo/Proj_ENCODE_FCC/data/external/encode_chipseq_tf_250108\n",
      "\n",
      "Download files...\n",
      "  % Total    % Received % Xferd  Average Speed   Time    Time     Time  Current\n",
      "                                 Dload  Upload   Total   Spent    Left  Speed\n"
     ]
    }
   ],
   "source": [
    "head ${FP_LOG}"
   ]
  },
  {
   "cell_type": "code",
   "execution_count": 12,
   "id": "65ff5fc0-bbd3-4736-ba0a-33c1c59ebe0b",
   "metadata": {},
   "outputs": [
    {
     "name": "stdout",
     "output_type": "stream",
     "text": [
      "Submitted batch job 65121\n"
     ]
    }
   ],
   "source": [
    "FN_LOG=download.encode_chipseq_tf.txt\n",
    "FP_LOG=${FD_LOG}/${FN_LOG}\n",
    "\n",
    "sbatch \\\n",
    "    --cpus-per-task 4 \\\n",
    "    --mem 4G \\\n",
    "    --output ${FP_LOG} \\\n",
    "    --export=FD_PRJ=${FD_PRJ} \\\n",
    "    << 'EOF'\n",
    "#!/bin/bash\n",
    "\n",
    "### print start message\n",
    "timer_start=`date +%s`\n",
    "echo \"Hostname:          \" $(hostname)\n",
    "echo \"Slurm Array Index: \" ${SLURM_ARRAY_TASK_ID}\n",
    "echo \"Time Stamp:        \" $(date +\"%m-%d-%y+%T\")\n",
    "echo\n",
    "\n",
    "### set environment\n",
    "source ${FD_PRJ}/scripts/config_project.sh\n",
    "\n",
    "### set I/O\n",
    "FD_OUT=${FD_DAT}/external/encode_chipseq_tf_250108\n",
    "cd ${FD_OUT}\n",
    "\n",
    "### show I/O\n",
    "echo \"Current directory:\"\n",
    "echo $(pwd)\n",
    "echo\n",
    "\n",
    "### execute: download file\n",
    "echo \"Download files...\"\n",
    "xargs -L 1 curl -O -J -L < files.txt\n",
    "echo\n",
    "\n",
    "### execute: checksum\n",
    "echo \"Checksum files...\"\n",
    "md5sum -c checksum_md5sum.txt > checksum_results.txt\n",
    "echo\n",
    "\n",
    "### print end message\n",
    "timer=`date +%s`\n",
    "runtime=$(echo \"${timer} - ${timer_start}\" | bc -l)\n",
    "echo\n",
    "echo 'Done!'\n",
    "echo \"Run Time: $(displaytime ${runtime})\"\n",
    "echo\n",
    "EOF"
   ]
  },
  {
   "cell_type": "code",
   "execution_count": 6,
   "id": "fcf0c13b-77eb-478b-844d-faf740466086",
   "metadata": {},
   "outputs": [
    {
     "name": "stdout",
     "output_type": "stream",
     "text": [
      "/data/reddylab/Kuei/repo/Proj_ENCODE_FCC/log/download.encode_chipseq_tf.txt\n",
      "\n"
     ]
    }
   ],
   "source": [
    "echo ${FP_LOG}\n",
    "echo"
   ]
  },
  {
   "cell_type": "code",
   "execution_count": 13,
   "id": "02c103f3-1dfd-4687-96f8-dbcedef4e267",
   "metadata": {},
   "outputs": [],
   "source": [
    "scancel 65121"
   ]
  },
  {
   "cell_type": "markdown",
   "id": "a80f31f5-60a5-4e57-95c5-861743ac2aed",
   "metadata": {},
   "source": [
    "## Review"
   ]
  },
  {
   "cell_type": "code",
   "execution_count": 7,
   "id": "149f1992-6b67-4c68-8529-d2b8476ae2ce",
   "metadata": {},
   "outputs": [
    {
     "name": "stdout",
     "output_type": "stream",
     "text": [
      "19\n",
      "\n",
      "ENCFF909RKY.bed.gz: OK\n",
      "ENCFF963GZJ.bed.gz: OK\n",
      "ENCFF213OTI.bed.gz: OK\n",
      "ENCFF462AVD.bed.gz: OK\n",
      "ENCFF135ZLM.bed.gz: OK\n",
      "ENCFF193ERO.bed.gz: OK\n",
      "ENCFF749KLQ.bed.gz: OK\n",
      "ENCFF148UQI.bed.gz: OK\n",
      "ENCFF122CSI.bed.gz: OK\n",
      "ENCFF540NGG.bed.gz: OK\n",
      "ENCFF323WOT.bed.gz: OK\n",
      "ENCFF544LXB.bed.gz: OK\n",
      "ENCFF561OUZ.bed.gz: OK\n",
      "ENCFF801AHF.bed.gz: OK\n",
      "ENCFF885FQN.bed.gz: OK\n",
      "ENCFF706WUF.bed.gz: OK\n",
      "ENCFF209OQD.bed.gz: OK\n",
      "ENCFF891CHI.bed.gz: OK\n",
      "ENCFF689QIJ.bed.gz: OK\n"
     ]
    }
   ],
   "source": [
    "FPATH=${FD_OUT}/checksum_results.txt\n",
    "cat ${FPATH} | wc -l\n",
    "echo \n",
    "cat ${FPATH}"
   ]
  },
  {
   "cell_type": "code",
   "execution_count": 8,
   "id": "5e240279-5131-4f1e-9469-b3c71f2a68b5",
   "metadata": {},
   "outputs": [
    {
     "name": "stdout",
     "output_type": "stream",
     "text": [
      "/data/reddylab/Kuei/repo/Proj_ENCODE_FCC/log/download.encode_chipseq_histone.txt\n",
      "\n",
      "Hostname:           x2-08-1.genome.duke.edu\n",
      "Slurm Array Index: \n",
      "Time Stamp:         07-08-24+15:24:11\n",
      "\n",
      "Current directory:\n",
      "/data/reddylab/Kuei/repo/Proj_ENCODE_FCC/data/external/encode_chipseq_histone\n",
      "\n",
      "Download files...\n",
      "  % Total    % Received % Xferd  Average Speed   Time    Time     Time  Current\n",
      "                                 Dload  Upload   Total   Spent    Left  Speed\n",
      "100  1889  100  1889    0     0   3042      0 --:--:-- --:--:-- --:--:--  3041\n",
      "Warning: Refusing to overwrite ENCFF909RKY.bed.gz: File exists\n",
      "  1  802k    1 16384    0     0  14585      0  0:00:56  0:00:01  0:00:55 14585\n",
      "curl: (23) Failed writing body (0 != 16384)\n",
      "  % Total    % Received % Xferd  Average Speed   Time    Time     Time  Current\n",
      "                                 Dload  Upload   Total   Spent    Left  Speed\n",
      "100  1889  100  1889    0     0   3929      0 --:--:-- --:--:-- --:--:--  3927\n",
      "Warning: Refusing to overwrite ENCFF963GZJ.bed.gz: File exists\n",
      "  0  502k    0   485    0     0    495      0  0:17:18 --:--:--  0:17:18   495\n",
      "curl: (23) Failed writing body (0 != 485)\n",
      "  % Total    % Received % Xferd  Average Speed   Time    Time     Time  Current\n",
      "                                 Dload  Upload   Total   Spent    Left  Speed\n",
      "100  1891  100  1891    0     0   3793      0 --:--:-- --:--:-- --:--:--  3789\n",
      "Warning: Refusing to overwrite ENCFF213OTI.bed.gz: File exists\n",
      "  0 2778k    0 16384    0     0  16134      0  0:02:56  0:00:01  0:02:55 16134\n",
      "curl: (23) Failed writing body (0 != 16384)\n",
      "  % Total    % Received % Xferd  Average Speed   Time    Time     Time  Current\n",
      "                                 Dload  Upload   Total   Spent    Left  Speed\n",
      "100  1893  100  1893    0     0   4109      0 --:--:-- --:--:-- --:--:--  4106\n",
      "Warning: Refusing to overwrite ENCFF462AVD.bed.gz: File exists\n",
      "  3  201k    3  7651    0     0   8143      0  0:00:25 --:--:--  0:00:25  8143\n",
      "curl: (23) Failed writing body (0 != 7651)\n",
      "  % Total    % Received % Xferd  Average Speed   Time    Time     Time  Current\n",
      "                                 Dload  Upload   Total   Spent    Left  Speed\n",
      "100  1889  100  1889    0     0   3779      0 --:--:-- --:--:-- --:--:--  3778\n",
      "Warning: Refusing to overwrite ENCFF135ZLM.bed.gz: File exists\n",
      "  0 2287k    0   482    0     0    466      0  1:23:46  0:00:01  1:23:45   466\n",
      "curl: (23) Failed writing body (0 != 482)\n",
      "  % Total    % Received % Xferd  Average Speed   Time    Time     Time  Current\n",
      "                                 Dload  Upload   Total   Spent    Left  Speed\n",
      "100  1891  100  1891    0     0   3919      0 --:--:-- --:--:-- --:--:--  3915\n",
      "Warning: Refusing to overwrite ENCFF193ERO.bed.gz: File exists\n",
      "  0 3671k    0 15843    0     0  15147      0  0:04:08  0:00:01  0:04:07 15147\n",
      "curl: (23) Failed writing body (0 != 15843)\n",
      "  % Total    % Received % Xferd  Average Speed   Time    Time     Time  Current\n",
      "                                 Dload  Upload   Total   Spent    Left  Speed\n",
      "100  1893  100  1893    0     0   3871      0 --:--:-- --:--:-- --:--:--  3871\n",
      "Warning: Refusing to overwrite ENCFF749KLQ.bed.gz: File exists\n",
      "  0 1617k    0 15841    0     0  16581      0  0:01:39 --:--:--  0:01:39 16581\n",
      "curl: (23) Failed writing body (0 != 15841)\n",
      "  % Total    % Received % Xferd  Average Speed   Time    Time     Time  Current\n",
      "                                 Dload  Upload   Total   Spent    Left  Speed\n",
      "100  1891  100  1891    0     0   4036      0 --:--:-- --:--:-- --:--:--  4031\n",
      "Warning: Refusing to overwrite ENCFF148UQI.bed.gz: File exists\n",
      "  0 2742k    0  1506    0     0   1594      0  0:29:21 --:--:--  0:29:21  1594\n",
      "curl: (23) Failed writing body (0 != 1506)\n",
      "  % Total    % Received % Xferd  Average Speed   Time    Time     Time  Current\n",
      "                                 Dload  Upload   Total   Spent    Left  Speed\n",
      "100  1889  100  1889    0     0   3834      0 --:--:-- --:--:-- --:--:--  3831\n",
      "Warning: Refusing to overwrite ENCFF122CSI.bed.gz: File exists\n",
      "  1  647k    1  7651    0     0   7859      0  0:01:24 --:--:--  0:01:24  7859\n",
      "curl: (23) Failed writing body (0 != 7651)\n",
      "  % Total    % Received % Xferd  Average Speed   Time    Time     Time  Current\n",
      "                                 Dload  Upload   Total   Spent    Left  Speed\n",
      "100  1893  100  1893    0     0   3851      0 --:--:-- --:--:-- --:--:--  3847\n",
      "Warning: Refusing to overwrite ENCFF540NGG.bed.gz: File exists\n",
      "  0 2753k    0  1506    0     0   1469      0  0:31:59  0:00:01  0:31:58  1469\n",
      "curl: (23) Failed writing body (0 != 1506)\n",
      "  % Total    % Received % Xferd  Average Speed   Time    Time     Time  Current\n",
      "                                 Dload  Upload   Total   Spent    Left  Speed\n",
      "100  1891  100  1891    0     0   4120      0 --:--:-- --:--:-- --:--:--  4119\n",
      "Warning: Refusing to overwrite ENCFF323WOT.bed.gz: File exists\n",
      "  0 2346k    0  7651    0     0   7175      0  0:05:34  0:00:01  0:05:33  7175\n",
      "curl: (23) Failed writing body (0 != 7651)\n",
      "  % Total    % Received % Xferd  Average Speed   Time    Time     Time  Current\n",
      "                                 Dload  Upload   Total   Spent    Left  Speed\n",
      "100  1889  100  1889    0     0   3653      0 --:--:-- --:--:-- --:--:--  3653\n",
      "Warning: Refusing to overwrite ENCFF544LXB.bed.gz: File exists\n",
      "  0 1421k    0  1505    0     0   1503      0  0:16:08  0:00:01  0:16:07  1503\n",
      "curl: (23) Failed writing body (0 != 1505)\n",
      "  % Total    % Received % Xferd  Average Speed   Time    Time     Time  Current\n",
      "                                 Dload  Upload   Total   Spent    Left  Speed\n",
      "100  1889  100  1889    0     0   4168      0 --:--:-- --:--:-- --:--:--  4160\n",
      "Warning: Refusing to overwrite ENCFF561OUZ.bed.gz: File exists\n",
      "  0 1345k    0  8457    0     0   9390      0  0:02:26 --:--:--  0:02:26  9390\n",
      "curl: (23) Failed writing body (0 != 8457)\n",
      "  % Total    % Received % Xferd  Average Speed   Time    Time     Time  Current\n",
      "                                 Dload  Upload   Total   Spent    Left  Speed\n",
      "100  1889  100  1889    0     0   4050      0 --:--:-- --:--:-- --:--:--  4044\n",
      "Warning: Refusing to overwrite ENCFF801AHF.bed.gz: File exists\n",
      "  0 3112k    0 16384    0     0  16466      0  0:03:13 --:--:--  0:03:13 16466\n",
      "curl: (23) Failed writing body (0 != 16384)\n",
      "  % Total    % Received % Xferd  Average Speed   Time    Time     Time  Current\n",
      "                                 Dload  Upload   Total   Spent    Left  Speed\n",
      "100  1891  100  1891    0     0   4004      0 --:--:-- --:--:-- --:--:--  3997\n",
      "Warning: Refusing to overwrite ENCFF885FQN.bed.gz: File exists\n",
      "  0  595k    0  1508    0     0   1640      0  0:06:12 --:--:--  0:06:12  1640\n",
      "curl: (23) Failed writing body (0 != 1508)\n",
      "  % Total    % Received % Xferd  Average Speed   Time    Time     Time  Current\n",
      "                                 Dload  Upload   Total   Spent    Left  Speed\n",
      "100  1891  100  1891    0     0   4062      0 --:--:-- --:--:-- --:--:--  4057\n",
      "Warning: Refusing to overwrite ENCFF706WUF.bed.gz: File exists\n",
      "  2  748k    2 16384    0     0  17516      0  0:00:43 --:--:--  0:00:43 17516\n",
      "curl: (23) Failed writing body (0 != 16384)\n",
      "  % Total    % Received % Xferd  Average Speed   Time    Time     Time  Current\n",
      "                                 Dload  Upload   Total   Spent    Left  Speed\n",
      "100  1893  100  1893    0     0   4160      0 --:--:-- --:--:-- --:--:--  4169\n",
      "  0     0    0     0    0     0      0      0 --:--:-- --:--:-- --:--:--     0Warning: Refusing to overwrite ENCFF209OQD.bed.gz: File exists\n",
      "  0 1982k    0 16384    0     0  18160      0  0:01:51 --:--:--  0:01:51 45511\n",
      "curl: (23) Failed writing body (0 != 16384)\n",
      "  % Total    % Received % Xferd  Average Speed   Time    Time     Time  Current\n",
      "                                 Dload  Upload   Total   Spent    Left  Speed\n",
      "100  1889  100  1889    0     0   4126      0 --:--:-- --:--:-- --:--:--  4133\n",
      "  0     0    0     0    0     0      0      0 --:--:-- --:--:-- --:--:--     0Warning: Refusing to overwrite ENCFF891CHI.bed.gz: File exists\n",
      "  0 1003k    0  1505    0     0   1577      0  0:10:51 --:--:--  0:10:51  4659\n",
      "curl: (23) Failed writing body (0 != 1505)\n",
      "  % Total    % Received % Xferd  Average Speed   Time    Time     Time  Current\n",
      "                                 Dload  Upload   Total   Spent    Left  Speed\n",
      "100  1889  100  1889    0     0   4127      0 --:--:-- --:--:-- --:--:--  4133\n",
      "  0     0    0     0    0     0      0      0 --:--:-- --:--:-- --:--:--     0Warning: Refusing to overwrite ENCFF689QIJ.bed.gz: File exists\n",
      "  0 1085k    0  1506    0     0   1675      0  0:11:03 --:--:--  0:11:03  5619\n",
      "curl: (23) Failed writing body (0 != 1506)\n",
      "\n",
      "Checksum files...\n",
      "\n",
      "\n",
      "Done!\n",
      "Run Time: 20 seconds\n",
      "\n"
     ]
    }
   ],
   "source": [
    "echo ${FP_LOG}\n",
    "echo\n",
    "cat  ${FP_LOG}"
   ]
  }
 ],
 "metadata": {
  "kernelspec": {
   "display_name": "Bash",
   "language": "bash",
   "name": "bash"
  },
  "language_info": {
   "codemirror_mode": "shell",
   "file_extension": ".sh",
   "mimetype": "text/x-sh",
   "name": "bash"
  }
 },
 "nbformat": 4,
 "nbformat_minor": 5
}
