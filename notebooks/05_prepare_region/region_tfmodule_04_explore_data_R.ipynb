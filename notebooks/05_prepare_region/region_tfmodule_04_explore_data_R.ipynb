{
 "cells": [
  {
   "cell_type": "raw",
   "id": "991bf9f2-7278-492b-9957-a2a0bf08dbeb",
   "metadata": {},
   "source": [
    "---\n",
    "title: Prepare TF Modules 01\n",
    "subtitle: Explore the data\n",
    "format:\n",
    "    html:\n",
    "        code-fold:  true\n",
    "        code-tools: true\n",
    "---"
   ]
  },
  {
   "cell_type": "markdown",
   "id": "b827cd50-a0d4-4e89-88ff-1e280ff9c4a3",
   "metadata": {},
   "source": [
    "**Set environment**"
   ]
  },
  {
   "cell_type": "code",
   "execution_count": 1,
   "id": "9818c1ac-15be-4832-bcdd-5edf14af08c4",
   "metadata": {
    "tags": []
   },
   "outputs": [
    {
     "name": "stdout",
     "output_type": "stream",
     "text": [
      "You are working on        Singularity \n",
      "BASE DIRECTORY (FD_BASE): /mount \n",
      "REPO DIRECTORY (FD_REPO): /mount/repo \n",
      "WORK DIRECTORY (FD_WORK): /mount/work \n",
      "DATA DIRECTORY (FD_DATA): /mount/data \n",
      "\n",
      "You are working with      ENCODE FCC \n",
      "PATH OF PROJECT (FD_PRJ): /mount/repo/Proj_ENCODE_FCC \n",
      "PROJECT RESULTS (FD_RES): /mount/repo/Proj_ENCODE_FCC/results \n",
      "PROJECT SCRIPTS (FD_EXE): /mount/repo/Proj_ENCODE_FCC/scripts \n",
      "PROJECT DATA    (FD_DAT): /mount/repo/Proj_ENCODE_FCC/data \n",
      "PROJECT NOTE    (FD_NBK): /mount/repo/Proj_ENCODE_FCC/notebooks \n",
      "PROJECT DOCS    (FD_DOC): /mount/repo/Proj_ENCODE_FCC/docs \n",
      "PROJECT LOG     (FD_LOG): /mount/repo/Proj_ENCODE_FCC/log \n",
      "PROJECT APP     (FD_APP): /mount/repo/Proj_ENCODE_FCC/app \n",
      "PROJECT REF     (FD_REF): /mount/repo/Proj_ENCODE_FCC/references \n",
      "\n"
     ]
    }
   ],
   "source": [
    "suppressMessages(suppressWarnings(source(\"../run_config_project_sing.R\")))\n",
    "show_env()"
   ]
  },
  {
   "cell_type": "markdown",
   "id": "f57c6f98-ddcb-4399-944c-2f54c4ccb39a",
   "metadata": {},
   "source": [
    "**Set global variables**"
   ]
  },
  {
   "cell_type": "code",
   "execution_count": 2,
   "id": "f8c023a3-186e-4ffe-a1dd-f0e5d4979f06",
   "metadata": {},
   "outputs": [],
   "source": [
    "TXT_FOLDER_REGION = \"module_tf_shannon\""
   ]
  },
  {
   "cell_type": "markdown",
   "id": "b4f10b7b-13fe-4944-b0f8-b5b09a9cb1a1",
   "metadata": {},
   "source": [
    "## Import data"
   ]
  },
  {
   "cell_type": "code",
   "execution_count": 3,
   "id": "1f580ff1-b6a8-44da-b49c-7d2c04bd67c8",
   "metadata": {},
   "outputs": [
    {
     "data": {
      "text/html": [
       "<style>\n",
       ".list-inline {list-style: none; margin:0; padding: 0}\n",
       ".list-inline>li {display: inline-block}\n",
       ".list-inline>li:not(:last-child)::after {content: \"\\00b7\"; padding: 0 .5ex}\n",
       "</style>\n",
       "<ol class=list-inline><li>'K562.hg38.TF_Module.bed.gz'</li><li>'summary'</li></ol>\n"
      ],
      "text/latex": [
       "\\begin{enumerate*}\n",
       "\\item 'K562.hg38.TF\\_Module.bed.gz'\n",
       "\\item 'summary'\n",
       "\\end{enumerate*}\n"
      ],
      "text/markdown": [
       "1. 'K562.hg38.TF_Module.bed.gz'\n",
       "2. 'summary'\n",
       "\n",
       "\n"
      ],
      "text/plain": [
       "[1] \"K562.hg38.TF_Module.bed.gz\" \"summary\"                   "
      ]
     },
     "metadata": {},
     "output_type": "display_data"
    }
   ],
   "source": [
    "### set directory\n",
    "txt_folder = TXT_FOLDER_REGION\n",
    "txt_fdiry  = file.path(FD_RES, \"region\", txt_folder)\n",
    "dir(txt_fdiry)"
   ]
  },
  {
   "cell_type": "code",
   "execution_count": 4,
   "id": "6e2908b6-cc48-47ee-a62c-168f7138a964",
   "metadata": {},
   "outputs": [
    {
     "data": {
      "text/html": [
       "<table>\n",
       " <thead>\n",
       "  <tr>\n",
       "   <th style=\"text-align:left;\"> Name </th>\n",
       "   <th style=\"text-align:left;\"> Note </th>\n",
       "  </tr>\n",
       " </thead>\n",
       "<tbody>\n",
       "  <tr>\n",
       "   <td style=\"text-align:left;\"> Chrom </td>\n",
       "   <td style=\"text-align:left;\"> Name of the chromosome </td>\n",
       "  </tr>\n",
       "  <tr>\n",
       "   <td style=\"text-align:left;\"> ChromStart </td>\n",
       "   <td style=\"text-align:left;\"> The starting position of the feature in the chromosome </td>\n",
       "  </tr>\n",
       "  <tr>\n",
       "   <td style=\"text-align:left;\"> ChromEnd </td>\n",
       "   <td style=\"text-align:left;\"> The ending position of the feature in the chromosome </td>\n",
       "  </tr>\n",
       "  <tr>\n",
       "   <td style=\"text-align:left;\"> Name </td>\n",
       "   <td style=\"text-align:left;\"> Region of the row </td>\n",
       "  </tr>\n",
       "  <tr>\n",
       "   <td style=\"text-align:left;\"> Group </td>\n",
       "   <td style=\"text-align:left;\"> Annotation name </td>\n",
       "  </tr>\n",
       "  <tr>\n",
       "   <td style=\"text-align:left;\"> Label </td>\n",
       "   <td style=\"text-align:left;\"> TF Modules </td>\n",
       "  </tr>\n",
       "</tbody>\n",
       "</table>"
      ]
     },
     "metadata": {},
     "output_type": "display_data"
    }
   ],
   "source": [
    "### set file path\n",
    "txt_folder = TXT_FOLDER_REGION\n",
    "txt_fdiry  = file.path(FD_RES, \"region\", txt_folder, \"summary\")\n",
    "txt_fname  = \"description.tsv\"\n",
    "txt_fpath  = file.path(txt_fdiry, txt_fname)\n",
    "\n",
    "### read table\n",
    "dat = read_tsv(txt_fpath, show_col_types = FALSE)\n",
    "\n",
    "### assign and show\n",
    "dat_cnames = dat\n",
    "fun_display_table(dat)"
   ]
  },
  {
   "cell_type": "code",
   "execution_count": 5,
   "id": "c214bd36-fad5-4806-9ee5-419526a4531e",
   "metadata": {},
   "outputs": [
    {
     "name": "stdout",
     "output_type": "stream",
     "text": [
      "[1] 413733      6\n"
     ]
    },
    {
     "data": {
      "text/html": [
       "<table>\n",
       " <thead>\n",
       "  <tr>\n",
       "   <th style=\"text-align:left;\"> Chrom </th>\n",
       "   <th style=\"text-align:right;\"> ChromStart </th>\n",
       "   <th style=\"text-align:right;\"> ChromEnd </th>\n",
       "   <th style=\"text-align:left;\"> Name </th>\n",
       "   <th style=\"text-align:left;\"> Group </th>\n",
       "   <th style=\"text-align:left;\"> Label </th>\n",
       "  </tr>\n",
       " </thead>\n",
       "<tbody>\n",
       "  <tr>\n",
       "   <td style=\"text-align:left;\"> chr1 </td>\n",
       "   <td style=\"text-align:right;\"> 115702 </td>\n",
       "   <td style=\"text-align:right;\"> 115751 </td>\n",
       "   <td style=\"text-align:left;\"> chr1:115702-115751 </td>\n",
       "   <td style=\"text-align:left;\"> TF_Module </td>\n",
       "   <td style=\"text-align:left;\"> Module_02 </td>\n",
       "  </tr>\n",
       "  <tr>\n",
       "   <td style=\"text-align:left;\"> chr1 </td>\n",
       "   <td style=\"text-align:right;\"> 115702 </td>\n",
       "   <td style=\"text-align:right;\"> 115751 </td>\n",
       "   <td style=\"text-align:left;\"> chr1:115702-115751 </td>\n",
       "   <td style=\"text-align:left;\"> TF_Module </td>\n",
       "   <td style=\"text-align:left;\"> Module_05 </td>\n",
       "  </tr>\n",
       "  <tr>\n",
       "   <td style=\"text-align:left;\"> chr1 </td>\n",
       "   <td style=\"text-align:right;\"> 115702 </td>\n",
       "   <td style=\"text-align:right;\"> 115751 </td>\n",
       "   <td style=\"text-align:left;\"> chr1:115702-115751 </td>\n",
       "   <td style=\"text-align:left;\"> TF_Module </td>\n",
       "   <td style=\"text-align:left;\"> Module_10 </td>\n",
       "  </tr>\n",
       "</tbody>\n",
       "</table>"
      ]
     },
     "metadata": {},
     "output_type": "display_data"
    }
   ],
   "source": [
    "### set file path\n",
    "txt_folder = TXT_FOLDER_REGION\n",
    "txt_fdiry  = file.path(FD_RES, \"region\", txt_folder)\n",
    "txt_fname  = \"K562.hg38.TF_Module.bed.gz\"\n",
    "txt_fpath  = file.path(txt_fdiry, txt_fname)\n",
    "\n",
    "### read table\n",
    "vec = dat_cnames$Name\n",
    "dat = read_tsv(txt_fpath, col_names = vec, show_col_types = FALSE)\n",
    "\n",
    "### assign and show\n",
    "dat_region_import = dat\n",
    "print(dim(dat))\n",
    "fun_display_table(head(dat, 3))"
   ]
  },
  {
   "cell_type": "code",
   "execution_count": 7,
   "id": "978219f0-d7f8-4ee1-bb91-f54232a32380",
   "metadata": {},
   "outputs": [
    {
     "data": {
      "text/html": [
       "TRUE"
      ],
      "text/latex": [
       "TRUE"
      ],
      "text/markdown": [
       "TRUE"
      ],
      "text/plain": [
       "[1] TRUE"
      ]
     },
     "metadata": {},
     "output_type": "display_data"
    }
   ],
   "source": [
    "any(is.na(dat_region_import))"
   ]
  },
  {
   "cell_type": "code",
   "execution_count": 8,
   "id": "a8599523-a7c7-4dd0-894e-8bcaf4ba16f2",
   "metadata": {},
   "outputs": [
    {
     "data": {
      "text/html": [
       "<dl>\n",
       "\t<dt>$Chrom</dt>\n",
       "\t\t<dd>TRUE</dd>\n",
       "\t<dt>$ChromStart</dt>\n",
       "\t\t<dd>TRUE</dd>\n",
       "\t<dt>$ChromEnd</dt>\n",
       "\t\t<dd>TRUE</dd>\n",
       "\t<dt>$Name</dt>\n",
       "\t\t<dd>FALSE</dd>\n",
       "\t<dt>$Group</dt>\n",
       "\t\t<dd>FALSE</dd>\n",
       "\t<dt>$Label</dt>\n",
       "\t\t<dd>FALSE</dd>\n",
       "</dl>\n"
      ],
      "text/latex": [
       "\\begin{description}\n",
       "\\item[\\$Chrom] TRUE\n",
       "\\item[\\$ChromStart] TRUE\n",
       "\\item[\\$ChromEnd] TRUE\n",
       "\\item[\\$Name] FALSE\n",
       "\\item[\\$Group] FALSE\n",
       "\\item[\\$Label] FALSE\n",
       "\\end{description}\n"
      ],
      "text/markdown": [
       "$Chrom\n",
       ":   TRUE\n",
       "$ChromStart\n",
       ":   TRUE\n",
       "$ChromEnd\n",
       ":   TRUE\n",
       "$Name\n",
       ":   FALSE\n",
       "$Group\n",
       ":   FALSE\n",
       "$Label\n",
       ":   FALSE\n",
       "\n",
       "\n"
      ],
      "text/plain": [
       "$Chrom\n",
       "[1] TRUE\n",
       "\n",
       "$ChromStart\n",
       "[1] TRUE\n",
       "\n",
       "$ChromEnd\n",
       "[1] TRUE\n",
       "\n",
       "$Name\n",
       "[1] FALSE\n",
       "\n",
       "$Group\n",
       "[1] FALSE\n",
       "\n",
       "$Label\n",
       "[1] FALSE\n"
      ]
     },
     "metadata": {},
     "output_type": "display_data"
    }
   ],
   "source": [
    "dat = dat_region_import\n",
    "lapply(dat, function(vec){any(is.na(vec))})"
   ]
  },
  {
   "cell_type": "code",
   "execution_count": 9,
   "id": "af18ef09-bed8-4143-ad4a-051a8c956ffc",
   "metadata": {},
   "outputs": [
    {
     "data": {
      "text/html": [
       "<table class=\"dataframe\">\n",
       "<caption>A spec_tbl_df: 5 × 6</caption>\n",
       "<thead>\n",
       "\t<tr><th scope=col>Chrom</th><th scope=col>ChromStart</th><th scope=col>ChromEnd</th><th scope=col>Name</th><th scope=col>Group</th><th scope=col>Label</th></tr>\n",
       "\t<tr><th scope=col>&lt;chr&gt;</th><th scope=col>&lt;dbl&gt;</th><th scope=col>&lt;dbl&gt;</th><th scope=col>&lt;chr&gt;</th><th scope=col>&lt;chr&gt;</th><th scope=col>&lt;chr&gt;</th></tr>\n",
       "</thead>\n",
       "<tbody>\n",
       "\t<tr><td>NA</td><td>NA</td><td>NA</td><td>NA:NA-NA</td><td>TF_Module</td><td>Module_04</td></tr>\n",
       "\t<tr><td>NA</td><td>NA</td><td>NA</td><td>NA:NA-NA</td><td>TF_Module</td><td>Module_35</td></tr>\n",
       "\t<tr><td>NA</td><td>NA</td><td>NA</td><td>NA:NA-NA</td><td>TF_Module</td><td>Module_44</td></tr>\n",
       "\t<tr><td>NA</td><td>NA</td><td>NA</td><td>NA:NA-NA</td><td>TF_Module</td><td>Module_45</td></tr>\n",
       "\t<tr><td>NA</td><td>NA</td><td>NA</td><td>NA:NA-NA</td><td>TF_Module</td><td>Module_64</td></tr>\n",
       "</tbody>\n",
       "</table>\n"
      ],
      "text/latex": [
       "A spec\\_tbl\\_df: 5 × 6\n",
       "\\begin{tabular}{llllll}\n",
       " Chrom & ChromStart & ChromEnd & Name & Group & Label\\\\\n",
       " <chr> & <dbl> & <dbl> & <chr> & <chr> & <chr>\\\\\n",
       "\\hline\n",
       "\t NA & NA & NA & NA:NA-NA & TF\\_Module & Module\\_04\\\\\n",
       "\t NA & NA & NA & NA:NA-NA & TF\\_Module & Module\\_35\\\\\n",
       "\t NA & NA & NA & NA:NA-NA & TF\\_Module & Module\\_44\\\\\n",
       "\t NA & NA & NA & NA:NA-NA & TF\\_Module & Module\\_45\\\\\n",
       "\t NA & NA & NA & NA:NA-NA & TF\\_Module & Module\\_64\\\\\n",
       "\\end{tabular}\n"
      ],
      "text/markdown": [
       "\n",
       "A spec_tbl_df: 5 × 6\n",
       "\n",
       "| Chrom &lt;chr&gt; | ChromStart &lt;dbl&gt; | ChromEnd &lt;dbl&gt; | Name &lt;chr&gt; | Group &lt;chr&gt; | Label &lt;chr&gt; |\n",
       "|---|---|---|---|---|---|\n",
       "| NA | NA | NA | NA:NA-NA | TF_Module | Module_04 |\n",
       "| NA | NA | NA | NA:NA-NA | TF_Module | Module_35 |\n",
       "| NA | NA | NA | NA:NA-NA | TF_Module | Module_44 |\n",
       "| NA | NA | NA | NA:NA-NA | TF_Module | Module_45 |\n",
       "| NA | NA | NA | NA:NA-NA | TF_Module | Module_64 |\n",
       "\n"
      ],
      "text/plain": [
       "  Chrom ChromStart ChromEnd Name     Group     Label    \n",
       "1 NA    NA         NA       NA:NA-NA TF_Module Module_04\n",
       "2 NA    NA         NA       NA:NA-NA TF_Module Module_35\n",
       "3 NA    NA         NA       NA:NA-NA TF_Module Module_44\n",
       "4 NA    NA         NA       NA:NA-NA TF_Module Module_45\n",
       "5 NA    NA         NA       NA:NA-NA TF_Module Module_64"
      ]
     },
     "metadata": {},
     "output_type": "display_data"
    }
   ],
   "source": [
    "dat = dat_region_import\n",
    "dat %>% dplyr::filter(is.na(Chrom))"
   ]
  },
  {
   "cell_type": "code",
   "execution_count": null,
   "id": "ad8a9fe5-8d5c-4ea6-987f-4b4923c11411",
   "metadata": {},
   "outputs": [],
   "source": []
  }
 ],
 "metadata": {
  "kernelspec": {
   "display_name": "R",
   "language": "R",
   "name": "ir"
  },
  "language_info": {
   "codemirror_mode": "r",
   "file_extension": ".r",
   "mimetype": "text/x-r-source",
   "name": "R",
   "pygments_lexer": "r",
   "version": "4.4.1"
  }
 },
 "nbformat": 4,
 "nbformat_minor": 5
}
