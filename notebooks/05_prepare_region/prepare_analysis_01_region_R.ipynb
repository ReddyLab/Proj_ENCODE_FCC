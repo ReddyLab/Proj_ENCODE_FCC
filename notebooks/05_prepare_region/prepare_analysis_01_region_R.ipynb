{
 "cells": [
  {
   "cell_type": "raw",
   "id": "e4e932a0-9636-48e7-bd72-847603f83612",
   "metadata": {},
   "source": [
    "---\n",
    "title: Prepare for analysis 01\n",
    "subtitle: Simplified regions for downstream analysis\n",
    "format:\n",
    "    html:\n",
    "        code-fold:  true\n",
    "        code-tools: true\n",
    "---"
   ]
  },
  {
   "cell_type": "markdown",
   "id": "147957bb-46ed-48cd-911b-2b4d5a52e381",
   "metadata": {},
   "source": [
    "**Set environment**"
   ]
  },
  {
   "cell_type": "code",
   "execution_count": 1,
   "id": "038cfed7-acec-4b37-aa45-ecf7aec6a31a",
   "metadata": {
    "tags": []
   },
   "outputs": [
    {
     "name": "stdout",
     "output_type": "stream",
     "text": [
      "You are working on        Singularity: singularity_proj_encode_fcc \n",
      "BASE DIRECTORY (FD_BASE): /data/reddylab/Kuei \n",
      "REPO DIRECTORY (FD_REPO): /data/reddylab/Kuei/repo \n",
      "WORK DIRECTORY (FD_WORK): /data/reddylab/Kuei/work \n",
      "DATA DIRECTORY (FD_DATA): /data/reddylab/Kuei/data \n",
      "\n",
      "You are working with      ENCODE FCC \n",
      "PATH OF PROJECT (FD_PRJ): /data/reddylab/Kuei/repo/Proj_ENCODE_FCC \n",
      "PROJECT RESULTS (FD_RES): /data/reddylab/Kuei/repo/Proj_ENCODE_FCC/results \n",
      "PROJECT SCRIPTS (FD_EXE): /data/reddylab/Kuei/repo/Proj_ENCODE_FCC/scripts \n",
      "PROJECT DATA    (FD_DAT): /data/reddylab/Kuei/repo/Proj_ENCODE_FCC/data \n",
      "PROJECT NOTE    (FD_NBK): /data/reddylab/Kuei/repo/Proj_ENCODE_FCC/notebooks \n",
      "PROJECT DOCS    (FD_DOC): /data/reddylab/Kuei/repo/Proj_ENCODE_FCC/docs \n",
      "PROJECT LOG     (FD_LOG): /data/reddylab/Kuei/repo/Proj_ENCODE_FCC/log \n",
      "PROJECT REF     (FD_REF): /data/reddylab/Kuei/repo/Proj_ENCODE_FCC/references \n",
      "\n"
     ]
    }
   ],
   "source": [
    "suppressMessages(suppressWarnings(source(\"../run_config_project_sing.R\")))\n",
    "show_env()"
   ]
  },
  {
   "cell_type": "markdown",
   "id": "a8bccf10-2a8f-4911-951c-c41ffe3d2ae9",
   "metadata": {},
   "source": [
    "**Set global variables**"
   ]
  },
  {
   "cell_type": "code",
   "execution_count": 2,
   "id": "72256f03-0a12-4c88-b9d0-830b1b897ca3",
   "metadata": {},
   "outputs": [],
   "source": [
    "TXT_FOLDER_REGION = \"region_for_analysis\""
   ]
  },
  {
   "cell_type": "markdown",
   "id": "d1e43665-07b9-4fb2-b857-51586c9c12aa",
   "metadata": {},
   "source": [
    "## Import data"
   ]
  },
  {
   "cell_type": "markdown",
   "id": "8a1ed00e-117f-4ee9-9edf-71ba4b5b84ac",
   "metadata": {},
   "source": [
    "**Helper function: loading data**"
   ]
  },
  {
   "cell_type": "code",
   "execution_count": 3,
   "id": "a8e7ef98-4102-48e7-a129-388793d4e87c",
   "metadata": {},
   "outputs": [],
   "source": [
    "fun_load_data = function(txt_region_fdiry){\n",
    "    ### set file directory\n",
    "    txt_fdiry  = file.path(txt_region_fdiry, \"summary\")\n",
    "    txt_fname = \"description.tsv\"\n",
    "    txt_fpath = file.path(txt_fdiry, txt_fname)\n",
    "    \n",
    "    ### get column names\n",
    "    dat = read_tsv(txt_fpath, show_col_types = FALSE)\n",
    "    vec_txt_cname = dat$Name\n",
    "\n",
    "    ### set file directory\n",
    "    txt_fdiry  = file.path(txt_region_fdiry, \"summary\")\n",
    "    txt_fname = \"metadata.label.tsv\"\n",
    "    txt_fpath = file.path(txt_fdiry, txt_fname)\n",
    "    \n",
    "    ### get file labels\n",
    "    dat_metadata = read_tsv(txt_fpath, show_col_types = FALSE)\n",
    "    \n",
    "    ### set directory\n",
    "    txt_fdiry  = txt_region_fdiry\n",
    "    txt_fglob  = file.path(txt_fdiry, \"*bed*\")\n",
    "    \n",
    "    ### get file names and labels\n",
    "    vec_txt_fpath = Sys.glob(txt_fglob)\n",
    "    vec_txt_fname = basename(vec_txt_fpath)\n",
    "    vec_txt_label = fun_str_map_match(\n",
    "        vec_txt_fname, \n",
    "        dat_metadata$FName, \n",
    "        dat_metadata$Label, \n",
    "        .default=vec_txt_fname)\n",
    "\n",
    "    ### further modification of labels\n",
    "    ### read all region files\n",
    "    lst = lapply(vec_txt_fpath, function(txt_fpath){\n",
    "        dat = read_tsv(txt_fpath, col_names = vec_txt_cname, show_col_types = FALSE)\n",
    "        return(dat)\n",
    "    })\n",
    "    names(lst) = vec_txt_fname\n",
    "    \n",
    "    return(lst)\n",
    "}"
   ]
  },
  {
   "cell_type": "markdown",
   "id": "b855bd4e-235c-4e81-8ea9-4a8568858300",
   "metadata": {},
   "source": [
    "**Load data**"
   ]
  },
  {
   "cell_type": "code",
   "execution_count": 4,
   "id": "7393b7d5-4b76-4d25-844e-9221cc4c1ab3",
   "metadata": {},
   "outputs": [
    {
     "name": "stdout",
     "output_type": "stream",
     "text": [
      "$K562.hg38.ASTARR.macs.KS91.input.rep_all.max_overlaps.q5.bed.gz\n",
      "[1] 150042\n",
      "\n",
      "$K562.hg38.ASTARR.macs.KS91.input.rep_all.union.q5.bed.gz\n",
      "[1] 246852\n",
      "\n"
     ]
    }
   ],
   "source": [
    "### set file directory\n",
    "txt_folder = \"fcc_astarr_macs_merge\"\n",
    "txt_fdiry  = file.path(FD_RES, \"region\", txt_folder)\n",
    "\n",
    "### read tables\n",
    "lst = fun_load_data(txt_fdiry)\n",
    "\n",
    "### assign and show\n",
    "lst_dat_region_astarr_input = lst\n",
    "print(lapply(lst, nrow))"
   ]
  },
  {
   "cell_type": "code",
   "execution_count": 5,
   "id": "e5fd469b-ea3a-48c2-82b5-c6fa29f5c102",
   "metadata": {},
   "outputs": [
    {
     "name": "stdout",
     "output_type": "stream",
     "text": [
      "$K562.hg38.ENCSR000EKS.ENCFF274YGF.DNase.bed.gz\n",
      "[1] 118721\n",
      "\n",
      "$K562.hg38.ENCSR000EOT.ENCFF185XRG.DNase.bed.gz\n",
      "[1] 159277\n",
      "\n",
      "$K562.hg38.ENCSR483RKN.ENCFF558BLC.ATAC.bed.gz\n",
      "[1] 203874\n",
      "\n",
      "$K562.hg38.ENCSR483RKN.ENCFF925CYR.ATAC.bed.gz\n",
      "[1] 123009\n",
      "\n",
      "$K562.hg38.ENCSR868FGK.ENCFF333TAT.ATAC.bed.gz\n",
      "[1] 269800\n",
      "\n",
      "$K562.hg38.ENCSR868FGK.ENCFF948AFM.ATAC.bed.gz\n",
      "[1] 181340\n",
      "\n"
     ]
    }
   ],
   "source": [
    "### set file directory\n",
    "txt_folder = \"encode_open_chromatin\"\n",
    "txt_fdiry  = file.path(FD_RES, \"region\", txt_folder)\n",
    "\n",
    "### read tables\n",
    "lst = fun_load_data(txt_fdiry)\n",
    "\n",
    "### assign and show\n",
    "lst_dat_region_encode_ocr = lst\n",
    "print(lapply(lst, nrow))"
   ]
  },
  {
   "cell_type": "markdown",
   "id": "d561e7cc-ffea-41bb-96a2-0ae6db9d219e",
   "metadata": {},
   "source": [
    "## Arrange table"
   ]
  },
  {
   "cell_type": "markdown",
   "id": "29c86d7a-3261-4245-b2d7-a736e4ca6da6",
   "metadata": {},
   "source": [
    "**Arrange encode ocr tables**"
   ]
  },
  {
   "cell_type": "code",
   "execution_count": 6,
   "id": "bbb209b3-3004-430d-9231-1232613ecac1",
   "metadata": {},
   "outputs": [
    {
     "name": "stdout",
     "output_type": "stream",
     "text": [
      "$K562.hg38.ENCSR000EKS.ENCFF274YGF.DNase.bed.gz\n",
      "[1] 118721     11\n",
      "\n",
      "$K562.hg38.ENCSR000EOT.ENCFF185XRG.DNase.bed.gz\n",
      "[1] 159277     11\n",
      "\n",
      "$K562.hg38.ENCSR483RKN.ENCFF558BLC.ATAC.bed.gz\n",
      "[1] 203874     11\n",
      "\n",
      "$K562.hg38.ENCSR483RKN.ENCFF925CYR.ATAC.bed.gz\n",
      "[1] 123009     11\n",
      "\n",
      "$K562.hg38.ENCSR868FGK.ENCFF333TAT.ATAC.bed.gz\n",
      "[1] 269800     11\n",
      "\n",
      "$K562.hg38.ENCSR868FGK.ENCFF948AFM.ATAC.bed.gz\n",
      "[1] 181340     11\n",
      "\n"
     ]
    },
    {
     "data": {
      "text/html": [
       "<table>\n",
       " <thead>\n",
       "  <tr>\n",
       "   <th style=\"text-align:left;\"> Chrom </th>\n",
       "   <th style=\"text-align:right;\"> ChromStart </th>\n",
       "   <th style=\"text-align:right;\"> ChromEnd </th>\n",
       "   <th style=\"text-align:left;\"> Name </th>\n",
       "   <th style=\"text-align:right;\"> Score </th>\n",
       "   <th style=\"text-align:left;\"> Strand </th>\n",
       "   <th style=\"text-align:right;\"> SignalValue </th>\n",
       "   <th style=\"text-align:right;\"> PValue </th>\n",
       "   <th style=\"text-align:right;\"> QValue </th>\n",
       "   <th style=\"text-align:right;\"> Peak </th>\n",
       "   <th style=\"text-align:left;\"> Region </th>\n",
       "  </tr>\n",
       " </thead>\n",
       "<tbody>\n",
       "  <tr>\n",
       "   <td style=\"text-align:left;\"> chr1 </td>\n",
       "   <td style=\"text-align:right;\"> 181400 </td>\n",
       "   <td style=\"text-align:right;\"> 181530 </td>\n",
       "   <td style=\"text-align:left;\"> . </td>\n",
       "   <td style=\"text-align:right;\"> 0 </td>\n",
       "   <td style=\"text-align:left;\"> . </td>\n",
       "   <td style=\"text-align:right;\"> 0.299874 </td>\n",
       "   <td style=\"text-align:right;\"> -1 </td>\n",
       "   <td style=\"text-align:right;\"> -1 </td>\n",
       "   <td style=\"text-align:right;\"> 75 </td>\n",
       "   <td style=\"text-align:left;\"> chr1:181400-181530 </td>\n",
       "  </tr>\n",
       "  <tr>\n",
       "   <td style=\"text-align:left;\"> chr1 </td>\n",
       "   <td style=\"text-align:right;\"> 778660 </td>\n",
       "   <td style=\"text-align:right;\"> 778800 </td>\n",
       "   <td style=\"text-align:left;\"> . </td>\n",
       "   <td style=\"text-align:right;\"> 0 </td>\n",
       "   <td style=\"text-align:left;\"> . </td>\n",
       "   <td style=\"text-align:right;\"> 14.138300 </td>\n",
       "   <td style=\"text-align:right;\"> -1 </td>\n",
       "   <td style=\"text-align:right;\"> -1 </td>\n",
       "   <td style=\"text-align:right;\"> 75 </td>\n",
       "   <td style=\"text-align:left;\"> chr1:778660-778800 </td>\n",
       "  </tr>\n",
       "  <tr>\n",
       "   <td style=\"text-align:left;\"> chr1 </td>\n",
       "   <td style=\"text-align:right;\"> 779137 </td>\n",
       "   <td style=\"text-align:right;\"> 779200 </td>\n",
       "   <td style=\"text-align:left;\"> . </td>\n",
       "   <td style=\"text-align:right;\"> 0 </td>\n",
       "   <td style=\"text-align:left;\"> . </td>\n",
       "   <td style=\"text-align:right;\"> 0.331440 </td>\n",
       "   <td style=\"text-align:right;\"> -1 </td>\n",
       "   <td style=\"text-align:right;\"> -1 </td>\n",
       "   <td style=\"text-align:right;\"> 75 </td>\n",
       "   <td style=\"text-align:left;\"> chr1:779137-779200 </td>\n",
       "  </tr>\n",
       "</tbody>\n",
       "</table>"
      ]
     },
     "metadata": {},
     "output_type": "display_data"
    }
   ],
   "source": [
    "lst = lst_dat_region_encode_ocr\n",
    "lst = lapply(lst, function(dat){\n",
    "    dat = dat %>% dplyr::mutate(Region = fun_gen_region(dat$Chrom, dat$ChromStart, dat$ChromEnd))\n",
    "    return(dat)\n",
    "})\n",
    "\n",
    "### assign and show\n",
    "lst_dat_region_encode_ocr_arrange = lst\n",
    "\n",
    "res = lapply(lst, dim)\n",
    "print(res)\n",
    "\n",
    "dat = lst[[1]]\n",
    "fun_display_table(head(dat, 3))"
   ]
  },
  {
   "cell_type": "markdown",
   "id": "b715a6ad-8c73-4343-9b7e-5e19f8a17e72",
   "metadata": {},
   "source": [
    "**Simplify all regions into four columns: Chrom, ChromStart, ChromEnd, Region**"
   ]
  },
  {
   "cell_type": "code",
   "execution_count": 7,
   "id": "c89eb144-8afd-4b5b-aa46-07cfd3dc068b",
   "metadata": {},
   "outputs": [
    {
     "name": "stdout",
     "output_type": "stream",
     "text": [
      "$K562.hg38.ASTARR.macs.KS91.input.rep_all.max_overlaps.q5.bed.gz\n",
      "[1] 150042      4\n",
      "\n",
      "$K562.hg38.ASTARR.macs.KS91.input.rep_all.union.q5.bed.gz\n",
      "[1] 246852      4\n",
      "\n",
      "$K562.hg38.ENCSR000EKS.ENCFF274YGF.DNase.bed.gz\n",
      "[1] 118721      4\n",
      "\n",
      "$K562.hg38.ENCSR000EOT.ENCFF185XRG.DNase.bed.gz\n",
      "[1] 159277      4\n",
      "\n",
      "$K562.hg38.ENCSR483RKN.ENCFF558BLC.ATAC.bed.gz\n",
      "[1] 107082      4\n",
      "\n",
      "$K562.hg38.ENCSR483RKN.ENCFF925CYR.ATAC.bed.gz\n",
      "[1] 51861     4\n",
      "\n",
      "$K562.hg38.ENCSR868FGK.ENCFF333TAT.ATAC.bed.gz\n",
      "[1] 161693      4\n",
      "\n",
      "$K562.hg38.ENCSR868FGK.ENCFF948AFM.ATAC.bed.gz\n",
      "[1] 90015     4\n",
      "\n"
     ]
    },
    {
     "data": {
      "text/html": [
       "<table>\n",
       " <thead>\n",
       "  <tr>\n",
       "   <th style=\"text-align:left;\"> Chrom </th>\n",
       "   <th style=\"text-align:right;\"> ChromStart </th>\n",
       "   <th style=\"text-align:right;\"> ChromEnd </th>\n",
       "   <th style=\"text-align:left;\"> Region </th>\n",
       "  </tr>\n",
       " </thead>\n",
       "<tbody>\n",
       "  <tr>\n",
       "   <td style=\"text-align:left;\"> chr1 </td>\n",
       "   <td style=\"text-align:right;\"> 10038 </td>\n",
       "   <td style=\"text-align:right;\"> 10405 </td>\n",
       "   <td style=\"text-align:left;\"> chr1:10038-10405 </td>\n",
       "  </tr>\n",
       "  <tr>\n",
       "   <td style=\"text-align:left;\"> chr1 </td>\n",
       "   <td style=\"text-align:right;\"> 14282 </td>\n",
       "   <td style=\"text-align:right;\"> 14614 </td>\n",
       "   <td style=\"text-align:left;\"> chr1:14282-14614 </td>\n",
       "  </tr>\n",
       "  <tr>\n",
       "   <td style=\"text-align:left;\"> chr1 </td>\n",
       "   <td style=\"text-align:right;\"> 16025 </td>\n",
       "   <td style=\"text-align:right;\"> 16338 </td>\n",
       "   <td style=\"text-align:left;\"> chr1:16025-16338 </td>\n",
       "  </tr>\n",
       "</tbody>\n",
       "</table>"
      ]
     },
     "metadata": {},
     "output_type": "display_data"
    }
   ],
   "source": [
    "### concatenate\n",
    "lst = c(\n",
    "    lst_dat_region_astarr_input,\n",
    "    lst_dat_region_encode_ocr_arrange\n",
    ")\n",
    "\n",
    "### get the region only\n",
    "lst = lapply(lst, function(dat){\n",
    "    dat = dat %>% \n",
    "        dplyr::select(Chrom, ChromStart, ChromEnd, Region) %>%\n",
    "        dplyr::distinct()\n",
    "    return(dat)\n",
    "})\n",
    "\n",
    "### assign and show\n",
    "lst_dat_region_merge = lst\n",
    "\n",
    "res = lapply(lst, dim)\n",
    "print(res)\n",
    "\n",
    "dat = lst[[1]]\n",
    "fun_display_table(head(dat, 3))"
   ]
  },
  {
   "cell_type": "markdown",
   "id": "235ef65e-6d42-4ffe-a6c8-6f6b7bba4c21",
   "metadata": {},
   "source": [
    "## Define column description"
   ]
  },
  {
   "cell_type": "code",
   "execution_count": 8,
   "id": "95e4a83b-f82f-4fc0-95bb-5ce29ab610c2",
   "metadata": {},
   "outputs": [
    {
     "data": {
      "text/html": [
       "<table>\n",
       " <thead>\n",
       "  <tr>\n",
       "   <th style=\"text-align:left;\"> Name </th>\n",
       "   <th style=\"text-align:left;\"> Note </th>\n",
       "  </tr>\n",
       " </thead>\n",
       "<tbody>\n",
       "  <tr>\n",
       "   <td style=\"text-align:left;\"> Chrom </td>\n",
       "   <td style=\"text-align:left;\"> Name of the chromosome </td>\n",
       "  </tr>\n",
       "  <tr>\n",
       "   <td style=\"text-align:left;\"> ChromStart </td>\n",
       "   <td style=\"text-align:left;\"> The starting position of the feature in the chromosome </td>\n",
       "  </tr>\n",
       "  <tr>\n",
       "   <td style=\"text-align:left;\"> ChromEnd </td>\n",
       "   <td style=\"text-align:left;\"> The ending position of the feature in the chromosome </td>\n",
       "  </tr>\n",
       "  <tr>\n",
       "   <td style=\"text-align:left;\"> Region </td>\n",
       "   <td style=\"text-align:left;\"> chr:start-end for each row </td>\n",
       "  </tr>\n",
       "</tbody>\n",
       "</table>"
      ]
     },
     "metadata": {},
     "output_type": "display_data"
    }
   ],
   "source": [
    "### set column name and description\n",
    "dat = tribble(\n",
    "    ~Name,        ~Note,\n",
    "    \"Chrom\",      \"Name of the chromosome\",\n",
    "    \"ChromStart\", \"The starting position of the feature in the chromosome\",\n",
    "    \"ChromEnd\",   \"The ending position of the feature in the chromosome\",\n",
    "    \"Region\",     \"chr:start-end for each row\"\n",
    ")\n",
    "\n",
    "### assign and show\n",
    "dat_cname = dat\n",
    "fun_display_table(dat)"
   ]
  },
  {
   "cell_type": "markdown",
   "id": "bbb38109-c5ab-4509-8da8-047532cf3a03",
   "metadata": {},
   "source": [
    "## Save results"
   ]
  },
  {
   "cell_type": "code",
   "execution_count": 9,
   "id": "5f866cd5-8f24-433a-9a30-ef109bc1bd8f",
   "metadata": {},
   "outputs": [
    {
     "name": "stdout",
     "output_type": "stream",
     "text": [
      "[1] \"K562.hg38.ASTARR.macs.KS91.input.rep_all.max_overlaps.q5.bed.gz\"\n",
      "[1] \"K562.hg38.ASTARR.macs.KS91.input.rep_all.union.q5.bed.gz\"\n",
      "[1] \"K562.hg38.ENCSR000EKS.ENCFF274YGF.DNase.bed.gz\"\n",
      "[1] \"K562.hg38.ENCSR000EOT.ENCFF185XRG.DNase.bed.gz\"\n",
      "[1] \"K562.hg38.ENCSR483RKN.ENCFF558BLC.ATAC.bed.gz\"\n",
      "[1] \"K562.hg38.ENCSR483RKN.ENCFF925CYR.ATAC.bed.gz\"\n",
      "[1] \"K562.hg38.ENCSR868FGK.ENCFF333TAT.ATAC.bed.gz\"\n",
      "[1] \"K562.hg38.ENCSR868FGK.ENCFF948AFM.ATAC.bed.gz\"\n"
     ]
    }
   ],
   "source": [
    "### set file path\n",
    "txt_folder = TXT_FOLDER_REGION\n",
    "txt_fdiry  = file.path(FD_RES, \"region\", txt_folder)\n",
    "dir.create(txt_fdiry, showWarnings = FALSE)\n",
    "\n",
    "lst = lst_dat_region_merge\n",
    "for (idx in names(lst)){\n",
    "    ### set directory\n",
    "    txt_fname = idx\n",
    "    txt_fpath = file.path(txt_fdiry, txt_fname)\n",
    "\n",
    "    ### write table\n",
    "    dat = lst[[idx]]\n",
    "    dat = dat %>% dplyr::arrange(Chrom, ChromStart, ChromEnd) %>% dplyr::distinct()\n",
    "    write_tsv(dat, txt_fpath, col_names = FALSE)\n",
    "\n",
    "    ### show progress\n",
    "    print(txt_fname)\n",
    "    flush.console()\n",
    "}"
   ]
  },
  {
   "cell_type": "code",
   "execution_count": 10,
   "id": "8923a706-a3a6-4fc1-bdfb-a7827cbbd088",
   "metadata": {},
   "outputs": [],
   "source": [
    "txt_folder = TXT_FOLDER_REGION\n",
    "txt_fdiry  = file.path(FD_RES, \"region\", txt_folder, \"summary\")\n",
    "txt_fname  = \"description.tsv\"\n",
    "txt_fpath  = file.path(txt_fdiry, txt_fname)\n",
    "\n",
    "dir.create(txt_fdiry, showWarnings = FALSE)\n",
    "dat = dat_cname\n",
    "write_tsv(dat, txt_fpath)"
   ]
  },
  {
   "cell_type": "code",
   "execution_count": null,
   "id": "63d55d2e-4a1b-4a12-ab18-102f2a3e7b23",
   "metadata": {},
   "outputs": [],
   "source": []
  },
  {
   "cell_type": "code",
   "execution_count": null,
   "id": "7d7560d6-5427-4ec2-9606-5584409eaefa",
   "metadata": {},
   "outputs": [],
   "source": []
  },
  {
   "cell_type": "code",
   "execution_count": null,
   "id": "835c3841-c302-4883-8afe-d0b9b052a0e9",
   "metadata": {},
   "outputs": [],
   "source": []
  },
  {
   "cell_type": "code",
   "execution_count": null,
   "id": "dd3d93c4-7bd4-4e06-9724-81e681912eec",
   "metadata": {},
   "outputs": [],
   "source": []
  }
 ],
 "metadata": {
  "kernelspec": {
   "display_name": "R",
   "language": "R",
   "name": "ir"
  },
  "language_info": {
   "codemirror_mode": "r",
   "file_extension": ".r",
   "mimetype": "text/x-r-source",
   "name": "R",
   "pygments_lexer": "r",
   "version": "4.4.2"
  }
 },
 "nbformat": 4,
 "nbformat_minor": 5
}
