{
 "cells": [
  {
   "cell_type": "raw",
   "id": "7cdbe2ab-5931-4509-add7-0a0adef5a4c0",
   "metadata": {},
   "source": [
    "---\n",
    "title: Prepare ENCODE ChIP-seq 22 (Flagship)\n",
    "subtitle: Download the data\n",
    "format:\n",
    "    html:\n",
    "        code-fold:  true\n",
    "        code-tools: true\n",
    "---"
   ]
  },
  {
   "cell_type": "markdown",
   "id": "fa692d03-3d53-42e0-9c04-0b5c8ac28736",
   "metadata": {},
   "source": [
    "**set environment**"
   ]
  },
  {
   "cell_type": "code",
   "execution_count": 1,
   "id": "94818667-50c0-440a-be11-6733b9772a90",
   "metadata": {},
   "outputs": [
    {
     "name": "stdout",
     "output_type": "stream",
     "text": [
      "You are working on             Duke Server: HARDAC\n",
      "BASE DIRECTORY (FD_BASE):      /data/reddylab/Kuei\n",
      "REPO DIRECTORY (FD_REPO):      /data/reddylab/Kuei/repo\n",
      "WORK DIRECTORY (FD_WORK):      /data/reddylab/Kuei/work\n",
      "DATA DIRECTORY (FD_DATA):      /data/reddylab/Kuei/data\n",
      "CONTAINER DIR. (FD_SING):      /data/reddylab/Kuei/container\n",
      "\n",
      "You are working with           ENCODE FCC\n",
      "PATH OF PROJECT (FD_PRJ):      /data/reddylab/Kuei/repo/Proj_ENCODE_FCC\n",
      "PROJECT RESULTS (FD_RES):      /data/reddylab/Kuei/repo/Proj_ENCODE_FCC/results\n",
      "PROJECT SCRIPTS (FD_EXE):      /data/reddylab/Kuei/repo/Proj_ENCODE_FCC/scripts\n",
      "PROJECT DATA    (FD_DAT):      /data/reddylab/Kuei/repo/Proj_ENCODE_FCC/data\n",
      "PROJECT NOTE    (FD_NBK):      /data/reddylab/Kuei/repo/Proj_ENCODE_FCC/notebooks\n",
      "PROJECT DOCS    (FD_DOC):      /data/reddylab/Kuei/repo/Proj_ENCODE_FCC/docs\n",
      "PROJECT LOG     (FD_LOG):      /data/reddylab/Kuei/repo/Proj_ENCODE_FCC/log\n",
      "PROJECT APP     (FD_APP):      \n",
      "PROJECT REF     (FD_REF):      /data/reddylab/Kuei/repo/Proj_ENCODE_FCC/references\n",
      "PROJECT IMAGE   (FP_PRJ_SIF):  /data/reddylab/Kuei/container/project/singularity_proj_encode_fcc.sif\n",
      "\n"
     ]
    }
   ],
   "source": [
    "source ../run_config_project.sh\n",
    "show_env"
   ]
  },
  {
   "cell_type": "markdown",
   "id": "4661b22f-53b6-4cf6-9a48-cb965e86fb83",
   "metadata": {},
   "source": [
    "**Global variables**"
   ]
  },
  {
   "cell_type": "code",
   "execution_count": 2,
   "id": "8650a61b-3a07-4648-80ea-f741ccf1e9f0",
   "metadata": {},
   "outputs": [],
   "source": [
    "FD_OUT=${FD_DAT}/external/encode_chipseq_flagship"
   ]
  },
  {
   "cell_type": "markdown",
   "id": "698fd986-f8b4-4949-9dc2-eccafb9ba57e",
   "metadata": {},
   "source": [
    "## Preview"
   ]
  },
  {
   "cell_type": "code",
   "execution_count": 3,
   "id": "f878a562-2753-4675-b42b-2e0f6af472e9",
   "metadata": {},
   "outputs": [
    {
     "name": "stdout",
     "output_type": "stream",
     "text": [
      "/data/reddylab/Kuei/repo/Proj_ENCODE_FCC/data/external/encode_chipseq_flagship/files.txt\n",
      "/data/reddylab/Kuei/repo/Proj_ENCODE_FCC/data/external/encode_chipseq_flagship/checksum_md5sum.txt\n"
     ]
    }
   ],
   "source": [
    "ls ${FD_OUT}/files.txt\n",
    "ls ${FD_OUT}/checksum_md5sum.txt"
   ]
  },
  {
   "cell_type": "markdown",
   "id": "2fe8a050-3046-40d0-975f-9e106cba28b2",
   "metadata": {},
   "source": [
    "## Execute"
   ]
  },
  {
   "cell_type": "code",
   "execution_count": 4,
   "id": "65ff5fc0-bbd3-4736-ba0a-33c1c59ebe0b",
   "metadata": {},
   "outputs": [
    {
     "name": "stdout",
     "output_type": "stream",
     "text": [
      "Submitted batch job 33006011\n"
     ]
    }
   ],
   "source": [
    "FN_LOG=download.encode_chipseq_flagship.txt\n",
    "FP_LOG=${FD_LOG}/${FN_LOG}\n",
    "\n",
    "sbatch -p ${NODE} \\\n",
    "    --exclude=dl-01 \\\n",
    "    --cpus-per-task 4 \\\n",
    "    --mem 4G \\\n",
    "    --output ${FP_LOG} \\\n",
    "    --export=FD_PRJ=${FD_PRJ},FD_OUT=${FD_OUT} \\\n",
    "    << 'EOF'\n",
    "#!/bin/bash\n",
    "\n",
    "### print start message\n",
    "timer_start=`date +%s`\n",
    "echo \"Hostname:          \" $(hostname)\n",
    "echo \"Slurm Array Index: \" ${SLURM_ARRAY_TASK_ID}\n",
    "echo \"Time Stamp:        \" $(date +\"%m-%d-%y+%T\")\n",
    "echo\n",
    "\n",
    "### set environment\n",
    "source ${FD_PRJ}/scripts/config_project.sh\n",
    "\n",
    "### set I/O\n",
    "cd ${FD_OUT}\n",
    "\n",
    "### show I/O\n",
    "echo \"Current directory:\"\n",
    "echo $(pwd)\n",
    "echo\n",
    "\n",
    "### execute: download file\n",
    "echo \"Download files...\"\n",
    "xargs -L 1 curl -O -J -L < files.txt\n",
    "echo\n",
    "\n",
    "### execute: checksum\n",
    "echo \"Checksum files...\"\n",
    "md5sum -c checksum_md5sum.txt > checksum_results.txt\n",
    "echo\n",
    "\n",
    "### print end message\n",
    "timer=`date +%s`\n",
    "runtime=$(echo \"${timer} - ${timer_start}\" | bc -l)\n",
    "echo\n",
    "echo 'Done!'\n",
    "echo \"Run Time: $(displaytime ${runtime})\"\n",
    "echo\n",
    "EOF"
   ]
  },
  {
   "cell_type": "markdown",
   "id": "a80f31f5-60a5-4e57-95c5-861743ac2aed",
   "metadata": {},
   "source": [
    "## Review"
   ]
  },
  {
   "cell_type": "code",
   "execution_count": 7,
   "id": "149f1992-6b67-4c68-8529-d2b8476ae2ce",
   "metadata": {},
   "outputs": [
    {
     "name": "stdout",
     "output_type": "stream",
     "text": [
      "733\n",
      "\n",
      "ENCFF214SNH.bed.gz: OK\n",
      "ENCFF165ZEP.bed.gz: OK\n",
      "ENCFF634JRD.bed.gz: OK\n",
      "ENCFF744HVD.bed.gz: OK\n",
      "ENCFF660GHM.bed.gz: OK\n",
      "ENCFF495XYS.bed.gz: OK\n",
      "ENCFF289LLT.bed.gz: OK\n",
      "ENCFF258XBJ.bed.gz: OK\n",
      "ENCFF045CFL.bed.gz: OK\n",
      "ENCFF054XCG.bed.gz: OK\n",
      "\n"
     ]
    },
    {
     "ename": "",
     "evalue": "1",
     "output_type": "error",
     "traceback": []
    }
   ],
   "source": [
    "FPATH=${FD_OUT}/checksum_results.txt\n",
    "cat ${FPATH} | wc -l\n",
    "echo \n",
    "cat ${FPATH} | head\n",
    "echo \n",
    "cat ${FPATH} | grep -v OK"
   ]
  },
  {
   "cell_type": "code",
   "execution_count": 9,
   "id": "5e240279-5131-4f1e-9469-b3c71f2a68b5",
   "metadata": {},
   "outputs": [
    {
     "name": "stdout",
     "output_type": "stream",
     "text": [
      "/data/reddylab/Kuei/repo/Proj_ENCODE_FCC/log/download.encode_chipseq_flagship.txt\n",
      "\n",
      "Hostname:           x2-08-1.genome.duke.edu\n",
      "Slurm Array Index: \n",
      "Time Stamp:         07-08-24+21:42:09\n",
      "\n",
      "Current directory:\n",
      "/data/reddylab/Kuei/repo/Proj_ENCODE_FCC/data/external/encode_chipseq_flagship\n",
      "\n",
      "Download files...\n",
      "  % Total    % Received % Xferd  Average Speed   Time    Time     Time  Current\n",
      "                                 Dload  Upload   Total   Spent    Left  Speed\n",
      "100  1909  100  1909    0     0   2341      0 --:--:-- --:--:-- --:--:--  2339\n",
      "100  322k  100  322k    0     0  45104      0  0:00:07  0:00:07 --:--:-- 73470\n",
      "curl: Saved to filename 'ENCFF214SNH.bed.gz'\n",
      "  % Total    % Received % Xferd  Average Speed   Time    Time     Time  Current\n",
      "                                 Dload  Upload   Total   Spent    Left  Speed\n",
      "100  1907  100  1907    0     0   2899      0 --:--:-- --:--:-- --:--:--  2902\n",
      "100  365k  100  365k    0     0   123k      0  0:00:02  0:00:02 --:--:--  174k\n",
      "curl: Saved to filename 'ENCFF165ZEP.bed.gz'\n",
      "  % Total    % Received % Xferd  Average Speed   Time    Time     Time  Current\n",
      "                                 Dload  Upload   Total   Spent    Left  Speed\n",
      "\n",
      "100  1907  100  1907    0     0   1812      0  0:00:01  0:00:01 --:--:--  1812\n",
      "100  498k  100  498k    0     0   275k      0  0:00:01  0:00:01 --:--:-- 8373k\n",
      "curl: Saved to filename 'ENCFF405BKB.bed.gz'\n",
      "  % Total    % Received % Xferd  Average Speed   Time    Time     Time  Current\n",
      "                                 Dload  Upload   Total   Spent    Left  Speed\n",
      "100  1909  100  1909    0     0   3963      0 --:--:-- --:--:-- --:--:--  3968\n",
      "100  650k  100  650k    0     0   488k      0  0:00:01  0:00:01 --:--:-- 1984k\n",
      "curl: Saved to filename 'ENCFF432KJA.bed.gz'\n",
      "  % Total    % Received % Xferd  Average Speed   Time    Time     Time  Current\n",
      "                                 Dload  Upload   Total   Spent    Left  Speed\n",
      "100  1907  100  1907    0     0   3764      0 --:--:-- --:--:-- --:--:--  3768\n",
      "100  306k  100  306k    0     0   250k      0  0:00:01  0:00:01 --:--:--  534k\n",
      "curl: Saved to filename 'ENCFF837ZJJ.bed.gz'\n",
      "\n",
      "Checksum files...\n",
      "\n",
      "\n",
      "Done!\n",
      "Run Time: 33 minutes and 52 seconds\n",
      "\n"
     ]
    }
   ],
   "source": [
    "echo ${FP_LOG}\n",
    "echo\n",
    "head -n 20 ${FP_LOG}\n",
    "echo \n",
    "tail -n 20 ${FP_LOG}"
   ]
  },
  {
   "cell_type": "code",
   "execution_count": null,
   "id": "342c0aa6-6d84-4df1-bdb6-e6cb2b373d69",
   "metadata": {},
   "outputs": [],
   "source": []
  }
 ],
 "metadata": {
  "kernelspec": {
   "display_name": "Bash",
   "language": "bash",
   "name": "bash"
  },
  "language_info": {
   "codemirror_mode": "shell",
   "file_extension": ".sh",
   "mimetype": "text/x-sh",
   "name": "bash"
  }
 },
 "nbformat": 4,
 "nbformat_minor": 5
}
