{
 "cells": [
  {
   "cell_type": "raw",
   "id": "d9a9a9c3-c99e-40d6-8cd2-1911369f4021",
   "metadata": {},
   "source": [
    "---\n",
    "title: Prepare CRISPRi Growth data 01\n",
    "subtitle: Prepare data\n",
    "format:\n",
    "    html:\n",
    "        code-fold:  true\n",
    "        code-tools: true\n",
    "---"
   ]
  },
  {
   "cell_type": "markdown",
   "id": "60ea7569-5a89-4f36-a136-d73aa968f9ef",
   "metadata": {},
   "source": [
    "**Set environment**"
   ]
  },
  {
   "cell_type": "code",
   "execution_count": 1,
   "id": "89d66a58-b88c-43ae-a09a-78e65c58ab54",
   "metadata": {
    "tags": []
   },
   "outputs": [
    {
     "name": "stdout",
     "output_type": "stream",
     "text": [
      "You are working on        Singularity: singularity_proj_encode_fcc \n",
      "BASE DIRECTORY (FD_BASE): /data/reddylab/Kuei \n",
      "REPO DIRECTORY (FD_REPO): /data/reddylab/Kuei/repo \n",
      "WORK DIRECTORY (FD_WORK): /data/reddylab/Kuei/work \n",
      "DATA DIRECTORY (FD_DATA): /data/reddylab/Kuei/data \n",
      "\n",
      "You are working with      ENCODE FCC \n",
      "PATH OF PROJECT (FD_PRJ): /data/reddylab/Kuei/repo/Proj_ENCODE_FCC \n",
      "PROJECT RESULTS (FD_RES): /data/reddylab/Kuei/repo/Proj_ENCODE_FCC/results \n",
      "PROJECT SCRIPTS (FD_EXE): /data/reddylab/Kuei/repo/Proj_ENCODE_FCC/scripts \n",
      "PROJECT DATA    (FD_DAT): /data/reddylab/Kuei/repo/Proj_ENCODE_FCC/data \n",
      "PROJECT NOTE    (FD_NBK): /data/reddylab/Kuei/repo/Proj_ENCODE_FCC/notebooks \n",
      "PROJECT DOCS    (FD_DOC): /data/reddylab/Kuei/repo/Proj_ENCODE_FCC/docs \n",
      "PROJECT LOG     (FD_LOG): /data/reddylab/Kuei/repo/Proj_ENCODE_FCC/log \n",
      "PROJECT REF     (FD_REF): /data/reddylab/Kuei/repo/Proj_ENCODE_FCC/references \n",
      "\n"
     ]
    }
   ],
   "source": [
    "suppressMessages(suppressWarnings(source(\"../run_config_project_sing.R\")))\n",
    "show_env()"
   ]
  },
  {
   "cell_type": "markdown",
   "id": "105edc60-0c92-488e-bc0a-d0fc04ed33ee",
   "metadata": {},
   "source": [
    "**Set global variables**"
   ]
  },
  {
   "cell_type": "code",
   "execution_count": 2,
   "id": "81dd25a2-7d36-4519-9ef6-d324813cfb5f",
   "metadata": {},
   "outputs": [],
   "source": [
    "TXT_FOLDER_INP = \"CRISPRi_Growth_K562_Gersbach_Alex\"\n",
    "TXT_FOLDER_OUT = \"fcc_crispri_growth\""
   ]
  },
  {
   "cell_type": "code",
   "execution_count": 3,
   "id": "cc1a1662-b56b-44e8-97b6-8b059f2173d7",
   "metadata": {},
   "outputs": [
    {
     "name": "stdout",
     "output_type": "stream",
     "text": [
      "2023_resubmission \n",
      "k562-gw-v3-all.sorted.counts.results.hg38.txt.gz \n",
      "k562-gw-v3-all.sorted.counts.results.top_guide_fdr_0_05.hg38.bed.gz \n"
     ]
    }
   ],
   "source": [
    "txt_folder = TXT_FOLDER_INP\n",
    "txt_fdiry  = file.path(FD_DAT, \"processed\", txt_folder)\n",
    "\n",
    "vec = dir(txt_fdiry)\n",
    "for (txt in vec){cat(txt, \"\\n\")}"
   ]
  },
  {
   "cell_type": "markdown",
   "id": "72e94690-a74b-47ba-9746-0ffcaa296a18",
   "metadata": {},
   "source": [
    "## Import data"
   ]
  },
  {
   "cell_type": "markdown",
   "id": "5bdee34a-7e05-44e5-93ed-a6c5e1449feb",
   "metadata": {},
   "source": [
    "**Import total guides & tested DHS**"
   ]
  },
  {
   "cell_type": "code",
   "execution_count": 4,
   "id": "4c093400-a24f-4c98-9b1d-5d2fbd158cbb",
   "metadata": {},
   "outputs": [
    {
     "name": "stderr",
     "output_type": "stream",
     "text": [
      "\u001b[1m\u001b[22mNew names:\n",
      "\u001b[36m•\u001b[39m `` -> `...1`\n"
     ]
    },
    {
     "name": "stdout",
     "output_type": "stream",
     "text": [
      "[1] 1092166      22\n"
     ]
    },
    {
     "data": {
      "text/html": [
       "<table>\n",
       " <thead>\n",
       "  <tr>\n",
       "   <th style=\"text-align:right;\"> RowID </th>\n",
       "   <th style=\"text-align:right;\"> baseMean </th>\n",
       "   <th style=\"text-align:right;\"> log2FoldChange </th>\n",
       "   <th style=\"text-align:right;\"> lfcSE </th>\n",
       "   <th style=\"text-align:right;\"> stat </th>\n",
       "   <th style=\"text-align:right;\"> pvalue </th>\n",
       "   <th style=\"text-align:right;\"> padj </th>\n",
       "   <th style=\"text-align:right;\"> weight </th>\n",
       "   <th style=\"text-align:left;\"> name </th>\n",
       "   <th style=\"text-align:left;\"> dhs_chrom </th>\n",
       "   <th style=\"text-align:right;\"> dhs_start </th>\n",
       "   <th style=\"text-align:right;\"> dhs_end </th>\n",
       "   <th style=\"text-align:left;\"> ID </th>\n",
       "   <th style=\"text-align:left;\"> chrPerturbationTarget </th>\n",
       "   <th style=\"text-align:right;\"> startPerturbationTarget </th>\n",
       "   <th style=\"text-align:right;\"> endPerturbationTarget </th>\n",
       "   <th style=\"text-align:left;\"> chrom </th>\n",
       "   <th style=\"text-align:right;\"> start </th>\n",
       "   <th style=\"text-align:right;\"> end </th>\n",
       "   <th style=\"text-align:left;\"> dhs_id </th>\n",
       "   <th style=\"text-align:right;\"> score </th>\n",
       "   <th style=\"text-align:left;\"> strand </th>\n",
       "  </tr>\n",
       " </thead>\n",
       "<tbody>\n",
       "  <tr>\n",
       "   <td style=\"text-align:right;\"> 0 </td>\n",
       "   <td style=\"text-align:right;\"> 669.8027 </td>\n",
       "   <td style=\"text-align:right;\"> -0.9859338 </td>\n",
       "   <td style=\"text-align:right;\"> 0.1352781 </td>\n",
       "   <td style=\"text-align:right;\"> -7.5156478 </td>\n",
       "   <td style=\"text-align:right;\"> 0.0000000 </td>\n",
       "   <td style=\"text-align:right;\"> 0.0000000 </td>\n",
       "   <td style=\"text-align:right;\"> 1.0189024 </td>\n",
       "   <td style=\"text-align:left;\"> chr1.1.1 </td>\n",
       "   <td style=\"text-align:left;\"> chr1 </td>\n",
       "   <td style=\"text-align:right;\"> 540930 </td>\n",
       "   <td style=\"text-align:right;\"> 541007 </td>\n",
       "   <td style=\"text-align:left;\"> chr1.1 </td>\n",
       "   <td style=\"text-align:left;\"> chr1 </td>\n",
       "   <td style=\"text-align:right;\"> 540951 </td>\n",
       "   <td style=\"text-align:right;\"> 540970 </td>\n",
       "   <td style=\"text-align:left;\"> chr1 </td>\n",
       "   <td style=\"text-align:right;\"> 605550 </td>\n",
       "   <td style=\"text-align:right;\"> 605627 </td>\n",
       "   <td style=\"text-align:left;\"> chr1.1 </td>\n",
       "   <td style=\"text-align:right;\"> 521 </td>\n",
       "   <td style=\"text-align:left;\"> . </td>\n",
       "  </tr>\n",
       "  <tr>\n",
       "   <td style=\"text-align:right;\"> 1 </td>\n",
       "   <td style=\"text-align:right;\"> 1210.5948 </td>\n",
       "   <td style=\"text-align:right;\"> 0.0175568 </td>\n",
       "   <td style=\"text-align:right;\"> 0.1125958 </td>\n",
       "   <td style=\"text-align:right;\"> 0.9724725 </td>\n",
       "   <td style=\"text-align:right;\"> 0.3308155 </td>\n",
       "   <td style=\"text-align:right;\"> 0.8618381 </td>\n",
       "   <td style=\"text-align:right;\"> 1.3894218 </td>\n",
       "   <td style=\"text-align:left;\"> chr1.1.2 </td>\n",
       "   <td style=\"text-align:left;\"> chr1 </td>\n",
       "   <td style=\"text-align:right;\"> 540930 </td>\n",
       "   <td style=\"text-align:right;\"> 541007 </td>\n",
       "   <td style=\"text-align:left;\"> chr1.1 </td>\n",
       "   <td style=\"text-align:left;\"> chr1 </td>\n",
       "   <td style=\"text-align:right;\"> 540971 </td>\n",
       "   <td style=\"text-align:right;\"> 540990 </td>\n",
       "   <td style=\"text-align:left;\"> chr1 </td>\n",
       "   <td style=\"text-align:right;\"> 605550 </td>\n",
       "   <td style=\"text-align:right;\"> 605627 </td>\n",
       "   <td style=\"text-align:left;\"> chr1.1 </td>\n",
       "   <td style=\"text-align:right;\"> 521 </td>\n",
       "   <td style=\"text-align:left;\"> . </td>\n",
       "  </tr>\n",
       "  <tr>\n",
       "   <td style=\"text-align:right;\"> 2 </td>\n",
       "   <td style=\"text-align:right;\"> 2065.7482 </td>\n",
       "   <td style=\"text-align:right;\"> 0.0142221 </td>\n",
       "   <td style=\"text-align:right;\"> 0.0769462 </td>\n",
       "   <td style=\"text-align:right;\"> 0.7948325 </td>\n",
       "   <td style=\"text-align:right;\"> 0.4267110 </td>\n",
       "   <td style=\"text-align:right;\"> 0.9074943 </td>\n",
       "   <td style=\"text-align:right;\"> 1.2206106 </td>\n",
       "   <td style=\"text-align:left;\"> chr1.1.3 </td>\n",
       "   <td style=\"text-align:left;\"> chr1 </td>\n",
       "   <td style=\"text-align:right;\"> 540930 </td>\n",
       "   <td style=\"text-align:right;\"> 541007 </td>\n",
       "   <td style=\"text-align:left;\"> chr1.1 </td>\n",
       "   <td style=\"text-align:left;\"> chr1 </td>\n",
       "   <td style=\"text-align:right;\"> 540963 </td>\n",
       "   <td style=\"text-align:right;\"> 540982 </td>\n",
       "   <td style=\"text-align:left;\"> chr1 </td>\n",
       "   <td style=\"text-align:right;\"> 605550 </td>\n",
       "   <td style=\"text-align:right;\"> 605627 </td>\n",
       "   <td style=\"text-align:left;\"> chr1.1 </td>\n",
       "   <td style=\"text-align:right;\"> 521 </td>\n",
       "   <td style=\"text-align:left;\"> . </td>\n",
       "  </tr>\n",
       "  <tr>\n",
       "   <td style=\"text-align:right;\"> 3 </td>\n",
       "   <td style=\"text-align:right;\"> 670.0537 </td>\n",
       "   <td style=\"text-align:right;\"> 0.0184355 </td>\n",
       "   <td style=\"text-align:right;\"> 0.1262349 </td>\n",
       "   <td style=\"text-align:right;\"> 1.0421596 </td>\n",
       "   <td style=\"text-align:right;\"> 0.2973377 </td>\n",
       "   <td style=\"text-align:right;\"> 0.8864450 </td>\n",
       "   <td style=\"text-align:right;\"> 1.0189024 </td>\n",
       "   <td style=\"text-align:left;\"> chr1.1.4 </td>\n",
       "   <td style=\"text-align:left;\"> chr1 </td>\n",
       "   <td style=\"text-align:right;\"> 540930 </td>\n",
       "   <td style=\"text-align:right;\"> 541007 </td>\n",
       "   <td style=\"text-align:left;\"> chr1.1 </td>\n",
       "   <td style=\"text-align:left;\"> chr1 </td>\n",
       "   <td style=\"text-align:right;\"> 540953 </td>\n",
       "   <td style=\"text-align:right;\"> 540972 </td>\n",
       "   <td style=\"text-align:left;\"> chr1 </td>\n",
       "   <td style=\"text-align:right;\"> 605550 </td>\n",
       "   <td style=\"text-align:right;\"> 605627 </td>\n",
       "   <td style=\"text-align:left;\"> chr1.1 </td>\n",
       "   <td style=\"text-align:right;\"> 521 </td>\n",
       "   <td style=\"text-align:left;\"> . </td>\n",
       "  </tr>\n",
       "  <tr>\n",
       "   <td style=\"text-align:right;\"> 4 </td>\n",
       "   <td style=\"text-align:right;\"> 1023.9170 </td>\n",
       "   <td style=\"text-align:right;\"> 0.0112653 </td>\n",
       "   <td style=\"text-align:right;\"> 0.1017871 </td>\n",
       "   <td style=\"text-align:right;\"> 0.6436207 </td>\n",
       "   <td style=\"text-align:right;\"> 0.5198214 </td>\n",
       "   <td style=\"text-align:right;\"> 0.9145863 </td>\n",
       "   <td style=\"text-align:right;\"> 1.3894218 </td>\n",
       "   <td style=\"text-align:left;\"> chr1.1.5 </td>\n",
       "   <td style=\"text-align:left;\"> chr1 </td>\n",
       "   <td style=\"text-align:right;\"> 540930 </td>\n",
       "   <td style=\"text-align:right;\"> 541007 </td>\n",
       "   <td style=\"text-align:left;\"> chr1.1 </td>\n",
       "   <td style=\"text-align:left;\"> chr1 </td>\n",
       "   <td style=\"text-align:right;\"> 540954 </td>\n",
       "   <td style=\"text-align:right;\"> 540973 </td>\n",
       "   <td style=\"text-align:left;\"> chr1 </td>\n",
       "   <td style=\"text-align:right;\"> 605550 </td>\n",
       "   <td style=\"text-align:right;\"> 605627 </td>\n",
       "   <td style=\"text-align:left;\"> chr1.1 </td>\n",
       "   <td style=\"text-align:right;\"> 521 </td>\n",
       "   <td style=\"text-align:left;\"> . </td>\n",
       "  </tr>\n",
       "  <tr>\n",
       "   <td style=\"text-align:right;\"> 5 </td>\n",
       "   <td style=\"text-align:right;\"> 605.4137 </td>\n",
       "   <td style=\"text-align:right;\"> 0.0324261 </td>\n",
       "   <td style=\"text-align:right;\"> 0.1459777 </td>\n",
       "   <td style=\"text-align:right;\"> 1.6813118 </td>\n",
       "   <td style=\"text-align:right;\"> 0.0927024 </td>\n",
       "   <td style=\"text-align:right;\"> 0.7390114 </td>\n",
       "   <td style=\"text-align:right;\"> 0.9584715 </td>\n",
       "   <td style=\"text-align:left;\"> chr1.1.6 </td>\n",
       "   <td style=\"text-align:left;\"> chr1 </td>\n",
       "   <td style=\"text-align:right;\"> 540930 </td>\n",
       "   <td style=\"text-align:right;\"> 541007 </td>\n",
       "   <td style=\"text-align:left;\"> chr1.1 </td>\n",
       "   <td style=\"text-align:left;\"> chr1 </td>\n",
       "   <td style=\"text-align:right;\"> 540979 </td>\n",
       "   <td style=\"text-align:right;\"> 540998 </td>\n",
       "   <td style=\"text-align:left;\"> chr1 </td>\n",
       "   <td style=\"text-align:right;\"> 605550 </td>\n",
       "   <td style=\"text-align:right;\"> 605627 </td>\n",
       "   <td style=\"text-align:left;\"> chr1.1 </td>\n",
       "   <td style=\"text-align:right;\"> 521 </td>\n",
       "   <td style=\"text-align:left;\"> . </td>\n",
       "  </tr>\n",
       "</tbody>\n",
       "</table>"
      ]
     },
     "metadata": {},
     "output_type": "display_data"
    }
   ],
   "source": [
    "### set directory\n",
    "txt_folder = TXT_FOLDER_INP\n",
    "txt_fdiry  = file.path(FD_DAT, \"processed\", txt_folder)\n",
    "txt_fname  = \"k562-gw-v3-all.sorted.counts.results.hg38.txt.gz\"\n",
    "txt_fpath  = file.path(txt_fdiry, txt_fname)\n",
    "\n",
    "### read data\n",
    "dat = read_tsv(txt_fpath, show_col_types = FALSE)\n",
    "colnames(dat)[1] = \"RowID\"\n",
    "\n",
    "### assign and show\n",
    "dat_region_crispri_growth_total = dat\n",
    "print(dim(dat))\n",
    "fun_display_table(head(dat))"
   ]
  },
  {
   "cell_type": "markdown",
   "id": "487b8692-b194-43a2-ae54-de1179e9f6f4",
   "metadata": {},
   "source": [
    "**Import significant guides**"
   ]
  },
  {
   "cell_type": "code",
   "execution_count": 5,
   "id": "56cafd80-40ee-45bd-9dce-0292f38d3550",
   "metadata": {},
   "outputs": [
    {
     "name": "stderr",
     "output_type": "stream",
     "text": [
      "\u001b[1m\u001b[22mNew names:\n",
      "\u001b[36m•\u001b[39m `` -> `...1`\n"
     ]
    },
    {
     "name": "stdout",
     "output_type": "stream",
     "text": [
      "[1] 6242    7\n"
     ]
    },
    {
     "data": {
      "text/html": [
       "<table>\n",
       " <thead>\n",
       "  <tr>\n",
       "   <th style=\"text-align:right;\"> RowID </th>\n",
       "   <th style=\"text-align:left;\"> chrom </th>\n",
       "   <th style=\"text-align:right;\"> start </th>\n",
       "   <th style=\"text-align:right;\"> end </th>\n",
       "   <th style=\"text-align:left;\"> name </th>\n",
       "   <th style=\"text-align:right;\"> log2FoldChange </th>\n",
       "   <th style=\"text-align:right;\"> padj </th>\n",
       "  </tr>\n",
       " </thead>\n",
       "<tbody>\n",
       "  <tr>\n",
       "   <td style=\"text-align:right;\"> 504606 </td>\n",
       "   <td style=\"text-align:left;\"> chr19 </td>\n",
       "   <td style=\"text-align:right;\"> 11155578 </td>\n",
       "   <td style=\"text-align:right;\"> 11156290 </td>\n",
       "   <td style=\"text-align:left;\"> chr19.1899.3 </td>\n",
       "   <td style=\"text-align:right;\"> -2.549922 </td>\n",
       "   <td style=\"text-align:right;\"> 0 </td>\n",
       "  </tr>\n",
       "  <tr>\n",
       "   <td style=\"text-align:right;\"> 686888 </td>\n",
       "   <td style=\"text-align:left;\"> chr22 </td>\n",
       "   <td style=\"text-align:right;\"> 30356286 </td>\n",
       "   <td style=\"text-align:right;\"> 30357525 </td>\n",
       "   <td style=\"text-align:left;\"> chr22.1285.6 </td>\n",
       "   <td style=\"text-align:right;\"> -3.059909 </td>\n",
       "   <td style=\"text-align:right;\"> 0 </td>\n",
       "  </tr>\n",
       "  <tr>\n",
       "   <td style=\"text-align:right;\"> 868222 </td>\n",
       "   <td style=\"text-align:left;\"> chr6 </td>\n",
       "   <td style=\"text-align:right;\"> 34530428 </td>\n",
       "   <td style=\"text-align:right;\"> 34530534 </td>\n",
       "   <td style=\"text-align:left;\"> chr6.2172.8 </td>\n",
       "   <td style=\"text-align:right;\"> -3.100194 </td>\n",
       "   <td style=\"text-align:right;\"> 0 </td>\n",
       "  </tr>\n",
       "  <tr>\n",
       "   <td style=\"text-align:right;\"> 50002 </td>\n",
       "   <td style=\"text-align:left;\"> chr1 </td>\n",
       "   <td style=\"text-align:right;\"> 20685850 </td>\n",
       "   <td style=\"text-align:right;\"> 20686283 </td>\n",
       "   <td style=\"text-align:left;\"> chr1.2930.10 </td>\n",
       "   <td style=\"text-align:right;\"> -2.862158 </td>\n",
       "   <td style=\"text-align:right;\"> 0 </td>\n",
       "  </tr>\n",
       "  <tr>\n",
       "   <td style=\"text-align:right;\"> 811835 </td>\n",
       "   <td style=\"text-align:left;\"> chr5 </td>\n",
       "   <td style=\"text-align:right;\"> 70924811 </td>\n",
       "   <td style=\"text-align:right;\"> 70925615 </td>\n",
       "   <td style=\"text-align:left;\"> chr5.1649.1 </td>\n",
       "   <td style=\"text-align:right;\"> -2.927110 </td>\n",
       "   <td style=\"text-align:right;\"> 0 </td>\n",
       "  </tr>\n",
       "  <tr>\n",
       "   <td style=\"text-align:right;\"> 811815 </td>\n",
       "   <td style=\"text-align:left;\"> chr5 </td>\n",
       "   <td style=\"text-align:right;\"> 70049360 </td>\n",
       "   <td style=\"text-align:right;\"> 70050252 </td>\n",
       "   <td style=\"text-align:left;\"> chr5.1647.1 </td>\n",
       "   <td style=\"text-align:right;\"> -2.927110 </td>\n",
       "   <td style=\"text-align:right;\"> 0 </td>\n",
       "  </tr>\n",
       "</tbody>\n",
       "</table>"
      ]
     },
     "metadata": {},
     "output_type": "display_data"
    }
   ],
   "source": [
    "### set file directory\n",
    "txt_folder = TXT_FOLDER_INP\n",
    "txt_fdiry  = file.path(FD_DAT, \"processed\", txt_folder)\n",
    "txt_fname = \"k562-gw-v3-all.sorted.counts.results.top_guide_fdr_0_05.hg38.bed.gz\"\n",
    "txt_fpath = file.path(txt_fdiry, txt_fname)\n",
    "\n",
    "### read data\n",
    "dat = read_tsv(txt_fpath, show_col_types = FALSE)\n",
    "colnames(dat)[1] = \"RowID\"\n",
    "\n",
    "### assign and show\n",
    "dat_region_crispri_growth_signif = dat\n",
    "print(dim(dat))\n",
    "fun_display_table(head(dat))"
   ]
  },
  {
   "cell_type": "markdown",
   "id": "6b562bba-644a-4ff2-bc24-2d45b56549dc",
   "metadata": {},
   "source": [
    "## Arrange tables"
   ]
  },
  {
   "cell_type": "code",
   "execution_count": 6,
   "id": "eeea4bf2-dd28-4b5e-995c-22d69f28d12c",
   "metadata": {},
   "outputs": [],
   "source": [
    "### init: list of data\n",
    "lst = list(\n",
    "    \"Total\"  = dat_region_crispri_growth_total,\n",
    "    \"Signif\" = dat_region_crispri_growth_signif\n",
    ")\n",
    "\n",
    "### columns and assay type\n",
    "vec_txt_cname = c(\n",
    "    'Chrom', 'ChromStart', 'ChromEnd', 'Region', \n",
    "    'Guide_ID', \n",
    "    'Log2FC', \n",
    "    'Padj',\n",
    "    'Group',\n",
    "    'Label'\n",
    ")\n",
    "vec_txt_label = names(lst)\n",
    "txt_group = \"CRISPRi-Growth\"\n",
    "\n",
    "### extract columns and arrange table\n",
    "lst = lapply(vec_txt_label, function(txt_label){\n",
    "    dat = lst[[txt_label]]\n",
    "    dat = dat %>%\n",
    "        dplyr::mutate(\n",
    "            Chrom      = chrom,\n",
    "            ChromStart = start,\n",
    "            ChromEnd   = end,\n",
    "            Region     = fun_gen_region(chrom, start, end),\n",
    "            Guide_ID   = name,\n",
    "            Log2FC     = log2FoldChange,\n",
    "            Padj       = padj,\n",
    "            Group      = txt_group,\n",
    "            Label      = txt_label\n",
    "        ) %>%\n",
    "        dplyr::select({{vec_txt_cname}}) %>% \n",
    "        dplyr::arrange(Chrom, ChromStart, ChromEnd) %>%\n",
    "        dplyr::distinct()\n",
    "    return(dat)\n",
    "})\n",
    "names(lst) = vec_txt_label\n",
    "\n",
    "### assign\n",
    "lst_dat_region_arrange = lst"
   ]
  },
  {
   "cell_type": "markdown",
   "id": "d941a593-8e1a-4c9a-a760-0471def9df22",
   "metadata": {},
   "source": [
    "**Explore: number of regions**"
   ]
  },
  {
   "cell_type": "code",
   "execution_count": 7,
   "id": "0a77187f-a42e-435d-9cb7-f683f1ecde30",
   "metadata": {},
   "outputs": [
    {
     "name": "stdout",
     "output_type": "stream",
     "text": [
      "#Row    (Total): 1092166 \n",
      "#Region (Total): 111702 \n",
      "\n",
      "#Row    (Signif): 6242 \n",
      "#Region (Signif): 6242 \n"
     ]
    }
   ],
   "source": [
    "### init\n",
    "lst = lst_dat_region_arrange\n",
    "\n",
    "### show information\n",
    "dat = lst[['Total']]\n",
    "vec_txt_region = unique(dat$Region)\n",
    "cat(\"#Row    (Total):\", nrow(dat),              \"\\n\")\n",
    "cat(\"#Region (Total):\", length(vec_txt_region), \"\\n\")\n",
    "cat(\"\\n\")\n",
    "\n",
    "### show information\n",
    "dat = lst[['Signif']]\n",
    "vec_txt_region = unique(dat$Region)\n",
    "cat(\"#Row    (Signif):\", nrow(dat),              \"\\n\")\n",
    "cat(\"#Region (Signif):\", length(vec_txt_region), \"\\n\")"
   ]
  },
  {
   "cell_type": "markdown",
   "id": "c5d8295b-30aa-4031-89bb-a6445a0c5fdd",
   "metadata": {},
   "source": [
    "**Check: column names**"
   ]
  },
  {
   "cell_type": "code",
   "execution_count": 8,
   "id": "98263b60-bc2c-4e13-b284-215861cb7049",
   "metadata": {},
   "outputs": [
    {
     "data": {
      "text/html": [
       "<style>\n",
       ".list-inline {list-style: none; margin:0; padding: 0}\n",
       ".list-inline>li {display: inline-block}\n",
       ".list-inline>li:not(:last-child)::after {content: \"\\00b7\"; padding: 0 .5ex}\n",
       "</style>\n",
       "<ol class=list-inline><li>'Chrom'</li><li>'ChromStart'</li><li>'ChromEnd'</li><li>'Region'</li><li>'Guide_ID'</li><li>'Log2FC'</li><li>'Padj'</li><li>'Group'</li><li>'Label'</li></ol>\n"
      ],
      "text/latex": [
       "\\begin{enumerate*}\n",
       "\\item 'Chrom'\n",
       "\\item 'ChromStart'\n",
       "\\item 'ChromEnd'\n",
       "\\item 'Region'\n",
       "\\item 'Guide\\_ID'\n",
       "\\item 'Log2FC'\n",
       "\\item 'Padj'\n",
       "\\item 'Group'\n",
       "\\item 'Label'\n",
       "\\end{enumerate*}\n"
      ],
      "text/markdown": [
       "1. 'Chrom'\n",
       "2. 'ChromStart'\n",
       "3. 'ChromEnd'\n",
       "4. 'Region'\n",
       "5. 'Guide_ID'\n",
       "6. 'Log2FC'\n",
       "7. 'Padj'\n",
       "8. 'Group'\n",
       "9. 'Label'\n",
       "\n",
       "\n"
      ],
      "text/plain": [
       "[1] \"Chrom\"      \"ChromStart\" \"ChromEnd\"   \"Region\"     \"Guide_ID\"  \n",
       "[6] \"Log2FC\"     \"Padj\"       \"Group\"      \"Label\"     "
      ]
     },
     "metadata": {},
     "output_type": "display_data"
    }
   ],
   "source": [
    "dat = lst[['Signif']]\n",
    "colnames(dat)"
   ]
  },
  {
   "cell_type": "markdown",
   "id": "54de3479-ac91-4b47-b043-7b8a039168ad",
   "metadata": {},
   "source": [
    "**Check: all active regions are within the set of total regions**"
   ]
  },
  {
   "cell_type": "code",
   "execution_count": 9,
   "id": "7a8c290d-ac57-4ca1-8484-7e9479ebf85c",
   "metadata": {},
   "outputs": [
    {
     "name": "stdout",
     "output_type": "stream",
     "text": [
      "[1] TRUE\n"
     ]
    }
   ],
   "source": [
    "dat  = lst[['Signif']]\n",
    "vec1 = unique(dat$Region)\n",
    "\n",
    "dat  = lst[['Total']]\n",
    "vec2 = unique(dat$Region)\n",
    "\n",
    "print(all(vec1 %in% vec2))"
   ]
  },
  {
   "cell_type": "markdown",
   "id": "82f06532-48ec-4fca-b2c6-babe6c5ced8e",
   "metadata": {},
   "source": [
    "## Define column description"
   ]
  },
  {
   "cell_type": "code",
   "execution_count": 10,
   "id": "d484fed7-838d-4cf0-a250-c18d22bab362",
   "metadata": {},
   "outputs": [
    {
     "data": {
      "text/html": [
       "<table>\n",
       " <thead>\n",
       "  <tr>\n",
       "   <th style=\"text-align:left;\"> Name </th>\n",
       "   <th style=\"text-align:left;\"> Note </th>\n",
       "  </tr>\n",
       " </thead>\n",
       "<tbody>\n",
       "  <tr>\n",
       "   <td style=\"text-align:left;\"> Chrom </td>\n",
       "   <td style=\"text-align:left;\"> Name of the chromosome </td>\n",
       "  </tr>\n",
       "  <tr>\n",
       "   <td style=\"text-align:left;\"> ChromStart </td>\n",
       "   <td style=\"text-align:left;\"> The starting position of the feature in the chromosome </td>\n",
       "  </tr>\n",
       "  <tr>\n",
       "   <td style=\"text-align:left;\"> ChromEnd </td>\n",
       "   <td style=\"text-align:left;\"> The ending position of the feature in the chromosome </td>\n",
       "  </tr>\n",
       "  <tr>\n",
       "   <td style=\"text-align:left;\"> Region </td>\n",
       "   <td style=\"text-align:left;\"> Region location </td>\n",
       "  </tr>\n",
       "  <tr>\n",
       "   <td style=\"text-align:left;\"> Guide_ID </td>\n",
       "   <td style=\"text-align:left;\"> ID of significant guide within the DHS </td>\n",
       "  </tr>\n",
       "  <tr>\n",
       "   <td style=\"text-align:left;\"> Log2FC </td>\n",
       "   <td style=\"text-align:left;\"> log2foldchange of the guide </td>\n",
       "  </tr>\n",
       "  <tr>\n",
       "   <td style=\"text-align:left;\"> Padj </td>\n",
       "   <td style=\"text-align:left;\"> Adjusted p value of the guide </td>\n",
       "  </tr>\n",
       "  <tr>\n",
       "   <td style=\"text-align:left;\"> Group </td>\n",
       "   <td style=\"text-align:left;\"> Assay Name </td>\n",
       "  </tr>\n",
       "  <tr>\n",
       "   <td style=\"text-align:left;\"> Label </td>\n",
       "   <td style=\"text-align:left;\"> Assay Name </td>\n",
       "  </tr>\n",
       "</tbody>\n",
       "</table>"
      ]
     },
     "metadata": {},
     "output_type": "display_data"
    }
   ],
   "source": [
    "### set column name and description\n",
    "dat = tribble(\n",
    "    ~Name,        ~Note,\n",
    "    \"Chrom\",      \"Name of the chromosome\",\n",
    "    \"ChromStart\", \"The starting position of the feature in the chromosome\",\n",
    "    \"ChromEnd\",   \"The ending position of the feature in the chromosome\",\n",
    "    \"Region\",     \"Region location\",\n",
    "    \"Guide_ID\",   \"ID of significant guide within the DHS\",\n",
    "    \"Log2FC\",     \"log2foldchange of the guide\",\n",
    "    \"Padj\",       \"Adjusted p value of the guide\",\n",
    "    \"Group\",      \"Assay Name\",\n",
    "    \"Label\",      \"Assay Name\"\n",
    ")\n",
    "\n",
    "### assign and show\n",
    "dat_cname = dat\n",
    "fun_display_table(dat)"
   ]
  },
  {
   "cell_type": "markdown",
   "id": "ef2ee02b-808b-40b2-8422-db4cb54f7a9f",
   "metadata": {},
   "source": [
    "## Save results"
   ]
  },
  {
   "cell_type": "code",
   "execution_count": 11,
   "id": "8605c6f6-421a-4cd4-a4f8-c796c8135617",
   "metadata": {},
   "outputs": [],
   "source": [
    "### set directory\n",
    "txt_folder = TXT_FOLDER_OUT\n",
    "txt_fdiry  = file.path(FD_RES, \"region\", txt_folder)\n",
    "txt_cmd    = paste(\"mkdir -p\", txt_fdiry)\n",
    "system(txt_cmd)"
   ]
  },
  {
   "cell_type": "markdown",
   "id": "5f66c6b4-2f0d-4eb9-8f3d-73b4be09a750",
   "metadata": {},
   "source": [
    "**Write column descriptions**"
   ]
  },
  {
   "cell_type": "code",
   "execution_count": 12,
   "id": "49c2251a-a725-4715-80bf-f6c0aa303d36",
   "metadata": {},
   "outputs": [],
   "source": [
    "txt_folder = TXT_FOLDER_OUT\n",
    "txt_fdiry  = file.path(FD_RES, \"region\", txt_folder, \"summary\")\n",
    "txt_fname  = \"description.tsv\"\n",
    "txt_fpath  = file.path(txt_fdiry, txt_fname)\n",
    "\n",
    "dir.create(txt_fdiry, showWarnings = FALSE)\n",
    "dat = dat_cname\n",
    "write_tsv(dat, txt_fpath)"
   ]
  },
  {
   "cell_type": "markdown",
   "id": "bd2c703b-584b-4cb4-9e3f-07a63bac40f3",
   "metadata": {},
   "source": [
    "**Write bed files**"
   ]
  },
  {
   "cell_type": "code",
   "execution_count": 13,
   "id": "03162750-58a5-44dd-834e-81e36ce30eec",
   "metadata": {},
   "outputs": [],
   "source": [
    "### set directory\n",
    "txt_folder = TXT_FOLDER_OUT\n",
    "txt_fdiry  = file.path(FD_RES, \"region\", txt_folder)\n",
    "\n",
    "### write table\n",
    "txt_fname = \"K562.hg38.CRISPRi_Growth.total.bed.gz\"\n",
    "txt_fpath = file.path(txt_fdiry, txt_fname)\n",
    "\n",
    "dat = lst[['Total']]\n",
    "write_tsv(dat, txt_fpath, col_names = FALSE)\n",
    "\n",
    "### write table\n",
    "txt_fname = \"K562.hg38.CRISPRi_Growth.signif.bed.gz\"\n",
    "txt_fpath = file.path(txt_fdiry, txt_fname)\n",
    "\n",
    "dat = lst[['Signif']]\n",
    "write_tsv(dat, txt_fpath, col_names = FALSE)"
   ]
  },
  {
   "cell_type": "markdown",
   "id": "cc53020a-74f8-4ee9-b19d-89de0c3548ab",
   "metadata": {},
   "source": [
    "**Write tables**"
   ]
  },
  {
   "cell_type": "code",
   "execution_count": 14,
   "id": "7bc928d7-0937-4577-951e-92e6a1fdbe73",
   "metadata": {},
   "outputs": [],
   "source": [
    "### set directory\n",
    "txt_folder = TXT_FOLDER_OUT\n",
    "txt_fdiry  = file.path(FD_RES, \"region\", txt_folder, \"summary\")\n",
    "\n",
    "### write table\n",
    "txt_fname = \"K562.hg38.CRISPRi_Growth.total.tsv\"\n",
    "txt_fpath = file.path(txt_fdiry, txt_fname)\n",
    "\n",
    "dat = lst[['Total']]\n",
    "write_tsv(dat, txt_fpath, col_names = TRUE)\n",
    "\n",
    "### write table\n",
    "txt_fname = \"K562.hg38.CRISPRi_Growth.signif.tsv\"\n",
    "txt_fpath = file.path(txt_fdiry, txt_fname)\n",
    "\n",
    "dat = lst[['Signif']]\n",
    "write_tsv(dat, txt_fpath, col_names = TRUE)"
   ]
  },
  {
   "cell_type": "code",
   "execution_count": null,
   "id": "eccc04dd-02e2-4669-9bcc-add99f30bed2",
   "metadata": {},
   "outputs": [],
   "source": []
  }
 ],
 "metadata": {
  "kernelspec": {
   "display_name": "R",
   "language": "R",
   "name": "ir"
  },
  "language_info": {
   "codemirror_mode": "r",
   "file_extension": ".r",
   "mimetype": "text/x-r-source",
   "name": "R",
   "pygments_lexer": "r",
   "version": "4.5.1"
  }
 },
 "nbformat": 4,
 "nbformat_minor": 5
}
