{
 "cells": [
  {
   "cell_type": "raw",
   "id": "234a8c65-e1a5-4b31-9dc6-39f7ed372a8c",
   "metadata": {},
   "source": [
    "---\n",
    "title: Prepare ENCODE ChIP-seq 14 (Histone)\n",
    "subtitle: Export metadata\n",
    "format:\n",
    "    html:\n",
    "        code-fold:  true\n",
    "        code-tools: true\n",
    "---"
   ]
  },
  {
   "cell_type": "markdown",
   "id": "63fd6c65-59fc-479a-b218-972b75e90c9f",
   "metadata": {},
   "source": [
    "**Set environment**"
   ]
  },
  {
   "cell_type": "code",
   "execution_count": 1,
   "id": "b254d2a5-32b9-45a5-871d-23ddd72f0842",
   "metadata": {},
   "outputs": [
    {
     "name": "stdout",
     "output_type": "stream",
     "text": [
      "You are working on        Singularity: singularity_proj_encode_fcc \n",
      "BASE DIRECTORY (FD_BASE): /data/reddylab/Kuei \n",
      "REPO DIRECTORY (FD_REPO): /data/reddylab/Kuei/repo \n",
      "WORK DIRECTORY (FD_WORK): /data/reddylab/Kuei/work \n",
      "DATA DIRECTORY (FD_DATA): /data/reddylab/Kuei/data \n",
      "\n",
      "You are working with      ENCODE FCC \n",
      "PATH OF PROJECT (FD_PRJ): /data/reddylab/Kuei/repo/Proj_ENCODE_FCC \n",
      "PROJECT RESULTS (FD_RES): /data/reddylab/Kuei/repo/Proj_ENCODE_FCC/results \n",
      "PROJECT SCRIPTS (FD_EXE): /data/reddylab/Kuei/repo/Proj_ENCODE_FCC/scripts \n",
      "PROJECT DATA    (FD_DAT): /data/reddylab/Kuei/repo/Proj_ENCODE_FCC/data \n",
      "PROJECT NOTE    (FD_NBK): /data/reddylab/Kuei/repo/Proj_ENCODE_FCC/notebooks \n",
      "PROJECT DOCS    (FD_DOC): /data/reddylab/Kuei/repo/Proj_ENCODE_FCC/docs \n",
      "PROJECT LOG     (FD_LOG): /data/reddylab/Kuei/repo/Proj_ENCODE_FCC/log \n",
      "PROJECT REF     (FD_REF): /data/reddylab/Kuei/repo/Proj_ENCODE_FCC/references \n",
      "\n"
     ]
    }
   ],
   "source": [
    "suppressMessages(suppressWarnings(source(\"../run_config_project_sing.R\")))\n",
    "show_env()"
   ]
  },
  {
   "cell_type": "markdown",
   "id": "97ce541f-9b0b-42fe-b38e-56f142ad4572",
   "metadata": {},
   "source": [
    "**Set global variables**"
   ]
  },
  {
   "cell_type": "code",
   "execution_count": 7,
   "id": "a847fd69-683a-48de-b7c6-5a63d8db5ee5",
   "metadata": {},
   "outputs": [],
   "source": [
    "TXT_FOLDER_DATA   = \"encode_chipseq_histone_241223\"\n",
    "TXT_FOLDER_REGION = \"encode_chipseq_histone\""
   ]
  },
  {
   "cell_type": "code",
   "execution_count": 3,
   "id": "f24f5152-0224-44eb-a5d4-e72780a1af8a",
   "metadata": {},
   "outputs": [
    {
     "name": "stdout",
     "output_type": "stream",
     "text": [
      "encode_chipseq_histone \n",
      "encode_chipseq_tf \n",
      "protein_interpro \n"
     ]
    }
   ],
   "source": [
    "txt_fdiry = file.path(FD_RES, \"annotation\")\n",
    "vec = dir(txt_fdiry)\n",
    "for(txt in vec){cat(txt, \"\\n\")}"
   ]
  },
  {
   "cell_type": "code",
   "execution_count": 4,
   "id": "051f4921-3dc4-4e14-b73b-50e7318abe65",
   "metadata": {},
   "outputs": [
    {
     "name": "stdout",
     "output_type": "stream",
     "text": [
      "ENCFF054RSU.bigWig \n",
      "ENCFF071GML.bigWig \n",
      "ENCFF178QDA.bigWig \n",
      "ENCFF202EVH.bigWig \n",
      "ENCFF220RGS.bigWig \n",
      "ENCFF239EBH.bigWig \n",
      "ENCFF287LBI.bigWig \n",
      "ENCFF334HSS.bigWig \n",
      "ENCFF405ZDL.bigWig \n",
      "ENCFF457URZ.bigWig \n",
      "ENCFF461RKK.bigWig \n",
      "ENCFF465GBD.bigWig \n",
      "ENCFF582IMB.bigWig \n",
      "ENCFF605EVL.bigWig \n",
      "ENCFF632NQA.bigWig \n",
      "ENCFF633OZC.bigWig \n",
      "ENCFF694ODT.bigWig \n",
      "ENCFF767UON.bigWig \n",
      "ENCFF847BFA.bigWig \n"
     ]
    }
   ],
   "source": [
    "txt_foldr = TXT_FOLDER_REGION\n",
    "txt_fdiry = file.path(FD_RES, \"annotation\", txt_foldr)\n",
    "vec = dir(txt_fdiry)\n",
    "for(txt in vec){cat(txt, \"\\n\")}"
   ]
  },
  {
   "cell_type": "code",
   "execution_count": null,
   "id": "19ec379d-4a1b-4d04-9366-2161e681bf1f",
   "metadata": {},
   "outputs": [],
   "source": []
  },
  {
   "cell_type": "code",
   "execution_count": 14,
   "id": "191e23e7-24b1-4cd3-b7b2-1ee7ba81a030",
   "metadata": {},
   "outputs": [
    {
     "name": "stdout",
     "output_type": "stream",
     "text": [
      "[1] 38 11\n"
     ]
    },
    {
     "data": {
      "text/html": [
       "<table>\n",
       " <thead>\n",
       "  <tr>\n",
       "   <th style=\"text-align:left;\"> Assay </th>\n",
       "   <th style=\"text-align:left;\"> Index_Experiment </th>\n",
       "   <th style=\"text-align:left;\"> Index_File </th>\n",
       "   <th style=\"text-align:left;\"> File_Type </th>\n",
       "   <th style=\"text-align:left;\"> Output_Type </th>\n",
       "   <th style=\"text-align:left;\"> Genome </th>\n",
       "   <th style=\"text-align:left;\"> Target </th>\n",
       "   <th style=\"text-align:left;\"> Analysis </th>\n",
       "   <th style=\"text-align:left;\"> md5sum </th>\n",
       "   <th style=\"text-align:left;\"> File_Name </th>\n",
       "   <th style=\"text-align:left;\"> File_URL </th>\n",
       "  </tr>\n",
       " </thead>\n",
       "<tbody>\n",
       "  <tr>\n",
       "   <td style=\"text-align:left;\"> Histone ChIP-seq </td>\n",
       "   <td style=\"text-align:left;\"> ENCSR000DWD </td>\n",
       "   <td style=\"text-align:left;\"> ENCFF071GML </td>\n",
       "   <td style=\"text-align:left;\"> bigWig </td>\n",
       "   <td style=\"text-align:left;\"> signal p-value </td>\n",
       "   <td style=\"text-align:left;\"> GRCh38 </td>\n",
       "   <td style=\"text-align:left;\"> H3K4me3 </td>\n",
       "   <td style=\"text-align:left;\"> ENCODE4 v1.5.1 GRCh38 </td>\n",
       "   <td style=\"text-align:left;\"> bf514a6b8cd5fb9e10027629ff5bbf97 </td>\n",
       "   <td style=\"text-align:left;\"> ENCFF071GML.bigWig </td>\n",
       "   <td style=\"text-align:left;\"> https://www.encodeproject.org/files/ENCFF071GML/@@download/ENCFF071GML.bigWig </td>\n",
       "  </tr>\n",
       "  <tr>\n",
       "   <td style=\"text-align:left;\"> Histone ChIP-seq </td>\n",
       "   <td style=\"text-align:left;\"> ENCSR000DWD </td>\n",
       "   <td style=\"text-align:left;\"> ENCFF706WUF </td>\n",
       "   <td style=\"text-align:left;\"> bed </td>\n",
       "   <td style=\"text-align:left;\"> replicated peaks </td>\n",
       "   <td style=\"text-align:left;\"> GRCh38 </td>\n",
       "   <td style=\"text-align:left;\"> H3K4me3 </td>\n",
       "   <td style=\"text-align:left;\"> ENCODE4 v1.5.1 GRCh38 </td>\n",
       "   <td style=\"text-align:left;\"> f7616f8937225476151f4af2262dcfeb </td>\n",
       "   <td style=\"text-align:left;\"> ENCFF706WUF.bed.gz </td>\n",
       "   <td style=\"text-align:left;\"> https://www.encodeproject.org/files/ENCFF706WUF/@@download/ENCFF706WUF.bed.gz </td>\n",
       "  </tr>\n",
       "  <tr>\n",
       "   <td style=\"text-align:left;\"> Histone ChIP-seq </td>\n",
       "   <td style=\"text-align:left;\"> ENCSR000AKW </td>\n",
       "   <td style=\"text-align:left;\"> ENCFF462AVD </td>\n",
       "   <td style=\"text-align:left;\"> bed </td>\n",
       "   <td style=\"text-align:left;\"> pseudoreplicated peaks </td>\n",
       "   <td style=\"text-align:left;\"> GRCh38 </td>\n",
       "   <td style=\"text-align:left;\"> H3K9me1 </td>\n",
       "   <td style=\"text-align:left;\"> ENCODE4 v1.6.0 GRCh38 </td>\n",
       "   <td style=\"text-align:left;\"> 5ddbfd027332e8d38e801dd1eaa7575c </td>\n",
       "   <td style=\"text-align:left;\"> ENCFF462AVD.bed.gz </td>\n",
       "   <td style=\"text-align:left;\"> https://www.encodeproject.org/files/ENCFF462AVD/@@download/ENCFF462AVD.bed.gz </td>\n",
       "  </tr>\n",
       "</tbody>\n",
       "</table>"
      ]
     },
     "metadata": {},
     "output_type": "display_data"
    }
   ],
   "source": [
    "### set directory\n",
    "txt_foldr = TXT_FOLDER_DATA\n",
    "txt_fdiry = file.path(FD_DAT, \"external\", txt_foldr)\n",
    "txt_fname = \"metadata.simplify.tsv\"\n",
    "txt_fpath = file.path(txt_fdiry, txt_fname)\n",
    "\n",
    "dat = read_tsv(txt_fpath, show_col_types = FALSE)\n",
    "\n",
    "dat_metadata_info = dat\n",
    "print(dim(dat))\n",
    "fun_display_table(head(dat, 3))"
   ]
  },
  {
   "cell_type": "code",
   "execution_count": 16,
   "id": "1a2e4441-91e5-4a6a-ab39-999d0d8077c1",
   "metadata": {},
   "outputs": [
    {
     "name": "stdout",
     "output_type": "stream",
     "text": [
      "[1] 38  2\n"
     ]
    },
    {
     "data": {
      "text/html": [
       "<table>\n",
       " <thead>\n",
       "  <tr>\n",
       "   <th style=\"text-align:left;\"> FName </th>\n",
       "   <th style=\"text-align:left;\"> Label </th>\n",
       "  </tr>\n",
       " </thead>\n",
       "<tbody>\n",
       "  <tr>\n",
       "   <td style=\"text-align:left;\"> ENCFF071GML.bigWig </td>\n",
       "   <td style=\"text-align:left;\"> encode_chipseq_H3K4me3_ENCFF071GML </td>\n",
       "  </tr>\n",
       "  <tr>\n",
       "   <td style=\"text-align:left;\"> ENCFF706WUF.bed.gz </td>\n",
       "   <td style=\"text-align:left;\"> encode_chipseq_H3K4me3_ENCFF706WUF </td>\n",
       "  </tr>\n",
       "  <tr>\n",
       "   <td style=\"text-align:left;\"> ENCFF462AVD.bed.gz </td>\n",
       "   <td style=\"text-align:left;\"> encode_chipseq_H3K9me1_ENCFF462AVD </td>\n",
       "  </tr>\n",
       "</tbody>\n",
       "</table>"
      ]
     },
     "metadata": {},
     "output_type": "display_data"
    }
   ],
   "source": [
    "### get file name and generate label for each file\n",
    "dat = dat_metadata_info\n",
    "dat = dat %>% \n",
    "    dplyr::mutate(\n",
    "        FName = File_Name,\n",
    "        Label = paste(\"encode_chipseq\", Target, Index_File, sep = \"_\")\n",
    "    ) %>%\n",
    "    dplyr::select(FName, Label)\n",
    "\n",
    "### assign and show\n",
    "dat_meta_label = dat\n",
    "print(dim(dat))\n",
    "fun_display_table(head(dat, 3))"
   ]
  },
  {
   "cell_type": "code",
   "execution_count": 17,
   "id": "6e50287e-314c-4094-9686-b84910e7a160",
   "metadata": {},
   "outputs": [
    {
     "name": "stdout",
     "output_type": "stream",
     "text": [
      "[1] 19  3\n"
     ]
    },
    {
     "data": {
      "text/html": [
       "<table>\n",
       " <thead>\n",
       "  <tr>\n",
       "   <th style=\"text-align:left;\"> Folder </th>\n",
       "   <th style=\"text-align:left;\"> FName </th>\n",
       "   <th style=\"text-align:left;\"> Label </th>\n",
       "  </tr>\n",
       " </thead>\n",
       "<tbody>\n",
       "  <tr>\n",
       "   <td style=\"text-align:left;\"> encode_chipseq_histone </td>\n",
       "   <td style=\"text-align:left;\"> ENCFF054RSU.bigWig </td>\n",
       "   <td style=\"text-align:left;\"> encode_chipseq_H3K4me2_ENCFF054RSU </td>\n",
       "  </tr>\n",
       "  <tr>\n",
       "   <td style=\"text-align:left;\"> encode_chipseq_histone </td>\n",
       "   <td style=\"text-align:left;\"> ENCFF071GML.bigWig </td>\n",
       "   <td style=\"text-align:left;\"> encode_chipseq_H3K4me3_ENCFF071GML </td>\n",
       "  </tr>\n",
       "  <tr>\n",
       "   <td style=\"text-align:left;\"> encode_chipseq_histone </td>\n",
       "   <td style=\"text-align:left;\"> ENCFF178QDA.bigWig </td>\n",
       "   <td style=\"text-align:left;\"> encode_chipseq_H3K9ac_ENCFF178QDA </td>\n",
       "  </tr>\n",
       "  <tr>\n",
       "   <td style=\"text-align:left;\"> encode_chipseq_histone </td>\n",
       "   <td style=\"text-align:left;\"> ENCFF202EVH.bigWig </td>\n",
       "   <td style=\"text-align:left;\"> encode_chipseq_H2AFZ_ENCFF202EVH </td>\n",
       "  </tr>\n",
       "  <tr>\n",
       "   <td style=\"text-align:left;\"> encode_chipseq_histone </td>\n",
       "   <td style=\"text-align:left;\"> ENCFF220RGS.bigWig </td>\n",
       "   <td style=\"text-align:left;\"> encode_chipseq_H3K9me1_ENCFF220RGS </td>\n",
       "  </tr>\n",
       "  <tr>\n",
       "   <td style=\"text-align:left;\"> encode_chipseq_histone </td>\n",
       "   <td style=\"text-align:left;\"> ENCFF239EBH.bigWig </td>\n",
       "   <td style=\"text-align:left;\"> encode_chipseq_H3K9ac_ENCFF239EBH </td>\n",
       "  </tr>\n",
       "  <tr>\n",
       "   <td style=\"text-align:left;\"> encode_chipseq_histone </td>\n",
       "   <td style=\"text-align:left;\"> ENCFF287LBI.bigWig </td>\n",
       "   <td style=\"text-align:left;\"> encode_chipseq_H3K4me1_ENCFF287LBI </td>\n",
       "  </tr>\n",
       "  <tr>\n",
       "   <td style=\"text-align:left;\"> encode_chipseq_histone </td>\n",
       "   <td style=\"text-align:left;\"> ENCFF334HSS.bigWig </td>\n",
       "   <td style=\"text-align:left;\"> encode_chipseq_H3K79me2_ENCFF334HSS </td>\n",
       "  </tr>\n",
       "  <tr>\n",
       "   <td style=\"text-align:left;\"> encode_chipseq_histone </td>\n",
       "   <td style=\"text-align:left;\"> ENCFF405ZDL.bigWig </td>\n",
       "   <td style=\"text-align:left;\"> encode_chipseq_H3K4me3_ENCFF405ZDL </td>\n",
       "  </tr>\n",
       "  <tr>\n",
       "   <td style=\"text-align:left;\"> encode_chipseq_histone </td>\n",
       "   <td style=\"text-align:left;\"> ENCFF457URZ.bigWig </td>\n",
       "   <td style=\"text-align:left;\"> encode_chipseq_H3K4me1_ENCFF457URZ </td>\n",
       "  </tr>\n",
       "  <tr>\n",
       "   <td style=\"text-align:left;\"> encode_chipseq_histone </td>\n",
       "   <td style=\"text-align:left;\"> ENCFF461RKK.bigWig </td>\n",
       "   <td style=\"text-align:left;\"> encode_chipseq_H3K4me3_ENCFF461RKK </td>\n",
       "  </tr>\n",
       "  <tr>\n",
       "   <td style=\"text-align:left;\"> encode_chipseq_histone </td>\n",
       "   <td style=\"text-align:left;\"> ENCFF465GBD.bigWig </td>\n",
       "   <td style=\"text-align:left;\"> encode_chipseq_H3K27ac_ENCFF465GBD </td>\n",
       "  </tr>\n",
       "  <tr>\n",
       "   <td style=\"text-align:left;\"> encode_chipseq_histone </td>\n",
       "   <td style=\"text-align:left;\"> ENCFF582IMB.bigWig </td>\n",
       "   <td style=\"text-align:left;\"> encode_chipseq_H3K27me3_ENCFF582IMB </td>\n",
       "  </tr>\n",
       "  <tr>\n",
       "   <td style=\"text-align:left;\"> encode_chipseq_histone </td>\n",
       "   <td style=\"text-align:left;\"> ENCFF605EVL.bigWig </td>\n",
       "   <td style=\"text-align:left;\"> encode_chipseq_H3K36me3_ENCFF605EVL </td>\n",
       "  </tr>\n",
       "  <tr>\n",
       "   <td style=\"text-align:left;\"> encode_chipseq_histone </td>\n",
       "   <td style=\"text-align:left;\"> ENCFF632NQA.bigWig </td>\n",
       "   <td style=\"text-align:left;\"> encode_chipseq_H3K9me3_ENCFF632NQA </td>\n",
       "  </tr>\n",
       "  <tr>\n",
       "   <td style=\"text-align:left;\"> encode_chipseq_histone </td>\n",
       "   <td style=\"text-align:left;\"> ENCFF633OZC.bigWig </td>\n",
       "   <td style=\"text-align:left;\"> encode_chipseq_H3K36me3_ENCFF633OZC </td>\n",
       "  </tr>\n",
       "  <tr>\n",
       "   <td style=\"text-align:left;\"> encode_chipseq_histone </td>\n",
       "   <td style=\"text-align:left;\"> ENCFF694ODT.bigWig </td>\n",
       "   <td style=\"text-align:left;\"> encode_chipseq_H4K20me1_ENCFF694ODT </td>\n",
       "  </tr>\n",
       "  <tr>\n",
       "   <td style=\"text-align:left;\"> encode_chipseq_histone </td>\n",
       "   <td style=\"text-align:left;\"> ENCFF767UON.bigWig </td>\n",
       "   <td style=\"text-align:left;\"> encode_chipseq_H3K4me3_ENCFF767UON </td>\n",
       "  </tr>\n",
       "  <tr>\n",
       "   <td style=\"text-align:left;\"> encode_chipseq_histone </td>\n",
       "   <td style=\"text-align:left;\"> ENCFF847BFA.bigWig </td>\n",
       "   <td style=\"text-align:left;\"> encode_chipseq_H3K27me3_ENCFF847BFA </td>\n",
       "  </tr>\n",
       "</tbody>\n",
       "</table>"
      ]
     },
     "metadata": {},
     "output_type": "display_data"
    }
   ],
   "source": [
    "### set directory\n",
    "txt_folder = TXT_FOLDER_REGION\n",
    "txt_fdiry  = file.path(FD_RES, \"annotation\", txt_folder)\n",
    "txt_fglob  = file.path(txt_fdiry, \"*bigWig\")\n",
    "\n",
    "### get file names\n",
    "vec_txt_fpath = Sys.glob(txt_fglob)\n",
    "vec_txt_fname = basename(vec_txt_fpath)\n",
    "\n",
    "### init info table\n",
    "dat = data.frame(\n",
    "    \"Folder\" = txt_folder,\n",
    "    \"FName\"  = vec_txt_fname\n",
    ")\n",
    "\n",
    "### get label\n",
    "dat = dat %>% dplyr::left_join(dat_meta_label, by = \"FName\")\n",
    "\n",
    "### assign and show\n",
    "dat_region_label = dat\n",
    "print(dim(dat))\n",
    "fun_display_table(dat)"
   ]
  },
  {
   "cell_type": "code",
   "execution_count": 18,
   "id": "5fa47474-21fc-450d-9d9a-ee2ed45d7c6d",
   "metadata": {},
   "outputs": [],
   "source": [
    "txt_folder = TXT_FOLDER_REGION\n",
    "txt_fdiry  = file.path(FD_RES, \"annotation\", txt_folder, \"summary\")\n",
    "txt_fname  = \"metadata.label.tsv\"\n",
    "txt_fpath  = file.path(txt_fdiry, txt_fname)\n",
    "\n",
    "dir.create(txt_fdiry, showWarnings = FALSE)\n",
    "dat = dat_region_label\n",
    "write_tsv(dat, txt_fpath)"
   ]
  },
  {
   "cell_type": "code",
   "execution_count": null,
   "id": "09161e6f-b3a1-412a-882a-39372bbda606",
   "metadata": {},
   "outputs": [],
   "source": []
  },
  {
   "cell_type": "code",
   "execution_count": null,
   "id": "8dc06c35-af14-46f6-ae86-55b5f7e91394",
   "metadata": {},
   "outputs": [],
   "source": []
  },
  {
   "cell_type": "code",
   "execution_count": null,
   "id": "9bd30586-4e57-4bbe-860e-82ab0e553ff4",
   "metadata": {},
   "outputs": [],
   "source": []
  },
  {
   "cell_type": "markdown",
   "id": "cc8677b9-ad0e-4f6e-bf2e-acc09c63ba98",
   "metadata": {},
   "source": [
    "## Define column description\n",
    "The peak file is in narrowPeak format, which is a standard six field bed with four additional fields (BED6+4 format)"
   ]
  },
  {
   "cell_type": "code",
   "execution_count": 3,
   "id": "c1ea884e-14d9-4d17-a02c-0d33d920f7b9",
   "metadata": {},
   "outputs": [
    {
     "data": {
      "text/html": [
       "<table>\n",
       " <thead>\n",
       "  <tr>\n",
       "   <th style=\"text-align:left;\"> Name </th>\n",
       "   <th style=\"text-align:left;\"> Note </th>\n",
       "  </tr>\n",
       " </thead>\n",
       "<tbody>\n",
       "  <tr>\n",
       "   <td style=\"text-align:left;\"> Chrom </td>\n",
       "   <td style=\"text-align:left;\"> Name of the chromosome </td>\n",
       "  </tr>\n",
       "  <tr>\n",
       "   <td style=\"text-align:left;\"> ChromStart </td>\n",
       "   <td style=\"text-align:left;\"> The starting position of the feature in the chromosome </td>\n",
       "  </tr>\n",
       "  <tr>\n",
       "   <td style=\"text-align:left;\"> ChromEnd </td>\n",
       "   <td style=\"text-align:left;\"> The ending position of the feature in the chromosome </td>\n",
       "  </tr>\n",
       "  <tr>\n",
       "   <td style=\"text-align:left;\"> Name </td>\n",
       "   <td style=\"text-align:left;\"> Name given to a region; Use '.' if no name is assigned. </td>\n",
       "  </tr>\n",
       "  <tr>\n",
       "   <td style=\"text-align:left;\"> Score </td>\n",
       "   <td style=\"text-align:left;\"> Indicates how dark the peak will be displayed in the browser (0-1000). </td>\n",
       "  </tr>\n",
       "  <tr>\n",
       "   <td style=\"text-align:left;\"> Strand </td>\n",
       "   <td style=\"text-align:left;\"> +/- to denote strand or orientation. Use '.' if no orientation is assigned. </td>\n",
       "  </tr>\n",
       "  <tr>\n",
       "   <td style=\"text-align:left;\"> SignalValue </td>\n",
       "   <td style=\"text-align:left;\"> Measurement of overall (usually, average) enrichment for the region. </td>\n",
       "  </tr>\n",
       "  <tr>\n",
       "   <td style=\"text-align:left;\"> PValue </td>\n",
       "   <td style=\"text-align:left;\"> Measurement of statistical significance (-log10). Use -1 if no pValue is assigned. </td>\n",
       "  </tr>\n",
       "  <tr>\n",
       "   <td style=\"text-align:left;\"> QValue </td>\n",
       "   <td style=\"text-align:left;\"> Measurement of statistical significance using false discovery rate (-log10). Use -1 if no qValue is assigned. </td>\n",
       "  </tr>\n",
       "  <tr>\n",
       "   <td style=\"text-align:left;\"> Peak </td>\n",
       "   <td style=\"text-align:left;\"> Point-source called for this peak; 0-based offset from chromStart. Use -1 if no point-source called. </td>\n",
       "  </tr>\n",
       "</tbody>\n",
       "</table>"
      ]
     },
     "metadata": {},
     "output_type": "display_data"
    }
   ],
   "source": [
    "### ENCODE narrowPeak: Narrow (or Point-Source) Peaks format\n",
    "dat = tribble(\n",
    "    ~Name,        ~Note,\n",
    "    \"Chrom\",      \"Name of the chromosome\",\n",
    "    \"ChromStart\", \"The starting position of the feature in the chromosome\",\n",
    "    \"ChromEnd\",   \"The ending position of the feature in the chromosome\",\n",
    "    \"Name\",       \"Name given to a region; Use '.' if no name is assigned.\",\n",
    "    \"Score\",      \"Indicates how dark the peak will be displayed in the browser (0-1000).\",\n",
    "    \"Strand\",     \"+/- to denote strand or orientation. Use '.' if no orientation is assigned.\",\n",
    "    \"SignalValue\",\"Measurement of overall (usually, average) enrichment for the region.\",\n",
    "    \"PValue\",     \"Measurement of statistical significance (-log10). Use -1 if no pValue is assigned.\",\n",
    "    \"QValue\",     \"Measurement of statistical significance using false discovery rate (-log10). Use -1 if no qValue is assigned.\",\n",
    "    \"Peak\",       \"Point-source called for this peak; 0-based offset from chromStart. Use -1 if no point-source called.\"\n",
    "    \n",
    ")\n",
    "\n",
    "### assign and show\n",
    "dat_cname = dat\n",
    "fun_display_table(dat)"
   ]
  },
  {
   "cell_type": "markdown",
   "id": "1b665ca8-7003-4b78-991a-2c8c3fbcf89f",
   "metadata": {},
   "source": [
    "## Define file labeling"
   ]
  },
  {
   "cell_type": "markdown",
   "id": "a84e7aca-77c0-456c-9d6f-823f30e685b6",
   "metadata": {},
   "source": [
    "**import metadata**"
   ]
  },
  {
   "cell_type": "code",
   "execution_count": 4,
   "id": "6a764477-c2e5-4230-a4fa-a18a62cce7e9",
   "metadata": {},
   "outputs": [
    {
     "name": "stdout",
     "output_type": "stream",
     "text": [
      "[1] 19 12\n"
     ]
    },
    {
     "data": {
      "text/html": [
       "<table>\n",
       " <thead>\n",
       "  <tr>\n",
       "   <th style=\"text-align:left;\"> Assay </th>\n",
       "   <th style=\"text-align:left;\"> Index_Experiment </th>\n",
       "   <th style=\"text-align:left;\"> Index_File </th>\n",
       "   <th style=\"text-align:left;\"> File_Type </th>\n",
       "   <th style=\"text-align:left;\"> Output_Type </th>\n",
       "   <th style=\"text-align:left;\"> Genome </th>\n",
       "   <th style=\"text-align:left;\"> Target </th>\n",
       "   <th style=\"text-align:left;\"> Analysis </th>\n",
       "   <th style=\"text-align:left;\"> RFA </th>\n",
       "   <th style=\"text-align:left;\"> md5sum </th>\n",
       "   <th style=\"text-align:left;\"> File_Name </th>\n",
       "   <th style=\"text-align:left;\"> File_Url </th>\n",
       "  </tr>\n",
       " </thead>\n",
       "<tbody>\n",
       "  <tr>\n",
       "   <td style=\"text-align:left;\"> Histone ChIP-seq </td>\n",
       "   <td style=\"text-align:left;\"> ENCSR000AKX </td>\n",
       "   <td style=\"text-align:left;\"> ENCFF909RKY </td>\n",
       "   <td style=\"text-align:left;\"> bed narrowPeak </td>\n",
       "   <td style=\"text-align:left;\"> replicated peaks </td>\n",
       "   <td style=\"text-align:left;\"> GRCh38 </td>\n",
       "   <td style=\"text-align:left;\"> H4K20me1 </td>\n",
       "   <td style=\"text-align:left;\"> ENCODE4 v1.6.1 GRCh38 </td>\n",
       "   <td style=\"text-align:left;\"> ENCODE4 </td>\n",
       "   <td style=\"text-align:left;\"> fe4c93b6faa0ab4153ef41fe516bced4 </td>\n",
       "   <td style=\"text-align:left;\"> ENCFF909RKY.bed.gz </td>\n",
       "   <td style=\"text-align:left;\"> https://www.encodeproject.org/files/ENCFF909RKY/@@download/ENCFF909RKY.bed.gz </td>\n",
       "  </tr>\n",
       "  <tr>\n",
       "   <td style=\"text-align:left;\"> Histone ChIP-seq </td>\n",
       "   <td style=\"text-align:left;\"> ENCSR000APE </td>\n",
       "   <td style=\"text-align:left;\"> ENCFF963GZJ </td>\n",
       "   <td style=\"text-align:left;\"> bed narrowPeak </td>\n",
       "   <td style=\"text-align:left;\"> replicated peaks </td>\n",
       "   <td style=\"text-align:left;\"> GRCh38 </td>\n",
       "   <td style=\"text-align:left;\"> H3K9me3 </td>\n",
       "   <td style=\"text-align:left;\"> ENCODE4 v1.5.1 GRCh38 </td>\n",
       "   <td style=\"text-align:left;\"> ENCODE4 </td>\n",
       "   <td style=\"text-align:left;\"> 8e71cfdb547cdb5057d99d12d7be3ba6 </td>\n",
       "   <td style=\"text-align:left;\"> ENCFF963GZJ.bed.gz </td>\n",
       "   <td style=\"text-align:left;\"> https://www.encodeproject.org/files/ENCFF963GZJ/@@download/ENCFF963GZJ.bed.gz </td>\n",
       "  </tr>\n",
       "  <tr>\n",
       "   <td style=\"text-align:left;\"> Histone ChIP-seq </td>\n",
       "   <td style=\"text-align:left;\"> ENCSR000APC </td>\n",
       "   <td style=\"text-align:left;\"> ENCFF213OTI </td>\n",
       "   <td style=\"text-align:left;\"> bed narrowPeak </td>\n",
       "   <td style=\"text-align:left;\"> pseudoreplicated peaks </td>\n",
       "   <td style=\"text-align:left;\"> GRCh38 </td>\n",
       "   <td style=\"text-align:left;\"> H2AFZ </td>\n",
       "   <td style=\"text-align:left;\"> ENCODE4 v1.6.0 GRCh38 </td>\n",
       "   <td style=\"text-align:left;\"> ENCODE4 </td>\n",
       "   <td style=\"text-align:left;\"> a5934e60f1ebf8e393aa111a26f74074 </td>\n",
       "   <td style=\"text-align:left;\"> ENCFF213OTI.bed.gz </td>\n",
       "   <td style=\"text-align:left;\"> https://www.encodeproject.org/files/ENCFF213OTI/@@download/ENCFF213OTI.bed.gz </td>\n",
       "  </tr>\n",
       "</tbody>\n",
       "</table>"
      ]
     },
     "metadata": {},
     "output_type": "display_data"
    }
   ],
   "source": [
    "### set directory\n",
    "txt_folder = TXT_FOLDER_REGION\n",
    "txt_fdiry  = file.path(FD_RES, \"region\", txt_folder, \"summary\")\n",
    "txt_fname  = \"metadata.tsv\"\n",
    "txt_fpath  = file.path(txt_fdiry, txt_fname)\n",
    "\n",
    "### read table\n",
    "dat = read_tsv(txt_fpath, show_col_types = FALSE)\n",
    "\n",
    "### assign and show\n",
    "dat_meta_info = dat\n",
    "print(dim(dat))\n",
    "fun_display_table(head(dat, 3))"
   ]
  },
  {
   "cell_type": "markdown",
   "id": "35c976e9-b470-458d-90e1-6b1a9b425647",
   "metadata": {},
   "source": [
    "**generate file label**"
   ]
  },
  {
   "cell_type": "code",
   "execution_count": 5,
   "id": "c4c0306e-36f3-49f4-8b07-a5f78825c5ab",
   "metadata": {},
   "outputs": [
    {
     "name": "stdout",
     "output_type": "stream",
     "text": [
      "[1] 19  2\n"
     ]
    },
    {
     "data": {
      "text/html": [
       "<table>\n",
       " <thead>\n",
       "  <tr>\n",
       "   <th style=\"text-align:left;\"> FName </th>\n",
       "   <th style=\"text-align:left;\"> Label </th>\n",
       "  </tr>\n",
       " </thead>\n",
       "<tbody>\n",
       "  <tr>\n",
       "   <td style=\"text-align:left;\"> ENCFF909RKY.bed.gz </td>\n",
       "   <td style=\"text-align:left;\"> encode_chipseq_H4K20me1_ENCFF909RKY </td>\n",
       "  </tr>\n",
       "  <tr>\n",
       "   <td style=\"text-align:left;\"> ENCFF963GZJ.bed.gz </td>\n",
       "   <td style=\"text-align:left;\"> encode_chipseq_H3K9me3_ENCFF963GZJ </td>\n",
       "  </tr>\n",
       "  <tr>\n",
       "   <td style=\"text-align:left;\"> ENCFF213OTI.bed.gz </td>\n",
       "   <td style=\"text-align:left;\"> encode_chipseq_H2AFZ_ENCFF213OTI </td>\n",
       "  </tr>\n",
       "</tbody>\n",
       "</table>"
      ]
     },
     "metadata": {},
     "output_type": "display_data"
    }
   ],
   "source": [
    "### get file name and generate label for each file\n",
    "dat = dat_meta_info\n",
    "dat = dat %>% \n",
    "    dplyr::mutate(\n",
    "        FName = File_Name,\n",
    "        Label = paste(\"encode_chipseq\", Target, Index_File, sep = \"_\")\n",
    "    ) %>%\n",
    "    dplyr::select(FName, Label)\n",
    "\n",
    "### assign and show\n",
    "dat_meta_label = dat\n",
    "print(dim(dat))\n",
    "fun_display_table(head(dat, 3))"
   ]
  },
  {
   "cell_type": "markdown",
   "id": "5cd0f51d-0fbf-4779-9e7f-a6f164fdb5d8",
   "metadata": {},
   "source": [
    "**create region label table**"
   ]
  },
  {
   "cell_type": "code",
   "execution_count": 6,
   "id": "179c0b91-0106-4ac3-82ed-7cbadeb10e38",
   "metadata": {},
   "outputs": [
    {
     "name": "stdout",
     "output_type": "stream",
     "text": [
      "[1] 19  3\n"
     ]
    },
    {
     "data": {
      "text/html": [
       "<table>\n",
       " <thead>\n",
       "  <tr>\n",
       "   <th style=\"text-align:left;\"> Folder </th>\n",
       "   <th style=\"text-align:left;\"> FName </th>\n",
       "   <th style=\"text-align:left;\"> Label </th>\n",
       "  </tr>\n",
       " </thead>\n",
       "<tbody>\n",
       "  <tr>\n",
       "   <td style=\"text-align:left;\"> encode_chipseq_histone </td>\n",
       "   <td style=\"text-align:left;\"> ENCFF122CSI.bed.gz </td>\n",
       "   <td style=\"text-align:left;\"> encode_chipseq_H3K4me3_ENCFF122CSI </td>\n",
       "  </tr>\n",
       "  <tr>\n",
       "   <td style=\"text-align:left;\"> encode_chipseq_histone </td>\n",
       "   <td style=\"text-align:left;\"> ENCFF135ZLM.bed.gz </td>\n",
       "   <td style=\"text-align:left;\"> encode_chipseq_H3K4me1_ENCFF135ZLM </td>\n",
       "  </tr>\n",
       "  <tr>\n",
       "   <td style=\"text-align:left;\"> encode_chipseq_histone </td>\n",
       "   <td style=\"text-align:left;\"> ENCFF148UQI.bed.gz </td>\n",
       "   <td style=\"text-align:left;\"> encode_chipseq_H3K9ac_ENCFF148UQI </td>\n",
       "  </tr>\n",
       "  <tr>\n",
       "   <td style=\"text-align:left;\"> encode_chipseq_histone </td>\n",
       "   <td style=\"text-align:left;\"> ENCFF193ERO.bed.gz </td>\n",
       "   <td style=\"text-align:left;\"> encode_chipseq_H3K36me3_ENCFF193ERO </td>\n",
       "  </tr>\n",
       "  <tr>\n",
       "   <td style=\"text-align:left;\"> encode_chipseq_histone </td>\n",
       "   <td style=\"text-align:left;\"> ENCFF209OQD.bed.gz </td>\n",
       "   <td style=\"text-align:left;\"> encode_chipseq_H3K79me2_ENCFF209OQD </td>\n",
       "  </tr>\n",
       "  <tr>\n",
       "   <td style=\"text-align:left;\"> encode_chipseq_histone </td>\n",
       "   <td style=\"text-align:left;\"> ENCFF213OTI.bed.gz </td>\n",
       "   <td style=\"text-align:left;\"> encode_chipseq_H2AFZ_ENCFF213OTI </td>\n",
       "  </tr>\n",
       "  <tr>\n",
       "   <td style=\"text-align:left;\"> encode_chipseq_histone </td>\n",
       "   <td style=\"text-align:left;\"> ENCFF323WOT.bed.gz </td>\n",
       "   <td style=\"text-align:left;\"> encode_chipseq_H3K27me3_ENCFF323WOT </td>\n",
       "  </tr>\n",
       "  <tr>\n",
       "   <td style=\"text-align:left;\"> encode_chipseq_histone </td>\n",
       "   <td style=\"text-align:left;\"> ENCFF462AVD.bed.gz </td>\n",
       "   <td style=\"text-align:left;\"> encode_chipseq_H3K9me1_ENCFF462AVD </td>\n",
       "  </tr>\n",
       "  <tr>\n",
       "   <td style=\"text-align:left;\"> encode_chipseq_histone </td>\n",
       "   <td style=\"text-align:left;\"> ENCFF540NGG.bed.gz </td>\n",
       "   <td style=\"text-align:left;\"> encode_chipseq_H3K4me1_ENCFF540NGG </td>\n",
       "  </tr>\n",
       "  <tr>\n",
       "   <td style=\"text-align:left;\"> encode_chipseq_histone </td>\n",
       "   <td style=\"text-align:left;\"> ENCFF544LXB.bed.gz </td>\n",
       "   <td style=\"text-align:left;\"> encode_chipseq_H3K27ac_ENCFF544LXB </td>\n",
       "  </tr>\n",
       "  <tr>\n",
       "   <td style=\"text-align:left;\"> encode_chipseq_histone </td>\n",
       "   <td style=\"text-align:left;\"> ENCFF561OUZ.bed.gz </td>\n",
       "   <td style=\"text-align:left;\"> encode_chipseq_H3K36me3_ENCFF561OUZ </td>\n",
       "  </tr>\n",
       "  <tr>\n",
       "   <td style=\"text-align:left;\"> encode_chipseq_histone </td>\n",
       "   <td style=\"text-align:left;\"> ENCFF689QIJ.bed.gz </td>\n",
       "   <td style=\"text-align:left;\"> encode_chipseq_H3K4me3_ENCFF689QIJ </td>\n",
       "  </tr>\n",
       "  <tr>\n",
       "   <td style=\"text-align:left;\"> encode_chipseq_histone </td>\n",
       "   <td style=\"text-align:left;\"> ENCFF706WUF.bed.gz </td>\n",
       "   <td style=\"text-align:left;\"> encode_chipseq_H3K4me3_ENCFF706WUF </td>\n",
       "  </tr>\n",
       "  <tr>\n",
       "   <td style=\"text-align:left;\"> encode_chipseq_histone </td>\n",
       "   <td style=\"text-align:left;\"> ENCFF749KLQ.bed.gz </td>\n",
       "   <td style=\"text-align:left;\"> encode_chipseq_H3K4me2_ENCFF749KLQ </td>\n",
       "  </tr>\n",
       "  <tr>\n",
       "   <td style=\"text-align:left;\"> encode_chipseq_histone </td>\n",
       "   <td style=\"text-align:left;\"> ENCFF801AHF.bed.gz </td>\n",
       "   <td style=\"text-align:left;\"> encode_chipseq_H3K27me3_ENCFF801AHF </td>\n",
       "  </tr>\n",
       "  <tr>\n",
       "   <td style=\"text-align:left;\"> encode_chipseq_histone </td>\n",
       "   <td style=\"text-align:left;\"> ENCFF885FQN.bed.gz </td>\n",
       "   <td style=\"text-align:left;\"> encode_chipseq_H3K4me3_ENCFF885FQN </td>\n",
       "  </tr>\n",
       "  <tr>\n",
       "   <td style=\"text-align:left;\"> encode_chipseq_histone </td>\n",
       "   <td style=\"text-align:left;\"> ENCFF891CHI.bed.gz </td>\n",
       "   <td style=\"text-align:left;\"> encode_chipseq_H3K9ac_ENCFF891CHI </td>\n",
       "  </tr>\n",
       "  <tr>\n",
       "   <td style=\"text-align:left;\"> encode_chipseq_histone </td>\n",
       "   <td style=\"text-align:left;\"> ENCFF909RKY.bed.gz </td>\n",
       "   <td style=\"text-align:left;\"> encode_chipseq_H4K20me1_ENCFF909RKY </td>\n",
       "  </tr>\n",
       "  <tr>\n",
       "   <td style=\"text-align:left;\"> encode_chipseq_histone </td>\n",
       "   <td style=\"text-align:left;\"> ENCFF963GZJ.bed.gz </td>\n",
       "   <td style=\"text-align:left;\"> encode_chipseq_H3K9me3_ENCFF963GZJ </td>\n",
       "  </tr>\n",
       "</tbody>\n",
       "</table>"
      ]
     },
     "metadata": {},
     "output_type": "display_data"
    }
   ],
   "source": [
    "### set directory\n",
    "txt_folder = TXT_FOLDER_REGION\n",
    "txt_fdiry  = file.path(FD_RES, \"region\", txt_folder)\n",
    "txt_fglob  = file.path(txt_fdiry, \"*bed*\")\n",
    "\n",
    "### get file names\n",
    "vec_txt_fpath = Sys.glob(txt_fglob)\n",
    "vec_txt_fname = basename(vec_txt_fpath)\n",
    "\n",
    "### init info table\n",
    "dat = data.frame(\n",
    "    \"Folder\" = txt_folder,\n",
    "    \"FName\"  = vec_txt_fname\n",
    ")\n",
    "\n",
    "### get label\n",
    "dat = dat %>% dplyr::left_join(dat_meta_label, by = \"FName\")\n",
    "\n",
    "### assign and show\n",
    "dat_region_label = dat\n",
    "print(dim(dat))\n",
    "fun_display_table(dat)"
   ]
  },
  {
   "cell_type": "markdown",
   "id": "c4f96ec6-0b43-4d73-b779-7e6c39356158",
   "metadata": {},
   "source": [
    "## Save results"
   ]
  },
  {
   "cell_type": "code",
   "execution_count": 7,
   "id": "6f1dffb5-943b-4365-9e68-aef761bce339",
   "metadata": {},
   "outputs": [],
   "source": [
    "txt_folder = TXT_FOLDER_REGION\n",
    "txt_fdiry  = file.path(FD_RES, \"region\", txt_folder, \"summary\")\n",
    "txt_fname  = \"description.tsv\"\n",
    "txt_fpath  = file.path(txt_fdiry, txt_fname)\n",
    "\n",
    "dir.create(txt_fdiry, showWarnings = FALSE)\n",
    "dat = dat_cname\n",
    "write_tsv(dat, txt_fpath)"
   ]
  },
  {
   "cell_type": "code",
   "execution_count": 8,
   "id": "2015f25f-98e8-481b-805e-413d372688b3",
   "metadata": {},
   "outputs": [],
   "source": [
    "txt_folder = TXT_FOLDER_REGION\n",
    "txt_fdiry  = file.path(FD_RES, \"region\", txt_folder, \"summary\")\n",
    "txt_fname  = \"metadata.label.tsv\"\n",
    "txt_fpath  = file.path(txt_fdiry, txt_fname)\n",
    "\n",
    "dir.create(txt_fdiry, showWarnings = FALSE)\n",
    "dat = dat_region_label\n",
    "write_tsv(dat, txt_fpath)"
   ]
  },
  {
   "cell_type": "code",
   "execution_count": null,
   "id": "b736628a-8e0b-4ce5-a3aa-1527d135c2fe",
   "metadata": {},
   "outputs": [],
   "source": []
  }
 ],
 "metadata": {
  "kernelspec": {
   "display_name": "R",
   "language": "R",
   "name": "ir"
  },
  "language_info": {
   "codemirror_mode": "r",
   "file_extension": ".r",
   "mimetype": "text/x-r-source",
   "name": "R",
   "pygments_lexer": "r",
   "version": "4.4.1"
  }
 },
 "nbformat": 4,
 "nbformat_minor": 5
}
