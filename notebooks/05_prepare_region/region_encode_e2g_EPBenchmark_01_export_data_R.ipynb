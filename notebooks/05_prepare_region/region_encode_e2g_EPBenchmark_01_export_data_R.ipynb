{
 "cells": [
  {
   "cell_type": "raw",
   "id": "adba9cee-dfc7-4b60-a4a1-b11aa7370bbf",
   "metadata": {},
   "source": [
    "---\n",
    "title: Prepare ENCODE E2G data 01\n",
    "subtitle: Arrange region data\n",
    "format:\n",
    "    html:\n",
    "        code-fold:  true\n",
    "        code-tools: true\n",
    "---"
   ]
  },
  {
   "cell_type": "markdown",
   "id": "f9239aed-b510-4bca-b131-db76826142a3",
   "metadata": {},
   "source": [
    "**Set environment**"
   ]
  },
  {
   "cell_type": "code",
   "execution_count": 1,
   "id": "408b14e6-3902-4ea1-820e-5d765e868395",
   "metadata": {
    "tags": []
   },
   "outputs": [
    {
     "name": "stdout",
     "output_type": "stream",
     "text": [
      "You are working on        Singularity: singularity_proj_encode_fcc \n",
      "BASE DIRECTORY (FD_BASE): /data/reddylab/Kuei \n",
      "REPO DIRECTORY (FD_REPO): /data/reddylab/Kuei/repo \n",
      "WORK DIRECTORY (FD_WORK): /data/reddylab/Kuei/work \n",
      "DATA DIRECTORY (FD_DATA): /data/reddylab/Kuei/data \n",
      "\n",
      "You are working with      ENCODE FCC \n",
      "PATH OF PROJECT (FD_PRJ): /data/reddylab/Kuei/repo/Proj_ENCODE_FCC \n",
      "PROJECT RESULTS (FD_RES): /data/reddylab/Kuei/repo/Proj_ENCODE_FCC/results \n",
      "PROJECT SCRIPTS (FD_EXE): /data/reddylab/Kuei/repo/Proj_ENCODE_FCC/scripts \n",
      "PROJECT DATA    (FD_DAT): /data/reddylab/Kuei/repo/Proj_ENCODE_FCC/data \n",
      "PROJECT NOTE    (FD_NBK): /data/reddylab/Kuei/repo/Proj_ENCODE_FCC/notebooks \n",
      "PROJECT DOCS    (FD_DOC): /data/reddylab/Kuei/repo/Proj_ENCODE_FCC/docs \n",
      "PROJECT LOG     (FD_LOG): /data/reddylab/Kuei/repo/Proj_ENCODE_FCC/log \n",
      "PROJECT REF     (FD_REF): /data/reddylab/Kuei/repo/Proj_ENCODE_FCC/references \n",
      "\n"
     ]
    }
   ],
   "source": [
    "suppressMessages(suppressWarnings(source(\"../run_config_project_sing.R\")))\n",
    "show_env()"
   ]
  },
  {
   "cell_type": "markdown",
   "id": "9e20e0d9-2ccb-44ea-98d6-5bdf29228c23",
   "metadata": {},
   "source": [
    "**Set global variables**"
   ]
  },
  {
   "cell_type": "code",
   "execution_count": 2,
   "id": "8ee25acd-8930-433e-8ed8-7d8e46ab8b6d",
   "metadata": {},
   "outputs": [],
   "source": [
    "TXT_FOLDER_INP = \"encode_e2g_benchmark\"\n",
    "TXT_FOLDER_OUT = \"encode_e2g_benchmark\""
   ]
  },
  {
   "cell_type": "code",
   "execution_count": 3,
   "id": "82514ba7-724a-4e32-ab3d-f6cd9de5416a",
   "metadata": {},
   "outputs": [
    {
     "name": "stdout",
     "output_type": "stream",
     "text": [
      "EPCrisprBenchmark_ensemble_data_GRCh38.filtered.tsv \n",
      "EPCrisprBenchmark_ensemble_data_GRCh38.tsv \n",
      "RefSeqCurated.170308.bed.CollapsedGeneBounds.hg38.TSS500bp.bed \n"
     ]
    }
   ],
   "source": [
    "txt_fdiry = file.path(FD_REF, \"encode_e2g_benchmark\")\n",
    "vec = dir(txt_fdiry)\n",
    "for(txt in vec){\n",
    "    cat(txt, \"\\n\")\n",
    "}"
   ]
  },
  {
   "cell_type": "code",
   "execution_count": 4,
   "id": "0ef73584-f291-4549-ad95-ec9d568d6ec0",
   "metadata": {},
   "outputs": [
    {
     "name": "stdout",
     "output_type": "stream",
     "text": [
      "ENCODE_K562_hg38_E2G.tsv \n"
     ]
    }
   ],
   "source": [
    "txt_fdiry = file.path(FD_REF, \"encode_e2g_prediction\")\n",
    "vec = dir(txt_fdiry)\n",
    "for(txt in vec){\n",
    "    cat(txt, \"\\n\")\n",
    "}"
   ]
  },
  {
   "cell_type": "markdown",
   "id": "992dbe71-e1d7-4c28-86bc-b35b149caf33",
   "metadata": {},
   "source": [
    "## Import data"
   ]
  },
  {
   "cell_type": "code",
   "execution_count": 5,
   "id": "dc947504-376b-4bbd-85f5-64b091802c7d",
   "metadata": {},
   "outputs": [
    {
     "name": "stdout",
     "output_type": "stream",
     "text": [
      "[1] 10412    25\n"
     ]
    },
    {
     "data": {
      "text/html": [
       "<table class=\"dataframe\">\n",
       "<caption>A tibble: 6 × 25</caption>\n",
       "<thead>\n",
       "\t<tr><th scope=col>dataset</th><th scope=col>chrom</th><th scope=col>chromStart</th><th scope=col>chromEnd</th><th scope=col>name</th><th scope=col>EffectSize</th><th scope=col>chrTSS</th><th scope=col>startTSS</th><th scope=col>endTSS</th><th scope=col>measuredGeneSymbol</th><th scope=col>⋯</th><th scope=col>Reference</th><th scope=col>Regulated</th><th scope=col>PowerAtEffectSize10</th><th scope=col>PowerAtEffectSize15</th><th scope=col>PowerAtEffectSize20</th><th scope=col>PowerAtEffectSize50</th><th scope=col>pair_uid</th><th scope=col>merged_uid</th><th scope=col>merged_start</th><th scope=col>merged_end</th></tr>\n",
       "\t<tr><th scope=col>&lt;chr&gt;</th><th scope=col>&lt;chr&gt;</th><th scope=col>&lt;dbl&gt;</th><th scope=col>&lt;dbl&gt;</th><th scope=col>&lt;chr&gt;</th><th scope=col>&lt;dbl&gt;</th><th scope=col>&lt;chr&gt;</th><th scope=col>&lt;dbl&gt;</th><th scope=col>&lt;dbl&gt;</th><th scope=col>&lt;chr&gt;</th><th scope=col>⋯</th><th scope=col>&lt;chr&gt;</th><th scope=col>&lt;lgl&gt;</th><th scope=col>&lt;dbl&gt;</th><th scope=col>&lt;dbl&gt;</th><th scope=col>&lt;dbl&gt;</th><th scope=col>&lt;dbl&gt;</th><th scope=col>&lt;chr&gt;</th><th scope=col>&lt;dbl&gt;</th><th scope=col>&lt;dbl&gt;</th><th scope=col>&lt;dbl&gt;</th></tr>\n",
       "</thead>\n",
       "<tbody>\n",
       "\t<tr><td>FlowFISH_K562</td><td>chr1</td><td>3774714</td><td>3775214</td><td>CEP104|chr1:3691278-3691778:*</td><td>-0.293431866</td><td>chr1</td><td>3857213</td><td>3857214</td><td>CEP104</td><td>⋯</td><td>Ulirsch2016           </td><td> TRUE</td><td>  NA</td><td>  NA</td><td>  NA</td><td>NA</td><td>FlowFISH_K562|CEP104|chr1:3691278-3691778:*</td><td>1</td><td>3774714</td><td>3775214</td></tr>\n",
       "\t<tr><td>FlowFISH_K562</td><td>chr1</td><td>3774714</td><td>3775214</td><td>LRRC47|chr1:3691278-3691778:*</td><td>-0.331178093</td><td>chr1</td><td>3796503</td><td>3796504</td><td>LRRC47</td><td>⋯</td><td>Ulirsch2016           </td><td> TRUE</td><td>  NA</td><td>  NA</td><td>  NA</td><td>NA</td><td>FlowFISH_K562|LRRC47|chr1:3691278-3691778:*</td><td>2</td><td>3774714</td><td>3775214</td></tr>\n",
       "\t<tr><td>Gasperini2019</td><td>chr1</td><td>3803570</td><td>3805848</td><td>LRRC47|chr1:3720134-3722412:.</td><td>-0.001471265</td><td>chr1</td><td>3796503</td><td>3796504</td><td>LRRC47</td><td>⋯</td><td>Gasperini et al., 2019</td><td>FALSE</td><td>0.40</td><td>0.80</td><td>0.85</td><td> 1</td><td>Gasperini2019|LRRC47|chr1:3720134-3722412:.</td><td>3</td><td>3803570</td><td>3805848</td></tr>\n",
       "\t<tr><td>FlowFISH_K562</td><td>chr1</td><td>3774714</td><td>3775214</td><td>SMIM1|chr1:3691278-3691778:* </td><td>-0.472019217</td><td>chr1</td><td>3772761</td><td>3772762</td><td>SMIM1 </td><td>⋯</td><td>Ulirsch2016           </td><td> TRUE</td><td>  NA</td><td>  NA</td><td>  NA</td><td>NA</td><td>FlowFISH_K562|SMIM1|chr1:3691278-3691778:* </td><td>4</td><td>3774714</td><td>3775214</td></tr>\n",
       "\t<tr><td>Gasperini2019</td><td>chr1</td><td>3803570</td><td>3805848</td><td>SMIM1|chr1:3720134-3722412:. </td><td> 0.025676924</td><td>chr1</td><td>3772788</td><td>3772789</td><td>SMIM1 </td><td>⋯</td><td>Gasperini et al., 2019</td><td>FALSE</td><td>0.80</td><td>0.85</td><td>1.00</td><td> 1</td><td>Gasperini2019|SMIM1|chr1:3720134-3722412:. </td><td>5</td><td>3803570</td><td>3805848</td></tr>\n",
       "\t<tr><td>Gasperini2019</td><td>chr1</td><td>4126791</td><td>4127291</td><td>SMIM1|chr1:4186851-4187351:. </td><td> 0.023383787</td><td>chr1</td><td>3772788</td><td>3772789</td><td>SMIM1 </td><td>⋯</td><td>Gasperini et al., 2019</td><td>FALSE</td><td>0.55</td><td>0.80</td><td>0.90</td><td> 1</td><td>Gasperini2019|SMIM1|chr1:4186851-4187351:. </td><td>6</td><td>4126791</td><td>4127291</td></tr>\n",
       "</tbody>\n",
       "</table>\n"
      ],
      "text/latex": [
       "A tibble: 6 × 25\n",
       "\\begin{tabular}{lllllllllllllllllllll}\n",
       " dataset & chrom & chromStart & chromEnd & name & EffectSize & chrTSS & startTSS & endTSS & measuredGeneSymbol & ⋯ & Reference & Regulated & PowerAtEffectSize10 & PowerAtEffectSize15 & PowerAtEffectSize20 & PowerAtEffectSize50 & pair\\_uid & merged\\_uid & merged\\_start & merged\\_end\\\\\n",
       " <chr> & <chr> & <dbl> & <dbl> & <chr> & <dbl> & <chr> & <dbl> & <dbl> & <chr> & ⋯ & <chr> & <lgl> & <dbl> & <dbl> & <dbl> & <dbl> & <chr> & <dbl> & <dbl> & <dbl>\\\\\n",
       "\\hline\n",
       "\t FlowFISH\\_K562 & chr1 & 3774714 & 3775214 & CEP104\\textbar{}chr1:3691278-3691778:* & -0.293431866 & chr1 & 3857213 & 3857214 & CEP104 & ⋯ & Ulirsch2016            &  TRUE &   NA &   NA &   NA & NA & FlowFISH\\_K562\\textbar{}CEP104\\textbar{}chr1:3691278-3691778:* & 1 & 3774714 & 3775214\\\\\n",
       "\t FlowFISH\\_K562 & chr1 & 3774714 & 3775214 & LRRC47\\textbar{}chr1:3691278-3691778:* & -0.331178093 & chr1 & 3796503 & 3796504 & LRRC47 & ⋯ & Ulirsch2016            &  TRUE &   NA &   NA &   NA & NA & FlowFISH\\_K562\\textbar{}LRRC47\\textbar{}chr1:3691278-3691778:* & 2 & 3774714 & 3775214\\\\\n",
       "\t Gasperini2019 & chr1 & 3803570 & 3805848 & LRRC47\\textbar{}chr1:3720134-3722412:. & -0.001471265 & chr1 & 3796503 & 3796504 & LRRC47 & ⋯ & Gasperini et al., 2019 & FALSE & 0.40 & 0.80 & 0.85 &  1 & Gasperini2019\\textbar{}LRRC47\\textbar{}chr1:3720134-3722412:. & 3 & 3803570 & 3805848\\\\\n",
       "\t FlowFISH\\_K562 & chr1 & 3774714 & 3775214 & SMIM1\\textbar{}chr1:3691278-3691778:*  & -0.472019217 & chr1 & 3772761 & 3772762 & SMIM1  & ⋯ & Ulirsch2016            &  TRUE &   NA &   NA &   NA & NA & FlowFISH\\_K562\\textbar{}SMIM1\\textbar{}chr1:3691278-3691778:*  & 4 & 3774714 & 3775214\\\\\n",
       "\t Gasperini2019 & chr1 & 3803570 & 3805848 & SMIM1\\textbar{}chr1:3720134-3722412:.  &  0.025676924 & chr1 & 3772788 & 3772789 & SMIM1  & ⋯ & Gasperini et al., 2019 & FALSE & 0.80 & 0.85 & 1.00 &  1 & Gasperini2019\\textbar{}SMIM1\\textbar{}chr1:3720134-3722412:.  & 5 & 3803570 & 3805848\\\\\n",
       "\t Gasperini2019 & chr1 & 4126791 & 4127291 & SMIM1\\textbar{}chr1:4186851-4187351:.  &  0.023383787 & chr1 & 3772788 & 3772789 & SMIM1  & ⋯ & Gasperini et al., 2019 & FALSE & 0.55 & 0.80 & 0.90 &  1 & Gasperini2019\\textbar{}SMIM1\\textbar{}chr1:4186851-4187351:.  & 6 & 4126791 & 4127291\\\\\n",
       "\\end{tabular}\n"
      ],
      "text/markdown": [
       "\n",
       "A tibble: 6 × 25\n",
       "\n",
       "| dataset &lt;chr&gt; | chrom &lt;chr&gt; | chromStart &lt;dbl&gt; | chromEnd &lt;dbl&gt; | name &lt;chr&gt; | EffectSize &lt;dbl&gt; | chrTSS &lt;chr&gt; | startTSS &lt;dbl&gt; | endTSS &lt;dbl&gt; | measuredGeneSymbol &lt;chr&gt; | ⋯ ⋯ | Reference &lt;chr&gt; | Regulated &lt;lgl&gt; | PowerAtEffectSize10 &lt;dbl&gt; | PowerAtEffectSize15 &lt;dbl&gt; | PowerAtEffectSize20 &lt;dbl&gt; | PowerAtEffectSize50 &lt;dbl&gt; | pair_uid &lt;chr&gt; | merged_uid &lt;dbl&gt; | merged_start &lt;dbl&gt; | merged_end &lt;dbl&gt; |\n",
       "|---|---|---|---|---|---|---|---|---|---|---|---|---|---|---|---|---|---|---|---|---|\n",
       "| FlowFISH_K562 | chr1 | 3774714 | 3775214 | CEP104|chr1:3691278-3691778:* | -0.293431866 | chr1 | 3857213 | 3857214 | CEP104 | ⋯ | Ulirsch2016            |  TRUE |   NA |   NA |   NA | NA | FlowFISH_K562|CEP104|chr1:3691278-3691778:* | 1 | 3774714 | 3775214 |\n",
       "| FlowFISH_K562 | chr1 | 3774714 | 3775214 | LRRC47|chr1:3691278-3691778:* | -0.331178093 | chr1 | 3796503 | 3796504 | LRRC47 | ⋯ | Ulirsch2016            |  TRUE |   NA |   NA |   NA | NA | FlowFISH_K562|LRRC47|chr1:3691278-3691778:* | 2 | 3774714 | 3775214 |\n",
       "| Gasperini2019 | chr1 | 3803570 | 3805848 | LRRC47|chr1:3720134-3722412:. | -0.001471265 | chr1 | 3796503 | 3796504 | LRRC47 | ⋯ | Gasperini et al., 2019 | FALSE | 0.40 | 0.80 | 0.85 |  1 | Gasperini2019|LRRC47|chr1:3720134-3722412:. | 3 | 3803570 | 3805848 |\n",
       "| FlowFISH_K562 | chr1 | 3774714 | 3775214 | SMIM1|chr1:3691278-3691778:*  | -0.472019217 | chr1 | 3772761 | 3772762 | SMIM1  | ⋯ | Ulirsch2016            |  TRUE |   NA |   NA |   NA | NA | FlowFISH_K562|SMIM1|chr1:3691278-3691778:*  | 4 | 3774714 | 3775214 |\n",
       "| Gasperini2019 | chr1 | 3803570 | 3805848 | SMIM1|chr1:3720134-3722412:.  |  0.025676924 | chr1 | 3772788 | 3772789 | SMIM1  | ⋯ | Gasperini et al., 2019 | FALSE | 0.80 | 0.85 | 1.00 |  1 | Gasperini2019|SMIM1|chr1:3720134-3722412:.  | 5 | 3803570 | 3805848 |\n",
       "| Gasperini2019 | chr1 | 4126791 | 4127291 | SMIM1|chr1:4186851-4187351:.  |  0.023383787 | chr1 | 3772788 | 3772789 | SMIM1  | ⋯ | Gasperini et al., 2019 | FALSE | 0.55 | 0.80 | 0.90 |  1 | Gasperini2019|SMIM1|chr1:4186851-4187351:.  | 6 | 4126791 | 4127291 |\n",
       "\n"
      ],
      "text/plain": [
       "  dataset       chrom chromStart chromEnd name                         \n",
       "1 FlowFISH_K562 chr1  3774714    3775214  CEP104|chr1:3691278-3691778:*\n",
       "2 FlowFISH_K562 chr1  3774714    3775214  LRRC47|chr1:3691278-3691778:*\n",
       "3 Gasperini2019 chr1  3803570    3805848  LRRC47|chr1:3720134-3722412:.\n",
       "4 FlowFISH_K562 chr1  3774714    3775214  SMIM1|chr1:3691278-3691778:* \n",
       "5 Gasperini2019 chr1  3803570    3805848  SMIM1|chr1:3720134-3722412:. \n",
       "6 Gasperini2019 chr1  4126791    4127291  SMIM1|chr1:4186851-4187351:. \n",
       "  EffectSize   chrTSS startTSS endTSS  measuredGeneSymbol ⋯\n",
       "1 -0.293431866 chr1   3857213  3857214 CEP104             ⋯\n",
       "2 -0.331178093 chr1   3796503  3796504 LRRC47             ⋯\n",
       "3 -0.001471265 chr1   3796503  3796504 LRRC47             ⋯\n",
       "4 -0.472019217 chr1   3772761  3772762 SMIM1              ⋯\n",
       "5  0.025676924 chr1   3772788  3772789 SMIM1              ⋯\n",
       "6  0.023383787 chr1   3772788  3772789 SMIM1              ⋯\n",
       "  Reference              Regulated PowerAtEffectSize10 PowerAtEffectSize15\n",
       "1 Ulirsch2016             TRUE       NA                  NA               \n",
       "2 Ulirsch2016             TRUE       NA                  NA               \n",
       "3 Gasperini et al., 2019 FALSE     0.40                0.80               \n",
       "4 Ulirsch2016             TRUE       NA                  NA               \n",
       "5 Gasperini et al., 2019 FALSE     0.80                0.85               \n",
       "6 Gasperini et al., 2019 FALSE     0.55                0.80               \n",
       "  PowerAtEffectSize20 PowerAtEffectSize50\n",
       "1   NA                NA                 \n",
       "2   NA                NA                 \n",
       "3 0.85                 1                 \n",
       "4   NA                NA                 \n",
       "5 1.00                 1                 \n",
       "6 0.90                 1                 \n",
       "  pair_uid                                    merged_uid merged_start\n",
       "1 FlowFISH_K562|CEP104|chr1:3691278-3691778:* 1          3774714     \n",
       "2 FlowFISH_K562|LRRC47|chr1:3691278-3691778:* 2          3774714     \n",
       "3 Gasperini2019|LRRC47|chr1:3720134-3722412:. 3          3803570     \n",
       "4 FlowFISH_K562|SMIM1|chr1:3691278-3691778:*  4          3774714     \n",
       "5 Gasperini2019|SMIM1|chr1:3720134-3722412:.  5          3803570     \n",
       "6 Gasperini2019|SMIM1|chr1:4186851-4187351:.  6          4126791     \n",
       "  merged_end\n",
       "1 3775214   \n",
       "2 3775214   \n",
       "3 3805848   \n",
       "4 3775214   \n",
       "5 3805848   \n",
       "6 4127291   "
      ]
     },
     "metadata": {},
     "output_type": "display_data"
    }
   ],
   "source": [
    "txt_fdiry = file.path(FD_REF, TXT_FOLDER_INP)\n",
    "txt_fname = \"EPCrisprBenchmark_ensemble_data_GRCh38.tsv\"\n",
    "txt_fpath = file.path(txt_fdiry, txt_fname)\n",
    "\n",
    "dat = read_tsv(txt_fpath, show_col_types = FALSE)\n",
    "\n",
    "dat_region_e2g_import = dat\n",
    "print(dim(dat))\n",
    "head(dat)"
   ]
  },
  {
   "cell_type": "code",
   "execution_count": 6,
   "id": "c0eb8f8e-ff7e-46c1-8cb9-3927da24512c",
   "metadata": {},
   "outputs": [
    {
     "name": "stdout",
     "output_type": "stream",
     "text": [
      "[1] 24461     6\n"
     ]
    },
    {
     "data": {
      "text/html": [
       "<table class=\"dataframe\">\n",
       "<caption>A tibble: 6 × 6</caption>\n",
       "<thead>\n",
       "\t<tr><th scope=col>X1</th><th scope=col>X2</th><th scope=col>X3</th><th scope=col>X4</th><th scope=col>X5</th><th scope=col>X6</th></tr>\n",
       "\t<tr><th scope=col>&lt;chr&gt;</th><th scope=col>&lt;dbl&gt;</th><th scope=col>&lt;dbl&gt;</th><th scope=col>&lt;chr&gt;</th><th scope=col>&lt;dbl&gt;</th><th scope=col>&lt;chr&gt;</th></tr>\n",
       "</thead>\n",
       "<tbody>\n",
       "\t<tr><td>chr1</td><td> 11623</td><td> 12123</td><td>DDX11L1  </td><td>0</td><td>+</td></tr>\n",
       "\t<tr><td>chr1</td><td> 29120</td><td> 29620</td><td>WASH7P   </td><td>0</td><td>-</td></tr>\n",
       "\t<tr><td>chr1</td><td> 35831</td><td> 36331</td><td>FAM138A  </td><td>0</td><td>-</td></tr>\n",
       "\t<tr><td>chr1</td><td> 35831</td><td> 36331</td><td>FAM138F  </td><td>0</td><td>-</td></tr>\n",
       "\t<tr><td>chr1</td><td> 68840</td><td> 69340</td><td>OR4F5    </td><td>0</td><td>+</td></tr>\n",
       "\t<tr><td>chr1</td><td>140316</td><td>140816</td><td>LOC729737</td><td>0</td><td>-</td></tr>\n",
       "</tbody>\n",
       "</table>\n"
      ],
      "text/latex": [
       "A tibble: 6 × 6\n",
       "\\begin{tabular}{llllll}\n",
       " X1 & X2 & X3 & X4 & X5 & X6\\\\\n",
       " <chr> & <dbl> & <dbl> & <chr> & <dbl> & <chr>\\\\\n",
       "\\hline\n",
       "\t chr1 &  11623 &  12123 & DDX11L1   & 0 & +\\\\\n",
       "\t chr1 &  29120 &  29620 & WASH7P    & 0 & -\\\\\n",
       "\t chr1 &  35831 &  36331 & FAM138A   & 0 & -\\\\\n",
       "\t chr1 &  35831 &  36331 & FAM138F   & 0 & -\\\\\n",
       "\t chr1 &  68840 &  69340 & OR4F5     & 0 & +\\\\\n",
       "\t chr1 & 140316 & 140816 & LOC729737 & 0 & -\\\\\n",
       "\\end{tabular}\n"
      ],
      "text/markdown": [
       "\n",
       "A tibble: 6 × 6\n",
       "\n",
       "| X1 &lt;chr&gt; | X2 &lt;dbl&gt; | X3 &lt;dbl&gt; | X4 &lt;chr&gt; | X5 &lt;dbl&gt; | X6 &lt;chr&gt; |\n",
       "|---|---|---|---|---|---|\n",
       "| chr1 |  11623 |  12123 | DDX11L1   | 0 | + |\n",
       "| chr1 |  29120 |  29620 | WASH7P    | 0 | - |\n",
       "| chr1 |  35831 |  36331 | FAM138A   | 0 | - |\n",
       "| chr1 |  35831 |  36331 | FAM138F   | 0 | - |\n",
       "| chr1 |  68840 |  69340 | OR4F5     | 0 | + |\n",
       "| chr1 | 140316 | 140816 | LOC729737 | 0 | - |\n",
       "\n"
      ],
      "text/plain": [
       "  X1   X2     X3     X4        X5 X6\n",
       "1 chr1  11623  12123 DDX11L1   0  + \n",
       "2 chr1  29120  29620 WASH7P    0  - \n",
       "3 chr1  35831  36331 FAM138A   0  - \n",
       "4 chr1  35831  36331 FAM138F   0  - \n",
       "5 chr1  68840  69340 OR4F5     0  + \n",
       "6 chr1 140316 140816 LOC729737 0  - "
      ]
     },
     "metadata": {},
     "output_type": "display_data"
    }
   ],
   "source": [
    "txt_fdiry = file.path(FD_REF, \"encode_e2g_benchmark\")\n",
    "txt_fname = \"RefSeqCurated.170308.bed.CollapsedGeneBounds.hg38.TSS500bp.bed\"\n",
    "txt_fpath = file.path(txt_fdiry, txt_fname)\n",
    "\n",
    "dat = read_tsv(txt_fpath, col_names=FALSE, show_col_types = FALSE)\n",
    "\n",
    "dat_region_tss_import = dat\n",
    "print(dim(dat))\n",
    "head(dat)"
   ]
  },
  {
   "cell_type": "markdown",
   "id": "7961925a-30ab-4a76-b0c4-83fc197f33d2",
   "metadata": {},
   "source": [
    "## Filter rows by TSS\n",
    "filter crispr data for valid connections (e.g. no promoters) and only retain E-G pairs from genes in gene universe"
   ]
  },
  {
   "cell_type": "code",
   "execution_count": 7,
   "id": "47f70723-ac2e-4dca-bcf2-1875e4913beb",
   "metadata": {},
   "outputs": [
    {
     "name": "stdout",
     "output_type": "stream",
     "text": [
      "[1] 10375    25\n"
     ]
    },
    {
     "data": {
      "text/html": [
       "<table>\n",
       " <thead>\n",
       "  <tr>\n",
       "   <th style=\"text-align:left;\"> dataset </th>\n",
       "   <th style=\"text-align:left;\"> chrom </th>\n",
       "   <th style=\"text-align:right;\"> chromStart </th>\n",
       "   <th style=\"text-align:right;\"> chromEnd </th>\n",
       "   <th style=\"text-align:left;\"> name </th>\n",
       "   <th style=\"text-align:right;\"> EffectSize </th>\n",
       "   <th style=\"text-align:left;\"> chrTSS </th>\n",
       "   <th style=\"text-align:right;\"> startTSS </th>\n",
       "   <th style=\"text-align:right;\"> endTSS </th>\n",
       "   <th style=\"text-align:left;\"> measuredGeneSymbol </th>\n",
       "   <th style=\"text-align:left;\"> Significant </th>\n",
       "   <th style=\"text-align:right;\"> pValueAdjusted </th>\n",
       "   <th style=\"text-align:right;\"> PowerAtEffectSize25 </th>\n",
       "   <th style=\"text-align:left;\"> ValidConnection </th>\n",
       "   <th style=\"text-align:left;\"> CellType </th>\n",
       "   <th style=\"text-align:left;\"> Reference </th>\n",
       "   <th style=\"text-align:left;\"> Regulated </th>\n",
       "   <th style=\"text-align:right;\"> PowerAtEffectSize10 </th>\n",
       "   <th style=\"text-align:right;\"> PowerAtEffectSize15 </th>\n",
       "   <th style=\"text-align:right;\"> PowerAtEffectSize20 </th>\n",
       "   <th style=\"text-align:right;\"> PowerAtEffectSize50 </th>\n",
       "   <th style=\"text-align:left;\"> pair_uid </th>\n",
       "   <th style=\"text-align:right;\"> merged_uid </th>\n",
       "   <th style=\"text-align:right;\"> merged_start </th>\n",
       "   <th style=\"text-align:right;\"> merged_end </th>\n",
       "  </tr>\n",
       " </thead>\n",
       "<tbody>\n",
       "  <tr>\n",
       "   <td style=\"text-align:left;\"> FlowFISH_K562 </td>\n",
       "   <td style=\"text-align:left;\"> chr1 </td>\n",
       "   <td style=\"text-align:right;\"> 3774714 </td>\n",
       "   <td style=\"text-align:right;\"> 3775214 </td>\n",
       "   <td style=\"text-align:left;\"> CEP104|chr1:3691278-3691778:* </td>\n",
       "   <td style=\"text-align:right;\"> -0.2934319 </td>\n",
       "   <td style=\"text-align:left;\"> chr1 </td>\n",
       "   <td style=\"text-align:right;\"> 3857213 </td>\n",
       "   <td style=\"text-align:right;\"> 3857214 </td>\n",
       "   <td style=\"text-align:left;\"> CEP104 </td>\n",
       "   <td style=\"text-align:left;\"> TRUE </td>\n",
       "   <td style=\"text-align:right;\"> 0.0040240 </td>\n",
       "   <td style=\"text-align:right;\"> 0.8250936 </td>\n",
       "   <td style=\"text-align:left;\"> TRUE </td>\n",
       "   <td style=\"text-align:left;\"> K562 </td>\n",
       "   <td style=\"text-align:left;\"> Ulirsch2016 </td>\n",
       "   <td style=\"text-align:left;\"> TRUE </td>\n",
       "   <td style=\"text-align:right;\"> NA </td>\n",
       "   <td style=\"text-align:right;\"> NA </td>\n",
       "   <td style=\"text-align:right;\"> NA </td>\n",
       "   <td style=\"text-align:right;\"> NA </td>\n",
       "   <td style=\"text-align:left;\"> FlowFISH_K562|CEP104|chr1:3691278-3691778:* </td>\n",
       "   <td style=\"text-align:right;\"> 1 </td>\n",
       "   <td style=\"text-align:right;\"> 3774714 </td>\n",
       "   <td style=\"text-align:right;\"> 3775214 </td>\n",
       "  </tr>\n",
       "  <tr>\n",
       "   <td style=\"text-align:left;\"> FlowFISH_K562 </td>\n",
       "   <td style=\"text-align:left;\"> chr1 </td>\n",
       "   <td style=\"text-align:right;\"> 3774714 </td>\n",
       "   <td style=\"text-align:right;\"> 3775214 </td>\n",
       "   <td style=\"text-align:left;\"> LRRC47|chr1:3691278-3691778:* </td>\n",
       "   <td style=\"text-align:right;\"> -0.3311781 </td>\n",
       "   <td style=\"text-align:left;\"> chr1 </td>\n",
       "   <td style=\"text-align:right;\"> 3796503 </td>\n",
       "   <td style=\"text-align:right;\"> 3796504 </td>\n",
       "   <td style=\"text-align:left;\"> LRRC47 </td>\n",
       "   <td style=\"text-align:left;\"> TRUE </td>\n",
       "   <td style=\"text-align:right;\"> 0.0077712 </td>\n",
       "   <td style=\"text-align:right;\"> 0.6089942 </td>\n",
       "   <td style=\"text-align:left;\"> TRUE </td>\n",
       "   <td style=\"text-align:left;\"> K562 </td>\n",
       "   <td style=\"text-align:left;\"> Ulirsch2016 </td>\n",
       "   <td style=\"text-align:left;\"> TRUE </td>\n",
       "   <td style=\"text-align:right;\"> NA </td>\n",
       "   <td style=\"text-align:right;\"> NA </td>\n",
       "   <td style=\"text-align:right;\"> NA </td>\n",
       "   <td style=\"text-align:right;\"> NA </td>\n",
       "   <td style=\"text-align:left;\"> FlowFISH_K562|LRRC47|chr1:3691278-3691778:* </td>\n",
       "   <td style=\"text-align:right;\"> 2 </td>\n",
       "   <td style=\"text-align:right;\"> 3774714 </td>\n",
       "   <td style=\"text-align:right;\"> 3775214 </td>\n",
       "  </tr>\n",
       "  <tr>\n",
       "   <td style=\"text-align:left;\"> Gasperini2019 </td>\n",
       "   <td style=\"text-align:left;\"> chr1 </td>\n",
       "   <td style=\"text-align:right;\"> 3803570 </td>\n",
       "   <td style=\"text-align:right;\"> 3805848 </td>\n",
       "   <td style=\"text-align:left;\"> LRRC47|chr1:3720134-3722412:. </td>\n",
       "   <td style=\"text-align:right;\"> -0.0014713 </td>\n",
       "   <td style=\"text-align:left;\"> chr1 </td>\n",
       "   <td style=\"text-align:right;\"> 3796503 </td>\n",
       "   <td style=\"text-align:right;\"> 3796504 </td>\n",
       "   <td style=\"text-align:left;\"> LRRC47 </td>\n",
       "   <td style=\"text-align:left;\"> FALSE </td>\n",
       "   <td style=\"text-align:right;\"> 0.9999184 </td>\n",
       "   <td style=\"text-align:right;\"> 1.0000000 </td>\n",
       "   <td style=\"text-align:left;\"> TRUE </td>\n",
       "   <td style=\"text-align:left;\"> K562 </td>\n",
       "   <td style=\"text-align:left;\"> Gasperini et al., 2019 </td>\n",
       "   <td style=\"text-align:left;\"> FALSE </td>\n",
       "   <td style=\"text-align:right;\"> 0.4 </td>\n",
       "   <td style=\"text-align:right;\"> 0.8 </td>\n",
       "   <td style=\"text-align:right;\"> 0.85 </td>\n",
       "   <td style=\"text-align:right;\"> 1 </td>\n",
       "   <td style=\"text-align:left;\"> Gasperini2019|LRRC47|chr1:3720134-3722412:. </td>\n",
       "   <td style=\"text-align:right;\"> 3 </td>\n",
       "   <td style=\"text-align:right;\"> 3803570 </td>\n",
       "   <td style=\"text-align:right;\"> 3805848 </td>\n",
       "  </tr>\n",
       "</tbody>\n",
       "</table>"
      ]
     },
     "metadata": {},
     "output_type": "display_data"
    }
   ],
   "source": [
    "### init\n",
    "dat = dat_region_e2g_import\n",
    "tmp = dat_region_tss_import\n",
    "\n",
    "\n",
    "### filter crispr data for valid connections (e.g. no promoters) and \n",
    "### only return E-G pairs from genes\n",
    "dat = dat %>% dplyr::filter(\n",
    "    ValidConnection == TRUE, \n",
    "    measuredGeneSymbol %in% tmp$X4)\n",
    "\n",
    "### assign and show\n",
    "dat_region_e2g_filter = dat\n",
    "print(dim(dat))\n",
    "fun_display_table(head(dat, 3))"
   ]
  },
  {
   "cell_type": "code",
   "execution_count": 8,
   "id": "815691a5-61c6-4d0e-82fe-13e9bab9e3d4",
   "metadata": {},
   "outputs": [
    {
     "data": {
      "text/plain": [
       "\n",
       "FALSE  TRUE \n",
       " 9903   472 "
      ]
     },
     "metadata": {},
     "output_type": "display_data"
    }
   ],
   "source": [
    "# this filtered dataset now has the 472 positives from the distal regulation paper\n",
    "dat = dat_region_e2g_filter\n",
    "table(dat$Regulated)"
   ]
  },
  {
   "cell_type": "code",
   "execution_count": 9,
   "id": "d5af43da-ec8c-4834-afaa-1b83d6299dec",
   "metadata": {},
   "outputs": [
    {
     "data": {
      "text/plain": [
       "$`FALSE`\n",
       "   Min. 1st Qu.  Median    Mean 3rd Qu.    Max.    NA's \n",
       " 0.0000  0.8602  0.9769  0.8856  0.9999  1.0000       1 \n",
       "\n",
       "$`TRUE`\n",
       "    Min.  1st Qu.   Median     Mean  3rd Qu.     Max.     NA's \n",
       "0.000000 0.000000 0.000069 0.006860 0.007700 0.049693       16 \n"
      ]
     },
     "metadata": {},
     "output_type": "display_data"
    }
   ],
   "source": [
    "dat = dat_region_e2g_filter\n",
    "lst = split(dat$pValueAdjusted, dat$Regulated)\n",
    "lst = lapply(lst, summary)\n",
    "lst"
   ]
  },
  {
   "cell_type": "markdown",
   "id": "75f4fdb6-964a-4a5f-aba4-bb38327f7205",
   "metadata": {},
   "source": [
    "**Check distribution of EffectSize and Scale(EffectSize)**"
   ]
  },
  {
   "cell_type": "code",
   "execution_count": 10,
   "id": "fc55bfd1-d834-4da3-8cd4-52006c84372a",
   "metadata": {},
   "outputs": [
    {
     "data": {
      "image/png": "[encoded data removed]",
      "text/plain": [
       "plot without title"
      ]
     },
     "metadata": {
      "image/png": {
       "height": 240,
       "width": 420
      }
     },
     "output_type": "display_data"
    }
   ],
   "source": [
    "dat = dat_region_e2g_filter\n",
    "gpt = ggplot(dat, aes(x=EffectSize)) + \n",
    "    geom_histogram(bins = 50) +\n",
    "    theme_cowplot() +\n",
    "    background_grid()\n",
    "\n",
    "options(repr.plot.height = 4, repr.plot.width = 7)\n",
    "print(gpt)"
   ]
  },
  {
   "cell_type": "code",
   "execution_count": 11,
   "id": "1bdf3fbc-f305-424f-9d14-1264f696e44d",
   "metadata": {},
   "outputs": [
    {
     "data": {
      "image/png": "[encoded data removed]",
      "text/plain": [
       "plot without title"
      ]
     },
     "metadata": {
      "image/png": {
       "height": 240,
       "width": 420
      }
     },
     "output_type": "display_data"
    }
   ],
   "source": [
    "dat = dat_region_e2g_filter\n",
    "dat = dat %>% dplyr::mutate(Zcore = as.vector(scale(EffectSize)))\n",
    "\n",
    "gpt = ggplot(dat, aes(x=Zcore)) + \n",
    "    geom_histogram(bins = 50) +\n",
    "    theme_cowplot() +\n",
    "    background_grid()\n",
    "\n",
    "options(repr.plot.height = 4, repr.plot.width = 7)\n",
    "print(gpt)"
   ]
  },
  {
   "cell_type": "markdown",
   "id": "014760d0-e431-4d06-9765-5633cc67267f",
   "metadata": {},
   "source": [
    "## Arrange the table"
   ]
  },
  {
   "cell_type": "code",
   "execution_count": 15,
   "id": "9f7cd8c6-ea82-433b-9e98-ebb08e8fe3d9",
   "metadata": {},
   "outputs": [
    {
     "name": "stdout",
     "output_type": "stream",
     "text": [
      "[1] 10375    13\n"
     ]
    },
    {
     "data": {
      "text/html": [
       "<table>\n",
       " <thead>\n",
       "  <tr>\n",
       "   <th style=\"text-align:left;\"> Chrom </th>\n",
       "   <th style=\"text-align:right;\"> ChromStart </th>\n",
       "   <th style=\"text-align:right;\"> ChromEnd </th>\n",
       "   <th style=\"text-align:left;\"> Name </th>\n",
       "   <th style=\"text-align:right;\"> Score </th>\n",
       "   <th style=\"text-align:right;\"> Zcore </th>\n",
       "   <th style=\"text-align:left;\"> Region </th>\n",
       "   <th style=\"text-align:left;\"> Target </th>\n",
       "   <th style=\"text-align:right;\"> NLog10P </th>\n",
       "   <th style=\"text-align:left;\"> Regulated </th>\n",
       "   <th style=\"text-align:left;\"> Source </th>\n",
       "   <th style=\"text-align:left;\"> Group </th>\n",
       "   <th style=\"text-align:left;\"> Label </th>\n",
       "  </tr>\n",
       " </thead>\n",
       "<tbody>\n",
       "  <tr>\n",
       "   <td style=\"text-align:left;\"> chr1 </td>\n",
       "   <td style=\"text-align:right;\"> 3774714 </td>\n",
       "   <td style=\"text-align:right;\"> 3775214 </td>\n",
       "   <td style=\"text-align:left;\"> CEP104|chr1:3691278-3691778:* </td>\n",
       "   <td style=\"text-align:right;\"> -0.2934319 </td>\n",
       "   <td style=\"text-align:right;\"> -4.7051440 </td>\n",
       "   <td style=\"text-align:left;\"> chr1:3774714-3775214 </td>\n",
       "   <td style=\"text-align:left;\"> CEP104 </td>\n",
       "   <td style=\"text-align:right;\"> 2.3953438 </td>\n",
       "   <td style=\"text-align:left;\"> TRUE </td>\n",
       "   <td style=\"text-align:left;\"> Ulirsch2016 </td>\n",
       "   <td style=\"text-align:left;\"> E2G-Benchmark </td>\n",
       "   <td style=\"text-align:left;\"> Regulated:TRUE </td>\n",
       "  </tr>\n",
       "  <tr>\n",
       "   <td style=\"text-align:left;\"> chr1 </td>\n",
       "   <td style=\"text-align:right;\"> 3774714 </td>\n",
       "   <td style=\"text-align:right;\"> 3775214 </td>\n",
       "   <td style=\"text-align:left;\"> LRRC47|chr1:3691278-3691778:* </td>\n",
       "   <td style=\"text-align:right;\"> -0.3311781 </td>\n",
       "   <td style=\"text-align:right;\"> -5.3312091 </td>\n",
       "   <td style=\"text-align:left;\"> chr1:3774714-3775214 </td>\n",
       "   <td style=\"text-align:left;\"> LRRC47 </td>\n",
       "   <td style=\"text-align:right;\"> 2.1095137 </td>\n",
       "   <td style=\"text-align:left;\"> TRUE </td>\n",
       "   <td style=\"text-align:left;\"> Ulirsch2016 </td>\n",
       "   <td style=\"text-align:left;\"> E2G-Benchmark </td>\n",
       "   <td style=\"text-align:left;\"> Regulated:TRUE </td>\n",
       "  </tr>\n",
       "  <tr>\n",
       "   <td style=\"text-align:left;\"> chr1 </td>\n",
       "   <td style=\"text-align:right;\"> 3803570 </td>\n",
       "   <td style=\"text-align:right;\"> 3805848 </td>\n",
       "   <td style=\"text-align:left;\"> LRRC47|chr1:3720134-3722412:. </td>\n",
       "   <td style=\"text-align:right;\"> -0.0014713 </td>\n",
       "   <td style=\"text-align:right;\"> 0.1373619 </td>\n",
       "   <td style=\"text-align:left;\"> chr1:3803570-3805848 </td>\n",
       "   <td style=\"text-align:left;\"> LRRC47 </td>\n",
       "   <td style=\"text-align:right;\"> 0.0000354 </td>\n",
       "   <td style=\"text-align:left;\"> FALSE </td>\n",
       "   <td style=\"text-align:left;\"> Gasperini et al., 2019 </td>\n",
       "   <td style=\"text-align:left;\"> E2G-Benchmark </td>\n",
       "   <td style=\"text-align:left;\"> Regulated:FALSE </td>\n",
       "  </tr>\n",
       "</tbody>\n",
       "</table>"
      ]
     },
     "metadata": {},
     "output_type": "display_data"
    }
   ],
   "source": [
    "### init\n",
    "dat = dat_region_e2g_filter\n",
    "vec = c(\n",
    "    \"Chrom\", \"ChromStart\", \"ChromEnd\", \"Name\", \n",
    "    \"Score\", \"Zcore\",\n",
    "    \"Region\", \"Target\", \"NLog10P\", \"Regulated\", \"Source\",\n",
    "    \"Group\",  \"Label\"\n",
    ")\n",
    "\n",
    "### rename column names\n",
    "dat = dat %>% \n",
    "    dplyr::mutate(\n",
    "        Chrom      = chrom, \n",
    "        ChromStart = chromStart, \n",
    "        ChromEnd   = chromEnd, \n",
    "        Name       = name,\n",
    "        Target     = measuredGeneSymbol,\n",
    "        Score      = EffectSize,\n",
    "        Zcore      = as.vector(scale(EffectSize)),\n",
    "        NLog10P    = -log10(pValueAdjusted),\n",
    "        Source     = Reference\n",
    "    ) %>%\n",
    "    dplyr::mutate(\n",
    "        Region = fun_gen_region(Chrom, ChromStart, ChromEnd),\n",
    "        Group  = \"E2G-Benchmark\",\n",
    "        Label  = paste(\"Regulated\", Regulated, sep = \":\")\n",
    "    ) %>%\n",
    "    dplyr::select(!!!vec)\n",
    "\n",
    "### assign and show\n",
    "dat_region_e2g_arrange = dat\n",
    "print(dim(dat))\n",
    "fun_display_table(head(dat, 3))"
   ]
  },
  {
   "cell_type": "markdown",
   "id": "8014413a-5f16-4d78-8c93-1018684a96a0",
   "metadata": {},
   "source": [
    "## Set colname description"
   ]
  },
  {
   "cell_type": "code",
   "execution_count": 16,
   "id": "f0c6a5da-23c1-49e6-9d7e-aa2be7266527",
   "metadata": {},
   "outputs": [
    {
     "data": {
      "text/html": [
       "<table>\n",
       " <thead>\n",
       "  <tr>\n",
       "   <th style=\"text-align:left;\"> Name </th>\n",
       "   <th style=\"text-align:left;\"> Note </th>\n",
       "  </tr>\n",
       " </thead>\n",
       "<tbody>\n",
       "  <tr>\n",
       "   <td style=\"text-align:left;\"> Chrom </td>\n",
       "   <td style=\"text-align:left;\"> Name of the chromosome </td>\n",
       "  </tr>\n",
       "  <tr>\n",
       "   <td style=\"text-align:left;\"> ChromStart </td>\n",
       "   <td style=\"text-align:left;\"> The starting position of the feature in the chromosome </td>\n",
       "  </tr>\n",
       "  <tr>\n",
       "   <td style=\"text-align:left;\"> ChromEnd </td>\n",
       "   <td style=\"text-align:left;\"> The ending position of the feature in the chromosome </td>\n",
       "  </tr>\n",
       "  <tr>\n",
       "   <td style=\"text-align:left;\"> Name </td>\n",
       "   <td style=\"text-align:left;\"> Name given to a region; Use '.' if no name is assigned. </td>\n",
       "  </tr>\n",
       "  <tr>\n",
       "   <td style=\"text-align:left;\"> Score </td>\n",
       "   <td style=\"text-align:left;\"> Effect Size </td>\n",
       "  </tr>\n",
       "  <tr>\n",
       "   <td style=\"text-align:left;\"> Zcore </td>\n",
       "   <td style=\"text-align:left;\"> Z Score </td>\n",
       "  </tr>\n",
       "  <tr>\n",
       "   <td style=\"text-align:left;\"> Region </td>\n",
       "   <td style=\"text-align:left;\"> Region coordinate of the Region-Gene pair </td>\n",
       "  </tr>\n",
       "  <tr>\n",
       "   <td style=\"text-align:left;\"> Target </td>\n",
       "   <td style=\"text-align:left;\"> Gene of the Region-Gene pair </td>\n",
       "  </tr>\n",
       "  <tr>\n",
       "   <td style=\"text-align:left;\"> NLog10P </td>\n",
       "   <td style=\"text-align:left;\"> MinusLog10PValue; -log10 of P-value </td>\n",
       "  </tr>\n",
       "  <tr>\n",
       "   <td style=\"text-align:left;\"> Regulated </td>\n",
       "   <td style=\"text-align:left;\"> Regulated or not </td>\n",
       "  </tr>\n",
       "  <tr>\n",
       "   <td style=\"text-align:left;\"> Source </td>\n",
       "   <td style=\"text-align:left;\"> Reference </td>\n",
       "  </tr>\n",
       "  <tr>\n",
       "   <td style=\"text-align:left;\"> Group </td>\n",
       "   <td style=\"text-align:left;\"> Assay name </td>\n",
       "  </tr>\n",
       "  <tr>\n",
       "   <td style=\"text-align:left;\"> Label </td>\n",
       "   <td style=\"text-align:left;\"> Region label </td>\n",
       "  </tr>\n",
       "</tbody>\n",
       "</table>"
      ]
     },
     "metadata": {},
     "output_type": "display_data"
    }
   ],
   "source": [
    "### setup column description\n",
    "dat = tribble(\n",
    "    ~Name,              ~Note,\n",
    "    \"Chrom\",            \"Name of the chromosome\",\n",
    "    \"ChromStart\",       \"The starting position of the feature in the chromosome\",\n",
    "    \"ChromEnd\",         \"The ending position of the feature in the chromosome\",\n",
    "    \"Name\",             \"Name given to a region; Use '.' if no name is assigned.\",\n",
    "    \"Score\",            \"Effect Size\",\n",
    "    \"Zcore\",            \"Z Score\",\n",
    "    \"Region\",           \"Region coordinate of the Region-Gene pair\",\n",
    "    \"Target\",           \"Gene of the Region-Gene pair\",\n",
    "    \"NLog10P\",          \"MinusLog10PValue; -log10 of P-value\",\n",
    "    \"Regulated\",        \"Regulated or not\",\n",
    "    \"Source\",           \"Reference\",\n",
    "    \"Group\",            \"Assay name\",\n",
    "    \"Label\",            \"Region label\"\n",
    ")\n",
    "\n",
    "### assign and show\n",
    "dat_cname = dat\n",
    "fun_display_table(dat)"
   ]
  },
  {
   "cell_type": "code",
   "execution_count": 17,
   "id": "54713605-2139-4e43-8b2d-a88a4137452e",
   "metadata": {},
   "outputs": [
    {
     "name": "stdout",
     "output_type": "stream",
     "text": [
      "Checked? TRUE \n"
     ]
    }
   ],
   "source": [
    "### double check\n",
    "vec1 = dat_cname$Name\n",
    "vec2 = colnames(dat_region_e2g_arrange)\n",
    "cat(\"Checked?\", all(vec1 == vec2), \"\\n\")"
   ]
  },
  {
   "cell_type": "markdown",
   "id": "38dca092-59b6-4275-a96e-4606e173736e",
   "metadata": {},
   "source": [
    "## Export the results"
   ]
  },
  {
   "cell_type": "code",
   "execution_count": 18,
   "id": "ab5e7ea3-3d33-410a-897d-bc366520bcca",
   "metadata": {},
   "outputs": [],
   "source": [
    "### set file path\n",
    "txt_folder = TXT_FOLDER_OUT\n",
    "txt_fdiry  = file.path(FD_RES, \"region\", txt_folder)\n",
    "txt_fname  = \"K562.hg38.ENCODE_E2G.benchmark.bed.gz\"\n",
    "txt_fpath  = file.path(txt_fdiry, txt_fname)\n",
    "\n",
    "### set table\n",
    "dat = dat_region_e2g_arrange\n",
    "dat = dat %>% dplyr::arrange(Chrom, ChromStart, ChromEnd)\n",
    "\n",
    "### save table\n",
    "dir.create(txt_fdiry, showWarnings = FALSE)\n",
    "write_tsv(dat, txt_fpath, col_names = FALSE)"
   ]
  },
  {
   "cell_type": "code",
   "execution_count": 19,
   "id": "93c2ee43-3eff-499e-bc6a-8ffb01ca16e6",
   "metadata": {},
   "outputs": [],
   "source": [
    "### set file path\n",
    "txt_folder = TXT_FOLDER_OUT\n",
    "txt_fdiry  = file.path(FD_RES, \"region\", txt_folder, \"summary\")\n",
    "txt_fname  = \"K562.hg38.ENCODE_E2G.benchmark.tsv\"\n",
    "txt_fpath  = file.path(txt_fdiry, txt_fname)\n",
    "\n",
    "### set table\n",
    "dat = dat_region_e2g_arrange\n",
    "dat = dat %>% dplyr::arrange(Chrom, ChromStart, ChromEnd)\n",
    "\n",
    "### save table\n",
    "dir.create(txt_fdiry, showWarnings = FALSE)\n",
    "write_tsv(dat, txt_fpath)"
   ]
  },
  {
   "cell_type": "code",
   "execution_count": 20,
   "id": "c71460eb-08c6-435f-addf-a45cdcbc93c5",
   "metadata": {},
   "outputs": [],
   "source": [
    "txt_folder = TXT_FOLDER_OUT\n",
    "txt_fdiry  = file.path(FD_RES, \"region\", txt_folder, \"summary\")\n",
    "txt_fname  = \"description.tsv\"\n",
    "txt_fpath  = file.path(txt_fdiry, txt_fname)\n",
    "\n",
    "### set table\n",
    "dat = dat_cname\n",
    "\n",
    "### save table\n",
    "dir.create(txt_fdiry, showWarnings = FALSE)\n",
    "write_tsv(dat, txt_fpath)"
   ]
  },
  {
   "cell_type": "code",
   "execution_count": null,
   "id": "9e1edd73-3d5f-4f3e-a646-65861a0f80fd",
   "metadata": {},
   "outputs": [],
   "source": []
  }
 ],
 "metadata": {
  "kernelspec": {
   "display_name": "R",
   "language": "R",
   "name": "ir"
  },
  "language_info": {
   "codemirror_mode": "r",
   "file_extension": ".r",
   "mimetype": "text/x-r-source",
   "name": "R",
   "pygments_lexer": "r",
   "version": "4.5.1"
  }
 },
 "nbformat": 4,
 "nbformat_minor": 5
}
