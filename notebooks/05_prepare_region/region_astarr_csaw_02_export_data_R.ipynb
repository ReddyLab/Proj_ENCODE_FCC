{
 "cells": [
  {
   "cell_type": "raw",
   "id": "0703cbee-295b-42a2-8f59-791f92104479",
   "metadata": {},
   "source": [
    "---\n",
    "title: Prepare ASTARR CSAW Peaks 02\n",
    "subtitle: Prepare data\n",
    "format:\n",
    "    html:\n",
    "        code-fold:  true\n",
    "        code-tools: true\n",
    "---"
   ]
  },
  {
   "cell_type": "markdown",
   "id": "e8dbe1b1-9108-42c0-9997-fdc40add8da9",
   "metadata": {},
   "source": [
    "**Set environment**"
   ]
  },
  {
   "cell_type": "code",
   "execution_count": 1,
   "id": "72ee89ac-694b-45df-b169-2b7eb8d4831b",
   "metadata": {
    "tags": []
   },
   "outputs": [
    {
     "name": "stdout",
     "output_type": "stream",
     "text": [
      "You are working on        Singularity \n",
      "BASE DIRECTORY (FD_BASE): /mount \n",
      "REPO DIRECTORY (FD_REPO): /mount/repo \n",
      "WORK DIRECTORY (FD_WORK): /mount/work \n",
      "DATA DIRECTORY (FD_DATA): /mount/data \n",
      "\n",
      "You are working with      ENCODE FCC \n",
      "PATH OF PROJECT (FD_PRJ): /mount/repo/Proj_ENCODE_FCC \n",
      "PROJECT RESULTS (FD_RES): /mount/repo/Proj_ENCODE_FCC/results \n",
      "PROJECT SCRIPTS (FD_EXE): /mount/repo/Proj_ENCODE_FCC/scripts \n",
      "PROJECT DATA    (FD_DAT): /mount/repo/Proj_ENCODE_FCC/data \n",
      "PROJECT NOTE    (FD_NBK): /mount/repo/Proj_ENCODE_FCC/notebooks \n",
      "PROJECT DOCS    (FD_DOC): /mount/repo/Proj_ENCODE_FCC/docs \n",
      "PROJECT LOG     (FD_LOG): /mount/repo/Proj_ENCODE_FCC/log \n",
      "PROJECT APP     (FD_APP): /mount/repo/Proj_ENCODE_FCC/app \n",
      "PROJECT REF     (FD_REF): /mount/repo/Proj_ENCODE_FCC/references \n",
      "\n"
     ]
    }
   ],
   "source": [
    "suppressMessages(suppressWarnings(source(\"../run_config_project_sing.R\")))\n",
    "show_env()"
   ]
  },
  {
   "cell_type": "markdown",
   "id": "76a039da-2150-4d51-b117-172e80db397a",
   "metadata": {},
   "source": [
    "**Set global variables**"
   ]
  },
  {
   "cell_type": "code",
   "execution_count": 2,
   "id": "646163c0-6cca-48cf-a416-86ad946ccf4c",
   "metadata": {},
   "outputs": [],
   "source": [
    "TXT_FOLDER_REGION = \"fcc_astarr_csaw\""
   ]
  },
  {
   "cell_type": "markdown",
   "id": "77133e63-325b-45e8-8b74-7a13eb4b0641",
   "metadata": {},
   "source": [
    "## Import data"
   ]
  },
  {
   "cell_type": "code",
   "execution_count": 3,
   "id": "919af5ff-4ff9-46c4-b103-cebd052ebe0e",
   "metadata": {},
   "outputs": [
    {
     "name": "stdout",
     "output_type": "stream",
     "text": [
      "atacSTARR.ultra_deep.6dna7rna.csaw_tab_best.hg38.v10.tsv \n",
      "atacSTARR.ultra_deep.6dna7rna.csaw.hg38.v10.common_file_formatted.txt \n",
      "atacSTARR.ultra_deep.6dna7rna.csaw.hg38.v10.tsv \n",
      "atacSTARR.ultra_deep.6dna7rna.csaw.hg38.v10.windows.bed \n",
      "atacSTARR.ultra_deep.6dna7rna.csaw.hg38.v10.windows.txt \n",
      "atacSTARR.ultra_deep.corrected.csaw.hg38.v10.common_file_formatted.txt \n",
      "atacSTARR.ultra_deep.corrected.csaw.hg38.v10.tsv \n",
      "atacSTARR.ultra_deep.corrected.no_reps_5_and_6.csaw_tab_best.hg38.v10.tsv \n",
      "atacSTARR.ultra_deep.corrected.no_reps_5_and_6.csaw.hg38.v10.tsv \n",
      "atacSTARR.ultra_deep.corrected.no_reps_5_and_6.csaw.hg38.v10.windows.bed \n",
      "atacSTARR.ultra_deep.corrected.no_reps_5_and_6.csaw.hg38.v10.windows.txt \n"
     ]
    }
   ],
   "source": [
    "txt_folder = TXT_FOLDER_REGION\n",
    "txt_fdiry  = file.path(FD_DAT, \"processed\", txt_folder)\n",
    "\n",
    "vec = dir(txt_fdiry)\n",
    "for (txt in vec){cat(txt, \"\\n\")}"
   ]
  },
  {
   "cell_type": "code",
   "execution_count": 4,
   "id": "b1b149a6-e19c-4b67-abdf-2f8791da6dac",
   "metadata": {},
   "outputs": [
    {
     "name": "stdout",
     "output_type": "stream",
     "text": [
      "[1] 359118     11\n"
     ]
    },
    {
     "data": {
      "text/html": [
       "<table>\n",
       " <thead>\n",
       "  <tr>\n",
       "   <th style=\"text-align:left;\"> seqnames </th>\n",
       "   <th style=\"text-align:right;\"> start </th>\n",
       "   <th style=\"text-align:right;\"> end </th>\n",
       "   <th style=\"text-align:left;\"> name </th>\n",
       "   <th style=\"text-align:right;\"> score </th>\n",
       "   <th style=\"text-align:left;\"> strand </th>\n",
       "   <th style=\"text-align:right;\"> logFC </th>\n",
       "   <th style=\"text-align:right;\"> input_avg_counts.cpm </th>\n",
       "   <th style=\"text-align:right;\"> output_avg_counts.cpm </th>\n",
       "   <th style=\"text-align:right;\"> minusLog10PValue </th>\n",
       "   <th style=\"text-align:right;\"> minusLog10QValue </th>\n",
       "  </tr>\n",
       " </thead>\n",
       "<tbody>\n",
       "  <tr>\n",
       "   <td style=\"text-align:left;\"> chr1 </td>\n",
       "   <td style=\"text-align:right;\"> 9976 </td>\n",
       "   <td style=\"text-align:right;\"> 10475 </td>\n",
       "   <td style=\"text-align:left;\"> chr1_9976_10475 </td>\n",
       "   <td style=\"text-align:right;\"> 86 </td>\n",
       "   <td style=\"text-align:left;\"> . </td>\n",
       "   <td style=\"text-align:right;\"> -4.604 </td>\n",
       "   <td style=\"text-align:right;\"> 0.424 </td>\n",
       "   <td style=\"text-align:right;\"> 0.001 </td>\n",
       "   <td style=\"text-align:right;\"> 10.243 </td>\n",
       "   <td style=\"text-align:right;\"> 8.634 </td>\n",
       "  </tr>\n",
       "  <tr>\n",
       "   <td style=\"text-align:left;\"> chr1 </td>\n",
       "   <td style=\"text-align:right;\"> 14226 </td>\n",
       "   <td style=\"text-align:right;\"> 14675 </td>\n",
       "   <td style=\"text-align:left;\"> chr1_14226_14675 </td>\n",
       "   <td style=\"text-align:right;\"> 100 </td>\n",
       "   <td style=\"text-align:left;\"> . </td>\n",
       "   <td style=\"text-align:right;\"> -5.400 </td>\n",
       "   <td style=\"text-align:right;\"> 0.273 </td>\n",
       "   <td style=\"text-align:right;\"> 0.002 </td>\n",
       "   <td style=\"text-align:right;\"> 12.021 </td>\n",
       "   <td style=\"text-align:right;\"> 10.004 </td>\n",
       "  </tr>\n",
       "  <tr>\n",
       "   <td style=\"text-align:left;\"> chr1 </td>\n",
       "   <td style=\"text-align:right;\"> 15976 </td>\n",
       "   <td style=\"text-align:right;\"> 16525 </td>\n",
       "   <td style=\"text-align:left;\"> chr1_15976_16525 </td>\n",
       "   <td style=\"text-align:right;\"> 61 </td>\n",
       "   <td style=\"text-align:left;\"> . </td>\n",
       "   <td style=\"text-align:right;\"> -2.227 </td>\n",
       "   <td style=\"text-align:right;\"> 0.533 </td>\n",
       "   <td style=\"text-align:right;\"> 0.012 </td>\n",
       "   <td style=\"text-align:right;\"> 7.203 </td>\n",
       "   <td style=\"text-align:right;\"> 6.119 </td>\n",
       "  </tr>\n",
       "  <tr>\n",
       "   <td style=\"text-align:left;\"> chr1 </td>\n",
       "   <td style=\"text-align:right;\"> 17201 </td>\n",
       "   <td style=\"text-align:right;\"> 17800 </td>\n",
       "   <td style=\"text-align:left;\"> chr1_17201_17800 </td>\n",
       "   <td style=\"text-align:right;\"> 84 </td>\n",
       "   <td style=\"text-align:left;\"> . </td>\n",
       "   <td style=\"text-align:right;\"> -1.594 </td>\n",
       "   <td style=\"text-align:right;\"> 0.658 </td>\n",
       "   <td style=\"text-align:right;\"> 0.054 </td>\n",
       "   <td style=\"text-align:right;\"> 10.069 </td>\n",
       "   <td style=\"text-align:right;\"> 8.496 </td>\n",
       "  </tr>\n",
       "  <tr>\n",
       "   <td style=\"text-align:left;\"> chr1 </td>\n",
       "   <td style=\"text-align:right;\"> 28876 </td>\n",
       "   <td style=\"text-align:right;\"> 29650 </td>\n",
       "   <td style=\"text-align:left;\"> chr1_28876_29650 </td>\n",
       "   <td style=\"text-align:right;\"> 98 </td>\n",
       "   <td style=\"text-align:left;\"> . </td>\n",
       "   <td style=\"text-align:right;\"> -3.123 </td>\n",
       "   <td style=\"text-align:right;\"> 0.897 </td>\n",
       "   <td style=\"text-align:right;\"> 0.010 </td>\n",
       "   <td style=\"text-align:right;\"> 11.867 </td>\n",
       "   <td style=\"text-align:right;\"> 9.886 </td>\n",
       "  </tr>\n",
       "  <tr>\n",
       "   <td style=\"text-align:left;\"> chr1 </td>\n",
       "   <td style=\"text-align:right;\"> 30776 </td>\n",
       "   <td style=\"text-align:right;\"> 31100 </td>\n",
       "   <td style=\"text-align:left;\"> chr1_30776_31100 </td>\n",
       "   <td style=\"text-align:right;\"> 59 </td>\n",
       "   <td style=\"text-align:left;\"> . </td>\n",
       "   <td style=\"text-align:right;\"> -2.743 </td>\n",
       "   <td style=\"text-align:right;\"> 0.298 </td>\n",
       "   <td style=\"text-align:right;\"> 0.007 </td>\n",
       "   <td style=\"text-align:right;\"> 7.057 </td>\n",
       "   <td style=\"text-align:right;\"> 5.994 </td>\n",
       "  </tr>\n",
       "</tbody>\n",
       "</table>"
      ]
     },
     "metadata": {},
     "output_type": "display_data"
    }
   ],
   "source": [
    "###\n",
    "txt_folder = TXT_FOLDER_REGION\n",
    "txt_fdiry  = file.path(FD_DAT, \"processed\", txt_folder)\n",
    "txt_fname = \"atacSTARR.ultra_deep.6dna7rna.csaw.hg38.v10.common_file_formatted.txt\"\n",
    "txt_fpath = file.path(txt_fdiry, txt_fname)\n",
    "\n",
    "###\n",
    "dat = read_tsv(txt_fpath, show_col_types = FALSE)\n",
    "\n",
    "### assign and show\n",
    "dat_region_6dna7rna_import = dat\n",
    "print(dim(dat))\n",
    "fun_display_table(head(dat))"
   ]
  },
  {
   "cell_type": "code",
   "execution_count": 5,
   "id": "7f1a9054-ff36-40ff-9ef3-1c707316316c",
   "metadata": {},
   "outputs": [
    {
     "name": "stdout",
     "output_type": "stream",
     "text": [
      "[1] 352944     11\n"
     ]
    },
    {
     "data": {
      "text/html": [
       "<table>\n",
       " <thead>\n",
       "  <tr>\n",
       "   <th style=\"text-align:left;\"> seqnames </th>\n",
       "   <th style=\"text-align:right;\"> start </th>\n",
       "   <th style=\"text-align:right;\"> end </th>\n",
       "   <th style=\"text-align:left;\"> name </th>\n",
       "   <th style=\"text-align:right;\"> score </th>\n",
       "   <th style=\"text-align:left;\"> strand </th>\n",
       "   <th style=\"text-align:right;\"> logFC </th>\n",
       "   <th style=\"text-align:right;\"> input_avg_counts.cpm </th>\n",
       "   <th style=\"text-align:right;\"> output_avg_counts.cpm </th>\n",
       "   <th style=\"text-align:right;\"> minusLog10PValue </th>\n",
       "   <th style=\"text-align:right;\"> minusLog10QValue </th>\n",
       "  </tr>\n",
       " </thead>\n",
       "<tbody>\n",
       "  <tr>\n",
       "   <td style=\"text-align:left;\"> chr1 </td>\n",
       "   <td style=\"text-align:right;\"> 9976 </td>\n",
       "   <td style=\"text-align:right;\"> 10475 </td>\n",
       "   <td style=\"text-align:left;\"> chr1_9976_10475 </td>\n",
       "   <td style=\"text-align:right;\"> 62 </td>\n",
       "   <td style=\"text-align:left;\"> . </td>\n",
       "   <td style=\"text-align:right;\"> -4.184 </td>\n",
       "   <td style=\"text-align:right;\"> 0.204 </td>\n",
       "   <td style=\"text-align:right;\"> 0.002 </td>\n",
       "   <td style=\"text-align:right;\"> 7.358 </td>\n",
       "   <td style=\"text-align:right;\"> 6.299 </td>\n",
       "  </tr>\n",
       "  <tr>\n",
       "   <td style=\"text-align:left;\"> chr1 </td>\n",
       "   <td style=\"text-align:right;\"> 14226 </td>\n",
       "   <td style=\"text-align:right;\"> 14675 </td>\n",
       "   <td style=\"text-align:left;\"> chr1_14226_14675 </td>\n",
       "   <td style=\"text-align:right;\"> 79 </td>\n",
       "   <td style=\"text-align:left;\"> . </td>\n",
       "   <td style=\"text-align:right;\"> -6.187 </td>\n",
       "   <td style=\"text-align:right;\"> 0.209 </td>\n",
       "   <td style=\"text-align:right;\"> 0.000 </td>\n",
       "   <td style=\"text-align:right;\"> 9.192 </td>\n",
       "   <td style=\"text-align:right;\"> 7.917 </td>\n",
       "  </tr>\n",
       "  <tr>\n",
       "   <td style=\"text-align:left;\"> chr1 </td>\n",
       "   <td style=\"text-align:right;\"> 15976 </td>\n",
       "   <td style=\"text-align:right;\"> 16525 </td>\n",
       "   <td style=\"text-align:left;\"> chr1_15976_16525 </td>\n",
       "   <td style=\"text-align:right;\"> 42 </td>\n",
       "   <td style=\"text-align:left;\"> . </td>\n",
       "   <td style=\"text-align:right;\"> -2.236 </td>\n",
       "   <td style=\"text-align:right;\"> 0.196 </td>\n",
       "   <td style=\"text-align:right;\"> 0.013 </td>\n",
       "   <td style=\"text-align:right;\"> 5.062 </td>\n",
       "   <td style=\"text-align:right;\"> 4.267 </td>\n",
       "  </tr>\n",
       "  <tr>\n",
       "   <td style=\"text-align:left;\"> chr1 </td>\n",
       "   <td style=\"text-align:right;\"> 17201 </td>\n",
       "   <td style=\"text-align:right;\"> 17800 </td>\n",
       "   <td style=\"text-align:left;\"> chr1_17201_17800 </td>\n",
       "   <td style=\"text-align:right;\"> 64 </td>\n",
       "   <td style=\"text-align:left;\"> . </td>\n",
       "   <td style=\"text-align:right;\"> -1.944 </td>\n",
       "   <td style=\"text-align:right;\"> 0.790 </td>\n",
       "   <td style=\"text-align:right;\"> 0.021 </td>\n",
       "   <td style=\"text-align:right;\"> 7.506 </td>\n",
       "   <td style=\"text-align:right;\"> 6.429 </td>\n",
       "  </tr>\n",
       "  <tr>\n",
       "   <td style=\"text-align:left;\"> chr1 </td>\n",
       "   <td style=\"text-align:right;\"> 28876 </td>\n",
       "   <td style=\"text-align:right;\"> 29650 </td>\n",
       "   <td style=\"text-align:left;\"> chr1_28876_29650 </td>\n",
       "   <td style=\"text-align:right;\"> 76 </td>\n",
       "   <td style=\"text-align:left;\"> . </td>\n",
       "   <td style=\"text-align:right;\"> -2.559 </td>\n",
       "   <td style=\"text-align:right;\"> 0.691 </td>\n",
       "   <td style=\"text-align:right;\"> 0.016 </td>\n",
       "   <td style=\"text-align:right;\"> 8.940 </td>\n",
       "   <td style=\"text-align:right;\"> 7.698 </td>\n",
       "  </tr>\n",
       "  <tr>\n",
       "   <td style=\"text-align:left;\"> chr1 </td>\n",
       "   <td style=\"text-align:right;\"> 30776 </td>\n",
       "   <td style=\"text-align:right;\"> 31100 </td>\n",
       "   <td style=\"text-align:left;\"> chr1_30776_31100 </td>\n",
       "   <td style=\"text-align:right;\"> 40 </td>\n",
       "   <td style=\"text-align:left;\"> . </td>\n",
       "   <td style=\"text-align:right;\"> -2.501 </td>\n",
       "   <td style=\"text-align:right;\"> 0.252 </td>\n",
       "   <td style=\"text-align:right;\"> 0.003 </td>\n",
       "   <td style=\"text-align:right;\"> 4.826 </td>\n",
       "   <td style=\"text-align:right;\"> 4.060 </td>\n",
       "  </tr>\n",
       "</tbody>\n",
       "</table>"
      ]
     },
     "metadata": {},
     "output_type": "display_data"
    }
   ],
   "source": [
    "###\n",
    "txt_folder = TXT_FOLDER_REGION\n",
    "txt_fdiry  = file.path(FD_DAT, \"processed\", txt_folder)\n",
    "txt_fname = \"atacSTARR.ultra_deep.corrected.csaw.hg38.v10.common_file_formatted.txt\"\n",
    "txt_fpath = file.path(txt_fdiry, txt_fname)\n",
    "\n",
    "###\n",
    "dat = read_tsv(txt_fpath, show_col_types = FALSE)\n",
    "\n",
    "### assign and show\n",
    "dat_region_corrected_import = dat\n",
    "print(dim(dat))\n",
    "fun_display_table(head(dat))"
   ]
  },
  {
   "cell_type": "markdown",
   "id": "9f31831a-bd11-43df-b05c-e9a08f57c020",
   "metadata": {},
   "source": [
    "**Check**"
   ]
  },
  {
   "cell_type": "code",
   "execution_count": 6,
   "id": "862bcf1b-698d-4652-a26c-0e57f0e335c1",
   "metadata": {},
   "outputs": [
    {
     "data": {
      "text/plain": [
       "\n",
       " chr1 chr10 chr11 chr12 chr13 chr14 chr15 chr16 chr17 chr18 chr19  chr2 chr20 \n",
       "45294 16767 17689 15505  4994  6314 11618 13218 15032  7363 12384 28011  8764 \n",
       "chr21 chr22  chr3  chr4  chr5  chr6  chr7  chr8  chr9  chrM  chrX \n",
       " 6310  7075 20643 14267 19439 26508 29510 14374 12270    14  5755 "
      ]
     },
     "metadata": {},
     "output_type": "display_data"
    }
   ],
   "source": [
    "dat = dat_region_6dna7rna_import\n",
    "table(dat$seqnames)"
   ]
  },
  {
   "cell_type": "code",
   "execution_count": 7,
   "id": "1db1d662-7241-4583-9624-07060f9e0cea",
   "metadata": {},
   "outputs": [
    {
     "data": {
      "text/plain": [
       "\n",
       " chr1 chr10 chr11 chr12 chr13 chr14 chr15 chr16 chr17 chr18 chr19  chr2 chr20 \n",
       "44400 16448 17364 15209  4901  6266 11459 12834 14745  7192 12059 27722  8615 \n",
       "chr21 chr22  chr3  chr4  chr5  chr6  chr7  chr8  chr9  chrX \n",
       " 6198  6877 20388 14107 19125 26122 28951 14155 12044  5763 "
      ]
     },
     "metadata": {},
     "output_type": "display_data"
    }
   ],
   "source": [
    "dat = dat_region_corrected_import\n",
    "table(dat$seqnames)"
   ]
  },
  {
   "cell_type": "markdown",
   "id": "63653edb-2fb9-4544-9943-dc1098dc5f34",
   "metadata": {},
   "source": [
    "## Arrange data"
   ]
  },
  {
   "cell_type": "code",
   "execution_count": 20,
   "id": "5737e941-70f1-48dc-9eba-e826d7a9e906",
   "metadata": {},
   "outputs": [],
   "source": [
    "vec_txt_cname1 = c(\n",
    "    \"Chrom\",\n",
    "    \"ChromStart\",\n",
    "    \"ChromEnd\",\n",
    "    \"Name\",\n",
    "    \"Score\",\n",
    "    \"Strand\", \n",
    "    \"Log2FC\",\n",
    "    \"Input_CPM\",\n",
    "    \"Output_CPM\",\n",
    "    \"MinusLog10PValue\",\n",
    "    \"MinusLog10QValue\"\n",
    ")\n",
    "\n",
    "vec_txt_cname2 = c(\n",
    "    vec_txt_cname1,\n",
    "    \"Dataset\",\n",
    "    \"Group\",\n",
    "    \"Label\"\n",
    ")"
   ]
  },
  {
   "cell_type": "code",
   "execution_count": 23,
   "id": "7d9758e3-ee45-40b2-aaf2-a9b24b282dc6",
   "metadata": {},
   "outputs": [],
   "source": [
    "### init\n",
    "lst = list(\n",
    "    \"KSMerge\" = dat_region_6dna7rna_import,\n",
    "    \"KS91\"    = dat_region_corrected_import\n",
    ")\n",
    "\n",
    "### arrange data\n",
    "lst = lapply(lst, function(dat){\n",
    "    ### rename columns\n",
    "    colnames(dat) = vec_txt_cname1\n",
    "    \n",
    "    ### change format of region\n",
    "    dat = dat %>% dplyr::mutate(Name = paste0(Chrom, \":\", ChromStart, \"-\", ChromEnd))\n",
    "\n",
    "    ### filter out mitochondrial regions\n",
    "    dat = dat %>% dplyr::filter(Chrom != \"chrM\")\n",
    "    return(dat)\n",
    "})\n",
    "\n",
    "### add group and label\n",
    "dat = bind_rows(lst, .id = \"Dataset\")\n",
    "dat = dat %>% \n",
    "    dplyr::mutate(\n",
    "        Group = \"ASTARR\",\n",
    "        Label = ifelse(\n",
    "            Log2FC >= 0,\n",
    "            paste(\"ASTARR_A\", \"csaw\", Dataset, sep = \":\"),\n",
    "            paste(\"ASTARR_R\", \"csaw\", Dataset, sep = \":\")\n",
    "        )\n",
    "    ) %>%\n",
    "    dplyr::select(!!!vec_txt_cname2)\n",
    "lst = split(dat, dat$Dataset)\n",
    "\n",
    "### assign\n",
    "lst_region_arrange = lst"
   ]
  },
  {
   "cell_type": "markdown",
   "id": "71e7637b-bab9-4bc9-acd1-bbd773212816",
   "metadata": {},
   "source": [
    "**Check**"
   ]
  },
  {
   "cell_type": "code",
   "execution_count": 24,
   "id": "aec5ec90-1aec-490d-b47b-a4caba1ed019",
   "metadata": {},
   "outputs": [
    {
     "name": "stdout",
     "output_type": "stream",
     "text": [
      "\n",
      " chr1 chr10 chr11 chr12 chr13 chr14 chr15 chr16 chr17 chr18 chr19  chr2 chr20 \n",
      "45294 16767 17689 15505  4994  6314 11618 13218 15032  7363 12384 28011  8764 \n",
      "chr21 chr22  chr3  chr4  chr5  chr6  chr7  chr8  chr9  chrX \n",
      " 6310  7075 20643 14267 19439 26508 29510 14374 12270  5755 \n",
      "\n",
      "[1] 359104     14\n",
      "\n"
     ]
    },
    {
     "data": {
      "text/html": [
       "<table>\n",
       " <thead>\n",
       "  <tr>\n",
       "   <th style=\"text-align:left;\"> Chrom </th>\n",
       "   <th style=\"text-align:right;\"> ChromStart </th>\n",
       "   <th style=\"text-align:right;\"> ChromEnd </th>\n",
       "   <th style=\"text-align:left;\"> Name </th>\n",
       "   <th style=\"text-align:right;\"> Score </th>\n",
       "   <th style=\"text-align:left;\"> Strand </th>\n",
       "   <th style=\"text-align:right;\"> Log2FC </th>\n",
       "   <th style=\"text-align:right;\"> Input_CPM </th>\n",
       "   <th style=\"text-align:right;\"> Output_CPM </th>\n",
       "   <th style=\"text-align:right;\"> MinusLog10PValue </th>\n",
       "   <th style=\"text-align:right;\"> MinusLog10QValue </th>\n",
       "   <th style=\"text-align:left;\"> Dataset </th>\n",
       "   <th style=\"text-align:left;\"> Group </th>\n",
       "   <th style=\"text-align:left;\"> Label </th>\n",
       "  </tr>\n",
       " </thead>\n",
       "<tbody>\n",
       "  <tr>\n",
       "   <td style=\"text-align:left;\"> chr1 </td>\n",
       "   <td style=\"text-align:right;\"> 9976 </td>\n",
       "   <td style=\"text-align:right;\"> 10475 </td>\n",
       "   <td style=\"text-align:left;\"> chr1:9976-10475 </td>\n",
       "   <td style=\"text-align:right;\"> 86 </td>\n",
       "   <td style=\"text-align:left;\"> . </td>\n",
       "   <td style=\"text-align:right;\"> -4.604 </td>\n",
       "   <td style=\"text-align:right;\"> 0.424 </td>\n",
       "   <td style=\"text-align:right;\"> 0.001 </td>\n",
       "   <td style=\"text-align:right;\"> 10.243 </td>\n",
       "   <td style=\"text-align:right;\"> 8.634 </td>\n",
       "   <td style=\"text-align:left;\"> KSMerge </td>\n",
       "   <td style=\"text-align:left;\"> ASTARR </td>\n",
       "   <td style=\"text-align:left;\"> ASTARR_R:csaw:KSMerge </td>\n",
       "  </tr>\n",
       "  <tr>\n",
       "   <td style=\"text-align:left;\"> chr1 </td>\n",
       "   <td style=\"text-align:right;\"> 14226 </td>\n",
       "   <td style=\"text-align:right;\"> 14675 </td>\n",
       "   <td style=\"text-align:left;\"> chr1:14226-14675 </td>\n",
       "   <td style=\"text-align:right;\"> 100 </td>\n",
       "   <td style=\"text-align:left;\"> . </td>\n",
       "   <td style=\"text-align:right;\"> -5.400 </td>\n",
       "   <td style=\"text-align:right;\"> 0.273 </td>\n",
       "   <td style=\"text-align:right;\"> 0.002 </td>\n",
       "   <td style=\"text-align:right;\"> 12.021 </td>\n",
       "   <td style=\"text-align:right;\"> 10.004 </td>\n",
       "   <td style=\"text-align:left;\"> KSMerge </td>\n",
       "   <td style=\"text-align:left;\"> ASTARR </td>\n",
       "   <td style=\"text-align:left;\"> ASTARR_R:csaw:KSMerge </td>\n",
       "  </tr>\n",
       "  <tr>\n",
       "   <td style=\"text-align:left;\"> chr1 </td>\n",
       "   <td style=\"text-align:right;\"> 15976 </td>\n",
       "   <td style=\"text-align:right;\"> 16525 </td>\n",
       "   <td style=\"text-align:left;\"> chr1:15976-16525 </td>\n",
       "   <td style=\"text-align:right;\"> 61 </td>\n",
       "   <td style=\"text-align:left;\"> . </td>\n",
       "   <td style=\"text-align:right;\"> -2.227 </td>\n",
       "   <td style=\"text-align:right;\"> 0.533 </td>\n",
       "   <td style=\"text-align:right;\"> 0.012 </td>\n",
       "   <td style=\"text-align:right;\"> 7.203 </td>\n",
       "   <td style=\"text-align:right;\"> 6.119 </td>\n",
       "   <td style=\"text-align:left;\"> KSMerge </td>\n",
       "   <td style=\"text-align:left;\"> ASTARR </td>\n",
       "   <td style=\"text-align:left;\"> ASTARR_R:csaw:KSMerge </td>\n",
       "  </tr>\n",
       "</tbody>\n",
       "</table>"
      ]
     },
     "metadata": {},
     "output_type": "display_data"
    }
   ],
   "source": [
    "lst = lst_region_arrange\n",
    "dat = lst[[\"KSMerge\"]]\n",
    "dat_region_6dna7rna_arrange = dat\n",
    "\n",
    "print(table(dat$Chrom))\n",
    "cat(\"\\n\")\n",
    "print(dim(dat))\n",
    "cat(\"\\n\")\n",
    "fun_display_table(head(dat, 3))"
   ]
  },
  {
   "cell_type": "code",
   "execution_count": 25,
   "id": "1afc7769-cc85-4582-96c8-d82e15c85e8d",
   "metadata": {},
   "outputs": [
    {
     "name": "stdout",
     "output_type": "stream",
     "text": [
      "\n",
      " chr1 chr10 chr11 chr12 chr13 chr14 chr15 chr16 chr17 chr18 chr19  chr2 chr20 \n",
      "44400 16448 17364 15209  4901  6266 11459 12834 14745  7192 12059 27722  8615 \n",
      "chr21 chr22  chr3  chr4  chr5  chr6  chr7  chr8  chr9  chrX \n",
      " 6198  6877 20388 14107 19125 26122 28951 14155 12044  5763 \n",
      "\n",
      "[1] 352944     14\n",
      "\n"
     ]
    },
    {
     "data": {
      "text/html": [
       "<table>\n",
       " <thead>\n",
       "  <tr>\n",
       "   <th style=\"text-align:left;\"> Chrom </th>\n",
       "   <th style=\"text-align:right;\"> ChromStart </th>\n",
       "   <th style=\"text-align:right;\"> ChromEnd </th>\n",
       "   <th style=\"text-align:left;\"> Name </th>\n",
       "   <th style=\"text-align:right;\"> Score </th>\n",
       "   <th style=\"text-align:left;\"> Strand </th>\n",
       "   <th style=\"text-align:right;\"> Log2FC </th>\n",
       "   <th style=\"text-align:right;\"> Input_CPM </th>\n",
       "   <th style=\"text-align:right;\"> Output_CPM </th>\n",
       "   <th style=\"text-align:right;\"> MinusLog10PValue </th>\n",
       "   <th style=\"text-align:right;\"> MinusLog10QValue </th>\n",
       "   <th style=\"text-align:left;\"> Dataset </th>\n",
       "   <th style=\"text-align:left;\"> Group </th>\n",
       "   <th style=\"text-align:left;\"> Label </th>\n",
       "  </tr>\n",
       " </thead>\n",
       "<tbody>\n",
       "  <tr>\n",
       "   <td style=\"text-align:left;\"> chr1 </td>\n",
       "   <td style=\"text-align:right;\"> 9976 </td>\n",
       "   <td style=\"text-align:right;\"> 10475 </td>\n",
       "   <td style=\"text-align:left;\"> chr1:9976-10475 </td>\n",
       "   <td style=\"text-align:right;\"> 62 </td>\n",
       "   <td style=\"text-align:left;\"> . </td>\n",
       "   <td style=\"text-align:right;\"> -4.184 </td>\n",
       "   <td style=\"text-align:right;\"> 0.204 </td>\n",
       "   <td style=\"text-align:right;\"> 0.002 </td>\n",
       "   <td style=\"text-align:right;\"> 7.358 </td>\n",
       "   <td style=\"text-align:right;\"> 6.299 </td>\n",
       "   <td style=\"text-align:left;\"> KS91 </td>\n",
       "   <td style=\"text-align:left;\"> ASTARR </td>\n",
       "   <td style=\"text-align:left;\"> ASTARR_R:csaw:KS91 </td>\n",
       "  </tr>\n",
       "  <tr>\n",
       "   <td style=\"text-align:left;\"> chr1 </td>\n",
       "   <td style=\"text-align:right;\"> 14226 </td>\n",
       "   <td style=\"text-align:right;\"> 14675 </td>\n",
       "   <td style=\"text-align:left;\"> chr1:14226-14675 </td>\n",
       "   <td style=\"text-align:right;\"> 79 </td>\n",
       "   <td style=\"text-align:left;\"> . </td>\n",
       "   <td style=\"text-align:right;\"> -6.187 </td>\n",
       "   <td style=\"text-align:right;\"> 0.209 </td>\n",
       "   <td style=\"text-align:right;\"> 0.000 </td>\n",
       "   <td style=\"text-align:right;\"> 9.192 </td>\n",
       "   <td style=\"text-align:right;\"> 7.917 </td>\n",
       "   <td style=\"text-align:left;\"> KS91 </td>\n",
       "   <td style=\"text-align:left;\"> ASTARR </td>\n",
       "   <td style=\"text-align:left;\"> ASTARR_R:csaw:KS91 </td>\n",
       "  </tr>\n",
       "  <tr>\n",
       "   <td style=\"text-align:left;\"> chr1 </td>\n",
       "   <td style=\"text-align:right;\"> 15976 </td>\n",
       "   <td style=\"text-align:right;\"> 16525 </td>\n",
       "   <td style=\"text-align:left;\"> chr1:15976-16525 </td>\n",
       "   <td style=\"text-align:right;\"> 42 </td>\n",
       "   <td style=\"text-align:left;\"> . </td>\n",
       "   <td style=\"text-align:right;\"> -2.236 </td>\n",
       "   <td style=\"text-align:right;\"> 0.196 </td>\n",
       "   <td style=\"text-align:right;\"> 0.013 </td>\n",
       "   <td style=\"text-align:right;\"> 5.062 </td>\n",
       "   <td style=\"text-align:right;\"> 4.267 </td>\n",
       "   <td style=\"text-align:left;\"> KS91 </td>\n",
       "   <td style=\"text-align:left;\"> ASTARR </td>\n",
       "   <td style=\"text-align:left;\"> ASTARR_R:csaw:KS91 </td>\n",
       "  </tr>\n",
       "</tbody>\n",
       "</table>"
      ]
     },
     "metadata": {},
     "output_type": "display_data"
    }
   ],
   "source": [
    "lst = lst_region_arrange\n",
    "dat = lst[[\"KS91\"]]\n",
    "dat_region_corrected_arrange = dat\n",
    "\n",
    "print(table(dat$Chrom))\n",
    "cat(\"\\n\")\n",
    "print(dim(dat))\n",
    "cat(\"\\n\")\n",
    "fun_display_table(head(dat, 3))"
   ]
  },
  {
   "cell_type": "markdown",
   "id": "02f16580-b29c-4547-93c5-75079f1cb0f1",
   "metadata": {},
   "source": [
    "## Define column description"
   ]
  },
  {
   "cell_type": "code",
   "execution_count": 28,
   "id": "c26db107-d430-4df6-a6ca-c52702bb78e6",
   "metadata": {},
   "outputs": [
    {
     "data": {
      "text/html": [
       "<table>\n",
       " <thead>\n",
       "  <tr>\n",
       "   <th style=\"text-align:left;\"> Name </th>\n",
       "   <th style=\"text-align:left;\"> Note </th>\n",
       "  </tr>\n",
       " </thead>\n",
       "<tbody>\n",
       "  <tr>\n",
       "   <td style=\"text-align:left;\"> Chrom </td>\n",
       "   <td style=\"text-align:left;\"> Name of the chromosome </td>\n",
       "  </tr>\n",
       "  <tr>\n",
       "   <td style=\"text-align:left;\"> ChromStart </td>\n",
       "   <td style=\"text-align:left;\"> The starting position of the feature in the chromosome </td>\n",
       "  </tr>\n",
       "  <tr>\n",
       "   <td style=\"text-align:left;\"> ChromEnd </td>\n",
       "   <td style=\"text-align:left;\"> The ending position of the feature in the chromosome </td>\n",
       "  </tr>\n",
       "  <tr>\n",
       "   <td style=\"text-align:left;\"> Name </td>\n",
       "   <td style=\"text-align:left;\"> Name given to a region; Use '.' if no name is assigned. </td>\n",
       "  </tr>\n",
       "  <tr>\n",
       "   <td style=\"text-align:left;\"> Score </td>\n",
       "   <td style=\"text-align:left;\"> Score assigned to a region. </td>\n",
       "  </tr>\n",
       "  <tr>\n",
       "   <td style=\"text-align:left;\"> Strand </td>\n",
       "   <td style=\"text-align:left;\"> +/- to denote strand or orientation. Use '.' if no orientation is assigned. </td>\n",
       "  </tr>\n",
       "  <tr>\n",
       "   <td style=\"text-align:left;\"> Log2FC </td>\n",
       "   <td style=\"text-align:left;\"> Fold change (normalized output/input ratio, in log2 space) </td>\n",
       "  </tr>\n",
       "  <tr>\n",
       "   <td style=\"text-align:left;\"> Input_CPM </td>\n",
       "   <td style=\"text-align:left;\"> Input CPM, mean across replicates </td>\n",
       "  </tr>\n",
       "  <tr>\n",
       "   <td style=\"text-align:left;\"> Output_CPM </td>\n",
       "   <td style=\"text-align:left;\"> Output CPM, mean across replicates </td>\n",
       "  </tr>\n",
       "  <tr>\n",
       "   <td style=\"text-align:left;\"> MinusLog10PValue </td>\n",
       "   <td style=\"text-align:left;\"> -log10 of P-value </td>\n",
       "  </tr>\n",
       "  <tr>\n",
       "   <td style=\"text-align:left;\"> MinusLog10QValue </td>\n",
       "   <td style=\"text-align:left;\"> -log10 of Q-value (FDR) </td>\n",
       "  </tr>\n",
       "  <tr>\n",
       "   <td style=\"text-align:left;\"> Dataset </td>\n",
       "   <td style=\"text-align:left;\"> Dataset </td>\n",
       "  </tr>\n",
       "  <tr>\n",
       "   <td style=\"text-align:left;\"> Group </td>\n",
       "   <td style=\"text-align:left;\"> Assay name </td>\n",
       "  </tr>\n",
       "  <tr>\n",
       "   <td style=\"text-align:left;\"> Label </td>\n",
       "   <td style=\"text-align:left;\"> Region label </td>\n",
       "  </tr>\n",
       "</tbody>\n",
       "</table>"
      ]
     },
     "metadata": {},
     "output_type": "display_data"
    }
   ],
   "source": [
    "### setup column description\n",
    "dat = tribble(\n",
    "    ~Name,              ~Note,\n",
    "    \"Chrom\",            \"Name of the chromosome\",\n",
    "    \"ChromStart\",       \"The starting position of the feature in the chromosome\",\n",
    "    \"ChromEnd\",         \"The ending position of the feature in the chromosome\",\n",
    "    \"Name\",             \"Name given to a region; Use '.' if no name is assigned.\",\n",
    "    \"Score\",            \"Score assigned to a region.\",\n",
    "    \"Strand\",           \"+/- to denote strand or orientation. Use '.' if no orientation is assigned.\",\n",
    "    \"Log2FC\",           \"Fold change (normalized output/input ratio, in log2 space)\",\n",
    "    \"Input_CPM\",        \"Input CPM, mean across replicates\",\n",
    "    \"Output_CPM\",       \"Output CPM, mean across replicates\",\n",
    "    \"MinusLog10PValue\", \"-log10 of P-value\",\n",
    "    \"MinusLog10QValue\", \"-log10 of Q-value (FDR)\",\n",
    "    \"Dataset\",          \"Dataset\",\n",
    "    \"Group\",            \"Assay name\",\n",
    "    \"Label\",            \"Region label\"\n",
    ")\n",
    "\n",
    "### assign and show\n",
    "dat_cname = dat\n",
    "fun_display_table(dat)"
   ]
  },
  {
   "cell_type": "markdown",
   "id": "f51ec37f-e9b7-43f8-ace6-773c4a52689b",
   "metadata": {},
   "source": [
    "## Save results"
   ]
  },
  {
   "cell_type": "code",
   "execution_count": 31,
   "id": "3136996e-1173-4cfc-b258-fdfa23bc51f3",
   "metadata": {},
   "outputs": [],
   "source": [
    "txt_folder = TXT_FOLDER_REGION\n",
    "txt_fdiry  = file.path(FD_RES, \"region\", txt_folder, \"summary\")\n",
    "txt_fname  = \"description.tsv\"\n",
    "txt_fpath  = file.path(txt_fdiry, txt_fname)\n",
    "\n",
    "dir.create(txt_fdiry, showWarnings = FALSE)\n",
    "dat = dat_cname\n",
    "write_tsv(dat, txt_fpath)"
   ]
  },
  {
   "cell_type": "code",
   "execution_count": 29,
   "id": "7aa1d8ed-0056-4ab4-9713-477f6f397392",
   "metadata": {},
   "outputs": [],
   "source": [
    "### set file path\n",
    "txt_folder = TXT_FOLDER_REGION\n",
    "txt_fdiry  = file.path(FD_RES, \"region\", txt_folder)\n",
    "txt_fname = \"K562.hg38.ASTARR.csaw.KSMerge.bed.gz\"\n",
    "txt_fpath = file.path(txt_fdiry, txt_fname)\n",
    "\n",
    "### get table\n",
    "dat = dat_region_6dna7rna_arrange\n",
    "dat = dat %>% dplyr::arrange(Chrom, ChromStart, ChromEnd)\n",
    "\n",
    "### write tabel\n",
    "dir.create(txt_fdiry, showWarnings = FALSE)\n",
    "write_tsv(dat, txt_fpath, col_names = FALSE)"
   ]
  },
  {
   "cell_type": "code",
   "execution_count": 30,
   "id": "5cd12191-2722-4704-ba18-bbd29a92b543",
   "metadata": {},
   "outputs": [],
   "source": [
    "### set file path\n",
    "txt_folder = TXT_FOLDER_REGION\n",
    "txt_fdiry  = file.path(FD_RES, \"region\", txt_folder)\n",
    "txt_fname = \"K562.hg38.ASTARR.csaw.KS91.bed.gz\"\n",
    "txt_fpath = file.path(txt_fdiry, txt_fname)\n",
    "\n",
    "### get table\n",
    "dat = dat_region_corrected_arrange\n",
    "dat = dat %>% dplyr::arrange(Chrom, ChromStart, ChromEnd)\n",
    "\n",
    "### write tabel\n",
    "dir.create(txt_fdiry, showWarnings = FALSE)\n",
    "write_tsv(dat, txt_fpath, col_names = FALSE)"
   ]
  },
  {
   "cell_type": "code",
   "execution_count": null,
   "id": "610a4ca6-8bc9-4094-b515-557486ac4676",
   "metadata": {},
   "outputs": [],
   "source": []
  }
 ],
 "metadata": {
  "kernelspec": {
   "display_name": "R",
   "language": "R",
   "name": "ir"
  },
  "language_info": {
   "codemirror_mode": "r",
   "file_extension": ".r",
   "mimetype": "text/x-r-source",
   "name": "R",
   "pygments_lexer": "r",
   "version": "4.4.1"
  }
 },
 "nbformat": 4,
 "nbformat_minor": 5
}
