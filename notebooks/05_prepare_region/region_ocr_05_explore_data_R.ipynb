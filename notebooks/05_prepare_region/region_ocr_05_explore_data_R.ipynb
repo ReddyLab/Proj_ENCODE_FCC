{
 "cells": [
  {
   "cell_type": "raw",
   "id": "5b87be37-c76c-4609-937b-f0321beb701b",
   "metadata": {},
   "source": [
    "---\n",
    "title: Prepare ENCODE ATAC/DNase Peaks 05\n",
    "subtitle: Generate metadata for the peak file\n",
    "format:\n",
    "    html:\n",
    "        code-fold:  true\n",
    "        code-tools: true\n",
    "---"
   ]
  },
  {
   "cell_type": "markdown",
   "id": "97e4508d-a140-44ec-80e0-6a429061548d",
   "metadata": {},
   "source": [
    "**Set environment**"
   ]
  },
  {
   "cell_type": "code",
   "execution_count": 1,
   "id": "d1c030e1-2282-42d9-8ce2-07714b07630e",
   "metadata": {},
   "outputs": [
    {
     "name": "stdout",
     "output_type": "stream",
     "text": [
      "You are working on        Singularity \n",
      "BASE DIRECTORY (FD_BASE): /mount \n",
      "REPO DIRECTORY (FD_REPO): /mount/repo \n",
      "WORK DIRECTORY (FD_WORK): /mount/work \n",
      "DATA DIRECTORY (FD_DATA): /mount/data \n",
      "\n",
      "You are working with      ENCODE FCC \n",
      "PATH OF PROJECT (FD_PRJ): /mount/repo/Proj_ENCODE_FCC \n",
      "PROJECT RESULTS (FD_RES): /mount/repo/Proj_ENCODE_FCC/results \n",
      "PROJECT SCRIPTS (FD_EXE): /mount/repo/Proj_ENCODE_FCC/scripts \n",
      "PROJECT DATA    (FD_DAT): /mount/repo/Proj_ENCODE_FCC/data \n",
      "PROJECT NOTE    (FD_NBK): /mount/repo/Proj_ENCODE_FCC/notebooks \n",
      "PROJECT DOCS    (FD_DOC): /mount/repo/Proj_ENCODE_FCC/docs \n",
      "PROJECT LOG     (FD_LOG): /mount/repo/Proj_ENCODE_FCC/log \n",
      "PROJECT APP     (FD_APP): /mount/repo/Proj_ENCODE_FCC/app \n",
      "PROJECT REF     (FD_REF): /mount/repo/Proj_ENCODE_FCC/references \n",
      "\n"
     ]
    }
   ],
   "source": [
    "suppressMessages(suppressWarnings(source(\"../run_config_project_sing.R\")))\n",
    "show_env()"
   ]
  },
  {
   "cell_type": "markdown",
   "id": "609c4720-09a6-4c70-8799-6963786cf791",
   "metadata": {},
   "source": [
    "**Set global variables**"
   ]
  },
  {
   "cell_type": "code",
   "execution_count": 2,
   "id": "84f2bb90-f3a9-49e0-aca0-f6c434367900",
   "metadata": {},
   "outputs": [],
   "source": [
    "TXT_REGION_FOLDER = \"encode_open_chromatin\""
   ]
  },
  {
   "cell_type": "markdown",
   "id": "672ea5fa-f661-4682-9235-9f52a5fb24fe",
   "metadata": {},
   "source": [
    "## Import data"
   ]
  },
  {
   "cell_type": "code",
   "execution_count": 3,
   "id": "a71eb95f-50fa-43f0-aede-52a8efd9751e",
   "metadata": {},
   "outputs": [],
   "source": [
    "### set directory\n",
    "txt_folder = TXT_REGION_FOLDER\n",
    "txt_fdiry  = file.path(FD_RES, \"region\", txt_folder)\n",
    "txt_fglob  = file.path(txt_fdiry, \"*bed*\")\n",
    "\n",
    "### get file names\n",
    "vec_txt_fpath = Sys.glob(txt_fglob)\n",
    "vec_txt_fname = basename(vec_txt_fpath)"
   ]
  },
  {
   "cell_type": "code",
   "execution_count": 9,
   "id": "0e8ffdb0-9b70-43be-b416-aefe9dce559c",
   "metadata": {},
   "outputs": [],
   "source": [
    "lst = lapply(vec_txt_fpath, function(txt_fpath){\n",
    "    dat = read_tsv(txt_fpath, col_names = FALSE, show_col_types = FALSE)\n",
    "    return(dat)\n",
    "})\n",
    "names(lst) = vec_txt_fname\n",
    "\n",
    "lst_dat_import = lst"
   ]
  },
  {
   "cell_type": "code",
   "execution_count": 5,
   "id": "4e4a68cc-2649-4e97-acaf-2ad70bd98b95",
   "metadata": {},
   "outputs": [
    {
     "data": {
      "text/html": [
       "<table class=\"dataframe\">\n",
       "<caption>A tibble: 6 × 10</caption>\n",
       "<thead>\n",
       "\t<tr><th scope=col>X1</th><th scope=col>X2</th><th scope=col>X3</th><th scope=col>X4</th><th scope=col>X5</th><th scope=col>X6</th><th scope=col>X7</th><th scope=col>X8</th><th scope=col>X9</th><th scope=col>X10</th></tr>\n",
       "\t<tr><th scope=col>&lt;chr&gt;</th><th scope=col>&lt;dbl&gt;</th><th scope=col>&lt;dbl&gt;</th><th scope=col>&lt;chr&gt;</th><th scope=col>&lt;dbl&gt;</th><th scope=col>&lt;chr&gt;</th><th scope=col>&lt;dbl&gt;</th><th scope=col>&lt;dbl&gt;</th><th scope=col>&lt;dbl&gt;</th><th scope=col>&lt;dbl&gt;</th></tr>\n",
       "</thead>\n",
       "<tbody>\n",
       "\t<tr><td>chr1</td><td>181400</td><td>181530</td><td>.</td><td>0</td><td>.</td><td> 0.299874</td><td>-1</td><td>-1</td><td>75</td></tr>\n",
       "\t<tr><td>chr1</td><td>778660</td><td>778800</td><td>.</td><td>0</td><td>.</td><td>14.138300</td><td>-1</td><td>-1</td><td>75</td></tr>\n",
       "\t<tr><td>chr1</td><td>779137</td><td>779200</td><td>.</td><td>0</td><td>.</td><td> 0.331440</td><td>-1</td><td>-1</td><td>75</td></tr>\n",
       "\t<tr><td>chr1</td><td>827460</td><td>827554</td><td>.</td><td>0</td><td>.</td><td> 3.383840</td><td>-1</td><td>-1</td><td>75</td></tr>\n",
       "\t<tr><td>chr1</td><td>842880</td><td>843060</td><td>.</td><td>0</td><td>.</td><td> 1.644570</td><td>-1</td><td>-1</td><td>75</td></tr>\n",
       "\t<tr><td>chr1</td><td>869800</td><td>869980</td><td>.</td><td>0</td><td>.</td><td> 2.234850</td><td>-1</td><td>-1</td><td>75</td></tr>\n",
       "</tbody>\n",
       "</table>\n"
      ],
      "text/latex": [
       "A tibble: 6 × 10\n",
       "\\begin{tabular}{llllllllll}\n",
       " X1 & X2 & X3 & X4 & X5 & X6 & X7 & X8 & X9 & X10\\\\\n",
       " <chr> & <dbl> & <dbl> & <chr> & <dbl> & <chr> & <dbl> & <dbl> & <dbl> & <dbl>\\\\\n",
       "\\hline\n",
       "\t chr1 & 181400 & 181530 & . & 0 & . &  0.299874 & -1 & -1 & 75\\\\\n",
       "\t chr1 & 778660 & 778800 & . & 0 & . & 14.138300 & -1 & -1 & 75\\\\\n",
       "\t chr1 & 779137 & 779200 & . & 0 & . &  0.331440 & -1 & -1 & 75\\\\\n",
       "\t chr1 & 827460 & 827554 & . & 0 & . &  3.383840 & -1 & -1 & 75\\\\\n",
       "\t chr1 & 842880 & 843060 & . & 0 & . &  1.644570 & -1 & -1 & 75\\\\\n",
       "\t chr1 & 869800 & 869980 & . & 0 & . &  2.234850 & -1 & -1 & 75\\\\\n",
       "\\end{tabular}\n"
      ],
      "text/markdown": [
       "\n",
       "A tibble: 6 × 10\n",
       "\n",
       "| X1 &lt;chr&gt; | X2 &lt;dbl&gt; | X3 &lt;dbl&gt; | X4 &lt;chr&gt; | X5 &lt;dbl&gt; | X6 &lt;chr&gt; | X7 &lt;dbl&gt; | X8 &lt;dbl&gt; | X9 &lt;dbl&gt; | X10 &lt;dbl&gt; |\n",
       "|---|---|---|---|---|---|---|---|---|---|\n",
       "| chr1 | 181400 | 181530 | . | 0 | . |  0.299874 | -1 | -1 | 75 |\n",
       "| chr1 | 778660 | 778800 | . | 0 | . | 14.138300 | -1 | -1 | 75 |\n",
       "| chr1 | 779137 | 779200 | . | 0 | . |  0.331440 | -1 | -1 | 75 |\n",
       "| chr1 | 827460 | 827554 | . | 0 | . |  3.383840 | -1 | -1 | 75 |\n",
       "| chr1 | 842880 | 843060 | . | 0 | . |  1.644570 | -1 | -1 | 75 |\n",
       "| chr1 | 869800 | 869980 | . | 0 | . |  2.234850 | -1 | -1 | 75 |\n",
       "\n"
      ],
      "text/plain": [
       "  X1   X2     X3     X4 X5 X6 X7        X8 X9 X10\n",
       "1 chr1 181400 181530 .  0  .   0.299874 -1 -1 75 \n",
       "2 chr1 778660 778800 .  0  .  14.138300 -1 -1 75 \n",
       "3 chr1 779137 779200 .  0  .   0.331440 -1 -1 75 \n",
       "4 chr1 827460 827554 .  0  .   3.383840 -1 -1 75 \n",
       "5 chr1 842880 843060 .  0  .   1.644570 -1 -1 75 \n",
       "6 chr1 869800 869980 .  0  .   2.234850 -1 -1 75 "
      ]
     },
     "metadata": {},
     "output_type": "display_data"
    }
   ],
   "source": [
    "dat = lst[[1]]\n",
    "head(dat)"
   ]
  },
  {
   "cell_type": "code",
   "execution_count": 10,
   "id": "cb54cc8b-30c5-45b5-9e0d-7fba326a03cd",
   "metadata": {},
   "outputs": [
    {
     "data": {
      "text/html": [
       "<table class=\"dataframe\">\n",
       "<caption>A data.frame: 6 × 25</caption>\n",
       "<thead>\n",
       "\t<tr><th></th><th scope=col>Index</th><th scope=col>chr1</th><th scope=col>chr10</th><th scope=col>chr11</th><th scope=col>chr12</th><th scope=col>chr13</th><th scope=col>chr14</th><th scope=col>chr15</th><th scope=col>chr16</th><th scope=col>chr17</th><th scope=col>⋯</th><th scope=col>chr22</th><th scope=col>chr3</th><th scope=col>chr4</th><th scope=col>chr5</th><th scope=col>chr6</th><th scope=col>chr7</th><th scope=col>chr8</th><th scope=col>chr9</th><th scope=col>chrX</th><th scope=col>chrY</th></tr>\n",
       "\t<tr><th></th><th scope=col>&lt;chr&gt;</th><th scope=col>&lt;int&gt;</th><th scope=col>&lt;int&gt;</th><th scope=col>&lt;int&gt;</th><th scope=col>&lt;int&gt;</th><th scope=col>&lt;int&gt;</th><th scope=col>&lt;int&gt;</th><th scope=col>&lt;int&gt;</th><th scope=col>&lt;int&gt;</th><th scope=col>&lt;int&gt;</th><th scope=col>⋯</th><th scope=col>&lt;int&gt;</th><th scope=col>&lt;int&gt;</th><th scope=col>&lt;int&gt;</th><th scope=col>&lt;int&gt;</th><th scope=col>&lt;int&gt;</th><th scope=col>&lt;int&gt;</th><th scope=col>&lt;int&gt;</th><th scope=col>&lt;int&gt;</th><th scope=col>&lt;int&gt;</th><th scope=col>&lt;int&gt;</th></tr>\n",
       "</thead>\n",
       "<tbody>\n",
       "\t<tr><th scope=row>1</th><td>K562.hg38.ENCSR000EKS.ENCFF274YGF.DNase.bed.gz</td><td>12452</td><td> 5480</td><td> 6329</td><td> 5905</td><td>2413</td><td>3398</td><td>3709</td><td>4493</td><td> 5956</td><td>⋯</td><td>3344</td><td> 7095</td><td> 4480</td><td> 5670</td><td> 7056</td><td> 6435</td><td> 4697</td><td>4841</td><td>3556</td><td> 4</td></tr>\n",
       "\t<tr><th scope=row>2</th><td>K562.hg38.ENCSR000EOT.ENCFF185XRG.DNase.bed.gz</td><td>16479</td><td> 7168</td><td> 8275</td><td> 8022</td><td>3328</td><td>4571</td><td>5169</td><td>5866</td><td> 7538</td><td>⋯</td><td>3440</td><td> 9776</td><td> 6871</td><td> 7880</td><td>10071</td><td> 8551</td><td> 6665</td><td>6128</td><td>5035</td><td> 7</td></tr>\n",
       "\t<tr><th scope=row>3</th><td>K562.hg38.ENCSR483RKN.ENCFF558BLC.ATAC.bed.gz </td><td>24045</td><td> 8911</td><td>10864</td><td> 9419</td><td>3136</td><td>4995</td><td>6505</td><td>7541</td><td> 9093</td><td>⋯</td><td>4626</td><td>12141</td><td> 8285</td><td> 9911</td><td>14090</td><td>13583</td><td> 8281</td><td>7615</td><td>5355</td><td> 3</td></tr>\n",
       "\t<tr><th scope=row>4</th><td>K562.hg38.ENCSR483RKN.ENCFF925CYR.ATAC.bed.gz </td><td>14206</td><td> 5420</td><td> 6921</td><td> 5747</td><td>1827</td><td>3201</td><td>3939</td><td>4872</td><td> 6284</td><td>⋯</td><td>2973</td><td> 7064</td><td> 4527</td><td> 5819</td><td> 8163</td><td> 7361</td><td> 4815</td><td>4691</td><td>3340</td><td>NA</td></tr>\n",
       "\t<tr><th scope=row>5</th><td>K562.hg38.ENCSR868FGK.ENCFF333TAT.ATAC.bed.gz </td><td>31171</td><td>11955</td><td>13646</td><td>12532</td><td>4681</td><td>6836</td><td>8649</td><td>9019</td><td>11224</td><td>⋯</td><td>5915</td><td>16450</td><td>11960</td><td>13616</td><td>18863</td><td>18102</td><td>11265</td><td>9779</td><td>7089</td><td> 8</td></tr>\n",
       "\t<tr><th scope=row>6</th><td>K562.hg38.ENCSR868FGK.ENCFF948AFM.ATAC.bed.gz </td><td>20798</td><td> 7978</td><td> 9620</td><td> 8606</td><td>3045</td><td>4780</td><td>5858</td><td>6430</td><td> 8298</td><td>⋯</td><td>4195</td><td>10787</td><td> 7534</td><td> 8827</td><td>12403</td><td>11335</td><td> 7369</td><td>6747</td><td>5033</td><td> 4</td></tr>\n",
       "</tbody>\n",
       "</table>\n"
      ],
      "text/latex": [
       "A data.frame: 6 × 25\n",
       "\\begin{tabular}{r|lllllllllllllllllllll}\n",
       "  & Index & chr1 & chr10 & chr11 & chr12 & chr13 & chr14 & chr15 & chr16 & chr17 & ⋯ & chr22 & chr3 & chr4 & chr5 & chr6 & chr7 & chr8 & chr9 & chrX & chrY\\\\\n",
       "  & <chr> & <int> & <int> & <int> & <int> & <int> & <int> & <int> & <int> & <int> & ⋯ & <int> & <int> & <int> & <int> & <int> & <int> & <int> & <int> & <int> & <int>\\\\\n",
       "\\hline\n",
       "\t1 & K562.hg38.ENCSR000EKS.ENCFF274YGF.DNase.bed.gz & 12452 &  5480 &  6329 &  5905 & 2413 & 3398 & 3709 & 4493 &  5956 & ⋯ & 3344 &  7095 &  4480 &  5670 &  7056 &  6435 &  4697 & 4841 & 3556 &  4\\\\\n",
       "\t2 & K562.hg38.ENCSR000EOT.ENCFF185XRG.DNase.bed.gz & 16479 &  7168 &  8275 &  8022 & 3328 & 4571 & 5169 & 5866 &  7538 & ⋯ & 3440 &  9776 &  6871 &  7880 & 10071 &  8551 &  6665 & 6128 & 5035 &  7\\\\\n",
       "\t3 & K562.hg38.ENCSR483RKN.ENCFF558BLC.ATAC.bed.gz  & 24045 &  8911 & 10864 &  9419 & 3136 & 4995 & 6505 & 7541 &  9093 & ⋯ & 4626 & 12141 &  8285 &  9911 & 14090 & 13583 &  8281 & 7615 & 5355 &  3\\\\\n",
       "\t4 & K562.hg38.ENCSR483RKN.ENCFF925CYR.ATAC.bed.gz  & 14206 &  5420 &  6921 &  5747 & 1827 & 3201 & 3939 & 4872 &  6284 & ⋯ & 2973 &  7064 &  4527 &  5819 &  8163 &  7361 &  4815 & 4691 & 3340 & NA\\\\\n",
       "\t5 & K562.hg38.ENCSR868FGK.ENCFF333TAT.ATAC.bed.gz  & 31171 & 11955 & 13646 & 12532 & 4681 & 6836 & 8649 & 9019 & 11224 & ⋯ & 5915 & 16450 & 11960 & 13616 & 18863 & 18102 & 11265 & 9779 & 7089 &  8\\\\\n",
       "\t6 & K562.hg38.ENCSR868FGK.ENCFF948AFM.ATAC.bed.gz  & 20798 &  7978 &  9620 &  8606 & 3045 & 4780 & 5858 & 6430 &  8298 & ⋯ & 4195 & 10787 &  7534 &  8827 & 12403 & 11335 &  7369 & 6747 & 5033 &  4\\\\\n",
       "\\end{tabular}\n"
      ],
      "text/markdown": [
       "\n",
       "A data.frame: 6 × 25\n",
       "\n",
       "| <!--/--> | Index &lt;chr&gt; | chr1 &lt;int&gt; | chr10 &lt;int&gt; | chr11 &lt;int&gt; | chr12 &lt;int&gt; | chr13 &lt;int&gt; | chr14 &lt;int&gt; | chr15 &lt;int&gt; | chr16 &lt;int&gt; | chr17 &lt;int&gt; | ⋯ ⋯ | chr22 &lt;int&gt; | chr3 &lt;int&gt; | chr4 &lt;int&gt; | chr5 &lt;int&gt; | chr6 &lt;int&gt; | chr7 &lt;int&gt; | chr8 &lt;int&gt; | chr9 &lt;int&gt; | chrX &lt;int&gt; | chrY &lt;int&gt; |\n",
       "|---|---|---|---|---|---|---|---|---|---|---|---|---|---|---|---|---|---|---|---|---|---|\n",
       "| 1 | K562.hg38.ENCSR000EKS.ENCFF274YGF.DNase.bed.gz | 12452 |  5480 |  6329 |  5905 | 2413 | 3398 | 3709 | 4493 |  5956 | ⋯ | 3344 |  7095 |  4480 |  5670 |  7056 |  6435 |  4697 | 4841 | 3556 |  4 |\n",
       "| 2 | K562.hg38.ENCSR000EOT.ENCFF185XRG.DNase.bed.gz | 16479 |  7168 |  8275 |  8022 | 3328 | 4571 | 5169 | 5866 |  7538 | ⋯ | 3440 |  9776 |  6871 |  7880 | 10071 |  8551 |  6665 | 6128 | 5035 |  7 |\n",
       "| 3 | K562.hg38.ENCSR483RKN.ENCFF558BLC.ATAC.bed.gz  | 24045 |  8911 | 10864 |  9419 | 3136 | 4995 | 6505 | 7541 |  9093 | ⋯ | 4626 | 12141 |  8285 |  9911 | 14090 | 13583 |  8281 | 7615 | 5355 |  3 |\n",
       "| 4 | K562.hg38.ENCSR483RKN.ENCFF925CYR.ATAC.bed.gz  | 14206 |  5420 |  6921 |  5747 | 1827 | 3201 | 3939 | 4872 |  6284 | ⋯ | 2973 |  7064 |  4527 |  5819 |  8163 |  7361 |  4815 | 4691 | 3340 | NA |\n",
       "| 5 | K562.hg38.ENCSR868FGK.ENCFF333TAT.ATAC.bed.gz  | 31171 | 11955 | 13646 | 12532 | 4681 | 6836 | 8649 | 9019 | 11224 | ⋯ | 5915 | 16450 | 11960 | 13616 | 18863 | 18102 | 11265 | 9779 | 7089 |  8 |\n",
       "| 6 | K562.hg38.ENCSR868FGK.ENCFF948AFM.ATAC.bed.gz  | 20798 |  7978 |  9620 |  8606 | 3045 | 4780 | 5858 | 6430 |  8298 | ⋯ | 4195 | 10787 |  7534 |  8827 | 12403 | 11335 |  7369 | 6747 | 5033 |  4 |\n",
       "\n"
      ],
      "text/plain": [
       "  Index                                          chr1  chr10 chr11 chr12 chr13\n",
       "1 K562.hg38.ENCSR000EKS.ENCFF274YGF.DNase.bed.gz 12452  5480  6329  5905 2413 \n",
       "2 K562.hg38.ENCSR000EOT.ENCFF185XRG.DNase.bed.gz 16479  7168  8275  8022 3328 \n",
       "3 K562.hg38.ENCSR483RKN.ENCFF558BLC.ATAC.bed.gz  24045  8911 10864  9419 3136 \n",
       "4 K562.hg38.ENCSR483RKN.ENCFF925CYR.ATAC.bed.gz  14206  5420  6921  5747 1827 \n",
       "5 K562.hg38.ENCSR868FGK.ENCFF333TAT.ATAC.bed.gz  31171 11955 13646 12532 4681 \n",
       "6 K562.hg38.ENCSR868FGK.ENCFF948AFM.ATAC.bed.gz  20798  7978  9620  8606 3045 \n",
       "  chr14 chr15 chr16 chr17 ⋯ chr22 chr3  chr4  chr5  chr6  chr7  chr8  chr9 chrX\n",
       "1 3398  3709  4493   5956 ⋯ 3344   7095  4480  5670  7056  6435  4697 4841 3556\n",
       "2 4571  5169  5866   7538 ⋯ 3440   9776  6871  7880 10071  8551  6665 6128 5035\n",
       "3 4995  6505  7541   9093 ⋯ 4626  12141  8285  9911 14090 13583  8281 7615 5355\n",
       "4 3201  3939  4872   6284 ⋯ 2973   7064  4527  5819  8163  7361  4815 4691 3340\n",
       "5 6836  8649  9019  11224 ⋯ 5915  16450 11960 13616 18863 18102 11265 9779 7089\n",
       "6 4780  5858  6430   8298 ⋯ 4195  10787  7534  8827 12403 11335  7369 6747 5033\n",
       "  chrY\n",
       "1  4  \n",
       "2  7  \n",
       "3  3  \n",
       "4 NA  \n",
       "5  8  \n",
       "6  4  "
      ]
     },
     "metadata": {},
     "output_type": "display_data"
    }
   ],
   "source": [
    "lst = lst_dat_import\n",
    "lst = lapply(lst, function(dat){\n",
    "    dat = as.data.frame(table(dat$X1))\n",
    "    return(dat)\n",
    "})\n",
    "\n",
    "dat = bind_rows(lst, .id = \"Index\")\n",
    "dat = dat %>% tidyr::spread(Var1, Freq)\n",
    "head(dat)"
   ]
  },
  {
   "cell_type": "code",
   "execution_count": 11,
   "id": "551090f4-ba3a-46f8-9bec-91f99b4a8c89",
   "metadata": {},
   "outputs": [
    {
     "data": {
      "text/html": [
       "<style>\n",
       ".list-inline {list-style: none; margin:0; padding: 0}\n",
       ".list-inline>li {display: inline-block}\n",
       ".list-inline>li:not(:last-child)::after {content: \"\\00b7\"; padding: 0 .5ex}\n",
       "</style>\n",
       "<ol class=list-inline><li>'Index'</li><li>'chr1'</li><li>'chr10'</li><li>'chr11'</li><li>'chr12'</li><li>'chr13'</li><li>'chr14'</li><li>'chr15'</li><li>'chr16'</li><li>'chr17'</li><li>'chr18'</li><li>'chr19'</li><li>'chr2'</li><li>'chr20'</li><li>'chr21'</li><li>'chr22'</li><li>'chr3'</li><li>'chr4'</li><li>'chr5'</li><li>'chr6'</li><li>'chr7'</li><li>'chr8'</li><li>'chr9'</li><li>'chrX'</li><li>'chrY'</li></ol>\n"
      ],
      "text/latex": [
       "\\begin{enumerate*}\n",
       "\\item 'Index'\n",
       "\\item 'chr1'\n",
       "\\item 'chr10'\n",
       "\\item 'chr11'\n",
       "\\item 'chr12'\n",
       "\\item 'chr13'\n",
       "\\item 'chr14'\n",
       "\\item 'chr15'\n",
       "\\item 'chr16'\n",
       "\\item 'chr17'\n",
       "\\item 'chr18'\n",
       "\\item 'chr19'\n",
       "\\item 'chr2'\n",
       "\\item 'chr20'\n",
       "\\item 'chr21'\n",
       "\\item 'chr22'\n",
       "\\item 'chr3'\n",
       "\\item 'chr4'\n",
       "\\item 'chr5'\n",
       "\\item 'chr6'\n",
       "\\item 'chr7'\n",
       "\\item 'chr8'\n",
       "\\item 'chr9'\n",
       "\\item 'chrX'\n",
       "\\item 'chrY'\n",
       "\\end{enumerate*}\n"
      ],
      "text/markdown": [
       "1. 'Index'\n",
       "2. 'chr1'\n",
       "3. 'chr10'\n",
       "4. 'chr11'\n",
       "5. 'chr12'\n",
       "6. 'chr13'\n",
       "7. 'chr14'\n",
       "8. 'chr15'\n",
       "9. 'chr16'\n",
       "10. 'chr17'\n",
       "11. 'chr18'\n",
       "12. 'chr19'\n",
       "13. 'chr2'\n",
       "14. 'chr20'\n",
       "15. 'chr21'\n",
       "16. 'chr22'\n",
       "17. 'chr3'\n",
       "18. 'chr4'\n",
       "19. 'chr5'\n",
       "20. 'chr6'\n",
       "21. 'chr7'\n",
       "22. 'chr8'\n",
       "23. 'chr9'\n",
       "24. 'chrX'\n",
       "25. 'chrY'\n",
       "\n",
       "\n"
      ],
      "text/plain": [
       " [1] \"Index\" \"chr1\"  \"chr10\" \"chr11\" \"chr12\" \"chr13\" \"chr14\" \"chr15\" \"chr16\"\n",
       "[10] \"chr17\" \"chr18\" \"chr19\" \"chr2\"  \"chr20\" \"chr21\" \"chr22\" \"chr3\"  \"chr4\" \n",
       "[19] \"chr5\"  \"chr6\"  \"chr7\"  \"chr8\"  \"chr9\"  \"chrX\"  \"chrY\" "
      ]
     },
     "metadata": {},
     "output_type": "display_data"
    }
   ],
   "source": [
    "colnames(dat)"
   ]
  },
  {
   "cell_type": "code",
   "execution_count": null,
   "id": "2b4f84b3-c1cc-4a4a-bae7-0e67c261ba08",
   "metadata": {},
   "outputs": [],
   "source": []
  },
  {
   "cell_type": "code",
   "execution_count": null,
   "id": "3e53e194-e863-4684-88d7-51b011c1106e",
   "metadata": {},
   "outputs": [],
   "source": []
  }
 ],
 "metadata": {
  "kernelspec": {
   "display_name": "R",
   "language": "R",
   "name": "ir"
  },
  "language_info": {
   "codemirror_mode": "r",
   "file_extension": ".r",
   "mimetype": "text/x-r-source",
   "name": "R",
   "pygments_lexer": "r",
   "version": "4.4.0"
  }
 },
 "nbformat": 4,
 "nbformat_minor": 5
}
