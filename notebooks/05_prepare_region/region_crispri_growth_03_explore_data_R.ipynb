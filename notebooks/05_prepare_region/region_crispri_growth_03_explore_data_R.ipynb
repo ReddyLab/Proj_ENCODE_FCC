{
 "cells": [
  {
   "cell_type": "raw",
   "id": "5ccbbe56-f63d-4fab-a32c-80b5a2f5b3d2",
   "metadata": {},
   "source": [
    "---\n",
    "title: Prepare CRISPRi Growth data 03\n",
    "subtitle: Explore and visualize the data\n",
    "format:\n",
    "    html:\n",
    "        code-fold:  true\n",
    "        code-tools: true\n",
    "---"
   ]
  },
  {
   "cell_type": "markdown",
   "id": "43575a76-eff6-4c77-a206-ce0b0423c860",
   "metadata": {},
   "source": [
    "**Set environment**"
   ]
  },
  {
   "cell_type": "code",
   "execution_count": 1,
   "id": "37719c07-559e-4b99-8356-1284f05def1a",
   "metadata": {
    "tags": []
   },
   "outputs": [
    {
     "name": "stdout",
     "output_type": "stream",
     "text": [
      "You are working on        Singularity: singularity_proj_encode_fcc \n",
      "BASE DIRECTORY (FD_BASE): /data/reddylab/Kuei \n",
      "REPO DIRECTORY (FD_REPO): /data/reddylab/Kuei/repo \n",
      "WORK DIRECTORY (FD_WORK): /data/reddylab/Kuei/work \n",
      "DATA DIRECTORY (FD_DATA): /data/reddylab/Kuei/data \n",
      "\n",
      "You are working with      ENCODE FCC \n",
      "PATH OF PROJECT (FD_PRJ): /data/reddylab/Kuei/repo/Proj_ENCODE_FCC \n",
      "PROJECT RESULTS (FD_RES): /data/reddylab/Kuei/repo/Proj_ENCODE_FCC/results \n",
      "PROJECT SCRIPTS (FD_EXE): /data/reddylab/Kuei/repo/Proj_ENCODE_FCC/scripts \n",
      "PROJECT DATA    (FD_DAT): /data/reddylab/Kuei/repo/Proj_ENCODE_FCC/data \n",
      "PROJECT NOTE    (FD_NBK): /data/reddylab/Kuei/repo/Proj_ENCODE_FCC/notebooks \n",
      "PROJECT DOCS    (FD_DOC): /data/reddylab/Kuei/repo/Proj_ENCODE_FCC/docs \n",
      "PROJECT LOG     (FD_LOG): /data/reddylab/Kuei/repo/Proj_ENCODE_FCC/log \n",
      "PROJECT REF     (FD_REF): /data/reddylab/Kuei/repo/Proj_ENCODE_FCC/references \n",
      "\n"
     ]
    }
   ],
   "source": [
    "suppressMessages(suppressWarnings(source(\"../run_config_project_sing.R\")))\n",
    "show_env()"
   ]
  },
  {
   "cell_type": "markdown",
   "id": "1f2cd441-6671-4e2c-a819-87edffb73943",
   "metadata": {},
   "source": [
    "**Set global variables**"
   ]
  },
  {
   "cell_type": "code",
   "execution_count": 2,
   "id": "20f6209b-45a8-4124-8028-a49a5ddc3c5e",
   "metadata": {},
   "outputs": [],
   "source": [
    "TXT_FOLDER_REGION = \"fcc_crispri_growth\""
   ]
  },
  {
   "cell_type": "markdown",
   "id": "f581161b-e428-4992-8e00-1042a6652c11",
   "metadata": {},
   "source": [
    "## Import data"
   ]
  },
  {
   "cell_type": "code",
   "execution_count": 3,
   "id": "242eeef3-432a-447c-9797-18ebd80d2f4a",
   "metadata": {},
   "outputs": [
    {
     "name": "stdout",
     "output_type": "stream",
     "text": [
      "K562.hg38.CRISPRi_Growth.signif.bed.gz \n",
      "K562.hg38.CRISPRi_Growth.total.bed.gz \n",
      "summary \n"
     ]
    }
   ],
   "source": [
    "txt_folder = TXT_FOLDER_REGION\n",
    "txt_fdiry  = file.path(FD_RES, \"region\", txt_folder)\n",
    "vec = dir(txt_fdiry)\n",
    "for (txt in vec){cat(txt, \"\\n\")}"
   ]
  },
  {
   "cell_type": "code",
   "execution_count": 4,
   "id": "aaded5ae-9857-40f9-80e0-6e4627bf3e5d",
   "metadata": {},
   "outputs": [
    {
     "name": "stdout",
     "output_type": "stream",
     "text": [
      "description.tsv \n",
      "K562.hg38.CRISPRi_Growth.signif.tsv \n",
      "K562.hg38.CRISPRi_Growth.total.tsv \n",
      "metadata.label.tsv \n"
     ]
    }
   ],
   "source": [
    "txt_folder = TXT_FOLDER_REGION\n",
    "txt_fdiry  = file.path(FD_RES, \"region\", txt_folder, \"summary\")\n",
    "vec = dir(txt_fdiry)\n",
    "for (txt in vec){cat(txt, \"\\n\")}"
   ]
  },
  {
   "cell_type": "markdown",
   "id": "c0bd42e9-dfc9-4d46-b9c3-fde067532216",
   "metadata": {},
   "source": [
    "**Read column names**"
   ]
  },
  {
   "cell_type": "code",
   "execution_count": 5,
   "id": "f05f253e-0bc2-4634-938b-6be60026520e",
   "metadata": {},
   "outputs": [
    {
     "data": {
      "text/html": [
       "<table>\n",
       " <thead>\n",
       "  <tr>\n",
       "   <th style=\"text-align:left;\"> Name </th>\n",
       "   <th style=\"text-align:left;\"> Note </th>\n",
       "  </tr>\n",
       " </thead>\n",
       "<tbody>\n",
       "  <tr>\n",
       "   <td style=\"text-align:left;\"> Chrom </td>\n",
       "   <td style=\"text-align:left;\"> Name of the chromosome </td>\n",
       "  </tr>\n",
       "  <tr>\n",
       "   <td style=\"text-align:left;\"> ChromStart </td>\n",
       "   <td style=\"text-align:left;\"> The starting position of the feature in the chromosome </td>\n",
       "  </tr>\n",
       "  <tr>\n",
       "   <td style=\"text-align:left;\"> ChromEnd </td>\n",
       "   <td style=\"text-align:left;\"> The ending position of the feature in the chromosome </td>\n",
       "  </tr>\n",
       "  <tr>\n",
       "   <td style=\"text-align:left;\"> Region </td>\n",
       "   <td style=\"text-align:left;\"> Region location </td>\n",
       "  </tr>\n",
       "  <tr>\n",
       "   <td style=\"text-align:left;\"> Guide_ID </td>\n",
       "   <td style=\"text-align:left;\"> ID of significant guide within the DHS </td>\n",
       "  </tr>\n",
       "  <tr>\n",
       "   <td style=\"text-align:left;\"> Log2FC </td>\n",
       "   <td style=\"text-align:left;\"> log2foldchange of the guide </td>\n",
       "  </tr>\n",
       "  <tr>\n",
       "   <td style=\"text-align:left;\"> Padj </td>\n",
       "   <td style=\"text-align:left;\"> Adjusted p value of the guide </td>\n",
       "  </tr>\n",
       "  <tr>\n",
       "   <td style=\"text-align:left;\"> Group </td>\n",
       "   <td style=\"text-align:left;\"> Assay Name </td>\n",
       "  </tr>\n",
       "  <tr>\n",
       "   <td style=\"text-align:left;\"> Label </td>\n",
       "   <td style=\"text-align:left;\"> Assay Name </td>\n",
       "  </tr>\n",
       "</tbody>\n",
       "</table>"
      ]
     },
     "metadata": {},
     "output_type": "display_data"
    }
   ],
   "source": [
    "### set file path\n",
    "txt_folder = TXT_FOLDER_REGION\n",
    "txt_fdiry  = file.path(FD_RES, \"region\", txt_folder, \"summary\")\n",
    "txt_fname = \"description.tsv\"\n",
    "txt_fpath = file.path(txt_fdiry, txt_fname)\n",
    "\n",
    "### read table\n",
    "dat = read_tsv(txt_fpath, show_col_types = FALSE)\n",
    "\n",
    "### assign and show\n",
    "dat_cname     = dat\n",
    "vec_txt_cname = dat$Name\n",
    "fun_display_table(dat)"
   ]
  },
  {
   "cell_type": "markdown",
   "id": "7d52b8e5-95a2-4510-8f2d-ee63cd3ee2ad",
   "metadata": {},
   "source": [
    "**Read tables**"
   ]
  },
  {
   "cell_type": "code",
   "execution_count": 6,
   "id": "0793b705-df67-43c6-84ee-f45f0e4b447d",
   "metadata": {},
   "outputs": [
    {
     "name": "stdout",
     "output_type": "stream",
     "text": [
      "[1] 6242    9\n"
     ]
    },
    {
     "data": {
      "text/html": [
       "<table>\n",
       " <thead>\n",
       "  <tr>\n",
       "   <th style=\"text-align:left;\"> Chrom </th>\n",
       "   <th style=\"text-align:right;\"> ChromStart </th>\n",
       "   <th style=\"text-align:right;\"> ChromEnd </th>\n",
       "   <th style=\"text-align:left;\"> Region </th>\n",
       "   <th style=\"text-align:left;\"> Guide_ID </th>\n",
       "   <th style=\"text-align:right;\"> Log2FC </th>\n",
       "   <th style=\"text-align:right;\"> Padj </th>\n",
       "   <th style=\"text-align:left;\"> Group </th>\n",
       "   <th style=\"text-align:left;\"> Label </th>\n",
       "  </tr>\n",
       " </thead>\n",
       "<tbody>\n",
       "  <tr>\n",
       "   <td style=\"text-align:left;\"> chr1 </td>\n",
       "   <td style=\"text-align:right;\"> 605550 </td>\n",
       "   <td style=\"text-align:right;\"> 605627 </td>\n",
       "   <td style=\"text-align:left;\"> chr1:605550-605627 </td>\n",
       "   <td style=\"text-align:left;\"> chr1.1.1 </td>\n",
       "   <td style=\"text-align:right;\"> -0.9859338 </td>\n",
       "   <td style=\"text-align:right;\"> 0.0000000 </td>\n",
       "   <td style=\"text-align:left;\"> CRISPRi-Growth </td>\n",
       "   <td style=\"text-align:left;\"> Signif </td>\n",
       "  </tr>\n",
       "  <tr>\n",
       "   <td style=\"text-align:left;\"> chr1 </td>\n",
       "   <td style=\"text-align:right;\"> 826642 </td>\n",
       "   <td style=\"text-align:right;\"> 827902 </td>\n",
       "   <td style=\"text-align:left;\"> chr1:826642-827902 </td>\n",
       "   <td style=\"text-align:left;\"> chr1.4.8 </td>\n",
       "   <td style=\"text-align:right;\"> 0.1855074 </td>\n",
       "   <td style=\"text-align:right;\"> 0.0325051 </td>\n",
       "   <td style=\"text-align:left;\"> CRISPRi-Growth </td>\n",
       "   <td style=\"text-align:left;\"> Signif </td>\n",
       "  </tr>\n",
       "  <tr>\n",
       "   <td style=\"text-align:left;\"> chr1 </td>\n",
       "   <td style=\"text-align:right;\"> 964946 </td>\n",
       "   <td style=\"text-align:right;\"> 965136 </td>\n",
       "   <td style=\"text-align:left;\"> chr1:964946-965136 </td>\n",
       "   <td style=\"text-align:left;\"> chr1.41.7 </td>\n",
       "   <td style=\"text-align:right;\"> -1.1466792 </td>\n",
       "   <td style=\"text-align:right;\"> 0.0000000 </td>\n",
       "   <td style=\"text-align:left;\"> CRISPRi-Growth </td>\n",
       "   <td style=\"text-align:left;\"> Signif </td>\n",
       "  </tr>\n",
       "</tbody>\n",
       "</table>"
      ]
     },
     "metadata": {},
     "output_type": "display_data"
    }
   ],
   "source": [
    "### set directory\n",
    "txt_folder = TXT_FOLDER_REGION\n",
    "txt_fdiry  = file.path(FD_RES, \"region\", txt_folder)\n",
    "txt_fname  = \"K562.hg38.CRISPRi_Growth.signif.bed.gz\"\n",
    "txt_fpath  = file.path(txt_fdiry, txt_fname)\n",
    "\n",
    "### read table\n",
    "dat = read_tsv(txt_fpath, col_names = vec_txt_cname, show_col_types = FALSE)\n",
    "\n",
    "### assign and show\n",
    "dat_region_cgrowth_signif = dat\n",
    "print(dim(dat))\n",
    "fun_display_table(head(dat, 3))"
   ]
  },
  {
   "cell_type": "code",
   "execution_count": 7,
   "id": "75057f15-e494-487f-bb29-56429a833b57",
   "metadata": {},
   "outputs": [
    {
     "name": "stdout",
     "output_type": "stream",
     "text": [
      "[1] 1092166       9\n"
     ]
    },
    {
     "data": {
      "text/html": [
       "<table>\n",
       " <thead>\n",
       "  <tr>\n",
       "   <th style=\"text-align:left;\"> Chrom </th>\n",
       "   <th style=\"text-align:right;\"> ChromStart </th>\n",
       "   <th style=\"text-align:right;\"> ChromEnd </th>\n",
       "   <th style=\"text-align:left;\"> Region </th>\n",
       "   <th style=\"text-align:left;\"> Guide_ID </th>\n",
       "   <th style=\"text-align:right;\"> Log2FC </th>\n",
       "   <th style=\"text-align:right;\"> Padj </th>\n",
       "   <th style=\"text-align:left;\"> Group </th>\n",
       "   <th style=\"text-align:left;\"> Label </th>\n",
       "  </tr>\n",
       " </thead>\n",
       "<tbody>\n",
       "  <tr>\n",
       "   <td style=\"text-align:left;\"> chr1 </td>\n",
       "   <td style=\"text-align:right;\"> 605550 </td>\n",
       "   <td style=\"text-align:right;\"> 605627 </td>\n",
       "   <td style=\"text-align:left;\"> chr1:605550-605627 </td>\n",
       "   <td style=\"text-align:left;\"> chr1.1.1 </td>\n",
       "   <td style=\"text-align:right;\"> -0.9859338 </td>\n",
       "   <td style=\"text-align:right;\"> 0.0000000 </td>\n",
       "   <td style=\"text-align:left;\"> CRISPRi-Growth </td>\n",
       "   <td style=\"text-align:left;\"> Total </td>\n",
       "  </tr>\n",
       "  <tr>\n",
       "   <td style=\"text-align:left;\"> chr1 </td>\n",
       "   <td style=\"text-align:right;\"> 605550 </td>\n",
       "   <td style=\"text-align:right;\"> 605627 </td>\n",
       "   <td style=\"text-align:left;\"> chr1:605550-605627 </td>\n",
       "   <td style=\"text-align:left;\"> chr1.1.2 </td>\n",
       "   <td style=\"text-align:right;\"> 0.0175568 </td>\n",
       "   <td style=\"text-align:right;\"> 0.8618381 </td>\n",
       "   <td style=\"text-align:left;\"> CRISPRi-Growth </td>\n",
       "   <td style=\"text-align:left;\"> Total </td>\n",
       "  </tr>\n",
       "  <tr>\n",
       "   <td style=\"text-align:left;\"> chr1 </td>\n",
       "   <td style=\"text-align:right;\"> 605550 </td>\n",
       "   <td style=\"text-align:right;\"> 605627 </td>\n",
       "   <td style=\"text-align:left;\"> chr1:605550-605627 </td>\n",
       "   <td style=\"text-align:left;\"> chr1.1.3 </td>\n",
       "   <td style=\"text-align:right;\"> 0.0142221 </td>\n",
       "   <td style=\"text-align:right;\"> 0.9074943 </td>\n",
       "   <td style=\"text-align:left;\"> CRISPRi-Growth </td>\n",
       "   <td style=\"text-align:left;\"> Total </td>\n",
       "  </tr>\n",
       "</tbody>\n",
       "</table>"
      ]
     },
     "metadata": {},
     "output_type": "display_data"
    }
   ],
   "source": [
    "### set directory\n",
    "txt_folder = TXT_FOLDER_REGION\n",
    "txt_fdiry  = file.path(FD_RES, \"region\", txt_folder)\n",
    "txt_fname  = \"K562.hg38.CRISPRi_Growth.total.bed.gz\"\n",
    "txt_fpath  = file.path(txt_fdiry, txt_fname)\n",
    "\n",
    "### read table\n",
    "dat = read_tsv(txt_fpath, col_names = vec_txt_cname, show_col_types = FALSE)\n",
    "\n",
    "### assign and show\n",
    "dat_region_cgrowth_total = dat\n",
    "print(dim(dat))\n",
    "fun_display_table(head(dat, 3))"
   ]
  },
  {
   "cell_type": "markdown",
   "id": "aebea9d8-0a53-4868-afa7-52c574eae54a",
   "metadata": {},
   "source": [
    "## Explore data"
   ]
  },
  {
   "cell_type": "markdown",
   "id": "1906c4bb-5be2-4869-a49f-ef907b68dfd0",
   "metadata": {},
   "source": [
    "### Number of guides and regions"
   ]
  },
  {
   "cell_type": "code",
   "execution_count": 8,
   "id": "79c10032-4c30-467b-9534-559c4fa1f963",
   "metadata": {},
   "outputs": [
    {
     "name": "stdout",
     "output_type": "stream",
     "text": [
      "#Guide  (Total):      1092166 \n",
      "#Region (Total):      111702 \n",
      "#Guide  (padj<=0.05): 8200 \n",
      "#Region (padj<=0.05): 6242 \n",
      "\n",
      "#Guide  (Signif): 6242 \n",
      "#Region (Signif): 6242 \n"
     ]
    }
   ],
   "source": [
    "### show information\n",
    "dat = dat_region_cgrowth_total\n",
    "tmp = dat %>% dplyr::filter(Padj <= 0.05)\n",
    "\n",
    "cat(\"#Guide  (Total):     \", length(dat$Region),         \"\\n\")\n",
    "cat(\"#Region (Total):     \", length(unique(dat$Region)), \"\\n\")\n",
    "cat(\"#Guide  (padj<=0.05):\", length(tmp$Region),         \"\\n\")\n",
    "cat(\"#Region (padj<=0.05):\", length(unique(tmp$Region)), \"\\n\")\n",
    "cat(\"\\n\")\n",
    "\n",
    "### show information\n",
    "dat = dat_region_cgrowth_signif \n",
    "\n",
    "cat(\"#Guide  (Signif):\", length(dat$Region),         \"\\n\")\n",
    "cat(\"#Region (Signif):\", length(unique(dat$Region)), \"\\n\")"
   ]
  },
  {
   "cell_type": "code",
   "execution_count": 9,
   "id": "10469c03-d99e-4913-8740-fdd16ac9ae2c",
   "metadata": {},
   "outputs": [
    {
     "name": "stdout",
     "output_type": "stream",
     "text": [
      "[1] 6244\n"
     ]
    }
   ],
   "source": [
    "### double check\n",
    "dat = dat_region_cgrowth_total\n",
    "tmp = dat %>% \n",
    "    dplyr::filter(Padj <= 0.05) %>% \n",
    "    dplyr::group_by(Region) %>% \n",
    "    dplyr::slice_max(abs(Log2FC)) %>%\n",
    "    dplyr::slice_min(Padj) %>%\n",
    "    dplyr::ungroup()\n",
    "\n",
    "### note: slice would keep the ties\n",
    "print(nrow(tmp))"
   ]
  },
  {
   "cell_type": "markdown",
   "id": "55dd2042-0ab5-432a-ab97-b9de8f47513d",
   "metadata": {},
   "source": [
    "### Distribution of log2 fold changes"
   ]
  },
  {
   "cell_type": "code",
   "execution_count": 10,
   "id": "1c035e80-bb72-4f3b-9b27-3a19082fbfb3",
   "metadata": {},
   "outputs": [],
   "source": [
    "### arrange effect size of total regions\n",
    "dat = dat_region_cgrowth_total\n",
    "dat = dat %>% dplyr::select(Region, Guide_ID, Log2FC)\n",
    "dat = dat %>% dplyr::mutate(Label = \"Total\")\n",
    "dat_region_arrange_total = dat\n",
    "\n",
    "### get significant regions\n",
    "### defined as regions w/ at least one significant guide\n",
    "tmp = dat_region_cgrowth_signif \n",
    "vec = tmp$Region\n",
    "\n",
    "### arrange effect size of significant regions\n",
    "dat = dat_region_arrange_total\n",
    "dat = dat %>% dplyr::filter(Region %in% vec)\n",
    "dat = dat %>% dplyr::mutate(Label = \"Significant\")\n",
    "dat_region_arrange_signf = dat"
   ]
  },
  {
   "cell_type": "markdown",
   "id": "7f8947bf-7e88-4d99-8aad-b2566dc2a94a",
   "metadata": {},
   "source": [
    "**Plot the whole distribution of guides**"
   ]
  },
  {
   "cell_type": "code",
   "execution_count": 11,
   "id": "4b5342e6-3813-4adf-b7e9-5025487bef17",
   "metadata": {},
   "outputs": [
    {
     "name": "stderr",
     "output_type": "stream",
     "text": [
      "Warning message:\n",
      "“\u001b[1m\u001b[22mRemoved 27061 rows containing non-finite outside the scale range\n",
      "(`stat_ydensity()`).”\n"
     ]
    },
    {
     "data": {
      "image/png": "[encoded data removed]",
      "text/plain": [
       "plot without title"
      ]
     },
     "metadata": {
      "image/png": {
       "height": 300,
       "width": 420
      }
     },
     "output_type": "display_data"
    }
   ],
   "source": [
    "### combine tables\n",
    "dat = bind_rows(\n",
    "    dat_region_arrange_total,\n",
    "    dat_region_arrange_signf\n",
    ")\n",
    "\n",
    "### plot distribution\n",
    "gpt = ggplot(dat, aes(x=Log2FC, y = Label)) + \n",
    "    geom_violin() +\n",
    "    theme_cowplot() +\n",
    "    background_grid() +\n",
    "    xlim(-0.1, 0.1)\n",
    "\n",
    "options(repr.plot.height=5, repr.plot.width=7)\n",
    "print(gpt)"
   ]
  },
  {
   "cell_type": "markdown",
   "id": "fa80fda4-bfeb-423b-940f-461210e700fc",
   "metadata": {},
   "source": [
    "**Plot the mean(log2fc) of regions**"
   ]
  },
  {
   "cell_type": "code",
   "execution_count": 12,
   "id": "00f25b49-ca1a-42e0-81a2-9fba714a093f",
   "metadata": {},
   "outputs": [
    {
     "name": "stderr",
     "output_type": "stream",
     "text": [
      "Warning message:\n",
      "“\u001b[1m\u001b[22mRemoved 402 rows containing non-finite outside the scale range\n",
      "(`stat_ydensity()`).”\n"
     ]
    },
    {
     "data": {
      "image/png": "[encoded data removed]",
      "text/plain": [
       "plot without title"
      ]
     },
     "metadata": {
      "image/png": {
       "height": 300,
       "width": 420
      }
     },
     "output_type": "display_data"
    }
   ],
   "source": [
    "### combine tables\n",
    "dat = bind_rows(\n",
    "    dat_region_arrange_total,\n",
    "    dat_region_arrange_signf\n",
    ")\n",
    "\n",
    "### take average of log2fc by regions\n",
    "dat = dat %>% \n",
    "    dplyr::group_by(Region, Label) %>% \n",
    "    dplyr::summarise(Log2FC = mean(Log2FC), .groups = \"drop\")\n",
    "\n",
    "### plot distribution\n",
    "gpt = ggplot(dat, aes(x=Log2FC, y=Label)) + \n",
    "    geom_violin() +\n",
    "    theme_cowplot() +\n",
    "    background_grid() +\n",
    "    xlim(-0.5, 0.3)\n",
    "\n",
    "options(repr.plot.height=5, repr.plot.width=7)\n",
    "print(gpt)"
   ]
  },
  {
   "cell_type": "markdown",
   "id": "0d9dab2b-c6ed-4ae0-82b6-2767031f4a69",
   "metadata": {},
   "source": [
    "## Save figures"
   ]
  },
  {
   "cell_type": "code",
   "execution_count": 13,
   "id": "611cff92-dc89-41be-b82c-67f73c354eba",
   "metadata": {},
   "outputs": [],
   "source": [
    "### set text size\n",
    "theme_text = theme(\n",
    "    title      = element_text(size = 16),\n",
    "    axis.title = element_text(size = 16),\n",
    "    axis.text  = element_text(size = 14)\n",
    ")"
   ]
  },
  {
   "cell_type": "code",
   "execution_count": 14,
   "id": "70c42b96-56ab-49d8-a554-93b72499ac47",
   "metadata": {},
   "outputs": [
    {
     "name": "stderr",
     "output_type": "stream",
     "text": [
      "Warning message:\n",
      "“\u001b[1m\u001b[22mRemoved 201 rows containing non-finite outside the scale range (`stat_density()`).”\n",
      "Warning message:\n",
      "“\u001b[1m\u001b[22mRemoved 201 rows containing non-finite outside the scale range (`stat_density()`).”\n"
     ]
    },
    {
     "data": {
      "image/png": "[encoded data removed]",
      "text/plain": [
       "plot without title"
      ]
     },
     "metadata": {
      "image/png": {
       "height": 360,
       "width": 420
      }
     },
     "output_type": "display_data"
    }
   ],
   "source": [
    "### combine tables\n",
    "dat = bind_rows(\n",
    "    dat_region_arrange_total,\n",
    "    dat_region_arrange_signf\n",
    ")\n",
    "\n",
    "### take average of log2fc by regions\n",
    "dat = dat %>% \n",
    "    dplyr::group_by(Region, Label) %>% \n",
    "    dplyr::summarise(Log2FC = mean(Log2FC), .groups = \"drop\")\n",
    "\n",
    "### split and define plot titles\n",
    "lst = split(dat, dat$Label)\n",
    "lst = list(\n",
    "    \"DHS (Total)\" = lst[[\"Total\"]],\n",
    "    \"DHS (w/ at least one significant guides)\" = lst[[\"Significant\"]]\n",
    ")\n",
    "\n",
    "### plot distribution by loop\n",
    "lst = lapply(names(lst), function(idx){\n",
    "    ### init: data\n",
    "    dat = lst[[idx]]\n",
    "\n",
    "    ### text annotation\n",
    "    txt_title = idx\n",
    "    txt_annot = paste(\"N =\", scales::comma(nrow(dat)))\n",
    "    \n",
    "    ### plot distribution\n",
    "    gpt = ggplot(dat, aes(x=Log2FC)) + \n",
    "        geom_density(linewidth = 1.2) +\n",
    "        theme_cowplot() +\n",
    "        background_grid() +\n",
    "        labs(x = \"Log2 Fold Change\", y = \"Density\", title = txt_title) +\n",
    "        annotate(\n",
    "            \"text\", \n",
    "            x = -0.4, \n",
    "            y = Inf,\n",
    "            size  = 5,\n",
    "            vjust = 3.0,\n",
    "            label = txt_annot)\n",
    "    return(gpt)\n",
    "})\n",
    "\n",
    "### Further modification of plots\n",
    "lst = lapply(lst, function(gpt){\n",
    "    gpt = gpt + \n",
    "        xlim(-0.5, 0.3) +\n",
    "        theme_text\n",
    "    return(gpt)\n",
    "})\n",
    "lst[[1]] = lst[[1]] + labs(x = \"\")\n",
    "\n",
    "### create and assign plot\n",
    "plt = plot_grid(plotlist = lst, ncol = 1, align = \"v\")\n",
    "plt_export = plt\n",
    "\n",
    "### show plot\n",
    "options(repr.plot.height=6, repr.plot.width=7)\n",
    "print(plt)"
   ]
  },
  {
   "cell_type": "code",
   "execution_count": 15,
   "id": "debfecb0-9486-414e-ab08-0e1e9d18caf3",
   "metadata": {},
   "outputs": [],
   "source": [
    "txt_fdiry = \"./\"\n",
    "txt_fname = \"fig.region.fcc_crispri_growth.distribution.log2fc.png\"\n",
    "txt_fpath = file.path(txt_fdiry, txt_fname)\n",
    "ggsave(txt_fpath, plt_export, height = 6, width = 7, units = \"in\")\n",
    "\n",
    "txt_fdiry = \"./\"\n",
    "txt_fname = \"fig.region.fcc_crispri_growth.distribution.log2fc.svg\"\n",
    "txt_fpath = file.path(txt_fdiry, txt_fname)\n",
    "ggsave(txt_fpath, plt_export, height = 6, width = 7, units = \"in\")"
   ]
  },
  {
   "cell_type": "code",
   "execution_count": null,
   "id": "ea46e0a5-0e3d-48bb-b8ff-af5bfcda20f3",
   "metadata": {},
   "outputs": [],
   "source": []
  }
 ],
 "metadata": {
  "kernelspec": {
   "display_name": "R",
   "language": "R",
   "name": "ir"
  },
  "language_info": {
   "codemirror_mode": "r",
   "file_extension": ".r",
   "mimetype": "text/x-r-source",
   "name": "R",
   "pygments_lexer": "r",
   "version": "4.4.2"
  }
 },
 "nbformat": 4,
 "nbformat_minor": 5
}
