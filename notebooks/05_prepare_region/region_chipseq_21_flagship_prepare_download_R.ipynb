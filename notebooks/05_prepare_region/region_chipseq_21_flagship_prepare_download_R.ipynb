{
 "cells": [
  {
   "cell_type": "raw",
   "id": "3e3d0f0c-6cdd-4e06-b6a4-bc266367c270",
   "metadata": {},
   "source": [
    "---\n",
    "title: Prepare ENCODE ChIP-seq 21 (Flagship)\n",
    "subtitle: Generate download script to download the data\n",
    "format:\n",
    "    html:\n",
    "        code-fold:  true\n",
    "        code-tools: true\n",
    "---"
   ]
  },
  {
   "cell_type": "markdown",
   "id": "11b538d0-0a2e-4123-b6b9-b72a6eebec11",
   "metadata": {},
   "source": [
    "**Set environment**"
   ]
  },
  {
   "cell_type": "code",
   "execution_count": 1,
   "id": "7ef560f7-ba6c-4935-92d0-2ee1b447c010",
   "metadata": {},
   "outputs": [
    {
     "name": "stdout",
     "output_type": "stream",
     "text": [
      "You are working on        Singularity \n",
      "BASE DIRECTORY (FD_BASE): /mount \n",
      "REPO DIRECTORY (FD_REPO): /mount/repo \n",
      "WORK DIRECTORY (FD_WORK): /mount/work \n",
      "DATA DIRECTORY (FD_DATA): /mount/data \n",
      "\n",
      "You are working with      ENCODE FCC \n",
      "PATH OF PROJECT (FD_PRJ): /mount/repo/Proj_ENCODE_FCC \n",
      "PROJECT RESULTS (FD_RES): /mount/repo/Proj_ENCODE_FCC/results \n",
      "PROJECT SCRIPTS (FD_EXE): /mount/repo/Proj_ENCODE_FCC/scripts \n",
      "PROJECT DATA    (FD_DAT): /mount/repo/Proj_ENCODE_FCC/data \n",
      "PROJECT NOTE    (FD_NBK): /mount/repo/Proj_ENCODE_FCC/notebooks \n",
      "PROJECT DOCS    (FD_DOC): /mount/repo/Proj_ENCODE_FCC/docs \n",
      "PROJECT LOG     (FD_LOG): /mount/repo/Proj_ENCODE_FCC/log \n",
      "PROJECT APP     (FD_APP): /mount/repo/Proj_ENCODE_FCC/app \n",
      "PROJECT REF     (FD_REF): /mount/repo/Proj_ENCODE_FCC/references \n",
      "\n"
     ]
    }
   ],
   "source": [
    "suppressMessages(suppressWarnings(source(\"../run_config_project_sing.R\")))\n",
    "show_env()"
   ]
  },
  {
   "cell_type": "markdown",
   "id": "7526c1be-663a-4ffa-81d7-967369821693",
   "metadata": {},
   "source": [
    "## Prepare"
   ]
  },
  {
   "cell_type": "code",
   "execution_count": 2,
   "id": "7a96e0fe-0931-477d-bdb9-84cb6b376649",
   "metadata": {},
   "outputs": [
    {
     "name": "stdout",
     "output_type": "stream",
     "text": [
      "ENCODE4 TF Accessions for Flagship_updated221025.tsv \n"
     ]
    }
   ],
   "source": [
    "txt_fdiry = file.path(FD_REF, \"encode_chipseq_flagship\")\n",
    "vec = dir(txt_fdiry)\n",
    "for (txt in vec){cat(txt, \"\\n\")}"
   ]
  },
  {
   "cell_type": "code",
   "execution_count": 3,
   "id": "c8db891a-ed7f-44d9-8be1-1ca990bebd3b",
   "metadata": {},
   "outputs": [
    {
     "name": "stdout",
     "output_type": "stream",
     "text": [
      "files.processed_files.encode2.txt \n",
      "files.processed_files.encode3.txt \n",
      "files.processed_files.encode4.txt \n",
      "metadata.default_files.240705.tsv \n",
      "metadata.default_files.summary.tsv \n",
      "metadata.processed_selected.240705.tsv \n",
      "metadata.processed_selected.summary.tsv \n"
     ]
    }
   ],
   "source": [
    "txt_fdiry = file.path(FD_REF, \"encode_chipseq_latest\")\n",
    "vec = dir(txt_fdiry)\n",
    "for (txt in vec){cat(txt, \"\\n\")}"
   ]
  },
  {
   "cell_type": "markdown",
   "id": "a45f819f-9cec-42eb-9828-1f13c9ca253a",
   "metadata": {},
   "source": [
    "## Import metadata from reference"
   ]
  },
  {
   "cell_type": "markdown",
   "id": "16cb810c-0a89-4be7-bd22-fe8a838b9494",
   "metadata": {},
   "source": [
    "**ENCODE ChIP-seq: Flagship**"
   ]
  },
  {
   "cell_type": "code",
   "execution_count": 4,
   "id": "2d57fe0f-ba86-409d-9dff-c29d85a7e446",
   "metadata": {},
   "outputs": [
    {
     "data": {
      "text/html": [
       "<table>\n",
       " <thead>\n",
       "  <tr>\n",
       "   <th style=\"text-align:left;\"> Experiment Accession </th>\n",
       "   <th style=\"text-align:left;\"> Peak Accession </th>\n",
       "   <th style=\"text-align:left;\"> Biosample </th>\n",
       "   <th style=\"text-align:left;\"> Target </th>\n",
       "   <th style=\"text-align:left;\"> Lab </th>\n",
       "   <th style=\"text-align:left;\"> RFA </th>\n",
       "  </tr>\n",
       " </thead>\n",
       "<tbody>\n",
       "  <tr>\n",
       "   <td style=\"text-align:left;\"> ENCSR753RME </td>\n",
       "   <td style=\"text-align:left;\"> ENCFF917CYG </td>\n",
       "   <td style=\"text-align:left;\"> Homo sapiens testis tissue male adult (37 years) </td>\n",
       "   <td style=\"text-align:left;\"> CTCF </td>\n",
       "   <td style=\"text-align:left;\"> Bradley Bernstein, Broad </td>\n",
       "   <td style=\"text-align:left;\"> ENCODE4 </td>\n",
       "  </tr>\n",
       "  <tr>\n",
       "   <td style=\"text-align:left;\"> ENCSR992XTY </td>\n",
       "   <td style=\"text-align:left;\"> ENCFF112GJQ </td>\n",
       "   <td style=\"text-align:left;\"> Homo sapiens WTC11 </td>\n",
       "   <td style=\"text-align:left;\"> CTCF </td>\n",
       "   <td style=\"text-align:left;\"> Bradley Bernstein, Broad </td>\n",
       "   <td style=\"text-align:left;\"> ENCODE4 </td>\n",
       "  </tr>\n",
       "  <tr>\n",
       "   <td style=\"text-align:left;\"> ENCSR934GQS </td>\n",
       "   <td style=\"text-align:left;\"> ENCFF483KVM </td>\n",
       "   <td style=\"text-align:left;\"> Homo sapiens ovary tissue female adult (41 years) </td>\n",
       "   <td style=\"text-align:left;\"> CTCF </td>\n",
       "   <td style=\"text-align:left;\"> Bradley Bernstein, Broad </td>\n",
       "   <td style=\"text-align:left;\"> ENCODE4 </td>\n",
       "  </tr>\n",
       "</tbody>\n",
       "</table>"
      ]
     },
     "metadata": {},
     "output_type": "display_data"
    }
   ],
   "source": [
    "### set file path\n",
    "txt_fdiry = file.path(FD_REF, \"encode_chipseq_flagship\")\n",
    "txt_fname = \"ENCODE4 TF Accessions for Flagship_updated221025.tsv\"\n",
    "txt_fpath = file.path(txt_fdiry, txt_fname)\n",
    "\n",
    "### read table\n",
    "dat = read_tsv(txt_fpath, show_col_types = FALSE)\n",
    "\n",
    "### show and assign\n",
    "dat_metadata_chipseq_flagship = dat\n",
    "fun_display_table(head(dat, 3))"
   ]
  },
  {
   "cell_type": "markdown",
   "id": "a8f958d4-39c8-42ea-8d73-f853718e3db3",
   "metadata": {},
   "source": [
    "**ENCODE ChIP-seq Full**"
   ]
  },
  {
   "cell_type": "code",
   "execution_count": 5,
   "id": "46ccd7fc-e4b8-4400-8a22-817aa42cfc95",
   "metadata": {},
   "outputs": [
    {
     "name": "stdout",
     "output_type": "stream",
     "text": [
      "[1] 12914    12\n"
     ]
    },
    {
     "data": {
      "text/html": [
       "<table>\n",
       " <thead>\n",
       "  <tr>\n",
       "   <th style=\"text-align:left;\"> Assay </th>\n",
       "   <th style=\"text-align:left;\"> Index_Experiment </th>\n",
       "   <th style=\"text-align:left;\"> Index_File </th>\n",
       "   <th style=\"text-align:left;\"> File_Type </th>\n",
       "   <th style=\"text-align:left;\"> Output_Type </th>\n",
       "   <th style=\"text-align:left;\"> Genome </th>\n",
       "   <th style=\"text-align:left;\"> Target </th>\n",
       "   <th style=\"text-align:left;\"> Analysis </th>\n",
       "   <th style=\"text-align:left;\"> RFA </th>\n",
       "   <th style=\"text-align:left;\"> md5sum </th>\n",
       "   <th style=\"text-align:left;\"> File_Name </th>\n",
       "   <th style=\"text-align:left;\"> File_Url </th>\n",
       "  </tr>\n",
       " </thead>\n",
       "<tbody>\n",
       "  <tr>\n",
       "   <td style=\"text-align:left;\"> TF ChIP-seq </td>\n",
       "   <td style=\"text-align:left;\"> ENCSR228ELU </td>\n",
       "   <td style=\"text-align:left;\"> ENCFF069LRH </td>\n",
       "   <td style=\"text-align:left;\"> bigWig </td>\n",
       "   <td style=\"text-align:left;\"> fold change over control </td>\n",
       "   <td style=\"text-align:left;\"> GRCh38 </td>\n",
       "   <td style=\"text-align:left;\"> TEAD1 </td>\n",
       "   <td style=\"text-align:left;\"> ENCODE4 v1.8.0 GRCh38 </td>\n",
       "   <td style=\"text-align:left;\"> ENCODE4 </td>\n",
       "   <td style=\"text-align:left;\"> c30741767636bacad0a5be17aabe2091 </td>\n",
       "   <td style=\"text-align:left;\"> ENCFF069LRH.bigWig </td>\n",
       "   <td style=\"text-align:left;\"> https://www.encodeproject.org/files/ENCFF069LRH/@@download/ENCFF069LRH.bigWig </td>\n",
       "  </tr>\n",
       "  <tr>\n",
       "   <td style=\"text-align:left;\"> TF ChIP-seq </td>\n",
       "   <td style=\"text-align:left;\"> ENCSR228ELU </td>\n",
       "   <td style=\"text-align:left;\"> ENCFF105HVH </td>\n",
       "   <td style=\"text-align:left;\"> bed narrowPeak </td>\n",
       "   <td style=\"text-align:left;\"> IDR thresholded peaks </td>\n",
       "   <td style=\"text-align:left;\"> GRCh38 </td>\n",
       "   <td style=\"text-align:left;\"> TEAD1 </td>\n",
       "   <td style=\"text-align:left;\"> ENCODE4 v1.8.0 GRCh38 </td>\n",
       "   <td style=\"text-align:left;\"> ENCODE4 </td>\n",
       "   <td style=\"text-align:left;\"> add6b67d6290baeaa2158f6f6de00292 </td>\n",
       "   <td style=\"text-align:left;\"> ENCFF105HVH.bed.gz </td>\n",
       "   <td style=\"text-align:left;\"> https://www.encodeproject.org/files/ENCFF105HVH/@@download/ENCFF105HVH.bed.gz </td>\n",
       "  </tr>\n",
       "  <tr>\n",
       "   <td style=\"text-align:left;\"> TF ChIP-seq </td>\n",
       "   <td style=\"text-align:left;\"> ENCSR228ELU </td>\n",
       "   <td style=\"text-align:left;\"> ENCFF214SNH </td>\n",
       "   <td style=\"text-align:left;\"> bed narrowPeak </td>\n",
       "   <td style=\"text-align:left;\"> IDR thresholded peaks </td>\n",
       "   <td style=\"text-align:left;\"> GRCh38 </td>\n",
       "   <td style=\"text-align:left;\"> TEAD1 </td>\n",
       "   <td style=\"text-align:left;\"> ENCODE4 v1.8.0 GRCh38 </td>\n",
       "   <td style=\"text-align:left;\"> ENCODE4 </td>\n",
       "   <td style=\"text-align:left;\"> a864ccf68ff3ca9e7539f90ef7208260 </td>\n",
       "   <td style=\"text-align:left;\"> ENCFF214SNH.bed.gz </td>\n",
       "   <td style=\"text-align:left;\"> https://www.encodeproject.org/files/ENCFF214SNH/@@download/ENCFF214SNH.bed.gz </td>\n",
       "  </tr>\n",
       "</tbody>\n",
       "</table>"
      ]
     },
     "metadata": {},
     "output_type": "display_data"
    }
   ],
   "source": [
    "### set file path\n",
    "txt_fdiry = file.path(FD_REF, \"encode_chipseq_latest\")\n",
    "txt_fname = \"metadata.processed_selected.summary.tsv\"\n",
    "txt_fpath = file.path(txt_fdiry, txt_fname)\n",
    "\n",
    "### read table\n",
    "dat = read_tsv(txt_fpath, show_col_types = FALSE)\n",
    "\n",
    "### show and assign\n",
    "dat_metadata_chipseq_full = dat\n",
    "print(dim(dat))\n",
    "fun_display_table(head(dat, 3))"
   ]
  },
  {
   "cell_type": "markdown",
   "id": "3464357f-a64c-4707-bf36-1c942195a091",
   "metadata": {},
   "source": [
    "## Filter to get the final metadata table"
   ]
  },
  {
   "cell_type": "markdown",
   "id": "0b019c4b-4a9a-4f0d-ae9f-7af7f73713e6",
   "metadata": {},
   "source": [
    "**K562 Flagship chip-seq**"
   ]
  },
  {
   "cell_type": "code",
   "execution_count": 6,
   "id": "e5588ec5-1da3-4329-8308-af93354e3d9c",
   "metadata": {},
   "outputs": [
    {
     "name": "stdout",
     "output_type": "stream",
     "text": [
      "[1] 735   6\n"
     ]
    },
    {
     "data": {
      "text/html": [
       "<table>\n",
       " <thead>\n",
       "  <tr>\n",
       "   <th style=\"text-align:left;\"> Experiment Accession </th>\n",
       "   <th style=\"text-align:left;\"> Peak Accession </th>\n",
       "   <th style=\"text-align:left;\"> Biosample </th>\n",
       "   <th style=\"text-align:left;\"> Target </th>\n",
       "   <th style=\"text-align:left;\"> Lab </th>\n",
       "   <th style=\"text-align:left;\"> RFA </th>\n",
       "  </tr>\n",
       " </thead>\n",
       "<tbody>\n",
       "  <tr>\n",
       "   <td style=\"text-align:left;\"> ENCSR805SIA </td>\n",
       "   <td style=\"text-align:left;\"> ENCFF500BWO </td>\n",
       "   <td style=\"text-align:left;\"> Homo sapiens K562 genetically modified (insertion) using CRISPR targeting H. sapiens PURB </td>\n",
       "   <td style=\"text-align:left;\"> PURB </td>\n",
       "   <td style=\"text-align:left;\"> Richard Myers, HAIB </td>\n",
       "   <td style=\"text-align:left;\"> ENCODE4 </td>\n",
       "  </tr>\n",
       "  <tr>\n",
       "   <td style=\"text-align:left;\"> ENCSR125RFR </td>\n",
       "   <td style=\"text-align:left;\"> ENCFF863ZFH </td>\n",
       "   <td style=\"text-align:left;\"> Homo sapiens K562 genetically modified (insertion) using CRISPR targeting H. sapiens ATF6 </td>\n",
       "   <td style=\"text-align:left;\"> ATF6 </td>\n",
       "   <td style=\"text-align:left;\"> Richard Myers, HAIB </td>\n",
       "   <td style=\"text-align:left;\"> ENCODE4 </td>\n",
       "  </tr>\n",
       "  <tr>\n",
       "   <td style=\"text-align:left;\"> ENCSR841GLE </td>\n",
       "   <td style=\"text-align:left;\"> ENCFF515LWL </td>\n",
       "   <td style=\"text-align:left;\"> Homo sapiens K562 genetically modified (insertion) using CRISPR targeting H. sapiens ZNF217 </td>\n",
       "   <td style=\"text-align:left;\"> ZNF217 </td>\n",
       "   <td style=\"text-align:left;\"> Richard Myers, HAIB </td>\n",
       "   <td style=\"text-align:left;\"> ENCODE4 </td>\n",
       "  </tr>\n",
       "</tbody>\n",
       "</table>"
      ]
     },
     "metadata": {},
     "output_type": "display_data"
    }
   ],
   "source": [
    "### init\n",
    "txt_biosample = \"K562|k562\"\n",
    "\n",
    "### filter\n",
    "dat = dat_metadata_chipseq_flagship\n",
    "dat = dat %>% dplyr::filter(str_detect(Biosample, txt_biosample))\n",
    "    \n",
    "### assign and show\n",
    "dat_metadata_chipseq_flagship_k562 = dat\n",
    "print(dim(dat))\n",
    "fun_display_table(head(dat, 3))"
   ]
  },
  {
   "cell_type": "code",
   "execution_count": 7,
   "id": "02992be3-0add-4f12-aaf6-b5f087ef77ee",
   "metadata": {},
   "outputs": [
    {
     "name": "stdout",
     "output_type": "stream",
     "text": [
      "[1] 733  12\n"
     ]
    },
    {
     "data": {
      "text/html": [
       "<table>\n",
       " <thead>\n",
       "  <tr>\n",
       "   <th style=\"text-align:left;\"> Assay </th>\n",
       "   <th style=\"text-align:left;\"> Index_Experiment </th>\n",
       "   <th style=\"text-align:left;\"> Index_File </th>\n",
       "   <th style=\"text-align:left;\"> File_Type </th>\n",
       "   <th style=\"text-align:left;\"> Output_Type </th>\n",
       "   <th style=\"text-align:left;\"> Genome </th>\n",
       "   <th style=\"text-align:left;\"> Target </th>\n",
       "   <th style=\"text-align:left;\"> Analysis </th>\n",
       "   <th style=\"text-align:left;\"> RFA </th>\n",
       "   <th style=\"text-align:left;\"> md5sum </th>\n",
       "   <th style=\"text-align:left;\"> File_Name </th>\n",
       "   <th style=\"text-align:left;\"> File_Url </th>\n",
       "  </tr>\n",
       " </thead>\n",
       "<tbody>\n",
       "  <tr>\n",
       "   <td style=\"text-align:left;\"> TF ChIP-seq </td>\n",
       "   <td style=\"text-align:left;\"> ENCSR228ELU </td>\n",
       "   <td style=\"text-align:left;\"> ENCFF214SNH </td>\n",
       "   <td style=\"text-align:left;\"> bed narrowPeak </td>\n",
       "   <td style=\"text-align:left;\"> IDR thresholded peaks </td>\n",
       "   <td style=\"text-align:left;\"> GRCh38 </td>\n",
       "   <td style=\"text-align:left;\"> TEAD1 </td>\n",
       "   <td style=\"text-align:left;\"> ENCODE4 v1.8.0 GRCh38 </td>\n",
       "   <td style=\"text-align:left;\"> ENCODE4 </td>\n",
       "   <td style=\"text-align:left;\"> a864ccf68ff3ca9e7539f90ef7208260 </td>\n",
       "   <td style=\"text-align:left;\"> ENCFF214SNH.bed.gz </td>\n",
       "   <td style=\"text-align:left;\"> https://www.encodeproject.org/files/ENCFF214SNH/@@download/ENCFF214SNH.bed.gz </td>\n",
       "  </tr>\n",
       "  <tr>\n",
       "   <td style=\"text-align:left;\"> TF ChIP-seq </td>\n",
       "   <td style=\"text-align:left;\"> ENCSR000DKA </td>\n",
       "   <td style=\"text-align:left;\"> ENCFF165ZEP </td>\n",
       "   <td style=\"text-align:left;\"> bed narrowPeak </td>\n",
       "   <td style=\"text-align:left;\"> IDR thresholded peaks </td>\n",
       "   <td style=\"text-align:left;\"> GRCh38 </td>\n",
       "   <td style=\"text-align:left;\"> GATA2 </td>\n",
       "   <td style=\"text-align:left;\"> ENCODE4 v1.6.1 GRCh38 </td>\n",
       "   <td style=\"text-align:left;\"> ENCODE2 </td>\n",
       "   <td style=\"text-align:left;\"> eb34fc26945d28a7df54b336aa7904e9 </td>\n",
       "   <td style=\"text-align:left;\"> ENCFF165ZEP.bed.gz </td>\n",
       "   <td style=\"text-align:left;\"> https://www.encodeproject.org/files/ENCFF165ZEP/@@download/ENCFF165ZEP.bed.gz </td>\n",
       "  </tr>\n",
       "  <tr>\n",
       "   <td style=\"text-align:left;\"> TF ChIP-seq </td>\n",
       "   <td style=\"text-align:left;\"> ENCSR000BMR </td>\n",
       "   <td style=\"text-align:left;\"> ENCFF634JRD </td>\n",
       "   <td style=\"text-align:left;\"> bed narrowPeak </td>\n",
       "   <td style=\"text-align:left;\"> IDR thresholded peaks </td>\n",
       "   <td style=\"text-align:left;\"> GRCh38 </td>\n",
       "   <td style=\"text-align:left;\"> POLR2A </td>\n",
       "   <td style=\"text-align:left;\"> ENCODE4 v1.6.1 GRCh38 </td>\n",
       "   <td style=\"text-align:left;\"> ENCODE2 </td>\n",
       "   <td style=\"text-align:left;\"> f680f3a40f7812e22853084222958011 </td>\n",
       "   <td style=\"text-align:left;\"> ENCFF634JRD.bed.gz </td>\n",
       "   <td style=\"text-align:left;\"> https://www.encodeproject.org/files/ENCFF634JRD/@@download/ENCFF634JRD.bed.gz </td>\n",
       "  </tr>\n",
       "</tbody>\n",
       "</table>"
      ]
     },
     "metadata": {},
     "output_type": "display_data"
    }
   ],
   "source": [
    "### init\n",
    "txt_ftype = \"bed narrowPeak\"\n",
    "dat = dat_metadata_chipseq_flagship_k562\n",
    "vec = dat$`Peak Accession`\n",
    "\n",
    "### filter to get selected files\n",
    "dat = dat_metadata_chipseq_full\n",
    "dat = dat %>% \n",
    "    dplyr::filter(Index_File %in% vec) %>%\n",
    "    dplyr::filter(File_Type == txt_ftype)\n",
    "    \n",
    "### assign and show\n",
    "dat_metadata_final = dat\n",
    "print(dim(dat))\n",
    "fun_display_table(head(dat, 3))"
   ]
  },
  {
   "cell_type": "markdown",
   "id": "de2c1602-3008-46f6-84d2-009c5bc9c25a",
   "metadata": {},
   "source": [
    "**Check: Subset of ChIP-seq in Flagship are not within the latest default files**\n",
    "- **[ENCSR000DKB](https://www.encodeproject.org/experiments/ENCSR000DKB/)**:NA (FOS)\n",
    "- **[ENCSR000EGP](https://www.encodeproject.org/experiments/ENCSR000EGP/)**:ENCFF540TWL (ZNF143)\n",
    "    - This experiment has been revoked."
   ]
  },
  {
   "cell_type": "code",
   "execution_count": 8,
   "id": "1a2c80e7-3e16-47d3-8761-e8ec0b23c33b",
   "metadata": {},
   "outputs": [
    {
     "data": {
      "text/html": [
       "<table class=\"dataframe\">\n",
       "<caption>A spec_tbl_df: 2 × 6</caption>\n",
       "<thead>\n",
       "\t<tr><th scope=col>Experiment Accession</th><th scope=col>Peak Accession</th><th scope=col>Biosample</th><th scope=col>Target</th><th scope=col>Lab</th><th scope=col>RFA</th></tr>\n",
       "\t<tr><th scope=col>&lt;chr&gt;</th><th scope=col>&lt;chr&gt;</th><th scope=col>&lt;chr&gt;</th><th scope=col>&lt;chr&gt;</th><th scope=col>&lt;chr&gt;</th><th scope=col>&lt;chr&gt;</th></tr>\n",
       "</thead>\n",
       "<tbody>\n",
       "\t<tr><td>ENCSR000DKB</td><td>NA         </td><td>Homo sapiens K562 stably expressing FOS</td><td>FOS   </td><td>Kevin White, UChicago   </td><td>ENCODE2</td></tr>\n",
       "\t<tr><td>ENCSR000EGP</td><td>ENCFF540TWL</td><td>Homo sapiens K562                      </td><td>ZNF143</td><td>Michael Snyder, Stanford</td><td>ENCODE2</td></tr>\n",
       "</tbody>\n",
       "</table>\n"
      ],
      "text/latex": [
       "A spec\\_tbl\\_df: 2 × 6\n",
       "\\begin{tabular}{llllll}\n",
       " Experiment Accession & Peak Accession & Biosample & Target & Lab & RFA\\\\\n",
       " <chr> & <chr> & <chr> & <chr> & <chr> & <chr>\\\\\n",
       "\\hline\n",
       "\t ENCSR000DKB & NA          & Homo sapiens K562 stably expressing FOS & FOS    & Kevin White, UChicago    & ENCODE2\\\\\n",
       "\t ENCSR000EGP & ENCFF540TWL & Homo sapiens K562                       & ZNF143 & Michael Snyder, Stanford & ENCODE2\\\\\n",
       "\\end{tabular}\n"
      ],
      "text/markdown": [
       "\n",
       "A spec_tbl_df: 2 × 6\n",
       "\n",
       "| Experiment Accession &lt;chr&gt; | Peak Accession &lt;chr&gt; | Biosample &lt;chr&gt; | Target &lt;chr&gt; | Lab &lt;chr&gt; | RFA &lt;chr&gt; |\n",
       "|---|---|---|---|---|---|\n",
       "| ENCSR000DKB | NA          | Homo sapiens K562 stably expressing FOS | FOS    | Kevin White, UChicago    | ENCODE2 |\n",
       "| ENCSR000EGP | ENCFF540TWL | Homo sapiens K562                       | ZNF143 | Michael Snyder, Stanford | ENCODE2 |\n",
       "\n"
      ],
      "text/plain": [
       "  Experiment Accession Peak Accession Biosample                              \n",
       "1 ENCSR000DKB          NA             Homo sapiens K562 stably expressing FOS\n",
       "2 ENCSR000EGP          ENCFF540TWL    Homo sapiens K562                      \n",
       "  Target Lab                      RFA    \n",
       "1 FOS    Kevin White, UChicago    ENCODE2\n",
       "2 ZNF143 Michael Snyder, Stanford ENCODE2"
      ]
     },
     "metadata": {},
     "output_type": "display_data"
    }
   ],
   "source": [
    "dat = dat_metadata_chipseq_full\n",
    "vec = dat$Index_File\n",
    "\n",
    "dat = dat_metadata_chipseq_flagship_k562\n",
    "dat = dat %>% dplyr::filter(!(`Peak Accession` %in% vec))\n",
    "dat"
   ]
  },
  {
   "cell_type": "code",
   "execution_count": 9,
   "id": "f766378a-2755-4442-a615-6adb454c4b45",
   "metadata": {},
   "outputs": [
    {
     "name": "stdout",
     "output_type": "stream",
     "text": [
      "733 / 735 = 0.9972789"
     ]
    }
   ],
   "source": [
    "dat  = dat_metadata_chipseq_flagship_k562\n",
    "vec1 = dat$`Peak Accession`\n",
    "\n",
    "dat  = dat_metadata_chipseq_full\n",
    "vec2 = dat$Index_File\n",
    "\n",
    "res = vec1 %in% vec2\n",
    "cat(sum(res), \"/\", length(res), \"=\", mean(res))"
   ]
  },
  {
   "cell_type": "markdown",
   "id": "c958f5af-920a-4909-9e53-a7b5e83caf68",
   "metadata": {},
   "source": [
    "**Check: all files are in hg38**"
   ]
  },
  {
   "cell_type": "code",
   "execution_count": 10,
   "id": "8b857143-5403-4fea-97af-3b740dd260c0",
   "metadata": {},
   "outputs": [
    {
     "data": {
      "text/plain": [
       "             \n",
       "              GRCh38\n",
       "  TF ChIP-seq    733"
      ]
     },
     "metadata": {},
     "output_type": "display_data"
    }
   ],
   "source": [
    "dat = dat_metadata_final\n",
    "table(dat$Assay, dat$Genome)"
   ]
  },
  {
   "cell_type": "markdown",
   "id": "7b4d7ef2-7b8c-48ab-9781-181b882ae96a",
   "metadata": {},
   "source": [
    "**Check: ENCODE RFA**"
   ]
  },
  {
   "cell_type": "code",
   "execution_count": 11,
   "id": "531f8378-053f-4bef-af85-54da97a01600",
   "metadata": {},
   "outputs": [
    {
     "data": {
      "text/plain": [
       "\n",
       "ENCODE2 ENCODE3 ENCODE4 \n",
       "    153     360     222 "
      ]
     },
     "metadata": {},
     "output_type": "display_data"
    }
   ],
   "source": [
    "dat = dat_metadata_chipseq_flagship_k562\n",
    "table(dat$RFA)"
   ]
  },
  {
   "cell_type": "code",
   "execution_count": 12,
   "id": "f3c9d4b3-d8d8-493d-a9c9-e0386abe4f20",
   "metadata": {},
   "outputs": [
    {
     "data": {
      "text/plain": [
       "             \n",
       "              ENCODE2 ENCODE3 ENCODE4\n",
       "  TF ChIP-seq     151     360     222"
      ]
     },
     "metadata": {},
     "output_type": "display_data"
    }
   ],
   "source": [
    "dat = dat_metadata_final\n",
    "table(dat$Assay, dat$RFA)"
   ]
  },
  {
   "cell_type": "markdown",
   "id": "eefbbae0-6dc9-4ed3-97fd-e5e211e54c37",
   "metadata": {},
   "source": [
    "**Check: file/output types**"
   ]
  },
  {
   "cell_type": "code",
   "execution_count": 13,
   "id": "67e1944d-08ba-4e32-9c0c-fcec76b1d27f",
   "metadata": {},
   "outputs": [
    {
     "data": {
      "text/plain": [
       "                                    \n",
       "                                     bed narrowPeak\n",
       "  conservative IDR thresholded peaks             67\n",
       "  IDR thresholded peaks                         665\n",
       "  optimal IDR thresholded peaks                   1"
      ]
     },
     "metadata": {},
     "output_type": "display_data"
    }
   ],
   "source": [
    "dat = dat_metadata_final\n",
    "table(dat$Output_Type, dat$File_Type)"
   ]
  },
  {
   "cell_type": "markdown",
   "id": "afae835c-4794-4da7-8042-ef11051a0fde",
   "metadata": {},
   "source": [
    "## Prepare download files"
   ]
  },
  {
   "cell_type": "code",
   "execution_count": 14,
   "id": "2c93e330-5f8b-4a4c-84f7-95cb3239f1a1",
   "metadata": {},
   "outputs": [
    {
     "name": "stdout",
     "output_type": "stream",
     "text": [
      "[1] 733   1\n"
     ]
    },
    {
     "data": {
      "text/html": [
       "<table>\n",
       " <thead>\n",
       "  <tr>\n",
       "   <th style=\"text-align:left;\"> File_Url </th>\n",
       "  </tr>\n",
       " </thead>\n",
       "<tbody>\n",
       "  <tr>\n",
       "   <td style=\"text-align:left;\"> https://www.encodeproject.org/files/ENCFF214SNH/@@download/ENCFF214SNH.bed.gz </td>\n",
       "  </tr>\n",
       "  <tr>\n",
       "   <td style=\"text-align:left;\"> https://www.encodeproject.org/files/ENCFF165ZEP/@@download/ENCFF165ZEP.bed.gz </td>\n",
       "  </tr>\n",
       "  <tr>\n",
       "   <td style=\"text-align:left;\"> https://www.encodeproject.org/files/ENCFF634JRD/@@download/ENCFF634JRD.bed.gz </td>\n",
       "  </tr>\n",
       "</tbody>\n",
       "</table>"
      ]
     },
     "metadata": {},
     "output_type": "display_data"
    }
   ],
   "source": [
    "### get file url\n",
    "dat = dat_metadata_final\n",
    "dat = dat %>% dplyr::select(File_Url)\n",
    "\n",
    "### assign and show\n",
    "dat_download_furl = dat\n",
    "print(dim(dat))\n",
    "fun_display_table(head(dat, 3))"
   ]
  },
  {
   "cell_type": "markdown",
   "id": "8ad5efdd-a93a-4e78-a7b2-4448ec6b07fd",
   "metadata": {},
   "source": [
    "## Prepare download checksum"
   ]
  },
  {
   "cell_type": "code",
   "execution_count": 15,
   "id": "a2d16654-9f11-455f-909b-450abdcb553c",
   "metadata": {},
   "outputs": [
    {
     "name": "stdout",
     "output_type": "stream",
     "text": [
      "[1] 733   2\n"
     ]
    },
    {
     "data": {
      "text/html": [
       "<table>\n",
       " <thead>\n",
       "  <tr>\n",
       "   <th style=\"text-align:left;\"> md5sum </th>\n",
       "   <th style=\"text-align:left;\"> File_Name </th>\n",
       "  </tr>\n",
       " </thead>\n",
       "<tbody>\n",
       "  <tr>\n",
       "   <td style=\"text-align:left;\"> a864ccf68ff3ca9e7539f90ef7208260 </td>\n",
       "   <td style=\"text-align:left;\"> ENCFF214SNH.bed.gz </td>\n",
       "  </tr>\n",
       "  <tr>\n",
       "   <td style=\"text-align:left;\"> eb34fc26945d28a7df54b336aa7904e9 </td>\n",
       "   <td style=\"text-align:left;\"> ENCFF165ZEP.bed.gz </td>\n",
       "  </tr>\n",
       "  <tr>\n",
       "   <td style=\"text-align:left;\"> f680f3a40f7812e22853084222958011 </td>\n",
       "   <td style=\"text-align:left;\"> ENCFF634JRD.bed.gz </td>\n",
       "  </tr>\n",
       "</tbody>\n",
       "</table>"
      ]
     },
     "metadata": {},
     "output_type": "display_data"
    }
   ],
   "source": [
    "### get md5sum for each file\n",
    "dat = dat_metadata_final\n",
    "dat = dat %>% dplyr::select(md5sum, File_Name)\n",
    "\n",
    "### assign and show\n",
    "dat_download_md5sum = dat\n",
    "print(dim(dat))\n",
    "fun_display_table(head(dat, 3))"
   ]
  },
  {
   "cell_type": "markdown",
   "id": "389f37c4-c57d-45a5-b7a6-0ca9f03f529e",
   "metadata": {},
   "source": [
    "## Save results"
   ]
  },
  {
   "cell_type": "code",
   "execution_count": 16,
   "id": "55b18915-c08a-491d-a66b-574ab2935189",
   "metadata": {},
   "outputs": [
    {
     "name": "stdout",
     "output_type": "stream",
     "text": [
      "[1] \"/mount/repo/Proj_ENCODE_FCC/data/external/encode_chipseq_flagship\"\n",
      "[1] \"/mount/repo/Proj_ENCODE_FCC/results/region/encode_chipseq_flagship/summary\"\n"
     ]
    }
   ],
   "source": [
    "### init\n",
    "txt_folder = \"encode_chipseq_flagship\"\n",
    "\n",
    "### create folder for data\n",
    "txt_fdiry = file.path(FD_DAT, \"external\", txt_folder)\n",
    "txt_cmd   = paste(\"mkdir -p\", txt_fdiry)\n",
    "system(txt_cmd)\n",
    "print(txt_fdiry)\n",
    "\n",
    "### create folder for results\n",
    "txt_fdiry = file.path(FD_RES, \"region\", txt_folder, \"summary\")\n",
    "txt_cmd   = paste(\"mkdir -p\", txt_fdiry)\n",
    "system(txt_cmd)\n",
    "print(txt_fdiry)"
   ]
  },
  {
   "cell_type": "code",
   "execution_count": 17,
   "id": "20801677-ac2f-49bb-aa88-c604755c98fc",
   "metadata": {},
   "outputs": [],
   "source": [
    "### set directory\n",
    "txt_fdiry = file.path(FD_DAT, \"external\", txt_folder)\n",
    "txt_fname = \"files.txt\"\n",
    "txt_fpath = file.path(txt_fdiry, txt_fname)\n",
    "\n",
    "### write table\n",
    "dat = dat_download_furl\n",
    "write_tsv(dat, txt_fpath, col_names = FALSE)  "
   ]
  },
  {
   "cell_type": "code",
   "execution_count": 18,
   "id": "067396bc-be14-4dbd-9189-fa66620f014d",
   "metadata": {},
   "outputs": [],
   "source": [
    "### set directory\n",
    "txt_fdiry = file.path(FD_DAT, \"external\", txt_folder)\n",
    "txt_fname = \"checksum_md5sum.txt\"\n",
    "txt_fpath = file.path(txt_fdiry, txt_fname)\n",
    "\n",
    "### write table\n",
    "dat = dat_download_md5sum\n",
    "write_tsv(dat, txt_fpath, col_names = FALSE)  "
   ]
  },
  {
   "cell_type": "code",
   "execution_count": 19,
   "id": "77700a5d-94de-4882-b423-c126df227b8c",
   "metadata": {},
   "outputs": [],
   "source": [
    "### set output path\n",
    "txt_fdiry = file.path(FD_RES, \"region\", txt_folder, \"summary\")\n",
    "txt_fname = \"metadata.tsv\"\n",
    "txt_fpath = file.path(txt_fdiry, txt_fname)\n",
    "\n",
    "### save table\n",
    "dat = dat_metadata_final\n",
    "write_tsv(dat, txt_fpath)  "
   ]
  },
  {
   "cell_type": "code",
   "execution_count": null,
   "id": "de1f3983-43dd-4989-8791-052163c5ad82",
   "metadata": {},
   "outputs": [],
   "source": []
  }
 ],
 "metadata": {
  "kernelspec": {
   "display_name": "R",
   "language": "R",
   "name": "ir"
  },
  "language_info": {
   "codemirror_mode": "r",
   "file_extension": ".r",
   "mimetype": "text/x-r-source",
   "name": "R",
   "pygments_lexer": "r",
   "version": "4.4.1"
  }
 },
 "nbformat": 4,
 "nbformat_minor": 5
}
