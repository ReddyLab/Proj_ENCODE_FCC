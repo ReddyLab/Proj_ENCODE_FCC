{
 "cells": [
  {
   "cell_type": "raw",
   "id": "7cdbe2ab-5931-4509-add7-0a0adef5a4c0",
   "metadata": {},
   "source": [
    "---\n",
    "title: Prepare ENCODE ChIP-seq 12 (Histone)\n",
    "subtitle: Download the data\n",
    "format:\n",
    "    html:\n",
    "        code-fold:  true\n",
    "        code-tools: true\n",
    "---"
   ]
  },
  {
   "cell_type": "markdown",
   "id": "fa692d03-3d53-42e0-9c04-0b5c8ac28736",
   "metadata": {},
   "source": [
    "**set environment**"
   ]
  },
  {
   "cell_type": "code",
   "execution_count": 1,
   "id": "94818667-50c0-440a-be11-6733b9772a90",
   "metadata": {},
   "outputs": [
    {
     "name": "stdout",
     "output_type": "stream",
     "text": [
      "You are working on             Duke Server: RCC\n",
      "BASE DIRECTORY (FD_BASE):      /data/reddylab/Kuei\n",
      "REPO DIRECTORY (FD_REPO):      /data/reddylab/Kuei/repo\n",
      "WORK DIRECTORY (FD_WORK):      /data/reddylab/Kuei/work\n",
      "DATA DIRECTORY (FD_DATA):      /data/reddylab/Kuei/data\n",
      "CONTAINER DIR. (FD_SING):      /data/reddylab/Kuei/container\n",
      "\n",
      "You are working with           ENCODE FCC\n",
      "PATH OF PROJECT (FD_PRJ):      /data/reddylab/Kuei/repo/Proj_ENCODE_FCC\n",
      "PROJECT RESULTS (FD_RES):      /data/reddylab/Kuei/repo/Proj_ENCODE_FCC/results\n",
      "PROJECT SCRIPTS (FD_EXE):      /data/reddylab/Kuei/repo/Proj_ENCODE_FCC/scripts\n",
      "PROJECT DATA    (FD_DAT):      /data/reddylab/Kuei/repo/Proj_ENCODE_FCC/data\n",
      "PROJECT NOTE    (FD_NBK):      /data/reddylab/Kuei/repo/Proj_ENCODE_FCC/notebooks\n",
      "PROJECT DOCS    (FD_DOC):      /data/reddylab/Kuei/repo/Proj_ENCODE_FCC/docs\n",
      "PROJECT LOG     (FD_LOG):      /data/reddylab/Kuei/repo/Proj_ENCODE_FCC/log\n",
      "PROJECT REF     (FD_REF):      /data/reddylab/Kuei/repo/Proj_ENCODE_FCC/references\n",
      "PROJECT IMAGE   (FP_PRJ_SIF):  /data/reddylab/Kuei/container/project/singularity_proj_encode_fcc.sif\n",
      "PROJECT CONF.   (FP_CNF):      /data/reddylab/Kuei/repo/Proj_ENCODE_FCC/scripts/config_project.sh\n",
      "\n"
     ]
    }
   ],
   "source": [
    "source ../run_config_project.sh\n",
    "show_env"
   ]
  },
  {
   "cell_type": "markdown",
   "id": "4661b22f-53b6-4cf6-9a48-cb965e86fb83",
   "metadata": {},
   "source": [
    "**Global variables**"
   ]
  },
  {
   "cell_type": "code",
   "execution_count": 2,
   "id": "8650a61b-3a07-4648-80ea-f741ccf1e9f0",
   "metadata": {},
   "outputs": [],
   "source": [
    "FD_OUT=${FD_DAT}/external/encode_chipseq_histone_241223"
   ]
  },
  {
   "cell_type": "markdown",
   "id": "698fd986-f8b4-4949-9dc2-eccafb9ba57e",
   "metadata": {},
   "source": [
    "## Prepare"
   ]
  },
  {
   "cell_type": "code",
   "execution_count": 3,
   "id": "45b29e0b-4973-4d99-9331-313d7ab75616",
   "metadata": {},
   "outputs": [
    {
     "name": "stdout",
     "output_type": "stream",
     "text": [
      "checksum_md5sum.txt  ENCFF220RGS.bigWig  \u001b[0m\u001b[01;31mENCFF540NGG.bed.gz\u001b[0m  ENCFF767UON.bigWig\n",
      "ENCFF054RSU.bigWig   ENCFF239EBH.bigWig  \u001b[01;31mENCFF544LXB.bed.gz\u001b[0m  \u001b[01;31mENCFF801AHF.bed.gz\u001b[0m\n",
      "ENCFF071GML.bigWig   ENCFF287LBI.bigWig  \u001b[01;31mENCFF561OUZ.bed.gz\u001b[0m  ENCFF847BFA.bigWig\n",
      "\u001b[01;31mENCFF122CSI.bed.gz\u001b[0m   \u001b[01;31mENCFF323WOT.bed.gz\u001b[0m  ENCFF582IMB.bigWig  \u001b[01;31mENCFF891CHI.bed.gz\u001b[0m\n",
      "\u001b[01;31mENCFF135ZLM.bed.gz\u001b[0m   ENCFF334HSS.bigWig  ENCFF605EVL.bigWig  \u001b[01;31mENCFF963GZJ.bed.gz\u001b[0m\n",
      "\u001b[01;31mENCFF148UQI.bed.gz\u001b[0m   ENCFF405ZDL.bigWig  ENCFF632NQA.bigWig  files.txt\n",
      "ENCFF178QDA.bigWig   ENCFF457URZ.bigWig  ENCFF633OZC.bigWig  metadata.tsv\n",
      "\u001b[01;31mENCFF193ERO.bed.gz\u001b[0m   ENCFF461RKK.bigWig  ENCFF694ODT.bigWig\n",
      "ENCFF202EVH.bigWig   \u001b[01;31mENCFF462AVD.bed.gz\u001b[0m  \u001b[01;31mENCFF706WUF.bed.gz\u001b[0m\n",
      "\u001b[01;31mENCFF213OTI.bed.gz\u001b[0m   ENCFF465GBD.bigWig  \u001b[01;31mENCFF749KLQ.bed.gz\u001b[0m\n"
     ]
    }
   ],
   "source": [
    "ls ${FD_OUT}"
   ]
  },
  {
   "cell_type": "code",
   "execution_count": 4,
   "id": "f068e425-bd60-4066-85ca-6a9d0a51d1eb",
   "metadata": {},
   "outputs": [
    {
     "name": "stdout",
     "output_type": "stream",
     "text": [
      "files.chipseq_histone.default_files.241223.txt     metadata.tsv\n",
      "files.txt                                          Readme.md\n",
      "metadata.chipseq_histone.default_files.241223.tsv\n"
     ]
    }
   ],
   "source": [
    "ls ${FD_REF}/encode_chipseq_histone"
   ]
  },
  {
   "cell_type": "markdown",
   "id": "25a98017-f4ac-40c9-add0-1fcf1428a77c",
   "metadata": {},
   "source": [
    "`cp ${FD_REF}/encode_chipseq_histone/files.chipseq_histone.default_files.241223.txt ${FD_OUT}/files.txt`"
   ]
  },
  {
   "cell_type": "markdown",
   "id": "2fe8a050-3046-40d0-975f-9e106cba28b2",
   "metadata": {},
   "source": [
    "## Execute"
   ]
  },
  {
   "cell_type": "code",
   "execution_count": 5,
   "id": "65ff5fc0-bbd3-4736-ba0a-33c1c59ebe0b",
   "metadata": {},
   "outputs": [
    {
     "name": "stdout",
     "output_type": "stream",
     "text": [
      "Submitted batch job 65117\n"
     ]
    }
   ],
   "source": [
    "FN_LOG=download.encode_chipseq_histone.txt\n",
    "FP_LOG=${FD_LOG}/${FN_LOG}\n",
    "\n",
    "sbatch \\\n",
    "    --cpus-per-task 4 \\\n",
    "    --mem 4G \\\n",
    "    --output ${FP_LOG} \\\n",
    "    --export=FD_PRJ=${FD_PRJ} \\\n",
    "    << 'EOF'\n",
    "#!/bin/bash\n",
    "\n",
    "### print start message\n",
    "timer_start=`date +%s`\n",
    "echo \"Hostname:          \" $(hostname)\n",
    "echo \"Slurm Array Index: \" ${SLURM_ARRAY_TASK_ID}\n",
    "echo \"Time Stamp:        \" $(date +\"%m-%d-%y+%T\")\n",
    "echo\n",
    "\n",
    "### set environment\n",
    "source ${FD_PRJ}/scripts/config_project.sh\n",
    "\n",
    "### set I/O\n",
    "FD_OUT=${FD_DAT}/external/encode_chipseq_histone_241223\n",
    "cd ${FD_OUT}\n",
    "\n",
    "### show I/O\n",
    "echo \"Current directory:\"\n",
    "echo $(pwd)\n",
    "echo\n",
    "\n",
    "### execute: download file\n",
    "echo \"Download files...\"\n",
    "xargs -L 1 curl -O -J -L < files.txt\n",
    "echo\n",
    "\n",
    "### execute: checksum\n",
    "echo \"Checksum files...\"\n",
    "md5sum -c checksum_md5sum.txt > checksum_results.txt\n",
    "echo\n",
    "\n",
    "### print end message\n",
    "timer=`date +%s`\n",
    "runtime=$(echo \"${timer} - ${timer_start}\" | bc -l)\n",
    "echo\n",
    "echo 'Done!'\n",
    "echo \"Run Time: $(displaytime ${runtime})\"\n",
    "echo\n",
    "EOF"
   ]
  },
  {
   "cell_type": "markdown",
   "id": "a80f31f5-60a5-4e57-95c5-861743ac2aed",
   "metadata": {},
   "source": [
    "## Review"
   ]
  },
  {
   "cell_type": "code",
   "execution_count": 12,
   "id": "149f1992-6b67-4c68-8529-d2b8476ae2ce",
   "metadata": {},
   "outputs": [
    {
     "name": "stdout",
     "output_type": "stream",
     "text": [
      "/data/reddylab/Kuei/repo/Proj_ENCODE_FCC/data/external/encode_chipseq_histone_241223\n",
      "\n",
      "38\n",
      "\n",
      "ENCFF071GML.bigWig: OK\n",
      "ENCFF706WUF.bed.gz: OK\n",
      "ENCFF462AVD.bed.gz: OK\n",
      "ENCFF220RGS.bigWig: OK\n",
      "ENCFF632NQA.bigWig: OK\n",
      "ENCFF963GZJ.bed.gz: OK\n",
      "ENCFF135ZLM.bed.gz: OK\n",
      "ENCFF457URZ.bigWig: OK\n",
      "ENCFF202EVH.bigWig: OK\n",
      "ENCFF213OTI.bed.gz: OK\n",
      "ENCFF633OZC.bigWig: OK\n",
      "ENCFF561OUZ.bed.gz: OK\n",
      "ENCFF323WOT.bed.gz: OK\n",
      "ENCFF582IMB.bigWig: OK\n",
      "ENCFF054RSU.bigWig: OK\n",
      "ENCFF749KLQ.bed.gz: OK\n",
      "ENCFF239EBH.bigWig: OK\n",
      "ENCFF891CHI.bed.gz: OK\n",
      "ENCFF193ERO.bed.gz: OK\n",
      "ENCFF605EVL.bigWig: OK\n",
      "ENCFF801AHF.bed.gz: OK\n",
      "ENCFF847BFA.bigWig: OK\n",
      "ENCFF461RKK.bigWig: OK\n",
      "ENCFF122CSI.bed.gz: OK\n",
      "ENCFF178QDA.bigWig: OK\n",
      "ENCFF148UQI.bed.gz: OK\n",
      "ENCFF544LXB.bed.gz: OK\n",
      "ENCFF465GBD.bigWig: OK\n",
      "ENCFF287LBI.bigWig: OK\n",
      "ENCFF540NGG.bed.gz: OK\n",
      "ENCFF767UON.bigWig: OK\n",
      "ENCFF689QIJ.bed.gz: OK\n",
      "ENCFF909RKY.bed.gz: OK\n",
      "ENCFF694ODT.bigWig: OK\n",
      "ENCFF334HSS.bigWig: OK\n",
      "ENCFF209OQD.bed.gz: OK\n",
      "ENCFF405ZDL.bigWig: OK\n",
      "ENCFF885FQN.bed.gz: OK\n"
     ]
    }
   ],
   "source": [
    "echo ${FD_OUT}\n",
    "echo\n",
    "FPATH=${FD_OUT}/checksum_results.txt\n",
    "cat ${FPATH} | wc -l\n",
    "echo \n",
    "cat ${FPATH}"
   ]
  },
  {
   "cell_type": "code",
   "execution_count": null,
   "id": "6ebfe47c-9f9a-4b8e-b64a-b1c4398c5a21",
   "metadata": {},
   "outputs": [],
   "source": []
  }
 ],
 "metadata": {
  "kernelspec": {
   "display_name": "Bash",
   "language": "bash",
   "name": "bash"
  },
  "language_info": {
   "codemirror_mode": "shell",
   "file_extension": ".sh",
   "mimetype": "text/x-sh",
   "name": "bash"
  }
 },
 "nbformat": 4,
 "nbformat_minor": 5
}
