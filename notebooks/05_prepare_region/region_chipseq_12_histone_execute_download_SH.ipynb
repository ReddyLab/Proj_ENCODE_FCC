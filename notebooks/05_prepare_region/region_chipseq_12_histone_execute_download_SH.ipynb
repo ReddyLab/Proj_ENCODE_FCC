{
 "cells": [
  {
   "cell_type": "raw",
   "id": "7cdbe2ab-5931-4509-add7-0a0adef5a4c0",
   "metadata": {},
   "source": [
    "---\n",
    "title: Prepare ENCODE ChIP-seq 12 (Histone)\n",
    "subtitle: Download the data\n",
    "format:\n",
    "    html:\n",
    "        code-fold:  true\n",
    "        code-tools: true\n",
    "---"
   ]
  },
  {
   "cell_type": "markdown",
   "id": "fa692d03-3d53-42e0-9c04-0b5c8ac28736",
   "metadata": {},
   "source": [
    "**set environment**"
   ]
  },
  {
   "cell_type": "code",
   "execution_count": 1,
   "id": "94818667-50c0-440a-be11-6733b9772a90",
   "metadata": {},
   "outputs": [
    {
     "name": "stdout",
     "output_type": "stream",
     "text": [
      "You are working on             Duke Server: HARDAC\n",
      "BASE DIRECTORY (FD_BASE):      /data/reddylab/Kuei\n",
      "REPO DIRECTORY (FD_REPO):      /data/reddylab/Kuei/repo\n",
      "WORK DIRECTORY (FD_WORK):      /data/reddylab/Kuei/work\n",
      "DATA DIRECTORY (FD_DATA):      /data/reddylab/Kuei/data\n",
      "CONTAINER DIR. (FD_SING):      /data/reddylab/Kuei/container\n",
      "\n",
      "You are working with           ENCODE FCC\n",
      "PATH OF PROJECT (FD_PRJ):      /data/reddylab/Kuei/repo/Proj_ENCODE_FCC\n",
      "PROJECT RESULTS (FD_RES):      /data/reddylab/Kuei/repo/Proj_ENCODE_FCC/results\n",
      "PROJECT SCRIPTS (FD_EXE):      /data/reddylab/Kuei/repo/Proj_ENCODE_FCC/scripts\n",
      "PROJECT DATA    (FD_DAT):      /data/reddylab/Kuei/repo/Proj_ENCODE_FCC/data\n",
      "PROJECT NOTE    (FD_NBK):      /data/reddylab/Kuei/repo/Proj_ENCODE_FCC/notebooks\n",
      "PROJECT DOCS    (FD_DOC):      /data/reddylab/Kuei/repo/Proj_ENCODE_FCC/docs\n",
      "PROJECT LOG     (FD_LOG):      /data/reddylab/Kuei/repo/Proj_ENCODE_FCC/log\n",
      "PROJECT APP     (FD_APP):      \n",
      "PROJECT REF     (FD_REF):      /data/reddylab/Kuei/repo/Proj_ENCODE_FCC/references\n",
      "PROJECT IMAGE   (FP_PRJ_SIF):  /data/reddylab/Kuei/container/project/singularity_proj_encode_fcc.sif\n",
      "\n"
     ]
    }
   ],
   "source": [
    "source ../run_config_project.sh\n",
    "show_env"
   ]
  },
  {
   "cell_type": "markdown",
   "id": "4661b22f-53b6-4cf6-9a48-cb965e86fb83",
   "metadata": {},
   "source": [
    "**Global variables**"
   ]
  },
  {
   "cell_type": "code",
   "execution_count": 9,
   "id": "8650a61b-3a07-4648-80ea-f741ccf1e9f0",
   "metadata": {},
   "outputs": [],
   "source": [
    "FD_OUT=${FD_DAT}/external/encode_chipseq_histone"
   ]
  },
  {
   "cell_type": "markdown",
   "id": "698fd986-f8b4-4949-9dc2-eccafb9ba57e",
   "metadata": {},
   "source": [
    "## Preview"
   ]
  },
  {
   "cell_type": "code",
   "execution_count": 10,
   "id": "f878a562-2753-4675-b42b-2e0f6af472e9",
   "metadata": {},
   "outputs": [
    {
     "name": "stdout",
     "output_type": "stream",
     "text": [
      "/data/reddylab/Kuei/repo/Proj_ENCODE_FCC/data/external/encode_chipseq_histone/files.txt\n",
      "/data/reddylab/Kuei/repo/Proj_ENCODE_FCC/data/external/encode_chipseq_histone/checksum_md5sum.txt\n"
     ]
    }
   ],
   "source": [
    "ls ${FD_OUT}/files.txt\n",
    "ls ${FD_OUT}/checksum_md5sum.txt"
   ]
  },
  {
   "cell_type": "markdown",
   "id": "2fe8a050-3046-40d0-975f-9e106cba28b2",
   "metadata": {},
   "source": [
    "## Execute"
   ]
  },
  {
   "cell_type": "code",
   "execution_count": 5,
   "id": "65ff5fc0-bbd3-4736-ba0a-33c1c59ebe0b",
   "metadata": {},
   "outputs": [
    {
     "name": "stdout",
     "output_type": "stream",
     "text": [
      "Submitted batch job 32926080\n"
     ]
    }
   ],
   "source": [
    "FN_LOG=download.encode_chipseq_histone.txt\n",
    "FP_LOG=${FD_LOG}/${FN_LOG}\n",
    "\n",
    "sbatch -p ${NODE} \\\n",
    "    --exclude=dl-01 \\\n",
    "    --cpus-per-task 4 \\\n",
    "    --mem 4G \\\n",
    "    --output ${FP_LOG} \\\n",
    "    --export=FD_PRJ=${FD_PRJ},FD_OUT=${FD_OUT} \\\n",
    "    << 'EOF'\n",
    "#!/bin/bash\n",
    "\n",
    "### print start message\n",
    "timer_start=`date +%s`\n",
    "echo \"Hostname:          \" $(hostname)\n",
    "echo \"Slurm Array Index: \" ${SLURM_ARRAY_TASK_ID}\n",
    "echo \"Time Stamp:        \" $(date +\"%m-%d-%y+%T\")\n",
    "echo\n",
    "\n",
    "### set environment\n",
    "source ${FD_PRJ}/scripts/config_project.sh\n",
    "\n",
    "### set I/O\n",
    "cd ${FD_OUT}\n",
    "\n",
    "### show I/O\n",
    "echo \"Current directory:\"\n",
    "echo $(pwd)\n",
    "echo\n",
    "\n",
    "### execute: download file\n",
    "echo \"Download files...\"\n",
    "xargs -L 1 curl -O -J -L < files.txt\n",
    "echo\n",
    "\n",
    "### execute: checksum\n",
    "echo \"Checksum files...\"\n",
    "md5sum -c checksum_md5sum.txt > checksum_results.txt\n",
    "echo\n",
    "\n",
    "### print end message\n",
    "timer=`date +%s`\n",
    "runtime=$(echo \"${timer} - ${timer_start}\" | bc -l)\n",
    "echo\n",
    "echo 'Done!'\n",
    "echo \"Run Time: $(displaytime ${runtime})\"\n",
    "echo\n",
    "EOF"
   ]
  },
  {
   "cell_type": "markdown",
   "id": "a80f31f5-60a5-4e57-95c5-861743ac2aed",
   "metadata": {},
   "source": [
    "## Review"
   ]
  },
  {
   "cell_type": "code",
   "execution_count": 7,
   "id": "149f1992-6b67-4c68-8529-d2b8476ae2ce",
   "metadata": {},
   "outputs": [
    {
     "name": "stdout",
     "output_type": "stream",
     "text": [
      "19\n",
      "\n",
      "ENCFF909RKY.bed.gz: OK\n",
      "ENCFF963GZJ.bed.gz: OK\n",
      "ENCFF213OTI.bed.gz: OK\n",
      "ENCFF462AVD.bed.gz: OK\n",
      "ENCFF135ZLM.bed.gz: OK\n",
      "ENCFF193ERO.bed.gz: OK\n",
      "ENCFF749KLQ.bed.gz: OK\n",
      "ENCFF148UQI.bed.gz: OK\n",
      "ENCFF122CSI.bed.gz: OK\n",
      "ENCFF540NGG.bed.gz: OK\n",
      "ENCFF323WOT.bed.gz: OK\n",
      "ENCFF544LXB.bed.gz: OK\n",
      "ENCFF561OUZ.bed.gz: OK\n",
      "ENCFF801AHF.bed.gz: OK\n",
      "ENCFF885FQN.bed.gz: OK\n",
      "ENCFF706WUF.bed.gz: OK\n",
      "ENCFF209OQD.bed.gz: OK\n",
      "ENCFF891CHI.bed.gz: OK\n",
      "ENCFF689QIJ.bed.gz: OK\n"
     ]
    }
   ],
   "source": [
    "FPATH=${FD_OUT}/checksum_results.txt\n",
    "cat ${FPATH} | wc -l\n",
    "echo \n",
    "cat ${FPATH}"
   ]
  },
  {
   "cell_type": "code",
   "execution_count": 8,
   "id": "5e240279-5131-4f1e-9469-b3c71f2a68b5",
   "metadata": {},
   "outputs": [
    {
     "name": "stdout",
     "output_type": "stream",
     "text": [
      "/data/reddylab/Kuei/repo/Proj_ENCODE_FCC/log/download.encode_chipseq_histone.txt\n",
      "\n",
      "Hostname:           x2-08-1.genome.duke.edu\n",
      "Slurm Array Index: \n",
      "Time Stamp:         07-08-24+15:24:11\n",
      "\n",
      "Current directory:\n",
      "/data/reddylab/Kuei/repo/Proj_ENCODE_FCC/data/external/encode_chipseq_histone\n",
      "\n",
      "Download files...\n",
      "  % Total    % Received % Xferd  Average Speed   Time    Time     Time  Current\n",
      "                                 Dload  Upload   Total   Spent    Left  Speed\n",
      "100  1889  100  1889    0     0   3042      0 --:--:-- --:--:-- --:--:--  3041\n",
      "Warning: Refusing to overwrite ENCFF909RKY.bed.gz: File exists\n",
      "  1  802k    1 16384    0     0  14585      0  0:00:56  0:00:01  0:00:55 14585\n",
      "curl: (23) Failed writing body (0 != 16384)\n",
      "  % Total    % Received % Xferd  Average Speed   Time    Time     Time  Current\n",
      "                                 Dload  Upload   Total   Spent    Left  Speed\n",
      "100  1889  100  1889    0     0   3929      0 --:--:-- --:--:-- --:--:--  3927\n",
      "Warning: Refusing to overwrite ENCFF963GZJ.bed.gz: File exists\n",
      "  0  502k    0   485    0     0    495      0  0:17:18 --:--:--  0:17:18   495\n",
      "curl: (23) Failed writing body (0 != 485)\n",
      "  % Total    % Received % Xferd  Average Speed   Time    Time     Time  Current\n",
      "                                 Dload  Upload   Total   Spent    Left  Speed\n",
      "100  1891  100  1891    0     0   3793      0 --:--:-- --:--:-- --:--:--  3789\n",
      "Warning: Refusing to overwrite ENCFF213OTI.bed.gz: File exists\n",
      "  0 2778k    0 16384    0     0  16134      0  0:02:56  0:00:01  0:02:55 16134\n",
      "curl: (23) Failed writing body (0 != 16384)\n",
      "  % Total    % Received % Xferd  Average Speed   Time    Time     Time  Current\n",
      "                                 Dload  Upload   Total   Spent    Left  Speed\n",
      "100  1893  100  1893    0     0   4109      0 --:--:-- --:--:-- --:--:--  4106\n",
      "Warning: Refusing to overwrite ENCFF462AVD.bed.gz: File exists\n",
      "  3  201k    3  7651    0     0   8143      0  0:00:25 --:--:--  0:00:25  8143\n",
      "curl: (23) Failed writing body (0 != 7651)\n",
      "  % Total    % Received % Xferd  Average Speed   Time    Time     Time  Current\n",
      "                                 Dload  Upload   Total   Spent    Left  Speed\n",
      "100  1889  100  1889    0     0   3779      0 --:--:-- --:--:-- --:--:--  3778\n",
      "Warning: Refusing to overwrite ENCFF135ZLM.bed.gz: File exists\n",
      "  0 2287k    0   482    0     0    466      0  1:23:46  0:00:01  1:23:45   466\n",
      "curl: (23) Failed writing body (0 != 482)\n",
      "  % Total    % Received % Xferd  Average Speed   Time    Time     Time  Current\n",
      "                                 Dload  Upload   Total   Spent    Left  Speed\n",
      "100  1891  100  1891    0     0   3919      0 --:--:-- --:--:-- --:--:--  3915\n",
      "Warning: Refusing to overwrite ENCFF193ERO.bed.gz: File exists\n",
      "  0 3671k    0 15843    0     0  15147      0  0:04:08  0:00:01  0:04:07 15147\n",
      "curl: (23) Failed writing body (0 != 15843)\n",
      "  % Total    % Received % Xferd  Average Speed   Time    Time     Time  Current\n",
      "                                 Dload  Upload   Total   Spent    Left  Speed\n",
      "100  1893  100  1893    0     0   3871      0 --:--:-- --:--:-- --:--:--  3871\n",
      "Warning: Refusing to overwrite ENCFF749KLQ.bed.gz: File exists\n",
      "  0 1617k    0 15841    0     0  16581      0  0:01:39 --:--:--  0:01:39 16581\n",
      "curl: (23) Failed writing body (0 != 15841)\n",
      "  % Total    % Received % Xferd  Average Speed   Time    Time     Time  Current\n",
      "                                 Dload  Upload   Total   Spent    Left  Speed\n",
      "100  1891  100  1891    0     0   4036      0 --:--:-- --:--:-- --:--:--  4031\n",
      "Warning: Refusing to overwrite ENCFF148UQI.bed.gz: File exists\n",
      "  0 2742k    0  1506    0     0   1594      0  0:29:21 --:--:--  0:29:21  1594\n",
      "curl: (23) Failed writing body (0 != 1506)\n",
      "  % Total    % Received % Xferd  Average Speed   Time    Time     Time  Current\n",
      "                                 Dload  Upload   Total   Spent    Left  Speed\n",
      "100  1889  100  1889    0     0   3834      0 --:--:-- --:--:-- --:--:--  3831\n",
      "Warning: Refusing to overwrite ENCFF122CSI.bed.gz: File exists\n",
      "  1  647k    1  7651    0     0   7859      0  0:01:24 --:--:--  0:01:24  7859\n",
      "curl: (23) Failed writing body (0 != 7651)\n",
      "  % Total    % Received % Xferd  Average Speed   Time    Time     Time  Current\n",
      "                                 Dload  Upload   Total   Spent    Left  Speed\n",
      "100  1893  100  1893    0     0   3851      0 --:--:-- --:--:-- --:--:--  3847\n",
      "Warning: Refusing to overwrite ENCFF540NGG.bed.gz: File exists\n",
      "  0 2753k    0  1506    0     0   1469      0  0:31:59  0:00:01  0:31:58  1469\n",
      "curl: (23) Failed writing body (0 != 1506)\n",
      "  % Total    % Received % Xferd  Average Speed   Time    Time     Time  Current\n",
      "                                 Dload  Upload   Total   Spent    Left  Speed\n",
      "100  1891  100  1891    0     0   4120      0 --:--:-- --:--:-- --:--:--  4119\n",
      "Warning: Refusing to overwrite ENCFF323WOT.bed.gz: File exists\n",
      "  0 2346k    0  7651    0     0   7175      0  0:05:34  0:00:01  0:05:33  7175\n",
      "curl: (23) Failed writing body (0 != 7651)\n",
      "  % Total    % Received % Xferd  Average Speed   Time    Time     Time  Current\n",
      "                                 Dload  Upload   Total   Spent    Left  Speed\n",
      "100  1889  100  1889    0     0   3653      0 --:--:-- --:--:-- --:--:--  3653\n",
      "Warning: Refusing to overwrite ENCFF544LXB.bed.gz: File exists\n",
      "  0 1421k    0  1505    0     0   1503      0  0:16:08  0:00:01  0:16:07  1503\n",
      "curl: (23) Failed writing body (0 != 1505)\n",
      "  % Total    % Received % Xferd  Average Speed   Time    Time     Time  Current\n",
      "                                 Dload  Upload   Total   Spent    Left  Speed\n",
      "100  1889  100  1889    0     0   4168      0 --:--:-- --:--:-- --:--:--  4160\n",
      "Warning: Refusing to overwrite ENCFF561OUZ.bed.gz: File exists\n",
      "  0 1345k    0  8457    0     0   9390      0  0:02:26 --:--:--  0:02:26  9390\n",
      "curl: (23) Failed writing body (0 != 8457)\n",
      "  % Total    % Received % Xferd  Average Speed   Time    Time     Time  Current\n",
      "                                 Dload  Upload   Total   Spent    Left  Speed\n",
      "100  1889  100  1889    0     0   4050      0 --:--:-- --:--:-- --:--:--  4044\n",
      "Warning: Refusing to overwrite ENCFF801AHF.bed.gz: File exists\n",
      "  0 3112k    0 16384    0     0  16466      0  0:03:13 --:--:--  0:03:13 16466\n",
      "curl: (23) Failed writing body (0 != 16384)\n",
      "  % Total    % Received % Xferd  Average Speed   Time    Time     Time  Current\n",
      "                                 Dload  Upload   Total   Spent    Left  Speed\n",
      "100  1891  100  1891    0     0   4004      0 --:--:-- --:--:-- --:--:--  3997\n",
      "Warning: Refusing to overwrite ENCFF885FQN.bed.gz: File exists\n",
      "  0  595k    0  1508    0     0   1640      0  0:06:12 --:--:--  0:06:12  1640\n",
      "curl: (23) Failed writing body (0 != 1508)\n",
      "  % Total    % Received % Xferd  Average Speed   Time    Time     Time  Current\n",
      "                                 Dload  Upload   Total   Spent    Left  Speed\n",
      "100  1891  100  1891    0     0   4062      0 --:--:-- --:--:-- --:--:--  4057\n",
      "Warning: Refusing to overwrite ENCFF706WUF.bed.gz: File exists\n",
      "  2  748k    2 16384    0     0  17516      0  0:00:43 --:--:--  0:00:43 17516\n",
      "curl: (23) Failed writing body (0 != 16384)\n",
      "  % Total    % Received % Xferd  Average Speed   Time    Time     Time  Current\n",
      "                                 Dload  Upload   Total   Spent    Left  Speed\n",
      "100  1893  100  1893    0     0   4160      0 --:--:-- --:--:-- --:--:--  4169\n",
      "  0     0    0     0    0     0      0      0 --:--:-- --:--:-- --:--:--     0Warning: Refusing to overwrite ENCFF209OQD.bed.gz: File exists\n",
      "  0 1982k    0 16384    0     0  18160      0  0:01:51 --:--:--  0:01:51 45511\n",
      "curl: (23) Failed writing body (0 != 16384)\n",
      "  % Total    % Received % Xferd  Average Speed   Time    Time     Time  Current\n",
      "                                 Dload  Upload   Total   Spent    Left  Speed\n",
      "100  1889  100  1889    0     0   4126      0 --:--:-- --:--:-- --:--:--  4133\n",
      "  0     0    0     0    0     0      0      0 --:--:-- --:--:-- --:--:--     0Warning: Refusing to overwrite ENCFF891CHI.bed.gz: File exists\n",
      "  0 1003k    0  1505    0     0   1577      0  0:10:51 --:--:--  0:10:51  4659\n",
      "curl: (23) Failed writing body (0 != 1505)\n",
      "  % Total    % Received % Xferd  Average Speed   Time    Time     Time  Current\n",
      "                                 Dload  Upload   Total   Spent    Left  Speed\n",
      "100  1889  100  1889    0     0   4127      0 --:--:-- --:--:-- --:--:--  4133\n",
      "  0     0    0     0    0     0      0      0 --:--:-- --:--:-- --:--:--     0Warning: Refusing to overwrite ENCFF689QIJ.bed.gz: File exists\n",
      "  0 1085k    0  1506    0     0   1675      0  0:11:03 --:--:--  0:11:03  5619\n",
      "curl: (23) Failed writing body (0 != 1506)\n",
      "\n",
      "Checksum files...\n",
      "\n",
      "\n",
      "Done!\n",
      "Run Time: 20 seconds\n",
      "\n"
     ]
    }
   ],
   "source": [
    "echo ${FP_LOG}\n",
    "echo\n",
    "cat  ${FP_LOG}"
   ]
  }
 ],
 "metadata": {
  "kernelspec": {
   "display_name": "Bash",
   "language": "bash",
   "name": "bash"
  },
  "language_info": {
   "codemirror_mode": "shell",
   "file_extension": ".sh",
   "mimetype": "text/x-sh",
   "name": "bash"
  }
 },
 "nbformat": 4,
 "nbformat_minor": 5
}
