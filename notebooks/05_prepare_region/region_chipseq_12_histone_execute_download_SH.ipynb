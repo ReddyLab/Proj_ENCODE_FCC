{
 "cells": [
  {
   "cell_type": "raw",
   "id": "7cdbe2ab-5931-4509-add7-0a0adef5a4c0",
   "metadata": {},
   "source": [
    "---\n",
    "title: Prepare ENCODE ChIP-seq 12 (Histone)\n",
    "subtitle: Download the data\n",
    "format:\n",
    "    html:\n",
    "        code-fold:  true\n",
    "        code-tools: true\n",
    "---"
   ]
  },
  {
   "cell_type": "markdown",
   "id": "fa692d03-3d53-42e0-9c04-0b5c8ac28736",
   "metadata": {},
   "source": [
    "**set environment**"
   ]
  },
  {
   "cell_type": "code",
   "execution_count": 1,
   "id": "94818667-50c0-440a-be11-6733b9772a90",
   "metadata": {},
   "outputs": [
    {
     "name": "stdout",
     "output_type": "stream",
     "text": [
      "You are working on             Duke Server: RCC\n",
      "BASE DIRECTORY (FD_BASE):      /data/reddylab/Kuei\n",
      "REPO DIRECTORY (FD_REPO):      /data/reddylab/Kuei/repo\n",
      "WORK DIRECTORY (FD_WORK):      /data/reddylab/Kuei/work\n",
      "DATA DIRECTORY (FD_DATA):      /data/reddylab/Kuei/data\n",
      "CONTAINER DIR. (FD_SING):      /data/reddylab/Kuei/container\n",
      "\n",
      "You are working with           ENCODE FCC\n",
      "PATH OF PROJECT (FD_PRJ):      /data/reddylab/Kuei/repo/Proj_ENCODE_FCC\n",
      "PROJECT RESULTS (FD_RES):      /data/reddylab/Kuei/repo/Proj_ENCODE_FCC/results\n",
      "PROJECT SCRIPTS (FD_EXE):      /data/reddylab/Kuei/repo/Proj_ENCODE_FCC/scripts\n",
      "PROJECT DATA    (FD_DAT):      /data/reddylab/Kuei/repo/Proj_ENCODE_FCC/data\n",
      "PROJECT NOTE    (FD_NBK):      /data/reddylab/Kuei/repo/Proj_ENCODE_FCC/notebooks\n",
      "PROJECT DOCS    (FD_DOC):      /data/reddylab/Kuei/repo/Proj_ENCODE_FCC/docs\n",
      "PROJECT LOG     (FD_LOG):      /data/reddylab/Kuei/repo/Proj_ENCODE_FCC/log\n",
      "PROJECT REF     (FD_REF):      /data/reddylab/Kuei/repo/Proj_ENCODE_FCC/references\n",
      "PROJECT IMAGE   (FP_PRJ_SIF):  /data/reddylab/Kuei/container/project/singularity_proj_encode_fcc.sif\n",
      "PROJECT CONF.   (FP_CNF):      /data/reddylab/Kuei/repo/Proj_ENCODE_FCC/scripts/config_project.sh\n",
      "\n"
     ]
    }
   ],
   "source": [
    "source ../run_config_project.sh\n",
    "show_env"
   ]
  },
  {
   "cell_type": "markdown",
   "id": "698fd986-f8b4-4949-9dc2-eccafb9ba57e",
   "metadata": {},
   "source": [
    "## Prepare"
   ]
  },
  {
   "cell_type": "code",
   "execution_count": 2,
   "id": "0a6b6699-2fb7-4c53-b263-97d85f450c9f",
   "metadata": {},
   "outputs": [],
   "source": [
    "FD_DOWNLOAD=${FD_DAT}/external/encode_chipseq_histone_250120"
   ]
  },
  {
   "cell_type": "code",
   "execution_count": 3,
   "id": "45b29e0b-4973-4d99-9331-313d7ab75616",
   "metadata": {},
   "outputs": [
    {
     "name": "stdout",
     "output_type": "stream",
     "text": [
      "\u001b[0m\u001b[01;34mregion_narrowPeak\u001b[0m\n",
      "\u001b[01;34msignal_fold_change\u001b[0m\n",
      "\u001b[01;34msignal_pvalue\u001b[0m\n"
     ]
    }
   ],
   "source": [
    "ls -1 ${FD_DOWNLOAD}"
   ]
  },
  {
   "cell_type": "code",
   "execution_count": 4,
   "id": "f068e425-bd60-4066-85ca-6a9d0a51d1eb",
   "metadata": {},
   "outputs": [
    {
     "name": "stdout",
     "output_type": "stream",
     "text": [
      "/data/reddylab/Kuei/repo/Proj_ENCODE_FCC/data/external/encode_chipseq_histone_250120/region_narrowPeak/checksum_md5sum.txt\n",
      "/data/reddylab/Kuei/repo/Proj_ENCODE_FCC/data/external/encode_chipseq_histone_250120/region_narrowPeak/files.txt\n",
      "/data/reddylab/Kuei/repo/Proj_ENCODE_FCC/data/external/encode_chipseq_histone_250120/signal_fold_change/checksum_md5sum.txt\n",
      "/data/reddylab/Kuei/repo/Proj_ENCODE_FCC/data/external/encode_chipseq_histone_250120/signal_fold_change/files.txt\n",
      "/data/reddylab/Kuei/repo/Proj_ENCODE_FCC/data/external/encode_chipseq_histone_250120/signal_pvalue/checksum_md5sum.txt\n",
      "/data/reddylab/Kuei/repo/Proj_ENCODE_FCC/data/external/encode_chipseq_histone_250120/signal_pvalue/files.txt\n"
     ]
    }
   ],
   "source": [
    "ls -1 ${FD_DOWNLOAD}/*/*.txt"
   ]
  },
  {
   "cell_type": "markdown",
   "id": "2fe8a050-3046-40d0-975f-9e106cba28b2",
   "metadata": {},
   "source": [
    "## Execute"
   ]
  },
  {
   "cell_type": "markdown",
   "id": "11fc70aa-7cea-4e60-b09b-1a0fe5602d81",
   "metadata": {},
   "source": [
    "**View scripts**"
   ]
  },
  {
   "cell_type": "code",
   "execution_count": 5,
   "id": "66671551-2687-4e19-acbf-ea310f0f344d",
   "metadata": {},
   "outputs": [
    {
     "name": "stdout",
     "output_type": "stream",
     "text": [
      "#!/bin/bash\n",
      "\n",
      "### print start message\n",
      "timer_start=`date +%s`\n",
      "echo \"Hostname:          \" $(hostname)\n",
      "echo \"Slurm Array Index: \" ${SLURM_ARRAY_TASK_ID}\n",
      "echo \"Time Stamp:        \" $(date +\"%m-%d-%y+%T\")\n",
      "echo\n",
      "\n",
      "### get arguments\n",
      "FP_CNF=${1}\n",
      "FP_DOWNLOAD_FILE_LIST=${2}\n",
      "FD_DOWNLOAD_DIRECTORY=${3}\n",
      "\n",
      "### set environment\n",
      "source ${FP_CNF}\n",
      "\n",
      "### show I/O\n",
      "cd   ${FD_DOWNLOAD_DIRECTORY}\n",
      "echo \"Change directory:\"\n",
      "echo $(pwd)\n",
      "echo\n",
      "\n",
      "### execute: download file\n",
      "echo \"Download files...\"\n",
      "xargs -L 1 curl -O -J -L < ${FP_DOWNLOAD_FILE_LIST}\n",
      "echo\n",
      "\n",
      "### print end message\n",
      "timer=`date +%s`\n",
      "runtime=$(echo \"${timer} - ${timer_start}\" | bc -l)\n",
      "echo\n",
      "echo 'Done!'\n",
      "echo \"Run Time: $(displaytime ${runtime})\"\n",
      "echo\n"
     ]
    }
   ],
   "source": [
    "FN_EXE=run_download_files.sh\n",
    "FP_EXE=${FD_EXE}/${FN_EXE}\n",
    "\n",
    "cat ${FP_EXE}"
   ]
  },
  {
   "cell_type": "code",
   "execution_count": 6,
   "id": "05bd0aac-a1ed-42e7-8d20-1cac7efa7b25",
   "metadata": {},
   "outputs": [
    {
     "name": "stdout",
     "output_type": "stream",
     "text": [
      "#!/bin/bash\n",
      "\n",
      "### print start message\n",
      "timer_start=`date +%s`\n",
      "echo \"Hostname:          \" $(hostname)\n",
      "echo \"Slurm Array Index: \" ${SLURM_ARRAY_TASK_ID}\n",
      "echo \"Time Stamp:        \" $(date +\"%m-%d-%y+%T\")\n",
      "echo\n",
      "\n",
      "### get arguments\n",
      "FP_CNF=${1}\n",
      "FD_CHECKSUM=${2}\n",
      "FP_CHECKSUM_INP=${3}\n",
      "FP_CHECKSUM_OUT=${4}\n",
      "\n",
      "### set environment\n",
      "source ${FP_CNF}\n",
      "\n",
      "### show I/O\n",
      "cd   ${FD_CHECKSUM}\n",
      "echo \"Change directory:\"\n",
      "echo $(pwd)\n",
      "echo\n",
      "\n",
      "### execute: checksum\n",
      "echo \"Checksum files...\"\n",
      "md5sum -c ${FP_CHECKSUM_INP} > ${FP_CHECKSUM_OUT}\n",
      "echo\n",
      "\n",
      "### print end message\n",
      "timer=`date +%s`\n",
      "runtime=$(echo \"${timer} - ${timer_start}\" | bc -l)\n",
      "echo\n",
      "echo 'Done!'\n",
      "echo \"Run Time: $(displaytime ${runtime})\"\n",
      "echo\n"
     ]
    }
   ],
   "source": [
    "FN_EXE=run_checksum_files.sh\n",
    "FP_EXE=${FD_EXE}/${FN_EXE}\n",
    "\n",
    "cat ${FP_EXE}"
   ]
  },
  {
   "cell_type": "markdown",
   "id": "1e288a49-cd13-4212-9b72-957e5beecda4",
   "metadata": {},
   "source": [
    "**Test Loop**"
   ]
  },
  {
   "cell_type": "code",
   "execution_count": 7,
   "id": "316efe9d-50dc-4d7f-9278-16251720d623",
   "metadata": {},
   "outputs": [
    {
     "name": "stdout",
     "output_type": "stream",
     "text": [
      "region_narrowPeak\n",
      "/data/reddylab/Kuei/repo/Proj_ENCODE_FCC/data/external/encode_chipseq_histone_250120/region_narrowPeak\n",
      "/data/reddylab/Kuei/repo/Proj_ENCODE_FCC/data/external/encode_chipseq_histone_250120/region_narrowPeak\n",
      "/data/reddylab/Kuei/repo/Proj_ENCODE_FCC/data/external/encode_chipseq_histone_250120/region_narrowPeak/files.txt\n",
      "/data/reddylab/Kuei/repo/Proj_ENCODE_FCC/log/download.encode_chipseq_histone_250120.region_narrowPeak.txt\n",
      "\n",
      "https://www.encodeproject.org/files/ENCFF689QIJ/@@download/ENCFF689QIJ.bed.gz\n",
      "https://www.encodeproject.org/files/ENCFF323WOT/@@download/ENCFF323WOT.bed.gz\n",
      "https://www.encodeproject.org/files/ENCFF540NGG/@@download/ENCFF540NGG.bed.gz\n",
      "\n",
      "signal_fold_change\n",
      "/data/reddylab/Kuei/repo/Proj_ENCODE_FCC/data/external/encode_chipseq_histone_250120/signal_fold_change\n",
      "/data/reddylab/Kuei/repo/Proj_ENCODE_FCC/data/external/encode_chipseq_histone_250120/signal_fold_change\n",
      "/data/reddylab/Kuei/repo/Proj_ENCODE_FCC/data/external/encode_chipseq_histone_250120/signal_fold_change/files.txt\n",
      "/data/reddylab/Kuei/repo/Proj_ENCODE_FCC/log/download.encode_chipseq_histone_250120.signal_fold_change.txt\n",
      "\n",
      "https://www.encodeproject.org/files/ENCFF544AVW/@@download/ENCFF544AVW.bigWig\n",
      "https://www.encodeproject.org/files/ENCFF286WRJ/@@download/ENCFF286WRJ.bigWig\n",
      "https://www.encodeproject.org/files/ENCFF621DJP/@@download/ENCFF621DJP.bigWig\n",
      "\n",
      "signal_pvalue\n",
      "/data/reddylab/Kuei/repo/Proj_ENCODE_FCC/data/external/encode_chipseq_histone_250120/signal_pvalue\n",
      "/data/reddylab/Kuei/repo/Proj_ENCODE_FCC/data/external/encode_chipseq_histone_250120/signal_pvalue\n",
      "/data/reddylab/Kuei/repo/Proj_ENCODE_FCC/data/external/encode_chipseq_histone_250120/signal_pvalue/files.txt\n",
      "/data/reddylab/Kuei/repo/Proj_ENCODE_FCC/log/download.encode_chipseq_histone_250120.signal_pvalue.txt\n",
      "\n",
      "https://www.encodeproject.org/files/ENCFF767UON/@@download/ENCFF767UON.bigWig\n",
      "https://www.encodeproject.org/files/ENCFF582IMB/@@download/ENCFF582IMB.bigWig\n",
      "https://www.encodeproject.org/files/ENCFF287LBI/@@download/ENCFF287LBI.bigWig\n",
      "\n"
     ]
    }
   ],
   "source": [
    "FN_EXE=run_download_files.sh\n",
    "FP_EXE=${FD_EXE}/${FN_EXE}\n",
    "\n",
    "FDIRY=${FD_DOWNLOAD}\n",
    "FP_INPS=($(ls ${FDIRY}/*/files*txt))\n",
    "\n",
    "for FP_INP in ${FP_INPS[@]}; do\n",
    "    ### set I/O\n",
    "    FD_INP=$(dirname  ${FP_INP})\n",
    "    FOLDER=$(basename ${FD_INP})\n",
    "    FD_OUT=${FD_INP}\n",
    "    \n",
    "    ### set log file\n",
    "    FN_LOG=download.encode_chipseq_histone_250120.${FOLDER}.txt\n",
    "    FP_LOG=${FD_LOG}/${FN_LOG}\n",
    "    \n",
    "    ### show progress\n",
    "    echo ${FOLDER}\n",
    "    echo ${FD_INP}\n",
    "    echo ${FD_OUT}\n",
    "    echo ${FP_INP}\n",
    "    echo ${FP_LOG}\n",
    "    echo\n",
    "    \n",
    "    ### execute\n",
    "    head -n 3 ${FP_INP}\n",
    "    echo\n",
    "done"
   ]
  },
  {
   "cell_type": "code",
   "execution_count": 8,
   "id": "c169fea2-e751-4875-9c49-86c7e0e2a046",
   "metadata": {},
   "outputs": [
    {
     "name": "stdout",
     "output_type": "stream",
     "text": [
      "region_narrowPeak\n",
      "/data/reddylab/Kuei/repo/Proj_ENCODE_FCC/data/external/encode_chipseq_histone_250120/region_narrowPeak\n",
      "/data/reddylab/Kuei/repo/Proj_ENCODE_FCC/data/external/encode_chipseq_histone_250120/region_narrowPeak\n",
      "/data/reddylab/Kuei/repo/Proj_ENCODE_FCC/data/external/encode_chipseq_histone_250120/region_narrowPeak/checksum_md5sum.txt\n",
      "/data/reddylab/Kuei/repo/Proj_ENCODE_FCC/data/external/encode_chipseq_histone_250120/region_narrowPeak/checksum_results.txt\n",
      "/data/reddylab/Kuei/repo/Proj_ENCODE_FCC/log/checksum.encode_chipseq_histone_250120.region_narrowPeak.txt\n",
      "\n",
      "5dea2993c0831ae344a989d601c09178\tENCFF689QIJ.bed.gz\n",
      "4422969d0b63260e2fcb83e10fdcc02f\tENCFF323WOT.bed.gz\n",
      "63db47e5b9b98dbebff2ce20df066106\tENCFF540NGG.bed.gz\n",
      "\n",
      "signal_fold_change\n",
      "/data/reddylab/Kuei/repo/Proj_ENCODE_FCC/data/external/encode_chipseq_histone_250120/signal_fold_change\n",
      "/data/reddylab/Kuei/repo/Proj_ENCODE_FCC/data/external/encode_chipseq_histone_250120/signal_fold_change\n",
      "/data/reddylab/Kuei/repo/Proj_ENCODE_FCC/data/external/encode_chipseq_histone_250120/signal_fold_change/checksum_md5sum.txt\n",
      "/data/reddylab/Kuei/repo/Proj_ENCODE_FCC/data/external/encode_chipseq_histone_250120/signal_fold_change/checksum_results.txt\n",
      "/data/reddylab/Kuei/repo/Proj_ENCODE_FCC/log/checksum.encode_chipseq_histone_250120.signal_fold_change.txt\n",
      "\n",
      "61dc50179ae8d880b972c3697a6a2fc2\tENCFF544AVW.bigWig\n",
      "ccd7b8c413fdb998ffd799ec52dd5098\tENCFF286WRJ.bigWig\n",
      "3492c0e4a64e29231558f9e1e2fe520e\tENCFF621DJP.bigWig\n",
      "\n",
      "signal_pvalue\n",
      "/data/reddylab/Kuei/repo/Proj_ENCODE_FCC/data/external/encode_chipseq_histone_250120/signal_pvalue\n",
      "/data/reddylab/Kuei/repo/Proj_ENCODE_FCC/data/external/encode_chipseq_histone_250120/signal_pvalue\n",
      "/data/reddylab/Kuei/repo/Proj_ENCODE_FCC/data/external/encode_chipseq_histone_250120/signal_pvalue/checksum_md5sum.txt\n",
      "/data/reddylab/Kuei/repo/Proj_ENCODE_FCC/data/external/encode_chipseq_histone_250120/signal_pvalue/checksum_results.txt\n",
      "/data/reddylab/Kuei/repo/Proj_ENCODE_FCC/log/checksum.encode_chipseq_histone_250120.signal_pvalue.txt\n",
      "\n",
      "4c102d45be8326062895ed0a03d4ded7\tENCFF767UON.bigWig\n",
      "2ca48f44075eef7118a387260f2f95b9\tENCFF582IMB.bigWig\n",
      "28df1a757a2e5517209c10d57f0ce03e\tENCFF287LBI.bigWig\n",
      "\n"
     ]
    }
   ],
   "source": [
    "FN_EXE=run_checksum_files.sh\n",
    "FP_EXE=${FD_EXE}/${FN_EXE}\n",
    "\n",
    "FDIRY=${FD_DOWNLOAD}\n",
    "FP_INPS=($(ls ${FDIRY}/*/checksum*txt))\n",
    "\n",
    "for FP_INP in ${FP_INPS[@]}; do\n",
    "    ### set I/O\n",
    "    FD_INP=$(dirname  ${FP_INP})\n",
    "    FOLDER=$(basename ${FD_INP})\n",
    "    FD_OUT=${FD_INP}\n",
    "    FP_OUT=${FD_OUT}/checksum_results.txt\n",
    "    \n",
    "    ### set log file\n",
    "    FN_LOG=checksum.encode_chipseq_histone_250120.${FOLDER}.txt\n",
    "    FP_LOG=${FD_LOG}/${FN_LOG}\n",
    "    \n",
    "    ### show progress\n",
    "    echo ${FOLDER}\n",
    "    echo ${FD_INP}\n",
    "    echo ${FD_OUT}\n",
    "    echo ${FP_INP}\n",
    "    echo ${FP_OUT}\n",
    "    echo ${FP_LOG}\n",
    "    echo\n",
    "    \n",
    "    ### execute\n",
    "    head -n 3 ${FP_INP}\n",
    "    echo\n",
    "done"
   ]
  },
  {
   "cell_type": "markdown",
   "id": "10b8dbdd-d0c6-4932-85c6-1b3ffb7c6a77",
   "metadata": {},
   "source": [
    "**Run: Downloading files**"
   ]
  },
  {
   "cell_type": "code",
   "execution_count": 20,
   "id": "d20b4fd6-92bc-46fc-af78-102df651233a",
   "metadata": {},
   "outputs": [
    {
     "name": "stdout",
     "output_type": "stream",
     "text": [
      "region_narrowPeak\n",
      "/data/reddylab/Kuei/repo/Proj_ENCODE_FCC/data/external/encode_chipseq_histone_250120/region_narrowPeak\n",
      "/data/reddylab/Kuei/repo/Proj_ENCODE_FCC/data/external/encode_chipseq_histone_250120/region_narrowPeak\n",
      "/data/reddylab/Kuei/repo/Proj_ENCODE_FCC/data/external/encode_chipseq_histone_250120/region_narrowPeak/files.txt\n",
      "/data/reddylab/Kuei/repo/Proj_ENCODE_FCC/log/download.encode_chipseq_histone_250120.region_narrowPeak.txt\n",
      "\n",
      "Submitted batch job 68161\n",
      "\n",
      "signal_fold_change\n",
      "/data/reddylab/Kuei/repo/Proj_ENCODE_FCC/data/external/encode_chipseq_histone_250120/signal_fold_change\n",
      "/data/reddylab/Kuei/repo/Proj_ENCODE_FCC/data/external/encode_chipseq_histone_250120/signal_fold_change\n",
      "/data/reddylab/Kuei/repo/Proj_ENCODE_FCC/data/external/encode_chipseq_histone_250120/signal_fold_change/files.txt\n",
      "/data/reddylab/Kuei/repo/Proj_ENCODE_FCC/log/download.encode_chipseq_histone_250120.signal_fold_change.txt\n",
      "\n",
      "Submitted batch job 68162\n",
      "\n",
      "signal_pvalue\n",
      "/data/reddylab/Kuei/repo/Proj_ENCODE_FCC/data/external/encode_chipseq_histone_250120/signal_pvalue\n",
      "/data/reddylab/Kuei/repo/Proj_ENCODE_FCC/data/external/encode_chipseq_histone_250120/signal_pvalue\n",
      "/data/reddylab/Kuei/repo/Proj_ENCODE_FCC/data/external/encode_chipseq_histone_250120/signal_pvalue/files.txt\n",
      "/data/reddylab/Kuei/repo/Proj_ENCODE_FCC/log/download.encode_chipseq_histone_250120.signal_pvalue.txt\n",
      "\n",
      "Submitted batch job 68163\n",
      "\n"
     ]
    }
   ],
   "source": [
    "FN_EXE=run_download_files.sh\n",
    "FP_EXE=${FD_EXE}/${FN_EXE}\n",
    "\n",
    "FDIRY=${FD_DOWNLOAD}\n",
    "FP_INPS=($(ls ${FDIRY}/*/files*txt))\n",
    "\n",
    "for FP_INP in ${FP_INPS[@]}; do\n",
    "    ### set I/O\n",
    "    FD_INP=$(dirname  ${FP_INP})\n",
    "    FOLDER=$(basename ${FD_INP})\n",
    "    FD_OUT=${FD_INP}\n",
    "    \n",
    "    ### set log file\n",
    "    FN_LOG=download.encode_chipseq_histone_250120.${FOLDER}.txt\n",
    "    FP_LOG=${FD_LOG}/${FN_LOG}\n",
    "    \n",
    "    ### show progress\n",
    "    echo ${FOLDER}\n",
    "    echo ${FD_INP}\n",
    "    echo ${FD_OUT}\n",
    "    echo ${FP_INP}\n",
    "    echo ${FP_LOG}\n",
    "    echo\n",
    "    \n",
    "    ### execute\n",
    "    sbatch \\\n",
    "        --cpus-per-task 4 \\\n",
    "        --mem 4G \\\n",
    "        --output ${FP_LOG} \\\n",
    "        ${FP_EXE} ${FP_CNF} ${FP_INP} ${FD_OUT}\n",
    "    echo\n",
    "done"
   ]
  },
  {
   "cell_type": "markdown",
   "id": "e37b6fbd-25f1-4f19-99aa-736223d3bee5",
   "metadata": {},
   "source": [
    "scancel 68153 68154"
   ]
  },
  {
   "cell_type": "markdown",
   "id": "0a50e746-6e74-4a3e-9287-42f4e0306762",
   "metadata": {},
   "source": [
    "```\n",
    "fold change\n",
    "ENCFF806YEZ.bigWig\n",
    "pvalue\n",
    "ENCFF334HSS.bigWig\n",
    "```"
   ]
  },
  {
   "cell_type": "markdown",
   "id": "bcf4ec2e-88f1-4239-bb5c-f117df319b78",
   "metadata": {},
   "source": [
    "**Run: Checksum files**"
   ]
  },
  {
   "cell_type": "code",
   "execution_count": 22,
   "id": "9f672324-e87f-4fca-99ec-2c4310aa1a90",
   "metadata": {},
   "outputs": [
    {
     "name": "stdout",
     "output_type": "stream",
     "text": [
      "region_narrowPeak\n",
      "/data/reddylab/Kuei/repo/Proj_ENCODE_FCC/data/external/encode_chipseq_histone_250120/region_narrowPeak\n",
      "/data/reddylab/Kuei/repo/Proj_ENCODE_FCC/data/external/encode_chipseq_histone_250120/region_narrowPeak\n",
      "/data/reddylab/Kuei/repo/Proj_ENCODE_FCC/data/external/encode_chipseq_histone_250120/region_narrowPeak/checksum_md5sum.txt\n",
      "/data/reddylab/Kuei/repo/Proj_ENCODE_FCC/data/external/encode_chipseq_histone_250120/region_narrowPeak/checksum_results.txt\n",
      "/data/reddylab/Kuei/repo/Proj_ENCODE_FCC/log/checksum.encode_chipseq_histone_250120.region_narrowPeak.txt\n",
      "\n",
      "Submitted batch job 68170\n",
      "\n",
      "signal_fold_change\n",
      "/data/reddylab/Kuei/repo/Proj_ENCODE_FCC/data/external/encode_chipseq_histone_250120/signal_fold_change\n",
      "/data/reddylab/Kuei/repo/Proj_ENCODE_FCC/data/external/encode_chipseq_histone_250120/signal_fold_change\n",
      "/data/reddylab/Kuei/repo/Proj_ENCODE_FCC/data/external/encode_chipseq_histone_250120/signal_fold_change/checksum_md5sum.txt\n",
      "/data/reddylab/Kuei/repo/Proj_ENCODE_FCC/data/external/encode_chipseq_histone_250120/signal_fold_change/checksum_results.txt\n",
      "/data/reddylab/Kuei/repo/Proj_ENCODE_FCC/log/checksum.encode_chipseq_histone_250120.signal_fold_change.txt\n",
      "\n",
      "Submitted batch job 68171\n",
      "\n",
      "signal_pvalue\n",
      "/data/reddylab/Kuei/repo/Proj_ENCODE_FCC/data/external/encode_chipseq_histone_250120/signal_pvalue\n",
      "/data/reddylab/Kuei/repo/Proj_ENCODE_FCC/data/external/encode_chipseq_histone_250120/signal_pvalue\n",
      "/data/reddylab/Kuei/repo/Proj_ENCODE_FCC/data/external/encode_chipseq_histone_250120/signal_pvalue/checksum_md5sum.txt\n",
      "/data/reddylab/Kuei/repo/Proj_ENCODE_FCC/data/external/encode_chipseq_histone_250120/signal_pvalue/checksum_results.txt\n",
      "/data/reddylab/Kuei/repo/Proj_ENCODE_FCC/log/checksum.encode_chipseq_histone_250120.signal_pvalue.txt\n",
      "\n",
      "Submitted batch job 68172\n",
      "\n"
     ]
    }
   ],
   "source": [
    "FN_EXE=run_checksum_files.sh\n",
    "FP_EXE=${FD_EXE}/${FN_EXE}\n",
    "\n",
    "FDIRY=${FD_DOWNLOAD}\n",
    "FP_INPS=($(ls ${FDIRY}/*/checksum_md5sum*txt))\n",
    "\n",
    "for FP_INP in ${FP_INPS[@]}; do\n",
    "    ### set I/O\n",
    "    FD_INP=$(dirname  ${FP_INP})\n",
    "    FOLDER=$(basename ${FD_INP})\n",
    "    FD_OUT=${FD_INP}\n",
    "    FP_OUT=${FD_OUT}/checksum_results.txt\n",
    "    \n",
    "    ### set log file\n",
    "    FN_LOG=checksum.encode_chipseq_histone_250120.${FOLDER}.txt\n",
    "    FP_LOG=${FD_LOG}/${FN_LOG}\n",
    "    \n",
    "    ### show progress\n",
    "    echo ${FOLDER}\n",
    "    echo ${FD_INP}\n",
    "    echo ${FD_OUT}\n",
    "    echo ${FP_INP}\n",
    "    echo ${FP_OUT}\n",
    "    echo ${FP_LOG}\n",
    "    echo\n",
    "    \n",
    "    ### execute\n",
    "    sbatch \\\n",
    "        --cpus-per-task 4 \\\n",
    "        --mem 4G \\\n",
    "        --output ${FP_LOG} \\\n",
    "        ${FP_EXE} ${FP_CNF} ${FD_OUT} ${FP_INP} ${FP_OUT}\n",
    "    echo\n",
    "done"
   ]
  },
  {
   "cell_type": "markdown",
   "id": "33b3354d-af5e-4b06-b6ce-80c5329b611a",
   "metadata": {},
   "source": [
    "## Review"
   ]
  },
  {
   "cell_type": "code",
   "execution_count": 23,
   "id": "ef9ce258-82fa-4702-8114-5dc24325579e",
   "metadata": {},
   "outputs": [
    {
     "name": "stdout",
     "output_type": "stream",
     "text": [
      "/data/reddylab/Kuei/repo/Proj_ENCODE_FCC/data/external/encode_chipseq_histone_250120\n",
      "\n",
      "19\n",
      "\n",
      "ENCFF689QIJ.bed.gz: OK\n",
      "ENCFF323WOT.bed.gz: OK\n",
      "ENCFF540NGG.bed.gz: OK\n",
      "ENCFF462AVD.bed.gz: OK\n",
      "ENCFF749KLQ.bed.gz: OK\n",
      "ENCFF909RKY.bed.gz: OK\n",
      "ENCFF209OQD.bed.gz: OK\n",
      "ENCFF891CHI.bed.gz: OK\n",
      "ENCFF148UQI.bed.gz: OK\n",
      "ENCFF706WUF.bed.gz: OK\n",
      "ENCFF122CSI.bed.gz: OK\n",
      "ENCFF213OTI.bed.gz: OK\n",
      "ENCFF193ERO.bed.gz: OK\n",
      "ENCFF801AHF.bed.gz: OK\n",
      "ENCFF544LXB.bed.gz: OK\n",
      "ENCFF561OUZ.bed.gz: OK\n",
      "ENCFF885FQN.bed.gz: OK\n",
      "ENCFF963GZJ.bed.gz: OK\n",
      "ENCFF135ZLM.bed.gz: OK\n"
     ]
    }
   ],
   "source": [
    "echo ${FD_DOWNLOAD}\n",
    "echo\n",
    "FPATH=${FD_DOWNLOAD}/region_narrowPeak/checksum_results.txt\n",
    "cat ${FPATH} | wc -l\n",
    "echo \n",
    "cat ${FPATH}"
   ]
  },
  {
   "cell_type": "code",
   "execution_count": 24,
   "id": "3eaf0566-4a1a-470a-adb3-21c5670a3ad9",
   "metadata": {},
   "outputs": [
    {
     "name": "stdout",
     "output_type": "stream",
     "text": [
      "/data/reddylab/Kuei/repo/Proj_ENCODE_FCC/data/external/encode_chipseq_histone_250120\n",
      "\n",
      "19\n",
      "\n",
      "ENCFF544AVW.bigWig: OK\n",
      "ENCFF286WRJ.bigWig: OK\n",
      "ENCFF621DJP.bigWig: OK\n",
      "ENCFF959YJV.bigWig: OK\n",
      "ENCFF911JVK.bigWig: OK\n",
      "ENCFF242ENK.bigWig: OK\n",
      "ENCFF806YEZ.bigWig: OK\n",
      "ENCFF583BKU.bigWig: OK\n",
      "ENCFF660WUG.bigWig: OK\n",
      "ENCFF605FAF.bigWig: OK\n",
      "ENCFF654SLZ.bigWig: OK\n",
      "ENCFF317VHO.bigWig: OK\n",
      "ENCFF139KZL.bigWig: OK\n",
      "ENCFF399SGM.bigWig: OK\n",
      "ENCFF347YYH.bigWig: OK\n",
      "ENCFF381NDD.bigWig: OK\n",
      "ENCFF607SUJ.bigWig: OK\n",
      "ENCFF601JGK.bigWig: OK\n",
      "ENCFF253TOF.bigWig: OK\n"
     ]
    }
   ],
   "source": [
    "echo ${FD_DOWNLOAD}\n",
    "echo\n",
    "FPATH=${FD_DOWNLOAD}/signal_fold_change/checksum_results.txt\n",
    "cat ${FPATH} | wc -l\n",
    "echo \n",
    "cat ${FPATH}"
   ]
  },
  {
   "cell_type": "code",
   "execution_count": 25,
   "id": "07e062f3-8e65-443f-9b7e-4a84a263bb27",
   "metadata": {},
   "outputs": [
    {
     "name": "stdout",
     "output_type": "stream",
     "text": [
      "/data/reddylab/Kuei/repo/Proj_ENCODE_FCC/data/external/encode_chipseq_histone_250120\n",
      "\n",
      "19\n",
      "\n",
      "ENCFF767UON.bigWig: OK\n",
      "ENCFF582IMB.bigWig: OK\n",
      "ENCFF287LBI.bigWig: OK\n",
      "ENCFF220RGS.bigWig: OK\n",
      "ENCFF054RSU.bigWig: OK\n",
      "ENCFF694ODT.bigWig: OK\n",
      "ENCFF334HSS.bigWig: OK\n",
      "ENCFF239EBH.bigWig: OK\n",
      "ENCFF178QDA.bigWig: OK\n",
      "ENCFF071GML.bigWig: OK\n",
      "ENCFF461RKK.bigWig: OK\n",
      "ENCFF202EVH.bigWig: OK\n",
      "ENCFF605EVL.bigWig: OK\n",
      "ENCFF847BFA.bigWig: OK\n",
      "ENCFF465GBD.bigWig: OK\n",
      "ENCFF633OZC.bigWig: OK\n",
      "ENCFF405ZDL.bigWig: OK\n",
      "ENCFF632NQA.bigWig: OK\n",
      "ENCFF457URZ.bigWig: OK\n"
     ]
    }
   ],
   "source": [
    "echo ${FD_DOWNLOAD}\n",
    "echo\n",
    "FPATH=${FD_DOWNLOAD}/signal_pvalue/checksum_results.txt\n",
    "cat ${FPATH} | wc -l\n",
    "echo \n",
    "cat ${FPATH}"
   ]
  },
  {
   "cell_type": "code",
   "execution_count": null,
   "id": "9fadc3e6-0335-4325-abbb-35f196fadf73",
   "metadata": {},
   "outputs": [],
   "source": []
  },
  {
   "cell_type": "code",
   "execution_count": null,
   "id": "9b418d8a-3a47-476c-950b-67132aa502e4",
   "metadata": {},
   "outputs": [],
   "source": []
  },
  {
   "cell_type": "code",
   "execution_count": null,
   "id": "87808e86-cd12-4611-a08c-004c9dee0cdc",
   "metadata": {},
   "outputs": [],
   "source": []
  },
  {
   "cell_type": "code",
   "execution_count": null,
   "id": "9f991078-9aed-4338-a1e9-f14500f0065f",
   "metadata": {},
   "outputs": [],
   "source": [
    "FN_EXE=run_checksum_files.sh\n",
    "FP_EXE=${FD_EXE}/${FN_EXE}\n",
    "\n",
    "FN_LOG=checksum.encode_chipseq_tf.bed.txt\n",
    "FP_LOG=${FD_LOG}/${FN_LOG}\n",
    "\n",
    "sbatch \\\n",
    "    --cpus-per-task 4 \\\n",
    "    --mem 4G \\\n",
    "    --output ${FP_LOG} \\\n",
    "    ${FP_EXE} ${FP_CNF} ${FD_OUT} ${FD_OUT}/checksum_md5sum.bed.txt ${FD_OUT}/checksum_results.bed.txt"
   ]
  },
  {
   "cell_type": "code",
   "execution_count": null,
   "id": "ea3c82ee-03de-45b6-957d-b9a65b7c193b",
   "metadata": {},
   "outputs": [],
   "source": []
  },
  {
   "cell_type": "code",
   "execution_count": null,
   "id": "67424cad-a0c7-4b8f-9a39-1aa6a9862ad8",
   "metadata": {},
   "outputs": [],
   "source": [
    "FN_EXE=run_download_files.sh\n",
    "FP_EXE=${FD_EXE}/${FN_EXE}\n",
    "\n",
    "FP_INPS=($(ls ${FD_OUT}/files_bwg*txt))\n",
    "for FP_INP in ${FP_INPS[@]}; do\n",
    "\n",
    "    ### set I/O and log files\n",
    "    FN_INP=$(basename ${FP_INP})\n",
    "    FN_LOG=download.encode_chipseq_tf.${FN_INP}.txt\n",
    "    FP_LOG=${FD_LOG}/${FN_LOG}\n",
    "    echo ${FN_LOG}\n",
    "\n",
    "    ### execute\n",
    "    sbatch \\\n",
    "        --cpus-per-task 4 \\\n",
    "        --mem 4G \\\n",
    "        --output ${FP_LOG} \\\n",
    "        ${FP_EXE} ${FP_CNF} ${FP_INP} ${FD_OUT}\n",
    "    echo\n",
    "done"
   ]
  },
  {
   "cell_type": "code",
   "execution_count": 5,
   "id": "65ff5fc0-bbd3-4736-ba0a-33c1c59ebe0b",
   "metadata": {},
   "outputs": [
    {
     "name": "stdout",
     "output_type": "stream",
     "text": [
      "Submitted batch job 65117\n"
     ]
    }
   ],
   "source": [
    "FN_LOG=download.encode_chipseq_histone.txt\n",
    "FP_LOG=${FD_LOG}/${FN_LOG}\n",
    "\n",
    "sbatch \\\n",
    "    --cpus-per-task 4 \\\n",
    "    --mem 4G \\\n",
    "    --output ${FP_LOG} \\\n",
    "    --export=FD_PRJ=${FD_PRJ} \\\n",
    "    << 'EOF'\n",
    "#!/bin/bash\n",
    "\n",
    "### print start message\n",
    "timer_start=`date +%s`\n",
    "echo \"Hostname:          \" $(hostname)\n",
    "echo \"Slurm Array Index: \" ${SLURM_ARRAY_TASK_ID}\n",
    "echo \"Time Stamp:        \" $(date +\"%m-%d-%y+%T\")\n",
    "echo\n",
    "\n",
    "### set environment\n",
    "source ${FD_PRJ}/scripts/config_project.sh\n",
    "\n",
    "### set I/O\n",
    "FD_OUT=${FD_DAT}/external/encode_chipseq_histone_241223\n",
    "cd ${FD_OUT}\n",
    "\n",
    "### show I/O\n",
    "echo \"Current directory:\"\n",
    "echo $(pwd)\n",
    "echo\n",
    "\n",
    "### execute: download file\n",
    "echo \"Download files...\"\n",
    "xargs -L 1 curl -O -J -L < files.txt\n",
    "echo\n",
    "\n",
    "### execute: checksum\n",
    "echo \"Checksum files...\"\n",
    "md5sum -c checksum_md5sum.txt > checksum_results.txt\n",
    "echo\n",
    "\n",
    "### print end message\n",
    "timer=`date +%s`\n",
    "runtime=$(echo \"${timer} - ${timer_start}\" | bc -l)\n",
    "echo\n",
    "echo 'Done!'\n",
    "echo \"Run Time: $(displaytime ${runtime})\"\n",
    "echo\n",
    "EOF"
   ]
  },
  {
   "cell_type": "markdown",
   "id": "a80f31f5-60a5-4e57-95c5-861743ac2aed",
   "metadata": {},
   "source": [
    "## Review"
   ]
  },
  {
   "cell_type": "code",
   "execution_count": 12,
   "id": "149f1992-6b67-4c68-8529-d2b8476ae2ce",
   "metadata": {},
   "outputs": [
    {
     "name": "stdout",
     "output_type": "stream",
     "text": [
      "/data/reddylab/Kuei/repo/Proj_ENCODE_FCC/data/external/encode_chipseq_histone_241223\n",
      "\n",
      "38\n",
      "\n",
      "ENCFF071GML.bigWig: OK\n",
      "ENCFF706WUF.bed.gz: OK\n",
      "ENCFF462AVD.bed.gz: OK\n",
      "ENCFF220RGS.bigWig: OK\n",
      "ENCFF632NQA.bigWig: OK\n",
      "ENCFF963GZJ.bed.gz: OK\n",
      "ENCFF135ZLM.bed.gz: OK\n",
      "ENCFF457URZ.bigWig: OK\n",
      "ENCFF202EVH.bigWig: OK\n",
      "ENCFF213OTI.bed.gz: OK\n",
      "ENCFF633OZC.bigWig: OK\n",
      "ENCFF561OUZ.bed.gz: OK\n",
      "ENCFF323WOT.bed.gz: OK\n",
      "ENCFF582IMB.bigWig: OK\n",
      "ENCFF054RSU.bigWig: OK\n",
      "ENCFF749KLQ.bed.gz: OK\n",
      "ENCFF239EBH.bigWig: OK\n",
      "ENCFF891CHI.bed.gz: OK\n",
      "ENCFF193ERO.bed.gz: OK\n",
      "ENCFF605EVL.bigWig: OK\n",
      "ENCFF801AHF.bed.gz: OK\n",
      "ENCFF847BFA.bigWig: OK\n",
      "ENCFF461RKK.bigWig: OK\n",
      "ENCFF122CSI.bed.gz: OK\n",
      "ENCFF178QDA.bigWig: OK\n",
      "ENCFF148UQI.bed.gz: OK\n",
      "ENCFF544LXB.bed.gz: OK\n",
      "ENCFF465GBD.bigWig: OK\n",
      "ENCFF287LBI.bigWig: OK\n",
      "ENCFF540NGG.bed.gz: OK\n",
      "ENCFF767UON.bigWig: OK\n",
      "ENCFF689QIJ.bed.gz: OK\n",
      "ENCFF909RKY.bed.gz: OK\n",
      "ENCFF694ODT.bigWig: OK\n",
      "ENCFF334HSS.bigWig: OK\n",
      "ENCFF209OQD.bed.gz: OK\n",
      "ENCFF405ZDL.bigWig: OK\n",
      "ENCFF885FQN.bed.gz: OK\n"
     ]
    }
   ],
   "source": [
    "echo ${FD_OUT}\n",
    "echo\n",
    "FPATH=${FD_OUT}/checksum_results.txt\n",
    "cat ${FPATH} | wc -l\n",
    "echo \n",
    "cat ${FPATH}"
   ]
  },
  {
   "cell_type": "code",
   "execution_count": null,
   "id": "6ebfe47c-9f9a-4b8e-b64a-b1c4398c5a21",
   "metadata": {},
   "outputs": [],
   "source": []
  }
 ],
 "metadata": {
  "kernelspec": {
   "display_name": "Bash",
   "language": "bash",
   "name": "bash"
  },
  "language_info": {
   "codemirror_mode": "shell",
   "file_extension": ".sh",
   "mimetype": "text/x-sh",
   "name": "bash"
  }
 },
 "nbformat": 4,
 "nbformat_minor": 5
}
