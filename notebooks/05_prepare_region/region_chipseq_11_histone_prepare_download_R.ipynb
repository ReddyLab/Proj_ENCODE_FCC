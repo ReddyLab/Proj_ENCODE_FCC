{
 "cells": [
  {
   "cell_type": "raw",
   "id": "d68aabd6-8b63-451a-bd26-3ce884939551",
   "metadata": {},
   "source": [
    "---\n",
    "title: Prepare ENCODE ChIP-seq 11 (Histone)\n",
    "subtitle: Generate download script to download the data\n",
    "format:\n",
    "    html:\n",
    "        code-fold:  true\n",
    "        code-tools: true\n",
    "---"
   ]
  },
  {
   "cell_type": "markdown",
   "id": "c1d9a851-b715-4bf9-9f03-41bdc8f0ac2c",
   "metadata": {},
   "source": [
    "**Set environment**"
   ]
  },
  {
   "cell_type": "code",
   "execution_count": 1,
   "id": "f808f2a0-a796-4015-9cb2-6c463673f7e0",
   "metadata": {},
   "outputs": [
    {
     "name": "stdout",
     "output_type": "stream",
     "text": [
      "You are working on        Singularity \n",
      "BASE DIRECTORY (FD_BASE): /mount \n",
      "REPO DIRECTORY (FD_REPO): /mount/repo \n",
      "WORK DIRECTORY (FD_WORK): /mount/work \n",
      "DATA DIRECTORY (FD_DATA): /mount/data \n",
      "\n",
      "You are working with      ENCODE FCC \n",
      "PATH OF PROJECT (FD_PRJ): /mount/repo/Proj_ENCODE_FCC \n",
      "PROJECT RESULTS (FD_RES): /mount/repo/Proj_ENCODE_FCC/results \n",
      "PROJECT SCRIPTS (FD_EXE): /mount/repo/Proj_ENCODE_FCC/scripts \n",
      "PROJECT DATA    (FD_DAT): /mount/repo/Proj_ENCODE_FCC/data \n",
      "PROJECT NOTE    (FD_NBK): /mount/repo/Proj_ENCODE_FCC/notebooks \n",
      "PROJECT DOCS    (FD_DOC): /mount/repo/Proj_ENCODE_FCC/docs \n",
      "PROJECT LOG     (FD_LOG): /mount/repo/Proj_ENCODE_FCC/log \n",
      "PROJECT APP     (FD_APP): /mount/repo/Proj_ENCODE_FCC/app \n",
      "PROJECT REF     (FD_REF): /mount/repo/Proj_ENCODE_FCC/references \n",
      "\n"
     ]
    }
   ],
   "source": [
    "suppressMessages(suppressWarnings(source(\"../run_config_project_sing.R\")))\n",
    "show_env()"
   ]
  },
  {
   "cell_type": "markdown",
   "id": "e80b6071-9df2-4fd3-b921-31309975b6a9",
   "metadata": {},
   "source": [
    "## Prepare"
   ]
  },
  {
   "cell_type": "code",
   "execution_count": 2,
   "id": "54362a01-0d3c-468b-aa4d-a4657ee2a900",
   "metadata": {},
   "outputs": [
    {
     "name": "stdout",
     "output_type": "stream",
     "text": [
      "files.processed_files.encode2.txt \n",
      "files.processed_files.encode3.txt \n",
      "files.processed_files.encode4.txt \n",
      "metadata.default_files.240705.tsv \n",
      "metadata.default_files.summary.tsv \n",
      "metadata.processed_selected.240705.tsv \n",
      "metadata.processed_selected.summary.tsv \n"
     ]
    }
   ],
   "source": [
    "txt_fdiry = file.path(FD_REF, \"encode_chipseq_latest\")\n",
    "vec = dir(txt_fdiry)\n",
    "for (txt in vec){cat(txt, \"\\n\")}"
   ]
  },
  {
   "cell_type": "markdown",
   "id": "2eb9d8f2-a3b0-409f-8b88-8ed43fcdfc61",
   "metadata": {},
   "source": [
    "## Import metadata from reference"
   ]
  },
  {
   "cell_type": "markdown",
   "id": "f68d36e1-de46-4078-be3f-72a786611592",
   "metadata": {},
   "source": [
    "**ENCODE ChIP-seq Full**"
   ]
  },
  {
   "cell_type": "code",
   "execution_count": 3,
   "id": "67881cd2-9068-45e3-86c0-f83775cfd0ae",
   "metadata": {},
   "outputs": [
    {
     "name": "stdout",
     "output_type": "stream",
     "text": [
      "[1] 1630   12\n"
     ]
    },
    {
     "data": {
      "text/html": [
       "<table>\n",
       " <thead>\n",
       "  <tr>\n",
       "   <th style=\"text-align:left;\"> Assay </th>\n",
       "   <th style=\"text-align:left;\"> Index_Experiment </th>\n",
       "   <th style=\"text-align:left;\"> Index_File </th>\n",
       "   <th style=\"text-align:left;\"> File_Type </th>\n",
       "   <th style=\"text-align:left;\"> Output_Type </th>\n",
       "   <th style=\"text-align:left;\"> Genome </th>\n",
       "   <th style=\"text-align:left;\"> Target </th>\n",
       "   <th style=\"text-align:left;\"> Analysis </th>\n",
       "   <th style=\"text-align:left;\"> RFA </th>\n",
       "   <th style=\"text-align:left;\"> md5sum </th>\n",
       "   <th style=\"text-align:left;\"> File_Name </th>\n",
       "   <th style=\"text-align:left;\"> File_Url </th>\n",
       "  </tr>\n",
       " </thead>\n",
       "<tbody>\n",
       "  <tr>\n",
       "   <td style=\"text-align:left;\"> TF ChIP-seq </td>\n",
       "   <td style=\"text-align:left;\"> ENCSR800KMQ </td>\n",
       "   <td style=\"text-align:left;\"> ENCFF124KCE </td>\n",
       "   <td style=\"text-align:left;\"> bed narrowPeak </td>\n",
       "   <td style=\"text-align:left;\"> IDR thresholded peaks </td>\n",
       "   <td style=\"text-align:left;\"> GRCh38 </td>\n",
       "   <td style=\"text-align:left;\"> ZBTB43 </td>\n",
       "   <td style=\"text-align:left;\"> ENCODE4 v1.8.0 GRCh38 </td>\n",
       "   <td style=\"text-align:left;\"> ENCODE4 </td>\n",
       "   <td style=\"text-align:left;\"> 3154aa211bac58ce311f643c7aa9023e </td>\n",
       "   <td style=\"text-align:left;\"> ENCFF124KCE.bed.gz </td>\n",
       "   <td style=\"text-align:left;\"> https://www.encodeproject.org/files/ENCFF124KCE/@@download/ENCFF124KCE.bed.gz </td>\n",
       "  </tr>\n",
       "  <tr>\n",
       "   <td style=\"text-align:left;\"> TF ChIP-seq </td>\n",
       "   <td style=\"text-align:left;\"> ENCSR800KMQ </td>\n",
       "   <td style=\"text-align:left;\"> ENCFF334ZCX </td>\n",
       "   <td style=\"text-align:left;\"> bigWig </td>\n",
       "   <td style=\"text-align:left;\"> signal p-value </td>\n",
       "   <td style=\"text-align:left;\"> GRCh38 </td>\n",
       "   <td style=\"text-align:left;\"> ZBTB43 </td>\n",
       "   <td style=\"text-align:left;\"> ENCODE4 v1.8.0 GRCh38 </td>\n",
       "   <td style=\"text-align:left;\"> ENCODE4 </td>\n",
       "   <td style=\"text-align:left;\"> cf6a2fcaf92a09842452f7fa7437e777 </td>\n",
       "   <td style=\"text-align:left;\"> ENCFF334ZCX.bigWig </td>\n",
       "   <td style=\"text-align:left;\"> https://www.encodeproject.org/files/ENCFF334ZCX/@@download/ENCFF334ZCX.bigWig </td>\n",
       "  </tr>\n",
       "  <tr>\n",
       "   <td style=\"text-align:left;\"> TF ChIP-seq </td>\n",
       "   <td style=\"text-align:left;\"> ENCSR744GHR </td>\n",
       "   <td style=\"text-align:left;\"> ENCFF173QUY </td>\n",
       "   <td style=\"text-align:left;\"> bed narrowPeak </td>\n",
       "   <td style=\"text-align:left;\"> IDR thresholded peaks </td>\n",
       "   <td style=\"text-align:left;\"> GRCh38 </td>\n",
       "   <td style=\"text-align:left;\"> E2F5 </td>\n",
       "   <td style=\"text-align:left;\"> ENCODE4 v1.8.0 GRCh38 </td>\n",
       "   <td style=\"text-align:left;\"> ENCODE4 </td>\n",
       "   <td style=\"text-align:left;\"> 8a96fec76b8ca5f6a49053f771395398 </td>\n",
       "   <td style=\"text-align:left;\"> ENCFF173QUY.bed.gz </td>\n",
       "   <td style=\"text-align:left;\"> https://www.encodeproject.org/files/ENCFF173QUY/@@download/ENCFF173QUY.bed.gz </td>\n",
       "  </tr>\n",
       "</tbody>\n",
       "</table>"
      ]
     },
     "metadata": {},
     "output_type": "display_data"
    }
   ],
   "source": [
    "### set file path\n",
    "txt_fdiry = file.path(FD_REF, \"encode_chipseq_latest\")\n",
    "txt_fname = \"metadata.default_files.summary.tsv\"\n",
    "txt_fpath = file.path(txt_fdiry, txt_fname)\n",
    "\n",
    "### read table\n",
    "dat = read_tsv(txt_fpath, show_col_types = FALSE)\n",
    "\n",
    "### show and assign\n",
    "dat_metadata_chipseq_full = dat\n",
    "print(dim(dat))\n",
    "fun_display_table(head(dat, 3))"
   ]
  },
  {
   "cell_type": "markdown",
   "id": "9b363b36-4800-4526-bd3f-e30e460c55e6",
   "metadata": {},
   "source": [
    "## Filter to get the final metadata table"
   ]
  },
  {
   "cell_type": "code",
   "execution_count": 4,
   "id": "7ff57545-8568-4bb2-9cf5-316efb7ac8a0",
   "metadata": {},
   "outputs": [
    {
     "name": "stdout",
     "output_type": "stream",
     "text": [
      "[1] 19 12\n"
     ]
    },
    {
     "data": {
      "text/html": [
       "<table>\n",
       " <thead>\n",
       "  <tr>\n",
       "   <th style=\"text-align:left;\"> Assay </th>\n",
       "   <th style=\"text-align:left;\"> Index_Experiment </th>\n",
       "   <th style=\"text-align:left;\"> Index_File </th>\n",
       "   <th style=\"text-align:left;\"> File_Type </th>\n",
       "   <th style=\"text-align:left;\"> Output_Type </th>\n",
       "   <th style=\"text-align:left;\"> Genome </th>\n",
       "   <th style=\"text-align:left;\"> Target </th>\n",
       "   <th style=\"text-align:left;\"> Analysis </th>\n",
       "   <th style=\"text-align:left;\"> RFA </th>\n",
       "   <th style=\"text-align:left;\"> md5sum </th>\n",
       "   <th style=\"text-align:left;\"> File_Name </th>\n",
       "   <th style=\"text-align:left;\"> File_Url </th>\n",
       "  </tr>\n",
       " </thead>\n",
       "<tbody>\n",
       "  <tr>\n",
       "   <td style=\"text-align:left;\"> Histone ChIP-seq </td>\n",
       "   <td style=\"text-align:left;\"> ENCSR000AKX </td>\n",
       "   <td style=\"text-align:left;\"> ENCFF909RKY </td>\n",
       "   <td style=\"text-align:left;\"> bed narrowPeak </td>\n",
       "   <td style=\"text-align:left;\"> replicated peaks </td>\n",
       "   <td style=\"text-align:left;\"> GRCh38 </td>\n",
       "   <td style=\"text-align:left;\"> H4K20me1 </td>\n",
       "   <td style=\"text-align:left;\"> ENCODE4 v1.6.1 GRCh38 </td>\n",
       "   <td style=\"text-align:left;\"> ENCODE2 </td>\n",
       "   <td style=\"text-align:left;\"> fe4c93b6faa0ab4153ef41fe516bced4 </td>\n",
       "   <td style=\"text-align:left;\"> ENCFF909RKY.bed.gz </td>\n",
       "   <td style=\"text-align:left;\"> https://www.encodeproject.org/files/ENCFF909RKY/@@download/ENCFF909RKY.bed.gz </td>\n",
       "  </tr>\n",
       "  <tr>\n",
       "   <td style=\"text-align:left;\"> Histone ChIP-seq </td>\n",
       "   <td style=\"text-align:left;\"> ENCSR000APE </td>\n",
       "   <td style=\"text-align:left;\"> ENCFF963GZJ </td>\n",
       "   <td style=\"text-align:left;\"> bed narrowPeak </td>\n",
       "   <td style=\"text-align:left;\"> replicated peaks </td>\n",
       "   <td style=\"text-align:left;\"> GRCh38 </td>\n",
       "   <td style=\"text-align:left;\"> H3K9me3 </td>\n",
       "   <td style=\"text-align:left;\"> ENCODE4 v1.5.1 GRCh38 </td>\n",
       "   <td style=\"text-align:left;\"> ENCODE2 </td>\n",
       "   <td style=\"text-align:left;\"> 8e71cfdb547cdb5057d99d12d7be3ba6 </td>\n",
       "   <td style=\"text-align:left;\"> ENCFF963GZJ.bed.gz </td>\n",
       "   <td style=\"text-align:left;\"> https://www.encodeproject.org/files/ENCFF963GZJ/@@download/ENCFF963GZJ.bed.gz </td>\n",
       "  </tr>\n",
       "  <tr>\n",
       "   <td style=\"text-align:left;\"> Histone ChIP-seq </td>\n",
       "   <td style=\"text-align:left;\"> ENCSR000APC </td>\n",
       "   <td style=\"text-align:left;\"> ENCFF213OTI </td>\n",
       "   <td style=\"text-align:left;\"> bed narrowPeak </td>\n",
       "   <td style=\"text-align:left;\"> pseudoreplicated peaks </td>\n",
       "   <td style=\"text-align:left;\"> GRCh38 </td>\n",
       "   <td style=\"text-align:left;\"> H2AFZ </td>\n",
       "   <td style=\"text-align:left;\"> ENCODE4 v1.6.0 GRCh38 </td>\n",
       "   <td style=\"text-align:left;\"> ENCODE2 </td>\n",
       "   <td style=\"text-align:left;\"> a5934e60f1ebf8e393aa111a26f74074 </td>\n",
       "   <td style=\"text-align:left;\"> ENCFF213OTI.bed.gz </td>\n",
       "   <td style=\"text-align:left;\"> https://www.encodeproject.org/files/ENCFF213OTI/@@download/ENCFF213OTI.bed.gz </td>\n",
       "  </tr>\n",
       "</tbody>\n",
       "</table>"
      ]
     },
     "metadata": {},
     "output_type": "display_data"
    }
   ],
   "source": [
    "### init\n",
    "txt_assay = \"Histone\"\n",
    "txt_ftype = \"bed narrowPeak\"\n",
    "\n",
    "### filter to get selected files\n",
    "dat = dat_metadata_chipseq_full\n",
    "dat = dat %>% \n",
    "    dplyr::filter(str_detect(Assay, txt_assay)) %>%\n",
    "    dplyr::filter(File_Type == txt_ftype)\n",
    "    \n",
    "### assign and show\n",
    "dat_metadata_final = dat\n",
    "print(dim(dat))\n",
    "fun_display_table(head(dat, 3))"
   ]
  },
  {
   "cell_type": "markdown",
   "id": "cc1d56a7-9d92-46bd-b0d9-8a597a8d8485",
   "metadata": {},
   "source": [
    "**Explore: Target**"
   ]
  },
  {
   "cell_type": "code",
   "execution_count": 5,
   "id": "704e343d-90f2-48fe-98f6-5b2d55518227",
   "metadata": {},
   "outputs": [
    {
     "data": {
      "text/plain": [
       "          \n",
       "           bed narrowPeak\n",
       "  H2AFZ                 1\n",
       "  H3K27ac               1\n",
       "  H3K27me3              2\n",
       "  H3K36me3              2\n",
       "  H3K4me1               2\n",
       "  H3K4me2               1\n",
       "  H3K4me3               4\n",
       "  H3K79me2              1\n",
       "  H3K9ac                2\n",
       "  H3K9me1               1\n",
       "  H3K9me3               1\n",
       "  H4K20me1              1"
      ]
     },
     "metadata": {},
     "output_type": "display_data"
    }
   ],
   "source": [
    "dat = dat_metadata_final\n",
    "table(dat$Target, dat$File_Type)"
   ]
  },
  {
   "cell_type": "markdown",
   "id": "a6d2c73d-698b-45e4-8954-49e7b344e9c1",
   "metadata": {},
   "source": [
    "**Explore: RFA**"
   ]
  },
  {
   "cell_type": "code",
   "execution_count": 6,
   "id": "4aa4ca1f-5657-4953-9e3f-8ec2cd6b895a",
   "metadata": {},
   "outputs": [
    {
     "data": {
      "text/plain": [
       "\n",
       "ENCODE2 ENCODE3 \n",
       "     18       1 "
      ]
     },
     "metadata": {},
     "output_type": "display_data"
    }
   ],
   "source": [
    "dat = dat_metadata_final\n",
    "table(dat$RFA)"
   ]
  },
  {
   "cell_type": "markdown",
   "id": "91efef22-3084-4150-943a-66cd343e965b",
   "metadata": {},
   "source": [
    "**Check: all files are in hg38**"
   ]
  },
  {
   "cell_type": "code",
   "execution_count": 7,
   "id": "4fc05374-b042-4d5c-be92-aabae5a633c2",
   "metadata": {},
   "outputs": [
    {
     "data": {
      "text/plain": [
       "                  \n",
       "                   GRCh38\n",
       "  Histone ChIP-seq     19"
      ]
     },
     "metadata": {},
     "output_type": "display_data"
    }
   ],
   "source": [
    "dat = dat_metadata_final\n",
    "table(dat$Assay, dat$Genome)"
   ]
  },
  {
   "cell_type": "markdown",
   "id": "d5dee452-6c6a-4810-9bd3-5da29944ca77",
   "metadata": {},
   "source": [
    "**Check: file/output types**"
   ]
  },
  {
   "cell_type": "code",
   "execution_count": 8,
   "id": "ce8944d6-ca86-485e-9a1c-badcf229558b",
   "metadata": {},
   "outputs": [
    {
     "data": {
      "text/plain": [
       "                        \n",
       "                         bed narrowPeak\n",
       "  pseudoreplicated peaks             14\n",
       "  replicated peaks                    5"
      ]
     },
     "metadata": {},
     "output_type": "display_data"
    }
   ],
   "source": [
    "dat = dat_metadata_final\n",
    "table(dat$Output_Type, dat$File_Type)"
   ]
  },
  {
   "cell_type": "code",
   "execution_count": 9,
   "id": "19b6695f-5a46-4da2-857f-5e3817607e18",
   "metadata": {},
   "outputs": [
    {
     "data": {
      "text/plain": [
       "             \n",
       "              bed narrowPeak\n",
       "  ENCSR000AKP              1\n",
       "  ENCSR000AKQ              1\n",
       "  ENCSR000AKR              1\n",
       "  ENCSR000AKS              1\n",
       "  ENCSR000AKT              1\n",
       "  ENCSR000AKU              1\n",
       "  ENCSR000AKV              1\n",
       "  ENCSR000AKW              1\n",
       "  ENCSR000AKX              1\n",
       "  ENCSR000APC              1\n",
       "  ENCSR000APD              1\n",
       "  ENCSR000APE              1\n",
       "  ENCSR000DWB              1\n",
       "  ENCSR000DWD              1\n",
       "  ENCSR000EVZ              1\n",
       "  ENCSR000EWA              1\n",
       "  ENCSR000EWB              1\n",
       "  ENCSR000EWC              1\n",
       "  ENCSR668LDD              1"
      ]
     },
     "metadata": {},
     "output_type": "display_data"
    }
   ],
   "source": [
    "dat = dat_metadata_final\n",
    "table(dat$Index_Experiment, dat$File_Type)"
   ]
  },
  {
   "cell_type": "markdown",
   "id": "04adcd7d-5ebe-4f8e-a034-f8c4094b873b",
   "metadata": {},
   "source": [
    "## Prepare download files"
   ]
  },
  {
   "cell_type": "code",
   "execution_count": 10,
   "id": "9de44573-ba2a-4270-8832-464841ccc318",
   "metadata": {},
   "outputs": [
    {
     "name": "stdout",
     "output_type": "stream",
     "text": [
      "[1] 19  1\n"
     ]
    },
    {
     "data": {
      "text/html": [
       "<table>\n",
       " <thead>\n",
       "  <tr>\n",
       "   <th style=\"text-align:left;\"> File_Url </th>\n",
       "  </tr>\n",
       " </thead>\n",
       "<tbody>\n",
       "  <tr>\n",
       "   <td style=\"text-align:left;\"> https://www.encodeproject.org/files/ENCFF909RKY/@@download/ENCFF909RKY.bed.gz </td>\n",
       "  </tr>\n",
       "  <tr>\n",
       "   <td style=\"text-align:left;\"> https://www.encodeproject.org/files/ENCFF963GZJ/@@download/ENCFF963GZJ.bed.gz </td>\n",
       "  </tr>\n",
       "  <tr>\n",
       "   <td style=\"text-align:left;\"> https://www.encodeproject.org/files/ENCFF213OTI/@@download/ENCFF213OTI.bed.gz </td>\n",
       "  </tr>\n",
       "</tbody>\n",
       "</table>"
      ]
     },
     "metadata": {},
     "output_type": "display_data"
    }
   ],
   "source": [
    "### get file url\n",
    "dat = dat_metadata_final\n",
    "dat = dat %>% dplyr::select(File_Url)\n",
    "\n",
    "### assign and show\n",
    "dat_download_furl = dat\n",
    "print(dim(dat))\n",
    "fun_display_table(head(dat, 3))"
   ]
  },
  {
   "cell_type": "markdown",
   "id": "74305506-61d9-4900-ab31-f3e3c7d48d94",
   "metadata": {},
   "source": [
    "## Prepare download checksum"
   ]
  },
  {
   "cell_type": "code",
   "execution_count": 11,
   "id": "3194904c-f137-4364-ace1-f7677dbf65d7",
   "metadata": {},
   "outputs": [
    {
     "name": "stdout",
     "output_type": "stream",
     "text": [
      "[1] 19  2\n"
     ]
    },
    {
     "data": {
      "text/html": [
       "<table>\n",
       " <thead>\n",
       "  <tr>\n",
       "   <th style=\"text-align:left;\"> md5sum </th>\n",
       "   <th style=\"text-align:left;\"> File_Name </th>\n",
       "  </tr>\n",
       " </thead>\n",
       "<tbody>\n",
       "  <tr>\n",
       "   <td style=\"text-align:left;\"> fe4c93b6faa0ab4153ef41fe516bced4 </td>\n",
       "   <td style=\"text-align:left;\"> ENCFF909RKY.bed.gz </td>\n",
       "  </tr>\n",
       "  <tr>\n",
       "   <td style=\"text-align:left;\"> 8e71cfdb547cdb5057d99d12d7be3ba6 </td>\n",
       "   <td style=\"text-align:left;\"> ENCFF963GZJ.bed.gz </td>\n",
       "  </tr>\n",
       "  <tr>\n",
       "   <td style=\"text-align:left;\"> a5934e60f1ebf8e393aa111a26f74074 </td>\n",
       "   <td style=\"text-align:left;\"> ENCFF213OTI.bed.gz </td>\n",
       "  </tr>\n",
       "</tbody>\n",
       "</table>"
      ]
     },
     "metadata": {},
     "output_type": "display_data"
    }
   ],
   "source": [
    "### get md5sum for each file\n",
    "dat = dat_metadata_final\n",
    "dat = dat %>% dplyr::select(md5sum, File_Name)\n",
    "\n",
    "### assign and show\n",
    "dat_download_md5sum = dat\n",
    "print(dim(dat))\n",
    "fun_display_table(head(dat, 3))"
   ]
  },
  {
   "cell_type": "markdown",
   "id": "2002acb4-0da8-4c74-98d4-4896115bf1b8",
   "metadata": {},
   "source": [
    "## Save results"
   ]
  },
  {
   "cell_type": "code",
   "execution_count": 12,
   "id": "a69a2463-4b00-4529-af73-9098ae580188",
   "metadata": {},
   "outputs": [
    {
     "name": "stdout",
     "output_type": "stream",
     "text": [
      "[1] \"/mount/repo/Proj_ENCODE_FCC/data/external/encode_chipseq_histone\"\n",
      "[1] \"/mount/repo/Proj_ENCODE_FCC/results/region/encode_chipseq_histone/summary\"\n"
     ]
    }
   ],
   "source": [
    "### init\n",
    "txt_folder = \"encode_chipseq_histone\"\n",
    "\n",
    "### create folder for data\n",
    "txt_fdiry = file.path(FD_DAT, \"external\", txt_folder)\n",
    "txt_cmd   = paste(\"mkdir -p\", txt_fdiry)\n",
    "system(txt_cmd)\n",
    "print(txt_fdiry)\n",
    "\n",
    "### create folder for results\n",
    "txt_fdiry = file.path(FD_RES, \"region\", txt_folder, \"summary\")\n",
    "txt_cmd   = paste(\"mkdir -p\", txt_fdiry)\n",
    "system(txt_cmd)\n",
    "print(txt_fdiry)"
   ]
  },
  {
   "cell_type": "code",
   "execution_count": 13,
   "id": "5a1cd36c-88ee-4278-8cc7-2650296cbc9d",
   "metadata": {},
   "outputs": [],
   "source": [
    "### set directory\n",
    "txt_fdiry = file.path(FD_DAT, \"external\", txt_folder)\n",
    "txt_fname = \"files.txt\"\n",
    "txt_fpath = file.path(txt_fdiry, txt_fname)\n",
    "\n",
    "### write table\n",
    "dat = dat_download_furl\n",
    "write_tsv(dat, txt_fpath, col_names = FALSE)  "
   ]
  },
  {
   "cell_type": "code",
   "execution_count": 14,
   "id": "85144e0b-789d-4157-9bec-545afce6a0e3",
   "metadata": {},
   "outputs": [],
   "source": [
    "### set directory\n",
    "txt_fdiry = file.path(FD_DAT, \"external\", txt_folder)\n",
    "txt_fname = \"checksum_md5sum.txt\"\n",
    "txt_fpath = file.path(txt_fdiry, txt_fname)\n",
    "\n",
    "### write table\n",
    "dat = dat_download_md5sum\n",
    "write_tsv(dat, txt_fpath, col_names = FALSE)  "
   ]
  },
  {
   "cell_type": "code",
   "execution_count": 15,
   "id": "5e6bee5a-5a52-4044-bf6b-aa3b7471fe3f",
   "metadata": {},
   "outputs": [],
   "source": [
    "### set output path\n",
    "txt_fdiry = file.path(FD_RES, \"region\", txt_folder, \"summary\")\n",
    "txt_fname = \"metadata.tsv\"\n",
    "txt_fpath = file.path(txt_fdiry, txt_fname)\n",
    "\n",
    "### save table\n",
    "dat = dat_metadata_final\n",
    "write_tsv(dat, txt_fpath)  "
   ]
  },
  {
   "cell_type": "code",
   "execution_count": null,
   "id": "8e27d2f2-f63b-4a57-8375-e7cc2a4fc4d0",
   "metadata": {},
   "outputs": [],
   "source": []
  }
 ],
 "metadata": {
  "kernelspec": {
   "display_name": "R",
   "language": "R",
   "name": "ir"
  },
  "language_info": {
   "codemirror_mode": "r",
   "file_extension": ".r",
   "mimetype": "text/x-r-source",
   "name": "R",
   "pygments_lexer": "r",
   "version": "4.4.0"
  }
 },
 "nbformat": 4,
 "nbformat_minor": 5
}
