{
 "cells": [
  {
   "cell_type": "raw",
   "id": "832506b5-efe4-432f-9421-df01cef3b32f",
   "metadata": {},
   "source": [
    "---\n",
    "title: Prepare ENCODE ChIP-seq 13 (Histone)\n",
    "subtitle: Export data to `result` folder\n",
    "format:\n",
    "    html:\n",
    "        code-fold:  true\n",
    "        code-tools: true\n",
    "---"
   ]
  },
  {
   "cell_type": "markdown",
   "id": "4f526a93-1382-432f-95e8-29a7831118ff",
   "metadata": {},
   "source": [
    "**Set environment**"
   ]
  },
  {
   "cell_type": "code",
   "execution_count": 1,
   "id": "48b70917-f95c-406e-9f1a-008a598dde48",
   "metadata": {},
   "outputs": [
    {
     "name": "stdout",
     "output_type": "stream",
     "text": [
      "You are working on             Duke Server: RCC\n",
      "BASE DIRECTORY (FD_BASE):      /data/reddylab/Kuei\n",
      "REPO DIRECTORY (FD_REPO):      /data/reddylab/Kuei/repo\n",
      "WORK DIRECTORY (FD_WORK):      /data/reddylab/Kuei/work\n",
      "DATA DIRECTORY (FD_DATA):      /data/reddylab/Kuei/data\n",
      "CONTAINER DIR. (FD_SING):      /data/reddylab/Kuei/container\n",
      "\n",
      "You are working with           ENCODE FCC\n",
      "PATH OF PROJECT (FD_PRJ):      /data/reddylab/Kuei/repo/Proj_ENCODE_FCC\n",
      "PROJECT RESULTS (FD_RES):      /data/reddylab/Kuei/repo/Proj_ENCODE_FCC/results\n",
      "PROJECT SCRIPTS (FD_EXE):      /data/reddylab/Kuei/repo/Proj_ENCODE_FCC/scripts\n",
      "PROJECT DATA    (FD_DAT):      /data/reddylab/Kuei/repo/Proj_ENCODE_FCC/data\n",
      "PROJECT NOTE    (FD_NBK):      /data/reddylab/Kuei/repo/Proj_ENCODE_FCC/notebooks\n",
      "PROJECT DOCS    (FD_DOC):      /data/reddylab/Kuei/repo/Proj_ENCODE_FCC/docs\n",
      "PROJECT LOG     (FD_LOG):      /data/reddylab/Kuei/repo/Proj_ENCODE_FCC/log\n",
      "PROJECT REF     (FD_REF):      /data/reddylab/Kuei/repo/Proj_ENCODE_FCC/references\n",
      "PROJECT IMAGE   (FP_PRJ_SIF):  /data/reddylab/Kuei/container/project/singularity_proj_encode_fcc.sif\n",
      "PROJECT CONF.   (FP_CNF):      /data/reddylab/Kuei/repo/Proj_ENCODE_FCC/scripts/config_project.sh\n",
      "\n"
     ]
    }
   ],
   "source": [
    "source ../run_config_project.sh\n",
    "show_env"
   ]
  },
  {
   "cell_type": "markdown",
   "id": "562f70e0-8fdf-4e24-87d4-cafba5786026",
   "metadata": {
    "tags": []
   },
   "source": [
    "## Prepare"
   ]
  },
  {
   "cell_type": "code",
   "execution_count": 2,
   "id": "5ae58960-5564-439f-a25d-82cae05036cd",
   "metadata": {},
   "outputs": [
    {
     "name": "stdout",
     "output_type": "stream",
     "text": [
      "chrom.hg38.main.bed            \u001b[0m\u001b[01;34mencode_open_chromatin\u001b[0m\n",
      "chrom.hg38.total.bed           \u001b[01;34mencode_rnaseq\u001b[0m\n",
      "chrom.sizes.hg19               \u001b[01;34mgenome_tss\u001b[0m\n",
      "chrom.sizes.hg38               \u001b[01;34mhic_insitu_GM12878\u001b[0m\n",
      "\u001b[01;34mencode_chipseq_agarwal2023\u001b[0m     \u001b[01;34mhic_insitu_K562_ENCSR545YBD\u001b[0m\n",
      "\u001b[01;34mencode_chipseq_flagship\u001b[0m        \u001b[01;34mhic_intact_K562_deep\u001b[0m\n",
      "\u001b[01;34mencode_chipseq_histone\u001b[0m         \u001b[01;34mhic_intact_K562_ENCSR479XDG\u001b[0m\n",
      "\u001b[01;34mencode_chipseq_histone_241223\u001b[0m  \u001b[01;34mprotein_interpro\u001b[0m\n",
      "\u001b[01;34mencode_chipseq_histone_250120\u001b[0m  \u001b[01;34mRNAseq\u001b[0m\n",
      "\u001b[01;34mencode_chipseq_subset\u001b[0m          \u001b[01;34mz_encode_chipseq_encode4\u001b[0m\n",
      "\u001b[01;34mencode_chipseq_tf_250108\u001b[0m       \u001b[01;34mz_encode_chipseq_flagship\u001b[0m\n",
      "\u001b[01;34mencode_chipseq_tf_250120\u001b[0m       \u001b[01;34mz_encode_chipseq_histone\u001b[0m\n",
      "\u001b[01;34mencode_chromatin_states\u001b[0m        \u001b[01;34mz_encode_chipseq_subset\u001b[0m\n",
      "\u001b[01;34mencode_crispri_hcrff\u001b[0m\n"
     ]
    }
   ],
   "source": [
    "ls ${FD_DAT}/external/"
   ]
  },
  {
   "cell_type": "code",
   "execution_count": 16,
   "id": "5d405ef8-e8b1-4710-881c-3178a9488aae",
   "metadata": {},
   "outputs": [
    {
     "name": "stdout",
     "output_type": "stream",
     "text": [
      "/data/reddylab/Kuei/repo/Proj_ENCODE_FCC/data/external/encode_chipseq_histone_250120\n",
      "\u001b[0m\u001b[01;34mregion_narrowPeak\u001b[0m\n",
      "\u001b[01;34msignal_fold_change\u001b[0m\n",
      "\u001b[01;34msignal_pvalue\u001b[0m\n"
     ]
    }
   ],
   "source": [
    "FDIRY=${FD_DAT}/external/encode_chipseq_histone_250120\n",
    "echo  ${FDIRY}\n",
    "ls -1 ${FDIRY}"
   ]
  },
  {
   "cell_type": "code",
   "execution_count": 17,
   "id": "a7a6fed1-a0bc-4ee2-8cee-23f25ab00a21",
   "metadata": {},
   "outputs": [
    {
     "name": "stdout",
     "output_type": "stream",
     "text": [
      "checksum_md5sum.txt\n",
      "checksum_results.txt\n",
      "ENCFF139KZL.bigWig\n",
      "ENCFF242ENK.bigWig\n",
      "ENCFF253TOF.bigWig\n",
      "ENCFF286WRJ.bigWig\n",
      "ENCFF317VHO.bigWig\n",
      "ENCFF347YYH.bigWig\n",
      "ENCFF381NDD.bigWig\n",
      "ENCFF399SGM.bigWig\n",
      "ENCFF544AVW.bigWig\n",
      "ENCFF583BKU.bigWig\n",
      "ENCFF601JGK.bigWig\n",
      "ENCFF605FAF.bigWig\n",
      "ENCFF607SUJ.bigWig\n",
      "ENCFF621DJP.bigWig\n",
      "ENCFF654SLZ.bigWig\n",
      "ENCFF660WUG.bigWig\n",
      "ENCFF806YEZ.bigWig\n",
      "ENCFF911JVK.bigWig\n",
      "ENCFF959YJV.bigWig\n",
      "files.txt\n",
      "metadata.tsv\n"
     ]
    }
   ],
   "source": [
    "FDIRY=${FD_DAT}/external/encode_chipseq_histone_250120\n",
    "ls -1 ${FDIRY}/signal_fold_change"
   ]
  },
  {
   "cell_type": "code",
   "execution_count": 15,
   "id": "bef370d1-a99d-4117-80d0-4fcf4be65c1a",
   "metadata": {},
   "outputs": [
    {
     "name": "stdout",
     "output_type": "stream",
     "text": [
      "/data/reddylab/Kuei/repo/Proj_ENCODE_FCC/results/annotation/encode_chipseq_histone\n",
      "\u001b[0m\u001b[01;34msummary\u001b[0m\n"
     ]
    }
   ],
   "source": [
    "FDIRY=${FD_RES}/annotation/encode_chipseq_histone\n",
    "echo  ${FDIRY}\n",
    "ls ${FDIRY}"
   ]
  },
  {
   "cell_type": "code",
   "execution_count": 18,
   "id": "6b28565c-d13f-44c2-8564-23a502c3e962",
   "metadata": {},
   "outputs": [],
   "source": [
    "FD_INP=${FD_DAT}/external/encode_chipseq_histone_250120\n",
    "FD_OUT=${FD_RES}/annotation/encode_chipseq_histone\n",
    "\n",
    "FP_SRC=${FD_INP}/signal_fold_change\n",
    "FP_LNK=${FD_OUT}/signal_fold_change\n",
    "\n",
    "ln -s ${FP_SRC} ${FP_LNK}"
   ]
  },
  {
   "cell_type": "code",
   "execution_count": 20,
   "id": "6ce4f489-58f6-414a-89d8-269e6fc60852",
   "metadata": {},
   "outputs": [
    {
     "name": "stdout",
     "output_type": "stream",
     "text": [
      "\u001b[0m\u001b[01;36msignal_fold_change\u001b[0m\n",
      "\u001b[01;34msummary\u001b[0m\n"
     ]
    }
   ],
   "source": [
    "ls -1 ${FD_OUT}"
   ]
  },
  {
   "cell_type": "code",
   "execution_count": null,
   "id": "d4251693-38b9-4d7f-b69a-36cff54ccd06",
   "metadata": {},
   "outputs": [],
   "source": []
  },
  {
   "cell_type": "code",
   "execution_count": 14,
   "id": "5ec7c352-47b7-46b0-8d62-f935e0a52292",
   "metadata": {},
   "outputs": [],
   "source": []
  },
  {
   "cell_type": "code",
   "execution_count": 3,
   "id": "636cae60-7456-4527-bd2a-62542f62a75e",
   "metadata": {},
   "outputs": [
    {
     "name": "stdout",
     "output_type": "stream",
     "text": [
      "/data/reddylab/Kuei/repo/Proj_ENCODE_FCC/data/external/encode_chipseq_histone_250120\n",
      "ls: cannot access '/data/reddylab/Kuei/repo/Proj_ENCODE_FCC/data/external/encode_chipseq_histone_250120/*.bigWig': No such file or directory\n",
      "0\n",
      "ls: cannot access '/data/reddylab/Kuei/repo/Proj_ENCODE_FCC/data/external/encode_chipseq_histone_250120/*.bigWig': No such file or directory\n",
      "basename: missing operand\n",
      "Try 'basename --help' for more information.\n"
     ]
    },
    {
     "ename": "",
     "evalue": "123",
     "output_type": "error",
     "traceback": []
    }
   ],
   "source": [
    "FDIRY=${FD_DAT}/external/encode_chipseq_histone_250120\n",
    "\n",
    "echo ${FDIRY}\n",
    "ls   ${FDIRY}/*.bigWig | wc -l\n",
    "ls   ${FDIRY}/*.bigWig | xargs -n 1 basename"
   ]
  },
  {
   "cell_type": "code",
   "execution_count": 3,
   "id": "94e33a71-024e-4ebe-80be-3a65aaf1ab0f",
   "metadata": {},
   "outputs": [
    {
     "name": "stdout",
     "output_type": "stream",
     "text": [
      "/data/reddylab/Kuei/repo/Proj_ENCODE_FCC/data/external/encode_chipseq_histone_241223\n",
      "19\n",
      "ENCFF054RSU.bigWig\n",
      "ENCFF071GML.bigWig\n",
      "ENCFF178QDA.bigWig\n",
      "ENCFF202EVH.bigWig\n",
      "ENCFF220RGS.bigWig\n",
      "ENCFF239EBH.bigWig\n",
      "ENCFF287LBI.bigWig\n",
      "ENCFF334HSS.bigWig\n",
      "ENCFF405ZDL.bigWig\n",
      "ENCFF457URZ.bigWig\n",
      "ENCFF461RKK.bigWig\n",
      "ENCFF465GBD.bigWig\n",
      "ENCFF582IMB.bigWig\n",
      "ENCFF605EVL.bigWig\n",
      "ENCFF632NQA.bigWig\n",
      "ENCFF633OZC.bigWig\n",
      "ENCFF694ODT.bigWig\n",
      "ENCFF767UON.bigWig\n",
      "ENCFF847BFA.bigWig\n"
     ]
    }
   ],
   "source": [
    "FDIRY=${FD_DAT}/external/encode_chipseq_histone_241223\n",
    "\n",
    "echo ${FDIRY}\n",
    "ls   ${FDIRY}/*.bigWig | wc -l\n",
    "ls   ${FDIRY}/*.bigWig | xargs -n 1 basename"
   ]
  },
  {
   "cell_type": "code",
   "execution_count": null,
   "id": "9e6fbb2e-91c6-426f-95e0-0ee6ac1b2485",
   "metadata": {},
   "outputs": [],
   "source": []
  },
  {
   "cell_type": "code",
   "execution_count": null,
   "id": "ec70f526-a73e-48b9-b5be-72d5369336f6",
   "metadata": {},
   "outputs": [],
   "source": []
  },
  {
   "cell_type": "code",
   "execution_count": null,
   "id": "a5edad7b-ed9d-4f31-b814-86bbe91fa604",
   "metadata": {},
   "outputs": [],
   "source": []
  },
  {
   "cell_type": "code",
   "execution_count": 5,
   "id": "77af5e54-c34a-42a3-b633-9cc0bbdf245b",
   "metadata": {},
   "outputs": [
    {
     "name": "stdout",
     "output_type": "stream",
     "text": [
      "ENCFF054RSU.bigWig\n",
      "ENCFF071GML.bigWig\n",
      "ENCFF178QDA.bigWig\n",
      "ENCFF202EVH.bigWig\n",
      "ENCFF220RGS.bigWig\n",
      "ENCFF239EBH.bigWig\n",
      "ENCFF287LBI.bigWig\n",
      "ENCFF334HSS.bigWig\n",
      "ENCFF405ZDL.bigWig\n",
      "ENCFF457URZ.bigWig\n",
      "ENCFF461RKK.bigWig\n",
      "ENCFF465GBD.bigWig\n",
      "ENCFF582IMB.bigWig\n",
      "ENCFF605EVL.bigWig\n",
      "ENCFF632NQA.bigWig\n",
      "ENCFF633OZC.bigWig\n",
      "ENCFF694ODT.bigWig\n",
      "ENCFF767UON.bigWig\n",
      "ENCFF847BFA.bigWig\n"
     ]
    }
   ],
   "source": [
    "### set directory\n",
    "FD_INP=${FD_DAT}/external/encode_chipseq_histone_241223\n",
    "FD_OUT=${FD_RES}/annotation/encode_chipseq_histone\n",
    "mkdir -p ${FD_OUT}\n",
    "\n",
    "### loop and generate sorted files\n",
    "FP_INPS=($(ls ${FD_INP}/*bigWig))\n",
    "for FP_INP in ${FP_INPS[@]}; do\n",
    "    ### get input file name\n",
    "    FN_INP=$(basename ${FP_INP})\n",
    "    echo ${FN_INP}\n",
    "    \n",
    "    ### set output file name\n",
    "    FN_OUT=${FN_INP}\n",
    "    FP_OUT=${FD_OUT}/${FN_OUT}\n",
    "    \n",
    "    ### sort and output to a new file\n",
    "    FP_FILE=${FP_INP}\n",
    "    FP_LINK=${FP_OUT}\n",
    "    ln -fs ${FP_FILE} ${FP_LINK} \n",
    "    #zcat ${FP_INP} | sort -k 1,1 -k2,2n | gzip -c > ${FP_OUT}\n",
    "done"
   ]
  },
  {
   "cell_type": "code",
   "execution_count": 8,
   "id": "2626c49f-9380-46e3-9ca8-b418dc157fec",
   "metadata": {},
   "outputs": [
    {
     "name": "stdout",
     "output_type": "stream",
     "text": [
      "\u001b[0m\u001b[01;36mENCFF054RSU.bigWig\u001b[0m\n",
      "\u001b[01;36mENCFF071GML.bigWig\u001b[0m\n",
      "\u001b[01;36mENCFF178QDA.bigWig\u001b[0m\n",
      "\u001b[01;36mENCFF202EVH.bigWig\u001b[0m\n",
      "\u001b[01;36mENCFF220RGS.bigWig\u001b[0m\n",
      "\u001b[01;36mENCFF239EBH.bigWig\u001b[0m\n",
      "\u001b[01;36mENCFF287LBI.bigWig\u001b[0m\n",
      "\u001b[01;36mENCFF334HSS.bigWig\u001b[0m\n",
      "\u001b[01;36mENCFF405ZDL.bigWig\u001b[0m\n",
      "\u001b[01;36mENCFF457URZ.bigWig\u001b[0m\n",
      "\u001b[01;36mENCFF461RKK.bigWig\u001b[0m\n",
      "\u001b[01;36mENCFF465GBD.bigWig\u001b[0m\n",
      "\u001b[01;36mENCFF582IMB.bigWig\u001b[0m\n",
      "\u001b[01;36mENCFF605EVL.bigWig\u001b[0m\n",
      "\u001b[01;36mENCFF632NQA.bigWig\u001b[0m\n",
      "\u001b[01;36mENCFF633OZC.bigWig\u001b[0m\n",
      "\u001b[01;36mENCFF694ODT.bigWig\u001b[0m\n",
      "\u001b[01;36mENCFF767UON.bigWig\u001b[0m\n",
      "\u001b[01;36mENCFF847BFA.bigWig\u001b[0m\n"
     ]
    }
   ],
   "source": [
    "ls -1 ${FD_OUT}"
   ]
  },
  {
   "cell_type": "code",
   "execution_count": null,
   "id": "9f1aabda-6f3b-478d-b8d2-794091b79cc8",
   "metadata": {},
   "outputs": [],
   "source": []
  }
 ],
 "metadata": {
  "kernelspec": {
   "display_name": "Bash",
   "language": "bash",
   "name": "bash"
  },
  "language_info": {
   "codemirror_mode": "shell",
   "file_extension": ".sh",
   "mimetype": "text/x-sh",
   "name": "bash"
  }
 },
 "nbformat": 4,
 "nbformat_minor": 5
}
