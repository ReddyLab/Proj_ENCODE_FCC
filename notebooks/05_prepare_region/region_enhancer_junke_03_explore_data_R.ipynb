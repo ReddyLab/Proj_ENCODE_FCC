{
 "cells": [
  {
   "cell_type": "raw",
   "id": "e9669c80-714b-42fc-9ecc-143f9a7d8661",
   "metadata": {},
   "source": [
    "---\n",
    "title: Prepare Junke peak call region 03\n",
    "subtitle: Get peak call from Junke's z-score peak caller\n",
    "format:\n",
    "    html:\n",
    "        code-fold:  true\n",
    "        code-tools: true\n",
    "---"
   ]
  },
  {
   "cell_type": "markdown",
   "id": "a1d6fee6-8bc1-43f4-9cee-c29bf9caa76b",
   "metadata": {},
   "source": [
    "**Set environment**"
   ]
  },
  {
   "cell_type": "code",
   "execution_count": 1,
   "id": "a2f5ac12-3c76-4b92-9ea3-87fa7fd522b7",
   "metadata": {
    "tags": []
   },
   "outputs": [
    {
     "name": "stdout",
     "output_type": "stream",
     "text": [
      "You are working on        Singularity: singularity_proj_encode_fcc \n",
      "BASE DIRECTORY (FD_BASE): /data/reddylab/Kuei \n",
      "REPO DIRECTORY (FD_REPO): /data/reddylab/Kuei/repo \n",
      "WORK DIRECTORY (FD_WORK): /data/reddylab/Kuei/work \n",
      "DATA DIRECTORY (FD_DATA): /data/reddylab/Kuei/data \n",
      "\n",
      "You are working with      ENCODE FCC \n",
      "PATH OF PROJECT (FD_PRJ): /data/reddylab/Kuei/repo/Proj_ENCODE_FCC \n",
      "PROJECT RESULTS (FD_RES): /data/reddylab/Kuei/repo/Proj_ENCODE_FCC/results \n",
      "PROJECT SCRIPTS (FD_EXE): /data/reddylab/Kuei/repo/Proj_ENCODE_FCC/scripts \n",
      "PROJECT DATA    (FD_DAT): /data/reddylab/Kuei/repo/Proj_ENCODE_FCC/data \n",
      "PROJECT NOTE    (FD_NBK): /data/reddylab/Kuei/repo/Proj_ENCODE_FCC/notebooks \n",
      "PROJECT DOCS    (FD_DOC): /data/reddylab/Kuei/repo/Proj_ENCODE_FCC/docs \n",
      "PROJECT LOG     (FD_LOG): /data/reddylab/Kuei/repo/Proj_ENCODE_FCC/log \n",
      "PROJECT REF     (FD_REF): /data/reddylab/Kuei/repo/Proj_ENCODE_FCC/references \n",
      "\n"
     ]
    }
   ],
   "source": [
    "suppressMessages(suppressWarnings(source(\"../run_config_project_sing.R\")))\n",
    "show_env()"
   ]
  },
  {
   "cell_type": "markdown",
   "id": "222f88ce-e639-4698-91fc-0709b5f6e966",
   "metadata": {},
   "source": [
    "**Set global variables**"
   ]
  },
  {
   "cell_type": "code",
   "execution_count": 2,
   "id": "3fb97a54-2cfc-4d88-a5ad-652a4f516ff6",
   "metadata": {},
   "outputs": [
    {
     "name": "stdout",
     "output_type": "stream",
     "text": [
      "ATAC_STARR_seq_100bp_genomic_bin_in_ATAC_seq_peak_cpm_20_avg_DNA_lib_ \n",
      "eSTARR_seq \n",
      "LentiMPRA_DNA_filtering_avg_DNA_lib_count_10 \n",
      "TilingMPRA_ENCSR363XER_DNA_filtering_avg_DNA_lib_count_10 \n",
      "TilingMPRA_ENCSR394HXI_DNA_filtering_avg_DNA_lib_count_10 \n",
      "TilingMPRA_ENCSR917SFD_DNA_filtering_avg_DNA_lib_count_10 \n",
      "WHG_STARR_TR \n"
     ]
    }
   ],
   "source": [
    "txt_fdiry = file.path(FD_DAT, \"processed\", \"fcc_enhancer_Junke_zscore_240611\", \"decompressed\")\n",
    "vec = dir(txt_fdiry)\n",
    "for(txt in vec){cat(txt, \"\\n\")}"
   ]
  },
  {
   "cell_type": "code",
   "execution_count": 3,
   "id": "932fa812-8155-41a8-8b5e-9312a42d5c09",
   "metadata": {},
   "outputs": [],
   "source": [
    "VEC_TXT_REGION_NAME = c(\n",
    "    \"ATAC_STARR_seq_100bp_genomic_bin_in_ATAC_seq_peak_cpm_20_avg_DNA_lib_\",\n",
    "    \"WHG_STARR_TR\",\n",
    "    \"TilingMPRA_ENCSR363XER_DNA_filtering_avg_DNA_lib_count_10\",\n",
    "    \"TilingMPRA_ENCSR394HXI_DNA_filtering_avg_DNA_lib_count_10\",\n",
    "    \"TilingMPRA_ENCSR917SFD_DNA_filtering_avg_DNA_lib_count_10\",\n",
    "    \"LentiMPRA_DNA_filtering_avg_DNA_lib_count_10\",\n",
    "    \"eSTARR_seq\"\n",
    ")\n",
    "\n",
    "VEC_TXT_ASSAY_NAME = c(\n",
    "    \"ASTARR_TR\",\n",
    "    \"WSTARR_TR\",\n",
    "    \"TMPRA_OL45\",\n",
    "    \"TMPRA_OL13\",\n",
    "    \"TMPRA_OL43\",\n",
    "    \"LMPRA_Nadav\",\n",
    "    \"eSTARR\"\n",
    ")\n",
    "\n",
    "VEC_TXT_ASSAY_GROUP = c(\n",
    "    \"ASTARR\",\n",
    "    \"WSTARR\",\n",
    "    \"TMPRA\",\n",
    "    \"TMPRA\",\n",
    "    \"TMPRA\",\n",
    "    \"LMPRA\",\n",
    "    \"eSTARR\"\n",
    ")\n",
    "\n",
    "fun1 = function(txt){\n",
    "    vec1 = VEC_TXT_REGION_NAME\n",
    "    vec2 = VEC_TXT_ASSAY_NAME\n",
    "    res  = fun_str_map_detect(txt, vec1, vec2)\n",
    "    return(res)\n",
    "}\n",
    "\n",
    "fun2 = function(txt){\n",
    "    vec1 = VEC_TXT_REGION_NAME\n",
    "    vec2 = VEC_TXT_ASSAY_GROUP\n",
    "    res  = fun_str_map_detect(txt, vec1, vec2)\n",
    "    return(res)\n",
    "}\n",
    "\n",
    "fun3 = function(txt){\n",
    "    vec1 = c(\"enhancer\", \"repressor\")\n",
    "    vec2 = c(\"A\", \"R\")\n",
    "    res  = fun_str_map_detect(txt, vec1, vec2)\n",
    "    return(res)\n",
    "}\n",
    "\n",
    "fun4 = function(txt){\n",
    "    vec1 = c(\"orientation_independent\", \"in_either_orientation\")\n",
    "    vec2 = c(\"B\", \"\")\n",
    "    res  = fun_str_map_detect(txt, vec1, vec2)\n",
    "    return(res)\n",
    "}"
   ]
  },
  {
   "cell_type": "code",
   "execution_count": null,
   "id": "8a21335d-156e-435b-b30a-27b1a4981566",
   "metadata": {},
   "outputs": [],
   "source": []
  },
  {
   "cell_type": "code",
   "execution_count": null,
   "id": "707e188c-2b5b-4e20-946e-cc2e5ca4d1be",
   "metadata": {},
   "outputs": [],
   "source": []
  },
  {
   "cell_type": "code",
   "execution_count": null,
   "id": "312ded12-8358-476c-a471-653568fb5e0a",
   "metadata": {},
   "outputs": [],
   "source": []
  },
  {
   "cell_type": "code",
   "execution_count": null,
   "id": "41c2e57c-72af-426b-8e60-2a0f9dcfdbaf",
   "metadata": {},
   "outputs": [],
   "source": []
  },
  {
   "cell_type": "markdown",
   "id": "7a340cd4-0b2f-465d-8bc6-359c7286a56b",
   "metadata": {},
   "source": [
    "**Set environment**"
   ]
  },
  {
   "cell_type": "code",
   "execution_count": 3,
   "id": "49c8887a-1eda-4f73-81e9-16dceaf86ab7",
   "metadata": {
    "tags": []
   },
   "outputs": [
    {
     "name": "stdout",
     "output_type": "stream",
     "text": [
      "You are working on        Singularity: singularity_proj_encode_fcc \n",
      "BASE DIRECTORY (FD_BASE): /data/reddylab/Kuei \n",
      "REPO DIRECTORY (FD_REPO): /data/reddylab/Kuei/repo \n",
      "WORK DIRECTORY (FD_WORK): /data/reddylab/Kuei/work \n",
      "DATA DIRECTORY (FD_DATA): /data/reddylab/Kuei/data \n",
      "\n",
      "You are working with      ENCODE FCC \n",
      "PATH OF PROJECT (FD_PRJ): /data/reddylab/Kuei/repo/Proj_ENCODE_FCC \n",
      "PROJECT RESULTS (FD_RES): /data/reddylab/Kuei/repo/Proj_ENCODE_FCC/results \n",
      "PROJECT SCRIPTS (FD_EXE): /data/reddylab/Kuei/repo/Proj_ENCODE_FCC/scripts \n",
      "PROJECT DATA    (FD_DAT): /data/reddylab/Kuei/repo/Proj_ENCODE_FCC/data \n",
      "PROJECT NOTE    (FD_NBK): /data/reddylab/Kuei/repo/Proj_ENCODE_FCC/notebooks \n",
      "PROJECT DOCS    (FD_DOC): /data/reddylab/Kuei/repo/Proj_ENCODE_FCC/docs \n",
      "PROJECT LOG     (FD_LOG): /data/reddylab/Kuei/repo/Proj_ENCODE_FCC/log \n",
      "PROJECT REF     (FD_REF): /data/reddylab/Kuei/repo/Proj_ENCODE_FCC/references \n",
      "\n"
     ]
    }
   ],
   "source": [
    "suppressMessages(suppressWarnings(source(\"../run_config_project_sing.R\")))\n",
    "show_env()"
   ]
  },
  {
   "cell_type": "markdown",
   "id": "90c5af92-f6b2-4082-9558-cfe1b0731514",
   "metadata": {},
   "source": [
    "## import data"
   ]
  },
  {
   "cell_type": "code",
   "execution_count": 4,
   "id": "ee989415-5902-43d3-9b6d-f17f0cbcda38",
   "metadata": {},
   "outputs": [
    {
     "name": "stdout",
     "output_type": "stream",
     "text": [
      "K562.hg38.ASTARR.junke.bed.gz \n",
      "K562.hg38.eSTARR.junke.bed.gz \n",
      "K562.hg38.LMPRA.junke.bed.gz \n",
      "K562.hg38.TMPRA.junke.bed.gz \n",
      "K562.hg38.WSTARR.junke.bed.gz \n",
      "summary \n"
     ]
    }
   ],
   "source": [
    "### set directory\n",
    "txt_fdiry = file.path(FD_RES, \"region\", \"fcc_starrmpra_junke\")\n",
    "vec = dir(txt_fdiry)\n",
    "for (txt in vec){cat(txt, \"\\n\")}"
   ]
  },
  {
   "cell_type": "code",
   "execution_count": 5,
   "id": "648d95c4-28bd-4dfe-ba87-dbe98ad2fdd7",
   "metadata": {},
   "outputs": [
    {
     "name": "stdout",
     "output_type": "stream",
     "text": [
      "description.tsv \n",
      "metadata.label.tsv \n",
      "metadata.tsv \n"
     ]
    }
   ],
   "source": [
    "### set directory\n",
    "txt_fdiry = file.path(FD_RES, \"region\", \"fcc_starrmpra_junke\", \"summary\")\n",
    "vec = dir(txt_fdiry)\n",
    "for (txt in vec){cat(txt, \"\\n\")}"
   ]
  },
  {
   "cell_type": "code",
   "execution_count": 21,
   "id": "26059a19-36bf-44ee-b8ca-88cb6b454e35",
   "metadata": {},
   "outputs": [
    {
     "name": "stdout",
     "output_type": "stream",
     "text": [
      "K562.hg38.ASTARR.junke.bed.gz \n",
      "K562.hg38.eSTARR.junke.bed.gz \n",
      "K562.hg38.LMPRA.junke.bed.gz \n",
      "K562.hg38.TMPRA.junke.bed.gz \n",
      "K562.hg38.WSTARR.junke.bed.gz \n"
     ]
    }
   ],
   "source": [
    "### set directory\n",
    "txt_fdiry = file.path(FD_RES, \"region\", \"fcc_starrmpra_junke\")\n",
    "txt_fname = \"*bed.gz\"\n",
    "txt_fglob = file.path(txt_fdiry, txt_fname)\n",
    "\n",
    "vec_txt_fpath = Sys.glob(txt_fglob)\n",
    "vec_txt_fname = basename(vec_txt_fpath)\n",
    "\n",
    "vec = vec_txt_fname\n",
    "for (txt in vec){cat(txt, \"\\n\")}"
   ]
  },
  {
   "cell_type": "code",
   "execution_count": 22,
   "id": "cbe015e9-f957-4a14-987d-66b3bc681095",
   "metadata": {},
   "outputs": [
    {
     "data": {
      "text/html": [
       "<table class=\"dataframe\">\n",
       "<caption>A spec_tbl_df: 9 × 2</caption>\n",
       "<thead>\n",
       "\t<tr><th scope=col>Name</th><th scope=col>Note</th></tr>\n",
       "\t<tr><th scope=col>&lt;chr&gt;</th><th scope=col>&lt;chr&gt;</th></tr>\n",
       "</thead>\n",
       "<tbody>\n",
       "\t<tr><td>Chrom     </td><td>Name of the chromosome                                </td></tr>\n",
       "\t<tr><td>ChromStart</td><td>The starting position of the feature in the chromosome</td></tr>\n",
       "\t<tr><td>ChromEnd  </td><td>The ending position of the feature in the chromosome  </td></tr>\n",
       "\t<tr><td>Name      </td><td>Name                                                  </td></tr>\n",
       "\t<tr><td>Score     </td><td>Z score based on mean(logFC of all the bins)          </td></tr>\n",
       "\t<tr><td>Strand    </td><td>Strand                                                </td></tr>\n",
       "\t<tr><td>Group     </td><td>Assay name                                            </td></tr>\n",
       "\t<tr><td>Label     </td><td>Assay name + direction                                </td></tr>\n",
       "\t<tr><td>Dataset   </td><td>Assay dataset                                         </td></tr>\n",
       "</tbody>\n",
       "</table>\n"
      ],
      "text/latex": [
       "A spec\\_tbl\\_df: 9 × 2\n",
       "\\begin{tabular}{ll}\n",
       " Name & Note\\\\\n",
       " <chr> & <chr>\\\\\n",
       "\\hline\n",
       "\t Chrom      & Name of the chromosome                                \\\\\n",
       "\t ChromStart & The starting position of the feature in the chromosome\\\\\n",
       "\t ChromEnd   & The ending position of the feature in the chromosome  \\\\\n",
       "\t Name       & Name                                                  \\\\\n",
       "\t Score      & Z score based on mean(logFC of all the bins)          \\\\\n",
       "\t Strand     & Strand                                                \\\\\n",
       "\t Group      & Assay name                                            \\\\\n",
       "\t Label      & Assay name + direction                                \\\\\n",
       "\t Dataset    & Assay dataset                                         \\\\\n",
       "\\end{tabular}\n"
      ],
      "text/markdown": [
       "\n",
       "A spec_tbl_df: 9 × 2\n",
       "\n",
       "| Name &lt;chr&gt; | Note &lt;chr&gt; |\n",
       "|---|---|\n",
       "| Chrom      | Name of the chromosome                                 |\n",
       "| ChromStart | The starting position of the feature in the chromosome |\n",
       "| ChromEnd   | The ending position of the feature in the chromosome   |\n",
       "| Name       | Name                                                   |\n",
       "| Score      | Z score based on mean(logFC of all the bins)           |\n",
       "| Strand     | Strand                                                 |\n",
       "| Group      | Assay name                                             |\n",
       "| Label      | Assay name + direction                                 |\n",
       "| Dataset    | Assay dataset                                          |\n",
       "\n"
      ],
      "text/plain": [
       "  Name       Note                                                  \n",
       "1 Chrom      Name of the chromosome                                \n",
       "2 ChromStart The starting position of the feature in the chromosome\n",
       "3 ChromEnd   The ending position of the feature in the chromosome  \n",
       "4 Name       Name                                                  \n",
       "5 Score      Z score based on mean(logFC of all the bins)          \n",
       "6 Strand     Strand                                                \n",
       "7 Group      Assay name                                            \n",
       "8 Label      Assay name + direction                                \n",
       "9 Dataset    Assay dataset                                         "
      ]
     },
     "metadata": {},
     "output_type": "display_data"
    }
   ],
   "source": [
    "### set directory\n",
    "txt_fdiry = file.path(FD_RES, \"region\", \"fcc_starrmpra_junke\", \"summary\")\n",
    "txt_fname = \"description.tsv\"\n",
    "txt_fpath = file.path(txt_fdiry, txt_fname)\n",
    "\n",
    "### import data\n",
    "dat = read_tsv(txt_fpath, show_col_types = FALSE)\n",
    "\n",
    "### assign and show\n",
    "dat_cnames = dat\n",
    "dat"
   ]
  },
  {
   "cell_type": "code",
   "execution_count": 31,
   "id": "944b0b9a-c606-49c2-9688-3e6cbf8d66da",
   "metadata": {},
   "outputs": [],
   "source": [
    "vec_txt_cnames = dat_cnames$Name\n",
    "\n",
    "lst = lapply(vec_txt_fpath, function(txt_fpath){\n",
    "    dat = read_tsv(\n",
    "        txt_fpath, \n",
    "        col_names = vec_txt_cnames,\n",
    "        show_col_types = FALSE\n",
    "    )\n",
    "    return(dat)\n",
    "})\n",
    "names(lst) = vec_txt_fname\n",
    "\n",
    "lst_dat_import = lst"
   ]
  },
  {
   "cell_type": "code",
   "execution_count": 32,
   "id": "b727b1e5-bf15-48da-b225-fe4d6e0d79de",
   "metadata": {},
   "outputs": [],
   "source": [
    "lst = lst_dat_import\n",
    "lst = lapply(lst, function(dat){\n",
    "    dat = dat %>% dplyr::filter(!str_detect(Label, \"_AB\"))\n",
    "    dat = dat %>% dplyr::filter(!str_detect(Label, \"_RB\"))\n",
    "    dat = dat %>% dplyr::arrange(Chrom, ChromStart, ChromEnd)\n",
    "    return(dat)\n",
    "})\n",
    "\n",
    "lst_dat_arrange = lst"
   ]
  },
  {
   "cell_type": "code",
   "execution_count": 33,
   "id": "468dfea0-f1c1-448f-9598-75c37f8101f4",
   "metadata": {},
   "outputs": [
    {
     "name": "stdout",
     "output_type": "stream",
     "text": [
      "$K562.hg38.ASTARR.junke.bed.gz\n",
      "\n",
      " ASTARR_A ASTARR_AB  ASTARR_R ASTARR_RB \n",
      "    35505     11680    154337     28775 \n",
      "\n",
      "$K562.hg38.eSTARR.junke.bed.gz\n",
      "\n",
      " eSTARR_A eSTARR_AB  eSTARR_R eSTARR_RB \n",
      "      150        31       341        65 \n",
      "\n",
      "$K562.hg38.LMPRA.junke.bed.gz\n",
      "\n",
      " LMPRA_A LMPRA_AB  LMPRA_R LMPRA_RB \n",
      "   25648    16603      485      128 \n",
      "\n",
      "$K562.hg38.TMPRA.junke.bed.gz\n",
      "\n",
      " TMPRA_A TMPRA_AB  TMPRA_R TMPRA_RB \n",
      "    6017       57      254        1 \n",
      "\n",
      "$K562.hg38.WSTARR.junke.bed.gz\n",
      "\n",
      " WSTARR_A WSTARR_AB  WSTARR_R \n",
      "    79738     25505     62201 \n",
      "\n"
     ]
    }
   ],
   "source": [
    "lst = lst_dat_import\n",
    "lst = lapply(lst, function(dat){\n",
    "    res = table(dat$Label)\n",
    "    return(res)\n",
    "})\n",
    "print(lst)"
   ]
  },
  {
   "cell_type": "code",
   "execution_count": 34,
   "id": "b9cde524-ba1e-42ad-8290-e392c8f5146d",
   "metadata": {},
   "outputs": [
    {
     "name": "stdout",
     "output_type": "stream",
     "text": [
      "$K562.hg38.ASTARR.junke.bed.gz\n",
      "\n",
      "ASTARR_A ASTARR_R \n",
      "   35505   154337 \n",
      "\n",
      "$K562.hg38.eSTARR.junke.bed.gz\n",
      "\n",
      "eSTARR_A eSTARR_R \n",
      "     150      341 \n",
      "\n",
      "$K562.hg38.LMPRA.junke.bed.gz\n",
      "\n",
      "LMPRA_A LMPRA_R \n",
      "  25648     485 \n",
      "\n",
      "$K562.hg38.TMPRA.junke.bed.gz\n",
      "\n",
      "TMPRA_A TMPRA_R \n",
      "   6017     254 \n",
      "\n",
      "$K562.hg38.WSTARR.junke.bed.gz\n",
      "\n",
      "WSTARR_A WSTARR_R \n",
      "   79738    62201 \n",
      "\n"
     ]
    }
   ],
   "source": [
    "lst = lst_dat_arrange\n",
    "lst = lapply(lst, function(dat){\n",
    "    res = table(dat$Label)\n",
    "    return(res)\n",
    "})\n",
    "print(lst)"
   ]
  },
  {
   "cell_type": "code",
   "execution_count": null,
   "id": "95bd6794-0489-40ad-b4c5-cf007b9ac4b4",
   "metadata": {},
   "outputs": [],
   "source": []
  },
  {
   "cell_type": "code",
   "execution_count": null,
   "id": "5f9cb7de-21b7-48dc-ba8b-18270b157e72",
   "metadata": {},
   "outputs": [],
   "source": []
  },
  {
   "cell_type": "code",
   "execution_count": null,
   "id": "92effce6-a308-4b78-aaa6-55fe67bf3dee",
   "metadata": {},
   "outputs": [],
   "source": []
  },
  {
   "cell_type": "code",
   "execution_count": 42,
   "id": "d477e9fb-57a8-48be-95be-33cce4155858",
   "metadata": {},
   "outputs": [
    {
     "name": "stdout",
     "output_type": "stream",
     "text": [
      "K562.hg38.ASTARR.junke.shared.tsv"
     ]
    }
   ],
   "source": [
    "txt = \"K562.hg38.ASTARR.junke.bed.gz\"\n",
    "txt = str_replace(txt, \".bed.gz\", \".shared.tsv\")\n",
    "cat(txt)"
   ]
  },
  {
   "cell_type": "code",
   "execution_count": 44,
   "id": "35d45a1d-4290-4b09-9e5c-a21f88f3178c",
   "metadata": {},
   "outputs": [
    {
     "name": "stdout",
     "output_type": "stream",
     "text": [
      "[1] \"K562.hg38.ASTARR.junke.shared.tsv\"\n",
      "[1] \"K562.hg38.eSTARR.junke.shared.tsv\"\n",
      "[1] \"K562.hg38.LMPRA.junke.shared.tsv\"\n",
      "[1] \"K562.hg38.TMPRA.junke.shared.tsv\"\n",
      "[1] \"K562.hg38.WSTARR.junke.shared.tsv\"\n"
     ]
    }
   ],
   "source": [
    "### set directory\n",
    "txt_fdiry = file.path(FD_RES, \"region\", \"fcc_starrmpra_junke\", \"summary\")\n",
    "\n",
    "lst = lst_dat_arrange\n",
    "for (idx in names(lst)){\n",
    "    ### setup file name and path\n",
    "    txt_fname = str_replace(idx, \".bed.gz\", \".shared.tsv\")\n",
    "    txt_fpath = file.path(txt_fdiry, txt_fname)\n",
    "    print(txt_fname)\n",
    "\n",
    "    ### write table\n",
    "    dat = lst[[idx]]\n",
    "    write_tsv(dat, txt_fpath)\n",
    "}"
   ]
  },
  {
   "cell_type": "code",
   "execution_count": null,
   "id": "79949182-319f-4553-b560-69434492b130",
   "metadata": {},
   "outputs": [],
   "source": []
  }
 ],
 "metadata": {
  "kernelspec": {
   "display_name": "R",
   "language": "R",
   "name": "ir"
  },
  "language_info": {
   "codemirror_mode": "r",
   "file_extension": ".r",
   "mimetype": "text/x-r-source",
   "name": "R",
   "pygments_lexer": "r",
   "version": "4.4.2"
  }
 },
 "nbformat": 4,
 "nbformat_minor": 5
}
