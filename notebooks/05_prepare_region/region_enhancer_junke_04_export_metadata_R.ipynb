{
 "cells": [
  {
   "cell_type": "raw",
   "id": "410f23bc-74db-4ee5-b304-8e3054317349",
   "metadata": {},
   "source": [
    "---\n",
    "title: Prepare Junke peak call region 04\n",
    "subtitle: Generate metadata of the peak file\n",
    "format:\n",
    "    html:\n",
    "        code-fold:  true\n",
    "        code-tools: true\n",
    "---"
   ]
  },
  {
   "cell_type": "markdown",
   "id": "a00ef764-e9f4-448b-9d3c-3482bb2aaf78",
   "metadata": {},
   "source": [
    "**Set environment**"
   ]
  },
  {
   "cell_type": "code",
   "execution_count": 1,
   "id": "6769cbe4-96cf-44f2-9e39-88061dfa880b",
   "metadata": {},
   "outputs": [
    {
     "name": "stdout",
     "output_type": "stream",
     "text": [
      "You are working on        Singularity: singularity_proj_encode_fcc \n",
      "BASE DIRECTORY (FD_BASE): /data/reddylab/Kuei \n",
      "REPO DIRECTORY (FD_REPO): /data/reddylab/Kuei/repo \n",
      "WORK DIRECTORY (FD_WORK): /data/reddylab/Kuei/work \n",
      "DATA DIRECTORY (FD_DATA): /data/reddylab/Kuei/data \n",
      "\n",
      "You are working with      ENCODE FCC \n",
      "PATH OF PROJECT (FD_PRJ): /data/reddylab/Kuei/repo/Proj_ENCODE_FCC \n",
      "PROJECT RESULTS (FD_RES): /data/reddylab/Kuei/repo/Proj_ENCODE_FCC/results \n",
      "PROJECT SCRIPTS (FD_EXE): /data/reddylab/Kuei/repo/Proj_ENCODE_FCC/scripts \n",
      "PROJECT DATA    (FD_DAT): /data/reddylab/Kuei/repo/Proj_ENCODE_FCC/data \n",
      "PROJECT NOTE    (FD_NBK): /data/reddylab/Kuei/repo/Proj_ENCODE_FCC/notebooks \n",
      "PROJECT DOCS    (FD_DOC): /data/reddylab/Kuei/repo/Proj_ENCODE_FCC/docs \n",
      "PROJECT LOG     (FD_LOG): /data/reddylab/Kuei/repo/Proj_ENCODE_FCC/log \n",
      "PROJECT REF     (FD_REF): /data/reddylab/Kuei/repo/Proj_ENCODE_FCC/references \n",
      "\n"
     ]
    }
   ],
   "source": [
    "suppressMessages(suppressWarnings(source(\"../run_config_project_sing.R\")))\n",
    "show_env()"
   ]
  },
  {
   "cell_type": "markdown",
   "id": "b3a1f3fe-7fc5-4036-b03c-0b898cd4bd29",
   "metadata": {},
   "source": [
    "**Set global variables**"
   ]
  },
  {
   "cell_type": "code",
   "execution_count": 2,
   "id": "04bbd483-e058-475d-b699-3a9b590623c9",
   "metadata": {},
   "outputs": [],
   "source": [
    "TXT_FOLDER_REGION = \"fcc_starrmpra_junke\""
   ]
  },
  {
   "cell_type": "markdown",
   "id": "799952c9-5b2d-47e2-975a-a27ef3199458",
   "metadata": {},
   "source": [
    "## Define file labeling"
   ]
  },
  {
   "cell_type": "code",
   "execution_count": 3,
   "id": "d59d4818-ed61-47dc-b115-9f1a2843b912",
   "metadata": {},
   "outputs": [
    {
     "data": {
      "text/html": [
       "<table>\n",
       " <thead>\n",
       "  <tr>\n",
       "   <th style=\"text-align:left;\"> Folder </th>\n",
       "   <th style=\"text-align:left;\"> FName </th>\n",
       "   <th style=\"text-align:left;\"> FPath </th>\n",
       "  </tr>\n",
       " </thead>\n",
       "<tbody>\n",
       "  <tr>\n",
       "   <td style=\"text-align:left;\"> fcc_starrmpra_junke </td>\n",
       "   <td style=\"text-align:left;\"> K562.hg38.ASTARR.junke.bed.gz </td>\n",
       "   <td style=\"text-align:left;\"> /data/reddylab/Kuei/repo/Proj_ENCODE_FCC/results/region/fcc_starrmpra_junke/K562.hg38.ASTARR.junke.bed.gz </td>\n",
       "  </tr>\n",
       "  <tr>\n",
       "   <td style=\"text-align:left;\"> fcc_starrmpra_junke </td>\n",
       "   <td style=\"text-align:left;\"> K562.hg38.eSTARR.junke.bed.gz </td>\n",
       "   <td style=\"text-align:left;\"> /data/reddylab/Kuei/repo/Proj_ENCODE_FCC/results/region/fcc_starrmpra_junke/K562.hg38.eSTARR.junke.bed.gz </td>\n",
       "  </tr>\n",
       "  <tr>\n",
       "   <td style=\"text-align:left;\"> fcc_starrmpra_junke </td>\n",
       "   <td style=\"text-align:left;\"> K562.hg38.LMPRA.junke.bed.gz </td>\n",
       "   <td style=\"text-align:left;\"> /data/reddylab/Kuei/repo/Proj_ENCODE_FCC/results/region/fcc_starrmpra_junke/K562.hg38.LMPRA.junke.bed.gz </td>\n",
       "  </tr>\n",
       "  <tr>\n",
       "   <td style=\"text-align:left;\"> fcc_starrmpra_junke </td>\n",
       "   <td style=\"text-align:left;\"> K562.hg38.TMPRA.junke.bed.gz </td>\n",
       "   <td style=\"text-align:left;\"> /data/reddylab/Kuei/repo/Proj_ENCODE_FCC/results/region/fcc_starrmpra_junke/K562.hg38.TMPRA.junke.bed.gz </td>\n",
       "  </tr>\n",
       "  <tr>\n",
       "   <td style=\"text-align:left;\"> fcc_starrmpra_junke </td>\n",
       "   <td style=\"text-align:left;\"> K562.hg38.WSTARR.junke.bed.gz </td>\n",
       "   <td style=\"text-align:left;\"> /data/reddylab/Kuei/repo/Proj_ENCODE_FCC/results/region/fcc_starrmpra_junke/K562.hg38.WSTARR.junke.bed.gz </td>\n",
       "  </tr>\n",
       "</tbody>\n",
       "</table>"
      ]
     },
     "metadata": {},
     "output_type": "display_data"
    }
   ],
   "source": [
    "### set directory\n",
    "txt_folder = TXT_FOLDER_REGION\n",
    "txt_fdiry  = file.path(FD_RES, \"region\", txt_folder)\n",
    "txt_fglob  = file.path(txt_fdiry, \"*bed*\")\n",
    "\n",
    "### get file names\n",
    "vec_txt_fpath = Sys.glob(txt_fglob)\n",
    "vec_txt_fname = basename(vec_txt_fpath)\n",
    "\n",
    "### init info table\n",
    "dat = data.frame(\n",
    "    \"Folder\" = txt_folder,\n",
    "    \"FName\"  = vec_txt_fname,\n",
    "    \"FPath\"  = vec_txt_fpath\n",
    ")\n",
    "\n",
    "### assign and show\n",
    "dat_region = dat\n",
    "fun_display_table(dat)"
   ]
  },
  {
   "cell_type": "code",
   "execution_count": 4,
   "id": "b3eb883d-0d11-4795-82df-81b5eda79654",
   "metadata": {},
   "outputs": [
    {
     "data": {
      "text/html": [
       "<table>\n",
       " <thead>\n",
       "  <tr>\n",
       "   <th style=\"text-align:left;\"> Folder </th>\n",
       "   <th style=\"text-align:left;\"> FName </th>\n",
       "   <th style=\"text-align:left;\"> Label </th>\n",
       "   <th style=\"text-align:left;\"> FPath </th>\n",
       "  </tr>\n",
       " </thead>\n",
       "<tbody>\n",
       "  <tr>\n",
       "   <td style=\"text-align:left;\"> fcc_starrmpra_junke </td>\n",
       "   <td style=\"text-align:left;\"> K562.hg38.ASTARR.junke.bed.gz </td>\n",
       "   <td style=\"text-align:left;\"> fcc_starrmpra_junke_astarr </td>\n",
       "   <td style=\"text-align:left;\"> /data/reddylab/Kuei/repo/Proj_ENCODE_FCC/results/region/fcc_starrmpra_junke/K562.hg38.ASTARR.junke.bed.gz </td>\n",
       "  </tr>\n",
       "  <tr>\n",
       "   <td style=\"text-align:left;\"> fcc_starrmpra_junke </td>\n",
       "   <td style=\"text-align:left;\"> K562.hg38.eSTARR.junke.bed.gz </td>\n",
       "   <td style=\"text-align:left;\"> fcc_starrmpra_junke_estarr </td>\n",
       "   <td style=\"text-align:left;\"> /data/reddylab/Kuei/repo/Proj_ENCODE_FCC/results/region/fcc_starrmpra_junke/K562.hg38.eSTARR.junke.bed.gz </td>\n",
       "  </tr>\n",
       "  <tr>\n",
       "   <td style=\"text-align:left;\"> fcc_starrmpra_junke </td>\n",
       "   <td style=\"text-align:left;\"> K562.hg38.LMPRA.junke.bed.gz </td>\n",
       "   <td style=\"text-align:left;\"> fcc_starrmpra_junke_lmpra </td>\n",
       "   <td style=\"text-align:left;\"> /data/reddylab/Kuei/repo/Proj_ENCODE_FCC/results/region/fcc_starrmpra_junke/K562.hg38.LMPRA.junke.bed.gz </td>\n",
       "  </tr>\n",
       "  <tr>\n",
       "   <td style=\"text-align:left;\"> fcc_starrmpra_junke </td>\n",
       "   <td style=\"text-align:left;\"> K562.hg38.TMPRA.junke.bed.gz </td>\n",
       "   <td style=\"text-align:left;\"> fcc_starrmpra_junke_tmpra </td>\n",
       "   <td style=\"text-align:left;\"> /data/reddylab/Kuei/repo/Proj_ENCODE_FCC/results/region/fcc_starrmpra_junke/K562.hg38.TMPRA.junke.bed.gz </td>\n",
       "  </tr>\n",
       "  <tr>\n",
       "   <td style=\"text-align:left;\"> fcc_starrmpra_junke </td>\n",
       "   <td style=\"text-align:left;\"> K562.hg38.WSTARR.junke.bed.gz </td>\n",
       "   <td style=\"text-align:left;\"> fcc_starrmpra_junke_wstarr </td>\n",
       "   <td style=\"text-align:left;\"> /data/reddylab/Kuei/repo/Proj_ENCODE_FCC/results/region/fcc_starrmpra_junke/K562.hg38.WSTARR.junke.bed.gz </td>\n",
       "  </tr>\n",
       "</tbody>\n",
       "</table>"
      ]
     },
     "metadata": {},
     "output_type": "display_data"
    }
   ],
   "source": [
    "dat = dat_region\n",
    "dat = dat %>% \n",
    "    tidyr::separate(\n",
    "        FName, \n",
    "        c(\"Cell_Type\", \"Genome\", \"Group\", \"Label\", \"File_Type\", \"File_Ext\"), \n",
    "        sep = \"\\\\.\",\n",
    "        remove = FALSE\n",
    "    ) %>%\n",
    "    dplyr::mutate(Label = paste(Folder, tolower(Group), sep = \"_\")) %>%\n",
    "    dplyr::select(Folder, FName, Label, FPath)\n",
    "\n",
    "### assign and show\n",
    "dat_region_label = dat\n",
    "fun_display_table(dat)"
   ]
  },
  {
   "cell_type": "markdown",
   "id": "768c68f9-cec6-477f-8672-19a518bbf075",
   "metadata": {},
   "source": [
    "## Save results"
   ]
  },
  {
   "cell_type": "code",
   "execution_count": 5,
   "id": "193da785-cc9e-4142-a87f-e20e21ec4e87",
   "metadata": {},
   "outputs": [],
   "source": [
    "txt_folder = TXT_FOLDER_REGION\n",
    "txt_fdiry  = file.path(FD_RES, \"region\", txt_folder, \"summary\")\n",
    "txt_fname  = \"metadata.label.tsv\"\n",
    "txt_fpath  = file.path(txt_fdiry, txt_fname)\n",
    "\n",
    "dir.create(txt_fdiry, showWarnings = FALSE)\n",
    "dat = dat_region_label\n",
    "write_tsv(dat, txt_fpath)"
   ]
  },
  {
   "cell_type": "code",
   "execution_count": null,
   "id": "d28ef97c-9dcd-43ee-8ca2-6b4d43d5a83d",
   "metadata": {},
   "outputs": [],
   "source": []
  }
 ],
 "metadata": {
  "kernelspec": {
   "display_name": "R",
   "language": "R",
   "name": "ir"
  },
  "language_info": {
   "codemirror_mode": "r",
   "file_extension": ".r",
   "mimetype": "text/x-r-source",
   "name": "R",
   "pygments_lexer": "r",
   "version": "4.4.2"
  }
 },
 "nbformat": 4,
 "nbformat_minor": 5
}
