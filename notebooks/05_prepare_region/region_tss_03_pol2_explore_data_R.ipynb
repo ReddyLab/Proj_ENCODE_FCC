{
 "cells": [
  {
   "cell_type": "raw",
   "id": "3e02b9ca-a4c9-4043-962f-ad69bd027db7",
   "metadata": {},
   "source": [
    "---\n",
    "title: Prepare TSS annotation 02\n",
    "subtitle: Explore data\n",
    "format:\n",
    "    html:\n",
    "        code-fold:  true\n",
    "        code-tools: true\n",
    "---"
   ]
  },
  {
   "cell_type": "markdown",
   "id": "3979ec8a-44b1-495e-bf62-9bc8a44f53fb",
   "metadata": {},
   "source": [
    "**Set environment**"
   ]
  },
  {
   "cell_type": "code",
   "execution_count": 1,
   "id": "fa6737c7-6005-4535-81d1-31ab4e0c2922",
   "metadata": {
    "tags": []
   },
   "outputs": [
    {
     "name": "stdout",
     "output_type": "stream",
     "text": [
      "You are working on        Singularity \n",
      "BASE DIRECTORY (FD_BASE): /mount \n",
      "REPO DIRECTORY (FD_REPO): /mount/repo \n",
      "WORK DIRECTORY (FD_WORK): /mount/work \n",
      "DATA DIRECTORY (FD_DATA): /mount/data \n",
      "\n",
      "You are working with      ENCODE FCC \n",
      "PATH OF PROJECT (FD_PRJ): /mount/repo/Proj_ENCODE_FCC \n",
      "PROJECT RESULTS (FD_RES): /mount/repo/Proj_ENCODE_FCC/results \n",
      "PROJECT SCRIPTS (FD_EXE): /mount/repo/Proj_ENCODE_FCC/scripts \n",
      "PROJECT DATA    (FD_DAT): /mount/repo/Proj_ENCODE_FCC/data \n",
      "PROJECT NOTE    (FD_NBK): /mount/repo/Proj_ENCODE_FCC/notebooks \n",
      "PROJECT DOCS    (FD_DOC): /mount/repo/Proj_ENCODE_FCC/docs \n",
      "PROJECT LOG     (FD_LOG): /mount/repo/Proj_ENCODE_FCC/log \n",
      "PROJECT APP     (FD_APP): /mount/repo/Proj_ENCODE_FCC/app \n",
      "PROJECT REF     (FD_REF): /mount/repo/Proj_ENCODE_FCC/references \n",
      "\n"
     ]
    }
   ],
   "source": [
    "suppressMessages(suppressWarnings(source(\"../run_config_project_sing.R\")))\n",
    "show_env()"
   ]
  },
  {
   "cell_type": "markdown",
   "id": "a28b1eb6-0207-4114-8830-40a45e1e010d",
   "metadata": {},
   "source": [
    "**Set global variables**"
   ]
  },
  {
   "cell_type": "code",
   "execution_count": 4,
   "id": "044dea28-9876-47a5-a172-43a0e67c138d",
   "metadata": {},
   "outputs": [],
   "source": [
    "TXT_REGION_FOLDER = \"genome_tss\""
   ]
  },
  {
   "cell_type": "markdown",
   "id": "4b465b87-92b4-4dc6-9353-dc7d1163a71f",
   "metadata": {
    "tags": []
   },
   "source": [
    "## Import data"
   ]
  },
  {
   "cell_type": "code",
   "execution_count": 5,
   "id": "c04bc70f-c233-41f7-be79-5e44df26425e",
   "metadata": {},
   "outputs": [
    {
     "name": "stdout",
     "output_type": "stream",
     "text": [
      "K562.hg38.TSS.selected_by_highest_Pol2_signal.bed.gz \n",
      "K562.hg38.TSS.selected_by_highest_Pol2_signal.filtered_by_RNAseq_TPM.bed.gz \n",
      "summary \n"
     ]
    }
   ],
   "source": [
    "txt_folder = TXT_REGION_FOLDER\n",
    "txt_fdiry  = file.path(FD_RES, \"region\", txt_folder)\n",
    "\n",
    "vec = dir(txt_fdiry)\n",
    "for (txt in vec){cat(txt, \"\\n\")}"
   ]
  },
  {
   "cell_type": "code",
   "execution_count": 6,
   "id": "fb73146b-3cd5-4ff9-8601-1b0a311757d3",
   "metadata": {},
   "outputs": [
    {
     "name": "stdout",
     "output_type": "stream",
     "text": [
      "description.tsv \n",
      "metadata.label.tsv \n"
     ]
    }
   ],
   "source": [
    "txt_folder = TXT_REGION_FOLDER\n",
    "txt_fdiry  = file.path(FD_RES, \"region\", txt_folder, \"summary\")\n",
    "\n",
    "vec = dir(txt_fdiry)\n",
    "for (txt in vec){cat(txt, \"\\n\")}"
   ]
  },
  {
   "cell_type": "code",
   "execution_count": 8,
   "id": "ad2e8782-d7a1-421c-8a03-aeff91aba933",
   "metadata": {},
   "outputs": [
    {
     "data": {
      "text/html": [
       "<table>\n",
       " <thead>\n",
       "  <tr>\n",
       "   <th style=\"text-align:left;\"> Name </th>\n",
       "   <th style=\"text-align:left;\"> Note </th>\n",
       "  </tr>\n",
       " </thead>\n",
       "<tbody>\n",
       "  <tr>\n",
       "   <td style=\"text-align:left;\"> Chrom </td>\n",
       "   <td style=\"text-align:left;\"> Name of the chromosome </td>\n",
       "  </tr>\n",
       "  <tr>\n",
       "   <td style=\"text-align:left;\"> ChromStart </td>\n",
       "   <td style=\"text-align:left;\"> The starting position of the feature in the chromosome </td>\n",
       "  </tr>\n",
       "  <tr>\n",
       "   <td style=\"text-align:left;\"> ChromEnd </td>\n",
       "   <td style=\"text-align:left;\"> The ending position of the feature in the chromosome </td>\n",
       "  </tr>\n",
       "  <tr>\n",
       "   <td style=\"text-align:left;\"> Name </td>\n",
       "   <td style=\"text-align:left;\"> Gene name </td>\n",
       "  </tr>\n",
       "  <tr>\n",
       "   <td style=\"text-align:left;\"> Score </td>\n",
       "   <td style=\"text-align:left;\"> highest level of pol2 chip seq (ENCFF914WIS.bigWig) at [TSS-500, TSS+500] among TSS isoform </td>\n",
       "  </tr>\n",
       "</tbody>\n",
       "</table>"
      ]
     },
     "metadata": {},
     "output_type": "display_data"
    }
   ],
   "source": [
    "### set file path\n",
    "txt_folder = TXT_REGION_FOLDER\n",
    "txt_fdiry  = file.path(FD_RES, \"region\", txt_folder, \"summary\")\n",
    "txt_fname = \"description.tsv\"\n",
    "txt_fpath = file.path(txt_fdiry, txt_fname)\n",
    "\n",
    "### read table\n",
    "dat = read_tsv(txt_fpath, show_col_types = FALSE)\n",
    "\n",
    "### assign and show\n",
    "dat_cname     = dat\n",
    "vec_txt_cname = dat$Name\n",
    "fun_display_table(head(dat))"
   ]
  },
  {
   "cell_type": "code",
   "execution_count": 9,
   "id": "cbd44071-505c-4d5e-bacb-cb6123c4f6f5",
   "metadata": {},
   "outputs": [
    {
     "data": {
      "text/html": [
       "<table>\n",
       " <thead>\n",
       "  <tr>\n",
       "   <th style=\"text-align:left;\"> Chrom </th>\n",
       "   <th style=\"text-align:right;\"> ChromStart </th>\n",
       "   <th style=\"text-align:right;\"> ChromEnd </th>\n",
       "   <th style=\"text-align:left;\"> Name </th>\n",
       "   <th style=\"text-align:right;\"> Score </th>\n",
       "  </tr>\n",
       " </thead>\n",
       "<tbody>\n",
       "  <tr>\n",
       "   <td style=\"text-align:left;\"> chr1 </td>\n",
       "   <td style=\"text-align:right;\"> 11873 </td>\n",
       "   <td style=\"text-align:right;\"> 11874 </td>\n",
       "   <td style=\"text-align:left;\"> DDX11L1 </td>\n",
       "   <td style=\"text-align:right;\"> 0.00023 </td>\n",
       "  </tr>\n",
       "  <tr>\n",
       "   <td style=\"text-align:left;\"> chr1 </td>\n",
       "   <td style=\"text-align:right;\"> 17436 </td>\n",
       "   <td style=\"text-align:right;\"> 17437 </td>\n",
       "   <td style=\"text-align:left;\"> MIR6859-1 </td>\n",
       "   <td style=\"text-align:right;\"> 9.43812 </td>\n",
       "  </tr>\n",
       "  <tr>\n",
       "   <td style=\"text-align:left;\"> chr1 </td>\n",
       "   <td style=\"text-align:right;\"> 17436 </td>\n",
       "   <td style=\"text-align:right;\"> 17437 </td>\n",
       "   <td style=\"text-align:left;\"> MIR6859-2 </td>\n",
       "   <td style=\"text-align:right;\"> 9.43812 </td>\n",
       "  </tr>\n",
       "  <tr>\n",
       "   <td style=\"text-align:left;\"> chr1 </td>\n",
       "   <td style=\"text-align:right;\"> 17436 </td>\n",
       "   <td style=\"text-align:right;\"> 17437 </td>\n",
       "   <td style=\"text-align:left;\"> MIR6859-3 </td>\n",
       "   <td style=\"text-align:right;\"> 9.43812 </td>\n",
       "  </tr>\n",
       "  <tr>\n",
       "   <td style=\"text-align:left;\"> chr1 </td>\n",
       "   <td style=\"text-align:right;\"> 17436 </td>\n",
       "   <td style=\"text-align:right;\"> 17437 </td>\n",
       "   <td style=\"text-align:left;\"> MIR6859-4 </td>\n",
       "   <td style=\"text-align:right;\"> 9.43812 </td>\n",
       "  </tr>\n",
       "  <tr>\n",
       "   <td style=\"text-align:left;\"> chr1 </td>\n",
       "   <td style=\"text-align:right;\"> 29370 </td>\n",
       "   <td style=\"text-align:right;\"> 29371 </td>\n",
       "   <td style=\"text-align:left;\"> WASH7P </td>\n",
       "   <td style=\"text-align:right;\"> 0.00023 </td>\n",
       "  </tr>\n",
       "</tbody>\n",
       "</table>"
      ]
     },
     "metadata": {},
     "output_type": "display_data"
    }
   ],
   "source": [
    "### set file path\n",
    "txt_folder = TXT_FOLDER\n",
    "txt_fdiry  = file.path(FD_RES, \"region\", txt_folder)\n",
    "txt_fname = \"K562.hg38.TSS.selected_by_highest_Pol2_signal.bed.gz\"\n",
    "txt_fpath = file.path(txt_fdiry, txt_fname)\n",
    "\n",
    "### read table\n",
    "dat = read_tsv(txt_fpath, col_names = vec_txt_cname, show_col_types = FALSE)\n",
    "\n",
    "### assign and show\n",
    "dat_region_tss_pol2 = dat\n",
    "fun_display_table(head(dat))"
   ]
  },
  {
   "cell_type": "code",
   "execution_count": 10,
   "id": "474451e1-0864-46e8-a95d-4035b5883c75",
   "metadata": {},
   "outputs": [
    {
     "data": {
      "text/html": [
       "<table>\n",
       " <thead>\n",
       "  <tr>\n",
       "   <th style=\"text-align:left;\"> Chrom </th>\n",
       "   <th style=\"text-align:right;\"> ChromStart </th>\n",
       "   <th style=\"text-align:right;\"> ChromEnd </th>\n",
       "   <th style=\"text-align:left;\"> Name </th>\n",
       "   <th style=\"text-align:right;\"> Score </th>\n",
       "  </tr>\n",
       " </thead>\n",
       "<tbody>\n",
       "  <tr>\n",
       "   <td style=\"text-align:left;\"> chr1 </td>\n",
       "   <td style=\"text-align:right;\"> 29370 </td>\n",
       "   <td style=\"text-align:right;\"> 29371 </td>\n",
       "   <td style=\"text-align:left;\"> WASH7P </td>\n",
       "   <td style=\"text-align:right;\"> 0.000230 </td>\n",
       "  </tr>\n",
       "  <tr>\n",
       "   <td style=\"text-align:left;\"> chr1 </td>\n",
       "   <td style=\"text-align:right;\"> 827522 </td>\n",
       "   <td style=\"text-align:right;\"> 827523 </td>\n",
       "   <td style=\"text-align:left;\"> LINC00115 </td>\n",
       "   <td style=\"text-align:right;\"> 64.465600 </td>\n",
       "  </tr>\n",
       "  <tr>\n",
       "   <td style=\"text-align:left;\"> chr1 </td>\n",
       "   <td style=\"text-align:right;\"> 827590 </td>\n",
       "   <td style=\"text-align:right;\"> 827591 </td>\n",
       "   <td style=\"text-align:left;\"> LINC01128 </td>\n",
       "   <td style=\"text-align:right;\"> 64.460300 </td>\n",
       "  </tr>\n",
       "  <tr>\n",
       "   <td style=\"text-align:left;\"> chr1 </td>\n",
       "   <td style=\"text-align:right;\"> 876802 </td>\n",
       "   <td style=\"text-align:right;\"> 876803 </td>\n",
       "   <td style=\"text-align:left;\"> FAM41C </td>\n",
       "   <td style=\"text-align:right;\"> 0.007884 </td>\n",
       "  </tr>\n",
       "  <tr>\n",
       "   <td style=\"text-align:left;\"> chr1 </td>\n",
       "   <td style=\"text-align:right;\"> 959256 </td>\n",
       "   <td style=\"text-align:right;\"> 959257 </td>\n",
       "   <td style=\"text-align:left;\"> NOC2L </td>\n",
       "   <td style=\"text-align:right;\"> 104.866000 </td>\n",
       "  </tr>\n",
       "  <tr>\n",
       "   <td style=\"text-align:left;\"> chr1 </td>\n",
       "   <td style=\"text-align:right;\"> 960583 </td>\n",
       "   <td style=\"text-align:right;\"> 960584 </td>\n",
       "   <td style=\"text-align:left;\"> KLHL17 </td>\n",
       "   <td style=\"text-align:right;\"> 8.225710 </td>\n",
       "  </tr>\n",
       "</tbody>\n",
       "</table>"
      ]
     },
     "metadata": {},
     "output_type": "display_data"
    }
   ],
   "source": [
    "### set file path\n",
    "txt_folder = TXT_FOLDER\n",
    "txt_fdiry  = file.path(FD_RES, \"region\", txt_folder)\n",
    "txt_fname = \"K562.hg38.TSS.selected_by_highest_Pol2_signal.filtered_by_RNAseq_TPM.bed.gz\"\n",
    "txt_fpath = file.path(txt_fdiry, txt_fname)\n",
    "\n",
    "### read table\n",
    "dat = read_tsv(txt_fpath, col_names = vec_txt_cname, show_col_types = FALSE)\n",
    "\n",
    "### assign and show\n",
    "dat_region_tss_pol2_rnaseq = dat\n",
    "fun_display_table(head(dat))"
   ]
  },
  {
   "cell_type": "markdown",
   "id": "b6b89a65-2598-4d2b-9783-c185d0ec848b",
   "metadata": {},
   "source": [
    "## Check: Genes tested in CRISPRi-HCRFF"
   ]
  },
  {
   "cell_type": "code",
   "execution_count": 11,
   "id": "85f08ef0-f912-4894-aa8e-200ef95bf933",
   "metadata": {},
   "outputs": [],
   "source": [
    "vec_txt_gene = c(\n",
    "    \"GATA1\", \"HDAC6\",\n",
    "    \"MYC\", \"PVT1\", \n",
    "    \"FADS1\",\"FADS2\",\"FADS3\", \"FEN1\",\n",
    "    \"LMO2\", \"HBE1\", \"HBG1\",  \"HBG2\", \n",
    "    \"HBE1\", \"HBG1\", \"HBG2\",  \"HBS1L\", \"MYB\",\n",
    "    \"LMO2\", \"CAT\",  \"CAPRIN1\", \n",
    "    \"ERP29\",\"NMU\",  \"MEF2C\", \"CD164\"\n",
    ")"
   ]
  },
  {
   "cell_type": "code",
   "execution_count": 12,
   "id": "b44d9c84-62d8-4916-a7b8-655a98784eb6",
   "metadata": {},
   "outputs": [
    {
     "data": {
      "text/html": [
       "<table class=\"dataframe\">\n",
       "<caption>A spec_tbl_df: 20 × 5</caption>\n",
       "<thead>\n",
       "\t<tr><th scope=col>Chrom</th><th scope=col>ChromStart</th><th scope=col>ChromEnd</th><th scope=col>Name</th><th scope=col>Score</th></tr>\n",
       "\t<tr><th scope=col>&lt;chr&gt;</th><th scope=col>&lt;dbl&gt;</th><th scope=col>&lt;dbl&gt;</th><th scope=col>&lt;chr&gt;</th><th scope=col>&lt;dbl&gt;</th></tr>\n",
       "</thead>\n",
       "<tbody>\n",
       "\t<tr><td>chr11</td><td>  5249857</td><td>  5249858</td><td>HBG1   </td><td> 17.42930</td></tr>\n",
       "\t<tr><td>chr11</td><td>  5254781</td><td>  5254782</td><td>HBG2   </td><td> 15.73020</td></tr>\n",
       "\t<tr><td>chr11</td><td>  5269945</td><td>  5269946</td><td>HBE1   </td><td>319.92500</td></tr>\n",
       "\t<tr><td>chr11</td><td> 33869878</td><td> 33869879</td><td>LMO2   </td><td>  8.55278</td></tr>\n",
       "\t<tr><td>chr11</td><td> 34051730</td><td> 34051731</td><td>CAPRIN1</td><td>203.81000</td></tr>\n",
       "\t<tr><td>chr11</td><td> 34438933</td><td> 34438934</td><td>CAT    </td><td> 68.08190</td></tr>\n",
       "\t<tr><td>chr11</td><td> 61792910</td><td> 61792911</td><td>FEN1   </td><td>232.47000</td></tr>\n",
       "\t<tr><td>chr11</td><td> 61816202</td><td> 61816203</td><td>FADS2  </td><td>418.26700</td></tr>\n",
       "\t<tr><td>chr11</td><td> 61817003</td><td> 61817004</td><td>FADS1  </td><td>158.66100</td></tr>\n",
       "\t<tr><td>chr11</td><td> 61891545</td><td> 61891546</td><td>FADS3  </td><td>  8.24971</td></tr>\n",
       "\t<tr><td>chr12</td><td>112013347</td><td>112013348</td><td>ERP29  </td><td>282.37200</td></tr>\n",
       "\t<tr><td>chr4 </td><td> 55636298</td><td> 55636299</td><td>NMU    </td><td> 58.38680</td></tr>\n",
       "\t<tr><td>chr5 </td><td> 88883184</td><td> 88883185</td><td>MEF2C  </td><td> 35.03940</td></tr>\n",
       "\t<tr><td>chr6 </td><td>109382467</td><td>109382468</td><td>CD164  </td><td>276.34100</td></tr>\n",
       "\t<tr><td>chr6 </td><td>135054822</td><td>135054823</td><td>HBS1L  </td><td>153.87900</td></tr>\n",
       "\t<tr><td>chr6 </td><td>135181307</td><td>135181308</td><td>MYB    </td><td> 15.10130</td></tr>\n",
       "\t<tr><td>chr8 </td><td>127736230</td><td>127736231</td><td>MYC    </td><td>272.78100</td></tr>\n",
       "\t<tr><td>chr8 </td><td>127794532</td><td>127794533</td><td>PVT1   </td><td> 10.31760</td></tr>\n",
       "\t<tr><td>chrX </td><td> 48786589</td><td> 48786590</td><td>GATA1  </td><td> 70.42080</td></tr>\n",
       "\t<tr><td>chrX </td><td> 48802066</td><td> 48802067</td><td>HDAC6  </td><td>183.30000</td></tr>\n",
       "</tbody>\n",
       "</table>\n"
      ],
      "text/latex": [
       "A spec\\_tbl\\_df: 20 × 5\n",
       "\\begin{tabular}{lllll}\n",
       " Chrom & ChromStart & ChromEnd & Name & Score\\\\\n",
       " <chr> & <dbl> & <dbl> & <chr> & <dbl>\\\\\n",
       "\\hline\n",
       "\t chr11 &   5249857 &   5249858 & HBG1    &  17.42930\\\\\n",
       "\t chr11 &   5254781 &   5254782 & HBG2    &  15.73020\\\\\n",
       "\t chr11 &   5269945 &   5269946 & HBE1    & 319.92500\\\\\n",
       "\t chr11 &  33869878 &  33869879 & LMO2    &   8.55278\\\\\n",
       "\t chr11 &  34051730 &  34051731 & CAPRIN1 & 203.81000\\\\\n",
       "\t chr11 &  34438933 &  34438934 & CAT     &  68.08190\\\\\n",
       "\t chr11 &  61792910 &  61792911 & FEN1    & 232.47000\\\\\n",
       "\t chr11 &  61816202 &  61816203 & FADS2   & 418.26700\\\\\n",
       "\t chr11 &  61817003 &  61817004 & FADS1   & 158.66100\\\\\n",
       "\t chr11 &  61891545 &  61891546 & FADS3   &   8.24971\\\\\n",
       "\t chr12 & 112013347 & 112013348 & ERP29   & 282.37200\\\\\n",
       "\t chr4  &  55636298 &  55636299 & NMU     &  58.38680\\\\\n",
       "\t chr5  &  88883184 &  88883185 & MEF2C   &  35.03940\\\\\n",
       "\t chr6  & 109382467 & 109382468 & CD164   & 276.34100\\\\\n",
       "\t chr6  & 135054822 & 135054823 & HBS1L   & 153.87900\\\\\n",
       "\t chr6  & 135181307 & 135181308 & MYB     &  15.10130\\\\\n",
       "\t chr8  & 127736230 & 127736231 & MYC     & 272.78100\\\\\n",
       "\t chr8  & 127794532 & 127794533 & PVT1    &  10.31760\\\\\n",
       "\t chrX  &  48786589 &  48786590 & GATA1   &  70.42080\\\\\n",
       "\t chrX  &  48802066 &  48802067 & HDAC6   & 183.30000\\\\\n",
       "\\end{tabular}\n"
      ],
      "text/markdown": [
       "\n",
       "A spec_tbl_df: 20 × 5\n",
       "\n",
       "| Chrom &lt;chr&gt; | ChromStart &lt;dbl&gt; | ChromEnd &lt;dbl&gt; | Name &lt;chr&gt; | Score &lt;dbl&gt; |\n",
       "|---|---|---|---|---|\n",
       "| chr11 |   5249857 |   5249858 | HBG1    |  17.42930 |\n",
       "| chr11 |   5254781 |   5254782 | HBG2    |  15.73020 |\n",
       "| chr11 |   5269945 |   5269946 | HBE1    | 319.92500 |\n",
       "| chr11 |  33869878 |  33869879 | LMO2    |   8.55278 |\n",
       "| chr11 |  34051730 |  34051731 | CAPRIN1 | 203.81000 |\n",
       "| chr11 |  34438933 |  34438934 | CAT     |  68.08190 |\n",
       "| chr11 |  61792910 |  61792911 | FEN1    | 232.47000 |\n",
       "| chr11 |  61816202 |  61816203 | FADS2   | 418.26700 |\n",
       "| chr11 |  61817003 |  61817004 | FADS1   | 158.66100 |\n",
       "| chr11 |  61891545 |  61891546 | FADS3   |   8.24971 |\n",
       "| chr12 | 112013347 | 112013348 | ERP29   | 282.37200 |\n",
       "| chr4  |  55636298 |  55636299 | NMU     |  58.38680 |\n",
       "| chr5  |  88883184 |  88883185 | MEF2C   |  35.03940 |\n",
       "| chr6  | 109382467 | 109382468 | CD164   | 276.34100 |\n",
       "| chr6  | 135054822 | 135054823 | HBS1L   | 153.87900 |\n",
       "| chr6  | 135181307 | 135181308 | MYB     |  15.10130 |\n",
       "| chr8  | 127736230 | 127736231 | MYC     | 272.78100 |\n",
       "| chr8  | 127794532 | 127794533 | PVT1    |  10.31760 |\n",
       "| chrX  |  48786589 |  48786590 | GATA1   |  70.42080 |\n",
       "| chrX  |  48802066 |  48802067 | HDAC6   | 183.30000 |\n",
       "\n"
      ],
      "text/plain": [
       "   Chrom ChromStart ChromEnd  Name    Score    \n",
       "1  chr11   5249857    5249858 HBG1     17.42930\n",
       "2  chr11   5254781    5254782 HBG2     15.73020\n",
       "3  chr11   5269945    5269946 HBE1    319.92500\n",
       "4  chr11  33869878   33869879 LMO2      8.55278\n",
       "5  chr11  34051730   34051731 CAPRIN1 203.81000\n",
       "6  chr11  34438933   34438934 CAT      68.08190\n",
       "7  chr11  61792910   61792911 FEN1    232.47000\n",
       "8  chr11  61816202   61816203 FADS2   418.26700\n",
       "9  chr11  61817003   61817004 FADS1   158.66100\n",
       "10 chr11  61891545   61891546 FADS3     8.24971\n",
       "11 chr12 112013347  112013348 ERP29   282.37200\n",
       "12 chr4   55636298   55636299 NMU      58.38680\n",
       "13 chr5   88883184   88883185 MEF2C    35.03940\n",
       "14 chr6  109382467  109382468 CD164   276.34100\n",
       "15 chr6  135054822  135054823 HBS1L   153.87900\n",
       "16 chr6  135181307  135181308 MYB      15.10130\n",
       "17 chr8  127736230  127736231 MYC     272.78100\n",
       "18 chr8  127794532  127794533 PVT1     10.31760\n",
       "19 chrX   48786589   48786590 GATA1    70.42080\n",
       "20 chrX   48802066   48802067 HDAC6   183.30000"
      ]
     },
     "metadata": {},
     "output_type": "display_data"
    }
   ],
   "source": [
    "dat = dat_region_tss_pol2\n",
    "dat = dat %>% dplyr::filter(Name %in% vec_txt_gene)\n",
    "dat"
   ]
  },
  {
   "cell_type": "code",
   "execution_count": 13,
   "id": "2c555b56-6e0e-40ed-98ab-9fcfc6ebba6f",
   "metadata": {},
   "outputs": [
    {
     "data": {
      "text/html": [
       "<table class=\"dataframe\">\n",
       "<caption>A spec_tbl_df: 20 × 5</caption>\n",
       "<thead>\n",
       "\t<tr><th scope=col>Chrom</th><th scope=col>ChromStart</th><th scope=col>ChromEnd</th><th scope=col>Name</th><th scope=col>Score</th></tr>\n",
       "\t<tr><th scope=col>&lt;chr&gt;</th><th scope=col>&lt;dbl&gt;</th><th scope=col>&lt;dbl&gt;</th><th scope=col>&lt;chr&gt;</th><th scope=col>&lt;dbl&gt;</th></tr>\n",
       "</thead>\n",
       "<tbody>\n",
       "\t<tr><td>chr11</td><td>  5249857</td><td>  5249858</td><td>HBG1   </td><td> 17.42930</td></tr>\n",
       "\t<tr><td>chr11</td><td>  5254781</td><td>  5254782</td><td>HBG2   </td><td> 15.73020</td></tr>\n",
       "\t<tr><td>chr11</td><td>  5269945</td><td>  5269946</td><td>HBE1   </td><td>319.92500</td></tr>\n",
       "\t<tr><td>chr11</td><td> 33869878</td><td> 33869879</td><td>LMO2   </td><td>  8.55278</td></tr>\n",
       "\t<tr><td>chr11</td><td> 34051730</td><td> 34051731</td><td>CAPRIN1</td><td>203.81000</td></tr>\n",
       "\t<tr><td>chr11</td><td> 34438933</td><td> 34438934</td><td>CAT    </td><td> 68.08190</td></tr>\n",
       "\t<tr><td>chr11</td><td> 61792910</td><td> 61792911</td><td>FEN1   </td><td>232.47000</td></tr>\n",
       "\t<tr><td>chr11</td><td> 61816202</td><td> 61816203</td><td>FADS2  </td><td>418.26700</td></tr>\n",
       "\t<tr><td>chr11</td><td> 61817003</td><td> 61817004</td><td>FADS1  </td><td>158.66100</td></tr>\n",
       "\t<tr><td>chr11</td><td> 61891545</td><td> 61891546</td><td>FADS3  </td><td>  8.24971</td></tr>\n",
       "\t<tr><td>chr12</td><td>112013347</td><td>112013348</td><td>ERP29  </td><td>282.37200</td></tr>\n",
       "\t<tr><td>chr4 </td><td> 55636298</td><td> 55636299</td><td>NMU    </td><td> 58.38680</td></tr>\n",
       "\t<tr><td>chr5 </td><td> 88883184</td><td> 88883185</td><td>MEF2C  </td><td> 35.03940</td></tr>\n",
       "\t<tr><td>chr6 </td><td>109382467</td><td>109382468</td><td>CD164  </td><td>276.34100</td></tr>\n",
       "\t<tr><td>chr6 </td><td>135054822</td><td>135054823</td><td>HBS1L  </td><td>153.87900</td></tr>\n",
       "\t<tr><td>chr6 </td><td>135181307</td><td>135181308</td><td>MYB    </td><td> 15.10130</td></tr>\n",
       "\t<tr><td>chr8 </td><td>127736230</td><td>127736231</td><td>MYC    </td><td>272.78100</td></tr>\n",
       "\t<tr><td>chr8 </td><td>127794532</td><td>127794533</td><td>PVT1   </td><td> 10.31760</td></tr>\n",
       "\t<tr><td>chrX </td><td> 48786589</td><td> 48786590</td><td>GATA1  </td><td> 70.42080</td></tr>\n",
       "\t<tr><td>chrX </td><td> 48802066</td><td> 48802067</td><td>HDAC6  </td><td>183.30000</td></tr>\n",
       "</tbody>\n",
       "</table>\n"
      ],
      "text/latex": [
       "A spec\\_tbl\\_df: 20 × 5\n",
       "\\begin{tabular}{lllll}\n",
       " Chrom & ChromStart & ChromEnd & Name & Score\\\\\n",
       " <chr> & <dbl> & <dbl> & <chr> & <dbl>\\\\\n",
       "\\hline\n",
       "\t chr11 &   5249857 &   5249858 & HBG1    &  17.42930\\\\\n",
       "\t chr11 &   5254781 &   5254782 & HBG2    &  15.73020\\\\\n",
       "\t chr11 &   5269945 &   5269946 & HBE1    & 319.92500\\\\\n",
       "\t chr11 &  33869878 &  33869879 & LMO2    &   8.55278\\\\\n",
       "\t chr11 &  34051730 &  34051731 & CAPRIN1 & 203.81000\\\\\n",
       "\t chr11 &  34438933 &  34438934 & CAT     &  68.08190\\\\\n",
       "\t chr11 &  61792910 &  61792911 & FEN1    & 232.47000\\\\\n",
       "\t chr11 &  61816202 &  61816203 & FADS2   & 418.26700\\\\\n",
       "\t chr11 &  61817003 &  61817004 & FADS1   & 158.66100\\\\\n",
       "\t chr11 &  61891545 &  61891546 & FADS3   &   8.24971\\\\\n",
       "\t chr12 & 112013347 & 112013348 & ERP29   & 282.37200\\\\\n",
       "\t chr4  &  55636298 &  55636299 & NMU     &  58.38680\\\\\n",
       "\t chr5  &  88883184 &  88883185 & MEF2C   &  35.03940\\\\\n",
       "\t chr6  & 109382467 & 109382468 & CD164   & 276.34100\\\\\n",
       "\t chr6  & 135054822 & 135054823 & HBS1L   & 153.87900\\\\\n",
       "\t chr6  & 135181307 & 135181308 & MYB     &  15.10130\\\\\n",
       "\t chr8  & 127736230 & 127736231 & MYC     & 272.78100\\\\\n",
       "\t chr8  & 127794532 & 127794533 & PVT1    &  10.31760\\\\\n",
       "\t chrX  &  48786589 &  48786590 & GATA1   &  70.42080\\\\\n",
       "\t chrX  &  48802066 &  48802067 & HDAC6   & 183.30000\\\\\n",
       "\\end{tabular}\n"
      ],
      "text/markdown": [
       "\n",
       "A spec_tbl_df: 20 × 5\n",
       "\n",
       "| Chrom &lt;chr&gt; | ChromStart &lt;dbl&gt; | ChromEnd &lt;dbl&gt; | Name &lt;chr&gt; | Score &lt;dbl&gt; |\n",
       "|---|---|---|---|---|\n",
       "| chr11 |   5249857 |   5249858 | HBG1    |  17.42930 |\n",
       "| chr11 |   5254781 |   5254782 | HBG2    |  15.73020 |\n",
       "| chr11 |   5269945 |   5269946 | HBE1    | 319.92500 |\n",
       "| chr11 |  33869878 |  33869879 | LMO2    |   8.55278 |\n",
       "| chr11 |  34051730 |  34051731 | CAPRIN1 | 203.81000 |\n",
       "| chr11 |  34438933 |  34438934 | CAT     |  68.08190 |\n",
       "| chr11 |  61792910 |  61792911 | FEN1    | 232.47000 |\n",
       "| chr11 |  61816202 |  61816203 | FADS2   | 418.26700 |\n",
       "| chr11 |  61817003 |  61817004 | FADS1   | 158.66100 |\n",
       "| chr11 |  61891545 |  61891546 | FADS3   |   8.24971 |\n",
       "| chr12 | 112013347 | 112013348 | ERP29   | 282.37200 |\n",
       "| chr4  |  55636298 |  55636299 | NMU     |  58.38680 |\n",
       "| chr5  |  88883184 |  88883185 | MEF2C   |  35.03940 |\n",
       "| chr6  | 109382467 | 109382468 | CD164   | 276.34100 |\n",
       "| chr6  | 135054822 | 135054823 | HBS1L   | 153.87900 |\n",
       "| chr6  | 135181307 | 135181308 | MYB     |  15.10130 |\n",
       "| chr8  | 127736230 | 127736231 | MYC     | 272.78100 |\n",
       "| chr8  | 127794532 | 127794533 | PVT1    |  10.31760 |\n",
       "| chrX  |  48786589 |  48786590 | GATA1   |  70.42080 |\n",
       "| chrX  |  48802066 |  48802067 | HDAC6   | 183.30000 |\n",
       "\n"
      ],
      "text/plain": [
       "   Chrom ChromStart ChromEnd  Name    Score    \n",
       "1  chr11   5249857    5249858 HBG1     17.42930\n",
       "2  chr11   5254781    5254782 HBG2     15.73020\n",
       "3  chr11   5269945    5269946 HBE1    319.92500\n",
       "4  chr11  33869878   33869879 LMO2      8.55278\n",
       "5  chr11  34051730   34051731 CAPRIN1 203.81000\n",
       "6  chr11  34438933   34438934 CAT      68.08190\n",
       "7  chr11  61792910   61792911 FEN1    232.47000\n",
       "8  chr11  61816202   61816203 FADS2   418.26700\n",
       "9  chr11  61817003   61817004 FADS1   158.66100\n",
       "10 chr11  61891545   61891546 FADS3     8.24971\n",
       "11 chr12 112013347  112013348 ERP29   282.37200\n",
       "12 chr4   55636298   55636299 NMU      58.38680\n",
       "13 chr5   88883184   88883185 MEF2C    35.03940\n",
       "14 chr6  109382467  109382468 CD164   276.34100\n",
       "15 chr6  135054822  135054823 HBS1L   153.87900\n",
       "16 chr6  135181307  135181308 MYB      15.10130\n",
       "17 chr8  127736230  127736231 MYC     272.78100\n",
       "18 chr8  127794532  127794533 PVT1     10.31760\n",
       "19 chrX   48786589   48786590 GATA1    70.42080\n",
       "20 chrX   48802066   48802067 HDAC6   183.30000"
      ]
     },
     "metadata": {},
     "output_type": "display_data"
    }
   ],
   "source": [
    "dat = dat_region_tss_pol2_rnaseq\n",
    "dat = dat %>% dplyr::filter(Name %in% vec_txt_gene)\n",
    "dat"
   ]
  },
  {
   "cell_type": "code",
   "execution_count": null,
   "id": "9d2f75ff-0bd0-464f-897f-e11a2495da8c",
   "metadata": {},
   "outputs": [],
   "source": []
  },
  {
   "cell_type": "code",
   "execution_count": null,
   "id": "22dcb41d-58eb-41c5-8385-3394ed88cfd1",
   "metadata": {},
   "outputs": [],
   "source": []
  },
  {
   "cell_type": "code",
   "execution_count": null,
   "id": "1cbc8398-b71d-4200-8e39-a399ac46dfff",
   "metadata": {},
   "outputs": [],
   "source": []
  }
 ],
 "metadata": {
  "kernelspec": {
   "display_name": "R",
   "language": "R",
   "name": "ir"
  },
  "language_info": {
   "codemirror_mode": "r",
   "file_extension": ".r",
   "mimetype": "text/x-r-source",
   "name": "R",
   "pygments_lexer": "r",
   "version": "4.4.0"
  }
 },
 "nbformat": 4,
 "nbformat_minor": 5
}
