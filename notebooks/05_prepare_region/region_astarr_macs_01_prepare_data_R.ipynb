{
 "cells": [
  {
   "cell_type": "raw",
   "id": "9bdd3efb-7a39-4e46-9e63-571eb980f453",
   "metadata": {},
   "source": [
    "---\n",
    "title: Prepare ASTARR Input MACS Peaks 01\n",
    "subtitle: Prepare the data\n",
    "format:\n",
    "    html:\n",
    "        code-fold:  true\n",
    "        code-tools: true\n",
    "---"
   ]
  },
  {
   "cell_type": "markdown",
   "id": "fbd3ff78-b429-4305-8d32-cce203d51fee",
   "metadata": {},
   "source": [
    "**Set environment**"
   ]
  },
  {
   "cell_type": "code",
   "execution_count": 1,
   "id": "ccb7e124-f9f8-4437-a7e2-4c0f7c633912",
   "metadata": {},
   "outputs": [
    {
     "name": "stdout",
     "output_type": "stream",
     "text": [
      "You are working on        Singularity \n",
      "BASE DIRECTORY (FD_BASE): /mount \n",
      "REPO DIRECTORY (FD_REPO): /mount/repo \n",
      "WORK DIRECTORY (FD_WORK): /mount/work \n",
      "DATA DIRECTORY (FD_DATA): /mount/data \n",
      "\n",
      "You are working with      ENCODE FCC \n",
      "PATH OF PROJECT (FD_PRJ): /mount/repo/Proj_ENCODE_FCC \n",
      "PROJECT RESULTS (FD_RES): /mount/repo/Proj_ENCODE_FCC/results \n",
      "PROJECT SCRIPTS (FD_EXE): /mount/repo/Proj_ENCODE_FCC/scripts \n",
      "PROJECT DATA    (FD_DAT): /mount/repo/Proj_ENCODE_FCC/data \n",
      "PROJECT NOTE    (FD_NBK): /mount/repo/Proj_ENCODE_FCC/notebooks \n",
      "PROJECT DOCS    (FD_DOC): /mount/repo/Proj_ENCODE_FCC/docs \n",
      "PROJECT LOG     (FD_LOG): /mount/repo/Proj_ENCODE_FCC/log \n",
      "PROJECT APP     (FD_APP): /mount/repo/Proj_ENCODE_FCC/app \n",
      "PROJECT REF     (FD_REF): /mount/repo/Proj_ENCODE_FCC/references \n",
      "\n"
     ]
    }
   ],
   "source": [
    "suppressMessages(suppressWarnings(source(\"../run_config_project_sing.R\")))\n",
    "show_env()"
   ]
  },
  {
   "cell_type": "code",
   "execution_count": null,
   "id": "4f7e6702-20b3-4fdb-a89a-9ecb88d373f0",
   "metadata": {},
   "outputs": [],
   "source": []
  },
  {
   "cell_type": "code",
   "execution_count": 35,
   "id": "2a03933a-062d-4e9b-9fd4-6d3ce73840cd",
   "metadata": {},
   "outputs": [],
   "source": [
    "TXT_FOLDER_REGION = \"fcc_astarr_macs\""
   ]
  },
  {
   "cell_type": "markdown",
   "id": "606f1b59-b688-41d8-9e93-65d6cdbfdab1",
   "metadata": {},
   "source": [
    "## Import data"
   ]
  },
  {
   "cell_type": "markdown",
   "id": "2c5afff8-bd93-4d94-a63a-8ebf5c37f541",
   "metadata": {},
   "source": [
    "```\n",
    "FD_INP=${FD_DAT}/processed/STARR_ATAC_K562_Reddy_KS91_210401/peaks\n",
    "FN_INP=KS91_K562_hg38_ASTARRseq_Input.all_reps.masked.union_narrowPeak.q5.bed\n",
    "FP_INP=${FD_INP}/${FN_INP}\n",
    "\n",
    "cat ${FP_INP} | head\n",
    "```\n",
    "\n",
    "```\n",
    "FD_INP=${FD_DAT}/processed/STARR_ATAC_K562_Reddy_KS91_210401/peaks\n",
    "FN_INP=KS91_K562_hg38_ASTARRseq_Input.q5.in_all.max_overlaps.bed\n",
    "FP_INP=${FD_INP}/${FN_INP}\n",
    "\n",
    "cat ${FP_INP} | head\n",
    "```"
   ]
  },
  {
   "cell_type": "code",
   "execution_count": 16,
   "id": "4c92cf33-f331-49fd-b9da-6175b1ec792b",
   "metadata": {},
   "outputs": [
    {
     "name": "stdout",
     "output_type": "stream",
     "text": [
      " [1] \"chr1\"  \"chr10\" \"chr11\" \"chr12\" \"chr13\" \"chr14\" \"chr15\" \"chr16\" \"chr17\"\n",
      "[10] \"chr18\" \"chr19\" \"chr2\"  \"chr20\" \"chr21\" \"chr22\" \"chr3\"  \"chr4\"  \"chr5\" \n",
      "[19] \"chr6\"  \"chr7\"  \"chr8\"  \"chr9\"  \"chrX\" \n"
     ]
    }
   ],
   "source": [
    "txt_fdiry = file.path(FD_DAT, \"external\")\n",
    "txt_fname = \"chrom.hg38.main.bed\"\n",
    "txt_fpath = file.path(txt_fdiry, txt_fname)\n",
    "\n",
    "vec = c(\"Chrom\", \"ChromStart\", \"ChromEnd\")\n",
    "dat = read_tsv(txt_fpath, col_names = vec, show_col_types = FALSE)\n",
    "vec = dat$Chrom\n",
    "\n",
    "### assign and show\n",
    "vec_txt_chrom = vec\n",
    "print(vec)"
   ]
  },
  {
   "cell_type": "code",
   "execution_count": 17,
   "id": "967d801e-2354-4633-89d7-86aab43001ad",
   "metadata": {},
   "outputs": [
    {
     "name": "stdout",
     "output_type": "stream",
     "text": [
      "KS91_K562_hg38_ASTARRseq_Input.all_reps.masked.union_narrowPeak.q5.bed \n",
      "KS91_K562_hg38_ASTARRseq_Input.q5.in_all.max_overlaps.bed \n"
     ]
    }
   ],
   "source": [
    "txt_fdiry = file.path(FD_DAT, \"processed/STARR_ATAC_K562_Reddy_KS91_210401/peaks\")\n",
    "\n",
    "vec = dir(txt_fdiry)\n",
    "\n",
    "vec_txt_fname = vec\n",
    "for(txt in vec){cat(txt, \"\\n\")}"
   ]
  },
  {
   "cell_type": "code",
   "execution_count": 20,
   "id": "60122c96-7184-448b-aee2-763248f292ea",
   "metadata": {},
   "outputs": [
    {
     "name": "stdout",
     "output_type": "stream",
     "text": [
      "                                                                   union \n",
      "\"KS91_K562_hg38_ASTARRseq_Input.all_reps.masked.union_narrowPeak.q5.bed\" \n",
      "                                                            max_overlaps \n",
      "             \"KS91_K562_hg38_ASTARRseq_Input.q5.in_all.max_overlaps.bed\" \n"
     ]
    }
   ],
   "source": [
    "names(vec_txt_fname) = c(\"union\", \"max_overlaps\")\n",
    "print(vec_txt_fname)"
   ]
  },
  {
   "cell_type": "code",
   "execution_count": 23,
   "id": "f4c03318-5457-4aaf-89cf-33ccd4b59041",
   "metadata": {},
   "outputs": [],
   "source": [
    "lst = lapply(vec_txt_fname, function(txt_fname){\n",
    "    txt_fpath = file.path(txt_fdiry, txt_fname)\n",
    "    dat = read_tsv(txt_fpath, col_names = FALSE, show_col_types = FALSE)\n",
    "    return(dat)\n",
    "})\n",
    "lst_dat_import = lst"
   ]
  },
  {
   "cell_type": "code",
   "execution_count": 25,
   "id": "0901271c-a14e-46e4-814d-5243661bd653",
   "metadata": {},
   "outputs": [],
   "source": [
    "lst = lst_dat_import\n",
    "lst = lapply(lst, function(dat){\n",
    "    dat = dat %>% \n",
    "        dplyr::filter(X1 %in% vec_txt_chrom) %>%\n",
    "        dplyr::select(X1:X3) %>%\n",
    "        dplyr::arrange(X1, X2, X3)\n",
    "    return(dat)\n",
    "})\n",
    "\n",
    "lst_dat_arrange = lst"
   ]
  },
  {
   "cell_type": "markdown",
   "id": "663c0c11-77fb-4d0a-af7b-b956ca7c97aa",
   "metadata": {},
   "source": [
    "**Check**"
   ]
  },
  {
   "cell_type": "code",
   "execution_count": 29,
   "id": "c6aa1d0f-388d-4628-85b9-ae7317a3eeaa",
   "metadata": {},
   "outputs": [
    {
     "data": {
      "text/html": [
       "<table class=\"dataframe\">\n",
       "<caption>A data.frame: 6 × 2</caption>\n",
       "<thead>\n",
       "\t<tr><th></th><th scope=col>Var1</th><th scope=col>Freq</th></tr>\n",
       "\t<tr><th></th><th scope=col>&lt;fct&gt;</th><th scope=col>&lt;int&gt;</th></tr>\n",
       "</thead>\n",
       "<tbody>\n",
       "\t<tr><th scope=row>1</th><td>chr1                  </td><td>30534</td></tr>\n",
       "\t<tr><th scope=row>2</th><td>chr1_KI270706v1_random</td><td>   35</td></tr>\n",
       "\t<tr><th scope=row>3</th><td>chr1_KI270707v1_random</td><td>    1</td></tr>\n",
       "\t<tr><th scope=row>4</th><td>chr1_KI270708v1_random</td><td>    1</td></tr>\n",
       "\t<tr><th scope=row>5</th><td>chr1_KI270709v1_random</td><td>    5</td></tr>\n",
       "\t<tr><th scope=row>6</th><td>chr1_KI270711v1_random</td><td>    7</td></tr>\n",
       "</tbody>\n",
       "</table>\n"
      ],
      "text/latex": [
       "A data.frame: 6 × 2\n",
       "\\begin{tabular}{r|ll}\n",
       "  & Var1 & Freq\\\\\n",
       "  & <fct> & <int>\\\\\n",
       "\\hline\n",
       "\t1 & chr1                   & 30534\\\\\n",
       "\t2 & chr1\\_KI270706v1\\_random &    35\\\\\n",
       "\t3 & chr1\\_KI270707v1\\_random &     1\\\\\n",
       "\t4 & chr1\\_KI270708v1\\_random &     1\\\\\n",
       "\t5 & chr1\\_KI270709v1\\_random &     5\\\\\n",
       "\t6 & chr1\\_KI270711v1\\_random &     7\\\\\n",
       "\\end{tabular}\n"
      ],
      "text/markdown": [
       "\n",
       "A data.frame: 6 × 2\n",
       "\n",
       "| <!--/--> | Var1 &lt;fct&gt; | Freq &lt;int&gt; |\n",
       "|---|---|---|\n",
       "| 1 | chr1                   | 30534 |\n",
       "| 2 | chr1_KI270706v1_random |    35 |\n",
       "| 3 | chr1_KI270707v1_random |     1 |\n",
       "| 4 | chr1_KI270708v1_random |     1 |\n",
       "| 5 | chr1_KI270709v1_random |     5 |\n",
       "| 6 | chr1_KI270711v1_random |     7 |\n",
       "\n"
      ],
      "text/plain": [
       "  Var1                   Freq \n",
       "1 chr1                   30534\n",
       "2 chr1_KI270706v1_random    35\n",
       "3 chr1_KI270707v1_random     1\n",
       "4 chr1_KI270708v1_random     1\n",
       "5 chr1_KI270709v1_random     5\n",
       "6 chr1_KI270711v1_random     7"
      ]
     },
     "metadata": {},
     "output_type": "display_data"
    }
   ],
   "source": [
    "lst = lst_dat_import\n",
    "dat = lst[[1]]\n",
    "dat = as.data.frame(table(dat$X1))\n",
    "head(dat)"
   ]
  },
  {
   "cell_type": "code",
   "execution_count": 30,
   "id": "4fe61b70-ba9a-486c-be16-12d29fb0d93b",
   "metadata": {},
   "outputs": [
    {
     "data": {
      "text/html": [
       "<table class=\"dataframe\">\n",
       "<caption>A data.frame: 6 × 2</caption>\n",
       "<thead>\n",
       "\t<tr><th></th><th scope=col>Var1</th><th scope=col>Freq</th></tr>\n",
       "\t<tr><th></th><th scope=col>&lt;fct&gt;</th><th scope=col>&lt;int&gt;</th></tr>\n",
       "</thead>\n",
       "<tbody>\n",
       "\t<tr><th scope=row>1</th><td>chr1 </td><td>30534</td></tr>\n",
       "\t<tr><th scope=row>2</th><td>chr10</td><td>11398</td></tr>\n",
       "\t<tr><th scope=row>3</th><td>chr11</td><td>12010</td></tr>\n",
       "\t<tr><th scope=row>4</th><td>chr12</td><td>10725</td></tr>\n",
       "\t<tr><th scope=row>5</th><td>chr13</td><td> 3675</td></tr>\n",
       "\t<tr><th scope=row>6</th><td>chr14</td><td> 4386</td></tr>\n",
       "</tbody>\n",
       "</table>\n"
      ],
      "text/latex": [
       "A data.frame: 6 × 2\n",
       "\\begin{tabular}{r|ll}\n",
       "  & Var1 & Freq\\\\\n",
       "  & <fct> & <int>\\\\\n",
       "\\hline\n",
       "\t1 & chr1  & 30534\\\\\n",
       "\t2 & chr10 & 11398\\\\\n",
       "\t3 & chr11 & 12010\\\\\n",
       "\t4 & chr12 & 10725\\\\\n",
       "\t5 & chr13 &  3675\\\\\n",
       "\t6 & chr14 &  4386\\\\\n",
       "\\end{tabular}\n"
      ],
      "text/markdown": [
       "\n",
       "A data.frame: 6 × 2\n",
       "\n",
       "| <!--/--> | Var1 &lt;fct&gt; | Freq &lt;int&gt; |\n",
       "|---|---|---|\n",
       "| 1 | chr1  | 30534 |\n",
       "| 2 | chr10 | 11398 |\n",
       "| 3 | chr11 | 12010 |\n",
       "| 4 | chr12 | 10725 |\n",
       "| 5 | chr13 |  3675 |\n",
       "| 6 | chr14 |  4386 |\n",
       "\n"
      ],
      "text/plain": [
       "  Var1  Freq \n",
       "1 chr1  30534\n",
       "2 chr10 11398\n",
       "3 chr11 12010\n",
       "4 chr12 10725\n",
       "5 chr13  3675\n",
       "6 chr14  4386"
      ]
     },
     "metadata": {},
     "output_type": "display_data"
    }
   ],
   "source": [
    "lst = lst_dat_arrange\n",
    "dat = lst[[1]]\n",
    "dat = as.data.frame(table(dat$X1))\n",
    "head(dat)"
   ]
  },
  {
   "cell_type": "markdown",
   "id": "7af035e2-3277-42da-85b7-490581251255",
   "metadata": {},
   "source": [
    "## Save results"
   ]
  },
  {
   "cell_type": "code",
   "execution_count": 34,
   "id": "c72a5d19-a39b-4929-9113-511ae531a7a5",
   "metadata": {},
   "outputs": [
    {
     "name": "stdout",
     "output_type": "stream",
     "text": [
      "[1] \"union\"\n",
      "[1] \"K562.hg38.ASTARR.macs.KS91.input.rep_all.union.q5.bed.gz\"\n",
      "[1] \"max_overlaps\"\n",
      "[1] \"K562.hg38.ASTARR.macs.KS91.input.rep_all.max_overlaps.q5.bed.gz\"\n"
     ]
    }
   ],
   "source": [
    "lst = lst_dat_arrange\n",
    "for (idx in names(lst)){\n",
    "    txt_fname = paste(\n",
    "        \"K562.hg38.ASTARR.macs.KS91.input.rep_all\",\n",
    "        idx,\n",
    "        \"q5.bed.gz\",\n",
    "        sep = \".\"\n",
    "    )\n",
    "    print(idx)\n",
    "    print(txt_fname)\n",
    "}"
   ]
  },
  {
   "cell_type": "code",
   "execution_count": 36,
   "id": "88bb5e0e-4c75-4df9-b4f6-7b7b7a74ec40",
   "metadata": {},
   "outputs": [
    {
     "name": "stdout",
     "output_type": "stream",
     "text": [
      "[1] \"union\"\n",
      "[1] \"K562.hg38.ASTARR.macs.KS91.input.rep_all.union.q5.bed.gz\"\n",
      "[1] \"max_overlaps\"\n",
      "[1] \"K562.hg38.ASTARR.macs.KS91.input.rep_all.max_overlaps.q5.bed.gz\"\n"
     ]
    }
   ],
   "source": [
    "### set file path\n",
    "txt_folder = TXT_FOLDER_REGION\n",
    "txt_fdiry  = file.path(FD_RES, \"region\", txt_folder)\n",
    "dir.create(txt_fdiry, showWarnings = FALSE)\n",
    "\n",
    "lst = lst_dat_arrange\n",
    "for (idx in names(lst)){\n",
    "    txt_fname = paste(\n",
    "        \"K562.hg38.ASTARR.macs.KS91.input.rep_all\",\n",
    "        idx,\n",
    "        \"q5.bed.gz\",\n",
    "        sep = \".\"\n",
    "    )\n",
    "    txt_fpath = file.path(txt_fdiry, txt_fname)\n",
    "    \n",
    "    dat = lst[[idx]]\n",
    "    write_tsv(dat, txt_fpath, col_names = FALSE)\n",
    "    \n",
    "    print(idx)\n",
    "    print(txt_fname)\n",
    "}"
   ]
  },
  {
   "cell_type": "code",
   "execution_count": null,
   "id": "393c8ac9-12d7-4b4f-8ede-e734b9043a86",
   "metadata": {},
   "outputs": [],
   "source": []
  }
 ],
 "metadata": {
  "kernelspec": {
   "display_name": "R",
   "language": "R",
   "name": "ir"
  },
  "language_info": {
   "codemirror_mode": "r",
   "file_extension": ".r",
   "mimetype": "text/x-r-source",
   "name": "R",
   "pygments_lexer": "r",
   "version": "4.4.0"
  }
 },
 "nbformat": 4,
 "nbformat_minor": 5
}
