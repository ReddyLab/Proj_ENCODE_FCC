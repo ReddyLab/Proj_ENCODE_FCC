{
 "cells": [
  {
   "cell_type": "code",
   "execution_count": 7,
   "id": "2cd9e21f-04c2-46a3-ac43-54746c490fcf",
   "metadata": {},
   "outputs": [],
   "source": [
    "TAB=\"$(printf '\\t')\"\n",
    "\n",
    "cat > A.bed << EOF\n",
    "chr1${TAB}10${TAB}20\n",
    "chr2${TAB}20${TAB}40\n",
    "chrX${TAB}20${TAB}40\n",
    "chrY${TAB}20${TAB}40\n",
    "chrM${TAB}20${TAB}40\n",
    "chr1_123456${TAB}10${TAB}20\n",
    "EOF"
   ]
  },
  {
   "cell_type": "code",
   "execution_count": 8,
   "id": "a51d4609-4495-4acb-9ed6-9eae6cce6d28",
   "metadata": {},
   "outputs": [
    {
     "name": "stdout",
     "output_type": "stream",
     "text": [
      "chr1\t10\t20\n",
      "chr2\t20\t40\n",
      "chrX\t20\t40\n",
      "chrY\t20\t40\n",
      "chrM\t20\t40\n",
      "chr1_123456\t10\t20\n"
     ]
    }
   ],
   "source": [
    "cat A.bed"
   ]
  },
  {
   "cell_type": "code",
   "execution_count": 9,
   "id": "ed87121f-dc1f-425b-beea-d2133376a847",
   "metadata": {},
   "outputs": [
    {
     "name": "stdout",
     "output_type": "stream",
     "text": [
      "\u001b[01;31m\u001b[KchrM\u001b[m\u001b[K\t20\t40\n"
     ]
    }
   ],
   "source": [
    "cat A.bed | grep chrM"
   ]
  },
  {
   "cell_type": "code",
   "execution_count": 10,
   "id": "cafc0535-765c-46dc-9ddc-b3f61e946301",
   "metadata": {},
   "outputs": [
    {
     "name": "stdout",
     "output_type": "stream",
     "text": [
      "\u001b[01;31m\u001b[Kchr1\u001b[m\u001b[K\t10\t20\n",
      "\u001b[01;31m\u001b[Kchr2\u001b[m\u001b[K\t20\t40\n",
      "\u001b[01;31m\u001b[Kchr1\u001b[m\u001b[K_123456\t10\t20\n"
     ]
    }
   ],
   "source": [
    "cat A.bed | grep -E \"chr1|chr2\""
   ]
  },
  {
   "cell_type": "code",
   "execution_count": 12,
   "id": "86c2fc4f-a5f9-4a52-9a5c-3dd6a4d09cc6",
   "metadata": {},
   "outputs": [
    {
     "name": "stdout",
     "output_type": "stream",
     "text": [
      "chr1\t10\t20\n"
     ]
    }
   ],
   "source": [
    "cat A.bed | awk '{ if ($1 == \"chr1\") { print } }'"
   ]
  },
  {
   "cell_type": "code",
   "execution_count": null,
   "id": "0be6ef10-ea2f-4313-99e4-9381d89d15f4",
   "metadata": {},
   "outputs": [],
   "source": []
  }
 ],
 "metadata": {
  "kernelspec": {
   "display_name": "Bash",
   "language": "bash",
   "name": "bash"
  },
  "language_info": {
   "codemirror_mode": "shell",
   "file_extension": ".sh",
   "mimetype": "text/x-sh",
   "name": "bash"
  }
 },
 "nbformat": 4,
 "nbformat_minor": 5
}
