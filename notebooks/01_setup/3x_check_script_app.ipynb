{
 "cells": [
  {
   "cell_type": "raw",
   "id": "35730d54-5d87-4b6c-9fcb-911ea4db2571",
   "metadata": {
    "tags": []
   },
   "source": [
    "---\n",
    "title: Check Scripts \n",
    "subtitle: Check config\n",
    "format:\n",
    "    html:\n",
    "        code-fold:  true\n",
    "        code-tools: true\n",
    "---"
   ]
  },
  {
   "cell_type": "markdown",
   "id": "365272ef-64dd-4ad3-b531-e94223f70075",
   "metadata": {},
   "source": [
    "**Set environment**"
   ]
  },
  {
   "cell_type": "code",
   "execution_count": 1,
   "id": "5b748eac-a9c6-4a7f-a55f-0c6e37a1bd86",
   "metadata": {},
   "outputs": [
    {
     "name": "stdout",
     "output_type": "stream",
     "text": [
      "You are working on             Duke Server: HARDAC\n",
      "BASE DIRECTORY (FD_BASE):      /data/reddylab/Kuei\n",
      "REPO DIRECTORY (FD_REPO):      /data/reddylab/Kuei/repo\n",
      "WORK DIRECTORY (FD_WORK):      /data/reddylab/Kuei/work\n",
      "DATA DIRECTORY (FD_DATA):      /data/reddylab/Kuei/data\n",
      "CONTAINER DIR. (FD_SING):      /data/reddylab/Kuei/container\n",
      "\n",
      "You are working with           ENCODE FCC\n",
      "PATH OF PROJECT (FD_PRJ):      /data/reddylab/Kuei/repo/Proj_ENCODE_FCC\n",
      "PROJECT RESULTS (FD_RES):      /data/reddylab/Kuei/repo/Proj_ENCODE_FCC/results\n",
      "PROJECT SCRIPTS (FD_EXE):      /data/reddylab/Kuei/repo/Proj_ENCODE_FCC/scripts\n",
      "PROJECT DATA    (FD_DAT):      /data/reddylab/Kuei/repo/Proj_ENCODE_FCC/data\n",
      "PROJECT NOTE    (FD_NBK):      /data/reddylab/Kuei/repo/Proj_ENCODE_FCC/notebooks\n",
      "PROJECT DOCS    (FD_DOC):      /data/reddylab/Kuei/repo/Proj_ENCODE_FCC/docs\n",
      "PROJECT LOG     (FD_LOG):      /data/reddylab/Kuei/repo/Proj_ENCODE_FCC/log\n",
      "PROJECT APP     (FD_APP):      \n",
      "PROJECT REF     (FD_REF):      /data/reddylab/Kuei/repo/Proj_ENCODE_FCC/references\n",
      "PROJECT IMAGE   (FP_PRJ_SIF):  /data/reddylab/Kuei/container/project/singularity_proj_encode_fcc.sif\n",
      "\n"
     ]
    }
   ],
   "source": [
    "source ../run_config_project.sh\n",
    "show_env"
   ]
  },
  {
   "cell_type": "markdown",
   "id": "fdd64860-e7d0-4eba-a417-3746e6427da0",
   "metadata": {},
   "source": [
    "## Bedtools"
   ]
  },
  {
   "cell_type": "code",
   "execution_count": 2,
   "id": "29582e5e-8ce2-44b5-9abb-3b47be629c0e",
   "metadata": {},
   "outputs": [
    {
     "name": "stdout",
     "output_type": "stream",
     "text": [
      "/data/reddylab/Kuei/repo/Proj_ENCODE_FCC/scripts/app_duke_hardac/bedtools\n"
     ]
    }
   ],
   "source": [
    "which bedtools"
   ]
  },
  {
   "cell_type": "code",
   "execution_count": 3,
   "id": "4f8196d4-c37a-4ec3-a07f-59f90ad68fd6",
   "metadata": {},
   "outputs": [
    {
     "name": "stdout",
     "output_type": "stream",
     "text": [
      "bedtools v2.31.1\n"
     ]
    }
   ],
   "source": [
    "bedtools --version"
   ]
  },
  {
   "cell_type": "markdown",
   "id": "5509b80b-56eb-41d2-9471-806d65199efa",
   "metadata": {},
   "source": [
    "## Bedops"
   ]
  },
  {
   "cell_type": "code",
   "execution_count": 4,
   "id": "3b86274a-27b5-4673-8e4a-769f58bcad9f",
   "metadata": {},
   "outputs": [
    {
     "name": "stdout",
     "output_type": "stream",
     "text": [
      "/data/reddylab/Kuei/repo/Proj_ENCODE_FCC/scripts/app_duke_hardac/bedops\n"
     ]
    }
   ],
   "source": [
    "which bedops"
   ]
  },
  {
   "cell_type": "code",
   "execution_count": 5,
   "id": "869784de-fdfb-4941-817e-7da392cfe35a",
   "metadata": {},
   "outputs": [
    {
     "name": "stdout",
     "output_type": "stream",
     "text": [
      "bedops\n",
      "  citation: http://bioinformatics.oxfordjournals.org/content/28/14/1919.abstract\n",
      "            https://doi.org/10.1093/bioinformatics/bts277\n",
      "  version:  2.4.40 (typical)\n",
      "  authors:  Shane Neph & Scott Kuehn\n"
     ]
    }
   ],
   "source": [
    "bedops --version"
   ]
  },
  {
   "cell_type": "markdown",
   "id": "55b0d153-7498-44b5-8574-38d07446be99",
   "metadata": {},
   "source": [
    "**Bedextract**"
   ]
  },
  {
   "cell_type": "code",
   "execution_count": 6,
   "id": "89f0ceed-d021-4e74-b529-89561f8c3baa",
   "metadata": {},
   "outputs": [
    {
     "name": "stdout",
     "output_type": "stream",
     "text": [
      "/data/reddylab/Kuei/repo/Proj_ENCODE_FCC/scripts/app_duke_hardac/bedextract\n"
     ]
    }
   ],
   "source": [
    "which bedextract"
   ]
  },
  {
   "cell_type": "code",
   "execution_count": 7,
   "id": "efea6211-865c-45ae-91bd-cff0979a8bd9",
   "metadata": {},
   "outputs": [
    {
     "name": "stdout",
     "output_type": "stream",
     "text": [
      "bedextract\n",
      "  citation: http://bioinformatics.oxfordjournals.org/content/28/14/1919.abstract\n",
      "            https://doi.org/10.1093/bioinformatics/bts277\n",
      "  version:  2.4.40 (typical)\n",
      "  authors:  Shane Neph & Alex Reynolds\n",
      "\n",
      "    Every input file must be sorted per sort-bed.\n",
      "\n",
      " USAGE:\n",
      "   0) --help or --version           Print requested info and exit successfully\n",
      "   1) --list-chr <input.bed>        Print all unique chromosome names found in <input.bed>\n",
      "   2) <chromosome> <input.bed>      Retrieve all rows for chr8 with:  bedextract chr8 <input.bed>\n",
      "   3) <query.bed> <target>          Grab elements from the <query.bed> that overlap elements in <target>. Same as\n",
      "                                     `bedops -e 1 <query.bed> <target>`, except that this option fails silently\n",
      "                                      if <query.bed> contains fully-nested BED elements.  If no fully-nested\n",
      "                                      element exists, bedextract can vastly improve upon the performance of bedops.\n",
      "                                      <target> may be a BED or Starch file (with or without fully-nested elements).\n",
      "                                      Using '-' for <target> indicates input (in BED format) comes from stdin.\n",
      "\n"
     ]
    }
   ],
   "source": [
    "bedextract --help"
   ]
  },
  {
   "cell_type": "markdown",
   "id": "f7f47874-ee61-48b1-8289-26209afb0d58",
   "metadata": {},
   "source": [
    "## UCSC"
   ]
  },
  {
   "cell_type": "code",
   "execution_count": null,
   "id": "bce1bee2-c541-43e8-ab1d-3fffbc54848e",
   "metadata": {},
   "outputs": [],
   "source": []
  }
 ],
 "metadata": {
  "kernelspec": {
   "display_name": "Bash",
   "language": "bash",
   "name": "bash"
  },
  "language_info": {
   "codemirror_mode": "shell",
   "file_extension": ".sh",
   "mimetype": "text/x-sh",
   "name": "bash"
  }
 },
 "nbformat": 4,
 "nbformat_minor": 5
}
