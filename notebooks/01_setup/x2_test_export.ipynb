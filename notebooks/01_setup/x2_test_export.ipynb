{
 "cells": [
  {
   "cell_type": "code",
   "execution_count": 1,
   "id": "59e87763-cba3-4937-8bf5-c9713417ab04",
   "metadata": {},
   "outputs": [
    {
     "name": "stdout",
     "output_type": "stream",
     "text": [
      "bash: bedtools: command not found\n"
     ]
    },
    {
     "ename": "",
     "evalue": "127",
     "output_type": "error",
     "traceback": []
    }
   ],
   "source": [
    "bedtools --version"
   ]
  },
  {
   "cell_type": "code",
   "execution_count": 2,
   "id": "b7ff9505-9f22-4fd2-b27b-3014e14ae7e7",
   "metadata": {},
   "outputs": [
    {
     "name": "stdout",
     "output_type": "stream",
     "text": [
      "You are working on             Duke Server: HARDAC\n",
      "BASE DIRECTORY (FD_BASE):      /data/reddylab/Kuei\n",
      "REPO DIRECTORY (FD_REPO):      /data/reddylab/Kuei/repo\n",
      "WORK DIRECTORY (FD_WORK):      /data/reddylab/Kuei/work\n",
      "DATA DIRECTORY (FD_DATA):      /data/reddylab/Kuei/data\n",
      "CONTAINER DIR. (FD_SING):      /data/reddylab/Kuei/container\n",
      "\n",
      "You are working with           ENCODE FCC\n",
      "PATH OF PROJECT (FD_PRJ):      /data/reddylab/Kuei/repo/Proj_ENCODE_FCC\n",
      "PROJECT RESULTS (FD_RES):      /data/reddylab/Kuei/repo/Proj_ENCODE_FCC/results\n",
      "PROJECT SCRIPTS (FD_EXE):      /data/reddylab/Kuei/repo/Proj_ENCODE_FCC/scripts\n",
      "PROJECT DATA    (FD_DAT):      /data/reddylab/Kuei/repo/Proj_ENCODE_FCC/data\n",
      "PROJECT NOTE    (FD_NBK):      /data/reddylab/Kuei/repo/Proj_ENCODE_FCC/notebooks\n",
      "PROJECT DOCS    (FD_DOC):      /data/reddylab/Kuei/repo/Proj_ENCODE_FCC/docs\n",
      "PROJECT LOG     (FD_LOG):      /data/reddylab/Kuei/repo/Proj_ENCODE_FCC/log\n",
      "PROJECT APP     (FD_APP):      /data/reddylab/Kuei/repo/Proj_ENCODE_FCC/app\n",
      "PROJECT REF     (FD_REF):      /data/reddylab/Kuei/repo/Proj_ENCODE_FCC/references\n",
      "PROJECT IMAGE   (FP_PRJ_SIF):  /data/reddylab/Kuei/repo/Proj_ENCODE_FCC/app/singularity_proj_encode_fcc.sif\n",
      "\n"
     ]
    }
   ],
   "source": [
    "source ../run_config_project.sh\n",
    "show_env"
   ]
  },
  {
   "cell_type": "code",
   "execution_count": 3,
   "id": "49daee08-2e2c-4194-bd4c-8e0d4cdebc8b",
   "metadata": {},
   "outputs": [
    {
     "name": "stdout",
     "output_type": "stream",
     "text": [
      "bedtools v2.31.1\n"
     ]
    }
   ],
   "source": [
    "bedtools --version"
   ]
  },
  {
   "cell_type": "code",
   "execution_count": 4,
   "id": "0437a52d-808d-49e2-a7e0-1f5990e012c9",
   "metadata": {},
   "outputs": [
    {
     "name": "stdout",
     "output_type": "stream",
     "text": [
      "\n",
      "Tool:    bedtools sammary\n",
      "Version: v2.31.1\n",
      "Summary: Report summary statistics of the intervals in a file \n",
      "\n",
      "Usage:   bedtools summary [OPTIONS] -i <bed/gff/vcf/bam> -g <genome>\n",
      "\n",
      "Notes: \n",
      "\t(1)  The genome file should tab delimited and structured as follows:\n",
      "\t     <chromName><TAB><chromSize>\n",
      "\n",
      "\tFor example, Human (hg19):\n",
      "\tchr1\t249250621\n",
      "\tchr2\t243199373\n",
      "\t...\n",
      "\tchr18_gl000207_random\t4262\n",
      "\n",
      "\n",
      "\n",
      "\n"
     ]
    },
    {
     "ename": "",
     "evalue": "1",
     "output_type": "error",
     "traceback": []
    }
   ],
   "source": [
    "bedtools summary --help"
   ]
  },
  {
   "cell_type": "code",
   "execution_count": 5,
   "id": "d8cd8df1-5b5a-4bb7-ae77-9b8b41c69392",
   "metadata": {},
   "outputs": [
    {
     "name": "stdout",
     "output_type": "stream",
     "text": [
      "/gpfs/fs1/data/reddylab/Kuei/repo/Proj_ENCODE_FCC/notebooks/01_setup\n"
     ]
    }
   ],
   "source": [
    "echo /gpfs/fs1/data/reddylab/Kuei/repo/Proj_ENCODE_FCC/notebooks/01_setup"
   ]
  },
  {
   "cell_type": "code",
   "execution_count": null,
   "id": "659b6af9-5eb2-46a8-b895-bf14dc38efd9",
   "metadata": {},
   "outputs": [],
   "source": []
  },
  {
   "cell_type": "code",
   "execution_count": null,
   "id": "8962a7b9-5dc9-4472-9cc9-97810cedf2e4",
   "metadata": {},
   "outputs": [],
   "source": []
  }
 ],
 "metadata": {
  "kernelspec": {
   "display_name": "Bash",
   "language": "bash",
   "name": "bash"
  },
  "language_info": {
   "codemirror_mode": "shell",
   "file_extension": ".sh",
   "mimetype": "text/x-sh",
   "name": "bash"
  }
 },
 "nbformat": 4,
 "nbformat_minor": 5
}
