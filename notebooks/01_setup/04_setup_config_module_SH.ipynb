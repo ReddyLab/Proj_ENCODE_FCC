{
 "cells": [
  {
   "cell_type": "raw",
   "id": "9f41f307-0bad-4e4f-a366-88e05c633f3b",
   "metadata": {},
   "source": [
    "---\n",
    "title: Setup Envionment 04\n",
    "subtitle: Project configuration when importing modules\n",
    "format:\n",
    "    html:\n",
    "        code-fold:  true\n",
    "        code-tools: true\n",
    "---"
   ]
  },
  {
   "cell_type": "markdown",
   "id": "3438aeeb-f983-48f2-9320-a72a6e4af21e",
   "metadata": {},
   "source": [
    "**Set environment**"
   ]
  },
  {
   "cell_type": "code",
   "execution_count": 1,
   "id": "d2f9f2b7-5bba-44da-8900-6a19811f7e0a",
   "metadata": {},
   "outputs": [
    {
     "name": "stdout",
     "output_type": "stream",
     "text": [
      "You are working on             Duke Server: HARDAC\n",
      "BASE DIRECTORY (FD_BASE):      /data/reddylab/Kuei\n",
      "REPO DIRECTORY (FD_REPO):      /data/reddylab/Kuei/repo\n",
      "WORK DIRECTORY (FD_WORK):      /data/reddylab/Kuei/work\n",
      "DATA DIRECTORY (FD_DATA):      /data/reddylab/Kuei/data\n",
      "CONTAINER DIR. (FD_SING):      /data/reddylab/Kuei/container\n",
      "\n",
      "You are working with           ENCODE FCC\n",
      "PATH OF PROJECT (FD_PRJ):      /data/reddylab/Kuei/repo/Proj_ENCODE_FCC\n",
      "PROJECT RESULTS (FD_RES):      /data/reddylab/Kuei/repo/Proj_ENCODE_FCC/results\n",
      "PROJECT SCRIPTS (FD_EXE):      /data/reddylab/Kuei/repo/Proj_ENCODE_FCC/scripts\n",
      "PROJECT DATA    (FD_DAT):      /data/reddylab/Kuei/repo/Proj_ENCODE_FCC/data\n",
      "PROJECT NOTE    (FD_NBK):      /data/reddylab/Kuei/repo/Proj_ENCODE_FCC/notebooks\n",
      "PROJECT DOCS    (FD_DOC):      /data/reddylab/Kuei/repo/Proj_ENCODE_FCC/docs\n",
      "PROJECT LOG     (FD_LOG):      /data/reddylab/Kuei/repo/Proj_ENCODE_FCC/log\n",
      "PROJECT APP     (FD_APP):      /data/reddylab/Kuei/repo/Proj_ENCODE_FCC/app\n",
      "PROJECT REF     (FD_REF):      /data/reddylab/Kuei/repo/Proj_ENCODE_FCC/references\n",
      "PROJECT IMAGE   (FP_PRJ_SIF):  /data/reddylab/Kuei/repo/Proj_ENCODE_FCC/app/singularity_proj_encode_fcc.sif\n",
      "\n"
     ]
    }
   ],
   "source": [
    "source ../run_config_project.sh\n",
    "show_env"
   ]
  },
  {
   "cell_type": "code",
   "execution_count": 2,
   "id": "e31da6d0-cea5-4009-a688-44725463fb81",
   "metadata": {},
   "outputs": [
    {
     "name": "stdout",
     "output_type": "stream",
     "text": [
      "\u001b[0m\u001b[38;5;34mconfig_func.sh\u001b[0m                  \u001b[38;5;34mrun_bedtools_intersect.sh\u001b[0m\n",
      "\u001b[38;5;34mconfig_load_module_bedtools.sh\u001b[0m  \u001b[38;5;34mrun_bedtools_intersect_unique.sh\u001b[0m\n",
      "\u001b[38;5;34mconfig_path_duke_hardac.sh\u001b[0m      \u001b[38;5;34mrun_bedtools_test.sh\u001b[0m\n",
      "\u001b[38;5;34mconfig_path_sing.sh\u001b[0m             \u001b[38;5;34mrun_bigWigToWig.sh\u001b[0m\n",
      "\u001b[38;5;34mconfig_project.sh\u001b[0m               \u001b[38;5;34mrun_calulate_lib_size.sh\u001b[0m\n",
      "\u001b[38;5;34mconfig_project_sing.py\u001b[0m          \u001b[38;5;34mrun_liftOver.sh\u001b[0m\n",
      "\u001b[38;5;34mconfig_project_sing.R\u001b[0m           \u001b[38;5;34mrun_script_test.sh\u001b[0m\n",
      "\u001b[38;5;34mconfig_project_site.R\u001b[0m           \u001b[38;5;34msing_jupyter.sh\u001b[0m\n",
      "\u001b[38;5;34mconfig_venv_wrapper.sh\u001b[0m          \u001b[38;5;34msing_quarto.sh\u001b[0m\n",
      "\u001b[38;5;34mrun_bedtools_coverage.sh\u001b[0m        \u001b[38;5;34msing_script.sh\u001b[0m\n"
     ]
    }
   ],
   "source": [
    "ls ${FD_EXE}"
   ]
  },
  {
   "cell_type": "code",
   "execution_count": 3,
   "id": "6aafc32e-be5c-44c9-af3d-45a520804124",
   "metadata": {},
   "outputs": [],
   "source": [
    "cat > ${FD_EXE}/config_load_module_bedops.sh << EOF\n",
    "module load bedops\n",
    "EOF"
   ]
  },
  {
   "cell_type": "code",
   "execution_count": null,
   "id": "e2c68f98-3c2b-4e0f-a75c-e59a7b8e313b",
   "metadata": {},
   "outputs": [],
   "source": []
  }
 ],
 "metadata": {
  "kernelspec": {
   "display_name": "Bash",
   "language": "bash",
   "name": "bash"
  },
  "language_info": {
   "codemirror_mode": "shell",
   "file_extension": ".sh",
   "mimetype": "text/x-sh",
   "name": "bash"
  }
 },
 "nbformat": 4,
 "nbformat_minor": 5
}
