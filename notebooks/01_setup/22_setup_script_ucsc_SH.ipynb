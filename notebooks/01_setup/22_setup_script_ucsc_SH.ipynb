{
 "cells": [
  {
   "cell_type": "raw",
   "id": "25b7c385-0dd3-4e96-bccb-01f7e52f626a",
   "metadata": {},
   "source": [
    "---\n",
    "title: Setup Scripts 02\n",
    "subtitle: Commands and data from UCSC\n",
    "format:\n",
    "    html:\n",
    "        code-fold:  true\n",
    "        code-tools: true\n",
    "---"
   ]
  },
  {
   "cell_type": "markdown",
   "id": "d745ad3b-7532-4923-bcfa-d4262fa6cfaf",
   "metadata": {},
   "source": [
    "**Set environment**"
   ]
  },
  {
   "cell_type": "code",
   "execution_count": 1,
   "id": "97892549-d67b-4fc2-a256-7b58237b397a",
   "metadata": {},
   "outputs": [
    {
     "name": "stdout",
     "output_type": "stream",
     "text": [
      "You are working on             Duke Server: HARDAC\n",
      "BASE DIRECTORY (FD_BASE):      /data/reddylab/Kuei\n",
      "REPO DIRECTORY (FD_REPO):      /data/reddylab/Kuei/repo\n",
      "WORK DIRECTORY (FD_WORK):      /data/reddylab/Kuei/work\n",
      "DATA DIRECTORY (FD_DATA):      /data/reddylab/Kuei/data\n",
      "CONTAINER DIR. (FD_SING):      /data/reddylab/Kuei/container\n",
      "\n",
      "You are working with           ENCODE FCC\n",
      "PATH OF PROJECT (FD_PRJ):      /data/reddylab/Kuei/repo/Proj_CombEffect_ENCODE_FCC\n",
      "PROJECT RESULTS (FD_RES):      /data/reddylab/Kuei/repo/Proj_CombEffect_ENCODE_FCC/results\n",
      "PROJECT SCRIPTS (FD_EXE):      /data/reddylab/Kuei/repo/Proj_CombEffect_ENCODE_FCC/scripts\n",
      "PROJECT DATA    (FD_DAT):      /data/reddylab/Kuei/repo/Proj_CombEffect_ENCODE_FCC/data\n",
      "PROJECT NOTE    (FD_NBK):      /data/reddylab/Kuei/repo/Proj_CombEffect_ENCODE_FCC/notebooks\n",
      "PROJECT DOCS    (FD_DOC):      /data/reddylab/Kuei/repo/Proj_CombEffect_ENCODE_FCC/docs\n",
      "PROJECT LOG     (FD_LOG):      /data/reddylab/Kuei/repo/Proj_CombEffect_ENCODE_FCC/log\n",
      "PROJECT APP     (FD_APP):      /data/reddylab/Kuei/repo/Proj_CombEffect_ENCODE_FCC/app\n",
      "PROJECT REF     (FD_REF):      /data/reddylab/Kuei/repo/Proj_CombEffect_ENCODE_FCC/references\n",
      "PROJECT IMAGE   (FP_PRJ_SIF):  /data/reddylab/Kuei/repo/Proj_CombEffect_ENCODE_FCC/app/singularity_proj_encode_fcc.sif\n",
      "\n"
     ]
    }
   ],
   "source": [
    "source ../run_config_project.sh\n",
    "show_env"
   ]
  },
  {
   "cell_type": "markdown",
   "id": "f344104a-3d01-4780-88b0-3a394356bd6d",
   "metadata": {},
   "source": [
    "## Setup scripts for running UCSC command"
   ]
  },
  {
   "cell_type": "code",
   "execution_count": 2,
   "id": "65c1bebe-21db-47e1-b52a-d2a08bc869a5",
   "metadata": {},
   "outputs": [
    {
     "name": "stdout",
     "output_type": "stream",
     "text": [
      "\u001b[0m\u001b[38;5;34mconfig_func.sh\u001b[0m                  \u001b[38;5;34mconfig_project_sing.py\u001b[0m    \u001b[38;5;34mrun_liftOver.sh\u001b[0m\n",
      "config_load_module_bedtools.sh  \u001b[38;5;34mconfig_project_sing.R\u001b[0m     \u001b[38;5;34mrun_script_test.sh\u001b[0m\n",
      "\u001b[38;5;34mconfig_path_duke_hardac.sh\u001b[0m      \u001b[38;5;34mconfig_venv_wrapper.sh\u001b[0m    \u001b[38;5;34msing_jupyter.sh\u001b[0m\n",
      "\u001b[38;5;34mconfig_path_sing.sh\u001b[0m             \u001b[38;5;34mrun_bedtools_coverage.sh\u001b[0m  \u001b[38;5;34msing_quarto.sh\u001b[0m\n",
      "\u001b[38;5;34mconfig_project.sh\u001b[0m               \u001b[38;5;34mrun_bedtools_test.sh\u001b[0m      \u001b[38;5;34msing_script.sh\u001b[0m\n"
     ]
    }
   ],
   "source": [
    "ls ${FD_EXE}"
   ]
  },
  {
   "cell_type": "code",
   "execution_count": 3,
   "id": "f7487cd8-ade8-4d3e-91ab-62df1fbbf8e9",
   "metadata": {},
   "outputs": [],
   "source": [
    "cat > ${FD_EXE}/run_liftOver.sh << 'EOF'\n",
    "#!/bin/bash\n",
    "\n",
    "CMD=/data/common/shared_conda_envs/ucsc/bin/liftOver\n",
    "ARGS=\"$@\"\n",
    "\n",
    "${CMD} ${ARGS}\n",
    "\n",
    "EOF"
   ]
  },
  {
   "cell_type": "markdown",
   "id": "410f891f-7482-4af5-9fc9-b7966f7be39b",
   "metadata": {},
   "source": [
    "**Test scripts**"
   ]
  },
  {
   "cell_type": "code",
   "execution_count": 4,
   "id": "3ee5cc2d-e864-44dc-aca3-bd9208a990c4",
   "metadata": {},
   "outputs": [],
   "source": [
    "chmod +x ${FD_EXE}/*"
   ]
  },
  {
   "cell_type": "code",
   "execution_count": 5,
   "id": "93489628-e587-40a9-9973-d5e5757817ea",
   "metadata": {},
   "outputs": [
    {
     "name": "stdout",
     "output_type": "stream",
     "text": [
      "liftOver - Move annotations from one assembly to another\n",
      "usage:\n",
      "   liftOver oldFile map.chain newFile unMapped\n",
      "oldFile and newFile are in bed format by default, but can be in GFF and\n",
      "maybe eventually others with the appropriate flags below.\n",
      "The map.chain file has the old genome as the target and the new genome\n",
      "as the query.\n",
      "\n",
      "***********************************************************************\n",
      "WARNING: liftOver was only designed to work between different\n",
      "         assemblies of the same organism. It may not do what you want\n",
      "         if you are lifting between different organisms. If there has\n",
      "         been a rearrangement in one of the species, the size of the\n",
      "         region being mapped may change dramatically after mapping.\n",
      "***********************************************************************\n",
      "\n",
      "options:\n",
      "   -minMatch=0.N Minimum ratio of bases that must remap. Default 0.95\n",
      "   -gff  File is in gff/gtf format.  Note that the gff lines are converted\n",
      "         separately.  It would be good to have a separate check after this\n",
      "         that the lines that make up a gene model still make a plausible gene\n",
      "         after liftOver\n",
      "   -genePred - File is in genePred format\n",
      "   -sample - File is in sample format\n",
      "   -bedPlus=N - File is bed N+ format (i.e. first N fields conform to bed format)\n",
      "   -positions - File is in browser \"position\" format\n",
      "   -hasBin - File has bin value (used only with -bedPlus)\n",
      "   -tab - Separate by tabs rather than space (used only with -bedPlus)\n",
      "   -pslT - File is in psl format, map target side only\n",
      "   -ends=N - Lift the first and last N bases of each record and combine the\n",
      "             result. This is useful for lifting large regions like BAC end pairs.\n",
      "   -minBlocks=0.N Minimum ratio of alignment blocks or exons that must map\n",
      "                  (default 1.00)\n",
      "   -fudgeThick    (bed 12 or 12+ only) If thickStart/thickEnd is not mapped,\n",
      "                  use the closest mapped base.  Recommended if using \n",
      "                  -minBlocks.\n",
      "   -multiple               Allow multiple output regions\n",
      "   -noSerial               In -multiple mode, do not put a serial number in the 5th BED column\n",
      "   -minChainT, -minChainQ  Minimum chain size in target/query, when mapping\n",
      "                           to multiple output regions (default 0, 0)\n",
      "   -minSizeT               deprecated synonym for -minChainT (ENCODE compat.)\n",
      "   -minSizeQ               Min matching region size in query with -multiple.\n",
      "   -chainTable             Used with -multiple, format is db.tablename,\n",
      "                               to extend chains from net (preserves dups)\n",
      "   -errorHelp              Explain error messages\n",
      "\n"
     ]
    },
    {
     "ename": "",
     "evalue": "255",
     "output_type": "error",
     "traceback": []
    }
   ],
   "source": [
    "${FD_EXE}/run_liftOver.sh"
   ]
  },
  {
   "cell_type": "markdown",
   "id": "9916b6e0-ae98-4fb4-8d14-b2e295260b1e",
   "metadata": {},
   "source": [
    "## Get additional data for scripts"
   ]
  },
  {
   "cell_type": "markdown",
   "id": "f9b5d31f-6c42-4e96-843b-c554c059fec2",
   "metadata": {},
   "source": [
    "### Get chromosome size information"
   ]
  },
  {
   "cell_type": "code",
   "execution_count": 6,
   "id": "71a62eb9-382b-49d1-9938-0206c7ad2966",
   "metadata": {},
   "outputs": [
    {
     "name": "stdout",
     "output_type": "stream",
     "text": [
      "\u001b[0m\u001b[38;5;27mdata\u001b[0m  Readme.md  \u001b[38;5;9mresults_v1.tar.gz\u001b[0m  \u001b[38;5;9mresults_v3.tar.gz\u001b[0m  \u001b[38;5;27msource\u001b[0m\n",
      "\u001b[38;5;27mlog\u001b[0m   \u001b[38;5;27mresults\u001b[0m    \u001b[38;5;9mresults_v2.tar.gz\u001b[0m  \u001b[38;5;27mresults_v4\u001b[0m\n"
     ]
    }
   ],
   "source": [
    "ls ${FD_WORK}/proj_combeffect_encode_fcc"
   ]
  },
  {
   "cell_type": "code",
   "execution_count": 7,
   "id": "0f1e07da-1da3-4c82-baea-5c5963d9dd6f",
   "metadata": {},
   "outputs": [
    {
     "name": "stdout",
     "output_type": "stream",
     "text": [
      "\u001b[0m\u001b[38;5;27mA001_K562_wstarrseq_fragments\u001b[0m\n",
      "\u001b[38;5;27mA001_K562_wstarrseq_fragments_wgs\u001b[0m\n",
      "\u001b[38;5;27mannotation_cCREs\u001b[0m\n",
      "\u001b[38;5;27mannotation_chipseq_histone\u001b[0m\n",
      "\u001b[38;5;27mannotation_chipseq_tf\u001b[0m\n",
      "\u001b[38;5;27mannotation_chromHMM\u001b[0m\n",
      "\u001b[38;5;27mannotation_enhancer_junke\u001b[0m\n",
      "\u001b[38;5;27mannotation_enhancer_junke_zscore\u001b[0m\n",
      "\u001b[38;5;27mannotation_enhancer_junke_zscore_prev\u001b[0m\n",
      "\u001b[38;5;27mannotation_gencode\u001b[0m\n",
      "\u001b[38;5;27mannotation_gene\u001b[0m\n",
      "\u001b[38;5;27mannotation_remap2022\u001b[0m\n",
      "\u001b[38;5;27mannotation_starrseq_negative_control_junke\u001b[0m\n",
      "chrom.sizes.hg19\n",
      "chrom.sizes.hg38\n",
      "\u001b[38;5;27mCRISPRi_FlowFISH\u001b[0m\n",
      "\u001b[38;5;27mCRISPRi_growth\u001b[0m\n",
      "\u001b[38;5;27mENCODE_E2G\u001b[0m\n",
      "\u001b[38;5;27mhic_insitu_GM12878\u001b[0m\n",
      "\u001b[38;5;27mhic_intact_K562_deep\u001b[0m\n",
      "\u001b[38;5;27mhic_intact_K562_ENCSR479XDG\u001b[0m\n",
      "\u001b[38;5;27mKS91_K562_astarrseq_fragments_220510\u001b[0m\n",
      "\u001b[38;5;27mKS91_K562_astarrseq_fragments_wgs\u001b[0m\n",
      "\u001b[38;5;27mKS91_K562_astarrseq_peak_macs\u001b[0m\n",
      "\u001b[38;5;27mMPRA\u001b[0m\n",
      "Readme.md\n",
      "\u001b[38;5;27mRNAseq\u001b[0m\n",
      "\u001b[38;5;27mTF_modules\u001b[0m\n",
      "\u001b[38;5;27mtmp\u001b[0m\n"
     ]
    }
   ],
   "source": [
    "ls ${FD_WORK}/proj_combeffect_encode_fcc/source"
   ]
  },
  {
   "cell_type": "code",
   "execution_count": 8,
   "id": "cc2484df-1fb3-489c-b8cd-826b9670fd63",
   "metadata": {},
   "outputs": [
    {
     "name": "stdout",
     "output_type": "stream",
     "text": [
      "chrom.sizes.hg19  chrom.sizes.hg38  \u001b[0m\u001b[38;5;27mencode_open_chromatin\u001b[0m\n"
     ]
    }
   ],
   "source": [
    "ls ${FD_DAT}/external"
   ]
  },
  {
   "cell_type": "code",
   "execution_count": 9,
   "id": "33d83412-35ed-4b9d-aea7-d294ed169ef3",
   "metadata": {},
   "outputs": [
    {
     "name": "stdout",
     "output_type": "stream",
     "text": [
      "chrUn_KI270379v1\t1045\n",
      "chrUn_KI270329v1\t1040\n",
      "chrUn_KI270419v1\t1029\n",
      "chrUn_KI270336v1\t1026\n",
      "chrUn_KI270312v1\t998\n",
      "chrUn_KI270539v1\t993\n",
      "chrUn_KI270385v1\t990\n",
      "chrUn_KI270423v1\t981\n",
      "chrUn_KI270392v1\t971\n",
      "chrUn_KI270394v1\t970\n"
     ]
    }
   ],
   "source": [
    "tail /data/reddylab/Kuei/work/proj_combeffect_encode_fcc/source/chrom.sizes.hg38"
   ]
  },
  {
   "cell_type": "code",
   "execution_count": 10,
   "id": "f3af5d03-de2f-493c-8caa-b0a6a1bae8b9",
   "metadata": {},
   "outputs": [],
   "source": [
    "cp ${FD_WORK}/proj_combeffect_encode_fcc/source/chrom.sizes.hg* ${FD_DAT}/external/"
   ]
  },
  {
   "cell_type": "code",
   "execution_count": 11,
   "id": "2a2f3c0e-29b9-4700-806b-42c6707d24e4",
   "metadata": {},
   "outputs": [
    {
     "name": "stdout",
     "output_type": "stream",
     "text": [
      "chrom.sizes.hg19  chrom.sizes.hg38  \u001b[0m\u001b[38;5;27mencode_open_chromatin\u001b[0m\n"
     ]
    }
   ],
   "source": [
    "ls ${FD_DAT}/external"
   ]
  },
  {
   "cell_type": "code",
   "execution_count": null,
   "id": "110ae8f6-b961-4863-896d-fc552fe4119b",
   "metadata": {},
   "outputs": [],
   "source": []
  }
 ],
 "metadata": {
  "kernelspec": {
   "display_name": "Bash",
   "language": "bash",
   "name": "bash"
  },
  "language_info": {
   "codemirror_mode": "shell",
   "file_extension": ".sh",
   "mimetype": "text/x-sh",
   "name": "bash"
  }
 },
 "nbformat": 4,
 "nbformat_minor": 5
}
