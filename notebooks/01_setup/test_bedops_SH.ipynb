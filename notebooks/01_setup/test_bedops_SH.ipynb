{
 "cells": [
  {
   "cell_type": "code",
   "execution_count": 1,
   "id": "3e923357-a701-4c24-a2e4-6c223564d93e",
   "metadata": {},
   "outputs": [],
   "source": [
    "FD_PRJ=/data/reddylab/Kuei/repo/Proj_ENCODE_FCC\n",
    "FD_EXE=${FD_PRJ}/scripts"
   ]
  },
  {
   "cell_type": "markdown",
   "id": "0d9ee512-ded6-42be-90cf-bd516f82af14",
   "metadata": {},
   "source": [
    "**Bedtools on Duke HARDAC server**"
   ]
  },
  {
   "cell_type": "code",
   "execution_count": 2,
   "id": "76098d71-f6b5-482d-82aa-f09dc5d444e2",
   "metadata": {},
   "outputs": [],
   "source": [
    "source ${FD_EXE}/config_load_module_bedops.sh"
   ]
  },
  {
   "cell_type": "code",
   "execution_count": 3,
   "id": "7706166f-4b1c-4b1d-85fe-0f2db5ce8c83",
   "metadata": {},
   "outputs": [
    {
     "name": "stdout",
     "output_type": "stream",
     "text": [
      "bedops\n",
      "  citation: http://bioinformatics.oxfordjournals.org/content/28/14/1919.abstract\n",
      "            https://doi.org/10.1093/bioinformatics/bts277\n",
      "  version:  2.4.35 (typical)\n",
      "  authors:  Shane Neph & Scott Kuehn\n"
     ]
    }
   ],
   "source": [
    "bedops --version"
   ]
  },
  {
   "cell_type": "markdown",
   "id": "c4ee1de2-9529-4acf-a082-2d939e6993ef",
   "metadata": {},
   "source": [
    "**Bedtools from biocontainer**"
   ]
  },
  {
   "cell_type": "code",
   "execution_count": 4,
   "id": "86be78ce-826b-4180-b0ab-31d31eaf683f",
   "metadata": {},
   "outputs": [
    {
     "name": "stdout",
     "output_type": "stream",
     "text": [
      "#!/bin/bash\n",
      "\n",
      "#########################################\n",
      "### Wrapper of bedops container\n",
      "### =====================================\n",
      "\n",
      "IMAGE=/data/reddylab/Kuei/container/biocontainer/bedops:2.4.40--h9f5acd7_0\n",
      "\n",
      "CMD=\"bedops\"\n",
      "ARGS=\"$@\"\n",
      "\n",
      "singularity exec   \\\n",
      "    -B ${PWD}      \\\n",
      "    -B /data:/data \\\n",
      "    -B /gpfs:/gpfs \\\n",
      "    ${IMAGE} ${CMD} ${ARGS}\n"
     ]
    }
   ],
   "source": [
    "FPATH=${FD_EXE}/app_duke_hardac/bedops\n",
    "cat ${FPATH}"
   ]
  },
  {
   "cell_type": "code",
   "execution_count": 5,
   "id": "34e4a2cc-c676-4272-8e0e-152bb0d6b362",
   "metadata": {},
   "outputs": [
    {
     "name": "stdout",
     "output_type": "stream",
     "text": [
      "bedops\n",
      "  citation: http://bioinformatics.oxfordjournals.org/content/28/14/1919.abstract\n",
      "            https://doi.org/10.1093/bioinformatics/bts277\n",
      "  version:  2.4.40 (typical)\n",
      "  authors:  Shane Neph & Scott Kuehn\n"
     ]
    }
   ],
   "source": [
    "${FPATH} --version"
   ]
  },
  {
   "cell_type": "code",
   "execution_count": null,
   "id": "1f494aaf-0133-4e06-9e91-67ce845662cd",
   "metadata": {},
   "outputs": [],
   "source": []
  }
 ],
 "metadata": {
  "kernelspec": {
   "display_name": "Bash",
   "language": "bash",
   "name": "bash"
  },
  "language_info": {
   "codemirror_mode": "shell",
   "file_extension": ".sh",
   "mimetype": "text/x-sh",
   "name": "bash"
  }
 },
 "nbformat": 4,
 "nbformat_minor": 5
}
