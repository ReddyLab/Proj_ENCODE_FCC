{
 "cells": [
  {
   "cell_type": "raw",
   "id": "7211fbaf-c17c-4484-a7b5-1532142b21c6",
   "metadata": {},
   "source": [
    "---\n",
    "title: Prepare Chromosome size\n",
    "subtitle: Get chromosome size information\n",
    "format:\n",
    "    html:\n",
    "        code-fold:  true\n",
    "        code-tools: true\n",
    "---"
   ]
  },
  {
   "cell_type": "markdown",
   "id": "f26a27fc-371b-4e55-8c1e-a9456baf50fd",
   "metadata": {},
   "source": [
    "**Set environment**"
   ]
  },
  {
   "cell_type": "code",
   "execution_count": 1,
   "id": "f20a0368-c5fd-43ec-a3dc-1e67a9a1246b",
   "metadata": {},
   "outputs": [
    {
     "name": "stdout",
     "output_type": "stream",
     "text": [
      "You are working on             Duke Server: HARDAC\n",
      "BASE DIRECTORY (FD_BASE):      /data/reddylab/Kuei\n",
      "REPO DIRECTORY (FD_REPO):      /data/reddylab/Kuei/repo\n",
      "WORK DIRECTORY (FD_WORK):      /data/reddylab/Kuei/work\n",
      "DATA DIRECTORY (FD_DATA):      /data/reddylab/Kuei/data\n",
      "CONTAINER DIR. (FD_SING):      /data/reddylab/Kuei/container\n",
      "\n",
      "You are working with           ENCODE FCC\n",
      "PATH OF PROJECT (FD_PRJ):      /data/reddylab/Kuei/repo/Proj_CombEffect_ENCODE_FCC\n",
      "PROJECT RESULTS (FD_RES):      /data/reddylab/Kuei/repo/Proj_CombEffect_ENCODE_FCC/results\n",
      "PROJECT SCRIPTS (FD_EXE):      /data/reddylab/Kuei/repo/Proj_CombEffect_ENCODE_FCC/scripts\n",
      "PROJECT DATA    (FD_DAT):      /data/reddylab/Kuei/repo/Proj_CombEffect_ENCODE_FCC/data\n",
      "PROJECT NOTE    (FD_NBK):      /data/reddylab/Kuei/repo/Proj_CombEffect_ENCODE_FCC/notebooks\n",
      "PROJECT DOCS    (FD_DOC):      /data/reddylab/Kuei/repo/Proj_CombEffect_ENCODE_FCC/docs\n",
      "PROJECT LOG     (FD_LOG):      /data/reddylab/Kuei/repo/Proj_CombEffect_ENCODE_FCC/log\n",
      "PROJECT APP     (FD_APP):      /data/reddylab/Kuei/repo/Proj_CombEffect_ENCODE_FCC/app\n",
      "PROJECT REF     (FD_REF):      /data/reddylab/Kuei/repo/Proj_CombEffect_ENCODE_FCC/references\n",
      "PROJECT IMAGE   (FP_PRJ_SIF):  /data/reddylab/Kuei/repo/Proj_CombEffect_ENCODE_FCC/app/singularity_proj_encode_fcc.sif\n",
      "\n"
     ]
    }
   ],
   "source": [
    "source ../run_config_project.sh\n",
    "show_env"
   ]
  },
  {
   "cell_type": "code",
   "execution_count": 4,
   "id": "ac99c213-5b07-4f06-9d2d-bccce7b7b782",
   "metadata": {},
   "outputs": [
    {
     "name": "stdout",
     "output_type": "stream",
     "text": [
      "\u001b[0m\u001b[38;5;27mdata\u001b[0m  Readme.md  \u001b[38;5;9mresults_v1.tar.gz\u001b[0m  \u001b[38;5;9mresults_v3.tar.gz\u001b[0m  \u001b[38;5;27msource\u001b[0m\n",
      "\u001b[38;5;27mlog\u001b[0m   \u001b[38;5;27mresults\u001b[0m    \u001b[38;5;9mresults_v2.tar.gz\u001b[0m  \u001b[38;5;27mresults_v4\u001b[0m\n"
     ]
    }
   ],
   "source": [
    "ls ${FD_WORK}/proj_combeffect_encode_fcc"
   ]
  },
  {
   "cell_type": "code",
   "execution_count": 5,
   "id": "a10049e1-a5f3-4388-9513-6502b15d2116",
   "metadata": {},
   "outputs": [
    {
     "name": "stdout",
     "output_type": "stream",
     "text": [
      "\u001b[0m\u001b[38;5;27mA001_K562_wstarrseq_fragments\u001b[0m\n",
      "\u001b[38;5;27mA001_K562_wstarrseq_fragments_wgs\u001b[0m\n",
      "\u001b[38;5;27mannotation_cCREs\u001b[0m\n",
      "\u001b[38;5;27mannotation_chipseq_histone\u001b[0m\n",
      "\u001b[38;5;27mannotation_chipseq_tf\u001b[0m\n",
      "\u001b[38;5;27mannotation_chromHMM\u001b[0m\n",
      "\u001b[38;5;27mannotation_enhancer_junke\u001b[0m\n",
      "\u001b[38;5;27mannotation_enhancer_junke_zscore\u001b[0m\n",
      "\u001b[38;5;27mannotation_enhancer_junke_zscore_prev\u001b[0m\n",
      "\u001b[38;5;27mannotation_gencode\u001b[0m\n",
      "\u001b[38;5;27mannotation_gene\u001b[0m\n",
      "\u001b[38;5;27mannotation_remap2022\u001b[0m\n",
      "\u001b[38;5;27mannotation_starrseq_negative_control_junke\u001b[0m\n",
      "chrom.sizes.hg19\n",
      "chrom.sizes.hg38\n",
      "\u001b[38;5;27mCRISPRi_FlowFISH\u001b[0m\n",
      "\u001b[38;5;27mCRISPRi_growth\u001b[0m\n",
      "\u001b[38;5;27mENCODE_E2G\u001b[0m\n",
      "\u001b[38;5;27mhic_insitu_GM12878\u001b[0m\n",
      "\u001b[38;5;27mhic_intact_K562_deep\u001b[0m\n",
      "\u001b[38;5;27mhic_intact_K562_ENCSR479XDG\u001b[0m\n",
      "\u001b[38;5;27mKS91_K562_astarrseq_fragments_220510\u001b[0m\n",
      "\u001b[38;5;27mKS91_K562_astarrseq_fragments_wgs\u001b[0m\n",
      "\u001b[38;5;27mKS91_K562_astarrseq_peak_macs\u001b[0m\n",
      "\u001b[38;5;27mMPRA\u001b[0m\n",
      "Readme.md\n",
      "\u001b[38;5;27mRNAseq\u001b[0m\n",
      "\u001b[38;5;27mTF_modules\u001b[0m\n",
      "\u001b[38;5;27mtmp\u001b[0m\n"
     ]
    }
   ],
   "source": [
    "ls ${FD_WORK}/proj_combeffect_encode_fcc/source"
   ]
  },
  {
   "cell_type": "code",
   "execution_count": 7,
   "id": "99d58416-e47e-4749-a15b-57ac50b132fa",
   "metadata": {},
   "outputs": [
    {
     "name": "stdout",
     "output_type": "stream",
     "text": [
      "\u001b[0m\u001b[38;5;27mencode_open_chromatin\u001b[0m\n"
     ]
    }
   ],
   "source": [
    "ls ${FD_DAT}/external"
   ]
  },
  {
   "cell_type": "code",
   "execution_count": 9,
   "id": "85f529bb-fddc-426b-98ea-43b2e18c7089",
   "metadata": {},
   "outputs": [
    {
     "name": "stdout",
     "output_type": "stream",
     "text": [
      "chrUn_KI270379v1\t1045\n",
      "chrUn_KI270329v1\t1040\n",
      "chrUn_KI270419v1\t1029\n",
      "chrUn_KI270336v1\t1026\n",
      "chrUn_KI270312v1\t998\n",
      "chrUn_KI270539v1\t993\n",
      "chrUn_KI270385v1\t990\n",
      "chrUn_KI270423v1\t981\n",
      "chrUn_KI270392v1\t971\n",
      "chrUn_KI270394v1\t970\n"
     ]
    }
   ],
   "source": [
    "tail /data/reddylab/Kuei/work/proj_combeffect_encode_fcc/source/chrom.sizes.hg38"
   ]
  },
  {
   "cell_type": "code",
   "execution_count": 10,
   "id": "571a21dc-3a36-412a-b6b4-8000877d501f",
   "metadata": {},
   "outputs": [],
   "source": [
    "cp ${FD_WORK}/proj_combeffect_encode_fcc/source/chrom.sizes.hg* ${FD_DAT}/external/"
   ]
  },
  {
   "cell_type": "code",
   "execution_count": 11,
   "id": "ed7a7387-f1cf-458a-8acd-ddd2d19f5e0e",
   "metadata": {},
   "outputs": [
    {
     "name": "stdout",
     "output_type": "stream",
     "text": [
      "chrom.sizes.hg19  chrom.sizes.hg38  \u001b[0m\u001b[38;5;27mencode_open_chromatin\u001b[0m\n"
     ]
    }
   ],
   "source": [
    "ls ${FD_DAT}/external"
   ]
  },
  {
   "cell_type": "code",
   "execution_count": null,
   "id": "b4b2288d-f99c-4af0-a539-8225f898d72f",
   "metadata": {},
   "outputs": [],
   "source": []
  }
 ],
 "metadata": {
  "kernelspec": {
   "display_name": "Bash",
   "language": "bash",
   "name": "bash"
  },
  "language_info": {
   "codemirror_mode": "shell",
   "file_extension": ".sh",
   "mimetype": "text/x-sh",
   "name": "bash"
  }
 },
 "nbformat": 4,
 "nbformat_minor": 5
}
