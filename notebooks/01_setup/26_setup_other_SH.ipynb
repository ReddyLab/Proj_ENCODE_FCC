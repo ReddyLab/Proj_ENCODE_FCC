{
 "cells": [
  {
   "cell_type": "raw",
   "id": "b3f1645e-9dce-4880-9316-f536ac7879bb",
   "metadata": {},
   "source": [
    "---\n",
    "title: Setup Scripts 06\n",
    "subtitle: Others\n",
    "format:\n",
    "    html:\n",
    "        code-fold:  true\n",
    "        code-tools: true\n",
    "---"
   ]
  },
  {
   "cell_type": "code",
   "execution_count": 1,
   "id": "f0d9e89f-be67-44fc-8b43-7c268424253c",
   "metadata": {},
   "outputs": [
    {
     "name": "stdout",
     "output_type": "stream",
     "text": [
      "You are working on             Duke Server: HARDAC\n",
      "BASE DIRECTORY (FD_BASE):      /data/reddylab/Kuei\n",
      "REPO DIRECTORY (FD_REPO):      /data/reddylab/Kuei/repo\n",
      "WORK DIRECTORY (FD_WORK):      /data/reddylab/Kuei/work\n",
      "DATA DIRECTORY (FD_DATA):      /data/reddylab/Kuei/data\n",
      "CONTAINER DIR. (FD_SING):      /data/reddylab/Kuei/container\n",
      "\n",
      "You are working with           ENCODE FCC\n",
      "PATH OF PROJECT (FD_PRJ):      /data/reddylab/Kuei/repo/Proj_ENCODE_FCC\n",
      "PROJECT RESULTS (FD_RES):      /data/reddylab/Kuei/repo/Proj_ENCODE_FCC/results\n",
      "PROJECT SCRIPTS (FD_EXE):      /data/reddylab/Kuei/repo/Proj_ENCODE_FCC/scripts\n",
      "PROJECT DATA    (FD_DAT):      /data/reddylab/Kuei/repo/Proj_ENCODE_FCC/data\n",
      "PROJECT NOTE    (FD_NBK):      /data/reddylab/Kuei/repo/Proj_ENCODE_FCC/notebooks\n",
      "PROJECT DOCS    (FD_DOC):      /data/reddylab/Kuei/repo/Proj_ENCODE_FCC/docs\n",
      "PROJECT LOG     (FD_LOG):      /data/reddylab/Kuei/repo/Proj_ENCODE_FCC/log\n",
      "PROJECT APP     (FD_APP):      /data/reddylab/Kuei/repo/Proj_ENCODE_FCC/app\n",
      "PROJECT REF     (FD_REF):      /data/reddylab/Kuei/repo/Proj_ENCODE_FCC/references\n",
      "PROJECT IMAGE   (FP_PRJ_SIF):  /data/reddylab/Kuei/repo/Proj_ENCODE_FCC/app/singularity_proj_encode_fcc.sif\n",
      "\n"
     ]
    }
   ],
   "source": [
    "source ../run_config_project.sh\n",
    "show_env"
   ]
  },
  {
   "cell_type": "code",
   "execution_count": 3,
   "id": "d1cd9eb3-4bbe-48d9-aa43-8fe1d8c7037b",
   "metadata": {},
   "outputs": [
    {
     "name": "stdout",
     "output_type": "stream",
     "text": [
      "chr1\n",
      "chr2\n",
      "chr3\n",
      "chr4\n",
      "chr5\n",
      "chr6\n",
      "chr7\n",
      "chr8\n",
      "chr9\n",
      "chr10\n",
      "chr11\n",
      "chr12\n",
      "chr13\n",
      "chr14\n",
      "chr15\n",
      "chr16\n",
      "chr17\n",
      "chr18\n",
      "chr19\n",
      "chr20\n",
      "chr21\n",
      "chr22\n",
      "chrX\n",
      "chrY\n"
     ]
    }
   ],
   "source": [
    "FP_OUT=${FD_DAT}/external/chrom.list.main\n",
    "echo -e \"chr1\\nchr2\\nchr3\\nchr4\\nchr5\\nchr6\\nchr7\\nchr8\\nchr9\\nchr10\\nchr11\\nchr12\\nchr13\\nchr14\\nchr15\\nchr16\\nchr17\\nchr18\\nchr19\\nchr20\\nchr21\\nchr22\\nchrX\\nchrY\" > ${FP_OUT}\n",
    "cat ${FP_OUT}"
   ]
  },
  {
   "cell_type": "code",
   "execution_count": 4,
   "id": "ab9e518a-6d35-4bc9-bc7d-21f40a9b0fcd",
   "metadata": {},
   "outputs": [
    {
     "name": "stdout",
     "output_type": "stream",
     "text": [
      "chr1\n",
      "chr2\n",
      "chr3\n",
      "chr4\n",
      "chr5\n",
      "chr6\n",
      "chr7\n",
      "chr8\n",
      "chr9\n",
      "chr10\n",
      "chr11\n",
      "chr12\n",
      "chr13\n",
      "chr14\n",
      "chr15\n",
      "chr16\n",
      "chr17\n",
      "chr18\n",
      "chr19\n",
      "chr20\n",
      "chr21\n",
      "chr22\n"
     ]
    }
   ],
   "source": [
    "FP_OUT=${FD_DAT}/external/chrom.list.auto\n",
    "echo -e \"chr1\\nchr2\\nchr3\\nchr4\\nchr5\\nchr6\\nchr7\\nchr8\\nchr9\\nchr10\\nchr11\\nchr12\\nchr13\\nchr14\\nchr15\\nchr16\\nchr17\\nchr18\\nchr19\\nchr20\\nchr21\\nchr22\" > ${FP_OUT}\n",
    "cat ${FP_OUT}"
   ]
  },
  {
   "cell_type": "code",
   "execution_count": 5,
   "id": "4384cdb8-ed23-4c8d-8fa1-17a500c8165a",
   "metadata": {},
   "outputs": [
    {
     "name": "stdout",
     "output_type": "stream",
     "text": [
      "chrX\n",
      "chrY\n"
     ]
    }
   ],
   "source": [
    "FP_OUT=${FD_DAT}/external/chrom.list.sex\n",
    "echo -e \"chrX\\nchrY\" > ${FP_OUT}\n",
    "cat ${FP_OUT}"
   ]
  },
  {
   "cell_type": "code",
   "execution_count": 6,
   "id": "d2dc7cfd-147c-4d86-b8b5-5f8e6fb108f2",
   "metadata": {},
   "outputs": [
    {
     "name": "stdout",
     "output_type": "stream",
     "text": [
      "/data/reddylab/Kuei/repo/Proj_ENCODE_FCC/data/external/chrom.list.auto\n",
      "/data/reddylab/Kuei/repo/Proj_ENCODE_FCC/data/external/chrom.list.main\n",
      "/data/reddylab/Kuei/repo/Proj_ENCODE_FCC/data/external/chrom.list.sex\n",
      "/data/reddylab/Kuei/repo/Proj_ENCODE_FCC/data/external/chrom.sizes.hg19\n",
      "/data/reddylab/Kuei/repo/Proj_ENCODE_FCC/data/external/chrom.sizes.hg38\n"
     ]
    }
   ],
   "source": [
    "ls ${FD_DAT}/external/chrom*"
   ]
  }
 ],
 "metadata": {
  "kernelspec": {
   "display_name": "Bash",
   "language": "bash",
   "name": "bash"
  },
  "language_info": {
   "codemirror_mode": "shell",
   "file_extension": ".sh",
   "mimetype": "text/x-sh",
   "name": "bash"
  }
 },
 "nbformat": 4,
 "nbformat_minor": 5
}
