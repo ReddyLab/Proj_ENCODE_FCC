{
 "cells": [
  {
   "cell_type": "raw",
   "id": "3d685180-4795-44f9-addd-89972388b7b1",
   "metadata": {},
   "source": [
    "---\n",
    "title: Check environment 03\n",
    "subtitle: Check configuration for bash in singularity\n",
    "format:\n",
    "    html:\n",
    "        code-fold:  true\n",
    "        code-tools: true\n",
    "---"
   ]
  },
  {
   "cell_type": "code",
   "execution_count": 1,
   "id": "66f0d372-e42a-4621-a63c-181ebe7fc025",
   "metadata": {},
   "outputs": [
    {
     "name": "stdout",
     "output_type": "stream",
     "text": [
      "You are working on             Singularity: singularity_proj_encode_fcc\n",
      "BASE DIRECTORY (FD_BASE):      /mount\n",
      "REPO DIRECTORY (FD_REPO):      /mount/repo\n",
      "WORK DIRECTORY (FD_WORK):      /mount/work\n",
      "DATA DIRECTORY (FD_DATA):      /mount/data\n",
      "\n",
      "You are working with           ENCODE FCC\n",
      "PATH OF PROJECT (FD_PRJ):      /mount/repo/Proj_CombEffect_ENCODE_FCC\n",
      "PROJECT RESULTS (FD_RES):      /mount/repo/Proj_CombEffect_ENCODE_FCC/results\n",
      "PROJECT SCRIPTS (FD_EXE):      /mount/repo/Proj_CombEffect_ENCODE_FCC/scripts\n",
      "PROJECT DATA    (FD_DAT):      /mount/repo/Proj_CombEffect_ENCODE_FCC/data\n",
      "PROJECT NOTE    (FD_NBK):      /mount/repo/Proj_CombEffect_ENCODE_FCC/notebooks\n",
      "PROJECT DOCS    (FD_DOC):      /mount/repo/Proj_CombEffect_ENCODE_FCC/docs\n",
      "PROJECT LOG     (FD_LOG):      /mount/repo/Proj_CombEffect_ENCODE_FCC/log\n",
      "PROJECT APP     (FD_APP):      /mount/repo/Proj_CombEffect_ENCODE_FCC/app\n",
      "PROJECT REF     (FD_REF):      /mount/repo/Proj_CombEffect_ENCODE_FCC/references\n",
      "\n"
     ]
    }
   ],
   "source": [
    "source ../run_config_project.sh\n",
    "show_env"
   ]
  },
  {
   "cell_type": "code",
   "execution_count": 2,
   "id": "9810dfe0-0d46-477d-92b1-808609a41851",
   "metadata": {},
   "outputs": [
    {
     "name": "stdout",
     "output_type": "stream",
     "text": [
      "Singularity\n"
     ]
    }
   ],
   "source": [
    "TXT=$(fun_get_server)\n",
    "echo ${TXT}"
   ]
  },
  {
   "cell_type": "code",
   "execution_count": 3,
   "id": "2c1902aa-d0e1-4411-acda-d4a9e46f6fe1",
   "metadata": {},
   "outputs": [
    {
     "name": "stdout",
     "output_type": "stream",
     "text": [
      "You are in singularity\n"
     ]
    }
   ],
   "source": [
    "if [[ ${TXT} == \"Singularity\" ]]; then\n",
    "    echo \"You are in singularity\"\n",
    "fi\n",
    "\n",
    "### =====================================\n",
    "\n",
    "if [[ ${TXT} == \"HARDAC\" ]]; then\n",
    "    echo \"You are in HARDAC\"\n",
    "fi"
   ]
  },
  {
   "cell_type": "code",
   "execution_count": null,
   "id": "8f2b3d94-4a95-406e-a638-1eee6508c20a",
   "metadata": {},
   "outputs": [],
   "source": []
  }
 ],
 "metadata": {
  "kernelspec": {
   "display_name": "Bash",
   "language": "bash",
   "name": "bash"
  },
  "language_info": {
   "codemirror_mode": "shell",
   "file_extension": ".sh",
   "mimetype": "text/x-sh",
   "name": "bash"
  }
 },
 "nbformat": 4,
 "nbformat_minor": 5
}
