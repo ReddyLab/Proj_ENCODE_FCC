{
 "cells": [
  {
   "cell_type": "raw",
   "id": "474cbcbe-153f-4c77-a37a-042113bb57bc",
   "metadata": {},
   "source": [
    "---\n",
    "title: Setup Scripts 07\n",
    "subtitle: Others\n",
    "format:\n",
    "    html:\n",
    "        code-fold:  true\n",
    "        code-tools: true\n",
    "---"
   ]
  },
  {
   "cell_type": "markdown",
   "id": "b5436bb1-b229-4617-bc21-7ec4008d3bef",
   "metadata": {},
   "source": [
    "**Set environment**"
   ]
  },
  {
   "cell_type": "code",
   "execution_count": 1,
   "id": "7b69922e-ea0a-4014-bc5d-f27177fe3cc9",
   "metadata": {},
   "outputs": [
    {
     "name": "stdout",
     "output_type": "stream",
     "text": [
      "You are working on        Singularity \n",
      "BASE DIRECTORY (FD_BASE): /mount \n",
      "REPO DIRECTORY (FD_REPO): /mount/repo \n",
      "WORK DIRECTORY (FD_WORK): /mount/work \n",
      "DATA DIRECTORY (FD_DATA): /mount/data \n",
      "\n",
      "You are working with      ENCODE FCC \n",
      "PATH OF PROJECT (FD_PRJ): /mount/repo/Proj_ENCODE_FCC \n",
      "PROJECT RESULTS (FD_RES): /mount/repo/Proj_ENCODE_FCC/results \n",
      "PROJECT SCRIPTS (FD_EXE): /mount/repo/Proj_ENCODE_FCC/scripts \n",
      "PROJECT DATA    (FD_DAT): /mount/repo/Proj_ENCODE_FCC/data \n",
      "PROJECT NOTE    (FD_NBK): /mount/repo/Proj_ENCODE_FCC/notebooks \n",
      "PROJECT DOCS    (FD_DOC): /mount/repo/Proj_ENCODE_FCC/docs \n",
      "PROJECT LOG     (FD_LOG): /mount/repo/Proj_ENCODE_FCC/log \n",
      "PROJECT APP     (FD_APP): /mount/repo/Proj_ENCODE_FCC/app \n",
      "PROJECT REF     (FD_REF): /mount/repo/Proj_ENCODE_FCC/references \n",
      "\n"
     ]
    }
   ],
   "source": [
    "suppressMessages(suppressWarnings(source(\"../run_config_project_sing.R\")))\n",
    "show_env()"
   ]
  },
  {
   "cell_type": "code",
   "execution_count": 2,
   "id": "39188793-6164-43bc-a964-8abb7a5c9123",
   "metadata": {},
   "outputs": [
    {
     "data": {
      "text/html": [
       "<table class=\"dataframe\">\n",
       "<caption>A tibble: 6 × 2</caption>\n",
       "<thead>\n",
       "\t<tr><th scope=col>Chrom</th><th scope=col>Size</th></tr>\n",
       "\t<tr><th scope=col>&lt;chr&gt;</th><th scope=col>&lt;dbl&gt;</th></tr>\n",
       "</thead>\n",
       "<tbody>\n",
       "\t<tr><td>chr1</td><td>248956422</td></tr>\n",
       "\t<tr><td>chr2</td><td>242193529</td></tr>\n",
       "\t<tr><td>chr3</td><td>198295559</td></tr>\n",
       "\t<tr><td>chr4</td><td>190214555</td></tr>\n",
       "\t<tr><td>chr5</td><td>181538259</td></tr>\n",
       "\t<tr><td>chr6</td><td>170805979</td></tr>\n",
       "</tbody>\n",
       "</table>\n"
      ],
      "text/latex": [
       "A tibble: 6 × 2\n",
       "\\begin{tabular}{ll}\n",
       " Chrom & Size\\\\\n",
       " <chr> & <dbl>\\\\\n",
       "\\hline\n",
       "\t chr1 & 248956422\\\\\n",
       "\t chr2 & 242193529\\\\\n",
       "\t chr3 & 198295559\\\\\n",
       "\t chr4 & 190214555\\\\\n",
       "\t chr5 & 181538259\\\\\n",
       "\t chr6 & 170805979\\\\\n",
       "\\end{tabular}\n"
      ],
      "text/markdown": [
       "\n",
       "A tibble: 6 × 2\n",
       "\n",
       "| Chrom &lt;chr&gt; | Size &lt;dbl&gt; |\n",
       "|---|---|\n",
       "| chr1 | 248956422 |\n",
       "| chr2 | 242193529 |\n",
       "| chr3 | 198295559 |\n",
       "| chr4 | 190214555 |\n",
       "| chr5 | 181538259 |\n",
       "| chr6 | 170805979 |\n",
       "\n"
      ],
      "text/plain": [
       "  Chrom Size     \n",
       "1 chr1  248956422\n",
       "2 chr2  242193529\n",
       "3 chr3  198295559\n",
       "4 chr4  190214555\n",
       "5 chr5  181538259\n",
       "6 chr6  170805979"
      ]
     },
     "metadata": {},
     "output_type": "display_data"
    }
   ],
   "source": [
    "txt_fdiry = file.path(FD_DAT, \"external\")\n",
    "txt_fname = \"chrom.sizes.hg38\"\n",
    "txt_fpath = file.path(txt_fdiry, txt_fname)\n",
    "\n",
    "txt = c(\"Chrom\", \"Size\")\n",
    "dat = read_tsv(txt_fpath, col_names = txt, show_col_types = FALSE)\n",
    "\n",
    "dat_gen_hg38 = dat\n",
    "head(dat)"
   ]
  },
  {
   "cell_type": "code",
   "execution_count": 5,
   "id": "e630a8b0-7165-4a2d-ab89-bea19f4ba381",
   "metadata": {},
   "outputs": [
    {
     "name": "stdout",
     "output_type": "stream",
     "text": [
      " [1] \"chr1\"  \"chr2\"  \"chr3\"  \"chr4\"  \"chr5\"  \"chr6\"  \"chr7\"  \"chr8\"  \"chr9\" \n",
      "[10] \"chr10\" \"chr11\" \"chr12\" \"chr13\" \"chr14\" \"chr15\" \"chr16\" \"chr17\" \"chr18\"\n",
      "[19] \"chr19\" \"chr20\" \"chr21\" \"chr22\" \"chrX\" \n"
     ]
    }
   ],
   "source": [
    "vec = c(1:22, \"X\")\n",
    "vec = paste0(\"chr\", vec)\n",
    "vec_txt_chrom_main = vec\n",
    "print(vec)"
   ]
  },
  {
   "cell_type": "code",
   "execution_count": 9,
   "id": "1e66eb34-4552-4bc4-9443-e3b1b064868c",
   "metadata": {},
   "outputs": [
    {
     "name": "stdout",
     "output_type": "stream",
     "text": [
      "\u001b[90m# A tibble: 6 × 3\u001b[39m\n",
      "  Chrom                ChromStart  ChromEnd\n",
      "  \u001b[3m\u001b[90m<chr>\u001b[39m\u001b[23m                     \u001b[3m\u001b[90m<dbl>\u001b[39m\u001b[23m     \u001b[3m\u001b[90m<dbl>\u001b[39m\u001b[23m\n",
      "\u001b[90m1\u001b[39m chr1                          0 248\u001b[4m9\u001b[24m\u001b[4m5\u001b[24m\u001b[4m6\u001b[24m422\n",
      "\u001b[90m2\u001b[39m chr10                         0 133\u001b[4m7\u001b[24m\u001b[4m9\u001b[24m\u001b[4m7\u001b[24m422\n",
      "\u001b[90m3\u001b[39m chr10_GL383545v1_alt          0    \u001b[4m1\u001b[24m\u001b[4m7\u001b[24m\u001b[4m9\u001b[24m254\n",
      "\u001b[90m4\u001b[39m chr10_GL383546v1_alt          0    \u001b[4m3\u001b[24m\u001b[4m0\u001b[24m\u001b[4m9\u001b[24m802\n",
      "\u001b[90m5\u001b[39m chr10_KI270824v1_alt          0    \u001b[4m1\u001b[24m\u001b[4m8\u001b[24m\u001b[4m1\u001b[24m496\n",
      "\u001b[90m6\u001b[39m chr10_KI270825v1_alt          0    \u001b[4m1\u001b[24m\u001b[4m8\u001b[24m\u001b[4m8\u001b[24m315\n",
      "\u001b[90m# A tibble: 6 × 3\u001b[39m\n",
      "  Chrom                  ChromStart  ChromEnd\n",
      "  \u001b[3m\u001b[90m<chr>\u001b[39m\u001b[23m                       \u001b[3m\u001b[90m<dbl>\u001b[39m\u001b[23m     \u001b[3m\u001b[90m<dbl>\u001b[39m\u001b[23m\n",
      "\u001b[90m1\u001b[39m chrX                            0 156\u001b[4m0\u001b[24m\u001b[4m4\u001b[24m\u001b[4m0\u001b[24m895\n",
      "\u001b[90m2\u001b[39m chrX_KI270880v1_alt             0    \u001b[4m2\u001b[24m\u001b[4m8\u001b[24m\u001b[4m4\u001b[24m869\n",
      "\u001b[90m3\u001b[39m chrX_KI270881v1_alt             0    \u001b[4m1\u001b[24m\u001b[4m4\u001b[24m\u001b[4m4\u001b[24m206\n",
      "\u001b[90m4\u001b[39m chrX_KI270913v1_alt             0    \u001b[4m2\u001b[24m\u001b[4m7\u001b[24m\u001b[4m4\u001b[24m009\n",
      "\u001b[90m5\u001b[39m chrY                            0  57\u001b[4m2\u001b[24m\u001b[4m2\u001b[24m\u001b[4m7\u001b[24m415\n",
      "\u001b[90m6\u001b[39m chrY_KI270740v1_random          0     \u001b[4m3\u001b[24m\u001b[4m7\u001b[24m240\n"
     ]
    }
   ],
   "source": [
    "### init\n",
    "dat = dat_gen_hg38\n",
    "\n",
    "### arrange\n",
    "dat = dat %>% \n",
    "    dplyr::mutate(ChromStart = 0, ChromEnd = Size) %>%\n",
    "    dplyr::select(Chrom, ChromStart, ChromEnd) %>%\n",
    "    dplyr::arrange(Chrom, ChromStart, ChromEnd)\n",
    "\n",
    "### assign and show\n",
    "dat_bed_hg38_total = dat\n",
    "print(head(dat))\n",
    "print(tail(dat))"
   ]
  },
  {
   "cell_type": "code",
   "execution_count": 10,
   "id": "837c5ad6-16cb-431a-bb82-a7de1db1913e",
   "metadata": {},
   "outputs": [
    {
     "name": "stdout",
     "output_type": "stream",
     "text": [
      "\u001b[90m# A tibble: 6 × 3\u001b[39m\n",
      "  Chrom ChromStart  ChromEnd\n",
      "  \u001b[3m\u001b[90m<chr>\u001b[39m\u001b[23m      \u001b[3m\u001b[90m<dbl>\u001b[39m\u001b[23m     \u001b[3m\u001b[90m<dbl>\u001b[39m\u001b[23m\n",
      "\u001b[90m1\u001b[39m chr1           0 248\u001b[4m9\u001b[24m\u001b[4m5\u001b[24m\u001b[4m6\u001b[24m422\n",
      "\u001b[90m2\u001b[39m chr10          0 133\u001b[4m7\u001b[24m\u001b[4m9\u001b[24m\u001b[4m7\u001b[24m422\n",
      "\u001b[90m3\u001b[39m chr11          0 135\u001b[4m0\u001b[24m\u001b[4m8\u001b[24m\u001b[4m6\u001b[24m622\n",
      "\u001b[90m4\u001b[39m chr12          0 133\u001b[4m2\u001b[24m\u001b[4m7\u001b[24m\u001b[4m5\u001b[24m309\n",
      "\u001b[90m5\u001b[39m chr13          0 114\u001b[4m3\u001b[24m\u001b[4m6\u001b[24m\u001b[4m4\u001b[24m328\n",
      "\u001b[90m6\u001b[39m chr14          0 107\u001b[4m0\u001b[24m\u001b[4m4\u001b[24m\u001b[4m3\u001b[24m718\n",
      "\u001b[90m# A tibble: 6 × 3\u001b[39m\n",
      "  Chrom ChromStart  ChromEnd\n",
      "  \u001b[3m\u001b[90m<chr>\u001b[39m\u001b[23m      \u001b[3m\u001b[90m<dbl>\u001b[39m\u001b[23m     \u001b[3m\u001b[90m<dbl>\u001b[39m\u001b[23m\n",
      "\u001b[90m1\u001b[39m chr5           0 181\u001b[4m5\u001b[24m\u001b[4m3\u001b[24m\u001b[4m8\u001b[24m259\n",
      "\u001b[90m2\u001b[39m chr6           0 170\u001b[4m8\u001b[24m\u001b[4m0\u001b[24m\u001b[4m5\u001b[24m979\n",
      "\u001b[90m3\u001b[39m chr7           0 159\u001b[4m3\u001b[24m\u001b[4m4\u001b[24m\u001b[4m5\u001b[24m973\n",
      "\u001b[90m4\u001b[39m chr8           0 145\u001b[4m1\u001b[24m\u001b[4m3\u001b[24m\u001b[4m8\u001b[24m636\n",
      "\u001b[90m5\u001b[39m chr9           0 138\u001b[4m3\u001b[24m\u001b[4m9\u001b[24m\u001b[4m4\u001b[24m717\n",
      "\u001b[90m6\u001b[39m chrX           0 156\u001b[4m0\u001b[24m\u001b[4m4\u001b[24m\u001b[4m0\u001b[24m895\n"
     ]
    }
   ],
   "source": [
    "### init\n",
    "vec = vec_txt_chrom_main\n",
    "dat = dat_bed_hg38_total\n",
    "\n",
    "### arrange\n",
    "dat = dat %>% dplyr::filter(Chrom %in% vec)\n",
    "\n",
    "### assign and show\n",
    "dat_bed_hg38_main = dat\n",
    "print(head(dat))\n",
    "print(tail(dat))"
   ]
  },
  {
   "cell_type": "code",
   "execution_count": 11,
   "id": "ccb7f05f-3c1c-42d9-9e31-0879178936e0",
   "metadata": {},
   "outputs": [],
   "source": [
    "txt_fdiry = file.path(FD_DAT, \"external\")\n",
    "txt_fname = \"chrom.hg38.total.bed\"\n",
    "txt_fpath = file.path(txt_fdiry, txt_fname)\n",
    "\n",
    "dat = dat_bed_hg38_total\n",
    "write_tsv(dat, txt_fpath, col_names = FALSE)"
   ]
  },
  {
   "cell_type": "code",
   "execution_count": 12,
   "id": "e82eca27-7c0a-46dc-8a7c-0b88c17fab80",
   "metadata": {},
   "outputs": [],
   "source": [
    "txt_fdiry = file.path(FD_DAT, \"external\")\n",
    "txt_fname = \"chrom.hg38.main.bed\"\n",
    "txt_fpath = file.path(txt_fdiry, txt_fname)\n",
    "\n",
    "dat = dat_bed_hg38_main\n",
    "write_tsv(dat, txt_fpath, col_names = FALSE)"
   ]
  },
  {
   "cell_type": "code",
   "execution_count": null,
   "id": "3a5e66a3-a961-4a4c-8a13-6dd45e301595",
   "metadata": {},
   "outputs": [],
   "source": []
  }
 ],
 "metadata": {
  "kernelspec": {
   "display_name": "R",
   "language": "R",
   "name": "ir"
  },
  "language_info": {
   "codemirror_mode": "r",
   "file_extension": ".r",
   "mimetype": "text/x-r-source",
   "name": "R",
   "pygments_lexer": "r",
   "version": "4.4.0"
  }
 },
 "nbformat": 4,
 "nbformat_minor": 5
}
