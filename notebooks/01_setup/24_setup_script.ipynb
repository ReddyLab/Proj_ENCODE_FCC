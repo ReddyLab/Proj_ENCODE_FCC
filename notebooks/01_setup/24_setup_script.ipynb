{
 "cells": [
  {
   "cell_type": "raw",
   "id": "497a853a-c621-499c-a131-e799785cf474",
   "metadata": {},
   "source": [
    "---\n",
    "title: Setup Scripts 04\n",
    "subtitle: Commands based on Bedtools\n",
    "format:\n",
    "    html:\n",
    "        code-fold:  true\n",
    "        code-tools: true\n",
    "---"
   ]
  },
  {
   "cell_type": "markdown",
   "id": "e85ffe05-a988-4f36-b378-d0c950c15373",
   "metadata": {},
   "source": [
    "**Set environment**"
   ]
  },
  {
   "cell_type": "code",
   "execution_count": 1,
   "id": "ea7466a6-a5f6-4989-ab94-c9ac96e6daff",
   "metadata": {},
   "outputs": [
    {
     "name": "stdout",
     "output_type": "stream",
     "text": [
      "You are working on             Singularity: singularity_proj_encode_fcc\n",
      "BASE DIRECTORY (FD_BASE):      /mount\n",
      "REPO DIRECTORY (FD_REPO):      /mount/repo\n",
      "WORK DIRECTORY (FD_WORK):      /mount/work\n",
      "DATA DIRECTORY (FD_DATA):      /mount/data\n",
      "\n",
      "You are working with           ENCODE FCC\n",
      "PATH OF PROJECT (FD_PRJ):      /mount/repo/Proj_CombEffect_ENCODE_FCC\n",
      "PROJECT RESULTS (FD_RES):      /mount/repo/Proj_CombEffect_ENCODE_FCC/results\n",
      "PROJECT SCRIPTS (FD_EXE):      /mount/repo/Proj_CombEffect_ENCODE_FCC/scripts\n",
      "PROJECT DATA    (FD_DAT):      /mount/repo/Proj_CombEffect_ENCODE_FCC/data\n",
      "PROJECT NOTE    (FD_NBK):      /mount/repo/Proj_CombEffect_ENCODE_FCC/notebooks\n",
      "PROJECT DOCS    (FD_DOC):      /mount/repo/Proj_CombEffect_ENCODE_FCC/docs\n",
      "PROJECT LOG     (FD_LOG):      /mount/repo/Proj_CombEffect_ENCODE_FCC/log\n",
      "PROJECT APP     (FD_APP):      /mount/repo/Proj_CombEffect_ENCODE_FCC/app\n",
      "PROJECT REF     (FD_REF):      /mount/repo/Proj_CombEffect_ENCODE_FCC/references\n",
      "\n"
     ]
    }
   ],
   "source": [
    "source ../run_config_project.sh\n",
    "show_env"
   ]
  },
  {
   "cell_type": "markdown",
   "id": "26a5fe45-a7e9-4e10-ac67-4f9b11961b5c",
   "metadata": {},
   "source": [
    "**Script folder**"
   ]
  },
  {
   "cell_type": "code",
   "execution_count": 2,
   "id": "2fda0fef-ef4e-4b16-8152-1f2f108220df",
   "metadata": {},
   "outputs": [
    {
     "name": "stdout",
     "output_type": "stream",
     "text": [
      "/mount/repo/Proj_CombEffect_ENCODE_FCC/scripts\n"
     ]
    }
   ],
   "source": [
    "echo ${FD_EXE}"
   ]
  },
  {
   "cell_type": "markdown",
   "id": "f8a681a3-ef77-4a3e-87ca-d0eef28e4fb9",
   "metadata": {},
   "source": [
    "## set script"
   ]
  },
  {
   "cell_type": "code",
   "execution_count": 3,
   "id": "ba018f80-df17-4814-8974-e11cc6aef7d5",
   "metadata": {},
   "outputs": [
    {
     "name": "stdout",
     "output_type": "stream",
     "text": [
      "bash: /mount/repo/Proj_CombEffect_ENCODE_FCC/scripts/run_calulate_lib_size.sh: No such file or directory\n",
      "chmod: cannot access '/mount/repo/Proj_CombEffect_ENCODE_FCC/scripts': No such file or directory\n"
     ]
    },
    {
     "ename": "",
     "evalue": "1",
     "output_type": "error",
     "traceback": []
    }
   ],
   "source": [
    "cat > ${FD_EXE}/run_calulate_lib_size.sh << 'EOF'\n",
    "#!/bin/bash\n",
    "\n",
    "### print start message\n",
    "timer_start=`date +%s`\n",
    "echo \"Hostname:          \" $(hostname)\n",
    "echo \"Slurm Array Index: \" ${SLURM_ARRAY_TASK_ID}\n",
    "echo \"Time Stamp:        \" $(date +\"%m-%d-%y+%T\")\n",
    "echo\n",
    "\n",
    "### setup env:\n",
    "###     get project root path\n",
    "###     load helper functions\n",
    "FD_PRJ=$1\n",
    "FD_EXE=${FD_PRJ}/scripts\n",
    "source ${FD_EXE}/config_func.sh\n",
    "\n",
    "### set input and output files\n",
    "FP_INP=$2\n",
    "FP_OUT=$3\n",
    "\n",
    "### execute\n",
    "###     count the total counts and append the results to the output file\n",
    "FN_INP=$(basename ${FP_INP})\n",
    "zcat ${FP_INP} \\\n",
    "|   awk -v OFS=, -v FNAME=${FN_INP} '{sum += $5} END {print FNAME, NR, sum}' \\\n",
    ">>  ${FP_OUT}\n",
    "\n",
    "### show I/O file\n",
    "echo \"Output file: ${FP_OUT}\"\n",
    "echo\n",
    "echo \"show lines of file\"\n",
    "fun_cat ${FP_OUT}\n",
    "echo\n",
    "\n",
    "### print end message\n",
    "timer=`date +%s`\n",
    "runtime=$(echo \"${timer} - ${timer_start}\" | bc -l)\n",
    "echo\n",
    "echo 'Done!'\n",
    "echo \"Run Time: $(displaytime ${runtime})\"\n",
    "EOF\n",
    "\n",
    "chmod +x ${FD_EXE}"
   ]
  },
  {
   "cell_type": "code",
   "execution_count": null,
   "id": "5722acaa-2d27-4cd0-ad00-389a2b2b52c0",
   "metadata": {},
   "outputs": [],
   "source": []
  }
 ],
 "metadata": {
  "kernelspec": {
   "display_name": "Bash",
   "language": "bash",
   "name": "bash"
  },
  "language_info": {
   "codemirror_mode": "shell",
   "file_extension": ".sh",
   "mimetype": "text/x-sh",
   "name": "bash"
  }
 },
 "nbformat": 4,
 "nbformat_minor": 5
}
