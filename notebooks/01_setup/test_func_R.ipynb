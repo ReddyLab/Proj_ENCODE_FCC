{
 "cells": [
  {
   "cell_type": "code",
   "execution_count": null,
   "id": "5cde951d-f6e6-42da-97a5-f3dd5a80c6a7",
   "metadata": {},
   "outputs": [],
   "source": []
  },
  {
   "cell_type": "code",
   "execution_count": 1,
   "id": "8af1ce6b-db76-46a1-95ca-c6f0e952c225",
   "metadata": {},
   "outputs": [
    {
     "name": "stdout",
     "output_type": "stream",
     "text": [
      "[1] 1\n"
     ]
    }
   ],
   "source": [
    "print(1)"
   ]
  },
  {
   "cell_type": "code",
   "execution_count": 18,
   "id": "b68cfcd1-8197-4e39-859e-5466903eb265",
   "metadata": {},
   "outputs": [],
   "source": [
    "### helper function to detect and map string\n",
    "### Reference:\n",
    "###     [A general vectorised if-else](https://dplyr.tidyverse.org/reference/case_when.html)\n",
    "###     [Display text with Quotes](https://stackoverflow.com/questions/15204442/how-to-display-text-with-quotes-in-r)\n",
    "###     [Recoding using str_detect](https://forum.posit.co/t/recoding-using-str-detect/5141)\n",
    "###     [Build two sided formulas](https://stackoverflow.com/questions/78042986/how-to-build-a-sequence-of-two-sided-formulas-from-vectors)\n",
    "fun_str_map_detect = function(\n",
    "    vec_txt_input,\n",
    "    vec_txt_pattern,\n",
    "    vec_txt_replace,\n",
    "    ...\n",
    "){\n",
    "    ### define inner function to generate formula with str_detect\n",
    "    fun_match = function(x, y){\n",
    "        txt = paste0(\n",
    "            \"stringr::str_detect(vec_txt_input,\", \n",
    "            \"'\", x, \"'\", \n",
    "            \")~\", \n",
    "            \"'\", y, \"'\"\n",
    "        )\n",
    "        return(as.formula(txt))\n",
    "    }\n",
    "\n",
    "    ### create a seqeunce of str_detect formulae\n",
    "    lst_match = purrr::map2(vec_txt_pattern, vec_txt_replace, fun_match)\n",
    "\n",
    "    ### map strings with str_detect\n",
    "    vec_txt_output = dplyr::case_when(!!!lst_match, ...)\n",
    "    return(vec_txt_output)\n",
    "}\n",
    "\n",
    "### helper function to match and map string\n",
    "### Reference:\n",
    "###     [A general vectorised switch](https://dplyr.tidyverse.org/reference/case_match.html)\n",
    "###     [Display text with Quotes](https://stackoverflow.com/questions/15204442/how-to-display-text-with-quotes-in-r)\n",
    "###     [Recoding using str_detect](https://forum.posit.co/t/recoding-using-str-detect/5141)\n",
    "###     [Build two sided formulas](https://stackoverflow.com/questions/78042986/how-to-build-a-sequence-of-two-sided-formulas-from-vectors)\n",
    "fun_str_map_match = function(\n",
    "    vec_txt_input,\n",
    "    vec_txt_pattern,\n",
    "    vec_txt_replace,\n",
    "    ...\n",
    "){\n",
    "    ### create a seqeunce of str_detect formulae\n",
    "    lst_match = purrr::map2(vec_txt_pattern, vec_txt_replace, rlang::new_formula)\n",
    "    \n",
    "    ### map strings with str_detect\n",
    "    vec_txt_output = dplyr::case_match(vec_txt_input, !!!lst_match, ...)\n",
    "    return(vec_txt_output)\n",
    "}"
   ]
  },
  {
   "cell_type": "code",
   "execution_count": 19,
   "id": "91e4e6a1-9062-4a55-9b91-85f920dbeb5e",
   "metadata": {},
   "outputs": [],
   "source": []
  },
  {
   "cell_type": "code",
   "execution_count": 20,
   "id": "aa8a9520-98e1-4265-9b8f-c0fb1422b698",
   "metadata": {},
   "outputs": [
    {
     "name": "stdout",
     "output_type": "stream",
     "text": [
      "[1] \"bed.gz\" \"bigWig\" \"bed.gz\"\n",
      "[1] \"bed.gz\" \"bigWig\" \"bedpe\" \n"
     ]
    }
   ],
   "source": [
    "vec1 = c(\"bed\")\n",
    "vec2 = c(\"bed.gz\")\n",
    "\n",
    "txt = c(\"bed\", \"bigWig\", \"bedpe\")\n",
    "res = fun_str_map_detect(txt, vec1, vec2, .default=txt)\n",
    "print(res)\n",
    "\n",
    "txt = c(\"bed\", \"bigWig\", \"bedpe\")\n",
    "res = fun_str_map_match(txt, vec1, vec2, .default=txt)\n",
    "print(res)"
   ]
  },
  {
   "cell_type": "code",
   "execution_count": null,
   "id": "d96cad9b-6502-4e82-b0ec-8bbbfd333ac3",
   "metadata": {},
   "outputs": [],
   "source": [
    "num = 1810000000\n",
    "\n",
    "txt = as.character(num)\n",
    "print(txt)\n",
    "\n",
    "txt = format(num, scientific = FALSE)\n",
    "print(txt)"
   ]
  },
  {
   "cell_type": "code",
   "execution_count": null,
   "id": "cf4453dd-b984-495d-a7e8-500012cbd65e",
   "metadata": {},
   "outputs": [],
   "source": []
  },
  {
   "cell_type": "code",
   "execution_count": null,
   "id": "304f5893-ef00-4070-a2f6-e3522b962527",
   "metadata": {},
   "outputs": [],
   "source": []
  },
  {
   "cell_type": "code",
   "execution_count": 41,
   "id": "216c2bef-42fc-4eb4-816a-a8e863521b26",
   "metadata": {},
   "outputs": [
    {
     "data": {
      "text/html": [
       "<pre class=language-r><code>function (lhs, rhs, env = caller_env()) \n",
       "{\n",
       "<span style=white-space:pre-wrap>    .Call(ffi_new_formula, lhs, rhs, env)</span>\n",
       "}</code></pre>"
      ],
      "text/latex": [
       "\\begin{minted}{r}\n",
       "function (lhs, rhs, env = caller\\_env()) \n",
       "\\{\n",
       "    .Call(ffi\\_new\\_formula, lhs, rhs, env)\n",
       "\\}\n",
       "\\end{minted}"
      ],
      "text/markdown": [
       "```r\n",
       "function (lhs, rhs, env = caller_env()) \n",
       "{\n",
       "    .Call(ffi_new_formula, lhs, rhs, env)\n",
       "}\n",
       "```"
      ],
      "text/plain": [
       "function (lhs, rhs, env = caller_env()) \n",
       "{\n",
       "    .Call(ffi_new_formula, lhs, rhs, env)\n",
       "}\n",
       "<bytecode: 0x559cd1aa1e68>\n",
       "<environment: namespace:rlang>"
      ]
     },
     "metadata": {},
     "output_type": "display_data"
    }
   ],
   "source": [
    "rlang::new_formula"
   ]
  },
  {
   "cell_type": "code",
   "execution_count": 42,
   "id": "96b23185-ea52-449f-b029-a6b1b77f11d8",
   "metadata": {},
   "outputs": [
    {
     "data": {
      "text/html": [
       "<pre class=language-r><code>function (.x, .y, .f, ..., .progress = FALSE) \n",
       "{\n",
       "<span style=white-space:pre-wrap>    map2_(\"list\", .x, .y, .f, ..., .progress = .progress)</span>\n",
       "}</code></pre>"
      ],
      "text/latex": [
       "\\begin{minted}{r}\n",
       "function (.x, .y, .f, ..., .progress = FALSE) \n",
       "\\{\n",
       "    map2\\_(\"list\", .x, .y, .f, ..., .progress = .progress)\n",
       "\\}\n",
       "\\end{minted}"
      ],
      "text/markdown": [
       "```r\n",
       "function (.x, .y, .f, ..., .progress = FALSE) \n",
       "{\n",
       "    map2_(\"list\", .x, .y, .f, ..., .progress = .progress)\n",
       "}\n",
       "```"
      ],
      "text/plain": [
       "function (.x, .y, .f, ..., .progress = FALSE) \n",
       "{\n",
       "    map2_(\"list\", .x, .y, .f, ..., .progress = .progress)\n",
       "}\n",
       "<bytecode: 0x559ccc32d550>\n",
       "<environment: namespace:purrr>"
      ]
     },
     "metadata": {},
     "output_type": "display_data"
    }
   ],
   "source": [
    "purrr::map2"
   ]
  },
  {
   "cell_type": "code",
   "execution_count": null,
   "id": "98843f28-6cc9-4da5-aba6-68a722bc5e27",
   "metadata": {},
   "outputs": [],
   "source": [
    "fun = function(x, y){str_detect(x, y)}\n",
    "\n",
    "formulae_match <- map2(lookup$lower, lookup$upper, fun)"
   ]
  },
  {
   "cell_type": "markdown",
   "id": "2b3d389e-29b4-4a11-8f6e-9d05438c585c",
   "metadata": {},
   "source": [
    "https://stackoverflow.com/questions/78042986/how-to-build-a-sequence-of-two-sided-formulas-from-vectors"
   ]
  },
  {
   "cell_type": "code",
   "execution_count": 55,
   "id": "330e8c14-ca8c-441e-aa66-1318fa2de8f7",
   "metadata": {},
   "outputs": [
    {
     "data": {
      "text/html": [
       "<style>\n",
       ".list-inline {list-style: none; margin:0; padding: 0}\n",
       ".list-inline>li {display: inline-block}\n",
       ".list-inline>li:not(:last-child)::after {content: \"\\00b7\"; padding: 0 .5ex}\n",
       "</style>\n",
       "<ol class=list-inline><li>'U'</li><li>'D'</li><li>'E'</li><li>'C'</li><li>'B'</li><li>'C'</li><li>'O'</li><li>'M'</li><li>'Y'</li><li>'X'</li></ol>\n"
      ],
      "text/latex": [
       "\\begin{enumerate*}\n",
       "\\item 'U'\n",
       "\\item 'D'\n",
       "\\item 'E'\n",
       "\\item 'C'\n",
       "\\item 'B'\n",
       "\\item 'C'\n",
       "\\item 'O'\n",
       "\\item 'M'\n",
       "\\item 'Y'\n",
       "\\item 'X'\n",
       "\\end{enumerate*}\n"
      ],
      "text/markdown": [
       "1. 'U'\n",
       "2. 'D'\n",
       "3. 'E'\n",
       "4. 'C'\n",
       "5. 'B'\n",
       "6. 'C'\n",
       "7. 'O'\n",
       "8. 'M'\n",
       "9. 'Y'\n",
       "10. 'X'\n",
       "\n",
       "\n"
      ],
      "text/plain": [
       " [1] \"U\" \"D\" \"E\" \"C\" \"B\" \"C\" \"O\" \"M\" \"Y\" \"X\""
      ]
     },
     "metadata": {},
     "output_type": "display_data"
    }
   ],
   "source": [
    "data.frame(data = sample(c(letters,LETTERS),10)) -> mydf\n",
    "data.frame(lower = letters, upper = LETTERS) -> lookup\n",
    "formulae_match <- map2(lookup$lower, lookup$upper, rlang::new_formula)\n",
    "case_match(mydf$data,\n",
    "  !!!formulae_match,\n",
    "  .default = mydf$data\n",
    ")"
   ]
  },
  {
   "cell_type": "code",
   "execution_count": 58,
   "id": "8d170bae-a096-449e-9283-391ba392baf5",
   "metadata": {},
   "outputs": [
    {
     "name": "stdout",
     "output_type": "stream",
     "text": [
      " [1] \"u\" \"H\" \"b\" \"W\" \"L\" \"T\" \"s\" \"x\" \"P\" \"D\"\n",
      "\n",
      " [1] \"U\" \"H\" \"B\" \"W\" \"L\" \"T\" \"S\" \"X\" \"P\" \"D\"\n"
     ]
    }
   ],
   "source": [
    "### test function\n",
    "vec_txt_pattern = letters\n",
    "vec_txt_replace = LETTERS\n",
    "vec_txt_input   = sample(c(letters,LETTERS),10)\n",
    "\n",
    "###\n",
    "fun_match = function(x, y){str_detect(`x`, `y`)~`y`}\n",
    "lst_match = map2(vec_txt_pattern, vec_txt_replace, rlang::new_formula)\n",
    "\n",
    "vec_txt_output = case_match(\n",
    "    vec_txt_input,\n",
    "    !!!lst_match,\n",
    "    .default = vec_txt_input\n",
    ")\n",
    "print(vec_txt_input)\n",
    "cat(\"\\n\")\n",
    "print(vec_txt_output)"
   ]
  },
  {
   "cell_type": "code",
   "execution_count": 59,
   "id": "2925ac07-97e8-4aa6-8d92-15abb2f5dbee",
   "metadata": {},
   "outputs": [
    {
     "data": {
      "text/plain": [
       "[[1]]\n",
       "\"a\" ~ \"A\"\n",
       "<environment: 0x559cc901ff20>\n",
       "\n",
       "[[2]]\n",
       "\"b\" ~ \"B\"\n",
       "<environment: 0x559cc901ff20>\n",
       "\n",
       "[[3]]\n",
       "\"c\" ~ \"C\"\n",
       "<environment: 0x559cc901ff20>\n",
       "\n",
       "[[4]]\n",
       "\"d\" ~ \"D\"\n",
       "<environment: 0x559cc901ff20>\n",
       "\n",
       "[[5]]\n",
       "\"e\" ~ \"E\"\n",
       "<environment: 0x559cc901ff20>\n"
      ]
     },
     "metadata": {},
     "output_type": "display_data"
    }
   ],
   "source": [
    "lst_match[1:5]"
   ]
  },
  {
   "cell_type": "code",
   "execution_count": 91,
   "id": "c340e783-f4bb-472f-8646-da014c9607ab",
   "metadata": {},
   "outputs": [
    {
     "data": {
      "text/html": [
       "<style>\n",
       ".list-inline {list-style: none; margin:0; padding: 0}\n",
       ".list-inline>li {display: inline-block}\n",
       ".list-inline>li:not(:last-child)::after {content: \"\\00b7\"; padding: 0 .5ex}\n",
       "</style>\n",
       "<ol class=list-inline><li>'CASA'</li><li>'Yes'</li><li>'CAPRIN1_perturb_signal_R2'</li></ol>\n"
      ],
      "text/latex": [
       "\\begin{enumerate*}\n",
       "\\item 'CASA'\n",
       "\\item 'Yes'\n",
       "\\item 'CAPRIN1\\_perturb\\_signal\\_R2'\n",
       "\\end{enumerate*}\n"
      ],
      "text/markdown": [
       "1. 'CASA'\n",
       "2. 'Yes'\n",
       "3. 'CAPRIN1_perturb_signal_R2'\n",
       "\n",
       "\n"
      ],
      "text/plain": [
       "[1] \"CASA\"                      \"Yes\"                      \n",
       "[3] \"CAPRIN1_perturb_signal_R2\""
      ]
     },
     "metadata": {},
     "output_type": "display_data"
    }
   ],
   "source": [
    "### test function\n",
    "vec_txt_pattern = c(\"peak\", \"signal_R1\", \"signal_R2\")\n",
    "vec_txt_replace = c(\"CASA\", \"signal_R1\", \"signal_R2\")\n",
    "vec_txt_input   = c(\"CAPRIN1_peakwise_file\", \"CAPRIN1_perturb_signal_R1\", \"CAPRIN1_perturb_signal_R2\")\n",
    "\n",
    "###\n",
    "lst_match = list(\n",
    "    str_detect(vec_txt_input, 'peak') ~ 'CASA',\n",
    "    str_detect(vec_txt_input, 'R1')   ~ 'Yes'\n",
    ")\n",
    "\n",
    "case_when(\n",
    "    !!!lst_match,\n",
    "    .default = vec_txt_input\n",
    ")"
   ]
  },
  {
   "cell_type": "code",
   "execution_count": 84,
   "id": "e73e5d4c-6023-475b-b2e7-d3595455914c",
   "metadata": {},
   "outputs": [
    {
     "data": {
      "text/plain": [
       "[[1]]\n",
       "str_detect(vec_txt_input, \"peak\") ~ \"CASA\"\n",
       "\n",
       "[[2]]\n",
       "str_detect(vec_txt_input, \"R1\") ~ \"Yes\"\n"
      ]
     },
     "metadata": {},
     "output_type": "display_data"
    }
   ],
   "source": [
    "lst_match"
   ]
  },
  {
   "cell_type": "code",
   "execution_count": 92,
   "id": "3353ff85-50f6-4258-bd1e-012510a7c1b6",
   "metadata": {},
   "outputs": [
    {
     "data": {
      "text/plain": [
       "str_detect(vec_txt_input, \"peak\") ~ \"CASA\""
      ]
     },
     "metadata": {},
     "output_type": "display_data"
    }
   ],
   "source": [
    "str_detect(vec_txt_input, 'peak') ~ 'CASA'"
   ]
  },
  {
   "cell_type": "code",
   "execution_count": 93,
   "id": "fcf673d2-02e6-4f6d-ba0f-901acd657eb2",
   "metadata": {},
   "outputs": [
    {
     "data": {
      "text/plain": [
       "str_detect(vec_txt_input, \"peak\") ~ \"CASA\""
      ]
     },
     "metadata": {},
     "output_type": "display_data"
    }
   ],
   "source": [
    "txt = \"str_detect(vec_txt_input, 'peak') ~ 'CASA'\"\n",
    "as.formula(txt)"
   ]
  },
  {
   "cell_type": "code",
   "execution_count": 94,
   "id": "4d58d2d9-0f61-4290-88ff-1bc187243308",
   "metadata": {},
   "outputs": [
    {
     "data": {
      "text/html": [
       "'str_detect(vec_txt_input, \\'peak\\') ~ \\'CASA\\''"
      ],
      "text/latex": [
       "'str\\_detect(vec\\_txt\\_input, \\textbackslash{}'peak\\textbackslash{}') \\textasciitilde{} \\textbackslash{}'CASA\\textbackslash{}''"
      ],
      "text/markdown": [
       "'str_detect(vec_txt_input, \\'peak\\') ~ \\'CASA\\''"
      ],
      "text/plain": [
       "[1] \"str_detect(vec_txt_input, 'peak') ~ 'CASA'\""
      ]
     },
     "metadata": {},
     "output_type": "display_data"
    }
   ],
   "source": [
    "txt"
   ]
  },
  {
   "cell_type": "code",
   "execution_count": 98,
   "id": "47850e5b-e6c2-41ed-9bf9-017e4571b205",
   "metadata": {},
   "outputs": [
    {
     "data": {
      "text/plain": [
       "[[1]]\n",
       "str_detect(string, \"peak\") ~ \"CASA\"\n",
       "<environment: 0x559ccf4083b8>\n",
       "\n",
       "[[2]]\n",
       "str_detect(string, \"signal_R1\") ~ \"signal_R1\"\n",
       "<environment: 0x559ccf40a1f8>\n",
       "\n",
       "[[3]]\n",
       "str_detect(string, \"signal_R2\") ~ \"signal_R2\"\n",
       "<environment: 0x559ccfb86ad8>\n"
      ]
     },
     "metadata": {},
     "output_type": "display_data"
    }
   ],
   "source": [
    "fun_match = function(x, y){\n",
    "    txt = paste0(\n",
    "        \"str_detect(string,\", \n",
    "        \"'\", x, \"'\", \n",
    "        \")~\", \n",
    "        \"'\", y, \"'\"\n",
    "    )\n",
    "    return(as.formula(txt))\n",
    "}\n",
    "lst_match = purrr::map2(vec_txt_pattern, vec_txt_replace, fun_match)\n",
    "lst_match"
   ]
  },
  {
   "cell_type": "code",
   "execution_count": 99,
   "id": "88071ba8-a99b-4229-876e-3bb9fe96e219",
   "metadata": {},
   "outputs": [
    {
     "data": {
      "text/html": [
       "<style>\n",
       ".list-inline {list-style: none; margin:0; padding: 0}\n",
       ".list-inline>li {display: inline-block}\n",
       ".list-inline>li:not(:last-child)::after {content: \"\\00b7\"; padding: 0 .5ex}\n",
       "</style>\n",
       "<ol class=list-inline><li>'CASA'</li><li>'signal_R1'</li><li>'signal_R2'</li></ol>\n"
      ],
      "text/latex": [
       "\\begin{enumerate*}\n",
       "\\item 'CASA'\n",
       "\\item 'signal\\_R1'\n",
       "\\item 'signal\\_R2'\n",
       "\\end{enumerate*}\n"
      ],
      "text/markdown": [
       "1. 'CASA'\n",
       "2. 'signal_R1'\n",
       "3. 'signal_R2'\n",
       "\n",
       "\n"
      ],
      "text/plain": [
       "[1] \"CASA\"      \"signal_R1\" \"signal_R2\""
      ]
     },
     "metadata": {},
     "output_type": "display_data"
    }
   ],
   "source": [
    "string = vec_txt_input\n",
    "case_when(\n",
    "    !!!lst_match,\n",
    "    .default = string\n",
    ")"
   ]
  },
  {
   "cell_type": "code",
   "execution_count": 112,
   "id": "16ebeb0e-a78b-4df9-941c-6be3e3481c3d",
   "metadata": {},
   "outputs": [],
   "source": []
  },
  {
   "cell_type": "code",
   "execution_count": 113,
   "id": "f7618b2e-feb7-4b59-8686-950ceb3266b1",
   "metadata": {},
   "outputs": [
    {
     "data": {
      "text/html": [
       "<style>\n",
       ".list-inline {list-style: none; margin:0; padding: 0}\n",
       ".list-inline>li {display: inline-block}\n",
       ".list-inline>li:not(:last-child)::after {content: \"\\00b7\"; padding: 0 .5ex}\n",
       "</style>\n",
       "<ol class=list-inline><li>'CASA'</li><li>'yes'</li><li>'signal_R2'</li></ol>\n"
      ],
      "text/latex": [
       "\\begin{enumerate*}\n",
       "\\item 'CASA'\n",
       "\\item 'yes'\n",
       "\\item 'signal\\_R2'\n",
       "\\end{enumerate*}\n"
      ],
      "text/markdown": [
       "1. 'CASA'\n",
       "2. 'yes'\n",
       "3. 'signal_R2'\n",
       "\n",
       "\n"
      ],
      "text/plain": [
       "[1] \"CASA\"      \"yes\"       \"signal_R2\""
      ]
     },
     "metadata": {},
     "output_type": "display_data"
    }
   ],
   "source": [
    "vec_txt_pattern = c(\"peak\", \"signal_R1\", \"signal_R2\")\n",
    "vec_txt_replace = c(\"CASA\", \"yes\",       \"signal_R2\")\n",
    "vec_txt_input   = c(\"CAPRIN1_peakwise_file\", \"CAPRIN1_perturb_signal_R1\", \"CAPRIN1_perturb_signal_R2\")\n",
    "\n",
    "fun_str_detect_map(\n",
    "    vec_txt_input,\n",
    "    vec_txt_pattern,\n",
    "    vec_txt_replace\n",
    ")"
   ]
  },
  {
   "cell_type": "code",
   "execution_count": 114,
   "id": "b23689f7-b04c-4c2a-904f-1916924e4676",
   "metadata": {},
   "outputs": [
    {
     "data": {
      "text/html": [
       "<style>\n",
       ".list-inline {list-style: none; margin:0; padding: 0}\n",
       ".list-inline>li {display: inline-block}\n",
       ".list-inline>li:not(:last-child)::after {content: \"\\00b7\"; padding: 0 .5ex}\n",
       "</style>\n",
       "<ol class=list-inline><li>'CASA'</li><li>'yes'</li><li>NA</li></ol>\n"
      ],
      "text/latex": [
       "\\begin{enumerate*}\n",
       "\\item 'CASA'\n",
       "\\item 'yes'\n",
       "\\item NA\n",
       "\\end{enumerate*}\n"
      ],
      "text/markdown": [
       "1. 'CASA'\n",
       "2. 'yes'\n",
       "3. NA\n",
       "\n",
       "\n"
      ],
      "text/plain": [
       "[1] \"CASA\" \"yes\"  NA    "
      ]
     },
     "metadata": {},
     "output_type": "display_data"
    }
   ],
   "source": [
    "vec_txt_pattern = c(\"peak\", \"signal_R1\")\n",
    "vec_txt_replace = c(\"CASA\", \"yes\")\n",
    "vec_txt_input   = c(\"CAPRIN1_peakwise_file\", \"CAPRIN1_perturb_signal_R1\", \"CAPRIN1_perturb_signal_R2\")\n",
    "\n",
    "fun_str_detect_map(\n",
    "    vec_txt_input,\n",
    "    vec_txt_pattern,\n",
    "    vec_txt_replace\n",
    ")"
   ]
  },
  {
   "cell_type": "code",
   "execution_count": 115,
   "id": "401460e9-4dfb-4ba1-af67-c834c34d1dec",
   "metadata": {},
   "outputs": [
    {
     "data": {
      "text/html": [
       "<style>\n",
       ".list-inline {list-style: none; margin:0; padding: 0}\n",
       ".list-inline>li {display: inline-block}\n",
       ".list-inline>li:not(:last-child)::after {content: \"\\00b7\"; padding: 0 .5ex}\n",
       "</style>\n",
       "<ol class=list-inline><li>'CASA'</li><li>'yes'</li><li>'CAPRIN1_perturb_signal_R2'</li></ol>\n"
      ],
      "text/latex": [
       "\\begin{enumerate*}\n",
       "\\item 'CASA'\n",
       "\\item 'yes'\n",
       "\\item 'CAPRIN1\\_perturb\\_signal\\_R2'\n",
       "\\end{enumerate*}\n"
      ],
      "text/markdown": [
       "1. 'CASA'\n",
       "2. 'yes'\n",
       "3. 'CAPRIN1_perturb_signal_R2'\n",
       "\n",
       "\n"
      ],
      "text/plain": [
       "[1] \"CASA\"                      \"yes\"                      \n",
       "[3] \"CAPRIN1_perturb_signal_R2\""
      ]
     },
     "metadata": {},
     "output_type": "display_data"
    }
   ],
   "source": [
    "vec_txt_pattern = c(\"peak\", \"signal_R1\")\n",
    "vec_txt_replace = c(\"CASA\", \"yes\")\n",
    "vec_txt_input   = c(\"CAPRIN1_peakwise_file\", \"CAPRIN1_perturb_signal_R1\", \"CAPRIN1_perturb_signal_R2\")\n",
    "\n",
    "fun_str_detect_map(\n",
    "    vec_txt_input,\n",
    "    vec_txt_pattern,\n",
    "    vec_txt_replace,\n",
    "    .default = vec_txt_input\n",
    ")"
   ]
  },
  {
   "cell_type": "code",
   "execution_count": null,
   "id": "c088c5df-bce1-4b49-8cb0-33691dc2c852",
   "metadata": {},
   "outputs": [],
   "source": []
  },
  {
   "cell_type": "code",
   "execution_count": null,
   "id": "88623509-7590-4858-bb79-bb5b17990b89",
   "metadata": {},
   "outputs": [],
   "source": []
  },
  {
   "cell_type": "code",
   "execution_count": 105,
   "id": "5909610d-493f-48f7-9d20-6fba450e3cd5",
   "metadata": {},
   "outputs": [
    {
     "data": {
      "text/html": [
       "<style>\n",
       ".list-inline {list-style: none; margin:0; padding: 0}\n",
       ".list-inline>li {display: inline-block}\n",
       ".list-inline>li:not(:last-child)::after {content: \"\\00b7\"; padding: 0 .5ex}\n",
       "</style>\n",
       "<ol class=list-inline><li>'peak'</li><li>'signal_R1'</li><li>'signal_R2'</li></ol>\n"
      ],
      "text/latex": [
       "\\begin{enumerate*}\n",
       "\\item 'peak'\n",
       "\\item 'signal\\_R1'\n",
       "\\item 'signal\\_R2'\n",
       "\\end{enumerate*}\n"
      ],
      "text/markdown": [
       "1. 'peak'\n",
       "2. 'signal_R1'\n",
       "3. 'signal_R2'\n",
       "\n",
       "\n"
      ],
      "text/plain": [
       "[1] \"peak\"      \"signal_R1\" \"signal_R2\""
      ]
     },
     "metadata": {},
     "output_type": "display_data"
    }
   ],
   "source": [
    "vec_txt_pattern = c(\"peak\", \"signal_R1\", \"signal_R2\")\n",
    "vec_txt_replace = vec_txt_pattern\n",
    "vec_txt_input   = c(\"CAPRIN1_peakwise_file\", \"CAPRIN1_perturb_signal_R1\", \"CAPRIN1_perturb_signal_R2\")\n",
    "\n",
    "fun_str_detect_map(\n",
    "    vec_txt_input,\n",
    "    vec_txt_pattern,\n",
    "    vec_txt_replace\n",
    ")"
   ]
  },
  {
   "cell_type": "code",
   "execution_count": 111,
   "id": "78059def-33bf-4e1d-b07b-3618bc51370b",
   "metadata": {},
   "outputs": [
    {
     "data": {
      "text/plain": [
       "NULL"
      ]
     },
     "metadata": {},
     "output_type": "display_data"
    }
   ],
   "source": [
    "NULL"
   ]
  },
  {
   "cell_type": "code",
   "execution_count": 39,
   "id": "48fc99ae-ea7e-4110-8b55-e119596f1319",
   "metadata": {},
   "outputs": [
    {
     "data": {
      "text/html": [
       "<style>\n",
       ".list-inline {list-style: none; margin:0; padding: 0}\n",
       ".list-inline>li {display: inline-block}\n",
       ".list-inline>li:not(:last-child)::after {content: \"\\00b7\"; padding: 0 .5ex}\n",
       "</style>\n",
       "<ol class=list-inline><li>'CASA'</li><li>'CAPRIN1_perturb_signal_R1'</li><li>'CAPRIN1_perturb_signal_R2'</li></ol>\n"
      ],
      "text/latex": [
       "\\begin{enumerate*}\n",
       "\\item 'CASA'\n",
       "\\item 'CAPRIN1\\_perturb\\_signal\\_R1'\n",
       "\\item 'CAPRIN1\\_perturb\\_signal\\_R2'\n",
       "\\end{enumerate*}\n"
      ],
      "text/markdown": [
       "1. 'CASA'\n",
       "2. 'CAPRIN1_perturb_signal_R1'\n",
       "3. 'CAPRIN1_perturb_signal_R2'\n",
       "\n",
       "\n"
      ],
      "text/plain": [
       "[1] \"CASA\"                      \"CAPRIN1_perturb_signal_R1\"\n",
       "[3] \"CAPRIN1_perturb_signal_R2\""
      ]
     },
     "metadata": {},
     "output_type": "display_data"
    }
   ],
   "source": [
    "vec_txt_pattern = c(\"peak\", \"signal_R1\", \"signal_R2\")\n",
    "vec_txt_replace = c(\"CASA\", \"signal_R1\", \"signal_R2\")\n",
    "vec_txt_input = c(\"CAPRIN1_peakwise_file\", \"CAPRIN1_perturb_signal_R1\", \"CAPRIN1_perturb_signal_R2\")\n",
    "\n",
    "x = vec_txt_input\n",
    "dplyr::case_when(str_detect(vec_txt_input, \"peak\") ~ \"CASA\",\n",
    "                 TRUE ~ vec_txt_input)"
   ]
  },
  {
   "cell_type": "code",
   "execution_count": 35,
   "id": "4553656e-3d8b-4204-ac9c-4de9442991a6",
   "metadata": {},
   "outputs": [
    {
     "name": "stdout",
     "output_type": "stream",
     "text": [
      "      [,1]  [,2]  [,3]\n",
      "[1,]  TRUE FALSE FALSE\n",
      "[2,] FALSE  TRUE FALSE\n",
      "[3,] FALSE FALSE  TRUE\n",
      "\n",
      "[1] \"CAPRIN1_peakwise_file\"     \"CAPRIN1_perturb_signal_R1\"\n",
      "[3] \"CAPRIN1_perturb_signal_R2\"\n",
      "\n",
      "[1] \"CASA\"      \"signal_R1\" \"signal_R2\"\n"
     ]
    }
   ],
   "source": [
    "### test function\n",
    "vec_txt_pattern = c(\"peak\", \"signal_R1\", \"signal_R2\")\n",
    "vec_txt_replace = c(\"CASA\", \"signal_R1\", \"signal_R2\")\n",
    "\n",
    "vec_txt_input = c(\"CAPRIN1_peakwise_file\", \"CAPRIN1_perturb_signal_R1\", \"CAPRIN1_perturb_signal_R2\")\n",
    "\n",
    "mat = outer(vec_txt_input, vec_txt_pattern, str_detect)\n",
    "print(mat)\n",
    "cat(\"\\n\")\n",
    "\n",
    "vec_txt_output = apply(mat, 1, function(idx){vec_txt_replace[idx]})\n",
    "#cat(vec_txt_input,  \"\\n\")\n",
    "#cat(vec_txt_output, \"\\n\")\n",
    "print(vec_txt_input)\n",
    "cat(\"\\n\")\n",
    "print(vec_txt_output)"
   ]
  },
  {
   "cell_type": "code",
   "execution_count": 37,
   "id": "ec4a07ec-988f-4c58-8e36-f181780d898b",
   "metadata": {},
   "outputs": [
    {
     "name": "stdout",
     "output_type": "stream",
     "text": [
      "      [,1]\n",
      "[1,] FALSE\n",
      "[2,]  TRUE\n",
      "[3,] FALSE\n",
      "[4,]  TRUE\n",
      "\n",
      "[1] \"hic\"    \"bedpe\"  \"bigwig\" \"bed\"   \n",
      "\n",
      "[[1]]\n",
      "character(0)\n",
      "\n",
      "[[2]]\n",
      "[1] \"bed.gz\"\n",
      "\n",
      "[[3]]\n",
      "character(0)\n",
      "\n",
      "[[4]]\n",
      "[1] \"bed.gz\"\n",
      "\n"
     ]
    }
   ],
   "source": [
    "### test function\n",
    "vec_txt_pattern = c(\"bed\")\n",
    "vec_txt_replace = c(\"bed.gz\")\n",
    "\n",
    "vec_txt_input   = c(\"hic\", \"bedpe\", \"bigwig\", \"bed\")\n",
    "\n",
    "mat = outer(vec_txt_input, vec_txt_pattern, str_detect)\n",
    "print(mat)\n",
    "cat(\"\\n\")\n",
    "\n",
    "vec_txt_output = apply(mat, 1, function(idx){vec_txt_replace[idx]})\n",
    "#cat(vec_txt_input,  \"\\n\")\n",
    "#cat(vec_txt_output, \"\\n\")\n",
    "print(vec_txt_input)\n",
    "cat(\"\\n\")\n",
    "print(vec_txt_output)"
   ]
  },
  {
   "cell_type": "code",
   "execution_count": null,
   "id": "b4291a72-a7d4-43da-8ea3-dc89203456df",
   "metadata": {},
   "outputs": [],
   "source": []
  },
  {
   "cell_type": "code",
   "execution_count": 19,
   "id": "26741c22-dfc8-45f3-a87b-eecdd80ae54d",
   "metadata": {},
   "outputs": [
    {
     "data": {
      "text/html": [
       "<style>\n",
       ".dl-inline {width: auto; margin:0; padding: 0}\n",
       ".dl-inline>dt, .dl-inline>dd {float: none; width: auto; display: inline-block}\n",
       ".dl-inline>dt::after {content: \":\\0020\"; padding-right: .5ex}\n",
       ".dl-inline>dt:not(:first-of-type) {padding-left: .5ex}\n",
       "</style><dl class=dl-inline><dt>CAPRIN1_peakwise_file</dt><dd>'CASA'</dd><dt>CAPRIN1_perturb_signal_R1</dt><dd>'signal_R1'</dd><dt>CAPRIN1_perturb_signal_R2</dt><dd>'signal_R2'</dd></dl>\n"
      ],
      "text/latex": [
       "\\begin{description*}\n",
       "\\item[CAPRIN1\\textbackslash{}\\_peakwise\\textbackslash{}\\_file] 'CASA'\n",
       "\\item[CAPRIN1\\textbackslash{}\\_perturb\\textbackslash{}\\_signal\\textbackslash{}\\_R1] 'signal\\_R1'\n",
       "\\item[CAPRIN1\\textbackslash{}\\_perturb\\textbackslash{}\\_signal\\textbackslash{}\\_R2] 'signal\\_R2'\n",
       "\\end{description*}\n"
      ],
      "text/markdown": [
       "CAPRIN1_peakwise_file\n",
       ":   'CASA'CAPRIN1_perturb_signal_R1\n",
       ":   'signal_R1'CAPRIN1_perturb_signal_R2\n",
       ":   'signal_R2'\n",
       "\n"
      ],
      "text/plain": [
       "    CAPRIN1_peakwise_file CAPRIN1_perturb_signal_R1 CAPRIN1_perturb_signal_R2 \n",
       "                   \"CASA\"               \"signal_R1\"               \"signal_R2\" "
      ]
     },
     "metadata": {},
     "output_type": "display_data"
    }
   ],
   "source": [
    "### define helper function\n",
    "fun_str_map = function(string, pattern, replacement){\n",
    "\n",
    "    ### \n",
    "    fun_inner = function(txt, ){\n",
    "        idx = str_detect(string  = txt, pattern = vec1)\n",
    "        vec = vec2[idx]\n",
    "        return(vec)\n",
    "    }\n",
    "    \n",
    "    res = sapply(strings, fun_inner)\n",
    "    return(res)\n",
    "}\n",
    "\n",
    "### test function\n",
    "vec1 = c(\"peak\", \"signal_R1\", \"signal_R2\")\n",
    "vec2 = c(\"CASA\", \"signal_R1\", \"signal_R2\")\n",
    "vec = c(\"CAPRIN1_peakwise_file\", \"CAPRIN1_perturb_signal_R1\", \"CAPRIN1_perturb_signal_R2\")\n",
    "fun_get_info(vec)"
   ]
  }
 ],
 "metadata": {
  "kernelspec": {
   "display_name": "R",
   "language": "R",
   "name": "ir"
  },
  "language_info": {
   "codemirror_mode": "r",
   "file_extension": ".r",
   "mimetype": "text/x-r-source",
   "name": "R",
   "pygments_lexer": "r",
   "version": "4.4.0"
  }
 },
 "nbformat": 4,
 "nbformat_minor": 5
}
