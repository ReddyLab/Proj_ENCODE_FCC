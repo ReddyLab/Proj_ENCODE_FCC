{
 "cells": [
  {
   "cell_type": "raw",
   "id": "ab0703d0-2926-490e-b389-4fa8c1fa3586",
   "metadata": {},
   "source": [
    "---\n",
    "title: Check Scripts 01\n",
    "subtitle: Check testing scripts\n",
    "format:\n",
    "    html:\n",
    "        code-fold:  true\n",
    "        code-tools: true\n",
    "---"
   ]
  },
  {
   "cell_type": "markdown",
   "id": "a74a22bf-f4a4-479c-b0e0-57c22a5536ad",
   "metadata": {},
   "source": [
    "**Set environment**"
   ]
  },
  {
   "cell_type": "code",
   "execution_count": 1,
   "id": "dbd0a860-98f9-4e14-aa4e-6e9d00a9ef05",
   "metadata": {},
   "outputs": [
    {
     "name": "stdout",
     "output_type": "stream",
     "text": [
      "You are working on             Duke Server: HARDAC\n",
      "BASE DIRECTORY (FD_BASE):      /data/reddylab/Kuei\n",
      "REPO DIRECTORY (FD_REPO):      /data/reddylab/Kuei/repo\n",
      "WORK DIRECTORY (FD_WORK):      /data/reddylab/Kuei/work\n",
      "DATA DIRECTORY (FD_DATA):      /data/reddylab/Kuei/data\n",
      "CONTAINER DIR. (FD_SING):      /data/reddylab/Kuei/container\n",
      "\n",
      "You are working with           ENCODE FCC\n",
      "PATH OF PROJECT (FD_PRJ):      /data/reddylab/Kuei/repo/Proj_CombEffect_ENCODE_FCC\n",
      "PROJECT RESULTS (FD_RES):      /data/reddylab/Kuei/repo/Proj_CombEffect_ENCODE_FCC/results\n",
      "PROJECT SCRIPTS (FD_EXE):      /data/reddylab/Kuei/repo/Proj_CombEffect_ENCODE_FCC/scripts\n",
      "PROJECT DATA    (FD_DAT):      /data/reddylab/Kuei/repo/Proj_CombEffect_ENCODE_FCC/data\n",
      "PROJECT NOTE    (FD_NBK):      /data/reddylab/Kuei/repo/Proj_CombEffect_ENCODE_FCC/notebooks\n",
      "PROJECT DOCS    (FD_DOC):      /data/reddylab/Kuei/repo/Proj_CombEffect_ENCODE_FCC/docs\n",
      "PROJECT LOG     (FD_LOG):      /data/reddylab/Kuei/repo/Proj_CombEffect_ENCODE_FCC/log\n",
      "PROJECT APP     (FD_APP):      /data/reddylab/Kuei/repo/Proj_CombEffect_ENCODE_FCC/app\n",
      "PROJECT REF     (FD_REF):      /data/reddylab/Kuei/repo/Proj_CombEffect_ENCODE_FCC/references\n",
      "PROJECT IMAGE   (FP_PRJ_SIF):  /data/reddylab/Kuei/repo/Proj_CombEffect_ENCODE_FCC/app/singularity_proj_encode_fcc.sif\n",
      "\n"
     ]
    }
   ],
   "source": [
    "source ../run_config_project.sh\n",
    "show_env"
   ]
  },
  {
   "cell_type": "markdown",
   "id": "4ca576ea-8167-4502-8150-029a5d0d0853",
   "metadata": {
    "tags": []
   },
   "source": [
    "## Run test scripts"
   ]
  },
  {
   "cell_type": "code",
   "execution_count": 2,
   "id": "7ec82443-27dc-4f71-a0e1-92750290b3fb",
   "metadata": {},
   "outputs": [
    {
     "name": "stdout",
     "output_type": "stream",
     "text": [
      "/data/reddylab/Kuei/repo/Proj_CombEffect_ENCODE_FCC/log\n"
     ]
    }
   ],
   "source": [
    "echo ${FD_LOG}"
   ]
  },
  {
   "cell_type": "code",
   "execution_count": 3,
   "id": "321b2890-b9c2-48e0-83d1-d445d96bbcab",
   "metadata": {},
   "outputs": [
    {
     "name": "stdout",
     "output_type": "stream",
     "text": [
      "all\n"
     ]
    }
   ],
   "source": [
    "echo ${NODE}"
   ]
  },
  {
   "cell_type": "markdown",
   "id": "19362b02-bdc5-4192-acca-85200851acce",
   "metadata": {},
   "source": [
    "**Execute**"
   ]
  },
  {
   "cell_type": "code",
   "execution_count": 6,
   "id": "0f2058d9-7a6c-4666-9ea6-d7fb9f7dfaf9",
   "metadata": {},
   "outputs": [
    {
     "name": "stdout",
     "output_type": "stream",
     "text": [
      "Submitted batch job 30712589\n"
     ]
    }
   ],
   "source": [
    "FN_LOG=\"test.txt\"\n",
    "FP_LOG=${FD_LOG}/${FN_LOG}\n",
    "\n",
    "sbatch -p ${NODE} \\\n",
    "    --exclude=dl-01 \\\n",
    "    --cpus-per-task 4 \\\n",
    "    --mem 2G \\\n",
    "    --output ${FP_LOG} \\\n",
    "    ${FD_EXE}/run_script_test.sh ${FD_PRJ}"
   ]
  },
  {
   "cell_type": "markdown",
   "id": "797ac6ab-e525-4268-9028-68152a8b1366",
   "metadata": {},
   "source": [
    "**Check results**"
   ]
  },
  {
   "cell_type": "code",
   "execution_count": 7,
   "id": "9f5a97ac-caa9-47a4-a997-47a0f9d0f6db",
   "metadata": {},
   "outputs": [
    {
     "name": "stdout",
     "output_type": "stream",
     "text": [
      "Hostname:           x2-07-3.genome.duke.edu\n",
      "Slurm Array Index: \n",
      "Time Stamp:         03-12-24+11:25:53\n",
      "\n",
      "\n",
      "Done!\n",
      "Run Time: 0 seconds\n"
     ]
    }
   ],
   "source": [
    "cat ${FD_LOG}/test.txt"
   ]
  },
  {
   "cell_type": "code",
   "execution_count": null,
   "id": "fe5f7c0e-7b0d-44cb-8476-4ba202caacba",
   "metadata": {},
   "outputs": [],
   "source": []
  },
  {
   "cell_type": "code",
   "execution_count": 29,
   "id": "7b4fa5a6-89ea-4367-935e-2060144609a1",
   "metadata": {},
   "outputs": [
    {
     "name": "stdout",
     "output_type": "stream",
     "text": [
      "Submitted batch job 30729229\n",
      "Done!\n"
     ]
    }
   ],
   "source": [
    "FD_INP=${FD_DAT}/processed/ASTARRseq_K562_hg38_KS274_240311/fragments\n",
    "FN_INP=K562_ASTARR_repeat_rep1.f3q10.fragments.bedpe\n",
    "FP_INP=${FD_INP}/${FN_INP}\n",
    "\n",
    "FN_LOG=fragment_count.${FN_INP}.txt\n",
    "FP_LOG=${FD_LOG}/${FN_LOG}\n",
    "\n",
    "sbatch -p ${NODE} \\\n",
    "    --exclude=dl-01 \\\n",
    "    --cpus-per-task 4 \\\n",
    "    --mem 1G \\\n",
    "    --output ${FP_LOG} \\\n",
    "    <<EOF\n",
    "#!/bin/bash\n",
    "echo hello\n",
    "EOF\n",
    "\n",
    "echo Done!"
   ]
  },
  {
   "cell_type": "code",
   "execution_count": 32,
   "id": "97e845c0-78d9-4a48-9a14-0c5c0cc93ed9",
   "metadata": {},
   "outputs": [
    {
     "name": "stdout",
     "output_type": "stream",
     "text": [
      "hello\n"
     ]
    }
   ],
   "source": [
    "cat ${FP_LOG}"
   ]
  },
  {
   "cell_type": "code",
   "execution_count": 17,
   "id": "1e4b2b7d-220d-4985-94da-0418365d27c3",
   "metadata": {},
   "outputs": [
    {
     "name": "stdout",
     "output_type": "stream",
     "text": [
      "Submitted batch job 30729228\n",
      "Done!\n"
     ]
    }
   ],
   "source": [
    "FD_INP=${FD_DAT}/processed/ASTARRseq_K562_hg38_KS274_240311/fragments\n",
    "FN_INP=K562_ASTARR_repeat_rep1.f3q10.fragments.bedpe\n",
    "FP_INP=${FD_INP}/${FN_INP}\n",
    "\n",
    "FN_LOG=fragment_count.${FN_INP}.txt\n",
    "FP_LOG=${FD_LOG}/${FN_LOG}\n",
    "\n",
    "sbatch -p ${NODE} \\\n",
    "    --exclude=dl-01 \\\n",
    "    --cpus-per-task 4 \\\n",
    "    --mem 1G \\\n",
    "    --output ${FP_LOG} \\\n",
    "    --wrap \"echo $(date +\"%m-%d-%y+%T\"); echo hello\"\n",
    "\n",
    "echo Done!"
   ]
  },
  {
   "cell_type": "code",
   "execution_count": 21,
   "id": "e2f1e614-4706-4845-a568-15b6733e4dff",
   "metadata": {},
   "outputs": [
    {
     "name": "stdout",
     "output_type": "stream",
     "text": [
      "03-30-24+14:09:13\n",
      "hello\n"
     ]
    }
   ],
   "source": [
    "cat ${FP_LOG}"
   ]
  },
  {
   "cell_type": "code",
   "execution_count": 26,
   "id": "7e041b93-e03d-4a12-aecf-3fd02f4eb39b",
   "metadata": {},
   "outputs": [
    {
     "name": "stdout",
     "output_type": "stream",
     "text": [
      "echo ${FD_INP}\n"
     ]
    }
   ],
   "source": [
    "cat <<'EOF'\n",
    "echo ${FD_INP}\n",
    "EOF"
   ]
  },
  {
   "cell_type": "code",
   "execution_count": 27,
   "id": "87be4942-737d-4daa-86ec-a742b7f07286",
   "metadata": {},
   "outputs": [
    {
     "name": "stdout",
     "output_type": "stream",
     "text": [
      "echo /data/reddylab/Kuei/repo/Proj_ENCODE_FCC/data/processed/ASTARRseq_K562_hg38_KS274_240311/fragments\n"
     ]
    }
   ],
   "source": [
    "cat <<EOF\n",
    "echo ${FD_INP}\n",
    "EOF"
   ]
  }
 ],
 "metadata": {
  "kernelspec": {
   "display_name": "Bash",
   "language": "bash",
   "name": "bash"
  },
  "language_info": {
   "codemirror_mode": "shell",
   "file_extension": ".sh",
   "mimetype": "text/x-sh",
   "name": "bash"
  }
 },
 "nbformat": 4,
 "nbformat_minor": 5
}
