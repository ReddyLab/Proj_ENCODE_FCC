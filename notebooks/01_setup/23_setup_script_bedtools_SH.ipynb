{
 "cells": [
  {
   "cell_type": "raw",
   "id": "7211fbaf-c17c-4484-a7b5-1532142b21c6",
   "metadata": {},
   "source": [
    "---\n",
    "title: Setup Scripts 03\n",
    "subtitle: Commands based on Bedtools\n",
    "format:\n",
    "    html:\n",
    "        code-fold:  true\n",
    "        code-tools: true\n",
    "---"
   ]
  },
  {
   "cell_type": "markdown",
   "id": "f26a27fc-371b-4e55-8c1e-a9456baf50fd",
   "metadata": {},
   "source": [
    "**Set environment**"
   ]
  },
  {
   "cell_type": "code",
   "execution_count": 1,
   "id": "f20a0368-c5fd-43ec-a3dc-1e67a9a1246b",
   "metadata": {},
   "outputs": [
    {
     "name": "stdout",
     "output_type": "stream",
     "text": [
      "You are working on             Duke Server: HARDAC\n",
      "BASE DIRECTORY (FD_BASE):      /data/reddylab/Kuei\n",
      "REPO DIRECTORY (FD_REPO):      /data/reddylab/Kuei/repo\n",
      "WORK DIRECTORY (FD_WORK):      /data/reddylab/Kuei/work\n",
      "DATA DIRECTORY (FD_DATA):      /data/reddylab/Kuei/data\n",
      "CONTAINER DIR. (FD_SING):      /data/reddylab/Kuei/container\n",
      "\n",
      "You are working with           ENCODE FCC\n",
      "PATH OF PROJECT (FD_PRJ):      /data/reddylab/Kuei/repo/Proj_CombEffect_ENCODE_FCC\n",
      "PROJECT RESULTS (FD_RES):      /data/reddylab/Kuei/repo/Proj_CombEffect_ENCODE_FCC/results\n",
      "PROJECT SCRIPTS (FD_EXE):      /data/reddylab/Kuei/repo/Proj_CombEffect_ENCODE_FCC/scripts\n",
      "PROJECT DATA    (FD_DAT):      /data/reddylab/Kuei/repo/Proj_CombEffect_ENCODE_FCC/data\n",
      "PROJECT NOTE    (FD_NBK):      /data/reddylab/Kuei/repo/Proj_CombEffect_ENCODE_FCC/notebooks\n",
      "PROJECT DOCS    (FD_DOC):      /data/reddylab/Kuei/repo/Proj_CombEffect_ENCODE_FCC/docs\n",
      "PROJECT LOG     (FD_LOG):      /data/reddylab/Kuei/repo/Proj_CombEffect_ENCODE_FCC/log\n",
      "PROJECT APP     (FD_APP):      /data/reddylab/Kuei/repo/Proj_CombEffect_ENCODE_FCC/app\n",
      "PROJECT REF     (FD_REF):      /data/reddylab/Kuei/repo/Proj_CombEffect_ENCODE_FCC/references\n",
      "PROJECT IMAGE   (FP_PRJ_SIF):  /data/reddylab/Kuei/repo/Proj_CombEffect_ENCODE_FCC/app/singularity_proj_encode_fcc.sif\n",
      "\n"
     ]
    }
   ],
   "source": [
    "source ../run_config_project.sh\n",
    "show_env"
   ]
  },
  {
   "cell_type": "markdown",
   "id": "cd39bbca-6465-40af-bb3b-1f3ef98f2a55",
   "metadata": {},
   "source": [
    "**Script folder**"
   ]
  },
  {
   "cell_type": "code",
   "execution_count": 4,
   "id": "8a7eb7d7-1a35-4a00-8e73-9b6b3950b2ab",
   "metadata": {},
   "outputs": [
    {
     "name": "stdout",
     "output_type": "stream",
     "text": [
      "/data/reddylab/Kuei/repo/Proj_CombEffect_ENCODE_FCC/scripts\n"
     ]
    }
   ],
   "source": [
    "echo ${FD_EXE}"
   ]
  },
  {
   "cell_type": "markdown",
   "id": "ab940d0e-05e8-41bb-b94f-0d2b7983f87d",
   "metadata": {},
   "source": [
    "## Setup config for loading bedtools module"
   ]
  },
  {
   "cell_type": "code",
   "execution_count": 11,
   "id": "49553f8c-2436-43f5-8be0-84055cb83d92",
   "metadata": {},
   "outputs": [],
   "source": [
    "cat > ${FD_EXE}/config_load_module_bedtools.sh << EOF\n",
    "#!/bin/bash\n",
    "\n",
    "### Check which duke server I am at and load the corresponding modules\n",
    "\n",
    "if echo $(pwd -P) | grep -q \"gpfs\"; then\n",
    "    #echo \"You are on Duke Server: HARDAC\"\n",
    "    module load bedtools2\n",
    "fi\n",
    "\n",
    "if echo $(pwd -P) | grep -q \"hpc\"; then\n",
    "    #echo \"You are on Duke Server: DCC\"\n",
    "    module load Bedtools\n",
    "fi\n",
    "\n",
    "EOF"
   ]
  },
  {
   "cell_type": "markdown",
   "id": "dcfec8ac-72e7-4d82-afd9-5b365497f21b",
   "metadata": {},
   "source": [
    "## Helper functions available"
   ]
  },
  {
   "cell_type": "code",
   "execution_count": 3,
   "id": "3832fbe0-694e-48c5-a684-8c5d62587a87",
   "metadata": {},
   "outputs": [
    {
     "name": "stdout",
     "output_type": "stream",
     "text": [
      "### https://unix.stackexchange.com/questions/72661/show-sum-of-file-sizes-in-directory-listing\n",
      "#dir () { ls -FaGlh \"${@}\" | awk '{ total += $4; print }; END { print total }'; }\n",
      "dir() { \n",
      "    ls -lhaG --color=always \"${@}\" |\\\n",
      "    sed -re 's/^([^ ]* ){3}//' |\\\n",
      "    awk '{ total += $1; print }; END { print total }'\n",
      "}\n",
      "\n",
      "### https://unix.stackexchange.com/questions/27013/displaying-seconds-as-days-hours-mins-seconds\n",
      "function displaytime {\n",
      "  local T=$1\n",
      "  local D=$((T/60/60/24))\n",
      "  local H=$((T/60/60%24))\n",
      "  local M=$((T/60%60))\n",
      "  local S=$((T%60))\n",
      "  (( $D > 0 )) && printf '%d days ' $D\n",
      "  (( $H > 0 )) && printf '%d hours ' $H\n",
      "  (( $M > 0 )) && printf '%d minutes ' $M\n",
      "  (( $D > 0 || $H > 0 || $M > 0 )) && printf 'and '\n",
      "  printf '%d seconds\\n' $S\n",
      "}\n",
      "\n",
      "### helper function\n",
      "function fun_cat {\n",
      "    FPATH=$1\n",
      "    if (file ${FPATH} | grep -q compressed); then\n",
      "        zcat ${FPATH}\n",
      "    else\n",
      "        cat  ${FPATH}\n",
      "    fi\n",
      "}"
     ]
    }
   ],
   "source": [
    "cat ${FD_EXE}/config_func.sh"
   ]
  },
  {
   "cell_type": "markdown",
   "id": "0f892e3b-a759-4940-a300-fda0162d12be",
   "metadata": {},
   "source": [
    "## Test script for bedtools"
   ]
  },
  {
   "cell_type": "code",
   "execution_count": 14,
   "id": "2c018892-43db-429c-aaee-23bfe542492c",
   "metadata": {},
   "outputs": [],
   "source": [
    "cat > ${FD_EXE}/run_bedtools_test.sh << 'EOF'\n",
    "#!/bin/bash\n",
    "\n",
    "### print start message\n",
    "timer_start=`date +%s`\n",
    "echo \"Hostname:          \" $(hostname)\n",
    "echo \"Slurm Array Index: \" ${SLURM_ARRAY_TASK_ID}\n",
    "echo \"Time Stamp:        \" $(date +\"%m-%d-%y+%T\")\n",
    "echo\n",
    "\n",
    "### setup env:\n",
    "###     get project root path\n",
    "###     load helper functions\n",
    "FD_PRJ=$1\n",
    "FD_EXE=${FD_PRJ}/scripts\n",
    "source ${FD_EXE}/config_func.sh\n",
    "\n",
    "### setup input and output\n",
    "FP_INP=$2\n",
    "\n",
    "### show input file\n",
    "echo \"Input: \" ${FP_INP}\n",
    "echo\n",
    "echo \"show first few lines of input\"\n",
    "fun_cat ${FP_INP} | head\n",
    "echo\n",
    "\n",
    "### execute\n",
    "bedtools --help\n",
    "echo\n",
    "\n",
    "### print end message\n",
    "timer=`date +%s`\n",
    "runtime=$(echo \"${timer} - ${timer_start}\" | bc -l)\n",
    "echo\n",
    "echo 'Done!'\n",
    "echo \"Run Time: $(displaytime ${runtime})\"\n",
    "\n",
    "EOF\n",
    "\n",
    "chmod +x ${FD_EXE}/run_bedtools_test.sh"
   ]
  },
  {
   "cell_type": "markdown",
   "id": "624aa428-46f1-4d75-8254-17dccde71c91",
   "metadata": {},
   "source": [
    "## Intersection"
   ]
  },
  {
   "cell_type": "code",
   "execution_count": null,
   "id": "b4b2288d-f99c-4af0-a539-8225f898d72f",
   "metadata": {},
   "outputs": [],
   "source": [
    "cat > ${FD_EXE}/run_bedtools_intersect.sh << 'EOF'\n",
    "#!/bin/bash\n",
    "\n",
    "### print start message\n",
    "timer_start=`date +%s`\n",
    "echo \"Hostname:          \" $(hostname)\n",
    "echo \"Slurm Array Index: \" ${SLURM_ARRAY_TASK_ID}\n",
    "echo \"Time Stamp:        \" $(date +\"%m-%d-%y+%T\")\n",
    "echo\n",
    "\n",
    "### setup env: load helper function\n",
    "SCRIPT_DIR=\"$( cd \"$( dirname \"${BASH_SOURCE[0]}\" )\" &> /dev/null && pwd )\"\n",
    "source ${SCRIPT_DIR}/config_func.sh\n",
    "\n",
    "### setup input and output\n",
    "FP_INP1=$1\n",
    "FP_INP2=$2\n",
    "FP_OUT=$3\n",
    "\n",
    "### show input file\n",
    "echo \"Input: \" ${FP_INP1}\n",
    "echo\n",
    "echo \"show first few lines of input\"\n",
    "fun_cat ${FP_INP1} | head\n",
    "echo\n",
    "echo \"Input: \" ${FP_INP2}\n",
    "echo\n",
    "echo \"show first few lines of input\"\n",
    "fun_cat ${FP_INP2} | head\n",
    "echo\n",
    "\n",
    "### execute\n",
    "bedtools intersect \\\n",
    "    -a ${FP_INP1} \\\n",
    "    -b ${FP_INP2} \\\n",
    "    -wo \\\n",
    "| gzip -c \\\n",
    "> ${FP_OUT}\n",
    "\n",
    "### show output file\n",
    "echo\n",
    "echo \"Output: \" ${FP_OUT}\n",
    "echo\n",
    "echo \"show first few lines of output:\"\n",
    "fun_cat ${FP_OUT} | head\n",
    "echo\n",
    "\n",
    "### print end message\n",
    "timer=`date +%s`\n",
    "runtime=$(echo \"${timer} - ${timer_start}\" | bc -l)\n",
    "echo\n",
    "echo 'Done!'\n",
    "echo \"Run Time: $(displaytime ${runtime})\"\n",
    "\n",
    "EOF\n",
    "\n",
    "chmod +x ${FD_EXE}/run_bedtools_intersect.sh"
   ]
  },
  {
   "cell_type": "markdown",
   "id": "3e380f67-811a-4aae-8525-eaefd56abf52",
   "metadata": {},
   "source": [
    "## Coverage"
   ]
  },
  {
   "cell_type": "code",
   "execution_count": 15,
   "id": "f61f3042-4119-47d4-bd7f-cab1466edc98",
   "metadata": {},
   "outputs": [],
   "source": [
    "cat > ${FD_EXE}/run_bedtools_coverage.sh << 'EOF'\n",
    "#!/bin/bash\n",
    "\n",
    "### print start message\n",
    "timer_start=`date +%s`\n",
    "echo \"Hostname:          \" $(hostname)\n",
    "echo \"Slurm Array Index: \" ${SLURM_ARRAY_TASK_ID}\n",
    "echo \"Time Stamp:        \" $(date +\"%m-%d-%y+%T\")\n",
    "echo\n",
    "\n",
    "### setup env:\n",
    "###     get project root path\n",
    "###     load helper functions\n",
    "FD_PRJ=$1\n",
    "FD_EXE=${FD_PRJ}/scripts\n",
    "source ${FD_EXE}/config_func.sh\n",
    "\n",
    "### setup input and output\n",
    "FP_INP1=$2\n",
    "FP_INP2=$3\n",
    "FP_OUT=$4\n",
    "\n",
    "### show input file\n",
    "echo \"Input: \" ${FP_INP1}\n",
    "echo\n",
    "echo \"show first few lines of input\"\n",
    "fun_cat ${FP_INP1} | head\n",
    "echo\n",
    "echo \"Input: \" ${FP_INP2}\n",
    "echo\n",
    "echo \"show first few lines of input\"\n",
    "fun_cat ${FP_INP2} | head\n",
    "echo\n",
    "\n",
    "### execute\n",
    "bedtools map \\\n",
    "    -a ${FP_INP1} \\\n",
    "    -b ${FP_INP2} \\\n",
    "    -o sum \\\n",
    "    -f 0.5 \\\n",
    "    -F 0.5 \\\n",
    "    -e \\\n",
    "| gzip -c \\\n",
    "> ${FP_OUT}\n",
    "\n",
    "### show output file\n",
    "echo\n",
    "echo \"Output: \" ${FP_OUT}\n",
    "echo\n",
    "echo \"show first few lines of output:\"\n",
    "fun_cat ${FP_OUT} | head\n",
    "echo\n",
    "\n",
    "### print end message\n",
    "timer=`date +%s`\n",
    "runtime=$(echo \"${timer} - ${timer_start}\" | bc -l)\n",
    "echo\n",
    "echo 'Done!'\n",
    "echo \"Run Time: $(displaytime ${runtime})\"\n",
    "\n",
    "EOF\n",
    "\n",
    "chmod +x ${FD_EXE}/run_bedtools_coverage.sh"
   ]
  },
  {
   "cell_type": "markdown",
   "id": "2bf0ed27-4588-457f-946e-a08a4fc02ac8",
   "metadata": {},
   "source": [
    "## Annotation"
   ]
  },
  {
   "cell_type": "code",
   "execution_count": null,
   "id": "5c96576d-2933-41b5-849d-4392456e6c14",
   "metadata": {},
   "outputs": [],
   "source": []
  }
 ],
 "metadata": {
  "kernelspec": {
   "display_name": "Bash",
   "language": "bash",
   "name": "bash"
  },
  "language_info": {
   "codemirror_mode": "shell",
   "file_extension": ".sh",
   "mimetype": "text/x-sh",
   "name": "bash"
  }
 },
 "nbformat": 4,
 "nbformat_minor": 5
}
