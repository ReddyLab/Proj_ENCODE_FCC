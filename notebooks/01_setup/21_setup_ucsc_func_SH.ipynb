{
 "cells": [
  {
   "cell_type": "code",
   "execution_count": 1,
   "id": "97892549-d67b-4fc2-a256-7b58237b397a",
   "metadata": {},
   "outputs": [
    {
     "name": "stdout",
     "output_type": "stream",
     "text": [
      "You are working on             Duke Server: HARDAC\n",
      "BASE DIRECTORY (FD_BASE):      /data/reddylab/Kuei\n",
      "REPO DIRECTORY (FD_REPO):      /data/reddylab/Kuei/repo\n",
      "WORK DIRECTORY (FD_WORK):      /data/reddylab/Kuei/work\n",
      "DATA DIRECTORY (FD_DATA):      /data/reddylab/Kuei/data\n",
      "CONTAINER DIR. (FD_SING):      /data/reddylab/Kuei/container\n",
      "\n",
      "You are working with           ENCODE FCC\n",
      "PATH OF PROJECT (FD_PRJ):      /data/reddylab/Kuei/repo/Proj_CombEffect_ENCODE_FCC\n",
      "PROJECT RESULTS (FD_RES):      /data/reddylab/Kuei/repo/Proj_CombEffect_ENCODE_FCC/results\n",
      "PROJECT SCRIPTS (FD_EXE):      /data/reddylab/Kuei/repo/Proj_CombEffect_ENCODE_FCC/scripts\n",
      "PROJECT DATA    (FD_DAT):      /data/reddylab/Kuei/repo/Proj_CombEffect_ENCODE_FCC/data\n",
      "PROJECT NOTE    (FD_NBK):      /data/reddylab/Kuei/repo/Proj_CombEffect_ENCODE_FCC/notebooks\n",
      "PROJECT DOCS    (FD_DOC):      /data/reddylab/Kuei/repo/Proj_CombEffect_ENCODE_FCC/docs\n",
      "PROJECT LOG     (FD_LOG):      /data/reddylab/Kuei/repo/Proj_CombEffect_ENCODE_FCC/log\n",
      "PROJECT APP     (FD_APP):      /data/reddylab/Kuei/repo/Proj_CombEffect_ENCODE_FCC/app\n",
      "PROJECT REF     (FD_REF):      /data/reddylab/Kuei/repo/Proj_CombEffect_ENCODE_FCC/references\n",
      "PROJECT IMAGE   (FP_PRJ_SIF):  /data/reddylab/Kuei/repo/Proj_CombEffect_ENCODE_FCC/app/singularity_proj_encode_fcc.sif\n",
      "\n"
     ]
    }
   ],
   "source": [
    "source ../run_config_project.sh\n",
    "show_env"
   ]
  },
  {
   "cell_type": "code",
   "execution_count": 12,
   "id": "65c1bebe-21db-47e1-b52a-d2a08bc869a5",
   "metadata": {},
   "outputs": [
    {
     "name": "stdout",
     "output_type": "stream",
     "text": [
      "\u001b[0m\u001b[38;5;34mconfig_func.sh\u001b[0m              \u001b[38;5;34mconfig_project_sing.py\u001b[0m  \u001b[38;5;34msing_jupyter.sh\u001b[0m\n",
      "\u001b[38;5;34mconfig_path_duke_hardac.sh\u001b[0m  \u001b[38;5;34mconfig_project_sing.R\u001b[0m   \u001b[38;5;34msing_quarto.sh\u001b[0m\n",
      "\u001b[38;5;34mconfig_path_sing.sh\u001b[0m         \u001b[38;5;34mconfig_venv_wrapper.sh\u001b[0m  \u001b[38;5;34msing_script.sh\u001b[0m\n",
      "\u001b[38;5;34mconfig_project.sh\u001b[0m           \u001b[38;5;34mrun_liftOver.sh\u001b[0m\n"
     ]
    }
   ],
   "source": [
    "ls ${FD_EXE}"
   ]
  },
  {
   "cell_type": "code",
   "execution_count": 13,
   "id": "f7487cd8-ade8-4d3e-91ab-62df1fbbf8e9",
   "metadata": {},
   "outputs": [],
   "source": [
    "cat > ${FD_EXE}/run_liftOver.sh << 'EOF'\n",
    "#!/bin/bash\n",
    "\n",
    "CMD=/data/common/shared_conda_envs/ucsc/bin/liftOver\n",
    "ARGS=\"$@\"\n",
    "\n",
    "${CMD} ${ARGS}\n",
    "\n",
    "EOF"
   ]
  },
  {
   "cell_type": "markdown",
   "id": "410f891f-7482-4af5-9fc9-b7966f7be39b",
   "metadata": {},
   "source": []
  },
  {
   "cell_type": "code",
   "execution_count": 14,
   "id": "3ee5cc2d-e864-44dc-aca3-bd9208a990c4",
   "metadata": {},
   "outputs": [],
   "source": [
    "chmod +x ${FD_EXE}/*"
   ]
  },
  {
   "cell_type": "code",
   "execution_count": 15,
   "id": "93489628-e587-40a9-9973-d5e5757817ea",
   "metadata": {},
   "outputs": [
    {
     "name": "stdout",
     "output_type": "stream",
     "text": [
      "liftOver - Move annotations from one assembly to another\n",
      "usage:\n",
      "   liftOver oldFile map.chain newFile unMapped\n",
      "oldFile and newFile are in bed format by default, but can be in GFF and\n",
      "maybe eventually others with the appropriate flags below.\n",
      "The map.chain file has the old genome as the target and the new genome\n",
      "as the query.\n",
      "\n",
      "***********************************************************************\n",
      "WARNING: liftOver was only designed to work between different\n",
      "         assemblies of the same organism. It may not do what you want\n",
      "         if you are lifting between different organisms. If there has\n",
      "         been a rearrangement in one of the species, the size of the\n",
      "         region being mapped may change dramatically after mapping.\n",
      "***********************************************************************\n",
      "\n",
      "options:\n",
      "   -minMatch=0.N Minimum ratio of bases that must remap. Default 0.95\n",
      "   -gff  File is in gff/gtf format.  Note that the gff lines are converted\n",
      "         separately.  It would be good to have a separate check after this\n",
      "         that the lines that make up a gene model still make a plausible gene\n",
      "         after liftOver\n",
      "   -genePred - File is in genePred format\n",
      "   -sample - File is in sample format\n",
      "   -bedPlus=N - File is bed N+ format (i.e. first N fields conform to bed format)\n",
      "   -positions - File is in browser \"position\" format\n",
      "   -hasBin - File has bin value (used only with -bedPlus)\n",
      "   -tab - Separate by tabs rather than space (used only with -bedPlus)\n",
      "   -pslT - File is in psl format, map target side only\n",
      "   -ends=N - Lift the first and last N bases of each record and combine the\n",
      "             result. This is useful for lifting large regions like BAC end pairs.\n",
      "   -minBlocks=0.N Minimum ratio of alignment blocks or exons that must map\n",
      "                  (default 1.00)\n",
      "   -fudgeThick    (bed 12 or 12+ only) If thickStart/thickEnd is not mapped,\n",
      "                  use the closest mapped base.  Recommended if using \n",
      "                  -minBlocks.\n",
      "   -multiple               Allow multiple output regions\n",
      "   -noSerial               In -multiple mode, do not put a serial number in the 5th BED column\n",
      "   -minChainT, -minChainQ  Minimum chain size in target/query, when mapping\n",
      "                           to multiple output regions (default 0, 0)\n",
      "   -minSizeT               deprecated synonym for -minChainT (ENCODE compat.)\n",
      "   -minSizeQ               Min matching region size in query with -multiple.\n",
      "   -chainTable             Used with -multiple, format is db.tablename,\n",
      "                               to extend chains from net (preserves dups)\n",
      "   -errorHelp              Explain error messages\n",
      "\n"
     ]
    },
    {
     "ename": "",
     "evalue": "255",
     "output_type": "error",
     "traceback": []
    }
   ],
   "source": [
    "${FD_EXE}/run_liftOver.sh"
   ]
  },
  {
   "cell_type": "code",
   "execution_count": null,
   "id": "f37c146b-7437-48bf-a970-1540f78db0b7",
   "metadata": {},
   "outputs": [],
   "source": []
  }
 ],
 "metadata": {
  "kernelspec": {
   "display_name": "Bash",
   "language": "bash",
   "name": "bash"
  },
  "language_info": {
   "codemirror_mode": "shell",
   "file_extension": ".sh",
   "mimetype": "text/x-sh",
   "name": "bash"
  }
 },
 "nbformat": 4,
 "nbformat_minor": 5
}
