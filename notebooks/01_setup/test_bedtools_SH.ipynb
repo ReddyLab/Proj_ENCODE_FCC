{
 "cells": [
  {
   "cell_type": "code",
   "execution_count": 3,
   "id": "3e923357-a701-4c24-a2e4-6c223564d93e",
   "metadata": {},
   "outputs": [],
   "source": [
    "FD_PRJ=/data/reddylab/Kuei/repo/Proj_ENCODE_FCC\n",
    "FD_EXE=${FD_PRJ}/scripts"
   ]
  },
  {
   "cell_type": "markdown",
   "id": "0d9ee512-ded6-42be-90cf-bd516f82af14",
   "metadata": {},
   "source": [
    "**Bedtools on Duke HARDAC server**"
   ]
  },
  {
   "cell_type": "code",
   "execution_count": 4,
   "id": "76098d71-f6b5-482d-82aa-f09dc5d444e2",
   "metadata": {},
   "outputs": [],
   "source": [
    "source ${FD_EXE}/config_load_module_bedtools.sh"
   ]
  },
  {
   "cell_type": "code",
   "execution_count": 5,
   "id": "7706166f-4b1c-4b1d-85fe-0f2db5ce8c83",
   "metadata": {},
   "outputs": [
    {
     "name": "stdout",
     "output_type": "stream",
     "text": [
      "bedtools v2.25.0\n"
     ]
    }
   ],
   "source": [
    "bedtools --version"
   ]
  },
  {
   "cell_type": "markdown",
   "id": "c4ee1de2-9529-4acf-a082-2d939e6993ef",
   "metadata": {},
   "source": [
    "**Bedtools from biocontainer**"
   ]
  },
  {
   "cell_type": "code",
   "execution_count": 7,
   "id": "86be78ce-826b-4180-b0ab-31d31eaf683f",
   "metadata": {},
   "outputs": [
    {
     "name": "stdout",
     "output_type": "stream",
     "text": [
      "#!/bin/bash\n",
      "\n",
      "#########################################\n",
      "### Wrapper of bedtools container\n",
      "### =====================================\n",
      "\n",
      "IMAGE=/data/reddylab/Kuei/container/biocontainer/bedtools:2.31.1--hf5e1c6e_1\n",
      "\n",
      "CMD=\"bedtools\"\n",
      "ARGS=\"$@\"\n",
      "\n",
      "singularity exec   \\\n",
      "    -B ${PWD}      \\\n",
      "    -B /data:/data \\\n",
      "    -B /gpfs:/gpfs \\\n",
      "    ${IMAGE} ${CMD} ${ARGS}\n"
     ]
    }
   ],
   "source": [
    "FPATH=${FD_EXE}/app_duke_hardac/bedtools\n",
    "cat ${FPATH}"
   ]
  },
  {
   "cell_type": "code",
   "execution_count": 8,
   "id": "34e4a2cc-c676-4272-8e0e-152bb0d6b362",
   "metadata": {},
   "outputs": [
    {
     "name": "stdout",
     "output_type": "stream",
     "text": [
      "bedtools v2.31.1\n"
     ]
    }
   ],
   "source": [
    "${FPATH} --version"
   ]
  },
  {
   "cell_type": "markdown",
   "id": "7814ab89-b5c6-42ce-8dfc-bb48165095c2",
   "metadata": {},
   "source": [
    "**Note: `bedtools summary` exists only in later version of bedtools**"
   ]
  },
  {
   "cell_type": "code",
   "execution_count": 12,
   "id": "18ef91ea-8ccb-4c48-a69d-4ece001d003f",
   "metadata": {},
   "outputs": [
    {
     "name": "stdout",
     "output_type": "stream",
     "text": [
      "bedtools v2.25.0\n",
      "error: unrecognized command: summary\n",
      "\n"
     ]
    },
    {
     "ename": "",
     "evalue": "1",
     "output_type": "error",
     "traceback": []
    }
   ],
   "source": [
    "bedtools --version\n",
    "bedtools summary --help"
   ]
  },
  {
   "cell_type": "code",
   "execution_count": 13,
   "id": "144ff128-2112-4d01-83d0-6b085db68500",
   "metadata": {},
   "outputs": [
    {
     "name": "stdout",
     "output_type": "stream",
     "text": [
      "bedtools v2.31.1\n",
      "\n",
      "Tool:    bedtools sammary\n",
      "Version: v2.31.1\n",
      "Summary: Report summary statistics of the intervals in a file \n",
      "\n",
      "Usage:   bedtools summary [OPTIONS] -i <bed/gff/vcf/bam> -g <genome>\n",
      "\n",
      "Notes: \n",
      "\t(1)  The genome file should tab delimited and structured as follows:\n",
      "\t     <chromName><TAB><chromSize>\n",
      "\n",
      "\tFor example, Human (hg19):\n",
      "\tchr1\t249250621\n",
      "\tchr2\t243199373\n",
      "\t...\n",
      "\tchr18_gl000207_random\t4262\n",
      "\n",
      "\n",
      "\n",
      "\n"
     ]
    },
    {
     "ename": "",
     "evalue": "1",
     "output_type": "error",
     "traceback": []
    }
   ],
   "source": [
    "${FPATH} --version\n",
    "${FPATH} summary --help"
   ]
  },
  {
   "cell_type": "code",
   "execution_count": null,
   "id": "1f494aaf-0133-4e06-9e91-67ce845662cd",
   "metadata": {},
   "outputs": [],
   "source": []
  }
 ],
 "metadata": {
  "kernelspec": {
   "display_name": "Bash",
   "language": "bash",
   "name": "bash"
  },
  "language_info": {
   "codemirror_mode": "shell",
   "file_extension": ".sh",
   "mimetype": "text/x-sh",
   "name": "bash"
  }
 },
 "nbformat": 4,
 "nbformat_minor": 5
}
