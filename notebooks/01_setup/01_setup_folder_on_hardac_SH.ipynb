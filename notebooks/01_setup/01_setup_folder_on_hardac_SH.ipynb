{
 "cells": [
  {
   "cell_type": "raw",
   "id": "345ffbda-a51c-42b1-80d5-9a40e4bac6c0",
   "metadata": {},
   "source": [
    "---\n",
    "title: Setup Envionment 01\n",
    "subtitle: Project folder structure and file arrangement on Duke HARDAC Server\n",
    "format:\n",
    "    html:\n",
    "        code-fold:  true\n",
    "        code-tools: true\n",
    "---"
   ]
  },
  {
   "cell_type": "markdown",
   "id": "2ff6d99f-c8d9-44a8-9218-9ddf2efa0cbc",
   "metadata": {},
   "source": [
    "```\n",
    "PROJECT\n",
    "├── app\n",
    "│   └── singularity_proj_encode_fcc.sif\n",
    "├── data\n",
    "│   ├── external\n",
    "│   └── processed\n",
    "├── results\n",
    "├── scripts\n",
    "├── references\n",
    "├── notebooks\n",
    "├── docs\n",
    "├── site\n",
    "├── log\n",
    "├── README.md\n",
    "└── .gitignore\n",
    "```"
   ]
  },
  {
   "cell_type": "markdown",
   "id": "8cd7f2bd-13ee-4dbe-b6a7-5e7133e5302c",
   "metadata": {},
   "source": [
    "**Set environment**"
   ]
  },
  {
   "cell_type": "code",
   "execution_count": 6,
   "id": "61d922af-6ef1-4766-9f8a-6ad1fb6d0bf4",
   "metadata": {},
   "outputs": [
    {
     "name": "stdout",
     "output_type": "stream",
     "text": [
      "You are working on             Duke Server: HARDAC\n",
      "BASE DIRECTORY (FD_BASE):      /data/reddylab/Kuei\n",
      "REPO DIRECTORY (FD_REPO):      /data/reddylab/Kuei/repo\n",
      "WORK DIRECTORY (FD_WORK):      /data/reddylab/Kuei/work\n",
      "DATA DIRECTORY (FD_DATA):      /data/reddylab/Kuei/data\n",
      "CONTAINER DIR. (FD_SING):      /data/reddylab/Kuei/container\n",
      "\n",
      "You are working with           ENCODE FCC\n",
      "PATH OF PROJECT (FD_PRJ):      /data/reddylab/Kuei/repo/Proj_ENCODE_FCC\n",
      "PROJECT RESULTS (FD_RES):      /data/reddylab/Kuei/repo/Proj_ENCODE_FCC/results\n",
      "PROJECT SCRIPTS (FD_EXE):      /data/reddylab/Kuei/repo/Proj_ENCODE_FCC/scripts\n",
      "PROJECT DATA    (FD_DAT):      /data/reddylab/Kuei/repo/Proj_ENCODE_FCC/data\n",
      "PROJECT NOTE    (FD_NBK):      /data/reddylab/Kuei/repo/Proj_ENCODE_FCC/notebooks\n",
      "PROJECT DOCS    (FD_DOC):      /data/reddylab/Kuei/repo/Proj_ENCODE_FCC/docs\n",
      "PROJECT LOG     (FD_LOG):      /data/reddylab/Kuei/repo/Proj_ENCODE_FCC/log\n",
      "PROJECT APP     (FD_APP):      /data/reddylab/Kuei/repo/Proj_ENCODE_FCC/app\n",
      "PROJECT REF     (FD_REF):      /data/reddylab/Kuei/repo/Proj_ENCODE_FCC/references\n",
      "PROJECT IMAGE   (FP_PRJ_SIF):  /data/reddylab/Kuei/repo/Proj_ENCODE_FCC/app/singularity_proj_encode_fcc.sif\n",
      "\n"
     ]
    }
   ],
   "source": [
    "source ../run_config_project.sh\n",
    "show_env"
   ]
  },
  {
   "cell_type": "markdown",
   "id": "b6b13c3a-1ace-40fb-86a5-143c778652c4",
   "metadata": {},
   "source": [
    "## Set executable\n",
    "```\n",
    "chmod +x file\n",
    "```"
   ]
  },
  {
   "cell_type": "code",
   "execution_count": 5,
   "id": "00f4f08f-043a-40bf-a506-79d1b2628e11",
   "metadata": {},
   "outputs": [
    {
     "name": "stdout",
     "output_type": "stream",
     "text": [
      "/data/reddylab/Kuei/repo/Proj_CombEffect_ENCODE_FCC/scripts\n"
     ]
    }
   ],
   "source": [
    "echo ${FD_EXE}"
   ]
  },
  {
   "cell_type": "code",
   "execution_count": 6,
   "id": "59f04ecc-3244-4acd-b1ef-05e697211852",
   "metadata": {},
   "outputs": [
    {
     "name": "stdout",
     "output_type": "stream",
     "text": [
      "\u001b[0m\u001b[38;5;34mconfig_func.sh\u001b[0m\n",
      "\u001b[38;5;34mconfig_path_duke_hardac.sh\u001b[0m\n",
      "\u001b[38;5;34mconfig_path_sing.sh\u001b[0m\n",
      "\u001b[38;5;34mconfig_project.sh\u001b[0m\n",
      "\u001b[38;5;34mconfig_venv_wrapper.sh\u001b[0m\n",
      "\u001b[38;5;34msing_jupyter.sh\u001b[0m\n",
      "\u001b[38;5;34msing_quarto.sh\u001b[0m\n",
      "\u001b[38;5;34msing_script.sh\u001b[0m\n"
     ]
    }
   ],
   "source": [
    "#chmod +x ${FD_EXE}/sing_*.sh\n",
    "chmod +x ${FD_EXE}/*\n",
    "ls -1 ${FD_EXE}"
   ]
  },
  {
   "cell_type": "markdown",
   "id": "44cc0760-fdf9-44ad-9dc7-6ade43408f29",
   "metadata": {
    "tags": []
   },
   "source": [
    "## Create symlinks\n",
    "```\n",
    "ln -s file link\n",
    "```"
   ]
  },
  {
   "cell_type": "markdown",
   "id": "ad336ebf-52ce-4cdd-a022-33e59efaa1fe",
   "metadata": {},
   "source": [
    "```\n",
    "<PROJECT>\n",
    "├── app\n",
    "│   └── singularity_proj_encode_fcc.sif -> <CONTAINER>/project/singularity_proj_encode_fcc.sif\n",
    "├── data    -> <WORK>/data\n",
    "├── results -> <WORK>/results\n",
    "├── scripts\n",
    "├── references\n",
    "├── notebooks\n",
    "├── docs\n",
    "├── site\n",
    "├── log     -> <WORK>/log\n",
    "├── README.md\n",
    "└── .gitignore\n",
    "```"
   ]
  },
  {
   "cell_type": "code",
   "execution_count": 28,
   "id": "010708ac-517e-435f-b775-20ec9ebdf775",
   "metadata": {},
   "outputs": [
    {
     "name": "stdout",
     "output_type": "stream",
     "text": [
      "Remove existing link.\n",
      "Create symbolic links: LINK -> FILE\n"
     ]
    }
   ],
   "source": [
    "FILE=${FD_WORK}/proj_encode_fcc/data\n",
    "LINK=${FD_PRJ}/data\n",
    "\n",
    "if [[ -h ${LINK} ]]; then\n",
    "    echo \"Remove existing link.\"\n",
    "    rm ${LINK}\n",
    "fi\n",
    "\n",
    "if [[ -e ${FILE} ]]; then\n",
    "    echo \"Create symbolic links: LINK -> FILE\"\n",
    "    ln -s ${FILE} ${LINK}\n",
    "fi"
   ]
  },
  {
   "cell_type": "code",
   "execution_count": 29,
   "id": "cd8657b8-c427-48fd-a3e8-db9143b70952",
   "metadata": {},
   "outputs": [
    {
     "name": "stdout",
     "output_type": "stream",
     "text": [
      "Remove existing link.\n",
      "Create symbolic links: LINK -> FILE\n"
     ]
    }
   ],
   "source": [
    "FILE=${FD_WORK}/proj_encode_fcc/log\n",
    "LINK=${FD_PRJ}/log\n",
    "\n",
    "if [[ -h ${LINK} ]]; then\n",
    "    echo \"Remove existing link.\"\n",
    "    rm ${LINK}\n",
    "fi\n",
    "\n",
    "if [[ -e ${FILE} ]]; then\n",
    "    echo \"Create symbolic links: LINK -> FILE\"\n",
    "    ln -s ${FILE} ${LINK}\n",
    "fi"
   ]
  },
  {
   "cell_type": "code",
   "execution_count": 33,
   "id": "bf3a3af5-7f56-4a37-b5c5-d3fa1312d8c7",
   "metadata": {},
   "outputs": [
    {
     "name": "stdout",
     "output_type": "stream",
     "text": [
      "Remove existing link.\n",
      "Create symbolic links: LINK -> FILE\n"
     ]
    }
   ],
   "source": [
    "FILE=${FD_WORK}/proj_encode_fcc/results\n",
    "LINK=${FD_PRJ}/results\n",
    "\n",
    "if [[ -h ${LINK} ]]; then\n",
    "    echo \"Remove existing link.\"\n",
    "    rm ${LINK}\n",
    "fi\n",
    "\n",
    "if [[ -e ${FILE} ]]; then\n",
    "    echo \"Create symbolic links: LINK -> FILE\"\n",
    "    ln -s ${FILE} ${LINK}\n",
    "fi"
   ]
  },
  {
   "cell_type": "markdown",
   "id": "765c50fc-bc68-4e2a-800c-e1cd18842624",
   "metadata": {},
   "source": [
    "## Check folder structure"
   ]
  },
  {
   "cell_type": "code",
   "execution_count": 34,
   "id": "3b5cdc8a-5b50-4452-9ea2-91f383d9cf9b",
   "metadata": {},
   "outputs": [
    {
     "name": "stdout",
     "output_type": "stream",
     "text": [
      "/data/reddylab/Kuei/repo/Proj_ENCODE_FCC\n",
      "\u001b[0m\u001b[38;5;27mapp\u001b[0m\n",
      "\u001b[38;5;51mdata\u001b[0m\n",
      "\u001b[38;5;27mdocs\u001b[0m\n",
      "\u001b[38;5;51mlog\u001b[0m\n",
      "\u001b[38;5;27mnotebooks\u001b[0m\n",
      "README.md\n",
      "\u001b[38;5;27mreferences\u001b[0m\n",
      "\u001b[38;5;51mresults\u001b[0m\n",
      "\u001b[38;5;27mscripts\u001b[0m\n",
      "\u001b[38;5;27msite\u001b[0m\n",
      "\u001b[38;5;27mtests\u001b[0m\n",
      "\u001b[38;5;27mtmp\u001b[0m\n"
     ]
    }
   ],
   "source": [
    "echo  ${FD_PRJ}\n",
    "ls -1 ${FD_PRJ}"
   ]
  },
  {
   "cell_type": "code",
   "execution_count": 3,
   "id": "0b844429-dfba-475e-92cd-58c9b272890e",
   "metadata": {},
   "outputs": [
    {
     "name": "stdout",
     "output_type": "stream",
     "text": [
      "/data/reddylab/Kuei/repo/Proj_CombEffect_ENCODE_FCC/tmp\n",
      "\u001b[0m\u001b[38;5;27mnotebooks_pre\u001b[0m\n",
      "\u001b[38;5;27mnotebooks_v1\u001b[0m\n",
      "\u001b[38;5;27mnotebooks_v2\u001b[0m\n",
      "\u001b[38;5;27mnotebooks_v3\u001b[0m\n",
      "\u001b[38;5;27mnotebooks_v4\u001b[0m\n",
      "test.txt\n"
     ]
    }
   ],
   "source": [
    "echo  ${FD_PRJ}/tmp\n",
    "ls -1 ${FD_PRJ}/tmp"
   ]
  },
  {
   "cell_type": "code",
   "execution_count": 35,
   "id": "0cb71740-48c5-43b2-8ec5-ced422c90900",
   "metadata": {},
   "outputs": [
    {
     "name": "stdout",
     "output_type": "stream",
     "text": [
      "\u001b[0m\u001b[38;5;27mbiocontainer\u001b[0m  \u001b[38;5;27mhome\u001b[0m  \u001b[38;5;27mproject\u001b[0m  \u001b[38;5;27mproject_backup\u001b[0m  \u001b[38;5;27mproject_tmp\u001b[0m  \u001b[38;5;27mrstudio_tmp\u001b[0m  \u001b[38;5;27mtoolbox\u001b[0m\n",
      "singularity_motif.sif            singularity_scratch.sif\n",
      "singularity_proj_encode_fcc.sif  singularity_test.sif\n"
     ]
    }
   ],
   "source": [
    "ls ${FD_SING}\n",
    "ls ${FD_SING}/project"
   ]
  },
  {
   "cell_type": "code",
   "execution_count": 36,
   "id": "cb48132d-93ba-4f37-806b-eb7010d7a06c",
   "metadata": {},
   "outputs": [
    {
     "name": "stdout",
     "output_type": "stream",
     "text": [
      "Proj_ENCODE_FCC\n",
      "Proj_ENCODE_FCC/app\n",
      "Proj_ENCODE_FCC/data\n",
      "Proj_ENCODE_FCC/data/external\n",
      "Proj_ENCODE_FCC/data/processed\n",
      "Proj_ENCODE_FCC/docs\n",
      "Proj_ENCODE_FCC/docs/01_setup\n",
      "Proj_ENCODE_FCC/docs/02_prepare\n",
      "Proj_ENCODE_FCC/docs/11_fcc_coverage\n",
      "Proj_ENCODE_FCC/docs/figure\n",
      "Proj_ENCODE_FCC/docs/notebooks\n",
      "Proj_ENCODE_FCC/docs/site_libs\n",
      "Proj_ENCODE_FCC/log\n",
      "Proj_ENCODE_FCC/notebooks\n",
      "Proj_ENCODE_FCC/notebooks/01_setup\n",
      "Proj_ENCODE_FCC/notebooks/02_prepare\n",
      "Proj_ENCODE_FCC/notebooks/31_region_nuc\n",
      "Proj_ENCODE_FCC/notebooks/32_region_coverage\n",
      "Proj_ENCODE_FCC/notebooks/33_region_annotation\n",
      "Proj_ENCODE_FCC/notebooks/41_hic_nuc\n",
      "Proj_ENCODE_FCC/notebooks/42_hic_coverage\n",
      "Proj_ENCODE_FCC/notebooks/43_hic_annotation\n",
      "Proj_ENCODE_FCC/notebooks/44_hic_meta\n",
      "Proj_ENCODE_FCC/notebooks/build_site\n",
      "Proj_ENCODE_FCC/notebooks/build_tracks\n",
      "Proj_ENCODE_FCC/notebooks/discussion\n",
      "Proj_ENCODE_FCC/notebooks/shared\n",
      "Proj_ENCODE_FCC/references\n",
      "Proj_ENCODE_FCC/references/encode_crispri_hcrff\n",
      "Proj_ENCODE_FCC/references/encode_open_chromatin\n",
      "Proj_ENCODE_FCC/results\n",
      "Proj_ENCODE_FCC/results/annotation\n",
      "Proj_ENCODE_FCC/results/assay_fcc\n",
      "Proj_ENCODE_FCC/results/assay_hic\n",
      "Proj_ENCODE_FCC/results/region\n",
      "Proj_ENCODE_FCC/scripts\n",
      "Proj_ENCODE_FCC/site\n",
      "Proj_ENCODE_FCC/site/01_setup\n",
      "Proj_ENCODE_FCC/site/02_prepare\n",
      "Proj_ENCODE_FCC/site/11_fcc_coverage\n",
      "Proj_ENCODE_FCC/site/12_fcc_comparison\n",
      "Proj_ENCODE_FCC/site/docs\n",
      "Proj_ENCODE_FCC/site/figure\n",
      "Proj_ENCODE_FCC/site/notebooks\n",
      "Proj_ENCODE_FCC/site/table\n",
      "Proj_ENCODE_FCC/tests\n",
      "Proj_ENCODE_FCC/tmp\n",
      "Proj_ENCODE_FCC/tmp/notebooks_pre\n",
      "Proj_ENCODE_FCC/tmp/notebooks_v1\n",
      "Proj_ENCODE_FCC/tmp/notebooks_v2\n",
      "Proj_ENCODE_FCC/tmp/notebooks_v3\n",
      "Proj_ENCODE_FCC/tmp/notebooks_v4\n"
     ]
    }
   ],
   "source": [
    "find -L ${FD_PRJ} -maxdepth 2 -type d -not -path '*/.*' | cut -d/ -f 6- | sort"
   ]
  },
  {
   "cell_type": "code",
   "execution_count": null,
   "id": "059c13c1-2936-4fd2-9e72-fa73c39058ac",
   "metadata": {},
   "outputs": [],
   "source": []
  }
 ],
 "metadata": {
  "kernelspec": {
   "display_name": "Bash",
   "language": "bash",
   "name": "bash"
  },
  "language_info": {
   "codemirror_mode": "shell",
   "file_extension": ".sh",
   "mimetype": "text/x-sh",
   "name": "bash"
  }
 },
 "nbformat": 4,
 "nbformat_minor": 5
}
