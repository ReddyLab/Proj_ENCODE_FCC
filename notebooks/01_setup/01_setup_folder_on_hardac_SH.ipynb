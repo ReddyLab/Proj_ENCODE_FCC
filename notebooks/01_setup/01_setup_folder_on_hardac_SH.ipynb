{
 "cells": [
  {
   "cell_type": "raw",
   "id": "345ffbda-a51c-42b1-80d5-9a40e4bac6c0",
   "metadata": {},
   "source": [
    "---\n",
    "title: Setup Envionment 01\n",
    "subtitle: Project folder structure and file arrangement on Duke HARDAC Server\n",
    "format:\n",
    "    html:\n",
    "        code-fold:  true\n",
    "        code-tools: true\n",
    "---"
   ]
  },
  {
   "cell_type": "markdown",
   "id": "2ff6d99f-c8d9-44a8-9218-9ddf2efa0cbc",
   "metadata": {},
   "source": [
    "```\n",
    "PROJECT\n",
    "├── app\n",
    "│   └── singularity_proj_encode_fcc.sif\n",
    "├── data\n",
    "│   ├── external\n",
    "│   └── processed\n",
    "├── results\n",
    "├── scripts\n",
    "├── references\n",
    "├── notebooks\n",
    "├── docs\n",
    "├── site\n",
    "├── log\n",
    "├── README.md\n",
    "└── .gitignore\n",
    "```"
   ]
  },
  {
   "cell_type": "markdown",
   "id": "8cd7f2bd-13ee-4dbe-b6a7-5e7133e5302c",
   "metadata": {},
   "source": [
    "**Set environment**"
   ]
  },
  {
   "cell_type": "code",
   "execution_count": 1,
   "id": "61d922af-6ef1-4766-9f8a-6ad1fb6d0bf4",
   "metadata": {},
   "outputs": [
    {
     "name": "stdout",
     "output_type": "stream",
     "text": [
      "You are working on             Duke HARDAC\n",
      "BASE DIRECTORY (FD_BASE):      /data/reddylab/Kuei\n",
      "REPO DIRECTORY (FD_REPO):      /data/reddylab/Kuei/repo\n",
      "WORK DIRECTORY (FD_WORK):      /data/reddylab/Kuei/work\n",
      "DATA DIRECTORY (FD_DATA):      /data/reddylab/Kuei/data\n",
      "CONTAINER DIR. (FD_SING):      /data/reddylab/Kuei/container\n",
      "\n",
      "You are working with           ENCODE FCC\n",
      "PATH OF PROJECT (FD_PRJ):      /data/reddylab/Kuei/repo/Proj_CombEffect_ENCODE_FCC\n",
      "PROJECT RESULTS (FD_RES):      /data/reddylab/Kuei/repo/Proj_CombEffect_ENCODE_FCC/results\n",
      "PROJECT SCRIPTS (FD_EXE):      /data/reddylab/Kuei/repo/Proj_CombEffect_ENCODE_FCC/scripts\n",
      "PROJECT DATA    (FD_DAT):      /data/reddylab/Kuei/repo/Proj_CombEffect_ENCODE_FCC/data\n",
      "PROJECT NOTE    (FD_NBK):      /data/reddylab/Kuei/repo/Proj_CombEffect_ENCODE_FCC/notebooks\n",
      "PROJECT DOCS    (FD_DOC):      /data/reddylab/Kuei/repo/Proj_CombEffect_ENCODE_FCC/docs\n",
      "PROJECT LOG     (FD_LOG):      /data/reddylab/Kuei/repo/Proj_CombEffect_ENCODE_FCC/log\n",
      "PROJECT APP     (FD_APP):      /data/reddylab/Kuei/repo/Proj_CombEffect_ENCODE_FCC/app\n",
      "PROJECT REF     (FD_REF):      /data/reddylab/Kuei/repo/Proj_CombEffect_ENCODE_FCC/references\n",
      "PROJECT IMAGE   (FP_PRJ_SIF):  /data/reddylab/Kuei/repo/Proj_CombEffect_ENCODE_FCC/app/singularity_proj_encode_fcc.sif\n",
      "\n"
     ]
    }
   ],
   "source": [
    "source ../get_config.sh\n",
    "show_env"
   ]
  },
  {
   "cell_type": "code",
   "execution_count": 2,
   "id": "5f819fb7-2937-4325-ae42-28b92e997223",
   "metadata": {},
   "outputs": [
    {
     "name": "stdout",
     "output_type": "stream",
     "text": [
      "/data/reddylab/Kuei/repo/Proj_CombEffect_ENCODE_FCC\n",
      "\u001b[0m\u001b[38;5;27mapp\u001b[0m\n",
      "\u001b[38;5;51mdata\u001b[0m\n",
      "\u001b[38;5;27mdocs\u001b[0m\n",
      "\u001b[38;5;51mlog\u001b[0m\n",
      "\u001b[38;5;27mnotebooks\u001b[0m\n",
      "README.md\n",
      "\u001b[38;5;27mreferences\u001b[0m\n",
      "\u001b[38;5;51mresults\u001b[0m\n",
      "\u001b[38;5;27mscripts\u001b[0m\n",
      "\u001b[38;5;27msite\u001b[0m\n",
      "\u001b[38;5;27mtests\u001b[0m\n",
      "\u001b[38;5;27mtmp\u001b[0m\n"
     ]
    }
   ],
   "source": [
    "echo  ${FD_PRJ}\n",
    "ls -1 ${FD_PRJ}"
   ]
  },
  {
   "cell_type": "code",
   "execution_count": 3,
   "id": "720eb8ba-d971-4693-925e-ab70de8d124d",
   "metadata": {},
   "outputs": [
    {
     "name": "stdout",
     "output_type": "stream",
     "text": [
      "/data/reddylab/Kuei/repo/Proj_CombEffect_ENCODE_FCC/tmp\n",
      "\u001b[0m\u001b[38;5;27mnotebooks_pre\u001b[0m\n",
      "\u001b[38;5;27mnotebooks_v1\u001b[0m\n",
      "\u001b[38;5;27mnotebooks_v2\u001b[0m\n",
      "\u001b[38;5;27mnotebooks_v3\u001b[0m\n",
      "\u001b[38;5;27mnotebooks_v4\u001b[0m\n",
      "test.txt\n"
     ]
    }
   ],
   "source": [
    "echo  ${FD_PRJ}/tmp\n",
    "ls -1 ${FD_PRJ}/tmp"
   ]
  },
  {
   "cell_type": "code",
   "execution_count": 4,
   "id": "f49bbde4-21d3-4dbc-8cd5-9f51a1b39b12",
   "metadata": {},
   "outputs": [
    {
     "name": "stdout",
     "output_type": "stream",
     "text": [
      "\u001b[0m\u001b[38;5;27mbiocontainer\u001b[0m  \u001b[38;5;27mhome\u001b[0m  \u001b[38;5;27mproject\u001b[0m  \u001b[38;5;27mproject_backup\u001b[0m  \u001b[38;5;27mproject_tmp\u001b[0m  \u001b[38;5;27mrstudio_tmp\u001b[0m  \u001b[38;5;27mtoolbox\u001b[0m\n",
      "singularity_motif.sif            singularity_scratch.sif\n",
      "singularity_proj_encode_fcc.sif  singularity_test.sif\n"
     ]
    }
   ],
   "source": [
    "ls ${FD_SING}\n",
    "ls ${FD_SING}/project"
   ]
  },
  {
   "cell_type": "markdown",
   "id": "b6b13c3a-1ace-40fb-86a5-143c778652c4",
   "metadata": {},
   "source": [
    "## Set executable\n",
    "```\n",
    "chmod +x file\n",
    "```"
   ]
  },
  {
   "cell_type": "code",
   "execution_count": 5,
   "id": "00f4f08f-043a-40bf-a506-79d1b2628e11",
   "metadata": {},
   "outputs": [
    {
     "name": "stdout",
     "output_type": "stream",
     "text": [
      "/data/reddylab/Kuei/repo/Proj_CombEffect_ENCODE_FCC/scripts\n"
     ]
    }
   ],
   "source": [
    "echo ${FD_EXE}"
   ]
  },
  {
   "cell_type": "code",
   "execution_count": 6,
   "id": "59f04ecc-3244-4acd-b1ef-05e697211852",
   "metadata": {},
   "outputs": [
    {
     "name": "stdout",
     "output_type": "stream",
     "text": [
      "\u001b[0m\u001b[38;5;34mconfig_func.sh\u001b[0m\n",
      "\u001b[38;5;34mconfig_path_duke_hardac.sh\u001b[0m\n",
      "\u001b[38;5;34mconfig_path_sing.sh\u001b[0m\n",
      "\u001b[38;5;34mconfig_project.sh\u001b[0m\n",
      "\u001b[38;5;34mconfig_venv_wrapper.sh\u001b[0m\n",
      "\u001b[38;5;34msing_jupyter.sh\u001b[0m\n",
      "\u001b[38;5;34msing_quarto.sh\u001b[0m\n",
      "\u001b[38;5;34msing_script.sh\u001b[0m\n"
     ]
    }
   ],
   "source": [
    "#chmod +x ${FD_EXE}/sing_*.sh\n",
    "chmod +x ${FD_EXE}/*\n",
    "ls -1 ${FD_EXE}"
   ]
  },
  {
   "cell_type": "markdown",
   "id": "44cc0760-fdf9-44ad-9dc7-6ade43408f29",
   "metadata": {
    "tags": []
   },
   "source": [
    "## Create symlinks\n",
    "```\n",
    "ln -s file link\n",
    "```"
   ]
  },
  {
   "cell_type": "markdown",
   "id": "ad336ebf-52ce-4cdd-a022-33e59efaa1fe",
   "metadata": {},
   "source": [
    "```\n",
    "<PROJECT>\n",
    "├── app\n",
    "│   └── singularity_proj_encode_fcc.sif -> <CONTAINER>/project/singularity_proj_encode_fcc.sif\n",
    "├── data    -> <WORK>/data\n",
    "├── results -> <WORK>/results\n",
    "├── scripts\n",
    "├── references\n",
    "├── notebooks\n",
    "├── docs\n",
    "├── site\n",
    "├── log     -> <WORK>/log\n",
    "├── README.md\n",
    "└── .gitignore\n",
    "```"
   ]
  },
  {
   "cell_type": "code",
   "execution_count": 7,
   "id": "5a2017ee-8812-438c-9f31-5a2e2b3940da",
   "metadata": {},
   "outputs": [
    {
     "name": "stdout",
     "output_type": "stream",
     "text": [
      "FILE exist.\n",
      "LINK exist.\n",
      "Both FILE and LINK exist.\n",
      "- FILE is not a symbolic link\n",
      "- LINK is a symbolic link\n",
      "\n",
      "\u001b[0m\u001b[38;5;27m/data/reddylab/Kuei/work/proj_combeffect_encode_fcc/data\u001b[0m\n",
      "lrwxrwxrwx 1 kk319 reddylab 56 Feb 15 11:14 \u001b[0m\u001b[38;5;51m/data/reddylab/Kuei/repo/Proj_CombEffect_ENCODE_FCC/data\u001b[0m -> \u001b[38;5;27m/data/reddylab/Kuei/work/proj_combeffect_encode_fcc/data\u001b[0m\u001b[K\n"
     ]
    }
   ],
   "source": [
    "FILE=${FD_WORK}/proj_combeffect_encode_fcc/data\n",
    "LINK=${FD_PRJ}/data\n",
    "\n",
    "if [[ -e ${FILE} ]]; then\n",
    "    echo \"FILE exist.\"\n",
    "else\n",
    "    echo \"FILE does not exist\"\n",
    "fi\n",
    "\n",
    "if [[ -e ${LINK} ]]; then\n",
    "    echo \"LINK exist.\"\n",
    "else\n",
    "    echo \"LINK does not exist\"\n",
    "fi\n",
    "\n",
    "if [[ -e ${FILE} && ! -e ${LINK} ]]; then\n",
    "    echo \"Create symbolic links: LINK -> FILE\"\n",
    "    ln -s ${FILE} ${LINK}\n",
    "fi\n",
    "\n",
    "if [[ -e ${FILE}  &&  -e ${LINK} ]]; then\n",
    "    echo \"Both FILE and LINK exist.\"\n",
    "    \n",
    "    if [ -h ${FILE} ]; then\n",
    "        echo \"- FILE is a symbolic link\"\n",
    "    else\n",
    "        echo \"- FILE is not a symbolic link\"\n",
    "    fi\n",
    "    \n",
    "    if [ -h ${LINK} ]; then\n",
    "        echo \"- LINK is a symbolic link\"\n",
    "    else\n",
    "        echo \"- LINK is not a symbolic link\"\n",
    "    fi\n",
    "    \n",
    "else\n",
    "    echo \"either FILE or LINK does not exist.\"\n",
    "fi\n",
    "\n",
    "echo\n",
    "ls -d ${FILE}\n",
    "ls -l ${LINK}"
   ]
  },
  {
   "cell_type": "code",
   "execution_count": 8,
   "id": "9abca4fd-d79e-4b22-b372-9bdd94723a07",
   "metadata": {
    "tags": []
   },
   "outputs": [
    {
     "name": "stdout",
     "output_type": "stream",
     "text": [
      "FILE exist.\n",
      "LINK exist.\n",
      "\n",
      "\u001b[0m\u001b[38;5;27m/data/reddylab/Kuei/work/proj_combeffect_encode_fcc/log\u001b[0m\n",
      "lrwxrwxrwx 1 kk319 reddylab 55 Feb 15 11:14 \u001b[0m\u001b[38;5;51m/data/reddylab/Kuei/repo/Proj_CombEffect_ENCODE_FCC/log\u001b[0m -> \u001b[38;5;27m/data/reddylab/Kuei/work/proj_combeffect_encode_fcc/log\u001b[0m\u001b[K\n"
     ]
    }
   ],
   "source": [
    "FILE=${FD_WORK}/proj_combeffect_encode_fcc/log\n",
    "LINK=${FD_PRJ}/log\n",
    "\n",
    "if [[ -e ${FILE} ]]; then\n",
    "    echo \"FILE exist.\"\n",
    "else\n",
    "    echo \"FILE does not exist\"\n",
    "fi\n",
    "\n",
    "if [[ -e ${LINK} ]]; then\n",
    "    echo \"LINK exist.\"\n",
    "else\n",
    "    echo \"LINK does not exist\"\n",
    "fi\n",
    "\n",
    "if [[ -e ${FILE} && ! -e ${LINK} ]]; then\n",
    "    echo \"Create symbolic links: LINK -> FILE\"\n",
    "    ln -s ${FILE} ${LINK}\n",
    "fi\n",
    "\n",
    "echo\n",
    "ls -d ${FILE}\n",
    "ls -l ${LINK}"
   ]
  },
  {
   "cell_type": "code",
   "execution_count": 9,
   "id": "bc8e163c-8568-47e2-a16e-cc4bfb571943",
   "metadata": {},
   "outputs": [
    {
     "name": "stdout",
     "output_type": "stream",
     "text": [
      "FILE exist.\n",
      "LINK exist.\n",
      "\n",
      "\u001b[0m\u001b[38;5;27m/data/reddylab/Kuei/work/proj_combeffect_encode_fcc/results\u001b[0m\n",
      "lrwxrwxrwx 1 kk319 reddylab 59 Feb 15 11:14 \u001b[0m\u001b[38;5;51m/data/reddylab/Kuei/repo/Proj_CombEffect_ENCODE_FCC/results\u001b[0m -> \u001b[38;5;27m/data/reddylab/Kuei/work/proj_combeffect_encode_fcc/results\u001b[0m\u001b[K\n"
     ]
    }
   ],
   "source": [
    "FILE=${FD_WORK}/proj_combeffect_encode_fcc/results\n",
    "LINK=${FD_PRJ}/results\n",
    "\n",
    "if [[ -e ${FILE} ]]; then\n",
    "    echo \"FILE exist.\"\n",
    "else\n",
    "    echo \"FILE does not exist\"\n",
    "fi\n",
    "\n",
    "if [[ -e ${LINK} ]]; then\n",
    "    echo \"LINK exist.\"\n",
    "else\n",
    "    echo \"LINK does not exist\"\n",
    "fi\n",
    "\n",
    "if [[ -e ${FILE} && ! -e ${LINK} ]]; then\n",
    "    echo \"Create symbolic links: LINK -> FILE\"\n",
    "    ln -s ${FILE} ${LINK}\n",
    "fi\n",
    "\n",
    "echo\n",
    "ls -d ${FILE}\n",
    "ls -l ${LINK}"
   ]
  },
  {
   "cell_type": "code",
   "execution_count": 10,
   "id": "d51509d9-6f71-4d16-8c9a-6a4b1e290d55",
   "metadata": {},
   "outputs": [
    {
     "name": "stdout",
     "output_type": "stream",
     "text": [
      "FILE exist.\n",
      "LINK exist.\n",
      "\n",
      "-rw-rw-r-- 1 kk319 reddylab 2.7G Oct 22 12:26 /data/reddylab/Kuei/container/project/singularity_proj_encode_fcc.sif\n",
      "lrwxrwxrwx 1 kk319 reddylab 69 Feb 12 17:20 \u001b[0m\u001b[38;5;51m/data/reddylab/Kuei/repo/Proj_CombEffect_ENCODE_FCC/app/singularity_proj_encode_fcc.sif\u001b[0m\u001b[K -> /data/reddylab/Kuei/container/project/singularity_proj_encode_fcc.sif\n"
     ]
    }
   ],
   "source": [
    "FILE=${FD_SING}/project/singularity_proj_encode_fcc.sif\n",
    "LINK=${FD_APP}/singularity_proj_encode_fcc.sif\n",
    "\n",
    "if [[ -e ${FILE} ]]; then\n",
    "    echo \"FILE exist.\"\n",
    "else\n",
    "    echo \"FILE does not exist\"\n",
    "fi\n",
    "\n",
    "if [[ -e ${LINK} ]]; then\n",
    "    echo \"LINK exist.\"\n",
    "else\n",
    "    echo \"LINK does not exist\"\n",
    "fi\n",
    "\n",
    "if [[ -e ${FILE} && ! -e ${LINK} ]]; then\n",
    "    echo \"Create symbolic links: LINK -> FILE\"\n",
    "    ln -s ${FILE} ${LINK}\n",
    "fi\n",
    "\n",
    "echo\n",
    "ls -lh ${FILE}\n",
    "ls -lh ${LINK}"
   ]
  },
  {
   "cell_type": "markdown",
   "id": "b62655c8-0382-4441-b0d9-7c22f0b1ade2",
   "metadata": {},
   "source": [
    "## Results"
   ]
  },
  {
   "cell_type": "markdown",
   "id": "5aec0d4a-8f11-4870-9f2e-34fdc6a8ff90",
   "metadata": {},
   "source": [
    "```\n",
    "STARR_ATAC_K562_Reddy_KS91\n",
    "STARR_WHG_K562_Reddy_A001\n",
    "MPRA_Tiling_K562_Tewhey_hannah\n",
    "MPRA_Lenti_K562_Nadav_vikram\n",
    "CRISPRi_FlowFISH_K562_Riley\n",
    "CRISPRi_Growth_K562_Gersbach\n",
    "```"
   ]
  },
  {
   "cell_type": "code",
   "execution_count": null,
   "id": "e4e88f41-417e-4254-bb19-6df80d6a0549",
   "metadata": {},
   "outputs": [],
   "source": []
  },
  {
   "cell_type": "code",
   "execution_count": null,
   "id": "6307a818-0820-4efe-9e90-71333bfb05d6",
   "metadata": {},
   "outputs": [],
   "source": []
  },
  {
   "cell_type": "markdown",
   "id": "bc68cd42-c069-4902-9a50-13b21fb141ce",
   "metadata": {},
   "source": [
    "## Check folder structure"
   ]
  },
  {
   "cell_type": "code",
   "execution_count": 11,
   "id": "ae648e52-4600-4f83-b92e-728000e1ccdd",
   "metadata": {},
   "outputs": [
    {
     "name": "stdout",
     "output_type": "stream",
     "text": [
      "total 2\n",
      "drwxrwsr-x+ 2 kk319 reddylab 512 Feb 15 14:04 \u001b[0m\u001b[38;5;27mexternal\u001b[0m\n",
      "drwxrwsr-x+ 2 kk319 reddylab 512 Feb 15 14:04 \u001b[38;5;27mprocessed\u001b[0m\n"
     ]
    }
   ],
   "source": [
    "ls -l /data/reddylab/Kuei/work/proj_combeffect_encode_fcc/data"
   ]
  },
  {
   "cell_type": "code",
   "execution_count": 12,
   "id": "88b91494-9388-4354-b10c-d008e4ddd517",
   "metadata": {},
   "outputs": [
    {
     "name": "stdout",
     "output_type": "stream",
     "text": [
      "total 0\n"
     ]
    }
   ],
   "source": [
    "ls -l /data/reddylab/Kuei/work/proj_combeffect_encode_fcc/results"
   ]
  },
  {
   "cell_type": "code",
   "execution_count": 2,
   "id": "c5afb7c0-5169-4e69-8b31-6c16defcd3dc",
   "metadata": {},
   "outputs": [
    {
     "name": "stdout",
     "output_type": "stream",
     "text": [
      "total 2107793\n",
      "-rw-rw-r-- 1 kk319 reddylab    1225 Oct 17  2022 annotate_astarr_gata1.0.txt\n",
      "-rw-rw-r-- 1 kk319 reddylab    1222 Oct 17  2022 annotate_astarr_gata1.1.txt\n",
      "-rw-rw-r-- 1 kk319 reddylab    1207 Oct 17  2022 annotate_astarr_gata1.2.txt\n",
      "-rw-rw-r-- 1 kk319 reddylab    1201 Oct 17  2022 annotate_astarr_gata1.3.txt\n",
      "-rw-rw-r-- 1 kk319 reddylab    1223 Oct 17  2022 annotate_astarr_gata1.4.txt\n",
      "-rw-rw-r-- 1 kk319 reddylab    1217 Oct 17  2022 annotate_astarr_gata1.5.txt\n",
      "-rw-rw-r-- 1 kk319 reddylab    1210 Oct 17  2022 annotate_astarr_gata1.6.txt\n",
      "-rw-rw-r-- 1 kk319 reddylab    1209 Oct 17  2022 annotate_astarr_gata1.7.txt\n",
      "-rw-rw-r-- 1 kk319 reddylab    1194 Oct 17  2022 annotate_astarr_gata1.8.txt\n"
     ]
    }
   ],
   "source": [
    "ls -l /data/reddylab/Kuei/work/proj_combeffect_encode_fcc/log | head"
   ]
  },
  {
   "cell_type": "code",
   "execution_count": 13,
   "id": "53f9c699-a9c9-4c14-9460-d97d9c2bb497",
   "metadata": {},
   "outputs": [
    {
     "name": "stdout",
     "output_type": "stream",
     "text": [
      "total 2107793\n",
      "-rw-rw-r-- 1 kk319 reddylab    1225 Oct 17  2022 annotate_astarr_gata1.0.txt\n",
      "-rw-rw-r-- 1 kk319 reddylab    1222 Oct 17  2022 annotate_astarr_gata1.1.txt\n",
      "-rw-rw-r-- 1 kk319 reddylab    1207 Oct 17  2022 annotate_astarr_gata1.2.txt\n",
      "-rw-rw-r-- 1 kk319 reddylab    1201 Oct 17  2022 annotate_astarr_gata1.3.txt\n",
      "-rw-rw-r-- 1 kk319 reddylab    1223 Oct 17  2022 annotate_astarr_gata1.4.txt\n",
      "-rw-rw-r-- 1 kk319 reddylab    1217 Oct 17  2022 annotate_astarr_gata1.5.txt\n",
      "-rw-rw-r-- 1 kk319 reddylab    1210 Oct 17  2022 annotate_astarr_gata1.6.txt\n",
      "-rw-rw-r-- 1 kk319 reddylab    1209 Oct 17  2022 annotate_astarr_gata1.7.txt\n",
      "-rw-rw-r-- 1 kk319 reddylab    1194 Oct 17  2022 annotate_astarr_gata1.8.txt\n",
      "ls: write error: Broken pipe\n"
     ]
    }
   ],
   "source": [
    "ls -l /data/reddylab/Kuei/work/proj_combeffect_encode_fcc/log | head"
   ]
  },
  {
   "cell_type": "code",
   "execution_count": 4,
   "id": "3dd30266-ec95-44d4-9af6-2bf75ea99e33",
   "metadata": {},
   "outputs": [
    {
     "name": "stdout",
     "output_type": "stream",
     "text": [
      "\u001b[0m\u001b[38;5;27mapp\u001b[0m\n",
      "\u001b[38;5;51mdata\u001b[0m\n",
      "\u001b[38;5;27mdocs\u001b[0m\n",
      "\u001b[38;5;51mlog\u001b[0m\n",
      "\u001b[38;5;27mnotebooks\u001b[0m\n",
      "README.md\n",
      "\u001b[38;5;27mreferences\u001b[0m\n",
      "\u001b[38;5;51mresults\u001b[0m\n",
      "\u001b[38;5;27mscripts\u001b[0m\n",
      "\u001b[38;5;27msite\u001b[0m\n",
      "\u001b[38;5;27mtests\u001b[0m\n",
      "\u001b[38;5;27mtmp\u001b[0m\n"
     ]
    }
   ],
   "source": [
    "ls -1 ${FD_PRJ}"
   ]
  },
  {
   "cell_type": "code",
   "execution_count": 33,
   "id": "7254dbb0-faf4-4625-847c-54684025120f",
   "metadata": {},
   "outputs": [
    {
     "name": "stdout",
     "output_type": "stream",
     "text": [
      "Proj_CombEffect_ENCODE_FCC\n",
      "Proj_CombEffect_ENCODE_FCC/app\n",
      "Proj_CombEffect_ENCODE_FCC/data\n",
      "Proj_CombEffect_ENCODE_FCC/data/external\n",
      "Proj_CombEffect_ENCODE_FCC/data/processed\n",
      "Proj_CombEffect_ENCODE_FCC/docs\n",
      "Proj_CombEffect_ENCODE_FCC/docs/figure\n",
      "Proj_CombEffect_ENCODE_FCC/docs/site_libs\n",
      "Proj_CombEffect_ENCODE_FCC/log\n",
      "Proj_CombEffect_ENCODE_FCC/notebooks\n",
      "Proj_CombEffect_ENCODE_FCC/notebooks/00_setup\n",
      "Proj_CombEffect_ENCODE_FCC/notebooks/01_data_download\n",
      "Proj_CombEffect_ENCODE_FCC/notebooks/02_data_prepare\n",
      "Proj_CombEffect_ENCODE_FCC/notebooks/32_region_coverage\n",
      "Proj_CombEffect_ENCODE_FCC/notebooks/build_site\n",
      "Proj_CombEffect_ENCODE_FCC/notebooks/build_tracks\n",
      "Proj_CombEffect_ENCODE_FCC/references\n",
      "Proj_CombEffect_ENCODE_FCC/results\n",
      "Proj_CombEffect_ENCODE_FCC/results/annotation\n",
      "Proj_CombEffect_ENCODE_FCC/results/assay_fcc\n",
      "Proj_CombEffect_ENCODE_FCC/results/assay_hic\n",
      "Proj_CombEffect_ENCODE_FCC/results/region\n",
      "Proj_CombEffect_ENCODE_FCC/scripts\n",
      "Proj_CombEffect_ENCODE_FCC/site\n",
      "Proj_CombEffect_ENCODE_FCC/site/docs\n",
      "Proj_CombEffect_ENCODE_FCC/site/figure\n",
      "Proj_CombEffect_ENCODE_FCC/tests\n",
      "Proj_CombEffect_ENCODE_FCC/tmp\n",
      "Proj_CombEffect_ENCODE_FCC/tmp/notebooks_pre\n",
      "Proj_CombEffect_ENCODE_FCC/tmp/notebooks_v1\n",
      "Proj_CombEffect_ENCODE_FCC/tmp/notebooks_v2\n",
      "Proj_CombEffect_ENCODE_FCC/tmp/notebooks_v3\n",
      "Proj_CombEffect_ENCODE_FCC/tmp/notebooks_v4\n"
     ]
    }
   ],
   "source": [
    "cd ${FD_PRJ}\n",
    "find -L ${FD_PRJ} -maxdepth 2 -type d -not -path '*/.*' | cut -d/ -f 6- | sort"
   ]
  },
  {
   "cell_type": "code",
   "execution_count": null,
   "id": "059c13c1-2936-4fd2-9e72-fa73c39058ac",
   "metadata": {},
   "outputs": [],
   "source": []
  }
 ],
 "metadata": {
  "kernelspec": {
   "display_name": "Bash",
   "language": "bash",
   "name": "bash"
  },
  "language_info": {
   "codemirror_mode": "shell",
   "file_extension": ".sh",
   "mimetype": "text/x-sh",
   "name": "bash"
  }
 },
 "nbformat": 4,
 "nbformat_minor": 5
}
