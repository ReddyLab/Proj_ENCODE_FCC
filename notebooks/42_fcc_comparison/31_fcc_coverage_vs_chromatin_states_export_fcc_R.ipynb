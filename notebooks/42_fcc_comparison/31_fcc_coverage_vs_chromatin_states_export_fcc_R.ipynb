{
 "cells": [
  {
   "cell_type": "raw",
   "id": "7f2adb7c-7e7e-4766-b6c7-7e0dfa66c0df",
   "metadata": {},
   "source": [
    "---\n",
    "title: FCC coverage vs ENCODE cCREs/ChromHMM 01\n",
    "subtitle: Label STARR/MPRA CRE screened by STARR/MPRA\n",
    "format:\n",
    "    html:\n",
    "        code-fold:  true\n",
    "        code-tools: true\n",
    "---"
   ]
  },
  {
   "cell_type": "markdown",
   "id": "2d3fb912-3f34-4975-bd99-9892e323db63",
   "metadata": {},
   "source": [
    "**Set environment**"
   ]
  },
  {
   "cell_type": "code",
   "execution_count": 1,
   "id": "031e04c8-e939-4998-aebd-438b2325a2d7",
   "metadata": {
    "tags": []
   },
   "outputs": [
    {
     "name": "stdout",
     "output_type": "stream",
     "text": [
      "You are working on        Singularity: singularity_proj_encode_fcc \n",
      "BASE DIRECTORY (FD_BASE): /data/reddylab/Kuei \n",
      "REPO DIRECTORY (FD_REPO): /data/reddylab/Kuei/repo \n",
      "WORK DIRECTORY (FD_WORK): /data/reddylab/Kuei/work \n",
      "DATA DIRECTORY (FD_DATA): /data/reddylab/Kuei/data \n",
      "\n",
      "You are working with      ENCODE FCC \n",
      "PATH OF PROJECT (FD_PRJ): /data/reddylab/Kuei/repo/Proj_ENCODE_FCC \n",
      "PROJECT RESULTS (FD_RES): /data/reddylab/Kuei/repo/Proj_ENCODE_FCC/results \n",
      "PROJECT SCRIPTS (FD_EXE): /data/reddylab/Kuei/repo/Proj_ENCODE_FCC/scripts \n",
      "PROJECT DATA    (FD_DAT): /data/reddylab/Kuei/repo/Proj_ENCODE_FCC/data \n",
      "PROJECT NOTE    (FD_NBK): /data/reddylab/Kuei/repo/Proj_ENCODE_FCC/notebooks \n",
      "PROJECT DOCS    (FD_DOC): /data/reddylab/Kuei/repo/Proj_ENCODE_FCC/docs \n",
      "PROJECT LOG     (FD_LOG): /data/reddylab/Kuei/repo/Proj_ENCODE_FCC/log \n",
      "PROJECT REF     (FD_REF): /data/reddylab/Kuei/repo/Proj_ENCODE_FCC/references \n",
      "\n"
     ]
    }
   ],
   "source": [
    "suppressMessages(suppressWarnings(source(\"../run_config_project_sing.R\")))\n",
    "show_env()"
   ]
  },
  {
   "cell_type": "markdown",
   "id": "a3f86643-fa34-4b48-9306-eb990f47a739",
   "metadata": {},
   "source": [
    "## Prepare"
   ]
  },
  {
   "cell_type": "markdown",
   "id": "69ef540b-c15f-4809-92a1-101e085892b7",
   "metadata": {},
   "source": [
    "**Set global variable**"
   ]
  },
  {
   "cell_type": "code",
   "execution_count": 2,
   "id": "9779d787-929f-4f9f-a5c1-c1ceec9b8c1e",
   "metadata": {},
   "outputs": [
    {
     "name": "stdout",
     "output_type": "stream",
     "text": [
      "fcc_astarr_macs_input_overlap \n",
      "fcc_astarr_macs_input_union \n"
     ]
    }
   ],
   "source": [
    "vec = c(\n",
    "    \"fcc_astarr_macs_input_overlap\",\n",
    "    \"fcc_astarr_macs_input_union\"\n",
    ")\n",
    "names(vec) = vec\n",
    "\n",
    "VEC_TXT_FOLDER = vec\n",
    "for(txt in vec){cat(txt, \"\\n\")}"
   ]
  },
  {
   "cell_type": "markdown",
   "id": "092b00d2-3399-4b73-911f-02efef92afce",
   "metadata": {},
   "source": [
    "**View files: FCC region coverage**"
   ]
  },
  {
   "cell_type": "code",
   "execution_count": 3,
   "id": "274901fa-4b76-4fd2-914c-d0f8c9c3370a",
   "metadata": {},
   "outputs": [
    {
     "name": "stdout",
     "output_type": "stream",
     "text": [
      "/data/reddylab/Kuei/repo/Proj_ENCODE_FCC/results/region_coverage_fcc_score/fcc_astarr_macs_input_overlap/summary/region.coverage.score.atac.tsv \n",
      "/data/reddylab/Kuei/repo/Proj_ENCODE_FCC/results/region_coverage_fcc_score/fcc_astarr_macs_input_overlap/summary/region.coverage.score.fcc.final.tsv \n",
      "/data/reddylab/Kuei/repo/Proj_ENCODE_FCC/results/region_coverage_fcc_score/fcc_astarr_macs_input_overlap/summary/region.coverage.score.fcc.test.tsv \n",
      "/data/reddylab/Kuei/repo/Proj_ENCODE_FCC/results/region_coverage_fcc_score/fcc_astarr_macs_input_overlap/summary/region.coverage.score.fcc.total.tsv \n"
     ]
    }
   ],
   "source": [
    "txt_folder = VEC_TXT_FOLDER[1]\n",
    "txt_fdiry  = file.path(FD_RES, \"region_coverage_fcc_score\", txt_folder, \"summary\")\n",
    "txt_fname  = \"region.coverage.score.*.tsv\"\n",
    "txt_fglob  = file.path(txt_fdiry, txt_fname)\n",
    "\n",
    "vec = Sys.glob(txt_fglob)\n",
    "for (txt in vec) {cat(txt, \"\\n\")}"
   ]
  },
  {
   "cell_type": "markdown",
   "id": "b195eb76-13a2-413a-ab05-675c6e163582",
   "metadata": {},
   "source": [
    "**View files: STARR/MPRA CREs**"
   ]
  },
  {
   "cell_type": "code",
   "execution_count": 4,
   "id": "731a0533-6d68-41d7-8231-aa9953c3b64d",
   "metadata": {},
   "outputs": [
    {
     "name": "stdout",
     "output_type": "stream",
     "text": [
      "region.annotation.encode_chromatin_states.ccres.chromhmm.tsv \n",
      "region.annotation.encode_chromatin_states.ccres.tsv \n",
      "region.annotation.encode_chromatin_states.chromhmm.tsv \n",
      "region.annotation.encode_chromatin_states.ccres.chromhmm.tsv \n",
      "region.annotation.encode_chromatin_states.ccres.tsv \n",
      "region.annotation.encode_chromatin_states.chromhmm.tsv \n"
     ]
    }
   ],
   "source": [
    "txt_fdiry = file.path(FD_RES, \"region_annotation\", \"*\", \"summary\")\n",
    "txt_fname = \"region.annotation.encode_chromatin_states.*.tsv\"\n",
    "txt_fglob = file.path(txt_fdiry, txt_fname)\n",
    "\n",
    "vec = Sys.glob(txt_fglob)\n",
    "vec = basename(vec)\n",
    "for(txt in vec){cat(txt, \"\\n\")}"
   ]
  },
  {
   "cell_type": "markdown",
   "id": "14d8322b-4b60-45d1-ade3-a1901c2a0a2c",
   "metadata": {},
   "source": [
    "## Import data"
   ]
  },
  {
   "cell_type": "markdown",
   "id": "6208e3a5-fb9d-4467-979a-823e9da25f3d",
   "metadata": {},
   "source": [
    "**Import FCC region coverage scores**"
   ]
  },
  {
   "cell_type": "code",
   "execution_count": 5,
   "id": "f7902e92-0a5f-4935-b5fd-15b55daf40c7",
   "metadata": {},
   "outputs": [
    {
     "name": "stdout",
     "output_type": "stream",
     "text": [
      "$fcc_astarr_macs_input_overlap\n",
      "[1] 432928     11\n",
      "\n",
      "$fcc_astarr_macs_input_union\n",
      "[1] 639718     11\n",
      "\n"
     ]
    },
    {
     "data": {
      "text/html": [
       "<table class=\"dataframe\">\n",
       "<caption>A tibble: 3 × 11</caption>\n",
       "<thead>\n",
       "\t<tr><th scope=col>Chrom</th><th scope=col>ChromStart</th><th scope=col>ChromEnd</th><th scope=col>Region</th><th scope=col>Score</th><th scope=col>Zcore</th><th scope=col>Score_Label</th><th scope=col>Zcore_Label</th><th scope=col>Assay_Folder</th><th scope=col>Assay_Group</th><th scope=col>Assay_Label</th></tr>\n",
       "\t<tr><th scope=col>&lt;chr&gt;</th><th scope=col>&lt;dbl&gt;</th><th scope=col>&lt;dbl&gt;</th><th scope=col>&lt;chr&gt;</th><th scope=col>&lt;dbl&gt;</th><th scope=col>&lt;dbl&gt;</th><th scope=col>&lt;chr&gt;</th><th scope=col>&lt;chr&gt;</th><th scope=col>&lt;chr&gt;</th><th scope=col>&lt;chr&gt;</th><th scope=col>&lt;chr&gt;</th></tr>\n",
       "</thead>\n",
       "<tbody>\n",
       "\t<tr><td>chr1</td><td>10038</td><td>10405</td><td>chr1:10038-10405</td><td>-2.23485265</td><td>-3.5573621</td><td>Log2FC</td><td>Scale(Log2FC)</td><td>STARR_ATAC_K562_Reddy_KS91</td><td>ASTARR_KS91</td><td>ASTARR</td></tr>\n",
       "\t<tr><td>chr1</td><td>14282</td><td>14614</td><td>chr1:14282-14614</td><td> 0.03179044</td><td> 0.0361388</td><td>Log2FC</td><td>Scale(Log2FC)</td><td>STARR_ATAC_K562_Reddy_KS91</td><td>ASTARR_KS91</td><td>ASTARR</td></tr>\n",
       "\t<tr><td>chr1</td><td>16025</td><td>16338</td><td>chr1:16025-16338</td><td>-1.33934060</td><td>-2.1376311</td><td>Log2FC</td><td>Scale(Log2FC)</td><td>STARR_ATAC_K562_Reddy_KS91</td><td>ASTARR_KS91</td><td>ASTARR</td></tr>\n",
       "</tbody>\n",
       "</table>\n"
      ],
      "text/latex": [
       "A tibble: 3 × 11\n",
       "\\begin{tabular}{lllllllllll}\n",
       " Chrom & ChromStart & ChromEnd & Region & Score & Zcore & Score\\_Label & Zcore\\_Label & Assay\\_Folder & Assay\\_Group & Assay\\_Label\\\\\n",
       " <chr> & <dbl> & <dbl> & <chr> & <dbl> & <dbl> & <chr> & <chr> & <chr> & <chr> & <chr>\\\\\n",
       "\\hline\n",
       "\t chr1 & 10038 & 10405 & chr1:10038-10405 & -2.23485265 & -3.5573621 & Log2FC & Scale(Log2FC) & STARR\\_ATAC\\_K562\\_Reddy\\_KS91 & ASTARR\\_KS91 & ASTARR\\\\\n",
       "\t chr1 & 14282 & 14614 & chr1:14282-14614 &  0.03179044 &  0.0361388 & Log2FC & Scale(Log2FC) & STARR\\_ATAC\\_K562\\_Reddy\\_KS91 & ASTARR\\_KS91 & ASTARR\\\\\n",
       "\t chr1 & 16025 & 16338 & chr1:16025-16338 & -1.33934060 & -2.1376311 & Log2FC & Scale(Log2FC) & STARR\\_ATAC\\_K562\\_Reddy\\_KS91 & ASTARR\\_KS91 & ASTARR\\\\\n",
       "\\end{tabular}\n"
      ],
      "text/markdown": [
       "\n",
       "A tibble: 3 × 11\n",
       "\n",
       "| Chrom &lt;chr&gt; | ChromStart &lt;dbl&gt; | ChromEnd &lt;dbl&gt; | Region &lt;chr&gt; | Score &lt;dbl&gt; | Zcore &lt;dbl&gt; | Score_Label &lt;chr&gt; | Zcore_Label &lt;chr&gt; | Assay_Folder &lt;chr&gt; | Assay_Group &lt;chr&gt; | Assay_Label &lt;chr&gt; |\n",
       "|---|---|---|---|---|---|---|---|---|---|---|\n",
       "| chr1 | 10038 | 10405 | chr1:10038-10405 | -2.23485265 | -3.5573621 | Log2FC | Scale(Log2FC) | STARR_ATAC_K562_Reddy_KS91 | ASTARR_KS91 | ASTARR |\n",
       "| chr1 | 14282 | 14614 | chr1:14282-14614 |  0.03179044 |  0.0361388 | Log2FC | Scale(Log2FC) | STARR_ATAC_K562_Reddy_KS91 | ASTARR_KS91 | ASTARR |\n",
       "| chr1 | 16025 | 16338 | chr1:16025-16338 | -1.33934060 | -2.1376311 | Log2FC | Scale(Log2FC) | STARR_ATAC_K562_Reddy_KS91 | ASTARR_KS91 | ASTARR |\n",
       "\n"
      ],
      "text/plain": [
       "  Chrom ChromStart ChromEnd Region           Score       Zcore      Score_Label\n",
       "1 chr1  10038      10405    chr1:10038-10405 -2.23485265 -3.5573621 Log2FC     \n",
       "2 chr1  14282      14614    chr1:14282-14614  0.03179044  0.0361388 Log2FC     \n",
       "3 chr1  16025      16338    chr1:16025-16338 -1.33934060 -2.1376311 Log2FC     \n",
       "  Zcore_Label   Assay_Folder               Assay_Group Assay_Label\n",
       "1 Scale(Log2FC) STARR_ATAC_K562_Reddy_KS91 ASTARR_KS91 ASTARR     \n",
       "2 Scale(Log2FC) STARR_ATAC_K562_Reddy_KS91 ASTARR_KS91 ASTARR     \n",
       "3 Scale(Log2FC) STARR_ATAC_K562_Reddy_KS91 ASTARR_KS91 ASTARR     "
      ]
     },
     "metadata": {},
     "output_type": "display_data"
    }
   ],
   "source": [
    "### loop to import data\n",
    "lst = lapply(VEC_TXT_FOLDER, function(txt_folder){\n",
    "    ### set file directory\n",
    "    txt_fdiry  = file.path(\n",
    "        FD_RES, \"region_coverage_fcc_score\", \n",
    "        txt_folder, \n",
    "        \"summary\"\n",
    "    )\n",
    "    #txt_fname = \"region.coverage.score.fcc.final.tsv\"\n",
    "    txt_fname = \"region.coverage.score.fcc.test.tsv\"\n",
    "    txt_fpath = file.path(txt_fdiry, txt_fname)\n",
    "\n",
    "    ### read table\n",
    "    dat = read_tsv(txt_fpath, show_col_types = FALSE)\n",
    "    return(dat)\n",
    "})\n",
    "\n",
    "### assign and show\n",
    "lst_dat_region_score_fcc_import = lst\n",
    "\n",
    "res = lapply(lst, dim)\n",
    "print(res)\n",
    "\n",
    "dat = lst[[1]]\n",
    "head(dat, 3)"
   ]
  },
  {
   "cell_type": "markdown",
   "id": "d9823951-62a0-4458-a193-64849bb5f643",
   "metadata": {},
   "source": [
    "**Check: Count table**"
   ]
  },
  {
   "cell_type": "code",
   "execution_count": 6,
   "id": "d49d69de-878c-4153-b100-940d3ec3f48b",
   "metadata": {},
   "outputs": [
    {
     "data": {
      "text/html": [
       "<table>\n",
       " <thead>\n",
       "  <tr>\n",
       "   <th style=\"text-align:left;\"> Assay </th>\n",
       "   <th style=\"text-align:right;\"> fcc_astarr_macs_input_overlap </th>\n",
       "   <th style=\"text-align:right;\"> fcc_astarr_macs_input_union </th>\n",
       "  </tr>\n",
       " </thead>\n",
       "<tbody>\n",
       "  <tr>\n",
       "   <td style=\"text-align:left;\"> ASTARR </td>\n",
       "   <td style=\"text-align:right;\"> 150040 </td>\n",
       "   <td style=\"text-align:right;\"> 246850 </td>\n",
       "  </tr>\n",
       "  <tr>\n",
       "   <td style=\"text-align:left;\"> CRISPRi-Growth </td>\n",
       "   <td style=\"text-align:right;\"> 72743 </td>\n",
       "   <td style=\"text-align:right;\"> 80288 </td>\n",
       "  </tr>\n",
       "  <tr>\n",
       "   <td style=\"text-align:left;\"> CRISPRi-HCRFF </td>\n",
       "   <td style=\"text-align:right;\"> 925 </td>\n",
       "   <td style=\"text-align:right;\"> 1330 </td>\n",
       "  </tr>\n",
       "  <tr>\n",
       "   <td style=\"text-align:left;\"> LMPRA </td>\n",
       "   <td style=\"text-align:right;\"> 61478 </td>\n",
       "   <td style=\"text-align:right;\"> 68497 </td>\n",
       "  </tr>\n",
       "  <tr>\n",
       "   <td style=\"text-align:left;\"> TMPRA </td>\n",
       "   <td style=\"text-align:right;\"> 1148 </td>\n",
       "   <td style=\"text-align:right;\"> 1722 </td>\n",
       "  </tr>\n",
       "  <tr>\n",
       "   <td style=\"text-align:left;\"> WSTARR </td>\n",
       "   <td style=\"text-align:right;\"> 146594 </td>\n",
       "   <td style=\"text-align:right;\"> 241031 </td>\n",
       "  </tr>\n",
       "</tbody>\n",
       "</table>"
      ]
     },
     "metadata": {},
     "output_type": "display_data"
    }
   ],
   "source": [
    "lst = lst_dat_region_score_fcc_import\n",
    "lst = lapply(lst, function(dat){\n",
    "    res = table(dat$Assay_Label, dnn=c(\"Assay\"))\n",
    "    dat = as.data.frame(res)\n",
    "    return(dat)\n",
    "})\n",
    "\n",
    "dat = bind_rows(lst, .id = \"Region\")\n",
    "dat = dat %>% tidyr::spread(Region, Freq)\n",
    "fun_display_table(dat)"
   ]
  },
  {
   "cell_type": "markdown",
   "id": "a90ab088-322a-4570-827a-b8bf7bf696ca",
   "metadata": {},
   "source": [
    "**Import ENCODE chromatin states**"
   ]
  },
  {
   "cell_type": "code",
   "execution_count": 7,
   "id": "28d924db-807b-4ed9-aa57-a2d3f6d55fbe",
   "metadata": {},
   "outputs": [
    {
     "name": "stdout",
     "output_type": "stream",
     "text": [
      "$fcc_astarr_macs_input_overlap\n",
      "[1] 414595     11\n",
      "\n",
      "$fcc_astarr_macs_input_union\n",
      "[1] 620742     11\n",
      "\n"
     ]
    },
    {
     "data": {
      "text/html": [
       "<table>\n",
       " <thead>\n",
       "  <tr>\n",
       "   <th style=\"text-align:left;\"> Chrom </th>\n",
       "   <th style=\"text-align:right;\"> ChromStart </th>\n",
       "   <th style=\"text-align:right;\"> ChromEnd </th>\n",
       "   <th style=\"text-align:left;\"> Region </th>\n",
       "   <th style=\"text-align:left;\"> Annotation_A </th>\n",
       "   <th style=\"text-align:left;\"> Annotation_B </th>\n",
       "   <th style=\"text-align:left;\"> Note </th>\n",
       "   <th style=\"text-align:left;\"> Group </th>\n",
       "   <th style=\"text-align:left;\"> Label </th>\n",
       "   <th style=\"text-align:left;\"> Region_Annot </th>\n",
       "   <th style=\"text-align:right;\"> Region_Count </th>\n",
       "  </tr>\n",
       " </thead>\n",
       "<tbody>\n",
       "  <tr>\n",
       "   <td style=\"text-align:left;\"> chr1 </td>\n",
       "   <td style=\"text-align:right;\"> 10038 </td>\n",
       "   <td style=\"text-align:right;\"> 10405 </td>\n",
       "   <td style=\"text-align:left;\"> chr1:10038-10405 </td>\n",
       "   <td style=\"text-align:left;\"> fcc_astarr_macs_input_overlap </td>\n",
       "   <td style=\"text-align:left;\"> encode_ccres_ENCFF286VQG </td>\n",
       "   <td style=\"text-align:left;\"> cCREs:Low-DNase </td>\n",
       "   <td style=\"text-align:left;\"> cCREs </td>\n",
       "   <td style=\"text-align:left;\"> Low-DNase </td>\n",
       "   <td style=\"text-align:left;\"> chr1:10033-10250;chr1:10385-10713 </td>\n",
       "   <td style=\"text-align:right;\"> 2 </td>\n",
       "  </tr>\n",
       "  <tr>\n",
       "   <td style=\"text-align:left;\"> chr1 </td>\n",
       "   <td style=\"text-align:right;\"> 10038 </td>\n",
       "   <td style=\"text-align:right;\"> 10405 </td>\n",
       "   <td style=\"text-align:left;\"> chr1:10038-10405 </td>\n",
       "   <td style=\"text-align:left;\"> fcc_astarr_macs_input_overlap </td>\n",
       "   <td style=\"text-align:left;\"> encode_chromhmm_ENCFF106BGJ </td>\n",
       "   <td style=\"text-align:left;\"> ChromHMM:Quies </td>\n",
       "   <td style=\"text-align:left;\"> ChromHMM </td>\n",
       "   <td style=\"text-align:left;\"> Quies </td>\n",
       "   <td style=\"text-align:left;\"> chr1:0-16000 </td>\n",
       "   <td style=\"text-align:right;\"> 1 </td>\n",
       "  </tr>\n",
       "  <tr>\n",
       "   <td style=\"text-align:left;\"> chr1 </td>\n",
       "   <td style=\"text-align:right;\"> 14282 </td>\n",
       "   <td style=\"text-align:right;\"> 14614 </td>\n",
       "   <td style=\"text-align:left;\"> chr1:14282-14614 </td>\n",
       "   <td style=\"text-align:left;\"> fcc_astarr_macs_input_overlap </td>\n",
       "   <td style=\"text-align:left;\"> encode_chromhmm_ENCFF106BGJ </td>\n",
       "   <td style=\"text-align:left;\"> ChromHMM:Quies </td>\n",
       "   <td style=\"text-align:left;\"> ChromHMM </td>\n",
       "   <td style=\"text-align:left;\"> Quies </td>\n",
       "   <td style=\"text-align:left;\"> chr1:0-16000 </td>\n",
       "   <td style=\"text-align:right;\"> 1 </td>\n",
       "  </tr>\n",
       "</tbody>\n",
       "</table>"
      ]
     },
     "metadata": {},
     "output_type": "display_data"
    }
   ],
   "source": [
    "### loop to import data\n",
    "lst = lapply(VEC_TXT_FOLDER, function(txt_folder){\n",
    "    ### set file directory\n",
    "    txt_fdiry = file.path(FD_RES, \"region_annotation\", txt_folder, \"summary\")\n",
    "    txt_fname = \"region.annotation.encode_chromatin_states.ccres.chromhmm.tsv\"\n",
    "    txt_fpath = file.path(txt_fdiry, txt_fname)\n",
    "\n",
    "    ### read table\n",
    "    dat = read_tsv(txt_fpath, show_col_types = FALSE)\n",
    "    return(dat)\n",
    "})\n",
    "\n",
    "### assign and show\n",
    "lst_dat_region_annot_chromstates_import = lst\n",
    "\n",
    "res = lapply(lst, dim)\n",
    "print(res)\n",
    "\n",
    "dat = lst[[1]]\n",
    "fun_display_table(head(dat, 3))"
   ]
  },
  {
   "cell_type": "markdown",
   "id": "e0e41def-2aa9-4127-9bfb-a8793dc742f4",
   "metadata": {},
   "source": [
    "**Check: Count table**"
   ]
  },
  {
   "cell_type": "code",
   "execution_count": 8,
   "id": "f38d49be-e78d-4af9-a297-f83364ac3bd0",
   "metadata": {},
   "outputs": [
    {
     "data": {
      "text/html": [
       "<table>\n",
       " <thead>\n",
       "  <tr>\n",
       "   <th style=\"text-align:left;\"> Group </th>\n",
       "   <th style=\"text-align:left;\"> Label </th>\n",
       "   <th style=\"text-align:right;\"> fcc_astarr_macs_input_overlap </th>\n",
       "   <th style=\"text-align:right;\"> fcc_astarr_macs_input_union </th>\n",
       "  </tr>\n",
       " </thead>\n",
       "<tbody>\n",
       "  <tr>\n",
       "   <td style=\"text-align:left;\"> cCREs </td>\n",
       "   <td style=\"text-align:left;\"> CA-CTCF </td>\n",
       "   <td style=\"text-align:right;\"> 20916 </td>\n",
       "   <td style=\"text-align:right;\"> 23298 </td>\n",
       "  </tr>\n",
       "  <tr>\n",
       "   <td style=\"text-align:left;\"> cCREs </td>\n",
       "   <td style=\"text-align:left;\"> CA-H3K4me3 </td>\n",
       "   <td style=\"text-align:right;\"> 3144 </td>\n",
       "   <td style=\"text-align:right;\"> 3240 </td>\n",
       "  </tr>\n",
       "  <tr>\n",
       "   <td style=\"text-align:left;\"> cCREs </td>\n",
       "   <td style=\"text-align:left;\"> CA-only </td>\n",
       "   <td style=\"text-align:right;\"> 1279 </td>\n",
       "   <td style=\"text-align:right;\"> 1546 </td>\n",
       "  </tr>\n",
       "  <tr>\n",
       "   <td style=\"text-align:left;\"> cCREs </td>\n",
       "   <td style=\"text-align:left;\"> CA-TF </td>\n",
       "   <td style=\"text-align:right;\"> 23545 </td>\n",
       "   <td style=\"text-align:right;\"> 26756 </td>\n",
       "  </tr>\n",
       "  <tr>\n",
       "   <td style=\"text-align:left;\"> cCREs </td>\n",
       "   <td style=\"text-align:left;\"> dELS </td>\n",
       "   <td style=\"text-align:right;\"> 15332 </td>\n",
       "   <td style=\"text-align:right;\"> 15782 </td>\n",
       "  </tr>\n",
       "  <tr>\n",
       "   <td style=\"text-align:left;\"> cCREs </td>\n",
       "   <td style=\"text-align:left;\"> Low-DNase </td>\n",
       "   <td style=\"text-align:right;\"> 104419 </td>\n",
       "   <td style=\"text-align:right;\"> 181649 </td>\n",
       "  </tr>\n",
       "  <tr>\n",
       "   <td style=\"text-align:left;\"> cCREs </td>\n",
       "   <td style=\"text-align:left;\"> pELS </td>\n",
       "   <td style=\"text-align:right;\"> 12893 </td>\n",
       "   <td style=\"text-align:right;\"> 12960 </td>\n",
       "  </tr>\n",
       "  <tr>\n",
       "   <td style=\"text-align:left;\"> cCREs </td>\n",
       "   <td style=\"text-align:left;\"> PLS </td>\n",
       "   <td style=\"text-align:right;\"> 12101 </td>\n",
       "   <td style=\"text-align:right;\"> 12077 </td>\n",
       "  </tr>\n",
       "  <tr>\n",
       "   <td style=\"text-align:left;\"> ChromHMM </td>\n",
       "   <td style=\"text-align:left;\"> Biv </td>\n",
       "   <td style=\"text-align:right;\"> 12367 </td>\n",
       "   <td style=\"text-align:right;\"> 15567 </td>\n",
       "  </tr>\n",
       "  <tr>\n",
       "   <td style=\"text-align:left;\"> ChromHMM </td>\n",
       "   <td style=\"text-align:left;\"> Enh1 </td>\n",
       "   <td style=\"text-align:right;\"> 11827 </td>\n",
       "   <td style=\"text-align:right;\"> 13162 </td>\n",
       "  </tr>\n",
       "  <tr>\n",
       "   <td style=\"text-align:left;\"> ChromHMM </td>\n",
       "   <td style=\"text-align:left;\"> Enh2 </td>\n",
       "   <td style=\"text-align:right;\"> 11099 </td>\n",
       "   <td style=\"text-align:right;\"> 11747 </td>\n",
       "  </tr>\n",
       "  <tr>\n",
       "   <td style=\"text-align:left;\"> ChromHMM </td>\n",
       "   <td style=\"text-align:left;\"> EnhG1 </td>\n",
       "   <td style=\"text-align:right;\"> 2331 </td>\n",
       "   <td style=\"text-align:right;\"> 2622 </td>\n",
       "  </tr>\n",
       "  <tr>\n",
       "   <td style=\"text-align:left;\"> ChromHMM </td>\n",
       "   <td style=\"text-align:left;\"> EnhG2 </td>\n",
       "   <td style=\"text-align:right;\"> 5933 </td>\n",
       "   <td style=\"text-align:right;\"> 8196 </td>\n",
       "  </tr>\n",
       "  <tr>\n",
       "   <td style=\"text-align:left;\"> ChromHMM </td>\n",
       "   <td style=\"text-align:left;\"> Het </td>\n",
       "   <td style=\"text-align:right;\"> 1910 </td>\n",
       "   <td style=\"text-align:right;\"> 3980 </td>\n",
       "  </tr>\n",
       "  <tr>\n",
       "   <td style=\"text-align:left;\"> ChromHMM </td>\n",
       "   <td style=\"text-align:left;\"> Quies </td>\n",
       "   <td style=\"text-align:right;\"> 65212 </td>\n",
       "   <td style=\"text-align:right;\"> 122715 </td>\n",
       "  </tr>\n",
       "  <tr>\n",
       "   <td style=\"text-align:left;\"> ChromHMM </td>\n",
       "   <td style=\"text-align:left;\"> ReprPC </td>\n",
       "   <td style=\"text-align:right;\"> 31602 </td>\n",
       "   <td style=\"text-align:right;\"> 63373 </td>\n",
       "  </tr>\n",
       "  <tr>\n",
       "   <td style=\"text-align:left;\"> ChromHMM </td>\n",
       "   <td style=\"text-align:left;\"> Tss </td>\n",
       "   <td style=\"text-align:right;\"> 10159 </td>\n",
       "   <td style=\"text-align:right;\"> 10258 </td>\n",
       "  </tr>\n",
       "  <tr>\n",
       "   <td style=\"text-align:left;\"> ChromHMM </td>\n",
       "   <td style=\"text-align:left;\"> TssFlnk </td>\n",
       "   <td style=\"text-align:right;\"> 4144 </td>\n",
       "   <td style=\"text-align:right;\"> 4476 </td>\n",
       "  </tr>\n",
       "  <tr>\n",
       "   <td style=\"text-align:left;\"> ChromHMM </td>\n",
       "   <td style=\"text-align:left;\"> TssFlnkD </td>\n",
       "   <td style=\"text-align:right;\"> 7669 </td>\n",
       "   <td style=\"text-align:right;\"> 7977 </td>\n",
       "  </tr>\n",
       "  <tr>\n",
       "   <td style=\"text-align:left;\"> ChromHMM </td>\n",
       "   <td style=\"text-align:left;\"> TssFlnkU </td>\n",
       "   <td style=\"text-align:right;\"> 12406 </td>\n",
       "   <td style=\"text-align:right;\"> 12426 </td>\n",
       "  </tr>\n",
       "  <tr>\n",
       "   <td style=\"text-align:left;\"> ChromHMM </td>\n",
       "   <td style=\"text-align:left;\"> Tx </td>\n",
       "   <td style=\"text-align:right;\"> 11981 </td>\n",
       "   <td style=\"text-align:right;\"> 25794 </td>\n",
       "  </tr>\n",
       "  <tr>\n",
       "   <td style=\"text-align:left;\"> ChromHMM </td>\n",
       "   <td style=\"text-align:left;\"> TxWk </td>\n",
       "   <td style=\"text-align:right;\"> 31154 </td>\n",
       "   <td style=\"text-align:right;\"> 39275 </td>\n",
       "  </tr>\n",
       "  <tr>\n",
       "   <td style=\"text-align:left;\"> ChromHMM </td>\n",
       "   <td style=\"text-align:left;\"> ZNF/Rpts </td>\n",
       "   <td style=\"text-align:right;\"> 1172 </td>\n",
       "   <td style=\"text-align:right;\"> 1866 </td>\n",
       "  </tr>\n",
       "</tbody>\n",
       "</table>"
      ]
     },
     "metadata": {},
     "output_type": "display_data"
    }
   ],
   "source": [
    "lst = lst_dat_region_annot_chromstates_import\n",
    "lst = lapply(lst, function(dat){\n",
    "    res = table(dat$Group, dat$Label, dnn=c(\"Group\", \"Label\"))\n",
    "    dat = as.data.frame(res)\n",
    "    return(dat)\n",
    "})\n",
    "\n",
    "dat = bind_rows(lst, .id = \"Region\")\n",
    "dat = dat %>% \n",
    "    dplyr::filter(Freq != 0) %>%\n",
    "    tidyr::spread(Region, Freq)\n",
    "fun_display_table(dat)"
   ]
  },
  {
   "cell_type": "code",
   "execution_count": null,
   "id": "e6d3e37c-9001-4aa9-8d02-74833692736e",
   "metadata": {},
   "outputs": [],
   "source": []
  },
  {
   "cell_type": "code",
   "execution_count": 9,
   "id": "65bd87ae-85ef-4fed-9977-d36d0f090f18",
   "metadata": {},
   "outputs": [
    {
     "name": "stdout",
     "output_type": "stream",
     "text": [
      "$fcc_astarr_macs_input_overlap\n",
      "[1] 156686      6\n",
      "\n",
      "$fcc_astarr_macs_input_union\n",
      "[1] 201420      6\n",
      "\n"
     ]
    },
    {
     "data": {
      "text/html": [
       "<table>\n",
       " <thead>\n",
       "  <tr>\n",
       "   <th style=\"text-align:left;\"> Chrom </th>\n",
       "   <th style=\"text-align:right;\"> ChromStart </th>\n",
       "   <th style=\"text-align:right;\"> ChromEnd </th>\n",
       "   <th style=\"text-align:left;\"> Region </th>\n",
       "   <th style=\"text-align:left;\"> Group </th>\n",
       "   <th style=\"text-align:left;\"> Label </th>\n",
       "  </tr>\n",
       " </thead>\n",
       "<tbody>\n",
       "  <tr>\n",
       "   <td style=\"text-align:left;\"> chr1 </td>\n",
       "   <td style=\"text-align:right;\"> 10038 </td>\n",
       "   <td style=\"text-align:right;\"> 10405 </td>\n",
       "   <td style=\"text-align:left;\"> chr1:10038-10405 </td>\n",
       "   <td style=\"text-align:left;\"> ASTARR </td>\n",
       "   <td style=\"text-align:left;\"> ASTARR_R </td>\n",
       "  </tr>\n",
       "  <tr>\n",
       "   <td style=\"text-align:left;\"> chr1 </td>\n",
       "   <td style=\"text-align:right;\"> 16025 </td>\n",
       "   <td style=\"text-align:right;\"> 16338 </td>\n",
       "   <td style=\"text-align:left;\"> chr1:16025-16338 </td>\n",
       "   <td style=\"text-align:left;\"> ASTARR </td>\n",
       "   <td style=\"text-align:left;\"> ASTARR_R </td>\n",
       "  </tr>\n",
       "  <tr>\n",
       "   <td style=\"text-align:left;\"> chr1 </td>\n",
       "   <td style=\"text-align:right;\"> 17288 </td>\n",
       "   <td style=\"text-align:right;\"> 17689 </td>\n",
       "   <td style=\"text-align:left;\"> chr1:17288-17689 </td>\n",
       "   <td style=\"text-align:left;\"> ASTARR </td>\n",
       "   <td style=\"text-align:left;\"> ASTARR_R </td>\n",
       "  </tr>\n",
       "</tbody>\n",
       "</table>"
      ]
     },
     "metadata": {},
     "output_type": "display_data"
    }
   ],
   "source": [
    "### loop to import data\n",
    "lst = lapply(VEC_TXT_FOLDER, function(txt_folder){\n",
    "    ### set file directory\n",
    "    txt_fdiry = file.path(FD_RES, \"region_annotation\", txt_folder, \"summary\")\n",
    "    txt_fname = \"region.annotation.fcc_starrmpracrispr.concat.tsv\"\n",
    "    txt_fpath = file.path(txt_fdiry, txt_fname)\n",
    "\n",
    "    ### read table\n",
    "    dat = read_tsv(txt_fpath, show_col_types = FALSE)\n",
    "    return(dat)\n",
    "})\n",
    "\n",
    "### assign and show\n",
    "lst_dat_region_annot_fcc_import = lst\n",
    "\n",
    "res = lapply(lst, dim)\n",
    "print(res)\n",
    "\n",
    "dat = lst[[1]]\n",
    "fun_display_table(head(dat, 3))"
   ]
  },
  {
   "cell_type": "code",
   "execution_count": null,
   "id": "64909b6d-6f30-4718-9855-8f057fae15c5",
   "metadata": {},
   "outputs": [],
   "source": []
  },
  {
   "cell_type": "code",
   "execution_count": null,
   "id": "02dfc157-47f6-4ccb-bd79-fd3abb38b4bb",
   "metadata": {},
   "outputs": [],
   "source": []
  },
  {
   "cell_type": "code",
   "execution_count": null,
   "id": "1fd43ab4-3d95-4139-9041-2c6465104832",
   "metadata": {},
   "outputs": [],
   "source": []
  },
  {
   "cell_type": "markdown",
   "id": "4b5f3a07-5156-40eb-9fa9-ac9d2b702863",
   "metadata": {},
   "source": [
    "## Arrange table"
   ]
  },
  {
   "cell_type": "code",
   "execution_count": 10,
   "id": "5a5ba90c-8862-4939-8fb0-345bf26e3baa",
   "metadata": {},
   "outputs": [
    {
     "name": "stdout",
     "output_type": "stream",
     "text": [
      "$fcc_astarr_macs_input_overlap\n",
      "[1] 1280991      13\n",
      "\n",
      "$fcc_astarr_macs_input_union\n",
      "[1] 1755320      13\n",
      "\n"
     ]
    },
    {
     "data": {
      "text/html": [
       "<table>\n",
       " <thead>\n",
       "  <tr>\n",
       "   <th style=\"text-align:left;\"> Chrom </th>\n",
       "   <th style=\"text-align:right;\"> ChromStart </th>\n",
       "   <th style=\"text-align:right;\"> ChromEnd </th>\n",
       "   <th style=\"text-align:left;\"> Region </th>\n",
       "   <th style=\"text-align:left;\"> Group </th>\n",
       "   <th style=\"text-align:left;\"> Label </th>\n",
       "   <th style=\"text-align:right;\"> Score </th>\n",
       "   <th style=\"text-align:right;\"> Zcore </th>\n",
       "   <th style=\"text-align:left;\"> Score_Label </th>\n",
       "   <th style=\"text-align:left;\"> Zcore_Label </th>\n",
       "   <th style=\"text-align:left;\"> Assay_Folder </th>\n",
       "   <th style=\"text-align:left;\"> Assay_Group </th>\n",
       "   <th style=\"text-align:left;\"> Assay_Label </th>\n",
       "  </tr>\n",
       " </thead>\n",
       "<tbody>\n",
       "  <tr>\n",
       "   <td style=\"text-align:left;\"> chr1 </td>\n",
       "   <td style=\"text-align:right;\"> 10038 </td>\n",
       "   <td style=\"text-align:right;\"> 10405 </td>\n",
       "   <td style=\"text-align:left;\"> chr1:10038-10405 </td>\n",
       "   <td style=\"text-align:left;\"> cCREs </td>\n",
       "   <td style=\"text-align:left;\"> Low-DNase </td>\n",
       "   <td style=\"text-align:right;\"> -2.2348526 </td>\n",
       "   <td style=\"text-align:right;\"> -3.5573621 </td>\n",
       "   <td style=\"text-align:left;\"> Log2FC </td>\n",
       "   <td style=\"text-align:left;\"> Scale(Log2FC) </td>\n",
       "   <td style=\"text-align:left;\"> STARR_ATAC_K562_Reddy_KS91 </td>\n",
       "   <td style=\"text-align:left;\"> ASTARR_KS91 </td>\n",
       "   <td style=\"text-align:left;\"> ASTARR </td>\n",
       "  </tr>\n",
       "  <tr>\n",
       "   <td style=\"text-align:left;\"> chr1 </td>\n",
       "   <td style=\"text-align:right;\"> 10038 </td>\n",
       "   <td style=\"text-align:right;\"> 10405 </td>\n",
       "   <td style=\"text-align:left;\"> chr1:10038-10405 </td>\n",
       "   <td style=\"text-align:left;\"> ChromHMM </td>\n",
       "   <td style=\"text-align:left;\"> Quies </td>\n",
       "   <td style=\"text-align:right;\"> -2.2348526 </td>\n",
       "   <td style=\"text-align:right;\"> -3.5573621 </td>\n",
       "   <td style=\"text-align:left;\"> Log2FC </td>\n",
       "   <td style=\"text-align:left;\"> Scale(Log2FC) </td>\n",
       "   <td style=\"text-align:left;\"> STARR_ATAC_K562_Reddy_KS91 </td>\n",
       "   <td style=\"text-align:left;\"> ASTARR_KS91 </td>\n",
       "   <td style=\"text-align:left;\"> ASTARR </td>\n",
       "  </tr>\n",
       "  <tr>\n",
       "   <td style=\"text-align:left;\"> chr1 </td>\n",
       "   <td style=\"text-align:right;\"> 14282 </td>\n",
       "   <td style=\"text-align:right;\"> 14614 </td>\n",
       "   <td style=\"text-align:left;\"> chr1:14282-14614 </td>\n",
       "   <td style=\"text-align:left;\"> ChromHMM </td>\n",
       "   <td style=\"text-align:left;\"> Quies </td>\n",
       "   <td style=\"text-align:right;\"> 0.0317904 </td>\n",
       "   <td style=\"text-align:right;\"> 0.0361388 </td>\n",
       "   <td style=\"text-align:left;\"> Log2FC </td>\n",
       "   <td style=\"text-align:left;\"> Scale(Log2FC) </td>\n",
       "   <td style=\"text-align:left;\"> STARR_ATAC_K562_Reddy_KS91 </td>\n",
       "   <td style=\"text-align:left;\"> ASTARR_KS91 </td>\n",
       "   <td style=\"text-align:left;\"> ASTARR </td>\n",
       "  </tr>\n",
       "</tbody>\n",
       "</table>"
      ]
     },
     "metadata": {},
     "output_type": "display_data"
    }
   ],
   "source": [
    "### init: set assay and cnames\n",
    "vec_txt_cname = c(\"Chrom\", \"ChromStart\", \"ChromEnd\", \"Region\")\n",
    "#vec_txt_assay = c(\"ASTARR\", \"WSTARR\", \"LMPRA\", \"TMPRA\")\n",
    "\n",
    "### loop to import data\n",
    "lst = lapply(VEC_TXT_FOLDER, function(txt_folder){\n",
    "    ### get tables\n",
    "    dat_region_group = lst_dat_region_annot_chromstates_import[[txt_folder]]\n",
    "    dat_region_score = lst_dat_region_score_fcc_import[[txt_folder]]\n",
    "    \n",
    "    ### get regions screened by starr/mpra\n",
    "    #dat = dat_region_score\n",
    "    #dat = dat %>% dplyr::filter(Assay_Type %in% vec_txt_assay)\n",
    "    #vec = unique(dat$Region)\n",
    "    \n",
    "    #dat_region_score_subset = dat\n",
    "    #vec_txt_region_screen   = vec\n",
    "    \n",
    "    ### filter and annotate starr/mpra cres\n",
    "    #dat = dat_region_group\n",
    "    #dat = dat %>%\n",
    "    #    dplyr::filter(Region %in% vec_txt_region_screen) %>% \n",
    "    #    dplyr::mutate(Label = \"Screen\")\n",
    "\n",
    "    ### join annotation with score\n",
    "    #dat = dat %>%\n",
    "    #    dplyr::inner_join(\n",
    "    #        dat_region_score_subset, \n",
    "    #        by = vec_txt_cname,\n",
    "    #        relationship = \"many-to-many\"\n",
    "    #    )\n",
    "\n",
    "    ###\n",
    "    dat = dat_region_group\n",
    "    dat = dat %>%\n",
    "        dplyr::select(Chrom:Region, Group, Label) %>% \n",
    "        dplyr::distinct()\n",
    "\n",
    "    ###\n",
    "    dat = dat %>%\n",
    "        dplyr::inner_join(\n",
    "            dat_region_score, \n",
    "            by = vec_txt_cname,\n",
    "            relationship = \"many-to-many\"\n",
    "        )\n",
    "    return(dat)\n",
    "})\n",
    "\n",
    "### assign and show\n",
    "#lst_dat_region_merge_fcc_starrmpra = lst\n",
    "lst_dat_region_merge_fcc = lst\n",
    "\n",
    "res = lapply(lst, dim)\n",
    "print(res)\n",
    "\n",
    "dat = lst[[1]]\n",
    "fun_display_table(head(dat, 3))"
   ]
  },
  {
   "cell_type": "markdown",
   "id": "aa5a2d42-29ad-495a-9bd7-0575abd06dac",
   "metadata": {},
   "source": [
    "## Export results"
   ]
  },
  {
   "cell_type": "code",
   "execution_count": 11,
   "id": "eefd5ce1-656f-45e4-970a-11b1e85620c3",
   "metadata": {},
   "outputs": [],
   "source": [
    "for (txt_folder in VEC_TXT_FOLDER){\n",
    "    ### get tables\n",
    "    dat_region_merge = lst_dat_region_merge_fcc[[txt_folder]]\n",
    "    \n",
    "    ### set file directory\n",
    "    txt_fdiry  = file.path(FD_RES, \"analysis_fcc_comparison\", txt_folder)\n",
    "    txt_cmd = paste(\"mkdir -p\", txt_fdiry)\n",
    "    system(txt_cmd, intern = FALSE)\n",
    "    \n",
    "    ### write table\n",
    "    txt_fname = \"region.annotation.encode_chromatin_states.coverage.fcc.tsv\"\n",
    "    txt_fpath = file.path(txt_fdiry, txt_fname)\n",
    "    \n",
    "    dat = dat_region_merge\n",
    "    write_tsv(dat, txt_fpath)\n",
    "}"
   ]
  },
  {
   "cell_type": "code",
   "execution_count": null,
   "id": "1dd739d9-24be-45f4-b4bf-65d2c324c0c3",
   "metadata": {},
   "outputs": [],
   "source": []
  }
 ],
 "metadata": {
  "kernelspec": {
   "display_name": "R",
   "language": "R",
   "name": "ir"
  },
  "language_info": {
   "codemirror_mode": "r",
   "file_extension": ".r",
   "mimetype": "text/x-r-source",
   "name": "R",
   "pygments_lexer": "r",
   "version": "4.5.1"
  }
 },
 "nbformat": 4,
 "nbformat_minor": 5
}
