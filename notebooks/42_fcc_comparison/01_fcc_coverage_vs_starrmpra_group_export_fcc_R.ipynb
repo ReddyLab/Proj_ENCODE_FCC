{
 "cells": [
  {
   "cell_type": "raw",
   "id": "fab7ea37-39be-4b55-9b51-2fe7799b4844",
   "metadata": {},
   "source": [
    "---\n",
    "title: FCC coverage vs STARRMPRA Group 01\n",
    "subtitle: Get FCC scores at STARRMPRA CREs\n",
    "format:\n",
    "    html:\n",
    "        code-fold:  true\n",
    "        code-tools: true\n",
    "---"
   ]
  },
  {
   "cell_type": "markdown",
   "id": "aa7a1960-ffb4-43ef-b793-b45fc20fc3a3",
   "metadata": {},
   "source": [
    "**Set environment**"
   ]
  },
  {
   "cell_type": "code",
   "execution_count": 1,
   "id": "ea08c728-473a-42fb-892c-080e37bd97d2",
   "metadata": {
    "tags": []
   },
   "outputs": [
    {
     "name": "stdout",
     "output_type": "stream",
     "text": [
      "You are working on        Singularity: singularity_proj_encode_fcc \n",
      "BASE DIRECTORY (FD_BASE): /data/reddylab/Kuei \n",
      "REPO DIRECTORY (FD_REPO): /data/reddylab/Kuei/repo \n",
      "WORK DIRECTORY (FD_WORK): /data/reddylab/Kuei/work \n",
      "DATA DIRECTORY (FD_DATA): /data/reddylab/Kuei/data \n",
      "\n",
      "You are working with      ENCODE FCC \n",
      "PATH OF PROJECT (FD_PRJ): /data/reddylab/Kuei/repo/Proj_ENCODE_FCC \n",
      "PROJECT RESULTS (FD_RES): /data/reddylab/Kuei/repo/Proj_ENCODE_FCC/results \n",
      "PROJECT SCRIPTS (FD_EXE): /data/reddylab/Kuei/repo/Proj_ENCODE_FCC/scripts \n",
      "PROJECT DATA    (FD_DAT): /data/reddylab/Kuei/repo/Proj_ENCODE_FCC/data \n",
      "PROJECT NOTE    (FD_NBK): /data/reddylab/Kuei/repo/Proj_ENCODE_FCC/notebooks \n",
      "PROJECT DOCS    (FD_DOC): /data/reddylab/Kuei/repo/Proj_ENCODE_FCC/docs \n",
      "PROJECT LOG     (FD_LOG): /data/reddylab/Kuei/repo/Proj_ENCODE_FCC/log \n",
      "PROJECT REF     (FD_REF): /data/reddylab/Kuei/repo/Proj_ENCODE_FCC/references \n",
      "\n"
     ]
    }
   ],
   "source": [
    "suppressMessages(suppressWarnings(source(\"../run_config_project_sing.R\")))\n",
    "show_env()"
   ]
  },
  {
   "cell_type": "markdown",
   "id": "9f3ca6e1-4547-47fd-a958-ac5db7d92265",
   "metadata": {},
   "source": [
    "## Prepare"
   ]
  },
  {
   "cell_type": "markdown",
   "id": "78aed092-c7eb-4147-b0d7-596ef49e628f",
   "metadata": {},
   "source": [
    "**Set global variable**"
   ]
  },
  {
   "cell_type": "code",
   "execution_count": 2,
   "id": "8f8ab162-e81f-4e8b-8654-1464d7560ab6",
   "metadata": {},
   "outputs": [
    {
     "name": "stdout",
     "output_type": "stream",
     "text": [
      "fcc_astarr_macs_input_overlap \n",
      "fcc_astarr_macs_input_union \n"
     ]
    }
   ],
   "source": [
    "vec = c(\n",
    "    \"fcc_astarr_macs_input_overlap\",\n",
    "    \"fcc_astarr_macs_input_union\"\n",
    ")\n",
    "names(vec) = vec\n",
    "\n",
    "VEC_TXT_FOLDER = vec\n",
    "for(txt in vec){cat(txt, \"\\n\")}"
   ]
  },
  {
   "cell_type": "markdown",
   "id": "8876ee53-4acc-4023-a93d-16a925a027dd",
   "metadata": {},
   "source": [
    "**View files: FCC region coverage**"
   ]
  },
  {
   "cell_type": "code",
   "execution_count": 3,
   "id": "dd2807c4-4a7e-4710-8772-f2b3ce7650b8",
   "metadata": {},
   "outputs": [
    {
     "name": "stdout",
     "output_type": "stream",
     "text": [
      "/data/reddylab/Kuei/repo/Proj_ENCODE_FCC/results/region_coverage_fcc_score/fcc_astarr_macs_input_overlap/summary/region.coverage.score.atac.tsv \n",
      "/data/reddylab/Kuei/repo/Proj_ENCODE_FCC/results/region_coverage_fcc_score/fcc_astarr_macs_input_overlap/summary/region.coverage.score.fcc.final.tsv \n",
      "/data/reddylab/Kuei/repo/Proj_ENCODE_FCC/results/region_coverage_fcc_score/fcc_astarr_macs_input_overlap/summary/region.coverage.score.fcc.test.tsv \n",
      "/data/reddylab/Kuei/repo/Proj_ENCODE_FCC/results/region_coverage_fcc_score/fcc_astarr_macs_input_overlap/summary/region.coverage.score.fcc.total.tsv \n"
     ]
    }
   ],
   "source": [
    "txt_folder = VEC_TXT_FOLDER[1]\n",
    "txt_fdiry  = file.path(FD_RES, \"region_coverage_fcc_score\", txt_folder, \"summary\")\n",
    "txt_fname  = \"region.coverage.score.*.tsv\"\n",
    "txt_fglob  = file.path(txt_fdiry, txt_fname)\n",
    "\n",
    "vec = Sys.glob(txt_fglob)\n",
    "for (txt in vec) {cat(txt, \"\\n\")}"
   ]
  },
  {
   "cell_type": "markdown",
   "id": "eb1f2b17-ba49-4b91-a0ff-a528b4adc705",
   "metadata": {},
   "source": [
    "**View files: STARR/MPRA CREs**"
   ]
  },
  {
   "cell_type": "code",
   "execution_count": 4,
   "id": "aa5c2044-adee-4cc4-a7be-872cb8a30c5b",
   "metadata": {},
   "outputs": [
    {
     "name": "stdout",
     "output_type": "stream",
     "text": [
      "/data/reddylab/Kuei/repo/Proj_ENCODE_FCC/results/region_annotation/fcc_astarr_macs_input_overlap/summary/region.annotation.fcc_starrmpra_junke.group.tsv \n",
      "/data/reddylab/Kuei/repo/Proj_ENCODE_FCC/results/region_annotation/fcc_astarr_macs_input_union/summary/region.annotation.fcc_starrmpra_junke.group.tsv \n"
     ]
    }
   ],
   "source": [
    "txt_fdiry = file.path(FD_RES, \"region_annotation\", \"*\", \"summary\")\n",
    "txt_fname = \"region.annotation.fcc_starrmpra_junke.group.tsv\"\n",
    "txt_fglob = file.path(txt_fdiry, txt_fname)\n",
    "\n",
    "vec = Sys.glob(txt_fglob)\n",
    "for(txt in vec){cat(txt, \"\\n\")}"
   ]
  },
  {
   "cell_type": "markdown",
   "id": "12d0f2ec-aaf2-4024-a8d2-769336762ef6",
   "metadata": {},
   "source": [
    "## Import data"
   ]
  },
  {
   "cell_type": "markdown",
   "id": "5f51b2ee-f2f2-4cbc-9537-9faeaddae0b8",
   "metadata": {},
   "source": [
    "### Import FCC region coverage scores"
   ]
  },
  {
   "cell_type": "code",
   "execution_count": 5,
   "id": "ecbfe77a-6feb-4472-8640-4e2aa920bf05",
   "metadata": {},
   "outputs": [
    {
     "name": "stdout",
     "output_type": "stream",
     "text": [
      "$fcc_astarr_macs_input_overlap\n",
      "[1] 432928     11\n",
      "\n",
      "$fcc_astarr_macs_input_union\n",
      "[1] 639718     11\n",
      "\n"
     ]
    },
    {
     "data": {
      "text/html": [
       "<table class=\"dataframe\">\n",
       "<caption>A tibble: 3 × 11</caption>\n",
       "<thead>\n",
       "\t<tr><th scope=col>Chrom</th><th scope=col>ChromStart</th><th scope=col>ChromEnd</th><th scope=col>Region</th><th scope=col>Score</th><th scope=col>Zcore</th><th scope=col>Score_Label</th><th scope=col>Zcore_Label</th><th scope=col>Assay_Folder</th><th scope=col>Assay_Group</th><th scope=col>Assay_Label</th></tr>\n",
       "\t<tr><th scope=col>&lt;chr&gt;</th><th scope=col>&lt;dbl&gt;</th><th scope=col>&lt;dbl&gt;</th><th scope=col>&lt;chr&gt;</th><th scope=col>&lt;dbl&gt;</th><th scope=col>&lt;dbl&gt;</th><th scope=col>&lt;chr&gt;</th><th scope=col>&lt;chr&gt;</th><th scope=col>&lt;chr&gt;</th><th scope=col>&lt;chr&gt;</th><th scope=col>&lt;chr&gt;</th></tr>\n",
       "</thead>\n",
       "<tbody>\n",
       "\t<tr><td>chr1</td><td>10038</td><td>10405</td><td>chr1:10038-10405</td><td>-2.23485265</td><td>-3.5573621</td><td>Log2FC</td><td>Scale(Log2FC)</td><td>STARR_ATAC_K562_Reddy_KS91</td><td>ASTARR_KS91</td><td>ASTARR</td></tr>\n",
       "\t<tr><td>chr1</td><td>14282</td><td>14614</td><td>chr1:14282-14614</td><td> 0.03179044</td><td> 0.0361388</td><td>Log2FC</td><td>Scale(Log2FC)</td><td>STARR_ATAC_K562_Reddy_KS91</td><td>ASTARR_KS91</td><td>ASTARR</td></tr>\n",
       "\t<tr><td>chr1</td><td>16025</td><td>16338</td><td>chr1:16025-16338</td><td>-1.33934060</td><td>-2.1376311</td><td>Log2FC</td><td>Scale(Log2FC)</td><td>STARR_ATAC_K562_Reddy_KS91</td><td>ASTARR_KS91</td><td>ASTARR</td></tr>\n",
       "</tbody>\n",
       "</table>\n"
      ],
      "text/latex": [
       "A tibble: 3 × 11\n",
       "\\begin{tabular}{lllllllllll}\n",
       " Chrom & ChromStart & ChromEnd & Region & Score & Zcore & Score\\_Label & Zcore\\_Label & Assay\\_Folder & Assay\\_Group & Assay\\_Label\\\\\n",
       " <chr> & <dbl> & <dbl> & <chr> & <dbl> & <dbl> & <chr> & <chr> & <chr> & <chr> & <chr>\\\\\n",
       "\\hline\n",
       "\t chr1 & 10038 & 10405 & chr1:10038-10405 & -2.23485265 & -3.5573621 & Log2FC & Scale(Log2FC) & STARR\\_ATAC\\_K562\\_Reddy\\_KS91 & ASTARR\\_KS91 & ASTARR\\\\\n",
       "\t chr1 & 14282 & 14614 & chr1:14282-14614 &  0.03179044 &  0.0361388 & Log2FC & Scale(Log2FC) & STARR\\_ATAC\\_K562\\_Reddy\\_KS91 & ASTARR\\_KS91 & ASTARR\\\\\n",
       "\t chr1 & 16025 & 16338 & chr1:16025-16338 & -1.33934060 & -2.1376311 & Log2FC & Scale(Log2FC) & STARR\\_ATAC\\_K562\\_Reddy\\_KS91 & ASTARR\\_KS91 & ASTARR\\\\\n",
       "\\end{tabular}\n"
      ],
      "text/markdown": [
       "\n",
       "A tibble: 3 × 11\n",
       "\n",
       "| Chrom &lt;chr&gt; | ChromStart &lt;dbl&gt; | ChromEnd &lt;dbl&gt; | Region &lt;chr&gt; | Score &lt;dbl&gt; | Zcore &lt;dbl&gt; | Score_Label &lt;chr&gt; | Zcore_Label &lt;chr&gt; | Assay_Folder &lt;chr&gt; | Assay_Group &lt;chr&gt; | Assay_Label &lt;chr&gt; |\n",
       "|---|---|---|---|---|---|---|---|---|---|---|\n",
       "| chr1 | 10038 | 10405 | chr1:10038-10405 | -2.23485265 | -3.5573621 | Log2FC | Scale(Log2FC) | STARR_ATAC_K562_Reddy_KS91 | ASTARR_KS91 | ASTARR |\n",
       "| chr1 | 14282 | 14614 | chr1:14282-14614 |  0.03179044 |  0.0361388 | Log2FC | Scale(Log2FC) | STARR_ATAC_K562_Reddy_KS91 | ASTARR_KS91 | ASTARR |\n",
       "| chr1 | 16025 | 16338 | chr1:16025-16338 | -1.33934060 | -2.1376311 | Log2FC | Scale(Log2FC) | STARR_ATAC_K562_Reddy_KS91 | ASTARR_KS91 | ASTARR |\n",
       "\n"
      ],
      "text/plain": [
       "  Chrom ChromStart ChromEnd Region           Score       Zcore      Score_Label\n",
       "1 chr1  10038      10405    chr1:10038-10405 -2.23485265 -3.5573621 Log2FC     \n",
       "2 chr1  14282      14614    chr1:14282-14614  0.03179044  0.0361388 Log2FC     \n",
       "3 chr1  16025      16338    chr1:16025-16338 -1.33934060 -2.1376311 Log2FC     \n",
       "  Zcore_Label   Assay_Folder               Assay_Group Assay_Label\n",
       "1 Scale(Log2FC) STARR_ATAC_K562_Reddy_KS91 ASTARR_KS91 ASTARR     \n",
       "2 Scale(Log2FC) STARR_ATAC_K562_Reddy_KS91 ASTARR_KS91 ASTARR     \n",
       "3 Scale(Log2FC) STARR_ATAC_K562_Reddy_KS91 ASTARR_KS91 ASTARR     "
      ]
     },
     "metadata": {},
     "output_type": "display_data"
    }
   ],
   "source": [
    "### loop to import data\n",
    "lst = lapply(VEC_TXT_FOLDER, function(txt_folder){\n",
    "    ### set file directory\n",
    "    txt_fdiry  = file.path(\n",
    "        FD_RES, \"region_coverage_fcc_score\", \n",
    "        txt_folder, \n",
    "        \"summary\"\n",
    "    )\n",
    "    txt_fname = \"region.coverage.score.fcc.final.tsv\"\n",
    "    txt_fpath = file.path(txt_fdiry, txt_fname)\n",
    "\n",
    "    ### read table\n",
    "    dat = read_tsv(txt_fpath, show_col_types = FALSE)\n",
    "    return(dat)\n",
    "})\n",
    "\n",
    "### assign and show\n",
    "lst_dat_region_score_fcc_import = lst\n",
    "\n",
    "res = lapply(lst, dim)\n",
    "print(res)\n",
    "\n",
    "dat = lst[[1]]\n",
    "head(dat, 3)"
   ]
  },
  {
   "cell_type": "markdown",
   "id": "893b5c0f-d68f-490f-9e5d-fe51ea2f3579",
   "metadata": {},
   "source": [
    "**Check: Count table**"
   ]
  },
  {
   "cell_type": "code",
   "execution_count": 6,
   "id": "03f4ddfa-398c-49eb-a938-a5143e942cd2",
   "metadata": {},
   "outputs": [
    {
     "data": {
      "text/html": [
       "<table>\n",
       " <thead>\n",
       "  <tr>\n",
       "   <th style=\"text-align:left;\"> Assay </th>\n",
       "   <th style=\"text-align:right;\"> fcc_astarr_macs_input_overlap </th>\n",
       "   <th style=\"text-align:right;\"> fcc_astarr_macs_input_union </th>\n",
       "  </tr>\n",
       " </thead>\n",
       "<tbody>\n",
       "  <tr>\n",
       "   <td style=\"text-align:left;\"> ASTARR </td>\n",
       "   <td style=\"text-align:right;\"> 150040 </td>\n",
       "   <td style=\"text-align:right;\"> 246850 </td>\n",
       "  </tr>\n",
       "  <tr>\n",
       "   <td style=\"text-align:left;\"> CRISPRi-Growth </td>\n",
       "   <td style=\"text-align:right;\"> 72743 </td>\n",
       "   <td style=\"text-align:right;\"> 80288 </td>\n",
       "  </tr>\n",
       "  <tr>\n",
       "   <td style=\"text-align:left;\"> CRISPRi-HCRFF </td>\n",
       "   <td style=\"text-align:right;\"> 925 </td>\n",
       "   <td style=\"text-align:right;\"> 1330 </td>\n",
       "  </tr>\n",
       "  <tr>\n",
       "   <td style=\"text-align:left;\"> LMPRA </td>\n",
       "   <td style=\"text-align:right;\"> 61478 </td>\n",
       "   <td style=\"text-align:right;\"> 68497 </td>\n",
       "  </tr>\n",
       "  <tr>\n",
       "   <td style=\"text-align:left;\"> TMPRA </td>\n",
       "   <td style=\"text-align:right;\"> 1148 </td>\n",
       "   <td style=\"text-align:right;\"> 1722 </td>\n",
       "  </tr>\n",
       "  <tr>\n",
       "   <td style=\"text-align:left;\"> WSTARR </td>\n",
       "   <td style=\"text-align:right;\"> 146594 </td>\n",
       "   <td style=\"text-align:right;\"> 241031 </td>\n",
       "  </tr>\n",
       "</tbody>\n",
       "</table>"
      ]
     },
     "metadata": {},
     "output_type": "display_data"
    }
   ],
   "source": [
    "lst = lst_dat_region_score_fcc_import\n",
    "lst = lapply(lst, function(dat){\n",
    "    res = table(dat$Assay_Label, dnn=c(\"Assay\"))\n",
    "    dat = as.data.frame(res)\n",
    "    return(dat)\n",
    "})\n",
    "\n",
    "dat = bind_rows(lst, .id = \"Region\")\n",
    "dat = dat %>% tidyr::spread(Region, Freq)\n",
    "fun_display_table(dat)"
   ]
  },
  {
   "cell_type": "markdown",
   "id": "647b54ca-b086-438a-856e-b675d1ccff53",
   "metadata": {},
   "source": [
    "### Import STARR/MPRA CREs"
   ]
  },
  {
   "cell_type": "code",
   "execution_count": 7,
   "id": "802c0cbb-2b0e-438e-b55a-349bfb7e031b",
   "metadata": {},
   "outputs": [
    {
     "name": "stdout",
     "output_type": "stream",
     "text": [
      "$fcc_astarr_macs_input_overlap\n",
      "[1] 18346     5\n",
      "\n",
      "$fcc_astarr_macs_input_union\n",
      "[1] 20303     5\n",
      "\n"
     ]
    },
    {
     "data": {
      "text/html": [
       "<table>\n",
       " <thead>\n",
       "  <tr>\n",
       "   <th style=\"text-align:left;\"> Chrom </th>\n",
       "   <th style=\"text-align:right;\"> ChromStart </th>\n",
       "   <th style=\"text-align:right;\"> ChromEnd </th>\n",
       "   <th style=\"text-align:left;\"> Region </th>\n",
       "   <th style=\"text-align:left;\"> Group </th>\n",
       "  </tr>\n",
       " </thead>\n",
       "<tbody>\n",
       "  <tr>\n",
       "   <td style=\"text-align:left;\"> chr1 </td>\n",
       "   <td style=\"text-align:right;\"> 778233 </td>\n",
       "   <td style=\"text-align:right;\"> 779389 </td>\n",
       "   <td style=\"text-align:left;\"> chr1:778233-779389 </td>\n",
       "   <td style=\"text-align:left;\"> Proximal:Active </td>\n",
       "  </tr>\n",
       "  <tr>\n",
       "   <td style=\"text-align:left;\"> chr1 </td>\n",
       "   <td style=\"text-align:right;\"> 958722 </td>\n",
       "   <td style=\"text-align:right;\"> 959968 </td>\n",
       "   <td style=\"text-align:left;\"> chr1:958722-959968 </td>\n",
       "   <td style=\"text-align:left;\"> Proximal:Active </td>\n",
       "  </tr>\n",
       "  <tr>\n",
       "   <td style=\"text-align:left;\"> chr1 </td>\n",
       "   <td style=\"text-align:right;\"> 960468 </td>\n",
       "   <td style=\"text-align:right;\"> 961615 </td>\n",
       "   <td style=\"text-align:left;\"> chr1:960468-961615 </td>\n",
       "   <td style=\"text-align:left;\"> Proximal:Active </td>\n",
       "  </tr>\n",
       "</tbody>\n",
       "</table>"
      ]
     },
     "metadata": {},
     "output_type": "display_data"
    }
   ],
   "source": [
    "### loop to import data\n",
    "lst = lapply(VEC_TXT_FOLDER, function(txt_folder){\n",
    "    ### set file directory\n",
    "    txt_fdiry = file.path(FD_RES, \"region_annotation\", txt_folder, \"summary\")\n",
    "    txt_fname = \"region.annotation.fcc_starrmpra_junke.group.tsv\"\n",
    "    txt_fpath = file.path(txt_fdiry, txt_fname)\n",
    "\n",
    "    ### read table\n",
    "    dat = read_tsv(txt_fpath, show_col_types = FALSE)\n",
    "    return(dat)\n",
    "})\n",
    "\n",
    "### assign and show\n",
    "lst_dat_region_annot_fcc_starrmpra_group_import = lst\n",
    "\n",
    "res = lapply(lst, dim)\n",
    "print(res)\n",
    "\n",
    "dat = lst[[1]]\n",
    "fun_display_table(head(dat, 3))"
   ]
  },
  {
   "cell_type": "markdown",
   "id": "df060803-f6ef-4b5f-a118-76ee3b1fbdd8",
   "metadata": {},
   "source": [
    "**Check: Count table**"
   ]
  },
  {
   "cell_type": "code",
   "execution_count": 8,
   "id": "a316f955-88a4-4ea0-9013-ebccf6ae368f",
   "metadata": {},
   "outputs": [
    {
     "data": {
      "text/html": [
       "<table>\n",
       " <thead>\n",
       "  <tr>\n",
       "   <th style=\"text-align:left;\"> Group </th>\n",
       "   <th style=\"text-align:right;\"> fcc_astarr_macs_input_overlap </th>\n",
       "   <th style=\"text-align:right;\"> fcc_astarr_macs_input_union </th>\n",
       "  </tr>\n",
       " </thead>\n",
       "<tbody>\n",
       "  <tr>\n",
       "   <td style=\"text-align:left;\"> Distal:Active </td>\n",
       "   <td style=\"text-align:right;\"> 10578 </td>\n",
       "   <td style=\"text-align:right;\"> 11362 </td>\n",
       "  </tr>\n",
       "  <tr>\n",
       "   <td style=\"text-align:left;\"> Distal:Repressive </td>\n",
       "   <td style=\"text-align:right;\"> 1364 </td>\n",
       "   <td style=\"text-align:right;\"> 2407 </td>\n",
       "  </tr>\n",
       "  <tr>\n",
       "   <td style=\"text-align:left;\"> Proximal:Active </td>\n",
       "   <td style=\"text-align:right;\"> 6019 </td>\n",
       "   <td style=\"text-align:right;\"> 6073 </td>\n",
       "  </tr>\n",
       "  <tr>\n",
       "   <td style=\"text-align:left;\"> Proximal:Repressive </td>\n",
       "   <td style=\"text-align:right;\"> 385 </td>\n",
       "   <td style=\"text-align:right;\"> 461 </td>\n",
       "  </tr>\n",
       "</tbody>\n",
       "</table>"
      ]
     },
     "metadata": {},
     "output_type": "display_data"
    }
   ],
   "source": [
    "lst = lst_dat_region_annot_fcc_starrmpra_group_import\n",
    "lst = lapply(lst, function(dat){\n",
    "    res = table(dat$Group, dnn=c(\"Group\"))\n",
    "    dat = as.data.frame(res)\n",
    "    return(dat)\n",
    "})\n",
    "\n",
    "dat = bind_rows(lst, .id = \"Region\")\n",
    "dat = dat %>% tidyr::spread(Region, Freq)\n",
    "fun_display_table(dat)"
   ]
  },
  {
   "cell_type": "markdown",
   "id": "f784faa6-78d5-44c6-bb05-f274e77c969e",
   "metadata": {},
   "source": [
    "## Arrange table"
   ]
  },
  {
   "cell_type": "code",
   "execution_count": 9,
   "id": "7a4defc9-0a51-45c5-b425-afc565624915",
   "metadata": {},
   "outputs": [
    {
     "name": "stdout",
     "output_type": "stream",
     "text": [
      "$fcc_astarr_macs_input_overlap\n",
      "[1] 67908    13\n",
      "\n",
      "$fcc_astarr_macs_input_union\n",
      "[1] 72928    13\n",
      "\n"
     ]
    },
    {
     "data": {
      "text/html": [
       "<table>\n",
       " <thead>\n",
       "  <tr>\n",
       "   <th style=\"text-align:left;\"> Chrom </th>\n",
       "   <th style=\"text-align:right;\"> ChromStart </th>\n",
       "   <th style=\"text-align:right;\"> ChromEnd </th>\n",
       "   <th style=\"text-align:left;\"> Region </th>\n",
       "   <th style=\"text-align:left;\"> Group </th>\n",
       "   <th style=\"text-align:left;\"> Label </th>\n",
       "   <th style=\"text-align:right;\"> Score </th>\n",
       "   <th style=\"text-align:right;\"> Zcore </th>\n",
       "   <th style=\"text-align:left;\"> Score_Label </th>\n",
       "   <th style=\"text-align:left;\"> Zcore_Label </th>\n",
       "   <th style=\"text-align:left;\"> Assay_Folder </th>\n",
       "   <th style=\"text-align:left;\"> Assay_Group </th>\n",
       "   <th style=\"text-align:left;\"> Assay_Label </th>\n",
       "  </tr>\n",
       " </thead>\n",
       "<tbody>\n",
       "  <tr>\n",
       "   <td style=\"text-align:left;\"> chr1 </td>\n",
       "   <td style=\"text-align:right;\"> 778233 </td>\n",
       "   <td style=\"text-align:right;\"> 779389 </td>\n",
       "   <td style=\"text-align:left;\"> chr1:778233-779389 </td>\n",
       "   <td style=\"text-align:left;\"> Proximal:Active </td>\n",
       "   <td style=\"text-align:left;\"> Screen </td>\n",
       "   <td style=\"text-align:right;\"> 1.535732 </td>\n",
       "   <td style=\"text-align:right;\"> 2.420465 </td>\n",
       "   <td style=\"text-align:left;\"> Log2FC </td>\n",
       "   <td style=\"text-align:left;\"> Scale(Log2FC) </td>\n",
       "   <td style=\"text-align:left;\"> STARR_ATAC_K562_Reddy_KS91 </td>\n",
       "   <td style=\"text-align:left;\"> ASTARR_KS91 </td>\n",
       "   <td style=\"text-align:left;\"> ASTARR </td>\n",
       "  </tr>\n",
       "  <tr>\n",
       "   <td style=\"text-align:left;\"> chr1 </td>\n",
       "   <td style=\"text-align:right;\"> 778233 </td>\n",
       "   <td style=\"text-align:right;\"> 779389 </td>\n",
       "   <td style=\"text-align:left;\"> chr1:778233-779389 </td>\n",
       "   <td style=\"text-align:left;\"> Proximal:Active </td>\n",
       "   <td style=\"text-align:left;\"> Screen </td>\n",
       "   <td style=\"text-align:right;\"> 1.154565 </td>\n",
       "   <td style=\"text-align:right;\"> 2.872891 </td>\n",
       "   <td style=\"text-align:left;\"> Log2FC </td>\n",
       "   <td style=\"text-align:left;\"> Scale(Log2FC) </td>\n",
       "   <td style=\"text-align:left;\"> STARR_WHG_K562_Reddy_A001 </td>\n",
       "   <td style=\"text-align:left;\"> WSTARR </td>\n",
       "   <td style=\"text-align:left;\"> WSTARR </td>\n",
       "  </tr>\n",
       "  <tr>\n",
       "   <td style=\"text-align:left;\"> chr1 </td>\n",
       "   <td style=\"text-align:right;\"> 778233 </td>\n",
       "   <td style=\"text-align:right;\"> 779389 </td>\n",
       "   <td style=\"text-align:left;\"> chr1:778233-779389 </td>\n",
       "   <td style=\"text-align:left;\"> Proximal:Active </td>\n",
       "   <td style=\"text-align:left;\"> Screen </td>\n",
       "   <td style=\"text-align:right;\"> 1.103500 </td>\n",
       "   <td style=\"text-align:right;\"> 2.394098 </td>\n",
       "   <td style=\"text-align:left;\"> Log2FC </td>\n",
       "   <td style=\"text-align:left;\"> Scale(Log2FC) </td>\n",
       "   <td style=\"text-align:left;\"> MPRA_Lenti_K562_Nadav_Vikram </td>\n",
       "   <td style=\"text-align:left;\"> LMPRA </td>\n",
       "   <td style=\"text-align:left;\"> LMPRA </td>\n",
       "  </tr>\n",
       "</tbody>\n",
       "</table>"
      ]
     },
     "metadata": {},
     "output_type": "display_data"
    }
   ],
   "source": [
    "### init: set assay and cnames\n",
    "vec_txt_cname = c(\"Chrom\", \"ChromStart\", \"ChromEnd\", \"Region\")\n",
    "\n",
    "### loop to import data\n",
    "lst = lapply(VEC_TXT_FOLDER, function(txt_folder){\n",
    "    ### get tables\n",
    "    dat_region_group = lst_dat_region_annot_fcc_starrmpra_group_import[[txt_folder]]\n",
    "    dat_region_score = lst_dat_region_score_fcc_import[[txt_folder]]\n",
    "\n",
    "    ### join annotation with score\n",
    "    dat = dat_region_group\n",
    "    dat = dat %>%\n",
    "        dplyr::mutate(Label = \"Screen\") %>%\n",
    "        dplyr::inner_join(\n",
    "            dat_region_score, \n",
    "            by = vec_txt_cname,\n",
    "            relationship = \"many-to-many\"\n",
    "        )\n",
    "    return(dat)\n",
    "})\n",
    "\n",
    "### assign and show\n",
    "#lst_dat_region_merge_fcc_starrmpra = lst\n",
    "lst_dat_region_merge_fcc = lst\n",
    "\n",
    "res = lapply(lst, dim)\n",
    "print(res)\n",
    "\n",
    "dat = lst[[1]]\n",
    "fun_display_table(head(dat, 3))"
   ]
  },
  {
   "cell_type": "markdown",
   "id": "d2817ac1-1e43-497f-8d50-a4b41bc6119b",
   "metadata": {},
   "source": [
    "## Export results"
   ]
  },
  {
   "cell_type": "code",
   "execution_count": 10,
   "id": "0d2b2d79-cfc9-4305-8017-942a56f19cda",
   "metadata": {},
   "outputs": [],
   "source": [
    "for (txt_folder in VEC_TXT_FOLDER){\n",
    "    ### get tables\n",
    "    dat_region_merge = lst_dat_region_merge_fcc[[txt_folder]]\n",
    "    \n",
    "    ### set file directory\n",
    "    txt_fdiry  = file.path(FD_RES, \"analysis_fcc_comparison\", txt_folder)\n",
    "    txt_cmd = paste(\"mkdir -p\", txt_fdiry)\n",
    "    system(txt_cmd, intern = FALSE)\n",
    "    \n",
    "    ### write table\n",
    "    txt_fname = \"region.annotation.fcc_starrmpra_group.coverage.fcc.tsv\"\n",
    "    txt_fpath = file.path(txt_fdiry, txt_fname)\n",
    "    \n",
    "    dat = dat_region_merge\n",
    "    write_tsv(dat, txt_fpath)\n",
    "}"
   ]
  },
  {
   "cell_type": "code",
   "execution_count": null,
   "id": "2468d572-7968-4b3f-8b46-a3ea046ed5ae",
   "metadata": {},
   "outputs": [],
   "source": []
  }
 ],
 "metadata": {
  "kernelspec": {
   "display_name": "R",
   "language": "R",
   "name": "ir"
  },
  "language_info": {
   "codemirror_mode": "r",
   "file_extension": ".r",
   "mimetype": "text/x-r-source",
   "name": "R",
   "pygments_lexer": "r",
   "version": "4.5.1"
  }
 },
 "nbformat": 4,
 "nbformat_minor": 5
}
