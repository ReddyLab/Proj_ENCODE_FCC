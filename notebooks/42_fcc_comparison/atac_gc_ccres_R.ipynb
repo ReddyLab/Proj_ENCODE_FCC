{
 "cells": [
  {
   "cell_type": "raw",
   "id": "9f593563-902d-4d3e-81d0-8b6b791cc476",
   "metadata": {},
   "source": [
    "---\n",
    "title: FCC Peak calls\n",
    "subtitle: explore annotation\n",
    "format:\n",
    "    html:\n",
    "        code-fold:  true\n",
    "        code-tools: true\n",
    "---"
   ]
  },
  {
   "cell_type": "markdown",
   "id": "6003238e-76f4-4848-812b-12574a38ab05",
   "metadata": {},
   "source": [
    "**Set environment**"
   ]
  },
  {
   "cell_type": "code",
   "execution_count": 1,
   "id": "7d015e3b-e3d6-43a3-82cf-346f8fa4cd9d",
   "metadata": {
    "tags": []
   },
   "outputs": [
    {
     "name": "stdout",
     "output_type": "stream",
     "text": [
      "You are working on        Singularity \n",
      "BASE DIRECTORY (FD_BASE): /mount \n",
      "REPO DIRECTORY (FD_REPO): /mount/repo \n",
      "WORK DIRECTORY (FD_WORK): /mount/work \n",
      "DATA DIRECTORY (FD_DATA): /mount/data \n",
      "\n",
      "You are working with      ENCODE FCC \n",
      "PATH OF PROJECT (FD_PRJ): /mount/repo/Proj_ENCODE_FCC \n",
      "PROJECT RESULTS (FD_RES): /mount/repo/Proj_ENCODE_FCC/results \n",
      "PROJECT SCRIPTS (FD_EXE): /mount/repo/Proj_ENCODE_FCC/scripts \n",
      "PROJECT DATA    (FD_DAT): /mount/repo/Proj_ENCODE_FCC/data \n",
      "PROJECT NOTE    (FD_NBK): /mount/repo/Proj_ENCODE_FCC/notebooks \n",
      "PROJECT DOCS    (FD_DOC): /mount/repo/Proj_ENCODE_FCC/docs \n",
      "PROJECT LOG     (FD_LOG): /mount/repo/Proj_ENCODE_FCC/log \n",
      "PROJECT APP     (FD_APP): /mount/repo/Proj_ENCODE_FCC/app \n",
      "PROJECT REF     (FD_REF): /mount/repo/Proj_ENCODE_FCC/references \n",
      "\n"
     ]
    }
   ],
   "source": [
    "suppressMessages(suppressWarnings(source(\"../run_config_project_sing.R\")))\n",
    "show_env()"
   ]
  },
  {
   "cell_type": "code",
   "execution_count": 2,
   "id": "afd4fa2b-214c-4af5-9632-f797082fb2f0",
   "metadata": {},
   "outputs": [
    {
     "name": "stdout",
     "output_type": "stream",
     "text": [
      "[1] 150042     12\n"
     ]
    },
    {
     "data": {
      "text/html": [
       "<table>\n",
       " <thead>\n",
       "  <tr>\n",
       "   <th style=\"text-align:left;\"> #1_usercol </th>\n",
       "   <th style=\"text-align:right;\"> 2_usercol </th>\n",
       "   <th style=\"text-align:right;\"> 3_usercol </th>\n",
       "   <th style=\"text-align:right;\"> 4_pct_at </th>\n",
       "   <th style=\"text-align:right;\"> 5_pct_gc </th>\n",
       "   <th style=\"text-align:right;\"> 6_num_A </th>\n",
       "   <th style=\"text-align:right;\"> 7_num_C </th>\n",
       "   <th style=\"text-align:right;\"> 8_num_G </th>\n",
       "   <th style=\"text-align:right;\"> 9_num_T </th>\n",
       "   <th style=\"text-align:right;\"> 10_num_N </th>\n",
       "   <th style=\"text-align:right;\"> 11_num_oth </th>\n",
       "   <th style=\"text-align:right;\"> 12_seq_len </th>\n",
       "  </tr>\n",
       " </thead>\n",
       "<tbody>\n",
       "  <tr>\n",
       "   <td style=\"text-align:left;\"> chr1 </td>\n",
       "   <td style=\"text-align:right;\"> 10038 </td>\n",
       "   <td style=\"text-align:right;\"> 10405 </td>\n",
       "   <td style=\"text-align:right;\"> 0.476839 </td>\n",
       "   <td style=\"text-align:right;\"> 0.523161 </td>\n",
       "   <td style=\"text-align:right;\"> 122 </td>\n",
       "   <td style=\"text-align:right;\"> 192 </td>\n",
       "   <td style=\"text-align:right;\"> 0 </td>\n",
       "   <td style=\"text-align:right;\"> 53 </td>\n",
       "   <td style=\"text-align:right;\"> 0 </td>\n",
       "   <td style=\"text-align:right;\"> 0 </td>\n",
       "   <td style=\"text-align:right;\"> 367 </td>\n",
       "  </tr>\n",
       "  <tr>\n",
       "   <td style=\"text-align:left;\"> chr1 </td>\n",
       "   <td style=\"text-align:right;\"> 14282 </td>\n",
       "   <td style=\"text-align:right;\"> 14614 </td>\n",
       "   <td style=\"text-align:right;\"> 0.421687 </td>\n",
       "   <td style=\"text-align:right;\"> 0.578313 </td>\n",
       "   <td style=\"text-align:right;\"> 65 </td>\n",
       "   <td style=\"text-align:right;\"> 102 </td>\n",
       "   <td style=\"text-align:right;\"> 90 </td>\n",
       "   <td style=\"text-align:right;\"> 75 </td>\n",
       "   <td style=\"text-align:right;\"> 0 </td>\n",
       "   <td style=\"text-align:right;\"> 0 </td>\n",
       "   <td style=\"text-align:right;\"> 332 </td>\n",
       "  </tr>\n",
       "  <tr>\n",
       "   <td style=\"text-align:left;\"> chr1 </td>\n",
       "   <td style=\"text-align:right;\"> 16025 </td>\n",
       "   <td style=\"text-align:right;\"> 16338 </td>\n",
       "   <td style=\"text-align:right;\"> 0.412141 </td>\n",
       "   <td style=\"text-align:right;\"> 0.587859 </td>\n",
       "   <td style=\"text-align:right;\"> 62 </td>\n",
       "   <td style=\"text-align:right;\"> 89 </td>\n",
       "   <td style=\"text-align:right;\"> 95 </td>\n",
       "   <td style=\"text-align:right;\"> 67 </td>\n",
       "   <td style=\"text-align:right;\"> 0 </td>\n",
       "   <td style=\"text-align:right;\"> 0 </td>\n",
       "   <td style=\"text-align:right;\"> 313 </td>\n",
       "  </tr>\n",
       "</tbody>\n",
       "</table>"
      ]
     },
     "metadata": {},
     "output_type": "display_data"
    }
   ],
   "source": [
    "txt_fdiry = file.path(\n",
    "    FD_RES, \n",
    "    \"region_nuc\", \n",
    "    \"fcc_astarr_macs\"\n",
    ")\n",
    "txt_fname = \"K562.hg38.ASTARR.macs.KS91.input.rep_all.max_overlaps.q5.bed.gz\"\n",
    "txt_fpath = file.path(txt_fdiry, txt_fname)\n",
    "\n",
    "dat = read_tsv(txt_fpath, show_col_types = FALSE)\n",
    "\n",
    "dat_region_gc = dat\n",
    "print(dim(dat))\n",
    "fun_display_table(head(dat, 3))"
   ]
  },
  {
   "cell_type": "code",
   "execution_count": 8,
   "id": "57f93e81-331b-4ee0-a271-bf7abd504d7b",
   "metadata": {},
   "outputs": [
    {
     "name": "stdout",
     "output_type": "stream",
     "text": [
      "[1] 193629      6\n"
     ]
    },
    {
     "data": {
      "text/html": [
       "<table>\n",
       " <thead>\n",
       "  <tr>\n",
       "   <th style=\"text-align:left;\"> Chrom </th>\n",
       "   <th style=\"text-align:right;\"> ChromStart </th>\n",
       "   <th style=\"text-align:right;\"> ChromEnd </th>\n",
       "   <th style=\"text-align:left;\"> Region </th>\n",
       "   <th style=\"text-align:left;\"> Group </th>\n",
       "   <th style=\"text-align:left;\"> Label </th>\n",
       "  </tr>\n",
       " </thead>\n",
       "<tbody>\n",
       "  <tr>\n",
       "   <td style=\"text-align:left;\"> chr1 </td>\n",
       "   <td style=\"text-align:right;\"> 10038 </td>\n",
       "   <td style=\"text-align:right;\"> 10405 </td>\n",
       "   <td style=\"text-align:left;\"> chr1:10038-10405 </td>\n",
       "   <td style=\"text-align:left;\"> cCREs </td>\n",
       "   <td style=\"text-align:left;\"> Low-DNase </td>\n",
       "  </tr>\n",
       "  <tr>\n",
       "   <td style=\"text-align:left;\"> chr1 </td>\n",
       "   <td style=\"text-align:right;\"> 16025 </td>\n",
       "   <td style=\"text-align:right;\"> 16338 </td>\n",
       "   <td style=\"text-align:left;\"> chr1:16025-16338 </td>\n",
       "   <td style=\"text-align:left;\"> cCREs </td>\n",
       "   <td style=\"text-align:left;\"> Low-DNase </td>\n",
       "  </tr>\n",
       "  <tr>\n",
       "   <td style=\"text-align:left;\"> chr1 </td>\n",
       "   <td style=\"text-align:right;\"> 17288 </td>\n",
       "   <td style=\"text-align:right;\"> 17689 </td>\n",
       "   <td style=\"text-align:left;\"> chr1:17288-17689 </td>\n",
       "   <td style=\"text-align:left;\"> cCREs </td>\n",
       "   <td style=\"text-align:left;\"> Low-DNase </td>\n",
       "  </tr>\n",
       "</tbody>\n",
       "</table>"
      ]
     },
     "metadata": {},
     "output_type": "display_data"
    }
   ],
   "source": [
    "txt_fdiry = file.path(\n",
    "    FD_RES, \n",
    "    \"region_annotation\", \n",
    "    \"fcc_astarr_macs_input_overlap\",\n",
    "    \"summary\"\n",
    ")\n",
    "txt_fname = \"result.summary.encode_chromatin_states.tsv\"\n",
    "txt_fpath = file.path(txt_fdiry, txt_fname)\n",
    "\n",
    "dat = read_tsv(txt_fpath, show_col_types = FALSE)\n",
    "\n",
    "lst = split(dat, dat$Group)\n",
    "dat = lst[[\"cCREs\"]]\n",
    "\n",
    "dat_region_annot_ccres = dat\n",
    "print(dim(dat))\n",
    "fun_display_table(head(dat, 3))"
   ]
  },
  {
   "cell_type": "code",
   "execution_count": 18,
   "id": "0f1f0660-3a8b-48aa-8386-4ee6709d5b2b",
   "metadata": {},
   "outputs": [
    {
     "data": {
      "text/html": [
       "<table class=\"dataframe\">\n",
       "<caption>A tibble: 6 × 5</caption>\n",
       "<thead>\n",
       "\t<tr><th scope=col>Chrom</th><th scope=col>ChromStart</th><th scope=col>ChromEnd</th><th scope=col>pGC</th><th scope=col>Length</th></tr>\n",
       "\t<tr><th scope=col>&lt;chr&gt;</th><th scope=col>&lt;dbl&gt;</th><th scope=col>&lt;dbl&gt;</th><th scope=col>&lt;dbl&gt;</th><th scope=col>&lt;dbl&gt;</th></tr>\n",
       "</thead>\n",
       "<tbody>\n",
       "\t<tr><td>chr1</td><td> 10038</td><td> 10405</td><td>0.523161</td><td>367</td></tr>\n",
       "\t<tr><td>chr1</td><td> 14282</td><td> 14614</td><td>0.578313</td><td>332</td></tr>\n",
       "\t<tr><td>chr1</td><td> 16025</td><td> 16338</td><td>0.587859</td><td>313</td></tr>\n",
       "\t<tr><td>chr1</td><td> 17288</td><td> 17689</td><td>0.625935</td><td>401</td></tr>\n",
       "\t<tr><td>chr1</td><td> 28934</td><td> 29499</td><td>0.771681</td><td>565</td></tr>\n",
       "\t<tr><td>chr1</td><td>115429</td><td>115969</td><td>0.381481</td><td>540</td></tr>\n",
       "</tbody>\n",
       "</table>\n"
      ],
      "text/latex": [
       "A tibble: 6 × 5\n",
       "\\begin{tabular}{lllll}\n",
       " Chrom & ChromStart & ChromEnd & pGC & Length\\\\\n",
       " <chr> & <dbl> & <dbl> & <dbl> & <dbl>\\\\\n",
       "\\hline\n",
       "\t chr1 &  10038 &  10405 & 0.523161 & 367\\\\\n",
       "\t chr1 &  14282 &  14614 & 0.578313 & 332\\\\\n",
       "\t chr1 &  16025 &  16338 & 0.587859 & 313\\\\\n",
       "\t chr1 &  17288 &  17689 & 0.625935 & 401\\\\\n",
       "\t chr1 &  28934 &  29499 & 0.771681 & 565\\\\\n",
       "\t chr1 & 115429 & 115969 & 0.381481 & 540\\\\\n",
       "\\end{tabular}\n"
      ],
      "text/markdown": [
       "\n",
       "A tibble: 6 × 5\n",
       "\n",
       "| Chrom &lt;chr&gt; | ChromStart &lt;dbl&gt; | ChromEnd &lt;dbl&gt; | pGC &lt;dbl&gt; | Length &lt;dbl&gt; |\n",
       "|---|---|---|---|---|\n",
       "| chr1 |  10038 |  10405 | 0.523161 | 367 |\n",
       "| chr1 |  14282 |  14614 | 0.578313 | 332 |\n",
       "| chr1 |  16025 |  16338 | 0.587859 | 313 |\n",
       "| chr1 |  17288 |  17689 | 0.625935 | 401 |\n",
       "| chr1 |  28934 |  29499 | 0.771681 | 565 |\n",
       "| chr1 | 115429 | 115969 | 0.381481 | 540 |\n",
       "\n"
      ],
      "text/plain": [
       "  Chrom ChromStart ChromEnd pGC      Length\n",
       "1 chr1   10038      10405   0.523161 367   \n",
       "2 chr1   14282      14614   0.578313 332   \n",
       "3 chr1   16025      16338   0.587859 313   \n",
       "4 chr1   17288      17689   0.625935 401   \n",
       "5 chr1   28934      29499   0.771681 565   \n",
       "6 chr1  115429     115969   0.381481 540   "
      ]
     },
     "metadata": {},
     "output_type": "display_data"
    }
   ],
   "source": [
    "tmp = dat_region_gc\n",
    "tmp = tmp %>% dplyr::select(\n",
    "    `#1_usercol`,\n",
    "    `2_usercol`,\n",
    "    `3_usercol`,\n",
    "    `5_pct_gc`,\n",
    "    `12_seq_len`\n",
    ")\n",
    "colnames(tmp) = c(\"Chrom\", \"ChromStart\", \"ChromEnd\", \"pGC\", \"Length\")\n",
    "head(tmp)"
   ]
  },
  {
   "cell_type": "code",
   "execution_count": 19,
   "id": "7f130e52-3591-4789-bb91-9fdbcec1b249",
   "metadata": {},
   "outputs": [
    {
     "data": {
      "text/html": [
       "<table class=\"dataframe\">\n",
       "<caption>A tibble: 6 × 8</caption>\n",
       "<thead>\n",
       "\t<tr><th scope=col>Chrom</th><th scope=col>ChromStart</th><th scope=col>ChromEnd</th><th scope=col>Region</th><th scope=col>Group</th><th scope=col>Label</th><th scope=col>pGC</th><th scope=col>Length</th></tr>\n",
       "\t<tr><th scope=col>&lt;chr&gt;</th><th scope=col>&lt;dbl&gt;</th><th scope=col>&lt;dbl&gt;</th><th scope=col>&lt;chr&gt;</th><th scope=col>&lt;chr&gt;</th><th scope=col>&lt;chr&gt;</th><th scope=col>&lt;dbl&gt;</th><th scope=col>&lt;dbl&gt;</th></tr>\n",
       "</thead>\n",
       "<tbody>\n",
       "\t<tr><td>chr1</td><td> 10038</td><td> 10405</td><td>chr1:10038-10405  </td><td>cCREs</td><td>Low-DNase</td><td>0.523161</td><td> 367</td></tr>\n",
       "\t<tr><td>chr1</td><td> 16025</td><td> 16338</td><td>chr1:16025-16338  </td><td>cCREs</td><td>Low-DNase</td><td>0.587859</td><td> 313</td></tr>\n",
       "\t<tr><td>chr1</td><td> 17288</td><td> 17689</td><td>chr1:17288-17689  </td><td>cCREs</td><td>Low-DNase</td><td>0.625935</td><td> 401</td></tr>\n",
       "\t<tr><td>chr1</td><td> 28934</td><td> 29499</td><td>chr1:28934-29499  </td><td>cCREs</td><td>Low-DNase</td><td>0.771681</td><td> 565</td></tr>\n",
       "\t<tr><td>chr1</td><td>115429</td><td>115969</td><td>chr1:115429-115969</td><td>cCREs</td><td>CA-CTCF  </td><td>0.381481</td><td> 540</td></tr>\n",
       "\t<tr><td>chr1</td><td>136201</td><td>137353</td><td>chr1:136201-137353</td><td>cCREs</td><td>Low-DNase</td><td>0.694444</td><td>1152</td></tr>\n",
       "</tbody>\n",
       "</table>\n"
      ],
      "text/latex": [
       "A tibble: 6 × 8\n",
       "\\begin{tabular}{llllllll}\n",
       " Chrom & ChromStart & ChromEnd & Region & Group & Label & pGC & Length\\\\\n",
       " <chr> & <dbl> & <dbl> & <chr> & <chr> & <chr> & <dbl> & <dbl>\\\\\n",
       "\\hline\n",
       "\t chr1 &  10038 &  10405 & chr1:10038-10405   & cCREs & Low-DNase & 0.523161 &  367\\\\\n",
       "\t chr1 &  16025 &  16338 & chr1:16025-16338   & cCREs & Low-DNase & 0.587859 &  313\\\\\n",
       "\t chr1 &  17288 &  17689 & chr1:17288-17689   & cCREs & Low-DNase & 0.625935 &  401\\\\\n",
       "\t chr1 &  28934 &  29499 & chr1:28934-29499   & cCREs & Low-DNase & 0.771681 &  565\\\\\n",
       "\t chr1 & 115429 & 115969 & chr1:115429-115969 & cCREs & CA-CTCF   & 0.381481 &  540\\\\\n",
       "\t chr1 & 136201 & 137353 & chr1:136201-137353 & cCREs & Low-DNase & 0.694444 & 1152\\\\\n",
       "\\end{tabular}\n"
      ],
      "text/markdown": [
       "\n",
       "A tibble: 6 × 8\n",
       "\n",
       "| Chrom &lt;chr&gt; | ChromStart &lt;dbl&gt; | ChromEnd &lt;dbl&gt; | Region &lt;chr&gt; | Group &lt;chr&gt; | Label &lt;chr&gt; | pGC &lt;dbl&gt; | Length &lt;dbl&gt; |\n",
       "|---|---|---|---|---|---|---|---|\n",
       "| chr1 |  10038 |  10405 | chr1:10038-10405   | cCREs | Low-DNase | 0.523161 |  367 |\n",
       "| chr1 |  16025 |  16338 | chr1:16025-16338   | cCREs | Low-DNase | 0.587859 |  313 |\n",
       "| chr1 |  17288 |  17689 | chr1:17288-17689   | cCREs | Low-DNase | 0.625935 |  401 |\n",
       "| chr1 |  28934 |  29499 | chr1:28934-29499   | cCREs | Low-DNase | 0.771681 |  565 |\n",
       "| chr1 | 115429 | 115969 | chr1:115429-115969 | cCREs | CA-CTCF   | 0.381481 |  540 |\n",
       "| chr1 | 136201 | 137353 | chr1:136201-137353 | cCREs | Low-DNase | 0.694444 | 1152 |\n",
       "\n"
      ],
      "text/plain": [
       "  Chrom ChromStart ChromEnd Region             Group Label     pGC      Length\n",
       "1 chr1   10038      10405   chr1:10038-10405   cCREs Low-DNase 0.523161  367  \n",
       "2 chr1   16025      16338   chr1:16025-16338   cCREs Low-DNase 0.587859  313  \n",
       "3 chr1   17288      17689   chr1:17288-17689   cCREs Low-DNase 0.625935  401  \n",
       "4 chr1   28934      29499   chr1:28934-29499   cCREs Low-DNase 0.771681  565  \n",
       "5 chr1  115429     115969   chr1:115429-115969 cCREs CA-CTCF   0.381481  540  \n",
       "6 chr1  136201     137353   chr1:136201-137353 cCREs Low-DNase 0.694444 1152  "
      ]
     },
     "metadata": {},
     "output_type": "display_data"
    }
   ],
   "source": [
    "dat = dat_region_annot_ccres\n",
    "dat = dat %>% dplyr::left_join(tmp, by = c(\"Chrom\", \"ChromStart\", \"ChromEnd\"))\n",
    "head(dat)"
   ]
  },
  {
   "cell_type": "code",
   "execution_count": 24,
   "id": "a8a971cb-ee51-4e2e-98d0-8d538ecb1f8c",
   "metadata": {},
   "outputs": [
    {
     "data": {
      "text/html": [
       "<table class=\"dataframe\">\n",
       "<caption>A tibble: 8 × 2</caption>\n",
       "<thead>\n",
       "\t<tr><th scope=col>Label</th><th scope=col>pGC</th></tr>\n",
       "\t<tr><th scope=col>&lt;chr&gt;</th><th scope=col>&lt;dbl&gt;</th></tr>\n",
       "</thead>\n",
       "<tbody>\n",
       "\t<tr><td>dELS      </td><td>0.4889828</td></tr>\n",
       "\t<tr><td>CA-TF     </td><td>0.4930378</td></tr>\n",
       "\t<tr><td>CA-CTCF   </td><td>0.5105088</td></tr>\n",
       "\t<tr><td>CA-only   </td><td>0.5209320</td></tr>\n",
       "\t<tr><td>Low-DNase </td><td>0.5335020</td></tr>\n",
       "\t<tr><td>pELS      </td><td>0.5936917</td></tr>\n",
       "\t<tr><td>PLS       </td><td>0.6227318</td></tr>\n",
       "\t<tr><td>CA-H3K4me3</td><td>0.6385777</td></tr>\n",
       "</tbody>\n",
       "</table>\n"
      ],
      "text/latex": [
       "A tibble: 8 × 2\n",
       "\\begin{tabular}{ll}\n",
       " Label & pGC\\\\\n",
       " <chr> & <dbl>\\\\\n",
       "\\hline\n",
       "\t dELS       & 0.4889828\\\\\n",
       "\t CA-TF      & 0.4930378\\\\\n",
       "\t CA-CTCF    & 0.5105088\\\\\n",
       "\t CA-only    & 0.5209320\\\\\n",
       "\t Low-DNase  & 0.5335020\\\\\n",
       "\t pELS       & 0.5936917\\\\\n",
       "\t PLS        & 0.6227318\\\\\n",
       "\t CA-H3K4me3 & 0.6385777\\\\\n",
       "\\end{tabular}\n"
      ],
      "text/markdown": [
       "\n",
       "A tibble: 8 × 2\n",
       "\n",
       "| Label &lt;chr&gt; | pGC &lt;dbl&gt; |\n",
       "|---|---|\n",
       "| dELS       | 0.4889828 |\n",
       "| CA-TF      | 0.4930378 |\n",
       "| CA-CTCF    | 0.5105088 |\n",
       "| CA-only    | 0.5209320 |\n",
       "| Low-DNase  | 0.5335020 |\n",
       "| pELS       | 0.5936917 |\n",
       "| PLS        | 0.6227318 |\n",
       "| CA-H3K4me3 | 0.6385777 |\n",
       "\n"
      ],
      "text/plain": [
       "  Label      pGC      \n",
       "1 dELS       0.4889828\n",
       "2 CA-TF      0.4930378\n",
       "3 CA-CTCF    0.5105088\n",
       "4 CA-only    0.5209320\n",
       "5 Low-DNase  0.5335020\n",
       "6 pELS       0.5936917\n",
       "7 PLS        0.6227318\n",
       "8 CA-H3K4me3 0.6385777"
      ]
     },
     "metadata": {},
     "output_type": "display_data"
    }
   ],
   "source": [
    "tmp = dat \n",
    "tmp = tmp %>% \n",
    "    dplyr::group_by(Label) %>% \n",
    "    dplyr::summarise(pGC=mean(pGC)) %>% \n",
    "    dplyr::arrange(pGC)\n",
    "\n",
    "tmp"
   ]
  },
  {
   "cell_type": "code",
   "execution_count": 27,
   "id": "3816a22c-7ae9-4045-a180-cc05c5106993",
   "metadata": {},
   "outputs": [
    {
     "data": {
      "image/png": "[encoded data removed]",
      "text/plain": [
       "plot without title"
      ]
     },
     "metadata": {
      "image/png": {
       "height": 660,
       "width": 540
      }
     },
     "output_type": "display_data"
    }
   ],
   "source": [
    "dat = dat %>% dplyr::mutate(Label = factor(Label, levels=tmp$Label))\n",
    "\n",
    "gpt = ggplot(dat, aes(x=pGC)) + \n",
    "    geom_density(fill = \"grey50\") + \n",
    "    labs(x = \"GC%\", title = \"Density of GC Content for ATAC regions w/ cCREs annotated\") +\n",
    "    theme_cowplot() +\n",
    "    facet_grid(Label~.)\n",
    "\n",
    "options(repr.plot.height = 11, repr.plot.width=9)\n",
    "print(gpt)"
   ]
  },
  {
   "cell_type": "code",
   "execution_count": null,
   "id": "4eded35a-2730-4d58-8d53-37f37598d632",
   "metadata": {},
   "outputs": [],
   "source": []
  }
 ],
 "metadata": {
  "kernelspec": {
   "display_name": "R",
   "language": "R",
   "name": "ir"
  },
  "language_info": {
   "codemirror_mode": "r",
   "file_extension": ".r",
   "mimetype": "text/x-r-source",
   "name": "R",
   "pygments_lexer": "r",
   "version": "4.4.1"
  }
 },
 "nbformat": 4,
 "nbformat_minor": 5
}
