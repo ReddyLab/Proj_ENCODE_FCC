{
 "cells": [
  {
   "cell_type": "raw",
   "id": "80aeba33-2d73-4c53-92f4-85ae6ced1925",
   "metadata": {},
   "source": [
    "---\n",
    "title: CRISPRi-Growth vs TSS Essential 02\n",
    "subtitle: Run statistical tests\n",
    "format:\n",
    "    html:\n",
    "        code-fold:  true\n",
    "        code-tools: true\n",
    "---"
   ]
  },
  {
   "cell_type": "markdown",
   "id": "b0180dfe-1582-4047-ad5e-0b0353917001",
   "metadata": {},
   "source": [
    "**Set environment**"
   ]
  },
  {
   "cell_type": "code",
   "execution_count": 1,
   "id": "c81b8f9f-b0cd-47f3-8492-387063e0e4f4",
   "metadata": {
    "tags": []
   },
   "outputs": [
    {
     "name": "stdout",
     "output_type": "stream",
     "text": [
      "You are working on        Singularity: singularity_proj_encode_fcc \n",
      "BASE DIRECTORY (FD_BASE): /data/reddylab/Kuei \n",
      "REPO DIRECTORY (FD_REPO): /data/reddylab/Kuei/repo \n",
      "WORK DIRECTORY (FD_WORK): /data/reddylab/Kuei/work \n",
      "DATA DIRECTORY (FD_DATA): /data/reddylab/Kuei/data \n",
      "\n",
      "You are working with      ENCODE FCC \n",
      "PATH OF PROJECT (FD_PRJ): /data/reddylab/Kuei/repo/Proj_ENCODE_FCC \n",
      "PROJECT RESULTS (FD_RES): /data/reddylab/Kuei/repo/Proj_ENCODE_FCC/results \n",
      "PROJECT SCRIPTS (FD_EXE): /data/reddylab/Kuei/repo/Proj_ENCODE_FCC/scripts \n",
      "PROJECT DATA    (FD_DAT): /data/reddylab/Kuei/repo/Proj_ENCODE_FCC/data \n",
      "PROJECT NOTE    (FD_NBK): /data/reddylab/Kuei/repo/Proj_ENCODE_FCC/notebooks \n",
      "PROJECT DOCS    (FD_DOC): /data/reddylab/Kuei/repo/Proj_ENCODE_FCC/docs \n",
      "PROJECT LOG     (FD_LOG): /data/reddylab/Kuei/repo/Proj_ENCODE_FCC/log \n",
      "PROJECT REF     (FD_REF): /data/reddylab/Kuei/repo/Proj_ENCODE_FCC/references \n",
      "\n"
     ]
    }
   ],
   "source": [
    "suppressMessages(suppressWarnings(source(\"../run_config_project_sing.R\")))\n",
    "show_env()"
   ]
  },
  {
   "cell_type": "markdown",
   "id": "4894db92-b57c-4d92-a133-3aa63d0605a2",
   "metadata": {},
   "source": [
    "**Set global variable**"
   ]
  },
  {
   "cell_type": "code",
   "execution_count": 2,
   "id": "237f5922-0b98-45e4-b19a-356c0e1ae381",
   "metadata": {},
   "outputs": [
    {
     "name": "stdout",
     "output_type": "stream",
     "text": [
      "fcc_astarr_macs_input_overlap \n",
      "fcc_astarr_macs_input_union \n"
     ]
    }
   ],
   "source": [
    "vec = c(\n",
    "    \"fcc_astarr_macs_input_overlap\",\n",
    "    \"fcc_astarr_macs_input_union\"\n",
    ")\n",
    "names(vec) = vec\n",
    "\n",
    "VEC_TXT_FOLDER = vec\n",
    "for(txt in vec){cat(txt, \"\\n\")}"
   ]
  },
  {
   "cell_type": "markdown",
   "id": "dbc47ab0-adca-4678-b5d1-c8c49cf20c9c",
   "metadata": {},
   "source": [
    "**View files**"
   ]
  },
  {
   "cell_type": "code",
   "execution_count": 3,
   "id": "fb242b50-c286-4a9c-936c-97c98ce89d8e",
   "metadata": {},
   "outputs": [
    {
     "name": "stdout",
     "output_type": "stream",
     "text": [
      "/data/reddylab/Kuei/repo/Proj_ENCODE_FCC/results/analysis_fcc_comparison/fcc_astarr_macs_input_overlap/region.annotation.tss_essential.coverage.crispri_growth.tsv \n"
     ]
    }
   ],
   "source": [
    "txt_folder = VEC_TXT_FOLDER[1]\n",
    "txt_fdiry  = file.path(FD_RES, \"analysis_fcc_comparison\", txt_folder)\n",
    "txt_fname = \"region.annotation.tss_essential.coverage.crispri_growth.tsv\"\n",
    "txt_fglob  = file.path(txt_fdiry, txt_fname)\n",
    "\n",
    "vec = Sys.glob(txt_fglob)\n",
    "for (txt in vec) {cat(txt, \"\\n\")}"
   ]
  },
  {
   "cell_type": "markdown",
   "id": "e77ba8c6-d6a1-48d6-89cc-4e7f2c0aec7b",
   "metadata": {},
   "source": [
    "## Import data"
   ]
  },
  {
   "cell_type": "code",
   "execution_count": 4,
   "id": "af49b631-5b11-4125-a4fc-4a6a8d1090f6",
   "metadata": {},
   "outputs": [
    {
     "name": "stdout",
     "output_type": "stream",
     "text": [
      "$fcc_astarr_macs_input_overlap\n",
      "[1] 1428   15\n",
      "\n",
      "$fcc_astarr_macs_input_union\n",
      "[1] 1455   15\n",
      "\n"
     ]
    },
    {
     "data": {
      "text/html": [
       "<table class=\"dataframe\">\n",
       "<caption>A tibble: 3 × 15</caption>\n",
       "<thead>\n",
       "\t<tr><th scope=col>Chrom</th><th scope=col>ChromStart</th><th scope=col>ChromEnd</th><th scope=col>Region</th><th scope=col>Group</th><th scope=col>Label</th><th scope=col>Score</th><th scope=col>Zcore</th><th scope=col>Score_Label</th><th scope=col>Zcore_Label</th><th scope=col>Assay_Folder</th><th scope=col>Assay_Group</th><th scope=col>Assay_Label</th><th scope=col>TSS_Proximity</th><th scope=col>TSS_Category</th></tr>\n",
       "\t<tr><th scope=col>&lt;chr&gt;</th><th scope=col>&lt;dbl&gt;</th><th scope=col>&lt;dbl&gt;</th><th scope=col>&lt;chr&gt;</th><th scope=col>&lt;chr&gt;</th><th scope=col>&lt;chr&gt;</th><th scope=col>&lt;dbl&gt;</th><th scope=col>&lt;dbl&gt;</th><th scope=col>&lt;chr&gt;</th><th scope=col>&lt;chr&gt;</th><th scope=col>&lt;chr&gt;</th><th scope=col>&lt;chr&gt;</th><th scope=col>&lt;chr&gt;</th><th scope=col>&lt;chr&gt;</th><th scope=col>&lt;chr&gt;</th></tr>\n",
       "</thead>\n",
       "<tbody>\n",
       "\t<tr><td>chr1</td><td>1068587</td><td>1070616</td><td>chr1:1068587-1070616</td><td>Proximal:Active</td><td>Screen:Signif</td><td>0.2520571</td><td>0.2520571</td><td>Mean(ZScore)</td><td>Mean(ZScore)</td><td>CRISPRi_Growth_K562_Gersbach_JinWoo</td><td>CRISPRi-Growth</td><td>CRISPRi-Growth</td><td>Proximal</td><td>Proximal:Non-Essential</td></tr>\n",
       "\t<tr><td>chr1</td><td>1324275</td><td>1325765</td><td>chr1:1324275-1325765</td><td>Proximal:Active</td><td>Screen:Signif</td><td>0.5069515</td><td>0.5069515</td><td>Mean(ZScore)</td><td>Mean(ZScore)</td><td>CRISPRi_Growth_K562_Gersbach_JinWoo</td><td>CRISPRi-Growth</td><td>CRISPRi-Growth</td><td>Proximal</td><td>Proximal:Non-Essential</td></tr>\n",
       "\t<tr><td>chr1</td><td>1573998</td><td>1575422</td><td>chr1:1573998-1575422</td><td>Proximal:Active</td><td>Screen:Signif</td><td>0.4354863</td><td>0.4354863</td><td>Mean(ZScore)</td><td>Mean(ZScore)</td><td>CRISPRi_Growth_K562_Gersbach_JinWoo</td><td>CRISPRi-Growth</td><td>CRISPRi-Growth</td><td>Proximal</td><td>Proximal:Essential    </td></tr>\n",
       "</tbody>\n",
       "</table>\n"
      ],
      "text/latex": [
       "A tibble: 3 × 15\n",
       "\\begin{tabular}{lllllllllllllll}\n",
       " Chrom & ChromStart & ChromEnd & Region & Group & Label & Score & Zcore & Score\\_Label & Zcore\\_Label & Assay\\_Folder & Assay\\_Group & Assay\\_Label & TSS\\_Proximity & TSS\\_Category\\\\\n",
       " <chr> & <dbl> & <dbl> & <chr> & <chr> & <chr> & <dbl> & <dbl> & <chr> & <chr> & <chr> & <chr> & <chr> & <chr> & <chr>\\\\\n",
       "\\hline\n",
       "\t chr1 & 1068587 & 1070616 & chr1:1068587-1070616 & Proximal:Active & Screen:Signif & 0.2520571 & 0.2520571 & Mean(ZScore) & Mean(ZScore) & CRISPRi\\_Growth\\_K562\\_Gersbach\\_JinWoo & CRISPRi-Growth & CRISPRi-Growth & Proximal & Proximal:Non-Essential\\\\\n",
       "\t chr1 & 1324275 & 1325765 & chr1:1324275-1325765 & Proximal:Active & Screen:Signif & 0.5069515 & 0.5069515 & Mean(ZScore) & Mean(ZScore) & CRISPRi\\_Growth\\_K562\\_Gersbach\\_JinWoo & CRISPRi-Growth & CRISPRi-Growth & Proximal & Proximal:Non-Essential\\\\\n",
       "\t chr1 & 1573998 & 1575422 & chr1:1573998-1575422 & Proximal:Active & Screen:Signif & 0.4354863 & 0.4354863 & Mean(ZScore) & Mean(ZScore) & CRISPRi\\_Growth\\_K562\\_Gersbach\\_JinWoo & CRISPRi-Growth & CRISPRi-Growth & Proximal & Proximal:Essential    \\\\\n",
       "\\end{tabular}\n"
      ],
      "text/markdown": [
       "\n",
       "A tibble: 3 × 15\n",
       "\n",
       "| Chrom &lt;chr&gt; | ChromStart &lt;dbl&gt; | ChromEnd &lt;dbl&gt; | Region &lt;chr&gt; | Group &lt;chr&gt; | Label &lt;chr&gt; | Score &lt;dbl&gt; | Zcore &lt;dbl&gt; | Score_Label &lt;chr&gt; | Zcore_Label &lt;chr&gt; | Assay_Folder &lt;chr&gt; | Assay_Group &lt;chr&gt; | Assay_Label &lt;chr&gt; | TSS_Proximity &lt;chr&gt; | TSS_Category &lt;chr&gt; |\n",
       "|---|---|---|---|---|---|---|---|---|---|---|---|---|---|---|\n",
       "| chr1 | 1068587 | 1070616 | chr1:1068587-1070616 | Proximal:Active | Screen:Signif | 0.2520571 | 0.2520571 | Mean(ZScore) | Mean(ZScore) | CRISPRi_Growth_K562_Gersbach_JinWoo | CRISPRi-Growth | CRISPRi-Growth | Proximal | Proximal:Non-Essential |\n",
       "| chr1 | 1324275 | 1325765 | chr1:1324275-1325765 | Proximal:Active | Screen:Signif | 0.5069515 | 0.5069515 | Mean(ZScore) | Mean(ZScore) | CRISPRi_Growth_K562_Gersbach_JinWoo | CRISPRi-Growth | CRISPRi-Growth | Proximal | Proximal:Non-Essential |\n",
       "| chr1 | 1573998 | 1575422 | chr1:1573998-1575422 | Proximal:Active | Screen:Signif | 0.4354863 | 0.4354863 | Mean(ZScore) | Mean(ZScore) | CRISPRi_Growth_K562_Gersbach_JinWoo | CRISPRi-Growth | CRISPRi-Growth | Proximal | Proximal:Essential     |\n",
       "\n"
      ],
      "text/plain": [
       "  Chrom ChromStart ChromEnd Region               Group           Label        \n",
       "1 chr1  1068587    1070616  chr1:1068587-1070616 Proximal:Active Screen:Signif\n",
       "2 chr1  1324275    1325765  chr1:1324275-1325765 Proximal:Active Screen:Signif\n",
       "3 chr1  1573998    1575422  chr1:1573998-1575422 Proximal:Active Screen:Signif\n",
       "  Score     Zcore     Score_Label  Zcore_Label \n",
       "1 0.2520571 0.2520571 Mean(ZScore) Mean(ZScore)\n",
       "2 0.5069515 0.5069515 Mean(ZScore) Mean(ZScore)\n",
       "3 0.4354863 0.4354863 Mean(ZScore) Mean(ZScore)\n",
       "  Assay_Folder                        Assay_Group    Assay_Label   \n",
       "1 CRISPRi_Growth_K562_Gersbach_JinWoo CRISPRi-Growth CRISPRi-Growth\n",
       "2 CRISPRi_Growth_K562_Gersbach_JinWoo CRISPRi-Growth CRISPRi-Growth\n",
       "3 CRISPRi_Growth_K562_Gersbach_JinWoo CRISPRi-Growth CRISPRi-Growth\n",
       "  TSS_Proximity TSS_Category          \n",
       "1 Proximal      Proximal:Non-Essential\n",
       "2 Proximal      Proximal:Non-Essential\n",
       "3 Proximal      Proximal:Essential    "
      ]
     },
     "metadata": {},
     "output_type": "display_data"
    }
   ],
   "source": [
    "### loop to import data\n",
    "lst = lapply(VEC_TXT_FOLDER, function(txt_folder){\n",
    "    ### set file directory\n",
    "    txt_fdiry  = file.path(FD_RES, \"analysis_fcc_comparison\", txt_folder)\n",
    "    txt_fname  = \"region.annotation.tss_essential.coverage.crispri_growth.tsv\"\n",
    "    txt_fpath = file.path(txt_fdiry, txt_fname)\n",
    "\n",
    "    ### read table\n",
    "    dat = read_tsv(txt_fpath, show_col_types = FALSE)\n",
    "    return(dat)\n",
    "})\n",
    "\n",
    "### assign and show\n",
    "lst_dat_region_merge_crispri_growth_tss_import = lst\n",
    "\n",
    "res = lapply(lst, dim)\n",
    "print(res)\n",
    "\n",
    "dat = lst[[1]]\n",
    "head(dat, 3)"
   ]
  },
  {
   "cell_type": "markdown",
   "id": "88d814c0-eb91-474c-949a-d4415c2f8b97",
   "metadata": {},
   "source": [
    "**Check: Counts**"
   ]
  },
  {
   "cell_type": "code",
   "execution_count": 5,
   "id": "9247be23-eb1f-4fd7-9f91-c68ed1605471",
   "metadata": {},
   "outputs": [
    {
     "data": {
      "text/html": [
       "<table>\n",
       " <thead>\n",
       "  <tr>\n",
       "   <th style=\"text-align:left;\"> Assay </th>\n",
       "   <th style=\"text-align:left;\"> Group </th>\n",
       "   <th style=\"text-align:left;\"> Label </th>\n",
       "   <th style=\"text-align:left;\"> TSS </th>\n",
       "   <th style=\"text-align:right;\"> fcc_astarr_macs_input_overlap </th>\n",
       "   <th style=\"text-align:right;\"> fcc_astarr_macs_input_union </th>\n",
       "  </tr>\n",
       " </thead>\n",
       "<tbody>\n",
       "  <tr>\n",
       "   <td style=\"text-align:left;\"> CRISPRi-Growth </td>\n",
       "   <td style=\"text-align:left;\"> Distal:Active </td>\n",
       "   <td style=\"text-align:left;\"> Screen:Signif </td>\n",
       "   <td style=\"text-align:left;\"> Distal </td>\n",
       "   <td style=\"text-align:right;\"> 369 </td>\n",
       "   <td style=\"text-align:right;\"> 394 </td>\n",
       "  </tr>\n",
       "  <tr>\n",
       "   <td style=\"text-align:left;\"> CRISPRi-Growth </td>\n",
       "   <td style=\"text-align:left;\"> Proximal:Active </td>\n",
       "   <td style=\"text-align:left;\"> Screen:Signif </td>\n",
       "   <td style=\"text-align:left;\"> Proximal:Essential </td>\n",
       "   <td style=\"text-align:right;\"> 503 </td>\n",
       "   <td style=\"text-align:right;\"> 501 </td>\n",
       "  </tr>\n",
       "  <tr>\n",
       "   <td style=\"text-align:left;\"> CRISPRi-Growth </td>\n",
       "   <td style=\"text-align:left;\"> Proximal:Active </td>\n",
       "   <td style=\"text-align:left;\"> Screen:Signif </td>\n",
       "   <td style=\"text-align:left;\"> Proximal:Non-Essential </td>\n",
       "   <td style=\"text-align:right;\"> 556 </td>\n",
       "   <td style=\"text-align:right;\"> 560 </td>\n",
       "  </tr>\n",
       "</tbody>\n",
       "</table>"
      ]
     },
     "metadata": {},
     "output_type": "display_data"
    }
   ],
   "source": [
    "lst = lst_dat_region_merge_crispri_growth_tss_import\n",
    "lst = lapply(lst, function(dat){\n",
    "    res = table(\n",
    "        dat$Assay_Label, \n",
    "        dat$Group, \n",
    "        dat$Label, \n",
    "        dat$TSS_Category, \n",
    "        dnn = c(\"Assay\", \"Group\", \"Label\", \"TSS\"))\n",
    "    dat = as.data.frame(res)\n",
    "    return(dat)\n",
    "})\n",
    "\n",
    "dat = bind_rows(lst, .id = \"Folder\")\n",
    "dat = dat %>% \n",
    "    dplyr::filter(Freq != 0) %>%\n",
    "    tidyr::spread(Folder, Freq)\n",
    "fun_display_table(dat)"
   ]
  },
  {
   "cell_type": "markdown",
   "id": "bf3f5a48-b2be-4704-8af5-059128b75dc5",
   "metadata": {},
   "source": [
    "**Explore: boxplot**"
   ]
  },
  {
   "cell_type": "code",
   "execution_count": 6,
   "id": "5935a802-bac4-4f39-acdd-5a43c2c7125b",
   "metadata": {},
   "outputs": [
    {
     "name": "stderr",
     "output_type": "stream",
     "text": [
      "Warning message:\n",
      "“\u001b[1m\u001b[22mRemoved 13 rows containing non-finite outside the scale range (`stat_boxplot()`).”\n"
     ]
    },
    {
     "data": {
      "image/png": "[encoded data removed]",
      "text/plain": [
       "plot without title"
      ]
     },
     "metadata": {
      "image/png": {
       "height": 180,
       "width": 360
      }
     },
     "output_type": "display_data"
    }
   ],
   "source": [
    "idx = \"fcc_astarr_macs_input_overlap\"\n",
    "lst = lst_dat_region_merge_crispri_growth_tss_import\n",
    "dat = lst[[idx]]\n",
    "\n",
    "gpt = ggplot(dat, aes(x = Zcore, y = TSS_Category)) +\n",
    "    geom_boxplot() +\n",
    "    theme_cowplot() +\n",
    "    background_grid() +\n",
    "    xlim(-2, 4)\n",
    "\n",
    "options(repr.plot.height=3, repr.plot.width=6)\n",
    "print(gpt)"
   ]
  },
  {
   "cell_type": "markdown",
   "id": "98905454-2d56-4579-ad3d-b731f760ce67",
   "metadata": {},
   "source": [
    "## Descriptive summary"
   ]
  },
  {
   "cell_type": "markdown",
   "id": "fd9bdc1b-9e0d-4ddb-bf22-1af8050e8a54",
   "metadata": {},
   "source": [
    "**Get table**"
   ]
  },
  {
   "cell_type": "code",
   "execution_count": 7,
   "id": "64660e3e-5673-495a-9ee7-8dd7c25d6723",
   "metadata": {},
   "outputs": [
    {
     "name": "stdout",
     "output_type": "stream",
     "text": [
      "[1] 1428   15\n"
     ]
    },
    {
     "data": {
      "text/html": [
       "<table>\n",
       " <thead>\n",
       "  <tr>\n",
       "   <th style=\"text-align:left;\"> Chrom </th>\n",
       "   <th style=\"text-align:right;\"> ChromStart </th>\n",
       "   <th style=\"text-align:right;\"> ChromEnd </th>\n",
       "   <th style=\"text-align:left;\"> Region </th>\n",
       "   <th style=\"text-align:left;\"> Group </th>\n",
       "   <th style=\"text-align:left;\"> Label </th>\n",
       "   <th style=\"text-align:right;\"> Score </th>\n",
       "   <th style=\"text-align:right;\"> Zcore </th>\n",
       "   <th style=\"text-align:left;\"> Score_Label </th>\n",
       "   <th style=\"text-align:left;\"> Zcore_Label </th>\n",
       "   <th style=\"text-align:left;\"> Assay_Folder </th>\n",
       "   <th style=\"text-align:left;\"> Assay_Group </th>\n",
       "   <th style=\"text-align:left;\"> Assay_Label </th>\n",
       "   <th style=\"text-align:left;\"> TSS_Proximity </th>\n",
       "   <th style=\"text-align:left;\"> TSS_Category </th>\n",
       "  </tr>\n",
       " </thead>\n",
       "<tbody>\n",
       "  <tr>\n",
       "   <td style=\"text-align:left;\"> chr1 </td>\n",
       "   <td style=\"text-align:right;\"> 1068587 </td>\n",
       "   <td style=\"text-align:right;\"> 1070616 </td>\n",
       "   <td style=\"text-align:left;\"> chr1:1068587-1070616 </td>\n",
       "   <td style=\"text-align:left;\"> Proximal:Active </td>\n",
       "   <td style=\"text-align:left;\"> Screen:Signif </td>\n",
       "   <td style=\"text-align:right;\"> 0.2520571 </td>\n",
       "   <td style=\"text-align:right;\"> 0.2520571 </td>\n",
       "   <td style=\"text-align:left;\"> Mean(ZScore) </td>\n",
       "   <td style=\"text-align:left;\"> Mean(ZScore) </td>\n",
       "   <td style=\"text-align:left;\"> CRISPRi_Growth_K562_Gersbach_JinWoo </td>\n",
       "   <td style=\"text-align:left;\"> CRISPRi-Growth </td>\n",
       "   <td style=\"text-align:left;\"> CRISPRi-Growth </td>\n",
       "   <td style=\"text-align:left;\"> Proximal </td>\n",
       "   <td style=\"text-align:left;\"> Proximal:Non-Essential </td>\n",
       "  </tr>\n",
       "  <tr>\n",
       "   <td style=\"text-align:left;\"> chr1 </td>\n",
       "   <td style=\"text-align:right;\"> 1324275 </td>\n",
       "   <td style=\"text-align:right;\"> 1325765 </td>\n",
       "   <td style=\"text-align:left;\"> chr1:1324275-1325765 </td>\n",
       "   <td style=\"text-align:left;\"> Proximal:Active </td>\n",
       "   <td style=\"text-align:left;\"> Screen:Signif </td>\n",
       "   <td style=\"text-align:right;\"> 0.5069515 </td>\n",
       "   <td style=\"text-align:right;\"> 0.5069515 </td>\n",
       "   <td style=\"text-align:left;\"> Mean(ZScore) </td>\n",
       "   <td style=\"text-align:left;\"> Mean(ZScore) </td>\n",
       "   <td style=\"text-align:left;\"> CRISPRi_Growth_K562_Gersbach_JinWoo </td>\n",
       "   <td style=\"text-align:left;\"> CRISPRi-Growth </td>\n",
       "   <td style=\"text-align:left;\"> CRISPRi-Growth </td>\n",
       "   <td style=\"text-align:left;\"> Proximal </td>\n",
       "   <td style=\"text-align:left;\"> Proximal:Non-Essential </td>\n",
       "  </tr>\n",
       "  <tr>\n",
       "   <td style=\"text-align:left;\"> chr1 </td>\n",
       "   <td style=\"text-align:right;\"> 1573998 </td>\n",
       "   <td style=\"text-align:right;\"> 1575422 </td>\n",
       "   <td style=\"text-align:left;\"> chr1:1573998-1575422 </td>\n",
       "   <td style=\"text-align:left;\"> Proximal:Active </td>\n",
       "   <td style=\"text-align:left;\"> Screen:Signif </td>\n",
       "   <td style=\"text-align:right;\"> 0.4354863 </td>\n",
       "   <td style=\"text-align:right;\"> 0.4354863 </td>\n",
       "   <td style=\"text-align:left;\"> Mean(ZScore) </td>\n",
       "   <td style=\"text-align:left;\"> Mean(ZScore) </td>\n",
       "   <td style=\"text-align:left;\"> CRISPRi_Growth_K562_Gersbach_JinWoo </td>\n",
       "   <td style=\"text-align:left;\"> CRISPRi-Growth </td>\n",
       "   <td style=\"text-align:left;\"> CRISPRi-Growth </td>\n",
       "   <td style=\"text-align:left;\"> Proximal </td>\n",
       "   <td style=\"text-align:left;\"> Proximal:Essential </td>\n",
       "  </tr>\n",
       "</tbody>\n",
       "</table>"
      ]
     },
     "metadata": {},
     "output_type": "display_data"
    }
   ],
   "source": [
    "idx = \"fcc_astarr_macs_input_overlap\"\n",
    "lst = lst_dat_region_merge_crispri_growth_tss_import\n",
    "dat = lst[[idx]]\n",
    "\n",
    "### assign and show\n",
    "dat_region_merge = dat\n",
    "print(dim(dat))\n",
    "fun_display_table(head(dat, 3))"
   ]
  },
  {
   "cell_type": "markdown",
   "id": "b568d150-8631-41d2-9e6b-113af9d30c76",
   "metadata": {},
   "source": [
    "**Summary**"
   ]
  },
  {
   "cell_type": "code",
   "execution_count": 8,
   "id": "d37faf04-6b41-45ca-bb1f-c2720b16d972",
   "metadata": {},
   "outputs": [
    {
     "data": {
      "text/html": [
       "<table>\n",
       " <thead>\n",
       "  <tr>\n",
       "   <th style=\"text-align:left;\"> TSS_Category </th>\n",
       "   <th style=\"text-align:right;\"> Count </th>\n",
       "   <th style=\"text-align:right;\"> Mean </th>\n",
       "   <th style=\"text-align:right;\"> Median </th>\n",
       "  </tr>\n",
       " </thead>\n",
       "<tbody>\n",
       "  <tr>\n",
       "   <td style=\"text-align:left;\"> Distal </td>\n",
       "   <td style=\"text-align:right;\"> 369 </td>\n",
       "   <td style=\"text-align:right;\"> 0.1657545 </td>\n",
       "   <td style=\"text-align:right;\"> 0.0862260 </td>\n",
       "  </tr>\n",
       "  <tr>\n",
       "   <td style=\"text-align:left;\"> Proximal:Essential </td>\n",
       "   <td style=\"text-align:right;\"> 503 </td>\n",
       "   <td style=\"text-align:right;\"> 1.0577905 </td>\n",
       "   <td style=\"text-align:right;\"> 0.7743867 </td>\n",
       "  </tr>\n",
       "  <tr>\n",
       "   <td style=\"text-align:left;\"> Proximal:Non-Essential </td>\n",
       "   <td style=\"text-align:right;\"> 556 </td>\n",
       "   <td style=\"text-align:right;\"> 0.5816283 </td>\n",
       "   <td style=\"text-align:right;\"> 0.3679809 </td>\n",
       "  </tr>\n",
       "</tbody>\n",
       "</table>"
      ]
     },
     "metadata": {},
     "output_type": "display_data"
    }
   ],
   "source": [
    "dat = dat_region_merge\n",
    "dat = dat %>% \n",
    "    dplyr::group_by(TSS_Category) %>% \n",
    "    dplyr::summarise(\n",
    "        Count  = n(),\n",
    "        Mean   = mean(Zcore),\n",
    "        Median = median(Zcore)\n",
    "    )\n",
    "\n",
    "fun_display_table(dat)"
   ]
  },
  {
   "cell_type": "markdown",
   "id": "c778af78-4a92-4a25-8585-7b10d5aa6bdb",
   "metadata": {},
   "source": [
    "**Split score vectors by TSS category**"
   ]
  },
  {
   "cell_type": "code",
   "execution_count": 9,
   "id": "871afeda-7f6e-488a-80ea-2dcb80cbb1bd",
   "metadata": {},
   "outputs": [
    {
     "name": "stdout",
     "output_type": "stream",
     "text": [
      "Diff. Median (Prox:E  - Prox:NE) 0.4064058 \n",
      "Diff. Median (Prox:NE - Distal ) 0.2817549 \n"
     ]
    }
   ],
   "source": [
    "dat = dat_region_merge\n",
    "lst = split(dat$Zcore, dat$TSS_Category)\n",
    "vec1 = lst[[\"Proximal:Essential\"]]\n",
    "vec2 = lst[[\"Proximal:Non-Essential\"]]\n",
    "vec3 = lst[[\"Distal\"]]\n",
    "\n",
    "cat(\"Diff. Median (Prox:E  - Prox:NE)\", median(vec1) - median(vec2), \"\\n\")\n",
    "cat(\"Diff. Median (Prox:NE - Distal )\", median(vec2) - median(vec3), \"\\n\")"
   ]
  },
  {
   "cell_type": "markdown",
   "id": "adc38c00-ba6e-4832-8982-42c65a724b25",
   "metadata": {},
   "source": [
    "## Helper function"
   ]
  },
  {
   "cell_type": "code",
   "execution_count": 10,
   "id": "6d88df90-7e74-4f66-9f55-b423669e6d0c",
   "metadata": {},
   "outputs": [],
   "source": [
    "fun_perm_med_diff_pairwise = function(vec1, vec2){\n",
    "    ### init\n",
    "    n1 = length(vec1)\n",
    "    n2 = length(vec2)\n",
    "\n",
    "    ### combine and permuted\n",
    "    vec_comb = c(vec1, vec2)\n",
    "    permuted = sample(vec_comb)\n",
    "\n",
    "    ### calculate using permuted vector\n",
    "    p1  = permuted[1:n1]\n",
    "    p2  = permuted[(n1 + 1):(n1 + n2)]\n",
    "    num = median(p1) - median(p2)\n",
    "    return(num)\n",
    "}\n",
    "\n",
    "fun_perm_med_diff_contrast = function(vec1, vec2, vec3){\n",
    "    ### init\n",
    "    n1 = length(vec1)\n",
    "    n2 = length(vec2)\n",
    "    n3 = length(vec3)\n",
    "\n",
    "    ### combine and permuted\n",
    "    vec_comb = c(vec1, vec2, vec3)\n",
    "    permuted = sample(vec_comb)\n",
    "\n",
    "    ### calculate using permuted vector\n",
    "    p1  = permuted[1:n1]\n",
    "    p2  = permuted[(n1 + 1):(n1 + n2)]\n",
    "    p3  = permuted[(n1 + n2 + 1):(n1 + n2 + n3)]\n",
    "    num = (median(p1) - median(p2)) - (median(p2) - median(p3))\n",
    "    return(num)\n",
    "}\n",
    "\n",
    "fun_cliffs_delta = function(x, y) {\n",
    "    n_x = length(x)\n",
    "    n_y = length(y)\n",
    "    cmp = outer(x, y, FUN = function(a, b) sign(a - b))\n",
    "    num_greater = sum(cmp ==  1)\n",
    "    num_less    = sum(cmp == -1)\n",
    "    num_delta   = (num_greater - num_less) / (n_x * n_y)\n",
    "    return(num_delta)\n",
    "}"
   ]
  },
  {
   "cell_type": "markdown",
   "id": "14c25c79-6062-4d21-8bf2-c7e655247043",
   "metadata": {},
   "source": [
    "## Perform analyses"
   ]
  },
  {
   "cell_type": "markdown",
   "id": "40de1777-8ff6-46f6-a032-fb8b40583553",
   "metadata": {},
   "source": [
    "### Analaysis: Proximal:Essential > Proximal:Non-Essential"
   ]
  },
  {
   "cell_type": "markdown",
   "id": "0aa266f6-3144-4d49-a1bd-4c2d7e4bb660",
   "metadata": {},
   "source": [
    "**Test: vec1 > vec2**  \n",
    "Are the real vec1 values consistently greater than would happen under random groupings?"
   ]
  },
  {
   "cell_type": "code",
   "execution_count": 11,
   "id": "db4bf43f-e44a-44a4-bf3c-6262e18c3a87",
   "metadata": {},
   "outputs": [
    {
     "data": {
      "text/html": [
       "<table>\n",
       " <thead>\n",
       "  <tr>\n",
       "   <th style=\"text-align:left;\"> Analysis </th>\n",
       "   <th style=\"text-align:right;\"> Num_Perm </th>\n",
       "   <th style=\"text-align:right;\"> Observed_Diff </th>\n",
       "   <th style=\"text-align:right;\"> Pvalue </th>\n",
       "   <th style=\"text-align:right;\"> Cliffs_Delta </th>\n",
       "  </tr>\n",
       " </thead>\n",
       "<tbody>\n",
       "  <tr>\n",
       "   <td style=\"text-align:left;\"> Proximal:Essential &gt; Proximal:Non-Essential </td>\n",
       "   <td style=\"text-align:right;\"> 10000 </td>\n",
       "   <td style=\"text-align:right;\"> 0.4064058 </td>\n",
       "   <td style=\"text-align:right;\"> 0 </td>\n",
       "   <td style=\"text-align:right;\"> 0.3881674 </td>\n",
       "  </tr>\n",
       "</tbody>\n",
       "</table>"
      ]
     },
     "metadata": {},
     "output_type": "display_data"
    }
   ],
   "source": [
    "### init: parameters\n",
    "set.seed(123)\n",
    "num_perm = 10000\n",
    "\n",
    "### run permutation test\n",
    "num_obs      = median(vec1) - median(vec2)\n",
    "vec_num_perm = replicate(num_perm, fun_perm_med_diff_pairwise(vec1, vec2))\n",
    "num_pval     = mean(vec_num_perm >= num_obs)\n",
    "num_delta    = fun_cliffs_delta(vec1, vec2)\n",
    "\n",
    "### summarize the results\n",
    "dat = data.frame(\n",
    "    \"Analysis\" = \"Proximal:Essential > Proximal:Non-Essential\",\n",
    "    \"Num_Perm\"      = num_perm,\n",
    "    \"Observed_Diff\" = num_obs,\n",
    "    \"Pvalue\"        = num_pval,\n",
    "    \"Cliffs_Delta\"  = num_delta\n",
    ")\n",
    "\n",
    "### assign and show\n",
    "dat_perm_stats_diff_pe = dat\n",
    "fun_display_table(dat)"
   ]
  },
  {
   "cell_type": "markdown",
   "id": "6ff9c5c5-a379-470f-9f6a-d50bd1b67848",
   "metadata": {},
   "source": [
    "### Analaysis: Proximal:Non-Essential > Distal"
   ]
  },
  {
   "cell_type": "markdown",
   "id": "b0737a2b-0e43-4c7f-b5be-e3379eda480d",
   "metadata": {},
   "source": [
    "**Test: vec2 > vec3**"
   ]
  },
  {
   "cell_type": "code",
   "execution_count": 12,
   "id": "59d99e08-f158-44b3-ba51-08ef293f49ea",
   "metadata": {},
   "outputs": [
    {
     "data": {
      "text/html": [
       "<table>\n",
       " <thead>\n",
       "  <tr>\n",
       "   <th style=\"text-align:left;\"> Analysis </th>\n",
       "   <th style=\"text-align:right;\"> Num_Perm </th>\n",
       "   <th style=\"text-align:right;\"> Observed_Diff </th>\n",
       "   <th style=\"text-align:right;\"> Pvalue </th>\n",
       "   <th style=\"text-align:right;\"> Cliffs_Delta </th>\n",
       "  </tr>\n",
       " </thead>\n",
       "<tbody>\n",
       "  <tr>\n",
       "   <td style=\"text-align:left;\"> Proximal:Non-Essential &gt; Distal </td>\n",
       "   <td style=\"text-align:right;\"> 10000 </td>\n",
       "   <td style=\"text-align:right;\"> 0.2817549 </td>\n",
       "   <td style=\"text-align:right;\"> 0 </td>\n",
       "   <td style=\"text-align:right;\"> 0.4609483 </td>\n",
       "  </tr>\n",
       "</tbody>\n",
       "</table>"
      ]
     },
     "metadata": {},
     "output_type": "display_data"
    }
   ],
   "source": [
    "### init: parameters\n",
    "set.seed(123)\n",
    "num_perm = 10000\n",
    "\n",
    "### run permutation test\n",
    "num_obs      = median(vec2) - median(vec3)\n",
    "vec_num_perm = replicate(num_perm, fun_perm_med_diff_pairwise(vec2, vec3))\n",
    "num_pval     = mean(vec_num_perm >= num_obs)\n",
    "num_delta    = fun_cliffs_delta(vec2, vec3)\n",
    "\n",
    "### summarize the results\n",
    "dat = data.frame(\n",
    "    \"Analysis\" = \"Proximal:Non-Essential > Distal\",\n",
    "    \"Num_Perm\"      = num_perm,\n",
    "    \"Observed_Diff\" = num_obs,\n",
    "    \"Pvalue\"        = num_pval,\n",
    "    \"Cliffs_Delta\"  = num_delta\n",
    ")\n",
    "\n",
    "### assign and show\n",
    "dat_perm_stats_diff_pne = dat\n",
    "fun_display_table(dat)"
   ]
  },
  {
   "cell_type": "markdown",
   "id": "b5c898b2-28ef-41fd-a63c-63f156212f97",
   "metadata": {},
   "source": [
    "### Analysis: (Proximal:E-Proximal:Non-E) > (Proximal:Non-E-Distal)"
   ]
  },
  {
   "cell_type": "markdown",
   "id": "96316f05-1259-4a16-926f-ce98fa58d33a",
   "metadata": {},
   "source": [
    "**Test: (vec1 - vec2) > (vec2 - vec3)**"
   ]
  },
  {
   "cell_type": "code",
   "execution_count": 13,
   "id": "3c6d6926-fc97-4c97-84ef-01dea9e5ebb2",
   "metadata": {},
   "outputs": [
    {
     "data": {
      "text/html": [
       "<table>\n",
       " <thead>\n",
       "  <tr>\n",
       "   <th style=\"text-align:left;\"> Analysis </th>\n",
       "   <th style=\"text-align:right;\"> Num_Perm </th>\n",
       "   <th style=\"text-align:right;\"> Observed_Diff </th>\n",
       "   <th style=\"text-align:right;\"> Pvalue </th>\n",
       "   <th style=\"text-align:right;\"> Cliffs_Delta </th>\n",
       "  </tr>\n",
       " </thead>\n",
       "<tbody>\n",
       "  <tr>\n",
       "   <td style=\"text-align:left;\"> (Proximal:Essential-Proximal:Non-Essential) &gt; (Proximal:Non-Essential-Distal) </td>\n",
       "   <td style=\"text-align:right;\"> 10000 </td>\n",
       "   <td style=\"text-align:right;\"> 0.1246508 </td>\n",
       "   <td style=\"text-align:right;\"> 0.0272 </td>\n",
       "   <td style=\"text-align:right;\"> 0.037112 </td>\n",
       "  </tr>\n",
       "</tbody>\n",
       "</table>"
      ]
     },
     "metadata": {},
     "output_type": "display_data"
    }
   ],
   "source": [
    "### init: parameters\n",
    "set.seed(123)\n",
    "num_perm = 10000\n",
    "\n",
    "### run permutation test\n",
    "num_obs      = (median(vec1) - median(vec2)) - (median(vec2) - median(vec3))\n",
    "vec_num_perm = replicate(num_perm, fun_perm_med_diff_contrast(vec1, vec2, vec3))\n",
    "num_pval     = mean(vec_num_perm >= num_obs)\n",
    "\n",
    "### estimate cliffs delta for contrast\n",
    "num_sample = 500\n",
    "p1 = sample(vec1, size = num_sample, replace = FALSE) # PE\n",
    "p2 = sample(vec2, size = num_sample, replace = FALSE) # PNE\n",
    "p3 = sample(vec3, size = num_sample, replace = TRUE)  # Distal (# < 500)\n",
    "d1 = (p1 - p2)\n",
    "d2 = (p2 - p3)\n",
    "num_delta = fun_cliffs_delta(d1, d2)\n",
    "\n",
    "### summarize the results\n",
    "dat = data.frame(\n",
    "    \"Analysis\" = \"(Proximal:Essential-Proximal:Non-Essential) > (Proximal:Non-Essential-Distal)\",\n",
    "    \"Num_Perm\"      = num_perm,\n",
    "    \"Observed_Diff\" = num_obs,\n",
    "    \"Pvalue\"        = num_pval,\n",
    "    \"Cliffs_Delta\"  = num_delta\n",
    ")\n",
    "\n",
    "### assign and show\n",
    "dat_perm_stats_contrast = dat\n",
    "fun_display_table(dat)"
   ]
  },
  {
   "cell_type": "markdown",
   "id": "abf226f0-424a-4833-ae89-8b6be144fada",
   "metadata": {},
   "source": [
    "### Combine results"
   ]
  },
  {
   "cell_type": "code",
   "execution_count": 14,
   "id": "3de1d7e2-72eb-466e-ab85-122f2b01a238",
   "metadata": {},
   "outputs": [
    {
     "data": {
      "text/html": [
       "<table>\n",
       " <thead>\n",
       "  <tr>\n",
       "   <th style=\"text-align:left;\"> Analysis </th>\n",
       "   <th style=\"text-align:right;\"> Num_Perm </th>\n",
       "   <th style=\"text-align:right;\"> Observed_Diff </th>\n",
       "   <th style=\"text-align:right;\"> Pvalue </th>\n",
       "   <th style=\"text-align:right;\"> Cliffs_Delta </th>\n",
       "  </tr>\n",
       " </thead>\n",
       "<tbody>\n",
       "  <tr>\n",
       "   <td style=\"text-align:left;\"> Proximal:Essential &gt; Proximal:Non-Essential </td>\n",
       "   <td style=\"text-align:right;\"> 10000 </td>\n",
       "   <td style=\"text-align:right;\"> 0.4064058 </td>\n",
       "   <td style=\"text-align:right;\"> 0.0000 </td>\n",
       "   <td style=\"text-align:right;\"> 0.3881674 </td>\n",
       "  </tr>\n",
       "  <tr>\n",
       "   <td style=\"text-align:left;\"> Proximal:Non-Essential &gt; Distal </td>\n",
       "   <td style=\"text-align:right;\"> 10000 </td>\n",
       "   <td style=\"text-align:right;\"> 0.2817549 </td>\n",
       "   <td style=\"text-align:right;\"> 0.0000 </td>\n",
       "   <td style=\"text-align:right;\"> 0.4609483 </td>\n",
       "  </tr>\n",
       "  <tr>\n",
       "   <td style=\"text-align:left;\"> (Proximal:Essential-Proximal:Non-Essential) &gt; (Proximal:Non-Essential-Distal) </td>\n",
       "   <td style=\"text-align:right;\"> 10000 </td>\n",
       "   <td style=\"text-align:right;\"> 0.1246508 </td>\n",
       "   <td style=\"text-align:right;\"> 0.0272 </td>\n",
       "   <td style=\"text-align:right;\"> 0.0371120 </td>\n",
       "  </tr>\n",
       "</tbody>\n",
       "</table>"
      ]
     },
     "metadata": {},
     "output_type": "display_data"
    }
   ],
   "source": [
    "dat_perm_summary = dplyr::bind_rows(\n",
    "    dat_perm_stats_diff_pe,\n",
    "    dat_perm_stats_diff_pne,\n",
    "    dat_perm_stats_contrast\n",
    ")\n",
    "\n",
    "fun_display_table(dat_perm_summary)"
   ]
  },
  {
   "cell_type": "markdown",
   "id": "a3523fb3-52a2-4565-b16e-3fe5371db7d3",
   "metadata": {},
   "source": [
    "## Export results"
   ]
  },
  {
   "cell_type": "code",
   "execution_count": 16,
   "id": "02f7cd10-5095-48a0-96da-8f68dfcbc68f",
   "metadata": {},
   "outputs": [],
   "source": [
    "### set file directory\n",
    "txt_folder = \"fcc_astarr_macs_input_overlap\"\n",
    "txt_fdiry  = file.path(FD_RES, \"analysis_fcc_comparison\", txt_folder)\n",
    "txt_fname = \"result.comparison.tss_essential.coverage.crispri_growth.tsv\"\n",
    "txt_fpath = file.path(txt_fdiry, txt_fname)\n",
    "\n",
    "### write table\n",
    "dat = dat_perm_summary\n",
    "write_tsv(dat, txt_fpath)"
   ]
  },
  {
   "cell_type": "code",
   "execution_count": null,
   "id": "c2c3fca2-85a3-4608-9f97-34a20f9e49bc",
   "metadata": {},
   "outputs": [],
   "source": []
  }
 ],
 "metadata": {
  "kernelspec": {
   "display_name": "R",
   "language": "R",
   "name": "ir"
  },
  "language_info": {
   "codemirror_mode": "r",
   "file_extension": ".r",
   "mimetype": "text/x-r-source",
   "name": "R",
   "pygments_lexer": "r",
   "version": "4.5.1"
  }
 },
 "nbformat": 4,
 "nbformat_minor": 5
}
