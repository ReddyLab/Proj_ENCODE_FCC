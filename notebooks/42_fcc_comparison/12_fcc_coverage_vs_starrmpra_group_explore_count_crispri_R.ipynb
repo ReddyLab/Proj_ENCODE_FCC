{
 "cells": [
  {
   "cell_type": "raw",
   "id": "987078b8-8757-4de0-9860-54fd26fd5b46",
   "metadata": {},
   "source": [
    "---\n",
    "title: FCC coverage vs STARRMPRA Group 03\n",
    "subtitle: Explore STARR/MPRA CRE screened and significant in CRISPRi\n",
    "format:\n",
    "    html:\n",
    "        code-fold:  true\n",
    "        code-tools: true\n",
    "---"
   ]
  },
  {
   "cell_type": "markdown",
   "id": "f0b3ea81-7571-435e-bf77-97d7f433bdc4",
   "metadata": {},
   "source": [
    "**Set environment**"
   ]
  },
  {
   "cell_type": "code",
   "execution_count": 1,
   "id": "0cd2d452-4c4a-4cd7-aa6b-e06326301664",
   "metadata": {
    "tags": []
   },
   "outputs": [
    {
     "name": "stdout",
     "output_type": "stream",
     "text": [
      "You are working on        Singularity: singularity_proj_encode_fcc \n",
      "BASE DIRECTORY (FD_BASE): /data/reddylab/Kuei \n",
      "REPO DIRECTORY (FD_REPO): /data/reddylab/Kuei/repo \n",
      "WORK DIRECTORY (FD_WORK): /data/reddylab/Kuei/work \n",
      "DATA DIRECTORY (FD_DATA): /data/reddylab/Kuei/data \n",
      "\n",
      "You are working with      ENCODE FCC \n",
      "PATH OF PROJECT (FD_PRJ): /data/reddylab/Kuei/repo/Proj_ENCODE_FCC \n",
      "PROJECT RESULTS (FD_RES): /data/reddylab/Kuei/repo/Proj_ENCODE_FCC/results \n",
      "PROJECT SCRIPTS (FD_EXE): /data/reddylab/Kuei/repo/Proj_ENCODE_FCC/scripts \n",
      "PROJECT DATA    (FD_DAT): /data/reddylab/Kuei/repo/Proj_ENCODE_FCC/data \n",
      "PROJECT NOTE    (FD_NBK): /data/reddylab/Kuei/repo/Proj_ENCODE_FCC/notebooks \n",
      "PROJECT DOCS    (FD_DOC): /data/reddylab/Kuei/repo/Proj_ENCODE_FCC/docs \n",
      "PROJECT LOG     (FD_LOG): /data/reddylab/Kuei/repo/Proj_ENCODE_FCC/log \n",
      "PROJECT REF     (FD_REF): /data/reddylab/Kuei/repo/Proj_ENCODE_FCC/references \n",
      "\n"
     ]
    }
   ],
   "source": [
    "suppressMessages(suppressWarnings(source(\"../run_config_project_sing.R\")))\n",
    "show_env()"
   ]
  },
  {
   "cell_type": "markdown",
   "id": "76c22bcf-b26c-46db-9919-cdb4d6f41cd2",
   "metadata": {},
   "source": [
    "## Prepare"
   ]
  },
  {
   "cell_type": "markdown",
   "id": "23b098aa-fb8a-42b3-b5b5-32766ee6be75",
   "metadata": {},
   "source": [
    "**Set global variable**"
   ]
  },
  {
   "cell_type": "code",
   "execution_count": 2,
   "id": "d864cfd3-01b0-428a-9d4d-bd70e2c8eb2c",
   "metadata": {},
   "outputs": [
    {
     "name": "stdout",
     "output_type": "stream",
     "text": [
      "fcc_astarr_macs_input_overlap \n",
      "fcc_astarr_macs_input_union \n"
     ]
    }
   ],
   "source": [
    "vec = c(\n",
    "    \"fcc_astarr_macs_input_overlap\",\n",
    "    \"fcc_astarr_macs_input_union\"\n",
    ")\n",
    "names(vec) = vec\n",
    "\n",
    "VEC_TXT_FOLDER = vec\n",
    "for(txt in vec){cat(txt, \"\\n\")}"
   ]
  },
  {
   "cell_type": "markdown",
   "id": "d810e341-749e-4425-bee6-95dc8ee00c70",
   "metadata": {},
   "source": [
    "**View files: FCC region coverage**"
   ]
  },
  {
   "cell_type": "code",
   "execution_count": 3,
   "id": "d351c177-eaf9-46a7-9e98-d383a5db99a4",
   "metadata": {},
   "outputs": [
    {
     "name": "stdout",
     "output_type": "stream",
     "text": [
      "/data/reddylab/Kuei/repo/Proj_ENCODE_FCC/results/analysis_fcc_comparison/fcc_astarr_macs_input_overlap/region.annotation.fcc_starrmpra_junke.group.coverage.crispri.tsv \n"
     ]
    }
   ],
   "source": [
    "txt_folder = VEC_TXT_FOLDER[1]\n",
    "txt_fdiry  = file.path(FD_RES, \"analysis_fcc_comparison\", txt_folder)\n",
    "txt_fname  = \"region.annotation.fcc_starrmpra_junke.group.coverage.crispri.tsv\"\n",
    "txt_fglob  = file.path(txt_fdiry, txt_fname)\n",
    "\n",
    "vec = Sys.glob(txt_fglob)\n",
    "for (txt in vec) {cat(txt, \"\\n\")}"
   ]
  },
  {
   "cell_type": "markdown",
   "id": "0609c414-6074-416f-9bf1-ddb098395ed3",
   "metadata": {},
   "source": [
    "## Import data"
   ]
  },
  {
   "cell_type": "code",
   "execution_count": 9,
   "id": "d4c4edbf-571e-4c2a-a560-587cbc889d85",
   "metadata": {},
   "outputs": [
    {
     "name": "stdout",
     "output_type": "stream",
     "text": [
      "$fcc_astarr_macs_input_overlap\n",
      "[1] 15460    13\n",
      "\n",
      "$fcc_astarr_macs_input_union\n",
      "[1] 15847    13\n",
      "\n"
     ]
    },
    {
     "data": {
      "text/html": [
       "<table class=\"dataframe\">\n",
       "<caption>A tibble: 3 × 13</caption>\n",
       "<thead>\n",
       "\t<tr><th scope=col>Chrom</th><th scope=col>ChromStart</th><th scope=col>ChromEnd</th><th scope=col>Region</th><th scope=col>Group</th><th scope=col>Label</th><th scope=col>Score</th><th scope=col>Zcore</th><th scope=col>Score_Label</th><th scope=col>Zcore_Label</th><th scope=col>Assay_Folder</th><th scope=col>Assay_Group</th><th scope=col>Assay_Label</th></tr>\n",
       "\t<tr><th scope=col>&lt;chr&gt;</th><th scope=col>&lt;dbl&gt;</th><th scope=col>&lt;dbl&gt;</th><th scope=col>&lt;chr&gt;</th><th scope=col>&lt;chr&gt;</th><th scope=col>&lt;chr&gt;</th><th scope=col>&lt;dbl&gt;</th><th scope=col>&lt;dbl&gt;</th><th scope=col>&lt;chr&gt;</th><th scope=col>&lt;chr&gt;</th><th scope=col>&lt;chr&gt;</th><th scope=col>&lt;chr&gt;</th><th scope=col>&lt;chr&gt;</th></tr>\n",
       "</thead>\n",
       "<tbody>\n",
       "\t<tr><td>chr11</td><td>4092109</td><td>4092511</td><td>chr11:4092109-4092511</td><td>Distal:Active  </td><td>Screen:NotSignif</td><td>-0.12943640</td><td>-0.12943640</td><td>Mean(ZScore)</td><td>Mean(ZScore)</td><td>CRISPRi_FlowFISH_K562_Riley_JinWoo</td><td>CRISPRi-HCRFF</td><td>CRISPRi-HCRFF</td></tr>\n",
       "\t<tr><td>chr11</td><td>4094223</td><td>4095304</td><td>chr11:4094223-4095304</td><td>Proximal:Active</td><td>Screen:NotSignif</td><td>-0.04849565</td><td>-0.04849565</td><td>Mean(ZScore)</td><td>Mean(ZScore)</td><td>CRISPRi_FlowFISH_K562_Riley_JinWoo</td><td>CRISPRi-HCRFF</td><td>CRISPRi-HCRFF</td></tr>\n",
       "\t<tr><td>chr11</td><td>4393045</td><td>4394087</td><td>chr11:4393045-4394087</td><td>Proximal:Active</td><td>Screen:NotSignif</td><td>-0.08214896</td><td>-0.08214896</td><td>Mean(ZScore)</td><td>Mean(ZScore)</td><td>CRISPRi_FlowFISH_K562_Riley_JinWoo</td><td>CRISPRi-HCRFF</td><td>CRISPRi-HCRFF</td></tr>\n",
       "</tbody>\n",
       "</table>\n"
      ],
      "text/latex": [
       "A tibble: 3 × 13\n",
       "\\begin{tabular}{lllllllllllll}\n",
       " Chrom & ChromStart & ChromEnd & Region & Group & Label & Score & Zcore & Score\\_Label & Zcore\\_Label & Assay\\_Folder & Assay\\_Group & Assay\\_Label\\\\\n",
       " <chr> & <dbl> & <dbl> & <chr> & <chr> & <chr> & <dbl> & <dbl> & <chr> & <chr> & <chr> & <chr> & <chr>\\\\\n",
       "\\hline\n",
       "\t chr11 & 4092109 & 4092511 & chr11:4092109-4092511 & Distal:Active   & Screen:NotSignif & -0.12943640 & -0.12943640 & Mean(ZScore) & Mean(ZScore) & CRISPRi\\_FlowFISH\\_K562\\_Riley\\_JinWoo & CRISPRi-HCRFF & CRISPRi-HCRFF\\\\\n",
       "\t chr11 & 4094223 & 4095304 & chr11:4094223-4095304 & Proximal:Active & Screen:NotSignif & -0.04849565 & -0.04849565 & Mean(ZScore) & Mean(ZScore) & CRISPRi\\_FlowFISH\\_K562\\_Riley\\_JinWoo & CRISPRi-HCRFF & CRISPRi-HCRFF\\\\\n",
       "\t chr11 & 4393045 & 4394087 & chr11:4393045-4394087 & Proximal:Active & Screen:NotSignif & -0.08214896 & -0.08214896 & Mean(ZScore) & Mean(ZScore) & CRISPRi\\_FlowFISH\\_K562\\_Riley\\_JinWoo & CRISPRi-HCRFF & CRISPRi-HCRFF\\\\\n",
       "\\end{tabular}\n"
      ],
      "text/markdown": [
       "\n",
       "A tibble: 3 × 13\n",
       "\n",
       "| Chrom &lt;chr&gt; | ChromStart &lt;dbl&gt; | ChromEnd &lt;dbl&gt; | Region &lt;chr&gt; | Group &lt;chr&gt; | Label &lt;chr&gt; | Score &lt;dbl&gt; | Zcore &lt;dbl&gt; | Score_Label &lt;chr&gt; | Zcore_Label &lt;chr&gt; | Assay_Folder &lt;chr&gt; | Assay_Group &lt;chr&gt; | Assay_Label &lt;chr&gt; |\n",
       "|---|---|---|---|---|---|---|---|---|---|---|---|---|\n",
       "| chr11 | 4092109 | 4092511 | chr11:4092109-4092511 | Distal:Active   | Screen:NotSignif | -0.12943640 | -0.12943640 | Mean(ZScore) | Mean(ZScore) | CRISPRi_FlowFISH_K562_Riley_JinWoo | CRISPRi-HCRFF | CRISPRi-HCRFF |\n",
       "| chr11 | 4094223 | 4095304 | chr11:4094223-4095304 | Proximal:Active | Screen:NotSignif | -0.04849565 | -0.04849565 | Mean(ZScore) | Mean(ZScore) | CRISPRi_FlowFISH_K562_Riley_JinWoo | CRISPRi-HCRFF | CRISPRi-HCRFF |\n",
       "| chr11 | 4393045 | 4394087 | chr11:4393045-4394087 | Proximal:Active | Screen:NotSignif | -0.08214896 | -0.08214896 | Mean(ZScore) | Mean(ZScore) | CRISPRi_FlowFISH_K562_Riley_JinWoo | CRISPRi-HCRFF | CRISPRi-HCRFF |\n",
       "\n"
      ],
      "text/plain": [
       "  Chrom ChromStart ChromEnd Region                Group          \n",
       "1 chr11 4092109    4092511  chr11:4092109-4092511 Distal:Active  \n",
       "2 chr11 4094223    4095304  chr11:4094223-4095304 Proximal:Active\n",
       "3 chr11 4393045    4394087  chr11:4393045-4394087 Proximal:Active\n",
       "  Label            Score       Zcore       Score_Label  Zcore_Label \n",
       "1 Screen:NotSignif -0.12943640 -0.12943640 Mean(ZScore) Mean(ZScore)\n",
       "2 Screen:NotSignif -0.04849565 -0.04849565 Mean(ZScore) Mean(ZScore)\n",
       "3 Screen:NotSignif -0.08214896 -0.08214896 Mean(ZScore) Mean(ZScore)\n",
       "  Assay_Folder                       Assay_Group   Assay_Label  \n",
       "1 CRISPRi_FlowFISH_K562_Riley_JinWoo CRISPRi-HCRFF CRISPRi-HCRFF\n",
       "2 CRISPRi_FlowFISH_K562_Riley_JinWoo CRISPRi-HCRFF CRISPRi-HCRFF\n",
       "3 CRISPRi_FlowFISH_K562_Riley_JinWoo CRISPRi-HCRFF CRISPRi-HCRFF"
      ]
     },
     "metadata": {},
     "output_type": "display_data"
    }
   ],
   "source": [
    "### loop to import data\n",
    "lst = lapply(VEC_TXT_FOLDER, function(txt_folder){\n",
    "    ### set file directory\n",
    "    txt_fdiry  = file.path(FD_RES, \"analysis_fcc_comparison\", txt_folder)\n",
    "    txt_fname  = \"region.annotation.fcc_starrmpra_junke.group.coverage.crispri.tsv\"\n",
    "    txt_fpath = file.path(txt_fdiry, txt_fname)\n",
    "\n",
    "    ### read table\n",
    "    dat = read_tsv(txt_fpath, show_col_types = FALSE)\n",
    "    return(dat)\n",
    "})\n",
    "\n",
    "### assign and show\n",
    "lst_dat_region_merge_import = lst\n",
    "\n",
    "res = lapply(lst, dim)\n",
    "print(res)\n",
    "\n",
    "dat = lst[[1]]\n",
    "head(dat, 3)"
   ]
  },
  {
   "cell_type": "markdown",
   "id": "4d9f3f2e-aca5-4307-b378-9995b9448b63",
   "metadata": {},
   "source": [
    "## Calculate ratio of significant for each group"
   ]
  },
  {
   "cell_type": "code",
   "execution_count": 11,
   "id": "35684744-53f8-4572-a559-5a65034df199",
   "metadata": {},
   "outputs": [
    {
     "name": "stdout",
     "output_type": "stream",
     "text": [
      "$fcc_astarr_macs_input_overlap\n",
      "[1] 14  7\n",
      "\n",
      "$fcc_astarr_macs_input_union\n",
      "[1] 14  7\n",
      "\n"
     ]
    },
    {
     "data": {
      "text/html": [
       "<table>\n",
       " <thead>\n",
       "  <tr>\n",
       "   <th style=\"text-align:left;\"> Group </th>\n",
       "   <th style=\"text-align:left;\"> Label </th>\n",
       "   <th style=\"text-align:left;\"> Assay_Label </th>\n",
       "   <th style=\"text-align:right;\"> Count </th>\n",
       "   <th style=\"text-align:right;\"> Total </th>\n",
       "   <th style=\"text-align:right;\"> Ratio </th>\n",
       "   <th style=\"text-align:right;\"> Percent </th>\n",
       "  </tr>\n",
       " </thead>\n",
       "<tbody>\n",
       "  <tr>\n",
       "   <td style=\"text-align:left;\"> Distal:Active </td>\n",
       "   <td style=\"text-align:left;\"> Screen:NotSignif </td>\n",
       "   <td style=\"text-align:left;\"> CRISPRi-Growth </td>\n",
       "   <td style=\"text-align:right;\"> 7953 </td>\n",
       "   <td style=\"text-align:right;\"> 8322 </td>\n",
       "   <td style=\"text-align:right;\"> 0.9556597 </td>\n",
       "   <td style=\"text-align:right;\"> 95.56597 </td>\n",
       "  </tr>\n",
       "  <tr>\n",
       "   <td style=\"text-align:left;\"> Distal:Active </td>\n",
       "   <td style=\"text-align:left;\"> Screen:NotSignif </td>\n",
       "   <td style=\"text-align:left;\"> CRISPRi-HCRFF </td>\n",
       "   <td style=\"text-align:right;\"> 120 </td>\n",
       "   <td style=\"text-align:right;\"> 135 </td>\n",
       "   <td style=\"text-align:right;\"> 0.8888889 </td>\n",
       "   <td style=\"text-align:right;\"> 88.88889 </td>\n",
       "  </tr>\n",
       "  <tr>\n",
       "   <td style=\"text-align:left;\"> Distal:Active </td>\n",
       "   <td style=\"text-align:left;\"> Screen:Signif </td>\n",
       "   <td style=\"text-align:left;\"> CRISPRi-Growth </td>\n",
       "   <td style=\"text-align:right;\"> 369 </td>\n",
       "   <td style=\"text-align:right;\"> 8322 </td>\n",
       "   <td style=\"text-align:right;\"> 0.0443403 </td>\n",
       "   <td style=\"text-align:right;\"> 4.43403 </td>\n",
       "  </tr>\n",
       "</tbody>\n",
       "</table>"
      ]
     },
     "metadata": {},
     "output_type": "display_data"
    }
   ],
   "source": [
    "lst = lst_dat_region_merge_import\n",
    "\n",
    "lst = lapply(lst, function(dat){\n",
    "    ### select columns\n",
    "    dat = dat %>% \n",
    "        dplyr::select(Region, Group, Label, Assay_Label) %>%\n",
    "        dplyr::distinct()\n",
    "    \n",
    "    ### count by assay and group\n",
    "    dat = dat %>%\n",
    "        dplyr::group_by(Group, Label, Assay_Label) %>%\n",
    "        dplyr::summarise(Count = n(), .groups = \"drop\")\n",
    "    \n",
    "    ### count by assay\n",
    "    dat = dat %>%\n",
    "        dplyr::group_by(Group, Assay_Label) %>%\n",
    "        dplyr::mutate(Total = sum(Count)) %>%\n",
    "        dplyr::ungroup()\n",
    "\n",
    "    ### calculate percentage\n",
    "    dat = dat %>%\n",
    "        dplyr::mutate(Ratio   = Count / Total) %>%\n",
    "        dplyr::mutate(Percent = Ratio * 100)\n",
    "    return(dat)\n",
    "   \n",
    "    return(dat)\n",
    "})\n",
    "\n",
    "### assign and show\n",
    "lst_dat_region_merge_ratio = lst\n",
    "\n",
    "res = lapply(lst, dim)\n",
    "print(res)\n",
    "\n",
    "dat = lst[[1]]\n",
    "fun_display_table(head(dat, 3))"
   ]
  },
  {
   "cell_type": "markdown",
   "id": "b591497d-74d8-4818-b2b0-255865beb563",
   "metadata": {},
   "source": [
    "## Explore: count and ratio of significant regions"
   ]
  },
  {
   "cell_type": "markdown",
   "id": "a79a75d1-7c3c-4b8c-b0a1-20a7a8bde713",
   "metadata": {},
   "source": [
    "**Helper function for showing percentage**"
   ]
  },
  {
   "cell_type": "code",
   "execution_count": 12,
   "id": "b2a8a40e-967c-4571-9fae-d1208edee0f8",
   "metadata": {},
   "outputs": [],
   "source": [
    "fun_inner = function(num){\n",
    "    if (num > 99) {\n",
    "        num = round(num, 1)\n",
    "        return(num)\n",
    "    } \n",
    "    if (num < 1) {\n",
    "        num = round(num, 1)\n",
    "        return(num)  \n",
    "    }\n",
    "    num = round(num)    \n",
    "    return(num)\n",
    "}\n",
    "\n",
    "fun_wrapper = function(vec_num_inp){\n",
    "    vec_num_out = sapply(vec_num_inp, fun_inner)\n",
    "    return(vec_num_out)  \n",
    "}"
   ]
  },
  {
   "cell_type": "markdown",
   "id": "fb0df279-bd2a-43ec-9d1a-8298db5186c3",
   "metadata": {},
   "source": [
    "**Show ratio of significant regions for CRISPRi-HCRFF**"
   ]
  },
  {
   "cell_type": "code",
   "execution_count": 14,
   "id": "8f8a4149-c0f6-4ebf-9768-0f38ef0cde20",
   "metadata": {},
   "outputs": [
    {
     "data": {
      "text/plain": [
       "\n",
       "\n",
       "|Group             | Total|Screen:NotSignif |Screen:Signif |\n",
       "|:-----------------|-----:|:----------------|:-------------|\n",
       "|Distal:Active     |   135|89%              |11%           |\n",
       "|Distal:Repressive |    12|92%              |8%            |\n",
       "|Proximal:Active   |    73|81%              |19%           |"
      ]
     },
     "metadata": {},
     "output_type": "display_data"
    }
   ],
   "source": [
    "### get table\n",
    "idx = \"fcc_astarr_macs_input_overlap\"\n",
    "lst = lst_dat_region_merge_ratio\n",
    "dat = lst[[idx]]\n",
    "\n",
    "### filter assay\n",
    "dat = dat %>% dplyr::filter(Assay_Label == \"CRISPRi-HCRFF\")\n",
    "\n",
    "### show percentage of ratio\n",
    "dat = dat %>% \n",
    "    dplyr::select(Group, Total, Label, Percent) %>%\n",
    "    dplyr::mutate(Percent = fun_wrapper(Percent)) %>%\n",
    "    dplyr::mutate(Percent = paste0(Percent, \"%\")) %>%\n",
    "    tidyr::spread(Label, Percent)\n",
    "\n",
    "dat %>% kableExtra::kable(\"markdown\")"
   ]
  },
  {
   "cell_type": "markdown",
   "id": "ba70220a-fddc-4d5b-81fa-c70a27c1e804",
   "metadata": {},
   "source": [
    "**Show ratio of significant regions for CRISPRi-Growth**"
   ]
  },
  {
   "cell_type": "code",
   "execution_count": 15,
   "id": "25311804-630a-46f8-ac46-4883472b57b8",
   "metadata": {},
   "outputs": [
    {
     "data": {
      "text/plain": [
       "\n",
       "\n",
       "|Group               | Total|Screen:NotSignif |Screen:Signif |\n",
       "|:-------------------|-----:|:----------------|:-------------|\n",
       "|Distal:Active       |  8322|96%              |4%            |\n",
       "|Distal:Repressive   |   745|95%              |5%            |\n",
       "|Proximal:Active     |  5861|82%              |18%           |\n",
       "|Proximal:Repressive |   312|95%              |5%            |"
      ]
     },
     "metadata": {},
     "output_type": "display_data"
    }
   ],
   "source": [
    "### get table\n",
    "idx = \"fcc_astarr_macs_input_overlap\"\n",
    "lst = lst_dat_region_merge_ratio\n",
    "dat = lst[[idx]]\n",
    "\n",
    "### filter assay\n",
    "dat = dat %>% dplyr::filter(Assay_Label == \"CRISPRi-Growth\")\n",
    "\n",
    "### show percentage of ratio\n",
    "dat = dat %>% \n",
    "    dplyr::select(Group, Total, Label, Percent) %>%\n",
    "    dplyr::mutate(Percent = fun_wrapper(Percent)) %>%\n",
    "    dplyr::mutate(Percent = paste0(Percent, \"%\")) %>%\n",
    "    tidyr::spread(Label, Percent)\n",
    "\n",
    "dat %>% kableExtra::kable(\"markdown\")"
   ]
  }
 ],
 "metadata": {
  "kernelspec": {
   "display_name": "R",
   "language": "R",
   "name": "ir"
  },
  "language_info": {
   "codemirror_mode": "r",
   "file_extension": ".r",
   "mimetype": "text/x-r-source",
   "name": "R",
   "pygments_lexer": "r",
   "version": "4.5.1"
  }
 },
 "nbformat": 4,
 "nbformat_minor": 5
}
