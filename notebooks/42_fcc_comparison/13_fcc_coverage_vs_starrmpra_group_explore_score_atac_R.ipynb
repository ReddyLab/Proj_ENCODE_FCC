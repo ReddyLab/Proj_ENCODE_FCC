{
 "cells": [
  {
   "cell_type": "raw",
   "id": "ba5af1ad-287e-4aba-a3b1-471d167b21fc",
   "metadata": {},
   "source": [
    "---\n",
    "title: FCC coverage vs STARRMPRA Group 13\n",
    "subtitle: Visualize ATAC scores at STARRMPRA CREs\n",
    "format:\n",
    "    html:\n",
    "        code-fold:  true\n",
    "        code-tools: true\n",
    "---"
   ]
  },
  {
   "cell_type": "markdown",
   "id": "2011a6fa-c47e-4701-be50-0ade215d6c8b",
   "metadata": {},
   "source": [
    "**Set environment**"
   ]
  },
  {
   "cell_type": "code",
   "execution_count": 2,
   "id": "60937f1a-a036-4a96-b88b-40ff766f6917",
   "metadata": {
    "tags": []
   },
   "outputs": [
    {
     "name": "stdout",
     "output_type": "stream",
     "text": [
      "You are working on        Singularity: singularity_proj_encode_fcc \n",
      "BASE DIRECTORY (FD_BASE): /data/reddylab/Kuei \n",
      "REPO DIRECTORY (FD_REPO): /data/reddylab/Kuei/repo \n",
      "WORK DIRECTORY (FD_WORK): /data/reddylab/Kuei/work \n",
      "DATA DIRECTORY (FD_DATA): /data/reddylab/Kuei/data \n",
      "\n",
      "You are working with      ENCODE FCC \n",
      "PATH OF PROJECT (FD_PRJ): /data/reddylab/Kuei/repo/Proj_ENCODE_FCC \n",
      "PROJECT RESULTS (FD_RES): /data/reddylab/Kuei/repo/Proj_ENCODE_FCC/results \n",
      "PROJECT SCRIPTS (FD_EXE): /data/reddylab/Kuei/repo/Proj_ENCODE_FCC/scripts \n",
      "PROJECT DATA    (FD_DAT): /data/reddylab/Kuei/repo/Proj_ENCODE_FCC/data \n",
      "PROJECT NOTE    (FD_NBK): /data/reddylab/Kuei/repo/Proj_ENCODE_FCC/notebooks \n",
      "PROJECT DOCS    (FD_DOC): /data/reddylab/Kuei/repo/Proj_ENCODE_FCC/docs \n",
      "PROJECT LOG     (FD_LOG): /data/reddylab/Kuei/repo/Proj_ENCODE_FCC/log \n",
      "PROJECT REF     (FD_REF): /data/reddylab/Kuei/repo/Proj_ENCODE_FCC/references \n",
      "\n"
     ]
    }
   ],
   "source": [
    "suppressMessages(suppressWarnings(source(\"../run_config_project_sing.R\")))\n",
    "show_env()"
   ]
  },
  {
   "cell_type": "markdown",
   "id": "e2171d31-d49e-4521-96a3-9050fec61e02",
   "metadata": {},
   "source": [
    "## Prepare"
   ]
  },
  {
   "cell_type": "markdown",
   "id": "ffebbb85-5476-452c-bd2f-e99544d66ece",
   "metadata": {},
   "source": [
    "**Set global variable**"
   ]
  },
  {
   "cell_type": "code",
   "execution_count": 1,
   "id": "759e3601-6594-4e7a-a8fd-876ff7f7fd3f",
   "metadata": {},
   "outputs": [
    {
     "name": "stdout",
     "output_type": "stream",
     "text": [
      "fcc_astarr_macs_input_overlap \n",
      "fcc_astarr_macs_input_union \n"
     ]
    }
   ],
   "source": [
    "vec = c(\n",
    "    \"fcc_astarr_macs_input_overlap\",\n",
    "    \"fcc_astarr_macs_input_union\"\n",
    ")\n",
    "names(vec) = vec\n",
    "\n",
    "VEC_TXT_FOLDER = vec\n",
    "for(txt in vec){cat(txt, \"\\n\")}"
   ]
  },
  {
   "cell_type": "markdown",
   "id": "f0d8ce33-d7a4-487b-9225-0498495f2021",
   "metadata": {},
   "source": [
    "**View files**"
   ]
  },
  {
   "cell_type": "code",
   "execution_count": 3,
   "id": "7da7b8ef-fc48-4167-bea2-802aae8d9590",
   "metadata": {},
   "outputs": [
    {
     "name": "stdout",
     "output_type": "stream",
     "text": [
      "/data/reddylab/Kuei/repo/Proj_ENCODE_FCC/results/analysis_fcc_comparison/fcc_astarr_macs_input_overlap/region.annotation.fcc_starrmpra_group.coverage.atac.tsv \n",
      "/data/reddylab/Kuei/repo/Proj_ENCODE_FCC/results/analysis_fcc_comparison/fcc_astarr_macs_input_overlap/region.annotation.fcc_starrmpra_group.coverage.crispri.tsv \n",
      "/data/reddylab/Kuei/repo/Proj_ENCODE_FCC/results/analysis_fcc_comparison/fcc_astarr_macs_input_overlap/region.annotation.fcc_starrmpra_group.coverage.fcc.tsv \n"
     ]
    }
   ],
   "source": [
    "txt_folder = VEC_TXT_FOLDER[1]\n",
    "txt_fdiry  = file.path(FD_RES, \"analysis_fcc_comparison\", txt_folder)\n",
    "txt_fname  = \"region.annotation.fcc_starrmpra_group.coverage.*.tsv\"\n",
    "txt_fglob  = file.path(txt_fdiry, txt_fname)\n",
    "\n",
    "vec = Sys.glob(txt_fglob)\n",
    "for (txt in vec) {cat(txt, \"\\n\")}"
   ]
  },
  {
   "cell_type": "markdown",
   "id": "9b86f9ec-65d0-4e85-9ad8-7162d0cd6508",
   "metadata": {},
   "source": [
    "## Import data"
   ]
  },
  {
   "cell_type": "markdown",
   "id": "1c3db302-8898-49a0-846b-30454f9e5268",
   "metadata": {},
   "source": [
    "**Import FCC region coverage scores**"
   ]
  },
  {
   "cell_type": "code",
   "execution_count": 4,
   "id": "ec7ee916-ac6f-4d2d-90cb-d4cd8c1daec9",
   "metadata": {},
   "outputs": [
    {
     "name": "stdout",
     "output_type": "stream",
     "text": [
      "$fcc_astarr_macs_input_overlap\n",
      "[1] 150046     17\n",
      "\n",
      "$fcc_astarr_macs_input_union\n",
      "[1] 246862     17\n",
      "\n"
     ]
    },
    {
     "data": {
      "text/html": [
       "<table class=\"dataframe\">\n",
       "<caption>A tibble: 3 × 17</caption>\n",
       "<thead>\n",
       "\t<tr><th scope=col>Chrom</th><th scope=col>ChromStart</th><th scope=col>ChromEnd</th><th scope=col>Region</th><th scope=col>Distance2TSS</th><th scope=col>TSS_Proximity</th><th scope=col>TSS</th><th scope=col>Direction_Assay</th><th scope=col>Group</th><th scope=col>Score</th><th scope=col>Score_Label</th><th scope=col>Score_Quantile</th><th scope=col>Zcore</th><th scope=col>Zcore_Label</th><th scope=col>Assay_Folder</th><th scope=col>Assay_Group</th><th scope=col>Assay_Label</th></tr>\n",
       "\t<tr><th scope=col>&lt;chr&gt;</th><th scope=col>&lt;dbl&gt;</th><th scope=col>&lt;dbl&gt;</th><th scope=col>&lt;chr&gt;</th><th scope=col>&lt;dbl&gt;</th><th scope=col>&lt;chr&gt;</th><th scope=col>&lt;dbl&gt;</th><th scope=col>&lt;chr&gt;</th><th scope=col>&lt;chr&gt;</th><th scope=col>&lt;dbl&gt;</th><th scope=col>&lt;chr&gt;</th><th scope=col>&lt;chr&gt;</th><th scope=col>&lt;dbl&gt;</th><th scope=col>&lt;chr&gt;</th><th scope=col>&lt;chr&gt;</th><th scope=col>&lt;chr&gt;</th><th scope=col>&lt;chr&gt;</th></tr>\n",
       "</thead>\n",
       "<tbody>\n",
       "\t<tr><td>chr1</td><td>10038</td><td>10405</td><td>chr1:10038-10405</td><td>1469</td><td>Proximal</td><td>0</td><td>Inactive</td><td>Proximal:Inactive</td><td>3.940038</td><td>ASTARR Input TPM</td><td>Q3</td><td>-0.2608700</td><td>scale(log2(TPM + 1)</td><td>STARR_ATAC_K562_Reddy_KS91</td><td>ASTARR_KS91</td><td>ATAC</td></tr>\n",
       "\t<tr><td>chr1</td><td>14282</td><td>14614</td><td>chr1:14282-14614</td><td>2409</td><td>Distal  </td><td>0</td><td>Inactive</td><td>Distal:Inactive  </td><td>2.841707</td><td>ASTARR Input TPM</td><td>Q2</td><td>-0.6570534</td><td>scale(log2(TPM + 1)</td><td>STARR_ATAC_K562_Reddy_KS91</td><td>ASTARR_KS91</td><td>ATAC</td></tr>\n",
       "\t<tr><td>chr1</td><td>16025</td><td>16338</td><td>chr1:16025-16338</td><td>1099</td><td>Proximal</td><td>0</td><td>Inactive</td><td>Proximal:Inactive</td><td>3.830812</td><td>ASTARR Input TPM</td><td>Q3</td><td>-0.2960970</td><td>scale(log2(TPM + 1)</td><td>STARR_ATAC_K562_Reddy_KS91</td><td>ASTARR_KS91</td><td>ATAC</td></tr>\n",
       "</tbody>\n",
       "</table>\n"
      ],
      "text/latex": [
       "A tibble: 3 × 17\n",
       "\\begin{tabular}{lllllllllllllllll}\n",
       " Chrom & ChromStart & ChromEnd & Region & Distance2TSS & TSS\\_Proximity & TSS & Direction\\_Assay & Group & Score & Score\\_Label & Score\\_Quantile & Zcore & Zcore\\_Label & Assay\\_Folder & Assay\\_Group & Assay\\_Label\\\\\n",
       " <chr> & <dbl> & <dbl> & <chr> & <dbl> & <chr> & <dbl> & <chr> & <chr> & <dbl> & <chr> & <chr> & <dbl> & <chr> & <chr> & <chr> & <chr>\\\\\n",
       "\\hline\n",
       "\t chr1 & 10038 & 10405 & chr1:10038-10405 & 1469 & Proximal & 0 & Inactive & Proximal:Inactive & 3.940038 & ASTARR Input TPM & Q3 & -0.2608700 & scale(log2(TPM + 1) & STARR\\_ATAC\\_K562\\_Reddy\\_KS91 & ASTARR\\_KS91 & ATAC\\\\\n",
       "\t chr1 & 14282 & 14614 & chr1:14282-14614 & 2409 & Distal   & 0 & Inactive & Distal:Inactive   & 2.841707 & ASTARR Input TPM & Q2 & -0.6570534 & scale(log2(TPM + 1) & STARR\\_ATAC\\_K562\\_Reddy\\_KS91 & ASTARR\\_KS91 & ATAC\\\\\n",
       "\t chr1 & 16025 & 16338 & chr1:16025-16338 & 1099 & Proximal & 0 & Inactive & Proximal:Inactive & 3.830812 & ASTARR Input TPM & Q3 & -0.2960970 & scale(log2(TPM + 1) & STARR\\_ATAC\\_K562\\_Reddy\\_KS91 & ASTARR\\_KS91 & ATAC\\\\\n",
       "\\end{tabular}\n"
      ],
      "text/markdown": [
       "\n",
       "A tibble: 3 × 17\n",
       "\n",
       "| Chrom &lt;chr&gt; | ChromStart &lt;dbl&gt; | ChromEnd &lt;dbl&gt; | Region &lt;chr&gt; | Distance2TSS &lt;dbl&gt; | TSS_Proximity &lt;chr&gt; | TSS &lt;dbl&gt; | Direction_Assay &lt;chr&gt; | Group &lt;chr&gt; | Score &lt;dbl&gt; | Score_Label &lt;chr&gt; | Score_Quantile &lt;chr&gt; | Zcore &lt;dbl&gt; | Zcore_Label &lt;chr&gt; | Assay_Folder &lt;chr&gt; | Assay_Group &lt;chr&gt; | Assay_Label &lt;chr&gt; |\n",
       "|---|---|---|---|---|---|---|---|---|---|---|---|---|---|---|---|---|\n",
       "| chr1 | 10038 | 10405 | chr1:10038-10405 | 1469 | Proximal | 0 | Inactive | Proximal:Inactive | 3.940038 | ASTARR Input TPM | Q3 | -0.2608700 | scale(log2(TPM + 1) | STARR_ATAC_K562_Reddy_KS91 | ASTARR_KS91 | ATAC |\n",
       "| chr1 | 14282 | 14614 | chr1:14282-14614 | 2409 | Distal   | 0 | Inactive | Distal:Inactive   | 2.841707 | ASTARR Input TPM | Q2 | -0.6570534 | scale(log2(TPM + 1) | STARR_ATAC_K562_Reddy_KS91 | ASTARR_KS91 | ATAC |\n",
       "| chr1 | 16025 | 16338 | chr1:16025-16338 | 1099 | Proximal | 0 | Inactive | Proximal:Inactive | 3.830812 | ASTARR Input TPM | Q3 | -0.2960970 | scale(log2(TPM + 1) | STARR_ATAC_K562_Reddy_KS91 | ASTARR_KS91 | ATAC |\n",
       "\n"
      ],
      "text/plain": [
       "  Chrom ChromStart ChromEnd Region           Distance2TSS TSS_Proximity TSS\n",
       "1 chr1  10038      10405    chr1:10038-10405 1469         Proximal      0  \n",
       "2 chr1  14282      14614    chr1:14282-14614 2409         Distal        0  \n",
       "3 chr1  16025      16338    chr1:16025-16338 1099         Proximal      0  \n",
       "  Direction_Assay Group             Score    Score_Label      Score_Quantile\n",
       "1 Inactive        Proximal:Inactive 3.940038 ASTARR Input TPM Q3            \n",
       "2 Inactive        Distal:Inactive   2.841707 ASTARR Input TPM Q2            \n",
       "3 Inactive        Proximal:Inactive 3.830812 ASTARR Input TPM Q3            \n",
       "  Zcore      Zcore_Label         Assay_Folder               Assay_Group\n",
       "1 -0.2608700 scale(log2(TPM + 1) STARR_ATAC_K562_Reddy_KS91 ASTARR_KS91\n",
       "2 -0.6570534 scale(log2(TPM + 1) STARR_ATAC_K562_Reddy_KS91 ASTARR_KS91\n",
       "3 -0.2960970 scale(log2(TPM + 1) STARR_ATAC_K562_Reddy_KS91 ASTARR_KS91\n",
       "  Assay_Label\n",
       "1 ATAC       \n",
       "2 ATAC       \n",
       "3 ATAC       "
      ]
     },
     "metadata": {},
     "output_type": "display_data"
    }
   ],
   "source": [
    "### loop to import data\n",
    "lst = lapply(VEC_TXT_FOLDER, function(txt_folder){\n",
    "    ### set file directory\n",
    "    txt_fdiry  = file.path(FD_RES, \"analysis_fcc_comparison\", txt_folder)\n",
    "    txt_fname = \"region.annotation.fcc_starrmpra_group.coverage.atac.tsv\"\n",
    "    txt_fpath = file.path(txt_fdiry, txt_fname)\n",
    "\n",
    "    ### read table\n",
    "    dat = read_tsv(txt_fpath, show_col_types = FALSE)\n",
    "    return(dat)\n",
    "})\n",
    "\n",
    "### assign and show\n",
    "lst_dat_region_annot_coverage_import = lst\n",
    "\n",
    "res = lapply(lst, dim)\n",
    "print(res)\n",
    "\n",
    "dat = lst[[1]]\n",
    "head(dat, 3)"
   ]
  },
  {
   "cell_type": "markdown",
   "id": "1a2fd1dc-d696-419e-b9aa-5c2018973a37",
   "metadata": {},
   "source": [
    "## Arrange table"
   ]
  },
  {
   "cell_type": "code",
   "execution_count": 5,
   "id": "3223d254-502f-4416-a3a8-761baf4e3538",
   "metadata": {},
   "outputs": [
    {
     "name": "stdout",
     "output_type": "stream",
     "text": [
      "$fcc_astarr_macs_input_overlap\n",
      "[1] 150046     17\n",
      "\n",
      "$fcc_astarr_macs_input_union\n",
      "[1] 246862     17\n",
      "\n"
     ]
    },
    {
     "data": {
      "text/html": [
       "<table class=\"dataframe\">\n",
       "<caption>A tibble: 3 × 17</caption>\n",
       "<thead>\n",
       "\t<tr><th scope=col>Chrom</th><th scope=col>ChromStart</th><th scope=col>ChromEnd</th><th scope=col>Region</th><th scope=col>Distance2TSS</th><th scope=col>TSS_Proximity</th><th scope=col>TSS</th><th scope=col>Direction_Assay</th><th scope=col>Group</th><th scope=col>Score</th><th scope=col>Score_Label</th><th scope=col>Score_Quantile</th><th scope=col>Zcore</th><th scope=col>Zcore_Label</th><th scope=col>Assay_Folder</th><th scope=col>Assay_Group</th><th scope=col>Assay_Label</th></tr>\n",
       "\t<tr><th scope=col>&lt;chr&gt;</th><th scope=col>&lt;dbl&gt;</th><th scope=col>&lt;dbl&gt;</th><th scope=col>&lt;chr&gt;</th><th scope=col>&lt;dbl&gt;</th><th scope=col>&lt;chr&gt;</th><th scope=col>&lt;dbl&gt;</th><th scope=col>&lt;chr&gt;</th><th scope=col>&lt;chr&gt;</th><th scope=col>&lt;dbl&gt;</th><th scope=col>&lt;chr&gt;</th><th scope=col>&lt;chr&gt;</th><th scope=col>&lt;dbl&gt;</th><th scope=col>&lt;chr&gt;</th><th scope=col>&lt;chr&gt;</th><th scope=col>&lt;chr&gt;</th><th scope=col>&lt;chr&gt;</th></tr>\n",
       "</thead>\n",
       "<tbody>\n",
       "\t<tr><td>chr1</td><td>10038</td><td>10405</td><td>chr1:10038-10405</td><td>1469</td><td>Proximal</td><td>0</td><td>Inactive</td><td>Proximal:Inactive</td><td>3.940038</td><td>ASTARR Input TPM</td><td>Q3</td><td>-0.2608700</td><td>scale(log2(TPM + 1)</td><td>STARR_ATAC_K562_Reddy_KS91</td><td>ASTARR_KS91</td><td>ATAC</td></tr>\n",
       "\t<tr><td>chr1</td><td>14282</td><td>14614</td><td>chr1:14282-14614</td><td>2409</td><td>Distal  </td><td>0</td><td>Inactive</td><td>Distal:Inactive  </td><td>2.841707</td><td>ASTARR Input TPM</td><td>Q2</td><td>-0.6570534</td><td>scale(log2(TPM + 1)</td><td>STARR_ATAC_K562_Reddy_KS91</td><td>ASTARR_KS91</td><td>ATAC</td></tr>\n",
       "\t<tr><td>chr1</td><td>16025</td><td>16338</td><td>chr1:16025-16338</td><td>1099</td><td>Proximal</td><td>0</td><td>Inactive</td><td>Proximal:Inactive</td><td>3.830812</td><td>ASTARR Input TPM</td><td>Q3</td><td>-0.2960970</td><td>scale(log2(TPM + 1)</td><td>STARR_ATAC_K562_Reddy_KS91</td><td>ASTARR_KS91</td><td>ATAC</td></tr>\n",
       "</tbody>\n",
       "</table>\n"
      ],
      "text/latex": [
       "A tibble: 3 × 17\n",
       "\\begin{tabular}{lllllllllllllllll}\n",
       " Chrom & ChromStart & ChromEnd & Region & Distance2TSS & TSS\\_Proximity & TSS & Direction\\_Assay & Group & Score & Score\\_Label & Score\\_Quantile & Zcore & Zcore\\_Label & Assay\\_Folder & Assay\\_Group & Assay\\_Label\\\\\n",
       " <chr> & <dbl> & <dbl> & <chr> & <dbl> & <chr> & <dbl> & <chr> & <chr> & <dbl> & <chr> & <chr> & <dbl> & <chr> & <chr> & <chr> & <chr>\\\\\n",
       "\\hline\n",
       "\t chr1 & 10038 & 10405 & chr1:10038-10405 & 1469 & Proximal & 0 & Inactive & Proximal:Inactive & 3.940038 & ASTARR Input TPM & Q3 & -0.2608700 & scale(log2(TPM + 1) & STARR\\_ATAC\\_K562\\_Reddy\\_KS91 & ASTARR\\_KS91 & ATAC\\\\\n",
       "\t chr1 & 14282 & 14614 & chr1:14282-14614 & 2409 & Distal   & 0 & Inactive & Distal:Inactive   & 2.841707 & ASTARR Input TPM & Q2 & -0.6570534 & scale(log2(TPM + 1) & STARR\\_ATAC\\_K562\\_Reddy\\_KS91 & ASTARR\\_KS91 & ATAC\\\\\n",
       "\t chr1 & 16025 & 16338 & chr1:16025-16338 & 1099 & Proximal & 0 & Inactive & Proximal:Inactive & 3.830812 & ASTARR Input TPM & Q3 & -0.2960970 & scale(log2(TPM + 1) & STARR\\_ATAC\\_K562\\_Reddy\\_KS91 & ASTARR\\_KS91 & ATAC\\\\\n",
       "\\end{tabular}\n"
      ],
      "text/markdown": [
       "\n",
       "A tibble: 3 × 17\n",
       "\n",
       "| Chrom &lt;chr&gt; | ChromStart &lt;dbl&gt; | ChromEnd &lt;dbl&gt; | Region &lt;chr&gt; | Distance2TSS &lt;dbl&gt; | TSS_Proximity &lt;chr&gt; | TSS &lt;dbl&gt; | Direction_Assay &lt;chr&gt; | Group &lt;chr&gt; | Score &lt;dbl&gt; | Score_Label &lt;chr&gt; | Score_Quantile &lt;chr&gt; | Zcore &lt;dbl&gt; | Zcore_Label &lt;chr&gt; | Assay_Folder &lt;chr&gt; | Assay_Group &lt;chr&gt; | Assay_Label &lt;chr&gt; |\n",
       "|---|---|---|---|---|---|---|---|---|---|---|---|---|---|---|---|---|\n",
       "| chr1 | 10038 | 10405 | chr1:10038-10405 | 1469 | Proximal | 0 | Inactive | Proximal:Inactive | 3.940038 | ASTARR Input TPM | Q3 | -0.2608700 | scale(log2(TPM + 1) | STARR_ATAC_K562_Reddy_KS91 | ASTARR_KS91 | ATAC |\n",
       "| chr1 | 14282 | 14614 | chr1:14282-14614 | 2409 | Distal   | 0 | Inactive | Distal:Inactive   | 2.841707 | ASTARR Input TPM | Q2 | -0.6570534 | scale(log2(TPM + 1) | STARR_ATAC_K562_Reddy_KS91 | ASTARR_KS91 | ATAC |\n",
       "| chr1 | 16025 | 16338 | chr1:16025-16338 | 1099 | Proximal | 0 | Inactive | Proximal:Inactive | 3.830812 | ASTARR Input TPM | Q3 | -0.2960970 | scale(log2(TPM + 1) | STARR_ATAC_K562_Reddy_KS91 | ASTARR_KS91 | ATAC |\n",
       "\n"
      ],
      "text/plain": [
       "  Chrom ChromStart ChromEnd Region           Distance2TSS TSS_Proximity TSS\n",
       "1 chr1  10038      10405    chr1:10038-10405 1469         Proximal      0  \n",
       "2 chr1  14282      14614    chr1:14282-14614 2409         Distal        0  \n",
       "3 chr1  16025      16338    chr1:16025-16338 1099         Proximal      0  \n",
       "  Direction_Assay Group             Score    Score_Label      Score_Quantile\n",
       "1 Inactive        Proximal:Inactive 3.940038 ASTARR Input TPM Q3            \n",
       "2 Inactive        Distal:Inactive   2.841707 ASTARR Input TPM Q2            \n",
       "3 Inactive        Proximal:Inactive 3.830812 ASTARR Input TPM Q3            \n",
       "  Zcore      Zcore_Label         Assay_Folder               Assay_Group\n",
       "1 -0.2608700 scale(log2(TPM + 1) STARR_ATAC_K562_Reddy_KS91 ASTARR_KS91\n",
       "2 -0.6570534 scale(log2(TPM + 1) STARR_ATAC_K562_Reddy_KS91 ASTARR_KS91\n",
       "3 -0.2960970 scale(log2(TPM + 1) STARR_ATAC_K562_Reddy_KS91 ASTARR_KS91\n",
       "  Assay_Label\n",
       "1 ATAC       \n",
       "2 ATAC       \n",
       "3 ATAC       "
      ]
     },
     "metadata": {},
     "output_type": "display_data"
    }
   ],
   "source": [
    "lst = lst_dat_region_annot_coverage_import\n",
    "lst = lapply(lst, function(dat){\n",
    "    dat = dat %>% dplyr::filter(Assay_Label == \"ATAC\")\n",
    "    return(dat)\n",
    "})\n",
    "\n",
    "lst_dat_region_annot_coverage_arrange = lst\n",
    "\n",
    "res = lapply(lst, dim)\n",
    "print(res)\n",
    "\n",
    "dat = lst[[1]]\n",
    "head(dat, 3)"
   ]
  },
  {
   "cell_type": "markdown",
   "id": "eed9b759-9e64-4073-9b50-4eb7a6a54ddd",
   "metadata": {},
   "source": [
    "## Summarize as table"
   ]
  },
  {
   "cell_type": "markdown",
   "id": "860b16b1-1743-49a8-9ca7-6bff0d59a3bc",
   "metadata": {},
   "source": [
    "**Helper function to get the mode of a continuous variable**"
   ]
  },
  {
   "cell_type": "code",
   "execution_count": 6,
   "id": "69ef027d-eb06-4f0e-b2f5-9e7ee881cdbc",
   "metadata": {},
   "outputs": [],
   "source": [
    "get_mode_continuous <- function(x, ...) {\n",
    "    obj = density(x, ...)\n",
    "    num = obj$x[which.max(obj$y)]\n",
    "    return(num)\n",
    "}"
   ]
  },
  {
   "cell_type": "markdown",
   "id": "cb4767c7-b13e-4c46-b4ff-61a642eaf15e",
   "metadata": {},
   "source": [
    "**Show table**"
   ]
  },
  {
   "cell_type": "code",
   "execution_count": 7,
   "id": "00bb5569-3ee5-4e22-bdb9-452302a60c75",
   "metadata": {},
   "outputs": [
    {
     "data": {
      "text/plain": [
       "\n",
       "\n",
       "|Group               |  Min|   Q25|  Mean| Median|  Mode|   Q75|    Max|\n",
       "|:-------------------|----:|-----:|-----:|------:|-----:|-----:|------:|\n",
       "|Distal:Active       | 1.71|  3.69|  9.53|   6.13|  3.55| 12.13|  81.61|\n",
       "|Distal:Inactive     | 0.00|  2.65|  4.60|   3.31|  3.29|  4.79| 473.26|\n",
       "|Distal:Repressive   | 1.81|  2.78|  5.44|   3.69|  2.78|  5.42|  62.44|\n",
       "|Proximal:Active     | 1.91| 16.79| 26.43|  25.48| 23.87| 34.84| 115.09|\n",
       "|Proximal:Inactive   | 1.66|  3.63| 13.25|   8.07|  3.48| 19.56| 126.39|\n",
       "|Proximal:Repressive | 1.87|  4.23| 11.36|   7.69|  4.56| 15.92|  50.45|"
      ]
     },
     "metadata": {},
     "output_type": "display_data"
    }
   ],
   "source": [
    "### get table\n",
    "lst = lst_dat_region_annot_coverage_import\n",
    "dat = lst[[\"fcc_astarr_macs_input_overlap\"]]\n",
    "\n",
    "dat = dat %>%\n",
    "    dplyr::group_by(Group) %>%\n",
    "    dplyr::summarise(\n",
    "        Min    = min(Score),\n",
    "        Q25    = quantile(Score, probs = 0.25),\n",
    "        Mean   = mean(Score),\n",
    "        Median = median(Score),\n",
    "        Mode   = get_mode_continuous(Score),\n",
    "        Q75    = quantile(Score, probs = 0.75),\n",
    "        Max    = max(Score)\n",
    "    )\n",
    "\n",
    "fun = function(x){return(round(x, 2))}\n",
    "dat = dat %>% dplyr::mutate(across(where(is.numeric), fun))\n",
    "### show table\n",
    "fun_markdown_table(dat)"
   ]
  },
  {
   "cell_type": "markdown",
   "id": "90104cfb-bd73-41d3-ab8e-be7c5dcd09b3",
   "metadata": {},
   "source": [
    "## Explore: Visualize GC content distribution across STARR/MRPA CRE groups"
   ]
  },
  {
   "cell_type": "markdown",
   "id": "e95e99d4-92e0-4add-a1d1-ec2ee65d4f1f",
   "metadata": {},
   "source": [
    "**Set plot style**"
   ]
  },
  {
   "cell_type": "code",
   "execution_count": 8,
   "id": "2783354a-3aae-4ce1-81c4-53a1e405259b",
   "metadata": {},
   "outputs": [],
   "source": [
    "### set text size\n",
    "theme_text = theme(\n",
    "    title      = element_text(size = 16),\n",
    "    axis.title = element_text(size = 16),\n",
    "    axis.text  = element_text(size = 16),\n",
    "    #legend.title = element_text(size = 16),\n",
    "    legend.title = element_blank(),\n",
    "    legend.text  = element_text(size = 16),\n",
    "    strip.text   = element_text(size = 16)\n",
    ")\n",
    "\n",
    "### set color\n",
    "vec_txt_color  = c(\"Proximal\" = \"#fb8072\", \"Distal\" = \"#66c2a5\")\n",
    "theme_color = scale_fill_manual(values = vec_txt_color)\n",
    "\n",
    "### set factor order\n",
    "vec_txt_group = c(\n",
    "    \"Proximal:Active\", \"Proximal:Repressive\", \n",
    "    \"Distal:Active\",   \"Distal:Repressive\", \n",
    "    \"Proximal:Inactive\", \"Distal:Inactive\"\n",
    ")"
   ]
  },
  {
   "cell_type": "markdown",
   "id": "ecd59fed-85cd-43cd-98a8-0cb68377728e",
   "metadata": {},
   "source": [
    "**Generate plot**"
   ]
  },
  {
   "cell_type": "code",
   "execution_count": 10,
   "id": "9b99d3da-9260-4cda-b028-acd1018339e8",
   "metadata": {},
   "outputs": [
    {
     "name": "stderr",
     "output_type": "stream",
     "text": [
      "Warning message:\n",
      "“\u001b[1m\u001b[22mRemoved 71 rows containing non-finite outside the scale range (`stat_density()`).”\n"
     ]
    },
    {
     "data": {
      "image/png": "[encoded data removed]",
      "text/plain": [
       "plot without title"
      ]
     },
     "metadata": {
      "image/png": {
       "height": 300,
       "width": 480
      }
     },
     "output_type": "display_data"
    }
   ],
   "source": [
    "### get table\n",
    "lst = lst_dat_region_annot_coverage_import\n",
    "dat = lst[[\"fcc_astarr_macs_input_overlap\"]]\n",
    "\n",
    "### set factor\n",
    "dat = dat %>% dplyr::mutate(Group = factor(Group, levels = rev(vec_txt_group)))\n",
    "\n",
    "### generate plot\n",
    "gpt = ggplot(dat, aes(x=Score, fill=TSS_Proximity)) + \n",
    "    geom_density(alpha = 0.8) + \n",
    "    theme_cowplot() + \n",
    "    background_grid() +\n",
    "    labs(x=\"ATAC (TPM)\", y = \"Density\") +\n",
    "    facet_wrap(~Direction_Assay, ncol = 1, scale = \"free_y\") +\n",
    "    theme_text +\n",
    "    theme_color +\n",
    "    xlim(0, 70)\n",
    "\n",
    "### assign and show\n",
    "gpt_export_atac_by_group = gpt\n",
    "options(repr.plot.height = 5, repr.plot.width = 8)\n",
    "print(gpt)"
   ]
  },
  {
   "cell_type": "markdown",
   "id": "143ed984-6499-4d93-8ca3-dfed3895a8bf",
   "metadata": {},
   "source": [
    "**Explort plots**"
   ]
  },
  {
   "cell_type": "code",
   "execution_count": null,
   "id": "8d3425e2-fdc6-43c0-ac60-8daf67ff115c",
   "metadata": {},
   "outputs": [],
   "source": [
    "plt_export = gpt_export_atac_by_group\n",
    "txt_export = \"fig.fcc_comparison.fcc_starrmpra_group.atac_coverage_score.boxplot\"\n",
    "num_height = sum(vec_export) * 1.5\n",
    "num_width  = 12\n",
    "\n",
    "txt_fdiry = \"./\"\n",
    "txt_fname = paste(txt_export, \"png\", sep = \".\")\n",
    "txt_fpath = file.path(txt_fdiry, txt_fname)\n",
    "#ggsave(txt_fpath, plt_export, height = num_height, width = num_width, units = \"in\")\n",
    "\n",
    "txt_fdiry = \"./\"\n",
    "txt_fname = paste(txt_export, \"svg\", sep = \".\")\n",
    "txt_fpath = file.path(txt_fdiry, txt_fname)\n",
    "#ggsave(txt_fpath, plt_export, height = num_height, width = num_width, units = \"in\")"
   ]
  },
  {
   "cell_type": "code",
   "execution_count": null,
   "id": "e7375df5-0acc-4309-b11c-7e5197dd655f",
   "metadata": {},
   "outputs": [],
   "source": []
  }
 ],
 "metadata": {
  "kernelspec": {
   "display_name": "R",
   "language": "R",
   "name": "ir"
  },
  "language_info": {
   "codemirror_mode": "r",
   "file_extension": ".r",
   "mimetype": "text/x-r-source",
   "name": "R",
   "pygments_lexer": "r",
   "version": "4.5.1"
  }
 },
 "nbformat": 4,
 "nbformat_minor": 5
}
