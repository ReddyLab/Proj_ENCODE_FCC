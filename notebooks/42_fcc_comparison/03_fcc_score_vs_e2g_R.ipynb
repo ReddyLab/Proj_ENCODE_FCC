{
 "cells": [
  {
   "cell_type": "raw",
   "id": "fd33c2af-862b-40b8-bdab-491588d08452",
   "metadata": {},
   "source": [
    "---\n",
    "title: Region annotation 11 (ASTARR MACS peaks)\n",
    "subtitle: Summarize annotations (Main)\n",
    "format:\n",
    "    html:\n",
    "        code-fold:  true\n",
    "        code-tools: true\n",
    "---"
   ]
  },
  {
   "cell_type": "markdown",
   "id": "b77b935a-3544-4524-8a42-2cde09aa3e7c",
   "metadata": {},
   "source": [
    "**Set environment**"
   ]
  },
  {
   "cell_type": "code",
   "execution_count": 1,
   "id": "5dc4ac29-1ece-4625-bd78-cb80444ffde8",
   "metadata": {
    "tags": []
   },
   "outputs": [
    {
     "name": "stdout",
     "output_type": "stream",
     "text": [
      "You are working on        Singularity \n",
      "BASE DIRECTORY (FD_BASE): /mount \n",
      "REPO DIRECTORY (FD_REPO): /mount/repo \n",
      "WORK DIRECTORY (FD_WORK): /mount/work \n",
      "DATA DIRECTORY (FD_DATA): /mount/data \n",
      "\n",
      "You are working with      ENCODE FCC \n",
      "PATH OF PROJECT (FD_PRJ): /mount/repo/Proj_ENCODE_FCC \n",
      "PROJECT RESULTS (FD_RES): /mount/repo/Proj_ENCODE_FCC/results \n",
      "PROJECT SCRIPTS (FD_EXE): /mount/repo/Proj_ENCODE_FCC/scripts \n",
      "PROJECT DATA    (FD_DAT): /mount/repo/Proj_ENCODE_FCC/data \n",
      "PROJECT NOTE    (FD_NBK): /mount/repo/Proj_ENCODE_FCC/notebooks \n",
      "PROJECT DOCS    (FD_DOC): /mount/repo/Proj_ENCODE_FCC/docs \n",
      "PROJECT LOG     (FD_LOG): /mount/repo/Proj_ENCODE_FCC/log \n",
      "PROJECT APP     (FD_APP): /mount/repo/Proj_ENCODE_FCC/app \n",
      "PROJECT REF     (FD_REF): /mount/repo/Proj_ENCODE_FCC/references \n",
      "\n"
     ]
    }
   ],
   "source": [
    "suppressMessages(suppressWarnings(source(\"../run_config_project_sing.R\")))\n",
    "show_env()"
   ]
  },
  {
   "cell_type": "markdown",
   "id": "560ccae1-a189-45d4-b0cc-a346a89c9238",
   "metadata": {},
   "source": [
    "## Import data"
   ]
  },
  {
   "cell_type": "code",
   "execution_count": 4,
   "id": "5f8677aa-afcf-4973-bcb1-6111f1251bed",
   "metadata": {},
   "outputs": [
    {
     "name": "stdout",
     "output_type": "stream",
     "text": [
      "[1] 3035    6\n"
     ]
    },
    {
     "data": {
      "text/html": [
       "<table>\n",
       " <thead>\n",
       "  <tr>\n",
       "   <th style=\"text-align:left;\"> Chrom </th>\n",
       "   <th style=\"text-align:right;\"> ChromStart </th>\n",
       "   <th style=\"text-align:right;\"> ChromEnd </th>\n",
       "   <th style=\"text-align:left;\"> Region </th>\n",
       "   <th style=\"text-align:left;\"> Regulated_Ifany </th>\n",
       "   <th style=\"text-align:right;\"> Regulated_Count </th>\n",
       "  </tr>\n",
       " </thead>\n",
       "<tbody>\n",
       "  <tr>\n",
       "   <td style=\"text-align:left;\"> chr1 </td>\n",
       "   <td style=\"text-align:right;\"> 3774056 </td>\n",
       "   <td style=\"text-align:right;\"> 3776283 </td>\n",
       "   <td style=\"text-align:left;\"> chr1:3774056-3776283 </td>\n",
       "   <td style=\"text-align:left;\"> TRUE </td>\n",
       "   <td style=\"text-align:right;\"> 3 </td>\n",
       "  </tr>\n",
       "  <tr>\n",
       "   <td style=\"text-align:left;\"> chr1 </td>\n",
       "   <td style=\"text-align:right;\"> 3803955 </td>\n",
       "   <td style=\"text-align:right;\"> 3806146 </td>\n",
       "   <td style=\"text-align:left;\"> chr1:3803955-3806146 </td>\n",
       "   <td style=\"text-align:left;\"> FALSE </td>\n",
       "   <td style=\"text-align:right;\"> 0 </td>\n",
       "  </tr>\n",
       "  <tr>\n",
       "   <td style=\"text-align:left;\"> chr1 </td>\n",
       "   <td style=\"text-align:right;\"> 4126841 </td>\n",
       "   <td style=\"text-align:right;\"> 4128109 </td>\n",
       "   <td style=\"text-align:left;\"> chr1:4126841-4128109 </td>\n",
       "   <td style=\"text-align:left;\"> FALSE </td>\n",
       "   <td style=\"text-align:right;\"> 0 </td>\n",
       "  </tr>\n",
       "</tbody>\n",
       "</table>"
      ]
     },
     "metadata": {},
     "output_type": "display_data"
    }
   ],
   "source": [
    "txt_fdiry = file.path(FD_RES, \"region_annotation\", \"fcc_astarr_macs_input_overlap\", \"summary\")\n",
    "txt_fname = \"region.summary.encode_e2g_benchmark.regulated.tsv\"\n",
    "txt_fpath = file.path(txt_fdiry, txt_fname)\n",
    "\n",
    "dat = read_tsv(txt_fpath, show_col_types = FALSE)\n",
    "\n",
    "### assign and show\n",
    "dat_region_annot = dat\n",
    "print(dim(dat))\n",
    "fun_display_table(head(dat, 3))"
   ]
  },
  {
   "cell_type": "code",
   "execution_count": 5,
   "id": "aa1fd58e-e2ef-44ca-a8ae-0ebb630839c7",
   "metadata": {},
   "outputs": [
    {
     "name": "stdout",
     "output_type": "stream",
     "text": [
      "[1] 432505      9\n"
     ]
    },
    {
     "data": {
      "text/html": [
       "<table>\n",
       " <thead>\n",
       "  <tr>\n",
       "   <th style=\"text-align:left;\"> Chrom </th>\n",
       "   <th style=\"text-align:right;\"> ChromStart </th>\n",
       "   <th style=\"text-align:right;\"> ChromEnd </th>\n",
       "   <th style=\"text-align:left;\"> Region </th>\n",
       "   <th style=\"text-align:right;\"> Score </th>\n",
       "   <th style=\"text-align:left;\"> Assay_Name </th>\n",
       "   <th style=\"text-align:left;\"> Assay_Type </th>\n",
       "   <th style=\"text-align:left;\"> Assay_Group </th>\n",
       "   <th style=\"text-align:left;\"> Assay_Label </th>\n",
       "  </tr>\n",
       " </thead>\n",
       "<tbody>\n",
       "  <tr>\n",
       "   <td style=\"text-align:left;\"> chr10 </td>\n",
       "   <td style=\"text-align:right;\"> 100729094 </td>\n",
       "   <td style=\"text-align:right;\"> 100729750 </td>\n",
       "   <td style=\"text-align:left;\"> chr10:100729094-100729750 </td>\n",
       "   <td style=\"text-align:right;\"> -0.3065107 </td>\n",
       "   <td style=\"text-align:left;\"> CRISPRi_FlowFISH_K562_Riley_JinWoo </td>\n",
       "   <td style=\"text-align:left;\"> CRISPRi-HCRFF </td>\n",
       "   <td style=\"text-align:left;\"> CRISPRi-HCRFF </td>\n",
       "   <td style=\"text-align:left;\"> CRISPRi-HCR FlowFISH </td>\n",
       "  </tr>\n",
       "  <tr>\n",
       "   <td style=\"text-align:left;\"> chr10 </td>\n",
       "   <td style=\"text-align:right;\"> 100743501 </td>\n",
       "   <td style=\"text-align:right;\"> 100744571 </td>\n",
       "   <td style=\"text-align:left;\"> chr10:100743501-100744571 </td>\n",
       "   <td style=\"text-align:right;\"> -0.2702473 </td>\n",
       "   <td style=\"text-align:left;\"> CRISPRi_FlowFISH_K562_Riley_JinWoo </td>\n",
       "   <td style=\"text-align:left;\"> CRISPRi-HCRFF </td>\n",
       "   <td style=\"text-align:left;\"> CRISPRi-HCRFF </td>\n",
       "   <td style=\"text-align:left;\"> CRISPRi-HCR FlowFISH </td>\n",
       "  </tr>\n",
       "  <tr>\n",
       "   <td style=\"text-align:left;\"> chr10 </td>\n",
       "   <td style=\"text-align:right;\"> 100745413 </td>\n",
       "   <td style=\"text-align:right;\"> 100745741 </td>\n",
       "   <td style=\"text-align:left;\"> chr10:100745413-100745741 </td>\n",
       "   <td style=\"text-align:right;\"> 0.1130381 </td>\n",
       "   <td style=\"text-align:left;\"> CRISPRi_FlowFISH_K562_Riley_JinWoo </td>\n",
       "   <td style=\"text-align:left;\"> CRISPRi-HCRFF </td>\n",
       "   <td style=\"text-align:left;\"> CRISPRi-HCRFF </td>\n",
       "   <td style=\"text-align:left;\"> CRISPRi-HCR FlowFISH </td>\n",
       "  </tr>\n",
       "</tbody>\n",
       "</table>"
      ]
     },
     "metadata": {},
     "output_type": "display_data"
    }
   ],
   "source": [
    "txt_region = \"fcc_astarr_macs_input_overlap\"\n",
    "txt_fdiry  = file.path(FD_RES, \"region_coverage_fcc\", txt_region, \"summary\")\n",
    "txt_fname  = \"result.coverage.zscore.final.tsv\"\n",
    "txt_fpath  = file.path(txt_fdiry, txt_fname)\n",
    "\n",
    "dat = read_tsv(txt_fpath, show_col_types = FALSE)\n",
    "dat_region_score = dat\n",
    "\n",
    "print(dim(dat))\n",
    "fun_display_table(head(dat, 3))"
   ]
  },
  {
   "cell_type": "code",
   "execution_count": null,
   "id": "9b1dbc54-8db7-453e-9bba-247b7f3df53a",
   "metadata": {},
   "outputs": [],
   "source": []
  },
  {
   "cell_type": "code",
   "execution_count": null,
   "id": "946a3f21-1967-41f1-85e0-d7842420653f",
   "metadata": {},
   "outputs": [],
   "source": []
  },
  {
   "cell_type": "code",
   "execution_count": null,
   "id": "cff91693-c73f-49a2-9fae-bb3cf522368a",
   "metadata": {},
   "outputs": [],
   "source": []
  },
  {
   "cell_type": "code",
   "execution_count": 6,
   "id": "4c9d5a9b-d9ab-4c0b-a5ca-3690a05be4f6",
   "metadata": {},
   "outputs": [
    {
     "data": {
      "text/html": [
       "<table class=\"dataframe\">\n",
       "<caption>A tibble: 6 × 11</caption>\n",
       "<thead>\n",
       "\t<tr><th scope=col>Chrom</th><th scope=col>ChromStart</th><th scope=col>ChromEnd</th><th scope=col>Region</th><th scope=col>Score</th><th scope=col>Assay_Name</th><th scope=col>Assay_Type</th><th scope=col>Assay_Group</th><th scope=col>Assay_Label</th><th scope=col>Regulated_Ifany</th><th scope=col>Regulated_Count</th></tr>\n",
       "\t<tr><th scope=col>&lt;chr&gt;</th><th scope=col>&lt;dbl&gt;</th><th scope=col>&lt;dbl&gt;</th><th scope=col>&lt;chr&gt;</th><th scope=col>&lt;dbl&gt;</th><th scope=col>&lt;chr&gt;</th><th scope=col>&lt;chr&gt;</th><th scope=col>&lt;chr&gt;</th><th scope=col>&lt;chr&gt;</th><th scope=col>&lt;lgl&gt;</th><th scope=col>&lt;dbl&gt;</th></tr>\n",
       "</thead>\n",
       "<tbody>\n",
       "\t<tr><td>chr10</td><td>100729094</td><td>100729750</td><td>chr10:100729094-100729750</td><td>-0.3065107</td><td>CRISPRi_FlowFISH_K562_Riley_JinWoo</td><td>CRISPRi-HCRFF</td><td>CRISPRi-HCRFF</td><td>CRISPRi-HCR FlowFISH</td><td>   NA</td><td>NA</td></tr>\n",
       "\t<tr><td>chr10</td><td>100743501</td><td>100744571</td><td>chr10:100743501-100744571</td><td>-0.2702473</td><td>CRISPRi_FlowFISH_K562_Riley_JinWoo</td><td>CRISPRi-HCRFF</td><td>CRISPRi-HCRFF</td><td>CRISPRi-HCR FlowFISH</td><td>   NA</td><td>NA</td></tr>\n",
       "\t<tr><td>chr10</td><td>100745413</td><td>100745741</td><td>chr10:100745413-100745741</td><td> 0.1130381</td><td>CRISPRi_FlowFISH_K562_Riley_JinWoo</td><td>CRISPRi-HCRFF</td><td>CRISPRi-HCRFF</td><td>CRISPRi-HCR FlowFISH</td><td>   NA</td><td>NA</td></tr>\n",
       "\t<tr><td>chr10</td><td>100827671</td><td>100829454</td><td>chr10:100827671-100829454</td><td>-0.2213059</td><td>CRISPRi_FlowFISH_K562_Riley_JinWoo</td><td>CRISPRi-HCRFF</td><td>CRISPRi-HCRFF</td><td>CRISPRi-HCR FlowFISH</td><td>   NA</td><td>NA</td></tr>\n",
       "\t<tr><td>chr11</td><td>  4092109</td><td>  4092511</td><td>chr11:4092109-4092511    </td><td>-0.4462995</td><td>CRISPRi_FlowFISH_K562_Riley_JinWoo</td><td>CRISPRi-HCRFF</td><td>CRISPRi-HCRFF</td><td>CRISPRi-HCR FlowFISH</td><td>FALSE</td><td> 0</td></tr>\n",
       "\t<tr><td>chr11</td><td>  4094223</td><td>  4095304</td><td>chr11:4094223-4095304    </td><td>-0.2301690</td><td>CRISPRi_FlowFISH_K562_Riley_JinWoo</td><td>CRISPRi-HCRFF</td><td>CRISPRi-HCRFF</td><td>CRISPRi-HCR FlowFISH</td><td>   NA</td><td>NA</td></tr>\n",
       "</tbody>\n",
       "</table>\n"
      ],
      "text/latex": [
       "A tibble: 6 × 11\n",
       "\\begin{tabular}{lllllllllll}\n",
       " Chrom & ChromStart & ChromEnd & Region & Score & Assay\\_Name & Assay\\_Type & Assay\\_Group & Assay\\_Label & Regulated\\_Ifany & Regulated\\_Count\\\\\n",
       " <chr> & <dbl> & <dbl> & <chr> & <dbl> & <chr> & <chr> & <chr> & <chr> & <lgl> & <dbl>\\\\\n",
       "\\hline\n",
       "\t chr10 & 100729094 & 100729750 & chr10:100729094-100729750 & -0.3065107 & CRISPRi\\_FlowFISH\\_K562\\_Riley\\_JinWoo & CRISPRi-HCRFF & CRISPRi-HCRFF & CRISPRi-HCR FlowFISH &    NA & NA\\\\\n",
       "\t chr10 & 100743501 & 100744571 & chr10:100743501-100744571 & -0.2702473 & CRISPRi\\_FlowFISH\\_K562\\_Riley\\_JinWoo & CRISPRi-HCRFF & CRISPRi-HCRFF & CRISPRi-HCR FlowFISH &    NA & NA\\\\\n",
       "\t chr10 & 100745413 & 100745741 & chr10:100745413-100745741 &  0.1130381 & CRISPRi\\_FlowFISH\\_K562\\_Riley\\_JinWoo & CRISPRi-HCRFF & CRISPRi-HCRFF & CRISPRi-HCR FlowFISH &    NA & NA\\\\\n",
       "\t chr10 & 100827671 & 100829454 & chr10:100827671-100829454 & -0.2213059 & CRISPRi\\_FlowFISH\\_K562\\_Riley\\_JinWoo & CRISPRi-HCRFF & CRISPRi-HCRFF & CRISPRi-HCR FlowFISH &    NA & NA\\\\\n",
       "\t chr11 &   4092109 &   4092511 & chr11:4092109-4092511     & -0.4462995 & CRISPRi\\_FlowFISH\\_K562\\_Riley\\_JinWoo & CRISPRi-HCRFF & CRISPRi-HCRFF & CRISPRi-HCR FlowFISH & FALSE &  0\\\\\n",
       "\t chr11 &   4094223 &   4095304 & chr11:4094223-4095304     & -0.2301690 & CRISPRi\\_FlowFISH\\_K562\\_Riley\\_JinWoo & CRISPRi-HCRFF & CRISPRi-HCRFF & CRISPRi-HCR FlowFISH &    NA & NA\\\\\n",
       "\\end{tabular}\n"
      ],
      "text/markdown": [
       "\n",
       "A tibble: 6 × 11\n",
       "\n",
       "| Chrom &lt;chr&gt; | ChromStart &lt;dbl&gt; | ChromEnd &lt;dbl&gt; | Region &lt;chr&gt; | Score &lt;dbl&gt; | Assay_Name &lt;chr&gt; | Assay_Type &lt;chr&gt; | Assay_Group &lt;chr&gt; | Assay_Label &lt;chr&gt; | Regulated_Ifany &lt;lgl&gt; | Regulated_Count &lt;dbl&gt; |\n",
       "|---|---|---|---|---|---|---|---|---|---|---|\n",
       "| chr10 | 100729094 | 100729750 | chr10:100729094-100729750 | -0.3065107 | CRISPRi_FlowFISH_K562_Riley_JinWoo | CRISPRi-HCRFF | CRISPRi-HCRFF | CRISPRi-HCR FlowFISH |    NA | NA |\n",
       "| chr10 | 100743501 | 100744571 | chr10:100743501-100744571 | -0.2702473 | CRISPRi_FlowFISH_K562_Riley_JinWoo | CRISPRi-HCRFF | CRISPRi-HCRFF | CRISPRi-HCR FlowFISH |    NA | NA |\n",
       "| chr10 | 100745413 | 100745741 | chr10:100745413-100745741 |  0.1130381 | CRISPRi_FlowFISH_K562_Riley_JinWoo | CRISPRi-HCRFF | CRISPRi-HCRFF | CRISPRi-HCR FlowFISH |    NA | NA |\n",
       "| chr10 | 100827671 | 100829454 | chr10:100827671-100829454 | -0.2213059 | CRISPRi_FlowFISH_K562_Riley_JinWoo | CRISPRi-HCRFF | CRISPRi-HCRFF | CRISPRi-HCR FlowFISH |    NA | NA |\n",
       "| chr11 |   4092109 |   4092511 | chr11:4092109-4092511     | -0.4462995 | CRISPRi_FlowFISH_K562_Riley_JinWoo | CRISPRi-HCRFF | CRISPRi-HCRFF | CRISPRi-HCR FlowFISH | FALSE |  0 |\n",
       "| chr11 |   4094223 |   4095304 | chr11:4094223-4095304     | -0.2301690 | CRISPRi_FlowFISH_K562_Riley_JinWoo | CRISPRi-HCRFF | CRISPRi-HCRFF | CRISPRi-HCR FlowFISH |    NA | NA |\n",
       "\n"
      ],
      "text/plain": [
       "  Chrom ChromStart ChromEnd  Region                    Score     \n",
       "1 chr10 100729094  100729750 chr10:100729094-100729750 -0.3065107\n",
       "2 chr10 100743501  100744571 chr10:100743501-100744571 -0.2702473\n",
       "3 chr10 100745413  100745741 chr10:100745413-100745741  0.1130381\n",
       "4 chr10 100827671  100829454 chr10:100827671-100829454 -0.2213059\n",
       "5 chr11   4092109    4092511 chr11:4092109-4092511     -0.4462995\n",
       "6 chr11   4094223    4095304 chr11:4094223-4095304     -0.2301690\n",
       "  Assay_Name                         Assay_Type    Assay_Group  \n",
       "1 CRISPRi_FlowFISH_K562_Riley_JinWoo CRISPRi-HCRFF CRISPRi-HCRFF\n",
       "2 CRISPRi_FlowFISH_K562_Riley_JinWoo CRISPRi-HCRFF CRISPRi-HCRFF\n",
       "3 CRISPRi_FlowFISH_K562_Riley_JinWoo CRISPRi-HCRFF CRISPRi-HCRFF\n",
       "4 CRISPRi_FlowFISH_K562_Riley_JinWoo CRISPRi-HCRFF CRISPRi-HCRFF\n",
       "5 CRISPRi_FlowFISH_K562_Riley_JinWoo CRISPRi-HCRFF CRISPRi-HCRFF\n",
       "6 CRISPRi_FlowFISH_K562_Riley_JinWoo CRISPRi-HCRFF CRISPRi-HCRFF\n",
       "  Assay_Label          Regulated_Ifany Regulated_Count\n",
       "1 CRISPRi-HCR FlowFISH    NA           NA             \n",
       "2 CRISPRi-HCR FlowFISH    NA           NA             \n",
       "3 CRISPRi-HCR FlowFISH    NA           NA             \n",
       "4 CRISPRi-HCR FlowFISH    NA           NA             \n",
       "5 CRISPRi-HCR FlowFISH FALSE            0             \n",
       "6 CRISPRi-HCR FlowFISH    NA           NA             "
      ]
     },
     "metadata": {},
     "output_type": "display_data"
    }
   ],
   "source": [
    "dat = dplyr::left_join(\n",
    "    dat_region_score,\n",
    "    dat_region_annot,\n",
    "    by = c(\"Chrom\", \"ChromStart\", \"ChromEnd\", \"Region\")\n",
    ")\n",
    "\n",
    "dat_region_merge = dat\n",
    "head(dat)"
   ]
  },
  {
   "cell_type": "code",
   "execution_count": 7,
   "id": "551e89b3-80b7-4679-b309-0f2caf57c2af",
   "metadata": {},
   "outputs": [
    {
     "data": {
      "text/html": [
       "<table class=\"dataframe\">\n",
       "<caption>A tibble: 6 × 11</caption>\n",
       "<thead>\n",
       "\t<tr><th scope=col>Chrom</th><th scope=col>ChromStart</th><th scope=col>ChromEnd</th><th scope=col>Region</th><th scope=col>Score</th><th scope=col>Assay_Name</th><th scope=col>Assay_Type</th><th scope=col>Assay_Group</th><th scope=col>Assay_Label</th><th scope=col>Regulated_Ifany</th><th scope=col>Regulated_Count</th></tr>\n",
       "\t<tr><th scope=col>&lt;chr&gt;</th><th scope=col>&lt;dbl&gt;</th><th scope=col>&lt;dbl&gt;</th><th scope=col>&lt;chr&gt;</th><th scope=col>&lt;dbl&gt;</th><th scope=col>&lt;chr&gt;</th><th scope=col>&lt;chr&gt;</th><th scope=col>&lt;chr&gt;</th><th scope=col>&lt;chr&gt;</th><th scope=col>&lt;lgl&gt;</th><th scope=col>&lt;dbl&gt;</th></tr>\n",
       "</thead>\n",
       "<tbody>\n",
       "\t<tr><td>chr11</td><td>4092109</td><td>4092511</td><td>chr11:4092109-4092511</td><td>-0.4462995</td><td>CRISPRi_FlowFISH_K562_Riley_JinWoo</td><td>CRISPRi-HCRFF</td><td>CRISPRi-HCRFF</td><td>CRISPRi-HCR FlowFISH</td><td>FALSE</td><td>0</td></tr>\n",
       "\t<tr><td>chr11</td><td>4144721</td><td>4147004</td><td>chr11:4144721-4147004</td><td>-0.2882554</td><td>CRISPRi_FlowFISH_K562_Riley_JinWoo</td><td>CRISPRi-HCRFF</td><td>CRISPRi-HCRFF</td><td>CRISPRi-HCR FlowFISH</td><td>FALSE</td><td>0</td></tr>\n",
       "\t<tr><td>chr11</td><td>4181745</td><td>4182535</td><td>chr11:4181745-4182535</td><td>-0.2626761</td><td>CRISPRi_FlowFISH_K562_Riley_JinWoo</td><td>CRISPRi-HCRFF</td><td>CRISPRi-HCRFF</td><td>CRISPRi-HCR FlowFISH</td><td>FALSE</td><td>0</td></tr>\n",
       "\t<tr><td>chr11</td><td>4194886</td><td>4195204</td><td>chr11:4194886-4195204</td><td>-0.3590306</td><td>CRISPRi_FlowFISH_K562_Riley_JinWoo</td><td>CRISPRi-HCRFF</td><td>CRISPRi-HCRFF</td><td>CRISPRi-HCR FlowFISH</td><td>FALSE</td><td>0</td></tr>\n",
       "\t<tr><td>chr11</td><td>4492759</td><td>4493676</td><td>chr11:4492759-4493676</td><td>-0.4302453</td><td>CRISPRi_FlowFISH_K562_Riley_JinWoo</td><td>CRISPRi-HCRFF</td><td>CRISPRi-HCRFF</td><td>CRISPRi-HCR FlowFISH</td><td>FALSE</td><td>0</td></tr>\n",
       "\t<tr><td>chr11</td><td>4626130</td><td>4626649</td><td>chr11:4626130-4626649</td><td>-0.1393248</td><td>CRISPRi_FlowFISH_K562_Riley_JinWoo</td><td>CRISPRi-HCRFF</td><td>CRISPRi-HCRFF</td><td>CRISPRi-HCR FlowFISH</td><td>FALSE</td><td>0</td></tr>\n",
       "</tbody>\n",
       "</table>\n"
      ],
      "text/latex": [
       "A tibble: 6 × 11\n",
       "\\begin{tabular}{lllllllllll}\n",
       " Chrom & ChromStart & ChromEnd & Region & Score & Assay\\_Name & Assay\\_Type & Assay\\_Group & Assay\\_Label & Regulated\\_Ifany & Regulated\\_Count\\\\\n",
       " <chr> & <dbl> & <dbl> & <chr> & <dbl> & <chr> & <chr> & <chr> & <chr> & <lgl> & <dbl>\\\\\n",
       "\\hline\n",
       "\t chr11 & 4092109 & 4092511 & chr11:4092109-4092511 & -0.4462995 & CRISPRi\\_FlowFISH\\_K562\\_Riley\\_JinWoo & CRISPRi-HCRFF & CRISPRi-HCRFF & CRISPRi-HCR FlowFISH & FALSE & 0\\\\\n",
       "\t chr11 & 4144721 & 4147004 & chr11:4144721-4147004 & -0.2882554 & CRISPRi\\_FlowFISH\\_K562\\_Riley\\_JinWoo & CRISPRi-HCRFF & CRISPRi-HCRFF & CRISPRi-HCR FlowFISH & FALSE & 0\\\\\n",
       "\t chr11 & 4181745 & 4182535 & chr11:4181745-4182535 & -0.2626761 & CRISPRi\\_FlowFISH\\_K562\\_Riley\\_JinWoo & CRISPRi-HCRFF & CRISPRi-HCRFF & CRISPRi-HCR FlowFISH & FALSE & 0\\\\\n",
       "\t chr11 & 4194886 & 4195204 & chr11:4194886-4195204 & -0.3590306 & CRISPRi\\_FlowFISH\\_K562\\_Riley\\_JinWoo & CRISPRi-HCRFF & CRISPRi-HCRFF & CRISPRi-HCR FlowFISH & FALSE & 0\\\\\n",
       "\t chr11 & 4492759 & 4493676 & chr11:4492759-4493676 & -0.4302453 & CRISPRi\\_FlowFISH\\_K562\\_Riley\\_JinWoo & CRISPRi-HCRFF & CRISPRi-HCRFF & CRISPRi-HCR FlowFISH & FALSE & 0\\\\\n",
       "\t chr11 & 4626130 & 4626649 & chr11:4626130-4626649 & -0.1393248 & CRISPRi\\_FlowFISH\\_K562\\_Riley\\_JinWoo & CRISPRi-HCRFF & CRISPRi-HCRFF & CRISPRi-HCR FlowFISH & FALSE & 0\\\\\n",
       "\\end{tabular}\n"
      ],
      "text/markdown": [
       "\n",
       "A tibble: 6 × 11\n",
       "\n",
       "| Chrom &lt;chr&gt; | ChromStart &lt;dbl&gt; | ChromEnd &lt;dbl&gt; | Region &lt;chr&gt; | Score &lt;dbl&gt; | Assay_Name &lt;chr&gt; | Assay_Type &lt;chr&gt; | Assay_Group &lt;chr&gt; | Assay_Label &lt;chr&gt; | Regulated_Ifany &lt;lgl&gt; | Regulated_Count &lt;dbl&gt; |\n",
       "|---|---|---|---|---|---|---|---|---|---|---|\n",
       "| chr11 | 4092109 | 4092511 | chr11:4092109-4092511 | -0.4462995 | CRISPRi_FlowFISH_K562_Riley_JinWoo | CRISPRi-HCRFF | CRISPRi-HCRFF | CRISPRi-HCR FlowFISH | FALSE | 0 |\n",
       "| chr11 | 4144721 | 4147004 | chr11:4144721-4147004 | -0.2882554 | CRISPRi_FlowFISH_K562_Riley_JinWoo | CRISPRi-HCRFF | CRISPRi-HCRFF | CRISPRi-HCR FlowFISH | FALSE | 0 |\n",
       "| chr11 | 4181745 | 4182535 | chr11:4181745-4182535 | -0.2626761 | CRISPRi_FlowFISH_K562_Riley_JinWoo | CRISPRi-HCRFF | CRISPRi-HCRFF | CRISPRi-HCR FlowFISH | FALSE | 0 |\n",
       "| chr11 | 4194886 | 4195204 | chr11:4194886-4195204 | -0.3590306 | CRISPRi_FlowFISH_K562_Riley_JinWoo | CRISPRi-HCRFF | CRISPRi-HCRFF | CRISPRi-HCR FlowFISH | FALSE | 0 |\n",
       "| chr11 | 4492759 | 4493676 | chr11:4492759-4493676 | -0.4302453 | CRISPRi_FlowFISH_K562_Riley_JinWoo | CRISPRi-HCRFF | CRISPRi-HCRFF | CRISPRi-HCR FlowFISH | FALSE | 0 |\n",
       "| chr11 | 4626130 | 4626649 | chr11:4626130-4626649 | -0.1393248 | CRISPRi_FlowFISH_K562_Riley_JinWoo | CRISPRi-HCRFF | CRISPRi-HCRFF | CRISPRi-HCR FlowFISH | FALSE | 0 |\n",
       "\n"
      ],
      "text/plain": [
       "  Chrom ChromStart ChromEnd Region                Score     \n",
       "1 chr11 4092109    4092511  chr11:4092109-4092511 -0.4462995\n",
       "2 chr11 4144721    4147004  chr11:4144721-4147004 -0.2882554\n",
       "3 chr11 4181745    4182535  chr11:4181745-4182535 -0.2626761\n",
       "4 chr11 4194886    4195204  chr11:4194886-4195204 -0.3590306\n",
       "5 chr11 4492759    4493676  chr11:4492759-4493676 -0.4302453\n",
       "6 chr11 4626130    4626649  chr11:4626130-4626649 -0.1393248\n",
       "  Assay_Name                         Assay_Type    Assay_Group  \n",
       "1 CRISPRi_FlowFISH_K562_Riley_JinWoo CRISPRi-HCRFF CRISPRi-HCRFF\n",
       "2 CRISPRi_FlowFISH_K562_Riley_JinWoo CRISPRi-HCRFF CRISPRi-HCRFF\n",
       "3 CRISPRi_FlowFISH_K562_Riley_JinWoo CRISPRi-HCRFF CRISPRi-HCRFF\n",
       "4 CRISPRi_FlowFISH_K562_Riley_JinWoo CRISPRi-HCRFF CRISPRi-HCRFF\n",
       "5 CRISPRi_FlowFISH_K562_Riley_JinWoo CRISPRi-HCRFF CRISPRi-HCRFF\n",
       "6 CRISPRi_FlowFISH_K562_Riley_JinWoo CRISPRi-HCRFF CRISPRi-HCRFF\n",
       "  Assay_Label          Regulated_Ifany Regulated_Count\n",
       "1 CRISPRi-HCR FlowFISH FALSE           0              \n",
       "2 CRISPRi-HCR FlowFISH FALSE           0              \n",
       "3 CRISPRi-HCR FlowFISH FALSE           0              \n",
       "4 CRISPRi-HCR FlowFISH FALSE           0              \n",
       "5 CRISPRi-HCR FlowFISH FALSE           0              \n",
       "6 CRISPRi-HCR FlowFISH FALSE           0              "
      ]
     },
     "metadata": {},
     "output_type": "display_data"
    }
   ],
   "source": [
    "dat = dat_region_merge\n",
    "dat = dat %>% na.omit\n",
    "head(dat)"
   ]
  },
  {
   "cell_type": "code",
   "execution_count": 8,
   "id": "7fc1940d-1195-44a2-8ff5-d7a5316cd168",
   "metadata": {},
   "outputs": [
    {
     "data": {
      "text/plain": [
       "\n",
       "        ASTARR CRISPRi-Growth  CRISPRi-HCRFF          LMPRA          TMPRA \n",
       "          3035           2856            170           2612             52 \n",
       "        WSTARR \n",
       "          3009 "
      ]
     },
     "metadata": {},
     "output_type": "display_data"
    }
   ],
   "source": [
    "table(dat$Assay_Type)"
   ]
  },
  {
   "cell_type": "code",
   "execution_count": 9,
   "id": "72f7a3a3-5e0c-41ee-b143-14211c9e4815",
   "metadata": {},
   "outputs": [
    {
     "data": {
      "text/plain": [
       "\n",
       "   ASTARR_KS91 CRISPRi-Growth  CRISPRi-HCRFF          LMPRA          TMPRA \n",
       "          3035           2856            170           2612             52 \n",
       "        WSTARR \n",
       "          3009 "
      ]
     },
     "metadata": {},
     "output_type": "display_data"
    }
   ],
   "source": [
    "table(dat$Assay_Group)"
   ]
  },
  {
   "cell_type": "code",
   "execution_count": 10,
   "id": "0bbacf47-7212-4846-be1f-701b36998ed6",
   "metadata": {},
   "outputs": [
    {
     "data": {
      "text/plain": [
       "\n",
       "          ATAC-STARR       CRISPRi-Growth CRISPRi-HCR FlowFISH \n",
       "                3035                 2856                  170 \n",
       "          Lenti-MPRA          Tiling-MPRA            WHG-STARR \n",
       "                2612                   52                 3009 "
      ]
     },
     "metadata": {},
     "output_type": "display_data"
    }
   ],
   "source": [
    "table(dat$Assay_Label)"
   ]
  },
  {
   "cell_type": "code",
   "execution_count": 17,
   "id": "ca216fe2-e1d5-4c7a-ba4a-a869c4bd0541",
   "metadata": {},
   "outputs": [
    {
     "data": {
      "image/png": "[encoded data removed]",
      "text/plain": [
       "plot without title"
      ]
     },
     "metadata": {
      "image/png": {
       "height": 420,
       "width": 420
      }
     },
     "output_type": "display_data"
    }
   ],
   "source": [
    "vec = c(\"ASTARR\", \"WSTARR\", \"LMPRA\", \"TMPRA\")\n",
    "dat = dat_region_merge\n",
    "dat = dat %>% na.omit\n",
    "dat = dat %>% dplyr::filter(Assay_Type %in% vec)\n",
    "dat = dat %>% dplyr::mutate(Region = ifelse(Regulated_Ifany, \"E2G Significant\", \"E2G Not Significant\"))\n",
    "dat_region_arrange = dat\n",
    "\n",
    "theme_color = scale_color_manual(\n",
    "    breaks = c(\"E2G Significant\", \"E2G Not Significant\"),\n",
    "    values=c(\"red\", \"blue\")\n",
    ")\n",
    "\n",
    "gpt = ggplot(dat, aes(y=Assay_Label, x=Score, color = Region)) +\n",
    "    geom_boxplot() +\n",
    "    theme_cowplot() +\n",
    "    theme_color +\n",
    "    labs(x = \"Z Scores\", y = \"\", title = \"E2G Benchmark vs STARR/MPRA\")\n",
    "\n",
    "ggsave(\"fig.fcc_score.e2g_regulated.pdf\", gpt, width = 6, height = 7)\n",
    "print(gpt)"
   ]
  },
  {
   "cell_type": "code",
   "execution_count": 30,
   "id": "6210098e-705c-48cf-abd0-b140405f5a81",
   "metadata": {},
   "outputs": [
    {
     "data": {
      "text/html": [
       "<table class=\"dataframe\">\n",
       "<caption>A tibble: 6 × 11</caption>\n",
       "<thead>\n",
       "\t<tr><th scope=col>Chrom</th><th scope=col>ChromStart</th><th scope=col>ChromEnd</th><th scope=col>Region</th><th scope=col>Score</th><th scope=col>Assay_Name</th><th scope=col>Assay_Type</th><th scope=col>Assay_Group</th><th scope=col>Assay_Label</th><th scope=col>Regulated_Ifany</th><th scope=col>Regulated_Count</th></tr>\n",
       "\t<tr><th scope=col>&lt;chr&gt;</th><th scope=col>&lt;dbl&gt;</th><th scope=col>&lt;dbl&gt;</th><th scope=col>&lt;chr&gt;</th><th scope=col>&lt;dbl&gt;</th><th scope=col>&lt;chr&gt;</th><th scope=col>&lt;chr&gt;</th><th scope=col>&lt;chr&gt;</th><th scope=col>&lt;chr&gt;</th><th scope=col>&lt;lgl&gt;</th><th scope=col>&lt;dbl&gt;</th></tr>\n",
       "</thead>\n",
       "<tbody>\n",
       "\t<tr><td>chr1</td><td>3774056</td><td>3776283</td><td>E2G Significant    </td><td>-1.38588780</td><td>MPRA_Lenti_K562_Nadav_Vikram</td><td>LMPRA</td><td>LMPRA</td><td>Lenti-MPRA</td><td> TRUE</td><td>3</td></tr>\n",
       "\t<tr><td>chr1</td><td>3803955</td><td>3806146</td><td>E2G Not Significant</td><td>-0.52772388</td><td>MPRA_Lenti_K562_Nadav_Vikram</td><td>LMPRA</td><td>LMPRA</td><td>Lenti-MPRA</td><td>FALSE</td><td>0</td></tr>\n",
       "\t<tr><td>chr1</td><td>4126841</td><td>4128109</td><td>E2G Not Significant</td><td>-0.72655396</td><td>MPRA_Lenti_K562_Nadav_Vikram</td><td>LMPRA</td><td>LMPRA</td><td>Lenti-MPRA</td><td>FALSE</td><td>0</td></tr>\n",
       "\t<tr><td>chr1</td><td>5304733</td><td>5305546</td><td>E2G Not Significant</td><td> 0.58740043</td><td>MPRA_Lenti_K562_Nadav_Vikram</td><td>LMPRA</td><td>LMPRA</td><td>Lenti-MPRA</td><td>FALSE</td><td>0</td></tr>\n",
       "\t<tr><td>chr1</td><td>8197576</td><td>8198589</td><td>E2G Not Significant</td><td> 0.25799537</td><td>MPRA_Lenti_K562_Nadav_Vikram</td><td>LMPRA</td><td>LMPRA</td><td>Lenti-MPRA</td><td>FALSE</td><td>0</td></tr>\n",
       "\t<tr><td>chr1</td><td>8857787</td><td>8858608</td><td>E2G Significant    </td><td>-0.03056138</td><td>MPRA_Lenti_K562_Nadav_Vikram</td><td>LMPRA</td><td>LMPRA</td><td>Lenti-MPRA</td><td> TRUE</td><td>1</td></tr>\n",
       "</tbody>\n",
       "</table>\n"
      ],
      "text/latex": [
       "A tibble: 6 × 11\n",
       "\\begin{tabular}{lllllllllll}\n",
       " Chrom & ChromStart & ChromEnd & Region & Score & Assay\\_Name & Assay\\_Type & Assay\\_Group & Assay\\_Label & Regulated\\_Ifany & Regulated\\_Count\\\\\n",
       " <chr> & <dbl> & <dbl> & <chr> & <dbl> & <chr> & <chr> & <chr> & <chr> & <lgl> & <dbl>\\\\\n",
       "\\hline\n",
       "\t chr1 & 3774056 & 3776283 & E2G Significant     & -1.38588780 & MPRA\\_Lenti\\_K562\\_Nadav\\_Vikram & LMPRA & LMPRA & Lenti-MPRA &  TRUE & 3\\\\\n",
       "\t chr1 & 3803955 & 3806146 & E2G Not Significant & -0.52772388 & MPRA\\_Lenti\\_K562\\_Nadav\\_Vikram & LMPRA & LMPRA & Lenti-MPRA & FALSE & 0\\\\\n",
       "\t chr1 & 4126841 & 4128109 & E2G Not Significant & -0.72655396 & MPRA\\_Lenti\\_K562\\_Nadav\\_Vikram & LMPRA & LMPRA & Lenti-MPRA & FALSE & 0\\\\\n",
       "\t chr1 & 5304733 & 5305546 & E2G Not Significant &  0.58740043 & MPRA\\_Lenti\\_K562\\_Nadav\\_Vikram & LMPRA & LMPRA & Lenti-MPRA & FALSE & 0\\\\\n",
       "\t chr1 & 8197576 & 8198589 & E2G Not Significant &  0.25799537 & MPRA\\_Lenti\\_K562\\_Nadav\\_Vikram & LMPRA & LMPRA & Lenti-MPRA & FALSE & 0\\\\\n",
       "\t chr1 & 8857787 & 8858608 & E2G Significant     & -0.03056138 & MPRA\\_Lenti\\_K562\\_Nadav\\_Vikram & LMPRA & LMPRA & Lenti-MPRA &  TRUE & 1\\\\\n",
       "\\end{tabular}\n"
      ],
      "text/markdown": [
       "\n",
       "A tibble: 6 × 11\n",
       "\n",
       "| Chrom &lt;chr&gt; | ChromStart &lt;dbl&gt; | ChromEnd &lt;dbl&gt; | Region &lt;chr&gt; | Score &lt;dbl&gt; | Assay_Name &lt;chr&gt; | Assay_Type &lt;chr&gt; | Assay_Group &lt;chr&gt; | Assay_Label &lt;chr&gt; | Regulated_Ifany &lt;lgl&gt; | Regulated_Count &lt;dbl&gt; |\n",
       "|---|---|---|---|---|---|---|---|---|---|---|\n",
       "| chr1 | 3774056 | 3776283 | E2G Significant     | -1.38588780 | MPRA_Lenti_K562_Nadav_Vikram | LMPRA | LMPRA | Lenti-MPRA |  TRUE | 3 |\n",
       "| chr1 | 3803955 | 3806146 | E2G Not Significant | -0.52772388 | MPRA_Lenti_K562_Nadav_Vikram | LMPRA | LMPRA | Lenti-MPRA | FALSE | 0 |\n",
       "| chr1 | 4126841 | 4128109 | E2G Not Significant | -0.72655396 | MPRA_Lenti_K562_Nadav_Vikram | LMPRA | LMPRA | Lenti-MPRA | FALSE | 0 |\n",
       "| chr1 | 5304733 | 5305546 | E2G Not Significant |  0.58740043 | MPRA_Lenti_K562_Nadav_Vikram | LMPRA | LMPRA | Lenti-MPRA | FALSE | 0 |\n",
       "| chr1 | 8197576 | 8198589 | E2G Not Significant |  0.25799537 | MPRA_Lenti_K562_Nadav_Vikram | LMPRA | LMPRA | Lenti-MPRA | FALSE | 0 |\n",
       "| chr1 | 8857787 | 8858608 | E2G Significant     | -0.03056138 | MPRA_Lenti_K562_Nadav_Vikram | LMPRA | LMPRA | Lenti-MPRA |  TRUE | 1 |\n",
       "\n"
      ],
      "text/plain": [
       "  Chrom ChromStart ChromEnd Region              Score      \n",
       "1 chr1  3774056    3776283  E2G Significant     -1.38588780\n",
       "2 chr1  3803955    3806146  E2G Not Significant -0.52772388\n",
       "3 chr1  4126841    4128109  E2G Not Significant -0.72655396\n",
       "4 chr1  5304733    5305546  E2G Not Significant  0.58740043\n",
       "5 chr1  8197576    8198589  E2G Not Significant  0.25799537\n",
       "6 chr1  8857787    8858608  E2G Significant     -0.03056138\n",
       "  Assay_Name                   Assay_Type Assay_Group Assay_Label\n",
       "1 MPRA_Lenti_K562_Nadav_Vikram LMPRA      LMPRA       Lenti-MPRA \n",
       "2 MPRA_Lenti_K562_Nadav_Vikram LMPRA      LMPRA       Lenti-MPRA \n",
       "3 MPRA_Lenti_K562_Nadav_Vikram LMPRA      LMPRA       Lenti-MPRA \n",
       "4 MPRA_Lenti_K562_Nadav_Vikram LMPRA      LMPRA       Lenti-MPRA \n",
       "5 MPRA_Lenti_K562_Nadav_Vikram LMPRA      LMPRA       Lenti-MPRA \n",
       "6 MPRA_Lenti_K562_Nadav_Vikram LMPRA      LMPRA       Lenti-MPRA \n",
       "  Regulated_Ifany Regulated_Count\n",
       "1  TRUE           3              \n",
       "2 FALSE           0              \n",
       "3 FALSE           0              \n",
       "4 FALSE           0              \n",
       "5 FALSE           0              \n",
       "6  TRUE           1              "
      ]
     },
     "metadata": {},
     "output_type": "display_data"
    }
   ],
   "source": [
    "head(dat)"
   ]
  },
  {
   "cell_type": "code",
   "execution_count": null,
   "id": "b9f076b3-96b1-4bfa-a095-72dab3964fcc",
   "metadata": {},
   "outputs": [],
   "source": []
  },
  {
   "cell_type": "code",
   "execution_count": 31,
   "id": "2cff4c7a-17b5-4715-b7a1-40301bb0b8ec",
   "metadata": {},
   "outputs": [
    {
     "data": {
      "text/plain": [
       "\n",
       "\tWilcoxon rank sum test with continuity correction\n",
       "\n",
       "data:  dat$Score by dat$Region\n",
       "W = 296868, p-value < 2.2e-16\n",
       "alternative hypothesis: true location shift is not equal to 0\n"
      ]
     },
     "metadata": {},
     "output_type": "display_data"
    }
   ],
   "source": [
    "dat = dat_region_arrange\n",
    "lst = split(dat, dat$Assay_Type)\n",
    "dat = lst[[1]]\n",
    "wilcox.test(dat$Score~dat$Region)"
   ]
  },
  {
   "cell_type": "code",
   "execution_count": 40,
   "id": "8a68dc5e-5fad-4ea2-8f22-5cce4fef9f2a",
   "metadata": {},
   "outputs": [],
   "source": [
    "dat = dat_region_arrange\n",
    "lst = split(dat, dat$Assay_Type)\n",
    "lst = lapply(lst, function(dat){\n",
    "    fit = wilcox.test(dat$Score~dat$Region)\n",
    "    return(fit)\n",
    "})\n",
    "\n",
    "lst_fit_wilcoxon = lst"
   ]
  },
  {
   "cell_type": "code",
   "execution_count": 53,
   "id": "0ee424ab-75ba-48d7-8a93-aa2e1fa27bf6",
   "metadata": {},
   "outputs": [
    {
     "data": {
      "text/html": [
       "<table class=\"dataframe\">\n",
       "<caption>A tibble: 4 × 4</caption>\n",
       "<thead>\n",
       "\t<tr><th scope=col>Assay</th><th scope=col>Statistic</th><th scope=col>PValue</th><th scope=col>MinusLog10PValue</th></tr>\n",
       "\t<tr><th scope=col>&lt;chr&gt;</th><th scope=col>&lt;dbl&gt;</th><th scope=col>&lt;dbl&gt;</th><th scope=col>&lt;dbl&gt;</th></tr>\n",
       "</thead>\n",
       "<tbody>\n",
       "\t<tr><td>ASTARR</td><td>296868.0</td><td>2.778212e-32</td><td>31.556235</td></tr>\n",
       "\t<tr><td>LMPRA </td><td>283692.5</td><td>7.733812e-10</td><td> 9.111606</td></tr>\n",
       "\t<tr><td>TMPRA </td><td>    89.0</td><td>1.010852e-02</td><td> 1.995312</td></tr>\n",
       "\t<tr><td>WSTARR</td><td>361857.0</td><td>2.823454e-13</td><td>12.549219</td></tr>\n",
       "</tbody>\n",
       "</table>\n"
      ],
      "text/latex": [
       "A tibble: 4 × 4\n",
       "\\begin{tabular}{llll}\n",
       " Assay & Statistic & PValue & MinusLog10PValue\\\\\n",
       " <chr> & <dbl> & <dbl> & <dbl>\\\\\n",
       "\\hline\n",
       "\t ASTARR & 296868.0 & 2.778212e-32 & 31.556235\\\\\n",
       "\t LMPRA  & 283692.5 & 7.733812e-10 &  9.111606\\\\\n",
       "\t TMPRA  &     89.0 & 1.010852e-02 &  1.995312\\\\\n",
       "\t WSTARR & 361857.0 & 2.823454e-13 & 12.549219\\\\\n",
       "\\end{tabular}\n"
      ],
      "text/markdown": [
       "\n",
       "A tibble: 4 × 4\n",
       "\n",
       "| Assay &lt;chr&gt; | Statistic &lt;dbl&gt; | PValue &lt;dbl&gt; | MinusLog10PValue &lt;dbl&gt; |\n",
       "|---|---|---|---|\n",
       "| ASTARR | 296868.0 | 2.778212e-32 | 31.556235 |\n",
       "| LMPRA  | 283692.5 | 7.733812e-10 |  9.111606 |\n",
       "| TMPRA  |     89.0 | 1.010852e-02 |  1.995312 |\n",
       "| WSTARR | 361857.0 | 2.823454e-13 | 12.549219 |\n",
       "\n"
      ],
      "text/plain": [
       "  Assay  Statistic PValue       MinusLog10PValue\n",
       "1 ASTARR 296868.0  2.778212e-32 31.556235       \n",
       "2 LMPRA  283692.5  7.733812e-10  9.111606       \n",
       "3 TMPRA      89.0  1.010852e-02  1.995312       \n",
       "4 WSTARR 361857.0  2.823454e-13 12.549219       "
      ]
     },
     "metadata": {},
     "output_type": "display_data"
    }
   ],
   "source": [
    "lst = lst_fit_wilcoxon\n",
    "lst = lapply(lst, function(fit){\n",
    "    res = c(fit$statistic, fit$p.value)\n",
    "    names(res) = c(\"Statistic\", \"PValue\")\n",
    "    return(res)\n",
    "})\n",
    "dat = bind_rows(lst, .id = \"Assay\")\n",
    "dat = dat %>% dplyr::mutate(MinusLog10PValue = -log10(PValue))\n",
    "dat_region_stats = dat\n",
    "dat"
   ]
  },
  {
   "cell_type": "code",
   "execution_count": 54,
   "id": "8e7c04dc-525a-44e6-9bb7-29827f2650ec",
   "metadata": {},
   "outputs": [
    {
     "ename": "ERROR",
     "evalue": "Error in res$statistic: $ operator is invalid for atomic vectors\n",
     "output_type": "error",
     "traceback": [
      "Error in res$statistic: $ operator is invalid for atomic vectors\nTraceback:\n"
     ]
    }
   ],
   "source": [
    "res = lst[[1]]\n",
    "res$statistic\n",
    "res$p.value"
   ]
  },
  {
   "cell_type": "code",
   "execution_count": 55,
   "id": "e887c8e4-4a5e-4d71-9f52-416bf70f28f9",
   "metadata": {},
   "outputs": [
    {
     "data": {
      "text/html": [
       "<table class=\"dataframe\">\n",
       "<caption>A tibble: 4 × 2</caption>\n",
       "<thead>\n",
       "\t<tr><th scope=col>Assay</th><th scope=col>Coverage</th></tr>\n",
       "\t<tr><th scope=col>&lt;chr&gt;</th><th scope=col>&lt;int&gt;</th></tr>\n",
       "</thead>\n",
       "<tbody>\n",
       "\t<tr><td>ASTARR</td><td>3035</td></tr>\n",
       "\t<tr><td>LMPRA </td><td>2612</td></tr>\n",
       "\t<tr><td>TMPRA </td><td>  52</td></tr>\n",
       "\t<tr><td>WSTARR</td><td>3009</td></tr>\n",
       "</tbody>\n",
       "</table>\n"
      ],
      "text/latex": [
       "A tibble: 4 × 2\n",
       "\\begin{tabular}{ll}\n",
       " Assay & Coverage\\\\\n",
       " <chr> & <int>\\\\\n",
       "\\hline\n",
       "\t ASTARR & 3035\\\\\n",
       "\t LMPRA  & 2612\\\\\n",
       "\t TMPRA  &   52\\\\\n",
       "\t WSTARR & 3009\\\\\n",
       "\\end{tabular}\n"
      ],
      "text/markdown": [
       "\n",
       "A tibble: 4 × 2\n",
       "\n",
       "| Assay &lt;chr&gt; | Coverage &lt;int&gt; |\n",
       "|---|---|\n",
       "| ASTARR | 3035 |\n",
       "| LMPRA  | 2612 |\n",
       "| TMPRA  |   52 |\n",
       "| WSTARR | 3009 |\n",
       "\n"
      ],
      "text/plain": [
       "  Assay  Coverage\n",
       "1 ASTARR 3035    \n",
       "2 LMPRA  2612    \n",
       "3 TMPRA    52    \n",
       "4 WSTARR 3009    "
      ]
     },
     "metadata": {},
     "output_type": "display_data"
    }
   ],
   "source": [
    "dat = dat_region_arrange\n",
    "lst = split(dat, dat$Assay_Type)\n",
    "lst = lapply(lst, function(dat){\n",
    "    res = nrow(dat)\n",
    "    names(res) = \"Coverage\"\n",
    "    return(res)\n",
    "})\n",
    "dat = bind_rows(lst, .id = \"Assay\")\n",
    "dat_region_count = dat\n",
    "dat"
   ]
  },
  {
   "cell_type": "code",
   "execution_count": 57,
   "id": "8b27f71a-cfed-478e-941e-cba7abdd8304",
   "metadata": {},
   "outputs": [
    {
     "data": {
      "text/html": [
       "<table>\n",
       " <thead>\n",
       "  <tr>\n",
       "   <th style=\"text-align:left;\"> Assay </th>\n",
       "   <th style=\"text-align:right;\"> Statistic </th>\n",
       "   <th style=\"text-align:right;\"> PValue </th>\n",
       "   <th style=\"text-align:right;\"> MinusLog10PValue </th>\n",
       "   <th style=\"text-align:right;\"> Coverage </th>\n",
       "  </tr>\n",
       " </thead>\n",
       "<tbody>\n",
       "  <tr>\n",
       "   <td style=\"text-align:left;\"> ASTARR </td>\n",
       "   <td style=\"text-align:right;\"> 296868.0 </td>\n",
       "   <td style=\"text-align:right;\"> 0.0000000 </td>\n",
       "   <td style=\"text-align:right;\"> 31.556235 </td>\n",
       "   <td style=\"text-align:right;\"> 3035 </td>\n",
       "  </tr>\n",
       "  <tr>\n",
       "   <td style=\"text-align:left;\"> LMPRA </td>\n",
       "   <td style=\"text-align:right;\"> 283692.5 </td>\n",
       "   <td style=\"text-align:right;\"> 0.0000000 </td>\n",
       "   <td style=\"text-align:right;\"> 9.111606 </td>\n",
       "   <td style=\"text-align:right;\"> 2612 </td>\n",
       "  </tr>\n",
       "  <tr>\n",
       "   <td style=\"text-align:left;\"> TMPRA </td>\n",
       "   <td style=\"text-align:right;\"> 89.0 </td>\n",
       "   <td style=\"text-align:right;\"> 0.0101085 </td>\n",
       "   <td style=\"text-align:right;\"> 1.995313 </td>\n",
       "   <td style=\"text-align:right;\"> 52 </td>\n",
       "  </tr>\n",
       "  <tr>\n",
       "   <td style=\"text-align:left;\"> WSTARR </td>\n",
       "   <td style=\"text-align:right;\"> 361857.0 </td>\n",
       "   <td style=\"text-align:right;\"> 0.0000000 </td>\n",
       "   <td style=\"text-align:right;\"> 12.549219 </td>\n",
       "   <td style=\"text-align:right;\"> 3009 </td>\n",
       "  </tr>\n",
       "</tbody>\n",
       "</table>"
      ]
     },
     "metadata": {},
     "output_type": "display_data"
    }
   ],
   "source": [
    "dat = dplyr::left_join(dat_region_stats, dat_region_count, by = \"Assay\")\n",
    "fun_display_table(dat)"
   ]
  },
  {
   "cell_type": "code",
   "execution_count": null,
   "id": "2dd530cd-eb66-4597-a073-543cda97f800",
   "metadata": {},
   "outputs": [],
   "source": []
  }
 ],
 "metadata": {
  "kernelspec": {
   "display_name": "R",
   "language": "R",
   "name": "ir"
  },
  "language_info": {
   "codemirror_mode": "r",
   "file_extension": ".r",
   "mimetype": "text/x-r-source",
   "name": "R",
   "pygments_lexer": "r",
   "version": "4.4.1"
  }
 },
 "nbformat": 4,
 "nbformat_minor": 5
}
