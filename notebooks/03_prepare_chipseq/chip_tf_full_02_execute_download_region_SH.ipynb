{
 "cells": [
  {
   "cell_type": "raw",
   "id": "39f22924-3b30-4fe8-9ce1-22572eab5f66",
   "metadata": {},
   "source": [
    "---\n",
    "title: Prepare ENCODE ChIP-seq TF 02\n",
    "subtitle: Download the data (Region)\n",
    "format:\n",
    "    html:\n",
    "        code-fold:  true\n",
    "        code-tools: true\n",
    "---"
   ]
  },
  {
   "cell_type": "markdown",
   "id": "554b8bf1-0231-412c-a97c-684f8afb6d2d",
   "metadata": {},
   "source": [
    "**set environment**"
   ]
  },
  {
   "cell_type": "code",
   "execution_count": 1,
   "id": "754098fd-e59f-4374-a763-7fd55fa5cc91",
   "metadata": {},
   "outputs": [
    {
     "name": "stdout",
     "output_type": "stream",
     "text": [
      "You are working on             Duke Server: RCC\n",
      "BASE DIRECTORY (FD_BASE):      /data/reddylab/Kuei\n",
      "REPO DIRECTORY (FD_REPO):      /data/reddylab/Kuei/repo\n",
      "WORK DIRECTORY (FD_WORK):      /data/reddylab/Kuei/work\n",
      "DATA DIRECTORY (FD_DATA):      /data/reddylab/Kuei/data\n",
      "CONTAINER DIR. (FD_SING):      /data/reddylab/Kuei/container\n",
      "\n",
      "You are working with           ENCODE FCC\n",
      "PATH OF PROJECT (FD_PRJ):      /data/reddylab/Kuei/repo/Proj_ENCODE_FCC\n",
      "PROJECT RESULTS (FD_RES):      /data/reddylab/Kuei/repo/Proj_ENCODE_FCC/results\n",
      "PROJECT SCRIPTS (FD_EXE):      /data/reddylab/Kuei/repo/Proj_ENCODE_FCC/scripts\n",
      "PROJECT DATA    (FD_DAT):      /data/reddylab/Kuei/repo/Proj_ENCODE_FCC/data\n",
      "PROJECT NOTE    (FD_NBK):      /data/reddylab/Kuei/repo/Proj_ENCODE_FCC/notebooks\n",
      "PROJECT DOCS    (FD_DOC):      /data/reddylab/Kuei/repo/Proj_ENCODE_FCC/docs\n",
      "PROJECT LOG     (FD_LOG):      /data/reddylab/Kuei/repo/Proj_ENCODE_FCC/log\n",
      "PROJECT REF     (FD_REF):      /data/reddylab/Kuei/repo/Proj_ENCODE_FCC/references\n",
      "PROJECT IMAGE   (FP_PRJ_SIF):  /data/reddylab/Kuei/container/project/singularity_proj_encode_fcc.sif\n",
      "PROJECT CONF.   (FP_CNF):      /data/reddylab/Kuei/repo/Proj_ENCODE_FCC/scripts/config_project.sh\n",
      "\n"
     ]
    }
   ],
   "source": [
    "source ../run_config_project.sh\n",
    "show_env"
   ]
  },
  {
   "cell_type": "markdown",
   "id": "d7101949-bd2c-4cad-880f-1a6e468a872d",
   "metadata": {},
   "source": [
    "**Set global variables**"
   ]
  },
  {
   "cell_type": "code",
   "execution_count": 2,
   "id": "843734c6-d16f-4d3d-8e9d-70f2b8ab5efd",
   "metadata": {},
   "outputs": [],
   "source": [
    "TXT_FOLDER=\"encode_chipseq_tf_250120\""
   ]
  },
  {
   "cell_type": "markdown",
   "id": "a7aa9fcd-52e6-47a5-bec6-cd8be1a3b69b",
   "metadata": {},
   "source": [
    "## Execute"
   ]
  },
  {
   "cell_type": "markdown",
   "id": "15496fef-40e8-475f-a0ed-fe1241e15006",
   "metadata": {},
   "source": [
    "**Preview scripts**"
   ]
  },
  {
   "cell_type": "code",
   "execution_count": 3,
   "id": "6cdbd75a-47a8-4fec-b861-ef4a61854dbf",
   "metadata": {},
   "outputs": [
    {
     "name": "stdout",
     "output_type": "stream",
     "text": [
      "#!/bin/bash\n",
      "\n",
      "### print start message\n",
      "timer_start=`date +%s`\n",
      "echo \"Hostname:          \" $(hostname)\n",
      "echo \"Slurm Array Index: \" ${SLURM_ARRAY_TASK_ID}\n",
      "echo \"Time Stamp:        \" $(date +\"%m-%d-%y+%T\")\n",
      "echo\n",
      "\n",
      "### get arguments\n",
      "FP_CNF=${1}\n",
      "FP_DOWNLOAD_FILE_LIST=${2}\n",
      "FD_DOWNLOAD_DIRECTORY=${3}\n",
      "\n",
      "### set environment\n",
      "source ${FP_CNF}\n",
      "\n",
      "### show I/O\n",
      "cd   ${FD_DOWNLOAD_DIRECTORY}\n",
      "echo \"Change directory:\"\n",
      "echo $(pwd)\n",
      "echo\n",
      "\n",
      "### execute: download file\n",
      "echo \"Download files...\"\n",
      "xargs -L 1 curl -O -J -L < ${FP_DOWNLOAD_FILE_LIST}\n",
      "echo\n",
      "\n",
      "### print end message\n",
      "timer=`date +%s`\n",
      "runtime=$(echo \"${timer} - ${timer_start}\" | bc -l)\n",
      "echo\n",
      "echo 'Done!'\n",
      "echo \"Run Time: $(displaytime ${runtime})\"\n",
      "echo\n"
     ]
    }
   ],
   "source": [
    "FN_EXE=run_download_files.sh\n",
    "FP_EXE=${FD_EXE}/${FN_EXE}\n",
    "\n",
    "chmod +x ${FP_EXE}\n",
    "cat ${FP_EXE}"
   ]
  },
  {
   "cell_type": "markdown",
   "id": "62e8da71-3681-4e2d-bf1d-05d7c5632adc",
   "metadata": {},
   "source": [
    "**Preview folders and files**"
   ]
  },
  {
   "cell_type": "code",
   "execution_count": 4,
   "id": "8d3ed02c-3602-4d66-9fb3-f2c8e3181382",
   "metadata": {},
   "outputs": [
    {
     "name": "stdout",
     "output_type": "stream",
     "text": [
      "metadata.merged.tsv  \u001b[0m\u001b[01;34mregion_narrowPeak\u001b[0m  \u001b[01;34msignal_fold_change\u001b[0m  \u001b[01;34msignal_pvalue\u001b[0m\n"
     ]
    }
   ],
   "source": [
    "FD_OUT=${FD_DAT}/external/${TXT_FOLDER}\n",
    "ls ${FD_OUT}"
   ]
  },
  {
   "cell_type": "code",
   "execution_count": 5,
   "id": "0a5fc14a-0bd0-439b-b2c4-02bd6975506b",
   "metadata": {},
   "outputs": [
    {
     "name": "stdout",
     "output_type": "stream",
     "text": [
      "/data/reddylab/Kuei/repo/Proj_ENCODE_FCC/data/external/encode_chipseq_tf_250120/metadata.merged.tsv\n",
      "Folder: metadata.merged.tsv\n",
      "\n",
      "/data/reddylab/Kuei/repo/Proj_ENCODE_FCC/data/external/encode_chipseq_tf_250120/region_narrowPeak\n",
      "Folder: region_narrowPeak\n",
      "\n",
      "/data/reddylab/Kuei/repo/Proj_ENCODE_FCC/data/external/encode_chipseq_tf_250120/signal_fold_change\n",
      "Folder: signal_fold_change\n",
      "\n",
      "/data/reddylab/Kuei/repo/Proj_ENCODE_FCC/data/external/encode_chipseq_tf_250120/signal_pvalue\n",
      "Folder: signal_pvalue\n",
      "\n"
     ]
    }
   ],
   "source": [
    "FD_OUTS=($(ls -d ${FD_DAT}/external/${TXT_FOLDER}/*))\n",
    "for FD_OUT in ${FD_OUTS[@]}; do\n",
    "    FOLDER_SUB=$(basename ${FD_OUT})\n",
    "    echo ${FD_OUT}\n",
    "    echo \"Folder:\" ${FOLDER_SUB}\n",
    "    echo\n",
    "done"
   ]
  },
  {
   "cell_type": "code",
   "execution_count": 6,
   "id": "4cc613e2-0141-4ed0-95e1-8a70d2b9a768",
   "metadata": {},
   "outputs": [
    {
     "name": "stdout",
     "output_type": "stream",
     "text": [
      "File:   files.01.txt\n",
      "Folder: region_narrowPeak\n",
      "Count:  36\n",
      "File:   files.01.txt\n",
      "Folder: signal_fold_change\n",
      "Count:  36\n",
      "File:   files.01.txt\n",
      "Folder: signal_pvalue\n",
      "Count:  36\n"
     ]
    }
   ],
   "source": [
    "FP_INPS=($(ls ${FD_DAT}/external/${TXT_FOLDER}/*/files.01.txt))\n",
    "for FP_INP in ${FP_INPS[@]}; do\n",
    "    FD_OUT=$(dirname   ${FP_INP})\n",
    "    FN_INP=$(basename  ${FP_INP})\n",
    "    FOLDER_SUB=$(basename ${FD_OUT})\n",
    "    NUM=$(cat ${FP_INP} | wc -l)\n",
    "    \n",
    "    echo \"File:  \" ${FN_INP}\n",
    "    echo \"Folder:\" ${FOLDER_SUB}\n",
    "    echo \"Count: \" ${NUM} \n",
    "done"
   ]
  },
  {
   "cell_type": "code",
   "execution_count": 7,
   "id": "82dc9a1d-1e1a-4173-9916-d23b74d1a0cc",
   "metadata": {},
   "outputs": [
    {
     "name": "stdout",
     "output_type": "stream",
     "text": [
      "File:   checksum_md5sum.01.txt\n",
      "Folder: region_narrowPeak\n",
      "Count:  36\n",
      "File:   checksum_md5sum.01.txt\n",
      "Folder: signal_fold_change\n",
      "Count:  36\n",
      "File:   checksum_md5sum.01.txt\n",
      "Folder: signal_pvalue\n",
      "Count:  36\n"
     ]
    }
   ],
   "source": [
    "FP_INPS=($(ls ${FD_DAT}/external/${TXT_FOLDER}/*/checksum_md5sum.01.txt))\n",
    "for FP_INP in ${FP_INPS[@]}; do\n",
    "    FD_OUT=$(dirname   ${FP_INP})\n",
    "    FN_INP=$(basename  ${FP_INP})\n",
    "    FOLDER_SUB=$(basename ${FD_OUT})\n",
    "    NUM=$(cat ${FP_INP} | wc -l)\n",
    "    \n",
    "    echo \"File:  \" ${FN_INP}\n",
    "    echo \"Folder:\" ${FOLDER_SUB}\n",
    "    echo \"Count: \" ${NUM} \n",
    "done"
   ]
  },
  {
   "cell_type": "markdown",
   "id": "78ca1a70-717e-42e3-b945-e76242cc38cd",
   "metadata": {},
   "source": [
    "**Test Loop**"
   ]
  },
  {
   "cell_type": "code",
   "execution_count": 8,
   "id": "3d020313-e065-4f2f-9fd4-99da866acacd",
   "metadata": {},
   "outputs": [
    {
     "name": "stdout",
     "output_type": "stream",
     "text": [
      "File:   files.01.txt\n",
      "Folder: region_narrowPeak\n",
      "Count:  36\n",
      "File:   files.02.txt\n",
      "Folder: region_narrowPeak\n",
      "Count:  36\n",
      "File:   files.03.txt\n",
      "Folder: region_narrowPeak\n",
      "Count:  36\n",
      "File:   files.04.txt\n",
      "Folder: region_narrowPeak\n",
      "Count:  36\n",
      "File:   files.05.txt\n",
      "Folder: region_narrowPeak\n",
      "Count:  36\n",
      "File:   files.06.txt\n",
      "Folder: region_narrowPeak\n",
      "Count:  36\n",
      "File:   files.07.txt\n",
      "Folder: region_narrowPeak\n",
      "Count:  36\n",
      "File:   files.08.txt\n",
      "Folder: region_narrowPeak\n",
      "Count:  36\n",
      "File:   files.09.txt\n",
      "Folder: region_narrowPeak\n",
      "Count:  36\n",
      "File:   files.10.txt\n",
      "Folder: region_narrowPeak\n",
      "Count:  36\n",
      "File:   files.11.txt\n",
      "Folder: region_narrowPeak\n",
      "Count:  36\n",
      "File:   files.12.txt\n",
      "Folder: region_narrowPeak\n",
      "Count:  36\n",
      "File:   files.13.txt\n",
      "Folder: region_narrowPeak\n",
      "Count:  36\n",
      "File:   files.14.txt\n",
      "Folder: region_narrowPeak\n",
      "Count:  36\n",
      "File:   files.15.txt\n",
      "Folder: region_narrowPeak\n",
      "Count:  36\n",
      "File:   files.16.txt\n",
      "Folder: region_narrowPeak\n",
      "Count:  36\n",
      "File:   files.17.txt\n",
      "Folder: region_narrowPeak\n",
      "Count:  36\n",
      "File:   files.18.txt\n",
      "Folder: region_narrowPeak\n",
      "Count:  36\n",
      "File:   files.19.txt\n",
      "Folder: region_narrowPeak\n",
      "Count:  36\n",
      "File:   files.20.txt\n",
      "Folder: region_narrowPeak\n",
      "Count:  36\n"
     ]
    }
   ],
   "source": [
    "### init: exe\n",
    "FN_EXE=run_download_files.sh\n",
    "FP_EXE=${FD_EXE}/${FN_EXE}\n",
    "\n",
    "### init: directory\n",
    "#FP_INPS=($(ls ${FD_DAT}/external/${TXT_FOLDER}/*/files.*.txt))\n",
    "FP_INPS=($(ls ${FD_DAT}/external/${TXT_FOLDER}/region_narrowPeak/files.*.txt))\n",
    "\n",
    "### loop and execute\n",
    "for FP_INP in ${FP_INPS[@]}; do\n",
    "\n",
    "    ### init: I/O\n",
    "    FD_OUT=$(dirname   ${FP_INP})\n",
    "    FN_INP=$(basename  ${FP_INP})\n",
    "    \n",
    "    ### init: log file\n",
    "    TXT_FOLDER_SUB=$(basename ${FD_OUT})\n",
    "    FN_LOG=download.encode_chipseq_tf_250120.${TXT_FOLDER_SUB}.txt\n",
    "    FP_LOG=${FD_LOG}/${FN_LOG}\n",
    "\n",
    "    ### show progress\n",
    "    NUM=$(cat ${FP_INP} | wc -l)\n",
    "    echo \"File:  \" ${FN_INP}\n",
    "    echo \"Folder:\" ${TXT_FOLDER_SUB}\n",
    "    echo \"Count: \" ${NUM}\n",
    "done"
   ]
  },
  {
   "cell_type": "markdown",
   "id": "da946e6e-2f70-40b3-8310-5fd7abaa252f",
   "metadata": {},
   "source": [
    "### Run download script"
   ]
  },
  {
   "cell_type": "code",
   "execution_count": 9,
   "id": "cfda2777-8ef4-446a-8dfc-dec6b6c9e0c6",
   "metadata": {},
   "outputs": [
    {
     "name": "stdout",
     "output_type": "stream",
     "text": [
      "FN_INP: files.10.txt\n",
      "FN_LOG: download.encode_chipseq_tf_250120.region_narrowPeak.files.10.txt\n",
      "Folder: region_narrowPeak\n",
      "Count:  36\n",
      "\n",
      "Submitted batch job 277143\n",
      "\n",
      "FN_INP: files.20.txt\n",
      "FN_LOG: download.encode_chipseq_tf_250120.region_narrowPeak.files.20.txt\n",
      "Folder: region_narrowPeak\n",
      "Count:  36\n",
      "\n",
      "Submitted batch job 277144\n",
      "\n"
     ]
    }
   ],
   "source": [
    "### init: exe\n",
    "FN_EXE=run_download_files.sh\n",
    "FP_EXE=${FD_EXE}/${FN_EXE}\n",
    "\n",
    "### init: directory\n",
    "#FP_INPS=($(ls ${FD_DAT}/external/${TXT_FOLDER}/*/files.*.txt))\n",
    "FP_INPS=($(ls ${FD_DAT}/external/${TXT_FOLDER}/region_narrowPeak/files.*0.txt))\n",
    "\n",
    "### loop and execute\n",
    "for FP_INP in ${FP_INPS[@]}; do\n",
    "\n",
    "    ### init: I/O\n",
    "    FD_OUT=$(dirname   ${FP_INP})\n",
    "    FN_INP=$(basename  ${FP_INP})\n",
    "    \n",
    "    ### init: log file\n",
    "    TXT_FOLDER_SUB=$(basename ${FD_OUT})\n",
    "    FN_LOG=download.encode_chipseq_tf_250120.${TXT_FOLDER_SUB}.${FN_INP}\n",
    "    FP_LOG=${FD_LOG}/${FN_LOG}\n",
    "\n",
    "    ### show progress\n",
    "    NUM=$(cat ${FP_INP} | wc -l)\n",
    "    echo \"FN_INP:\" ${FN_INP}\n",
    "    #echo \"FN_OUT:\" ${FN_OUT}\n",
    "    echo \"FN_LOG:\" ${FN_LOG}\n",
    "    echo \"Folder:\" ${TXT_FOLDER_SUB}\n",
    "    echo \"Count: \" ${NUM}\n",
    "    echo\n",
    "\n",
    "    ### execute\n",
    "    cd ${FD_OUT}\n",
    "    sbatch \\\n",
    "        --cpus-per-task 4 \\\n",
    "        --mem 4G \\\n",
    "        --output ${FP_LOG} \\\n",
    "        ${FP_EXE} ${FP_CNF} ${FP_INP} ${FD_OUT}\n",
    "    echo\n",
    "done"
   ]
  },
  {
   "cell_type": "markdown",
   "id": "8213e396-2119-4089-aff6-e3aec27972c2",
   "metadata": {},
   "source": [
    "```\n",
    "scancel {276560..276619}\n",
    "```"
   ]
  },
  {
   "cell_type": "markdown",
   "id": "e58b62fc-03e2-4803-8943-402ccc4736f5",
   "metadata": {},
   "source": [
    "### Run checksum"
   ]
  },
  {
   "cell_type": "markdown",
   "id": "3c871a91-6fe1-41d9-8dbe-5bc0ef60ed91",
   "metadata": {},
   "source": [
    "**Run checksum: MACS peak**"
   ]
  },
  {
   "cell_type": "code",
   "execution_count": 10,
   "id": "1aaf4b02-b459-4c97-ad9b-5b187058c7a7",
   "metadata": {},
   "outputs": [
    {
     "name": "stdout",
     "output_type": "stream",
     "text": [
      "FN_INP: checksum_md5sum.01.txt\n",
      "FN_OUT: checksum_results.01.txt\n",
      "FN_LOG: checksum.encode_chipseq_tf_250120.region_narrowPeak.checksum_md5sum.01.txt\n",
      "Folder: region_narrowPeak\n",
      "Count:  36\n",
      "Submitted batch job 277145\n",
      "\n",
      "FN_INP: checksum_md5sum.02.txt\n",
      "FN_OUT: checksum_results.02.txt\n",
      "FN_LOG: checksum.encode_chipseq_tf_250120.region_narrowPeak.checksum_md5sum.02.txt\n",
      "Folder: region_narrowPeak\n",
      "Count:  36\n",
      "Submitted batch job 277146\n",
      "\n",
      "FN_INP: checksum_md5sum.03.txt\n",
      "FN_OUT: checksum_results.03.txt\n",
      "FN_LOG: checksum.encode_chipseq_tf_250120.region_narrowPeak.checksum_md5sum.03.txt\n",
      "Folder: region_narrowPeak\n",
      "Count:  36\n",
      "Submitted batch job 277147\n",
      "\n",
      "FN_INP: checksum_md5sum.04.txt\n",
      "FN_OUT: checksum_results.04.txt\n",
      "FN_LOG: checksum.encode_chipseq_tf_250120.region_narrowPeak.checksum_md5sum.04.txt\n",
      "Folder: region_narrowPeak\n",
      "Count:  36\n",
      "Submitted batch job 277148\n",
      "\n",
      "FN_INP: checksum_md5sum.05.txt\n",
      "FN_OUT: checksum_results.05.txt\n",
      "FN_LOG: checksum.encode_chipseq_tf_250120.region_narrowPeak.checksum_md5sum.05.txt\n",
      "Folder: region_narrowPeak\n",
      "Count:  36\n",
      "Submitted batch job 277149\n",
      "\n",
      "FN_INP: checksum_md5sum.06.txt\n",
      "FN_OUT: checksum_results.06.txt\n",
      "FN_LOG: checksum.encode_chipseq_tf_250120.region_narrowPeak.checksum_md5sum.06.txt\n",
      "Folder: region_narrowPeak\n",
      "Count:  36\n",
      "Submitted batch job 277150\n",
      "\n",
      "FN_INP: checksum_md5sum.07.txt\n",
      "FN_OUT: checksum_results.07.txt\n",
      "FN_LOG: checksum.encode_chipseq_tf_250120.region_narrowPeak.checksum_md5sum.07.txt\n",
      "Folder: region_narrowPeak\n",
      "Count:  36\n",
      "Submitted batch job 277151\n",
      "\n",
      "FN_INP: checksum_md5sum.08.txt\n",
      "FN_OUT: checksum_results.08.txt\n",
      "FN_LOG: checksum.encode_chipseq_tf_250120.region_narrowPeak.checksum_md5sum.08.txt\n",
      "Folder: region_narrowPeak\n",
      "Count:  36\n",
      "Submitted batch job 277152\n",
      "\n",
      "FN_INP: checksum_md5sum.09.txt\n",
      "FN_OUT: checksum_results.09.txt\n",
      "FN_LOG: checksum.encode_chipseq_tf_250120.region_narrowPeak.checksum_md5sum.09.txt\n",
      "Folder: region_narrowPeak\n",
      "Count:  36\n",
      "Submitted batch job 277153\n",
      "\n",
      "FN_INP: checksum_md5sum.10.txt\n",
      "FN_OUT: checksum_results.10.txt\n",
      "FN_LOG: checksum.encode_chipseq_tf_250120.region_narrowPeak.checksum_md5sum.10.txt\n",
      "Folder: region_narrowPeak\n",
      "Count:  36\n",
      "Submitted batch job 277154\n",
      "\n",
      "FN_INP: checksum_md5sum.11.txt\n",
      "FN_OUT: checksum_results.11.txt\n",
      "FN_LOG: checksum.encode_chipseq_tf_250120.region_narrowPeak.checksum_md5sum.11.txt\n",
      "Folder: region_narrowPeak\n",
      "Count:  36\n",
      "Submitted batch job 277155\n",
      "\n",
      "FN_INP: checksum_md5sum.12.txt\n",
      "FN_OUT: checksum_results.12.txt\n",
      "FN_LOG: checksum.encode_chipseq_tf_250120.region_narrowPeak.checksum_md5sum.12.txt\n",
      "Folder: region_narrowPeak\n",
      "Count:  36\n",
      "Submitted batch job 277156\n",
      "\n",
      "FN_INP: checksum_md5sum.13.txt\n",
      "FN_OUT: checksum_results.13.txt\n",
      "FN_LOG: checksum.encode_chipseq_tf_250120.region_narrowPeak.checksum_md5sum.13.txt\n",
      "Folder: region_narrowPeak\n",
      "Count:  36\n",
      "Submitted batch job 277157\n",
      "\n",
      "FN_INP: checksum_md5sum.14.txt\n",
      "FN_OUT: checksum_results.14.txt\n",
      "FN_LOG: checksum.encode_chipseq_tf_250120.region_narrowPeak.checksum_md5sum.14.txt\n",
      "Folder: region_narrowPeak\n",
      "Count:  36\n",
      "Submitted batch job 277158\n",
      "\n",
      "FN_INP: checksum_md5sum.15.txt\n",
      "FN_OUT: checksum_results.15.txt\n",
      "FN_LOG: checksum.encode_chipseq_tf_250120.region_narrowPeak.checksum_md5sum.15.txt\n",
      "Folder: region_narrowPeak\n",
      "Count:  36\n",
      "Submitted batch job 277159\n",
      "\n",
      "FN_INP: checksum_md5sum.16.txt\n",
      "FN_OUT: checksum_results.16.txt\n",
      "FN_LOG: checksum.encode_chipseq_tf_250120.region_narrowPeak.checksum_md5sum.16.txt\n",
      "Folder: region_narrowPeak\n",
      "Count:  36\n",
      "Submitted batch job 277160\n",
      "\n",
      "FN_INP: checksum_md5sum.17.txt\n",
      "FN_OUT: checksum_results.17.txt\n",
      "FN_LOG: checksum.encode_chipseq_tf_250120.region_narrowPeak.checksum_md5sum.17.txt\n",
      "Folder: region_narrowPeak\n",
      "Count:  36\n",
      "Submitted batch job 277161\n",
      "\n",
      "FN_INP: checksum_md5sum.18.txt\n",
      "FN_OUT: checksum_results.18.txt\n",
      "FN_LOG: checksum.encode_chipseq_tf_250120.region_narrowPeak.checksum_md5sum.18.txt\n",
      "Folder: region_narrowPeak\n",
      "Count:  36\n",
      "Submitted batch job 277162\n",
      "\n",
      "FN_INP: checksum_md5sum.19.txt\n",
      "FN_OUT: checksum_results.19.txt\n",
      "FN_LOG: checksum.encode_chipseq_tf_250120.region_narrowPeak.checksum_md5sum.19.txt\n",
      "Folder: region_narrowPeak\n",
      "Count:  36\n",
      "Submitted batch job 277163\n",
      "\n",
      "FN_INP: checksum_md5sum.20.txt\n",
      "FN_OUT: checksum_results.20.txt\n",
      "FN_LOG: checksum.encode_chipseq_tf_250120.region_narrowPeak.checksum_md5sum.20.txt\n",
      "Folder: region_narrowPeak\n",
      "Count:  36\n",
      "Submitted batch job 277164\n",
      "\n"
     ]
    }
   ],
   "source": [
    "### init: exe\n",
    "FN_EXE=run_checksum_files.sh\n",
    "FP_EXE=${FD_EXE}/${FN_EXE}\n",
    "\n",
    "### init: directory\n",
    "FP_INPS=($(ls ${FD_DAT}/external/${TXT_FOLDER}/region_narrowPeak/checksum_md5sum.*.txt))\n",
    "\n",
    "### loop and execute\n",
    "for FP_INP in ${FP_INPS[@]}; do\n",
    "\n",
    "    ### init: I/O\n",
    "    FD_OUT=$(dirname   ${FP_INP})\n",
    "    FN_INP=$(basename  ${FP_INP})\n",
    "    FN_OUT=${FN_INP/md5sum/results}\n",
    "    FP_OUT=${FD_OUT}/${FN_OUT}\n",
    "    \n",
    "    ### init: log file\n",
    "    TXT_FOLDER_SUB=$(basename ${FD_OUT})\n",
    "    FN_LOG=checksum.encode_chipseq_tf_250120.${TXT_FOLDER_SUB}.${FN_INP}\n",
    "    FP_LOG=${FD_LOG}/${FN_LOG}\n",
    "\n",
    "    ### show progress\n",
    "    NUM=$(cat ${FP_INP} | wc -l)\n",
    "    echo \"FN_INP:\" ${FN_INP}\n",
    "    echo \"FN_OUT:\" ${FN_OUT}\n",
    "    echo \"FN_LOG:\" ${FN_LOG}\n",
    "    echo \"Folder:\" ${TXT_FOLDER_SUB}\n",
    "    echo \"Count: \" ${NUM}\n",
    "\n",
    "    ### execute\n",
    "    cd ${FD_OUT}\n",
    "    sbatch \\\n",
    "        --cpus-per-task 4 \\\n",
    "        --mem 4G \\\n",
    "        --output ${FP_LOG} \\\n",
    "        ${FP_EXE} ${FP_CNF} ${FD_OUT} ${FP_INP} ${FP_OUT}\n",
    "    echo\n",
    "done"
   ]
  },
  {
   "cell_type": "markdown",
   "id": "2d7178c9-fd12-44a0-a783-07830d02d902",
   "metadata": {},
   "source": [
    "## Review"
   ]
  },
  {
   "cell_type": "markdown",
   "id": "599fc179-7fdc-4554-bb15-0cc41068663c",
   "metadata": {},
   "source": [
    "### Check output files"
   ]
  },
  {
   "cell_type": "code",
   "execution_count": 11,
   "id": "8f095252-5834-4cf8-820a-feb229e3bb2e",
   "metadata": {},
   "outputs": [
    {
     "name": "stdout",
     "output_type": "stream",
     "text": [
      "metadata.merged.tsv  \u001b[0m\u001b[01;34mregion_narrowPeak\u001b[0m  \u001b[01;34msignal_fold_change\u001b[0m  \u001b[01;34msignal_pvalue\u001b[0m\n"
     ]
    }
   ],
   "source": [
    "ls ${FD_DAT}/external/${TXT_FOLDER}"
   ]
  },
  {
   "cell_type": "code",
   "execution_count": 12,
   "id": "711ee8fe-c61b-4c64-a40d-ddb768359206",
   "metadata": {},
   "outputs": [
    {
     "name": "stdout",
     "output_type": "stream",
     "text": [
      "721\n",
      "  68K ENCFF003LPE.bed.gz\n",
      " 212K ENCFF004HXL.bed.gz\n",
      " 100K ENCFF004YCK.bed.gz\n",
      " 276K ENCFF005MBI.bed.gz\n",
      " 412K ENCFF009RFC.bed.gz\n",
      "  88K ENCFF014HYS.bed.gz\n",
      "  68K ENCFF015FXW.bed.gz\n",
      " 268K ENCFF018HWM.bed.gz\n",
      "  40K ENCFF018TNP.bed.gz\n",
      "  24K ENCFF019NGO.bed.gz\n"
     ]
    }
   ],
   "source": [
    "FD_OUT=${FD_DAT}/external/${TXT_FOLDER}/region_narrowPeak\n",
    "\n",
    "cd ${FD_OUT}\n",
    "ls -sh {*bed.gz,*.tsv} | wc -l\n",
    "ls -sh {*bed.gz,*.tsv} | head"
   ]
  },
  {
   "cell_type": "markdown",
   "id": "9bff0da3-6d74-455d-ae14-1af0c6bf1d55",
   "metadata": {},
   "source": [
    "### Check checksum results"
   ]
  },
  {
   "cell_type": "code",
   "execution_count": 13,
   "id": "b146fc8c-d180-44d0-8688-d796a87d2b00",
   "metadata": {},
   "outputs": [
    {
     "name": "stdout",
     "output_type": "stream",
     "text": [
      "metadata.merged.tsv  \u001b[0m\u001b[01;34mregion_narrowPeak\u001b[0m  \u001b[01;34msignal_fold_change\u001b[0m  \u001b[01;34msignal_pvalue\u001b[0m\n"
     ]
    }
   ],
   "source": [
    "ls ${FD_DAT}/external/${TXT_FOLDER}"
   ]
  },
  {
   "cell_type": "markdown",
   "id": "258178d8-eec3-4096-8a34-9ca12783aeca",
   "metadata": {},
   "source": [
    "#### Checksum: bed peak files"
   ]
  },
  {
   "cell_type": "markdown",
   "id": "76244d34-b3aa-4ffe-834d-79b5b32096d8",
   "metadata": {},
   "source": [
    "**Check FAIL files**"
   ]
  },
  {
   "cell_type": "code",
   "execution_count": 14,
   "id": "3cc11528-c696-4f09-8659-39a0b85e1839",
   "metadata": {},
   "outputs": [
    {
     "name": "stdout",
     "output_type": "stream",
     "text": [
      "File:   checksum_results.01.txt\n",
      "Folder: region_narrowPeak\n",
      "Count:  36\n",
      "All PASSED\n",
      "File:   checksum_results.02.txt\n",
      "Folder: region_narrowPeak\n",
      "Count:  36\n",
      "All PASSED\n",
      "File:   checksum_results.03.txt\n",
      "Folder: region_narrowPeak\n",
      "Count:  36\n",
      "All PASSED\n",
      "File:   checksum_results.04.txt\n",
      "Folder: region_narrowPeak\n",
      "Count:  36\n",
      "All PASSED\n",
      "File:   checksum_results.05.txt\n",
      "Folder: region_narrowPeak\n",
      "Count:  36\n",
      "All PASSED\n",
      "File:   checksum_results.06.txt\n",
      "Folder: region_narrowPeak\n",
      "Count:  36\n",
      "All PASSED\n",
      "File:   checksum_results.07.txt\n",
      "Folder: region_narrowPeak\n",
      "Count:  36\n",
      "All PASSED\n",
      "File:   checksum_results.08.txt\n",
      "Folder: region_narrowPeak\n",
      "Count:  36\n",
      "All PASSED\n",
      "File:   checksum_results.09.txt\n",
      "Folder: region_narrowPeak\n",
      "Count:  36\n",
      "All PASSED\n",
      "File:   checksum_results.10.txt\n",
      "Folder: region_narrowPeak\n",
      "Count:  36\n",
      "All PASSED\n",
      "File:   checksum_results.11.txt\n",
      "Folder: region_narrowPeak\n",
      "Count:  36\n",
      "All PASSED\n",
      "File:   checksum_results.12.txt\n",
      "Folder: region_narrowPeak\n",
      "Count:  36\n",
      "All PASSED\n",
      "File:   checksum_results.13.txt\n",
      "Folder: region_narrowPeak\n",
      "Count:  36\n",
      "All PASSED\n",
      "File:   checksum_results.14.txt\n",
      "Folder: region_narrowPeak\n",
      "Count:  36\n",
      "All PASSED\n",
      "File:   checksum_results.15.txt\n",
      "Folder: region_narrowPeak\n",
      "Count:  36\n",
      "All PASSED\n",
      "File:   checksum_results.16.txt\n",
      "Folder: region_narrowPeak\n",
      "Count:  36\n",
      "All PASSED\n",
      "File:   checksum_results.17.txt\n",
      "Folder: region_narrowPeak\n",
      "Count:  36\n",
      "All PASSED\n",
      "File:   checksum_results.18.txt\n",
      "Folder: region_narrowPeak\n",
      "Count:  36\n",
      "All PASSED\n",
      "File:   checksum_results.19.txt\n",
      "Folder: region_narrowPeak\n",
      "Count:  36\n",
      "All PASSED\n",
      "File:   checksum_results.20.txt\n",
      "Folder: region_narrowPeak\n",
      "Count:  36\n",
      "All PASSED\n"
     ]
    }
   ],
   "source": [
    "### init: directory\n",
    "FD_OUT=${FD_DAT}/external/${TXT_FOLDER}/region_narrowPeak\n",
    "FP_OUTS=($(ls ${FD_OUT}/checksum_results.*.txt))\n",
    "FP_TMP=${FD_OUT}/checksum_results.txt\n",
    "\n",
    "### init: checksum results (merged)\n",
    "echo -n \"\" > ${FP_TMP}\n",
    "\n",
    "### loop and execute\n",
    "for FP_OUT in ${FP_OUTS[@]}; do\n",
    "\n",
    "    ### init: I/O\n",
    "    FD_OUT=$(dirname  ${FP_OUT})\n",
    "    FN_OUT=$(basename ${FP_OUT})\n",
    "    TXT_FOLDER_SUB=$(basename ${FD_OUT})\n",
    "    \n",
    "    ### show progress\n",
    "    NUM=$(cat ${FP_OUT} | wc -l)\n",
    "    echo \"File:  \" ${FN_OUT}\n",
    "    echo \"Folder:\" ${TXT_FOLDER_SUB}\n",
    "    echo \"Count: \" ${NUM}\n",
    "    cat ${FP_OUT} | grep \"FAILED\" && echo \"FAILED\" || echo \"All PASSED\"\n",
    "    cat ${FP_OUT} >> ${FP_TMP}\n",
    "done"
   ]
  },
  {
   "cell_type": "markdown",
   "id": "a09e0c57-9b1e-4965-a143-718f5116ce01",
   "metadata": {},
   "source": [
    "**Delete FAIL files**"
   ]
  },
  {
   "cell_type": "markdown",
   "id": "d31e6eb2-5175-4bc6-b607-df79380289cc",
   "metadata": {
    "jp-MarkdownHeadingCollapsed": true
   },
   "source": [
    "```\n",
    "### init: directory\n",
    "FD_OUT=${FD_DAT}/external/${TXT_FOLDER}/region_narrowPeak\n",
    "FP_TMP=${FD_OUT}/checksum_results.txt\n",
    "\n",
    "### loop, check exitence and delete if FAILED checksum\n",
    "cd ${FD_OUT}\n",
    "for FILE in $(grep \"FAILED\" \"${FP_TMP}\" | cut -d: -f1); do\n",
    "    if [ -f \"${FILE}\" ]; then\n",
    "        echo \"Deleting ${FILE}\"\n",
    "        rm -v \"${FILE}\"\n",
    "    else\n",
    "        echo \"Skipping ${FILE} (not found)\"\n",
    "    fi\n",
    "done\n",
    "```"
   ]
  },
  {
   "cell_type": "markdown",
   "id": "2b0ba79b-c4b1-4590-a8bb-f9753a40a7be",
   "metadata": {},
   "source": [
    "### Check execution log"
   ]
  },
  {
   "cell_type": "code",
   "execution_count": 15,
   "id": "0f697086-dfb6-4d37-b789-6829d0778e79",
   "metadata": {},
   "outputs": [
    {
     "name": "stdout",
     "output_type": "stream",
     "text": [
      "metadata.merged.tsv  \u001b[0m\u001b[01;34mregion_narrowPeak\u001b[0m  \u001b[01;34msignal_fold_change\u001b[0m  \u001b[01;34msignal_pvalue\u001b[0m\n"
     ]
    }
   ],
   "source": [
    "ls ${FD_DAT}/external/${TXT_FOLDER}"
   ]
  },
  {
   "cell_type": "code",
   "execution_count": 16,
   "id": "9ec2a48f-4ffc-420e-8ae8-edbd3f26b968",
   "metadata": {},
   "outputs": [
    {
     "name": "stdout",
     "output_type": "stream",
     "text": [
      "Hostname:           plp-rcc-node-01\n",
      "Slurm Array Index: \n",
      "Time Stamp:         05-28-25+16:07:13\n",
      "\n",
      "Change directory:\n",
      "/data/reddylab/Kuei/repo/Proj_ENCODE_FCC/data/external/encode_chipseq_tf_250120/region_narrowPeak\n",
      "\n",
      "Download files...\n",
      "  % Total    % Received % Xferd  Average Speed   Time    Time     Time  Current\n",
      "                                 Dload  Upload   Total   Spent    Left  Speed\n",
      "100  1919  100  1919    0     0   3354      0 --:--:-- --:--:-- --:--:--  3354\n",
      "  0     0    0     0    0     0      0      0 --:--:-- --:--:-- --:--:--     0Warning: Failed to create the file ENCFF959ZKZ.bed.gz: File exists\n",
      "  0     0    0     0    0     0      0      0 --:--:-- --:--:-- --:--:--     0\n",
      "curl: (23) Failed writing header\n",
      "  % Total    % Received % Xferd  Average Speed   Time    Time     Time  Current\n",
      "                                 Dload  Upload   Total   Spent    Left  Speed\n",
      "100  1923  100  1923    0     0   5087      0 --:--:-- --:--:-- --:--:--  5087\n",
      "Warning: Failed to create the file ENCFF934NEX.bed.gz: File exists\n",
      "  0     0    0     0    0     0      0      0 --:--:-- --:--:-- --:--:--     0\n",
      "curl: (23) Failed writing header\n"
     ]
    }
   ],
   "source": [
    "FN_LOG=download.encode_chipseq_tf_250120.region_narrowPeak.files.01.txt\n",
    "FP_LOG=${FD_LOG}/${FN_LOG}\n",
    "\n",
    "head -n 20 ${FP_LOG}"
   ]
  },
  {
   "cell_type": "code",
   "execution_count": 17,
   "id": "44298b6f-cb2e-4aa6-b6de-de519bbfb1db",
   "metadata": {},
   "outputs": [
    {
     "name": "stdout",
     "output_type": "stream",
     "text": [
      "                                 Dload  Upload   Total   Spent    Left  Speed\n",
      "100  1935  100  1935    0     0   5187      0 --:--:-- --:--:-- --:--:--  5187\n",
      "Warning: Failed to create the file ENCFF677XKP.bigWig: File exists\n",
      "  0     0    0     0    0     0      0      0 --:--:-- --:--:-- --:--:--     0\n",
      "curl: (23) Failed writing header\n",
      "\n",
      "\n",
      "Done!\n",
      "Run Time: 28 seconds\n",
      "\n"
     ]
    }
   ],
   "source": [
    "FN_LOG=download.encode_chipseq_tf_250120.signal_pvalue.files.01.txt\n",
    "FP_LOG=${FD_LOG}/${FN_LOG}\n",
    "\n",
    "tail -n 10 ${FP_LOG}"
   ]
  },
  {
   "cell_type": "code",
   "execution_count": 18,
   "id": "de40de70-1fe2-474c-8338-5d5ae127dd0f",
   "metadata": {},
   "outputs": [
    {
     "name": "stdout",
     "output_type": "stream",
     "text": [
      "Hostname:           plp-rcc-node-01\n",
      "Slurm Array Index: \n",
      "Time Stamp:         05-28-25+16:20:05\n",
      "\n",
      "Change directory:\n",
      "/data/reddylab/Kuei/repo/Proj_ENCODE_FCC/data/external/encode_chipseq_tf_250120/region_narrowPeak\n",
      "\n",
      "Checksum files...\n",
      "\n",
      "\n",
      "Done!\n",
      "Run Time: 0 seconds\n",
      "\n"
     ]
    }
   ],
   "source": [
    "FN_LOG=checksum.encode_chipseq_tf_250120.region_narrowPeak.checksum_md5sum.01.txt\n",
    "FP_LOG=${FD_LOG}/${FN_LOG}\n",
    "\n",
    "head -n 20 ${FP_LOG}"
   ]
  },
  {
   "cell_type": "code",
   "execution_count": null,
   "id": "b0136489-34b9-4975-86de-4a1f1ed92b28",
   "metadata": {},
   "outputs": [],
   "source": []
  }
 ],
 "metadata": {
  "kernelspec": {
   "display_name": "Bash",
   "language": "bash",
   "name": "bash"
  },
  "language_info": {
   "codemirror_mode": "shell",
   "file_extension": ".sh",
   "mimetype": "text/x-sh",
   "name": "bash"
  }
 },
 "nbformat": 4,
 "nbformat_minor": 5
}
