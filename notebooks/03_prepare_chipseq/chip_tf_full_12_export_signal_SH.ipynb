{
 "cells": [
  {
   "cell_type": "raw",
   "id": "832506b5-efe4-432f-9421-df01cef3b32f",
   "metadata": {},
   "source": [
    "---\n",
    "title: Prepare ENCODE ChIP-seq Histone 12\n",
    "subtitle: Export signal data to `result` folder\n",
    "format:\n",
    "    html:\n",
    "        code-fold:  true\n",
    "        code-tools: true\n",
    "---"
   ]
  },
  {
   "cell_type": "markdown",
   "id": "4f526a93-1382-432f-95e8-29a7831118ff",
   "metadata": {},
   "source": [
    "**Set environment**"
   ]
  },
  {
   "cell_type": "code",
   "execution_count": 1,
   "id": "48b70917-f95c-406e-9f1a-008a598dde48",
   "metadata": {},
   "outputs": [
    {
     "name": "stdout",
     "output_type": "stream",
     "text": [
      "You are working on             Duke Server: RCC\n",
      "BASE DIRECTORY (FD_BASE):      /data/reddylab/Kuei\n",
      "REPO DIRECTORY (FD_REPO):      /data/reddylab/Kuei/repo\n",
      "WORK DIRECTORY (FD_WORK):      /data/reddylab/Kuei/work\n",
      "DATA DIRECTORY (FD_DATA):      /data/reddylab/Kuei/data\n",
      "CONTAINER DIR. (FD_SING):      /data/reddylab/Kuei/container\n",
      "\n",
      "You are working with           ENCODE FCC\n",
      "PATH OF PROJECT (FD_PRJ):      /data/reddylab/Kuei/repo/Proj_ENCODE_FCC\n",
      "PROJECT RESULTS (FD_RES):      /data/reddylab/Kuei/repo/Proj_ENCODE_FCC/results\n",
      "PROJECT SCRIPTS (FD_EXE):      /data/reddylab/Kuei/repo/Proj_ENCODE_FCC/scripts\n",
      "PROJECT DATA    (FD_DAT):      /data/reddylab/Kuei/repo/Proj_ENCODE_FCC/data\n",
      "PROJECT NOTE    (FD_NBK):      /data/reddylab/Kuei/repo/Proj_ENCODE_FCC/notebooks\n",
      "PROJECT DOCS    (FD_DOC):      /data/reddylab/Kuei/repo/Proj_ENCODE_FCC/docs\n",
      "PROJECT LOG     (FD_LOG):      /data/reddylab/Kuei/repo/Proj_ENCODE_FCC/log\n",
      "PROJECT REF     (FD_REF):      /data/reddylab/Kuei/repo/Proj_ENCODE_FCC/references\n",
      "PROJECT IMAGE   (FP_PRJ_SIF):  /data/reddylab/Kuei/container/project/singularity_proj_encode_fcc.sif\n",
      "PROJECT CONF.   (FP_CNF):      /data/reddylab/Kuei/repo/Proj_ENCODE_FCC/scripts/config_project.sh\n",
      "\n"
     ]
    }
   ],
   "source": [
    "source ../run_config_project.sh\n",
    "show_env"
   ]
  },
  {
   "cell_type": "markdown",
   "id": "3a6fe5c8-c064-425d-a69d-55ea8aa672c6",
   "metadata": {},
   "source": [
    "**Set global variable**"
   ]
  },
  {
   "cell_type": "code",
   "execution_count": 2,
   "id": "f051340a-f872-4a55-a4ce-3e3a1e3fe910",
   "metadata": {},
   "outputs": [],
   "source": [
    "REGION_FOLDER_DAT=\"encode_chipseq_tf_250120\"\n",
    "REGION_FOLDER_RES=\"encode_chipseq_tf_full\""
   ]
  },
  {
   "cell_type": "markdown",
   "id": "562f70e0-8fdf-4e24-87d4-cafba5786026",
   "metadata": {
    "tags": []
   },
   "source": [
    "## View data"
   ]
  },
  {
   "cell_type": "code",
   "execution_count": 3,
   "id": "5ae58960-5564-439f-a25d-82cae05036cd",
   "metadata": {},
   "outputs": [
    {
     "name": "stdout",
     "output_type": "stream",
     "text": [
      "chrom.hg38.main.bed              \u001b[0m\u001b[01;34mencode_crispri_hcrff\u001b[0m\n",
      "chrom.hg38.total.bed             \u001b[01;34mencode_open_chromatin\u001b[0m\n",
      "chrom.sizes.hg19                 \u001b[01;34mencode_rnaseq\u001b[0m\n",
      "chrom.sizes.hg38                 \u001b[01;34mgenome_tss\u001b[0m\n",
      "\u001b[01;34mencode_chipseq_agarwal2023\u001b[0m       \u001b[01;34mhic_insitu_GM12878\u001b[0m\n",
      "\u001b[01;34mencode_chipseq_flagship\u001b[0m          \u001b[01;34mhic_insitu_K562_ENCSR545YBD\u001b[0m\n",
      "\u001b[01;34mencode_chipseq_histone_241223\u001b[0m    \u001b[01;34mhic_intact_K562_deep\u001b[0m\n",
      "\u001b[01;34mencode_chipseq_histone_250120\u001b[0m    \u001b[01;34mhic_intact_K562_ENCSR479XDG\u001b[0m\n",
      "\u001b[01;34mencode_chipseq_histone_previous\u001b[0m  \u001b[01;34mprotein_interpro\u001b[0m\n",
      "\u001b[01;34mencode_chipseq_subset\u001b[0m            \u001b[01;34mRNAseq\u001b[0m\n",
      "\u001b[01;34mencode_chipseq_tf_250120\u001b[0m         \u001b[01;34mtmp\u001b[0m\n",
      "\u001b[01;34mencode_chromatin_states\u001b[0m\n"
     ]
    }
   ],
   "source": [
    "ls ${FD_DAT}/external/"
   ]
  },
  {
   "cell_type": "code",
   "execution_count": 4,
   "id": "5d405ef8-e8b1-4710-881c-3178a9488aae",
   "metadata": {},
   "outputs": [
    {
     "name": "stdout",
     "output_type": "stream",
     "text": [
      "/data/reddylab/Kuei/repo/Proj_ENCODE_FCC/data/external/encode_chipseq_tf_250120\n",
      "metadata.merged.tsv\n",
      "\u001b[0m\u001b[01;34mregion_narrowPeak\u001b[0m\n",
      "\u001b[01;34msignal_fold_change\u001b[0m\n",
      "\u001b[01;34msignal_pvalue\u001b[0m\n"
     ]
    }
   ],
   "source": [
    "FDIRY=${FD_DAT}/external/${REGION_FOLDER_DAT}\n",
    "echo  ${FDIRY}\n",
    "ls -1 ${FDIRY}"
   ]
  },
  {
   "cell_type": "code",
   "execution_count": 7,
   "id": "a7a6fed1-a0bc-4ee2-8cee-23f25ab00a21",
   "metadata": {},
   "outputs": [
    {
     "name": "stdout",
     "output_type": "stream",
     "text": [
      "/data/reddylab/Kuei/repo/Proj_ENCODE_FCC/data/external/encode_chipseq_tf_250120/signal_fold_change/metadata.tsv\n",
      "720\n",
      "ENCFF002KIE.bigWig\n",
      "ENCFF002MEK.bigWig\n",
      "ENCFF003ZRP.bigWig\n",
      "ENCFF004SID.bigWig\n",
      "ENCFF007JMV.bigWig\n",
      "ENCFF013BKC.bigWig\n",
      "ENCFF016DEO.bigWig\n",
      "ENCFF018GMI.bigWig\n",
      "ENCFF018MOC.bigWig\n",
      "ENCFF023QKJ.bigWig\n"
     ]
    }
   ],
   "source": [
    "FDIRY=${FD_DAT}/external/${REGION_FOLDER_DAT}\n",
    "ls -1 ${FDIRY}/signal_fold_change/metadata.tsv\n",
    "ls -1 ${FDIRY}/signal_fold_change/*bigWig | wc -l\n",
    "ls -1 ${FDIRY}/signal_fold_change/*bigWig | head | xargs -n 1 basename"
   ]
  },
  {
   "cell_type": "markdown",
   "id": "75199165-fc35-495d-9220-3d9bd890a909",
   "metadata": {},
   "source": [
    "## Link to the Results folder"
   ]
  },
  {
   "cell_type": "code",
   "execution_count": 8,
   "id": "ae332162-11e3-4d93-968b-6f942ec23cca",
   "metadata": {},
   "outputs": [
    {
     "name": "stdout",
     "output_type": "stream",
     "text": [
      "/data/reddylab/Kuei/repo/Proj_ENCODE_FCC/results/assay_chipseq\n"
     ]
    }
   ],
   "source": [
    "FDIRY=${FD_RES}/assay_chipseq\n",
    "echo  ${FDIRY}"
   ]
  },
  {
   "cell_type": "code",
   "execution_count": 9,
   "id": "bcac4531-9bcb-4b9d-8644-de60d973db0f",
   "metadata": {},
   "outputs": [
    {
     "name": "stdout",
     "output_type": "stream",
     "text": [
      "/data/reddylab/Kuei/repo/Proj_ENCODE_FCC/results/assay_chipseq/encode_chipseq_tf_full/summary\n"
     ]
    }
   ],
   "source": [
    "FDIRY=${FD_RES}/assay_chipseq/${REGION_FOLDER_RES}/summary\n",
    "\n",
    "echo     ${FDIRY}\n",
    "mkdir -p ${FDIRY}"
   ]
  },
  {
   "cell_type": "code",
   "execution_count": 10,
   "id": "06ede717-d447-4f9a-8bb7-e2e6bd837aa6",
   "metadata": {},
   "outputs": [],
   "source": [
    "FD_INP=${FD_DAT}/external/${REGION_FOLDER_DAT}\n",
    "FD_OUT=${FD_RES}/assay_chipseq/${REGION_FOLDER_RES}\n",
    "\n",
    "FP_SRC=${FD_INP}/signal_fold_change\n",
    "FP_LNK=${FD_OUT}/signal_fold_change\n",
    "\n",
    "ln -s ${FP_SRC} ${FP_LNK}"
   ]
  },
  {
   "cell_type": "markdown",
   "id": "38821bc4-1d7a-4c37-a0e0-dc22fe917096",
   "metadata": {},
   "source": [
    "## View results"
   ]
  },
  {
   "cell_type": "code",
   "execution_count": 11,
   "id": "3d926da2-1aaa-4248-bc1c-1e32730236de",
   "metadata": {},
   "outputs": [
    {
     "name": "stdout",
     "output_type": "stream",
     "text": [
      "\u001b[0m\u001b[01;36msignal_fold_change\u001b[0m  \u001b[01;34msummary\u001b[0m\n"
     ]
    }
   ],
   "source": [
    "ls ${FD_OUT}"
   ]
  },
  {
   "cell_type": "code",
   "execution_count": 13,
   "id": "d523a42b-cb2c-4943-b1b8-5cca469cbbd4",
   "metadata": {},
   "outputs": [
    {
     "name": "stdout",
     "output_type": "stream",
     "text": [
      "checksum_md5sum.01.txt\n",
      "checksum_md5sum.02.txt\n",
      "checksum_md5sum.03.txt\n",
      "checksum_md5sum.04.txt\n",
      "checksum_md5sum.05.txt\n",
      "checksum_md5sum.06.txt\n",
      "checksum_md5sum.07.txt\n",
      "checksum_md5sum.08.txt\n",
      "checksum_md5sum.09.txt\n",
      "checksum_md5sum.10.txt\n",
      "checksum_md5sum.11.txt\n",
      "checksum_md5sum.12.txt\n",
      "checksum_md5sum.13.txt\n",
      "checksum_md5sum.14.txt\n",
      "checksum_md5sum.15.txt\n",
      "checksum_md5sum.16.txt\n",
      "checksum_md5sum.17.txt\n",
      "checksum_md5sum.18.txt\n",
      "checksum_md5sum.19.txt\n",
      "checksum_md5sum.20.txt\n",
      "checksum_results.01.txt\n",
      "checksum_results.02.txt\n",
      "checksum_results.03.txt\n",
      "checksum_results.04.txt\n",
      "checksum_results.05.txt\n",
      "checksum_results.06.txt\n",
      "checksum_results.07.txt\n",
      "checksum_results.08.txt\n",
      "checksum_results.09.txt\n",
      "checksum_results.10.txt\n",
      "checksum_results.11.txt\n",
      "checksum_results.12.txt\n",
      "checksum_results.13.txt\n",
      "checksum_results.14.txt\n",
      "checksum_results.15.txt\n",
      "checksum_results.16.txt\n",
      "checksum_results.17.txt\n",
      "checksum_results.18.txt\n",
      "checksum_results.19.txt\n",
      "checksum_results.20.txt\n",
      "checksum_results.txt\n",
      "ENCFF002KIE.bigWig\n",
      "ENCFF002MEK.bigWig\n",
      "ENCFF003ZRP.bigWig\n",
      "ENCFF004SID.bigWig\n",
      "ENCFF007JMV.bigWig\n",
      "ENCFF013BKC.bigWig\n",
      "ENCFF016DEO.bigWig\n",
      "ENCFF018GMI.bigWig\n",
      "ENCFF018MOC.bigWig\n"
     ]
    }
   ],
   "source": [
    "ls ${FD_OUT}/signal_fold_change | head -n 50"
   ]
  },
  {
   "cell_type": "code",
   "execution_count": null,
   "id": "5fb2f2fb-ddda-4aa4-8778-0814f3d0e4dd",
   "metadata": {},
   "outputs": [],
   "source": []
  }
 ],
 "metadata": {
  "kernelspec": {
   "display_name": "Bash",
   "language": "bash",
   "name": "bash"
  },
  "language_info": {
   "codemirror_mode": "shell",
   "file_extension": ".sh",
   "mimetype": "text/x-sh",
   "name": "bash"
  }
 },
 "nbformat": 4,
 "nbformat_minor": 5
}
