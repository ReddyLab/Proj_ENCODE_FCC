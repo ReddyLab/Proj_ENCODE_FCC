{
 "cells": [
  {
   "cell_type": "raw",
   "id": "7ee15bab-8974-401c-b047-72ce41ebe156",
   "metadata": {},
   "source": [
    "---\n",
    "title: Prepare ENCODE ChIP-seq Histone 11\n",
    "subtitle: Export region data to `result` folder\n",
    "format:\n",
    "    html:\n",
    "        code-fold:  true\n",
    "        code-tools: true\n",
    "---"
   ]
  },
  {
   "cell_type": "markdown",
   "id": "5487f930-c1a0-4417-a707-d5be0ad6a5b7",
   "metadata": {},
   "source": [
    "**Set environment**"
   ]
  },
  {
   "cell_type": "code",
   "execution_count": 1,
   "id": "529a70f2-cbfb-4a42-80cd-bdcc221fcf43",
   "metadata": {},
   "outputs": [
    {
     "name": "stdout",
     "output_type": "stream",
     "text": [
      "You are working on             Duke Server: RCC\n",
      "BASE DIRECTORY (FD_BASE):      /data/reddylab/Kuei\n",
      "REPO DIRECTORY (FD_REPO):      /data/reddylab/Kuei/repo\n",
      "WORK DIRECTORY (FD_WORK):      /data/reddylab/Kuei/work\n",
      "DATA DIRECTORY (FD_DATA):      /data/reddylab/Kuei/data\n",
      "CONTAINER DIR. (FD_SING):      /data/reddylab/Kuei/container\n",
      "\n",
      "You are working with           ENCODE FCC\n",
      "PATH OF PROJECT (FD_PRJ):      /data/reddylab/Kuei/repo/Proj_ENCODE_FCC\n",
      "PROJECT RESULTS (FD_RES):      /data/reddylab/Kuei/repo/Proj_ENCODE_FCC/results\n",
      "PROJECT SCRIPTS (FD_EXE):      /data/reddylab/Kuei/repo/Proj_ENCODE_FCC/scripts\n",
      "PROJECT DATA    (FD_DAT):      /data/reddylab/Kuei/repo/Proj_ENCODE_FCC/data\n",
      "PROJECT NOTE    (FD_NBK):      /data/reddylab/Kuei/repo/Proj_ENCODE_FCC/notebooks\n",
      "PROJECT DOCS    (FD_DOC):      /data/reddylab/Kuei/repo/Proj_ENCODE_FCC/docs\n",
      "PROJECT LOG     (FD_LOG):      /data/reddylab/Kuei/repo/Proj_ENCODE_FCC/log\n",
      "PROJECT REF     (FD_REF):      /data/reddylab/Kuei/repo/Proj_ENCODE_FCC/references\n",
      "PROJECT IMAGE   (FP_PRJ_SIF):  /data/reddylab/Kuei/container/project/singularity_proj_encode_fcc.sif\n",
      "PROJECT CONF.   (FP_CNF):      /data/reddylab/Kuei/repo/Proj_ENCODE_FCC/scripts/config_project.sh\n",
      "\n"
     ]
    }
   ],
   "source": [
    "source ../run_config_project.sh\n",
    "show_env"
   ]
  },
  {
   "cell_type": "markdown",
   "id": "63b2da42-3476-47b6-8c1d-2b75029cac8a",
   "metadata": {},
   "source": [
    "**Set global variable**"
   ]
  },
  {
   "cell_type": "code",
   "execution_count": 2,
   "id": "c942178e-3499-454b-98f5-d20cacd1cd53",
   "metadata": {},
   "outputs": [],
   "source": [
    "REGION_FOLDER_DAT=\"encode_chipseq_histone_250120\"\n",
    "REGION_FOLDER_RES=\"encode_chipseq_histone\""
   ]
  },
  {
   "cell_type": "markdown",
   "id": "d4ac6ca5-637c-4823-99f4-c7345225f6d5",
   "metadata": {
    "tags": []
   },
   "source": [
    "## Prepare"
   ]
  },
  {
   "cell_type": "code",
   "execution_count": 8,
   "id": "d9aa86df-aaa5-4bf3-8a38-07d84a8b6ff0",
   "metadata": {},
   "outputs": [
    {
     "name": "stdout",
     "output_type": "stream",
     "text": [
      "chrom.hg38.main.bed              \u001b[0m\u001b[01;34mencode_crispri_hcrff\u001b[0m\n",
      "chrom.hg38.total.bed             \u001b[01;34mencode_open_chromatin\u001b[0m\n",
      "chrom.sizes.hg19                 \u001b[01;34mencode_rnaseq\u001b[0m\n",
      "chrom.sizes.hg38                 \u001b[01;34mgenome_tss\u001b[0m\n",
      "\u001b[01;34mencode_chipseq_agarwal2023\u001b[0m       \u001b[01;34mhic_insitu_GM12878\u001b[0m\n",
      "\u001b[01;34mencode_chipseq_flagship\u001b[0m          \u001b[01;34mhic_insitu_K562_ENCSR545YBD\u001b[0m\n",
      "\u001b[01;34mencode_chipseq_histone_241223\u001b[0m    \u001b[01;34mhic_intact_K562_deep\u001b[0m\n",
      "\u001b[01;34mencode_chipseq_histone_250120\u001b[0m    \u001b[01;34mhic_intact_K562_ENCSR479XDG\u001b[0m\n",
      "\u001b[01;34mencode_chipseq_histone_previous\u001b[0m  \u001b[01;34mprotein_interpro\u001b[0m\n",
      "\u001b[01;34mencode_chipseq_subset\u001b[0m            \u001b[01;34mRNAseq\u001b[0m\n",
      "\u001b[01;34mencode_chipseq_tf_250120\u001b[0m         \u001b[01;34mtmp\u001b[0m\n",
      "\u001b[01;34mencode_chromatin_states\u001b[0m\n"
     ]
    }
   ],
   "source": [
    "ls ${FD_DAT}/external/"
   ]
  },
  {
   "cell_type": "markdown",
   "id": "bd0ef05b-c465-4aab-ada3-3553d9a0f3f9",
   "metadata": {},
   "source": [
    "**Check data**"
   ]
  },
  {
   "cell_type": "code",
   "execution_count": 5,
   "id": "4b736476-d026-4332-bef1-feac6f764c72",
   "metadata": {},
   "outputs": [
    {
     "name": "stdout",
     "output_type": "stream",
     "text": [
      "/data/reddylab/Kuei/repo/Proj_ENCODE_FCC/data/external/encode_chipseq_histone_250120/region_narrowPeak\n",
      "19\n",
      "ENCFF122CSI.bed.gz\n",
      "ENCFF135ZLM.bed.gz\n",
      "ENCFF148UQI.bed.gz\n",
      "ENCFF193ERO.bed.gz\n",
      "ENCFF209OQD.bed.gz\n",
      "ENCFF213OTI.bed.gz\n",
      "ENCFF323WOT.bed.gz\n",
      "ENCFF462AVD.bed.gz\n",
      "ENCFF540NGG.bed.gz\n",
      "ENCFF544LXB.bed.gz\n",
      "ENCFF561OUZ.bed.gz\n",
      "ENCFF689QIJ.bed.gz\n",
      "ENCFF706WUF.bed.gz\n",
      "ENCFF749KLQ.bed.gz\n",
      "ENCFF801AHF.bed.gz\n",
      "ENCFF885FQN.bed.gz\n",
      "ENCFF891CHI.bed.gz\n",
      "ENCFF909RKY.bed.gz\n",
      "ENCFF963GZJ.bed.gz\n"
     ]
    }
   ],
   "source": [
    "FDIRY=${FD_DAT}/external/${REGION_FOLDER_DAT}/region_narrowPeak\n",
    "\n",
    "echo ${FDIRY}\n",
    "ls   ${FDIRY}/*.bed.gz | wc -l\n",
    "ls   ${FDIRY}/*.bed.gz | xargs -n 1 basename"
   ]
  },
  {
   "cell_type": "code",
   "execution_count": 6,
   "id": "c26b9dea-5440-44d8-aa07-5751e67ea14b",
   "metadata": {},
   "outputs": [
    {
     "name": "stdout",
     "output_type": "stream",
     "text": [
      "chr1\t100036789\t100037192\tPeak_17399\t250\t.\t8.03489\t25.00575\t22.50131\t208\n",
      "chr1\t100037429\t100039302\tPeak_3318\t1000\t.\t20.81212\t122.65933\t118.96193\t861\n",
      "chr1\t100049537\t100049764\tPeak_142494\t43\t.\t3.45416\t4.33257\t2.45926\t16\n",
      "chr1\t10005813\t10005968\tPeak_142495\t43\t.\t3.45416\t4.33257\t2.45926\t135\n",
      "chr1\t100064740\t100064990\tPeak_81885\t64\t.\t4.52586\t6.41818\t4.37584\t118\n",
      "chr1\t100132263\t100134079\tPeak_3836\t1000\t.\t19.85187\t115.72178\t112.11715\t495\n",
      "chr1\t100248742\t100249893\tPeak_1109\t1000\t.\t37.83720\t168.92155\t164.59120\t845\n",
      "chr1\t100265488\t100267236\tPeak_5461\t974\t.\t13.71470\t97.44978\t94.07813\t933\n",
      "chr1\t1002870\t1003877\tPeak_26394\t151\t.\t6.39187\t15.12382\t12.78725\t716\n",
      "chr1\t100299841\t100300073\tPeak_74576\t68\t.\t4.23764\t6.87195\t4.80571\t134\n"
     ]
    }
   ],
   "source": [
    "FDIRY=${FD_DAT}/external/${REGION_FOLDER_DAT}/region_narrowPeak\n",
    "FNAME=ENCFF148UQI.bed.gz\n",
    "FPATH=${FDIRY}/${FNAME}\n",
    "zcat ${FPATH} | head"
   ]
  },
  {
   "cell_type": "markdown",
   "id": "70bb75c7-78cc-4805-a09f-f2c6d2fa8203",
   "metadata": {
    "tags": []
   },
   "source": [
    "## Execute\n",
    "**Copy and sort the files**\n",
    "```\n",
    "ln -s file link\n",
    "zcat ${FP_INP} | sort -k 1,1 -k2,2n | gzip -c > ${FP_OUT}\n",
    "```"
   ]
  },
  {
   "cell_type": "code",
   "execution_count": 16,
   "id": "bb2078c3-f2cf-4a5b-a234-f626412f818e",
   "metadata": {
    "tags": []
   },
   "outputs": [
    {
     "name": "stdout",
     "output_type": "stream",
     "text": [
      "ENCFF122CSI.bed.gz\n",
      "ENCFF135ZLM.bed.gz\n",
      "ENCFF148UQI.bed.gz\n",
      "ENCFF193ERO.bed.gz\n",
      "ENCFF209OQD.bed.gz\n",
      "ENCFF213OTI.bed.gz\n",
      "ENCFF323WOT.bed.gz\n",
      "ENCFF462AVD.bed.gz\n",
      "ENCFF540NGG.bed.gz\n",
      "ENCFF544LXB.bed.gz\n",
      "ENCFF561OUZ.bed.gz\n",
      "ENCFF689QIJ.bed.gz\n",
      "ENCFF706WUF.bed.gz\n",
      "ENCFF749KLQ.bed.gz\n",
      "ENCFF801AHF.bed.gz\n",
      "ENCFF885FQN.bed.gz\n",
      "ENCFF891CHI.bed.gz\n",
      "ENCFF909RKY.bed.gz\n",
      "ENCFF963GZJ.bed.gz\n"
     ]
    }
   ],
   "source": [
    "### set directory\n",
    "FD_INP=${FD_DAT}/external/${REGION_FOLDER_DAT}/region_narrowPeak\n",
    "FD_OUT=${FD_RES}/region/${REGION_FOLDER_RES}\n",
    "mkdir -p ${FD_OUT}\n",
    "\n",
    "### loop and generate sorted files\n",
    "FP_INPS=($(ls ${FD_INP}/*bed.gz))\n",
    "for FP_INP in ${FP_INPS[@]}; do\n",
    "    ### get input file name\n",
    "    FN_INP=$(basename ${FP_INP})\n",
    "    echo ${FN_INP}\n",
    "    \n",
    "    ### set output file name\n",
    "    FN_OUT=${FN_INP}\n",
    "    FP_OUT=${FD_OUT}/${FN_OUT}\n",
    "    \n",
    "    ### sort and output to a new file\n",
    "    zcat ${FP_INP} | sort -k 1,1 -k2,2n | gzip -c > ${FP_OUT}\n",
    "done"
   ]
  },
  {
   "cell_type": "markdown",
   "id": "02f9bfae-2d8f-45e6-b610-1ea1e0d2f928",
   "metadata": {},
   "source": [
    "**Copy metadata**"
   ]
  },
  {
   "cell_type": "code",
   "execution_count": 9,
   "id": "917866cb-98ed-468e-bf25-0c9b6d36dc2b",
   "metadata": {},
   "outputs": [
    {
     "name": "stdout",
     "output_type": "stream",
     "text": [
      "/data/reddylab/Kuei/repo/Proj_ENCODE_FCC/data/external/encode_chipseq_histone_250120/region_narrowPeak/metadata.tsv\n"
     ]
    }
   ],
   "source": [
    "### set directory\n",
    "FD_INP=${FD_DAT}/external/${REGION_FOLDER_DAT}/region_narrowPeak\n",
    "FD_OUT=${FD_RES}/region/${REGION_FOLDER_RES}/summary\n",
    "mkdir -p ${FD_OUT}\n",
    "\n",
    "###\n",
    "ls ${FD_INP}/metadata.tsv\n",
    "cp ${FD_INP}/metadata.tsv ${FD_OUT}/metadata.tsv"
   ]
  },
  {
   "cell_type": "markdown",
   "id": "58c703a3-8183-4a73-b10b-64c30a10d0e4",
   "metadata": {},
   "source": [
    "## Review"
   ]
  },
  {
   "cell_type": "markdown",
   "id": "5f25da8d-fa53-4332-af8a-ff8c253b0d8b",
   "metadata": {},
   "source": [
    "**Check output files**"
   ]
  },
  {
   "cell_type": "code",
   "execution_count": 10,
   "id": "b7d3b582-dda3-4e4d-965a-47c21983ba1c",
   "metadata": {},
   "outputs": [
    {
     "name": "stdout",
     "output_type": "stream",
     "text": [
      "ENCFF122CSI.bed.gz\n",
      "ENCFF135ZLM.bed.gz\n",
      "ENCFF148UQI.bed.gz\n",
      "ENCFF193ERO.bed.gz\n",
      "ENCFF209OQD.bed.gz\n",
      "ENCFF213OTI.bed.gz\n",
      "ENCFF323WOT.bed.gz\n",
      "ENCFF462AVD.bed.gz\n",
      "ENCFF540NGG.bed.gz\n",
      "ENCFF544LXB.bed.gz\n",
      "ENCFF561OUZ.bed.gz\n",
      "ENCFF689QIJ.bed.gz\n",
      "ENCFF706WUF.bed.gz\n",
      "ENCFF749KLQ.bed.gz\n",
      "ENCFF801AHF.bed.gz\n",
      "ENCFF885FQN.bed.gz\n",
      "ENCFF891CHI.bed.gz\n",
      "ENCFF909RKY.bed.gz\n",
      "ENCFF963GZJ.bed.gz\n"
     ]
    }
   ],
   "source": [
    "### set directory\n",
    "FD_INP=${FD_DAT}/external/${REGION_FOLDER_DAT}/region_narrowPeak\n",
    "FD_OUT=${FD_RES}/region/${REGION_FOLDER_RES}/\n",
    "\n",
    "ls -1 ${FD_OUT}/*.bed.gz | xargs -n 1 basename"
   ]
  },
  {
   "cell_type": "code",
   "execution_count": 11,
   "id": "cc996976-979f-4e9d-adc7-1493b34797b4",
   "metadata": {},
   "outputs": [
    {
     "name": "stdout",
     "output_type": "stream",
     "text": [
      "chr1\t100035996\t100036405\tPeak_23348\t63\t.\t3.98933\t6.37021\t4.27210\t233\n",
      "chr1\t100036685\t100039654\tPeak_4007\t1000\t.\t58.10942\t571.11139\t567.66040\t1640\n",
      "chr1\t100131924\t100134195\tPeak_5504\t1000\t.\t43.58243\t497.47467\t494.24628\t842\n",
      "chr1\t100248817\t100250176\tPeak_67\t1000\t.\t126.88165\t912.40326\t906.58197\t791\n",
      "chr1\t100265444\t100267279\tPeak_2692\t1000\t.\t52.96255\t643.15088\t639.43225\t1005\n",
      "chr1\t10032383\t10032660\tPeak_15319\t296\t.\t8.03387\t29.66819\t27.40563\t136\n",
      "chr1\t10032894\t10035748\tPeak_1033\t1000\t.\t63.18290\t751.14288\t746.85895\t484\n",
      "chr1\t100350792\t100354011\tPeak_2248\t1000\t.\t89.99366\t668.75806\t664.92468\t2475\n",
      "chr1\t10035799\t10036151\tPeak_16359\t221\t.\t8.02052\t22.18122\t19.95345\t178\n",
      "chr1\t100363088\t100364901\tPeak_10572\t1000\t.\t34.24813\t173.46451\t170.88153\t909\n"
     ]
    }
   ],
   "source": [
    "FDIRY=${FD_INP}\n",
    "FNAME=ENCFF122CSI.bed.gz\n",
    "FPATH=${FDIRY}/${FNAME}\n",
    "zcat ${FPATH} | head"
   ]
  },
  {
   "cell_type": "code",
   "execution_count": 12,
   "id": "e93c9a4b-fbcf-4671-a6cc-d3a1e8cca03f",
   "metadata": {},
   "outputs": [
    {
     "name": "stdout",
     "output_type": "stream",
     "text": [
      "chr1\t137633\t138169\tPeak_12165\t933\t.\t27.65562\t93.36147\t90.92577\t340\n",
      "chr1\t138355\t139639\tPeak_11436\t1000\t.\t34.56117\t125.43503\t122.93681\t1105\n",
      "chr1\t777524\t779517\tPeak_8984\t1000\t.\t37.83845\t281.30594\t278.54050\t1009\n",
      "chr1\t779548\t780064\tPeak_18128\t142\t.\t7.26780\t14.20008\t12.02068\t165\n",
      "chr1\t826539\t827913\tPeak_9649\t1000\t.\t55.93549\t234.42130\t231.73557\t895\n",
      "chr1\t903939\t905007\tPeak_12342\t864\t.\t23.00623\t86.46342\t84.04183\t651\n",
      "chr1\t905089\t905431\tPeak_16314\t225\t.\t7.46203\t22.55154\t20.32200\t132\n",
      "chr1\t923801\t925695\tPeak_13322\t594\t.\t18.20666\t59.49374\t57.13548\t408\n",
      "chr1\t940312\t940899\tPeak_14365\t406\t.\t12.27774\t40.68121\t38.37808\t272\n",
      "chr1\t941307\t941988\tPeak_17047\t186\t.\t8.26568\t18.64017\t16.43216\t512\n"
     ]
    }
   ],
   "source": [
    "FDIRY=${FD_OUT}\n",
    "FNAME=ENCFF122CSI.bed.gz\n",
    "FPATH=${FDIRY}/${FNAME}\n",
    "zcat ${FPATH} | head"
   ]
  },
  {
   "cell_type": "code",
   "execution_count": null,
   "id": "6d550415-122d-4f23-9135-e89bbd95b4f4",
   "metadata": {},
   "outputs": [],
   "source": []
  }
 ],
 "metadata": {
  "kernelspec": {
   "display_name": "Bash",
   "language": "bash",
   "name": "bash"
  },
  "language_info": {
   "codemirror_mode": "shell",
   "file_extension": ".sh",
   "mimetype": "text/x-sh",
   "name": "bash"
  }
 },
 "nbformat": 4,
 "nbformat_minor": 5
}
