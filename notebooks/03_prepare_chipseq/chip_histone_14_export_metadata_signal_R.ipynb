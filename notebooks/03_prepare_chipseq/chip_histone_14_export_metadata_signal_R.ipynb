{
 "cells": [
  {
   "cell_type": "raw",
   "id": "234a8c65-e1a5-4b31-9dc6-39f7ed372a8c",
   "metadata": {},
   "source": [
    "---\n",
    "title: Prepare ENCODE ChIP-seq Histone 14\n",
    "subtitle: Create metadata table of signal\n",
    "format:\n",
    "    html:\n",
    "        code-fold:  true\n",
    "        code-tools: true\n",
    "---"
   ]
  },
  {
   "cell_type": "markdown",
   "id": "63fd6c65-59fc-479a-b218-972b75e90c9f",
   "metadata": {},
   "source": [
    "**Set environment**"
   ]
  },
  {
   "cell_type": "code",
   "execution_count": 1,
   "id": "b254d2a5-32b9-45a5-871d-23ddd72f0842",
   "metadata": {},
   "outputs": [
    {
     "name": "stdout",
     "output_type": "stream",
     "text": [
      "You are working on        Singularity: singularity_proj_encode_fcc \n",
      "BASE DIRECTORY (FD_BASE): /data/reddylab/Kuei \n",
      "REPO DIRECTORY (FD_REPO): /data/reddylab/Kuei/repo \n",
      "WORK DIRECTORY (FD_WORK): /data/reddylab/Kuei/work \n",
      "DATA DIRECTORY (FD_DATA): /data/reddylab/Kuei/data \n",
      "\n",
      "You are working with      ENCODE FCC \n",
      "PATH OF PROJECT (FD_PRJ): /data/reddylab/Kuei/repo/Proj_ENCODE_FCC \n",
      "PROJECT RESULTS (FD_RES): /data/reddylab/Kuei/repo/Proj_ENCODE_FCC/results \n",
      "PROJECT SCRIPTS (FD_EXE): /data/reddylab/Kuei/repo/Proj_ENCODE_FCC/scripts \n",
      "PROJECT DATA    (FD_DAT): /data/reddylab/Kuei/repo/Proj_ENCODE_FCC/data \n",
      "PROJECT NOTE    (FD_NBK): /data/reddylab/Kuei/repo/Proj_ENCODE_FCC/notebooks \n",
      "PROJECT DOCS    (FD_DOC): /data/reddylab/Kuei/repo/Proj_ENCODE_FCC/docs \n",
      "PROJECT LOG     (FD_LOG): /data/reddylab/Kuei/repo/Proj_ENCODE_FCC/log \n",
      "PROJECT REF     (FD_REF): /data/reddylab/Kuei/repo/Proj_ENCODE_FCC/references \n",
      "\n"
     ]
    }
   ],
   "source": [
    "suppressMessages(suppressWarnings(source(\"../run_config_project_sing.R\")))\n",
    "show_env()"
   ]
  },
  {
   "cell_type": "markdown",
   "id": "97ce541f-9b0b-42fe-b38e-56f142ad4572",
   "metadata": {},
   "source": [
    "**Set global variables**"
   ]
  },
  {
   "cell_type": "code",
   "execution_count": 2,
   "id": "a847fd69-683a-48de-b7c6-5a63d8db5ee5",
   "metadata": {},
   "outputs": [],
   "source": [
    "TXT_FOLDER_DATA   = \"encode_chipseq_histone_250120\"\n",
    "TXT_FOLDER_REGION = \"encode_chipseq_histone\""
   ]
  },
  {
   "cell_type": "code",
   "execution_count": 3,
   "id": "d9519449-13be-4926-9225-8eaec014df40",
   "metadata": {},
   "outputs": [
    {
     "name": "stdout",
     "output_type": "stream",
     "text": [
      "checksum_md5sum.txt \n",
      "checksum_results.txt \n",
      "ENCFF139KZL.bigWig \n",
      "ENCFF242ENK.bigWig \n",
      "ENCFF253TOF.bigWig \n",
      "ENCFF286WRJ.bigWig \n",
      "ENCFF317VHO.bigWig \n",
      "ENCFF347YYH.bigWig \n",
      "ENCFF381NDD.bigWig \n",
      "ENCFF399SGM.bigWig \n",
      "ENCFF544AVW.bigWig \n",
      "ENCFF583BKU.bigWig \n",
      "ENCFF601JGK.bigWig \n",
      "ENCFF605FAF.bigWig \n",
      "ENCFF607SUJ.bigWig \n",
      "ENCFF621DJP.bigWig \n",
      "ENCFF654SLZ.bigWig \n",
      "ENCFF660WUG.bigWig \n",
      "ENCFF806YEZ.bigWig \n",
      "ENCFF911JVK.bigWig \n",
      "ENCFF959YJV.bigWig \n",
      "files.txt \n",
      "metadata.tsv \n",
      "summary \n"
     ]
    }
   ],
   "source": [
    "txt_fdiry = file.path(FD_DAT, \"external\", TXT_FOLDER_DATA, \"signal_fold_change\")\n",
    "vec = dir(txt_fdiry)\n",
    "for(txt in vec){cat(txt, \"\\n\")}"
   ]
  },
  {
   "cell_type": "code",
   "execution_count": 4,
   "id": "463d98f6-97fa-4af8-859a-c9d69942d848",
   "metadata": {},
   "outputs": [
    {
     "name": "stdout",
     "output_type": "stream",
     "text": [
      "checksum_md5sum.txt \n",
      "checksum_results.txt \n",
      "ENCFF139KZL.bigWig \n",
      "ENCFF242ENK.bigWig \n",
      "ENCFF253TOF.bigWig \n",
      "ENCFF286WRJ.bigWig \n",
      "ENCFF317VHO.bigWig \n",
      "ENCFF347YYH.bigWig \n",
      "ENCFF381NDD.bigWig \n",
      "ENCFF399SGM.bigWig \n",
      "ENCFF544AVW.bigWig \n",
      "ENCFF583BKU.bigWig \n",
      "ENCFF601JGK.bigWig \n",
      "ENCFF605FAF.bigWig \n",
      "ENCFF607SUJ.bigWig \n",
      "ENCFF621DJP.bigWig \n",
      "ENCFF654SLZ.bigWig \n",
      "ENCFF660WUG.bigWig \n",
      "ENCFF806YEZ.bigWig \n",
      "ENCFF911JVK.bigWig \n",
      "ENCFF959YJV.bigWig \n",
      "files.txt \n",
      "metadata.tsv \n",
      "summary \n"
     ]
    }
   ],
   "source": [
    "txt_fdiry = file.path(FD_RES, \"assay_chipseq\", TXT_FOLDER_REGION, \"signal_fold_change\")\n",
    "vec = dir(txt_fdiry)\n",
    "for(txt in vec){cat(txt, \"\\n\")}"
   ]
  },
  {
   "cell_type": "markdown",
   "id": "4cbfe847-1721-4b5c-a998-cc049b88efee",
   "metadata": {},
   "source": [
    "## Import metadata"
   ]
  },
  {
   "cell_type": "code",
   "execution_count": 5,
   "id": "431b2a33-26a5-4a79-b1d9-18232087f7d3",
   "metadata": {},
   "outputs": [
    {
     "name": "stdout",
     "output_type": "stream",
     "text": [
      "[1] 19 13\n"
     ]
    },
    {
     "data": {
      "text/html": [
       "<table>\n",
       " <thead>\n",
       "  <tr>\n",
       "   <th style=\"text-align:left;\"> Assay </th>\n",
       "   <th style=\"text-align:left;\"> Index_Experiment </th>\n",
       "   <th style=\"text-align:left;\"> Index_File </th>\n",
       "   <th style=\"text-align:left;\"> File_Format </th>\n",
       "   <th style=\"text-align:left;\"> File_Type </th>\n",
       "   <th style=\"text-align:left;\"> Output_Type </th>\n",
       "   <th style=\"text-align:left;\"> Genome </th>\n",
       "   <th style=\"text-align:left;\"> Target </th>\n",
       "   <th style=\"text-align:left;\"> Bio_Replicates </th>\n",
       "   <th style=\"text-align:left;\"> Analysis </th>\n",
       "   <th style=\"text-align:left;\"> md5sum </th>\n",
       "   <th style=\"text-align:left;\"> File_Name </th>\n",
       "   <th style=\"text-align:left;\"> File_URL </th>\n",
       "  </tr>\n",
       " </thead>\n",
       "<tbody>\n",
       "  <tr>\n",
       "   <td style=\"text-align:left;\"> Histone ChIP-seq </td>\n",
       "   <td style=\"text-align:left;\"> ENCSR000APD </td>\n",
       "   <td style=\"text-align:left;\"> ENCFF544AVW </td>\n",
       "   <td style=\"text-align:left;\"> bigWig </td>\n",
       "   <td style=\"text-align:left;\"> bigWig </td>\n",
       "   <td style=\"text-align:left;\"> fold change over control </td>\n",
       "   <td style=\"text-align:left;\"> GRCh38 </td>\n",
       "   <td style=\"text-align:left;\"> H3K79me2 </td>\n",
       "   <td style=\"text-align:left;\"> 1, 2, 3 </td>\n",
       "   <td style=\"text-align:left;\"> ENCODE4 v1.8.0 GRCh38 </td>\n",
       "   <td style=\"text-align:left;\"> 61dc50179ae8d880b972c3697a6a2fc2 </td>\n",
       "   <td style=\"text-align:left;\"> ENCFF544AVW.bigWig </td>\n",
       "   <td style=\"text-align:left;\"> https://www.encodeproject.org/files/ENCFF544AVW/@@download/ENCFF544AVW.bigWig </td>\n",
       "  </tr>\n",
       "  <tr>\n",
       "   <td style=\"text-align:left;\"> Histone ChIP-seq </td>\n",
       "   <td style=\"text-align:left;\"> ENCSR000AKV </td>\n",
       "   <td style=\"text-align:left;\"> ENCFF286WRJ </td>\n",
       "   <td style=\"text-align:left;\"> bigWig </td>\n",
       "   <td style=\"text-align:left;\"> bigWig </td>\n",
       "   <td style=\"text-align:left;\"> fold change over control </td>\n",
       "   <td style=\"text-align:left;\"> GRCh38 </td>\n",
       "   <td style=\"text-align:left;\"> H3K9ac </td>\n",
       "   <td style=\"text-align:left;\"> 1, 2 </td>\n",
       "   <td style=\"text-align:left;\"> ENCODE4 v1.6.1 GRCh38 </td>\n",
       "   <td style=\"text-align:left;\"> ccd7b8c413fdb998ffd799ec52dd5098 </td>\n",
       "   <td style=\"text-align:left;\"> ENCFF286WRJ.bigWig </td>\n",
       "   <td style=\"text-align:left;\"> https://www.encodeproject.org/files/ENCFF286WRJ/@@download/ENCFF286WRJ.bigWig </td>\n",
       "  </tr>\n",
       "  <tr>\n",
       "   <td style=\"text-align:left;\"> Histone ChIP-seq </td>\n",
       "   <td style=\"text-align:left;\"> ENCSR000APC </td>\n",
       "   <td style=\"text-align:left;\"> ENCFF621DJP </td>\n",
       "   <td style=\"text-align:left;\"> bigWig </td>\n",
       "   <td style=\"text-align:left;\"> bigWig </td>\n",
       "   <td style=\"text-align:left;\"> fold change over control </td>\n",
       "   <td style=\"text-align:left;\"> GRCh38 </td>\n",
       "   <td style=\"text-align:left;\"> H2AFZ </td>\n",
       "   <td style=\"text-align:left;\"> 1, 2 </td>\n",
       "   <td style=\"text-align:left;\"> ENCODE4 v1.6.0 GRCh38 </td>\n",
       "   <td style=\"text-align:left;\"> 3492c0e4a64e29231558f9e1e2fe520e </td>\n",
       "   <td style=\"text-align:left;\"> ENCFF621DJP.bigWig </td>\n",
       "   <td style=\"text-align:left;\"> https://www.encodeproject.org/files/ENCFF621DJP/@@download/ENCFF621DJP.bigWig </td>\n",
       "  </tr>\n",
       "</tbody>\n",
       "</table>"
      ]
     },
     "metadata": {},
     "output_type": "display_data"
    }
   ],
   "source": [
    "### set file directory\n",
    "txt_fdiry = file.path(FD_RES, \"assay_chipseq\", TXT_FOLDER_REGION, \"signal_fold_change\")\n",
    "txt_fname = \"metadata.tsv\"\n",
    "txt_fpath = file.path(txt_fdiry, txt_fname)\n",
    "\n",
    "### read table\n",
    "dat = read_tsv(txt_fpath, show_col_types = FALSE)\n",
    "\n",
    "### assign and show\n",
    "dat_metadata_info = dat\n",
    "print(dim(dat))\n",
    "fun_display_table(head(dat, 3))"
   ]
  },
  {
   "cell_type": "markdown",
   "id": "d48b7335-a9ac-474c-802c-416016ce0adb",
   "metadata": {},
   "source": [
    "**Check data**"
   ]
  },
  {
   "cell_type": "code",
   "execution_count": 6,
   "id": "a62f82c4-f62a-497a-a4a8-81468373c1cc",
   "metadata": {},
   "outputs": [
    {
     "data": {
      "text/html": [
       "TRUE"
      ],
      "text/latex": [
       "TRUE"
      ],
      "text/markdown": [
       "TRUE"
      ],
      "text/plain": [
       "[1] TRUE"
      ]
     },
     "metadata": {},
     "output_type": "display_data"
    }
   ],
   "source": [
    "### get file name from the folder\n",
    "txt_fdiry = file.path(FD_RES, \"assay_chipseq\", TXT_FOLDER_REGION, \"signal_fold_change\")\n",
    "txt_fname = \"*.bigWig\"\n",
    "txt_fglob = file.path(txt_fdiry, txt_fname)\n",
    "\n",
    "vec_txt_fpath = Sys.glob(txt_fglob)\n",
    "vec_txt_fname = basename(vec_txt_fpath)\n",
    "\n",
    "vec1 = sort(vec_txt_fname)\n",
    "\n",
    "### get file name from the table\n",
    "dat = dat_metadata_info\n",
    "vec = dat$File_Name\n",
    "\n",
    "vec2 = sort(vec)\n",
    "\n",
    "### check if matched in metadata\n",
    "all(vec1 == vec2)"
   ]
  },
  {
   "cell_type": "markdown",
   "id": "420a618d-5a90-48b1-8fec-eb94849d7962",
   "metadata": {},
   "source": [
    "## Arrange label"
   ]
  },
  {
   "cell_type": "code",
   "execution_count": 7,
   "id": "c5e4050c-51a8-45a8-8202-f1cf0e248b1d",
   "metadata": {},
   "outputs": [
    {
     "name": "stdout",
     "output_type": "stream",
     "text": [
      "[1] 19  4\n"
     ]
    },
    {
     "data": {
      "text/html": [
       "<table>\n",
       " <thead>\n",
       "  <tr>\n",
       "   <th style=\"text-align:left;\"> Folder </th>\n",
       "   <th style=\"text-align:left;\"> FName </th>\n",
       "   <th style=\"text-align:left;\"> Label </th>\n",
       "   <th style=\"text-align:left;\"> FPath </th>\n",
       "  </tr>\n",
       " </thead>\n",
       "<tbody>\n",
       "  <tr>\n",
       "   <td style=\"text-align:left;\"> encode_chipseq_histone </td>\n",
       "   <td style=\"text-align:left;\"> ENCFF544AVW.bigWig </td>\n",
       "   <td style=\"text-align:left;\"> encode_chipseq_H3K79me2_ENCFF544AVW </td>\n",
       "   <td style=\"text-align:left;\"> /data/reddylab/Kuei/repo/Proj_ENCODE_FCC/results/assay_chipseq/encode_chipseq_histone/signal_fold_change/ENCFF544AVW.bigWig </td>\n",
       "  </tr>\n",
       "  <tr>\n",
       "   <td style=\"text-align:left;\"> encode_chipseq_histone </td>\n",
       "   <td style=\"text-align:left;\"> ENCFF286WRJ.bigWig </td>\n",
       "   <td style=\"text-align:left;\"> encode_chipseq_H3K9ac_ENCFF286WRJ </td>\n",
       "   <td style=\"text-align:left;\"> /data/reddylab/Kuei/repo/Proj_ENCODE_FCC/results/assay_chipseq/encode_chipseq_histone/signal_fold_change/ENCFF286WRJ.bigWig </td>\n",
       "  </tr>\n",
       "  <tr>\n",
       "   <td style=\"text-align:left;\"> encode_chipseq_histone </td>\n",
       "   <td style=\"text-align:left;\"> ENCFF621DJP.bigWig </td>\n",
       "   <td style=\"text-align:left;\"> encode_chipseq_H2AFZ_ENCFF621DJP </td>\n",
       "   <td style=\"text-align:left;\"> /data/reddylab/Kuei/repo/Proj_ENCODE_FCC/results/assay_chipseq/encode_chipseq_histone/signal_fold_change/ENCFF621DJP.bigWig </td>\n",
       "  </tr>\n",
       "</tbody>\n",
       "</table>"
      ]
     },
     "metadata": {},
     "output_type": "display_data"
    }
   ],
   "source": [
    "### get file name and generate label for each file\n",
    "txt_fdiry = file.path(FD_RES, \"assay_chipseq\", TXT_FOLDER_REGION, \"signal_fold_change\")\n",
    "\n",
    "dat = dat_metadata_info\n",
    "dat = dat %>% \n",
    "    dplyr::mutate(\n",
    "        Folder = TXT_FOLDER_REGION,\n",
    "        FName  = File_Name,\n",
    "        Label  = paste(\"encode_chipseq\", Target, Index_File, sep = \"_\"),\n",
    "        FPath  = file.path(txt_fdiry, File_Name)\n",
    "    ) %>%\n",
    "    dplyr::select(Folder, FName, Label, FPath)\n",
    "\n",
    "### assign and show\n",
    "dat_region_label = dat\n",
    "print(dim(dat))\n",
    "fun_display_table(head(dat, 3))"
   ]
  },
  {
   "cell_type": "markdown",
   "id": "5c90aa27-a1aa-41ae-8739-e6be5e00a2bb",
   "metadata": {},
   "source": [
    "## Save results"
   ]
  },
  {
   "cell_type": "code",
   "execution_count": 8,
   "id": "2ab4f73d-7780-4451-b56b-c49582b68764",
   "metadata": {},
   "outputs": [],
   "source": [
    "### set file directory\n",
    "txt_folder = TXT_FOLDER_REGION\n",
    "txt_fdiry = file.path(FD_RES, \"assay_chipseq\", TXT_FOLDER_REGION, \"signal_fold_change\", \"summary\")\n",
    "txt_fname  = \"metadata.label.tsv\"\n",
    "txt_fpath  = file.path(txt_fdiry, txt_fname)\n",
    "\n",
    "### write table\n",
    "dir.create(txt_fdiry, showWarnings = FALSE)\n",
    "dat = dat_region_label\n",
    "write_tsv(dat, txt_fpath)"
   ]
  },
  {
   "cell_type": "code",
   "execution_count": null,
   "id": "943a125b-3b17-49bc-9e6a-535c61283371",
   "metadata": {},
   "outputs": [],
   "source": []
  }
 ],
 "metadata": {
  "kernelspec": {
   "display_name": "R",
   "language": "R",
   "name": "ir"
  },
  "language_info": {
   "codemirror_mode": "r",
   "file_extension": ".r",
   "mimetype": "text/x-r-source",
   "name": "R",
   "pygments_lexer": "r",
   "version": "4.4.2"
  }
 },
 "nbformat": 4,
 "nbformat_minor": 5
}
