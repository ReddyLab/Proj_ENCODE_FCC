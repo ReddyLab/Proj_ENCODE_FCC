{
 "cells": [
  {
   "cell_type": "raw",
   "id": "cf6e39d0-eaac-4d88-ab15-b30374272b12",
   "metadata": {},
   "source": [
    "---\n",
    "title: Prepare ENCODE ChIP-seq TF 03\n",
    "subtitle: Check download files\n",
    "format:\n",
    "    html:\n",
    "        code-fold:  true\n",
    "        code-tools: true\n",
    "---"
   ]
  },
  {
   "cell_type": "markdown",
   "id": "4d354b88-64a6-4d20-aa3e-6e0abf1a8838",
   "metadata": {},
   "source": [
    "**Set environment**"
   ]
  },
  {
   "cell_type": "code",
   "execution_count": 1,
   "id": "1b69daae-137b-4331-aacc-a655c465bca2",
   "metadata": {},
   "outputs": [
    {
     "name": "stdout",
     "output_type": "stream",
     "text": [
      "You are working on        Singularity: singularity_proj_encode_fcc \n",
      "BASE DIRECTORY (FD_BASE): /data/reddylab/Kuei \n",
      "REPO DIRECTORY (FD_REPO): /data/reddylab/Kuei/repo \n",
      "WORK DIRECTORY (FD_WORK): /data/reddylab/Kuei/work \n",
      "DATA DIRECTORY (FD_DATA): /data/reddylab/Kuei/data \n",
      "\n",
      "You are working with      ENCODE FCC \n",
      "PATH OF PROJECT (FD_PRJ): /data/reddylab/Kuei/repo/Proj_ENCODE_FCC \n",
      "PROJECT RESULTS (FD_RES): /data/reddylab/Kuei/repo/Proj_ENCODE_FCC/results \n",
      "PROJECT SCRIPTS (FD_EXE): /data/reddylab/Kuei/repo/Proj_ENCODE_FCC/scripts \n",
      "PROJECT DATA    (FD_DAT): /data/reddylab/Kuei/repo/Proj_ENCODE_FCC/data \n",
      "PROJECT NOTE    (FD_NBK): /data/reddylab/Kuei/repo/Proj_ENCODE_FCC/notebooks \n",
      "PROJECT DOCS    (FD_DOC): /data/reddylab/Kuei/repo/Proj_ENCODE_FCC/docs \n",
      "PROJECT LOG     (FD_LOG): /data/reddylab/Kuei/repo/Proj_ENCODE_FCC/log \n",
      "PROJECT REF     (FD_REF): /data/reddylab/Kuei/repo/Proj_ENCODE_FCC/references \n",
      "\n"
     ]
    }
   ],
   "source": [
    "suppressMessages(suppressWarnings(source(\"../run_config_project_sing.R\")))\n",
    "show_env()"
   ]
  },
  {
   "cell_type": "markdown",
   "id": "4ed52dd6-41a4-4799-a5f8-ab52b4edadd2",
   "metadata": {},
   "source": [
    "**Set global variables**"
   ]
  },
  {
   "cell_type": "code",
   "execution_count": 2,
   "id": "bef19599-ac23-40eb-9d79-f6c405f5e493",
   "metadata": {},
   "outputs": [],
   "source": [
    "TXT_FOLDER_INP = \"encode_chipseq_tf\"\n",
    "TXT_FOLDER_OUT = \"encode_chipseq_tf_250120\""
   ]
  },
  {
   "cell_type": "markdown",
   "id": "bb66d57e-0891-4cb9-8f86-f811eff529d0",
   "metadata": {},
   "source": [
    "## Import data"
   ]
  },
  {
   "cell_type": "code",
   "execution_count": 3,
   "id": "fe641638-7cf1-4b64-8422-12db440947f9",
   "metadata": {},
   "outputs": [],
   "source": [
    "### set file path\n",
    "txt_foldr = TXT_FOLDER_OUT\n",
    "txt_fdiry = file.path(FD_DAT, \"external\", txt_foldr)\n",
    "\n",
    "### get file directory\n",
    "vec_txt_foldr = dir(txt_fdiry)\n",
    "vec_txt_fdiry = file.path(txt_fdiry, vec_txt_foldr)"
   ]
  },
  {
   "cell_type": "markdown",
   "id": "591ee976-bb11-4bca-8f6f-dba4cc91a891",
   "metadata": {},
   "source": [
    "**Get all downloaded files**"
   ]
  },
  {
   "cell_type": "code",
   "execution_count": 5,
   "id": "f5b817f2-30be-44f5-928a-d7cf1d57b851",
   "metadata": {},
   "outputs": [
    {
     "name": "stdout",
     "output_type": "stream",
     "text": [
      "$metadata.merged.tsv\n",
      "character(0)\n",
      "\n",
      "$region_narrowPeak\n",
      "[1] \"ENCFF003LPE.bed.gz\" \"ENCFF004HXL.bed.gz\" \"ENCFF004YCK.bed.gz\"\n",
      "[4] \"ENCFF005MBI.bed.gz\" \"ENCFF009RFC.bed.gz\" \"ENCFF014HYS.bed.gz\"\n",
      "\n",
      "$signal_fold_change\n",
      "[1] \"ENCFF002KIE.bigWig\" \"ENCFF002MEK.bigWig\" \"ENCFF003ZRP.bigWig\"\n",
      "[4] \"ENCFF004SID.bigWig\" \"ENCFF007JMV.bigWig\" \"ENCFF013BKC.bigWig\"\n",
      "\n",
      "$signal_pvalue\n",
      "[1] \"ENCFF003NIX.bigWig\" \"ENCFF004ZMA.bigWig\" \"ENCFF009TCA.bigWig\"\n",
      "[4] \"ENCFF010PUM.bigWig\" \"ENCFF013FTP.bigWig\" \"ENCFF013FZZ.bigWig\"\n",
      "\n"
     ]
    }
   ],
   "source": [
    "### get file names\n",
    "lst = lapply(vec_txt_fdiry, function(txt_fdiry){\n",
    "    vec = list.files(\n",
    "        path       = txt_fdiry,\n",
    "        pattern    = \"\\\\.(bigWig|bed\\\\.gz)$\", \n",
    "        full.names = FALSE,\n",
    "        recursive  = FALSE\n",
    "    )\n",
    "    return(vec)\n",
    "})\n",
    "names(lst) = vec_txt_foldr\n",
    "\n",
    "### assign and show\n",
    "lst_vec_txt_files = lst\n",
    "print(lapply(lst, head))"
   ]
  },
  {
   "cell_type": "markdown",
   "id": "0641a933-d2ce-4284-b2fc-f939ae773641",
   "metadata": {},
   "source": [
    "**Import metatable**"
   ]
  },
  {
   "cell_type": "code",
   "execution_count": 5,
   "id": "3ee010f1-4b6c-4f6d-841c-91345580a92c",
   "metadata": {},
   "outputs": [
    {
     "name": "stdout",
     "output_type": "stream",
     "text": [
      "region_narrowPeak \n"
     ]
    },
    {
     "data": {
      "text/html": [
       "<table>\n",
       " <thead>\n",
       "  <tr>\n",
       "   <th style=\"text-align:left;\"> Assay </th>\n",
       "   <th style=\"text-align:left;\"> Index_Experiment </th>\n",
       "   <th style=\"text-align:left;\"> Index_File </th>\n",
       "   <th style=\"text-align:left;\"> File_Format </th>\n",
       "   <th style=\"text-align:left;\"> File_Type </th>\n",
       "   <th style=\"text-align:left;\"> Output_Type </th>\n",
       "   <th style=\"text-align:left;\"> Genome </th>\n",
       "   <th style=\"text-align:left;\"> Target </th>\n",
       "   <th style=\"text-align:left;\"> Bio_Replicates </th>\n",
       "   <th style=\"text-align:left;\"> Analysis </th>\n",
       "   <th style=\"text-align:left;\"> Analysis_Version </th>\n",
       "   <th style=\"text-align:left;\"> md5sum </th>\n",
       "   <th style=\"text-align:left;\"> File_Name </th>\n",
       "   <th style=\"text-align:left;\"> File_URL </th>\n",
       "  </tr>\n",
       " </thead>\n",
       "<tbody>\n",
       "  <tr>\n",
       "   <td style=\"text-align:left;\"> TF ChIP-seq </td>\n",
       "   <td style=\"text-align:left;\"> ENCSR590FLL </td>\n",
       "   <td style=\"text-align:left;\"> ENCFF843NBV </td>\n",
       "   <td style=\"text-align:left;\"> bed narrowPeak </td>\n",
       "   <td style=\"text-align:left;\"> bed </td>\n",
       "   <td style=\"text-align:left;\"> IDR thresholded peaks </td>\n",
       "   <td style=\"text-align:left;\"> GRCh38 </td>\n",
       "   <td style=\"text-align:left;\"> ZNF347 </td>\n",
       "   <td style=\"text-align:left;\"> 1, 2 </td>\n",
       "   <td style=\"text-align:left;\"> ENCODE4 v1.4.0 GRCh38 </td>\n",
       "   <td style=\"text-align:left;\"> ENCODE4 </td>\n",
       "   <td style=\"text-align:left;\"> cab83f2be2220d6d328bd6566fc54d85 </td>\n",
       "   <td style=\"text-align:left;\"> ENCFF843NBV.bed.gz </td>\n",
       "   <td style=\"text-align:left;\"> https://www.encodeproject.org/files/ENCFF843NBV/@@download/ENCFF843NBV.bed.gz </td>\n",
       "  </tr>\n",
       "  <tr>\n",
       "   <td style=\"text-align:left;\"> TF ChIP-seq </td>\n",
       "   <td style=\"text-align:left;\"> ENCSR536CBU </td>\n",
       "   <td style=\"text-align:left;\"> ENCFF588CXX </td>\n",
       "   <td style=\"text-align:left;\"> bed narrowPeak </td>\n",
       "   <td style=\"text-align:left;\"> bed </td>\n",
       "   <td style=\"text-align:left;\"> IDR thresholded peaks </td>\n",
       "   <td style=\"text-align:left;\"> GRCh38 </td>\n",
       "   <td style=\"text-align:left;\"> ZBTB9 </td>\n",
       "   <td style=\"text-align:left;\"> 1, 2 </td>\n",
       "   <td style=\"text-align:left;\"> ENCODE4 v1.4.0 GRCh38 </td>\n",
       "   <td style=\"text-align:left;\"> ENCODE4 </td>\n",
       "   <td style=\"text-align:left;\"> c4faaf3e805d2fcfd7c9037fdb768174 </td>\n",
       "   <td style=\"text-align:left;\"> ENCFF588CXX.bed.gz </td>\n",
       "   <td style=\"text-align:left;\"> https://www.encodeproject.org/files/ENCFF588CXX/@@download/ENCFF588CXX.bed.gz </td>\n",
       "  </tr>\n",
       "  <tr>\n",
       "   <td style=\"text-align:left;\"> TF ChIP-seq </td>\n",
       "   <td style=\"text-align:left;\"> ENCSR436CZV </td>\n",
       "   <td style=\"text-align:left;\"> ENCFF142MJD </td>\n",
       "   <td style=\"text-align:left;\"> bed narrowPeak </td>\n",
       "   <td style=\"text-align:left;\"> bed </td>\n",
       "   <td style=\"text-align:left;\"> IDR thresholded peaks </td>\n",
       "   <td style=\"text-align:left;\"> GRCh38 </td>\n",
       "   <td style=\"text-align:left;\"> AFF4 </td>\n",
       "   <td style=\"text-align:left;\"> 1, 2 </td>\n",
       "   <td style=\"text-align:left;\"> ENCODE4 v1.8.0 GRCh38 </td>\n",
       "   <td style=\"text-align:left;\"> ENCODE4 </td>\n",
       "   <td style=\"text-align:left;\"> c8f76e772192439a7847dbbea9f73f40 </td>\n",
       "   <td style=\"text-align:left;\"> ENCFF142MJD.bed.gz </td>\n",
       "   <td style=\"text-align:left;\"> https://www.encodeproject.org/files/ENCFF142MJD/@@download/ENCFF142MJD.bed.gz </td>\n",
       "  </tr>\n",
       "</tbody>\n",
       "</table>"
      ]
     },
     "metadata": {},
     "output_type": "display_data"
    },
    {
     "name": "stdout",
     "output_type": "stream",
     "text": [
      "\n",
      "signal_fold_change \n"
     ]
    },
    {
     "data": {
      "text/html": [
       "<table>\n",
       " <thead>\n",
       "  <tr>\n",
       "   <th style=\"text-align:left;\"> Assay </th>\n",
       "   <th style=\"text-align:left;\"> Index_Experiment </th>\n",
       "   <th style=\"text-align:left;\"> Index_File </th>\n",
       "   <th style=\"text-align:left;\"> File_Format </th>\n",
       "   <th style=\"text-align:left;\"> File_Type </th>\n",
       "   <th style=\"text-align:left;\"> Output_Type </th>\n",
       "   <th style=\"text-align:left;\"> Genome </th>\n",
       "   <th style=\"text-align:left;\"> Target </th>\n",
       "   <th style=\"text-align:left;\"> Bio_Replicates </th>\n",
       "   <th style=\"text-align:left;\"> Analysis </th>\n",
       "   <th style=\"text-align:left;\"> Analysis_Version </th>\n",
       "   <th style=\"text-align:left;\"> md5sum </th>\n",
       "   <th style=\"text-align:left;\"> File_Name </th>\n",
       "   <th style=\"text-align:left;\"> File_URL </th>\n",
       "  </tr>\n",
       " </thead>\n",
       "<tbody>\n",
       "  <tr>\n",
       "   <td style=\"text-align:left;\"> TF ChIP-seq </td>\n",
       "   <td style=\"text-align:left;\"> ENCSR590FLL </td>\n",
       "   <td style=\"text-align:left;\"> ENCFF465ZAR </td>\n",
       "   <td style=\"text-align:left;\"> bigWig </td>\n",
       "   <td style=\"text-align:left;\"> bigWig </td>\n",
       "   <td style=\"text-align:left;\"> fold change over control </td>\n",
       "   <td style=\"text-align:left;\"> GRCh38 </td>\n",
       "   <td style=\"text-align:left;\"> ZNF347 </td>\n",
       "   <td style=\"text-align:left;\"> 1, 2 </td>\n",
       "   <td style=\"text-align:left;\"> ENCODE4 v1.4.0 GRCh38 </td>\n",
       "   <td style=\"text-align:left;\"> ENCODE4 </td>\n",
       "   <td style=\"text-align:left;\"> 9129c700630cd16e31a925d351562f14 </td>\n",
       "   <td style=\"text-align:left;\"> ENCFF465ZAR.bigWig </td>\n",
       "   <td style=\"text-align:left;\"> https://www.encodeproject.org/files/ENCFF465ZAR/@@download/ENCFF465ZAR.bigWig </td>\n",
       "  </tr>\n",
       "  <tr>\n",
       "   <td style=\"text-align:left;\"> TF ChIP-seq </td>\n",
       "   <td style=\"text-align:left;\"> ENCSR536CBU </td>\n",
       "   <td style=\"text-align:left;\"> ENCFF178FEN </td>\n",
       "   <td style=\"text-align:left;\"> bigWig </td>\n",
       "   <td style=\"text-align:left;\"> bigWig </td>\n",
       "   <td style=\"text-align:left;\"> fold change over control </td>\n",
       "   <td style=\"text-align:left;\"> GRCh38 </td>\n",
       "   <td style=\"text-align:left;\"> ZBTB9 </td>\n",
       "   <td style=\"text-align:left;\"> 1, 2 </td>\n",
       "   <td style=\"text-align:left;\"> ENCODE4 v1.4.0 GRCh38 </td>\n",
       "   <td style=\"text-align:left;\"> ENCODE4 </td>\n",
       "   <td style=\"text-align:left;\"> c3b03e05c986366373390283fe28381f </td>\n",
       "   <td style=\"text-align:left;\"> ENCFF178FEN.bigWig </td>\n",
       "   <td style=\"text-align:left;\"> https://www.encodeproject.org/files/ENCFF178FEN/@@download/ENCFF178FEN.bigWig </td>\n",
       "  </tr>\n",
       "  <tr>\n",
       "   <td style=\"text-align:left;\"> TF ChIP-seq </td>\n",
       "   <td style=\"text-align:left;\"> ENCSR436CZV </td>\n",
       "   <td style=\"text-align:left;\"> ENCFF040PTP </td>\n",
       "   <td style=\"text-align:left;\"> bigWig </td>\n",
       "   <td style=\"text-align:left;\"> bigWig </td>\n",
       "   <td style=\"text-align:left;\"> fold change over control </td>\n",
       "   <td style=\"text-align:left;\"> GRCh38 </td>\n",
       "   <td style=\"text-align:left;\"> AFF4 </td>\n",
       "   <td style=\"text-align:left;\"> 1, 2 </td>\n",
       "   <td style=\"text-align:left;\"> ENCODE4 v1.8.0 GRCh38 </td>\n",
       "   <td style=\"text-align:left;\"> ENCODE4 </td>\n",
       "   <td style=\"text-align:left;\"> ec5d483f39e417045f201e447c62bdca </td>\n",
       "   <td style=\"text-align:left;\"> ENCFF040PTP.bigWig </td>\n",
       "   <td style=\"text-align:left;\"> https://www.encodeproject.org/files/ENCFF040PTP/@@download/ENCFF040PTP.bigWig </td>\n",
       "  </tr>\n",
       "</tbody>\n",
       "</table>"
      ]
     },
     "metadata": {},
     "output_type": "display_data"
    },
    {
     "name": "stdout",
     "output_type": "stream",
     "text": [
      "\n",
      "signal_pvalue \n"
     ]
    },
    {
     "data": {
      "text/html": [
       "<table>\n",
       " <thead>\n",
       "  <tr>\n",
       "   <th style=\"text-align:left;\"> Assay </th>\n",
       "   <th style=\"text-align:left;\"> Index_Experiment </th>\n",
       "   <th style=\"text-align:left;\"> Index_File </th>\n",
       "   <th style=\"text-align:left;\"> File_Format </th>\n",
       "   <th style=\"text-align:left;\"> File_Type </th>\n",
       "   <th style=\"text-align:left;\"> Output_Type </th>\n",
       "   <th style=\"text-align:left;\"> Genome </th>\n",
       "   <th style=\"text-align:left;\"> Target </th>\n",
       "   <th style=\"text-align:left;\"> Bio_Replicates </th>\n",
       "   <th style=\"text-align:left;\"> Analysis </th>\n",
       "   <th style=\"text-align:left;\"> Analysis_Version </th>\n",
       "   <th style=\"text-align:left;\"> md5sum </th>\n",
       "   <th style=\"text-align:left;\"> File_Name </th>\n",
       "   <th style=\"text-align:left;\"> File_URL </th>\n",
       "  </tr>\n",
       " </thead>\n",
       "<tbody>\n",
       "  <tr>\n",
       "   <td style=\"text-align:left;\"> TF ChIP-seq </td>\n",
       "   <td style=\"text-align:left;\"> ENCSR590FLL </td>\n",
       "   <td style=\"text-align:left;\"> ENCFF563XMY </td>\n",
       "   <td style=\"text-align:left;\"> bigWig </td>\n",
       "   <td style=\"text-align:left;\"> bigWig </td>\n",
       "   <td style=\"text-align:left;\"> signal p-value </td>\n",
       "   <td style=\"text-align:left;\"> GRCh38 </td>\n",
       "   <td style=\"text-align:left;\"> ZNF347 </td>\n",
       "   <td style=\"text-align:left;\"> 1, 2 </td>\n",
       "   <td style=\"text-align:left;\"> ENCODE4 v1.4.0 GRCh38 </td>\n",
       "   <td style=\"text-align:left;\"> ENCODE4 </td>\n",
       "   <td style=\"text-align:left;\"> d01e3aa935f311f32991f796582632a6 </td>\n",
       "   <td style=\"text-align:left;\"> ENCFF563XMY.bigWig </td>\n",
       "   <td style=\"text-align:left;\"> https://www.encodeproject.org/files/ENCFF563XMY/@@download/ENCFF563XMY.bigWig </td>\n",
       "  </tr>\n",
       "  <tr>\n",
       "   <td style=\"text-align:left;\"> TF ChIP-seq </td>\n",
       "   <td style=\"text-align:left;\"> ENCSR536CBU </td>\n",
       "   <td style=\"text-align:left;\"> ENCFF547AGX </td>\n",
       "   <td style=\"text-align:left;\"> bigWig </td>\n",
       "   <td style=\"text-align:left;\"> bigWig </td>\n",
       "   <td style=\"text-align:left;\"> signal p-value </td>\n",
       "   <td style=\"text-align:left;\"> GRCh38 </td>\n",
       "   <td style=\"text-align:left;\"> ZBTB9 </td>\n",
       "   <td style=\"text-align:left;\"> 1, 2 </td>\n",
       "   <td style=\"text-align:left;\"> ENCODE4 v1.4.0 GRCh38 </td>\n",
       "   <td style=\"text-align:left;\"> ENCODE4 </td>\n",
       "   <td style=\"text-align:left;\"> c13833244163ed3ab3f74b13924002eb </td>\n",
       "   <td style=\"text-align:left;\"> ENCFF547AGX.bigWig </td>\n",
       "   <td style=\"text-align:left;\"> https://www.encodeproject.org/files/ENCFF547AGX/@@download/ENCFF547AGX.bigWig </td>\n",
       "  </tr>\n",
       "  <tr>\n",
       "   <td style=\"text-align:left;\"> TF ChIP-seq </td>\n",
       "   <td style=\"text-align:left;\"> ENCSR436CZV </td>\n",
       "   <td style=\"text-align:left;\"> ENCFF798FSS </td>\n",
       "   <td style=\"text-align:left;\"> bigWig </td>\n",
       "   <td style=\"text-align:left;\"> bigWig </td>\n",
       "   <td style=\"text-align:left;\"> signal p-value </td>\n",
       "   <td style=\"text-align:left;\"> GRCh38 </td>\n",
       "   <td style=\"text-align:left;\"> AFF4 </td>\n",
       "   <td style=\"text-align:left;\"> 1, 2 </td>\n",
       "   <td style=\"text-align:left;\"> ENCODE4 v1.8.0 GRCh38 </td>\n",
       "   <td style=\"text-align:left;\"> ENCODE4 </td>\n",
       "   <td style=\"text-align:left;\"> def72a79a02e4f8ebf0dcd97572eaeb0 </td>\n",
       "   <td style=\"text-align:left;\"> ENCFF798FSS.bigWig </td>\n",
       "   <td style=\"text-align:left;\"> https://www.encodeproject.org/files/ENCFF798FSS/@@download/ENCFF798FSS.bigWig </td>\n",
       "  </tr>\n",
       "</tbody>\n",
       "</table>"
      ]
     },
     "metadata": {},
     "output_type": "display_data"
    },
    {
     "name": "stdout",
     "output_type": "stream",
     "text": [
      "\n"
     ]
    }
   ],
   "source": [
    "### set file path\n",
    "txt_fname = \"metadata.tsv\"\n",
    "\n",
    "### get file directory\n",
    "vec_txt_fpath = file.path(vec_txt_fdiry, txt_fname)\n",
    "\n",
    "### read metadata\n",
    "lst = lapply(vec_txt_fpath, function(txt_fpath){\n",
    "    dat = read_tsv(txt_fpath, show_col_types = FALSE)\n",
    "    return(dat)\n",
    "})\n",
    "names(lst) = vec_txt_foldr\n",
    "\n",
    "### assign and show\n",
    "lst_dat_metadata = lst\n",
    "for(idx in names(lst)){\n",
    "    dat = lst[[idx]]\n",
    "    cat(idx, \"\\n\"); flush.console()\n",
    "    fun_display_table(head(dat, 3))\n",
    "    cat(\"\\n\")\n",
    "}"
   ]
  },
  {
   "cell_type": "markdown",
   "id": "7acc58d8-3da3-4ca1-9fea-bd7025ac9996",
   "metadata": {},
   "source": [
    "## Check data"
   ]
  },
  {
   "cell_type": "markdown",
   "id": "72c064d0-3a02-4dd7-8bc5-c34892b7e86f",
   "metadata": {},
   "source": [
    "**Check if the files downloaded matched the metatable**"
   ]
  },
  {
   "cell_type": "code",
   "execution_count": 6,
   "id": "3a857c15-50d3-442a-aab9-e7d1a3c61d49",
   "metadata": {},
   "outputs": [
    {
     "name": "stdout",
     "output_type": "stream",
     "text": [
      "region_narrowPeak \n",
      "#Files (Info):     720 \n",
      "#Files (Download): 720 \n",
      "Matched? TRUE \n",
      "\n",
      "signal_fold_change \n",
      "#Files (Info):     720 \n",
      "#Files (Download): 720 \n",
      "Matched? TRUE \n",
      "\n",
      "signal_pvalue \n",
      "#Files (Info):     720 \n",
      "#Files (Download): 720 \n",
      "Matched? TRUE \n",
      "\n"
     ]
    }
   ],
   "source": [
    "for (txt_foldr in vec_txt_foldr){\n",
    "    ### \n",
    "    lst  = lst_dat_metadata\n",
    "    dat  = lst[[txt_foldr]]\n",
    "    vec1 = sort(dat$File_Name)\n",
    "    \n",
    "    ###\n",
    "    lst  = lst_vec_txt_files\n",
    "    vec2 = sort(lst[[txt_foldr]])\n",
    "    \n",
    "    cat(txt_foldr, \"\\n\")\n",
    "    cat(\"#Files (Info):    \", length(vec1), \"\\n\")\n",
    "    cat(\"#Files (Download):\", length(vec2), \"\\n\")\n",
    "    cat(\"Matched?\", all(vec1 == vec2), \"\\n\")\n",
    "    cat(\"\\n\")\n",
    "}"
   ]
  },
  {
   "cell_type": "code",
   "execution_count": 7,
   "id": "9038c510-355e-472b-918e-539737177d1b",
   "metadata": {},
   "outputs": [],
   "source": [
    "library(DT)"
   ]
  },
  {
   "cell_type": "code",
   "execution_count": null,
   "id": "d80fc7f1-9ff2-4bb9-8f7b-ce6570a08a80",
   "metadata": {},
   "outputs": [],
   "source": []
  }
 ],
 "metadata": {
  "kernelspec": {
   "display_name": "R",
   "language": "R",
   "name": "ir"
  },
  "language_info": {
   "codemirror_mode": "r",
   "file_extension": ".r",
   "mimetype": "text/x-r-source",
   "name": "R",
   "pygments_lexer": "r",
   "version": "4.4.2"
  }
 },
 "nbformat": 4,
 "nbformat_minor": 5
}
