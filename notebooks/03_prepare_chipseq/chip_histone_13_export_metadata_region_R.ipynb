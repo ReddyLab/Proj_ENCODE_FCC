{
 "cells": [
  {
   "cell_type": "raw",
   "id": "234a8c65-e1a5-4b31-9dc6-39f7ed372a8c",
   "metadata": {},
   "source": [
    "---\n",
    "title: Prepare ENCODE ChIP-seq Histone 13\n",
    "subtitle: Create metadata table of region\n",
    "format:\n",
    "    html:\n",
    "        code-fold:  true\n",
    "        code-tools: true\n",
    "---"
   ]
  },
  {
   "cell_type": "markdown",
   "id": "63fd6c65-59fc-479a-b218-972b75e90c9f",
   "metadata": {},
   "source": [
    "**Set environment**"
   ]
  },
  {
   "cell_type": "code",
   "execution_count": 3,
   "id": "b254d2a5-32b9-45a5-871d-23ddd72f0842",
   "metadata": {},
   "outputs": [
    {
     "name": "stdout",
     "output_type": "stream",
     "text": [
      "You are working on        Singularity: singularity_proj_encode_fcc \n",
      "BASE DIRECTORY (FD_BASE): /data/reddylab/Kuei \n",
      "REPO DIRECTORY (FD_REPO): /data/reddylab/Kuei/repo \n",
      "WORK DIRECTORY (FD_WORK): /data/reddylab/Kuei/work \n",
      "DATA DIRECTORY (FD_DATA): /data/reddylab/Kuei/data \n",
      "\n",
      "You are working with      ENCODE FCC \n",
      "PATH OF PROJECT (FD_PRJ): /data/reddylab/Kuei/repo/Proj_ENCODE_FCC \n",
      "PROJECT RESULTS (FD_RES): /data/reddylab/Kuei/repo/Proj_ENCODE_FCC/results \n",
      "PROJECT SCRIPTS (FD_EXE): /data/reddylab/Kuei/repo/Proj_ENCODE_FCC/scripts \n",
      "PROJECT DATA    (FD_DAT): /data/reddylab/Kuei/repo/Proj_ENCODE_FCC/data \n",
      "PROJECT NOTE    (FD_NBK): /data/reddylab/Kuei/repo/Proj_ENCODE_FCC/notebooks \n",
      "PROJECT DOCS    (FD_DOC): /data/reddylab/Kuei/repo/Proj_ENCODE_FCC/docs \n",
      "PROJECT LOG     (FD_LOG): /data/reddylab/Kuei/repo/Proj_ENCODE_FCC/log \n",
      "PROJECT REF     (FD_REF): /data/reddylab/Kuei/repo/Proj_ENCODE_FCC/references \n",
      "\n"
     ]
    }
   ],
   "source": [
    "suppressMessages(suppressWarnings(source(\"../run_config_project_sing.R\")))\n",
    "show_env()"
   ]
  },
  {
   "cell_type": "markdown",
   "id": "97ce541f-9b0b-42fe-b38e-56f142ad4572",
   "metadata": {},
   "source": [
    "**Set global variables**"
   ]
  },
  {
   "cell_type": "code",
   "execution_count": 6,
   "id": "61939311-a7df-4709-ad3b-4c0ddf828bb6",
   "metadata": {},
   "outputs": [],
   "source": [
    "TXT_FOLDER_REGION = \"encode_chipseq_histone\""
   ]
  },
  {
   "cell_type": "markdown",
   "id": "352aa095-df66-402b-954e-bd43ff0c4ab6",
   "metadata": {},
   "source": [
    "## Import metadata"
   ]
  },
  {
   "cell_type": "markdown",
   "id": "f8e0add0-c804-4e1f-b253-3177856ece59",
   "metadata": {},
   "source": [
    "**View files**"
   ]
  },
  {
   "cell_type": "code",
   "execution_count": 7,
   "id": "b172c906-ca4b-486c-bb25-d7d05959f340",
   "metadata": {},
   "outputs": [
    {
     "name": "stdout",
     "output_type": "stream",
     "text": [
      "ENCFF122CSI.bed.gz \n",
      "ENCFF135ZLM.bed.gz \n",
      "ENCFF148UQI.bed.gz \n",
      "ENCFF193ERO.bed.gz \n",
      "ENCFF209OQD.bed.gz \n",
      "ENCFF213OTI.bed.gz \n",
      "ENCFF323WOT.bed.gz \n",
      "ENCFF462AVD.bed.gz \n",
      "ENCFF540NGG.bed.gz \n",
      "ENCFF544LXB.bed.gz \n",
      "ENCFF561OUZ.bed.gz \n",
      "ENCFF689QIJ.bed.gz \n",
      "ENCFF706WUF.bed.gz \n",
      "ENCFF749KLQ.bed.gz \n",
      "ENCFF801AHF.bed.gz \n",
      "ENCFF885FQN.bed.gz \n",
      "ENCFF891CHI.bed.gz \n",
      "ENCFF909RKY.bed.gz \n",
      "ENCFF963GZJ.bed.gz \n",
      "summary \n"
     ]
    }
   ],
   "source": [
    "txt_fdiry = file.path(FD_RES, \"region\", TXT_FOLDER_REGION)\n",
    "vec = dir(txt_fdiry)\n",
    "for(txt in vec){cat(txt, \"\\n\")}"
   ]
  },
  {
   "cell_type": "markdown",
   "id": "a9ab57f1-e986-42f5-9e47-ba6842d05884",
   "metadata": {},
   "source": [
    "**Import data**"
   ]
  },
  {
   "cell_type": "code",
   "execution_count": 8,
   "id": "2387286c-ba46-4413-af34-5c9ea141bc10",
   "metadata": {},
   "outputs": [
    {
     "name": "stdout",
     "output_type": "stream",
     "text": [
      "[1] 19 13\n"
     ]
    },
    {
     "data": {
      "text/html": [
       "<table>\n",
       " <thead>\n",
       "  <tr>\n",
       "   <th style=\"text-align:left;\"> Assay </th>\n",
       "   <th style=\"text-align:left;\"> Index_Experiment </th>\n",
       "   <th style=\"text-align:left;\"> Index_File </th>\n",
       "   <th style=\"text-align:left;\"> File_Format </th>\n",
       "   <th style=\"text-align:left;\"> File_Type </th>\n",
       "   <th style=\"text-align:left;\"> Output_Type </th>\n",
       "   <th style=\"text-align:left;\"> Genome </th>\n",
       "   <th style=\"text-align:left;\"> Target </th>\n",
       "   <th style=\"text-align:left;\"> Bio_Replicates </th>\n",
       "   <th style=\"text-align:left;\"> Analysis </th>\n",
       "   <th style=\"text-align:left;\"> md5sum </th>\n",
       "   <th style=\"text-align:left;\"> File_Name </th>\n",
       "   <th style=\"text-align:left;\"> File_URL </th>\n",
       "  </tr>\n",
       " </thead>\n",
       "<tbody>\n",
       "  <tr>\n",
       "   <td style=\"text-align:left;\"> Histone ChIP-seq </td>\n",
       "   <td style=\"text-align:left;\"> ENCSR000AKU </td>\n",
       "   <td style=\"text-align:left;\"> ENCFF689QIJ </td>\n",
       "   <td style=\"text-align:left;\"> bed narrowPeak </td>\n",
       "   <td style=\"text-align:left;\"> bed </td>\n",
       "   <td style=\"text-align:left;\"> pseudoreplicated peaks </td>\n",
       "   <td style=\"text-align:left;\"> GRCh38 </td>\n",
       "   <td style=\"text-align:left;\"> H3K4me3 </td>\n",
       "   <td style=\"text-align:left;\"> 1, 2 </td>\n",
       "   <td style=\"text-align:left;\"> ENCODE4 v1.5.1 GRCh38 </td>\n",
       "   <td style=\"text-align:left;\"> 5dea2993c0831ae344a989d601c09178 </td>\n",
       "   <td style=\"text-align:left;\"> ENCFF689QIJ.bed.gz </td>\n",
       "   <td style=\"text-align:left;\"> https://www.encodeproject.org/files/ENCFF689QIJ/@@download/ENCFF689QIJ.bed.gz </td>\n",
       "  </tr>\n",
       "  <tr>\n",
       "   <td style=\"text-align:left;\"> Histone ChIP-seq </td>\n",
       "   <td style=\"text-align:left;\"> ENCSR000AKQ </td>\n",
       "   <td style=\"text-align:left;\"> ENCFF323WOT </td>\n",
       "   <td style=\"text-align:left;\"> bed narrowPeak </td>\n",
       "   <td style=\"text-align:left;\"> bed </td>\n",
       "   <td style=\"text-align:left;\"> pseudoreplicated peaks </td>\n",
       "   <td style=\"text-align:left;\"> GRCh38 </td>\n",
       "   <td style=\"text-align:left;\"> H3K27me3 </td>\n",
       "   <td style=\"text-align:left;\"> 1, 2, 3 </td>\n",
       "   <td style=\"text-align:left;\"> ENCODE4 v1.8.0 GRCh38 </td>\n",
       "   <td style=\"text-align:left;\"> 4422969d0b63260e2fcb83e10fdcc02f </td>\n",
       "   <td style=\"text-align:left;\"> ENCFF323WOT.bed.gz </td>\n",
       "   <td style=\"text-align:left;\"> https://www.encodeproject.org/files/ENCFF323WOT/@@download/ENCFF323WOT.bed.gz </td>\n",
       "  </tr>\n",
       "  <tr>\n",
       "   <td style=\"text-align:left;\"> Histone ChIP-seq </td>\n",
       "   <td style=\"text-align:left;\"> ENCSR000EWC </td>\n",
       "   <td style=\"text-align:left;\"> ENCFF540NGG </td>\n",
       "   <td style=\"text-align:left;\"> bed narrowPeak </td>\n",
       "   <td style=\"text-align:left;\"> bed </td>\n",
       "   <td style=\"text-align:left;\"> pseudoreplicated peaks </td>\n",
       "   <td style=\"text-align:left;\"> GRCh38 </td>\n",
       "   <td style=\"text-align:left;\"> H3K4me1 </td>\n",
       "   <td style=\"text-align:left;\"> 1, 2 </td>\n",
       "   <td style=\"text-align:left;\"> ENCODE4 v1.5.1 GRCh38 </td>\n",
       "   <td style=\"text-align:left;\"> 63db47e5b9b98dbebff2ce20df066106 </td>\n",
       "   <td style=\"text-align:left;\"> ENCFF540NGG.bed.gz </td>\n",
       "   <td style=\"text-align:left;\"> https://www.encodeproject.org/files/ENCFF540NGG/@@download/ENCFF540NGG.bed.gz </td>\n",
       "  </tr>\n",
       "</tbody>\n",
       "</table>"
      ]
     },
     "metadata": {},
     "output_type": "display_data"
    }
   ],
   "source": [
    "### set file directory\n",
    "txt_fdiry = file.path(FD_RES, \"region\", TXT_FOLDER_REGION, \"summary\")\n",
    "txt_fname = \"metadata.tsv\"\n",
    "txt_fpath = file.path(txt_fdiry, txt_fname)\n",
    "\n",
    "### read table\n",
    "dat = read_tsv(txt_fpath, show_col_types = FALSE)\n",
    "\n",
    "### assign and show\n",
    "dat_metadata_info = dat\n",
    "print(dim(dat))\n",
    "fun_display_table(head(dat, 3))"
   ]
  },
  {
   "cell_type": "markdown",
   "id": "98224eca-29fa-415c-8a7b-e91e3ec912cf",
   "metadata": {},
   "source": [
    "**Check data**"
   ]
  },
  {
   "cell_type": "code",
   "execution_count": 9,
   "id": "68c6cf03-143c-475f-8547-2a472bce4973",
   "metadata": {},
   "outputs": [
    {
     "data": {
      "text/html": [
       "TRUE"
      ],
      "text/latex": [
       "TRUE"
      ],
      "text/markdown": [
       "TRUE"
      ],
      "text/plain": [
       "[1] TRUE"
      ]
     },
     "metadata": {},
     "output_type": "display_data"
    }
   ],
   "source": [
    "### get file name from the folder\n",
    "txt_fdiry = file.path(FD_RES, \"region\", TXT_FOLDER_REGION)\n",
    "txt_fname = \"*.bed.gz\"\n",
    "txt_fglob = file.path(txt_fdiry, txt_fname)\n",
    "\n",
    "vec_txt_fpath = Sys.glob(txt_fglob)\n",
    "vec_txt_fname = basename(vec_txt_fpath)\n",
    "\n",
    "vec1 = sort(vec_txt_fname)\n",
    "\n",
    "### get file name from the table\n",
    "dat = dat_metadata_info\n",
    "vec = dat$File_Name\n",
    "\n",
    "vec2 = sort(vec)\n",
    "\n",
    "### check if matched in metadata\n",
    "all(vec1 == vec2)"
   ]
  },
  {
   "cell_type": "markdown",
   "id": "f24597f7-6c37-4d8a-9e97-35645e3c1202",
   "metadata": {},
   "source": [
    "## Define column description\n",
    "The peak file is in narrowPeak format, which is a standard six field bed with four additional fields (BED6+4 format)"
   ]
  },
  {
   "cell_type": "code",
   "execution_count": 10,
   "id": "c1ea884e-14d9-4d17-a02c-0d33d920f7b9",
   "metadata": {},
   "outputs": [
    {
     "data": {
      "text/html": [
       "<table>\n",
       " <thead>\n",
       "  <tr>\n",
       "   <th style=\"text-align:left;\"> Name </th>\n",
       "   <th style=\"text-align:left;\"> Note </th>\n",
       "  </tr>\n",
       " </thead>\n",
       "<tbody>\n",
       "  <tr>\n",
       "   <td style=\"text-align:left;\"> Chrom </td>\n",
       "   <td style=\"text-align:left;\"> Name of the chromosome </td>\n",
       "  </tr>\n",
       "  <tr>\n",
       "   <td style=\"text-align:left;\"> ChromStart </td>\n",
       "   <td style=\"text-align:left;\"> The starting position of the feature in the chromosome </td>\n",
       "  </tr>\n",
       "  <tr>\n",
       "   <td style=\"text-align:left;\"> ChromEnd </td>\n",
       "   <td style=\"text-align:left;\"> The ending position of the feature in the chromosome </td>\n",
       "  </tr>\n",
       "  <tr>\n",
       "   <td style=\"text-align:left;\"> Name </td>\n",
       "   <td style=\"text-align:left;\"> Name given to a region; Use '.' if no name is assigned. </td>\n",
       "  </tr>\n",
       "  <tr>\n",
       "   <td style=\"text-align:left;\"> Score </td>\n",
       "   <td style=\"text-align:left;\"> Indicates how dark the peak will be displayed in the browser (0-1000). </td>\n",
       "  </tr>\n",
       "  <tr>\n",
       "   <td style=\"text-align:left;\"> Strand </td>\n",
       "   <td style=\"text-align:left;\"> +/- to denote strand or orientation. Use '.' if no orientation is assigned. </td>\n",
       "  </tr>\n",
       "  <tr>\n",
       "   <td style=\"text-align:left;\"> SignalValue </td>\n",
       "   <td style=\"text-align:left;\"> Measurement of overall (usually, average) enrichment for the region. </td>\n",
       "  </tr>\n",
       "  <tr>\n",
       "   <td style=\"text-align:left;\"> PValue </td>\n",
       "   <td style=\"text-align:left;\"> Measurement of statistical significance (-log10). Use -1 if no pValue is assigned. </td>\n",
       "  </tr>\n",
       "  <tr>\n",
       "   <td style=\"text-align:left;\"> QValue </td>\n",
       "   <td style=\"text-align:left;\"> Measurement of statistical significance using false discovery rate (-log10). Use -1 if no qValue is assigned. </td>\n",
       "  </tr>\n",
       "  <tr>\n",
       "   <td style=\"text-align:left;\"> Peak </td>\n",
       "   <td style=\"text-align:left;\"> Point-source called for this peak; 0-based offset from chromStart. Use -1 if no point-source called. </td>\n",
       "  </tr>\n",
       "</tbody>\n",
       "</table>"
      ]
     },
     "metadata": {},
     "output_type": "display_data"
    }
   ],
   "source": [
    "### ENCODE narrowPeak: Narrow (or Point-Source) Peaks format\n",
    "dat = tribble(\n",
    "    ~Name,        ~Note,\n",
    "    \"Chrom\",      \"Name of the chromosome\",\n",
    "    \"ChromStart\", \"The starting position of the feature in the chromosome\",\n",
    "    \"ChromEnd\",   \"The ending position of the feature in the chromosome\",\n",
    "    \"Name\",       \"Name given to a region; Use '.' if no name is assigned.\",\n",
    "    \"Score\",      \"Indicates how dark the peak will be displayed in the browser (0-1000).\",\n",
    "    \"Strand\",     \"+/- to denote strand or orientation. Use '.' if no orientation is assigned.\",\n",
    "    \"SignalValue\",\"Measurement of overall (usually, average) enrichment for the region.\",\n",
    "    \"PValue\",     \"Measurement of statistical significance (-log10). Use -1 if no pValue is assigned.\",\n",
    "    \"QValue\",     \"Measurement of statistical significance using false discovery rate (-log10). Use -1 if no qValue is assigned.\",\n",
    "    \"Peak\",       \"Point-source called for this peak; 0-based offset from chromStart. Use -1 if no point-source called.\"\n",
    "    \n",
    ")\n",
    "\n",
    "### assign and show\n",
    "dat_cname = dat\n",
    "fun_display_table(dat)"
   ]
  },
  {
   "cell_type": "markdown",
   "id": "57497b30-0885-4f4c-b371-3f244803ef3a",
   "metadata": {},
   "source": [
    "## Define file labeling"
   ]
  },
  {
   "cell_type": "markdown",
   "id": "805fa6c8-fc93-4483-b77d-ef4bf4ff3002",
   "metadata": {},
   "source": [
    "**generate file label**"
   ]
  },
  {
   "cell_type": "code",
   "execution_count": 11,
   "id": "47f3ae8e-f880-4677-be59-03869e19d3af",
   "metadata": {},
   "outputs": [
    {
     "name": "stdout",
     "output_type": "stream",
     "text": [
      "[1] 19  2\n"
     ]
    },
    {
     "data": {
      "text/html": [
       "<table>\n",
       " <thead>\n",
       "  <tr>\n",
       "   <th style=\"text-align:left;\"> FName </th>\n",
       "   <th style=\"text-align:left;\"> Label </th>\n",
       "  </tr>\n",
       " </thead>\n",
       "<tbody>\n",
       "  <tr>\n",
       "   <td style=\"text-align:left;\"> ENCFF689QIJ.bed.gz </td>\n",
       "   <td style=\"text-align:left;\"> encode_chipseq_H3K4me3_ENCFF689QIJ </td>\n",
       "  </tr>\n",
       "  <tr>\n",
       "   <td style=\"text-align:left;\"> ENCFF323WOT.bed.gz </td>\n",
       "   <td style=\"text-align:left;\"> encode_chipseq_H3K27me3_ENCFF323WOT </td>\n",
       "  </tr>\n",
       "  <tr>\n",
       "   <td style=\"text-align:left;\"> ENCFF540NGG.bed.gz </td>\n",
       "   <td style=\"text-align:left;\"> encode_chipseq_H3K4me1_ENCFF540NGG </td>\n",
       "  </tr>\n",
       "</tbody>\n",
       "</table>"
      ]
     },
     "metadata": {},
     "output_type": "display_data"
    }
   ],
   "source": [
    "### get file name and generate label for each file\n",
    "dat = dat_metadata_info\n",
    "dat = dat %>% \n",
    "    dplyr::mutate(\n",
    "        FName = File_Name,\n",
    "        Label = paste(\"encode_chipseq\", Target, Index_File, sep = \"_\")\n",
    "    ) %>%\n",
    "    dplyr::select(FName, Label)\n",
    "\n",
    "### assign and show\n",
    "dat_meta_label = dat\n",
    "print(dim(dat))\n",
    "fun_display_table(head(dat, 3))"
   ]
  },
  {
   "cell_type": "markdown",
   "id": "6e961c7d-0279-4060-a848-8eeb2f763a07",
   "metadata": {},
   "source": [
    "**create region label table**"
   ]
  },
  {
   "cell_type": "code",
   "execution_count": 12,
   "id": "a065edfb-d255-4c65-b31a-2a3ba124f282",
   "metadata": {},
   "outputs": [
    {
     "name": "stdout",
     "output_type": "stream",
     "text": [
      "[1] 19  4\n"
     ]
    },
    {
     "data": {
      "text/html": [
       "<table>\n",
       " <thead>\n",
       "  <tr>\n",
       "   <th style=\"text-align:left;\"> Folder </th>\n",
       "   <th style=\"text-align:left;\"> FName </th>\n",
       "   <th style=\"text-align:left;\"> Label </th>\n",
       "   <th style=\"text-align:left;\"> FPath </th>\n",
       "  </tr>\n",
       " </thead>\n",
       "<tbody>\n",
       "  <tr>\n",
       "   <td style=\"text-align:left;\"> encode_chipseq_histone </td>\n",
       "   <td style=\"text-align:left;\"> ENCFF122CSI.bed.gz </td>\n",
       "   <td style=\"text-align:left;\"> encode_chipseq_H3K4me3_ENCFF122CSI </td>\n",
       "   <td style=\"text-align:left;\"> /data/reddylab/Kuei/repo/Proj_ENCODE_FCC/results/region/encode_chipseq_histone/ENCFF122CSI.bed.gz </td>\n",
       "  </tr>\n",
       "  <tr>\n",
       "   <td style=\"text-align:left;\"> encode_chipseq_histone </td>\n",
       "   <td style=\"text-align:left;\"> ENCFF135ZLM.bed.gz </td>\n",
       "   <td style=\"text-align:left;\"> encode_chipseq_H3K4me1_ENCFF135ZLM </td>\n",
       "   <td style=\"text-align:left;\"> /data/reddylab/Kuei/repo/Proj_ENCODE_FCC/results/region/encode_chipseq_histone/ENCFF135ZLM.bed.gz </td>\n",
       "  </tr>\n",
       "  <tr>\n",
       "   <td style=\"text-align:left;\"> encode_chipseq_histone </td>\n",
       "   <td style=\"text-align:left;\"> ENCFF148UQI.bed.gz </td>\n",
       "   <td style=\"text-align:left;\"> encode_chipseq_H3K9ac_ENCFF148UQI </td>\n",
       "   <td style=\"text-align:left;\"> /data/reddylab/Kuei/repo/Proj_ENCODE_FCC/results/region/encode_chipseq_histone/ENCFF148UQI.bed.gz </td>\n",
       "  </tr>\n",
       "  <tr>\n",
       "   <td style=\"text-align:left;\"> encode_chipseq_histone </td>\n",
       "   <td style=\"text-align:left;\"> ENCFF193ERO.bed.gz </td>\n",
       "   <td style=\"text-align:left;\"> encode_chipseq_H3K36me3_ENCFF193ERO </td>\n",
       "   <td style=\"text-align:left;\"> /data/reddylab/Kuei/repo/Proj_ENCODE_FCC/results/region/encode_chipseq_histone/ENCFF193ERO.bed.gz </td>\n",
       "  </tr>\n",
       "  <tr>\n",
       "   <td style=\"text-align:left;\"> encode_chipseq_histone </td>\n",
       "   <td style=\"text-align:left;\"> ENCFF209OQD.bed.gz </td>\n",
       "   <td style=\"text-align:left;\"> encode_chipseq_H3K79me2_ENCFF209OQD </td>\n",
       "   <td style=\"text-align:left;\"> /data/reddylab/Kuei/repo/Proj_ENCODE_FCC/results/region/encode_chipseq_histone/ENCFF209OQD.bed.gz </td>\n",
       "  </tr>\n",
       "  <tr>\n",
       "   <td style=\"text-align:left;\"> encode_chipseq_histone </td>\n",
       "   <td style=\"text-align:left;\"> ENCFF213OTI.bed.gz </td>\n",
       "   <td style=\"text-align:left;\"> encode_chipseq_H2AFZ_ENCFF213OTI </td>\n",
       "   <td style=\"text-align:left;\"> /data/reddylab/Kuei/repo/Proj_ENCODE_FCC/results/region/encode_chipseq_histone/ENCFF213OTI.bed.gz </td>\n",
       "  </tr>\n",
       "  <tr>\n",
       "   <td style=\"text-align:left;\"> encode_chipseq_histone </td>\n",
       "   <td style=\"text-align:left;\"> ENCFF323WOT.bed.gz </td>\n",
       "   <td style=\"text-align:left;\"> encode_chipseq_H3K27me3_ENCFF323WOT </td>\n",
       "   <td style=\"text-align:left;\"> /data/reddylab/Kuei/repo/Proj_ENCODE_FCC/results/region/encode_chipseq_histone/ENCFF323WOT.bed.gz </td>\n",
       "  </tr>\n",
       "  <tr>\n",
       "   <td style=\"text-align:left;\"> encode_chipseq_histone </td>\n",
       "   <td style=\"text-align:left;\"> ENCFF462AVD.bed.gz </td>\n",
       "   <td style=\"text-align:left;\"> encode_chipseq_H3K9me1_ENCFF462AVD </td>\n",
       "   <td style=\"text-align:left;\"> /data/reddylab/Kuei/repo/Proj_ENCODE_FCC/results/region/encode_chipseq_histone/ENCFF462AVD.bed.gz </td>\n",
       "  </tr>\n",
       "  <tr>\n",
       "   <td style=\"text-align:left;\"> encode_chipseq_histone </td>\n",
       "   <td style=\"text-align:left;\"> ENCFF540NGG.bed.gz </td>\n",
       "   <td style=\"text-align:left;\"> encode_chipseq_H3K4me1_ENCFF540NGG </td>\n",
       "   <td style=\"text-align:left;\"> /data/reddylab/Kuei/repo/Proj_ENCODE_FCC/results/region/encode_chipseq_histone/ENCFF540NGG.bed.gz </td>\n",
       "  </tr>\n",
       "  <tr>\n",
       "   <td style=\"text-align:left;\"> encode_chipseq_histone </td>\n",
       "   <td style=\"text-align:left;\"> ENCFF544LXB.bed.gz </td>\n",
       "   <td style=\"text-align:left;\"> encode_chipseq_H3K27ac_ENCFF544LXB </td>\n",
       "   <td style=\"text-align:left;\"> /data/reddylab/Kuei/repo/Proj_ENCODE_FCC/results/region/encode_chipseq_histone/ENCFF544LXB.bed.gz </td>\n",
       "  </tr>\n",
       "  <tr>\n",
       "   <td style=\"text-align:left;\"> encode_chipseq_histone </td>\n",
       "   <td style=\"text-align:left;\"> ENCFF561OUZ.bed.gz </td>\n",
       "   <td style=\"text-align:left;\"> encode_chipseq_H3K36me3_ENCFF561OUZ </td>\n",
       "   <td style=\"text-align:left;\"> /data/reddylab/Kuei/repo/Proj_ENCODE_FCC/results/region/encode_chipseq_histone/ENCFF561OUZ.bed.gz </td>\n",
       "  </tr>\n",
       "  <tr>\n",
       "   <td style=\"text-align:left;\"> encode_chipseq_histone </td>\n",
       "   <td style=\"text-align:left;\"> ENCFF689QIJ.bed.gz </td>\n",
       "   <td style=\"text-align:left;\"> encode_chipseq_H3K4me3_ENCFF689QIJ </td>\n",
       "   <td style=\"text-align:left;\"> /data/reddylab/Kuei/repo/Proj_ENCODE_FCC/results/region/encode_chipseq_histone/ENCFF689QIJ.bed.gz </td>\n",
       "  </tr>\n",
       "  <tr>\n",
       "   <td style=\"text-align:left;\"> encode_chipseq_histone </td>\n",
       "   <td style=\"text-align:left;\"> ENCFF706WUF.bed.gz </td>\n",
       "   <td style=\"text-align:left;\"> encode_chipseq_H3K4me3_ENCFF706WUF </td>\n",
       "   <td style=\"text-align:left;\"> /data/reddylab/Kuei/repo/Proj_ENCODE_FCC/results/region/encode_chipseq_histone/ENCFF706WUF.bed.gz </td>\n",
       "  </tr>\n",
       "  <tr>\n",
       "   <td style=\"text-align:left;\"> encode_chipseq_histone </td>\n",
       "   <td style=\"text-align:left;\"> ENCFF749KLQ.bed.gz </td>\n",
       "   <td style=\"text-align:left;\"> encode_chipseq_H3K4me2_ENCFF749KLQ </td>\n",
       "   <td style=\"text-align:left;\"> /data/reddylab/Kuei/repo/Proj_ENCODE_FCC/results/region/encode_chipseq_histone/ENCFF749KLQ.bed.gz </td>\n",
       "  </tr>\n",
       "  <tr>\n",
       "   <td style=\"text-align:left;\"> encode_chipseq_histone </td>\n",
       "   <td style=\"text-align:left;\"> ENCFF801AHF.bed.gz </td>\n",
       "   <td style=\"text-align:left;\"> encode_chipseq_H3K27me3_ENCFF801AHF </td>\n",
       "   <td style=\"text-align:left;\"> /data/reddylab/Kuei/repo/Proj_ENCODE_FCC/results/region/encode_chipseq_histone/ENCFF801AHF.bed.gz </td>\n",
       "  </tr>\n",
       "  <tr>\n",
       "   <td style=\"text-align:left;\"> encode_chipseq_histone </td>\n",
       "   <td style=\"text-align:left;\"> ENCFF885FQN.bed.gz </td>\n",
       "   <td style=\"text-align:left;\"> encode_chipseq_H3K4me3_ENCFF885FQN </td>\n",
       "   <td style=\"text-align:left;\"> /data/reddylab/Kuei/repo/Proj_ENCODE_FCC/results/region/encode_chipseq_histone/ENCFF885FQN.bed.gz </td>\n",
       "  </tr>\n",
       "  <tr>\n",
       "   <td style=\"text-align:left;\"> encode_chipseq_histone </td>\n",
       "   <td style=\"text-align:left;\"> ENCFF891CHI.bed.gz </td>\n",
       "   <td style=\"text-align:left;\"> encode_chipseq_H3K9ac_ENCFF891CHI </td>\n",
       "   <td style=\"text-align:left;\"> /data/reddylab/Kuei/repo/Proj_ENCODE_FCC/results/region/encode_chipseq_histone/ENCFF891CHI.bed.gz </td>\n",
       "  </tr>\n",
       "  <tr>\n",
       "   <td style=\"text-align:left;\"> encode_chipseq_histone </td>\n",
       "   <td style=\"text-align:left;\"> ENCFF909RKY.bed.gz </td>\n",
       "   <td style=\"text-align:left;\"> encode_chipseq_H4K20me1_ENCFF909RKY </td>\n",
       "   <td style=\"text-align:left;\"> /data/reddylab/Kuei/repo/Proj_ENCODE_FCC/results/region/encode_chipseq_histone/ENCFF909RKY.bed.gz </td>\n",
       "  </tr>\n",
       "  <tr>\n",
       "   <td style=\"text-align:left;\"> encode_chipseq_histone </td>\n",
       "   <td style=\"text-align:left;\"> ENCFF963GZJ.bed.gz </td>\n",
       "   <td style=\"text-align:left;\"> encode_chipseq_H3K9me3_ENCFF963GZJ </td>\n",
       "   <td style=\"text-align:left;\"> /data/reddylab/Kuei/repo/Proj_ENCODE_FCC/results/region/encode_chipseq_histone/ENCFF963GZJ.bed.gz </td>\n",
       "  </tr>\n",
       "</tbody>\n",
       "</table>"
      ]
     },
     "metadata": {},
     "output_type": "display_data"
    }
   ],
   "source": [
    "### set directory\n",
    "txt_folder = TXT_FOLDER_REGION\n",
    "txt_fdiry  = file.path(FD_RES, \"region\", txt_folder)\n",
    "txt_fglob  = file.path(txt_fdiry, \"*bed*\")\n",
    "\n",
    "### get file names\n",
    "vec_txt_fpath = Sys.glob(txt_fglob)\n",
    "vec_txt_fname = basename(vec_txt_fpath)\n",
    "\n",
    "### init info table\n",
    "dat = data.frame(\n",
    "    \"Folder\" = txt_folder,\n",
    "    \"FName\"  = vec_txt_fname,\n",
    "    \"FPath\"  = vec_txt_fpath\n",
    ")\n",
    "\n",
    "### get label\n",
    "dat = dat %>% \n",
    "    dplyr::left_join(dat_meta_label, by = \"FName\") %>%\n",
    "    dplyr::select(Folder, FName, Label, FPath)\n",
    "\n",
    "### assign and show\n",
    "dat_region_label = dat\n",
    "print(dim(dat))\n",
    "fun_display_table(dat)"
   ]
  },
  {
   "cell_type": "markdown",
   "id": "02df8fcb-18d2-4204-8db8-0bbb01d642ff",
   "metadata": {},
   "source": [
    "## Save results"
   ]
  },
  {
   "cell_type": "code",
   "execution_count": 13,
   "id": "8676c0f4-a2c5-45cc-a93f-d5c96bcd3275",
   "metadata": {},
   "outputs": [],
   "source": [
    "txt_folder = TXT_FOLDER_REGION\n",
    "txt_fdiry  = file.path(FD_RES, \"region\", txt_folder, \"summary\")\n",
    "txt_fname  = \"description.tsv\"\n",
    "txt_fpath  = file.path(txt_fdiry, txt_fname)\n",
    "\n",
    "dir.create(txt_fdiry, showWarnings = FALSE)\n",
    "dat = dat_cname\n",
    "write_tsv(dat, txt_fpath)"
   ]
  },
  {
   "cell_type": "code",
   "execution_count": 14,
   "id": "432fe3f3-c70c-48c2-b6f2-305c5c3f6a9f",
   "metadata": {},
   "outputs": [],
   "source": [
    "txt_folder = TXT_FOLDER_REGION\n",
    "txt_fdiry  = file.path(FD_RES, \"region\", txt_folder, \"summary\")\n",
    "txt_fname  = \"metadata.label.tsv\"\n",
    "txt_fpath  = file.path(txt_fdiry, txt_fname)\n",
    "\n",
    "dir.create(txt_fdiry, showWarnings = FALSE)\n",
    "dat = dat_region_label\n",
    "write_tsv(dat, txt_fpath)"
   ]
  },
  {
   "cell_type": "code",
   "execution_count": null,
   "id": "b736628a-8e0b-4ce5-a3aa-1527d135c2fe",
   "metadata": {},
   "outputs": [],
   "source": []
  }
 ],
 "metadata": {
  "kernelspec": {
   "display_name": "R",
   "language": "R",
   "name": "ir"
  },
  "language_info": {
   "codemirror_mode": "r",
   "file_extension": ".r",
   "mimetype": "text/x-r-source",
   "name": "R",
   "pygments_lexer": "r",
   "version": "4.4.2"
  }
 },
 "nbformat": 4,
 "nbformat_minor": 5
}
