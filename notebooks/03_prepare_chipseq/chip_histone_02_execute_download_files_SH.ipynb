{
 "cells": [
  {
   "cell_type": "raw",
   "id": "39f22924-3b30-4fe8-9ce1-22572eab5f66",
   "metadata": {},
   "source": [
    "---\n",
    "title: Prepare ENCODE ChIP-seq Histone 02\n",
    "subtitle: Download the data\n",
    "format:\n",
    "    html:\n",
    "        code-fold:  true\n",
    "        code-tools: true\n",
    "---"
   ]
  },
  {
   "cell_type": "markdown",
   "id": "554b8bf1-0231-412c-a97c-684f8afb6d2d",
   "metadata": {},
   "source": [
    "**set environment**"
   ]
  },
  {
   "cell_type": "code",
   "execution_count": 1,
   "id": "754098fd-e59f-4374-a763-7fd55fa5cc91",
   "metadata": {},
   "outputs": [
    {
     "name": "stdout",
     "output_type": "stream",
     "text": [
      "You are working on             Duke Server: RCC\n",
      "BASE DIRECTORY (FD_BASE):      /data/reddylab/Kuei\n",
      "REPO DIRECTORY (FD_REPO):      /data/reddylab/Kuei/repo\n",
      "WORK DIRECTORY (FD_WORK):      /data/reddylab/Kuei/work\n",
      "DATA DIRECTORY (FD_DATA):      /data/reddylab/Kuei/data\n",
      "CONTAINER DIR. (FD_SING):      /data/reddylab/Kuei/container\n",
      "\n",
      "You are working with           ENCODE FCC\n",
      "PATH OF PROJECT (FD_PRJ):      /data/reddylab/Kuei/repo/Proj_ENCODE_FCC\n",
      "PROJECT RESULTS (FD_RES):      /data/reddylab/Kuei/repo/Proj_ENCODE_FCC/results\n",
      "PROJECT SCRIPTS (FD_EXE):      /data/reddylab/Kuei/repo/Proj_ENCODE_FCC/scripts\n",
      "PROJECT DATA    (FD_DAT):      /data/reddylab/Kuei/repo/Proj_ENCODE_FCC/data\n",
      "PROJECT NOTE    (FD_NBK):      /data/reddylab/Kuei/repo/Proj_ENCODE_FCC/notebooks\n",
      "PROJECT DOCS    (FD_DOC):      /data/reddylab/Kuei/repo/Proj_ENCODE_FCC/docs\n",
      "PROJECT LOG     (FD_LOG):      /data/reddylab/Kuei/repo/Proj_ENCODE_FCC/log\n",
      "PROJECT REF     (FD_REF):      /data/reddylab/Kuei/repo/Proj_ENCODE_FCC/references\n",
      "PROJECT IMAGE   (FP_PRJ_SIF):  /data/reddylab/Kuei/container/project/singularity_proj_encode_fcc.sif\n",
      "PROJECT CONF.   (FP_CNF):      /data/reddylab/Kuei/repo/Proj_ENCODE_FCC/scripts/config_project.sh\n",
      "\n"
     ]
    }
   ],
   "source": [
    "source ../run_config_project.sh\n",
    "show_env"
   ]
  },
  {
   "cell_type": "markdown",
   "id": "d7101949-bd2c-4cad-880f-1a6e468a872d",
   "metadata": {},
   "source": [
    "**Set global variables**"
   ]
  },
  {
   "cell_type": "code",
   "execution_count": 2,
   "id": "843734c6-d16f-4d3d-8e9d-70f2b8ab5efd",
   "metadata": {},
   "outputs": [],
   "source": [
    "TXT_FOLDER=\"encode_chipseq_histone_250120\""
   ]
  },
  {
   "cell_type": "markdown",
   "id": "a7aa9fcd-52e6-47a5-bec6-cd8be1a3b69b",
   "metadata": {},
   "source": [
    "## Execute"
   ]
  },
  {
   "cell_type": "markdown",
   "id": "15496fef-40e8-475f-a0ed-fe1241e15006",
   "metadata": {},
   "source": [
    "**Preview scripts**"
   ]
  },
  {
   "cell_type": "code",
   "execution_count": 3,
   "id": "6cdbd75a-47a8-4fec-b861-ef4a61854dbf",
   "metadata": {},
   "outputs": [
    {
     "name": "stdout",
     "output_type": "stream",
     "text": [
      "#!/bin/bash\n",
      "\n",
      "### print start message\n",
      "timer_start=`date +%s`\n",
      "echo \"Hostname:          \" $(hostname)\n",
      "echo \"Slurm Array Index: \" ${SLURM_ARRAY_TASK_ID}\n",
      "echo \"Time Stamp:        \" $(date +\"%m-%d-%y+%T\")\n",
      "echo\n",
      "\n",
      "### get arguments\n",
      "FP_CNF=${1}\n",
      "FP_DOWNLOAD_FILE_LIST=${2}\n",
      "FD_DOWNLOAD_DIRECTORY=${3}\n",
      "\n",
      "### set environment\n",
      "source ${FP_CNF}\n",
      "\n",
      "### show I/O\n",
      "cd   ${FD_DOWNLOAD_DIRECTORY}\n",
      "echo \"Change directory:\"\n",
      "echo $(pwd)\n",
      "echo\n",
      "\n",
      "### execute: download file\n",
      "echo \"Download files...\"\n",
      "xargs -L 1 curl -O -J -L < ${FP_DOWNLOAD_FILE_LIST}\n",
      "echo\n",
      "\n",
      "### print end message\n",
      "timer=`date +%s`\n",
      "runtime=$(echo \"${timer} - ${timer_start}\" | bc -l)\n",
      "echo\n",
      "echo 'Done!'\n",
      "echo \"Run Time: $(displaytime ${runtime})\"\n",
      "echo\n"
     ]
    }
   ],
   "source": [
    "FN_EXE=run_download_files.sh\n",
    "FP_EXE=${FD_EXE}/${FN_EXE}\n",
    "\n",
    "chmod +x ${FP_EXE}\n",
    "cat ${FP_EXE}"
   ]
  },
  {
   "cell_type": "markdown",
   "id": "62e8da71-3681-4e2d-bf1d-05d7c5632adc",
   "metadata": {},
   "source": [
    "**Preview folders and files**"
   ]
  },
  {
   "cell_type": "code",
   "execution_count": 4,
   "id": "8d3ed02c-3602-4d66-9fb3-f2c8e3181382",
   "metadata": {},
   "outputs": [
    {
     "name": "stdout",
     "output_type": "stream",
     "text": [
      "\u001b[0m\u001b[01;34mregion_narrowPeak\u001b[0m  \u001b[01;34msignal_fold_change\u001b[0m  \u001b[01;34msignal_pvalue\u001b[0m\n"
     ]
    }
   ],
   "source": [
    "FD_OUT=${FD_DAT}/external/${TXT_FOLDER}\n",
    "ls ${FD_OUT}"
   ]
  },
  {
   "cell_type": "code",
   "execution_count": 5,
   "id": "0a5fc14a-0bd0-439b-b2c4-02bd6975506b",
   "metadata": {},
   "outputs": [
    {
     "name": "stdout",
     "output_type": "stream",
     "text": [
      "/data/reddylab/Kuei/repo/Proj_ENCODE_FCC/data/external/encode_chipseq_histone_250120/region_narrowPeak\n",
      "Folder: region_narrowPeak\n",
      "\n",
      "/data/reddylab/Kuei/repo/Proj_ENCODE_FCC/data/external/encode_chipseq_histone_250120/signal_fold_change\n",
      "Folder: signal_fold_change\n",
      "\n",
      "/data/reddylab/Kuei/repo/Proj_ENCODE_FCC/data/external/encode_chipseq_histone_250120/signal_pvalue\n",
      "Folder: signal_pvalue\n",
      "\n"
     ]
    }
   ],
   "source": [
    "FD_OUTS=($(ls -d ${FD_DAT}/external/${TXT_FOLDER}/*))\n",
    "for FD_OUT in ${FD_OUTS[@]}; do\n",
    "    FOLDER_SUB=$(basename ${FD_OUT})\n",
    "    echo ${FD_OUT}\n",
    "    echo \"Folder:\" ${FOLDER_SUB}\n",
    "    echo\n",
    "done"
   ]
  },
  {
   "cell_type": "code",
   "execution_count": 6,
   "id": "4cc613e2-0141-4ed0-95e1-8a70d2b9a768",
   "metadata": {},
   "outputs": [
    {
     "name": "stdout",
     "output_type": "stream",
     "text": [
      "Folder: region_narrowPeak\n",
      "Count:  19\n",
      "\n",
      "Folder: signal_fold_change\n",
      "Count:  19\n",
      "\n",
      "Folder: signal_pvalue\n",
      "Count:  19\n",
      "\n"
     ]
    }
   ],
   "source": [
    "FP_INPS=($(ls ${FD_DAT}/external/${TXT_FOLDER}/*/files.txt))\n",
    "for FP_INP in ${FP_INPS[@]}; do\n",
    "    FD_OUT=$(dirname  ${FP_INP})\n",
    "    FOLDER_SUB=$(basename ${FD_OUT})\n",
    "    NUM=$(cat ${FP_INP} | wc -l)\n",
    "    \n",
    "    echo \"Folder:\" ${FOLDER_SUB}\n",
    "    echo \"Count: \" ${NUM} \n",
    "    echo\n",
    "done"
   ]
  },
  {
   "cell_type": "code",
   "execution_count": 7,
   "id": "82dc9a1d-1e1a-4173-9916-d23b74d1a0cc",
   "metadata": {},
   "outputs": [
    {
     "name": "stdout",
     "output_type": "stream",
     "text": [
      "Folder: region_narrowPeak\n",
      "Count:  19\n",
      "\n",
      "Folder: signal_fold_change\n",
      "Count:  19\n",
      "\n",
      "Folder: signal_pvalue\n",
      "Count:  19\n",
      "\n"
     ]
    }
   ],
   "source": [
    "FP_INPS=($(ls ${FD_DAT}/external/${TXT_FOLDER}/*/checksum_md5sum.txt))\n",
    "for FP_INP in ${FP_INPS[@]}; do\n",
    "    FD_OUT=$(dirname  ${FP_INP})\n",
    "    FOLDER_SUB=$(basename ${FD_OUT})\n",
    "    NUM=$(cat ${FP_INP} | wc -l)\n",
    "    \n",
    "    echo \"Folder:\" ${FOLDER_SUB}\n",
    "    echo \"Count: \" ${NUM} \n",
    "    echo\n",
    "done"
   ]
  },
  {
   "cell_type": "markdown",
   "id": "da946e6e-2f70-40b3-8310-5fd7abaa252f",
   "metadata": {},
   "source": [
    "**Run download script**"
   ]
  },
  {
   "cell_type": "code",
   "execution_count": 8,
   "id": "2a879963-2e3d-4af8-9598-46cdca1ed27e",
   "metadata": {},
   "outputs": [
    {
     "name": "stdout",
     "output_type": "stream",
     "text": [
      "Folder: signal_pvalue\n",
      "Count:  19\n",
      "\n",
      "Submitted batch job 275736\n",
      "Folder: signal_pvalue\n",
      "Count:  19\n",
      "\n",
      "Submitted batch job 275737\n",
      "Folder: signal_pvalue\n",
      "Count:  19\n",
      "\n",
      "Submitted batch job 275738\n"
     ]
    }
   ],
   "source": [
    "### init: exe\n",
    "FN_EXE=run_download_files.sh\n",
    "FP_EXE=${FD_EXE}/${FN_EXE}\n",
    "\n",
    "### init: directory\n",
    "FD_OUTS=($(ls -d ${FD_DAT}/external/${TXT_FOLDER}/*))\n",
    "\n",
    "### loop and execute\n",
    "for FD_OUT in ${FD_OUTS[@]}; do\n",
    "\n",
    "    ### init: file list\n",
    "    FP_INP=${FD_OUT}/files.txt\n",
    "    NUM=$(cat ${FP_INP} | wc -l)\n",
    "    \n",
    "    ### init: log file\n",
    "    TXT_FOLDER_SUB=$(basename ${FD_OUT})\n",
    "    FN_LOG=download.encode_chipseq_histone_250120.${TXT_FOLDER_SUB}.txt\n",
    "    FP_LOG=${FD_LOG}/${FN_LOG}\n",
    "\n",
    "    ### show progress\n",
    "    echo \"Folder:\" ${FOLDER_SUB}\n",
    "    echo \"Count: \" ${NUM} \n",
    "    echo\n",
    "    \n",
    "    ### execute\n",
    "    cd ${FD_OUT}\n",
    "    sbatch \\\n",
    "        --cpus-per-task 4 \\\n",
    "        --mem 4G \\\n",
    "        --output ${FP_LOG} \\\n",
    "        ${FP_EXE} ${FP_CNF} ${FP_INP} ${FD_OUT}\n",
    "    echo\n",
    "done"
   ]
  },
  {
   "cell_type": "markdown",
   "id": "e58b62fc-03e2-4803-8943-402ccc4736f5",
   "metadata": {},
   "source": [
    "**Run checksum**"
   ]
  },
  {
   "cell_type": "code",
   "execution_count": 12,
   "id": "f4a51036-1107-4da6-9a8e-038c8aad824c",
   "metadata": {},
   "outputs": [
    {
     "name": "stdout",
     "output_type": "stream",
     "text": [
      "Folder: signal_pvalue\n",
      "Count:  19\n",
      "\n",
      "Submitted batch job 275742\n",
      "\n",
      "Folder: signal_pvalue\n",
      "Count:  19\n",
      "\n",
      "Submitted batch job 275743\n",
      "\n",
      "Folder: signal_pvalue\n",
      "Count:  19\n",
      "\n",
      "Submitted batch job 275744\n",
      "\n"
     ]
    }
   ],
   "source": [
    "### init: exe\n",
    "FN_EXE=run_checksum_files.sh\n",
    "FP_EXE=${FD_EXE}/${FN_EXE}\n",
    "\n",
    "### init: directory\n",
    "FD_OUTS=($(ls -d ${FD_DAT}/external/${TXT_FOLDER}/*))\n",
    "\n",
    "### loop and execute\n",
    "for FD_OUT in ${FD_OUTS[@]}; do\n",
    "\n",
    "    ### init: I/O file\n",
    "    FP_INP=${FD_OUT}/checksum_md5sum.txt\n",
    "    FP_OUT=${FD_OUT}/checksum_results.txt\n",
    "    NUM=$(cat ${FP_INP} | wc -l)\n",
    "    \n",
    "    ### init: log file\n",
    "    TXT_FOLDER_SUB=$(basename ${FD_OUT})\n",
    "    FN_LOG=checksum.encode_chipseq_histone_250120.${TXT_FOLDER_SUB}.txt\n",
    "    FP_LOG=${FD_LOG}/${FN_LOG}\n",
    "\n",
    "    ### show progress\n",
    "    echo \"Folder:\" ${FOLDER_SUB}\n",
    "    echo \"Count: \" ${NUM} \n",
    "    echo\n",
    "    \n",
    "    ### execute\n",
    "    cd ${FD_OUT}\n",
    "    sbatch \\\n",
    "        --cpus-per-task 4 \\\n",
    "        --mem 4G \\\n",
    "        --output ${FP_LOG} \\\n",
    "        ${FP_EXE} ${FP_CNF} ${FD_OUT} ${FP_INP} ${FP_OUT}\n",
    "    echo\n",
    "done"
   ]
  },
  {
   "cell_type": "markdown",
   "id": "2d7178c9-fd12-44a0-a783-07830d02d902",
   "metadata": {},
   "source": [
    "## Review"
   ]
  },
  {
   "cell_type": "markdown",
   "id": "599fc179-7fdc-4554-bb15-0cc41068663c",
   "metadata": {},
   "source": [
    "**Check output files**"
   ]
  },
  {
   "cell_type": "code",
   "execution_count": 13,
   "id": "8f095252-5834-4cf8-820a-feb229e3bb2e",
   "metadata": {},
   "outputs": [
    {
     "name": "stdout",
     "output_type": "stream",
     "text": [
      "\u001b[0m\u001b[01;34mregion_narrowPeak\u001b[0m  \u001b[01;34msignal_fold_change\u001b[0m  \u001b[01;34msignal_pvalue\u001b[0m\n"
     ]
    }
   ],
   "source": [
    "ls ${FD_DAT}/external/${TXT_FOLDER}"
   ]
  },
  {
   "cell_type": "code",
   "execution_count": 14,
   "id": "711ee8fe-c61b-4c64-a40d-ddb768359206",
   "metadata": {},
   "outputs": [
    {
     "name": "stdout",
     "output_type": "stream",
     "text": [
      "20\n",
      " 648K \u001b[0m\u001b[01;31mENCFF122CSI.bed.gz\u001b[0m   204K \u001b[01;31mENCFF462AVD.bed.gz\u001b[0m   3.1M \u001b[01;31mENCFF801AHF.bed.gz\u001b[0m\n",
      " 2.3M \u001b[01;31mENCFF135ZLM.bed.gz\u001b[0m   2.7M \u001b[01;31mENCFF540NGG.bed.gz\u001b[0m   596K \u001b[01;31mENCFF885FQN.bed.gz\u001b[0m\n",
      " 2.7M \u001b[01;31mENCFF148UQI.bed.gz\u001b[0m   1.4M \u001b[01;31mENCFF544LXB.bed.gz\u001b[0m  1004K \u001b[01;31mENCFF891CHI.bed.gz\u001b[0m\n",
      " 3.6M \u001b[01;31mENCFF193ERO.bed.gz\u001b[0m   1.4M \u001b[01;31mENCFF561OUZ.bed.gz\u001b[0m   804K \u001b[01;31mENCFF909RKY.bed.gz\u001b[0m\n",
      " 2.0M \u001b[01;31mENCFF209OQD.bed.gz\u001b[0m   1.1M \u001b[01;31mENCFF689QIJ.bed.gz\u001b[0m   504K \u001b[01;31mENCFF963GZJ.bed.gz\u001b[0m\n",
      " 2.8M \u001b[01;31mENCFF213OTI.bed.gz\u001b[0m   752K \u001b[01;31mENCFF706WUF.bed.gz\u001b[0m   8.0K metadata.tsv\n",
      " 2.3M \u001b[01;31mENCFF323WOT.bed.gz\u001b[0m   1.6M \u001b[01;31mENCFF749KLQ.bed.gz\u001b[0m\n"
     ]
    }
   ],
   "source": [
    "FD_OUT=${FD_DAT}/external/${TXT_FOLDER}/region_narrowPeak\n",
    "\n",
    "cd ${FD_OUT}\n",
    "ls -sh {*bed.gz,*.tsv} | wc -l\n",
    "ls -sh {*bed.gz,*.tsv}"
   ]
  },
  {
   "cell_type": "code",
   "execution_count": 15,
   "id": "8f9f92ec-3027-47cf-8934-4859d7978ca1",
   "metadata": {},
   "outputs": [
    {
     "name": "stdout",
     "output_type": "stream",
     "text": [
      "20\n",
      "610M ENCFF139KZL.bigWig  434M ENCFF399SGM.bigWig  652M ENCFF654SLZ.bigWig\n",
      "1.4G ENCFF242ENK.bigWig  885M ENCFF544AVW.bigWig  510M ENCFF660WUG.bigWig\n",
      "1.1G ENCFF253TOF.bigWig  558M ENCFF583BKU.bigWig  345M ENCFF806YEZ.bigWig\n",
      "593M ENCFF286WRJ.bigWig  970M ENCFF601JGK.bigWig  302M ENCFF911JVK.bigWig\n",
      "1.2G ENCFF317VHO.bigWig  658M ENCFF605FAF.bigWig  380M ENCFF959YJV.bigWig\n",
      "399M ENCFF347YYH.bigWig  1.4G ENCFF607SUJ.bigWig  8.0K metadata.tsv\n",
      "1.5G ENCFF381NDD.bigWig  770M ENCFF621DJP.bigWig\n"
     ]
    }
   ],
   "source": [
    "FD_OUT=${FD_DAT}/external/${TXT_FOLDER}/signal_fold_change\n",
    "\n",
    "cd ${FD_OUT}\n",
    "ls -sh {*bigWig,*.tsv} | wc -l\n",
    "ls -sh {*bigWig,*.tsv}"
   ]
  },
  {
   "cell_type": "code",
   "execution_count": 16,
   "id": "9d509d48-7a52-483e-8673-ba02561ec1e3",
   "metadata": {},
   "outputs": [
    {
     "name": "stdout",
     "output_type": "stream",
     "text": [
      "20\n",
      "685M ENCFF054RSU.bigWig  857M ENCFF334HSS.bigWig  899M ENCFF632NQA.bigWig\n",
      "337M ENCFF071GML.bigWig  1.1G ENCFF405ZDL.bigWig  369M ENCFF633OZC.bigWig\n",
      "568M ENCFF178QDA.bigWig  965M ENCFF457URZ.bigWig  675M ENCFF694ODT.bigWig\n",
      "837M ENCFF202EVH.bigWig  487M ENCFF461RKK.bigWig  761M ENCFF767UON.bigWig\n",
      "732M ENCFF220RGS.bigWig  1.3G ENCFF465GBD.bigWig  613M ENCFF847BFA.bigWig\n",
      "642M ENCFF239EBH.bigWig  1.4G ENCFF582IMB.bigWig  8.0K metadata.tsv\n",
      "496M ENCFF287LBI.bigWig  1.3G ENCFF605EVL.bigWig\n"
     ]
    }
   ],
   "source": [
    "FD_OUT=${FD_DAT}/external/${TXT_FOLDER}/signal_pvalue\n",
    "\n",
    "cd ${FD_OUT}\n",
    "ls -sh {*bigWig,*.tsv} | wc -l\n",
    "ls -sh {*bigWig,*.tsv}"
   ]
  },
  {
   "cell_type": "markdown",
   "id": "9bff0da3-6d74-455d-ae14-1af0c6bf1d55",
   "metadata": {},
   "source": [
    "**Check checksum results**"
   ]
  },
  {
   "cell_type": "code",
   "execution_count": 17,
   "id": "b146fc8c-d180-44d0-8688-d796a87d2b00",
   "metadata": {},
   "outputs": [
    {
     "name": "stdout",
     "output_type": "stream",
     "text": [
      "\u001b[0m\u001b[01;34mregion_narrowPeak\u001b[0m  \u001b[01;34msignal_fold_change\u001b[0m  \u001b[01;34msignal_pvalue\u001b[0m\n"
     ]
    }
   ],
   "source": [
    "ls ${FD_DAT}/external/${TXT_FOLDER}"
   ]
  },
  {
   "cell_type": "code",
   "execution_count": 18,
   "id": "c9ba6ad8-dc1d-4ce3-9479-931b5f6d73d3",
   "metadata": {},
   "outputs": [
    {
     "name": "stdout",
     "output_type": "stream",
     "text": [
      "ENCFF689QIJ.bed.gz: OK\n",
      "ENCFF323WOT.bed.gz: OK\n",
      "ENCFF540NGG.bed.gz: OK\n",
      "ENCFF462AVD.bed.gz: OK\n",
      "ENCFF749KLQ.bed.gz: OK\n",
      "ENCFF909RKY.bed.gz: OK\n",
      "ENCFF209OQD.bed.gz: OK\n",
      "ENCFF891CHI.bed.gz: OK\n",
      "ENCFF148UQI.bed.gz: OK\n",
      "ENCFF706WUF.bed.gz: OK\n",
      "ENCFF122CSI.bed.gz: OK\n",
      "ENCFF213OTI.bed.gz: OK\n",
      "ENCFF193ERO.bed.gz: OK\n",
      "ENCFF801AHF.bed.gz: OK\n",
      "ENCFF544LXB.bed.gz: OK\n",
      "ENCFF561OUZ.bed.gz: OK\n",
      "ENCFF885FQN.bed.gz: OK\n",
      "ENCFF963GZJ.bed.gz: OK\n",
      "ENCFF135ZLM.bed.gz: OK\n",
      "All PASSED\n"
     ]
    }
   ],
   "source": [
    "FD_OUT=${FD_DAT}/external/${TXT_FOLDER}/region_narrowPeak\n",
    "FP_OUT=${FD_OUT}/checksum_results.txt\n",
    "\n",
    "cat ${FP_OUT}\n",
    "cat ${FP_OUT} | grep \"FAILED\" && echo \"FAILED\" || echo \"All PASSED\""
   ]
  },
  {
   "cell_type": "code",
   "execution_count": 19,
   "id": "207a3bcc-824b-43bd-ac9f-e4a4cd8c669f",
   "metadata": {},
   "outputs": [
    {
     "name": "stdout",
     "output_type": "stream",
     "text": [
      "ENCFF544AVW.bigWig: OK\n",
      "ENCFF286WRJ.bigWig: OK\n",
      "ENCFF621DJP.bigWig: OK\n",
      "ENCFF959YJV.bigWig: OK\n",
      "ENCFF911JVK.bigWig: OK\n",
      "ENCFF242ENK.bigWig: OK\n",
      "ENCFF806YEZ.bigWig: OK\n",
      "ENCFF583BKU.bigWig: OK\n",
      "ENCFF660WUG.bigWig: OK\n",
      "ENCFF605FAF.bigWig: OK\n",
      "ENCFF654SLZ.bigWig: OK\n",
      "ENCFF317VHO.bigWig: OK\n",
      "ENCFF139KZL.bigWig: OK\n",
      "ENCFF399SGM.bigWig: OK\n",
      "ENCFF347YYH.bigWig: OK\n",
      "ENCFF381NDD.bigWig: OK\n",
      "ENCFF607SUJ.bigWig: OK\n",
      "ENCFF601JGK.bigWig: OK\n",
      "ENCFF253TOF.bigWig: OK\n",
      "All PASSED\n"
     ]
    }
   ],
   "source": [
    "FD_OUT=${FD_DAT}/external/${TXT_FOLDER}/signal_fold_change\n",
    "FP_OUT=${FD_OUT}/checksum_results.txt\n",
    "\n",
    "cat ${FP_OUT}\n",
    "cat ${FP_OUT} | grep \"FAILED\" && echo \"FAILED\" || echo \"All PASSED\""
   ]
  },
  {
   "cell_type": "code",
   "execution_count": 20,
   "id": "9556cd71-1a99-4d1d-ac4b-40b53b4adbfa",
   "metadata": {},
   "outputs": [
    {
     "name": "stdout",
     "output_type": "stream",
     "text": [
      "ENCFF767UON.bigWig: OK\n",
      "ENCFF582IMB.bigWig: OK\n",
      "ENCFF287LBI.bigWig: OK\n",
      "ENCFF220RGS.bigWig: OK\n",
      "ENCFF054RSU.bigWig: OK\n",
      "ENCFF694ODT.bigWig: OK\n",
      "ENCFF334HSS.bigWig: OK\n",
      "ENCFF239EBH.bigWig: OK\n",
      "ENCFF178QDA.bigWig: OK\n",
      "ENCFF071GML.bigWig: OK\n",
      "ENCFF461RKK.bigWig: OK\n",
      "ENCFF202EVH.bigWig: OK\n",
      "ENCFF605EVL.bigWig: OK\n",
      "ENCFF847BFA.bigWig: OK\n",
      "ENCFF465GBD.bigWig: OK\n",
      "ENCFF633OZC.bigWig: OK\n",
      "ENCFF405ZDL.bigWig: OK\n",
      "ENCFF632NQA.bigWig: OK\n",
      "ENCFF457URZ.bigWig: OK\n",
      "All PASSED\n"
     ]
    }
   ],
   "source": [
    "FD_OUT=${FD_DAT}/external/${TXT_FOLDER}/signal_pvalue\n",
    "FP_OUT=${FD_OUT}/checksum_results.txt\n",
    "\n",
    "cat ${FP_OUT}\n",
    "cat ${FP_OUT} | grep \"FAILED\" && echo \"FAILED\" || echo \"All PASSED\""
   ]
  },
  {
   "cell_type": "markdown",
   "id": "2b0ba79b-c4b1-4590-a8bb-f9753a40a7be",
   "metadata": {},
   "source": [
    "**Check execution log**"
   ]
  },
  {
   "cell_type": "code",
   "execution_count": 21,
   "id": "0f697086-dfb6-4d37-b789-6829d0778e79",
   "metadata": {},
   "outputs": [
    {
     "name": "stdout",
     "output_type": "stream",
     "text": [
      "\u001b[0m\u001b[01;34mregion_narrowPeak\u001b[0m  \u001b[01;34msignal_fold_change\u001b[0m  \u001b[01;34msignal_pvalue\u001b[0m\n"
     ]
    }
   ],
   "source": [
    "ls ${FD_DAT}/external/${TXT_FOLDER}"
   ]
  },
  {
   "cell_type": "code",
   "execution_count": 22,
   "id": "9ec2a48f-4ffc-420e-8ae8-edbd3f26b968",
   "metadata": {},
   "outputs": [
    {
     "name": "stdout",
     "output_type": "stream",
     "text": [
      "Hostname:           plp-rcc-node-03\n",
      "Slurm Array Index: \n",
      "Time Stamp:         05-22-25+16:25:55\n",
      "\n",
      "Change directory:\n",
      "/data/reddylab/Kuei/repo/Proj_ENCODE_FCC/data/external/encode_chipseq_histone_250120/region_narrowPeak\n",
      "\n",
      "Download files...\n",
      "  % Total    % Received % Xferd  Average Speed   Time    Time     Time  Current\n",
      "                                 Dload  Upload   Total   Spent    Left  Speed\n",
      "100  1935  100  1935    0     0    497      0  0:00:03  0:00:03 --:--:--   497\n",
      "Warning: Failed to create the file ENCFF689QIJ.bed.gz: File exists\n",
      "  0     0    0     0    0     0      0      0 --:--:--  0:00:04 --:--:--     0\n",
      "curl: (23) Failed writing header\n",
      "  % Total    % Received % Xferd  Average Speed   Time    Time     Time  Current\n",
      "                                 Dload  Upload   Total   Spent    Left  Speed\n",
      "100  1933  100  1933    0     0   5154      0 --:--:-- --:--:-- --:--:--  5140\n",
      "Warning: Failed to create the file ENCFF323WOT.bed.gz: File exists\n",
      "  0     0    0     0    0     0      0      0 --:--:-- --:--:-- --:--:--     0\n",
      "curl: (23) Failed writing header\n"
     ]
    }
   ],
   "source": [
    "FN_LOG=download.encode_chipseq_histone_250120.region_narrowPeak.txt\n",
    "FP_LOG=${FD_LOG}/${FN_LOG}\n",
    "\n",
    "head -n 20 ${FP_LOG}"
   ]
  },
  {
   "cell_type": "code",
   "execution_count": 23,
   "id": "de40de70-1fe2-474c-8338-5d5ae127dd0f",
   "metadata": {},
   "outputs": [
    {
     "name": "stdout",
     "output_type": "stream",
     "text": [
      "Hostname:           plp-rcc-node-03\n",
      "Slurm Array Index: \n",
      "Time Stamp:         05-22-25+16:37:50\n",
      "\n",
      "Change directory:\n",
      "/data/reddylab/Kuei/repo/Proj_ENCODE_FCC/data/external/encode_chipseq_histone_250120/region_narrowPeak\n",
      "\n",
      "Checksum files...\n",
      "\n",
      "\n",
      "Done!\n",
      "Run Time: 1 seconds\n",
      "\n"
     ]
    }
   ],
   "source": [
    "FN_LOG=checksum.encode_chipseq_histone_250120.region_narrowPeak.txt\n",
    "FP_LOG=${FD_LOG}/${FN_LOG}\n",
    "\n",
    "head -n 20 ${FP_LOG}"
   ]
  },
  {
   "cell_type": "code",
   "execution_count": null,
   "id": "b0136489-34b9-4975-86de-4a1f1ed92b28",
   "metadata": {},
   "outputs": [],
   "source": []
  }
 ],
 "metadata": {
  "kernelspec": {
   "display_name": "Bash",
   "language": "bash",
   "name": "bash"
  },
  "language_info": {
   "codemirror_mode": "shell",
   "file_extension": ".sh",
   "mimetype": "text/x-sh",
   "name": "bash"
  }
 },
 "nbformat": 4,
 "nbformat_minor": 5
}
