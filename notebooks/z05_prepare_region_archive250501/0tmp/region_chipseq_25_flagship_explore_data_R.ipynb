{
 "cells": [
  {
   "cell_type": "raw",
   "id": "6098fa87-65f4-482c-a7a6-b60922a9c356",
   "metadata": {},
   "source": [
    "---\n",
    "title: Prepare ENCODE ChIP-seq 25 (TF; Flagship)\n",
    "subtitle: Explore data\n",
    "format:\n",
    "    html:\n",
    "        code-fold:  true\n",
    "        code-tools: true\n",
    "---"
   ]
  },
  {
   "cell_type": "markdown",
   "id": "fd10364f-14e7-408a-9654-e694d2350421",
   "metadata": {},
   "source": [
    "**Set environment**"
   ]
  },
  {
   "cell_type": "code",
   "execution_count": 1,
   "id": "0650ab5d-4582-428e-9b27-263a3e7ebf11",
   "metadata": {},
   "outputs": [
    {
     "name": "stdout",
     "output_type": "stream",
     "text": [
      "You are working on        Singularity \n",
      "BASE DIRECTORY (FD_BASE): /mount \n",
      "REPO DIRECTORY (FD_REPO): /mount/repo \n",
      "WORK DIRECTORY (FD_WORK): /mount/work \n",
      "DATA DIRECTORY (FD_DATA): /mount/data \n",
      "\n",
      "You are working with      ENCODE FCC \n",
      "PATH OF PROJECT (FD_PRJ): /mount/repo/Proj_ENCODE_FCC \n",
      "PROJECT RESULTS (FD_RES): /mount/repo/Proj_ENCODE_FCC/results \n",
      "PROJECT SCRIPTS (FD_EXE): /mount/repo/Proj_ENCODE_FCC/scripts \n",
      "PROJECT DATA    (FD_DAT): /mount/repo/Proj_ENCODE_FCC/data \n",
      "PROJECT NOTE    (FD_NBK): /mount/repo/Proj_ENCODE_FCC/notebooks \n",
      "PROJECT DOCS    (FD_DOC): /mount/repo/Proj_ENCODE_FCC/docs \n",
      "PROJECT LOG     (FD_LOG): /mount/repo/Proj_ENCODE_FCC/log \n",
      "PROJECT APP     (FD_APP): /mount/repo/Proj_ENCODE_FCC/app \n",
      "PROJECT REF     (FD_REF): /mount/repo/Proj_ENCODE_FCC/references \n",
      "\n"
     ]
    }
   ],
   "source": [
    "suppressMessages(suppressWarnings(source(\"../run_config_project_sing.R\")))\n",
    "show_env()"
   ]
  },
  {
   "cell_type": "markdown",
   "id": "fa3964c5-3dc3-4969-ab41-1a914ec8f1c8",
   "metadata": {},
   "source": [
    "**Set global variables**"
   ]
  },
  {
   "cell_type": "code",
   "execution_count": 2,
   "id": "e17789bf-fe99-402c-be3f-754daa93102d",
   "metadata": {},
   "outputs": [],
   "source": [
    "TXT_FOLDER_REGION = \"encode_chipseq_flagship\""
   ]
  },
  {
   "cell_type": "code",
   "execution_count": 10,
   "id": "667e413a-92f4-4bdb-8dce-4052efd99cd6",
   "metadata": {},
   "outputs": [
    {
     "name": "stdout",
     "output_type": "stream",
     "text": [
      "[1] 3092    6\n"
     ]
    },
    {
     "data": {
      "text/html": [
       "<table>\n",
       " <thead>\n",
       "  <tr>\n",
       "   <th style=\"text-align:left;\"> Experiment Accession </th>\n",
       "   <th style=\"text-align:left;\"> Peak Accession </th>\n",
       "   <th style=\"text-align:left;\"> Biosample </th>\n",
       "   <th style=\"text-align:left;\"> Target </th>\n",
       "   <th style=\"text-align:left;\"> Lab </th>\n",
       "   <th style=\"text-align:left;\"> RFA </th>\n",
       "  </tr>\n",
       " </thead>\n",
       "<tbody>\n",
       "  <tr>\n",
       "   <td style=\"text-align:left;\"> ENCSR753RME </td>\n",
       "   <td style=\"text-align:left;\"> ENCFF917CYG </td>\n",
       "   <td style=\"text-align:left;\"> Homo sapiens testis tissue male adult (37 years) </td>\n",
       "   <td style=\"text-align:left;\"> CTCF </td>\n",
       "   <td style=\"text-align:left;\"> Bradley Bernstein, Broad </td>\n",
       "   <td style=\"text-align:left;\"> ENCODE4 </td>\n",
       "  </tr>\n",
       "  <tr>\n",
       "   <td style=\"text-align:left;\"> ENCSR992XTY </td>\n",
       "   <td style=\"text-align:left;\"> ENCFF112GJQ </td>\n",
       "   <td style=\"text-align:left;\"> Homo sapiens WTC11 </td>\n",
       "   <td style=\"text-align:left;\"> CTCF </td>\n",
       "   <td style=\"text-align:left;\"> Bradley Bernstein, Broad </td>\n",
       "   <td style=\"text-align:left;\"> ENCODE4 </td>\n",
       "  </tr>\n",
       "  <tr>\n",
       "   <td style=\"text-align:left;\"> ENCSR934GQS </td>\n",
       "   <td style=\"text-align:left;\"> ENCFF483KVM </td>\n",
       "   <td style=\"text-align:left;\"> Homo sapiens ovary tissue female adult (41 years) </td>\n",
       "   <td style=\"text-align:left;\"> CTCF </td>\n",
       "   <td style=\"text-align:left;\"> Bradley Bernstein, Broad </td>\n",
       "   <td style=\"text-align:left;\"> ENCODE4 </td>\n",
       "  </tr>\n",
       "</tbody>\n",
       "</table>"
      ]
     },
     "metadata": {},
     "output_type": "display_data"
    }
   ],
   "source": [
    "### set file path\n",
    "txt_fdiry = file.path(FD_REF, \"encode_chipseq_flagship\")\n",
    "txt_fname = \"ENCODE4 TF Accessions for Flagship_updated221025.tsv\"\n",
    "txt_fpath = file.path(txt_fdiry, txt_fname)\n",
    "\n",
    "### read table\n",
    "dat = read_tsv(txt_fpath, show_col_types = FALSE)\n",
    "\n",
    "### show and assign\n",
    "dat_metadata_import = dat\n",
    "print(dim(dat))\n",
    "fun_display_table(head(dat, 3))"
   ]
  },
  {
   "cell_type": "code",
   "execution_count": 11,
   "id": "1acc916f-4589-41a8-a063-efecf0971ca7",
   "metadata": {},
   "outputs": [
    {
     "data": {
      "text/html": [
       "0"
      ],
      "text/latex": [
       "0"
      ],
      "text/markdown": [
       "0"
      ],
      "text/plain": [
       "[1] 0"
      ]
     },
     "metadata": {},
     "output_type": "display_data"
    }
   ],
   "source": [
    "dat = dat_metadata_import\n",
    "vec = dat$Target\n",
    "idx = str_detect(vec, \"_\")\n",
    "sum(idx)"
   ]
  },
  {
   "cell_type": "code",
   "execution_count": 12,
   "id": "124b9155-9b56-44ba-8725-91dbb4b14142",
   "metadata": {},
   "outputs": [
    {
     "data": {
      "text/html": [
       "0"
      ],
      "text/latex": [
       "0"
      ],
      "text/markdown": [
       "0"
      ],
      "text/plain": [
       "[1] 0"
      ]
     },
     "metadata": {},
     "output_type": "display_data"
    }
   ],
   "source": [
    "dat = dat_metadata_import\n",
    "vec = dat$Target\n",
    "idx = str_detect(vec, \"\\\\.\")\n",
    "sum(idx)"
   ]
  },
  {
   "cell_type": "code",
   "execution_count": null,
   "id": "5fea4249-9778-40d8-8c61-8a6e15c3bad0",
   "metadata": {},
   "outputs": [],
   "source": []
  },
  {
   "cell_type": "markdown",
   "id": "c0d21d37-a3cb-404f-be17-54c601736bed",
   "metadata": {},
   "source": [
    "## Define file labeling"
   ]
  },
  {
   "cell_type": "code",
   "execution_count": 5,
   "id": "7d8452b4-7a30-4946-8c01-795027c7b10a",
   "metadata": {},
   "outputs": [
    {
     "name": "stdout",
     "output_type": "stream",
     "text": [
      "[1] 734   4\n"
     ]
    },
    {
     "data": {
      "text/html": [
       "<table>\n",
       " <thead>\n",
       "  <tr>\n",
       "   <th style=\"text-align:left;\"> Folder </th>\n",
       "   <th style=\"text-align:left;\"> FName </th>\n",
       "   <th style=\"text-align:left;\"> Label </th>\n",
       "   <th style=\"text-align:left;\"> Target </th>\n",
       "  </tr>\n",
       " </thead>\n",
       "<tbody>\n",
       "  <tr>\n",
       "   <td style=\"text-align:left;\"> encode_chipseq_flagship </td>\n",
       "   <td style=\"text-align:left;\"> K562.hg38.ENCSR000AKO.ENCFF769AUF.ChIPseq.CTCF.bed.gz </td>\n",
       "   <td style=\"text-align:left;\"> chipseq_CTCF_ENCFF769AUF </td>\n",
       "   <td style=\"text-align:left;\"> CTCF </td>\n",
       "  </tr>\n",
       "  <tr>\n",
       "   <td style=\"text-align:left;\"> encode_chipseq_flagship </td>\n",
       "   <td style=\"text-align:left;\"> K562.hg38.ENCSR000AQA.ENCFF807FNB.ChIPseq.KDM5B.bed.gz </td>\n",
       "   <td style=\"text-align:left;\"> chipseq_KDM5B_ENCFF807FNB </td>\n",
       "   <td style=\"text-align:left;\"> KDM5B </td>\n",
       "  </tr>\n",
       "  <tr>\n",
       "   <td style=\"text-align:left;\"> encode_chipseq_flagship </td>\n",
       "   <td style=\"text-align:left;\"> K562.hg38.ENCSR000AQD.ENCFF408NUX.ChIPseq.CHD1.bed.gz </td>\n",
       "   <td style=\"text-align:left;\"> chipseq_CHD1_ENCFF408NUX </td>\n",
       "   <td style=\"text-align:left;\"> CHD1 </td>\n",
       "  </tr>\n",
       "  <tr>\n",
       "   <td style=\"text-align:left;\"> encode_chipseq_flagship </td>\n",
       "   <td style=\"text-align:left;\"> K562.hg38.ENCSR000AQE.ENCFF804RVA.ChIPseq.EZH2.bed.gz </td>\n",
       "   <td style=\"text-align:left;\"> chipseq_EZH2_ENCFF804RVA </td>\n",
       "   <td style=\"text-align:left;\"> EZH2 </td>\n",
       "  </tr>\n",
       "  <tr>\n",
       "   <td style=\"text-align:left;\"> encode_chipseq_flagship </td>\n",
       "   <td style=\"text-align:left;\"> K562.hg38.ENCSR000AQF.ENCFF669MJX.ChIPseq.HDAC1.bed.gz </td>\n",
       "   <td style=\"text-align:left;\"> chipseq_HDAC1_ENCFF669MJX </td>\n",
       "   <td style=\"text-align:left;\"> HDAC1 </td>\n",
       "  </tr>\n",
       "  <tr>\n",
       "   <td style=\"text-align:left;\"> encode_chipseq_flagship </td>\n",
       "   <td style=\"text-align:left;\"> K562.hg38.ENCSR000AQG.ENCFF182MPT.ChIPseq.HDAC2.bed.gz </td>\n",
       "   <td style=\"text-align:left;\"> chipseq_HDAC2_ENCFF182MPT </td>\n",
       "   <td style=\"text-align:left;\"> HDAC2 </td>\n",
       "  </tr>\n",
       "</tbody>\n",
       "</table>"
      ]
     },
     "metadata": {},
     "output_type": "display_data"
    }
   ],
   "source": [
    "### set directory\n",
    "txt_folder = TXT_FOLDER_REGION\n",
    "txt_fdiry  = file.path(FD_RES, \"region\", txt_folder)\n",
    "txt_fglob  = file.path(txt_fdiry, \"*bed*\")\n",
    "\n",
    "### get file names\n",
    "vec_txt_fpath = Sys.glob(txt_fglob)\n",
    "vec_txt_fname = basename(vec_txt_fpath)\n",
    "\n",
    "### init info table\n",
    "dat = data.frame(\n",
    "    \"Folder\" = txt_folder,\n",
    "    \"FName\"  = vec_txt_fname\n",
    ")\n",
    "\n",
    "### arrange table\n",
    "dat = dat %>% tidyr::separate(\n",
    "        FName, \n",
    "        c(\"Biosample\", \"Genome\", \"Index_Experiment\", \"Index_File\", \"Assay\", \"Target\", \"File_Type\", \"File_Ext\"),\n",
    "        sep = \"\\\\.\",\n",
    "        remove = FALSE\n",
    "    ) %>%\n",
    "    dplyr::mutate(\n",
    "        Label = paste(tolower(Assay), Target, Index_File, sep=\"_\"),\n",
    "        Target = Target\n",
    "    ) %>%\n",
    "    dplyr::select(Folder, FName, Label, Target) \n",
    "\n",
    "### assign and show\n",
    "dat_region_label = dat\n",
    "print(dim(dat))\n",
    "fun_display_table(head(dat))"
   ]
  },
  {
   "cell_type": "code",
   "execution_count": 9,
   "id": "b3961428-d28c-4ef3-8eff-eb00233cb922",
   "metadata": {},
   "outputs": [
    {
     "data": {
      "text/html": [
       "0"
      ],
      "text/latex": [
       "0"
      ],
      "text/markdown": [
       "0"
      ],
      "text/plain": [
       "[1] 0"
      ]
     },
     "metadata": {},
     "output_type": "display_data"
    }
   ],
   "source": [
    "dat = dat_region_label\n",
    "vec = dat$Target\n",
    "idx = str_detect(vec, \"_\")\n",
    "sum(idx)"
   ]
  },
  {
   "cell_type": "code",
   "execution_count": 7,
   "id": "1de27287-ca65-4336-9631-aeb1265f54b9",
   "metadata": {},
   "outputs": [
    {
     "data": {
      "text/plain": [
       "vec\n",
       "           ADNP            AFF1            AGO1        ARHGAP35          ARID1B \n",
       "              1               2               1               1               1 \n",
       "          ARID2          ARID3A          ARID3B          ARID4B            ARNT \n",
       "              1               1               1               2               3 \n",
       "          ASH1L            ATF1            ATF2            ATF3            ATF4 \n",
       "              1               4               2               4               2 \n",
       "           ATF6            ATF7           BACH1            BCL6          BCLAF1 \n",
       "              1               1               2               1               3 \n",
       "           BCOR            BDP1         BHLHE40            BMI1           BRCA1 \n",
       "              1               1               1               1               2 \n",
       "           BRD4            BRD9            BRF1            BRF2        C11orf30 \n",
       "              1               1               1               1               1 \n",
       "         CAMTA2         CBFA2T2         CBFA2T3            CBFB            CBX1 \n",
       "              1               1               1               1               1 \n",
       "           CBX2            CBX3            CBX5            CBX8          CC2D1A \n",
       "              1               2               1               1               1 \n",
       "          CCAR2           CCNT2           CDC5L           CEBPB           CEBPG \n",
       "              1               1               1               3               3 \n",
       "          CEBPZ          CGGBP1          CHAMP1          CHCHD3            CHD1 \n",
       "              1               1               2               1               1 \n",
       "           CHD2            CHD4            CHD7           CLOCK           COPS2 \n",
       "              1               1               1               1               1 \n",
       "          CREB1           CREB3         CREB3L1           CREB5          CREBBP \n",
       "              2               1               1               1               1 \n",
       "           CREM           CSDE1           CTBP1            CTCF           CTCFL \n",
       "              1               2               1               5               1 \n",
       "           CUX1           CXXC5           DACH1           DDIT3           DDX20 \n",
       "              2               1               1               1               2 \n",
       "          DEAF1           DIDO1            DLX4           DMBX1           DMTF1 \n",
       "              2               1               1               1               1 \n",
       "          DNMT1            DPF2            E2F1            E2F3            E2F4 \n",
       "              1               2               2               1               2 \n",
       "           E2F5            E2F6            E2F7            E2F8            E4F1 \n",
       "              2               2               1               1               2 \n",
       "           EGR1           EHMT2            ELF1            ELF2            ELF4 \n",
       "              3               1               4               1               3 \n",
       "           ELK1            ELK3           EP300           EP400             ERF \n",
       "              2               1               2               1               2 \n",
       "          ESRRA           ESRRB            ETS1            ETS2            ETV1 \n",
       "              1               1               1               1               1 \n",
       "           ETV5            ETV6           EWSR1            EZH2          FIP1L1 \n",
       "              1               3               1               1               1 \n",
       "            FOS           FOSL1           FOXA1           FOXA3           FOXJ2 \n",
       "              1               2               1               2               1 \n",
       "          FOXJ3           FOXK1           FOXK2           FOXM1           FOXO4 \n",
       "              1               1               2               2               1 \n",
       "          FOXP1           FOXP4             FUS           GABPA          GABPB1 \n",
       "              1               1               1               2               2 \n",
       "         GABPB2           GATA1           GATA2         GATAD2A         GATAD2B \n",
       "              1               2               4               1               1 \n",
       "          GMEB1          GTF2A2           GTF2B          GTF2E2          GTF2F1 \n",
       "              2               1               1               1               3 \n",
       "          GTF2I          GTF3C2            HBP1           HCFC1           HDAC1 \n",
       "              1               1               1               1               4 \n",
       "          HDAC2           HDAC3           HDAC6           HDAC8            HDGF \n",
       "              4               1               1               2               2 \n",
       "           HES1            HEY1           HINFP          HIVEP1            HLTF \n",
       "              1               1               1               1               1 \n",
       "         HMBOX1          HMG20A          HMG20B           HMGN3         HNRNPH1 \n",
       "              1               2               1               1               1 \n",
       "         HNRNPK          HNRNPL         HNRNPLL        HNRNPUL1           HOMEZ \n",
       "              1               1               1               1               1 \n",
       "          HOXB6            HSF4             ID3           IFI16           IKZF1 \n",
       "              1               1               2               1               2 \n",
       "           ILF3             ILK            IRF1            IRF2            IRF9 \n",
       "              1               1               2               2               1 \n",
       "            JUN            JUNB            JUND           KAT2B            KAT7 \n",
       "              3               3               2               1               1 \n",
       "           KAT8           KDM1A           KDM2B           KDM4B           KDM5B \n",
       "              1               3               1               2               1 \n",
       "          KHSRP            KLF1           KLF10           KLF13           KLF16 \n",
       "              1               1               1               1               1 \n",
       "           KLF6         L3MBTL2           LARP7            LCOR            LEF1 \n",
       "              1               1               1               1               2 \n",
       "           MAFF            MAFG            MAFK             MAX             MAZ \n",
       "              1               1               1               4               3 \n",
       "           MBD1            MBD2            MCM2            MCM3            MCM5 \n",
       "              1               1               2               1               2 \n",
       "           MCM7           MECOM           MEF2A           MEF2D           MEIS2 \n",
       "              3               1               1               1               1 \n",
       "            MGA           MIER1            MITF           MLLT1             MLX \n",
       "              1               1               2               2               2 \n",
       "            MNT            MTA1            MTA2            MTA3            MTF1 \n",
       "              3               1               2               1               1 \n",
       "           MXD1            MXI1           MYBL2             MYC            MYNN \n",
       "              1               1               2               4               3 \n",
       "            NBN           NCOA1           NCOA2           NCOA4           NCOA6 \n",
       "              1               3               2               1               1 \n",
       "          NCOR1           NELFE         NEUROD1          NFATC3            NFE2 \n",
       "              4               1               1               2               3 \n",
       "         NFE2L1            NFIC            NFIX           NFRKB           NFXL1 \n",
       "              1               1               1               2               2 \n",
       "           NFYA            NFYB            NKRF            NONO           NR0B1 \n",
       "              2               1               1               2               1 \n",
       "          NR1H2           NR2C1           NR2C2           NR2F1           NR2F2 \n",
       "              1               2               3               1               1 \n",
       "          NR2F6           NR3C1           NR4A1            NRF1          NUFIP1 \n",
       "              3               3               3               4               1 \n",
       "           OTX1           PATZ1            PBX2           PCBP1           PCBP2 \n",
       "              1               1               2               1               1 \n",
       "            PHB            PHB2           PHF20          PHF21A            PHF8 \n",
       "              1               1               1               1               1 \n",
       "          PHTF2          PKNOX1             PML          POLR2A POLR2AphosphoS2 \n",
       "              1               1               1               6               2 \n",
       "POLR2AphosphoS5          POLR2B          POLR2G          POLR2H          POLR3A \n",
       "              1               1               1               1               1 \n",
       "         POLR3G          POU5F1           PPARD          PRDM10           PRMT5 \n",
       "              1               1               1               1               1 \n",
       "          PRPF4           PTBP1            PTRF           PTTG1            PURB \n",
       "              1               1               1               1               1 \n",
       "          PYGO2           RAD21           RAD51             RB1           RBBP5 \n",
       "              2               4               1               1               1 \n",
       "         RBFOX2           RBM14           RBM15           RBM17           RBM22 \n",
       "              1               1               1               1               1 \n",
       "          RBM25           RBM34           RBM39            RBPJ           RCOR1 \n",
       "              1               1               1               1               2 \n",
       "           RELA            REST            RFX1            RFX5            RFX7 \n",
       "              1               4               2               1               1 \n",
       "        RHOXF2B             RLF            RNF2          RNF219           RREB1 \n",
       "              1               1               5               1               1 \n",
       "          RUNX1            SAFB           SAFB2           SAP30          SETDB1 \n",
       "              2               1               1               1               3 \n",
       "           SFPQ           SIN3A           SIN3B           SIRT6            SIX5 \n",
       "              1               2               1               2               2 \n",
       "           SKIL         SLC30A9           SMAD1           SMAD2           SMAD3 \n",
       "              1               1               1               1               2 \n",
       "          SMAD4           SMAD5         SMARCA4         SMARCA5         SMARCB1 \n",
       "              2               1               3               1               1 \n",
       "        SMARCC2         SMARCE1            SMC3          SNAPC5           SNIP1 \n",
       "              1               1               1               1               1 \n",
       "        SNRNP70            SOX6             SP1             SP2            SPI1 \n",
       "              1               1               3               1               1 \n",
       "         SREBF1          SREBF2             SRF           SRSF1           SRSF3 \n",
       "              1               1               3               1               1 \n",
       "          SRSF7           SRSF9           STAG1          STAT5A          STAT5B \n",
       "              1               1               1               1               1 \n",
       "         SUPT5H           SUZ12            TAF1           TAF15            TAF7 \n",
       "              1               2               1               1               2 \n",
       "          TAF9B            TAL1          TARDBP         TBL1XR1             TBP \n",
       "              1               2               3               2               1 \n",
       "          TBPL1           TBX18           TCF12           TCF15            TCF3 \n",
       "              1               1               2               1               1 \n",
       "           TCF7          TCF7L2           TCFL5           TEAD1           TEAD2 \n",
       "              1               1               1               2               1 \n",
       "          TEAD4            TFAM           TFAP4           TFCP2           TFDP1 \n",
       "              2               1               1               1               2 \n",
       "           TFE3           TGIF2           THAP1          THAP12           THAP7 \n",
       "              1               1               1               1               1 \n",
       "           THRA          THRAP3            THRB            TOE1          TRIM24 \n",
       "              1               1               1               2               2 \n",
       "         TRIM25          TRIM28          TRIP13         TSC22D4           TSHZ1 \n",
       "              2               3               1               1               1 \n",
       "          U2AF1           U2AF2            UBTF            USF1            USF2 \n",
       "              1               1               2               2               3 \n",
       "          VEZF1           WHSC1           XRCC3           XRCC4           XRCC5 \n",
       "              1               1               1               1               1 \n",
       "           YBX1            YBX3             YY1           ZBED1          ZBTB11 \n",
       "              1               1               3               1               4 \n",
       "         ZBTB12          ZBTB17           ZBTB2          ZBTB26          ZBTB33 \n",
       "              1               1               1               1               2 \n",
       "         ZBTB34          ZBTB40          ZBTB49           ZBTB5          ZBTB7A \n",
       "              1               3               1               2               1 \n",
       "         ZBTB8A           ZBTB9         ZC3H11A           ZC3H4           ZC3H8 \n",
       "              1               1               1               1               2 \n",
       "           ZEB2            ZFP1           ZFP30           ZFP36           ZFP91 \n",
       "              2               1               1               1               2 \n",
       "          ZFPM2             ZFX            ZHX1         ZKSCAN1         ZKSCAN3 \n",
       "              1               2               1               1               1 \n",
       "        ZKSCAN8           ZMIZ1           ZMYM3           ZNF12          ZNF121 \n",
       "              1               2               1               1               1 \n",
       "         ZNF124          ZNF133          ZNF134          ZNF140          ZNF143 \n",
       "              1               1               1               1               2 \n",
       "         ZNF146          ZNF148          ZNF165          ZNF174          ZNF175 \n",
       "              1               1               1               1               1 \n",
       "         ZNF184          ZNF197          ZNF212          ZNF215          ZNF217 \n",
       "              3               1               1               1               1 \n",
       "         ZNF224           ZNF23          ZNF232          ZNF239           ZNF24 \n",
       "              1               1               1               1               4 \n",
       "         ZNF253          ZNF257          ZNF263          ZNF274          ZNF277 \n",
       "              1               1               2               2               1 \n",
       "        ZNF280A         ZNF280B          ZNF281          ZNF282            ZNF3 \n",
       "              1               1               1               1               2 \n",
       "         ZNF311          ZNF316          ZNF318          ZNF319          ZNF324 \n",
       "              1               2               2               1               1 \n",
       "         ZNF347         ZNF354B         ZNF354C          ZNF384          ZNF395 \n",
       "              1               2               1               1               1 \n",
       "         ZNF397          ZNF398          ZNF407          ZNF408           ZNF41 \n",
       "              1               1               2               1               1 \n",
       "         ZNF431          ZNF436          ZNF444          ZNF445          ZNF449 \n",
       "              1               1               1               1               1 \n",
       "         ZNF507          ZNF511          ZNF512         ZNF518B          ZNF551 \n",
       "              2               1               2               1               1 \n",
       "         ZNF561           ZNF57          ZNF583          ZNF584          ZNF586 \n",
       "              1               1               1               1               1 \n",
       "         ZNF589          ZNF592          ZNF639          ZNF644          ZNF655 \n",
       "              1               1               4               1               1 \n",
       "         ZNF668          ZNF695          ZNF696          ZNF699            ZNF7 \n",
       "              1               1               1               1               1 \n",
       "         ZNF700          ZNF707          ZNF717          ZNF740          ZNF75A \n",
       "              1               1               1               3               1 \n",
       "          ZNF76          ZNF764          ZNF766           ZNF77          ZNF778 \n",
       "              1               1               1               1               1 \n",
       "        ZNF780A          ZNF785           ZNF79           ZNF83          ZNF830 \n",
       "              1               1               1               1               3 \n",
       "          ZNF84         ZSCAN29         ZSCAN32            ZZZ3 \n",
       "              1               2               1               1 "
      ]
     },
     "metadata": {},
     "output_type": "display_data"
    }
   ],
   "source": [
    "dat = dat_region_label\n",
    "vec = dat$Target\n",
    "table(vec)"
   ]
  },
  {
   "cell_type": "code",
   "execution_count": null,
   "id": "8303f60e-c7ec-422d-a3bd-29f9c2e0ae49",
   "metadata": {},
   "outputs": [],
   "source": []
  }
 ],
 "metadata": {
  "kernelspec": {
   "display_name": "R",
   "language": "R",
   "name": "ir"
  },
  "language_info": {
   "codemirror_mode": "r",
   "file_extension": ".r",
   "mimetype": "text/x-r-source",
   "name": "R",
   "pygments_lexer": "r",
   "version": "4.4.0"
  }
 },
 "nbformat": 4,
 "nbformat_minor": 5
}
