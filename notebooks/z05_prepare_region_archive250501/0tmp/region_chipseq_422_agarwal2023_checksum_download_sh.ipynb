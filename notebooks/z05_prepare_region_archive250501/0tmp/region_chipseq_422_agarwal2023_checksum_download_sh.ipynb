{
 "cells": [
  {
   "cell_type": "raw",
   "id": "98a2d7dd-b514-441c-b84b-2bd2fb14b580",
   "metadata": {},
   "source": [
    "---\n",
    "title: Prepare ENCODE ChIP-seq ...\n",
    "subtitle: ...\n",
    "format:\n",
    "    html:\n",
    "        code-fold:  true\n",
    "        code-tools: true\n",
    "---"
   ]
  },
  {
   "cell_type": "markdown",
   "id": "636880bd-7f5f-4522-ae8b-2e805a03ec65",
   "metadata": {
    "tags": []
   },
   "source": [
    "## Initialization"
   ]
  },
  {
   "cell_type": "markdown",
   "id": "3186c9f4-d7f9-4d07-a14c-b8d4e05317e4",
   "metadata": {},
   "source": [
    "**set environment**"
   ]
  },
  {
   "cell_type": "code",
   "execution_count": 1,
   "id": "4fe83ae2-d70a-43b7-8fb9-1cce9803b58e",
   "metadata": {},
   "outputs": [
    {
     "name": "stdout",
     "output_type": "stream",
     "text": [
      "You are working on             Duke Server: HARDAC\n",
      "BASE DIRECTORY (FD_BASE):      /data/reddylab/Kuei\n",
      "REPO DIRECTORY (FD_REPO):      /data/reddylab/Kuei/repo\n",
      "WORK DIRECTORY (FD_WORK):      /data/reddylab/Kuei/work\n",
      "DATA DIRECTORY (FD_DATA):      /data/reddylab/Kuei/data\n",
      "CONTAINER DIR. (FD_SING):      /data/reddylab/Kuei/container\n",
      "\n",
      "You are working with           ENCODE FCC\n",
      "PATH OF PROJECT (FD_PRJ):      /data/reddylab/Kuei/repo/Proj_ENCODE_FCC\n",
      "PROJECT RESULTS (FD_RES):      /data/reddylab/Kuei/repo/Proj_ENCODE_FCC/results\n",
      "PROJECT SCRIPTS (FD_EXE):      /data/reddylab/Kuei/repo/Proj_ENCODE_FCC/scripts\n",
      "PROJECT DATA    (FD_DAT):      /data/reddylab/Kuei/repo/Proj_ENCODE_FCC/data\n",
      "PROJECT NOTE    (FD_NBK):      /data/reddylab/Kuei/repo/Proj_ENCODE_FCC/notebooks\n",
      "PROJECT DOCS    (FD_DOC):      /data/reddylab/Kuei/repo/Proj_ENCODE_FCC/docs\n",
      "PROJECT LOG     (FD_LOG):      /data/reddylab/Kuei/repo/Proj_ENCODE_FCC/log\n",
      "PROJECT APP     (FD_APP):      \n",
      "PROJECT REF     (FD_REF):      /data/reddylab/Kuei/repo/Proj_ENCODE_FCC/references\n",
      "PROJECT IMAGE   (FP_PRJ_SIF):  /data/reddylab/Kuei/container/project/singularity_proj_encode_fcc.sif\n",
      "\n"
     ]
    }
   ],
   "source": [
    "source ../run_config_project.sh\n",
    "show_env"
   ]
  },
  {
   "cell_type": "markdown",
   "id": "3f2ac296-5dde-4aa9-bdf3-559ebe014821",
   "metadata": {},
   "source": [
    "**Global variables**"
   ]
  },
  {
   "cell_type": "code",
   "execution_count": 2,
   "id": "21150be7-dc9e-44b9-ac5f-dd589213aeb1",
   "metadata": {},
   "outputs": [],
   "source": [
    "FD_OUT=${FD_DAT}/external/encode_chipseq_agarwal2023"
   ]
  },
  {
   "cell_type": "markdown",
   "id": "2f6c465e-8673-4539-93f2-c3fa16fd6433",
   "metadata": {},
   "source": [
    "## Preview"
   ]
  },
  {
   "cell_type": "code",
   "execution_count": 3,
   "id": "ad354f0a-9afb-4e71-8a24-1711d6a8ef06",
   "metadata": {},
   "outputs": [],
   "source": [
    "cd ${FD_OUT}"
   ]
  },
  {
   "cell_type": "code",
   "execution_count": 21,
   "id": "088e666f-fd96-4ef0-bc54-935e4c129dbf",
   "metadata": {},
   "outputs": [
    {
     "name": "stdout",
     "output_type": "stream",
     "text": [
      "checksum_md5sum.txt\n",
      "checksum_results.txt\n",
      "download_log.txt\n",
      "download_rerun_log.txt\n",
      "ENCFF002TOW.bigWig\n",
      "ENCFF002WEI.bigWig\n",
      "ENCFF003GXG.bigWig\n",
      "ENCFF004MCT.bigWig\n",
      "ENCFF005HJW.bigWig\n",
      "ENCFF006RXD.bigWig\n"
     ]
    }
   ],
   "source": [
    "ls | head"
   ]
  },
  {
   "cell_type": "markdown",
   "id": "064bf9e3-bb5e-4b32-b4ad-b9ba961e5230",
   "metadata": {},
   "source": [
    "## Execute"
   ]
  },
  {
   "cell_type": "code",
   "execution_count": 24,
   "id": "24d41595-33b9-46f3-a9dd-4a5d1f80a131",
   "metadata": {},
   "outputs": [
    {
     "name": "stdout",
     "output_type": "stream",
     "text": [
      "Submitted batch job 31100739\n"
     ]
    }
   ],
   "source": [
    "FN_LOG=checksum.encode_chipseq_agarwal2023.txt\n",
    "FP_LOG=${FD_LOG}/${FN_LOG}\n",
    "\n",
    "sbatch -p ${NODE} \\\n",
    "    --exclude=dl-01 \\\n",
    "    --cpus-per-task 4 \\\n",
    "    --mem 4G \\\n",
    "    --output ${FP_LOG} \\\n",
    "    <<EOF\n",
    "#!/bin/bash\n",
    "md5sum -c checksum_md5sum.txt > checksum_results.rerun.txt\n",
    "EOF"
   ]
  },
  {
   "cell_type": "markdown",
   "id": "e5ecd3e4-e8a3-4dae-96f2-48a4695fcff0",
   "metadata": {},
   "source": [
    "## Review"
   ]
  },
  {
   "cell_type": "code",
   "execution_count": 12,
   "id": "c523ac46-c6d7-4f91-aa67-a867d0f255fd",
   "metadata": {},
   "outputs": [
    {
     "name": "stdout",
     "output_type": "stream",
     "text": [
      "1204\n"
     ]
    }
   ],
   "source": [
    "cd ${FD_OUT}\n",
    "cat checksum_results.txt | wc -l"
   ]
  },
  {
   "cell_type": "code",
   "execution_count": 13,
   "id": "f74a8903-7034-4697-b8ef-250dca4339ff",
   "metadata": {},
   "outputs": [
    {
     "name": "stdout",
     "output_type": "stream",
     "text": [
      "ENCFF403XOV.bigWig: OK\n",
      "ENCFF216UCG.bigWig: OK\n",
      "ENCFF100VDV.bigWig: OK\n",
      "ENCFF961LTP.bigWig: OK\n",
      "ENCFF702BPM.bigWig: OK\n",
      "ENCFF738KPN.bigWig: OK\n",
      "ENCFF562DCO.bigWig: OK\n",
      "ENCFF341XGE.bigWig: OK\n",
      "ENCFF984ARZ.bigWig: OK\n",
      "ENCFF323QBP.bigWig: OK\n"
     ]
    }
   ],
   "source": [
    "cd ${FD_OUT}\n",
    "cat checksum_results.txt | head"
   ]
  },
  {
   "cell_type": "code",
   "execution_count": 14,
   "id": "1a47e543-3382-4374-9350-9a6a4607524a",
   "metadata": {},
   "outputs": [
    {
     "name": "stdout",
     "output_type": "stream",
     "text": [
      "ENCFF666HZJ.bigWig: FAILED\n"
     ]
    }
   ],
   "source": [
    "cat checksum_results.txt | grep -v OK"
   ]
  },
  {
   "cell_type": "markdown",
   "id": "3c9354ba-e213-4435-8e68-4eba94ca8a1f",
   "metadata": {},
   "source": [
    "Redownload"
   ]
  },
  {
   "cell_type": "markdown",
   "id": "f3f420bd-dce1-4325-ad74-ca913ebbf2a7",
   "metadata": {},
   "source": [
    "https://www.encodeproject.org/files/ENCFF666HZJ/@@download/ENCFF666HZJ.bigWig"
   ]
  },
  {
   "cell_type": "code",
   "execution_count": 15,
   "id": "73d98940-d6b3-48d1-b39b-4eda012ec28f",
   "metadata": {},
   "outputs": [
    {
     "name": "stdout",
     "output_type": "stream",
     "text": [
      "https://www.encodeproject.org/files/ENCFF254FCX/@@download/ENCFF254FCX.bigWig\n",
      "https://www.encodeproject.org/files/ENCFF580YKQ/@@download/ENCFF580YKQ.bigWig\n",
      "https://www.encodeproject.org/files/ENCFF057BCB/@@download/ENCFF057BCB.bigWig\n",
      "https://www.encodeproject.org/files/ENCFF593VAW/@@download/ENCFF593VAW.bigWig\n",
      "https://www.encodeproject.org/files/ENCFF020OLK/@@download/ENCFF020OLK.bigWig\n",
      "https://www.encodeproject.org/files/ENCFF521JBC/@@download/ENCFF521JBC.bigWig\n",
      "https://www.encodeproject.org/files/ENCFF269QMN/@@download/ENCFF269QMN.bigWig\n",
      "https://www.encodeproject.org/files/ENCFF380UBH/@@download/ENCFF380UBH.bigWig\n",
      "https://www.encodeproject.org/files/ENCFF018XBY/@@download/ENCFF018XBY.bigWig\n",
      "https://www.encodeproject.org/files/ENCFF110QYF/@@download/ENCFF110QYF.bigWig\n"
     ]
    }
   ],
   "source": [
    "head files.txt"
   ]
  },
  {
   "cell_type": "code",
   "execution_count": 18,
   "id": "61099098-9b14-43c0-ab23-0fef7c1eb184",
   "metadata": {},
   "outputs": [],
   "source": [
    "rm ENCFF666HZJ.bigWig"
   ]
  },
  {
   "cell_type": "code",
   "execution_count": 19,
   "id": "135c0243-ff41-4a8b-9262-9434c4b1cd5a",
   "metadata": {},
   "outputs": [
    {
     "name": "stdout",
     "output_type": "stream",
     "text": [
      "  % Total    % Received % Xferd  Average Speed   Time    Time     Time  Current\n",
      "                                 Dload  Upload   Total   Spent    Left  Speed\n",
      "100  1953  100  1953    0     0   3798      0 --:--:-- --:--:-- --:--:--  3807\n",
      "100 1747M  100 1747M    0     0  34.5M      0  0:00:50  0:00:50 --:--:-- 35.3M\n",
      "curl: Saved to filename 'ENCFF666HZJ.bigWig'\n"
     ]
    }
   ],
   "source": [
    "curl -O -J -L https://www.encodeproject.org/files/ENCFF666HZJ/@@download/ENCFF666HZJ.bigWig"
   ]
  },
  {
   "cell_type": "code",
   "execution_count": 20,
   "id": "afe6f145-9e7a-4540-bb76-153777914867",
   "metadata": {},
   "outputs": [
    {
     "name": "stdout",
     "output_type": "stream",
     "text": [
      "-rw-rw-r-- 1 kk319 reddylab 1.8G Jun 24 10:15 ENCFF666HZJ.bigWig\n"
     ]
    }
   ],
   "source": [
    "ls -lh ENCFF666HZJ.bigWig"
   ]
  },
  {
   "cell_type": "code",
   "execution_count": 22,
   "id": "80c1599f-4769-4f60-8eb6-5df9768123cf",
   "metadata": {},
   "outputs": [
    {
     "name": "stdout",
     "output_type": "stream",
     "text": [
      "dda8e0b0f6b72e7a0c400e67fb93258a \u001b[01;31m\u001b[KENCFF666HZJ.bigWig\u001b[m\u001b[K\n"
     ]
    }
   ],
   "source": [
    "cat checksum_md5sum.txt | grep ENCFF666HZJ.bigWig"
   ]
  },
  {
   "cell_type": "code",
   "execution_count": 23,
   "id": "bf9ac3c3-d7d4-4caa-a399-458708601945",
   "metadata": {},
   "outputs": [
    {
     "name": "stdout",
     "output_type": "stream",
     "text": [
      "dda8e0b0f6b72e7a0c400e67fb93258a  ENCFF666HZJ.bigWig\n"
     ]
    }
   ],
   "source": [
    "md5sum ENCFF666HZJ.bigWig"
   ]
  },
  {
   "cell_type": "code",
   "execution_count": 26,
   "id": "de76067a-bd5c-44f7-9374-7a34300552f9",
   "metadata": {},
   "outputs": [
    {
     "ename": "",
     "evalue": "1",
     "output_type": "error",
     "traceback": []
    }
   ],
   "source": [
    "cat checksum_results.rerun.txt | grep -v OK"
   ]
  },
  {
   "cell_type": "code",
   "execution_count": null,
   "id": "6b43b121-13c3-4601-b94a-4ea88fd01c16",
   "metadata": {},
   "outputs": [],
   "source": []
  }
 ],
 "metadata": {
  "kernelspec": {
   "display_name": "Bash",
   "language": "bash",
   "name": "bash"
  },
  "language_info": {
   "codemirror_mode": "shell",
   "file_extension": ".sh",
   "mimetype": "text/x-sh",
   "name": "bash"
  }
 },
 "nbformat": 4,
 "nbformat_minor": 5
}
