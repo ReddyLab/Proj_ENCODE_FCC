{
 "cells": [
  {
   "cell_type": "raw",
   "id": "a5163da9-c55e-4c68-9d2b-5829f1076310",
   "metadata": {},
   "source": [
    "---\n",
    "title: Prepare ENCODE ChIP-seq 12 (Histone)\n",
    "subtitle: Download the data\n",
    "format:\n",
    "    html:\n",
    "        code-fold:  true\n",
    "        code-tools: true\n",
    "---"
   ]
  },
  {
   "cell_type": "markdown",
   "id": "dea968f5-df92-4a99-8e1f-d8f2086c8570",
   "metadata": {},
   "source": [
    "**set environment**"
   ]
  },
  {
   "cell_type": "code",
   "execution_count": 1,
   "id": "91b2a6ca-b571-4e88-b83b-9215db777f5a",
   "metadata": {},
   "outputs": [
    {
     "name": "stdout",
     "output_type": "stream",
     "text": [
      "You are working on             Duke Server: HARDAC\n",
      "BASE DIRECTORY (FD_BASE):      /data/reddylab/Kuei\n",
      "REPO DIRECTORY (FD_REPO):      /data/reddylab/Kuei/repo\n",
      "WORK DIRECTORY (FD_WORK):      /data/reddylab/Kuei/work\n",
      "DATA DIRECTORY (FD_DATA):      /data/reddylab/Kuei/data\n",
      "CONTAINER DIR. (FD_SING):      /data/reddylab/Kuei/container\n",
      "\n",
      "You are working with           ENCODE FCC\n",
      "PATH OF PROJECT (FD_PRJ):      /data/reddylab/Kuei/repo/Proj_ENCODE_FCC\n",
      "PROJECT RESULTS (FD_RES):      /data/reddylab/Kuei/repo/Proj_ENCODE_FCC/results\n",
      "PROJECT SCRIPTS (FD_EXE):      /data/reddylab/Kuei/repo/Proj_ENCODE_FCC/scripts\n",
      "PROJECT DATA    (FD_DAT):      /data/reddylab/Kuei/repo/Proj_ENCODE_FCC/data\n",
      "PROJECT NOTE    (FD_NBK):      /data/reddylab/Kuei/repo/Proj_ENCODE_FCC/notebooks\n",
      "PROJECT DOCS    (FD_DOC):      /data/reddylab/Kuei/repo/Proj_ENCODE_FCC/docs\n",
      "PROJECT LOG     (FD_LOG):      /data/reddylab/Kuei/repo/Proj_ENCODE_FCC/log\n",
      "PROJECT APP     (FD_APP):      \n",
      "PROJECT REF     (FD_REF):      /data/reddylab/Kuei/repo/Proj_ENCODE_FCC/references\n",
      "PROJECT IMAGE   (FP_PRJ_SIF):  /data/reddylab/Kuei/container/project/singularity_proj_encode_fcc.sif\n",
      "\n"
     ]
    }
   ],
   "source": [
    "source ../run_config_project.sh\n",
    "show_env"
   ]
  },
  {
   "cell_type": "markdown",
   "id": "02681e6d-93d0-43c5-8cb0-5868af70f8c6",
   "metadata": {},
   "source": [
    "**Global variables**"
   ]
  },
  {
   "cell_type": "code",
   "execution_count": 2,
   "id": "ffbcfb14-f5b5-434b-81f3-68bd77e6f3aa",
   "metadata": {},
   "outputs": [],
   "source": [
    "FD_OUT=${FD_DAT}/external/encode_chipseq_histone"
   ]
  },
  {
   "cell_type": "markdown",
   "id": "62c8ed0f-8c4e-4f29-98ec-d223e1564b91",
   "metadata": {},
   "source": [
    "## Preview"
   ]
  },
  {
   "cell_type": "code",
   "execution_count": 3,
   "id": "8d8ed4a9-4e77-4868-8861-7372fca773eb",
   "metadata": {},
   "outputs": [
    {
     "name": "stdout",
     "output_type": "stream",
     "text": [
      "checksum_md5sum.txt\n",
      "files.txt\n"
     ]
    }
   ],
   "source": [
    "cd ${FD_OUT}\n",
    "ls | head"
   ]
  },
  {
   "cell_type": "markdown",
   "id": "68c15bba-c370-48fe-bd81-612464f643f2",
   "metadata": {},
   "source": [
    "## Execute"
   ]
  },
  {
   "cell_type": "code",
   "execution_count": 8,
   "id": "64503ae4-3c5c-41e8-86fb-f1110e44a8a6",
   "metadata": {},
   "outputs": [
    {
     "name": "stdout",
     "output_type": "stream",
     "text": [
      "Submitted batch job 32091619\n"
     ]
    }
   ],
   "source": [
    "FN_LOG=download.encode_chipseq_histone.txt\n",
    "FP_LOG=${FD_LOG}/${FN_LOG}\n",
    "\n",
    "sbatch -p ${NODE} \\\n",
    "    --exclude=dl-01 \\\n",
    "    --cpus-per-task 4 \\\n",
    "    --mem 4G \\\n",
    "    --output ${FP_LOG} \\\n",
    "    --export=FD_PRJ=${FD_PRJ} \\\n",
    "    << 'EOF'\n",
    "#!/bin/bash\n",
    "\n",
    "### print start message\n",
    "timer_start=`date +%s`\n",
    "echo \"Hostname:          \" $(hostname)\n",
    "echo \"Slurm Array Index: \" ${SLURM_ARRAY_TASK_ID}\n",
    "echo \"Time Stamp:        \" $(date +\"%m-%d-%y+%T\")\n",
    "echo\n",
    "\n",
    "### set environment\n",
    "source ${FD_PRJ}/scripts/config_project.sh\n",
    "\n",
    "### set directory\n",
    "FD_OUT=${FD_DAT}/external/encode_chipseq_histone\n",
    "cd ${FD_OUT}\n",
    "\n",
    "### show progress\n",
    "echo \"Current directory:\"\n",
    "echo $(pwd)\n",
    "echo\n",
    "\n",
    "### execute: download file\n",
    "echo \"Download files...\"\n",
    "xargs -L 1 curl -O -J -L < files.txt\n",
    "\n",
    "### execute: checksum\n",
    "echo \"Checksum files...\"\n",
    "md5sum -c checksum_md5sum.txt > checksum_results.txt\n",
    "\n",
    "### print end message\n",
    "timer=`date +%s`\n",
    "runtime=$(echo \"${timer} - ${timer_start}\" | bc -l)\n",
    "EOF"
   ]
  },
  {
   "cell_type": "markdown",
   "id": "21c41916-48f7-47b1-b1f0-cdcfb4d41f5f",
   "metadata": {},
   "source": [
    "## Review"
   ]
  },
  {
   "cell_type": "code",
   "execution_count": 9,
   "id": "88c229f4-4b19-421c-a440-e8ddd85454e5",
   "metadata": {},
   "outputs": [
    {
     "name": "stdout",
     "output_type": "stream",
     "text": [
      "/data/reddylab/Kuei/repo/Proj_ENCODE_FCC/log/download.encode_chipseq_histone.txt\n",
      "\n",
      "Hostname:           x2-08-1.genome.duke.edu\n",
      "Slurm Array Index: \n",
      "Time Stamp:         07-02-24+15:04:01\n",
      "\n",
      "Current directory:\n",
      "/data/reddylab/Kuei/repo/Proj_ENCODE_FCC/data/external/encode_chipseq_histone\n",
      "\n",
      "Download files...\n",
      "  % Total    % Received % Xferd  Average Speed   Time    Time     Time  Current\n",
      "                                 Dload  Upload   Total   Spent    Left  Speed\n",
      "100  1933  100  1933    0     0   3036      0 --:--:-- --:--:-- --:--:--  3034\n",
      "100 3671k  100 3671k    0     0  1994k      0  0:00:01  0:00:01 --:--:-- 6407k\n",
      "curl: Saved to filename 'ENCFF193ERO.bed.gz'\n",
      "  % Total    % Received % Xferd  Average Speed   Time    Time     Time  Current\n",
      "                                 Dload  Upload   Total   Spent    Left  Speed\n",
      "100  1935  100  1935    0     0   4051      0 --:--:-- --:--:-- --:--:--  4048\n",
      "100 1617k  100 1617k    0     0  1162k      0  0:00:01  0:00:01 --:--:-- 11.3M\n",
      "curl: Saved to filename 'ENCFF749KLQ.bed.gz'\n",
      "  % Total    % Received % Xferd  Average Speed   Time    Time     Time  Current\n",
      "                                 Dload  Upload   Total   Spent    Left  Speed\n",
      "100  1935  100  1935    0     0   3839      0 --:--:-- --:--:-- --:--:--  3846\n",
      "100  802k  100  802k    0     0   585k      0  0:00:01  0:00:01 --:--:-- 1981k\n",
      "curl: Saved to filename 'ENCFF909RKY.bed.gz'\n",
      "  % Total    % Received % Xferd  Average Speed   Time    Time     Time  Current\n",
      "                                 Dload  Upload   Total   Spent    Left  Speed\n",
      "100  1933  100  1933    0     0   3394      0 --:--:-- --:--:-- --:--:--  3391\n",
      "100  502k  100  502k    0     0   362k      0  0:00:01  0:00:01 --:--:--  362k\n",
      "curl: Saved to filename 'ENCFF963GZJ.bed.gz'\n",
      "  % Total    % Received % Xferd  Average Speed   Time    Time     Time  Current\n",
      "                                 Dload  Upload   Total   Spent    Left  Speed\n",
      "100  1935  100  1935    0     0   3800      0 --:--:-- --:--:-- --:--:--  3801\n",
      "100 1345k  100 1345k    0     0   903k      0  0:00:01  0:00:01 --:--:-- 3314k\n",
      "curl: Saved to filename 'ENCFF561OUZ.bed.gz'\n",
      "  % Total    % Received % Xferd  Average Speed   Time    Time     Time  Current\n",
      "                                 Dload  Upload   Total   Spent    Left  Speed\n",
      "100  1937  100  1937    0     0   3783      0 --:--:-- --:--:-- --:--:--  3790\n",
      "100  201k  100  201k    0     0   126k      0  0:00:01  0:00:01 --:--:--  202k\n",
      "curl: Saved to filename 'ENCFF462AVD.bed.gz'\n",
      "  % Total    % Received % Xferd  Average Speed   Time    Time     Time  Current\n",
      "                                 Dload  Upload   Total   Spent    Left  Speed\n",
      "100  1935  100  1935    0     0   3784      0 --:--:-- --:--:-- --:--:--  3786\n",
      "100 1421k  100 1421k    0     0   361k      0  0:00:03  0:00:03 --:--:--  485k\n",
      "curl: Saved to filename 'ENCFF544LXB.bed.gz'\n",
      "  % Total    % Received % Xferd  Average Speed   Time    Time     Time  Current\n",
      "                                 Dload  Upload   Total   Spent    Left  Speed\n",
      "100  1935  100  1935    0     0   4017      0 --:--:-- --:--:-- --:--:--  4014\n",
      "100 2778k  100 2778k    0     0  1780k      0  0:00:01  0:00:01 --:--:-- 5732k\n",
      "curl: Saved to filename 'ENCFF213OTI.bed.gz'\n",
      "  % Total    % Received % Xferd  Average Speed   Time    Time     Time  Current\n",
      "                                 Dload  Upload   Total   Spent    Left  Speed\n",
      "100  1937  100  1937    0     0   4107      0 --:--:-- --:--:-- --:--:--  4103\n",
      "100 3112k  100 3112k    0     0   505k      0  0:00:06  0:00:06 --:--:--  629k\n",
      "curl: Saved to filename 'ENCFF801AHF.bed.gz'\n",
      "  % Total    % Received % Xferd  Average Speed   Time    Time     Time  Current\n",
      "                                 Dload  Upload   Total   Spent    Left  Speed\n",
      "100  1935  100  1935    0     0   3799      0 --:--:-- --:--:-- --:--:--  3794\n",
      "100  748k  100  748k    0     0   527k      0  0:00:01  0:00:01 --:--:-- 5047k\n",
      "curl: Saved to filename 'ENCFF706WUF.bed.gz'\n",
      "  % Total    % Received % Xferd  Average Speed   Time    Time     Time  Current\n",
      "                                 Dload  Upload   Total   Spent    Left  Speed\n",
      "100  1935  100  1935    0     0   3806      0 --:--:-- --:--:-- --:--:--  3809\n",
      "100 1982k  100 1982k    0     0  1360k      0  0:00:01  0:00:01 --:--:-- 4063k\n",
      "curl: Saved to filename 'ENCFF209OQD.bed.gz'\n",
      "  % Total    % Received % Xferd  Average Speed   Time    Time     Time  Current\n",
      "                                 Dload  Upload   Total   Spent    Left  Speed\n",
      "100  1935  100  1935    0     0   4058      0 --:--:-- --:--:-- --:--:--  4056\n",
      "100 2742k  100 2742k    0     0  1829k      0  0:00:01  0:00:01 --:--:-- 16.0M\n",
      "curl: Saved to filename 'ENCFF148UQI.bed.gz'\n",
      "  % Total    % Received % Xferd  Average Speed   Time    Time     Time  Current\n",
      "                                 Dload  Upload   Total   Spent    Left  Speed\n",
      "100  1935  100  1935    0     0   4056      0 --:--:-- --:--:-- --:--:--  4065\n",
      "100  647k  100  647k    0     0   486k      0  0:00:01  0:00:01 --:--:-- 1643k\n",
      "curl: Saved to filename 'ENCFF122CSI.bed.gz'\n",
      "  % Total    % Received % Xferd  Average Speed   Time    Time     Time  Current\n",
      "                                 Dload  Upload   Total   Spent    Left  Speed\n",
      "100  1933  100  1933    0     0   3634      0 --:--:-- --:--:-- --:--:--  3640\n",
      "100 2753k  100 2753k    0     0  1575k      0  0:00:01  0:00:01 --:--:-- 2321k\n",
      "curl: Saved to filename 'ENCFF540NGG.bed.gz'\n",
      "  % Total    % Received % Xferd  Average Speed   Time    Time     Time  Current\n",
      "                                 Dload  Upload   Total   Spent    Left  Speed\n",
      "100  1933  100  1933    0     0   3799      0 --:--:-- --:--:-- --:--:--  3805\n",
      "100 2346k  100 2346k    0     0  1513k      0  0:00:01  0:00:01 --:--:-- 4827k\n",
      "curl: Saved to filename 'ENCFF323WOT.bed.gz'\n",
      "  % Total    % Received % Xferd  Average Speed   Time    Time     Time  Current\n",
      "                                 Dload  Upload   Total   Spent    Left  Speed\n",
      "100  1933  100  1933    0     0   3900      0 --:--:-- --:--:-- --:--:--  3897\n",
      "100 2287k  100 2287k    0     0  1483k      0  0:00:01  0:00:01 --:--:-- 7604k\n",
      "curl: Saved to filename 'ENCFF135ZLM.bed.gz'\n",
      "  % Total    % Received % Xferd  Average Speed   Time    Time     Time  Current\n",
      "                                 Dload  Upload   Total   Spent    Left  Speed\n",
      "100  1933  100  1933    0     0   3796      0 --:--:-- --:--:-- --:--:--  3797\n",
      "100 1003k  100 1003k    0     0   717k      0  0:00:01  0:00:01 --:--:-- 1509k\n",
      "curl: Saved to filename 'ENCFF891CHI.bed.gz'\n",
      "  % Total    % Received % Xferd  Average Speed   Time    Time     Time  Current\n",
      "                                 Dload  Upload   Total   Spent    Left  Speed\n",
      "100  1935  100  1935    0     0   4075      0 --:--:-- --:--:-- --:--:--  4073\n",
      "100 1085k  100 1085k    0     0   816k      0  0:00:01  0:00:01 --:--:--  107M\n",
      "curl: Saved to filename 'ENCFF689QIJ.bed.gz'\n",
      "  % Total    % Received % Xferd  Average Speed   Time    Time     Time  Current\n",
      "                                 Dload  Upload   Total   Spent    Left  Speed\n",
      "100  1933  100  1933    0     0   4075      0 --:--:-- --:--:-- --:--:--  4078\n",
      "100  595k  100  595k    0     0   464k      0  0:00:01  0:00:01 --:--:-- 1868k\n",
      "curl: Saved to filename 'ENCFF885FQN.bed.gz'\n",
      "Checksum files...\n"
     ]
    }
   ],
   "source": [
    "echo ${FP_LOG}\n",
    "echo\n",
    "cat  ${FP_LOG}"
   ]
  },
  {
   "cell_type": "code",
   "execution_count": 10,
   "id": "ccac1a44-bff9-4999-8923-596656a38e82",
   "metadata": {},
   "outputs": [
    {
     "name": "stdout",
     "output_type": "stream",
     "text": [
      "ENCFF193ERO.bed.gz: OK\n",
      "ENCFF749KLQ.bed.gz: OK\n",
      "ENCFF909RKY.bed.gz: OK\n",
      "ENCFF963GZJ.bed.gz: OK\n",
      "ENCFF561OUZ.bed.gz: OK\n",
      "ENCFF462AVD.bed.gz: OK\n",
      "ENCFF544LXB.bed.gz: OK\n",
      "ENCFF213OTI.bed.gz: OK\n",
      "ENCFF801AHF.bed.gz: OK\n",
      "ENCFF706WUF.bed.gz: OK\n",
      "ENCFF209OQD.bed.gz: OK\n",
      "ENCFF148UQI.bed.gz: OK\n",
      "ENCFF122CSI.bed.gz: OK\n",
      "ENCFF540NGG.bed.gz: OK\n",
      "ENCFF323WOT.bed.gz: OK\n",
      "ENCFF135ZLM.bed.gz: OK\n",
      "ENCFF891CHI.bed.gz: OK\n",
      "ENCFF689QIJ.bed.gz: OK\n",
      "ENCFF885FQN.bed.gz: OK\n"
     ]
    }
   ],
   "source": [
    "FD_OUT=${FD_DAT}/external/encode_chipseq_histone\n",
    "cat ${FD_OUT}/checksum_results.txt"
   ]
  },
  {
   "cell_type": "code",
   "execution_count": null,
   "id": "4cc085f0-83d3-4935-ba73-c658a4f7b13c",
   "metadata": {},
   "outputs": [],
   "source": []
  }
 ],
 "metadata": {
  "kernelspec": {
   "display_name": "Bash",
   "language": "bash",
   "name": "bash"
  },
  "language_info": {
   "codemirror_mode": "shell",
   "file_extension": ".sh",
   "mimetype": "text/x-sh",
   "name": "bash"
  }
 },
 "nbformat": 4,
 "nbformat_minor": 5
}
