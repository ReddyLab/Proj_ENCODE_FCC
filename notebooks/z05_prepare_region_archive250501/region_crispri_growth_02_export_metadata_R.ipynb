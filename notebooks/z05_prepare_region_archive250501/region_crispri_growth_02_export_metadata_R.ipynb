{
 "cells": [
  {
   "cell_type": "raw",
   "id": "a2f07adc-17d8-427b-83bf-c346f5e47419",
   "metadata": {},
   "source": [
    "---\n",
    "title: Prepare CRISPRi Growth data 02\n",
    "subtitle: Create metadata\n",
    "format:\n",
    "    html:\n",
    "        code-fold:  true\n",
    "        code-tools: true\n",
    "---"
   ]
  },
  {
   "cell_type": "markdown",
   "id": "8cab1b99-d53f-463b-b545-3d14cf63c328",
   "metadata": {},
   "source": [
    "**Set environment**"
   ]
  },
  {
   "cell_type": "code",
   "execution_count": 1,
   "id": "6fcf725a-75d6-4ac8-83ec-0d1566339fa3",
   "metadata": {
    "tags": []
   },
   "outputs": [
    {
     "name": "stdout",
     "output_type": "stream",
     "text": [
      "You are working on        Singularity \n",
      "BASE DIRECTORY (FD_BASE): /mount \n",
      "REPO DIRECTORY (FD_REPO): /mount/repo \n",
      "WORK DIRECTORY (FD_WORK): /mount/work \n",
      "DATA DIRECTORY (FD_DATA): /mount/data \n",
      "\n",
      "You are working with      ENCODE FCC \n",
      "PATH OF PROJECT (FD_PRJ): /mount/repo/Proj_ENCODE_FCC \n",
      "PROJECT RESULTS (FD_RES): /mount/repo/Proj_ENCODE_FCC/results \n",
      "PROJECT SCRIPTS (FD_EXE): /mount/repo/Proj_ENCODE_FCC/scripts \n",
      "PROJECT DATA    (FD_DAT): /mount/repo/Proj_ENCODE_FCC/data \n",
      "PROJECT NOTE    (FD_NBK): /mount/repo/Proj_ENCODE_FCC/notebooks \n",
      "PROJECT DOCS    (FD_DOC): /mount/repo/Proj_ENCODE_FCC/docs \n",
      "PROJECT LOG     (FD_LOG): /mount/repo/Proj_ENCODE_FCC/log \n",
      "PROJECT APP     (FD_APP): /mount/repo/Proj_ENCODE_FCC/app \n",
      "PROJECT REF     (FD_REF): /mount/repo/Proj_ENCODE_FCC/references \n",
      "\n"
     ]
    }
   ],
   "source": [
    "suppressMessages(suppressWarnings(source(\"../run_config_project_sing.R\")))\n",
    "show_env()"
   ]
  },
  {
   "cell_type": "markdown",
   "id": "a3b564de-a461-465f-b977-d0feefd6b6b8",
   "metadata": {},
   "source": [
    "**Set global variables**"
   ]
  },
  {
   "cell_type": "code",
   "execution_count": 2,
   "id": "a74aef3b-6548-4386-b4fa-001021f6b7de",
   "metadata": {},
   "outputs": [],
   "source": [
    "TXT_FOLDER_REGION = \"fcc_crispri_growth\""
   ]
  },
  {
   "cell_type": "markdown",
   "id": "245b11f9-fca6-485d-86f6-efd0bf6939bd",
   "metadata": {},
   "source": [
    "## Define column description"
   ]
  },
  {
   "cell_type": "code",
   "execution_count": 3,
   "id": "6b938a8a-003d-4a58-83c2-2bcf94292158",
   "metadata": {},
   "outputs": [
    {
     "data": {
      "text/html": [
       "<table>\n",
       " <thead>\n",
       "  <tr>\n",
       "   <th style=\"text-align:left;\"> Name </th>\n",
       "   <th style=\"text-align:left;\"> Note </th>\n",
       "  </tr>\n",
       " </thead>\n",
       "<tbody>\n",
       "  <tr>\n",
       "   <td style=\"text-align:left;\"> Chrom </td>\n",
       "   <td style=\"text-align:left;\"> Name of the chromosome </td>\n",
       "  </tr>\n",
       "  <tr>\n",
       "   <td style=\"text-align:left;\"> ChromStart </td>\n",
       "   <td style=\"text-align:left;\"> The starting position of the feature in the chromosome </td>\n",
       "  </tr>\n",
       "  <tr>\n",
       "   <td style=\"text-align:left;\"> ChromEnd </td>\n",
       "   <td style=\"text-align:left;\"> The ending position of the feature in the chromosome </td>\n",
       "  </tr>\n",
       "  <tr>\n",
       "   <td style=\"text-align:left;\"> Region </td>\n",
       "   <td style=\"text-align:left;\"> Region location </td>\n",
       "  </tr>\n",
       "  <tr>\n",
       "   <td style=\"text-align:left;\"> Guide_ID </td>\n",
       "   <td style=\"text-align:left;\"> ID of significant guide within the DHS </td>\n",
       "  </tr>\n",
       "  <tr>\n",
       "   <td style=\"text-align:left;\"> Log2FC </td>\n",
       "   <td style=\"text-align:left;\"> log2foldchange of the guide </td>\n",
       "  </tr>\n",
       "  <tr>\n",
       "   <td style=\"text-align:left;\"> Padj </td>\n",
       "   <td style=\"text-align:left;\"> Adjusted p value of the guide </td>\n",
       "  </tr>\n",
       "  <tr>\n",
       "   <td style=\"text-align:left;\"> Group </td>\n",
       "   <td style=\"text-align:left;\"> Assay Name </td>\n",
       "  </tr>\n",
       "  <tr>\n",
       "   <td style=\"text-align:left;\"> Label </td>\n",
       "   <td style=\"text-align:left;\"> Assay Name </td>\n",
       "  </tr>\n",
       "</tbody>\n",
       "</table>"
      ]
     },
     "metadata": {},
     "output_type": "display_data"
    }
   ],
   "source": [
    "### set column name and description\n",
    "dat = tribble(\n",
    "    ~Name,        ~Note,\n",
    "    \"Chrom\",      \"Name of the chromosome\",\n",
    "    \"ChromStart\", \"The starting position of the feature in the chromosome\",\n",
    "    \"ChromEnd\",   \"The ending position of the feature in the chromosome\",\n",
    "    \"Region\",     \"Region location\",\n",
    "    \"Guide_ID\",   \"ID of significant guide within the DHS\",\n",
    "    \"Log2FC\",     \"log2foldchange of the guide\",\n",
    "    \"Padj\",       \"Adjusted p value of the guide\",\n",
    "    \"Group\",      \"Assay Name\",\n",
    "    \"Label\",      \"Assay Name\"\n",
    ")\n",
    "\n",
    "### assign and show\n",
    "dat_cname = dat\n",
    "fun_display_table(dat)"
   ]
  },
  {
   "cell_type": "markdown",
   "id": "16952028-3e50-4ab8-a66f-27aa61b2dd2c",
   "metadata": {},
   "source": [
    "## Define file labeling"
   ]
  },
  {
   "cell_type": "code",
   "execution_count": 5,
   "id": "16313813-75cd-493f-9f42-e7b2605d7ae3",
   "metadata": {},
   "outputs": [
    {
     "data": {
      "text/html": [
       "<table>\n",
       " <thead>\n",
       "  <tr>\n",
       "   <th style=\"text-align:left;\"> Folder </th>\n",
       "   <th style=\"text-align:left;\"> FName </th>\n",
       "   <th style=\"text-align:left;\"> Label </th>\n",
       "  </tr>\n",
       " </thead>\n",
       "<tbody>\n",
       "  <tr>\n",
       "   <td style=\"text-align:left;\"> fcc_crispri_growth </td>\n",
       "   <td style=\"text-align:left;\"> K562.hg38.CRISPRi_Growth.signif.bed.gz </td>\n",
       "   <td style=\"text-align:left;\"> fcc_crispri_growth_signif </td>\n",
       "  </tr>\n",
       "  <tr>\n",
       "   <td style=\"text-align:left;\"> fcc_crispri_growth </td>\n",
       "   <td style=\"text-align:left;\"> K562.hg38.CRISPRi_Growth.total.bed.gz </td>\n",
       "   <td style=\"text-align:left;\"> fcc_crispri_growth_total </td>\n",
       "  </tr>\n",
       "</tbody>\n",
       "</table>"
      ]
     },
     "metadata": {},
     "output_type": "display_data"
    }
   ],
   "source": [
    "### set directory\n",
    "txt_folder = TXT_FOLDER_REGION\n",
    "txt_fdiry  = file.path(FD_RES, \"region\", txt_folder)\n",
    "txt_fglob  = file.path(txt_fdiry, \"*bed*\")\n",
    "\n",
    "### get file names\n",
    "vec_txt_fpath = Sys.glob(txt_fglob)\n",
    "vec_txt_fname = basename(vec_txt_fpath)\n",
    "\n",
    "### init info table\n",
    "dat = data.frame(\n",
    "    \"Folder\" = txt_folder,\n",
    "    \"FName\"  = vec_txt_fname\n",
    ")\n",
    "dat$Label = c(\"fcc_crispri_growth_signif\", \"fcc_crispri_growth_total\")\n",
    "\n",
    "### assign and show\n",
    "dat_region_label = dat\n",
    "fun_display_table(dat)"
   ]
  },
  {
   "cell_type": "markdown",
   "id": "84d12599-aa40-487d-9088-792a479616b7",
   "metadata": {},
   "source": [
    "## Save results"
   ]
  },
  {
   "cell_type": "code",
   "execution_count": 6,
   "id": "a53a5634-896b-433e-b645-3350974e6be7",
   "metadata": {},
   "outputs": [],
   "source": [
    "txt_folder = TXT_FOLDER_REGION\n",
    "txt_fdiry  = file.path(FD_RES, \"region\", txt_folder, \"summary\")\n",
    "txt_fname  = \"description.tsv\"\n",
    "txt_fpath  = file.path(txt_fdiry, txt_fname)\n",
    "\n",
    "dir.create(txt_fdiry, showWarnings = FALSE)\n",
    "dat = dat_cname\n",
    "write_tsv(dat, txt_fpath)"
   ]
  },
  {
   "cell_type": "code",
   "execution_count": 7,
   "id": "d9948ba8-852b-42c6-a770-bbb3b568e904",
   "metadata": {},
   "outputs": [],
   "source": [
    "txt_folder = TXT_FOLDER_REGION\n",
    "txt_fdiry  = file.path(FD_RES, \"region\", txt_folder, \"summary\")\n",
    "txt_fname  = \"metadata.label.tsv\"\n",
    "txt_fpath  = file.path(txt_fdiry, txt_fname)\n",
    "\n",
    "dir.create(txt_fdiry, showWarnings = FALSE)\n",
    "dat = dat_region_label\n",
    "write_tsv(dat, txt_fpath)"
   ]
  },
  {
   "cell_type": "code",
   "execution_count": null,
   "id": "c61767bd-1235-4c5f-ac9f-e7a453a5aa2d",
   "metadata": {},
   "outputs": [],
   "source": []
  }
 ],
 "metadata": {
  "kernelspec": {
   "display_name": "R",
   "language": "R",
   "name": "ir"
  },
  "language_info": {
   "codemirror_mode": "r",
   "file_extension": ".r",
   "mimetype": "text/x-r-source",
   "name": "R",
   "pygments_lexer": "r",
   "version": "4.4.1"
  }
 },
 "nbformat": 4,
 "nbformat_minor": 5
}
