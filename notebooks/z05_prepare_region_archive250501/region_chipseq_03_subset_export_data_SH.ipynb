{
 "cells": [
  {
   "cell_type": "raw",
   "id": "7ee15bab-8974-401c-b047-72ce41ebe156",
   "metadata": {},
   "source": [
    "---\n",
    "title: Prepare ENCODE ChIP-seq 03 (Subset)\n",
    "subtitle: Export data to `result` folder\n",
    "format:\n",
    "    html:\n",
    "        code-fold:  true\n",
    "        code-tools: true\n",
    "---"
   ]
  },
  {
   "cell_type": "markdown",
   "id": "5487f930-c1a0-4417-a707-d5be0ad6a5b7",
   "metadata": {},
   "source": [
    "**Set environment**"
   ]
  },
  {
   "cell_type": "code",
   "execution_count": 1,
   "id": "529a70f2-cbfb-4a42-80cd-bdcc221fcf43",
   "metadata": {},
   "outputs": [
    {
     "name": "stdout",
     "output_type": "stream",
     "text": [
      "You are working on             Duke Server: HARDAC\n",
      "BASE DIRECTORY (FD_BASE):      /data/reddylab/Kuei\n",
      "REPO DIRECTORY (FD_REPO):      /data/reddylab/Kuei/repo\n",
      "WORK DIRECTORY (FD_WORK):      /data/reddylab/Kuei/work\n",
      "DATA DIRECTORY (FD_DATA):      /data/reddylab/Kuei/data\n",
      "CONTAINER DIR. (FD_SING):      /data/reddylab/Kuei/container\n",
      "\n",
      "You are working with           ENCODE FCC\n",
      "PATH OF PROJECT (FD_PRJ):      /data/reddylab/Kuei/repo/Proj_ENCODE_FCC\n",
      "PROJECT RESULTS (FD_RES):      /data/reddylab/Kuei/repo/Proj_ENCODE_FCC/results\n",
      "PROJECT SCRIPTS (FD_EXE):      /data/reddylab/Kuei/repo/Proj_ENCODE_FCC/scripts\n",
      "PROJECT DATA    (FD_DAT):      /data/reddylab/Kuei/repo/Proj_ENCODE_FCC/data\n",
      "PROJECT NOTE    (FD_NBK):      /data/reddylab/Kuei/repo/Proj_ENCODE_FCC/notebooks\n",
      "PROJECT DOCS    (FD_DOC):      /data/reddylab/Kuei/repo/Proj_ENCODE_FCC/docs\n",
      "PROJECT LOG     (FD_LOG):      /data/reddylab/Kuei/repo/Proj_ENCODE_FCC/log\n",
      "PROJECT APP     (FD_APP):      \n",
      "PROJECT REF     (FD_REF):      /data/reddylab/Kuei/repo/Proj_ENCODE_FCC/references\n",
      "PROJECT IMAGE   (FP_PRJ_SIF):  /data/reddylab/Kuei/container/project/singularity_proj_encode_fcc.sif\n",
      "\n"
     ]
    }
   ],
   "source": [
    "source ../run_config_project.sh\n",
    "show_env"
   ]
  },
  {
   "cell_type": "markdown",
   "id": "d4ac6ca5-637c-4823-99f4-c7345225f6d5",
   "metadata": {
    "tags": []
   },
   "source": [
    "## Prepare"
   ]
  },
  {
   "cell_type": "code",
   "execution_count": 2,
   "id": "fdb6d127-0c46-4707-bcf2-c97336d6b29b",
   "metadata": {},
   "outputs": [
    {
     "name": "stdout",
     "output_type": "stream",
     "text": [
      "/data/reddylab/Kuei/repo/Proj_ENCODE_FCC/data/external/encode_chipseq_subset\n",
      "21\n",
      "ENCFF023IFO.bed.gz\n",
      "ENCFF135ZLM.bed.gz\n",
      "ENCFF142ZTD.bed.gz\n",
      "ENCFF190CGV.bed.gz\n",
      "ENCFF242AOL.bed.gz\n",
      "ENCFF323WOT.bed.gz\n",
      "ENCFF355MNE.bed.gz\n",
      "ENCFF398UQZ.bed.gz\n",
      "ENCFF488OTN.bed.gz\n",
      "ENCFF544LXB.bed.gz\n",
      "ENCFF553GPK.bed.gz\n",
      "ENCFF627RSK.bed.gz\n",
      "ENCFF657CTC.bed.gz\n",
      "ENCFF660GHM.bed.gz\n",
      "ENCFF702XPO.bed.gz\n",
      "ENCFF707MDI.bed.gz\n",
      "ENCFF715WGN.bed.gz\n",
      "ENCFF749KLQ.bed.gz\n",
      "ENCFF777PKJ.bed.gz\n",
      "ENCFF852ZRK.bed.gz\n",
      "ENCFF885FQN.bed.gz\n"
     ]
    }
   ],
   "source": [
    "FDIRY=${FD_DAT}/external/encode_chipseq_subset\n",
    "\n",
    "echo ${FDIRY}\n",
    "ls   ${FDIRY}/*.bed.gz | wc -l\n",
    "ls   ${FDIRY}/*.bed.gz | xargs -n 1 basename"
   ]
  },
  {
   "cell_type": "code",
   "execution_count": 3,
   "id": "fbe2ee7f-62a3-4040-9b5c-5d93f6e4e708",
   "metadata": {},
   "outputs": [
    {
     "name": "stdout",
     "output_type": "stream",
     "text": [
      "chr4\t8303464\t8304113\t.\t1000\t.\t15079.44347\t-1.00000\t4.74694\t319\n",
      "chr22\t35371878\t35372386\t.\t1000\t.\t6874.99879\t-1.00000\t4.74694\t213\n",
      "chr16\t65974998\t65975587\t.\t1000\t.\t6852.50869\t-1.00000\t4.74694\t289\n",
      "chr6\t14734457\t14735048\t.\t1000\t.\t6684.21229\t-1.00000\t4.74694\t299\n",
      "chr12\t116492745\t116493345\t.\t1000\t.\t6565.75247\t-1.00000\t4.74694\t302\n",
      "chr7\t130025889\t130026418\t.\t1000\t.\t6493.75828\t-1.00000\t4.74694\t267\n",
      "chr10\t5071633\t5072184\t.\t1000\t.\t5782.45687\t-1.00000\t4.74694\t287\n",
      "chr7\t50534792\t50535324\t.\t1000\t.\t5488.06075\t-1.00000\t4.74694\t280\n",
      "chr6\t17907543\t17908132\t.\t1000\t.\t5328.78307\t-1.00000\t4.74694\t317\n",
      "chr4\t74682621\t74683174\t.\t1000\t.\t5290.90140\t-1.00000\t4.74694\t281\n"
     ]
    }
   ],
   "source": [
    "FDIRY=${FD_DAT}/external/encode_chipseq_subset\n",
    "FNAME=ENCFF023IFO.bed.gz\n",
    "FPATH=${FDIRY}/${FNAME}\n",
    "zcat ${FPATH} | head"
   ]
  },
  {
   "cell_type": "markdown",
   "id": "70bb75c7-78cc-4805-a09f-f2c6d2fa8203",
   "metadata": {
    "tags": []
   },
   "source": [
    "## Execute\n",
    "**Copy and sort the files**\n",
    "```\n",
    "ln -s file link\n",
    "zcat ${FP_INP} | sort -k 1,1 -k2,2n | gzip -c > ${FP_OUT}\n",
    "```"
   ]
  },
  {
   "cell_type": "code",
   "execution_count": 5,
   "id": "bb2078c3-f2cf-4a5b-a234-f626412f818e",
   "metadata": {
    "tags": []
   },
   "outputs": [
    {
     "name": "stdout",
     "output_type": "stream",
     "text": [
      "ENCFF023IFO.bed.gz\n",
      "ENCFF135ZLM.bed.gz\n",
      "ENCFF142ZTD.bed.gz\n",
      "ENCFF190CGV.bed.gz\n",
      "ENCFF242AOL.bed.gz\n",
      "ENCFF323WOT.bed.gz\n",
      "ENCFF355MNE.bed.gz\n",
      "ENCFF398UQZ.bed.gz\n",
      "ENCFF488OTN.bed.gz\n",
      "ENCFF544LXB.bed.gz\n",
      "ENCFF553GPK.bed.gz\n",
      "ENCFF627RSK.bed.gz\n",
      "ENCFF657CTC.bed.gz\n",
      "ENCFF660GHM.bed.gz\n",
      "ENCFF702XPO.bed.gz\n",
      "ENCFF707MDI.bed.gz\n",
      "ENCFF715WGN.bed.gz\n",
      "ENCFF749KLQ.bed.gz\n",
      "ENCFF777PKJ.bed.gz\n",
      "ENCFF852ZRK.bed.gz\n",
      "ENCFF885FQN.bed.gz\n"
     ]
    }
   ],
   "source": [
    "### set directory\n",
    "FD_INP=${FD_DAT}/external/encode_chipseq_subset\n",
    "FD_OUT=${FD_RES}/region/encode_chipseq_subset\n",
    "mkdir -p ${FD_OUT}\n",
    "\n",
    "### loop and generate sorted files\n",
    "FP_INPS=($(ls ${FD_INP}/*bed.gz))\n",
    "for FP_INP in ${FP_INPS[@]}; do\n",
    "    ### get input file name\n",
    "    FN_INP=$(basename ${FP_INP})\n",
    "    echo ${FN_INP}\n",
    "    \n",
    "    ### set output file name\n",
    "    FN_OUT=${FN_INP}\n",
    "    FP_OUT=${FD_OUT}/${FN_OUT}\n",
    "    \n",
    "    ### sort and output to a new file\n",
    "    zcat ${FP_INP} | sort -k 1,1 -k2,2n | gzip -c > ${FP_OUT}\n",
    "done"
   ]
  },
  {
   "cell_type": "markdown",
   "id": "58c703a3-8183-4a73-b10b-64c30a10d0e4",
   "metadata": {},
   "source": [
    "## Review"
   ]
  },
  {
   "cell_type": "markdown",
   "id": "5f25da8d-fa53-4332-af8a-ff8c253b0d8b",
   "metadata": {},
   "source": [
    "**Check output files**"
   ]
  },
  {
   "cell_type": "code",
   "execution_count": 8,
   "id": "b7d3b582-dda3-4e4d-965a-47c21983ba1c",
   "metadata": {},
   "outputs": [
    {
     "name": "stdout",
     "output_type": "stream",
     "text": [
      "ENCFF023IFO.bed.gz\n",
      "ENCFF135ZLM.bed.gz\n",
      "ENCFF142ZTD.bed.gz\n",
      "ENCFF190CGV.bed.gz\n",
      "ENCFF242AOL.bed.gz\n",
      "ENCFF323WOT.bed.gz\n",
      "ENCFF355MNE.bed.gz\n",
      "ENCFF398UQZ.bed.gz\n",
      "ENCFF488OTN.bed.gz\n",
      "ENCFF544LXB.bed.gz\n",
      "ENCFF553GPK.bed.gz\n",
      "ENCFF627RSK.bed.gz\n",
      "ENCFF657CTC.bed.gz\n",
      "ENCFF660GHM.bed.gz\n",
      "ENCFF702XPO.bed.gz\n",
      "ENCFF707MDI.bed.gz\n",
      "ENCFF715WGN.bed.gz\n",
      "ENCFF749KLQ.bed.gz\n",
      "ENCFF777PKJ.bed.gz\n",
      "ENCFF852ZRK.bed.gz\n",
      "ENCFF885FQN.bed.gz\n"
     ]
    }
   ],
   "source": [
    "### set directory\n",
    "FD_INP=${FD_DAT}/external/encode_chipseq_subset\n",
    "FD_OUT=${FD_RES}/region/encode_chipseq_subset\n",
    "\n",
    "ls -1 ${FD_OUT}/*.bed.gz | xargs -n 1 basename"
   ]
  },
  {
   "cell_type": "code",
   "execution_count": 9,
   "id": "cc996976-979f-4e9d-adc7-1493b34797b4",
   "metadata": {},
   "outputs": [
    {
     "name": "stdout",
     "output_type": "stream",
     "text": [
      "chr4\t8303464\t8304113\t.\t1000\t.\t15079.44347\t-1.00000\t4.74694\t319\n",
      "chr22\t35371878\t35372386\t.\t1000\t.\t6874.99879\t-1.00000\t4.74694\t213\n",
      "chr16\t65974998\t65975587\t.\t1000\t.\t6852.50869\t-1.00000\t4.74694\t289\n",
      "chr6\t14734457\t14735048\t.\t1000\t.\t6684.21229\t-1.00000\t4.74694\t299\n",
      "chr12\t116492745\t116493345\t.\t1000\t.\t6565.75247\t-1.00000\t4.74694\t302\n",
      "chr7\t130025889\t130026418\t.\t1000\t.\t6493.75828\t-1.00000\t4.74694\t267\n",
      "chr10\t5071633\t5072184\t.\t1000\t.\t5782.45687\t-1.00000\t4.74694\t287\n",
      "chr7\t50534792\t50535324\t.\t1000\t.\t5488.06075\t-1.00000\t4.74694\t280\n",
      "chr6\t17907543\t17908132\t.\t1000\t.\t5328.78307\t-1.00000\t4.74694\t317\n",
      "chr4\t74682621\t74683174\t.\t1000\t.\t5290.90140\t-1.00000\t4.74694\t281\n"
     ]
    }
   ],
   "source": [
    "FNAME=ENCFF023IFO.bed.gz\n",
    "FPATH=${FD_INP}/${FNAME}\n",
    "zcat ${FPATH} | head"
   ]
  },
  {
   "cell_type": "code",
   "execution_count": 10,
   "id": "e93c9a4b-fbcf-4671-a6cc-d3a1e8cca03f",
   "metadata": {},
   "outputs": [
    {
     "name": "stdout",
     "output_type": "stream",
     "text": [
      "chr1\t115518\t115922\t.\t1000\t.\t67.43800\t-1.00000\t4.74694\t202\n",
      "chr1\t118534\t118797\t.\t1000\t.\t239.18639\t-1.00000\t4.74694\t131\n",
      "chr1\t605225\t605491\t.\t1000\t.\t302.68866\t-1.00000\t4.74694\t149\n",
      "chr1\t778464\t778868\t.\t898\t.\t47.26383\t-1.00000\t3.63323\t202\n",
      "chr1\t812680\t812784\t.\t1000\t.\t120.36458\t-1.00000\t4.74694\t101\n",
      "chr1\t1209891\t1210295\t.\t551\t.\t33.60338\t-1.00000\t2.43132\t202\n",
      "chr1\t1305625\t1305856\t.\t1000\t.\t252.21332\t-1.00000\t4.74694\t109\n",
      "chr1\t1609811\t1610215\t.\t1000\t.\t54.64675\t-1.00000\t4.27078\t202\n",
      "chr1\t1658862\t1659266\t.\t1000\t.\t85.48044\t-1.00000\t4.74694\t202\n",
      "chr1\t1686143\t1686515\t.\t1000\t.\t845.54481\t-1.00000\t4.74694\t195\n"
     ]
    }
   ],
   "source": [
    "FNAME=ENCFF023IFO.bed.gz\n",
    "FPATH=${FD_OUT}/${FNAME}\n",
    "zcat ${FPATH} | head"
   ]
  }
 ],
 "metadata": {
  "kernelspec": {
   "display_name": "Bash",
   "language": "bash",
   "name": "bash"
  },
  "language_info": {
   "codemirror_mode": "shell",
   "file_extension": ".sh",
   "mimetype": "text/x-sh",
   "name": "bash"
  }
 },
 "nbformat": 4,
 "nbformat_minor": 5
}
