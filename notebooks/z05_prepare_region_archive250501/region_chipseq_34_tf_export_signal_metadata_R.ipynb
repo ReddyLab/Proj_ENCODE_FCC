{
 "cells": [
  {
   "cell_type": "raw",
   "id": "aab92d49-5022-4257-ac81-9da4fe96ec66",
   "metadata": {},
   "source": [
    "---\n",
    "title: Prepare ENCODE ChIP-seq 14 (Histone)\n",
    "subtitle: Export metadata\n",
    "format:\n",
    "    html:\n",
    "        code-fold:  true\n",
    "        code-tools: true\n",
    "---"
   ]
  },
  {
   "cell_type": "markdown",
   "id": "1ffe1113-51c3-4e0a-8e97-8464c1b1bd6d",
   "metadata": {},
   "source": [
    "**Set environment**"
   ]
  },
  {
   "cell_type": "code",
   "execution_count": 1,
   "id": "abe82233-5770-4b95-89f0-ee5fe2fa08b8",
   "metadata": {},
   "outputs": [
    {
     "name": "stdout",
     "output_type": "stream",
     "text": [
      "You are working on        Singularity: singularity_proj_encode_fcc \n",
      "BASE DIRECTORY (FD_BASE): /data/reddylab/Kuei \n",
      "REPO DIRECTORY (FD_REPO): /data/reddylab/Kuei/repo \n",
      "WORK DIRECTORY (FD_WORK): /data/reddylab/Kuei/work \n",
      "DATA DIRECTORY (FD_DATA): /data/reddylab/Kuei/data \n",
      "\n",
      "You are working with      ENCODE FCC \n",
      "PATH OF PROJECT (FD_PRJ): /data/reddylab/Kuei/repo/Proj_ENCODE_FCC \n",
      "PROJECT RESULTS (FD_RES): /data/reddylab/Kuei/repo/Proj_ENCODE_FCC/results \n",
      "PROJECT SCRIPTS (FD_EXE): /data/reddylab/Kuei/repo/Proj_ENCODE_FCC/scripts \n",
      "PROJECT DATA    (FD_DAT): /data/reddylab/Kuei/repo/Proj_ENCODE_FCC/data \n",
      "PROJECT NOTE    (FD_NBK): /data/reddylab/Kuei/repo/Proj_ENCODE_FCC/notebooks \n",
      "PROJECT DOCS    (FD_DOC): /data/reddylab/Kuei/repo/Proj_ENCODE_FCC/docs \n",
      "PROJECT LOG     (FD_LOG): /data/reddylab/Kuei/repo/Proj_ENCODE_FCC/log \n",
      "PROJECT REF     (FD_REF): /data/reddylab/Kuei/repo/Proj_ENCODE_FCC/references \n",
      "\n"
     ]
    }
   ],
   "source": [
    "suppressMessages(suppressWarnings(source(\"../run_config_project_sing.R\")))\n",
    "show_env()"
   ]
  },
  {
   "cell_type": "markdown",
   "id": "9d7b3961-3dd8-4720-bb64-6a29f1250ff3",
   "metadata": {},
   "source": [
    "**Set global variables**"
   ]
  },
  {
   "cell_type": "code",
   "execution_count": 2,
   "id": "7f0a95a7-c86e-4358-bdc0-2d159ce7f861",
   "metadata": {},
   "outputs": [],
   "source": [
    "#TXT_FOLDER_DATA   = \"encode_chipseq_histone_241223\"\n",
    "TXT_FOLDER_REGION = \"encode_chipseq_tf\""
   ]
  },
  {
   "cell_type": "code",
   "execution_count": 3,
   "id": "1ec2e083-73db-4a1f-b75d-c0d512e3ca62",
   "metadata": {},
   "outputs": [
    {
     "name": "stdout",
     "output_type": "stream",
     "text": [
      "encode_chipseq_histone \n",
      "encode_chipseq_tf \n",
      "protein_interpro \n"
     ]
    }
   ],
   "source": [
    "txt_fdiry = file.path(FD_RES, \"annotation\")\n",
    "vec = dir(txt_fdiry)\n",
    "for(txt in vec){cat(txt, \"\\n\")}"
   ]
  },
  {
   "cell_type": "code",
   "execution_count": 4,
   "id": "f4f63bb2-1a22-4415-86f3-80e851d62f14",
   "metadata": {},
   "outputs": [
    {
     "name": "stdout",
     "output_type": "stream",
     "text": [
      "signal_fold_change \n",
      "summary \n"
     ]
    }
   ],
   "source": [
    "txt_foldr = TXT_FOLDER_REGION\n",
    "txt_fdiry = file.path(FD_RES, \"annotation\", txt_foldr)\n",
    "vec = dir(txt_fdiry)\n",
    "for(txt in vec){cat(txt, \"\\n\")}"
   ]
  },
  {
   "cell_type": "code",
   "execution_count": 5,
   "id": "c3a8dd0d-cbc7-4857-bd4d-6293b68ddd09",
   "metadata": {},
   "outputs": [
    {
     "name": "stdout",
     "output_type": "stream",
     "text": [
      "/data/reddylab/Kuei/repo/Proj_ENCODE_FCC/results/annotation/encode_chipseq_tf/signal_fold_change/ENCFF002KIE.bigWig \n",
      "/data/reddylab/Kuei/repo/Proj_ENCODE_FCC/results/annotation/encode_chipseq_tf/signal_fold_change/ENCFF002MEK.bigWig \n",
      "/data/reddylab/Kuei/repo/Proj_ENCODE_FCC/results/annotation/encode_chipseq_tf/signal_fold_change/ENCFF003ZRP.bigWig \n",
      "/data/reddylab/Kuei/repo/Proj_ENCODE_FCC/results/annotation/encode_chipseq_tf/signal_fold_change/ENCFF004SID.bigWig \n",
      "/data/reddylab/Kuei/repo/Proj_ENCODE_FCC/results/annotation/encode_chipseq_tf/signal_fold_change/ENCFF007JMV.bigWig \n",
      "/data/reddylab/Kuei/repo/Proj_ENCODE_FCC/results/annotation/encode_chipseq_tf/signal_fold_change/ENCFF013BKC.bigWig \n"
     ]
    }
   ],
   "source": [
    "txt_fdiry = file.path(FD_RES, \"annotation\", TXT_FOLDER_REGION, \"signal_fold_change\")\n",
    "txt_fname = \"*bigWig\"\n",
    "txt_fglob = file.path(txt_fdiry, txt_fname)\n",
    "\n",
    "vec = Sys.glob(txt_fglob)\n",
    "vec = head(vec)\n",
    "\n",
    "for(txt in vec){cat(txt, \"\\n\")}"
   ]
  },
  {
   "cell_type": "code",
   "execution_count": null,
   "id": "baf40228-6dd0-43e4-b709-afa6c6607ca3",
   "metadata": {},
   "outputs": [],
   "source": []
  },
  {
   "cell_type": "code",
   "execution_count": null,
   "id": "a1f9007a-a866-458e-aeb7-83c90e77352c",
   "metadata": {},
   "outputs": [],
   "source": []
  },
  {
   "cell_type": "code",
   "execution_count": 6,
   "id": "17bef45c-de4b-428f-8806-4f98914a7c99",
   "metadata": {},
   "outputs": [
    {
     "name": "stdout",
     "output_type": "stream",
     "text": [
      "[1] 720  14\n"
     ]
    },
    {
     "data": {
      "text/html": [
       "<table>\n",
       " <thead>\n",
       "  <tr>\n",
       "   <th style=\"text-align:left;\"> Assay </th>\n",
       "   <th style=\"text-align:left;\"> Index_Experiment </th>\n",
       "   <th style=\"text-align:left;\"> Index_File </th>\n",
       "   <th style=\"text-align:left;\"> File_Format </th>\n",
       "   <th style=\"text-align:left;\"> File_Type </th>\n",
       "   <th style=\"text-align:left;\"> Output_Type </th>\n",
       "   <th style=\"text-align:left;\"> Genome </th>\n",
       "   <th style=\"text-align:left;\"> Target </th>\n",
       "   <th style=\"text-align:left;\"> Bio_Replicates </th>\n",
       "   <th style=\"text-align:left;\"> Analysis </th>\n",
       "   <th style=\"text-align:left;\"> Analysis_Version </th>\n",
       "   <th style=\"text-align:left;\"> md5sum </th>\n",
       "   <th style=\"text-align:left;\"> File_Name </th>\n",
       "   <th style=\"text-align:left;\"> File_URL </th>\n",
       "  </tr>\n",
       " </thead>\n",
       "<tbody>\n",
       "  <tr>\n",
       "   <td style=\"text-align:left;\"> TF ChIP-seq </td>\n",
       "   <td style=\"text-align:left;\"> ENCSR590FLL </td>\n",
       "   <td style=\"text-align:left;\"> ENCFF465ZAR </td>\n",
       "   <td style=\"text-align:left;\"> bigWig </td>\n",
       "   <td style=\"text-align:left;\"> bigWig </td>\n",
       "   <td style=\"text-align:left;\"> fold change over control </td>\n",
       "   <td style=\"text-align:left;\"> GRCh38 </td>\n",
       "   <td style=\"text-align:left;\"> ZNF347 </td>\n",
       "   <td style=\"text-align:left;\"> 1, 2 </td>\n",
       "   <td style=\"text-align:left;\"> ENCODE4 v1.4.0 GRCh38 </td>\n",
       "   <td style=\"text-align:left;\"> ENCODE4 </td>\n",
       "   <td style=\"text-align:left;\"> 9129c700630cd16e31a925d351562f14 </td>\n",
       "   <td style=\"text-align:left;\"> ENCFF465ZAR.bigWig </td>\n",
       "   <td style=\"text-align:left;\"> https://www.encodeproject.org/files/ENCFF465ZAR/@@download/ENCFF465ZAR.bigWig </td>\n",
       "  </tr>\n",
       "  <tr>\n",
       "   <td style=\"text-align:left;\"> TF ChIP-seq </td>\n",
       "   <td style=\"text-align:left;\"> ENCSR536CBU </td>\n",
       "   <td style=\"text-align:left;\"> ENCFF178FEN </td>\n",
       "   <td style=\"text-align:left;\"> bigWig </td>\n",
       "   <td style=\"text-align:left;\"> bigWig </td>\n",
       "   <td style=\"text-align:left;\"> fold change over control </td>\n",
       "   <td style=\"text-align:left;\"> GRCh38 </td>\n",
       "   <td style=\"text-align:left;\"> ZBTB9 </td>\n",
       "   <td style=\"text-align:left;\"> 1, 2 </td>\n",
       "   <td style=\"text-align:left;\"> ENCODE4 v1.4.0 GRCh38 </td>\n",
       "   <td style=\"text-align:left;\"> ENCODE4 </td>\n",
       "   <td style=\"text-align:left;\"> c3b03e05c986366373390283fe28381f </td>\n",
       "   <td style=\"text-align:left;\"> ENCFF178FEN.bigWig </td>\n",
       "   <td style=\"text-align:left;\"> https://www.encodeproject.org/files/ENCFF178FEN/@@download/ENCFF178FEN.bigWig </td>\n",
       "  </tr>\n",
       "  <tr>\n",
       "   <td style=\"text-align:left;\"> TF ChIP-seq </td>\n",
       "   <td style=\"text-align:left;\"> ENCSR436CZV </td>\n",
       "   <td style=\"text-align:left;\"> ENCFF040PTP </td>\n",
       "   <td style=\"text-align:left;\"> bigWig </td>\n",
       "   <td style=\"text-align:left;\"> bigWig </td>\n",
       "   <td style=\"text-align:left;\"> fold change over control </td>\n",
       "   <td style=\"text-align:left;\"> GRCh38 </td>\n",
       "   <td style=\"text-align:left;\"> AFF4 </td>\n",
       "   <td style=\"text-align:left;\"> 1, 2 </td>\n",
       "   <td style=\"text-align:left;\"> ENCODE4 v1.8.0 GRCh38 </td>\n",
       "   <td style=\"text-align:left;\"> ENCODE4 </td>\n",
       "   <td style=\"text-align:left;\"> ec5d483f39e417045f201e447c62bdca </td>\n",
       "   <td style=\"text-align:left;\"> ENCFF040PTP.bigWig </td>\n",
       "   <td style=\"text-align:left;\"> https://www.encodeproject.org/files/ENCFF040PTP/@@download/ENCFF040PTP.bigWig </td>\n",
       "  </tr>\n",
       "</tbody>\n",
       "</table>"
      ]
     },
     "metadata": {},
     "output_type": "display_data"
    }
   ],
   "source": [
    "### set directory\n",
    "#txt_foldr = TXT_FOLDER_DATA\n",
    "#txt_fdiry = file.path(FD_DAT, \"external\", txt_foldr)\n",
    "\n",
    "txt_fdiry = file.path(FD_RES, \"annotation\", TXT_FOLDER_REGION, \"signal_fold_change\")\n",
    "txt_fname = \"metadata.tsv\"\n",
    "txt_fpath = file.path(txt_fdiry, txt_fname)\n",
    "\n",
    "dat = read_tsv(txt_fpath, show_col_types = FALSE)\n",
    "\n",
    "dat_metadata_info = dat\n",
    "print(dim(dat))\n",
    "fun_display_table(head(dat, 3))"
   ]
  },
  {
   "cell_type": "code",
   "execution_count": null,
   "id": "d368005d-21fa-4ba1-9835-9fad9bd103de",
   "metadata": {},
   "outputs": [],
   "source": []
  },
  {
   "cell_type": "code",
   "execution_count": 10,
   "id": "9ae8f7d9-cdfb-4fe9-a92d-90e4fb817927",
   "metadata": {},
   "outputs": [
    {
     "data": {
      "text/html": [
       "<table>\n",
       " <thead>\n",
       "  <tr>\n",
       "   <th style=\"text-align:left;\"> FPath </th>\n",
       "   <th style=\"text-align:left;\"> FName </th>\n",
       "  </tr>\n",
       " </thead>\n",
       "<tbody>\n",
       "  <tr>\n",
       "   <td style=\"text-align:left;\"> /data/reddylab/Kuei/repo/Proj_ENCODE_FCC/results/annotation/encode_chipseq_tf/signal_fold_change/ENCFF002KIE.bigWig </td>\n",
       "   <td style=\"text-align:left;\"> ENCFF002KIE.bigWig </td>\n",
       "  </tr>\n",
       "  <tr>\n",
       "   <td style=\"text-align:left;\"> /data/reddylab/Kuei/repo/Proj_ENCODE_FCC/results/annotation/encode_chipseq_tf/signal_fold_change/ENCFF002MEK.bigWig </td>\n",
       "   <td style=\"text-align:left;\"> ENCFF002MEK.bigWig </td>\n",
       "  </tr>\n",
       "  <tr>\n",
       "   <td style=\"text-align:left;\"> /data/reddylab/Kuei/repo/Proj_ENCODE_FCC/results/annotation/encode_chipseq_tf/signal_fold_change/ENCFF003ZRP.bigWig </td>\n",
       "   <td style=\"text-align:left;\"> ENCFF003ZRP.bigWig </td>\n",
       "  </tr>\n",
       "  <tr>\n",
       "   <td style=\"text-align:left;\"> /data/reddylab/Kuei/repo/Proj_ENCODE_FCC/results/annotation/encode_chipseq_tf/signal_fold_change/ENCFF004SID.bigWig </td>\n",
       "   <td style=\"text-align:left;\"> ENCFF004SID.bigWig </td>\n",
       "  </tr>\n",
       "  <tr>\n",
       "   <td style=\"text-align:left;\"> /data/reddylab/Kuei/repo/Proj_ENCODE_FCC/results/annotation/encode_chipseq_tf/signal_fold_change/ENCFF007JMV.bigWig </td>\n",
       "   <td style=\"text-align:left;\"> ENCFF007JMV.bigWig </td>\n",
       "  </tr>\n",
       "  <tr>\n",
       "   <td style=\"text-align:left;\"> /data/reddylab/Kuei/repo/Proj_ENCODE_FCC/results/annotation/encode_chipseq_tf/signal_fold_change/ENCFF013BKC.bigWig </td>\n",
       "   <td style=\"text-align:left;\"> ENCFF013BKC.bigWig </td>\n",
       "  </tr>\n",
       "</tbody>\n",
       "</table>"
      ]
     },
     "metadata": {},
     "output_type": "display_data"
    }
   ],
   "source": [
    "txt_fdiry = file.path(FD_RES, \"annotation\", TXT_FOLDER_REGION, \"signal_fold_change\")\n",
    "txt_fname = \"*bigWig\"\n",
    "txt_fglob = file.path(txt_fdiry, txt_fname)\n",
    "\n",
    "vec = Sys.glob(txt_fglob)\n",
    "dat = data.frame(\n",
    "    FPath = vec,\n",
    "    FName = basename(vec)\n",
    ")\n",
    "\n",
    "dat_metadata_fpath = dat\n",
    "fun_display_table(head(dat))"
   ]
  },
  {
   "cell_type": "code",
   "execution_count": 15,
   "id": "7a39787e-a78a-43cf-a045-69f310fa6a28",
   "metadata": {},
   "outputs": [
    {
     "name": "stdout",
     "output_type": "stream",
     "text": [
      "[1] 720   3\n",
      "[1] FALSE\n"
     ]
    },
    {
     "data": {
      "text/html": [
       "<table>\n",
       " <thead>\n",
       "  <tr>\n",
       "   <th style=\"text-align:left;\"> Folder </th>\n",
       "   <th style=\"text-align:left;\"> Label </th>\n",
       "   <th style=\"text-align:left;\"> FPath </th>\n",
       "  </tr>\n",
       " </thead>\n",
       "<tbody>\n",
       "  <tr>\n",
       "   <td style=\"text-align:left;\"> encode_chipseq_tf </td>\n",
       "   <td style=\"text-align:left;\"> encode_chipseq_ZNF347_ENCFF465ZAR </td>\n",
       "   <td style=\"text-align:left;\"> /data/reddylab/Kuei/repo/Proj_ENCODE_FCC/results/annotation/encode_chipseq_tf/signal_fold_change/ENCFF465ZAR.bigWig </td>\n",
       "  </tr>\n",
       "  <tr>\n",
       "   <td style=\"text-align:left;\"> encode_chipseq_tf </td>\n",
       "   <td style=\"text-align:left;\"> encode_chipseq_ZBTB9_ENCFF178FEN </td>\n",
       "   <td style=\"text-align:left;\"> /data/reddylab/Kuei/repo/Proj_ENCODE_FCC/results/annotation/encode_chipseq_tf/signal_fold_change/ENCFF178FEN.bigWig </td>\n",
       "  </tr>\n",
       "  <tr>\n",
       "   <td style=\"text-align:left;\"> encode_chipseq_tf </td>\n",
       "   <td style=\"text-align:left;\"> encode_chipseq_AFF4_ENCFF040PTP </td>\n",
       "   <td style=\"text-align:left;\"> /data/reddylab/Kuei/repo/Proj_ENCODE_FCC/results/annotation/encode_chipseq_tf/signal_fold_change/ENCFF040PTP.bigWig </td>\n",
       "  </tr>\n",
       "  <tr>\n",
       "   <td style=\"text-align:left;\"> encode_chipseq_tf </td>\n",
       "   <td style=\"text-align:left;\"> encode_chipseq_ZFX_ENCFF193LUC </td>\n",
       "   <td style=\"text-align:left;\"> /data/reddylab/Kuei/repo/Proj_ENCODE_FCC/results/annotation/encode_chipseq_tf/signal_fold_change/ENCFF193LUC.bigWig </td>\n",
       "  </tr>\n",
       "  <tr>\n",
       "   <td style=\"text-align:left;\"> encode_chipseq_tf </td>\n",
       "   <td style=\"text-align:left;\"> encode_chipseq_KAT7_ENCFF922ZTM </td>\n",
       "   <td style=\"text-align:left;\"> /data/reddylab/Kuei/repo/Proj_ENCODE_FCC/results/annotation/encode_chipseq_tf/signal_fold_change/ENCFF922ZTM.bigWig </td>\n",
       "  </tr>\n",
       "  <tr>\n",
       "   <td style=\"text-align:left;\"> encode_chipseq_tf </td>\n",
       "   <td style=\"text-align:left;\"> encode_chipseq_ZNF232_ENCFF118QVV </td>\n",
       "   <td style=\"text-align:left;\"> /data/reddylab/Kuei/repo/Proj_ENCODE_FCC/results/annotation/encode_chipseq_tf/signal_fold_change/ENCFF118QVV.bigWig </td>\n",
       "  </tr>\n",
       "</tbody>\n",
       "</table>"
      ]
     },
     "metadata": {},
     "output_type": "display_data"
    }
   ],
   "source": [
    "dat = dat_metadata_info\n",
    "dat = dat %>%\n",
    "    dplyr::mutate(\n",
    "        Folder = \"encode_chipseq_tf\",\n",
    "        Label  = paste(\"encode_chipseq\", Target, Index_File, sep = \"_\"),\n",
    "        FName  = File_Name\n",
    "    ) %>%\n",
    "    dplyr::select(Folder, Label, FName)\n",
    "\n",
    "dat = dat %>% \n",
    "    dplyr::left_join(dat_metadata_fpath, by = \"FName\") %>%\n",
    "    dplyr::select(Folder, Label, FPath)\n",
    "\n",
    "\n",
    "### assign and show\n",
    "dat_metadata_label = dat\n",
    "print(dim(dat))\n",
    "print(any(is.na(dat)))\n",
    "fun_display_table(head(dat))"
   ]
  },
  {
   "cell_type": "code",
   "execution_count": 16,
   "id": "77b26bc8-e914-4762-a8b1-be63059c35e2",
   "metadata": {},
   "outputs": [],
   "source": [
    "txt_folder = TXT_FOLDER_REGION\n",
    "txt_fdiry  = file.path(FD_RES, \"annotation\", txt_folder, \"summary\")\n",
    "txt_fname  = \"metadata.label.tsv\"\n",
    "txt_fpath  = file.path(txt_fdiry, txt_fname)\n",
    "\n",
    "dir.create(txt_fdiry, showWarnings = FALSE)\n",
    "dat = dat_metadata_label\n",
    "write_tsv(dat, txt_fpath)"
   ]
  },
  {
   "cell_type": "code",
   "execution_count": null,
   "id": "41d419ce-9df0-48a5-ae22-372dbe410e13",
   "metadata": {},
   "outputs": [],
   "source": []
  },
  {
   "cell_type": "code",
   "execution_count": null,
   "id": "f1aba912-5e4e-4271-8e66-653541457b8b",
   "metadata": {},
   "outputs": [],
   "source": []
  },
  {
   "cell_type": "code",
   "execution_count": null,
   "id": "c840527c-a0e4-4d5c-abff-b320f8df0469",
   "metadata": {},
   "outputs": [],
   "source": []
  }
 ],
 "metadata": {
  "kernelspec": {
   "display_name": "R",
   "language": "R",
   "name": "ir"
  },
  "language_info": {
   "codemirror_mode": "r",
   "file_extension": ".r",
   "mimetype": "text/x-r-source",
   "name": "R",
   "pygments_lexer": "r",
   "version": "4.4.1"
  }
 },
 "nbformat": 4,
 "nbformat_minor": 5
}
