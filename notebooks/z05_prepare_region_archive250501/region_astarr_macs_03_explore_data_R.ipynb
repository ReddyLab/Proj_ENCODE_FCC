{
 "cells": [
  {
   "cell_type": "raw",
   "id": "a65fc069-6131-4b16-8481-2ea39c1b2ec8",
   "metadata": {},
   "source": [
    "---\n",
    "title: Prepare ASTARR Input MACS Peaks 02\n",
    "subtitle: Explore the data\n",
    "format:\n",
    "    html:\n",
    "        code-fold:  true\n",
    "        code-tools: true\n",
    "---"
   ]
  },
  {
   "cell_type": "markdown",
   "id": "547f47b1-c104-4032-bc8f-40466dad9566",
   "metadata": {},
   "source": [
    "**Set environment**"
   ]
  },
  {
   "cell_type": "code",
   "execution_count": 1,
   "id": "8cb2bb98-bcb2-4711-9575-ae04ad6c31a0",
   "metadata": {
    "tags": []
   },
   "outputs": [
    {
     "name": "stdout",
     "output_type": "stream",
     "text": [
      "You are working on        Singularity \n",
      "BASE DIRECTORY (FD_BASE): /mount \n",
      "REPO DIRECTORY (FD_REPO): /mount/repo \n",
      "WORK DIRECTORY (FD_WORK): /mount/work \n",
      "DATA DIRECTORY (FD_DATA): /mount/data \n",
      "\n",
      "You are working with      ENCODE FCC \n",
      "PATH OF PROJECT (FD_PRJ): /mount/repo/Proj_ENCODE_FCC \n",
      "PROJECT RESULTS (FD_RES): /mount/repo/Proj_ENCODE_FCC/results \n",
      "PROJECT SCRIPTS (FD_EXE): /mount/repo/Proj_ENCODE_FCC/scripts \n",
      "PROJECT DATA    (FD_DAT): /mount/repo/Proj_ENCODE_FCC/data \n",
      "PROJECT NOTE    (FD_NBK): /mount/repo/Proj_ENCODE_FCC/notebooks \n",
      "PROJECT DOCS    (FD_DOC): /mount/repo/Proj_ENCODE_FCC/docs \n",
      "PROJECT LOG     (FD_LOG): /mount/repo/Proj_ENCODE_FCC/log \n",
      "PROJECT APP     (FD_APP): /mount/repo/Proj_ENCODE_FCC/app \n",
      "PROJECT REF     (FD_REF): /mount/repo/Proj_ENCODE_FCC/references \n",
      "\n"
     ]
    }
   ],
   "source": [
    "suppressMessages(suppressWarnings(source(\"../run_config_project_sing.R\")))\n",
    "show_env()"
   ]
  },
  {
   "cell_type": "markdown",
   "id": "aed6c40c-5ae7-4d85-89bc-d620911d9471",
   "metadata": {},
   "source": [
    "**Set global variables**"
   ]
  },
  {
   "cell_type": "code",
   "execution_count": 1,
   "id": "e3a67f80-9f69-4408-a409-fc5c0174e840",
   "metadata": {},
   "outputs": [],
   "source": [
    "TXT_FOLDER_REGION = \"fcc_astarr_macs\""
   ]
  },
  {
   "cell_type": "markdown",
   "id": "f19ec712-45a0-4145-b676-73ce6ecc30d1",
   "metadata": {
    "tags": []
   },
   "source": [
    "## Import data"
   ]
  },
  {
   "cell_type": "code",
   "execution_count": 3,
   "id": "406bc498-fa99-45c1-b223-60c3ac65d20f",
   "metadata": {},
   "outputs": [
    {
     "name": "stdout",
     "output_type": "stream",
     "text": [
      "ASTARRseq_K562_KS91.hg38.Input.rep_all.max_overlaps.q5.bed.gz \n",
      "ASTARRseq_K562_KS91.hg38.Input.rep_all.union.q5.bed.gz \n",
      "summary \n"
     ]
    }
   ],
   "source": [
    "txt_folder = TXT_FOLDER_REGION\n",
    "txt_fdiry  = file.path(FD_RES, \"region\", txt_folder)\n",
    "\n",
    "vec = dir(txt_fdiry)\n",
    "for (txt in vec){cat(txt, \"\\n\")}"
   ]
  },
  {
   "cell_type": "code",
   "execution_count": 4,
   "id": "75e8663b-835d-400d-9fe0-d188cc1d0b0e",
   "metadata": {},
   "outputs": [
    {
     "name": "stdout",
     "output_type": "stream",
     "text": [
      "description.tsv \n",
      "metadata.label.tsv \n"
     ]
    }
   ],
   "source": [
    "txt_folder = TXT_FOLDER_REGION\n",
    "txt_fdiry  = file.path(FD_RES, \"region\", txt_folder, \"summary\")\n",
    "\n",
    "vec = dir(txt_fdiry)\n",
    "for (txt in vec){cat(txt, \"\\n\")}"
   ]
  },
  {
   "cell_type": "code",
   "execution_count": 5,
   "id": "6e59e999-e41d-437b-b127-76d7fe76169c",
   "metadata": {},
   "outputs": [
    {
     "data": {
      "text/html": [
       "<table>\n",
       " <thead>\n",
       "  <tr>\n",
       "   <th style=\"text-align:left;\"> Name </th>\n",
       "   <th style=\"text-align:left;\"> Note </th>\n",
       "  </tr>\n",
       " </thead>\n",
       "<tbody>\n",
       "  <tr>\n",
       "   <td style=\"text-align:left;\"> Chrom </td>\n",
       "   <td style=\"text-align:left;\"> Name of the chromosome </td>\n",
       "  </tr>\n",
       "  <tr>\n",
       "   <td style=\"text-align:left;\"> ChromStart </td>\n",
       "   <td style=\"text-align:left;\"> The starting position of the feature in the chromosome </td>\n",
       "  </tr>\n",
       "  <tr>\n",
       "   <td style=\"text-align:left;\"> ChromEnd </td>\n",
       "   <td style=\"text-align:left;\"> The ending position of the feature in the chromosome </td>\n",
       "  </tr>\n",
       "</tbody>\n",
       "</table>"
      ]
     },
     "metadata": {},
     "output_type": "display_data"
    }
   ],
   "source": [
    "### set file path\n",
    "txt_folder = TXT_FOLDER_REGION\n",
    "txt_fdiry  = file.path(FD_RES, \"region\", txt_folder, \"summary\")\n",
    "txt_fname = \"description.tsv\"\n",
    "txt_fpath = file.path(txt_fdiry, txt_fname)\n",
    "\n",
    "### read table\n",
    "dat = read_tsv(txt_fpath, show_col_types = FALSE)\n",
    "\n",
    "### assign and show\n",
    "dat_cname     = dat\n",
    "vec_txt_cname = dat$Name\n",
    "fun_display_table(head(dat))"
   ]
  },
  {
   "cell_type": "code",
   "execution_count": 6,
   "id": "37025d0f-c624-404c-8dda-810b312ac11e",
   "metadata": {},
   "outputs": [
    {
     "data": {
      "text/html": [
       "<table>\n",
       " <thead>\n",
       "  <tr>\n",
       "   <th style=\"text-align:left;\"> Chrom </th>\n",
       "   <th style=\"text-align:right;\"> ChromStart </th>\n",
       "   <th style=\"text-align:right;\"> ChromEnd </th>\n",
       "  </tr>\n",
       " </thead>\n",
       "<tbody>\n",
       "  <tr>\n",
       "   <td style=\"text-align:left;\"> chr1 </td>\n",
       "   <td style=\"text-align:right;\"> 10015 </td>\n",
       "   <td style=\"text-align:right;\"> 10442 </td>\n",
       "  </tr>\n",
       "  <tr>\n",
       "   <td style=\"text-align:left;\"> chr1 </td>\n",
       "   <td style=\"text-align:right;\"> 14253 </td>\n",
       "   <td style=\"text-align:right;\"> 14645 </td>\n",
       "  </tr>\n",
       "  <tr>\n",
       "   <td style=\"text-align:left;\"> chr1 </td>\n",
       "   <td style=\"text-align:right;\"> 16015 </td>\n",
       "   <td style=\"text-align:right;\"> 16477 </td>\n",
       "  </tr>\n",
       "  <tr>\n",
       "   <td style=\"text-align:left;\"> chr1 </td>\n",
       "   <td style=\"text-align:right;\"> 17237 </td>\n",
       "   <td style=\"text-align:right;\"> 17772 </td>\n",
       "  </tr>\n",
       "  <tr>\n",
       "   <td style=\"text-align:left;\"> chr1 </td>\n",
       "   <td style=\"text-align:right;\"> 28903 </td>\n",
       "   <td style=\"text-align:right;\"> 29613 </td>\n",
       "  </tr>\n",
       "  <tr>\n",
       "   <td style=\"text-align:left;\"> chr1 </td>\n",
       "   <td style=\"text-align:right;\"> 30803 </td>\n",
       "   <td style=\"text-align:right;\"> 31072 </td>\n",
       "  </tr>\n",
       "</tbody>\n",
       "</table>"
      ]
     },
     "metadata": {},
     "output_type": "display_data"
    }
   ],
   "source": [
    "### set file path\n",
    "txt_folder = TXT_REGION_FOLDER\n",
    "txt_fdiry  = file.path(FD_RES, \"region\", txt_folder)\n",
    "txt_fname = \"ASTARRseq_K562_KS91.hg38.Input.rep_all.union.q5.bed.gz\"\n",
    "txt_fpath = file.path(txt_fdiry, txt_fname)\n",
    "\n",
    "### read table\n",
    "dat = read_tsv(txt_fpath, col_names = vec_txt_cname, show_col_types = FALSE)\n",
    "\n",
    "### assign and show\n",
    "dat_region_union = dat\n",
    "fun_display_table(head(dat))"
   ]
  },
  {
   "cell_type": "code",
   "execution_count": 7,
   "id": "e94d7046-aefe-42bc-8ea7-339843fe3c26",
   "metadata": {},
   "outputs": [
    {
     "data": {
      "text/html": [
       "<table>\n",
       " <thead>\n",
       "  <tr>\n",
       "   <th style=\"text-align:left;\"> Chrom </th>\n",
       "   <th style=\"text-align:right;\"> ChromStart </th>\n",
       "   <th style=\"text-align:right;\"> ChromEnd </th>\n",
       "  </tr>\n",
       " </thead>\n",
       "<tbody>\n",
       "  <tr>\n",
       "   <td style=\"text-align:left;\"> chr1 </td>\n",
       "   <td style=\"text-align:right;\"> 10038 </td>\n",
       "   <td style=\"text-align:right;\"> 10405 </td>\n",
       "  </tr>\n",
       "  <tr>\n",
       "   <td style=\"text-align:left;\"> chr1 </td>\n",
       "   <td style=\"text-align:right;\"> 14282 </td>\n",
       "   <td style=\"text-align:right;\"> 14614 </td>\n",
       "  </tr>\n",
       "  <tr>\n",
       "   <td style=\"text-align:left;\"> chr1 </td>\n",
       "   <td style=\"text-align:right;\"> 16025 </td>\n",
       "   <td style=\"text-align:right;\"> 16338 </td>\n",
       "  </tr>\n",
       "  <tr>\n",
       "   <td style=\"text-align:left;\"> chr1 </td>\n",
       "   <td style=\"text-align:right;\"> 17288 </td>\n",
       "   <td style=\"text-align:right;\"> 17689 </td>\n",
       "  </tr>\n",
       "  <tr>\n",
       "   <td style=\"text-align:left;\"> chr1 </td>\n",
       "   <td style=\"text-align:right;\"> 28934 </td>\n",
       "   <td style=\"text-align:right;\"> 29499 </td>\n",
       "  </tr>\n",
       "  <tr>\n",
       "   <td style=\"text-align:left;\"> chr1 </td>\n",
       "   <td style=\"text-align:right;\"> 115429 </td>\n",
       "   <td style=\"text-align:right;\"> 115969 </td>\n",
       "  </tr>\n",
       "</tbody>\n",
       "</table>"
      ]
     },
     "metadata": {},
     "output_type": "display_data"
    }
   ],
   "source": [
    "### set file path\n",
    "txt_folder = TXT_REGION_FOLDER\n",
    "txt_fdiry  = file.path(FD_RES, \"region\", txt_folder)\n",
    "txt_fname = \"ASTARRseq_K562_KS91.hg38.Input.rep_all.max_overlaps.q5.bed.gz\"\n",
    "txt_fpath = file.path(txt_fdiry, txt_fname)\n",
    "\n",
    "### read table\n",
    "dat = read_tsv(txt_fpath, col_names = vec_txt_cname, show_col_types = FALSE)\n",
    "\n",
    "### assign and show\n",
    "dat_region_overlap = dat\n",
    "fun_display_table(head(dat))"
   ]
  },
  {
   "cell_type": "markdown",
   "id": "f380eac8-19f4-4ee4-98cb-0ea9875b3a6f",
   "metadata": {},
   "source": [
    "## Explore data"
   ]
  },
  {
   "cell_type": "code",
   "execution_count": 8,
   "id": "2cc49f0d-f38c-487a-9273-a565490f3835",
   "metadata": {},
   "outputs": [
    {
     "name": "stdout",
     "output_type": "stream",
     "text": [
      "#{Region} = 247520 \n"
     ]
    },
    {
     "data": {
      "text/plain": [
       "    Chrom             ChromStart           ChromEnd             Length      \n",
       " Length:247520      Min.   :       50   Min.   :      571   Min.   : 218.0  \n",
       " Class :character   1st Qu.: 32198891   1st Qu.: 32199271   1st Qu.: 435.0  \n",
       " Mode  :character   Median : 67062316   Median : 67063053   Median : 665.0  \n",
       "                    Mean   : 79359206   Mean   : 79360006   Mean   : 800.2  \n",
       "                    3rd Qu.:121127617   3rd Qu.:121128246   3rd Qu.:1031.0  \n",
       "                    Max.   :248945796   Max.   :248946241   Max.   :7183.0  "
      ]
     },
     "metadata": {},
     "output_type": "display_data"
    }
   ],
   "source": [
    "dat = dat_region_union\n",
    "dat = dat %>% dplyr::mutate(Length = ChromEnd - ChromStart)\n",
    "\n",
    "cat(\"#{Region} =\", nrow(dat), \"\\n\")\n",
    "summary(dat)"
   ]
  },
  {
   "cell_type": "code",
   "execution_count": 9,
   "id": "df47d15d-cfce-4033-9598-f9650cfd2ee5",
   "metadata": {},
   "outputs": [
    {
     "name": "stdout",
     "output_type": "stream",
     "text": [
      "#{Region} = 150529 \n"
     ]
    },
    {
     "data": {
      "text/plain": [
       "    Chrom             ChromStart           ChromEnd             Length      \n",
       " Length:150529      Min.   :       55   Min.   :      559   Min.   :   1.0  \n",
       " Class :character   1st Qu.: 31730480   1st Qu.: 31730936   1st Qu.: 401.0  \n",
       " Mode  :character   Median : 65764510   Median : 65765030   Median : 597.0  \n",
       "                    Mean   : 78390820   Mean   : 78391533   Mean   : 712.9  \n",
       "                    3rd Qu.:119925081   3rd Qu.:119925548   3rd Qu.: 909.0  \n",
       "                    Max.   :248945944   Max.   :248946229   Max.   :7154.0  "
      ]
     },
     "metadata": {},
     "output_type": "display_data"
    }
   ],
   "source": [
    "dat = dat_region_overlap\n",
    "dat = dat %>% dplyr::mutate(Length = ChromEnd - ChromStart)\n",
    "\n",
    "cat(\"#{Region} =\", nrow(dat), \"\\n\")\n",
    "summary(dat)"
   ]
  },
  {
   "cell_type": "code",
   "execution_count": 10,
   "id": "1763bb34-8863-44e4-8f48-1e900e6829e5",
   "metadata": {},
   "outputs": [
    {
     "data": {
      "image/png": "[encoded data removed]",
      "text/plain": [
       "plot without title"
      ]
     },
     "metadata": {
      "image/png": {
       "height": 240,
       "width": 420
      }
     },
     "output_type": "display_data"
    }
   ],
   "source": [
    "lst = list(\n",
    "    \"Union\"   = dat_region_union,\n",
    "    \"Overlap\" = dat_region_overlap\n",
    ")\n",
    "\n",
    "dat  = bind_rows(lst, .id = \"Label\")\n",
    "dat = dat %>% \n",
    "    dplyr::mutate(Length = ChromEnd - ChromStart) %>%\n",
    "    dplyr::filter(Length < 3000)\n",
    "\n",
    "gpt = ggplot(dat, aes(x = Length, fill = Label)) + \n",
    "    geom_histogram(bins = 100) + \n",
    "    theme_cowplot() + \n",
    "    background_grid()\n",
    "\n",
    "options(repr.plot.height=4, repr.plot.width=7)\n",
    "print(gpt)"
   ]
  },
  {
   "cell_type": "code",
   "execution_count": 11,
   "id": "6f34892e-bcff-41eb-b7cb-afcaea1281a1",
   "metadata": {},
   "outputs": [
    {
     "data": {
      "image/png": "[encoded data removed]",
      "text/plain": [
       "plot without title"
      ]
     },
     "metadata": {
      "image/png": {
       "height": 240,
       "width": 420
      }
     },
     "output_type": "display_data"
    }
   ],
   "source": [
    "lst = list(\n",
    "    \"Union\"   = dat_region_union,\n",
    "    \"Overlap\" = dat_region_overlap\n",
    ")\n",
    "\n",
    "dat  = bind_rows(lst, .id = \"Label\")\n",
    "dat = dat %>% \n",
    "    dplyr::mutate(Length = ChromEnd - ChromStart) %>%\n",
    "    dplyr::filter(Length < 3000)\n",
    "\n",
    "gpt = ggplot(dat, aes(x = Length, color = Label)) + \n",
    "    geom_density() +\n",
    "    theme_cowplot() + \n",
    "    background_grid()\n",
    "\n",
    "options(repr.plot.height=4, repr.plot.width=7)\n",
    "print(gpt)"
   ]
  },
  {
   "cell_type": "code",
   "execution_count": null,
   "id": "d3411679-6615-491f-b60c-2f48a1e38542",
   "metadata": {},
   "outputs": [],
   "source": []
  }
 ],
 "metadata": {
  "kernelspec": {
   "display_name": "R",
   "language": "R",
   "name": "ir"
  },
  "language_info": {
   "codemirror_mode": "r",
   "file_extension": ".r",
   "mimetype": "text/x-r-source",
   "name": "R",
   "pygments_lexer": "r",
   "version": "4.4.1"
  }
 },
 "nbformat": 4,
 "nbformat_minor": 5
}
