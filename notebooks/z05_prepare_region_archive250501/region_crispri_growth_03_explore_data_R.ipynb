{
 "cells": [
  {
   "cell_type": "raw",
   "id": "5ccbbe56-f63d-4fab-a32c-80b5a2f5b3d2",
   "metadata": {},
   "source": [
    "---\n",
    "title: Prepare CRISPRi Growth data 03\n",
    "subtitle: Explore data\n",
    "format:\n",
    "    html:\n",
    "        code-fold:  true\n",
    "        code-tools: true\n",
    "---"
   ]
  },
  {
   "cell_type": "markdown",
   "id": "43575a76-eff6-4c77-a206-ce0b0423c860",
   "metadata": {},
   "source": [
    "**Set environment**"
   ]
  },
  {
   "cell_type": "code",
   "execution_count": 1,
   "id": "37719c07-559e-4b99-8356-1284f05def1a",
   "metadata": {
    "tags": []
   },
   "outputs": [
    {
     "name": "stdout",
     "output_type": "stream",
     "text": [
      "You are working on        Singularity \n",
      "BASE DIRECTORY (FD_BASE): /mount \n",
      "REPO DIRECTORY (FD_REPO): /mount/repo \n",
      "WORK DIRECTORY (FD_WORK): /mount/work \n",
      "DATA DIRECTORY (FD_DATA): /mount/data \n",
      "\n",
      "You are working with      ENCODE FCC \n",
      "PATH OF PROJECT (FD_PRJ): /mount/repo/Proj_ENCODE_FCC \n",
      "PROJECT RESULTS (FD_RES): /mount/repo/Proj_ENCODE_FCC/results \n",
      "PROJECT SCRIPTS (FD_EXE): /mount/repo/Proj_ENCODE_FCC/scripts \n",
      "PROJECT DATA    (FD_DAT): /mount/repo/Proj_ENCODE_FCC/data \n",
      "PROJECT NOTE    (FD_NBK): /mount/repo/Proj_ENCODE_FCC/notebooks \n",
      "PROJECT DOCS    (FD_DOC): /mount/repo/Proj_ENCODE_FCC/docs \n",
      "PROJECT LOG     (FD_LOG): /mount/repo/Proj_ENCODE_FCC/log \n",
      "PROJECT APP     (FD_APP): /mount/repo/Proj_ENCODE_FCC/app \n",
      "PROJECT REF     (FD_REF): /mount/repo/Proj_ENCODE_FCC/references \n",
      "\n"
     ]
    }
   ],
   "source": [
    "suppressMessages(suppressWarnings(source(\"../run_config_project_sing.R\")))\n",
    "show_env()"
   ]
  },
  {
   "cell_type": "markdown",
   "id": "1f2cd441-6671-4e2c-a819-87edffb73943",
   "metadata": {},
   "source": [
    "**Set global variables**"
   ]
  },
  {
   "cell_type": "code",
   "execution_count": 2,
   "id": "20f6209b-45a8-4124-8028-a49a5ddc3c5e",
   "metadata": {},
   "outputs": [],
   "source": [
    "TXT_FOLDER_REGION = \"fcc_crispri_growth\""
   ]
  },
  {
   "cell_type": "code",
   "execution_count": 3,
   "id": "242eeef3-432a-447c-9797-18ebd80d2f4a",
   "metadata": {},
   "outputs": [
    {
     "name": "stdout",
     "output_type": "stream",
     "text": [
      "K562.hg38.CRISPRi_Growth.signif.bed.gz \n",
      "K562.hg38.CRISPRi_Growth.total.bed.gz \n",
      "summary \n"
     ]
    }
   ],
   "source": [
    "txt_folder = TXT_FOLDER_REGION\n",
    "txt_fdiry  = file.path(FD_RES, \"region\", txt_folder)\n",
    "vec = dir(txt_fdiry)\n",
    "for (txt in vec){cat(txt, \"\\n\")}"
   ]
  },
  {
   "cell_type": "code",
   "execution_count": 4,
   "id": "aaded5ae-9857-40f9-80e0-6e4627bf3e5d",
   "metadata": {},
   "outputs": [
    {
     "name": "stdout",
     "output_type": "stream",
     "text": [
      "description.tsv \n",
      "metadata.label.tsv \n"
     ]
    }
   ],
   "source": [
    "txt_folder = TXT_FOLDER_REGION\n",
    "txt_fdiry  = file.path(FD_RES, \"region\", txt_folder, \"summary\")\n",
    "vec = dir(txt_fdiry)\n",
    "for (txt in vec){cat(txt, \"\\n\")}"
   ]
  },
  {
   "cell_type": "markdown",
   "id": "f581161b-e428-4992-8e00-1042a6652c11",
   "metadata": {},
   "source": [
    "## Import data"
   ]
  },
  {
   "cell_type": "code",
   "execution_count": 5,
   "id": "7137806f-65af-4399-8511-6024bb04c73b",
   "metadata": {},
   "outputs": [
    {
     "data": {
      "text/html": [
       "<table>\n",
       " <thead>\n",
       "  <tr>\n",
       "   <th style=\"text-align:left;\"> Name </th>\n",
       "   <th style=\"text-align:left;\"> Note </th>\n",
       "  </tr>\n",
       " </thead>\n",
       "<tbody>\n",
       "  <tr>\n",
       "   <td style=\"text-align:left;\"> Chrom </td>\n",
       "   <td style=\"text-align:left;\"> Name of the chromosome </td>\n",
       "  </tr>\n",
       "  <tr>\n",
       "   <td style=\"text-align:left;\"> ChromStart </td>\n",
       "   <td style=\"text-align:left;\"> The starting position of the feature in the chromosome </td>\n",
       "  </tr>\n",
       "  <tr>\n",
       "   <td style=\"text-align:left;\"> ChromEnd </td>\n",
       "   <td style=\"text-align:left;\"> The ending position of the feature in the chromosome </td>\n",
       "  </tr>\n",
       "  <tr>\n",
       "   <td style=\"text-align:left;\"> Region </td>\n",
       "   <td style=\"text-align:left;\"> Region location </td>\n",
       "  </tr>\n",
       "  <tr>\n",
       "   <td style=\"text-align:left;\"> Guide_ID </td>\n",
       "   <td style=\"text-align:left;\"> ID of significant guide within the DHS </td>\n",
       "  </tr>\n",
       "  <tr>\n",
       "   <td style=\"text-align:left;\"> Log2FC </td>\n",
       "   <td style=\"text-align:left;\"> log2foldchange of the guide </td>\n",
       "  </tr>\n",
       "  <tr>\n",
       "   <td style=\"text-align:left;\"> Padj </td>\n",
       "   <td style=\"text-align:left;\"> Adjusted p value of the guide </td>\n",
       "  </tr>\n",
       "  <tr>\n",
       "   <td style=\"text-align:left;\"> Group </td>\n",
       "   <td style=\"text-align:left;\"> Assay Name </td>\n",
       "  </tr>\n",
       "  <tr>\n",
       "   <td style=\"text-align:left;\"> Label </td>\n",
       "   <td style=\"text-align:left;\"> Assay Name </td>\n",
       "  </tr>\n",
       "</tbody>\n",
       "</table>"
      ]
     },
     "metadata": {},
     "output_type": "display_data"
    }
   ],
   "source": [
    "### set directory\n",
    "txt_folder = TXT_FOLDER_REGION\n",
    "txt_fdiry  = file.path(FD_RES, \"region\", txt_folder, \"summary\")\n",
    "txt_fname  = \"description.tsv\"\n",
    "txt_fpath  = file.path(txt_fdiry, txt_fname)\n",
    "\n",
    "### read table\n",
    "dat = read_tsv(txt_fpath, show_col_types = FALSE)\n",
    "vec = dat$Name\n",
    "\n",
    "### assign and show\n",
    "vec_txt_cname = vec\n",
    "fun_display_table(dat)"
   ]
  },
  {
   "cell_type": "code",
   "execution_count": 8,
   "id": "0624287c-8ab5-43b7-9b20-eeedfb41769f",
   "metadata": {},
   "outputs": [
    {
     "name": "stdout",
     "output_type": "stream",
     "text": [
      "[1] 6242    9\n"
     ]
    },
    {
     "data": {
      "text/html": [
       "<table>\n",
       " <thead>\n",
       "  <tr>\n",
       "   <th style=\"text-align:left;\"> Chrom </th>\n",
       "   <th style=\"text-align:right;\"> ChromStart </th>\n",
       "   <th style=\"text-align:right;\"> ChromEnd </th>\n",
       "   <th style=\"text-align:left;\"> Region </th>\n",
       "   <th style=\"text-align:left;\"> Guide_ID </th>\n",
       "   <th style=\"text-align:right;\"> Log2FC </th>\n",
       "   <th style=\"text-align:right;\"> Padj </th>\n",
       "   <th style=\"text-align:left;\"> Group </th>\n",
       "   <th style=\"text-align:left;\"> Label </th>\n",
       "  </tr>\n",
       " </thead>\n",
       "<tbody>\n",
       "  <tr>\n",
       "   <td style=\"text-align:left;\"> chr1 </td>\n",
       "   <td style=\"text-align:right;\"> 605550 </td>\n",
       "   <td style=\"text-align:right;\"> 605627 </td>\n",
       "   <td style=\"text-align:left;\"> chr1:605550-605627 </td>\n",
       "   <td style=\"text-align:left;\"> chr1.1.1 </td>\n",
       "   <td style=\"text-align:right;\"> -0.9859338 </td>\n",
       "   <td style=\"text-align:right;\"> 0.0000000 </td>\n",
       "   <td style=\"text-align:left;\"> CRISPRi-Growth </td>\n",
       "   <td style=\"text-align:left;\"> Signif </td>\n",
       "  </tr>\n",
       "  <tr>\n",
       "   <td style=\"text-align:left;\"> chr1 </td>\n",
       "   <td style=\"text-align:right;\"> 826642 </td>\n",
       "   <td style=\"text-align:right;\"> 827902 </td>\n",
       "   <td style=\"text-align:left;\"> chr1:826642-827902 </td>\n",
       "   <td style=\"text-align:left;\"> chr1.4.8 </td>\n",
       "   <td style=\"text-align:right;\"> 0.1855074 </td>\n",
       "   <td style=\"text-align:right;\"> 0.0325051 </td>\n",
       "   <td style=\"text-align:left;\"> CRISPRi-Growth </td>\n",
       "   <td style=\"text-align:left;\"> Signif </td>\n",
       "  </tr>\n",
       "  <tr>\n",
       "   <td style=\"text-align:left;\"> chr1 </td>\n",
       "   <td style=\"text-align:right;\"> 964946 </td>\n",
       "   <td style=\"text-align:right;\"> 965136 </td>\n",
       "   <td style=\"text-align:left;\"> chr1:964946-965136 </td>\n",
       "   <td style=\"text-align:left;\"> chr1.41.7 </td>\n",
       "   <td style=\"text-align:right;\"> -1.1466792 </td>\n",
       "   <td style=\"text-align:right;\"> 0.0000000 </td>\n",
       "   <td style=\"text-align:left;\"> CRISPRi-Growth </td>\n",
       "   <td style=\"text-align:left;\"> Signif </td>\n",
       "  </tr>\n",
       "</tbody>\n",
       "</table>"
      ]
     },
     "metadata": {},
     "output_type": "display_data"
    }
   ],
   "source": [
    "### set directory\n",
    "txt_folder = TXT_FOLDER_REGION\n",
    "txt_fdiry  = file.path(FD_RES, \"region\", txt_folder)\n",
    "txt_fname  = \"K562.hg38.CRISPRi_Growth.signif.bed.gz\"\n",
    "txt_fpath  = file.path(txt_fdiry, txt_fname)\n",
    "\n",
    "### read table\n",
    "dat = read_tsv(txt_fpath, col_names = vec_txt_cname, show_col_types = FALSE)\n",
    "\n",
    "### assign and show\n",
    "dat_region_cgrowth_signif = dat\n",
    "print(dim(dat))\n",
    "fun_display_table(head(dat, 3))"
   ]
  },
  {
   "cell_type": "code",
   "execution_count": 9,
   "id": "46d93e33-855c-4982-b419-aeb8eb053452",
   "metadata": {},
   "outputs": [
    {
     "name": "stdout",
     "output_type": "stream",
     "text": [
      "[1] 1092166       9\n"
     ]
    },
    {
     "data": {
      "text/html": [
       "<table>\n",
       " <thead>\n",
       "  <tr>\n",
       "   <th style=\"text-align:left;\"> Chrom </th>\n",
       "   <th style=\"text-align:right;\"> ChromStart </th>\n",
       "   <th style=\"text-align:right;\"> ChromEnd </th>\n",
       "   <th style=\"text-align:left;\"> Region </th>\n",
       "   <th style=\"text-align:left;\"> Guide_ID </th>\n",
       "   <th style=\"text-align:right;\"> Log2FC </th>\n",
       "   <th style=\"text-align:right;\"> Padj </th>\n",
       "   <th style=\"text-align:left;\"> Group </th>\n",
       "   <th style=\"text-align:left;\"> Label </th>\n",
       "  </tr>\n",
       " </thead>\n",
       "<tbody>\n",
       "  <tr>\n",
       "   <td style=\"text-align:left;\"> chr1 </td>\n",
       "   <td style=\"text-align:right;\"> 605550 </td>\n",
       "   <td style=\"text-align:right;\"> 605627 </td>\n",
       "   <td style=\"text-align:left;\"> chr1:605550-605627 </td>\n",
       "   <td style=\"text-align:left;\"> chr1.1.1 </td>\n",
       "   <td style=\"text-align:right;\"> -0.9859338 </td>\n",
       "   <td style=\"text-align:right;\"> 0.0000000 </td>\n",
       "   <td style=\"text-align:left;\"> CRISPRi-Growth </td>\n",
       "   <td style=\"text-align:left;\"> Total </td>\n",
       "  </tr>\n",
       "  <tr>\n",
       "   <td style=\"text-align:left;\"> chr1 </td>\n",
       "   <td style=\"text-align:right;\"> 605550 </td>\n",
       "   <td style=\"text-align:right;\"> 605627 </td>\n",
       "   <td style=\"text-align:left;\"> chr1:605550-605627 </td>\n",
       "   <td style=\"text-align:left;\"> chr1.1.2 </td>\n",
       "   <td style=\"text-align:right;\"> 0.0175568 </td>\n",
       "   <td style=\"text-align:right;\"> 0.8618381 </td>\n",
       "   <td style=\"text-align:left;\"> CRISPRi-Growth </td>\n",
       "   <td style=\"text-align:left;\"> Total </td>\n",
       "  </tr>\n",
       "  <tr>\n",
       "   <td style=\"text-align:left;\"> chr1 </td>\n",
       "   <td style=\"text-align:right;\"> 605550 </td>\n",
       "   <td style=\"text-align:right;\"> 605627 </td>\n",
       "   <td style=\"text-align:left;\"> chr1:605550-605627 </td>\n",
       "   <td style=\"text-align:left;\"> chr1.1.3 </td>\n",
       "   <td style=\"text-align:right;\"> 0.0142221 </td>\n",
       "   <td style=\"text-align:right;\"> 0.9074943 </td>\n",
       "   <td style=\"text-align:left;\"> CRISPRi-Growth </td>\n",
       "   <td style=\"text-align:left;\"> Total </td>\n",
       "  </tr>\n",
       "</tbody>\n",
       "</table>"
      ]
     },
     "metadata": {},
     "output_type": "display_data"
    }
   ],
   "source": [
    "### set directory\n",
    "txt_folder = TXT_FOLDER_REGION\n",
    "txt_fdiry  = file.path(FD_RES, \"region\", txt_folder)\n",
    "txt_fname  = \"K562.hg38.CRISPRi_Growth.total.bed.gz\"\n",
    "txt_fpath  = file.path(txt_fdiry, txt_fname)\n",
    "\n",
    "### read table\n",
    "dat = read_tsv(txt_fpath, col_names = vec_txt_cname, show_col_types = FALSE)\n",
    "\n",
    "### assign and show\n",
    "dat_region_cgrowth_total = dat\n",
    "print(dim(dat))\n",
    "fun_display_table(head(dat, 3))"
   ]
  },
  {
   "cell_type": "markdown",
   "id": "4e156f01-7301-42d7-b6ec-78b387295ff1",
   "metadata": {},
   "source": [
    "## Explore: Coverage"
   ]
  },
  {
   "cell_type": "code",
   "execution_count": 11,
   "id": "1c9849bd-b657-47b1-b976-34a9ef9d1777",
   "metadata": {},
   "outputs": [
    {
     "data": {
      "text/plain": [
       "\n",
       "     1      2      3      4      5      6      7      8      9     10 \n",
       "   354    366    496    563    695    748    862    891   1055 105672 "
      ]
     },
     "metadata": {},
     "output_type": "display_data"
    }
   ],
   "source": [
    "dat = dat_region_cgrowth_total\n",
    "dat = dat %>%\n",
    "    dplyr::select(Region, Guide_ID) %>%\n",
    "    dplyr::distinct()\n",
    "\n",
    "dat = dat %>%\n",
    "    dplyr::group_by(Region) %>%\n",
    "    dplyr::summarise(Count = n())\n",
    "\n",
    "table(dat$Count)"
   ]
  },
  {
   "cell_type": "markdown",
   "id": "7c898b18-26a9-41d9-9f89-976c9a102b51",
   "metadata": {},
   "source": [
    "## Explore: Log2 Fold Change"
   ]
  },
  {
   "cell_type": "code",
   "execution_count": 19,
   "id": "134b47a5-0298-4897-9643-5a3c4a903512",
   "metadata": {},
   "outputs": [
    {
     "name": "stderr",
     "output_type": "stream",
     "text": [
      "Warning message:\n",
      "“\u001b[1m\u001b[22mRemoved 4698 rows containing non-finite outside the scale range\n",
      "(`stat_bin()`).”\n",
      "Warning message:\n",
      "“\u001b[1m\u001b[22mRemoved 2 rows containing missing values or values outside the scale\n",
      "range (`geom_bar()`).”\n"
     ]
    },
    {
     "data": {
      "image/png": "[encoded data removed]",
      "text/plain": [
       "plot without title"
      ]
     },
     "metadata": {
      "image/png": {
       "height": 420,
       "width": 420
      }
     },
     "output_type": "display_data"
    }
   ],
   "source": [
    "dat = dat_region_cgrowth_total\n",
    "gpt = ggplot(dat, aes(x=Log2FC)) + \n",
    "    geom_histogram(binwidth=0.01) +\n",
    "    xlim(-0.5, 0.5) +\n",
    "    theme_cowplot() + \n",
    "    background_grid()\n",
    "print(gpt)"
   ]
  },
  {
   "cell_type": "markdown",
   "id": "e4f02cda-16b6-4971-be53-482768ddec58",
   "metadata": {},
   "source": [
    "## Explore: signif"
   ]
  },
  {
   "cell_type": "code",
   "execution_count": 27,
   "id": "1ca3c053-811e-4593-bce4-4cd3f4f22fb7",
   "metadata": {},
   "outputs": [
    {
     "name": "stdout",
     "output_type": "stream",
     "text": [
      "[1] 6242    9\n"
     ]
    },
    {
     "data": {
      "text/html": [
       "<table>\n",
       " <thead>\n",
       "  <tr>\n",
       "   <th style=\"text-align:left;\"> Chrom </th>\n",
       "   <th style=\"text-align:right;\"> ChromStart </th>\n",
       "   <th style=\"text-align:right;\"> ChromEnd </th>\n",
       "   <th style=\"text-align:left;\"> Region </th>\n",
       "   <th style=\"text-align:left;\"> Guide_ID </th>\n",
       "   <th style=\"text-align:right;\"> Log2FC </th>\n",
       "   <th style=\"text-align:right;\"> Padj </th>\n",
       "   <th style=\"text-align:left;\"> Group </th>\n",
       "   <th style=\"text-align:left;\"> Label </th>\n",
       "  </tr>\n",
       " </thead>\n",
       "<tbody>\n",
       "  <tr>\n",
       "   <td style=\"text-align:left;\"> chr1 </td>\n",
       "   <td style=\"text-align:right;\"> 605550 </td>\n",
       "   <td style=\"text-align:right;\"> 605627 </td>\n",
       "   <td style=\"text-align:left;\"> chr1:605550-605627 </td>\n",
       "   <td style=\"text-align:left;\"> chr1.1.1 </td>\n",
       "   <td style=\"text-align:right;\"> -0.9859338 </td>\n",
       "   <td style=\"text-align:right;\"> 0.0000000 </td>\n",
       "   <td style=\"text-align:left;\"> CRISPRi-Growth </td>\n",
       "   <td style=\"text-align:left;\"> Total </td>\n",
       "  </tr>\n",
       "  <tr>\n",
       "   <td style=\"text-align:left;\"> chr1 </td>\n",
       "   <td style=\"text-align:right;\"> 826642 </td>\n",
       "   <td style=\"text-align:right;\"> 827902 </td>\n",
       "   <td style=\"text-align:left;\"> chr1:826642-827902 </td>\n",
       "   <td style=\"text-align:left;\"> chr1.4.8 </td>\n",
       "   <td style=\"text-align:right;\"> 0.1855074 </td>\n",
       "   <td style=\"text-align:right;\"> 0.0325051 </td>\n",
       "   <td style=\"text-align:left;\"> CRISPRi-Growth </td>\n",
       "   <td style=\"text-align:left;\"> Total </td>\n",
       "  </tr>\n",
       "  <tr>\n",
       "   <td style=\"text-align:left;\"> chr1 </td>\n",
       "   <td style=\"text-align:right;\"> 964946 </td>\n",
       "   <td style=\"text-align:right;\"> 965136 </td>\n",
       "   <td style=\"text-align:left;\"> chr1:964946-965136 </td>\n",
       "   <td style=\"text-align:left;\"> chr1.41.7 </td>\n",
       "   <td style=\"text-align:right;\"> -1.1466792 </td>\n",
       "   <td style=\"text-align:right;\"> 0.0000000 </td>\n",
       "   <td style=\"text-align:left;\"> CRISPRi-Growth </td>\n",
       "   <td style=\"text-align:left;\"> Total </td>\n",
       "  </tr>\n",
       "  <tr>\n",
       "   <td style=\"text-align:left;\"> chr1 </td>\n",
       "   <td style=\"text-align:right;\"> 995761 </td>\n",
       "   <td style=\"text-align:right;\"> 996190 </td>\n",
       "   <td style=\"text-align:left;\"> chr1:995761-996190 </td>\n",
       "   <td style=\"text-align:left;\"> chr1.53.2 </td>\n",
       "   <td style=\"text-align:right;\"> 0.2141075 </td>\n",
       "   <td style=\"text-align:right;\"> 0.0187409 </td>\n",
       "   <td style=\"text-align:left;\"> CRISPRi-Growth </td>\n",
       "   <td style=\"text-align:left;\"> Total </td>\n",
       "  </tr>\n",
       "  <tr>\n",
       "   <td style=\"text-align:left;\"> chr1 </td>\n",
       "   <td style=\"text-align:right;\"> 1067929 </td>\n",
       "   <td style=\"text-align:right;\"> 1070953 </td>\n",
       "   <td style=\"text-align:left;\"> chr1:1067929-1070953 </td>\n",
       "   <td style=\"text-align:left;\"> chr1.74.8 </td>\n",
       "   <td style=\"text-align:right;\"> -0.3383702 </td>\n",
       "   <td style=\"text-align:right;\"> 0.0337196 </td>\n",
       "   <td style=\"text-align:left;\"> CRISPRi-Growth </td>\n",
       "   <td style=\"text-align:left;\"> Total </td>\n",
       "  </tr>\n",
       "  <tr>\n",
       "   <td style=\"text-align:left;\"> chr1 </td>\n",
       "   <td style=\"text-align:right;\"> 1155362 </td>\n",
       "   <td style=\"text-align:right;\"> 1155639 </td>\n",
       "   <td style=\"text-align:left;\"> chr1:1155362-1155639 </td>\n",
       "   <td style=\"text-align:left;\"> chr1.106.10 </td>\n",
       "   <td style=\"text-align:right;\"> -0.5858502 </td>\n",
       "   <td style=\"text-align:right;\"> 0.0003198 </td>\n",
       "   <td style=\"text-align:left;\"> CRISPRi-Growth </td>\n",
       "   <td style=\"text-align:left;\"> Total </td>\n",
       "  </tr>\n",
       "</tbody>\n",
       "</table>"
      ]
     },
     "metadata": {},
     "output_type": "display_data"
    }
   ],
   "source": [
    "dat = dat_region_cgrowth_total\n",
    "dat = dat %>% dplyr::filter(Padj < 0.05)\n",
    "\n",
    "dat = dat %>% \n",
    "    dplyr::group_by(Region) %>% \n",
    "    dplyr::slice(which.min(Padj))\n",
    "\n",
    "dat = dat %>% \n",
    "    dplyr::arrange(Chrom, ChromStart, ChromEnd)\n",
    "\n",
    "### assign and show\n",
    "dat_region_check = dat\n",
    "print(dim(dat))\n",
    "fun_display_table(head(dat))"
   ]
  },
  {
   "cell_type": "code",
   "execution_count": 28,
   "id": "75394c31-6093-4bce-b40e-8b04b3b0c95c",
   "metadata": {},
   "outputs": [
    {
     "name": "stdout",
     "output_type": "stream",
     "text": [
      "[1] 6242    9\n"
     ]
    },
    {
     "data": {
      "text/html": [
       "<table>\n",
       " <thead>\n",
       "  <tr>\n",
       "   <th style=\"text-align:left;\"> Chrom </th>\n",
       "   <th style=\"text-align:right;\"> ChromStart </th>\n",
       "   <th style=\"text-align:right;\"> ChromEnd </th>\n",
       "   <th style=\"text-align:left;\"> Region </th>\n",
       "   <th style=\"text-align:left;\"> Guide_ID </th>\n",
       "   <th style=\"text-align:right;\"> Log2FC </th>\n",
       "   <th style=\"text-align:right;\"> Padj </th>\n",
       "   <th style=\"text-align:left;\"> Group </th>\n",
       "   <th style=\"text-align:left;\"> Label </th>\n",
       "  </tr>\n",
       " </thead>\n",
       "<tbody>\n",
       "  <tr>\n",
       "   <td style=\"text-align:left;\"> chr1 </td>\n",
       "   <td style=\"text-align:right;\"> 605550 </td>\n",
       "   <td style=\"text-align:right;\"> 605627 </td>\n",
       "   <td style=\"text-align:left;\"> chr1:605550-605627 </td>\n",
       "   <td style=\"text-align:left;\"> chr1.1.1 </td>\n",
       "   <td style=\"text-align:right;\"> -0.9859338 </td>\n",
       "   <td style=\"text-align:right;\"> 0.0000000 </td>\n",
       "   <td style=\"text-align:left;\"> CRISPRi-Growth </td>\n",
       "   <td style=\"text-align:left;\"> Signif </td>\n",
       "  </tr>\n",
       "  <tr>\n",
       "   <td style=\"text-align:left;\"> chr1 </td>\n",
       "   <td style=\"text-align:right;\"> 826642 </td>\n",
       "   <td style=\"text-align:right;\"> 827902 </td>\n",
       "   <td style=\"text-align:left;\"> chr1:826642-827902 </td>\n",
       "   <td style=\"text-align:left;\"> chr1.4.8 </td>\n",
       "   <td style=\"text-align:right;\"> 0.1855074 </td>\n",
       "   <td style=\"text-align:right;\"> 0.0325051 </td>\n",
       "   <td style=\"text-align:left;\"> CRISPRi-Growth </td>\n",
       "   <td style=\"text-align:left;\"> Signif </td>\n",
       "  </tr>\n",
       "  <tr>\n",
       "   <td style=\"text-align:left;\"> chr1 </td>\n",
       "   <td style=\"text-align:right;\"> 964946 </td>\n",
       "   <td style=\"text-align:right;\"> 965136 </td>\n",
       "   <td style=\"text-align:left;\"> chr1:964946-965136 </td>\n",
       "   <td style=\"text-align:left;\"> chr1.41.7 </td>\n",
       "   <td style=\"text-align:right;\"> -1.1466792 </td>\n",
       "   <td style=\"text-align:right;\"> 0.0000000 </td>\n",
       "   <td style=\"text-align:left;\"> CRISPRi-Growth </td>\n",
       "   <td style=\"text-align:left;\"> Signif </td>\n",
       "  </tr>\n",
       "  <tr>\n",
       "   <td style=\"text-align:left;\"> chr1 </td>\n",
       "   <td style=\"text-align:right;\"> 995761 </td>\n",
       "   <td style=\"text-align:right;\"> 996190 </td>\n",
       "   <td style=\"text-align:left;\"> chr1:995761-996190 </td>\n",
       "   <td style=\"text-align:left;\"> chr1.53.2 </td>\n",
       "   <td style=\"text-align:right;\"> 0.2141075 </td>\n",
       "   <td style=\"text-align:right;\"> 0.0187409 </td>\n",
       "   <td style=\"text-align:left;\"> CRISPRi-Growth </td>\n",
       "   <td style=\"text-align:left;\"> Signif </td>\n",
       "  </tr>\n",
       "  <tr>\n",
       "   <td style=\"text-align:left;\"> chr1 </td>\n",
       "   <td style=\"text-align:right;\"> 1067929 </td>\n",
       "   <td style=\"text-align:right;\"> 1070953 </td>\n",
       "   <td style=\"text-align:left;\"> chr1:1067929-1070953 </td>\n",
       "   <td style=\"text-align:left;\"> chr1.74.8 </td>\n",
       "   <td style=\"text-align:right;\"> -0.3383702 </td>\n",
       "   <td style=\"text-align:right;\"> 0.0337196 </td>\n",
       "   <td style=\"text-align:left;\"> CRISPRi-Growth </td>\n",
       "   <td style=\"text-align:left;\"> Signif </td>\n",
       "  </tr>\n",
       "  <tr>\n",
       "   <td style=\"text-align:left;\"> chr1 </td>\n",
       "   <td style=\"text-align:right;\"> 1155362 </td>\n",
       "   <td style=\"text-align:right;\"> 1155639 </td>\n",
       "   <td style=\"text-align:left;\"> chr1:1155362-1155639 </td>\n",
       "   <td style=\"text-align:left;\"> chr1.106.10 </td>\n",
       "   <td style=\"text-align:right;\"> -0.5858502 </td>\n",
       "   <td style=\"text-align:right;\"> 0.0003198 </td>\n",
       "   <td style=\"text-align:left;\"> CRISPRi-Growth </td>\n",
       "   <td style=\"text-align:left;\"> Signif </td>\n",
       "  </tr>\n",
       "</tbody>\n",
       "</table>"
      ]
     },
     "metadata": {},
     "output_type": "display_data"
    }
   ],
   "source": [
    "dat = dat_region_cgrowth_signif\n",
    "print(dim(dat))\n",
    "fun_display_table(head(dat))"
   ]
  },
  {
   "cell_type": "code",
   "execution_count": 30,
   "id": "3dc5abfb-1c9a-48af-9bc6-f892eb1beb8d",
   "metadata": {},
   "outputs": [
    {
     "name": "stdout",
     "output_type": "stream",
     "text": [
      "[1] TRUE\n"
     ]
    }
   ],
   "source": [
    "dat  = dat_region_cgrowth_signif\n",
    "vec1 = dat$Region\n",
    "\n",
    "dat = dat_region_check\n",
    "vec2 = dat$Region\n",
    "\n",
    "print(all(vec1 == vec2))"
   ]
  },
  {
   "cell_type": "code",
   "execution_count": null,
   "id": "ea46e0a5-0e3d-48bb-b8ff-af5bfcda20f3",
   "metadata": {},
   "outputs": [],
   "source": []
  }
 ],
 "metadata": {
  "kernelspec": {
   "display_name": "R",
   "language": "R",
   "name": "ir"
  },
  "language_info": {
   "codemirror_mode": "r",
   "file_extension": ".r",
   "mimetype": "text/x-r-source",
   "name": "R",
   "pygments_lexer": "r",
   "version": "4.4.0"
  }
 },
 "nbformat": 4,
 "nbformat_minor": 5
}
