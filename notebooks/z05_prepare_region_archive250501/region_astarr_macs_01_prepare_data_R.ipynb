{
 "cells": [
  {
   "cell_type": "raw",
   "id": "9bdd3efb-7a39-4e46-9e63-571eb980f453",
   "metadata": {},
   "source": [
    "---\n",
    "title: Prepare ASTARR Input MACS Peaks 01\n",
    "subtitle: Prepare the data\n",
    "format:\n",
    "    html:\n",
    "        code-fold:  true\n",
    "        code-tools: true\n",
    "---"
   ]
  },
  {
   "cell_type": "markdown",
   "id": "fbd3ff78-b429-4305-8d32-cce203d51fee",
   "metadata": {},
   "source": [
    "**Set environment**"
   ]
  },
  {
   "cell_type": "code",
   "execution_count": 1,
   "id": "ccb7e124-f9f8-4437-a7e2-4c0f7c633912",
   "metadata": {},
   "outputs": [
    {
     "name": "stdout",
     "output_type": "stream",
     "text": [
      "You are working on        Singularity: singularity_proj_encode_fcc \n",
      "BASE DIRECTORY (FD_BASE): /data/reddylab/Kuei \n",
      "REPO DIRECTORY (FD_REPO): /data/reddylab/Kuei/repo \n",
      "WORK DIRECTORY (FD_WORK): /data/reddylab/Kuei/work \n",
      "DATA DIRECTORY (FD_DATA): /data/reddylab/Kuei/data \n",
      "\n",
      "You are working with      ENCODE FCC \n",
      "PATH OF PROJECT (FD_PRJ): /data/reddylab/Kuei/repo/Proj_ENCODE_FCC \n",
      "PROJECT RESULTS (FD_RES): /data/reddylab/Kuei/repo/Proj_ENCODE_FCC/results \n",
      "PROJECT SCRIPTS (FD_EXE): /data/reddylab/Kuei/repo/Proj_ENCODE_FCC/scripts \n",
      "PROJECT DATA    (FD_DAT): /data/reddylab/Kuei/repo/Proj_ENCODE_FCC/data \n",
      "PROJECT NOTE    (FD_NBK): /data/reddylab/Kuei/repo/Proj_ENCODE_FCC/notebooks \n",
      "PROJECT DOCS    (FD_DOC): /data/reddylab/Kuei/repo/Proj_ENCODE_FCC/docs \n",
      "PROJECT LOG     (FD_LOG): /data/reddylab/Kuei/repo/Proj_ENCODE_FCC/log \n",
      "PROJECT REF     (FD_REF): /data/reddylab/Kuei/repo/Proj_ENCODE_FCC/references \n",
      "\n"
     ]
    }
   ],
   "source": [
    "suppressMessages(suppressWarnings(source(\"../run_config_project_sing.R\")))\n",
    "show_env()"
   ]
  },
  {
   "cell_type": "code",
   "execution_count": 2,
   "id": "2a03933a-062d-4e9b-9fd4-6d3ce73840cd",
   "metadata": {},
   "outputs": [],
   "source": [
    "TXT_FOLDER_REGION = \"fcc_astarr_macs\""
   ]
  },
  {
   "cell_type": "markdown",
   "id": "606f1b59-b688-41d8-9e93-65d6cdbfdab1",
   "metadata": {},
   "source": [
    "## Import data"
   ]
  },
  {
   "cell_type": "markdown",
   "id": "2c5afff8-bd93-4d94-a63a-8ebf5c37f541",
   "metadata": {},
   "source": [
    "```\n",
    "FD_INP=${FD_DAT}/processed/STARR_ATAC_K562_Reddy_KS91_210401/peaks\n",
    "FN_INP=KS91_K562_hg38_ASTARRseq_Input.all_reps.masked.union_narrowPeak.q5.bed\n",
    "FP_INP=${FD_INP}/${FN_INP}\n",
    "\n",
    "cat ${FP_INP} | head\n",
    "```\n",
    "\n",
    "```\n",
    "FD_INP=${FD_DAT}/processed/STARR_ATAC_K562_Reddy_KS91_210401/peaks\n",
    "FN_INP=KS91_K562_hg38_ASTARRseq_Input.q5.in_all.max_overlaps.bed\n",
    "FP_INP=${FD_INP}/${FN_INP}\n",
    "\n",
    "cat ${FP_INP} | head\n",
    "```"
   ]
  },
  {
   "cell_type": "markdown",
   "id": "62bf3893-1335-4308-82be-bf995d4c2b82",
   "metadata": {},
   "source": [
    "**set the main chromosomes**"
   ]
  },
  {
   "cell_type": "code",
   "execution_count": 3,
   "id": "4c92cf33-f331-49fd-b9da-6175b1ec792b",
   "metadata": {},
   "outputs": [
    {
     "name": "stdout",
     "output_type": "stream",
     "text": [
      " [1] \"chr1\"  \"chr10\" \"chr11\" \"chr12\" \"chr13\" \"chr14\" \"chr15\" \"chr16\" \"chr17\"\n",
      "[10] \"chr18\" \"chr19\" \"chr2\"  \"chr20\" \"chr21\" \"chr22\" \"chr3\"  \"chr4\"  \"chr5\" \n",
      "[19] \"chr6\"  \"chr7\"  \"chr8\"  \"chr9\"  \"chrX\" \n"
     ]
    }
   ],
   "source": [
    "txt_fdiry = file.path(FD_DAT, \"external\")\n",
    "txt_fname = \"chrom.hg38.main.bed\"\n",
    "txt_fpath = file.path(txt_fdiry, txt_fname)\n",
    "\n",
    "vec = c(\"Chrom\", \"ChromStart\", \"ChromEnd\")\n",
    "dat = read_tsv(txt_fpath, col_names = vec, show_col_types = FALSE)\n",
    "vec = dat$Chrom\n",
    "\n",
    "### assign and show\n",
    "vec_txt_chrom = vec\n",
    "print(vec)"
   ]
  },
  {
   "cell_type": "markdown",
   "id": "b222bb5a-ae7e-4e92-96c4-eb3564db37c4",
   "metadata": {},
   "source": [
    "**Import ASTARR input MACS peaks**"
   ]
  },
  {
   "cell_type": "code",
   "execution_count": 4,
   "id": "967d801e-2354-4633-89d7-86aab43001ad",
   "metadata": {},
   "outputs": [
    {
     "name": "stdout",
     "output_type": "stream",
     "text": [
      "KS91_K562_hg38_ASTARRseq_Input_rep1.masked.dups_marked_peaks.narrowPeak \n",
      "KS91_K562_hg38_ASTARRseq_Input_rep2.masked.dups_marked_peaks.narrowPeak \n",
      "KS91_K562_hg38_ASTARRseq_Input_rep3.masked.dups_marked_peaks.narrowPeak \n",
      "KS91_K562_hg38_ASTARRseq_Input_rep4.masked.dups_marked_peaks.narrowPeak \n",
      "KS91_K562_hg38_ASTARRseq_Input_rep5.masked.dups_marked_peaks.narrowPeak \n",
      "KS91_K562_hg38_ASTARRseq_Input_rep6.masked.dups_marked_peaks.narrowPeak \n",
      "KS91_K562_hg38_ASTARRseq_Input.all_reps.masked.union_narrowPeak.q5.bed \n",
      "KS91_K562_hg38_ASTARRseq_Input.q5.in_all.max_overlaps.bed \n"
     ]
    }
   ],
   "source": [
    "txt_fdiry = file.path(FD_DAT, \"processed/STARR_ATAC_K562_Reddy_KS91_210401/peaks\")\n",
    "vec = dir(txt_fdiry)\n",
    "\n",
    "vec_txt_fname = vec\n",
    "for(txt in vec){cat(txt, \"\\n\")}"
   ]
  },
  {
   "cell_type": "code",
   "execution_count": 9,
   "id": "b10e79ed-3e56-4f15-9ded-7368fd074e3f",
   "metadata": {},
   "outputs": [
    {
     "name": "stdout",
     "output_type": "stream",
     "text": [
      "                                                                   union \n",
      "\"KS91_K562_hg38_ASTARRseq_Input.all_reps.masked.union_narrowPeak.q5.bed\" \n",
      "                                                            max_overlaps \n",
      "             \"KS91_K562_hg38_ASTARRseq_Input.q5.in_all.max_overlaps.bed\" \n"
     ]
    }
   ],
   "source": [
    "vec_txt_fname = c(\n",
    "    \"KS91_K562_hg38_ASTARRseq_Input.all_reps.masked.union_narrowPeak.q5.bed\",\n",
    "    \"KS91_K562_hg38_ASTARRseq_Input.q5.in_all.max_overlaps.bed\"\n",
    ")\n",
    "names(vec_txt_fname) = c(\"union\", \"max_overlaps\")\n",
    "print(vec_txt_fname)"
   ]
  },
  {
   "cell_type": "code",
   "execution_count": 10,
   "id": "f4c03318-5457-4aaf-89cf-33ccd4b59041",
   "metadata": {},
   "outputs": [],
   "source": [
    "lst = lapply(vec_txt_fname, function(txt_fname){\n",
    "    txt_fpath = file.path(txt_fdiry, txt_fname)\n",
    "    dat = read_tsv(txt_fpath, col_names = FALSE, show_col_types = FALSE)\n",
    "    return(dat)\n",
    "})\n",
    "lst_dat_import = lst"
   ]
  },
  {
   "cell_type": "code",
   "execution_count": 11,
   "id": "3a411d78-a131-4347-bdcf-a1538b537371",
   "metadata": {},
   "outputs": [
    {
     "data": {
      "text/html": [
       "<table class=\"dataframe\">\n",
       "<caption>A tibble: 6 × 3</caption>\n",
       "<thead>\n",
       "\t<tr><th scope=col>X1</th><th scope=col>X2</th><th scope=col>X3</th></tr>\n",
       "\t<tr><th scope=col>&lt;chr&gt;</th><th scope=col>&lt;dbl&gt;</th><th scope=col>&lt;dbl&gt;</th></tr>\n",
       "</thead>\n",
       "<tbody>\n",
       "\t<tr><td>chr1</td><td>10015</td><td>10442</td></tr>\n",
       "\t<tr><td>chr1</td><td>14253</td><td>14645</td></tr>\n",
       "\t<tr><td>chr1</td><td>16015</td><td>16477</td></tr>\n",
       "\t<tr><td>chr1</td><td>17237</td><td>17772</td></tr>\n",
       "\t<tr><td>chr1</td><td>28903</td><td>29613</td></tr>\n",
       "\t<tr><td>chr1</td><td>30803</td><td>31072</td></tr>\n",
       "</tbody>\n",
       "</table>\n"
      ],
      "text/latex": [
       "A tibble: 6 × 3\n",
       "\\begin{tabular}{lll}\n",
       " X1 & X2 & X3\\\\\n",
       " <chr> & <dbl> & <dbl>\\\\\n",
       "\\hline\n",
       "\t chr1 & 10015 & 10442\\\\\n",
       "\t chr1 & 14253 & 14645\\\\\n",
       "\t chr1 & 16015 & 16477\\\\\n",
       "\t chr1 & 17237 & 17772\\\\\n",
       "\t chr1 & 28903 & 29613\\\\\n",
       "\t chr1 & 30803 & 31072\\\\\n",
       "\\end{tabular}\n"
      ],
      "text/markdown": [
       "\n",
       "A tibble: 6 × 3\n",
       "\n",
       "| X1 &lt;chr&gt; | X2 &lt;dbl&gt; | X3 &lt;dbl&gt; |\n",
       "|---|---|---|\n",
       "| chr1 | 10015 | 10442 |\n",
       "| chr1 | 14253 | 14645 |\n",
       "| chr1 | 16015 | 16477 |\n",
       "| chr1 | 17237 | 17772 |\n",
       "| chr1 | 28903 | 29613 |\n",
       "| chr1 | 30803 | 31072 |\n",
       "\n"
      ],
      "text/plain": [
       "  X1   X2    X3   \n",
       "1 chr1 10015 10442\n",
       "2 chr1 14253 14645\n",
       "3 chr1 16015 16477\n",
       "4 chr1 17237 17772\n",
       "5 chr1 28903 29613\n",
       "6 chr1 30803 31072"
      ]
     },
     "metadata": {},
     "output_type": "display_data"
    }
   ],
   "source": [
    "lst = lst_dat_import\n",
    "head(lst[[1]])"
   ]
  },
  {
   "cell_type": "code",
   "execution_count": 12,
   "id": "00a71b49-b6db-47ce-8c24-5c7b49002336",
   "metadata": {},
   "outputs": [
    {
     "data": {
      "text/html": [
       "<table class=\"dataframe\">\n",
       "<caption>A tibble: 6 × 4</caption>\n",
       "<thead>\n",
       "\t<tr><th scope=col>X1</th><th scope=col>X2</th><th scope=col>X3</th><th scope=col>X4</th></tr>\n",
       "\t<tr><th scope=col>&lt;chr&gt;</th><th scope=col>&lt;dbl&gt;</th><th scope=col>&lt;dbl&gt;</th><th scope=col>&lt;dbl&gt;</th></tr>\n",
       "</thead>\n",
       "<tbody>\n",
       "\t<tr><td>chr1</td><td> 10038</td><td> 10405</td><td>6</td></tr>\n",
       "\t<tr><td>chr1</td><td> 14282</td><td> 14614</td><td>6</td></tr>\n",
       "\t<tr><td>chr1</td><td> 16025</td><td> 16338</td><td>6</td></tr>\n",
       "\t<tr><td>chr1</td><td> 17288</td><td> 17689</td><td>6</td></tr>\n",
       "\t<tr><td>chr1</td><td> 28934</td><td> 29499</td><td>6</td></tr>\n",
       "\t<tr><td>chr1</td><td>115429</td><td>115969</td><td>6</td></tr>\n",
       "</tbody>\n",
       "</table>\n"
      ],
      "text/latex": [
       "A tibble: 6 × 4\n",
       "\\begin{tabular}{llll}\n",
       " X1 & X2 & X3 & X4\\\\\n",
       " <chr> & <dbl> & <dbl> & <dbl>\\\\\n",
       "\\hline\n",
       "\t chr1 &  10038 &  10405 & 6\\\\\n",
       "\t chr1 &  14282 &  14614 & 6\\\\\n",
       "\t chr1 &  16025 &  16338 & 6\\\\\n",
       "\t chr1 &  17288 &  17689 & 6\\\\\n",
       "\t chr1 &  28934 &  29499 & 6\\\\\n",
       "\t chr1 & 115429 & 115969 & 6\\\\\n",
       "\\end{tabular}\n"
      ],
      "text/markdown": [
       "\n",
       "A tibble: 6 × 4\n",
       "\n",
       "| X1 &lt;chr&gt; | X2 &lt;dbl&gt; | X3 &lt;dbl&gt; | X4 &lt;dbl&gt; |\n",
       "|---|---|---|---|\n",
       "| chr1 |  10038 |  10405 | 6 |\n",
       "| chr1 |  14282 |  14614 | 6 |\n",
       "| chr1 |  16025 |  16338 | 6 |\n",
       "| chr1 |  17288 |  17689 | 6 |\n",
       "| chr1 |  28934 |  29499 | 6 |\n",
       "| chr1 | 115429 | 115969 | 6 |\n",
       "\n"
      ],
      "text/plain": [
       "  X1   X2     X3     X4\n",
       "1 chr1  10038  10405 6 \n",
       "2 chr1  14282  14614 6 \n",
       "3 chr1  16025  16338 6 \n",
       "4 chr1  17288  17689 6 \n",
       "5 chr1  28934  29499 6 \n",
       "6 chr1 115429 115969 6 "
      ]
     },
     "metadata": {},
     "output_type": "display_data"
    }
   ],
   "source": [
    "lst = lst_dat_import\n",
    "head(lst[[2]])"
   ]
  },
  {
   "cell_type": "code",
   "execution_count": 13,
   "id": "0901271c-a14e-46e4-814d-5243661bd653",
   "metadata": {},
   "outputs": [],
   "source": [
    "lst = lst_dat_import\n",
    "lst = lapply(lst, function(dat){\n",
    "    dat = dat %>% \n",
    "        dplyr::filter(X1 %in% vec_txt_chrom) %>%\n",
    "        dplyr::select(X1:X3) %>%\n",
    "        dplyr::mutate(X4 = fun_gen_region(X1, X2, X3)) %>%\n",
    "        dplyr::arrange(X1, X2, X3)\n",
    "    return(dat)\n",
    "})\n",
    "\n",
    "lst_dat_arrange = lst"
   ]
  },
  {
   "cell_type": "markdown",
   "id": "663c0c11-77fb-4d0a-af7b-b956ca7c97aa",
   "metadata": {
    "jp-MarkdownHeadingCollapsed": true
   },
   "source": [
    "**Check filtered results**"
   ]
  },
  {
   "cell_type": "code",
   "execution_count": 14,
   "id": "c6aa1d0f-388d-4628-85b9-ae7317a3eeaa",
   "metadata": {},
   "outputs": [
    {
     "data": {
      "text/html": [
       "<table class=\"dataframe\">\n",
       "<caption>A data.frame: 6 × 2</caption>\n",
       "<thead>\n",
       "\t<tr><th></th><th scope=col>Var1</th><th scope=col>Freq</th></tr>\n",
       "\t<tr><th></th><th scope=col>&lt;fct&gt;</th><th scope=col>&lt;int&gt;</th></tr>\n",
       "</thead>\n",
       "<tbody>\n",
       "\t<tr><th scope=row>1</th><td>chr1                  </td><td>30534</td></tr>\n",
       "\t<tr><th scope=row>2</th><td>chr1_KI270706v1_random</td><td>   35</td></tr>\n",
       "\t<tr><th scope=row>3</th><td>chr1_KI270707v1_random</td><td>    1</td></tr>\n",
       "\t<tr><th scope=row>4</th><td>chr1_KI270708v1_random</td><td>    1</td></tr>\n",
       "\t<tr><th scope=row>5</th><td>chr1_KI270709v1_random</td><td>    5</td></tr>\n",
       "\t<tr><th scope=row>6</th><td>chr1_KI270711v1_random</td><td>    7</td></tr>\n",
       "</tbody>\n",
       "</table>\n"
      ],
      "text/latex": [
       "A data.frame: 6 × 2\n",
       "\\begin{tabular}{r|ll}\n",
       "  & Var1 & Freq\\\\\n",
       "  & <fct> & <int>\\\\\n",
       "\\hline\n",
       "\t1 & chr1                   & 30534\\\\\n",
       "\t2 & chr1\\_KI270706v1\\_random &    35\\\\\n",
       "\t3 & chr1\\_KI270707v1\\_random &     1\\\\\n",
       "\t4 & chr1\\_KI270708v1\\_random &     1\\\\\n",
       "\t5 & chr1\\_KI270709v1\\_random &     5\\\\\n",
       "\t6 & chr1\\_KI270711v1\\_random &     7\\\\\n",
       "\\end{tabular}\n"
      ],
      "text/markdown": [
       "\n",
       "A data.frame: 6 × 2\n",
       "\n",
       "| <!--/--> | Var1 &lt;fct&gt; | Freq &lt;int&gt; |\n",
       "|---|---|---|\n",
       "| 1 | chr1                   | 30534 |\n",
       "| 2 | chr1_KI270706v1_random |    35 |\n",
       "| 3 | chr1_KI270707v1_random |     1 |\n",
       "| 4 | chr1_KI270708v1_random |     1 |\n",
       "| 5 | chr1_KI270709v1_random |     5 |\n",
       "| 6 | chr1_KI270711v1_random |     7 |\n",
       "\n"
      ],
      "text/plain": [
       "  Var1                   Freq \n",
       "1 chr1                   30534\n",
       "2 chr1_KI270706v1_random    35\n",
       "3 chr1_KI270707v1_random     1\n",
       "4 chr1_KI270708v1_random     1\n",
       "5 chr1_KI270709v1_random     5\n",
       "6 chr1_KI270711v1_random     7"
      ]
     },
     "metadata": {},
     "output_type": "display_data"
    }
   ],
   "source": [
    "lst = lst_dat_import\n",
    "dat = lst[[1]]\n",
    "dat = as.data.frame(table(dat$X1))\n",
    "head(dat)"
   ]
  },
  {
   "cell_type": "code",
   "execution_count": 15,
   "id": "4fe61b70-ba9a-486c-be16-12d29fb0d93b",
   "metadata": {},
   "outputs": [
    {
     "data": {
      "text/html": [
       "<table class=\"dataframe\">\n",
       "<caption>A data.frame: 6 × 2</caption>\n",
       "<thead>\n",
       "\t<tr><th></th><th scope=col>Var1</th><th scope=col>Freq</th></tr>\n",
       "\t<tr><th></th><th scope=col>&lt;fct&gt;</th><th scope=col>&lt;int&gt;</th></tr>\n",
       "</thead>\n",
       "<tbody>\n",
       "\t<tr><th scope=row>1</th><td>chr1 </td><td>30534</td></tr>\n",
       "\t<tr><th scope=row>2</th><td>chr10</td><td>11398</td></tr>\n",
       "\t<tr><th scope=row>3</th><td>chr11</td><td>12010</td></tr>\n",
       "\t<tr><th scope=row>4</th><td>chr12</td><td>10725</td></tr>\n",
       "\t<tr><th scope=row>5</th><td>chr13</td><td> 3675</td></tr>\n",
       "\t<tr><th scope=row>6</th><td>chr14</td><td> 4386</td></tr>\n",
       "</tbody>\n",
       "</table>\n"
      ],
      "text/latex": [
       "A data.frame: 6 × 2\n",
       "\\begin{tabular}{r|ll}\n",
       "  & Var1 & Freq\\\\\n",
       "  & <fct> & <int>\\\\\n",
       "\\hline\n",
       "\t1 & chr1  & 30534\\\\\n",
       "\t2 & chr10 & 11398\\\\\n",
       "\t3 & chr11 & 12010\\\\\n",
       "\t4 & chr12 & 10725\\\\\n",
       "\t5 & chr13 &  3675\\\\\n",
       "\t6 & chr14 &  4386\\\\\n",
       "\\end{tabular}\n"
      ],
      "text/markdown": [
       "\n",
       "A data.frame: 6 × 2\n",
       "\n",
       "| <!--/--> | Var1 &lt;fct&gt; | Freq &lt;int&gt; |\n",
       "|---|---|---|\n",
       "| 1 | chr1  | 30534 |\n",
       "| 2 | chr10 | 11398 |\n",
       "| 3 | chr11 | 12010 |\n",
       "| 4 | chr12 | 10725 |\n",
       "| 5 | chr13 |  3675 |\n",
       "| 6 | chr14 |  4386 |\n",
       "\n"
      ],
      "text/plain": [
       "  Var1  Freq \n",
       "1 chr1  30534\n",
       "2 chr10 11398\n",
       "3 chr11 12010\n",
       "4 chr12 10725\n",
       "5 chr13  3675\n",
       "6 chr14  4386"
      ]
     },
     "metadata": {},
     "output_type": "display_data"
    }
   ],
   "source": [
    "lst = lst_dat_arrange\n",
    "dat = lst[[1]]\n",
    "dat = as.data.frame(table(dat$X1))\n",
    "head(dat)"
   ]
  },
  {
   "cell_type": "markdown",
   "id": "6f4d9454-a00d-4c66-8471-eabb3c3bb562",
   "metadata": {},
   "source": [
    "**Show results**"
   ]
  },
  {
   "cell_type": "code",
   "execution_count": 16,
   "id": "968e1c7f-6915-496f-a578-4197811d5874",
   "metadata": {},
   "outputs": [
    {
     "data": {
      "text/html": [
       "<table>\n",
       " <thead>\n",
       "  <tr>\n",
       "   <th style=\"text-align:left;\"> X1 </th>\n",
       "   <th style=\"text-align:right;\"> X2 </th>\n",
       "   <th style=\"text-align:right;\"> X3 </th>\n",
       "   <th style=\"text-align:left;\"> X4 </th>\n",
       "  </tr>\n",
       " </thead>\n",
       "<tbody>\n",
       "  <tr>\n",
       "   <td style=\"text-align:left;\"> chr1 </td>\n",
       "   <td style=\"text-align:right;\"> 10015 </td>\n",
       "   <td style=\"text-align:right;\"> 10442 </td>\n",
       "   <td style=\"text-align:left;\"> chr1:10015-10442 </td>\n",
       "  </tr>\n",
       "  <tr>\n",
       "   <td style=\"text-align:left;\"> chr1 </td>\n",
       "   <td style=\"text-align:right;\"> 14253 </td>\n",
       "   <td style=\"text-align:right;\"> 14645 </td>\n",
       "   <td style=\"text-align:left;\"> chr1:14253-14645 </td>\n",
       "  </tr>\n",
       "  <tr>\n",
       "   <td style=\"text-align:left;\"> chr1 </td>\n",
       "   <td style=\"text-align:right;\"> 16015 </td>\n",
       "   <td style=\"text-align:right;\"> 16477 </td>\n",
       "   <td style=\"text-align:left;\"> chr1:16015-16477 </td>\n",
       "  </tr>\n",
       "</tbody>\n",
       "</table>"
      ]
     },
     "metadata": {},
     "output_type": "display_data"
    }
   ],
   "source": [
    "lst = lst_dat_arrange\n",
    "dat = lst[[1]]\n",
    "fun_display_table(head(dat, 3))"
   ]
  },
  {
   "cell_type": "code",
   "execution_count": 17,
   "id": "9ea5b4fe-6c6c-4309-be25-d2e65bdadbaf",
   "metadata": {},
   "outputs": [
    {
     "data": {
      "text/html": [
       "<table>\n",
       " <thead>\n",
       "  <tr>\n",
       "   <th style=\"text-align:left;\"> X1 </th>\n",
       "   <th style=\"text-align:right;\"> X2 </th>\n",
       "   <th style=\"text-align:right;\"> X3 </th>\n",
       "   <th style=\"text-align:left;\"> X4 </th>\n",
       "  </tr>\n",
       " </thead>\n",
       "<tbody>\n",
       "  <tr>\n",
       "   <td style=\"text-align:left;\"> chr1 </td>\n",
       "   <td style=\"text-align:right;\"> 10038 </td>\n",
       "   <td style=\"text-align:right;\"> 10405 </td>\n",
       "   <td style=\"text-align:left;\"> chr1:10038-10405 </td>\n",
       "  </tr>\n",
       "  <tr>\n",
       "   <td style=\"text-align:left;\"> chr1 </td>\n",
       "   <td style=\"text-align:right;\"> 14282 </td>\n",
       "   <td style=\"text-align:right;\"> 14614 </td>\n",
       "   <td style=\"text-align:left;\"> chr1:14282-14614 </td>\n",
       "  </tr>\n",
       "  <tr>\n",
       "   <td style=\"text-align:left;\"> chr1 </td>\n",
       "   <td style=\"text-align:right;\"> 16025 </td>\n",
       "   <td style=\"text-align:right;\"> 16338 </td>\n",
       "   <td style=\"text-align:left;\"> chr1:16025-16338 </td>\n",
       "  </tr>\n",
       "</tbody>\n",
       "</table>"
      ]
     },
     "metadata": {},
     "output_type": "display_data"
    }
   ],
   "source": [
    "lst = lst_dat_arrange\n",
    "dat = lst[[2]]\n",
    "fun_display_table(head(dat, 3))"
   ]
  },
  {
   "cell_type": "markdown",
   "id": "94c3887a-5a4e-476d-9681-23dfbaffbe41",
   "metadata": {},
   "source": [
    "## Define column description"
   ]
  },
  {
   "cell_type": "code",
   "execution_count": 18,
   "id": "4664586b-0f1e-4d70-9757-24c97a06a052",
   "metadata": {},
   "outputs": [
    {
     "data": {
      "text/html": [
       "<table>\n",
       " <thead>\n",
       "  <tr>\n",
       "   <th style=\"text-align:left;\"> Name </th>\n",
       "   <th style=\"text-align:left;\"> Note </th>\n",
       "  </tr>\n",
       " </thead>\n",
       "<tbody>\n",
       "  <tr>\n",
       "   <td style=\"text-align:left;\"> Chrom </td>\n",
       "   <td style=\"text-align:left;\"> Name of the chromosome </td>\n",
       "  </tr>\n",
       "  <tr>\n",
       "   <td style=\"text-align:left;\"> ChromStart </td>\n",
       "   <td style=\"text-align:left;\"> The starting position of the feature in the chromosome </td>\n",
       "  </tr>\n",
       "  <tr>\n",
       "   <td style=\"text-align:left;\"> ChromEnd </td>\n",
       "   <td style=\"text-align:left;\"> The ending position of the feature in the chromosome </td>\n",
       "  </tr>\n",
       "  <tr>\n",
       "   <td style=\"text-align:left;\"> Region </td>\n",
       "   <td style=\"text-align:left;\"> chr:start-end for each row </td>\n",
       "  </tr>\n",
       "</tbody>\n",
       "</table>"
      ]
     },
     "metadata": {},
     "output_type": "display_data"
    }
   ],
   "source": [
    "### set column name and description\n",
    "dat = tribble(\n",
    "    ~Name,        ~Note,\n",
    "    \"Chrom\",      \"Name of the chromosome\",\n",
    "    \"ChromStart\", \"The starting position of the feature in the chromosome\",\n",
    "    \"ChromEnd\",   \"The ending position of the feature in the chromosome\",\n",
    "    \"Region\",     \"chr:start-end for each row\"\n",
    ")\n",
    "\n",
    "### assign and show\n",
    "dat_cname = dat\n",
    "fun_display_table(dat)"
   ]
  },
  {
   "cell_type": "markdown",
   "id": "7af035e2-3277-42da-85b7-490581251255",
   "metadata": {},
   "source": [
    "## Save results"
   ]
  },
  {
   "cell_type": "code",
   "execution_count": 19,
   "id": "9367f783-9393-4e81-b8d2-8f938d2629d2",
   "metadata": {},
   "outputs": [],
   "source": [
    "txt_folder = TXT_FOLDER_REGION\n",
    "txt_fdiry  = file.path(FD_RES, \"region\", txt_folder, \"summary\")\n",
    "txt_fname  = \"description.tsv\"\n",
    "txt_fpath  = file.path(txt_fdiry, txt_fname)\n",
    "\n",
    "dir.create(txt_fdiry, showWarnings = FALSE)\n",
    "dat = dat_cname\n",
    "write_tsv(dat, txt_fpath)"
   ]
  },
  {
   "cell_type": "code",
   "execution_count": 21,
   "id": "c72a5d19-a39b-4929-9113-511ae531a7a5",
   "metadata": {},
   "outputs": [
    {
     "name": "stdout",
     "output_type": "stream",
     "text": [
      "[1] \"union\"\n",
      "[1] \"K562.hg38.ASTARR.macs.KS91.input.rep_all.union.q5.bed.gz\"\n",
      "[1] \"max_overlaps\"\n",
      "[1] \"K562.hg38.ASTARR.macs.KS91.input.rep_all.max_overlaps.q5.bed.gz\"\n"
     ]
    }
   ],
   "source": [
    "lst = lst_dat_arrange\n",
    "for (idx in names(lst)){\n",
    "    txt_fname = paste(\n",
    "        \"K562.hg38.ASTARR.macs.KS91.input.rep_all\",\n",
    "        idx,\n",
    "        \"q5.bed.gz\",\n",
    "        sep = \".\"\n",
    "    )\n",
    "    print(idx)\n",
    "    print(txt_fname)\n",
    "}"
   ]
  },
  {
   "cell_type": "code",
   "execution_count": 22,
   "id": "88bb5e0e-4c75-4df9-b4f6-7b7b7a74ec40",
   "metadata": {},
   "outputs": [
    {
     "name": "stdout",
     "output_type": "stream",
     "text": [
      "[1] \"union\"\n",
      "[1] \"K562.hg38.ASTARR.macs.KS91.input.rep_all.union.q5.bed.gz\"\n",
      "[1] \"max_overlaps\"\n",
      "[1] \"K562.hg38.ASTARR.macs.KS91.input.rep_all.max_overlaps.q5.bed.gz\"\n"
     ]
    }
   ],
   "source": [
    "### set file path\n",
    "txt_folder = TXT_FOLDER_REGION\n",
    "txt_fdiry  = file.path(FD_RES, \"region\", txt_folder)\n",
    "dir.create(txt_fdiry, showWarnings = FALSE)\n",
    "\n",
    "lst = lst_dat_arrange\n",
    "for (idx in names(lst)){\n",
    "    txt_fname = paste(\n",
    "        \"K562.hg38.ASTARR.macs.KS91.input.rep_all\",\n",
    "        idx,\n",
    "        \"q5.bed.gz\",\n",
    "        sep = \".\"\n",
    "    )\n",
    "    txt_fpath = file.path(txt_fdiry, txt_fname)\n",
    "    \n",
    "    dat = lst[[idx]]\n",
    "    write_tsv(dat, txt_fpath, col_names = FALSE)\n",
    "    \n",
    "    print(idx)\n",
    "    print(txt_fname)\n",
    "}"
   ]
  },
  {
   "cell_type": "code",
   "execution_count": null,
   "id": "393c8ac9-12d7-4b4f-8ede-e734b9043a86",
   "metadata": {},
   "outputs": [],
   "source": []
  }
 ],
 "metadata": {
  "kernelspec": {
   "display_name": "R",
   "language": "R",
   "name": "ir"
  },
  "language_info": {
   "codemirror_mode": "r",
   "file_extension": ".r",
   "mimetype": "text/x-r-source",
   "name": "R",
   "pygments_lexer": "r",
   "version": "4.4.1"
  }
 },
 "nbformat": 4,
 "nbformat_minor": 5
}
