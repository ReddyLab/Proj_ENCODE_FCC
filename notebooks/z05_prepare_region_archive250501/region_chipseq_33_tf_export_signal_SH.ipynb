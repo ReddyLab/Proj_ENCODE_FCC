{
 "cells": [
  {
   "cell_type": "raw",
   "id": "720b1c53-9842-45b1-8d80-39a613b09476",
   "metadata": {},
   "source": [
    "---\n",
    "title: Prepare ENCODE ChIP-seq 13 (Histone)\n",
    "subtitle: Export data to `result` folder\n",
    "format:\n",
    "    html:\n",
    "        code-fold:  true\n",
    "        code-tools: true\n",
    "---"
   ]
  },
  {
   "cell_type": "markdown",
   "id": "4c88ea17-239a-4709-9c69-42052024a2cb",
   "metadata": {},
   "source": [
    "**Set environment**"
   ]
  },
  {
   "cell_type": "code",
   "execution_count": 1,
   "id": "988f554b-1e01-4ce7-96b7-b12005a49c0f",
   "metadata": {},
   "outputs": [
    {
     "name": "stdout",
     "output_type": "stream",
     "text": [
      "You are working on             Duke Server: RCC\n",
      "BASE DIRECTORY (FD_BASE):      /data/reddylab/Kuei\n",
      "REPO DIRECTORY (FD_REPO):      /data/reddylab/Kuei/repo\n",
      "WORK DIRECTORY (FD_WORK):      /data/reddylab/Kuei/work\n",
      "DATA DIRECTORY (FD_DATA):      /data/reddylab/Kuei/data\n",
      "CONTAINER DIR. (FD_SING):      /data/reddylab/Kuei/container\n",
      "\n",
      "You are working with           ENCODE FCC\n",
      "PATH OF PROJECT (FD_PRJ):      /data/reddylab/Kuei/repo/Proj_ENCODE_FCC\n",
      "PROJECT RESULTS (FD_RES):      /data/reddylab/Kuei/repo/Proj_ENCODE_FCC/results\n",
      "PROJECT SCRIPTS (FD_EXE):      /data/reddylab/Kuei/repo/Proj_ENCODE_FCC/scripts\n",
      "PROJECT DATA    (FD_DAT):      /data/reddylab/Kuei/repo/Proj_ENCODE_FCC/data\n",
      "PROJECT NOTE    (FD_NBK):      /data/reddylab/Kuei/repo/Proj_ENCODE_FCC/notebooks\n",
      "PROJECT DOCS    (FD_DOC):      /data/reddylab/Kuei/repo/Proj_ENCODE_FCC/docs\n",
      "PROJECT LOG     (FD_LOG):      /data/reddylab/Kuei/repo/Proj_ENCODE_FCC/log\n",
      "PROJECT REF     (FD_REF):      /data/reddylab/Kuei/repo/Proj_ENCODE_FCC/references\n",
      "PROJECT IMAGE   (FP_PRJ_SIF):  /data/reddylab/Kuei/container/project/singularity_proj_encode_fcc.sif\n",
      "PROJECT CONF.   (FP_CNF):      /data/reddylab/Kuei/repo/Proj_ENCODE_FCC/scripts/config_project.sh\n",
      "\n"
     ]
    }
   ],
   "source": [
    "source ../run_config_project.sh\n",
    "show_env"
   ]
  },
  {
   "cell_type": "markdown",
   "id": "f57c346c-547f-4ace-866e-60da4e743704",
   "metadata": {
    "tags": []
   },
   "source": [
    "## Prepare"
   ]
  },
  {
   "cell_type": "code",
   "execution_count": 3,
   "id": "fc660904-9402-4c29-aa6e-72f7d4c80759",
   "metadata": {},
   "outputs": [
    {
     "name": "stdout",
     "output_type": "stream",
     "text": [
      "chrom.hg38.main.bed\n",
      "chrom.hg38.total.bed\n",
      "chrom.sizes.hg19\n",
      "chrom.sizes.hg38\n",
      "\u001b[0m\u001b[01;34mencode_chipseq_agarwal2023\u001b[0m\n",
      "\u001b[01;34mencode_chipseq_flagship\u001b[0m\n",
      "\u001b[01;34mencode_chipseq_histone\u001b[0m\n",
      "\u001b[01;34mencode_chipseq_histone_241223\u001b[0m\n",
      "\u001b[01;34mencode_chipseq_histone_250120\u001b[0m\n",
      "\u001b[01;34mencode_chipseq_subset\u001b[0m\n",
      "\u001b[01;34mencode_chipseq_tf_250108\u001b[0m\n",
      "\u001b[01;34mencode_chipseq_tf_250120\u001b[0m\n",
      "\u001b[01;34mencode_chromatin_states\u001b[0m\n",
      "\u001b[01;34mencode_crispri_hcrff\u001b[0m\n",
      "\u001b[01;34mencode_open_chromatin\u001b[0m\n",
      "\u001b[01;34mencode_rnaseq\u001b[0m\n",
      "\u001b[01;34mgenome_tss\u001b[0m\n",
      "\u001b[01;34mhic_insitu_GM12878\u001b[0m\n",
      "\u001b[01;34mhic_insitu_K562_ENCSR545YBD\u001b[0m\n",
      "\u001b[01;34mhic_intact_K562_deep\u001b[0m\n",
      "\u001b[01;34mhic_intact_K562_ENCSR479XDG\u001b[0m\n",
      "\u001b[01;34mprotein_interpro\u001b[0m\n",
      "\u001b[01;34mRNAseq\u001b[0m\n",
      "\u001b[01;34mz_encode_chipseq_encode4\u001b[0m\n",
      "\u001b[01;34mz_encode_chipseq_flagship\u001b[0m\n",
      "\u001b[01;34mz_encode_chipseq_histone\u001b[0m\n",
      "\u001b[01;34mz_encode_chipseq_subset\u001b[0m\n"
     ]
    }
   ],
   "source": [
    "ls -1 ${FD_DAT}/external/"
   ]
  },
  {
   "cell_type": "code",
   "execution_count": 5,
   "id": "55e776ec-3948-4e9d-af3b-598dc1fe58d3",
   "metadata": {},
   "outputs": [
    {
     "name": "stdout",
     "output_type": "stream",
     "text": [
      "/data/reddylab/Kuei/repo/Proj_ENCODE_FCC/data/external/encode_chipseq_histone_250120\n",
      "\u001b[0m\u001b[01;34mregion_narrowPeak\u001b[0m\n",
      "\u001b[01;34msignal_fold_change\u001b[0m\n",
      "\u001b[01;34msignal_pvalue\u001b[0m\n"
     ]
    }
   ],
   "source": [
    "FDIRY=${FD_DAT}/external/encode_chipseq_histone_250120\n",
    "echo  ${FDIRY}\n",
    "ls -1 ${FDIRY}"
   ]
  },
  {
   "cell_type": "code",
   "execution_count": 4,
   "id": "deead1d3-72ff-488d-8ea9-5c913d8ef1f5",
   "metadata": {},
   "outputs": [
    {
     "name": "stdout",
     "output_type": "stream",
     "text": [
      "/data/reddylab/Kuei/repo/Proj_ENCODE_FCC/data/external/encode_chipseq_tf_250120\n",
      "\u001b[0m\u001b[01;34mregion_narrowPeak\u001b[0m\n",
      "\u001b[01;34msignal_fold_change\u001b[0m\n"
     ]
    }
   ],
   "source": [
    "FDIRY=${FD_DAT}/external/encode_chipseq_tf_250120\n",
    "echo  ${FDIRY}\n",
    "ls -1 ${FDIRY}"
   ]
  },
  {
   "cell_type": "code",
   "execution_count": 6,
   "id": "853b0456-05ca-4ff5-8111-9ce53f2086a9",
   "metadata": {},
   "outputs": [
    {
     "name": "stdout",
     "output_type": "stream",
     "text": [
      "checksum_md5sum.01.txt\n",
      "checksum_md5sum.02.txt\n",
      "checksum_md5sum.03.txt\n",
      "checksum_md5sum.04.txt\n",
      "checksum_md5sum.05.txt\n",
      "checksum_md5sum.06.txt\n",
      "checksum_md5sum.07.txt\n",
      "checksum_md5sum.08.txt\n",
      "checksum_md5sum.09.txt\n",
      "checksum_md5sum.10.txt\n"
     ]
    }
   ],
   "source": [
    "FDIRY=${FD_DAT}/external/encode_chipseq_tf_250120\n",
    "ls -1 ${FDIRY}/signal_fold_change | head"
   ]
  },
  {
   "cell_type": "code",
   "execution_count": 10,
   "id": "478d0280-7c13-4aee-938d-3703357fbd75",
   "metadata": {},
   "outputs": [
    {
     "name": "stdout",
     "output_type": "stream",
     "text": [
      "/data/reddylab/Kuei/repo/Proj_ENCODE_FCC/results/annotation\n",
      "\u001b[0m\u001b[01;34mencode_chipseq_histone\u001b[0m\n",
      "\u001b[01;34mencode_chipseq_tf\u001b[0m\n",
      "\u001b[01;34mprotein_interpro\u001b[0m\n"
     ]
    }
   ],
   "source": [
    "FDIRY=${FD_RES}/annotation\n",
    "echo  ${FDIRY}\n",
    "ls -1 ${FDIRY}"
   ]
  },
  {
   "cell_type": "code",
   "execution_count": 8,
   "id": "e62bb11b-9b21-4eb7-8fbe-b3ca5cac2ce9",
   "metadata": {},
   "outputs": [
    {
     "name": "stdout",
     "output_type": "stream",
     "text": [
      "/data/reddylab/Kuei/repo/Proj_ENCODE_FCC/results/annotation/encode_chipseq_tf\n"
     ]
    }
   ],
   "source": [
    "FDIRY=${FD_RES}/annotation/encode_chipseq_tf\n",
    "echo  ${FDIRY}\n",
    "ls    ${FDIRY}"
   ]
  },
  {
   "cell_type": "code",
   "execution_count": 11,
   "id": "b842d9d1-c01e-43f4-8d89-35f4a461f19f",
   "metadata": {},
   "outputs": [],
   "source": [
    "FD_INP=${FD_DAT}/external/encode_chipseq_tf_250120\n",
    "FD_OUT=${FD_RES}/annotation/encode_chipseq_tf\n",
    "\n",
    "FP_SRC=${FD_INP}/signal_fold_change\n",
    "FP_LNK=${FD_OUT}/signal_fold_change\n",
    "\n",
    "ln -s ${FP_SRC} ${FP_LNK}"
   ]
  },
  {
   "cell_type": "code",
   "execution_count": 12,
   "id": "bd735ea5-4ce0-4968-8b81-287a7659dc5c",
   "metadata": {},
   "outputs": [],
   "source": [
    "FD_OUT=${FD_RES}/annotation/encode_chipseq_tf/summary\n",
    "mkdir -p ${FD_OUT}"
   ]
  },
  {
   "cell_type": "code",
   "execution_count": 14,
   "id": "d25321e9-a2eb-4100-9e8e-e9c6efb8cd1c",
   "metadata": {},
   "outputs": [
    {
     "name": "stdout",
     "output_type": "stream",
     "text": [
      "\u001b[0m\u001b[01;36msignal_fold_change\u001b[0m\n",
      "\u001b[01;34msummary\u001b[0m\n"
     ]
    }
   ],
   "source": [
    "FD_OUT=${FD_RES}/annotation/encode_chipseq_tf\n",
    "ls -1 ${FD_OUT}"
   ]
  },
  {
   "cell_type": "code",
   "execution_count": null,
   "id": "fe7b297e-4468-4810-b615-7dae36b6fab8",
   "metadata": {},
   "outputs": [],
   "source": []
  }
 ],
 "metadata": {
  "kernelspec": {
   "display_name": "Bash",
   "language": "bash",
   "name": "bash"
  },
  "language_info": {
   "codemirror_mode": "shell",
   "file_extension": ".sh",
   "mimetype": "text/x-sh",
   "name": "bash"
  }
 },
 "nbformat": 4,
 "nbformat_minor": 5
}
