{
 "cells": [
  {
   "cell_type": "raw",
   "id": "c86e4ac4-c7bb-4c3f-8a34-1e93440b3670",
   "metadata": {},
   "source": [
    "---\n",
    "title: Prepare Junke peak call region 02\n",
    "subtitle: Get peak call from Junke's z-score peak caller\n",
    "format:\n",
    "    html:\n",
    "        code-fold:  true\n",
    "        code-tools: true\n",
    "---"
   ]
  },
  {
   "cell_type": "markdown",
   "id": "c25d5d34-08eb-4c7d-b45a-eac0467e694e",
   "metadata": {},
   "source": [
    "**Set environment**"
   ]
  },
  {
   "cell_type": "code",
   "execution_count": 1,
   "id": "5440c00e-7c66-41bf-b528-6acd3d515637",
   "metadata": {},
   "outputs": [
    {
     "name": "stdout",
     "output_type": "stream",
     "text": [
      "You are working on             Duke Server: HARDAC\n",
      "BASE DIRECTORY (FD_BASE):      /data/reddylab/Kuei\n",
      "REPO DIRECTORY (FD_REPO):      /data/reddylab/Kuei/repo\n",
      "WORK DIRECTORY (FD_WORK):      /data/reddylab/Kuei/work\n",
      "DATA DIRECTORY (FD_DATA):      /data/reddylab/Kuei/data\n",
      "CONTAINER DIR. (FD_SING):      /data/reddylab/Kuei/container\n",
      "\n",
      "You are working with           ENCODE FCC\n",
      "PATH OF PROJECT (FD_PRJ):      /data/reddylab/Kuei/repo/Proj_ENCODE_FCC\n",
      "PROJECT RESULTS (FD_RES):      /data/reddylab/Kuei/repo/Proj_ENCODE_FCC/results\n",
      "PROJECT SCRIPTS (FD_EXE):      /data/reddylab/Kuei/repo/Proj_ENCODE_FCC/scripts\n",
      "PROJECT DATA    (FD_DAT):      /data/reddylab/Kuei/repo/Proj_ENCODE_FCC/data\n",
      "PROJECT NOTE    (FD_NBK):      /data/reddylab/Kuei/repo/Proj_ENCODE_FCC/notebooks\n",
      "PROJECT DOCS    (FD_DOC):      /data/reddylab/Kuei/repo/Proj_ENCODE_FCC/docs\n",
      "PROJECT LOG     (FD_LOG):      /data/reddylab/Kuei/repo/Proj_ENCODE_FCC/log\n",
      "PROJECT APP     (FD_APP):      \n",
      "PROJECT REF     (FD_REF):      /data/reddylab/Kuei/repo/Proj_ENCODE_FCC/references\n",
      "PROJECT IMAGE   (FP_PRJ_SIF):  /data/reddylab/Kuei/container/project/singularity_proj_encode_fcc.sif\n",
      "\n"
     ]
    }
   ],
   "source": [
    "source ../run_config_project.sh\n",
    "show_env"
   ]
  },
  {
   "cell_type": "markdown",
   "id": "69113f51-c587-4bdb-b0a6-4872f8d82397",
   "metadata": {},
   "source": [
    "## Preview"
   ]
  },
  {
   "cell_type": "code",
   "execution_count": 2,
   "id": "483c3023-1140-4676-ad3c-cf8bbcab0b12",
   "metadata": {},
   "outputs": [
    {
     "name": "stdout",
     "output_type": "stream",
     "text": [
      "ATAC_STARR_seq_100bp_genomic_bin_in_ATAC_seq_peak_cpm_20_avg_DNA_lib.zip\n",
      "eSTARR_seq.zip\n",
      "LentiMPRA_DNA_filtering_avg_DNA_lib_count_10.zip\n",
      "TilingMPRA_ENCSR363XER_DNA_filtering_avg_DNA_lib_count_10.zip\n",
      "TilingMPRA_ENCSR394HXI_DNA_filtering_avg_DNA_lib_count_10.zip\n",
      "TilingMPRA_ENCSR917SFD_DNA_filtering_avg_DNA_lib_count_10.zip\n",
      "WHG_STARR_TR.zip\n"
     ]
    }
   ],
   "source": [
    "FD_INP=${FD_DAT}/processed/fcc_enhancer_Junke_zscore_240611\n",
    "ls ${FD_INP}/*zip | xargs -n 1 basename"
   ]
  },
  {
   "cell_type": "markdown",
   "id": "e595d2de-3cd2-4bcb-8e8a-a4b253283c22",
   "metadata": {},
   "source": [
    "## Execute"
   ]
  },
  {
   "cell_type": "code",
   "execution_count": 3,
   "id": "7e5c342a-a34c-4745-ae3f-31b22126f976",
   "metadata": {},
   "outputs": [
    {
     "name": "stdout",
     "output_type": "stream",
     "text": [
      "/data/reddylab/Kuei/repo/Proj_ENCODE_FCC/data/processed/fcc_enhancer_Junke_zscore_240611/ATAC_STARR_seq_100bp_genomic_bin_in_ATAC_seq_peak_cpm_20_avg_DNA_lib.zip\n",
      "Archive:  /data/reddylab/Kuei/repo/Proj_ENCODE_FCC/data/processed/fcc_enhancer_Junke_zscore_240611/ATAC_STARR_seq_100bp_genomic_bin_in_ATAC_seq_peak_cpm_20_avg_DNA_lib.zip\n",
      "   creating: /data/reddylab/Kuei/repo/Proj_ENCODE_FCC/data/processed/fcc_enhancer_Junke_zscore_240611/decompressed/ATAC_STARR_seq_100bp_genomic_bin_in_ATAC_seq_peak_cpm_20_avg_DNA_lib_/\n",
      "  inflating: /data/reddylab/Kuei/repo/Proj_ENCODE_FCC/data/processed/fcc_enhancer_Junke_zscore_240611/decompressed/__MACOSX/._ATAC_STARR_seq_100bp_genomic_bin_in_ATAC_seq_peak_cpm_20_avg_DNA_lib_  \n",
      "  inflating: /data/reddylab/Kuei/repo/Proj_ENCODE_FCC/data/processed/fcc_enhancer_Junke_zscore_240611/decompressed/ATAC_STARR_seq_100bp_genomic_bin_in_ATAC_seq_peak_cpm_20_avg_DNA_lib_/.DS_Store  \n",
      "  inflating: /data/reddylab/Kuei/repo/Proj_ENCODE_FCC/data/processed/fcc_enhancer_Junke_zscore_240611/decompressed/__MACOSX/ATAC_STARR_seq_100bp_genomic_bin_in_ATAC_seq_peak_cpm_20_avg_DNA_lib_/._.DS_Store  \n",
      "  inflating: /data/reddylab/Kuei/repo/Proj_ENCODE_FCC/data/processed/fcc_enhancer_Junke_zscore_240611/decompressed/ATAC_STARR_seq_100bp_genomic_bin_in_ATAC_seq_peak_cpm_20_avg_DNA_lib_/neg_ctrl_region.txt  \n",
      "   creating: /data/reddylab/Kuei/repo/Proj_ENCODE_FCC/data/processed/fcc_enhancer_Junke_zscore_240611/decompressed/ATAC_STARR_seq_100bp_genomic_bin_in_ATAC_seq_peak_cpm_20_avg_DNA_lib_/merged_peak/\n",
      "   creating: /data/reddylab/Kuei/repo/Proj_ENCODE_FCC/data/processed/fcc_enhancer_Junke_zscore_240611/decompressed/ATAC_STARR_seq_100bp_genomic_bin_in_ATAC_seq_peak_cpm_20_avg_DNA_lib_/bin_level/\n",
      "  inflating: /data/reddylab/Kuei/repo/Proj_ENCODE_FCC/data/processed/fcc_enhancer_Junke_zscore_240611/decompressed/ATAC_STARR_seq_100bp_genomic_bin_in_ATAC_seq_peak_cpm_20_avg_DNA_lib_/merged_peak/merged_repressor_peaks_in_either_orientation.bed.gz  \n",
      "  inflating: /data/reddylab/Kuei/repo/Proj_ENCODE_FCC/data/processed/fcc_enhancer_Junke_zscore_240611/decompressed/ATAC_STARR_seq_100bp_genomic_bin_in_ATAC_seq_peak_cpm_20_avg_DNA_lib_/merged_peak/merged_enhancer_peaks_in_either_orientation.bed.gz  \n",
      "  inflating: /data/reddylab/Kuei/repo/Proj_ENCODE_FCC/data/processed/fcc_enhancer_Junke_zscore_240611/decompressed/ATAC_STARR_seq_100bp_genomic_bin_in_ATAC_seq_peak_cpm_20_avg_DNA_lib_/merged_peak/merged_enhancer_peak_orientation_independent.bed.gz  \n",
      "  inflating: /data/reddylab/Kuei/repo/Proj_ENCODE_FCC/data/processed/fcc_enhancer_Junke_zscore_240611/decompressed/ATAC_STARR_seq_100bp_genomic_bin_in_ATAC_seq_peak_cpm_20_avg_DNA_lib_/merged_peak/merged_repressor_peak_orientation_independent.bed.gz  \n",
      "  inflating: /data/reddylab/Kuei/repo/Proj_ENCODE_FCC/data/processed/fcc_enhancer_Junke_zscore_240611/decompressed/ATAC_STARR_seq_100bp_genomic_bin_in_ATAC_seq_peak_cpm_20_avg_DNA_lib_/bin_level/bin_level_all_result.bed.gz  \n",
      "  inflating: /data/reddylab/Kuei/repo/Proj_ENCODE_FCC/data/processed/fcc_enhancer_Junke_zscore_240611/decompressed/ATAC_STARR_seq_100bp_genomic_bin_in_ATAC_seq_peak_cpm_20_avg_DNA_lib_/bin_level/all_bin_tested_in_both_orientations.bed.gz  \n",
      "\n",
      "/data/reddylab/Kuei/repo/Proj_ENCODE_FCC/data/processed/fcc_enhancer_Junke_zscore_240611/eSTARR_seq.zip\n",
      "Archive:  /data/reddylab/Kuei/repo/Proj_ENCODE_FCC/data/processed/fcc_enhancer_Junke_zscore_240611/eSTARR_seq.zip\n",
      "   creating: /data/reddylab/Kuei/repo/Proj_ENCODE_FCC/data/processed/fcc_enhancer_Junke_zscore_240611/decompressed/eSTARR_seq/\n",
      "  inflating: /data/reddylab/Kuei/repo/Proj_ENCODE_FCC/data/processed/fcc_enhancer_Junke_zscore_240611/decompressed/__MACOSX/._eSTARR_seq  \n",
      "  inflating: /data/reddylab/Kuei/repo/Proj_ENCODE_FCC/data/processed/fcc_enhancer_Junke_zscore_240611/decompressed/eSTARR_seq/neg_ctrl_region.txt  \n",
      "   creating: /data/reddylab/Kuei/repo/Proj_ENCODE_FCC/data/processed/fcc_enhancer_Junke_zscore_240611/decompressed/eSTARR_seq/merged_peak/\n",
      "   creating: /data/reddylab/Kuei/repo/Proj_ENCODE_FCC/data/processed/fcc_enhancer_Junke_zscore_240611/decompressed/eSTARR_seq/element_level/\n",
      "  inflating: /data/reddylab/Kuei/repo/Proj_ENCODE_FCC/data/processed/fcc_enhancer_Junke_zscore_240611/decompressed/eSTARR_seq/neg_ctrl.pdf  \n",
      "  inflating: /data/reddylab/Kuei/repo/Proj_ENCODE_FCC/data/processed/fcc_enhancer_Junke_zscore_240611/decompressed/eSTARR_seq/merged_peak/merged_repressor_peaks_in_either_orientation.bed.gz  \n",
      "  inflating: /data/reddylab/Kuei/repo/Proj_ENCODE_FCC/data/processed/fcc_enhancer_Junke_zscore_240611/decompressed/eSTARR_seq/merged_peak/merged_enhancer_peaks_in_either_orientation.bed.gz  \n",
      "  inflating: /data/reddylab/Kuei/repo/Proj_ENCODE_FCC/data/processed/fcc_enhancer_Junke_zscore_240611/decompressed/eSTARR_seq/merged_peak/merged_enhancer_peak_orientation_independent.bed.gz  \n",
      "  inflating: /data/reddylab/Kuei/repo/Proj_ENCODE_FCC/data/processed/fcc_enhancer_Junke_zscore_240611/decompressed/eSTARR_seq/merged_peak/merged_repressor_peak_orientation_independent.bed.gz  \n",
      "  inflating: /data/reddylab/Kuei/repo/Proj_ENCODE_FCC/data/processed/fcc_enhancer_Junke_zscore_240611/decompressed/eSTARR_seq/element_level/all_element_tested_in_both_orientations.bed.gz  \n",
      "  inflating: /data/reddylab/Kuei/repo/Proj_ENCODE_FCC/data/processed/fcc_enhancer_Junke_zscore_240611/decompressed/eSTARR_seq/element_level/element_level_all_result.bed.gz  \n",
      "\n",
      "/data/reddylab/Kuei/repo/Proj_ENCODE_FCC/data/processed/fcc_enhancer_Junke_zscore_240611/LentiMPRA_DNA_filtering_avg_DNA_lib_count_10.zip\n",
      "Archive:  /data/reddylab/Kuei/repo/Proj_ENCODE_FCC/data/processed/fcc_enhancer_Junke_zscore_240611/LentiMPRA_DNA_filtering_avg_DNA_lib_count_10.zip\n",
      "   creating: /data/reddylab/Kuei/repo/Proj_ENCODE_FCC/data/processed/fcc_enhancer_Junke_zscore_240611/decompressed/LentiMPRA_DNA_filtering_avg_DNA_lib_count_10/\n",
      "  inflating: /data/reddylab/Kuei/repo/Proj_ENCODE_FCC/data/processed/fcc_enhancer_Junke_zscore_240611/decompressed/__MACOSX/._LentiMPRA_DNA_filtering_avg_DNA_lib_count_10  \n",
      "  inflating: /data/reddylab/Kuei/repo/Proj_ENCODE_FCC/data/processed/fcc_enhancer_Junke_zscore_240611/decompressed/LentiMPRA_DNA_filtering_avg_DNA_lib_count_10/neg_ctrl_region.txt  \n",
      "   creating: /data/reddylab/Kuei/repo/Proj_ENCODE_FCC/data/processed/fcc_enhancer_Junke_zscore_240611/decompressed/LentiMPRA_DNA_filtering_avg_DNA_lib_count_10/merged_peak/\n",
      "   creating: /data/reddylab/Kuei/repo/Proj_ENCODE_FCC/data/processed/fcc_enhancer_Junke_zscore_240611/decompressed/LentiMPRA_DNA_filtering_avg_DNA_lib_count_10/element_level/\n",
      "  inflating: /data/reddylab/Kuei/repo/Proj_ENCODE_FCC/data/processed/fcc_enhancer_Junke_zscore_240611/decompressed/LentiMPRA_DNA_filtering_avg_DNA_lib_count_10/neg_ctrl.pdf  \n",
      "  inflating: /data/reddylab/Kuei/repo/Proj_ENCODE_FCC/data/processed/fcc_enhancer_Junke_zscore_240611/decompressed/LentiMPRA_DNA_filtering_avg_DNA_lib_count_10/merged_peak/merged_repressor_peaks_in_either_orientation.bed.gz  \n",
      "  inflating: /data/reddylab/Kuei/repo/Proj_ENCODE_FCC/data/processed/fcc_enhancer_Junke_zscore_240611/decompressed/LentiMPRA_DNA_filtering_avg_DNA_lib_count_10/merged_peak/merged_enhancer_peaks_in_either_orientation.bed.gz  \n",
      "  inflating: /data/reddylab/Kuei/repo/Proj_ENCODE_FCC/data/processed/fcc_enhancer_Junke_zscore_240611/decompressed/LentiMPRA_DNA_filtering_avg_DNA_lib_count_10/merged_peak/merged_enhancer_peak_orientation_independent.bed.gz  \n",
      "  inflating: /data/reddylab/Kuei/repo/Proj_ENCODE_FCC/data/processed/fcc_enhancer_Junke_zscore_240611/decompressed/LentiMPRA_DNA_filtering_avg_DNA_lib_count_10/merged_peak/merged_repressor_peak_orientation_independent.bed.gz  \n",
      "  inflating: /data/reddylab/Kuei/repo/Proj_ENCODE_FCC/data/processed/fcc_enhancer_Junke_zscore_240611/decompressed/LentiMPRA_DNA_filtering_avg_DNA_lib_count_10/element_level/all_element_tested_in_both_orientations.bed.gz  \n",
      "  inflating: /data/reddylab/Kuei/repo/Proj_ENCODE_FCC/data/processed/fcc_enhancer_Junke_zscore_240611/decompressed/LentiMPRA_DNA_filtering_avg_DNA_lib_count_10/element_level/element_level_all_result.bed.gz  \n",
      "\n",
      "/data/reddylab/Kuei/repo/Proj_ENCODE_FCC/data/processed/fcc_enhancer_Junke_zscore_240611/TilingMPRA_ENCSR363XER_DNA_filtering_avg_DNA_lib_count_10.zip\n",
      "Archive:  /data/reddylab/Kuei/repo/Proj_ENCODE_FCC/data/processed/fcc_enhancer_Junke_zscore_240611/TilingMPRA_ENCSR363XER_DNA_filtering_avg_DNA_lib_count_10.zip\n",
      "   creating: /data/reddylab/Kuei/repo/Proj_ENCODE_FCC/data/processed/fcc_enhancer_Junke_zscore_240611/decompressed/TilingMPRA_ENCSR363XER_DNA_filtering_avg_DNA_lib_count_10/\n",
      "  inflating: /data/reddylab/Kuei/repo/Proj_ENCODE_FCC/data/processed/fcc_enhancer_Junke_zscore_240611/decompressed/__MACOSX/._TilingMPRA_ENCSR363XER_DNA_filtering_avg_DNA_lib_count_10  \n",
      "  inflating: /data/reddylab/Kuei/repo/Proj_ENCODE_FCC/data/processed/fcc_enhancer_Junke_zscore_240611/decompressed/TilingMPRA_ENCSR363XER_DNA_filtering_avg_DNA_lib_count_10/neg_ctrl_region.txt  \n",
      "   creating: /data/reddylab/Kuei/repo/Proj_ENCODE_FCC/data/processed/fcc_enhancer_Junke_zscore_240611/decompressed/TilingMPRA_ENCSR363XER_DNA_filtering_avg_DNA_lib_count_10/merged_peak/\n",
      "   creating: /data/reddylab/Kuei/repo/Proj_ENCODE_FCC/data/processed/fcc_enhancer_Junke_zscore_240611/decompressed/TilingMPRA_ENCSR363XER_DNA_filtering_avg_DNA_lib_count_10/element_level/\n",
      "  inflating: /data/reddylab/Kuei/repo/Proj_ENCODE_FCC/data/processed/fcc_enhancer_Junke_zscore_240611/decompressed/TilingMPRA_ENCSR363XER_DNA_filtering_avg_DNA_lib_count_10/neg_ctrl.pdf  \n",
      "  inflating: /data/reddylab/Kuei/repo/Proj_ENCODE_FCC/data/processed/fcc_enhancer_Junke_zscore_240611/decompressed/TilingMPRA_ENCSR363XER_DNA_filtering_avg_DNA_lib_count_10/merged_peak/merged_repressor_peaks_in_either_orientation.bed.gz  \n",
      "  inflating: /data/reddylab/Kuei/repo/Proj_ENCODE_FCC/data/processed/fcc_enhancer_Junke_zscore_240611/decompressed/TilingMPRA_ENCSR363XER_DNA_filtering_avg_DNA_lib_count_10/merged_peak/merged_enhancer_peaks_in_either_orientation.bed.gz  \n",
      "  inflating: /data/reddylab/Kuei/repo/Proj_ENCODE_FCC/data/processed/fcc_enhancer_Junke_zscore_240611/decompressed/TilingMPRA_ENCSR363XER_DNA_filtering_avg_DNA_lib_count_10/element_level/element_level_all_result.bed.gz  \n",
      "\n",
      "/data/reddylab/Kuei/repo/Proj_ENCODE_FCC/data/processed/fcc_enhancer_Junke_zscore_240611/TilingMPRA_ENCSR394HXI_DNA_filtering_avg_DNA_lib_count_10.zip\n",
      "Archive:  /data/reddylab/Kuei/repo/Proj_ENCODE_FCC/data/processed/fcc_enhancer_Junke_zscore_240611/TilingMPRA_ENCSR394HXI_DNA_filtering_avg_DNA_lib_count_10.zip\n",
      "   creating: /data/reddylab/Kuei/repo/Proj_ENCODE_FCC/data/processed/fcc_enhancer_Junke_zscore_240611/decompressed/TilingMPRA_ENCSR394HXI_DNA_filtering_avg_DNA_lib_count_10/\n",
      "  inflating: /data/reddylab/Kuei/repo/Proj_ENCODE_FCC/data/processed/fcc_enhancer_Junke_zscore_240611/decompressed/__MACOSX/._TilingMPRA_ENCSR394HXI_DNA_filtering_avg_DNA_lib_count_10  \n",
      "  inflating: /data/reddylab/Kuei/repo/Proj_ENCODE_FCC/data/processed/fcc_enhancer_Junke_zscore_240611/decompressed/TilingMPRA_ENCSR394HXI_DNA_filtering_avg_DNA_lib_count_10/neg_ctrl_region.txt  \n",
      "   creating: /data/reddylab/Kuei/repo/Proj_ENCODE_FCC/data/processed/fcc_enhancer_Junke_zscore_240611/decompressed/TilingMPRA_ENCSR394HXI_DNA_filtering_avg_DNA_lib_count_10/merged_peak/\n",
      "   creating: /data/reddylab/Kuei/repo/Proj_ENCODE_FCC/data/processed/fcc_enhancer_Junke_zscore_240611/decompressed/TilingMPRA_ENCSR394HXI_DNA_filtering_avg_DNA_lib_count_10/element_level/\n",
      "  inflating: /data/reddylab/Kuei/repo/Proj_ENCODE_FCC/data/processed/fcc_enhancer_Junke_zscore_240611/decompressed/TilingMPRA_ENCSR394HXI_DNA_filtering_avg_DNA_lib_count_10/neg_ctrl.pdf  \n",
      "  inflating: /data/reddylab/Kuei/repo/Proj_ENCODE_FCC/data/processed/fcc_enhancer_Junke_zscore_240611/decompressed/TilingMPRA_ENCSR394HXI_DNA_filtering_avg_DNA_lib_count_10/merged_peak/merged_repressor_peaks_in_either_orientation.bed.gz  \n",
      "  inflating: /data/reddylab/Kuei/repo/Proj_ENCODE_FCC/data/processed/fcc_enhancer_Junke_zscore_240611/decompressed/TilingMPRA_ENCSR394HXI_DNA_filtering_avg_DNA_lib_count_10/merged_peak/merged_enhancer_peaks_in_either_orientation.bed.gz  \n",
      "  inflating: /data/reddylab/Kuei/repo/Proj_ENCODE_FCC/data/processed/fcc_enhancer_Junke_zscore_240611/decompressed/TilingMPRA_ENCSR394HXI_DNA_filtering_avg_DNA_lib_count_10/merged_peak/merged_enhancer_peak_orientation_independent.bed.gz  \n",
      "  inflating: /data/reddylab/Kuei/repo/Proj_ENCODE_FCC/data/processed/fcc_enhancer_Junke_zscore_240611/decompressed/TilingMPRA_ENCSR394HXI_DNA_filtering_avg_DNA_lib_count_10/merged_peak/merged_repressor_peak_orientation_independent.bed.gz  \n",
      "  inflating: /data/reddylab/Kuei/repo/Proj_ENCODE_FCC/data/processed/fcc_enhancer_Junke_zscore_240611/decompressed/TilingMPRA_ENCSR394HXI_DNA_filtering_avg_DNA_lib_count_10/element_level/all_element_tested_in_both_orientations.bed.gz  \n",
      "  inflating: /data/reddylab/Kuei/repo/Proj_ENCODE_FCC/data/processed/fcc_enhancer_Junke_zscore_240611/decompressed/TilingMPRA_ENCSR394HXI_DNA_filtering_avg_DNA_lib_count_10/element_level/element_level_all_result.bed.gz  \n",
      "\n",
      "/data/reddylab/Kuei/repo/Proj_ENCODE_FCC/data/processed/fcc_enhancer_Junke_zscore_240611/TilingMPRA_ENCSR917SFD_DNA_filtering_avg_DNA_lib_count_10.zip\n",
      "Archive:  /data/reddylab/Kuei/repo/Proj_ENCODE_FCC/data/processed/fcc_enhancer_Junke_zscore_240611/TilingMPRA_ENCSR917SFD_DNA_filtering_avg_DNA_lib_count_10.zip\n",
      "   creating: /data/reddylab/Kuei/repo/Proj_ENCODE_FCC/data/processed/fcc_enhancer_Junke_zscore_240611/decompressed/TilingMPRA_ENCSR917SFD_DNA_filtering_avg_DNA_lib_count_10/\n",
      "  inflating: /data/reddylab/Kuei/repo/Proj_ENCODE_FCC/data/processed/fcc_enhancer_Junke_zscore_240611/decompressed/__MACOSX/._TilingMPRA_ENCSR917SFD_DNA_filtering_avg_DNA_lib_count_10  \n",
      "  inflating: /data/reddylab/Kuei/repo/Proj_ENCODE_FCC/data/processed/fcc_enhancer_Junke_zscore_240611/decompressed/TilingMPRA_ENCSR917SFD_DNA_filtering_avg_DNA_lib_count_10/neg_ctrl_region.txt  \n",
      "   creating: /data/reddylab/Kuei/repo/Proj_ENCODE_FCC/data/processed/fcc_enhancer_Junke_zscore_240611/decompressed/TilingMPRA_ENCSR917SFD_DNA_filtering_avg_DNA_lib_count_10/merged_peak/\n",
      "   creating: /data/reddylab/Kuei/repo/Proj_ENCODE_FCC/data/processed/fcc_enhancer_Junke_zscore_240611/decompressed/TilingMPRA_ENCSR917SFD_DNA_filtering_avg_DNA_lib_count_10/element_level/\n",
      "   creating: /data/reddylab/Kuei/repo/Proj_ENCODE_FCC/data/processed/fcc_enhancer_Junke_zscore_240611/decompressed/TilingMPRA_ENCSR917SFD_DNA_filtering_avg_DNA_lib_count_10/annotated_v4/\n",
      "  inflating: /data/reddylab/Kuei/repo/Proj_ENCODE_FCC/data/processed/fcc_enhancer_Junke_zscore_240611/decompressed/TilingMPRA_ENCSR917SFD_DNA_filtering_avg_DNA_lib_count_10/neg_ctrl.pdf  \n",
      "  inflating: /data/reddylab/Kuei/repo/Proj_ENCODE_FCC/data/processed/fcc_enhancer_Junke_zscore_240611/decompressed/TilingMPRA_ENCSR917SFD_DNA_filtering_avg_DNA_lib_count_10/merged_peak/merged_repressor_peaks_in_either_orientation.bed.gz  \n",
      "  inflating: /data/reddylab/Kuei/repo/Proj_ENCODE_FCC/data/processed/fcc_enhancer_Junke_zscore_240611/decompressed/TilingMPRA_ENCSR917SFD_DNA_filtering_avg_DNA_lib_count_10/merged_peak/merged_enhancer_peaks_in_either_orientation.bed.gz  \n",
      "  inflating: /data/reddylab/Kuei/repo/Proj_ENCODE_FCC/data/processed/fcc_enhancer_Junke_zscore_240611/decompressed/TilingMPRA_ENCSR917SFD_DNA_filtering_avg_DNA_lib_count_10/element_level/element_level_all_result.bed.gz  \n",
      "\n",
      "/data/reddylab/Kuei/repo/Proj_ENCODE_FCC/data/processed/fcc_enhancer_Junke_zscore_240611/WHG_STARR_TR.zip\n",
      "Archive:  /data/reddylab/Kuei/repo/Proj_ENCODE_FCC/data/processed/fcc_enhancer_Junke_zscore_240611/WHG_STARR_TR.zip\n",
      "   creating: /data/reddylab/Kuei/repo/Proj_ENCODE_FCC/data/processed/fcc_enhancer_Junke_zscore_240611/decompressed/WHG_STARR_TR/\n",
      "  inflating: /data/reddylab/Kuei/repo/Proj_ENCODE_FCC/data/processed/fcc_enhancer_Junke_zscore_240611/decompressed/__MACOSX/._WHG_STARR_TR  \n",
      "  inflating: /data/reddylab/Kuei/repo/Proj_ENCODE_FCC/data/processed/fcc_enhancer_Junke_zscore_240611/decompressed/WHG_STARR_TR/.DS_Store  \n",
      "  inflating: /data/reddylab/Kuei/repo/Proj_ENCODE_FCC/data/processed/fcc_enhancer_Junke_zscore_240611/decompressed/__MACOSX/WHG_STARR_TR/._.DS_Store  \n",
      "  inflating: /data/reddylab/Kuei/repo/Proj_ENCODE_FCC/data/processed/fcc_enhancer_Junke_zscore_240611/decompressed/WHG_STARR_TR/neg_ctrl_region.txt  \n",
      "   creating: /data/reddylab/Kuei/repo/Proj_ENCODE_FCC/data/processed/fcc_enhancer_Junke_zscore_240611/decompressed/WHG_STARR_TR/merged_peak/\n",
      "   creating: /data/reddylab/Kuei/repo/Proj_ENCODE_FCC/data/processed/fcc_enhancer_Junke_zscore_240611/decompressed/WHG_STARR_TR/bin_level/\n",
      "   creating: /data/reddylab/Kuei/repo/Proj_ENCODE_FCC/data/processed/fcc_enhancer_Junke_zscore_240611/decompressed/WHG_STARR_TR/.ipynb_checkpoints/\n",
      "  inflating: /data/reddylab/Kuei/repo/Proj_ENCODE_FCC/data/processed/fcc_enhancer_Junke_zscore_240611/decompressed/WHG_STARR_TR/merged_peak/merged_repressor_peaks_in_either_orientation.bed.gz  \n",
      "  inflating: /data/reddylab/Kuei/repo/Proj_ENCODE_FCC/data/processed/fcc_enhancer_Junke_zscore_240611/decompressed/WHG_STARR_TR/merged_peak/merged_enhancer_peaks_in_either_orientation.bed.gz  \n",
      "  inflating: /data/reddylab/Kuei/repo/Proj_ENCODE_FCC/data/processed/fcc_enhancer_Junke_zscore_240611/decompressed/WHG_STARR_TR/merged_peak/merged_enhancer_peak_orientation_independent.bed.gz  \n",
      "   creating: /data/reddylab/Kuei/repo/Proj_ENCODE_FCC/data/processed/fcc_enhancer_Junke_zscore_240611/decompressed/WHG_STARR_TR/merged_peak/.ipynb_checkpoints/\n",
      "  inflating: /data/reddylab/Kuei/repo/Proj_ENCODE_FCC/data/processed/fcc_enhancer_Junke_zscore_240611/decompressed/WHG_STARR_TR/bin_level/bin_level_all_result.bed.gz  \n",
      "  inflating: /data/reddylab/Kuei/repo/Proj_ENCODE_FCC/data/processed/fcc_enhancer_Junke_zscore_240611/decompressed/WHG_STARR_TR/bin_level/all_bin_tested_in_both_orientations.bed.gz  \n",
      "  inflating: /data/reddylab/Kuei/repo/Proj_ENCODE_FCC/data/processed/fcc_enhancer_Junke_zscore_240611/decompressed/WHG_STARR_TR/.ipynb_checkpoints/annotated-checkpoint.out  \n",
      "error: invalid zip file with overlapped components (possible zip bomb)\n",
      "\n"
     ]
    }
   ],
   "source": [
    "### init: input files\n",
    "FD_INP=${FD_DAT}/processed/fcc_enhancer_Junke_zscore_240611\n",
    "FP_INPS=($(ls ${FD_INP}/*zip))\n",
    "\n",
    "### init: output folder\n",
    "FD_OUT=${FD_DAT}/processed/fcc_enhancer_Junke_zscore_240611/decompressed\n",
    "rm -rf ${FD_OUT}\n",
    "\n",
    "### loop and decompress\n",
    "for FP_INP in ${FP_INPS[@]}; do\n",
    "    echo ${FP_INP}\n",
    "    unzip -o ${FP_INP} -d ${FD_OUT}\n",
    "    echo\n",
    "done\n",
    "\n",
    "### remove MAC folder\n",
    "rm -rf ${FD_OUT}/__MACOSX"
   ]
  },
  {
   "cell_type": "markdown",
   "id": "870f9873-aebe-40f1-868f-229f135bd897",
   "metadata": {},
   "source": [
    "## Review"
   ]
  },
  {
   "cell_type": "code",
   "execution_count": 4,
   "id": "e87f093e-e4d2-4b86-adfe-b468884c9664",
   "metadata": {},
   "outputs": [
    {
     "name": "stdout",
     "output_type": "stream",
     "text": [
      "\u001b[0m\u001b[38;5;27mATAC_STARR_seq_100bp_genomic_bin_in_ATAC_seq_peak_cpm_20_avg_DNA_lib_\u001b[0m\n",
      "\u001b[38;5;27meSTARR_seq\u001b[0m\n",
      "\u001b[38;5;27mLentiMPRA_DNA_filtering_avg_DNA_lib_count_10\u001b[0m\n",
      "\u001b[38;5;27mTilingMPRA_ENCSR363XER_DNA_filtering_avg_DNA_lib_count_10\u001b[0m\n",
      "\u001b[38;5;27mTilingMPRA_ENCSR394HXI_DNA_filtering_avg_DNA_lib_count_10\u001b[0m\n",
      "\u001b[38;5;27mTilingMPRA_ENCSR917SFD_DNA_filtering_avg_DNA_lib_count_10\u001b[0m\n",
      "\u001b[38;5;27mWHG_STARR_TR\u001b[0m\n"
     ]
    }
   ],
   "source": [
    "ls ${FD_OUT}"
   ]
  },
  {
   "cell_type": "code",
   "execution_count": 5,
   "id": "85e32716-9a17-4ab4-85f1-94533fd289be",
   "metadata": {},
   "outputs": [
    {
     "name": "stdout",
     "output_type": "stream",
     "text": [
      "\u001b[0m\u001b[38;5;27melement_level\u001b[0m  \u001b[38;5;27mmerged_peak\u001b[0m  neg_ctrl.pdf  neg_ctrl_region.txt\n"
     ]
    }
   ],
   "source": [
    "ls ${FD_OUT}/eSTARR_seq"
   ]
  },
  {
   "cell_type": "code",
   "execution_count": 8,
   "id": "323d2358-0132-45a6-af44-66ef63afd551",
   "metadata": {},
   "outputs": [
    {
     "name": "stdout",
     "output_type": "stream",
     "text": [
      "\u001b[0m\u001b[38;5;9mmerged_enhancer_peak_orientation_independent.bed.gz\u001b[0m\n",
      "\u001b[38;5;9mmerged_enhancer_peaks_in_either_orientation.bed.gz\u001b[0m\n",
      "\u001b[38;5;9mmerged_repressor_peak_orientation_independent.bed.gz\u001b[0m\n",
      "\u001b[38;5;9mmerged_repressor_peaks_in_either_orientation.bed.gz\u001b[0m\n"
     ]
    }
   ],
   "source": [
    "ls ${FD_OUT}/eSTARR_seq/merged_peak"
   ]
  },
  {
   "cell_type": "code",
   "execution_count": 6,
   "id": "397db879-ede6-42d7-bf9d-0bb81dcc53eb",
   "metadata": {},
   "outputs": [
    {
     "name": "stdout",
     "output_type": "stream",
     "text": [
      "\u001b[0m\u001b[38;5;27melement_level\u001b[0m  \u001b[38;5;27mmerged_peak\u001b[0m  neg_ctrl.pdf  neg_ctrl_region.txt\n"
     ]
    }
   ],
   "source": [
    "ls ${FD_OUT}/TilingMPRA_ENCSR363XER_DNA_filtering_avg_DNA_lib_count_10"
   ]
  },
  {
   "cell_type": "code",
   "execution_count": 9,
   "id": "6a8483a0-7f18-40ba-bb89-a18eef4f59be",
   "metadata": {},
   "outputs": [
    {
     "name": "stdout",
     "output_type": "stream",
     "text": [
      "\u001b[0m\u001b[38;5;9mmerged_enhancer_peaks_in_either_orientation.bed.gz\u001b[0m\n",
      "\u001b[38;5;9mmerged_repressor_peaks_in_either_orientation.bed.gz\u001b[0m\n"
     ]
    }
   ],
   "source": [
    "ls ${FD_OUT}/TilingMPRA_ENCSR363XER_DNA_filtering_avg_DNA_lib_count_10/merged_peak"
   ]
  },
  {
   "cell_type": "code",
   "execution_count": 10,
   "id": "674418e6-e016-4900-a877-c0f6e98ffa9a",
   "metadata": {},
   "outputs": [
    {
     "name": "stdout",
     "output_type": "stream",
     "text": [
      "\u001b[0m\u001b[38;5;9mmerged_enhancer_peak_orientation_independent.bed.gz\u001b[0m\n",
      "\u001b[38;5;9mmerged_enhancer_peaks_in_either_orientation.bed.gz\u001b[0m\n",
      "\u001b[38;5;9mmerged_repressor_peak_orientation_independent.bed.gz\u001b[0m\n",
      "\u001b[38;5;9mmerged_repressor_peaks_in_either_orientation.bed.gz\u001b[0m\n"
     ]
    }
   ],
   "source": [
    "ls ${FD_OUT}/ATAC_STARR_seq_100bp_genomic_bin_in_ATAC_seq_peak_cpm_20_avg_DNA_lib_/merged_peak"
   ]
  },
  {
   "cell_type": "code",
   "execution_count": null,
   "id": "5e0f5021-9ba5-4ce5-a48d-212eef2ecebb",
   "metadata": {},
   "outputs": [],
   "source": []
  }
 ],
 "metadata": {
  "kernelspec": {
   "display_name": "Bash",
   "language": "bash",
   "name": "bash"
  },
  "language_info": {
   "codemirror_mode": "shell",
   "file_extension": ".sh",
   "mimetype": "text/x-sh",
   "name": "bash"
  }
 },
 "nbformat": 4,
 "nbformat_minor": 5
}
