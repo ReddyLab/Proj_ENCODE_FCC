{
 "cells": [
  {
   "cell_type": "raw",
   "id": "4a3d5aab-0942-41cb-8dd5-6ca426461249",
   "metadata": {},
   "source": [
    "---\n",
    "title: Region annotation 11 (ASTARR MACS peaks)\n",
    "subtitle: Summarize annotations (Main)\n",
    "format:\n",
    "    html:\n",
    "        code-fold:  true\n",
    "        code-tools: true\n",
    "---"
   ]
  },
  {
   "cell_type": "markdown",
   "id": "c670bbc9-c0b2-41bf-9f20-a4ef6736e7dc",
   "metadata": {},
   "source": [
    "**Set environment**"
   ]
  },
  {
   "cell_type": "code",
   "execution_count": 1,
   "id": "b15d9254-5c01-434e-b3b3-20e9a102afad",
   "metadata": {
    "tags": []
   },
   "outputs": [
    {
     "name": "stdout",
     "output_type": "stream",
     "text": [
      "You are working on        Singularity: singularity_proj_encode_fcc \n",
      "BASE DIRECTORY (FD_BASE): /data/reddylab/Kuei \n",
      "REPO DIRECTORY (FD_REPO): /data/reddylab/Kuei/repo \n",
      "WORK DIRECTORY (FD_WORK): /data/reddylab/Kuei/work \n",
      "DATA DIRECTORY (FD_DATA): /data/reddylab/Kuei/data \n",
      "\n",
      "You are working with      ENCODE FCC \n",
      "PATH OF PROJECT (FD_PRJ): /data/reddylab/Kuei/repo/Proj_ENCODE_FCC \n",
      "PROJECT RESULTS (FD_RES): /data/reddylab/Kuei/repo/Proj_ENCODE_FCC/results \n",
      "PROJECT SCRIPTS (FD_EXE): /data/reddylab/Kuei/repo/Proj_ENCODE_FCC/scripts \n",
      "PROJECT DATA    (FD_DAT): /data/reddylab/Kuei/repo/Proj_ENCODE_FCC/data \n",
      "PROJECT NOTE    (FD_NBK): /data/reddylab/Kuei/repo/Proj_ENCODE_FCC/notebooks \n",
      "PROJECT DOCS    (FD_DOC): /data/reddylab/Kuei/repo/Proj_ENCODE_FCC/docs \n",
      "PROJECT LOG     (FD_LOG): /data/reddylab/Kuei/repo/Proj_ENCODE_FCC/log \n",
      "PROJECT REF     (FD_REF): /data/reddylab/Kuei/repo/Proj_ENCODE_FCC/references \n",
      "\n"
     ]
    }
   ],
   "source": [
    "suppressMessages(suppressWarnings(source(\"../run_config_project_sing.R\")))\n",
    "show_env()"
   ]
  },
  {
   "cell_type": "code",
   "execution_count": 2,
   "id": "75ae76a3-4137-45fa-9606-7086bd2409b3",
   "metadata": {},
   "outputs": [
    {
     "name": "stdout",
     "output_type": "stream",
     "text": [
      "[1] 7815    6\n"
     ]
    },
    {
     "data": {
      "text/html": [
       "<table>\n",
       " <thead>\n",
       "  <tr>\n",
       "   <th style=\"text-align:left;\"> Group </th>\n",
       "   <th style=\"text-align:left;\"> Feature </th>\n",
       "   <th style=\"text-align:right;\"> Stat </th>\n",
       "   <th style=\"text-align:right;\"> Pval </th>\n",
       "   <th style=\"text-align:right;\"> Score </th>\n",
       "   <th style=\"text-align:right;\"> Padj </th>\n",
       "  </tr>\n",
       " </thead>\n",
       "<tbody>\n",
       "  <tr>\n",
       "   <td style=\"text-align:left;\"> Cluster00 </td>\n",
       "   <td style=\"text-align:left;\"> H2AFZ </td>\n",
       "   <td style=\"text-align:right;\"> 33.107126 </td>\n",
       "   <td style=\"text-align:right;\"> 0 </td>\n",
       "   <td style=\"text-align:right;\"> 1.6340344 </td>\n",
       "   <td style=\"text-align:right;\"> 0 </td>\n",
       "  </tr>\n",
       "  <tr>\n",
       "   <td style=\"text-align:left;\"> Cluster00 </td>\n",
       "   <td style=\"text-align:left;\"> H3K27ac </td>\n",
       "   <td style=\"text-align:right;\"> 28.396013 </td>\n",
       "   <td style=\"text-align:right;\"> 0 </td>\n",
       "   <td style=\"text-align:right;\"> 1.3259570 </td>\n",
       "   <td style=\"text-align:right;\"> 0 </td>\n",
       "  </tr>\n",
       "  <tr>\n",
       "   <td style=\"text-align:left;\"> Cluster00 </td>\n",
       "   <td style=\"text-align:left;\"> H3K27me3 </td>\n",
       "   <td style=\"text-align:right;\"> -10.903121 </td>\n",
       "   <td style=\"text-align:right;\"> 0 </td>\n",
       "   <td style=\"text-align:right;\"> -1.2439611 </td>\n",
       "   <td style=\"text-align:right;\"> 0 </td>\n",
       "  </tr>\n",
       "  <tr>\n",
       "   <td style=\"text-align:left;\"> Cluster00 </td>\n",
       "   <td style=\"text-align:left;\"> H3K36me3 </td>\n",
       "   <td style=\"text-align:right;\"> 7.978978 </td>\n",
       "   <td style=\"text-align:right;\"> 0 </td>\n",
       "   <td style=\"text-align:right;\"> -0.0091896 </td>\n",
       "   <td style=\"text-align:right;\"> 0 </td>\n",
       "  </tr>\n",
       "  <tr>\n",
       "   <td style=\"text-align:left;\"> Cluster00 </td>\n",
       "   <td style=\"text-align:left;\"> H3K4me1 </td>\n",
       "   <td style=\"text-align:right;\"> -32.965805 </td>\n",
       "   <td style=\"text-align:right;\"> 0 </td>\n",
       "   <td style=\"text-align:right;\"> -2.6867228 </td>\n",
       "   <td style=\"text-align:right;\"> 0 </td>\n",
       "  </tr>\n",
       "  <tr>\n",
       "   <td style=\"text-align:left;\"> Cluster00 </td>\n",
       "   <td style=\"text-align:left;\"> H3K4me2 </td>\n",
       "   <td style=\"text-align:right;\"> 48.054838 </td>\n",
       "   <td style=\"text-align:right;\"> 0 </td>\n",
       "   <td style=\"text-align:right;\"> 2.6115214 </td>\n",
       "   <td style=\"text-align:right;\"> 0 </td>\n",
       "  </tr>\n",
       "</tbody>\n",
       "</table>"
      ]
     },
     "metadata": {},
     "output_type": "display_data"
    }
   ],
   "source": [
    "txt_fdiry = file.path(\n",
    "    FD_RES, \n",
    "    \"region_integration\",\n",
    "    \"fcc_astarr_macs_input_overlap\",\n",
    "    \"analysis_enrichment_v2\",\n",
    "    \"fcc_starrmpracrispri_vote2_phenograph_neighbors070\"\n",
    ")\n",
    "txt_fname = \"results.enrich.fcc_cluster_vs_others.perm_n10k.tsv\"\n",
    "txt_fpath = file.path(txt_fdiry, txt_fname)\n",
    "\n",
    "dat = read_tsv(txt_fpath, show_col_types = FALSE)\n",
    "\n",
    "dat_fit_summary_cluster_vs_others = dat\n",
    "print(dim(dat))\n",
    "fun_display_table(head(dat))"
   ]
  },
  {
   "cell_type": "code",
   "execution_count": 3,
   "id": "7d6aab85-4067-40e3-b3e0-8e258d3cc799",
   "metadata": {},
   "outputs": [
    {
     "name": "stdout",
     "output_type": "stream",
     "text": [
      "[1] 7815    6\n"
     ]
    },
    {
     "data": {
      "text/html": [
       "<table>\n",
       " <thead>\n",
       "  <tr>\n",
       "   <th style=\"text-align:left;\"> Group </th>\n",
       "   <th style=\"text-align:left;\"> Feature </th>\n",
       "   <th style=\"text-align:right;\"> Stat </th>\n",
       "   <th style=\"text-align:right;\"> Pval </th>\n",
       "   <th style=\"text-align:right;\"> Score </th>\n",
       "   <th style=\"text-align:right;\"> Padj </th>\n",
       "  </tr>\n",
       " </thead>\n",
       "<tbody>\n",
       "  <tr>\n",
       "   <td style=\"text-align:left;\"> Cluster00 </td>\n",
       "   <td style=\"text-align:left;\"> H2AFZ </td>\n",
       "   <td style=\"text-align:right;\"> 31.892005 </td>\n",
       "   <td style=\"text-align:right;\"> 0 </td>\n",
       "   <td style=\"text-align:right;\"> 1.9227697 </td>\n",
       "   <td style=\"text-align:right;\"> 0 </td>\n",
       "  </tr>\n",
       "  <tr>\n",
       "   <td style=\"text-align:left;\"> Cluster00 </td>\n",
       "   <td style=\"text-align:left;\"> H3K27ac </td>\n",
       "   <td style=\"text-align:right;\"> 35.280852 </td>\n",
       "   <td style=\"text-align:right;\"> 0 </td>\n",
       "   <td style=\"text-align:right;\"> 2.1939354 </td>\n",
       "   <td style=\"text-align:right;\"> 0 </td>\n",
       "  </tr>\n",
       "  <tr>\n",
       "   <td style=\"text-align:left;\"> Cluster00 </td>\n",
       "   <td style=\"text-align:left;\"> H3K27me3 </td>\n",
       "   <td style=\"text-align:right;\"> -8.894941 </td>\n",
       "   <td style=\"text-align:right;\"> 0 </td>\n",
       "   <td style=\"text-align:right;\"> -1.3408835 </td>\n",
       "   <td style=\"text-align:right;\"> 0 </td>\n",
       "  </tr>\n",
       "  <tr>\n",
       "   <td style=\"text-align:left;\"> Cluster00 </td>\n",
       "   <td style=\"text-align:left;\"> H3K36me3 </td>\n",
       "   <td style=\"text-align:right;\"> 5.036023 </td>\n",
       "   <td style=\"text-align:right;\"> 0 </td>\n",
       "   <td style=\"text-align:right;\"> -0.2261681 </td>\n",
       "   <td style=\"text-align:right;\"> 0 </td>\n",
       "  </tr>\n",
       "  <tr>\n",
       "   <td style=\"text-align:left;\"> Cluster00 </td>\n",
       "   <td style=\"text-align:left;\"> H3K4me1 </td>\n",
       "   <td style=\"text-align:right;\"> -26.686471 </td>\n",
       "   <td style=\"text-align:right;\"> 0 </td>\n",
       "   <td style=\"text-align:right;\"> -2.7645101 </td>\n",
       "   <td style=\"text-align:right;\"> 0 </td>\n",
       "  </tr>\n",
       "  <tr>\n",
       "   <td style=\"text-align:left;\"> Cluster00 </td>\n",
       "   <td style=\"text-align:left;\"> H3K4me2 </td>\n",
       "   <td style=\"text-align:right;\"> 43.042401 </td>\n",
       "   <td style=\"text-align:right;\"> 0 </td>\n",
       "   <td style=\"text-align:right;\"> 2.8149920 </td>\n",
       "   <td style=\"text-align:right;\"> 0 </td>\n",
       "  </tr>\n",
       "</tbody>\n",
       "</table>"
      ]
     },
     "metadata": {},
     "output_type": "display_data"
    }
   ],
   "source": [
    "txt_fdiry = file.path(\n",
    "    FD_RES, \n",
    "    \"region_integration\",\n",
    "    \"fcc_astarr_macs_input_overlap\",\n",
    "    \"analysis_enrichment_v2\",\n",
    "    \"fcc_starrmpracrispri_vote2_phenograph_neighbors070\"\n",
    ")\n",
    "txt_fname = \"results.enrich.fcc_cluster_vs_inactive.perm_n10k.tsv\"\n",
    "txt_fpath = file.path(txt_fdiry, txt_fname)\n",
    "\n",
    "dat = read_tsv(txt_fpath, show_col_types = FALSE)\n",
    "\n",
    "dat_fit_summary_cluster_vs_inactive = dat\n",
    "print(dim(dat))\n",
    "fun_display_table(head(dat))"
   ]
  },
  {
   "cell_type": "code",
   "execution_count": null,
   "id": "25b54e37-7452-4a95-816c-5e5b07808223",
   "metadata": {},
   "outputs": [],
   "source": []
  },
  {
   "cell_type": "code",
   "execution_count": null,
   "id": "601ffaa6-0e72-4e71-8035-c549e34eea16",
   "metadata": {},
   "outputs": [],
   "source": []
  },
  {
   "cell_type": "code",
   "execution_count": 5,
   "id": "2b911bbb-ccbf-4267-9e42-01a3c212be10",
   "metadata": {},
   "outputs": [
    {
     "data": {
      "text/html": [
       "<style>\n",
       ".list-inline {list-style: none; margin:0; padding: 0}\n",
       ".list-inline>li {display: inline-block}\n",
       ".list-inline>li:not(:last-child)::after {content: \"\\00b7\"; padding: 0 .5ex}\n",
       "</style>\n",
       "<ol class=list-inline><li>1</li><li>3</li><li>2</li><li>4</li></ol>\n"
      ],
      "text/latex": [
       "\\begin{enumerate*}\n",
       "\\item 1\n",
       "\\item 3\n",
       "\\item 2\n",
       "\\item 4\n",
       "\\end{enumerate*}\n"
      ],
      "text/markdown": [
       "1. 1\n",
       "2. 3\n",
       "3. 2\n",
       "4. 4\n",
       "\n",
       "\n"
      ],
      "text/plain": [
       "[1] 1 3 2 4"
      ]
     },
     "metadata": {},
     "output_type": "display_data"
    }
   ],
   "source": [
    "rank(-c(10, 2, 5, 1))"
   ]
  },
  {
   "cell_type": "code",
   "execution_count": 7,
   "id": "3aed0c6e-0e9e-45a2-9d9b-65dc2996419f",
   "metadata": {},
   "outputs": [
    {
     "data": {
      "text/html": [
       "<table class=\"dataframe\">\n",
       "<caption>A tibble: 6 × 7</caption>\n",
       "<thead>\n",
       "\t<tr><th scope=col>Group</th><th scope=col>Feature</th><th scope=col>Stat</th><th scope=col>Pval</th><th scope=col>Score</th><th scope=col>Padj</th><th scope=col>Rank</th></tr>\n",
       "\t<tr><th scope=col>&lt;chr&gt;</th><th scope=col>&lt;chr&gt;</th><th scope=col>&lt;dbl&gt;</th><th scope=col>&lt;dbl&gt;</th><th scope=col>&lt;dbl&gt;</th><th scope=col>&lt;dbl&gt;</th><th scope=col>&lt;dbl&gt;</th></tr>\n",
       "</thead>\n",
       "<tbody>\n",
       "\t<tr><td>Cluster00</td><td>H2AFZ   </td><td>33.10713</td><td>0</td><td>1.634034</td><td>0</td><td>28</td></tr>\n",
       "\t<tr><td>Cluster00</td><td>H3K27ac </td><td>28.39601</td><td>0</td><td>1.325957</td><td>0</td><td>44</td></tr>\n",
       "\t<tr><td>Cluster00</td><td>H3K4me2 </td><td>48.05484</td><td>0</td><td>2.611521</td><td>0</td><td> 4</td></tr>\n",
       "\t<tr><td>Cluster00</td><td>H3K4me3 </td><td>54.45405</td><td>0</td><td>3.029990</td><td>0</td><td> 1</td></tr>\n",
       "\t<tr><td>Cluster00</td><td>H3K79me2</td><td>41.74898</td><td>0</td><td>2.199158</td><td>0</td><td>14</td></tr>\n",
       "\t<tr><td>Cluster00</td><td>H3K9ac  </td><td>50.07075</td><td>0</td><td>2.743350</td><td>0</td><td> 3</td></tr>\n",
       "</tbody>\n",
       "</table>\n"
      ],
      "text/latex": [
       "A tibble: 6 × 7\n",
       "\\begin{tabular}{lllllll}\n",
       " Group & Feature & Stat & Pval & Score & Padj & Rank\\\\\n",
       " <chr> & <chr> & <dbl> & <dbl> & <dbl> & <dbl> & <dbl>\\\\\n",
       "\\hline\n",
       "\t Cluster00 & H2AFZ    & 33.10713 & 0 & 1.634034 & 0 & 28\\\\\n",
       "\t Cluster00 & H3K27ac  & 28.39601 & 0 & 1.325957 & 0 & 44\\\\\n",
       "\t Cluster00 & H3K4me2  & 48.05484 & 0 & 2.611521 & 0 &  4\\\\\n",
       "\t Cluster00 & H3K4me3  & 54.45405 & 0 & 3.029990 & 0 &  1\\\\\n",
       "\t Cluster00 & H3K79me2 & 41.74898 & 0 & 2.199158 & 0 & 14\\\\\n",
       "\t Cluster00 & H3K9ac   & 50.07075 & 0 & 2.743350 & 0 &  3\\\\\n",
       "\\end{tabular}\n"
      ],
      "text/markdown": [
       "\n",
       "A tibble: 6 × 7\n",
       "\n",
       "| Group &lt;chr&gt; | Feature &lt;chr&gt; | Stat &lt;dbl&gt; | Pval &lt;dbl&gt; | Score &lt;dbl&gt; | Padj &lt;dbl&gt; | Rank &lt;dbl&gt; |\n",
       "|---|---|---|---|---|---|---|\n",
       "| Cluster00 | H2AFZ    | 33.10713 | 0 | 1.634034 | 0 | 28 |\n",
       "| Cluster00 | H3K27ac  | 28.39601 | 0 | 1.325957 | 0 | 44 |\n",
       "| Cluster00 | H3K4me2  | 48.05484 | 0 | 2.611521 | 0 |  4 |\n",
       "| Cluster00 | H3K4me3  | 54.45405 | 0 | 3.029990 | 0 |  1 |\n",
       "| Cluster00 | H3K79me2 | 41.74898 | 0 | 2.199158 | 0 | 14 |\n",
       "| Cluster00 | H3K9ac   | 50.07075 | 0 | 2.743350 | 0 |  3 |\n",
       "\n"
      ],
      "text/plain": [
       "  Group     Feature  Stat     Pval Score    Padj Rank\n",
       "1 Cluster00 H2AFZ    33.10713 0    1.634034 0    28  \n",
       "2 Cluster00 H3K27ac  28.39601 0    1.325957 0    44  \n",
       "3 Cluster00 H3K4me2  48.05484 0    2.611521 0     4  \n",
       "4 Cluster00 H3K4me3  54.45405 0    3.029990 0     1  \n",
       "5 Cluster00 H3K79me2 41.74898 0    2.199158 0    14  \n",
       "6 Cluster00 H3K9ac   50.07075 0    2.743350 0     3  "
      ]
     },
     "metadata": {},
     "output_type": "display_data"
    }
   ],
   "source": [
    "dat = dat_fit_summary_cluster_vs_others\n",
    "dat = dat %>% \n",
    "    dplyr::group_by(Group) %>% \n",
    "    dplyr::mutate(Rank = rank(-Score)) %>%\n",
    "    dplyr::ungroup() %>%\n",
    "    dplyr::filter(Rank <= 50)\n",
    "head(dat)"
   ]
  },
  {
   "cell_type": "code",
   "execution_count": 10,
   "id": "43678b00-350c-411c-ade7-d69ed9ea2a04",
   "metadata": {},
   "outputs": [
    {
     "name": "stdout",
     "output_type": "stream",
     "text": [
      "[1] 50 16\n"
     ]
    },
    {
     "data": {
      "text/html": [
       "<table class=\"dataframe\">\n",
       "<caption>A tibble: 6 × 16</caption>\n",
       "<thead>\n",
       "\t<tr><th scope=col>Rank</th><th scope=col>Cluster00</th><th scope=col>Cluster01</th><th scope=col>Cluster02</th><th scope=col>Cluster03</th><th scope=col>Cluster04</th><th scope=col>Cluster05</th><th scope=col>Cluster06</th><th scope=col>Cluster07</th><th scope=col>Cluster08</th><th scope=col>Cluster09</th><th scope=col>Cluster10</th><th scope=col>Cluster11</th><th scope=col>Cluster12</th><th scope=col>Cluster13</th><th scope=col>Cluster14</th></tr>\n",
       "\t<tr><th scope=col>&lt;dbl&gt;</th><th scope=col>&lt;chr&gt;</th><th scope=col>&lt;chr&gt;</th><th scope=col>&lt;chr&gt;</th><th scope=col>&lt;chr&gt;</th><th scope=col>&lt;chr&gt;</th><th scope=col>&lt;chr&gt;</th><th scope=col>&lt;chr&gt;</th><th scope=col>&lt;chr&gt;</th><th scope=col>&lt;chr&gt;</th><th scope=col>&lt;chr&gt;</th><th scope=col>&lt;chr&gt;</th><th scope=col>&lt;chr&gt;</th><th scope=col>&lt;chr&gt;</th><th scope=col>&lt;chr&gt;</th><th scope=col>&lt;chr&gt;</th></tr>\n",
       "</thead>\n",
       "<tbody>\n",
       "\t<tr><td>1</td><td>H3K4me3</td><td>HDGF   </td><td>CBFA2T3</td><td>JUNB   </td><td>MCM3    </td><td>H3K4me1</td><td>CTCF </td><td>MAFG    </td><td>ATF4  </td><td>ZNF281</td><td>POLR2AphosphoS2</td><td>PKNOX1</td><td>REST  </td><td>RAD51</td><td>PRDM10</td></tr>\n",
       "\t<tr><td>2</td><td>PHF8   </td><td>H3K4me1</td><td>TAL1   </td><td>FOSL1  </td><td>H3K27me3</td><td>H2AFZ  </td><td>RAD21</td><td>NFE2    </td><td>CEBPG </td><td>ZNF148</td><td>H3K36me3       </td><td>PBX2  </td><td>MIER1 </td><td>USF2 </td><td>TCF7L2</td></tr>\n",
       "\t<tr><td>3</td><td>H3K9ac </td><td>ZNF592 </td><td>TCF3   </td><td>H3K4me1</td><td>MCM5    </td><td>RNF2   </td><td>SMC3 </td><td>C11orf30</td><td>IRF9  </td><td>FOXA3 </td><td>SUPT5H         </td><td>NFYA  </td><td>EHMT2 </td><td>TFE3 </td><td>ATF7  </td></tr>\n",
       "\t<tr><td>4</td><td>H3K4me2</td><td>NR4A1  </td><td>TCF12  </td><td>JUND   </td><td>MCM7    </td><td>E2F6   </td><td>STAG1</td><td>MAFF    </td><td>ZNF175</td><td>NFRKB </td><td>RBM22          </td><td>RBM25 </td><td>PRMT5 </td><td>MITF </td><td>FOXK2 </td></tr>\n",
       "\t<tr><td>5</td><td>RBFOX2 </td><td>RELA   </td><td>CBFA2T2</td><td>HDGF   </td><td>MCM2    </td><td>MBD1   </td><td>CTCFL</td><td>MAFK    </td><td>CEBPB </td><td>FOXK2 </td><td>POLR2B         </td><td>DDX20 </td><td>ZNF511</td><td>USF1 </td><td>NONO  </td></tr>\n",
       "\t<tr><td>6</td><td>SUPT5H </td><td>SMARCA5</td><td>ARID1B </td><td>RAD51  </td><td>ZC3H4   </td><td>H3K4me2</td><td>ARID2</td><td>ZNF316  </td><td>ZNF589</td><td>TAF9B </td><td>POLR2AphosphoS5</td><td>ASH1L </td><td>HDAC2 </td><td>TOE1 </td><td>MBD2  </td></tr>\n",
       "</tbody>\n",
       "</table>\n"
      ],
      "text/latex": [
       "A tibble: 6 × 16\n",
       "\\begin{tabular}{llllllllllllllll}\n",
       " Rank & Cluster00 & Cluster01 & Cluster02 & Cluster03 & Cluster04 & Cluster05 & Cluster06 & Cluster07 & Cluster08 & Cluster09 & Cluster10 & Cluster11 & Cluster12 & Cluster13 & Cluster14\\\\\n",
       " <dbl> & <chr> & <chr> & <chr> & <chr> & <chr> & <chr> & <chr> & <chr> & <chr> & <chr> & <chr> & <chr> & <chr> & <chr> & <chr>\\\\\n",
       "\\hline\n",
       "\t 1 & H3K4me3 & HDGF    & CBFA2T3 & JUNB    & MCM3     & H3K4me1 & CTCF  & MAFG     & ATF4   & ZNF281 & POLR2AphosphoS2 & PKNOX1 & REST   & RAD51 & PRDM10\\\\\n",
       "\t 2 & PHF8    & H3K4me1 & TAL1    & FOSL1   & H3K27me3 & H2AFZ   & RAD21 & NFE2     & CEBPG  & ZNF148 & H3K36me3        & PBX2   & MIER1  & USF2  & TCF7L2\\\\\n",
       "\t 3 & H3K9ac  & ZNF592  & TCF3    & H3K4me1 & MCM5     & RNF2    & SMC3  & C11orf30 & IRF9   & FOXA3  & SUPT5H          & NFYA   & EHMT2  & TFE3  & ATF7  \\\\\n",
       "\t 4 & H3K4me2 & NR4A1   & TCF12   & JUND    & MCM7     & E2F6    & STAG1 & MAFF     & ZNF175 & NFRKB  & RBM22           & RBM25  & PRMT5  & MITF  & FOXK2 \\\\\n",
       "\t 5 & RBFOX2  & RELA    & CBFA2T2 & HDGF    & MCM2     & MBD1    & CTCFL & MAFK     & CEBPB  & FOXK2  & POLR2B          & DDX20  & ZNF511 & USF1  & NONO  \\\\\n",
       "\t 6 & SUPT5H  & SMARCA5 & ARID1B  & RAD51   & ZC3H4    & H3K4me2 & ARID2 & ZNF316   & ZNF589 & TAF9B  & POLR2AphosphoS5 & ASH1L  & HDAC2  & TOE1  & MBD2  \\\\\n",
       "\\end{tabular}\n"
      ],
      "text/markdown": [
       "\n",
       "A tibble: 6 × 16\n",
       "\n",
       "| Rank &lt;dbl&gt; | Cluster00 &lt;chr&gt; | Cluster01 &lt;chr&gt; | Cluster02 &lt;chr&gt; | Cluster03 &lt;chr&gt; | Cluster04 &lt;chr&gt; | Cluster05 &lt;chr&gt; | Cluster06 &lt;chr&gt; | Cluster07 &lt;chr&gt; | Cluster08 &lt;chr&gt; | Cluster09 &lt;chr&gt; | Cluster10 &lt;chr&gt; | Cluster11 &lt;chr&gt; | Cluster12 &lt;chr&gt; | Cluster13 &lt;chr&gt; | Cluster14 &lt;chr&gt; |\n",
       "|---|---|---|---|---|---|---|---|---|---|---|---|---|---|---|---|\n",
       "| 1 | H3K4me3 | HDGF    | CBFA2T3 | JUNB    | MCM3     | H3K4me1 | CTCF  | MAFG     | ATF4   | ZNF281 | POLR2AphosphoS2 | PKNOX1 | REST   | RAD51 | PRDM10 |\n",
       "| 2 | PHF8    | H3K4me1 | TAL1    | FOSL1   | H3K27me3 | H2AFZ   | RAD21 | NFE2     | CEBPG  | ZNF148 | H3K36me3        | PBX2   | MIER1  | USF2  | TCF7L2 |\n",
       "| 3 | H3K9ac  | ZNF592  | TCF3    | H3K4me1 | MCM5     | RNF2    | SMC3  | C11orf30 | IRF9   | FOXA3  | SUPT5H          | NFYA   | EHMT2  | TFE3  | ATF7   |\n",
       "| 4 | H3K4me2 | NR4A1   | TCF12   | JUND    | MCM7     | E2F6    | STAG1 | MAFF     | ZNF175 | NFRKB  | RBM22           | RBM25  | PRMT5  | MITF  | FOXK2  |\n",
       "| 5 | RBFOX2  | RELA    | CBFA2T2 | HDGF    | MCM2     | MBD1    | CTCFL | MAFK     | CEBPB  | FOXK2  | POLR2B          | DDX20  | ZNF511 | USF1  | NONO   |\n",
       "| 6 | SUPT5H  | SMARCA5 | ARID1B  | RAD51   | ZC3H4    | H3K4me2 | ARID2 | ZNF316   | ZNF589 | TAF9B  | POLR2AphosphoS5 | ASH1L  | HDAC2  | TOE1  | MBD2   |\n",
       "\n"
      ],
      "text/plain": [
       "  Rank Cluster00 Cluster01 Cluster02 Cluster03 Cluster04 Cluster05 Cluster06\n",
       "1 1    H3K4me3   HDGF      CBFA2T3   JUNB      MCM3      H3K4me1   CTCF     \n",
       "2 2    PHF8      H3K4me1   TAL1      FOSL1     H3K27me3  H2AFZ     RAD21    \n",
       "3 3    H3K9ac    ZNF592    TCF3      H3K4me1   MCM5      RNF2      SMC3     \n",
       "4 4    H3K4me2   NR4A1     TCF12     JUND      MCM7      E2F6      STAG1    \n",
       "5 5    RBFOX2    RELA      CBFA2T2   HDGF      MCM2      MBD1      CTCFL    \n",
       "6 6    SUPT5H    SMARCA5   ARID1B    RAD51     ZC3H4     H3K4me2   ARID2    \n",
       "  Cluster07 Cluster08 Cluster09 Cluster10       Cluster11 Cluster12 Cluster13\n",
       "1 MAFG      ATF4      ZNF281    POLR2AphosphoS2 PKNOX1    REST      RAD51    \n",
       "2 NFE2      CEBPG     ZNF148    H3K36me3        PBX2      MIER1     USF2     \n",
       "3 C11orf30  IRF9      FOXA3     SUPT5H          NFYA      EHMT2     TFE3     \n",
       "4 MAFF      ZNF175    NFRKB     RBM22           RBM25     PRMT5     MITF     \n",
       "5 MAFK      CEBPB     FOXK2     POLR2B          DDX20     ZNF511    USF1     \n",
       "6 ZNF316    ZNF589    TAF9B     POLR2AphosphoS5 ASH1L     HDAC2     TOE1     \n",
       "  Cluster14\n",
       "1 PRDM10   \n",
       "2 TCF7L2   \n",
       "3 ATF7     \n",
       "4 FOXK2    \n",
       "5 NONO     \n",
       "6 MBD2     "
      ]
     },
     "metadata": {},
     "output_type": "display_data"
    }
   ],
   "source": [
    "dat = dat_fit_summary_cluster_vs_others\n",
    "dat = dat %>% \n",
    "    dplyr::group_by(Group) %>% \n",
    "    dplyr::mutate(Rank = rank(-Score)) %>%\n",
    "    dplyr::ungroup() %>%\n",
    "    dplyr::filter(Rank <= 50)\n",
    "dat = dat %>% \n",
    "    dplyr::select(Group, Feature, Rank) %>% \n",
    "    tidyr::spread(Group, Feature)\n",
    "\n",
    "dat_fit_table_cluster_vs_others = dat\n",
    "print(dim(dat))\n",
    "head(dat)"
   ]
  },
  {
   "cell_type": "code",
   "execution_count": 11,
   "id": "9a9309b4-3a26-4436-9653-2505f9f41870",
   "metadata": {},
   "outputs": [
    {
     "name": "stdout",
     "output_type": "stream",
     "text": [
      "[1] 50 16\n"
     ]
    },
    {
     "data": {
      "text/html": [
       "<table class=\"dataframe\">\n",
       "<caption>A tibble: 6 × 16</caption>\n",
       "<thead>\n",
       "\t<tr><th scope=col>Rank</th><th scope=col>Cluster00</th><th scope=col>Cluster01</th><th scope=col>Cluster02</th><th scope=col>Cluster03</th><th scope=col>Cluster04</th><th scope=col>Cluster05</th><th scope=col>Cluster06</th><th scope=col>Cluster07</th><th scope=col>Cluster08</th><th scope=col>Cluster09</th><th scope=col>Cluster10</th><th scope=col>Cluster11</th><th scope=col>Cluster12</th><th scope=col>Cluster13</th><th scope=col>Cluster14</th></tr>\n",
       "\t<tr><th scope=col>&lt;dbl&gt;</th><th scope=col>&lt;chr&gt;</th><th scope=col>&lt;chr&gt;</th><th scope=col>&lt;chr&gt;</th><th scope=col>&lt;chr&gt;</th><th scope=col>&lt;chr&gt;</th><th scope=col>&lt;chr&gt;</th><th scope=col>&lt;chr&gt;</th><th scope=col>&lt;chr&gt;</th><th scope=col>&lt;chr&gt;</th><th scope=col>&lt;chr&gt;</th><th scope=col>&lt;chr&gt;</th><th scope=col>&lt;chr&gt;</th><th scope=col>&lt;chr&gt;</th><th scope=col>&lt;chr&gt;</th><th scope=col>&lt;chr&gt;</th></tr>\n",
       "</thead>\n",
       "<tbody>\n",
       "\t<tr><td>1</td><td>H3K9ac </td><td>JUND  </td><td>ARID1B </td><td>JUND </td><td>H2AFZ  </td><td>H2AFZ  </td><td>CTCF </td><td>MAFG    </td><td>ATF4  </td><td>ZNF281 </td><td>POLR2AphosphoS2</td><td>PKNOX1</td><td>REST  </td><td>RAD51</td><td>PRDM10</td></tr>\n",
       "\t<tr><td>2</td><td>H3K4me3</td><td>ZNF175</td><td>TCF3   </td><td>ATF3 </td><td>YY1    </td><td>H3K4me2</td><td>RAD21</td><td>NFE2    </td><td>CEBPG </td><td>ZNF148 </td><td>SUPT5H         </td><td>PBX2  </td><td>MIER1 </td><td>USF2 </td><td>TCF7L2</td></tr>\n",
       "\t<tr><td>3</td><td>PHF8   </td><td>KLF6  </td><td>EP300  </td><td>FOSL1</td><td>CBX3   </td><td>H3K4me3</td><td>SMC3 </td><td>C11orf30</td><td>ZNF175</td><td>NFRKB  </td><td>POLR2B         </td><td>NFYA  </td><td>EHMT2 </td><td>TFE3 </td><td>ATF7  </td></tr>\n",
       "\t<tr><td>4</td><td>H3K4me2</td><td>ZNF589</td><td>CBFA2T3</td><td>JUNB </td><td>H3K4me2</td><td>E2F6   </td><td>CTCFL</td><td>MAFF    </td><td>ZNF589</td><td>FOXA3  </td><td>H3K36me3       </td><td>RBM25 </td><td>ZNF766</td><td>MITF </td><td>FOXK2 </td></tr>\n",
       "\t<tr><td>5</td><td>GABPB1 </td><td>NR4A1 </td><td>TAL1   </td><td>ATF7 </td><td>H3K9me3</td><td>L3MBTL2</td><td>STAG1</td><td>MAFK    </td><td>IRF9  </td><td>H2AFZ  </td><td>POLR2AphosphoS5</td><td>DDX20 </td><td>PRMT5 </td><td>USF1 </td><td>MBD2  </td></tr>\n",
       "\t<tr><td>6</td><td>HCFC1  </td><td>ZNF281</td><td>DPF2   </td><td>JUN  </td><td>ZNF148 </td><td>CBX5   </td><td>XRCC5</td><td>ZNF316  </td><td>ZNF281</td><td>H3K4me3</td><td>RBM22          </td><td>ASH1L </td><td>ZNF197</td><td>TOE1 </td><td>NONO  </td></tr>\n",
       "</tbody>\n",
       "</table>\n"
      ],
      "text/latex": [
       "A tibble: 6 × 16\n",
       "\\begin{tabular}{llllllllllllllll}\n",
       " Rank & Cluster00 & Cluster01 & Cluster02 & Cluster03 & Cluster04 & Cluster05 & Cluster06 & Cluster07 & Cluster08 & Cluster09 & Cluster10 & Cluster11 & Cluster12 & Cluster13 & Cluster14\\\\\n",
       " <dbl> & <chr> & <chr> & <chr> & <chr> & <chr> & <chr> & <chr> & <chr> & <chr> & <chr> & <chr> & <chr> & <chr> & <chr> & <chr>\\\\\n",
       "\\hline\n",
       "\t 1 & H3K9ac  & JUND   & ARID1B  & JUND  & H2AFZ   & H2AFZ   & CTCF  & MAFG     & ATF4   & ZNF281  & POLR2AphosphoS2 & PKNOX1 & REST   & RAD51 & PRDM10\\\\\n",
       "\t 2 & H3K4me3 & ZNF175 & TCF3    & ATF3  & YY1     & H3K4me2 & RAD21 & NFE2     & CEBPG  & ZNF148  & SUPT5H          & PBX2   & MIER1  & USF2  & TCF7L2\\\\\n",
       "\t 3 & PHF8    & KLF6   & EP300   & FOSL1 & CBX3    & H3K4me3 & SMC3  & C11orf30 & ZNF175 & NFRKB   & POLR2B          & NFYA   & EHMT2  & TFE3  & ATF7  \\\\\n",
       "\t 4 & H3K4me2 & ZNF589 & CBFA2T3 & JUNB  & H3K4me2 & E2F6    & CTCFL & MAFF     & ZNF589 & FOXA3   & H3K36me3        & RBM25  & ZNF766 & MITF  & FOXK2 \\\\\n",
       "\t 5 & GABPB1  & NR4A1  & TAL1    & ATF7  & H3K9me3 & L3MBTL2 & STAG1 & MAFK     & IRF9   & H2AFZ   & POLR2AphosphoS5 & DDX20  & PRMT5  & USF1  & MBD2  \\\\\n",
       "\t 6 & HCFC1   & ZNF281 & DPF2    & JUN   & ZNF148  & CBX5    & XRCC5 & ZNF316   & ZNF281 & H3K4me3 & RBM22           & ASH1L  & ZNF197 & TOE1  & NONO  \\\\\n",
       "\\end{tabular}\n"
      ],
      "text/markdown": [
       "\n",
       "A tibble: 6 × 16\n",
       "\n",
       "| Rank &lt;dbl&gt; | Cluster00 &lt;chr&gt; | Cluster01 &lt;chr&gt; | Cluster02 &lt;chr&gt; | Cluster03 &lt;chr&gt; | Cluster04 &lt;chr&gt; | Cluster05 &lt;chr&gt; | Cluster06 &lt;chr&gt; | Cluster07 &lt;chr&gt; | Cluster08 &lt;chr&gt; | Cluster09 &lt;chr&gt; | Cluster10 &lt;chr&gt; | Cluster11 &lt;chr&gt; | Cluster12 &lt;chr&gt; | Cluster13 &lt;chr&gt; | Cluster14 &lt;chr&gt; |\n",
       "|---|---|---|---|---|---|---|---|---|---|---|---|---|---|---|---|\n",
       "| 1 | H3K9ac  | JUND   | ARID1B  | JUND  | H2AFZ   | H2AFZ   | CTCF  | MAFG     | ATF4   | ZNF281  | POLR2AphosphoS2 | PKNOX1 | REST   | RAD51 | PRDM10 |\n",
       "| 2 | H3K4me3 | ZNF175 | TCF3    | ATF3  | YY1     | H3K4me2 | RAD21 | NFE2     | CEBPG  | ZNF148  | SUPT5H          | PBX2   | MIER1  | USF2  | TCF7L2 |\n",
       "| 3 | PHF8    | KLF6   | EP300   | FOSL1 | CBX3    | H3K4me3 | SMC3  | C11orf30 | ZNF175 | NFRKB   | POLR2B          | NFYA   | EHMT2  | TFE3  | ATF7   |\n",
       "| 4 | H3K4me2 | ZNF589 | CBFA2T3 | JUNB  | H3K4me2 | E2F6    | CTCFL | MAFF     | ZNF589 | FOXA3   | H3K36me3        | RBM25  | ZNF766 | MITF  | FOXK2  |\n",
       "| 5 | GABPB1  | NR4A1  | TAL1    | ATF7  | H3K9me3 | L3MBTL2 | STAG1 | MAFK     | IRF9   | H2AFZ   | POLR2AphosphoS5 | DDX20  | PRMT5  | USF1  | MBD2   |\n",
       "| 6 | HCFC1   | ZNF281 | DPF2    | JUN   | ZNF148  | CBX5    | XRCC5 | ZNF316   | ZNF281 | H3K4me3 | RBM22           | ASH1L  | ZNF197 | TOE1  | NONO   |\n",
       "\n"
      ],
      "text/plain": [
       "  Rank Cluster00 Cluster01 Cluster02 Cluster03 Cluster04 Cluster05 Cluster06\n",
       "1 1    H3K9ac    JUND      ARID1B    JUND      H2AFZ     H2AFZ     CTCF     \n",
       "2 2    H3K4me3   ZNF175    TCF3      ATF3      YY1       H3K4me2   RAD21    \n",
       "3 3    PHF8      KLF6      EP300     FOSL1     CBX3      H3K4me3   SMC3     \n",
       "4 4    H3K4me2   ZNF589    CBFA2T3   JUNB      H3K4me2   E2F6      CTCFL    \n",
       "5 5    GABPB1    NR4A1     TAL1      ATF7      H3K9me3   L3MBTL2   STAG1    \n",
       "6 6    HCFC1     ZNF281    DPF2      JUN       ZNF148    CBX5      XRCC5    \n",
       "  Cluster07 Cluster08 Cluster09 Cluster10       Cluster11 Cluster12 Cluster13\n",
       "1 MAFG      ATF4      ZNF281    POLR2AphosphoS2 PKNOX1    REST      RAD51    \n",
       "2 NFE2      CEBPG     ZNF148    SUPT5H          PBX2      MIER1     USF2     \n",
       "3 C11orf30  ZNF175    NFRKB     POLR2B          NFYA      EHMT2     TFE3     \n",
       "4 MAFF      ZNF589    FOXA3     H3K36me3        RBM25     ZNF766    MITF     \n",
       "5 MAFK      IRF9      H2AFZ     POLR2AphosphoS5 DDX20     PRMT5     USF1     \n",
       "6 ZNF316    ZNF281    H3K4me3   RBM22           ASH1L     ZNF197    TOE1     \n",
       "  Cluster14\n",
       "1 PRDM10   \n",
       "2 TCF7L2   \n",
       "3 ATF7     \n",
       "4 FOXK2    \n",
       "5 MBD2     \n",
       "6 NONO     "
      ]
     },
     "metadata": {},
     "output_type": "display_data"
    }
   ],
   "source": [
    "dat = dat_fit_summary_cluster_vs_inactive\n",
    "dat = dat %>% \n",
    "    dplyr::group_by(Group) %>% \n",
    "    dplyr::mutate(Rank = rank(-Score)) %>%\n",
    "    dplyr::ungroup() %>%\n",
    "    dplyr::filter(Rank <= 50)\n",
    "dat = dat %>% \n",
    "    dplyr::select(Group, Feature, Rank) %>% \n",
    "    tidyr::spread(Group, Feature)\n",
    "\n",
    "dat_fit_table_cluster_vs_inactive = dat\n",
    "print(dim(dat))\n",
    "head(dat)"
   ]
  },
  {
   "cell_type": "code",
   "execution_count": null,
   "id": "eb6c0d1e-62a6-4eb3-a229-24f904b0d92e",
   "metadata": {},
   "outputs": [],
   "source": []
  },
  {
   "cell_type": "code",
   "execution_count": null,
   "id": "1d36139e-2ec4-4091-be0d-e4213d8f2550",
   "metadata": {},
   "outputs": [],
   "source": []
  },
  {
   "cell_type": "code",
   "execution_count": null,
   "id": "82282d5c-30e7-485d-87ba-b7d947b0459f",
   "metadata": {},
   "outputs": [],
   "source": []
  },
  {
   "cell_type": "code",
   "execution_count": 12,
   "id": "d63fb666-9e53-4683-9f72-f262579205f4",
   "metadata": {},
   "outputs": [],
   "source": [
    "txt_fdiry = file.path(\n",
    "    FD_RES, \n",
    "    \"region_integration\",\n",
    "    \"fcc_astarr_macs_input_overlap\",\n",
    "    \"analysis_enrichment_v2\",\n",
    "    \"fcc_starrmpracrispri_vote2_phenograph_neighbors070\"\n",
    ")\n",
    "txt_fname = \"results.top_tfs.fcc_cluster_vs_others.perm_n10k.tsv\"\n",
    "txt_fpath = file.path(txt_fdiry, txt_fname)\n",
    "\n",
    "dat = dat_fit_table_cluster_vs_others\n",
    "write_tsv(dat, txt_fpath)"
   ]
  },
  {
   "cell_type": "code",
   "execution_count": 13,
   "id": "69fab7ba-c5bf-43a3-b542-4ce4b87c3263",
   "metadata": {},
   "outputs": [],
   "source": [
    "txt_fdiry = file.path(\n",
    "    FD_RES, \n",
    "    \"region_integration\",\n",
    "    \"fcc_astarr_macs_input_overlap\",\n",
    "    \"analysis_enrichment_v2\",\n",
    "    \"fcc_starrmpracrispri_vote2_phenograph_neighbors070\"\n",
    ")\n",
    "txt_fname = \"results.top_tfs.fcc_cluster_vs_inactive.perm_n10k.tsv\"\n",
    "txt_fpath = file.path(txt_fdiry, txt_fname)\n",
    "\n",
    "dat = dat_fit_table_cluster_vs_inactive\n",
    "write_tsv(dat, txt_fpath)"
   ]
  },
  {
   "cell_type": "code",
   "execution_count": null,
   "id": "d6cc9bba-0de0-4bb3-b562-256db90648de",
   "metadata": {},
   "outputs": [],
   "source": []
  }
 ],
 "metadata": {
  "kernelspec": {
   "display_name": "R",
   "language": "R",
   "name": "ir"
  },
  "language_info": {
   "codemirror_mode": "r",
   "file_extension": ".r",
   "mimetype": "text/x-r-source",
   "name": "R",
   "pygments_lexer": "r",
   "version": "4.4.2"
  }
 },
 "nbformat": 4,
 "nbformat_minor": 5
}
