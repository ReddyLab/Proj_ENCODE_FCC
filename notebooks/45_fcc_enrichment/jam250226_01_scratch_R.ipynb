{
 "cells": [
  {
   "cell_type": "raw",
   "id": "a9ccc91e-2725-4550-98c4-2e1f3391ec75",
   "metadata": {},
   "source": [
    "---\n",
    "title: Region annotation 11 (ASTARR MACS peaks)\n",
    "subtitle: Summarize annotations (Main)\n",
    "format:\n",
    "    html:\n",
    "        code-fold:  true\n",
    "        code-tools: true\n",
    "---"
   ]
  },
  {
   "cell_type": "markdown",
   "id": "f51691fa-d765-48c1-bbca-49be5a6b2cf7",
   "metadata": {},
   "source": [
    "**Set environment**"
   ]
  },
  {
   "cell_type": "code",
   "execution_count": 1,
   "id": "9bc8b592-91ef-4003-9061-5b4316a210b9",
   "metadata": {
    "tags": []
   },
   "outputs": [
    {
     "name": "stdout",
     "output_type": "stream",
     "text": [
      "You are working on        Singularity: singularity_proj_encode_fcc \n",
      "BASE DIRECTORY (FD_BASE): /data/reddylab/Kuei \n",
      "REPO DIRECTORY (FD_REPO): /data/reddylab/Kuei/repo \n",
      "WORK DIRECTORY (FD_WORK): /data/reddylab/Kuei/work \n",
      "DATA DIRECTORY (FD_DATA): /data/reddylab/Kuei/data \n",
      "\n",
      "You are working with      ENCODE FCC \n",
      "PATH OF PROJECT (FD_PRJ): /data/reddylab/Kuei/repo/Proj_ENCODE_FCC \n",
      "PROJECT RESULTS (FD_RES): /data/reddylab/Kuei/repo/Proj_ENCODE_FCC/results \n",
      "PROJECT SCRIPTS (FD_EXE): /data/reddylab/Kuei/repo/Proj_ENCODE_FCC/scripts \n",
      "PROJECT DATA    (FD_DAT): /data/reddylab/Kuei/repo/Proj_ENCODE_FCC/data \n",
      "PROJECT NOTE    (FD_NBK): /data/reddylab/Kuei/repo/Proj_ENCODE_FCC/notebooks \n",
      "PROJECT DOCS    (FD_DOC): /data/reddylab/Kuei/repo/Proj_ENCODE_FCC/docs \n",
      "PROJECT LOG     (FD_LOG): /data/reddylab/Kuei/repo/Proj_ENCODE_FCC/log \n",
      "PROJECT REF     (FD_REF): /data/reddylab/Kuei/repo/Proj_ENCODE_FCC/references \n",
      "\n"
     ]
    }
   ],
   "source": [
    "suppressMessages(suppressWarnings(source(\"../run_config_project_sing.R\")))\n",
    "show_env()"
   ]
  },
  {
   "cell_type": "markdown",
   "id": "a53101f2-b52b-453e-b53a-97970ec2c665",
   "metadata": {},
   "source": [
    "## Import data"
   ]
  },
  {
   "cell_type": "code",
   "execution_count": 2,
   "id": "f20c3c89-397f-46d6-8145-ffbfabd8ed4e",
   "metadata": {},
   "outputs": [
    {
     "name": "stdout",
     "output_type": "stream",
     "text": [
      "[1] 18341     2\n"
     ]
    },
    {
     "data": {
      "text/html": [
       "<table class=\"dataframe\">\n",
       "<caption>A tibble: 6 × 2</caption>\n",
       "<thead>\n",
       "\t<tr><th scope=col>Cluster</th><th scope=col>Region</th></tr>\n",
       "\t<tr><th scope=col>&lt;dbl&gt;</th><th scope=col>&lt;chr&gt;</th></tr>\n",
       "</thead>\n",
       "<tbody>\n",
       "\t<tr><td> 0</td><td>chr1:100036895-100039189</td></tr>\n",
       "\t<tr><td> 0</td><td>chr1:100132375-100133491</td></tr>\n",
       "\t<tr><td> 0</td><td>chr1:100265562-100266994</td></tr>\n",
       "\t<tr><td>13</td><td>chr1:10032429-10033763  </td></tr>\n",
       "\t<tr><td> 0</td><td>chr1:100362769-100363401</td></tr>\n",
       "\t<tr><td> 1</td><td>chr1:100400445-100400762</td></tr>\n",
       "</tbody>\n",
       "</table>\n"
      ],
      "text/latex": [
       "A tibble: 6 × 2\n",
       "\\begin{tabular}{ll}\n",
       " Cluster & Region\\\\\n",
       " <dbl> & <chr>\\\\\n",
       "\\hline\n",
       "\t  0 & chr1:100036895-100039189\\\\\n",
       "\t  0 & chr1:100132375-100133491\\\\\n",
       "\t  0 & chr1:100265562-100266994\\\\\n",
       "\t 13 & chr1:10032429-10033763  \\\\\n",
       "\t  0 & chr1:100362769-100363401\\\\\n",
       "\t  1 & chr1:100400445-100400762\\\\\n",
       "\\end{tabular}\n"
      ],
      "text/markdown": [
       "\n",
       "A tibble: 6 × 2\n",
       "\n",
       "| Cluster &lt;dbl&gt; | Region &lt;chr&gt; |\n",
       "|---|---|\n",
       "|  0 | chr1:100036895-100039189 |\n",
       "|  0 | chr1:100132375-100133491 |\n",
       "|  0 | chr1:100265562-100266994 |\n",
       "| 13 | chr1:10032429-10033763   |\n",
       "|  0 | chr1:100362769-100363401 |\n",
       "|  1 | chr1:100400445-100400762 |\n",
       "\n"
      ],
      "text/plain": [
       "  Cluster Region                  \n",
       "1  0      chr1:100036895-100039189\n",
       "2  0      chr1:100132375-100133491\n",
       "3  0      chr1:100265562-100266994\n",
       "4 13      chr1:10032429-10033763  \n",
       "5  0      chr1:100362769-100363401\n",
       "6  1      chr1:100400445-100400762"
      ]
     },
     "metadata": {},
     "output_type": "display_data"
    }
   ],
   "source": [
    "txt_fdiry = file.path(\n",
    "    FD_RES, \n",
    "    \"analysis_umap_cluster_by_coverage_score\", \n",
    "    \"fcc_astarr_macs_input_overlap\",\n",
    "    \"fcc_starrmpracrispri_vote2\",\n",
    "    \"cluster_phenograph\"\n",
    ")\n",
    "txt_fname = \"cluster.neighbors_070.coverage.encode_chipseq_full_log2p.tsv\"\n",
    "txt_fpath = file.path(txt_fdiry, txt_fname)\n",
    "\n",
    "dat = read_tsv(txt_fpath, show_col_types = FALSE)\n",
    "\n",
    "dat_region_cluster = dat\n",
    "print(dim(dat))\n",
    "head(dat)"
   ]
  },
  {
   "cell_type": "code",
   "execution_count": null,
   "id": "52acce0e-9595-4d32-ae19-4d83823664cf",
   "metadata": {},
   "outputs": [],
   "source": []
  },
  {
   "cell_type": "code",
   "execution_count": null,
   "id": "5d19dd07-ebff-45b0-9d01-282190f68556",
   "metadata": {},
   "outputs": [],
   "source": []
  },
  {
   "cell_type": "code",
   "execution_count": null,
   "id": "51ade45f-f8b3-43c0-81e0-ed64b252af46",
   "metadata": {},
   "outputs": [],
   "source": []
  },
  {
   "cell_type": "code",
   "execution_count": 3,
   "id": "73e1ed91-9b37-4ce0-916b-56ce86367616",
   "metadata": {},
   "outputs": [
    {
     "name": "stdout",
     "output_type": "stream",
     "text": [
      "[1] 18341     5\n"
     ]
    },
    {
     "data": {
      "text/html": [
       "<table class=\"dataframe\">\n",
       "<caption>A tibble: 6 × 5</caption>\n",
       "<thead>\n",
       "\t<tr><th scope=col>Chrom</th><th scope=col>ChromStart</th><th scope=col>ChromEnd</th><th scope=col>Region</th><th scope=col>Group</th></tr>\n",
       "\t<tr><th scope=col>&lt;chr&gt;</th><th scope=col>&lt;chr&gt;</th><th scope=col>&lt;chr&gt;</th><th scope=col>&lt;chr&gt;</th><th scope=col>&lt;chr&gt;</th></tr>\n",
       "</thead>\n",
       "<tbody>\n",
       "\t<tr><td>chr1</td><td>100036895</td><td>100039189</td><td>chr1:100036895-100039189</td><td>Cluster00</td></tr>\n",
       "\t<tr><td>chr1</td><td>100132375</td><td>100133491</td><td>chr1:100132375-100133491</td><td>Cluster00</td></tr>\n",
       "\t<tr><td>chr1</td><td>100265562</td><td>100266994</td><td>chr1:100265562-100266994</td><td>Cluster00</td></tr>\n",
       "\t<tr><td>chr1</td><td>10032429 </td><td>10033763 </td><td>chr1:10032429-10033763  </td><td>Cluster13</td></tr>\n",
       "\t<tr><td>chr1</td><td>100362769</td><td>100363401</td><td>chr1:100362769-100363401</td><td>Cluster00</td></tr>\n",
       "\t<tr><td>chr1</td><td>100400445</td><td>100400762</td><td>chr1:100400445-100400762</td><td>Cluster01</td></tr>\n",
       "</tbody>\n",
       "</table>\n"
      ],
      "text/latex": [
       "A tibble: 6 × 5\n",
       "\\begin{tabular}{lllll}\n",
       " Chrom & ChromStart & ChromEnd & Region & Group\\\\\n",
       " <chr> & <chr> & <chr> & <chr> & <chr>\\\\\n",
       "\\hline\n",
       "\t chr1 & 100036895 & 100039189 & chr1:100036895-100039189 & Cluster00\\\\\n",
       "\t chr1 & 100132375 & 100133491 & chr1:100132375-100133491 & Cluster00\\\\\n",
       "\t chr1 & 100265562 & 100266994 & chr1:100265562-100266994 & Cluster00\\\\\n",
       "\t chr1 & 10032429  & 10033763  & chr1:10032429-10033763   & Cluster13\\\\\n",
       "\t chr1 & 100362769 & 100363401 & chr1:100362769-100363401 & Cluster00\\\\\n",
       "\t chr1 & 100400445 & 100400762 & chr1:100400445-100400762 & Cluster01\\\\\n",
       "\\end{tabular}\n"
      ],
      "text/markdown": [
       "\n",
       "A tibble: 6 × 5\n",
       "\n",
       "| Chrom &lt;chr&gt; | ChromStart &lt;chr&gt; | ChromEnd &lt;chr&gt; | Region &lt;chr&gt; | Group &lt;chr&gt; |\n",
       "|---|---|---|---|---|\n",
       "| chr1 | 100036895 | 100039189 | chr1:100036895-100039189 | Cluster00 |\n",
       "| chr1 | 100132375 | 100133491 | chr1:100132375-100133491 | Cluster00 |\n",
       "| chr1 | 100265562 | 100266994 | chr1:100265562-100266994 | Cluster00 |\n",
       "| chr1 | 10032429  | 10033763  | chr1:10032429-10033763   | Cluster13 |\n",
       "| chr1 | 100362769 | 100363401 | chr1:100362769-100363401 | Cluster00 |\n",
       "| chr1 | 100400445 | 100400762 | chr1:100400445-100400762 | Cluster01 |\n",
       "\n"
      ],
      "text/plain": [
       "  Chrom ChromStart ChromEnd  Region                   Group    \n",
       "1 chr1  100036895  100039189 chr1:100036895-100039189 Cluster00\n",
       "2 chr1  100132375  100133491 chr1:100132375-100133491 Cluster00\n",
       "3 chr1  100265562  100266994 chr1:100265562-100266994 Cluster00\n",
       "4 chr1  10032429   10033763  chr1:10032429-10033763   Cluster13\n",
       "5 chr1  100362769  100363401 chr1:100362769-100363401 Cluster00\n",
       "6 chr1  100400445  100400762 chr1:100400445-100400762 Cluster01"
      ]
     },
     "metadata": {},
     "output_type": "display_data"
    }
   ],
   "source": [
    "dat = dat_region_cluster\n",
    "dat = dat %>%\n",
    "    tidyr::separate(\n",
    "        col  = Region, \n",
    "        into = c(\"Chrom\", \"ChromStart\", \"ChromEnd\"), \n",
    "        remove = FALSE) %>%\n",
    "    dplyr::mutate(Group = paste0(\"Cluster\", str_pad(Cluster, width = 2, pad = \"0\"))) %>%\n",
    "    dplyr::select(Chrom, ChromStart, ChromEnd, Region, Group)\n",
    "\n",
    "dat_region_group = dat\n",
    "print(dim(dat))\n",
    "head(dat)"
   ]
  },
  {
   "cell_type": "code",
   "execution_count": 4,
   "id": "ddcad0ee-3777-4114-9dd2-6c5b4d153278",
   "metadata": {},
   "outputs": [],
   "source": [
    "txt_fdiry = file.path(\n",
    "    FD_RES, \n",
    "    \"region_integration\",\n",
    "    \"fcc_astarr_macs_input_overlap\",\n",
    "    \"analysis_enrichment_v2\",\n",
    "    \"fcc_starrmpracrispri_vote2_phenograph_neighbors070\"\n",
    ")\n",
    "txt_fname = \"region.prepare.group.tsv\"\n",
    "txt_fpath = file.path(txt_fdiry, txt_fname)\n",
    "\n",
    "dat = dat_region_group\n",
    "\n",
    "write_tsv(dat, txt_fpath)"
   ]
  },
  {
   "cell_type": "code",
   "execution_count": null,
   "id": "e08644b3-83fd-4ad8-8f00-69364f5a7b8c",
   "metadata": {},
   "outputs": [],
   "source": []
  }
 ],
 "metadata": {
  "kernelspec": {
   "display_name": "R",
   "language": "R",
   "name": "ir"
  },
  "language_info": {
   "codemirror_mode": "r",
   "file_extension": ".r",
   "mimetype": "text/x-r-source",
   "name": "R",
   "pygments_lexer": "r",
   "version": "4.4.2"
  }
 },
 "nbformat": 4,
 "nbformat_minor": 5
}
