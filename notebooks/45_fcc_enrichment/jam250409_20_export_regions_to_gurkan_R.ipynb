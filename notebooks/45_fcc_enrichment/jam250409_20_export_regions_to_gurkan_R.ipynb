{
 "cells": [
  {
   "cell_type": "raw",
   "id": "b3b1151d-4232-4788-bde3-68ad44e85428",
   "metadata": {},
   "source": [
    "---\n",
    "title: Region annotation 11 (ASTARR MACS peaks)\n",
    "subtitle: Summarize annotations (Main)\n",
    "format:\n",
    "    html:\n",
    "        code-fold:  true\n",
    "        code-tools: true\n",
    "---"
   ]
  },
  {
   "cell_type": "markdown",
   "id": "8dd82cb9-b413-480c-9604-f7aa56b8e25b",
   "metadata": {},
   "source": [
    "The goal of this notebook is to prepare regions for Ben and Gurkan. There are several figures I need to prepare\n",
    "\n",
    "- ATAC regions with FCC z scores\n",
    "- ATAC regions with covariates"
   ]
  },
  {
   "cell_type": "markdown",
   "id": "34a6864e-4aec-4245-8571-64d3ddff6390",
   "metadata": {},
   "source": [
    "**Set environment**"
   ]
  },
  {
   "cell_type": "code",
   "execution_count": 1,
   "id": "af95be78-0400-4568-8116-0c20b538efee",
   "metadata": {
    "tags": []
   },
   "outputs": [
    {
     "name": "stdout",
     "output_type": "stream",
     "text": [
      "You are working on        Singularity: singularity_proj_encode_fcc \n",
      "BASE DIRECTORY (FD_BASE): /data/reddylab/Kuei \n",
      "REPO DIRECTORY (FD_REPO): /data/reddylab/Kuei/repo \n",
      "WORK DIRECTORY (FD_WORK): /data/reddylab/Kuei/work \n",
      "DATA DIRECTORY (FD_DATA): /data/reddylab/Kuei/data \n",
      "\n",
      "You are working with      ENCODE FCC \n",
      "PATH OF PROJECT (FD_PRJ): /data/reddylab/Kuei/repo/Proj_ENCODE_FCC \n",
      "PROJECT RESULTS (FD_RES): /data/reddylab/Kuei/repo/Proj_ENCODE_FCC/results \n",
      "PROJECT SCRIPTS (FD_EXE): /data/reddylab/Kuei/repo/Proj_ENCODE_FCC/scripts \n",
      "PROJECT DATA    (FD_DAT): /data/reddylab/Kuei/repo/Proj_ENCODE_FCC/data \n",
      "PROJECT NOTE    (FD_NBK): /data/reddylab/Kuei/repo/Proj_ENCODE_FCC/notebooks \n",
      "PROJECT DOCS    (FD_DOC): /data/reddylab/Kuei/repo/Proj_ENCODE_FCC/docs \n",
      "PROJECT LOG     (FD_LOG): /data/reddylab/Kuei/repo/Proj_ENCODE_FCC/log \n",
      "PROJECT REF     (FD_REF): /data/reddylab/Kuei/repo/Proj_ENCODE_FCC/references \n",
      "\n"
     ]
    }
   ],
   "source": [
    "suppressMessages(suppressWarnings(source(\"../run_config_project_sing.R\")))\n",
    "show_env()"
   ]
  },
  {
   "cell_type": "markdown",
   "id": "f94e3e84-01f6-4fbe-9f0c-1868092b9d47",
   "metadata": {},
   "source": [
    "## Import other data"
   ]
  },
  {
   "cell_type": "markdown",
   "id": "fe0cdce9-2124-4fb2-ba23-c34ef55e436d",
   "metadata": {},
   "source": [
    "**Regions with TSS**"
   ]
  },
  {
   "cell_type": "code",
   "execution_count": 2,
   "id": "ebd5ef2c-db97-45f1-8988-dc630bcf4801",
   "metadata": {},
   "outputs": [
    {
     "name": "stdout",
     "output_type": "stream",
     "text": [
      "[1] 9649    5\n"
     ]
    },
    {
     "data": {
      "text/html": [
       "<table>\n",
       " <thead>\n",
       "  <tr>\n",
       "   <th style=\"text-align:left;\"> Chrom </th>\n",
       "   <th style=\"text-align:right;\"> ChromStart </th>\n",
       "   <th style=\"text-align:right;\"> ChromEnd </th>\n",
       "   <th style=\"text-align:left;\"> Region </th>\n",
       "   <th style=\"text-align:right;\"> TSS </th>\n",
       "  </tr>\n",
       " </thead>\n",
       "<tbody>\n",
       "  <tr>\n",
       "   <td style=\"text-align:left;\"> chr1 </td>\n",
       "   <td style=\"text-align:right;\"> 28934 </td>\n",
       "   <td style=\"text-align:right;\"> 29499 </td>\n",
       "   <td style=\"text-align:left;\"> chr1:28934-29499 </td>\n",
       "   <td style=\"text-align:right;\"> 1 </td>\n",
       "  </tr>\n",
       "  <tr>\n",
       "   <td style=\"text-align:left;\"> chr1 </td>\n",
       "   <td style=\"text-align:right;\"> 826796 </td>\n",
       "   <td style=\"text-align:right;\"> 828040 </td>\n",
       "   <td style=\"text-align:left;\"> chr1:826796-828040 </td>\n",
       "   <td style=\"text-align:right;\"> 1 </td>\n",
       "  </tr>\n",
       "  <tr>\n",
       "   <td style=\"text-align:left;\"> chr1 </td>\n",
       "   <td style=\"text-align:right;\"> 876493 </td>\n",
       "   <td style=\"text-align:right;\"> 877795 </td>\n",
       "   <td style=\"text-align:left;\"> chr1:876493-877795 </td>\n",
       "   <td style=\"text-align:right;\"> 1 </td>\n",
       "  </tr>\n",
       "</tbody>\n",
       "</table>"
      ]
     },
     "metadata": {},
     "output_type": "display_data"
    }
   ],
   "source": [
    "txt_fdiry = file.path(\n",
    "    FD_RES, \n",
    "    \"region_annotation\", \n",
    "    \"fcc_astarr_macs_input_overlap\",\n",
    "    \"summary\"\n",
    ")\n",
    "txt_fname = \"matrix.annotation.genome_tss.tsv\"\n",
    "txt_fpath = file.path(txt_fdiry, txt_fname)\n",
    "\n",
    "dat = read_tsv(txt_fpath, show_col_type = \"FALSE\")\n",
    "\n",
    "mat_region_annot_tss = dat\n",
    "print(dim(dat))\n",
    "fun_display_table(head(dat, 3))"
   ]
  },
  {
   "cell_type": "markdown",
   "id": "86a8086e-9ace-40d0-b9b0-1f52d70ea7dc",
   "metadata": {},
   "source": [
    "**FCC coverage**"
   ]
  },
  {
   "cell_type": "code",
   "execution_count": 3,
   "id": "d37bb8c8-2129-450b-bbec-e37995a75c5e",
   "metadata": {},
   "outputs": [
    {
     "data": {
      "text/html": [
       "<style>\n",
       ".list-inline {list-style: none; margin:0; padding: 0}\n",
       ".list-inline>li {display: inline-block}\n",
       ".list-inline>li:not(:last-child)::after {content: \"\\00b7\"; padding: 0 .5ex}\n",
       "</style>\n",
       "<ol class=list-inline><li>'result.coverage.score.merge.fcc.atac.tsv'</li><li>'result.coverage.zscore.final.tsv'</li><li>'result.coverage.zscore.share.tsv'</li><li>'result.coverage.zscore.total.tsv'</li></ol>\n"
      ],
      "text/latex": [
       "\\begin{enumerate*}\n",
       "\\item 'result.coverage.score.merge.fcc.atac.tsv'\n",
       "\\item 'result.coverage.zscore.final.tsv'\n",
       "\\item 'result.coverage.zscore.share.tsv'\n",
       "\\item 'result.coverage.zscore.total.tsv'\n",
       "\\end{enumerate*}\n"
      ],
      "text/markdown": [
       "1. 'result.coverage.score.merge.fcc.atac.tsv'\n",
       "2. 'result.coverage.zscore.final.tsv'\n",
       "3. 'result.coverage.zscore.share.tsv'\n",
       "4. 'result.coverage.zscore.total.tsv'\n",
       "\n",
       "\n"
      ],
      "text/plain": [
       "[1] \"result.coverage.score.merge.fcc.atac.tsv\"\n",
       "[2] \"result.coverage.zscore.final.tsv\"        \n",
       "[3] \"result.coverage.zscore.share.tsv\"        \n",
       "[4] \"result.coverage.zscore.total.tsv\"        "
      ]
     },
     "metadata": {},
     "output_type": "display_data"
    }
   ],
   "source": [
    "txt_fdiry = file.path(\n",
    "    FD_RES, \n",
    "    \"region_coverage_fcc\", \n",
    "    \"fcc_astarr_macs_input_overlap\",\n",
    "    \"summary\"\n",
    ")\n",
    "dir(txt_fdiry)"
   ]
  },
  {
   "cell_type": "code",
   "execution_count": 4,
   "id": "6a59898c-2310-41ae-b855-5439993477f5",
   "metadata": {},
   "outputs": [
    {
     "name": "stdout",
     "output_type": "stream",
     "text": [
      "[1] 432505      6\n"
     ]
    },
    {
     "data": {
      "text/html": [
       "<table>\n",
       " <thead>\n",
       "  <tr>\n",
       "   <th style=\"text-align:left;\"> Chrom </th>\n",
       "   <th style=\"text-align:right;\"> ChromStart </th>\n",
       "   <th style=\"text-align:right;\"> ChromEnd </th>\n",
       "   <th style=\"text-align:left;\"> Region </th>\n",
       "   <th style=\"text-align:right;\"> Score </th>\n",
       "   <th style=\"text-align:left;\"> Assay </th>\n",
       "  </tr>\n",
       " </thead>\n",
       "<tbody>\n",
       "  <tr>\n",
       "   <td style=\"text-align:left;\"> chr10 </td>\n",
       "   <td style=\"text-align:right;\"> 100729094 </td>\n",
       "   <td style=\"text-align:right;\"> 100729750 </td>\n",
       "   <td style=\"text-align:left;\"> chr10:100729094-100729750 </td>\n",
       "   <td style=\"text-align:right;\"> -0.3065107 </td>\n",
       "   <td style=\"text-align:left;\"> CRISPRi-HCR FlowFISH </td>\n",
       "  </tr>\n",
       "  <tr>\n",
       "   <td style=\"text-align:left;\"> chr10 </td>\n",
       "   <td style=\"text-align:right;\"> 100743501 </td>\n",
       "   <td style=\"text-align:right;\"> 100744571 </td>\n",
       "   <td style=\"text-align:left;\"> chr10:100743501-100744571 </td>\n",
       "   <td style=\"text-align:right;\"> -0.2702473 </td>\n",
       "   <td style=\"text-align:left;\"> CRISPRi-HCR FlowFISH </td>\n",
       "  </tr>\n",
       "  <tr>\n",
       "   <td style=\"text-align:left;\"> chr10 </td>\n",
       "   <td style=\"text-align:right;\"> 100745413 </td>\n",
       "   <td style=\"text-align:right;\"> 100745741 </td>\n",
       "   <td style=\"text-align:left;\"> chr10:100745413-100745741 </td>\n",
       "   <td style=\"text-align:right;\"> 0.1130381 </td>\n",
       "   <td style=\"text-align:left;\"> CRISPRi-HCR FlowFISH </td>\n",
       "  </tr>\n",
       "</tbody>\n",
       "</table>"
      ]
     },
     "metadata": {},
     "output_type": "display_data"
    }
   ],
   "source": [
    "txt_fdiry = file.path(\n",
    "    FD_RES, \n",
    "    \"region_coverage_fcc\", \n",
    "    \"fcc_astarr_macs_input_overlap\",\n",
    "    \"summary\"\n",
    ")\n",
    "txt_fname = \"result.coverage.zscore.share.tsv\"\n",
    "txt_fpath = file.path(txt_fdiry, txt_fname)\n",
    "\n",
    "dat = read_tsv(txt_fpath, show_col_type = \"FALSE\")\n",
    "\n",
    "dat_region_score_fcc = dat\n",
    "print(dim(dat))\n",
    "fun_display_table(head(dat, 3))"
   ]
  },
  {
   "cell_type": "markdown",
   "id": "87154e54-6340-4fd9-bf7e-8da97343dc70",
   "metadata": {},
   "source": [
    "## ATAC regions with covariates"
   ]
  },
  {
   "cell_type": "code",
   "execution_count": 5,
   "id": "c607732d-a0bd-44dd-9505-7992694934da",
   "metadata": {},
   "outputs": [
    {
     "name": "stdout",
     "output_type": "stream",
     "text": [
      "[1] 150041      7\n"
     ]
    },
    {
     "data": {
      "text/html": [
       "<table>\n",
       " <thead>\n",
       "  <tr>\n",
       "   <th style=\"text-align:left;\"> Chrom </th>\n",
       "   <th style=\"text-align:right;\"> ChromStart </th>\n",
       "   <th style=\"text-align:right;\"> ChromEnd </th>\n",
       "   <th style=\"text-align:left;\"> Region </th>\n",
       "   <th style=\"text-align:right;\"> ATAC </th>\n",
       "   <th style=\"text-align:right;\"> pGC </th>\n",
       "   <th style=\"text-align:right;\"> Length </th>\n",
       "  </tr>\n",
       " </thead>\n",
       "<tbody>\n",
       "  <tr>\n",
       "   <td style=\"text-align:left;\"> chr1 </td>\n",
       "   <td style=\"text-align:right;\"> 10038 </td>\n",
       "   <td style=\"text-align:right;\"> 10405 </td>\n",
       "   <td style=\"text-align:left;\"> chr1:10038-10405 </td>\n",
       "   <td style=\"text-align:right;\"> 0.5955004 </td>\n",
       "   <td style=\"text-align:right;\"> 0.523161 </td>\n",
       "   <td style=\"text-align:right;\"> 367 </td>\n",
       "  </tr>\n",
       "  <tr>\n",
       "   <td style=\"text-align:left;\"> chr1 </td>\n",
       "   <td style=\"text-align:right;\"> 14282 </td>\n",
       "   <td style=\"text-align:right;\"> 14614 </td>\n",
       "   <td style=\"text-align:left;\"> chr1:14282-14614 </td>\n",
       "   <td style=\"text-align:right;\"> 0.4535793 </td>\n",
       "   <td style=\"text-align:right;\"> 0.578313 </td>\n",
       "   <td style=\"text-align:right;\"> 332 </td>\n",
       "  </tr>\n",
       "  <tr>\n",
       "   <td style=\"text-align:left;\"> chr1 </td>\n",
       "   <td style=\"text-align:right;\"> 16025 </td>\n",
       "   <td style=\"text-align:right;\"> 16338 </td>\n",
       "   <td style=\"text-align:left;\"> chr1:16025-16338 </td>\n",
       "   <td style=\"text-align:right;\"> 0.5832908 </td>\n",
       "   <td style=\"text-align:right;\"> 0.587859 </td>\n",
       "   <td style=\"text-align:right;\"> 313 </td>\n",
       "  </tr>\n",
       "</tbody>\n",
       "</table>"
      ]
     },
     "metadata": {},
     "output_type": "display_data"
    }
   ],
   "source": [
    "txt_fdiry = file.path(\n",
    "    FD_RES, \n",
    "    \"region_integration\",\n",
    "    \"fcc_astarr_macs_input_overlap\",\n",
    "    \"analysis_enrichment_by_annotation_peak\"\n",
    ")\n",
    "txt_fname = \"region.prepare.covariate.tsv\"\n",
    "txt_fpath = file.path(txt_fdiry, txt_fname)\n",
    "\n",
    "dat = read_tsv(txt_fpath, show_col_types = FALSE)\n",
    "\n",
    "dat_region_covariate = dat\n",
    "print(dim(dat))\n",
    "fun_display_table(head(dat, 3))"
   ]
  },
  {
   "cell_type": "markdown",
   "id": "565f45a0-fcc2-4f8d-b2b4-bbe5e40c8089",
   "metadata": {},
   "source": [
    "## ATAC regions with FCC labels"
   ]
  },
  {
   "cell_type": "markdown",
   "id": "861a92d5-4d79-496e-a044-920cb2a4f70d",
   "metadata": {},
   "source": [
    "### Import data"
   ]
  },
  {
   "cell_type": "code",
   "execution_count": 6,
   "id": "ff245070-9f11-46da-bb19-32637a53c880",
   "metadata": {},
   "outputs": [
    {
     "name": "stdout",
     "output_type": "stream",
     "text": [
      "[1] 155926     19\n"
     ]
    },
    {
     "data": {
      "text/html": [
       "<table>\n",
       " <thead>\n",
       "  <tr>\n",
       "   <th style=\"text-align:left;\"> Chrom </th>\n",
       "   <th style=\"text-align:right;\"> ChromStart </th>\n",
       "   <th style=\"text-align:right;\"> ChromEnd </th>\n",
       "   <th style=\"text-align:left;\"> Region </th>\n",
       "   <th style=\"text-align:left;\"> Type </th>\n",
       "   <th style=\"text-align:right;\"> Num_Assay </th>\n",
       "   <th style=\"text-align:right;\"> TSS_Total </th>\n",
       "   <th style=\"text-align:right;\"> TSS_Essential </th>\n",
       "   <th style=\"text-align:left;\"> Label1 </th>\n",
       "   <th style=\"text-align:left;\"> Label2 </th>\n",
       "   <th style=\"text-align:left;\"> Label3 </th>\n",
       "   <th style=\"text-align:right;\"> Screen_CRISPR_Total </th>\n",
       "   <th style=\"text-align:right;\"> Screen_CRISPR_Growth </th>\n",
       "   <th style=\"text-align:right;\"> Screen_CRISPR_HCRFF </th>\n",
       "   <th style=\"text-align:right;\"> Screen_CRISPR_E2G </th>\n",
       "   <th style=\"text-align:right;\"> Signif_CRISPR_Total </th>\n",
       "   <th style=\"text-align:right;\"> Signif_CRISPR_Growth </th>\n",
       "   <th style=\"text-align:right;\"> Signif_CRISPR_HCRFF </th>\n",
       "   <th style=\"text-align:right;\"> Signif_CRISPR_E2G </th>\n",
       "  </tr>\n",
       " </thead>\n",
       "<tbody>\n",
       "  <tr>\n",
       "   <td style=\"text-align:left;\"> chr1 </td>\n",
       "   <td style=\"text-align:right;\"> 10038 </td>\n",
       "   <td style=\"text-align:right;\"> 10405 </td>\n",
       "   <td style=\"text-align:left;\"> chr1:10038-10405 </td>\n",
       "   <td style=\"text-align:left;\"> Repress </td>\n",
       "   <td style=\"text-align:right;\"> 1 </td>\n",
       "   <td style=\"text-align:right;\"> 0 </td>\n",
       "   <td style=\"text-align:right;\"> 0 </td>\n",
       "   <td style=\"text-align:left;\"> Silencer </td>\n",
       "   <td style=\"text-align:left;\"> Silencer </td>\n",
       "   <td style=\"text-align:left;\"> Silencer </td>\n",
       "   <td style=\"text-align:right;\"> 0 </td>\n",
       "   <td style=\"text-align:right;\"> 0 </td>\n",
       "   <td style=\"text-align:right;\"> 0 </td>\n",
       "   <td style=\"text-align:right;\"> 0 </td>\n",
       "   <td style=\"text-align:right;\"> 0 </td>\n",
       "   <td style=\"text-align:right;\"> 0 </td>\n",
       "   <td style=\"text-align:right;\"> 0 </td>\n",
       "   <td style=\"text-align:right;\"> 0 </td>\n",
       "  </tr>\n",
       "  <tr>\n",
       "   <td style=\"text-align:left;\"> chr1 </td>\n",
       "   <td style=\"text-align:right;\"> 10038 </td>\n",
       "   <td style=\"text-align:right;\"> 10405 </td>\n",
       "   <td style=\"text-align:left;\"> chr1:10038-10405 </td>\n",
       "   <td style=\"text-align:left;\"> Repress_GCFilter </td>\n",
       "   <td style=\"text-align:right;\"> 1 </td>\n",
       "   <td style=\"text-align:right;\"> 0 </td>\n",
       "   <td style=\"text-align:right;\"> 0 </td>\n",
       "   <td style=\"text-align:left;\"> Silencer </td>\n",
       "   <td style=\"text-align:left;\"> Silencer </td>\n",
       "   <td style=\"text-align:left;\"> Silencer </td>\n",
       "   <td style=\"text-align:right;\"> 0 </td>\n",
       "   <td style=\"text-align:right;\"> 0 </td>\n",
       "   <td style=\"text-align:right;\"> 0 </td>\n",
       "   <td style=\"text-align:right;\"> 0 </td>\n",
       "   <td style=\"text-align:right;\"> 0 </td>\n",
       "   <td style=\"text-align:right;\"> 0 </td>\n",
       "   <td style=\"text-align:right;\"> 0 </td>\n",
       "   <td style=\"text-align:right;\"> 0 </td>\n",
       "  </tr>\n",
       "  <tr>\n",
       "   <td style=\"text-align:left;\"> chr1 </td>\n",
       "   <td style=\"text-align:right;\"> 16025 </td>\n",
       "   <td style=\"text-align:right;\"> 16338 </td>\n",
       "   <td style=\"text-align:left;\"> chr1:16025-16338 </td>\n",
       "   <td style=\"text-align:left;\"> Repress </td>\n",
       "   <td style=\"text-align:right;\"> 1 </td>\n",
       "   <td style=\"text-align:right;\"> 0 </td>\n",
       "   <td style=\"text-align:right;\"> 0 </td>\n",
       "   <td style=\"text-align:left;\"> Silencer </td>\n",
       "   <td style=\"text-align:left;\"> Silencer </td>\n",
       "   <td style=\"text-align:left;\"> Silencer </td>\n",
       "   <td style=\"text-align:right;\"> 0 </td>\n",
       "   <td style=\"text-align:right;\"> 0 </td>\n",
       "   <td style=\"text-align:right;\"> 0 </td>\n",
       "   <td style=\"text-align:right;\"> 0 </td>\n",
       "   <td style=\"text-align:right;\"> 0 </td>\n",
       "   <td style=\"text-align:right;\"> 0 </td>\n",
       "   <td style=\"text-align:right;\"> 0 </td>\n",
       "   <td style=\"text-align:right;\"> 0 </td>\n",
       "  </tr>\n",
       "</tbody>\n",
       "</table>"
      ]
     },
     "metadata": {},
     "output_type": "display_data"
    }
   ],
   "source": [
    "txt_fdiry = file.path(\n",
    "    FD_RES, \n",
    "    \"region_annotation\", \n",
    "    \"fcc_astarr_macs_input_overlap\",\n",
    "    \"summary\"\n",
    ")\n",
    "txt_fname = \"region.summary.fcc_peak_call.label.tsv\"\n",
    "txt_fpath = file.path(txt_fdiry, txt_fname)\n",
    "\n",
    "dat = read_tsv(txt_fpath, show_col_types = FALSE)\n",
    "\n",
    "dat_region_annot_fcc = dat\n",
    "print(dim(dat))\n",
    "fun_display_table(head(dat, 3))"
   ]
  },
  {
   "cell_type": "markdown",
   "id": "0987cb5a-dc1b-45ca-bc19-ff3fb5d08e24",
   "metadata": {},
   "source": [
    "## Arrange: Subset the regions"
   ]
  },
  {
   "cell_type": "code",
   "execution_count": 7,
   "id": "79133cb3-e701-46d6-ba56-bfbd8913b474",
   "metadata": {},
   "outputs": [
    {
     "name": "stdout",
     "output_type": "stream",
     "text": [
      "[1] 18346    19\n"
     ]
    },
    {
     "data": {
      "text/html": [
       "<table>\n",
       " <thead>\n",
       "  <tr>\n",
       "   <th style=\"text-align:left;\"> Chrom </th>\n",
       "   <th style=\"text-align:right;\"> ChromStart </th>\n",
       "   <th style=\"text-align:right;\"> ChromEnd </th>\n",
       "   <th style=\"text-align:left;\"> Region </th>\n",
       "   <th style=\"text-align:left;\"> Type </th>\n",
       "   <th style=\"text-align:right;\"> Num_Assay </th>\n",
       "   <th style=\"text-align:right;\"> TSS_Total </th>\n",
       "   <th style=\"text-align:right;\"> TSS_Essential </th>\n",
       "   <th style=\"text-align:left;\"> Label1 </th>\n",
       "   <th style=\"text-align:left;\"> Label2 </th>\n",
       "   <th style=\"text-align:left;\"> Label3 </th>\n",
       "   <th style=\"text-align:right;\"> Screen_CRISPR_Total </th>\n",
       "   <th style=\"text-align:right;\"> Screen_CRISPR_Growth </th>\n",
       "   <th style=\"text-align:right;\"> Screen_CRISPR_HCRFF </th>\n",
       "   <th style=\"text-align:right;\"> Screen_CRISPR_E2G </th>\n",
       "   <th style=\"text-align:right;\"> Signif_CRISPR_Total </th>\n",
       "   <th style=\"text-align:right;\"> Signif_CRISPR_Growth </th>\n",
       "   <th style=\"text-align:right;\"> Signif_CRISPR_HCRFF </th>\n",
       "   <th style=\"text-align:right;\"> Signif_CRISPR_E2G </th>\n",
       "  </tr>\n",
       " </thead>\n",
       "<tbody>\n",
       "  <tr>\n",
       "   <td style=\"text-align:left;\"> chr1 </td>\n",
       "   <td style=\"text-align:right;\"> 778233 </td>\n",
       "   <td style=\"text-align:right;\"> 779389 </td>\n",
       "   <td style=\"text-align:left;\"> chr1:778233-779389 </td>\n",
       "   <td style=\"text-align:left;\"> Enhance </td>\n",
       "   <td style=\"text-align:right;\"> 3 </td>\n",
       "   <td style=\"text-align:right;\"> 0 </td>\n",
       "   <td style=\"text-align:right;\"> 0 </td>\n",
       "   <td style=\"text-align:left;\"> Enhancer </td>\n",
       "   <td style=\"text-align:left;\"> Enhancer </td>\n",
       "   <td style=\"text-align:left;\"> Enhancer </td>\n",
       "   <td style=\"text-align:right;\"> 1 </td>\n",
       "   <td style=\"text-align:right;\"> 1 </td>\n",
       "   <td style=\"text-align:right;\"> 0 </td>\n",
       "   <td style=\"text-align:right;\"> 0 </td>\n",
       "   <td style=\"text-align:right;\"> 0 </td>\n",
       "   <td style=\"text-align:right;\"> 0 </td>\n",
       "   <td style=\"text-align:right;\"> 0 </td>\n",
       "   <td style=\"text-align:right;\"> 0 </td>\n",
       "  </tr>\n",
       "  <tr>\n",
       "   <td style=\"text-align:left;\"> chr1 </td>\n",
       "   <td style=\"text-align:right;\"> 958722 </td>\n",
       "   <td style=\"text-align:right;\"> 959968 </td>\n",
       "   <td style=\"text-align:left;\"> chr1:958722-959968 </td>\n",
       "   <td style=\"text-align:left;\"> Enhance </td>\n",
       "   <td style=\"text-align:right;\"> 2 </td>\n",
       "   <td style=\"text-align:right;\"> 1 </td>\n",
       "   <td style=\"text-align:right;\"> 0 </td>\n",
       "   <td style=\"text-align:left;\"> Enhancer </td>\n",
       "   <td style=\"text-align:left;\"> Promoter </td>\n",
       "   <td style=\"text-align:left;\"> TSS:Enhancer </td>\n",
       "   <td style=\"text-align:right;\"> 1 </td>\n",
       "   <td style=\"text-align:right;\"> 1 </td>\n",
       "   <td style=\"text-align:right;\"> 0 </td>\n",
       "   <td style=\"text-align:right;\"> 0 </td>\n",
       "   <td style=\"text-align:right;\"> 0 </td>\n",
       "   <td style=\"text-align:right;\"> 0 </td>\n",
       "   <td style=\"text-align:right;\"> 0 </td>\n",
       "   <td style=\"text-align:right;\"> 0 </td>\n",
       "  </tr>\n",
       "  <tr>\n",
       "   <td style=\"text-align:left;\"> chr1 </td>\n",
       "   <td style=\"text-align:right;\"> 960468 </td>\n",
       "   <td style=\"text-align:right;\"> 961615 </td>\n",
       "   <td style=\"text-align:left;\"> chr1:960468-961615 </td>\n",
       "   <td style=\"text-align:left;\"> Enhance </td>\n",
       "   <td style=\"text-align:right;\"> 2 </td>\n",
       "   <td style=\"text-align:right;\"> 1 </td>\n",
       "   <td style=\"text-align:right;\"> 0 </td>\n",
       "   <td style=\"text-align:left;\"> Enhancer </td>\n",
       "   <td style=\"text-align:left;\"> Promoter </td>\n",
       "   <td style=\"text-align:left;\"> TSS:Enhancer </td>\n",
       "   <td style=\"text-align:right;\"> 1 </td>\n",
       "   <td style=\"text-align:right;\"> 1 </td>\n",
       "   <td style=\"text-align:right;\"> 0 </td>\n",
       "   <td style=\"text-align:right;\"> 0 </td>\n",
       "   <td style=\"text-align:right;\"> 0 </td>\n",
       "   <td style=\"text-align:right;\"> 0 </td>\n",
       "   <td style=\"text-align:right;\"> 0 </td>\n",
       "   <td style=\"text-align:right;\"> 0 </td>\n",
       "  </tr>\n",
       "</tbody>\n",
       "</table>"
      ]
     },
     "metadata": {},
     "output_type": "display_data"
    }
   ],
   "source": [
    "dat = dat_region_annot_fcc\n",
    "\n",
    "vec = c(\"Enhance\", \"Repress\")\n",
    "dat = dat %>% \n",
    "    dplyr::filter(Type %in% vec) %>%\n",
    "    dplyr::filter(Num_Assay > 1) \n",
    "\n",
    "dat_region_annot_fcc_subset = dat\n",
    "print(dim(dat))\n",
    "fun_display_table(head(dat, 3))"
   ]
  },
  {
   "cell_type": "markdown",
   "id": "a4e63653-a0e9-40a7-9fc7-9c4f59f5974d",
   "metadata": {},
   "source": [
    "### Mapping the labels"
   ]
  },
  {
   "cell_type": "code",
   "execution_count": 8,
   "id": "6e45d930-b1c9-4413-bf6b-089c14d216c5",
   "metadata": {},
   "outputs": [],
   "source": [
    "fun_str_map = function(vec_txt_input){\n",
    "    vec_txt_pattern = c(\"Enhancer\", \"Silencer\", \"TSS:Enhancer\", \"TSS:Silencer\")\n",
    "    vec_txt_replace = c(\"Distal:Active\", \"Distal:Repressive\", \"Proximal:Active\", \"Proximal:Repressive\")\n",
    "    vec_txt_output = fun_str_map_match(\n",
    "        vec_txt_input,\n",
    "        vec_txt_pattern,\n",
    "        vec_txt_replace\n",
    "    )\n",
    "    return(vec_txt_output)\n",
    "}"
   ]
  },
  {
   "cell_type": "markdown",
   "id": "a5749e5b-00dd-4c76-994a-ab70a0130c03",
   "metadata": {},
   "source": [
    "**Test mapping function**"
   ]
  },
  {
   "cell_type": "code",
   "execution_count": 9,
   "id": "da59e649-b998-49cb-9160-e30fc372f81f",
   "metadata": {},
   "outputs": [
    {
     "name": "stdout",
     "output_type": "stream",
     "text": [
      "              \n",
      "               Distal:Active Distal:Repressive Proximal:Active\n",
      "  Enhancer             11623                 0               0\n",
      "  Silencer                 0              1640               0\n",
      "  TSS:Enhancer             0                 0            4974\n",
      "  TSS:Silencer             0                 0               0\n",
      "              \n",
      "               Proximal:Repressive\n",
      "  Enhancer                       0\n",
      "  Silencer                       0\n",
      "  TSS:Enhancer                   0\n",
      "  TSS:Silencer                 109\n"
     ]
    }
   ],
   "source": [
    "dat = dat_region_annot_fcc_subset\n",
    "dat = dat %>% dplyr::mutate(Group = fun_str_map(Label3)) \n",
    "\n",
    "print(table(dat$Label3, dat$Group))"
   ]
  },
  {
   "cell_type": "code",
   "execution_count": 10,
   "id": "0dd5f900-0760-41e6-9ceb-82b31d8f0f9c",
   "metadata": {},
   "outputs": [
    {
     "name": "stdout",
     "output_type": "stream",
     "text": [
      "[1] 18346     5\n",
      "\n",
      "      Distal:Active   Distal:Repressive     Proximal:Active Proximal:Repressive \n",
      "              11623                1640                4974                 109 \n"
     ]
    },
    {
     "data": {
      "text/html": [
       "<table class=\"dataframe\">\n",
       "<caption>A tibble: 6 × 5</caption>\n",
       "<thead>\n",
       "\t<tr><th scope=col>Chrom</th><th scope=col>ChromStart</th><th scope=col>ChromEnd</th><th scope=col>Region</th><th scope=col>Group</th></tr>\n",
       "\t<tr><th scope=col>&lt;chr&gt;</th><th scope=col>&lt;dbl&gt;</th><th scope=col>&lt;dbl&gt;</th><th scope=col>&lt;chr&gt;</th><th scope=col>&lt;chr&gt;</th></tr>\n",
       "</thead>\n",
       "<tbody>\n",
       "\t<tr><td>chr1</td><td> 778233</td><td> 779389</td><td>chr1:778233-779389  </td><td>Distal:Active  </td></tr>\n",
       "\t<tr><td>chr1</td><td> 958722</td><td> 959968</td><td>chr1:958722-959968  </td><td>Proximal:Active</td></tr>\n",
       "\t<tr><td>chr1</td><td> 960468</td><td> 961615</td><td>chr1:960468-961615  </td><td>Proximal:Active</td></tr>\n",
       "\t<tr><td>chr1</td><td>1005094</td><td>1005553</td><td>chr1:1005094-1005553</td><td>Distal:Active  </td></tr>\n",
       "\t<tr><td>chr1</td><td>1013154</td><td>1014482</td><td>chr1:1013154-1014482</td><td>Proximal:Active</td></tr>\n",
       "\t<tr><td>chr1</td><td>1059012</td><td>1060137</td><td>chr1:1059012-1060137</td><td>Distal:Active  </td></tr>\n",
       "</tbody>\n",
       "</table>\n"
      ],
      "text/latex": [
       "A tibble: 6 × 5\n",
       "\\begin{tabular}{lllll}\n",
       " Chrom & ChromStart & ChromEnd & Region & Group\\\\\n",
       " <chr> & <dbl> & <dbl> & <chr> & <chr>\\\\\n",
       "\\hline\n",
       "\t chr1 &  778233 &  779389 & chr1:778233-779389   & Distal:Active  \\\\\n",
       "\t chr1 &  958722 &  959968 & chr1:958722-959968   & Proximal:Active\\\\\n",
       "\t chr1 &  960468 &  961615 & chr1:960468-961615   & Proximal:Active\\\\\n",
       "\t chr1 & 1005094 & 1005553 & chr1:1005094-1005553 & Distal:Active  \\\\\n",
       "\t chr1 & 1013154 & 1014482 & chr1:1013154-1014482 & Proximal:Active\\\\\n",
       "\t chr1 & 1059012 & 1060137 & chr1:1059012-1060137 & Distal:Active  \\\\\n",
       "\\end{tabular}\n"
      ],
      "text/markdown": [
       "\n",
       "A tibble: 6 × 5\n",
       "\n",
       "| Chrom &lt;chr&gt; | ChromStart &lt;dbl&gt; | ChromEnd &lt;dbl&gt; | Region &lt;chr&gt; | Group &lt;chr&gt; |\n",
       "|---|---|---|---|---|\n",
       "| chr1 |  778233 |  779389 | chr1:778233-779389   | Distal:Active   |\n",
       "| chr1 |  958722 |  959968 | chr1:958722-959968   | Proximal:Active |\n",
       "| chr1 |  960468 |  961615 | chr1:960468-961615   | Proximal:Active |\n",
       "| chr1 | 1005094 | 1005553 | chr1:1005094-1005553 | Distal:Active   |\n",
       "| chr1 | 1013154 | 1014482 | chr1:1013154-1014482 | Proximal:Active |\n",
       "| chr1 | 1059012 | 1060137 | chr1:1059012-1060137 | Distal:Active   |\n",
       "\n"
      ],
      "text/plain": [
       "  Chrom ChromStart ChromEnd Region               Group          \n",
       "1 chr1   778233     779389  chr1:778233-779389   Distal:Active  \n",
       "2 chr1   958722     959968  chr1:958722-959968   Proximal:Active\n",
       "3 chr1   960468     961615  chr1:960468-961615   Proximal:Active\n",
       "4 chr1  1005094    1005553  chr1:1005094-1005553 Distal:Active  \n",
       "5 chr1  1013154    1014482  chr1:1013154-1014482 Proximal:Active\n",
       "6 chr1  1059012    1060137  chr1:1059012-1060137 Distal:Active  "
      ]
     },
     "metadata": {},
     "output_type": "display_data"
    }
   ],
   "source": [
    "dat = dat_region_annot_fcc_subset\n",
    "dat = dat %>% \n",
    "    dplyr::mutate(Group = fun_str_map(Label3)) %>%\n",
    "    #dplyr::mutate(Group = Label3) %>%\n",
    "    dplyr::select(Chrom:Region, Group)\n",
    "\n",
    "dat_region_focal = dat\n",
    "print(dim(dat))\n",
    "print(table(dat$Group))\n",
    "head(dat)"
   ]
  },
  {
   "cell_type": "markdown",
   "id": "096ab287-50dd-454d-aef3-9315c83b6810",
   "metadata": {},
   "source": [
    "## Define pool regions"
   ]
  },
  {
   "cell_type": "code",
   "execution_count": 11,
   "id": "2d37db07-fda1-46fb-bebf-62680d2704bb",
   "metadata": {},
   "outputs": [],
   "source": [
    "dat = dat_region_annot_fcc_subset\n",
    "vec = unique(dat$Region)\n",
    "\n",
    "vec_txt_region_fcc = vec"
   ]
  },
  {
   "cell_type": "code",
   "execution_count": 12,
   "id": "16fae76b-c2f7-48b2-b962-afd58a99fd8a",
   "metadata": {},
   "outputs": [],
   "source": [
    "dat = dat_region_covariate\n",
    "vec = unique(dat$Region)\n",
    "\n",
    "vec_txt_region_tot = vec"
   ]
  },
  {
   "cell_type": "code",
   "execution_count": 13,
   "id": "0a00133c-641b-4ee5-bd29-07382aac6238",
   "metadata": {},
   "outputs": [],
   "source": [
    "dat = mat_region_annot_tss\n",
    "vec = unique(dat$Region)\n",
    "\n",
    "vec_txt_region_tss = vec"
   ]
  },
  {
   "cell_type": "code",
   "execution_count": 14,
   "id": "93537271-861c-4da9-82d3-53e708642ea9",
   "metadata": {},
   "outputs": [],
   "source": [
    "vec = setdiff(vec_txt_region_tot, vec_txt_region_fcc)\n",
    "\n",
    "vec_txt_region_back = vec"
   ]
  },
  {
   "cell_type": "code",
   "execution_count": 15,
   "id": "947f8f20-9466-41ad-b853-2555e2a09746",
   "metadata": {},
   "outputs": [
    {
     "name": "stdout",
     "output_type": "stream",
     "text": [
      "[1] 131700      5\n"
     ]
    },
    {
     "data": {
      "text/html": [
       "<table class=\"dataframe\">\n",
       "<caption>A tibble: 6 × 5</caption>\n",
       "<thead>\n",
       "\t<tr><th scope=col>Chrom</th><th scope=col>ChromStart</th><th scope=col>ChromEnd</th><th scope=col>Region</th><th scope=col>Group</th></tr>\n",
       "\t<tr><th scope=col>&lt;chr&gt;</th><th scope=col>&lt;dbl&gt;</th><th scope=col>&lt;dbl&gt;</th><th scope=col>&lt;chr&gt;</th><th scope=col>&lt;chr&gt;</th></tr>\n",
       "</thead>\n",
       "<tbody>\n",
       "\t<tr><td>chr1</td><td> 10038</td><td> 10405</td><td>chr1:10038-10405  </td><td>Distal:Inactive  </td></tr>\n",
       "\t<tr><td>chr1</td><td> 14282</td><td> 14614</td><td>chr1:14282-14614  </td><td>Distal:Inactive  </td></tr>\n",
       "\t<tr><td>chr1</td><td> 16025</td><td> 16338</td><td>chr1:16025-16338  </td><td>Distal:Inactive  </td></tr>\n",
       "\t<tr><td>chr1</td><td> 17288</td><td> 17689</td><td>chr1:17288-17689  </td><td>Distal:Inactive  </td></tr>\n",
       "\t<tr><td>chr1</td><td> 28934</td><td> 29499</td><td>chr1:28934-29499  </td><td>Proximal:Inactive</td></tr>\n",
       "\t<tr><td>chr1</td><td>115429</td><td>115969</td><td>chr1:115429-115969</td><td>Distal:Inactive  </td></tr>\n",
       "</tbody>\n",
       "</table>\n"
      ],
      "text/latex": [
       "A tibble: 6 × 5\n",
       "\\begin{tabular}{lllll}\n",
       " Chrom & ChromStart & ChromEnd & Region & Group\\\\\n",
       " <chr> & <dbl> & <dbl> & <chr> & <chr>\\\\\n",
       "\\hline\n",
       "\t chr1 &  10038 &  10405 & chr1:10038-10405   & Distal:Inactive  \\\\\n",
       "\t chr1 &  14282 &  14614 & chr1:14282-14614   & Distal:Inactive  \\\\\n",
       "\t chr1 &  16025 &  16338 & chr1:16025-16338   & Distal:Inactive  \\\\\n",
       "\t chr1 &  17288 &  17689 & chr1:17288-17689   & Distal:Inactive  \\\\\n",
       "\t chr1 &  28934 &  29499 & chr1:28934-29499   & Proximal:Inactive\\\\\n",
       "\t chr1 & 115429 & 115969 & chr1:115429-115969 & Distal:Inactive  \\\\\n",
       "\\end{tabular}\n"
      ],
      "text/markdown": [
       "\n",
       "A tibble: 6 × 5\n",
       "\n",
       "| Chrom &lt;chr&gt; | ChromStart &lt;dbl&gt; | ChromEnd &lt;dbl&gt; | Region &lt;chr&gt; | Group &lt;chr&gt; |\n",
       "|---|---|---|---|---|\n",
       "| chr1 |  10038 |  10405 | chr1:10038-10405   | Distal:Inactive   |\n",
       "| chr1 |  14282 |  14614 | chr1:14282-14614   | Distal:Inactive   |\n",
       "| chr1 |  16025 |  16338 | chr1:16025-16338   | Distal:Inactive   |\n",
       "| chr1 |  17288 |  17689 | chr1:17288-17689   | Distal:Inactive   |\n",
       "| chr1 |  28934 |  29499 | chr1:28934-29499   | Proximal:Inactive |\n",
       "| chr1 | 115429 | 115969 | chr1:115429-115969 | Distal:Inactive   |\n",
       "\n"
      ],
      "text/plain": [
       "  Chrom ChromStart ChromEnd Region             Group            \n",
       "1 chr1   10038      10405   chr1:10038-10405   Distal:Inactive  \n",
       "2 chr1   14282      14614   chr1:14282-14614   Distal:Inactive  \n",
       "3 chr1   16025      16338   chr1:16025-16338   Distal:Inactive  \n",
       "4 chr1   17288      17689   chr1:17288-17689   Distal:Inactive  \n",
       "5 chr1   28934      29499   chr1:28934-29499   Proximal:Inactive\n",
       "6 chr1  115429     115969   chr1:115429-115969 Distal:Inactive  "
      ]
     },
     "metadata": {},
     "output_type": "display_data"
    }
   ],
   "source": [
    "dat = dat_region_covariate\n",
    "dat = dat %>% \n",
    "    dplyr::filter(Region %in% vec_txt_region_back) %>%\n",
    "    dplyr::mutate(\n",
    "        Group = ifelse(\n",
    "            Region %in% vec_txt_region_tss, \n",
    "            \"Proximal:Inactive\", \n",
    "            \"Distal:Inactive\"\n",
    "        )\n",
    "    ) %>%\n",
    "    dplyr::select(Chrom:Region, Group)\n",
    "\n",
    "dat_region_pool = dat\n",
    "print(dim(dat))\n",
    "head(dat)"
   ]
  },
  {
   "cell_type": "markdown",
   "id": "1bf1c0cc-a9fe-4628-b3a6-2d6ae4a5974a",
   "metadata": {},
   "source": [
    "## Save results"
   ]
  },
  {
   "cell_type": "code",
   "execution_count": 16,
   "id": "79eb2ca6-bf3e-4dd0-94de-7bfe8a31c1a6",
   "metadata": {},
   "outputs": [
    {
     "data": {
      "text/html": [
       "<table>\n",
       " <thead>\n",
       "  <tr>\n",
       "   <th style=\"text-align:left;\"> Chrom </th>\n",
       "   <th style=\"text-align:right;\"> ChromStart </th>\n",
       "   <th style=\"text-align:right;\"> ChromEnd </th>\n",
       "   <th style=\"text-align:left;\"> Region </th>\n",
       "   <th style=\"text-align:right;\"> Score </th>\n",
       "   <th style=\"text-align:left;\"> Assay </th>\n",
       "  </tr>\n",
       " </thead>\n",
       "<tbody>\n",
       "  <tr>\n",
       "   <td style=\"text-align:left;\"> chr10 </td>\n",
       "   <td style=\"text-align:right;\"> 100729094 </td>\n",
       "   <td style=\"text-align:right;\"> 100729750 </td>\n",
       "   <td style=\"text-align:left;\"> chr10:100729094-100729750 </td>\n",
       "   <td style=\"text-align:right;\"> -0.3065107 </td>\n",
       "   <td style=\"text-align:left;\"> CRISPRi-HCR FlowFISH </td>\n",
       "  </tr>\n",
       "  <tr>\n",
       "   <td style=\"text-align:left;\"> chr10 </td>\n",
       "   <td style=\"text-align:right;\"> 100743501 </td>\n",
       "   <td style=\"text-align:right;\"> 100744571 </td>\n",
       "   <td style=\"text-align:left;\"> chr10:100743501-100744571 </td>\n",
       "   <td style=\"text-align:right;\"> -0.2702473 </td>\n",
       "   <td style=\"text-align:left;\"> CRISPRi-HCR FlowFISH </td>\n",
       "  </tr>\n",
       "  <tr>\n",
       "   <td style=\"text-align:left;\"> chr10 </td>\n",
       "   <td style=\"text-align:right;\"> 100745413 </td>\n",
       "   <td style=\"text-align:right;\"> 100745741 </td>\n",
       "   <td style=\"text-align:left;\"> chr10:100745413-100745741 </td>\n",
       "   <td style=\"text-align:right;\"> 0.1130381 </td>\n",
       "   <td style=\"text-align:left;\"> CRISPRi-HCR FlowFISH </td>\n",
       "  </tr>\n",
       "</tbody>\n",
       "</table>"
      ]
     },
     "metadata": {},
     "output_type": "display_data"
    }
   ],
   "source": [
    "txt_fdiry = file.path(\n",
    "    FD_RES, \n",
    "    \"region_integration\",\n",
    "    \"fcc_astarr_macs_input_overlap\",\n",
    "    \"analysis_enrichment_v2\",\n",
    "    \"fcc_starrmpra_vote2_v2_split_pool_by_tss\",\n",
    "    \"shared\"\n",
    ")\n",
    "txt_fname = \"region.coverage.fcc.zscore.tsv\"\n",
    "txt_fpath = file.path(txt_fdiry, txt_fname)\n",
    "\n",
    "dat = dat_region_score_fcc\n",
    "write_tsv(dat, txt_fpath)\n",
    "fun_display_table(head(dat, 3))"
   ]
  },
  {
   "cell_type": "code",
   "execution_count": 20,
   "id": "da2bd8e6-0a03-49e7-a1e7-ab75c4213d26",
   "metadata": {},
   "outputs": [
    {
     "data": {
      "text/html": [
       "<table>\n",
       " <thead>\n",
       "  <tr>\n",
       "   <th style=\"text-align:left;\"> Chrom </th>\n",
       "   <th style=\"text-align:right;\"> ChromStart </th>\n",
       "   <th style=\"text-align:right;\"> ChromEnd </th>\n",
       "   <th style=\"text-align:left;\"> Region </th>\n",
       "   <th style=\"text-align:right;\"> ATAC </th>\n",
       "   <th style=\"text-align:right;\"> pGC </th>\n",
       "   <th style=\"text-align:right;\"> Length </th>\n",
       "  </tr>\n",
       " </thead>\n",
       "<tbody>\n",
       "  <tr>\n",
       "   <td style=\"text-align:left;\"> chr1 </td>\n",
       "   <td style=\"text-align:right;\"> 10038 </td>\n",
       "   <td style=\"text-align:right;\"> 10405 </td>\n",
       "   <td style=\"text-align:left;\"> chr1:10038-10405 </td>\n",
       "   <td style=\"text-align:right;\"> 0.5955004 </td>\n",
       "   <td style=\"text-align:right;\"> 0.523161 </td>\n",
       "   <td style=\"text-align:right;\"> 367 </td>\n",
       "  </tr>\n",
       "  <tr>\n",
       "   <td style=\"text-align:left;\"> chr1 </td>\n",
       "   <td style=\"text-align:right;\"> 14282 </td>\n",
       "   <td style=\"text-align:right;\"> 14614 </td>\n",
       "   <td style=\"text-align:left;\"> chr1:14282-14614 </td>\n",
       "   <td style=\"text-align:right;\"> 0.4535793 </td>\n",
       "   <td style=\"text-align:right;\"> 0.578313 </td>\n",
       "   <td style=\"text-align:right;\"> 332 </td>\n",
       "  </tr>\n",
       "  <tr>\n",
       "   <td style=\"text-align:left;\"> chr1 </td>\n",
       "   <td style=\"text-align:right;\"> 16025 </td>\n",
       "   <td style=\"text-align:right;\"> 16338 </td>\n",
       "   <td style=\"text-align:left;\"> chr1:16025-16338 </td>\n",
       "   <td style=\"text-align:right;\"> 0.5832908 </td>\n",
       "   <td style=\"text-align:right;\"> 0.587859 </td>\n",
       "   <td style=\"text-align:right;\"> 313 </td>\n",
       "  </tr>\n",
       "</tbody>\n",
       "</table>"
      ]
     },
     "metadata": {},
     "output_type": "display_data"
    }
   ],
   "source": [
    "txt_fdiry = file.path(\n",
    "    FD_RES, \n",
    "    \"region_integration\",\n",
    "    \"fcc_astarr_macs_input_overlap\",\n",
    "    \"analysis_enrichment_v2\",\n",
    "    \"fcc_starrmpra_vote2_v2_split_pool_by_tss\",\n",
    "    \"shared\"\n",
    ")\n",
    "txt_fname = \"region.covariates.tsv\"\n",
    "txt_fpath = file.path(txt_fdiry, txt_fname)\n",
    "\n",
    "dat = dat_region_covariate\n",
    "write_tsv(dat, txt_fpath)\n",
    "fun_display_table(head(dat, 3))"
   ]
  },
  {
   "cell_type": "code",
   "execution_count": 18,
   "id": "bd98d806-c894-4269-8fde-cc51b5905ff6",
   "metadata": {},
   "outputs": [
    {
     "data": {
      "text/html": [
       "<table>\n",
       " <thead>\n",
       "  <tr>\n",
       "   <th style=\"text-align:left;\"> Chrom </th>\n",
       "   <th style=\"text-align:right;\"> ChromStart </th>\n",
       "   <th style=\"text-align:right;\"> ChromEnd </th>\n",
       "   <th style=\"text-align:left;\"> Region </th>\n",
       "   <th style=\"text-align:left;\"> Group </th>\n",
       "  </tr>\n",
       " </thead>\n",
       "<tbody>\n",
       "  <tr>\n",
       "   <td style=\"text-align:left;\"> chr1 </td>\n",
       "   <td style=\"text-align:right;\"> 778233 </td>\n",
       "   <td style=\"text-align:right;\"> 779389 </td>\n",
       "   <td style=\"text-align:left;\"> chr1:778233-779389 </td>\n",
       "   <td style=\"text-align:left;\"> Distal:Active </td>\n",
       "  </tr>\n",
       "  <tr>\n",
       "   <td style=\"text-align:left;\"> chr1 </td>\n",
       "   <td style=\"text-align:right;\"> 958722 </td>\n",
       "   <td style=\"text-align:right;\"> 959968 </td>\n",
       "   <td style=\"text-align:left;\"> chr1:958722-959968 </td>\n",
       "   <td style=\"text-align:left;\"> Proximal:Active </td>\n",
       "  </tr>\n",
       "  <tr>\n",
       "   <td style=\"text-align:left;\"> chr1 </td>\n",
       "   <td style=\"text-align:right;\"> 960468 </td>\n",
       "   <td style=\"text-align:right;\"> 961615 </td>\n",
       "   <td style=\"text-align:left;\"> chr1:960468-961615 </td>\n",
       "   <td style=\"text-align:left;\"> Proximal:Active </td>\n",
       "  </tr>\n",
       "</tbody>\n",
       "</table>"
      ]
     },
     "metadata": {},
     "output_type": "display_data"
    }
   ],
   "source": [
    "txt_fdiry = file.path(\n",
    "    FD_RES, \n",
    "    \"region_integration\",\n",
    "    \"fcc_astarr_macs_input_overlap\",\n",
    "    \"analysis_enrichment_v2\",\n",
    "    \"fcc_starrmpra_vote2_v2_split_pool_by_tss\",\n",
    "    \"shared\"\n",
    ")\n",
    "txt_fname = \"region.annotation.fcc.label.tsv\"\n",
    "txt_fpath = file.path(txt_fdiry, txt_fname)\n",
    "\n",
    "dat = dat_region_focal\n",
    "write_tsv(dat, txt_fpath)\n",
    "fun_display_table(head(dat, 3))"
   ]
  },
  {
   "cell_type": "code",
   "execution_count": 19,
   "id": "35a17690-3561-4617-b875-22c2a3fd02d8",
   "metadata": {},
   "outputs": [
    {
     "data": {
      "text/html": [
       "<table>\n",
       " <thead>\n",
       "  <tr>\n",
       "   <th style=\"text-align:left;\"> Chrom </th>\n",
       "   <th style=\"text-align:right;\"> ChromStart </th>\n",
       "   <th style=\"text-align:right;\"> ChromEnd </th>\n",
       "   <th style=\"text-align:left;\"> Region </th>\n",
       "   <th style=\"text-align:left;\"> Group </th>\n",
       "  </tr>\n",
       " </thead>\n",
       "<tbody>\n",
       "  <tr>\n",
       "   <td style=\"text-align:left;\"> chr1 </td>\n",
       "   <td style=\"text-align:right;\"> 10038 </td>\n",
       "   <td style=\"text-align:right;\"> 10405 </td>\n",
       "   <td style=\"text-align:left;\"> chr1:10038-10405 </td>\n",
       "   <td style=\"text-align:left;\"> Distal:Inactive </td>\n",
       "  </tr>\n",
       "  <tr>\n",
       "   <td style=\"text-align:left;\"> chr1 </td>\n",
       "   <td style=\"text-align:right;\"> 14282 </td>\n",
       "   <td style=\"text-align:right;\"> 14614 </td>\n",
       "   <td style=\"text-align:left;\"> chr1:14282-14614 </td>\n",
       "   <td style=\"text-align:left;\"> Distal:Inactive </td>\n",
       "  </tr>\n",
       "  <tr>\n",
       "   <td style=\"text-align:left;\"> chr1 </td>\n",
       "   <td style=\"text-align:right;\"> 16025 </td>\n",
       "   <td style=\"text-align:right;\"> 16338 </td>\n",
       "   <td style=\"text-align:left;\"> chr1:16025-16338 </td>\n",
       "   <td style=\"text-align:left;\"> Distal:Inactive </td>\n",
       "  </tr>\n",
       "</tbody>\n",
       "</table>"
      ]
     },
     "metadata": {},
     "output_type": "display_data"
    }
   ],
   "source": [
    "txt_fdiry = file.path(\n",
    "    FD_RES, \n",
    "    \"region_integration\",\n",
    "    \"fcc_astarr_macs_input_overlap\",\n",
    "    \"analysis_enrichment_v2\",\n",
    "    \"fcc_starrmpra_vote2_v2_split_pool_by_tss\",\n",
    "    \"shared\"\n",
    ")\n",
    "txt_fname = \"region.annotation.fcc.control.tsv\"\n",
    "txt_fpath = file.path(txt_fdiry, txt_fname)\n",
    "\n",
    "dat = dat_region_pool\n",
    "write_tsv(dat, txt_fpath)\n",
    "fun_display_table(head(dat, 3))"
   ]
  },
  {
   "cell_type": "code",
   "execution_count": null,
   "id": "7d64692c-734f-4749-99d7-68ce78f5a925",
   "metadata": {},
   "outputs": [],
   "source": []
  }
 ],
 "metadata": {
  "kernelspec": {
   "display_name": "R",
   "language": "R",
   "name": "ir"
  },
  "language_info": {
   "codemirror_mode": "r",
   "file_extension": ".r",
   "mimetype": "text/x-r-source",
   "name": "R",
   "pygments_lexer": "r",
   "version": "4.4.2"
  }
 },
 "nbformat": 4,
 "nbformat_minor": 5
}
