{
 "cells": [
  {
   "cell_type": "raw",
   "id": "14c6d54d-4ad8-4bea-b075-25b56e913bf3",
   "metadata": {},
   "source": [
    "---\n",
    "title: FCC Peak calls\n",
    "subtitle: export annotation\n",
    "format:\n",
    "    html:\n",
    "        code-fold:  true\n",
    "        code-tools: true\n",
    "---"
   ]
  },
  {
   "cell_type": "markdown",
   "id": "e2c7470b-28e0-42f0-9df9-49cf11991cc7",
   "metadata": {},
   "source": [
    "**Set environment**"
   ]
  },
  {
   "cell_type": "code",
   "execution_count": 1,
   "id": "eaf6d5a7-1871-4ba5-beaf-6bb3e21344c0",
   "metadata": {},
   "outputs": [
    {
     "name": "stdout",
     "output_type": "stream",
     "text": [
      "You are working on        Singularity: singularity_proj_encode_fcc \n",
      "BASE DIRECTORY (FD_BASE): /data/reddylab/Kuei \n",
      "REPO DIRECTORY (FD_REPO): /data/reddylab/Kuei/repo \n",
      "WORK DIRECTORY (FD_WORK): /data/reddylab/Kuei/work \n",
      "DATA DIRECTORY (FD_DATA): /data/reddylab/Kuei/data \n",
      "\n",
      "You are working with      ENCODE FCC \n",
      "PATH OF PROJECT (FD_PRJ): /data/reddylab/Kuei/repo/Proj_ENCODE_FCC \n",
      "PROJECT RESULTS (FD_RES): /data/reddylab/Kuei/repo/Proj_ENCODE_FCC/results \n",
      "PROJECT SCRIPTS (FD_EXE): /data/reddylab/Kuei/repo/Proj_ENCODE_FCC/scripts \n",
      "PROJECT DATA    (FD_DAT): /data/reddylab/Kuei/repo/Proj_ENCODE_FCC/data \n",
      "PROJECT NOTE    (FD_NBK): /data/reddylab/Kuei/repo/Proj_ENCODE_FCC/notebooks \n",
      "PROJECT DOCS    (FD_DOC): /data/reddylab/Kuei/repo/Proj_ENCODE_FCC/docs \n",
      "PROJECT LOG     (FD_LOG): /data/reddylab/Kuei/repo/Proj_ENCODE_FCC/log \n",
      "PROJECT REF     (FD_REF): /data/reddylab/Kuei/repo/Proj_ENCODE_FCC/references \n",
      "\n"
     ]
    }
   ],
   "source": [
    "suppressMessages(suppressWarnings(source(\"../run_config_project_sing.R\")))\n",
    "show_env()"
   ]
  },
  {
   "cell_type": "code",
   "execution_count": 2,
   "id": "4a4eb87e-1401-4712-b2ce-b80ddee06647",
   "metadata": {},
   "outputs": [
    {
     "name": "stdout",
     "output_type": "stream",
     "text": [
      "atac_ENCFF333TAT \n",
      "atac_ENCFF558BLC \n",
      "atac_ENCFF925CYR \n",
      "atac_ENCFF948AFM \n",
      "dnase_ENCFF185XRG \n",
      "dnase_ENCFF274YGF \n",
      "fcc_astarr_macs_input_overlap \n",
      "fcc_astarr_macs_input_union \n"
     ]
    }
   ],
   "source": [
    "txt_fdiry = file.path(FD_RES, \"region_coverage_fcc\")\n",
    "vec = dir(txt_fdiry)\n",
    "for (txt in vec) {cat(txt, \"\\n\")}"
   ]
  },
  {
   "cell_type": "code",
   "execution_count": 3,
   "id": "02d233f2-8b5e-4b89-ae8f-d6d7fb994205",
   "metadata": {},
   "outputs": [
    {
     "name": "stdout",
     "output_type": "stream",
     "text": [
      "CRISPRi_FlowFISH_K562_Riley_JinWoo \n",
      "CRISPRi_Growth_K562_Gersbach_JinWoo \n",
      "MPRA_Lenti_K562_Nadav_Vikram \n",
      "MPRA_Tiling_K562_Tewhey_Hannah \n",
      "STARR_ATAC_K562_Reddy_KS274 \n",
      "STARR_ATAC_K562_Reddy_KS91 \n",
      "STARR_ATAC_K562_Reddy_KSMerge \n",
      "STARR_WHG_K562_Reddy_A001 \n",
      "summary \n"
     ]
    }
   ],
   "source": [
    "txt_region = \"fcc_astarr_macs_input_overlap\"\n",
    "txt_fdiry  = file.path(FD_RES, \"region_coverage_fcc\", txt_region)\n",
    "vec = dir(txt_fdiry)\n",
    "for (txt in vec) {cat(txt, \"\\n\")}"
   ]
  },
  {
   "cell_type": "code",
   "execution_count": 4,
   "id": "8310d0f7-11c8-4cef-a24e-cbeea765f9df",
   "metadata": {},
   "outputs": [],
   "source": [
    "VEC_TXT_ASSAY_NAME = c(\n",
    "    \"CRISPRi_FlowFISH_K562_Riley_JinWoo\",\n",
    "    \"CRISPRi_Growth_K562_Gersbach_JinWoo\", \n",
    "    \"MPRA_Lenti_K562_Nadav_Vikram\", \n",
    "    \"MPRA_Tiling_K562_Tewhey_Hannah\", \n",
    "    \"STARR_ATAC_K562_Reddy_KS274\", \n",
    "    \"STARR_ATAC_K562_Reddy_KS91\", \n",
    "    \"STARR_ATAC_K562_Reddy_KSMerge\", \n",
    "    \"STARR_WHG_K562_Reddy_A001\"\n",
    ")\n",
    "\n",
    "VEC_TXT_ASSAY_TYPE = c(\n",
    "    \"CRISPRi-HCRFF\",\n",
    "    \"CRISPRi-Growth\",\n",
    "    \"LMPRA\",\n",
    "    \"TMPRA\",\n",
    "    \"ASTARR\",\n",
    "    \"ASTARR\",\n",
    "    \"ASTARR\",\n",
    "    \"WSTARR\"\n",
    ")\n",
    "\n",
    "VEC_TXT_ASSAY_GROUP = c(\n",
    "    \"CRISPRi-HCRFF\",\n",
    "    \"CRISPRi-Growth\",\n",
    "    \"LMPRA\",\n",
    "    \"TMPRA\",\n",
    "    \"ASTARR_KS274\",\n",
    "    \"ASTARR_KS91\",\n",
    "    \"ASTARR_KSMerge\",\n",
    "    \"WSTARR\"\n",
    ")\n",
    "\n",
    "VEC_TXT_ASSAY_LABEL = c(\n",
    "    \"CRISPRi-HCR FlowFISH\",\n",
    "    \"CRISPRi-Growth\", \n",
    "    \"Lenti-MPRA\", \n",
    "    \"Tiling-MPRA\", \n",
    "    \"ATAC-STARR\", \n",
    "    \"ATAC-STARR\", \n",
    "    \"ATAC-STARR\", \n",
    "    \"WHG-STARR\"\n",
    ")\n",
    "\n",
    "fun1 = function(txt){\n",
    "    vec1 = VEC_TXT_ASSAY_NAME\n",
    "    vec2 = VEC_TXT_ASSAY_NAME\n",
    "    res  = fun_str_map_detect(txt, vec1, vec2)\n",
    "    return(res)\n",
    "}\n",
    "\n",
    "fun2 = function(txt){\n",
    "    vec1 = VEC_TXT_ASSAY_NAME\n",
    "    vec2 = VEC_TXT_ASSAY_TYPE\n",
    "    res  = fun_str_map_detect(txt, vec1, vec2)\n",
    "    return(res)\n",
    "}\n",
    "\n",
    "fun3 = function(txt){\n",
    "    vec1 = VEC_TXT_ASSAY_NAME\n",
    "    vec2 = VEC_TXT_ASSAY_GROUP\n",
    "    res  = fun_str_map_detect(txt, vec1, vec2)\n",
    "    return(res)\n",
    "}\n",
    "\n",
    "fun4 = function(txt){\n",
    "    vec1 = VEC_TXT_ASSAY_NAME\n",
    "    vec2 = VEC_TXT_ASSAY_LABEL\n",
    "    res  = fun_str_map_detect(txt, vec1, vec2)\n",
    "    return(res)\n",
    "}"
   ]
  },
  {
   "cell_type": "code",
   "execution_count": 5,
   "id": "d7aa966c-ba65-42ff-8171-8083a42296f6",
   "metadata": {},
   "outputs": [
    {
     "name": "stdout",
     "output_type": "stream",
     "text": [
      "/data/reddylab/Kuei/repo/Proj_ENCODE_FCC/results/region_coverage_fcc/fcc_astarr_macs_input_overlap/MPRA_Tiling_K562_Tewhey_Hannah/overlap_score/summary/result.coverage.Log2FC.deseq.tsv \n",
      "/data/reddylab/Kuei/repo/Proj_ENCODE_FCC/results/region_coverage_fcc/fcc_astarr_macs_input_overlap/STARR_ATAC_K562_Reddy_KS274/overlap_score/summary/result.coverage.Log2FC.deseq.tsv \n",
      "/data/reddylab/Kuei/repo/Proj_ENCODE_FCC/results/region_coverage_fcc/fcc_astarr_macs_input_overlap/STARR_ATAC_K562_Reddy_KS91/overlap_score/summary/result.coverage.Log2FC.deseq.tsv \n",
      "/data/reddylab/Kuei/repo/Proj_ENCODE_FCC/results/region_coverage_fcc/fcc_astarr_macs_input_overlap/STARR_ATAC_K562_Reddy_KSMerge/overlap_score/summary/result.coverage.Log2FC.deseq.tsv \n",
      "/data/reddylab/Kuei/repo/Proj_ENCODE_FCC/results/region_coverage_fcc/fcc_astarr_macs_input_overlap/STARR_WHG_K562_Reddy_A001/overlap_score/summary/result.coverage.Log2FC.deseq.tsv \n"
     ]
    }
   ],
   "source": [
    "txt_region = \"fcc_astarr_macs_input_overlap\"\n",
    "txt_fdiry  = file.path(FD_RES, \"region_coverage_fcc\", txt_region)\n",
    "txt_fname  = \"result.coverage.Log2FC.deseq.tsv\"\n",
    "txt_fglob  = file.path(txt_fdiry, \"*\", \"overlap_score\", \"summary\", txt_fname)\n",
    "vec = Sys.glob(txt_fglob)\n",
    "\n",
    "vec_txt_fpath = vec\n",
    "\n",
    "for (txt in vec) {cat(txt, \"\\n\")}"
   ]
  },
  {
   "cell_type": "code",
   "execution_count": 6,
   "id": "76f0216e-bf42-4ee4-8537-7bb56ed75884",
   "metadata": {},
   "outputs": [],
   "source": [
    "for (txt_fpath in vec_txt_fpath){\n",
    "    dat = read_tsv(txt_fpath, show_col_types = FALSE)\n",
    "    dat = dat %>% \n",
    "        dplyr::mutate(\n",
    "            Score = as.vector(scale(log2FoldChange)),\n",
    "            Assay_Name  = fun1(txt_fpath),\n",
    "            Assay_Type  = fun2(txt_fpath),\n",
    "            Assay_Group = fun3(txt_fpath),\n",
    "            Assay_Label = fun4(txt_fpath)\n",
    "        ) %>%\n",
    "        dplyr::select(\n",
    "            Chrom, ChromStart, ChromEnd, Region, Score, \n",
    "            Assay_Name,  \n",
    "            Assay_Type,\n",
    "            Assay_Group,\n",
    "            Assay_Label\n",
    "        ) %>%\n",
    "        dplyr::arrange(Chrom, ChromStart, ChromEnd)\n",
    "    \n",
    "    txt_fdiry = dirname(txt_fpath)\n",
    "    txt_fname = \"result.coverage.zscore.tsv\"\n",
    "    txt_fpath = file.path(txt_fdiry, txt_fname)\n",
    "\n",
    "    dat = dat %>% na.omit\n",
    "    write_tsv(dat, txt_fpath)\n",
    "}"
   ]
  },
  {
   "cell_type": "code",
   "execution_count": 7,
   "id": "a6aeaf10-bb49-4bee-b8be-629e18e34d92",
   "metadata": {},
   "outputs": [
    {
     "name": "stdout",
     "output_type": "stream",
     "text": [
      "/data/reddylab/Kuei/repo/Proj_ENCODE_FCC/results/region_coverage_fcc/fcc_astarr_macs_input_overlap/CRISPRi_FlowFISH_K562_Riley_JinWoo/overlap_score/summary/result.score.tsv \n",
      "/data/reddylab/Kuei/repo/Proj_ENCODE_FCC/results/region_coverage_fcc/fcc_astarr_macs_input_overlap/CRISPRi_Growth_K562_Gersbach_JinWoo/overlap_score/summary/result.score.tsv \n",
      "/data/reddylab/Kuei/repo/Proj_ENCODE_FCC/results/region_coverage_fcc/fcc_astarr_macs_input_overlap/MPRA_Lenti_K562_Nadav_Vikram/overlap_score/summary/result.score.tsv \n"
     ]
    }
   ],
   "source": [
    "txt_region = \"fcc_astarr_macs_input_overlap\"\n",
    "txt_fdiry  = file.path(FD_RES, \"region_coverage_fcc\", txt_region)\n",
    "txt_fname  = \"result.score.tsv\"\n",
    "txt_fglob  = file.path(txt_fdiry, \"*\", \"overlap_score\", \"summary\", txt_fname)\n",
    "vec = Sys.glob(txt_fglob)\n",
    "\n",
    "vec_txt_fpath = vec\n",
    "\n",
    "for (txt in vec) {cat(txt, \"\\n\")}"
   ]
  },
  {
   "cell_type": "code",
   "execution_count": 8,
   "id": "f9a170e7-2af6-4111-aae0-277feb4de33f",
   "metadata": {},
   "outputs": [],
   "source": [
    "for (txt_fpath in vec_txt_fpath){\n",
    "    dat = read_tsv(txt_fpath, show_col_types = FALSE)\n",
    "    dat = dat %>% \n",
    "        dplyr::mutate(\n",
    "            Score = as.vector(scale(Mean)),\n",
    "            Assay_Name  = fun1(txt_fpath),\n",
    "            Assay_Type  = fun2(txt_fpath),\n",
    "            Assay_Group = fun3(txt_fpath),\n",
    "            Assay_Label = fun4(txt_fpath)\n",
    "        ) %>%\n",
    "        dplyr::select(\n",
    "            Chrom, ChromStart, ChromEnd, Region, Score, \n",
    "            Assay_Name,  \n",
    "            Assay_Type,\n",
    "            Assay_Group,\n",
    "            Assay_Label\n",
    "        ) %>%\n",
    "        dplyr::arrange(Chrom, ChromStart, ChromEnd)\n",
    "\n",
    "    txt_fdiry = dirname(txt_fpath)\n",
    "    txt_fname = \"result.coverage.zscore.tsv\"\n",
    "    txt_fpath = file.path(txt_fdiry, txt_fname)\n",
    "\n",
    "    dat = dat %>% na.omit\n",
    "    write_tsv(dat, txt_fpath)\n",
    "}"
   ]
  },
  {
   "cell_type": "code",
   "execution_count": 11,
   "id": "d91369be-8b23-48ac-b1e1-26d4a96f9701",
   "metadata": {},
   "outputs": [
    {
     "name": "stdout",
     "output_type": "stream",
     "text": [
      "/data/reddylab/Kuei/repo/Proj_ENCODE_FCC/results/region_coverage_fcc/fcc_astarr_macs_input_overlap/CRISPRi_FlowFISH_K562_Riley_JinWoo/overlap_score/summary/result.coverage.zscore.tsv \n",
      "/data/reddylab/Kuei/repo/Proj_ENCODE_FCC/results/region_coverage_fcc/fcc_astarr_macs_input_overlap/CRISPRi_Growth_K562_Gersbach_JinWoo/overlap_score/summary/result.coverage.zscore.tsv \n",
      "/data/reddylab/Kuei/repo/Proj_ENCODE_FCC/results/region_coverage_fcc/fcc_astarr_macs_input_overlap/MPRA_Lenti_K562_Nadav_Vikram/overlap_score/summary/result.coverage.zscore.tsv \n",
      "/data/reddylab/Kuei/repo/Proj_ENCODE_FCC/results/region_coverage_fcc/fcc_astarr_macs_input_overlap/MPRA_Tiling_K562_Tewhey_Hannah/overlap_score/summary/result.coverage.zscore.tsv \n",
      "/data/reddylab/Kuei/repo/Proj_ENCODE_FCC/results/region_coverage_fcc/fcc_astarr_macs_input_overlap/STARR_ATAC_K562_Reddy_KS274/overlap_score/summary/result.coverage.zscore.tsv \n",
      "/data/reddylab/Kuei/repo/Proj_ENCODE_FCC/results/region_coverage_fcc/fcc_astarr_macs_input_overlap/STARR_ATAC_K562_Reddy_KS91/overlap_score/summary/result.coverage.zscore.tsv \n",
      "/data/reddylab/Kuei/repo/Proj_ENCODE_FCC/results/region_coverage_fcc/fcc_astarr_macs_input_overlap/STARR_ATAC_K562_Reddy_KSMerge/overlap_score/summary/result.coverage.zscore.tsv \n",
      "/data/reddylab/Kuei/repo/Proj_ENCODE_FCC/results/region_coverage_fcc/fcc_astarr_macs_input_overlap/STARR_WHG_K562_Reddy_A001/overlap_score/summary/result.coverage.zscore.tsv \n"
     ]
    }
   ],
   "source": [
    "txt_region = \"fcc_astarr_macs_input_overlap\"\n",
    "txt_fdiry  = file.path(FD_RES, \"region_coverage_fcc\", txt_region)\n",
    "txt_fname  = \"result.coverage.zscore.tsv\"\n",
    "txt_fglob  = file.path(txt_fdiry, \"*\", \"overlap_score\", \"summary\", txt_fname)\n",
    "vec = Sys.glob(txt_fglob)\n",
    "\n",
    "vec_txt_fpath = vec\n",
    "\n",
    "for (txt in vec) {cat(txt, \"\\n\")}"
   ]
  },
  {
   "cell_type": "code",
   "execution_count": 22,
   "id": "7715c033-c80e-461a-bf4d-74414c4208d2",
   "metadata": {},
   "outputs": [],
   "source": [
    "vec_txt_assay = c(\n",
    "    \"CRISPRi_FlowFISH_K562_Riley_JinWoo\",\n",
    "    \"CRISPRi_Growth_K562_Gersbach_JinWoo\", \n",
    "    \"MPRA_Lenti_K562_Nadav_Vikram\", \n",
    "    \"MPRA_Tiling_K562_Tewhey_Hannah\", \n",
    "    \"STARR_ATAC_K562_Reddy_KS91\", \n",
    "    \"STARR_WHG_K562_Reddy_A001\"\n",
    ")\n",
    "lst = lapply(vec_txt_fpath, function(txt_fpath){\n",
    "    dat = read_tsv(txt_fpath, show_col_types = FALSE)\n",
    "    return(dat)\n",
    "})\n",
    "dat = bind_rows(lst)\n",
    "dat_zscore_total = dat\n",
    "\n",
    "dat = dat_zscore_total\n",
    "dat = dat %>% \n",
    "    dplyr::filter(Assay_Name %in% vec_txt_assay)\n",
    "dat_zscore_final = dat\n",
    "\n",
    "dat = dat_zscore_total\n",
    "dat = dat %>% \n",
    "    dplyr::filter(Assay_Name %in% vec_txt_assay) %>% \n",
    "    dplyr::mutate(Assay = Assay_Label) %>%\n",
    "    dplyr::select(Chrom, ChromStart, ChromEnd, Region, Score, Assay)\n",
    "dat_zscore_share = dat"
   ]
  },
  {
   "cell_type": "code",
   "execution_count": null,
   "id": "e46b5008-e462-484d-8b42-bb6119f050f1",
   "metadata": {},
   "outputs": [],
   "source": []
  },
  {
   "cell_type": "code",
   "execution_count": 23,
   "id": "c07b4407-300b-43b4-9f9a-7cb8045fcad4",
   "metadata": {},
   "outputs": [
    {
     "name": "stdout",
     "output_type": "stream",
     "text": [
      "[1] 732586      9\n"
     ]
    },
    {
     "data": {
      "text/html": [
       "<table>\n",
       " <thead>\n",
       "  <tr>\n",
       "   <th style=\"text-align:left;\"> Chrom </th>\n",
       "   <th style=\"text-align:right;\"> ChromStart </th>\n",
       "   <th style=\"text-align:right;\"> ChromEnd </th>\n",
       "   <th style=\"text-align:left;\"> Region </th>\n",
       "   <th style=\"text-align:right;\"> Score </th>\n",
       "   <th style=\"text-align:left;\"> Assay_Name </th>\n",
       "   <th style=\"text-align:left;\"> Assay_Type </th>\n",
       "   <th style=\"text-align:left;\"> Assay_Group </th>\n",
       "   <th style=\"text-align:left;\"> Assay_Label </th>\n",
       "  </tr>\n",
       " </thead>\n",
       "<tbody>\n",
       "  <tr>\n",
       "   <td style=\"text-align:left;\"> chr10 </td>\n",
       "   <td style=\"text-align:right;\"> 100729094 </td>\n",
       "   <td style=\"text-align:right;\"> 100729750 </td>\n",
       "   <td style=\"text-align:left;\"> chr10:100729094-100729750 </td>\n",
       "   <td style=\"text-align:right;\"> -0.3065107 </td>\n",
       "   <td style=\"text-align:left;\"> CRISPRi_FlowFISH_K562_Riley_JinWoo </td>\n",
       "   <td style=\"text-align:left;\"> CRISPRi-HCRFF </td>\n",
       "   <td style=\"text-align:left;\"> CRISPRi-HCRFF </td>\n",
       "   <td style=\"text-align:left;\"> CRISPRi-HCR FlowFISH </td>\n",
       "  </tr>\n",
       "  <tr>\n",
       "   <td style=\"text-align:left;\"> chr10 </td>\n",
       "   <td style=\"text-align:right;\"> 100743501 </td>\n",
       "   <td style=\"text-align:right;\"> 100744571 </td>\n",
       "   <td style=\"text-align:left;\"> chr10:100743501-100744571 </td>\n",
       "   <td style=\"text-align:right;\"> -0.2702473 </td>\n",
       "   <td style=\"text-align:left;\"> CRISPRi_FlowFISH_K562_Riley_JinWoo </td>\n",
       "   <td style=\"text-align:left;\"> CRISPRi-HCRFF </td>\n",
       "   <td style=\"text-align:left;\"> CRISPRi-HCRFF </td>\n",
       "   <td style=\"text-align:left;\"> CRISPRi-HCR FlowFISH </td>\n",
       "  </tr>\n",
       "  <tr>\n",
       "   <td style=\"text-align:left;\"> chr10 </td>\n",
       "   <td style=\"text-align:right;\"> 100745413 </td>\n",
       "   <td style=\"text-align:right;\"> 100745741 </td>\n",
       "   <td style=\"text-align:left;\"> chr10:100745413-100745741 </td>\n",
       "   <td style=\"text-align:right;\"> 0.1130381 </td>\n",
       "   <td style=\"text-align:left;\"> CRISPRi_FlowFISH_K562_Riley_JinWoo </td>\n",
       "   <td style=\"text-align:left;\"> CRISPRi-HCRFF </td>\n",
       "   <td style=\"text-align:left;\"> CRISPRi-HCRFF </td>\n",
       "   <td style=\"text-align:left;\"> CRISPRi-HCR FlowFISH </td>\n",
       "  </tr>\n",
       "</tbody>\n",
       "</table>"
      ]
     },
     "metadata": {},
     "output_type": "display_data"
    }
   ],
   "source": [
    "dat = dat_zscore_total\n",
    "print(dim(dat))\n",
    "fun_display_table(head(dat, 3))"
   ]
  },
  {
   "cell_type": "code",
   "execution_count": 24,
   "id": "1ac66ca1-dde3-4a56-a4d5-d17d4e70febe",
   "metadata": {},
   "outputs": [
    {
     "name": "stdout",
     "output_type": "stream",
     "text": [
      "[1] 432505      9\n"
     ]
    },
    {
     "data": {
      "text/html": [
       "<table>\n",
       " <thead>\n",
       "  <tr>\n",
       "   <th style=\"text-align:left;\"> Chrom </th>\n",
       "   <th style=\"text-align:right;\"> ChromStart </th>\n",
       "   <th style=\"text-align:right;\"> ChromEnd </th>\n",
       "   <th style=\"text-align:left;\"> Region </th>\n",
       "   <th style=\"text-align:right;\"> Score </th>\n",
       "   <th style=\"text-align:left;\"> Assay_Name </th>\n",
       "   <th style=\"text-align:left;\"> Assay_Type </th>\n",
       "   <th style=\"text-align:left;\"> Assay_Group </th>\n",
       "   <th style=\"text-align:left;\"> Assay_Label </th>\n",
       "  </tr>\n",
       " </thead>\n",
       "<tbody>\n",
       "  <tr>\n",
       "   <td style=\"text-align:left;\"> chr10 </td>\n",
       "   <td style=\"text-align:right;\"> 100729094 </td>\n",
       "   <td style=\"text-align:right;\"> 100729750 </td>\n",
       "   <td style=\"text-align:left;\"> chr10:100729094-100729750 </td>\n",
       "   <td style=\"text-align:right;\"> -0.3065107 </td>\n",
       "   <td style=\"text-align:left;\"> CRISPRi_FlowFISH_K562_Riley_JinWoo </td>\n",
       "   <td style=\"text-align:left;\"> CRISPRi-HCRFF </td>\n",
       "   <td style=\"text-align:left;\"> CRISPRi-HCRFF </td>\n",
       "   <td style=\"text-align:left;\"> CRISPRi-HCR FlowFISH </td>\n",
       "  </tr>\n",
       "  <tr>\n",
       "   <td style=\"text-align:left;\"> chr10 </td>\n",
       "   <td style=\"text-align:right;\"> 100743501 </td>\n",
       "   <td style=\"text-align:right;\"> 100744571 </td>\n",
       "   <td style=\"text-align:left;\"> chr10:100743501-100744571 </td>\n",
       "   <td style=\"text-align:right;\"> -0.2702473 </td>\n",
       "   <td style=\"text-align:left;\"> CRISPRi_FlowFISH_K562_Riley_JinWoo </td>\n",
       "   <td style=\"text-align:left;\"> CRISPRi-HCRFF </td>\n",
       "   <td style=\"text-align:left;\"> CRISPRi-HCRFF </td>\n",
       "   <td style=\"text-align:left;\"> CRISPRi-HCR FlowFISH </td>\n",
       "  </tr>\n",
       "  <tr>\n",
       "   <td style=\"text-align:left;\"> chr10 </td>\n",
       "   <td style=\"text-align:right;\"> 100745413 </td>\n",
       "   <td style=\"text-align:right;\"> 100745741 </td>\n",
       "   <td style=\"text-align:left;\"> chr10:100745413-100745741 </td>\n",
       "   <td style=\"text-align:right;\"> 0.1130381 </td>\n",
       "   <td style=\"text-align:left;\"> CRISPRi_FlowFISH_K562_Riley_JinWoo </td>\n",
       "   <td style=\"text-align:left;\"> CRISPRi-HCRFF </td>\n",
       "   <td style=\"text-align:left;\"> CRISPRi-HCRFF </td>\n",
       "   <td style=\"text-align:left;\"> CRISPRi-HCR FlowFISH </td>\n",
       "  </tr>\n",
       "</tbody>\n",
       "</table>"
      ]
     },
     "metadata": {},
     "output_type": "display_data"
    }
   ],
   "source": [
    "dat = dat_zscore_final\n",
    "print(dim(dat))\n",
    "fun_display_table(head(dat, 3))"
   ]
  },
  {
   "cell_type": "code",
   "execution_count": 25,
   "id": "019eab21-d534-49f3-b2d2-93af5b6a8a60",
   "metadata": {},
   "outputs": [
    {
     "name": "stdout",
     "output_type": "stream",
     "text": [
      "[1] 432505      6\n"
     ]
    },
    {
     "data": {
      "text/html": [
       "<table>\n",
       " <thead>\n",
       "  <tr>\n",
       "   <th style=\"text-align:left;\"> Chrom </th>\n",
       "   <th style=\"text-align:right;\"> ChromStart </th>\n",
       "   <th style=\"text-align:right;\"> ChromEnd </th>\n",
       "   <th style=\"text-align:left;\"> Region </th>\n",
       "   <th style=\"text-align:right;\"> Score </th>\n",
       "   <th style=\"text-align:left;\"> Assay </th>\n",
       "  </tr>\n",
       " </thead>\n",
       "<tbody>\n",
       "  <tr>\n",
       "   <td style=\"text-align:left;\"> chr10 </td>\n",
       "   <td style=\"text-align:right;\"> 100729094 </td>\n",
       "   <td style=\"text-align:right;\"> 100729750 </td>\n",
       "   <td style=\"text-align:left;\"> chr10:100729094-100729750 </td>\n",
       "   <td style=\"text-align:right;\"> -0.3065107 </td>\n",
       "   <td style=\"text-align:left;\"> CRISPRi-HCR FlowFISH </td>\n",
       "  </tr>\n",
       "  <tr>\n",
       "   <td style=\"text-align:left;\"> chr10 </td>\n",
       "   <td style=\"text-align:right;\"> 100743501 </td>\n",
       "   <td style=\"text-align:right;\"> 100744571 </td>\n",
       "   <td style=\"text-align:left;\"> chr10:100743501-100744571 </td>\n",
       "   <td style=\"text-align:right;\"> -0.2702473 </td>\n",
       "   <td style=\"text-align:left;\"> CRISPRi-HCR FlowFISH </td>\n",
       "  </tr>\n",
       "  <tr>\n",
       "   <td style=\"text-align:left;\"> chr10 </td>\n",
       "   <td style=\"text-align:right;\"> 100745413 </td>\n",
       "   <td style=\"text-align:right;\"> 100745741 </td>\n",
       "   <td style=\"text-align:left;\"> chr10:100745413-100745741 </td>\n",
       "   <td style=\"text-align:right;\"> 0.1130381 </td>\n",
       "   <td style=\"text-align:left;\"> CRISPRi-HCR FlowFISH </td>\n",
       "  </tr>\n",
       "</tbody>\n",
       "</table>"
      ]
     },
     "metadata": {},
     "output_type": "display_data"
    }
   ],
   "source": [
    "dat = dat_zscore_share\n",
    "print(dim(dat))\n",
    "fun_display_table(head(dat, 3))"
   ]
  },
  {
   "cell_type": "code",
   "execution_count": null,
   "id": "e8be0c60-c4f0-4d0a-a7fe-09f50fb6e540",
   "metadata": {},
   "outputs": [],
   "source": []
  },
  {
   "cell_type": "code",
   "execution_count": 26,
   "id": "fd94d9db-acb8-44e6-84b4-b47de85e609e",
   "metadata": {},
   "outputs": [],
   "source": [
    "txt_region = \"fcc_astarr_macs_input_overlap\"\n",
    "txt_fdiry  = file.path(FD_RES, \"region_coverage_fcc\", txt_region, \"summary\")\n",
    "dir.create(txt_fdiry, showWarnings = FALSE)\n",
    "\n",
    "###\n",
    "txt_fname  = \"result.coverage.zscore.total.tsv\"\n",
    "txt_fpath  = file.path(txt_fdiry, txt_fname)\n",
    "\n",
    "dat = dat_zscore_total\n",
    "write_tsv(dat, txt_fpath)\n",
    "\n",
    "###\n",
    "txt_fname  = \"result.coverage.zscore.final.tsv\"\n",
    "txt_fpath  = file.path(txt_fdiry, txt_fname)\n",
    "\n",
    "dat = dat_zscore_final\n",
    "write_tsv(dat, txt_fpath)\n",
    "\n",
    "###\n",
    "txt_fname  = \"result.coverage.zscore.share.tsv\"\n",
    "txt_fpath  = file.path(txt_fdiry, txt_fname)\n",
    "\n",
    "dat = dat_zscore_share\n",
    "write_tsv(dat, txt_fpath)"
   ]
  },
  {
   "cell_type": "code",
   "execution_count": null,
   "id": "d19e9b45-1011-4d07-8d17-2ee972ce3cd5",
   "metadata": {},
   "outputs": [],
   "source": []
  }
 ],
 "metadata": {
  "kernelspec": {
   "display_name": "R",
   "language": "R",
   "name": "ir"
  },
  "language_info": {
   "codemirror_mode": "r",
   "file_extension": ".r",
   "mimetype": "text/x-r-source",
   "name": "R",
   "pygments_lexer": "r",
   "version": "4.4.1"
  }
 },
 "nbformat": 4,
 "nbformat_minor": 5
}
