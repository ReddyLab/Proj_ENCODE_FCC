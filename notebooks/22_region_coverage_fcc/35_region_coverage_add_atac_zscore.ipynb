{
 "cells": [
  {
   "cell_type": "raw",
   "id": "3403edb4-4864-44e4-abf2-16dbcdd28325",
   "metadata": {},
   "source": [
    "---\n",
    "title: FCC Peak calls\n",
    "subtitle: export annotation\n",
    "format:\n",
    "    html:\n",
    "        code-fold:  true\n",
    "        code-tools: true\n",
    "---"
   ]
  },
  {
   "cell_type": "markdown",
   "id": "74288e90-b49f-4452-9ee8-7a3a5786fcae",
   "metadata": {},
   "source": [
    "**Set environment**"
   ]
  },
  {
   "cell_type": "code",
   "execution_count": 1,
   "id": "7c80062e-b517-40e9-bf11-5a022d9f4462",
   "metadata": {},
   "outputs": [
    {
     "name": "stdout",
     "output_type": "stream",
     "text": [
      "You are working on        Singularity: singularity_proj_encode_fcc \n",
      "BASE DIRECTORY (FD_BASE): /data/reddylab/Kuei \n",
      "REPO DIRECTORY (FD_REPO): /data/reddylab/Kuei/repo \n",
      "WORK DIRECTORY (FD_WORK): /data/reddylab/Kuei/work \n",
      "DATA DIRECTORY (FD_DATA): /data/reddylab/Kuei/data \n",
      "\n",
      "You are working with      ENCODE FCC \n",
      "PATH OF PROJECT (FD_PRJ): /data/reddylab/Kuei/repo/Proj_ENCODE_FCC \n",
      "PROJECT RESULTS (FD_RES): /data/reddylab/Kuei/repo/Proj_ENCODE_FCC/results \n",
      "PROJECT SCRIPTS (FD_EXE): /data/reddylab/Kuei/repo/Proj_ENCODE_FCC/scripts \n",
      "PROJECT DATA    (FD_DAT): /data/reddylab/Kuei/repo/Proj_ENCODE_FCC/data \n",
      "PROJECT NOTE    (FD_NBK): /data/reddylab/Kuei/repo/Proj_ENCODE_FCC/notebooks \n",
      "PROJECT DOCS    (FD_DOC): /data/reddylab/Kuei/repo/Proj_ENCODE_FCC/docs \n",
      "PROJECT LOG     (FD_LOG): /data/reddylab/Kuei/repo/Proj_ENCODE_FCC/log \n",
      "PROJECT REF     (FD_REF): /data/reddylab/Kuei/repo/Proj_ENCODE_FCC/references \n",
      "\n"
     ]
    }
   ],
   "source": [
    "suppressMessages(suppressWarnings(source(\"../run_config_project_sing.R\")))\n",
    "show_env()"
   ]
  },
  {
   "cell_type": "markdown",
   "id": "bdbec5fc-e94a-419b-8e42-987209fc0afc",
   "metadata": {},
   "source": [
    "## Import ASTARR input"
   ]
  },
  {
   "cell_type": "code",
   "execution_count": 4,
   "id": "08407797-2d08-4d6b-b4be-984d50722db7",
   "metadata": {},
   "outputs": [
    {
     "name": "stdout",
     "output_type": "stream",
     "text": [
      "[1] 150041      8\n"
     ]
    },
    {
     "data": {
      "text/html": [
       "<table>\n",
       " <thead>\n",
       "  <tr>\n",
       "   <th style=\"text-align:left;\"> Chrom </th>\n",
       "   <th style=\"text-align:right;\"> ChromStart </th>\n",
       "   <th style=\"text-align:right;\"> ChromEnd </th>\n",
       "   <th style=\"text-align:left;\"> Region </th>\n",
       "   <th style=\"text-align:right;\"> Input_FPKM </th>\n",
       "   <th style=\"text-align:right;\"> Input_TPM </th>\n",
       "   <th style=\"text-align:right;\"> Output_FPKM </th>\n",
       "   <th style=\"text-align:right;\"> Output_TPM </th>\n",
       "  </tr>\n",
       " </thead>\n",
       "<tbody>\n",
       "  <tr>\n",
       "   <td style=\"text-align:left;\"> chr1 </td>\n",
       "   <td style=\"text-align:right;\"> 10038 </td>\n",
       "   <td style=\"text-align:right;\"> 10405 </td>\n",
       "   <td style=\"text-align:left;\"> chr1:10038-10405 </td>\n",
       "   <td style=\"text-align:right;\"> 0.0041644 </td>\n",
       "   <td style=\"text-align:right;\"> 3.940038 </td>\n",
       "   <td style=\"text-align:right;\"> 0.0007357 </td>\n",
       "   <td style=\"text-align:right;\"> 0.7181993 </td>\n",
       "  </tr>\n",
       "  <tr>\n",
       "   <td style=\"text-align:left;\"> chr1 </td>\n",
       "   <td style=\"text-align:right;\"> 14282 </td>\n",
       "   <td style=\"text-align:right;\"> 14614 </td>\n",
       "   <td style=\"text-align:left;\"> chr1:14282-14614 </td>\n",
       "   <td style=\"text-align:right;\"> 0.0030033 </td>\n",
       "   <td style=\"text-align:right;\"> 2.841707 </td>\n",
       "   <td style=\"text-align:right;\"> 0.0022621 </td>\n",
       "   <td style=\"text-align:right;\"> 2.2104314 </td>\n",
       "  </tr>\n",
       "  <tr>\n",
       "   <td style=\"text-align:left;\"> chr1 </td>\n",
       "   <td style=\"text-align:right;\"> 16025 </td>\n",
       "   <td style=\"text-align:right;\"> 16338 </td>\n",
       "   <td style=\"text-align:left;\"> chr1:16025-16338 </td>\n",
       "   <td style=\"text-align:right;\"> 0.0040487 </td>\n",
       "   <td style=\"text-align:right;\"> 3.830812 </td>\n",
       "   <td style=\"text-align:right;\"> 0.0012867 </td>\n",
       "   <td style=\"text-align:right;\"> 1.2597204 </td>\n",
       "  </tr>\n",
       "</tbody>\n",
       "</table>"
      ]
     },
     "metadata": {},
     "output_type": "display_data"
    }
   ],
   "source": [
    "txt_fdiry = file.path(\n",
    "    FD_RES,\n",
    "    \"region_coverage_fcc\",\n",
    "    \"fcc_astarr_macs_input_overlap\", \n",
    "    \"STARR_ATAC_K562_Reddy_KS91\",\n",
    "    \"overlap_score\",\n",
    "    \"summary\"\n",
    ")\n",
    "\n",
    "txt_fname = \"result.coverage.TPM.FPKM.tsv\"\n",
    "txt_fpath = file.path(txt_fdiry, txt_fname)\n",
    "\n",
    "dat = read_tsv(txt_fpath, show_col_types = FALSE)\n",
    "\n",
    "dat_region_score_astarr = dat\n",
    "print(dim(dat))\n",
    "fun_display_table(head(dat, 3))"
   ]
  },
  {
   "cell_type": "code",
   "execution_count": null,
   "id": "d77a4b5f-d58c-4ae9-b257-00af9857d2e5",
   "metadata": {},
   "outputs": [],
   "source": []
  },
  {
   "cell_type": "code",
   "execution_count": 5,
   "id": "69337e09-2481-41ec-b43b-4076ccd10542",
   "metadata": {},
   "outputs": [
    {
     "name": "stdout",
     "output_type": "stream",
     "text": [
      "[1] 432505      9\n"
     ]
    },
    {
     "data": {
      "text/html": [
       "<table>\n",
       " <thead>\n",
       "  <tr>\n",
       "   <th style=\"text-align:left;\"> Chrom </th>\n",
       "   <th style=\"text-align:right;\"> ChromStart </th>\n",
       "   <th style=\"text-align:right;\"> ChromEnd </th>\n",
       "   <th style=\"text-align:left;\"> Region </th>\n",
       "   <th style=\"text-align:right;\"> Score </th>\n",
       "   <th style=\"text-align:left;\"> Assay_Name </th>\n",
       "   <th style=\"text-align:left;\"> Assay_Type </th>\n",
       "   <th style=\"text-align:left;\"> Assay_Group </th>\n",
       "   <th style=\"text-align:left;\"> Assay_Label </th>\n",
       "  </tr>\n",
       " </thead>\n",
       "<tbody>\n",
       "  <tr>\n",
       "   <td style=\"text-align:left;\"> chr10 </td>\n",
       "   <td style=\"text-align:right;\"> 100729094 </td>\n",
       "   <td style=\"text-align:right;\"> 100729750 </td>\n",
       "   <td style=\"text-align:left;\"> chr10:100729094-100729750 </td>\n",
       "   <td style=\"text-align:right;\"> -0.3065107 </td>\n",
       "   <td style=\"text-align:left;\"> CRISPRi_FlowFISH_K562_Riley_JinWoo </td>\n",
       "   <td style=\"text-align:left;\"> CRISPRi-HCRFF </td>\n",
       "   <td style=\"text-align:left;\"> CRISPRi-HCRFF </td>\n",
       "   <td style=\"text-align:left;\"> CRISPRi-HCR FlowFISH </td>\n",
       "  </tr>\n",
       "  <tr>\n",
       "   <td style=\"text-align:left;\"> chr10 </td>\n",
       "   <td style=\"text-align:right;\"> 100743501 </td>\n",
       "   <td style=\"text-align:right;\"> 100744571 </td>\n",
       "   <td style=\"text-align:left;\"> chr10:100743501-100744571 </td>\n",
       "   <td style=\"text-align:right;\"> -0.2702473 </td>\n",
       "   <td style=\"text-align:left;\"> CRISPRi_FlowFISH_K562_Riley_JinWoo </td>\n",
       "   <td style=\"text-align:left;\"> CRISPRi-HCRFF </td>\n",
       "   <td style=\"text-align:left;\"> CRISPRi-HCRFF </td>\n",
       "   <td style=\"text-align:left;\"> CRISPRi-HCR FlowFISH </td>\n",
       "  </tr>\n",
       "  <tr>\n",
       "   <td style=\"text-align:left;\"> chr10 </td>\n",
       "   <td style=\"text-align:right;\"> 100745413 </td>\n",
       "   <td style=\"text-align:right;\"> 100745741 </td>\n",
       "   <td style=\"text-align:left;\"> chr10:100745413-100745741 </td>\n",
       "   <td style=\"text-align:right;\"> 0.1130381 </td>\n",
       "   <td style=\"text-align:left;\"> CRISPRi_FlowFISH_K562_Riley_JinWoo </td>\n",
       "   <td style=\"text-align:left;\"> CRISPRi-HCRFF </td>\n",
       "   <td style=\"text-align:left;\"> CRISPRi-HCRFF </td>\n",
       "   <td style=\"text-align:left;\"> CRISPRi-HCR FlowFISH </td>\n",
       "  </tr>\n",
       "</tbody>\n",
       "</table>"
      ]
     },
     "metadata": {},
     "output_type": "display_data"
    }
   ],
   "source": [
    "txt_region = \"fcc_astarr_macs_input_overlap\"\n",
    "txt_fdiry  = file.path(\n",
    "    FD_RES, \n",
    "    \"region_coverage_fcc\", \n",
    "    txt_region, \n",
    "    \"summary\"\n",
    ")\n",
    "txt_fname  = \"result.coverage.zscore.final.tsv\"\n",
    "txt_fpath  = file.path(txt_fdiry, txt_fname)\n",
    "\n",
    "dat = read_tsv(txt_fpath, show_col_types = FALSE)\n",
    "\n",
    "dat_region_score_fcc = dat\n",
    "print(dim(dat))\n",
    "fun_display_table(head(dat, 3))"
   ]
  },
  {
   "cell_type": "code",
   "execution_count": null,
   "id": "e75962b2-8eaa-4dc6-ba57-6f7b7b8cc776",
   "metadata": {},
   "outputs": [],
   "source": []
  },
  {
   "cell_type": "code",
   "execution_count": null,
   "id": "fcfa1ca0-dd2d-469d-8347-da83513787bc",
   "metadata": {},
   "outputs": [],
   "source": []
  },
  {
   "cell_type": "code",
   "execution_count": 6,
   "id": "0a46c3f1-d10b-4a00-b7f8-4d7a2fdf85ed",
   "metadata": {},
   "outputs": [
    {
     "name": "stdout",
     "output_type": "stream",
     "text": [
      "==================\n",
      "\n",
      " CRISPRi_FlowFISH_K562_Riley_JinWoo CRISPRi_Growth_K562_Gersbach_JinWoo \n",
      "                                941                               72743 \n",
      "       MPRA_Lenti_K562_Nadav_Vikram      MPRA_Tiling_K562_Tewhey_Hannah \n",
      "                              61478                                 823 \n",
      "         STARR_ATAC_K562_Reddy_KS91           STARR_WHG_K562_Reddy_A001 \n",
      "                             150040                              146480 \n",
      "==================\n",
      "\n",
      "        ASTARR CRISPRi-Growth  CRISPRi-HCRFF          LMPRA          TMPRA \n",
      "        150040          72743            941          61478            823 \n",
      "        WSTARR \n",
      "        146480 \n",
      "==================\n",
      "\n",
      "   ASTARR_KS91 CRISPRi-Growth  CRISPRi-HCRFF          LMPRA          TMPRA \n",
      "        150040          72743            941          61478            823 \n",
      "        WSTARR \n",
      "        146480 \n",
      "==================\n",
      "\n",
      "          ATAC-STARR       CRISPRi-Growth CRISPRi-HCR FlowFISH \n",
      "              150040                72743                  941 \n",
      "          Lenti-MPRA          Tiling-MPRA            WHG-STARR \n",
      "               61478                  823               146480 \n"
     ]
    }
   ],
   "source": [
    "dat = dat_region_score_fcc\n",
    "\n",
    "cat(\"==================\\n\")\n",
    "res = table(dat$Assay_Name)\n",
    "print(res)\n",
    "\n",
    "cat(\"==================\\n\")\n",
    "res = table(dat$Assay_Type)\n",
    "print(res)\n",
    "\n",
    "cat(\"==================\\n\")\n",
    "res = table(dat$Assay_Group)\n",
    "print(res)\n",
    "\n",
    "cat(\"==================\\n\")\n",
    "res = table(dat$Assay_Label)\n",
    "print(res)"
   ]
  },
  {
   "cell_type": "code",
   "execution_count": null,
   "id": "a43a2ce2-fc06-4ab9-86a0-904393ef92e9",
   "metadata": {},
   "outputs": [],
   "source": []
  },
  {
   "cell_type": "code",
   "execution_count": null,
   "id": "087dcc9b-51cc-4f4d-b301-e939f500c178",
   "metadata": {},
   "outputs": [],
   "source": []
  },
  {
   "cell_type": "code",
   "execution_count": null,
   "id": "e1438fab-176e-4a55-8ff4-1f590e2330d2",
   "metadata": {},
   "outputs": [],
   "source": []
  },
  {
   "cell_type": "code",
   "execution_count": 7,
   "id": "fd8c6eb1-dfa4-4a79-8476-cfaf57694997",
   "metadata": {},
   "outputs": [
    {
     "name": "stdout",
     "output_type": "stream",
     "text": [
      "[1] 150041      9\n"
     ]
    },
    {
     "data": {
      "text/html": [
       "<table>\n",
       " <thead>\n",
       "  <tr>\n",
       "   <th style=\"text-align:left;\"> Chrom </th>\n",
       "   <th style=\"text-align:right;\"> ChromStart </th>\n",
       "   <th style=\"text-align:right;\"> ChromEnd </th>\n",
       "   <th style=\"text-align:left;\"> Region </th>\n",
       "   <th style=\"text-align:right;\"> Score </th>\n",
       "   <th style=\"text-align:left;\"> Assay_Name </th>\n",
       "   <th style=\"text-align:left;\"> Assay_Type </th>\n",
       "   <th style=\"text-align:left;\"> Assay_Group </th>\n",
       "   <th style=\"text-align:left;\"> Assay_Label </th>\n",
       "  </tr>\n",
       " </thead>\n",
       "<tbody>\n",
       "  <tr>\n",
       "   <td style=\"text-align:left;\"> chr1 </td>\n",
       "   <td style=\"text-align:right;\"> 10038 </td>\n",
       "   <td style=\"text-align:right;\"> 10405 </td>\n",
       "   <td style=\"text-align:left;\"> chr1:10038-10405 </td>\n",
       "   <td style=\"text-align:right;\"> 3.940038 </td>\n",
       "   <td style=\"text-align:left;\"> STARR_ATAC_K562_Reddy_KS91 </td>\n",
       "   <td style=\"text-align:left;\"> ATAC </td>\n",
       "   <td style=\"text-align:left;\"> ASTARR_KS91 </td>\n",
       "   <td style=\"text-align:left;\"> ATAC </td>\n",
       "  </tr>\n",
       "  <tr>\n",
       "   <td style=\"text-align:left;\"> chr1 </td>\n",
       "   <td style=\"text-align:right;\"> 14282 </td>\n",
       "   <td style=\"text-align:right;\"> 14614 </td>\n",
       "   <td style=\"text-align:left;\"> chr1:14282-14614 </td>\n",
       "   <td style=\"text-align:right;\"> 2.841707 </td>\n",
       "   <td style=\"text-align:left;\"> STARR_ATAC_K562_Reddy_KS91 </td>\n",
       "   <td style=\"text-align:left;\"> ATAC </td>\n",
       "   <td style=\"text-align:left;\"> ASTARR_KS91 </td>\n",
       "   <td style=\"text-align:left;\"> ATAC </td>\n",
       "  </tr>\n",
       "  <tr>\n",
       "   <td style=\"text-align:left;\"> chr1 </td>\n",
       "   <td style=\"text-align:right;\"> 16025 </td>\n",
       "   <td style=\"text-align:right;\"> 16338 </td>\n",
       "   <td style=\"text-align:left;\"> chr1:16025-16338 </td>\n",
       "   <td style=\"text-align:right;\"> 3.830812 </td>\n",
       "   <td style=\"text-align:left;\"> STARR_ATAC_K562_Reddy_KS91 </td>\n",
       "   <td style=\"text-align:left;\"> ATAC </td>\n",
       "   <td style=\"text-align:left;\"> ASTARR_KS91 </td>\n",
       "   <td style=\"text-align:left;\"> ATAC </td>\n",
       "  </tr>\n",
       "</tbody>\n",
       "</table>"
      ]
     },
     "metadata": {},
     "output_type": "display_data"
    }
   ],
   "source": [
    "dat = dat_region_score_astarr\n",
    "dat = dat %>%\n",
    "    dplyr::mutate(Score = Input_TPM) %>%\n",
    "    dplyr::select(Chrom, ChromStart, ChromEnd, Region, Score) %>%\n",
    "    dplyr::mutate(\n",
    "        Assay_Name  = \"STARR_ATAC_K562_Reddy_KS91\",\n",
    "        Assay_Type  = \"ATAC\",\n",
    "        Assay_Group = \"ASTARR_KS91\",\n",
    "        Assay_Label = \"ATAC\"\n",
    "    )\n",
    "\n",
    "dat_region_score_atac = dat\n",
    "print(dim(dat))\n",
    "fun_display_table(head(dat, 3))"
   ]
  },
  {
   "cell_type": "code",
   "execution_count": null,
   "id": "ba54f9f6-1828-42e0-8bdb-76bde225d404",
   "metadata": {},
   "outputs": [],
   "source": []
  },
  {
   "cell_type": "code",
   "execution_count": null,
   "id": "ed05b81b-1fc9-4b0a-a515-6087c7d81d75",
   "metadata": {},
   "outputs": [],
   "source": []
  },
  {
   "cell_type": "code",
   "execution_count": null,
   "id": "29ac2790-5d4f-4da8-917d-08068e2c2897",
   "metadata": {},
   "outputs": [],
   "source": []
  },
  {
   "cell_type": "code",
   "execution_count": 8,
   "id": "c4c5e549-beb6-49ce-8bd8-72f04ab416bf",
   "metadata": {},
   "outputs": [
    {
     "name": "stdout",
     "output_type": "stream",
     "text": [
      "[1] 582546      9\n"
     ]
    },
    {
     "data": {
      "text/html": [
       "<table>\n",
       " <thead>\n",
       "  <tr>\n",
       "   <th style=\"text-align:left;\"> Chrom </th>\n",
       "   <th style=\"text-align:right;\"> ChromStart </th>\n",
       "   <th style=\"text-align:right;\"> ChromEnd </th>\n",
       "   <th style=\"text-align:left;\"> Region </th>\n",
       "   <th style=\"text-align:right;\"> Score </th>\n",
       "   <th style=\"text-align:left;\"> Assay_Name </th>\n",
       "   <th style=\"text-align:left;\"> Assay_Type </th>\n",
       "   <th style=\"text-align:left;\"> Assay_Group </th>\n",
       "   <th style=\"text-align:left;\"> Assay_Label </th>\n",
       "  </tr>\n",
       " </thead>\n",
       "<tbody>\n",
       "  <tr>\n",
       "   <td style=\"text-align:left;\"> chr10 </td>\n",
       "   <td style=\"text-align:right;\"> 100729094 </td>\n",
       "   <td style=\"text-align:right;\"> 100729750 </td>\n",
       "   <td style=\"text-align:left;\"> chr10:100729094-100729750 </td>\n",
       "   <td style=\"text-align:right;\"> -0.3065107 </td>\n",
       "   <td style=\"text-align:left;\"> CRISPRi_FlowFISH_K562_Riley_JinWoo </td>\n",
       "   <td style=\"text-align:left;\"> CRISPRi-HCRFF </td>\n",
       "   <td style=\"text-align:left;\"> CRISPRi-HCRFF </td>\n",
       "   <td style=\"text-align:left;\"> CRISPRi-HCR FlowFISH </td>\n",
       "  </tr>\n",
       "  <tr>\n",
       "   <td style=\"text-align:left;\"> chr10 </td>\n",
       "   <td style=\"text-align:right;\"> 100743501 </td>\n",
       "   <td style=\"text-align:right;\"> 100744571 </td>\n",
       "   <td style=\"text-align:left;\"> chr10:100743501-100744571 </td>\n",
       "   <td style=\"text-align:right;\"> -0.2702473 </td>\n",
       "   <td style=\"text-align:left;\"> CRISPRi_FlowFISH_K562_Riley_JinWoo </td>\n",
       "   <td style=\"text-align:left;\"> CRISPRi-HCRFF </td>\n",
       "   <td style=\"text-align:left;\"> CRISPRi-HCRFF </td>\n",
       "   <td style=\"text-align:left;\"> CRISPRi-HCR FlowFISH </td>\n",
       "  </tr>\n",
       "  <tr>\n",
       "   <td style=\"text-align:left;\"> chr10 </td>\n",
       "   <td style=\"text-align:right;\"> 100745413 </td>\n",
       "   <td style=\"text-align:right;\"> 100745741 </td>\n",
       "   <td style=\"text-align:left;\"> chr10:100745413-100745741 </td>\n",
       "   <td style=\"text-align:right;\"> 0.1130381 </td>\n",
       "   <td style=\"text-align:left;\"> CRISPRi_FlowFISH_K562_Riley_JinWoo </td>\n",
       "   <td style=\"text-align:left;\"> CRISPRi-HCRFF </td>\n",
       "   <td style=\"text-align:left;\"> CRISPRi-HCRFF </td>\n",
       "   <td style=\"text-align:left;\"> CRISPRi-HCR FlowFISH </td>\n",
       "  </tr>\n",
       "</tbody>\n",
       "</table>"
      ]
     },
     "metadata": {},
     "output_type": "display_data"
    }
   ],
   "source": [
    "dat = bind_rows(\n",
    "    dat_region_score_fcc,\n",
    "    dat_region_score_atac\n",
    ")\n",
    "\n",
    "dat_region_score_merge = dat\n",
    "print(dim(dat))\n",
    "fun_display_table(head(dat, 3))"
   ]
  },
  {
   "cell_type": "code",
   "execution_count": 9,
   "id": "43921732-b1a8-4f0d-a4ff-370b6df9582a",
   "metadata": {},
   "outputs": [
    {
     "name": "stdout",
     "output_type": "stream",
     "text": [
      "==================\n",
      "\n",
      " CRISPRi_FlowFISH_K562_Riley_JinWoo CRISPRi_Growth_K562_Gersbach_JinWoo \n",
      "                                941                               72743 \n",
      "       MPRA_Lenti_K562_Nadav_Vikram      MPRA_Tiling_K562_Tewhey_Hannah \n",
      "                              61478                                 823 \n",
      "         STARR_ATAC_K562_Reddy_KS91           STARR_WHG_K562_Reddy_A001 \n",
      "                             300081                              146480 \n",
      "==================\n",
      "\n",
      "        ASTARR           ATAC CRISPRi-Growth  CRISPRi-HCRFF          LMPRA \n",
      "        150040         150041          72743            941          61478 \n",
      "         TMPRA         WSTARR \n",
      "           823         146480 \n",
      "==================\n",
      "\n",
      "   ASTARR_KS91 CRISPRi-Growth  CRISPRi-HCRFF          LMPRA          TMPRA \n",
      "        300081          72743            941          61478            823 \n",
      "        WSTARR \n",
      "        146480 \n",
      "==================\n",
      "\n",
      "                ATAC           ATAC-STARR       CRISPRi-Growth \n",
      "              150041               150040                72743 \n",
      "CRISPRi-HCR FlowFISH           Lenti-MPRA          Tiling-MPRA \n",
      "                 941                61478                  823 \n",
      "           WHG-STARR \n",
      "              146480 \n"
     ]
    }
   ],
   "source": [
    "dat = dat_region_score_merge\n",
    "\n",
    "cat(\"==================\\n\")\n",
    "res = table(dat$Assay_Name)\n",
    "print(res)\n",
    "\n",
    "cat(\"==================\\n\")\n",
    "res = table(dat$Assay_Type)\n",
    "print(res)\n",
    "\n",
    "cat(\"==================\\n\")\n",
    "res = table(dat$Assay_Group)\n",
    "print(res)\n",
    "\n",
    "cat(\"==================\\n\")\n",
    "res = table(dat$Assay_Label)\n",
    "print(res)"
   ]
  },
  {
   "cell_type": "code",
   "execution_count": 11,
   "id": "511b70ac-51aa-4212-b538-2de16ab15d68",
   "metadata": {},
   "outputs": [],
   "source": [
    "txt_region = \"fcc_astarr_macs_input_overlap\"\n",
    "txt_fdiry  = file.path(\n",
    "    FD_RES, \n",
    "    \"region_coverage_fcc\", \n",
    "    txt_region, \n",
    "    \"summary\"\n",
    ")\n",
    "txt_fname  = \"result.coverage.score.merge.fcc.atac.tsv\"\n",
    "txt_fpath  = file.path(txt_fdiry, txt_fname)\n",
    "\n",
    "dat = dat_region_score_merge\n",
    "write_tsv(dat, txt_fpath)"
   ]
  },
  {
   "cell_type": "code",
   "execution_count": null,
   "id": "2e72fca0-289e-4d02-ad39-9a52169df5f4",
   "metadata": {},
   "outputs": [],
   "source": []
  }
 ],
 "metadata": {
  "kernelspec": {
   "display_name": "R",
   "language": "R",
   "name": "ir"
  },
  "language_info": {
   "codemirror_mode": "r",
   "file_extension": ".r",
   "mimetype": "text/x-r-source",
   "name": "R",
   "pygments_lexer": "r",
   "version": "4.4.1"
  }
 },
 "nbformat": 4,
 "nbformat_minor": 5
}
