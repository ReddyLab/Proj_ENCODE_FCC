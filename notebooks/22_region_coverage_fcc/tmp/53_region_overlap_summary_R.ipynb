{
 "cells": [
  {
   "cell_type": "raw",
   "id": "17f6fcfc-7d88-4543-90ba-937e0d43219f",
   "metadata": {},
   "source": [
    "---\n",
    "title: STARR/MPRA Coverage 02\n",
    "subtitle: Summarize coverage for STARR-seq\n",
    "format:\n",
    "    html:\n",
    "        code-fold:  true\n",
    "        code-tools: true\n",
    "---"
   ]
  },
  {
   "cell_type": "markdown",
   "id": "5ce28c6a-e02d-49b2-86c8-c50a86d61cbd",
   "metadata": {},
   "source": [
    "**Set environment**"
   ]
  },
  {
   "cell_type": "code",
   "execution_count": 2,
   "id": "14843873-7492-4e57-b80b-faf06a1904a5",
   "metadata": {},
   "outputs": [
    {
     "name": "stdout",
     "output_type": "stream",
     "text": [
      "You are working on        Singularity \n",
      "BASE DIRECTORY (FD_BASE): /mount \n",
      "REPO DIRECTORY (FD_REPO): /mount/repo \n",
      "WORK DIRECTORY (FD_WORK): /mount/work \n",
      "DATA DIRECTORY (FD_DATA): /mount/data \n",
      "\n",
      "You are working with      ENCODE FCC \n",
      "PATH OF PROJECT (FD_PRJ): /mount/repo/Proj_ENCODE_FCC \n",
      "PROJECT RESULTS (FD_RES): /mount/repo/Proj_ENCODE_FCC/results \n",
      "PROJECT SCRIPTS (FD_EXE): /mount/repo/Proj_ENCODE_FCC/scripts \n",
      "PROJECT DATA    (FD_DAT): /mount/repo/Proj_ENCODE_FCC/data \n",
      "PROJECT NOTE    (FD_NBK): /mount/repo/Proj_ENCODE_FCC/notebooks \n",
      "PROJECT DOCS    (FD_DOC): /mount/repo/Proj_ENCODE_FCC/docs \n",
      "PROJECT LOG     (FD_LOG): /mount/repo/Proj_ENCODE_FCC/log \n",
      "PROJECT APP     (FD_APP): /mount/repo/Proj_ENCODE_FCC/app \n",
      "PROJECT REF     (FD_REF): /mount/repo/Proj_ENCODE_FCC/references \n",
      "\n"
     ]
    }
   ],
   "source": [
    "suppressMessages(suppressWarnings(source(\"../run_config_project_sing.R\")))\n",
    "show_env()"
   ]
  },
  {
   "cell_type": "code",
   "execution_count": 3,
   "id": "98cdf2e3-46ff-48df-9f7c-66ae931bd86d",
   "metadata": {},
   "outputs": [
    {
     "name": "stdout",
     "output_type": "stream",
     "text": [
      "MPRA_Tiling_K562_Tewhey_hannah \n",
      "STARR_ATAC_K562_Reddy_KS274 \n",
      "STARR_ATAC_K562_Reddy_KS91 \n",
      "STARR_WHG_K562_Reddy_A001 \n"
     ]
    }
   ],
   "source": [
    "txt_fdiry = file.path(FD_RES, \"assay_fcc\")\n",
    "vec = dir(txt_fdiry)\n",
    "for (txt in vec) {cat(txt, \"\\n\")}"
   ]
  },
  {
   "cell_type": "code",
   "execution_count": 4,
   "id": "da8bad64-de26-476d-b3b3-ea177fa31bca",
   "metadata": {},
   "outputs": [],
   "source": [
    "VEC_TXT_ASSAY = c(\n",
    "    \"STARR_ATAC_K562_Reddy_KS91\",\n",
    "    \"STARR_ATAC_K562_Reddy_KS274\"#,\n",
    "    #\"STARR_WHG_K562_Reddy_A001\"\n",
    ")"
   ]
  },
  {
   "cell_type": "code",
   "execution_count": 6,
   "id": "9e041990-6353-4df4-b5cd-850f69553f61",
   "metadata": {},
   "outputs": [
    {
     "name": "stdout",
     "output_type": "stream",
     "text": [
      "STARR_ATAC_K562_Reddy_KS91 \n",
      "[1] \"metadata.library_size.tsv\" \"metadata.tsv\"             \n",
      "[3] \"result.library_size.csv\"  \n",
      "\n",
      "STARR_ATAC_K562_Reddy_KS274 \n",
      "[1] \"metadata.library_size.tsv\" \"metadata.tsv\"             \n",
      "[3] \"result.library_size.csv\"  \n",
      "\n"
     ]
    }
   ],
   "source": [
    "for (txt_assay in VEC_TXT_ASSAY) {\n",
    "    txt_fdiry = file.path(FD_RES, \"assay_fcc\", txt_assay, \"fragment_counts\", \"summary\")\n",
    "    vec = dir(txt_fdiry)\n",
    "    cat(txt_assay, \"\\n\")\n",
    "    print(vec)\n",
    "    cat(\"\\n\")\n",
    "}"
   ]
  },
  {
   "cell_type": "code",
   "execution_count": null,
   "id": "182cc14e-7913-4415-a869-b587b6fa0d1d",
   "metadata": {},
   "outputs": [],
   "source": []
  },
  {
   "cell_type": "code",
   "execution_count": 26,
   "id": "de7d98d8-0900-4e1a-b4ee-bc4958935eb8",
   "metadata": {},
   "outputs": [
    {
     "name": "stdout",
     "output_type": "stream",
     "text": [
      "[1] \"/mount/repo/Proj_ENCODE_FCC/results/assay_fcc/STARR_ATAC_K562_Reddy_KS91/coverage/fcc_astarr_macs/astarr_macs_input_overlap\"\n",
      "[1] \"/mount/repo/Proj_ENCODE_FCC/results/assay_fcc/STARR_ATAC_K562_Reddy_KS91/coverage/fcc_astarr_macs/astarr_macs_input_union\"\n",
      "[1] \"/mount/repo/Proj_ENCODE_FCC/results/assay_fcc/STARR_ATAC_K562_Reddy_KS274/coverage/fcc_astarr_macs/astarr_macs_input_overlap\"\n",
      "[1] \"/mount/repo/Proj_ENCODE_FCC/results/assay_fcc/STARR_ATAC_K562_Reddy_KS274/coverage/fcc_astarr_macs/astarr_macs_input_union\"\n"
     ]
    }
   ],
   "source": [
    "lst = lapply(VEC_TXT_ASSAY, function(txt_assay) {\n",
    "\n",
    "    ###\n",
    "    txt_fdiry = file.path(FD_RES, \"assay_fcc\", txt_assay, \"fragment_counts\", \"summary\")\n",
    "    txt_fname = \"metadata.library_size.tsv\"\n",
    "    txt_fpath = file.path(txt_fdiry, txt_fname)\n",
    "    \n",
    "    dat = read_tsv(txt_fpath, show_col_types = FALSE)\n",
    "    dat = dat %>% dplyr::rename(Lib_Size = Size)\n",
    "    dat_meta_lib = dat\n",
    "    \n",
    "    ###\n",
    "    txt_fglob = file.path(\n",
    "        FD_RES, \"assay_fcc\", txt_assay, \"coverage\", \n",
    "        \"fcc_astarr_macs\", \n",
    "        \"*\"\n",
    "    )\n",
    "    vec_txt_fdiry = Sys.glob(txt_fglob)\n",
    "\n",
    "    lst = lapply(vec_txt_fdiry, function(txt_fdiry){\n",
    "        print(txt_fdiry)\n",
    "\n",
    "        txt_label = basename(txt_fdiry)\n",
    "        txt_fname = \"result.size.csv\"\n",
    "        txt_fpath = file.path(\n",
    "            txt_fdiry, \n",
    "            \"overlap_unique\", \n",
    "            \"summary\", \n",
    "            txt_fname)\n",
    "\n",
    "        dat = read_csv(txt_fpath, col_names = FALSE, show_col_types = FALSE)\n",
    "        colnames(dat) = c(\"FName\", \"Size\")\n",
    "        dat$Label = txt_label\n",
    "        \n",
    "        return(dat)\n",
    "    })\n",
    "    \n",
    "    dat = bind_rows(lst)\n",
    "    dat = dat %>% dplyr::left_join(dat_meta_lib, by=\"FName\")\n",
    "    \n",
    "    return(dat)\n",
    "})"
   ]
  },
  {
   "cell_type": "code",
   "execution_count": 29,
   "id": "ab8c500d-90f9-4a4f-a563-e83c6f2de834",
   "metadata": {},
   "outputs": [
    {
     "data": {
      "text/html": [
       "<table class=\"dataframe\">\n",
       "<caption>A tibble: 26 × 9</caption>\n",
       "<thead>\n",
       "\t<tr><th scope=col>FName</th><th scope=col>Size</th><th scope=col>Label</th><th scope=col>Assay</th><th scope=col>Prefix</th><th scope=col>Group</th><th scope=col>Sample</th><th scope=col>Lib_Size</th><th scope=col>Prop</th></tr>\n",
       "\t<tr><th scope=col>&lt;chr&gt;</th><th scope=col>&lt;dbl&gt;</th><th scope=col>&lt;chr&gt;</th><th scope=col>&lt;chr&gt;</th><th scope=col>&lt;chr&gt;</th><th scope=col>&lt;chr&gt;</th><th scope=col>&lt;chr&gt;</th><th scope=col>&lt;dbl&gt;</th><th scope=col>&lt;dbl&gt;</th></tr>\n",
       "</thead>\n",
       "<tbody>\n",
       "\t<tr><td>ASTARRseq_K562_KS91.hg38.Input.rep1.WGS.unstranded.bed.gz  </td><td>118212222</td><td>astarr_macs_input_overlap</td><td>STARR_ATAC_K562_Reddy_KS91 </td><td>ASTARRseq_K562_KS91 </td><td>Input </td><td>Input.rep1 </td><td>348695063</td><td>0.3390132</td></tr>\n",
       "\t<tr><td>ASTARRseq_K562_KS91.hg38.Input.rep2.WGS.unstranded.bed.gz  </td><td>149512330</td><td>astarr_macs_input_overlap</td><td>STARR_ATAC_K562_Reddy_KS91 </td><td>ASTARRseq_K562_KS91 </td><td>Input </td><td>Input.rep2 </td><td>451369741</td><td>0.3312414</td></tr>\n",
       "\t<tr><td>ASTARRseq_K562_KS91.hg38.Input.rep3.WGS.unstranded.bed.gz  </td><td>159858862</td><td>astarr_macs_input_overlap</td><td>STARR_ATAC_K562_Reddy_KS91 </td><td>ASTARRseq_K562_KS91 </td><td>Input </td><td>Input.rep3 </td><td>487579055</td><td>0.3278624</td></tr>\n",
       "\t<tr><td>ASTARRseq_K562_KS91.hg38.Input.rep4.WGS.unstranded.bed.gz  </td><td>150695534</td><td>astarr_macs_input_overlap</td><td>STARR_ATAC_K562_Reddy_KS91 </td><td>ASTARRseq_K562_KS91 </td><td>Input </td><td>Input.rep4 </td><td>456246254</td><td>0.3302943</td></tr>\n",
       "\t<tr><td>ASTARRseq_K562_KS91.hg38.Input.rep5.WGS.unstranded.bed.gz  </td><td>147294367</td><td>astarr_macs_input_overlap</td><td>STARR_ATAC_K562_Reddy_KS91 </td><td>ASTARRseq_K562_KS91 </td><td>Input </td><td>Input.rep5 </td><td>444268950</td><td>0.3315432</td></tr>\n",
       "\t<tr><td>ASTARRseq_K562_KS91.hg38.Input.rep6.WGS.unstranded.bed.gz  </td><td>133574079</td><td>astarr_macs_input_overlap</td><td>STARR_ATAC_K562_Reddy_KS91 </td><td>ASTARRseq_K562_KS91 </td><td>Input </td><td>Input.rep6 </td><td>397333562</td><td>0.3361762</td></tr>\n",
       "\t<tr><td>ASTARRseq_K562_KS91.hg38.Output.rep1.WGS.unstranded.bed.gz </td><td> 17037803</td><td>astarr_macs_input_overlap</td><td>STARR_ATAC_K562_Reddy_KS91 </td><td>ASTARRseq_K562_KS91 </td><td>Output</td><td>Output.rep1</td><td> 44103844</td><td>0.3863111</td></tr>\n",
       "\t<tr><td>ASTARRseq_K562_KS91.hg38.Output.rep2.WGS.unstranded.bed.gz </td><td> 34350606</td><td>astarr_macs_input_overlap</td><td>STARR_ATAC_K562_Reddy_KS91 </td><td>ASTARRseq_K562_KS91 </td><td>Output</td><td>Output.rep2</td><td> 97471282</td><td>0.3524177</td></tr>\n",
       "\t<tr><td>ASTARRseq_K562_KS91.hg38.Output.rep3.WGS.unstranded.bed.gz </td><td> 30672298</td><td>astarr_macs_input_overlap</td><td>STARR_ATAC_K562_Reddy_KS91 </td><td>ASTARRseq_K562_KS91 </td><td>Output</td><td>Output.rep3</td><td> 84103298</td><td>0.3646979</td></tr>\n",
       "\t<tr><td>ASTARRseq_K562_KS91.hg38.Output.rep4.WGS.unstranded.bed.gz </td><td> 71871411</td><td>astarr_macs_input_overlap</td><td>STARR_ATAC_K562_Reddy_KS91 </td><td>ASTARRseq_K562_KS91 </td><td>Output</td><td>Output.rep4</td><td>183115379</td><td>0.3924925</td></tr>\n",
       "\t<tr><td>ASTARRseq_K562_KS91.hg38.Input.rep1.WGS.unstranded.bed.gz  </td><td>142328094</td><td>astarr_macs_input_union  </td><td>STARR_ATAC_K562_Reddy_KS91 </td><td>ASTARRseq_K562_KS91 </td><td>Input </td><td>Input.rep1 </td><td>348695063</td><td>0.4081735</td></tr>\n",
       "\t<tr><td>ASTARRseq_K562_KS91.hg38.Input.rep2.WGS.unstranded.bed.gz  </td><td>181205592</td><td>astarr_macs_input_union  </td><td>STARR_ATAC_K562_Reddy_KS91 </td><td>ASTARRseq_K562_KS91 </td><td>Input </td><td>Input.rep2 </td><td>451369741</td><td>0.4014571</td></tr>\n",
       "\t<tr><td>ASTARRseq_K562_KS91.hg38.Input.rep3.WGS.unstranded.bed.gz  </td><td>194279294</td><td>astarr_macs_input_union  </td><td>STARR_ATAC_K562_Reddy_KS91 </td><td>ASTARRseq_K562_KS91 </td><td>Input </td><td>Input.rep3 </td><td>487579055</td><td>0.3984570</td></tr>\n",
       "\t<tr><td>ASTARRseq_K562_KS91.hg38.Input.rep4.WGS.unstranded.bed.gz  </td><td>182773381</td><td>astarr_macs_input_union  </td><td>STARR_ATAC_K562_Reddy_KS91 </td><td>ASTARRseq_K562_KS91 </td><td>Input </td><td>Input.rep4 </td><td>456246254</td><td>0.4006025</td></tr>\n",
       "\t<tr><td>ASTARRseq_K562_KS91.hg38.Input.rep5.WGS.unstranded.bed.gz  </td><td>178434289</td><td>astarr_macs_input_union  </td><td>STARR_ATAC_K562_Reddy_KS91 </td><td>ASTARRseq_K562_KS91 </td><td>Input </td><td>Input.rep5 </td><td>444268950</td><td>0.4016357</td></tr>\n",
       "\t<tr><td>ASTARRseq_K562_KS91.hg38.Input.rep6.WGS.unstranded.bed.gz  </td><td>161391572</td><td>astarr_macs_input_union  </td><td>STARR_ATAC_K562_Reddy_KS91 </td><td>ASTARRseq_K562_KS91 </td><td>Input </td><td>Input.rep6 </td><td>397333562</td><td>0.4061866</td></tr>\n",
       "\t<tr><td>ASTARRseq_K562_KS91.hg38.Output.rep1.WGS.unstranded.bed.gz </td><td> 19671551</td><td>astarr_macs_input_union  </td><td>STARR_ATAC_K562_Reddy_KS91 </td><td>ASTARRseq_K562_KS91 </td><td>Output</td><td>Output.rep1</td><td> 44103844</td><td>0.4460280</td></tr>\n",
       "\t<tr><td>ASTARRseq_K562_KS91.hg38.Output.rep2.WGS.unstranded.bed.gz </td><td> 40404301</td><td>astarr_macs_input_union  </td><td>STARR_ATAC_K562_Reddy_KS91 </td><td>ASTARRseq_K562_KS91 </td><td>Output</td><td>Output.rep2</td><td> 97471282</td><td>0.4145252</td></tr>\n",
       "\t<tr><td>ASTARRseq_K562_KS91.hg38.Output.rep3.WGS.unstranded.bed.gz </td><td> 35788945</td><td>astarr_macs_input_union  </td><td>STARR_ATAC_K562_Reddy_KS91 </td><td>ASTARRseq_K562_KS91 </td><td>Output</td><td>Output.rep3</td><td> 84103298</td><td>0.4255356</td></tr>\n",
       "\t<tr><td>ASTARRseq_K562_KS91.hg38.Output.rep4.WGS.unstranded.bed.gz </td><td> 83050782</td><td>astarr_macs_input_union  </td><td>STARR_ATAC_K562_Reddy_KS91 </td><td>ASTARRseq_K562_KS91 </td><td>Output</td><td>Output.rep4</td><td>183115379</td><td>0.4535435</td></tr>\n",
       "\t<tr><td>ASTARRseq_K562_KS274.hg38.Output.rep1.WGS.unstranded.bed.gz</td><td> 34434586</td><td>astarr_macs_input_overlap</td><td>STARR_ATAC_K562_Reddy_KS274</td><td>ASTARRseq_K562_KS274</td><td>Output</td><td>Output.rep1</td><td> 75921554</td><td>0.4535548</td></tr>\n",
       "\t<tr><td>ASTARRseq_K562_KS274.hg38.Output.rep2.WGS.unstranded.bed.gz</td><td> 28632813</td><td>astarr_macs_input_overlap</td><td>STARR_ATAC_K562_Reddy_KS274</td><td>ASTARRseq_K562_KS274</td><td>Output</td><td>Output.rep2</td><td> 61846404</td><td>0.4629665</td></tr>\n",
       "\t<tr><td>ASTARRseq_K562_KS274.hg38.Output.rep3.WGS.unstranded.bed.gz</td><td> 36173601</td><td>astarr_macs_input_overlap</td><td>STARR_ATAC_K562_Reddy_KS274</td><td>ASTARRseq_K562_KS274</td><td>Output</td><td>Output.rep3</td><td> 80233063</td><td>0.4508565</td></tr>\n",
       "\t<tr><td>ASTARRseq_K562_KS274.hg38.Output.rep1.WGS.unstranded.bed.gz</td><td> 38351070</td><td>astarr_macs_input_union  </td><td>STARR_ATAC_K562_Reddy_KS274</td><td>ASTARRseq_K562_KS274</td><td>Output</td><td>Output.rep1</td><td> 75921554</td><td>0.5051407</td></tr>\n",
       "\t<tr><td>ASTARRseq_K562_KS274.hg38.Output.rep2.WGS.unstranded.bed.gz</td><td> 31721369</td><td>astarr_macs_input_union  </td><td>STARR_ATAC_K562_Reddy_KS274</td><td>ASTARRseq_K562_KS274</td><td>Output</td><td>Output.rep2</td><td> 61846404</td><td>0.5129056</td></tr>\n",
       "\t<tr><td>ASTARRseq_K562_KS274.hg38.Output.rep3.WGS.unstranded.bed.gz</td><td> 40235953</td><td>astarr_macs_input_union  </td><td>STARR_ATAC_K562_Reddy_KS274</td><td>ASTARRseq_K562_KS274</td><td>Output</td><td>Output.rep3</td><td> 80233063</td><td>0.5014884</td></tr>\n",
       "</tbody>\n",
       "</table>\n"
      ],
      "text/latex": [
       "A tibble: 26 × 9\n",
       "\\begin{tabular}{lllllllll}\n",
       " FName & Size & Label & Assay & Prefix & Group & Sample & Lib\\_Size & Prop\\\\\n",
       " <chr> & <dbl> & <chr> & <chr> & <chr> & <chr> & <chr> & <dbl> & <dbl>\\\\\n",
       "\\hline\n",
       "\t ASTARRseq\\_K562\\_KS91.hg38.Input.rep1.WGS.unstranded.bed.gz   & 118212222 & astarr\\_macs\\_input\\_overlap & STARR\\_ATAC\\_K562\\_Reddy\\_KS91  & ASTARRseq\\_K562\\_KS91  & Input  & Input.rep1  & 348695063 & 0.3390132\\\\\n",
       "\t ASTARRseq\\_K562\\_KS91.hg38.Input.rep2.WGS.unstranded.bed.gz   & 149512330 & astarr\\_macs\\_input\\_overlap & STARR\\_ATAC\\_K562\\_Reddy\\_KS91  & ASTARRseq\\_K562\\_KS91  & Input  & Input.rep2  & 451369741 & 0.3312414\\\\\n",
       "\t ASTARRseq\\_K562\\_KS91.hg38.Input.rep3.WGS.unstranded.bed.gz   & 159858862 & astarr\\_macs\\_input\\_overlap & STARR\\_ATAC\\_K562\\_Reddy\\_KS91  & ASTARRseq\\_K562\\_KS91  & Input  & Input.rep3  & 487579055 & 0.3278624\\\\\n",
       "\t ASTARRseq\\_K562\\_KS91.hg38.Input.rep4.WGS.unstranded.bed.gz   & 150695534 & astarr\\_macs\\_input\\_overlap & STARR\\_ATAC\\_K562\\_Reddy\\_KS91  & ASTARRseq\\_K562\\_KS91  & Input  & Input.rep4  & 456246254 & 0.3302943\\\\\n",
       "\t ASTARRseq\\_K562\\_KS91.hg38.Input.rep5.WGS.unstranded.bed.gz   & 147294367 & astarr\\_macs\\_input\\_overlap & STARR\\_ATAC\\_K562\\_Reddy\\_KS91  & ASTARRseq\\_K562\\_KS91  & Input  & Input.rep5  & 444268950 & 0.3315432\\\\\n",
       "\t ASTARRseq\\_K562\\_KS91.hg38.Input.rep6.WGS.unstranded.bed.gz   & 133574079 & astarr\\_macs\\_input\\_overlap & STARR\\_ATAC\\_K562\\_Reddy\\_KS91  & ASTARRseq\\_K562\\_KS91  & Input  & Input.rep6  & 397333562 & 0.3361762\\\\\n",
       "\t ASTARRseq\\_K562\\_KS91.hg38.Output.rep1.WGS.unstranded.bed.gz  &  17037803 & astarr\\_macs\\_input\\_overlap & STARR\\_ATAC\\_K562\\_Reddy\\_KS91  & ASTARRseq\\_K562\\_KS91  & Output & Output.rep1 &  44103844 & 0.3863111\\\\\n",
       "\t ASTARRseq\\_K562\\_KS91.hg38.Output.rep2.WGS.unstranded.bed.gz  &  34350606 & astarr\\_macs\\_input\\_overlap & STARR\\_ATAC\\_K562\\_Reddy\\_KS91  & ASTARRseq\\_K562\\_KS91  & Output & Output.rep2 &  97471282 & 0.3524177\\\\\n",
       "\t ASTARRseq\\_K562\\_KS91.hg38.Output.rep3.WGS.unstranded.bed.gz  &  30672298 & astarr\\_macs\\_input\\_overlap & STARR\\_ATAC\\_K562\\_Reddy\\_KS91  & ASTARRseq\\_K562\\_KS91  & Output & Output.rep3 &  84103298 & 0.3646979\\\\\n",
       "\t ASTARRseq\\_K562\\_KS91.hg38.Output.rep4.WGS.unstranded.bed.gz  &  71871411 & astarr\\_macs\\_input\\_overlap & STARR\\_ATAC\\_K562\\_Reddy\\_KS91  & ASTARRseq\\_K562\\_KS91  & Output & Output.rep4 & 183115379 & 0.3924925\\\\\n",
       "\t ASTARRseq\\_K562\\_KS91.hg38.Input.rep1.WGS.unstranded.bed.gz   & 142328094 & astarr\\_macs\\_input\\_union   & STARR\\_ATAC\\_K562\\_Reddy\\_KS91  & ASTARRseq\\_K562\\_KS91  & Input  & Input.rep1  & 348695063 & 0.4081735\\\\\n",
       "\t ASTARRseq\\_K562\\_KS91.hg38.Input.rep2.WGS.unstranded.bed.gz   & 181205592 & astarr\\_macs\\_input\\_union   & STARR\\_ATAC\\_K562\\_Reddy\\_KS91  & ASTARRseq\\_K562\\_KS91  & Input  & Input.rep2  & 451369741 & 0.4014571\\\\\n",
       "\t ASTARRseq\\_K562\\_KS91.hg38.Input.rep3.WGS.unstranded.bed.gz   & 194279294 & astarr\\_macs\\_input\\_union   & STARR\\_ATAC\\_K562\\_Reddy\\_KS91  & ASTARRseq\\_K562\\_KS91  & Input  & Input.rep3  & 487579055 & 0.3984570\\\\\n",
       "\t ASTARRseq\\_K562\\_KS91.hg38.Input.rep4.WGS.unstranded.bed.gz   & 182773381 & astarr\\_macs\\_input\\_union   & STARR\\_ATAC\\_K562\\_Reddy\\_KS91  & ASTARRseq\\_K562\\_KS91  & Input  & Input.rep4  & 456246254 & 0.4006025\\\\\n",
       "\t ASTARRseq\\_K562\\_KS91.hg38.Input.rep5.WGS.unstranded.bed.gz   & 178434289 & astarr\\_macs\\_input\\_union   & STARR\\_ATAC\\_K562\\_Reddy\\_KS91  & ASTARRseq\\_K562\\_KS91  & Input  & Input.rep5  & 444268950 & 0.4016357\\\\\n",
       "\t ASTARRseq\\_K562\\_KS91.hg38.Input.rep6.WGS.unstranded.bed.gz   & 161391572 & astarr\\_macs\\_input\\_union   & STARR\\_ATAC\\_K562\\_Reddy\\_KS91  & ASTARRseq\\_K562\\_KS91  & Input  & Input.rep6  & 397333562 & 0.4061866\\\\\n",
       "\t ASTARRseq\\_K562\\_KS91.hg38.Output.rep1.WGS.unstranded.bed.gz  &  19671551 & astarr\\_macs\\_input\\_union   & STARR\\_ATAC\\_K562\\_Reddy\\_KS91  & ASTARRseq\\_K562\\_KS91  & Output & Output.rep1 &  44103844 & 0.4460280\\\\\n",
       "\t ASTARRseq\\_K562\\_KS91.hg38.Output.rep2.WGS.unstranded.bed.gz  &  40404301 & astarr\\_macs\\_input\\_union   & STARR\\_ATAC\\_K562\\_Reddy\\_KS91  & ASTARRseq\\_K562\\_KS91  & Output & Output.rep2 &  97471282 & 0.4145252\\\\\n",
       "\t ASTARRseq\\_K562\\_KS91.hg38.Output.rep3.WGS.unstranded.bed.gz  &  35788945 & astarr\\_macs\\_input\\_union   & STARR\\_ATAC\\_K562\\_Reddy\\_KS91  & ASTARRseq\\_K562\\_KS91  & Output & Output.rep3 &  84103298 & 0.4255356\\\\\n",
       "\t ASTARRseq\\_K562\\_KS91.hg38.Output.rep4.WGS.unstranded.bed.gz  &  83050782 & astarr\\_macs\\_input\\_union   & STARR\\_ATAC\\_K562\\_Reddy\\_KS91  & ASTARRseq\\_K562\\_KS91  & Output & Output.rep4 & 183115379 & 0.4535435\\\\\n",
       "\t ASTARRseq\\_K562\\_KS274.hg38.Output.rep1.WGS.unstranded.bed.gz &  34434586 & astarr\\_macs\\_input\\_overlap & STARR\\_ATAC\\_K562\\_Reddy\\_KS274 & ASTARRseq\\_K562\\_KS274 & Output & Output.rep1 &  75921554 & 0.4535548\\\\\n",
       "\t ASTARRseq\\_K562\\_KS274.hg38.Output.rep2.WGS.unstranded.bed.gz &  28632813 & astarr\\_macs\\_input\\_overlap & STARR\\_ATAC\\_K562\\_Reddy\\_KS274 & ASTARRseq\\_K562\\_KS274 & Output & Output.rep2 &  61846404 & 0.4629665\\\\\n",
       "\t ASTARRseq\\_K562\\_KS274.hg38.Output.rep3.WGS.unstranded.bed.gz &  36173601 & astarr\\_macs\\_input\\_overlap & STARR\\_ATAC\\_K562\\_Reddy\\_KS274 & ASTARRseq\\_K562\\_KS274 & Output & Output.rep3 &  80233063 & 0.4508565\\\\\n",
       "\t ASTARRseq\\_K562\\_KS274.hg38.Output.rep1.WGS.unstranded.bed.gz &  38351070 & astarr\\_macs\\_input\\_union   & STARR\\_ATAC\\_K562\\_Reddy\\_KS274 & ASTARRseq\\_K562\\_KS274 & Output & Output.rep1 &  75921554 & 0.5051407\\\\\n",
       "\t ASTARRseq\\_K562\\_KS274.hg38.Output.rep2.WGS.unstranded.bed.gz &  31721369 & astarr\\_macs\\_input\\_union   & STARR\\_ATAC\\_K562\\_Reddy\\_KS274 & ASTARRseq\\_K562\\_KS274 & Output & Output.rep2 &  61846404 & 0.5129056\\\\\n",
       "\t ASTARRseq\\_K562\\_KS274.hg38.Output.rep3.WGS.unstranded.bed.gz &  40235953 & astarr\\_macs\\_input\\_union   & STARR\\_ATAC\\_K562\\_Reddy\\_KS274 & ASTARRseq\\_K562\\_KS274 & Output & Output.rep3 &  80233063 & 0.5014884\\\\\n",
       "\\end{tabular}\n"
      ],
      "text/markdown": [
       "\n",
       "A tibble: 26 × 9\n",
       "\n",
       "| FName &lt;chr&gt; | Size &lt;dbl&gt; | Label &lt;chr&gt; | Assay &lt;chr&gt; | Prefix &lt;chr&gt; | Group &lt;chr&gt; | Sample &lt;chr&gt; | Lib_Size &lt;dbl&gt; | Prop &lt;dbl&gt; |\n",
       "|---|---|---|---|---|---|---|---|---|\n",
       "| ASTARRseq_K562_KS91.hg38.Input.rep1.WGS.unstranded.bed.gz   | 118212222 | astarr_macs_input_overlap | STARR_ATAC_K562_Reddy_KS91  | ASTARRseq_K562_KS91  | Input  | Input.rep1  | 348695063 | 0.3390132 |\n",
       "| ASTARRseq_K562_KS91.hg38.Input.rep2.WGS.unstranded.bed.gz   | 149512330 | astarr_macs_input_overlap | STARR_ATAC_K562_Reddy_KS91  | ASTARRseq_K562_KS91  | Input  | Input.rep2  | 451369741 | 0.3312414 |\n",
       "| ASTARRseq_K562_KS91.hg38.Input.rep3.WGS.unstranded.bed.gz   | 159858862 | astarr_macs_input_overlap | STARR_ATAC_K562_Reddy_KS91  | ASTARRseq_K562_KS91  | Input  | Input.rep3  | 487579055 | 0.3278624 |\n",
       "| ASTARRseq_K562_KS91.hg38.Input.rep4.WGS.unstranded.bed.gz   | 150695534 | astarr_macs_input_overlap | STARR_ATAC_K562_Reddy_KS91  | ASTARRseq_K562_KS91  | Input  | Input.rep4  | 456246254 | 0.3302943 |\n",
       "| ASTARRseq_K562_KS91.hg38.Input.rep5.WGS.unstranded.bed.gz   | 147294367 | astarr_macs_input_overlap | STARR_ATAC_K562_Reddy_KS91  | ASTARRseq_K562_KS91  | Input  | Input.rep5  | 444268950 | 0.3315432 |\n",
       "| ASTARRseq_K562_KS91.hg38.Input.rep6.WGS.unstranded.bed.gz   | 133574079 | astarr_macs_input_overlap | STARR_ATAC_K562_Reddy_KS91  | ASTARRseq_K562_KS91  | Input  | Input.rep6  | 397333562 | 0.3361762 |\n",
       "| ASTARRseq_K562_KS91.hg38.Output.rep1.WGS.unstranded.bed.gz  |  17037803 | astarr_macs_input_overlap | STARR_ATAC_K562_Reddy_KS91  | ASTARRseq_K562_KS91  | Output | Output.rep1 |  44103844 | 0.3863111 |\n",
       "| ASTARRseq_K562_KS91.hg38.Output.rep2.WGS.unstranded.bed.gz  |  34350606 | astarr_macs_input_overlap | STARR_ATAC_K562_Reddy_KS91  | ASTARRseq_K562_KS91  | Output | Output.rep2 |  97471282 | 0.3524177 |\n",
       "| ASTARRseq_K562_KS91.hg38.Output.rep3.WGS.unstranded.bed.gz  |  30672298 | astarr_macs_input_overlap | STARR_ATAC_K562_Reddy_KS91  | ASTARRseq_K562_KS91  | Output | Output.rep3 |  84103298 | 0.3646979 |\n",
       "| ASTARRseq_K562_KS91.hg38.Output.rep4.WGS.unstranded.bed.gz  |  71871411 | astarr_macs_input_overlap | STARR_ATAC_K562_Reddy_KS91  | ASTARRseq_K562_KS91  | Output | Output.rep4 | 183115379 | 0.3924925 |\n",
       "| ASTARRseq_K562_KS91.hg38.Input.rep1.WGS.unstranded.bed.gz   | 142328094 | astarr_macs_input_union   | STARR_ATAC_K562_Reddy_KS91  | ASTARRseq_K562_KS91  | Input  | Input.rep1  | 348695063 | 0.4081735 |\n",
       "| ASTARRseq_K562_KS91.hg38.Input.rep2.WGS.unstranded.bed.gz   | 181205592 | astarr_macs_input_union   | STARR_ATAC_K562_Reddy_KS91  | ASTARRseq_K562_KS91  | Input  | Input.rep2  | 451369741 | 0.4014571 |\n",
       "| ASTARRseq_K562_KS91.hg38.Input.rep3.WGS.unstranded.bed.gz   | 194279294 | astarr_macs_input_union   | STARR_ATAC_K562_Reddy_KS91  | ASTARRseq_K562_KS91  | Input  | Input.rep3  | 487579055 | 0.3984570 |\n",
       "| ASTARRseq_K562_KS91.hg38.Input.rep4.WGS.unstranded.bed.gz   | 182773381 | astarr_macs_input_union   | STARR_ATAC_K562_Reddy_KS91  | ASTARRseq_K562_KS91  | Input  | Input.rep4  | 456246254 | 0.4006025 |\n",
       "| ASTARRseq_K562_KS91.hg38.Input.rep5.WGS.unstranded.bed.gz   | 178434289 | astarr_macs_input_union   | STARR_ATAC_K562_Reddy_KS91  | ASTARRseq_K562_KS91  | Input  | Input.rep5  | 444268950 | 0.4016357 |\n",
       "| ASTARRseq_K562_KS91.hg38.Input.rep6.WGS.unstranded.bed.gz   | 161391572 | astarr_macs_input_union   | STARR_ATAC_K562_Reddy_KS91  | ASTARRseq_K562_KS91  | Input  | Input.rep6  | 397333562 | 0.4061866 |\n",
       "| ASTARRseq_K562_KS91.hg38.Output.rep1.WGS.unstranded.bed.gz  |  19671551 | astarr_macs_input_union   | STARR_ATAC_K562_Reddy_KS91  | ASTARRseq_K562_KS91  | Output | Output.rep1 |  44103844 | 0.4460280 |\n",
       "| ASTARRseq_K562_KS91.hg38.Output.rep2.WGS.unstranded.bed.gz  |  40404301 | astarr_macs_input_union   | STARR_ATAC_K562_Reddy_KS91  | ASTARRseq_K562_KS91  | Output | Output.rep2 |  97471282 | 0.4145252 |\n",
       "| ASTARRseq_K562_KS91.hg38.Output.rep3.WGS.unstranded.bed.gz  |  35788945 | astarr_macs_input_union   | STARR_ATAC_K562_Reddy_KS91  | ASTARRseq_K562_KS91  | Output | Output.rep3 |  84103298 | 0.4255356 |\n",
       "| ASTARRseq_K562_KS91.hg38.Output.rep4.WGS.unstranded.bed.gz  |  83050782 | astarr_macs_input_union   | STARR_ATAC_K562_Reddy_KS91  | ASTARRseq_K562_KS91  | Output | Output.rep4 | 183115379 | 0.4535435 |\n",
       "| ASTARRseq_K562_KS274.hg38.Output.rep1.WGS.unstranded.bed.gz |  34434586 | astarr_macs_input_overlap | STARR_ATAC_K562_Reddy_KS274 | ASTARRseq_K562_KS274 | Output | Output.rep1 |  75921554 | 0.4535548 |\n",
       "| ASTARRseq_K562_KS274.hg38.Output.rep2.WGS.unstranded.bed.gz |  28632813 | astarr_macs_input_overlap | STARR_ATAC_K562_Reddy_KS274 | ASTARRseq_K562_KS274 | Output | Output.rep2 |  61846404 | 0.4629665 |\n",
       "| ASTARRseq_K562_KS274.hg38.Output.rep3.WGS.unstranded.bed.gz |  36173601 | astarr_macs_input_overlap | STARR_ATAC_K562_Reddy_KS274 | ASTARRseq_K562_KS274 | Output | Output.rep3 |  80233063 | 0.4508565 |\n",
       "| ASTARRseq_K562_KS274.hg38.Output.rep1.WGS.unstranded.bed.gz |  38351070 | astarr_macs_input_union   | STARR_ATAC_K562_Reddy_KS274 | ASTARRseq_K562_KS274 | Output | Output.rep1 |  75921554 | 0.5051407 |\n",
       "| ASTARRseq_K562_KS274.hg38.Output.rep2.WGS.unstranded.bed.gz |  31721369 | astarr_macs_input_union   | STARR_ATAC_K562_Reddy_KS274 | ASTARRseq_K562_KS274 | Output | Output.rep2 |  61846404 | 0.5129056 |\n",
       "| ASTARRseq_K562_KS274.hg38.Output.rep3.WGS.unstranded.bed.gz |  40235953 | astarr_macs_input_union   | STARR_ATAC_K562_Reddy_KS274 | ASTARRseq_K562_KS274 | Output | Output.rep3 |  80233063 | 0.5014884 |\n",
       "\n"
      ],
      "text/plain": [
       "   FName                                                       Size     \n",
       "1  ASTARRseq_K562_KS91.hg38.Input.rep1.WGS.unstranded.bed.gz   118212222\n",
       "2  ASTARRseq_K562_KS91.hg38.Input.rep2.WGS.unstranded.bed.gz   149512330\n",
       "3  ASTARRseq_K562_KS91.hg38.Input.rep3.WGS.unstranded.bed.gz   159858862\n",
       "4  ASTARRseq_K562_KS91.hg38.Input.rep4.WGS.unstranded.bed.gz   150695534\n",
       "5  ASTARRseq_K562_KS91.hg38.Input.rep5.WGS.unstranded.bed.gz   147294367\n",
       "6  ASTARRseq_K562_KS91.hg38.Input.rep6.WGS.unstranded.bed.gz   133574079\n",
       "7  ASTARRseq_K562_KS91.hg38.Output.rep1.WGS.unstranded.bed.gz   17037803\n",
       "8  ASTARRseq_K562_KS91.hg38.Output.rep2.WGS.unstranded.bed.gz   34350606\n",
       "9  ASTARRseq_K562_KS91.hg38.Output.rep3.WGS.unstranded.bed.gz   30672298\n",
       "10 ASTARRseq_K562_KS91.hg38.Output.rep4.WGS.unstranded.bed.gz   71871411\n",
       "11 ASTARRseq_K562_KS91.hg38.Input.rep1.WGS.unstranded.bed.gz   142328094\n",
       "12 ASTARRseq_K562_KS91.hg38.Input.rep2.WGS.unstranded.bed.gz   181205592\n",
       "13 ASTARRseq_K562_KS91.hg38.Input.rep3.WGS.unstranded.bed.gz   194279294\n",
       "14 ASTARRseq_K562_KS91.hg38.Input.rep4.WGS.unstranded.bed.gz   182773381\n",
       "15 ASTARRseq_K562_KS91.hg38.Input.rep5.WGS.unstranded.bed.gz   178434289\n",
       "16 ASTARRseq_K562_KS91.hg38.Input.rep6.WGS.unstranded.bed.gz   161391572\n",
       "17 ASTARRseq_K562_KS91.hg38.Output.rep1.WGS.unstranded.bed.gz   19671551\n",
       "18 ASTARRseq_K562_KS91.hg38.Output.rep2.WGS.unstranded.bed.gz   40404301\n",
       "19 ASTARRseq_K562_KS91.hg38.Output.rep3.WGS.unstranded.bed.gz   35788945\n",
       "20 ASTARRseq_K562_KS91.hg38.Output.rep4.WGS.unstranded.bed.gz   83050782\n",
       "21 ASTARRseq_K562_KS274.hg38.Output.rep1.WGS.unstranded.bed.gz  34434586\n",
       "22 ASTARRseq_K562_KS274.hg38.Output.rep2.WGS.unstranded.bed.gz  28632813\n",
       "23 ASTARRseq_K562_KS274.hg38.Output.rep3.WGS.unstranded.bed.gz  36173601\n",
       "24 ASTARRseq_K562_KS274.hg38.Output.rep1.WGS.unstranded.bed.gz  38351070\n",
       "25 ASTARRseq_K562_KS274.hg38.Output.rep2.WGS.unstranded.bed.gz  31721369\n",
       "26 ASTARRseq_K562_KS274.hg38.Output.rep3.WGS.unstranded.bed.gz  40235953\n",
       "   Label                     Assay                       Prefix              \n",
       "1  astarr_macs_input_overlap STARR_ATAC_K562_Reddy_KS91  ASTARRseq_K562_KS91 \n",
       "2  astarr_macs_input_overlap STARR_ATAC_K562_Reddy_KS91  ASTARRseq_K562_KS91 \n",
       "3  astarr_macs_input_overlap STARR_ATAC_K562_Reddy_KS91  ASTARRseq_K562_KS91 \n",
       "4  astarr_macs_input_overlap STARR_ATAC_K562_Reddy_KS91  ASTARRseq_K562_KS91 \n",
       "5  astarr_macs_input_overlap STARR_ATAC_K562_Reddy_KS91  ASTARRseq_K562_KS91 \n",
       "6  astarr_macs_input_overlap STARR_ATAC_K562_Reddy_KS91  ASTARRseq_K562_KS91 \n",
       "7  astarr_macs_input_overlap STARR_ATAC_K562_Reddy_KS91  ASTARRseq_K562_KS91 \n",
       "8  astarr_macs_input_overlap STARR_ATAC_K562_Reddy_KS91  ASTARRseq_K562_KS91 \n",
       "9  astarr_macs_input_overlap STARR_ATAC_K562_Reddy_KS91  ASTARRseq_K562_KS91 \n",
       "10 astarr_macs_input_overlap STARR_ATAC_K562_Reddy_KS91  ASTARRseq_K562_KS91 \n",
       "11 astarr_macs_input_union   STARR_ATAC_K562_Reddy_KS91  ASTARRseq_K562_KS91 \n",
       "12 astarr_macs_input_union   STARR_ATAC_K562_Reddy_KS91  ASTARRseq_K562_KS91 \n",
       "13 astarr_macs_input_union   STARR_ATAC_K562_Reddy_KS91  ASTARRseq_K562_KS91 \n",
       "14 astarr_macs_input_union   STARR_ATAC_K562_Reddy_KS91  ASTARRseq_K562_KS91 \n",
       "15 astarr_macs_input_union   STARR_ATAC_K562_Reddy_KS91  ASTARRseq_K562_KS91 \n",
       "16 astarr_macs_input_union   STARR_ATAC_K562_Reddy_KS91  ASTARRseq_K562_KS91 \n",
       "17 astarr_macs_input_union   STARR_ATAC_K562_Reddy_KS91  ASTARRseq_K562_KS91 \n",
       "18 astarr_macs_input_union   STARR_ATAC_K562_Reddy_KS91  ASTARRseq_K562_KS91 \n",
       "19 astarr_macs_input_union   STARR_ATAC_K562_Reddy_KS91  ASTARRseq_K562_KS91 \n",
       "20 astarr_macs_input_union   STARR_ATAC_K562_Reddy_KS91  ASTARRseq_K562_KS91 \n",
       "21 astarr_macs_input_overlap STARR_ATAC_K562_Reddy_KS274 ASTARRseq_K562_KS274\n",
       "22 astarr_macs_input_overlap STARR_ATAC_K562_Reddy_KS274 ASTARRseq_K562_KS274\n",
       "23 astarr_macs_input_overlap STARR_ATAC_K562_Reddy_KS274 ASTARRseq_K562_KS274\n",
       "24 astarr_macs_input_union   STARR_ATAC_K562_Reddy_KS274 ASTARRseq_K562_KS274\n",
       "25 astarr_macs_input_union   STARR_ATAC_K562_Reddy_KS274 ASTARRseq_K562_KS274\n",
       "26 astarr_macs_input_union   STARR_ATAC_K562_Reddy_KS274 ASTARRseq_K562_KS274\n",
       "   Group  Sample      Lib_Size  Prop     \n",
       "1  Input  Input.rep1  348695063 0.3390132\n",
       "2  Input  Input.rep2  451369741 0.3312414\n",
       "3  Input  Input.rep3  487579055 0.3278624\n",
       "4  Input  Input.rep4  456246254 0.3302943\n",
       "5  Input  Input.rep5  444268950 0.3315432\n",
       "6  Input  Input.rep6  397333562 0.3361762\n",
       "7  Output Output.rep1  44103844 0.3863111\n",
       "8  Output Output.rep2  97471282 0.3524177\n",
       "9  Output Output.rep3  84103298 0.3646979\n",
       "10 Output Output.rep4 183115379 0.3924925\n",
       "11 Input  Input.rep1  348695063 0.4081735\n",
       "12 Input  Input.rep2  451369741 0.4014571\n",
       "13 Input  Input.rep3  487579055 0.3984570\n",
       "14 Input  Input.rep4  456246254 0.4006025\n",
       "15 Input  Input.rep5  444268950 0.4016357\n",
       "16 Input  Input.rep6  397333562 0.4061866\n",
       "17 Output Output.rep1  44103844 0.4460280\n",
       "18 Output Output.rep2  97471282 0.4145252\n",
       "19 Output Output.rep3  84103298 0.4255356\n",
       "20 Output Output.rep4 183115379 0.4535435\n",
       "21 Output Output.rep1  75921554 0.4535548\n",
       "22 Output Output.rep2  61846404 0.4629665\n",
       "23 Output Output.rep3  80233063 0.4508565\n",
       "24 Output Output.rep1  75921554 0.5051407\n",
       "25 Output Output.rep2  61846404 0.5129056\n",
       "26 Output Output.rep3  80233063 0.5014884"
      ]
     },
     "metadata": {},
     "output_type": "display_data"
    }
   ],
   "source": [
    "dat = bind_rows(lst)\n",
    "dat = dat %>% dplyr::mutate(Prop = Size / Lib_Size)\n",
    "dat"
   ]
  },
  {
   "cell_type": "code",
   "execution_count": 35,
   "id": "ca5cfbb9-117e-448e-adaf-8859c9e6c4f5",
   "metadata": {},
   "outputs": [
    {
     "data": {
      "image/png": "[encoded data removed]",
      "text/plain": [
       "plot without title"
      ]
     },
     "metadata": {
      "image/png": {
       "height": 480,
       "width": 600
      }
     },
     "output_type": "display_data"
    }
   ],
   "source": [
    "gpt = ggplot(dat, aes(x=Sample, y=Prop)) + \n",
    "    geom_col() + \n",
    "    coord_flip() +\n",
    "    theme_cowplot() +\n",
    "    facet_grid(Assay~Label)\n",
    "\n",
    "options(repr.plot.width=10, repr.plot.height=8)\n",
    "print(gpt)"
   ]
  },
  {
   "cell_type": "code",
   "execution_count": null,
   "id": "744afe77-ea88-4f4a-962e-4aba9baa7faf",
   "metadata": {},
   "outputs": [],
   "source": [
    "for (txt_assay in VEC_TXT_ASSAY) {\n",
    "    ###\n",
    "    txt_fdiry = file.path(FD_RES, \"assay_fcc\", txt_assay, \"fragment_counts\", \"summary\")\n",
    "    txt_fname = \"metadata.tsv\"\n",
    "    txt_fpath = file.path(txt_fdiry, txt_fname)\n",
    "    dat_meta  = read_tsv(txt_fpath, show_col_types = FALSE)\n",
    "\n",
    "    ###\n",
    "    txt_fname = \"result.library_size.csv\"\n",
    "    txt_fpath = file.path(txt_fdiry, txt_fname)\n",
    "    dat_size  = read_csv(txt_fpath, col_names = FALSE, show_col_types = FALSE)\n",
    "    colnames(dat_size) = c(\"FName\", \"Size\")\n",
    "\n",
    "    ###\n",
    "    dat = dplyr::left_join(dat_meta, dat_size, by=\"FName\")\n",
    "\n",
    "    ###\n",
    "    txt_fname = \"metadata.library_size.tsv\"\n",
    "    txt_fpath = file.path(txt_fdiry, txt_fname)\n",
    "    write_tsv(dat, txt_fpath)\n",
    "    \n",
    "    ###\n",
    "    fun_display_table(dat_meta)\n",
    "    flush.console()\n",
    "    fun_display_table(dat_size)\n",
    "    flush.console()\n",
    "    fun_display_table(dat)\n",
    "    flush.console()\n",
    "}"
   ]
  }
 ],
 "metadata": {
  "kernelspec": {
   "display_name": "R",
   "language": "R",
   "name": "ir"
  },
  "language_info": {
   "codemirror_mode": "r",
   "file_extension": ".r",
   "mimetype": "text/x-r-source",
   "name": "R",
   "pygments_lexer": "r",
   "version": "4.3.3"
  }
 },
 "nbformat": 4,
 "nbformat_minor": 5
}
