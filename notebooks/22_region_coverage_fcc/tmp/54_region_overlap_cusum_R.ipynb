{
 "cells": [
  {
   "cell_type": "raw",
   "id": "edd688e3-9681-4a70-9552-9f5675e8d8cb",
   "metadata": {},
   "source": [
    "---\n",
    "title: STARR/MPRA Coverage 53\n",
    "subtitle: Summarize coverage for STARR-seq\n",
    "format:\n",
    "    html:\n",
    "        code-fold:  true\n",
    "        code-tools: true\n",
    "---"
   ]
  },
  {
   "cell_type": "markdown",
   "id": "645c4081-f49d-4dd3-be65-b7cacec7a4c8",
   "metadata": {},
   "source": [
    "**Set environment**"
   ]
  },
  {
   "cell_type": "code",
   "execution_count": 1,
   "id": "88307633-bc01-40fc-af1b-8763bd8cf5ad",
   "metadata": {},
   "outputs": [
    {
     "name": "stdout",
     "output_type": "stream",
     "text": [
      "You are working on        Singularity \n",
      "BASE DIRECTORY (FD_BASE): /mount \n",
      "REPO DIRECTORY (FD_REPO): /mount/repo \n",
      "WORK DIRECTORY (FD_WORK): /mount/work \n",
      "DATA DIRECTORY (FD_DATA): /mount/data \n",
      "\n",
      "You are working with      ENCODE FCC \n",
      "PATH OF PROJECT (FD_PRJ): /mount/repo/Proj_ENCODE_FCC \n",
      "PROJECT RESULTS (FD_RES): /mount/repo/Proj_ENCODE_FCC/results \n",
      "PROJECT SCRIPTS (FD_EXE): /mount/repo/Proj_ENCODE_FCC/scripts \n",
      "PROJECT DATA    (FD_DAT): /mount/repo/Proj_ENCODE_FCC/data \n",
      "PROJECT NOTE    (FD_NBK): /mount/repo/Proj_ENCODE_FCC/notebooks \n",
      "PROJECT DOCS    (FD_DOC): /mount/repo/Proj_ENCODE_FCC/docs \n",
      "PROJECT LOG     (FD_LOG): /mount/repo/Proj_ENCODE_FCC/log \n",
      "PROJECT APP     (FD_APP): /mount/repo/Proj_ENCODE_FCC/app \n",
      "PROJECT REF     (FD_REF): /mount/repo/Proj_ENCODE_FCC/references \n",
      "\n"
     ]
    }
   ],
   "source": [
    "suppressMessages(suppressWarnings(source(\"../run_config_project_sing.R\")))\n",
    "show_env()"
   ]
  },
  {
   "cell_type": "code",
   "execution_count": 2,
   "id": "827330cf-33a5-4866-8a46-0223c85f66f7",
   "metadata": {},
   "outputs": [
    {
     "name": "stderr",
     "output_type": "stream",
     "text": [
      "\u001b[1mRows: \u001b[22m\u001b[34m10\u001b[39m \u001b[1mColumns: \u001b[22m\u001b[34m5\u001b[39m\n",
      "\u001b[36m──\u001b[39m \u001b[1mColumn specification\u001b[22m \u001b[36m─────────────────────────────────────────────\u001b[39m\n",
      "\u001b[1mDelimiter:\u001b[22m \"\\t\"\n",
      "\u001b[31mchr\u001b[39m (5): FName, Assay, Prefix, Group, Sample\n",
      "\n",
      "\u001b[36mℹ\u001b[39m Use `spec()` to retrieve the full column specification for this data.\n",
      "\u001b[36mℹ\u001b[39m Specify the column types or set `show_col_types = FALSE` to quiet this message.\n"
     ]
    },
    {
     "data": {
      "text/html": [
       "<table class=\"dataframe\">\n",
       "<caption>A tibble: 6 × 5</caption>\n",
       "<thead>\n",
       "\t<tr><th scope=col>FName</th><th scope=col>Assay</th><th scope=col>Prefix</th><th scope=col>Group</th><th scope=col>Sample</th></tr>\n",
       "\t<tr><th scope=col>&lt;chr&gt;</th><th scope=col>&lt;chr&gt;</th><th scope=col>&lt;chr&gt;</th><th scope=col>&lt;chr&gt;</th><th scope=col>&lt;chr&gt;</th></tr>\n",
       "</thead>\n",
       "<tbody>\n",
       "\t<tr><td>ASTARRseq_K562_KS91.hg38.Input.rep1.WGS.unstranded.bed.gz</td><td>STARR_ATAC_K562_Reddy_KS91</td><td>ASTARRseq_K562_KS91</td><td>Input</td><td>Input.rep1</td></tr>\n",
       "\t<tr><td>ASTARRseq_K562_KS91.hg38.Input.rep2.WGS.unstranded.bed.gz</td><td>STARR_ATAC_K562_Reddy_KS91</td><td>ASTARRseq_K562_KS91</td><td>Input</td><td>Input.rep2</td></tr>\n",
       "\t<tr><td>ASTARRseq_K562_KS91.hg38.Input.rep3.WGS.unstranded.bed.gz</td><td>STARR_ATAC_K562_Reddy_KS91</td><td>ASTARRseq_K562_KS91</td><td>Input</td><td>Input.rep3</td></tr>\n",
       "\t<tr><td>ASTARRseq_K562_KS91.hg38.Input.rep4.WGS.unstranded.bed.gz</td><td>STARR_ATAC_K562_Reddy_KS91</td><td>ASTARRseq_K562_KS91</td><td>Input</td><td>Input.rep4</td></tr>\n",
       "\t<tr><td>ASTARRseq_K562_KS91.hg38.Input.rep5.WGS.unstranded.bed.gz</td><td>STARR_ATAC_K562_Reddy_KS91</td><td>ASTARRseq_K562_KS91</td><td>Input</td><td>Input.rep5</td></tr>\n",
       "\t<tr><td>ASTARRseq_K562_KS91.hg38.Input.rep6.WGS.unstranded.bed.gz</td><td>STARR_ATAC_K562_Reddy_KS91</td><td>ASTARRseq_K562_KS91</td><td>Input</td><td>Input.rep6</td></tr>\n",
       "</tbody>\n",
       "</table>\n"
      ],
      "text/latex": [
       "A tibble: 6 × 5\n",
       "\\begin{tabular}{lllll}\n",
       " FName & Assay & Prefix & Group & Sample\\\\\n",
       " <chr> & <chr> & <chr> & <chr> & <chr>\\\\\n",
       "\\hline\n",
       "\t ASTARRseq\\_K562\\_KS91.hg38.Input.rep1.WGS.unstranded.bed.gz & STARR\\_ATAC\\_K562\\_Reddy\\_KS91 & ASTARRseq\\_K562\\_KS91 & Input & Input.rep1\\\\\n",
       "\t ASTARRseq\\_K562\\_KS91.hg38.Input.rep2.WGS.unstranded.bed.gz & STARR\\_ATAC\\_K562\\_Reddy\\_KS91 & ASTARRseq\\_K562\\_KS91 & Input & Input.rep2\\\\\n",
       "\t ASTARRseq\\_K562\\_KS91.hg38.Input.rep3.WGS.unstranded.bed.gz & STARR\\_ATAC\\_K562\\_Reddy\\_KS91 & ASTARRseq\\_K562\\_KS91 & Input & Input.rep3\\\\\n",
       "\t ASTARRseq\\_K562\\_KS91.hg38.Input.rep4.WGS.unstranded.bed.gz & STARR\\_ATAC\\_K562\\_Reddy\\_KS91 & ASTARRseq\\_K562\\_KS91 & Input & Input.rep4\\\\\n",
       "\t ASTARRseq\\_K562\\_KS91.hg38.Input.rep5.WGS.unstranded.bed.gz & STARR\\_ATAC\\_K562\\_Reddy\\_KS91 & ASTARRseq\\_K562\\_KS91 & Input & Input.rep5\\\\\n",
       "\t ASTARRseq\\_K562\\_KS91.hg38.Input.rep6.WGS.unstranded.bed.gz & STARR\\_ATAC\\_K562\\_Reddy\\_KS91 & ASTARRseq\\_K562\\_KS91 & Input & Input.rep6\\\\\n",
       "\\end{tabular}\n"
      ],
      "text/markdown": [
       "\n",
       "A tibble: 6 × 5\n",
       "\n",
       "| FName &lt;chr&gt; | Assay &lt;chr&gt; | Prefix &lt;chr&gt; | Group &lt;chr&gt; | Sample &lt;chr&gt; |\n",
       "|---|---|---|---|---|\n",
       "| ASTARRseq_K562_KS91.hg38.Input.rep1.WGS.unstranded.bed.gz | STARR_ATAC_K562_Reddy_KS91 | ASTARRseq_K562_KS91 | Input | Input.rep1 |\n",
       "| ASTARRseq_K562_KS91.hg38.Input.rep2.WGS.unstranded.bed.gz | STARR_ATAC_K562_Reddy_KS91 | ASTARRseq_K562_KS91 | Input | Input.rep2 |\n",
       "| ASTARRseq_K562_KS91.hg38.Input.rep3.WGS.unstranded.bed.gz | STARR_ATAC_K562_Reddy_KS91 | ASTARRseq_K562_KS91 | Input | Input.rep3 |\n",
       "| ASTARRseq_K562_KS91.hg38.Input.rep4.WGS.unstranded.bed.gz | STARR_ATAC_K562_Reddy_KS91 | ASTARRseq_K562_KS91 | Input | Input.rep4 |\n",
       "| ASTARRseq_K562_KS91.hg38.Input.rep5.WGS.unstranded.bed.gz | STARR_ATAC_K562_Reddy_KS91 | ASTARRseq_K562_KS91 | Input | Input.rep5 |\n",
       "| ASTARRseq_K562_KS91.hg38.Input.rep6.WGS.unstranded.bed.gz | STARR_ATAC_K562_Reddy_KS91 | ASTARRseq_K562_KS91 | Input | Input.rep6 |\n",
       "\n"
      ],
      "text/plain": [
       "  FName                                                    \n",
       "1 ASTARRseq_K562_KS91.hg38.Input.rep1.WGS.unstranded.bed.gz\n",
       "2 ASTARRseq_K562_KS91.hg38.Input.rep2.WGS.unstranded.bed.gz\n",
       "3 ASTARRseq_K562_KS91.hg38.Input.rep3.WGS.unstranded.bed.gz\n",
       "4 ASTARRseq_K562_KS91.hg38.Input.rep4.WGS.unstranded.bed.gz\n",
       "5 ASTARRseq_K562_KS91.hg38.Input.rep5.WGS.unstranded.bed.gz\n",
       "6 ASTARRseq_K562_KS91.hg38.Input.rep6.WGS.unstranded.bed.gz\n",
       "  Assay                      Prefix              Group Sample    \n",
       "1 STARR_ATAC_K562_Reddy_KS91 ASTARRseq_K562_KS91 Input Input.rep1\n",
       "2 STARR_ATAC_K562_Reddy_KS91 ASTARRseq_K562_KS91 Input Input.rep2\n",
       "3 STARR_ATAC_K562_Reddy_KS91 ASTARRseq_K562_KS91 Input Input.rep3\n",
       "4 STARR_ATAC_K562_Reddy_KS91 ASTARRseq_K562_KS91 Input Input.rep4\n",
       "5 STARR_ATAC_K562_Reddy_KS91 ASTARRseq_K562_KS91 Input Input.rep5\n",
       "6 STARR_ATAC_K562_Reddy_KS91 ASTARRseq_K562_KS91 Input Input.rep6"
      ]
     },
     "metadata": {},
     "output_type": "display_data"
    }
   ],
   "source": [
    "txt_assay = \"STARR_ATAC_K562_Reddy_KS91\"\n",
    "txt_fdiry = file.path(\n",
    "    FD_RES, \n",
    "    \"assay_fcc\", \n",
    "    txt_assay, \n",
    "    \"fragment_counts\",\n",
    "    \"summary\")\n",
    "txt_fname = \"metadata.tsv\"\n",
    "txt_fpath = file.path(txt_fdiry, txt_fname)\n",
    "\n",
    "dat = read_tsv(txt_fpath)\n",
    "dat_meta = dat\n",
    "head(dat)"
   ]
  },
  {
   "cell_type": "code",
   "execution_count": 3,
   "id": "3dcb69e2-bf4e-4005-b3f6-d75b0b06c9cf",
   "metadata": {},
   "outputs": [
    {
     "name": "stderr",
     "output_type": "stream",
     "text": [
      "\u001b[1mRows: \u001b[22m\u001b[34m150041\u001b[39m \u001b[1mColumns: \u001b[22m\u001b[34m8\u001b[39m\n",
      "\u001b[36m──\u001b[39m \u001b[1mColumn specification\u001b[22m \u001b[36m─────────────────────────────────────────────\u001b[39m\n",
      "\u001b[1mDelimiter:\u001b[22m \"\\t\"\n",
      "\u001b[31mchr\u001b[39m (2): Chrom, Region\n",
      "\u001b[32mdbl\u001b[39m (6): ChromStart, ChromEnd, Input_FPKM, Input_TPM, Output_FPKM, Output_TPM\n",
      "\n",
      "\u001b[36mℹ\u001b[39m Use `spec()` to retrieve the full column specification for this data.\n",
      "\u001b[36mℹ\u001b[39m Specify the column types or set `show_col_types = FALSE` to quiet this message.\n"
     ]
    },
    {
     "data": {
      "text/html": [
       "<table class=\"dataframe\">\n",
       "<caption>A tibble: 6 × 8</caption>\n",
       "<thead>\n",
       "\t<tr><th scope=col>Chrom</th><th scope=col>ChromStart</th><th scope=col>ChromEnd</th><th scope=col>Region</th><th scope=col>Input_FPKM</th><th scope=col>Input_TPM</th><th scope=col>Output_FPKM</th><th scope=col>Output_TPM</th></tr>\n",
       "\t<tr><th scope=col>&lt;chr&gt;</th><th scope=col>&lt;dbl&gt;</th><th scope=col>&lt;dbl&gt;</th><th scope=col>&lt;chr&gt;</th><th scope=col>&lt;dbl&gt;</th><th scope=col>&lt;dbl&gt;</th><th scope=col>&lt;dbl&gt;</th><th scope=col>&lt;dbl&gt;</th></tr>\n",
       "</thead>\n",
       "<tbody>\n",
       "\t<tr><td>chr1</td><td> 10038</td><td> 10405</td><td>chr1:10038-10405  </td><td>0.004164383</td><td> 3.940038</td><td>0.0006671239</td><td> 0.6488611</td></tr>\n",
       "\t<tr><td>chr1</td><td> 14282</td><td> 14614</td><td>chr1:14282-14614  </td><td>0.003003325</td><td> 2.841707</td><td>0.0020670469</td><td> 2.0120603</td></tr>\n",
       "\t<tr><td>chr1</td><td> 16025</td><td> 16338</td><td>chr1:16025-16338  </td><td>0.004048701</td><td> 3.830812</td><td>0.0012104446</td><td> 1.1818766</td></tr>\n",
       "\t<tr><td>chr1</td><td> 17288</td><td> 17689</td><td>chr1:17288-17689  </td><td>0.006551198</td><td> 6.198372</td><td>0.0015784974</td><td> 1.5431749</td></tr>\n",
       "\t<tr><td>chr1</td><td> 28934</td><td> 29499</td><td>chr1:28934-29499  </td><td>0.004295316</td><td> 4.064322</td><td>0.0005928433</td><td> 0.5801715</td></tr>\n",
       "\t<tr><td>chr1</td><td>115429</td><td>115969</td><td>chr1:115429-115969</td><td>0.015954822</td><td>15.096518</td><td>0.0260260669</td><td>25.3605429</td></tr>\n",
       "</tbody>\n",
       "</table>\n"
      ],
      "text/latex": [
       "A tibble: 6 × 8\n",
       "\\begin{tabular}{llllllll}\n",
       " Chrom & ChromStart & ChromEnd & Region & Input\\_FPKM & Input\\_TPM & Output\\_FPKM & Output\\_TPM\\\\\n",
       " <chr> & <dbl> & <dbl> & <chr> & <dbl> & <dbl> & <dbl> & <dbl>\\\\\n",
       "\\hline\n",
       "\t chr1 &  10038 &  10405 & chr1:10038-10405   & 0.004164383 &  3.940038 & 0.0006671239 &  0.6488611\\\\\n",
       "\t chr1 &  14282 &  14614 & chr1:14282-14614   & 0.003003325 &  2.841707 & 0.0020670469 &  2.0120603\\\\\n",
       "\t chr1 &  16025 &  16338 & chr1:16025-16338   & 0.004048701 &  3.830812 & 0.0012104446 &  1.1818766\\\\\n",
       "\t chr1 &  17288 &  17689 & chr1:17288-17689   & 0.006551198 &  6.198372 & 0.0015784974 &  1.5431749\\\\\n",
       "\t chr1 &  28934 &  29499 & chr1:28934-29499   & 0.004295316 &  4.064322 & 0.0005928433 &  0.5801715\\\\\n",
       "\t chr1 & 115429 & 115969 & chr1:115429-115969 & 0.015954822 & 15.096518 & 0.0260260669 & 25.3605429\\\\\n",
       "\\end{tabular}\n"
      ],
      "text/markdown": [
       "\n",
       "A tibble: 6 × 8\n",
       "\n",
       "| Chrom &lt;chr&gt; | ChromStart &lt;dbl&gt; | ChromEnd &lt;dbl&gt; | Region &lt;chr&gt; | Input_FPKM &lt;dbl&gt; | Input_TPM &lt;dbl&gt; | Output_FPKM &lt;dbl&gt; | Output_TPM &lt;dbl&gt; |\n",
       "|---|---|---|---|---|---|---|---|\n",
       "| chr1 |  10038 |  10405 | chr1:10038-10405   | 0.004164383 |  3.940038 | 0.0006671239 |  0.6488611 |\n",
       "| chr1 |  14282 |  14614 | chr1:14282-14614   | 0.003003325 |  2.841707 | 0.0020670469 |  2.0120603 |\n",
       "| chr1 |  16025 |  16338 | chr1:16025-16338   | 0.004048701 |  3.830812 | 0.0012104446 |  1.1818766 |\n",
       "| chr1 |  17288 |  17689 | chr1:17288-17689   | 0.006551198 |  6.198372 | 0.0015784974 |  1.5431749 |\n",
       "| chr1 |  28934 |  29499 | chr1:28934-29499   | 0.004295316 |  4.064322 | 0.0005928433 |  0.5801715 |\n",
       "| chr1 | 115429 | 115969 | chr1:115429-115969 | 0.015954822 | 15.096518 | 0.0260260669 | 25.3605429 |\n",
       "\n"
      ],
      "text/plain": [
       "  Chrom ChromStart ChromEnd Region             Input_FPKM  Input_TPM\n",
       "1 chr1   10038      10405   chr1:10038-10405   0.004164383  3.940038\n",
       "2 chr1   14282      14614   chr1:14282-14614   0.003003325  2.841707\n",
       "3 chr1   16025      16338   chr1:16025-16338   0.004048701  3.830812\n",
       "4 chr1   17288      17689   chr1:17288-17689   0.006551198  6.198372\n",
       "5 chr1   28934      29499   chr1:28934-29499   0.004295316  4.064322\n",
       "6 chr1  115429     115969   chr1:115429-115969 0.015954822 15.096518\n",
       "  Output_FPKM  Output_TPM\n",
       "1 0.0006671239  0.6488611\n",
       "2 0.0020670469  2.0120603\n",
       "3 0.0012104446  1.1818766\n",
       "4 0.0015784974  1.5431749\n",
       "5 0.0005928433  0.5801715\n",
       "6 0.0260260669 25.3605429"
      ]
     },
     "metadata": {},
     "output_type": "display_data"
    }
   ],
   "source": [
    "txt_assay = \"STARR_ATAC_K562_Reddy_KS91\"\n",
    "txt_fdiry = file.path(\n",
    "    FD_RES, \n",
    "    \"assay_fcc\", \n",
    "    txt_assay, \n",
    "    \"coverage\", \n",
    "    \"fcc_astarr_macs\", \n",
    "    \"astarr_macs_input_overlap\",\n",
    "    \"summary\")\n",
    "\n",
    "txt_fname = \"result.score.mean.tsv\"\n",
    "txt_fpath = file.path(txt_fdiry, txt_fname)\n",
    "\n",
    "dat = read_tsv(txt_fpath)\n",
    "dat_score_mean = dat\n",
    "head(dat)"
   ]
  },
  {
   "cell_type": "code",
   "execution_count": 4,
   "id": "d795acb0-c5d0-40ba-ab49-6651032e2ff7",
   "metadata": {},
   "outputs": [
    {
     "data": {
      "text/html": [
       "<table class=\"dataframe\">\n",
       "<caption>A spec_tbl_df: 10 × 5</caption>\n",
       "<thead>\n",
       "\t<tr><th scope=col>FName</th><th scope=col>Assay</th><th scope=col>Prefix</th><th scope=col>Group</th><th scope=col>Sample</th></tr>\n",
       "\t<tr><th scope=col>&lt;chr&gt;</th><th scope=col>&lt;chr&gt;</th><th scope=col>&lt;chr&gt;</th><th scope=col>&lt;chr&gt;</th><th scope=col>&lt;chr&gt;</th></tr>\n",
       "</thead>\n",
       "<tbody>\n",
       "\t<tr><td>ASTARRseq_K562_KS91.hg38.Input.rep1.WGS.unstranded.bed.gz </td><td>STARR_ATAC_K562_Reddy_KS91</td><td>ASTARRseq_K562_KS91</td><td>Input </td><td>Input.rep1 </td></tr>\n",
       "\t<tr><td>ASTARRseq_K562_KS91.hg38.Input.rep2.WGS.unstranded.bed.gz </td><td>STARR_ATAC_K562_Reddy_KS91</td><td>ASTARRseq_K562_KS91</td><td>Input </td><td>Input.rep2 </td></tr>\n",
       "\t<tr><td>ASTARRseq_K562_KS91.hg38.Input.rep3.WGS.unstranded.bed.gz </td><td>STARR_ATAC_K562_Reddy_KS91</td><td>ASTARRseq_K562_KS91</td><td>Input </td><td>Input.rep3 </td></tr>\n",
       "\t<tr><td>ASTARRseq_K562_KS91.hg38.Input.rep4.WGS.unstranded.bed.gz </td><td>STARR_ATAC_K562_Reddy_KS91</td><td>ASTARRseq_K562_KS91</td><td>Input </td><td>Input.rep4 </td></tr>\n",
       "\t<tr><td>ASTARRseq_K562_KS91.hg38.Input.rep5.WGS.unstranded.bed.gz </td><td>STARR_ATAC_K562_Reddy_KS91</td><td>ASTARRseq_K562_KS91</td><td>Input </td><td>Input.rep5 </td></tr>\n",
       "\t<tr><td>ASTARRseq_K562_KS91.hg38.Input.rep6.WGS.unstranded.bed.gz </td><td>STARR_ATAC_K562_Reddy_KS91</td><td>ASTARRseq_K562_KS91</td><td>Input </td><td>Input.rep6 </td></tr>\n",
       "\t<tr><td>ASTARRseq_K562_KS91.hg38.Output.rep1.WGS.unstranded.bed.gz</td><td>STARR_ATAC_K562_Reddy_KS91</td><td>ASTARRseq_K562_KS91</td><td>Output</td><td>Output.rep1</td></tr>\n",
       "\t<tr><td>ASTARRseq_K562_KS91.hg38.Output.rep2.WGS.unstranded.bed.gz</td><td>STARR_ATAC_K562_Reddy_KS91</td><td>ASTARRseq_K562_KS91</td><td>Output</td><td>Output.rep2</td></tr>\n",
       "\t<tr><td>ASTARRseq_K562_KS91.hg38.Output.rep3.WGS.unstranded.bed.gz</td><td>STARR_ATAC_K562_Reddy_KS91</td><td>ASTARRseq_K562_KS91</td><td>Output</td><td>Output.rep3</td></tr>\n",
       "\t<tr><td>ASTARRseq_K562_KS91.hg38.Output.rep4.WGS.unstranded.bed.gz</td><td>STARR_ATAC_K562_Reddy_KS91</td><td>ASTARRseq_K562_KS91</td><td>Output</td><td>Output.rep4</td></tr>\n",
       "</tbody>\n",
       "</table>\n"
      ],
      "text/latex": [
       "A spec\\_tbl\\_df: 10 × 5\n",
       "\\begin{tabular}{lllll}\n",
       " FName & Assay & Prefix & Group & Sample\\\\\n",
       " <chr> & <chr> & <chr> & <chr> & <chr>\\\\\n",
       "\\hline\n",
       "\t ASTARRseq\\_K562\\_KS91.hg38.Input.rep1.WGS.unstranded.bed.gz  & STARR\\_ATAC\\_K562\\_Reddy\\_KS91 & ASTARRseq\\_K562\\_KS91 & Input  & Input.rep1 \\\\\n",
       "\t ASTARRseq\\_K562\\_KS91.hg38.Input.rep2.WGS.unstranded.bed.gz  & STARR\\_ATAC\\_K562\\_Reddy\\_KS91 & ASTARRseq\\_K562\\_KS91 & Input  & Input.rep2 \\\\\n",
       "\t ASTARRseq\\_K562\\_KS91.hg38.Input.rep3.WGS.unstranded.bed.gz  & STARR\\_ATAC\\_K562\\_Reddy\\_KS91 & ASTARRseq\\_K562\\_KS91 & Input  & Input.rep3 \\\\\n",
       "\t ASTARRseq\\_K562\\_KS91.hg38.Input.rep4.WGS.unstranded.bed.gz  & STARR\\_ATAC\\_K562\\_Reddy\\_KS91 & ASTARRseq\\_K562\\_KS91 & Input  & Input.rep4 \\\\\n",
       "\t ASTARRseq\\_K562\\_KS91.hg38.Input.rep5.WGS.unstranded.bed.gz  & STARR\\_ATAC\\_K562\\_Reddy\\_KS91 & ASTARRseq\\_K562\\_KS91 & Input  & Input.rep5 \\\\\n",
       "\t ASTARRseq\\_K562\\_KS91.hg38.Input.rep6.WGS.unstranded.bed.gz  & STARR\\_ATAC\\_K562\\_Reddy\\_KS91 & ASTARRseq\\_K562\\_KS91 & Input  & Input.rep6 \\\\\n",
       "\t ASTARRseq\\_K562\\_KS91.hg38.Output.rep1.WGS.unstranded.bed.gz & STARR\\_ATAC\\_K562\\_Reddy\\_KS91 & ASTARRseq\\_K562\\_KS91 & Output & Output.rep1\\\\\n",
       "\t ASTARRseq\\_K562\\_KS91.hg38.Output.rep2.WGS.unstranded.bed.gz & STARR\\_ATAC\\_K562\\_Reddy\\_KS91 & ASTARRseq\\_K562\\_KS91 & Output & Output.rep2\\\\\n",
       "\t ASTARRseq\\_K562\\_KS91.hg38.Output.rep3.WGS.unstranded.bed.gz & STARR\\_ATAC\\_K562\\_Reddy\\_KS91 & ASTARRseq\\_K562\\_KS91 & Output & Output.rep3\\\\\n",
       "\t ASTARRseq\\_K562\\_KS91.hg38.Output.rep4.WGS.unstranded.bed.gz & STARR\\_ATAC\\_K562\\_Reddy\\_KS91 & ASTARRseq\\_K562\\_KS91 & Output & Output.rep4\\\\\n",
       "\\end{tabular}\n"
      ],
      "text/markdown": [
       "\n",
       "A spec_tbl_df: 10 × 5\n",
       "\n",
       "| FName &lt;chr&gt; | Assay &lt;chr&gt; | Prefix &lt;chr&gt; | Group &lt;chr&gt; | Sample &lt;chr&gt; |\n",
       "|---|---|---|---|---|\n",
       "| ASTARRseq_K562_KS91.hg38.Input.rep1.WGS.unstranded.bed.gz  | STARR_ATAC_K562_Reddy_KS91 | ASTARRseq_K562_KS91 | Input  | Input.rep1  |\n",
       "| ASTARRseq_K562_KS91.hg38.Input.rep2.WGS.unstranded.bed.gz  | STARR_ATAC_K562_Reddy_KS91 | ASTARRseq_K562_KS91 | Input  | Input.rep2  |\n",
       "| ASTARRseq_K562_KS91.hg38.Input.rep3.WGS.unstranded.bed.gz  | STARR_ATAC_K562_Reddy_KS91 | ASTARRseq_K562_KS91 | Input  | Input.rep3  |\n",
       "| ASTARRseq_K562_KS91.hg38.Input.rep4.WGS.unstranded.bed.gz  | STARR_ATAC_K562_Reddy_KS91 | ASTARRseq_K562_KS91 | Input  | Input.rep4  |\n",
       "| ASTARRseq_K562_KS91.hg38.Input.rep5.WGS.unstranded.bed.gz  | STARR_ATAC_K562_Reddy_KS91 | ASTARRseq_K562_KS91 | Input  | Input.rep5  |\n",
       "| ASTARRseq_K562_KS91.hg38.Input.rep6.WGS.unstranded.bed.gz  | STARR_ATAC_K562_Reddy_KS91 | ASTARRseq_K562_KS91 | Input  | Input.rep6  |\n",
       "| ASTARRseq_K562_KS91.hg38.Output.rep1.WGS.unstranded.bed.gz | STARR_ATAC_K562_Reddy_KS91 | ASTARRseq_K562_KS91 | Output | Output.rep1 |\n",
       "| ASTARRseq_K562_KS91.hg38.Output.rep2.WGS.unstranded.bed.gz | STARR_ATAC_K562_Reddy_KS91 | ASTARRseq_K562_KS91 | Output | Output.rep2 |\n",
       "| ASTARRseq_K562_KS91.hg38.Output.rep3.WGS.unstranded.bed.gz | STARR_ATAC_K562_Reddy_KS91 | ASTARRseq_K562_KS91 | Output | Output.rep3 |\n",
       "| ASTARRseq_K562_KS91.hg38.Output.rep4.WGS.unstranded.bed.gz | STARR_ATAC_K562_Reddy_KS91 | ASTARRseq_K562_KS91 | Output | Output.rep4 |\n",
       "\n"
      ],
      "text/plain": [
       "   FName                                                     \n",
       "1  ASTARRseq_K562_KS91.hg38.Input.rep1.WGS.unstranded.bed.gz \n",
       "2  ASTARRseq_K562_KS91.hg38.Input.rep2.WGS.unstranded.bed.gz \n",
       "3  ASTARRseq_K562_KS91.hg38.Input.rep3.WGS.unstranded.bed.gz \n",
       "4  ASTARRseq_K562_KS91.hg38.Input.rep4.WGS.unstranded.bed.gz \n",
       "5  ASTARRseq_K562_KS91.hg38.Input.rep5.WGS.unstranded.bed.gz \n",
       "6  ASTARRseq_K562_KS91.hg38.Input.rep6.WGS.unstranded.bed.gz \n",
       "7  ASTARRseq_K562_KS91.hg38.Output.rep1.WGS.unstranded.bed.gz\n",
       "8  ASTARRseq_K562_KS91.hg38.Output.rep2.WGS.unstranded.bed.gz\n",
       "9  ASTARRseq_K562_KS91.hg38.Output.rep3.WGS.unstranded.bed.gz\n",
       "10 ASTARRseq_K562_KS91.hg38.Output.rep4.WGS.unstranded.bed.gz\n",
       "   Assay                      Prefix              Group  Sample     \n",
       "1  STARR_ATAC_K562_Reddy_KS91 ASTARRseq_K562_KS91 Input  Input.rep1 \n",
       "2  STARR_ATAC_K562_Reddy_KS91 ASTARRseq_K562_KS91 Input  Input.rep2 \n",
       "3  STARR_ATAC_K562_Reddy_KS91 ASTARRseq_K562_KS91 Input  Input.rep3 \n",
       "4  STARR_ATAC_K562_Reddy_KS91 ASTARRseq_K562_KS91 Input  Input.rep4 \n",
       "5  STARR_ATAC_K562_Reddy_KS91 ASTARRseq_K562_KS91 Input  Input.rep5 \n",
       "6  STARR_ATAC_K562_Reddy_KS91 ASTARRseq_K562_KS91 Input  Input.rep6 \n",
       "7  STARR_ATAC_K562_Reddy_KS91 ASTARRseq_K562_KS91 Output Output.rep1\n",
       "8  STARR_ATAC_K562_Reddy_KS91 ASTARRseq_K562_KS91 Output Output.rep2\n",
       "9  STARR_ATAC_K562_Reddy_KS91 ASTARRseq_K562_KS91 Output Output.rep3\n",
       "10 STARR_ATAC_K562_Reddy_KS91 ASTARRseq_K562_KS91 Output Output.rep4"
      ]
     },
     "metadata": {},
     "output_type": "display_data"
    }
   ],
   "source": [
    "dat_meta"
   ]
  },
  {
   "cell_type": "code",
   "execution_count": 5,
   "id": "2430a5c0-a752-48c3-897a-80687d5dfae1",
   "metadata": {},
   "outputs": [
    {
     "data": {
      "text/html": [
       "<style>\n",
       ".dl-inline {width: auto; margin:0; padding: 0}\n",
       ".dl-inline>dt, .dl-inline>dd {float: none; width: auto; display: inline-block}\n",
       ".dl-inline>dt::after {content: \":\\0020\"; padding-right: .5ex}\n",
       ".dl-inline>dt:not(:first-of-type) {padding-left: .5ex}\n",
       "</style><dl class=dl-inline><dt>ASTARRseq_K562_KS91.hg38.Input.rep1.WGS.unstranded.bed.gz</dt><dd>'Input.rep1'</dd><dt>ASTARRseq_K562_KS91.hg38.Input.rep2.WGS.unstranded.bed.gz</dt><dd>'Input.rep2'</dd><dt>ASTARRseq_K562_KS91.hg38.Input.rep3.WGS.unstranded.bed.gz</dt><dd>'Input.rep3'</dd><dt>ASTARRseq_K562_KS91.hg38.Input.rep4.WGS.unstranded.bed.gz</dt><dd>'Input.rep4'</dd><dt>ASTARRseq_K562_KS91.hg38.Input.rep5.WGS.unstranded.bed.gz</dt><dd>'Input.rep5'</dd><dt>ASTARRseq_K562_KS91.hg38.Input.rep6.WGS.unstranded.bed.gz</dt><dd>'Input.rep6'</dd><dt>ASTARRseq_K562_KS91.hg38.Output.rep1.WGS.unstranded.bed.gz</dt><dd>'Output.rep1'</dd><dt>ASTARRseq_K562_KS91.hg38.Output.rep2.WGS.unstranded.bed.gz</dt><dd>'Output.rep2'</dd><dt>ASTARRseq_K562_KS91.hg38.Output.rep3.WGS.unstranded.bed.gz</dt><dd>'Output.rep3'</dd><dt>ASTARRseq_K562_KS91.hg38.Output.rep4.WGS.unstranded.bed.gz</dt><dd>'Output.rep4'</dd></dl>\n"
      ],
      "text/latex": [
       "\\begin{description*}\n",
       "\\item[ASTARRseq\\textbackslash{}\\_K562\\textbackslash{}\\_KS91.hg38.Input.rep1.WGS.unstranded.bed.gz] 'Input.rep1'\n",
       "\\item[ASTARRseq\\textbackslash{}\\_K562\\textbackslash{}\\_KS91.hg38.Input.rep2.WGS.unstranded.bed.gz] 'Input.rep2'\n",
       "\\item[ASTARRseq\\textbackslash{}\\_K562\\textbackslash{}\\_KS91.hg38.Input.rep3.WGS.unstranded.bed.gz] 'Input.rep3'\n",
       "\\item[ASTARRseq\\textbackslash{}\\_K562\\textbackslash{}\\_KS91.hg38.Input.rep4.WGS.unstranded.bed.gz] 'Input.rep4'\n",
       "\\item[ASTARRseq\\textbackslash{}\\_K562\\textbackslash{}\\_KS91.hg38.Input.rep5.WGS.unstranded.bed.gz] 'Input.rep5'\n",
       "\\item[ASTARRseq\\textbackslash{}\\_K562\\textbackslash{}\\_KS91.hg38.Input.rep6.WGS.unstranded.bed.gz] 'Input.rep6'\n",
       "\\item[ASTARRseq\\textbackslash{}\\_K562\\textbackslash{}\\_KS91.hg38.Output.rep1.WGS.unstranded.bed.gz] 'Output.rep1'\n",
       "\\item[ASTARRseq\\textbackslash{}\\_K562\\textbackslash{}\\_KS91.hg38.Output.rep2.WGS.unstranded.bed.gz] 'Output.rep2'\n",
       "\\item[ASTARRseq\\textbackslash{}\\_K562\\textbackslash{}\\_KS91.hg38.Output.rep3.WGS.unstranded.bed.gz] 'Output.rep3'\n",
       "\\item[ASTARRseq\\textbackslash{}\\_K562\\textbackslash{}\\_KS91.hg38.Output.rep4.WGS.unstranded.bed.gz] 'Output.rep4'\n",
       "\\end{description*}\n"
      ],
      "text/markdown": [
       "ASTARRseq_K562_KS91.hg38.Input.rep1.WGS.unstranded.bed.gz\n",
       ":   'Input.rep1'ASTARRseq_K562_KS91.hg38.Input.rep2.WGS.unstranded.bed.gz\n",
       ":   'Input.rep2'ASTARRseq_K562_KS91.hg38.Input.rep3.WGS.unstranded.bed.gz\n",
       ":   'Input.rep3'ASTARRseq_K562_KS91.hg38.Input.rep4.WGS.unstranded.bed.gz\n",
       ":   'Input.rep4'ASTARRseq_K562_KS91.hg38.Input.rep5.WGS.unstranded.bed.gz\n",
       ":   'Input.rep5'ASTARRseq_K562_KS91.hg38.Input.rep6.WGS.unstranded.bed.gz\n",
       ":   'Input.rep6'ASTARRseq_K562_KS91.hg38.Output.rep1.WGS.unstranded.bed.gz\n",
       ":   'Output.rep1'ASTARRseq_K562_KS91.hg38.Output.rep2.WGS.unstranded.bed.gz\n",
       ":   'Output.rep2'ASTARRseq_K562_KS91.hg38.Output.rep3.WGS.unstranded.bed.gz\n",
       ":   'Output.rep3'ASTARRseq_K562_KS91.hg38.Output.rep4.WGS.unstranded.bed.gz\n",
       ":   'Output.rep4'\n",
       "\n"
      ],
      "text/plain": [
       " ASTARRseq_K562_KS91.hg38.Input.rep1.WGS.unstranded.bed.gz \n",
       "                                              \"Input.rep1\" \n",
       " ASTARRseq_K562_KS91.hg38.Input.rep2.WGS.unstranded.bed.gz \n",
       "                                              \"Input.rep2\" \n",
       " ASTARRseq_K562_KS91.hg38.Input.rep3.WGS.unstranded.bed.gz \n",
       "                                              \"Input.rep3\" \n",
       " ASTARRseq_K562_KS91.hg38.Input.rep4.WGS.unstranded.bed.gz \n",
       "                                              \"Input.rep4\" \n",
       " ASTARRseq_K562_KS91.hg38.Input.rep5.WGS.unstranded.bed.gz \n",
       "                                              \"Input.rep5\" \n",
       " ASTARRseq_K562_KS91.hg38.Input.rep6.WGS.unstranded.bed.gz \n",
       "                                              \"Input.rep6\" \n",
       "ASTARRseq_K562_KS91.hg38.Output.rep1.WGS.unstranded.bed.gz \n",
       "                                             \"Output.rep1\" \n",
       "ASTARRseq_K562_KS91.hg38.Output.rep2.WGS.unstranded.bed.gz \n",
       "                                             \"Output.rep2\" \n",
       "ASTARRseq_K562_KS91.hg38.Output.rep3.WGS.unstranded.bed.gz \n",
       "                                             \"Output.rep3\" \n",
       "ASTARRseq_K562_KS91.hg38.Output.rep4.WGS.unstranded.bed.gz \n",
       "                                             \"Output.rep4\" "
      ]
     },
     "metadata": {},
     "output_type": "display_data"
    }
   ],
   "source": [
    "dat = dat_meta\n",
    "vec = setNames(dat$Sample, dat$FName)\n",
    "vec_txt_sample = vec\n",
    "vec"
   ]
  },
  {
   "cell_type": "code",
   "execution_count": 6,
   "id": "8e2338fe-1a31-4f99-813d-f739fd938b73",
   "metadata": {},
   "outputs": [
    {
     "name": "stdout",
     "output_type": "stream",
     "text": [
      "\u001b[90m# A tibble: 6 × 4\u001b[39m\n",
      "  Chrom ChromStart ChromEnd Input.rep1\n",
      "  \u001b[3m\u001b[90m<chr>\u001b[39m\u001b[23m      \u001b[3m\u001b[90m<dbl>\u001b[39m\u001b[23m    \u001b[3m\u001b[90m<dbl>\u001b[39m\u001b[23m      \u001b[3m\u001b[90m<dbl>\u001b[39m\u001b[23m\n",
      "\u001b[90m1\u001b[39m chr1       \u001b[4m1\u001b[24m\u001b[4m0\u001b[24m038    \u001b[4m1\u001b[24m\u001b[4m0\u001b[24m405        155\n",
      "\u001b[90m2\u001b[39m chr1       \u001b[4m1\u001b[24m\u001b[4m4\u001b[24m282    \u001b[4m1\u001b[24m\u001b[4m4\u001b[24m614        123\n",
      "\u001b[90m3\u001b[39m chr1       \u001b[4m1\u001b[24m\u001b[4m6\u001b[24m025    \u001b[4m1\u001b[24m\u001b[4m6\u001b[24m338        145\n",
      "\u001b[90m4\u001b[39m chr1       \u001b[4m1\u001b[24m\u001b[4m7\u001b[24m288    \u001b[4m1\u001b[24m\u001b[4m7\u001b[24m689        261\n",
      "\u001b[90m5\u001b[39m chr1       \u001b[4m2\u001b[24m\u001b[4m8\u001b[24m934    \u001b[4m2\u001b[24m\u001b[4m9\u001b[24m499        264\n",
      "\u001b[90m6\u001b[39m chr1      \u001b[4m1\u001b[24m\u001b[4m1\u001b[24m\u001b[4m5\u001b[24m429   \u001b[4m1\u001b[24m\u001b[4m1\u001b[24m\u001b[4m5\u001b[24m969        955\n",
      "\u001b[90m# A tibble: 6 × 4\u001b[39m\n",
      "  Chrom ChromStart ChromEnd Input.rep2\n",
      "  \u001b[3m\u001b[90m<chr>\u001b[39m\u001b[23m      \u001b[3m\u001b[90m<dbl>\u001b[39m\u001b[23m    \u001b[3m\u001b[90m<dbl>\u001b[39m\u001b[23m      \u001b[3m\u001b[90m<dbl>\u001b[39m\u001b[23m\n",
      "\u001b[90m1\u001b[39m chr1       \u001b[4m1\u001b[24m\u001b[4m0\u001b[24m038    \u001b[4m1\u001b[24m\u001b[4m0\u001b[24m405        216\n",
      "\u001b[90m2\u001b[39m chr1       \u001b[4m1\u001b[24m\u001b[4m4\u001b[24m282    \u001b[4m1\u001b[24m\u001b[4m4\u001b[24m614        161\n",
      "\u001b[90m3\u001b[39m chr1       \u001b[4m1\u001b[24m\u001b[4m6\u001b[24m025    \u001b[4m1\u001b[24m\u001b[4m6\u001b[24m338        224\n",
      "\u001b[90m4\u001b[39m chr1       \u001b[4m1\u001b[24m\u001b[4m7\u001b[24m288    \u001b[4m1\u001b[24m\u001b[4m7\u001b[24m689        352\n",
      "\u001b[90m5\u001b[39m chr1       \u001b[4m2\u001b[24m\u001b[4m8\u001b[24m934    \u001b[4m2\u001b[24m\u001b[4m9\u001b[24m499        340\n",
      "\u001b[90m6\u001b[39m chr1      \u001b[4m1\u001b[24m\u001b[4m1\u001b[24m\u001b[4m5\u001b[24m429   \u001b[4m1\u001b[24m\u001b[4m1\u001b[24m\u001b[4m5\u001b[24m969       \u001b[4m1\u001b[24m186\n",
      "\u001b[90m# A tibble: 6 × 4\u001b[39m\n",
      "  Chrom ChromStart ChromEnd Input.rep3\n",
      "  \u001b[3m\u001b[90m<chr>\u001b[39m\u001b[23m      \u001b[3m\u001b[90m<dbl>\u001b[39m\u001b[23m    \u001b[3m\u001b[90m<dbl>\u001b[39m\u001b[23m      \u001b[3m\u001b[90m<dbl>\u001b[39m\u001b[23m\n",
      "\u001b[90m1\u001b[39m chr1       \u001b[4m1\u001b[24m\u001b[4m0\u001b[24m038    \u001b[4m1\u001b[24m\u001b[4m0\u001b[24m405        260\n",
      "\u001b[90m2\u001b[39m chr1       \u001b[4m1\u001b[24m\u001b[4m4\u001b[24m282    \u001b[4m1\u001b[24m\u001b[4m4\u001b[24m614        173\n",
      "\u001b[90m3\u001b[39m chr1       \u001b[4m1\u001b[24m\u001b[4m6\u001b[24m025    \u001b[4m1\u001b[24m\u001b[4m6\u001b[24m338        207\n",
      "\u001b[90m4\u001b[39m chr1       \u001b[4m1\u001b[24m\u001b[4m7\u001b[24m288    \u001b[4m1\u001b[24m\u001b[4m7\u001b[24m689        401\n",
      "\u001b[90m5\u001b[39m chr1       \u001b[4m2\u001b[24m\u001b[4m8\u001b[24m934    \u001b[4m2\u001b[24m\u001b[4m9\u001b[24m499        368\n",
      "\u001b[90m6\u001b[39m chr1      \u001b[4m1\u001b[24m\u001b[4m1\u001b[24m\u001b[4m5\u001b[24m429   \u001b[4m1\u001b[24m\u001b[4m1\u001b[24m\u001b[4m5\u001b[24m969       \u001b[4m1\u001b[24m290\n",
      "\u001b[90m# A tibble: 6 × 4\u001b[39m\n",
      "  Chrom ChromStart ChromEnd Input.rep4\n",
      "  \u001b[3m\u001b[90m<chr>\u001b[39m\u001b[23m      \u001b[3m\u001b[90m<dbl>\u001b[39m\u001b[23m    \u001b[3m\u001b[90m<dbl>\u001b[39m\u001b[23m      \u001b[3m\u001b[90m<dbl>\u001b[39m\u001b[23m\n",
      "\u001b[90m1\u001b[39m chr1       \u001b[4m1\u001b[24m\u001b[4m0\u001b[24m038    \u001b[4m1\u001b[24m\u001b[4m0\u001b[24m405        239\n",
      "\u001b[90m2\u001b[39m chr1       \u001b[4m1\u001b[24m\u001b[4m4\u001b[24m282    \u001b[4m1\u001b[24m\u001b[4m4\u001b[24m614        152\n",
      "\u001b[90m3\u001b[39m chr1       \u001b[4m1\u001b[24m\u001b[4m6\u001b[24m025    \u001b[4m1\u001b[24m\u001b[4m6\u001b[24m338        207\n",
      "\u001b[90m4\u001b[39m chr1       \u001b[4m1\u001b[24m\u001b[4m7\u001b[24m288    \u001b[4m1\u001b[24m\u001b[4m7\u001b[24m689        368\n",
      "\u001b[90m5\u001b[39m chr1       \u001b[4m2\u001b[24m\u001b[4m8\u001b[24m934    \u001b[4m2\u001b[24m\u001b[4m9\u001b[24m499        336\n",
      "\u001b[90m6\u001b[39m chr1      \u001b[4m1\u001b[24m\u001b[4m1\u001b[24m\u001b[4m5\u001b[24m429   \u001b[4m1\u001b[24m\u001b[4m1\u001b[24m\u001b[4m5\u001b[24m969       \u001b[4m1\u001b[24m164\n",
      "\u001b[90m# A tibble: 6 × 4\u001b[39m\n",
      "  Chrom ChromStart ChromEnd Input.rep5\n",
      "  \u001b[3m\u001b[90m<chr>\u001b[39m\u001b[23m      \u001b[3m\u001b[90m<dbl>\u001b[39m\u001b[23m    \u001b[3m\u001b[90m<dbl>\u001b[39m\u001b[23m      \u001b[3m\u001b[90m<dbl>\u001b[39m\u001b[23m\n",
      "\u001b[90m1\u001b[39m chr1       \u001b[4m1\u001b[24m\u001b[4m0\u001b[24m038    \u001b[4m1\u001b[24m\u001b[4m0\u001b[24m405        186\n",
      "\u001b[90m2\u001b[39m chr1       \u001b[4m1\u001b[24m\u001b[4m4\u001b[24m282    \u001b[4m1\u001b[24m\u001b[4m4\u001b[24m614        147\n",
      "\u001b[90m3\u001b[39m chr1       \u001b[4m1\u001b[24m\u001b[4m6\u001b[24m025    \u001b[4m1\u001b[24m\u001b[4m6\u001b[24m338        206\n",
      "\u001b[90m4\u001b[39m chr1       \u001b[4m1\u001b[24m\u001b[4m7\u001b[24m288    \u001b[4m1\u001b[24m\u001b[4m7\u001b[24m689        372\n",
      "\u001b[90m5\u001b[39m chr1       \u001b[4m2\u001b[24m\u001b[4m8\u001b[24m934    \u001b[4m2\u001b[24m\u001b[4m9\u001b[24m499        352\n",
      "\u001b[90m6\u001b[39m chr1      \u001b[4m1\u001b[24m\u001b[4m1\u001b[24m\u001b[4m5\u001b[24m429   \u001b[4m1\u001b[24m\u001b[4m1\u001b[24m\u001b[4m5\u001b[24m969       \u001b[4m1\u001b[24m188\n",
      "\u001b[90m# A tibble: 6 × 4\u001b[39m\n",
      "  Chrom ChromStart ChromEnd Input.rep6\n",
      "  \u001b[3m\u001b[90m<chr>\u001b[39m\u001b[23m      \u001b[3m\u001b[90m<dbl>\u001b[39m\u001b[23m    \u001b[3m\u001b[90m<dbl>\u001b[39m\u001b[23m      \u001b[3m\u001b[90m<dbl>\u001b[39m\u001b[23m\n",
      "\u001b[90m1\u001b[39m chr1       \u001b[4m1\u001b[24m\u001b[4m0\u001b[24m038    \u001b[4m1\u001b[24m\u001b[4m0\u001b[24m405        214\n",
      "\u001b[90m2\u001b[39m chr1       \u001b[4m1\u001b[24m\u001b[4m4\u001b[24m282    \u001b[4m1\u001b[24m\u001b[4m4\u001b[24m614        147\n",
      "\u001b[90m3\u001b[39m chr1       \u001b[4m1\u001b[24m\u001b[4m6\u001b[24m025    \u001b[4m1\u001b[24m\u001b[4m6\u001b[24m338        187\n",
      "\u001b[90m4\u001b[39m chr1       \u001b[4m1\u001b[24m\u001b[4m7\u001b[24m288    \u001b[4m1\u001b[24m\u001b[4m7\u001b[24m689        334\n",
      "\u001b[90m5\u001b[39m chr1       \u001b[4m2\u001b[24m\u001b[4m8\u001b[24m934    \u001b[4m2\u001b[24m\u001b[4m9\u001b[24m499        319\n",
      "\u001b[90m6\u001b[39m chr1      \u001b[4m1\u001b[24m\u001b[4m1\u001b[24m\u001b[4m5\u001b[24m429   \u001b[4m1\u001b[24m\u001b[4m1\u001b[24m\u001b[4m5\u001b[24m969       \u001b[4m1\u001b[24m062\n",
      "\u001b[90m# A tibble: 6 × 4\u001b[39m\n",
      "  Chrom ChromStart ChromEnd Output.rep1\n",
      "  \u001b[3m\u001b[90m<chr>\u001b[39m\u001b[23m      \u001b[3m\u001b[90m<dbl>\u001b[39m\u001b[23m    \u001b[3m\u001b[90m<dbl>\u001b[39m\u001b[23m       \u001b[3m\u001b[90m<dbl>\u001b[39m\u001b[23m\n",
      "\u001b[90m1\u001b[39m chr1       \u001b[4m1\u001b[24m\u001b[4m0\u001b[24m038    \u001b[4m1\u001b[24m\u001b[4m0\u001b[24m405           6\n",
      "\u001b[90m2\u001b[39m chr1       \u001b[4m1\u001b[24m\u001b[4m4\u001b[24m282    \u001b[4m1\u001b[24m\u001b[4m4\u001b[24m614           8\n",
      "\u001b[90m3\u001b[39m chr1       \u001b[4m1\u001b[24m\u001b[4m6\u001b[24m025    \u001b[4m1\u001b[24m\u001b[4m6\u001b[24m338           8\n",
      "\u001b[90m4\u001b[39m chr1       \u001b[4m1\u001b[24m\u001b[4m7\u001b[24m288    \u001b[4m1\u001b[24m\u001b[4m7\u001b[24m689           7\n",
      "\u001b[90m5\u001b[39m chr1       \u001b[4m2\u001b[24m\u001b[4m8\u001b[24m934    \u001b[4m2\u001b[24m\u001b[4m9\u001b[24m499          12\n",
      "\u001b[90m6\u001b[39m chr1      \u001b[4m1\u001b[24m\u001b[4m1\u001b[24m\u001b[4m5\u001b[24m429   \u001b[4m1\u001b[24m\u001b[4m1\u001b[24m\u001b[4m5\u001b[24m969         196\n",
      "\u001b[90m# A tibble: 6 × 4\u001b[39m\n",
      "  Chrom ChromStart ChromEnd Output.rep2\n",
      "  \u001b[3m\u001b[90m<chr>\u001b[39m\u001b[23m      \u001b[3m\u001b[90m<dbl>\u001b[39m\u001b[23m    \u001b[3m\u001b[90m<dbl>\u001b[39m\u001b[23m       \u001b[3m\u001b[90m<dbl>\u001b[39m\u001b[23m\n",
      "\u001b[90m1\u001b[39m chr1       \u001b[4m1\u001b[24m\u001b[4m0\u001b[24m038    \u001b[4m1\u001b[24m\u001b[4m0\u001b[24m405           8\n",
      "\u001b[90m2\u001b[39m chr1       \u001b[4m1\u001b[24m\u001b[4m4\u001b[24m282    \u001b[4m1\u001b[24m\u001b[4m4\u001b[24m614          23\n",
      "\u001b[90m3\u001b[39m chr1       \u001b[4m1\u001b[24m\u001b[4m6\u001b[24m025    \u001b[4m1\u001b[24m\u001b[4m6\u001b[24m338           9\n",
      "\u001b[90m4\u001b[39m chr1       \u001b[4m1\u001b[24m\u001b[4m7\u001b[24m288    \u001b[4m1\u001b[24m\u001b[4m7\u001b[24m689          10\n",
      "\u001b[90m5\u001b[39m chr1       \u001b[4m2\u001b[24m\u001b[4m8\u001b[24m934    \u001b[4m2\u001b[24m\u001b[4m9\u001b[24m499          16\n",
      "\u001b[90m6\u001b[39m chr1      \u001b[4m1\u001b[24m\u001b[4m1\u001b[24m\u001b[4m5\u001b[24m429   \u001b[4m1\u001b[24m\u001b[4m1\u001b[24m\u001b[4m5\u001b[24m969         374\n",
      "\u001b[90m# A tibble: 6 × 4\u001b[39m\n",
      "  Chrom ChromStart ChromEnd Output.rep3\n",
      "  \u001b[3m\u001b[90m<chr>\u001b[39m\u001b[23m      \u001b[3m\u001b[90m<dbl>\u001b[39m\u001b[23m    \u001b[3m\u001b[90m<dbl>\u001b[39m\u001b[23m       \u001b[3m\u001b[90m<dbl>\u001b[39m\u001b[23m\n",
      "\u001b[90m1\u001b[39m chr1       \u001b[4m1\u001b[24m\u001b[4m0\u001b[24m038    \u001b[4m1\u001b[24m\u001b[4m0\u001b[24m405           3\n",
      "\u001b[90m2\u001b[39m chr1       \u001b[4m1\u001b[24m\u001b[4m4\u001b[24m282    \u001b[4m1\u001b[24m\u001b[4m4\u001b[24m614          29\n",
      "\u001b[90m3\u001b[39m chr1       \u001b[4m1\u001b[24m\u001b[4m6\u001b[24m025    \u001b[4m1\u001b[24m\u001b[4m6\u001b[24m338          19\n",
      "\u001b[90m4\u001b[39m chr1       \u001b[4m1\u001b[24m\u001b[4m7\u001b[24m288    \u001b[4m1\u001b[24m\u001b[4m7\u001b[24m689          20\n",
      "\u001b[90m5\u001b[39m chr1       \u001b[4m2\u001b[24m\u001b[4m8\u001b[24m934    \u001b[4m2\u001b[24m\u001b[4m9\u001b[24m499           3\n",
      "\u001b[90m6\u001b[39m chr1      \u001b[4m1\u001b[24m\u001b[4m1\u001b[24m\u001b[4m5\u001b[24m429   \u001b[4m1\u001b[24m\u001b[4m1\u001b[24m\u001b[4m5\u001b[24m969         373\n",
      "\u001b[90m# A tibble: 6 × 4\u001b[39m\n",
      "  Chrom ChromStart ChromEnd Output.rep4\n",
      "  \u001b[3m\u001b[90m<chr>\u001b[39m\u001b[23m      \u001b[3m\u001b[90m<dbl>\u001b[39m\u001b[23m    \u001b[3m\u001b[90m<dbl>\u001b[39m\u001b[23m       \u001b[3m\u001b[90m<dbl>\u001b[39m\u001b[23m\n",
      "\u001b[90m1\u001b[39m chr1       \u001b[4m1\u001b[24m\u001b[4m0\u001b[24m038    \u001b[4m1\u001b[24m\u001b[4m0\u001b[24m405           9\n",
      "\u001b[90m2\u001b[39m chr1       \u001b[4m1\u001b[24m\u001b[4m4\u001b[24m282    \u001b[4m1\u001b[24m\u001b[4m4\u001b[24m614          55\n",
      "\u001b[90m3\u001b[39m chr1       \u001b[4m1\u001b[24m\u001b[4m6\u001b[24m025    \u001b[4m1\u001b[24m\u001b[4m6\u001b[24m338          19\n",
      "\u001b[90m4\u001b[39m chr1       \u001b[4m1\u001b[24m\u001b[4m7\u001b[24m288    \u001b[4m1\u001b[24m\u001b[4m7\u001b[24m689          51\n",
      "\u001b[90m5\u001b[39m chr1       \u001b[4m2\u001b[24m\u001b[4m8\u001b[24m934    \u001b[4m2\u001b[24m\u001b[4m9\u001b[24m499          30\n",
      "\u001b[90m6\u001b[39m chr1      \u001b[4m1\u001b[24m\u001b[4m1\u001b[24m\u001b[4m5\u001b[24m429   \u001b[4m1\u001b[24m\u001b[4m1\u001b[24m\u001b[4m5\u001b[24m969         529\n"
     ]
    }
   ],
   "source": [
    "txt_assay = \"STARR_ATAC_K562_Reddy_KS91\"\n",
    "txt_fdiry = file.path(\n",
    "    FD_RES, \n",
    "    \"assay_fcc\", \n",
    "    txt_assay, \n",
    "    \"coverage\", \n",
    "    \"fcc_astarr_macs\", \n",
    "    \"astarr_macs_input_overlap\",\n",
    "    \"overlap_fragment\",\n",
    "    \"overlap_fragment_one2one\",\n",
    "    \"summary\"\n",
    ")\n",
    "\n",
    "vec_txt_fname = dir(txt_fdiry)\n",
    "\n",
    "\n",
    "lst = lapply(vec_txt_fname, function(txt_fname){\n",
    "    txt_fpath = file.path(txt_fdiry, txt_fname)\n",
    "    \n",
    "    tmp = str_split(string = txt_fname, pattern = \"\\\\.\", n=3)\n",
    "    idx = tmp[[1]][3]\n",
    "    txt = vec_txt_sample[idx]\n",
    "    \n",
    "    dat = read_tsv(txt_fpath, col_names = FALSE, show_col_types = FALSE)\n",
    "    colnames(dat) = c(\"Chrom\", \"ChromStart\", \"ChromEnd\", txt)\n",
    "    print(head(dat))\n",
    "    return(dat)\n",
    "})"
   ]
  },
  {
   "cell_type": "code",
   "execution_count": 7,
   "id": "98c42eab-4d23-4b0c-94c7-1ba0135400e4",
   "metadata": {},
   "outputs": [
    {
     "name": "stdout",
     "output_type": "stream",
     "text": [
      "[1] 10121     4\n",
      "[1] 8191    4\n"
     ]
    },
    {
     "data": {
      "text/html": [
       "<table class=\"dataframe\">\n",
       "<caption>A tibble: 6 × 4</caption>\n",
       "<thead>\n",
       "\t<tr><th scope=col>Chrom</th><th scope=col>ChromStart</th><th scope=col>ChromEnd</th><th scope=col>Input.rep1</th></tr>\n",
       "\t<tr><th scope=col>&lt;chr&gt;</th><th scope=col>&lt;dbl&gt;</th><th scope=col>&lt;dbl&gt;</th><th scope=col>&lt;dbl&gt;</th></tr>\n",
       "</thead>\n",
       "<tbody>\n",
       "\t<tr><td>chr1</td><td> 10038</td><td> 10405</td><td>155</td></tr>\n",
       "\t<tr><td>chr1</td><td> 14282</td><td> 14614</td><td>123</td></tr>\n",
       "\t<tr><td>chr1</td><td> 16025</td><td> 16338</td><td>145</td></tr>\n",
       "\t<tr><td>chr1</td><td> 17288</td><td> 17689</td><td>261</td></tr>\n",
       "\t<tr><td>chr1</td><td> 28934</td><td> 29499</td><td>264</td></tr>\n",
       "\t<tr><td>chr1</td><td>115429</td><td>115969</td><td>955</td></tr>\n",
       "</tbody>\n",
       "</table>\n"
      ],
      "text/latex": [
       "A tibble: 6 × 4\n",
       "\\begin{tabular}{llll}\n",
       " Chrom & ChromStart & ChromEnd & Input.rep1\\\\\n",
       " <chr> & <dbl> & <dbl> & <dbl>\\\\\n",
       "\\hline\n",
       "\t chr1 &  10038 &  10405 & 155\\\\\n",
       "\t chr1 &  14282 &  14614 & 123\\\\\n",
       "\t chr1 &  16025 &  16338 & 145\\\\\n",
       "\t chr1 &  17288 &  17689 & 261\\\\\n",
       "\t chr1 &  28934 &  29499 & 264\\\\\n",
       "\t chr1 & 115429 & 115969 & 955\\\\\n",
       "\\end{tabular}\n"
      ],
      "text/markdown": [
       "\n",
       "A tibble: 6 × 4\n",
       "\n",
       "| Chrom &lt;chr&gt; | ChromStart &lt;dbl&gt; | ChromEnd &lt;dbl&gt; | Input.rep1 &lt;dbl&gt; |\n",
       "|---|---|---|---|\n",
       "| chr1 |  10038 |  10405 | 155 |\n",
       "| chr1 |  14282 |  14614 | 123 |\n",
       "| chr1 |  16025 |  16338 | 145 |\n",
       "| chr1 |  17288 |  17689 | 261 |\n",
       "| chr1 |  28934 |  29499 | 264 |\n",
       "| chr1 | 115429 | 115969 | 955 |\n",
       "\n"
      ],
      "text/plain": [
       "  Chrom ChromStart ChromEnd Input.rep1\n",
       "1 chr1   10038      10405   155       \n",
       "2 chr1   14282      14614   123       \n",
       "3 chr1   16025      16338   145       \n",
       "4 chr1   17288      17689   261       \n",
       "5 chr1   28934      29499   264       \n",
       "6 chr1  115429     115969   955       "
      ]
     },
     "metadata": {},
     "output_type": "display_data"
    }
   ],
   "source": [
    "tmp = lst[[1]]\n",
    "print(dim(tmp))\n",
    "tmp = tmp %>% dplyr::distinct()\n",
    "print(dim(tmp))\n",
    "head(tmp)"
   ]
  },
  {
   "cell_type": "code",
   "execution_count": 8,
   "id": "3e7fa638-b93f-41c3-90d6-36c9476d1258",
   "metadata": {},
   "outputs": [
    {
     "data": {
      "text/html": [
       "<table class=\"dataframe\">\n",
       "<caption>A tibble: 6 × 8</caption>\n",
       "<thead>\n",
       "\t<tr><th scope=col>Chrom</th><th scope=col>ChromStart</th><th scope=col>ChromEnd</th><th scope=col>Region</th><th scope=col>Input_FPKM</th><th scope=col>Input_TPM</th><th scope=col>Output_FPKM</th><th scope=col>Output_TPM</th></tr>\n",
       "\t<tr><th scope=col>&lt;chr&gt;</th><th scope=col>&lt;dbl&gt;</th><th scope=col>&lt;dbl&gt;</th><th scope=col>&lt;chr&gt;</th><th scope=col>&lt;dbl&gt;</th><th scope=col>&lt;dbl&gt;</th><th scope=col>&lt;dbl&gt;</th><th scope=col>&lt;dbl&gt;</th></tr>\n",
       "</thead>\n",
       "<tbody>\n",
       "\t<tr><td>chr1</td><td> 10038</td><td> 10405</td><td>chr1:10038-10405  </td><td>0.004164383</td><td> 3.940038</td><td>0.0006671239</td><td> 0.6488611</td></tr>\n",
       "\t<tr><td>chr1</td><td> 14282</td><td> 14614</td><td>chr1:14282-14614  </td><td>0.003003325</td><td> 2.841707</td><td>0.0020670469</td><td> 2.0120603</td></tr>\n",
       "\t<tr><td>chr1</td><td> 16025</td><td> 16338</td><td>chr1:16025-16338  </td><td>0.004048701</td><td> 3.830812</td><td>0.0012104446</td><td> 1.1818766</td></tr>\n",
       "\t<tr><td>chr1</td><td> 17288</td><td> 17689</td><td>chr1:17288-17689  </td><td>0.006551198</td><td> 6.198372</td><td>0.0015784974</td><td> 1.5431749</td></tr>\n",
       "\t<tr><td>chr1</td><td> 28934</td><td> 29499</td><td>chr1:28934-29499  </td><td>0.004295316</td><td> 4.064322</td><td>0.0005928433</td><td> 0.5801715</td></tr>\n",
       "\t<tr><td>chr1</td><td>115429</td><td>115969</td><td>chr1:115429-115969</td><td>0.015954822</td><td>15.096518</td><td>0.0260260669</td><td>25.3605429</td></tr>\n",
       "</tbody>\n",
       "</table>\n"
      ],
      "text/latex": [
       "A tibble: 6 × 8\n",
       "\\begin{tabular}{llllllll}\n",
       " Chrom & ChromStart & ChromEnd & Region & Input\\_FPKM & Input\\_TPM & Output\\_FPKM & Output\\_TPM\\\\\n",
       " <chr> & <dbl> & <dbl> & <chr> & <dbl> & <dbl> & <dbl> & <dbl>\\\\\n",
       "\\hline\n",
       "\t chr1 &  10038 &  10405 & chr1:10038-10405   & 0.004164383 &  3.940038 & 0.0006671239 &  0.6488611\\\\\n",
       "\t chr1 &  14282 &  14614 & chr1:14282-14614   & 0.003003325 &  2.841707 & 0.0020670469 &  2.0120603\\\\\n",
       "\t chr1 &  16025 &  16338 & chr1:16025-16338   & 0.004048701 &  3.830812 & 0.0012104446 &  1.1818766\\\\\n",
       "\t chr1 &  17288 &  17689 & chr1:17288-17689   & 0.006551198 &  6.198372 & 0.0015784974 &  1.5431749\\\\\n",
       "\t chr1 &  28934 &  29499 & chr1:28934-29499   & 0.004295316 &  4.064322 & 0.0005928433 &  0.5801715\\\\\n",
       "\t chr1 & 115429 & 115969 & chr1:115429-115969 & 0.015954822 & 15.096518 & 0.0260260669 & 25.3605429\\\\\n",
       "\\end{tabular}\n"
      ],
      "text/markdown": [
       "\n",
       "A tibble: 6 × 8\n",
       "\n",
       "| Chrom &lt;chr&gt; | ChromStart &lt;dbl&gt; | ChromEnd &lt;dbl&gt; | Region &lt;chr&gt; | Input_FPKM &lt;dbl&gt; | Input_TPM &lt;dbl&gt; | Output_FPKM &lt;dbl&gt; | Output_TPM &lt;dbl&gt; |\n",
       "|---|---|---|---|---|---|---|---|\n",
       "| chr1 |  10038 |  10405 | chr1:10038-10405   | 0.004164383 |  3.940038 | 0.0006671239 |  0.6488611 |\n",
       "| chr1 |  14282 |  14614 | chr1:14282-14614   | 0.003003325 |  2.841707 | 0.0020670469 |  2.0120603 |\n",
       "| chr1 |  16025 |  16338 | chr1:16025-16338   | 0.004048701 |  3.830812 | 0.0012104446 |  1.1818766 |\n",
       "| chr1 |  17288 |  17689 | chr1:17288-17689   | 0.006551198 |  6.198372 | 0.0015784974 |  1.5431749 |\n",
       "| chr1 |  28934 |  29499 | chr1:28934-29499   | 0.004295316 |  4.064322 | 0.0005928433 |  0.5801715 |\n",
       "| chr1 | 115429 | 115969 | chr1:115429-115969 | 0.015954822 | 15.096518 | 0.0260260669 | 25.3605429 |\n",
       "\n"
      ],
      "text/plain": [
       "  Chrom ChromStart ChromEnd Region             Input_FPKM  Input_TPM\n",
       "1 chr1   10038      10405   chr1:10038-10405   0.004164383  3.940038\n",
       "2 chr1   14282      14614   chr1:14282-14614   0.003003325  2.841707\n",
       "3 chr1   16025      16338   chr1:16025-16338   0.004048701  3.830812\n",
       "4 chr1   17288      17689   chr1:17288-17689   0.006551198  6.198372\n",
       "5 chr1   28934      29499   chr1:28934-29499   0.004295316  4.064322\n",
       "6 chr1  115429     115969   chr1:115429-115969 0.015954822 15.096518\n",
       "  Output_FPKM  Output_TPM\n",
       "1 0.0006671239  0.6488611\n",
       "2 0.0020670469  2.0120603\n",
       "3 0.0012104446  1.1818766\n",
       "4 0.0015784974  1.5431749\n",
       "5 0.0005928433  0.5801715\n",
       "6 0.0260260669 25.3605429"
      ]
     },
     "metadata": {},
     "output_type": "display_data"
    }
   ],
   "source": [
    "dat = dat_score_mean\n",
    "head(dat)"
   ]
  },
  {
   "cell_type": "code",
   "execution_count": 16,
   "id": "e603a0d7-c1f9-4d69-a995-aedcd5351056",
   "metadata": {},
   "outputs": [
    {
     "name": "stderr",
     "output_type": "stream",
     "text": [
      "Warning message in dplyr::left_join(dat, dplyr::distinct(tmp), by = c(\"Chrom\", \"ChromStart\", :\n",
      "“\u001b[1m\u001b[22mDetected an unexpected many-to-many relationship between `x` and\n",
      "`y`.\n",
      "\u001b[36mℹ\u001b[39m Row 7 of `x` matches multiple rows in `y`.\n",
      "\u001b[36mℹ\u001b[39m Row 7 of `y` matches multiple rows in `x`.\n",
      "\u001b[36mℹ\u001b[39m If a many-to-many relationship is expected, set `relationship =\n",
      "  \"many-to-many\"` to silence this warning.”\n",
      "Warning message in dplyr::left_join(dat, dplyr::distinct(tmp), by = c(\"Chrom\", \"ChromStart\", :\n",
      "“\u001b[1m\u001b[22mDetected an unexpected many-to-many relationship between `x` and\n",
      "`y`.\n",
      "\u001b[36mℹ\u001b[39m Row 11 of `x` matches multiple rows in `y`.\n",
      "\u001b[36mℹ\u001b[39m Row 7 of `y` matches multiple rows in `x`.\n",
      "\u001b[36mℹ\u001b[39m If a many-to-many relationship is expected, set `relationship =\n",
      "  \"many-to-many\"` to silence this warning.”\n",
      "Warning message in dplyr::left_join(dat, dplyr::distinct(tmp), by = c(\"Chrom\", \"ChromStart\", :\n",
      "“\u001b[1m\u001b[22mDetected an unexpected many-to-many relationship between `x` and\n",
      "`y`.\n",
      "\u001b[36mℹ\u001b[39m Row 7 of `x` matches multiple rows in `y`.\n",
      "\u001b[36mℹ\u001b[39m Row 7 of `y` matches multiple rows in `x`.\n",
      "\u001b[36mℹ\u001b[39m If a many-to-many relationship is expected, set `relationship =\n",
      "  \"many-to-many\"` to silence this warning.”\n",
      "Warning message in dplyr::left_join(dat, dplyr::distinct(tmp), by = c(\"Chrom\", \"ChromStart\", :\n",
      "“\u001b[1m\u001b[22mDetected an unexpected many-to-many relationship between `x` and\n",
      "`y`.\n",
      "\u001b[36mℹ\u001b[39m Row 15 of `x` matches multiple rows in `y`.\n",
      "\u001b[36mℹ\u001b[39m Row 7 of `y` matches multiple rows in `x`.\n",
      "\u001b[36mℹ\u001b[39m If a many-to-many relationship is expected, set `relationship =\n",
      "  \"many-to-many\"` to silence this warning.”\n"
     ]
    }
   ],
   "source": [
    "dat = dat_score_mean\n",
    "for (tmp in lst){\n",
    "    dat = dplyr::left_join(\n",
    "        dat,\n",
    "        dplyr::distinct(tmp),\n",
    "        by=c(\"Chrom\", \"ChromStart\", \"ChromEnd\"))\n",
    "}"
   ]
  },
  {
   "cell_type": "code",
   "execution_count": null,
   "id": "82487dff-6cc3-462f-8fbc-dfcf412ef5ab",
   "metadata": {},
   "outputs": [],
   "source": [
    "fun = function(dat1, dat2){\n",
    "    dplyr::full_join(dat1, dat2, by=c(\"Chrom\", \"ChromStart\", \"ChromEnd\"))\n",
    "}\n",
    "dat = Reduce(fun, lst)\n",
    "head(dat)"
   ]
  }
 ],
 "metadata": {
  "kernelspec": {
   "display_name": "R",
   "language": "R",
   "name": "ir"
  },
  "language_info": {
   "codemirror_mode": "r",
   "file_extension": ".r",
   "mimetype": "text/x-r-source",
   "name": "R",
   "pygments_lexer": "r",
   "version": "4.3.3"
  }
 },
 "nbformat": 4,
 "nbformat_minor": 5
}
