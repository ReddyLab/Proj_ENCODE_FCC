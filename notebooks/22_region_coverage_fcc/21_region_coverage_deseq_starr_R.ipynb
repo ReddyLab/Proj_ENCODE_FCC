{
 "cells": [
  {
   "cell_type": "raw",
   "id": "e5b161ff-47cf-463a-811c-690fdabe052f",
   "metadata": {},
   "source": [
    "---\n",
    "title: Region Coverage 21\n",
    "subtitle: Apply DESeq2 to process count matrix (STARR)\n",
    "format:\n",
    "    html:\n",
    "        code-fold:  true\n",
    "        code-tools: true\n",
    "---"
   ]
  },
  {
   "cell_type": "markdown",
   "id": "6c8d04b8-590f-4251-b28d-d2a0f54e9181",
   "metadata": {},
   "source": [
    "**Set environment**"
   ]
  },
  {
   "cell_type": "code",
   "execution_count": 1,
   "id": "dba8e58f-03cc-43ff-84f0-cc33ef694eaf",
   "metadata": {},
   "outputs": [
    {
     "name": "stdout",
     "output_type": "stream",
     "text": [
      "You are working on        Singularity \n",
      "BASE DIRECTORY (FD_BASE): /mount \n",
      "REPO DIRECTORY (FD_REPO): /mount/repo \n",
      "WORK DIRECTORY (FD_WORK): /mount/work \n",
      "DATA DIRECTORY (FD_DATA): /mount/data \n",
      "\n",
      "You are working with      ENCODE FCC \n",
      "PATH OF PROJECT (FD_PRJ): /mount/repo/Proj_ENCODE_FCC \n",
      "PROJECT RESULTS (FD_RES): /mount/repo/Proj_ENCODE_FCC/results \n",
      "PROJECT SCRIPTS (FD_EXE): /mount/repo/Proj_ENCODE_FCC/scripts \n",
      "PROJECT DATA    (FD_DAT): /mount/repo/Proj_ENCODE_FCC/data \n",
      "PROJECT NOTE    (FD_NBK): /mount/repo/Proj_ENCODE_FCC/notebooks \n",
      "PROJECT DOCS    (FD_DOC): /mount/repo/Proj_ENCODE_FCC/docs \n",
      "PROJECT LOG     (FD_LOG): /mount/repo/Proj_ENCODE_FCC/log \n",
      "PROJECT APP     (FD_APP): /mount/repo/Proj_ENCODE_FCC/app \n",
      "PROJECT REF     (FD_REF): /mount/repo/Proj_ENCODE_FCC/references \n",
      "\n"
     ]
    }
   ],
   "source": [
    "suppressMessages(suppressWarnings(source(\"../run_config_project_sing.R\")))\n",
    "suppressMessages(suppressWarnings(library(\"DESeq2\")))\n",
    "suppressMessages(suppressWarnings(library(\"edgeR\")))\n",
    "show_env()"
   ]
  },
  {
   "cell_type": "markdown",
   "id": "e923759c-51e0-4cbf-8f29-ada5545044ac",
   "metadata": {},
   "source": [
    "## Loop through regions and assays to create count matrix"
   ]
  },
  {
   "cell_type": "markdown",
   "id": "76c56260-cf4b-43cb-840e-af9a22f6bbf7",
   "metadata": {},
   "source": [
    "**Test loop**"
   ]
  },
  {
   "cell_type": "code",
   "execution_count": 2,
   "id": "5c8d6a6d-88f9-4674-b40b-cd97e144b1d7",
   "metadata": {},
   "outputs": [
    {
     "name": "stdout",
     "output_type": "stream",
     "text": [
      "[1] \"/mount/repo/Proj_ENCODE_FCC/results/region_coverage_fcc/fcc_astarr_macs_input_overlap/STARR_ATAC_K562_Reddy_KS274/overlap_count/summary/data.count_column.raw.WGS.rds\"  \n",
      "[2] \"/mount/repo/Proj_ENCODE_FCC/results/region_coverage_fcc/fcc_astarr_macs_input_overlap/STARR_ATAC_K562_Reddy_KS91/overlap_count/summary/data.count_column.raw.WGS.rds\"   \n",
      "[3] \"/mount/repo/Proj_ENCODE_FCC/results/region_coverage_fcc/fcc_astarr_macs_input_overlap/STARR_ATAC_K562_Reddy_KSMerge/overlap_count/summary/data.count_column.raw.WGS.rds\"\n",
      "[4] \"/mount/repo/Proj_ENCODE_FCC/results/region_coverage_fcc/fcc_astarr_macs_input_overlap/STARR_WHG_K562_Reddy_A001/overlap_count/summary/data.count_column.raw.WGS.rds\"    \n"
     ]
    }
   ],
   "source": [
    "txt_region = \"fcc_astarr_macs_input_overlap\"\n",
    "txt_fdiry = file.path(\n",
    "    FD_RES, \"region_coverage_fcc\",\n",
    "    txt_region,\n",
    "    \"*\",\n",
    "    \"overlap_count\",\n",
    "    \"summary\"\n",
    ")\n",
    "txt_fname = \"data.count_column.raw.WGS.rds\"\n",
    "txt_fglob = file.path(txt_fdiry, txt_fname)\n",
    "\n",
    "vec_txt_fpath = Sys.glob(txt_fglob)\n",
    "print(vec_txt_fpath)"
   ]
  },
  {
   "cell_type": "markdown",
   "id": "32a5b8b3-7ada-4be9-b85a-9801ade33e20",
   "metadata": {},
   "source": [
    "**Generate effect size**"
   ]
  },
  {
   "cell_type": "code",
   "execution_count": 3,
   "id": "e0d0878c-368c-4026-b575-85088c3fadaf",
   "metadata": {},
   "outputs": [
    {
     "name": "stdout",
     "output_type": "stream",
     "text": [
      "[1] \"atac_ENCFF333TAT\"              \"atac_ENCFF558BLC\"             \n",
      "[3] \"atac_ENCFF925CYR\"              \"atac_ENCFF948AFM\"             \n",
      "[5] \"dnase_ENCFF185XRG\"             \"dnase_ENCFF274YGF\"            \n",
      "[7] \"fcc_astarr_macs_input_overlap\" \"fcc_astarr_macs_input_union\"  \n",
      "\n",
      "\n",
      "====================\n",
      "Region: fcc_astarr_macs_input_overlap \n",
      "Assay:  STARR_ATAC_K562_Reddy_KS274 \n",
      "FPath:  /mount/repo/Proj_ENCODE_FCC/results/region_coverage_fcc/fcc_astarr_macs_input_overlap/STARR_ATAC_K562_Reddy_KS274/overlap_count/summary/data.count_column.raw.WGS.rds \n",
      "FName:  data.count_column.raw.WGS.rds \n",
      "Import Counts:\n",
      "#Rows (Before filter): 150042 \n",
      "#Rows (After  filter): 150041 \n",
      "\n",
      "Apply DESeq2: ~Group \n"
     ]
    },
    {
     "name": "stderr",
     "output_type": "stream",
     "text": [
      "estimating size factors\n",
      "\n",
      "estimating dispersions\n",
      "\n",
      "gene-wise dispersion estimates\n",
      "\n",
      "mean-dispersion relationship\n",
      "\n",
      "final dispersion estimates\n",
      "\n",
      "fitting model and testing\n",
      "\n"
     ]
    },
    {
     "name": "stdout",
     "output_type": "stream",
     "text": [
      "\n",
      "====================\n",
      "Region: fcc_astarr_macs_input_overlap \n",
      "Assay:  STARR_ATAC_K562_Reddy_KS91 \n",
      "FPath:  /mount/repo/Proj_ENCODE_FCC/results/region_coverage_fcc/fcc_astarr_macs_input_overlap/STARR_ATAC_K562_Reddy_KS91/overlap_count/summary/data.count_column.raw.WGS.rds \n",
      "FName:  data.count_column.raw.WGS.rds \n",
      "Import Counts:\n",
      "#Rows (Before filter): 150041 \n",
      "#Rows (After  filter): 150040 \n",
      "\n",
      "Apply DESeq2: ~Group \n"
     ]
    },
    {
     "name": "stderr",
     "output_type": "stream",
     "text": [
      "estimating size factors\n",
      "\n",
      "estimating dispersions\n",
      "\n",
      "gene-wise dispersion estimates\n",
      "\n",
      "mean-dispersion relationship\n",
      "\n",
      "final dispersion estimates\n",
      "\n",
      "fitting model and testing\n",
      "\n"
     ]
    },
    {
     "name": "stdout",
     "output_type": "stream",
     "text": [
      "\n",
      "====================\n",
      "Region: fcc_astarr_macs_input_overlap \n",
      "Assay:  STARR_ATAC_K562_Reddy_KSMerge \n",
      "FPath:  /mount/repo/Proj_ENCODE_FCC/results/region_coverage_fcc/fcc_astarr_macs_input_overlap/STARR_ATAC_K562_Reddy_KSMerge/overlap_count/summary/data.count_column.raw.WGS.rds \n",
      "FName:  data.count_column.raw.WGS.rds \n",
      "Import Counts:\n",
      "#Rows (Before filter): 150042 \n",
      "#Rows (After  filter): 150040 \n",
      "\n",
      "Apply DESeq2: ~Group+Prefix \n"
     ]
    },
    {
     "name": "stderr",
     "output_type": "stream",
     "text": [
      "Warning message in DESeqDataSet(se, design = design, ignoreRank):\n",
      "“some variables in design formula are characters, converting to factors”\n",
      "estimating size factors\n",
      "\n",
      "estimating dispersions\n",
      "\n",
      "gene-wise dispersion estimates\n",
      "\n",
      "mean-dispersion relationship\n",
      "\n",
      "final dispersion estimates\n",
      "\n",
      "fitting model and testing\n",
      "\n"
     ]
    },
    {
     "name": "stdout",
     "output_type": "stream",
     "text": [
      "\n",
      "====================\n",
      "Region: fcc_astarr_macs_input_overlap \n",
      "Assay:  STARR_WHG_K562_Reddy_A001 \n",
      "FPath:  /mount/repo/Proj_ENCODE_FCC/results/region_coverage_fcc/fcc_astarr_macs_input_overlap/STARR_WHG_K562_Reddy_A001/overlap_count/summary/data.count_column.raw.WGS.rds \n",
      "FName:  data.count_column.raw.WGS.rds \n",
      "Import Counts:\n",
      "#Rows (Before filter): 150030 \n",
      "#Rows (After  filter): 146480 \n",
      "\n",
      "Apply DESeq2: ~Group \n"
     ]
    },
    {
     "name": "stderr",
     "output_type": "stream",
     "text": [
      "estimating size factors\n",
      "\n",
      "estimating dispersions\n",
      "\n",
      "gene-wise dispersion estimates\n",
      "\n",
      "mean-dispersion relationship\n",
      "\n",
      "final dispersion estimates\n",
      "\n",
      "fitting model and testing\n",
      "\n"
     ]
    }
   ],
   "source": [
    "### init: region folders\n",
    "txt_fdiry = file.path(FD_RES, \"region_coverage_fcc\")\n",
    "vec_txt_region = dir(txt_fdiry)\n",
    "print(vec_txt_region)\n",
    "cat(\"\\n\")\n",
    "\n",
    "vec_txt_region = c(\"astarr_macs_input_overlap\", \"astarr_macs_input_union\")\n",
    "\n",
    "### init: assay name\n",
    "vec_txt_assay = c(\n",
    "    \"STARR_ATAC_K562_Reddy_KS91\",\n",
    "    \"STARR_ATAC_K562_Reddy_KS274\",\n",
    "    \"STARR_ATAC_K562_Reddy_KSMerge\",\n",
    "    \"STARR_WHG_K562_Reddy_A001\"\n",
    ")\n",
    "\n",
    "fun_get_assay = function(txt){\n",
    "    res = fun_str_map_detect(txt, vec_txt_assay, vec_txt_assay)\n",
    "    return(res)\n",
    "}\n",
    "\n",
    "### loop\n",
    "for (txt_region in vec_txt_region) {\n",
    "    \n",
    "    ### init: get RDS files w/ count matrix and column information\n",
    "    txt_fdiry = file.path(FD_RES, \"region_coverage_fcc\", txt_region, \"STARR*\", \"overlap_count\", \"summary\")\n",
    "    txt_fname = \"data.count_column.raw.WGS.rds\"\n",
    "    txt_fglob = file.path(txt_fdiry, txt_fname)\n",
    "    \n",
    "    vec_txt_fpath_inp = Sys.glob(txt_fglob)\n",
    "    \n",
    "    ### loop\n",
    "    for (txt_fpath_inp in vec_txt_fpath_inp){\n",
    "\n",
    "        ### read object\n",
    "        lst_dat = readRDS(txt_fpath_inp)\n",
    "        dat_cnt = lst_dat$data_cnt\n",
    "        dat_col = lst_dat$data_col\n",
    "        \n",
    "        ### arrange column data\n",
    "        dat_col = dat_col  %>% \n",
    "            dplyr::mutate(Group = factor(Group, levels = c(\"Input\", \"Output\"))) %>%\n",
    "            column_to_rownames(var = \"Sample\")\n",
    "        \n",
    "        ### arrange count matrix\n",
    "        mat_tot = dat_cnt %>%\n",
    "            dplyr::select(-Chrom, -ChromStart, -ChromEnd) %>%\n",
    "            column_to_rownames(var = \"Region\")\n",
    "        mat_inp = mat_tot %>% dplyr::select(starts_with(\"Input\"))\n",
    "        mat_out = mat_tot %>% dplyr::select(starts_with(\"Output\"))\n",
    "\n",
    "        ### create list of DGE objects for total, input, and output\n",
    "        lst = list()\n",
    "        lst[[\"Total\"]]  = DGEList(counts=mat_tot, group = dat_col$Group)\n",
    "        lst[[\"Input\"]]  = DGEList(counts=mat_inp, group = rep(\"Input\",  ncol(mat_inp)))\n",
    "        lst[[\"Output\"]] = DGEList(counts=mat_out, group = rep(\"Output\", ncol(mat_out)))\n",
    "        lst_edger = lst\n",
    "\n",
    "        ### filter counts using filterByExpr from edgeR\n",
    "        dge = lst_edger[[\"Total\"]]\n",
    "        idx = filterByExpr(dge)\n",
    "\n",
    "        ### Check: index matched when filtering\n",
    "        x = names(idx)\n",
    "        y = row.names(mat_tot)\n",
    "        if (!all(x == y)) {stop(\"Error index\")}\n",
    "\n",
    "        ### if passed: filter matrix\n",
    "        mat_cnt = mat_tot[idx,]\n",
    "\n",
    "        ### show progress:\n",
    "        txt_fpath = txt_fpath_inp\n",
    "        txt_fname = basename(txt_fpath)\n",
    "        txt_assay = fun_get_assay(txt_fpath)\n",
    "        \n",
    "        cat(\"\\n====================\\n\")\n",
    "        cat(\"Region:\", txt_region, \"\\n\")\n",
    "        cat(\"Assay: \", txt_assay,  \"\\n\")\n",
    "        cat(\"FPath: \", txt_fpath,  \"\\n\")\n",
    "        cat(\"FName: \", txt_fname,  \"\\n\")\n",
    "        cat(\"Import Counts:\\n\")\n",
    "        cat(\"#Rows (Before filter):\", nrow(dat_cnt), \"\\n\")\n",
    "        cat(\"#Rows (After  filter):\", nrow(mat_cnt), \"\\n\")\n",
    "        cat(\"\\n\")\n",
    "        flush.console()\n",
    "\n",
    "        ### create DESeq2 object\n",
    "        if (str_detect(txt_assay, \"KSMerge\")){\n",
    "            cat(\"Apply DESeq2: ~Group+Prefix\", \"\\n\")\n",
    "            dds = DESeqDataSetFromMatrix(\n",
    "                countData = mat_cnt, \n",
    "                colData   = dat_col, \n",
    "                design    = ~Group+Prefix)\n",
    "        } else {\n",
    "            cat(\"Apply DESeq2: ~Group\", \"\\n\")\n",
    "            dds = DESeqDataSetFromMatrix(\n",
    "                countData = mat_cnt, \n",
    "                colData   = dat_col, \n",
    "                design    = ~Group)\n",
    "        }\n",
    "\n",
    "        ### ensure Input group is set as reference\n",
    "        dds$Group <- relevel(dds$Group, ref = \"Input\")\n",
    "\n",
    "        ### run deseq analysis\n",
    "        dds = DESeq(dds)\n",
    "\n",
    "        ### save deseq object\n",
    "        txt_fdiry = dirname(txt_fpath_inp)\n",
    "        txt_fname = \"data.deseq2.rds\"\n",
    "        txt_fpath = file.path(txt_fdiry, txt_fname)\n",
    "        \n",
    "        obj = dds\n",
    "        saveRDS(obj, txt_fpath)\n",
    "\n",
    "        ### save DGEList object\n",
    "        txt_fdiry = dirname(txt_fpath_inp)\n",
    "        txt_fname = \"data.edger.rds\"\n",
    "        txt_fpath = file.path(txt_fdiry, txt_fname)\n",
    "        \n",
    "        obj = lst_edger\n",
    "        saveRDS(obj, txt_fpath)\n",
    "    }\n",
    "}"
   ]
  },
  {
   "cell_type": "code",
   "execution_count": null,
   "id": "7348e8ee-cbe6-4124-9102-8e05d5ac5968",
   "metadata": {},
   "outputs": [],
   "source": []
  }
 ],
 "metadata": {
  "kernelspec": {
   "display_name": "R",
   "language": "R",
   "name": "ir"
  },
  "language_info": {
   "codemirror_mode": "r",
   "file_extension": ".r",
   "mimetype": "text/x-r-source",
   "name": "R",
   "pygments_lexer": "r",
   "version": "4.4.0"
  }
 },
 "nbformat": 4,
 "nbformat_minor": 5
}
