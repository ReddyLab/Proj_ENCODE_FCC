{
 "cells": [
  {
   "cell_type": "raw",
   "id": "774c99a3-8157-4280-985f-c1309d489486",
   "metadata": {},
   "source": [
    "---\n",
    "title: Region Coverage 21\n",
    "subtitle: Apply DESeq2 to process count matrix (STARR)\n",
    "format:\n",
    "    html:\n",
    "        code-fold:  true\n",
    "        code-tools: true\n",
    "---"
   ]
  },
  {
   "cell_type": "markdown",
   "id": "ca245baf-1426-4038-90f0-4b693768a009",
   "metadata": {},
   "source": [
    "**Set environment**"
   ]
  },
  {
   "cell_type": "code",
   "execution_count": 2,
   "id": "4949b693-c38c-4f3c-b591-37595c4f0294",
   "metadata": {},
   "outputs": [
    {
     "name": "stdout",
     "output_type": "stream",
     "text": [
      "You are working on        Singularity \n",
      "BASE DIRECTORY (FD_BASE): /mount \n",
      "REPO DIRECTORY (FD_REPO): /mount/repo \n",
      "WORK DIRECTORY (FD_WORK): /mount/work \n",
      "DATA DIRECTORY (FD_DATA): /mount/data \n",
      "\n",
      "You are working with      ENCODE FCC \n",
      "PATH OF PROJECT (FD_PRJ): /mount/repo/Proj_ENCODE_FCC \n",
      "PROJECT RESULTS (FD_RES): /mount/repo/Proj_ENCODE_FCC/results \n",
      "PROJECT SCRIPTS (FD_EXE): /mount/repo/Proj_ENCODE_FCC/scripts \n",
      "PROJECT DATA    (FD_DAT): /mount/repo/Proj_ENCODE_FCC/data \n",
      "PROJECT NOTE    (FD_NBK): /mount/repo/Proj_ENCODE_FCC/notebooks \n",
      "PROJECT DOCS    (FD_DOC): /mount/repo/Proj_ENCODE_FCC/docs \n",
      "PROJECT LOG     (FD_LOG): /mount/repo/Proj_ENCODE_FCC/log \n",
      "PROJECT APP     (FD_APP): /mount/repo/Proj_ENCODE_FCC/app \n",
      "PROJECT REF     (FD_REF): /mount/repo/Proj_ENCODE_FCC/references \n",
      "\n"
     ]
    }
   ],
   "source": [
    "suppressMessages(suppressWarnings(source(\"../run_config_project_sing.R\")))\n",
    "suppressMessages(suppressWarnings(library(\"DESeq2\")))\n",
    "suppressMessages(suppressWarnings(library(\"edgeR\")))\n",
    "show_env()"
   ]
  },
  {
   "cell_type": "code",
   "execution_count": 3,
   "id": "6329b59c-12c1-42f2-8fe6-ee975973f8eb",
   "metadata": {},
   "outputs": [],
   "source": [
    "txt_fdiry = file.path(FD_RES, \"region_coverage_fcc\")\n",
    "vec_txt_region = \"fcc_astarr_macs_input_overlap\" #dir(txt_fdiry)\n",
    "vec_txt_assay  = c(\n",
    "    \"STARR_ATAC_K562_Reddy_KS274\"\n",
    ")"
   ]
  },
  {
   "cell_type": "code",
   "execution_count": 41,
   "id": "821c7964-210c-4ee7-81cd-ea63f1f16f7f",
   "metadata": {},
   "outputs": [
    {
     "data": {
      "text/html": [
       "'/mount/repo/Proj_ENCODE_FCC/results/region_coverage_fcc/fcc_astarr_macs_input_union/STARR_ATAC_K562_Reddy_KS91/overlap_count/summary/data_list_count_column.rds'"
      ],
      "text/latex": [
       "'/mount/repo/Proj\\_ENCODE\\_FCC/results/region\\_coverage\\_fcc/fcc\\_astarr\\_macs\\_input\\_union/STARR\\_ATAC\\_K562\\_Reddy\\_KS91/overlap\\_count/summary/data\\_list\\_count\\_column.rds'"
      ],
      "text/markdown": [
       "'/mount/repo/Proj_ENCODE_FCC/results/region_coverage_fcc/fcc_astarr_macs_input_union/STARR_ATAC_K562_Reddy_KS91/overlap_count/summary/data_list_count_column.rds'"
      ],
      "text/plain": [
       "[1] \"/mount/repo/Proj_ENCODE_FCC/results/region_coverage_fcc/fcc_astarr_macs_input_union/STARR_ATAC_K562_Reddy_KS91/overlap_count/summary/data_list_count_column.rds\""
      ]
     },
     "metadata": {},
     "output_type": "display_data"
    }
   ],
   "source": [
    "txt_region = \"fcc_astarr_macs_input_union\"\n",
    "txt_assay  = \"STARR_ATAC_K562_Reddy_KS91\"\n",
    "\n",
    "txt_fdiry = file.path(\n",
    "    FD_RES, \"region_coverage_fcc\",\n",
    "    txt_region,\n",
    "    txt_assay,\n",
    "    \"overlap_count\",\n",
    "    \"summary\"\n",
    ")\n",
    "txt_fname = \"data_list_count_column.rds\"\n",
    "txt_fpath = file.path(txt_fdiry, txt_fname)\n",
    "\n",
    "txt_fpath"
   ]
  },
  {
   "cell_type": "code",
   "execution_count": 42,
   "id": "086b937c-1e35-4e23-845c-df61a1acf04c",
   "metadata": {},
   "outputs": [],
   "source": [
    "### read object\n",
    "lst_dat = readRDS(txt_fpath)\n",
    "dat_cnt = lst_dat$data_cnt\n",
    "dat_col = lst_dat$data_col\n",
    "\n",
    "### arrange count matrix\n",
    "mat_cnt = dat_cnt %>%\n",
    "    dplyr::select(-Chrom, -ChromStart, -ChromEnd) %>%\n",
    "    column_to_rownames(var = \"Region\")\n",
    "\n",
    "### arrange column data\n",
    "dat_col = dat_col  %>% \n",
    "    #dplyr::select(Sample, Group) %>% \n",
    "    dplyr::mutate(Group = factor(Group, levels = c(\"Input\", \"Output\"))) %>%\n",
    "    column_to_rownames(var = \"Sample\")"
   ]
  },
  {
   "cell_type": "code",
   "execution_count": 43,
   "id": "be453726-45a3-4745-9966-b1d4812e5287",
   "metadata": {},
   "outputs": [
    {
     "data": {
      "text/html": [
       "<table class=\"dataframe\">\n",
       "<caption>A data.frame: 6 × 10</caption>\n",
       "<thead>\n",
       "\t<tr><th></th><th scope=col>Input.rep1</th><th scope=col>Input.rep2</th><th scope=col>Input.rep3</th><th scope=col>Input.rep4</th><th scope=col>Input.rep5</th><th scope=col>Input.rep6</th><th scope=col>Output.rep1</th><th scope=col>Output.rep2</th><th scope=col>Output.rep3</th><th scope=col>Output.rep4</th></tr>\n",
       "\t<tr><th></th><th scope=col>&lt;int&gt;</th><th scope=col>&lt;int&gt;</th><th scope=col>&lt;int&gt;</th><th scope=col>&lt;int&gt;</th><th scope=col>&lt;int&gt;</th><th scope=col>&lt;int&gt;</th><th scope=col>&lt;int&gt;</th><th scope=col>&lt;int&gt;</th><th scope=col>&lt;int&gt;</th><th scope=col>&lt;int&gt;</th></tr>\n",
       "</thead>\n",
       "<tbody>\n",
       "\t<tr><th scope=row>chr1:10015-10442</th><td>155</td><td>214</td><td>257</td><td>236</td><td>185</td><td>214</td><td> 7</td><td>12</td><td> 4</td><td>11</td></tr>\n",
       "\t<tr><th scope=row>chr1:14253-14645</th><td>110</td><td>144</td><td>160</td><td>141</td><td>130</td><td>130</td><td> 8</td><td>26</td><td>30</td><td>57</td></tr>\n",
       "\t<tr><th scope=row>chr1:16015-16477</th><td>141</td><td>208</td><td>206</td><td>190</td><td>202</td><td>182</td><td> 9</td><td> 9</td><td>18</td><td>23</td></tr>\n",
       "\t<tr><th scope=row>chr1:17237-17772</th><td>259</td><td>350</td><td>399</td><td>367</td><td>369</td><td>331</td><td> 7</td><td>13</td><td>23</td><td>59</td></tr>\n",
       "\t<tr><th scope=row>chr1:28903-29613</th><td>263</td><td>338</td><td>368</td><td>333</td><td>352</td><td>317</td><td>12</td><td>18</td><td> 3</td><td>32</td></tr>\n",
       "\t<tr><th scope=row>chr1:30803-31072</th><td> 82</td><td>115</td><td>171</td><td>136</td><td>105</td><td>115</td><td>13</td><td>22</td><td>14</td><td>33</td></tr>\n",
       "</tbody>\n",
       "</table>\n"
      ],
      "text/latex": [
       "A data.frame: 6 × 10\n",
       "\\begin{tabular}{r|llllllllll}\n",
       "  & Input.rep1 & Input.rep2 & Input.rep3 & Input.rep4 & Input.rep5 & Input.rep6 & Output.rep1 & Output.rep2 & Output.rep3 & Output.rep4\\\\\n",
       "  & <int> & <int> & <int> & <int> & <int> & <int> & <int> & <int> & <int> & <int>\\\\\n",
       "\\hline\n",
       "\tchr1:10015-10442 & 155 & 214 & 257 & 236 & 185 & 214 &  7 & 12 &  4 & 11\\\\\n",
       "\tchr1:14253-14645 & 110 & 144 & 160 & 141 & 130 & 130 &  8 & 26 & 30 & 57\\\\\n",
       "\tchr1:16015-16477 & 141 & 208 & 206 & 190 & 202 & 182 &  9 &  9 & 18 & 23\\\\\n",
       "\tchr1:17237-17772 & 259 & 350 & 399 & 367 & 369 & 331 &  7 & 13 & 23 & 59\\\\\n",
       "\tchr1:28903-29613 & 263 & 338 & 368 & 333 & 352 & 317 & 12 & 18 &  3 & 32\\\\\n",
       "\tchr1:30803-31072 &  82 & 115 & 171 & 136 & 105 & 115 & 13 & 22 & 14 & 33\\\\\n",
       "\\end{tabular}\n"
      ],
      "text/markdown": [
       "\n",
       "A data.frame: 6 × 10\n",
       "\n",
       "| <!--/--> | Input.rep1 &lt;int&gt; | Input.rep2 &lt;int&gt; | Input.rep3 &lt;int&gt; | Input.rep4 &lt;int&gt; | Input.rep5 &lt;int&gt; | Input.rep6 &lt;int&gt; | Output.rep1 &lt;int&gt; | Output.rep2 &lt;int&gt; | Output.rep3 &lt;int&gt; | Output.rep4 &lt;int&gt; |\n",
       "|---|---|---|---|---|---|---|---|---|---|---|\n",
       "| chr1:10015-10442 | 155 | 214 | 257 | 236 | 185 | 214 |  7 | 12 |  4 | 11 |\n",
       "| chr1:14253-14645 | 110 | 144 | 160 | 141 | 130 | 130 |  8 | 26 | 30 | 57 |\n",
       "| chr1:16015-16477 | 141 | 208 | 206 | 190 | 202 | 182 |  9 |  9 | 18 | 23 |\n",
       "| chr1:17237-17772 | 259 | 350 | 399 | 367 | 369 | 331 |  7 | 13 | 23 | 59 |\n",
       "| chr1:28903-29613 | 263 | 338 | 368 | 333 | 352 | 317 | 12 | 18 |  3 | 32 |\n",
       "| chr1:30803-31072 |  82 | 115 | 171 | 136 | 105 | 115 | 13 | 22 | 14 | 33 |\n",
       "\n"
      ],
      "text/plain": [
       "                 Input.rep1 Input.rep2 Input.rep3 Input.rep4 Input.rep5\n",
       "chr1:10015-10442 155        214        257        236        185       \n",
       "chr1:14253-14645 110        144        160        141        130       \n",
       "chr1:16015-16477 141        208        206        190        202       \n",
       "chr1:17237-17772 259        350        399        367        369       \n",
       "chr1:28903-29613 263        338        368        333        352       \n",
       "chr1:30803-31072  82        115        171        136        105       \n",
       "                 Input.rep6 Output.rep1 Output.rep2 Output.rep3 Output.rep4\n",
       "chr1:10015-10442 214         7          12           4          11         \n",
       "chr1:14253-14645 130         8          26          30          57         \n",
       "chr1:16015-16477 182         9           9          18          23         \n",
       "chr1:17237-17772 331         7          13          23          59         \n",
       "chr1:28903-29613 317        12          18           3          32         \n",
       "chr1:30803-31072 115        13          22          14          33         "
      ]
     },
     "metadata": {},
     "output_type": "display_data"
    }
   ],
   "source": [
    "head(mat_cnt)"
   ]
  },
  {
   "cell_type": "code",
   "execution_count": 44,
   "id": "35662356-a046-4c02-a5fc-bc7709336180",
   "metadata": {},
   "outputs": [
    {
     "data": {
      "text/html": [
       "<table class=\"dataframe\">\n",
       "<caption>A data.frame: 10 × 4</caption>\n",
       "<thead>\n",
       "\t<tr><th></th><th scope=col>FName</th><th scope=col>Assay</th><th scope=col>Prefix</th><th scope=col>Group</th></tr>\n",
       "\t<tr><th></th><th scope=col>&lt;chr&gt;</th><th scope=col>&lt;chr&gt;</th><th scope=col>&lt;chr&gt;</th><th scope=col>&lt;fct&gt;</th></tr>\n",
       "</thead>\n",
       "<tbody>\n",
       "\t<tr><th scope=row>Input.rep1</th><td>ASTARRseq_K562_KS91.hg38.Input.rep1.WGS.unstranded.bed.gz </td><td>STARR_ATAC_K562_Reddy_KS91</td><td>ASTARRseq_K562_KS91</td><td>Input </td></tr>\n",
       "\t<tr><th scope=row>Input.rep2</th><td>ASTARRseq_K562_KS91.hg38.Input.rep2.WGS.unstranded.bed.gz </td><td>STARR_ATAC_K562_Reddy_KS91</td><td>ASTARRseq_K562_KS91</td><td>Input </td></tr>\n",
       "\t<tr><th scope=row>Input.rep3</th><td>ASTARRseq_K562_KS91.hg38.Input.rep3.WGS.unstranded.bed.gz </td><td>STARR_ATAC_K562_Reddy_KS91</td><td>ASTARRseq_K562_KS91</td><td>Input </td></tr>\n",
       "\t<tr><th scope=row>Input.rep4</th><td>ASTARRseq_K562_KS91.hg38.Input.rep4.WGS.unstranded.bed.gz </td><td>STARR_ATAC_K562_Reddy_KS91</td><td>ASTARRseq_K562_KS91</td><td>Input </td></tr>\n",
       "\t<tr><th scope=row>Input.rep5</th><td>ASTARRseq_K562_KS91.hg38.Input.rep5.WGS.unstranded.bed.gz </td><td>STARR_ATAC_K562_Reddy_KS91</td><td>ASTARRseq_K562_KS91</td><td>Input </td></tr>\n",
       "\t<tr><th scope=row>Input.rep6</th><td>ASTARRseq_K562_KS91.hg38.Input.rep6.WGS.unstranded.bed.gz </td><td>STARR_ATAC_K562_Reddy_KS91</td><td>ASTARRseq_K562_KS91</td><td>Input </td></tr>\n",
       "\t<tr><th scope=row>Output.rep1</th><td>ASTARRseq_K562_KS91.hg38.Output.rep1.WGS.unstranded.bed.gz</td><td>STARR_ATAC_K562_Reddy_KS91</td><td>ASTARRseq_K562_KS91</td><td>Output</td></tr>\n",
       "\t<tr><th scope=row>Output.rep2</th><td>ASTARRseq_K562_KS91.hg38.Output.rep2.WGS.unstranded.bed.gz</td><td>STARR_ATAC_K562_Reddy_KS91</td><td>ASTARRseq_K562_KS91</td><td>Output</td></tr>\n",
       "\t<tr><th scope=row>Output.rep3</th><td>ASTARRseq_K562_KS91.hg38.Output.rep3.WGS.unstranded.bed.gz</td><td>STARR_ATAC_K562_Reddy_KS91</td><td>ASTARRseq_K562_KS91</td><td>Output</td></tr>\n",
       "\t<tr><th scope=row>Output.rep4</th><td>ASTARRseq_K562_KS91.hg38.Output.rep4.WGS.unstranded.bed.gz</td><td>STARR_ATAC_K562_Reddy_KS91</td><td>ASTARRseq_K562_KS91</td><td>Output</td></tr>\n",
       "</tbody>\n",
       "</table>\n"
      ],
      "text/latex": [
       "A data.frame: 10 × 4\n",
       "\\begin{tabular}{r|llll}\n",
       "  & FName & Assay & Prefix & Group\\\\\n",
       "  & <chr> & <chr> & <chr> & <fct>\\\\\n",
       "\\hline\n",
       "\tInput.rep1 & ASTARRseq\\_K562\\_KS91.hg38.Input.rep1.WGS.unstranded.bed.gz  & STARR\\_ATAC\\_K562\\_Reddy\\_KS91 & ASTARRseq\\_K562\\_KS91 & Input \\\\\n",
       "\tInput.rep2 & ASTARRseq\\_K562\\_KS91.hg38.Input.rep2.WGS.unstranded.bed.gz  & STARR\\_ATAC\\_K562\\_Reddy\\_KS91 & ASTARRseq\\_K562\\_KS91 & Input \\\\\n",
       "\tInput.rep3 & ASTARRseq\\_K562\\_KS91.hg38.Input.rep3.WGS.unstranded.bed.gz  & STARR\\_ATAC\\_K562\\_Reddy\\_KS91 & ASTARRseq\\_K562\\_KS91 & Input \\\\\n",
       "\tInput.rep4 & ASTARRseq\\_K562\\_KS91.hg38.Input.rep4.WGS.unstranded.bed.gz  & STARR\\_ATAC\\_K562\\_Reddy\\_KS91 & ASTARRseq\\_K562\\_KS91 & Input \\\\\n",
       "\tInput.rep5 & ASTARRseq\\_K562\\_KS91.hg38.Input.rep5.WGS.unstranded.bed.gz  & STARR\\_ATAC\\_K562\\_Reddy\\_KS91 & ASTARRseq\\_K562\\_KS91 & Input \\\\\n",
       "\tInput.rep6 & ASTARRseq\\_K562\\_KS91.hg38.Input.rep6.WGS.unstranded.bed.gz  & STARR\\_ATAC\\_K562\\_Reddy\\_KS91 & ASTARRseq\\_K562\\_KS91 & Input \\\\\n",
       "\tOutput.rep1 & ASTARRseq\\_K562\\_KS91.hg38.Output.rep1.WGS.unstranded.bed.gz & STARR\\_ATAC\\_K562\\_Reddy\\_KS91 & ASTARRseq\\_K562\\_KS91 & Output\\\\\n",
       "\tOutput.rep2 & ASTARRseq\\_K562\\_KS91.hg38.Output.rep2.WGS.unstranded.bed.gz & STARR\\_ATAC\\_K562\\_Reddy\\_KS91 & ASTARRseq\\_K562\\_KS91 & Output\\\\\n",
       "\tOutput.rep3 & ASTARRseq\\_K562\\_KS91.hg38.Output.rep3.WGS.unstranded.bed.gz & STARR\\_ATAC\\_K562\\_Reddy\\_KS91 & ASTARRseq\\_K562\\_KS91 & Output\\\\\n",
       "\tOutput.rep4 & ASTARRseq\\_K562\\_KS91.hg38.Output.rep4.WGS.unstranded.bed.gz & STARR\\_ATAC\\_K562\\_Reddy\\_KS91 & ASTARRseq\\_K562\\_KS91 & Output\\\\\n",
       "\\end{tabular}\n"
      ],
      "text/markdown": [
       "\n",
       "A data.frame: 10 × 4\n",
       "\n",
       "| <!--/--> | FName &lt;chr&gt; | Assay &lt;chr&gt; | Prefix &lt;chr&gt; | Group &lt;fct&gt; |\n",
       "|---|---|---|---|---|\n",
       "| Input.rep1 | ASTARRseq_K562_KS91.hg38.Input.rep1.WGS.unstranded.bed.gz  | STARR_ATAC_K562_Reddy_KS91 | ASTARRseq_K562_KS91 | Input  |\n",
       "| Input.rep2 | ASTARRseq_K562_KS91.hg38.Input.rep2.WGS.unstranded.bed.gz  | STARR_ATAC_K562_Reddy_KS91 | ASTARRseq_K562_KS91 | Input  |\n",
       "| Input.rep3 | ASTARRseq_K562_KS91.hg38.Input.rep3.WGS.unstranded.bed.gz  | STARR_ATAC_K562_Reddy_KS91 | ASTARRseq_K562_KS91 | Input  |\n",
       "| Input.rep4 | ASTARRseq_K562_KS91.hg38.Input.rep4.WGS.unstranded.bed.gz  | STARR_ATAC_K562_Reddy_KS91 | ASTARRseq_K562_KS91 | Input  |\n",
       "| Input.rep5 | ASTARRseq_K562_KS91.hg38.Input.rep5.WGS.unstranded.bed.gz  | STARR_ATAC_K562_Reddy_KS91 | ASTARRseq_K562_KS91 | Input  |\n",
       "| Input.rep6 | ASTARRseq_K562_KS91.hg38.Input.rep6.WGS.unstranded.bed.gz  | STARR_ATAC_K562_Reddy_KS91 | ASTARRseq_K562_KS91 | Input  |\n",
       "| Output.rep1 | ASTARRseq_K562_KS91.hg38.Output.rep1.WGS.unstranded.bed.gz | STARR_ATAC_K562_Reddy_KS91 | ASTARRseq_K562_KS91 | Output |\n",
       "| Output.rep2 | ASTARRseq_K562_KS91.hg38.Output.rep2.WGS.unstranded.bed.gz | STARR_ATAC_K562_Reddy_KS91 | ASTARRseq_K562_KS91 | Output |\n",
       "| Output.rep3 | ASTARRseq_K562_KS91.hg38.Output.rep3.WGS.unstranded.bed.gz | STARR_ATAC_K562_Reddy_KS91 | ASTARRseq_K562_KS91 | Output |\n",
       "| Output.rep4 | ASTARRseq_K562_KS91.hg38.Output.rep4.WGS.unstranded.bed.gz | STARR_ATAC_K562_Reddy_KS91 | ASTARRseq_K562_KS91 | Output |\n",
       "\n"
      ],
      "text/plain": [
       "            FName                                                     \n",
       "Input.rep1  ASTARRseq_K562_KS91.hg38.Input.rep1.WGS.unstranded.bed.gz \n",
       "Input.rep2  ASTARRseq_K562_KS91.hg38.Input.rep2.WGS.unstranded.bed.gz \n",
       "Input.rep3  ASTARRseq_K562_KS91.hg38.Input.rep3.WGS.unstranded.bed.gz \n",
       "Input.rep4  ASTARRseq_K562_KS91.hg38.Input.rep4.WGS.unstranded.bed.gz \n",
       "Input.rep5  ASTARRseq_K562_KS91.hg38.Input.rep5.WGS.unstranded.bed.gz \n",
       "Input.rep6  ASTARRseq_K562_KS91.hg38.Input.rep6.WGS.unstranded.bed.gz \n",
       "Output.rep1 ASTARRseq_K562_KS91.hg38.Output.rep1.WGS.unstranded.bed.gz\n",
       "Output.rep2 ASTARRseq_K562_KS91.hg38.Output.rep2.WGS.unstranded.bed.gz\n",
       "Output.rep3 ASTARRseq_K562_KS91.hg38.Output.rep3.WGS.unstranded.bed.gz\n",
       "Output.rep4 ASTARRseq_K562_KS91.hg38.Output.rep4.WGS.unstranded.bed.gz\n",
       "            Assay                      Prefix              Group \n",
       "Input.rep1  STARR_ATAC_K562_Reddy_KS91 ASTARRseq_K562_KS91 Input \n",
       "Input.rep2  STARR_ATAC_K562_Reddy_KS91 ASTARRseq_K562_KS91 Input \n",
       "Input.rep3  STARR_ATAC_K562_Reddy_KS91 ASTARRseq_K562_KS91 Input \n",
       "Input.rep4  STARR_ATAC_K562_Reddy_KS91 ASTARRseq_K562_KS91 Input \n",
       "Input.rep5  STARR_ATAC_K562_Reddy_KS91 ASTARRseq_K562_KS91 Input \n",
       "Input.rep6  STARR_ATAC_K562_Reddy_KS91 ASTARRseq_K562_KS91 Input \n",
       "Output.rep1 STARR_ATAC_K562_Reddy_KS91 ASTARRseq_K562_KS91 Output\n",
       "Output.rep2 STARR_ATAC_K562_Reddy_KS91 ASTARRseq_K562_KS91 Output\n",
       "Output.rep3 STARR_ATAC_K562_Reddy_KS91 ASTARRseq_K562_KS91 Output\n",
       "Output.rep4 STARR_ATAC_K562_Reddy_KS91 ASTARRseq_K562_KS91 Output"
      ]
     },
     "metadata": {},
     "output_type": "display_data"
    }
   ],
   "source": [
    "dat_col"
   ]
  },
  {
   "cell_type": "code",
   "execution_count": 51,
   "id": "be12d34c-bb70-4199-af9f-11e94949ba07",
   "metadata": {},
   "outputs": [
    {
     "name": "stdout",
     "output_type": "stream",
     "text": [
      "[1] 246852     10\n"
     ]
    }
   ],
   "source": [
    "dge = DGEList(counts=mat_cnt, group=dat_col$Group)\n",
    "#dge = DGEList(counts=mat_cnt)\n",
    "mat = dge$counts\n",
    "print(dim(mat))"
   ]
  },
  {
   "cell_type": "code",
   "execution_count": 53,
   "id": "d190e3ec-bd6d-44de-91ce-0826f89ca519",
   "metadata": {},
   "outputs": [
    {
     "data": {
      "text/plain": [
       "\n",
       " FALSE   TRUE \n",
       "246850      2 "
      ]
     },
     "metadata": {},
     "output_type": "display_data"
    }
   ],
   "source": [
    "vec = apply(mat, 1, sum)\n",
    "table(vec < 10)"
   ]
  },
  {
   "cell_type": "code",
   "execution_count": 58,
   "id": "8000512a-8cc6-4449-b0df-08f28f9ddab4",
   "metadata": {},
   "outputs": [
    {
     "data": {
      "text/plain": [
       "idx\n",
       " FALSE   TRUE \n",
       "246850      2 "
      ]
     },
     "metadata": {},
     "output_type": "display_data"
    }
   ],
   "source": [
    "vec = apply(mat, 1, sum)\n",
    "idx = vec < 100\n",
    "table(idx)"
   ]
  },
  {
   "cell_type": "code",
   "execution_count": 59,
   "id": "f601ad9b-49dd-4fb7-afeb-e345284a4f7f",
   "metadata": {},
   "outputs": [
    {
     "data": {
      "text/html": [
       "<style>\n",
       ".dl-inline {width: auto; margin:0; padding: 0}\n",
       ".dl-inline>dt, .dl-inline>dd {float: none; width: auto; display: inline-block}\n",
       ".dl-inline>dt::after {content: \":\\0020\"; padding-right: .5ex}\n",
       ".dl-inline>dt:not(:first-of-type) {padding-left: .5ex}\n",
       "</style><dl class=dl-inline><dt>chr21:8219783-8221061</dt><dd>8</dd><dt>chr21:8396525-8397035</dt><dd>1</dd></dl>\n"
      ],
      "text/latex": [
       "\\begin{description*}\n",
       "\\item[chr21:8219783-8221061] 8\n",
       "\\item[chr21:8396525-8397035] 1\n",
       "\\end{description*}\n"
      ],
      "text/markdown": [
       "chr21:8219783-8221061\n",
       ":   8chr21:8396525-8397035\n",
       ":   1\n",
       "\n"
      ],
      "text/plain": [
       "chr21:8219783-8221061 chr21:8396525-8397035 \n",
       "                    8                     1 "
      ]
     },
     "metadata": {},
     "output_type": "display_data"
    }
   ],
   "source": [
    "vec[idx]"
   ]
  },
  {
   "cell_type": "code",
   "execution_count": 50,
   "id": "0b829bf3-542e-42a1-bf75-c911982d8f3b",
   "metadata": {},
   "outputs": [
    {
     "name": "stdout",
     "output_type": "stream",
     "text": [
      "[1] 246850     10\n"
     ]
    }
   ],
   "source": [
    "idx = filterByExpr(dge)\n",
    "dge = dge[idx, , keep.lib.sizes=FALSE]\n",
    "mat = dge$counts\n",
    "print(dim(mat))"
   ]
  },
  {
   "cell_type": "code",
   "execution_count": null,
   "id": "2d4d1f2c-f8ee-4e53-88ba-435346bbafd3",
   "metadata": {},
   "outputs": [],
   "source": [
    "dge = DGEList(counts=mat_cnt, group=dat_col$Group)\n",
    "idx = filterByExpr(dge)"
   ]
  }
 ],
 "metadata": {
  "kernelspec": {
   "display_name": "R",
   "language": "R",
   "name": "ir"
  },
  "language_info": {
   "codemirror_mode": "r",
   "file_extension": ".r",
   "mimetype": "text/x-r-source",
   "name": "R",
   "pygments_lexer": "r",
   "version": "4.4.0"
  }
 },
 "nbformat": 4,
 "nbformat_minor": 5
}
