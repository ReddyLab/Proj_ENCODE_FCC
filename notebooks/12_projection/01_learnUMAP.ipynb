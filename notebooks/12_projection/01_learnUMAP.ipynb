{
 "cells": [
  {
   "cell_type": "markdown",
   "id": "fe4a598f-1be6-4b90-b5f3-954b963f65a4",
   "metadata": {},
   "source": [
    "**Set environment**"
   ]
  },
  {
   "cell_type": "code",
   "execution_count": 1,
   "id": "ce4b711e-099a-4822-b00f-855d61d1ceb0",
   "metadata": {},
   "outputs": [
    {
     "name": "stdout",
     "output_type": "stream",
     "text": [
      "You are on Duke Server: Singularity: Proj ENCODE FCC\n",
      "BASE DIRECTORY:     /mount/work\n",
      "PATH OF SOURCE:     /mount/work/source\n",
      "PATH OF EXECUTABLE: /mount/work/exe\n",
      "PATH OF ANNOTATION: /mount/work/annotation\n",
      "PATH OF PROJECT:    /mount/project\n",
      "PATH OF RESULTS:    /mount/work/out/proj_combeffect_encode_fcc\n",
      "\n"
     ]
    }
   ],
   "source": [
    "### basic\n",
    "import sys\n",
    "sys.path.append('../')\n",
    "from config_sing import *\n",
    "\n",
    "### specific tools\n",
    "from collections import defaultdict\n",
    "from functools import reduce\n",
    "import itertools as it\n",
    "import sqlite3\n",
    "# https://stackoverflow.com/questions/49456158/integer-in-python-pandas-becomes-blob-binary-in-sqlite\n",
    "sqlite3.register_adapter(np.int64, lambda val: int(val))\n",
    "sqlite3.register_adapter(np.int32, lambda val: int(val))\n",
    "\n",
    "### file path of fragment database\n",
    "fdiry = os.path.join(FD_RES, \"KS91_K562_ASTARRseq\", 'database')\n",
    "fname = \"fragment_astarr_gata1.db\"\n",
    "FPATH_DB_ASTARR = os.path.join(fdiry, fname)\n",
    "\n",
    "fdiry = os.path.join(FD_RES, \"Tewhey_K562_TileMPRA\", 'database')\n",
    "fname = \"fragment_tilempra_gata1.db\"\n",
    "FPATH_DB_TMPRA = os.path.join(fdiry, fname)\n",
    "\n",
    "FPATHS_DB = [FPATH_DB_ASTARR, FPATH_DB_TMPRA]"
   ]
  },
  {
   "cell_type": "code",
   "execution_count": 2,
   "id": "70c5fc33-d758-4d36-a000-0baca25df436",
   "metadata": {},
   "outputs": [
    {
     "name": "stdout",
     "output_type": "stream",
     "text": [
      "Tue Mar 29 15:17:57 2022       \n",
      "+-----------------------------------------------------------------------------+\n",
      "| NVIDIA-SMI 495.29.05    Driver Version: 495.29.05    CUDA Version: 11.5     |\n",
      "|-------------------------------+----------------------+----------------------+\n",
      "| GPU  Name        Persistence-M| Bus-Id        Disp.A | Volatile Uncorr. ECC |\n",
      "| Fan  Temp  Perf  Pwr:Usage/Cap|         Memory-Usage | GPU-Util  Compute M. |\n",
      "|                               |                      |               MIG M. |\n",
      "|===============================+======================+======================|\n",
      "|   0  NVIDIA GeForce ...  Off  | 00000000:13:00.0 Off |                  N/A |\n",
      "| 38%   34C    P0     1W / 250W |      0MiB / 11019MiB |      0%      Default |\n",
      "|                               |                      |                  N/A |\n",
      "+-------------------------------+----------------------+----------------------+\n",
      "                                                                               \n",
      "+-----------------------------------------------------------------------------+\n",
      "| Processes:                                                                  |\n",
      "|  GPU   GI   CI        PID   Type   Process name                  GPU Memory |\n",
      "|        ID   ID                                                   Usage      |\n",
      "|=============================================================================|\n",
      "|  No running processes found                                                 |\n",
      "+-----------------------------------------------------------------------------+\n"
     ]
    }
   ],
   "source": [
    "!nvidia-smi"
   ]
  },
  {
   "cell_type": "code",
   "execution_count": 3,
   "id": "69238152-2d87-4933-8878-2c4fcc307a42",
   "metadata": {},
   "outputs": [
    {
     "name": "stdout",
     "output_type": "stream",
     "text": [
      "2.6.0\n",
      "[PhysicalDevice(name='/physical_device:GPU:0', device_type='GPU')]\n"
     ]
    }
   ],
   "source": [
    "import tensorflow as tf\n",
    "physical_devices = tf.config.list_physical_devices('GPU')\n",
    "tf.config.experimental.set_memory_growth(physical_devices[0], True)\n",
    "\n",
    "print(tf.__version__)\n",
    "print(physical_devices)"
   ]
  },
  {
   "cell_type": "code",
   "execution_count": 4,
   "id": "cfd01e26-5cb7-45c4-ae64-11d4494d335c",
   "metadata": {},
   "outputs": [],
   "source": [
    "from umap.parametric_umap import ParametricUMAP"
   ]
  },
  {
   "cell_type": "markdown",
   "id": "b989d04b-ed4a-40aa-8fbf-029b455db40c",
   "metadata": {},
   "source": [
    "## Stream annotations from TileMPRA database"
   ]
  },
  {
   "cell_type": "markdown",
   "id": "eaf99c59-7421-4aa7-9e2c-33731f36127c",
   "metadata": {},
   "source": [
    "```\n",
    "Table: Annotation\n",
    "#Rows in table: 2,300,625\n",
    "#Fragments:        52,312\n",
    "```"
   ]
  },
  {
   "cell_type": "code",
   "execution_count": 5,
   "id": "b41bbccd-c741-4e75-b903-c5772184162a",
   "metadata": {},
   "outputs": [
    {
     "name": "stdout",
     "output_type": "stream",
     "text": [
      "#Progress: 0\n",
      "#Progress: 500000\n",
      "#Progress: 1000000\n",
      "#Progress: 1500000\n",
      "#Progress: 2000000\n",
      "CPU times: user 7.29 s, sys: 649 ms, total: 7.93 s\n",
      "Wall time: 1min 22s\n"
     ]
    }
   ],
   "source": [
    "%%time\n",
    "\n",
    "fpath_db = FPATH_DB_TMPRA\n",
    "table = \"Annotation\"\n",
    "\n",
    "with sqlite3.connect(fpath_db) as conn:\n",
    "    ### query the fragment annotations\n",
    "    cursor = conn.cursor()\n",
    "    query  = \"\"\"\n",
    "        SELECT Ant.Fragment, Mtf.motif, Mtf.score\n",
    "        FROM Annotation Ant\n",
    "        JOIN Motif      Mtf \n",
    "        ON   Ant.binding = Mtf.binding\n",
    "        \"\"\"\n",
    "    cursor = cursor.execute(query)\n",
    "    #rows   = it.islice(cursor, 1000)\n",
    "    rows = cursor\n",
    "    \n",
    "    ### summarize the motif annotation scores\n",
    "    dct_ann = defaultdict(lambda: defaultdict(lambda: 0.0))\n",
    "    for idx, row in enumerate(rows):\n",
    "        if idx % 500000 == 0:\n",
    "            print(f\"#Progress: {idx}\")\n",
    "        frg, mtf, val      = row\n",
    "        dct_ann[frg][mtf] += val"
   ]
  },
  {
   "cell_type": "markdown",
   "id": "7a7ebf4f-b364-4830-9231-497473c38600",
   "metadata": {},
   "source": [
    "**Arrange into a dataframe**"
   ]
  },
  {
   "cell_type": "code",
   "execution_count": 6,
   "id": "58d7b2ce-b8e5-4d14-8d46-c0c77a6ccef3",
   "metadata": {},
   "outputs": [
    {
     "name": "stdout",
     "output_type": "stream",
     "text": [
      "(52312, 272)\n"
     ]
    },
    {
     "data": {
      "text/html": [
       "<div>\n",
       "<style scoped>\n",
       "    .dataframe tbody tr th:only-of-type {\n",
       "        vertical-align: middle;\n",
       "    }\n",
       "\n",
       "    .dataframe tbody tr th {\n",
       "        vertical-align: top;\n",
       "    }\n",
       "\n",
       "    .dataframe thead th {\n",
       "        text-align: right;\n",
       "    }\n",
       "</style>\n",
       "<table border=\"1\" class=\"dataframe\">\n",
       "  <thead>\n",
       "    <tr style=\"text-align: right;\">\n",
       "      <th></th>\n",
       "      <th>Mtf_KLF/SP/2</th>\n",
       "      <th>Mtf_ZNF28</th>\n",
       "      <th>Mtf_FOX/4</th>\n",
       "      <th>Mtf_ZNF382</th>\n",
       "      <th>Mtf_ZNF136</th>\n",
       "      <th>Mtf_ZNF41</th>\n",
       "      <th>Mtf_IRF/1</th>\n",
       "      <th>Mtf_RUNX/2</th>\n",
       "      <th>Mtf_ZNF320</th>\n",
       "      <th>Mtf_HD/20</th>\n",
       "      <th>...</th>\n",
       "      <th>Mtf_BCL6/1</th>\n",
       "      <th>Mtf_MYB/4</th>\n",
       "      <th>Mtf_HD/1</th>\n",
       "      <th>Mtf_HIF</th>\n",
       "      <th>Mtf_ZNF306</th>\n",
       "      <th>Mtf_ZNF547</th>\n",
       "      <th>Mtf_ZNF713</th>\n",
       "      <th>Mtf_GMEB2/1</th>\n",
       "      <th>Mtf_HINFP1/2</th>\n",
       "      <th>Mtf_ZBED1</th>\n",
       "    </tr>\n",
       "    <tr>\n",
       "      <th>Fragment</th>\n",
       "      <th></th>\n",
       "      <th></th>\n",
       "      <th></th>\n",
       "      <th></th>\n",
       "      <th></th>\n",
       "      <th></th>\n",
       "      <th></th>\n",
       "      <th></th>\n",
       "      <th></th>\n",
       "      <th></th>\n",
       "      <th></th>\n",
       "      <th></th>\n",
       "      <th></th>\n",
       "      <th></th>\n",
       "      <th></th>\n",
       "      <th></th>\n",
       "      <th></th>\n",
       "      <th></th>\n",
       "      <th></th>\n",
       "      <th></th>\n",
       "      <th></th>\n",
       "    </tr>\n",
       "  </thead>\n",
       "  <tbody>\n",
       "    <tr>\n",
       "      <th>chrX_47786401_47786600</th>\n",
       "      <td>6.700100</td>\n",
       "      <td>15.9435</td>\n",
       "      <td>8.4743</td>\n",
       "      <td>24.6662</td>\n",
       "      <td>2.6078</td>\n",
       "      <td>7.1286</td>\n",
       "      <td>5.3024</td>\n",
       "      <td>8.9312</td>\n",
       "      <td>5.6607</td>\n",
       "      <td>7.8543</td>\n",
       "      <td>...</td>\n",
       "      <td>0.0</td>\n",
       "      <td>0.0</td>\n",
       "      <td>0.0</td>\n",
       "      <td>0.0</td>\n",
       "      <td>0.0</td>\n",
       "      <td>0.0</td>\n",
       "      <td>0.0</td>\n",
       "      <td>0.0</td>\n",
       "      <td>0.0</td>\n",
       "      <td>0.0</td>\n",
       "    </tr>\n",
       "    <tr>\n",
       "      <th>chrX_47786951_47787150</th>\n",
       "      <td>5.008633</td>\n",
       "      <td>0.0000</td>\n",
       "      <td>8.4158</td>\n",
       "      <td>0.0000</td>\n",
       "      <td>0.0000</td>\n",
       "      <td>0.0000</td>\n",
       "      <td>0.0000</td>\n",
       "      <td>0.0000</td>\n",
       "      <td>0.0000</td>\n",
       "      <td>8.1885</td>\n",
       "      <td>...</td>\n",
       "      <td>0.0</td>\n",
       "      <td>0.0</td>\n",
       "      <td>0.0</td>\n",
       "      <td>0.0</td>\n",
       "      <td>0.0</td>\n",
       "      <td>0.0</td>\n",
       "      <td>0.0</td>\n",
       "      <td>0.0</td>\n",
       "      <td>0.0</td>\n",
       "      <td>0.0</td>\n",
       "    </tr>\n",
       "    <tr>\n",
       "      <th>chrX_47787001_47787200</th>\n",
       "      <td>11.829133</td>\n",
       "      <td>0.0000</td>\n",
       "      <td>8.4158</td>\n",
       "      <td>0.0000</td>\n",
       "      <td>0.0000</td>\n",
       "      <td>0.0000</td>\n",
       "      <td>0.0000</td>\n",
       "      <td>0.0000</td>\n",
       "      <td>0.0000</td>\n",
       "      <td>0.0000</td>\n",
       "      <td>...</td>\n",
       "      <td>0.0</td>\n",
       "      <td>0.0</td>\n",
       "      <td>0.0</td>\n",
       "      <td>0.0</td>\n",
       "      <td>0.0</td>\n",
       "      <td>0.0</td>\n",
       "      <td>0.0</td>\n",
       "      <td>0.0</td>\n",
       "      <td>0.0</td>\n",
       "      <td>0.0</td>\n",
       "    </tr>\n",
       "    <tr>\n",
       "      <th>chrX_47787051_47787250</th>\n",
       "      <td>11.829133</td>\n",
       "      <td>0.0000</td>\n",
       "      <td>0.0000</td>\n",
       "      <td>0.0000</td>\n",
       "      <td>0.0000</td>\n",
       "      <td>0.0000</td>\n",
       "      <td>0.0000</td>\n",
       "      <td>0.0000</td>\n",
       "      <td>0.0000</td>\n",
       "      <td>0.0000</td>\n",
       "      <td>...</td>\n",
       "      <td>0.0</td>\n",
       "      <td>0.0</td>\n",
       "      <td>0.0</td>\n",
       "      <td>0.0</td>\n",
       "      <td>0.0</td>\n",
       "      <td>0.0</td>\n",
       "      <td>0.0</td>\n",
       "      <td>0.0</td>\n",
       "      <td>0.0</td>\n",
       "      <td>0.0</td>\n",
       "    </tr>\n",
       "    <tr>\n",
       "      <th>chrX_47787101_47787300</th>\n",
       "      <td>11.829133</td>\n",
       "      <td>0.0000</td>\n",
       "      <td>8.8403</td>\n",
       "      <td>0.0000</td>\n",
       "      <td>0.0000</td>\n",
       "      <td>0.0000</td>\n",
       "      <td>0.0000</td>\n",
       "      <td>0.0000</td>\n",
       "      <td>0.0000</td>\n",
       "      <td>0.0000</td>\n",
       "      <td>...</td>\n",
       "      <td>0.0</td>\n",
       "      <td>0.0</td>\n",
       "      <td>0.0</td>\n",
       "      <td>0.0</td>\n",
       "      <td>0.0</td>\n",
       "      <td>0.0</td>\n",
       "      <td>0.0</td>\n",
       "      <td>0.0</td>\n",
       "      <td>0.0</td>\n",
       "      <td>0.0</td>\n",
       "    </tr>\n",
       "  </tbody>\n",
       "</table>\n",
       "<p>5 rows × 272 columns</p>\n",
       "</div>"
      ],
      "text/plain": [
       "                        Mtf_KLF/SP/2  Mtf_ZNF28  Mtf_FOX/4  Mtf_ZNF382  \\\n",
       "Fragment                                                                 \n",
       "chrX_47786401_47786600      6.700100    15.9435     8.4743     24.6662   \n",
       "chrX_47786951_47787150      5.008633     0.0000     8.4158      0.0000   \n",
       "chrX_47787001_47787200     11.829133     0.0000     8.4158      0.0000   \n",
       "chrX_47787051_47787250     11.829133     0.0000     0.0000      0.0000   \n",
       "chrX_47787101_47787300     11.829133     0.0000     8.8403      0.0000   \n",
       "\n",
       "                        Mtf_ZNF136  Mtf_ZNF41  Mtf_IRF/1  Mtf_RUNX/2  \\\n",
       "Fragment                                                               \n",
       "chrX_47786401_47786600      2.6078     7.1286     5.3024      8.9312   \n",
       "chrX_47786951_47787150      0.0000     0.0000     0.0000      0.0000   \n",
       "chrX_47787001_47787200      0.0000     0.0000     0.0000      0.0000   \n",
       "chrX_47787051_47787250      0.0000     0.0000     0.0000      0.0000   \n",
       "chrX_47787101_47787300      0.0000     0.0000     0.0000      0.0000   \n",
       "\n",
       "                        Mtf_ZNF320  Mtf_HD/20  ...  Mtf_BCL6/1  Mtf_MYB/4  \\\n",
       "Fragment                                       ...                          \n",
       "chrX_47786401_47786600      5.6607     7.8543  ...         0.0        0.0   \n",
       "chrX_47786951_47787150      0.0000     8.1885  ...         0.0        0.0   \n",
       "chrX_47787001_47787200      0.0000     0.0000  ...         0.0        0.0   \n",
       "chrX_47787051_47787250      0.0000     0.0000  ...         0.0        0.0   \n",
       "chrX_47787101_47787300      0.0000     0.0000  ...         0.0        0.0   \n",
       "\n",
       "                        Mtf_HD/1  Mtf_HIF  Mtf_ZNF306  Mtf_ZNF547  Mtf_ZNF713  \\\n",
       "Fragment                                                                        \n",
       "chrX_47786401_47786600       0.0      0.0         0.0         0.0         0.0   \n",
       "chrX_47786951_47787150       0.0      0.0         0.0         0.0         0.0   \n",
       "chrX_47787001_47787200       0.0      0.0         0.0         0.0         0.0   \n",
       "chrX_47787051_47787250       0.0      0.0         0.0         0.0         0.0   \n",
       "chrX_47787101_47787300       0.0      0.0         0.0         0.0         0.0   \n",
       "\n",
       "                        Mtf_GMEB2/1  Mtf_HINFP1/2  Mtf_ZBED1  \n",
       "Fragment                                                      \n",
       "chrX_47786401_47786600          0.0           0.0        0.0  \n",
       "chrX_47786951_47787150          0.0           0.0        0.0  \n",
       "chrX_47787001_47787200          0.0           0.0        0.0  \n",
       "chrX_47787051_47787250          0.0           0.0        0.0  \n",
       "chrX_47787101_47787300          0.0           0.0        0.0  \n",
       "\n",
       "[5 rows x 272 columns]"
      ]
     },
     "execution_count": 6,
     "metadata": {},
     "output_type": "execute_result"
    }
   ],
   "source": [
    "### convert dict of dict into a table\n",
    "dat_ant = pd.DataFrame.from_dict(dct_ann, orient=\"index\").fillna(0)\n",
    "dat_ant = dat_ant.add_prefix(\"Mtf_\")\n",
    "dat_ant.index.name = 'Fragment'\n",
    "\n",
    "### show the table\n",
    "print(dat_ant.shape)\n",
    "dat_ant.head()"
   ]
  },
  {
   "cell_type": "markdown",
   "id": "ed47d80b-c39c-4f3d-a420-2f5237f42bc9",
   "metadata": {},
   "source": [
    "## Project the annotation using UMAP and learn the projection"
   ]
  },
  {
   "cell_type": "code",
   "execution_count": 7,
   "id": "f36c5ba8-67cb-4304-abbc-e90089d7e800",
   "metadata": {},
   "outputs": [
    {
     "name": "stderr",
     "output_type": "stream",
     "text": [
      "/usr/local/lib/python3.6/dist-packages/umap/parametric_umap.py:150: UserWarning: tensorflow_probability not installed or incompatible to current                 tensorflow installation. Setting global_correlation_loss_weight to zero.\n",
      "  tensorflow installation. Setting global_correlation_loss_weight to zero.\"\n"
     ]
    }
   ],
   "source": [
    "### init\n",
    "SEED = 123\n",
    "tf.random.set_seed(SEED)\n",
    "np.random.seed(SEED)\n",
    "\n",
    "### setup the embedder\n",
    "embedder = ParametricUMAP(random_state=SEED, n_training_epochs=5)"
   ]
  },
  {
   "cell_type": "code",
   "execution_count": 8,
   "id": "f70cd4b9-9f2c-451a-b110-c5af70116a90",
   "metadata": {},
   "outputs": [
    {
     "name": "stdout",
     "output_type": "stream",
     "text": [
      "(52312, 272)\n",
      "(52312, 272)\n"
     ]
    }
   ],
   "source": [
    "### convert the table to a numpy array\n",
    "mat = dat_ant.to_numpy()\n",
    "print(dat_ant.shape)\n",
    "print(mat.shape)"
   ]
  },
  {
   "cell_type": "code",
   "execution_count": 9,
   "id": "237b7cbc-ce09-478d-ae15-42b668c1650f",
   "metadata": {},
   "outputs": [
    {
     "name": "stdout",
     "output_type": "stream",
     "text": [
      "Epoch 1/50\n",
      "6383/6383 [==============================] - 23s 3ms/step - loss: 0.2331\n",
      "Epoch 2/50\n",
      "6383/6383 [==============================] - 23s 4ms/step - loss: 0.2069\n",
      "Epoch 3/50\n",
      "6383/6383 [==============================] - 23s 4ms/step - loss: 0.1974\n",
      "Epoch 4/50\n",
      "6383/6383 [==============================] - 23s 4ms/step - loss: 0.1915\n",
      "Epoch 5/50\n",
      "6383/6383 [==============================] - 23s 4ms/step - loss: 0.1881\n",
      "Epoch 6/50\n",
      "6383/6383 [==============================] - 23s 4ms/step - loss: 0.1852\n",
      "Epoch 7/50\n",
      "6383/6383 [==============================] - 22s 3ms/step - loss: 0.1832\n",
      "Epoch 8/50\n",
      "6383/6383 [==============================] - 22s 4ms/step - loss: 0.1818\n",
      "Epoch 9/50\n",
      "6383/6383 [==============================] - 23s 4ms/step - loss: 0.1807\n",
      "Epoch 10/50\n",
      "6383/6383 [==============================] - 23s 4ms/step - loss: 0.1797\n",
      "Epoch 11/50\n",
      "6383/6383 [==============================] - 23s 4ms/step - loss: 0.1788\n",
      "Epoch 12/50\n",
      "6383/6383 [==============================] - 23s 4ms/step - loss: 0.1783\n",
      "Epoch 13/50\n",
      "6383/6383 [==============================] - 22s 4ms/step - loss: 0.1772\n",
      "Epoch 14/50\n",
      "6383/6383 [==============================] - 22s 3ms/step - loss: 0.1765\n",
      "Epoch 15/50\n",
      "6383/6383 [==============================] - 22s 3ms/step - loss: 0.1763\n",
      "Epoch 16/50\n",
      "6383/6383 [==============================] - 22s 3ms/step - loss: 0.1756\n",
      "Epoch 17/50\n",
      "6383/6383 [==============================] - 24s 4ms/step - loss: 0.1751\n",
      "Epoch 18/50\n",
      "6383/6383 [==============================] - 22s 4ms/step - loss: 0.1747\n",
      "Epoch 19/50\n",
      "6383/6383 [==============================] - 21s 3ms/step - loss: 0.1743\n",
      "Epoch 20/50\n",
      "6383/6383 [==============================] - 23s 4ms/step - loss: 0.1741\n",
      "Epoch 21/50\n",
      "6383/6383 [==============================] - 21s 3ms/step - loss: 0.1739\n",
      "Epoch 22/50\n",
      "6383/6383 [==============================] - 21s 3ms/step - loss: 0.1738\n",
      "Epoch 23/50\n",
      "6383/6383 [==============================] - 21s 3ms/step - loss: 0.1734\n",
      "Epoch 24/50\n",
      "6383/6383 [==============================] - 21s 3ms/step - loss: 0.1730\n",
      "Epoch 25/50\n",
      "6383/6383 [==============================] - 22s 3ms/step - loss: 0.1727\n",
      "Epoch 26/50\n",
      "6383/6383 [==============================] - 22s 3ms/step - loss: 0.1725\n",
      "Epoch 27/50\n",
      "6383/6383 [==============================] - 23s 4ms/step - loss: 0.1725\n",
      "Epoch 28/50\n",
      "6383/6383 [==============================] - 22s 3ms/step - loss: 0.1722\n",
      "Epoch 29/50\n",
      "6383/6383 [==============================] - 23s 4ms/step - loss: 0.1719\n",
      "Epoch 30/50\n",
      "6383/6383 [==============================] - 22s 3ms/step - loss: 0.1721\n",
      "Epoch 31/50\n",
      "6383/6383 [==============================] - 22s 3ms/step - loss: 0.1717\n",
      "Epoch 32/50\n",
      "6383/6383 [==============================] - 23s 4ms/step - loss: 0.1719\n",
      "Epoch 33/50\n",
      "6383/6383 [==============================] - 22s 3ms/step - loss: 0.1715\n",
      "Epoch 34/50\n",
      "6383/6383 [==============================] - 20s 3ms/step - loss: 0.1709\n",
      "Epoch 35/50\n",
      "6383/6383 [==============================] - 23s 4ms/step - loss: 0.1715\n",
      "Epoch 36/50\n",
      "6383/6383 [==============================] - 22s 3ms/step - loss: 0.1711\n",
      "Epoch 37/50\n",
      "6383/6383 [==============================] - 22s 3ms/step - loss: 0.1710\n",
      "Epoch 38/50\n",
      "6383/6383 [==============================] - 22s 3ms/step - loss: 0.1708\n",
      "Epoch 39/50\n",
      "6383/6383 [==============================] - 21s 3ms/step - loss: 0.1709\n",
      "Epoch 40/50\n",
      "6383/6383 [==============================] - 21s 3ms/step - loss: 0.1708\n",
      "Epoch 41/50\n",
      "6383/6383 [==============================] - 20s 3ms/step - loss: 0.1706\n",
      "Epoch 42/50\n",
      "6383/6383 [==============================] - 22s 3ms/step - loss: 0.1708\n",
      "Epoch 43/50\n",
      "6383/6383 [==============================] - 23s 4ms/step - loss: 0.1704\n",
      "Epoch 44/50\n",
      "6383/6383 [==============================] - 23s 4ms/step - loss: 0.1703\n",
      "Epoch 45/50\n",
      "6383/6383 [==============================] - 22s 4ms/step - loss: 0.1703\n",
      "Epoch 46/50\n",
      "6383/6383 [==============================] - 23s 4ms/step - loss: 0.1702\n",
      "Epoch 47/50\n",
      "6383/6383 [==============================] - 23s 4ms/step - loss: 0.1702\n",
      "Epoch 48/50\n",
      "6383/6383 [==============================] - 21s 3ms/step - loss: 0.1701\n",
      "Epoch 49/50\n",
      "6383/6383 [==============================] - 22s 3ms/step - loss: 0.1700\n",
      "Epoch 50/50\n",
      "6383/6383 [==============================] - 24s 4ms/step - loss: 0.1701\n",
      "CPU times: user 32min 43s, sys: 38.6 s, total: 33min 21s\n",
      "Wall time: 19min 19s\n"
     ]
    }
   ],
   "source": [
    "%%time\n",
    "embedding = embedder.fit_transform(mat)"
   ]
  },
  {
   "cell_type": "code",
   "execution_count": 10,
   "id": "6697d9cb-81c6-4c47-90c1-db6720442a6f",
   "metadata": {},
   "outputs": [
    {
     "name": "stdout",
     "output_type": "stream",
     "text": [
      "{'loss': [0.233145073056221, 0.20689861476421356, 0.19736464321613312, 0.19153355062007904, 0.18811781704425812, 0.1851664036512375, 0.18323886394500732, 0.181797593832016, 0.18068088591098785, 0.17966172099113464, 0.17877963185310364, 0.17830733954906464, 0.17717628180980682, 0.1765294075012207, 0.1763153225183487, 0.175639808177948, 0.1750688999891281, 0.17465363442897797, 0.1743009239435196, 0.1740771234035492, 0.17385819554328918, 0.17377106845378876, 0.1734078973531723, 0.17296388745307922, 0.17274868488311768, 0.17248503863811493, 0.17246361076831818, 0.17216099798679352, 0.17193645238876343, 0.1720592975616455, 0.17166902124881744, 0.1719379425048828, 0.17151570320129395, 0.17092429101467133, 0.1714829057455063, 0.1710878163576126, 0.17096218466758728, 0.17082801461219788, 0.17088176310062408, 0.17081864178180695, 0.17055833339691162, 0.17081022262573242, 0.1704450100660324, 0.17027148604393005, 0.1703374832868576, 0.1701798290014267, 0.17018641531467438, 0.1700599640607834, 0.16995923221111298, 0.17009933292865753]}\n"
     ]
    },
    {
     "data": {
      "text/plain": [
       "Text(0.5, 0, 'Epoch')"
      ]
     },
     "execution_count": 10,
     "metadata": {},
     "output_type": "execute_result"
    },
    {
     "data": {
      "image/png": "[encoded data removed]",
      "text/plain": [
       "<Figure size 432x288 with 1 Axes>"
      ]
     },
     "metadata": {
      "needs_background": "light"
     },
     "output_type": "display_data"
    }
   ],
   "source": [
    "print(embedder._history)\n",
    "fig, ax = plt.subplots()\n",
    "ax.plot(embedder._history['loss'])\n",
    "ax.set_ylabel('Cross Entropy')\n",
    "ax.set_xlabel('Epoch')"
   ]
  },
  {
   "cell_type": "code",
   "execution_count": 16,
   "id": "775c1382-1fde-4ec1-aa37-653bd03cfbd8",
   "metadata": {},
   "outputs": [
    {
     "data": {
      "text/plain": [
       "<matplotlib.collections.PathCollection at 0x7f661477a710>"
      ]
     },
     "execution_count": 16,
     "metadata": {},
     "output_type": "execute_result"
    },
    {
     "data": {
      "image/png": "[encoded data removed]",
      "text/plain": [
       "<Figure size 432x288 with 1 Axes>"
      ]
     },
     "metadata": {
      "needs_background": "light"
     },
     "output_type": "display_data"
    }
   ],
   "source": [
    "fig, ax = plt.subplots()\n",
    "x = embedding[:20000,0]\n",
    "y = embedding[:20000,1]\n",
    "ax.scatter(x, y, s=1)"
   ]
  },
  {
   "cell_type": "markdown",
   "id": "6c71651c-64e2-43a3-9cc8-41c395a5e6ff",
   "metadata": {},
   "source": [
    "## Store"
   ]
  },
  {
   "cell_type": "code",
   "execution_count": 17,
   "id": "1223fa29-42af-471e-8729-c2ec5caf7a1a",
   "metadata": {},
   "outputs": [
    {
     "name": "stdout",
     "output_type": "stream",
     "text": [
      "WARNING:tensorflow:Compiled the loaded model, but the compiled metrics have yet to be built. `model.compile_metrics` will be empty until you train or evaluate the model.\n",
      "INFO:tensorflow:Assets written to: /mount/work/out/proj_combeffect_encode_fcc/regulatory_landscape/embedder_TileMPRA_trn_epochs_05.P/encoder/assets\n",
      "Keras encoder model saved to /mount/work/out/proj_combeffect_encode_fcc/regulatory_landscape/embedder_TileMPRA_trn_epochs_05.P/encoder\n",
      "INFO:tensorflow:Assets written to: /mount/work/out/proj_combeffect_encode_fcc/regulatory_landscape/embedder_TileMPRA_trn_epochs_05.P/parametric_model/assets\n",
      "Keras full model saved to /mount/work/out/proj_combeffect_encode_fcc/regulatory_landscape/embedder_TileMPRA_trn_epochs_05.P/parametric_model\n",
      "Pickle of ParametricUMAP model saved to /mount/work/out/proj_combeffect_encode_fcc/regulatory_landscape/embedder_TileMPRA_trn_epochs_05.P/model.pkl\n"
     ]
    }
   ],
   "source": [
    "fdiry = os.path.join(FD_RES, \"regulatory_landscape\")\n",
    "fname = \"embedder_TileMPRA_trn_epochs_05.P\"\n",
    "fpath = os.path.join(fdiry, fname)\n",
    "embedder.save(fpath)"
   ]
  },
  {
   "cell_type": "code",
   "execution_count": 19,
   "id": "0e653d7d-f84f-4c8c-a2f4-f604fc18526a",
   "metadata": {},
   "outputs": [],
   "source": [
    "fdiry = os.path.join(FD_RES, \"regulatory_landscape\")\n",
    "fname = \"dat_annot_TileMPRA.csv\"\n",
    "fpath = os.path.join(fdiry, fname)\n",
    "dat_ant.to_csv(fpath)"
   ]
  },
  {
   "cell_type": "code",
   "execution_count": null,
   "id": "4c2f5a67-e3c4-460f-92fd-8c45cc770ede",
   "metadata": {},
   "outputs": [],
   "source": []
  },
  {
   "cell_type": "code",
   "execution_count": null,
   "id": "55b7539e-a51e-4e30-99ad-906c34d7e7eb",
   "metadata": {},
   "outputs": [],
   "source": []
  },
  {
   "cell_type": "code",
   "execution_count": 9,
   "id": "868c4e48-ddf2-4aba-8928-f80f85bea2f7",
   "metadata": {},
   "outputs": [
    {
     "name": "stdout",
     "output_type": "stream",
     "text": [
      "Epoch 1/10\n",
      "304/304 [==============================] - 2s 3ms/step - loss: 0.6027\n",
      "Epoch 2/10\n",
      "304/304 [==============================] - 1s 3ms/step - loss: 0.5795\n",
      "Epoch 3/10\n",
      "304/304 [==============================] - 1s 2ms/step - loss: 0.5680\n",
      "Epoch 4/10\n",
      "304/304 [==============================] - 1s 2ms/step - loss: 0.5776\n",
      "Epoch 5/10\n",
      "304/304 [==============================] - 1s 3ms/step - loss: 0.5707\n",
      "Epoch 6/10\n",
      "304/304 [==============================] - 1s 2ms/step - loss: 0.5897\n",
      "Epoch 7/10\n",
      "304/304 [==============================] - 1s 2ms/step - loss: 0.5754\n",
      "Epoch 8/10\n",
      "304/304 [==============================] - 1s 2ms/step - loss: 0.5778\n",
      "Epoch 9/10\n",
      "304/304 [==============================] - 1s 2ms/step - loss: 0.5781\n",
      "Epoch 10/10\n",
      "304/304 [==============================] - 1s 2ms/step - loss: 0.5700\n"
     ]
    }
   ],
   "source": [
    "embedding = embedder.fit_transform(mat)"
   ]
  },
  {
   "cell_type": "code",
   "execution_count": 10,
   "id": "ba18d5a4-7dda-4bcb-9167-eae37ba5aabf",
   "metadata": {},
   "outputs": [
    {
     "name": "stdout",
     "output_type": "stream",
     "text": [
      "{'loss': [0.6026752591133118, 0.57953941822052, 0.5679945349693298, 0.5776426196098328, 0.5707141160964966, 0.5897448658943176, 0.5753776431083679, 0.5777857303619385, 0.5781247615814209, 0.5700395107269287]}\n"
     ]
    },
    {
     "data": {
      "text/plain": [
       "Text(0.5, 0, 'Epoch')"
      ]
     },
     "execution_count": 10,
     "metadata": {},
     "output_type": "execute_result"
    },
    {
     "data": {
      "image/png": "[encoded data removed]",
      "text/plain": [
       "<Figure size 432x288 with 1 Axes>"
      ]
     },
     "metadata": {
      "needs_background": "light"
     },
     "output_type": "display_data"
    }
   ],
   "source": [
    "print(embedder._history)\n",
    "fig, ax = plt.subplots()\n",
    "ax.plot(embedder._history['loss'])\n",
    "ax.set_ylabel('Cross Entropy')\n",
    "ax.set_xlabel('Epoch')"
   ]
  },
  {
   "cell_type": "code",
   "execution_count": 11,
   "id": "06441908-0971-4b6e-bdd5-a43553fe0494",
   "metadata": {},
   "outputs": [
    {
     "data": {
      "text/plain": [
       "<matplotlib.collections.PathCollection at 0x7f4eb03f6080>"
      ]
     },
     "execution_count": 11,
     "metadata": {},
     "output_type": "execute_result"
    },
    {
     "data": {
      "image/png": "[encoded data removed]",
      "text/plain": [
       "<Figure size 432x288 with 1 Axes>"
      ]
     },
     "metadata": {
      "needs_background": "light"
     },
     "output_type": "display_data"
    }
   ],
   "source": [
    "fig, ax = plt.subplots()\n",
    "x = embedding[:,0]\n",
    "y = embedding[:,1]\n",
    "ax.scatter(x, y)"
   ]
  },
  {
   "cell_type": "markdown",
   "id": "41542cec-54c7-4786-8ea2-1422d7293fb4",
   "metadata": {},
   "source": [
    "-----"
   ]
  },
  {
   "cell_type": "code",
   "execution_count": 12,
   "id": "4be703f6-54de-43b3-bca8-d79f1749a2ea",
   "metadata": {},
   "outputs": [
    {
     "name": "stdout",
     "output_type": "stream",
     "text": [
      "Epoch 1/10\n",
      "304/304 [==============================] - 36s 2ms/step - loss: 0.6250\n",
      "Epoch 2/10\n",
      "304/304 [==============================] - 1s 2ms/step - loss: 0.6027\n",
      "Epoch 3/10\n",
      "304/304 [==============================] - 1s 2ms/step - loss: 0.5839\n",
      "Epoch 4/10\n",
      "304/304 [==============================] - 1s 2ms/step - loss: 0.5823\n",
      "Epoch 5/10\n",
      "304/304 [==============================] - 1s 2ms/step - loss: 0.5809\n",
      "Epoch 6/10\n",
      "304/304 [==============================] - 1s 2ms/step - loss: 0.5774\n",
      "Epoch 7/10\n",
      "304/304 [==============================] - 1s 2ms/step - loss: 0.5744\n",
      "Epoch 8/10\n",
      "304/304 [==============================] - 1s 2ms/step - loss: 0.5787\n",
      "Epoch 9/10\n",
      "304/304 [==============================] - 1s 2ms/step - loss: 0.5803\n",
      "Epoch 10/10\n",
      "304/304 [==============================] - 1s 2ms/step - loss: 0.5826\n"
     ]
    }
   ],
   "source": [
    "embedding = embedder.fit_transform(mat)"
   ]
  },
  {
   "cell_type": "code",
   "execution_count": 13,
   "id": "3b906bfb-6693-4edf-923e-6107df878fb9",
   "metadata": {},
   "outputs": [
    {
     "name": "stdout",
     "output_type": "stream",
     "text": [
      "{'loss': [0.6249756813049316, 0.6027253866195679, 0.5839242935180664, 0.5823066234588623, 0.5809210538864136, 0.577443540096283, 0.5744251012802124, 0.5786588788032532, 0.5802567601203918, 0.5825533866882324]}\n"
     ]
    },
    {
     "data": {
      "text/plain": [
       "Text(0.5, 0, 'Epoch')"
      ]
     },
     "execution_count": 13,
     "metadata": {},
     "output_type": "execute_result"
    },
    {
     "data": {
      "image/png": "[encoded data removed]",
      "text/plain": [
       "<Figure size 432x288 with 1 Axes>"
      ]
     },
     "metadata": {
      "needs_background": "light"
     },
     "output_type": "display_data"
    }
   ],
   "source": [
    "print(embedder._history)\n",
    "fig, ax = plt.subplots()\n",
    "ax.plot(embedder._history['loss'])\n",
    "ax.set_ylabel('Cross Entropy')\n",
    "ax.set_xlabel('Epoch')"
   ]
  },
  {
   "cell_type": "code",
   "execution_count": 14,
   "id": "45aa6277-014d-4fa3-aa35-08d16694c8ac",
   "metadata": {},
   "outputs": [
    {
     "data": {
      "text/plain": [
       "numpy.ndarray"
      ]
     },
     "execution_count": 14,
     "metadata": {},
     "output_type": "execute_result"
    }
   ],
   "source": [
    "type(embedding)"
   ]
  },
  {
   "cell_type": "code",
   "execution_count": 16,
   "id": "a9828f51-28f7-4021-a109-a2a918bd2ec9",
   "metadata": {},
   "outputs": [
    {
     "data": {
      "text/plain": [
       "(45, 2)"
      ]
     },
     "execution_count": 16,
     "metadata": {},
     "output_type": "execute_result"
    }
   ],
   "source": [
    "embedding.shape"
   ]
  },
  {
   "cell_type": "code",
   "execution_count": 17,
   "id": "a90ab5c2-c8fa-492a-a7e3-12e668c29d48",
   "metadata": {},
   "outputs": [
    {
     "data": {
      "text/plain": [
       "<matplotlib.collections.PathCollection at 0x7fa24c6df4e0>"
      ]
     },
     "execution_count": 17,
     "metadata": {},
     "output_type": "execute_result"
    },
    {
     "data": {
      "image/png": "[encoded data removed]",
      "text/plain": [
       "<Figure size 432x288 with 1 Axes>"
      ]
     },
     "metadata": {
      "needs_background": "light"
     },
     "output_type": "display_data"
    }
   ],
   "source": [
    "fig, ax = plt.subplots()\n",
    "x = embedding[:,0]\n",
    "y = embedding[:,1]\n",
    "ax.scatter(x, y)"
   ]
  },
  {
   "cell_type": "code",
   "execution_count": 19,
   "id": "9b1eb429-391b-4ee7-89b3-31ede684c77e",
   "metadata": {},
   "outputs": [
    {
     "name": "stdout",
     "output_type": "stream",
     "text": [
      "Model: \"sequential\"\n",
      "_________________________________________________________________\n",
      "Layer (type)                 Output Shape              Param #   \n",
      "=================================================================\n",
      "flatten (Flatten)            (None, 153)               0         \n",
      "_________________________________________________________________\n",
      "dense (Dense)                (None, 100)               15400     \n",
      "_________________________________________________________________\n",
      "dense_1 (Dense)              (None, 100)               10100     \n",
      "_________________________________________________________________\n",
      "dense_2 (Dense)              (None, 100)               10100     \n",
      "_________________________________________________________________\n",
      "z (Dense)                    (None, 2)                 202       \n",
      "=================================================================\n",
      "Total params: 35,802\n",
      "Trainable params: 35,802\n",
      "Non-trainable params: 0\n",
      "_________________________________________________________________\n"
     ]
    }
   ],
   "source": [
    "embedder.encoder.summary()"
   ]
  },
  {
   "cell_type": "code",
   "execution_count": 22,
   "id": "9c4ef7c6-6d0b-436a-9444-ef0fea62c891",
   "metadata": {},
   "outputs": [
    {
     "name": "stdout",
     "output_type": "stream",
     "text": [
      "WARNING:tensorflow:Compiled the loaded model, but the compiled metrics have yet to be built. `model.compile_metrics` will be empty until you train or evaluate the model.\n",
      "INFO:tensorflow:Assets written to: /mount/work/out/proj_combeffect_encode_fcc/regulatory_landscape/embedder_TileMPRA.P/encoder/assets\n",
      "Keras encoder model saved to /mount/work/out/proj_combeffect_encode_fcc/regulatory_landscape/embedder_TileMPRA.P/encoder\n",
      "INFO:tensorflow:Assets written to: /mount/work/out/proj_combeffect_encode_fcc/regulatory_landscape/embedder_TileMPRA.P/parametric_model/assets\n",
      "Keras full model saved to /mount/work/out/proj_combeffect_encode_fcc/regulatory_landscape/embedder_TileMPRA.P/parametric_model\n",
      "Pickle of ParametricUMAP model saved to /mount/work/out/proj_combeffect_encode_fcc/regulatory_landscape/embedder_TileMPRA.P/model.pkl\n"
     ]
    }
   ],
   "source": [
    "fdiry = os.path.join(FD_RES, \"regulatory_landscape\")\n",
    "fname = \"embedder_TileMPRA_n_training_epochs.P\"\n",
    "fpath = os.path.join(fdiry, fname)\n",
    "embedder.save(fpath)"
   ]
  },
  {
   "cell_type": "code",
   "execution_count": 23,
   "id": "d5c495bd-9f30-45de-992f-5ae5da196d82",
   "metadata": {},
   "outputs": [],
   "source": [
    "from umap.parametric_umap import load_ParametricUMAP"
   ]
  },
  {
   "cell_type": "code",
   "execution_count": 24,
   "id": "36c8fa09-3212-4470-aa9b-d952d73acd52",
   "metadata": {},
   "outputs": [
    {
     "name": "stdout",
     "output_type": "stream",
     "text": [
      "Pickle of ParametricUMAP model loaded from /mount/work/out/proj_combeffect_encode_fcc/regulatory_landscape/embedder_TileMPRA.P/model.pkl\n",
      "WARNING:tensorflow:No training configuration found in save file, so the model was *not* compiled. Compile it manually.\n",
      "Keras encoder model loaded from /mount/work/out/proj_combeffect_encode_fcc/regulatory_landscape/embedder_TileMPRA.P/encoder\n",
      "Keras full model loaded from /mount/work/out/proj_combeffect_encode_fcc/regulatory_landscape/embedder_TileMPRA.P/parametric_model\n",
      "ParametricUMAP(batch_size=45, dims=[153], encoder=<keras.engine.sequential.Sequential object at 0x7fa259731978>, optimizer=<keras.optimizer_v2.adam.Adam object at 0x7fa2583946a0>, parametric_reconstruction_loss_fcn=<keras.losses.BinaryCrossentropy object at 0x7fa24c532ac8>)\n"
     ]
    }
   ],
   "source": [
    "embedder_test = load_ParametricUMAP(fpath)\n",
    "print(embedder_test)"
   ]
  },
  {
   "cell_type": "code",
   "execution_count": 26,
   "id": "f7f7826e-64c3-4718-90dc-93da5568d6b3",
   "metadata": {},
   "outputs": [
    {
     "data": {
      "text/plain": [
       "(45, 2)"
      ]
     },
     "execution_count": 26,
     "metadata": {},
     "output_type": "execute_result"
    }
   ],
   "source": [
    "tmp = embedder_test.transform(mat)\n",
    "tmp.shape"
   ]
  },
  {
   "cell_type": "code",
   "execution_count": 27,
   "id": "5bab67ae-2718-4e11-9a47-48afbf8b4ca8",
   "metadata": {},
   "outputs": [
    {
     "data": {
      "text/plain": [
       "<matplotlib.collections.PathCollection at 0x7fa25babe080>"
      ]
     },
     "execution_count": 27,
     "metadata": {},
     "output_type": "execute_result"
    },
    {
     "data": {
      "image/png": "[encoded data removed]",
      "text/plain": [
       "<Figure size 432x288 with 1 Axes>"
      ]
     },
     "metadata": {
      "needs_background": "light"
     },
     "output_type": "display_data"
    }
   ],
   "source": [
    "fig, ax = plt.subplots()\n",
    "x = embedding[:,0]\n",
    "y = embedding[:,1]\n",
    "ax.scatter(x, y)"
   ]
  },
  {
   "cell_type": "code",
   "execution_count": 28,
   "id": "ee505fbd-6505-400b-8b0a-b76f667990b0",
   "metadata": {},
   "outputs": [
    {
     "data": {
      "text/plain": [
       "<matplotlib.collections.PathCollection at 0x7fa25baf1da0>"
      ]
     },
     "execution_count": 28,
     "metadata": {},
     "output_type": "execute_result"
    },
    {
     "data": {
      "image/png": "[encoded data removed]",
      "text/plain": [
       "<Figure size 432x288 with 1 Axes>"
      ]
     },
     "metadata": {
      "needs_background": "light"
     },
     "output_type": "display_data"
    }
   ],
   "source": [
    "fig, ax = plt.subplots()\n",
    "x = tmp[:,0]\n",
    "y = tmp[:,1]\n",
    "ax.scatter(x, y)"
   ]
  },
  {
   "cell_type": "code",
   "execution_count": null,
   "id": "725231ba-e7a0-4655-8a81-e8e59b9dcc74",
   "metadata": {},
   "outputs": [],
   "source": []
  }
 ],
 "metadata": {
  "kernelspec": {
   "display_name": "Python 3",
   "language": "python",
   "name": "python3"
  },
  "language_info": {
   "codemirror_mode": {
    "name": "ipython",
    "version": 3
   },
   "file_extension": ".py",
   "mimetype": "text/x-python",
   "name": "python",
   "nbconvert_exporter": "python",
   "pygments_lexer": "ipython3",
   "version": "3.6.9"
  }
 },
 "nbformat": 4,
 "nbformat_minor": 5
}
