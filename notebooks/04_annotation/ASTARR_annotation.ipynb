{
 "cells": [
  {
   "cell_type": "markdown",
   "id": "871b2052-34b4-4fe0-8037-8ee92bacd332",
   "metadata": {},
   "source": [
    "# Annotate fragment using nonRedundant TF archetype\n",
    "\n",
    "**Set environment**"
   ]
  },
  {
   "cell_type": "code",
   "execution_count": 1,
   "id": "540a871d-03a8-4345-b4b8-41f4b1472666",
   "metadata": {},
   "outputs": [
    {
     "name": "stdout",
     "output_type": "stream",
     "text": [
      "You are on Duke Server: HARDAC\n",
      "BASE DIRECTORY:     /gpfs/fs1/data/reddylab/Kuei\n",
      "PATH OF SOURCE:     /gpfs/fs1/data/reddylab/Kuei/source\n",
      "PATH OF EXECUTABLE: /gpfs/fs1/data/reddylab/Kuei/exe\n",
      "PATH OF ANNOTATION: /gpfs/fs1/data/reddylab/Kuei/annotation\n",
      "PATH OF PROJECT:    /gpfs/fs1/data/reddylab/Kuei/GitRepo/Proj_ENCODE_FCC/notebooks\n",
      "PATH OF RESULTS:    /gpfs/fs1/data/reddylab/Kuei/out/proj_encode_fcc\n",
      "\n"
     ]
    }
   ],
   "source": [
    "### set env\n",
    "source ../config_duke.sh -v\n",
    "source ../config_load_module_bedtools.sh"
   ]
  },
  {
   "cell_type": "code",
   "execution_count": 2,
   "id": "ebd00a44-1842-471b-972f-b53cf4204f4f",
   "metadata": {},
   "outputs": [
    {
     "name": "stdout",
     "output_type": "stream",
     "text": [
      "KS91_K562_hg38_ASTARRseq_Input_rep1.GATA1.unstranded.dedups.bed\n",
      "KS91_K562_hg38_ASTARRseq_Input_rep2.GATA1.unstranded.dedups.bed\n",
      "KS91_K562_hg38_ASTARRseq_Input_rep3.GATA1.unstranded.dedups.bed\n",
      "KS91_K562_hg38_ASTARRseq_Input_rep4.GATA1.unstranded.dedups.bed\n",
      "KS91_K562_hg38_ASTARRseq_Input_rep5.GATA1.unstranded.dedups.bed\n",
      "KS91_K562_hg38_ASTARRseq_Input_rep6.GATA1.unstranded.dedups.bed\n",
      "KS91_K562_hg38_ASTARRseq_Output_rep1.GATA1.unstranded.bed\n",
      "KS91_K562_hg38_ASTARRseq_Output_rep2.GATA1.unstranded.bed\n",
      "KS91_K562_hg38_ASTARRseq_Output_rep3.GATA1.unstranded.bed\n",
      "KS91_K562_hg38_ASTARRseq_Output_rep4.GATA1.unstranded.bed\n"
     ]
    }
   ],
   "source": [
    "ls ${FD_RES}/KS91_K562_ASTARRseq/count"
   ]
  },
  {
   "cell_type": "code",
   "execution_count": 3,
   "id": "503a1a27-3786-467c-9bef-35da94aec00f",
   "metadata": {},
   "outputs": [
    {
     "name": "stdout",
     "output_type": "stream",
     "text": [
      "/gpfs/fs1/data/reddylab/Kuei/out/proj_encode_fcc/KS91_K562_ASTARRseq/count/KS91_K562_hg38_ASTARRseq_Input_rep1.GATA1.unstranded.dedups.bed\n",
      "KS91_K562_hg38_ASTARRseq_Input_rep1.GATA1.unstranded.dedups.bed\n"
     ]
    }
   ],
   "source": [
    "FP_BEDS=($(ls ${FD_RES}/KS91_K562_ASTARRseq/count/*bed))\n",
    "\n",
    "IDX=0\n",
    "FP_BED=${FP_BEDS[${IDX}]}\n",
    "FN_BED=$(basename ${FP_BED})\n",
    "\n",
    "echo ${FP_BED}\n",
    "echo ${FN_BED}"
   ]
  },
  {
   "cell_type": "markdown",
   "id": "e2a3e652-9bf4-41bf-9712-a4bf2b57015d",
   "metadata": {},
   "source": [
    "## RUN"
   ]
  },
  {
   "cell_type": "code",
   "execution_count": 4,
   "id": "076cec6b-ee48-4928-9bc3-6d0685df0f95",
   "metadata": {},
   "outputs": [
    {
     "name": "stdout",
     "output_type": "stream",
     "text": [
      "\u001b[0m\u001b[38;5;27m/gpfs/fs1/data/reddylab/Kuei/out/proj_encode_fcc/log\u001b[0m\n",
      "all\n"
     ]
    }
   ],
   "source": [
    "ls -d ${FD_LOG}\n",
    "echo ${NODE}"
   ]
  },
  {
   "cell_type": "code",
   "execution_count": 5,
   "id": "c76fc753-86d2-4677-811d-0ed2689c1f27",
   "metadata": {},
   "outputs": [
    {
     "name": "stdout",
     "output_type": "stream",
     "text": [
      "Submitted batch job 27849232\n"
     ]
    }
   ],
   "source": [
    "sbatch -p ${NODE} \\\n",
    "    --mem 20G \\\n",
    "    --array 0-9 \\\n",
    "    -o ${FD_LOG}/ASTARR_annotation.%a.txt \\\n",
    "    <<'EOF'\n",
    "#!/bin/bash\n",
    "### set directories & global variables\n",
    "source ../config_duke.sh\n",
    "CHROM=chrX\n",
    "\n",
    "### set input and output\n",
    "FP_BEDS=($(ls ${FD_RES}/KS91_K562_ASTARRseq/fragment/*bed))\n",
    "FP_BED=${FP_BEDS[${SLURM_ARRAY_TASK_ID}]}\n",
    "\n",
    "FD_OUT=${FD_RES}/KS91_K562_ASTARRseq/annotation\n",
    "FN_OUT=$(basename ${FP_BED}).gz\n",
    "\n",
    "### motif annotation\n",
    "FD_MTF=${FD_ANN}/motif_cluster_jvierstra/hg38_archetype_motifs_v1\n",
    "FN_MTF=${CHROM}_rm_mouse_merge.bed.gz\n",
    "\n",
    "### print start message\n",
    "timer_start=`date +%s`\n",
    "echo \"Slurm Array Index: \" ${SLURM_ARRAY_TASK_ID}\n",
    "echo \"Time Stamp:        \" $(date +\"%m-%d-%y+%T\")\n",
    "echo\n",
    "echo \"Input  file: \" ${FP_BED}\n",
    "echo \"Output file: \" ${FD_OUT}/${FN_OUT}\n",
    "echo\n",
    "echo \"Show the first few lines of the input file\"\n",
    "echo ${FP_BED}\n",
    "cat  ${FP_BED} | head -n 3 \n",
    "echo\n",
    "    \n",
    "### init: create output folder if not exist\n",
    "mkdir -p ${FD_OUT}\n",
    "\n",
    "### annotation using intersect\n",
    "bedtools intersect -a ${FP_BED} -b ${FD_MTF}/${FN_MTF} -wo -F 1.0 |\\\n",
    "    gzip -c > ${FD_OUT}/${FN_OUT}\n",
    "\n",
    "### print end message\n",
    "echo \"Show the first few lines of the output file\"\n",
    "echo ${FD_OUT}/${FN_OUT}\n",
    "zcat ${FD_OUT}/${FN_OUT} | head -n 3\n",
    "echo\n",
    "\n",
    "timer=`date +%s`\n",
    "runtime=$(echo \"${timer} - ${timer_start}\" | bc -l)\n",
    "echo\n",
    "echo 'Done!'\n",
    "echo \"Run Time: $(displaytime ${runtime})\"\n",
    "\n",
    "EOF"
   ]
  },
  {
   "cell_type": "markdown",
   "id": "cfd42a6c-fb32-47c0-a4f3-b4e11cca59ed",
   "metadata": {},
   "source": [
    "## CHECK"
   ]
  },
  {
   "cell_type": "code",
   "execution_count": 6,
   "id": "7712daea-bb89-4de6-ba9f-cc6037dae2f9",
   "metadata": {},
   "outputs": [
    {
     "name": "stdout",
     "output_type": "stream",
     "text": [
      "\u001b[0m\u001b[38;5;9mKS91_K562_hg38_ASTARRseq_Input_rep1.GATA1.unstranded.dedups.bed.gz\u001b[0m\n",
      "\u001b[38;5;9mKS91_K562_hg38_ASTARRseq_Input_rep2.GATA1.unstranded.dedups.bed.gz\u001b[0m\n",
      "\u001b[38;5;9mKS91_K562_hg38_ASTARRseq_Input_rep3.GATA1.unstranded.dedups.bed.gz\u001b[0m\n",
      "\u001b[38;5;9mKS91_K562_hg38_ASTARRseq_Input_rep4.GATA1.unstranded.dedups.bed.gz\u001b[0m\n",
      "\u001b[38;5;9mKS91_K562_hg38_ASTARRseq_Input_rep5.GATA1.unstranded.dedups.bed.gz\u001b[0m\n",
      "\u001b[38;5;9mKS91_K562_hg38_ASTARRseq_Input_rep6.GATA1.unstranded.dedups.bed.gz\u001b[0m\n",
      "\u001b[38;5;9mKS91_K562_hg38_ASTARRseq_Output_rep1.GATA1.unstranded.bed.gz\u001b[0m\n",
      "\u001b[38;5;9mKS91_K562_hg38_ASTARRseq_Output_rep2.GATA1.unstranded.bed.gz\u001b[0m\n",
      "\u001b[38;5;9mKS91_K562_hg38_ASTARRseq_Output_rep3.GATA1.unstranded.bed.gz\u001b[0m\n",
      "\u001b[38;5;9mKS91_K562_hg38_ASTARRseq_Output_rep4.GATA1.unstranded.bed.gz\u001b[0m\n"
     ]
    }
   ],
   "source": [
    "ls ${FD_RES}/KS91_K562_ASTARRseq/annotation"
   ]
  },
  {
   "cell_type": "code",
   "execution_count": 6,
   "id": "913d10a6-eaf4-46aa-88bc-443750409ef9",
   "metadata": {},
   "outputs": [
    {
     "name": "stdout",
     "output_type": "stream",
     "text": [
      "Slurm Array Index:  0\n",
      "Time Stamp:         03-24-22+22:17:52\n",
      "\n",
      "Input  file:  /gpfs/fs1/data/reddylab/Kuei/out/proj_encode_fcc/KS91_K562_ASTARRseq/fragment/KS91_K562_hg38_ASTARRseq_Input_rep1.GATA1.unstranded.dedups.bed\n",
      "Output file:  /gpfs/fs1/data/reddylab/Kuei/out/proj_encode_fcc/KS91_K562_ASTARRseq/annotation/KS91_K562_hg38_ASTARRseq_Input_rep1.GATA1.unstranded.dedups.bed.gz\n",
      "\n",
      "Show the first few lines of the input file\n",
      "/gpfs/fs1/data/reddylab/Kuei/out/proj_encode_fcc/KS91_K562_ASTARRseq/fragment/KS91_K562_hg38_ASTARRseq_Input_rep1.GATA1.unstranded.dedups.bed\n",
      "chrX\t47787165\t47787363\tchrX_47787165_47787363\n",
      "chrX\t47787557\t47787773\tchrX_47787557_47787773\n",
      "chrX\t47787593\t47787783\tchrX_47787593_47787783\n",
      "\n",
      "Show the first few lines of the output file\n",
      "/gpfs/fs1/data/reddylab/Kuei/out/proj_encode_fcc/KS91_K562_ASTARRseq/annotation/KS91_K562_hg38_ASTARRseq_Input_rep1.GATA1.unstranded.dedups.bed.gz\n",
      "chrX\t47787165\t47787363\tchrX_47787165_47787363\tchrX\t47787180\t47787190\tFOX/8\t5.1151\t10\n",
      "chrX\t47787165\t47787363\tchrX_47787165_47787363\tchrX\t47787182\t47787192\tHINFP1/1\t8.8688\t10\n",
      "chrX\t47787165\t47787363\tchrX_47787165_47787363\tchrX\t47787194\t47787216\tZNF146\t1.8019\t22\n",
      "\n",
      "\n",
      "Done!\n",
      "Run Time: 2 minutes and 42 seconds\n"
     ]
    }
   ],
   "source": [
    "cat ${FD_LOG}/ASTARR_annotation.0.txt"
   ]
  },
  {
   "cell_type": "code",
   "execution_count": 7,
   "id": "8ff0f10b-3129-4731-81e1-68bbc80b0b2d",
   "metadata": {},
   "outputs": [
    {
     "name": "stdout",
     "output_type": "stream",
     "text": [
      "Slurm Array Index:  0\n",
      "Time Stamp:         03-22-22+23:20:38\n",
      "\n",
      "Input  file:  /gpfs/fs1/data/reddylab/Kuei/out/proj_encode_fcc/KS91_K562_ASTARRseq/fragment/KS91_K562_hg38_ASTARRseq_Input_rep1.GATA1.unstranded.dedups.bed\n",
      "Output file:  /gpfs/fs1/data/reddylab/Kuei/out/proj_encode_fcc/KS91_K562_ASTARRseq/annotation/KS91_K562_hg38_ASTARRseq_Input_rep1.GATA1.unstranded.dedups.bed\n",
      "\n",
      "Show the first few lines of the input file\n",
      "/gpfs/fs1/data/reddylab/Kuei/out/proj_encode_fcc/KS91_K562_ASTARRseq/fragment/KS91_K562_hg38_ASTARRseq_Input_rep1.GATA1.unstranded.dedups.bed\n",
      "chrX\t47787165\t47787363\tchrX_47787165_47787363\n",
      "chrX\t47787557\t47787773\tchrX_47787557_47787773\n",
      "chrX\t47787593\t47787783\tchrX_47787593_47787783\n",
      "\n",
      "Show the first few lines of the output file\n",
      "/gpfs/fs1/data/reddylab/Kuei/out/proj_encode_fcc/KS91_K562_ASTARRseq/annotation/KS91_K562_hg38_ASTARRseq_Input_rep1.GATA1.unstranded.dedups.bed\n",
      "chrX\t47787165\t47787363\tchrX_47787165_47787363\tchrX\t47787140\t47787167\tKLF/SP/2\t6.8205\t2\n",
      "chrX\t47787165\t47787363\tchrX_47787165_47787363\tchrX\t47787163\t47787180\tZNF85\t10.896\t15\n",
      "chrX\t47787165\t47787363\tchrX_47787165_47787363\tchrX\t47787180\t47787190\tFOX/8\t5.1151\t10\n",
      "\n",
      "\n",
      "Done!\n",
      "Run Time: 2 minutes and 18 seconds\n"
     ]
    }
   ],
   "source": [
    "cat ${FD_LOG}/ASTARR_annotation.0.txt"
   ]
  },
  {
   "cell_type": "code",
   "execution_count": 7,
   "id": "159f9f83-333d-401e-89f7-45bd5995a042",
   "metadata": {},
   "outputs": [
    {
     "name": "stdout",
     "output_type": "stream",
     "text": [
      "Slurm Array Index:  9\n",
      "Time Stamp:         03-24-22+22:17:52\n",
      "\n",
      "Input  file:  /gpfs/fs1/data/reddylab/Kuei/out/proj_encode_fcc/KS91_K562_ASTARRseq/fragment/KS91_K562_hg38_ASTARRseq_Output_rep4.GATA1.unstranded.bed\n",
      "Output file:  /gpfs/fs1/data/reddylab/Kuei/out/proj_encode_fcc/KS91_K562_ASTARRseq/annotation/KS91_K562_hg38_ASTARRseq_Output_rep4.GATA1.unstranded.bed.gz\n",
      "\n",
      "Show the first few lines of the input file\n",
      "/gpfs/fs1/data/reddylab/Kuei/out/proj_encode_fcc/KS91_K562_ASTARRseq/fragment/KS91_K562_hg38_ASTARRseq_Output_rep4.GATA1.unstranded.bed\n",
      "chrX\t47787173\t47787363\tchrX_47787173_47787363\n",
      "chrX\t47787173\t47787363\tchrX_47787173_47787363\n",
      "chrX\t47787173\t47787363\tchrX_47787173_47787363\n",
      "\n",
      "Show the first few lines of the output file\n",
      "/gpfs/fs1/data/reddylab/Kuei/out/proj_encode_fcc/KS91_K562_ASTARRseq/annotation/KS91_K562_hg38_ASTARRseq_Output_rep4.GATA1.unstranded.bed.gz\n",
      "chrX\t47787173\t47787363\tchrX_47787173_47787363\tchrX\t47787180\t47787190\tFOX/8\t5.1151\t10\n",
      "chrX\t47787173\t47787363\tchrX_47787173_47787363\tchrX\t47787182\t47787192\tHINFP1/1\t8.8688\t10\n",
      "chrX\t47787173\t47787363\tchrX_47787173_47787363\tchrX\t47787194\t47787216\tZNF146\t1.8019\t22\n",
      "\n",
      "\n",
      "Done!\n",
      "Run Time: 4 minutes and 5 seconds\n"
     ]
    }
   ],
   "source": [
    "cat ${FD_LOG}/ASTARR_annotation.9.txt"
   ]
  },
  {
   "cell_type": "code",
   "execution_count": 8,
   "id": "547f4670-85c5-4f70-8111-f481e4e26072",
   "metadata": {},
   "outputs": [
    {
     "name": "stdout",
     "output_type": "stream",
     "text": [
      "Slurm Array Index:  9\n",
      "Time Stamp:         03-22-22+23:20:38\n",
      "\n",
      "Input  file:  /gpfs/fs1/data/reddylab/Kuei/out/proj_encode_fcc/KS91_K562_ASTARRseq/fragment/KS91_K562_hg38_ASTARRseq_Output_rep4.GATA1.unstranded.bed\n",
      "Output file:  /gpfs/fs1/data/reddylab/Kuei/out/proj_encode_fcc/KS91_K562_ASTARRseq/annotation/KS91_K562_hg38_ASTARRseq_Output_rep4.GATA1.unstranded.bed\n",
      "\n",
      "Show the first few lines of the input file\n",
      "/gpfs/fs1/data/reddylab/Kuei/out/proj_encode_fcc/KS91_K562_ASTARRseq/fragment/KS91_K562_hg38_ASTARRseq_Output_rep4.GATA1.unstranded.bed\n",
      "chrX\t47787173\t47787363\tchrX_47787173_47787363\n",
      "chrX\t47787173\t47787363\tchrX_47787173_47787363\n",
      "chrX\t47787173\t47787363\tchrX_47787173_47787363\n",
      "\n",
      "Show the first few lines of the output file\n",
      "/gpfs/fs1/data/reddylab/Kuei/out/proj_encode_fcc/KS91_K562_ASTARRseq/annotation/KS91_K562_hg38_ASTARRseq_Output_rep4.GATA1.unstranded.bed\n",
      "chrX\t47787173\t47787363\tchrX_47787173_47787363\tchrX\t47787163\t47787180\tZNF85\t10.896\t7\n",
      "chrX\t47787173\t47787363\tchrX_47787173_47787363\tchrX\t47787180\t47787190\tFOX/8\t5.1151\t10\n",
      "chrX\t47787173\t47787363\tchrX_47787173_47787363\tchrX\t47787182\t47787192\tHINFP1/1\t8.8688\t10\n",
      "\n",
      "\n",
      "Done!\n",
      "Run Time: 3 minutes and 22 seconds\n"
     ]
    }
   ],
   "source": [
    "cat ${FD_LOG}/ASTARR_annotation.9.txt"
   ]
  },
  {
   "cell_type": "code",
   "execution_count": null,
   "id": "47737f3a-6352-4e0d-bc4b-b120663efc0c",
   "metadata": {},
   "outputs": [],
   "source": []
  }
 ],
 "metadata": {
  "kernelspec": {
   "display_name": "Bash",
   "language": "bash",
   "name": "bash"
  },
  "language_info": {
   "codemirror_mode": "shell",
   "file_extension": ".sh",
   "mimetype": "text/x-sh",
   "name": "bash"
  }
 },
 "nbformat": 4,
 "nbformat_minor": 5
}
