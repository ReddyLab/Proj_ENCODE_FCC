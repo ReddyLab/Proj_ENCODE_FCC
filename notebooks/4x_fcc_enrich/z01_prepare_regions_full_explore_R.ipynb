{
 "cells": [
  {
   "cell_type": "raw",
   "id": "652708ab-ea2e-4587-9fc1-3e4e269f39a7",
   "metadata": {},
   "source": [
    "---\n",
    "title: Region Coverage 31\n",
    "subtitle: Summarize coverage for STARR-seq\n",
    "format:\n",
    "    html:\n",
    "        code-fold:  true\n",
    "        code-tools: true\n",
    "---"
   ]
  },
  {
   "cell_type": "markdown",
   "id": "c5a52760-5de1-4987-84b8-156ab7d7f55a",
   "metadata": {},
   "source": [
    "**Set environment**"
   ]
  },
  {
   "cell_type": "code",
   "execution_count": 1,
   "id": "91e48bf3-b396-4f20-b377-cfe26fc3d3ad",
   "metadata": {},
   "outputs": [
    {
     "name": "stdout",
     "output_type": "stream",
     "text": [
      "You are working on        Singularity: singularity_proj_encode_fcc \n",
      "BASE DIRECTORY (FD_BASE): /data/reddylab/Kuei \n",
      "REPO DIRECTORY (FD_REPO): /data/reddylab/Kuei/repo \n",
      "WORK DIRECTORY (FD_WORK): /data/reddylab/Kuei/work \n",
      "DATA DIRECTORY (FD_DATA): /data/reddylab/Kuei/data \n",
      "\n",
      "You are working with      ENCODE FCC \n",
      "PATH OF PROJECT (FD_PRJ): /data/reddylab/Kuei/repo/Proj_ENCODE_FCC \n",
      "PROJECT RESULTS (FD_RES): /data/reddylab/Kuei/repo/Proj_ENCODE_FCC/results \n",
      "PROJECT SCRIPTS (FD_EXE): /data/reddylab/Kuei/repo/Proj_ENCODE_FCC/scripts \n",
      "PROJECT DATA    (FD_DAT): /data/reddylab/Kuei/repo/Proj_ENCODE_FCC/data \n",
      "PROJECT NOTE    (FD_NBK): /data/reddylab/Kuei/repo/Proj_ENCODE_FCC/notebooks \n",
      "PROJECT DOCS    (FD_DOC): /data/reddylab/Kuei/repo/Proj_ENCODE_FCC/docs \n",
      "PROJECT LOG     (FD_LOG): /data/reddylab/Kuei/repo/Proj_ENCODE_FCC/log \n",
      "PROJECT REF     (FD_REF): /data/reddylab/Kuei/repo/Proj_ENCODE_FCC/references \n",
      "\n"
     ]
    }
   ],
   "source": [
    "suppressMessages(suppressWarnings(source(\"../run_config_project_sing.R\")))\n",
    "show_env()"
   ]
  },
  {
   "cell_type": "markdown",
   "id": "6b5850a5-fd79-4da2-9656-d285404d879d",
   "metadata": {},
   "source": [
    "## Import data"
   ]
  },
  {
   "cell_type": "markdown",
   "id": "19da0bf6-bfe1-417b-8c61-3c75e8d42499",
   "metadata": {},
   "source": [
    "**Import Accessibility**"
   ]
  },
  {
   "cell_type": "code",
   "execution_count": 2,
   "id": "2c884a75-3e5e-4617-9075-762a0216e248",
   "metadata": {},
   "outputs": [
    {
     "name": "stdout",
     "output_type": "stream",
     "text": [
      "[1] 150041      8\n"
     ]
    },
    {
     "data": {
      "text/html": [
       "<table class=\"dataframe\">\n",
       "<caption>A tibble: 6 × 8</caption>\n",
       "<thead>\n",
       "\t<tr><th scope=col>Chrom</th><th scope=col>ChromStart</th><th scope=col>ChromEnd</th><th scope=col>Region</th><th scope=col>Input_FPKM</th><th scope=col>Input_TPM</th><th scope=col>Output_FPKM</th><th scope=col>Output_TPM</th></tr>\n",
       "\t<tr><th scope=col>&lt;chr&gt;</th><th scope=col>&lt;dbl&gt;</th><th scope=col>&lt;dbl&gt;</th><th scope=col>&lt;chr&gt;</th><th scope=col>&lt;dbl&gt;</th><th scope=col>&lt;dbl&gt;</th><th scope=col>&lt;dbl&gt;</th><th scope=col>&lt;dbl&gt;</th></tr>\n",
       "</thead>\n",
       "<tbody>\n",
       "\t<tr><td>chr1</td><td> 10038</td><td> 10405</td><td>chr1:10038-10405  </td><td>0.004164383</td><td> 3.940038</td><td>0.0007357323</td><td> 0.7181993</td></tr>\n",
       "\t<tr><td>chr1</td><td> 14282</td><td> 14614</td><td>chr1:14282-14614  </td><td>0.003003325</td><td> 2.841707</td><td>0.0022620843</td><td> 2.2104314</td></tr>\n",
       "\t<tr><td>chr1</td><td> 16025</td><td> 16338</td><td>chr1:16025-16338  </td><td>0.004048701</td><td> 3.830812</td><td>0.0012867327</td><td> 1.2597204</td></tr>\n",
       "\t<tr><td>chr1</td><td> 17288</td><td> 17689</td><td>chr1:17288-17689  </td><td>0.006551198</td><td> 6.198372</td><td>0.0017372529</td><td> 1.7059186</td></tr>\n",
       "\t<tr><td>chr1</td><td> 28934</td><td> 29499</td><td>chr1:28934-29499  </td><td>0.004295316</td><td> 4.064322</td><td>0.0006561996</td><td> 0.6447721</td></tr>\n",
       "\t<tr><td>chr1</td><td>115429</td><td>115969</td><td>chr1:115429-115969</td><td>0.015954822</td><td>15.096518</td><td>0.0282829448</td><td>27.6549997</td></tr>\n",
       "</tbody>\n",
       "</table>\n"
      ],
      "text/latex": [
       "A tibble: 6 × 8\n",
       "\\begin{tabular}{llllllll}\n",
       " Chrom & ChromStart & ChromEnd & Region & Input\\_FPKM & Input\\_TPM & Output\\_FPKM & Output\\_TPM\\\\\n",
       " <chr> & <dbl> & <dbl> & <chr> & <dbl> & <dbl> & <dbl> & <dbl>\\\\\n",
       "\\hline\n",
       "\t chr1 &  10038 &  10405 & chr1:10038-10405   & 0.004164383 &  3.940038 & 0.0007357323 &  0.7181993\\\\\n",
       "\t chr1 &  14282 &  14614 & chr1:14282-14614   & 0.003003325 &  2.841707 & 0.0022620843 &  2.2104314\\\\\n",
       "\t chr1 &  16025 &  16338 & chr1:16025-16338   & 0.004048701 &  3.830812 & 0.0012867327 &  1.2597204\\\\\n",
       "\t chr1 &  17288 &  17689 & chr1:17288-17689   & 0.006551198 &  6.198372 & 0.0017372529 &  1.7059186\\\\\n",
       "\t chr1 &  28934 &  29499 & chr1:28934-29499   & 0.004295316 &  4.064322 & 0.0006561996 &  0.6447721\\\\\n",
       "\t chr1 & 115429 & 115969 & chr1:115429-115969 & 0.015954822 & 15.096518 & 0.0282829448 & 27.6549997\\\\\n",
       "\\end{tabular}\n"
      ],
      "text/markdown": [
       "\n",
       "A tibble: 6 × 8\n",
       "\n",
       "| Chrom &lt;chr&gt; | ChromStart &lt;dbl&gt; | ChromEnd &lt;dbl&gt; | Region &lt;chr&gt; | Input_FPKM &lt;dbl&gt; | Input_TPM &lt;dbl&gt; | Output_FPKM &lt;dbl&gt; | Output_TPM &lt;dbl&gt; |\n",
       "|---|---|---|---|---|---|---|---|\n",
       "| chr1 |  10038 |  10405 | chr1:10038-10405   | 0.004164383 |  3.940038 | 0.0007357323 |  0.7181993 |\n",
       "| chr1 |  14282 |  14614 | chr1:14282-14614   | 0.003003325 |  2.841707 | 0.0022620843 |  2.2104314 |\n",
       "| chr1 |  16025 |  16338 | chr1:16025-16338   | 0.004048701 |  3.830812 | 0.0012867327 |  1.2597204 |\n",
       "| chr1 |  17288 |  17689 | chr1:17288-17689   | 0.006551198 |  6.198372 | 0.0017372529 |  1.7059186 |\n",
       "| chr1 |  28934 |  29499 | chr1:28934-29499   | 0.004295316 |  4.064322 | 0.0006561996 |  0.6447721 |\n",
       "| chr1 | 115429 | 115969 | chr1:115429-115969 | 0.015954822 | 15.096518 | 0.0282829448 | 27.6549997 |\n",
       "\n"
      ],
      "text/plain": [
       "  Chrom ChromStart ChromEnd Region             Input_FPKM  Input_TPM\n",
       "1 chr1   10038      10405   chr1:10038-10405   0.004164383  3.940038\n",
       "2 chr1   14282      14614   chr1:14282-14614   0.003003325  2.841707\n",
       "3 chr1   16025      16338   chr1:16025-16338   0.004048701  3.830812\n",
       "4 chr1   17288      17689   chr1:17288-17689   0.006551198  6.198372\n",
       "5 chr1   28934      29499   chr1:28934-29499   0.004295316  4.064322\n",
       "6 chr1  115429     115969   chr1:115429-115969 0.015954822 15.096518\n",
       "  Output_FPKM  Output_TPM\n",
       "1 0.0007357323  0.7181993\n",
       "2 0.0022620843  2.2104314\n",
       "3 0.0012867327  1.2597204\n",
       "4 0.0017372529  1.7059186\n",
       "5 0.0006561996  0.6447721\n",
       "6 0.0282829448 27.6549997"
      ]
     },
     "metadata": {},
     "output_type": "display_data"
    }
   ],
   "source": [
    "txt_fdiry = file.path(\n",
    "    FD_RES,\n",
    "    \"region_coverage_fcc\",\n",
    "    \"fcc_astarr_macs_input_overlap\", \n",
    "    \"STARR_ATAC_K562_Reddy_KS91\",\n",
    "    \"overlap_score\",\n",
    "    \"summary\"\n",
    ")\n",
    "\n",
    "txt_fname = \"result.coverage.TPM.FPKM.tsv\"\n",
    "txt_fpath = file.path(txt_fdiry, txt_fname)\n",
    "\n",
    "dat = read_tsv(txt_fpath, show_col_types = FALSE)\n",
    "\n",
    "dat_region_astarr = dat\n",
    "print(dim(dat))\n",
    "head(dat)"
   ]
  },
  {
   "cell_type": "markdown",
   "id": "a14323c5-6a94-4661-abea-f813019ed644",
   "metadata": {},
   "source": [
    "**Import GC content**"
   ]
  },
  {
   "cell_type": "code",
   "execution_count": 7,
   "id": "6aa44b59-9f1d-44c8-9ba2-61b817f5c7b7",
   "metadata": {},
   "outputs": [
    {
     "name": "stdout",
     "output_type": "stream",
     "text": [
      "[1] 150042      6\n"
     ]
    },
    {
     "data": {
      "text/html": [
       "<table class=\"dataframe\">\n",
       "<caption>A tibble: 6 × 6</caption>\n",
       "<thead>\n",
       "\t<tr><th scope=col>Chrom</th><th scope=col>ChromStart</th><th scope=col>ChromEnd</th><th scope=col>GC</th><th scope=col>Length</th><th scope=col>Region</th></tr>\n",
       "\t<tr><th scope=col>&lt;chr&gt;</th><th scope=col>&lt;dbl&gt;</th><th scope=col>&lt;dbl&gt;</th><th scope=col>&lt;dbl&gt;</th><th scope=col>&lt;dbl&gt;</th><th scope=col>&lt;chr&gt;</th></tr>\n",
       "</thead>\n",
       "<tbody>\n",
       "\t<tr><td>chr1</td><td> 10038</td><td> 10405</td><td>0.523161</td><td>367</td><td>chr1:10038-10405  </td></tr>\n",
       "\t<tr><td>chr1</td><td> 14282</td><td> 14614</td><td>0.578313</td><td>332</td><td>chr1:14282-14614  </td></tr>\n",
       "\t<tr><td>chr1</td><td> 16025</td><td> 16338</td><td>0.587859</td><td>313</td><td>chr1:16025-16338  </td></tr>\n",
       "\t<tr><td>chr1</td><td> 17288</td><td> 17689</td><td>0.625935</td><td>401</td><td>chr1:17288-17689  </td></tr>\n",
       "\t<tr><td>chr1</td><td> 28934</td><td> 29499</td><td>0.771681</td><td>565</td><td>chr1:28934-29499  </td></tr>\n",
       "\t<tr><td>chr1</td><td>115429</td><td>115969</td><td>0.381481</td><td>540</td><td>chr1:115429-115969</td></tr>\n",
       "</tbody>\n",
       "</table>\n"
      ],
      "text/latex": [
       "A tibble: 6 × 6\n",
       "\\begin{tabular}{llllll}\n",
       " Chrom & ChromStart & ChromEnd & GC & Length & Region\\\\\n",
       " <chr> & <dbl> & <dbl> & <dbl> & <dbl> & <chr>\\\\\n",
       "\\hline\n",
       "\t chr1 &  10038 &  10405 & 0.523161 & 367 & chr1:10038-10405  \\\\\n",
       "\t chr1 &  14282 &  14614 & 0.578313 & 332 & chr1:14282-14614  \\\\\n",
       "\t chr1 &  16025 &  16338 & 0.587859 & 313 & chr1:16025-16338  \\\\\n",
       "\t chr1 &  17288 &  17689 & 0.625935 & 401 & chr1:17288-17689  \\\\\n",
       "\t chr1 &  28934 &  29499 & 0.771681 & 565 & chr1:28934-29499  \\\\\n",
       "\t chr1 & 115429 & 115969 & 0.381481 & 540 & chr1:115429-115969\\\\\n",
       "\\end{tabular}\n"
      ],
      "text/markdown": [
       "\n",
       "A tibble: 6 × 6\n",
       "\n",
       "| Chrom &lt;chr&gt; | ChromStart &lt;dbl&gt; | ChromEnd &lt;dbl&gt; | GC &lt;dbl&gt; | Length &lt;dbl&gt; | Region &lt;chr&gt; |\n",
       "|---|---|---|---|---|---|\n",
       "| chr1 |  10038 |  10405 | 0.523161 | 367 | chr1:10038-10405   |\n",
       "| chr1 |  14282 |  14614 | 0.578313 | 332 | chr1:14282-14614   |\n",
       "| chr1 |  16025 |  16338 | 0.587859 | 313 | chr1:16025-16338   |\n",
       "| chr1 |  17288 |  17689 | 0.625935 | 401 | chr1:17288-17689   |\n",
       "| chr1 |  28934 |  29499 | 0.771681 | 565 | chr1:28934-29499   |\n",
       "| chr1 | 115429 | 115969 | 0.381481 | 540 | chr1:115429-115969 |\n",
       "\n"
      ],
      "text/plain": [
       "  Chrom ChromStart ChromEnd GC       Length Region            \n",
       "1 chr1   10038      10405   0.523161 367    chr1:10038-10405  \n",
       "2 chr1   14282      14614   0.578313 332    chr1:14282-14614  \n",
       "3 chr1   16025      16338   0.587859 313    chr1:16025-16338  \n",
       "4 chr1   17288      17689   0.625935 401    chr1:17288-17689  \n",
       "5 chr1   28934      29499   0.771681 565    chr1:28934-29499  \n",
       "6 chr1  115429     115969   0.381481 540    chr1:115429-115969"
      ]
     },
     "metadata": {},
     "output_type": "display_data"
    }
   ],
   "source": [
    "txt_fdiry = file.path(\n",
    "    FD_RES,\n",
    "    \"region_nuc\",\n",
    "    \"fcc_astarr_macs\"\n",
    ")\n",
    "\n",
    "txt_fname = \"K562.hg38.ASTARR.macs.KS91.input.rep_all.max_overlaps.q5.bed.gz\"\n",
    "txt_fpath = file.path(txt_fdiry, txt_fname)\n",
    "\n",
    "dat = read_tsv(txt_fpath, show_col_types = FALSE)\n",
    "dat = dat %>% dplyr::select(\n",
    "    `#1_usercol`,\n",
    "    `2_usercol`,\n",
    "    `3_usercol`,\n",
    "    `5_pct_gc`,\n",
    "    `12_seq_len`\n",
    ")\n",
    "colnames(dat) = c(\"Chrom\", \"ChromStart\", \"ChromEnd\", \"GC\", \"Length\")\n",
    "\n",
    "dat = dat %>% dplyr::mutate(Region = fun_gen_region(Chrom, ChromStart, ChromEnd)) \n",
    "\n",
    "dat_region_pgc = dat\n",
    "print(dim(dat))\n",
    "head(dat)"
   ]
  },
  {
   "cell_type": "markdown",
   "id": "45d26a68-fafe-44dc-b31f-049f36da0be5",
   "metadata": {},
   "source": [
    "**Import annotation matrix**"
   ]
  },
  {
   "cell_type": "code",
   "execution_count": 5,
   "id": "f1828f9d-05bd-4f98-8f32-f014d097ac98",
   "metadata": {},
   "outputs": [
    {
     "name": "stdout",
     "output_type": "stream",
     "text": [
      "[1] 139130    526\n"
     ]
    },
    {
     "data": {
      "text/html": [
       "<table class=\"dataframe\">\n",
       "<caption>A tibble: 6 × 526</caption>\n",
       "<thead>\n",
       "\t<tr><th scope=col>Region</th><th scope=col>ADNP</th><th scope=col>AFF1</th><th scope=col>AGO1</th><th scope=col>ARHGAP35</th><th scope=col>ARID1B</th><th scope=col>ARID2</th><th scope=col>ARID3A</th><th scope=col>ARID3B</th><th scope=col>ARID4B</th><th scope=col>⋯</th><th scope=col>ZNF778</th><th scope=col>ZNF780A</th><th scope=col>ZNF785</th><th scope=col>ZNF79</th><th scope=col>ZNF83</th><th scope=col>ZNF830</th><th scope=col>ZNF84</th><th scope=col>ZSCAN29</th><th scope=col>ZSCAN32</th><th scope=col>ZZZ3</th></tr>\n",
       "\t<tr><th scope=col>&lt;chr&gt;</th><th scope=col>&lt;dbl&gt;</th><th scope=col>&lt;dbl&gt;</th><th scope=col>&lt;dbl&gt;</th><th scope=col>&lt;dbl&gt;</th><th scope=col>&lt;dbl&gt;</th><th scope=col>&lt;dbl&gt;</th><th scope=col>&lt;dbl&gt;</th><th scope=col>&lt;dbl&gt;</th><th scope=col>&lt;dbl&gt;</th><th scope=col>⋯</th><th scope=col>&lt;dbl&gt;</th><th scope=col>&lt;dbl&gt;</th><th scope=col>&lt;dbl&gt;</th><th scope=col>&lt;dbl&gt;</th><th scope=col>&lt;dbl&gt;</th><th scope=col>&lt;dbl&gt;</th><th scope=col>&lt;dbl&gt;</th><th scope=col>&lt;dbl&gt;</th><th scope=col>&lt;dbl&gt;</th><th scope=col>&lt;dbl&gt;</th></tr>\n",
       "</thead>\n",
       "<tbody>\n",
       "\t<tr><td>chr1:16025-16338  </td><td>0</td><td>0</td><td>0</td><td>0</td><td>0</td><td>0</td><td>0</td><td>0</td><td>0</td><td>⋯</td><td>0</td><td>0</td><td>0</td><td>0</td><td>0</td><td>0</td><td>0</td><td>0</td><td>0</td><td>0</td></tr>\n",
       "\t<tr><td>chr1:137748-138049</td><td>0</td><td>0</td><td>0</td><td>0</td><td>0</td><td>0</td><td>0</td><td>0</td><td>0</td><td>⋯</td><td>0</td><td>0</td><td>0</td><td>0</td><td>0</td><td>0</td><td>0</td><td>0</td><td>0</td><td>0</td></tr>\n",
       "\t<tr><td>chr1:138321-139517</td><td>0</td><td>0</td><td>0</td><td>0</td><td>0</td><td>0</td><td>0</td><td>0</td><td>0</td><td>⋯</td><td>0</td><td>0</td><td>0</td><td>0</td><td>0</td><td>0</td><td>0</td><td>0</td><td>0</td><td>0</td></tr>\n",
       "\t<tr><td>chr1:186343-187136</td><td>0</td><td>0</td><td>0</td><td>0</td><td>0</td><td>0</td><td>0</td><td>0</td><td>0</td><td>⋯</td><td>0</td><td>0</td><td>0</td><td>0</td><td>0</td><td>0</td><td>0</td><td>0</td><td>0</td><td>0</td></tr>\n",
       "\t<tr><td>chr1:605104-605675</td><td>0</td><td>0</td><td>0</td><td>0</td><td>0</td><td>0</td><td>0</td><td>0</td><td>0</td><td>⋯</td><td>0</td><td>0</td><td>0</td><td>0</td><td>0</td><td>0</td><td>0</td><td>0</td><td>0</td><td>0</td></tr>\n",
       "\t<tr><td>chr1:778233-779389</td><td>0</td><td>1</td><td>1</td><td>0</td><td>1</td><td>0</td><td>0</td><td>0</td><td>1</td><td>⋯</td><td>0</td><td>0</td><td>0</td><td>0</td><td>0</td><td>0</td><td>0</td><td>1</td><td>0</td><td>0</td></tr>\n",
       "</tbody>\n",
       "</table>\n"
      ],
      "text/latex": [
       "A tibble: 6 × 526\n",
       "\\begin{tabular}{lllllllllllllllllllll}\n",
       " Region & ADNP & AFF1 & AGO1 & ARHGAP35 & ARID1B & ARID2 & ARID3A & ARID3B & ARID4B & ⋯ & ZNF778 & ZNF780A & ZNF785 & ZNF79 & ZNF83 & ZNF830 & ZNF84 & ZSCAN29 & ZSCAN32 & ZZZ3\\\\\n",
       " <chr> & <dbl> & <dbl> & <dbl> & <dbl> & <dbl> & <dbl> & <dbl> & <dbl> & <dbl> & ⋯ & <dbl> & <dbl> & <dbl> & <dbl> & <dbl> & <dbl> & <dbl> & <dbl> & <dbl> & <dbl>\\\\\n",
       "\\hline\n",
       "\t chr1:16025-16338   & 0 & 0 & 0 & 0 & 0 & 0 & 0 & 0 & 0 & ⋯ & 0 & 0 & 0 & 0 & 0 & 0 & 0 & 0 & 0 & 0\\\\\n",
       "\t chr1:137748-138049 & 0 & 0 & 0 & 0 & 0 & 0 & 0 & 0 & 0 & ⋯ & 0 & 0 & 0 & 0 & 0 & 0 & 0 & 0 & 0 & 0\\\\\n",
       "\t chr1:138321-139517 & 0 & 0 & 0 & 0 & 0 & 0 & 0 & 0 & 0 & ⋯ & 0 & 0 & 0 & 0 & 0 & 0 & 0 & 0 & 0 & 0\\\\\n",
       "\t chr1:186343-187136 & 0 & 0 & 0 & 0 & 0 & 0 & 0 & 0 & 0 & ⋯ & 0 & 0 & 0 & 0 & 0 & 0 & 0 & 0 & 0 & 0\\\\\n",
       "\t chr1:605104-605675 & 0 & 0 & 0 & 0 & 0 & 0 & 0 & 0 & 0 & ⋯ & 0 & 0 & 0 & 0 & 0 & 0 & 0 & 0 & 0 & 0\\\\\n",
       "\t chr1:778233-779389 & 0 & 1 & 1 & 0 & 1 & 0 & 0 & 0 & 1 & ⋯ & 0 & 0 & 0 & 0 & 0 & 0 & 0 & 1 & 0 & 0\\\\\n",
       "\\end{tabular}\n"
      ],
      "text/markdown": [
       "\n",
       "A tibble: 6 × 526\n",
       "\n",
       "| Region &lt;chr&gt; | ADNP &lt;dbl&gt; | AFF1 &lt;dbl&gt; | AGO1 &lt;dbl&gt; | ARHGAP35 &lt;dbl&gt; | ARID1B &lt;dbl&gt; | ARID2 &lt;dbl&gt; | ARID3A &lt;dbl&gt; | ARID3B &lt;dbl&gt; | ARID4B &lt;dbl&gt; | ⋯ ⋯ | ZNF778 &lt;dbl&gt; | ZNF780A &lt;dbl&gt; | ZNF785 &lt;dbl&gt; | ZNF79 &lt;dbl&gt; | ZNF83 &lt;dbl&gt; | ZNF830 &lt;dbl&gt; | ZNF84 &lt;dbl&gt; | ZSCAN29 &lt;dbl&gt; | ZSCAN32 &lt;dbl&gt; | ZZZ3 &lt;dbl&gt; |\n",
       "|---|---|---|---|---|---|---|---|---|---|---|---|---|---|---|---|---|---|---|---|---|\n",
       "| chr1:16025-16338   | 0 | 0 | 0 | 0 | 0 | 0 | 0 | 0 | 0 | ⋯ | 0 | 0 | 0 | 0 | 0 | 0 | 0 | 0 | 0 | 0 |\n",
       "| chr1:137748-138049 | 0 | 0 | 0 | 0 | 0 | 0 | 0 | 0 | 0 | ⋯ | 0 | 0 | 0 | 0 | 0 | 0 | 0 | 0 | 0 | 0 |\n",
       "| chr1:138321-139517 | 0 | 0 | 0 | 0 | 0 | 0 | 0 | 0 | 0 | ⋯ | 0 | 0 | 0 | 0 | 0 | 0 | 0 | 0 | 0 | 0 |\n",
       "| chr1:186343-187136 | 0 | 0 | 0 | 0 | 0 | 0 | 0 | 0 | 0 | ⋯ | 0 | 0 | 0 | 0 | 0 | 0 | 0 | 0 | 0 | 0 |\n",
       "| chr1:605104-605675 | 0 | 0 | 0 | 0 | 0 | 0 | 0 | 0 | 0 | ⋯ | 0 | 0 | 0 | 0 | 0 | 0 | 0 | 0 | 0 | 0 |\n",
       "| chr1:778233-779389 | 0 | 1 | 1 | 0 | 1 | 0 | 0 | 0 | 1 | ⋯ | 0 | 0 | 0 | 0 | 0 | 0 | 0 | 1 | 0 | 0 |\n",
       "\n"
      ],
      "text/plain": [
       "  Region             ADNP AFF1 AGO1 ARHGAP35 ARID1B ARID2 ARID3A ARID3B ARID4B\n",
       "1 chr1:16025-16338   0    0    0    0        0      0     0      0      0     \n",
       "2 chr1:137748-138049 0    0    0    0        0      0     0      0      0     \n",
       "3 chr1:138321-139517 0    0    0    0        0      0     0      0      0     \n",
       "4 chr1:186343-187136 0    0    0    0        0      0     0      0      0     \n",
       "5 chr1:605104-605675 0    0    0    0        0      0     0      0      0     \n",
       "6 chr1:778233-779389 0    1    1    0        1      0     0      0      1     \n",
       "  ⋯ ZNF778 ZNF780A ZNF785 ZNF79 ZNF83 ZNF830 ZNF84 ZSCAN29 ZSCAN32 ZZZ3\n",
       "1 ⋯ 0      0       0      0     0     0      0     0       0       0   \n",
       "2 ⋯ 0      0       0      0     0     0      0     0       0       0   \n",
       "3 ⋯ 0      0       0      0     0     0      0     0       0       0   \n",
       "4 ⋯ 0      0       0      0     0     0      0     0       0       0   \n",
       "5 ⋯ 0      0       0      0     0     0      0     0       0       0   \n",
       "6 ⋯ 0      0       0      0     0     0      0     1       0       0   "
      ]
     },
     "metadata": {},
     "output_type": "display_data"
    }
   ],
   "source": [
    "txt_fdiry = file.path(\n",
    "    FD_RES, \n",
    "    \"region_annotation\", \n",
    "    \"fcc_astarr_macs_input_overlap\",\n",
    "    \"summary\"\n",
    ")\n",
    "#txt_fname = \"matrix.annotation.merge.chipseq_full.fcc.tss.tsv\"\n",
    "txt_fname = \"matrix.annotation.prepare.full.chipseq_full.only.tsv\"\n",
    "txt_fpath = file.path(txt_fdiry, txt_fname)\n",
    "\n",
    "dat = read_tsv(txt_fpath, show_col_types = FALSE)\n",
    "\n",
    "mat_region_annot = dat\n",
    "print(dim(dat))\n",
    "head(dat)"
   ]
  },
  {
   "cell_type": "markdown",
   "id": "ca49015b-478e-4da3-a5d9-2e764bd2ab41",
   "metadata": {},
   "source": [
    "## Distribution"
   ]
  },
  {
   "cell_type": "code",
   "execution_count": 148,
   "id": "9ba5b8f7-e7c3-4846-b1fb-0b6433327211",
   "metadata": {},
   "outputs": [
    {
     "name": "stderr",
     "output_type": "stream",
     "text": [
      "Warning message:\n",
      "“\u001b[1m\u001b[22mRemoved 13 rows containing non-finite outside the scale range (`stat_bin()`).”\n",
      "Warning message:\n",
      "“\u001b[1m\u001b[22mRemoved 2 rows containing missing values or values outside the scale range\n",
      "(`geom_bar()`).”\n"
     ]
    },
    {
     "data": {
      "image/png": "[encoded data removed]",
      "text/plain": [
       "plot without title"
      ]
     },
     "metadata": {
      "image/png": {
       "height": 240,
       "width": 420
      }
     },
     "output_type": "display_data"
    }
   ],
   "source": [
    "dat = dat_region_astarr \n",
    "gpt = ggplot(dat, aes(x=Input_TPM)) +\n",
    "    geom_histogram(bins = 50) +\n",
    "    xlim(0, 100) +\n",
    "    theme_cowplot()\n",
    "\n",
    "options(repr.plot.height = 4, repr.plot.width = 7)\n",
    "print(gpt)"
   ]
  },
  {
   "cell_type": "code",
   "execution_count": 28,
   "id": "08c2bca8-1f3a-4f0c-84e3-f9f9b372d809",
   "metadata": {},
   "outputs": [
    {
     "name": "stdout",
     "output_type": "stream",
     "text": [
      "[1] 150041     10\n"
     ]
    },
    {
     "data": {
      "text/html": [
       "<table class=\"dataframe\">\n",
       "<caption>A tibble: 6 × 10</caption>\n",
       "<thead>\n",
       "\t<tr><th scope=col>Chrom</th><th scope=col>ChromStart</th><th scope=col>ChromEnd</th><th scope=col>pGC</th><th scope=col>Length</th><th scope=col>Region</th><th scope=col>Input_FPKM</th><th scope=col>Input_TPM</th><th scope=col>Output_FPKM</th><th scope=col>Output_TPM</th></tr>\n",
       "\t<tr><th scope=col>&lt;chr&gt;</th><th scope=col>&lt;dbl&gt;</th><th scope=col>&lt;dbl&gt;</th><th scope=col>&lt;dbl&gt;</th><th scope=col>&lt;dbl&gt;</th><th scope=col>&lt;chr&gt;</th><th scope=col>&lt;dbl&gt;</th><th scope=col>&lt;dbl&gt;</th><th scope=col>&lt;dbl&gt;</th><th scope=col>&lt;dbl&gt;</th></tr>\n",
       "</thead>\n",
       "<tbody>\n",
       "\t<tr><td>chr1</td><td> 10038</td><td> 10405</td><td>0.523161</td><td>367</td><td>chr1:10038-10405  </td><td>0.004164383</td><td> 3.940038</td><td>0.0007357323</td><td> 0.7181993</td></tr>\n",
       "\t<tr><td>chr1</td><td> 14282</td><td> 14614</td><td>0.578313</td><td>332</td><td>chr1:14282-14614  </td><td>0.003003325</td><td> 2.841707</td><td>0.0022620843</td><td> 2.2104314</td></tr>\n",
       "\t<tr><td>chr1</td><td> 16025</td><td> 16338</td><td>0.587859</td><td>313</td><td>chr1:16025-16338  </td><td>0.004048701</td><td> 3.830812</td><td>0.0012867327</td><td> 1.2597204</td></tr>\n",
       "\t<tr><td>chr1</td><td> 17288</td><td> 17689</td><td>0.625935</td><td>401</td><td>chr1:17288-17689  </td><td>0.006551198</td><td> 6.198372</td><td>0.0017372529</td><td> 1.7059186</td></tr>\n",
       "\t<tr><td>chr1</td><td> 28934</td><td> 29499</td><td>0.771681</td><td>565</td><td>chr1:28934-29499  </td><td>0.004295316</td><td> 4.064322</td><td>0.0006561996</td><td> 0.6447721</td></tr>\n",
       "\t<tr><td>chr1</td><td>115429</td><td>115969</td><td>0.381481</td><td>540</td><td>chr1:115429-115969</td><td>0.015954822</td><td>15.096518</td><td>0.0282829448</td><td>27.6549997</td></tr>\n",
       "</tbody>\n",
       "</table>\n"
      ],
      "text/latex": [
       "A tibble: 6 × 10\n",
       "\\begin{tabular}{llllllllll}\n",
       " Chrom & ChromStart & ChromEnd & pGC & Length & Region & Input\\_FPKM & Input\\_TPM & Output\\_FPKM & Output\\_TPM\\\\\n",
       " <chr> & <dbl> & <dbl> & <dbl> & <dbl> & <chr> & <dbl> & <dbl> & <dbl> & <dbl>\\\\\n",
       "\\hline\n",
       "\t chr1 &  10038 &  10405 & 0.523161 & 367 & chr1:10038-10405   & 0.004164383 &  3.940038 & 0.0007357323 &  0.7181993\\\\\n",
       "\t chr1 &  14282 &  14614 & 0.578313 & 332 & chr1:14282-14614   & 0.003003325 &  2.841707 & 0.0022620843 &  2.2104314\\\\\n",
       "\t chr1 &  16025 &  16338 & 0.587859 & 313 & chr1:16025-16338   & 0.004048701 &  3.830812 & 0.0012867327 &  1.2597204\\\\\n",
       "\t chr1 &  17288 &  17689 & 0.625935 & 401 & chr1:17288-17689   & 0.006551198 &  6.198372 & 0.0017372529 &  1.7059186\\\\\n",
       "\t chr1 &  28934 &  29499 & 0.771681 & 565 & chr1:28934-29499   & 0.004295316 &  4.064322 & 0.0006561996 &  0.6447721\\\\\n",
       "\t chr1 & 115429 & 115969 & 0.381481 & 540 & chr1:115429-115969 & 0.015954822 & 15.096518 & 0.0282829448 & 27.6549997\\\\\n",
       "\\end{tabular}\n"
      ],
      "text/markdown": [
       "\n",
       "A tibble: 6 × 10\n",
       "\n",
       "| Chrom &lt;chr&gt; | ChromStart &lt;dbl&gt; | ChromEnd &lt;dbl&gt; | pGC &lt;dbl&gt; | Length &lt;dbl&gt; | Region &lt;chr&gt; | Input_FPKM &lt;dbl&gt; | Input_TPM &lt;dbl&gt; | Output_FPKM &lt;dbl&gt; | Output_TPM &lt;dbl&gt; |\n",
       "|---|---|---|---|---|---|---|---|---|---|\n",
       "| chr1 |  10038 |  10405 | 0.523161 | 367 | chr1:10038-10405   | 0.004164383 |  3.940038 | 0.0007357323 |  0.7181993 |\n",
       "| chr1 |  14282 |  14614 | 0.578313 | 332 | chr1:14282-14614   | 0.003003325 |  2.841707 | 0.0022620843 |  2.2104314 |\n",
       "| chr1 |  16025 |  16338 | 0.587859 | 313 | chr1:16025-16338   | 0.004048701 |  3.830812 | 0.0012867327 |  1.2597204 |\n",
       "| chr1 |  17288 |  17689 | 0.625935 | 401 | chr1:17288-17689   | 0.006551198 |  6.198372 | 0.0017372529 |  1.7059186 |\n",
       "| chr1 |  28934 |  29499 | 0.771681 | 565 | chr1:28934-29499   | 0.004295316 |  4.064322 | 0.0006561996 |  0.6447721 |\n",
       "| chr1 | 115429 | 115969 | 0.381481 | 540 | chr1:115429-115969 | 0.015954822 | 15.096518 | 0.0282829448 | 27.6549997 |\n",
       "\n"
      ],
      "text/plain": [
       "  Chrom ChromStart ChromEnd pGC      Length Region             Input_FPKM \n",
       "1 chr1   10038      10405   0.523161 367    chr1:10038-10405   0.004164383\n",
       "2 chr1   14282      14614   0.578313 332    chr1:14282-14614   0.003003325\n",
       "3 chr1   16025      16338   0.587859 313    chr1:16025-16338   0.004048701\n",
       "4 chr1   17288      17689   0.625935 401    chr1:17288-17689   0.006551198\n",
       "5 chr1   28934      29499   0.771681 565    chr1:28934-29499   0.004295316\n",
       "6 chr1  115429     115969   0.381481 540    chr1:115429-115969 0.015954822\n",
       "  Input_TPM Output_FPKM  Output_TPM\n",
       "1  3.940038 0.0007357323  0.7181993\n",
       "2  2.841707 0.0022620843  2.2104314\n",
       "3  3.830812 0.0012867327  1.2597204\n",
       "4  6.198372 0.0017372529  1.7059186\n",
       "5  4.064322 0.0006561996  0.6447721\n",
       "6 15.096518 0.0282829448 27.6549997"
      ]
     },
     "metadata": {},
     "output_type": "display_data"
    }
   ],
   "source": [
    "dat = dplyr::inner_join(\n",
    "    dat_region_pgc,\n",
    "    dat_region_astarr,\n",
    "    by = c(\"Chrom\", \"ChromStart\", \"ChromEnd\", \"Region\")\n",
    ")\n",
    "\n",
    "dat_region_test = dat\n",
    "print(dim(dat))\n",
    "head(dat)"
   ]
  },
  {
   "cell_type": "code",
   "execution_count": 45,
   "id": "3bcce801-5079-41fb-a113-b1bff0541631",
   "metadata": {},
   "outputs": [
    {
     "data": {
      "text/html": [
       "<table class=\"dataframe\">\n",
       "<caption>A tibble: 3 × 9</caption>\n",
       "<thead>\n",
       "\t<tr><th scope=col>Chrom</th><th scope=col>ChromStart</th><th scope=col>ChromEnd</th><th scope=col>Region</th><th scope=col>Input_FPKM</th><th scope=col>Output_FPKM</th><th scope=col>Output_TPM</th><th scope=col>features</th><th scope=col>values</th></tr>\n",
       "\t<tr><th scope=col>&lt;chr&gt;</th><th scope=col>&lt;dbl&gt;</th><th scope=col>&lt;dbl&gt;</th><th scope=col>&lt;chr&gt;</th><th scope=col>&lt;dbl&gt;</th><th scope=col>&lt;dbl&gt;</th><th scope=col>&lt;dbl&gt;</th><th scope=col>&lt;chr&gt;</th><th scope=col>&lt;dbl&gt;</th></tr>\n",
       "</thead>\n",
       "<tbody>\n",
       "\t<tr><td>chr1</td><td>10038</td><td>10405</td><td>chr1:10038-10405</td><td>0.004164383</td><td>0.0007357323</td><td>0.7181993</td><td>Input_TPM</td><td>  3.940038</td></tr>\n",
       "\t<tr><td>chr1</td><td>10038</td><td>10405</td><td>chr1:10038-10405</td><td>0.004164383</td><td>0.0007357323</td><td>0.7181993</td><td>pGC      </td><td>  0.523161</td></tr>\n",
       "\t<tr><td>chr1</td><td>10038</td><td>10405</td><td>chr1:10038-10405</td><td>0.004164383</td><td>0.0007357323</td><td>0.7181993</td><td>Length   </td><td>367.000000</td></tr>\n",
       "</tbody>\n",
       "</table>\n"
      ],
      "text/latex": [
       "A tibble: 3 × 9\n",
       "\\begin{tabular}{lllllllll}\n",
       " Chrom & ChromStart & ChromEnd & Region & Input\\_FPKM & Output\\_FPKM & Output\\_TPM & features & values\\\\\n",
       " <chr> & <dbl> & <dbl> & <chr> & <dbl> & <dbl> & <dbl> & <chr> & <dbl>\\\\\n",
       "\\hline\n",
       "\t chr1 & 10038 & 10405 & chr1:10038-10405 & 0.004164383 & 0.0007357323 & 0.7181993 & Input\\_TPM &   3.940038\\\\\n",
       "\t chr1 & 10038 & 10405 & chr1:10038-10405 & 0.004164383 & 0.0007357323 & 0.7181993 & pGC       &   0.523161\\\\\n",
       "\t chr1 & 10038 & 10405 & chr1:10038-10405 & 0.004164383 & 0.0007357323 & 0.7181993 & Length    & 367.000000\\\\\n",
       "\\end{tabular}\n"
      ],
      "text/markdown": [
       "\n",
       "A tibble: 3 × 9\n",
       "\n",
       "| Chrom &lt;chr&gt; | ChromStart &lt;dbl&gt; | ChromEnd &lt;dbl&gt; | Region &lt;chr&gt; | Input_FPKM &lt;dbl&gt; | Output_FPKM &lt;dbl&gt; | Output_TPM &lt;dbl&gt; | features &lt;chr&gt; | values &lt;dbl&gt; |\n",
       "|---|---|---|---|---|---|---|---|---|\n",
       "| chr1 | 10038 | 10405 | chr1:10038-10405 | 0.004164383 | 0.0007357323 | 0.7181993 | Input_TPM |   3.940038 |\n",
       "| chr1 | 10038 | 10405 | chr1:10038-10405 | 0.004164383 | 0.0007357323 | 0.7181993 | pGC       |   0.523161 |\n",
       "| chr1 | 10038 | 10405 | chr1:10038-10405 | 0.004164383 | 0.0007357323 | 0.7181993 | Length    | 367.000000 |\n",
       "\n"
      ],
      "text/plain": [
       "  Chrom ChromStart ChromEnd Region           Input_FPKM  Output_FPKM \n",
       "1 chr1  10038      10405    chr1:10038-10405 0.004164383 0.0007357323\n",
       "2 chr1  10038      10405    chr1:10038-10405 0.004164383 0.0007357323\n",
       "3 chr1  10038      10405    chr1:10038-10405 0.004164383 0.0007357323\n",
       "  Output_TPM features  values    \n",
       "1 0.7181993  Input_TPM   3.940038\n",
       "2 0.7181993  pGC         0.523161\n",
       "3 0.7181993  Length    367.000000"
      ]
     },
     "metadata": {},
     "output_type": "display_data"
    }
   ],
   "source": [
    "dat = dat_region_test\n",
    "dat = dat %>%\n",
    "    dplyr::mutate(\n",
    "        pLog10_Signal = log10(Input_TPM + 1),\n",
    "        pLog10_Length = log10(Length + 1),\n",
    "        pLog10_GC     = log10(GC + 1)\n",
    "    )\n",
    "\n",
    "vec = c(\"Input_TPM\", \"pGC\", \"Length\", \"pLog10_Signal\", \"pLog10_Length\", \"pLog10_GC\")\n",
    "dat = dat %>%\n",
    "    tidyr::pivot_longer(\n",
    "        cols      = any_of(vec),\n",
    "        names_to  = \"features\",\n",
    "        values_to = \"values\")\n",
    "\n",
    "head(dat, 3)"
   ]
  },
  {
   "cell_type": "code",
   "execution_count": 46,
   "id": "e050638b-73a8-4a8c-b300-410eb47b880c",
   "metadata": {},
   "outputs": [
    {
     "data": {
      "text/plain": [
       "$Input_TPM\n",
       "    Min.  1st Qu.   Median     Mean  3rd Qu.     Max. \n",
       "  0.0019   2.7417   3.6286   6.6648   6.2424 473.2625 \n",
       "\n",
       "$pGC\n",
       "   Min. 1st Qu.  Median    Mean 3rd Qu.    Max. \n",
       " 0.2771  0.4651  0.5204  0.5269  0.5843  1.0000 \n",
       "\n",
       "$Length\n",
       "   Min. 1st Qu.  Median    Mean 3rd Qu.    Max. \n",
       "    1.0   401.0   597.0   712.8   909.0  6172.0 \n",
       "\n",
       "$pLog10_Signal\n",
       "     Min.   1st Qu.    Median      Mean   3rd Qu.      Max. \n",
       "0.0008313 0.5730688 0.6654455 0.7656378 0.8598817 2.6760188 \n",
       "\n",
       "$pLog10_Length\n",
       "   Min. 1st Qu.  Median    Mean 3rd Qu.    Max. \n",
       "  0.301   2.604   2.777   2.786   2.959   3.790 \n",
       "\n",
       "$pLog10_GC\n",
       "   Min. 1st Qu.  Median    Mean 3rd Qu.    Max. \n",
       " 0.1062  0.1659  0.1820  0.1832  0.1998  0.3010 \n"
      ]
     },
     "metadata": {},
     "output_type": "display_data"
    }
   ],
   "source": [
    "lst = split(dat$values, dat$features)\n",
    "lst = lapply(lst, summary)\n",
    "lst[vec]"
   ]
  },
  {
   "cell_type": "code",
   "execution_count": 50,
   "id": "c52d422d-aa00-46c1-85fd-cb54b558a2e5",
   "metadata": {},
   "outputs": [
    {
     "data": {
      "image/png": "[encoded data removed]",
      "text/plain": [
       "plot without title"
      ]
     },
     "metadata": {
      "image/png": {
       "height": 240,
       "width": 420
      }
     },
     "output_type": "display_data"
    }
   ],
   "source": [
    "vec = c(\"pLog10_Signal\", \"pLog10_Length\", \"pGC\")\n",
    "tmp = dat %>% dplyr::filter(features %in% vec)\n",
    "\n",
    "gpt = ggplot(tmp, aes(x=values)) +\n",
    "    \n",
    "    stat_density(geom='line', position='identity') +\n",
    "    ggtitle(\"ATAC regions\") +\n",
    "    facet_wrap(~features, scales = \"free_x\") +\n",
    "    theme_bw() +\n",
    "    theme(plot.title=element_text(hjust=0.5))\n",
    "\n",
    "options(repr.plot.height = 4, repr.plot.width = 7)\n",
    "print(gpt)"
   ]
  },
  {
   "cell_type": "markdown",
   "id": "b414ee5c-d1d9-4dcb-b5f7-8f93ca16fe44",
   "metadata": {},
   "source": [
    "## Merge"
   ]
  },
  {
   "cell_type": "code",
   "execution_count": 198,
   "id": "96970d23-e98f-46bf-9f14-bb297e6bb2fa",
   "metadata": {},
   "outputs": [
    {
     "name": "stdout",
     "output_type": "stream",
     "text": [
      "[1] 150041    549\n"
     ]
    },
    {
     "data": {
      "text/html": [
       "<table class=\"dataframe\">\n",
       "<caption>A tibble: 6 × 549</caption>\n",
       "<thead>\n",
       "\t<tr><th scope=col>Chrom</th><th scope=col>ChromStart</th><th scope=col>ChromEnd</th><th scope=col>pGC</th><th scope=col>Length</th><th scope=col>Region</th><th scope=col>Input_FPKM</th><th scope=col>Input_TPM</th><th scope=col>Output_FPKM</th><th scope=col>Output_TPM</th><th scope=col>⋯</th><th scope=col>ZNF778</th><th scope=col>ZNF780A</th><th scope=col>ZNF785</th><th scope=col>ZNF79</th><th scope=col>ZNF83</th><th scope=col>ZNF830</th><th scope=col>ZNF84</th><th scope=col>ZSCAN29</th><th scope=col>ZSCAN32</th><th scope=col>ZZZ3</th></tr>\n",
       "\t<tr><th scope=col>&lt;chr&gt;</th><th scope=col>&lt;dbl&gt;</th><th scope=col>&lt;dbl&gt;</th><th scope=col>&lt;dbl&gt;</th><th scope=col>&lt;dbl&gt;</th><th scope=col>&lt;chr&gt;</th><th scope=col>&lt;dbl&gt;</th><th scope=col>&lt;dbl&gt;</th><th scope=col>&lt;dbl&gt;</th><th scope=col>&lt;dbl&gt;</th><th scope=col>⋯</th><th scope=col>&lt;dbl&gt;</th><th scope=col>&lt;dbl&gt;</th><th scope=col>&lt;dbl&gt;</th><th scope=col>&lt;dbl&gt;</th><th scope=col>&lt;dbl&gt;</th><th scope=col>&lt;dbl&gt;</th><th scope=col>&lt;dbl&gt;</th><th scope=col>&lt;dbl&gt;</th><th scope=col>&lt;dbl&gt;</th><th scope=col>&lt;dbl&gt;</th></tr>\n",
       "</thead>\n",
       "<tbody>\n",
       "\t<tr><td>chr1</td><td> 10038</td><td> 10405</td><td>0.523161</td><td>367</td><td>chr1:10038-10405  </td><td>0.004164383</td><td> 3.940038</td><td>0.0007357323</td><td> 0.7181993</td><td>⋯</td><td>0</td><td>0</td><td>0</td><td>0</td><td>0</td><td>0</td><td>0</td><td>0</td><td>0</td><td>0</td></tr>\n",
       "\t<tr><td>chr1</td><td> 14282</td><td> 14614</td><td>0.578313</td><td>332</td><td>chr1:14282-14614  </td><td>0.003003325</td><td> 2.841707</td><td>0.0022620843</td><td> 2.2104314</td><td>⋯</td><td>0</td><td>0</td><td>0</td><td>0</td><td>0</td><td>0</td><td>0</td><td>0</td><td>0</td><td>0</td></tr>\n",
       "\t<tr><td>chr1</td><td> 16025</td><td> 16338</td><td>0.587859</td><td>313</td><td>chr1:16025-16338  </td><td>0.004048701</td><td> 3.830812</td><td>0.0012867327</td><td> 1.2597204</td><td>⋯</td><td>0</td><td>0</td><td>0</td><td>0</td><td>0</td><td>0</td><td>0</td><td>0</td><td>0</td><td>0</td></tr>\n",
       "\t<tr><td>chr1</td><td> 17288</td><td> 17689</td><td>0.625935</td><td>401</td><td>chr1:17288-17689  </td><td>0.006551198</td><td> 6.198372</td><td>0.0017372529</td><td> 1.7059186</td><td>⋯</td><td>0</td><td>0</td><td>0</td><td>0</td><td>0</td><td>0</td><td>0</td><td>0</td><td>0</td><td>0</td></tr>\n",
       "\t<tr><td>chr1</td><td> 28934</td><td> 29499</td><td>0.771681</td><td>565</td><td>chr1:28934-29499  </td><td>0.004295316</td><td> 4.064322</td><td>0.0006561996</td><td> 0.6447721</td><td>⋯</td><td>0</td><td>0</td><td>0</td><td>0</td><td>0</td><td>0</td><td>0</td><td>0</td><td>0</td><td>0</td></tr>\n",
       "\t<tr><td>chr1</td><td>115429</td><td>115969</td><td>0.381481</td><td>540</td><td>chr1:115429-115969</td><td>0.015954822</td><td>15.096518</td><td>0.0282829448</td><td>27.6549997</td><td>⋯</td><td>0</td><td>0</td><td>0</td><td>0</td><td>0</td><td>0</td><td>0</td><td>1</td><td>0</td><td>0</td></tr>\n",
       "</tbody>\n",
       "</table>\n"
      ],
      "text/latex": [
       "A tibble: 6 × 549\n",
       "\\begin{tabular}{lllllllllllllllllllll}\n",
       " Chrom & ChromStart & ChromEnd & pGC & Length & Region & Input\\_FPKM & Input\\_TPM & Output\\_FPKM & Output\\_TPM & ⋯ & ZNF778 & ZNF780A & ZNF785 & ZNF79 & ZNF83 & ZNF830 & ZNF84 & ZSCAN29 & ZSCAN32 & ZZZ3\\\\\n",
       " <chr> & <dbl> & <dbl> & <dbl> & <dbl> & <chr> & <dbl> & <dbl> & <dbl> & <dbl> & ⋯ & <dbl> & <dbl> & <dbl> & <dbl> & <dbl> & <dbl> & <dbl> & <dbl> & <dbl> & <dbl>\\\\\n",
       "\\hline\n",
       "\t chr1 &  10038 &  10405 & 0.523161 & 367 & chr1:10038-10405   & 0.004164383 &  3.940038 & 0.0007357323 &  0.7181993 & ⋯ & 0 & 0 & 0 & 0 & 0 & 0 & 0 & 0 & 0 & 0\\\\\n",
       "\t chr1 &  14282 &  14614 & 0.578313 & 332 & chr1:14282-14614   & 0.003003325 &  2.841707 & 0.0022620843 &  2.2104314 & ⋯ & 0 & 0 & 0 & 0 & 0 & 0 & 0 & 0 & 0 & 0\\\\\n",
       "\t chr1 &  16025 &  16338 & 0.587859 & 313 & chr1:16025-16338   & 0.004048701 &  3.830812 & 0.0012867327 &  1.2597204 & ⋯ & 0 & 0 & 0 & 0 & 0 & 0 & 0 & 0 & 0 & 0\\\\\n",
       "\t chr1 &  17288 &  17689 & 0.625935 & 401 & chr1:17288-17689   & 0.006551198 &  6.198372 & 0.0017372529 &  1.7059186 & ⋯ & 0 & 0 & 0 & 0 & 0 & 0 & 0 & 0 & 0 & 0\\\\\n",
       "\t chr1 &  28934 &  29499 & 0.771681 & 565 & chr1:28934-29499   & 0.004295316 &  4.064322 & 0.0006561996 &  0.6447721 & ⋯ & 0 & 0 & 0 & 0 & 0 & 0 & 0 & 0 & 0 & 0\\\\\n",
       "\t chr1 & 115429 & 115969 & 0.381481 & 540 & chr1:115429-115969 & 0.015954822 & 15.096518 & 0.0282829448 & 27.6549997 & ⋯ & 0 & 0 & 0 & 0 & 0 & 0 & 0 & 1 & 0 & 0\\\\\n",
       "\\end{tabular}\n"
      ],
      "text/markdown": [
       "\n",
       "A tibble: 6 × 549\n",
       "\n",
       "| Chrom &lt;chr&gt; | ChromStart &lt;dbl&gt; | ChromEnd &lt;dbl&gt; | pGC &lt;dbl&gt; | Length &lt;dbl&gt; | Region &lt;chr&gt; | Input_FPKM &lt;dbl&gt; | Input_TPM &lt;dbl&gt; | Output_FPKM &lt;dbl&gt; | Output_TPM &lt;dbl&gt; | ⋯ ⋯ | ZNF778 &lt;dbl&gt; | ZNF780A &lt;dbl&gt; | ZNF785 &lt;dbl&gt; | ZNF79 &lt;dbl&gt; | ZNF83 &lt;dbl&gt; | ZNF830 &lt;dbl&gt; | ZNF84 &lt;dbl&gt; | ZSCAN29 &lt;dbl&gt; | ZSCAN32 &lt;dbl&gt; | ZZZ3 &lt;dbl&gt; |\n",
       "|---|---|---|---|---|---|---|---|---|---|---|---|---|---|---|---|---|---|---|---|---|\n",
       "| chr1 |  10038 |  10405 | 0.523161 | 367 | chr1:10038-10405   | 0.004164383 |  3.940038 | 0.0007357323 |  0.7181993 | ⋯ | 0 | 0 | 0 | 0 | 0 | 0 | 0 | 0 | 0 | 0 |\n",
       "| chr1 |  14282 |  14614 | 0.578313 | 332 | chr1:14282-14614   | 0.003003325 |  2.841707 | 0.0022620843 |  2.2104314 | ⋯ | 0 | 0 | 0 | 0 | 0 | 0 | 0 | 0 | 0 | 0 |\n",
       "| chr1 |  16025 |  16338 | 0.587859 | 313 | chr1:16025-16338   | 0.004048701 |  3.830812 | 0.0012867327 |  1.2597204 | ⋯ | 0 | 0 | 0 | 0 | 0 | 0 | 0 | 0 | 0 | 0 |\n",
       "| chr1 |  17288 |  17689 | 0.625935 | 401 | chr1:17288-17689   | 0.006551198 |  6.198372 | 0.0017372529 |  1.7059186 | ⋯ | 0 | 0 | 0 | 0 | 0 | 0 | 0 | 0 | 0 | 0 |\n",
       "| chr1 |  28934 |  29499 | 0.771681 | 565 | chr1:28934-29499   | 0.004295316 |  4.064322 | 0.0006561996 |  0.6447721 | ⋯ | 0 | 0 | 0 | 0 | 0 | 0 | 0 | 0 | 0 | 0 |\n",
       "| chr1 | 115429 | 115969 | 0.381481 | 540 | chr1:115429-115969 | 0.015954822 | 15.096518 | 0.0282829448 | 27.6549997 | ⋯ | 0 | 0 | 0 | 0 | 0 | 0 | 0 | 1 | 0 | 0 |\n",
       "\n"
      ],
      "text/plain": [
       "  Chrom ChromStart ChromEnd pGC      Length Region             Input_FPKM \n",
       "1 chr1   10038      10405   0.523161 367    chr1:10038-10405   0.004164383\n",
       "2 chr1   14282      14614   0.578313 332    chr1:14282-14614   0.003003325\n",
       "3 chr1   16025      16338   0.587859 313    chr1:16025-16338   0.004048701\n",
       "4 chr1   17288      17689   0.625935 401    chr1:17288-17689   0.006551198\n",
       "5 chr1   28934      29499   0.771681 565    chr1:28934-29499   0.004295316\n",
       "6 chr1  115429     115969   0.381481 540    chr1:115429-115969 0.015954822\n",
       "  Input_TPM Output_FPKM  Output_TPM ⋯ ZNF778 ZNF780A ZNF785 ZNF79 ZNF83 ZNF830\n",
       "1  3.940038 0.0007357323  0.7181993 ⋯ 0      0       0      0     0     0     \n",
       "2  2.841707 0.0022620843  2.2104314 ⋯ 0      0       0      0     0     0     \n",
       "3  3.830812 0.0012867327  1.2597204 ⋯ 0      0       0      0     0     0     \n",
       "4  6.198372 0.0017372529  1.7059186 ⋯ 0      0       0      0     0     0     \n",
       "5  4.064322 0.0006561996  0.6447721 ⋯ 0      0       0      0     0     0     \n",
       "6 15.096518 0.0282829448 27.6549997 ⋯ 0      0       0      0     0     0     \n",
       "  ZNF84 ZSCAN29 ZSCAN32 ZZZ3\n",
       "1 0     0       0       0   \n",
       "2 0     0       0       0   \n",
       "3 0     0       0       0   \n",
       "4 0     0       0       0   \n",
       "5 0     0       0       0   \n",
       "6 0     1       0       0   "
      ]
     },
     "metadata": {},
     "output_type": "display_data"
    }
   ],
   "source": [
    "dat = dplyr::inner_join(\n",
    "    dat_region_pgc,\n",
    "    dat_region_astarr,\n",
    "    by = c(\"Chrom\", \"ChromStart\", \"ChromEnd\", \"Region\")\n",
    ")\n",
    "dat = dat %>%\n",
    "    dplyr::mutate(\n",
    "        pLog10_Signal = log10(Input_TPM + 1),\n",
    "        pLog10_Length = log10(Length + 1),\n",
    "        pLog10_GC     = log10(pGC + 1),\n",
    "    )\n",
    "\n",
    "dat = dat %>% dplyr::left_join(\n",
    "    mat_region_annot,\n",
    "    by = c(\"Chrom\", \"ChromStart\", \"ChromEnd\", \"Region\")\n",
    ")\n",
    "dat = dat %>% replace(is.na(.), 0)\n",
    "\n",
    "dat_region_merge = dat\n",
    "print(dim(dat))\n",
    "head(dat)"
   ]
  }
 ],
 "metadata": {
  "kernelspec": {
   "display_name": "R",
   "language": "R",
   "name": "ir"
  },
  "language_info": {
   "codemirror_mode": "r",
   "file_extension": ".r",
   "mimetype": "text/x-r-source",
   "name": "R",
   "pygments_lexer": "r",
   "version": "4.4.1"
  }
 },
 "nbformat": 4,
 "nbformat_minor": 5
}
