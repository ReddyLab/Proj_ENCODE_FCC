{
 "cells": [
  {
   "cell_type": "raw",
   "id": "9baa4ea8-40ff-4b75-841f-2ca23f7495a6",
   "metadata": {},
   "source": [
    "---\n",
    "title: Prepare CRISPRi-Growth significant region 02\n",
    "subtitle: Explore regions\n",
    "format:\n",
    "    html:\n",
    "        code-fold:  true\n",
    "        code-tools: true\n",
    "---"
   ]
  },
  {
   "cell_type": "markdown",
   "id": "2d777488-2c4b-4d2d-88fe-dc510bf27ca4",
   "metadata": {},
   "source": [
    "**Set environment**"
   ]
  },
  {
   "cell_type": "code",
   "execution_count": 1,
   "id": "3e21e43c-b912-4902-8032-db2d05b330f0",
   "metadata": {},
   "outputs": [
    {
     "name": "stdout",
     "output_type": "stream",
     "text": [
      "You are working on        Singularity \n",
      "BASE DIRECTORY (FD_BASE): /mount \n",
      "REPO DIRECTORY (FD_REPO): /mount/repo \n",
      "WORK DIRECTORY (FD_WORK): /mount/work \n",
      "DATA DIRECTORY (FD_DATA): /mount/data \n",
      "\n",
      "You are working with      ENCODE FCC \n",
      "PATH OF PROJECT (FD_PRJ): /mount/repo/Proj_ENCODE_FCC \n",
      "PROJECT RESULTS (FD_RES): /mount/repo/Proj_ENCODE_FCC/results \n",
      "PROJECT SCRIPTS (FD_EXE): /mount/repo/Proj_ENCODE_FCC/scripts \n",
      "PROJECT DATA    (FD_DAT): /mount/repo/Proj_ENCODE_FCC/data \n",
      "PROJECT NOTE    (FD_NBK): /mount/repo/Proj_ENCODE_FCC/notebooks \n",
      "PROJECT DOCS    (FD_DOC): /mount/repo/Proj_ENCODE_FCC/docs \n",
      "PROJECT LOG     (FD_LOG): /mount/repo/Proj_ENCODE_FCC/log \n",
      "PROJECT APP     (FD_APP): /mount/repo/Proj_ENCODE_FCC/app \n",
      "PROJECT REF     (FD_REF): /mount/repo/Proj_ENCODE_FCC/references \n",
      "\n"
     ]
    }
   ],
   "source": [
    "suppressMessages(suppressWarnings(source(\"../run_config_project_sing.R\")))\n",
    "show_env()"
   ]
  },
  {
   "cell_type": "markdown",
   "id": "722fadcd-7a6a-496a-9f68-5d6e85f90a7f",
   "metadata": {},
   "source": [
    "**Set global variables**"
   ]
  },
  {
   "cell_type": "code",
   "execution_count": 5,
   "id": "4f294ff0-94a6-40eb-b92d-c4d3ebc9f6e9",
   "metadata": {},
   "outputs": [],
   "source": [
    "TXT_ASSAY = \"CRISPRi_Growth_K562_Gersbach_Alex\""
   ]
  },
  {
   "cell_type": "markdown",
   "id": "9a02d084-315d-4184-94ed-17713b07267f",
   "metadata": {},
   "source": [
    "## Import data"
   ]
  },
  {
   "cell_type": "code",
   "execution_count": 10,
   "id": "b5557ea6-746f-4391-8e25-635194f30dc6",
   "metadata": {},
   "outputs": [
    {
     "name": "stdout",
     "output_type": "stream",
     "text": [
      "2023_resubmission \n",
      "k562-gw-v3-all.sorted.counts.results.hg38.txt.gz \n",
      "k562-gw-v3-all.sorted.counts.results.top_guide_fdr_0_05.hg38.bed.gz \n"
     ]
    }
   ],
   "source": [
    "txt_assay = TXT_ASSAY\n",
    "txt_fdiry = file.path(FD_DAT, \"processed\", txt_assay)\n",
    "\n",
    "vec = dir(txt_fdiry)\n",
    "for (txt in vec){cat(txt, \"\\n\")}"
   ]
  },
  {
   "cell_type": "code",
   "execution_count": 12,
   "id": "525c8039-ae7c-4e5a-b846-7d93172d16a1",
   "metadata": {},
   "outputs": [
    {
     "name": "stderr",
     "output_type": "stream",
     "text": [
      "\u001b[1m\u001b[22mNew names:\n",
      "\u001b[36m•\u001b[39m `` -> `...1`\n"
     ]
    },
    {
     "name": "stdout",
     "output_type": "stream",
     "text": [
      "[1] 1092166      22\n"
     ]
    },
    {
     "data": {
      "text/html": [
       "<table>\n",
       " <thead>\n",
       "  <tr>\n",
       "   <th style=\"text-align:right;\"> RowID </th>\n",
       "   <th style=\"text-align:right;\"> baseMean </th>\n",
       "   <th style=\"text-align:right;\"> log2FoldChange </th>\n",
       "   <th style=\"text-align:right;\"> lfcSE </th>\n",
       "   <th style=\"text-align:right;\"> stat </th>\n",
       "   <th style=\"text-align:right;\"> pvalue </th>\n",
       "   <th style=\"text-align:right;\"> padj </th>\n",
       "   <th style=\"text-align:right;\"> weight </th>\n",
       "   <th style=\"text-align:left;\"> name </th>\n",
       "   <th style=\"text-align:left;\"> dhs_chrom </th>\n",
       "   <th style=\"text-align:right;\"> dhs_start </th>\n",
       "   <th style=\"text-align:right;\"> dhs_end </th>\n",
       "   <th style=\"text-align:left;\"> ID </th>\n",
       "   <th style=\"text-align:left;\"> chrPerturbationTarget </th>\n",
       "   <th style=\"text-align:right;\"> startPerturbationTarget </th>\n",
       "   <th style=\"text-align:right;\"> endPerturbationTarget </th>\n",
       "   <th style=\"text-align:left;\"> chrom </th>\n",
       "   <th style=\"text-align:right;\"> start </th>\n",
       "   <th style=\"text-align:right;\"> end </th>\n",
       "   <th style=\"text-align:left;\"> dhs_id </th>\n",
       "   <th style=\"text-align:right;\"> score </th>\n",
       "   <th style=\"text-align:left;\"> strand </th>\n",
       "  </tr>\n",
       " </thead>\n",
       "<tbody>\n",
       "  <tr>\n",
       "   <td style=\"text-align:right;\"> 0 </td>\n",
       "   <td style=\"text-align:right;\"> 669.8027 </td>\n",
       "   <td style=\"text-align:right;\"> -0.9859338 </td>\n",
       "   <td style=\"text-align:right;\"> 0.1352781 </td>\n",
       "   <td style=\"text-align:right;\"> -7.5156478 </td>\n",
       "   <td style=\"text-align:right;\"> 0.0000000 </td>\n",
       "   <td style=\"text-align:right;\"> 0.0000000 </td>\n",
       "   <td style=\"text-align:right;\"> 1.0189024 </td>\n",
       "   <td style=\"text-align:left;\"> chr1.1.1 </td>\n",
       "   <td style=\"text-align:left;\"> chr1 </td>\n",
       "   <td style=\"text-align:right;\"> 540930 </td>\n",
       "   <td style=\"text-align:right;\"> 541007 </td>\n",
       "   <td style=\"text-align:left;\"> chr1.1 </td>\n",
       "   <td style=\"text-align:left;\"> chr1 </td>\n",
       "   <td style=\"text-align:right;\"> 540951 </td>\n",
       "   <td style=\"text-align:right;\"> 540970 </td>\n",
       "   <td style=\"text-align:left;\"> chr1 </td>\n",
       "   <td style=\"text-align:right;\"> 605550 </td>\n",
       "   <td style=\"text-align:right;\"> 605627 </td>\n",
       "   <td style=\"text-align:left;\"> chr1.1 </td>\n",
       "   <td style=\"text-align:right;\"> 521 </td>\n",
       "   <td style=\"text-align:left;\"> . </td>\n",
       "  </tr>\n",
       "  <tr>\n",
       "   <td style=\"text-align:right;\"> 1 </td>\n",
       "   <td style=\"text-align:right;\"> 1210.5948 </td>\n",
       "   <td style=\"text-align:right;\"> 0.0175568 </td>\n",
       "   <td style=\"text-align:right;\"> 0.1125958 </td>\n",
       "   <td style=\"text-align:right;\"> 0.9724725 </td>\n",
       "   <td style=\"text-align:right;\"> 0.3308155 </td>\n",
       "   <td style=\"text-align:right;\"> 0.8618381 </td>\n",
       "   <td style=\"text-align:right;\"> 1.3894218 </td>\n",
       "   <td style=\"text-align:left;\"> chr1.1.2 </td>\n",
       "   <td style=\"text-align:left;\"> chr1 </td>\n",
       "   <td style=\"text-align:right;\"> 540930 </td>\n",
       "   <td style=\"text-align:right;\"> 541007 </td>\n",
       "   <td style=\"text-align:left;\"> chr1.1 </td>\n",
       "   <td style=\"text-align:left;\"> chr1 </td>\n",
       "   <td style=\"text-align:right;\"> 540971 </td>\n",
       "   <td style=\"text-align:right;\"> 540990 </td>\n",
       "   <td style=\"text-align:left;\"> chr1 </td>\n",
       "   <td style=\"text-align:right;\"> 605550 </td>\n",
       "   <td style=\"text-align:right;\"> 605627 </td>\n",
       "   <td style=\"text-align:left;\"> chr1.1 </td>\n",
       "   <td style=\"text-align:right;\"> 521 </td>\n",
       "   <td style=\"text-align:left;\"> . </td>\n",
       "  </tr>\n",
       "  <tr>\n",
       "   <td style=\"text-align:right;\"> 2 </td>\n",
       "   <td style=\"text-align:right;\"> 2065.7482 </td>\n",
       "   <td style=\"text-align:right;\"> 0.0142221 </td>\n",
       "   <td style=\"text-align:right;\"> 0.0769462 </td>\n",
       "   <td style=\"text-align:right;\"> 0.7948325 </td>\n",
       "   <td style=\"text-align:right;\"> 0.4267110 </td>\n",
       "   <td style=\"text-align:right;\"> 0.9074943 </td>\n",
       "   <td style=\"text-align:right;\"> 1.2206106 </td>\n",
       "   <td style=\"text-align:left;\"> chr1.1.3 </td>\n",
       "   <td style=\"text-align:left;\"> chr1 </td>\n",
       "   <td style=\"text-align:right;\"> 540930 </td>\n",
       "   <td style=\"text-align:right;\"> 541007 </td>\n",
       "   <td style=\"text-align:left;\"> chr1.1 </td>\n",
       "   <td style=\"text-align:left;\"> chr1 </td>\n",
       "   <td style=\"text-align:right;\"> 540963 </td>\n",
       "   <td style=\"text-align:right;\"> 540982 </td>\n",
       "   <td style=\"text-align:left;\"> chr1 </td>\n",
       "   <td style=\"text-align:right;\"> 605550 </td>\n",
       "   <td style=\"text-align:right;\"> 605627 </td>\n",
       "   <td style=\"text-align:left;\"> chr1.1 </td>\n",
       "   <td style=\"text-align:right;\"> 521 </td>\n",
       "   <td style=\"text-align:left;\"> . </td>\n",
       "  </tr>\n",
       "  <tr>\n",
       "   <td style=\"text-align:right;\"> 3 </td>\n",
       "   <td style=\"text-align:right;\"> 670.0537 </td>\n",
       "   <td style=\"text-align:right;\"> 0.0184355 </td>\n",
       "   <td style=\"text-align:right;\"> 0.1262349 </td>\n",
       "   <td style=\"text-align:right;\"> 1.0421596 </td>\n",
       "   <td style=\"text-align:right;\"> 0.2973377 </td>\n",
       "   <td style=\"text-align:right;\"> 0.8864450 </td>\n",
       "   <td style=\"text-align:right;\"> 1.0189024 </td>\n",
       "   <td style=\"text-align:left;\"> chr1.1.4 </td>\n",
       "   <td style=\"text-align:left;\"> chr1 </td>\n",
       "   <td style=\"text-align:right;\"> 540930 </td>\n",
       "   <td style=\"text-align:right;\"> 541007 </td>\n",
       "   <td style=\"text-align:left;\"> chr1.1 </td>\n",
       "   <td style=\"text-align:left;\"> chr1 </td>\n",
       "   <td style=\"text-align:right;\"> 540953 </td>\n",
       "   <td style=\"text-align:right;\"> 540972 </td>\n",
       "   <td style=\"text-align:left;\"> chr1 </td>\n",
       "   <td style=\"text-align:right;\"> 605550 </td>\n",
       "   <td style=\"text-align:right;\"> 605627 </td>\n",
       "   <td style=\"text-align:left;\"> chr1.1 </td>\n",
       "   <td style=\"text-align:right;\"> 521 </td>\n",
       "   <td style=\"text-align:left;\"> . </td>\n",
       "  </tr>\n",
       "  <tr>\n",
       "   <td style=\"text-align:right;\"> 4 </td>\n",
       "   <td style=\"text-align:right;\"> 1023.9170 </td>\n",
       "   <td style=\"text-align:right;\"> 0.0112653 </td>\n",
       "   <td style=\"text-align:right;\"> 0.1017871 </td>\n",
       "   <td style=\"text-align:right;\"> 0.6436207 </td>\n",
       "   <td style=\"text-align:right;\"> 0.5198214 </td>\n",
       "   <td style=\"text-align:right;\"> 0.9145863 </td>\n",
       "   <td style=\"text-align:right;\"> 1.3894218 </td>\n",
       "   <td style=\"text-align:left;\"> chr1.1.5 </td>\n",
       "   <td style=\"text-align:left;\"> chr1 </td>\n",
       "   <td style=\"text-align:right;\"> 540930 </td>\n",
       "   <td style=\"text-align:right;\"> 541007 </td>\n",
       "   <td style=\"text-align:left;\"> chr1.1 </td>\n",
       "   <td style=\"text-align:left;\"> chr1 </td>\n",
       "   <td style=\"text-align:right;\"> 540954 </td>\n",
       "   <td style=\"text-align:right;\"> 540973 </td>\n",
       "   <td style=\"text-align:left;\"> chr1 </td>\n",
       "   <td style=\"text-align:right;\"> 605550 </td>\n",
       "   <td style=\"text-align:right;\"> 605627 </td>\n",
       "   <td style=\"text-align:left;\"> chr1.1 </td>\n",
       "   <td style=\"text-align:right;\"> 521 </td>\n",
       "   <td style=\"text-align:left;\"> . </td>\n",
       "  </tr>\n",
       "  <tr>\n",
       "   <td style=\"text-align:right;\"> 5 </td>\n",
       "   <td style=\"text-align:right;\"> 605.4137 </td>\n",
       "   <td style=\"text-align:right;\"> 0.0324261 </td>\n",
       "   <td style=\"text-align:right;\"> 0.1459777 </td>\n",
       "   <td style=\"text-align:right;\"> 1.6813118 </td>\n",
       "   <td style=\"text-align:right;\"> 0.0927024 </td>\n",
       "   <td style=\"text-align:right;\"> 0.7390114 </td>\n",
       "   <td style=\"text-align:right;\"> 0.9584715 </td>\n",
       "   <td style=\"text-align:left;\"> chr1.1.6 </td>\n",
       "   <td style=\"text-align:left;\"> chr1 </td>\n",
       "   <td style=\"text-align:right;\"> 540930 </td>\n",
       "   <td style=\"text-align:right;\"> 541007 </td>\n",
       "   <td style=\"text-align:left;\"> chr1.1 </td>\n",
       "   <td style=\"text-align:left;\"> chr1 </td>\n",
       "   <td style=\"text-align:right;\"> 540979 </td>\n",
       "   <td style=\"text-align:right;\"> 540998 </td>\n",
       "   <td style=\"text-align:left;\"> chr1 </td>\n",
       "   <td style=\"text-align:right;\"> 605550 </td>\n",
       "   <td style=\"text-align:right;\"> 605627 </td>\n",
       "   <td style=\"text-align:left;\"> chr1.1 </td>\n",
       "   <td style=\"text-align:right;\"> 521 </td>\n",
       "   <td style=\"text-align:left;\"> . </td>\n",
       "  </tr>\n",
       "</tbody>\n",
       "</table>"
      ]
     },
     "metadata": {},
     "output_type": "display_data"
    }
   ],
   "source": [
    "txt_assay = TXT_ASSAY\n",
    "txt_fdiry = file.path(FD_DAT, \"processed\", txt_assay)\n",
    "txt_fname = \"k562-gw-v3-all.sorted.counts.results.hg38.txt.gz\"\n",
    "txt_fpath = file.path(txt_fdiry, txt_fname)\n",
    "\n",
    "dat = read_tsv(txt_fpath, show_col_types = FALSE)\n",
    "colnames(dat)[1] = \"RowID\"\n",
    "\n",
    "dat_peak_crispri_growth_total = dat\n",
    "print(dim(dat))\n",
    "fun_display_table(head(dat))"
   ]
  },
  {
   "cell_type": "code",
   "execution_count": 14,
   "id": "89b4ed0f-cf58-42c1-91aa-987e54006707",
   "metadata": {},
   "outputs": [
    {
     "name": "stderr",
     "output_type": "stream",
     "text": [
      "\u001b[1m\u001b[22mNew names:\n",
      "\u001b[36m•\u001b[39m `` -> `...1`\n"
     ]
    },
    {
     "name": "stdout",
     "output_type": "stream",
     "text": [
      "[1] 6242    7\n"
     ]
    },
    {
     "data": {
      "text/html": [
       "<table>\n",
       " <thead>\n",
       "  <tr>\n",
       "   <th style=\"text-align:right;\"> RowID </th>\n",
       "   <th style=\"text-align:left;\"> chrom </th>\n",
       "   <th style=\"text-align:right;\"> start </th>\n",
       "   <th style=\"text-align:right;\"> end </th>\n",
       "   <th style=\"text-align:left;\"> name </th>\n",
       "   <th style=\"text-align:right;\"> log2FoldChange </th>\n",
       "   <th style=\"text-align:right;\"> padj </th>\n",
       "  </tr>\n",
       " </thead>\n",
       "<tbody>\n",
       "  <tr>\n",
       "   <td style=\"text-align:right;\"> 504606 </td>\n",
       "   <td style=\"text-align:left;\"> chr19 </td>\n",
       "   <td style=\"text-align:right;\"> 11155578 </td>\n",
       "   <td style=\"text-align:right;\"> 11156290 </td>\n",
       "   <td style=\"text-align:left;\"> chr19.1899.3 </td>\n",
       "   <td style=\"text-align:right;\"> -2.549922 </td>\n",
       "   <td style=\"text-align:right;\"> 0 </td>\n",
       "  </tr>\n",
       "  <tr>\n",
       "   <td style=\"text-align:right;\"> 686888 </td>\n",
       "   <td style=\"text-align:left;\"> chr22 </td>\n",
       "   <td style=\"text-align:right;\"> 30356286 </td>\n",
       "   <td style=\"text-align:right;\"> 30357525 </td>\n",
       "   <td style=\"text-align:left;\"> chr22.1285.6 </td>\n",
       "   <td style=\"text-align:right;\"> -3.059909 </td>\n",
       "   <td style=\"text-align:right;\"> 0 </td>\n",
       "  </tr>\n",
       "  <tr>\n",
       "   <td style=\"text-align:right;\"> 868222 </td>\n",
       "   <td style=\"text-align:left;\"> chr6 </td>\n",
       "   <td style=\"text-align:right;\"> 34530428 </td>\n",
       "   <td style=\"text-align:right;\"> 34530534 </td>\n",
       "   <td style=\"text-align:left;\"> chr6.2172.8 </td>\n",
       "   <td style=\"text-align:right;\"> -3.100194 </td>\n",
       "   <td style=\"text-align:right;\"> 0 </td>\n",
       "  </tr>\n",
       "  <tr>\n",
       "   <td style=\"text-align:right;\"> 50002 </td>\n",
       "   <td style=\"text-align:left;\"> chr1 </td>\n",
       "   <td style=\"text-align:right;\"> 20685850 </td>\n",
       "   <td style=\"text-align:right;\"> 20686283 </td>\n",
       "   <td style=\"text-align:left;\"> chr1.2930.10 </td>\n",
       "   <td style=\"text-align:right;\"> -2.862158 </td>\n",
       "   <td style=\"text-align:right;\"> 0 </td>\n",
       "  </tr>\n",
       "  <tr>\n",
       "   <td style=\"text-align:right;\"> 811835 </td>\n",
       "   <td style=\"text-align:left;\"> chr5 </td>\n",
       "   <td style=\"text-align:right;\"> 70924811 </td>\n",
       "   <td style=\"text-align:right;\"> 70925615 </td>\n",
       "   <td style=\"text-align:left;\"> chr5.1649.1 </td>\n",
       "   <td style=\"text-align:right;\"> -2.927110 </td>\n",
       "   <td style=\"text-align:right;\"> 0 </td>\n",
       "  </tr>\n",
       "  <tr>\n",
       "   <td style=\"text-align:right;\"> 811815 </td>\n",
       "   <td style=\"text-align:left;\"> chr5 </td>\n",
       "   <td style=\"text-align:right;\"> 70049360 </td>\n",
       "   <td style=\"text-align:right;\"> 70050252 </td>\n",
       "   <td style=\"text-align:left;\"> chr5.1647.1 </td>\n",
       "   <td style=\"text-align:right;\"> -2.927110 </td>\n",
       "   <td style=\"text-align:right;\"> 0 </td>\n",
       "  </tr>\n",
       "</tbody>\n",
       "</table>"
      ]
     },
     "metadata": {},
     "output_type": "display_data"
    }
   ],
   "source": [
    "txt_assay = TXT_ASSAY\n",
    "txt_fdiry = file.path(FD_DAT, \"processed\", txt_assay)\n",
    "txt_fname = \"k562-gw-v3-all.sorted.counts.results.top_guide_fdr_0_05.hg38.bed.gz\"\n",
    "txt_fpath = file.path(txt_fdiry, txt_fname)\n",
    "\n",
    "dat = read_csv(txt_fpath, show_col_types = FALSE)\n",
    "colnames(dat)[1] = \"RowID\"\n",
    "\n",
    "dat_peak_crispri_growth_signif = dat\n",
    "print(dim(dat))\n",
    "fun_display_table(head(dat))"
   ]
  },
  {
   "cell_type": "markdown",
   "id": "c2477d7b-35ed-4336-bb20-8b0a733e40e1",
   "metadata": {},
   "source": []
  },
  {
   "cell_type": "code",
   "execution_count": 38,
   "id": "070b0dac-03d2-4bd4-a65a-625daf969367",
   "metadata": {},
   "outputs": [
    {
     "data": {
      "text/html": [
       "<table class=\"dataframe\">\n",
       "<caption>A tibble: 6 × 7</caption>\n",
       "<thead>\n",
       "\t<tr><th scope=col>RowID</th><th scope=col>chrom</th><th scope=col>start</th><th scope=col>end</th><th scope=col>name</th><th scope=col>log2FoldChange</th><th scope=col>padj</th></tr>\n",
       "\t<tr><th scope=col>&lt;dbl&gt;</th><th scope=col>&lt;chr&gt;</th><th scope=col>&lt;dbl&gt;</th><th scope=col>&lt;dbl&gt;</th><th scope=col>&lt;chr&gt;</th><th scope=col>&lt;dbl&gt;</th><th scope=col>&lt;dbl&gt;</th></tr>\n",
       "</thead>\n",
       "<tbody>\n",
       "\t<tr><td>504606</td><td>chr19</td><td>11155578</td><td>11156290</td><td>chr19.1899.3</td><td>-2.549922</td><td>3.771775e-123</td></tr>\n",
       "\t<tr><td>686888</td><td>chr22</td><td>30356286</td><td>30357525</td><td>chr22.1285.6</td><td>-3.059909</td><td>9.819760e-120</td></tr>\n",
       "\t<tr><td>868222</td><td>chr6 </td><td>34530428</td><td>34530534</td><td>chr6.2172.8 </td><td>-3.100194</td><td>1.232839e-117</td></tr>\n",
       "\t<tr><td> 50002</td><td>chr1 </td><td>20685850</td><td>20686283</td><td>chr1.2930.10</td><td>-2.862158</td><td>9.548565e-109</td></tr>\n",
       "\t<tr><td>811835</td><td>chr5 </td><td>70924811</td><td>70925615</td><td>chr5.1649.1 </td><td>-2.927110</td><td>4.298640e-107</td></tr>\n",
       "\t<tr><td>811815</td><td>chr5 </td><td>70049360</td><td>70050252</td><td>chr5.1647.1 </td><td>-2.927110</td><td>4.298640e-107</td></tr>\n",
       "</tbody>\n",
       "</table>\n"
      ],
      "text/latex": [
       "A tibble: 6 × 7\n",
       "\\begin{tabular}{lllllll}\n",
       " RowID & chrom & start & end & name & log2FoldChange & padj\\\\\n",
       " <dbl> & <chr> & <dbl> & <dbl> & <chr> & <dbl> & <dbl>\\\\\n",
       "\\hline\n",
       "\t 504606 & chr19 & 11155578 & 11156290 & chr19.1899.3 & -2.549922 & 3.771775e-123\\\\\n",
       "\t 686888 & chr22 & 30356286 & 30357525 & chr22.1285.6 & -3.059909 & 9.819760e-120\\\\\n",
       "\t 868222 & chr6  & 34530428 & 34530534 & chr6.2172.8  & -3.100194 & 1.232839e-117\\\\\n",
       "\t  50002 & chr1  & 20685850 & 20686283 & chr1.2930.10 & -2.862158 & 9.548565e-109\\\\\n",
       "\t 811835 & chr5  & 70924811 & 70925615 & chr5.1649.1  & -2.927110 & 4.298640e-107\\\\\n",
       "\t 811815 & chr5  & 70049360 & 70050252 & chr5.1647.1  & -2.927110 & 4.298640e-107\\\\\n",
       "\\end{tabular}\n"
      ],
      "text/markdown": [
       "\n",
       "A tibble: 6 × 7\n",
       "\n",
       "| RowID &lt;dbl&gt; | chrom &lt;chr&gt; | start &lt;dbl&gt; | end &lt;dbl&gt; | name &lt;chr&gt; | log2FoldChange &lt;dbl&gt; | padj &lt;dbl&gt; |\n",
       "|---|---|---|---|---|---|---|\n",
       "| 504606 | chr19 | 11155578 | 11156290 | chr19.1899.3 | -2.549922 | 3.771775e-123 |\n",
       "| 686888 | chr22 | 30356286 | 30357525 | chr22.1285.6 | -3.059909 | 9.819760e-120 |\n",
       "| 868222 | chr6  | 34530428 | 34530534 | chr6.2172.8  | -3.100194 | 1.232839e-117 |\n",
       "|  50002 | chr1  | 20685850 | 20686283 | chr1.2930.10 | -2.862158 | 9.548565e-109 |\n",
       "| 811835 | chr5  | 70924811 | 70925615 | chr5.1649.1  | -2.927110 | 4.298640e-107 |\n",
       "| 811815 | chr5  | 70049360 | 70050252 | chr5.1647.1  | -2.927110 | 4.298640e-107 |\n",
       "\n"
      ],
      "text/plain": [
       "  RowID  chrom start    end      name         log2FoldChange padj         \n",
       "1 504606 chr19 11155578 11156290 chr19.1899.3 -2.549922      3.771775e-123\n",
       "2 686888 chr22 30356286 30357525 chr22.1285.6 -3.059909      9.819760e-120\n",
       "3 868222 chr6  34530428 34530534 chr6.2172.8  -3.100194      1.232839e-117\n",
       "4  50002 chr1  20685850 20686283 chr1.2930.10 -2.862158      9.548565e-109\n",
       "5 811835 chr5  70924811 70925615 chr5.1649.1  -2.927110      4.298640e-107\n",
       "6 811815 chr5  70049360 70050252 chr5.1647.1  -2.927110      4.298640e-107"
      ]
     },
     "metadata": {},
     "output_type": "display_data"
    }
   ],
   "source": [
    "dat = dat_peak_crispri_growth_signif\n",
    "head(dat)"
   ]
  },
  {
   "cell_type": "code",
   "execution_count": 44,
   "id": "b2884ea0-1596-42eb-ab93-c1598b272240",
   "metadata": {},
   "outputs": [
    {
     "name": "stdout",
     "output_type": "stream",
     "text": [
      "[1] 6242    6\n"
     ]
    },
    {
     "data": {
      "text/html": [
       "<table class=\"dataframe\">\n",
       "<caption>A tibble: 6 × 6</caption>\n",
       "<thead>\n",
       "\t<tr><th scope=col>chrom</th><th scope=col>start</th><th scope=col>end</th><th scope=col>name</th><th scope=col>log2FoldChange</th><th scope=col>padj</th></tr>\n",
       "\t<tr><th scope=col>&lt;chr&gt;</th><th scope=col>&lt;dbl&gt;</th><th scope=col>&lt;dbl&gt;</th><th scope=col>&lt;chr&gt;</th><th scope=col>&lt;dbl&gt;</th><th scope=col>&lt;dbl&gt;</th></tr>\n",
       "</thead>\n",
       "<tbody>\n",
       "\t<tr><td>chr19</td><td>11155578</td><td>11156290</td><td>chr19.1899.3</td><td>-2.549922</td><td>3.771775e-123</td></tr>\n",
       "\t<tr><td>chr22</td><td>30356286</td><td>30357525</td><td>chr22.1285.6</td><td>-3.059909</td><td>9.819760e-120</td></tr>\n",
       "\t<tr><td>chr6 </td><td>34530428</td><td>34530534</td><td>chr6.2172.8 </td><td>-3.100194</td><td>1.232839e-117</td></tr>\n",
       "\t<tr><td>chr1 </td><td>20685850</td><td>20686283</td><td>chr1.2930.10</td><td>-2.862158</td><td>9.548565e-109</td></tr>\n",
       "\t<tr><td>chr5 </td><td>70049360</td><td>70050252</td><td>chr5.1647.1 </td><td>-2.927110</td><td>4.298640e-107</td></tr>\n",
       "\t<tr><td>chr5 </td><td>70924811</td><td>70925615</td><td>chr5.1649.1 </td><td>-2.927110</td><td>4.298640e-107</td></tr>\n",
       "</tbody>\n",
       "</table>\n"
      ],
      "text/latex": [
       "A tibble: 6 × 6\n",
       "\\begin{tabular}{llllll}\n",
       " chrom & start & end & name & log2FoldChange & padj\\\\\n",
       " <chr> & <dbl> & <dbl> & <chr> & <dbl> & <dbl>\\\\\n",
       "\\hline\n",
       "\t chr19 & 11155578 & 11156290 & chr19.1899.3 & -2.549922 & 3.771775e-123\\\\\n",
       "\t chr22 & 30356286 & 30357525 & chr22.1285.6 & -3.059909 & 9.819760e-120\\\\\n",
       "\t chr6  & 34530428 & 34530534 & chr6.2172.8  & -3.100194 & 1.232839e-117\\\\\n",
       "\t chr1  & 20685850 & 20686283 & chr1.2930.10 & -2.862158 & 9.548565e-109\\\\\n",
       "\t chr5  & 70049360 & 70050252 & chr5.1647.1  & -2.927110 & 4.298640e-107\\\\\n",
       "\t chr5  & 70924811 & 70925615 & chr5.1649.1  & -2.927110 & 4.298640e-107\\\\\n",
       "\\end{tabular}\n"
      ],
      "text/markdown": [
       "\n",
       "A tibble: 6 × 6\n",
       "\n",
       "| chrom &lt;chr&gt; | start &lt;dbl&gt; | end &lt;dbl&gt; | name &lt;chr&gt; | log2FoldChange &lt;dbl&gt; | padj &lt;dbl&gt; |\n",
       "|---|---|---|---|---|---|\n",
       "| chr19 | 11155578 | 11156290 | chr19.1899.3 | -2.549922 | 3.771775e-123 |\n",
       "| chr22 | 30356286 | 30357525 | chr22.1285.6 | -3.059909 | 9.819760e-120 |\n",
       "| chr6  | 34530428 | 34530534 | chr6.2172.8  | -3.100194 | 1.232839e-117 |\n",
       "| chr1  | 20685850 | 20686283 | chr1.2930.10 | -2.862158 | 9.548565e-109 |\n",
       "| chr5  | 70049360 | 70050252 | chr5.1647.1  | -2.927110 | 4.298640e-107 |\n",
       "| chr5  | 70924811 | 70925615 | chr5.1649.1  | -2.927110 | 4.298640e-107 |\n",
       "\n"
      ],
      "text/plain": [
       "  chrom start    end      name         log2FoldChange padj         \n",
       "1 chr19 11155578 11156290 chr19.1899.3 -2.549922      3.771775e-123\n",
       "2 chr22 30356286 30357525 chr22.1285.6 -3.059909      9.819760e-120\n",
       "3 chr6  34530428 34530534 chr6.2172.8  -3.100194      1.232839e-117\n",
       "4 chr1  20685850 20686283 chr1.2930.10 -2.862158      9.548565e-109\n",
       "5 chr5  70049360 70050252 chr5.1647.1  -2.927110      4.298640e-107\n",
       "6 chr5  70924811 70925615 chr5.1649.1  -2.927110      4.298640e-107"
      ]
     },
     "metadata": {},
     "output_type": "display_data"
    }
   ],
   "source": [
    "txt = c(\"chrom\", \"start\", \"end\", \"name\", \"log2FoldChange\", \"padj\")\n",
    "\n",
    "dat = dat_peak_crispri_growth_signif\n",
    "idx = dat$name\n",
    "\n",
    "dat = dat_peak_crispri_growth_total\n",
    "dat = dat %>% \n",
    "    dplyr::select({{txt}}) %>% \n",
    "    dplyr::filter(name %in% idx) %>% \n",
    "    dplyr::arrange(padj)\n",
    "    \n",
    "print(dim(dat))\n",
    "head(dat)"
   ]
  },
  {
   "cell_type": "code",
   "execution_count": 47,
   "id": "b9fd1558-8308-4d38-b3d3-a5c470d572d9",
   "metadata": {},
   "outputs": [
    {
     "name": "stdout",
     "output_type": "stream",
     "text": [
      "[1] 6244    6\n"
     ]
    },
    {
     "data": {
      "text/html": [
       "<table class=\"dataframe\">\n",
       "<caption>A grouped_df: 6 × 6</caption>\n",
       "<thead>\n",
       "\t<tr><th scope=col>chrom</th><th scope=col>start</th><th scope=col>end</th><th scope=col>name</th><th scope=col>log2FoldChange</th><th scope=col>padj</th></tr>\n",
       "\t<tr><th scope=col>&lt;chr&gt;</th><th scope=col>&lt;dbl&gt;</th><th scope=col>&lt;dbl&gt;</th><th scope=col>&lt;chr&gt;</th><th scope=col>&lt;dbl&gt;</th><th scope=col>&lt;dbl&gt;</th></tr>\n",
       "</thead>\n",
       "<tbody>\n",
       "\t<tr><td>chr19</td><td>11155578</td><td>11156290</td><td>chr19.1899.3</td><td>-2.549922</td><td>3.771775e-123</td></tr>\n",
       "\t<tr><td>chr22</td><td>30356286</td><td>30357525</td><td>chr22.1285.6</td><td>-3.059909</td><td>9.819760e-120</td></tr>\n",
       "\t<tr><td>chr6 </td><td>34530428</td><td>34530534</td><td>chr6.2172.8 </td><td>-3.100194</td><td>1.232839e-117</td></tr>\n",
       "\t<tr><td>chr1 </td><td>20685850</td><td>20686283</td><td>chr1.2930.10</td><td>-2.862158</td><td>9.548565e-109</td></tr>\n",
       "\t<tr><td>chr5 </td><td>70049360</td><td>70050252</td><td>chr5.1647.1 </td><td>-2.927110</td><td>4.298640e-107</td></tr>\n",
       "\t<tr><td>chr5 </td><td>70924811</td><td>70925615</td><td>chr5.1649.1 </td><td>-2.927110</td><td>4.298640e-107</td></tr>\n",
       "</tbody>\n",
       "</table>\n"
      ],
      "text/latex": [
       "A grouped\\_df: 6 × 6\n",
       "\\begin{tabular}{llllll}\n",
       " chrom & start & end & name & log2FoldChange & padj\\\\\n",
       " <chr> & <dbl> & <dbl> & <chr> & <dbl> & <dbl>\\\\\n",
       "\\hline\n",
       "\t chr19 & 11155578 & 11156290 & chr19.1899.3 & -2.549922 & 3.771775e-123\\\\\n",
       "\t chr22 & 30356286 & 30357525 & chr22.1285.6 & -3.059909 & 9.819760e-120\\\\\n",
       "\t chr6  & 34530428 & 34530534 & chr6.2172.8  & -3.100194 & 1.232839e-117\\\\\n",
       "\t chr1  & 20685850 & 20686283 & chr1.2930.10 & -2.862158 & 9.548565e-109\\\\\n",
       "\t chr5  & 70049360 & 70050252 & chr5.1647.1  & -2.927110 & 4.298640e-107\\\\\n",
       "\t chr5  & 70924811 & 70925615 & chr5.1649.1  & -2.927110 & 4.298640e-107\\\\\n",
       "\\end{tabular}\n"
      ],
      "text/markdown": [
       "\n",
       "A grouped_df: 6 × 6\n",
       "\n",
       "| chrom &lt;chr&gt; | start &lt;dbl&gt; | end &lt;dbl&gt; | name &lt;chr&gt; | log2FoldChange &lt;dbl&gt; | padj &lt;dbl&gt; |\n",
       "|---|---|---|---|---|---|\n",
       "| chr19 | 11155578 | 11156290 | chr19.1899.3 | -2.549922 | 3.771775e-123 |\n",
       "| chr22 | 30356286 | 30357525 | chr22.1285.6 | -3.059909 | 9.819760e-120 |\n",
       "| chr6  | 34530428 | 34530534 | chr6.2172.8  | -3.100194 | 1.232839e-117 |\n",
       "| chr1  | 20685850 | 20686283 | chr1.2930.10 | -2.862158 | 9.548565e-109 |\n",
       "| chr5  | 70049360 | 70050252 | chr5.1647.1  | -2.927110 | 4.298640e-107 |\n",
       "| chr5  | 70924811 | 70925615 | chr5.1649.1  | -2.927110 | 4.298640e-107 |\n",
       "\n"
      ],
      "text/plain": [
       "  chrom start    end      name         log2FoldChange padj         \n",
       "1 chr19 11155578 11156290 chr19.1899.3 -2.549922      3.771775e-123\n",
       "2 chr22 30356286 30357525 chr22.1285.6 -3.059909      9.819760e-120\n",
       "3 chr6  34530428 34530534 chr6.2172.8  -3.100194      1.232839e-117\n",
       "4 chr1  20685850 20686283 chr1.2930.10 -2.862158      9.548565e-109\n",
       "5 chr5  70049360 70050252 chr5.1647.1  -2.927110      4.298640e-107\n",
       "6 chr5  70924811 70925615 chr5.1649.1  -2.927110      4.298640e-107"
      ]
     },
     "metadata": {},
     "output_type": "display_data"
    }
   ],
   "source": [
    "txt = c(\"chrom\", \"start\", \"end\", \"name\", \"log2FoldChange\", \"padj\")\n",
    "\n",
    "dat = dat_peak_crispri_growth_signif\n",
    "idx = dat$name\n",
    "\n",
    "dat = dat_peak_crispri_growth_total\n",
    "dat = dat %>% \n",
    "    dplyr::select({{txt}}) %>% \n",
    "    dplyr::filter(padj < 0.05) %>% \n",
    "    dplyr::arrange(padj)\n",
    "\n",
    "dat = dat %>%\n",
    "    dplyr::group_by(chrom, start, end) %>%\n",
    "    dplyr::filter(padj == min(padj)) %>%\n",
    "    dplyr::distinct()\n",
    "print(dim(dat))\n",
    "head(dat)"
   ]
  },
  {
   "cell_type": "code",
   "execution_count": null,
   "id": "4296ce4f-a633-4d48-a1ba-b5718496750e",
   "metadata": {},
   "outputs": [],
   "source": []
  },
  {
   "cell_type": "code",
   "execution_count": null,
   "id": "b17a81f3-f9b7-4cbf-8649-e4419b61e794",
   "metadata": {},
   "outputs": [],
   "source": []
  },
  {
   "cell_type": "code",
   "execution_count": 31,
   "id": "d81c12e2-de63-4416-87a1-1ea5fe23bf03",
   "metadata": {},
   "outputs": [
    {
     "name": "stdout",
     "output_type": "stream",
     "text": [
      "[1] 6242    3\n"
     ]
    }
   ],
   "source": [
    "txt = c(\"chrom\", \"start\", \"end\")\n",
    "\n",
    "dat = dat_peak_crispri_growth_total\n",
    "dat = dat %>% \n",
    "    dplyr::filter(padj < 0.05) %>%\n",
    "    dplyr::select({{txt}}) %>% \n",
    "    dplyr::distinct()\n",
    "    \n",
    "print(dim(dat))"
   ]
  },
  {
   "cell_type": "code",
   "execution_count": 30,
   "id": "b7965570-d576-498d-b455-614683bcc46a",
   "metadata": {},
   "outputs": [
    {
     "data": {
      "text/html": [
       "<table class=\"dataframe\">\n",
       "<caption>A tibble: 6 × 6</caption>\n",
       "<thead>\n",
       "\t<tr><th scope=col>chrom</th><th scope=col>start</th><th scope=col>end</th><th scope=col>name</th><th scope=col>log2FoldChange</th><th scope=col>padj</th></tr>\n",
       "\t<tr><th scope=col>&lt;chr&gt;</th><th scope=col>&lt;dbl&gt;</th><th scope=col>&lt;dbl&gt;</th><th scope=col>&lt;chr&gt;</th><th scope=col>&lt;dbl&gt;</th><th scope=col>&lt;dbl&gt;</th></tr>\n",
       "</thead>\n",
       "<tbody>\n",
       "\t<tr><td>chr1</td><td>   605550</td><td>   605627</td><td>chr1.1.1     </td><td>-0.9859338</td><td>3.245787e-11</td></tr>\n",
       "\t<tr><td>chr1</td><td>  4228046</td><td>  4228421</td><td>chr1.1004.1  </td><td>-0.3333973</td><td>1.749448e-02</td></tr>\n",
       "\t<tr><td>chr1</td><td>  4325670</td><td>  4325804</td><td>chr1.1005.7  </td><td>-2.1666023</td><td>2.932057e-42</td></tr>\n",
       "\t<tr><td>chr1</td><td>179954288</td><td>179955435</td><td>chr1.10072.11</td><td>-1.4029593</td><td>1.383612e-18</td></tr>\n",
       "\t<tr><td>chr1</td><td>180168130</td><td>180168315</td><td>chr1.10079.5 </td><td>-0.2323464</td><td>6.251080e-03</td></tr>\n",
       "\t<tr><td>chr1</td><td>180219850</td><td>180220010</td><td>chr1.10090.6 </td><td>-1.1450925</td><td>6.639118e-03</td></tr>\n",
       "</tbody>\n",
       "</table>\n"
      ],
      "text/latex": [
       "A tibble: 6 × 6\n",
       "\\begin{tabular}{llllll}\n",
       " chrom & start & end & name & log2FoldChange & padj\\\\\n",
       " <chr> & <dbl> & <dbl> & <chr> & <dbl> & <dbl>\\\\\n",
       "\\hline\n",
       "\t chr1 &    605550 &    605627 & chr1.1.1      & -0.9859338 & 3.245787e-11\\\\\n",
       "\t chr1 &   4228046 &   4228421 & chr1.1004.1   & -0.3333973 & 1.749448e-02\\\\\n",
       "\t chr1 &   4325670 &   4325804 & chr1.1005.7   & -2.1666023 & 2.932057e-42\\\\\n",
       "\t chr1 & 179954288 & 179955435 & chr1.10072.11 & -1.4029593 & 1.383612e-18\\\\\n",
       "\t chr1 & 180168130 & 180168315 & chr1.10079.5  & -0.2323464 & 6.251080e-03\\\\\n",
       "\t chr1 & 180219850 & 180220010 & chr1.10090.6  & -1.1450925 & 6.639118e-03\\\\\n",
       "\\end{tabular}\n"
      ],
      "text/markdown": [
       "\n",
       "A tibble: 6 × 6\n",
       "\n",
       "| chrom &lt;chr&gt; | start &lt;dbl&gt; | end &lt;dbl&gt; | name &lt;chr&gt; | log2FoldChange &lt;dbl&gt; | padj &lt;dbl&gt; |\n",
       "|---|---|---|---|---|---|\n",
       "| chr1 |    605550 |    605627 | chr1.1.1      | -0.9859338 | 3.245787e-11 |\n",
       "| chr1 |   4228046 |   4228421 | chr1.1004.1   | -0.3333973 | 1.749448e-02 |\n",
       "| chr1 |   4325670 |   4325804 | chr1.1005.7   | -2.1666023 | 2.932057e-42 |\n",
       "| chr1 | 179954288 | 179955435 | chr1.10072.11 | -1.4029593 | 1.383612e-18 |\n",
       "| chr1 | 180168130 | 180168315 | chr1.10079.5  | -0.2323464 | 6.251080e-03 |\n",
       "| chr1 | 180219850 | 180220010 | chr1.10090.6  | -1.1450925 | 6.639118e-03 |\n",
       "\n"
      ],
      "text/plain": [
       "  chrom start     end       name          log2FoldChange padj        \n",
       "1 chr1     605550    605627 chr1.1.1      -0.9859338     3.245787e-11\n",
       "2 chr1    4228046   4228421 chr1.1004.1   -0.3333973     1.749448e-02\n",
       "3 chr1    4325670   4325804 chr1.1005.7   -2.1666023     2.932057e-42\n",
       "4 chr1  179954288 179955435 chr1.10072.11 -1.4029593     1.383612e-18\n",
       "5 chr1  180168130 180168315 chr1.10079.5  -0.2323464     6.251080e-03\n",
       "6 chr1  180219850 180220010 chr1.10090.6  -1.1450925     6.639118e-03"
      ]
     },
     "metadata": {},
     "output_type": "display_data"
    }
   ],
   "source": [
    "head(dat)"
   ]
  },
  {
   "cell_type": "code",
   "execution_count": null,
   "id": "c46854cd-a74f-44e4-9460-645d469d8b5f",
   "metadata": {},
   "outputs": [],
   "source": []
  },
  {
   "cell_type": "code",
   "execution_count": null,
   "id": "4c405b67-0952-41e8-96c0-4bc6e09cc365",
   "metadata": {},
   "outputs": [],
   "source": [
    "txt = c(\n",
    "    \"chrom\",     \"start\",     \"end\", \n",
    "    'dhs_chrom', 'dhs_start', 'dhs_end', \"dhs_id\", 'ID',\n",
    "    'chrPerturbationTarget',\n",
    "    'startPerturbationTarget',\n",
    "    'endPerturbationTarget')\n",
    "\n",
    "dat = dat_peak_crispri_growth_total\n",
    "print(dim(dat))\n",
    "\n",
    "dat = dat %>% dplyr::select({{txt}}) %>% dplyr::distinct()\n",
    "print(dim(dat))\n",
    "head(dat)"
   ]
  },
  {
   "cell_type": "code",
   "execution_count": null,
   "id": "cdcd6e99-64b9-4c51-a528-6b07f57055e7",
   "metadata": {},
   "outputs": [],
   "source": []
  },
  {
   "cell_type": "code",
   "execution_count": null,
   "id": "55aacbe1-5fe6-4031-b766-98e8e903e894",
   "metadata": {},
   "outputs": [],
   "source": []
  },
  {
   "cell_type": "code",
   "execution_count": null,
   "id": "27903747-32ca-4a61-9fbc-926c1fbccd15",
   "metadata": {},
   "outputs": [],
   "source": []
  },
  {
   "cell_type": "code",
   "execution_count": null,
   "id": "c220b793-79b6-44b7-a6e1-bfc47b347844",
   "metadata": {},
   "outputs": [],
   "source": []
  },
  {
   "cell_type": "code",
   "execution_count": 15,
   "id": "80dd2d64-ee69-4a49-87d0-46e82e4c86bf",
   "metadata": {},
   "outputs": [
    {
     "name": "stdout",
     "output_type": "stream",
     "text": [
      "[1] 1092166      22\n",
      "[1] 1070790      11\n"
     ]
    },
    {
     "data": {
      "text/html": [
       "<table class=\"dataframe\">\n",
       "<caption>A tibble: 6 × 11</caption>\n",
       "<thead>\n",
       "\t<tr><th scope=col>chrom</th><th scope=col>start</th><th scope=col>end</th><th scope=col>dhs_chrom</th><th scope=col>dhs_start</th><th scope=col>dhs_end</th><th scope=col>dhs_id</th><th scope=col>ID</th><th scope=col>chrPerturbationTarget</th><th scope=col>startPerturbationTarget</th><th scope=col>endPerturbationTarget</th></tr>\n",
       "\t<tr><th scope=col>&lt;chr&gt;</th><th scope=col>&lt;dbl&gt;</th><th scope=col>&lt;dbl&gt;</th><th scope=col>&lt;chr&gt;</th><th scope=col>&lt;dbl&gt;</th><th scope=col>&lt;dbl&gt;</th><th scope=col>&lt;chr&gt;</th><th scope=col>&lt;chr&gt;</th><th scope=col>&lt;chr&gt;</th><th scope=col>&lt;dbl&gt;</th><th scope=col>&lt;dbl&gt;</th></tr>\n",
       "</thead>\n",
       "<tbody>\n",
       "\t<tr><td>chr1</td><td>605550</td><td>605627</td><td>chr1</td><td>540930</td><td>541007</td><td>chr1.1</td><td>chr1.1</td><td>chr1</td><td>540951</td><td>540970</td></tr>\n",
       "\t<tr><td>chr1</td><td>605550</td><td>605627</td><td>chr1</td><td>540930</td><td>541007</td><td>chr1.1</td><td>chr1.1</td><td>chr1</td><td>540971</td><td>540990</td></tr>\n",
       "\t<tr><td>chr1</td><td>605550</td><td>605627</td><td>chr1</td><td>540930</td><td>541007</td><td>chr1.1</td><td>chr1.1</td><td>chr1</td><td>540963</td><td>540982</td></tr>\n",
       "\t<tr><td>chr1</td><td>605550</td><td>605627</td><td>chr1</td><td>540930</td><td>541007</td><td>chr1.1</td><td>chr1.1</td><td>chr1</td><td>540953</td><td>540972</td></tr>\n",
       "\t<tr><td>chr1</td><td>605550</td><td>605627</td><td>chr1</td><td>540930</td><td>541007</td><td>chr1.1</td><td>chr1.1</td><td>chr1</td><td>540954</td><td>540973</td></tr>\n",
       "\t<tr><td>chr1</td><td>605550</td><td>605627</td><td>chr1</td><td>540930</td><td>541007</td><td>chr1.1</td><td>chr1.1</td><td>chr1</td><td>540979</td><td>540998</td></tr>\n",
       "</tbody>\n",
       "</table>\n"
      ],
      "text/latex": [
       "A tibble: 6 × 11\n",
       "\\begin{tabular}{lllllllllll}\n",
       " chrom & start & end & dhs\\_chrom & dhs\\_start & dhs\\_end & dhs\\_id & ID & chrPerturbationTarget & startPerturbationTarget & endPerturbationTarget\\\\\n",
       " <chr> & <dbl> & <dbl> & <chr> & <dbl> & <dbl> & <chr> & <chr> & <chr> & <dbl> & <dbl>\\\\\n",
       "\\hline\n",
       "\t chr1 & 605550 & 605627 & chr1 & 540930 & 541007 & chr1.1 & chr1.1 & chr1 & 540951 & 540970\\\\\n",
       "\t chr1 & 605550 & 605627 & chr1 & 540930 & 541007 & chr1.1 & chr1.1 & chr1 & 540971 & 540990\\\\\n",
       "\t chr1 & 605550 & 605627 & chr1 & 540930 & 541007 & chr1.1 & chr1.1 & chr1 & 540963 & 540982\\\\\n",
       "\t chr1 & 605550 & 605627 & chr1 & 540930 & 541007 & chr1.1 & chr1.1 & chr1 & 540953 & 540972\\\\\n",
       "\t chr1 & 605550 & 605627 & chr1 & 540930 & 541007 & chr1.1 & chr1.1 & chr1 & 540954 & 540973\\\\\n",
       "\t chr1 & 605550 & 605627 & chr1 & 540930 & 541007 & chr1.1 & chr1.1 & chr1 & 540979 & 540998\\\\\n",
       "\\end{tabular}\n"
      ],
      "text/markdown": [
       "\n",
       "A tibble: 6 × 11\n",
       "\n",
       "| chrom &lt;chr&gt; | start &lt;dbl&gt; | end &lt;dbl&gt; | dhs_chrom &lt;chr&gt; | dhs_start &lt;dbl&gt; | dhs_end &lt;dbl&gt; | dhs_id &lt;chr&gt; | ID &lt;chr&gt; | chrPerturbationTarget &lt;chr&gt; | startPerturbationTarget &lt;dbl&gt; | endPerturbationTarget &lt;dbl&gt; |\n",
       "|---|---|---|---|---|---|---|---|---|---|---|\n",
       "| chr1 | 605550 | 605627 | chr1 | 540930 | 541007 | chr1.1 | chr1.1 | chr1 | 540951 | 540970 |\n",
       "| chr1 | 605550 | 605627 | chr1 | 540930 | 541007 | chr1.1 | chr1.1 | chr1 | 540971 | 540990 |\n",
       "| chr1 | 605550 | 605627 | chr1 | 540930 | 541007 | chr1.1 | chr1.1 | chr1 | 540963 | 540982 |\n",
       "| chr1 | 605550 | 605627 | chr1 | 540930 | 541007 | chr1.1 | chr1.1 | chr1 | 540953 | 540972 |\n",
       "| chr1 | 605550 | 605627 | chr1 | 540930 | 541007 | chr1.1 | chr1.1 | chr1 | 540954 | 540973 |\n",
       "| chr1 | 605550 | 605627 | chr1 | 540930 | 541007 | chr1.1 | chr1.1 | chr1 | 540979 | 540998 |\n",
       "\n"
      ],
      "text/plain": [
       "  chrom start  end    dhs_chrom dhs_start dhs_end dhs_id ID    \n",
       "1 chr1  605550 605627 chr1      540930    541007  chr1.1 chr1.1\n",
       "2 chr1  605550 605627 chr1      540930    541007  chr1.1 chr1.1\n",
       "3 chr1  605550 605627 chr1      540930    541007  chr1.1 chr1.1\n",
       "4 chr1  605550 605627 chr1      540930    541007  chr1.1 chr1.1\n",
       "5 chr1  605550 605627 chr1      540930    541007  chr1.1 chr1.1\n",
       "6 chr1  605550 605627 chr1      540930    541007  chr1.1 chr1.1\n",
       "  chrPerturbationTarget startPerturbationTarget endPerturbationTarget\n",
       "1 chr1                  540951                  540970               \n",
       "2 chr1                  540971                  540990               \n",
       "3 chr1                  540963                  540982               \n",
       "4 chr1                  540953                  540972               \n",
       "5 chr1                  540954                  540973               \n",
       "6 chr1                  540979                  540998               "
      ]
     },
     "metadata": {},
     "output_type": "display_data"
    }
   ],
   "source": [
    "txt = c(\n",
    "    \"chrom\",     \"start\",     \"end\", \n",
    "    'dhs_chrom', 'dhs_start', 'dhs_end', \"dhs_id\", 'ID',\n",
    "    'chrPerturbationTarget',\n",
    "    'startPerturbationTarget',\n",
    "    'endPerturbationTarget')\n",
    "\n",
    "dat = dat_peak_crispri_growth_total\n",
    "print(dim(dat))\n",
    "\n",
    "dat = dat %>% dplyr::select({{txt}}) %>% dplyr::distinct()\n",
    "print(dim(dat))\n",
    "head(dat)"
   ]
  },
  {
   "cell_type": "code",
   "execution_count": 19,
   "id": "2c59ee2b-5e58-4c95-9996-0f93f8398fcb",
   "metadata": {},
   "outputs": [
    {
     "name": "stdout",
     "output_type": "stream",
     "text": [
      "[1] 1092166      22\n",
      "[1] 111702      8\n"
     ]
    },
    {
     "data": {
      "text/html": [
       "<table class=\"dataframe\">\n",
       "<caption>A tibble: 6 × 8</caption>\n",
       "<thead>\n",
       "\t<tr><th scope=col>chrom</th><th scope=col>start</th><th scope=col>end</th><th scope=col>dhs_chrom</th><th scope=col>dhs_start</th><th scope=col>dhs_end</th><th scope=col>Loc_hg38</th><th scope=col>Loc_hg19</th></tr>\n",
       "\t<tr><th scope=col>&lt;chr&gt;</th><th scope=col>&lt;dbl&gt;</th><th scope=col>&lt;dbl&gt;</th><th scope=col>&lt;chr&gt;</th><th scope=col>&lt;dbl&gt;</th><th scope=col>&lt;dbl&gt;</th><th scope=col>&lt;chr&gt;</th><th scope=col>&lt;chr&gt;</th></tr>\n",
       "</thead>\n",
       "<tbody>\n",
       "\t<tr><td>chr1</td><td>   605550</td><td>   605627</td><td>chr1</td><td>   540930</td><td>   541007</td><td>chr1\\t605550\\t605627      </td><td>chr1\\t540930\\t541007      </td></tr>\n",
       "\t<tr><td>chr1</td><td>   865344</td><td>   865447</td><td>chr1</td><td>   800724</td><td>   800827</td><td>chr1\\t865344\\t865447      </td><td>chr1\\t800724\\t800827      </td></tr>\n",
       "\t<tr><td>chr1</td><td>  1140728</td><td>  1142081</td><td>chr1</td><td>  1076108</td><td>  1077461</td><td>chr1\\t1140728\\t1142081    </td><td>chr1\\t1076108\\t1077461    </td></tr>\n",
       "\t<tr><td>chr1</td><td>  4173215</td><td>  4173505</td><td>chr1</td><td>  4233275</td><td>  4233565</td><td>chr1\\t4173215\\t4173505    </td><td>chr1\\t4233275\\t4233565    </td></tr>\n",
       "\t<tr><td>chr1</td><td>176948943</td><td>176949446</td><td>chr1</td><td>176918079</td><td>176918582</td><td>chr1\\t176948943\\t176949446</td><td>chr1\\t176918079\\t176918582</td></tr>\n",
       "\t<tr><td>chr1</td><td>176954362</td><td>176954533</td><td>chr1</td><td>176923498</td><td>176923669</td><td>chr1\\t176954362\\t176954533</td><td>chr1\\t176923498\\t176923669</td></tr>\n",
       "</tbody>\n",
       "</table>\n"
      ],
      "text/latex": [
       "A tibble: 6 × 8\n",
       "\\begin{tabular}{llllllll}\n",
       " chrom & start & end & dhs\\_chrom & dhs\\_start & dhs\\_end & Loc\\_hg38 & Loc\\_hg19\\\\\n",
       " <chr> & <dbl> & <dbl> & <chr> & <dbl> & <dbl> & <chr> & <chr>\\\\\n",
       "\\hline\n",
       "\t chr1 &    605550 &    605627 & chr1 &    540930 &    541007 & chr1\\textbackslash{}t605550\\textbackslash{}t605627       & chr1\\textbackslash{}t540930\\textbackslash{}t541007      \\\\\n",
       "\t chr1 &    865344 &    865447 & chr1 &    800724 &    800827 & chr1\\textbackslash{}t865344\\textbackslash{}t865447       & chr1\\textbackslash{}t800724\\textbackslash{}t800827      \\\\\n",
       "\t chr1 &   1140728 &   1142081 & chr1 &   1076108 &   1077461 & chr1\\textbackslash{}t1140728\\textbackslash{}t1142081     & chr1\\textbackslash{}t1076108\\textbackslash{}t1077461    \\\\\n",
       "\t chr1 &   4173215 &   4173505 & chr1 &   4233275 &   4233565 & chr1\\textbackslash{}t4173215\\textbackslash{}t4173505     & chr1\\textbackslash{}t4233275\\textbackslash{}t4233565    \\\\\n",
       "\t chr1 & 176948943 & 176949446 & chr1 & 176918079 & 176918582 & chr1\\textbackslash{}t176948943\\textbackslash{}t176949446 & chr1\\textbackslash{}t176918079\\textbackslash{}t176918582\\\\\n",
       "\t chr1 & 176954362 & 176954533 & chr1 & 176923498 & 176923669 & chr1\\textbackslash{}t176954362\\textbackslash{}t176954533 & chr1\\textbackslash{}t176923498\\textbackslash{}t176923669\\\\\n",
       "\\end{tabular}\n"
      ],
      "text/markdown": [
       "\n",
       "A tibble: 6 × 8\n",
       "\n",
       "| chrom &lt;chr&gt; | start &lt;dbl&gt; | end &lt;dbl&gt; | dhs_chrom &lt;chr&gt; | dhs_start &lt;dbl&gt; | dhs_end &lt;dbl&gt; | Loc_hg38 &lt;chr&gt; | Loc_hg19 &lt;chr&gt; |\n",
       "|---|---|---|---|---|---|---|---|\n",
       "| chr1 |    605550 |    605627 | chr1 |    540930 |    541007 | chr1\\t605550\\t605627       | chr1\\t540930\\t541007       |\n",
       "| chr1 |    865344 |    865447 | chr1 |    800724 |    800827 | chr1\\t865344\\t865447       | chr1\\t800724\\t800827       |\n",
       "| chr1 |   1140728 |   1142081 | chr1 |   1076108 |   1077461 | chr1\\t1140728\\t1142081     | chr1\\t1076108\\t1077461     |\n",
       "| chr1 |   4173215 |   4173505 | chr1 |   4233275 |   4233565 | chr1\\t4173215\\t4173505     | chr1\\t4233275\\t4233565     |\n",
       "| chr1 | 176948943 | 176949446 | chr1 | 176918079 | 176918582 | chr1\\t176948943\\t176949446 | chr1\\t176918079\\t176918582 |\n",
       "| chr1 | 176954362 | 176954533 | chr1 | 176923498 | 176923669 | chr1\\t176954362\\t176954533 | chr1\\t176923498\\t176923669 |\n",
       "\n"
      ],
      "text/plain": [
       "  chrom start     end       dhs_chrom dhs_start dhs_end  \n",
       "1 chr1     605550    605627 chr1         540930    541007\n",
       "2 chr1     865344    865447 chr1         800724    800827\n",
       "3 chr1    1140728   1142081 chr1        1076108   1077461\n",
       "4 chr1    4173215   4173505 chr1        4233275   4233565\n",
       "5 chr1  176948943 176949446 chr1      176918079 176918582\n",
       "6 chr1  176954362 176954533 chr1      176923498 176923669\n",
       "  Loc_hg38                     Loc_hg19                    \n",
       "1 chr1\\\\t605550\\\\t605627       chr1\\\\t540930\\\\t541007      \n",
       "2 chr1\\\\t865344\\\\t865447       chr1\\\\t800724\\\\t800827      \n",
       "3 chr1\\\\t1140728\\\\t1142081     chr1\\\\t1076108\\\\t1077461    \n",
       "4 chr1\\\\t4173215\\\\t4173505     chr1\\\\t4233275\\\\t4233565    \n",
       "5 chr1\\\\t176948943\\\\t176949446 chr1\\\\t176918079\\\\t176918582\n",
       "6 chr1\\\\t176954362\\\\t176954533 chr1\\\\t176923498\\\\t176923669"
      ]
     },
     "metadata": {},
     "output_type": "display_data"
    }
   ],
   "source": [
    "txt = c(\n",
    "    \"chrom\",     \"start\",     \"end\", \n",
    "    'dhs_chrom', 'dhs_start', 'dhs_end')\n",
    "\n",
    "dat = dat_peak_crispri_growth_total\n",
    "print(dim(dat))\n",
    "\n",
    "dat = dat %>% dplyr::select({{txt}}) %>% dplyr::distinct()\n",
    "dat = dat %>% \n",
    "    dplyr::mutate(\n",
    "        Loc_hg38 = paste(chrom, start, end, sep=\"\\\\t\"),\n",
    "        Loc_hg19 = paste(dhs_chrom, dhs_start, dhs_end, sep=\"\\\\t\")\n",
    "    )\n",
    "print(dim(dat))\n",
    "head(dat)"
   ]
  },
  {
   "cell_type": "code",
   "execution_count": 26,
   "id": "9086dd67-6b99-4695-8d58-647040da45a4",
   "metadata": {},
   "outputs": [
    {
     "data": {
      "text/html": [
       "'bedtools getfasta -fi /data/reddylab/Reference_Data/Genomes/hg38/GCA_000001405.15_GRCh38_no_alt_analysis_set.fna -bed &lt;(echo -e chr1\\\\t605550\\\\t605627 )'"
      ],
      "text/latex": [
       "'bedtools getfasta -fi /data/reddylab/Reference\\_Data/Genomes/hg38/GCA\\_000001405.15\\_GRCh38\\_no\\_alt\\_analysis\\_set.fna -bed <(echo -e chr1\\textbackslash{}\\textbackslash{}t605550\\textbackslash{}\\textbackslash{}t605627 )'"
      ],
      "text/markdown": [
       "'bedtools getfasta -fi /data/reddylab/Reference_Data/Genomes/hg38/GCA_000001405.15_GRCh38_no_alt_analysis_set.fna -bed &lt;(echo -e chr1\\\\t605550\\\\t605627 )'"
      ],
      "text/plain": [
       "[1] \"bedtools getfasta -fi /data/reddylab/Reference_Data/Genomes/hg38/GCA_000001405.15_GRCh38_no_alt_analysis_set.fna -bed <(echo -e chr1\\\\t605550\\\\t605627 )\""
      ]
     },
     "metadata": {},
     "output_type": "display_data"
    }
   ],
   "source": [
    "txt_fpath_cmd  = \"bedtools getfasta -fi\"\n",
    "txt_fpath_hg38 = \"/data/reddylab/Reference_Data/Genomes/hg38/GCA_000001405.15_GRCh38_no_alt_analysis_set.fna\"\n",
    "txt_fpath_hg19 = \"/data/reddylab/Reference_Data/Genomes/hg19/hg19.fa\"\n",
    "\n",
    "idx = 1\n",
    "txt_loc_hg38 = dat$Loc_hg38[idx]\n",
    "txt_loc_hg19 = dat$Loc_hg19[idx]\n",
    "txt_cmd1 = paste(txt_fpath_cmd, txt_fpath_hg38, \"-bed\", \"<(echo -e\", txt_loc_hg38, \")\")\n",
    "txt_cmd2 = paste(txt_fpath_cmd, txt_fpath_hg19, \"-bed\", \"<(echo -e\", txt_loc_hg19, \")\")\n",
    "\n",
    "txt_cmd1"
   ]
  },
  {
   "cell_type": "code",
   "execution_count": 27,
   "id": "6d85fa80-a9e5-4a1b-8d75-1ca1e740124b",
   "metadata": {},
   "outputs": [
    {
     "name": "stderr",
     "output_type": "stream",
     "text": [
      "Warning message in system(txt_cmd1, intern = TRUE):\n",
      "“running command 'bedtools getfasta -fi /data/reddylab/Reference_Data/Genomes/hg38/GCA_000001405.15_GRCh38_no_alt_analysis_set.fna -bed <(echo -e chr1\\t605550\\t605627 )' had status 2”\n"
     ]
    },
    {
     "data": {
      "text/html": [],
      "text/latex": [],
      "text/markdown": [],
      "text/plain": [
       "character(0)\n",
       "attr(,\"status\")\n",
       "[1] 2\n",
       "attr(,\"errmsg\")\n",
       "[1] \"Resource temporarily unavailable\""
      ]
     },
     "metadata": {},
     "output_type": "display_data"
    }
   ],
   "source": [
    "res = system(txt_cmd1, intern=TRUE)\n",
    "res"
   ]
  },
  {
   "cell_type": "code",
   "execution_count": 24,
   "id": "d67c751e-088c-4160-9f2d-4bbf67d5fbe8",
   "metadata": {},
   "outputs": [
    {
     "data": {
      "text/html": [
       "'\\'chr1\\\\t605550\\\\t605627\\''"
      ],
      "text/latex": [
       "'\\textbackslash{}'chr1\\textbackslash{}\\textbackslash{}t605550\\textbackslash{}\\textbackslash{}t605627\\textbackslash{}''"
      ],
      "text/markdown": [
       "'\\'chr1\\\\t605550\\\\t605627\\''"
      ],
      "text/plain": [
       "[1] \"'chr1\\\\t605550\\\\t605627'\""
      ]
     },
     "metadata": {},
     "output_type": "display_data"
    }
   ],
   "source": [
    "paste0(\"'\", dat$Loc_hg38[idx], \"'\")"
   ]
  },
  {
   "cell_type": "code",
   "execution_count": null,
   "id": "0c16b329-7fe9-4f4a-ad42-972c338d3f91",
   "metadata": {},
   "outputs": [],
   "source": []
  }
 ],
 "metadata": {
  "kernelspec": {
   "display_name": "R",
   "language": "R",
   "name": "ir"
  },
  "language_info": {
   "codemirror_mode": "r",
   "file_extension": ".r",
   "mimetype": "text/x-r-source",
   "name": "R",
   "pygments_lexer": "r",
   "version": "4.4.0"
  }
 },
 "nbformat": 4,
 "nbformat_minor": 5
}
