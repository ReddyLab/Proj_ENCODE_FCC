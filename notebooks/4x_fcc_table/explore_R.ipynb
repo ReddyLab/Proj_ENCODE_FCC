{
 "cells": [
  {
   "cell_type": "code",
   "execution_count": null,
   "id": "20f3daef-f540-4fd5-b2bc-a594a32b35da",
   "metadata": {},
   "outputs": [],
   "source": []
  },
  {
   "cell_type": "raw",
   "id": "49ae6f4d-62d3-4df5-af28-1ed397813b67",
   "metadata": {},
   "source": [
    "---\n",
    "title: Prepare CRISPRi Growth data 01\n",
    "subtitle: Prepare data\n",
    "format:\n",
    "    html:\n",
    "        code-fold:  true\n",
    "        code-tools: true\n",
    "---"
   ]
  },
  {
   "cell_type": "markdown",
   "id": "b13bf5ee-6b8e-4a41-ba32-767de7c0a6dd",
   "metadata": {},
   "source": [
    "**Set environment**"
   ]
  },
  {
   "cell_type": "code",
   "execution_count": 1,
   "id": "32872132-fe62-4a5f-bbbc-81b9b75fed59",
   "metadata": {
    "tags": []
   },
   "outputs": [
    {
     "name": "stdout",
     "output_type": "stream",
     "text": [
      "You are working on        Singularity \n",
      "BASE DIRECTORY (FD_BASE): /mount \n",
      "REPO DIRECTORY (FD_REPO): /mount/repo \n",
      "WORK DIRECTORY (FD_WORK): /mount/work \n",
      "DATA DIRECTORY (FD_DATA): /mount/data \n",
      "\n",
      "You are working with      ENCODE FCC \n",
      "PATH OF PROJECT (FD_PRJ): /mount/repo/Proj_ENCODE_FCC \n",
      "PROJECT RESULTS (FD_RES): /mount/repo/Proj_ENCODE_FCC/results \n",
      "PROJECT SCRIPTS (FD_EXE): /mount/repo/Proj_ENCODE_FCC/scripts \n",
      "PROJECT DATA    (FD_DAT): /mount/repo/Proj_ENCODE_FCC/data \n",
      "PROJECT NOTE    (FD_NBK): /mount/repo/Proj_ENCODE_FCC/notebooks \n",
      "PROJECT DOCS    (FD_DOC): /mount/repo/Proj_ENCODE_FCC/docs \n",
      "PROJECT LOG     (FD_LOG): /mount/repo/Proj_ENCODE_FCC/log \n",
      "PROJECT APP     (FD_APP): /mount/repo/Proj_ENCODE_FCC/app \n",
      "PROJECT REF     (FD_REF): /mount/repo/Proj_ENCODE_FCC/references \n",
      "\n"
     ]
    }
   ],
   "source": [
    "suppressMessages(suppressWarnings(source(\"../run_config_project_sing.R\")))\n",
    "show_env()"
   ]
  },
  {
   "cell_type": "markdown",
   "id": "8812a517-431a-4892-8dfd-0474f2d7a588",
   "metadata": {},
   "source": [
    "**Set global variable**"
   ]
  },
  {
   "cell_type": "code",
   "execution_count": 2,
   "id": "6acc9aa9-9d6b-4a40-9f16-9a130741f173",
   "metadata": {},
   "outputs": [],
   "source": [
    "TXT_FOLDER_REGION = \"fcc_table\""
   ]
  },
  {
   "cell_type": "markdown",
   "id": "92d98f00-5972-4e14-bfd7-2c01d3048f00",
   "metadata": {},
   "source": [
    "## Import data"
   ]
  },
  {
   "cell_type": "code",
   "execution_count": 3,
   "id": "9b60a73c-a947-4b3c-b012-9ef26a92d43a",
   "metadata": {},
   "outputs": [
    {
     "name": "stdout",
     "output_type": "stream",
     "text": [
      "K562.hg38.atac.bed.gz \n",
      "K562.hg38.encode_e2g_benchmark.bed.gz \n",
      "K562.hg38.fcc_astarr_csaw.bed.gz \n",
      "K562.hg38.fcc_crispri_growth.bed.gz \n",
      "K562.hg38.fcc_crispri_hcrff.bed.gz \n",
      "K562.hg38.fcc_starrmpra_junke.bed.gz \n",
      "K562.hg38.tss.bed.gz \n"
     ]
    }
   ],
   "source": [
    "### set file path\n",
    "txt_folder = TXT_FOLDER_REGION\n",
    "txt_fdiry  = file.path(FD_RES, \"region\", txt_folder)\n",
    "txt_fname  = \"K562.hg38.*.bed.gz\"\n",
    "txt_fglob  = file.path(txt_fdiry, txt_fname)\n",
    "\n",
    "vec_txt_fpath = Sys.glob(txt_fglob)\n",
    "vec_txt_fname = basename(vec_txt_fpath)\n",
    "\n",
    "vec = vec_txt_fname\n",
    "for(txt in vec){cat(txt, \"\\n\")}"
   ]
  },
  {
   "cell_type": "code",
   "execution_count": 4,
   "id": "bbfcba88-e56d-4390-9a51-0e6810aa1f31",
   "metadata": {},
   "outputs": [
    {
     "name": "stdout",
     "output_type": "stream",
     "text": [
      "[1] 895792     12\n"
     ]
    },
    {
     "data": {
      "text/html": [
       "<table>\n",
       " <thead>\n",
       "  <tr>\n",
       "   <th style=\"text-align:left;\"> Chrom </th>\n",
       "   <th style=\"text-align:right;\"> ChromStart </th>\n",
       "   <th style=\"text-align:right;\"> ChromEnd </th>\n",
       "   <th style=\"text-align:left;\"> Group </th>\n",
       "   <th style=\"text-align:left;\"> Label </th>\n",
       "   <th style=\"text-align:left;\"> Assay </th>\n",
       "   <th style=\"text-align:left;\"> Region </th>\n",
       "   <th style=\"text-align:left;\"> Target </th>\n",
       "   <th style=\"text-align:right;\"> Score </th>\n",
       "   <th style=\"text-align:right;\"> NLog10P </th>\n",
       "   <th style=\"text-align:left;\"> Method </th>\n",
       "   <th style=\"text-align:left;\"> Source </th>\n",
       "  </tr>\n",
       " </thead>\n",
       "<tbody>\n",
       "  <tr>\n",
       "   <td style=\"text-align:left;\"> chr1 </td>\n",
       "   <td style=\"text-align:right;\"> 10038 </td>\n",
       "   <td style=\"text-align:right;\"> 10405 </td>\n",
       "   <td style=\"text-align:left;\"> ATAC </td>\n",
       "   <td style=\"text-align:left;\"> ATAC </td>\n",
       "   <td style=\"text-align:left;\"> ATAC </td>\n",
       "   <td style=\"text-align:left;\"> chr1:10038-10405 </td>\n",
       "   <td style=\"text-align:left;\"> NA </td>\n",
       "   <td style=\"text-align:right;\"> 3.940038 </td>\n",
       "   <td style=\"text-align:right;\"> NA </td>\n",
       "   <td style=\"text-align:left;\"> MACS </td>\n",
       "   <td style=\"text-align:left;\"> Reddy Lab </td>\n",
       "  </tr>\n",
       "  <tr>\n",
       "   <td style=\"text-align:left;\"> chr1 </td>\n",
       "   <td style=\"text-align:right;\"> 14282 </td>\n",
       "   <td style=\"text-align:right;\"> 14614 </td>\n",
       "   <td style=\"text-align:left;\"> ATAC </td>\n",
       "   <td style=\"text-align:left;\"> ATAC </td>\n",
       "   <td style=\"text-align:left;\"> ATAC </td>\n",
       "   <td style=\"text-align:left;\"> chr1:14282-14614 </td>\n",
       "   <td style=\"text-align:left;\"> NA </td>\n",
       "   <td style=\"text-align:right;\"> 2.841707 </td>\n",
       "   <td style=\"text-align:right;\"> NA </td>\n",
       "   <td style=\"text-align:left;\"> MACS </td>\n",
       "   <td style=\"text-align:left;\"> Reddy Lab </td>\n",
       "  </tr>\n",
       "  <tr>\n",
       "   <td style=\"text-align:left;\"> chr1 </td>\n",
       "   <td style=\"text-align:right;\"> 16025 </td>\n",
       "   <td style=\"text-align:right;\"> 16338 </td>\n",
       "   <td style=\"text-align:left;\"> ATAC </td>\n",
       "   <td style=\"text-align:left;\"> ATAC </td>\n",
       "   <td style=\"text-align:left;\"> ATAC </td>\n",
       "   <td style=\"text-align:left;\"> chr1:16025-16338 </td>\n",
       "   <td style=\"text-align:left;\"> NA </td>\n",
       "   <td style=\"text-align:right;\"> 3.830812 </td>\n",
       "   <td style=\"text-align:right;\"> NA </td>\n",
       "   <td style=\"text-align:left;\"> MACS </td>\n",
       "   <td style=\"text-align:left;\"> Reddy Lab </td>\n",
       "  </tr>\n",
       "</tbody>\n",
       "</table>"
      ]
     },
     "metadata": {},
     "output_type": "display_data"
    }
   ],
   "source": [
    "### read table\n",
    "vec_txt_cname = c(\n",
    "    \"Chrom\", \"ChromStart\", \"ChromEnd\", \"Group\", \"Label\",\n",
    "    \"Assay\", \"Region\", \"Target\", \"Score\", \"NLog10P\",\n",
    "    \"Method\", \"Source\"\n",
    ")\n",
    "\n",
    "lst = lapply(vec_txt_fpath, function(txt_fpath){\n",
    "    dat = read_tsv(txt_fpath, col_names = vec, show_col_types = FALSE)        \n",
    "    colnames(dat) = vec_txt_cname\n",
    "    return(dat)\n",
    "})\n",
    "dat = bind_rows(lst)\n",
    "\n",
    "### assign and show\n",
    "dat_region_import = dat\n",
    "print(dim(dat))\n",
    "fun_display_table(head(dat, 3))"
   ]
  },
  {
   "cell_type": "markdown",
   "id": "abf70aea-7af1-4cc9-96ea-8e9146975bd4",
   "metadata": {},
   "source": [
    "## Define columns"
   ]
  },
  {
   "cell_type": "code",
   "execution_count": 5,
   "id": "f2c425fc-8fd8-4976-b421-70b308e126b2",
   "metadata": {},
   "outputs": [
    {
     "data": {
      "text/html": [
       "<table>\n",
       " <thead>\n",
       "  <tr>\n",
       "   <th style=\"text-align:left;\"> Name </th>\n",
       "   <th style=\"text-align:left;\"> Note </th>\n",
       "  </tr>\n",
       " </thead>\n",
       "<tbody>\n",
       "  <tr>\n",
       "   <td style=\"text-align:left;\"> Chrom </td>\n",
       "   <td style=\"text-align:left;\"> Name of the chromosome </td>\n",
       "  </tr>\n",
       "  <tr>\n",
       "   <td style=\"text-align:left;\"> ChromStart </td>\n",
       "   <td style=\"text-align:left;\"> The starting position of the feature in the chromosome </td>\n",
       "  </tr>\n",
       "  <tr>\n",
       "   <td style=\"text-align:left;\"> ChromEnd </td>\n",
       "   <td style=\"text-align:left;\"> The ending position of the feature in the chromosome </td>\n",
       "  </tr>\n",
       "  <tr>\n",
       "   <td style=\"text-align:left;\"> Group </td>\n",
       "   <td style=\"text-align:left;\"> Region group </td>\n",
       "  </tr>\n",
       "  <tr>\n",
       "   <td style=\"text-align:left;\"> Label </td>\n",
       "   <td style=\"text-align:left;\"> Region label </td>\n",
       "  </tr>\n",
       "  <tr>\n",
       "   <td style=\"text-align:left;\"> Assay </td>\n",
       "   <td style=\"text-align:left;\"> Assay or annotation name </td>\n",
       "  </tr>\n",
       "  <tr>\n",
       "   <td style=\"text-align:left;\"> Region </td>\n",
       "   <td style=\"text-align:left;\"> Region coordinate </td>\n",
       "  </tr>\n",
       "  <tr>\n",
       "   <td style=\"text-align:left;\"> Target </td>\n",
       "   <td style=\"text-align:left;\"> Targeted genes or guides </td>\n",
       "  </tr>\n",
       "  <tr>\n",
       "   <td style=\"text-align:left;\"> Score </td>\n",
       "   <td style=\"text-align:left;\"> Score assigned to a region. </td>\n",
       "  </tr>\n",
       "  <tr>\n",
       "   <td style=\"text-align:left;\"> NLog10P </td>\n",
       "   <td style=\"text-align:left;\"> -log10 of P-value </td>\n",
       "  </tr>\n",
       "  <tr>\n",
       "   <td style=\"text-align:left;\"> Method </td>\n",
       "   <td style=\"text-align:left;\"> Method of analysis </td>\n",
       "  </tr>\n",
       "  <tr>\n",
       "   <td style=\"text-align:left;\"> Source </td>\n",
       "   <td style=\"text-align:left;\"> Dataset or data source </td>\n",
       "  </tr>\n",
       "</tbody>\n",
       "</table>"
      ]
     },
     "metadata": {},
     "output_type": "display_data"
    }
   ],
   "source": [
    "### setup column description\n",
    "dat = tribble(\n",
    "    ~Name,        ~Note,\n",
    "    \"Chrom\",      \"Name of the chromosome\",\n",
    "    \"ChromStart\", \"The starting position of the feature in the chromosome\",\n",
    "    \"ChromEnd\",   \"The ending position of the feature in the chromosome\",\n",
    "    \"Group\",      \"Region group\",\n",
    "    \"Label\",      \"Region label\",\n",
    "    \"Assay\",      \"Assay or annotation name\",\n",
    "    \"Region\",     \"Region coordinate\",\n",
    "    \"Target\",     \"Targeted genes or guides\",\n",
    "    \"Score\",      \"Score assigned to a region.\",\n",
    "    \"NLog10P\",    \"-log10 of P-value\",\n",
    "    \"Method\",     \"Method of analysis\",\n",
    "    \"Source\",     \"Dataset or data source\"\n",
    ")\n",
    "\n",
    "### assign and show\n",
    "dat_cname = dat\n",
    "fun_display_table(dat)"
   ]
  },
  {
   "cell_type": "markdown",
   "id": "7d0e6539-29cf-40d1-b7d2-b700534c1886",
   "metadata": {},
   "source": [
    "**Check**"
   ]
  },
  {
   "cell_type": "code",
   "execution_count": 6,
   "id": "6ef919ce-d734-47c2-bad2-2feccbad954a",
   "metadata": {},
   "outputs": [
    {
     "data": {
      "text/html": [
       "TRUE"
      ],
      "text/latex": [
       "TRUE"
      ],
      "text/markdown": [
       "TRUE"
      ],
      "text/plain": [
       "[1] TRUE"
      ]
     },
     "metadata": {},
     "output_type": "display_data"
    }
   ],
   "source": [
    "vec1 = colnames(dat_region_import)\n",
    "vec2 = dat_cname$Name\n",
    "all(vec1 == vec2)"
   ]
  },
  {
   "cell_type": "code",
   "execution_count": 7,
   "id": "4d76f50d-24b4-4267-908d-e75877c317fe",
   "metadata": {},
   "outputs": [
    {
     "data": {
      "text/plain": [
       "\n",
       "        ASTARR           ATAC CRISPRi-Growth  CRISPRi-HCRFF  E2G-Benchmark \n",
       "        542786         150041           6242            113          10375 \n",
       "         LMPRA          TMPRA            TSS         WSTARR \n",
       "         26133           6271          11892         141939 "
      ]
     },
     "metadata": {},
     "output_type": "display_data"
    }
   ],
   "source": [
    "dat = dat_region_import\n",
    "table(dat$Group)"
   ]
  },
  {
   "cell_type": "code",
   "execution_count": null,
   "id": "4edcd50d-ed6f-4262-a7b5-579c936b60aa",
   "metadata": {},
   "outputs": [],
   "source": []
  },
  {
   "cell_type": "code",
   "execution_count": 8,
   "id": "ebca1c86-c2ae-41ea-9db2-a40d09437a67",
   "metadata": {},
   "outputs": [
    {
     "data": {
      "text/html": [
       "<table class=\"dataframe\">\n",
       "<caption>A tibble: 6 × 12</caption>\n",
       "<thead>\n",
       "\t<tr><th scope=col>Chrom</th><th scope=col>ChromStart</th><th scope=col>ChromEnd</th><th scope=col>Group</th><th scope=col>Label</th><th scope=col>Assay</th><th scope=col>Region</th><th scope=col>Target</th><th scope=col>Score</th><th scope=col>NLog10P</th><th scope=col>Method</th><th scope=col>Source</th></tr>\n",
       "\t<tr><th scope=col>&lt;chr&gt;</th><th scope=col>&lt;dbl&gt;</th><th scope=col>&lt;dbl&gt;</th><th scope=col>&lt;chr&gt;</th><th scope=col>&lt;chr&gt;</th><th scope=col>&lt;chr&gt;</th><th scope=col>&lt;chr&gt;</th><th scope=col>&lt;chr&gt;</th><th scope=col>&lt;dbl&gt;</th><th scope=col>&lt;dbl&gt;</th><th scope=col>&lt;chr&gt;</th><th scope=col>&lt;chr&gt;</th></tr>\n",
       "</thead>\n",
       "<tbody>\n",
       "\t<tr><td>chr1</td><td> 10038</td><td> 10405</td><td>ATAC</td><td>ATAC</td><td>ATAC</td><td>chr1:10038-10405  </td><td>NA</td><td> 3.940038</td><td>NA</td><td>MACS</td><td>Reddy Lab</td></tr>\n",
       "\t<tr><td>chr1</td><td> 14282</td><td> 14614</td><td>ATAC</td><td>ATAC</td><td>ATAC</td><td>chr1:14282-14614  </td><td>NA</td><td> 2.841707</td><td>NA</td><td>MACS</td><td>Reddy Lab</td></tr>\n",
       "\t<tr><td>chr1</td><td> 16025</td><td> 16338</td><td>ATAC</td><td>ATAC</td><td>ATAC</td><td>chr1:16025-16338  </td><td>NA</td><td> 3.830812</td><td>NA</td><td>MACS</td><td>Reddy Lab</td></tr>\n",
       "\t<tr><td>chr1</td><td> 17288</td><td> 17689</td><td>ATAC</td><td>ATAC</td><td>ATAC</td><td>chr1:17288-17689  </td><td>NA</td><td> 6.198372</td><td>NA</td><td>MACS</td><td>Reddy Lab</td></tr>\n",
       "\t<tr><td>chr1</td><td> 28934</td><td> 29499</td><td>ATAC</td><td>ATAC</td><td>ATAC</td><td>chr1:28934-29499  </td><td>NA</td><td> 4.064322</td><td>NA</td><td>MACS</td><td>Reddy Lab</td></tr>\n",
       "\t<tr><td>chr1</td><td>115429</td><td>115969</td><td>ATAC</td><td>ATAC</td><td>ATAC</td><td>chr1:115429-115969</td><td>NA</td><td>15.096518</td><td>NA</td><td>MACS</td><td>Reddy Lab</td></tr>\n",
       "</tbody>\n",
       "</table>\n"
      ],
      "text/latex": [
       "A tibble: 6 × 12\n",
       "\\begin{tabular}{llllllllllll}\n",
       " Chrom & ChromStart & ChromEnd & Group & Label & Assay & Region & Target & Score & NLog10P & Method & Source\\\\\n",
       " <chr> & <dbl> & <dbl> & <chr> & <chr> & <chr> & <chr> & <chr> & <dbl> & <dbl> & <chr> & <chr>\\\\\n",
       "\\hline\n",
       "\t chr1 &  10038 &  10405 & ATAC & ATAC & ATAC & chr1:10038-10405   & NA &  3.940038 & NA & MACS & Reddy Lab\\\\\n",
       "\t chr1 &  14282 &  14614 & ATAC & ATAC & ATAC & chr1:14282-14614   & NA &  2.841707 & NA & MACS & Reddy Lab\\\\\n",
       "\t chr1 &  16025 &  16338 & ATAC & ATAC & ATAC & chr1:16025-16338   & NA &  3.830812 & NA & MACS & Reddy Lab\\\\\n",
       "\t chr1 &  17288 &  17689 & ATAC & ATAC & ATAC & chr1:17288-17689   & NA &  6.198372 & NA & MACS & Reddy Lab\\\\\n",
       "\t chr1 &  28934 &  29499 & ATAC & ATAC & ATAC & chr1:28934-29499   & NA &  4.064322 & NA & MACS & Reddy Lab\\\\\n",
       "\t chr1 & 115429 & 115969 & ATAC & ATAC & ATAC & chr1:115429-115969 & NA & 15.096518 & NA & MACS & Reddy Lab\\\\\n",
       "\\end{tabular}\n"
      ],
      "text/markdown": [
       "\n",
       "A tibble: 6 × 12\n",
       "\n",
       "| Chrom &lt;chr&gt; | ChromStart &lt;dbl&gt; | ChromEnd &lt;dbl&gt; | Group &lt;chr&gt; | Label &lt;chr&gt; | Assay &lt;chr&gt; | Region &lt;chr&gt; | Target &lt;chr&gt; | Score &lt;dbl&gt; | NLog10P &lt;dbl&gt; | Method &lt;chr&gt; | Source &lt;chr&gt; |\n",
       "|---|---|---|---|---|---|---|---|---|---|---|---|\n",
       "| chr1 |  10038 |  10405 | ATAC | ATAC | ATAC | chr1:10038-10405   | NA |  3.940038 | NA | MACS | Reddy Lab |\n",
       "| chr1 |  14282 |  14614 | ATAC | ATAC | ATAC | chr1:14282-14614   | NA |  2.841707 | NA | MACS | Reddy Lab |\n",
       "| chr1 |  16025 |  16338 | ATAC | ATAC | ATAC | chr1:16025-16338   | NA |  3.830812 | NA | MACS | Reddy Lab |\n",
       "| chr1 |  17288 |  17689 | ATAC | ATAC | ATAC | chr1:17288-17689   | NA |  6.198372 | NA | MACS | Reddy Lab |\n",
       "| chr1 |  28934 |  29499 | ATAC | ATAC | ATAC | chr1:28934-29499   | NA |  4.064322 | NA | MACS | Reddy Lab |\n",
       "| chr1 | 115429 | 115969 | ATAC | ATAC | ATAC | chr1:115429-115969 | NA | 15.096518 | NA | MACS | Reddy Lab |\n",
       "\n"
      ],
      "text/plain": [
       "  Chrom ChromStart ChromEnd Group Label Assay Region             Target\n",
       "1 chr1   10038      10405   ATAC  ATAC  ATAC  chr1:10038-10405   NA    \n",
       "2 chr1   14282      14614   ATAC  ATAC  ATAC  chr1:14282-14614   NA    \n",
       "3 chr1   16025      16338   ATAC  ATAC  ATAC  chr1:16025-16338   NA    \n",
       "4 chr1   17288      17689   ATAC  ATAC  ATAC  chr1:17288-17689   NA    \n",
       "5 chr1   28934      29499   ATAC  ATAC  ATAC  chr1:28934-29499   NA    \n",
       "6 chr1  115429     115969   ATAC  ATAC  ATAC  chr1:115429-115969 NA    \n",
       "  Score     NLog10P Method Source   \n",
       "1  3.940038 NA      MACS   Reddy Lab\n",
       "2  2.841707 NA      MACS   Reddy Lab\n",
       "3  3.830812 NA      MACS   Reddy Lab\n",
       "4  6.198372 NA      MACS   Reddy Lab\n",
       "5  4.064322 NA      MACS   Reddy Lab\n",
       "6 15.096518 NA      MACS   Reddy Lab"
      ]
     },
     "metadata": {},
     "output_type": "display_data"
    }
   ],
   "source": [
    "dat = dat_region_import\n",
    "head(dat)"
   ]
  },
  {
   "cell_type": "code",
   "execution_count": 24,
   "id": "4fa208bc-cf6a-4f5d-a6a1-7d851a1f948d",
   "metadata": {},
   "outputs": [
    {
     "name": "stdout",
     "output_type": "stream",
     "text": [
      "[1] 189842      5\n",
      "[1] 189510\n",
      "\n",
      "ASTARR_A:junke ASTARR_R:junke \n",
      "         35505         154337 \n",
      "   Min. 1st Qu.  Median    Mean 3rd Qu.    Max. \n",
      "  100.0   110.0   140.0   191.6   220.0  5510.0 \n"
     ]
    }
   ],
   "source": [
    "dat = dat_region_import\n",
    "dat = dat %>% \n",
    "    dplyr::filter(Group == \"ASTARR\", Method == \"Junke\") %>%\n",
    "    dplyr::mutate(Length = ChromEnd-ChromStart) %>%\n",
    "    dplyr::select(Region, Group, Label, Method, Length) %>%\n",
    "    dplyr::distinct()\n",
    "print(dim(dat))\n",
    "\n",
    "vec = dat$Region\n",
    "vec = unique(vec)\n",
    "print(length(vec))\n",
    "\n",
    "print(table(dat$Label))\n",
    "\n",
    "print(summary(dat$Length))"
   ]
  },
  {
   "cell_type": "code",
   "execution_count": 23,
   "id": "757f4c59-0a83-466f-a319-12a2ea1af532",
   "metadata": {},
   "outputs": [
    {
     "name": "stdout",
     "output_type": "stream",
     "text": [
      "[1] 141939      5\n",
      "[1] 140238\n",
      "\n",
      "WSTARR_A:junke WSTARR_R:junke \n",
      "         79738          62201 \n",
      "   Min. 1st Qu.  Median    Mean 3rd Qu.    Max. \n",
      "  100.0   110.0   150.0   213.4   260.0  2010.0 \n"
     ]
    }
   ],
   "source": [
    "dat = dat_region_import\n",
    "dat = dat %>% \n",
    "    dplyr::filter(Group == \"WSTARR\", Method == \"Junke\") %>%\n",
    "    dplyr::mutate(Length = ChromEnd-ChromStart) %>%\n",
    "    dplyr::select(Region, Group, Label, Method, Length) %>%\n",
    "    dplyr::distinct()\n",
    "print(dim(dat))\n",
    "\n",
    "vec = dat$Region\n",
    "vec = unique(vec)\n",
    "print(length(vec))\n",
    "\n",
    "print(table(dat$Label))\n",
    "\n",
    "print(summary(dat$Length))"
   ]
  },
  {
   "cell_type": "code",
   "execution_count": 26,
   "id": "e312d4b7-8633-4be5-881e-a14c6b274b13",
   "metadata": {},
   "outputs": [
    {
     "name": "stdout",
     "output_type": "stream",
     "text": [
      "[1] 6271    5\n",
      "[1] 6271\n",
      "\n",
      "TMPRA_A:junke TMPRA_R:junke \n",
      "         6017           254 \n",
      "   Min. 1st Qu.  Median    Mean 3rd Qu.    Max. \n",
      "  199.0   199.0   199.0   251.7   299.0  2399.0 \n"
     ]
    }
   ],
   "source": [
    "dat = dat_region_import\n",
    "dat = dat %>% \n",
    "    dplyr::filter(Group == \"TMPRA\", Method == \"Junke\") %>%\n",
    "    dplyr::mutate(Length = ChromEnd-ChromStart) %>%\n",
    "    dplyr::select(Region, Group, Label, Method, Length) %>%\n",
    "    dplyr::distinct()\n",
    "print(dim(dat))\n",
    "\n",
    "vec = dat$Region\n",
    "vec = unique(vec)\n",
    "print(length(vec))\n",
    "\n",
    "print(table(dat$Label))\n",
    "\n",
    "print(summary(dat$Length))"
   ]
  },
  {
   "cell_type": "code",
   "execution_count": 31,
   "id": "8691addb-863f-4134-aaf3-a687377c96d1",
   "metadata": {},
   "outputs": [
    {
     "data": {
      "text/html": [
       "23.6889763779528"
      ],
      "text/latex": [
       "23.6889763779528"
      ],
      "text/markdown": [
       "23.6889763779528"
      ],
      "text/plain": [
       "[1] 23.68898"
      ]
     },
     "metadata": {},
     "output_type": "display_data"
    }
   ],
   "source": [
    "6017/254"
   ]
  },
  {
   "cell_type": "code",
   "execution_count": 25,
   "id": "d93f4ee1-890a-4730-a82b-6f9d5a85812e",
   "metadata": {},
   "outputs": [
    {
     "name": "stdout",
     "output_type": "stream",
     "text": [
      "[1] 26133     5\n",
      "[1] 26132\n",
      "\n",
      "LMPRA_A:junke LMPRA_R:junke \n",
      "        25648           485 \n",
      "   Min. 1st Qu.  Median    Mean 3rd Qu.    Max. \n",
      "  200.0   200.0   200.0   200.9   200.0   600.0 \n"
     ]
    }
   ],
   "source": [
    "dat = dat_region_import\n",
    "dat = dat %>% \n",
    "    dplyr::filter(Group == \"LMPRA\", Method == \"Junke\") %>%\n",
    "    dplyr::mutate(Length = ChromEnd-ChromStart) %>%\n",
    "    dplyr::select(Region, Group, Label, Method, Length) %>%\n",
    "    dplyr::distinct()\n",
    "print(dim(dat))\n",
    "\n",
    "vec = dat$Region\n",
    "vec = unique(vec)\n",
    "print(length(vec))\n",
    "\n",
    "print(table(dat$Label))\n",
    "\n",
    "print(summary(dat$Length))"
   ]
  },
  {
   "cell_type": "code",
   "execution_count": 30,
   "id": "1851b643-a4ad-4ee4-83f8-31c8a8a8931c",
   "metadata": {},
   "outputs": [
    {
     "data": {
      "text/html": [
       "52.8824742268041"
      ],
      "text/latex": [
       "52.8824742268041"
      ],
      "text/markdown": [
       "52.8824742268041"
      ],
      "text/plain": [
       "[1] 52.88247"
      ]
     },
     "metadata": {},
     "output_type": "display_data"
    }
   ],
   "source": [
    "25648/485"
   ]
  },
  {
   "cell_type": "code",
   "execution_count": 28,
   "id": "c03e633b-9962-4549-9d80-e4606d6546f7",
   "metadata": {},
   "outputs": [
    {
     "name": "stdout",
     "output_type": "stream",
     "text": [
      "[1] 6242    5\n",
      "[1] 6242\n",
      "\n",
      "Signif \n",
      "  6242 \n",
      "   Min. 1st Qu.  Median    Mean 3rd Qu.    Max. \n",
      "   27.0   200.0   379.5   556.6   796.8  4467.0 \n"
     ]
    }
   ],
   "source": [
    "dat = dat_region_import\n",
    "dat = dat %>% \n",
    "    dplyr::filter(Group == \"CRISPRi-Growth\") %>%\n",
    "    dplyr::mutate(Length = ChromEnd-ChromStart) %>%\n",
    "    dplyr::select(Region, Group, Label, Method, Length) %>%\n",
    "    dplyr::distinct()\n",
    "print(dim(dat))\n",
    "\n",
    "vec = dat$Region\n",
    "vec = unique(vec)\n",
    "print(length(vec))\n",
    "\n",
    "print(table(dat$Label))\n",
    "\n",
    "print(summary(dat$Length))"
   ]
  },
  {
   "cell_type": "code",
   "execution_count": 29,
   "id": "ec5a9062-950b-4048-960f-f0c0c22768a0",
   "metadata": {},
   "outputs": [
    {
     "name": "stdout",
     "output_type": "stream",
     "text": [
      "[1] 113   5\n",
      "[1] 102\n",
      "\n",
      "CRISPRi-HCRFF:CAPRIN1     CRISPRi-HCRFF:CAT   CRISPRi-HCRFF:CD164 \n",
      "                    4                     2                     5 \n",
      "  CRISPRi-HCRFF:ERP29   CRISPRi-HCRFF:FADS1   CRISPRi-HCRFF:FADS2 \n",
      "                    4                     5                     4 \n",
      "  CRISPRi-HCRFF:FADS3    CRISPRi-HCRFF:FEN1   CRISPRi-HCRFF:GATA1 \n",
      "                    6                     2                     3 \n",
      "   CRISPRi-HCRFF:HBE1    CRISPRi-HCRFF:HBG1    CRISPRi-HCRFF:HBG2 \n",
      "                    6                    13                    13 \n",
      "  CRISPRi-HCRFF:HBS1L   CRISPRi-HCRFF:HDAC6    CRISPRi-HCRFF:LMO2 \n",
      "                    1                     3                     6 \n",
      "  CRISPRi-HCRFF:MEF2C     CRISPRi-HCRFF:MYB     CRISPRi-HCRFF:MYC \n",
      "                    3                     4                     5 \n",
      "    CRISPRi-HCRFF:NMU    CRISPRi-HCRFF:PVT1 \n",
      "                   11                    13 \n",
      "   Min. 1st Qu.  Median    Mean 3rd Qu.    Max. \n",
      "    200     600    1000    1343    2000    6500 \n"
     ]
    }
   ],
   "source": [
    "dat = dat_region_import\n",
    "dat = dat %>% \n",
    "    dplyr::filter(Group == \"CRISPRi-HCRFF\") %>%\n",
    "    dplyr::mutate(Length = ChromEnd-ChromStart) %>%\n",
    "    dplyr::select(Region, Group, Label, Method, Length) %>%\n",
    "    dplyr::distinct()\n",
    "print(dim(dat))\n",
    "\n",
    "vec = dat$Region\n",
    "vec = unique(vec)\n",
    "print(length(vec))\n",
    "\n",
    "print(table(dat$Label))\n",
    "\n",
    "print(summary(dat$Length))"
   ]
  }
 ],
 "metadata": {
  "kernelspec": {
   "display_name": "R",
   "language": "R",
   "name": "ir"
  },
  "language_info": {
   "codemirror_mode": "r",
   "file_extension": ".r",
   "mimetype": "text/x-r-source",
   "name": "R",
   "pygments_lexer": "r",
   "version": "4.4.1"
  }
 },
 "nbformat": 4,
 "nbformat_minor": 5
}
