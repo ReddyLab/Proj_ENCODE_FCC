{
 "cells": [
  {
   "cell_type": "raw",
   "id": "23925308-b1ec-44af-829d-53fd457eaeed",
   "metadata": {},
   "source": [
    "---\n",
    "title: Prepare CRISPRi Growth data 01\n",
    "subtitle: Prepare data\n",
    "format:\n",
    "    html:\n",
    "        code-fold:  true\n",
    "        code-tools: true\n",
    "---"
   ]
  },
  {
   "cell_type": "markdown",
   "id": "8bbb7318-af13-4f0a-9a04-badde8af65ae",
   "metadata": {},
   "source": [
    "**Set environment**"
   ]
  },
  {
   "cell_type": "code",
   "execution_count": 1,
   "id": "21dc88df-53f3-41d0-99eb-0c85a9ebdefc",
   "metadata": {
    "tags": []
   },
   "outputs": [
    {
     "name": "stdout",
     "output_type": "stream",
     "text": [
      "You are working on        Singularity \n",
      "BASE DIRECTORY (FD_BASE): /mount \n",
      "REPO DIRECTORY (FD_REPO): /mount/repo \n",
      "WORK DIRECTORY (FD_WORK): /mount/work \n",
      "DATA DIRECTORY (FD_DATA): /mount/data \n",
      "\n",
      "You are working with      ENCODE FCC \n",
      "PATH OF PROJECT (FD_PRJ): /mount/repo/Proj_ENCODE_FCC \n",
      "PROJECT RESULTS (FD_RES): /mount/repo/Proj_ENCODE_FCC/results \n",
      "PROJECT SCRIPTS (FD_EXE): /mount/repo/Proj_ENCODE_FCC/scripts \n",
      "PROJECT DATA    (FD_DAT): /mount/repo/Proj_ENCODE_FCC/data \n",
      "PROJECT NOTE    (FD_NBK): /mount/repo/Proj_ENCODE_FCC/notebooks \n",
      "PROJECT DOCS    (FD_DOC): /mount/repo/Proj_ENCODE_FCC/docs \n",
      "PROJECT LOG     (FD_LOG): /mount/repo/Proj_ENCODE_FCC/log \n",
      "PROJECT APP     (FD_APP): /mount/repo/Proj_ENCODE_FCC/app \n",
      "PROJECT REF     (FD_REF): /mount/repo/Proj_ENCODE_FCC/references \n",
      "\n"
     ]
    }
   ],
   "source": [
    "suppressMessages(suppressWarnings(source(\"../run_config_project_sing.R\")))\n",
    "show_env()"
   ]
  },
  {
   "cell_type": "markdown",
   "id": "4f600ea7-51f2-4459-b358-939f8dd65dac",
   "metadata": {},
   "source": [
    "**Set global variable**"
   ]
  },
  {
   "cell_type": "code",
   "execution_count": 2,
   "id": "27d87bd3-b620-4ef8-b871-13a908c9f76a",
   "metadata": {},
   "outputs": [],
   "source": [
    "TXT_FOLDER_INP = \"fcc_crispri_growth\"\n",
    "TXT_FOLDER_OUT = \"fcc_table\""
   ]
  },
  {
   "cell_type": "markdown",
   "id": "33f61a45-1781-4524-9df6-1d3933c44997",
   "metadata": {},
   "source": [
    "## Import data"
   ]
  },
  {
   "cell_type": "code",
   "execution_count": 3,
   "id": "69c452d2-a736-48ef-9b1c-19ac3ebee1c3",
   "metadata": {},
   "outputs": [
    {
     "data": {
      "text/html": [
       "<style>\n",
       ".list-inline {list-style: none; margin:0; padding: 0}\n",
       ".list-inline>li {display: inline-block}\n",
       ".list-inline>li:not(:last-child)::after {content: \"\\00b7\"; padding: 0 .5ex}\n",
       "</style>\n",
       "<ol class=list-inline><li>'K562.hg38.CRISPRi_Growth.signif.bed.gz'</li><li>'K562.hg38.CRISPRi_Growth.total.bed.gz'</li><li>'summary'</li></ol>\n"
      ],
      "text/latex": [
       "\\begin{enumerate*}\n",
       "\\item 'K562.hg38.CRISPRi\\_Growth.signif.bed.gz'\n",
       "\\item 'K562.hg38.CRISPRi\\_Growth.total.bed.gz'\n",
       "\\item 'summary'\n",
       "\\end{enumerate*}\n"
      ],
      "text/markdown": [
       "1. 'K562.hg38.CRISPRi_Growth.signif.bed.gz'\n",
       "2. 'K562.hg38.CRISPRi_Growth.total.bed.gz'\n",
       "3. 'summary'\n",
       "\n",
       "\n"
      ],
      "text/plain": [
       "[1] \"K562.hg38.CRISPRi_Growth.signif.bed.gz\"\n",
       "[2] \"K562.hg38.CRISPRi_Growth.total.bed.gz\" \n",
       "[3] \"summary\"                               "
      ]
     },
     "metadata": {},
     "output_type": "display_data"
    }
   ],
   "source": [
    "### set directory\n",
    "txt_folder = TXT_FOLDER_INP\n",
    "txt_fdiry  = file.path(FD_RES, \"region\", txt_folder)\n",
    "dir(txt_fdiry)"
   ]
  },
  {
   "cell_type": "code",
   "execution_count": 4,
   "id": "cbd70b9f-9330-4475-8bbd-8b4da4c2383e",
   "metadata": {},
   "outputs": [
    {
     "data": {
      "text/html": [
       "<table>\n",
       " <thead>\n",
       "  <tr>\n",
       "   <th style=\"text-align:left;\"> Name </th>\n",
       "   <th style=\"text-align:left;\"> Note </th>\n",
       "  </tr>\n",
       " </thead>\n",
       "<tbody>\n",
       "  <tr>\n",
       "   <td style=\"text-align:left;\"> Chrom </td>\n",
       "   <td style=\"text-align:left;\"> Name of the chromosome </td>\n",
       "  </tr>\n",
       "  <tr>\n",
       "   <td style=\"text-align:left;\"> ChromStart </td>\n",
       "   <td style=\"text-align:left;\"> The starting position of the feature in the chromosome </td>\n",
       "  </tr>\n",
       "  <tr>\n",
       "   <td style=\"text-align:left;\"> ChromEnd </td>\n",
       "   <td style=\"text-align:left;\"> The ending position of the feature in the chromosome </td>\n",
       "  </tr>\n",
       "  <tr>\n",
       "   <td style=\"text-align:left;\"> Region </td>\n",
       "   <td style=\"text-align:left;\"> Region location </td>\n",
       "  </tr>\n",
       "  <tr>\n",
       "   <td style=\"text-align:left;\"> Guide_ID </td>\n",
       "   <td style=\"text-align:left;\"> ID of significant guide within the DHS </td>\n",
       "  </tr>\n",
       "  <tr>\n",
       "   <td style=\"text-align:left;\"> Log2FC </td>\n",
       "   <td style=\"text-align:left;\"> log2foldchange of the guide </td>\n",
       "  </tr>\n",
       "  <tr>\n",
       "   <td style=\"text-align:left;\"> Padj </td>\n",
       "   <td style=\"text-align:left;\"> Adjusted p value of the guide </td>\n",
       "  </tr>\n",
       "  <tr>\n",
       "   <td style=\"text-align:left;\"> Group </td>\n",
       "   <td style=\"text-align:left;\"> Assay Name </td>\n",
       "  </tr>\n",
       "  <tr>\n",
       "   <td style=\"text-align:left;\"> Label </td>\n",
       "   <td style=\"text-align:left;\"> Assay Name </td>\n",
       "  </tr>\n",
       "</tbody>\n",
       "</table>"
      ]
     },
     "metadata": {},
     "output_type": "display_data"
    }
   ],
   "source": [
    "### set file path\n",
    "txt_folder = TXT_FOLDER_INP\n",
    "txt_fdiry  = file.path(FD_RES, \"region\", txt_folder, \"summary\")\n",
    "txt_fname  = \"description.tsv\"\n",
    "txt_fpath  = file.path(txt_fdiry, txt_fname)\n",
    "\n",
    "### read table\n",
    "dat = read_tsv(txt_fpath, show_col_types = FALSE)\n",
    "\n",
    "### assign and show\n",
    "dat_cnames = dat\n",
    "fun_display_table(dat)"
   ]
  },
  {
   "cell_type": "code",
   "execution_count": 5,
   "id": "c0891bf1-f754-4b25-9956-fc9742d0c8b2",
   "metadata": {},
   "outputs": [
    {
     "name": "stdout",
     "output_type": "stream",
     "text": [
      "[1] 6242    9\n"
     ]
    },
    {
     "data": {
      "text/html": [
       "<table>\n",
       " <thead>\n",
       "  <tr>\n",
       "   <th style=\"text-align:left;\"> Chrom </th>\n",
       "   <th style=\"text-align:right;\"> ChromStart </th>\n",
       "   <th style=\"text-align:right;\"> ChromEnd </th>\n",
       "   <th style=\"text-align:left;\"> Region </th>\n",
       "   <th style=\"text-align:left;\"> Guide_ID </th>\n",
       "   <th style=\"text-align:right;\"> Log2FC </th>\n",
       "   <th style=\"text-align:right;\"> Padj </th>\n",
       "   <th style=\"text-align:left;\"> Group </th>\n",
       "   <th style=\"text-align:left;\"> Label </th>\n",
       "  </tr>\n",
       " </thead>\n",
       "<tbody>\n",
       "  <tr>\n",
       "   <td style=\"text-align:left;\"> chr1 </td>\n",
       "   <td style=\"text-align:right;\"> 605550 </td>\n",
       "   <td style=\"text-align:right;\"> 605627 </td>\n",
       "   <td style=\"text-align:left;\"> chr1:605550-605627 </td>\n",
       "   <td style=\"text-align:left;\"> chr1.1.1 </td>\n",
       "   <td style=\"text-align:right;\"> -0.9859338 </td>\n",
       "   <td style=\"text-align:right;\"> 0.0000000 </td>\n",
       "   <td style=\"text-align:left;\"> CRISPRi-Growth </td>\n",
       "   <td style=\"text-align:left;\"> Signif </td>\n",
       "  </tr>\n",
       "  <tr>\n",
       "   <td style=\"text-align:left;\"> chr1 </td>\n",
       "   <td style=\"text-align:right;\"> 826642 </td>\n",
       "   <td style=\"text-align:right;\"> 827902 </td>\n",
       "   <td style=\"text-align:left;\"> chr1:826642-827902 </td>\n",
       "   <td style=\"text-align:left;\"> chr1.4.8 </td>\n",
       "   <td style=\"text-align:right;\"> 0.1855074 </td>\n",
       "   <td style=\"text-align:right;\"> 0.0325051 </td>\n",
       "   <td style=\"text-align:left;\"> CRISPRi-Growth </td>\n",
       "   <td style=\"text-align:left;\"> Signif </td>\n",
       "  </tr>\n",
       "  <tr>\n",
       "   <td style=\"text-align:left;\"> chr1 </td>\n",
       "   <td style=\"text-align:right;\"> 964946 </td>\n",
       "   <td style=\"text-align:right;\"> 965136 </td>\n",
       "   <td style=\"text-align:left;\"> chr1:964946-965136 </td>\n",
       "   <td style=\"text-align:left;\"> chr1.41.7 </td>\n",
       "   <td style=\"text-align:right;\"> -1.1466792 </td>\n",
       "   <td style=\"text-align:right;\"> 0.0000000 </td>\n",
       "   <td style=\"text-align:left;\"> CRISPRi-Growth </td>\n",
       "   <td style=\"text-align:left;\"> Signif </td>\n",
       "  </tr>\n",
       "</tbody>\n",
       "</table>"
      ]
     },
     "metadata": {},
     "output_type": "display_data"
    }
   ],
   "source": [
    "### set file path\n",
    "txt_folder = TXT_FOLDER_INP\n",
    "txt_fdiry  = file.path(FD_RES, \"region\", txt_folder)\n",
    "txt_fname  = \"K562.hg38.CRISPRi_Growth.signif.bed.gz\"\n",
    "txt_fpath  = file.path(txt_fdiry, txt_fname)\n",
    "\n",
    "### read table\n",
    "vec = dat_cnames$Name\n",
    "dat = read_tsv(txt_fpath, col_names = vec, show_col_types = FALSE)\n",
    "\n",
    "### assign and show\n",
    "dat_region_import = dat\n",
    "print(dim(dat))\n",
    "fun_display_table(head(dat, 3))"
   ]
  },
  {
   "cell_type": "markdown",
   "id": "b43c0385-946a-4b7a-b93e-746ab93a2ca7",
   "metadata": {},
   "source": [
    "## Arrange table"
   ]
  },
  {
   "cell_type": "code",
   "execution_count": 6,
   "id": "b04e93c8-aef2-413d-a63c-1f556390b170",
   "metadata": {},
   "outputs": [
    {
     "name": "stdout",
     "output_type": "stream",
     "text": [
      "[1] 6242   12\n"
     ]
    },
    {
     "data": {
      "text/html": [
       "<table>\n",
       " <thead>\n",
       "  <tr>\n",
       "   <th style=\"text-align:left;\"> Chrom </th>\n",
       "   <th style=\"text-align:right;\"> ChromStart </th>\n",
       "   <th style=\"text-align:right;\"> ChromEnd </th>\n",
       "   <th style=\"text-align:left;\"> Group </th>\n",
       "   <th style=\"text-align:left;\"> Label </th>\n",
       "   <th style=\"text-align:left;\"> Assay </th>\n",
       "   <th style=\"text-align:left;\"> Region </th>\n",
       "   <th style=\"text-align:left;\"> Target </th>\n",
       "   <th style=\"text-align:right;\"> Score </th>\n",
       "   <th style=\"text-align:right;\"> NLog10P </th>\n",
       "   <th style=\"text-align:left;\"> Method </th>\n",
       "   <th style=\"text-align:left;\"> Source </th>\n",
       "  </tr>\n",
       " </thead>\n",
       "<tbody>\n",
       "  <tr>\n",
       "   <td style=\"text-align:left;\"> chr1 </td>\n",
       "   <td style=\"text-align:right;\"> 605550 </td>\n",
       "   <td style=\"text-align:right;\"> 605627 </td>\n",
       "   <td style=\"text-align:left;\"> CRISPRi-Growth </td>\n",
       "   <td style=\"text-align:left;\"> Signif </td>\n",
       "   <td style=\"text-align:left;\"> CRISPRi-Growth </td>\n",
       "   <td style=\"text-align:left;\"> chr1:605550-605627 </td>\n",
       "   <td style=\"text-align:left;\"> chr1.1.1 </td>\n",
       "   <td style=\"text-align:right;\"> -0.9859338 </td>\n",
       "   <td style=\"text-align:right;\"> 10.488680 </td>\n",
       "   <td style=\"text-align:left;\"> DESeq2 </td>\n",
       "   <td style=\"text-align:left;\"> Gersbach Lab </td>\n",
       "  </tr>\n",
       "  <tr>\n",
       "   <td style=\"text-align:left;\"> chr1 </td>\n",
       "   <td style=\"text-align:right;\"> 826642 </td>\n",
       "   <td style=\"text-align:right;\"> 827902 </td>\n",
       "   <td style=\"text-align:left;\"> CRISPRi-Growth </td>\n",
       "   <td style=\"text-align:left;\"> Signif </td>\n",
       "   <td style=\"text-align:left;\"> CRISPRi-Growth </td>\n",
       "   <td style=\"text-align:left;\"> chr1:826642-827902 </td>\n",
       "   <td style=\"text-align:left;\"> chr1.4.8 </td>\n",
       "   <td style=\"text-align:right;\"> 0.1855074 </td>\n",
       "   <td style=\"text-align:right;\"> 1.488048 </td>\n",
       "   <td style=\"text-align:left;\"> DESeq2 </td>\n",
       "   <td style=\"text-align:left;\"> Gersbach Lab </td>\n",
       "  </tr>\n",
       "  <tr>\n",
       "   <td style=\"text-align:left;\"> chr1 </td>\n",
       "   <td style=\"text-align:right;\"> 964946 </td>\n",
       "   <td style=\"text-align:right;\"> 965136 </td>\n",
       "   <td style=\"text-align:left;\"> CRISPRi-Growth </td>\n",
       "   <td style=\"text-align:left;\"> Signif </td>\n",
       "   <td style=\"text-align:left;\"> CRISPRi-Growth </td>\n",
       "   <td style=\"text-align:left;\"> chr1:964946-965136 </td>\n",
       "   <td style=\"text-align:left;\"> chr1.41.7 </td>\n",
       "   <td style=\"text-align:right;\"> -1.1466792 </td>\n",
       "   <td style=\"text-align:right;\"> 25.834265 </td>\n",
       "   <td style=\"text-align:left;\"> DESeq2 </td>\n",
       "   <td style=\"text-align:left;\"> Gersbach Lab </td>\n",
       "  </tr>\n",
       "</tbody>\n",
       "</table>"
      ]
     },
     "metadata": {},
     "output_type": "display_data"
    }
   ],
   "source": [
    "### get table\n",
    "dat = dat_region_import\n",
    "vec = c(\n",
    "    \"Chrom\", \"ChromStart\", \"ChromEnd\", \"Group\", \"Label\",\n",
    "    \"Assay\", \"Region\", \"Target\", \"Score\", \"NLog10P\",\n",
    "    \"Method\", \"Source\"\n",
    ")\n",
    "\n",
    "dat = dat %>% \n",
    "    dplyr::mutate(\n",
    "        Assay   = \"CRISPRi-Growth\",\n",
    "        Region  = fun_gen_region(Chrom, ChromStart, ChromEnd),\n",
    "        Target  = Guide_ID,\n",
    "        Score   = Log2FC,\n",
    "        NLog10P = -log10(Padj),\n",
    "        Method  = \"DESeq2\",\n",
    "        Source  = \"Gersbach Lab\"\n",
    "    ) %>%\n",
    "    dplyr::select(!!!vec)\n",
    "\n",
    "dat_region_arrange = dat\n",
    "print(dim(dat))\n",
    "fun_display_table(head(dat, 3))"
   ]
  },
  {
   "cell_type": "markdown",
   "id": "bbfaeb92-3459-4a23-97ea-ceb648e02d79",
   "metadata": {},
   "source": [
    "## Export results"
   ]
  },
  {
   "cell_type": "code",
   "execution_count": 7,
   "id": "bd631b72-0332-4364-a966-5a57012f4b42",
   "metadata": {},
   "outputs": [],
   "source": [
    "### set file path\n",
    "txt_folder = TXT_FOLDER_OUT\n",
    "txt_fdiry  = file.path(FD_RES, \"region\", txt_folder)\n",
    "txt_fname  = \"K562.hg38.fcc_crispri_growth.bed.gz\"\n",
    "txt_fpath  = file.path(txt_fdiry, txt_fname)\n",
    "\n",
    "### set table\n",
    "dat = dat_region_arrange\n",
    "dat = dat %>% dplyr::arrange(Chrom, ChromStart, ChromEnd)\n",
    "\n",
    "### write table\n",
    "write_tsv(dat, txt_fpath, col_names = FALSE)"
   ]
  },
  {
   "cell_type": "code",
   "execution_count": null,
   "id": "494e5cdb-9f5e-419f-a0a0-3b5e4e82e869",
   "metadata": {},
   "outputs": [],
   "source": []
  }
 ],
 "metadata": {
  "kernelspec": {
   "display_name": "R",
   "language": "R",
   "name": "ir"
  },
  "language_info": {
   "codemirror_mode": "r",
   "file_extension": ".r",
   "mimetype": "text/x-r-source",
   "name": "R",
   "pygments_lexer": "r",
   "version": "4.4.1"
  }
 },
 "nbformat": 4,
 "nbformat_minor": 5
}
