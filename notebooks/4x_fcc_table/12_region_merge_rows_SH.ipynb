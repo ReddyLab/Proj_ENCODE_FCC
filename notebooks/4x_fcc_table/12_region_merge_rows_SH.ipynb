{
 "cells": [
  {
   "cell_type": "raw",
   "id": "c4e3c278-3f8e-4238-a15b-45cb2dad6945",
   "metadata": {},
   "source": [
    "---\n",
    "title: Region annotation 01 (ASTARR MACS peaks)\n",
    "subtitle: Annotate peaks (Main)\n",
    "format:\n",
    "    html:\n",
    "        code-fold:  true \n",
    "        code-tools: true\n",
    "---"
   ]
  },
  {
   "cell_type": "markdown",
   "id": "39221f80-994f-4b68-a54b-8b4351a7ba09",
   "metadata": {},
   "source": [
    "**Set environment**"
   ]
  },
  {
   "cell_type": "code",
   "execution_count": 1,
   "id": "8a55dd52-7555-4872-b2f0-8a8bb88be3a9",
   "metadata": {},
   "outputs": [
    {
     "name": "stdout",
     "output_type": "stream",
     "text": [
      "You are working on             Duke Server: HARDAC\n",
      "BASE DIRECTORY (FD_BASE):      /data/reddylab/Kuei\n",
      "REPO DIRECTORY (FD_REPO):      /data/reddylab/Kuei/repo\n",
      "WORK DIRECTORY (FD_WORK):      /data/reddylab/Kuei/work\n",
      "DATA DIRECTORY (FD_DATA):      /data/reddylab/Kuei/data\n",
      "CONTAINER DIR. (FD_SING):      /data/reddylab/Kuei/container\n",
      "\n",
      "You are working with           ENCODE FCC\n",
      "PATH OF PROJECT (FD_PRJ):      /data/reddylab/Kuei/repo/Proj_ENCODE_FCC\n",
      "PROJECT RESULTS (FD_RES):      /data/reddylab/Kuei/repo/Proj_ENCODE_FCC/results\n",
      "PROJECT SCRIPTS (FD_EXE):      /data/reddylab/Kuei/repo/Proj_ENCODE_FCC/scripts\n",
      "PROJECT DATA    (FD_DAT):      /data/reddylab/Kuei/repo/Proj_ENCODE_FCC/data\n",
      "PROJECT NOTE    (FD_NBK):      /data/reddylab/Kuei/repo/Proj_ENCODE_FCC/notebooks\n",
      "PROJECT DOCS    (FD_DOC):      /data/reddylab/Kuei/repo/Proj_ENCODE_FCC/docs\n",
      "PROJECT LOG     (FD_LOG):      /data/reddylab/Kuei/repo/Proj_ENCODE_FCC/log\n",
      "PROJECT REF     (FD_REF):      /data/reddylab/Kuei/repo/Proj_ENCODE_FCC/references\n",
      "PROJECT IMAGE   (FP_PRJ_SIF):  /data/reddylab/Kuei/container/project/singularity_proj_encode_fcc.sif\n",
      "\n"
     ]
    }
   ],
   "source": [
    "source ../run_config_project.sh\n",
    "show_env"
   ]
  },
  {
   "cell_type": "code",
   "execution_count": null,
   "id": "43e9b2ee-a69e-40ee-9086-09d54447d584",
   "metadata": {},
   "outputs": [],
   "source": []
  },
  {
   "cell_type": "code",
   "execution_count": 2,
   "id": "f8d29191-09a6-4d12-aff8-8f5d61e6dfdf",
   "metadata": {},
   "outputs": [
    {
     "name": "stdout",
     "output_type": "stream",
     "text": [
      "\u001b[0m\u001b[38;5;9mfcc_table.concat.starr.mpra.crispri.e2g.atac.tss.bed.gz\u001b[0m\n",
      "\u001b[38;5;9mfcc_table.merge.starr.mpra.crispri.e2g.atac.tss.bed.gz\u001b[0m\n",
      "\u001b[38;5;9mfcc_table.result.starr.mpra.crispri.e2g.atac.tss.bed.gz\u001b[0m\n",
      "\u001b[38;5;9mK562.hg38.atac.bed.gz\u001b[0m\n",
      "\u001b[38;5;9mK562.hg38.encode_e2g_benchmark.bed.gz\u001b[0m\n",
      "\u001b[38;5;9mK562.hg38.fcc_astarr_csaw.bed.gz\u001b[0m\n",
      "\u001b[38;5;9mK562.hg38.fcc_crispri_growth.bed.gz\u001b[0m\n",
      "\u001b[38;5;9mK562.hg38.fcc_crispri_hcrff.bed.gz\u001b[0m\n",
      "\u001b[38;5;9mK562.hg38.fcc_starrmpra_junke.bed.gz\u001b[0m\n",
      "\u001b[38;5;9mK562.hg38.tss.bed.gz\u001b[0m\n",
      "\u001b[38;5;27msummary\u001b[0m\n"
     ]
    }
   ],
   "source": [
    "FD_INP=${FD_RES}/region/fcc_table\n",
    "ls ${FD_INP}"
   ]
  },
  {
   "cell_type": "code",
   "execution_count": 3,
   "id": "5daf45ba-668f-462f-8502-b70dc80cc7bb",
   "metadata": {},
   "outputs": [
    {
     "name": "stdout",
     "output_type": "stream",
     "text": [
      "Submitted batch job 35137698\n"
     ]
    }
   ],
   "source": [
    "FD_INP=${FD_RES}/region/fcc_table\n",
    "FN_INP=\"fcc_table.concat.starr.mpra.crispri.e2g.atac.tss.bed.gz\"\n",
    "FP_INP=${FD_INP}/${FN_INP}\n",
    "\n",
    "FD_OUT=${FD_INP}\n",
    "FN_OUT=\"fcc_table.merge.starr.mpra.crispri.e2g.atac.tss.bed.gz\"\n",
    "FP_OUT=${FD_OUT}/${FN_OUT}\n",
    "\n",
    "FN_LOG=\"region_merge.fcc_table.txt\"\n",
    "FP_LOG=${FD_LOG}/${FN_LOG}\n",
    "\n",
    "FN_EXE=run_bedtools_merge.sh\n",
    "FP_EXE=${FD_EXE}/${FN_EXE}\n",
    "chmod +x ${FP_EXE}\n",
    "\n",
    "sbatch -p ${NODE} \\\n",
    "    --exclude=dl-01 \\\n",
    "    --cpus-per-task 4 \\\n",
    "    --mem 4G \\\n",
    "    --output ${FP_LOG} \\\n",
    "    ${FP_EXE} ${FD_PRJ} ${FP_INP} ${FP_OUT}"
   ]
  },
  {
   "cell_type": "code",
   "execution_count": 5,
   "id": "2565a70c-af86-4a37-9e3e-cf5e21fba727",
   "metadata": {},
   "outputs": [
    {
     "name": "stdout",
     "output_type": "stream",
     "text": [
      "Hostname:           x2-08-1.genome.duke.edu\n",
      "Slurm Array Index: \n",
      "Time Stamp:         10-25-24+16:13:58\n",
      "\n",
      "Input:  /data/reddylab/Kuei/repo/Proj_ENCODE_FCC/results/region/fcc_table/fcc_table.concat.starr.mpra.crispri.e2g.atac.tss.bed.gz\n",
      "\n",
      "show first few lines of input\n",
      "chr1\t9976\t10475\tASTARR\tASTARR_R:csaw:KS91\tATAC-STARR\tchr1:9976-10475\tNA\t-4.184\t7.358\tCSAW\tReddy Lab\n",
      "chr1\t10010\t10430\tASTARR\tASTARR_R:junke\tATAC-STARR\tchr1:10010-10430\tNA\t-2.5209164056887827\tNA\tJunke\tReddy Lab\n",
      "chr1\t10038\t10405\tATAC\tATAC\tATAC\tchr1:10038-10405\tNA\t3.9400381203823622\tNA\tMACS\tReddy Lab\n",
      "chr1\t14226\t14675\tASTARR\tASTARR_R:csaw:KS91\tATAC-STARR\tchr1:14226-14675\tNA\t-6.187\t9.192\tCSAW\tReddy Lab\n",
      "chr1\t14282\t14614\tATAC\tATAC\tATAC\tchr1:14282-14614\tNA\t2.8417072303094604\tNA\tMACS\tReddy Lab\n",
      "chr1\t15976\t16525\tASTARR\tASTARR_R:csaw:KS91\tATAC-STARR\tchr1:15976-16525\tNA\t-2.236\t5.062\tCSAW\tReddy Lab\n",
      "chr1\t16025\t16338\tATAC\tATAC\tATAC\tchr1:16025-16338\tNA\t3.8308120140787305\tNA\tMACS\tReddy Lab\n",
      "chr1\t16220\t16340\tASTARR\tASTARR_R:junke\tATAC-STARR\tchr1:16220-16340\tNA\t-2.338764594927668\tNA\tJunke\tReddy Lab\n",
      "chr1\t17201\t17800\tASTARR\tASTARR_R:csaw:KS91\tATAC-STARR\tchr1:17201-17800\tNA\t-1.944\t7.506\tCSAW\tReddy Lab\n",
      "chr1\t17230\t17440\tASTARR\tASTARR_R:junke\tATAC-STARR\tchr1:17230-17440\tNA\t-2.3426803691570153\tNA\tJunke\tReddy Lab\n",
      "\n",
      "\n",
      "\n",
      "Output:  /data/reddylab/Kuei/repo/Proj_ENCODE_FCC/results/region/fcc_table/fcc_table.merge.starr.mpra.crispri.e2g.atac.tss.bed.gz\n",
      "\n",
      "show first few lines of output:\n",
      "chr1\t9976\t10475\tASTARR,ATAC\tASTARR_R:csaw:KS91,ASTARR_R:junke,ATAC\n",
      "chr1\t14226\t14675\tASTARR,ATAC\tASTARR_R:csaw:KS91,ATAC\n",
      "chr1\t15976\t16525\tASTARR,ATAC\tASTARR_R:csaw:KS91,ASTARR_R:junke,ATAC\n",
      "chr1\t17201\t17800\tASTARR,ATAC\tASTARR_R:csaw:KS91,ASTARR_R:junke,ATAC\n",
      "chr1\t28876\t29650\tASTARR,ATAC,TSS\tASTARR_R:csaw:KS91,ASTARR_R:junke,ATAC,TSS:WASH7P\n",
      "chr1\t30776\t31100\tASTARR\tASTARR_R:csaw:KS91\n",
      "chr1\t101576\t101875\tASTARR\tASTARR_R:csaw:KS91\n",
      "chr1\t115376\t115975\tASTARR,ATAC\tASTARR_A:csaw:KS91,ASTARR_A:junke,ATAC\n",
      "chr1\t118501\t118775\tASTARR\tASTARR_A:csaw:KS91,ASTARR_A:junke\n",
      "chr1\t136201\t137470\tASTARR,ATAC\tASTARR_R:csaw:KS91,ASTARR_R:junke,ATAC\n",
      "\n",
      "\n",
      "Done!\n",
      "Run Time: 2 seconds\n"
     ]
    }
   ],
   "source": [
    "cat ${FP_LOG}"
   ]
  },
  {
   "cell_type": "code",
   "execution_count": null,
   "id": "9f4c7865-d3b3-4295-a6b0-990a3b1daafe",
   "metadata": {},
   "outputs": [],
   "source": []
  }
 ],
 "metadata": {
  "kernelspec": {
   "display_name": "Bash",
   "language": "bash",
   "name": "bash"
  },
  "language_info": {
   "codemirror_mode": "shell",
   "file_extension": ".sh",
   "mimetype": "text/x-sh",
   "name": "bash"
  }
 },
 "nbformat": 4,
 "nbformat_minor": 5
}
