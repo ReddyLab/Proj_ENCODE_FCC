{
 "cells": [
  {
   "cell_type": "code",
   "execution_count": 1,
   "id": "1d8d7a26-35c3-4d9c-9028-479b06c4f372",
   "metadata": {},
   "outputs": [
    {
     "name": "stdout",
     "output_type": "stream",
     "text": [
      "You are working on             Duke Server: HARDAC\n",
      "BASE DIRECTORY (FD_BASE):      /data/reddylab/Kuei\n",
      "REPO DIRECTORY (FD_REPO):      /data/reddylab/Kuei/repo\n",
      "WORK DIRECTORY (FD_WORK):      /data/reddylab/Kuei/work\n",
      "DATA DIRECTORY (FD_DATA):      /data/reddylab/Kuei/data\n",
      "CONTAINER DIR. (FD_SING):      /data/reddylab/Kuei/container\n",
      "\n",
      "You are working with           ENCODE FCC\n",
      "PATH OF PROJECT (FD_PRJ):      /data/reddylab/Kuei/repo/Proj_CombEffect_ENCODE_FCC\n",
      "PROJECT RESULTS (FD_RES):      /data/reddylab/Kuei/repo/Proj_CombEffect_ENCODE_FCC/results\n",
      "PROJECT SCRIPTS (FD_EXE):      /data/reddylab/Kuei/repo/Proj_CombEffect_ENCODE_FCC/scripts\n",
      "PROJECT DATA    (FD_DAT):      /data/reddylab/Kuei/repo/Proj_CombEffect_ENCODE_FCC/data\n",
      "PROJECT NOTE    (FD_NBK):      /data/reddylab/Kuei/repo/Proj_CombEffect_ENCODE_FCC/notebooks\n",
      "PROJECT DOCS    (FD_DOC):      /data/reddylab/Kuei/repo/Proj_CombEffect_ENCODE_FCC/docs\n",
      "PROJECT LOG     (FD_LOG):      /data/reddylab/Kuei/repo/Proj_CombEffect_ENCODE_FCC/log\n",
      "PROJECT APP     (FD_APP):      /data/reddylab/Kuei/repo/Proj_CombEffect_ENCODE_FCC/app\n",
      "PROJECT REF     (FD_REF):      /data/reddylab/Kuei/repo/Proj_CombEffect_ENCODE_FCC/references\n",
      "PROJECT IMAGE   (FP_PRJ_SIF):  /data/reddylab/Kuei/repo/Proj_CombEffect_ENCODE_FCC/app/singularity_proj_encode_fcc.sif\n",
      "\n"
     ]
    }
   ],
   "source": [
    "source ../run_config_project.sh\n",
    "show_env"
   ]
  },
  {
   "cell_type": "code",
   "execution_count": 2,
   "id": "5e4163bf-60af-4181-9f49-88f38346d391",
   "metadata": {},
   "outputs": [
    {
     "name": "stdout",
     "output_type": "stream",
     "text": [
      "\u001b[0m\u001b[38;5;27m00_setup\u001b[0m          \u001b[38;5;27m32_region_coverage\u001b[0m  run_config_project.sh\n",
      "\u001b[38;5;27m01_data_download\u001b[0m  \u001b[38;5;27mbuild_site\u001b[0m          run_config_project_sing.py\n",
      "\u001b[38;5;27m02_data_prepare\u001b[0m   \u001b[38;5;27mbuild_tracks\u001b[0m        run_config_project_sing.R\n"
     ]
    }
   ],
   "source": [
    "ls ${FD_NBK}"
   ]
  },
  {
   "cell_type": "code",
   "execution_count": 5,
   "id": "453baff8-29a2-4a80-82a1-d2c97778b3ec",
   "metadata": {},
   "outputs": [
    {
     "name": "stdout",
     "output_type": "stream",
     "text": [
      "about.qmd  \u001b[0m\u001b[38;5;9mdocs.tar.gz\u001b[0m  index.qmd  _quarto.yml\n",
      "\u001b[38;5;27mdocs\u001b[0m       \u001b[38;5;27mfigure\u001b[0m       \u001b[38;5;27mnotebooks\u001b[0m  styles.css\n"
     ]
    }
   ],
   "source": [
    "ls ${FD_PRJ}/site"
   ]
  },
  {
   "cell_type": "code",
   "execution_count": 6,
   "id": "1a357b6d-b195-4b17-9a95-edc0d074f3ab",
   "metadata": {},
   "outputs": [
    {
     "name": "stdout",
     "output_type": "stream",
     "text": [
      "region_ocr_01_create_download_script_R.ipynb\n",
      "region_ocr_02_run_download_data_SH.ipynb\n"
     ]
    }
   ],
   "source": [
    "ls ${FD_NBK}/01_data_download"
   ]
  },
  {
   "cell_type": "code",
   "execution_count": 11,
   "id": "644db094-7c37-4804-b580-c0b3ee787313",
   "metadata": {},
   "outputs": [],
   "source": [
    "FD_INP=${FD_NBK}/01_data_download\n",
    "FD_OUT=${FD_PRJ}/site/notebooks/01_data_download\n",
    "\n",
    "#mkdir ${FD_OUT}\n",
    "cp ${FD_INP}/region_ocr* ${FD_OUT}/"
   ]
  },
  {
   "cell_type": "code",
   "execution_count": null,
   "id": "f7814435-8873-4a4e-a182-f14e021b5a84",
   "metadata": {},
   "outputs": [],
   "source": []
  }
 ],
 "metadata": {
  "kernelspec": {
   "display_name": "Bash",
   "language": "bash",
   "name": "bash"
  },
  "language_info": {
   "codemirror_mode": "shell",
   "file_extension": ".sh",
   "mimetype": "text/x-sh",
   "name": "bash"
  }
 },
 "nbformat": 4,
 "nbformat_minor": 5
}
