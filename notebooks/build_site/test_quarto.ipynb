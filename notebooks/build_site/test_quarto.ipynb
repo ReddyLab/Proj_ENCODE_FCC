{
 "cells": [
  {
   "cell_type": "code",
   "execution_count": 2,
   "id": "8bf83022-65ce-405c-a2f4-6fa2c0400a31",
   "metadata": {},
   "outputs": [
    {
     "name": "stdout",
     "output_type": "stream",
     "text": [
      "You are working on        Duke HARDAC\n",
      "BASE DIRECTORY (FD_BASE): /data/reddylab/Kuei\n",
      "REPO DIRECTORY (FD_REPO): /data/reddylab/Kuei/repo\n",
      "WORK DIRECTORY (FD_WORK): /data/reddylab/Kuei/work\n",
      "DATA DIRECTORY (FD_DATA): /data/reddylab/Kuei/data\n",
      "CONTAINER DIR. (FD_SING): /data/reddylab/Kuei/container\n",
      "\n",
      "You are working with      ENCODE FCC\n",
      "PATH OF PROJECT (FD_PRJ): /data/reddylab/Kuei/repo/Proj_CombEffect_ENCODE_FCC\n",
      "PROJECT RESULTS (FD_RES): /data/reddylab/Kuei/repo/Proj_CombEffect_ENCODE_FCC/results\n",
      "PROJECT SCRIPTS (FD_EXE): /data/reddylab/Kuei/repo/Proj_CombEffect_ENCODE_FCC/scripts\n",
      "PROJECT DATA    (FD_DAT): /data/reddylab/Kuei/repo/Proj_CombEffect_ENCODE_FCC/data\n",
      "PROJECT NOTE    (FD_NBK): /data/reddylab/Kuei/repo/Proj_CombEffect_ENCODE_FCC/notebooks\n",
      "PROJECT DOCS    (FD_DOC): /data/reddylab/Kuei/repo/Proj_CombEffect_ENCODE_FCC/docs\n",
      "PROJECT LOG     (FD_LOG): /data/reddylab/Kuei/repo/Proj_CombEffect_ENCODE_FCC/log\n",
      "PROJECT APP     (FD_APP): /data/reddylab/Kuei/repo/Proj_CombEffect_ENCODE_FCC/app\n",
      "PROJECT REF     (FD_REF): /data/reddylab/Kuei/repo/Proj_CombEffect_ENCODE_FCC/references\n",
      "PROJECT IMAGE   (FP_SIF): /data/reddylab/Kuei/repo/Proj_CombEffect_ENCODE_FCC/app/singularity_proj_encode_fcc.sif\n",
      "\n"
     ]
    }
   ],
   "source": [
    "source get_config.sh\n",
    "show_env"
   ]
  },
  {
   "cell_type": "code",
   "execution_count": null,
   "id": "e0752077-4900-45d1-b907-ea3cdb4a2992",
   "metadata": {},
   "outputs": [],
   "source": []
  },
  {
   "cell_type": "code",
   "execution_count": 3,
   "id": "ed8e8a11-2630-493f-bba6-2b02eccea52b",
   "metadata": {},
   "outputs": [
    {
     "name": "stdout",
     "output_type": "stream",
     "text": [
      "/data/reddylab/Kuei/container\n"
     ]
    }
   ],
   "source": [
    "echo ${FD_SING}"
   ]
  },
  {
   "cell_type": "code",
   "execution_count": 5,
   "id": "6d49ade6-5eaf-4e19-a21d-8dcef70e6228",
   "metadata": {},
   "outputs": [
    {
     "name": "stdout",
     "output_type": "stream",
     "text": [
      "singularity_rocker_verse.sif\n"
     ]
    }
   ],
   "source": [
    "ls ${FD_SING}/toolbox"
   ]
  },
  {
   "cell_type": "code",
   "execution_count": 13,
   "id": "0a6b2acb-98fb-4d5d-ac43-1a87822a2605",
   "metadata": {},
   "outputs": [
    {
     "name": "stdout",
     "output_type": "stream",
     "text": [
      "\n",
      "  Usage:   quarto \n",
      "  Version: 1.3.433\n",
      "\n",
      "  Description:\n",
      "\n",
      "    Quarto CLI\n",
      "\n",
      "  Options:\n",
      "\n",
      "    -h, --help     - Show this help.                            \n",
      "    -V, --version  - Show the version number for this program.  \n",
      "\n",
      "  Commands:\n",
      "\n",
      "    render          [input] [args...]     - Render files or projects to various document types.        \n",
      "    preview         [file] [args...]      - Render and preview a document or website project.          \n",
      "    serve           [input]               - Serve a Shiny interactive document.                        \n",
      "    create          [type] [commands...]  - Create a Quarto project or extension                       \n",
      "    create-project  [dir]                 - Create a project for rendering multiple documents          \n",
      "    convert         <input>               - Convert documents to alternate representations.            \n",
      "    pandoc          [args...]             - Run the version of Pandoc embedded within Quarto.          \n",
      "    run             [script] [args...]    - Run a TypeScript, R, Python, or Lua script.                \n",
      "    add             <extension>           - Add an extension to this folder or project                 \n",
      "    install         [target...]           - Installs an extension or global dependency.                \n",
      "    publish         [provider] [path]     - Publish a document or project. Available providers include:\n",
      "    check           [target]              - Verify correct functioning of Quarto installation.         \n",
      "    help            [command]             - Show this help or the help of a sub-command.               \n",
      "\n"
     ]
    }
   ],
   "source": [
    "FP_SIF=${FD_SING}/toolbox/singularity_rocker_verse.sif\n",
    "singularity exec ${FP_SIF} quarto --help"
   ]
  },
  {
   "cell_type": "code",
   "execution_count": 12,
   "id": "4e4005e8-b58b-4d9a-b133-4437d03b6b84",
   "metadata": {},
   "outputs": [
    {
     "name": "stdout",
     "output_type": "stream",
     "text": [
      "00_setup  01_data_download  02_data_prepare  build_sites.ipynb\tget_config.sh\n"
     ]
    }
   ],
   "source": [
    "FP_SIF=${FD_SING}/toolbox/singularity_rocker_verse.sif\n",
    "singularity exec -H ${PWD}:/home ${FP_SIF} ls"
   ]
  },
  {
   "cell_type": "code",
   "execution_count": 15,
   "id": "9cd92a3a-c931-4be1-8190-2a37d8b79d8a",
   "metadata": {},
   "outputs": [
    {
     "name": "stdout",
     "output_type": "stream",
     "text": [
      "\u001b[1mpandoc \u001b[22m\n",
      "  to: html\n",
      "  output-file: build_sites.html\n",
      "  standalone: true\n",
      "  section-divs: true\n",
      "  html-math-method: mathjax\n",
      "  wrap: none\n",
      "  default-image-extension: png\n",
      "  \n",
      "\u001b[1mmetadata\u001b[22m\n",
      "  document-css: false\n",
      "  link-citations: true\n",
      "  date-format: long\n",
      "  lang: en\n",
      "  \n",
      "Output created: build_sites.html\n",
      "\n"
     ]
    }
   ],
   "source": [
    "FP_SIF=${FD_SING}/toolbox/singularity_rocker_verse.sif\n",
    "singularity exec -H ${PWD}:/home ${FP_SIF} quarto render build_sites.ipynb --to html"
   ]
  },
  {
   "cell_type": "code",
   "execution_count": null,
   "id": "13daf6c8-298d-4a3d-93c5-760298b47db7",
   "metadata": {},
   "outputs": [],
   "source": []
  }
 ],
 "metadata": {
  "kernelspec": {
   "display_name": "Bash",
   "language": "bash",
   "name": "bash"
  },
  "language_info": {
   "codemirror_mode": "shell",
   "file_extension": ".sh",
   "mimetype": "text/x-sh",
   "name": "bash"
  }
 },
 "nbformat": 4,
 "nbformat_minor": 5
}
