{
 "cells": [
  {
   "cell_type": "markdown",
   "id": "0a7c0ab7-2be5-4bb6-ab1c-02cbdad4e1a9",
   "metadata": {},
   "source": [
    "**Set environment**"
   ]
  },
  {
   "cell_type": "code",
   "execution_count": 1,
   "id": "1d8d7a26-35c3-4d9c-9028-479b06c4f372",
   "metadata": {},
   "outputs": [
    {
     "name": "stdout",
     "output_type": "stream",
     "text": [
      "You are working on             Duke Server: HARDAC\n",
      "BASE DIRECTORY (FD_BASE):      /data/reddylab/Kuei\n",
      "REPO DIRECTORY (FD_REPO):      /data/reddylab/Kuei/repo\n",
      "WORK DIRECTORY (FD_WORK):      /data/reddylab/Kuei/work\n",
      "DATA DIRECTORY (FD_DATA):      /data/reddylab/Kuei/data\n",
      "CONTAINER DIR. (FD_SING):      /data/reddylab/Kuei/container\n",
      "\n",
      "You are working with           ENCODE FCC\n",
      "PATH OF PROJECT (FD_PRJ):      /data/reddylab/Kuei/repo/Proj_ENCODE_FCC\n",
      "PROJECT RESULTS (FD_RES):      /data/reddylab/Kuei/repo/Proj_ENCODE_FCC/results\n",
      "PROJECT SCRIPTS (FD_EXE):      /data/reddylab/Kuei/repo/Proj_ENCODE_FCC/scripts\n",
      "PROJECT DATA    (FD_DAT):      /data/reddylab/Kuei/repo/Proj_ENCODE_FCC/data\n",
      "PROJECT NOTE    (FD_NBK):      /data/reddylab/Kuei/repo/Proj_ENCODE_FCC/notebooks\n",
      "PROJECT DOCS    (FD_DOC):      /data/reddylab/Kuei/repo/Proj_ENCODE_FCC/docs\n",
      "PROJECT LOG     (FD_LOG):      /data/reddylab/Kuei/repo/Proj_ENCODE_FCC/log\n",
      "PROJECT APP     (FD_APP):      /data/reddylab/Kuei/repo/Proj_ENCODE_FCC/app\n",
      "PROJECT REF     (FD_REF):      /data/reddylab/Kuei/repo/Proj_ENCODE_FCC/references\n",
      "PROJECT IMAGE   (FP_PRJ_SIF):  /data/reddylab/Kuei/repo/Proj_ENCODE_FCC/app/singularity_proj_encode_fcc.sif\n",
      "\n"
     ]
    }
   ],
   "source": [
    "source ../run_config_project.sh\n",
    "show_env"
   ]
  },
  {
   "cell_type": "code",
   "execution_count": 2,
   "id": "5e4163bf-60af-4181-9f49-88f38346d391",
   "metadata": {},
   "outputs": [
    {
     "name": "stdout",
     "output_type": "stream",
     "text": [
      "\u001b[0m\u001b[38;5;27m01_setup\u001b[0m               \u001b[38;5;27m33_region_annotation\u001b[0m  Readme.md\n",
      "\u001b[38;5;27m02_prepare\u001b[0m             \u001b[38;5;27m41_hic_nuc\u001b[0m            run_config_project.sh\n",
      "\u001b[38;5;27m11_starrmpra_fragment\u001b[0m  \u001b[38;5;27m42_hic_coverage\u001b[0m       run_config_project_sing.py\n",
      "\u001b[38;5;27m12_starrmpra_coverage\u001b[0m  \u001b[38;5;27m43_hic_annotation\u001b[0m     run_config_project_sing.R\n",
      "\u001b[38;5;27m21_crispri_screen\u001b[0m      \u001b[38;5;27m44_hic_meta\u001b[0m           run_config_test.sh\n",
      "\u001b[38;5;27m22_crispri_e2g\u001b[0m         \u001b[38;5;27mbuild_site\u001b[0m            \u001b[38;5;27mshared\u001b[0m\n",
      "\u001b[38;5;27m31_region_nuc\u001b[0m          \u001b[38;5;27mbuild_tracks\u001b[0m\n",
      "\u001b[38;5;27m32_region_coverage\u001b[0m     \u001b[38;5;27mdiscussion\u001b[0m\n"
     ]
    }
   ],
   "source": [
    "ls ${FD_NBK}"
   ]
  },
  {
   "cell_type": "code",
   "execution_count": 3,
   "id": "453baff8-29a2-4a80-82a1-d2c97778b3ec",
   "metadata": {},
   "outputs": [
    {
     "name": "stdout",
     "output_type": "stream",
     "text": [
      "\u001b[0m\u001b[38;5;27m01_setup\u001b[0m  \u001b[38;5;27m02_prepare\u001b[0m  \u001b[38;5;27mtest\u001b[0m\n"
     ]
    }
   ],
   "source": [
    "ls ${FD_PRJ}/site/notebooks"
   ]
  },
  {
   "cell_type": "code",
   "execution_count": null,
   "id": "06ac142c-dd71-42f7-9a66-0e7d1def0895",
   "metadata": {},
   "outputs": [],
   "source": []
  },
  {
   "cell_type": "code",
   "execution_count": null,
   "id": "234cbcd7-604e-40f6-a3f7-4b0e5656a4b5",
   "metadata": {},
   "outputs": [],
   "source": []
  },
  {
   "cell_type": "code",
   "execution_count": null,
   "id": "06b75919-4059-465d-b0f5-3e251b67b8c5",
   "metadata": {},
   "outputs": [],
   "source": []
  },
  {
   "cell_type": "markdown",
   "id": "c54d8e60-73e0-49ea-92f3-4d23e34d0690",
   "metadata": {},
   "source": [
    "**Copy test notebook**"
   ]
  },
  {
   "cell_type": "code",
   "execution_count": 4,
   "id": "1a357b6d-b195-4b17-9a95-edc0d074f3ab",
   "metadata": {},
   "outputs": [
    {
     "name": "stdout",
     "output_type": "stream",
     "text": [
      "01_create_site.ipynb       04_copy_table_SH.ipynb   \u001b[0m\u001b[38;5;27mtest_quarto_files\u001b[0m\n",
      "02_copy_notebook_SH.ipynb  11_render_site_SH.ipynb  test_quarto.html\n",
      "03_copy_figure_SH.ipynb    test_notebook.ipynb      test_quarto.ipynb\n"
     ]
    }
   ],
   "source": [
    "ls ${FD_NBK}/build_site"
   ]
  },
  {
   "cell_type": "code",
   "execution_count": 5,
   "id": "c361e4c5-9058-480a-a01f-dc8261e7fabc",
   "metadata": {},
   "outputs": [],
   "source": [
    "FD_INP=${FD_NBK}/build_site\n",
    "FD_OUT=${FD_PRJ}/site/notebooks/test\n",
    "\n",
    "mkdir -p ${FD_OUT}\n",
    "cp ${FD_INP}/test_notebook.ipynb ${FD_OUT}/"
   ]
  },
  {
   "cell_type": "code",
   "execution_count": 6,
   "id": "0a603c56-c31c-4450-a313-e75252c509c3",
   "metadata": {},
   "outputs": [
    {
     "name": "stdout",
     "output_type": "stream",
     "text": [
      "test_notebook.ipynb\n"
     ]
    }
   ],
   "source": [
    "ls ${FD_PRJ}/site/notebooks/test"
   ]
  },
  {
   "cell_type": "markdown",
   "id": "993f0ee9-360d-466f-bf5a-ab5af25170cd",
   "metadata": {},
   "source": [
    "**Copy notebook for setup**"
   ]
  },
  {
   "cell_type": "code",
   "execution_count": 7,
   "id": "c8715a7c-b800-496c-a06b-9f42afd2188a",
   "metadata": {},
   "outputs": [],
   "source": [
    "FD_INP=${FD_NBK}/01_setup\n",
    "FD_OUT=${FD_PRJ}/site/notebooks/01_setup"
   ]
  },
  {
   "cell_type": "code",
   "execution_count": 8,
   "id": "fd63917f-2a9c-415b-9b85-5ac479297ac0",
   "metadata": {},
   "outputs": [
    {
     "name": "stdout",
     "output_type": "stream",
     "text": [
      "/data/reddylab/Kuei/repo/Proj_ENCODE_FCC/notebooks/01_setup\n",
      "01_setup_folder_on_hardac_SH.ipynb       31_check_script_test.ipynb\n",
      "02_setup_config_on_duke_hardac_SH.ipynb  33_check_script_bedtools.ipynb\n",
      "03_setup_config_on_sing.ipynb            A.bed\n",
      "11_check_config_and_kernel_PY.ipynb      B.bed\n",
      "12_check_config_and_kernel_R.ipynb       \u001b[0m\u001b[38;5;51mlink2test\u001b[0m\n",
      "13_check_config_sing_SH.ipynb            \u001b[38;5;51mlink2testgz\u001b[0m\n",
      "21_setup_script_test_SH.ipynb            Readmd.md\n",
      "22_setup_script_ucsc_SH.ipynb            targz_results_SH.ipynb\n",
      "23_setup_script_bedtools_SH.ipynb        test.txt\n",
      "24_setup_script.ipynb                    \u001b[38;5;9mtest.txt.gz\u001b[0m\n"
     ]
    }
   ],
   "source": [
    "echo ${FD_INP}\n",
    "ls   ${FD_INP}"
   ]
  },
  {
   "cell_type": "code",
   "execution_count": 9,
   "id": "12e0a657-a60b-4e41-98a6-f60e2d29a3cd",
   "metadata": {},
   "outputs": [],
   "source": [
    "mkdir -p ${FD_OUT}\n",
    "rm ${FD_OUT}/*ipynb\n",
    "cp ${FD_INP}/0*_setup*.ipynb ${FD_OUT}/\n",
    "cp ${FD_INP}/2*_setup*.ipynb ${FD_OUT}/\n",
    "cp ${FD_INP}/3*_check*.ipynb ${FD_OUT}/"
   ]
  },
  {
   "cell_type": "code",
   "execution_count": 10,
   "id": "9037c439-8114-4ff1-b892-7f85f9fe3cfb",
   "metadata": {},
   "outputs": [
    {
     "name": "stdout",
     "output_type": "stream",
     "text": [
      "/data/reddylab/Kuei/repo/Proj_ENCODE_FCC/site/notebooks/01_setup\n",
      "01_setup_folder_on_hardac_SH.ipynb       23_setup_script_bedtools_SH.ipynb\n",
      "02_setup_config_on_duke_hardac_SH.ipynb  24_setup_script.ipynb\n",
      "03_setup_config_on_sing.ipynb            31_check_script_test.ipynb\n",
      "21_setup_script_test_SH.ipynb            33_check_script_bedtools.ipynb\n",
      "22_setup_script_ucsc_SH.ipynb\n"
     ]
    }
   ],
   "source": [
    "echo ${FD_OUT}\n",
    "ls   ${FD_OUT}"
   ]
  },
  {
   "cell_type": "markdown",
   "id": "b9f984a3-74db-4271-9fbf-89ee8dab027e",
   "metadata": {},
   "source": [
    "**Copy notebook for data preparation**"
   ]
  },
  {
   "cell_type": "code",
   "execution_count": 11,
   "id": "32dd11b1-8c60-4b1a-8982-b1ea8021f65c",
   "metadata": {},
   "outputs": [],
   "source": [
    "FD_INP=${FD_NBK}/02_prepare\n",
    "FD_OUT=${FD_PRJ}/site/notebooks/02_prepare"
   ]
  },
  {
   "cell_type": "code",
   "execution_count": 12,
   "id": "6cac4f11-157b-43a4-92a8-624baa2d1224",
   "metadata": {},
   "outputs": [
    {
     "name": "stdout",
     "output_type": "stream",
     "text": [
      "/data/reddylab/Kuei/repo/Proj_ENCODE_FCC/notebooks/02_prepare\n",
      "fcc_01_acquire_data_STARR_TR_SH.ipynb\n",
      "fcc_02_explore_data_STARR_TR_SH.ipynb\n",
      "fcc_031_prepare_data_STARR_TR_KS91_SH.ipynb\n",
      "fcc_032_prepare_data_STARR_TR_KS274_SH.ipynb\n",
      "fcc_04_create_metadata_STARR_TR_R.ipynb\n",
      "fcc_11_acquire_data_TMPRA_Hannah_SH.ipynb\n",
      "fcc_12_explore_data_TMPRA_Hannah_SH.ipynb\n",
      "fcc_13_extract_fragment_counts_R.ipynb\n",
      "fcc_14_convert_table_to_bed_R.ipynb\n",
      "fcc_15_liftover_TMPRA_OL13_SH.ipynb\n",
      "fcc_16_fragment_ranges_TMPRA_Hannah_R.ipynb\n",
      "fcc_17_create_metadata_TMPRA_Hannah_R.ipynb\n",
      "fcc_21_acquire_data_LMPRA_Vikram_SH.ipynb\n",
      "fcc_22_explore_data_LMPRA_Vikram_R.ipynb\n",
      "fcc_31_acquire_data_trackhub_JinWoo_SH.ipynb\n",
      "fcc_41_acquire_data_crispri_hcrff_JinWoo_SH.ipynb\n",
      "fcc_51_acquire_data_crispri_growth_Alex_SH.ipynb\n",
      "hic_011_acquire_K562_hic_insitu_SH.ipynb\n",
      "hic_012_acquire_K562_hic_intact_SH.ipynb\n",
      "hic_013_acquire_K562_hic_intact_deep_SH.ipynb\n",
      "metadata_region_labeling_R.ipynb\n",
      "region_crispri_hcrff_01_create_download_script_R.ipynb\n",
      "region_crispri_hcrff_02_execute_download_data_SH.ipynb\n",
      "region_ocr_01_create_download_script_R.ipynb\n",
      "region_ocr_02_execute_download_data_SH.ipynb\n",
      "region_ocr_03_prepare_ocr_regions_SH.ipynb\n",
      "region_ocr_04_create_ocr_metadata_R.ipynb\n",
      "region_ocr_sort_R.ipynb\n",
      "region_tf_module_shannon.ipynb\n",
      "test_download_chipseq_SH.ipynb\n",
      "test_explore_crispr_SH.ipynb\n",
      "test_explore_data_SH.ipynb\n",
      "test_explore_hic_SH.ipynb\n",
      "test_explore_results_SH.ipynb\n",
      "test_explore_starr_SH.ipynb\n"
     ]
    }
   ],
   "source": [
    "echo ${FD_INP}\n",
    "ls   ${FD_INP}"
   ]
  },
  {
   "cell_type": "code",
   "execution_count": 13,
   "id": "d6a44f97-5c86-4da1-84ec-472f848615c6",
   "metadata": {},
   "outputs": [],
   "source": [
    "mkdir -p ${FD_OUT}\n",
    "rm ${FD_OUT}/*ipynb\n",
    "cp ${FD_INP}/region_ocr_0* ${FD_OUT}/\n",
    "cp ${FD_INP}/fcc_0* ${FD_OUT}/\n",
    "cp ${FD_INP}/fcc_1* ${FD_OUT}/"
   ]
  },
  {
   "cell_type": "code",
   "execution_count": 14,
   "id": "dd24e2c3-cfbc-4a46-bda5-91cef6005080",
   "metadata": {},
   "outputs": [
    {
     "name": "stdout",
     "output_type": "stream",
     "text": [
      "/data/reddylab/Kuei/repo/Proj_ENCODE_FCC/site/notebooks/02_prepare\n",
      "fcc_01_acquire_data_STARR_TR_SH.ipynb\n",
      "fcc_02_explore_data_STARR_TR_SH.ipynb\n",
      "fcc_031_prepare_data_STARR_TR_KS91_SH.ipynb\n",
      "fcc_032_prepare_data_STARR_TR_KS274_SH.ipynb\n",
      "fcc_04_create_metadata_STARR_TR_R.ipynb\n",
      "fcc_11_acquire_data_TMPRA_Hannah_SH.ipynb\n",
      "fcc_12_explore_data_TMPRA_Hannah_SH.ipynb\n",
      "fcc_13_extract_fragment_counts_R.ipynb\n",
      "fcc_14_convert_table_to_bed_R.ipynb\n",
      "fcc_15_liftover_TMPRA_OL13_SH.ipynb\n",
      "fcc_16_fragment_ranges_TMPRA_Hannah_R.ipynb\n",
      "fcc_17_create_metadata_TMPRA_Hannah_R.ipynb\n",
      "region_ocr_01_create_download_script_R.ipynb\n",
      "region_ocr_02_execute_download_data_SH.ipynb\n",
      "region_ocr_03_prepare_ocr_regions_SH.ipynb\n",
      "region_ocr_04_create_ocr_metadata_R.ipynb\n"
     ]
    }
   ],
   "source": [
    "echo ${FD_OUT}\n",
    "ls   ${FD_OUT}"
   ]
  },
  {
   "cell_type": "code",
   "execution_count": null,
   "id": "e76f60b5-4be4-41e8-832d-63b53474bede",
   "metadata": {},
   "outputs": [],
   "source": []
  },
  {
   "cell_type": "code",
   "execution_count": null,
   "id": "7b33890a-3c0c-4c98-b5be-58efd52b6a8a",
   "metadata": {},
   "outputs": [],
   "source": []
  },
  {
   "cell_type": "code",
   "execution_count": null,
   "id": "f7814435-8873-4a4e-a182-f14e021b5a84",
   "metadata": {},
   "outputs": [],
   "source": []
  }
 ],
 "metadata": {
  "kernelspec": {
   "display_name": "Bash",
   "language": "bash",
   "name": "bash"
  },
  "language_info": {
   "codemirror_mode": "shell",
   "file_extension": ".sh",
   "mimetype": "text/x-sh",
   "name": "bash"
  }
 },
 "nbformat": 4,
 "nbformat_minor": 5
}
