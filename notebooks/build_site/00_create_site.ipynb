{
 "cells": [
  {
   "cell_type": "code",
   "execution_count": 1,
   "id": "b4274a44-41dd-4f24-93de-990e21804d50",
   "metadata": {},
   "outputs": [
    {
     "name": "stdout",
     "output_type": "stream",
     "text": [
      "You are working on        Duke HARDAC\n",
      "BASE DIRECTORY (FD_BASE): /data/reddylab/Kuei\n",
      "REPO DIRECTORY (FD_REPO): /data/reddylab/Kuei/repo\n",
      "WORK DIRECTORY (FD_WORK): /data/reddylab/Kuei/work\n",
      "DATA DIRECTORY (FD_DATA): /data/reddylab/Kuei/data\n",
      "CONTAINER DIR. (FD_SING): /data/reddylab/Kuei/container\n",
      "\n",
      "You are working with      ENCODE FCC\n",
      "PATH OF PROJECT (FD_PRJ): /data/reddylab/Kuei/repo/Proj_CombEffect_ENCODE_FCC\n",
      "PROJECT RESULTS (FD_RES): /data/reddylab/Kuei/repo/Proj_CombEffect_ENCODE_FCC/results\n",
      "PROJECT SCRIPTS (FD_EXE): /data/reddylab/Kuei/repo/Proj_CombEffect_ENCODE_FCC/scripts\n",
      "PROJECT DATA    (FD_DAT): /data/reddylab/Kuei/repo/Proj_CombEffect_ENCODE_FCC/data\n",
      "PROJECT NOTE    (FD_NBK): /data/reddylab/Kuei/repo/Proj_CombEffect_ENCODE_FCC/notebooks\n",
      "PROJECT DOCS    (FD_DOC): /data/reddylab/Kuei/repo/Proj_CombEffect_ENCODE_FCC/docs\n",
      "PROJECT LOG     (FD_LOG): /data/reddylab/Kuei/repo/Proj_CombEffect_ENCODE_FCC/log\n",
      "PROJECT APP     (FD_APP): /data/reddylab/Kuei/repo/Proj_CombEffect_ENCODE_FCC/app\n",
      "PROJECT REF     (FD_REF): /data/reddylab/Kuei/repo/Proj_CombEffect_ENCODE_FCC/references\n",
      "PROJECT IMAGE   (FP_SIF): \n",
      "\n"
     ]
    }
   ],
   "source": [
    "source ../get_config.sh\n",
    "show_env"
   ]
  },
  {
   "cell_type": "code",
   "execution_count": 4,
   "id": "f443aeb8-ac89-4ab9-960a-1518e789547f",
   "metadata": {},
   "outputs": [],
   "source": [
    "chmod +x ${FD_EXE}/sing_quarto.sh"
   ]
  },
  {
   "cell_type": "code",
   "execution_count": 5,
   "id": "60382cba-b776-4d96-abef-41d9afff11b7",
   "metadata": {},
   "outputs": [
    {
     "name": "stdout",
     "output_type": "stream",
     "text": [
      "\n",
      "  Usage:   quarto \n",
      "  Version: 1.3.433\n",
      "\n",
      "  Description:\n",
      "\n",
      "    Quarto CLI\n",
      "\n",
      "  Options:\n",
      "\n",
      "    -h, --help     - Show this help.                            \n",
      "    -V, --version  - Show the version number for this program.  \n",
      "\n",
      "  Commands:\n",
      "\n",
      "    render          [input] [args...]     - Render files or projects to various document types.        \n",
      "    preview         [file] [args...]      - Render and preview a document or website project.          \n",
      "    serve           [input]               - Serve a Shiny interactive document.                        \n",
      "    create          [type] [commands...]  - Create a Quarto project or extension                       \n",
      "    create-project  [dir]                 - Create a project for rendering multiple documents          \n",
      "    convert         <input>               - Convert documents to alternate representations.            \n",
      "    pandoc          [args...]             - Run the version of Pandoc embedded within Quarto.          \n",
      "    run             [script] [args...]    - Run a TypeScript, R, Python, or Lua script.                \n",
      "    add             <extension>           - Add an extension to this folder or project                 \n",
      "    install         [target...]           - Installs an extension or global dependency.                \n",
      "    publish         [provider] [path]     - Publish a document or project. Available providers include:\n",
      "    check           [target]              - Verify correct functioning of Quarto installation.         \n",
      "    help            [command]             - Show this help or the help of a sub-command.               \n",
      "\n"
     ]
    }
   ],
   "source": [
    "${FD_EXE}/sing_quarto.sh quarto --help"
   ]
  },
  {
   "cell_type": "code",
   "execution_count": 10,
   "id": "5de3cef4-54d3-4e4b-989f-31d2486cb221",
   "metadata": {},
   "outputs": [
    {
     "name": "stdout",
     "output_type": "stream",
     "text": [
      "01_create_site.ipynb  test_quarto.ipynb\n"
     ]
    }
   ],
   "source": [
    "ls"
   ]
  },
  {
   "cell_type": "code",
   "execution_count": 11,
   "id": "0a239f32-ad2f-44b1-9832-5027dd6cc1fa",
   "metadata": {},
   "outputs": [
    {
     "name": "stdout",
     "output_type": "stream",
     "text": [
      "\u001b[1mpandoc \u001b[22m\n",
      "  to: html\n",
      "  output-file: test_quarto.html\n",
      "  standalone: true\n",
      "  section-divs: true\n",
      "  html-math-method: mathjax\n",
      "  wrap: none\n",
      "  default-image-extension: png\n",
      "  \n",
      "\u001b[1mmetadata\u001b[22m\n",
      "  document-css: false\n",
      "  link-citations: true\n",
      "  date-format: long\n",
      "  lang: en\n",
      "  \n",
      "Output created: test_quarto.html\n",
      "\n"
     ]
    }
   ],
   "source": [
    "${FD_EXE}/sing_quarto.sh quarto render test_quarto.ipynb --to html"
   ]
  },
  {
   "cell_type": "code",
   "execution_count": 12,
   "id": "f5521f23-075c-47f7-92b7-18db744c977d",
   "metadata": {},
   "outputs": [
    {
     "name": "stdout",
     "output_type": "stream",
     "text": [
      "\u001b[0m\u001b[38;5;27mapp\u001b[0m  \u001b[38;5;27mdocs\u001b[0m  \u001b[38;5;27mnotebooks\u001b[0m  README.md  \u001b[38;5;27mreferences\u001b[0m  \u001b[38;5;27mscripts\u001b[0m  \u001b[38;5;27mtests\u001b[0m  test.txt  \u001b[38;5;27mtmp\u001b[0m\n"
     ]
    }
   ],
   "source": [
    "ls ${FD_PRJ}"
   ]
  },
  {
   "cell_type": "code",
   "execution_count": 13,
   "id": "59cffa26-79b0-4179-a74b-9d36e17c984d",
   "metadata": {},
   "outputs": [
    {
     "name": "stdout",
     "output_type": "stream",
     "text": [
      "Creating project at \u001b[1m/data/reddylab/Kuei/repo/Proj_CombEffect_ENCODE_FCC/site\u001b[22m:\n",
      "  - Created _quarto.yml\n",
      "  - Created .gitignore\n",
      "  - Created index.qmd\n",
      "  - Created about.qmd\n",
      "  - Created styles.css\n"
     ]
    }
   ],
   "source": [
    "cd ${FD_PRJ}\n",
    "${FD_EXE}/sing_quarto.sh quarto create project website site"
   ]
  },
  {
   "cell_type": "code",
   "execution_count": null,
   "id": "6bc66319-2c15-4c3e-bd8a-2c2c85736700",
   "metadata": {},
   "outputs": [],
   "source": []
  }
 ],
 "metadata": {
  "kernelspec": {
   "display_name": "Bash",
   "language": "bash",
   "name": "bash"
  },
  "language_info": {
   "codemirror_mode": "shell",
   "file_extension": ".sh",
   "mimetype": "text/x-sh",
   "name": "bash"
  }
 },
 "nbformat": 4,
 "nbformat_minor": 5
}
