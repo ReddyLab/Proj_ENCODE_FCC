{
 "cells": [
  {
   "cell_type": "raw",
   "id": "d77a6e2f-ff69-4f9d-8f75-53c50c239384",
   "metadata": {},
   "source": [
    "---\n",
    "title: Create documents\n",
    "subtitle: Render site\n",
    "format:\n",
    "    html:\n",
    "        code-fold:  true\n",
    "        code-tools: true\n",
    "---"
   ]
  },
  {
   "cell_type": "markdown",
   "id": "3e77d8f4-9d8f-4a4c-bb8f-0d428a17f57c",
   "metadata": {},
   "source": [
    "**Set environment**"
   ]
  },
  {
   "cell_type": "code",
   "execution_count": 1,
   "id": "4dd5d9d5-6558-47d4-84a6-4d4418cb55a4",
   "metadata": {},
   "outputs": [
    {
     "name": "stdout",
     "output_type": "stream",
     "text": [
      "You are working on             Duke Server: RCC\n",
      "BASE DIRECTORY (FD_BASE):      /data/reddylab/Kuei\n",
      "REPO DIRECTORY (FD_REPO):      /data/reddylab/Kuei/repo\n",
      "WORK DIRECTORY (FD_WORK):      /data/reddylab/Kuei/work\n",
      "DATA DIRECTORY (FD_DATA):      /data/reddylab/Kuei/data\n",
      "CONTAINER DIR. (FD_SING):      /data/reddylab/Kuei/container\n",
      "\n",
      "You are working with           ENCODE FCC\n",
      "PATH OF PROJECT (FD_PRJ):      /data/reddylab/Kuei/repo/Proj_ENCODE_FCC\n",
      "PROJECT RESULTS (FD_RES):      /data/reddylab/Kuei/repo/Proj_ENCODE_FCC/results\n",
      "PROJECT SCRIPTS (FD_EXE):      /data/reddylab/Kuei/repo/Proj_ENCODE_FCC/scripts\n",
      "PROJECT DATA    (FD_DAT):      /data/reddylab/Kuei/repo/Proj_ENCODE_FCC/data\n",
      "PROJECT NOTE    (FD_NBK):      /data/reddylab/Kuei/repo/Proj_ENCODE_FCC/notebooks\n",
      "PROJECT DOCS    (FD_DOC):      /data/reddylab/Kuei/repo/Proj_ENCODE_FCC/docs\n",
      "PROJECT LOG     (FD_LOG):      /data/reddylab/Kuei/repo/Proj_ENCODE_FCC/log\n",
      "PROJECT REF     (FD_REF):      /data/reddylab/Kuei/repo/Proj_ENCODE_FCC/references\n",
      "PROJECT IMAGE   (FP_PRJ_SIF):  /data/reddylab/Kuei/container/project/singularity_proj_encode_fcc.sif\n",
      "PROJECT CONF.   (FP_CNF):      /data/reddylab/Kuei/repo/Proj_ENCODE_FCC/scripts/config_project.sh\n",
      "\n"
     ]
    }
   ],
   "source": [
    "source ../run_config_project.sh\n",
    "show_env"
   ]
  },
  {
   "cell_type": "markdown",
   "id": "024a4376-d508-4259-93ff-30217e23fbf0",
   "metadata": {},
   "source": [
    "**Check script**"
   ]
  },
  {
   "cell_type": "code",
   "execution_count": 2,
   "id": "76247bc9-2b2f-4795-903e-de85203b4c33",
   "metadata": {},
   "outputs": [
    {
     "name": "stdout",
     "output_type": "stream",
     "text": [
      "\n",
      "Usage:   quarto\n",
      "Version: 1.5.57\n",
      "\n",
      "Description:\n",
      "\n",
      "  Quarto CLI\n",
      "\n",
      "Options:\n",
      "\n",
      "  -h, --help     - Show this help.                            \n",
      "  -V, --version  - Show the version number for this program.  \n",
      "\n",
      "Commands:\n",
      "\n",
      "  render     [input] [args...]     - Render files or projects to various document types.\n",
      "  preview    [file] [args...]      - Render and preview a document or website project.  \n",
      "  serve      [input]               - Serve a Shiny interactive document.                \n",
      "  create     [type] [commands...]  - Create a Quarto project or extension               \n",
      "  use        <type> [target]       - Automate document or project setup tasks.          \n",
      "  add        <extension>           - Add an extension to this folder or project         \n",
      "  update     [target...]           - Updates an extension or global dependency.         \n",
      "  remove     [target...]           - Removes an extension.                              \n",
      "  convert    <input>               - Convert documents to alternate representations.    \n",
      "  pandoc     [args...]             - Run the version of Pandoc embedded within Quarto.  \n",
      "  typst      [args...]             - Run the version of Typst embedded within Quarto.   \n",
      "  run        [script] [args...]    - Run a TypeScript, R, Python, or Lua script.        \n",
      "  install    [target...]           - Installs a global dependency (TinyTex or Chromium).\n",
      "  uninstall  [tool]                - Removes an extension.                              \n",
      "  tools                            - Display the status of Quarto installed dependencies\n",
      "  publish    [provider] [path]     - Publish a document or project to a provider.       \n",
      "  check      [target]              - Verify correct functioning of Quarto installation. \n",
      "  help       [command]             - Show this help or the help of a sub-command.       \n",
      "\n"
     ]
    }
   ],
   "source": [
    "# ${FD_EXE}/sing_quarto.sh quarto --help\n",
    "quarto --help"
   ]
  },
  {
   "cell_type": "code",
   "execution_count": 5,
   "id": "1445f26e-3c8d-498c-a53c-e1174f909e3c",
   "metadata": {},
   "outputs": [
    {
     "name": "stdout",
     "output_type": "stream",
     "text": [
      "\u001b[0m\u001b[01;34m01_setup\u001b[0m         about.qmd     \u001b[01;34mdocs\u001b[0m         \u001b[01;34mnotebooks\u001b[0m    styles.css\n",
      "\u001b[01;34m02_prepare\u001b[0m       analysis.qmd  \u001b[01;31mdocs.tar.gz\u001b[0m  _quarto.yml  \u001b[01;34mtable\u001b[0m\n",
      "\u001b[01;34m11_fcc_summary\u001b[0m   code.qmd      \u001b[01;34mfigure\u001b[0m       report.qmd   test.qmd\n",
      "\u001b[01;34m12_fcc_coverage\u001b[0m  data.qmd      index.qmd    results.qmd\n"
     ]
    }
   ],
   "source": [
    "cd ${FD_PRJ}/site\n",
    "ls"
   ]
  },
  {
   "cell_type": "code",
   "execution_count": 6,
   "id": "2d53c2ba-13e8-4b5e-a18f-9ebaa22a4688",
   "metadata": {},
   "outputs": [
    {
     "name": "stdout",
     "output_type": "stream",
     "text": [
      "No extensions are installed in this project.\n"
     ]
    }
   ],
   "source": [
    "quarto list extensions"
   ]
  },
  {
   "cell_type": "code",
   "execution_count": 10,
   "id": "da129d15-cdce-47d8-b2cf-2bad05da3768",
   "metadata": {},
   "outputs": [
    {
     "name": "stdout",
     "output_type": "stream",
     "text": [
      "\n",
      "============================================================\n",
      "Deno has panicked. This is a bug in Deno. Please report this\n",
      "at https://github.com/denoland/deno/issues/new.\n",
      "If you can reliably reproduce this panic, include the\n",
      "reproduction steps and re-run with the RUST_BACKTRACE=1 env\n",
      "var set and include the backtrace in your report.\n",
      "\n",
      "Platform: linux x86_64\n",
      "Version: 1.41.0\n",
      "Args: [\"/usr/lib/rstudio-server/bin/quarto/bin/tools/x86_64/deno\", \"run\", \"--unstable-ffi\", \"--no-config\", \"--allow-read\", \"--allow-write\", \"--allow-run\", \"--allow-env\", \"--allow-net\", \"--allow-ffi\", \"--no-check\", \"--v8-flags=--enable-experimental-regexp-engine,--max-old-space-size=8192,--max-heap-size=8192\", \"--importmap=/usr/lib/rstudio-server/bin/quarto/bin/vendor/import_map.json\", \"/usr/lib/rstudio-server/bin/quarto/bin/quarto.js\", \"add\", \"quarto-ext/shinylive\", \"--no-prompt\"]\n",
      "\n",
      "thread 'main' panicked at cli/args/mod.rs:592:41:\n",
      "could not load platform certs: Os { code: 2, kind: NotFound, message: \"No such file or directory\" }\n",
      "note: run with `RUST_BACKTRACE=1` environment variable to display a backtrace\n"
     ]
    },
    {
     "ename": "",
     "evalue": "1",
     "output_type": "error",
     "traceback": []
    }
   ],
   "source": [
    "quarto add quarto-ext/shinylive --no-prompt"
   ]
  },
  {
   "cell_type": "code",
   "execution_count": null,
   "id": "075d125a-a5c2-4224-ab1a-b7c2ee6e2cfe",
   "metadata": {},
   "outputs": [],
   "source": []
  },
  {
   "cell_type": "code",
   "execution_count": 9,
   "id": "b5434a73-55d1-46f2-b2a8-4aabcc2efb6a",
   "metadata": {},
   "outputs": [
    {
     "name": "stdout",
     "output_type": "stream",
     "text": [
      "\n",
      "============================================================\n",
      "Deno has panicked. This is a bug in Deno. Please report this\n",
      "at https://github.com/denoland/deno/issues/new.\n",
      "If you can reliably reproduce this panic, include the\n",
      "reproduction steps and re-run with the RUST_BACKTRACE=1 env\n",
      "var set and include the backtrace in your report.\n",
      "\n",
      "Platform: linux x86_64\n",
      "Version: 1.41.0\n",
      "Args: [\"/usr/lib/rstudio-server/bin/quarto/bin/tools/x86_64/deno\", \"run\", \"--unstable-ffi\", \"--no-config\", \"--allow-read\", \"--allow-write\", \"--allow-run\", \"--allow-env\", \"--allow-net\", \"--allow-ffi\", \"--no-check\", \"--v8-flags=--enable-experimental-regexp-engine,--max-old-space-size=8192,--max-heap-size=8192\", \"--importmap=/usr/lib/rstudio-server/bin/quarto/bin/vendor/import_map.json\", \"/usr/lib/rstudio-server/bin/quarto/bin/quarto.js\", \"add\", \"quarto-ext/fontawesome\", \"--no-prompt\"]\n",
      "\n",
      "thread 'main' panicked at cli/args/mod.rs:592:41:\n",
      "could not load platform certs: Os { code: 2, kind: NotFound, message: \"No such file or directory\" }\n",
      "note: run with `RUST_BACKTRACE=1` environment variable to display a backtrace\n"
     ]
    },
    {
     "ename": "",
     "evalue": "1",
     "output_type": "error",
     "traceback": []
    }
   ],
   "source": [
    "quarto add quarto-ext/fontawesome --no-prompt"
   ]
  },
  {
   "cell_type": "code",
   "execution_count": null,
   "id": "6e6be0b0-78ea-4a1b-8739-bb9c583f7ebf",
   "metadata": {},
   "outputs": [],
   "source": []
  }
 ],
 "metadata": {
  "kernelspec": {
   "display_name": "Bash",
   "language": "bash",
   "name": "bash"
  },
  "language_info": {
   "codemirror_mode": "shell",
   "file_extension": ".sh",
   "mimetype": "text/x-sh",
   "name": "bash"
  }
 },
 "nbformat": 4,
 "nbformat_minor": 5
}
