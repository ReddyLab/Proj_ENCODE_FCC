{
 "cells": [
  {
   "cell_type": "code",
   "execution_count": 1,
   "id": "1d8d7a26-35c3-4d9c-9028-479b06c4f372",
   "metadata": {},
   "outputs": [
    {
     "name": "stdout",
     "output_type": "stream",
     "text": [
      "You are working on             Duke Server: HARDAC\n",
      "BASE DIRECTORY (FD_BASE):      /data/reddylab/Kuei\n",
      "REPO DIRECTORY (FD_REPO):      /data/reddylab/Kuei/repo\n",
      "WORK DIRECTORY (FD_WORK):      /data/reddylab/Kuei/work\n",
      "DATA DIRECTORY (FD_DATA):      /data/reddylab/Kuei/data\n",
      "CONTAINER DIR. (FD_SING):      /data/reddylab/Kuei/container\n",
      "\n",
      "You are working with           ENCODE FCC\n",
      "PATH OF PROJECT (FD_PRJ):      /data/reddylab/Kuei/repo/Proj_CombEffect_ENCODE_FCC\n",
      "PROJECT RESULTS (FD_RES):      /data/reddylab/Kuei/repo/Proj_CombEffect_ENCODE_FCC/results\n",
      "PROJECT SCRIPTS (FD_EXE):      /data/reddylab/Kuei/repo/Proj_CombEffect_ENCODE_FCC/scripts\n",
      "PROJECT DATA    (FD_DAT):      /data/reddylab/Kuei/repo/Proj_CombEffect_ENCODE_FCC/data\n",
      "PROJECT NOTE    (FD_NBK):      /data/reddylab/Kuei/repo/Proj_CombEffect_ENCODE_FCC/notebooks\n",
      "PROJECT DOCS    (FD_DOC):      /data/reddylab/Kuei/repo/Proj_CombEffect_ENCODE_FCC/docs\n",
      "PROJECT LOG     (FD_LOG):      /data/reddylab/Kuei/repo/Proj_CombEffect_ENCODE_FCC/log\n",
      "PROJECT APP     (FD_APP):      /data/reddylab/Kuei/repo/Proj_CombEffect_ENCODE_FCC/app\n",
      "PROJECT REF     (FD_REF):      /data/reddylab/Kuei/repo/Proj_CombEffect_ENCODE_FCC/references\n",
      "PROJECT IMAGE   (FP_PRJ_SIF):  /data/reddylab/Kuei/repo/Proj_CombEffect_ENCODE_FCC/app/singularity_proj_encode_fcc.sif\n",
      "\n"
     ]
    }
   ],
   "source": [
    "source ../run_config_project.sh\n",
    "show_env"
   ]
  },
  {
   "cell_type": "code",
   "execution_count": 2,
   "id": "5e4163bf-60af-4181-9f49-88f38346d391",
   "metadata": {},
   "outputs": [
    {
     "name": "stdout",
     "output_type": "stream",
     "text": [
      "\u001b[0m\u001b[38;5;27m01_setup\u001b[0m            \u001b[38;5;27m33_region_annotation\u001b[0m   run_config_project_sing.py\n",
      "\u001b[38;5;27m02_prepare\u001b[0m          \u001b[38;5;27mbuild_site\u001b[0m             run_config_project_sing.R\n",
      "\u001b[38;5;27m31_region_nuc\u001b[0m       \u001b[38;5;27mbuild_tracks\u001b[0m           run_config_test.sh\n",
      "\u001b[38;5;27m32_region_coverage\u001b[0m  run_config_project.sh\n"
     ]
    }
   ],
   "source": [
    "ls ${FD_NBK}"
   ]
  },
  {
   "cell_type": "code",
   "execution_count": 3,
   "id": "453baff8-29a2-4a80-82a1-d2c97778b3ec",
   "metadata": {},
   "outputs": [
    {
     "name": "stdout",
     "output_type": "stream",
     "text": [
      "\u001b[0m\u001b[38;5;27m01_setup\u001b[0m  \u001b[38;5;27m02_prepare\u001b[0m  \u001b[38;5;27mtest\u001b[0m\n"
     ]
    }
   ],
   "source": [
    "ls ${FD_PRJ}/site/notebooks"
   ]
  },
  {
   "cell_type": "code",
   "execution_count": null,
   "id": "06ac142c-dd71-42f7-9a66-0e7d1def0895",
   "metadata": {},
   "outputs": [],
   "source": []
  },
  {
   "cell_type": "code",
   "execution_count": null,
   "id": "234cbcd7-604e-40f6-a3f7-4b0e5656a4b5",
   "metadata": {},
   "outputs": [],
   "source": []
  },
  {
   "cell_type": "code",
   "execution_count": null,
   "id": "06b75919-4059-465d-b0f5-3e251b67b8c5",
   "metadata": {},
   "outputs": [],
   "source": []
  },
  {
   "cell_type": "markdown",
   "id": "c54d8e60-73e0-49ea-92f3-4d23e34d0690",
   "metadata": {},
   "source": [
    "**Copy test notebook**"
   ]
  },
  {
   "cell_type": "code",
   "execution_count": 4,
   "id": "1a357b6d-b195-4b17-9a95-edc0d074f3ab",
   "metadata": {},
   "outputs": [
    {
     "name": "stdout",
     "output_type": "stream",
     "text": [
      "01_create_site.ipynb    test_notebook.ipynb  test_quarto.ipynb\n",
      "02_copy_notebook.ipynb  \u001b[0m\u001b[38;5;27mtest_quarto_files\u001b[0m\n",
      "03_render_site.ipynb    test_quarto.html\n"
     ]
    }
   ],
   "source": [
    "ls ${FD_NBK}/build_site"
   ]
  },
  {
   "cell_type": "code",
   "execution_count": 5,
   "id": "c361e4c5-9058-480a-a01f-dc8261e7fabc",
   "metadata": {},
   "outputs": [],
   "source": [
    "FD_INP=${FD_NBK}/build_site\n",
    "FD_OUT=${FD_PRJ}/site/notebooks/test\n",
    "\n",
    "mkdir -p ${FD_OUT}\n",
    "cp ${FD_INP}/test_notebook.ipynb    ${FD_OUT}/"
   ]
  },
  {
   "cell_type": "code",
   "execution_count": 6,
   "id": "0a603c56-c31c-4450-a313-e75252c509c3",
   "metadata": {},
   "outputs": [
    {
     "name": "stdout",
     "output_type": "stream",
     "text": [
      "test_notebook.ipynb\n"
     ]
    }
   ],
   "source": [
    "ls ${FD_PRJ}/site/notebooks/test"
   ]
  },
  {
   "cell_type": "markdown",
   "id": "993f0ee9-360d-466f-bf5a-ab5af25170cd",
   "metadata": {},
   "source": [
    "**Copy notebook for setup**"
   ]
  },
  {
   "cell_type": "code",
   "execution_count": 7,
   "id": "fd63917f-2a9c-415b-9b85-5ac479297ac0",
   "metadata": {},
   "outputs": [
    {
     "name": "stdout",
     "output_type": "stream",
     "text": [
      "01_setup_folder_on_hardac_SH.ipynb       33_check_script_bedtools.ipynb\n",
      "02_setup_config_on_duke_hardac_SH.ipynb  A.bed\n",
      "03_setup_config_on_sing.ipynb            B.bed\n",
      "11_check_config_and_kernel_PY.ipynb      \u001b[0m\u001b[38;5;51mlink2test\u001b[0m\n",
      "12_check_config_and_kernel_R.ipynb       \u001b[38;5;51mlink2testgz\u001b[0m\n",
      "13_check_config_sing_SH.ipynb            setup_data.md\n",
      "21_setup_script_test_SH.ipynb            setup_notebook.md\n",
      "22_setup_script_ucsc_SH.ipynb            targz_results_SH.ipynb\n",
      "23_setup_script_bedtools_SH.ipynb        test.txt\n",
      "31_check_script_test.ipynb               \u001b[38;5;9mtest.txt.gz\u001b[0m\n"
     ]
    }
   ],
   "source": [
    "ls ${FD_NBK}/01_setup"
   ]
  },
  {
   "cell_type": "code",
   "execution_count": 8,
   "id": "e31a7e67-c1d9-4703-a1ab-c68fb96b246c",
   "metadata": {},
   "outputs": [],
   "source": [
    "#rm ${FD_PRJ}/site/notebooks/01_setup/*ipynb"
   ]
  },
  {
   "cell_type": "code",
   "execution_count": 14,
   "id": "12e0a657-a60b-4e41-98a6-f60e2d29a3cd",
   "metadata": {},
   "outputs": [],
   "source": [
    "FD_INP=${FD_NBK}/01_setup\n",
    "FD_OUT=${FD_PRJ}/site/notebooks/01_setup\n",
    "\n",
    "mkdir -p ${FD_OUT}\n",
    "cp ${FD_INP}/0*_setup*.ipynb ${FD_OUT}/\n",
    "cp ${FD_INP}/2*_setup*.ipynb ${FD_OUT}/\n",
    "cp ${FD_INP}/3*_check*.ipynb ${FD_OUT}/"
   ]
  },
  {
   "cell_type": "code",
   "execution_count": 15,
   "id": "9037c439-8114-4ff1-b892-7f85f9fe3cfb",
   "metadata": {},
   "outputs": [
    {
     "name": "stdout",
     "output_type": "stream",
     "text": [
      "01_setup_folder_on_hardac_SH.ipynb       22_setup_script_ucsc_SH.ipynb\n",
      "02_setup_config_on_duke_hardac_SH.ipynb  23_setup_script_bedtools_SH.ipynb\n",
      "03_setup_config_on_sing.ipynb            31_check_script_test.ipynb\n",
      "21_setup_script_test_SH.ipynb            33_check_script_bedtools.ipynb\n"
     ]
    }
   ],
   "source": [
    "ls ${FD_PRJ}/site/notebooks/01_setup"
   ]
  },
  {
   "cell_type": "markdown",
   "id": "b9f984a3-74db-4271-9fbf-89ee8dab027e",
   "metadata": {},
   "source": [
    "**Copy notebook for data preparation**"
   ]
  },
  {
   "cell_type": "code",
   "execution_count": 16,
   "id": "6cac4f11-157b-43a4-92a8-624baa2d1224",
   "metadata": {},
   "outputs": [
    {
     "name": "stdout",
     "output_type": "stream",
     "text": [
      "fcc_starrmpra_01_acquire_STARR_data_alex_SH.ipynb\n",
      "fcc_starrmpra_02_explore_STARR_data_alex_SH.ipynb\n",
      "fcc_starrmpra_03_prepare_STARR_data_alex_SH.ipynb\n",
      "fcc_starrmpra_04_create_metadata_STARR_data_R.ipynb\n",
      "fcc_starrmpra_11_acquire_TMPRA_data_hannah_SH.ipynb\n",
      "fcc_starrmpra_12_explore_TMPRA_data_hannah_SH.ipynb\n",
      "fcc_starrmpra_13_extract_TMPRA_fragment_counts_R.ipynb\n",
      "fcc_starrmpra_14_convert_table_to_bed_R.ipynb\n",
      "fcc_starrmpra_15_liftover_OL13_SH.ipynb\n",
      "fcc_starrmpra_16_fragment_ranges_R.ipynb\n",
      "fcc_starrmpra_21_get_LMPRA_data_vikram_SH.ipynb\n",
      "metadata_region_labeling_R.ipynb\n",
      "region_ocr_01_create_download_script_R.ipynb\n",
      "region_ocr_02_execute_download_data_SH.ipynb\n",
      "region_ocr_03_prepare_ocr_regions_SH.ipynb\n",
      "region_ocr_04_create_ocr_metadata_R.ipynb\n"
     ]
    }
   ],
   "source": [
    "ls ${FD_NBK}/02_prepare"
   ]
  },
  {
   "cell_type": "code",
   "execution_count": 17,
   "id": "fe8bca0d-dd95-4e4e-81a2-bdade03a32bf",
   "metadata": {},
   "outputs": [],
   "source": [
    "rm ${FD_PRJ}/site/notebooks/02_prepare/*ipynb"
   ]
  },
  {
   "cell_type": "code",
   "execution_count": 18,
   "id": "d6a44f97-5c86-4da1-84ec-472f848615c6",
   "metadata": {},
   "outputs": [],
   "source": [
    "FD_INP=${FD_NBK}/02_prepare\n",
    "FD_OUT=${FD_PRJ}/site/notebooks/02_prepare\n",
    "\n",
    "\n",
    "mkdir -p ${FD_OUT}\n",
    "cp ${FD_INP}/region_ocr*      ${FD_OUT}/\n",
    "cp ${FD_INP}/fcc_starrmpra_0* ${FD_OUT}/\n",
    "cp ${FD_INP}/fcc_starrmpra_1* ${FD_OUT}/"
   ]
  },
  {
   "cell_type": "code",
   "execution_count": 19,
   "id": "dd24e2c3-cfbc-4a46-bda5-91cef6005080",
   "metadata": {},
   "outputs": [
    {
     "name": "stdout",
     "output_type": "stream",
     "text": [
      "fcc_starrmpra_01_acquire_STARR_data_alex_SH.ipynb\n",
      "fcc_starrmpra_02_explore_STARR_data_alex_SH.ipynb\n",
      "fcc_starrmpra_03_prepare_STARR_data_alex_SH.ipynb\n",
      "fcc_starrmpra_04_create_metadata_STARR_data_R.ipynb\n",
      "fcc_starrmpra_11_acquire_TMPRA_data_hannah_SH.ipynb\n",
      "fcc_starrmpra_12_explore_TMPRA_data_hannah_SH.ipynb\n",
      "fcc_starrmpra_13_extract_TMPRA_fragment_counts_R.ipynb\n",
      "fcc_starrmpra_14_convert_table_to_bed_R.ipynb\n",
      "fcc_starrmpra_15_liftover_OL13_SH.ipynb\n",
      "fcc_starrmpra_16_fragment_ranges_R.ipynb\n",
      "region_ocr_01_create_download_script_R.ipynb\n",
      "region_ocr_02_execute_download_data_SH.ipynb\n",
      "region_ocr_03_prepare_ocr_regions_SH.ipynb\n",
      "region_ocr_04_create_ocr_metadata_R.ipynb\n"
     ]
    }
   ],
   "source": [
    "ls ${FD_PRJ}/site/notebooks/02_prepare"
   ]
  },
  {
   "cell_type": "code",
   "execution_count": null,
   "id": "e76f60b5-4be4-41e8-832d-63b53474bede",
   "metadata": {},
   "outputs": [],
   "source": []
  },
  {
   "cell_type": "code",
   "execution_count": null,
   "id": "7b33890a-3c0c-4c98-b5be-58efd52b6a8a",
   "metadata": {},
   "outputs": [],
   "source": []
  },
  {
   "cell_type": "code",
   "execution_count": null,
   "id": "f7814435-8873-4a4e-a182-f14e021b5a84",
   "metadata": {},
   "outputs": [],
   "source": []
  }
 ],
 "metadata": {
  "kernelspec": {
   "display_name": "Bash",
   "language": "bash",
   "name": "bash"
  },
  "language_info": {
   "codemirror_mode": "shell",
   "file_extension": ".sh",
   "mimetype": "text/x-sh",
   "name": "bash"
  }
 },
 "nbformat": 4,
 "nbformat_minor": 5
}
