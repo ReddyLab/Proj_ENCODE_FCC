{
 "cells": [
  {
   "cell_type": "markdown",
   "id": "5d730f16-0494-462f-86c0-166c16b521d3",
   "metadata": {},
   "source": [
    "**Set environment**"
   ]
  },
  {
   "cell_type": "code",
   "execution_count": 14,
   "id": "989db1a2-6c0a-4c5a-b228-d29eb0c06c80",
   "metadata": {},
   "outputs": [
    {
     "name": "stdout",
     "output_type": "stream",
     "text": [
      "You are working on             Duke Server: RCC\n",
      "BASE DIRECTORY (FD_BASE):      /data/reddylab/Kuei\n",
      "REPO DIRECTORY (FD_REPO):      /data/reddylab/Kuei/repo\n",
      "WORK DIRECTORY (FD_WORK):      /data/reddylab/Kuei/work\n",
      "DATA DIRECTORY (FD_DATA):      /data/reddylab/Kuei/data\n",
      "CONTAINER DIR. (FD_SING):      /data/reddylab/Kuei/container\n",
      "\n",
      "You are working with           ENCODE FCC\n",
      "PATH OF PROJECT (FD_PRJ):      /data/reddylab/Kuei/repo/Proj_ENCODE_FCC\n",
      "PROJECT RESULTS (FD_RES):      /data/reddylab/Kuei/repo/Proj_ENCODE_FCC/results\n",
      "PROJECT SCRIPTS (FD_EXE):      /data/reddylab/Kuei/repo/Proj_ENCODE_FCC/scripts\n",
      "PROJECT DATA    (FD_DAT):      /data/reddylab/Kuei/repo/Proj_ENCODE_FCC/data\n",
      "PROJECT NOTE    (FD_NBK):      /data/reddylab/Kuei/repo/Proj_ENCODE_FCC/notebooks\n",
      "PROJECT DOCS    (FD_DOC):      /data/reddylab/Kuei/repo/Proj_ENCODE_FCC/docs\n",
      "PROJECT LOG     (FD_LOG):      /data/reddylab/Kuei/repo/Proj_ENCODE_FCC/log\n",
      "PROJECT REF     (FD_REF):      /data/reddylab/Kuei/repo/Proj_ENCODE_FCC/references\n",
      "PROJECT IMAGE   (FP_PRJ_SIF):  /data/reddylab/Kuei/container/project/singularity_proj_encode_fcc.sif\n",
      "PROJECT CONF.   (FP_CNF):      /data/reddylab/Kuei/repo/Proj_ENCODE_FCC/scripts/config_project.sh\n",
      "\n"
     ]
    }
   ],
   "source": [
    "source ../run_config_project.sh\n",
    "show_env"
   ]
  },
  {
   "cell_type": "code",
   "execution_count": 15,
   "id": "de147592-d53d-445a-89a5-220401751d61",
   "metadata": {},
   "outputs": [
    {
     "name": "stdout",
     "output_type": "stream",
     "text": [
      "\u001b[0m\u001b[01;34mannotation\u001b[0m     \u001b[01;34massay_hic\u001b[0m          \u001b[01;34mregion_converage_hic\u001b[0m     \u001b[01;34mregion_integration\u001b[0m\n",
      "\u001b[01;34massay_chipseq\u001b[0m  \u001b[01;34mregion\u001b[0m             \u001b[01;34mregion_coverage_chipseq\u001b[0m  \u001b[01;34mregion_nuc\u001b[0m\n",
      "\u001b[01;34massay_fcc\u001b[0m      \u001b[01;34mregion_annotation\u001b[0m  \u001b[01;34mregion_coverage_fcc\u001b[0m      \u001b[01;34msite\u001b[0m\n"
     ]
    }
   ],
   "source": [
    "ls ${FD_RES}"
   ]
  },
  {
   "cell_type": "code",
   "execution_count": 16,
   "id": "067bfd76-0f3c-4d55-8d81-3d75f5e9f41f",
   "metadata": {},
   "outputs": [
    {
     "name": "stdout",
     "output_type": "stream",
     "text": [
      "\u001b[0m\u001b[01;34m01_setup\u001b[0m        \u001b[01;34m12_fcc_coverage\u001b[0m  code.qmd  \u001b[01;34mfigure\u001b[0m     _quarto.yml  styles.css\n",
      "\u001b[01;34m02_prepare\u001b[0m      about.qmd        data.qmd  index.qmd  report.qmd   \u001b[01;34mtable\u001b[0m\n",
      "\u001b[01;34m11_fcc_summary\u001b[0m  analysis.qmd     \u001b[01;34mdocs\u001b[0m      \u001b[01;34mnotebooks\u001b[0m  results.qmd\n"
     ]
    }
   ],
   "source": [
    "ls ${FD_PRJ}/site"
   ]
  },
  {
   "cell_type": "code",
   "execution_count": 17,
   "id": "db2b0099-ec9e-495f-9d37-7bc4f3aca7b0",
   "metadata": {},
   "outputs": [
    {
     "name": "stdout",
     "output_type": "stream",
     "text": [
      "\u001b[0m\u001b[01;34m05_prepare_region\u001b[0m  metadata.wstarr.tsv  region_screened.tmpra.tsv\n"
     ]
    }
   ],
   "source": [
    "ls ${FD_PRJ}/site/table"
   ]
  },
  {
   "cell_type": "markdown",
   "id": "9ea1fb90-fab1-46a7-b461-fd9dab6149f0",
   "metadata": {},
   "source": [
    "## Copy tables: Preparing regions"
   ]
  },
  {
   "cell_type": "code",
   "execution_count": 18,
   "id": "08ba9c8e-f815-470d-a361-a5a93249d483",
   "metadata": {},
   "outputs": [
    {
     "name": "stdout",
     "output_type": "stream",
     "text": [
      "/data/reddylab/Kuei/repo/Proj_ENCODE_FCC/notebooks/05_prepare_region\n",
      "\n",
      "\u001b[0m\u001b[01;35mfig.matrix.module_tf_mapping.png\u001b[0m\n",
      "\u001b[01;35mfig.matrix.region2module.png\u001b[0m\n",
      "\u001b[01;35mfig.matrix.region2TF.png\u001b[0m\n",
      "\u001b[01;35mfig.region.chromstate_ccres.distribution.region_length.png\u001b[0m\n",
      "\u001b[01;35mfig.region.chromstate_ccres.distribution.region_length.svg\u001b[0m\n",
      "\u001b[01;35mfig.region.chromstate_chromhmm.distribution.region_length.below10k.png\u001b[0m\n",
      "\u001b[01;35mfig.region.chromstate_chromhmm.distribution.region_length.below10k.svg\u001b[0m\n",
      "\u001b[01;35mfig.region.compare_ocr.distribution.chromosome.png\u001b[0m\n",
      "\u001b[01;35mfig.region.compare_ocr.distribution.chromosome.svg\u001b[0m\n",
      "\u001b[01;35mfig.region.compare_ocr.enrichment.genomic_partition.png\u001b[0m\n",
      "\u001b[01;35mfig.region.compare_ocr.enrichment.genomic_partition.svg\u001b[0m\n",
      "\u001b[01;35mfig.region.compare_ocr.frequency.genomic_partition.png\u001b[0m\n",
      "\u001b[01;35mfig.region.compare_ocr.frequency.genomic_partition.svg\u001b[0m\n",
      "\u001b[01;35mfig.region.encode_ocr.distribution.region_length.png\u001b[0m\n",
      "\u001b[01;35mfig.region.encode_ocr.distribution.region_length.svg\u001b[0m\n",
      "\u001b[01;35mfig.region.fcc_astarr_csaw.distribution.log2fc.png\u001b[0m\n",
      "\u001b[01;35mfig.region.fcc_astarr_csaw.distribution.log2fc.svg\u001b[0m\n",
      "\u001b[01;35mfig.region.fcc_astarr_macs_input.distribution.region_length.below3k.png\u001b[0m\n",
      "\u001b[01;35mfig.region.fcc_astarr_macs_input.distribution.region_length.below3k.svg\u001b[0m\n",
      "\u001b[01;35mfig.region.fcc_crispri_growth.distribution.log2fc.png\u001b[0m\n",
      "\u001b[01;35mfig.region.fcc_crispri_growth.distribution.log2fc.svg\u001b[0m\n",
      "\u001b[01;35mfig.region.fcc_crispri_hcrff.distribution.region_length.png\u001b[0m\n",
      "\u001b[01;35mfig.region.fcc_crispri_hcrff.distribution.region_length.svg\u001b[0m\n",
      "\u001b[01;35mfig.region.fcc_crispri_hcrff.distribution.score.png\u001b[0m\n",
      "\u001b[01;35mfig.region.fcc_crispri_hcrff.distribution.score.svg\u001b[0m\n",
      "\u001b[01;35mfig.region.fcc_starrmpra_junke.distribution.region_length.png\u001b[0m\n",
      "\u001b[01;35mfig.region.fcc_starrmpra_junke.distribution.region_length.svg\u001b[0m\n",
      "\u001b[01;35mfig.region.tss.distribution.pol2.below1h.png\u001b[0m\n",
      "\u001b[01;35mfig.region.tss.distribution.pol2.below1h.svg\u001b[0m\n",
      "\u001b[01;35mfig.summary.tf_module.png\u001b[0m\n",
      "region_astarr_csaw_01_acquire_data_SH.ipynb\n",
      "region_astarr_csaw_02_export_data_R.ipynb\n",
      "region_astarr_csaw_03_export_metadata_R.ipynb\n",
      "region_astarr_csaw_04_explore_data_R.ipynb\n",
      "region_astarr_macs_01_export_data_R.ipynb\n",
      "region_astarr_macs_02_export_metadata_R.ipynb\n",
      "region_astarr_macs_03_explore_data_R.ipynb\n",
      "region_chromstate_01_create_download_script_R.ipynb\n",
      "region_chromstate_02_execute_download_script_SH.ipynb\n",
      "region_chromstate_03_export_data_R.ipynb\n",
      "region_chromstate_04_export_metadata_R.ipynb\n",
      "region_chromstate_05_explore_data_R.ipynb\n",
      "region_crispri_growth_01_export_data_R.ipynb\n",
      "region_crispri_growth_02_export_metadata_R.ipynb\n",
      "region_crispri_growth_03_explore_data_R.ipynb\n",
      "region_crispri_hcrff_01_create_download_script_R.ipynb\n",
      "region_crispri_hcrff_02_execute_download_script_SH.ipynb\n",
      "region_crispri_hcrff_03_export_data_R.ipynb\n",
      "region_crispri_hcrff_04_export_metadata_R.ipynb\n",
      "region_crispri_hcrff_05_explore_data_R.ipynb\n",
      "region_enhancer_junke_01_view_data_SH.ipynb\n",
      "region_enhancer_junke_02_decompress_data_SH.ipynb\n",
      "region_enhancer_junke_03_export_data_R.ipynb\n",
      "region_enhancer_junke_04_export_metadata_R.ipynb\n",
      "region_enhancer_junke_05_explore_data_R.ipynb\n",
      "region_ocr_01_create_download_script_R.ipynb\n",
      "region_ocr_02_execute_download_script_SH.ipynb\n",
      "region_ocr_03_export_data_SH.ipynb\n",
      "region_ocr_04_export_metadata_R.ipynb\n",
      "region_ocr_05_explore_data_R.ipynb\n",
      "region_ocr_06_explore_comparison_R.ipynb\n",
      "region_tfmodule_01_export_data_R.ipynb\n",
      "region_tfmodule_02_export_metadata_R.ipynb\n",
      "region_tfmodule_03_explore_data_R.ipynb\n",
      "region_tss_01_pol2_export_data_R.ipynb\n",
      "region_tss_02_pol2_export_metadata_R.ipynb\n",
      "region_tss_03_pol2_explore_data_R.ipynb\n",
      "table.region.fcc_starrmpra_junke.count.tsv\n",
      "\n",
      "/data/reddylab/Kuei/repo/Proj_ENCODE_FCC/site/table/05_prepare_region\n",
      "\n",
      "table.region.fcc_starrmpra_junke.count.tsv\n"
     ]
    }
   ],
   "source": [
    "FD_INP=${FD_NBK}/05_prepare_region\n",
    "FD_OUT=${FD_PRJ}/site/table/05_prepare_region\n",
    "\n",
    "echo ${FD_INP}\n",
    "echo\n",
    "ls   ${FD_INP}\n",
    "echo\n",
    "echo ${FD_OUT}\n",
    "echo\n",
    "ls   ${FD_OUT}"
   ]
  },
  {
   "cell_type": "code",
   "execution_count": 19,
   "id": "b81d24e8-20d4-44b2-a298-fb535370d5ac",
   "metadata": {},
   "outputs": [
    {
     "name": "stdout",
     "output_type": "stream",
     "text": [
      "/data/reddylab/Kuei/repo/Proj_ENCODE_FCC/site/table/05_prepare_region\n",
      "\n",
      "table.region.fcc_starrmpra_junke.count.tsv\n"
     ]
    }
   ],
   "source": [
    "mkdir -p ${FD_OUT}\n",
    "rm ${FD_OUT}/*tsv\n",
    "cp ${FD_INP}/*tsv ${FD_OUT}/\n",
    "\n",
    "echo ${FD_OUT}\n",
    "echo\n",
    "ls   ${FD_OUT}"
   ]
  },
  {
   "cell_type": "code",
   "execution_count": null,
   "id": "61631072-9c92-4aa6-8605-f75ab2b3214f",
   "metadata": {},
   "outputs": [],
   "source": []
  },
  {
   "cell_type": "code",
   "execution_count": null,
   "id": "9a130f0b-25fb-4c5c-9726-d820f42e2ac3",
   "metadata": {},
   "outputs": [],
   "source": []
  },
  {
   "cell_type": "code",
   "execution_count": null,
   "id": "6352240c-5857-4b48-90e8-efe17510e527",
   "metadata": {},
   "outputs": [],
   "source": []
  },
  {
   "cell_type": "code",
   "execution_count": null,
   "id": "c82e946d-ef4f-4291-a877-d63c8a553d95",
   "metadata": {},
   "outputs": [],
   "source": []
  },
  {
   "cell_type": "code",
   "execution_count": null,
   "id": "b24dd428-70e5-482a-bc76-c4414bfe530d",
   "metadata": {},
   "outputs": [],
   "source": [
    "ls ${FD_RES}/region/fcc_screened"
   ]
  },
  {
   "cell_type": "code",
   "execution_count": 7,
   "id": "3550a817-aaaa-4a3c-bae0-044519f74773",
   "metadata": {},
   "outputs": [],
   "source": [
    "FD_INP=${FD_RES}/region/fcc_screened\n",
    "FN_INP=region_screened.tmpra.tsv\n",
    "FP_INP=${FD_INP}/${FN_INP}\n",
    "FD_OUT=${FD_PRJ}/site/table\n",
    "\n",
    "cp ${FP_INP} ${FD_OUT}/"
   ]
  },
  {
   "cell_type": "code",
   "execution_count": 8,
   "id": "39e22dd4-c9e0-4003-9062-f72100b9c4f2",
   "metadata": {},
   "outputs": [
    {
     "name": "stdout",
     "output_type": "stream",
     "text": [
      "region_screened.tmpra.tsv\n"
     ]
    }
   ],
   "source": [
    "ls ${FD_PRJ}/site/table"
   ]
  },
  {
   "cell_type": "code",
   "execution_count": null,
   "id": "002882ae-e20b-4894-bb94-9738af456776",
   "metadata": {},
   "outputs": [],
   "source": []
  },
  {
   "cell_type": "code",
   "execution_count": null,
   "id": "9e7df2b0-d39e-4929-91cb-262000c970db",
   "metadata": {},
   "outputs": [],
   "source": []
  },
  {
   "cell_type": "code",
   "execution_count": null,
   "id": "13a57180-588e-494c-a13e-c10e9f9dae06",
   "metadata": {},
   "outputs": [],
   "source": []
  },
  {
   "cell_type": "code",
   "execution_count": 9,
   "id": "2eafa584-45a1-45e2-a89c-45045e3be957",
   "metadata": {},
   "outputs": [
    {
     "name": "stdout",
     "output_type": "stream",
     "text": [
      "metadata.size.tsv\n",
      "metadata.tsv\n",
      "result.size.concat.csv\n",
      "result.size.WSTARRseq_K562_A001.hg38.Input.rep1.WGS.unstranded.bed.gz.csv\n",
      "result.size.WSTARRseq_K562_A001.hg38.Input.rep2.WGS.unstranded.bed.gz.csv\n",
      "result.size.WSTARRseq_K562_A001.hg38.Input.rep3.WGS.unstranded.bed.gz.csv\n",
      "result.size.WSTARRseq_K562_A001.hg38.Input.rep4.WGS.unstranded.bed.gz.csv\n",
      "result.size.WSTARRseq_K562_A001.hg38.Output.rep1.WGS.unstranded.bed.gz.csv\n",
      "result.size.WSTARRseq_K562_A001.hg38.Output.rep2.WGS.unstranded.bed.gz.csv\n",
      "result.size.WSTARRseq_K562_A001.hg38.Output.rep3.WGS.unstranded.bed.gz.csv\n",
      "result.summary.WSTARRseq_K562_A001.hg38.Input.rep1.WGS.unstranded.bed.gz.tsv\n",
      "result.summary.WSTARRseq_K562_A001.hg38.Input.rep2.WGS.unstranded.bed.gz.tsv\n",
      "result.summary.WSTARRseq_K562_A001.hg38.Input.rep3.WGS.unstranded.bed.gz.tsv\n",
      "result.summary.WSTARRseq_K562_A001.hg38.Input.rep4.WGS.unstranded.bed.gz.tsv\n",
      "result.summary.WSTARRseq_K562_A001.hg38.Output.rep1.WGS.unstranded.bed.gz.tsv\n",
      "result.summary.WSTARRseq_K562_A001.hg38.Output.rep2.WGS.unstranded.bed.gz.tsv\n",
      "result.summary.WSTARRseq_K562_A001.hg38.Output.rep3.WGS.unstranded.bed.gz.tsv\n"
     ]
    }
   ],
   "source": [
    "ls ${FD_RES}/assay_fcc/STARR_WHG_K562_Reddy_A001/fragment_counts/summary"
   ]
  },
  {
   "cell_type": "code",
   "execution_count": 10,
   "id": "1c74aeb8-1632-4522-916d-7f48d9b9f07a",
   "metadata": {},
   "outputs": [],
   "source": [
    "FD_INP=${FD_RES}/assay_fcc/STARR_WHG_K562_Reddy_A001/fragment_counts/summary\n",
    "FN_INP=\"metadata.tsv\"\n",
    "FP_INP=${FD_INP}/${FN_INP}\n",
    "FD_OUT=${FD_PRJ}/site/table\n",
    "FN_OUT=\"metadata.wstarr.tsv\"\n",
    "FP_OUT=${FD_OUT}/${FN_OUT}\n",
    "\n",
    "cp ${FP_INP} ${FP_OUT}"
   ]
  },
  {
   "cell_type": "code",
   "execution_count": null,
   "id": "68fb0d35-da38-4c39-8c51-bea4a54e89d1",
   "metadata": {},
   "outputs": [],
   "source": []
  },
  {
   "cell_type": "code",
   "execution_count": null,
   "id": "8290eb7c-5c30-4a49-b434-7da9d4cd588a",
   "metadata": {},
   "outputs": [],
   "source": []
  }
 ],
 "metadata": {
  "kernelspec": {
   "display_name": "Bash",
   "language": "bash",
   "name": "bash"
  },
  "language_info": {
   "codemirror_mode": "shell",
   "file_extension": ".sh",
   "mimetype": "text/x-sh",
   "name": "bash"
  }
 },
 "nbformat": 4,
 "nbformat_minor": 5
}
