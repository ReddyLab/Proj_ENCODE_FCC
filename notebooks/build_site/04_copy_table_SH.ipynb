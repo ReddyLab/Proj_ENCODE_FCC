{
 "cells": [
  {
   "cell_type": "markdown",
   "id": "5d730f16-0494-462f-86c0-166c16b521d3",
   "metadata": {},
   "source": [
    "**Set environment**"
   ]
  },
  {
   "cell_type": "code",
   "execution_count": 1,
   "id": "989db1a2-6c0a-4c5a-b228-d29eb0c06c80",
   "metadata": {},
   "outputs": [
    {
     "name": "stdout",
     "output_type": "stream",
     "text": [
      "You are working on             Duke Server: RCC\n",
      "BASE DIRECTORY (FD_BASE):      /data/reddylab/Kuei\n",
      "REPO DIRECTORY (FD_REPO):      /data/reddylab/Kuei/repo\n",
      "WORK DIRECTORY (FD_WORK):      /data/reddylab/Kuei/work\n",
      "DATA DIRECTORY (FD_DATA):      /data/reddylab/Kuei/data\n",
      "CONTAINER DIR. (FD_SING):      /data/reddylab/Kuei/container\n",
      "\n",
      "You are working with           ENCODE FCC\n",
      "PATH OF PROJECT (FD_PRJ):      /data/reddylab/Kuei/repo/Proj_ENCODE_FCC\n",
      "PROJECT RESULTS (FD_RES):      /data/reddylab/Kuei/repo/Proj_ENCODE_FCC/results\n",
      "PROJECT SCRIPTS (FD_EXE):      /data/reddylab/Kuei/repo/Proj_ENCODE_FCC/scripts\n",
      "PROJECT DATA    (FD_DAT):      /data/reddylab/Kuei/repo/Proj_ENCODE_FCC/data\n",
      "PROJECT NOTE    (FD_NBK):      /data/reddylab/Kuei/repo/Proj_ENCODE_FCC/notebooks\n",
      "PROJECT DOCS    (FD_DOC):      /data/reddylab/Kuei/repo/Proj_ENCODE_FCC/docs\n",
      "PROJECT LOG     (FD_LOG):      /data/reddylab/Kuei/repo/Proj_ENCODE_FCC/log\n",
      "PROJECT REF     (FD_REF):      /data/reddylab/Kuei/repo/Proj_ENCODE_FCC/references\n",
      "PROJECT IMAGE   (FP_PRJ_SIF):  /data/reddylab/Kuei/container/project/singularity_proj_encode_fcc.sif\n",
      "PROJECT CONF.   (FP_CNF):      /data/reddylab/Kuei/repo/Proj_ENCODE_FCC/scripts/config_project.sh\n",
      "\n"
     ]
    }
   ],
   "source": [
    "source ../run_config_project.sh\n",
    "show_env"
   ]
  },
  {
   "cell_type": "code",
   "execution_count": 2,
   "id": "de147592-d53d-445a-89a5-220401751d61",
   "metadata": {},
   "outputs": [
    {
     "name": "stdout",
     "output_type": "stream",
     "text": [
      "\u001b[0m\u001b[01;34mannotation\u001b[0m  \u001b[01;34mregion\u001b[0m                \u001b[01;34mregion_coverage_chipseq\u001b[0m  \u001b[01;34mregion_nuc\u001b[0m\n",
      "\u001b[01;34massay_fcc\u001b[0m   \u001b[01;34mregion_annotation\u001b[0m     \u001b[01;34mregion_coverage_fcc\u001b[0m      \u001b[01;34msummary\u001b[0m\n",
      "\u001b[01;34massay_hic\u001b[0m   \u001b[01;34mregion_converage_hic\u001b[0m  \u001b[01;34mregion_integration\u001b[0m\n"
     ]
    }
   ],
   "source": [
    "ls ${FD_RES}"
   ]
  },
  {
   "cell_type": "code",
   "execution_count": 3,
   "id": "db2b0099-ec9e-495f-9d37-7bc4f3aca7b0",
   "metadata": {},
   "outputs": [
    {
     "name": "stdout",
     "output_type": "stream",
     "text": [
      "region_screened.tmpra.tsv\n"
     ]
    }
   ],
   "source": [
    "ls ${FD_PRJ}/site/table"
   ]
  },
  {
   "cell_type": "code",
   "execution_count": 6,
   "id": "b24dd428-70e5-482a-bc76-c4414bfe530d",
   "metadata": {},
   "outputs": [
    {
     "name": "stdout",
     "output_type": "stream",
     "text": [
      "\u001b[0m\u001b[01;31mregion_screened.crispri_hcrff.bed.gz\u001b[0m  \u001b[01;31mregion_screened.tmpra.bed.gz\u001b[0m\n",
      "region_screened.crispri_hcrff.tsv     region_screened.tmpra.tsv\n"
     ]
    }
   ],
   "source": [
    "ls ${FD_RES}/region/fcc_screened"
   ]
  },
  {
   "cell_type": "code",
   "execution_count": 7,
   "id": "3550a817-aaaa-4a3c-bae0-044519f74773",
   "metadata": {},
   "outputs": [],
   "source": [
    "FD_INP=${FD_RES}/region/fcc_screened\n",
    "FN_INP=region_screened.tmpra.tsv\n",
    "FP_INP=${FD_INP}/${FN_INP}\n",
    "FD_OUT=${FD_PRJ}/site/table\n",
    "\n",
    "cp ${FP_INP} ${FD_OUT}/"
   ]
  },
  {
   "cell_type": "code",
   "execution_count": 8,
   "id": "39e22dd4-c9e0-4003-9062-f72100b9c4f2",
   "metadata": {},
   "outputs": [
    {
     "name": "stdout",
     "output_type": "stream",
     "text": [
      "region_screened.tmpra.tsv\n"
     ]
    }
   ],
   "source": [
    "ls ${FD_PRJ}/site/table"
   ]
  },
  {
   "cell_type": "code",
   "execution_count": null,
   "id": "002882ae-e20b-4894-bb94-9738af456776",
   "metadata": {},
   "outputs": [],
   "source": []
  },
  {
   "cell_type": "code",
   "execution_count": null,
   "id": "9e7df2b0-d39e-4929-91cb-262000c970db",
   "metadata": {},
   "outputs": [],
   "source": []
  },
  {
   "cell_type": "code",
   "execution_count": null,
   "id": "13a57180-588e-494c-a13e-c10e9f9dae06",
   "metadata": {},
   "outputs": [],
   "source": []
  },
  {
   "cell_type": "code",
   "execution_count": 9,
   "id": "2eafa584-45a1-45e2-a89c-45045e3be957",
   "metadata": {},
   "outputs": [
    {
     "name": "stdout",
     "output_type": "stream",
     "text": [
      "metadata.size.tsv\n",
      "metadata.tsv\n",
      "result.size.concat.csv\n",
      "result.size.WSTARRseq_K562_A001.hg38.Input.rep1.WGS.unstranded.bed.gz.csv\n",
      "result.size.WSTARRseq_K562_A001.hg38.Input.rep2.WGS.unstranded.bed.gz.csv\n",
      "result.size.WSTARRseq_K562_A001.hg38.Input.rep3.WGS.unstranded.bed.gz.csv\n",
      "result.size.WSTARRseq_K562_A001.hg38.Input.rep4.WGS.unstranded.bed.gz.csv\n",
      "result.size.WSTARRseq_K562_A001.hg38.Output.rep1.WGS.unstranded.bed.gz.csv\n",
      "result.size.WSTARRseq_K562_A001.hg38.Output.rep2.WGS.unstranded.bed.gz.csv\n",
      "result.size.WSTARRseq_K562_A001.hg38.Output.rep3.WGS.unstranded.bed.gz.csv\n",
      "result.summary.WSTARRseq_K562_A001.hg38.Input.rep1.WGS.unstranded.bed.gz.tsv\n",
      "result.summary.WSTARRseq_K562_A001.hg38.Input.rep2.WGS.unstranded.bed.gz.tsv\n",
      "result.summary.WSTARRseq_K562_A001.hg38.Input.rep3.WGS.unstranded.bed.gz.tsv\n",
      "result.summary.WSTARRseq_K562_A001.hg38.Input.rep4.WGS.unstranded.bed.gz.tsv\n",
      "result.summary.WSTARRseq_K562_A001.hg38.Output.rep1.WGS.unstranded.bed.gz.tsv\n",
      "result.summary.WSTARRseq_K562_A001.hg38.Output.rep2.WGS.unstranded.bed.gz.tsv\n",
      "result.summary.WSTARRseq_K562_A001.hg38.Output.rep3.WGS.unstranded.bed.gz.tsv\n"
     ]
    }
   ],
   "source": [
    "ls ${FD_RES}/assay_fcc/STARR_WHG_K562_Reddy_A001/fragment_counts/summary"
   ]
  },
  {
   "cell_type": "code",
   "execution_count": 10,
   "id": "1c74aeb8-1632-4522-916d-7f48d9b9f07a",
   "metadata": {},
   "outputs": [],
   "source": [
    "FD_INP=${FD_RES}/assay_fcc/STARR_WHG_K562_Reddy_A001/fragment_counts/summary\n",
    "FN_INP=\"metadata.tsv\"\n",
    "FP_INP=${FD_INP}/${FN_INP}\n",
    "FD_OUT=${FD_PRJ}/site/table\n",
    "FN_OUT=\"metadata.wstarr.tsv\"\n",
    "FP_OUT=${FD_OUT}/${FN_OUT}\n",
    "\n",
    "cp ${FP_INP} ${FP_OUT}"
   ]
  },
  {
   "cell_type": "code",
   "execution_count": null,
   "id": "68fb0d35-da38-4c39-8c51-bea4a54e89d1",
   "metadata": {},
   "outputs": [],
   "source": []
  },
  {
   "cell_type": "code",
   "execution_count": null,
   "id": "8290eb7c-5c30-4a49-b434-7da9d4cd588a",
   "metadata": {},
   "outputs": [],
   "source": []
  }
 ],
 "metadata": {
  "kernelspec": {
   "display_name": "Bash",
   "language": "bash",
   "name": "bash"
  },
  "language_info": {
   "codemirror_mode": "shell",
   "file_extension": ".sh",
   "mimetype": "text/x-sh",
   "name": "bash"
  }
 },
 "nbformat": 4,
 "nbformat_minor": 5
}
