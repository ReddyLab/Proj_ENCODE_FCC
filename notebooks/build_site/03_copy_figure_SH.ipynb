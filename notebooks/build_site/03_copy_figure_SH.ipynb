{
 "cells": [
  {
   "cell_type": "markdown",
   "id": "2f0669d7-8100-4d4f-b7cd-31773952ac95",
   "metadata": {},
   "source": [
    "**Set environment**"
   ]
  },
  {
   "cell_type": "code",
   "execution_count": 8,
   "id": "2e831c53-b4e6-47d8-9d14-ffb77bb61deb",
   "metadata": {},
   "outputs": [
    {
     "name": "stdout",
     "output_type": "stream",
     "text": [
      "You are working on             Duke Server: RCC\n",
      "BASE DIRECTORY (FD_BASE):      /data/reddylab/Kuei\n",
      "REPO DIRECTORY (FD_REPO):      /data/reddylab/Kuei/repo\n",
      "WORK DIRECTORY (FD_WORK):      /data/reddylab/Kuei/work\n",
      "DATA DIRECTORY (FD_DATA):      /data/reddylab/Kuei/data\n",
      "CONTAINER DIR. (FD_SING):      /data/reddylab/Kuei/container\n",
      "\n",
      "You are working with           ENCODE FCC\n",
      "PATH OF PROJECT (FD_PRJ):      /data/reddylab/Kuei/repo/Proj_ENCODE_FCC\n",
      "PROJECT RESULTS (FD_RES):      /data/reddylab/Kuei/repo/Proj_ENCODE_FCC/results\n",
      "PROJECT SCRIPTS (FD_EXE):      /data/reddylab/Kuei/repo/Proj_ENCODE_FCC/scripts\n",
      "PROJECT DATA    (FD_DAT):      /data/reddylab/Kuei/repo/Proj_ENCODE_FCC/data\n",
      "PROJECT NOTE    (FD_NBK):      /data/reddylab/Kuei/repo/Proj_ENCODE_FCC/notebooks\n",
      "PROJECT DOCS    (FD_DOC):      /data/reddylab/Kuei/repo/Proj_ENCODE_FCC/docs\n",
      "PROJECT LOG     (FD_LOG):      /data/reddylab/Kuei/repo/Proj_ENCODE_FCC/log\n",
      "PROJECT REF     (FD_REF):      /data/reddylab/Kuei/repo/Proj_ENCODE_FCC/references\n",
      "PROJECT IMAGE   (FP_PRJ_SIF):  /data/reddylab/Kuei/container/project/singularity_proj_encode_fcc.sif\n",
      "PROJECT CONF.   (FP_CNF):      /data/reddylab/Kuei/repo/Proj_ENCODE_FCC/scripts/config_project.sh\n",
      "\n"
     ]
    }
   ],
   "source": [
    "source ../run_config_project.sh\n",
    "show_env"
   ]
  },
  {
   "cell_type": "code",
   "execution_count": 9,
   "id": "7cf7f8b0-d6e0-43a5-97af-39a7fe1e103f",
   "metadata": {},
   "outputs": [
    {
     "name": "stdout",
     "output_type": "stream",
     "text": [
      "\u001b[0m\u001b[01;34m00_setup\u001b[0m                    \u001b[01;34m44_region_umap_cluster\u001b[0m\n",
      "\u001b[01;34m01_prepare_fcc\u001b[0m              \u001b[01;34m45_fcc_enrichment\u001b[0m\n",
      "\u001b[01;34m02_prepare_hic\u001b[0m              \u001b[01;34m49_fcc_tfmodule\u001b[0m\n",
      "\u001b[01;34m03_prepare_chipseq\u001b[0m          \u001b[01;34m49_library_complexity\u001b[0m\n",
      "\u001b[01;34m04_prepare_annotation\u001b[0m       \u001b[01;34mbuild_site\u001b[0m\n",
      "\u001b[01;34m05_prepare_region\u001b[0m           \u001b[01;34mbuild_tracks\u001b[0m\n",
      "\u001b[01;34m11_fcc_process\u001b[0m              \u001b[01;34mdiscussion\u001b[0m\n",
      "\u001b[01;34m12_fcc_starrmpra\u001b[0m            Readme.md\n",
      "\u001b[01;34m21_region_nuc\u001b[0m               run_config_project.sh\n",
      "\u001b[01;34m22_region_coverage_fcc\u001b[0m      run_config_project_sing.py\n",
      "\u001b[01;34m23_region_coverage_chipseq\u001b[0m  run_config_project_sing.R\n",
      "\u001b[01;34m24_region_annotation\u001b[0m        run_config_test.sh\n",
      "\u001b[01;34m31_hic_process\u001b[0m              \u001b[01;34mshared\u001b[0m\n",
      "\u001b[01;34m34_hic_meta\u001b[0m                 \u001b[01;34mtmp\u001b[0m\n",
      "\u001b[01;34m41_fcc_correlation\u001b[0m          \u001b[01;34mz04_prepare_annotation_archive_250501\u001b[0m\n",
      "\u001b[01;34m42_fcc_comparison\u001b[0m           \u001b[01;34mz05_prepare_region_archive_250501\u001b[0m\n",
      "\u001b[01;34m43_fcc_table\u001b[0m                \u001b[01;34mz24_region_annotation_archive241024\u001b[0m\n"
     ]
    }
   ],
   "source": [
    "ls ${FD_NBK}"
   ]
  },
  {
   "cell_type": "code",
   "execution_count": 10,
   "id": "3d5afb19-4f3f-43b5-b334-a93f901d3176",
   "metadata": {},
   "outputs": [
    {
     "name": "stdout",
     "output_type": "stream",
     "text": [
      "\u001b[0m\u001b[01;34m01_introduction\u001b[0m\n",
      "\u001b[01;34m02_prepare\u001b[0m\n",
      "\u001b[01;34m04_prepare_annotation\u001b[0m\n",
      "\u001b[01;34m05_prepare_region\u001b[0m\n"
     ]
    }
   ],
   "source": [
    "ls -1 ${FD_PRJ}/site/figure"
   ]
  },
  {
   "cell_type": "markdown",
   "id": "111e0109-bbf7-4c35-b1ef-3d86655354a6",
   "metadata": {},
   "source": [
    "## Copy figures: Preparing annotations"
   ]
  },
  {
   "cell_type": "code",
   "execution_count": 11,
   "id": "8fae60a4-b98b-47dd-a77b-5f86c8158049",
   "metadata": {},
   "outputs": [
    {
     "name": "stdout",
     "output_type": "stream",
     "text": [
      "/data/reddylab/Kuei/repo/Proj_ENCODE_FCC/notebooks/04_prepare_annotation\n",
      "\n",
      "\u001b[0m\u001b[01;35mfig.rnaseq.distribution.tpm.nonzero.below2k.png\u001b[0m\n",
      "\u001b[01;35mfig.rnaseq.distribution.tpm.nonzero.below2k.svg\u001b[0m\n",
      "rnaseq_01_total_create_download_script_R.ipynb\n",
      "rnaseq_02_total_execute_download_script_SH.ipynb\n",
      "rnaseq_03_total_explore_data_R.ipynb\n",
      "\n",
      "/data/reddylab/Kuei/repo/Proj_ENCODE_FCC/site/figure/04_prepare_annotation\n",
      "\n",
      "\u001b[0m\u001b[01;35mfig.rnaseq.distribution.tpm.nonzero.below2k.png\u001b[0m\n",
      "\u001b[01;35mfig.rnaseq.distribution.tpm.nonzero.below2k.svg\u001b[0m\n"
     ]
    }
   ],
   "source": [
    "FD_INP=${FD_NBK}/04_prepare_annotation\n",
    "FD_OUT=${FD_PRJ}/site/figure/04_prepare_annotation\n",
    "\n",
    "echo ${FD_INP}\n",
    "echo\n",
    "ls   ${FD_INP}\n",
    "echo\n",
    "echo ${FD_OUT}\n",
    "echo\n",
    "ls   ${FD_OUT}"
   ]
  },
  {
   "cell_type": "code",
   "execution_count": 12,
   "id": "75c4e8f4-39dd-4baa-803f-61088b53a839",
   "metadata": {},
   "outputs": [
    {
     "name": "stdout",
     "output_type": "stream",
     "text": [
      "/data/reddylab/Kuei/repo/Proj_ENCODE_FCC/site/figure/04_prepare_annotation\n",
      "\n",
      "\u001b[0m\u001b[01;35mfig.rnaseq.distribution.tpm.nonzero.below2k.png\u001b[0m\n",
      "\u001b[01;35mfig.rnaseq.distribution.tpm.nonzero.below2k.svg\u001b[0m\n"
     ]
    }
   ],
   "source": [
    "mkdir -p ${FD_OUT}\n",
    "rm ${FD_OUT}/*png\n",
    "rm ${FD_OUT}/*svg\n",
    "cp ${FD_INP}/*png ${FD_OUT}/\n",
    "cp ${FD_INP}/*svg ${FD_OUT}/\n",
    "\n",
    "echo ${FD_OUT}\n",
    "echo\n",
    "ls   ${FD_OUT}"
   ]
  },
  {
   "cell_type": "markdown",
   "id": "614e6b1f-80f0-4ca5-9ffc-7e76512ee0e7",
   "metadata": {},
   "source": [
    "## Copy figures: Preparing regions"
   ]
  },
  {
   "cell_type": "code",
   "execution_count": 13,
   "id": "13fc6bab-e51f-46dd-b319-2c760a8caf14",
   "metadata": {},
   "outputs": [
    {
     "name": "stdout",
     "output_type": "stream",
     "text": [
      "/data/reddylab/Kuei/repo/Proj_ENCODE_FCC/notebooks/05_prepare_region\n",
      "\n",
      "\u001b[0m\u001b[01;35mfig.matrix.module_tf_mapping.png\u001b[0m\n",
      "\u001b[01;35mfig.matrix.region2module.png\u001b[0m\n",
      "\u001b[01;35mfig.matrix.region2TF.png\u001b[0m\n",
      "\u001b[01;35mfig.region.chromstate_ccres.distribution.region_length.png\u001b[0m\n",
      "\u001b[01;35mfig.region.chromstate_ccres.distribution.region_length.svg\u001b[0m\n",
      "\u001b[01;35mfig.region.chromstate_chromhmm.distribution.region_length.below10k.png\u001b[0m\n",
      "\u001b[01;35mfig.region.chromstate_chromhmm.distribution.region_length.below10k.svg\u001b[0m\n",
      "\u001b[01;35mfig.region.compare_ocr.distribution.chromosome.png\u001b[0m\n",
      "\u001b[01;35mfig.region.compare_ocr.distribution.chromosome.svg\u001b[0m\n",
      "\u001b[01;35mfig.region.compare_ocr.enrichment.genomic_partition.png\u001b[0m\n",
      "\u001b[01;35mfig.region.compare_ocr.enrichment.genomic_partition.svg\u001b[0m\n",
      "\u001b[01;35mfig.region.compare_ocr.frequency.genomic_partition.png\u001b[0m\n",
      "\u001b[01;35mfig.region.compare_ocr.frequency.genomic_partition.svg\u001b[0m\n",
      "\u001b[01;35mfig.region.encode_ocr.distribution.region_length.png\u001b[0m\n",
      "\u001b[01;35mfig.region.encode_ocr.distribution.region_length.svg\u001b[0m\n",
      "\u001b[01;35mfig.region.fcc_astarr_csaw.distribution.log2fc.png\u001b[0m\n",
      "\u001b[01;35mfig.region.fcc_astarr_csaw.distribution.log2fc.svg\u001b[0m\n",
      "\u001b[01;35mfig.region.fcc_astarr_macs_input.distribution.region_length.below3k.png\u001b[0m\n",
      "\u001b[01;35mfig.region.fcc_astarr_macs_input.distribution.region_length.below3k.svg\u001b[0m\n",
      "\u001b[01;35mfig.region.fcc_crispri_growth.distribution.log2fc.png\u001b[0m\n",
      "\u001b[01;35mfig.region.fcc_crispri_growth.distribution.log2fc.svg\u001b[0m\n",
      "\u001b[01;35mfig.region.fcc_crispri_hcrff.distribution.region_length.png\u001b[0m\n",
      "\u001b[01;35mfig.region.fcc_crispri_hcrff.distribution.region_length.svg\u001b[0m\n",
      "\u001b[01;35mfig.region.fcc_crispri_hcrff.distribution.score.png\u001b[0m\n",
      "\u001b[01;35mfig.region.fcc_crispri_hcrff.distribution.score.svg\u001b[0m\n",
      "\u001b[01;35mfig.region.fcc_starrmpra_junke.distribution.region_length.png\u001b[0m\n",
      "\u001b[01;35mfig.region.fcc_starrmpra_junke.distribution.region_length.svg\u001b[0m\n",
      "\u001b[01;35mfig.region.tss.distribution.pol2.below1h.png\u001b[0m\n",
      "\u001b[01;35mfig.region.tss.distribution.pol2.below1h.svg\u001b[0m\n",
      "\u001b[01;35mfig.summary.tf_module.png\u001b[0m\n",
      "region_astarr_csaw_01_acquire_data_SH.ipynb\n",
      "region_astarr_csaw_02_export_data_R.ipynb\n",
      "region_astarr_csaw_03_export_metadata_R.ipynb\n",
      "region_astarr_csaw_04_explore_data_R.ipynb\n",
      "region_astarr_macs_01_export_data_R.ipynb\n",
      "region_astarr_macs_02_export_metadata_R.ipynb\n",
      "region_astarr_macs_03_explore_data_R.ipynb\n",
      "region_chromstate_01_create_download_script_R.ipynb\n",
      "region_chromstate_02_execute_download_script_SH.ipynb\n",
      "region_chromstate_03_export_data_R.ipynb\n",
      "region_chromstate_04_export_metadata_R.ipynb\n",
      "region_chromstate_05_explore_data_R.ipynb\n",
      "region_crispri_growth_01_export_data_R.ipynb\n",
      "region_crispri_growth_02_export_metadata_R.ipynb\n",
      "region_crispri_growth_03_explore_data_R.ipynb\n",
      "region_crispri_hcrff_01_create_download_script_R.ipynb\n",
      "region_crispri_hcrff_02_execute_download_script_SH.ipynb\n",
      "region_crispri_hcrff_03_export_data_R.ipynb\n",
      "region_crispri_hcrff_04_export_metadata_R.ipynb\n",
      "region_crispri_hcrff_05_explore_data_R.ipynb\n",
      "region_enhancer_junke_01_view_data_SH.ipynb\n",
      "region_enhancer_junke_02_decompress_data_SH.ipynb\n",
      "region_enhancer_junke_03_export_data_R.ipynb\n",
      "region_enhancer_junke_04_export_metadata_R.ipynb\n",
      "region_enhancer_junke_05_explore_data_R.ipynb\n",
      "region_ocr_01_create_download_script_R.ipynb\n",
      "region_ocr_02_execute_download_script_SH.ipynb\n",
      "region_ocr_03_export_data_SH.ipynb\n",
      "region_ocr_04_export_metadata_R.ipynb\n",
      "region_ocr_05_explore_data_R.ipynb\n",
      "region_ocr_06_explore_comparison_R.ipynb\n",
      "region_tfmodule_01_export_data_R.ipynb\n",
      "region_tfmodule_02_export_metadata_R.ipynb\n",
      "region_tfmodule_03_explore_data_R.ipynb\n",
      "region_tss_01_pol2_export_data_R.ipynb\n",
      "region_tss_02_pol2_export_metadata_R.ipynb\n",
      "region_tss_03_pol2_explore_data_R.ipynb\n",
      "table.region.fcc_starrmpra_junke.count.tsv\n",
      "\n",
      "/data/reddylab/Kuei/repo/Proj_ENCODE_FCC/site/figure/05_prepare_region\n",
      "\n",
      "\u001b[0m\u001b[01;35mfig.matrix.module_tf_mapping.png\u001b[0m\n",
      "\u001b[01;35mfig.matrix.region2module.png\u001b[0m\n",
      "\u001b[01;35mfig.matrix.region2TF.png\u001b[0m\n",
      "\u001b[01;35mfig.region.chromstate_ccres.distribution.region_length.png\u001b[0m\n",
      "\u001b[01;35mfig.region.chromstate_ccres.distribution.region_length.svg\u001b[0m\n",
      "\u001b[01;35mfig.region.chromstate_chromhmm.distribution.region_length.below10k.png\u001b[0m\n",
      "\u001b[01;35mfig.region.chromstate_chromhmm.distribution.region_length.below10k.svg\u001b[0m\n",
      "\u001b[01;35mfig.region.compare_ocr.distribution.chromosome.png\u001b[0m\n",
      "\u001b[01;35mfig.region.compare_ocr.distribution.chromosome.svg\u001b[0m\n",
      "\u001b[01;35mfig.region.compare_ocr.enrichment.genomic_partition.png\u001b[0m\n",
      "\u001b[01;35mfig.region.compare_ocr.enrichment.genomic_partition.svg\u001b[0m\n",
      "\u001b[01;35mfig.region.compare_ocr.frequency.genomic_partition.png\u001b[0m\n",
      "\u001b[01;35mfig.region.compare_ocr.frequency.genomic_partition.svg\u001b[0m\n",
      "\u001b[01;35mfig.region.encode_ocr.distribution.region_length.png\u001b[0m\n",
      "\u001b[01;35mfig.region.encode_ocr.distribution.region_length.svg\u001b[0m\n",
      "\u001b[01;35mfig.region.fcc_astarr_csaw.distribution.log2fc.png\u001b[0m\n",
      "\u001b[01;35mfig.region.fcc_astarr_csaw.distribution.log2fc.svg\u001b[0m\n",
      "\u001b[01;35mfig.region.fcc_astarr_macs_input.distribution.region_length.below3k.png\u001b[0m\n",
      "\u001b[01;35mfig.region.fcc_astarr_macs_input.distribution.region_length.below3k.svg\u001b[0m\n",
      "\u001b[01;35mfig.region.fcc_crispri_growth.distribution.log2fc.png\u001b[0m\n",
      "\u001b[01;35mfig.region.fcc_crispri_growth.distribution.log2fc.svg\u001b[0m\n",
      "\u001b[01;35mfig.region.fcc_starrmpra_junke.distribution.region_length.png\u001b[0m\n",
      "\u001b[01;35mfig.region.fcc_starrmpra_junke.distribution.region_length.svg\u001b[0m\n",
      "\u001b[01;35mfig.region.tss.distribution.pol2.below1h.png\u001b[0m\n",
      "\u001b[01;35mfig.region.tss.distribution.pol2.below1h.svg\u001b[0m\n",
      "\u001b[01;35mfig.summary.tf_module.png\u001b[0m\n"
     ]
    }
   ],
   "source": [
    "FD_INP=${FD_NBK}/05_prepare_region\n",
    "FD_OUT=${FD_PRJ}/site/figure/05_prepare_region\n",
    "\n",
    "echo ${FD_INP}\n",
    "echo\n",
    "ls   ${FD_INP}\n",
    "echo\n",
    "echo ${FD_OUT}\n",
    "echo\n",
    "ls   ${FD_OUT}"
   ]
  },
  {
   "cell_type": "code",
   "execution_count": 14,
   "id": "25f6a611-878e-453a-ac1b-d509c66b1760",
   "metadata": {},
   "outputs": [
    {
     "name": "stdout",
     "output_type": "stream",
     "text": [
      "/data/reddylab/Kuei/repo/Proj_ENCODE_FCC/site/figure/05_prepare_region\n",
      "\n",
      "\u001b[0m\u001b[01;35mfig.matrix.module_tf_mapping.png\u001b[0m\n",
      "\u001b[01;35mfig.matrix.region2module.png\u001b[0m\n",
      "\u001b[01;35mfig.matrix.region2TF.png\u001b[0m\n",
      "\u001b[01;35mfig.region.chromstate_ccres.distribution.region_length.png\u001b[0m\n",
      "\u001b[01;35mfig.region.chromstate_ccres.distribution.region_length.svg\u001b[0m\n",
      "\u001b[01;35mfig.region.chromstate_chromhmm.distribution.region_length.below10k.png\u001b[0m\n",
      "\u001b[01;35mfig.region.chromstate_chromhmm.distribution.region_length.below10k.svg\u001b[0m\n",
      "\u001b[01;35mfig.region.compare_ocr.distribution.chromosome.png\u001b[0m\n",
      "\u001b[01;35mfig.region.compare_ocr.distribution.chromosome.svg\u001b[0m\n",
      "\u001b[01;35mfig.region.compare_ocr.enrichment.genomic_partition.png\u001b[0m\n",
      "\u001b[01;35mfig.region.compare_ocr.enrichment.genomic_partition.svg\u001b[0m\n",
      "\u001b[01;35mfig.region.compare_ocr.frequency.genomic_partition.png\u001b[0m\n",
      "\u001b[01;35mfig.region.compare_ocr.frequency.genomic_partition.svg\u001b[0m\n",
      "\u001b[01;35mfig.region.encode_ocr.distribution.region_length.png\u001b[0m\n",
      "\u001b[01;35mfig.region.encode_ocr.distribution.region_length.svg\u001b[0m\n",
      "\u001b[01;35mfig.region.fcc_astarr_csaw.distribution.log2fc.png\u001b[0m\n",
      "\u001b[01;35mfig.region.fcc_astarr_csaw.distribution.log2fc.svg\u001b[0m\n",
      "\u001b[01;35mfig.region.fcc_astarr_macs_input.distribution.region_length.below3k.png\u001b[0m\n",
      "\u001b[01;35mfig.region.fcc_astarr_macs_input.distribution.region_length.below3k.svg\u001b[0m\n",
      "\u001b[01;35mfig.region.fcc_crispri_growth.distribution.log2fc.png\u001b[0m\n",
      "\u001b[01;35mfig.region.fcc_crispri_growth.distribution.log2fc.svg\u001b[0m\n",
      "\u001b[01;35mfig.region.fcc_crispri_hcrff.distribution.region_length.png\u001b[0m\n",
      "\u001b[01;35mfig.region.fcc_crispri_hcrff.distribution.region_length.svg\u001b[0m\n",
      "\u001b[01;35mfig.region.fcc_crispri_hcrff.distribution.score.png\u001b[0m\n",
      "\u001b[01;35mfig.region.fcc_crispri_hcrff.distribution.score.svg\u001b[0m\n",
      "\u001b[01;35mfig.region.fcc_starrmpra_junke.distribution.region_length.png\u001b[0m\n",
      "\u001b[01;35mfig.region.fcc_starrmpra_junke.distribution.region_length.svg\u001b[0m\n",
      "\u001b[01;35mfig.region.tss.distribution.pol2.below1h.png\u001b[0m\n",
      "\u001b[01;35mfig.region.tss.distribution.pol2.below1h.svg\u001b[0m\n",
      "\u001b[01;35mfig.summary.tf_module.png\u001b[0m\n"
     ]
    }
   ],
   "source": [
    "mkdir -p ${FD_OUT}\n",
    "rm ${FD_OUT}/*png\n",
    "rm ${FD_OUT}/*svg\n",
    "cp ${FD_INP}/*png ${FD_OUT}/\n",
    "cp ${FD_INP}/*svg ${FD_OUT}/\n",
    "\n",
    "echo ${FD_OUT}\n",
    "echo\n",
    "ls   ${FD_OUT}"
   ]
  },
  {
   "cell_type": "code",
   "execution_count": null,
   "id": "743f3b9b-c734-455a-82b5-cf0d376af768",
   "metadata": {},
   "outputs": [],
   "source": []
  },
  {
   "cell_type": "code",
   "execution_count": null,
   "id": "a56303dc-a64f-45bf-bd7b-98b35738bfae",
   "metadata": {},
   "outputs": [],
   "source": []
  },
  {
   "cell_type": "code",
   "execution_count": null,
   "id": "0cfaccda-4887-43df-ba45-2439dde59257",
   "metadata": {},
   "outputs": [],
   "source": []
  },
  {
   "cell_type": "code",
   "execution_count": null,
   "id": "8e700e61-8e30-45db-bdd8-7f97ac6e64e0",
   "metadata": {},
   "outputs": [],
   "source": []
  },
  {
   "cell_type": "code",
   "execution_count": null,
   "id": "091429f9-7bb9-4f9e-a45d-d9b8715ffdcd",
   "metadata": {},
   "outputs": [],
   "source": []
  },
  {
   "cell_type": "code",
   "execution_count": null,
   "id": "844a7cf4-97e5-4f49-9a30-bec2bc8ac271",
   "metadata": {},
   "outputs": [],
   "source": []
  },
  {
   "cell_type": "code",
   "execution_count": null,
   "id": "03870ef0-e5b1-4d36-af57-a23226d33916",
   "metadata": {},
   "outputs": [],
   "source": []
  },
  {
   "cell_type": "code",
   "execution_count": null,
   "id": "f2d3093e-eca0-4e38-8b8d-3b4c3dd9a2b2",
   "metadata": {},
   "outputs": [],
   "source": []
  },
  {
   "cell_type": "code",
   "execution_count": null,
   "id": "cbab7cd8-db09-401a-8749-b742fdeb1e30",
   "metadata": {},
   "outputs": [],
   "source": []
  },
  {
   "cell_type": "markdown",
   "id": "82d0c4fe-9c61-4773-a038-2f296cb4dabe",
   "metadata": {},
   "source": [
    "**Set environment**"
   ]
  },
  {
   "cell_type": "code",
   "execution_count": 1,
   "id": "53dc27be-6a99-43bc-8498-857d6a3dbc81",
   "metadata": {},
   "outputs": [
    {
     "name": "stdout",
     "output_type": "stream",
     "text": [
      "You are working on             Duke Server: HARDAC\n",
      "BASE DIRECTORY (FD_BASE):      /data/reddylab/Kuei\n",
      "REPO DIRECTORY (FD_REPO):      /data/reddylab/Kuei/repo\n",
      "WORK DIRECTORY (FD_WORK):      /data/reddylab/Kuei/work\n",
      "DATA DIRECTORY (FD_DATA):      /data/reddylab/Kuei/data\n",
      "CONTAINER DIR. (FD_SING):      /data/reddylab/Kuei/container\n",
      "\n",
      "You are working with           ENCODE FCC\n",
      "PATH OF PROJECT (FD_PRJ):      /data/reddylab/Kuei/repo/Proj_ENCODE_FCC\n",
      "PROJECT RESULTS (FD_RES):      /data/reddylab/Kuei/repo/Proj_ENCODE_FCC/results\n",
      "PROJECT SCRIPTS (FD_EXE):      /data/reddylab/Kuei/repo/Proj_ENCODE_FCC/scripts\n",
      "PROJECT DATA    (FD_DAT):      /data/reddylab/Kuei/repo/Proj_ENCODE_FCC/data\n",
      "PROJECT NOTE    (FD_NBK):      /data/reddylab/Kuei/repo/Proj_ENCODE_FCC/notebooks\n",
      "PROJECT DOCS    (FD_DOC):      /data/reddylab/Kuei/repo/Proj_ENCODE_FCC/docs\n",
      "PROJECT LOG     (FD_LOG):      /data/reddylab/Kuei/repo/Proj_ENCODE_FCC/log\n",
      "PROJECT APP     (FD_APP):      /data/reddylab/Kuei/repo/Proj_ENCODE_FCC/app\n",
      "PROJECT REF     (FD_REF):      /data/reddylab/Kuei/repo/Proj_ENCODE_FCC/references\n",
      "PROJECT IMAGE   (FP_PRJ_SIF):  /data/reddylab/Kuei/repo/Proj_ENCODE_FCC/app/singularity_proj_encode_fcc.sif\n",
      "\n"
     ]
    }
   ],
   "source": [
    "source ../run_config_project.sh\n",
    "show_env"
   ]
  },
  {
   "cell_type": "code",
   "execution_count": 2,
   "id": "e7a9d44a-8f93-424d-a3e2-f9f7d6e58289",
   "metadata": {},
   "outputs": [
    {
     "name": "stdout",
     "output_type": "stream",
     "text": [
      "\u001b[0m\u001b[38;5;27massay_fcc\u001b[0m  \u001b[38;5;27massay_hic\u001b[0m  \u001b[38;5;27mregion\u001b[0m  \u001b[38;5;27mregion_annotation\u001b[0m  \u001b[38;5;27mregion_coverage\u001b[0m\n"
     ]
    }
   ],
   "source": [
    "ls ${FD_RES}"
   ]
  },
  {
   "cell_type": "code",
   "execution_count": 3,
   "id": "c322757b-ed09-43e0-8d52-0ff8dd02124b",
   "metadata": {},
   "outputs": [
    {
     "name": "stdout",
     "output_type": "stream",
     "text": [
      "\u001b[0m\u001b[38;5;27m01_introduction\u001b[0m  \u001b[38;5;27m02_prepare\u001b[0m\n"
     ]
    }
   ],
   "source": [
    "ls ${FD_PRJ}/site/figure"
   ]
  },
  {
   "cell_type": "code",
   "execution_count": 4,
   "id": "8ab4e426-90ff-44d7-b833-723648902df7",
   "metadata": {},
   "outputs": [
    {
     "name": "stdout",
     "output_type": "stream",
     "text": [
      "\u001b[0m\u001b[38;5;13m/data/reddylab/Kuei/repo/Proj_ENCODE_FCC/notebooks/02_prepare/fig.fcc_assay.LMPRA.hist.Log2fc.neg_ctrl_shuffled.png\u001b[0m\u001b[K\n",
      "\u001b[38;5;13m/data/reddylab/Kuei/repo/Proj_ENCODE_FCC/notebooks/02_prepare/fig.fcc_assay.LMPRA.hist.Log2fc.split.png\u001b[0m\u001b[K\n",
      "\u001b[38;5;13m/data/reddylab/Kuei/repo/Proj_ENCODE_FCC/notebooks/02_prepare/fig.fcc_assay.LMPRA.hist.Log2fc.total.png\u001b[0m\u001b[K\n",
      "\u001b[38;5;13m/data/reddylab/Kuei/repo/Proj_ENCODE_FCC/notebooks/02_prepare/fig.fcc_assay.LMPRA.hist.Log2fc.zscore.png\u001b[0m\u001b[K\n"
     ]
    }
   ],
   "source": [
    "ls ${FD_NBK}/02_prepare/*png"
   ]
  },
  {
   "cell_type": "code",
   "execution_count": 5,
   "id": "a182620e-dd16-4810-b000-3ac87a1cba72",
   "metadata": {},
   "outputs": [
    {
     "name": "stdout",
     "output_type": "stream",
     "text": [
      "\u001b[0m\u001b[38;5;13m/data/reddylab/Kuei/repo/Proj_ENCODE_FCC/notebooks/02_prepare/fig.fcc_assay.LMPRA.hist.Log2fc.neg_ctrl_shuffled.svg\u001b[0m\u001b[K\n",
      "\u001b[38;5;13m/data/reddylab/Kuei/repo/Proj_ENCODE_FCC/notebooks/02_prepare/fig.fcc_assay.LMPRA.hist.Log2fc.split.svg\u001b[0m\u001b[K\n",
      "\u001b[38;5;13m/data/reddylab/Kuei/repo/Proj_ENCODE_FCC/notebooks/02_prepare/fig.fcc_assay.LMPRA.hist.Log2fc.total.svg\u001b[0m\u001b[K\n",
      "\u001b[38;5;13m/data/reddylab/Kuei/repo/Proj_ENCODE_FCC/notebooks/02_prepare/fig.fcc_assay.LMPRA.hist.Log2fc.zscore.svg\u001b[0m\u001b[K\n"
     ]
    }
   ],
   "source": [
    "ls ${FD_NBK}/02_prepare/*svg"
   ]
  },
  {
   "cell_type": "code",
   "execution_count": 7,
   "id": "19417045-f41c-4ee9-a084-6c5d90c0559f",
   "metadata": {},
   "outputs": [],
   "source": [
    "FD_INP=${FD_NBK}/02_prepare\n",
    "FD_OUT=${FD_PRJ}/site/figure/02_prepare\n",
    "\n",
    "mkdir -p ${FD_OUT}\n",
    "rm ${FD_OUT}/*svg\n",
    "cp ${FD_INP}/*svg ${FD_OUT}/"
   ]
  },
  {
   "cell_type": "code",
   "execution_count": 8,
   "id": "23e887a6-c863-4381-bc5d-13122d2200cd",
   "metadata": {},
   "outputs": [
    {
     "name": "stdout",
     "output_type": "stream",
     "text": [
      "\u001b[0m\u001b[38;5;13mfig.fcc_assay.LMPRA.hist.Log2fc.neg_ctrl_shuffled.svg\u001b[0m\n",
      "\u001b[38;5;13mfig.fcc_assay.LMPRA.hist.Log2fc.split.svg\u001b[0m\n",
      "\u001b[38;5;13mfig.fcc_assay.LMPRA.hist.Log2fc.total.svg\u001b[0m\n",
      "\u001b[38;5;13mfig.fcc_assay.LMPRA.hist.Log2fc.zscore.svg\u001b[0m\n"
     ]
    }
   ],
   "source": [
    "ls ${FD_PRJ}/site/figure/02_prepare"
   ]
  },
  {
   "cell_type": "code",
   "execution_count": null,
   "id": "bd86bb1c-199a-4489-beca-0bd78696940e",
   "metadata": {},
   "outputs": [],
   "source": []
  }
 ],
 "metadata": {
  "kernelspec": {
   "display_name": "Bash",
   "language": "bash",
   "name": "bash"
  },
  "language_info": {
   "codemirror_mode": "shell",
   "file_extension": ".sh",
   "mimetype": "text/x-sh",
   "name": "bash"
  }
 },
 "nbformat": 4,
 "nbformat_minor": 5
}
