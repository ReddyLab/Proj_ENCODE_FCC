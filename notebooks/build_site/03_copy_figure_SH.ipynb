{
 "cells": [
  {
   "cell_type": "markdown",
   "id": "82d0c4fe-9c61-4773-a038-2f296cb4dabe",
   "metadata": {},
   "source": [
    "**Set environment**"
   ]
  },
  {
   "cell_type": "code",
   "execution_count": 1,
   "id": "53dc27be-6a99-43bc-8498-857d6a3dbc81",
   "metadata": {},
   "outputs": [
    {
     "name": "stdout",
     "output_type": "stream",
     "text": [
      "You are working on             Duke Server: HARDAC\n",
      "BASE DIRECTORY (FD_BASE):      /data/reddylab/Kuei\n",
      "REPO DIRECTORY (FD_REPO):      /data/reddylab/Kuei/repo\n",
      "WORK DIRECTORY (FD_WORK):      /data/reddylab/Kuei/work\n",
      "DATA DIRECTORY (FD_DATA):      /data/reddylab/Kuei/data\n",
      "CONTAINER DIR. (FD_SING):      /data/reddylab/Kuei/container\n",
      "\n",
      "You are working with           ENCODE FCC\n",
      "PATH OF PROJECT (FD_PRJ):      /data/reddylab/Kuei/repo/Proj_ENCODE_FCC\n",
      "PROJECT RESULTS (FD_RES):      /data/reddylab/Kuei/repo/Proj_ENCODE_FCC/results\n",
      "PROJECT SCRIPTS (FD_EXE):      /data/reddylab/Kuei/repo/Proj_ENCODE_FCC/scripts\n",
      "PROJECT DATA    (FD_DAT):      /data/reddylab/Kuei/repo/Proj_ENCODE_FCC/data\n",
      "PROJECT NOTE    (FD_NBK):      /data/reddylab/Kuei/repo/Proj_ENCODE_FCC/notebooks\n",
      "PROJECT DOCS    (FD_DOC):      /data/reddylab/Kuei/repo/Proj_ENCODE_FCC/docs\n",
      "PROJECT LOG     (FD_LOG):      /data/reddylab/Kuei/repo/Proj_ENCODE_FCC/log\n",
      "PROJECT APP     (FD_APP):      /data/reddylab/Kuei/repo/Proj_ENCODE_FCC/app\n",
      "PROJECT REF     (FD_REF):      /data/reddylab/Kuei/repo/Proj_ENCODE_FCC/references\n",
      "PROJECT IMAGE   (FP_PRJ_SIF):  /data/reddylab/Kuei/repo/Proj_ENCODE_FCC/app/singularity_proj_encode_fcc.sif\n",
      "\n"
     ]
    }
   ],
   "source": [
    "source ../run_config_project.sh\n",
    "show_env"
   ]
  },
  {
   "cell_type": "code",
   "execution_count": 2,
   "id": "e7a9d44a-8f93-424d-a3e2-f9f7d6e58289",
   "metadata": {},
   "outputs": [
    {
     "name": "stdout",
     "output_type": "stream",
     "text": [
      "\u001b[0m\u001b[38;5;27massay_fcc\u001b[0m  \u001b[38;5;27massay_hic\u001b[0m  \u001b[38;5;27mregion\u001b[0m  \u001b[38;5;27mregion_annotation\u001b[0m  \u001b[38;5;27mregion_coverage\u001b[0m\n"
     ]
    }
   ],
   "source": [
    "ls ${FD_RES}"
   ]
  },
  {
   "cell_type": "code",
   "execution_count": 3,
   "id": "c322757b-ed09-43e0-8d52-0ff8dd02124b",
   "metadata": {},
   "outputs": [
    {
     "name": "stdout",
     "output_type": "stream",
     "text": [
      "\u001b[0m\u001b[38;5;27m01_introduction\u001b[0m  \u001b[38;5;27m02_prepare\u001b[0m\n"
     ]
    }
   ],
   "source": [
    "ls ${FD_PRJ}/site/figure"
   ]
  },
  {
   "cell_type": "code",
   "execution_count": 4,
   "id": "8ab4e426-90ff-44d7-b833-723648902df7",
   "metadata": {},
   "outputs": [
    {
     "name": "stdout",
     "output_type": "stream",
     "text": [
      "\u001b[0m\u001b[38;5;13m/data/reddylab/Kuei/repo/Proj_ENCODE_FCC/notebooks/02_prepare/fig.fcc_assay.LMPRA.hist.Log2fc.neg_ctrl_shuffled.png\u001b[0m\u001b[K\n",
      "\u001b[38;5;13m/data/reddylab/Kuei/repo/Proj_ENCODE_FCC/notebooks/02_prepare/fig.fcc_assay.LMPRA.hist.Log2fc.split.png\u001b[0m\u001b[K\n",
      "\u001b[38;5;13m/data/reddylab/Kuei/repo/Proj_ENCODE_FCC/notebooks/02_prepare/fig.fcc_assay.LMPRA.hist.Log2fc.total.png\u001b[0m\u001b[K\n",
      "\u001b[38;5;13m/data/reddylab/Kuei/repo/Proj_ENCODE_FCC/notebooks/02_prepare/fig.fcc_assay.LMPRA.hist.Log2fc.zscore.png\u001b[0m\u001b[K\n"
     ]
    }
   ],
   "source": [
    "ls ${FD_NBK}/02_prepare/*png"
   ]
  },
  {
   "cell_type": "code",
   "execution_count": 5,
   "id": "a182620e-dd16-4810-b000-3ac87a1cba72",
   "metadata": {},
   "outputs": [
    {
     "name": "stdout",
     "output_type": "stream",
     "text": [
      "\u001b[0m\u001b[38;5;13m/data/reddylab/Kuei/repo/Proj_ENCODE_FCC/notebooks/02_prepare/fig.fcc_assay.LMPRA.hist.Log2fc.neg_ctrl_shuffled.svg\u001b[0m\u001b[K\n",
      "\u001b[38;5;13m/data/reddylab/Kuei/repo/Proj_ENCODE_FCC/notebooks/02_prepare/fig.fcc_assay.LMPRA.hist.Log2fc.split.svg\u001b[0m\u001b[K\n",
      "\u001b[38;5;13m/data/reddylab/Kuei/repo/Proj_ENCODE_FCC/notebooks/02_prepare/fig.fcc_assay.LMPRA.hist.Log2fc.total.svg\u001b[0m\u001b[K\n",
      "\u001b[38;5;13m/data/reddylab/Kuei/repo/Proj_ENCODE_FCC/notebooks/02_prepare/fig.fcc_assay.LMPRA.hist.Log2fc.zscore.svg\u001b[0m\u001b[K\n"
     ]
    }
   ],
   "source": [
    "ls ${FD_NBK}/02_prepare/*svg"
   ]
  },
  {
   "cell_type": "code",
   "execution_count": 7,
   "id": "19417045-f41c-4ee9-a084-6c5d90c0559f",
   "metadata": {},
   "outputs": [],
   "source": [
    "FD_INP=${FD_NBK}/02_prepare\n",
    "FD_OUT=${FD_PRJ}/site/figure/02_prepare\n",
    "\n",
    "mkdir -p ${FD_OUT}\n",
    "rm ${FD_OUT}/*svg\n",
    "cp ${FD_INP}/*svg ${FD_OUT}/"
   ]
  },
  {
   "cell_type": "code",
   "execution_count": 8,
   "id": "23e887a6-c863-4381-bc5d-13122d2200cd",
   "metadata": {},
   "outputs": [
    {
     "name": "stdout",
     "output_type": "stream",
     "text": [
      "\u001b[0m\u001b[38;5;13mfig.fcc_assay.LMPRA.hist.Log2fc.neg_ctrl_shuffled.svg\u001b[0m\n",
      "\u001b[38;5;13mfig.fcc_assay.LMPRA.hist.Log2fc.split.svg\u001b[0m\n",
      "\u001b[38;5;13mfig.fcc_assay.LMPRA.hist.Log2fc.total.svg\u001b[0m\n",
      "\u001b[38;5;13mfig.fcc_assay.LMPRA.hist.Log2fc.zscore.svg\u001b[0m\n"
     ]
    }
   ],
   "source": [
    "ls ${FD_PRJ}/site/figure/02_prepare"
   ]
  },
  {
   "cell_type": "code",
   "execution_count": null,
   "id": "bd86bb1c-199a-4489-beca-0bd78696940e",
   "metadata": {},
   "outputs": [],
   "source": []
  }
 ],
 "metadata": {
  "kernelspec": {
   "display_name": "Bash",
   "language": "bash",
   "name": "bash"
  },
  "language_info": {
   "codemirror_mode": "shell",
   "file_extension": ".sh",
   "mimetype": "text/x-sh",
   "name": "bash"
  }
 },
 "nbformat": 4,
 "nbformat_minor": 5
}
