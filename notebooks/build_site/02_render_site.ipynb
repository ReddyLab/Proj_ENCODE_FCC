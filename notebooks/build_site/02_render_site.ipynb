{
 "cells": [
  {
   "cell_type": "code",
   "execution_count": 1,
   "id": "35558fc4-807d-4d0d-8c42-06f3edca2751",
   "metadata": {},
   "outputs": [
    {
     "name": "stdout",
     "output_type": "stream",
     "text": [
      "You are working on             Duke Server: HARDAC\n",
      "BASE DIRECTORY (FD_BASE):      /data/reddylab/Kuei\n",
      "REPO DIRECTORY (FD_REPO):      /data/reddylab/Kuei/repo\n",
      "WORK DIRECTORY (FD_WORK):      /data/reddylab/Kuei/work\n",
      "DATA DIRECTORY (FD_DATA):      /data/reddylab/Kuei/data\n",
      "CONTAINER DIR. (FD_SING):      /data/reddylab/Kuei/container\n",
      "\n",
      "You are working with           ENCODE FCC\n",
      "PATH OF PROJECT (FD_PRJ):      /data/reddylab/Kuei/repo/Proj_CombEffect_ENCODE_FCC\n",
      "PROJECT RESULTS (FD_RES):      /data/reddylab/Kuei/repo/Proj_CombEffect_ENCODE_FCC/results\n",
      "PROJECT SCRIPTS (FD_EXE):      /data/reddylab/Kuei/repo/Proj_CombEffect_ENCODE_FCC/scripts\n",
      "PROJECT DATA    (FD_DAT):      /data/reddylab/Kuei/repo/Proj_CombEffect_ENCODE_FCC/data\n",
      "PROJECT NOTE    (FD_NBK):      /data/reddylab/Kuei/repo/Proj_CombEffect_ENCODE_FCC/notebooks\n",
      "PROJECT DOCS    (FD_DOC):      /data/reddylab/Kuei/repo/Proj_CombEffect_ENCODE_FCC/docs\n",
      "PROJECT LOG     (FD_LOG):      /data/reddylab/Kuei/repo/Proj_CombEffect_ENCODE_FCC/log\n",
      "PROJECT APP     (FD_APP):      /data/reddylab/Kuei/repo/Proj_CombEffect_ENCODE_FCC/app\n",
      "PROJECT REF     (FD_REF):      /data/reddylab/Kuei/repo/Proj_CombEffect_ENCODE_FCC/references\n",
      "PROJECT IMAGE   (FP_PRJ_SIF):  /data/reddylab/Kuei/repo/Proj_CombEffect_ENCODE_FCC/app/singularity_proj_encode_fcc.sif\n",
      "\n"
     ]
    }
   ],
   "source": [
    "source ../run_config_project.sh\n",
    "show_env"
   ]
  },
  {
   "cell_type": "code",
   "execution_count": 2,
   "id": "1cbf1e43-e1a1-48a6-89d4-8f9e43d195e8",
   "metadata": {},
   "outputs": [
    {
     "name": "stdout",
     "output_type": "stream",
     "text": [
      "\n",
      "  Usage:   quarto \n",
      "  Version: 1.3.433\n",
      "\n",
      "  Description:\n",
      "\n",
      "    Quarto CLI\n",
      "\n",
      "  Options:\n",
      "\n",
      "    -h, --help     - Show this help.                            \n",
      "    -V, --version  - Show the version number for this program.  \n",
      "\n",
      "  Commands:\n",
      "\n",
      "    render          [input] [args...]     - Render files or projects to various document types.        \n",
      "    preview         [file] [args...]      - Render and preview a document or website project.          \n",
      "    serve           [input]               - Serve a Shiny interactive document.                        \n",
      "    create          [type] [commands...]  - Create a Quarto project or extension                       \n",
      "    create-project  [dir]                 - Create a project for rendering multiple documents          \n",
      "    convert         <input>               - Convert documents to alternate representations.            \n",
      "    pandoc          [args...]             - Run the version of Pandoc embedded within Quarto.          \n",
      "    run             [script] [args...]    - Run a TypeScript, R, Python, or Lua script.                \n",
      "    add             <extension>           - Add an extension to this folder or project                 \n",
      "    install         [target...]           - Installs an extension or global dependency.                \n",
      "    publish         [provider] [path]     - Publish a document or project. Available providers include:\n",
      "    check           [target]              - Verify correct functioning of Quarto installation.         \n",
      "    help            [command]             - Show this help or the help of a sub-command.               \n",
      "\n"
     ]
    }
   ],
   "source": [
    "${FD_EXE}/sing_quarto.sh quarto --help"
   ]
  },
  {
   "cell_type": "code",
   "execution_count": 7,
   "id": "96e2eefe-abf2-4352-9856-47e310937b09",
   "metadata": {},
   "outputs": [
    {
     "name": "stdout",
     "output_type": "stream",
     "text": [
      "[1/9] report.qmd\u001b[39m\u001b[22m\n",
      "[2/9] results.qmd\u001b[39m\u001b[22m\n",
      "[3/9] about.qmd\u001b[39m\u001b[22m\n",
      "[4/9] notebooks/test/test_notebook.ipynb\u001b[39m\u001b[22m\n",
      "[5/9] notebooks/01_data_download/region_ocr_02_run_download_data_SH.ipynb\u001b[39m\u001b[22m\n",
      "[6/9] notebooks/01_data_download/region_ocr_01_create_download_script_R.ipynb\u001b[39m\u001b[22m\n",
      "[7/9] analyses.qmd\u001b[39m\u001b[22m\n",
      "[8/9] data.qmd\u001b[39m\u001b[22m\n",
      "[9/9] index.qmd\u001b[39m\u001b[22m\n",
      "\n",
      "Output created: docs/index.html\n",
      "\n"
     ]
    }
   ],
   "source": [
    "cd ${FD_PRJ}/site\n",
    "${FD_EXE}/sing_quarto.sh quarto render"
   ]
  },
  {
   "cell_type": "code",
   "execution_count": 8,
   "id": "ca7a5661-847f-40cc-89bf-531897111f77",
   "metadata": {},
   "outputs": [
    {
     "name": "stdout",
     "output_type": "stream",
     "text": [
      "docs/\n",
      "docs/index.html\n",
      "docs/styles.css\n",
      "docs/notebooks/\n",
      "docs/notebooks/test/\n",
      "docs/notebooks/test/test_notebook.html\n",
      "docs/notebooks/test/test_notebook_files/\n",
      "docs/notebooks/test/test_notebook_files/figure-html/\n",
      "docs/notebooks/test/test_notebook_files/figure-html/cell-4-output-1.png\n",
      "docs/notebooks/01_data_download/\n",
      "docs/notebooks/01_data_download/region_ocr_02_run_download_data_SH.html\n",
      "docs/notebooks/01_data_download/region_ocr_01_create_download_script_R.html\n",
      "docs/figure/\n",
      "docs/figure/01_introduction/\n",
      "docs/figure/01_introduction/fig_fcc_intro_data.png\n",
      "docs/figure/01_introduction/fig_fcc_trackplots.png\n",
      "docs/figure/01_introduction/fig_fcc_intro_assays.png\n",
      "docs/report.html\n",
      "docs/results.html\n",
      "docs/search.json\n",
      "docs/site_libs/\n",
      "docs/site_libs/quarto-html/\n",
      "docs/site_libs/quarto-html/tippy.css\n",
      "docs/site_libs/quarto-html/anchor.min.js\n",
      "docs/site_libs/quarto-html/tippy.umd.min.js\n",
      "docs/site_libs/quarto-html/popper.min.js\n",
      "docs/site_libs/quarto-html/quarto-syntax-highlighting.css\n",
      "docs/site_libs/quarto-html/quarto.js\n",
      "docs/site_libs/bootstrap/\n",
      "docs/site_libs/bootstrap/bootstrap.min.css\n",
      "docs/site_libs/bootstrap/bootstrap-icons.woff\n",
      "docs/site_libs/bootstrap/bootstrap-icons.css\n",
      "docs/site_libs/bootstrap/bootstrap.min.js\n",
      "docs/site_libs/quarto-nav/\n",
      "docs/site_libs/quarto-nav/headroom.min.js\n",
      "docs/site_libs/quarto-nav/quarto-nav.js\n",
      "docs/site_libs/quarto-search/\n",
      "docs/site_libs/quarto-search/fuse.min.js\n",
      "docs/site_libs/quarto-search/autocomplete.umd.js\n",
      "docs/site_libs/quarto-search/quarto-search.js\n",
      "docs/site_libs/clipboard/\n",
      "docs/site_libs/clipboard/clipboard.min.js\n",
      "docs/about.html\n",
      "docs/analyses.html\n",
      "docs/data.html\n"
     ]
    }
   ],
   "source": [
    "cd ${FD_PRJ}/site\n",
    "tar -czvf docs.tar.gz docs/"
   ]
  },
  {
   "cell_type": "code",
   "execution_count": 6,
   "id": "efbe6c1e-223e-4000-9146-15fea3a74cb0",
   "metadata": {},
   "outputs": [],
   "source": [
    "rm -rf ${FD_PRJ}/docs\n",
    "cp -R ${FD_PRJ}/site/docs ${FD_PRJ}"
   ]
  },
  {
   "cell_type": "code",
   "execution_count": null,
   "id": "56657172-4c19-4b79-8d05-cc32915f60f8",
   "metadata": {},
   "outputs": [],
   "source": []
  }
 ],
 "metadata": {
  "kernelspec": {
   "display_name": "Bash",
   "language": "bash",
   "name": "bash"
  },
  "language_info": {
   "codemirror_mode": "shell",
   "file_extension": ".sh",
   "mimetype": "text/x-sh",
   "name": "bash"
  }
 },
 "nbformat": 4,
 "nbformat_minor": 5
}
