{
 "cells": [
  {
   "cell_type": "markdown",
   "id": "d5ecb906-b22d-493c-b69d-11128187b2c0",
   "metadata": {},
   "source": [
    "**Set environment**"
   ]
  },
  {
   "cell_type": "code",
   "execution_count": 1,
   "id": "35558fc4-807d-4d0d-8c42-06f3edca2751",
   "metadata": {},
   "outputs": [
    {
     "name": "stdout",
     "output_type": "stream",
     "text": [
      "You are working on             Duke Server: HARDAC\n",
      "BASE DIRECTORY (FD_BASE):      /data/reddylab/Kuei\n",
      "REPO DIRECTORY (FD_REPO):      /data/reddylab/Kuei/repo\n",
      "WORK DIRECTORY (FD_WORK):      /data/reddylab/Kuei/work\n",
      "DATA DIRECTORY (FD_DATA):      /data/reddylab/Kuei/data\n",
      "CONTAINER DIR. (FD_SING):      /data/reddylab/Kuei/container\n",
      "\n",
      "You are working with           ENCODE FCC\n",
      "PATH OF PROJECT (FD_PRJ):      /data/reddylab/Kuei/repo/Proj_ENCODE_FCC\n",
      "PROJECT RESULTS (FD_RES):      /data/reddylab/Kuei/repo/Proj_ENCODE_FCC/results\n",
      "PROJECT SCRIPTS (FD_EXE):      /data/reddylab/Kuei/repo/Proj_ENCODE_FCC/scripts\n",
      "PROJECT DATA    (FD_DAT):      /data/reddylab/Kuei/repo/Proj_ENCODE_FCC/data\n",
      "PROJECT NOTE    (FD_NBK):      /data/reddylab/Kuei/repo/Proj_ENCODE_FCC/notebooks\n",
      "PROJECT DOCS    (FD_DOC):      /data/reddylab/Kuei/repo/Proj_ENCODE_FCC/docs\n",
      "PROJECT LOG     (FD_LOG):      /data/reddylab/Kuei/repo/Proj_ENCODE_FCC/log\n",
      "PROJECT APP     (FD_APP):      \n",
      "PROJECT REF     (FD_REF):      /data/reddylab/Kuei/repo/Proj_ENCODE_FCC/references\n",
      "PROJECT IMAGE   (FP_PRJ_SIF):  /data/reddylab/Kuei/container/project/singularity_proj_encode_fcc.sif\n",
      "\n"
     ]
    }
   ],
   "source": [
    "source ../run_config_project.sh\n",
    "show_env"
   ]
  },
  {
   "cell_type": "markdown",
   "id": "61002de5-41a3-477b-b360-6197707329ab",
   "metadata": {},
   "source": [
    "**Check script**"
   ]
  },
  {
   "cell_type": "code",
   "execution_count": 2,
   "id": "1cbf1e43-e1a1-48a6-89d4-8f9e43d195e8",
   "metadata": {},
   "outputs": [
    {
     "name": "stdout",
     "output_type": "stream",
     "text": [
      "\n",
      "  Usage:   quarto \n",
      "  Version: 1.3.433\n",
      "\n",
      "  Description:\n",
      "\n",
      "    Quarto CLI\n",
      "\n",
      "  Options:\n",
      "\n",
      "    -h, --help     - Show this help.                            \n",
      "    -V, --version  - Show the version number for this program.  \n",
      "\n",
      "  Commands:\n",
      "\n",
      "    render          [input] [args...]     - Render files or projects to various document types.        \n",
      "    preview         [file] [args...]      - Render and preview a document or website project.          \n",
      "    serve           [input]               - Serve a Shiny interactive document.                        \n",
      "    create          [type] [commands...]  - Create a Quarto project or extension                       \n",
      "    create-project  [dir]                 - Create a project for rendering multiple documents          \n",
      "    convert         <input>               - Convert documents to alternate representations.            \n",
      "    pandoc          [args...]             - Run the version of Pandoc embedded within Quarto.          \n",
      "    run             [script] [args...]    - Run a TypeScript, R, Python, or Lua script.                \n",
      "    add             <extension>           - Add an extension to this folder or project                 \n",
      "    install         [target...]           - Installs an extension or global dependency.                \n",
      "    publish         [provider] [path]     - Publish a document or project. Available providers include:\n",
      "    check           [target]              - Verify correct functioning of Quarto installation.         \n",
      "    help            [command]             - Show this help or the help of a sub-command.               \n",
      "\n"
     ]
    }
   ],
   "source": [
    "${FD_EXE}/sing_quarto.sh quarto --help"
   ]
  },
  {
   "cell_type": "code",
   "execution_count": 22,
   "id": "53390fd6-7596-4f0e-832e-73b5dee28bf5",
   "metadata": {},
   "outputs": [
    {
     "name": "stdout",
     "output_type": "stream",
     "text": [
      "\u001b[0m\u001b[38;5;27m01_setup\u001b[0m  \u001b[38;5;27m02_prepare\u001b[0m  \u001b[38;5;27mtest\u001b[0m\n"
     ]
    }
   ],
   "source": [
    "ls ${FD_PRJ}/site/notebooks"
   ]
  },
  {
   "cell_type": "markdown",
   "id": "cd1d9bb1-cde9-4af1-b893-ad042b54b234",
   "metadata": {},
   "source": [
    "**Build site**"
   ]
  },
  {
   "cell_type": "code",
   "execution_count": null,
   "id": "96e2eefe-abf2-4352-9856-47e310937b09",
   "metadata": {},
   "outputs": [
    {
     "name": "stdout",
     "output_type": "stream",
     "text": [
      "[ 1/62] report.qmd\u001b[39m\u001b[22m\n",
      "[ 2/62] 12_fcc_coverage/03_region_ocr_tmpra.qmd\u001b[39m\u001b[22m\n",
      "[ 3/62] 12_fcc_coverage/02_region_ocr_wstarr.qmd\u001b[39m\u001b[22m\n",
      "[ 4/62] 12_fcc_coverage/05_region_ocr_crispri_hcrff.qmd\u001b[39m\u001b[22m\n",
      "[ 5/62] 12_fcc_coverage/04_region_ocr_lmpra.qmd\u001b[39m\u001b[22m\n",
      "[ 6/62] 12_fcc_coverage/06_region_ocr_crispri_growth.qmd\u001b[39m\u001b[22m\n",
      "[ 7/62] 12_fcc_coverage/012_region_ocr_astarr_KS274.qmd\u001b[39m\u001b[22m\n",
      "[ 8/62] 12_fcc_coverage/011_region_ocr_astarr_KS91.qmd\u001b[39m\u001b[22m\n",
      "[ 9/62] results.qmd\u001b[39m\u001b[22m\n",
      "[10/62] 02_prepare/data_22_others.qmd\u001b[39m\u001b[22m\n",
      "[11/62] 02_prepare/data_11_chipseq.qmd\u001b[39m\u001b[22m\n",
      "[12/62] 02_prepare/data_12_chromatin_states.qmd\u001b[39m\u001b[22m\n",
      "[13/62] 02_prepare/data_01_fcc.qmd\u001b[39m\u001b[22m\n",
      "\u001b[31m\n",
      "\n",
      "processing file: data_01_fcc.qmd\n",
      "\u001b[39m1/7                              \n",
      "2/7 [Set environment]            \n",
      "3/7                              \n",
      "4/7 [FCC Metadata (WSTARR)]      \n",
      "5/7                              \n",
      "6/7 [FCC Region Screened (TMPRA)]\n",
      "7/7                              \n",
      "\u001b[31moutput file: data_01_fcc.knit.md\n",
      "\n",
      "[14/62] 02_prepare/data_21_peak_calling.qmd\u001b[39m\u001b[22m\n",
      "[15/62] 02_prepare/data_02_hic.qmd\u001b[39m\u001b[22m\n",
      "[16/62] about.qmd\u001b[39m\u001b[22m\n",
      "[17/62] notebooks/02_prepare/fcc_02_explore_data_STARR_TR_SH.ipynb\u001b[39m\u001b[22m\n",
      "[18/62] notebooks/02_prepare/fcc_14_convert_table_to_bed_R.ipynb\u001b[39m\u001b[22m\n",
      "[19/62] notebooks/02_prepare/fcc_01_acquire_data_STARR_TR_SH.ipynb\u001b[39m\u001b[22m\n",
      "[20/62] notebooks/02_prepare/fcc_04_export_metadata_STARR_TR_R.ipynb\u001b[39m\u001b[22m\n",
      "[21/62] notebooks/02_prepare/region_ocr_02_execute_download_data_SH.ipynb\u001b[39m\u001b[22m\n",
      "[22/62] notebooks/02_prepare/region_ocr_04_create_metadata_R.ipynb\u001b[39m\u001b[22m\n",
      "[23/62] notebooks/02_prepare/fcc_21_acquire_data_LMPRA_Vikram_SH.ipynb\u001b[39m\u001b[22m\n",
      "[24/62] notebooks/02_prepare/fcc_12_explore_data_TMPRA_Hannah_SH.ipynb\u001b[39m\u001b[22m\n",
      "[25/62] notebooks/02_prepare/fcc_15_liftover_TMPRA_OL13_SH.ipynb\u001b[39m\u001b[22m\n",
      "[26/62] notebooks/02_prepare/fcc_23_export_data_LMPRA_Vikram_R.ipynb\u001b[39m\u001b[22m\n",
      "[27/62] notebooks/02_prepare/region_ocr_03_prepare_data_SH.ipynb\u001b[39m\u001b[22m\n",
      "[28/62] notebooks/02_prepare/fcc_032_prepare_data_STARR_TR_KS274_SH.ipynb\u001b[39m\u001b[22m\n",
      "[29/62] notebooks/02_prepare/fcc_16_export_ranges_TMPRA_Hannah_R.ipynb\u001b[39m\u001b[22m\n",
      "[30/62] notebooks/02_prepare/fcc_22_explore_data_LMPRA_Vikram_R.ipynb\u001b[39m\u001b[22m\n",
      "[31/62] notebooks/02_prepare/fcc_031_prepare_data_STARR_TR_KS91_SH.ipynb\u001b[39m\u001b[22m\n"
     ]
    }
   ],
   "source": [
    "cd ${FD_PRJ}/site\n",
    "${FD_EXE}/sing_quarto.sh quarto render"
   ]
  },
  {
   "cell_type": "markdown",
   "id": "f52c988f-88b0-4c3c-b98b-fb7440c1412d",
   "metadata": {},
   "source": [
    "**Check site**"
   ]
  },
  {
   "cell_type": "code",
   "execution_count": null,
   "id": "ca7a5661-847f-40cc-89bf-531897111f77",
   "metadata": {},
   "outputs": [],
   "source": [
    "cd ${FD_PRJ}/site\n",
    "tar -czvf docs.tar.gz docs/"
   ]
  },
  {
   "cell_type": "code",
   "execution_count": null,
   "id": "ccbe73b0-3bba-4cad-891f-bcb081567639",
   "metadata": {},
   "outputs": [],
   "source": []
  },
  {
   "cell_type": "code",
   "execution_count": null,
   "id": "3ab1833f-bce2-4897-97d7-5eaf7229ad8c",
   "metadata": {},
   "outputs": [],
   "source": []
  },
  {
   "cell_type": "code",
   "execution_count": null,
   "id": "cb1e3cdd-b993-49f3-a166-a2d06c8686cb",
   "metadata": {},
   "outputs": [],
   "source": []
  },
  {
   "cell_type": "markdown",
   "id": "ae44b556-8272-4b7d-ae5d-00f27bf28780",
   "metadata": {},
   "source": [
    "**Update site**"
   ]
  },
  {
   "cell_type": "code",
   "execution_count": null,
   "id": "efbe6c1e-223e-4000-9146-15fea3a74cb0",
   "metadata": {},
   "outputs": [],
   "source": [
    "rm -rf ${FD_PRJ}/docs\n",
    "cp -R ${FD_PRJ}/site/docs ${FD_PRJ}"
   ]
  },
  {
   "cell_type": "code",
   "execution_count": null,
   "id": "15b77f84-89c1-4679-8838-bd119d823d44",
   "metadata": {},
   "outputs": [],
   "source": []
  }
 ],
 "metadata": {
  "kernelspec": {
   "display_name": "Bash",
   "language": "bash",
   "name": "bash"
  },
  "language_info": {
   "codemirror_mode": "shell",
   "file_extension": ".sh",
   "mimetype": "text/x-sh",
   "name": "bash"
  }
 },
 "nbformat": 4,
 "nbformat_minor": 5
}
