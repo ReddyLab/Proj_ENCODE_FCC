{
 "cells": [
  {
   "cell_type": "code",
   "execution_count": 1,
   "id": "325ddc98-05b8-4296-8cbc-872fed1b8e34",
   "metadata": {},
   "outputs": [
    {
     "name": "stdout",
     "output_type": "stream",
     "text": [
      "You are on Duke Server: HARDAC\n",
      "BASE DIRECTORY:     /gpfs/fs1/data/reddylab/Kuei\n",
      "PATH OF SOURCE:     /gpfs/fs1/data/reddylab/Kuei/source\n",
      "PATH OF EXECUTABLE: /gpfs/fs1/data/reddylab/Kuei/exe\n",
      "PATH OF ANNOTATION: /gpfs/fs1/data/reddylab/Kuei/annotation\n",
      "PATH OF PROJECT:    /gpfs/fs1/data/reddylab/Kuei/GitRepo/Proj_ENCODE_FCC/notebooks\n",
      "PATH OF RESULTS:    /gpfs/fs1/data/reddylab/Kuei/out/proj_encode_fcc\n",
      "\n"
     ]
    }
   ],
   "source": [
    "source ../config_duke.sh -v"
   ]
  },
  {
   "cell_type": "code",
   "execution_count": 5,
   "id": "aba07ecc-c7aa-41c8-b66f-9f2293b6ea47",
   "metadata": {},
   "outputs": [
    {
     "name": "stdout",
     "output_type": "stream",
     "text": [
      "\u001b[0m\u001b[38;5;27mKS91_K562_ASTARRseq\u001b[0m  \u001b[38;5;27mlog\u001b[0m  \u001b[38;5;27msource\u001b[0m  \u001b[38;5;27mTewhey_K562_TileMPRA\u001b[0m\n"
     ]
    }
   ],
   "source": [
    "ls ${FD_RES}"
   ]
  },
  {
   "cell_type": "code",
   "execution_count": 4,
   "id": "b3348bdf-74ff-4c1a-a1a8-9d97dba268ab",
   "metadata": {},
   "outputs": [
    {
     "name": "stdout",
     "output_type": "stream",
     "text": [
      "KS91_K562_hg38_ASTARRseq.GATA1.stranded.counts.txt\n",
      "KS91_K562_hg38_ASTARRseq.GATA1.unstranded.counts.txt\n",
      "KS91_K562_hg38_ASTARRseq_Input_rep1.masked.dups_marked.GATA1.fragment_counts.stranded.bed\n",
      "KS91_K562_hg38_ASTARRseq_Input_rep1.masked.dups_marked.GATA1.fragment_counts.unstranded.bed\n",
      "KS91_K562_hg38_ASTARRseq_Input_rep1.masked.dups_marked.MYC.fragment_counts.stranded.bed\n",
      "KS91_K562_hg38_ASTARRseq_Input_rep1.masked.dups_marked.MYC.fragment_counts.unstranded.bed\n",
      "KS91_K562_hg38_ASTARRseq_Input_rep2.masked.dups_marked.GATA1.fragment_counts.stranded.bed\n",
      "KS91_K562_hg38_ASTARRseq_Input_rep2.masked.dups_marked.GATA1.fragment_counts.unstranded.bed\n",
      "KS91_K562_hg38_ASTARRseq_Input_rep2.masked.dups_marked.MYC.fragment_counts.stranded.bed\n",
      "KS91_K562_hg38_ASTARRseq_Input_rep2.masked.dups_marked.MYC.fragment_counts.unstranded.bed\n",
      "KS91_K562_hg38_ASTARRseq_Input_rep3.masked.dups_marked.GATA1.fragment_counts.stranded.bed\n",
      "KS91_K562_hg38_ASTARRseq_Input_rep3.masked.dups_marked.GATA1.fragment_counts.unstranded.bed\n",
      "KS91_K562_hg38_ASTARRseq_Input_rep3.masked.dups_marked.MYC.fragment_counts.stranded.bed\n",
      "KS91_K562_hg38_ASTARRseq_Input_rep3.masked.dups_marked.MYC.fragment_counts.unstranded.bed\n",
      "KS91_K562_hg38_ASTARRseq_Input_rep4.masked.dups_marked.GATA1.fragment_counts.stranded.bed\n",
      "KS91_K562_hg38_ASTARRseq_Input_rep4.masked.dups_marked.GATA1.fragment_counts.unstranded.bed\n",
      "KS91_K562_hg38_ASTARRseq_Input_rep4.masked.dups_marked.MYC.fragment_counts.stranded.bed\n",
      "KS91_K562_hg38_ASTARRseq_Input_rep4.masked.dups_marked.MYC.fragment_counts.unstranded.bed\n",
      "KS91_K562_hg38_ASTARRseq_Input_rep5.masked.dups_marked.GATA1.fragment_counts.stranded.bed\n",
      "KS91_K562_hg38_ASTARRseq_Input_rep5.masked.dups_marked.GATA1.fragment_counts.unstranded.bed\n",
      "KS91_K562_hg38_ASTARRseq_Input_rep5.masked.dups_marked.MYC.fragment_counts.stranded.bed\n",
      "KS91_K562_hg38_ASTARRseq_Input_rep5.masked.dups_marked.MYC.fragment_counts.unstranded.bed\n",
      "KS91_K562_hg38_ASTARRseq_Input_rep6.masked.dups_marked.GATA1.fragment_counts.stranded.bed\n",
      "KS91_K562_hg38_ASTARRseq_Input_rep6.masked.dups_marked.GATA1.fragment_counts.unstranded.bed\n",
      "KS91_K562_hg38_ASTARRseq_Input_rep6.masked.dups_marked.MYC.fragment_counts.stranded.bed\n",
      "KS91_K562_hg38_ASTARRseq_Input_rep6.masked.dups_marked.MYC.fragment_counts.unstranded.bed\n",
      "KS91_K562_hg38_ASTARRseq.MYC.stranded.counts.txt\n",
      "KS91_K562_hg38_ASTARRseq.MYC.unstranded.counts.txt\n",
      "KS91_K562_hg38_ASTARRseq_Output_rep1.f3q10.sorted.with_umis.dups_marked.GATA1.fragment_counts.stranded.bed\n",
      "KS91_K562_hg38_ASTARRseq_Output_rep1.f3q10.sorted.with_umis.dups_marked.GATA1.fragment_counts.unstranded.bed\n",
      "KS91_K562_hg38_ASTARRseq_Output_rep1.f3q10.sorted.with_umis.dups_marked.MYC.fragment_counts.stranded.bed\n",
      "KS91_K562_hg38_ASTARRseq_Output_rep1.f3q10.sorted.with_umis.dups_marked.MYC.fragment_counts.unstranded.bed\n",
      "KS91_K562_hg38_ASTARRseq_Output_rep2.f3q10.sorted.with_umis.dups_marked.GATA1.fragment_counts.stranded.bed\n",
      "KS91_K562_hg38_ASTARRseq_Output_rep2.f3q10.sorted.with_umis.dups_marked.GATA1.fragment_counts.unstranded.bed\n",
      "KS91_K562_hg38_ASTARRseq_Output_rep2.f3q10.sorted.with_umis.dups_marked.MYC.fragment_counts.stranded.bed\n",
      "KS91_K562_hg38_ASTARRseq_Output_rep2.f3q10.sorted.with_umis.dups_marked.MYC.fragment_counts.unstranded.bed\n",
      "KS91_K562_hg38_ASTARRseq_Output_rep3.f3q10.sorted.with_umis.dups_marked.GATA1.fragment_counts.stranded.bed\n",
      "KS91_K562_hg38_ASTARRseq_Output_rep3.f3q10.sorted.with_umis.dups_marked.GATA1.fragment_counts.unstranded.bed\n",
      "KS91_K562_hg38_ASTARRseq_Output_rep3.f3q10.sorted.with_umis.dups_marked.MYC.fragment_counts.stranded.bed\n",
      "KS91_K562_hg38_ASTARRseq_Output_rep3.f3q10.sorted.with_umis.dups_marked.MYC.fragment_counts.unstranded.bed\n",
      "KS91_K562_hg38_ASTARRseq_Output_rep4.f3q10.sorted.with_umis.dups_marked.GATA1.fragment_counts.stranded.bed\n",
      "KS91_K562_hg38_ASTARRseq_Output_rep4.f3q10.sorted.with_umis.dups_marked.GATA1.fragment_counts.unstranded.bed\n",
      "KS91_K562_hg38_ASTARRseq_Output_rep4.f3q10.sorted.with_umis.dups_marked.MYC.fragment_counts.stranded.bed\n",
      "KS91_K562_hg38_ASTARRseq_Output_rep4.f3q10.sorted.with_umis.dups_marked.MYC.fragment_counts.unstranded.bed\n"
     ]
    }
   ],
   "source": [
    "ls ${FD_RES}/source/starrseq"
   ]
  },
  {
   "cell_type": "code",
   "execution_count": 7,
   "id": "4bdefa4a-df32-4334-ab28-cadb81df324c",
   "metadata": {},
   "outputs": [
    {
     "name": "stdout",
     "output_type": "stream",
     "text": [
      "chrX\t47787165\t47787363\tchrX_47787165_47787363\n",
      "chrX\t47787557\t47787773\tchrX_47787557_47787773\n",
      "chrX\t47787593\t47787783\tchrX_47787593_47787783\n",
      "chrX\t47787598\t47787772\tchrX_47787598_47787772\n",
      "chrX\t47787661\t47788058\tchrX_47787661_47788058\n",
      "chrX\t47787743\t47787849\tchrX_47787743_47787849\n",
      "chrX\t47787998\t47788231\tchrX_47787998_47788231\n",
      "chrX\t47788008\t47788157\tchrX_47788008_47788157\n",
      "chrX\t47788008\t47788181\tchrX_47788008_47788181\n",
      "chrX\t47788140\t47788547\tchrX_47788140_47788547\n"
     ]
    }
   ],
   "source": [
    "FD_INP=${FD_RES}/source/starrseq\n",
    "FN_INP=KS91_K562_hg38_ASTARRseq_Input_rep1.masked.dups_marked.GATA1.fragment_counts.unstranded.bed\n",
    "\n",
    "FD_OUT=${FD_RES}/KS91_K562_ASTARRseq/fragment\n",
    "FN_OUT=KS91_K562_hg38_ASTARRseq_Input_rep1.GATA1.unstranded.dedups.bed\n",
    "\n",
    "head ${FD_INP}/${FN_INP} | awk -v OFS='\\t' {'print $1, $2, $3, $4'}"
   ]
  },
  {
   "cell_type": "code",
   "execution_count": null,
   "id": "1685e718-cd5d-472f-a0c2-f59c8a55c3b6",
   "metadata": {},
   "outputs": [
    {
     "name": "stdout",
     "output_type": "stream",
     "text": [
      "Submitted batch job 27843675\n"
     ]
    }
   ],
   "source": [
    "sbatch -p ${NODE} \\\n",
    "    --mem 8G \\\n",
    "    --array 1-6 \\\n",
    "    -o ${FD_LOG}/ASTARR_count2fragment_input.%a.txt \\\n",
    "    <<'EOF'\n",
    "#!/bin/bash\n",
    "### set directories & global variables\n",
    "source ../config_duke.sh\n",
    "SAMPLE=Input\n",
    "REPLICATE=rep${SLURM_ARRAY_TASK_ID}\n",
    "\n",
    "### set input and output\n",
    "FD_INP=${FD_RES}/source/starrseq\n",
    "FD_OUT=${FD_RES}/KS91_K562_ASTARRseq/fragment\n",
    "\n",
    "FN_INP=KS91_K562_hg38_ASTARRseq_${SAMPLE}_${REPLICATE}.masked.dups_marked.GATA1.fragment_counts.unstranded.bed\n",
    "FN_OUT=KS91_K562_hg38_ASTARRseq_${SAMPLE}_${REPLICATE}.GATA1.unstranded.dedups.bed\n",
    "\n",
    "### print start message\n",
    "timer_start=`date +%s`\n",
    "echo \"Slurm Array Index: \" ${SLURM_ARRAY_TASK_ID}\n",
    "echo \"Time Stamp:        \" $(date +\"%m-%d-%y+%T\")\n",
    "echo\n",
    "\n",
    "### execution\n",
    "cat ${FD_INP}/${FN_INP} | awk -v OFS='\\t' {'print $1, $2, $3, $4'} > ${FD_OUT}/${FN_OUT}\n",
    "\n",
    "### print end message\n",
    "timer=`date +%s`\n",
    "runtime=$(echo \"${timer} - ${timer_start}\" | bc -l)\n",
    "echo\n",
    "echo 'Done!'\n",
    "echo \"Run Time: $(displaytime ${runtime})\"\n",
    "\n",
    "EOF"
   ]
  },
  {
   "cell_type": "code",
   "execution_count": null,
   "id": "c58fe553-2121-4890-8dc9-d96e30a60537",
   "metadata": {},
   "outputs": [
    {
     "name": "stdout",
     "output_type": "stream",
     "text": [
      "Slurm Array Index:  1\n",
      "Time Stamp:         03-21-22+14:07:23\n",
      "\n",
      "\n",
      "Done!\n",
      "Run Time: 1 seconds\n",
      "Slurm Array Index:  2\n",
      "Time Stamp:         03-21-22+14:07:23\n",
      "\n",
      "\n",
      "Done!\n",
      "Run Time: 1 seconds\n",
      "Slurm Array Index:  3\n",
      "Time Stamp:         03-21-22+14:07:24\n",
      "\n",
      "\n",
      "Done!\n",
      "Run Time: 0 seconds\n",
      "Slurm Array Index:  4\n",
      "Time Stamp:         03-21-22+14:07:23\n",
      "\n",
      "\n",
      "Done!\n",
      "Run Time: 1 seconds\n",
      "Slurm Array Index:  5\n",
      "Time Stamp:         03-21-22+14:07:23\n",
      "\n",
      "\n",
      "Done!\n",
      "Run Time: 1 seconds\n",
      "Slurm Array Index:  6\n",
      "Time Stamp:         03-21-22+14:07:24\n",
      "\n",
      "\n",
      "Done!\n",
      "Run Time: 0 seconds\n"
     ]
    }
   ],
   "source": [
    "cat ${FD_LOG}/ASTARR_count2fragment_input.*.txt"
   ]
  },
  {
   "cell_type": "code",
   "execution_count": null,
   "id": "14665287-6626-4e37-a098-edd31b28dee4",
   "metadata": {},
   "outputs": [
    {
     "name": "stdout",
     "output_type": "stream",
     "text": [
      "chrX\t47787165\t47787363\tchrX_47787165_47787363\n",
      "chrX\t47787557\t47787773\tchrX_47787557_47787773\n",
      "chrX\t47787593\t47787783\tchrX_47787593_47787783\n",
      "chrX\t47787598\t47787772\tchrX_47787598_47787772\n",
      "chrX\t47787661\t47788058\tchrX_47787661_47788058\n",
      "chrX\t47787743\t47787849\tchrX_47787743_47787849\n",
      "chrX\t47787998\t47788231\tchrX_47787998_47788231\n",
      "chrX\t47788008\t47788157\tchrX_47788008_47788157\n",
      "chrX\t47788008\t47788181\tchrX_47788008_47788181\n",
      "chrX\t47788140\t47788547\tchrX_47788140_47788547\n"
     ]
    }
   ],
   "source": [
    "FD_OUT=${FD_RES}/KS91_K562_ASTARRseq/fragment\n",
    "FN_OUT=KS91_K562_hg38_ASTARRseq_Input_rep1.GATA1.unstranded.dedups.bed\n",
    "head ${FD_OUT}/${FN_OUT}"
   ]
  },
  {
   "cell_type": "code",
   "execution_count": null,
   "id": "6557f5ef-4d7d-40f3-9160-2f06cd070abc",
   "metadata": {},
   "outputs": [],
   "source": []
  }
 ],
 "metadata": {
  "kernelspec": {
   "display_name": "Bash",
   "language": "bash",
   "name": "bash"
  },
  "language_info": {
   "codemirror_mode": "shell",
   "file_extension": ".sh",
   "mimetype": "text/x-sh",
   "name": "bash"
  }
 },
 "nbformat": 4,
 "nbformat_minor": 5
}
