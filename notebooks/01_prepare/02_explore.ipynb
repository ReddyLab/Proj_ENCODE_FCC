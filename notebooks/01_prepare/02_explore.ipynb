{
 "cells": [
  {
   "cell_type": "markdown",
   "id": "39b4506c",
   "metadata": {},
   "source": [
    "**Set environment**"
   ]
  },
  {
   "cell_type": "code",
   "execution_count": 28,
   "id": "5f2e9543",
   "metadata": {},
   "outputs": [],
   "source": [
    "source ../config_sing.sh -v"
   ]
  },
  {
   "cell_type": "code",
   "execution_count": 29,
   "id": "f069d2fc",
   "metadata": {},
   "outputs": [
    {
     "name": "stdout",
     "output_type": "stream",
     "text": [
      "/mount/work/out/proj_encode_fcc\n"
     ]
    }
   ],
   "source": [
    "echo ${FD_RES}"
   ]
  },
  {
   "cell_type": "code",
   "execution_count": 30,
   "id": "34ed6a21",
   "metadata": {},
   "outputs": [
    {
     "name": "stdout",
     "output_type": "stream",
     "text": [
      "KS91_K562_ASTARRseq  log  source  Tewhey_K562_TileMPRA\n"
     ]
    }
   ],
   "source": [
    "ls ${FD_RES}"
   ]
  },
  {
   "cell_type": "code",
   "execution_count": 4,
   "id": "c6cbda80",
   "metadata": {},
   "outputs": [
    {
     "name": "stdout",
     "output_type": "stream",
     "text": [
      "ENCFF348WYK.Ahituv.lentiMPRA.MYC.bed\n",
      "ENCFF348WYK.bed\n",
      "ENCFF348WYK.GATA1.bed\n",
      "ENCFF348WYK.MYC.bed\n",
      "files_to_upload.tsv\n",
      "GATA-MYC_Tile_K562_K562_20210130.hg38.bed\n",
      "GATA-MYC_Tile_K562_K562_20210130.hg38.cleaned.bed\n",
      "GATA-MYC_Tile_K562_K562_20210130.hg38.cleaned.GATA1.bed\n",
      "GATA-MYC_Tile_K562_K562_20210130.hg38.cleaned.GATA1.in_astarr_de_frags.bed\n",
      "GATA-MYC_Tile_K562_K562_20210130.hg38.cleaned.MYC.bed\n"
     ]
    }
   ],
   "source": [
    "ls ${FD_RES}/source/mpra"
   ]
  },
  {
   "cell_type": "code",
   "execution_count": 5,
   "id": "d8f092b4",
   "metadata": {},
   "outputs": [
    {
     "name": "stdout",
     "output_type": "stream",
     "text": [
      "KS91_K562_hg38_ASTARRseq.GATA1.stranded.counts.txt\n",
      "KS91_K562_hg38_ASTARRseq.GATA1.unstranded.counts.txt\n",
      "KS91_K562_hg38_ASTARRseq_Input_rep1.masked.dups_marked.GATA1.fragment_counts.stranded.bed\n",
      "KS91_K562_hg38_ASTARRseq_Input_rep1.masked.dups_marked.GATA1.fragment_counts.unstranded.bed\n",
      "KS91_K562_hg38_ASTARRseq_Input_rep1.masked.dups_marked.MYC.fragment_counts.stranded.bed\n",
      "KS91_K562_hg38_ASTARRseq_Input_rep1.masked.dups_marked.MYC.fragment_counts.unstranded.bed\n",
      "KS91_K562_hg38_ASTARRseq_Input_rep2.masked.dups_marked.GATA1.fragment_counts.stranded.bed\n",
      "KS91_K562_hg38_ASTARRseq_Input_rep2.masked.dups_marked.GATA1.fragment_counts.unstranded.bed\n",
      "KS91_K562_hg38_ASTARRseq_Input_rep2.masked.dups_marked.MYC.fragment_counts.stranded.bed\n",
      "KS91_K562_hg38_ASTARRseq_Input_rep2.masked.dups_marked.MYC.fragment_counts.unstranded.bed\n",
      "KS91_K562_hg38_ASTARRseq_Input_rep3.masked.dups_marked.GATA1.fragment_counts.stranded.bed\n",
      "KS91_K562_hg38_ASTARRseq_Input_rep3.masked.dups_marked.GATA1.fragment_counts.unstranded.bed\n",
      "KS91_K562_hg38_ASTARRseq_Input_rep3.masked.dups_marked.MYC.fragment_counts.stranded.bed\n",
      "KS91_K562_hg38_ASTARRseq_Input_rep3.masked.dups_marked.MYC.fragment_counts.unstranded.bed\n",
      "KS91_K562_hg38_ASTARRseq_Input_rep4.masked.dups_marked.GATA1.fragment_counts.stranded.bed\n",
      "KS91_K562_hg38_ASTARRseq_Input_rep4.masked.dups_marked.GATA1.fragment_counts.unstranded.bed\n",
      "KS91_K562_hg38_ASTARRseq_Input_rep4.masked.dups_marked.MYC.fragment_counts.stranded.bed\n",
      "KS91_K562_hg38_ASTARRseq_Input_rep4.masked.dups_marked.MYC.fragment_counts.unstranded.bed\n",
      "KS91_K562_hg38_ASTARRseq_Input_rep5.masked.dups_marked.GATA1.fragment_counts.stranded.bed\n",
      "KS91_K562_hg38_ASTARRseq_Input_rep5.masked.dups_marked.GATA1.fragment_counts.unstranded.bed\n",
      "KS91_K562_hg38_ASTARRseq_Input_rep5.masked.dups_marked.MYC.fragment_counts.stranded.bed\n",
      "KS91_K562_hg38_ASTARRseq_Input_rep5.masked.dups_marked.MYC.fragment_counts.unstranded.bed\n",
      "KS91_K562_hg38_ASTARRseq_Input_rep6.masked.dups_marked.GATA1.fragment_counts.stranded.bed\n",
      "KS91_K562_hg38_ASTARRseq_Input_rep6.masked.dups_marked.GATA1.fragment_counts.unstranded.bed\n",
      "KS91_K562_hg38_ASTARRseq_Input_rep6.masked.dups_marked.MYC.fragment_counts.stranded.bed\n",
      "KS91_K562_hg38_ASTARRseq_Input_rep6.masked.dups_marked.MYC.fragment_counts.unstranded.bed\n",
      "KS91_K562_hg38_ASTARRseq.MYC.stranded.counts.txt\n",
      "KS91_K562_hg38_ASTARRseq.MYC.unstranded.counts.txt\n",
      "KS91_K562_hg38_ASTARRseq_Output_rep1.f3q10.sorted.with_umis.dups_marked.GATA1.fragment_counts.stranded.bed\n",
      "KS91_K562_hg38_ASTARRseq_Output_rep1.f3q10.sorted.with_umis.dups_marked.GATA1.fragment_counts.unstranded.bed\n",
      "KS91_K562_hg38_ASTARRseq_Output_rep1.f3q10.sorted.with_umis.dups_marked.MYC.fragment_counts.stranded.bed\n",
      "KS91_K562_hg38_ASTARRseq_Output_rep1.f3q10.sorted.with_umis.dups_marked.MYC.fragment_counts.unstranded.bed\n",
      "KS91_K562_hg38_ASTARRseq_Output_rep2.f3q10.sorted.with_umis.dups_marked.GATA1.fragment_counts.stranded.bed\n",
      "KS91_K562_hg38_ASTARRseq_Output_rep2.f3q10.sorted.with_umis.dups_marked.GATA1.fragment_counts.unstranded.bed\n",
      "KS91_K562_hg38_ASTARRseq_Output_rep2.f3q10.sorted.with_umis.dups_marked.MYC.fragment_counts.stranded.bed\n",
      "KS91_K562_hg38_ASTARRseq_Output_rep2.f3q10.sorted.with_umis.dups_marked.MYC.fragment_counts.unstranded.bed\n",
      "KS91_K562_hg38_ASTARRseq_Output_rep3.f3q10.sorted.with_umis.dups_marked.GATA1.fragment_counts.stranded.bed\n",
      "KS91_K562_hg38_ASTARRseq_Output_rep3.f3q10.sorted.with_umis.dups_marked.GATA1.fragment_counts.unstranded.bed\n",
      "KS91_K562_hg38_ASTARRseq_Output_rep3.f3q10.sorted.with_umis.dups_marked.MYC.fragment_counts.stranded.bed\n",
      "KS91_K562_hg38_ASTARRseq_Output_rep3.f3q10.sorted.with_umis.dups_marked.MYC.fragment_counts.unstranded.bed\n",
      "KS91_K562_hg38_ASTARRseq_Output_rep4.f3q10.sorted.with_umis.dups_marked.GATA1.fragment_counts.stranded.bed\n",
      "KS91_K562_hg38_ASTARRseq_Output_rep4.f3q10.sorted.with_umis.dups_marked.GATA1.fragment_counts.unstranded.bed\n",
      "KS91_K562_hg38_ASTARRseq_Output_rep4.f3q10.sorted.with_umis.dups_marked.MYC.fragment_counts.stranded.bed\n",
      "KS91_K562_hg38_ASTARRseq_Output_rep4.f3q10.sorted.with_umis.dups_marked.MYC.fragment_counts.unstranded.bed\n"
     ]
    }
   ],
   "source": [
    "ls ${FD_RES}/source/starrseq"
   ]
  },
  {
   "cell_type": "markdown",
   "id": "0d39f796",
   "metadata": {},
   "source": [
    "## MPRA"
   ]
  },
  {
   "cell_type": "code",
   "execution_count": 17,
   "id": "e5f0de8c",
   "metadata": {},
   "outputs": [
    {
     "name": "stdout",
     "output_type": "stream",
     "text": [
      "chr\tstart\tstop\tid\tscore\tstrand\tlog2fc\tinput-count\toutput-count\tlog10pval\tlog10fdr\tlfc-se\n",
      "1\tNA\tNA\t1:10437778:C:T:R:wC\t.\t+\t2.38642090193675\t883.092934703281\t4616.08256005733\t106.737138191871\t105.572680362196\t0.108372623188431\n",
      "1\tNA\tNA\t1:10451799:C:T:R:wC\t.\t+\t0.163269738241717\t404.448967317715\t452.617975315935\t0.695386164226944\t0.506974721975921\t0.127869739155127\n",
      "1\tNA\tNA\t1:110198727:C:G:R:wC\t.\t+\t6.89424539341897\t310.545187848859\t36945.0097348854\tInf\tInf\t0.104426773888206\n",
      "1\tNA\tNA\t1:110881742:NA:NA\t.\t+\t5.22848485875197\t616.381200954704\t23111.0119614214\tInf\tInf\t0.0959084252416604\n",
      "1\tNA\tNA\t1:111838694:C:T:R:wC\t.\t+\t6.35937752212173\t322.74333240842\t26498.6022797483\tInf\tInf\t0.086444832956566\n",
      "1\tNA\tNA\t1:113047064:NA:NA\t.\t+\t0.11466895070617\t915.545423110096\t990.342692631558\t0.531636965525838\t0.377689908637539\t0.109274716168586\n",
      "1\tNA\tNA\t1:119063648:C:T:R:wC\t.\t+\t-0.267643729197052\t425.509782706038\t352.474171291422\t0.914512026836881\t0.685783680494351\t0.172958174820022\n",
      "1\tNA\tNA\t1:171893999:A:T:R:wC\t.\t+\t0.595625236142614\t723.096170889478\t1094.54535686017\t7.18072564066262\t6.58072499612539\t0.110263302544157\n",
      "1\tNA\tNA\t1:180811729:NA:NA\t.\t+\t0.159631235442215\t752.975856352507\t840.552978397217\t0.831434132608584\t0.617441385170644\t0.110189796054746\n"
     ]
    }
   ],
   "source": [
    "FDIRY=${FD_RES}/source/mpra\n",
    "FNAME=GATA-MYC_Tile_K562_K562_20210130.hg38.bed\n",
    "head ${FDIRY}/${FNAME}"
   ]
  },
  {
   "cell_type": "code",
   "execution_count": 18,
   "id": "ff9482d0",
   "metadata": {},
   "outputs": [
    {
     "name": "stdout",
     "output_type": "stream",
     "text": [
      "log2fc              input-count         output-count\n",
      "2.38642090193675    883.092934703281    4616.08256005733\n",
      "0.163269738241717   404.448967317715    452.617975315935\n"
     ]
    }
   ],
   "source": [
    "head -3 ${FDIRY}/${FNAME} | cut -f7-9 | expand -t 20"
   ]
  },
  {
   "cell_type": "code",
   "execution_count": 19,
   "id": "0ea9cc4f",
   "metadata": {},
   "outputs": [
    {
     "name": "stdout",
     "output_type": "stream",
     "text": [
      "2.3860318503197737\n"
     ]
    }
   ],
   "source": [
    "python -c 'import math; val = 4616.08256005733/883.092934703281; print(math.log2(val))'"
   ]
  },
  {
   "cell_type": "code",
   "execution_count": 20,
   "id": "7cb045f1",
   "metadata": {},
   "outputs": [
    {
     "name": "stdout",
     "output_type": "stream",
     "text": [
      "0.1623362037447741\n"
     ]
    }
   ],
   "source": [
    "python -c 'import math; val = 452.617975315935/404.448967317715; print(math.log2(val))'"
   ]
  },
  {
   "cell_type": "code",
   "execution_count": 31,
   "id": "2e306eba",
   "metadata": {},
   "outputs": [
    {
     "name": "stdout",
     "output_type": "stream",
     "text": [
      "chrX\t47786401\t47786600\tX:47786401-47786600\t.\t+\t2.30593934460149\t2117.78684083014\t10474.868702612\t112.11265261617\t110.931130790033\t0.102147903305184\n",
      "chrX\t47786451\t47786650\tX:47786451-47786650\t.\t+\t0.783056057422144\t1386.00739237509\t2387.11896574661\t11.3173883956403\t10.6425168461249\t0.113307047070907\n",
      "chrX\t47786501\t47786700\tX:47786501-47786700\t.\t+\t-0.128731962724311\t1955.62553108109\t1788.23614005802\t0.845069660219201\t0.628722618349189\t0.0878596785422427\n",
      "chrX\t47786551\t47786750\tX:47786551-47786750\t.\t+\t0.588295148181817\t2388.99664261419\t3591.26381774846\t11.2404554080035\t10.5666788666818\t0.0854366059937647\n",
      "chrX\t47786601\t47786800\tX:47786601-47786800\t.\t+\t0.0667001449192146\t2102.91633517956\t2202.38454860936\t0.309589962802377\t0.21047015199996\t0.096677408925751\n",
      "chrX\t47786651\t47786850\tX:47786651-47786850\t.\t+\t-0.0296770285855712\t1571.25883312174\t1537.47500511577\t0.10093990529751\t0.0645309864135248\t0.11287405577848\n",
      "chrX\t47786701\t47786900\tX:47786701-47786900\t.\t+\t-0.14075229487499\t1203.48578659625\t1091.84377528483\t0.825108335723858\t0.612237990840887\t0.0976771932403185\n",
      "chrX\t47786751\t47786950\tX:47786751-47786950\t.\t+\t-0.0885922350756983\t353.512101989425\t332.442633189546\t0.253160744492879\t0.1696398049799\t0.151330371648385\n",
      "chrX\t47786801\t47787000\tX:47786801-47787000\t.\t+\t0.0391523438172218\t579.598940974745\t594.330606996562\t0.0990177524483432\t0.0632252218092235\t0.151540085938414\n",
      "chrX\t47786851\t47787050\tX:47786851-47787050\t.\t+\t-0.180031837594759\t1441.753500779\t1272.18932724085\t0.993521192614518\t0.751361305586954\t0.109935692261477\n"
     ]
    }
   ],
   "source": [
    "FDIRY=${FD_RES}/source/mpra\n",
    "FNAME=GATA-MYC_Tile_K562_K562_20210130.hg38.cleaned.GATA1.bed\n",
    "head ${FDIRY}/${FNAME}"
   ]
  },
  {
   "cell_type": "code",
   "execution_count": 32,
   "id": "0694e02b",
   "metadata": {},
   "outputs": [
    {
     "name": "stdout",
     "output_type": "stream",
     "text": [
      "chrX\t49786101\t49786300\tX:49786101-49786300\t.\t+\t1.00044691392835\t777.498485442603\t1556.27647596262\t20.8693640680717\t20.0871617223577\t0.104805208063584\n",
      "chrX\t49786151\t49786350\tX:49786151-49786350\t.\t+\t0.463258989461307\t1131.94665336442\t1561.51778607375\t5.94061348023267\t5.37322275759384\t0.0952294544011986\n",
      "chrX\t49786201\t49786400\tX:49786201-49786400\t.\t+\t-0.284697009118311\t811.928202100054\t667.113550031747\t1.69518000986267\t1.35876571309246\t0.122551966734713\n",
      "chrX\t49786251\t49786450\tX:49786251-49786450\t.\t+\t0.017826375723575\t980.313531796834\t993.666648888676\t0.0575281222566952\t0.0359564211572375\t0.114180615228744\n",
      "chrX\t49786301\t49786500\tX:49786301-49786500\t.\t+\t-0.177277348353542\t428.27086866489\t379.09603564543\t0.639247729081037\t0.462659807104537\t0.147523446729482\n",
      "chrX\t49786351\t49786550\tX:49786351-49786550\t.\t+\t-0.216438806203308\t775.951388256382\t668.187036204817\t1.15377737323381\t0.886461299187744\t0.119530747868358\n",
      "chrX\t49786401\t49786600\tX:49786401-49786600\t.\t+\t0.179579212809932\t1556.61698399049\t1763.46720277119\t1.41506251996768\t1.11235867024363\t0.0867538236501367\n",
      "chrX\t49786451\t49786650\tX:49786451-49786650\t.\t+\t-0.37319242543987\t127.909914299581\t98.9610231872342\t0.88015718695034\t0.657605211336104\t0.24761834457407\n",
      "chrX\t49786501\t49786700\tX:49786501-49786700\t.\t+\t-0.489542789543221\t120.700808815634\t86.2353981554869\t1.04671720993347\t0.796026498296083\t0.28856952449479\n",
      "chrX\t49786551\t49786750\tX:49786551-49786750\t.\t+\t-0.271514802536649\t728.811675527209\t604.853952589693\t1.32249275006263\t1.03141711077191\t0.137058108860066\n"
     ]
    }
   ],
   "source": [
    "tail ${FDIRY}/${FNAME}"
   ]
  },
  {
   "cell_type": "code",
   "execution_count": 22,
   "id": "6a497643",
   "metadata": {},
   "outputs": [
    {
     "name": "stdout",
     "output_type": "stream",
     "text": [
      "2.30593934460149    2117.78684083014    10474.868702612\n",
      "0.783056057422144   1386.00739237509    2387.11896574661\n",
      "-0.128731962724311  1955.62553108109    1788.23614005802\n"
     ]
    }
   ],
   "source": [
    "head -3 ${FDIRY}/${FNAME} | cut -f7-9 | expand -t 20"
   ]
  },
  {
   "cell_type": "code",
   "execution_count": 23,
   "id": "663f273e",
   "metadata": {},
   "outputs": [
    {
     "name": "stdout",
     "output_type": "stream",
     "text": [
      "2.3063028687358345\n"
     ]
    }
   ],
   "source": [
    "python -c 'import math; val = 10474.868702612/2117.78684083014; print(math.log2(val))'"
   ]
  },
  {
   "cell_type": "code",
   "execution_count": 24,
   "id": "dc36c0ad",
   "metadata": {},
   "outputs": [
    {
     "name": "stdout",
     "output_type": "stream",
     "text": [
      "0.7843355149199273\n"
     ]
    }
   ],
   "source": [
    "python -c 'import math; val = 2387.11896574661/1386.00739237509; print(math.log2(val))'"
   ]
  },
  {
   "cell_type": "markdown",
   "id": "fe5ab0ca",
   "metadata": {},
   "source": [
    "## ASTARR"
   ]
  },
  {
   "cell_type": "code",
   "execution_count": 35,
   "id": "d53999e6",
   "metadata": {},
   "outputs": [
    {
     "name": "stdout",
     "output_type": "stream",
     "text": [
      "==> /mount/work/out/proj_encode_fcc/source/starrseq/KS91_K562_hg38_ASTARRseq_Input_rep1.masked.dups_marked.GATA1.fragment_counts.unstranded.bed <==\n",
      "chrX\t47787165\t47787363\tchrX_47787165_47787363\t1\t.\n",
      "chrX\t47787557\t47787773\tchrX_47787557_47787773\t2\t.\n",
      "chrX\t47787593\t47787783\tchrX_47787593_47787783\t1\t.\n",
      "\n",
      "==> /mount/work/out/proj_encode_fcc/source/starrseq/KS91_K562_hg38_ASTARRseq_Input_rep2.masked.dups_marked.GATA1.fragment_counts.unstranded.bed <==\n",
      "chrX\t47786508\t47786942\tchrX_47786508_47786942\t1\t.\n",
      "chrX\t47786758\t47787156\tchrX_47786758_47787156\t1\t.\n",
      "chrX\t47787231\t47787416\tchrX_47787231_47787416\t1\t.\n",
      "\n",
      "==> /mount/work/out/proj_encode_fcc/source/starrseq/KS91_K562_hg38_ASTARRseq_Input_rep3.masked.dups_marked.GATA1.fragment_counts.unstranded.bed <==\n",
      "chrX\t47787238\t47787404\tchrX_47787238_47787404\t1\t.\n",
      "chrX\t47787369\t47787598\tchrX_47787369_47787598\t1\t.\n",
      "chrX\t47787415\t47787608\tchrX_47787415_47787608\t1\t.\n",
      "\n",
      "==> /mount/work/out/proj_encode_fcc/source/starrseq/KS91_K562_hg38_ASTARRseq_Input_rep4.masked.dups_marked.GATA1.fragment_counts.unstranded.bed <==\n",
      "chrX\t47786963\t47787363\tchrX_47786963_47787363\t1\t.\n",
      "chrX\t47787449\t47787725\tchrX_47787449_47787725\t2\t.\n",
      "chrX\t47787479\t47788017\tchrX_47787479_47788017\t1\t.\n",
      "\n",
      "==> /mount/work/out/proj_encode_fcc/source/starrseq/KS91_K562_hg38_ASTARRseq_Input_rep5.masked.dups_marked.GATA1.fragment_counts.unstranded.bed <==\n",
      "chrX\t47787231\t47787416\tchrX_47787231_47787416\t1\t.\n",
      "chrX\t47787307\t47787576\tchrX_47787307_47787576\t1\t.\n",
      "chrX\t47787335\t47787693\tchrX_47787335_47787693\t1\t.\n",
      "\n",
      "==> /mount/work/out/proj_encode_fcc/source/starrseq/KS91_K562_hg38_ASTARRseq_Input_rep6.masked.dups_marked.GATA1.fragment_counts.unstranded.bed <==\n",
      "chrX\t47787593\t47787783\tchrX_47787593_47787783\t1\t.\n",
      "chrX\t47787596\t47787846\tchrX_47787596_47787846\t1\t.\n",
      "chrX\t47787601\t47787865\tchrX_47787601_47787865\t1\t.\n"
     ]
    }
   ],
   "source": [
    "FDIRY=${FD_RES}/source/starrseq\n",
    "FNAME=KS91_K562_hg38_ASTARRseq_Input_rep?.masked.dups_marked.GATA1.fragment_counts.unstranded.bed\n",
    "head -3 ${FDIRY}/${FNAME}"
   ]
  },
  {
   "cell_type": "code",
   "execution_count": 38,
   "id": "c6f7f6f2",
   "metadata": {},
   "outputs": [
    {
     "name": "stdout",
     "output_type": "stream",
     "text": [
      "==> /mount/work/out/proj_encode_fcc/source/starrseq/KS91_K562_hg38_ASTARRseq_Input_rep1.masked.dups_marked.GATA1.fragment_counts.unstranded.bed <==\n",
      "chrX\t49786343\t49786510\tchrX_49786343_49786510\t1\t.\n",
      "chrX\t49786423\t49786588\tchrX_49786423_49786588\t3\t.\n",
      "chrX\t49786428\t49786620\tchrX_49786428_49786620\t1\t.\n",
      "\n",
      "==> /mount/work/out/proj_encode_fcc/source/starrseq/KS91_K562_hg38_ASTARRseq_Input_rep2.masked.dups_marked.GATA1.fragment_counts.unstranded.bed <==\n",
      "chrX\t49786375\t49786482\tchrX_49786375_49786482\t1\t.\n",
      "chrX\t49786423\t49786588\tchrX_49786423_49786588\t1\t.\n",
      "chrX\t49786495\t49786637\tchrX_49786495_49786637\t2\t.\n",
      "\n",
      "==> /mount/work/out/proj_encode_fcc/source/starrseq/KS91_K562_hg38_ASTARRseq_Input_rep3.masked.dups_marked.GATA1.fragment_counts.unstranded.bed <==\n",
      "chrX\t49786423\t49786588\tchrX_49786423_49786588\t1\t.\n",
      "chrX\t49786428\t49786620\tchrX_49786428_49786620\t1\t.\n",
      "chrX\t49786432\t49786643\tchrX_49786432_49786643\t1\t.\n",
      "\n",
      "==> /mount/work/out/proj_encode_fcc/source/starrseq/KS91_K562_hg38_ASTARRseq_Input_rep4.masked.dups_marked.GATA1.fragment_counts.unstranded.bed <==\n",
      "chrX\t49786375\t49786482\tchrX_49786375_49786482\t1\t.\n",
      "chrX\t49786424\t49786582\tchrX_49786424_49786582\t1\t.\n",
      "chrX\t49786495\t49786637\tchrX_49786495_49786637\t1\t.\n",
      "\n",
      "==> /mount/work/out/proj_encode_fcc/source/starrseq/KS91_K562_hg38_ASTARRseq_Input_rep5.masked.dups_marked.GATA1.fragment_counts.unstranded.bed <==\n",
      "chrX\t49786366\t49786511\tchrX_49786366_49786511\t2\t.\n",
      "chrX\t49786377\t49786561\tchrX_49786377_49786561\t1\t.\n",
      "chrX\t49786423\t49786588\tchrX_49786423_49786588\t4\t.\n",
      "\n",
      "==> /mount/work/out/proj_encode_fcc/source/starrseq/KS91_K562_hg38_ASTARRseq_Input_rep6.masked.dups_marked.GATA1.fragment_counts.unstranded.bed <==\n",
      "chrX\t49786423\t49786588\tchrX_49786423_49786588\t1\t.\n",
      "chrX\t49786424\t49786582\tchrX_49786424_49786582\t1\t.\n",
      "chrX\t49786428\t49786620\tchrX_49786428_49786620\t1\t.\n"
     ]
    }
   ],
   "source": [
    "FDIRY=${FD_RES}/source/starrseq\n",
    "FNAME=KS91_K562_hg38_ASTARRseq_Input_rep?.masked.dups_marked.GATA1.fragment_counts.unstranded.bed\n",
    "tail -n 3 ${FDIRY}/${FNAME}"
   ]
  },
  {
   "cell_type": "code",
   "execution_count": 36,
   "id": "a502f71a",
   "metadata": {},
   "outputs": [
    {
     "name": "stdout",
     "output_type": "stream",
     "text": [
      "==> /mount/work/out/proj_encode_fcc/source/starrseq/KS91_K562_hg38_ASTARRseq_Output_rep1.f3q10.sorted.with_umis.dups_marked.GATA1.fragment_counts.unstranded.bed <==\n",
      "chrX\t47787189\t47787363\tchrX_47787189_47787363\t6\t.\n",
      "chrX\t47788545\t47789154\tchrX_47788545_47789154\t6\t.\n",
      "chrX\t47788659\t47788978\tchrX_47788659_47788978\t4\t.\n",
      "\n",
      "==> /mount/work/out/proj_encode_fcc/source/starrseq/KS91_K562_hg38_ASTARRseq_Output_rep2.f3q10.sorted.with_umis.dups_marked.GATA1.fragment_counts.unstranded.bed <==\n",
      "chrX\t47787441\t47787617\tchrX_47787441_47787617\t9\t.\n",
      "chrX\t47787442\t47787617\tchrX_47787442_47787617\t1\t.\n",
      "chrX\t47787449\t47787725\tchrX_47787449_47787725\t1\t.\n",
      "\n",
      "==> /mount/work/out/proj_encode_fcc/source/starrseq/KS91_K562_hg38_ASTARRseq_Output_rep3.f3q10.sorted.with_umis.dups_marked.GATA1.fragment_counts.unstranded.bed <==\n",
      "chrX\t47787224\t47787406\tchrX_47787224_47787406\t4\t.\n",
      "chrX\t47788004\t47788287\tchrX_47788004_47788287\t2\t.\n",
      "chrX\t47788008\t47788228\tchrX_47788008_47788228\t3\t.\n",
      "\n",
      "==> /mount/work/out/proj_encode_fcc/source/starrseq/KS91_K562_hg38_ASTARRseq_Output_rep4.f3q10.sorted.with_umis.dups_marked.GATA1.fragment_counts.unstranded.bed <==\n",
      "chrX\t47787173\t47787363\tchrX_47787173_47787363\t3\t.\n",
      "chrX\t47787224\t47787406\tchrX_47787224_47787406\t4\t.\n",
      "chrX\t47787717\t47788231\tchrX_47787717_47788231\t11\t.\n"
     ]
    }
   ],
   "source": [
    "FDIRY=${FD_RES}/source/starrseq\n",
    "FNAME=KS91_K562_hg38_ASTARRseq_Output_rep?.f3q10.sorted.with_umis.dups_marked.GATA1.fragment_counts.unstranded.bed\n",
    "head -3 ${FDIRY}/${FNAME}"
   ]
  },
  {
   "cell_type": "code",
   "execution_count": 39,
   "id": "824151dd",
   "metadata": {},
   "outputs": [
    {
     "name": "stdout",
     "output_type": "stream",
     "text": [
      "==> /mount/work/out/proj_encode_fcc/source/starrseq/KS91_K562_hg38_ASTARRseq_Output_rep1.f3q10.sorted.with_umis.dups_marked.GATA1.fragment_counts.unstranded.bed <==\n",
      "chrX\t49785715\t49785973\tchrX_49785715_49785973\t50\t.\n",
      "chrX\t49785716\t49785972\tchrX_49785716_49785972\t1\t.\n",
      "chrX\t49785716\t49785973\tchrX_49785716_49785973\t2\t.\n",
      "\n",
      "==> /mount/work/out/proj_encode_fcc/source/starrseq/KS91_K562_hg38_ASTARRseq_Output_rep2.f3q10.sorted.with_umis.dups_marked.GATA1.fragment_counts.unstranded.bed <==\n",
      "chrX\t49786184\t49786386\tchrX_49786184_49786386\t1\t.\n",
      "chrX\t49786184\t49786387\tchrX_49786184_49786387\t28\t.\n",
      "chrX\t49786185\t49786387\tchrX_49786185_49786387\t4\t.\n",
      "\n",
      "==> /mount/work/out/proj_encode_fcc/source/starrseq/KS91_K562_hg38_ASTARRseq_Output_rep3.f3q10.sorted.with_umis.dups_marked.GATA1.fragment_counts.unstranded.bed <==\n",
      "chrX\t49786276\t49786471\tchrX_49786276_49786471\t10\t.\n",
      "chrX\t49786277\t49786471\tchrX_49786277_49786471\t1\t.\n",
      "chrX\t49786278\t49786469\tchrX_49786278_49786469\t1\t.\n",
      "\n",
      "==> /mount/work/out/proj_encode_fcc/source/starrseq/KS91_K562_hg38_ASTARRseq_Output_rep4.f3q10.sorted.with_umis.dups_marked.GATA1.fragment_counts.unstranded.bed <==\n",
      "chrX\t49786307\t49786466\tchrX_49786307_49786466\t6\t.\n",
      "chrX\t49786423\t49786588\tchrX_49786423_49786588\t3\t.\n",
      "chrX\t49786424\t49786588\tchrX_49786424_49786588\t1\t.\n"
     ]
    }
   ],
   "source": [
    "FDIRY=${FD_RES}/source/starrseq\n",
    "FNAME=KS91_K562_hg38_ASTARRseq_Output_rep?.f3q10.sorted.with_umis.dups_marked.GATA1.fragment_counts.unstranded.bed\n",
    "tail -n 3 ${FDIRY}/${FNAME}"
   ]
  },
  {
   "cell_type": "code",
   "execution_count": null,
   "id": "036e4826",
   "metadata": {},
   "outputs": [],
   "source": []
  }
 ],
 "metadata": {
  "kernelspec": {
   "display_name": "Bash",
   "language": "bash",
   "name": "bash"
  },
  "language_info": {
   "codemirror_mode": "shell",
   "file_extension": ".sh",
   "mimetype": "text/x-sh",
   "name": "bash"
  }
 },
 "nbformat": 4,
 "nbformat_minor": 5
}
