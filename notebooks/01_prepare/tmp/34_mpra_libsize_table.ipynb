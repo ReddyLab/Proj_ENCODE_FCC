{
 "cells": [
  {
   "cell_type": "markdown",
   "metadata": {},
   "source": [
    "**Set environment**"
   ]
  },
  {
   "cell_type": "code",
   "execution_count": 1,
   "metadata": {},
   "outputs": [
    {
     "name": "stdout",
     "output_type": "stream",
     "text": [
      "You are in singularity_proj_encode_fcc \n",
      "BASE DIRECTORY:     /mount/work \n",
      "PATH OF SOURCE:     /mount/work/source \n",
      "PATH OF EXECUTABLE: /mount/work/exe \n",
      "PATH OF ANNOTATION: /mount/work/annotation \n",
      "PATH OF PROJECT:    /mount/project \n",
      "PATH OF RESULTS:    /mount/work/out/proj_encode_fcc \n",
      "[1] \"/mount/work\"\n",
      "[1] \"/mount/work/out/proj_encode_fcc\"\n"
     ]
    }
   ],
   "source": [
    "suppressMessages(suppressWarnings(source(\"../config_sing.R\")))\n",
    "\n",
    "print(FD_WORK)\n",
    "print(FD_RES)"
   ]
  },
  {
   "cell_type": "markdown",
   "metadata": {},
   "source": [
    "## Import library size"
   ]
  },
  {
   "cell_type": "code",
   "execution_count": 2,
   "metadata": {},
   "outputs": [
    {
     "data": {
      "text/html": [
       "'52312\\t/gpfs/fs1/data/reddylab/Kuei/out/proj_encode_fcc/Tewhey_K562_TileMPRA/fragment/Tile_K562_20210130.GATA1.unstranded.bed'"
      ],
      "text/latex": [
       "'52312\\textbackslash{}t/gpfs/fs1/data/reddylab/Kuei/out/proj\\_encode\\_fcc/Tewhey\\_K562\\_TileMPRA/fragment/Tile\\_K562\\_20210130.GATA1.unstranded.bed'"
      ],
      "text/markdown": [
       "'52312\\t/gpfs/fs1/data/reddylab/Kuei/out/proj_encode_fcc/Tewhey_K562_TileMPRA/fragment/Tile_K562_20210130.GATA1.unstranded.bed'"
      ],
      "text/plain": [
       "[1] \"52312\\t/gpfs/fs1/data/reddylab/Kuei/out/proj_encode_fcc/Tewhey_K562_TileMPRA/fragment/Tile_K562_20210130.GATA1.unstranded.bed\""
      ]
     },
     "metadata": {},
     "output_type": "display_data"
    }
   ],
   "source": [
    "fdiry = file.path(FD_RES, \"Tewhey_K562_TileMPRA\", \"fragment\")\n",
    "fname = \"library_size.txt\"\n",
    "fpath = file.path(fdiry, fname)\n",
    "\n",
    "txt = paste(\"head\", fpath)\n",
    "system(txt, intern=TRUE)"
   ]
  },
  {
   "cell_type": "code",
   "execution_count": 4,
   "metadata": {},
   "outputs": [
    {
     "data": {
      "text/html": [
       "<table class=\"dataframe\">\n",
       "<caption>A spec_tbl_df: 1 × 2</caption>\n",
       "<thead>\n",
       "\t<tr><th scope=col>Size</th><th scope=col>FPath</th></tr>\n",
       "\t<tr><th scope=col>&lt;dbl&gt;</th><th scope=col>&lt;chr&gt;</th></tr>\n",
       "</thead>\n",
       "<tbody>\n",
       "\t<tr><td>52312</td><td>/gpfs/fs1/data/reddylab/Kuei/out/proj_encode_fcc/Tewhey_K562_TileMPRA/fragment/Tile_K562_20210130.GATA1.unstranded.bed</td></tr>\n",
       "</tbody>\n",
       "</table>\n"
      ],
      "text/latex": [
       "A spec\\_tbl\\_df: 1 × 2\n",
       "\\begin{tabular}{ll}\n",
       " Size & FPath\\\\\n",
       " <dbl> & <chr>\\\\\n",
       "\\hline\n",
       "\t 52312 & /gpfs/fs1/data/reddylab/Kuei/out/proj\\_encode\\_fcc/Tewhey\\_K562\\_TileMPRA/fragment/Tile\\_K562\\_20210130.GATA1.unstranded.bed\\\\\n",
       "\\end{tabular}\n"
      ],
      "text/markdown": [
       "\n",
       "A spec_tbl_df: 1 × 2\n",
       "\n",
       "| Size &lt;dbl&gt; | FPath &lt;chr&gt; |\n",
       "|---|---|\n",
       "| 52312 | /gpfs/fs1/data/reddylab/Kuei/out/proj_encode_fcc/Tewhey_K562_TileMPRA/fragment/Tile_K562_20210130.GATA1.unstranded.bed |\n",
       "\n"
      ],
      "text/plain": [
       "  Size \n",
       "1 52312\n",
       "  FPath                                                                                                                 \n",
       "1 /gpfs/fs1/data/reddylab/Kuei/out/proj_encode_fcc/Tewhey_K562_TileMPRA/fragment/Tile_K562_20210130.GATA1.unstranded.bed"
      ]
     },
     "metadata": {},
     "output_type": "display_data"
    }
   ],
   "source": [
    "### set path\n",
    "fdiry = file.path(FD_RES, \"Tewhey_K562_TileMPRA\", \"fragment\")\n",
    "fname = \"library_size.txt\"\n",
    "fpath = file.path(fdiry, fname)\n",
    "\n",
    "### import library size\n",
    "ctypes = c(col_integer(), col_character())\n",
    "cnames = c(\"Size\", \"FPath\")\n",
    "dat_lib = read_tsv(fpath, col_types=ctypes, col_names = cnames)\n",
    "\n",
    "### remove the total size\n",
    "dat_lib = dat_lib %>% dplyr::filter(FPath != \"total\")\n",
    "dat_lib"
   ]
  },
  {
   "cell_type": "code",
   "execution_count": 5,
   "metadata": {},
   "outputs": [
    {
     "name": "stderr",
     "output_type": "stream",
     "text": [
      "\u001b[1mRows: \u001b[22m\u001b[34m52312\u001b[39m \u001b[1mColumns: \u001b[22m\u001b[34m12\u001b[39m\n",
      "\u001b[36m──\u001b[39m \u001b[1mColumn specification\u001b[22m \u001b[36m──────────────────────────────────────────────────────────────────────────────────\u001b[39m\n",
      "\u001b[1mDelimiter:\u001b[22m \"\\t\"\n",
      "\u001b[31mchr\u001b[39m (4): chrom, ID, Score, Strand\n",
      "\u001b[32mdbl\u001b[39m (8): Start, End, log2fc, Input_Count, Output_Count, log10pval, log10fdr,...\n",
      "\n",
      "\u001b[36mℹ\u001b[39m Use `spec()` to retrieve the full column specification for this data.\n",
      "\u001b[36mℹ\u001b[39m Specify the column types or set `show_col_types = FALSE` to quiet this message.\n"
     ]
    },
    {
     "data": {
      "text/html": [
       "<table class=\"dataframe\">\n",
       "<caption>A tibble: 6 × 12</caption>\n",
       "<thead>\n",
       "\t<tr><th scope=col>chrom</th><th scope=col>Start</th><th scope=col>End</th><th scope=col>ID</th><th scope=col>Score</th><th scope=col>Strand</th><th scope=col>log2fc</th><th scope=col>Input_Count</th><th scope=col>Output_Count</th><th scope=col>log10pval</th><th scope=col>log10fdr</th><th scope=col>lfc-se</th></tr>\n",
       "\t<tr><th scope=col>&lt;chr&gt;</th><th scope=col>&lt;dbl&gt;</th><th scope=col>&lt;dbl&gt;</th><th scope=col>&lt;chr&gt;</th><th scope=col>&lt;chr&gt;</th><th scope=col>&lt;chr&gt;</th><th scope=col>&lt;dbl&gt;</th><th scope=col>&lt;dbl&gt;</th><th scope=col>&lt;dbl&gt;</th><th scope=col>&lt;dbl&gt;</th><th scope=col>&lt;dbl&gt;</th><th scope=col>&lt;dbl&gt;</th></tr>\n",
       "</thead>\n",
       "<tbody>\n",
       "\t<tr><td>chrX</td><td>47786401</td><td>47786600</td><td>X:47786401-47786600</td><td>.</td><td>+</td><td> 2.30593934</td><td>2117.787</td><td>10474.869</td><td>112.1126526</td><td>110.93113079</td><td>0.10214790</td></tr>\n",
       "\t<tr><td>chrX</td><td>47786451</td><td>47786650</td><td>X:47786451-47786650</td><td>.</td><td>+</td><td> 0.78305606</td><td>1386.007</td><td> 2387.119</td><td> 11.3173884</td><td> 10.64251685</td><td>0.11330705</td></tr>\n",
       "\t<tr><td>chrX</td><td>47786501</td><td>47786700</td><td>X:47786501-47786700</td><td>.</td><td>+</td><td>-0.12873196</td><td>1955.626</td><td> 1788.236</td><td>  0.8450697</td><td>  0.62872262</td><td>0.08785968</td></tr>\n",
       "\t<tr><td>chrX</td><td>47786551</td><td>47786750</td><td>X:47786551-47786750</td><td>.</td><td>+</td><td> 0.58829515</td><td>2388.997</td><td> 3591.264</td><td> 11.2404554</td><td> 10.56667887</td><td>0.08543661</td></tr>\n",
       "\t<tr><td>chrX</td><td>47786601</td><td>47786800</td><td>X:47786601-47786800</td><td>.</td><td>+</td><td> 0.06670014</td><td>2102.916</td><td> 2202.385</td><td>  0.3095900</td><td>  0.21047015</td><td>0.09667741</td></tr>\n",
       "\t<tr><td>chrX</td><td>47786651</td><td>47786850</td><td>X:47786651-47786850</td><td>.</td><td>+</td><td>-0.02967703</td><td>1571.259</td><td> 1537.475</td><td>  0.1009399</td><td>  0.06453099</td><td>0.11287406</td></tr>\n",
       "</tbody>\n",
       "</table>\n"
      ],
      "text/latex": [
       "A tibble: 6 × 12\n",
       "\\begin{tabular}{llllllllllll}\n",
       " chrom & Start & End & ID & Score & Strand & log2fc & Input\\_Count & Output\\_Count & log10pval & log10fdr & lfc-se\\\\\n",
       " <chr> & <dbl> & <dbl> & <chr> & <chr> & <chr> & <dbl> & <dbl> & <dbl> & <dbl> & <dbl> & <dbl>\\\\\n",
       "\\hline\n",
       "\t chrX & 47786401 & 47786600 & X:47786401-47786600 & . & + &  2.30593934 & 2117.787 & 10474.869 & 112.1126526 & 110.93113079 & 0.10214790\\\\\n",
       "\t chrX & 47786451 & 47786650 & X:47786451-47786650 & . & + &  0.78305606 & 1386.007 &  2387.119 &  11.3173884 &  10.64251685 & 0.11330705\\\\\n",
       "\t chrX & 47786501 & 47786700 & X:47786501-47786700 & . & + & -0.12873196 & 1955.626 &  1788.236 &   0.8450697 &   0.62872262 & 0.08785968\\\\\n",
       "\t chrX & 47786551 & 47786750 & X:47786551-47786750 & . & + &  0.58829515 & 2388.997 &  3591.264 &  11.2404554 &  10.56667887 & 0.08543661\\\\\n",
       "\t chrX & 47786601 & 47786800 & X:47786601-47786800 & . & + &  0.06670014 & 2102.916 &  2202.385 &   0.3095900 &   0.21047015 & 0.09667741\\\\\n",
       "\t chrX & 47786651 & 47786850 & X:47786651-47786850 & . & + & -0.02967703 & 1571.259 &  1537.475 &   0.1009399 &   0.06453099 & 0.11287406\\\\\n",
       "\\end{tabular}\n"
      ],
      "text/markdown": [
       "\n",
       "A tibble: 6 × 12\n",
       "\n",
       "| chrom &lt;chr&gt; | Start &lt;dbl&gt; | End &lt;dbl&gt; | ID &lt;chr&gt; | Score &lt;chr&gt; | Strand &lt;chr&gt; | log2fc &lt;dbl&gt; | Input_Count &lt;dbl&gt; | Output_Count &lt;dbl&gt; | log10pval &lt;dbl&gt; | log10fdr &lt;dbl&gt; | lfc-se &lt;dbl&gt; |\n",
       "|---|---|---|---|---|---|---|---|---|---|---|---|\n",
       "| chrX | 47786401 | 47786600 | X:47786401-47786600 | . | + |  2.30593934 | 2117.787 | 10474.869 | 112.1126526 | 110.93113079 | 0.10214790 |\n",
       "| chrX | 47786451 | 47786650 | X:47786451-47786650 | . | + |  0.78305606 | 1386.007 |  2387.119 |  11.3173884 |  10.64251685 | 0.11330705 |\n",
       "| chrX | 47786501 | 47786700 | X:47786501-47786700 | . | + | -0.12873196 | 1955.626 |  1788.236 |   0.8450697 |   0.62872262 | 0.08785968 |\n",
       "| chrX | 47786551 | 47786750 | X:47786551-47786750 | . | + |  0.58829515 | 2388.997 |  3591.264 |  11.2404554 |  10.56667887 | 0.08543661 |\n",
       "| chrX | 47786601 | 47786800 | X:47786601-47786800 | . | + |  0.06670014 | 2102.916 |  2202.385 |   0.3095900 |   0.21047015 | 0.09667741 |\n",
       "| chrX | 47786651 | 47786850 | X:47786651-47786850 | . | + | -0.02967703 | 1571.259 |  1537.475 |   0.1009399 |   0.06453099 | 0.11287406 |\n",
       "\n"
      ],
      "text/plain": [
       "  chrom Start    End      ID                  Score Strand log2fc     \n",
       "1 chrX  47786401 47786600 X:47786401-47786600 .     +       2.30593934\n",
       "2 chrX  47786451 47786650 X:47786451-47786650 .     +       0.78305606\n",
       "3 chrX  47786501 47786700 X:47786501-47786700 .     +      -0.12873196\n",
       "4 chrX  47786551 47786750 X:47786551-47786750 .     +       0.58829515\n",
       "5 chrX  47786601 47786800 X:47786601-47786800 .     +       0.06670014\n",
       "6 chrX  47786651 47786850 X:47786651-47786850 .     +      -0.02967703\n",
       "  Input_Count Output_Count log10pval   log10fdr     lfc-se    \n",
       "1 2117.787    10474.869    112.1126526 110.93113079 0.10214790\n",
       "2 1386.007     2387.119     11.3173884  10.64251685 0.11330705\n",
       "3 1955.626     1788.236      0.8450697   0.62872262 0.08785968\n",
       "4 2388.997     3591.264     11.2404554  10.56667887 0.08543661\n",
       "5 2102.916     2202.385      0.3095900   0.21047015 0.09667741\n",
       "6 1571.259     1537.475      0.1009399   0.06453099 0.11287406"
      ]
     },
     "metadata": {},
     "output_type": "display_data"
    }
   ],
   "source": [
    "fdiry = file.path(FD_RES, \"Tewhey_K562_TileMPRA\", \"count\")\n",
    "fname = \"Tile_K562_20210130.GATA1.unstranded.bed\"\n",
    "fpath = file.path(fdiry, fname)\n",
    "\n",
    "cnames = c(\"chrom\", \"Start\", \"End\", \"ID\", \"Score\", \"Strand\", \n",
    "           \"log2fc\", \"Input_Count\", \"Output_Count\", \n",
    "           \"log10pval\", \"log10fdr\", \"lfc-se\")\n",
    "\n",
    "dat_mpra = read_tsv(fpath, col_names = cnames)\n",
    "head(dat_mpra)"
   ]
  },
  {
   "cell_type": "code",
   "execution_count": null,
   "metadata": {},
   "outputs": [],
   "source": []
  },
  {
   "cell_type": "code",
   "execution_count": null,
   "metadata": {},
   "outputs": [],
   "source": [
    "### summarize info from the file path\n",
    "### stackoverflow: Extract only folder name right before filename from full path\n",
    "dat_lib = dat_lib %>% \n",
    "    mutate(Group     = ifelse(str_detect(FPath, pattern=\"Input\"), \"Input\", \"Output\")) %>%\n",
    "    mutate(Replicate = str_extract(FPath, pattern=\"rep[0-9]\")) %>%\n",
    "    mutate(Sample    = paste(Group, Replicate, sep=\"_\"))\n",
    "\n",
    "dat_lib = dat_lib %>% dplyr::select(Sample, Group, Replicate, Size)"
   ]
  },
  {
   "cell_type": "code",
   "execution_count": null,
   "metadata": {},
   "outputs": [],
   "source": []
  }
 ],
 "metadata": {
  "kernelspec": {
   "display_name": "R",
   "language": "R",
   "name": "ir"
  },
  "language_info": {
   "codemirror_mode": "r",
   "file_extension": ".r",
   "mimetype": "text/x-r-source",
   "name": "R",
   "pygments_lexer": "r",
   "version": "4.1.2"
  }
 },
 "nbformat": 4,
 "nbformat_minor": 4
}
