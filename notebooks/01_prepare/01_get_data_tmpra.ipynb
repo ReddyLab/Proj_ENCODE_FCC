{
 "cells": [
  {
   "cell_type": "markdown",
   "id": "5f417beb-9cdd-4033-9a9c-d5c2babf0cc5",
   "metadata": {},
   "source": [
    "# Get data of Tiling MPRA\n",
    "\n",
    "**Set environment**"
   ]
  },
  {
   "cell_type": "code",
   "execution_count": 2,
   "id": "4b8abbb6-a608-48d7-b27c-80253500369f",
   "metadata": {},
   "outputs": [
    {
     "name": "stdout",
     "output_type": "stream",
     "text": [
      "You are on Duke Server: HARDAC\n",
      "BASE DIRECTORY:     /gpfs/fs1/data/reddylab/Kuei\n",
      "PATH OF SOURCE:     /gpfs/fs1/data/reddylab/Kuei/source\n",
      "PATH OF EXECUTABLE: /gpfs/fs1/data/reddylab/Kuei/exe\n",
      "PATH OF ANNOTATION: /gpfs/fs1/data/reddylab/Kuei/annotation\n",
      "PATH OF PROJECT:    /gpfs/fs1/data/reddylab/Kuei/GitRepo/Proj_CombEffect_ENCODE_FCC/notebooks\n",
      "PATH OF RESULTS:    /gpfs/fs1/data/reddylab/Kuei/out/proj_combeffect_encode_fcc\n",
      "\n"
     ]
    }
   ],
   "source": [
    "source ../config_duke.sh\n",
    "show_env"
   ]
  },
  {
   "cell_type": "markdown",
   "id": "e0a7b1c3-5f3c-4bf3-a04d-e9977212c7fa",
   "metadata": {},
   "source": [
    "## Download data from ENCODE-WorkingGroups (Syn18134906)"
   ]
  },
  {
   "cell_type": "markdown",
   "id": "f994ac4d-96bc-48b8-b81d-1b6701d131a7",
   "metadata": {},
   "source": [
    "Tiling MPRA\n",
    "```\n",
    "synapse get -r syn22348180\n",
    "```"
   ]
  },
  {
   "cell_type": "markdown",
   "id": "e4673065-cf14-4850-bcf0-0cefeb392b9d",
   "metadata": {},
   "source": [
    "mpra_starrseq/2021_Oct_Jamboree/myc_gata1/mpra\n",
    "```\n",
    "synapse get -r syn26435687 \n",
    "```"
   ]
  },
  {
   "cell_type": "code",
   "execution_count": 3,
   "id": "d7c14782-87d5-4bd7-a852-6674d137d9e5",
   "metadata": {},
   "outputs": [
    {
     "name": "stdout",
     "output_type": "stream",
     "text": [
      "\u001b[0m\u001b[38;5;27mcCREs\u001b[0m  \u001b[38;5;27mmpra\u001b[0m  \u001b[38;5;27mstarrseq\u001b[0m  \u001b[38;5;27mstarrseq_220510\u001b[0m  \u001b[38;5;27msyn22348180\u001b[0m  \u001b[38;5;27msyn26435687\u001b[0m\n"
     ]
    }
   ],
   "source": [
    "ls ${FD_RES}/source"
   ]
  },
  {
   "cell_type": "code",
   "execution_count": 3,
   "id": "a31c168d-178d-4480-a49c-a0121e3aa1d1",
   "metadata": {},
   "outputs": [
    {
     "name": "stdout",
     "output_type": "stream",
     "text": [
      "ENCFF348WYK.Ahituv.lentiMPRA.MYC.bed\n",
      "ENCFF348WYK.bed\n",
      "ENCFF348WYK.GATA1.bed\n",
      "ENCFF348WYK.MYC.bed\n",
      "GATA-MYC_Tile_K562_K562_20210130.hg38.bed\n",
      "GATA-MYC_Tile_K562_K562_20210130.hg38.cleaned.bed\n",
      "GATA-MYC_Tile_K562_K562_20210130.hg38.cleaned.GATA1.bed\n",
      "GATA-MYC_Tile_K562_K562_20210130.hg38.cleaned.MYC.bed\n",
      "\u001b[0m\u001b[38;5;27mold\u001b[0m\n",
      "SYNAPSE_METADATA_MANIFEST.tsv\n"
     ]
    }
   ],
   "source": [
    "ls ${FD_RES}/source/syn26435687"
   ]
  },
  {
   "cell_type": "code",
   "execution_count": 4,
   "id": "66128556-283b-4985-b97c-59bc9bd5d9c2",
   "metadata": {},
   "outputs": [
    {
     "name": "stdout",
     "output_type": "stream",
     "text": [
      "BODA_round1_HepG2_Neon_20200904.bed\n",
      "BODA_round1_HepG2_Neon_20200904.hg38.txt\n",
      "BODA_round1_HepG2_Neon_20200904.liftOver_unmapped.bed\n",
      "BODA_round1_K562_20200904.bed\n",
      "BODA_round1_K562_20200904.hg38.txt\n",
      "BODA_round1_K562_20200904.liftOver_unmapped.bed\n",
      "BODA_round1_SKNSH_20200904.bed\n",
      "BODA_round1_SKNSH_20200904.hg38.txt\n",
      "BODA_round1_SKNSH_20200904.liftOver_unmapped.bed\n",
      "FADS_Tile_K562_K562_20200905.bed\n",
      "FADS_Tile_K562_K562_20200905.hg38.txt\n",
      "\u001b[0m\u001b[38;5;27mGATA_MYC_20210127_common_raw_format\u001b[0m\n",
      "GATA_MYC_CommonControl_complete.collapsed.fa\n",
      "GATA_MYC_CommonControl_complete.collapsed.readme\n",
      "GATA_MYC_common_controls.attributes\n",
      "GATA-MYC_Tile_K562_Counts_20210130.out\n",
      "GATA-MYC_Tile_K562_K562_20210130.hg38.bed\n",
      "GATA-MYC_Tile_K562_NormCounts_20210130.out\n",
      "OL43_BC-Counts_20210127.cond\n",
      "OL43_BC-Counts_20210127.out\n",
      "SYNAPSE_METADATA_MANIFEST.tsv\n"
     ]
    }
   ],
   "source": [
    "ls ${FD_RES}/source/syn22348180"
   ]
  },
  {
   "cell_type": "code",
   "execution_count": 6,
   "id": "f9e5a80c-941b-4881-885d-ad843c14ec3e",
   "metadata": {},
   "outputs": [
    {
     "name": "stdout",
     "output_type": "stream",
     "text": [
      "chr\tstart\tstop\tid\tscore\tstrand\tlog2fc\tinput-count\toutput-count\tlog10pval\tlog10fdr\tlfc-se\tcigar\tmd-tag\tproject\n",
      "11\t61554801\t61555000\t11:61554801-61555000\t.\t+\t-0.85763898433268\t539.06986501396\t297.715189120701\t0.931483643269041\t0.434220074327503\t0.547274403273541\t200=\t200\tTiles\n",
      "11\t61554801\t61555000\t11:61554801-61555000_RC\t.\t-\t-0.881673566105872\t325.844662728475\t176.742458595972\t0.662985926208364\t0.246985056545332\t0.714599633819389\t200=\t200\tTiles\n",
      "11\t61554806\t61555005\t11:61554806-61555005\t.\t+\t-0.779124828017293\t609.292251213609\t355.039015219307\t0.863277358508061\t0.383434414853537\t0.52393863052786\t200=\t200\tTiles\n",
      "11\t61554806\t61555005\t11:61554806-61555005_RC\t.\t-\t-0.831905443335537\t336.926589204788\t189.098087771129\t0.278503265787216\t0.0672740754748282\t1.31386301202738\t200=\t200\tTiles\n",
      "11\t61554811\t61555010\t11:61554811-61555010\t.\t+\t-0.39640169893204\t643.658290648892\t489.535669788046\t0.260937494339268\t0.0622971516235022\t0.660421157413616\t200=\t200\tTiles\n",
      "11\t61554811\t61555010\t11:61554811-61555010_RC\t.\t-\t-0.391323407285527\t310.187693964429\t236.290578726164\t0.180792851064123\t0.040252375782999\t0.888120663288669\t200=\t200\tTiles\n",
      "11\t61554816\t61555015\t11:61554816-61555015\t.\t+\t-0.489028709894157\t564.827141504192\t402.104987130375\t0.512708372311238\t0.161654577894315\t0.478825704512005\t200=\t200\tTiles\n",
      "11\t61554816\t61555015\t11:61554816-61555015_RC\t.\t-\t-0.768088636319577\t580.395698972717\t341.076247832192\t1.08265326177516\t0.551321581181327\t0.442600043327791\t200=\t200\tTiles\n",
      "11\t61554821\t61555020\t11:61554821-61555020\t.\t+\t-0.589012981257324\t573.688523074222\t381.088870415759\t0.653718918688817\t0.240975448970365\t0.482274017768384\t200=\t200\tTiles\n"
     ]
    }
   ],
   "source": [
    "head ${FD_RES}/source/syn22348180/FADS_Tile_K562_K562_20200905.bed"
   ]
  },
  {
   "cell_type": "code",
   "execution_count": 7,
   "id": "0d041006-e16d-4463-97a9-fff337d49a90",
   "metadata": {},
   "outputs": [
    {
     "name": "stdout",
     "output_type": "stream",
     "text": [
      "chr\tstart\tstop\tid\tscore\tstrand\tlog2fc\tinput-count\toutput-count\tlog10pval\tlog10fdr\tlfc-se\tcigar\tmd-tag\tproject\n",
      "chr11\t61787329\t61787528\t11:61554801-61555000\t.\t+\t-0.85763898433268\t539.06986501396\t297.715189120701\t0.931483643269041\t0.434220074327503\t0.547274403273541\t200=\t200\tTiles\n",
      "chr11\t61787329\t61787528\t11:61554801-61555000_RC\t.\t-\t-0.881673566105872\t325.844662728475\t176.742458595972\t0.662985926208364\t0.246985056545332\t0.714599633819389\t200=\t200\tTiles\n",
      "chr11\t61787334\t61787533\t11:61554806-61555005\t.\t+\t-0.779124828017293\t609.292251213609\t355.039015219307\t0.863277358508061\t0.383434414853537\t0.52393863052786\t200=\t200\tTiles\n",
      "chr11\t61787334\t61787533\t11:61554806-61555005_RC\t.\t-\t-0.831905443335537\t336.926589204788\t189.098087771129\t0.278503265787216\t0.0672740754748282\t1.31386301202738\t200=\t200\tTiles\n",
      "chr11\t61787339\t61787538\t11:61554811-61555010\t.\t+\t-0.39640169893204\t643.658290648892\t489.535669788046\t0.260937494339268\t0.0622971516235022\t0.660421157413616\t200=\t200\tTiles\n",
      "chr11\t61787339\t61787538\t11:61554811-61555010_RC\t.\t-\t-0.391323407285527\t310.187693964429\t236.290578726164\t0.180792851064123\t0.040252375782999\t0.888120663288669\t200=\t200\tTiles\n",
      "chr11\t61787344\t61787543\t11:61554816-61555015\t.\t+\t-0.489028709894157\t564.827141504192\t402.104987130375\t0.512708372311238\t0.161654577894315\t0.478825704512005\t200=\t200\tTiles\n",
      "chr11\t61787344\t61787543\t11:61554816-61555015_RC\t.\t-\t-0.768088636319577\t580.395698972717\t341.076247832192\t1.08265326177516\t0.551321581181327\t0.442600043327791\t200=\t200\tTiles\n",
      "chr11\t61787349\t61787548\t11:61554821-61555020\t.\t+\t-0.589012981257324\t573.688523074222\t381.088870415759\t0.653718918688817\t0.240975448970365\t0.482274017768384\t200=\t200\tTiles\n"
     ]
    }
   ],
   "source": [
    "head ${FD_RES}/source/syn22348180/FADS_Tile_K562_K562_20200905.hg38.txt"
   ]
  },
  {
   "cell_type": "code",
   "execution_count": 4,
   "id": "98e7a35e-97d5-4e08-afb8-35c1a351c390",
   "metadata": {},
   "outputs": [
    {
     "name": "stdout",
     "output_type": "stream",
     "text": [
      "01_get_data_astarr.ipynb               15_astarr_count.ipynb\n",
      "01_get_data_tmpra.ipynb                21_mpra_fragment.ipynb\n",
      "02_explore.ipynb                       21_mpra_fragment_py.ipynb\n",
      "11_astarr_count2fragment_output.ipynb  22_mpra_count.ipynb\n",
      "12_astarr_count2fragment_input.ipynb   23_mpra_libsize_calc.ipynb\n",
      "13_astarr_libsize_calc.ipynb           24_mpra_libsize_table.ipynb\n",
      "14_astarr_libsize_table.ipynb          count2fragment.py\n"
     ]
    }
   ],
   "source": [
    "FDIRY=${FD_RES}/source/syn22348180\n",
    "ls"
   ]
  },
  {
   "cell_type": "code",
   "execution_count": 8,
   "id": "27d9f12e-bc04-4ae4-9201-2592b3dad04c",
   "metadata": {},
   "outputs": [
    {
     "name": "stdout",
     "output_type": "stream",
     "text": [
      "01_get_data_astarr.ipynb        34_mpra_libsize_table.ipynb\n",
      "01_get_data_tmpra.ipynb         astarr_extract_count.ipynb\n",
      "02_explore.ipynb                check_astarr_gata1.ipynb\n",
      "11_tmpra_extract.ipynb          count2fragment_astarr.py\n",
      "12_tmpra_round.ipynb            count2fragment.py\n",
      "21_astarr_count2fragment.ipynb  get_ccre.ipynb\n",
      "23_astarr_libsize_calc.ipynb    ranges_01astarr.ipynb\n",
      "24_astarr_libsize_table.ipynb   ranges_02tmpra.ipynb\n",
      "25_astarr_count.ipynb           ranges_summary.ipynb\n",
      "31_mpra_fragment.ipynb          z1_astarr_count2fragment_output.ipynb\n",
      "32_mpra_count.ipynb             z2_astarr_count2fragment_input.ipynb\n",
      "33_mpra_libsize_calc.ipynb\n"
     ]
    }
   ],
   "source": [
    "ls"
   ]
  },
  {
   "cell_type": "code",
   "execution_count": null,
   "id": "2fe59442-5b92-430d-a9e6-f5efebff5fbb",
   "metadata": {},
   "outputs": [],
   "source": []
  }
 ],
 "metadata": {
  "kernelspec": {
   "display_name": "Bash",
   "language": "bash",
   "name": "bash"
  },
  "language_info": {
   "codemirror_mode": "shell",
   "file_extension": ".sh",
   "mimetype": "text/x-sh",
   "name": "bash"
  }
 },
 "nbformat": 4,
 "nbformat_minor": 5
}
