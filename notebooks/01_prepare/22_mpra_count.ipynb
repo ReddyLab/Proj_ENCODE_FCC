{
 "cells": [
  {
   "cell_type": "markdown",
   "id": "9608e7c4",
   "metadata": {},
   "source": [
    "**Set environment**"
   ]
  },
  {
   "cell_type": "code",
   "execution_count": 1,
   "id": "b9769227",
   "metadata": {},
   "outputs": [
    {
     "name": "stdout",
     "output_type": "stream",
     "text": [
      "You are on Duke Server: HARDAC\n",
      "BASE DIRECTORY:     /gpfs/fs1/data/reddylab/Kuei\n",
      "PATH OF SOURCE:     /gpfs/fs1/data/reddylab/Kuei/source\n",
      "PATH OF EXECUTABLE: /gpfs/fs1/data/reddylab/Kuei/exe\n",
      "PATH OF ANNOTATION: /gpfs/fs1/data/reddylab/Kuei/annotation\n",
      "PATH OF PROJECT:    /gpfs/fs1/data/reddylab/Kuei/GitRepo/Proj_ENCODE_FCC/notebooks\n",
      "PATH OF RESULTS:    /gpfs/fs1/data/reddylab/Kuei/out/proj_encode_fcc\n",
      "\n"
     ]
    }
   ],
   "source": [
    "source ../config_duke.sh -v"
   ]
  },
  {
   "cell_type": "code",
   "execution_count": 2,
   "id": "20c4f01d",
   "metadata": {},
   "outputs": [
    {
     "name": "stdout",
     "output_type": "stream",
     "text": [
      "ENCFF348WYK.Ahituv.lentiMPRA.MYC.bed\n",
      "ENCFF348WYK.bed\n",
      "ENCFF348WYK.GATA1.bed\n",
      "ENCFF348WYK.MYC.bed\n",
      "files_to_upload.tsv\n",
      "GATA-MYC_Tile_K562_K562_20210130.hg38.bed\n",
      "GATA-MYC_Tile_K562_K562_20210130.hg38.cleaned.bed\n",
      "GATA-MYC_Tile_K562_K562_20210130.hg38.cleaned.GATA1.bed\n",
      "GATA-MYC_Tile_K562_K562_20210130.hg38.cleaned.GATA1.in_astarr_de_frags.bed\n",
      "GATA-MYC_Tile_K562_K562_20210130.hg38.cleaned.MYC.bed\n"
     ]
    }
   ],
   "source": [
    "ls ${FD_RES}/source/mpra"
   ]
  },
  {
   "cell_type": "code",
   "execution_count": 8,
   "id": "2bf2405f-2a64-4170-ac67-3f0ab4b85ed9",
   "metadata": {},
   "outputs": [
    {
     "name": "stdout",
     "output_type": "stream",
     "text": [
      "chr\tstart\tstop\tid\tscore\tstrand\tlog2fc\tinput-count\toutput-count\tlog10pval\tlog10fdr\tlfc-se\n",
      "1\tNA\tNA\t1:10437778:C:T:R:wC\t.\t+\t2.38642090193675\t883.092934703281\t4616.08256005733\t106.737138191871\t105.572680362196\t0.108372623188431\n",
      "1\tNA\tNA\t1:10451799:C:T:R:wC\t.\t+\t0.163269738241717\t404.448967317715\t452.617975315935\t0.695386164226944\t0.506974721975921\t0.127869739155127\n"
     ]
    }
   ],
   "source": [
    "head -n 3 ${FD_RES}/source/mpra/GATA-MYC_Tile_K562_K562_20210130.hg38.bed"
   ]
  },
  {
   "cell_type": "code",
   "execution_count": 9,
   "id": "b9860aa8",
   "metadata": {},
   "outputs": [
    {
     "name": "stdout",
     "output_type": "stream",
     "text": [
      "chrX\t47786401\t47786600\tX:47786401-47786600\t.\t+\t2.30593934460149\t2117.78684083014\t10474.868702612\t112.11265261617\t110.931130790033\t0.102147903305184\n",
      "chrX\t47786451\t47786650\tX:47786451-47786650\t.\t+\t0.783056057422144\t1386.00739237509\t2387.11896574661\t11.3173883956403\t10.6425168461249\t0.113307047070907\n",
      "chrX\t47786501\t47786700\tX:47786501-47786700\t.\t+\t-0.128731962724311\t1955.62553108109\t1788.23614005802\t0.845069660219201\t0.628722618349189\t0.0878596785422427\n"
     ]
    }
   ],
   "source": [
    "head -n 3 ${FD_RES}/source/mpra/GATA-MYC_Tile_K562_K562_20210130.hg38.cleaned.GATA1.bed"
   ]
  },
  {
   "cell_type": "code",
   "execution_count": 10,
   "id": "baf92735-e44d-4619-b97d-835795f2c573",
   "metadata": {},
   "outputs": [
    {
     "name": "stdout",
     "output_type": "stream",
     "text": [
      "chrX\t49786451\t49786650\tX:49786451-49786650\t.\t+\t-0.37319242543987\t127.909914299581\t98.9610231872342\t0.88015718695034\t0.657605211336104\t0.24761834457407\n",
      "chrX\t49786501\t49786700\tX:49786501-49786700\t.\t+\t-0.489542789543221\t120.700808815634\t86.2353981554869\t1.04671720993347\t0.796026498296083\t0.28856952449479\n",
      "chrX\t49786551\t49786750\tX:49786551-49786750\t.\t+\t-0.271514802536649\t728.811675527209\t604.853952589693\t1.32249275006263\t1.03141711077191\t0.137058108860066\n"
     ]
    }
   ],
   "source": [
    "tail -n 3 ${FD_RES}/source/mpra/GATA-MYC_Tile_K562_K562_20210130.hg38.cleaned.GATA1.bed"
   ]
  },
  {
   "cell_type": "code",
   "execution_count": 6,
   "id": "feab947e",
   "metadata": {},
   "outputs": [
    {
     "name": "stdout",
     "output_type": "stream",
     "text": [
      "Tile_K562_20210130.GATA1.unstranded.bed\n"
     ]
    }
   ],
   "source": [
    "ls ${FD_RES}/Tewhey_K562_TileMPRA/fragment"
   ]
  },
  {
   "cell_type": "code",
   "execution_count": 7,
   "id": "2282d306",
   "metadata": {},
   "outputs": [
    {
     "name": "stdout",
     "output_type": "stream",
     "text": [
      "chrX\t47786401\t47786600\tX:47786401-47786600\n",
      "chrX\t47786451\t47786650\tX:47786451-47786650\n",
      "chrX\t47786501\t47786700\tX:47786501-47786700\n",
      "chrX\t47786551\t47786750\tX:47786551-47786750\n",
      "chrX\t47786601\t47786800\tX:47786601-47786800\n",
      "chrX\t47786651\t47786850\tX:47786651-47786850\n",
      "chrX\t47786701\t47786900\tX:47786701-47786900\n",
      "chrX\t47786751\t47786950\tX:47786751-47786950\n",
      "chrX\t47786801\t47787000\tX:47786801-47787000\n",
      "chrX\t47786851\t47787050\tX:47786851-47787050\n"
     ]
    }
   ],
   "source": [
    "head ${FD_RES}/Tewhey_K562_TileMPRA/fragment/Tile_K562_20210130.GATA1.unstranded.bed"
   ]
  },
  {
   "cell_type": "code",
   "execution_count": 11,
   "id": "b5a8f184-4d80-44b9-b041-6b40bb43e4de",
   "metadata": {},
   "outputs": [],
   "source": [
    "FP_INP=${FD_RES}/source/mpra/GATA-MYC_Tile_K562_K562_20210130.hg38.cleaned.GATA1.bed\n",
    "FP_OUT=${FD_RES}/Tewhey_K562_TileMPRA/count/Tile_K562_20210130.GATA1.unstranded.bed\n",
    "cp ${FP_INP} ${FP_OUT}"
   ]
  },
  {
   "cell_type": "code",
   "execution_count": 12,
   "id": "88f04fb2-d740-4717-930d-47d04b38f042",
   "metadata": {},
   "outputs": [
    {
     "name": "stdout",
     "output_type": "stream",
     "text": [
      "chrX\t47786401\t47786600\tX:47786401-47786600\t.\t+\t2.30593934460149\t2117.78684083014\t10474.868702612\t112.11265261617\t110.931130790033\t0.102147903305184\n",
      "chrX\t47786451\t47786650\tX:47786451-47786650\t.\t+\t0.783056057422144\t1386.00739237509\t2387.11896574661\t11.3173883956403\t10.6425168461249\t0.113307047070907\n",
      "chrX\t47786501\t47786700\tX:47786501-47786700\t.\t+\t-0.128731962724311\t1955.62553108109\t1788.23614005802\t0.845069660219201\t0.628722618349189\t0.0878596785422427\n"
     ]
    }
   ],
   "source": [
    "head -3 ${FP_INP}"
   ]
  },
  {
   "cell_type": "code",
   "execution_count": 13,
   "id": "d11b0d3a-5598-4022-850f-293f647fdf75",
   "metadata": {},
   "outputs": [
    {
     "name": "stdout",
     "output_type": "stream",
     "text": [
      "chrX\t47786401\t47786600\tX:47786401-47786600\t.\t+\t2.30593934460149\t2117.78684083014\t10474.868702612\t112.11265261617\t110.931130790033\t0.102147903305184\n",
      "chrX\t47786451\t47786650\tX:47786451-47786650\t.\t+\t0.783056057422144\t1386.00739237509\t2387.11896574661\t11.3173883956403\t10.6425168461249\t0.113307047070907\n",
      "chrX\t47786501\t47786700\tX:47786501-47786700\t.\t+\t-0.128731962724311\t1955.62553108109\t1788.23614005802\t0.845069660219201\t0.628722618349189\t0.0878596785422427\n"
     ]
    }
   ],
   "source": [
    "head -3 ${FP_OUT}"
   ]
  },
  {
   "cell_type": "code",
   "execution_count": null,
   "id": "fd985fb7-8877-4588-999e-1a2bf9f38e03",
   "metadata": {},
   "outputs": [],
   "source": []
  }
 ],
 "metadata": {
  "kernelspec": {
   "display_name": "Bash",
   "language": "bash",
   "name": "bash"
  },
  "language_info": {
   "codemirror_mode": "shell",
   "file_extension": ".sh",
   "mimetype": "text/x-sh",
   "name": "bash"
  }
 },
 "nbformat": 4,
 "nbformat_minor": 5
}
