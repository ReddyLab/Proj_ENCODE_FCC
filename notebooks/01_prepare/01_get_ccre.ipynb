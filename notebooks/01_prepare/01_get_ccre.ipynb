{
 "cells": [
  {
   "cell_type": "code",
   "execution_count": 3,
   "id": "a05cba18-7786-481d-975e-bef8de992c89",
   "metadata": {},
   "outputs": [
    {
     "name": "stdout",
     "output_type": "stream",
     "text": [
      "You are on Duke Server: HARDAC\n",
      "BASE DIRECTORY:     /gpfs/fs1/data/reddylab/Kuei\n",
      "PATH OF SOURCE:     /gpfs/fs1/data/reddylab/Kuei/source\n",
      "PATH OF EXECUTABLE: /gpfs/fs1/data/reddylab/Kuei/exe\n",
      "PATH OF ANNOTATION: /gpfs/fs1/data/reddylab/Kuei/annotation\n",
      "PATH OF PROJECT:    /gpfs/fs1/data/reddylab/Kuei/GitRepo/Proj_CombEffect_ENCODE_FCC/notebooks\n",
      "PATH OF RESULTS:    /gpfs/fs1/data/reddylab/Kuei/out/proj_combeffect_encode_fcc\n",
      "\n"
     ]
    }
   ],
   "source": [
    "source ../config_duke.sh\n",
    "show_env"
   ]
  },
  {
   "cell_type": "code",
   "execution_count": 4,
   "id": "0833d9e5-ac35-44ce-a9de-676c928b51d3",
   "metadata": {},
   "outputs": [
    {
     "name": "stdout",
     "output_type": "stream",
     "text": [
      "chr1\t181251\t181601\tEH38E1310153\t0\t.\t181251\t181601\t6,218,147\tDNase-only\tAll-data/Full-classification\n",
      "chr1\t190865\t191071\tEH38E1310154\t0\t.\t190865\t191071\t225,225,225\tLow-DNase\tAll-data/Full-classification\n",
      "chr1\t778562\t778912\tEH38E1310158\t0\t.\t778562\t778912\t255,0,0\tPLS,CTCF-bound\tAll-data/Full-classification\n",
      "chr1\t779086\t779355\tEH38E1310159\t0\t.\t779086\t779355\t255,0,0\tPLS\tAll-data/Full-classification\n",
      "chr1\t779727\t780060\tEH38E1310160\t0\t.\t779727\t780060\t225,225,225\tLow-DNase\tAll-data/Full-classification\n",
      "chr1\t790397\t790626\tEH38E1310162\t0\t.\t790397\t790626\t225,225,225\tLow-DNase\tAll-data/Full-classification\n",
      "chr1\t807736\t807916\tEH38E1310164\t0\t.\t807736\t807916\t225,225,225\tLow-DNase\tAll-data/Full-classification\n",
      "chr1\t812113\t812266\tEH38E1310165\t0\t.\t812113\t812266\t225,225,225\tLow-DNase\tAll-data/Full-classification\n",
      "chr1\t817080\t817403\tEH38E1310166\t0\t.\t817080\t817403\t225,225,225\tLow-DNase\tAll-data/Full-classification\n",
      "chr1\t817903\t818252\tEH38E1310167\t0\t.\t817903\t818252\t225,225,225\tLow-DNase\tAll-data/Full-classification\n"
     ]
    }
   ],
   "source": [
    "FDIRY=\"/data/reddylab/Reference_Data/cCREs/hg38\"\n",
    "FNAME=\"ENCFF971AHO_ENCFF847JMY_ENCFF779QTH_ENCFF405AYC.7group.bed\"\n",
    "head ${FDIRY}/${FNAME}"
   ]
  },
  {
   "cell_type": "code",
   "execution_count": 6,
   "id": "c3a5e381-5939-4636-a4e8-de9b622007d1",
   "metadata": {},
   "outputs": [
    {
     "name": "stdout",
     "output_type": "stream",
     "text": [
      "/gpfs/fs1/data/reddylab/Kuei/out/proj_combeffect_encode_fcc\n",
      "\u001b[0m\u001b[38;5;27mKS91_K562_ASTARRseq\u001b[0m  \u001b[38;5;27mregulatory_landscape\u001b[0m  \u001b[38;5;27mTewhey_K562_TileMPRA\u001b[0m\n",
      "\u001b[38;5;27mlog\u001b[0m                  \u001b[38;5;27msource\u001b[0m                \u001b[38;5;27mtrack_compare\u001b[0m\n"
     ]
    }
   ],
   "source": [
    "echo ${FD_RES}\n",
    "ls ${FD_RES}"
   ]
  },
  {
   "cell_type": "markdown",
   "id": "fedfedec-dceb-420f-9444-58cf0f77e17a",
   "metadata": {},
   "source": [
    "```\n",
    "mkdir ${FD_RES}/source/cCREs\n",
    "```"
   ]
  },
  {
   "cell_type": "code",
   "execution_count": 8,
   "id": "8ac996f9-684c-4a2a-b52b-ea5952c091ca",
   "metadata": {},
   "outputs": [],
   "source": [
    "FNAME=\"ENCFF971AHO_ENCFF847JMY_ENCFF779QTH_ENCFF405AYC.7group.bed\"\n",
    "\n",
    "FDIRY=\"/data/reddylab/Reference_Data/cCREs/hg38\"\n",
    "FP_INP=${FDIRY}/${FNAME}\n",
    "\n",
    "FDIRY=${FD_RES}/source/cCREs\n",
    "FP_OUT=${FDIRY}/${FNAME}\n",
    "\n",
    "\n",
    "cp ${FP_INP} ${FP_OUT}"
   ]
  },
  {
   "cell_type": "code",
   "execution_count": 9,
   "id": "c242cf29-d664-4255-b458-3b416daf1965",
   "metadata": {},
   "outputs": [
    {
     "name": "stdout",
     "output_type": "stream",
     "text": [
      "/gpfs/fs1/data/reddylab/Kuei/out/proj_combeffect_encode_fcc/source/cCREs/ENCFF971AHO_ENCFF847JMY_ENCFF779QTH_ENCFF405AYC.7group.bed\n",
      "chr1\t181251\t181601\tEH38E1310153\t0\t.\t181251\t181601\t6,218,147\tDNase-only\tAll-data/Full-classification\n",
      "chr1\t190865\t191071\tEH38E1310154\t0\t.\t190865\t191071\t225,225,225\tLow-DNase\tAll-data/Full-classification\n",
      "chr1\t778562\t778912\tEH38E1310158\t0\t.\t778562\t778912\t255,0,0\tPLS,CTCF-bound\tAll-data/Full-classification\n",
      "chr1\t779086\t779355\tEH38E1310159\t0\t.\t779086\t779355\t255,0,0\tPLS\tAll-data/Full-classification\n",
      "chr1\t779727\t780060\tEH38E1310160\t0\t.\t779727\t780060\t225,225,225\tLow-DNase\tAll-data/Full-classification\n",
      "chr1\t790397\t790626\tEH38E1310162\t0\t.\t790397\t790626\t225,225,225\tLow-DNase\tAll-data/Full-classification\n",
      "chr1\t807736\t807916\tEH38E1310164\t0\t.\t807736\t807916\t225,225,225\tLow-DNase\tAll-data/Full-classification\n",
      "chr1\t812113\t812266\tEH38E1310165\t0\t.\t812113\t812266\t225,225,225\tLow-DNase\tAll-data/Full-classification\n",
      "chr1\t817080\t817403\tEH38E1310166\t0\t.\t817080\t817403\t225,225,225\tLow-DNase\tAll-data/Full-classification\n",
      "chr1\t817903\t818252\tEH38E1310167\t0\t.\t817903\t818252\t225,225,225\tLow-DNase\tAll-data/Full-classification\n"
     ]
    }
   ],
   "source": [
    "echo ${FP_OUT}\n",
    "head ${FP_OUT}"
   ]
  },
  {
   "cell_type": "code",
   "execution_count": null,
   "id": "b35cbbfd-894c-404f-a94f-d7ec6a0d9069",
   "metadata": {},
   "outputs": [],
   "source": []
  }
 ],
 "metadata": {
  "kernelspec": {
   "display_name": "Bash",
   "language": "bash",
   "name": "bash"
  },
  "language_info": {
   "codemirror_mode": "shell",
   "file_extension": ".sh",
   "mimetype": "text/x-sh",
   "name": "bash"
  }
 },
 "nbformat": 4,
 "nbformat_minor": 5
}
