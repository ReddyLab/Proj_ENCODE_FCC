{
 "cells": [
  {
   "cell_type": "code",
   "execution_count": 10,
   "id": "f01b334b-67b5-4995-80c9-d581a711302b",
   "metadata": {},
   "outputs": [
    {
     "name": "stdout",
     "output_type": "stream",
     "text": [
      "You are on Duke Server: HARDAC\n",
      "BASE DIRECTORY:     /gpfs/fs1/data/reddylab/Kuei\n",
      "PATH OF SOURCE:     /gpfs/fs1/data/reddylab/Kuei/source\n",
      "PATH OF EXECUTABLE: /gpfs/fs1/data/reddylab/Kuei/exe\n",
      "PATH OF ANNOTATION: /gpfs/fs1/data/reddylab/Kuei/annotation\n",
      "PATH OF PROJECT:    /gpfs/fs1/data/reddylab/Kuei/GitRepo/Proj_CombEffect_ENCODE_FCC/notebooks\n",
      "PATH OF RESULTS:    /gpfs/fs1/data/reddylab/Kuei/out/proj_combeffect_encode_fcc\n",
      "\n"
     ]
    }
   ],
   "source": [
    "source ../config_duke.sh\n",
    "show_env"
   ]
  },
  {
   "cell_type": "code",
   "execution_count": null,
   "id": "2ddd5768-73f7-4b71-8c4e-a3c97e20f34c",
   "metadata": {},
   "outputs": [],
   "source": [
    "FD_ALEX_ASTARR_REGION"
   ]
  },
  {
   "cell_type": "code",
   "execution_count": 11,
   "id": "c3642403-598d-4a2e-8fe8-9c68ac102962",
   "metadata": {},
   "outputs": [],
   "source": [
    "FD_ALEX_ASTARR_REGION=${FD_RLAB}/Alex/encode4_duke/ipynbs/jamborees/20211025_MPRA_STARR_Jamboree/data"
   ]
  },
  {
   "cell_type": "code",
   "execution_count": 4,
   "id": "33ea3e39-7553-4dee-93f1-f4867fa014d5",
   "metadata": {},
   "outputs": [
    {
     "name": "stdout",
     "output_type": "stream",
     "text": [
      "\u001b[0m\u001b[38;5;27mfads\u001b[0m  \u001b[38;5;27mgata1_myc\u001b[0m\n"
     ]
    }
   ],
   "source": [
    "ls ${FD_ALEX_ASTARR_REGION}"
   ]
  },
  {
   "cell_type": "code",
   "execution_count": 5,
   "id": "70268e97-8eab-4a36-add2-08aa683e4b7f",
   "metadata": {},
   "outputs": [
    {
     "name": "stdout",
     "output_type": "stream",
     "text": [
      "\u001b[0m\u001b[38;5;27mmpra\u001b[0m  \u001b[38;5;27mstarrseq\u001b[0m\n"
     ]
    }
   ],
   "source": [
    "ls ${FD_ALEX_ASTARR_REGION}/gata1_myc"
   ]
  },
  {
   "cell_type": "code",
   "execution_count": 3,
   "id": "0d1d56f3-ac7a-48b9-8e93-7e73a11d3317",
   "metadata": {},
   "outputs": [
    {
     "name": "stdout",
     "output_type": "stream",
     "text": [
      "A001.K562.starrseq.GATA1.stranded.counts.txt\n",
      "A001.K562.starrseq.GATA1.unstranded.counts.txt\n",
      "A001.K562.starrseq.input.rep1.GATA1.fragment_counts.stranded.bed\n",
      "A001.K562.starrseq.input.rep1.GATA1.fragment_counts.unstranded.bed\n",
      "A001.K562.starrseq.input.rep1.MYC.fragment_counts.stranded.bed\n",
      "A001.K562.starrseq.input.rep1.MYC.fragment_counts.unstranded.bed\n",
      "A001.K562.starrseq.input.rep2.GATA1.fragment_counts.stranded.bed\n",
      "A001.K562.starrseq.input.rep2.GATA1.fragment_counts.unstranded.bed\n",
      "A001.K562.starrseq.input.rep2.MYC.fragment_counts.stranded.bed\n",
      "A001.K562.starrseq.input.rep2.MYC.fragment_counts.unstranded.bed\n",
      "A001.K562.starrseq.input.rep3.GATA1.fragment_counts.stranded.bed\n",
      "A001.K562.starrseq.input.rep3.GATA1.fragment_counts.unstranded.bed\n",
      "A001.K562.starrseq.input.rep3.MYC.fragment_counts.stranded.bed\n",
      "A001.K562.starrseq.input.rep3.MYC.fragment_counts.unstranded.bed\n",
      "A001.K562.starrseq.input.rep4.GATA1.fragment_counts.stranded.bed\n",
      "A001.K562.starrseq.input.rep4.GATA1.fragment_counts.unstranded.bed\n",
      "A001.K562.starrseq.input.rep4.MYC.fragment_counts.stranded.bed\n",
      "A001.K562.starrseq.input.rep4.MYC.fragment_counts.unstranded.bed\n",
      "A001.K562.starrseq.MYC.stranded.counts.txt\n",
      "A001.K562.starrseq.MYC.unstranded.counts.txt\n",
      "A001.K562.starrseq.output.rep1.GATA1.fragment_counts.stranded.bed\n",
      "A001.K562.starrseq.output.rep1.GATA1.fragment_counts.unstranded.bed\n",
      "A001.K562.starrseq.output.rep1.MYC.fragment_counts.stranded.bed\n",
      "A001.K562.starrseq.output.rep1.MYC.fragment_counts.unstranded.bed\n",
      "A001.K562.starrseq.output.rep2.GATA1.fragment_counts.stranded.bed\n",
      "A001.K562.starrseq.output.rep2.GATA1.fragment_counts.unstranded.bed\n",
      "A001.K562.starrseq.output.rep2.MYC.fragment_counts.stranded.bed\n",
      "A001.K562.starrseq.output.rep2.MYC.fragment_counts.unstranded.bed\n",
      "A001.K562.starrseq.output.rep3.GATA1.fragment_counts.stranded.bed\n",
      "A001.K562.starrseq.output.rep3.GATA1.fragment_counts.unstranded.bed\n",
      "A001.K562.starrseq.output.rep3.MYC.fragment_counts.stranded.bed\n",
      "A001.K562.starrseq.output.rep3.MYC.fragment_counts.unstranded.bed\n",
      "control_HCT116_MCF-7_A549_white.GATA1.fragment_counts.stranded.bed\n",
      "control_HCT116_MCF-7_A549_white.GATA1.fragment_counts.unstranded.bed\n",
      "control_HCT116_MCF-7_A549_white.MYC.fragment_counts.stranded.bed\n",
      "control_HCT116_MCF-7_A549_white.MYC.fragment_counts.unstranded.bed\n",
      "control_HepG2_K562_white.GATA1.fragment_counts.stranded.bed\n",
      "control_HepG2_K562_white.GATA1.fragment_counts.unstranded.bed\n",
      "control_HepG2_K562_white.MYC.fragment_counts.stranded.bed\n",
      "control_HepG2_K562_white.MYC.fragment_counts.unstranded.bed\n",
      "KS91_K562_hg38_ASTARRseq.GATA1.stranded.counts.txt\n",
      "KS91_K562_hg38_ASTARRseq.GATA1.unstranded.counts.txt\n",
      "KS91_K562_hg38_ASTARRseq_Input_rep1.masked.dups_marked.GATA1.fragment_counts.stranded.bed\n",
      "KS91_K562_hg38_ASTARRseq_Input_rep1.masked.dups_marked.GATA1.fragment_counts.unstranded.bed\n",
      "KS91_K562_hg38_ASTARRseq_Input_rep1.masked.dups_marked.MYC.fragment_counts.stranded.bed\n",
      "KS91_K562_hg38_ASTARRseq_Input_rep1.masked.dups_marked.MYC.fragment_counts.unstranded.bed\n",
      "KS91_K562_hg38_ASTARRseq_Input_rep1.masked.dups_marked.sorted.GATA1.fragment_counts.stranded.bed\n",
      "KS91_K562_hg38_ASTARRseq_Input_rep1.masked.dups_marked.sorted.GATA1.fragment_counts.unstranded.bed\n",
      "KS91_K562_hg38_ASTARRseq_Input_rep1.masked.dups_marked.sorted.MYC.fragment_counts.stranded.bed\n",
      "KS91_K562_hg38_ASTARRseq_Input_rep1.masked.dups_marked.sorted.MYC.fragment_counts.unstranded.bed\n",
      "KS91_K562_hg38_ASTARRseq_Input_rep2.masked.dups_marked.GATA1.fragment_counts.stranded.bed\n",
      "KS91_K562_hg38_ASTARRseq_Input_rep2.masked.dups_marked.GATA1.fragment_counts.unstranded.bed\n",
      "KS91_K562_hg38_ASTARRseq_Input_rep2.masked.dups_marked.MYC.fragment_counts.stranded.bed\n",
      "KS91_K562_hg38_ASTARRseq_Input_rep2.masked.dups_marked.MYC.fragment_counts.unstranded.bed\n",
      "KS91_K562_hg38_ASTARRseq_Input_rep2.masked.dups_marked.sorted.GATA1.fragment_counts.stranded.bed\n",
      "KS91_K562_hg38_ASTARRseq_Input_rep2.masked.dups_marked.sorted.GATA1.fragment_counts.unstranded.bed\n",
      "KS91_K562_hg38_ASTARRseq_Input_rep2.masked.dups_marked.sorted.MYC.fragment_counts.stranded.bed\n",
      "KS91_K562_hg38_ASTARRseq_Input_rep2.masked.dups_marked.sorted.MYC.fragment_counts.unstranded.bed\n",
      "KS91_K562_hg38_ASTARRseq_Input_rep3.masked.dups_marked.GATA1.fragment_counts.stranded.bed\n",
      "KS91_K562_hg38_ASTARRseq_Input_rep3.masked.dups_marked.GATA1.fragment_counts.unstranded.bed\n",
      "KS91_K562_hg38_ASTARRseq_Input_rep3.masked.dups_marked.MYC.fragment_counts.stranded.bed\n",
      "KS91_K562_hg38_ASTARRseq_Input_rep3.masked.dups_marked.MYC.fragment_counts.unstranded.bed\n",
      "KS91_K562_hg38_ASTARRseq_Input_rep3.masked.dups_marked.sorted.GATA1.fragment_counts.stranded.bed\n",
      "KS91_K562_hg38_ASTARRseq_Input_rep3.masked.dups_marked.sorted.GATA1.fragment_counts.unstranded.bed\n",
      "KS91_K562_hg38_ASTARRseq_Input_rep3.masked.dups_marked.sorted.MYC.fragment_counts.stranded.bed\n",
      "KS91_K562_hg38_ASTARRseq_Input_rep3.masked.dups_marked.sorted.MYC.fragment_counts.unstranded.bed\n",
      "KS91_K562_hg38_ASTARRseq_Input_rep4.masked.dups_marked.GATA1.fragment_counts.stranded.bed\n",
      "KS91_K562_hg38_ASTARRseq_Input_rep4.masked.dups_marked.GATA1.fragment_counts.unstranded.bed\n",
      "KS91_K562_hg38_ASTARRseq_Input_rep4.masked.dups_marked.MYC.fragment_counts.stranded.bed\n",
      "KS91_K562_hg38_ASTARRseq_Input_rep4.masked.dups_marked.MYC.fragment_counts.unstranded.bed\n",
      "KS91_K562_hg38_ASTARRseq_Input_rep4.masked.dups_marked.sorted.GATA1.fragment_counts.stranded.bed\n",
      "KS91_K562_hg38_ASTARRseq_Input_rep4.masked.dups_marked.sorted.GATA1.fragment_counts.unstranded.bed\n",
      "KS91_K562_hg38_ASTARRseq_Input_rep4.masked.dups_marked.sorted.MYC.fragment_counts.stranded.bed\n",
      "KS91_K562_hg38_ASTARRseq_Input_rep4.masked.dups_marked.sorted.MYC.fragment_counts.unstranded.bed\n",
      "KS91_K562_hg38_ASTARRseq_Input_rep5.masked.dups_marked.GATA1.fragment_counts.stranded.bed\n",
      "KS91_K562_hg38_ASTARRseq_Input_rep5.masked.dups_marked.GATA1.fragment_counts.unstranded.bed\n",
      "KS91_K562_hg38_ASTARRseq_Input_rep5.masked.dups_marked.MYC.fragment_counts.stranded.bed\n",
      "KS91_K562_hg38_ASTARRseq_Input_rep5.masked.dups_marked.MYC.fragment_counts.unstranded.bed\n",
      "KS91_K562_hg38_ASTARRseq_Input_rep5.masked.dups_marked.sorted.GATA1.fragment_counts.stranded.bed\n",
      "KS91_K562_hg38_ASTARRseq_Input_rep5.masked.dups_marked.sorted.GATA1.fragment_counts.unstranded.bed\n",
      "KS91_K562_hg38_ASTARRseq_Input_rep5.masked.dups_marked.sorted.MYC.fragment_counts.stranded.bed\n",
      "KS91_K562_hg38_ASTARRseq_Input_rep5.masked.dups_marked.sorted.MYC.fragment_counts.unstranded.bed\n",
      "KS91_K562_hg38_ASTARRseq_Input_rep6.masked.dups_marked.GATA1.fragment_counts.stranded.bed\n",
      "KS91_K562_hg38_ASTARRseq_Input_rep6.masked.dups_marked.GATA1.fragment_counts.unstranded.bed\n",
      "KS91_K562_hg38_ASTARRseq_Input_rep6.masked.dups_marked.MYC.fragment_counts.stranded.bed\n",
      "KS91_K562_hg38_ASTARRseq_Input_rep6.masked.dups_marked.MYC.fragment_counts.unstranded.bed\n",
      "KS91_K562_hg38_ASTARRseq_Input_rep6.masked.dups_marked.sorted.GATA1.fragment_counts.stranded.bed\n",
      "KS91_K562_hg38_ASTARRseq_Input_rep6.masked.dups_marked.sorted.GATA1.fragment_counts.unstranded.bed\n",
      "KS91_K562_hg38_ASTARRseq_Input_rep6.masked.dups_marked.sorted.MYC.fragment_counts.stranded.bed\n",
      "KS91_K562_hg38_ASTARRseq_Input_rep6.masked.dups_marked.sorted.MYC.fragment_counts.unstranded.bed\n",
      "KS91_K562_hg38_ASTARRseq.MYC.stranded.counts.txt\n",
      "KS91_K562_hg38_ASTARRseq.MYC.unstranded.counts.txt\n",
      "KS91_K562_hg38_ASTARRseq_Output_rep1.f3q10.sorted.with_umis.dups_marked.GATA1.fragment_counts.stranded.bed\n",
      "KS91_K562_hg38_ASTARRseq_Output_rep1.f3q10.sorted.with_umis.dups_marked.GATA1.fragment_counts.unstranded.bed\n",
      "KS91_K562_hg38_ASTARRseq_Output_rep1.f3q10.sorted.with_umis.dups_marked.MYC.fragment_counts.stranded.bed\n",
      "KS91_K562_hg38_ASTARRseq_Output_rep1.f3q10.sorted.with_umis.dups_marked.MYC.fragment_counts.unstranded.bed\n",
      "KS91_K562_hg38_ASTARRseq_Output_rep2.f3q10.sorted.with_umis.dups_marked.GATA1.fragment_counts.stranded.bed\n",
      "KS91_K562_hg38_ASTARRseq_Output_rep2.f3q10.sorted.with_umis.dups_marked.GATA1.fragment_counts.unstranded.bed\n",
      "KS91_K562_hg38_ASTARRseq_Output_rep2.f3q10.sorted.with_umis.dups_marked.MYC.fragment_counts.stranded.bed\n",
      "KS91_K562_hg38_ASTARRseq_Output_rep2.f3q10.sorted.with_umis.dups_marked.MYC.fragment_counts.unstranded.bed\n",
      "KS91_K562_hg38_ASTARRseq_Output_rep3.f3q10.sorted.with_umis.dups_marked.GATA1.fragment_counts.stranded.bed\n",
      "KS91_K562_hg38_ASTARRseq_Output_rep3.f3q10.sorted.with_umis.dups_marked.GATA1.fragment_counts.unstranded.bed\n",
      "KS91_K562_hg38_ASTARRseq_Output_rep3.f3q10.sorted.with_umis.dups_marked.MYC.fragment_counts.stranded.bed\n",
      "KS91_K562_hg38_ASTARRseq_Output_rep3.f3q10.sorted.with_umis.dups_marked.MYC.fragment_counts.unstranded.bed\n",
      "KS91_K562_hg38_ASTARRseq_Output_rep4.f3q10.sorted.with_umis.dups_marked.GATA1.fragment_counts.stranded.bed\n",
      "KS91_K562_hg38_ASTARRseq_Output_rep4.f3q10.sorted.with_umis.dups_marked.GATA1.fragment_counts.unstranded.bed\n",
      "KS91_K562_hg38_ASTARRseq_Output_rep4.f3q10.sorted.with_umis.dups_marked.MYC.fragment_counts.stranded.bed\n",
      "KS91_K562_hg38_ASTARRseq_Output_rep4.f3q10.sorted.with_umis.dups_marked.MYC.fragment_counts.unstranded.bed\n",
      "KW.K562.starrseq.GATA1.stranded.counts.txt\n",
      "KW.K562.starrseq.GATA1.unstranded.counts.txt\n",
      "KW.K562.starrseq.input.rep1.GATA1.fragment_counts.stranded.bed\n",
      "KW.K562.starrseq.input.rep1.GATA1.fragment_counts.unstranded.bed\n",
      "KW.K562.starrseq.input.rep1.MYC.fragment_counts.stranded.bed\n",
      "KW.K562.starrseq.input.rep1.MYC.fragment_counts.unstranded.bed\n",
      "KW.K562.starrseq.MYC.stranded.counts.txt\n",
      "KW.K562.starrseq.MYC.unstranded.counts.txt\n",
      "KW.K562.starrseq.output.rep1.GATA1.fragment_counts.stranded.bed\n",
      "KW.K562.starrseq.output.rep1.GATA1.fragment_counts.unstranded.bed\n",
      "KW.K562.starrseq.output.rep1.MYC.fragment_counts.stranded.bed\n",
      "KW.K562.starrseq.output.rep1.MYC.fragment_counts.unstranded.bed\n",
      "KW.K562.starrseq.output.rep2.GATA1.fragment_counts.stranded.bed\n",
      "KW.K562.starrseq.output.rep2.GATA1.fragment_counts.unstranded.bed\n",
      "KW.K562.starrseq.output.rep2.MYC.fragment_counts.stranded.bed\n",
      "KW.K562.starrseq.output.rep2.MYC.fragment_counts.unstranded.bed\n"
     ]
    }
   ],
   "source": [
    "FD_ALEX=/data/reddylab/Alex\n",
    "ls ${FD_ALEX}/encode4_duke/ipynbs/jamborees/20211025_MPRA_STARR_Jamboree/data/gata1_myc/starrseq/fragments"
   ]
  },
  {
   "cell_type": "code",
   "execution_count": 13,
   "id": "6b6e4dc8-1ee9-4913-95c7-fb4730cbacc8",
   "metadata": {},
   "outputs": [
    {
     "name": "stdout",
     "output_type": "stream",
     "text": [
      "/gpfs/fs1/data/reddylab/Alex/encode4_duke/ipynbs/jamborees/20211025_MPRA_STARR_Jamboree/data/gata1_myc/starrseq/fragments/A001.K562.starrseq.input.rep1.MYC.fragment_counts.stranded.bed\n"
     ]
    }
   ],
   "source": [
    "FNAME=A001.K562.starrseq.input.rep1.MYC.fragment_counts.stranded.bed\n",
    "ls ${FD_ALEX_ASTARR_REGION}/gata1_myc/starrseq/fragments/${FNAME}"
   ]
  },
  {
   "cell_type": "code",
   "execution_count": 14,
   "id": "cbd4cc66-00bc-4d36-8d57-eb0e1928300e",
   "metadata": {},
   "outputs": [
    {
     "name": "stdout",
     "output_type": "stream",
     "text": [
      "chr8\t126736069\t126736518\tchr8_126736069_126736518_+\t1\t+\n",
      "chr8\t126736096\t126736559\tchr8_126736096_126736559_-\t1\t-\n",
      "chr8\t126736430\t126736781\tchr8_126736430_126736781_+\t1\t+\n",
      "chr8\t126736624\t126736744\tchr8_126736624_126736744_+\t1\t+\n",
      "chr8\t126737079\t126737259\tchr8_126737079_126737259_+\t1\t+\n",
      "chr8\t126737472\t126737803\tchr8_126737472_126737803_-\t1\t-\n",
      "chr8\t126737474\t126737795\tchr8_126737474_126737795_+\t1\t+\n",
      "chr8\t126737566\t126738055\tchr8_126737566_126738055_-\t1\t-\n",
      "chr8\t126737721\t126738201\tchr8_126737721_126738201_-\t1\t-\n",
      "chr8\t126737741\t126738130\tchr8_126737741_126738130_+\t1\t+\n"
     ]
    }
   ],
   "source": [
    "head ${FD_ALEX_ASTARR_REGION}/gata1_myc/starrseq/fragments/${FNAME}"
   ]
  },
  {
   "cell_type": "code",
   "execution_count": null,
   "id": "343d3b53-f927-4665-beb2-444dcc1207a0",
   "metadata": {},
   "outputs": [],
   "source": []
  }
 ],
 "metadata": {
  "kernelspec": {
   "display_name": "Bash",
   "language": "bash",
   "name": "bash"
  },
  "language_info": {
   "codemirror_mode": "shell",
   "file_extension": ".sh",
   "mimetype": "text/x-sh",
   "name": "bash"
  }
 },
 "nbformat": 4,
 "nbformat_minor": 5
}
