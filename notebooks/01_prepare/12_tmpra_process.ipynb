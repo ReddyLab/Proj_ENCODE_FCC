{
 "cells": [
  {
   "cell_type": "markdown",
   "id": "18488d8c",
   "metadata": {},
   "source": [
    "**Set environment**"
   ]
  },
  {
   "cell_type": "code",
   "execution_count": 1,
   "id": "6323ed2d",
   "metadata": {},
   "outputs": [
    {
     "name": "stdout",
     "output_type": "stream",
     "text": [
      "You are in Singularity: singularity_proj_combeffect \n",
      "BASE DIRECTORY:     /mount/work \n",
      "PATH OF SOURCE:     /mount/work/source \n",
      "PATH OF EXECUTABLE: /mount/work/exe \n",
      "PATH OF ANNOTATION: /mount/work/annotation \n",
      "PATH OF PROJECT:    /mount/project \n",
      "PATH OF RESULTS:    /mount/work/out/proj_combeffect_encode_fcc \n"
     ]
    }
   ],
   "source": [
    "suppressMessages(suppressWarnings(source(\"../config_sing.R\")))\n",
    "show_env()"
   ]
  },
  {
   "cell_type": "markdown",
   "id": "9c7cb597",
   "metadata": {},
   "source": [
    "## Import data"
   ]
  },
  {
   "cell_type": "code",
   "execution_count": 2,
   "id": "9e6a2c1a",
   "metadata": {},
   "outputs": [],
   "source": [
    "### init: set column names\n",
    "cnames = c(\"Chrom\", \"Start\", \"End\", \"ID\", \"Score\", \"Strand\", \n",
    "           \"log2fc\", \"Input_Count\", \"Output_Count\", \n",
    "           \"log10pval\", \"log10fdr\", \"lfc-se\")"
   ]
  },
  {
   "cell_type": "markdown",
   "id": "8a17af91",
   "metadata": {},
   "source": [
    "**Region: GATA1**"
   ]
  },
  {
   "cell_type": "code",
   "execution_count": 3,
   "id": "b3b3c3aa",
   "metadata": {},
   "outputs": [
    {
     "name": "stdout",
     "output_type": "stream",
     "text": [
      "[1] 52298    12\n"
     ]
    },
    {
     "data": {
      "text/html": [
       "<table class=\"dataframe\">\n",
       "<caption>A tibble: 6 × 12</caption>\n",
       "<thead>\n",
       "\t<tr><th scope=col>Chrom</th><th scope=col>Start</th><th scope=col>End</th><th scope=col>ID</th><th scope=col>Score</th><th scope=col>Strand</th><th scope=col>log2fc</th><th scope=col>Input_Count</th><th scope=col>Output_Count</th><th scope=col>log10pval</th><th scope=col>log10fdr</th><th scope=col>lfc-se</th></tr>\n",
       "\t<tr><th scope=col>&lt;chr&gt;</th><th scope=col>&lt;dbl&gt;</th><th scope=col>&lt;dbl&gt;</th><th scope=col>&lt;chr&gt;</th><th scope=col>&lt;chr&gt;</th><th scope=col>&lt;chr&gt;</th><th scope=col>&lt;dbl&gt;</th><th scope=col>&lt;dbl&gt;</th><th scope=col>&lt;dbl&gt;</th><th scope=col>&lt;dbl&gt;</th><th scope=col>&lt;dbl&gt;</th><th scope=col>&lt;dbl&gt;</th></tr>\n",
       "</thead>\n",
       "<tbody>\n",
       "\t<tr><td>chrX</td><td>47786401</td><td>47786600</td><td>X:47786401-47786600</td><td>.</td><td>+</td><td> 2.30593934</td><td>2117.787</td><td>10474.869</td><td>112.1126526</td><td>110.93113079</td><td>0.10214790</td></tr>\n",
       "\t<tr><td>chrX</td><td>47786451</td><td>47786650</td><td>X:47786451-47786650</td><td>.</td><td>+</td><td> 0.78305606</td><td>1386.007</td><td> 2387.119</td><td> 11.3173884</td><td> 10.64251685</td><td>0.11330705</td></tr>\n",
       "\t<tr><td>chrX</td><td>47786501</td><td>47786700</td><td>X:47786501-47786700</td><td>.</td><td>+</td><td>-0.12873196</td><td>1955.626</td><td> 1788.236</td><td>  0.8450697</td><td>  0.62872262</td><td>0.08785968</td></tr>\n",
       "\t<tr><td>chrX</td><td>47786551</td><td>47786750</td><td>X:47786551-47786750</td><td>.</td><td>+</td><td> 0.58829515</td><td>2388.997</td><td> 3591.264</td><td> 11.2404554</td><td> 10.56667887</td><td>0.08543661</td></tr>\n",
       "\t<tr><td>chrX</td><td>47786601</td><td>47786800</td><td>X:47786601-47786800</td><td>.</td><td>+</td><td> 0.06670014</td><td>2102.916</td><td> 2202.385</td><td>  0.3095900</td><td>  0.21047015</td><td>0.09667741</td></tr>\n",
       "\t<tr><td>chrX</td><td>47786651</td><td>47786850</td><td>X:47786651-47786850</td><td>.</td><td>+</td><td>-0.02967703</td><td>1571.259</td><td> 1537.475</td><td>  0.1009399</td><td>  0.06453099</td><td>0.11287406</td></tr>\n",
       "</tbody>\n",
       "</table>\n"
      ],
      "text/latex": [
       "A tibble: 6 × 12\n",
       "\\begin{tabular}{llllllllllll}\n",
       " Chrom & Start & End & ID & Score & Strand & log2fc & Input\\_Count & Output\\_Count & log10pval & log10fdr & lfc-se\\\\\n",
       " <chr> & <dbl> & <dbl> & <chr> & <chr> & <chr> & <dbl> & <dbl> & <dbl> & <dbl> & <dbl> & <dbl>\\\\\n",
       "\\hline\n",
       "\t chrX & 47786401 & 47786600 & X:47786401-47786600 & . & + &  2.30593934 & 2117.787 & 10474.869 & 112.1126526 & 110.93113079 & 0.10214790\\\\\n",
       "\t chrX & 47786451 & 47786650 & X:47786451-47786650 & . & + &  0.78305606 & 1386.007 &  2387.119 &  11.3173884 &  10.64251685 & 0.11330705\\\\\n",
       "\t chrX & 47786501 & 47786700 & X:47786501-47786700 & . & + & -0.12873196 & 1955.626 &  1788.236 &   0.8450697 &   0.62872262 & 0.08785968\\\\\n",
       "\t chrX & 47786551 & 47786750 & X:47786551-47786750 & . & + &  0.58829515 & 2388.997 &  3591.264 &  11.2404554 &  10.56667887 & 0.08543661\\\\\n",
       "\t chrX & 47786601 & 47786800 & X:47786601-47786800 & . & + &  0.06670014 & 2102.916 &  2202.385 &   0.3095900 &   0.21047015 & 0.09667741\\\\\n",
       "\t chrX & 47786651 & 47786850 & X:47786651-47786850 & . & + & -0.02967703 & 1571.259 &  1537.475 &   0.1009399 &   0.06453099 & 0.11287406\\\\\n",
       "\\end{tabular}\n"
      ],
      "text/markdown": [
       "\n",
       "A tibble: 6 × 12\n",
       "\n",
       "| Chrom &lt;chr&gt; | Start &lt;dbl&gt; | End &lt;dbl&gt; | ID &lt;chr&gt; | Score &lt;chr&gt; | Strand &lt;chr&gt; | log2fc &lt;dbl&gt; | Input_Count &lt;dbl&gt; | Output_Count &lt;dbl&gt; | log10pval &lt;dbl&gt; | log10fdr &lt;dbl&gt; | lfc-se &lt;dbl&gt; |\n",
       "|---|---|---|---|---|---|---|---|---|---|---|---|\n",
       "| chrX | 47786401 | 47786600 | X:47786401-47786600 | . | + |  2.30593934 | 2117.787 | 10474.869 | 112.1126526 | 110.93113079 | 0.10214790 |\n",
       "| chrX | 47786451 | 47786650 | X:47786451-47786650 | . | + |  0.78305606 | 1386.007 |  2387.119 |  11.3173884 |  10.64251685 | 0.11330705 |\n",
       "| chrX | 47786501 | 47786700 | X:47786501-47786700 | . | + | -0.12873196 | 1955.626 |  1788.236 |   0.8450697 |   0.62872262 | 0.08785968 |\n",
       "| chrX | 47786551 | 47786750 | X:47786551-47786750 | . | + |  0.58829515 | 2388.997 |  3591.264 |  11.2404554 |  10.56667887 | 0.08543661 |\n",
       "| chrX | 47786601 | 47786800 | X:47786601-47786800 | . | + |  0.06670014 | 2102.916 |  2202.385 |   0.3095900 |   0.21047015 | 0.09667741 |\n",
       "| chrX | 47786651 | 47786850 | X:47786651-47786850 | . | + | -0.02967703 | 1571.259 |  1537.475 |   0.1009399 |   0.06453099 | 0.11287406 |\n",
       "\n"
      ],
      "text/plain": [
       "  Chrom Start    End      ID                  Score Strand log2fc     \n",
       "1 chrX  47786401 47786600 X:47786401-47786600 .     +       2.30593934\n",
       "2 chrX  47786451 47786650 X:47786451-47786650 .     +       0.78305606\n",
       "3 chrX  47786501 47786700 X:47786501-47786700 .     +      -0.12873196\n",
       "4 chrX  47786551 47786750 X:47786551-47786750 .     +       0.58829515\n",
       "5 chrX  47786601 47786800 X:47786601-47786800 .     +       0.06670014\n",
       "6 chrX  47786651 47786850 X:47786651-47786850 .     +      -0.02967703\n",
       "  Input_Count Output_Count log10pval   log10fdr     lfc-se    \n",
       "1 2117.787    10474.869    112.1126526 110.93113079 0.10214790\n",
       "2 1386.007     2387.119     11.3173884  10.64251685 0.11330705\n",
       "3 1955.626     1788.236      0.8450697   0.62872262 0.08785968\n",
       "4 2388.997     3591.264     11.2404554  10.56667887 0.08543661\n",
       "5 2102.916     2202.385      0.3095900   0.21047015 0.09667741\n",
       "6 1571.259     1537.475      0.1009399   0.06453099 0.11287406"
      ]
     },
     "metadata": {},
     "output_type": "display_data"
    }
   ],
   "source": [
    "### init: set file directory and path\n",
    "fdiry = file.path(FD_RES, \"Tewhey_K562_TileMPRA\", \"count\")\n",
    "fname = \"Tile_K562_hg38_20210130.GATA1.stranded_pos.bed\"\n",
    "fpath = file.path(fdiry, fname)\n",
    "\n",
    "### import data\n",
    "dat = read_tsv(fpath, col_names = cnames, show_col_types = FALSE)\n",
    "\n",
    "### assign\n",
    "dat_tmpra_gata1 = dat\n",
    "print(dim(dat))\n",
    "head(dat)"
   ]
  },
  {
   "cell_type": "markdown",
   "id": "c23512be",
   "metadata": {},
   "source": [
    "**Region: MYC**"
   ]
  },
  {
   "cell_type": "code",
   "execution_count": 4,
   "id": "bb882112",
   "metadata": {},
   "outputs": [
    {
     "name": "stdout",
     "output_type": "stream",
     "text": [
      "[1] 41890    12\n"
     ]
    },
    {
     "data": {
      "text/html": [
       "<table class=\"dataframe\">\n",
       "<caption>A tibble: 6 × 12</caption>\n",
       "<thead>\n",
       "\t<tr><th scope=col>Chrom</th><th scope=col>Start</th><th scope=col>End</th><th scope=col>ID</th><th scope=col>Score</th><th scope=col>Strand</th><th scope=col>log2fc</th><th scope=col>Input_Count</th><th scope=col>Output_Count</th><th scope=col>log10pval</th><th scope=col>log10fdr</th><th scope=col>lfc-se</th></tr>\n",
       "\t<tr><th scope=col>&lt;chr&gt;</th><th scope=col>&lt;dbl&gt;</th><th scope=col>&lt;dbl&gt;</th><th scope=col>&lt;chr&gt;</th><th scope=col>&lt;chr&gt;</th><th scope=col>&lt;chr&gt;</th><th scope=col>&lt;dbl&gt;</th><th scope=col>&lt;dbl&gt;</th><th scope=col>&lt;dbl&gt;</th><th scope=col>&lt;dbl&gt;</th><th scope=col>&lt;dbl&gt;</th><th scope=col>&lt;dbl&gt;</th></tr>\n",
       "</thead>\n",
       "<tbody>\n",
       "\t<tr><td>chr8</td><td>126735901</td><td>126736100</td><td>8:126735901-126736100</td><td>.</td><td>+</td><td> 3.2160073</td><td>889.8700</td><td>8270.0812</td><td>284.9689198</td><td>283.4609266</td><td>0.08903507</td></tr>\n",
       "\t<tr><td>chr8</td><td>126735951</td><td>126736150</td><td>8:126735951-126736150</td><td>.</td><td>+</td><td> 2.7418446</td><td>125.8346</td><td> 840.9388</td><td>113.6888331</td><td>112.5014934</td><td>0.12060331</td></tr>\n",
       "\t<tr><td>chr8</td><td>126736001</td><td>126736200</td><td>8:126736001-126736200</td><td>.</td><td>+</td><td> 2.9727423</td><td>510.3155</td><td>4005.3567</td><td>184.5772002</td><td>183.2318991</td><td>0.10239769</td></tr>\n",
       "\t<tr><td>chr8</td><td>126736051</td><td>126736250</td><td>8:126736051-126736250</td><td>.</td><td>+</td><td> 0.5182375</td><td>702.5493</td><td>1005.3594</td><td>  5.5903406</td><td>  5.0334324</td><td>0.11020176</td></tr>\n",
       "\t<tr><td>chr8</td><td>126736101</td><td>126736300</td><td>8:126736101-126736300</td><td>.</td><td>+</td><td> 0.8541811</td><td>551.0831</td><td> 995.4698</td><td> 14.4458053</td><td> 13.7295763</td><td>0.10855385</td></tr>\n",
       "\t<tr><td>chr8</td><td>126736151</td><td>126736350</td><td>8:126736151-126736350</td><td>.</td><td>+</td><td>-0.1705365</td><td>916.6257</td><td> 814.0604</td><td>  0.8691763</td><td>  0.6486783</td><td>0.11414081</td></tr>\n",
       "</tbody>\n",
       "</table>\n"
      ],
      "text/latex": [
       "A tibble: 6 × 12\n",
       "\\begin{tabular}{llllllllllll}\n",
       " Chrom & Start & End & ID & Score & Strand & log2fc & Input\\_Count & Output\\_Count & log10pval & log10fdr & lfc-se\\\\\n",
       " <chr> & <dbl> & <dbl> & <chr> & <chr> & <chr> & <dbl> & <dbl> & <dbl> & <dbl> & <dbl> & <dbl>\\\\\n",
       "\\hline\n",
       "\t chr8 & 126735901 & 126736100 & 8:126735901-126736100 & . & + &  3.2160073 & 889.8700 & 8270.0812 & 284.9689198 & 283.4609266 & 0.08903507\\\\\n",
       "\t chr8 & 126735951 & 126736150 & 8:126735951-126736150 & . & + &  2.7418446 & 125.8346 &  840.9388 & 113.6888331 & 112.5014934 & 0.12060331\\\\\n",
       "\t chr8 & 126736001 & 126736200 & 8:126736001-126736200 & . & + &  2.9727423 & 510.3155 & 4005.3567 & 184.5772002 & 183.2318991 & 0.10239769\\\\\n",
       "\t chr8 & 126736051 & 126736250 & 8:126736051-126736250 & . & + &  0.5182375 & 702.5493 & 1005.3594 &   5.5903406 &   5.0334324 & 0.11020176\\\\\n",
       "\t chr8 & 126736101 & 126736300 & 8:126736101-126736300 & . & + &  0.8541811 & 551.0831 &  995.4698 &  14.4458053 &  13.7295763 & 0.10855385\\\\\n",
       "\t chr8 & 126736151 & 126736350 & 8:126736151-126736350 & . & + & -0.1705365 & 916.6257 &  814.0604 &   0.8691763 &   0.6486783 & 0.11414081\\\\\n",
       "\\end{tabular}\n"
      ],
      "text/markdown": [
       "\n",
       "A tibble: 6 × 12\n",
       "\n",
       "| Chrom &lt;chr&gt; | Start &lt;dbl&gt; | End &lt;dbl&gt; | ID &lt;chr&gt; | Score &lt;chr&gt; | Strand &lt;chr&gt; | log2fc &lt;dbl&gt; | Input_Count &lt;dbl&gt; | Output_Count &lt;dbl&gt; | log10pval &lt;dbl&gt; | log10fdr &lt;dbl&gt; | lfc-se &lt;dbl&gt; |\n",
       "|---|---|---|---|---|---|---|---|---|---|---|---|\n",
       "| chr8 | 126735901 | 126736100 | 8:126735901-126736100 | . | + |  3.2160073 | 889.8700 | 8270.0812 | 284.9689198 | 283.4609266 | 0.08903507 |\n",
       "| chr8 | 126735951 | 126736150 | 8:126735951-126736150 | . | + |  2.7418446 | 125.8346 |  840.9388 | 113.6888331 | 112.5014934 | 0.12060331 |\n",
       "| chr8 | 126736001 | 126736200 | 8:126736001-126736200 | . | + |  2.9727423 | 510.3155 | 4005.3567 | 184.5772002 | 183.2318991 | 0.10239769 |\n",
       "| chr8 | 126736051 | 126736250 | 8:126736051-126736250 | . | + |  0.5182375 | 702.5493 | 1005.3594 |   5.5903406 |   5.0334324 | 0.11020176 |\n",
       "| chr8 | 126736101 | 126736300 | 8:126736101-126736300 | . | + |  0.8541811 | 551.0831 |  995.4698 |  14.4458053 |  13.7295763 | 0.10855385 |\n",
       "| chr8 | 126736151 | 126736350 | 8:126736151-126736350 | . | + | -0.1705365 | 916.6257 |  814.0604 |   0.8691763 |   0.6486783 | 0.11414081 |\n",
       "\n"
      ],
      "text/plain": [
       "  Chrom Start     End       ID                    Score Strand log2fc    \n",
       "1 chr8  126735901 126736100 8:126735901-126736100 .     +       3.2160073\n",
       "2 chr8  126735951 126736150 8:126735951-126736150 .     +       2.7418446\n",
       "3 chr8  126736001 126736200 8:126736001-126736200 .     +       2.9727423\n",
       "4 chr8  126736051 126736250 8:126736051-126736250 .     +       0.5182375\n",
       "5 chr8  126736101 126736300 8:126736101-126736300 .     +       0.8541811\n",
       "6 chr8  126736151 126736350 8:126736151-126736350 .     +      -0.1705365\n",
       "  Input_Count Output_Count log10pval   log10fdr    lfc-se    \n",
       "1 889.8700    8270.0812    284.9689198 283.4609266 0.08903507\n",
       "2 125.8346     840.9388    113.6888331 112.5014934 0.12060331\n",
       "3 510.3155    4005.3567    184.5772002 183.2318991 0.10239769\n",
       "4 702.5493    1005.3594      5.5903406   5.0334324 0.11020176\n",
       "5 551.0831     995.4698     14.4458053  13.7295763 0.10855385\n",
       "6 916.6257     814.0604      0.8691763   0.6486783 0.11414081"
      ]
     },
     "metadata": {},
     "output_type": "display_data"
    }
   ],
   "source": [
    "### init: set file directory and path\n",
    "fdiry = file.path(FD_RES, \"Tewhey_K562_TileMPRA\", \"count\")\n",
    "fname = \"Tile_K562_hg38_20210130.MYC.stranded_pos.bed\"\n",
    "fpath = file.path(fdiry, fname)\n",
    "\n",
    "### import data\n",
    "dat = read_tsv(fpath, col_names = cnames, show_col_types = FALSE)\n",
    "\n",
    "### assign\n",
    "dat_tmpra_myc = dat\n",
    "print(dim(dat))\n",
    "head(dat)"
   ]
  },
  {
   "cell_type": "markdown",
   "id": "891301ab",
   "metadata": {},
   "source": [
    "**Region: FADS**"
   ]
  },
  {
   "cell_type": "code",
   "execution_count": 5,
   "id": "c243e6c0",
   "metadata": {},
   "outputs": [
    {
     "name": "stdout",
     "output_type": "stream",
     "text": [
      "[1] 21915    12\n"
     ]
    },
    {
     "data": {
      "text/html": [
       "<table class=\"dataframe\">\n",
       "<caption>A tibble: 6 × 12</caption>\n",
       "<thead>\n",
       "\t<tr><th scope=col>Chrom</th><th scope=col>Start</th><th scope=col>End</th><th scope=col>ID</th><th scope=col>Score</th><th scope=col>Strand</th><th scope=col>log2fc</th><th scope=col>Input_Count</th><th scope=col>Output_Count</th><th scope=col>log10pval</th><th scope=col>log10fdr</th><th scope=col>lfc-se</th></tr>\n",
       "\t<tr><th scope=col>&lt;chr&gt;</th><th scope=col>&lt;dbl&gt;</th><th scope=col>&lt;dbl&gt;</th><th scope=col>&lt;chr&gt;</th><th scope=col>&lt;chr&gt;</th><th scope=col>&lt;chr&gt;</th><th scope=col>&lt;dbl&gt;</th><th scope=col>&lt;dbl&gt;</th><th scope=col>&lt;dbl&gt;</th><th scope=col>&lt;dbl&gt;</th><th scope=col>&lt;dbl&gt;</th><th scope=col>&lt;dbl&gt;</th></tr>\n",
       "</thead>\n",
       "<tbody>\n",
       "\t<tr><td>chr11</td><td>61787329</td><td>61787528</td><td>11:61554801-61555000</td><td>.</td><td>+</td><td>-0.8576390</td><td>539.0699</td><td>297.7152</td><td>0.9314836</td><td>0.43422007</td><td>0.5472744</td></tr>\n",
       "\t<tr><td>chr11</td><td>61787334</td><td>61787533</td><td>11:61554806-61555005</td><td>.</td><td>+</td><td>-0.7791248</td><td>609.2923</td><td>355.0390</td><td>0.8632774</td><td>0.38343441</td><td>0.5239386</td></tr>\n",
       "\t<tr><td>chr11</td><td>61787339</td><td>61787538</td><td>11:61554811-61555010</td><td>.</td><td>+</td><td>-0.3964017</td><td>643.6583</td><td>489.5357</td><td>0.2609375</td><td>0.06229715</td><td>0.6604212</td></tr>\n",
       "\t<tr><td>chr11</td><td>61787344</td><td>61787543</td><td>11:61554816-61555015</td><td>.</td><td>+</td><td>-0.4890287</td><td>564.8271</td><td>402.1050</td><td>0.5127084</td><td>0.16165458</td><td>0.4788257</td></tr>\n",
       "\t<tr><td>chr11</td><td>61787349</td><td>61787548</td><td>11:61554821-61555020</td><td>.</td><td>+</td><td>-0.5890130</td><td>573.6885</td><td>381.0889</td><td>0.6537189</td><td>0.24097545</td><td>0.4822740</td></tr>\n",
       "\t<tr><td>chr11</td><td>61787354</td><td>61787553</td><td>11:61554826-61555025</td><td>.</td><td>+</td><td>-0.8868269</td><td>385.0239</td><td>208.4159</td><td>0.7016740</td><td>0.27254271</td><td>0.6900860</td></tr>\n",
       "</tbody>\n",
       "</table>\n"
      ],
      "text/latex": [
       "A tibble: 6 × 12\n",
       "\\begin{tabular}{llllllllllll}\n",
       " Chrom & Start & End & ID & Score & Strand & log2fc & Input\\_Count & Output\\_Count & log10pval & log10fdr & lfc-se\\\\\n",
       " <chr> & <dbl> & <dbl> & <chr> & <chr> & <chr> & <dbl> & <dbl> & <dbl> & <dbl> & <dbl> & <dbl>\\\\\n",
       "\\hline\n",
       "\t chr11 & 61787329 & 61787528 & 11:61554801-61555000 & . & + & -0.8576390 & 539.0699 & 297.7152 & 0.9314836 & 0.43422007 & 0.5472744\\\\\n",
       "\t chr11 & 61787334 & 61787533 & 11:61554806-61555005 & . & + & -0.7791248 & 609.2923 & 355.0390 & 0.8632774 & 0.38343441 & 0.5239386\\\\\n",
       "\t chr11 & 61787339 & 61787538 & 11:61554811-61555010 & . & + & -0.3964017 & 643.6583 & 489.5357 & 0.2609375 & 0.06229715 & 0.6604212\\\\\n",
       "\t chr11 & 61787344 & 61787543 & 11:61554816-61555015 & . & + & -0.4890287 & 564.8271 & 402.1050 & 0.5127084 & 0.16165458 & 0.4788257\\\\\n",
       "\t chr11 & 61787349 & 61787548 & 11:61554821-61555020 & . & + & -0.5890130 & 573.6885 & 381.0889 & 0.6537189 & 0.24097545 & 0.4822740\\\\\n",
       "\t chr11 & 61787354 & 61787553 & 11:61554826-61555025 & . & + & -0.8868269 & 385.0239 & 208.4159 & 0.7016740 & 0.27254271 & 0.6900860\\\\\n",
       "\\end{tabular}\n"
      ],
      "text/markdown": [
       "\n",
       "A tibble: 6 × 12\n",
       "\n",
       "| Chrom &lt;chr&gt; | Start &lt;dbl&gt; | End &lt;dbl&gt; | ID &lt;chr&gt; | Score &lt;chr&gt; | Strand &lt;chr&gt; | log2fc &lt;dbl&gt; | Input_Count &lt;dbl&gt; | Output_Count &lt;dbl&gt; | log10pval &lt;dbl&gt; | log10fdr &lt;dbl&gt; | lfc-se &lt;dbl&gt; |\n",
       "|---|---|---|---|---|---|---|---|---|---|---|---|\n",
       "| chr11 | 61787329 | 61787528 | 11:61554801-61555000 | . | + | -0.8576390 | 539.0699 | 297.7152 | 0.9314836 | 0.43422007 | 0.5472744 |\n",
       "| chr11 | 61787334 | 61787533 | 11:61554806-61555005 | . | + | -0.7791248 | 609.2923 | 355.0390 | 0.8632774 | 0.38343441 | 0.5239386 |\n",
       "| chr11 | 61787339 | 61787538 | 11:61554811-61555010 | . | + | -0.3964017 | 643.6583 | 489.5357 | 0.2609375 | 0.06229715 | 0.6604212 |\n",
       "| chr11 | 61787344 | 61787543 | 11:61554816-61555015 | . | + | -0.4890287 | 564.8271 | 402.1050 | 0.5127084 | 0.16165458 | 0.4788257 |\n",
       "| chr11 | 61787349 | 61787548 | 11:61554821-61555020 | . | + | -0.5890130 | 573.6885 | 381.0889 | 0.6537189 | 0.24097545 | 0.4822740 |\n",
       "| chr11 | 61787354 | 61787553 | 11:61554826-61555025 | . | + | -0.8868269 | 385.0239 | 208.4159 | 0.7016740 | 0.27254271 | 0.6900860 |\n",
       "\n"
      ],
      "text/plain": [
       "  Chrom Start    End      ID                   Score Strand log2fc    \n",
       "1 chr11 61787329 61787528 11:61554801-61555000 .     +      -0.8576390\n",
       "2 chr11 61787334 61787533 11:61554806-61555005 .     +      -0.7791248\n",
       "3 chr11 61787339 61787538 11:61554811-61555010 .     +      -0.3964017\n",
       "4 chr11 61787344 61787543 11:61554816-61555015 .     +      -0.4890287\n",
       "5 chr11 61787349 61787548 11:61554821-61555020 .     +      -0.5890130\n",
       "6 chr11 61787354 61787553 11:61554826-61555025 .     +      -0.8868269\n",
       "  Input_Count Output_Count log10pval log10fdr   lfc-se   \n",
       "1 539.0699    297.7152     0.9314836 0.43422007 0.5472744\n",
       "2 609.2923    355.0390     0.8632774 0.38343441 0.5239386\n",
       "3 643.6583    489.5357     0.2609375 0.06229715 0.6604212\n",
       "4 564.8271    402.1050     0.5127084 0.16165458 0.4788257\n",
       "5 573.6885    381.0889     0.6537189 0.24097545 0.4822740\n",
       "6 385.0239    208.4159     0.7016740 0.27254271 0.6900860"
      ]
     },
     "metadata": {},
     "output_type": "display_data"
    }
   ],
   "source": [
    "### init: set file directory and path\n",
    "fdiry = file.path(FD_RES, \"Tewhey_K562_TileMPRA\", \"count\")\n",
    "fname = \"Tile_K562_hg38_20200905.FADS.stranded_pos.bed\"\n",
    "fpath = file.path(fdiry, fname)\n",
    "\n",
    "### import data\n",
    "dat = read_tsv(fpath, col_names = cnames, show_col_types = FALSE)\n",
    "\n",
    "### assign\n",
    "dat_tmpra_fads_pos = dat\n",
    "print(dim(dat))\n",
    "head(dat)"
   ]
  },
  {
   "cell_type": "code",
   "execution_count": 6,
   "id": "e73fdffc",
   "metadata": {},
   "outputs": [
    {
     "name": "stdout",
     "output_type": "stream",
     "text": [
      "[1] 21961    12\n"
     ]
    },
    {
     "data": {
      "text/html": [
       "<table class=\"dataframe\">\n",
       "<caption>A tibble: 6 × 12</caption>\n",
       "<thead>\n",
       "\t<tr><th scope=col>Chrom</th><th scope=col>Start</th><th scope=col>End</th><th scope=col>ID</th><th scope=col>Score</th><th scope=col>Strand</th><th scope=col>log2fc</th><th scope=col>Input_Count</th><th scope=col>Output_Count</th><th scope=col>log10pval</th><th scope=col>log10fdr</th><th scope=col>lfc-se</th></tr>\n",
       "\t<tr><th scope=col>&lt;chr&gt;</th><th scope=col>&lt;dbl&gt;</th><th scope=col>&lt;dbl&gt;</th><th scope=col>&lt;chr&gt;</th><th scope=col>&lt;chr&gt;</th><th scope=col>&lt;chr&gt;</th><th scope=col>&lt;dbl&gt;</th><th scope=col>&lt;dbl&gt;</th><th scope=col>&lt;dbl&gt;</th><th scope=col>&lt;dbl&gt;</th><th scope=col>&lt;dbl&gt;</th><th scope=col>&lt;dbl&gt;</th></tr>\n",
       "</thead>\n",
       "<tbody>\n",
       "\t<tr><td>chr11</td><td>61787329</td><td>61787528</td><td>11:61554801-61555000_RC</td><td>.</td><td>-</td><td>-0.8816736</td><td>325.8447</td><td>176.7425</td><td>0.6629859</td><td>0.24698506</td><td>0.7145996</td></tr>\n",
       "\t<tr><td>chr11</td><td>61787334</td><td>61787533</td><td>11:61554806-61555005_RC</td><td>.</td><td>-</td><td>-0.8319054</td><td>336.9266</td><td>189.0981</td><td>0.2785033</td><td>0.06727408</td><td>1.3138630</td></tr>\n",
       "\t<tr><td>chr11</td><td>61787339</td><td>61787538</td><td>11:61554811-61555010_RC</td><td>.</td><td>-</td><td>-0.3913234</td><td>310.1877</td><td>236.2906</td><td>0.1807929</td><td>0.04025238</td><td>0.8881207</td></tr>\n",
       "\t<tr><td>chr11</td><td>61787344</td><td>61787543</td><td>11:61554816-61555015_RC</td><td>.</td><td>-</td><td>-0.7680886</td><td>580.3957</td><td>341.0762</td><td>1.0826533</td><td>0.55132158</td><td>0.4426000</td></tr>\n",
       "\t<tr><td>chr11</td><td>61787349</td><td>61787548</td><td>11:61554821-61555020_RC</td><td>.</td><td>-</td><td>-1.0930768</td><td>544.9915</td><td>255.8054</td><td>1.4462763</td><td>0.85779370</td><td>0.5206762</td></tr>\n",
       "\t<tr><td>chr11</td><td>61787354</td><td>61787553</td><td>11:61554826-61555025_RC</td><td>.</td><td>-</td><td>-0.4438571</td><td>386.6333</td><td>284.0809</td><td>0.3988543</td><td>0.10989513</td><td>0.5264431</td></tr>\n",
       "</tbody>\n",
       "</table>\n"
      ],
      "text/latex": [
       "A tibble: 6 × 12\n",
       "\\begin{tabular}{llllllllllll}\n",
       " Chrom & Start & End & ID & Score & Strand & log2fc & Input\\_Count & Output\\_Count & log10pval & log10fdr & lfc-se\\\\\n",
       " <chr> & <dbl> & <dbl> & <chr> & <chr> & <chr> & <dbl> & <dbl> & <dbl> & <dbl> & <dbl> & <dbl>\\\\\n",
       "\\hline\n",
       "\t chr11 & 61787329 & 61787528 & 11:61554801-61555000\\_RC & . & - & -0.8816736 & 325.8447 & 176.7425 & 0.6629859 & 0.24698506 & 0.7145996\\\\\n",
       "\t chr11 & 61787334 & 61787533 & 11:61554806-61555005\\_RC & . & - & -0.8319054 & 336.9266 & 189.0981 & 0.2785033 & 0.06727408 & 1.3138630\\\\\n",
       "\t chr11 & 61787339 & 61787538 & 11:61554811-61555010\\_RC & . & - & -0.3913234 & 310.1877 & 236.2906 & 0.1807929 & 0.04025238 & 0.8881207\\\\\n",
       "\t chr11 & 61787344 & 61787543 & 11:61554816-61555015\\_RC & . & - & -0.7680886 & 580.3957 & 341.0762 & 1.0826533 & 0.55132158 & 0.4426000\\\\\n",
       "\t chr11 & 61787349 & 61787548 & 11:61554821-61555020\\_RC & . & - & -1.0930768 & 544.9915 & 255.8054 & 1.4462763 & 0.85779370 & 0.5206762\\\\\n",
       "\t chr11 & 61787354 & 61787553 & 11:61554826-61555025\\_RC & . & - & -0.4438571 & 386.6333 & 284.0809 & 0.3988543 & 0.10989513 & 0.5264431\\\\\n",
       "\\end{tabular}\n"
      ],
      "text/markdown": [
       "\n",
       "A tibble: 6 × 12\n",
       "\n",
       "| Chrom &lt;chr&gt; | Start &lt;dbl&gt; | End &lt;dbl&gt; | ID &lt;chr&gt; | Score &lt;chr&gt; | Strand &lt;chr&gt; | log2fc &lt;dbl&gt; | Input_Count &lt;dbl&gt; | Output_Count &lt;dbl&gt; | log10pval &lt;dbl&gt; | log10fdr &lt;dbl&gt; | lfc-se &lt;dbl&gt; |\n",
       "|---|---|---|---|---|---|---|---|---|---|---|---|\n",
       "| chr11 | 61787329 | 61787528 | 11:61554801-61555000_RC | . | - | -0.8816736 | 325.8447 | 176.7425 | 0.6629859 | 0.24698506 | 0.7145996 |\n",
       "| chr11 | 61787334 | 61787533 | 11:61554806-61555005_RC | . | - | -0.8319054 | 336.9266 | 189.0981 | 0.2785033 | 0.06727408 | 1.3138630 |\n",
       "| chr11 | 61787339 | 61787538 | 11:61554811-61555010_RC | . | - | -0.3913234 | 310.1877 | 236.2906 | 0.1807929 | 0.04025238 | 0.8881207 |\n",
       "| chr11 | 61787344 | 61787543 | 11:61554816-61555015_RC | . | - | -0.7680886 | 580.3957 | 341.0762 | 1.0826533 | 0.55132158 | 0.4426000 |\n",
       "| chr11 | 61787349 | 61787548 | 11:61554821-61555020_RC | . | - | -1.0930768 | 544.9915 | 255.8054 | 1.4462763 | 0.85779370 | 0.5206762 |\n",
       "| chr11 | 61787354 | 61787553 | 11:61554826-61555025_RC | . | - | -0.4438571 | 386.6333 | 284.0809 | 0.3988543 | 0.10989513 | 0.5264431 |\n",
       "\n"
      ],
      "text/plain": [
       "  Chrom Start    End      ID                      Score Strand log2fc    \n",
       "1 chr11 61787329 61787528 11:61554801-61555000_RC .     -      -0.8816736\n",
       "2 chr11 61787334 61787533 11:61554806-61555005_RC .     -      -0.8319054\n",
       "3 chr11 61787339 61787538 11:61554811-61555010_RC .     -      -0.3913234\n",
       "4 chr11 61787344 61787543 11:61554816-61555015_RC .     -      -0.7680886\n",
       "5 chr11 61787349 61787548 11:61554821-61555020_RC .     -      -1.0930768\n",
       "6 chr11 61787354 61787553 11:61554826-61555025_RC .     -      -0.4438571\n",
       "  Input_Count Output_Count log10pval log10fdr   lfc-se   \n",
       "1 325.8447    176.7425     0.6629859 0.24698506 0.7145996\n",
       "2 336.9266    189.0981     0.2785033 0.06727408 1.3138630\n",
       "3 310.1877    236.2906     0.1807929 0.04025238 0.8881207\n",
       "4 580.3957    341.0762     1.0826533 0.55132158 0.4426000\n",
       "5 544.9915    255.8054     1.4462763 0.85779370 0.5206762\n",
       "6 386.6333    284.0809     0.3988543 0.10989513 0.5264431"
      ]
     },
     "metadata": {},
     "output_type": "display_data"
    }
   ],
   "source": [
    "### init: set file directory and path\n",
    "fdiry = file.path(FD_RES, \"Tewhey_K562_TileMPRA\", \"count\")\n",
    "fname = \"Tile_K562_hg38_20200905.FADS.stranded_neg.bed\"\n",
    "fpath = file.path(fdiry, fname)\n",
    "\n",
    "### import data\n",
    "dat = read_tsv(fpath, col_names = cnames, show_col_types = FALSE)\n",
    "\n",
    "### assign\n",
    "dat_tmpra_fads_neg = dat\n",
    "print(dim(dat))\n",
    "head(dat)"
   ]
  },
  {
   "cell_type": "markdown",
   "id": "8ee1a16a",
   "metadata": {},
   "source": [
    "## Total counts and store"
   ]
  },
  {
   "cell_type": "code",
   "execution_count": 7,
   "id": "e1ff47f1",
   "metadata": {},
   "outputs": [
    {
     "data": {
      "text/html": [
       "<table class=\"dataframe\">\n",
       "<caption>A tibble: 6 × 12</caption>\n",
       "<thead>\n",
       "\t<tr><th scope=col>Chrom</th><th scope=col>Start</th><th scope=col>End</th><th scope=col>ID</th><th scope=col>Score</th><th scope=col>Strand</th><th scope=col>log2fc</th><th scope=col>Input_Count</th><th scope=col>Output_Count</th><th scope=col>log10pval</th><th scope=col>log10fdr</th><th scope=col>lfc-se</th></tr>\n",
       "\t<tr><th scope=col>&lt;chr&gt;</th><th scope=col>&lt;dbl&gt;</th><th scope=col>&lt;dbl&gt;</th><th scope=col>&lt;chr&gt;</th><th scope=col>&lt;chr&gt;</th><th scope=col>&lt;chr&gt;</th><th scope=col>&lt;dbl&gt;</th><th scope=col>&lt;dbl&gt;</th><th scope=col>&lt;dbl&gt;</th><th scope=col>&lt;dbl&gt;</th><th scope=col>&lt;dbl&gt;</th><th scope=col>&lt;dbl&gt;</th></tr>\n",
       "</thead>\n",
       "<tbody>\n",
       "\t<tr><td>chrX</td><td>47786401</td><td>47786600</td><td>X:47786401-47786600</td><td>.</td><td>+</td><td> 2.30593934</td><td>2117.787</td><td>10474.869</td><td>112.1126526</td><td>110.93113079</td><td>0.10214790</td></tr>\n",
       "\t<tr><td>chrX</td><td>47786451</td><td>47786650</td><td>X:47786451-47786650</td><td>.</td><td>+</td><td> 0.78305606</td><td>1386.007</td><td> 2387.119</td><td> 11.3173884</td><td> 10.64251685</td><td>0.11330705</td></tr>\n",
       "\t<tr><td>chrX</td><td>47786501</td><td>47786700</td><td>X:47786501-47786700</td><td>.</td><td>+</td><td>-0.12873196</td><td>1955.626</td><td> 1788.236</td><td>  0.8450697</td><td>  0.62872262</td><td>0.08785968</td></tr>\n",
       "\t<tr><td>chrX</td><td>47786551</td><td>47786750</td><td>X:47786551-47786750</td><td>.</td><td>+</td><td> 0.58829515</td><td>2388.997</td><td> 3591.264</td><td> 11.2404554</td><td> 10.56667887</td><td>0.08543661</td></tr>\n",
       "\t<tr><td>chrX</td><td>47786601</td><td>47786800</td><td>X:47786601-47786800</td><td>.</td><td>+</td><td> 0.06670014</td><td>2102.916</td><td> 2202.385</td><td>  0.3095900</td><td>  0.21047015</td><td>0.09667741</td></tr>\n",
       "\t<tr><td>chrX</td><td>47786651</td><td>47786850</td><td>X:47786651-47786850</td><td>.</td><td>+</td><td>-0.02967703</td><td>1571.259</td><td> 1537.475</td><td>  0.1009399</td><td>  0.06453099</td><td>0.11287406</td></tr>\n",
       "</tbody>\n",
       "</table>\n"
      ],
      "text/latex": [
       "A tibble: 6 × 12\n",
       "\\begin{tabular}{llllllllllll}\n",
       " Chrom & Start & End & ID & Score & Strand & log2fc & Input\\_Count & Output\\_Count & log10pval & log10fdr & lfc-se\\\\\n",
       " <chr> & <dbl> & <dbl> & <chr> & <chr> & <chr> & <dbl> & <dbl> & <dbl> & <dbl> & <dbl> & <dbl>\\\\\n",
       "\\hline\n",
       "\t chrX & 47786401 & 47786600 & X:47786401-47786600 & . & + &  2.30593934 & 2117.787 & 10474.869 & 112.1126526 & 110.93113079 & 0.10214790\\\\\n",
       "\t chrX & 47786451 & 47786650 & X:47786451-47786650 & . & + &  0.78305606 & 1386.007 &  2387.119 &  11.3173884 &  10.64251685 & 0.11330705\\\\\n",
       "\t chrX & 47786501 & 47786700 & X:47786501-47786700 & . & + & -0.12873196 & 1955.626 &  1788.236 &   0.8450697 &   0.62872262 & 0.08785968\\\\\n",
       "\t chrX & 47786551 & 47786750 & X:47786551-47786750 & . & + &  0.58829515 & 2388.997 &  3591.264 &  11.2404554 &  10.56667887 & 0.08543661\\\\\n",
       "\t chrX & 47786601 & 47786800 & X:47786601-47786800 & . & + &  0.06670014 & 2102.916 &  2202.385 &   0.3095900 &   0.21047015 & 0.09667741\\\\\n",
       "\t chrX & 47786651 & 47786850 & X:47786651-47786850 & . & + & -0.02967703 & 1571.259 &  1537.475 &   0.1009399 &   0.06453099 & 0.11287406\\\\\n",
       "\\end{tabular}\n"
      ],
      "text/markdown": [
       "\n",
       "A tibble: 6 × 12\n",
       "\n",
       "| Chrom &lt;chr&gt; | Start &lt;dbl&gt; | End &lt;dbl&gt; | ID &lt;chr&gt; | Score &lt;chr&gt; | Strand &lt;chr&gt; | log2fc &lt;dbl&gt; | Input_Count &lt;dbl&gt; | Output_Count &lt;dbl&gt; | log10pval &lt;dbl&gt; | log10fdr &lt;dbl&gt; | lfc-se &lt;dbl&gt; |\n",
       "|---|---|---|---|---|---|---|---|---|---|---|---|\n",
       "| chrX | 47786401 | 47786600 | X:47786401-47786600 | . | + |  2.30593934 | 2117.787 | 10474.869 | 112.1126526 | 110.93113079 | 0.10214790 |\n",
       "| chrX | 47786451 | 47786650 | X:47786451-47786650 | . | + |  0.78305606 | 1386.007 |  2387.119 |  11.3173884 |  10.64251685 | 0.11330705 |\n",
       "| chrX | 47786501 | 47786700 | X:47786501-47786700 | . | + | -0.12873196 | 1955.626 |  1788.236 |   0.8450697 |   0.62872262 | 0.08785968 |\n",
       "| chrX | 47786551 | 47786750 | X:47786551-47786750 | . | + |  0.58829515 | 2388.997 |  3591.264 |  11.2404554 |  10.56667887 | 0.08543661 |\n",
       "| chrX | 47786601 | 47786800 | X:47786601-47786800 | . | + |  0.06670014 | 2102.916 |  2202.385 |   0.3095900 |   0.21047015 | 0.09667741 |\n",
       "| chrX | 47786651 | 47786850 | X:47786651-47786850 | . | + | -0.02967703 | 1571.259 |  1537.475 |   0.1009399 |   0.06453099 | 0.11287406 |\n",
       "\n"
      ],
      "text/plain": [
       "  Chrom Start    End      ID                  Score Strand log2fc     \n",
       "1 chrX  47786401 47786600 X:47786401-47786600 .     +       2.30593934\n",
       "2 chrX  47786451 47786650 X:47786451-47786650 .     +       0.78305606\n",
       "3 chrX  47786501 47786700 X:47786501-47786700 .     +      -0.12873196\n",
       "4 chrX  47786551 47786750 X:47786551-47786750 .     +       0.58829515\n",
       "5 chrX  47786601 47786800 X:47786601-47786800 .     +       0.06670014\n",
       "6 chrX  47786651 47786850 X:47786651-47786850 .     +      -0.02967703\n",
       "  Input_Count Output_Count log10pval   log10fdr     lfc-se    \n",
       "1 2117.787    10474.869    112.1126526 110.93113079 0.10214790\n",
       "2 1386.007     2387.119     11.3173884  10.64251685 0.11330705\n",
       "3 1955.626     1788.236      0.8450697   0.62872262 0.08785968\n",
       "4 2388.997     3591.264     11.2404554  10.56667887 0.08543661\n",
       "5 2102.916     2202.385      0.3095900   0.21047015 0.09667741\n",
       "6 1571.259     1537.475      0.1009399   0.06453099 0.11287406"
      ]
     },
     "metadata": {},
     "output_type": "display_data"
    }
   ],
   "source": [
    "dat = dat_tmpra_gata1\n",
    "head(dat)"
   ]
  },
  {
   "cell_type": "code",
   "execution_count": 13,
   "id": "88620a1e",
   "metadata": {},
   "outputs": [
    {
     "data": {
      "text/html": [
       "<table class=\"dataframe\">\n",
       "<caption>A data.frame: 8 × 4</caption>\n",
       "<thead>\n",
       "\t<tr><th scope=col>Region</th><th scope=col>Strand</th><th scope=col>Group</th><th scope=col>Size</th></tr>\n",
       "\t<tr><th scope=col>&lt;chr&gt;</th><th scope=col>&lt;chr&gt;</th><th scope=col>&lt;chr&gt;</th><th scope=col>&lt;dbl&gt;</th></tr>\n",
       "</thead>\n",
       "<tbody>\n",
       "\t<tr><td>GATA1</td><td>stranded_pos</td><td>Input </td><td>26777806</td></tr>\n",
       "\t<tr><td>GATA1</td><td>stranded_pos</td><td>Output</td><td>91437834</td></tr>\n",
       "\t<tr><td>MYC  </td><td>stranded_pos</td><td>Input </td><td>22526034</td></tr>\n",
       "\t<tr><td>MYC  </td><td>stranded_pos</td><td>Output</td><td>42384061</td></tr>\n",
       "\t<tr><td>FADS </td><td>stranded_pos</td><td>Input </td><td> 6408832</td></tr>\n",
       "\t<tr><td>FADS </td><td>stranded_pos</td><td>Output</td><td>21584874</td></tr>\n",
       "\t<tr><td>FADS </td><td>stranded_neg</td><td>Input </td><td> 6318496</td></tr>\n",
       "\t<tr><td>FADS </td><td>stranded_neg</td><td>Output</td><td>20165763</td></tr>\n",
       "</tbody>\n",
       "</table>\n"
      ],
      "text/latex": [
       "A data.frame: 8 × 4\n",
       "\\begin{tabular}{llll}\n",
       " Region & Strand & Group & Size\\\\\n",
       " <chr> & <chr> & <chr> & <dbl>\\\\\n",
       "\\hline\n",
       "\t GATA1 & stranded\\_pos & Input  & 26777806\\\\\n",
       "\t GATA1 & stranded\\_pos & Output & 91437834\\\\\n",
       "\t MYC   & stranded\\_pos & Input  & 22526034\\\\\n",
       "\t MYC   & stranded\\_pos & Output & 42384061\\\\\n",
       "\t FADS  & stranded\\_pos & Input  &  6408832\\\\\n",
       "\t FADS  & stranded\\_pos & Output & 21584874\\\\\n",
       "\t FADS  & stranded\\_neg & Input  &  6318496\\\\\n",
       "\t FADS  & stranded\\_neg & Output & 20165763\\\\\n",
       "\\end{tabular}\n"
      ],
      "text/markdown": [
       "\n",
       "A data.frame: 8 × 4\n",
       "\n",
       "| Region &lt;chr&gt; | Strand &lt;chr&gt; | Group &lt;chr&gt; | Size &lt;dbl&gt; |\n",
       "|---|---|---|---|\n",
       "| GATA1 | stranded_pos | Input  | 26777806 |\n",
       "| GATA1 | stranded_pos | Output | 91437834 |\n",
       "| MYC   | stranded_pos | Input  | 22526034 |\n",
       "| MYC   | stranded_pos | Output | 42384061 |\n",
       "| FADS  | stranded_pos | Input  |  6408832 |\n",
       "| FADS  | stranded_pos | Output | 21584874 |\n",
       "| FADS  | stranded_neg | Input  |  6318496 |\n",
       "| FADS  | stranded_neg | Output | 20165763 |\n",
       "\n"
      ],
      "text/plain": [
       "  Region Strand       Group  Size    \n",
       "1 GATA1  stranded_pos Input  26777806\n",
       "2 GATA1  stranded_pos Output 91437834\n",
       "3 MYC    stranded_pos Input  22526034\n",
       "4 MYC    stranded_pos Output 42384061\n",
       "5 FADS   stranded_pos Input   6408832\n",
       "6 FADS   stranded_pos Output 21584874\n",
       "7 FADS   stranded_neg Input   6318496\n",
       "8 FADS   stranded_neg Output 20165763"
      ]
     },
     "metadata": {},
     "output_type": "display_data"
    }
   ],
   "source": [
    "REGIONS = c(\"GATA1\", \"MYC\", \"FADS\", \"FADS\")\n",
    "STRANDS = c(\n",
    "    \"stranded_pos\",\n",
    "    \"stranded_pos\",\n",
    "    \"stranded_pos\",\n",
    "    \"stranded_neg\")\n",
    "\n",
    "lst = list(\n",
    "    dat_tmpra_gata1,\n",
    "    dat_tmpra_myc,\n",
    "    dat_tmpra_fads_pos,\n",
    "    dat_tmpra_fads_neg)\n",
    "\n",
    "lst = lapply(seq_along(lst), function(idx){\n",
    "    dat     = lst[[idx]]\n",
    "    region  = REGIONS[idx]\n",
    "    strand  = STRANDS[idx]\n",
    "    \n",
    "    cnt_inp = sum(dat$Input_Count)\n",
    "    cnt_out = sum(dat$Output_Count)\n",
    "    dat = data.frame(\n",
    "        Region = region,\n",
    "        Strand = strand,\n",
    "        Group  = c(\"Input\", \"Output\"),\n",
    "        Size   = c(cnt_inp, cnt_out)\n",
    "    )\n",
    "    return(dat)\n",
    "})\n",
    "\n",
    "dat_lib = bind_rows(lst)\n",
    "dat_lib"
   ]
  },
  {
   "cell_type": "code",
   "execution_count": 15,
   "id": "abea501e",
   "metadata": {},
   "outputs": [],
   "source": [
    "### save table\n",
    "fdiry = file.path(FD_RES, \"Tewhey_K562_TileMPRA\", \"coverage\")\n",
    "fname = \"library_size.tsv\"\n",
    "fpath = file.path(fdiry, fname)\n",
    "write_tsv(dat_lib, fpath, col_names = TRUE)"
   ]
  },
  {
   "cell_type": "markdown",
   "id": "ac2d4012",
   "metadata": {},
   "source": [
    "## Round values and store tables"
   ]
  },
  {
   "cell_type": "markdown",
   "id": "b25783b0",
   "metadata": {},
   "source": [
    "**Region: GATA1**"
   ]
  },
  {
   "cell_type": "code",
   "execution_count": 7,
   "id": "07884c30",
   "metadata": {},
   "outputs": [],
   "source": [
    "### round values\n",
    "dat = dat_tmpra_gata1\n",
    "dat = dat %>% \n",
    "    dplyr::select(\n",
    "        Chrom, Start, End, ID, Score, Strand, \n",
    "        log2fc, \n",
    "        Input_Count, \n",
    "        Output_Count) %>%\n",
    "    dplyr::mutate(\n",
    "        log2fc       = round(log2fc,       3),\n",
    "        Input_Count  = round(Input_Count,  3),\n",
    "        Output_Count = round(Output_Count, 3))\n",
    "\n",
    "### save table\n",
    "fdiry = file.path(FD_RES, \"Tewhey_K562_TileMPRA\", \"count\")\n",
    "fname = \"Tile_K562_hg38_20210130.GATA1.stranded_pos.round.bed\"\n",
    "fpath = file.path(fdiry, fname)\n",
    "write_tsv(dat, fpath, col_names = FALSE)"
   ]
  },
  {
   "cell_type": "markdown",
   "id": "dce5b860",
   "metadata": {},
   "source": [
    "**Region: MYC**"
   ]
  },
  {
   "cell_type": "code",
   "execution_count": 8,
   "id": "ae3aa312",
   "metadata": {},
   "outputs": [],
   "source": [
    "### round values\n",
    "dat = dat_tmpra_myc\n",
    "dat = dat %>% \n",
    "    dplyr::select(\n",
    "        Chrom, Start, End, ID, Score, Strand, \n",
    "        log2fc, \n",
    "        Input_Count, \n",
    "        Output_Count) %>%\n",
    "    dplyr::mutate(\n",
    "        log2fc       = round(log2fc,       3),\n",
    "        Input_Count  = round(Input_Count,  3),\n",
    "        Output_Count = round(Output_Count, 3))\n",
    "\n",
    "### save table\n",
    "fdiry = file.path(FD_RES, \"Tewhey_K562_TileMPRA\", \"count\")\n",
    "fname = \"Tile_K562_hg38_20210130.MYC.stranded_pos.round.bed\"\n",
    "fpath = file.path(fdiry, fname)\n",
    "write_tsv(dat, fpath, col_names = FALSE)"
   ]
  },
  {
   "cell_type": "markdown",
   "id": "d7a2bc99",
   "metadata": {},
   "source": [
    "**Region: FADS (+)**"
   ]
  },
  {
   "cell_type": "code",
   "execution_count": 9,
   "id": "7c874fa6",
   "metadata": {},
   "outputs": [],
   "source": [
    "### round values\n",
    "dat = dat_tmpra_fads_pos\n",
    "dat = dat %>% \n",
    "    dplyr::select(\n",
    "        Chrom, Start, End, ID, Score, Strand, \n",
    "        log2fc, \n",
    "        Input_Count, \n",
    "        Output_Count) %>%\n",
    "    dplyr::mutate(\n",
    "        log2fc       = round(log2fc,       3),\n",
    "        Input_Count  = round(Input_Count,  3),\n",
    "        Output_Count = round(Output_Count, 3))\n",
    "\n",
    "### save table\n",
    "fdiry = file.path(FD_RES, \"Tewhey_K562_TileMPRA\", \"count\")\n",
    "fname = \"Tile_K562_hg38_20200905.FADS.stranded_pos.round.bed\"\n",
    "fpath = file.path(fdiry, fname)\n",
    "write_tsv(dat, fpath, col_names = FALSE)"
   ]
  },
  {
   "cell_type": "markdown",
   "id": "a45f6e0e",
   "metadata": {},
   "source": [
    "**Region: FADS (-)**"
   ]
  },
  {
   "cell_type": "code",
   "execution_count": 10,
   "id": "1fb60c07",
   "metadata": {},
   "outputs": [],
   "source": [
    "### round values\n",
    "dat = dat_tmpra_fads_neg\n",
    "dat = dat %>% \n",
    "    dplyr::select(\n",
    "        Chrom, Start, End, ID, Score, Strand, \n",
    "        log2fc, \n",
    "        Input_Count, \n",
    "        Output_Count) %>%\n",
    "    dplyr::mutate(\n",
    "        log2fc       = round(log2fc,       3),\n",
    "        Input_Count  = round(Input_Count,  3),\n",
    "        Output_Count = round(Output_Count, 3))\n",
    "\n",
    "### save table\n",
    "fdiry = file.path(FD_RES, \"Tewhey_K562_TileMPRA\", \"count\")\n",
    "fname = \"Tile_K562_hg38_20200905.FADS.stranded_neg.round.bed\"\n",
    "fpath = file.path(fdiry, fname)\n",
    "write_tsv(dat, fpath, col_names = FALSE)"
   ]
  },
  {
   "cell_type": "code",
   "execution_count": null,
   "id": "75ab7371",
   "metadata": {},
   "outputs": [],
   "source": []
  },
  {
   "cell_type": "code",
   "execution_count": 18,
   "id": "e21d0df8",
   "metadata": {},
   "outputs": [],
   "source": [
    "dat = dat_tmpra_fads_pos\n",
    "dat = dat %>% \n",
    "    dplyr::select(\n",
    "        Chrom, Start, End, ID, Score, Strand, \n",
    "        log2fc, \n",
    "        Input_Count, \n",
    "        Output_Count) %>%\n",
    "    dplyr::mutate(\n",
    "        log2fc       = round(log2fc,       3),\n",
    "        Input_Count  = round(Input_Count,  3),\n",
    "        Output_Count = round(Output_Count, 3))"
   ]
  },
  {
   "cell_type": "code",
   "execution_count": 19,
   "id": "c906f6cf",
   "metadata": {},
   "outputs": [
    {
     "data": {
      "text/html": [
       "<table class=\"dataframe\">\n",
       "<caption>A tibble: 6 × 9</caption>\n",
       "<thead>\n",
       "\t<tr><th scope=col>Chrom</th><th scope=col>Start</th><th scope=col>End</th><th scope=col>ID</th><th scope=col>Score</th><th scope=col>Strand</th><th scope=col>log2fc</th><th scope=col>Input_Count</th><th scope=col>Output_Count</th></tr>\n",
       "\t<tr><th scope=col>&lt;chr&gt;</th><th scope=col>&lt;dbl&gt;</th><th scope=col>&lt;dbl&gt;</th><th scope=col>&lt;chr&gt;</th><th scope=col>&lt;chr&gt;</th><th scope=col>&lt;chr&gt;</th><th scope=col>&lt;dbl&gt;</th><th scope=col>&lt;dbl&gt;</th><th scope=col>&lt;dbl&gt;</th></tr>\n",
       "</thead>\n",
       "<tbody>\n",
       "\t<tr><td>chr11</td><td>61787329</td><td>61787528</td><td>11:61554801-61555000</td><td>.</td><td>+</td><td>-0.858</td><td>539.070</td><td>297.715</td></tr>\n",
       "\t<tr><td>chr11</td><td>61787334</td><td>61787533</td><td>11:61554806-61555005</td><td>.</td><td>+</td><td>-0.779</td><td>609.292</td><td>355.039</td></tr>\n",
       "\t<tr><td>chr11</td><td>61787339</td><td>61787538</td><td>11:61554811-61555010</td><td>.</td><td>+</td><td>-0.396</td><td>643.658</td><td>489.536</td></tr>\n",
       "\t<tr><td>chr11</td><td>61787344</td><td>61787543</td><td>11:61554816-61555015</td><td>.</td><td>+</td><td>-0.489</td><td>564.827</td><td>402.105</td></tr>\n",
       "\t<tr><td>chr11</td><td>61787349</td><td>61787548</td><td>11:61554821-61555020</td><td>.</td><td>+</td><td>-0.589</td><td>573.689</td><td>381.089</td></tr>\n",
       "\t<tr><td>chr11</td><td>61787354</td><td>61787553</td><td>11:61554826-61555025</td><td>.</td><td>+</td><td>-0.887</td><td>385.024</td><td>208.416</td></tr>\n",
       "</tbody>\n",
       "</table>\n"
      ],
      "text/latex": [
       "A tibble: 6 × 9\n",
       "\\begin{tabular}{lllllllll}\n",
       " Chrom & Start & End & ID & Score & Strand & log2fc & Input\\_Count & Output\\_Count\\\\\n",
       " <chr> & <dbl> & <dbl> & <chr> & <chr> & <chr> & <dbl> & <dbl> & <dbl>\\\\\n",
       "\\hline\n",
       "\t chr11 & 61787329 & 61787528 & 11:61554801-61555000 & . & + & -0.858 & 539.070 & 297.715\\\\\n",
       "\t chr11 & 61787334 & 61787533 & 11:61554806-61555005 & . & + & -0.779 & 609.292 & 355.039\\\\\n",
       "\t chr11 & 61787339 & 61787538 & 11:61554811-61555010 & . & + & -0.396 & 643.658 & 489.536\\\\\n",
       "\t chr11 & 61787344 & 61787543 & 11:61554816-61555015 & . & + & -0.489 & 564.827 & 402.105\\\\\n",
       "\t chr11 & 61787349 & 61787548 & 11:61554821-61555020 & . & + & -0.589 & 573.689 & 381.089\\\\\n",
       "\t chr11 & 61787354 & 61787553 & 11:61554826-61555025 & . & + & -0.887 & 385.024 & 208.416\\\\\n",
       "\\end{tabular}\n"
      ],
      "text/markdown": [
       "\n",
       "A tibble: 6 × 9\n",
       "\n",
       "| Chrom &lt;chr&gt; | Start &lt;dbl&gt; | End &lt;dbl&gt; | ID &lt;chr&gt; | Score &lt;chr&gt; | Strand &lt;chr&gt; | log2fc &lt;dbl&gt; | Input_Count &lt;dbl&gt; | Output_Count &lt;dbl&gt; |\n",
       "|---|---|---|---|---|---|---|---|---|\n",
       "| chr11 | 61787329 | 61787528 | 11:61554801-61555000 | . | + | -0.858 | 539.070 | 297.715 |\n",
       "| chr11 | 61787334 | 61787533 | 11:61554806-61555005 | . | + | -0.779 | 609.292 | 355.039 |\n",
       "| chr11 | 61787339 | 61787538 | 11:61554811-61555010 | . | + | -0.396 | 643.658 | 489.536 |\n",
       "| chr11 | 61787344 | 61787543 | 11:61554816-61555015 | . | + | -0.489 | 564.827 | 402.105 |\n",
       "| chr11 | 61787349 | 61787548 | 11:61554821-61555020 | . | + | -0.589 | 573.689 | 381.089 |\n",
       "| chr11 | 61787354 | 61787553 | 11:61554826-61555025 | . | + | -0.887 | 385.024 | 208.416 |\n",
       "\n"
      ],
      "text/plain": [
       "  Chrom Start    End      ID                   Score Strand log2fc Input_Count\n",
       "1 chr11 61787329 61787528 11:61554801-61555000 .     +      -0.858 539.070    \n",
       "2 chr11 61787334 61787533 11:61554806-61555005 .     +      -0.779 609.292    \n",
       "3 chr11 61787339 61787538 11:61554811-61555010 .     +      -0.396 643.658    \n",
       "4 chr11 61787344 61787543 11:61554816-61555015 .     +      -0.489 564.827    \n",
       "5 chr11 61787349 61787548 11:61554821-61555020 .     +      -0.589 573.689    \n",
       "6 chr11 61787354 61787553 11:61554826-61555025 .     +      -0.887 385.024    \n",
       "  Output_Count\n",
       "1 297.715     \n",
       "2 355.039     \n",
       "3 489.536     \n",
       "4 402.105     \n",
       "5 381.089     \n",
       "6 208.416     "
      ]
     },
     "metadata": {},
     "output_type": "display_data"
    }
   ],
   "source": [
    "head(dat)"
   ]
  },
  {
   "cell_type": "code",
   "execution_count": 17,
   "id": "7a40cdc6",
   "metadata": {},
   "outputs": [
    {
     "data": {
      "text/html": [
       "<table class=\"dataframe\">\n",
       "<caption>A tibble: 6 × 9</caption>\n",
       "<thead>\n",
       "\t<tr><th scope=col>Chrom</th><th scope=col>Start</th><th scope=col>End</th><th scope=col>ID</th><th scope=col>Score</th><th scope=col>Strand</th><th scope=col>log2fc</th><th scope=col>Input_Count</th><th scope=col>Output_Count</th></tr>\n",
       "\t<tr><th scope=col>&lt;chr&gt;</th><th scope=col>&lt;dbl&gt;</th><th scope=col>&lt;dbl&gt;</th><th scope=col>&lt;chr&gt;</th><th scope=col>&lt;chr&gt;</th><th scope=col>&lt;chr&gt;</th><th scope=col>&lt;dbl&gt;</th><th scope=col>&lt;dbl&gt;</th><th scope=col>&lt;dbl&gt;</th></tr>\n",
       "</thead>\n",
       "<tbody>\n",
       "\t<tr><td>chr11</td><td>61898124</td><td>61898323</td><td>11:61665596-61665795</td><td>.</td><td>+</td><td>1.334</td><td>601.592</td><td>1516.092</td></tr>\n",
       "\t<tr><td>chr11</td><td>61898129</td><td>61898328</td><td>11:61665601-61665800</td><td>.</td><td>+</td><td>2.417</td><td>520.289</td><td>2780.402</td></tr>\n",
       "\t<tr><td>chr11</td><td>61898134</td><td>61898333</td><td>11:61665606-61665805</td><td>.</td><td>+</td><td>1.809</td><td>663.774</td><td>2328.493</td></tr>\n",
       "\t<tr><td>chr11</td><td>61898139</td><td>61898338</td><td>11:61665611-61665810</td><td>.</td><td>+</td><td>2.102</td><td>481.908</td><td>2067.939</td></tr>\n",
       "\t<tr><td>chr11</td><td>61898144</td><td>61898343</td><td>11:61665616-61665815</td><td>.</td><td>+</td><td>1.606</td><td>406.331</td><td>1236.809</td></tr>\n",
       "\t<tr><td>chr11</td><td>61898149</td><td>61898348</td><td>11:61665621-61665820</td><td>.</td><td>+</td><td>2.224</td><td>295.648</td><td>1379.424</td></tr>\n",
       "</tbody>\n",
       "</table>\n"
      ],
      "text/latex": [
       "A tibble: 6 × 9\n",
       "\\begin{tabular}{lllllllll}\n",
       " Chrom & Start & End & ID & Score & Strand & log2fc & Input\\_Count & Output\\_Count\\\\\n",
       " <chr> & <dbl> & <dbl> & <chr> & <chr> & <chr> & <dbl> & <dbl> & <dbl>\\\\\n",
       "\\hline\n",
       "\t chr11 & 61898124 & 61898323 & 11:61665596-61665795 & . & + & 1.334 & 601.592 & 1516.092\\\\\n",
       "\t chr11 & 61898129 & 61898328 & 11:61665601-61665800 & . & + & 2.417 & 520.289 & 2780.402\\\\\n",
       "\t chr11 & 61898134 & 61898333 & 11:61665606-61665805 & . & + & 1.809 & 663.774 & 2328.493\\\\\n",
       "\t chr11 & 61898139 & 61898338 & 11:61665611-61665810 & . & + & 2.102 & 481.908 & 2067.939\\\\\n",
       "\t chr11 & 61898144 & 61898343 & 11:61665616-61665815 & . & + & 1.606 & 406.331 & 1236.809\\\\\n",
       "\t chr11 & 61898149 & 61898348 & 11:61665621-61665820 & . & + & 2.224 & 295.648 & 1379.424\\\\\n",
       "\\end{tabular}\n"
      ],
      "text/markdown": [
       "\n",
       "A tibble: 6 × 9\n",
       "\n",
       "| Chrom &lt;chr&gt; | Start &lt;dbl&gt; | End &lt;dbl&gt; | ID &lt;chr&gt; | Score &lt;chr&gt; | Strand &lt;chr&gt; | log2fc &lt;dbl&gt; | Input_Count &lt;dbl&gt; | Output_Count &lt;dbl&gt; |\n",
       "|---|---|---|---|---|---|---|---|---|\n",
       "| chr11 | 61898124 | 61898323 | 11:61665596-61665795 | . | + | 1.334 | 601.592 | 1516.092 |\n",
       "| chr11 | 61898129 | 61898328 | 11:61665601-61665800 | . | + | 2.417 | 520.289 | 2780.402 |\n",
       "| chr11 | 61898134 | 61898333 | 11:61665606-61665805 | . | + | 1.809 | 663.774 | 2328.493 |\n",
       "| chr11 | 61898139 | 61898338 | 11:61665611-61665810 | . | + | 2.102 | 481.908 | 2067.939 |\n",
       "| chr11 | 61898144 | 61898343 | 11:61665616-61665815 | . | + | 1.606 | 406.331 | 1236.809 |\n",
       "| chr11 | 61898149 | 61898348 | 11:61665621-61665820 | . | + | 2.224 | 295.648 | 1379.424 |\n",
       "\n"
      ],
      "text/plain": [
       "  Chrom Start    End      ID                   Score Strand log2fc Input_Count\n",
       "1 chr11 61898124 61898323 11:61665596-61665795 .     +      1.334  601.592    \n",
       "2 chr11 61898129 61898328 11:61665601-61665800 .     +      2.417  520.289    \n",
       "3 chr11 61898134 61898333 11:61665606-61665805 .     +      1.809  663.774    \n",
       "4 chr11 61898139 61898338 11:61665611-61665810 .     +      2.102  481.908    \n",
       "5 chr11 61898144 61898343 11:61665616-61665815 .     +      1.606  406.331    \n",
       "6 chr11 61898149 61898348 11:61665621-61665820 .     +      2.224  295.648    \n",
       "  Output_Count\n",
       "1 1516.092    \n",
       "2 2780.402    \n",
       "3 2328.493    \n",
       "4 2067.939    \n",
       "5 1236.809    \n",
       "6 1379.424    "
      ]
     },
     "metadata": {},
     "output_type": "display_data"
    }
   ],
   "source": [
    "tail(dat)"
   ]
  },
  {
   "cell_type": "code",
   "execution_count": 21,
   "id": "33285113",
   "metadata": {},
   "outputs": [
    {
     "data": {
      "image/png": "[encoded data removed]",
      "text/plain": [
       "Plot with title “Histogram of dat$Input_Count”"
      ]
     },
     "metadata": {
      "image/png": {
       "height": 420,
       "width": 420
      }
     },
     "output_type": "display_data"
    }
   ],
   "source": [
    "hist(dat$Input_Count)"
   ]
  },
  {
   "cell_type": "code",
   "execution_count": 24,
   "id": "3e16fe97",
   "metadata": {},
   "outputs": [
    {
     "name": "stderr",
     "output_type": "stream",
     "text": [
      "`stat_bin()` using `bins = 30`. Pick better value with `binwidth`.\n",
      "\n",
      "Warning message:\n",
      "“Removed 233 rows containing non-finite values (stat_bin).”\n"
     ]
    },
    {
     "data": {
      "image/png": "[encoded data removed]",
      "text/plain": [
       "plot without title"
      ]
     },
     "metadata": {
      "image/png": {
       "height": 420,
       "width": 420
      }
     },
     "output_type": "display_data"
    }
   ],
   "source": [
    "qplot(x=dat$Input_Count)"
   ]
  },
  {
   "cell_type": "code",
   "execution_count": 25,
   "id": "47798ac4",
   "metadata": {},
   "outputs": [
    {
     "data": {
      "text/html": [
       "<style>\n",
       ".list-inline {list-style: none; margin:0; padding: 0}\n",
       ".list-inline>li {display: inline-block}\n",
       ".list-inline>li:not(:last-child)::after {content: \"\\00b7\"; padding: 0 .5ex}\n",
       "</style>\n",
       "<ol class=list-inline><li>&lt;NA&gt;</li><li>&lt;NA&gt;</li></ol>\n"
      ],
      "text/latex": [
       "\\begin{enumerate*}\n",
       "\\item <NA>\n",
       "\\item <NA>\n",
       "\\end{enumerate*}\n"
      ],
      "text/markdown": [
       "1. &lt;NA&gt;\n",
       "2. &lt;NA&gt;\n",
       "\n",
       "\n"
      ],
      "text/plain": [
       "[1] NA NA"
      ]
     },
     "metadata": {},
     "output_type": "display_data"
    }
   ],
   "source": [
    "range(dat$Input_Count)"
   ]
  },
  {
   "cell_type": "code",
   "execution_count": 28,
   "id": "78ecd5b0",
   "metadata": {},
   "outputs": [
    {
     "name": "stdout",
     "output_type": "stream",
     "text": [
      "[1] 233   9\n"
     ]
    },
    {
     "data": {
      "text/html": [
       "<table class=\"dataframe\">\n",
       "<caption>A tibble: 6 × 9</caption>\n",
       "<thead>\n",
       "\t<tr><th scope=col>Chrom</th><th scope=col>Start</th><th scope=col>End</th><th scope=col>ID</th><th scope=col>Score</th><th scope=col>Strand</th><th scope=col>log2fc</th><th scope=col>Input_Count</th><th scope=col>Output_Count</th></tr>\n",
       "\t<tr><th scope=col>&lt;chr&gt;</th><th scope=col>&lt;dbl&gt;</th><th scope=col>&lt;dbl&gt;</th><th scope=col>&lt;chr&gt;</th><th scope=col>&lt;chr&gt;</th><th scope=col>&lt;chr&gt;</th><th scope=col>&lt;dbl&gt;</th><th scope=col>&lt;dbl&gt;</th><th scope=col>&lt;dbl&gt;</th></tr>\n",
       "</thead>\n",
       "<tbody>\n",
       "\t<tr><td>chr11</td><td>61793554</td><td>61793753</td><td>11:61561026-61561225</td><td>.</td><td>+</td><td>NA</td><td>NA</td><td>NA</td></tr>\n",
       "\t<tr><td>chr11</td><td>61793559</td><td>61793758</td><td>11:61561031-61561230</td><td>.</td><td>+</td><td>NA</td><td>NA</td><td>NA</td></tr>\n",
       "\t<tr><td>chr11</td><td>61793564</td><td>61793763</td><td>11:61561036-61561235</td><td>.</td><td>+</td><td>NA</td><td>NA</td><td>NA</td></tr>\n",
       "\t<tr><td>chr11</td><td>61793604</td><td>61793803</td><td>11:61561076-61561275</td><td>.</td><td>+</td><td>NA</td><td>NA</td><td>NA</td></tr>\n",
       "\t<tr><td>chr11</td><td>61793619</td><td>61793818</td><td>11:61561091-61561290</td><td>.</td><td>+</td><td>NA</td><td>NA</td><td>NA</td></tr>\n",
       "\t<tr><td>chr11</td><td>61798954</td><td>61799153</td><td>11:61566426-61566625</td><td>.</td><td>+</td><td>NA</td><td>NA</td><td>NA</td></tr>\n",
       "</tbody>\n",
       "</table>\n"
      ],
      "text/latex": [
       "A tibble: 6 × 9\n",
       "\\begin{tabular}{lllllllll}\n",
       " Chrom & Start & End & ID & Score & Strand & log2fc & Input\\_Count & Output\\_Count\\\\\n",
       " <chr> & <dbl> & <dbl> & <chr> & <chr> & <chr> & <dbl> & <dbl> & <dbl>\\\\\n",
       "\\hline\n",
       "\t chr11 & 61793554 & 61793753 & 11:61561026-61561225 & . & + & NA & NA & NA\\\\\n",
       "\t chr11 & 61793559 & 61793758 & 11:61561031-61561230 & . & + & NA & NA & NA\\\\\n",
       "\t chr11 & 61793564 & 61793763 & 11:61561036-61561235 & . & + & NA & NA & NA\\\\\n",
       "\t chr11 & 61793604 & 61793803 & 11:61561076-61561275 & . & + & NA & NA & NA\\\\\n",
       "\t chr11 & 61793619 & 61793818 & 11:61561091-61561290 & . & + & NA & NA & NA\\\\\n",
       "\t chr11 & 61798954 & 61799153 & 11:61566426-61566625 & . & + & NA & NA & NA\\\\\n",
       "\\end{tabular}\n"
      ],
      "text/markdown": [
       "\n",
       "A tibble: 6 × 9\n",
       "\n",
       "| Chrom &lt;chr&gt; | Start &lt;dbl&gt; | End &lt;dbl&gt; | ID &lt;chr&gt; | Score &lt;chr&gt; | Strand &lt;chr&gt; | log2fc &lt;dbl&gt; | Input_Count &lt;dbl&gt; | Output_Count &lt;dbl&gt; |\n",
       "|---|---|---|---|---|---|---|---|---|\n",
       "| chr11 | 61793554 | 61793753 | 11:61561026-61561225 | . | + | NA | NA | NA |\n",
       "| chr11 | 61793559 | 61793758 | 11:61561031-61561230 | . | + | NA | NA | NA |\n",
       "| chr11 | 61793564 | 61793763 | 11:61561036-61561235 | . | + | NA | NA | NA |\n",
       "| chr11 | 61793604 | 61793803 | 11:61561076-61561275 | . | + | NA | NA | NA |\n",
       "| chr11 | 61793619 | 61793818 | 11:61561091-61561290 | . | + | NA | NA | NA |\n",
       "| chr11 | 61798954 | 61799153 | 11:61566426-61566625 | . | + | NA | NA | NA |\n",
       "\n"
      ],
      "text/plain": [
       "  Chrom Start    End      ID                   Score Strand log2fc Input_Count\n",
       "1 chr11 61793554 61793753 11:61561026-61561225 .     +      NA     NA         \n",
       "2 chr11 61793559 61793758 11:61561031-61561230 .     +      NA     NA         \n",
       "3 chr11 61793564 61793763 11:61561036-61561235 .     +      NA     NA         \n",
       "4 chr11 61793604 61793803 11:61561076-61561275 .     +      NA     NA         \n",
       "5 chr11 61793619 61793818 11:61561091-61561290 .     +      NA     NA         \n",
       "6 chr11 61798954 61799153 11:61566426-61566625 .     +      NA     NA         \n",
       "  Output_Count\n",
       "1 NA          \n",
       "2 NA          \n",
       "3 NA          \n",
       "4 NA          \n",
       "5 NA          \n",
       "6 NA          "
      ]
     },
     "metadata": {},
     "output_type": "display_data"
    }
   ],
   "source": [
    "tmp = dat %>% dplyr::filter(is.na(Input_Count))\n",
    "print(dim(tmp))\n",
    "head(tmp)"
   ]
  },
  {
   "cell_type": "code",
   "execution_count": null,
   "id": "2b3ae92e",
   "metadata": {},
   "outputs": [],
   "source": []
  },
  {
   "cell_type": "code",
   "execution_count": 29,
   "id": "95963cc9",
   "metadata": {},
   "outputs": [
    {
     "name": "stdout",
     "output_type": "stream",
     "text": [
      "[1] 233  12\n"
     ]
    },
    {
     "data": {
      "text/html": [
       "<table class=\"dataframe\">\n",
       "<caption>A tibble: 6 × 12</caption>\n",
       "<thead>\n",
       "\t<tr><th scope=col>Chrom</th><th scope=col>Start</th><th scope=col>End</th><th scope=col>ID</th><th scope=col>Score</th><th scope=col>Strand</th><th scope=col>log2fc</th><th scope=col>Input_Count</th><th scope=col>Output_Count</th><th scope=col>log10pval</th><th scope=col>log10fdr</th><th scope=col>lfc-se</th></tr>\n",
       "\t<tr><th scope=col>&lt;chr&gt;</th><th scope=col>&lt;dbl&gt;</th><th scope=col>&lt;dbl&gt;</th><th scope=col>&lt;chr&gt;</th><th scope=col>&lt;chr&gt;</th><th scope=col>&lt;chr&gt;</th><th scope=col>&lt;dbl&gt;</th><th scope=col>&lt;dbl&gt;</th><th scope=col>&lt;dbl&gt;</th><th scope=col>&lt;dbl&gt;</th><th scope=col>&lt;dbl&gt;</th><th scope=col>&lt;dbl&gt;</th></tr>\n",
       "</thead>\n",
       "<tbody>\n",
       "\t<tr><td>chr11</td><td>61793554</td><td>61793753</td><td>11:61561026-61561225</td><td>.</td><td>+</td><td>NA</td><td>NA</td><td>NA</td><td>NA</td><td>NA</td><td>NA</td></tr>\n",
       "\t<tr><td>chr11</td><td>61793559</td><td>61793758</td><td>11:61561031-61561230</td><td>.</td><td>+</td><td>NA</td><td>NA</td><td>NA</td><td>NA</td><td>NA</td><td>NA</td></tr>\n",
       "\t<tr><td>chr11</td><td>61793564</td><td>61793763</td><td>11:61561036-61561235</td><td>.</td><td>+</td><td>NA</td><td>NA</td><td>NA</td><td>NA</td><td>NA</td><td>NA</td></tr>\n",
       "\t<tr><td>chr11</td><td>61793604</td><td>61793803</td><td>11:61561076-61561275</td><td>.</td><td>+</td><td>NA</td><td>NA</td><td>NA</td><td>NA</td><td>NA</td><td>NA</td></tr>\n",
       "\t<tr><td>chr11</td><td>61793619</td><td>61793818</td><td>11:61561091-61561290</td><td>.</td><td>+</td><td>NA</td><td>NA</td><td>NA</td><td>NA</td><td>NA</td><td>NA</td></tr>\n",
       "\t<tr><td>chr11</td><td>61798954</td><td>61799153</td><td>11:61566426-61566625</td><td>.</td><td>+</td><td>NA</td><td>NA</td><td>NA</td><td>NA</td><td>NA</td><td>NA</td></tr>\n",
       "</tbody>\n",
       "</table>\n"
      ],
      "text/latex": [
       "A tibble: 6 × 12\n",
       "\\begin{tabular}{llllllllllll}\n",
       " Chrom & Start & End & ID & Score & Strand & log2fc & Input\\_Count & Output\\_Count & log10pval & log10fdr & lfc-se\\\\\n",
       " <chr> & <dbl> & <dbl> & <chr> & <chr> & <chr> & <dbl> & <dbl> & <dbl> & <dbl> & <dbl> & <dbl>\\\\\n",
       "\\hline\n",
       "\t chr11 & 61793554 & 61793753 & 11:61561026-61561225 & . & + & NA & NA & NA & NA & NA & NA\\\\\n",
       "\t chr11 & 61793559 & 61793758 & 11:61561031-61561230 & . & + & NA & NA & NA & NA & NA & NA\\\\\n",
       "\t chr11 & 61793564 & 61793763 & 11:61561036-61561235 & . & + & NA & NA & NA & NA & NA & NA\\\\\n",
       "\t chr11 & 61793604 & 61793803 & 11:61561076-61561275 & . & + & NA & NA & NA & NA & NA & NA\\\\\n",
       "\t chr11 & 61793619 & 61793818 & 11:61561091-61561290 & . & + & NA & NA & NA & NA & NA & NA\\\\\n",
       "\t chr11 & 61798954 & 61799153 & 11:61566426-61566625 & . & + & NA & NA & NA & NA & NA & NA\\\\\n",
       "\\end{tabular}\n"
      ],
      "text/markdown": [
       "\n",
       "A tibble: 6 × 12\n",
       "\n",
       "| Chrom &lt;chr&gt; | Start &lt;dbl&gt; | End &lt;dbl&gt; | ID &lt;chr&gt; | Score &lt;chr&gt; | Strand &lt;chr&gt; | log2fc &lt;dbl&gt; | Input_Count &lt;dbl&gt; | Output_Count &lt;dbl&gt; | log10pval &lt;dbl&gt; | log10fdr &lt;dbl&gt; | lfc-se &lt;dbl&gt; |\n",
       "|---|---|---|---|---|---|---|---|---|---|---|---|\n",
       "| chr11 | 61793554 | 61793753 | 11:61561026-61561225 | . | + | NA | NA | NA | NA | NA | NA |\n",
       "| chr11 | 61793559 | 61793758 | 11:61561031-61561230 | . | + | NA | NA | NA | NA | NA | NA |\n",
       "| chr11 | 61793564 | 61793763 | 11:61561036-61561235 | . | + | NA | NA | NA | NA | NA | NA |\n",
       "| chr11 | 61793604 | 61793803 | 11:61561076-61561275 | . | + | NA | NA | NA | NA | NA | NA |\n",
       "| chr11 | 61793619 | 61793818 | 11:61561091-61561290 | . | + | NA | NA | NA | NA | NA | NA |\n",
       "| chr11 | 61798954 | 61799153 | 11:61566426-61566625 | . | + | NA | NA | NA | NA | NA | NA |\n",
       "\n"
      ],
      "text/plain": [
       "  Chrom Start    End      ID                   Score Strand log2fc Input_Count\n",
       "1 chr11 61793554 61793753 11:61561026-61561225 .     +      NA     NA         \n",
       "2 chr11 61793559 61793758 11:61561031-61561230 .     +      NA     NA         \n",
       "3 chr11 61793564 61793763 11:61561036-61561235 .     +      NA     NA         \n",
       "4 chr11 61793604 61793803 11:61561076-61561275 .     +      NA     NA         \n",
       "5 chr11 61793619 61793818 11:61561091-61561290 .     +      NA     NA         \n",
       "6 chr11 61798954 61799153 11:61566426-61566625 .     +      NA     NA         \n",
       "  Output_Count log10pval log10fdr lfc-se\n",
       "1 NA           NA        NA       NA    \n",
       "2 NA           NA        NA       NA    \n",
       "3 NA           NA        NA       NA    \n",
       "4 NA           NA        NA       NA    \n",
       "5 NA           NA        NA       NA    \n",
       "6 NA           NA        NA       NA    "
      ]
     },
     "metadata": {},
     "output_type": "display_data"
    }
   ],
   "source": [
    "dat = dat_tmpra_fads_pos\n",
    "tmp = dat %>% dplyr::filter(is.na(Input_Count))\n",
    "print(dim(tmp))\n",
    "head(tmp)"
   ]
  },
  {
   "cell_type": "code",
   "execution_count": null,
   "id": "17c56594",
   "metadata": {},
   "outputs": [],
   "source": []
  },
  {
   "cell_type": "code",
   "execution_count": null,
   "id": "8b88336d",
   "metadata": {},
   "outputs": [],
   "source": []
  }
 ],
 "metadata": {
  "kernelspec": {
   "display_name": "R",
   "language": "R",
   "name": "ir"
  },
  "language_info": {
   "codemirror_mode": "r",
   "file_extension": ".r",
   "mimetype": "text/x-r-source",
   "name": "R",
   "pygments_lexer": "r",
   "version": "4.2.0"
  }
 },
 "nbformat": 4,
 "nbformat_minor": 5
}
