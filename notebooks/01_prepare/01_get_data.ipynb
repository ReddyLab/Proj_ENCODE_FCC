{
 "cells": [
  {
   "cell_type": "markdown",
   "id": "341f157e-6784-4ad5-8365-b972c30579f6",
   "metadata": {},
   "source": [
    "**Set environment**"
   ]
  },
  {
   "cell_type": "code",
   "execution_count": 1,
   "id": "82f2245c-761d-4f5d-a6a6-b58ee582a9af",
   "metadata": {},
   "outputs": [
    {
     "name": "stdout",
     "output_type": "stream",
     "text": [
      "You are on Duke Server: HARDAC\n",
      "BASE DIRECTORY:     /gpfs/fs1/data/reddylab/Kuei\n",
      "PATH OF SOURCE:     /gpfs/fs1/data/reddylab/Kuei/source\n",
      "PATH OF EXECUTABLE: /gpfs/fs1/data/reddylab/Kuei/exe\n",
      "PATH OF ANNOTATION: /gpfs/fs1/data/reddylab/Kuei/annotation\n",
      "PATH OF PROJECT:    /gpfs/fs1/data/reddylab/Kuei/GitRepo/Proj_CombEffect_STARRseq/notebooks\n",
      "PATH OF RESULTS:    /gpfs/fs1/data/reddylab/Kuei/out/proj_encode_fcc\n",
      "\n"
     ]
    }
   ],
   "source": [
    "source ../config_duke.sh -v"
   ]
  },
  {
   "cell_type": "markdown",
   "id": "dbd554a4-d92f-4282-9c9b-d0961f8432d1",
   "metadata": {},
   "source": [
    "## Alex folder"
   ]
  },
  {
   "cell_type": "code",
   "execution_count": 2,
   "id": "ad4d3de5-698f-4103-8776-7277f8c4d8d6",
   "metadata": {},
   "outputs": [
    {
     "name": "stdout",
     "output_type": "stream",
     "text": [
      "\u001b[0m\u001b[38;5;27mmpra\u001b[0m  \u001b[38;5;27mstarrseq\u001b[0m\n"
     ]
    }
   ],
   "source": [
    "FD_ALEX=${FD_RLAB}/Alex/encode4_duke/ipynbs/jamborees/20211025_MPRA_STARR_Jamboree/data/gata1_myc\n",
    "ls ${FD_ALEX}"
   ]
  },
  {
   "cell_type": "markdown",
   "id": "e1ca072b-8b78-472c-8ef3-5946056f93f1",
   "metadata": {},
   "source": [
    "**MPRA**"
   ]
  },
  {
   "cell_type": "code",
   "execution_count": 3,
   "id": "091cf4d1-8d57-4df4-8507-01cb81a90fdf",
   "metadata": {},
   "outputs": [
    {
     "name": "stdout",
     "output_type": "stream",
     "text": [
      "ENCFF348WYK.Ahituv.lentiMPRA.MYC.bed\n",
      "ENCFF348WYK.bed\n",
      "ENCFF348WYK.GATA1.bed\n",
      "ENCFF348WYK.MYC.bed\n",
      "files_to_upload.tsv\n",
      "GATA-MYC_Tile_K562_K562_20210130.hg38.bed\n",
      "GATA-MYC_Tile_K562_K562_20210130.hg38.cleaned.bed\n",
      "GATA-MYC_Tile_K562_K562_20210130.hg38.cleaned.GATA1.bed\n",
      "GATA-MYC_Tile_K562_K562_20210130.hg38.cleaned.GATA1.in_astarr_de_frags.bed\n",
      "GATA-MYC_Tile_K562_K562_20210130.hg38.cleaned.MYC.bed\n"
     ]
    }
   ],
   "source": [
    "ls ${FD_ALEX}/mpra"
   ]
  },
  {
   "cell_type": "markdown",
   "id": "aa9ce7f1-f79a-42bb-a98c-ea77b4108178",
   "metadata": {},
   "source": [
    "**STARR-seq**"
   ]
  },
  {
   "cell_type": "code",
   "execution_count": 4,
   "id": "09377220-2831-4b13-a700-2ccc25bb8432",
   "metadata": {},
   "outputs": [
    {
     "name": "stdout",
     "output_type": "stream",
     "text": [
      "\u001b[0m\u001b[38;5;27mbams\u001b[0m  bams.manifest.tsv  \u001b[38;5;27mfragments\u001b[0m  fragments.manifest.tsv\n"
     ]
    }
   ],
   "source": [
    "ls ${FD_ALEX}/starrseq"
   ]
  },
  {
   "cell_type": "code",
   "execution_count": 5,
   "id": "71449da0-7eb8-4daa-8e2b-5bf5ba118103",
   "metadata": {},
   "outputs": [
    {
     "name": "stdout",
     "output_type": "stream",
     "text": [
      "A001.K562.starrseq.GATA1.stranded.counts.txt\n",
      "A001.K562.starrseq.GATA1.unstranded.counts.txt\n",
      "A001.K562.starrseq.input.rep1.GATA1.fragment_counts.stranded.bed\n",
      "A001.K562.starrseq.input.rep1.GATA1.fragment_counts.unstranded.bed\n",
      "A001.K562.starrseq.input.rep1.MYC.fragment_counts.stranded.bed\n",
      "A001.K562.starrseq.input.rep1.MYC.fragment_counts.unstranded.bed\n",
      "A001.K562.starrseq.input.rep2.GATA1.fragment_counts.stranded.bed\n",
      "A001.K562.starrseq.input.rep2.GATA1.fragment_counts.unstranded.bed\n",
      "A001.K562.starrseq.input.rep2.MYC.fragment_counts.stranded.bed\n",
      "A001.K562.starrseq.input.rep2.MYC.fragment_counts.unstranded.bed\n",
      "A001.K562.starrseq.input.rep3.GATA1.fragment_counts.stranded.bed\n",
      "A001.K562.starrseq.input.rep3.GATA1.fragment_counts.unstranded.bed\n",
      "A001.K562.starrseq.input.rep3.MYC.fragment_counts.stranded.bed\n",
      "A001.K562.starrseq.input.rep3.MYC.fragment_counts.unstranded.bed\n",
      "A001.K562.starrseq.input.rep4.GATA1.fragment_counts.stranded.bed\n",
      "A001.K562.starrseq.input.rep4.GATA1.fragment_counts.unstranded.bed\n",
      "A001.K562.starrseq.input.rep4.MYC.fragment_counts.stranded.bed\n",
      "A001.K562.starrseq.input.rep4.MYC.fragment_counts.unstranded.bed\n",
      "A001.K562.starrseq.MYC.stranded.counts.txt\n",
      "A001.K562.starrseq.MYC.unstranded.counts.txt\n",
      "A001.K562.starrseq.output.rep1.GATA1.fragment_counts.stranded.bed\n",
      "A001.K562.starrseq.output.rep1.GATA1.fragment_counts.unstranded.bed\n",
      "A001.K562.starrseq.output.rep1.MYC.fragment_counts.stranded.bed\n",
      "A001.K562.starrseq.output.rep1.MYC.fragment_counts.unstranded.bed\n",
      "A001.K562.starrseq.output.rep2.GATA1.fragment_counts.stranded.bed\n",
      "A001.K562.starrseq.output.rep2.GATA1.fragment_counts.unstranded.bed\n",
      "A001.K562.starrseq.output.rep2.MYC.fragment_counts.stranded.bed\n",
      "A001.K562.starrseq.output.rep2.MYC.fragment_counts.unstranded.bed\n",
      "A001.K562.starrseq.output.rep3.GATA1.fragment_counts.stranded.bed\n",
      "A001.K562.starrseq.output.rep3.GATA1.fragment_counts.unstranded.bed\n",
      "A001.K562.starrseq.output.rep3.MYC.fragment_counts.stranded.bed\n",
      "A001.K562.starrseq.output.rep3.MYC.fragment_counts.unstranded.bed\n",
      "control_HCT116_MCF-7_A549_white.GATA1.fragment_counts.stranded.bed\n",
      "control_HCT116_MCF-7_A549_white.GATA1.fragment_counts.unstranded.bed\n",
      "control_HCT116_MCF-7_A549_white.MYC.fragment_counts.stranded.bed\n",
      "control_HCT116_MCF-7_A549_white.MYC.fragment_counts.unstranded.bed\n",
      "control_HepG2_K562_white.GATA1.fragment_counts.stranded.bed\n",
      "control_HepG2_K562_white.GATA1.fragment_counts.unstranded.bed\n",
      "control_HepG2_K562_white.MYC.fragment_counts.stranded.bed\n",
      "control_HepG2_K562_white.MYC.fragment_counts.unstranded.bed\n",
      "KS91_K562_hg38_ASTARRseq.GATA1.stranded.counts.txt\n",
      "KS91_K562_hg38_ASTARRseq.GATA1.unstranded.counts.txt\n",
      "KS91_K562_hg38_ASTARRseq_Input_rep1.masked.dups_marked.GATA1.fragment_counts.stranded.bed\n",
      "KS91_K562_hg38_ASTARRseq_Input_rep1.masked.dups_marked.GATA1.fragment_counts.unstranded.bed\n",
      "KS91_K562_hg38_ASTARRseq_Input_rep1.masked.dups_marked.MYC.fragment_counts.stranded.bed\n",
      "KS91_K562_hg38_ASTARRseq_Input_rep1.masked.dups_marked.MYC.fragment_counts.unstranded.bed\n",
      "KS91_K562_hg38_ASTARRseq_Input_rep2.masked.dups_marked.GATA1.fragment_counts.stranded.bed\n",
      "KS91_K562_hg38_ASTARRseq_Input_rep2.masked.dups_marked.GATA1.fragment_counts.unstranded.bed\n",
      "KS91_K562_hg38_ASTARRseq_Input_rep2.masked.dups_marked.MYC.fragment_counts.stranded.bed\n",
      "KS91_K562_hg38_ASTARRseq_Input_rep2.masked.dups_marked.MYC.fragment_counts.unstranded.bed\n",
      "KS91_K562_hg38_ASTARRseq_Input_rep3.masked.dups_marked.GATA1.fragment_counts.stranded.bed\n",
      "KS91_K562_hg38_ASTARRseq_Input_rep3.masked.dups_marked.GATA1.fragment_counts.unstranded.bed\n",
      "KS91_K562_hg38_ASTARRseq_Input_rep3.masked.dups_marked.MYC.fragment_counts.stranded.bed\n",
      "KS91_K562_hg38_ASTARRseq_Input_rep3.masked.dups_marked.MYC.fragment_counts.unstranded.bed\n",
      "KS91_K562_hg38_ASTARRseq_Input_rep4.masked.dups_marked.GATA1.fragment_counts.stranded.bed\n",
      "KS91_K562_hg38_ASTARRseq_Input_rep4.masked.dups_marked.GATA1.fragment_counts.unstranded.bed\n",
      "KS91_K562_hg38_ASTARRseq_Input_rep4.masked.dups_marked.MYC.fragment_counts.stranded.bed\n",
      "KS91_K562_hg38_ASTARRseq_Input_rep4.masked.dups_marked.MYC.fragment_counts.unstranded.bed\n",
      "KS91_K562_hg38_ASTARRseq_Input_rep5.masked.dups_marked.GATA1.fragment_counts.stranded.bed\n",
      "KS91_K562_hg38_ASTARRseq_Input_rep5.masked.dups_marked.GATA1.fragment_counts.unstranded.bed\n",
      "KS91_K562_hg38_ASTARRseq_Input_rep5.masked.dups_marked.MYC.fragment_counts.stranded.bed\n",
      "KS91_K562_hg38_ASTARRseq_Input_rep5.masked.dups_marked.MYC.fragment_counts.unstranded.bed\n",
      "KS91_K562_hg38_ASTARRseq_Input_rep6.masked.dups_marked.GATA1.fragment_counts.stranded.bed\n",
      "KS91_K562_hg38_ASTARRseq_Input_rep6.masked.dups_marked.GATA1.fragment_counts.unstranded.bed\n",
      "KS91_K562_hg38_ASTARRseq_Input_rep6.masked.dups_marked.MYC.fragment_counts.stranded.bed\n",
      "KS91_K562_hg38_ASTARRseq_Input_rep6.masked.dups_marked.MYC.fragment_counts.unstranded.bed\n",
      "KS91_K562_hg38_ASTARRseq.MYC.stranded.counts.txt\n",
      "KS91_K562_hg38_ASTARRseq.MYC.unstranded.counts.txt\n",
      "KS91_K562_hg38_ASTARRseq_Output_rep1.f3q10.sorted.with_umis.dups_marked.GATA1.fragment_counts.stranded.bed\n",
      "KS91_K562_hg38_ASTARRseq_Output_rep1.f3q10.sorted.with_umis.dups_marked.GATA1.fragment_counts.unstranded.bed\n",
      "KS91_K562_hg38_ASTARRseq_Output_rep1.f3q10.sorted.with_umis.dups_marked.MYC.fragment_counts.stranded.bed\n",
      "KS91_K562_hg38_ASTARRseq_Output_rep1.f3q10.sorted.with_umis.dups_marked.MYC.fragment_counts.unstranded.bed\n",
      "KS91_K562_hg38_ASTARRseq_Output_rep2.f3q10.sorted.with_umis.dups_marked.GATA1.fragment_counts.stranded.bed\n",
      "KS91_K562_hg38_ASTARRseq_Output_rep2.f3q10.sorted.with_umis.dups_marked.GATA1.fragment_counts.unstranded.bed\n",
      "KS91_K562_hg38_ASTARRseq_Output_rep2.f3q10.sorted.with_umis.dups_marked.MYC.fragment_counts.stranded.bed\n",
      "KS91_K562_hg38_ASTARRseq_Output_rep2.f3q10.sorted.with_umis.dups_marked.MYC.fragment_counts.unstranded.bed\n",
      "KS91_K562_hg38_ASTARRseq_Output_rep3.f3q10.sorted.with_umis.dups_marked.GATA1.fragment_counts.stranded.bed\n",
      "KS91_K562_hg38_ASTARRseq_Output_rep3.f3q10.sorted.with_umis.dups_marked.GATA1.fragment_counts.unstranded.bed\n",
      "KS91_K562_hg38_ASTARRseq_Output_rep3.f3q10.sorted.with_umis.dups_marked.MYC.fragment_counts.stranded.bed\n",
      "KS91_K562_hg38_ASTARRseq_Output_rep3.f3q10.sorted.with_umis.dups_marked.MYC.fragment_counts.unstranded.bed\n",
      "KS91_K562_hg38_ASTARRseq_Output_rep4.f3q10.sorted.with_umis.dups_marked.GATA1.fragment_counts.stranded.bed\n",
      "KS91_K562_hg38_ASTARRseq_Output_rep4.f3q10.sorted.with_umis.dups_marked.GATA1.fragment_counts.unstranded.bed\n",
      "KS91_K562_hg38_ASTARRseq_Output_rep4.f3q10.sorted.with_umis.dups_marked.MYC.fragment_counts.stranded.bed\n",
      "KS91_K562_hg38_ASTARRseq_Output_rep4.f3q10.sorted.with_umis.dups_marked.MYC.fragment_counts.unstranded.bed\n",
      "KW.K562.starrseq.GATA1.stranded.counts.txt\n",
      "KW.K562.starrseq.GATA1.unstranded.counts.txt\n",
      "KW.K562.starrseq.input.rep1.GATA1.fragment_counts.stranded.bed\n",
      "KW.K562.starrseq.input.rep1.GATA1.fragment_counts.unstranded.bed\n",
      "KW.K562.starrseq.input.rep1.MYC.fragment_counts.stranded.bed\n",
      "KW.K562.starrseq.input.rep1.MYC.fragment_counts.unstranded.bed\n",
      "KW.K562.starrseq.MYC.stranded.counts.txt\n",
      "KW.K562.starrseq.MYC.unstranded.counts.txt\n",
      "KW.K562.starrseq.output.rep1.GATA1.fragment_counts.stranded.bed\n",
      "KW.K562.starrseq.output.rep1.GATA1.fragment_counts.unstranded.bed\n",
      "KW.K562.starrseq.output.rep1.MYC.fragment_counts.stranded.bed\n",
      "KW.K562.starrseq.output.rep1.MYC.fragment_counts.unstranded.bed\n",
      "KW.K562.starrseq.output.rep2.GATA1.fragment_counts.stranded.bed\n",
      "KW.K562.starrseq.output.rep2.GATA1.fragment_counts.unstranded.bed\n",
      "KW.K562.starrseq.output.rep2.MYC.fragment_counts.stranded.bed\n",
      "KW.K562.starrseq.output.rep2.MYC.fragment_counts.unstranded.bed\n"
     ]
    }
   ],
   "source": [
    "ls ${FD_ALEX}/starrseq/fragments"
   ]
  },
  {
   "cell_type": "markdown",
   "id": "48901fd2-ac1e-4630-a3b1-9769735ae715",
   "metadata": {},
   "source": [
    "## Copy data"
   ]
  },
  {
   "cell_type": "code",
   "execution_count": null,
   "id": "fb607472-4448-4945-9810-17a93749d351",
   "metadata": {},
   "outputs": [],
   "source": [
    "cp -r ${FD_ALEX}/mpra ${FD_RES}/source/"
   ]
  },
  {
   "cell_type": "code",
   "execution_count": null,
   "id": "078db10b-997f-4308-b08c-761c1d157672",
   "metadata": {},
   "outputs": [],
   "source": [
    "cp ${FD_ALEX}/starrseq/fragments/KS* ${FD_RES}/source/starrseq"
   ]
  }
 ],
 "metadata": {
  "kernelspec": {
   "display_name": "Bash",
   "language": "bash",
   "name": "bash"
  },
  "language_info": {
   "codemirror_mode": "shell",
   "file_extension": ".sh",
   "mimetype": "text/x-sh",
   "name": "bash"
  }
 },
 "nbformat": 4,
 "nbformat_minor": 5
}
