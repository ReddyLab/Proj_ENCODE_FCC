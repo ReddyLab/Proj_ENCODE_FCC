{
 "cells": [
  {
   "cell_type": "markdown",
   "metadata": {},
   "source": [
    "**Set environment**"
   ]
  },
  {
   "cell_type": "code",
   "execution_count": 1,
   "metadata": {},
   "outputs": [
    {
     "name": "stdout",
     "output_type": "stream",
     "text": [
      "You are in singularity_proj_encode_fcc \n",
      "BASE DIRECTORY:     /mount/work \n",
      "PATH OF SOURCE:     /mount/work/source \n",
      "PATH OF EXECUTABLE: /mount/work/exe \n",
      "PATH OF ANNOTATION: /mount/work/annotation \n",
      "PATH OF PROJECT:    /mount/project \n",
      "PATH OF RESULTS:    /mount/work/out/proj_encode_fcc \n",
      "[1] \"/mount/work\"\n",
      "[1] \"/mount/work/out/proj_encode_fcc\"\n"
     ]
    }
   ],
   "source": [
    "suppressMessages(suppressWarnings(source(\"../config_sing.R\")))\n",
    "\n",
    "print(FD_WORK)\n",
    "print(FD_RES)"
   ]
  },
  {
   "cell_type": "markdown",
   "metadata": {},
   "source": [
    "## Import library size"
   ]
  },
  {
   "cell_type": "code",
   "execution_count": 4,
   "metadata": {},
   "outputs": [
    {
     "data": {
      "text/html": [
       "<style>\n",
       ".list-inline {list-style: none; margin:0; padding: 0}\n",
       ".list-inline>li {display: inline-block}\n",
       ".list-inline>li:not(:last-child)::after {content: \"\\00b7\"; padding: 0 .5ex}\n",
       "</style>\n",
       "<ol class=list-inline><li>'358823\\t/gpfs/fs1/data/reddylab/Kuei/out/proj_encode_fcc/KS91_K562_ASTARRseq/fragment/KS91_K562_hg38_ASTARRseq_Input_rep1.GATA1.unstranded.dedups.bed'</li><li>'461577\\t/gpfs/fs1/data/reddylab/Kuei/out/proj_encode_fcc/KS91_K562_ASTARRseq/fragment/KS91_K562_hg38_ASTARRseq_Input_rep2.GATA1.unstranded.dedups.bed'</li><li>'496229\\t/gpfs/fs1/data/reddylab/Kuei/out/proj_encode_fcc/KS91_K562_ASTARRseq/fragment/KS91_K562_hg38_ASTARRseq_Input_rep3.GATA1.unstranded.dedups.bed'</li><li>'464845\\t/gpfs/fs1/data/reddylab/Kuei/out/proj_encode_fcc/KS91_K562_ASTARRseq/fragment/KS91_K562_hg38_ASTARRseq_Input_rep4.GATA1.unstranded.dedups.bed'</li><li>'454013\\t/gpfs/fs1/data/reddylab/Kuei/out/proj_encode_fcc/KS91_K562_ASTARRseq/fragment/KS91_K562_hg38_ASTARRseq_Input_rep5.GATA1.unstranded.dedups.bed'</li><li>'409058\\t/gpfs/fs1/data/reddylab/Kuei/out/proj_encode_fcc/KS91_K562_ASTARRseq/fragment/KS91_K562_hg38_ASTARRseq_Input_rep6.GATA1.unstranded.dedups.bed'</li><li>'505724\\t/gpfs/fs1/data/reddylab/Kuei/out/proj_encode_fcc/KS91_K562_ASTARRseq/fragment/KS91_K562_hg38_ASTARRseq_Output_rep1.GATA1.unstranded.bed'</li><li>'686033\\t/gpfs/fs1/data/reddylab/Kuei/out/proj_encode_fcc/KS91_K562_ASTARRseq/fragment/KS91_K562_hg38_ASTARRseq_Output_rep2.GATA1.unstranded.bed'</li><li>'441621\\t/gpfs/fs1/data/reddylab/Kuei/out/proj_encode_fcc/KS91_K562_ASTARRseq/fragment/KS91_K562_hg38_ASTARRseq_Output_rep3.GATA1.unstranded.bed'</li><li>'739000\\t/gpfs/fs1/data/reddylab/Kuei/out/proj_encode_fcc/KS91_K562_ASTARRseq/fragment/KS91_K562_hg38_ASTARRseq_Output_rep4.GATA1.unstranded.bed'</li></ol>\n"
      ],
      "text/latex": [
       "\\begin{enumerate*}\n",
       "\\item '358823\\textbackslash{}t/gpfs/fs1/data/reddylab/Kuei/out/proj\\_encode\\_fcc/KS91\\_K562\\_ASTARRseq/fragment/KS91\\_K562\\_hg38\\_ASTARRseq\\_Input\\_rep1.GATA1.unstranded.dedups.bed'\n",
       "\\item '461577\\textbackslash{}t/gpfs/fs1/data/reddylab/Kuei/out/proj\\_encode\\_fcc/KS91\\_K562\\_ASTARRseq/fragment/KS91\\_K562\\_hg38\\_ASTARRseq\\_Input\\_rep2.GATA1.unstranded.dedups.bed'\n",
       "\\item '496229\\textbackslash{}t/gpfs/fs1/data/reddylab/Kuei/out/proj\\_encode\\_fcc/KS91\\_K562\\_ASTARRseq/fragment/KS91\\_K562\\_hg38\\_ASTARRseq\\_Input\\_rep3.GATA1.unstranded.dedups.bed'\n",
       "\\item '464845\\textbackslash{}t/gpfs/fs1/data/reddylab/Kuei/out/proj\\_encode\\_fcc/KS91\\_K562\\_ASTARRseq/fragment/KS91\\_K562\\_hg38\\_ASTARRseq\\_Input\\_rep4.GATA1.unstranded.dedups.bed'\n",
       "\\item '454013\\textbackslash{}t/gpfs/fs1/data/reddylab/Kuei/out/proj\\_encode\\_fcc/KS91\\_K562\\_ASTARRseq/fragment/KS91\\_K562\\_hg38\\_ASTARRseq\\_Input\\_rep5.GATA1.unstranded.dedups.bed'\n",
       "\\item '409058\\textbackslash{}t/gpfs/fs1/data/reddylab/Kuei/out/proj\\_encode\\_fcc/KS91\\_K562\\_ASTARRseq/fragment/KS91\\_K562\\_hg38\\_ASTARRseq\\_Input\\_rep6.GATA1.unstranded.dedups.bed'\n",
       "\\item '505724\\textbackslash{}t/gpfs/fs1/data/reddylab/Kuei/out/proj\\_encode\\_fcc/KS91\\_K562\\_ASTARRseq/fragment/KS91\\_K562\\_hg38\\_ASTARRseq\\_Output\\_rep1.GATA1.unstranded.bed'\n",
       "\\item '686033\\textbackslash{}t/gpfs/fs1/data/reddylab/Kuei/out/proj\\_encode\\_fcc/KS91\\_K562\\_ASTARRseq/fragment/KS91\\_K562\\_hg38\\_ASTARRseq\\_Output\\_rep2.GATA1.unstranded.bed'\n",
       "\\item '441621\\textbackslash{}t/gpfs/fs1/data/reddylab/Kuei/out/proj\\_encode\\_fcc/KS91\\_K562\\_ASTARRseq/fragment/KS91\\_K562\\_hg38\\_ASTARRseq\\_Output\\_rep3.GATA1.unstranded.bed'\n",
       "\\item '739000\\textbackslash{}t/gpfs/fs1/data/reddylab/Kuei/out/proj\\_encode\\_fcc/KS91\\_K562\\_ASTARRseq/fragment/KS91\\_K562\\_hg38\\_ASTARRseq\\_Output\\_rep4.GATA1.unstranded.bed'\n",
       "\\end{enumerate*}\n"
      ],
      "text/markdown": [
       "1. '358823\\t/gpfs/fs1/data/reddylab/Kuei/out/proj_encode_fcc/KS91_K562_ASTARRseq/fragment/KS91_K562_hg38_ASTARRseq_Input_rep1.GATA1.unstranded.dedups.bed'\n",
       "2. '461577\\t/gpfs/fs1/data/reddylab/Kuei/out/proj_encode_fcc/KS91_K562_ASTARRseq/fragment/KS91_K562_hg38_ASTARRseq_Input_rep2.GATA1.unstranded.dedups.bed'\n",
       "3. '496229\\t/gpfs/fs1/data/reddylab/Kuei/out/proj_encode_fcc/KS91_K562_ASTARRseq/fragment/KS91_K562_hg38_ASTARRseq_Input_rep3.GATA1.unstranded.dedups.bed'\n",
       "4. '464845\\t/gpfs/fs1/data/reddylab/Kuei/out/proj_encode_fcc/KS91_K562_ASTARRseq/fragment/KS91_K562_hg38_ASTARRseq_Input_rep4.GATA1.unstranded.dedups.bed'\n",
       "5. '454013\\t/gpfs/fs1/data/reddylab/Kuei/out/proj_encode_fcc/KS91_K562_ASTARRseq/fragment/KS91_K562_hg38_ASTARRseq_Input_rep5.GATA1.unstranded.dedups.bed'\n",
       "6. '409058\\t/gpfs/fs1/data/reddylab/Kuei/out/proj_encode_fcc/KS91_K562_ASTARRseq/fragment/KS91_K562_hg38_ASTARRseq_Input_rep6.GATA1.unstranded.dedups.bed'\n",
       "7. '505724\\t/gpfs/fs1/data/reddylab/Kuei/out/proj_encode_fcc/KS91_K562_ASTARRseq/fragment/KS91_K562_hg38_ASTARRseq_Output_rep1.GATA1.unstranded.bed'\n",
       "8. '686033\\t/gpfs/fs1/data/reddylab/Kuei/out/proj_encode_fcc/KS91_K562_ASTARRseq/fragment/KS91_K562_hg38_ASTARRseq_Output_rep2.GATA1.unstranded.bed'\n",
       "9. '441621\\t/gpfs/fs1/data/reddylab/Kuei/out/proj_encode_fcc/KS91_K562_ASTARRseq/fragment/KS91_K562_hg38_ASTARRseq_Output_rep3.GATA1.unstranded.bed'\n",
       "10. '739000\\t/gpfs/fs1/data/reddylab/Kuei/out/proj_encode_fcc/KS91_K562_ASTARRseq/fragment/KS91_K562_hg38_ASTARRseq_Output_rep4.GATA1.unstranded.bed'\n",
       "\n",
       "\n"
      ],
      "text/plain": [
       " [1] \"358823\\t/gpfs/fs1/data/reddylab/Kuei/out/proj_encode_fcc/KS91_K562_ASTARRseq/fragment/KS91_K562_hg38_ASTARRseq_Input_rep1.GATA1.unstranded.dedups.bed\"\n",
       " [2] \"461577\\t/gpfs/fs1/data/reddylab/Kuei/out/proj_encode_fcc/KS91_K562_ASTARRseq/fragment/KS91_K562_hg38_ASTARRseq_Input_rep2.GATA1.unstranded.dedups.bed\"\n",
       " [3] \"496229\\t/gpfs/fs1/data/reddylab/Kuei/out/proj_encode_fcc/KS91_K562_ASTARRseq/fragment/KS91_K562_hg38_ASTARRseq_Input_rep3.GATA1.unstranded.dedups.bed\"\n",
       " [4] \"464845\\t/gpfs/fs1/data/reddylab/Kuei/out/proj_encode_fcc/KS91_K562_ASTARRseq/fragment/KS91_K562_hg38_ASTARRseq_Input_rep4.GATA1.unstranded.dedups.bed\"\n",
       " [5] \"454013\\t/gpfs/fs1/data/reddylab/Kuei/out/proj_encode_fcc/KS91_K562_ASTARRseq/fragment/KS91_K562_hg38_ASTARRseq_Input_rep5.GATA1.unstranded.dedups.bed\"\n",
       " [6] \"409058\\t/gpfs/fs1/data/reddylab/Kuei/out/proj_encode_fcc/KS91_K562_ASTARRseq/fragment/KS91_K562_hg38_ASTARRseq_Input_rep6.GATA1.unstranded.dedups.bed\"\n",
       " [7] \"505724\\t/gpfs/fs1/data/reddylab/Kuei/out/proj_encode_fcc/KS91_K562_ASTARRseq/fragment/KS91_K562_hg38_ASTARRseq_Output_rep1.GATA1.unstranded.bed\"      \n",
       " [8] \"686033\\t/gpfs/fs1/data/reddylab/Kuei/out/proj_encode_fcc/KS91_K562_ASTARRseq/fragment/KS91_K562_hg38_ASTARRseq_Output_rep2.GATA1.unstranded.bed\"      \n",
       " [9] \"441621\\t/gpfs/fs1/data/reddylab/Kuei/out/proj_encode_fcc/KS91_K562_ASTARRseq/fragment/KS91_K562_hg38_ASTARRseq_Output_rep3.GATA1.unstranded.bed\"      \n",
       "[10] \"739000\\t/gpfs/fs1/data/reddylab/Kuei/out/proj_encode_fcc/KS91_K562_ASTARRseq/fragment/KS91_K562_hg38_ASTARRseq_Output_rep4.GATA1.unstranded.bed\"      "
      ]
     },
     "metadata": {},
     "output_type": "display_data"
    }
   ],
   "source": [
    "fdiry = file.path(FD_RES, \"KS91_K562_ASTARRseq\", \"fragment\")\n",
    "fname = \"library_size.txt\"\n",
    "fpath = file.path(fdiry, fname)\n",
    "\n",
    "txt = paste(\"head\", fpath)\n",
    "system(txt, intern=TRUE)"
   ]
  },
  {
   "cell_type": "code",
   "execution_count": 20,
   "metadata": {},
   "outputs": [
    {
     "data": {
      "text/html": [
       "<table class=\"dataframe\">\n",
       "<caption>A tibble: 10 × 4</caption>\n",
       "<thead>\n",
       "\t<tr><th scope=col>Sample</th><th scope=col>Group</th><th scope=col>Replicate</th><th scope=col>Size</th></tr>\n",
       "\t<tr><th scope=col>&lt;chr&gt;</th><th scope=col>&lt;chr&gt;</th><th scope=col>&lt;chr&gt;</th><th scope=col>&lt;dbl&gt;</th></tr>\n",
       "</thead>\n",
       "<tbody>\n",
       "\t<tr><td>Input_rep1 </td><td>Input </td><td>rep1</td><td>358823</td></tr>\n",
       "\t<tr><td>Input_rep2 </td><td>Input </td><td>rep2</td><td>461577</td></tr>\n",
       "\t<tr><td>Input_rep3 </td><td>Input </td><td>rep3</td><td>496229</td></tr>\n",
       "\t<tr><td>Input_rep4 </td><td>Input </td><td>rep4</td><td>464845</td></tr>\n",
       "\t<tr><td>Input_rep5 </td><td>Input </td><td>rep5</td><td>454013</td></tr>\n",
       "\t<tr><td>Input_rep6 </td><td>Input </td><td>rep6</td><td>409058</td></tr>\n",
       "\t<tr><td>Output_rep1</td><td>Output</td><td>rep1</td><td>505724</td></tr>\n",
       "\t<tr><td>Output_rep2</td><td>Output</td><td>rep2</td><td>686033</td></tr>\n",
       "\t<tr><td>Output_rep3</td><td>Output</td><td>rep3</td><td>441621</td></tr>\n",
       "\t<tr><td>Output_rep4</td><td>Output</td><td>rep4</td><td>739000</td></tr>\n",
       "</tbody>\n",
       "</table>\n"
      ],
      "text/latex": [
       "A tibble: 10 × 4\n",
       "\\begin{tabular}{llll}\n",
       " Sample & Group & Replicate & Size\\\\\n",
       " <chr> & <chr> & <chr> & <dbl>\\\\\n",
       "\\hline\n",
       "\t Input\\_rep1  & Input  & rep1 & 358823\\\\\n",
       "\t Input\\_rep2  & Input  & rep2 & 461577\\\\\n",
       "\t Input\\_rep3  & Input  & rep3 & 496229\\\\\n",
       "\t Input\\_rep4  & Input  & rep4 & 464845\\\\\n",
       "\t Input\\_rep5  & Input  & rep5 & 454013\\\\\n",
       "\t Input\\_rep6  & Input  & rep6 & 409058\\\\\n",
       "\t Output\\_rep1 & Output & rep1 & 505724\\\\\n",
       "\t Output\\_rep2 & Output & rep2 & 686033\\\\\n",
       "\t Output\\_rep3 & Output & rep3 & 441621\\\\\n",
       "\t Output\\_rep4 & Output & rep4 & 739000\\\\\n",
       "\\end{tabular}\n"
      ],
      "text/markdown": [
       "\n",
       "A tibble: 10 × 4\n",
       "\n",
       "| Sample &lt;chr&gt; | Group &lt;chr&gt; | Replicate &lt;chr&gt; | Size &lt;dbl&gt; |\n",
       "|---|---|---|---|\n",
       "| Input_rep1  | Input  | rep1 | 358823 |\n",
       "| Input_rep2  | Input  | rep2 | 461577 |\n",
       "| Input_rep3  | Input  | rep3 | 496229 |\n",
       "| Input_rep4  | Input  | rep4 | 464845 |\n",
       "| Input_rep5  | Input  | rep5 | 454013 |\n",
       "| Input_rep6  | Input  | rep6 | 409058 |\n",
       "| Output_rep1 | Output | rep1 | 505724 |\n",
       "| Output_rep2 | Output | rep2 | 686033 |\n",
       "| Output_rep3 | Output | rep3 | 441621 |\n",
       "| Output_rep4 | Output | rep4 | 739000 |\n",
       "\n"
      ],
      "text/plain": [
       "   Sample      Group  Replicate Size  \n",
       "1  Input_rep1  Input  rep1      358823\n",
       "2  Input_rep2  Input  rep2      461577\n",
       "3  Input_rep3  Input  rep3      496229\n",
       "4  Input_rep4  Input  rep4      464845\n",
       "5  Input_rep5  Input  rep5      454013\n",
       "6  Input_rep6  Input  rep6      409058\n",
       "7  Output_rep1 Output rep1      505724\n",
       "8  Output_rep2 Output rep2      686033\n",
       "9  Output_rep3 Output rep3      441621\n",
       "10 Output_rep4 Output rep4      739000"
      ]
     },
     "metadata": {},
     "output_type": "display_data"
    }
   ],
   "source": [
    "### set path\n",
    "fdiry = file.path(FD_RES, \"KS91_K562_ASTARRseq\", \"fragment\")\n",
    "fname = \"library_size.txt\"\n",
    "fpath = file.path(fdiry, fname)\n",
    "\n",
    "### import library size\n",
    "ctypes = c(col_integer(), col_character())\n",
    "cnames = c(\"Size\", \"FPath\")\n",
    "dat_lib = read_tsv(fpath, col_types=ctypes, col_names = cnames)\n",
    "\n",
    "### remove the total size\n",
    "dat_lib = dat_lib %>% dplyr::filter(FPath != \"total\")\n",
    "\n",
    "### summarize info from the file path\n",
    "### stackoverflow: Extract only folder name right before filename from full path\n",
    "dat_lib = dat_lib %>% \n",
    "    mutate(Group     = ifelse(str_detect(FPath, pattern=\"Input\"), \"Input\", \"Output\")) %>%\n",
    "    mutate(Replicate = str_extract(FPath, pattern=\"rep[0-9]\")) %>%\n",
    "    mutate(Sample    = paste(Group, Replicate, sep=\"_\"))\n",
    "\n",
    "dat_lib = dat_lib %>% dplyr::select(Sample, Group, Replicate, Size)\n",
    "dat_lib"
   ]
  },
  {
   "cell_type": "markdown",
   "metadata": {},
   "source": [
    "## Store the table"
   ]
  },
  {
   "cell_type": "code",
   "execution_count": 21,
   "metadata": {},
   "outputs": [],
   "source": [
    "fdiry = file.path(FD_RES, \"KS91_K562_ASTARRseq\", \"fragment\")\n",
    "fname = \"library_size.tsv\"\n",
    "fpath = file.path(fdiry, fname)\n",
    "\n",
    "dat = dat_lib\n",
    "write_tsv(dat, fpath)"
   ]
  }
 ],
 "metadata": {
  "kernelspec": {
   "display_name": "R",
   "language": "R",
   "name": "ir"
  },
  "language_info": {
   "codemirror_mode": "r",
   "file_extension": ".r",
   "mimetype": "text/x-r-source",
   "name": "R",
   "pygments_lexer": "r",
   "version": "4.1.2"
  }
 },
 "nbformat": 4,
 "nbformat_minor": 4
}
