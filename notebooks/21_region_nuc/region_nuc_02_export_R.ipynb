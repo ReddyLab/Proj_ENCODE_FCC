{
 "cells": [
  {
   "cell_type": "raw",
   "id": "89227128-f1f1-4204-94bd-8998adc906fb",
   "metadata": {},
   "source": [
    "---\n",
    "title: Prepare TF Modules 01\n",
    "subtitle: Explore the data\n",
    "format:\n",
    "    html:\n",
    "        code-fold:  true\n",
    "        code-tools: true\n",
    "---"
   ]
  },
  {
   "cell_type": "markdown",
   "id": "67712515-89ba-4840-ba82-d65a50846959",
   "metadata": {},
   "source": [
    "**Set environment**"
   ]
  },
  {
   "cell_type": "code",
   "execution_count": 1,
   "id": "d8f0f57d-264a-49e9-a7ea-b0242b510b4a",
   "metadata": {},
   "outputs": [
    {
     "name": "stdout",
     "output_type": "stream",
     "text": [
      "You are working on        Singularity \n",
      "BASE DIRECTORY (FD_BASE): /mount \n",
      "REPO DIRECTORY (FD_REPO): /mount/repo \n",
      "WORK DIRECTORY (FD_WORK): /mount/work \n",
      "DATA DIRECTORY (FD_DATA): /mount/data \n",
      "\n",
      "You are working with      ENCODE FCC \n",
      "PATH OF PROJECT (FD_PRJ): /mount/repo/Proj_ENCODE_FCC \n",
      "PROJECT RESULTS (FD_RES): /mount/repo/Proj_ENCODE_FCC/results \n",
      "PROJECT SCRIPTS (FD_EXE): /mount/repo/Proj_ENCODE_FCC/scripts \n",
      "PROJECT DATA    (FD_DAT): /mount/repo/Proj_ENCODE_FCC/data \n",
      "PROJECT NOTE    (FD_NBK): /mount/repo/Proj_ENCODE_FCC/notebooks \n",
      "PROJECT DOCS    (FD_DOC): /mount/repo/Proj_ENCODE_FCC/docs \n",
      "PROJECT LOG     (FD_LOG): /mount/repo/Proj_ENCODE_FCC/log \n",
      "PROJECT APP     (FD_APP): /mount/repo/Proj_ENCODE_FCC/app \n",
      "PROJECT REF     (FD_REF): /mount/repo/Proj_ENCODE_FCC/references \n",
      "\n"
     ]
    }
   ],
   "source": [
    "suppressMessages(suppressWarnings(source(\"../run_config_project_sing.R\")))\n",
    "show_env()"
   ]
  },
  {
   "cell_type": "markdown",
   "id": "8de3e8a5-94a1-4c7d-b599-2ed6e8603e23",
   "metadata": {},
   "source": [
    "## Import data"
   ]
  },
  {
   "cell_type": "code",
   "execution_count": 2,
   "id": "34023b63-a5f2-49aa-9b25-b1010144b535",
   "metadata": {},
   "outputs": [
    {
     "name": "stdout",
     "output_type": "stream",
     "text": [
      "[1] 150042     12\n"
     ]
    },
    {
     "data": {
      "text/html": [
       "<table class=\"dataframe\">\n",
       "<caption>A tibble: 6 × 12</caption>\n",
       "<thead>\n",
       "\t<tr><th scope=col>#1_usercol</th><th scope=col>2_usercol</th><th scope=col>3_usercol</th><th scope=col>4_pct_at</th><th scope=col>5_pct_gc</th><th scope=col>6_num_A</th><th scope=col>7_num_C</th><th scope=col>8_num_G</th><th scope=col>9_num_T</th><th scope=col>10_num_N</th><th scope=col>11_num_oth</th><th scope=col>12_seq_len</th></tr>\n",
       "\t<tr><th scope=col>&lt;chr&gt;</th><th scope=col>&lt;dbl&gt;</th><th scope=col>&lt;dbl&gt;</th><th scope=col>&lt;dbl&gt;</th><th scope=col>&lt;dbl&gt;</th><th scope=col>&lt;dbl&gt;</th><th scope=col>&lt;dbl&gt;</th><th scope=col>&lt;dbl&gt;</th><th scope=col>&lt;dbl&gt;</th><th scope=col>&lt;dbl&gt;</th><th scope=col>&lt;dbl&gt;</th><th scope=col>&lt;dbl&gt;</th></tr>\n",
       "</thead>\n",
       "<tbody>\n",
       "\t<tr><td>chr1</td><td> 10038</td><td> 10405</td><td>0.476839</td><td>0.523161</td><td>122</td><td>192</td><td>  0</td><td> 53</td><td>0</td><td>0</td><td>367</td></tr>\n",
       "\t<tr><td>chr1</td><td> 14282</td><td> 14614</td><td>0.421687</td><td>0.578313</td><td> 65</td><td>102</td><td> 90</td><td> 75</td><td>0</td><td>0</td><td>332</td></tr>\n",
       "\t<tr><td>chr1</td><td> 16025</td><td> 16338</td><td>0.412141</td><td>0.587859</td><td> 62</td><td> 89</td><td> 95</td><td> 67</td><td>0</td><td>0</td><td>313</td></tr>\n",
       "\t<tr><td>chr1</td><td> 17288</td><td> 17689</td><td>0.374065</td><td>0.625935</td><td> 69</td><td>144</td><td>107</td><td> 81</td><td>0</td><td>0</td><td>401</td></tr>\n",
       "\t<tr><td>chr1</td><td> 28934</td><td> 29499</td><td>0.228319</td><td>0.771681</td><td> 66</td><td>247</td><td>189</td><td> 63</td><td>0</td><td>0</td><td>565</td></tr>\n",
       "\t<tr><td>chr1</td><td>115429</td><td>115969</td><td>0.618519</td><td>0.381481</td><td>160</td><td>119</td><td> 87</td><td>174</td><td>0</td><td>0</td><td>540</td></tr>\n",
       "</tbody>\n",
       "</table>\n"
      ],
      "text/latex": [
       "A tibble: 6 × 12\n",
       "\\begin{tabular}{llllllllllll}\n",
       " \\#1\\_usercol & 2\\_usercol & 3\\_usercol & 4\\_pct\\_at & 5\\_pct\\_gc & 6\\_num\\_A & 7\\_num\\_C & 8\\_num\\_G & 9\\_num\\_T & 10\\_num\\_N & 11\\_num\\_oth & 12\\_seq\\_len\\\\\n",
       " <chr> & <dbl> & <dbl> & <dbl> & <dbl> & <dbl> & <dbl> & <dbl> & <dbl> & <dbl> & <dbl> & <dbl>\\\\\n",
       "\\hline\n",
       "\t chr1 &  10038 &  10405 & 0.476839 & 0.523161 & 122 & 192 &   0 &  53 & 0 & 0 & 367\\\\\n",
       "\t chr1 &  14282 &  14614 & 0.421687 & 0.578313 &  65 & 102 &  90 &  75 & 0 & 0 & 332\\\\\n",
       "\t chr1 &  16025 &  16338 & 0.412141 & 0.587859 &  62 &  89 &  95 &  67 & 0 & 0 & 313\\\\\n",
       "\t chr1 &  17288 &  17689 & 0.374065 & 0.625935 &  69 & 144 & 107 &  81 & 0 & 0 & 401\\\\\n",
       "\t chr1 &  28934 &  29499 & 0.228319 & 0.771681 &  66 & 247 & 189 &  63 & 0 & 0 & 565\\\\\n",
       "\t chr1 & 115429 & 115969 & 0.618519 & 0.381481 & 160 & 119 &  87 & 174 & 0 & 0 & 540\\\\\n",
       "\\end{tabular}\n"
      ],
      "text/markdown": [
       "\n",
       "A tibble: 6 × 12\n",
       "\n",
       "| #1_usercol &lt;chr&gt; | 2_usercol &lt;dbl&gt; | 3_usercol &lt;dbl&gt; | 4_pct_at &lt;dbl&gt; | 5_pct_gc &lt;dbl&gt; | 6_num_A &lt;dbl&gt; | 7_num_C &lt;dbl&gt; | 8_num_G &lt;dbl&gt; | 9_num_T &lt;dbl&gt; | 10_num_N &lt;dbl&gt; | 11_num_oth &lt;dbl&gt; | 12_seq_len &lt;dbl&gt; |\n",
       "|---|---|---|---|---|---|---|---|---|---|---|---|\n",
       "| chr1 |  10038 |  10405 | 0.476839 | 0.523161 | 122 | 192 |   0 |  53 | 0 | 0 | 367 |\n",
       "| chr1 |  14282 |  14614 | 0.421687 | 0.578313 |  65 | 102 |  90 |  75 | 0 | 0 | 332 |\n",
       "| chr1 |  16025 |  16338 | 0.412141 | 0.587859 |  62 |  89 |  95 |  67 | 0 | 0 | 313 |\n",
       "| chr1 |  17288 |  17689 | 0.374065 | 0.625935 |  69 | 144 | 107 |  81 | 0 | 0 | 401 |\n",
       "| chr1 |  28934 |  29499 | 0.228319 | 0.771681 |  66 | 247 | 189 |  63 | 0 | 0 | 565 |\n",
       "| chr1 | 115429 | 115969 | 0.618519 | 0.381481 | 160 | 119 |  87 | 174 | 0 | 0 | 540 |\n",
       "\n"
      ],
      "text/plain": [
       "  #1_usercol 2_usercol 3_usercol 4_pct_at 5_pct_gc 6_num_A 7_num_C 8_num_G\n",
       "1 chr1        10038     10405    0.476839 0.523161 122     192       0    \n",
       "2 chr1        14282     14614    0.421687 0.578313  65     102      90    \n",
       "3 chr1        16025     16338    0.412141 0.587859  62      89      95    \n",
       "4 chr1        17288     17689    0.374065 0.625935  69     144     107    \n",
       "5 chr1        28934     29499    0.228319 0.771681  66     247     189    \n",
       "6 chr1       115429    115969    0.618519 0.381481 160     119      87    \n",
       "  9_num_T 10_num_N 11_num_oth 12_seq_len\n",
       "1  53     0        0          367       \n",
       "2  75     0        0          332       \n",
       "3  67     0        0          313       \n",
       "4  81     0        0          401       \n",
       "5  63     0        0          565       \n",
       "6 174     0        0          540       "
      ]
     },
     "metadata": {},
     "output_type": "display_data"
    }
   ],
   "source": [
    "txt_fdiry = file.path(\n",
    "    FD_RES, \n",
    "    \"region_nuc\", \n",
    "    \"fcc_astarr_macs\"\n",
    ")\n",
    "txt_fname = \"K562.hg38.ASTARR.macs.KS91.input.rep_all.max_overlaps.q5.bed.gz\"\n",
    "txt_fpath = file.path(txt_fdiry, txt_fname)\n",
    "\n",
    "dat = read_tsv(txt_fpath, show_col_types = FALSE)\n",
    "\n",
    "dat_region_nuc_import = dat\n",
    "print(dim(dat))\n",
    "head(dat)"
   ]
  },
  {
   "cell_type": "markdown",
   "id": "4f65fc50-9d0c-411d-bd54-3cde4e39cf1b",
   "metadata": {},
   "source": [
    "## Arrange table"
   ]
  },
  {
   "cell_type": "code",
   "execution_count": 4,
   "id": "9b999f25-978b-442d-8e4e-e30c76d947b3",
   "metadata": {},
   "outputs": [
    {
     "name": "stdout",
     "output_type": "stream",
     "text": [
      "[1] 150042      6\n"
     ]
    },
    {
     "data": {
      "text/html": [
       "<table>\n",
       " <thead>\n",
       "  <tr>\n",
       "   <th style=\"text-align:left;\"> Chrom </th>\n",
       "   <th style=\"text-align:right;\"> ChromStart </th>\n",
       "   <th style=\"text-align:right;\"> ChromEnd </th>\n",
       "   <th style=\"text-align:left;\"> Region </th>\n",
       "   <th style=\"text-align:right;\"> pGC </th>\n",
       "   <th style=\"text-align:right;\"> Length </th>\n",
       "  </tr>\n",
       " </thead>\n",
       "<tbody>\n",
       "  <tr>\n",
       "   <td style=\"text-align:left;\"> chr1 </td>\n",
       "   <td style=\"text-align:right;\"> 10038 </td>\n",
       "   <td style=\"text-align:right;\"> 10405 </td>\n",
       "   <td style=\"text-align:left;\"> chr1:10038-10405 </td>\n",
       "   <td style=\"text-align:right;\"> 0.523161 </td>\n",
       "   <td style=\"text-align:right;\"> 367 </td>\n",
       "  </tr>\n",
       "  <tr>\n",
       "   <td style=\"text-align:left;\"> chr1 </td>\n",
       "   <td style=\"text-align:right;\"> 14282 </td>\n",
       "   <td style=\"text-align:right;\"> 14614 </td>\n",
       "   <td style=\"text-align:left;\"> chr1:14282-14614 </td>\n",
       "   <td style=\"text-align:right;\"> 0.578313 </td>\n",
       "   <td style=\"text-align:right;\"> 332 </td>\n",
       "  </tr>\n",
       "  <tr>\n",
       "   <td style=\"text-align:left;\"> chr1 </td>\n",
       "   <td style=\"text-align:right;\"> 16025 </td>\n",
       "   <td style=\"text-align:right;\"> 16338 </td>\n",
       "   <td style=\"text-align:left;\"> chr1:16025-16338 </td>\n",
       "   <td style=\"text-align:right;\"> 0.587859 </td>\n",
       "   <td style=\"text-align:right;\"> 313 </td>\n",
       "  </tr>\n",
       "</tbody>\n",
       "</table>"
      ]
     },
     "metadata": {},
     "output_type": "display_data"
    }
   ],
   "source": [
    "dat = dat_region_nuc_import\n",
    "dat = dat %>%\n",
    "    dplyr::mutate(\n",
    "        Region = fun_gen_region(`#1_usercol`, `2_usercol`, `3_usercol`)\n",
    "    ) %>%\n",
    "    dplyr::select(\n",
    "        `#1_usercol`, `2_usercol`, `3_usercol`, \n",
    "        Region,\n",
    "        contains(\"pct_gc\"), \n",
    "        contains(\"seq_len\")\n",
    "    )\n",
    "    \n",
    "colnames(dat) = c(\"Chrom\", \"ChromStart\", \"ChromEnd\", \"Region\", \"pGC\", \"Length\")\n",
    "\n",
    "dat_region_nuc_arrange = dat\n",
    "print(dim(dat))\n",
    "fun_display_table(head(dat, 3))"
   ]
  },
  {
   "cell_type": "markdown",
   "id": "515365a5-095f-4fed-81c0-c9c07729231b",
   "metadata": {},
   "source": [
    "## Export results"
   ]
  },
  {
   "cell_type": "code",
   "execution_count": 18,
   "id": "26083f2d-f9e7-42a8-bbf2-d19cfabbf30d",
   "metadata": {},
   "outputs": [],
   "source": [
    "txt_fdiry = file.path(\n",
    "    FD_RES, \n",
    "    \"region_nuc\", \n",
    "    \"fcc_astarr_macs\",\n",
    "    \"summary\"\n",
    ")\n",
    "txt_fname = \"K562.hg38.ASTARR.macs.KS91.input.rep_all.max_overlaps.q5.tsv\"\n",
    "txt_fpath = file.path(txt_fdiry, txt_fname)\n",
    "\n",
    "dat = dat_region_nuc_arrange\n",
    "dat = dat %>% dplyr::arrange(Chrom, ChromStart, ChromEnd)\n",
    "write_tsv(dat, txt_fpath)"
   ]
  },
  {
   "cell_type": "code",
   "execution_count": null,
   "id": "a5eb6677-0dc0-4f0a-b19e-3abdb354880c",
   "metadata": {},
   "outputs": [],
   "source": []
  },
  {
   "cell_type": "code",
   "execution_count": 5,
   "id": "9c54c92c-5b4d-47b9-b755-0241b828635c",
   "metadata": {},
   "outputs": [
    {
     "name": "stdout",
     "output_type": "stream",
     "text": [
      "   Min. 1st Qu.  Median    Mean 3rd Qu.    Max. \n",
      "    1.0   401.0   597.0   712.8   909.0  6172.0 \n"
     ]
    }
   ],
   "source": [
    "dat = dat_region_nuc_arrange\n",
    "vec = dat$Length\n",
    "print(summary(vec))"
   ]
  },
  {
   "cell_type": "code",
   "execution_count": 8,
   "id": "b1cac99a-e4ac-46ee-8fe4-2bd47b6427ed",
   "metadata": {},
   "outputs": [
    {
     "name": "stdout",
     "output_type": "stream",
     "text": [
      "[1] 0.7971235\n"
     ]
    }
   ],
   "source": [
    "dat = dat_region_nuc_arrange\n",
    "vec = dat$Length\n",
    "print(mean(vec<1000))"
   ]
  },
  {
   "cell_type": "code",
   "execution_count": 10,
   "id": "9a2a40a7-5ac0-4aa4-8737-b4a9650fcafd",
   "metadata": {},
   "outputs": [
    {
     "name": "stderr",
     "output_type": "stream",
     "text": [
      "Warning message:\n",
      "“\u001b[1m\u001b[22mRemoved 125 rows containing non-finite outside the scale range (`stat_bin()`).”\n",
      "Warning message:\n",
      "“\u001b[1m\u001b[22mRemoved 2 rows containing missing values or values outside the scale range\n",
      "(`geom_bar()`).”\n"
     ]
    },
    {
     "data": {
      "image/png": "[encoded data removed]",
      "text/plain": [
       "plot without title"
      ]
     },
     "metadata": {
      "image/png": {
       "height": 300,
       "width": 420
      }
     },
     "output_type": "display_data"
    }
   ],
   "source": [
    "dat = dat_region_nuc_arrange\n",
    "vec = dat$Length\n",
    "num = round(mean(vec))\n",
    "txt = paste(\"Mean Length\", \"=\", num)\n",
    "\n",
    "gpt = ggplot(dat, aes(x=Length)) + \n",
    "    geom_histogram(binwidth = 50) + \n",
    "    xlim(0, 3000) +\n",
    "    labs(x = \"Length\", title = txt) +\n",
    "    theme_cowplot() + \n",
    "    background_grid()\n",
    "\n",
    "options(repr.plot.width=7, repr.plot.height=5)\n",
    "print(gpt)"
   ]
  },
  {
   "cell_type": "code",
   "execution_count": 11,
   "id": "31e5f45a-0a4f-454a-b5b2-7e154d3831f4",
   "metadata": {},
   "outputs": [
    {
     "name": "stdout",
     "output_type": "stream",
     "text": [
      "   Min. 1st Qu.  Median    Mean 3rd Qu.    Max. \n",
      " 0.2771  0.4651  0.5204  0.5269  0.5843  1.0000 \n"
     ]
    }
   ],
   "source": [
    "dat = dat_region_nuc_arrange\n",
    "vec = dat$pGC\n",
    "print(summary(vec))"
   ]
  },
  {
   "cell_type": "code",
   "execution_count": 12,
   "id": "f433e18d-3dff-4f2c-a3fc-bdb4a185a5c9",
   "metadata": {},
   "outputs": [
    {
     "name": "stderr",
     "output_type": "stream",
     "text": [
      "Warning message:\n",
      "“\u001b[1m\u001b[22mRemoved 2 rows containing missing values or values outside the scale range\n",
      "(`geom_bar()`).”\n"
     ]
    },
    {
     "data": {
      "image/png": "[encoded data removed]",
      "text/plain": [
       "plot without title"
      ]
     },
     "metadata": {
      "image/png": {
       "height": 300,
       "width": 420
      }
     },
     "output_type": "display_data"
    }
   ],
   "source": [
    "dat = dat_region_nuc_arrange\n",
    "vec = dat$pGC\n",
    "num = round(mean(vec), 2)\n",
    "txt = paste(\"Mean GC%\", \"=\", num)\n",
    "\n",
    "gpt = ggplot(dat, aes(x=pGC)) + \n",
    "    geom_histogram(binwidth = 0.01) + \n",
    "    xlim(0, 1) +\n",
    "    labs(x = \"GC %\", title = txt) +\n",
    "    theme_cowplot() + \n",
    "    background_grid()\n",
    "\n",
    "print(gpt)"
   ]
  },
  {
   "cell_type": "code",
   "execution_count": null,
   "id": "d41b25dc-ee4d-49ce-8bd1-a0b2696192db",
   "metadata": {},
   "outputs": [],
   "source": []
  }
 ],
 "metadata": {
  "kernelspec": {
   "display_name": "R",
   "language": "R",
   "name": "ir"
  },
  "language_info": {
   "codemirror_mode": "r",
   "file_extension": ".r",
   "mimetype": "text/x-r-source",
   "name": "R",
   "pygments_lexer": "r",
   "version": "4.4.1"
  }
 },
 "nbformat": 4,
 "nbformat_minor": 5
}
