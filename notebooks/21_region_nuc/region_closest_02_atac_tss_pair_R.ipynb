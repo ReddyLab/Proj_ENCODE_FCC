{
 "cells": [
  {
   "cell_type": "raw",
   "id": "f38acae5-0ca0-44b4-adb9-47413c3c020c",
   "metadata": {},
   "source": [
    "---\n",
    "title: Region annotation 11 (ASTARR MACS peaks)\n",
    "subtitle: Summarize annotations (Main)\n",
    "format:\n",
    "    html:\n",
    "        code-fold:  true\n",
    "        code-tools: true\n",
    "---"
   ]
  },
  {
   "cell_type": "markdown",
   "id": "37007d69-8473-4dd5-9736-769ca6db5270",
   "metadata": {},
   "source": [
    "**Set environment**"
   ]
  },
  {
   "cell_type": "code",
   "execution_count": 1,
   "id": "2698581d-1287-4b7f-983c-b3add84969b4",
   "metadata": {
    "tags": []
   },
   "outputs": [
    {
     "name": "stdout",
     "output_type": "stream",
     "text": [
      "You are working on        Singularity: singularity_proj_encode_fcc \n",
      "BASE DIRECTORY (FD_BASE): /data/reddylab/Kuei \n",
      "REPO DIRECTORY (FD_REPO): /data/reddylab/Kuei/repo \n",
      "WORK DIRECTORY (FD_WORK): /data/reddylab/Kuei/work \n",
      "DATA DIRECTORY (FD_DATA): /data/reddylab/Kuei/data \n",
      "\n",
      "You are working with      ENCODE FCC \n",
      "PATH OF PROJECT (FD_PRJ): /data/reddylab/Kuei/repo/Proj_ENCODE_FCC \n",
      "PROJECT RESULTS (FD_RES): /data/reddylab/Kuei/repo/Proj_ENCODE_FCC/results \n",
      "PROJECT SCRIPTS (FD_EXE): /data/reddylab/Kuei/repo/Proj_ENCODE_FCC/scripts \n",
      "PROJECT DATA    (FD_DAT): /data/reddylab/Kuei/repo/Proj_ENCODE_FCC/data \n",
      "PROJECT NOTE    (FD_NBK): /data/reddylab/Kuei/repo/Proj_ENCODE_FCC/notebooks \n",
      "PROJECT DOCS    (FD_DOC): /data/reddylab/Kuei/repo/Proj_ENCODE_FCC/docs \n",
      "PROJECT LOG     (FD_LOG): /data/reddylab/Kuei/repo/Proj_ENCODE_FCC/log \n",
      "PROJECT REF     (FD_REF): /data/reddylab/Kuei/repo/Proj_ENCODE_FCC/references \n",
      "\n"
     ]
    }
   ],
   "source": [
    "suppressMessages(suppressWarnings(source(\"../run_config_project_sing.R\")))\n",
    "show_env()"
   ]
  },
  {
   "cell_type": "markdown",
   "id": "b37cc720-a5f9-4aeb-b7b6-a0f65be09cd1",
   "metadata": {},
   "source": [
    "**Set global variables**"
   ]
  },
  {
   "cell_type": "code",
   "execution_count": 2,
   "id": "a0f681e3-681d-4bbd-9951-44f81591c82d",
   "metadata": {},
   "outputs": [],
   "source": [
    "FP_REGION_LABEL_A = file.path(\n",
    "    FD_RES, \n",
    "    \"region/summary/metadata.label.astarr_macs.tsv\"\n",
    ")\n",
    "FP_REGION_LABEL_B = file.path(\n",
    "    FD_RES,\n",
    "    \"region/genome_tss/summary/metadata.label.tsv\"\n",
    ")"
   ]
  },
  {
   "cell_type": "markdown",
   "id": "385440a0-3fd5-4d3f-9d2c-e6433889db3b",
   "metadata": {},
   "source": [
    "## Import data"
   ]
  },
  {
   "cell_type": "code",
   "execution_count": 3,
   "id": "a95c31aa-a9d4-4049-be57-13cf493d3c11",
   "metadata": {},
   "outputs": [
    {
     "data": {
      "text/html": [
       "<table class=\"dataframe\">\n",
       "<caption>A spec_tbl_df: 2 × 3</caption>\n",
       "<thead>\n",
       "\t<tr><th scope=col>Folder</th><th scope=col>FName</th><th scope=col>Label</th></tr>\n",
       "\t<tr><th scope=col>&lt;chr&gt;</th><th scope=col>&lt;chr&gt;</th><th scope=col>&lt;chr&gt;</th></tr>\n",
       "</thead>\n",
       "<tbody>\n",
       "\t<tr><td>fcc_astarr_macs</td><td>K562.hg38.ASTARR.macs.KS91.input.rep_all.max_overlaps.q5.bed.gz</td><td>fcc_astarr_macs_input_overlap</td></tr>\n",
       "\t<tr><td>fcc_astarr_macs</td><td>K562.hg38.ASTARR.macs.KS91.input.rep_all.union.q5.bed.gz       </td><td>fcc_astarr_macs_input_union  </td></tr>\n",
       "</tbody>\n",
       "</table>\n"
      ],
      "text/latex": [
       "A spec\\_tbl\\_df: 2 × 3\n",
       "\\begin{tabular}{lll}\n",
       " Folder & FName & Label\\\\\n",
       " <chr> & <chr> & <chr>\\\\\n",
       "\\hline\n",
       "\t fcc\\_astarr\\_macs & K562.hg38.ASTARR.macs.KS91.input.rep\\_all.max\\_overlaps.q5.bed.gz & fcc\\_astarr\\_macs\\_input\\_overlap\\\\\n",
       "\t fcc\\_astarr\\_macs & K562.hg38.ASTARR.macs.KS91.input.rep\\_all.union.q5.bed.gz        & fcc\\_astarr\\_macs\\_input\\_union  \\\\\n",
       "\\end{tabular}\n"
      ],
      "text/markdown": [
       "\n",
       "A spec_tbl_df: 2 × 3\n",
       "\n",
       "| Folder &lt;chr&gt; | FName &lt;chr&gt; | Label &lt;chr&gt; |\n",
       "|---|---|---|\n",
       "| fcc_astarr_macs | K562.hg38.ASTARR.macs.KS91.input.rep_all.max_overlaps.q5.bed.gz | fcc_astarr_macs_input_overlap |\n",
       "| fcc_astarr_macs | K562.hg38.ASTARR.macs.KS91.input.rep_all.union.q5.bed.gz        | fcc_astarr_macs_input_union   |\n",
       "\n"
      ],
      "text/plain": [
       "  Folder         \n",
       "1 fcc_astarr_macs\n",
       "2 fcc_astarr_macs\n",
       "  FName                                                          \n",
       "1 K562.hg38.ASTARR.macs.KS91.input.rep_all.max_overlaps.q5.bed.gz\n",
       "2 K562.hg38.ASTARR.macs.KS91.input.rep_all.union.q5.bed.gz       \n",
       "  Label                        \n",
       "1 fcc_astarr_macs_input_overlap\n",
       "2 fcc_astarr_macs_input_union  "
      ]
     },
     "metadata": {},
     "output_type": "display_data"
    }
   ],
   "source": [
    "dat_region_label_A = read_tsv(FP_REGION_LABEL_A, show_col_types = FALSE)\n",
    "dat_region_label_A"
   ]
  },
  {
   "cell_type": "code",
   "execution_count": 4,
   "id": "3a93127c-d7f5-49e4-8f08-f1e8e6d08178",
   "metadata": {},
   "outputs": [
    {
     "data": {
      "text/html": [
       "<table class=\"dataframe\">\n",
       "<caption>A spec_tbl_df: 2 × 3</caption>\n",
       "<thead>\n",
       "\t<tr><th scope=col>Folder</th><th scope=col>FName</th><th scope=col>Label</th></tr>\n",
       "\t<tr><th scope=col>&lt;chr&gt;</th><th scope=col>&lt;chr&gt;</th><th scope=col>&lt;chr&gt;</th></tr>\n",
       "</thead>\n",
       "<tbody>\n",
       "\t<tr><td>genome_tss</td><td>K562.hg38.TSS.selected_by_highest_Pol2_signal.bed.gz                       </td><td>genome_tss_pol2       </td></tr>\n",
       "\t<tr><td>genome_tss</td><td>K562.hg38.TSS.selected_by_highest_Pol2_signal.filtered_by_RNAseq_TPM.bed.gz</td><td>genome_tss_pol2_rnaseq</td></tr>\n",
       "</tbody>\n",
       "</table>\n"
      ],
      "text/latex": [
       "A spec\\_tbl\\_df: 2 × 3\n",
       "\\begin{tabular}{lll}\n",
       " Folder & FName & Label\\\\\n",
       " <chr> & <chr> & <chr>\\\\\n",
       "\\hline\n",
       "\t genome\\_tss & K562.hg38.TSS.selected\\_by\\_highest\\_Pol2\\_signal.bed.gz                        & genome\\_tss\\_pol2       \\\\\n",
       "\t genome\\_tss & K562.hg38.TSS.selected\\_by\\_highest\\_Pol2\\_signal.filtered\\_by\\_RNAseq\\_TPM.bed.gz & genome\\_tss\\_pol2\\_rnaseq\\\\\n",
       "\\end{tabular}\n"
      ],
      "text/markdown": [
       "\n",
       "A spec_tbl_df: 2 × 3\n",
       "\n",
       "| Folder &lt;chr&gt; | FName &lt;chr&gt; | Label &lt;chr&gt; |\n",
       "|---|---|---|\n",
       "| genome_tss | K562.hg38.TSS.selected_by_highest_Pol2_signal.bed.gz                        | genome_tss_pol2        |\n",
       "| genome_tss | K562.hg38.TSS.selected_by_highest_Pol2_signal.filtered_by_RNAseq_TPM.bed.gz | genome_tss_pol2_rnaseq |\n",
       "\n"
      ],
      "text/plain": [
       "  Folder    \n",
       "1 genome_tss\n",
       "2 genome_tss\n",
       "  FName                                                                      \n",
       "1 K562.hg38.TSS.selected_by_highest_Pol2_signal.bed.gz                       \n",
       "2 K562.hg38.TSS.selected_by_highest_Pol2_signal.filtered_by_RNAseq_TPM.bed.gz\n",
       "  Label                 \n",
       "1 genome_tss_pol2       \n",
       "2 genome_tss_pol2_rnaseq"
      ]
     },
     "metadata": {},
     "output_type": "display_data"
    }
   ],
   "source": [
    "dat_region_label_B = read_tsv(FP_REGION_LABEL_B, show_col_types = FALSE)\n",
    "dat_region_label_B"
   ]
  },
  {
   "cell_type": "markdown",
   "id": "6dcc08d9-095d-4ce1-a2f5-bc1f1bac53d9",
   "metadata": {},
   "source": [
    "## Main"
   ]
  },
  {
   "cell_type": "markdown",
   "id": "9476c4c2-ad46-461b-a6dc-644aef6d396b",
   "metadata": {},
   "source": [
    "**init**"
   ]
  },
  {
   "cell_type": "code",
   "execution_count": 5,
   "id": "9335f82e-69ca-4969-a2f6-4ebb886ca33f",
   "metadata": {},
   "outputs": [
    {
     "data": {
      "text/html": [
       "<dl>\n",
       "\t<dt>$`1`</dt>\n",
       "\t\t<dd><dl>\n",
       "\t<dt>$Folder</dt>\n",
       "\t\t<dd>'fcc_astarr_macs'</dd>\n",
       "\t<dt>$FName</dt>\n",
       "\t\t<dd>'K562.hg38.ASTARR.macs.KS91.input.rep_all.max_overlaps.q5.bed.gz'</dd>\n",
       "\t<dt>$Label</dt>\n",
       "\t\t<dd>'fcc_astarr_macs_input_overlap'</dd>\n",
       "</dl>\n",
       "</dd>\n",
       "\t<dt>$`2`</dt>\n",
       "\t\t<dd><dl>\n",
       "\t<dt>$Folder</dt>\n",
       "\t\t<dd>'fcc_astarr_macs'</dd>\n",
       "\t<dt>$FName</dt>\n",
       "\t\t<dd>'K562.hg38.ASTARR.macs.KS91.input.rep_all.union.q5.bed.gz'</dd>\n",
       "\t<dt>$Label</dt>\n",
       "\t\t<dd>'fcc_astarr_macs_input_union'</dd>\n",
       "</dl>\n",
       "</dd>\n",
       "</dl>\n"
      ],
      "text/latex": [
       "\\begin{description}\n",
       "\\item[\\$`1`] \\begin{description}\n",
       "\\item[\\$Folder] 'fcc\\_astarr\\_macs'\n",
       "\\item[\\$FName] 'K562.hg38.ASTARR.macs.KS91.input.rep\\_all.max\\_overlaps.q5.bed.gz'\n",
       "\\item[\\$Label] 'fcc\\_astarr\\_macs\\_input\\_overlap'\n",
       "\\end{description}\n",
       "\n",
       "\\item[\\$`2`] \\begin{description}\n",
       "\\item[\\$Folder] 'fcc\\_astarr\\_macs'\n",
       "\\item[\\$FName] 'K562.hg38.ASTARR.macs.KS91.input.rep\\_all.union.q5.bed.gz'\n",
       "\\item[\\$Label] 'fcc\\_astarr\\_macs\\_input\\_union'\n",
       "\\end{description}\n",
       "\n",
       "\\end{description}\n"
      ],
      "text/markdown": [
       "$`1`\n",
       ":   $Folder\n",
       ":   'fcc_astarr_macs'\n",
       "$FName\n",
       ":   'K562.hg38.ASTARR.macs.KS91.input.rep_all.max_overlaps.q5.bed.gz'\n",
       "$Label\n",
       ":   'fcc_astarr_macs_input_overlap'\n",
       "\n",
       "\n",
       "\n",
       "$`2`\n",
       ":   $Folder\n",
       ":   'fcc_astarr_macs'\n",
       "$FName\n",
       ":   'K562.hg38.ASTARR.macs.KS91.input.rep_all.union.q5.bed.gz'\n",
       "$Label\n",
       ":   'fcc_astarr_macs_input_union'\n",
       "\n",
       "\n",
       "\n",
       "\n",
       "\n"
      ],
      "text/plain": [
       "$`1`\n",
       "$`1`$Folder\n",
       "[1] \"fcc_astarr_macs\"\n",
       "\n",
       "$`1`$FName\n",
       "[1] \"K562.hg38.ASTARR.macs.KS91.input.rep_all.max_overlaps.q5.bed.gz\"\n",
       "\n",
       "$`1`$Label\n",
       "[1] \"fcc_astarr_macs_input_overlap\"\n",
       "\n",
       "\n",
       "$`2`\n",
       "$`2`$Folder\n",
       "[1] \"fcc_astarr_macs\"\n",
       "\n",
       "$`2`$FName\n",
       "[1] \"K562.hg38.ASTARR.macs.KS91.input.rep_all.union.q5.bed.gz\"\n",
       "\n",
       "$`2`$Label\n",
       "[1] \"fcc_astarr_macs_input_union\"\n",
       "\n"
      ]
     },
     "metadata": {},
     "output_type": "display_data"
    }
   ],
   "source": [
    "dat = dat_region_label_A\n",
    "lst = split(dat, 1:nrow(dat))\n",
    "lst = lapply(lst, as.list)\n",
    "lst_region_label_A = lst\n",
    "lst"
   ]
  },
  {
   "cell_type": "code",
   "execution_count": 7,
   "id": "37ab3608-423e-41ab-8b3c-7e1e7fafd06b",
   "metadata": {},
   "outputs": [
    {
     "name": "stdout",
     "output_type": "stream",
     "text": [
      "genome_tss \n"
     ]
    }
   ],
   "source": [
    "dat = dat_region_label_B\n",
    "vec = unique(dat$Folder)\n",
    "vec_txt_region_folder_B = vec\n",
    "for(txt in vec){cat(txt, \"\\n\")}"
   ]
  },
  {
   "cell_type": "markdown",
   "id": "a7f23f8a-26f4-47fb-a1d6-7e4b492120f9",
   "metadata": {},
   "source": [
    "**Loop**"
   ]
  },
  {
   "cell_type": "code",
   "execution_count": 16,
   "id": "e0cc310b-5ae4-4024-bef6-66c4fcf5720a",
   "metadata": {},
   "outputs": [
    {
     "name": "stdout",
     "output_type": "stream",
     "text": [
      "===========================================\n",
      "Read region pairs... \n",
      "Region A: fcc_astarr_macs | fcc_astarr_macs_input_overlap \n",
      "Region B: genome_tss \n",
      "FDiry:    \n",
      "[1] \"/data/reddylab/Kuei/repo/Proj_ENCODE_FCC/results/region_closest/fcc_astarr_macs_input_overlap/genome_tss\"\n",
      "FName:    \n",
      "[1] \"fcc_astarr_macs_input_overlap.genome_tss_pol2.bed.gz\"       \n",
      "[2] \"fcc_astarr_macs_input_overlap.genome_tss_pol2_rnaseq.bed.gz\"\n",
      "\n",
      "Save region pairs... \n",
      "FDiry: /data/reddylab/Kuei/repo/Proj_ENCODE_FCC/results/region_closest/fcc_astarr_macs_input_overlap/summary \n",
      "FName: region.pair.genome_tss.tsv \n",
      "\n",
      "===========================================\n",
      "Read region pairs... \n",
      "Region A: fcc_astarr_macs | fcc_astarr_macs_input_union \n",
      "Region B: genome_tss \n",
      "FDiry:    \n",
      "[1] \"/data/reddylab/Kuei/repo/Proj_ENCODE_FCC/results/region_closest/fcc_astarr_macs_input_union/genome_tss\"\n",
      "FName:    \n",
      "[1] \"fcc_astarr_macs_input_union.genome_tss_pol2.bed.gz\"       \n",
      "[2] \"fcc_astarr_macs_input_union.genome_tss_pol2_rnaseq.bed.gz\"\n",
      "\n",
      "Save region pairs... \n",
      "FDiry: /data/reddylab/Kuei/repo/Proj_ENCODE_FCC/results/region_closest/fcc_astarr_macs_input_union/summary \n",
      "FName: region.pair.genome_tss.tsv \n",
      "\n"
     ]
    }
   ],
   "source": [
    "### loop through region A\n",
    "for (idx in seq_along(lst_region_label_A)){\n",
    "    \n",
    "    ### get region A\n",
    "    lst = lst_region_label_A[[idx]]\n",
    "    txt_region_folder_A = lst$Folder\n",
    "    txt_region_label_A  = lst$Label\n",
    "\n",
    "    ### get column names for region A\n",
    "    txt_fdiry = file.path(FD_RES, \"region\", txt_region_folder_A, \"summary\")\n",
    "    txt_fname = \"description.tsv\"\n",
    "    txt_fpath = file.path(txt_fdiry, txt_fname)\n",
    "    dat_cname = read_tsv(txt_fpath, show_col_types = FALSE)\n",
    "    vec_txt_cname_A = dat_cname$Name\n",
    "\n",
    "    ### loop through region B\n",
    "    for (txt_region_folder_B in vec_txt_region_folder_B){\n",
    "        \n",
    "        ### get column names for region B\n",
    "        txt_fdiry = file.path(FD_RES, \"region\", txt_region_folder_B, \"summary\")\n",
    "        txt_fname = \"description.tsv\"\n",
    "        txt_fpath = file.path(txt_fdiry, txt_fname)\n",
    "        dat_cname = read_tsv(txt_fpath, show_col_types = FALSE)\n",
    "        vec_txt_cname_B = dat_cname$Name\n",
    "\n",
    "        ### get total column names for annotation table\n",
    "        vec_txt_cname = c(\n",
    "            paste0(vec_txt_cname_A, \"_A\"),\n",
    "            paste0(vec_txt_cname_B, \"_B\"),\n",
    "            \"Distance\"\n",
    "        )\n",
    "\n",
    "        ### set file directory\n",
    "        txt_fdiry = file.path(\n",
    "            FD_RES, \n",
    "            \"region_closest\",\n",
    "            txt_region_label_A, \n",
    "            txt_region_folder_B\n",
    "        )\n",
    "        txt_fname = \"*bed.gz\"\n",
    "        txt_fglob = file.path(txt_fdiry, txt_fname)\n",
    "\n",
    "        ### get region pair table files\n",
    "        vec_txt_fpath = Sys.glob(txt_fglob)\n",
    "        vec_txt_fname = basename(vec_txt_fpath)\n",
    "\n",
    "        ### show progress\n",
    "        cat(\"===========================================\\n\")\n",
    "        cat(\"Read region pairs...\", \"\\n\")\n",
    "        cat(\"Region A:\", txt_region_folder_A, \"|\", txt_region_label_A, \"\\n\")\n",
    "        cat(\"Region B:\", txt_region_folder_B, \"\\n\")\n",
    "        cat(\"FDiry:   \", \"\\n\")\n",
    "        print(txt_fdiry)\n",
    "        cat(\"FName:   \", \"\\n\")\n",
    "        print(vec_txt_fname)\n",
    "        cat(\"\\n\")\n",
    "        flush.console()\n",
    "\n",
    "        ### import region pair tables\n",
    "        lst = lapply(vec_txt_fname, function(txt_fname){\n",
    "            ### set file directory\n",
    "            txt_fpath = file.path(txt_fdiry, txt_fname)\n",
    "            \n",
    "            ### get annotation region A and region B\n",
    "            vec = str_split(txt_fname, \"\\\\.\")[[1]]\n",
    "            txt_annot_A = vec[1]\n",
    "            txt_annot_B = vec[2]\n",
    "\n",
    "            ### read table and add annotation labels\n",
    "            dat = read_tsv(txt_fpath, col_names = vec_txt_cname, show_col_types = FALSE)\n",
    "            dat = dat %>% \n",
    "                dplyr::mutate(\n",
    "                    Region_A = fun_gen_region(Chrom_A, ChromStart_A, ChromEnd_A),\n",
    "                    Region_B = fun_gen_region(Chrom_B, ChromStart_B, ChromEnd_B),\n",
    "                    Annotation_A = txt_annot_A,\n",
    "                    Annotation_B = txt_annot_B\n",
    "                )\n",
    "            return(dat)\n",
    "        }) \n",
    "\n",
    "        ### concatenate tables and assign\n",
    "        dat = bind_rows(lst)\n",
    "        dat_region_annot_pair = dat\n",
    "        \n",
    "        ### set directory\n",
    "        txt_fdiry = file.path(\n",
    "            FD_RES, \n",
    "            \"region_closest\",\n",
    "            txt_region_label_A,\n",
    "            \"summary\"\n",
    "        )\n",
    "        txt_fname = paste(\"region\", \"pair\",  txt_region_folder_B, \"tsv\", sep = \".\")\n",
    "        txt_fpath = file.path(txt_fdiry, txt_fname)\n",
    "        \n",
    "        ### show progress\n",
    "        cat(\"Save region pairs...\",  \"\\n\")\n",
    "        cat(\"FDiry:\", txt_fdiry, \"\\n\")\n",
    "        cat(\"FName:\", txt_fname, \"\\n\")\n",
    "        cat(\"\\n\")\n",
    "        flush.console()\n",
    "\n",
    "        ### write tables\n",
    "        dir.create(txt_fdiry, showWarnings = FALSE)\n",
    "        write_tsv(dat_region_annot_pair, txt_fpath)\n",
    "    }\n",
    "}"
   ]
  },
  {
   "cell_type": "code",
   "execution_count": null,
   "id": "feedd587-de48-488c-ba20-999a232cf4d4",
   "metadata": {},
   "outputs": [],
   "source": []
  },
  {
   "cell_type": "code",
   "execution_count": null,
   "id": "64360367-2003-4738-890e-64c9d2cb6610",
   "metadata": {},
   "outputs": [],
   "source": []
  },
  {
   "cell_type": "code",
   "execution_count": 4,
   "id": "c0710d95-a103-4af3-a8ce-764095add0a3",
   "metadata": {},
   "outputs": [
    {
     "data": {
      "text/html": [
       "<table class=\"dataframe\">\n",
       "<caption>A spec_tbl_df: 2 × 3</caption>\n",
       "<thead>\n",
       "\t<tr><th scope=col>Folder</th><th scope=col>FName</th><th scope=col>Label</th></tr>\n",
       "\t<tr><th scope=col>&lt;chr&gt;</th><th scope=col>&lt;chr&gt;</th><th scope=col>&lt;chr&gt;</th></tr>\n",
       "</thead>\n",
       "<tbody>\n",
       "\t<tr><td>fcc_astarr_macs</td><td>K562.hg38.ASTARR.macs.KS91.input.rep_all.max_overlaps.q5.bed.gz</td><td>fcc_astarr_macs_input_overlap</td></tr>\n",
       "\t<tr><td>fcc_astarr_macs</td><td>K562.hg38.ASTARR.macs.KS91.input.rep_all.union.q5.bed.gz       </td><td>fcc_astarr_macs_input_union  </td></tr>\n",
       "</tbody>\n",
       "</table>\n"
      ],
      "text/latex": [
       "A spec\\_tbl\\_df: 2 × 3\n",
       "\\begin{tabular}{lll}\n",
       " Folder & FName & Label\\\\\n",
       " <chr> & <chr> & <chr>\\\\\n",
       "\\hline\n",
       "\t fcc\\_astarr\\_macs & K562.hg38.ASTARR.macs.KS91.input.rep\\_all.max\\_overlaps.q5.bed.gz & fcc\\_astarr\\_macs\\_input\\_overlap\\\\\n",
       "\t fcc\\_astarr\\_macs & K562.hg38.ASTARR.macs.KS91.input.rep\\_all.union.q5.bed.gz        & fcc\\_astarr\\_macs\\_input\\_union  \\\\\n",
       "\\end{tabular}\n"
      ],
      "text/markdown": [
       "\n",
       "A spec_tbl_df: 2 × 3\n",
       "\n",
       "| Folder &lt;chr&gt; | FName &lt;chr&gt; | Label &lt;chr&gt; |\n",
       "|---|---|---|\n",
       "| fcc_astarr_macs | K562.hg38.ASTARR.macs.KS91.input.rep_all.max_overlaps.q5.bed.gz | fcc_astarr_macs_input_overlap |\n",
       "| fcc_astarr_macs | K562.hg38.ASTARR.macs.KS91.input.rep_all.union.q5.bed.gz        | fcc_astarr_macs_input_union   |\n",
       "\n"
      ],
      "text/plain": [
       "  Folder         \n",
       "1 fcc_astarr_macs\n",
       "2 fcc_astarr_macs\n",
       "  FName                                                          \n",
       "1 K562.hg38.ASTARR.macs.KS91.input.rep_all.max_overlaps.q5.bed.gz\n",
       "2 K562.hg38.ASTARR.macs.KS91.input.rep_all.union.q5.bed.gz       \n",
       "  Label                        \n",
       "1 fcc_astarr_macs_input_overlap\n",
       "2 fcc_astarr_macs_input_union  "
      ]
     },
     "metadata": {},
     "output_type": "display_data"
    }
   ],
   "source": [
    "txt_fdiry = TXT_FDIRY_REGION_LABEL\n",
    "txt_fname = TXT_FNAME_REGION_LABEL_A\n",
    "txt_fpath = file.path(txt_fdiry, txt_fname)\n",
    "\n",
    "dat_region_label_A = read_tsv(txt_fpath, show_col_types = FALSE)\n",
    "dat_region_label_A"
   ]
  },
  {
   "cell_type": "code",
   "execution_count": 5,
   "id": "b4e9ce00-9f1d-46d0-882b-09a94e936359",
   "metadata": {},
   "outputs": [
    {
     "data": {
      "text/html": [
       "<table class=\"dataframe\">\n",
       "<caption>A spec_tbl_df: 27 × 3</caption>\n",
       "<thead>\n",
       "\t<tr><th scope=col>Folder</th><th scope=col>FName</th><th scope=col>Label</th></tr>\n",
       "\t<tr><th scope=col>&lt;chr&gt;</th><th scope=col>&lt;chr&gt;</th><th scope=col>&lt;chr&gt;</th></tr>\n",
       "</thead>\n",
       "<tbody>\n",
       "\t<tr><td>encode_chromatin_states    </td><td>K562.hg38.cCREs.silencer_rest.bed.gz                                       </td><td>encode_ccres_silencer_rest   </td></tr>\n",
       "\t<tr><td>encode_chromatin_states    </td><td>K562.hg38.cCREs.silencer_starr.bed.gz                                      </td><td>encode_ccres_silencer_starr  </td></tr>\n",
       "\t<tr><td>encode_chromatin_states    </td><td>K562.hg38.ENCSR365YNI.ENCFF106BGJ.ChromHMM.simplified.bed.gz               </td><td>encode_chromhmm_ENCFF106BGJ  </td></tr>\n",
       "\t<tr><td>encode_chromatin_states    </td><td>K562.hg38.ENCSR913HQX.ENCFF286VQG.cCREs.simplified.bed.gz                  </td><td>encode_ccres_ENCFF286VQG     </td></tr>\n",
       "\t<tr><td>encode_e2g_benchmark       </td><td>K562.hg38.ENCODE_E2G.benchmark.bed.gz                                      </td><td>encode_e2g_benchmark         </td></tr>\n",
       "\t<tr><td>fcc_astarr_csaw            </td><td>K562.hg38.ASTARR.csaw.KS91.bed.gz                                          </td><td>fcc_astarr_csaw_KS91         </td></tr>\n",
       "\t<tr><td>fcc_astarr_csaw            </td><td>K562.hg38.ASTARR.csaw.KSMerge.bed.gz                                       </td><td>fcc_astarr_csaw_KSMerge      </td></tr>\n",
       "\t<tr><td>fcc_crispri_growth         </td><td>K562.hg38.CRISPRi_Growth.signif.bed.gz                                     </td><td>fcc_crispri_growth_signif    </td></tr>\n",
       "\t<tr><td>fcc_crispri_growth         </td><td>K562.hg38.CRISPRi_Growth.total.bed.gz                                      </td><td>fcc_crispri_growth_total     </td></tr>\n",
       "\t<tr><td>fcc_crispri_hcrff          </td><td>K562.hg38.CRISPRi_HCRFF.CASA.bed.gz                                        </td><td>fcc_crispri_hcrff_casa       </td></tr>\n",
       "\t<tr><td>fcc_mpra_agarwal2023       </td><td>K562.hg38.LMPRA.lib_design.bed.gz                                          </td><td>fcc_mpra_agarwal2023         </td></tr>\n",
       "\t<tr><td>fcc_starrmpra_junke        </td><td>K562.hg38.ASTARR.junke.bed.gz                                              </td><td>fcc_starrmpra_junke_astarr   </td></tr>\n",
       "\t<tr><td>fcc_starrmpra_junke        </td><td>K562.hg38.eSTARR.junke.bed.gz                                              </td><td>fcc_starrmpra_junke_estarr   </td></tr>\n",
       "\t<tr><td>fcc_starrmpra_junke        </td><td>K562.hg38.LMPRA.junke.bed.gz                                               </td><td>fcc_starrmpra_junke_lmpra    </td></tr>\n",
       "\t<tr><td>fcc_starrmpra_junke        </td><td>K562.hg38.TMPRA.junke.bed.gz                                               </td><td>fcc_starrmpra_junke_tmpra    </td></tr>\n",
       "\t<tr><td>fcc_starrmpra_junke        </td><td>K562.hg38.WSTARR.junke.bed.gz                                              </td><td>fcc_starrmpra_junke_wstarr   </td></tr>\n",
       "\t<tr><td>genome_tss                 </td><td>K562.hg38.TSS.selected_by_highest_Pol2_signal.bed.gz                       </td><td>genome_tss_pol2              </td></tr>\n",
       "\t<tr><td>genome_tss                 </td><td>K562.hg38.TSS.selected_by_highest_Pol2_signal.filtered_by_RNAseq_TPM.bed.gz</td><td>genome_tss_pol2_rnaseq       </td></tr>\n",
       "\t<tr><td>hic_insitu_K562_ENCSR545YBD</td><td>K562.hg38.hic_insitu.Loop_A.bed.gz                                         </td><td>hic_insitu_Loop_A_ENCSR545YBD</td></tr>\n",
       "\t<tr><td>hic_insitu_K562_ENCSR545YBD</td><td>K562.hg38.hic_insitu.Loop_B.bed.gz                                         </td><td>hic_insitu_Loop_B_ENCSR545YBD</td></tr>\n",
       "\t<tr><td>hic_insitu_K562_ENCSR545YBD</td><td>K562.hg38.hic_insitu.TAD.bedpe.gz                                          </td><td>hic_insitu_TAD_ENCSR545YBD   </td></tr>\n",
       "\t<tr><td>hic_intact_K562_deep       </td><td>K562.hg38.hic_intact.Loop_A.bed.gz                                         </td><td>hic_intact_Loop_A_deep       </td></tr>\n",
       "\t<tr><td>hic_intact_K562_deep       </td><td>K562.hg38.hic_intact.Loop_B.bed.gz                                         </td><td>hic_intact_Loop_B_deep       </td></tr>\n",
       "\t<tr><td>hic_intact_K562_ENCSR479XDG</td><td>K562.hg38.hic_intact.Loop_A.bed.gz                                         </td><td>hic_intact_Loop_A_ENCSR479XDG</td></tr>\n",
       "\t<tr><td>hic_intact_K562_ENCSR479XDG</td><td>K562.hg38.hic_intact.Loop_B.bed.gz                                         </td><td>hic_intact_Loop_B_ENCSR479XDG</td></tr>\n",
       "\t<tr><td>hic_intact_K562_ENCSR479XDG</td><td>K562.hg38.hic_intact.TAD.bedpe.gz                                          </td><td>hic_intact_TAD_ENCSR479XDG   </td></tr>\n",
       "\t<tr><td>module_tf_shannon          </td><td>K562.hg38.TF_Module.bed.gz                                                 </td><td>module_tf_shannon            </td></tr>\n",
       "</tbody>\n",
       "</table>\n"
      ],
      "text/latex": [
       "A spec\\_tbl\\_df: 27 × 3\n",
       "\\begin{tabular}{lll}\n",
       " Folder & FName & Label\\\\\n",
       " <chr> & <chr> & <chr>\\\\\n",
       "\\hline\n",
       "\t encode\\_chromatin\\_states     & K562.hg38.cCREs.silencer\\_rest.bed.gz                                        & encode\\_ccres\\_silencer\\_rest   \\\\\n",
       "\t encode\\_chromatin\\_states     & K562.hg38.cCREs.silencer\\_starr.bed.gz                                       & encode\\_ccres\\_silencer\\_starr  \\\\\n",
       "\t encode\\_chromatin\\_states     & K562.hg38.ENCSR365YNI.ENCFF106BGJ.ChromHMM.simplified.bed.gz                & encode\\_chromhmm\\_ENCFF106BGJ  \\\\\n",
       "\t encode\\_chromatin\\_states     & K562.hg38.ENCSR913HQX.ENCFF286VQG.cCREs.simplified.bed.gz                   & encode\\_ccres\\_ENCFF286VQG     \\\\\n",
       "\t encode\\_e2g\\_benchmark        & K562.hg38.ENCODE\\_E2G.benchmark.bed.gz                                       & encode\\_e2g\\_benchmark         \\\\\n",
       "\t fcc\\_astarr\\_csaw             & K562.hg38.ASTARR.csaw.KS91.bed.gz                                           & fcc\\_astarr\\_csaw\\_KS91         \\\\\n",
       "\t fcc\\_astarr\\_csaw             & K562.hg38.ASTARR.csaw.KSMerge.bed.gz                                        & fcc\\_astarr\\_csaw\\_KSMerge      \\\\\n",
       "\t fcc\\_crispri\\_growth          & K562.hg38.CRISPRi\\_Growth.signif.bed.gz                                      & fcc\\_crispri\\_growth\\_signif    \\\\\n",
       "\t fcc\\_crispri\\_growth          & K562.hg38.CRISPRi\\_Growth.total.bed.gz                                       & fcc\\_crispri\\_growth\\_total     \\\\\n",
       "\t fcc\\_crispri\\_hcrff           & K562.hg38.CRISPRi\\_HCRFF.CASA.bed.gz                                         & fcc\\_crispri\\_hcrff\\_casa       \\\\\n",
       "\t fcc\\_mpra\\_agarwal2023        & K562.hg38.LMPRA.lib\\_design.bed.gz                                           & fcc\\_mpra\\_agarwal2023         \\\\\n",
       "\t fcc\\_starrmpra\\_junke         & K562.hg38.ASTARR.junke.bed.gz                                               & fcc\\_starrmpra\\_junke\\_astarr   \\\\\n",
       "\t fcc\\_starrmpra\\_junke         & K562.hg38.eSTARR.junke.bed.gz                                               & fcc\\_starrmpra\\_junke\\_estarr   \\\\\n",
       "\t fcc\\_starrmpra\\_junke         & K562.hg38.LMPRA.junke.bed.gz                                                & fcc\\_starrmpra\\_junke\\_lmpra    \\\\\n",
       "\t fcc\\_starrmpra\\_junke         & K562.hg38.TMPRA.junke.bed.gz                                                & fcc\\_starrmpra\\_junke\\_tmpra    \\\\\n",
       "\t fcc\\_starrmpra\\_junke         & K562.hg38.WSTARR.junke.bed.gz                                               & fcc\\_starrmpra\\_junke\\_wstarr   \\\\\n",
       "\t genome\\_tss                  & K562.hg38.TSS.selected\\_by\\_highest\\_Pol2\\_signal.bed.gz                        & genome\\_tss\\_pol2              \\\\\n",
       "\t genome\\_tss                  & K562.hg38.TSS.selected\\_by\\_highest\\_Pol2\\_signal.filtered\\_by\\_RNAseq\\_TPM.bed.gz & genome\\_tss\\_pol2\\_rnaseq       \\\\\n",
       "\t hic\\_insitu\\_K562\\_ENCSR545YBD & K562.hg38.hic\\_insitu.Loop\\_A.bed.gz                                          & hic\\_insitu\\_Loop\\_A\\_ENCSR545YBD\\\\\n",
       "\t hic\\_insitu\\_K562\\_ENCSR545YBD & K562.hg38.hic\\_insitu.Loop\\_B.bed.gz                                          & hic\\_insitu\\_Loop\\_B\\_ENCSR545YBD\\\\\n",
       "\t hic\\_insitu\\_K562\\_ENCSR545YBD & K562.hg38.hic\\_insitu.TAD.bedpe.gz                                           & hic\\_insitu\\_TAD\\_ENCSR545YBD   \\\\\n",
       "\t hic\\_intact\\_K562\\_deep        & K562.hg38.hic\\_intact.Loop\\_A.bed.gz                                          & hic\\_intact\\_Loop\\_A\\_deep       \\\\\n",
       "\t hic\\_intact\\_K562\\_deep        & K562.hg38.hic\\_intact.Loop\\_B.bed.gz                                          & hic\\_intact\\_Loop\\_B\\_deep       \\\\\n",
       "\t hic\\_intact\\_K562\\_ENCSR479XDG & K562.hg38.hic\\_intact.Loop\\_A.bed.gz                                          & hic\\_intact\\_Loop\\_A\\_ENCSR479XDG\\\\\n",
       "\t hic\\_intact\\_K562\\_ENCSR479XDG & K562.hg38.hic\\_intact.Loop\\_B.bed.gz                                          & hic\\_intact\\_Loop\\_B\\_ENCSR479XDG\\\\\n",
       "\t hic\\_intact\\_K562\\_ENCSR479XDG & K562.hg38.hic\\_intact.TAD.bedpe.gz                                           & hic\\_intact\\_TAD\\_ENCSR479XDG   \\\\\n",
       "\t module\\_tf\\_shannon           & K562.hg38.TF\\_Module.bed.gz                                                  & module\\_tf\\_shannon            \\\\\n",
       "\\end{tabular}\n"
      ],
      "text/markdown": [
       "\n",
       "A spec_tbl_df: 27 × 3\n",
       "\n",
       "| Folder &lt;chr&gt; | FName &lt;chr&gt; | Label &lt;chr&gt; |\n",
       "|---|---|---|\n",
       "| encode_chromatin_states     | K562.hg38.cCREs.silencer_rest.bed.gz                                        | encode_ccres_silencer_rest    |\n",
       "| encode_chromatin_states     | K562.hg38.cCREs.silencer_starr.bed.gz                                       | encode_ccres_silencer_starr   |\n",
       "| encode_chromatin_states     | K562.hg38.ENCSR365YNI.ENCFF106BGJ.ChromHMM.simplified.bed.gz                | encode_chromhmm_ENCFF106BGJ   |\n",
       "| encode_chromatin_states     | K562.hg38.ENCSR913HQX.ENCFF286VQG.cCREs.simplified.bed.gz                   | encode_ccres_ENCFF286VQG      |\n",
       "| encode_e2g_benchmark        | K562.hg38.ENCODE_E2G.benchmark.bed.gz                                       | encode_e2g_benchmark          |\n",
       "| fcc_astarr_csaw             | K562.hg38.ASTARR.csaw.KS91.bed.gz                                           | fcc_astarr_csaw_KS91          |\n",
       "| fcc_astarr_csaw             | K562.hg38.ASTARR.csaw.KSMerge.bed.gz                                        | fcc_astarr_csaw_KSMerge       |\n",
       "| fcc_crispri_growth          | K562.hg38.CRISPRi_Growth.signif.bed.gz                                      | fcc_crispri_growth_signif     |\n",
       "| fcc_crispri_growth          | K562.hg38.CRISPRi_Growth.total.bed.gz                                       | fcc_crispri_growth_total      |\n",
       "| fcc_crispri_hcrff           | K562.hg38.CRISPRi_HCRFF.CASA.bed.gz                                         | fcc_crispri_hcrff_casa        |\n",
       "| fcc_mpra_agarwal2023        | K562.hg38.LMPRA.lib_design.bed.gz                                           | fcc_mpra_agarwal2023          |\n",
       "| fcc_starrmpra_junke         | K562.hg38.ASTARR.junke.bed.gz                                               | fcc_starrmpra_junke_astarr    |\n",
       "| fcc_starrmpra_junke         | K562.hg38.eSTARR.junke.bed.gz                                               | fcc_starrmpra_junke_estarr    |\n",
       "| fcc_starrmpra_junke         | K562.hg38.LMPRA.junke.bed.gz                                                | fcc_starrmpra_junke_lmpra     |\n",
       "| fcc_starrmpra_junke         | K562.hg38.TMPRA.junke.bed.gz                                                | fcc_starrmpra_junke_tmpra     |\n",
       "| fcc_starrmpra_junke         | K562.hg38.WSTARR.junke.bed.gz                                               | fcc_starrmpra_junke_wstarr    |\n",
       "| genome_tss                  | K562.hg38.TSS.selected_by_highest_Pol2_signal.bed.gz                        | genome_tss_pol2               |\n",
       "| genome_tss                  | K562.hg38.TSS.selected_by_highest_Pol2_signal.filtered_by_RNAseq_TPM.bed.gz | genome_tss_pol2_rnaseq        |\n",
       "| hic_insitu_K562_ENCSR545YBD | K562.hg38.hic_insitu.Loop_A.bed.gz                                          | hic_insitu_Loop_A_ENCSR545YBD |\n",
       "| hic_insitu_K562_ENCSR545YBD | K562.hg38.hic_insitu.Loop_B.bed.gz                                          | hic_insitu_Loop_B_ENCSR545YBD |\n",
       "| hic_insitu_K562_ENCSR545YBD | K562.hg38.hic_insitu.TAD.bedpe.gz                                           | hic_insitu_TAD_ENCSR545YBD    |\n",
       "| hic_intact_K562_deep        | K562.hg38.hic_intact.Loop_A.bed.gz                                          | hic_intact_Loop_A_deep        |\n",
       "| hic_intact_K562_deep        | K562.hg38.hic_intact.Loop_B.bed.gz                                          | hic_intact_Loop_B_deep        |\n",
       "| hic_intact_K562_ENCSR479XDG | K562.hg38.hic_intact.Loop_A.bed.gz                                          | hic_intact_Loop_A_ENCSR479XDG |\n",
       "| hic_intact_K562_ENCSR479XDG | K562.hg38.hic_intact.Loop_B.bed.gz                                          | hic_intact_Loop_B_ENCSR479XDG |\n",
       "| hic_intact_K562_ENCSR479XDG | K562.hg38.hic_intact.TAD.bedpe.gz                                           | hic_intact_TAD_ENCSR479XDG    |\n",
       "| module_tf_shannon           | K562.hg38.TF_Module.bed.gz                                                  | module_tf_shannon             |\n",
       "\n"
      ],
      "text/plain": [
       "   Folder                     \n",
       "1  encode_chromatin_states    \n",
       "2  encode_chromatin_states    \n",
       "3  encode_chromatin_states    \n",
       "4  encode_chromatin_states    \n",
       "5  encode_e2g_benchmark       \n",
       "6  fcc_astarr_csaw            \n",
       "7  fcc_astarr_csaw            \n",
       "8  fcc_crispri_growth         \n",
       "9  fcc_crispri_growth         \n",
       "10 fcc_crispri_hcrff          \n",
       "11 fcc_mpra_agarwal2023       \n",
       "12 fcc_starrmpra_junke        \n",
       "13 fcc_starrmpra_junke        \n",
       "14 fcc_starrmpra_junke        \n",
       "15 fcc_starrmpra_junke        \n",
       "16 fcc_starrmpra_junke        \n",
       "17 genome_tss                 \n",
       "18 genome_tss                 \n",
       "19 hic_insitu_K562_ENCSR545YBD\n",
       "20 hic_insitu_K562_ENCSR545YBD\n",
       "21 hic_insitu_K562_ENCSR545YBD\n",
       "22 hic_intact_K562_deep       \n",
       "23 hic_intact_K562_deep       \n",
       "24 hic_intact_K562_ENCSR479XDG\n",
       "25 hic_intact_K562_ENCSR479XDG\n",
       "26 hic_intact_K562_ENCSR479XDG\n",
       "27 module_tf_shannon          \n",
       "   FName                                                                      \n",
       "1  K562.hg38.cCREs.silencer_rest.bed.gz                                       \n",
       "2  K562.hg38.cCREs.silencer_starr.bed.gz                                      \n",
       "3  K562.hg38.ENCSR365YNI.ENCFF106BGJ.ChromHMM.simplified.bed.gz               \n",
       "4  K562.hg38.ENCSR913HQX.ENCFF286VQG.cCREs.simplified.bed.gz                  \n",
       "5  K562.hg38.ENCODE_E2G.benchmark.bed.gz                                      \n",
       "6  K562.hg38.ASTARR.csaw.KS91.bed.gz                                          \n",
       "7  K562.hg38.ASTARR.csaw.KSMerge.bed.gz                                       \n",
       "8  K562.hg38.CRISPRi_Growth.signif.bed.gz                                     \n",
       "9  K562.hg38.CRISPRi_Growth.total.bed.gz                                      \n",
       "10 K562.hg38.CRISPRi_HCRFF.CASA.bed.gz                                        \n",
       "11 K562.hg38.LMPRA.lib_design.bed.gz                                          \n",
       "12 K562.hg38.ASTARR.junke.bed.gz                                              \n",
       "13 K562.hg38.eSTARR.junke.bed.gz                                              \n",
       "14 K562.hg38.LMPRA.junke.bed.gz                                               \n",
       "15 K562.hg38.TMPRA.junke.bed.gz                                               \n",
       "16 K562.hg38.WSTARR.junke.bed.gz                                              \n",
       "17 K562.hg38.TSS.selected_by_highest_Pol2_signal.bed.gz                       \n",
       "18 K562.hg38.TSS.selected_by_highest_Pol2_signal.filtered_by_RNAseq_TPM.bed.gz\n",
       "19 K562.hg38.hic_insitu.Loop_A.bed.gz                                         \n",
       "20 K562.hg38.hic_insitu.Loop_B.bed.gz                                         \n",
       "21 K562.hg38.hic_insitu.TAD.bedpe.gz                                          \n",
       "22 K562.hg38.hic_intact.Loop_A.bed.gz                                         \n",
       "23 K562.hg38.hic_intact.Loop_B.bed.gz                                         \n",
       "24 K562.hg38.hic_intact.Loop_A.bed.gz                                         \n",
       "25 K562.hg38.hic_intact.Loop_B.bed.gz                                         \n",
       "26 K562.hg38.hic_intact.TAD.bedpe.gz                                          \n",
       "27 K562.hg38.TF_Module.bed.gz                                                 \n",
       "   Label                        \n",
       "1  encode_ccres_silencer_rest   \n",
       "2  encode_ccres_silencer_starr  \n",
       "3  encode_chromhmm_ENCFF106BGJ  \n",
       "4  encode_ccres_ENCFF286VQG     \n",
       "5  encode_e2g_benchmark         \n",
       "6  fcc_astarr_csaw_KS91         \n",
       "7  fcc_astarr_csaw_KSMerge      \n",
       "8  fcc_crispri_growth_signif    \n",
       "9  fcc_crispri_growth_total     \n",
       "10 fcc_crispri_hcrff_casa       \n",
       "11 fcc_mpra_agarwal2023         \n",
       "12 fcc_starrmpra_junke_astarr   \n",
       "13 fcc_starrmpra_junke_estarr   \n",
       "14 fcc_starrmpra_junke_lmpra    \n",
       "15 fcc_starrmpra_junke_tmpra    \n",
       "16 fcc_starrmpra_junke_wstarr   \n",
       "17 genome_tss_pol2              \n",
       "18 genome_tss_pol2_rnaseq       \n",
       "19 hic_insitu_Loop_A_ENCSR545YBD\n",
       "20 hic_insitu_Loop_B_ENCSR545YBD\n",
       "21 hic_insitu_TAD_ENCSR545YBD   \n",
       "22 hic_intact_Loop_A_deep       \n",
       "23 hic_intact_Loop_B_deep       \n",
       "24 hic_intact_Loop_A_ENCSR479XDG\n",
       "25 hic_intact_Loop_B_ENCSR479XDG\n",
       "26 hic_intact_TAD_ENCSR479XDG   \n",
       "27 module_tf_shannon            "
      ]
     },
     "metadata": {},
     "output_type": "display_data"
    }
   ],
   "source": [
    "txt_fdiry = TXT_FDIRY_REGION_LABEL\n",
    "txt_fname = TXT_FNAME_REGION_LABEL_B\n",
    "txt_fpath = file.path(txt_fdiry, txt_fname)\n",
    "\n",
    "dat_region_label_B = read_tsv(txt_fpath, show_col_types = FALSE)\n",
    "dat_region_label_B"
   ]
  }
 ],
 "metadata": {
  "kernelspec": {
   "display_name": "R",
   "language": "R",
   "name": "ir"
  },
  "language_info": {
   "codemirror_mode": "r",
   "file_extension": ".r",
   "mimetype": "text/x-r-source",
   "name": "R",
   "pygments_lexer": "r",
   "version": "4.4.2"
  }
 },
 "nbformat": 4,
 "nbformat_minor": 5
}
