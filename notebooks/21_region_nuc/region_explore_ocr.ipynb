{
 "cells": [
  {
   "cell_type": "code",
   "execution_count": 1,
   "id": "1aa71982-b3e2-4346-ae3c-5cff54005520",
   "metadata": {},
   "outputs": [
    {
     "name": "stdout",
     "output_type": "stream",
     "text": [
      "You are working on        Singularity \n",
      "BASE DIRECTORY (FD_BASE): /mount \n",
      "REPO DIRECTORY (FD_REPO): /mount/repo \n",
      "WORK DIRECTORY (FD_WORK): /mount/work \n",
      "DATA DIRECTORY (FD_DATA): /mount/data \n",
      "\n",
      "You are working with      ENCODE FCC \n",
      "PATH OF PROJECT (FD_PRJ): /mount/repo/Proj_ENCODE_FCC \n",
      "PROJECT RESULTS (FD_RES): /mount/repo/Proj_ENCODE_FCC/results \n",
      "PROJECT SCRIPTS (FD_EXE): /mount/repo/Proj_ENCODE_FCC/scripts \n",
      "PROJECT DATA    (FD_DAT): /mount/repo/Proj_ENCODE_FCC/data \n",
      "PROJECT NOTE    (FD_NBK): /mount/repo/Proj_ENCODE_FCC/notebooks \n",
      "PROJECT DOCS    (FD_DOC): /mount/repo/Proj_ENCODE_FCC/docs \n",
      "PROJECT LOG     (FD_LOG): /mount/repo/Proj_ENCODE_FCC/log \n",
      "PROJECT APP     (FD_APP): /mount/repo/Proj_ENCODE_FCC/app \n",
      "PROJECT REF     (FD_REF): /mount/repo/Proj_ENCODE_FCC/references \n",
      "\n"
     ]
    }
   ],
   "source": [
    "suppressMessages(suppressWarnings(source(\"../run_config_project_sing.R\")))\n",
    "show_env()"
   ]
  },
  {
   "cell_type": "code",
   "execution_count": 4,
   "id": "7b4a24ea-bc61-4645-947d-bda3ff258041",
   "metadata": {},
   "outputs": [
    {
     "data": {
      "text/html": [
       "<style>\n",
       ".list-inline {list-style: none; margin:0; padding: 0}\n",
       ".list-inline>li {display: inline-block}\n",
       ".list-inline>li:not(:last-child)::after {content: \"\\00b7\"; padding: 0 .5ex}\n",
       "</style>\n",
       "<ol class=list-inline><li>'ASTARRseq_K562_KS91.hg38.Input.rep_all.max_overlaps.q5.bed.gz'</li><li>'ASTARRseq_K562_KS91.hg38.Input.rep_all.union.q5.bed.gz'</li><li>'description.tsv'</li></ol>\n"
      ],
      "text/latex": [
       "\\begin{enumerate*}\n",
       "\\item 'ASTARRseq\\_K562\\_KS91.hg38.Input.rep\\_all.max\\_overlaps.q5.bed.gz'\n",
       "\\item 'ASTARRseq\\_K562\\_KS91.hg38.Input.rep\\_all.union.q5.bed.gz'\n",
       "\\item 'description.tsv'\n",
       "\\end{enumerate*}\n"
      ],
      "text/markdown": [
       "1. 'ASTARRseq_K562_KS91.hg38.Input.rep_all.max_overlaps.q5.bed.gz'\n",
       "2. 'ASTARRseq_K562_KS91.hg38.Input.rep_all.union.q5.bed.gz'\n",
       "3. 'description.tsv'\n",
       "\n",
       "\n"
      ],
      "text/plain": [
       "[1] \"ASTARRseq_K562_KS91.hg38.Input.rep_all.max_overlaps.q5.bed.gz\"\n",
       "[2] \"ASTARRseq_K562_KS91.hg38.Input.rep_all.union.q5.bed.gz\"       \n",
       "[3] \"description.tsv\"                                              "
      ]
     },
     "metadata": {},
     "output_type": "display_data"
    }
   ],
   "source": [
    "txt_fdiry = file.path(\n",
    "    FD_RES,\n",
    "    \"region\",\n",
    "    \"fcc_astarr_macs\"\n",
    ")\n",
    "dir(txt_fdiry)"
   ]
  },
  {
   "cell_type": "code",
   "execution_count": 6,
   "id": "5cb20ee7-b030-4048-ba3a-f7c1b1ba7a53",
   "metadata": {},
   "outputs": [
    {
     "name": "stderr",
     "output_type": "stream",
     "text": [
      "\u001b[1mRows: \u001b[22m\u001b[34m247520\u001b[39m \u001b[1mColumns: \u001b[22m\u001b[34m3\u001b[39m\n",
      "\u001b[36m──\u001b[39m \u001b[1mColumn specification\u001b[22m \u001b[36m─────────────────────────────────────────────\u001b[39m\n",
      "\u001b[1mDelimiter:\u001b[22m \"\\t\"\n",
      "\u001b[31mchr\u001b[39m (1): Chrom\n",
      "\u001b[32mdbl\u001b[39m (2): ChromStart, ChromEnd\n",
      "\n",
      "\u001b[36mℹ\u001b[39m Use `spec()` to retrieve the full column specification for this data.\n",
      "\u001b[36mℹ\u001b[39m Specify the column types or set `show_col_types = FALSE` to quiet this message.\n"
     ]
    },
    {
     "data": {
      "text/html": [
       "<table class=\"dataframe\">\n",
       "<caption>A tibble: 6 × 3</caption>\n",
       "<thead>\n",
       "\t<tr><th scope=col>Chrom</th><th scope=col>ChromStart</th><th scope=col>ChromEnd</th></tr>\n",
       "\t<tr><th scope=col>&lt;chr&gt;</th><th scope=col>&lt;dbl&gt;</th><th scope=col>&lt;dbl&gt;</th></tr>\n",
       "</thead>\n",
       "<tbody>\n",
       "\t<tr><td>chr1</td><td>10015</td><td>10442</td></tr>\n",
       "\t<tr><td>chr1</td><td>14253</td><td>14645</td></tr>\n",
       "\t<tr><td>chr1</td><td>16015</td><td>16477</td></tr>\n",
       "\t<tr><td>chr1</td><td>17237</td><td>17772</td></tr>\n",
       "\t<tr><td>chr1</td><td>28903</td><td>29613</td></tr>\n",
       "\t<tr><td>chr1</td><td>30803</td><td>31072</td></tr>\n",
       "</tbody>\n",
       "</table>\n"
      ],
      "text/latex": [
       "A tibble: 6 × 3\n",
       "\\begin{tabular}{lll}\n",
       " Chrom & ChromStart & ChromEnd\\\\\n",
       " <chr> & <dbl> & <dbl>\\\\\n",
       "\\hline\n",
       "\t chr1 & 10015 & 10442\\\\\n",
       "\t chr1 & 14253 & 14645\\\\\n",
       "\t chr1 & 16015 & 16477\\\\\n",
       "\t chr1 & 17237 & 17772\\\\\n",
       "\t chr1 & 28903 & 29613\\\\\n",
       "\t chr1 & 30803 & 31072\\\\\n",
       "\\end{tabular}\n"
      ],
      "text/markdown": [
       "\n",
       "A tibble: 6 × 3\n",
       "\n",
       "| Chrom &lt;chr&gt; | ChromStart &lt;dbl&gt; | ChromEnd &lt;dbl&gt; |\n",
       "|---|---|---|\n",
       "| chr1 | 10015 | 10442 |\n",
       "| chr1 | 14253 | 14645 |\n",
       "| chr1 | 16015 | 16477 |\n",
       "| chr1 | 17237 | 17772 |\n",
       "| chr1 | 28903 | 29613 |\n",
       "| chr1 | 30803 | 31072 |\n",
       "\n"
      ],
      "text/plain": [
       "  Chrom ChromStart ChromEnd\n",
       "1 chr1  10015      10442   \n",
       "2 chr1  14253      14645   \n",
       "3 chr1  16015      16477   \n",
       "4 chr1  17237      17772   \n",
       "5 chr1  28903      29613   \n",
       "6 chr1  30803      31072   "
      ]
     },
     "metadata": {},
     "output_type": "display_data"
    }
   ],
   "source": [
    "txt_fdiry = file.path(\n",
    "    FD_RES,\n",
    "    \"region\",\n",
    "    \"fcc_astarr_macs\"\n",
    ")\n",
    "txt_fname = \"ASTARRseq_K562_KS91.hg38.Input.rep_all.union.q5.bed.gz\"\n",
    "txt_fpath = file.path(txt_fdiry, txt_fname)\n",
    "\n",
    "dat = read_tsv(txt_fpath, col_names = c(\"Chrom\", \"ChromStart\", \"ChromEnd\"))\n",
    "head(dat)"
   ]
  },
  {
   "cell_type": "code",
   "execution_count": 7,
   "id": "5ac3f644-05c6-4c80-8dfc-a5b599fab2b2",
   "metadata": {},
   "outputs": [
    {
     "data": {
      "text/plain": [
       "\n",
       "                   chr1  chr1_KI270706v1_random  chr1_KI270707v1_random \n",
       "                  30534                      35                       1 \n",
       " chr1_KI270708v1_random  chr1_KI270709v1_random  chr1_KI270711v1_random \n",
       "                      1                       5                       7 \n",
       " chr1_KI270712v1_random  chr1_KI270713v1_random  chr1_KI270714v1_random \n",
       "                      2                      13                      13 \n",
       "                  chr10                   chr11 chr11_KI270721v1_random \n",
       "                  11398                   12010                       6 \n",
       "                  chr12                   chr13                   chr14 \n",
       "                  10725                    3675                    4386 \n",
       "chr14_GL000009v2_random chr14_GL000194v1_random chr14_GL000225v1_random \n",
       "                     30                      38                      15 \n",
       "chr14_KI270722v1_random chr14_KI270723v1_random chr14_KI270724v1_random \n",
       "                      9                       4                       7 \n",
       "chr14_KI270726v1_random                   chr15 chr15_KI270727v1_random \n",
       "                      1                    7965                       4 \n",
       "                  chr16 chr16_KI270728v1_random                   chr17 \n",
       "                   8999                      24                   10104 \n",
       "chr17_GL000205v2_random                   chr18                   chr19 \n",
       "                     42                    5088                    8447 \n",
       "                   chr2                   chr20                   chr21 \n",
       "                  19379                    6046                    4241 \n",
       "                  chr22 chr22_KI270731v1_random chr22_KI270732v1_random \n",
       "                   4946                       6                       4 \n",
       "chr22_KI270733v1_random chr22_KI270734v1_random chr22_KI270735v1_random \n",
       "                     17                       6                       2 \n",
       "chr22_KI270736v1_random chr22_KI270737v1_random chr22_KI270738v1_random \n",
       "                      1                       5                       9 \n",
       "                   chr3  chr3_GL000221v1_random                    chr4 \n",
       "                  14422                       8                   10120 \n",
       " chr4_GL000008v2_random                    chr5  chr5_GL000208v1_random \n",
       "                     11                   13453                       2 \n",
       "                   chr6                    chr7                    chr8 \n",
       "                  18166                   20036                   10120 \n",
       "                   chr9  chr9_KI270719v1_random  chr9_KI270720v1_random \n",
       "                   8378                      10                       3 \n",
       "                   chrM        chrUn_GL000195v1        chrUn_GL000214v1 \n",
       "                      4                      33                      15 \n",
       "       chrUn_GL000216v2        chrUn_GL000218v1        chrUn_GL000219v1 \n",
       "                      2                      33                      42 \n",
       "       chrUn_GL000220v1        chrUn_GL000224v1        chrUn_KI270310v1 \n",
       "                      8                      31                       1 \n",
       "       chrUn_KI270311v1        chrUn_KI270320v1        chrUn_KI270330v1 \n",
       "                      1                       1                       1 \n",
       "       chrUn_KI270337v1        chrUn_KI270438v1        chrUn_KI270442v1 \n",
       "                      1                       2                      17 \n",
       "       chrUn_KI270466v1        chrUn_KI270467v1        chrUn_KI270538v1 \n",
       "                      1                       1                       6 \n",
       "       chrUn_KI270741v1        chrUn_KI270742v1        chrUn_KI270743v1 \n",
       "                      1                      48                       8 \n",
       "       chrUn_KI270744v1        chrUn_KI270745v1        chrUn_KI270746v1 \n",
       "                     31                       3                       8 \n",
       "       chrUn_KI270750v1        chrUn_KI270751v1        chrUn_KI270754v1 \n",
       "                      4                      18                       5 \n",
       "                   chrX                    chrY \n",
       "                   4214                       1 "
      ]
     },
     "metadata": {},
     "output_type": "display_data"
    }
   ],
   "source": [
    "table(dat$Chrom)"
   ]
  },
  {
   "cell_type": "code",
   "execution_count": 10,
   "id": "5afdda1e-6db0-4fec-a0a6-3870928622b9",
   "metadata": {},
   "outputs": [
    {
     "data": {
      "text/html": [
       "<table class=\"dataframe\">\n",
       "<caption>A tibble: 6 × 3</caption>\n",
       "<thead>\n",
       "\t<tr><th scope=col>Chrom</th><th scope=col>ChromStart</th><th scope=col>ChromEnd</th></tr>\n",
       "\t<tr><th scope=col>&lt;chr&gt;</th><th scope=col>&lt;dbl&gt;</th><th scope=col>&lt;dbl&gt;</th></tr>\n",
       "</thead>\n",
       "<tbody>\n",
       "\t<tr><td>chr1</td><td> 10038</td><td> 10405</td></tr>\n",
       "\t<tr><td>chr1</td><td> 14282</td><td> 14614</td></tr>\n",
       "\t<tr><td>chr1</td><td> 16025</td><td> 16338</td></tr>\n",
       "\t<tr><td>chr1</td><td> 17288</td><td> 17689</td></tr>\n",
       "\t<tr><td>chr1</td><td> 28934</td><td> 29499</td></tr>\n",
       "\t<tr><td>chr1</td><td>115429</td><td>115969</td></tr>\n",
       "</tbody>\n",
       "</table>\n"
      ],
      "text/latex": [
       "A tibble: 6 × 3\n",
       "\\begin{tabular}{lll}\n",
       " Chrom & ChromStart & ChromEnd\\\\\n",
       " <chr> & <dbl> & <dbl>\\\\\n",
       "\\hline\n",
       "\t chr1 &  10038 &  10405\\\\\n",
       "\t chr1 &  14282 &  14614\\\\\n",
       "\t chr1 &  16025 &  16338\\\\\n",
       "\t chr1 &  17288 &  17689\\\\\n",
       "\t chr1 &  28934 &  29499\\\\\n",
       "\t chr1 & 115429 & 115969\\\\\n",
       "\\end{tabular}\n"
      ],
      "text/markdown": [
       "\n",
       "A tibble: 6 × 3\n",
       "\n",
       "| Chrom &lt;chr&gt; | ChromStart &lt;dbl&gt; | ChromEnd &lt;dbl&gt; |\n",
       "|---|---|---|\n",
       "| chr1 |  10038 |  10405 |\n",
       "| chr1 |  14282 |  14614 |\n",
       "| chr1 |  16025 |  16338 |\n",
       "| chr1 |  17288 |  17689 |\n",
       "| chr1 |  28934 |  29499 |\n",
       "| chr1 | 115429 | 115969 |\n",
       "\n"
      ],
      "text/plain": [
       "  Chrom ChromStart ChromEnd\n",
       "1 chr1   10038      10405  \n",
       "2 chr1   14282      14614  \n",
       "3 chr1   16025      16338  \n",
       "4 chr1   17288      17689  \n",
       "5 chr1   28934      29499  \n",
       "6 chr1  115429     115969  "
      ]
     },
     "metadata": {},
     "output_type": "display_data"
    }
   ],
   "source": [
    "txt_fdiry = file.path(\n",
    "    FD_RES,\n",
    "    \"region\",\n",
    "    \"fcc_astarr_macs\"\n",
    ")\n",
    "txt_fname = \"ASTARRseq_K562_KS91.hg38.Input.rep_all.max_overlaps.q5.bed.gz\"\n",
    "txt_fpath = file.path(txt_fdiry, txt_fname)\n",
    "\n",
    "dat = read_tsv(txt_fpath, col_names = c(\"Chrom\", \"ChromStart\", \"ChromEnd\"), show_col_types = FALSE)\n",
    "head(dat)"
   ]
  },
  {
   "cell_type": "code",
   "execution_count": 9,
   "id": "67162b34-81f0-458f-a037-0eee55d4576d",
   "metadata": {},
   "outputs": [
    {
     "data": {
      "text/plain": [
       "\n",
       "                   chr1  chr1_KI270706v1_random  chr1_KI270707v1_random \n",
       "                  18112                      23                       1 \n",
       " chr1_KI270708v1_random  chr1_KI270709v1_random  chr1_KI270711v1_random \n",
       "                      1                       4                       6 \n",
       " chr1_KI270712v1_random  chr1_KI270713v1_random  chr1_KI270714v1_random \n",
       "                      3                      12                       8 \n",
       "                  chr10                   chr11 chr11_KI270721v1_random \n",
       "                   6796                    7483                       5 \n",
       "                  chr12                   chr13                   chr14 \n",
       "                   6623                    2325                    2948 \n",
       "chr14_GL000009v2_random chr14_GL000194v1_random chr14_GL000225v1_random \n",
       "                     23                      31                       7 \n",
       "chr14_KI270722v1_random chr14_KI270723v1_random chr14_KI270724v1_random \n",
       "                      5                       3                       3 \n",
       "chr14_KI270726v1_random                   chr15 chr15_KI270727v1_random \n",
       "                      1                    4776                       2 \n",
       "                  chr16 chr16_KI270728v1_random                   chr17 \n",
       "                   5545                      13                    6427 \n",
       "chr17_GL000205v2_random                   chr18                   chr19 \n",
       "                     35                    2925                    5813 \n",
       "                   chr2                   chr20                   chr21 \n",
       "                  11380                    3787                    2556 \n",
       "                  chr22 chr22_KI270731v1_random chr22_KI270732v1_random \n",
       "                   3504                       3                       2 \n",
       "chr22_KI270733v1_random chr22_KI270734v1_random chr22_KI270737v1_random \n",
       "                     16                       4                       2 \n",
       "chr22_KI270738v1_random                    chr3  chr3_GL000221v1_random \n",
       "                      5                    8722                       6 \n",
       "                   chr4  chr4_GL000008v2_random                    chr5 \n",
       "                   5997                       6                    7680 \n",
       "                   chr6                    chr7                    chr8 \n",
       "                  10673                   11595                    6006 \n",
       "                   chr9  chr9_KI270719v1_random  chr9_KI270720v1_random \n",
       "                   5427                       7                       1 \n",
       "                   chrM        chrUn_GL000195v1        chrUn_GL000214v1 \n",
       "                      4                      19                      12 \n",
       "       chrUn_GL000218v1        chrUn_GL000219v1        chrUn_GL000220v1 \n",
       "                     22                      34                       9 \n",
       "       chrUn_GL000224v1        chrUn_KI270310v1        chrUn_KI270311v1 \n",
       "                     26                       1                       1 \n",
       "       chrUn_KI270330v1        chrUn_KI270337v1        chrUn_KI270438v1 \n",
       "                      1                       1                       2 \n",
       "       chrUn_KI270442v1        chrUn_KI270466v1        chrUn_KI270467v1 \n",
       "                     14                       1                       2 \n",
       "       chrUn_KI270538v1        chrUn_KI270742v1        chrUn_KI270743v1 \n",
       "                      4                      36                       5 \n",
       "       chrUn_KI270744v1        chrUn_KI270745v1        chrUn_KI270746v1 \n",
       "                     27                       3                       1 \n",
       "       chrUn_KI270750v1        chrUn_KI270751v1        chrUn_KI270754v1 \n",
       "                      2                      13                       8 \n",
       "                   chrX                    chrY \n",
       "                   2942                       1 "
      ]
     },
     "metadata": {},
     "output_type": "display_data"
    }
   ],
   "source": [
    "table(dat$Chrom)"
   ]
  },
  {
   "cell_type": "code",
   "execution_count": null,
   "id": "0bd69491-603f-43d8-80b7-ebd90d392efa",
   "metadata": {},
   "outputs": [],
   "source": []
  }
 ],
 "metadata": {
  "kernelspec": {
   "display_name": "R",
   "language": "R",
   "name": "ir"
  },
  "language_info": {
   "codemirror_mode": "r",
   "file_extension": ".r",
   "mimetype": "text/x-r-source",
   "name": "R",
   "pygments_lexer": "r",
   "version": "4.3.3"
  }
 },
 "nbformat": 4,
 "nbformat_minor": 5
}
