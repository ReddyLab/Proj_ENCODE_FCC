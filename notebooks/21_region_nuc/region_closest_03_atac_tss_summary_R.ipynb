{
 "cells": [
  {
   "cell_type": "raw",
   "id": "b3cc9b08-a5c7-49d9-94fa-6927ea1303b0",
   "metadata": {},
   "source": [
    "---\n",
    "title: Region annotation 11 (ASTARR MACS peaks)\n",
    "subtitle: Summarize annotations (Main)\n",
    "format:\n",
    "    html:\n",
    "        code-fold:  true\n",
    "        code-tools: true\n",
    "---"
   ]
  },
  {
   "cell_type": "markdown",
   "id": "52a11a0c-d9b9-4319-89aa-1c57e4cdab16",
   "metadata": {},
   "source": [
    "**Set environment**"
   ]
  },
  {
   "cell_type": "code",
   "execution_count": 1,
   "id": "9bc44458-2d76-4e5f-a5dc-e5164aa97fad",
   "metadata": {
    "tags": []
   },
   "outputs": [
    {
     "name": "stdout",
     "output_type": "stream",
     "text": [
      "You are working on        Singularity: singularity_proj_encode_fcc \n",
      "BASE DIRECTORY (FD_BASE): /data/reddylab/Kuei \n",
      "REPO DIRECTORY (FD_REPO): /data/reddylab/Kuei/repo \n",
      "WORK DIRECTORY (FD_WORK): /data/reddylab/Kuei/work \n",
      "DATA DIRECTORY (FD_DATA): /data/reddylab/Kuei/data \n",
      "\n",
      "You are working with      ENCODE FCC \n",
      "PATH OF PROJECT (FD_PRJ): /data/reddylab/Kuei/repo/Proj_ENCODE_FCC \n",
      "PROJECT RESULTS (FD_RES): /data/reddylab/Kuei/repo/Proj_ENCODE_FCC/results \n",
      "PROJECT SCRIPTS (FD_EXE): /data/reddylab/Kuei/repo/Proj_ENCODE_FCC/scripts \n",
      "PROJECT DATA    (FD_DAT): /data/reddylab/Kuei/repo/Proj_ENCODE_FCC/data \n",
      "PROJECT NOTE    (FD_NBK): /data/reddylab/Kuei/repo/Proj_ENCODE_FCC/notebooks \n",
      "PROJECT DOCS    (FD_DOC): /data/reddylab/Kuei/repo/Proj_ENCODE_FCC/docs \n",
      "PROJECT LOG     (FD_LOG): /data/reddylab/Kuei/repo/Proj_ENCODE_FCC/log \n",
      "PROJECT REF     (FD_REF): /data/reddylab/Kuei/repo/Proj_ENCODE_FCC/references \n",
      "\n"
     ]
    }
   ],
   "source": [
    "suppressMessages(suppressWarnings(source(\"../run_config_project_sing.R\")))\n",
    "show_env()"
   ]
  },
  {
   "cell_type": "markdown",
   "id": "c4febbbe-9fb3-41cd-9d98-f5c74dc232a7",
   "metadata": {},
   "source": [
    "```\n",
    "Save region pairs... \n",
    "FDiry: /data/reddylab/Kuei/repo/Proj_ENCODE_FCC/results/region_closest/fcc_astarr_macs_input_overlap/summary \n",
    "FName: region.pair.genome_tss.tsv \n",
    "\n",
    "===========================================\n",
    "Read region pairs... \n",
    "Region A: fcc_astarr_macs | fcc_astarr_macs_input_union \n",
    "Region B: genome_tss \n",
    "FDiry:    \n",
    "[1] \"/data/reddylab/Kuei/repo/Proj_ENCODE_FCC/results/region_closest/fcc_astarr_macs_input_union/genome_tss\"\n",
    "FName:    \n",
    "[1] \"fcc_astarr_macs_input_union.genome_tss_pol2.bed.gz\"       \n",
    "[2] \"fcc_astarr_macs_input_union.genome_tss_pol2_rnaseq.bed.gz\"\n",
    "\n",
    "Save region pairs... \n",
    "FDiry: /data/reddylab/Kuei/repo/Proj_ENCODE_FCC/results/region_closest/fcc_astarr_macs_input_union/summary \n",
    "FName: region.pair.genome_tss.tsv\n",
    "```"
   ]
  },
  {
   "cell_type": "code",
   "execution_count": 2,
   "id": "be08c1e8-5fad-4b83-b2f4-6e317b74b7e8",
   "metadata": {},
   "outputs": [],
   "source": [
    "txt_region_label_A = \"fcc_astarr_macs_input_overlap\""
   ]
  },
  {
   "cell_type": "code",
   "execution_count": 3,
   "id": "4a9b5a8b-f919-485b-b2b6-28241e0107d3",
   "metadata": {},
   "outputs": [
    {
     "name": "stderr",
     "output_type": "stream",
     "text": [
      "\u001b[1mRows: \u001b[22m\u001b[34m304915\u001b[39m \u001b[1mColumns: \u001b[22m\u001b[34m15\u001b[39m\n",
      "\u001b[36m──\u001b[39m \u001b[1mColumn specification\u001b[22m \u001b[36m────────────────────────────────────────────────────────────\u001b[39m\n",
      "\u001b[1mDelimiter:\u001b[22m \"\\t\"\n",
      "\u001b[31mchr\u001b[39m (9): Chrom_A, Region_A, Chrom_B, Region_B, Gene_B, Group_B, Label_B, Ann...\n",
      "\u001b[32mdbl\u001b[39m (6): ChromStart_A, ChromEnd_A, ChromStart_B, ChromEnd_B, Score_B, Distance\n",
      "\n",
      "\u001b[36mℹ\u001b[39m Use `spec()` to retrieve the full column specification for this data.\n",
      "\u001b[36mℹ\u001b[39m Specify the column types or set `show_col_types = FALSE` to quiet this message.\n"
     ]
    },
    {
     "name": "stdout",
     "output_type": "stream",
     "text": [
      "[1] 304915     15\n"
     ]
    },
    {
     "data": {
      "text/html": [
       "<table class=\"dataframe\">\n",
       "<caption>A tibble: 6 × 15</caption>\n",
       "<thead>\n",
       "\t<tr><th scope=col>Chrom_A</th><th scope=col>ChromStart_A</th><th scope=col>ChromEnd_A</th><th scope=col>Region_A</th><th scope=col>Chrom_B</th><th scope=col>ChromStart_B</th><th scope=col>ChromEnd_B</th><th scope=col>Region_B</th><th scope=col>Gene_B</th><th scope=col>Score_B</th><th scope=col>Group_B</th><th scope=col>Label_B</th><th scope=col>Distance</th><th scope=col>Annotation_A</th><th scope=col>Annotation_B</th></tr>\n",
       "\t<tr><th scope=col>&lt;chr&gt;</th><th scope=col>&lt;dbl&gt;</th><th scope=col>&lt;dbl&gt;</th><th scope=col>&lt;chr&gt;</th><th scope=col>&lt;chr&gt;</th><th scope=col>&lt;dbl&gt;</th><th scope=col>&lt;dbl&gt;</th><th scope=col>&lt;chr&gt;</th><th scope=col>&lt;chr&gt;</th><th scope=col>&lt;dbl&gt;</th><th scope=col>&lt;chr&gt;</th><th scope=col>&lt;chr&gt;</th><th scope=col>&lt;dbl&gt;</th><th scope=col>&lt;chr&gt;</th><th scope=col>&lt;chr&gt;</th></tr>\n",
       "</thead>\n",
       "<tbody>\n",
       "\t<tr><td>chr1</td><td>10038</td><td>10405</td><td>chr1:10038-10405</td><td>chr1</td><td>11873</td><td>11874</td><td>chr1:11873-11874</td><td>DDX11L1  </td><td>0.00023</td><td>TSS_Pol2</td><td>DDX11L1  </td><td>1469</td><td>fcc_astarr_macs_input_overlap</td><td>genome_tss_pol2</td></tr>\n",
       "\t<tr><td>chr1</td><td>14282</td><td>14614</td><td>chr1:14282-14614</td><td>chr1</td><td>11873</td><td>11874</td><td>chr1:11873-11874</td><td>DDX11L1  </td><td>0.00023</td><td>TSS_Pol2</td><td>DDX11L1  </td><td>2409</td><td>fcc_astarr_macs_input_overlap</td><td>genome_tss_pol2</td></tr>\n",
       "\t<tr><td>chr1</td><td>16025</td><td>16338</td><td>chr1:16025-16338</td><td>chr1</td><td>17436</td><td>17437</td><td>chr1:17436-17437</td><td>MIR6859-1</td><td>9.43812</td><td>TSS_Pol2</td><td>MIR6859-1</td><td>1099</td><td>fcc_astarr_macs_input_overlap</td><td>genome_tss_pol2</td></tr>\n",
       "\t<tr><td>chr1</td><td>16025</td><td>16338</td><td>chr1:16025-16338</td><td>chr1</td><td>17436</td><td>17437</td><td>chr1:17436-17437</td><td>MIR6859-2</td><td>9.43812</td><td>TSS_Pol2</td><td>MIR6859-2</td><td>1099</td><td>fcc_astarr_macs_input_overlap</td><td>genome_tss_pol2</td></tr>\n",
       "\t<tr><td>chr1</td><td>16025</td><td>16338</td><td>chr1:16025-16338</td><td>chr1</td><td>17436</td><td>17437</td><td>chr1:17436-17437</td><td>MIR6859-3</td><td>9.43812</td><td>TSS_Pol2</td><td>MIR6859-3</td><td>1099</td><td>fcc_astarr_macs_input_overlap</td><td>genome_tss_pol2</td></tr>\n",
       "\t<tr><td>chr1</td><td>16025</td><td>16338</td><td>chr1:16025-16338</td><td>chr1</td><td>17436</td><td>17437</td><td>chr1:17436-17437</td><td>MIR6859-4</td><td>9.43812</td><td>TSS_Pol2</td><td>MIR6859-4</td><td>1099</td><td>fcc_astarr_macs_input_overlap</td><td>genome_tss_pol2</td></tr>\n",
       "</tbody>\n",
       "</table>\n"
      ],
      "text/latex": [
       "A tibble: 6 × 15\n",
       "\\begin{tabular}{lllllllllllllll}\n",
       " Chrom\\_A & ChromStart\\_A & ChromEnd\\_A & Region\\_A & Chrom\\_B & ChromStart\\_B & ChromEnd\\_B & Region\\_B & Gene\\_B & Score\\_B & Group\\_B & Label\\_B & Distance & Annotation\\_A & Annotation\\_B\\\\\n",
       " <chr> & <dbl> & <dbl> & <chr> & <chr> & <dbl> & <dbl> & <chr> & <chr> & <dbl> & <chr> & <chr> & <dbl> & <chr> & <chr>\\\\\n",
       "\\hline\n",
       "\t chr1 & 10038 & 10405 & chr1:10038-10405 & chr1 & 11873 & 11874 & chr1:11873-11874 & DDX11L1   & 0.00023 & TSS\\_Pol2 & DDX11L1   & 1469 & fcc\\_astarr\\_macs\\_input\\_overlap & genome\\_tss\\_pol2\\\\\n",
       "\t chr1 & 14282 & 14614 & chr1:14282-14614 & chr1 & 11873 & 11874 & chr1:11873-11874 & DDX11L1   & 0.00023 & TSS\\_Pol2 & DDX11L1   & 2409 & fcc\\_astarr\\_macs\\_input\\_overlap & genome\\_tss\\_pol2\\\\\n",
       "\t chr1 & 16025 & 16338 & chr1:16025-16338 & chr1 & 17436 & 17437 & chr1:17436-17437 & MIR6859-1 & 9.43812 & TSS\\_Pol2 & MIR6859-1 & 1099 & fcc\\_astarr\\_macs\\_input\\_overlap & genome\\_tss\\_pol2\\\\\n",
       "\t chr1 & 16025 & 16338 & chr1:16025-16338 & chr1 & 17436 & 17437 & chr1:17436-17437 & MIR6859-2 & 9.43812 & TSS\\_Pol2 & MIR6859-2 & 1099 & fcc\\_astarr\\_macs\\_input\\_overlap & genome\\_tss\\_pol2\\\\\n",
       "\t chr1 & 16025 & 16338 & chr1:16025-16338 & chr1 & 17436 & 17437 & chr1:17436-17437 & MIR6859-3 & 9.43812 & TSS\\_Pol2 & MIR6859-3 & 1099 & fcc\\_astarr\\_macs\\_input\\_overlap & genome\\_tss\\_pol2\\\\\n",
       "\t chr1 & 16025 & 16338 & chr1:16025-16338 & chr1 & 17436 & 17437 & chr1:17436-17437 & MIR6859-4 & 9.43812 & TSS\\_Pol2 & MIR6859-4 & 1099 & fcc\\_astarr\\_macs\\_input\\_overlap & genome\\_tss\\_pol2\\\\\n",
       "\\end{tabular}\n"
      ],
      "text/markdown": [
       "\n",
       "A tibble: 6 × 15\n",
       "\n",
       "| Chrom_A &lt;chr&gt; | ChromStart_A &lt;dbl&gt; | ChromEnd_A &lt;dbl&gt; | Region_A &lt;chr&gt; | Chrom_B &lt;chr&gt; | ChromStart_B &lt;dbl&gt; | ChromEnd_B &lt;dbl&gt; | Region_B &lt;chr&gt; | Gene_B &lt;chr&gt; | Score_B &lt;dbl&gt; | Group_B &lt;chr&gt; | Label_B &lt;chr&gt; | Distance &lt;dbl&gt; | Annotation_A &lt;chr&gt; | Annotation_B &lt;chr&gt; |\n",
       "|---|---|---|---|---|---|---|---|---|---|---|---|---|---|---|\n",
       "| chr1 | 10038 | 10405 | chr1:10038-10405 | chr1 | 11873 | 11874 | chr1:11873-11874 | DDX11L1   | 0.00023 | TSS_Pol2 | DDX11L1   | 1469 | fcc_astarr_macs_input_overlap | genome_tss_pol2 |\n",
       "| chr1 | 14282 | 14614 | chr1:14282-14614 | chr1 | 11873 | 11874 | chr1:11873-11874 | DDX11L1   | 0.00023 | TSS_Pol2 | DDX11L1   | 2409 | fcc_astarr_macs_input_overlap | genome_tss_pol2 |\n",
       "| chr1 | 16025 | 16338 | chr1:16025-16338 | chr1 | 17436 | 17437 | chr1:17436-17437 | MIR6859-1 | 9.43812 | TSS_Pol2 | MIR6859-1 | 1099 | fcc_astarr_macs_input_overlap | genome_tss_pol2 |\n",
       "| chr1 | 16025 | 16338 | chr1:16025-16338 | chr1 | 17436 | 17437 | chr1:17436-17437 | MIR6859-2 | 9.43812 | TSS_Pol2 | MIR6859-2 | 1099 | fcc_astarr_macs_input_overlap | genome_tss_pol2 |\n",
       "| chr1 | 16025 | 16338 | chr1:16025-16338 | chr1 | 17436 | 17437 | chr1:17436-17437 | MIR6859-3 | 9.43812 | TSS_Pol2 | MIR6859-3 | 1099 | fcc_astarr_macs_input_overlap | genome_tss_pol2 |\n",
       "| chr1 | 16025 | 16338 | chr1:16025-16338 | chr1 | 17436 | 17437 | chr1:17436-17437 | MIR6859-4 | 9.43812 | TSS_Pol2 | MIR6859-4 | 1099 | fcc_astarr_macs_input_overlap | genome_tss_pol2 |\n",
       "\n"
      ],
      "text/plain": [
       "  Chrom_A ChromStart_A ChromEnd_A Region_A         Chrom_B ChromStart_B\n",
       "1 chr1    10038        10405      chr1:10038-10405 chr1    11873       \n",
       "2 chr1    14282        14614      chr1:14282-14614 chr1    11873       \n",
       "3 chr1    16025        16338      chr1:16025-16338 chr1    17436       \n",
       "4 chr1    16025        16338      chr1:16025-16338 chr1    17436       \n",
       "5 chr1    16025        16338      chr1:16025-16338 chr1    17436       \n",
       "6 chr1    16025        16338      chr1:16025-16338 chr1    17436       \n",
       "  ChromEnd_B Region_B         Gene_B    Score_B Group_B  Label_B   Distance\n",
       "1 11874      chr1:11873-11874 DDX11L1   0.00023 TSS_Pol2 DDX11L1   1469    \n",
       "2 11874      chr1:11873-11874 DDX11L1   0.00023 TSS_Pol2 DDX11L1   2409    \n",
       "3 17437      chr1:17436-17437 MIR6859-1 9.43812 TSS_Pol2 MIR6859-1 1099    \n",
       "4 17437      chr1:17436-17437 MIR6859-2 9.43812 TSS_Pol2 MIR6859-2 1099    \n",
       "5 17437      chr1:17436-17437 MIR6859-3 9.43812 TSS_Pol2 MIR6859-3 1099    \n",
       "6 17437      chr1:17436-17437 MIR6859-4 9.43812 TSS_Pol2 MIR6859-4 1099    \n",
       "  Annotation_A                  Annotation_B   \n",
       "1 fcc_astarr_macs_input_overlap genome_tss_pol2\n",
       "2 fcc_astarr_macs_input_overlap genome_tss_pol2\n",
       "3 fcc_astarr_macs_input_overlap genome_tss_pol2\n",
       "4 fcc_astarr_macs_input_overlap genome_tss_pol2\n",
       "5 fcc_astarr_macs_input_overlap genome_tss_pol2\n",
       "6 fcc_astarr_macs_input_overlap genome_tss_pol2"
      ]
     },
     "metadata": {},
     "output_type": "display_data"
    }
   ],
   "source": [
    "### set directory\n",
    "txt_fdiry = file.path(\n",
    "    FD_RES, \n",
    "    \"region_closest\",\n",
    "    txt_region_label_A,\n",
    "    \"summary\"\n",
    ")\n",
    "txt_fname = \"region.pair.genome_tss.tsv\"\n",
    "txt_fpath = file.path(txt_fdiry, txt_fname)\n",
    "\n",
    "dat = read_tsv(txt_fpath)\n",
    "\n",
    "dat_region_pair = dat\n",
    "print(dim(dat))\n",
    "head(dat)"
   ]
  },
  {
   "cell_type": "code",
   "execution_count": 14,
   "id": "ccdf5cd8-2451-45a9-b03c-3b753946d96c",
   "metadata": {},
   "outputs": [
    {
     "data": {
      "text/html": [
       "<style>\n",
       ".list-inline {list-style: none; margin:0; padding: 0}\n",
       ".list-inline>li {display: inline-block}\n",
       ".list-inline>li:not(:last-child)::after {content: \"\\00b7\"; padding: 0 .5ex}\n",
       "</style>\n",
       "<ol class=list-inline><li>'genome_tss_pol2'</li><li>'genome_tss_pol2_rnaseq'</li></ol>\n"
      ],
      "text/latex": [
       "\\begin{enumerate*}\n",
       "\\item 'genome\\_tss\\_pol2'\n",
       "\\item 'genome\\_tss\\_pol2\\_rnaseq'\n",
       "\\end{enumerate*}\n"
      ],
      "text/markdown": [
       "1. 'genome_tss_pol2'\n",
       "2. 'genome_tss_pol2_rnaseq'\n",
       "\n",
       "\n"
      ],
      "text/plain": [
       "[1] \"genome_tss_pol2\"        \"genome_tss_pol2_rnaseq\""
      ]
     },
     "metadata": {},
     "output_type": "display_data"
    }
   ],
   "source": [
    "dat = dat_region_pair\n",
    "unique(dat$Annotation_B)"
   ]
  },
  {
   "cell_type": "code",
   "execution_count": 12,
   "id": "c0108cd4-5993-4ccf-9969-70460c8098e9",
   "metadata": {},
   "outputs": [],
   "source": [
    "fun_label_by_tss_proximity = function(vec_num_distance){\n",
    "    vec_txt_label = ifelse(\n",
    "        vec_num_distance <= 2000,\n",
    "        \"Proximal\",\n",
    "        \"Distal\"\n",
    "    )\n",
    "    return(vec_txt_label)\n",
    "}"
   ]
  },
  {
   "cell_type": "code",
   "execution_count": 16,
   "id": "e9caa731-5630-4843-9f7e-b845f5f0b21a",
   "metadata": {},
   "outputs": [
    {
     "data": {
      "text/html": [
       "<table class=\"dataframe\">\n",
       "<caption>A tibble: 6 × 11</caption>\n",
       "<thead>\n",
       "\t<tr><th scope=col>Chrom</th><th scope=col>ChromStart</th><th scope=col>ChromEnd</th><th scope=col>Region</th><th scope=col>Annotation_A</th><th scope=col>Annotation_B</th><th scope=col>Region_B</th><th scope=col>Group_B</th><th scope=col>Label_B</th><th scope=col>Distance</th><th scope=col>Label_Proximity</th></tr>\n",
       "\t<tr><th scope=col>&lt;chr&gt;</th><th scope=col>&lt;dbl&gt;</th><th scope=col>&lt;dbl&gt;</th><th scope=col>&lt;chr&gt;</th><th scope=col>&lt;chr&gt;</th><th scope=col>&lt;chr&gt;</th><th scope=col>&lt;chr&gt;</th><th scope=col>&lt;chr&gt;</th><th scope=col>&lt;chr&gt;</th><th scope=col>&lt;dbl&gt;</th><th scope=col>&lt;chr&gt;</th></tr>\n",
       "</thead>\n",
       "<tbody>\n",
       "\t<tr><td>chr1</td><td> 10038</td><td> 10405</td><td>chr1:10038-10405  </td><td>fcc_astarr_macs_input_overlap</td><td>genome_tss_pol2_rnaseq</td><td>chr1:29370-29371</td><td>TSS_Pol2_RNAseq</td><td>WASH7P</td><td>18966</td><td>Distal  </td></tr>\n",
       "\t<tr><td>chr1</td><td> 14282</td><td> 14614</td><td>chr1:14282-14614  </td><td>fcc_astarr_macs_input_overlap</td><td>genome_tss_pol2_rnaseq</td><td>chr1:29370-29371</td><td>TSS_Pol2_RNAseq</td><td>WASH7P</td><td>14757</td><td>Distal  </td></tr>\n",
       "\t<tr><td>chr1</td><td> 16025</td><td> 16338</td><td>chr1:16025-16338  </td><td>fcc_astarr_macs_input_overlap</td><td>genome_tss_pol2_rnaseq</td><td>chr1:29370-29371</td><td>TSS_Pol2_RNAseq</td><td>WASH7P</td><td>13033</td><td>Distal  </td></tr>\n",
       "\t<tr><td>chr1</td><td> 17288</td><td> 17689</td><td>chr1:17288-17689  </td><td>fcc_astarr_macs_input_overlap</td><td>genome_tss_pol2_rnaseq</td><td>chr1:29370-29371</td><td>TSS_Pol2_RNAseq</td><td>WASH7P</td><td>11682</td><td>Distal  </td></tr>\n",
       "\t<tr><td>chr1</td><td> 28934</td><td> 29499</td><td>chr1:28934-29499  </td><td>fcc_astarr_macs_input_overlap</td><td>genome_tss_pol2_rnaseq</td><td>chr1:29370-29371</td><td>TSS_Pol2_RNAseq</td><td>WASH7P</td><td>    0</td><td>Proximal</td></tr>\n",
       "\t<tr><td>chr1</td><td>115429</td><td>115969</td><td>chr1:115429-115969</td><td>fcc_astarr_macs_input_overlap</td><td>genome_tss_pol2_rnaseq</td><td>chr1:29370-29371</td><td>TSS_Pol2_RNAseq</td><td>WASH7P</td><td>86059</td><td>Distal  </td></tr>\n",
       "</tbody>\n",
       "</table>\n"
      ],
      "text/latex": [
       "A tibble: 6 × 11\n",
       "\\begin{tabular}{lllllllllll}\n",
       " Chrom & ChromStart & ChromEnd & Region & Annotation\\_A & Annotation\\_B & Region\\_B & Group\\_B & Label\\_B & Distance & Label\\_Proximity\\\\\n",
       " <chr> & <dbl> & <dbl> & <chr> & <chr> & <chr> & <chr> & <chr> & <chr> & <dbl> & <chr>\\\\\n",
       "\\hline\n",
       "\t chr1 &  10038 &  10405 & chr1:10038-10405   & fcc\\_astarr\\_macs\\_input\\_overlap & genome\\_tss\\_pol2\\_rnaseq & chr1:29370-29371 & TSS\\_Pol2\\_RNAseq & WASH7P & 18966 & Distal  \\\\\n",
       "\t chr1 &  14282 &  14614 & chr1:14282-14614   & fcc\\_astarr\\_macs\\_input\\_overlap & genome\\_tss\\_pol2\\_rnaseq & chr1:29370-29371 & TSS\\_Pol2\\_RNAseq & WASH7P & 14757 & Distal  \\\\\n",
       "\t chr1 &  16025 &  16338 & chr1:16025-16338   & fcc\\_astarr\\_macs\\_input\\_overlap & genome\\_tss\\_pol2\\_rnaseq & chr1:29370-29371 & TSS\\_Pol2\\_RNAseq & WASH7P & 13033 & Distal  \\\\\n",
       "\t chr1 &  17288 &  17689 & chr1:17288-17689   & fcc\\_astarr\\_macs\\_input\\_overlap & genome\\_tss\\_pol2\\_rnaseq & chr1:29370-29371 & TSS\\_Pol2\\_RNAseq & WASH7P & 11682 & Distal  \\\\\n",
       "\t chr1 &  28934 &  29499 & chr1:28934-29499   & fcc\\_astarr\\_macs\\_input\\_overlap & genome\\_tss\\_pol2\\_rnaseq & chr1:29370-29371 & TSS\\_Pol2\\_RNAseq & WASH7P &     0 & Proximal\\\\\n",
       "\t chr1 & 115429 & 115969 & chr1:115429-115969 & fcc\\_astarr\\_macs\\_input\\_overlap & genome\\_tss\\_pol2\\_rnaseq & chr1:29370-29371 & TSS\\_Pol2\\_RNAseq & WASH7P & 86059 & Distal  \\\\\n",
       "\\end{tabular}\n"
      ],
      "text/markdown": [
       "\n",
       "A tibble: 6 × 11\n",
       "\n",
       "| Chrom &lt;chr&gt; | ChromStart &lt;dbl&gt; | ChromEnd &lt;dbl&gt; | Region &lt;chr&gt; | Annotation_A &lt;chr&gt; | Annotation_B &lt;chr&gt; | Region_B &lt;chr&gt; | Group_B &lt;chr&gt; | Label_B &lt;chr&gt; | Distance &lt;dbl&gt; | Label_Proximity &lt;chr&gt; |\n",
       "|---|---|---|---|---|---|---|---|---|---|---|\n",
       "| chr1 |  10038 |  10405 | chr1:10038-10405   | fcc_astarr_macs_input_overlap | genome_tss_pol2_rnaseq | chr1:29370-29371 | TSS_Pol2_RNAseq | WASH7P | 18966 | Distal   |\n",
       "| chr1 |  14282 |  14614 | chr1:14282-14614   | fcc_astarr_macs_input_overlap | genome_tss_pol2_rnaseq | chr1:29370-29371 | TSS_Pol2_RNAseq | WASH7P | 14757 | Distal   |\n",
       "| chr1 |  16025 |  16338 | chr1:16025-16338   | fcc_astarr_macs_input_overlap | genome_tss_pol2_rnaseq | chr1:29370-29371 | TSS_Pol2_RNAseq | WASH7P | 13033 | Distal   |\n",
       "| chr1 |  17288 |  17689 | chr1:17288-17689   | fcc_astarr_macs_input_overlap | genome_tss_pol2_rnaseq | chr1:29370-29371 | TSS_Pol2_RNAseq | WASH7P | 11682 | Distal   |\n",
       "| chr1 |  28934 |  29499 | chr1:28934-29499   | fcc_astarr_macs_input_overlap | genome_tss_pol2_rnaseq | chr1:29370-29371 | TSS_Pol2_RNAseq | WASH7P |     0 | Proximal |\n",
       "| chr1 | 115429 | 115969 | chr1:115429-115969 | fcc_astarr_macs_input_overlap | genome_tss_pol2_rnaseq | chr1:29370-29371 | TSS_Pol2_RNAseq | WASH7P | 86059 | Distal   |\n",
       "\n"
      ],
      "text/plain": [
       "  Chrom ChromStart ChromEnd Region             Annotation_A                 \n",
       "1 chr1   10038      10405   chr1:10038-10405   fcc_astarr_macs_input_overlap\n",
       "2 chr1   14282      14614   chr1:14282-14614   fcc_astarr_macs_input_overlap\n",
       "3 chr1   16025      16338   chr1:16025-16338   fcc_astarr_macs_input_overlap\n",
       "4 chr1   17288      17689   chr1:17288-17689   fcc_astarr_macs_input_overlap\n",
       "5 chr1   28934      29499   chr1:28934-29499   fcc_astarr_macs_input_overlap\n",
       "6 chr1  115429     115969   chr1:115429-115969 fcc_astarr_macs_input_overlap\n",
       "  Annotation_B           Region_B         Group_B         Label_B Distance\n",
       "1 genome_tss_pol2_rnaseq chr1:29370-29371 TSS_Pol2_RNAseq WASH7P  18966   \n",
       "2 genome_tss_pol2_rnaseq chr1:29370-29371 TSS_Pol2_RNAseq WASH7P  14757   \n",
       "3 genome_tss_pol2_rnaseq chr1:29370-29371 TSS_Pol2_RNAseq WASH7P  13033   \n",
       "4 genome_tss_pol2_rnaseq chr1:29370-29371 TSS_Pol2_RNAseq WASH7P  11682   \n",
       "5 genome_tss_pol2_rnaseq chr1:29370-29371 TSS_Pol2_RNAseq WASH7P      0   \n",
       "6 genome_tss_pol2_rnaseq chr1:29370-29371 TSS_Pol2_RNAseq WASH7P  86059   \n",
       "  Label_Proximity\n",
       "1 Distal         \n",
       "2 Distal         \n",
       "3 Distal         \n",
       "4 Distal         \n",
       "5 Proximal       \n",
       "6 Distal         "
      ]
     },
     "metadata": {},
     "output_type": "display_data"
    }
   ],
   "source": [
    "dat = dat_region_pair\n",
    "dat = dat %>% dplyr::filter(Annotation_B == \"genome_tss_pol2_rnaseq\")\n",
    "\n",
    "dat = dat %>%\n",
    "    dplyr::select(\n",
    "        Chrom_A, ChromStart_A, ChromEnd_A, Region_A, \n",
    "        Annotation_A, Annotation_B,\n",
    "        Region_B, Group_B, Label_B, \n",
    "        Distance\n",
    "    ) %>%\n",
    "    dplyr::mutate(\n",
    "        Label_Proximity = fun_label_by_tss_proximity(Distance)\n",
    "    )\n",
    "colnames(dat) = c(\n",
    "    \"Chrom\", \"ChromStart\", \"ChromEnd\", \"Region\",\n",
    "    \"Annotation_A\", \"Annotation_B\",\n",
    "    \"Region_B\", \"Group_B\", \"Label_B\", \n",
    "    \"Distance\",\n",
    "    \"Label_Proximity\"\n",
    ")\n",
    "\n",
    "head(dat)"
   ]
  },
  {
   "cell_type": "code",
   "execution_count": null,
   "id": "a471ebfd-00cc-422e-8e53-1e70687912ab",
   "metadata": {},
   "outputs": [],
   "source": []
  },
  {
   "cell_type": "code",
   "execution_count": null,
   "id": "d86a396b-fcb3-41c0-893c-3e6e3e37a14a",
   "metadata": {},
   "outputs": [],
   "source": []
  },
  {
   "cell_type": "code",
   "execution_count": null,
   "id": "cadb0cb6-e404-48f8-8ab2-edea34a886a9",
   "metadata": {},
   "outputs": [],
   "source": []
  },
  {
   "cell_type": "code",
   "execution_count": 20,
   "id": "12e41475-2ce3-4345-90c6-207c7a340921",
   "metadata": {},
   "outputs": [
    {
     "name": "stderr",
     "output_type": "stream",
     "text": [
      "\u001b[1mRows: \u001b[22m\u001b[34m304915\u001b[39m \u001b[1mColumns: \u001b[22m\u001b[34m15\u001b[39m\n",
      "\u001b[36m──\u001b[39m \u001b[1mColumn specification\u001b[22m \u001b[36m────────────────────────────────────────────────────────────\u001b[39m\n",
      "\u001b[1mDelimiter:\u001b[22m \"\\t\"\n",
      "\u001b[31mchr\u001b[39m (9): Chrom_A, Region_A, Chrom_B, Region_B, Gene_B, Group_B, Label_B, Ann...\n",
      "\u001b[32mdbl\u001b[39m (6): ChromStart_A, ChromEnd_A, ChromStart_B, ChromEnd_B, Score_B, Distance\n",
      "\n",
      "\u001b[36mℹ\u001b[39m Use `spec()` to retrieve the full column specification for this data.\n",
      "\u001b[36mℹ\u001b[39m Specify the column types or set `show_col_types = FALSE` to quiet this message.\n",
      "\u001b[1mRows: \u001b[22m\u001b[34m499336\u001b[39m \u001b[1mColumns: \u001b[22m\u001b[34m15\u001b[39m\n",
      "\u001b[36m──\u001b[39m \u001b[1mColumn specification\u001b[22m \u001b[36m────────────────────────────────────────────────────────────\u001b[39m\n",
      "\u001b[1mDelimiter:\u001b[22m \"\\t\"\n",
      "\u001b[31mchr\u001b[39m (9): Chrom_A, Region_A, Chrom_B, Region_B, Gene_B, Group_B, Label_B, Ann...\n",
      "\u001b[32mdbl\u001b[39m (6): ChromStart_A, ChromEnd_A, ChromStart_B, ChromEnd_B, Score_B, Distance\n",
      "\n",
      "\u001b[36mℹ\u001b[39m Use `spec()` to retrieve the full column specification for this data.\n",
      "\u001b[36mℹ\u001b[39m Specify the column types or set `show_col_types = FALSE` to quiet this message.\n"
     ]
    }
   ],
   "source": [
    "vec_txt_region_label = c(\n",
    "    \"fcc_astarr_macs_input_overlap\",\n",
    "    \"fcc_astarr_macs_input_union\"\n",
    ")\n",
    "for (txt_region_label_A in  vec_txt_region_label){\n",
    "    \n",
    "    ### set directory\n",
    "    txt_fdiry = file.path(\n",
    "        FD_RES, \n",
    "        \"region_closest\",\n",
    "        txt_region_label_A,\n",
    "        \"summary\"\n",
    "    )\n",
    "    txt_fname = \"region.pair.genome_tss.tsv\"\n",
    "    txt_fpath = file.path(txt_fdiry, txt_fname)\n",
    "    dat_region_pair = read_tsv(txt_fpath)\n",
    "\n",
    "    ###\n",
    "    dat = dat_region_pair\n",
    "    dat = dat %>% \n",
    "        dplyr::filter(Annotation_B == \"genome_tss_pol2_rnaseq\") %>%\n",
    "        dplyr::select(\n",
    "            Chrom_A, ChromStart_A, ChromEnd_A, Region_A, \n",
    "            Annotation_A, Annotation_B,\n",
    "            Distance\n",
    "        ) %>% \n",
    "        dplyr::distinct()\n",
    "    colnames(dat) = c(\n",
    "        \"Chrom\", \"ChromStart\", \"ChromEnd\", \"Region\",\n",
    "        \"Annotation_A\", \"Annotation_B\",\n",
    "        \"Distance\"\n",
    "    )\n",
    "    dat_region_rename = dat\n",
    "    \n",
    "    ###\n",
    "    dat = dat_region_rename\n",
    "    dat = dat %>%\n",
    "        dplyr::mutate(\n",
    "            Label_TSS_Proximity = fun_label_by_tss_proximity(Distance),\n",
    "        )\n",
    "    dat_region_summary = dat\n",
    "\n",
    "    ###\n",
    "    txt_fname = \"region.summary.genome_tss.tsv\"\n",
    "    txt_fpath = file.path(txt_fdiry, txt_fname)\n",
    "    dat = dat_region_summary\n",
    "    write_tsv(dat, txt_fpath)\n",
    "}"
   ]
  },
  {
   "cell_type": "code",
   "execution_count": null,
   "id": "4bc3694b-a0cb-40c7-b22d-95459ee196c0",
   "metadata": {},
   "outputs": [],
   "source": []
  },
  {
   "cell_type": "code",
   "execution_count": null,
   "id": "e9e06153-b36d-4481-9b37-dc28bd01fdcc",
   "metadata": {},
   "outputs": [],
   "source": []
  },
  {
   "cell_type": "code",
   "execution_count": null,
   "id": "0bbc81b4-a677-4675-82bf-807f2c0c0154",
   "metadata": {},
   "outputs": [],
   "source": []
  },
  {
   "cell_type": "code",
   "execution_count": 18,
   "id": "24149891-58bc-478d-88f9-aa93117c6247",
   "metadata": {},
   "outputs": [
    {
     "name": "stderr",
     "output_type": "stream",
     "text": [
      "\u001b[1mRows: \u001b[22m\u001b[34m304915\u001b[39m \u001b[1mColumns: \u001b[22m\u001b[34m15\u001b[39m\n",
      "\u001b[36m──\u001b[39m \u001b[1mColumn specification\u001b[22m \u001b[36m────────────────────────────────────────────────────────────\u001b[39m\n",
      "\u001b[1mDelimiter:\u001b[22m \"\\t\"\n",
      "\u001b[31mchr\u001b[39m (9): Chrom_A, Region_A, Chrom_B, Region_B, Gene_B, Group_B, Label_B, Ann...\n",
      "\u001b[32mdbl\u001b[39m (6): ChromStart_A, ChromEnd_A, ChromStart_B, ChromEnd_B, Score_B, Distance\n",
      "\n",
      "\u001b[36mℹ\u001b[39m Use `spec()` to retrieve the full column specification for this data.\n",
      "\u001b[36mℹ\u001b[39m Specify the column types or set `show_col_types = FALSE` to quiet this message.\n",
      "\u001b[1mRows: \u001b[22m\u001b[34m499336\u001b[39m \u001b[1mColumns: \u001b[22m\u001b[34m15\u001b[39m\n",
      "\u001b[36m──\u001b[39m \u001b[1mColumn specification\u001b[22m \u001b[36m────────────────────────────────────────────────────────────\u001b[39m\n",
      "\u001b[1mDelimiter:\u001b[22m \"\\t\"\n",
      "\u001b[31mchr\u001b[39m (9): Chrom_A, Region_A, Chrom_B, Region_B, Gene_B, Group_B, Label_B, Ann...\n",
      "\u001b[32mdbl\u001b[39m (6): ChromStart_A, ChromEnd_A, ChromStart_B, ChromEnd_B, Score_B, Distance\n",
      "\n",
      "\u001b[36mℹ\u001b[39m Use `spec()` to retrieve the full column specification for this data.\n",
      "\u001b[36mℹ\u001b[39m Specify the column types or set `show_col_types = FALSE` to quiet this message.\n"
     ]
    }
   ],
   "source": [
    "vec_txt_region_label = c(\n",
    "    \"fcc_astarr_macs_input_overlap\",\n",
    "    \"fcc_astarr_macs_input_union\"\n",
    ")\n",
    "for (txt_region_label_A in  vec_txt_region_label){\n",
    "    \n",
    "    ### set directory\n",
    "    txt_fdiry = file.path(\n",
    "        FD_RES, \n",
    "        \"region_closest\",\n",
    "        txt_region_label_A,\n",
    "        \"summary\"\n",
    "    )\n",
    "    txt_fname = \"region.pair.genome_tss.tsv\"\n",
    "    txt_fpath = file.path(txt_fdiry, txt_fname)\n",
    "    dat_region_pair = read_tsv(txt_fpath)\n",
    "\n",
    "    ###\n",
    "    dat = dat_region_pair\n",
    "    dat = dat %>% \n",
    "        dplyr::filter(Annotation_B == \"genome_tss_pol2_rnaseq\") %>%\n",
    "        dplyr::select(\n",
    "            Chrom_A, ChromStart_A, ChromEnd_A, Region_A, \n",
    "            Annotation_A, Annotation_B,\n",
    "            Region_B, Label_B, \n",
    "            Distance\n",
    "        ) \n",
    "    colnames(dat) = c(\n",
    "        \"Chrom\", \"ChromStart\", \"ChromEnd\", \"Region\",\n",
    "        \"Annotation_A\", \"Annotation_B\",\n",
    "        \"Region_TSS\", \"Label_Gene\", \n",
    "        \"Distance\"\n",
    "    )\n",
    "    dat_region_rename = dat\n",
    "    \n",
    "    ###\n",
    "    dat = dat_region_rename\n",
    "    dat = dat %>%\n",
    "        dplyr::group_by(\n",
    "            Chrom, ChromStart, ChromEnd, Region, \n",
    "            Annotation_A, Annotation_B\n",
    "        ) %>%\n",
    "        dplyr::slice_min(Distance)\n",
    "        #dplyr::summarise(\n",
    "            #Label_Gene = paste(Label_Gene, collapse = \";\"),\n",
    "            #Count_Gene = n(),\n",
    "            #Distance = mean(Distance),\n",
    "            #.groups = \"drop\"\n",
    "        #) %>%\n",
    "        dplyr::mutate(\n",
    "            Label_Proximity = fun_label_by_tss_proximity(Distance),\n",
    "        )\n",
    "    dat_region_summary = dat\n",
    "\n",
    "    ###\n",
    "    txt_fname = \"region.summary.genome_tss.tsv\"\n",
    "    txt_fpath = file.path(txt_fdiry, txt_fname)\n",
    "    dat = dat_region_summary\n",
    "    write_tsv(dat, txt_fpath)\n",
    "}"
   ]
  },
  {
   "cell_type": "code",
   "execution_count": null,
   "id": "b109d8be-fb70-4bed-ad1d-b8e85783f145",
   "metadata": {},
   "outputs": [],
   "source": []
  }
 ],
 "metadata": {
  "kernelspec": {
   "display_name": "R",
   "language": "R",
   "name": "ir"
  },
  "language_info": {
   "codemirror_mode": "r",
   "file_extension": ".r",
   "mimetype": "text/x-r-source",
   "name": "R",
   "pygments_lexer": "r",
   "version": "4.4.2"
  }
 },
 "nbformat": 4,
 "nbformat_minor": 5
}
