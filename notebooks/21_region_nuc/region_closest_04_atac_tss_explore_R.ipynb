{
 "cells": [
  {
   "cell_type": "code",
   "execution_count": null,
   "id": "74b39992-a8ed-4e4d-a9e2-1a4c63ce8646",
   "metadata": {},
   "outputs": [],
   "source": []
  },
  {
   "cell_type": "raw",
   "id": "2b2e4c0a-9cca-41ea-9249-920332b1d567",
   "metadata": {},
   "source": [
    "---\n",
    "title: Region annotation 11 (ASTARR MACS peaks)\n",
    "subtitle: Summarize annotations (Main)\n",
    "format:\n",
    "    html:\n",
    "        code-fold:  true\n",
    "        code-tools: true\n",
    "---"
   ]
  },
  {
   "cell_type": "markdown",
   "id": "33db679a-7eef-40fa-9d11-3a43958b930c",
   "metadata": {},
   "source": [
    "**Set environment**"
   ]
  },
  {
   "cell_type": "code",
   "execution_count": 2,
   "id": "ac9eb5cf-48d0-4b0b-b153-45ebf1b7a98a",
   "metadata": {
    "tags": []
   },
   "outputs": [
    {
     "name": "stdout",
     "output_type": "stream",
     "text": [
      "You are working on        Singularity: singularity_proj_encode_fcc \n",
      "BASE DIRECTORY (FD_BASE): /data/reddylab/Kuei \n",
      "REPO DIRECTORY (FD_REPO): /data/reddylab/Kuei/repo \n",
      "WORK DIRECTORY (FD_WORK): /data/reddylab/Kuei/work \n",
      "DATA DIRECTORY (FD_DATA): /data/reddylab/Kuei/data \n",
      "\n",
      "You are working with      ENCODE FCC \n",
      "PATH OF PROJECT (FD_PRJ): /data/reddylab/Kuei/repo/Proj_ENCODE_FCC \n",
      "PROJECT RESULTS (FD_RES): /data/reddylab/Kuei/repo/Proj_ENCODE_FCC/results \n",
      "PROJECT SCRIPTS (FD_EXE): /data/reddylab/Kuei/repo/Proj_ENCODE_FCC/scripts \n",
      "PROJECT DATA    (FD_DAT): /data/reddylab/Kuei/repo/Proj_ENCODE_FCC/data \n",
      "PROJECT NOTE    (FD_NBK): /data/reddylab/Kuei/repo/Proj_ENCODE_FCC/notebooks \n",
      "PROJECT DOCS    (FD_DOC): /data/reddylab/Kuei/repo/Proj_ENCODE_FCC/docs \n",
      "PROJECT LOG     (FD_LOG): /data/reddylab/Kuei/repo/Proj_ENCODE_FCC/log \n",
      "PROJECT REF     (FD_REF): /data/reddylab/Kuei/repo/Proj_ENCODE_FCC/references \n",
      "\n"
     ]
    }
   ],
   "source": [
    "suppressMessages(suppressWarnings(source(\"../run_config_project_sing.R\")))\n",
    "show_env()"
   ]
  },
  {
   "cell_type": "code",
   "execution_count": null,
   "id": "631420d4-d961-4c52-9f9f-5154336b9b81",
   "metadata": {},
   "outputs": [],
   "source": []
  },
  {
   "cell_type": "code",
   "execution_count": 42,
   "id": "41d94273-edd4-481f-b187-d05ba00c9d0a",
   "metadata": {},
   "outputs": [
    {
     "name": "stderr",
     "output_type": "stream",
     "text": [
      "\u001b[1mRows: \u001b[22m\u001b[34m150042\u001b[39m \u001b[1mColumns: \u001b[22m\u001b[34m8\u001b[39m\n",
      "\u001b[36m──\u001b[39m \u001b[1mColumn specification\u001b[22m \u001b[36m────────────────────────────────────────────────────────────\u001b[39m\n",
      "\u001b[1mDelimiter:\u001b[22m \"\\t\"\n",
      "\u001b[31mchr\u001b[39m (5): Chrom, Region, Annotation_A, Annotation_B, Label_TSS_Proximity\n",
      "\u001b[32mdbl\u001b[39m (3): ChromStart, ChromEnd, Distance\n",
      "\n",
      "\u001b[36mℹ\u001b[39m Use `spec()` to retrieve the full column specification for this data.\n",
      "\u001b[36mℹ\u001b[39m Specify the column types or set `show_col_types = FALSE` to quiet this message.\n",
      "\u001b[1mRows: \u001b[22m\u001b[34m246852\u001b[39m \u001b[1mColumns: \u001b[22m\u001b[34m8\u001b[39m\n",
      "\u001b[36m──\u001b[39m \u001b[1mColumn specification\u001b[22m \u001b[36m────────────────────────────────────────────────────────────\u001b[39m\n",
      "\u001b[1mDelimiter:\u001b[22m \"\\t\"\n",
      "\u001b[31mchr\u001b[39m (5): Chrom, Region, Annotation_A, Annotation_B, Label_TSS_Proximity\n",
      "\u001b[32mdbl\u001b[39m (3): ChromStart, ChromEnd, Distance\n",
      "\n",
      "\u001b[36mℹ\u001b[39m Use `spec()` to retrieve the full column specification for this data.\n",
      "\u001b[36mℹ\u001b[39m Specify the column types or set `show_col_types = FALSE` to quiet this message.\n"
     ]
    }
   ],
   "source": [
    "vec_txt_region_label = c(\n",
    "    \"fcc_astarr_macs_input_overlap\",\n",
    "    \"fcc_astarr_macs_input_union\"\n",
    ")\n",
    "lst = lapply(vec_txt_region_label, function(txt_region_label_A){\n",
    "    ### set directory\n",
    "    txt_fdiry = file.path(\n",
    "        FD_RES, \n",
    "        \"region_closest\",\n",
    "        txt_region_label_A,\n",
    "        \"summary\"\n",
    "    )\n",
    "    txt_fname = \"region.summary.genome_tss.tsv\"\n",
    "    txt_fpath = file.path(txt_fdiry, txt_fname)\n",
    "    dat = read_tsv(txt_fpath)\n",
    "    return(dat)\n",
    "})\n",
    "names(lst) = vec_txt_region_label\n",
    "lst_dat_region_import = lst"
   ]
  },
  {
   "cell_type": "code",
   "execution_count": null,
   "id": "b9fa3cbb-4503-4a49-8656-1fa801d308de",
   "metadata": {},
   "outputs": [],
   "source": []
  },
  {
   "cell_type": "code",
   "execution_count": null,
   "id": "f192398b-d8b1-4a94-b93f-6ea3e96246c8",
   "metadata": {},
   "outputs": [],
   "source": []
  },
  {
   "cell_type": "code",
   "execution_count": null,
   "id": "98a51dfd-da3e-4a14-b24a-a863231a1180",
   "metadata": {},
   "outputs": [],
   "source": []
  },
  {
   "cell_type": "code",
   "execution_count": 43,
   "id": "1122d205-2f07-41f1-8341-2069e8e47e7e",
   "metadata": {},
   "outputs": [
    {
     "name": "stdout",
     "output_type": "stream",
     "text": [
      "[1] 150042      8\n",
      "[1] 150042\n",
      "[1] 150042\n"
     ]
    },
    {
     "data": {
      "text/html": [
       "<table class=\"dataframe\">\n",
       "<caption>A tibble: 6 × 8</caption>\n",
       "<thead>\n",
       "\t<tr><th scope=col>Chrom</th><th scope=col>ChromStart</th><th scope=col>ChromEnd</th><th scope=col>Region</th><th scope=col>Annotation_A</th><th scope=col>Annotation_B</th><th scope=col>Distance</th><th scope=col>Label_TSS_Proximity</th></tr>\n",
       "\t<tr><th scope=col>&lt;chr&gt;</th><th scope=col>&lt;dbl&gt;</th><th scope=col>&lt;dbl&gt;</th><th scope=col>&lt;chr&gt;</th><th scope=col>&lt;chr&gt;</th><th scope=col>&lt;chr&gt;</th><th scope=col>&lt;dbl&gt;</th><th scope=col>&lt;chr&gt;</th></tr>\n",
       "</thead>\n",
       "<tbody>\n",
       "\t<tr><td>chr1</td><td> 10038</td><td> 10405</td><td>chr1:10038-10405  </td><td>fcc_astarr_macs_input_overlap</td><td>genome_tss_pol2_rnaseq</td><td>18966</td><td>Distal  </td></tr>\n",
       "\t<tr><td>chr1</td><td> 14282</td><td> 14614</td><td>chr1:14282-14614  </td><td>fcc_astarr_macs_input_overlap</td><td>genome_tss_pol2_rnaseq</td><td>14757</td><td>Distal  </td></tr>\n",
       "\t<tr><td>chr1</td><td> 16025</td><td> 16338</td><td>chr1:16025-16338  </td><td>fcc_astarr_macs_input_overlap</td><td>genome_tss_pol2_rnaseq</td><td>13033</td><td>Distal  </td></tr>\n",
       "\t<tr><td>chr1</td><td> 17288</td><td> 17689</td><td>chr1:17288-17689  </td><td>fcc_astarr_macs_input_overlap</td><td>genome_tss_pol2_rnaseq</td><td>11682</td><td>Distal  </td></tr>\n",
       "\t<tr><td>chr1</td><td> 28934</td><td> 29499</td><td>chr1:28934-29499  </td><td>fcc_astarr_macs_input_overlap</td><td>genome_tss_pol2_rnaseq</td><td>    0</td><td>Proximal</td></tr>\n",
       "\t<tr><td>chr1</td><td>115429</td><td>115969</td><td>chr1:115429-115969</td><td>fcc_astarr_macs_input_overlap</td><td>genome_tss_pol2_rnaseq</td><td>86059</td><td>Distal  </td></tr>\n",
       "</tbody>\n",
       "</table>\n"
      ],
      "text/latex": [
       "A tibble: 6 × 8\n",
       "\\begin{tabular}{llllllll}\n",
       " Chrom & ChromStart & ChromEnd & Region & Annotation\\_A & Annotation\\_B & Distance & Label\\_TSS\\_Proximity\\\\\n",
       " <chr> & <dbl> & <dbl> & <chr> & <chr> & <chr> & <dbl> & <chr>\\\\\n",
       "\\hline\n",
       "\t chr1 &  10038 &  10405 & chr1:10038-10405   & fcc\\_astarr\\_macs\\_input\\_overlap & genome\\_tss\\_pol2\\_rnaseq & 18966 & Distal  \\\\\n",
       "\t chr1 &  14282 &  14614 & chr1:14282-14614   & fcc\\_astarr\\_macs\\_input\\_overlap & genome\\_tss\\_pol2\\_rnaseq & 14757 & Distal  \\\\\n",
       "\t chr1 &  16025 &  16338 & chr1:16025-16338   & fcc\\_astarr\\_macs\\_input\\_overlap & genome\\_tss\\_pol2\\_rnaseq & 13033 & Distal  \\\\\n",
       "\t chr1 &  17288 &  17689 & chr1:17288-17689   & fcc\\_astarr\\_macs\\_input\\_overlap & genome\\_tss\\_pol2\\_rnaseq & 11682 & Distal  \\\\\n",
       "\t chr1 &  28934 &  29499 & chr1:28934-29499   & fcc\\_astarr\\_macs\\_input\\_overlap & genome\\_tss\\_pol2\\_rnaseq &     0 & Proximal\\\\\n",
       "\t chr1 & 115429 & 115969 & chr1:115429-115969 & fcc\\_astarr\\_macs\\_input\\_overlap & genome\\_tss\\_pol2\\_rnaseq & 86059 & Distal  \\\\\n",
       "\\end{tabular}\n"
      ],
      "text/markdown": [
       "\n",
       "A tibble: 6 × 8\n",
       "\n",
       "| Chrom &lt;chr&gt; | ChromStart &lt;dbl&gt; | ChromEnd &lt;dbl&gt; | Region &lt;chr&gt; | Annotation_A &lt;chr&gt; | Annotation_B &lt;chr&gt; | Distance &lt;dbl&gt; | Label_TSS_Proximity &lt;chr&gt; |\n",
       "|---|---|---|---|---|---|---|---|\n",
       "| chr1 |  10038 |  10405 | chr1:10038-10405   | fcc_astarr_macs_input_overlap | genome_tss_pol2_rnaseq | 18966 | Distal   |\n",
       "| chr1 |  14282 |  14614 | chr1:14282-14614   | fcc_astarr_macs_input_overlap | genome_tss_pol2_rnaseq | 14757 | Distal   |\n",
       "| chr1 |  16025 |  16338 | chr1:16025-16338   | fcc_astarr_macs_input_overlap | genome_tss_pol2_rnaseq | 13033 | Distal   |\n",
       "| chr1 |  17288 |  17689 | chr1:17288-17689   | fcc_astarr_macs_input_overlap | genome_tss_pol2_rnaseq | 11682 | Distal   |\n",
       "| chr1 |  28934 |  29499 | chr1:28934-29499   | fcc_astarr_macs_input_overlap | genome_tss_pol2_rnaseq |     0 | Proximal |\n",
       "| chr1 | 115429 | 115969 | chr1:115429-115969 | fcc_astarr_macs_input_overlap | genome_tss_pol2_rnaseq | 86059 | Distal   |\n",
       "\n"
      ],
      "text/plain": [
       "  Chrom ChromStart ChromEnd Region             Annotation_A                 \n",
       "1 chr1   10038      10405   chr1:10038-10405   fcc_astarr_macs_input_overlap\n",
       "2 chr1   14282      14614   chr1:14282-14614   fcc_astarr_macs_input_overlap\n",
       "3 chr1   16025      16338   chr1:16025-16338   fcc_astarr_macs_input_overlap\n",
       "4 chr1   17288      17689   chr1:17288-17689   fcc_astarr_macs_input_overlap\n",
       "5 chr1   28934      29499   chr1:28934-29499   fcc_astarr_macs_input_overlap\n",
       "6 chr1  115429     115969   chr1:115429-115969 fcc_astarr_macs_input_overlap\n",
       "  Annotation_B           Distance Label_TSS_Proximity\n",
       "1 genome_tss_pol2_rnaseq 18966    Distal             \n",
       "2 genome_tss_pol2_rnaseq 14757    Distal             \n",
       "3 genome_tss_pol2_rnaseq 13033    Distal             \n",
       "4 genome_tss_pol2_rnaseq 11682    Distal             \n",
       "5 genome_tss_pol2_rnaseq     0    Proximal           \n",
       "6 genome_tss_pol2_rnaseq 86059    Distal             "
      ]
     },
     "metadata": {},
     "output_type": "display_data"
    }
   ],
   "source": [
    "lst = lst_dat_region_import\n",
    "dat = lst[[\"fcc_astarr_macs_input_overlap\"]]\n",
    "print(dim(dat))\n",
    "print(length(dat$Region))\n",
    "print(length(unique(dat$Region)))\n",
    "head(dat)"
   ]
  },
  {
   "cell_type": "code",
   "execution_count": 44,
   "id": "81969d26-0ccc-4846-bebc-b7faa41f4840",
   "metadata": {},
   "outputs": [
    {
     "data": {
      "text/plain": [
       "\n",
       "  Distal Proximal \n",
       "  138227    11815 "
      ]
     },
     "metadata": {},
     "output_type": "display_data"
    }
   ],
   "source": [
    "lst = lst_dat_region_import\n",
    "dat = lst[[\"fcc_astarr_macs_input_overlap\"]]\n",
    "table(dat$Label_TSS_Proximity)"
   ]
  },
  {
   "cell_type": "code",
   "execution_count": 27,
   "id": "20778c2a-e9c0-42ac-9cda-6da7eb3db3fa",
   "metadata": {},
   "outputs": [
    {
     "data": {
      "image/png": "[encoded data removed]",
      "text/plain": [
       "plot without title"
      ]
     },
     "metadata": {
      "image/png": {
       "height": 240,
       "width": 420
      }
     },
     "output_type": "display_data"
    }
   ],
   "source": [
    "lst = lst_dat_region_import\n",
    "dat = lst[[\"fcc_astarr_macs_input_overlap\"]]\n",
    "\n",
    "gpt = ggplot(dat, aes(x=Distance)) +\n",
    "     geom_histogram(bins=100) +\n",
    "     theme_cowplot() +\n",
    "     background_grid()\n",
    "\n",
    "options(repr.plot.height = 4, repr.plot.width = 7) \n",
    "print(gpt)"
   ]
  },
  {
   "cell_type": "code",
   "execution_count": 40,
   "id": "d7872fbc-3632-4a6d-bbe8-81cd5284ff9b",
   "metadata": {},
   "outputs": [
    {
     "data": {
      "image/png": "[encoded data removed]",
      "text/plain": [
       "plot without title"
      ]
     },
     "metadata": {
      "image/png": {
       "height": 240,
       "width": 420
      }
     },
     "output_type": "display_data"
    }
   ],
   "source": [
    "lst = lst_dat_region_import\n",
    "dat = lst[[\"fcc_astarr_macs_input_overlap\"]]\n",
    "dat = dat %>% dplyr::filter(Distance > 0, Distance < 10000)\n",
    "gpt = ggplot(dat, aes(x=Distance/1000)) +\n",
    "     geom_histogram(bins=100) +\n",
    "     theme_cowplot() +\n",
    "     background_grid()\n",
    "\n",
    "options(repr.plot.height = 4, repr.plot.width = 7) \n",
    "print(gpt)"
   ]
  },
  {
   "cell_type": "markdown",
   "id": "16f70e0c-dab4-454a-a1d6-b335fe980868",
   "metadata": {},
   "source": [
    "**Helper function to get the mode of a continuous variable**"
   ]
  },
  {
   "cell_type": "code",
   "execution_count": 56,
   "id": "f51d2357-256e-40dc-b986-fdd719b37fb1",
   "metadata": {},
   "outputs": [],
   "source": [
    "get_mode_continuous <- function(x, ...) {\n",
    "    obj = density(x, ...)\n",
    "    num = obj$x[which.max(obj$y)]\n",
    "    return(num)\n",
    "}"
   ]
  },
  {
   "cell_type": "code",
   "execution_count": 62,
   "id": "a0f9c526-6457-4de3-9580-26c64f7d522d",
   "metadata": {},
   "outputs": [
    {
     "data": {
      "text/html": [
       "9452.46552416295"
      ],
      "text/latex": [
       "9452.46552416295"
      ],
      "text/markdown": [
       "9452.46552416295"
      ],
      "text/plain": [
       "[1] 9452.466"
      ]
     },
     "metadata": {},
     "output_type": "display_data"
    }
   ],
   "source": [
    "lst = lst_dat_region_import\n",
    "dat = lst[[\"fcc_astarr_macs_input_overlap\"]]\n",
    "vec = dat$Distance\n",
    "get_mode_continuous(vec)"
   ]
  },
  {
   "cell_type": "code",
   "execution_count": 64,
   "id": "78c70c3d-637e-4c10-940b-8378da86993c",
   "metadata": {},
   "outputs": [
    {
     "data": {
      "text/html": [
       "9649"
      ],
      "text/latex": [
       "9649"
      ],
      "text/markdown": [
       "9649"
      ],
      "text/plain": [
       "[1] 9649"
      ]
     },
     "metadata": {},
     "output_type": "display_data"
    }
   ],
   "source": [
    "lst = lst_dat_region_import\n",
    "dat = lst[[\"fcc_astarr_macs_input_overlap\"]]\n",
    "vec = dat$Distance\n",
    "sum(vec == 0)"
   ]
  },
  {
   "cell_type": "code",
   "execution_count": 76,
   "id": "80722a0e-887b-481c-b6d1-c4ab11507820",
   "metadata": {},
   "outputs": [
    {
     "data": {
      "text/html": [
       "11815"
      ],
      "text/latex": [
       "11815"
      ],
      "text/markdown": [
       "11815"
      ],
      "text/plain": [
       "[1] 11815"
      ]
     },
     "metadata": {},
     "output_type": "display_data"
    }
   ],
   "source": [
    "lst = lst_dat_region_import\n",
    "dat = lst[[\"fcc_astarr_macs_input_overlap\"]]\n",
    "vec = dat$Distance\n",
    "sum(vec <= 2000)"
   ]
  },
  {
   "cell_type": "code",
   "execution_count": 63,
   "id": "fdc73935-cde0-4b9c-89e8-f0bc1366395e",
   "metadata": {},
   "outputs": [
    {
     "data": {
      "text/plain": [
       "    Min.  1st Qu.   Median     Mean  3rd Qu.     Max. \n",
       "   0.002   21.992   56.653  129.832  136.984 5069.859 "
      ]
     },
     "metadata": {},
     "output_type": "display_data"
    }
   ],
   "source": [
    "lst = lst_dat_region_import\n",
    "dat = lst[[\"fcc_astarr_macs_input_overlap\"]]\n",
    "tmp = dat %>% dplyr::filter(Distance > 0)\n",
    "vec = tmp$Distance/1000\n",
    "summary(vec)"
   ]
  },
  {
   "cell_type": "code",
   "execution_count": null,
   "id": "56650c82-a6a7-4699-b5d1-ded6662e199b",
   "metadata": {},
   "outputs": [],
   "source": [
    "tmp = dat"
   ]
  },
  {
   "cell_type": "code",
   "execution_count": 101,
   "id": "9abc9233-48fd-4b83-b53a-ed82f154f6f0",
   "metadata": {},
   "outputs": [],
   "source": [
    "lst = lst_dat_region_import\n",
    "dat = lst[[\"fcc_astarr_macs_input_overlap\"]]\n",
    "dat = dat %>% dplyr::mutate(Distance = Distance / 1000)\n",
    "\n",
    "###\n",
    "tmp = dat %>% dplyr::filter(Distance > 0, Distance <= 10)\n",
    "gpt = ggplot(tmp, aes(x=Distance)) +\n",
    "     geom_histogram(bins=100) +\n",
    "     theme_cowplot() +\n",
    "     background_grid() +\n",
    "     labs(\n",
    "         x = \"Distance (kb)\",\n",
    "         y = \"Count\",\n",
    "         title = \"Distance: >0-10kb\"\n",
    "     )\n",
    "\n",
    "gp1 = gpt\n",
    "\n",
    "###\n",
    "txt_line1 = paste(\"Count (D == 0  }:\", \" 9.6K \")\n",
    "txt_line2 = paste(\"Count (D <= 2kb}:\", \"11.8K \")\n",
    "txt_line3 = paste(\"Mode ~\", \"9.5  kb \")\n",
    "txt_line4 = paste(\"Max ~\", \"5.07 Mb \")\n",
    "txt_annot = paste(txt_line1, txt_line2, txt_line3, txt_line4, sep = \"\\n\")\n",
    "\n",
    "###\n",
    "#tmp = dat %>% dplyr::filter(Distance > 0, Distance <= 1000)\n",
    "tmp = dat %>% dplyr::filter(Distance <= 1000)\n",
    "gpt = ggplot(tmp, aes(x=Distance)) +\n",
    "     geom_histogram(bins=100) +\n",
    "     theme_cowplot() +\n",
    "     background_grid() +\n",
    "     labs(\n",
    "         x = \"Distance (kb)\",\n",
    "         y = \"Count\",\n",
    "         title = \"Distance\"\n",
    "     ) +\n",
    "     annotate(\n",
    "        \"label\", \n",
    "         x = 500,\n",
    "         y = 13000,\n",
    "         label = txt_annot,\n",
    "         fill  = \"white\",\n",
    "         size  = 6,\n",
    "         hjust = 0\n",
    "     )\n",
    "gp2 = gpt"
   ]
  },
  {
   "cell_type": "code",
   "execution_count": 102,
   "id": "a5c2e51f-679e-433a-a157-7b00a51489c2",
   "metadata": {},
   "outputs": [
    {
     "data": {
      "image/png": "[encoded data removed]",
      "text/plain": [
       "plot without title"
      ]
     },
     "metadata": {
      "image/png": {
       "height": 240,
       "width": 420
      }
     },
     "output_type": "display_data"
    }
   ],
   "source": [
    "options(repr.plot.height = 4, repr.plot.width = 7) \n",
    "print(gp1)"
   ]
  },
  {
   "cell_type": "code",
   "execution_count": 103,
   "id": "da99915b-ed78-410c-9cfb-5db86d7e61e1",
   "metadata": {},
   "outputs": [
    {
     "data": {
      "image/png": "[encoded data removed]",
      "text/plain": [
       "plot without title"
      ]
     },
     "metadata": {
      "image/png": {
       "height": 240,
       "width": 420
      }
     },
     "output_type": "display_data"
    }
   ],
   "source": [
    "options(repr.plot.height = 4, repr.plot.width = 7) \n",
    "print(gp2)"
   ]
  },
  {
   "cell_type": "code",
   "execution_count": 71,
   "id": "849f2363-2ef8-4686-b5be-3fa10967eef3",
   "metadata": {},
   "outputs": [
    {
     "data": {
      "image/png": "[encoded data removed]",
      "text/plain": [
       "plot without title"
      ]
     },
     "metadata": {
      "image/png": {
       "height": 240,
       "width": 420
      }
     },
     "output_type": "display_data"
    }
   ],
   "source": [
    "tmp = dat %>% dplyr::filter(Distance <= 1000)\n",
    "gpt = ggplot(tmp, aes(x=Distance)) +\n",
    "     geom_histogram(bins=100) +\n",
    "     theme_cowplot() +\n",
    "     background_grid() +\n",
    "     labs(\n",
    "         x = \"Distance (kb)\",\n",
    "         y = \"Count\",\n",
    "         title = \"Distance\"\n",
    "     ) \n",
    "print(gpt)"
   ]
  },
  {
   "cell_type": "code",
   "execution_count": null,
   "id": "e10387d5-58eb-441c-aed9-ddf3310d049d",
   "metadata": {},
   "outputs": [],
   "source": []
  },
  {
   "cell_type": "code",
   "execution_count": 20,
   "id": "83f8e36d-233b-4126-bd92-d3f4f0b5240c",
   "metadata": {},
   "outputs": [
    {
     "name": "stdout",
     "output_type": "stream",
     "text": [
      "[1] 150042\n",
      "[1] 150042\n"
     ]
    },
    {
     "data": {
      "text/html": [
       "<table class=\"dataframe\">\n",
       "<caption>A tibble: 6 × 5</caption>\n",
       "<thead>\n",
       "\t<tr><th scope=col>Chrom</th><th scope=col>ChromStart</th><th scope=col>ChromEnd</th><th scope=col>Region</th><th scope=col>Count</th></tr>\n",
       "\t<tr><th scope=col>&lt;chr&gt;</th><th scope=col>&lt;dbl&gt;</th><th scope=col>&lt;dbl&gt;</th><th scope=col>&lt;chr&gt;</th><th scope=col>&lt;int&gt;</th></tr>\n",
       "</thead>\n",
       "<tbody>\n",
       "\t<tr><td>chr1</td><td> 10038</td><td> 10405</td><td>chr1:10038-10405  </td><td>1</td></tr>\n",
       "\t<tr><td>chr1</td><td> 14282</td><td> 14614</td><td>chr1:14282-14614  </td><td>1</td></tr>\n",
       "\t<tr><td>chr1</td><td> 16025</td><td> 16338</td><td>chr1:16025-16338  </td><td>1</td></tr>\n",
       "\t<tr><td>chr1</td><td> 17288</td><td> 17689</td><td>chr1:17288-17689  </td><td>1</td></tr>\n",
       "\t<tr><td>chr1</td><td> 28934</td><td> 29499</td><td>chr1:28934-29499  </td><td>1</td></tr>\n",
       "\t<tr><td>chr1</td><td>115429</td><td>115969</td><td>chr1:115429-115969</td><td>1</td></tr>\n",
       "</tbody>\n",
       "</table>\n"
      ],
      "text/latex": [
       "A tibble: 6 × 5\n",
       "\\begin{tabular}{lllll}\n",
       " Chrom & ChromStart & ChromEnd & Region & Count\\\\\n",
       " <chr> & <dbl> & <dbl> & <chr> & <int>\\\\\n",
       "\\hline\n",
       "\t chr1 &  10038 &  10405 & chr1:10038-10405   & 1\\\\\n",
       "\t chr1 &  14282 &  14614 & chr1:14282-14614   & 1\\\\\n",
       "\t chr1 &  16025 &  16338 & chr1:16025-16338   & 1\\\\\n",
       "\t chr1 &  17288 &  17689 & chr1:17288-17689   & 1\\\\\n",
       "\t chr1 &  28934 &  29499 & chr1:28934-29499   & 1\\\\\n",
       "\t chr1 & 115429 & 115969 & chr1:115429-115969 & 1\\\\\n",
       "\\end{tabular}\n"
      ],
      "text/markdown": [
       "\n",
       "A tibble: 6 × 5\n",
       "\n",
       "| Chrom &lt;chr&gt; | ChromStart &lt;dbl&gt; | ChromEnd &lt;dbl&gt; | Region &lt;chr&gt; | Count &lt;int&gt; |\n",
       "|---|---|---|---|---|\n",
       "| chr1 |  10038 |  10405 | chr1:10038-10405   | 1 |\n",
       "| chr1 |  14282 |  14614 | chr1:14282-14614   | 1 |\n",
       "| chr1 |  16025 |  16338 | chr1:16025-16338   | 1 |\n",
       "| chr1 |  17288 |  17689 | chr1:17288-17689   | 1 |\n",
       "| chr1 |  28934 |  29499 | chr1:28934-29499   | 1 |\n",
       "| chr1 | 115429 | 115969 | chr1:115429-115969 | 1 |\n",
       "\n"
      ],
      "text/plain": [
       "  Chrom ChromStart ChromEnd Region             Count\n",
       "1 chr1   10038      10405   chr1:10038-10405   1    \n",
       "2 chr1   14282      14614   chr1:14282-14614   1    \n",
       "3 chr1   16025      16338   chr1:16025-16338   1    \n",
       "4 chr1   17288      17689   chr1:17288-17689   1    \n",
       "5 chr1   28934      29499   chr1:28934-29499   1    \n",
       "6 chr1  115429     115969   chr1:115429-115969 1    "
      ]
     },
     "metadata": {},
     "output_type": "display_data"
    }
   ],
   "source": [
    "lst = lst_dat_region_import\n",
    "dat = lst[[\"fcc_astarr_macs_input_overlap\"]]\n",
    "dat = dat %>%\n",
    "    dplyr::mutate(Distance = as.character(Distance)) %>%\n",
    "    dplyr::group_by(Chrom, ChromStart, ChromEnd, Region) %>%\n",
    "    dplyr::summarise(Count = n(), .groups = \"drop\")\n",
    "                     \n",
    "print(length(dat$Region))\n",
    "print(length(unique(dat$Region)))\n",
    "head(dat)"
   ]
  },
  {
   "cell_type": "code",
   "execution_count": 21,
   "id": "b5caae9b-3cd6-4093-8b80-c77da4fd9022",
   "metadata": {},
   "outputs": [
    {
     "data": {
      "text/html": [
       "<table class=\"dataframe\">\n",
       "<caption>A tibble: 6 × 5</caption>\n",
       "<thead>\n",
       "\t<tr><th scope=col>Chrom</th><th scope=col>ChromStart</th><th scope=col>ChromEnd</th><th scope=col>Region</th><th scope=col>Count</th></tr>\n",
       "\t<tr><th scope=col>&lt;chr&gt;</th><th scope=col>&lt;dbl&gt;</th><th scope=col>&lt;dbl&gt;</th><th scope=col>&lt;chr&gt;</th><th scope=col>&lt;int&gt;</th></tr>\n",
       "</thead>\n",
       "<tbody>\n",
       "\t<tr><td>chr1</td><td> 826796</td><td> 828040</td><td>chr1:826796-828040  </td><td>2</td></tr>\n",
       "\t<tr><td>chr1</td><td>1231026</td><td>1232697</td><td>chr1:1231026-1232697</td><td>2</td></tr>\n",
       "\t<tr><td>chr1</td><td>1307484</td><td>1309889</td><td>chr1:1307484-1309889</td><td>2</td></tr>\n",
       "\t<tr><td>chr1</td><td>1324275</td><td>1325765</td><td>chr1:1324275-1325765</td><td>2</td></tr>\n",
       "\t<tr><td>chr1</td><td>1398925</td><td>1400412</td><td>chr1:1398925-1400412</td><td>2</td></tr>\n",
       "\t<tr><td>chr1</td><td>2391045</td><td>2392376</td><td>chr1:2391045-2392376</td><td>2</td></tr>\n",
       "</tbody>\n",
       "</table>\n"
      ],
      "text/latex": [
       "A tibble: 6 × 5\n",
       "\\begin{tabular}{lllll}\n",
       " Chrom & ChromStart & ChromEnd & Region & Count\\\\\n",
       " <chr> & <dbl> & <dbl> & <chr> & <int>\\\\\n",
       "\\hline\n",
       "\t chr1 &  826796 &  828040 & chr1:826796-828040   & 2\\\\\n",
       "\t chr1 & 1231026 & 1232697 & chr1:1231026-1232697 & 2\\\\\n",
       "\t chr1 & 1307484 & 1309889 & chr1:1307484-1309889 & 2\\\\\n",
       "\t chr1 & 1324275 & 1325765 & chr1:1324275-1325765 & 2\\\\\n",
       "\t chr1 & 1398925 & 1400412 & chr1:1398925-1400412 & 2\\\\\n",
       "\t chr1 & 2391045 & 2392376 & chr1:2391045-2392376 & 2\\\\\n",
       "\\end{tabular}\n"
      ],
      "text/markdown": [
       "\n",
       "A tibble: 6 × 5\n",
       "\n",
       "| Chrom &lt;chr&gt; | ChromStart &lt;dbl&gt; | ChromEnd &lt;dbl&gt; | Region &lt;chr&gt; | Count &lt;int&gt; |\n",
       "|---|---|---|---|---|\n",
       "| chr1 |  826796 |  828040 | chr1:826796-828040   | 2 |\n",
       "| chr1 | 1231026 | 1232697 | chr1:1231026-1232697 | 2 |\n",
       "| chr1 | 1307484 | 1309889 | chr1:1307484-1309889 | 2 |\n",
       "| chr1 | 1324275 | 1325765 | chr1:1324275-1325765 | 2 |\n",
       "| chr1 | 1398925 | 1400412 | chr1:1398925-1400412 | 2 |\n",
       "| chr1 | 2391045 | 2392376 | chr1:2391045-2392376 | 2 |\n",
       "\n"
      ],
      "text/plain": [
       "  Chrom ChromStart ChromEnd Region               Count\n",
       "1 chr1   826796     828040  chr1:826796-828040   2    \n",
       "2 chr1  1231026    1232697  chr1:1231026-1232697 2    \n",
       "3 chr1  1307484    1309889  chr1:1307484-1309889 2    \n",
       "4 chr1  1324275    1325765  chr1:1324275-1325765 2    \n",
       "5 chr1  1398925    1400412  chr1:1398925-1400412 2    \n",
       "6 chr1  2391045    2392376  chr1:2391045-2392376 2    "
      ]
     },
     "metadata": {},
     "output_type": "display_data"
    }
   ],
   "source": [
    "dat %>% dplyr::filter(Count > 1) %>% head"
   ]
  },
  {
   "cell_type": "code",
   "execution_count": 22,
   "id": "bdde75d1-1660-44c4-9771-f11810b0dc49",
   "metadata": {},
   "outputs": [
    {
     "data": {
      "text/html": [
       "<table class=\"dataframe\">\n",
       "<caption>A spec_tbl_df: 2 × 11</caption>\n",
       "<thead>\n",
       "\t<tr><th scope=col>Chrom</th><th scope=col>ChromStart</th><th scope=col>ChromEnd</th><th scope=col>Region</th><th scope=col>Annotation_A</th><th scope=col>Annotation_B</th><th scope=col>Region_TSS</th><th scope=col>Label_Gene</th><th scope=col>Count_Gene</th><th scope=col>Distance</th><th scope=col>Label_Proximity</th></tr>\n",
       "\t<tr><th scope=col>&lt;chr&gt;</th><th scope=col>&lt;dbl&gt;</th><th scope=col>&lt;dbl&gt;</th><th scope=col>&lt;chr&gt;</th><th scope=col>&lt;chr&gt;</th><th scope=col>&lt;chr&gt;</th><th scope=col>&lt;chr&gt;</th><th scope=col>&lt;chr&gt;</th><th scope=col>&lt;dbl&gt;</th><th scope=col>&lt;dbl&gt;</th><th scope=col>&lt;chr&gt;</th></tr>\n",
       "</thead>\n",
       "<tbody>\n",
       "\t<tr><td>chr1</td><td>826796</td><td>828040</td><td>chr1:826796-828040</td><td>fcc_astarr_macs_input_overlap</td><td>genome_tss_pol2_rnaseq</td><td>chr1:827522-827523</td><td>LINC00115</td><td>1</td><td>0</td><td>Proximal</td></tr>\n",
       "\t<tr><td>chr1</td><td>826796</td><td>828040</td><td>chr1:826796-828040</td><td>fcc_astarr_macs_input_overlap</td><td>genome_tss_pol2_rnaseq</td><td>chr1:827590-827591</td><td>LINC01128</td><td>1</td><td>0</td><td>Proximal</td></tr>\n",
       "</tbody>\n",
       "</table>\n"
      ],
      "text/latex": [
       "A spec\\_tbl\\_df: 2 × 11\n",
       "\\begin{tabular}{lllllllllll}\n",
       " Chrom & ChromStart & ChromEnd & Region & Annotation\\_A & Annotation\\_B & Region\\_TSS & Label\\_Gene & Count\\_Gene & Distance & Label\\_Proximity\\\\\n",
       " <chr> & <dbl> & <dbl> & <chr> & <chr> & <chr> & <chr> & <chr> & <dbl> & <dbl> & <chr>\\\\\n",
       "\\hline\n",
       "\t chr1 & 826796 & 828040 & chr1:826796-828040 & fcc\\_astarr\\_macs\\_input\\_overlap & genome\\_tss\\_pol2\\_rnaseq & chr1:827522-827523 & LINC00115 & 1 & 0 & Proximal\\\\\n",
       "\t chr1 & 826796 & 828040 & chr1:826796-828040 & fcc\\_astarr\\_macs\\_input\\_overlap & genome\\_tss\\_pol2\\_rnaseq & chr1:827590-827591 & LINC01128 & 1 & 0 & Proximal\\\\\n",
       "\\end{tabular}\n"
      ],
      "text/markdown": [
       "\n",
       "A spec_tbl_df: 2 × 11\n",
       "\n",
       "| Chrom &lt;chr&gt; | ChromStart &lt;dbl&gt; | ChromEnd &lt;dbl&gt; | Region &lt;chr&gt; | Annotation_A &lt;chr&gt; | Annotation_B &lt;chr&gt; | Region_TSS &lt;chr&gt; | Label_Gene &lt;chr&gt; | Count_Gene &lt;dbl&gt; | Distance &lt;dbl&gt; | Label_Proximity &lt;chr&gt; |\n",
       "|---|---|---|---|---|---|---|---|---|---|---|\n",
       "| chr1 | 826796 | 828040 | chr1:826796-828040 | fcc_astarr_macs_input_overlap | genome_tss_pol2_rnaseq | chr1:827522-827523 | LINC00115 | 1 | 0 | Proximal |\n",
       "| chr1 | 826796 | 828040 | chr1:826796-828040 | fcc_astarr_macs_input_overlap | genome_tss_pol2_rnaseq | chr1:827590-827591 | LINC01128 | 1 | 0 | Proximal |\n",
       "\n"
      ],
      "text/plain": [
       "  Chrom ChromStart ChromEnd Region             Annotation_A                 \n",
       "1 chr1  826796     828040   chr1:826796-828040 fcc_astarr_macs_input_overlap\n",
       "2 chr1  826796     828040   chr1:826796-828040 fcc_astarr_macs_input_overlap\n",
       "  Annotation_B           Region_TSS         Label_Gene Count_Gene Distance\n",
       "1 genome_tss_pol2_rnaseq chr1:827522-827523 LINC00115  1          0       \n",
       "2 genome_tss_pol2_rnaseq chr1:827590-827591 LINC01128  1          0       \n",
       "  Label_Proximity\n",
       "1 Proximal       \n",
       "2 Proximal       "
      ]
     },
     "metadata": {},
     "output_type": "display_data"
    }
   ],
   "source": [
    "lst = lst_dat_region_import\n",
    "dat = lst[[\"fcc_astarr_macs_input_overlap\"]]\n",
    "dat %>% dplyr::filter(Region == \"chr1:826796-828040\")"
   ]
  },
  {
   "cell_type": "code",
   "execution_count": null,
   "id": "a1356246-1d40-4277-9fef-f84eda9514ab",
   "metadata": {},
   "outputs": [],
   "source": []
  }
 ],
 "metadata": {
  "kernelspec": {
   "display_name": "R",
   "language": "R",
   "name": "ir"
  },
  "language_info": {
   "codemirror_mode": "r",
   "file_extension": ".r",
   "mimetype": "text/x-r-source",
   "name": "R",
   "pygments_lexer": "r",
   "version": "4.4.2"
  }
 },
 "nbformat": 4,
 "nbformat_minor": 5
}
