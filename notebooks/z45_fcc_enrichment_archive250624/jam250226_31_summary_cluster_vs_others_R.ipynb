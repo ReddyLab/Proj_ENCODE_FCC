{
 "cells": [
  {
   "cell_type": "raw",
   "id": "dd8ac1d7-3473-48a7-8978-a64d64e56802",
   "metadata": {},
   "source": [
    "---\n",
    "title: Region annotation 11 (ASTARR MACS peaks)\n",
    "subtitle: Summarize annotations (Main)\n",
    "format:\n",
    "    html:\n",
    "        code-fold:  true\n",
    "        code-tools: true\n",
    "---"
   ]
  },
  {
   "cell_type": "markdown",
   "id": "021256c9-54ad-478f-93a7-d0cea78afaa1",
   "metadata": {},
   "source": [
    "**Set environment**"
   ]
  },
  {
   "cell_type": "code",
   "execution_count": 1,
   "id": "3fd5ba58-c2ff-4350-b963-590a11924688",
   "metadata": {
    "tags": []
   },
   "outputs": [
    {
     "name": "stdout",
     "output_type": "stream",
     "text": [
      "You are working on        Singularity: singularity_proj_encode_fcc \n",
      "BASE DIRECTORY (FD_BASE): /data/reddylab/Kuei \n",
      "REPO DIRECTORY (FD_REPO): /data/reddylab/Kuei/repo \n",
      "WORK DIRECTORY (FD_WORK): /data/reddylab/Kuei/work \n",
      "DATA DIRECTORY (FD_DATA): /data/reddylab/Kuei/data \n",
      "\n",
      "You are working with      ENCODE FCC \n",
      "PATH OF PROJECT (FD_PRJ): /data/reddylab/Kuei/repo/Proj_ENCODE_FCC \n",
      "PROJECT RESULTS (FD_RES): /data/reddylab/Kuei/repo/Proj_ENCODE_FCC/results \n",
      "PROJECT SCRIPTS (FD_EXE): /data/reddylab/Kuei/repo/Proj_ENCODE_FCC/scripts \n",
      "PROJECT DATA    (FD_DAT): /data/reddylab/Kuei/repo/Proj_ENCODE_FCC/data \n",
      "PROJECT NOTE    (FD_NBK): /data/reddylab/Kuei/repo/Proj_ENCODE_FCC/notebooks \n",
      "PROJECT DOCS    (FD_DOC): /data/reddylab/Kuei/repo/Proj_ENCODE_FCC/docs \n",
      "PROJECT LOG     (FD_LOG): /data/reddylab/Kuei/repo/Proj_ENCODE_FCC/log \n",
      "PROJECT REF     (FD_REF): /data/reddylab/Kuei/repo/Proj_ENCODE_FCC/references \n",
      "\n"
     ]
    }
   ],
   "source": [
    "suppressMessages(suppressWarnings(source(\"../run_config_project_sing.R\")))\n",
    "suppressMessages(suppressWarnings(library(\"coin\")))\n",
    "show_env()"
   ]
  },
  {
   "cell_type": "markdown",
   "id": "5538653c-3aaf-4f38-b387-c88a2a64675b",
   "metadata": {},
   "source": [
    "## Import data"
   ]
  },
  {
   "cell_type": "code",
   "execution_count": 2,
   "id": "463a3d95-e392-4bf8-8e69-ff41e9ce22db",
   "metadata": {},
   "outputs": [
    {
     "name": "stdout",
     "output_type": "stream",
     "text": [
      "MatchedGRanges_Cluster00_vs_inactive.rds \n",
      "MatchedGRanges_Cluster00_vs_others.rds \n",
      "MatchedGRanges_Cluster01_vs_inactive.rds \n",
      "MatchedGRanges_Cluster01_vs_others.rds \n",
      "MatchedGRanges_Cluster02_vs_inactive.rds \n",
      "MatchedGRanges_Cluster02_vs_others.rds \n",
      "MatchedGRanges_Cluster03_vs_inactive.rds \n",
      "MatchedGRanges_Cluster03_vs_others.rds \n",
      "MatchedGRanges_Cluster04_vs_inactive.rds \n",
      "MatchedGRanges_Cluster04_vs_others.rds \n",
      "MatchedGRanges_Cluster05_vs_inactive.rds \n",
      "MatchedGRanges_Cluster05_vs_others.rds \n",
      "MatchedGRanges_Cluster06_vs_inactive.rds \n",
      "MatchedGRanges_Cluster06_vs_others.rds \n",
      "MatchedGRanges_Cluster07_vs_inactive.rds \n",
      "MatchedGRanges_Cluster07_vs_others.rds \n",
      "MatchedGRanges_Cluster08_vs_inactive.rds \n",
      "MatchedGRanges_Cluster08_vs_others.rds \n",
      "MatchedGRanges_Cluster09_vs_inactive.rds \n",
      "MatchedGRanges_Cluster09_vs_others.rds \n",
      "MatchedGRanges_Cluster10_vs_inactive.rds \n",
      "MatchedGRanges_Cluster10_vs_others.rds \n",
      "MatchedGRanges_Cluster11_vs_inactive.rds \n",
      "MatchedGRanges_Cluster11_vs_others.rds \n",
      "MatchedGRanges_Cluster12_vs_inactive.rds \n",
      "MatchedGRanges_Cluster12_vs_others.rds \n",
      "MatchedGRanges_Cluster13_vs_inactive.rds \n",
      "MatchedGRanges_Cluster13_vs_others.rds \n",
      "MatchedGRanges_Cluster14_vs_inactive.rds \n",
      "MatchedGRanges_Cluster14_vs_others.rds \n",
      "region.prepare.group.tsv \n",
      "results_Cluster00_vs_inactive_perm10k.rds \n",
      "results_Cluster00_vs_others_perm10k.rds \n",
      "results_Cluster01_vs_inactive_perm10k.rds \n",
      "results_Cluster01_vs_others_perm10k.rds \n",
      "results_Cluster02_vs_inactive_perm10k.rds \n",
      "results_Cluster02_vs_others_perm10k.rds \n",
      "results_Cluster03_vs_inactive_perm10k.rds \n",
      "results_Cluster03_vs_others_perm10k.rds \n",
      "results_Cluster04_vs_inactive_perm10k.rds \n",
      "results_Cluster04_vs_others_perm10k.rds \n",
      "results_Cluster05_vs_inactive_perm10k.rds \n",
      "results_Cluster05_vs_others_perm10k.rds \n",
      "results_Cluster06_vs_inactive_perm10k.rds \n",
      "results_Cluster06_vs_others_perm10k.rds \n",
      "results_Cluster07_vs_inactive_perm10k.rds \n",
      "results_Cluster07_vs_others_perm10k.rds \n",
      "results_Cluster08_vs_inactive_perm10k.rds \n",
      "results_Cluster08_vs_others_perm10k.rds \n",
      "results_Cluster09_vs_inactive_perm10k.rds \n",
      "results_Cluster09_vs_others_perm10k.rds \n",
      "results_Cluster10_vs_inactive_perm10k.rds \n",
      "results_Cluster10_vs_others_perm10k.rds \n",
      "results_Cluster11_vs_inactive_perm10k.rds \n",
      "results_Cluster11_vs_others_perm10k.rds \n",
      "results_Cluster12_vs_inactive_perm10k.rds \n",
      "results_Cluster12_vs_others_perm10k.rds \n",
      "results_Cluster13_vs_inactive_perm10k.rds \n",
      "results_Cluster13_vs_others_perm10k.rds \n",
      "results_Cluster14_vs_inactive_perm10k.rds \n",
      "results_Cluster14_vs_others_perm10k.rds \n"
     ]
    }
   ],
   "source": [
    "txt_fdiry = file.path(\n",
    "    FD_RES, \n",
    "    \"region_integration\",\n",
    "    \"fcc_astarr_macs_input_overlap\",\n",
    "    \"analysis_enrichment_v2\",\n",
    "    \"fcc_starrmpracrispri_vote2_phenograph_neighbors070\"\n",
    ")\n",
    "vec = dir(txt_fdiry)\n",
    "for (txt in vec){cat(txt, \"\\n\")}"
   ]
  },
  {
   "cell_type": "code",
   "execution_count": 3,
   "id": "23c00ee2-2d35-470a-9863-0262c0093968",
   "metadata": {},
   "outputs": [
    {
     "name": "stdout",
     "output_type": "stream",
     "text": [
      " [1] \"Cluster00\" \"Cluster01\" \"Cluster02\" \"Cluster03\" \"Cluster04\" \"Cluster05\"\n",
      " [7] \"Cluster06\" \"Cluster07\" \"Cluster08\" \"Cluster09\" \"Cluster10\" \"Cluster11\"\n",
      "[13] \"Cluster12\" \"Cluster13\" \"Cluster14\"\n"
     ]
    }
   ],
   "source": [
    "vec = 0:14\n",
    "vec = str_pad(vec, width = 2, pad = \"0\")\n",
    "vec = paste0(\"Cluster\", vec)\n",
    "\n",
    "vec_txt_cluster = vec\n",
    "print(vec)"
   ]
  },
  {
   "cell_type": "code",
   "execution_count": 4,
   "id": "ed3a8128-eb6a-4398-9f88-2fd2cb230de2",
   "metadata": {},
   "outputs": [
    {
     "name": "stdout",
     "output_type": "stream",
     "text": [
      "Cluster00 \n",
      "Cluster01 \n",
      "Cluster02 \n",
      "Cluster03 \n",
      "Cluster04 \n",
      "Cluster05 \n",
      "Cluster06 \n",
      "Cluster07 \n",
      "Cluster08 \n",
      "Cluster09 \n",
      "Cluster10 \n",
      "Cluster11 \n",
      "Cluster12 \n",
      "Cluster13 \n",
      "Cluster14 \n"
     ]
    }
   ],
   "source": [
    "txt_fdiry = file.path(\n",
    "    FD_RES, \n",
    "    \"region_integration\",\n",
    "    \"fcc_astarr_macs_input_overlap\",\n",
    "    \"analysis_enrichment_v2\",\n",
    "    \"fcc_starrmpracrispri_vote2_phenograph_neighbors070\"\n",
    ")\n",
    "\n",
    "lst = lapply(vec_txt_cluster, function(txt_cluster){\n",
    "    cat(txt_cluster, \"\\n\")\n",
    "    flush.console()\n",
    "    \n",
    "    txt_fname = paste(\"results\", txt_cluster, \"vs_others_perm10k.rds\", sep = \"_\")\n",
    "    txt_fpath = file.path(txt_fdiry, txt_fname)\n",
    "    \n",
    "    obj = readRDS(txt_fpath)\n",
    "    return(obj)\n",
    "})\n",
    "names(lst) = vec_txt_cluster\n",
    "\n",
    "lst_fit_object = lst"
   ]
  },
  {
   "cell_type": "code",
   "execution_count": 1,
   "id": "49af0174-bdb9-42b2-b8f1-a675de160744",
   "metadata": {},
   "outputs": [
    {
     "ename": "ERROR",
     "evalue": "Error: object 'lst_fit_object' not found\n",
     "output_type": "error",
     "traceback": [
      "Error: object 'lst_fit_object' not found\nTraceback:\n"
     ]
    }
   ],
   "source": [
    "lst = lst_fit_object\n",
    "lst = lst[[1]]\n",
    "names(lst)"
   ]
  },
  {
   "cell_type": "code",
   "execution_count": 6,
   "id": "597e54f3-29f3-461e-8edd-c9660c5003a6",
   "metadata": {},
   "outputs": [
    {
     "name": "stdout",
     "output_type": "stream",
     "text": [
      "[1] 7815    6\n"
     ]
    },
    {
     "data": {
      "text/html": [
       "<table>\n",
       " <thead>\n",
       "  <tr>\n",
       "   <th style=\"text-align:left;\"> Group </th>\n",
       "   <th style=\"text-align:left;\"> Feature </th>\n",
       "   <th style=\"text-align:right;\"> Stat </th>\n",
       "   <th style=\"text-align:right;\"> Pval </th>\n",
       "   <th style=\"text-align:right;\"> Score </th>\n",
       "   <th style=\"text-align:right;\"> Padj </th>\n",
       "  </tr>\n",
       " </thead>\n",
       "<tbody>\n",
       "  <tr>\n",
       "   <td style=\"text-align:left;\"> Cluster00 </td>\n",
       "   <td style=\"text-align:left;\"> H2AFZ </td>\n",
       "   <td style=\"text-align:right;\"> 33.107126 </td>\n",
       "   <td style=\"text-align:right;\"> 0 </td>\n",
       "   <td style=\"text-align:right;\"> 1.6340344 </td>\n",
       "   <td style=\"text-align:right;\"> 0 </td>\n",
       "  </tr>\n",
       "  <tr>\n",
       "   <td style=\"text-align:left;\"> Cluster00 </td>\n",
       "   <td style=\"text-align:left;\"> H3K27ac </td>\n",
       "   <td style=\"text-align:right;\"> 28.396013 </td>\n",
       "   <td style=\"text-align:right;\"> 0 </td>\n",
       "   <td style=\"text-align:right;\"> 1.3259570 </td>\n",
       "   <td style=\"text-align:right;\"> 0 </td>\n",
       "  </tr>\n",
       "  <tr>\n",
       "   <td style=\"text-align:left;\"> Cluster00 </td>\n",
       "   <td style=\"text-align:left;\"> H3K27me3 </td>\n",
       "   <td style=\"text-align:right;\"> -10.903121 </td>\n",
       "   <td style=\"text-align:right;\"> 0 </td>\n",
       "   <td style=\"text-align:right;\"> -1.2439611 </td>\n",
       "   <td style=\"text-align:right;\"> 0 </td>\n",
       "  </tr>\n",
       "  <tr>\n",
       "   <td style=\"text-align:left;\"> Cluster00 </td>\n",
       "   <td style=\"text-align:left;\"> H3K36me3 </td>\n",
       "   <td style=\"text-align:right;\"> 7.978978 </td>\n",
       "   <td style=\"text-align:right;\"> 0 </td>\n",
       "   <td style=\"text-align:right;\"> -0.0091896 </td>\n",
       "   <td style=\"text-align:right;\"> 0 </td>\n",
       "  </tr>\n",
       "  <tr>\n",
       "   <td style=\"text-align:left;\"> Cluster00 </td>\n",
       "   <td style=\"text-align:left;\"> H3K4me1 </td>\n",
       "   <td style=\"text-align:right;\"> -32.965805 </td>\n",
       "   <td style=\"text-align:right;\"> 0 </td>\n",
       "   <td style=\"text-align:right;\"> -2.6867228 </td>\n",
       "   <td style=\"text-align:right;\"> 0 </td>\n",
       "  </tr>\n",
       "  <tr>\n",
       "   <td style=\"text-align:left;\"> Cluster00 </td>\n",
       "   <td style=\"text-align:left;\"> H3K4me2 </td>\n",
       "   <td style=\"text-align:right;\"> 48.054838 </td>\n",
       "   <td style=\"text-align:right;\"> 0 </td>\n",
       "   <td style=\"text-align:right;\"> 2.6115214 </td>\n",
       "   <td style=\"text-align:right;\"> 0 </td>\n",
       "  </tr>\n",
       "</tbody>\n",
       "</table>"
      ]
     },
     "metadata": {},
     "output_type": "display_data"
    }
   ],
   "source": [
    "lst_outer = lst_fit_object\n",
    "lst_outer = lapply(lst_outer, function(lst_inner){\n",
    "    ###\n",
    "    lst_inner = lapply(lst_inner, function(fit){\n",
    "        res = c(\n",
    "            coin::statistic(fit), \n",
    "            coin::pvalue(fit) \n",
    "        )\n",
    "        names(res) = c(\"Stat\", \"Pval\")\n",
    "        return(res)\n",
    "    })\n",
    "\n",
    "    ###\n",
    "    dat = bind_rows(lst_inner, .id = \"Feature\")\n",
    "    dat = dat %>% \n",
    "        dplyr::mutate(Score = as.numeric(scale(Stat))) %>%\n",
    "        dplyr::mutate(Padj  = p.adjust(Pval, method = \"BH\"))\n",
    "    return(dat)\n",
    "})\n",
    "\n",
    "###\n",
    "dat = bind_rows(lst_outer, .id = \"Group\")\n",
    "\n",
    "###\n",
    "dat_fit_summary = dat\n",
    "print(dim(dat))\n",
    "fun_display_table(head(dat))"
   ]
  },
  {
   "cell_type": "markdown",
   "id": "c179f6b9-027c-4b3b-89e6-ee50bbadeb67",
   "metadata": {},
   "source": [
    "## Write results"
   ]
  },
  {
   "cell_type": "code",
   "execution_count": 7,
   "id": "5eca131b-709a-40ed-af63-434af0844978",
   "metadata": {},
   "outputs": [],
   "source": [
    "txt_fdiry = file.path(\n",
    "    FD_RES, \n",
    "    \"region_integration\",\n",
    "    \"fcc_astarr_macs_input_overlap\",\n",
    "    \"analysis_enrichment_v2\",\n",
    "    \"fcc_starrmpracrispri_vote2_phenograph_neighbors070\"\n",
    ")\n",
    "txt_fname = \"results.enrich.fcc_cluster_vs_others.perm_n10k.tsv\"\n",
    "txt_fpath = file.path(txt_fdiry, txt_fname)\n",
    "\n",
    "dat = dat_fit_summary\n",
    "write_tsv(dat, txt_fpath)"
   ]
  },
  {
   "cell_type": "code",
   "execution_count": null,
   "id": "5a845ded-eef4-4ce2-8b56-0418303d5df0",
   "metadata": {},
   "outputs": [],
   "source": []
  }
 ],
 "metadata": {
  "kernelspec": {
   "display_name": "R",
   "language": "R",
   "name": "ir"
  },
  "language_info": {
   "codemirror_mode": "r",
   "file_extension": ".r",
   "mimetype": "text/x-r-source",
   "name": "R",
   "pygments_lexer": "r",
   "version": "4.4.2"
  }
 },
 "nbformat": 4,
 "nbformat_minor": 5
}
