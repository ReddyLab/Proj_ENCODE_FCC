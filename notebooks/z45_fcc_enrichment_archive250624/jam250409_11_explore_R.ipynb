{
 "cells": [
  {
   "cell_type": "raw",
   "id": "299811d8-c6d9-490a-b588-15947f1a4364",
   "metadata": {},
   "source": [
    "---\n",
    "title: Region annotation 11 (ASTARR MACS peaks)\n",
    "subtitle: Summarize annotations (Main)\n",
    "format:\n",
    "    html:\n",
    "        code-fold:  true\n",
    "        code-tools: true\n",
    "---"
   ]
  },
  {
   "cell_type": "markdown",
   "id": "83bd4b96-dba0-4e61-9a05-4f8ea5b9f6b5",
   "metadata": {},
   "source": [
    "**Set environment**"
   ]
  },
  {
   "cell_type": "code",
   "execution_count": 1,
   "id": "62eaf29e-61b5-4c69-8d43-e62a80196af7",
   "metadata": {
    "tags": []
   },
   "outputs": [
    {
     "name": "stdout",
     "output_type": "stream",
     "text": [
      "You are working on        Singularity: singularity_proj_encode_fcc \n",
      "BASE DIRECTORY (FD_BASE): /data/reddylab/Kuei \n",
      "REPO DIRECTORY (FD_REPO): /data/reddylab/Kuei/repo \n",
      "WORK DIRECTORY (FD_WORK): /data/reddylab/Kuei/work \n",
      "DATA DIRECTORY (FD_DATA): /data/reddylab/Kuei/data \n",
      "\n",
      "You are working with      ENCODE FCC \n",
      "PATH OF PROJECT (FD_PRJ): /data/reddylab/Kuei/repo/Proj_ENCODE_FCC \n",
      "PROJECT RESULTS (FD_RES): /data/reddylab/Kuei/repo/Proj_ENCODE_FCC/results \n",
      "PROJECT SCRIPTS (FD_EXE): /data/reddylab/Kuei/repo/Proj_ENCODE_FCC/scripts \n",
      "PROJECT DATA    (FD_DAT): /data/reddylab/Kuei/repo/Proj_ENCODE_FCC/data \n",
      "PROJECT NOTE    (FD_NBK): /data/reddylab/Kuei/repo/Proj_ENCODE_FCC/notebooks \n",
      "PROJECT DOCS    (FD_DOC): /data/reddylab/Kuei/repo/Proj_ENCODE_FCC/docs \n",
      "PROJECT LOG     (FD_LOG): /data/reddylab/Kuei/repo/Proj_ENCODE_FCC/log \n",
      "PROJECT REF     (FD_REF): /data/reddylab/Kuei/repo/Proj_ENCODE_FCC/references \n",
      "\n"
     ]
    }
   ],
   "source": [
    "suppressMessages(suppressWarnings(source(\"../run_config_project_sing.R\")))\n",
    "show_env()"
   ]
  },
  {
   "cell_type": "markdown",
   "id": "d444ed01-2520-4bef-95f2-7a6c9849314d",
   "metadata": {},
   "source": [
    "## Import data"
   ]
  },
  {
   "cell_type": "code",
   "execution_count": 3,
   "id": "23226979-f388-4c1b-9c57-27d974c84ecc",
   "metadata": {},
   "outputs": [
    {
     "name": "stderr",
     "output_type": "stream",
     "text": [
      "\u001b[1mRows: \u001b[22m\u001b[34m2084\u001b[39m \u001b[1mColumns: \u001b[22m\u001b[34m6\u001b[39m\n",
      "\u001b[36m──\u001b[39m \u001b[1mColumn specification\u001b[22m \u001b[36m────────────────────────────────────────────────────\u001b[39m\n",
      "\u001b[1mDelimiter:\u001b[22m \"\\t\"\n",
      "\u001b[31mchr\u001b[39m (2): Group, Feature\n",
      "\u001b[32mdbl\u001b[39m (4): Stat, Pval, Score, Padj\n",
      "\n",
      "\u001b[36mℹ\u001b[39m Use `spec()` to retrieve the full column specification for this data.\n",
      "\u001b[36mℹ\u001b[39m Specify the column types or set `show_col_types = FALSE` to quiet this message.\n"
     ]
    },
    {
     "name": "stdout",
     "output_type": "stream",
     "text": [
      "[1] 2084    6\n"
     ]
    },
    {
     "data": {
      "text/html": [
       "<table class=\"dataframe\">\n",
       "<caption>A tibble: 6 × 6</caption>\n",
       "<thead>\n",
       "\t<tr><th scope=col>Group</th><th scope=col>Feature</th><th scope=col>Stat</th><th scope=col>Pval</th><th scope=col>Score</th><th scope=col>Padj</th></tr>\n",
       "\t<tr><th scope=col>&lt;chr&gt;</th><th scope=col>&lt;chr&gt;</th><th scope=col>&lt;dbl&gt;</th><th scope=col>&lt;dbl&gt;</th><th scope=col>&lt;dbl&gt;</th><th scope=col>&lt;dbl&gt;</th></tr>\n",
       "</thead>\n",
       "<tbody>\n",
       "\t<tr><td>Distal:Active</td><td>H2AFZ   </td><td> 45.036759</td><td>0</td><td> 2.22870227</td><td>0</td></tr>\n",
       "\t<tr><td>Distal:Active</td><td>H3K27ac </td><td> 37.755824</td><td>0</td><td> 1.70492830</td><td>0</td></tr>\n",
       "\t<tr><td>Distal:Active</td><td>H3K27me3</td><td> -6.310267</td><td>0</td><td>-1.46508623</td><td>0</td></tr>\n",
       "\t<tr><td>Distal:Active</td><td>H3K36me3</td><td>-17.250558</td><td>0</td><td>-2.25210593</td><td>0</td></tr>\n",
       "\t<tr><td>Distal:Active</td><td>H3K4me1 </td><td> 15.026241</td><td>0</td><td> 0.06981372</td><td>0</td></tr>\n",
       "\t<tr><td>Distal:Active</td><td>H3K4me2 </td><td> 38.867563</td><td>0</td><td> 1.78490428</td><td>0</td></tr>\n",
       "</tbody>\n",
       "</table>\n"
      ],
      "text/latex": [
       "A tibble: 6 × 6\n",
       "\\begin{tabular}{llllll}\n",
       " Group & Feature & Stat & Pval & Score & Padj\\\\\n",
       " <chr> & <chr> & <dbl> & <dbl> & <dbl> & <dbl>\\\\\n",
       "\\hline\n",
       "\t Distal:Active & H2AFZ    &  45.036759 & 0 &  2.22870227 & 0\\\\\n",
       "\t Distal:Active & H3K27ac  &  37.755824 & 0 &  1.70492830 & 0\\\\\n",
       "\t Distal:Active & H3K27me3 &  -6.310267 & 0 & -1.46508623 & 0\\\\\n",
       "\t Distal:Active & H3K36me3 & -17.250558 & 0 & -2.25210593 & 0\\\\\n",
       "\t Distal:Active & H3K4me1  &  15.026241 & 0 &  0.06981372 & 0\\\\\n",
       "\t Distal:Active & H3K4me2  &  38.867563 & 0 &  1.78490428 & 0\\\\\n",
       "\\end{tabular}\n"
      ],
      "text/markdown": [
       "\n",
       "A tibble: 6 × 6\n",
       "\n",
       "| Group &lt;chr&gt; | Feature &lt;chr&gt; | Stat &lt;dbl&gt; | Pval &lt;dbl&gt; | Score &lt;dbl&gt; | Padj &lt;dbl&gt; |\n",
       "|---|---|---|---|---|---|\n",
       "| Distal:Active | H2AFZ    |  45.036759 | 0 |  2.22870227 | 0 |\n",
       "| Distal:Active | H3K27ac  |  37.755824 | 0 |  1.70492830 | 0 |\n",
       "| Distal:Active | H3K27me3 |  -6.310267 | 0 | -1.46508623 | 0 |\n",
       "| Distal:Active | H3K36me3 | -17.250558 | 0 | -2.25210593 | 0 |\n",
       "| Distal:Active | H3K4me1  |  15.026241 | 0 |  0.06981372 | 0 |\n",
       "| Distal:Active | H3K4me2  |  38.867563 | 0 |  1.78490428 | 0 |\n",
       "\n"
      ],
      "text/plain": [
       "  Group         Feature  Stat       Pval Score       Padj\n",
       "1 Distal:Active H2AFZ     45.036759 0     2.22870227 0   \n",
       "2 Distal:Active H3K27ac   37.755824 0     1.70492830 0   \n",
       "3 Distal:Active H3K27me3  -6.310267 0    -1.46508623 0   \n",
       "4 Distal:Active H3K36me3 -17.250558 0    -2.25210593 0   \n",
       "5 Distal:Active H3K4me1   15.026241 0     0.06981372 0   \n",
       "6 Distal:Active H3K4me2   38.867563 0     1.78490428 0   "
      ]
     },
     "metadata": {},
     "output_type": "display_data"
    }
   ],
   "source": [
    "txt_fdiry = file.path(\n",
    "    FD_RES, \n",
    "    \"region_integration\",\n",
    "    \"fcc_astarr_macs_input_overlap\",\n",
    "    \"analysis_enrichment_v2\",\n",
    "    \"fcc_starrmpra_vote2_v2_split_pool_by_tss\"\n",
    ")\n",
    "txt_fname = \"results.enrich.fcc_active_vs_inactive.perm_n10k.tsv\"\n",
    "txt_fpath = file.path(txt_fdiry, txt_fname)\n",
    "\n",
    "dat = read_tsv(txt_fpath)\n",
    "\n",
    "dat_fit_summary = dat\n",
    "print(dim(dat))\n",
    "head(dat)"
   ]
  },
  {
   "cell_type": "code",
   "execution_count": null,
   "id": "6ab19251-1720-4426-8d7c-c2702beeffb5",
   "metadata": {},
   "outputs": [],
   "source": []
  }
 ],
 "metadata": {
  "kernelspec": {
   "display_name": "R",
   "language": "R",
   "name": "ir"
  },
  "language_info": {
   "codemirror_mode": "r",
   "file_extension": ".r",
   "mimetype": "text/x-r-source",
   "name": "R",
   "pygments_lexer": "r",
   "version": "4.4.2"
  }
 },
 "nbformat": 4,
 "nbformat_minor": 5
}
