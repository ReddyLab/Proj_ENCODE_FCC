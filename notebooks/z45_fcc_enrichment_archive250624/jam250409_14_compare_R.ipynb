{
 "cells": [
  {
   "cell_type": "raw",
   "id": "d324e70e-cc10-4621-9d67-cce288bd585b",
   "metadata": {},
   "source": [
    "---\n",
    "title: Region annotation 11 (ASTARR MACS peaks)\n",
    "subtitle: Summarize annotations (Main)\n",
    "format:\n",
    "    html:\n",
    "        code-fold:  true\n",
    "        code-tools: true\n",
    "---"
   ]
  },
  {
   "cell_type": "markdown",
   "id": "94d6c180-72ca-48b7-9d1e-f0b3fb5d5322",
   "metadata": {},
   "source": [
    "**Set environment**"
   ]
  },
  {
   "cell_type": "code",
   "execution_count": 1,
   "id": "f668fb03-1915-4b47-bcbd-755df6dafd42",
   "metadata": {
    "tags": []
   },
   "outputs": [
    {
     "name": "stdout",
     "output_type": "stream",
     "text": [
      "You are working on        Singularity: singularity_proj_encode_fcc \n",
      "BASE DIRECTORY (FD_BASE): /data/reddylab/Kuei \n",
      "REPO DIRECTORY (FD_REPO): /data/reddylab/Kuei/repo \n",
      "WORK DIRECTORY (FD_WORK): /data/reddylab/Kuei/work \n",
      "DATA DIRECTORY (FD_DATA): /data/reddylab/Kuei/data \n",
      "\n",
      "You are working with      ENCODE FCC \n",
      "PATH OF PROJECT (FD_PRJ): /data/reddylab/Kuei/repo/Proj_ENCODE_FCC \n",
      "PROJECT RESULTS (FD_RES): /data/reddylab/Kuei/repo/Proj_ENCODE_FCC/results \n",
      "PROJECT SCRIPTS (FD_EXE): /data/reddylab/Kuei/repo/Proj_ENCODE_FCC/scripts \n",
      "PROJECT DATA    (FD_DAT): /data/reddylab/Kuei/repo/Proj_ENCODE_FCC/data \n",
      "PROJECT NOTE    (FD_NBK): /data/reddylab/Kuei/repo/Proj_ENCODE_FCC/notebooks \n",
      "PROJECT DOCS    (FD_DOC): /data/reddylab/Kuei/repo/Proj_ENCODE_FCC/docs \n",
      "PROJECT LOG     (FD_LOG): /data/reddylab/Kuei/repo/Proj_ENCODE_FCC/log \n",
      "PROJECT REF     (FD_REF): /data/reddylab/Kuei/repo/Proj_ENCODE_FCC/references \n",
      "\n"
     ]
    }
   ],
   "source": [
    "suppressMessages(suppressWarnings(source(\"../run_config_project_sing.R\")))\n",
    "show_env()"
   ]
  },
  {
   "cell_type": "markdown",
   "id": "38fc25b9-d6b4-46a0-b232-9ad9998b31e8",
   "metadata": {},
   "source": [
    "## Import data"
   ]
  },
  {
   "cell_type": "code",
   "execution_count": 6,
   "id": "e60861a0-ffaf-47e1-9402-222c56c39c9d",
   "metadata": {},
   "outputs": [
    {
     "name": "stdout",
     "output_type": "stream",
     "text": [
      "[1] 2084    6\n"
     ]
    },
    {
     "data": {
      "text/html": [
       "<table class=\"dataframe\">\n",
       "<caption>A tibble: 6 × 6</caption>\n",
       "<thead>\n",
       "\t<tr><th scope=col>Group</th><th scope=col>Feature</th><th scope=col>Stat</th><th scope=col>Pval</th><th scope=col>Score</th><th scope=col>Padj</th></tr>\n",
       "\t<tr><th scope=col>&lt;chr&gt;</th><th scope=col>&lt;chr&gt;</th><th scope=col>&lt;dbl&gt;</th><th scope=col>&lt;dbl&gt;</th><th scope=col>&lt;dbl&gt;</th><th scope=col>&lt;dbl&gt;</th></tr>\n",
       "</thead>\n",
       "<tbody>\n",
       "\t<tr><td>Enhancer</td><td>H2AFZ   </td><td> 35.764202</td><td>0.0000</td><td> 1.6208491</td><td>0.000000000</td></tr>\n",
       "\t<tr><td>Enhancer</td><td>H3K27ac </td><td> 28.537164</td><td>0.0000</td><td> 1.1127810</td><td>0.000000000</td></tr>\n",
       "\t<tr><td>Enhancer</td><td>H3K27me3</td><td> -2.765306</td><td>0.0049</td><td>-1.0878141</td><td>0.005574017</td></tr>\n",
       "\t<tr><td>Enhancer</td><td>H3K36me3</td><td>-14.052677</td><td>0.0000</td><td>-1.8813276</td><td>0.000000000</td></tr>\n",
       "\t<tr><td>Enhancer</td><td>H3K4me1 </td><td> 22.520019</td><td>0.0000</td><td> 0.6897697</td><td>0.000000000</td></tr>\n",
       "\t<tr><td>Enhancer</td><td>H3K4me2 </td><td> 28.681501</td><td>0.0000</td><td> 1.1229281</td><td>0.000000000</td></tr>\n",
       "</tbody>\n",
       "</table>\n"
      ],
      "text/latex": [
       "A tibble: 6 × 6\n",
       "\\begin{tabular}{llllll}\n",
       " Group & Feature & Stat & Pval & Score & Padj\\\\\n",
       " <chr> & <chr> & <dbl> & <dbl> & <dbl> & <dbl>\\\\\n",
       "\\hline\n",
       "\t Enhancer & H2AFZ    &  35.764202 & 0.0000 &  1.6208491 & 0.000000000\\\\\n",
       "\t Enhancer & H3K27ac  &  28.537164 & 0.0000 &  1.1127810 & 0.000000000\\\\\n",
       "\t Enhancer & H3K27me3 &  -2.765306 & 0.0049 & -1.0878141 & 0.005574017\\\\\n",
       "\t Enhancer & H3K36me3 & -14.052677 & 0.0000 & -1.8813276 & 0.000000000\\\\\n",
       "\t Enhancer & H3K4me1  &  22.520019 & 0.0000 &  0.6897697 & 0.000000000\\\\\n",
       "\t Enhancer & H3K4me2  &  28.681501 & 0.0000 &  1.1229281 & 0.000000000\\\\\n",
       "\\end{tabular}\n"
      ],
      "text/markdown": [
       "\n",
       "A tibble: 6 × 6\n",
       "\n",
       "| Group &lt;chr&gt; | Feature &lt;chr&gt; | Stat &lt;dbl&gt; | Pval &lt;dbl&gt; | Score &lt;dbl&gt; | Padj &lt;dbl&gt; |\n",
       "|---|---|---|---|---|---|\n",
       "| Enhancer | H2AFZ    |  35.764202 | 0.0000 |  1.6208491 | 0.000000000 |\n",
       "| Enhancer | H3K27ac  |  28.537164 | 0.0000 |  1.1127810 | 0.000000000 |\n",
       "| Enhancer | H3K27me3 |  -2.765306 | 0.0049 | -1.0878141 | 0.005574017 |\n",
       "| Enhancer | H3K36me3 | -14.052677 | 0.0000 | -1.8813276 | 0.000000000 |\n",
       "| Enhancer | H3K4me1  |  22.520019 | 0.0000 |  0.6897697 | 0.000000000 |\n",
       "| Enhancer | H3K4me2  |  28.681501 | 0.0000 |  1.1229281 | 0.000000000 |\n",
       "\n"
      ],
      "text/plain": [
       "  Group    Feature  Stat       Pval   Score      Padj       \n",
       "1 Enhancer H2AFZ     35.764202 0.0000  1.6208491 0.000000000\n",
       "2 Enhancer H3K27ac   28.537164 0.0000  1.1127810 0.000000000\n",
       "3 Enhancer H3K27me3  -2.765306 0.0049 -1.0878141 0.005574017\n",
       "4 Enhancer H3K36me3 -14.052677 0.0000 -1.8813276 0.000000000\n",
       "5 Enhancer H3K4me1   22.520019 0.0000  0.6897697 0.000000000\n",
       "6 Enhancer H3K4me2   28.681501 0.0000  1.1229281 0.000000000"
      ]
     },
     "metadata": {},
     "output_type": "display_data"
    }
   ],
   "source": [
    "txt_fdiry = file.path(\n",
    "    FD_RES, \n",
    "    \"region_integration\",\n",
    "    \"fcc_astarr_macs_input_overlap\",\n",
    "    \"analysis_enrichment_v2\"\n",
    ")\n",
    "txt_fname = \"results.enrich.fcc_active_vs_inactive.perm_n10k.tsv\"\n",
    "txt_fpath = file.path(txt_fdiry, txt_fname)\n",
    "\n",
    "dat = read_tsv(txt_fpath, show_col_types = FALSE)\n",
    "\n",
    "dat_fit_summary_v1 = dat\n",
    "print(dim(dat))\n",
    "head(dat)"
   ]
  },
  {
   "cell_type": "code",
   "execution_count": 4,
   "id": "3bbecab4-b37b-4030-a15c-daf56c2eaff0",
   "metadata": {},
   "outputs": [
    {
     "name": "stdout",
     "output_type": "stream",
     "text": [
      "[1] 2084    6\n"
     ]
    },
    {
     "data": {
      "text/html": [
       "<table class=\"dataframe\">\n",
       "<caption>A tibble: 6 × 6</caption>\n",
       "<thead>\n",
       "\t<tr><th scope=col>Group</th><th scope=col>Feature</th><th scope=col>Stat</th><th scope=col>Pval</th><th scope=col>Score</th><th scope=col>Padj</th></tr>\n",
       "\t<tr><th scope=col>&lt;chr&gt;</th><th scope=col>&lt;chr&gt;</th><th scope=col>&lt;dbl&gt;</th><th scope=col>&lt;dbl&gt;</th><th scope=col>&lt;dbl&gt;</th><th scope=col>&lt;dbl&gt;</th></tr>\n",
       "</thead>\n",
       "<tbody>\n",
       "\t<tr><td>Distal:Active</td><td>H2AFZ   </td><td> 45.036759</td><td>0</td><td> 2.22870227</td><td>0</td></tr>\n",
       "\t<tr><td>Distal:Active</td><td>H3K27ac </td><td> 37.755824</td><td>0</td><td> 1.70492830</td><td>0</td></tr>\n",
       "\t<tr><td>Distal:Active</td><td>H3K27me3</td><td> -6.310267</td><td>0</td><td>-1.46508623</td><td>0</td></tr>\n",
       "\t<tr><td>Distal:Active</td><td>H3K36me3</td><td>-17.250558</td><td>0</td><td>-2.25210593</td><td>0</td></tr>\n",
       "\t<tr><td>Distal:Active</td><td>H3K4me1 </td><td> 15.026241</td><td>0</td><td> 0.06981372</td><td>0</td></tr>\n",
       "\t<tr><td>Distal:Active</td><td>H3K4me2 </td><td> 38.867563</td><td>0</td><td> 1.78490428</td><td>0</td></tr>\n",
       "</tbody>\n",
       "</table>\n"
      ],
      "text/latex": [
       "A tibble: 6 × 6\n",
       "\\begin{tabular}{llllll}\n",
       " Group & Feature & Stat & Pval & Score & Padj\\\\\n",
       " <chr> & <chr> & <dbl> & <dbl> & <dbl> & <dbl>\\\\\n",
       "\\hline\n",
       "\t Distal:Active & H2AFZ    &  45.036759 & 0 &  2.22870227 & 0\\\\\n",
       "\t Distal:Active & H3K27ac  &  37.755824 & 0 &  1.70492830 & 0\\\\\n",
       "\t Distal:Active & H3K27me3 &  -6.310267 & 0 & -1.46508623 & 0\\\\\n",
       "\t Distal:Active & H3K36me3 & -17.250558 & 0 & -2.25210593 & 0\\\\\n",
       "\t Distal:Active & H3K4me1  &  15.026241 & 0 &  0.06981372 & 0\\\\\n",
       "\t Distal:Active & H3K4me2  &  38.867563 & 0 &  1.78490428 & 0\\\\\n",
       "\\end{tabular}\n"
      ],
      "text/markdown": [
       "\n",
       "A tibble: 6 × 6\n",
       "\n",
       "| Group &lt;chr&gt; | Feature &lt;chr&gt; | Stat &lt;dbl&gt; | Pval &lt;dbl&gt; | Score &lt;dbl&gt; | Padj &lt;dbl&gt; |\n",
       "|---|---|---|---|---|---|\n",
       "| Distal:Active | H2AFZ    |  45.036759 | 0 |  2.22870227 | 0 |\n",
       "| Distal:Active | H3K27ac  |  37.755824 | 0 |  1.70492830 | 0 |\n",
       "| Distal:Active | H3K27me3 |  -6.310267 | 0 | -1.46508623 | 0 |\n",
       "| Distal:Active | H3K36me3 | -17.250558 | 0 | -2.25210593 | 0 |\n",
       "| Distal:Active | H3K4me1  |  15.026241 | 0 |  0.06981372 | 0 |\n",
       "| Distal:Active | H3K4me2  |  38.867563 | 0 |  1.78490428 | 0 |\n",
       "\n"
      ],
      "text/plain": [
       "  Group         Feature  Stat       Pval Score       Padj\n",
       "1 Distal:Active H2AFZ     45.036759 0     2.22870227 0   \n",
       "2 Distal:Active H3K27ac   37.755824 0     1.70492830 0   \n",
       "3 Distal:Active H3K27me3  -6.310267 0    -1.46508623 0   \n",
       "4 Distal:Active H3K36me3 -17.250558 0    -2.25210593 0   \n",
       "5 Distal:Active H3K4me1   15.026241 0     0.06981372 0   \n",
       "6 Distal:Active H3K4me2   38.867563 0     1.78490428 0   "
      ]
     },
     "metadata": {},
     "output_type": "display_data"
    }
   ],
   "source": [
    "txt_fdiry = file.path(\n",
    "    FD_RES, \n",
    "    \"region_integration\",\n",
    "    \"fcc_astarr_macs_input_overlap\",\n",
    "    \"analysis_enrichment_v2\",\n",
    "    \"fcc_starrmpra_vote2_v2_split_pool_by_tss\"\n",
    ")\n",
    "txt_fname = \"results.enrich.fcc_active_vs_inactive.perm_n10k.tsv\"\n",
    "txt_fpath = file.path(txt_fdiry, txt_fname)\n",
    "\n",
    "dat = read_tsv(txt_fpath, show_col_types = FALSE)\n",
    "\n",
    "dat_fit_summary_v2 = dat\n",
    "print(dim(dat))\n",
    "head(dat)"
   ]
  },
  {
   "cell_type": "markdown",
   "id": "0f65d8d5-ff4c-4060-a510-a9f8158954ca",
   "metadata": {},
   "source": [
    "## Arrange"
   ]
  },
  {
   "cell_type": "code",
   "execution_count": 13,
   "id": "5f35a08b-1485-4d66-83af-0267f9222d74",
   "metadata": {},
   "outputs": [
    {
     "name": "stdout",
     "output_type": "stream",
     "text": [
      "[1] 521   5\n"
     ]
    },
    {
     "data": {
      "text/html": [
       "<table class=\"dataframe\">\n",
       "<caption>A tibble: 3 × 5</caption>\n",
       "<thead>\n",
       "\t<tr><th scope=col>Feature</th><th scope=col>Distal:Active (Original)</th><th scope=col>Distal:Repressive (Original)</th><th scope=col>Proximal:Active (Original)</th><th scope=col>Proximal:Repressive (Original)</th></tr>\n",
       "\t<tr><th scope=col>&lt;chr&gt;</th><th scope=col>&lt;dbl&gt;</th><th scope=col>&lt;dbl&gt;</th><th scope=col>&lt;dbl&gt;</th><th scope=col>&lt;dbl&gt;</th></tr>\n",
       "</thead>\n",
       "<tbody>\n",
       "\t<tr><td>ADNP</td><td> 0.0334965</td><td>-0.3917924</td><td>-1.3517029</td><td> 1.40896695</td></tr>\n",
       "\t<tr><td>AFF1</td><td> 0.7363873</td><td> 1.7377852</td><td> 0.9118609</td><td>-0.11484474</td></tr>\n",
       "\t<tr><td>AFF4</td><td>-0.5878003</td><td> 1.3894350</td><td> 0.7446663</td><td> 0.08706335</td></tr>\n",
       "</tbody>\n",
       "</table>\n"
      ],
      "text/latex": [
       "A tibble: 3 × 5\n",
       "\\begin{tabular}{lllll}\n",
       " Feature & Distal:Active (Original) & Distal:Repressive (Original) & Proximal:Active (Original) & Proximal:Repressive (Original)\\\\\n",
       " <chr> & <dbl> & <dbl> & <dbl> & <dbl>\\\\\n",
       "\\hline\n",
       "\t ADNP &  0.0334965 & -0.3917924 & -1.3517029 &  1.40896695\\\\\n",
       "\t AFF1 &  0.7363873 &  1.7377852 &  0.9118609 & -0.11484474\\\\\n",
       "\t AFF4 & -0.5878003 &  1.3894350 &  0.7446663 &  0.08706335\\\\\n",
       "\\end{tabular}\n"
      ],
      "text/markdown": [
       "\n",
       "A tibble: 3 × 5\n",
       "\n",
       "| Feature &lt;chr&gt; | Distal:Active (Original) &lt;dbl&gt; | Distal:Repressive (Original) &lt;dbl&gt; | Proximal:Active (Original) &lt;dbl&gt; | Proximal:Repressive (Original) &lt;dbl&gt; |\n",
       "|---|---|---|---|---|\n",
       "| ADNP |  0.0334965 | -0.3917924 | -1.3517029 |  1.40896695 |\n",
       "| AFF1 |  0.7363873 |  1.7377852 |  0.9118609 | -0.11484474 |\n",
       "| AFF4 | -0.5878003 |  1.3894350 |  0.7446663 |  0.08706335 |\n",
       "\n"
      ],
      "text/plain": [
       "  Feature Distal:Active (Original) Distal:Repressive (Original)\n",
       "1 ADNP     0.0334965               -0.3917924                  \n",
       "2 AFF1     0.7363873                1.7377852                  \n",
       "3 AFF4    -0.5878003                1.3894350                  \n",
       "  Proximal:Active (Original) Proximal:Repressive (Original)\n",
       "1 -1.3517029                  1.40896695                   \n",
       "2  0.9118609                 -0.11484474                   \n",
       "3  0.7446663                  0.08706335                   "
      ]
     },
     "metadata": {},
     "output_type": "display_data"
    }
   ],
   "source": [
    "fun_str_map = function(vec_txt_input){\n",
    "    vec_txt_pattern = c(\"Enhancer\", \"Silencer\", \"TSS:Enhancer\", \"TSS:Silencer\")\n",
    "    vec_txt_replace = c(\"Distal:Active\", \"Distal:Repressive\", \"Proximal:Active\", \"Proximal:Repressive\")\n",
    "    vec_txt_output = fun_str_map_match(\n",
    "        vec_txt_input,\n",
    "        vec_txt_pattern,\n",
    "        vec_txt_replace\n",
    "    )\n",
    "    return(vec_txt_output)\n",
    "}\n",
    "\n",
    "dat = dat_fit_summary_v1\n",
    "dat = dat %>% dplyr::mutate(Note = fun_str_map(Group))\n",
    "dat = dat %>% dplyr::mutate(Note = paste(Note, \"(Original)\"))\n",
    "\n",
    "dat = dat %>% \n",
    "    dplyr::select(Note, Score, Feature) %>%\n",
    "    tidyr::spread(Note, Score)\n",
    "\n",
    "mat_fit_summary_v1 = dat\n",
    "print(dim(dat))\n",
    "head(dat, 3)"
   ]
  },
  {
   "cell_type": "code",
   "execution_count": 14,
   "id": "a9b7e148-9cc3-4ee7-85f4-b413e10b721a",
   "metadata": {},
   "outputs": [
    {
     "name": "stdout",
     "output_type": "stream",
     "text": [
      "[1] 521   5\n"
     ]
    },
    {
     "data": {
      "text/html": [
       "<table class=\"dataframe\">\n",
       "<caption>A tibble: 3 × 5</caption>\n",
       "<thead>\n",
       "\t<tr><th scope=col>Feature</th><th scope=col>Distal:Active (Updated)</th><th scope=col>Distal:Repressive (Updated)</th><th scope=col>Proximal:Active (Updated)</th><th scope=col>Proximal:Repressive (Updated)</th></tr>\n",
       "\t<tr><th scope=col>&lt;chr&gt;</th><th scope=col>&lt;dbl&gt;</th><th scope=col>&lt;dbl&gt;</th><th scope=col>&lt;dbl&gt;</th><th scope=col>&lt;dbl&gt;</th></tr>\n",
       "</thead>\n",
       "<tbody>\n",
       "\t<tr><td>ADNP</td><td>-0.3393810</td><td>-0.6681893</td><td>-0.4835816</td><td>-0.5908073</td></tr>\n",
       "\t<tr><td>AFF1</td><td> 0.8897125</td><td> 1.9023256</td><td> 0.7145601</td><td> 0.5975251</td></tr>\n",
       "\t<tr><td>AFF4</td><td>-0.2733422</td><td> 1.3168284</td><td> 0.1230323</td><td>-1.0332922</td></tr>\n",
       "</tbody>\n",
       "</table>\n"
      ],
      "text/latex": [
       "A tibble: 3 × 5\n",
       "\\begin{tabular}{lllll}\n",
       " Feature & Distal:Active (Updated) & Distal:Repressive (Updated) & Proximal:Active (Updated) & Proximal:Repressive (Updated)\\\\\n",
       " <chr> & <dbl> & <dbl> & <dbl> & <dbl>\\\\\n",
       "\\hline\n",
       "\t ADNP & -0.3393810 & -0.6681893 & -0.4835816 & -0.5908073\\\\\n",
       "\t AFF1 &  0.8897125 &  1.9023256 &  0.7145601 &  0.5975251\\\\\n",
       "\t AFF4 & -0.2733422 &  1.3168284 &  0.1230323 & -1.0332922\\\\\n",
       "\\end{tabular}\n"
      ],
      "text/markdown": [
       "\n",
       "A tibble: 3 × 5\n",
       "\n",
       "| Feature &lt;chr&gt; | Distal:Active (Updated) &lt;dbl&gt; | Distal:Repressive (Updated) &lt;dbl&gt; | Proximal:Active (Updated) &lt;dbl&gt; | Proximal:Repressive (Updated) &lt;dbl&gt; |\n",
       "|---|---|---|---|---|\n",
       "| ADNP | -0.3393810 | -0.6681893 | -0.4835816 | -0.5908073 |\n",
       "| AFF1 |  0.8897125 |  1.9023256 |  0.7145601 |  0.5975251 |\n",
       "| AFF4 | -0.2733422 |  1.3168284 |  0.1230323 | -1.0332922 |\n",
       "\n"
      ],
      "text/plain": [
       "  Feature Distal:Active (Updated) Distal:Repressive (Updated)\n",
       "1 ADNP    -0.3393810              -0.6681893                 \n",
       "2 AFF1     0.8897125               1.9023256                 \n",
       "3 AFF4    -0.2733422               1.3168284                 \n",
       "  Proximal:Active (Updated) Proximal:Repressive (Updated)\n",
       "1 -0.4835816                -0.5908073                   \n",
       "2  0.7145601                 0.5975251                   \n",
       "3  0.1230323                -1.0332922                   "
      ]
     },
     "metadata": {},
     "output_type": "display_data"
    }
   ],
   "source": [
    "dat = dat_fit_summary_v2\n",
    "dat = dat %>% dplyr::mutate(Note = Group)\n",
    "dat = dat %>% dplyr::mutate(Note = paste(Note, \"(Updated)\"))\n",
    "\n",
    "dat = dat %>% \n",
    "    dplyr::select(Note, Score, Feature) %>%\n",
    "    tidyr::spread(Note, Score)\n",
    "\n",
    "mat_fit_summary_v2 = dat\n",
    "print(dim(dat))\n",
    "head(dat, 3)"
   ]
  },
  {
   "cell_type": "markdown",
   "id": "128f7076-71a5-4715-9d2d-46cc66d65b07",
   "metadata": {},
   "source": [
    "## Correlation"
   ]
  },
  {
   "cell_type": "code",
   "execution_count": 19,
   "id": "6956ac18-e4dd-43f1-b8b1-120342f75076",
   "metadata": {},
   "outputs": [
    {
     "data": {
      "text/html": [
       "<table class=\"dataframe\">\n",
       "<caption>A data.frame: 6 × 8</caption>\n",
       "<thead>\n",
       "\t<tr><th></th><th scope=col>Distal:Active (Original)</th><th scope=col>Distal:Repressive (Original)</th><th scope=col>Proximal:Active (Original)</th><th scope=col>Proximal:Repressive (Original)</th><th scope=col>Distal:Active (Updated)</th><th scope=col>Distal:Repressive (Updated)</th><th scope=col>Proximal:Active (Updated)</th><th scope=col>Proximal:Repressive (Updated)</th></tr>\n",
       "\t<tr><th></th><th scope=col>&lt;dbl&gt;</th><th scope=col>&lt;dbl&gt;</th><th scope=col>&lt;dbl&gt;</th><th scope=col>&lt;dbl&gt;</th><th scope=col>&lt;dbl&gt;</th><th scope=col>&lt;dbl&gt;</th><th scope=col>&lt;dbl&gt;</th><th scope=col>&lt;dbl&gt;</th></tr>\n",
       "</thead>\n",
       "<tbody>\n",
       "\t<tr><th scope=row>ADNP</th><td> 0.0334965</td><td>-0.3917924</td><td>-1.3517029</td><td> 1.408966947</td><td>-0.3393810</td><td>-0.6681893</td><td>-0.48358159</td><td>-0.5908073</td></tr>\n",
       "\t<tr><th scope=row>AFF1</th><td> 0.7363873</td><td> 1.7377852</td><td> 0.9118609</td><td>-0.114844739</td><td> 0.8897125</td><td> 1.9023256</td><td> 0.71456008</td><td> 0.5975251</td></tr>\n",
       "\t<tr><th scope=row>AFF4</th><td>-0.5878003</td><td> 1.3894350</td><td> 0.7446663</td><td> 0.087063354</td><td>-0.2733422</td><td> 1.3168284</td><td> 0.12303230</td><td>-1.0332922</td></tr>\n",
       "\t<tr><th scope=row>AGO1</th><td>-2.0571666</td><td>-0.8817062</td><td>-0.1047192</td><td> 0.064772672</td><td>-1.7689214</td><td>-1.3036737</td><td>-1.48061482</td><td> 0.4041109</td></tr>\n",
       "\t<tr><th scope=row>ARHGAP35</th><td>-1.6621354</td><td> 0.7598008</td><td>-0.6919002</td><td> 0.007437697</td><td>-1.9515905</td><td> 0.9158649</td><td>-0.59849034</td><td> 0.5974532</td></tr>\n",
       "\t<tr><th scope=row>ARID1B</th><td> 1.6125474</td><td>-0.9264129</td><td>-2.1073090</td><td>-0.668621889</td><td> 1.1521080</td><td>-1.5705961</td><td>-0.08985721</td><td>-1.0980627</td></tr>\n",
       "</tbody>\n",
       "</table>\n"
      ],
      "text/latex": [
       "A data.frame: 6 × 8\n",
       "\\begin{tabular}{r|llllllll}\n",
       "  & Distal:Active (Original) & Distal:Repressive (Original) & Proximal:Active (Original) & Proximal:Repressive (Original) & Distal:Active (Updated) & Distal:Repressive (Updated) & Proximal:Active (Updated) & Proximal:Repressive (Updated)\\\\\n",
       "  & <dbl> & <dbl> & <dbl> & <dbl> & <dbl> & <dbl> & <dbl> & <dbl>\\\\\n",
       "\\hline\n",
       "\tADNP &  0.0334965 & -0.3917924 & -1.3517029 &  1.408966947 & -0.3393810 & -0.6681893 & -0.48358159 & -0.5908073\\\\\n",
       "\tAFF1 &  0.7363873 &  1.7377852 &  0.9118609 & -0.114844739 &  0.8897125 &  1.9023256 &  0.71456008 &  0.5975251\\\\\n",
       "\tAFF4 & -0.5878003 &  1.3894350 &  0.7446663 &  0.087063354 & -0.2733422 &  1.3168284 &  0.12303230 & -1.0332922\\\\\n",
       "\tAGO1 & -2.0571666 & -0.8817062 & -0.1047192 &  0.064772672 & -1.7689214 & -1.3036737 & -1.48061482 &  0.4041109\\\\\n",
       "\tARHGAP35 & -1.6621354 &  0.7598008 & -0.6919002 &  0.007437697 & -1.9515905 &  0.9158649 & -0.59849034 &  0.5974532\\\\\n",
       "\tARID1B &  1.6125474 & -0.9264129 & -2.1073090 & -0.668621889 &  1.1521080 & -1.5705961 & -0.08985721 & -1.0980627\\\\\n",
       "\\end{tabular}\n"
      ],
      "text/markdown": [
       "\n",
       "A data.frame: 6 × 8\n",
       "\n",
       "| <!--/--> | Distal:Active (Original) &lt;dbl&gt; | Distal:Repressive (Original) &lt;dbl&gt; | Proximal:Active (Original) &lt;dbl&gt; | Proximal:Repressive (Original) &lt;dbl&gt; | Distal:Active (Updated) &lt;dbl&gt; | Distal:Repressive (Updated) &lt;dbl&gt; | Proximal:Active (Updated) &lt;dbl&gt; | Proximal:Repressive (Updated) &lt;dbl&gt; |\n",
       "|---|---|---|---|---|---|---|---|---|\n",
       "| ADNP |  0.0334965 | -0.3917924 | -1.3517029 |  1.408966947 | -0.3393810 | -0.6681893 | -0.48358159 | -0.5908073 |\n",
       "| AFF1 |  0.7363873 |  1.7377852 |  0.9118609 | -0.114844739 |  0.8897125 |  1.9023256 |  0.71456008 |  0.5975251 |\n",
       "| AFF4 | -0.5878003 |  1.3894350 |  0.7446663 |  0.087063354 | -0.2733422 |  1.3168284 |  0.12303230 | -1.0332922 |\n",
       "| AGO1 | -2.0571666 | -0.8817062 | -0.1047192 |  0.064772672 | -1.7689214 | -1.3036737 | -1.48061482 |  0.4041109 |\n",
       "| ARHGAP35 | -1.6621354 |  0.7598008 | -0.6919002 |  0.007437697 | -1.9515905 |  0.9158649 | -0.59849034 |  0.5974532 |\n",
       "| ARID1B |  1.6125474 | -0.9264129 | -2.1073090 | -0.668621889 |  1.1521080 | -1.5705961 | -0.08985721 | -1.0980627 |\n",
       "\n"
      ],
      "text/plain": [
       "         Distal:Active (Original) Distal:Repressive (Original)\n",
       "ADNP      0.0334965               -0.3917924                  \n",
       "AFF1      0.7363873                1.7377852                  \n",
       "AFF4     -0.5878003                1.3894350                  \n",
       "AGO1     -2.0571666               -0.8817062                  \n",
       "ARHGAP35 -1.6621354                0.7598008                  \n",
       "ARID1B    1.6125474               -0.9264129                  \n",
       "         Proximal:Active (Original) Proximal:Repressive (Original)\n",
       "ADNP     -1.3517029                  1.408966947                  \n",
       "AFF1      0.9118609                 -0.114844739                  \n",
       "AFF4      0.7446663                  0.087063354                  \n",
       "AGO1     -0.1047192                  0.064772672                  \n",
       "ARHGAP35 -0.6919002                  0.007437697                  \n",
       "ARID1B   -2.1073090                 -0.668621889                  \n",
       "         Distal:Active (Updated) Distal:Repressive (Updated)\n",
       "ADNP     -0.3393810              -0.6681893                 \n",
       "AFF1      0.8897125               1.9023256                 \n",
       "AFF4     -0.2733422               1.3168284                 \n",
       "AGO1     -1.7689214              -1.3036737                 \n",
       "ARHGAP35 -1.9515905               0.9158649                 \n",
       "ARID1B    1.1521080              -1.5705961                 \n",
       "         Proximal:Active (Updated) Proximal:Repressive (Updated)\n",
       "ADNP     -0.48358159               -0.5908073                   \n",
       "AFF1      0.71456008                0.5975251                   \n",
       "AFF4      0.12303230               -1.0332922                   \n",
       "AGO1     -1.48061482                0.4041109                   \n",
       "ARHGAP35 -0.59849034                0.5974532                   \n",
       "ARID1B   -0.08985721               -1.0980627                   "
      ]
     },
     "metadata": {},
     "output_type": "display_data"
    }
   ],
   "source": [
    "dat = dplyr::inner_join(\n",
    "    mat_fit_summary_v1,\n",
    "    mat_fit_summary_v2,\n",
    "    by = \"Feature\"\n",
    ")\n",
    "dat = dat %>% column_to_rownames(\"Feature\")\n",
    "\n",
    "head(dat)"
   ]
  },
  {
   "cell_type": "code",
   "execution_count": 20,
   "id": "e79a875c-f682-460a-b679-ee419710b26c",
   "metadata": {},
   "outputs": [
    {
     "data": {
      "text/html": [
       "<table class=\"dataframe\">\n",
       "<caption>A matrix: 8 × 8 of type dbl</caption>\n",
       "<thead>\n",
       "\t<tr><th></th><th scope=col>Distal:Active (Original)</th><th scope=col>Distal:Repressive (Original)</th><th scope=col>Proximal:Active (Original)</th><th scope=col>Proximal:Repressive (Original)</th><th scope=col>Distal:Active (Updated)</th><th scope=col>Distal:Repressive (Updated)</th><th scope=col>Proximal:Active (Updated)</th><th scope=col>Proximal:Repressive (Updated)</th></tr>\n",
       "</thead>\n",
       "<tbody>\n",
       "\t<tr><th scope=row>Distal:Active (Original)</th><td> 1.00000000</td><td>-0.06851053</td><td> 0.00395290</td><td>-0.08101836</td><td> 0.95445167</td><td>-0.15638514</td><td> 0.3026978</td><td>-0.1203193</td></tr>\n",
       "\t<tr><th scope=row>Distal:Repressive (Original)</th><td>-0.06851053</td><td> 1.00000000</td><td>-0.14090472</td><td> 0.12903338</td><td>-0.12348473</td><td> 0.93394241</td><td>-0.1757190</td><td> 0.1663300</td></tr>\n",
       "\t<tr><th scope=row>Proximal:Active (Original)</th><td> 0.00395290</td><td>-0.14090472</td><td> 1.00000000</td><td>-0.14010311</td><td> 0.17825774</td><td>-0.03783515</td><td> 0.6212686</td><td>-0.3078946</td></tr>\n",
       "\t<tr><th scope=row>Proximal:Repressive (Original)</th><td>-0.08101836</td><td> 0.12903338</td><td>-0.14010311</td><td> 1.00000000</td><td>-0.03012901</td><td> 0.16848041</td><td>-0.3575914</td><td> 0.5062804</td></tr>\n",
       "\t<tr><th scope=row>Distal:Active (Updated)</th><td> 0.95445167</td><td>-0.12348473</td><td> 0.17825774</td><td>-0.03012901</td><td> 1.00000000</td><td>-0.17127014</td><td> 0.3248162</td><td>-0.2022490</td></tr>\n",
       "\t<tr><th scope=row>Distal:Repressive (Updated)</th><td>-0.15638514</td><td> 0.93394241</td><td>-0.03783515</td><td> 0.16848041</td><td>-0.17127014</td><td> 1.00000000</td><td>-0.1757242</td><td> 0.1647775</td></tr>\n",
       "\t<tr><th scope=row>Proximal:Active (Updated)</th><td> 0.30269783</td><td>-0.17571901</td><td> 0.62126861</td><td>-0.35759142</td><td> 0.32481616</td><td>-0.17572418</td><td> 1.0000000</td><td>-0.1500099</td></tr>\n",
       "\t<tr><th scope=row>Proximal:Repressive (Updated)</th><td>-0.12031927</td><td> 0.16632997</td><td>-0.30789460</td><td> 0.50628043</td><td>-0.20224904</td><td> 0.16477749</td><td>-0.1500099</td><td> 1.0000000</td></tr>\n",
       "</tbody>\n",
       "</table>\n"
      ],
      "text/latex": [
       "A matrix: 8 × 8 of type dbl\n",
       "\\begin{tabular}{r|llllllll}\n",
       "  & Distal:Active (Original) & Distal:Repressive (Original) & Proximal:Active (Original) & Proximal:Repressive (Original) & Distal:Active (Updated) & Distal:Repressive (Updated) & Proximal:Active (Updated) & Proximal:Repressive (Updated)\\\\\n",
       "\\hline\n",
       "\tDistal:Active (Original) &  1.00000000 & -0.06851053 &  0.00395290 & -0.08101836 &  0.95445167 & -0.15638514 &  0.3026978 & -0.1203193\\\\\n",
       "\tDistal:Repressive (Original) & -0.06851053 &  1.00000000 & -0.14090472 &  0.12903338 & -0.12348473 &  0.93394241 & -0.1757190 &  0.1663300\\\\\n",
       "\tProximal:Active (Original) &  0.00395290 & -0.14090472 &  1.00000000 & -0.14010311 &  0.17825774 & -0.03783515 &  0.6212686 & -0.3078946\\\\\n",
       "\tProximal:Repressive (Original) & -0.08101836 &  0.12903338 & -0.14010311 &  1.00000000 & -0.03012901 &  0.16848041 & -0.3575914 &  0.5062804\\\\\n",
       "\tDistal:Active (Updated) &  0.95445167 & -0.12348473 &  0.17825774 & -0.03012901 &  1.00000000 & -0.17127014 &  0.3248162 & -0.2022490\\\\\n",
       "\tDistal:Repressive (Updated) & -0.15638514 &  0.93394241 & -0.03783515 &  0.16848041 & -0.17127014 &  1.00000000 & -0.1757242 &  0.1647775\\\\\n",
       "\tProximal:Active (Updated) &  0.30269783 & -0.17571901 &  0.62126861 & -0.35759142 &  0.32481616 & -0.17572418 &  1.0000000 & -0.1500099\\\\\n",
       "\tProximal:Repressive (Updated) & -0.12031927 &  0.16632997 & -0.30789460 &  0.50628043 & -0.20224904 &  0.16477749 & -0.1500099 &  1.0000000\\\\\n",
       "\\end{tabular}\n"
      ],
      "text/markdown": [
       "\n",
       "A matrix: 8 × 8 of type dbl\n",
       "\n",
       "| <!--/--> | Distal:Active (Original) | Distal:Repressive (Original) | Proximal:Active (Original) | Proximal:Repressive (Original) | Distal:Active (Updated) | Distal:Repressive (Updated) | Proximal:Active (Updated) | Proximal:Repressive (Updated) |\n",
       "|---|---|---|---|---|---|---|---|---|\n",
       "| Distal:Active (Original) |  1.00000000 | -0.06851053 |  0.00395290 | -0.08101836 |  0.95445167 | -0.15638514 |  0.3026978 | -0.1203193 |\n",
       "| Distal:Repressive (Original) | -0.06851053 |  1.00000000 | -0.14090472 |  0.12903338 | -0.12348473 |  0.93394241 | -0.1757190 |  0.1663300 |\n",
       "| Proximal:Active (Original) |  0.00395290 | -0.14090472 |  1.00000000 | -0.14010311 |  0.17825774 | -0.03783515 |  0.6212686 | -0.3078946 |\n",
       "| Proximal:Repressive (Original) | -0.08101836 |  0.12903338 | -0.14010311 |  1.00000000 | -0.03012901 |  0.16848041 | -0.3575914 |  0.5062804 |\n",
       "| Distal:Active (Updated) |  0.95445167 | -0.12348473 |  0.17825774 | -0.03012901 |  1.00000000 | -0.17127014 |  0.3248162 | -0.2022490 |\n",
       "| Distal:Repressive (Updated) | -0.15638514 |  0.93394241 | -0.03783515 |  0.16848041 | -0.17127014 |  1.00000000 | -0.1757242 |  0.1647775 |\n",
       "| Proximal:Active (Updated) |  0.30269783 | -0.17571901 |  0.62126861 | -0.35759142 |  0.32481616 | -0.17572418 |  1.0000000 | -0.1500099 |\n",
       "| Proximal:Repressive (Updated) | -0.12031927 |  0.16632997 | -0.30789460 |  0.50628043 | -0.20224904 |  0.16477749 | -0.1500099 |  1.0000000 |\n",
       "\n"
      ],
      "text/plain": [
       "                               Distal:Active (Original)\n",
       "Distal:Active (Original)        1.00000000             \n",
       "Distal:Repressive (Original)   -0.06851053             \n",
       "Proximal:Active (Original)      0.00395290             \n",
       "Proximal:Repressive (Original) -0.08101836             \n",
       "Distal:Active (Updated)         0.95445167             \n",
       "Distal:Repressive (Updated)    -0.15638514             \n",
       "Proximal:Active (Updated)       0.30269783             \n",
       "Proximal:Repressive (Updated)  -0.12031927             \n",
       "                               Distal:Repressive (Original)\n",
       "Distal:Active (Original)       -0.06851053                 \n",
       "Distal:Repressive (Original)    1.00000000                 \n",
       "Proximal:Active (Original)     -0.14090472                 \n",
       "Proximal:Repressive (Original)  0.12903338                 \n",
       "Distal:Active (Updated)        -0.12348473                 \n",
       "Distal:Repressive (Updated)     0.93394241                 \n",
       "Proximal:Active (Updated)      -0.17571901                 \n",
       "Proximal:Repressive (Updated)   0.16632997                 \n",
       "                               Proximal:Active (Original)\n",
       "Distal:Active (Original)        0.00395290               \n",
       "Distal:Repressive (Original)   -0.14090472               \n",
       "Proximal:Active (Original)      1.00000000               \n",
       "Proximal:Repressive (Original) -0.14010311               \n",
       "Distal:Active (Updated)         0.17825774               \n",
       "Distal:Repressive (Updated)    -0.03783515               \n",
       "Proximal:Active (Updated)       0.62126861               \n",
       "Proximal:Repressive (Updated)  -0.30789460               \n",
       "                               Proximal:Repressive (Original)\n",
       "Distal:Active (Original)       -0.08101836                   \n",
       "Distal:Repressive (Original)    0.12903338                   \n",
       "Proximal:Active (Original)     -0.14010311                   \n",
       "Proximal:Repressive (Original)  1.00000000                   \n",
       "Distal:Active (Updated)        -0.03012901                   \n",
       "Distal:Repressive (Updated)     0.16848041                   \n",
       "Proximal:Active (Updated)      -0.35759142                   \n",
       "Proximal:Repressive (Updated)   0.50628043                   \n",
       "                               Distal:Active (Updated)\n",
       "Distal:Active (Original)        0.95445167            \n",
       "Distal:Repressive (Original)   -0.12348473            \n",
       "Proximal:Active (Original)      0.17825774            \n",
       "Proximal:Repressive (Original) -0.03012901            \n",
       "Distal:Active (Updated)         1.00000000            \n",
       "Distal:Repressive (Updated)    -0.17127014            \n",
       "Proximal:Active (Updated)       0.32481616            \n",
       "Proximal:Repressive (Updated)  -0.20224904            \n",
       "                               Distal:Repressive (Updated)\n",
       "Distal:Active (Original)       -0.15638514                \n",
       "Distal:Repressive (Original)    0.93394241                \n",
       "Proximal:Active (Original)     -0.03783515                \n",
       "Proximal:Repressive (Original)  0.16848041                \n",
       "Distal:Active (Updated)        -0.17127014                \n",
       "Distal:Repressive (Updated)     1.00000000                \n",
       "Proximal:Active (Updated)      -0.17572418                \n",
       "Proximal:Repressive (Updated)   0.16477749                \n",
       "                               Proximal:Active (Updated)\n",
       "Distal:Active (Original)        0.3026978               \n",
       "Distal:Repressive (Original)   -0.1757190               \n",
       "Proximal:Active (Original)      0.6212686               \n",
       "Proximal:Repressive (Original) -0.3575914               \n",
       "Distal:Active (Updated)         0.3248162               \n",
       "Distal:Repressive (Updated)    -0.1757242               \n",
       "Proximal:Active (Updated)       1.0000000               \n",
       "Proximal:Repressive (Updated)  -0.1500099               \n",
       "                               Proximal:Repressive (Updated)\n",
       "Distal:Active (Original)       -0.1203193                   \n",
       "Distal:Repressive (Original)    0.1663300                   \n",
       "Proximal:Active (Original)     -0.3078946                   \n",
       "Proximal:Repressive (Original)  0.5062804                   \n",
       "Distal:Active (Updated)        -0.2022490                   \n",
       "Distal:Repressive (Updated)     0.1647775                   \n",
       "Proximal:Active (Updated)      -0.1500099                   \n",
       "Proximal:Repressive (Updated)   1.0000000                   "
      ]
     },
     "metadata": {},
     "output_type": "display_data"
    }
   ],
   "source": [
    "dat = dplyr::inner_join(\n",
    "    mat_fit_summary_v1,\n",
    "    mat_fit_summary_v2,\n",
    "    by = \"Feature\"\n",
    ")\n",
    "dat = dat %>% column_to_rownames(\"Feature\")\n",
    "\n",
    "cor(dat, method = \"spearman\")"
   ]
  },
  {
   "cell_type": "code",
   "execution_count": 25,
   "id": "a0b86124-73e8-4f7e-ac72-d6d7ccf6be14",
   "metadata": {},
   "outputs": [],
   "source": [
    "vec1 = brewer.pal(n=6, name=\"Reds\")\n",
    "vec2 = brewer.pal(n=6, name=\"Blues\")\n",
    "vec  = c(rev(vec1), \"#FFFFFF\", vec2)\n",
    "vec  = colorRampPalette(vec)(20)\n",
    "vec  = rev(vec)\n",
    "vec_txt_color = vec"
   ]
  },
  {
   "cell_type": "code",
   "execution_count": 26,
   "id": "c28667b3-b779-4a28-b584-272b46e9442e",
   "metadata": {},
   "outputs": [],
   "source": [
    "library(corrplot)"
   ]
  },
  {
   "cell_type": "code",
   "execution_count": 28,
   "id": "585f7da8-a1d7-4d6e-ac70-5948549f6a65",
   "metadata": {},
   "outputs": [
    {
     "data": {
      "image/png": "[encoded data removed]",
      "text/plain": [
       "Plot with title “”"
      ]
     },
     "metadata": {
      "image/png": {
       "height": 600,
       "width": 600
      }
     },
     "output_type": "display_data"
    }
   ],
   "source": [
    "dat = dplyr::inner_join(\n",
    "    mat_fit_summary_v1,\n",
    "    mat_fit_summary_v2,\n",
    "    by = \"Feature\"\n",
    ")\n",
    "dat = dat %>% column_to_rownames(\"Feature\")\n",
    "dat = cor(dat, method = \"spearman\")\n",
    "\n",
    "# correlogram with hclust reordering\n",
    "options(repr.plot.height = 10, repr.plot.width=10)\n",
    "corrplot(\n",
    "    dat, \n",
    "    method=\"color\", \n",
    "    col=vec_txt_color, \n",
    "    tl.col=\"black\",\n",
    "    order=\"hclust\"\n",
    ") "
   ]
  },
  {
   "cell_type": "code",
   "execution_count": null,
   "id": "8f55e1ac-b8b5-495a-be60-cf96d5362dfb",
   "metadata": {},
   "outputs": [],
   "source": []
  }
 ],
 "metadata": {
  "kernelspec": {
   "display_name": "R",
   "language": "R",
   "name": "ir"
  },
  "language_info": {
   "codemirror_mode": "r",
   "file_extension": ".r",
   "mimetype": "text/x-r-source",
   "name": "R",
   "pygments_lexer": "r",
   "version": "4.4.2"
  }
 },
 "nbformat": 4,
 "nbformat_minor": 5
}
