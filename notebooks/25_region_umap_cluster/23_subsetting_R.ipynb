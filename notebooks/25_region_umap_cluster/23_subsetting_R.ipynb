{
 "cells": [
  {
   "cell_type": "raw",
   "id": "5da8e9cc-d6ea-4981-adbe-0c97b3b28fe4",
   "metadata": {},
   "source": [
    "---\n",
    "title: Region annotation 11 (ASTARR MACS peaks)\n",
    "subtitle: Summarize annotations (Main)\n",
    "format:\n",
    "    html:\n",
    "        code-fold:  true\n",
    "        code-tools: true\n",
    "---"
   ]
  },
  {
   "cell_type": "markdown",
   "id": "06b035b0-c423-4f7d-8de6-6d23bee8d216",
   "metadata": {},
   "source": [
    "**Set environment**"
   ]
  },
  {
   "cell_type": "code",
   "execution_count": 1,
   "id": "cd1e5fb0-05bf-4c00-a7bb-8f093a77aa11",
   "metadata": {
    "tags": []
   },
   "outputs": [
    {
     "name": "stdout",
     "output_type": "stream",
     "text": [
      "You are working on        Singularity: singularity_proj_encode_fcc \n",
      "BASE DIRECTORY (FD_BASE): /data/reddylab/Kuei \n",
      "REPO DIRECTORY (FD_REPO): /data/reddylab/Kuei/repo \n",
      "WORK DIRECTORY (FD_WORK): /data/reddylab/Kuei/work \n",
      "DATA DIRECTORY (FD_DATA): /data/reddylab/Kuei/data \n",
      "\n",
      "You are working with      ENCODE FCC \n",
      "PATH OF PROJECT (FD_PRJ): /data/reddylab/Kuei/repo/Proj_ENCODE_FCC \n",
      "PROJECT RESULTS (FD_RES): /data/reddylab/Kuei/repo/Proj_ENCODE_FCC/results \n",
      "PROJECT SCRIPTS (FD_EXE): /data/reddylab/Kuei/repo/Proj_ENCODE_FCC/scripts \n",
      "PROJECT DATA    (FD_DAT): /data/reddylab/Kuei/repo/Proj_ENCODE_FCC/data \n",
      "PROJECT NOTE    (FD_NBK): /data/reddylab/Kuei/repo/Proj_ENCODE_FCC/notebooks \n",
      "PROJECT DOCS    (FD_DOC): /data/reddylab/Kuei/repo/Proj_ENCODE_FCC/docs \n",
      "PROJECT LOG     (FD_LOG): /data/reddylab/Kuei/repo/Proj_ENCODE_FCC/log \n",
      "PROJECT REF     (FD_REF): /data/reddylab/Kuei/repo/Proj_ENCODE_FCC/references \n",
      "\n"
     ]
    }
   ],
   "source": [
    "suppressMessages(suppressWarnings(source(\"../run_config_project_sing.R\")))\n",
    "show_env()"
   ]
  },
  {
   "cell_type": "markdown",
   "id": "695b75ce-0af0-4072-a41d-b557a27daa78",
   "metadata": {},
   "source": [
    "## import label"
   ]
  },
  {
   "cell_type": "code",
   "execution_count": 2,
   "id": "51015a2c-420c-4290-9ba1-01182474a6e0",
   "metadata": {},
   "outputs": [
    {
     "name": "stdout",
     "output_type": "stream",
     "text": [
      "matrix.annotation.encode_chipseq_flagship.tsv \n",
      "matrix.annotation.encode_chipseq_full.tsv \n",
      "matrix.annotation.encode_chipseq_histone.tsv \n",
      "matrix.annotation.encode_chipseq_subset.tsv \n",
      "matrix.annotation.fcc_peak_call.tsv \n",
      "matrix.annotation.genome_tss.tsv \n",
      "matrix.annotation.merge.fcc.tss.chipseq.tsv \n",
      "region.annotation.encode_chipseq_flagship.tmp.tsv \n",
      "region.annotation.encode_chipseq_flagship.tsv \n",
      "region.annotation.encode_chipseq_histone.tsv \n",
      "region.annotation.encode_chipseq_subset.tsv \n",
      "region.annotation.encode_chromatin_states.tsv \n",
      "region.annotation.encode_e2g_benchmark.tsv \n",
      "region.annotation.fcc_astarr_csaw.tsv \n",
      "region.annotation.fcc_crispri_growth.tsv \n",
      "region.annotation.fcc_crispri_hcrff.tsv \n",
      "region.annotation.fcc_mpra_agarwal2023.tsv \n",
      "region.annotation.fcc_starrmpra_junke.tsv \n",
      "region.annotation.genome_tss.tsv \n",
      "region.annotation.module_tf_shannon.tsv \n",
      "region.intersect.encode_chipseq_flagship.tmp.tsv \n",
      "region.intersect.encode_chipseq_flagship.tsv \n",
      "region.intersect.encode_chipseq_histone.tsv \n",
      "region.intersect.encode_chipseq_subset.tsv \n",
      "region.intersect.encode_chromatin_states.tsv \n",
      "region.intersect.encode_e2g_benchmark.tsv \n",
      "region.intersect.fcc_astarr_csaw.tsv \n",
      "region.intersect.fcc_crispri_growth.tsv \n",
      "region.intersect.fcc_crispri_hcrff.tsv \n",
      "region.intersect.fcc_mpra_agarwal2023.tsv \n",
      "region.intersect.fcc_starrmpra_junke.tsv \n",
      "region.intersect.genome_tss.tsv \n",
      "region.intersect.module_tf_shannon.tsv \n",
      "region.summary.encode_chipseq_flagship.tsv \n",
      "region.summary.encode_chipseq_full.tsv \n",
      "region.summary.encode_chipseq_histone.tsv \n",
      "region.summary.encode_chipseq_subset.tsv \n",
      "region.summary.encode_e2g_benchmark.regulated.tsv \n",
      "region.summary.encode_e2g_benchmark.tsv \n",
      "region.summary.fcc_peak_call.assayvote.starrmpra.tsv \n",
      "region.summary.fcc_peak_call.assayvote.starrmpracrispri.tsv \n",
      "region.summary.fcc_peak_call.label.tsv \n",
      "region.summary.fcc_peak_call.tsv \n",
      "region.summary.genome_tss.tsv \n"
     ]
    }
   ],
   "source": [
    "txt_fdiry = file.path(\n",
    "    FD_RES, \n",
    "    \"region_annotation\", \n",
    "    \"fcc_astarr_macs_input_overlap\",\n",
    "    \"summary\"\n",
    ")\n",
    "vec = dir(txt_fdiry)\n",
    "for(txt in vec){cat(txt, \"\\n\")}"
   ]
  },
  {
   "cell_type": "code",
   "execution_count": 3,
   "id": "349ff8db-8eea-4bdc-9192-41313376c009",
   "metadata": {},
   "outputs": [
    {
     "name": "stdout",
     "output_type": "stream",
     "text": [
      "[1] 156686      8\n"
     ]
    },
    {
     "data": {
      "text/html": [
       "<table class=\"dataframe\">\n",
       "<caption>A tibble: 6 × 8</caption>\n",
       "<thead>\n",
       "\t<tr><th scope=col>Chrom</th><th scope=col>ChromStart</th><th scope=col>ChromEnd</th><th scope=col>Region</th><th scope=col>Group</th><th scope=col>Label</th><th scope=col>Label2</th><th scope=col>Label3</th></tr>\n",
       "\t<tr><th scope=col>&lt;chr&gt;</th><th scope=col>&lt;dbl&gt;</th><th scope=col>&lt;dbl&gt;</th><th scope=col>&lt;chr&gt;</th><th scope=col>&lt;chr&gt;</th><th scope=col>&lt;chr&gt;</th><th scope=col>&lt;chr&gt;</th><th scope=col>&lt;chr&gt;</th></tr>\n",
       "</thead>\n",
       "<tbody>\n",
       "\t<tr><td>chr1</td><td> 10038</td><td> 10405</td><td>chr1:10038-10405  </td><td>ASTARR</td><td>ASTARR_R</td><td>ASTARR_R</td><td>Repress (R)</td></tr>\n",
       "\t<tr><td>chr1</td><td> 16025</td><td> 16338</td><td>chr1:16025-16338  </td><td>ASTARR</td><td>ASTARR_R</td><td>ASTARR_R</td><td>Repress (R)</td></tr>\n",
       "\t<tr><td>chr1</td><td> 17288</td><td> 17689</td><td>chr1:17288-17689  </td><td>ASTARR</td><td>ASTARR_R</td><td>ASTARR_R</td><td>Repress (R)</td></tr>\n",
       "\t<tr><td>chr1</td><td> 28934</td><td> 29499</td><td>chr1:28934-29499  </td><td>ASTARR</td><td>ASTARR_R</td><td>ASTARR_R</td><td>Repress (R)</td></tr>\n",
       "\t<tr><td>chr1</td><td>115429</td><td>115969</td><td>chr1:115429-115969</td><td>ASTARR</td><td>ASTARR_A</td><td>ASTARR_A</td><td>Active (A) </td></tr>\n",
       "\t<tr><td>chr1</td><td>136201</td><td>137353</td><td>chr1:136201-137353</td><td>ASTARR</td><td>ASTARR_R</td><td>ASTARR_R</td><td>Repress (R)</td></tr>\n",
       "</tbody>\n",
       "</table>\n"
      ],
      "text/latex": [
       "A tibble: 6 × 8\n",
       "\\begin{tabular}{llllllll}\n",
       " Chrom & ChromStart & ChromEnd & Region & Group & Label & Label2 & Label3\\\\\n",
       " <chr> & <dbl> & <dbl> & <chr> & <chr> & <chr> & <chr> & <chr>\\\\\n",
       "\\hline\n",
       "\t chr1 &  10038 &  10405 & chr1:10038-10405   & ASTARR & ASTARR\\_R & ASTARR\\_R & Repress (R)\\\\\n",
       "\t chr1 &  16025 &  16338 & chr1:16025-16338   & ASTARR & ASTARR\\_R & ASTARR\\_R & Repress (R)\\\\\n",
       "\t chr1 &  17288 &  17689 & chr1:17288-17689   & ASTARR & ASTARR\\_R & ASTARR\\_R & Repress (R)\\\\\n",
       "\t chr1 &  28934 &  29499 & chr1:28934-29499   & ASTARR & ASTARR\\_R & ASTARR\\_R & Repress (R)\\\\\n",
       "\t chr1 & 115429 & 115969 & chr1:115429-115969 & ASTARR & ASTARR\\_A & ASTARR\\_A & Active (A) \\\\\n",
       "\t chr1 & 136201 & 137353 & chr1:136201-137353 & ASTARR & ASTARR\\_R & ASTARR\\_R & Repress (R)\\\\\n",
       "\\end{tabular}\n"
      ],
      "text/markdown": [
       "\n",
       "A tibble: 6 × 8\n",
       "\n",
       "| Chrom &lt;chr&gt; | ChromStart &lt;dbl&gt; | ChromEnd &lt;dbl&gt; | Region &lt;chr&gt; | Group &lt;chr&gt; | Label &lt;chr&gt; | Label2 &lt;chr&gt; | Label3 &lt;chr&gt; |\n",
       "|---|---|---|---|---|---|---|---|\n",
       "| chr1 |  10038 |  10405 | chr1:10038-10405   | ASTARR | ASTARR_R | ASTARR_R | Repress (R) |\n",
       "| chr1 |  16025 |  16338 | chr1:16025-16338   | ASTARR | ASTARR_R | ASTARR_R | Repress (R) |\n",
       "| chr1 |  17288 |  17689 | chr1:17288-17689   | ASTARR | ASTARR_R | ASTARR_R | Repress (R) |\n",
       "| chr1 |  28934 |  29499 | chr1:28934-29499   | ASTARR | ASTARR_R | ASTARR_R | Repress (R) |\n",
       "| chr1 | 115429 | 115969 | chr1:115429-115969 | ASTARR | ASTARR_A | ASTARR_A | Active (A)  |\n",
       "| chr1 | 136201 | 137353 | chr1:136201-137353 | ASTARR | ASTARR_R | ASTARR_R | Repress (R) |\n",
       "\n"
      ],
      "text/plain": [
       "  Chrom ChromStart ChromEnd Region             Group  Label    Label2  \n",
       "1 chr1   10038      10405   chr1:10038-10405   ASTARR ASTARR_R ASTARR_R\n",
       "2 chr1   16025      16338   chr1:16025-16338   ASTARR ASTARR_R ASTARR_R\n",
       "3 chr1   17288      17689   chr1:17288-17689   ASTARR ASTARR_R ASTARR_R\n",
       "4 chr1   28934      29499   chr1:28934-29499   ASTARR ASTARR_R ASTARR_R\n",
       "5 chr1  115429     115969   chr1:115429-115969 ASTARR ASTARR_A ASTARR_A\n",
       "6 chr1  136201     137353   chr1:136201-137353 ASTARR ASTARR_R ASTARR_R\n",
       "  Label3     \n",
       "1 Repress (R)\n",
       "2 Repress (R)\n",
       "3 Repress (R)\n",
       "4 Repress (R)\n",
       "5 Active (A) \n",
       "6 Repress (R)"
      ]
     },
     "metadata": {},
     "output_type": "display_data"
    }
   ],
   "source": [
    "txt_fdiry = file.path(\n",
    "    FD_RES, \n",
    "    \"region_annotation\", \n",
    "    \"fcc_astarr_macs_input_overlap\",\n",
    "    \"summary\"\n",
    ")\n",
    "txt_fname = \"region.summary.fcc_peak_call.tsv\"\n",
    "txt_fpath = file.path(txt_fdiry, txt_fname)\n",
    "\n",
    "dat = read_tsv(txt_fpath, show_col_types = FALSE)\n",
    "\n",
    "dat_region_annot_fcc = dat\n",
    "print(dim(dat))\n",
    "head(dat)"
   ]
  },
  {
   "cell_type": "code",
   "execution_count": 4,
   "id": "4bf64b7e-f0ce-47a0-acd8-8a2b52630316",
   "metadata": {},
   "outputs": [
    {
     "data": {
      "text/plain": [
       "\n",
       "        ASTARR     CRISPR-E2G CRISPRi-Growth  CRISPRi-HCRFF          LMPRA \n",
       "         99884            360           4380             84          20937 \n",
       "         TMPRA         WSTARR \n",
       "           860          30181 "
      ]
     },
     "metadata": {},
     "output_type": "display_data"
    }
   ],
   "source": [
    "dat = dat_region_annot_fcc\n",
    "table(dat$Group)"
   ]
  },
  {
   "cell_type": "code",
   "execution_count": 19,
   "id": "92d84058-ff01-48ea-a76f-17712d08dacb",
   "metadata": {},
   "outputs": [
    {
     "data": {
      "text/plain": [
       "\n",
       "          CRISPR          Enhance          Repress Repress_GCFilter \n",
       "            4740            43993            65401            46532 "
      ]
     },
     "metadata": {},
     "output_type": "display_data"
    }
   ],
   "source": [
    "txt_fdiry = file.path(\n",
    "    FD_RES, \n",
    "    \"region_annotation\", \n",
    "    \"fcc_astarr_macs_input_overlap\",\n",
    "    \"summary\"\n",
    ")\n",
    "txt_fname = \"region.summary.fcc_peak_call.assayvote.starrmpra.tsv\"\n",
    "txt_fpath = file.path(txt_fdiry, txt_fname)\n",
    "\n",
    "dat = read_tsv(txt_fpath, show_col_types = FALSE)\n",
    "\n",
    "tmp = dat %>% dplyr::filter(Type %in% c(\"Enhance\", \"Repress\"))\n",
    "dat_region_annot_fcc_starrmpra = tmp\n",
    "\n",
    "tmp = dat %>% dplyr::filter(Type %in% c(\"CRISPR\"))\n",
    "dat_region_annot_fcc_crispri = tmp\n",
    "\n",
    "table(dat$Type)"
   ]
  },
  {
   "cell_type": "code",
   "execution_count": 20,
   "id": "93817331-0566-49fa-94ed-7f3c9dc03ca3",
   "metadata": {},
   "outputs": [
    {
     "data": {
      "text/plain": [
       "\n",
       "Enhance Repress \n",
       "  43993   65401 "
      ]
     },
     "metadata": {},
     "output_type": "display_data"
    }
   ],
   "source": [
    "dat = dat_region_annot_fcc_starrmpra\n",
    "table(dat$Type)"
   ]
  },
  {
   "cell_type": "code",
   "execution_count": 21,
   "id": "2ec6ef81-de3c-4a3b-9251-9182143a1638",
   "metadata": {},
   "outputs": [
    {
     "data": {
      "text/plain": [
       "\n",
       "CRISPR \n",
       "  4740 "
      ]
     },
     "metadata": {},
     "output_type": "display_data"
    }
   ],
   "source": [
    "dat = dat_region_annot_fcc_crispri\n",
    "table(dat$Type)"
   ]
  },
  {
   "cell_type": "code",
   "execution_count": 10,
   "id": "b1b648f4-cc52-4fa4-ba3e-b00a447bd24e",
   "metadata": {},
   "outputs": [
    {
     "name": "stdout",
     "output_type": "stream",
     "text": [
      "[1] 100454      6\n"
     ]
    },
    {
     "data": {
      "text/html": [
       "<table class=\"dataframe\">\n",
       "<caption>A tibble: 6 × 6</caption>\n",
       "<thead>\n",
       "\t<tr><th scope=col>Chrom</th><th scope=col>ChromStart</th><th scope=col>ChromEnd</th><th scope=col>Region</th><th scope=col>Num_Assay</th><th scope=col>Assays</th></tr>\n",
       "\t<tr><th scope=col>&lt;chr&gt;</th><th scope=col>&lt;dbl&gt;</th><th scope=col>&lt;dbl&gt;</th><th scope=col>&lt;chr&gt;</th><th scope=col>&lt;dbl&gt;</th><th scope=col>&lt;chr&gt;</th></tr>\n",
       "</thead>\n",
       "<tbody>\n",
       "\t<tr><td>chr1</td><td> 10038</td><td> 10405</td><td>chr1:10038-10405  </td><td>1</td><td>ASTARR</td></tr>\n",
       "\t<tr><td>chr1</td><td> 16025</td><td> 16338</td><td>chr1:16025-16338  </td><td>1</td><td>ASTARR</td></tr>\n",
       "\t<tr><td>chr1</td><td> 17288</td><td> 17689</td><td>chr1:17288-17689  </td><td>1</td><td>ASTARR</td></tr>\n",
       "\t<tr><td>chr1</td><td> 28934</td><td> 29499</td><td>chr1:28934-29499  </td><td>1</td><td>ASTARR</td></tr>\n",
       "\t<tr><td>chr1</td><td>115429</td><td>115969</td><td>chr1:115429-115969</td><td>1</td><td>ASTARR</td></tr>\n",
       "\t<tr><td>chr1</td><td>136201</td><td>137353</td><td>chr1:136201-137353</td><td>1</td><td>ASTARR</td></tr>\n",
       "</tbody>\n",
       "</table>\n"
      ],
      "text/latex": [
       "A tibble: 6 × 6\n",
       "\\begin{tabular}{llllll}\n",
       " Chrom & ChromStart & ChromEnd & Region & Num\\_Assay & Assays\\\\\n",
       " <chr> & <dbl> & <dbl> & <chr> & <dbl> & <chr>\\\\\n",
       "\\hline\n",
       "\t chr1 &  10038 &  10405 & chr1:10038-10405   & 1 & ASTARR\\\\\n",
       "\t chr1 &  16025 &  16338 & chr1:16025-16338   & 1 & ASTARR\\\\\n",
       "\t chr1 &  17288 &  17689 & chr1:17288-17689   & 1 & ASTARR\\\\\n",
       "\t chr1 &  28934 &  29499 & chr1:28934-29499   & 1 & ASTARR\\\\\n",
       "\t chr1 & 115429 & 115969 & chr1:115429-115969 & 1 & ASTARR\\\\\n",
       "\t chr1 & 136201 & 137353 & chr1:136201-137353 & 1 & ASTARR\\\\\n",
       "\\end{tabular}\n"
      ],
      "text/markdown": [
       "\n",
       "A tibble: 6 × 6\n",
       "\n",
       "| Chrom &lt;chr&gt; | ChromStart &lt;dbl&gt; | ChromEnd &lt;dbl&gt; | Region &lt;chr&gt; | Num_Assay &lt;dbl&gt; | Assays &lt;chr&gt; |\n",
       "|---|---|---|---|---|---|\n",
       "| chr1 |  10038 |  10405 | chr1:10038-10405   | 1 | ASTARR |\n",
       "| chr1 |  16025 |  16338 | chr1:16025-16338   | 1 | ASTARR |\n",
       "| chr1 |  17288 |  17689 | chr1:17288-17689   | 1 | ASTARR |\n",
       "| chr1 |  28934 |  29499 | chr1:28934-29499   | 1 | ASTARR |\n",
       "| chr1 | 115429 | 115969 | chr1:115429-115969 | 1 | ASTARR |\n",
       "| chr1 | 136201 | 137353 | chr1:136201-137353 | 1 | ASTARR |\n",
       "\n"
      ],
      "text/plain": [
       "  Chrom ChromStart ChromEnd Region             Num_Assay Assays\n",
       "1 chr1   10038      10405   chr1:10038-10405   1         ASTARR\n",
       "2 chr1   16025      16338   chr1:16025-16338   1         ASTARR\n",
       "3 chr1   17288      17689   chr1:17288-17689   1         ASTARR\n",
       "4 chr1   28934      29499   chr1:28934-29499   1         ASTARR\n",
       "5 chr1  115429     115969   chr1:115429-115969 1         ASTARR\n",
       "6 chr1  136201     137353   chr1:136201-137353 1         ASTARR"
      ]
     },
     "metadata": {},
     "output_type": "display_data"
    }
   ],
   "source": [
    "txt_fdiry = file.path(\n",
    "    FD_RES, \n",
    "    \"region_annotation\", \n",
    "    \"fcc_astarr_macs_input_overlap\",\n",
    "    \"summary\"\n",
    ")\n",
    "txt_fname = \"region.summary.fcc_peak_call.assayvote.starrmpracrispri.tsv\"\n",
    "txt_fpath = file.path(txt_fdiry, txt_fname)\n",
    "\n",
    "dat = read_tsv(txt_fpath, show_col_types = FALSE)\n",
    "\n",
    "dat_region_annot_fcc_starrmpracrispri = dat\n",
    "print(dim(dat))\n",
    "head(dat)"
   ]
  },
  {
   "cell_type": "code",
   "execution_count": 27,
   "id": "da5b0d88-0182-4ee9-8147-4c76689a433c",
   "metadata": {},
   "outputs": [
    {
     "name": "stdout",
     "output_type": "stream",
     "text": [
      "#{Region | FCC (STARR/MPRA) Vote 1} 96550 \n",
      "#{Region | FCC (STARR/MPRA) Vote 2} 18341 \n"
     ]
    }
   ],
   "source": [
    "dat = dat_region_annot_fcc_starrmpra\n",
    "vec = unique(dat$Region)\n",
    "vec_txt_region_fcc_starrmpra_vote1 = vec\n",
    "\n",
    "dat = dat %>% dplyr::filter(Num_Assay > 1)\n",
    "vec = unique(dat$Region)\n",
    "vec_txt_region_fcc_starrmpra_vote2 = vec\n",
    "\n",
    "cat(\"#{Region | FCC (STARR/MPRA) Vote 1}\", length(vec_txt_region_fcc_starrmpra_vote1), \"\\n\")\n",
    "cat(\"#{Region | FCC (STARR/MPRA) Vote 2}\", length(vec_txt_region_fcc_starrmpra_vote2), \"\\n\")"
   ]
  },
  {
   "cell_type": "code",
   "execution_count": 28,
   "id": "f3a24e96-699e-4958-aaf0-ccfea1925335",
   "metadata": {},
   "outputs": [
    {
     "name": "stdout",
     "output_type": "stream",
     "text": [
      "#{Region | FCC (STARR/MPRA) Vote 1 overlap CRISPRi} 3885 \n",
      "#{Region | FCC (STARR/MPRA) Vote 2 overlap CRISPRi} 1652 \n",
      "#{Region | FCC (STARR/MPRA) Vote 2 union   CRISPRi} 21429 \n"
     ]
    }
   ],
   "source": [
    "dat = dat_region_annot_fcc_crispri\n",
    "vec = unique(dat$Region)\n",
    "\n",
    "vec_txt_region_fcc_starrmpra_vote1_overlap_crispri = intersect(vec_txt_region_fcc_starrmpra_vote1, vec)\n",
    "vec_txt_region_fcc_starrmpra_vote2_overlap_crispri = intersect(vec_txt_region_fcc_starrmpra_vote2, vec)\n",
    "vec_txt_region_fcc_starrmpra_vote2_union_crispri   = unique(c( vec_txt_region_fcc_starrmpra_vote2, vec))\n",
    "\n",
    "cat(\"#{Region | FCC (STARR/MPRA) Vote 1 overlap CRISPRi}\", length(vec_txt_region_fcc_starrmpra_vote1_overlap_crispri), \"\\n\")\n",
    "cat(\"#{Region | FCC (STARR/MPRA) Vote 2 overlap CRISPRi}\", length(vec_txt_region_fcc_starrmpra_vote2_overlap_crispri), \"\\n\")\n",
    "cat(\"#{Region | FCC (STARR/MPRA) Vote 2 union   CRISPRi}\", length(vec_txt_region_fcc_starrmpra_vote2_union_crispri), \"\\n\")"
   ]
  },
  {
   "cell_type": "code",
   "execution_count": 29,
   "id": "c7a806bb-f44f-401b-8d4c-0ce3e1f5156d",
   "metadata": {},
   "outputs": [
    {
     "name": "stdout",
     "output_type": "stream",
     "text": [
      "#{Region | FCC (STARR/MPRA/CRISPRi) Vote 1} 100454 \n",
      "#{Region | FCC (STARR/MPRA/CRISPRi) Vote 2} 33953 \n"
     ]
    }
   ],
   "source": [
    "dat = dat_region_annot_fcc_starrmpracrispri\n",
    "vec = unique(dat$Region)\n",
    "vec_txt_region_fcc_starrmpracrispri_vote1 = vec\n",
    "\n",
    "dat = dat %>% dplyr::filter(Num_Assay > 1)\n",
    "vec = unique(dat$Region)\n",
    "vec_txt_region_fcc_starrmpracrispri_vote2 = vec\n",
    "\n",
    "cat(\"#{Region | FCC (STARR/MPRA/CRISPRi) Vote 1}\", length(vec_txt_region_fcc_starrmpracrispri_vote1), \"\\n\")\n",
    "cat(\"#{Region | FCC (STARR/MPRA/CRISPRi) Vote 2}\", length(vec_txt_region_fcc_starrmpracrispri_vote2), \"\\n\")"
   ]
  },
  {
   "cell_type": "code",
   "execution_count": null,
   "id": "12518004-12c7-4364-9d46-212b104c102f",
   "metadata": {},
   "outputs": [],
   "source": []
  },
  {
   "cell_type": "code",
   "execution_count": null,
   "id": "7ef24fd4-607b-446f-994e-444437b2f7a3",
   "metadata": {},
   "outputs": [],
   "source": []
  },
  {
   "cell_type": "code",
   "execution_count": null,
   "id": "ce9dd542-7acd-4411-b726-fa9940600848",
   "metadata": {},
   "outputs": [],
   "source": []
  },
  {
   "cell_type": "code",
   "execution_count": 33,
   "id": "0ba011cb-d2f9-4bc3-84b5-4fe11b3c645a",
   "metadata": {},
   "outputs": [],
   "source": [
    "lst_vec_txt_region = list(\n",
    "    \"fcc_starrmpra_vote2\"                 = vec_txt_region_fcc_starrmpra_vote2,\n",
    "    \"fcc_starrmpra_vote1_overlap_crispri\" = vec_txt_region_fcc_starrmpra_vote1_overlap_crispri,\n",
    "    \"fcc_starrmpra_vote2_overlap_crispri\" = vec_txt_region_fcc_starrmpra_vote2_overlap_crispri,\n",
    "    \"fcc_starrmpra_vote2_union_crispri\"   = vec_txt_region_fcc_starrmpra_vote2_union_crispri,\n",
    "    \"fcc_starrmpracrispri_vote1\"          = vec_txt_region_fcc_vote1,\n",
    "    \"fcc_starrmpracrispri_vote2\"          = vec_txt_region_fcc_vote2\n",
    ")"
   ]
  },
  {
   "cell_type": "code",
   "execution_count": 34,
   "id": "5db0816a-4413-461d-ab8c-93fdd1b49061",
   "metadata": {},
   "outputs": [
    {
     "name": "stdout",
     "output_type": "stream",
     "text": [
      "$fcc_starrmpra_vote2\n",
      "[1] 18341\n",
      "\n",
      "$fcc_starrmpra_vote1_overlap_crispri\n",
      "[1] 3885\n",
      "\n",
      "$fcc_starrmpra_vote2_overlap_crispri\n",
      "[1] 1652\n",
      "\n",
      "$fcc_starrmpra_vote2_union_crispri\n",
      "[1] 21429\n",
      "\n",
      "$fcc_starrmpracrispri_vote1\n",
      "[1] 96550\n",
      "\n",
      "$fcc_starrmpracrispri_vote2\n",
      "[1] 18341\n",
      "\n"
     ]
    }
   ],
   "source": [
    "lst = lst_vec_txt_region\n",
    "lst = lapply(lst, length)\n",
    "print(lst)"
   ]
  },
  {
   "cell_type": "code",
   "execution_count": 35,
   "id": "58b8870b-eb03-47c8-9c05-5928913b398d",
   "metadata": {},
   "outputs": [
    {
     "name": "stdout",
     "output_type": "stream",
     "text": [
      "matrix.coverage.encode_chipseq_full_log2p.tsv \n",
      "matrix.coverage.encode_chipseq_full_mean0.tsv \n",
      "matrix.coverage.encode_chipseq_full_zscore.fcc_zscore.tss.tsv \n",
      "matrix.coverage.encode_chipseq_full_zscore.fcc_zscore.tsv \n",
      "matrix.coverage.encode_chipseq_full_zscore.tsv \n",
      "matrix.coverage.fcc_zscore.tsv \n"
     ]
    }
   ],
   "source": [
    "txt_fdiry = file.path(\n",
    "    FD_RES, \n",
    "    \"analysis_umap_cluster_by_coverage_score\", \n",
    "    \"fcc_astarr_macs_input_overlap\",\n",
    "    \"atac_full\",\n",
    "    \"prepare_matrix\"\n",
    ")\n",
    "vec = dir(txt_fdiry)\n",
    "for (txt in vec){cat(txt, \"\\n\")}"
   ]
  },
  {
   "cell_type": "code",
   "execution_count": 36,
   "id": "add5fa7d-aebe-4336-a3c1-8d4d6d8d09e7",
   "metadata": {},
   "outputs": [
    {
     "name": "stdout",
     "output_type": "stream",
     "text": [
      "[1] 6\n",
      "/data/reddylab/Kuei/repo/Proj_ENCODE_FCC/results/analysis_umap_cluster_by_coverage_score/fcc_astarr_macs_input_overlap/atac_full/prepare_matrix/matrix.coverage.encode_chipseq_full_log2p.tsv \n",
      "/data/reddylab/Kuei/repo/Proj_ENCODE_FCC/results/analysis_umap_cluster_by_coverage_score/fcc_astarr_macs_input_overlap/atac_full/prepare_matrix/matrix.coverage.encode_chipseq_full_mean0.tsv \n",
      "/data/reddylab/Kuei/repo/Proj_ENCODE_FCC/results/analysis_umap_cluster_by_coverage_score/fcc_astarr_macs_input_overlap/atac_full/prepare_matrix/matrix.coverage.encode_chipseq_full_zscore.fcc_zscore.tss.tsv \n",
      "/data/reddylab/Kuei/repo/Proj_ENCODE_FCC/results/analysis_umap_cluster_by_coverage_score/fcc_astarr_macs_input_overlap/atac_full/prepare_matrix/matrix.coverage.encode_chipseq_full_zscore.fcc_zscore.tsv \n",
      "/data/reddylab/Kuei/repo/Proj_ENCODE_FCC/results/analysis_umap_cluster_by_coverage_score/fcc_astarr_macs_input_overlap/atac_full/prepare_matrix/matrix.coverage.encode_chipseq_full_zscore.tsv \n",
      "/data/reddylab/Kuei/repo/Proj_ENCODE_FCC/results/analysis_umap_cluster_by_coverage_score/fcc_astarr_macs_input_overlap/atac_full/prepare_matrix/matrix.coverage.fcc_zscore.tsv \n"
     ]
    }
   ],
   "source": [
    "txt_fdiry = file.path(\n",
    "    FD_RES, \n",
    "    \"analysis_umap_cluster_by_coverage_score\", \n",
    "    \"fcc_astarr_macs_input_overlap\",\n",
    "    \"atac_full\",\n",
    "    \"prepare_matrix\"\n",
    ")\n",
    "txt_fname = \"matrix*tsv\"\n",
    "txt_fglob = file.path(txt_fdiry, txt_fname)\n",
    "vec = Sys.glob(txt_fglob)\n",
    "\n",
    "vec_txt_fpath = vec\n",
    "vec_txt_fname = basename(vec)\n",
    "print(length(vec))\n",
    "for (txt in vec){cat(txt, \"\\n\")}"
   ]
  },
  {
   "cell_type": "code",
   "execution_count": 37,
   "id": "02681d6d-441b-4e8a-b14d-49a882980047",
   "metadata": {},
   "outputs": [
    {
     "name": "stdout",
     "output_type": "stream",
     "text": [
      "[1] \"matrix.coverage.encode_chipseq_full_log2p.tsv\"                \n",
      "[2] \"matrix.coverage.encode_chipseq_full_mean0.tsv\"                \n",
      "[3] \"matrix.coverage.encode_chipseq_full_zscore.fcc_zscore.tss.tsv\"\n",
      "[4] \"matrix.coverage.encode_chipseq_full_zscore.fcc_zscore.tsv\"    \n",
      "[5] \"matrix.coverage.encode_chipseq_full_zscore.tsv\"               \n",
      "[6] \"matrix.coverage.fcc_zscore.tsv\"                               \n"
     ]
    }
   ],
   "source": [
    "lst = lapply(vec_txt_fpath, function(txt_fpath){\n",
    "    dat = read_tsv(txt_fpath, show_col_types = FALSE)\n",
    "    return(dat)\n",
    "})\n",
    "names(lst) = vec_txt_fname\n",
    "lst_dat_region_score = lst\n",
    "print(names(lst))"
   ]
  },
  {
   "cell_type": "code",
   "execution_count": 38,
   "id": "44199136-e93c-46bf-aa23-6c8e854d27e8",
   "metadata": {},
   "outputs": [
    {
     "data": {
      "text/html": [
       "<table class=\"dataframe\">\n",
       "<caption>A tibble: 3 × 522</caption>\n",
       "<thead>\n",
       "\t<tr><th scope=col>Region</th><th scope=col>H2AFZ</th><th scope=col>H3K27ac</th><th scope=col>H3K27me3</th><th scope=col>H3K36me3</th><th scope=col>H3K4me1</th><th scope=col>H3K4me2</th><th scope=col>H3K4me3</th><th scope=col>H3K79me2</th><th scope=col>H3K9ac</th><th scope=col>⋯</th><th scope=col>ZNF778</th><th scope=col>ZNF780A</th><th scope=col>ZNF785</th><th scope=col>ZNF79</th><th scope=col>ZNF83</th><th scope=col>ZNF830</th><th scope=col>ZNF84</th><th scope=col>ZSCAN29</th><th scope=col>ZSCAN32</th><th scope=col>ZZZ3</th></tr>\n",
       "\t<tr><th scope=col>&lt;chr&gt;</th><th scope=col>&lt;dbl&gt;</th><th scope=col>&lt;dbl&gt;</th><th scope=col>&lt;dbl&gt;</th><th scope=col>&lt;dbl&gt;</th><th scope=col>&lt;dbl&gt;</th><th scope=col>&lt;dbl&gt;</th><th scope=col>&lt;dbl&gt;</th><th scope=col>&lt;dbl&gt;</th><th scope=col>&lt;dbl&gt;</th><th scope=col>⋯</th><th scope=col>&lt;dbl&gt;</th><th scope=col>&lt;dbl&gt;</th><th scope=col>&lt;dbl&gt;</th><th scope=col>&lt;dbl&gt;</th><th scope=col>&lt;dbl&gt;</th><th scope=col>&lt;dbl&gt;</th><th scope=col>&lt;dbl&gt;</th><th scope=col>&lt;dbl&gt;</th><th scope=col>&lt;dbl&gt;</th><th scope=col>&lt;dbl&gt;</th></tr>\n",
       "</thead>\n",
       "<tbody>\n",
       "\t<tr><td>chr1:100028014-100029653</td><td>0.93242936</td><td>1.202217</td><td>0.3674175</td><td>1.1781314</td><td>1.510638</td><td>0.6818927</td><td>0.5918414</td><td>0.3212089</td><td>1.029037</td><td>⋯</td><td>0.6865238</td><td>0.7340796</td><td>0.9827158</td><td>0.8086948</td><td>1.2176836</td><td>0.8824631</td><td>1.0330670</td><td>0.9713258</td><td>0.8083307</td><td>1.123223</td></tr>\n",
       "\t<tr><td>chr1:100036895-100039189</td><td>2.89957396</td><td>3.910099</td><td>0.4091536</td><td>1.1978119</td><td>1.069881</td><td>4.9478111</td><td>5.5219678</td><td>4.1772959</td><td>4.663171</td><td>⋯</td><td>0.4703713</td><td>0.9974760</td><td>0.7494047</td><td>0.7847887</td><td>1.0594176</td><td>0.9006655</td><td>1.1498056</td><td>1.2491389</td><td>1.0451144</td><td>1.033166</td></tr>\n",
       "\t<tr><td>chr1:100046252-100046533</td><td>0.04290946</td><td>1.091537</td><td>0.4388560</td><td>0.5386822</td><td>2.148905</td><td>1.2418524</td><td>1.1294906</td><td>3.5795422</td><td>1.101003</td><td>⋯</td><td>0.9945232</td><td>0.6989634</td><td>0.8432876</td><td>1.0950400</td><td>0.9029904</td><td>0.8709013</td><td>0.7301539</td><td>1.1432014</td><td>1.1482769</td><td>1.394350</td></tr>\n",
       "</tbody>\n",
       "</table>\n"
      ],
      "text/latex": [
       "A tibble: 3 × 522\n",
       "\\begin{tabular}{lllllllllllllllllllll}\n",
       " Region & H2AFZ & H3K27ac & H3K27me3 & H3K36me3 & H3K4me1 & H3K4me2 & H3K4me3 & H3K79me2 & H3K9ac & ⋯ & ZNF778 & ZNF780A & ZNF785 & ZNF79 & ZNF83 & ZNF830 & ZNF84 & ZSCAN29 & ZSCAN32 & ZZZ3\\\\\n",
       " <chr> & <dbl> & <dbl> & <dbl> & <dbl> & <dbl> & <dbl> & <dbl> & <dbl> & <dbl> & ⋯ & <dbl> & <dbl> & <dbl> & <dbl> & <dbl> & <dbl> & <dbl> & <dbl> & <dbl> & <dbl>\\\\\n",
       "\\hline\n",
       "\t chr1:100028014-100029653 & 0.93242936 & 1.202217 & 0.3674175 & 1.1781314 & 1.510638 & 0.6818927 & 0.5918414 & 0.3212089 & 1.029037 & ⋯ & 0.6865238 & 0.7340796 & 0.9827158 & 0.8086948 & 1.2176836 & 0.8824631 & 1.0330670 & 0.9713258 & 0.8083307 & 1.123223\\\\\n",
       "\t chr1:100036895-100039189 & 2.89957396 & 3.910099 & 0.4091536 & 1.1978119 & 1.069881 & 4.9478111 & 5.5219678 & 4.1772959 & 4.663171 & ⋯ & 0.4703713 & 0.9974760 & 0.7494047 & 0.7847887 & 1.0594176 & 0.9006655 & 1.1498056 & 1.2491389 & 1.0451144 & 1.033166\\\\\n",
       "\t chr1:100046252-100046533 & 0.04290946 & 1.091537 & 0.4388560 & 0.5386822 & 2.148905 & 1.2418524 & 1.1294906 & 3.5795422 & 1.101003 & ⋯ & 0.9945232 & 0.6989634 & 0.8432876 & 1.0950400 & 0.9029904 & 0.8709013 & 0.7301539 & 1.1432014 & 1.1482769 & 1.394350\\\\\n",
       "\\end{tabular}\n"
      ],
      "text/markdown": [
       "\n",
       "A tibble: 3 × 522\n",
       "\n",
       "| Region &lt;chr&gt; | H2AFZ &lt;dbl&gt; | H3K27ac &lt;dbl&gt; | H3K27me3 &lt;dbl&gt; | H3K36me3 &lt;dbl&gt; | H3K4me1 &lt;dbl&gt; | H3K4me2 &lt;dbl&gt; | H3K4me3 &lt;dbl&gt; | H3K79me2 &lt;dbl&gt; | H3K9ac &lt;dbl&gt; | ⋯ ⋯ | ZNF778 &lt;dbl&gt; | ZNF780A &lt;dbl&gt; | ZNF785 &lt;dbl&gt; | ZNF79 &lt;dbl&gt; | ZNF83 &lt;dbl&gt; | ZNF830 &lt;dbl&gt; | ZNF84 &lt;dbl&gt; | ZSCAN29 &lt;dbl&gt; | ZSCAN32 &lt;dbl&gt; | ZZZ3 &lt;dbl&gt; |\n",
       "|---|---|---|---|---|---|---|---|---|---|---|---|---|---|---|---|---|---|---|---|---|\n",
       "| chr1:100028014-100029653 | 0.93242936 | 1.202217 | 0.3674175 | 1.1781314 | 1.510638 | 0.6818927 | 0.5918414 | 0.3212089 | 1.029037 | ⋯ | 0.6865238 | 0.7340796 | 0.9827158 | 0.8086948 | 1.2176836 | 0.8824631 | 1.0330670 | 0.9713258 | 0.8083307 | 1.123223 |\n",
       "| chr1:100036895-100039189 | 2.89957396 | 3.910099 | 0.4091536 | 1.1978119 | 1.069881 | 4.9478111 | 5.5219678 | 4.1772959 | 4.663171 | ⋯ | 0.4703713 | 0.9974760 | 0.7494047 | 0.7847887 | 1.0594176 | 0.9006655 | 1.1498056 | 1.2491389 | 1.0451144 | 1.033166 |\n",
       "| chr1:100046252-100046533 | 0.04290946 | 1.091537 | 0.4388560 | 0.5386822 | 2.148905 | 1.2418524 | 1.1294906 | 3.5795422 | 1.101003 | ⋯ | 0.9945232 | 0.6989634 | 0.8432876 | 1.0950400 | 0.9029904 | 0.8709013 | 0.7301539 | 1.1432014 | 1.1482769 | 1.394350 |\n",
       "\n"
      ],
      "text/plain": [
       "  Region                   H2AFZ      H3K27ac  H3K27me3  H3K36me3  H3K4me1 \n",
       "1 chr1:100028014-100029653 0.93242936 1.202217 0.3674175 1.1781314 1.510638\n",
       "2 chr1:100036895-100039189 2.89957396 3.910099 0.4091536 1.1978119 1.069881\n",
       "3 chr1:100046252-100046533 0.04290946 1.091537 0.4388560 0.5386822 2.148905\n",
       "  H3K4me2   H3K4me3   H3K79me2  H3K9ac   ⋯ ZNF778    ZNF780A   ZNF785   \n",
       "1 0.6818927 0.5918414 0.3212089 1.029037 ⋯ 0.6865238 0.7340796 0.9827158\n",
       "2 4.9478111 5.5219678 4.1772959 4.663171 ⋯ 0.4703713 0.9974760 0.7494047\n",
       "3 1.2418524 1.1294906 3.5795422 1.101003 ⋯ 0.9945232 0.6989634 0.8432876\n",
       "  ZNF79     ZNF83     ZNF830    ZNF84     ZSCAN29   ZSCAN32   ZZZ3    \n",
       "1 0.8086948 1.2176836 0.8824631 1.0330670 0.9713258 0.8083307 1.123223\n",
       "2 0.7847887 1.0594176 0.9006655 1.1498056 1.2491389 1.0451144 1.033166\n",
       "3 1.0950400 0.9029904 0.8709013 0.7301539 1.1432014 1.1482769 1.394350"
      ]
     },
     "metadata": {},
     "output_type": "display_data"
    }
   ],
   "source": [
    "lst = lst_dat_region_score\n",
    "dat = lst[[1]]\n",
    "head(dat, 3)"
   ]
  },
  {
   "cell_type": "code",
   "execution_count": 39,
   "id": "5ddbb20c-b9f0-47ac-8b67-4d16d3d2320a",
   "metadata": {},
   "outputs": [
    {
     "name": "stdout",
     "output_type": "stream",
     "text": [
      "fcc_starrmpra_vote2 \n",
      "[1] \"matrix.coverage.encode_chipseq_full_log2p.tsv\"\n",
      "[1] 18341   522\n",
      "[1] \"matrix.coverage.encode_chipseq_full_mean0.tsv\"\n",
      "[1] 18341   522\n",
      "[1] \"matrix.coverage.encode_chipseq_full_zscore.fcc_zscore.tss.tsv\"\n",
      "[1] 18341   529\n",
      "[1] \"matrix.coverage.encode_chipseq_full_zscore.fcc_zscore.tsv\"\n",
      "[1] 18341   528\n",
      "[1] \"matrix.coverage.encode_chipseq_full_zscore.tsv\"\n",
      "[1] 18341   522\n",
      "[1] \"matrix.coverage.fcc_zscore.tsv\"\n",
      "[1] 18341     7\n",
      "fcc_starrmpra_vote1_overlap_crispri \n",
      "[1] \"matrix.coverage.encode_chipseq_full_log2p.tsv\"\n",
      "[1] 3885  522\n",
      "[1] \"matrix.coverage.encode_chipseq_full_mean0.tsv\"\n",
      "[1] 3885  522\n",
      "[1] \"matrix.coverage.encode_chipseq_full_zscore.fcc_zscore.tss.tsv\"\n",
      "[1] 3885  529\n",
      "[1] \"matrix.coverage.encode_chipseq_full_zscore.fcc_zscore.tsv\"\n",
      "[1] 3885  528\n",
      "[1] \"matrix.coverage.encode_chipseq_full_zscore.tsv\"\n",
      "[1] 3885  522\n",
      "[1] \"matrix.coverage.fcc_zscore.tsv\"\n",
      "[1] 3885    7\n",
      "fcc_starrmpra_vote2_overlap_crispri \n",
      "[1] \"matrix.coverage.encode_chipseq_full_log2p.tsv\"\n",
      "[1] 1652  522\n",
      "[1] \"matrix.coverage.encode_chipseq_full_mean0.tsv\"\n",
      "[1] 1652  522\n",
      "[1] \"matrix.coverage.encode_chipseq_full_zscore.fcc_zscore.tss.tsv\"\n",
      "[1] 1652  529\n",
      "[1] \"matrix.coverage.encode_chipseq_full_zscore.fcc_zscore.tsv\"\n",
      "[1] 1652  528\n",
      "[1] \"matrix.coverage.encode_chipseq_full_zscore.tsv\"\n",
      "[1] 1652  522\n",
      "[1] \"matrix.coverage.fcc_zscore.tsv\"\n",
      "[1] 1652    7\n",
      "fcc_starrmpra_vote2_union_crispri \n",
      "[1] \"matrix.coverage.encode_chipseq_full_log2p.tsv\"\n",
      "[1] 21429   522\n",
      "[1] \"matrix.coverage.encode_chipseq_full_mean0.tsv\"\n",
      "[1] 21429   522\n",
      "[1] \"matrix.coverage.encode_chipseq_full_zscore.fcc_zscore.tss.tsv\"\n",
      "[1] 21429   529\n",
      "[1] \"matrix.coverage.encode_chipseq_full_zscore.fcc_zscore.tsv\"\n",
      "[1] 21429   528\n",
      "[1] \"matrix.coverage.encode_chipseq_full_zscore.tsv\"\n",
      "[1] 21429   522\n",
      "[1] \"matrix.coverage.fcc_zscore.tsv\"\n",
      "[1] 21429     7\n",
      "fcc_starrmpracrispri_vote1 \n",
      "[1] \"matrix.coverage.encode_chipseq_full_log2p.tsv\"\n",
      "[1] 96550   522\n",
      "[1] \"matrix.coverage.encode_chipseq_full_mean0.tsv\"\n",
      "[1] 96550   522\n",
      "[1] \"matrix.coverage.encode_chipseq_full_zscore.fcc_zscore.tss.tsv\"\n",
      "[1] 96550   529\n",
      "[1] \"matrix.coverage.encode_chipseq_full_zscore.fcc_zscore.tsv\"\n",
      "[1] 96550   528\n",
      "[1] \"matrix.coverage.encode_chipseq_full_zscore.tsv\"\n",
      "[1] 96550   522\n",
      "[1] \"matrix.coverage.fcc_zscore.tsv\"\n",
      "[1] 96550     7\n",
      "fcc_starrmpracrispri_vote2 \n",
      "[1] \"matrix.coverage.encode_chipseq_full_log2p.tsv\"\n",
      "[1] 18341   522\n",
      "[1] \"matrix.coverage.encode_chipseq_full_mean0.tsv\"\n",
      "[1] 18341   522\n",
      "[1] \"matrix.coverage.encode_chipseq_full_zscore.fcc_zscore.tss.tsv\"\n",
      "[1] 18341   529\n",
      "[1] \"matrix.coverage.encode_chipseq_full_zscore.fcc_zscore.tsv\"\n",
      "[1] 18341   528\n",
      "[1] \"matrix.coverage.encode_chipseq_full_zscore.tsv\"\n",
      "[1] 18341   522\n",
      "[1] \"matrix.coverage.fcc_zscore.tsv\"\n",
      "[1] 18341     7\n"
     ]
    }
   ],
   "source": [
    "for (idx_region in names(lst_vec_txt_region)){\n",
    "    cat(idx_region, \"\\n\")\n",
    "    vec_txt_region = lst_vec_txt_region[[idx_region]]\n",
    "\n",
    "    \n",
    "    for (txt_fname in vec_txt_fname){\n",
    "        ###\n",
    "        dat = lst_dat_region_score[[txt_fname]]\n",
    "        dat = dat %>% dplyr::filter(Region %in% vec_txt_region)\n",
    "\n",
    "        ###\n",
    "        txt_fdiry = file.path(\n",
    "            FD_RES, \n",
    "            \"analysis_umap_cluster_by_coverage_score\", \n",
    "            \"fcc_astarr_macs_input_overlap\",\n",
    "            idx_region,\n",
    "            \"prepare_matrix\"\n",
    "        )\n",
    "        txt_cmd = paste(\"mkdir -p\", txt_fdiry)\n",
    "        system(txt_cmd)\n",
    "        \n",
    "        ###\n",
    "        txt_fpath = file.path(txt_fdiry, txt_fname)\n",
    "        write_tsv(dat, txt_fpath)\n",
    "\n",
    "        ###\n",
    "        print(txt_fname)\n",
    "        print(dim(dat))\n",
    "        flush.console()\n",
    "\n",
    "        \n",
    "    }\n",
    "}"
   ]
  },
  {
   "cell_type": "code",
   "execution_count": null,
   "id": "c79ec340-d8f3-4bc5-99c6-cb6b8aa3afd2",
   "metadata": {},
   "outputs": [],
   "source": []
  },
  {
   "cell_type": "code",
   "execution_count": null,
   "id": "6b6c6067-2699-41c7-9b57-4b09bcf83654",
   "metadata": {},
   "outputs": [],
   "source": []
  }
 ],
 "metadata": {
  "kernelspec": {
   "display_name": "R",
   "language": "R",
   "name": "ir"
  },
  "language_info": {
   "codemirror_mode": "r",
   "file_extension": ".r",
   "mimetype": "text/x-r-source",
   "name": "R",
   "pygments_lexer": "r",
   "version": "4.4.1"
  }
 },
 "nbformat": 4,
 "nbformat_minor": 5
}
