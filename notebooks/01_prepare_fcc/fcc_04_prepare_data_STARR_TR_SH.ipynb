{
 "cells": [
  {
   "cell_type": "raw",
   "id": "7aabfdd8-a8b2-4a9a-a489-7d3dc1c54fcb",
   "metadata": {
    "tags": []
   },
   "source": [
    "---\n",
    "title: Prepare STARR-seq data 041\n",
    "subtitle: Prepare STARR-seq data files from `PROJECT/data` to `PROJECT/results` folder\n",
    "format:\n",
    "    html:\n",
    "        code-fold:  true\n",
    "        code-tools: true\n",
    "---"
   ]
  },
  {
   "cell_type": "markdown",
   "id": "90d1e5e2-4620-4e07-8955-01bd08781714",
   "metadata": {},
   "source": [
    "**Set environment**"
   ]
  },
  {
   "cell_type": "code",
   "execution_count": 1,
   "id": "87f7e9e5-70c6-4e7f-8b6d-e439b16e9352",
   "metadata": {},
   "outputs": [
    {
     "name": "stdout",
     "output_type": "stream",
     "text": [
      "You are working on             Duke Server: HARDAC\n",
      "BASE DIRECTORY (FD_BASE):      /data/reddylab/Kuei\n",
      "REPO DIRECTORY (FD_REPO):      /data/reddylab/Kuei/repo\n",
      "WORK DIRECTORY (FD_WORK):      /data/reddylab/Kuei/work\n",
      "DATA DIRECTORY (FD_DATA):      /data/reddylab/Kuei/data\n",
      "CONTAINER DIR. (FD_SING):      /data/reddylab/Kuei/container\n",
      "\n",
      "You are working with           ENCODE FCC\n",
      "PATH OF PROJECT (FD_PRJ):      /data/reddylab/Kuei/repo/Proj_ENCODE_FCC\n",
      "PROJECT RESULTS (FD_RES):      /data/reddylab/Kuei/repo/Proj_ENCODE_FCC/results\n",
      "PROJECT SCRIPTS (FD_EXE):      /data/reddylab/Kuei/repo/Proj_ENCODE_FCC/scripts\n",
      "PROJECT DATA    (FD_DAT):      /data/reddylab/Kuei/repo/Proj_ENCODE_FCC/data\n",
      "PROJECT NOTE    (FD_NBK):      /data/reddylab/Kuei/repo/Proj_ENCODE_FCC/notebooks\n",
      "PROJECT DOCS    (FD_DOC):      /data/reddylab/Kuei/repo/Proj_ENCODE_FCC/docs\n",
      "PROJECT LOG     (FD_LOG):      /data/reddylab/Kuei/repo/Proj_ENCODE_FCC/log\n",
      "PROJECT APP     (FD_APP):      \n",
      "PROJECT REF     (FD_REF):      /data/reddylab/Kuei/repo/Proj_ENCODE_FCC/references\n",
      "PROJECT IMAGE   (FP_PRJ_SIF):  /data/reddylab/Kuei/container/project/singularity_proj_encode_fcc.sif\n",
      "\n"
     ]
    }
   ],
   "source": [
    "source ../run_config_project.sh\n",
    "show_env"
   ]
  },
  {
   "cell_type": "code",
   "execution_count": 2,
   "id": "581d5c4d-175f-4c9d-9c29-a0872202a20c",
   "metadata": {},
   "outputs": [],
   "source": [
    "mkdir -p ${FD_RES}/assay_fcc/STARR_ATAC_K562_Reddy_KS91/fragment_counts\n",
    "mkdir -p ${FD_RES}/assay_fcc/STARR_ATAC_K562_Reddy_KS274/fragment_counts\n",
    "mkdir -p ${FD_RES}/assay_fcc/STARR_ATAC_K562_Reddy_KSMerge/fragment_counts\n",
    "mkdir -p ${FD_RES}/assay_fcc/STARR_WHG_K562_Reddy_A001/fragment_counts\n",
    "mkdir -p ${FD_RES}/region/fcc_astarr_macs"
   ]
  },
  {
   "cell_type": "markdown",
   "id": "f7feec24-bbe6-474e-8930-c8080a5e6a65",
   "metadata": {},
   "source": [
    "## Prepare fragment counts of ASTARR (KS91)"
   ]
  },
  {
   "cell_type": "markdown",
   "id": "900778ce-8065-4b90-a7c6-10f3aa39a9ce",
   "metadata": {},
   "source": [
    "**Data: Original files**\n",
    "\n",
    "`PROJECT/data/processed/STARR_ATAC_K562_Reddy_KS91_210401/fragments`\n",
    "\n",
    "```\n",
    "KS91_K562_hg38_ASTARRseq_Input_rep1.masked.dedup.fragments.counts.txt.gz\n",
    "KS91_K562_hg38_ASTARRseq_Input_rep2.masked.dedup.fragments.counts.txt.gz\n",
    "KS91_K562_hg38_ASTARRseq_Input_rep3.masked.dedup.fragments.counts.txt.gz\n",
    "KS91_K562_hg38_ASTARRseq_Input_rep4.masked.dedup.fragments.counts.txt.gz\n",
    "KS91_K562_hg38_ASTARRseq_Input_rep5.masked.dedup.fragments.counts.txt.gz\n",
    "KS91_K562_hg38_ASTARRseq_Input_rep6.masked.dedup.fragments.counts.txt.gz\n",
    "\n",
    "KS91_K562_hg38_ASTARRseq_Output_rep1.f3q10.fragments.counts.txt.gz\n",
    "KS91_K562_hg38_ASTARRseq_Output_rep2.f3q10.fragments.counts.corrected.txt.gz\n",
    "KS91_K562_hg38_ASTARRseq_Output_rep3.f3q10.fragments.counts.txt.gz\n",
    "KS91_K562_hg38_ASTARRseq_Output_rep4.f3q10.fragments.counts.corrected.txt.gz\n",
    "```\n",
    "\n",
    "**Results: SymLinks**\n",
    "\n",
    "`PROJECT/results/assay_fcc/STARR_ATAC_K562_Reddy_KS91/fragment_counts`\n",
    "\n",
    "```\n",
    "ASTARRseq_K562_KS91.hg38.Input.rep1.WGS.unstranded.bed.gz\n",
    "ASTARRseq_K562_KS91.hg38.Input.rep2.WGS.unstranded.bed.gz\n",
    "ASTARRseq_K562_KS91.hg38.Input.rep3.WGS.unstranded.bed.gz\n",
    "ASTARRseq_K562_KS91.hg38.Input.rep4.WGS.unstranded.bed.gz\n",
    "ASTARRseq_K562_KS91.hg38.Input.rep5.WGS.unstranded.bed.gz\n",
    "ASTARRseq_K562_KS91.hg38.Input.rep6.WGS.unstranded.bed.gz\n",
    "\n",
    "ASTARRseq_K562_KS91.hg38.Output.rep1.WGS.unstranded.bed.gz\n",
    "ASTARRseq_K562_KS91.hg38.Output.rep2.WGS.unstranded.bed.gz\n",
    "ASTARRseq_K562_KS91.hg38.Output.rep3.WGS.unstranded.bed.gz\n",
    "ASTARRseq_K562_KS91.hg38.Output.rep4.WGS.unstranded.bed.gz\n",
    "```"
   ]
  },
  {
   "cell_type": "markdown",
   "id": "fbf1f7e5-fcb8-41ed-9d1a-698ee0adf5c2",
   "metadata": {},
   "source": [
    "**Check data**"
   ]
  },
  {
   "cell_type": "code",
   "execution_count": 3,
   "id": "350f9760-d14e-4ed2-ac4a-1f5c2f68607e",
   "metadata": {},
   "outputs": [
    {
     "name": "stdout",
     "output_type": "stream",
     "text": [
      "KS91_K562_hg38_ASTARRseq_Input_rep1.masked.dedup.fragments.counts.txt.gz\n",
      "KS91_K562_hg38_ASTARRseq_Input_rep2.masked.dedup.fragments.counts.txt.gz\n",
      "KS91_K562_hg38_ASTARRseq_Input_rep3.masked.dedup.fragments.counts.txt.gz\n",
      "KS91_K562_hg38_ASTARRseq_Input_rep4.masked.dedup.fragments.counts.txt.gz\n",
      "KS91_K562_hg38_ASTARRseq_Input_rep5.masked.dedup.fragments.counts.txt.gz\n",
      "KS91_K562_hg38_ASTARRseq_Input_rep6.masked.dedup.fragments.counts.txt.gz\n",
      "KS91_K562_hg38_ASTARRseq_Output_rep1.f3q10.fragments.counts.txt.gz\n",
      "KS91_K562_hg38_ASTARRseq_Output_rep2.f3q10.fragments.counts.corrected.txt.gz\n",
      "KS91_K562_hg38_ASTARRseq_Output_rep2.f3q10.fragments.counts.txt.gz\n",
      "KS91_K562_hg38_ASTARRseq_Output_rep3.f3q10.fragments.counts.corrected.txt.gz\n",
      "KS91_K562_hg38_ASTARRseq_Output_rep3.f3q10.fragments.counts.txt.gz\n",
      "KS91_K562_hg38_ASTARRseq_Output_rep4.f3q10.fragments.counts.corrected.txt.gz\n",
      "KS91_K562_hg38_ASTARRseq_Output_rep4.f3q10.fragments.counts.txt.gz\n"
     ]
    }
   ],
   "source": [
    "FD_INP=${FD_DAT}/processed/STARR_ATAC_K562_Reddy_KS91_210401/fragments\n",
    "ls -1 ${FD_INP}/*fragments.counts* | xargs -n 1 basename"
   ]
  },
  {
   "cell_type": "markdown",
   "id": "1ca53afa-5203-430c-b3f3-a04db0cbaf2d",
   "metadata": {},
   "source": [
    "**Execute**\n",
    "\n",
    "List the file names, loop the list, and link the files"
   ]
  },
  {
   "cell_type": "code",
   "execution_count": 6,
   "id": "2accdab6-516f-4d1d-98ae-da3fc1e71eb7",
   "metadata": {},
   "outputs": [],
   "source": [
    "FD_INP=${FD_DAT}/processed/STARR_ATAC_K562_Reddy_KS91_210401/fragments\n",
    "FD_OUT=${FD_RES}/assay_fcc/STARR_ATAC_K562_Reddy_KS91/fragment_counts\n",
    "\n",
    "FN_INPS=(\n",
    "    KS91_K562_hg38_ASTARRseq_Input_rep1.masked.dedup.fragments.counts.txt.gz\n",
    "    KS91_K562_hg38_ASTARRseq_Input_rep2.masked.dedup.fragments.counts.txt.gz\n",
    "    KS91_K562_hg38_ASTARRseq_Input_rep3.masked.dedup.fragments.counts.txt.gz\n",
    "    KS91_K562_hg38_ASTARRseq_Input_rep4.masked.dedup.fragments.counts.txt.gz\n",
    "    KS91_K562_hg38_ASTARRseq_Input_rep5.masked.dedup.fragments.counts.txt.gz\n",
    "    KS91_K562_hg38_ASTARRseq_Input_rep6.masked.dedup.fragments.counts.txt.gz\n",
    "    KS91_K562_hg38_ASTARRseq_Output_rep1.f3q10.fragments.counts.txt.gz\n",
    "    KS91_K562_hg38_ASTARRseq_Output_rep2.f3q10.fragments.counts.corrected.txt.gz\n",
    "    KS91_K562_hg38_ASTARRseq_Output_rep3.f3q10.fragments.counts.txt.gz\n",
    "    KS91_K562_hg38_ASTARRseq_Output_rep4.f3q10.fragments.counts.corrected.txt.gz\n",
    ")\n",
    "\n",
    "FN_OUTS=(\n",
    "    ASTARRseq_K562_KS91.hg38.Input.rep1.WGS.unstranded.bed.gz\n",
    "    ASTARRseq_K562_KS91.hg38.Input.rep2.WGS.unstranded.bed.gz\n",
    "    ASTARRseq_K562_KS91.hg38.Input.rep3.WGS.unstranded.bed.gz\n",
    "    ASTARRseq_K562_KS91.hg38.Input.rep4.WGS.unstranded.bed.gz\n",
    "    ASTARRseq_K562_KS91.hg38.Input.rep5.WGS.unstranded.bed.gz\n",
    "    ASTARRseq_K562_KS91.hg38.Input.rep6.WGS.unstranded.bed.gz\n",
    "    ASTARRseq_K562_KS91.hg38.Output.rep1.WGS.unstranded.bed.gz\n",
    "    ASTARRseq_K562_KS91.hg38.Output.rep2.WGS.unstranded.bed.gz\n",
    "    ASTARRseq_K562_KS91.hg38.Output.rep3.WGS.unstranded.bed.gz\n",
    "    ASTARRseq_K562_KS91.hg38.Output.rep4.WGS.unstranded.bed.gz\n",
    ")"
   ]
  },
  {
   "cell_type": "code",
   "execution_count": 7,
   "id": "39767ccc-4533-4156-9a45-63bea93da8ca",
   "metadata": {},
   "outputs": [
    {
     "name": "stdout",
     "output_type": "stream",
     "text": [
      "Create symbolic links.\n",
      "Create symbolic links.\n",
      "Create symbolic links.\n",
      "Create symbolic links.\n",
      "Create symbolic links.\n",
      "Create symbolic links.\n",
      "Create symbolic links.\n",
      "Create symbolic links.\n",
      "Create symbolic links.\n",
      "Create symbolic links.\n"
     ]
    }
   ],
   "source": [
    "for idx in \"${!FN_INPS[@]}\"; do\n",
    "    FN_INP=${FN_INPS[idx]}\n",
    "    FN_OUT=${FN_OUTS[idx]}\n",
    "    \n",
    "    FILE=${FD_INP}/${FN_INP}\n",
    "    LINK=${FD_OUT}/${FN_OUT}\n",
    "    \n",
    "    if [[ -h ${LINK} ]]; then\n",
    "        rm ${LINK}\n",
    "    fi\n",
    "    \n",
    "    if [[ ! -e ${LINK} ]]; then\n",
    "        echo \"Create symbolic links.\"\n",
    "        ln -s ${FILE} ${LINK}\n",
    "    fi\n",
    "done"
   ]
  },
  {
   "cell_type": "markdown",
   "id": "d06f78dd-01c0-434c-b8e5-80d2810eedf0",
   "metadata": {},
   "source": [
    "**Check results**"
   ]
  },
  {
   "cell_type": "code",
   "execution_count": 8,
   "id": "8e83f17f-b5cb-4db4-a1a3-efe94bbd2846",
   "metadata": {},
   "outputs": [
    {
     "name": "stdout",
     "output_type": "stream",
     "text": [
      "lrwxrwxrwx 1 kk319 reddylab 172 Jun  4 11:47 \u001b[0m\u001b[38;5;51m/data/reddylab/Kuei/repo/Proj_ENCODE_FCC/results/assay_fcc/STARR_ATAC_K562_Reddy_KS91/fragment_counts/ASTARRseq_K562_KS91.hg38.Input.rep1.WGS.unstranded.bed.gz\u001b[0m\u001b[K -> \u001b[38;5;9m/data/reddylab/Kuei/repo/Proj_ENCODE_FCC/data/processed/STARR_ATAC_K562_Reddy_KS91_210401/fragments/KS91_K562_hg38_ASTARRseq_Input_rep1.masked.dedup.fragments.counts.txt.gz\u001b[0m\u001b[K\n",
      "lrwxrwxrwx 1 kk319 reddylab 172 Jun  4 11:47 \u001b[38;5;51m/data/reddylab/Kuei/repo/Proj_ENCODE_FCC/results/assay_fcc/STARR_ATAC_K562_Reddy_KS91/fragment_counts/ASTARRseq_K562_KS91.hg38.Input.rep2.WGS.unstranded.bed.gz\u001b[0m\u001b[K -> \u001b[38;5;9m/data/reddylab/Kuei/repo/Proj_ENCODE_FCC/data/processed/STARR_ATAC_K562_Reddy_KS91_210401/fragments/KS91_K562_hg38_ASTARRseq_Input_rep2.masked.dedup.fragments.counts.txt.gz\u001b[0m\u001b[K\n",
      "lrwxrwxrwx 1 kk319 reddylab 172 Jun  4 11:47 \u001b[38;5;51m/data/reddylab/Kuei/repo/Proj_ENCODE_FCC/results/assay_fcc/STARR_ATAC_K562_Reddy_KS91/fragment_counts/ASTARRseq_K562_KS91.hg38.Input.rep3.WGS.unstranded.bed.gz\u001b[0m\u001b[K -> \u001b[38;5;9m/data/reddylab/Kuei/repo/Proj_ENCODE_FCC/data/processed/STARR_ATAC_K562_Reddy_KS91_210401/fragments/KS91_K562_hg38_ASTARRseq_Input_rep3.masked.dedup.fragments.counts.txt.gz\u001b[0m\u001b[K\n",
      "lrwxrwxrwx 1 kk319 reddylab 172 Jun  4 11:47 \u001b[38;5;51m/data/reddylab/Kuei/repo/Proj_ENCODE_FCC/results/assay_fcc/STARR_ATAC_K562_Reddy_KS91/fragment_counts/ASTARRseq_K562_KS91.hg38.Input.rep4.WGS.unstranded.bed.gz\u001b[0m\u001b[K -> \u001b[38;5;9m/data/reddylab/Kuei/repo/Proj_ENCODE_FCC/data/processed/STARR_ATAC_K562_Reddy_KS91_210401/fragments/KS91_K562_hg38_ASTARRseq_Input_rep4.masked.dedup.fragments.counts.txt.gz\u001b[0m\u001b[K\n",
      "lrwxrwxrwx 1 kk319 reddylab 172 Jun  4 11:47 \u001b[38;5;51m/data/reddylab/Kuei/repo/Proj_ENCODE_FCC/results/assay_fcc/STARR_ATAC_K562_Reddy_KS91/fragment_counts/ASTARRseq_K562_KS91.hg38.Input.rep5.WGS.unstranded.bed.gz\u001b[0m\u001b[K -> \u001b[38;5;9m/data/reddylab/Kuei/repo/Proj_ENCODE_FCC/data/processed/STARR_ATAC_K562_Reddy_KS91_210401/fragments/KS91_K562_hg38_ASTARRseq_Input_rep5.masked.dedup.fragments.counts.txt.gz\u001b[0m\u001b[K\n",
      "lrwxrwxrwx 1 kk319 reddylab 172 Jun  4 11:47 \u001b[38;5;51m/data/reddylab/Kuei/repo/Proj_ENCODE_FCC/results/assay_fcc/STARR_ATAC_K562_Reddy_KS91/fragment_counts/ASTARRseq_K562_KS91.hg38.Input.rep6.WGS.unstranded.bed.gz\u001b[0m\u001b[K -> \u001b[38;5;9m/data/reddylab/Kuei/repo/Proj_ENCODE_FCC/data/processed/STARR_ATAC_K562_Reddy_KS91_210401/fragments/KS91_K562_hg38_ASTARRseq_Input_rep6.masked.dedup.fragments.counts.txt.gz\u001b[0m\u001b[K\n",
      "lrwxrwxrwx 1 kk319 reddylab 166 Jun  4 11:47 \u001b[38;5;51m/data/reddylab/Kuei/repo/Proj_ENCODE_FCC/results/assay_fcc/STARR_ATAC_K562_Reddy_KS91/fragment_counts/ASTARRseq_K562_KS91.hg38.Output.rep1.WGS.unstranded.bed.gz\u001b[0m\u001b[K -> \u001b[38;5;9m/data/reddylab/Kuei/repo/Proj_ENCODE_FCC/data/processed/STARR_ATAC_K562_Reddy_KS91_210401/fragments/KS91_K562_hg38_ASTARRseq_Output_rep1.f3q10.fragments.counts.txt.gz\u001b[0m\u001b[K\n",
      "lrwxrwxrwx 1 kk319 reddylab 176 Jun  4 11:47 \u001b[38;5;51m/data/reddylab/Kuei/repo/Proj_ENCODE_FCC/results/assay_fcc/STARR_ATAC_K562_Reddy_KS91/fragment_counts/ASTARRseq_K562_KS91.hg38.Output.rep2.WGS.unstranded.bed.gz\u001b[0m\u001b[K -> \u001b[38;5;9m/data/reddylab/Kuei/repo/Proj_ENCODE_FCC/data/processed/STARR_ATAC_K562_Reddy_KS91_210401/fragments/KS91_K562_hg38_ASTARRseq_Output_rep2.f3q10.fragments.counts.corrected.txt.gz\u001b[0m\u001b[K\n",
      "lrwxrwxrwx 1 kk319 reddylab 166 Jun  4 11:47 \u001b[38;5;51m/data/reddylab/Kuei/repo/Proj_ENCODE_FCC/results/assay_fcc/STARR_ATAC_K562_Reddy_KS91/fragment_counts/ASTARRseq_K562_KS91.hg38.Output.rep3.WGS.unstranded.bed.gz\u001b[0m\u001b[K -> \u001b[38;5;9m/data/reddylab/Kuei/repo/Proj_ENCODE_FCC/data/processed/STARR_ATAC_K562_Reddy_KS91_210401/fragments/KS91_K562_hg38_ASTARRseq_Output_rep3.f3q10.fragments.counts.txt.gz\u001b[0m\u001b[K\n",
      "lrwxrwxrwx 1 kk319 reddylab 176 Jun  4 11:47 \u001b[38;5;51m/data/reddylab/Kuei/repo/Proj_ENCODE_FCC/results/assay_fcc/STARR_ATAC_K562_Reddy_KS91/fragment_counts/ASTARRseq_K562_KS91.hg38.Output.rep4.WGS.unstranded.bed.gz\u001b[0m\u001b[K -> \u001b[38;5;9m/data/reddylab/Kuei/repo/Proj_ENCODE_FCC/data/processed/STARR_ATAC_K562_Reddy_KS91_210401/fragments/KS91_K562_hg38_ASTARRseq_Output_rep4.f3q10.fragments.counts.corrected.txt.gz\u001b[0m\u001b[K\n"
     ]
    }
   ],
   "source": [
    "FD_OUT=${FD_RES}/assay_fcc/STARR_ATAC_K562_Reddy_KS91/fragment_counts/*bed.gz\n",
    "ls -l ${FD_OUT}"
   ]
  },
  {
   "cell_type": "code",
   "execution_count": 9,
   "id": "26e4af8f-57fd-44b8-ab86-b464381416ce",
   "metadata": {
    "tags": []
   },
   "outputs": [
    {
     "name": "stdout",
     "output_type": "stream",
     "text": [
      "chr1\t10001\t10143\tchr1_10001_10143\t1\t.\n",
      "chr1\t10002\t10118\tchr1_10002_10118\t1\t.\n",
      "chr1\t10002\t10131\tchr1_10002_10131\t1\t.\n",
      "chr1\t10002\t10203\tchr1_10002_10203\t1\t.\n",
      "chr1\t10002\t10209\tchr1_10002_10209\t1\t.\n",
      "chr1\t10002\t10227\tchr1_10002_10227\t1\t.\n"
     ]
    }
   ],
   "source": [
    "FD_OUT=${FD_RES}/assay_fcc/STARR_ATAC_K562_Reddy_KS91/fragment_counts\n",
    "FN_OUT=ASTARRseq_K562_KS91.hg38.Input.rep1.WGS.unstranded.bed.gz\n",
    "FP_OUT=${FD_OUT}/${FN_OUT}\n",
    "\n",
    "zcat ${FP_OUT} | head -n 6"
   ]
  },
  {
   "cell_type": "markdown",
   "id": "a4ebfc15-48d0-4d76-af2a-0c5057cb1e3e",
   "metadata": {},
   "source": [
    "## Prepare fragment counts of ASTARR (KS274)"
   ]
  },
  {
   "cell_type": "markdown",
   "id": "a18d83d2-3cec-4083-9422-e458dc3946fc",
   "metadata": {},
   "source": [
    "**Data: Original files**\n",
    "\n",
    "`PROJECT/data/processed/STARR_ATAC_K562_Reddy_KS91_210401/fragments`\n",
    "\n",
    "```\n",
    "KS91_K562_hg38_ASTARRseq_Input_rep1.masked.dedup.fragments.counts.txt.gz\n",
    "KS91_K562_hg38_ASTARRseq_Input_rep2.masked.dedup.fragments.counts.txt.gz\n",
    "KS91_K562_hg38_ASTARRseq_Input_rep3.masked.dedup.fragments.counts.txt.gz\n",
    "KS91_K562_hg38_ASTARRseq_Input_rep4.masked.dedup.fragments.counts.txt.gz\n",
    "KS91_K562_hg38_ASTARRseq_Input_rep5.masked.dedup.fragments.counts.txt.gz\n",
    "KS91_K562_hg38_ASTARRseq_Input_rep6.masked.dedup.fragments.counts.txt.gz\n",
    "```\n",
    "\n",
    "`PROJECT/data/processed/STARR_ATAC_K562_Reddy_KS274_240311/fragments`\n",
    "\n",
    "```\n",
    "K562_ASTARR_repeat_rep1.f3q10.fragments.counts.chr_main.txt.gz\n",
    "K562_ASTARR_repeat_rep2.f3q10.fragments.counts.chr_main.txt.gz\n",
    "K562_ASTARR_repeat_rep3.f3q10.fragments.counts.chr_main.txt.gz\n",
    "```\n",
    "\n",
    "**Results: SymLinks**\n",
    "\n",
    "`PROJECT/results/assay_fcc/STARR_ATAC_K562_Reddy_KS274/fragment_counts`\n",
    "\n",
    "```\n",
    "ASTARRseq_K562.hg38.Input.rep1.WGS.unstranded.bed.gz\n",
    "ASTARRseq_K562.hg38.Input.rep2.WGS.unstranded.bed.gz\n",
    "ASTARRseq_K562.hg38.Input.rep3.WGS.unstranded.bed.gz\n",
    "ASTARRseq_K562.hg38.Input.rep4.WGS.unstranded.bed.gz\n",
    "ASTARRseq_K562.hg38.Input.rep5.WGS.unstranded.bed.gz\n",
    "ASTARRseq_K562.hg38.Input.rep6.WGS.unstranded.bed.gz\n",
    "\n",
    "ASTARRseq_K562.hg38.Output.rep1.WGS.unstranded.bed.gz\n",
    "ASTARRseq_K562.hg38.Output.rep2.WGS.unstranded.bed.gz\n",
    "ASTARRseq_K562.hg38.Output.rep3.WGS.unstranded.bed.gz\n",
    "```"
   ]
  },
  {
   "cell_type": "code",
   "execution_count": 10,
   "id": "f556ff42-6a69-4e3b-9678-69a085feab60",
   "metadata": {},
   "outputs": [
    {
     "name": "stdout",
     "output_type": "stream",
     "text": [
      "Create symbolic links.\n",
      "Create symbolic links.\n",
      "Create symbolic links.\n",
      "Create symbolic links.\n",
      "Create symbolic links.\n",
      "Create symbolic links.\n"
     ]
    }
   ],
   "source": [
    "FD_INP=${FD_DAT}/processed/STARR_ATAC_K562_Reddy_KS91_210401/fragments\n",
    "FD_OUT=${FD_RES}/assay_fcc/STARR_ATAC_K562_Reddy_KS274/fragment_counts\n",
    "\n",
    "FN_INPS=(\n",
    "    KS91_K562_hg38_ASTARRseq_Input_rep1.masked.dedup.fragments.counts.txt.gz\n",
    "    KS91_K562_hg38_ASTARRseq_Input_rep2.masked.dedup.fragments.counts.txt.gz\n",
    "    KS91_K562_hg38_ASTARRseq_Input_rep3.masked.dedup.fragments.counts.txt.gz\n",
    "    KS91_K562_hg38_ASTARRseq_Input_rep4.masked.dedup.fragments.counts.txt.gz\n",
    "    KS91_K562_hg38_ASTARRseq_Input_rep5.masked.dedup.fragments.counts.txt.gz\n",
    "    KS91_K562_hg38_ASTARRseq_Input_rep6.masked.dedup.fragments.counts.txt.gz\n",
    ")\n",
    "FN_OUTS=(\n",
    "    ASTARRseq_K562_KS91.hg38.Input.rep1.WGS.unstranded.bed.gz\n",
    "    ASTARRseq_K562_KS91.hg38.Input.rep2.WGS.unstranded.bed.gz\n",
    "    ASTARRseq_K562_KS91.hg38.Input.rep3.WGS.unstranded.bed.gz\n",
    "    ASTARRseq_K562_KS91.hg38.Input.rep4.WGS.unstranded.bed.gz\n",
    "    ASTARRseq_K562_KS91.hg38.Input.rep5.WGS.unstranded.bed.gz\n",
    "    ASTARRseq_K562_KS91.hg38.Input.rep6.WGS.unstranded.bed.gz\n",
    ")\n",
    "\n",
    "for idx in \"${!FN_INPS[@]}\"; do\n",
    "    FN_INP=${FN_INPS[idx]}\n",
    "    FN_OUT=${FN_OUTS[idx]}\n",
    "    \n",
    "    FILE=${FD_INP}/${FN_INP}\n",
    "    LINK=${FD_OUT}/${FN_OUT}\n",
    "    \n",
    "    if [[ -h ${LINK} ]]; then\n",
    "        rm ${LINK}\n",
    "    fi\n",
    "    \n",
    "    if [[ ! -e ${LINK} ]]; then\n",
    "        echo \"Create symbolic links.\"\n",
    "        ln -s ${FILE} ${LINK}\n",
    "    fi\n",
    "done"
   ]
  },
  {
   "cell_type": "code",
   "execution_count": 11,
   "id": "e3c97d4a-6dd1-4e93-badf-4cb5d595dd54",
   "metadata": {},
   "outputs": [
    {
     "name": "stdout",
     "output_type": "stream",
     "text": [
      "Create symbolic links.\n",
      "Create symbolic links.\n",
      "Create symbolic links.\n"
     ]
    }
   ],
   "source": [
    "FD_INP=${FD_DAT}/processed/STARR_ATAC_K562_Reddy_KS274_240311/fragments\n",
    "FD_OUT=${FD_RES}/assay_fcc/STARR_ATAC_K562_Reddy_KS274/fragment_counts\n",
    "\n",
    "FN_INPS=(\n",
    "    K562_ASTARR_repeat_rep1.f3q10.fragments.counts.chr_main.txt.gz\n",
    "    K562_ASTARR_repeat_rep2.f3q10.fragments.counts.chr_main.txt.gz\n",
    "    K562_ASTARR_repeat_rep3.f3q10.fragments.counts.chr_main.txt.gz\n",
    ")\n",
    "\n",
    "FN_OUTS=(\n",
    "    ASTARRseq_K562_KS274.hg38.Output.rep1.WGS.unstranded.bed.gz\n",
    "    ASTARRseq_K562_KS274.hg38.Output.rep2.WGS.unstranded.bed.gz\n",
    "    ASTARRseq_K562_KS274.hg38.Output.rep3.WGS.unstranded.bed.gz\n",
    ")\n",
    "\n",
    "for idx in \"${!FN_INPS[@]}\"; do\n",
    "    FN_INP=${FN_INPS[idx]}\n",
    "    FN_OUT=${FN_OUTS[idx]}\n",
    "    \n",
    "    FILE=${FD_INP}/${FN_INP}\n",
    "    LINK=${FD_OUT}/${FN_OUT}\n",
    "    \n",
    "    if [[ -h ${LINK} ]]; then\n",
    "        rm ${LINK}\n",
    "    fi\n",
    "    \n",
    "    if [[ ! -e ${LINK} ]]; then\n",
    "        echo \"Create symbolic links.\"\n",
    "        ln -s ${FILE} ${LINK}\n",
    "    fi\n",
    "done"
   ]
  },
  {
   "cell_type": "code",
   "execution_count": 13,
   "id": "b750c76f-a8b7-40f6-8680-6b27b5755ab4",
   "metadata": {},
   "outputs": [
    {
     "name": "stdout",
     "output_type": "stream",
     "text": [
      "ASTARRseq_K562_KS274.hg38.Output.rep1.WGS.unstranded.bed.gz\n",
      "ASTARRseq_K562_KS274.hg38.Output.rep2.WGS.unstranded.bed.gz\n",
      "ASTARRseq_K562_KS274.hg38.Output.rep3.WGS.unstranded.bed.gz\n",
      "ASTARRseq_K562_KS91.hg38.Input.rep1.WGS.unstranded.bed.gz\n",
      "ASTARRseq_K562_KS91.hg38.Input.rep2.WGS.unstranded.bed.gz\n",
      "ASTARRseq_K562_KS91.hg38.Input.rep3.WGS.unstranded.bed.gz\n",
      "ASTARRseq_K562_KS91.hg38.Input.rep4.WGS.unstranded.bed.gz\n",
      "ASTARRseq_K562_KS91.hg38.Input.rep5.WGS.unstranded.bed.gz\n",
      "ASTARRseq_K562_KS91.hg38.Input.rep6.WGS.unstranded.bed.gz\n"
     ]
    }
   ],
   "source": [
    "ls ${FD_RES}/assay_fcc/STARR_ATAC_K562_Reddy_KS274/fragment_counts/*.bed.gz | xargs -n 1 basename"
   ]
  },
  {
   "cell_type": "code",
   "execution_count": 3,
   "id": "af4db456-91ee-44a2-8a13-4a20d801610e",
   "metadata": {},
   "outputs": [
    {
     "name": "stdout",
     "output_type": "stream",
     "text": [
      "K562_ASTARR_repeat_rep1.f3q10.fragments.bedpe\n",
      "\u001b[0m\u001b[38;5;9mK562_ASTARR_repeat_rep1.f3q10.fragments.counts.chr_main.txt.gz\u001b[0m\n",
      "\u001b[38;5;9mK562_ASTARR_repeat_rep1.f3q10.fragments.counts.rmChrM.txt.gz\u001b[0m\n",
      "\u001b[38;5;9mK562_ASTARR_repeat_rep1.f3q10.fragments.counts.txt.gz\u001b[0m\n",
      "K562_ASTARR_repeat_rep1.f3q10.sorted.with_umis.dedup.rpkm.bw\n",
      "K562_ASTARR_repeat_rep2.f3q10.fragments.bedpe\n",
      "\u001b[38;5;9mK562_ASTARR_repeat_rep2.f3q10.fragments.counts.chr_main.txt.gz\u001b[0m\n",
      "\u001b[38;5;9mK562_ASTARR_repeat_rep2.f3q10.fragments.counts.rmChrM.txt.gz\u001b[0m\n",
      "\u001b[38;5;9mK562_ASTARR_repeat_rep2.f3q10.fragments.counts.txt.gz\u001b[0m\n",
      "K562_ASTARR_repeat_rep2.f3q10.sorted.with_umis.dedup.rpkm.bw\n",
      "K562_ASTARR_repeat_rep3.f3q10.fragments.bedpe\n",
      "\u001b[38;5;9mK562_ASTARR_repeat_rep3.f3q10.fragments.counts.chr_main.txt.gz\u001b[0m\n",
      "\u001b[38;5;9mK562_ASTARR_repeat_rep3.f3q10.fragments.counts.rmChrM.txt.gz\u001b[0m\n",
      "\u001b[38;5;9mK562_ASTARR_repeat_rep3.f3q10.fragments.counts.txt.gz\u001b[0m\n",
      "K562_ASTARR_repeat_rep3.f3q10.sorted.with_umis.dedup.rpkm.bw\n"
     ]
    }
   ],
   "source": [
    "ls ${FD_DAT}/processed/STARR_ATAC_K562_Reddy_KS274_240311/fragments"
   ]
  },
  {
   "cell_type": "code",
   "execution_count": 8,
   "id": "d3279320-81fd-42bc-882c-66554de7cc43",
   "metadata": {},
   "outputs": [
    {
     "name": "stdout",
     "output_type": "stream",
     "text": [
      "\u001b[0m\u001b[38;5;9mASTARRseq_K562_KS274.hg38.Output.rep1.WGS.unstranded.bed.gz\u001b[0m\n",
      "\u001b[38;5;9mASTARRseq_K562_KS274.hg38.Output.rep2.WGS.unstranded.bed.gz\u001b[0m\n",
      "\u001b[38;5;9mASTARRseq_K562_KS274.hg38.Output.rep3.WGS.unstranded.bed.gz\u001b[0m\n",
      "\u001b[38;5;9mK562_ASTARR_repeat_rep1.f3q10.fragments.counts.rmChrM.txt.gz\u001b[0m\n",
      "\u001b[38;5;27msummary\u001b[0m\n"
     ]
    }
   ],
   "source": [
    "ls ${FD_RES}/assay_fcc/STARR_ATAC_K562_Reddy_KS274/fragment_counts"
   ]
  },
  {
   "cell_type": "markdown",
   "id": "b6600ba1-f3f7-4516-9ff3-99564ba876d1",
   "metadata": {},
   "source": [
    "**Check results**"
   ]
  },
  {
   "cell_type": "code",
   "execution_count": 17,
   "id": "1f6d71da-5ac4-42f9-b48b-a8f6b122f719",
   "metadata": {},
   "outputs": [
    {
     "name": "stdout",
     "output_type": "stream",
     "text": [
      "\u001b[0m\u001b[38;5;51mASTARRseq_K562_KS274.hg38.Output.rep1.WGS.unstranded.bed.gz\u001b[0m\n",
      "\u001b[38;5;51mASTARRseq_K562_KS274.hg38.Output.rep2.WGS.unstranded.bed.gz\u001b[0m\n",
      "\u001b[38;5;51mASTARRseq_K562_KS274.hg38.Output.rep3.WGS.unstranded.bed.gz\u001b[0m\n",
      "\u001b[38;5;27msummary\u001b[0m\n"
     ]
    }
   ],
   "source": [
    "ls ${FD_RES}/assay_fcc/STARR_ATAC_K562_Reddy_KS274/fragment_counts"
   ]
  },
  {
   "cell_type": "code",
   "execution_count": null,
   "id": "2f4ce3d1-94ca-462d-9411-8057855ff038",
   "metadata": {},
   "outputs": [],
   "source": [
    "ls ${FD_RES}/assay_fcc/STARR_ATAC_K562_Reddy_KS274/fragment_counts"
   ]
  },
  {
   "cell_type": "code",
   "execution_count": 18,
   "id": "70dd90d5-db59-4326-b99a-d84843ff7775",
   "metadata": {},
   "outputs": [
    {
     "name": "stdout",
     "output_type": "stream",
     "text": [
      "lrwxrwxrwx 1 kk319 reddylab 163 May 30 13:25 \u001b[0m\u001b[38;5;51m/data/reddylab/Kuei/repo/Proj_ENCODE_FCC/results/assay_fcc/STARR_ATAC_K562_Reddy_KS274/fragment_counts/ASTARRseq_K562_KS274.hg38.Output.rep1.WGS.unstranded.bed.gz\u001b[0m\u001b[K -> \u001b[38;5;9m/data/reddylab/Kuei/repo/Proj_ENCODE_FCC/data/processed/STARR_ATAC_K562_Reddy_KS274_240311/fragments/K562_ASTARR_repeat_rep1.f3q10.fragments.counts.chr_main.txt.gz\u001b[0m\u001b[K\n",
      "lrwxrwxrwx 1 kk319 reddylab 163 May 30 13:25 \u001b[38;5;51m/data/reddylab/Kuei/repo/Proj_ENCODE_FCC/results/assay_fcc/STARR_ATAC_K562_Reddy_KS274/fragment_counts/ASTARRseq_K562_KS274.hg38.Output.rep2.WGS.unstranded.bed.gz\u001b[0m\u001b[K -> \u001b[38;5;9m/data/reddylab/Kuei/repo/Proj_ENCODE_FCC/data/processed/STARR_ATAC_K562_Reddy_KS274_240311/fragments/K562_ASTARR_repeat_rep2.f3q10.fragments.counts.chr_main.txt.gz\u001b[0m\u001b[K\n",
      "lrwxrwxrwx 1 kk319 reddylab 163 May 30 13:25 \u001b[38;5;51m/data/reddylab/Kuei/repo/Proj_ENCODE_FCC/results/assay_fcc/STARR_ATAC_K562_Reddy_KS274/fragment_counts/ASTARRseq_K562_KS274.hg38.Output.rep3.WGS.unstranded.bed.gz\u001b[0m\u001b[K -> \u001b[38;5;9m/data/reddylab/Kuei/repo/Proj_ENCODE_FCC/data/processed/STARR_ATAC_K562_Reddy_KS274_240311/fragments/K562_ASTARR_repeat_rep3.f3q10.fragments.counts.chr_main.txt.gz\u001b[0m\u001b[K\n"
     ]
    }
   ],
   "source": [
    "FD_OUT=${FD_RES}/assay_fcc/STARR_ATAC_K562_Reddy_KS274/fragment_counts\n",
    "ls -l ${FD_OUT}/*bed.gz"
   ]
  },
  {
   "cell_type": "code",
   "execution_count": 19,
   "id": "b26159a3-82f0-4099-adfb-cc687fb31e8f",
   "metadata": {
    "tags": []
   },
   "outputs": [
    {
     "name": "stdout",
     "output_type": "stream",
     "text": [
      "chr1\t14145\t14485\tchr1:14145-14485\t2\t.\n",
      "chr1\t14243\t14498\tchr1:14243-14498\t1\t.\n",
      "chr1\t14454\t14729\tchr1:14454-14729\t1\t.\n",
      "chr1\t14522\t14725\tchr1:14522-14725\t1\t.\n",
      "chr1\t14599\t14850\tchr1:14599-14850\t1\t.\n",
      "chr1\t14659\t14864\tchr1:14659-14864\t2\t.\n"
     ]
    }
   ],
   "source": [
    "FD_OUT=${FD_RES}/assay_fcc/STARR_ATAC_K562_Reddy_KS274/fragment_counts\n",
    "FN_OUT=ASTARRseq_K562_KS274.hg38.Output.rep1.WGS.unstranded.bed.gz\n",
    "FP_OUT=${FD_OUT}/${FN_OUT}\n",
    "\n",
    "zcat ${FP_OUT} | head -n 6"
   ]
  },
  {
   "cell_type": "markdown",
   "id": "37830f5f-8076-4727-9032-f68787c1bdb9",
   "metadata": {},
   "source": [
    "## Prepare fragment counts of ASTARR (KS Merge)"
   ]
  },
  {
   "cell_type": "markdown",
   "id": "99ff1aef-67dc-441c-bd01-e54512fd0226",
   "metadata": {},
   "source": [
    "**Data: Original files**\n",
    "\n",
    "`PROJECT/data/processed/STARR_ATAC_K562_Reddy_KS91_210401/fragments`\n",
    "\n",
    "```\n",
    "KS91_K562_hg38_ASTARRseq_Input_rep1.masked.dedup.fragments.counts.txt.gz\n",
    "KS91_K562_hg38_ASTARRseq_Input_rep2.masked.dedup.fragments.counts.txt.gz\n",
    "KS91_K562_hg38_ASTARRseq_Input_rep3.masked.dedup.fragments.counts.txt.gz\n",
    "KS91_K562_hg38_ASTARRseq_Input_rep4.masked.dedup.fragments.counts.txt.gz\n",
    "KS91_K562_hg38_ASTARRseq_Input_rep5.masked.dedup.fragments.counts.txt.gz\n",
    "KS91_K562_hg38_ASTARRseq_Input_rep6.masked.dedup.fragments.counts.txt.gz\n",
    "\n",
    "KS91_K562_hg38_ASTARRseq_Output_rep1.f3q10.fragments.counts.txt.gz\n",
    "KS91_K562_hg38_ASTARRseq_Output_rep2.f3q10.fragments.counts.corrected.txt.gz\n",
    "KS91_K562_hg38_ASTARRseq_Output_rep3.f3q10.fragments.counts.txt.gz\n",
    "KS91_K562_hg38_ASTARRseq_Output_rep4.f3q10.fragments.counts.corrected.txt.gz\n",
    "```\n",
    "\n",
    "`PROJECT/data/processed/STARR_ATAC_K562_Reddy_KS274_240311/fragments`\n",
    "\n",
    "```\n",
    "K562_ASTARR_repeat_rep1.f3q10.fragments.counts.chr_main.txt.gz\n",
    "K562_ASTARR_repeat_rep2.f3q10.fragments.counts.chr_main.txt.gz\n",
    "K562_ASTARR_repeat_rep3.f3q10.fragments.counts.chr_main.txt.gz\n",
    "```\n",
    "\n",
    "**Results: SymLinks**\n",
    "\n",
    "`PROJECT/results/assay_fcc/STARR_ATAC_K562_Reddy_KSMerge/fragment_counts`\n",
    "\n",
    "```\n",
    "ASTARRseq_K562.hg38.Input.rep1.WGS.unstranded.bed.gz\n",
    "ASTARRseq_K562.hg38.Input.rep2.WGS.unstranded.bed.gz\n",
    "ASTARRseq_K562.hg38.Input.rep3.WGS.unstranded.bed.gz\n",
    "ASTARRseq_K562.hg38.Input.rep4.WGS.unstranded.bed.gz\n",
    "ASTARRseq_K562.hg38.Input.rep5.WGS.unstranded.bed.gz\n",
    "ASTARRseq_K562.hg38.Input.rep6.WGS.unstranded.bed.gz\n",
    "\n",
    "ASTARRseq_K562.hg38.Output.rep1.WGS.unstranded.bed.gz\n",
    "ASTARRseq_K562.hg38.Output.rep2.WGS.unstranded.bed.gz\n",
    "ASTARRseq_K562.hg38.Output.rep3.WGS.unstranded.bed.gz\n",
    "ASTARRseq_K562.hg38.Output.rep4.WGS.unstranded.bed.gz\n",
    "\n",
    "ASTARRseq_K562.hg38.Output.rep5.WGS.unstranded.bed.gz\n",
    "ASTARRseq_K562.hg38.Output.rep6.WGS.unstranded.bed.gz\n",
    "ASTARRseq_K562.hg38.Output.rep7.WGS.unstranded.bed.gz\n",
    "```"
   ]
  },
  {
   "cell_type": "code",
   "execution_count": 16,
   "id": "12dc4ac7-5199-4ae0-8e33-cfa1d82db704",
   "metadata": {},
   "outputs": [
    {
     "name": "stdout",
     "output_type": "stream",
     "text": [
      "Create symbolic links.\n",
      "Create symbolic links.\n",
      "Create symbolic links.\n",
      "Create symbolic links.\n",
      "Create symbolic links.\n",
      "Create symbolic links.\n",
      "Create symbolic links.\n",
      "Create symbolic links.\n",
      "Create symbolic links.\n",
      "Create symbolic links.\n"
     ]
    }
   ],
   "source": [
    "FD_INP=${FD_DAT}/processed/STARR_ATAC_K562_Reddy_KS91_210401/fragments\n",
    "FD_OUT=${FD_RES}/assay_fcc/STARR_ATAC_K562_Reddy_KSMerge/fragment_counts\n",
    "\n",
    "FN_INPS=(\n",
    "    KS91_K562_hg38_ASTARRseq_Input_rep1.masked.dedup.fragments.counts.txt.gz\n",
    "    KS91_K562_hg38_ASTARRseq_Input_rep2.masked.dedup.fragments.counts.txt.gz\n",
    "    KS91_K562_hg38_ASTARRseq_Input_rep3.masked.dedup.fragments.counts.txt.gz\n",
    "    KS91_K562_hg38_ASTARRseq_Input_rep4.masked.dedup.fragments.counts.txt.gz\n",
    "    KS91_K562_hg38_ASTARRseq_Input_rep5.masked.dedup.fragments.counts.txt.gz\n",
    "    KS91_K562_hg38_ASTARRseq_Input_rep6.masked.dedup.fragments.counts.txt.gz\n",
    "    KS91_K562_hg38_ASTARRseq_Output_rep1.f3q10.fragments.counts.txt.gz\n",
    "    KS91_K562_hg38_ASTARRseq_Output_rep2.f3q10.fragments.counts.corrected.txt.gz\n",
    "    KS91_K562_hg38_ASTARRseq_Output_rep3.f3q10.fragments.counts.txt.gz\n",
    "    KS91_K562_hg38_ASTARRseq_Output_rep4.f3q10.fragments.counts.corrected.txt.gz\n",
    ")\n",
    "FN_OUTS=(\n",
    "    ASTARRseq_K562_KS91.hg38.Input.rep1.WGS.unstranded.bed.gz\n",
    "    ASTARRseq_K562_KS91.hg38.Input.rep2.WGS.unstranded.bed.gz\n",
    "    ASTARRseq_K562_KS91.hg38.Input.rep3.WGS.unstranded.bed.gz\n",
    "    ASTARRseq_K562_KS91.hg38.Input.rep4.WGS.unstranded.bed.gz\n",
    "    ASTARRseq_K562_KS91.hg38.Input.rep5.WGS.unstranded.bed.gz\n",
    "    ASTARRseq_K562_KS91.hg38.Input.rep6.WGS.unstranded.bed.gz\n",
    "    ASTARRseq_K562_KS91.hg38.Output.rep1.WGS.unstranded.bed.gz\n",
    "    ASTARRseq_K562_KS91.hg38.Output.rep2.WGS.unstranded.bed.gz\n",
    "    ASTARRseq_K562_KS91.hg38.Output.rep3.WGS.unstranded.bed.gz\n",
    "    ASTARRseq_K562_KS91.hg38.Output.rep4.WGS.unstranded.bed.gz\n",
    ")\n",
    "\n",
    "for idx in \"${!FN_INPS[@]}\"; do\n",
    "    FN_INP=${FN_INPS[idx]}\n",
    "    FN_OUT=${FN_OUTS[idx]}\n",
    "    \n",
    "    FILE=${FD_INP}/${FN_INP}\n",
    "    LINK=${FD_OUT}/${FN_OUT}\n",
    "    \n",
    "    if [[ -h ${LINK} ]]; then\n",
    "        rm ${LINK}\n",
    "    fi\n",
    "    \n",
    "    if [[ ! -e ${LINK} ]]; then\n",
    "        echo \"Create symbolic links.\"\n",
    "        ln -s ${FILE} ${LINK}\n",
    "    fi\n",
    "done"
   ]
  },
  {
   "cell_type": "code",
   "execution_count": 17,
   "id": "8a3951d9-8e95-4caf-95f0-94a1e25ec3bd",
   "metadata": {},
   "outputs": [
    {
     "name": "stdout",
     "output_type": "stream",
     "text": [
      "Create symbolic links.\n",
      "Create symbolic links.\n",
      "Create symbolic links.\n"
     ]
    }
   ],
   "source": [
    "FD_INP=${FD_DAT}/processed/STARR_ATAC_K562_Reddy_KS274_240311/fragments\n",
    "FD_OUT=${FD_RES}/assay_fcc/STARR_ATAC_K562_Reddy_KSMerge/fragment_counts\n",
    "\n",
    "FN_INPS=(\n",
    "    K562_ASTARR_repeat_rep1.f3q10.fragments.counts.chr_main.txt.gz\n",
    "    K562_ASTARR_repeat_rep2.f3q10.fragments.counts.chr_main.txt.gz\n",
    "    K562_ASTARR_repeat_rep3.f3q10.fragments.counts.chr_main.txt.gz\n",
    ")\n",
    "\n",
    "FN_OUTS=(\n",
    "    ASTARRseq_K562_KS274.hg38.Output.rep1.WGS.unstranded.bed.gz\n",
    "    ASTARRseq_K562_KS274.hg38.Output.rep2.WGS.unstranded.bed.gz\n",
    "    ASTARRseq_K562_KS274.hg38.Output.rep3.WGS.unstranded.bed.gz\n",
    ")\n",
    "\n",
    "for idx in \"${!FN_INPS[@]}\"; do\n",
    "    FN_INP=${FN_INPS[idx]}\n",
    "    FN_OUT=${FN_OUTS[idx]}\n",
    "    \n",
    "    FILE=${FD_INP}/${FN_INP}\n",
    "    LINK=${FD_OUT}/${FN_OUT}\n",
    "    \n",
    "    if [[ -h ${LINK} ]]; then\n",
    "        rm ${LINK}\n",
    "    fi\n",
    "    \n",
    "    if [[ ! -e ${LINK} ]]; then\n",
    "        echo \"Create symbolic links.\"\n",
    "        ln -s ${FILE} ${LINK}\n",
    "    fi\n",
    "done"
   ]
  },
  {
   "cell_type": "markdown",
   "id": "bd40d5d9-6af3-4404-b3c3-8acaefdbd9c7",
   "metadata": {},
   "source": [
    "## Prepare fragment counts of WSTARR (A001)"
   ]
  },
  {
   "cell_type": "markdown",
   "id": "a88eb21f-f08e-4897-8442-a1593355429e",
   "metadata": {},
   "source": [
    "**Data: Original files**\n",
    "\n",
    "`PROJECT/data/processed/STARR_WHG_K562_Reddy_A001_Alex/fragments`\n",
    "\n",
    "```\n",
    "A001-input-K562-rep1.masked.dedup.fragments.counts.txt.gz\n",
    "A001-input-K562-rep2.masked.dedup.fragments.counts.txt.gz\n",
    "A001-input-K562-rep3.masked.dedup.fragments.counts.txt.gz\n",
    "A001-input-K562-rep4.masked.dedup.fragments.counts.txt.gz\n",
    "A001-K562-rep1.masked.dedup.fragments.counts.txt.gz\n",
    "A001-K562-rep2.masked.dedup.fragments.counts.txt.gz\n",
    "A001-K562-rep3.masked.dedup.fragments.counts.txt.gz\n",
    "```"
   ]
  },
  {
   "cell_type": "markdown",
   "id": "88043761-bc4c-468e-a797-1d0d1b916820",
   "metadata": {},
   "source": [
    "**Results: SymLinks**\n",
    "\n",
    "`PROJECT/results/assay_fcc/STARR_WHG_K562_Reddy_A001/fragment_counts`\n",
    "\n",
    "```\n",
    "WSTARRseq_K562_A001.hg38.Input.rep1.WGS.unstranded.bed.gz\n",
    "WSTARRseq_K562_A001.hg38.Input.rep2.WGS.unstranded.bed.gz\n",
    "WSTARRseq_K562_A001.hg38.Input.rep3.WGS.unstranded.bed.gz\n",
    "WSTARRseq_K562_A001.hg38.Input.rep4.WGS.unstranded.bed.gz\n",
    "\n",
    "WSTARRseq_K562_A001.hg38.Output.rep1.WGS.unstranded.bed.gz\n",
    "WSTARRseq_K562_A001.hg38.Output.rep2.WGS.unstranded.bed.gz\n",
    "WSTARRseq_K562_A001.hg38.Output.rep3.WGS.unstranded.bed.gz\n",
    "```"
   ]
  },
  {
   "cell_type": "markdown",
   "id": "49c345fc-2eac-4798-bf90-ca4f04693140",
   "metadata": {},
   "source": [
    "**Check data**"
   ]
  },
  {
   "cell_type": "code",
   "execution_count": 11,
   "id": "3b74e3ea-94b8-4756-a493-19c6d61ca0c6",
   "metadata": {},
   "outputs": [
    {
     "name": "stdout",
     "output_type": "stream",
     "text": [
      "total 9.8G\n",
      "-rw-r--r-- 1 kk319 reddylab  284M Apr 10 21:45 \u001b[0m\u001b[38;5;9mA001-input-K562-rep1.masked.dedup.fragments.counts.txt.gz\u001b[0m\n",
      "-rw-r--r-- 1 kk319 reddylab 1022M Apr 10 21:45 \u001b[38;5;9mA001-input-K562-rep2.masked.dedup.fragments.counts.txt.gz\u001b[0m\n",
      "-rw-r--r-- 1 kk319 reddylab  1.1G Apr 10 21:45 \u001b[38;5;9mA001-input-K562-rep3.masked.dedup.fragments.counts.txt.gz\u001b[0m\n",
      "-rw-r--r-- 1 kk319 reddylab  1.1G Apr 10 21:45 \u001b[38;5;9mA001-input-K562-rep4.masked.dedup.fragments.counts.txt.gz\u001b[0m\n",
      "-rw-r--r-- 1 kk319 reddylab  1.6G Apr 10 21:45 \u001b[38;5;9mA001-K562-rep1.masked.dedup.fragments.counts.txt.gz\u001b[0m\n",
      "-rw-r--r-- 1 kk319 reddylab  1.6G Apr 10 21:45 \u001b[38;5;9mA001-K562-rep2.masked.dedup.fragments.counts.txt.gz\u001b[0m\n",
      "-rw-r--r-- 1 kk319 reddylab  3.2G Apr 10 21:45 \u001b[38;5;9mA001-K562-rep3.masked.dedup.fragments.counts.txt.gz\u001b[0m\n"
     ]
    }
   ],
   "source": [
    "FD_INP=${FD_DAT}/processed/STARR_WHG_K562_Reddy_A001_Alex/fragments\n",
    "ls -lh ${FD_INP}"
   ]
  },
  {
   "cell_type": "markdown",
   "id": "75a18f91-9569-4d0d-bee2-a8babd919e26",
   "metadata": {},
   "source": [
    "**Execute**\n",
    "\n",
    "List the file names, loop the list, and link the files"
   ]
  },
  {
   "cell_type": "code",
   "execution_count": 12,
   "id": "60083cb2-e644-4ded-b475-bd4b0790fb06",
   "metadata": {},
   "outputs": [],
   "source": [
    "FD_INP=${FD_DAT}/processed/STARR_WHG_K562_Reddy_A001_Alex/fragments\n",
    "FN_INPS=(\n",
    "    A001-input-K562-rep1.masked.dedup.fragments.counts.txt.gz\n",
    "    A001-input-K562-rep2.masked.dedup.fragments.counts.txt.gz\n",
    "    A001-input-K562-rep3.masked.dedup.fragments.counts.txt.gz\n",
    "    A001-input-K562-rep4.masked.dedup.fragments.counts.txt.gz\n",
    "    A001-K562-rep1.masked.dedup.fragments.counts.txt.gz\n",
    "    A001-K562-rep2.masked.dedup.fragments.counts.txt.gz\n",
    "    A001-K562-rep3.masked.dedup.fragments.counts.txt.gz\n",
    ")"
   ]
  },
  {
   "cell_type": "code",
   "execution_count": 13,
   "id": "dca36149-b376-42e0-9307-6c5e909ef88d",
   "metadata": {},
   "outputs": [],
   "source": [
    "FD_OUT=${FD_RES}/assay_fcc/STARR_WHG_K562_Reddy_A001/fragment_counts\n",
    "FN_OUTS=(\n",
    "    WSTARRseq_K562_A001.hg38.Input.rep1.WGS.unstranded.bed.gz\n",
    "    WSTARRseq_K562_A001.hg38.Input.rep2.WGS.unstranded.bed.gz\n",
    "    WSTARRseq_K562_A001.hg38.Input.rep3.WGS.unstranded.bed.gz\n",
    "    WSTARRseq_K562_A001.hg38.Input.rep4.WGS.unstranded.bed.gz\n",
    "    WSTARRseq_K562_A001.hg38.Output.rep1.WGS.unstranded.bed.gz\n",
    "    WSTARRseq_K562_A001.hg38.Output.rep2.WGS.unstranded.bed.gz\n",
    "    WSTARRseq_K562_A001.hg38.Output.rep3.WGS.unstranded.bed.gz\n",
    ")"
   ]
  },
  {
   "cell_type": "code",
   "execution_count": 14,
   "id": "787211ca-d812-4c7d-8638-ca2c32012b86",
   "metadata": {},
   "outputs": [
    {
     "name": "stdout",
     "output_type": "stream",
     "text": [
      "Remove existing link.\n",
      "Create symbolic links.\n",
      "Remove existing link.\n",
      "Create symbolic links.\n",
      "Remove existing link.\n",
      "Create symbolic links.\n",
      "Remove existing link.\n",
      "Create symbolic links.\n",
      "Remove existing link.\n",
      "Create symbolic links.\n",
      "Remove existing link.\n",
      "Create symbolic links.\n",
      "Remove existing link.\n",
      "Create symbolic links.\n"
     ]
    }
   ],
   "source": [
    "for idx in \"${!FN_INPS[@]}\"\n",
    "do\n",
    "    FN_INP=${FN_INPS[idx]}\n",
    "    FN_OUT=${FN_OUTS[idx]}\n",
    "    \n",
    "    FILE=${FD_INP}/${FN_INP}\n",
    "    LINK=${FD_OUT}/${FN_OUT}\n",
    "    \n",
    "    if [[ -h ${LINK} ]]; then\n",
    "        echo \"Remove existing link.\"\n",
    "        rm ${LINK}\n",
    "    fi\n",
    "    \n",
    "    if [[ ! -e ${LINK} ]]; then\n",
    "        echo \"Create symbolic links.\"\n",
    "        ln -s ${FILE} ${LINK}\n",
    "    fi\n",
    "done"
   ]
  },
  {
   "cell_type": "markdown",
   "id": "2d6573e0-1d70-4f49-8577-1947ded3e9be",
   "metadata": {},
   "source": [
    "**Check results**"
   ]
  },
  {
   "cell_type": "code",
   "execution_count": 15,
   "id": "33cf5d7e-41fb-4e4c-a5a5-87c575f242d1",
   "metadata": {},
   "outputs": [
    {
     "name": "stdout",
     "output_type": "stream",
     "text": [
      "lrwxrwxrwx 1 kk319 reddylab 154 Apr 10 22:06 \u001b[0m\u001b[38;5;51m/data/reddylab/Kuei/repo/Proj_ENCODE_FCC/results/assay_fcc/STARR_WHG_K562_Reddy_A001/fragment_counts/WSTARRseq_K562_A001.hg38.Input.rep1.WGS.unstranded.bed.gz\u001b[0m\u001b[K -> \u001b[38;5;9m/data/reddylab/Kuei/repo/Proj_ENCODE_FCC/data/processed/STARR_WHG_K562_Reddy_A001_Alex/fragments/A001-input-K562-rep1.masked.dedup.fragments.counts.txt.gz\u001b[0m\u001b[K\n",
      "lrwxrwxrwx 1 kk319 reddylab 154 Apr 10 22:06 \u001b[38;5;51m/data/reddylab/Kuei/repo/Proj_ENCODE_FCC/results/assay_fcc/STARR_WHG_K562_Reddy_A001/fragment_counts/WSTARRseq_K562_A001.hg38.Input.rep2.WGS.unstranded.bed.gz\u001b[0m\u001b[K -> \u001b[38;5;9m/data/reddylab/Kuei/repo/Proj_ENCODE_FCC/data/processed/STARR_WHG_K562_Reddy_A001_Alex/fragments/A001-input-K562-rep2.masked.dedup.fragments.counts.txt.gz\u001b[0m\u001b[K\n",
      "lrwxrwxrwx 1 kk319 reddylab 154 Apr 10 22:06 \u001b[38;5;51m/data/reddylab/Kuei/repo/Proj_ENCODE_FCC/results/assay_fcc/STARR_WHG_K562_Reddy_A001/fragment_counts/WSTARRseq_K562_A001.hg38.Input.rep3.WGS.unstranded.bed.gz\u001b[0m\u001b[K -> \u001b[38;5;9m/data/reddylab/Kuei/repo/Proj_ENCODE_FCC/data/processed/STARR_WHG_K562_Reddy_A001_Alex/fragments/A001-input-K562-rep3.masked.dedup.fragments.counts.txt.gz\u001b[0m\u001b[K\n",
      "lrwxrwxrwx 1 kk319 reddylab 154 Apr 10 22:06 \u001b[38;5;51m/data/reddylab/Kuei/repo/Proj_ENCODE_FCC/results/assay_fcc/STARR_WHG_K562_Reddy_A001/fragment_counts/WSTARRseq_K562_A001.hg38.Input.rep4.WGS.unstranded.bed.gz\u001b[0m\u001b[K -> \u001b[38;5;9m/data/reddylab/Kuei/repo/Proj_ENCODE_FCC/data/processed/STARR_WHG_K562_Reddy_A001_Alex/fragments/A001-input-K562-rep4.masked.dedup.fragments.counts.txt.gz\u001b[0m\u001b[K\n",
      "lrwxrwxrwx 1 kk319 reddylab 148 Apr 10 22:06 \u001b[38;5;51m/data/reddylab/Kuei/repo/Proj_ENCODE_FCC/results/assay_fcc/STARR_WHG_K562_Reddy_A001/fragment_counts/WSTARRseq_K562_A001.hg38.Output.rep1.WGS.unstranded.bed.gz\u001b[0m\u001b[K -> \u001b[38;5;9m/data/reddylab/Kuei/repo/Proj_ENCODE_FCC/data/processed/STARR_WHG_K562_Reddy_A001_Alex/fragments/A001-K562-rep1.masked.dedup.fragments.counts.txt.gz\u001b[0m\u001b[K\n",
      "lrwxrwxrwx 1 kk319 reddylab 148 Apr 10 22:06 \u001b[38;5;51m/data/reddylab/Kuei/repo/Proj_ENCODE_FCC/results/assay_fcc/STARR_WHG_K562_Reddy_A001/fragment_counts/WSTARRseq_K562_A001.hg38.Output.rep2.WGS.unstranded.bed.gz\u001b[0m\u001b[K -> \u001b[38;5;9m/data/reddylab/Kuei/repo/Proj_ENCODE_FCC/data/processed/STARR_WHG_K562_Reddy_A001_Alex/fragments/A001-K562-rep2.masked.dedup.fragments.counts.txt.gz\u001b[0m\u001b[K\n",
      "lrwxrwxrwx 1 kk319 reddylab 148 Apr 10 22:06 \u001b[38;5;51m/data/reddylab/Kuei/repo/Proj_ENCODE_FCC/results/assay_fcc/STARR_WHG_K562_Reddy_A001/fragment_counts/WSTARRseq_K562_A001.hg38.Output.rep3.WGS.unstranded.bed.gz\u001b[0m\u001b[K -> \u001b[38;5;9m/data/reddylab/Kuei/repo/Proj_ENCODE_FCC/data/processed/STARR_WHG_K562_Reddy_A001_Alex/fragments/A001-K562-rep3.masked.dedup.fragments.counts.txt.gz\u001b[0m\u001b[K\n"
     ]
    }
   ],
   "source": [
    "FD_OUT=${FD_RES}/assay_fcc/STARR_WHG_K562_Reddy_A001/fragment_counts\n",
    "ls -lh ${FD_OUT}/*bed.gz"
   ]
  },
  {
   "cell_type": "code",
   "execution_count": 16,
   "id": "280a052b-436a-460d-8333-67c1d956a02d",
   "metadata": {},
   "outputs": [
    {
     "name": "stdout",
     "output_type": "stream",
     "text": [
      "chr1\t10335\t10549\tchr1_10335_10549\t1\t.\n",
      "chr1\t16983\t17500\tchr1_16983_17500\t1\t.\n",
      "chr1\t16985\t17499\tchr1_16985_17499\t1\t.\n",
      "chr1\t17004\t17500\tchr1_17004_17500\t1\t.\n",
      "chr1\t17483\t17898\tchr1_17483_17898\t1\t.\n",
      "chr1\t17487\t17941\tchr1_17487_17941\t1\t.\n",
      "chr1\t33606\t33997\tchr1_33606_33997\t1\t.\n",
      "chr1\t33617\t33997\tchr1_33617_33997\t1\t.\n",
      "chr1\t38785\t39226\tchr1_38785_39226\t1\t.\n",
      "chr1\t46328\t46678\tchr1_46328_46678\t1\t.\n"
     ]
    }
   ],
   "source": [
    "FD_OUT=${FD_RES}/assay_fcc/STARR_WHG_K562_Reddy_A001/fragment_counts\n",
    "FN_OUT=WSTARRseq_K562_A001.hg38.Input.rep1.WGS.unstranded.bed.gz\n",
    "FP_OUT=${FD_OUT}/${FN_OUT}\n",
    "\n",
    "zcat ${FP_OUT} | head"
   ]
  },
  {
   "cell_type": "code",
   "execution_count": null,
   "id": "7410f102-853b-4d0c-bdb9-2665ca6b9227",
   "metadata": {},
   "outputs": [],
   "source": []
  },
  {
   "cell_type": "code",
   "execution_count": null,
   "id": "ba50b5ef-7978-43ca-a668-5a843b15d40b",
   "metadata": {},
   "outputs": [],
   "source": []
  },
  {
   "cell_type": "code",
   "execution_count": null,
   "id": "a0f4c69b-223d-448b-9a22-b99910356d35",
   "metadata": {},
   "outputs": [],
   "source": []
  },
  {
   "cell_type": "code",
   "execution_count": null,
   "id": "cb93ef86-d85a-4c9d-816c-5e3508b7d7e4",
   "metadata": {},
   "outputs": [],
   "source": []
  },
  {
   "cell_type": "code",
   "execution_count": null,
   "id": "5b900769-e7c4-4804-958e-61b6eb665eb4",
   "metadata": {},
   "outputs": [],
   "source": []
  },
  {
   "cell_type": "code",
   "execution_count": null,
   "id": "f5659980-7b86-4787-bd46-9d1a3e639dbf",
   "metadata": {},
   "outputs": [],
   "source": []
  },
  {
   "cell_type": "code",
   "execution_count": null,
   "id": "c242d8db-0b0d-424e-a9ad-275c4342b7cc",
   "metadata": {},
   "outputs": [],
   "source": []
  },
  {
   "cell_type": "code",
   "execution_count": null,
   "id": "bb50a454-1862-4d56-a30f-912988bcd4c8",
   "metadata": {},
   "outputs": [],
   "source": []
  },
  {
   "cell_type": "code",
   "execution_count": null,
   "id": "8a226ed7-882f-42ee-acb0-963b5a01025f",
   "metadata": {},
   "outputs": [],
   "source": []
  },
  {
   "cell_type": "markdown",
   "id": "fa9c7339-2753-492f-bd0e-efc34c77bb39",
   "metadata": {},
   "source": [
    "## Prepare regions of MACS peaks called in ASTARR input libraries"
   ]
  },
  {
   "cell_type": "markdown",
   "id": "39b72082-e6e7-41cc-a5c6-cd621ffc1654",
   "metadata": {},
   "source": [
    "**Data: Original files**\n",
    "\n",
    "`PROJECT/data/processed/ASTARRseq_K562_hg38_KS91_210401/peaks`\n",
    "\n",
    "```\n",
    "KS91_K562_hg38_ASTARRseq_Input.all_reps.masked.union_narrowPeak.q5.bed\n",
    "KS91_K562_hg38_ASTARRseq_Input.q5.in_all.max_overlaps.bed\n",
    "```"
   ]
  },
  {
   "cell_type": "markdown",
   "id": "28659c16-84e2-41a3-adde-ffd04b453974",
   "metadata": {},
   "source": [
    "**Results: SymLinks**\n",
    "\n",
    "`PROJECT/results/region/starr_macs`\n",
    "\n",
    "```\n",
    "ASTARRseq_K562_KS91.hg38.Input.rep_all.union.q5.bed\n",
    "ASTARRseq_K562_KS91.hg38.Input.rep_all.max_overlaps.q5.bed\n",
    "```"
   ]
  },
  {
   "cell_type": "markdown",
   "id": "46f7f208-8102-47e1-b526-e7d5676b9f64",
   "metadata": {},
   "source": [
    "**Check data**"
   ]
  },
  {
   "cell_type": "code",
   "execution_count": 17,
   "id": "2850deaf-6584-486a-9c9c-52073f5fa658",
   "metadata": {},
   "outputs": [
    {
     "name": "stdout",
     "output_type": "stream",
     "text": [
      "total 9.5M\n",
      "-rw-r--r-- 1 kk319 reddylab 5.7M Apr 10 21:46 KS91_K562_hg38_ASTARRseq_Input.all_reps.masked.union_narrowPeak.q5.bed\n",
      "-rw-r--r-- 1 kk319 reddylab 3.8M Apr 10 21:46 KS91_K562_hg38_ASTARRseq_Input.q5.in_all.max_overlaps.bed\n"
     ]
    }
   ],
   "source": [
    "FD_INP=${FD_DAT}/processed/STARR_ATAC_K562_Reddy_KS91_210401/peaks\n",
    "ls -lh ${FD_INP}"
   ]
  },
  {
   "cell_type": "code",
   "execution_count": 18,
   "id": "4a22984a-7697-48ea-ad48-343741bbde4e",
   "metadata": {},
   "outputs": [
    {
     "name": "stdout",
     "output_type": "stream",
     "text": [
      "chr1\t10015\t10442\n",
      "chr1\t14253\t14645\n",
      "chr1\t16015\t16477\n",
      "chr1\t17237\t17772\n",
      "chr1\t28903\t29613\n",
      "chr1\t30803\t31072\n",
      "chr1\t101603\t101849\n",
      "chr1\t115411\t115986\n",
      "chr1\t118518\t118743\n",
      "chr1\t136071\t137429\n"
     ]
    }
   ],
   "source": [
    "FD_INP=${FD_DAT}/processed/STARR_ATAC_K562_Reddy_KS91_210401/peaks\n",
    "FN_INP=KS91_K562_hg38_ASTARRseq_Input.all_reps.masked.union_narrowPeak.q5.bed\n",
    "FP_INP=${FD_INP}/${FN_INP}\n",
    "\n",
    "cat ${FP_INP} | head"
   ]
  },
  {
   "cell_type": "code",
   "execution_count": 19,
   "id": "061240da-e1f9-4b86-a85f-a9a8d6dbd3c7",
   "metadata": {},
   "outputs": [
    {
     "name": "stdout",
     "output_type": "stream",
     "text": [
      "chr1\t10038\t10405\t6\n",
      "chr1\t14282\t14614\t6\n",
      "chr1\t16025\t16338\t6\n",
      "chr1\t17288\t17689\t6\n",
      "chr1\t28934\t29499\t6\n",
      "chr1\t115429\t115969\t6\n",
      "chr1\t136201\t137353\t6\n",
      "chr1\t137748\t138049\t6\n",
      "chr1\t138321\t139517\t6\n",
      "chr1\t181005\t181854\t6\n"
     ]
    }
   ],
   "source": [
    "FD_INP=${FD_DAT}/processed/STARR_ATAC_K562_Reddy_KS91_210401/peaks\n",
    "FN_INP=KS91_K562_hg38_ASTARRseq_Input.q5.in_all.max_overlaps.bed\n",
    "FP_INP=${FD_INP}/${FN_INP}\n",
    "\n",
    "cat ${FP_INP} | head"
   ]
  },
  {
   "cell_type": "markdown",
   "id": "7d7883b7-7dfa-4116-bffb-c4cecbfbbcaa",
   "metadata": {},
   "source": [
    "**Execute**"
   ]
  },
  {
   "cell_type": "markdown",
   "id": "21d59ff7-67a9-43aa-9f43-e692466153b7",
   "metadata": {},
   "source": [
    "Copy union peak file"
   ]
  },
  {
   "cell_type": "code",
   "execution_count": 20,
   "id": "300c6842-ffdb-49d8-b412-ea08e08de360",
   "metadata": {},
   "outputs": [
    {
     "name": "stdout",
     "output_type": "stream",
     "text": [
      "chr1\t10015\t10442\n",
      "chr1\t14253\t14645\n",
      "chr1\t16015\t16477\n",
      "chr1\t17237\t17772\n",
      "chr1\t28903\t29613\n",
      "chr1\t30803\t31072\n",
      "chr1\t101603\t101849\n",
      "chr1\t115411\t115986\n",
      "chr1\t118518\t118743\n",
      "chr1\t136071\t137429\n"
     ]
    }
   ],
   "source": [
    "FD_INP=${FD_DAT}/processed/STARR_ATAC_K562_Reddy_KS91_210401/peaks\n",
    "FN_INP=KS91_K562_hg38_ASTARRseq_Input.all_reps.masked.union_narrowPeak.q5.bed\n",
    "FP_INP=${FD_INP}/${FN_INP}\n",
    "\n",
    "FD_OUT=${FD_RES}/region/fcc_astarr_macs\n",
    "FN_OUT=ASTARRseq_K562_KS91.hg38.Input.rep_all.union.q5.bed.gz\n",
    "FP_OUT=${FD_OUT}/${FN_OUT}\n",
    "\n",
    "gzip -c ${FP_INP} > ${FP_OUT}\n",
    "zcat ${FP_OUT} | head"
   ]
  },
  {
   "cell_type": "markdown",
   "id": "13502b82-a2c6-4d10-b819-73fe5c5ef65d",
   "metadata": {},
   "source": [
    "Update overlap/intersect peak file"
   ]
  },
  {
   "cell_type": "code",
   "execution_count": 21,
   "id": "d8d85539-6ef7-4949-8354-c202892e4c29",
   "metadata": {},
   "outputs": [
    {
     "name": "stdout",
     "output_type": "stream",
     "text": [
      "chr1\t10038\t10405\n",
      "chr1\t14282\t14614\n",
      "chr1\t16025\t16338\n",
      "chr1\t17288\t17689\n",
      "chr1\t28934\t29499\n",
      "chr1\t115429\t115969\n",
      "chr1\t136201\t137353\n",
      "chr1\t137748\t138049\n",
      "chr1\t138321\t139517\n",
      "chr1\t181005\t181854\n"
     ]
    }
   ],
   "source": [
    "FD_INP=${FD_DAT}/processed/STARR_ATAC_K562_Reddy_KS91_210401/peaks\n",
    "FN_INP=KS91_K562_hg38_ASTARRseq_Input.q5.in_all.max_overlaps.bed\n",
    "FP_INP=${FD_INP}/${FN_INP}\n",
    "\n",
    "FD_OUT=${FD_RES}/region/fcc_astarr_macs\n",
    "FN_OUT=ASTARRseq_K562_KS91.hg38.Input.rep_all.max_overlaps.q5.bed.gz\n",
    "FP_OUT=${FD_OUT}/${FN_OUT}\n",
    "\n",
    "cat ${FP_INP} | cut -f1-3 | gzip -c > ${FP_OUT}\n",
    "zcat ${FP_OUT} | head"
   ]
  },
  {
   "cell_type": "markdown",
   "id": "b1da1381-10b6-46a4-9b08-f3d2bd926058",
   "metadata": {},
   "source": [
    "Create metadata"
   ]
  },
  {
   "cell_type": "code",
   "execution_count": 22,
   "id": "2bafe16b-d042-4f7c-9b67-2ba7ed19b7ab",
   "metadata": {},
   "outputs": [
    {
     "name": "stdout",
     "output_type": "stream",
     "text": [
      "Name           Note\n",
      "Chrom          Name of the chromosome\n",
      "ChromStart     The starting position of the feature in the chromosome\n",
      "ChromEnd       The ending position of the feature in the chromosome\n"
     ]
    }
   ],
   "source": [
    "TAB=\"$(printf '\\t')\"\n",
    "\n",
    "FD_OUT=${FD_RES}/region/fcc_astarr_macs\n",
    "FN_OUT=description.tsv\n",
    "FP_OUT=${FD_OUT}/${FN_OUT}\n",
    "\n",
    "cat > ${FP_OUT} << EOF\n",
    "Name${TAB}Note\n",
    "Chrom${TAB}Name of the chromosome\n",
    "ChromStart${TAB}The starting position of the feature in the chromosome\n",
    "ChromEnd${TAB}The ending position of the feature in the chromosome\n",
    "EOF\n",
    "\n",
    "cat ${FP_OUT} | expand -t 15"
   ]
  },
  {
   "cell_type": "markdown",
   "id": "4ed93141-4ef6-4d65-8f1e-4f735cf500dc",
   "metadata": {},
   "source": [
    "**Check results**"
   ]
  },
  {
   "cell_type": "code",
   "execution_count": 23,
   "id": "62101c3a-7600-450d-bb13-8df3312dec7b",
   "metadata": {},
   "outputs": [
    {
     "name": "stdout",
     "output_type": "stream",
     "text": [
      "total 512\n",
      "-rw-rw-r-- 1 kk319 reddylab 1.2M Apr 10 22:06 \u001b[0m\u001b[38;5;9mASTARRseq_K562_KS91.hg38.Input.rep_all.max_overlaps.q5.bed.gz\u001b[0m\n",
      "-rw-rw-r-- 1 kk319 reddylab 2.0M Apr 10 22:06 \u001b[38;5;9mASTARRseq_K562_KS91.hg38.Input.rep_all.union.q5.bed.gz\u001b[0m\n",
      "-rw-rw-r-- 1 kk319 reddylab  167 Apr 10 22:06 description.tsv\n"
     ]
    }
   ],
   "source": [
    "FD_OUT=${FD_RES}/region/fcc_astarr_macs\n",
    "ls -lh ${FD_OUT}"
   ]
  },
  {
   "cell_type": "markdown",
   "id": "2297c9aa-ea42-40c6-a505-877e9021bfdc",
   "metadata": {},
   "source": [
    "## Copy ATAC peaks to `reference` folder"
   ]
  },
  {
   "cell_type": "code",
   "execution_count": 24,
   "id": "77609b96-4c48-4d2d-b3cf-2dd07e6562d6",
   "metadata": {},
   "outputs": [],
   "source": [
    "FD_OUT=${FD_RES}/region/fcc_astarr_macs\n",
    "FN_OUT=ASTARRseq_K562_KS91.hg38.Input.rep_all.union.q5.bed.gz\n",
    "FP_OUT=${FD_OUT}/${FN_OUT}\n",
    "\n",
    "FD_REF=${FD_PRJ}/references/fcc_peak_call_atac\n",
    "FN_REF=STARRseq_ATAC.K562.TR.hg38.Input.rep_all.union.q5.bed.gz\n",
    "FP_REF=${FD_REF}/${FN_REF}\n",
    "\n",
    "cp ${FP_OUT} ${FP_REF}"
   ]
  },
  {
   "cell_type": "code",
   "execution_count": 25,
   "id": "81245745-fc28-42f6-8c60-1f99e7ee7a3b",
   "metadata": {},
   "outputs": [],
   "source": [
    "FD_OUT=${FD_RES}/region/fcc_astarr_macs\n",
    "FN_OUT=ASTARRseq_K562_KS91.hg38.Input.rep_all.max_overlaps.q5.bed.gz\n",
    "FP_OUT=${FD_OUT}/${FN_OUT}\n",
    "\n",
    "FD_REF=${FD_PRJ}/references/fcc_peak_call_atac\n",
    "FN_REF=STARRseq_ATAC.K562.TR.hg38.Input.rep_all.max_overlaps.q5.bed.gz\n",
    "FP_REF=${FD_REF}/${FN_REF}\n",
    "\n",
    "cp ${FP_OUT} ${FP_REF}"
   ]
  },
  {
   "cell_type": "code",
   "execution_count": 26,
   "id": "e989a502-c888-45a5-82b0-dd9217522d79",
   "metadata": {},
   "outputs": [
    {
     "name": "stdout",
     "output_type": "stream",
     "text": [
      "total 2.0M\n",
      "-rw-rw-r-- 1 kk319 reddylab 1.2M Apr 10 22:06 \u001b[0m\u001b[38;5;9mSTARRseq_ATAC.K562.TR.hg38.Input.rep_all.max_overlaps.q5.bed.gz\u001b[0m\u001b[K\n",
      "-rw-rw-r-- 1 kk319 reddylab 2.0M Apr 10 22:06 \u001b[38;5;9mSTARRseq_ATAC.K562.TR.hg38.Input.rep_all.union.q5.bed.gz\u001b[0m\n"
     ]
    }
   ],
   "source": [
    "ls -lh ${FD_PRJ}/references/fcc_peak_call_atac"
   ]
  },
  {
   "cell_type": "code",
   "execution_count": null,
   "id": "073903fa-d26c-4ea1-bd86-b4b0c4213386",
   "metadata": {},
   "outputs": [],
   "source": []
  }
 ],
 "metadata": {
  "kernelspec": {
   "display_name": "Bash",
   "language": "bash",
   "name": "bash"
  },
  "language_info": {
   "codemirror_mode": "shell",
   "file_extension": ".sh",
   "mimetype": "text/x-sh",
   "name": "bash"
  }
 },
 "nbformat": 4,
 "nbformat_minor": 5
}
