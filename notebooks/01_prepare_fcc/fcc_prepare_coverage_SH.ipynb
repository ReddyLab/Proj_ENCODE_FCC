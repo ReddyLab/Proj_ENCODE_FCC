{
 "cells": [
  {
   "cell_type": "raw",
   "id": "fb8ee46e-d3d9-4623-9f99-6167486387af",
   "metadata": {},
   "source": [
    "---\n",
    "title: ...\n",
    "subtitle: ...\n",
    "format:\n",
    "    html:\n",
    "        code-fold:  true\n",
    "        code-tools: true\n",
    "---"
   ]
  },
  {
   "cell_type": "markdown",
   "id": "7f07fc92-6fb7-4270-aade-302f636f6b60",
   "metadata": {},
   "source": [
    "**Set environment**"
   ]
  },
  {
   "cell_type": "code",
   "execution_count": 1,
   "id": "ff6e5663-545a-48a4-9efe-18046ecceab2",
   "metadata": {},
   "outputs": [
    {
     "name": "stdout",
     "output_type": "stream",
     "text": [
      "You are working on             Duke Server: HARDAC\n",
      "BASE DIRECTORY (FD_BASE):      /data/reddylab/Kuei\n",
      "REPO DIRECTORY (FD_REPO):      /data/reddylab/Kuei/repo\n",
      "WORK DIRECTORY (FD_WORK):      /data/reddylab/Kuei/work\n",
      "DATA DIRECTORY (FD_DATA):      /data/reddylab/Kuei/data\n",
      "CONTAINER DIR. (FD_SING):      /data/reddylab/Kuei/container\n",
      "\n",
      "You are working with           ENCODE FCC\n",
      "PATH OF PROJECT (FD_PRJ):      /data/reddylab/Kuei/repo/Proj_ENCODE_FCC\n",
      "PROJECT RESULTS (FD_RES):      /data/reddylab/Kuei/repo/Proj_ENCODE_FCC/results\n",
      "PROJECT SCRIPTS (FD_EXE):      /data/reddylab/Kuei/repo/Proj_ENCODE_FCC/scripts\n",
      "PROJECT DATA    (FD_DAT):      /data/reddylab/Kuei/repo/Proj_ENCODE_FCC/data\n",
      "PROJECT NOTE    (FD_NBK):      /data/reddylab/Kuei/repo/Proj_ENCODE_FCC/notebooks\n",
      "PROJECT DOCS    (FD_DOC):      /data/reddylab/Kuei/repo/Proj_ENCODE_FCC/docs\n",
      "PROJECT LOG     (FD_LOG):      /data/reddylab/Kuei/repo/Proj_ENCODE_FCC/log\n",
      "PROJECT APP     (FD_APP):      \n",
      "PROJECT REF     (FD_REF):      /data/reddylab/Kuei/repo/Proj_ENCODE_FCC/references\n",
      "PROJECT IMAGE   (FP_PRJ_SIF):  /data/reddylab/Kuei/container/project/singularity_proj_encode_fcc.sif\n",
      "\n"
     ]
    }
   ],
   "source": [
    "source ../run_config_project.sh\n",
    "show_env"
   ]
  },
  {
   "cell_type": "code",
   "execution_count": 2,
   "id": "725ed276-9b24-4c3e-ad77-7508f6627f3d",
   "metadata": {},
   "outputs": [
    {
     "name": "stdout",
     "output_type": "stream",
     "text": [
      "\u001b[0m\u001b[38;5;27mCRISPRi_FlowFISH_K562_Riley_JinWoo\u001b[0m\n",
      "\u001b[38;5;27mCRISPRi_Growth_K562_Gersbach_JinWoo\u001b[0m\n",
      "\u001b[38;5;27mMPRA_Lenti_K562_Nadav_Vikram\u001b[0m\n",
      "\u001b[38;5;27mMPRA_Tiling_K562_Tewhey_Hannah\u001b[0m\n",
      "\u001b[38;5;27mSTARR_ATAC_K562_Reddy_KS274\u001b[0m\n",
      "\u001b[38;5;27mSTARR_ATAC_K562_Reddy_KS91\u001b[0m\n",
      "\u001b[38;5;27mSTARR_ATAC_K562_Reddy_KSMerge\u001b[0m\n",
      "\u001b[38;5;27mSTARR_WHG_K562_Reddy_A001\u001b[0m\n"
     ]
    }
   ],
   "source": [
    "ls -1 ${FD_RES}/assay_fcc"
   ]
  },
  {
   "cell_type": "code",
   "execution_count": null,
   "id": "c2a394e8-79bf-4b99-be70-3448ed0c7a68",
   "metadata": {},
   "outputs": [],
   "source": [
    "FD_INP=${FD_DAT}/assay_fcc/\n",
    "FD_OUT=${FD_RES}/assay_fcc/"
   ]
  },
  {
   "cell_type": "code",
   "execution_count": null,
   "id": "4c63e782-bc1a-4175-8af6-808a6ecd49a1",
   "metadata": {},
   "outputs": [],
   "source": []
  },
  {
   "cell_type": "code",
   "execution_count": null,
   "id": "2617a8be-b8c1-4671-9bfd-b89ceab1a191",
   "metadata": {},
   "outputs": [],
   "source": [
    "FOLDERS=(\n",
    "    CRISPRi_FlowFISH_K562_Riley_JinWoo/guide_scores\n",
    "    CRISPRi_Growth_K562_Gersbach_JinWoo/guide_scores\n",
    "    MPRA_Lenti_K562_Nadav_Vikram/fragment_counts\n",
    "    MPRA_Tiling_K562_Tewhey_Hannah/fragment_counts\n",
    "    STARR_ATAC_K562_Reddy_KS274/fragment_counts\n",
    "    STARR_ATAC_K562_Reddy_KS91/fragment_counts\n",
    "    STARR_ATAC_K562_Reddy_KSMerge/fragment_counts\n",
    "    STARR_WHG_K562_Reddy_A001/fragment_counts\n",
    ")\n",
    "\n",
    "FD_OUTS=(\n",
    "    CRISPRi_FlowFISH_K562_Riley_JinWoo\n",
    "    CRISPRi_Growth_K562_Gersbach_JinWoo\n",
    "    MPRA_Lenti_K562_Nadav_Vikram\n",
    "    MPRA_Tiling_K562_Tewhey_Hannah\n",
    "    STARR_ATAC_K562_Reddy_KS274\n",
    "    STARR_ATAC_K562_Reddy_KS91\n",
    "    STARR_ATAC_K562_Reddy_KSMerge\n",
    "    STARR_WHG_K562_Reddy_A001\n",
    ")"
   ]
  },
  {
   "cell_type": "code",
   "execution_count": 13,
   "id": "5fc975b5-895c-4379-a507-48809c362c59",
   "metadata": {},
   "outputs": [
    {
     "name": "stdout",
     "output_type": "stream",
     "text": [
      "CRISPRi_FlowFISH_K562_Riley_JinWoo\n",
      "/data/reddylab/Kuei/repo/Proj_ENCODE_FCC/results/assay_fcc/CRISPRi_FlowFISH_K562_Riley_JinWoo/guide_scores\n",
      "/data/reddylab/Kuei/repo/Proj_ENCODE_FCC/results/assay_fcc/CRISPRi_FlowFISH_K562_Riley_JinWoo/coverage\n",
      "Create symbolic links.\n",
      "\n",
      "CRISPRi_Growth_K562_Gersbach_JinWoo\n",
      "/data/reddylab/Kuei/repo/Proj_ENCODE_FCC/results/assay_fcc/CRISPRi_Growth_K562_Gersbach_JinWoo/guide_scores\n",
      "/data/reddylab/Kuei/repo/Proj_ENCODE_FCC/results/assay_fcc/CRISPRi_Growth_K562_Gersbach_JinWoo/coverage\n",
      "Create symbolic links.\n",
      "\n",
      "MPRA_Lenti_K562_Nadav_Vikram\n",
      "/data/reddylab/Kuei/repo/Proj_ENCODE_FCC/results/assay_fcc/MPRA_Lenti_K562_Nadav_Vikram/fragment_counts\n",
      "/data/reddylab/Kuei/repo/Proj_ENCODE_FCC/results/assay_fcc/MPRA_Lenti_K562_Nadav_Vikram/coverage\n",
      "Create symbolic links.\n",
      "\n",
      "MPRA_Tiling_K562_Tewhey_Hannah\n",
      "/data/reddylab/Kuei/repo/Proj_ENCODE_FCC/results/assay_fcc/MPRA_Tiling_K562_Tewhey_Hannah/fragment_counts\n",
      "/data/reddylab/Kuei/repo/Proj_ENCODE_FCC/results/assay_fcc/MPRA_Tiling_K562_Tewhey_Hannah/coverage\n",
      "Create symbolic links.\n",
      "\n",
      "STARR_ATAC_K562_Reddy_KS274\n",
      "/data/reddylab/Kuei/repo/Proj_ENCODE_FCC/results/assay_fcc/STARR_ATAC_K562_Reddy_KS274/fragment_counts\n",
      "/data/reddylab/Kuei/repo/Proj_ENCODE_FCC/results/assay_fcc/STARR_ATAC_K562_Reddy_KS274/coverage\n",
      "Create symbolic links.\n",
      "\n",
      "STARR_ATAC_K562_Reddy_KS91\n",
      "/data/reddylab/Kuei/repo/Proj_ENCODE_FCC/results/assay_fcc/STARR_ATAC_K562_Reddy_KS91/fragment_counts\n",
      "/data/reddylab/Kuei/repo/Proj_ENCODE_FCC/results/assay_fcc/STARR_ATAC_K562_Reddy_KS91/coverage\n",
      "Create symbolic links.\n",
      "\n",
      "STARR_ATAC_K562_Reddy_KSMerge\n",
      "/data/reddylab/Kuei/repo/Proj_ENCODE_FCC/results/assay_fcc/STARR_ATAC_K562_Reddy_KSMerge/fragment_counts\n",
      "/data/reddylab/Kuei/repo/Proj_ENCODE_FCC/results/assay_fcc/STARR_ATAC_K562_Reddy_KSMerge/coverage\n",
      "Create symbolic links.\n",
      "\n",
      "STARR_WHG_K562_Reddy_A001\n",
      "/data/reddylab/Kuei/repo/Proj_ENCODE_FCC/results/assay_fcc/STARR_WHG_K562_Reddy_A001/fragment_counts\n",
      "/data/reddylab/Kuei/repo/Proj_ENCODE_FCC/results/assay_fcc/STARR_WHG_K562_Reddy_A001/coverage\n",
      "Create symbolic links.\n",
      "\n"
     ]
    }
   ],
   "source": [
    "FDIRY=${FD_RES}/assay_fcc\n",
    "FOLDERS=(\n",
    "    CRISPRi_FlowFISH_K562_Riley_JinWoo/guide_scores\n",
    "    CRISPRi_Growth_K562_Gersbach_JinWoo/guide_scores\n",
    "    MPRA_Lenti_K562_Nadav_Vikram/fragment_counts\n",
    "    MPRA_Tiling_K562_Tewhey_Hannah/fragment_counts\n",
    "    STARR_ATAC_K562_Reddy_KS274/fragment_counts\n",
    "    STARR_ATAC_K562_Reddy_KS91/fragment_counts\n",
    "    STARR_ATAC_K562_Reddy_KSMerge/fragment_counts\n",
    "    STARR_WHG_K562_Reddy_A001/fragment_counts\n",
    ")\n",
    "\n",
    "for FOLDER in ${FOLDERS[@]}; do\n",
    "    ASSAY=$(dirname ${FOLDER})\n",
    "    FD_INP=${FDIRY}/${FOLDER}\n",
    "    FD_LNK=${FDIRY}/${ASSAY}/coverage\n",
    "    echo ${ASSAY}\n",
    "    echo ${FD_INP}\n",
    "    echo ${FD_LNK}\n",
    "    \n",
    "    if [[ -h ${FD_LNK} ]]; then\n",
    "        rm ${FD_LNK}\n",
    "    fi\n",
    "    if [[ ! -e ${FD_LNK} ]]; then\n",
    "        echo \"Create symbolic links.\"\n",
    "        ln -s ${FD_INP} ${FD_LNK}\n",
    "    fi\n",
    "    echo\n",
    "done"
   ]
  },
  {
   "cell_type": "code",
   "execution_count": null,
   "id": "369fcde2-84e3-4321-b784-ca731dd10d5d",
   "metadata": {},
   "outputs": [],
   "source": [
    "\n",
    "    "
   ]
  }
 ],
 "metadata": {
  "kernelspec": {
   "display_name": "Bash",
   "language": "bash",
   "name": "bash"
  },
  "language_info": {
   "codemirror_mode": "shell",
   "file_extension": ".sh",
   "mimetype": "text/x-sh",
   "name": "bash"
  }
 },
 "nbformat": 4,
 "nbformat_minor": 5
}
