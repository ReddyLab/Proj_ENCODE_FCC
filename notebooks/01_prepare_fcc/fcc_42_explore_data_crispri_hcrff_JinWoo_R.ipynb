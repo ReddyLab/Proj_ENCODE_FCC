{
 "cells": [
  {
   "cell_type": "raw",
   "id": "d91718d4-0a8a-43d8-95fb-55306dc163d8",
   "metadata": {},
   "source": [
    "---\n",
    "title: Prepare CRISPRi-HCRFF processed by JinWoo 02\n",
    "subtitle: Get the genomic range of fragments designed in CRISPRi-HCRFF\n",
    "format:\n",
    "    html:\n",
    "        code-fold:  true\n",
    "        code-tools: true\n",
    "---"
   ]
  },
  {
   "cell_type": "markdown",
   "id": "173c8aec-c2e4-45f5-86ca-bea358c5380a",
   "metadata": {},
   "source": [
    "**Set environment**"
   ]
  },
  {
   "cell_type": "code",
   "execution_count": 1,
   "id": "ca6af130-62b6-46ca-b69b-442ae00d1323",
   "metadata": {},
   "outputs": [
    {
     "name": "stdout",
     "output_type": "stream",
     "text": [
      "You are working on        Singularity \n",
      "BASE DIRECTORY (FD_BASE): /mount \n",
      "REPO DIRECTORY (FD_REPO): /mount/repo \n",
      "WORK DIRECTORY (FD_WORK): /mount/work \n",
      "DATA DIRECTORY (FD_DATA): /mount/data \n",
      "\n",
      "You are working with      ENCODE FCC \n",
      "PATH OF PROJECT (FD_PRJ): /mount/repo/Proj_ENCODE_FCC \n",
      "PROJECT RESULTS (FD_RES): /mount/repo/Proj_ENCODE_FCC/results \n",
      "PROJECT SCRIPTS (FD_EXE): /mount/repo/Proj_ENCODE_FCC/scripts \n",
      "PROJECT DATA    (FD_DAT): /mount/repo/Proj_ENCODE_FCC/data \n",
      "PROJECT NOTE    (FD_NBK): /mount/repo/Proj_ENCODE_FCC/notebooks \n",
      "PROJECT DOCS    (FD_DOC): /mount/repo/Proj_ENCODE_FCC/docs \n",
      "PROJECT LOG     (FD_LOG): /mount/repo/Proj_ENCODE_FCC/log \n",
      "PROJECT APP     (FD_APP): /mount/repo/Proj_ENCODE_FCC/app \n",
      "PROJECT REF     (FD_REF): /mount/repo/Proj_ENCODE_FCC/references \n",
      "\n"
     ]
    }
   ],
   "source": [
    "suppressMessages(suppressWarnings(source(\"../run_config_project_sing.R\")))\n",
    "show_env()"
   ]
  },
  {
   "cell_type": "markdown",
   "id": "81a73ad3-0c6f-4078-b4bc-02a95e166b59",
   "metadata": {},
   "source": [
    "**Set global variables**"
   ]
  },
  {
   "cell_type": "code",
   "execution_count": 2,
   "id": "1c9b5274-2d87-4d3c-b78f-3eaeeee78b1f",
   "metadata": {},
   "outputs": [],
   "source": [
    "TXT_ASSAY = \"CRISPRi_FlowFISH_K562_Riley_JinWoo\""
   ]
  },
  {
   "cell_type": "markdown",
   "id": "d921793c-b0b4-4830-9bf5-5e64c50a94cd",
   "metadata": {},
   "source": [
    "## Import data"
   ]
  },
  {
   "cell_type": "code",
   "execution_count": 3,
   "id": "a8a6c937-3535-4ff1-bbc3-4e6ee2ad6e38",
   "metadata": {},
   "outputs": [
    {
     "data": {
      "text/html": [
       "<table>\n",
       " <thead>\n",
       "  <tr>\n",
       "   <th style=\"text-align:left;\"> Chrom </th>\n",
       "   <th style=\"text-align:right;\"> ChromStart </th>\n",
       "   <th style=\"text-align:right;\"> ChromEnd </th>\n",
       "   <th style=\"text-align:left;\"> Name </th>\n",
       "   <th style=\"text-align:right;\"> Score </th>\n",
       "   <th style=\"text-align:left;\"> Strand </th>\n",
       "   <th style=\"text-align:left;\"> Target </th>\n",
       "  </tr>\n",
       " </thead>\n",
       "<tbody>\n",
       "  <tr>\n",
       "   <td style=\"text-align:left;\"> chr1 </td>\n",
       "   <td style=\"text-align:right;\"> 74582275 </td>\n",
       "   <td style=\"text-align:right;\"> 74582276 </td>\n",
       "   <td style=\"text-align:left;\"> id-1 </td>\n",
       "   <td style=\"text-align:right;\"> 0.414014 </td>\n",
       "   <td style=\"text-align:left;\"> . </td>\n",
       "   <td style=\"text-align:left;\"> CD164 </td>\n",
       "  </tr>\n",
       "  <tr>\n",
       "   <td style=\"text-align:left;\"> chr1 </td>\n",
       "   <td style=\"text-align:right;\"> 74582275 </td>\n",
       "   <td style=\"text-align:right;\"> 74582276 </td>\n",
       "   <td style=\"text-align:left;\"> id-1 </td>\n",
       "   <td style=\"text-align:right;\"> -0.493091 </td>\n",
       "   <td style=\"text-align:left;\"> . </td>\n",
       "   <td style=\"text-align:left;\"> MYC </td>\n",
       "  </tr>\n",
       "  <tr>\n",
       "   <td style=\"text-align:left;\"> chr1 </td>\n",
       "   <td style=\"text-align:right;\"> 74582275 </td>\n",
       "   <td style=\"text-align:right;\"> 74582276 </td>\n",
       "   <td style=\"text-align:left;\"> id-1 </td>\n",
       "   <td style=\"text-align:right;\"> 0.024514 </td>\n",
       "   <td style=\"text-align:left;\"> . </td>\n",
       "   <td style=\"text-align:left;\"> NMU </td>\n",
       "  </tr>\n",
       "  <tr>\n",
       "   <td style=\"text-align:left;\"> chr1 </td>\n",
       "   <td style=\"text-align:right;\"> 74582275 </td>\n",
       "   <td style=\"text-align:right;\"> 74582276 </td>\n",
       "   <td style=\"text-align:left;\"> id-1 </td>\n",
       "   <td style=\"text-align:right;\"> 0.440890 </td>\n",
       "   <td style=\"text-align:left;\"> . </td>\n",
       "   <td style=\"text-align:left;\"> PVT1 </td>\n",
       "  </tr>\n",
       "  <tr>\n",
       "   <td style=\"text-align:left;\"> chr1 </td>\n",
       "   <td style=\"text-align:right;\"> 74582309 </td>\n",
       "   <td style=\"text-align:right;\"> 74582310 </td>\n",
       "   <td style=\"text-align:left;\"> id-2 </td>\n",
       "   <td style=\"text-align:right;\"> -0.181799 </td>\n",
       "   <td style=\"text-align:left;\"> . </td>\n",
       "   <td style=\"text-align:left;\"> CD164 </td>\n",
       "  </tr>\n",
       "  <tr>\n",
       "   <td style=\"text-align:left;\"> chr1 </td>\n",
       "   <td style=\"text-align:right;\"> 74582309 </td>\n",
       "   <td style=\"text-align:right;\"> 74582310 </td>\n",
       "   <td style=\"text-align:left;\"> id-2 </td>\n",
       "   <td style=\"text-align:right;\"> 0.997649 </td>\n",
       "   <td style=\"text-align:left;\"> . </td>\n",
       "   <td style=\"text-align:left;\"> MYC </td>\n",
       "  </tr>\n",
       "</tbody>\n",
       "</table>"
      ]
     },
     "metadata": {},
     "output_type": "display_data"
    }
   ],
   "source": [
    "### set directory\n",
    "txt_assay  = TXT_ASSAY\n",
    "txt_folder = \"guide_scores\"\n",
    "txt_fdiry  = file.path(FD_RES, \"assay_fcc\", txt_assay, txt_folder)\n",
    "txt_fname  = \"CRISPRi_HCRFF_K562.hg38.ZScore.unstranded.bed.gz\"\n",
    "txt_fpath = file.path(txt_fdiry, txt_fname)\n",
    "\n",
    "### read table\n",
    "vec_txt_cname = c(\"Chrom\", \"ChromStart\", \"ChromEnd\", \"Name\", \"Score\", \"Strand\", \"Target\")\n",
    "dat = read_tsv(\n",
    "    txt_fpath, \n",
    "    col_names = vec_txt_cname, \n",
    "    show_col_types = FALSE)\n",
    "\n",
    "### assign and show\n",
    "dat_guide_score_chcrff = dat\n",
    "fun_display_table(head(dat))"
   ]
  },
  {
   "cell_type": "code",
   "execution_count": null,
   "id": "aac1ed2b-42bd-4296-a7d5-ad5c4c1f5bcf",
   "metadata": {},
   "outputs": [],
   "source": []
  },
  {
   "cell_type": "code",
   "execution_count": null,
   "id": "214ce4f0-c0d6-47ea-bd63-1ef414ce5afd",
   "metadata": {},
   "outputs": [],
   "source": []
  },
  {
   "cell_type": "code",
   "execution_count": 8,
   "id": "919435b7-804b-4d59-89ea-bfa8678921bf",
   "metadata": {},
   "outputs": [
    {
     "data": {
      "image/png": "[encoded data removed]",
      "text/plain": [
       "plot without title"
      ]
     },
     "metadata": {
      "image/png": {
       "height": 300,
       "width": 420
      }
     },
     "output_type": "display_data"
    }
   ],
   "source": [
    "dat = dat_guide_score_chcrff\n",
    "gpt = ggplot(dat, aes(x=Score)) + \n",
    "    geom_histogram(bins=50) +\n",
    "    theme_cowplot() +\n",
    "    background_grid()\n",
    "\n",
    "options(repr.plot.height=5, repr.plot.width=7)\n",
    "print(gpt)"
   ]
  },
  {
   "cell_type": "code",
   "execution_count": 16,
   "id": "7bd99f1d-96e0-4760-a85c-db5e403531c9",
   "metadata": {},
   "outputs": [],
   "source": [
    "theme_text = theme(axis.text.x = element_text(angle=90, vjust=0.5, hjust=1))"
   ]
  },
  {
   "cell_type": "code",
   "execution_count": 18,
   "id": "25f584d9-85e6-4b89-a7be-81152794ab8f",
   "metadata": {},
   "outputs": [
    {
     "data": {
      "image/png": "[encoded data removed]",
      "text/plain": [
       "plot without title"
      ]
     },
     "metadata": {
      "image/png": {
       "height": 300,
       "width": 420
      }
     },
     "output_type": "display_data"
    }
   ],
   "source": [
    "dat = dat_guide_score_chcrff\n",
    "gpt = ggplot(dat, aes(x=Target, y=Score)) + \n",
    "    geom_violin() +\n",
    "    theme_cowplot() +\n",
    "    background_grid() +\n",
    "    theme_text\n",
    "\n",
    "options(repr.plot.height=5, repr.plot.width=7)\n",
    "print(gpt)"
   ]
  },
  {
   "cell_type": "code",
   "execution_count": null,
   "id": "f7fd22f0-b3a1-4e35-8e98-1ed4d4e3288c",
   "metadata": {},
   "outputs": [],
   "source": []
  },
  {
   "cell_type": "code",
   "execution_count": 22,
   "id": "5d4c35b7-5505-41e9-8739-fa68f8dbf8d8",
   "metadata": {
    "scrolled": true
   },
   "outputs": [
    {
     "name": "stdout",
     "output_type": "stream",
     "text": [
      "CAPRIN1_HCRFF_r1.log2FC_Z.bedgraph \n",
      "CAPRIN1_HCRFF_r2.log2FC_Z.bedgraph \n",
      "CAPRIN1_HS_exp_r1.tsv \n",
      "CAPRIN1_HS_exp_r1.tsv.gz \n",
      "CAPRIN1_HS_exp_r2.tsv.gz \n",
      "CAPRIN1_LS_exp_r1.tsv.gz \n",
      "CAPRIN1_LS_exp_r2.tsv.gz \n",
      "CAT_HCRFF_r1.log2FC_Z.bedgraph \n",
      "CAT_HCRFF_r2.log2FC_Z.bedgraph \n",
      "CAT_HS_exp_r1.tsv \n",
      "CAT_HS_exp_r1.tsv.gz \n",
      "CAT_HS_exp_r2.tsv.gz \n",
      "CAT_LS_exp_r1.tsv.gz \n",
      "CAT_LS_exp_r2.tsv.gz \n",
      "CD164_HCRFF_r1.log2FC_Z.bedgraph \n",
      "CD164_HCRFF_r2.log2FC_Z.bedgraph \n",
      "CD164_HS_exp_r1.tsv \n",
      "CD164_HS_exp_r1.tsv.gz \n",
      "CD164_HS_exp_r2.tsv.gz \n",
      "CD164_LS_exp_r1.tsv.gz \n",
      "CD164_LS_exp_r2.tsv.gz \n",
      "ERP29_HCRFF_r1.log2FC_Z.bedgraph \n",
      "ERP29_HCRFF_r2.log2FC_Z.bedgraph \n",
      "ERP29_HS_exp_r1.tsv \n",
      "ERP29_HS_exp_r1.tsv.gz \n",
      "ERP29_HS_exp_r2.tsv.gz \n",
      "ERP29_LS_exp_r1.tsv.gz \n",
      "ERP29_LS_exp_r2.tsv.gz \n",
      "FADS1_HCRFF_r1.log2FC_Z.bedgraph \n",
      "FADS1_HCRFF_r2.log2FC_Z.bedgraph \n",
      "FADS1_HS_exp_r1.tsv \n",
      "FADS1_HS_exp_r1.tsv.gz \n",
      "FADS1_HS_exp_r2.tsv.gz \n",
      "FADS1_LS_exp_r1.tsv.gz \n",
      "FADS1_LS_exp_r2.tsv.gz \n",
      "FADS2_HCRFF_r1.log2FC_Z.bedgraph \n",
      "FADS2_HCRFF_r2.log2FC_Z.bedgraph \n",
      "FADS2_HS_exp_r1.tsv \n",
      "FADS2_HS_exp_r1.tsv.gz \n",
      "FADS2_HS_exp_r2.tsv.gz \n",
      "FADS2_LS_exp_r1.tsv.gz \n",
      "FADS2_LS_exp_r2.tsv.gz \n",
      "FADS3_HCRFF_r1.log2FC_Z.bedgraph \n",
      "FADS3_HCRFF_r2.log2FC_Z.bedgraph \n",
      "FADS3_HS_exp_r1.tsv \n",
      "FADS3_HS_exp_r1.tsv.gz \n",
      "FADS3_HS_exp_r2.tsv.gz \n",
      "FADS3_LS_exp_r1.tsv.gz \n",
      "FADS3_LS_exp_r2.tsv.gz \n",
      "FEN1_HCRFF_r1.log2FC_Z.bedgraph \n",
      "FEN1_HCRFF_r2.log2FC_Z.bedgraph \n",
      "FEN1_HS_exp_r1.tsv \n",
      "FEN1_HS_exp_r1.tsv.gz \n",
      "FEN1_HS_exp_r2.tsv.gz \n",
      "FEN1_LS_exp_r1.tsv.gz \n",
      "FEN1_LS_exp_r2.tsv.gz \n",
      "GATA1_HCRFF_r1.log2FC_Z.bedgraph \n",
      "GATA1_HCRFF_r2.log2FC_Z.bedgraph \n",
      "GATA1_HS_exp_r1.tsv \n",
      "GATA1_HS_exp_r1.tsv.gz \n",
      "GATA1_HS_exp_r2.tsv.gz \n",
      "GATA1_LS_exp_r1.tsv.gz \n",
      "GATA1_LS_exp_r2.tsv.gz \n",
      "HBE1_HCRFF_r1.log2FC_Z.bedgraph \n",
      "HBE1_HCRFF_r2.log2FC_Z.bedgraph \n",
      "HBE1_HS_exp_r1.tsv \n",
      "HBE1_HS_exp_r1.tsv.gz \n",
      "HBE1_HS_exp_r2.tsv.gz \n",
      "HBE1_LS_exp_r1.tsv.gz \n",
      "HBE1_LS_exp_r2.tsv.gz \n",
      "HBG1_HCRFF_r1.log2FC_Z.bedgraph \n",
      "HBG1_HCRFF_r2.log2FC_Z.bedgraph \n",
      "HBG1_HS_exp_r1.tsv \n",
      "HBG1_HS_exp_r1.tsv.gz \n",
      "HBG1_HS_exp_r2.tsv.gz \n",
      "HBG1_LS_exp_r1.tsv.gz \n",
      "HBG1_LS_exp_r2.tsv.gz \n",
      "HBG2_HCRFF_r1.log2FC_Z.bedgraph \n",
      "HBG2_HCRFF_r2.log2FC_Z.bedgraph \n",
      "HBG2_HS_exp_r1.tsv \n",
      "HBG2_HS_exp_r1.tsv.gz \n",
      "HBG2_HS_exp_r2.tsv.gz \n",
      "HBG2_LS_exp_r1.tsv.gz \n",
      "HBG2_LS_exp_r2.tsv.gz \n",
      "HBS1L_HCRFF_r1.log2FC_Z.bedgraph \n",
      "HBS1L_HCRFF_r2.log2FC_Z.bedgraph \n",
      "HBS1L_HS_exp_r1.tsv \n",
      "HBS1L_HS_exp_r1.tsv.gz \n",
      "HBS1L_HS_exp_r2.tsv.gz \n",
      "HBS1L_LS_exp_r1.tsv.gz \n",
      "HBS1L_LS_exp_r2.tsv.gz \n",
      "HDAC6_HCRFF_r1.log2FC_Z.bedgraph \n",
      "HDAC6_HCRFF_r2.log2FC_Z.bedgraph \n",
      "HDAC6_HS_exp_r1.tsv \n",
      "HDAC6_HS_exp_r1.tsv.gz \n",
      "HDAC6_HS_exp_r2.tsv.gz \n",
      "HDAC6_LS_exp_r1.tsv.gz \n",
      "HDAC6_LS_exp_r2.tsv.gz \n",
      "LMO2_HCRFF_r1.log2FC_Z.bedgraph \n",
      "LMO2_HCRFF_r2.log2FC_Z.bedgraph \n",
      "LMO2_HS_exp_r1.tsv \n",
      "LMO2_HS_exp_r1.tsv.gz \n",
      "LMO2_HS_exp_r2.tsv.gz \n",
      "LMO2_LS_exp_r1.tsv.gz \n",
      "LMO2_LS_exp_r2.tsv.gz \n",
      "MEF2C_HCRFF_r1.log2FC_Z.bedgraph \n",
      "MEF2C_HCRFF_r2.log2FC_Z.bedgraph \n",
      "MEF2C_HS_exp_r1.tsv \n",
      "MEF2C_HS_exp_r1.tsv.gz \n",
      "MEF2C_HS_exp_r2.tsv.gz \n",
      "MEF2C_LS_exp_r1.tsv.gz \n",
      "MEF2C_LS_exp_r2.tsv.gz \n",
      "MYB_HCRFF_r1.log2FC_Z.bedgraph \n",
      "MYB_HCRFF_r2.log2FC_Z.bedgraph \n",
      "MYB_HS_exp_r1.tsv \n",
      "MYB_HS_exp_r1.tsv.gz \n",
      "MYB_HS_exp_r2.tsv.gz \n",
      "MYB_LS_exp_r1.tsv.gz \n",
      "MYB_LS_exp_r2.tsv.gz \n",
      "MYC_HCRFF_r1.log2FC_Z.bedgraph \n",
      "MYC_HCRFF_r2.log2FC_Z.bedgraph \n",
      "MYC_HS_exp_r1.tsv \n",
      "MYC_HS_exp_r1.tsv.gz \n",
      "MYC_HS_exp_r2.tsv.gz \n",
      "MYC_LS_exp_r1.tsv.gz \n",
      "MYC_LS_exp_r2.tsv.gz \n",
      "NMU_HCRFF_r1.log2FC_Z.bedgraph \n",
      "NMU_HCRFF_r2.log2FC_Z.bedgraph \n",
      "NMU_HS_exp_r1.tsv \n",
      "NMU_HS_exp_r1.tsv.gz \n",
      "NMU_HS_exp_r2.tsv.gz \n",
      "NMU_LS_exp_r1.tsv.gz \n",
      "NMU_LS_exp_r2.tsv.gz \n",
      "PVT1_HCRFF_r1.log2FC_Z.bedgraph \n",
      "PVT1_HCRFF_r2.log2FC_Z.bedgraph \n",
      "PVT1_HS_exp_r1.tsv \n",
      "PVT1_HS_exp_r1.tsv.gz \n",
      "PVT1_HS_exp_r2.tsv.gz \n",
      "PVT1_LS_exp_r1.tsv.gz \n",
      "PVT1_LS_exp_r2.tsv.gz \n"
     ]
    }
   ],
   "source": [
    "txt_fdiry = file.path(FD_DAT, \"processed\", \"CRISPRi_FlowFISH_K562_Riley_JinWoo\", \"track_bedgraph\")\n",
    "vec = dir(txt_fdiry)\n",
    "for (txt in vec){cat(txt, \"\\n\")}"
   ]
  },
  {
   "cell_type": "code",
   "execution_count": null,
   "id": "36a4accd-9d5a-4fa3-987c-bd37ca5b3fd5",
   "metadata": {},
   "outputs": [],
   "source": []
  },
  {
   "cell_type": "code",
   "execution_count": null,
   "id": "c5197b57-2057-4087-ab4e-1852a31e08e1",
   "metadata": {},
   "outputs": [],
   "source": []
  },
  {
   "cell_type": "code",
   "execution_count": null,
   "id": "97e7abec-43c3-40a3-9850-6c57d817afec",
   "metadata": {},
   "outputs": [],
   "source": [
    "### read data\n",
    "    cnames = c(\"Chrom\", \"Start\", \"End\", \"Name\", \"SeqCounts\", \"Strand\", \"Guide_ID\", \n",
    "           \"Chrom_TSS\", \"Start_TSS\", \"End_TSS\", \"Strand_Gene\", \n",
    "           \"Gene_Symbol\", \n",
    "           \"Gene_ENS\", \n",
    "           \"Guide_SpacerSeq\",\n",
    "           \"Guide_Seq\",\n",
    "           \"Guide_Type\",\n",
    "           \"Notes\"\n",
    "          )"
   ]
  },
  {
   "cell_type": "code",
   "execution_count": null,
   "id": "9cbf6bfe-d6f6-41b6-ba57-60fa630cb5dd",
   "metadata": {},
   "outputs": [],
   "source": [
    "txt_fdiry = file.path(FD_DAT, \"processed\", \"CRISPRi_FlowFISH_K562_Riley_JinWoo\", \"track_bedgraph\")\n",
    "txt_fname = \"*HS_exp_r1.tsv.gz\"\n",
    "txt_fglob = file.path(txt_fdiry, txt_fname)\n",
    "\n",
    "vec_txt_fpath = Sys.glob(txt_fglob)\n",
    "\n",
    "###\n",
    "lst = lapply(vec_txt_fpath, function(txt_fpath){\n",
    "    dat = read_tsv(txt_fpath, col_names = FALSE, show_col_types = FALSE)\n",
    "    return(dat)\n",
    "})"
   ]
  },
  {
   "cell_type": "code",
   "execution_count": null,
   "id": "7440d989-be25-4a85-88c8-b1b02f48b87c",
   "metadata": {},
   "outputs": [],
   "source": []
  },
  {
   "cell_type": "code",
   "execution_count": null,
   "id": "1d39ddf3-c88a-45a4-898b-7562e337aee3",
   "metadata": {},
   "outputs": [],
   "source": []
  },
  {
   "cell_type": "code",
   "execution_count": null,
   "id": "87b1e0ce-8d9d-4581-9e4b-a09da0e3b8dc",
   "metadata": {},
   "outputs": [],
   "source": [
    "GATA1_HS_exp_r1.tsv.gz \n",
    "GATA1_HS_exp_r2.tsv.gz \n",
    "GATA1_LS_exp_r1.tsv.gz \n",
    "GATA1_LS_exp_r2.tsv.gz"
   ]
  },
  {
   "cell_type": "code",
   "execution_count": 26,
   "id": "8fa8c83b-6011-4370-b7c3-320d848bb5fb",
   "metadata": {},
   "outputs": [],
   "source": [
    "txt_fdiry = file.path(FD_DAT, \"processed\", \"CRISPRi_FlowFISH_K562_Riley_JinWoo\", \"track_bedgraph\")\n",
    "txt_fname = \"*HS_exp_r1.tsv.gz\"\n",
    "txt_fglob = file.path(txt_fdiry, txt_fname)\n",
    "\n",
    "vec_txt_fpath = Sys.glob(txt_fglob)"
   ]
  },
  {
   "cell_type": "code",
   "execution_count": 32,
   "id": "bb3787db-03a3-474e-b13d-e612ef539aeb",
   "metadata": {},
   "outputs": [],
   "source": [
    "txt_fdiry = file.path(FD_DAT, \"processed\", \"CRISPRi_FlowFISH_K562_Riley_JinWoo\", \"track_bedgraph\")\n",
    "vec_txt_fname = c(\n",
    "    \"GATA1_HS_exp_r1.tsv.gz\",\n",
    "    \"GATA1_HS_exp_r2.tsv.gz\",\n",
    "    \"GATA1_LS_exp_r1.tsv.gz\",\n",
    "    \"GATA1_LS_exp_r2.tsv.gz\")\n",
    "vec_txt_fpath = file.path(\n",
    "    txt_fdiry, \n",
    "    vec_txt_fname)\n",
    "\n",
    "vec_txt_cname = c(\n",
    "    \"Chrom\", \"ChromStart\", \"ChromEnd\", \"Name\", \"SeqCounts\", \"Strand\", \"Guide_ID\", \n",
    "    \"Chrom_TSS\", \"ChromStart_TSS\", \"ChromEnd_TSS\", \"Strand_Gene\", \n",
    "    \"Gene_Symbol\", \n",
    "    \"Gene_Ensembl\", \n",
    "    \"Guide_SpacerSeq\",\n",
    "    \"Guide_Seq\",\n",
    "    \"Guide_Type\",\n",
    "    \"Notes\")\n",
    "vec_col_ctype = cols(\n",
    "    \"Chrom\"      = col_character(),\n",
    "    \"ChromStart\" = col_integer(),\n",
    "    \"ChromEnd\"   = col_integer()\n",
    ")\n",
    "\n",
    "lst = lapply(vec_txt_fpath, function(txt_fpath){\n",
    "    ### read data\n",
    "    dat = read_tsv(\n",
    "        txt_fpath, \n",
    "        col_names = vec_txt_cname, \n",
    "        col_types = vec_col_ctype, \n",
    "        show_col_types = FALSE)\n",
    "    return(dat)\n",
    "})"
   ]
  },
  {
   "cell_type": "code",
   "execution_count": 40,
   "id": "5339f1ee-539b-4cd0-ac77-e74e8560fccc",
   "metadata": {},
   "outputs": [
    {
     "name": "stdout",
     "output_type": "stream",
     "text": [
      "[1] 61340\n",
      "[1] 15335\n",
      "[1] 61340\n"
     ]
    }
   ],
   "source": [
    "dat = bind_rows(lst)\n",
    "print(nrow(dat))\n",
    "\n",
    "dat = dat %>% dplyr::select(\n",
    "    Chrom, ChromStart, ChromEnd, Name, Guide_ID, Strand,\n",
    "    Gene_Symbol, \n",
    "    Gene_Ensembl,\n",
    "    Guide_SpacerSeq,\n",
    "    Guide_Seq, \n",
    "    Guide_Type)\n",
    "dat = dat %>% dplyr::distinct()\n",
    "print(nrow(dat))\n",
    "print(nrow(dat)*4)"
   ]
  },
  {
   "cell_type": "code",
   "execution_count": null,
   "id": "cac1e0e2-0077-4402-8ac1-c03d554b36f4",
   "metadata": {},
   "outputs": [],
   "source": []
  },
  {
   "cell_type": "code",
   "execution_count": null,
   "id": "2405dfb4-9c70-4c25-90ac-3a1c25dbef98",
   "metadata": {},
   "outputs": [],
   "source": []
  },
  {
   "cell_type": "markdown",
   "id": "3864aca9-7867-40c0-a1b8-4fe3f4d7fcc8",
   "metadata": {},
   "source": [
    "## Summary"
   ]
  },
  {
   "cell_type": "code",
   "execution_count": 18,
   "id": "1e501179-6ee0-4364-b6c3-3bf9e71033f2",
   "metadata": {},
   "outputs": [
    {
     "data": {
      "text/html": [
       "<table class=\"dataframe\">\n",
       "<caption>A tibble: 6 × 3</caption>\n",
       "<thead>\n",
       "\t<tr><th scope=col>Chrom</th><th scope=col>ChromStart</th><th scope=col>ChromEnd</th></tr>\n",
       "\t<tr><th scope=col>&lt;chr&gt;</th><th scope=col>&lt;dbl&gt;</th><th scope=col>&lt;dbl&gt;</th></tr>\n",
       "</thead>\n",
       "<tbody>\n",
       "\t<tr><td>chr1</td><td> 74582275</td><td> 74582276</td></tr>\n",
       "\t<tr><td>chr1</td><td> 74582309</td><td> 74582310</td></tr>\n",
       "\t<tr><td>chr1</td><td> 80526338</td><td> 80526339</td></tr>\n",
       "\t<tr><td>chr1</td><td>102025739</td><td>102025740</td></tr>\n",
       "\t<tr><td>chr1</td><td>102026463</td><td>102026464</td></tr>\n",
       "\t<tr><td>chr1</td><td>102522706</td><td>102522707</td></tr>\n",
       "</tbody>\n",
       "</table>\n"
      ],
      "text/latex": [
       "A tibble: 6 × 3\n",
       "\\begin{tabular}{lll}\n",
       " Chrom & ChromStart & ChromEnd\\\\\n",
       " <chr> & <dbl> & <dbl>\\\\\n",
       "\\hline\n",
       "\t chr1 &  74582275 &  74582276\\\\\n",
       "\t chr1 &  74582309 &  74582310\\\\\n",
       "\t chr1 &  80526338 &  80526339\\\\\n",
       "\t chr1 & 102025739 & 102025740\\\\\n",
       "\t chr1 & 102026463 & 102026464\\\\\n",
       "\t chr1 & 102522706 & 102522707\\\\\n",
       "\\end{tabular}\n"
      ],
      "text/markdown": [
       "\n",
       "A tibble: 6 × 3\n",
       "\n",
       "| Chrom &lt;chr&gt; | ChromStart &lt;dbl&gt; | ChromEnd &lt;dbl&gt; |\n",
       "|---|---|---|\n",
       "| chr1 |  74582275 |  74582276 |\n",
       "| chr1 |  74582309 |  74582310 |\n",
       "| chr1 |  80526338 |  80526339 |\n",
       "| chr1 | 102025739 | 102025740 |\n",
       "| chr1 | 102026463 | 102026464 |\n",
       "| chr1 | 102522706 | 102522707 |\n",
       "\n"
      ],
      "text/plain": [
       "  Chrom ChromStart ChromEnd \n",
       "1 chr1   74582275   74582276\n",
       "2 chr1   74582309   74582310\n",
       "3 chr1   80526338   80526339\n",
       "4 chr1  102025739  102025740\n",
       "5 chr1  102026463  102026464\n",
       "6 chr1  102522706  102522707"
      ]
     },
     "metadata": {},
     "output_type": "display_data"
    }
   ],
   "source": [
    "###\n",
    "dat = dat_guide_score_chcrff\n",
    "dat = dat %>% \n",
    "    dplyr::select(Chrom, ChromStart, ChromEnd) %>% \n",
    "    dplyr::distinct()\n",
    "dat_loc_total = dat\n"
   ]
  },
  {
   "cell_type": "code",
   "execution_count": 20,
   "id": "c7db7229-261f-4da5-9e82-09cab80cf197",
   "metadata": {},
   "outputs": [
    {
     "name": "stdout",
     "output_type": "stream",
     "text": [
      "#{Guides}    = 656178 \n",
      "#{Locations} = 344091 \n"
     ]
    }
   ],
   "source": [
    "### Total number of guides\n",
    "grg = grg_guide_total\n",
    "cat(\"#{Guides}    =\", length(grg), \"\\n\")\n",
    "\n",
    "### Total locations\n",
    "dat = dat_loc_chcrff\n",
    "cat(\"#{Locations} =\", nrow(dat), \"\\n\")"
   ]
  },
  {
   "cell_type": "code",
   "execution_count": null,
   "id": "a4735572-9dc1-45c5-8237-d44ff6848e2b",
   "metadata": {},
   "outputs": [],
   "source": []
  },
  {
   "cell_type": "code",
   "execution_count": null,
   "id": "6013d2d5-f747-4d9f-9b69-f05eaaa19344",
   "metadata": {},
   "outputs": [],
   "source": []
  },
  {
   "cell_type": "code",
   "execution_count": 35,
   "id": "4ac56551-f872-468f-b95e-987c9795633a",
   "metadata": {},
   "outputs": [
    {
     "data": {
      "text/html": [
       "<table class=\"dataframe\">\n",
       "<caption>A tibble: 6 × 17</caption>\n",
       "<thead>\n",
       "\t<tr><th scope=col>Chrom</th><th scope=col>ChromStart</th><th scope=col>ChromEnd</th><th scope=col>Name</th><th scope=col>SeqCounts</th><th scope=col>Strand</th><th scope=col>Guide_ID</th><th scope=col>Chrom_TSS</th><th scope=col>ChromStart_TSS</th><th scope=col>ChromEnd_TSS</th><th scope=col>Strand_Gene</th><th scope=col>Gene_Symbol</th><th scope=col>Gene_Ensembl</th><th scope=col>Guide_SpacerSeq</th><th scope=col>Guide_Seq</th><th scope=col>Guide_Type</th><th scope=col>Notes</th></tr>\n",
       "\t<tr><th scope=col>&lt;chr&gt;</th><th scope=col>&lt;int&gt;</th><th scope=col>&lt;int&gt;</th><th scope=col>&lt;chr&gt;</th><th scope=col>&lt;dbl&gt;</th><th scope=col>&lt;chr&gt;</th><th scope=col>&lt;chr&gt;</th><th scope=col>&lt;chr&gt;</th><th scope=col>&lt;dbl&gt;</th><th scope=col>&lt;dbl&gt;</th><th scope=col>&lt;chr&gt;</th><th scope=col>&lt;chr&gt;</th><th scope=col>&lt;chr&gt;</th><th scope=col>&lt;chr&gt;</th><th scope=col>&lt;chr&gt;</th><th scope=col>&lt;chr&gt;</th><th scope=col>&lt;chr&gt;</th></tr>\n",
       "</thead>\n",
       "<tbody>\n",
       "\t<tr><td>NA</td><td>NA</td><td>NA</td><td>NA|nt_1006</td><td>782</td><td>NA</td><td>nt_1006</td><td>chrX</td><td>48786590</td><td>48786591</td><td>+</td><td>GATA1</td><td>ENSG00000102145</td><td>GACGCGCTGCATACGATCG</td><td>GACGCGCTGCATACGATCG</td><td>negative_control</td><td>NT</td></tr>\n",
       "\t<tr><td>NA</td><td>NA</td><td>NA</td><td>NA|nt_1007</td><td>329</td><td>NA</td><td>nt_1007</td><td>chrX</td><td>48786590</td><td>48786591</td><td>+</td><td>GATA1</td><td>ENSG00000102145</td><td>GACGGCATGACGAGGTAGT</td><td>GACGGCATGACGAGGTAGT</td><td>negative_control</td><td>NT</td></tr>\n",
       "\t<tr><td>NA</td><td>NA</td><td>NA</td><td>NA|nt_1008</td><td>654</td><td>NA</td><td>nt_1008</td><td>chrX</td><td>48786590</td><td>48786591</td><td>+</td><td>GATA1</td><td>ENSG00000102145</td><td>GACGGGATCTGATGGTTCA</td><td>GACGGGATCTGATGGTTCA</td><td>negative_control</td><td>NT</td></tr>\n",
       "\t<tr><td>NA</td><td>NA</td><td>NA</td><td>NA|nt_1010</td><td>413</td><td>NA</td><td>nt_1010</td><td>chrX</td><td>48786590</td><td>48786591</td><td>+</td><td>GATA1</td><td>ENSG00000102145</td><td>GACGGGCTATAAAGCATTT</td><td>GACGGGCTATAAAGCATTT</td><td>negative_control</td><td>NT</td></tr>\n",
       "\t<tr><td>NA</td><td>NA</td><td>NA</td><td>NA|nt_1011</td><td>167</td><td>NA</td><td>nt_1011</td><td>chrX</td><td>48786590</td><td>48786591</td><td>+</td><td>GATA1</td><td>ENSG00000102145</td><td>GACGTGGACGTTGGCGCC </td><td>GACGTGGACGTTGGCGCC </td><td>negative_control</td><td>NT</td></tr>\n",
       "\t<tr><td>NA</td><td>NA</td><td>NA</td><td>NA|nt_1012</td><td>491</td><td>NA</td><td>nt_1012</td><td>chrX</td><td>48786590</td><td>48786591</td><td>+</td><td>GATA1</td><td>ENSG00000102145</td><td>GACTAAGCGCAAGCACCT </td><td>GACTAAGCGCAAGCACCT </td><td>negative_control</td><td>NT</td></tr>\n",
       "</tbody>\n",
       "</table>\n"
      ],
      "text/latex": [
       "A tibble: 6 × 17\n",
       "\\begin{tabular}{lllllllllllllllll}\n",
       " Chrom & ChromStart & ChromEnd & Name & SeqCounts & Strand & Guide\\_ID & Chrom\\_TSS & ChromStart\\_TSS & ChromEnd\\_TSS & Strand\\_Gene & Gene\\_Symbol & Gene\\_Ensembl & Guide\\_SpacerSeq & Guide\\_Seq & Guide\\_Type & Notes\\\\\n",
       " <chr> & <int> & <int> & <chr> & <dbl> & <chr> & <chr> & <chr> & <dbl> & <dbl> & <chr> & <chr> & <chr> & <chr> & <chr> & <chr> & <chr>\\\\\n",
       "\\hline\n",
       "\t NA & NA & NA & NA\\textbar{}nt\\_1006 & 782 & NA & nt\\_1006 & chrX & 48786590 & 48786591 & + & GATA1 & ENSG00000102145 & GACGCGCTGCATACGATCG & GACGCGCTGCATACGATCG & negative\\_control & NT\\\\\n",
       "\t NA & NA & NA & NA\\textbar{}nt\\_1007 & 329 & NA & nt\\_1007 & chrX & 48786590 & 48786591 & + & GATA1 & ENSG00000102145 & GACGGCATGACGAGGTAGT & GACGGCATGACGAGGTAGT & negative\\_control & NT\\\\\n",
       "\t NA & NA & NA & NA\\textbar{}nt\\_1008 & 654 & NA & nt\\_1008 & chrX & 48786590 & 48786591 & + & GATA1 & ENSG00000102145 & GACGGGATCTGATGGTTCA & GACGGGATCTGATGGTTCA & negative\\_control & NT\\\\\n",
       "\t NA & NA & NA & NA\\textbar{}nt\\_1010 & 413 & NA & nt\\_1010 & chrX & 48786590 & 48786591 & + & GATA1 & ENSG00000102145 & GACGGGCTATAAAGCATTT & GACGGGCTATAAAGCATTT & negative\\_control & NT\\\\\n",
       "\t NA & NA & NA & NA\\textbar{}nt\\_1011 & 167 & NA & nt\\_1011 & chrX & 48786590 & 48786591 & + & GATA1 & ENSG00000102145 & GACGTGGACGTTGGCGCC  & GACGTGGACGTTGGCGCC  & negative\\_control & NT\\\\\n",
       "\t NA & NA & NA & NA\\textbar{}nt\\_1012 & 491 & NA & nt\\_1012 & chrX & 48786590 & 48786591 & + & GATA1 & ENSG00000102145 & GACTAAGCGCAAGCACCT  & GACTAAGCGCAAGCACCT  & negative\\_control & NT\\\\\n",
       "\\end{tabular}\n"
      ],
      "text/markdown": [
       "\n",
       "A tibble: 6 × 17\n",
       "\n",
       "| Chrom &lt;chr&gt; | ChromStart &lt;int&gt; | ChromEnd &lt;int&gt; | Name &lt;chr&gt; | SeqCounts &lt;dbl&gt; | Strand &lt;chr&gt; | Guide_ID &lt;chr&gt; | Chrom_TSS &lt;chr&gt; | ChromStart_TSS &lt;dbl&gt; | ChromEnd_TSS &lt;dbl&gt; | Strand_Gene &lt;chr&gt; | Gene_Symbol &lt;chr&gt; | Gene_Ensembl &lt;chr&gt; | Guide_SpacerSeq &lt;chr&gt; | Guide_Seq &lt;chr&gt; | Guide_Type &lt;chr&gt; | Notes &lt;chr&gt; |\n",
       "|---|---|---|---|---|---|---|---|---|---|---|---|---|---|---|---|---|\n",
       "| NA | NA | NA | NA|nt_1006 | 782 | NA | nt_1006 | chrX | 48786590 | 48786591 | + | GATA1 | ENSG00000102145 | GACGCGCTGCATACGATCG | GACGCGCTGCATACGATCG | negative_control | NT |\n",
       "| NA | NA | NA | NA|nt_1007 | 329 | NA | nt_1007 | chrX | 48786590 | 48786591 | + | GATA1 | ENSG00000102145 | GACGGCATGACGAGGTAGT | GACGGCATGACGAGGTAGT | negative_control | NT |\n",
       "| NA | NA | NA | NA|nt_1008 | 654 | NA | nt_1008 | chrX | 48786590 | 48786591 | + | GATA1 | ENSG00000102145 | GACGGGATCTGATGGTTCA | GACGGGATCTGATGGTTCA | negative_control | NT |\n",
       "| NA | NA | NA | NA|nt_1010 | 413 | NA | nt_1010 | chrX | 48786590 | 48786591 | + | GATA1 | ENSG00000102145 | GACGGGCTATAAAGCATTT | GACGGGCTATAAAGCATTT | negative_control | NT |\n",
       "| NA | NA | NA | NA|nt_1011 | 167 | NA | nt_1011 | chrX | 48786590 | 48786591 | + | GATA1 | ENSG00000102145 | GACGTGGACGTTGGCGCC  | GACGTGGACGTTGGCGCC  | negative_control | NT |\n",
       "| NA | NA | NA | NA|nt_1012 | 491 | NA | nt_1012 | chrX | 48786590 | 48786591 | + | GATA1 | ENSG00000102145 | GACTAAGCGCAAGCACCT  | GACTAAGCGCAAGCACCT  | negative_control | NT |\n",
       "\n"
      ],
      "text/plain": [
       "  Chrom ChromStart ChromEnd Name       SeqCounts Strand Guide_ID Chrom_TSS\n",
       "1 NA    NA         NA       NA|nt_1006 782       NA     nt_1006  chrX     \n",
       "2 NA    NA         NA       NA|nt_1007 329       NA     nt_1007  chrX     \n",
       "3 NA    NA         NA       NA|nt_1008 654       NA     nt_1008  chrX     \n",
       "4 NA    NA         NA       NA|nt_1010 413       NA     nt_1010  chrX     \n",
       "5 NA    NA         NA       NA|nt_1011 167       NA     nt_1011  chrX     \n",
       "6 NA    NA         NA       NA|nt_1012 491       NA     nt_1012  chrX     \n",
       "  ChromStart_TSS ChromEnd_TSS Strand_Gene Gene_Symbol Gene_Ensembl   \n",
       "1 48786590       48786591     +           GATA1       ENSG00000102145\n",
       "2 48786590       48786591     +           GATA1       ENSG00000102145\n",
       "3 48786590       48786591     +           GATA1       ENSG00000102145\n",
       "4 48786590       48786591     +           GATA1       ENSG00000102145\n",
       "5 48786590       48786591     +           GATA1       ENSG00000102145\n",
       "6 48786590       48786591     +           GATA1       ENSG00000102145\n",
       "  Guide_SpacerSeq     Guide_Seq           Guide_Type       Notes\n",
       "1 GACGCGCTGCATACGATCG GACGCGCTGCATACGATCG negative_control NT   \n",
       "2 GACGGCATGACGAGGTAGT GACGGCATGACGAGGTAGT negative_control NT   \n",
       "3 GACGGGATCTGATGGTTCA GACGGGATCTGATGGTTCA negative_control NT   \n",
       "4 GACGGGCTATAAAGCATTT GACGGGCTATAAAGCATTT negative_control NT   \n",
       "5 GACGTGGACGTTGGCGCC  GACGTGGACGTTGGCGCC  negative_control NT   \n",
       "6 GACTAAGCGCAAGCACCT  GACTAAGCGCAAGCACCT  negative_control NT   "
      ]
     },
     "metadata": {},
     "output_type": "display_data"
    }
   ],
   "source": [
    "dat = lst[[1]]\n",
    "dat = dat %>% dplyr::filter(Notes == \"NT\")\n",
    "head(dat)"
   ]
  },
  {
   "cell_type": "code",
   "execution_count": 33,
   "id": "7b6c285c-7f22-4934-9624-84cee0e11150",
   "metadata": {},
   "outputs": [
    {
     "data": {
      "text/html": [
       "<table class=\"dataframe\">\n",
       "<caption>A tibble: 6 × 17</caption>\n",
       "<thead>\n",
       "\t<tr><th scope=col>Chrom</th><th scope=col>ChromStart</th><th scope=col>ChromEnd</th><th scope=col>Name</th><th scope=col>SeqCounts</th><th scope=col>Strand</th><th scope=col>Guide_ID</th><th scope=col>Chrom_TSS</th><th scope=col>ChromStart_TSS</th><th scope=col>ChromEnd_TSS</th><th scope=col>Strand_Gene</th><th scope=col>Gene_Symbol</th><th scope=col>Gene_Ensembl</th><th scope=col>Guide_SpacerSeq</th><th scope=col>Guide_Seq</th><th scope=col>Guide_Type</th><th scope=col>Notes</th></tr>\n",
       "\t<tr><th scope=col>&lt;chr&gt;</th><th scope=col>&lt;int&gt;</th><th scope=col>&lt;int&gt;</th><th scope=col>&lt;chr&gt;</th><th scope=col>&lt;dbl&gt;</th><th scope=col>&lt;chr&gt;</th><th scope=col>&lt;chr&gt;</th><th scope=col>&lt;chr&gt;</th><th scope=col>&lt;dbl&gt;</th><th scope=col>&lt;dbl&gt;</th><th scope=col>&lt;chr&gt;</th><th scope=col>&lt;chr&gt;</th><th scope=col>&lt;chr&gt;</th><th scope=col>&lt;chr&gt;</th><th scope=col>&lt;chr&gt;</th><th scope=col>&lt;chr&gt;</th><th scope=col>&lt;chr&gt;</th></tr>\n",
       "</thead>\n",
       "<tbody>\n",
       "\t<tr><td>chr12</td><td>54300767</td><td>54300770</td><td>GATA1|chr12:54300749-54300767:+</td><td>517</td><td>+</td><td>chr12:54300749-54300767:+</td><td>chrX</td><td>48786590</td><td>48786591</td><td>+</td><td>GATA1</td><td>ENSG00000102145</td><td>GGATTCCAGTGAGATCCGAG</td><td>GGATTCCAGTGAGATCCGAG </td><td>targeting</td><td>NA</td></tr>\n",
       "\t<tr><td>chr12</td><td>54300811</td><td>54300814</td><td>GATA1|chr12:54300793-54300811:+</td><td>376</td><td>+</td><td>chr12:54300793-54300811:+</td><td>chrX</td><td>48786590</td><td>48786591</td><td>+</td><td>GATA1</td><td>ENSG00000102145</td><td>CTCCACCACAGGTGCCTGAA</td><td>GCTCCACCACAGGTGCCTGAA</td><td>targeting</td><td>NA</td></tr>\n",
       "\t<tr><td>chr12</td><td>54300999</td><td>54301002</td><td>GATA1|chr12:54300981-54300999:+</td><td>780</td><td>+</td><td>chr12:54300981-54300999:+</td><td>chrX</td><td>48786590</td><td>48786591</td><td>+</td><td>GATA1</td><td>ENSG00000102145</td><td>TGAGCACAGGAGCCCCAAGC</td><td>GTGAGCACAGGAGCCCCAAGC</td><td>targeting</td><td>NA</td></tr>\n",
       "\t<tr><td>chr12</td><td>54301042</td><td>54301045</td><td>GATA1|chr12:54301024-54301042:+</td><td>327</td><td>+</td><td>chr12:54301024-54301042:+</td><td>chrX</td><td>48786590</td><td>48786591</td><td>+</td><td>GATA1</td><td>ENSG00000102145</td><td>GGACTGAGAACTCAGGCCGA</td><td>GGACTGAGAACTCAGGCCGA </td><td>targeting</td><td>NA</td></tr>\n",
       "\t<tr><td>chr19</td><td>12887111</td><td>12887114</td><td>GATA1|chr19:12887092-12887111:+</td><td>541</td><td>+</td><td>chr19:12887092-12887111:+</td><td>chrX</td><td>48786590</td><td>48786591</td><td>+</td><td>GATA1</td><td>ENSG00000102145</td><td>CATCAGCACACTGACCGCCC</td><td>GCATCAGCACACTGACCGCCC</td><td>targeting</td><td>NA</td></tr>\n",
       "\t<tr><td>chr19</td><td>12887179</td><td>12887182</td><td>GATA1|chr19:12887160-12887179:+</td><td>838</td><td>+</td><td>chr19:12887160-12887179:+</td><td>chrX</td><td>48786590</td><td>48786591</td><td>+</td><td>GATA1</td><td>ENSG00000102145</td><td>AAGAGGAGGCTTGAGGCCCA</td><td>GAAGAGGAGGCTTGAGGCCCA</td><td>targeting</td><td>NA</td></tr>\n",
       "</tbody>\n",
       "</table>\n"
      ],
      "text/latex": [
       "A tibble: 6 × 17\n",
       "\\begin{tabular}{lllllllllllllllll}\n",
       " Chrom & ChromStart & ChromEnd & Name & SeqCounts & Strand & Guide\\_ID & Chrom\\_TSS & ChromStart\\_TSS & ChromEnd\\_TSS & Strand\\_Gene & Gene\\_Symbol & Gene\\_Ensembl & Guide\\_SpacerSeq & Guide\\_Seq & Guide\\_Type & Notes\\\\\n",
       " <chr> & <int> & <int> & <chr> & <dbl> & <chr> & <chr> & <chr> & <dbl> & <dbl> & <chr> & <chr> & <chr> & <chr> & <chr> & <chr> & <chr>\\\\\n",
       "\\hline\n",
       "\t chr12 & 54300767 & 54300770 & GATA1\\textbar{}chr12:54300749-54300767:+ & 517 & + & chr12:54300749-54300767:+ & chrX & 48786590 & 48786591 & + & GATA1 & ENSG00000102145 & GGATTCCAGTGAGATCCGAG & GGATTCCAGTGAGATCCGAG  & targeting & NA\\\\\n",
       "\t chr12 & 54300811 & 54300814 & GATA1\\textbar{}chr12:54300793-54300811:+ & 376 & + & chr12:54300793-54300811:+ & chrX & 48786590 & 48786591 & + & GATA1 & ENSG00000102145 & CTCCACCACAGGTGCCTGAA & GCTCCACCACAGGTGCCTGAA & targeting & NA\\\\\n",
       "\t chr12 & 54300999 & 54301002 & GATA1\\textbar{}chr12:54300981-54300999:+ & 780 & + & chr12:54300981-54300999:+ & chrX & 48786590 & 48786591 & + & GATA1 & ENSG00000102145 & TGAGCACAGGAGCCCCAAGC & GTGAGCACAGGAGCCCCAAGC & targeting & NA\\\\\n",
       "\t chr12 & 54301042 & 54301045 & GATA1\\textbar{}chr12:54301024-54301042:+ & 327 & + & chr12:54301024-54301042:+ & chrX & 48786590 & 48786591 & + & GATA1 & ENSG00000102145 & GGACTGAGAACTCAGGCCGA & GGACTGAGAACTCAGGCCGA  & targeting & NA\\\\\n",
       "\t chr19 & 12887111 & 12887114 & GATA1\\textbar{}chr19:12887092-12887111:+ & 541 & + & chr19:12887092-12887111:+ & chrX & 48786590 & 48786591 & + & GATA1 & ENSG00000102145 & CATCAGCACACTGACCGCCC & GCATCAGCACACTGACCGCCC & targeting & NA\\\\\n",
       "\t chr19 & 12887179 & 12887182 & GATA1\\textbar{}chr19:12887160-12887179:+ & 838 & + & chr19:12887160-12887179:+ & chrX & 48786590 & 48786591 & + & GATA1 & ENSG00000102145 & AAGAGGAGGCTTGAGGCCCA & GAAGAGGAGGCTTGAGGCCCA & targeting & NA\\\\\n",
       "\\end{tabular}\n"
      ],
      "text/markdown": [
       "\n",
       "A tibble: 6 × 17\n",
       "\n",
       "| Chrom &lt;chr&gt; | ChromStart &lt;int&gt; | ChromEnd &lt;int&gt; | Name &lt;chr&gt; | SeqCounts &lt;dbl&gt; | Strand &lt;chr&gt; | Guide_ID &lt;chr&gt; | Chrom_TSS &lt;chr&gt; | ChromStart_TSS &lt;dbl&gt; | ChromEnd_TSS &lt;dbl&gt; | Strand_Gene &lt;chr&gt; | Gene_Symbol &lt;chr&gt; | Gene_Ensembl &lt;chr&gt; | Guide_SpacerSeq &lt;chr&gt; | Guide_Seq &lt;chr&gt; | Guide_Type &lt;chr&gt; | Notes &lt;chr&gt; |\n",
       "|---|---|---|---|---|---|---|---|---|---|---|---|---|---|---|---|---|\n",
       "| chr12 | 54300767 | 54300770 | GATA1|chr12:54300749-54300767:+ | 517 | + | chr12:54300749-54300767:+ | chrX | 48786590 | 48786591 | + | GATA1 | ENSG00000102145 | GGATTCCAGTGAGATCCGAG | GGATTCCAGTGAGATCCGAG  | targeting | NA |\n",
       "| chr12 | 54300811 | 54300814 | GATA1|chr12:54300793-54300811:+ | 376 | + | chr12:54300793-54300811:+ | chrX | 48786590 | 48786591 | + | GATA1 | ENSG00000102145 | CTCCACCACAGGTGCCTGAA | GCTCCACCACAGGTGCCTGAA | targeting | NA |\n",
       "| chr12 | 54300999 | 54301002 | GATA1|chr12:54300981-54300999:+ | 780 | + | chr12:54300981-54300999:+ | chrX | 48786590 | 48786591 | + | GATA1 | ENSG00000102145 | TGAGCACAGGAGCCCCAAGC | GTGAGCACAGGAGCCCCAAGC | targeting | NA |\n",
       "| chr12 | 54301042 | 54301045 | GATA1|chr12:54301024-54301042:+ | 327 | + | chr12:54301024-54301042:+ | chrX | 48786590 | 48786591 | + | GATA1 | ENSG00000102145 | GGACTGAGAACTCAGGCCGA | GGACTGAGAACTCAGGCCGA  | targeting | NA |\n",
       "| chr19 | 12887111 | 12887114 | GATA1|chr19:12887092-12887111:+ | 541 | + | chr19:12887092-12887111:+ | chrX | 48786590 | 48786591 | + | GATA1 | ENSG00000102145 | CATCAGCACACTGACCGCCC | GCATCAGCACACTGACCGCCC | targeting | NA |\n",
       "| chr19 | 12887179 | 12887182 | GATA1|chr19:12887160-12887179:+ | 838 | + | chr19:12887160-12887179:+ | chrX | 48786590 | 48786591 | + | GATA1 | ENSG00000102145 | AAGAGGAGGCTTGAGGCCCA | GAAGAGGAGGCTTGAGGCCCA | targeting | NA |\n",
       "\n"
      ],
      "text/plain": [
       "  Chrom ChromStart ChromEnd Name                            SeqCounts Strand\n",
       "1 chr12 54300767   54300770 GATA1|chr12:54300749-54300767:+ 517       +     \n",
       "2 chr12 54300811   54300814 GATA1|chr12:54300793-54300811:+ 376       +     \n",
       "3 chr12 54300999   54301002 GATA1|chr12:54300981-54300999:+ 780       +     \n",
       "4 chr12 54301042   54301045 GATA1|chr12:54301024-54301042:+ 327       +     \n",
       "5 chr19 12887111   12887114 GATA1|chr19:12887092-12887111:+ 541       +     \n",
       "6 chr19 12887179   12887182 GATA1|chr19:12887160-12887179:+ 838       +     \n",
       "  Guide_ID                  Chrom_TSS ChromStart_TSS ChromEnd_TSS Strand_Gene\n",
       "1 chr12:54300749-54300767:+ chrX      48786590       48786591     +          \n",
       "2 chr12:54300793-54300811:+ chrX      48786590       48786591     +          \n",
       "3 chr12:54300981-54300999:+ chrX      48786590       48786591     +          \n",
       "4 chr12:54301024-54301042:+ chrX      48786590       48786591     +          \n",
       "5 chr19:12887092-12887111:+ chrX      48786590       48786591     +          \n",
       "6 chr19:12887160-12887179:+ chrX      48786590       48786591     +          \n",
       "  Gene_Symbol Gene_Ensembl    Guide_SpacerSeq      Guide_Seq            \n",
       "1 GATA1       ENSG00000102145 GGATTCCAGTGAGATCCGAG GGATTCCAGTGAGATCCGAG \n",
       "2 GATA1       ENSG00000102145 CTCCACCACAGGTGCCTGAA GCTCCACCACAGGTGCCTGAA\n",
       "3 GATA1       ENSG00000102145 TGAGCACAGGAGCCCCAAGC GTGAGCACAGGAGCCCCAAGC\n",
       "4 GATA1       ENSG00000102145 GGACTGAGAACTCAGGCCGA GGACTGAGAACTCAGGCCGA \n",
       "5 GATA1       ENSG00000102145 CATCAGCACACTGACCGCCC GCATCAGCACACTGACCGCCC\n",
       "6 GATA1       ENSG00000102145 AAGAGGAGGCTTGAGGCCCA GAAGAGGAGGCTTGAGGCCCA\n",
       "  Guide_Type Notes\n",
       "1 targeting  NA   \n",
       "2 targeting  NA   \n",
       "3 targeting  NA   \n",
       "4 targeting  NA   \n",
       "5 targeting  NA   \n",
       "6 targeting  NA   "
      ]
     },
     "metadata": {},
     "output_type": "display_data"
    }
   ],
   "source": [
    "dat = lst[[1]]\n",
    "head(dat)"
   ]
  },
  {
   "cell_type": "code",
   "execution_count": 30,
   "id": "9f97595f-87f5-4554-9d86-d4b672320a44",
   "metadata": {},
   "outputs": [
    {
     "data": {
      "text/html": [
       "<table class=\"dataframe\">\n",
       "<caption>A tibble: 6 × 17</caption>\n",
       "<thead>\n",
       "\t<tr><th scope=col>X1</th><th scope=col>X2</th><th scope=col>X3</th><th scope=col>X4</th><th scope=col>X5</th><th scope=col>X6</th><th scope=col>X7</th><th scope=col>X8</th><th scope=col>X9</th><th scope=col>X10</th><th scope=col>X11</th><th scope=col>X12</th><th scope=col>X13</th><th scope=col>X14</th><th scope=col>X15</th><th scope=col>X16</th><th scope=col>X17</th></tr>\n",
       "\t<tr><th scope=col>&lt;chr&gt;</th><th scope=col>&lt;dbl&gt;</th><th scope=col>&lt;dbl&gt;</th><th scope=col>&lt;chr&gt;</th><th scope=col>&lt;dbl&gt;</th><th scope=col>&lt;chr&gt;</th><th scope=col>&lt;chr&gt;</th><th scope=col>&lt;chr&gt;</th><th scope=col>&lt;dbl&gt;</th><th scope=col>&lt;dbl&gt;</th><th scope=col>&lt;chr&gt;</th><th scope=col>&lt;chr&gt;</th><th scope=col>&lt;chr&gt;</th><th scope=col>&lt;chr&gt;</th><th scope=col>&lt;chr&gt;</th><th scope=col>&lt;chr&gt;</th><th scope=col>&lt;chr&gt;</th></tr>\n",
       "</thead>\n",
       "<tbody>\n",
       "\t<tr><td>chr12</td><td>54300767</td><td>54300770</td><td>GATA1|chr12:54300749-54300767:+</td><td>591</td><td>+</td><td>chr12:54300749-54300767:+</td><td>chrX</td><td>48786590</td><td>48786591</td><td>+</td><td>GATA1</td><td>ENSG00000102145</td><td>GGATTCCAGTGAGATCCGAG</td><td>GGATTCCAGTGAGATCCGAG </td><td>targeting</td><td>NA</td></tr>\n",
       "\t<tr><td>chr12</td><td>54300811</td><td>54300814</td><td>GATA1|chr12:54300793-54300811:+</td><td>499</td><td>+</td><td>chr12:54300793-54300811:+</td><td>chrX</td><td>48786590</td><td>48786591</td><td>+</td><td>GATA1</td><td>ENSG00000102145</td><td>CTCCACCACAGGTGCCTGAA</td><td>GCTCCACCACAGGTGCCTGAA</td><td>targeting</td><td>NA</td></tr>\n",
       "\t<tr><td>chr12</td><td>54300999</td><td>54301002</td><td>GATA1|chr12:54300981-54300999:+</td><td>501</td><td>+</td><td>chr12:54300981-54300999:+</td><td>chrX</td><td>48786590</td><td>48786591</td><td>+</td><td>GATA1</td><td>ENSG00000102145</td><td>TGAGCACAGGAGCCCCAAGC</td><td>GTGAGCACAGGAGCCCCAAGC</td><td>targeting</td><td>NA</td></tr>\n",
       "\t<tr><td>chr12</td><td>54301042</td><td>54301045</td><td>GATA1|chr12:54301024-54301042:+</td><td>148</td><td>+</td><td>chr12:54301024-54301042:+</td><td>chrX</td><td>48786590</td><td>48786591</td><td>+</td><td>GATA1</td><td>ENSG00000102145</td><td>GGACTGAGAACTCAGGCCGA</td><td>GGACTGAGAACTCAGGCCGA </td><td>targeting</td><td>NA</td></tr>\n",
       "\t<tr><td>chr19</td><td>12887111</td><td>12887114</td><td>GATA1|chr19:12887092-12887111:+</td><td>794</td><td>+</td><td>chr19:12887092-12887111:+</td><td>chrX</td><td>48786590</td><td>48786591</td><td>+</td><td>GATA1</td><td>ENSG00000102145</td><td>CATCAGCACACTGACCGCCC</td><td>GCATCAGCACACTGACCGCCC</td><td>targeting</td><td>NA</td></tr>\n",
       "\t<tr><td>chr19</td><td>12887179</td><td>12887182</td><td>GATA1|chr19:12887160-12887179:+</td><td>711</td><td>+</td><td>chr19:12887160-12887179:+</td><td>chrX</td><td>48786590</td><td>48786591</td><td>+</td><td>GATA1</td><td>ENSG00000102145</td><td>AAGAGGAGGCTTGAGGCCCA</td><td>GAAGAGGAGGCTTGAGGCCCA</td><td>targeting</td><td>NA</td></tr>\n",
       "</tbody>\n",
       "</table>\n"
      ],
      "text/latex": [
       "A tibble: 6 × 17\n",
       "\\begin{tabular}{lllllllllllllllll}\n",
       " X1 & X2 & X3 & X4 & X5 & X6 & X7 & X8 & X9 & X10 & X11 & X12 & X13 & X14 & X15 & X16 & X17\\\\\n",
       " <chr> & <dbl> & <dbl> & <chr> & <dbl> & <chr> & <chr> & <chr> & <dbl> & <dbl> & <chr> & <chr> & <chr> & <chr> & <chr> & <chr> & <chr>\\\\\n",
       "\\hline\n",
       "\t chr12 & 54300767 & 54300770 & GATA1\\textbar{}chr12:54300749-54300767:+ & 591 & + & chr12:54300749-54300767:+ & chrX & 48786590 & 48786591 & + & GATA1 & ENSG00000102145 & GGATTCCAGTGAGATCCGAG & GGATTCCAGTGAGATCCGAG  & targeting & NA\\\\\n",
       "\t chr12 & 54300811 & 54300814 & GATA1\\textbar{}chr12:54300793-54300811:+ & 499 & + & chr12:54300793-54300811:+ & chrX & 48786590 & 48786591 & + & GATA1 & ENSG00000102145 & CTCCACCACAGGTGCCTGAA & GCTCCACCACAGGTGCCTGAA & targeting & NA\\\\\n",
       "\t chr12 & 54300999 & 54301002 & GATA1\\textbar{}chr12:54300981-54300999:+ & 501 & + & chr12:54300981-54300999:+ & chrX & 48786590 & 48786591 & + & GATA1 & ENSG00000102145 & TGAGCACAGGAGCCCCAAGC & GTGAGCACAGGAGCCCCAAGC & targeting & NA\\\\\n",
       "\t chr12 & 54301042 & 54301045 & GATA1\\textbar{}chr12:54301024-54301042:+ & 148 & + & chr12:54301024-54301042:+ & chrX & 48786590 & 48786591 & + & GATA1 & ENSG00000102145 & GGACTGAGAACTCAGGCCGA & GGACTGAGAACTCAGGCCGA  & targeting & NA\\\\\n",
       "\t chr19 & 12887111 & 12887114 & GATA1\\textbar{}chr19:12887092-12887111:+ & 794 & + & chr19:12887092-12887111:+ & chrX & 48786590 & 48786591 & + & GATA1 & ENSG00000102145 & CATCAGCACACTGACCGCCC & GCATCAGCACACTGACCGCCC & targeting & NA\\\\\n",
       "\t chr19 & 12887179 & 12887182 & GATA1\\textbar{}chr19:12887160-12887179:+ & 711 & + & chr19:12887160-12887179:+ & chrX & 48786590 & 48786591 & + & GATA1 & ENSG00000102145 & AAGAGGAGGCTTGAGGCCCA & GAAGAGGAGGCTTGAGGCCCA & targeting & NA\\\\\n",
       "\\end{tabular}\n"
      ],
      "text/markdown": [
       "\n",
       "A tibble: 6 × 17\n",
       "\n",
       "| X1 &lt;chr&gt; | X2 &lt;dbl&gt; | X3 &lt;dbl&gt; | X4 &lt;chr&gt; | X5 &lt;dbl&gt; | X6 &lt;chr&gt; | X7 &lt;chr&gt; | X8 &lt;chr&gt; | X9 &lt;dbl&gt; | X10 &lt;dbl&gt; | X11 &lt;chr&gt; | X12 &lt;chr&gt; | X13 &lt;chr&gt; | X14 &lt;chr&gt; | X15 &lt;chr&gt; | X16 &lt;chr&gt; | X17 &lt;chr&gt; |\n",
       "|---|---|---|---|---|---|---|---|---|---|---|---|---|---|---|---|---|\n",
       "| chr12 | 54300767 | 54300770 | GATA1|chr12:54300749-54300767:+ | 591 | + | chr12:54300749-54300767:+ | chrX | 48786590 | 48786591 | + | GATA1 | ENSG00000102145 | GGATTCCAGTGAGATCCGAG | GGATTCCAGTGAGATCCGAG  | targeting | NA |\n",
       "| chr12 | 54300811 | 54300814 | GATA1|chr12:54300793-54300811:+ | 499 | + | chr12:54300793-54300811:+ | chrX | 48786590 | 48786591 | + | GATA1 | ENSG00000102145 | CTCCACCACAGGTGCCTGAA | GCTCCACCACAGGTGCCTGAA | targeting | NA |\n",
       "| chr12 | 54300999 | 54301002 | GATA1|chr12:54300981-54300999:+ | 501 | + | chr12:54300981-54300999:+ | chrX | 48786590 | 48786591 | + | GATA1 | ENSG00000102145 | TGAGCACAGGAGCCCCAAGC | GTGAGCACAGGAGCCCCAAGC | targeting | NA |\n",
       "| chr12 | 54301042 | 54301045 | GATA1|chr12:54301024-54301042:+ | 148 | + | chr12:54301024-54301042:+ | chrX | 48786590 | 48786591 | + | GATA1 | ENSG00000102145 | GGACTGAGAACTCAGGCCGA | GGACTGAGAACTCAGGCCGA  | targeting | NA |\n",
       "| chr19 | 12887111 | 12887114 | GATA1|chr19:12887092-12887111:+ | 794 | + | chr19:12887092-12887111:+ | chrX | 48786590 | 48786591 | + | GATA1 | ENSG00000102145 | CATCAGCACACTGACCGCCC | GCATCAGCACACTGACCGCCC | targeting | NA |\n",
       "| chr19 | 12887179 | 12887182 | GATA1|chr19:12887160-12887179:+ | 711 | + | chr19:12887160-12887179:+ | chrX | 48786590 | 48786591 | + | GATA1 | ENSG00000102145 | AAGAGGAGGCTTGAGGCCCA | GAAGAGGAGGCTTGAGGCCCA | targeting | NA |\n",
       "\n"
      ],
      "text/plain": [
       "  X1    X2       X3       X4                              X5  X6\n",
       "1 chr12 54300767 54300770 GATA1|chr12:54300749-54300767:+ 591 + \n",
       "2 chr12 54300811 54300814 GATA1|chr12:54300793-54300811:+ 499 + \n",
       "3 chr12 54300999 54301002 GATA1|chr12:54300981-54300999:+ 501 + \n",
       "4 chr12 54301042 54301045 GATA1|chr12:54301024-54301042:+ 148 + \n",
       "5 chr19 12887111 12887114 GATA1|chr19:12887092-12887111:+ 794 + \n",
       "6 chr19 12887179 12887182 GATA1|chr19:12887160-12887179:+ 711 + \n",
       "  X7                        X8   X9       X10      X11 X12   X13            \n",
       "1 chr12:54300749-54300767:+ chrX 48786590 48786591 +   GATA1 ENSG00000102145\n",
       "2 chr12:54300793-54300811:+ chrX 48786590 48786591 +   GATA1 ENSG00000102145\n",
       "3 chr12:54300981-54300999:+ chrX 48786590 48786591 +   GATA1 ENSG00000102145\n",
       "4 chr12:54301024-54301042:+ chrX 48786590 48786591 +   GATA1 ENSG00000102145\n",
       "5 chr19:12887092-12887111:+ chrX 48786590 48786591 +   GATA1 ENSG00000102145\n",
       "6 chr19:12887160-12887179:+ chrX 48786590 48786591 +   GATA1 ENSG00000102145\n",
       "  X14                  X15                   X16       X17\n",
       "1 GGATTCCAGTGAGATCCGAG GGATTCCAGTGAGATCCGAG  targeting NA \n",
       "2 CTCCACCACAGGTGCCTGAA GCTCCACCACAGGTGCCTGAA targeting NA \n",
       "3 TGAGCACAGGAGCCCCAAGC GTGAGCACAGGAGCCCCAAGC targeting NA \n",
       "4 GGACTGAGAACTCAGGCCGA GGACTGAGAACTCAGGCCGA  targeting NA \n",
       "5 CATCAGCACACTGACCGCCC GCATCAGCACACTGACCGCCC targeting NA \n",
       "6 AAGAGGAGGCTTGAGGCCCA GAAGAGGAGGCTTGAGGCCCA targeting NA "
      ]
     },
     "metadata": {},
     "output_type": "display_data"
    }
   ],
   "source": [
    "dat = lst[[2]]\n",
    "head(dat)"
   ]
  },
  {
   "cell_type": "code",
   "execution_count": null,
   "id": "1d19bfc1-3db0-4a50-815f-b9d3be4b7f73",
   "metadata": {},
   "outputs": [],
   "source": []
  },
  {
   "cell_type": "code",
   "execution_count": null,
   "id": "7ed5e8b3-d08d-4b24-9d38-18725561b6eb",
   "metadata": {},
   "outputs": [],
   "source": []
  },
  {
   "cell_type": "code",
   "execution_count": null,
   "id": "0ee0e352-e201-44b6-9b2c-89887b7d0619",
   "metadata": {},
   "outputs": [],
   "source": [
    "### set file path\n",
    "fdiry = file.path(FD_RES, \"source\", \"CRISPRi_FlowFISH\", \"track_bedgraph\")\n",
    "fname = paste(gene, \"HS_exp_r1.tsv.gz\", sep=\"_\")\n",
    "fpath = file.path(fdiry, fname)\n",
    "\n",
    "### read data\n",
    "cnames = c(\"Chrom\", \"Start\", \"End\", \"Name\", \"SeqCounts\", \"Strand\", \"Guide_ID\", \n",
    "       \"Chrom_TSS\", \"Start_TSS\", \"End_TSS\", \"Strand_Gene\", \n",
    "       \"Gene_Symbol\", \n",
    "       \"Gene_ENS\", \n",
    "       \"Guide_SpacerSeq\",\n",
    "       \"Guide_Seq\",\n",
    "       \"Guide_Type\",\n",
    "       \"Notes\"\n",
    "      )\n",
    "ctypes = cols(\n",
    "    \"Chrom\" = col_character(),\n",
    "    \"Start\" = col_integer(),\n",
    "    \"End\"   = col_integer()\n",
    ")\n",
    "dat = read_tsv(fpath, col_names = cnames, col_types = ctypes, show_col_types = FALSE)\n",
    "\n",
    "### assign and show\n",
    "dat_crispr_info_HS = dat\n",
    "print(dim(dat))\n",
    "head(dat)"
   ]
  },
  {
   "cell_type": "code",
   "execution_count": null,
   "id": "218e0c09-a077-4fe4-8a00-d935fca7d8e8",
   "metadata": {},
   "outputs": [],
   "source": [
    "fdiry = file.path(FD_RES, \"source\", \"CRISPRi_FlowFISH\", \"track_bedgraph\")\n",
    "\n",
    "lst = lapply(genes, function(gene){\n",
    "    \n",
    "    ###\n",
    "    fname = paste(gene, \"HS_exp_r1.tsv.gz\", sep=\"_\")\n",
    "    fpath = file.path(fdiry, fname)\n",
    "    \n",
    "    ### read data\n",
    "    cnames = c(\"Chrom\", \"Start\", \"End\", \"Name\", \"SeqCounts\", \"Strand\", \"Guide_ID\", \n",
    "           \"Chrom_TSS\", \"Start_TSS\", \"End_TSS\", \"Strand_Gene\", \n",
    "           \"Gene_Symbol\", \n",
    "           \"Gene_ENS\", \n",
    "           \"Guide_SpacerSeq\",\n",
    "           \"Guide_Seq\",\n",
    "           \"Guide_Type\",\n",
    "           \"Notes\"\n",
    "          )\n",
    "    ctypes = cols(\n",
    "        \"Chrom\" = col_character(),\n",
    "        \"Start\" = col_integer(),\n",
    "        \"End\"   = col_integer()\n",
    "    )\n",
    "    dat = read_tsv(fpath, col_names = cnames, col_types = ctypes, show_col_types = FALSE)\n",
    "    return(dat)\n",
    "})\n",
    "names(lst) = genes\n",
    "\n",
    "lst_crispr_info = lst\n",
    "for (idx in names(lst)){\n",
    "    dat = lst[[idx]]\n",
    "    txt = format(idx, width = 7, justify = \"left\")\n",
    "    cat(txt, dim(dat), \"\\n\")\n",
    "}"
   ]
  }
 ],
 "metadata": {
  "kernelspec": {
   "display_name": "R",
   "language": "R",
   "name": "ir"
  },
  "language_info": {
   "codemirror_mode": "r",
   "file_extension": ".r",
   "mimetype": "text/x-r-source",
   "name": "R",
   "pygments_lexer": "r",
   "version": "4.3.3"
  }
 },
 "nbformat": 4,
 "nbformat_minor": 5
}
