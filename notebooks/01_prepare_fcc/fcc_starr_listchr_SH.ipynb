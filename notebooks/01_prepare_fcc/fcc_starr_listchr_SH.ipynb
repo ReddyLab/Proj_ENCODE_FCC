{
 "cells": [
  {
   "cell_type": "raw",
   "id": "cce98165-8dce-4380-8a8a-655604abc854",
   "metadata": {},
   "source": [
    "---\n",
    "title: FCC summary\n",
    "subtitle: Summarize annotations (Main)\n",
    "format:\n",
    "    html:\n",
    "        code-fold:  true\n",
    "        code-tools: true\n",
    "---"
   ]
  },
  {
   "cell_type": "markdown",
   "id": "44a1175f-6075-4ad9-b0fd-b5ad9b00cada",
   "metadata": {},
   "source": [
    "**Set environment**"
   ]
  },
  {
   "cell_type": "code",
   "execution_count": 1,
   "id": "5270be51-8910-4d1a-9618-c5c91673a8a9",
   "metadata": {},
   "outputs": [
    {
     "name": "stdout",
     "output_type": "stream",
     "text": [
      "\u001b[0m\u001b[38;5;27m01_setup\u001b[0m               \u001b[38;5;27m33_region_annotation\u001b[0m  Readme.md\n",
      "\u001b[38;5;27m02_prepare\u001b[0m             \u001b[38;5;27m41_hic_nuc\u001b[0m            run_config_project.sh\n",
      "\u001b[38;5;27m11_fcc_process\u001b[0m         \u001b[38;5;27m42_hic_coverage\u001b[0m       run_config_project_sing.py\n",
      "\u001b[38;5;27m12_starrmpra_coverage\u001b[0m  \u001b[38;5;27m43_hic_annotation\u001b[0m     run_config_project_sing.R\n",
      "\u001b[38;5;27m21_crispri_screen\u001b[0m      \u001b[38;5;27m44_hic_meta\u001b[0m           run_config_test.sh\n",
      "\u001b[38;5;27m22_crispri_e2g\u001b[0m         \u001b[38;5;27mbuild_site\u001b[0m            \u001b[38;5;27mshared\u001b[0m\n",
      "\u001b[38;5;27m31_region_nuc\u001b[0m          \u001b[38;5;27mbuild_tracks\u001b[0m\n",
      "\u001b[38;5;27m32_region_coverage\u001b[0m     \u001b[38;5;27mdiscussion\u001b[0m\n"
     ]
    }
   ],
   "source": [
    "ls ../"
   ]
  },
  {
   "cell_type": "code",
   "execution_count": 2,
   "id": "716cd9dc-646d-4a30-8281-1e321d9635ed",
   "metadata": {
    "tags": []
   },
   "outputs": [
    {
     "name": "stdout",
     "output_type": "stream",
     "text": [
      "You are working on             Duke Server: HARDAC\n",
      "BASE DIRECTORY (FD_BASE):      /data/reddylab/Kuei\n",
      "REPO DIRECTORY (FD_REPO):      /data/reddylab/Kuei/repo\n",
      "WORK DIRECTORY (FD_WORK):      /data/reddylab/Kuei/work\n",
      "DATA DIRECTORY (FD_DATA):      /data/reddylab/Kuei/data\n",
      "CONTAINER DIR. (FD_SING):      /data/reddylab/Kuei/container\n",
      "\n",
      "You are working with           ENCODE FCC\n",
      "PATH OF PROJECT (FD_PRJ):      /data/reddylab/Kuei/repo/Proj_ENCODE_FCC\n",
      "PROJECT RESULTS (FD_RES):      /data/reddylab/Kuei/repo/Proj_ENCODE_FCC/results\n",
      "PROJECT SCRIPTS (FD_EXE):      /data/reddylab/Kuei/repo/Proj_ENCODE_FCC/scripts\n",
      "PROJECT DATA    (FD_DAT):      /data/reddylab/Kuei/repo/Proj_ENCODE_FCC/data\n",
      "PROJECT NOTE    (FD_NBK):      /data/reddylab/Kuei/repo/Proj_ENCODE_FCC/notebooks\n",
      "PROJECT DOCS    (FD_DOC):      /data/reddylab/Kuei/repo/Proj_ENCODE_FCC/docs\n",
      "PROJECT LOG     (FD_LOG):      /data/reddylab/Kuei/repo/Proj_ENCODE_FCC/log\n",
      "PROJECT APP     (FD_APP):      \n",
      "PROJECT REF     (FD_REF):      /data/reddylab/Kuei/repo/Proj_ENCODE_FCC/references\n",
      "PROJECT IMAGE   (FP_PRJ_SIF):  /data/reddylab/Kuei/container/project/singularity_proj_encode_fcc.sif\n",
      "\n"
     ]
    }
   ],
   "source": [
    "source ../run_config_project.sh\n",
    "show_env"
   ]
  },
  {
   "cell_type": "code",
   "execution_count": 17,
   "id": "392e5df9-22c4-403c-9bb6-64214f819c94",
   "metadata": {},
   "outputs": [
    {
     "name": "stdout",
     "output_type": "stream",
     "text": [
      "by_chrom\n",
      "by_chrom_redo\n",
      "KS91_K562_hg38_ASTARRseq_Output_rep1.f3q10.fragments.bedpe\n",
      "KS91_K562_hg38_ASTARRseq_Output_rep1.f3q10.fragments.counts.txt.gz\n",
      "KS91_K562_hg38_ASTARRseq_Output_rep1.f3q10.sorted.with_umis.dedup.cpm.bw\n",
      "KS91_K562_hg38_ASTARRseq_Output_rep1.f3q10.sorted.with_umis.dups_included.cpm.bw\n",
      "KS91_K562_hg38_ASTARRseq_Output_rep1.f3q10.sorted.with_umis.dups_marked.bam\n",
      "KS91_K562_hg38_ASTARRseq_Output_rep1.f3q10.sorted.with_umis.dups_marked.bam.bai\n",
      "KS91_K562_hg38_ASTARRseq_Output_rep1.f3q10.sorted.with_umis.dups_marked.cpm.bw\n",
      "KS91_K562_hg38_ASTARRseq_Output_rep1.f3q10.sorted.with_umis.dups_marked_peaks.narrowPeak\n",
      "KS91_K562_hg38_ASTARRseq_Output_rep1.f3q10.sorted.with_umis.dups_marked_peaks.xls\n",
      "KS91_K562_hg38_ASTARRseq_Output_rep1.f3q10.sorted.with_umis.dups_marked_summits.bed\n",
      "KS91_K562_hg38_ASTARRseq_Output_rep1.input_subtracted.bw\n",
      "KS91_K562_hg38_ASTARRseq_Output_rep1.input_subtracted.pseudo_10.bw\n",
      "KS91_K562_hg38_ASTARRseq_Output_rep1_L001.f3q10.sorted.preseq_ccurve.txt.preseq_c_curve.txt\n",
      "KS91_K562_hg38_ASTARRseq_Output_rep1_L001.f3q10.sorted.with_umis.rpkm.bw\n",
      "KS91_K562_hg38_ASTARRseq_Output_rep1_L001.R1.custom_adapters.fasta\n",
      "KS91_K562_hg38_ASTARRseq_Output_rep1_L001.R1.fastqc_data.txt\n",
      "KS91_K562_hg38_ASTARRseq_Output_rep1_L001.R1_fastqc.zip\n",
      "KS91_K562_hg38_ASTARRseq_Output_rep1_L001.R1.read_count.txt\n"
     ]
    }
   ],
   "source": [
    "ls ${FD_WGS_ASTARR_KS91_OUT} | head -n 20"
   ]
  },
  {
   "cell_type": "code",
   "execution_count": 15,
   "id": "b0f712b9-43e7-47b3-87f9-2db9f37c6b4e",
   "metadata": {},
   "outputs": [
    {
     "name": "stdout",
     "output_type": "stream",
     "text": [
      "chr6\n",
      "chr7\n",
      "chr9\n"
     ]
    }
   ],
   "source": [
    "FD_INP=${FD_WGS_ASTARR_KS91_OUT}\n",
    "FN_INP=KS91_K562_hg38_ASTARRseq_Output_rep1.f3q10.fragments.bedpe\n",
    "FP_INP=${FD_INP}/${FN_INP}\n",
    "bedextract --list-chr ${FP_INP}"
   ]
  },
  {
   "cell_type": "code",
   "execution_count": 16,
   "id": "e001b56f-e465-4274-8d2e-921e70790902",
   "metadata": {},
   "outputs": [
    {
     "name": "stdout",
     "output_type": "stream",
     "text": [
      "chr6\t81014654\t81014754\tchr6\t81014783\t81014884\tA00257:568:HWTKHDSXY:1:1101:1000:17816\t34\t+\t-\n",
      "chr4\t9108871\t9108972\tchr4\t9109028\t9109128\tA00257:568:HWTKHDSXY:1:1101:1000:20697\t31\t+\t-\n",
      "chr17\t45783215\t45783316\tchr17\t45783321\t45783421\tA00257:568:HWTKHDSXY:1:1101:1000:22608\t42\t+\t-\n",
      "chr1\t155135824\t155135924\tchr1\t155136074\t155136175\tA00257:568:HWTKHDSXY:1:1101:1000:23171\t42\t+\t-\n",
      "chr5\t171197300\t171197400\tchr5\t171197399\t171197500\tA00257:568:HWTKHDSXY:1:1101:1000:25144\t42\t+\t-\n",
      "chr12\t121861960\t121862029\tchr12\t121862007\t121862046\tA00257:568:HWTKHDSXY:1:1101:1009:7686\t42\t+\t-\n",
      "chr21\t28609526\t28609595\tchr21\t28609555\t28609643\tA00257:568:HWTKHDSXY:1:1101:1009:8406\t23\t+\t-\n",
      "chr6\t164639510\t164639610\tchr6\t164639625\t164639726\tA00257:568:HWTKHDSXY:1:1101:1009:13542\t42\t+\t-\n",
      "chr1\t32179743\t32179843\tchr1\t32179880\t32179979\tA00257:568:HWTKHDSXY:1:1101:1009:26788\t42\t+\t-\n",
      "chr6\t71823500\t71823601\tchr6\t71823618\t71823718\tA00257:568:HWTKHDSXY:1:1101:1009:28166\t42\t+\t-\n"
     ]
    }
   ],
   "source": [
    "head ${FP_INP}"
   ]
  },
  {
   "cell_type": "code",
   "execution_count": 3,
   "id": "ab63f3e7-eb25-4716-a7f3-210bce98e0a2",
   "metadata": {},
   "outputs": [
    {
     "name": "stdout",
     "output_type": "stream",
     "text": [
      "\u001b[0m\u001b[38;5;9mKS91_K562_hg38_ASTARRseq_Input_rep1.masked.dedup.fragments.counts.txt.gz\u001b[0m\n",
      "KS91_K562_hg38_ASTARRseq_Input_rep1.masked.exclude_dups.cpm.bw\n",
      "\u001b[38;5;9mKS91_K562_hg38_ASTARRseq_Input_rep2.masked.dedup.fragments.counts.txt.gz\u001b[0m\n",
      "KS91_K562_hg38_ASTARRseq_Input_rep2.masked.exclude_dups.cpm.bw\n",
      "\u001b[38;5;9mKS91_K562_hg38_ASTARRseq_Input_rep3.masked.dedup.fragments.counts.txt.gz\u001b[0m\n",
      "KS91_K562_hg38_ASTARRseq_Input_rep3.masked.exclude_dups.cpm.bw\n",
      "\u001b[38;5;9mKS91_K562_hg38_ASTARRseq_Input_rep4.masked.dedup.fragments.counts.txt.gz\u001b[0m\n",
      "KS91_K562_hg38_ASTARRseq_Input_rep4.masked.exclude_dups.cpm.bw\n",
      "\u001b[38;5;9mKS91_K562_hg38_ASTARRseq_Input_rep5.masked.dedup.fragments.counts.txt.gz\u001b[0m\n",
      "KS91_K562_hg38_ASTARRseq_Input_rep5.masked.exclude_dups.cpm.bw\n",
      "\u001b[38;5;9mKS91_K562_hg38_ASTARRseq_Input_rep6.masked.dedup.fragments.counts.txt.gz\u001b[0m\n",
      "KS91_K562_hg38_ASTARRseq_Input_rep6.masked.exclude_dups.cpm.bw\n",
      "\u001b[38;5;9mKS91_K562_hg38_ASTARRseq_Output_rep1.f3q10.fragments.counts.txt.gz\u001b[0m\n",
      "KS91_K562_hg38_ASTARRseq_Output_rep1.f3q10.sorted.with_umis.dedup.cpm.bw\n",
      "\u001b[38;5;9mKS91_K562_hg38_ASTARRseq_Output_rep2.f3q10.fragments.counts.corrected.txt.gz\u001b[0m\n",
      "\u001b[38;5;9mKS91_K562_hg38_ASTARRseq_Output_rep2.f3q10.fragments.counts.txt.gz\u001b[0m\n",
      "KS91_K562_hg38_ASTARRseq_Output_rep2.f3q10.sorted.with_umis.dedup.corrected.cpm.bw\n",
      "KS91_K562_hg38_ASTARRseq_Output_rep2.f3q10.sorted.with_umis.dedup.cpm.bw\n",
      "\u001b[38;5;9mKS91_K562_hg38_ASTARRseq_Output_rep3.f3q10.fragments.counts.corrected.txt.gz\u001b[0m\n",
      "\u001b[38;5;9mKS91_K562_hg38_ASTARRseq_Output_rep3.f3q10.fragments.counts.txt.gz\u001b[0m\n",
      "KS91_K562_hg38_ASTARRseq_Output_rep3.f3q10.sorted.with_umis.dedup.cpm.bw\n",
      "\u001b[38;5;9mKS91_K562_hg38_ASTARRseq_Output_rep4.f3q10.fragments.counts.corrected.txt.gz\u001b[0m\n",
      "\u001b[38;5;9mKS91_K562_hg38_ASTARRseq_Output_rep4.f3q10.fragments.counts.txt.gz\u001b[0m\n",
      "KS91_K562_hg38_ASTARRseq_Output_rep4.f3q10.sorted.with_umis.dedup.corrected.cpm.bw\n",
      "KS91_K562_hg38_ASTARRseq_Output_rep4.f3q10.sorted.with_umis.dedup.cpm.bw\n",
      "KS91_K562_hg38_ASTARRseq_Output_rep5.f3q10.sorted.with_umis.dedup.cpm.bw\n",
      "KS91_K562_hg38_ASTARRseq_Output_rep6.f3q10.sorted.with_umis.dedup.cpm.bw\n"
     ]
    }
   ],
   "source": [
    "ls -1 ${FD_DAT}/processed/STARR_ATAC_K562_Reddy_KS91_210401/fragments"
   ]
  },
  {
   "cell_type": "code",
   "execution_count": 6,
   "id": "21a490c6-831a-43dc-b59c-c7d242b04bcb",
   "metadata": {},
   "outputs": [
    {
     "name": "stdout",
     "output_type": "stream",
     "text": [
      "chr1\t10057\t10233\tchr1_10057_10233\t2\t.\n",
      "chr1\t10188\t10442\tchr1_10188_10442\t1\t.\n",
      "chr1\t10285\t10349\tchr1_10285_10349\t1\t.\n",
      "chr1\t10287\t10332\tchr1_10287_10332\t1\t.\n",
      "chr1\t10365\t10449\tchr1_10365_10449\t1\t.\n",
      "chr1\t10389\t10442\tchr1_10389_10442\t1\t.\n",
      "chr1\t13471\t13708\tchr1_13471_13708\t1\t.\n",
      "chr1\t14098\t14507\tchr1_14098_14507\t1\t.\n",
      "chr1\t14132\t14498\tchr1_14132_14498\t1\t.\n",
      "chr1\t14134\t14498\tchr1_14134_14498\t1\t.\n"
     ]
    }
   ],
   "source": [
    "FD_INP=${FD_DAT}/processed/STARR_ATAC_K562_Reddy_KS91_210401/fragments\n",
    "FN_INP=\"KS91_K562_hg38_ASTARRseq_Output_rep1.f3q10.fragments.counts.txt.gz\"\n",
    "FP_INP=${FD_INP}/${FN_INP}\n",
    "zcat ${FP_INP} | head"
   ]
  },
  {
   "cell_type": "code",
   "execution_count": 7,
   "id": "ba944a2e-beb9-482d-9994-c1b5818cf5e4",
   "metadata": {},
   "outputs": [],
   "source": [
    "bedextract --list-chr ${FP_INP}"
   ]
  },
  {
   "cell_type": "code",
   "execution_count": 9,
   "id": "cbfd46d6-18f7-42d6-9f79-4dab221268cf",
   "metadata": {},
   "outputs": [
    {
     "name": "stdout",
     "output_type": "stream",
     "text": [
      "K562_ASTARR_repeat_rep1.f3q10.fragments.bedpe\n",
      "K562_ASTARR_repeat_rep1.f3q10.sorted.with_umis.dedup.rpkm.bw\n",
      "K562_ASTARR_repeat_rep2.f3q10.fragments.bedpe\n",
      "K562_ASTARR_repeat_rep2.f3q10.sorted.with_umis.dedup.rpkm.bw\n",
      "K562_ASTARR_repeat_rep3.f3q10.fragments.bedpe\n",
      "K562_ASTARR_repeat_rep3.f3q10.sorted.with_umis.dedup.rpkm.bw\n"
     ]
    }
   ],
   "source": [
    "ls -1 ${FD_DAT}/processed/STARR_ATAC_K562_Reddy_KS274_240311/fragments"
   ]
  },
  {
   "cell_type": "code",
   "execution_count": 10,
   "id": "1eebb4f2-066e-459e-8412-5d58fbe3ef91",
   "metadata": {},
   "outputs": [
    {
     "name": "stdout",
     "output_type": "stream",
     "text": [
      "chr1\t14145\t14485\n",
      "chr1\t14145\t14485\n",
      "chr1\t14243\t14498\n",
      "chr1\t14454\t14729\n",
      "chr1\t14522\t14725\n",
      "chr1\t14599\t14850\n",
      "chr1\t14659\t14864\n",
      "chr1\t14659\t14864\n",
      "chr1\t14781\t15268\n",
      "chr1\t15172\t15659\n"
     ]
    }
   ],
   "source": [
    "FD_INP=${FD_DAT}/processed/STARR_ATAC_K562_Reddy_KS274_240311/fragments\n",
    "FN_INP=\"K562_ASTARR_repeat_rep1.f3q10.fragments.bedpe\"\n",
    "FP_INP=${FD_INP}/${FN_INP}\n",
    "cat ${FP_INP} | head"
   ]
  },
  {
   "cell_type": "code",
   "execution_count": null,
   "id": "c4ef5312-5420-4ce1-9394-67d821b8de18",
   "metadata": {},
   "outputs": [],
   "source": []
  },
  {
   "cell_type": "code",
   "execution_count": 18,
   "id": "dfd8f3fa-d974-49c8-b75a-48cb175fbac3",
   "metadata": {},
   "outputs": [
    {
     "name": "stdout",
     "output_type": "stream",
     "text": [
      "May use bedops --help for more help.\n",
      "\n",
      "Error: in /data/reddylab/Alex/encode4_duke/processing/starr_seq/210401_KS91_K562ASTARR_NovaSeq.hg38-pe-umis/KS91_K562_hg38_ASTARRseq_Output_rep1.f3q10.fragments.bedpe\n",
      "Bed file not properly sorted by first column.\n",
      "See row: 2\n"
     ]
    },
    {
     "ename": "",
     "evalue": "1",
     "output_type": "error",
     "traceback": []
    }
   ],
   "source": [
    "bedops --ec --everything ${FP_INP}"
   ]
  },
  {
   "cell_type": "code",
   "execution_count": 11,
   "id": "9fe4d2f8-fc5c-4c0d-8da2-10a61eb592fa",
   "metadata": {},
   "outputs": [
    {
     "name": "stdout",
     "output_type": "stream",
     "text": [
      "chr1\n",
      "chr10\n",
      "chr11\n",
      "chr12\n",
      "chr13\n",
      "chr14\n",
      "chr15\n",
      "chr16\n",
      "chr17\n",
      "chr18\n",
      "chr19\n",
      "chr2\n",
      "chr20\n",
      "chr21\n",
      "chr22\n",
      "chr3\n",
      "chr4\n",
      "chr5\n",
      "chr6\n",
      "chr7\n",
      "chr8\n",
      "chr9\n",
      "chrM\n",
      "chrX\n",
      "chrY\n"
     ]
    }
   ],
   "source": [
    "bedextract --list-chr ${FP_INP}"
   ]
  },
  {
   "cell_type": "code",
   "execution_count": null,
   "id": "84716557-5694-4e90-aa69-825b52392c8b",
   "metadata": {},
   "outputs": [],
   "source": []
  },
  {
   "cell_type": "code",
   "execution_count": null,
   "id": "063ee9f5-4363-4274-a4b6-aae71c19ebd0",
   "metadata": {},
   "outputs": [],
   "source": [
    "FP_GEN=${FD_DAT}/external/chrom.sizes.hg38"
   ]
  },
  {
   "cell_type": "code",
   "execution_count": 7,
   "id": "7e3a6b72-ec13-4527-9510-10af1325370f",
   "metadata": {},
   "outputs": [
    {
     "name": "stdout",
     "output_type": "stream",
     "text": [
      "\u001b[0m\u001b[38;5;27mCRISPRi_FlowFISH_K562_Riley_JinWoo\u001b[0m\n",
      "\u001b[38;5;27mCRISPRi_Growth_K562_Gersbach_Alex\u001b[0m\n",
      "\u001b[38;5;27mfcc_astarr_csaw\u001b[0m\n",
      "\u001b[38;5;27mfcc_enhancer_Junke_zscore\u001b[0m\n",
      "\u001b[38;5;27mfcc_trackhub_JinWoo\u001b[0m\n",
      "\u001b[38;5;27mMPRA_Lenti_K562_Nadav_Vikram_230621\u001b[0m\n",
      "\u001b[38;5;27mMPRA_Tiling_K562_Tewhey_Hannah\u001b[0m\n",
      "Readmd.md\n",
      "\u001b[38;5;27mSTARR_ATAC_K562_Reddy_KS274_240311\u001b[0m\n",
      "\u001b[38;5;27mSTARR_ATAC_K562_Reddy_KS91_210401\u001b[0m\n",
      "\u001b[38;5;27mSTARR_WHG_K562_Reddy_A001_Alex\u001b[0m\n",
      "\u001b[38;5;27mSTARR_WHG_K562_Reddy_A001_Kari\u001b[0m\n",
      "\u001b[38;5;27mTF_modules_Shannon\u001b[0m\n"
     ]
    }
   ],
   "source": [
    "ls -1 ${FD_DAT}/processed"
   ]
  },
  {
   "cell_type": "code",
   "execution_count": 11,
   "id": "c7188407-71a7-451b-8de7-c91902665b6e",
   "metadata": {},
   "outputs": [
    {
     "name": "stdout",
     "output_type": "stream",
     "text": [
      "KS91_K562_hg38_ASTARRseq_Input_rep1.masked.dedup.fragments.counts.txt.gz\n",
      "KS91_K562_hg38_ASTARRseq_Input_rep2.masked.dedup.fragments.counts.txt.gz\n",
      "KS91_K562_hg38_ASTARRseq_Input_rep3.masked.dedup.fragments.counts.txt.gz\n",
      "KS91_K562_hg38_ASTARRseq_Input_rep4.masked.dedup.fragments.counts.txt.gz\n",
      "KS91_K562_hg38_ASTARRseq_Input_rep5.masked.dedup.fragments.counts.txt.gz\n",
      "KS91_K562_hg38_ASTARRseq_Input_rep6.masked.dedup.fragments.counts.txt.gz\n",
      "KS91_K562_hg38_ASTARRseq_Output_rep1.f3q10.fragments.counts.txt.gz\n",
      "KS91_K562_hg38_ASTARRseq_Output_rep2.f3q10.fragments.counts.corrected.txt.gz\n",
      "KS91_K562_hg38_ASTARRseq_Output_rep2.f3q10.fragments.counts.txt.gz\n",
      "KS91_K562_hg38_ASTARRseq_Output_rep3.f3q10.fragments.counts.corrected.txt.gz\n",
      "KS91_K562_hg38_ASTARRseq_Output_rep3.f3q10.fragments.counts.txt.gz\n",
      "KS91_K562_hg38_ASTARRseq_Output_rep4.f3q10.fragments.counts.corrected.txt.gz\n",
      "KS91_K562_hg38_ASTARRseq_Output_rep4.f3q10.fragments.counts.txt.gz\n"
     ]
    }
   ],
   "source": [
    "FD_INP=${FD_DAT}/processed/STARR_ATAC_K562_Reddy_KS91_210401/fragments\n",
    "ls ${FD_INP}/*fragments.counts* | xargs -n 1 basename"
   ]
  },
  {
   "cell_type": "code",
   "execution_count": 16,
   "id": "79c4f4f5-8b38-4a9b-8872-7c03b3c1435d",
   "metadata": {},
   "outputs": [
    {
     "name": "stdout",
     "output_type": "stream",
     "text": [
      "KS91_K562_hg38_ASTARRseq_Input_rep1.masked.dedup.fragments.counts.txt.gz\n",
      "KS91_K562_hg38_ASTARRseq_Input_rep2.masked.dedup.fragments.counts.txt.gz\n",
      "KS91_K562_hg38_ASTARRseq_Input_rep3.masked.dedup.fragments.counts.txt.gz\n",
      "KS91_K562_hg38_ASTARRseq_Input_rep4.masked.dedup.fragments.counts.txt.gz\n",
      "KS91_K562_hg38_ASTARRseq_Input_rep5.masked.dedup.fragments.counts.txt.gz\n",
      "KS91_K562_hg38_ASTARRseq_Input_rep6.masked.dedup.fragments.counts.txt.gz\n",
      "KS91_K562_hg38_ASTARRseq_Output_rep1.f3q10.fragments.counts.txt.gz\n",
      "KS91_K562_hg38_ASTARRseq_Output_rep2.f3q10.fragments.counts.corrected.txt.gz\n",
      "KS91_K562_hg38_ASTARRseq_Output_rep2.f3q10.fragments.counts.txt.gz\n",
      "KS91_K562_hg38_ASTARRseq_Output_rep3.f3q10.fragments.counts.corrected.txt.gz\n",
      "KS91_K562_hg38_ASTARRseq_Output_rep3.f3q10.fragments.counts.txt.gz\n",
      "KS91_K562_hg38_ASTARRseq_Output_rep4.f3q10.fragments.counts.corrected.txt.gz\n",
      "KS91_K562_hg38_ASTARRseq_Output_rep4.f3q10.fragments.counts.txt.gz\n"
     ]
    }
   ],
   "source": [
    "FD_INP=${FD_DAT}/processed/STARR_ATAC_K562_Reddy_KS91_210401/fragments\n",
    "FP_INPS=(${FD_INP}/*fragments.counts*)\n",
    "\n",
    "for FP_INP in ${FP_INPS[@]}; do\n",
    "    FN_INP=$(basename ${FP_INP})\n",
    "    echo ${FN_INP}\n",
    "done"
   ]
  },
  {
   "cell_type": "code",
   "execution_count": 18,
   "id": "733fabbf-cdf7-4ebe-990a-11333f148ddf",
   "metadata": {},
   "outputs": [
    {
     "name": "stdout",
     "output_type": "stream",
     "text": [
      "KS91_K562_hg38_ASTARRseq_Input_rep1.masked.dedup.fragments.counts.txt.gz\n",
      "bedtools.summary.KS91_K562_hg38_ASTARRseq_Input_rep1.masked.dedup.fragments.counts.txt.gz.tsv\n",
      "KS91_K562_hg38_ASTARRseq_Input_rep2.masked.dedup.fragments.counts.txt.gz\n",
      "bedtools.summary.KS91_K562_hg38_ASTARRseq_Input_rep2.masked.dedup.fragments.counts.txt.gz.tsv\n",
      "KS91_K562_hg38_ASTARRseq_Input_rep3.masked.dedup.fragments.counts.txt.gz\n",
      "bedtools.summary.KS91_K562_hg38_ASTARRseq_Input_rep3.masked.dedup.fragments.counts.txt.gz.tsv\n",
      "KS91_K562_hg38_ASTARRseq_Input_rep4.masked.dedup.fragments.counts.txt.gz\n",
      "bedtools.summary.KS91_K562_hg38_ASTARRseq_Input_rep4.masked.dedup.fragments.counts.txt.gz.tsv\n",
      "KS91_K562_hg38_ASTARRseq_Input_rep5.masked.dedup.fragments.counts.txt.gz\n",
      "bedtools.summary.KS91_K562_hg38_ASTARRseq_Input_rep5.masked.dedup.fragments.counts.txt.gz.tsv\n",
      "KS91_K562_hg38_ASTARRseq_Input_rep6.masked.dedup.fragments.counts.txt.gz\n",
      "bedtools.summary.KS91_K562_hg38_ASTARRseq_Input_rep6.masked.dedup.fragments.counts.txt.gz.tsv\n",
      "KS91_K562_hg38_ASTARRseq_Output_rep1.f3q10.fragments.counts.txt.gz\n",
      "bedtools.summary.KS91_K562_hg38_ASTARRseq_Output_rep1.f3q10.fragments.counts.txt.gz.tsv\n",
      "KS91_K562_hg38_ASTARRseq_Output_rep2.f3q10.fragments.counts.corrected.txt.gz\n",
      "bedtools.summary.KS91_K562_hg38_ASTARRseq_Output_rep2.f3q10.fragments.counts.corrected.txt.gz.tsv\n",
      "KS91_K562_hg38_ASTARRseq_Output_rep2.f3q10.fragments.counts.txt.gz\n",
      "bedtools.summary.KS91_K562_hg38_ASTARRseq_Output_rep2.f3q10.fragments.counts.txt.gz.tsv\n",
      "KS91_K562_hg38_ASTARRseq_Output_rep3.f3q10.fragments.counts.corrected.txt.gz\n",
      "bedtools.summary.KS91_K562_hg38_ASTARRseq_Output_rep3.f3q10.fragments.counts.corrected.txt.gz.tsv\n",
      "KS91_K562_hg38_ASTARRseq_Output_rep3.f3q10.fragments.counts.txt.gz\n",
      "bedtools.summary.KS91_K562_hg38_ASTARRseq_Output_rep3.f3q10.fragments.counts.txt.gz.tsv\n",
      "KS91_K562_hg38_ASTARRseq_Output_rep4.f3q10.fragments.counts.corrected.txt.gz\n",
      "bedtools.summary.KS91_K562_hg38_ASTARRseq_Output_rep4.f3q10.fragments.counts.corrected.txt.gz.tsv\n",
      "KS91_K562_hg38_ASTARRseq_Output_rep4.f3q10.fragments.counts.txt.gz\n",
      "bedtools.summary.KS91_K562_hg38_ASTARRseq_Output_rep4.f3q10.fragments.counts.txt.gz.tsv\n"
     ]
    }
   ],
   "source": [
    "FD_INP=${FD_DAT}/processed/STARR_ATAC_K562_Reddy_KS91_210401/fragments\n",
    "FP_INPS=(${FD_INP}/*fragments.counts*)\n",
    "\n",
    "for FP_INP in ${FP_INPS[@]}; do\n",
    "    FN_INP=$(basename ${FP_INP})\n",
    "    FN_OUT=bedtools.summary.${FN_INP}.tsv\n",
    "    echo ${FN_INP}\n",
    "    echo ${FN_OUT}\n",
    "done"
   ]
  },
  {
   "cell_type": "code",
   "execution_count": 19,
   "id": "8ccc7070-420b-4a98-9c36-abc3ba735d67",
   "metadata": {},
   "outputs": [
    {
     "name": "stdout",
     "output_type": "stream",
     "text": [
      "\u001b[0m\u001b[38;5;34m/data/reddylab/Kuei/repo/Proj_ENCODE_FCC/scripts/run_bedtools_coverage.sh\u001b[0m\n",
      "\u001b[38;5;34m/data/reddylab/Kuei/repo/Proj_ENCODE_FCC/scripts/run_bedtools_intersect.sh\u001b[0m\n",
      "\u001b[38;5;34m/data/reddylab/Kuei/repo/Proj_ENCODE_FCC/scripts/run_bedtools_intersect_unique.sh\u001b[0m\u001b[K\n",
      "\u001b[38;5;34m/data/reddylab/Kuei/repo/Proj_ENCODE_FCC/scripts/run_bedtools_summary.sh\u001b[0m\n",
      "\u001b[38;5;34m/data/reddylab/Kuei/repo/Proj_ENCODE_FCC/scripts/run_bedtools_test.sh\u001b[0m\n"
     ]
    }
   ],
   "source": [
    "ls ${FD_EXE}/run_bedtools*"
   ]
  },
  {
   "cell_type": "code",
   "execution_count": null,
   "id": "2b605e76-d553-4db1-8696-1741e6b02255",
   "metadata": {},
   "outputs": [],
   "source": []
  },
  {
   "cell_type": "code",
   "execution_count": 25,
   "id": "4dc9f8b3-4d37-42a3-ad12-e9cfd3c7f619",
   "metadata": {},
   "outputs": [
    {
     "name": "stdout",
     "output_type": "stream",
     "text": [
      "File Input:  KS91_K562_hg38_ASTARRseq_Input_rep1.masked.dedup.fragments.counts.txt.gz\n",
      "File Output: bedtools.summary.KS91_K562_hg38_ASTARRseq_Input_rep1.masked.dedup.fragments.counts.txt.gz.tsv\n",
      "File Log:    ${FD_LOG}/bedtools.summary.KS91_K562_hg38_ASTARRseq_Input_rep1.masked.dedup.fragments.counts.txt.gz\n",
      "\n",
      "Submitted batch job 30797149\n",
      "\n",
      "File Input:  KS91_K562_hg38_ASTARRseq_Input_rep2.masked.dedup.fragments.counts.txt.gz\n",
      "File Output: bedtools.summary.KS91_K562_hg38_ASTARRseq_Input_rep2.masked.dedup.fragments.counts.txt.gz.tsv\n",
      "File Log:    ${FD_LOG}/bedtools.summary.KS91_K562_hg38_ASTARRseq_Input_rep2.masked.dedup.fragments.counts.txt.gz\n",
      "\n",
      "Submitted batch job 30797150\n",
      "\n",
      "File Input:  KS91_K562_hg38_ASTARRseq_Input_rep3.masked.dedup.fragments.counts.txt.gz\n",
      "File Output: bedtools.summary.KS91_K562_hg38_ASTARRseq_Input_rep3.masked.dedup.fragments.counts.txt.gz.tsv\n",
      "File Log:    ${FD_LOG}/bedtools.summary.KS91_K562_hg38_ASTARRseq_Input_rep3.masked.dedup.fragments.counts.txt.gz\n",
      "\n",
      "Submitted batch job 30797151\n",
      "\n",
      "File Input:  KS91_K562_hg38_ASTARRseq_Input_rep4.masked.dedup.fragments.counts.txt.gz\n",
      "File Output: bedtools.summary.KS91_K562_hg38_ASTARRseq_Input_rep4.masked.dedup.fragments.counts.txt.gz.tsv\n",
      "File Log:    ${FD_LOG}/bedtools.summary.KS91_K562_hg38_ASTARRseq_Input_rep4.masked.dedup.fragments.counts.txt.gz\n",
      "\n",
      "Submitted batch job 30797152\n",
      "\n",
      "File Input:  KS91_K562_hg38_ASTARRseq_Input_rep5.masked.dedup.fragments.counts.txt.gz\n",
      "File Output: bedtools.summary.KS91_K562_hg38_ASTARRseq_Input_rep5.masked.dedup.fragments.counts.txt.gz.tsv\n",
      "File Log:    ${FD_LOG}/bedtools.summary.KS91_K562_hg38_ASTARRseq_Input_rep5.masked.dedup.fragments.counts.txt.gz\n",
      "\n",
      "Submitted batch job 30797153\n",
      "\n",
      "File Input:  KS91_K562_hg38_ASTARRseq_Input_rep6.masked.dedup.fragments.counts.txt.gz\n",
      "File Output: bedtools.summary.KS91_K562_hg38_ASTARRseq_Input_rep6.masked.dedup.fragments.counts.txt.gz.tsv\n",
      "File Log:    ${FD_LOG}/bedtools.summary.KS91_K562_hg38_ASTARRseq_Input_rep6.masked.dedup.fragments.counts.txt.gz\n",
      "\n",
      "Submitted batch job 30797154\n",
      "\n",
      "File Input:  KS91_K562_hg38_ASTARRseq_Output_rep1.f3q10.fragments.counts.txt.gz\n",
      "File Output: bedtools.summary.KS91_K562_hg38_ASTARRseq_Output_rep1.f3q10.fragments.counts.txt.gz.tsv\n",
      "File Log:    ${FD_LOG}/bedtools.summary.KS91_K562_hg38_ASTARRseq_Output_rep1.f3q10.fragments.counts.txt.gz\n",
      "\n",
      "Submitted batch job 30797155\n",
      "\n",
      "File Input:  KS91_K562_hg38_ASTARRseq_Output_rep2.f3q10.fragments.counts.corrected.txt.gz\n",
      "File Output: bedtools.summary.KS91_K562_hg38_ASTARRseq_Output_rep2.f3q10.fragments.counts.corrected.txt.gz.tsv\n",
      "File Log:    ${FD_LOG}/bedtools.summary.KS91_K562_hg38_ASTARRseq_Output_rep2.f3q10.fragments.counts.corrected.txt.gz\n",
      "\n",
      "Submitted batch job 30797156\n",
      "\n",
      "File Input:  KS91_K562_hg38_ASTARRseq_Output_rep2.f3q10.fragments.counts.txt.gz\n",
      "File Output: bedtools.summary.KS91_K562_hg38_ASTARRseq_Output_rep2.f3q10.fragments.counts.txt.gz.tsv\n",
      "File Log:    ${FD_LOG}/bedtools.summary.KS91_K562_hg38_ASTARRseq_Output_rep2.f3q10.fragments.counts.txt.gz\n",
      "\n",
      "Submitted batch job 30797157\n",
      "\n",
      "File Input:  KS91_K562_hg38_ASTARRseq_Output_rep3.f3q10.fragments.counts.corrected.txt.gz\n",
      "File Output: bedtools.summary.KS91_K562_hg38_ASTARRseq_Output_rep3.f3q10.fragments.counts.corrected.txt.gz.tsv\n",
      "File Log:    ${FD_LOG}/bedtools.summary.KS91_K562_hg38_ASTARRseq_Output_rep3.f3q10.fragments.counts.corrected.txt.gz\n",
      "\n",
      "Submitted batch job 30797158\n",
      "\n",
      "File Input:  KS91_K562_hg38_ASTARRseq_Output_rep3.f3q10.fragments.counts.txt.gz\n",
      "File Output: bedtools.summary.KS91_K562_hg38_ASTARRseq_Output_rep3.f3q10.fragments.counts.txt.gz.tsv\n",
      "File Log:    ${FD_LOG}/bedtools.summary.KS91_K562_hg38_ASTARRseq_Output_rep3.f3q10.fragments.counts.txt.gz\n",
      "\n",
      "Submitted batch job 30797159\n",
      "\n",
      "File Input:  KS91_K562_hg38_ASTARRseq_Output_rep4.f3q10.fragments.counts.corrected.txt.gz\n",
      "File Output: bedtools.summary.KS91_K562_hg38_ASTARRseq_Output_rep4.f3q10.fragments.counts.corrected.txt.gz.tsv\n",
      "File Log:    ${FD_LOG}/bedtools.summary.KS91_K562_hg38_ASTARRseq_Output_rep4.f3q10.fragments.counts.corrected.txt.gz\n",
      "\n",
      "Submitted batch job 30797160\n",
      "\n",
      "File Input:  KS91_K562_hg38_ASTARRseq_Output_rep4.f3q10.fragments.counts.txt.gz\n",
      "File Output: bedtools.summary.KS91_K562_hg38_ASTARRseq_Output_rep4.f3q10.fragments.counts.txt.gz.tsv\n",
      "File Log:    ${FD_LOG}/bedtools.summary.KS91_K562_hg38_ASTARRseq_Output_rep4.f3q10.fragments.counts.txt.gz\n",
      "\n",
      "Submitted batch job 30797161\n",
      "\n"
     ]
    }
   ],
   "source": [
    "### init\n",
    "FP_EXE=${FD_EXE}/run_bedtools_summary.sh\n",
    "FD_INP=${FD_DAT}/processed/STARR_ATAC_K562_Reddy_KS91_210401/fragments\n",
    "FD_OUT=${FD_DAT}/processed/STARR_ATAC_K562_Reddy_KS91_210401/summary\n",
    "\n",
    "FP_GEN=${FD_DAT}/external/chrom.sizes.hg38\n",
    "FP_INPS=(${FD_INP}/*fragments.counts*)\n",
    "\n",
    "for FP_INP in ${FP_INPS[@]}; do\n",
    "    ###\n",
    "    FN_INP=$(basename ${FP_INP})\n",
    "    \n",
    "    FN_OUT=bedtools.summary.${FN_INP}.tsv\n",
    "    FP_OUT=${FD_OUT}/${FN_OUT}\n",
    "    \n",
    "    FN_LOG=bedtools.summary.${FN_INP}\n",
    "    FP_LOG=${FD_LOG}/${FN_LOG}\n",
    "    \n",
    "    ### show progress\n",
    "    echo \"File Input: \" ${FN_INP}\n",
    "    echo \"File Output:\" ${FN_OUT}\n",
    "    echo \"File Log:   \" '${FD_LOG}/'${FN_LOG}\n",
    "    echo\n",
    "    \n",
    "    ###\n",
    "    mkdir -p ${FD_OUT}\n",
    "    sbatch -p ${NODE} \\\n",
    "        --exclude=dl-01 \\\n",
    "        --cpus-per-task 2 \\\n",
    "        --mem 4G \\\n",
    "        --output ${FP_LOG} \\\n",
    "        ${FP_EXE} ${FD_PRJ} ${FP_INP} ${FP_GEN} ${FP_OUT}\n",
    "    echo\n",
    "done"
   ]
  },
  {
   "cell_type": "code",
   "execution_count": 26,
   "id": "5a7e8ee1-8135-49db-9500-034716e76663",
   "metadata": {},
   "outputs": [
    {
     "name": "stdout",
     "output_type": "stream",
     "text": [
      "Hostname:           x1-03-1.genome.duke.edu\n",
      "Slurm Array Index: \n",
      "Time Stamp:         05-23-24+11:26:18\n",
      "\n",
      "Input (FP_INP):\n",
      "/data/reddylab/Kuei/repo/Proj_ENCODE_FCC/data/processed/STARR_ATAC_K562_Reddy_KS91_210401/fragments/KS91_K562_hg38_ASTARRseq_Output_rep1.f3q10.fragments.counts.txt.gz\n",
      "\n",
      "show first few lines of input\n",
      "chr1\t10057\t10233\tchr1_10057_10233\t2\t.\n",
      "chr1\t10188\t10442\tchr1_10188_10442\t1\t.\n",
      "chr1\t10285\t10349\tchr1_10285_10349\t1\t.\n",
      "chr1\t10287\t10332\tchr1_10287_10332\t1\t.\n",
      "chr1\t10365\t10449\tchr1_10365_10449\t1\t.\n",
      "chr1\t10389\t10442\tchr1_10389_10442\t1\t.\n",
      "chr1\t13471\t13708\tchr1_13471_13708\t1\t.\n",
      "chr1\t14098\t14507\tchr1_14098_14507\t1\t.\n",
      "chr1\t14132\t14498\tchr1_14132_14498\t1\t.\n",
      "chr1\t14134\t14498\tchr1_14134_14498\t1\t.\n",
      "\n",
      "Input: (FP_GEN):\n",
      "/data/reddylab/Kuei/repo/Proj_ENCODE_FCC/data/external/chrom.sizes.hg38\n",
      "\n",
      "show first few lines of input\n",
      "chr1\t248956422\n",
      "chr2\t242193529\n",
      "chr3\t198295559\n",
      "chr4\t190214555\n",
      "chr5\t181538259\n",
      "chr6\t170805979\n",
      "chr7\t159345973\n",
      "chrX\t156040895\n",
      "chr8\t145138636\n",
      "chr9\t138394717\n",
      "\n"
     ]
    }
   ],
   "source": [
    "cat ${FD_LOG}/bedtools.summary.KS91_K562_hg38_ASTARRseq_Output_rep1.f3q10.fragments.counts.txt.gz"
   ]
  },
  {
   "cell_type": "code",
   "execution_count": null,
   "id": "c3c0614e-a6dc-4eb1-83bc-7a064907afc3",
   "metadata": {},
   "outputs": [],
   "source": [
    "sbatch -p ${NODE} \\\n",
    "    --exclude=dl-01 \\\n",
    "    --cpus-per-task 2 \\\n",
    "    --mem 2G \\\n",
    "    --output ${FP_LOG} \\\n",
    "    ${FP_EXE} ${FD_PRJ} ${FP_INP} ${}"
   ]
  }
 ],
 "metadata": {
  "kernelspec": {
   "display_name": "Bash",
   "language": "bash",
   "name": "bash"
  },
  "language_info": {
   "codemirror_mode": "shell",
   "file_extension": ".sh",
   "mimetype": "text/x-sh",
   "name": "bash"
  }
 },
 "nbformat": 4,
 "nbformat_minor": 5
}
