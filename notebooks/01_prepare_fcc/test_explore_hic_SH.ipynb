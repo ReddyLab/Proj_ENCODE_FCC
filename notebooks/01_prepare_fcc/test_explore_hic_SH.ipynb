{
 "cells": [
  {
   "cell_type": "markdown",
   "id": "a39d888a-c410-486b-ae57-0356d9d02d31",
   "metadata": {},
   "source": [
    "**Set environment**"
   ]
  },
  {
   "cell_type": "code",
   "execution_count": 1,
   "id": "b36a8de4-2f90-42d1-b86d-3774d92e44d4",
   "metadata": {},
   "outputs": [
    {
     "name": "stdout",
     "output_type": "stream",
     "text": [
      "You are working on             Duke Server: HARDAC\n",
      "BASE DIRECTORY (FD_BASE):      /data/reddylab/Kuei\n",
      "REPO DIRECTORY (FD_REPO):      /data/reddylab/Kuei/repo\n",
      "WORK DIRECTORY (FD_WORK):      /data/reddylab/Kuei/work\n",
      "DATA DIRECTORY (FD_DATA):      /data/reddylab/Kuei/data\n",
      "CONTAINER DIR. (FD_SING):      /data/reddylab/Kuei/container\n",
      "\n",
      "You are working with           ENCODE FCC\n",
      "PATH OF PROJECT (FD_PRJ):      /data/reddylab/Kuei/repo/Proj_ENCODE_FCC\n",
      "PROJECT RESULTS (FD_RES):      /data/reddylab/Kuei/repo/Proj_ENCODE_FCC/results\n",
      "PROJECT SCRIPTS (FD_EXE):      /data/reddylab/Kuei/repo/Proj_ENCODE_FCC/scripts\n",
      "PROJECT DATA    (FD_DAT):      /data/reddylab/Kuei/repo/Proj_ENCODE_FCC/data\n",
      "PROJECT NOTE    (FD_NBK):      /data/reddylab/Kuei/repo/Proj_ENCODE_FCC/notebooks\n",
      "PROJECT DOCS    (FD_DOC):      /data/reddylab/Kuei/repo/Proj_ENCODE_FCC/docs\n",
      "PROJECT LOG     (FD_LOG):      /data/reddylab/Kuei/repo/Proj_ENCODE_FCC/log\n",
      "PROJECT APP     (FD_APP):      /data/reddylab/Kuei/repo/Proj_ENCODE_FCC/app\n",
      "PROJECT REF     (FD_REF):      /data/reddylab/Kuei/repo/Proj_ENCODE_FCC/references\n",
      "PROJECT IMAGE   (FP_PRJ_SIF):  /data/reddylab/Kuei/repo/Proj_ENCODE_FCC/app/singularity_proj_encode_fcc.sif\n",
      "\n"
     ]
    }
   ],
   "source": [
    "source ../run_config_project.sh\n",
    "show_env"
   ]
  },
  {
   "cell_type": "markdown",
   "id": "1b483a1e-13a5-4833-9164-56e725febb0f",
   "metadata": {},
   "source": [
    "**Set old directories**"
   ]
  },
  {
   "cell_type": "code",
   "execution_count": 2,
   "id": "265d8902-2772-4767-85a5-2761b844dc22",
   "metadata": {},
   "outputs": [
    {
     "name": "stdout",
     "output_type": "stream",
     "text": [
      "/data/reddylab/Kuei/work\n",
      "\n",
      "\u001b[0m\u001b[38;5;27mproj_combeffect\u001b[0m\n",
      "\u001b[38;5;27mproj_encode_fcc\u001b[0m\n",
      "\u001b[38;5;27mscratch\u001b[0m\n",
      "\u001b[38;5;27mtrackhub\u001b[0m\n",
      "\n",
      "\u001b[0m\u001b[38;5;27mdata\u001b[0m\n",
      "\u001b[38;5;27mlog\u001b[0m\n",
      "Readme.md\n",
      "\u001b[38;5;27mresults\u001b[0m\n",
      "\u001b[38;5;9mresults_v1.tar.gz\u001b[0m\n",
      "\u001b[38;5;9mresults_v2.tar.gz\u001b[0m\n",
      "\u001b[38;5;9mresults_v3.tar.gz\u001b[0m\n",
      "\u001b[38;5;27mresults_v4\u001b[0m\n",
      "\u001b[38;5;27msource\u001b[0m\n"
     ]
    }
   ],
   "source": [
    "echo  ${FD_WORK}\n",
    "echo\n",
    "ls -1 ${FD_WORK}\n",
    "echo\n",
    "ls -1 ${FD_WORK}/proj_encode_fcc"
   ]
  },
  {
   "cell_type": "code",
   "execution_count": 3,
   "id": "3906407e-76ef-45ac-b1aa-47d3d60861e9",
   "metadata": {},
   "outputs": [],
   "source": [
    "FD_RES_OLD=${FD_WORK}/proj_encode_fcc/results_v4\n",
    "FD_DAT_OLD=${FD_WORK}/proj_encode_fcc/source"
   ]
  },
  {
   "cell_type": "code",
   "execution_count": 4,
   "id": "2d8e9c52-2957-4074-ad4c-db87bf5f0996",
   "metadata": {},
   "outputs": [
    {
     "name": "stdout",
     "output_type": "stream",
     "text": [
      "/data/reddylab/Kuei/work/proj_encode_fcc/source\n",
      "\n",
      "\u001b[0m\u001b[38;5;27mA001_K562_wstarrseq_fragments\u001b[0m\n",
      "\u001b[38;5;27mA001_K562_wstarrseq_fragments_wgs\u001b[0m\n",
      "\u001b[38;5;27mannotation_cCREs\u001b[0m\n",
      "\u001b[38;5;27mannotation_chipseq_histone\u001b[0m\n",
      "\u001b[38;5;27mannotation_chipseq_tf\u001b[0m\n",
      "\u001b[38;5;27mannotation_chromHMM\u001b[0m\n",
      "\u001b[38;5;27mannotation_enhancer_junke\u001b[0m\n",
      "\u001b[38;5;27mannotation_enhancer_junke_zscore\u001b[0m\n",
      "\u001b[38;5;27mannotation_enhancer_junke_zscore_prev\u001b[0m\n",
      "\u001b[38;5;27mannotation_gencode\u001b[0m\n",
      "\u001b[38;5;27mannotation_gene\u001b[0m\n",
      "\u001b[38;5;27mannotation_remap2022\u001b[0m\n",
      "\u001b[38;5;27mannotation_starrseq_negative_control_junke\u001b[0m\n",
      "chrom.sizes.hg19\n",
      "chrom.sizes.hg38\n",
      "\u001b[38;5;27mCRISPRi_FlowFISH\u001b[0m\n",
      "\u001b[38;5;27mCRISPRi_growth\u001b[0m\n",
      "\u001b[38;5;27mENCODE_E2G\u001b[0m\n",
      "\u001b[38;5;27mhic_insitu_GM12878\u001b[0m\n",
      "\u001b[38;5;27mKS91_K562_astarrseq_fragments_220510\u001b[0m\n",
      "\u001b[38;5;27mKS91_K562_astarrseq_fragments_wgs\u001b[0m\n",
      "\u001b[38;5;27mKS91_K562_astarrseq_peak_macs\u001b[0m\n",
      "\u001b[38;5;27mMPRA\u001b[0m\n",
      "Readme.md\n",
      "\u001b[38;5;27mRNAseq\u001b[0m\n",
      "\u001b[38;5;27mTF_modules\u001b[0m\n",
      "\u001b[38;5;27mtmp\u001b[0m\n"
     ]
    }
   ],
   "source": [
    "echo  ${FD_DAT_OLD}\n",
    "echo\n",
    "ls -1 ${FD_DAT_OLD}"
   ]
  },
  {
   "cell_type": "code",
   "execution_count": 5,
   "id": "e63e68fe-6df5-42e1-9d97-0d6d78d54de0",
   "metadata": {},
   "outputs": [
    {
     "name": "stdout",
     "output_type": "stream",
     "text": [
      "/data/reddylab/Kuei/work/proj_encode_fcc/results_v4\n",
      "\n",
      "\u001b[0m\u001b[38;5;27mA001_K562_WSTARRseq\u001b[0m\n",
      "\u001b[38;5;27mcomparison\u001b[0m\n",
      "\u001b[38;5;27mcomparison_archive231029\u001b[0m\n",
      "\u001b[38;5;27mCRISPRi_FlowFISH\u001b[0m\n",
      "\u001b[38;5;27mCRISPRi_Growth_K562_Gersbach\u001b[0m\n",
      "\u001b[38;5;27mhic_intact_K562_deep\u001b[0m\n",
      "\u001b[38;5;27mhic_intact_K562_ENCSR479XDG\u001b[0m\n",
      "\u001b[38;5;27mKS91_K562_ASTARRseq\u001b[0m\n",
      "\u001b[38;5;27mLentiMPRA_K562_Nadav\u001b[0m\n",
      "\u001b[38;5;27mregion\u001b[0m\n",
      "\u001b[38;5;27mTewhey_K562_TileMPRA\u001b[0m\n"
     ]
    }
   ],
   "source": [
    "echo  ${FD_RES_OLD}\n",
    "echo\n",
    "ls -1 ${FD_RES_OLD}"
   ]
  },
  {
   "cell_type": "markdown",
   "id": "b1a9bf82-2877-4a16-9792-5b87ce565e77",
   "metadata": {},
   "source": [
    "**Get current directory**"
   ]
  },
  {
   "cell_type": "code",
   "execution_count": 6,
   "id": "b12e5036-a739-45ba-a275-12ac44c5ff12",
   "metadata": {},
   "outputs": [
    {
     "name": "stdout",
     "output_type": "stream",
     "text": [
      "/data/reddylab/Kuei/repo/Proj_ENCODE_FCC/data\n",
      "\n",
      "\u001b[0m\u001b[38;5;27mexternal\u001b[0m\n",
      "\u001b[38;5;27mprocessed\u001b[0m\n"
     ]
    }
   ],
   "source": [
    "echo  ${FD_DAT}\n",
    "echo\n",
    "ls -1 ${FD_DAT}"
   ]
  },
  {
   "cell_type": "code",
   "execution_count": 7,
   "id": "5ece49ca-9847-43a4-950e-210330e2c911",
   "metadata": {},
   "outputs": [
    {
     "name": "stdout",
     "output_type": "stream",
     "text": [
      "/data/reddylab/Kuei/repo/Proj_ENCODE_FCC/results\n",
      "\n",
      "\u001b[0m\u001b[38;5;27massay_fcc\u001b[0m\n",
      "\u001b[38;5;27massay_hic\u001b[0m\n",
      "\u001b[38;5;27mregion\u001b[0m\n",
      "\u001b[38;5;27mregion_annotation\u001b[0m\n",
      "\u001b[38;5;27mregion_coverage\u001b[0m\n",
      "\u001b[38;5;51mresults\u001b[0m\n"
     ]
    }
   ],
   "source": [
    "echo   ${FD_RES}\n",
    "echo\n",
    "ls -1  ${FD_RES}"
   ]
  },
  {
   "cell_type": "code",
   "execution_count": 8,
   "id": "3f8b9061-d434-407c-8fd6-31b0b4754a70",
   "metadata": {},
   "outputs": [
    {
     "name": "stdout",
     "output_type": "stream",
     "text": [
      "/data/reddylab/Kuei/repo/Proj_ENCODE_FCC/references\n",
      "\u001b[0m\u001b[38;5;27mencode_chipseq_flagship\u001b[0m\n",
      "\u001b[38;5;27mencode_chipseq_histone\u001b[0m\n",
      "\u001b[38;5;27mencode_chipseq_subset\u001b[0m\n",
      "\u001b[38;5;27mencode_chromatin_states\u001b[0m\n",
      "\u001b[38;5;27mencode_crispri_hcrff\u001b[0m\n",
      "\u001b[38;5;27mencode_e2g_benchmark\u001b[0m\n",
      "\u001b[38;5;27mencode_e2g_prediction\u001b[0m\n",
      "\u001b[38;5;27mencode_hic\u001b[0m\n",
      "\u001b[38;5;27mencode_open_chromatin\u001b[0m\n",
      "\u001b[38;5;27mencode_rnaseq\u001b[0m\n",
      "\u001b[38;5;27mfcc_peak_call_atac\u001b[0m\n",
      "\u001b[38;5;27mfcc_peak_call_cres\u001b[0m\n",
      "\u001b[38;5;27mfcc_trackhub_JinWoo\u001b[0m\n",
      "\u001b[38;5;27mgenome_tss\u001b[0m\n",
      "\u001b[38;5;27mTF_modules_Shannon\u001b[0m\n"
     ]
    }
   ],
   "source": [
    "echo  ${FD_REF}\n",
    "ls -1 ${FD_REF}"
   ]
  },
  {
   "cell_type": "code",
   "execution_count": null,
   "id": "ebee03e5-ce96-476c-9bb3-97e4811cd843",
   "metadata": {},
   "outputs": [],
   "source": []
  },
  {
   "cell_type": "code",
   "execution_count": 30,
   "id": "bb485b34-09f3-4370-9fde-a7c69c47870b",
   "metadata": {},
   "outputs": [
    {
     "name": "stdout",
     "output_type": "stream",
     "text": [
      "total 32G\n",
      "-rw-rw-r-- 1 kk319 reddylab 219K Nov 13  2022 \u001b[0m\u001b[38;5;9mK562.hg38.ENCSR479XDG.ENCFF126GED.hic_intact.contact_domain.bedpe.gz\u001b[0m\u001b[K\n",
      "-rw-rw-r-- 1 kk319 reddylab 2.8M Nov 13  2022 \u001b[38;5;9mK562.hg38.ENCSR479XDG.ENCFF256ZMD.hic_intact.loops.bedpe.gz\u001b[0m\n",
      "-rw-rw-r-- 1 kk319 reddylab  32G Nov 10  2022 K562.hg38.ENCSR479XDG.ENCFF621AIY.hic_intact.matrix.hic\n",
      "-rw-rw-r-- 1 kk319 reddylab  51M May  2 17:45 run_download.log.txt\n",
      "-rwxrwxr-x 1 kk319 reddylab  603 May  2 17:27 \u001b[38;5;34mrun_download.sh\u001b[0m\n"
     ]
    }
   ],
   "source": [
    "ls -lh ${FD_DAT}/external/hic_intact_K562_ENCSR479XDG"
   ]
  },
  {
   "cell_type": "code",
   "execution_count": null,
   "id": "ea5f65fd-9f7e-45d2-be77-ddf179c982af",
   "metadata": {},
   "outputs": [],
   "source": []
  },
  {
   "cell_type": "code",
   "execution_count": null,
   "id": "5aebb874-45fb-440c-b08e-bea3aeaad13d",
   "metadata": {},
   "outputs": [],
   "source": []
  },
  {
   "cell_type": "code",
   "execution_count": null,
   "id": "0ff2a5c4-4b6d-4494-bb6d-42b21b727e4b",
   "metadata": {},
   "outputs": [],
   "source": []
  },
  {
   "cell_type": "code",
   "execution_count": null,
   "id": "98752097-fda1-4d1d-81ed-1b7118e5f244",
   "metadata": {},
   "outputs": [],
   "source": []
  },
  {
   "cell_type": "code",
   "execution_count": 26,
   "id": "d1ff1f1f-aa52-4b58-9db6-1437095ef4f1",
   "metadata": {},
   "outputs": [
    {
     "name": "stdout",
     "output_type": "stream",
     "text": [
      "\u001b[0m\u001b[38;5;27mA001_K562_wstarrseq_fragments\u001b[0m\n",
      "\u001b[38;5;27mA001_K562_wstarrseq_fragments_wgs\u001b[0m\n",
      "\u001b[38;5;27mannotation_cCREs\u001b[0m\n",
      "\u001b[38;5;27mannotation_chipseq_histone\u001b[0m\n",
      "\u001b[38;5;27mannotation_chipseq_tf\u001b[0m\n",
      "\u001b[38;5;27mannotation_chromHMM\u001b[0m\n",
      "\u001b[38;5;27mannotation_enhancer_junke\u001b[0m\n",
      "\u001b[38;5;27mannotation_enhancer_junke_zscore\u001b[0m\n",
      "\u001b[38;5;27mannotation_enhancer_junke_zscore_prev\u001b[0m\n",
      "\u001b[38;5;27mannotation_gencode\u001b[0m\n",
      "\u001b[38;5;27mannotation_gene\u001b[0m\n",
      "\u001b[38;5;27mannotation_remap2022\u001b[0m\n",
      "\u001b[38;5;27mannotation_starrseq_negative_control_junke\u001b[0m\n",
      "chrom.sizes.hg19\n",
      "chrom.sizes.hg38\n",
      "\u001b[38;5;27mCRISPRi_FlowFISH\u001b[0m\n",
      "\u001b[38;5;27mCRISPRi_growth\u001b[0m\n",
      "\u001b[38;5;27mENCODE_E2G\u001b[0m\n",
      "\u001b[38;5;27mhic_intact_K562_ENCSR479XDG\u001b[0m\n",
      "\u001b[38;5;27mKS91_K562_astarrseq_fragments_220510\u001b[0m\n",
      "\u001b[38;5;27mKS91_K562_astarrseq_fragments_wgs\u001b[0m\n",
      "\u001b[38;5;27mKS91_K562_astarrseq_peak_macs\u001b[0m\n",
      "\u001b[38;5;27mMPRA\u001b[0m\n",
      "Readme.md\n",
      "\u001b[38;5;27mRNAseq\u001b[0m\n",
      "\u001b[38;5;27mTF_modules\u001b[0m\n",
      "\u001b[38;5;27mtmp\u001b[0m\n"
     ]
    }
   ],
   "source": [
    "ls ${FD_DAT_OLD}"
   ]
  },
  {
   "cell_type": "code",
   "execution_count": 27,
   "id": "c8a46d79-d7e9-49bd-88a4-c9521a06b704",
   "metadata": {},
   "outputs": [
    {
     "name": "stdout",
     "output_type": "stream",
     "text": [
      "\u001b[0m\u001b[38;5;27m/data/reddylab/Kuei/work/proj_encode_fcc/source/hic_intact_K562_ENCSR479XDG\u001b[0m\n"
     ]
    }
   ],
   "source": [
    "ls -d ${FD_DAT_OLD}/hic*"
   ]
  },
  {
   "cell_type": "code",
   "execution_count": 29,
   "id": "e4ffdfdf-ccd3-483b-96f0-160728ad7287",
   "metadata": {},
   "outputs": [
    {
     "name": "stdout",
     "output_type": "stream",
     "text": [
      "ENCFF621AIY.hic\n",
      "\u001b[0m\u001b[38;5;9mK562.ENCSR479XDG.ENCFF126GED.contact_domains.bedpe.gz\u001b[0m\n",
      "\u001b[38;5;9mK562.ENCSR479XDG.ENCFF256ZMD.loops.bedpe.gz\u001b[0m\n",
      "run_download.sh\n"
     ]
    }
   ],
   "source": [
    "ls -1 ${FD_DAT_OLD}/hic_intact_K562_ENCSR479XDG"
   ]
  },
  {
   "cell_type": "code",
   "execution_count": 17,
   "id": "61d947b8-10bf-478b-953d-269adf45b8b8",
   "metadata": {},
   "outputs": [
    {
     "name": "stdout",
     "output_type": "stream",
     "text": [
      "\u001b[0m\u001b[38;5;27m/data/reddylab/Kuei/repo/Proj_ENCODE_FCC/data/external/hic_insitu_GM12878\u001b[0m\n",
      "\u001b[38;5;27m/data/reddylab/Kuei/repo/Proj_ENCODE_FCC/data/external/hic_intact_K562_deep\u001b[0m\n",
      "\u001b[38;5;27m/data/reddylab/Kuei/repo/Proj_ENCODE_FCC/data/external/hic_intact_K562_ENCSR479XDG\u001b[0m\u001b[K\n"
     ]
    }
   ],
   "source": [
    "ls -d ${FD_DAT}/external/hic*"
   ]
  },
  {
   "cell_type": "code",
   "execution_count": 28,
   "id": "f16a6f43-ca42-4e32-bbee-8313f312cd68",
   "metadata": {},
   "outputs": [
    {
     "name": "stdout",
     "output_type": "stream",
     "text": [
      "\u001b[0m\u001b[38;5;27m/data/reddylab/Kuei/repo/Proj_ENCODE_FCC/data/external/hic_intact_K562_deep\u001b[0m\n",
      "\u001b[38;5;27m/data/reddylab/Kuei/repo/Proj_ENCODE_FCC/data/external/hic_intact_K562_ENCSR479XDG\u001b[0m\u001b[K\n"
     ]
    }
   ],
   "source": [
    "ls -d ${FD_DAT}/external/hic*"
   ]
  },
  {
   "cell_type": "code",
   "execution_count": 21,
   "id": "f3239e37-3ee2-40b3-8f1c-baf692c40f07",
   "metadata": {},
   "outputs": [
    {
     "name": "stdout",
     "output_type": "stream",
     "text": [
      "inter.hic  localizedList_primary_10.bedpe\n"
     ]
    }
   ],
   "source": [
    "ls ${FD_DAT}/external/hic_intact_K562_deep"
   ]
  },
  {
   "cell_type": "code",
   "execution_count": null,
   "id": "62a4ee9d-affd-4cc7-8d71-28a093388ac9",
   "metadata": {},
   "outputs": [],
   "source": []
  },
  {
   "cell_type": "code",
   "execution_count": null,
   "id": "4210fc27-ae74-4cb2-82be-3ad85ed4d005",
   "metadata": {},
   "outputs": [],
   "source": []
  },
  {
   "cell_type": "code",
   "execution_count": null,
   "id": "5604cc4b-796f-4c4e-8e02-cf3a790797a1",
   "metadata": {},
   "outputs": [],
   "source": []
  },
  {
   "cell_type": "code",
   "execution_count": null,
   "id": "59ef5194-aa93-4b02-8951-3359a9675ff4",
   "metadata": {},
   "outputs": [],
   "source": []
  },
  {
   "cell_type": "code",
   "execution_count": 8,
   "id": "b4dfd539-7673-4b56-9eea-227ebb14ab92",
   "metadata": {},
   "outputs": [
    {
     "name": "stdout",
     "output_type": "stream",
     "text": [
      "\u001b[0m\u001b[38;5;27mA001_K562_wstarrseq_fragments\u001b[0m\n",
      "\u001b[38;5;27mA001_K562_wstarrseq_fragments_wgs\u001b[0m\n",
      "\u001b[38;5;27mannotation_cCREs\u001b[0m\n",
      "\u001b[38;5;27mannotation_chipseq_histone\u001b[0m\n",
      "\u001b[38;5;27mannotation_chipseq_tf\u001b[0m\n",
      "\u001b[38;5;27mannotation_chromHMM\u001b[0m\n",
      "\u001b[38;5;27mannotation_enhancer_junke\u001b[0m\n",
      "\u001b[38;5;27mannotation_enhancer_junke_zscore\u001b[0m\n",
      "\u001b[38;5;27mannotation_enhancer_junke_zscore_prev\u001b[0m\n",
      "\u001b[38;5;27mannotation_gencode\u001b[0m\n",
      "\u001b[38;5;27mannotation_gene\u001b[0m\n",
      "\u001b[38;5;27mannotation_remap2022\u001b[0m\n",
      "\u001b[38;5;27mannotation_starrseq_negative_control_junke\u001b[0m\n",
      "chrom.sizes.hg19\n",
      "chrom.sizes.hg38\n",
      "\u001b[38;5;27mCRISPRi_FlowFISH\u001b[0m\n",
      "\u001b[38;5;27mCRISPRi_growth\u001b[0m\n",
      "\u001b[38;5;27mENCODE_E2G\u001b[0m\n",
      "\u001b[38;5;27mhic_insitu_GM12878\u001b[0m\n",
      "\u001b[38;5;27mhic_intact_K562_deep\u001b[0m\n",
      "\u001b[38;5;27mhic_intact_K562_ENCSR479XDG\u001b[0m\n",
      "\u001b[38;5;27mKS91_K562_astarrseq_fragments_220510\u001b[0m\n",
      "\u001b[38;5;27mKS91_K562_astarrseq_fragments_wgs\u001b[0m\n",
      "\u001b[38;5;27mKS91_K562_astarrseq_peak_macs\u001b[0m\n",
      "\u001b[38;5;27mMPRA\u001b[0m\n",
      "Readme.md\n",
      "\u001b[38;5;27mRNAseq\u001b[0m\n",
      "\u001b[38;5;27mTF_modules\u001b[0m\n",
      "\u001b[38;5;27mtmp\u001b[0m\n"
     ]
    }
   ],
   "source": [
    "ls ${FD_WORK}/proj_combeffect_encode_fcc/source"
   ]
  },
  {
   "cell_type": "code",
   "execution_count": 9,
   "id": "80fc5b46-2701-4dd3-bdba-82639e1ead12",
   "metadata": {},
   "outputs": [
    {
     "name": "stdout",
     "output_type": "stream",
     "text": [
      "/data/reddylab/Kuei/work/proj_combeffect_encode_fcc/source/hic_insitu_GM12878:\n",
      "ENCFF718AWL.hic\n",
      "\n",
      "/data/reddylab/Kuei/work/proj_combeffect_encode_fcc/source/hic_intact_K562_deep:\n",
      "inter.hic  localizedList_primary_10.bedpe\n",
      "\n",
      "/data/reddylab/Kuei/work/proj_combeffect_encode_fcc/source/hic_intact_K562_ENCSR479XDG:\n",
      "ENCFF621AIY.hic\n",
      "\u001b[0m\u001b[38;5;9mK562.ENCSR479XDG.ENCFF126GED.contact_domains.bedpe.gz\u001b[0m\n",
      "\u001b[38;5;9mK562.ENCSR479XDG.ENCFF256ZMD.loops.bedpe.gz\u001b[0m\n"
     ]
    }
   ],
   "source": [
    "ls ${FD_WORK}/proj_combeffect_encode_fcc/source/hic*"
   ]
  },
  {
   "cell_type": "code",
   "execution_count": null,
   "id": "3d428c6f-1317-462b-b001-dc9ca62271f9",
   "metadata": {},
   "outputs": [],
   "source": []
  }
 ],
 "metadata": {
  "kernelspec": {
   "display_name": "Bash",
   "language": "bash",
   "name": "bash"
  },
  "language_info": {
   "codemirror_mode": "shell",
   "file_extension": ".sh",
   "mimetype": "text/x-sh",
   "name": "bash"
  }
 },
 "nbformat": 4,
 "nbformat_minor": 5
}
