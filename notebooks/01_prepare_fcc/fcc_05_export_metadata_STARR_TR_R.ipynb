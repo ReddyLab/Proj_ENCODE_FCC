{
 "cells": [
  {
   "cell_type": "raw",
   "id": "7643e561-0cd8-4fab-a54a-70e68355ac5b",
   "metadata": {},
   "source": [
    "---\n",
    "title: Prepare STARR-seq data 04\n",
    "subtitle: Create metadata for STARR-seq data files\n",
    "format:\n",
    "    html:\n",
    "        code-fold:  true\n",
    "        code-tools: true\n",
    "---"
   ]
  },
  {
   "cell_type": "markdown",
   "id": "c0b209c3-4587-461a-8d6a-359ff9b515f5",
   "metadata": {},
   "source": [
    "**Set environment**"
   ]
  },
  {
   "cell_type": "code",
   "execution_count": 1,
   "id": "9a035881-6ff4-4826-93f3-fdef4fb6118e",
   "metadata": {},
   "outputs": [
    {
     "name": "stdout",
     "output_type": "stream",
     "text": [
      "You are working on        Singularity \n",
      "BASE DIRECTORY (FD_BASE): /mount \n",
      "REPO DIRECTORY (FD_REPO): /mount/repo \n",
      "WORK DIRECTORY (FD_WORK): /mount/work \n",
      "DATA DIRECTORY (FD_DATA): /mount/data \n",
      "\n",
      "You are working with      ENCODE FCC \n",
      "PATH OF PROJECT (FD_PRJ): /mount/repo/Proj_ENCODE_FCC \n",
      "PROJECT RESULTS (FD_RES): /mount/repo/Proj_ENCODE_FCC/results \n",
      "PROJECT SCRIPTS (FD_EXE): /mount/repo/Proj_ENCODE_FCC/scripts \n",
      "PROJECT DATA    (FD_DAT): /mount/repo/Proj_ENCODE_FCC/data \n",
      "PROJECT NOTE    (FD_NBK): /mount/repo/Proj_ENCODE_FCC/notebooks \n",
      "PROJECT DOCS    (FD_DOC): /mount/repo/Proj_ENCODE_FCC/docs \n",
      "PROJECT LOG     (FD_LOG): /mount/repo/Proj_ENCODE_FCC/log \n",
      "PROJECT APP     (FD_APP): /mount/repo/Proj_ENCODE_FCC/app \n",
      "PROJECT REF     (FD_REF): /mount/repo/Proj_ENCODE_FCC/references \n",
      "\n"
     ]
    }
   ],
   "source": [
    "suppressMessages(suppressWarnings(source(\"../run_config_project_sing.R\")))\n",
    "show_env()"
   ]
  },
  {
   "cell_type": "markdown",
   "id": "b6540daa-5086-4152-bc79-1d2d3f57668e",
   "metadata": {},
   "source": [
    "## Helper functions"
   ]
  },
  {
   "cell_type": "markdown",
   "id": "4bb25889-f021-4ad0-8172-58cb910971dd",
   "metadata": {},
   "source": [
    "**Define functions**"
   ]
  },
  {
   "cell_type": "markdown",
   "id": "b39e7cbc-37a3-4fec-bbaa-3537aa2a7c58",
   "metadata": {},
   "source": [
    "```\n",
    "GROUPS  = c(\"Input\", \"Output\")\n",
    "SAMPLES = c(\n",
    "    paste0(\"Input.rep\",  1:6),\n",
    "    paste0(\"Output.rep\", 1:6))\n",
    "\n",
    "get_info = function(string, patterns){\n",
    "    idx = str_detect(string = string, pattern = patterns)\n",
    "    return(patterns[idx])\n",
    "}\n",
    "\n",
    "get_group  = function(strings){\n",
    "    res = sapply(strings, function(string){get_info(string, GROUPS)})\n",
    "    return(res)\n",
    "}\n",
    "\n",
    "get_sample = function(strings){\n",
    "    res = sapply(strings, function(string){get_info(string, SAMPLES)})\n",
    "    return(res)\n",
    "}\n",
    "```"
   ]
  },
  {
   "cell_type": "code",
   "execution_count": 2,
   "id": "c062cd69-62b5-4559-8660-b3a13200afe0",
   "metadata": {},
   "outputs": [],
   "source": [
    "###\n",
    "#VEC_TXT_PREFIX = c(\"ASTARRseq_K562_KS91\", \"ASTARRseq_K562_KS274\")\n",
    "VEC_TXT_GROUP  = c(\"Input\", \"Output\")\n",
    "VEC_TXT_SAMPLE = c(\n",
    "    paste0(\"Input.rep\",  1:6),\n",
    "    paste0(\"Output.rep\", 1:6)\n",
    ")\n",
    "\n",
    "### \n",
    "#get_prefix = function(strings) {\n",
    "#    vec = fun_str_map_detect(\n",
    "#        strings, \n",
    "#        vec_txt_pattern = VEC_TXT_PREFIX, \n",
    "#        vec_txt_replace = VEC_TXT_PREFIX\n",
    "#    )\n",
    "#    return(vec)\n",
    "#} \n",
    "\n",
    "get_prefix = function(strings) {\n",
    "    lst = str_split(strings, \"\\\\.\")\n",
    "    lst = lapply(lst, function(vec){vec[1]})\n",
    "    vec = unlist(lst)\n",
    "    return(vec)\n",
    "}\n",
    "\n",
    "###\n",
    "get_group = function(strings) {\n",
    "    vec = fun_str_map_detect(\n",
    "        strings, \n",
    "        vec_txt_pattern = VEC_TXT_GROUP, \n",
    "        vec_txt_replace = VEC_TXT_GROUP\n",
    "    )\n",
    "    return(vec)\n",
    "}\n",
    "\n",
    "###\n",
    "get_sample = function(strings) {\n",
    "    vec = fun_str_map_detect(\n",
    "        strings, \n",
    "        vec_txt_pattern = VEC_TXT_SAMPLE, \n",
    "        vec_txt_replace = VEC_TXT_SAMPLE\n",
    "    )\n",
    "    return(vec)\n",
    "}"
   ]
  },
  {
   "cell_type": "markdown",
   "id": "e3cc9e82-6c4f-44db-91ca-43606e0a8fa6",
   "metadata": {},
   "source": [
    "**Test functions**"
   ]
  },
  {
   "cell_type": "code",
   "execution_count": 3,
   "id": "bc82580e-1fb7-4142-9e71-171f1ea83dab",
   "metadata": {},
   "outputs": [
    {
     "name": "stdout",
     "output_type": "stream",
     "text": [
      "[1] \"ASTARRseq_K562_KS91\"\n",
      "[1] \"Input.rep1\"\n",
      "[1] \"Input\"\n"
     ]
    }
   ],
   "source": [
    "txt = \"ASTARRseq_K562_KS91.hg38.Input.rep1.WGS.unstranded.bed.gz\"\n",
    "print(get_prefix(txt))\n",
    "print(get_sample(txt))\n",
    "print(get_group(txt))"
   ]
  },
  {
   "cell_type": "markdown",
   "id": "83fdd898-0200-426b-99f0-51b4dacb0c97",
   "metadata": {},
   "source": [
    "## Metadata for ASTARR fragment counts (KS91)"
   ]
  },
  {
   "cell_type": "markdown",
   "id": "4e18b2d7-2dc2-432a-8858-2d6ddad4b8c7",
   "metadata": {},
   "source": [
    "**Get the file names for fragment counts**"
   ]
  },
  {
   "cell_type": "code",
   "execution_count": 4,
   "id": "1a0a15c1-6290-4ee7-b514-c6c29482bb90",
   "metadata": {},
   "outputs": [
    {
     "name": "stdout",
     "output_type": "stream",
     "text": [
      "ASTARRseq_K562_KS91.hg38.Input.rep1.WGS.unstranded.bed.gz \n",
      "ASTARRseq_K562_KS91.hg38.Input.rep2.WGS.unstranded.bed.gz \n",
      "ASTARRseq_K562_KS91.hg38.Input.rep3.WGS.unstranded.bed.gz \n",
      "ASTARRseq_K562_KS91.hg38.Input.rep4.WGS.unstranded.bed.gz \n",
      "ASTARRseq_K562_KS91.hg38.Input.rep5.WGS.unstranded.bed.gz \n",
      "ASTARRseq_K562_KS91.hg38.Input.rep6.WGS.unstranded.bed.gz \n",
      "ASTARRseq_K562_KS91.hg38.Output.rep1.WGS.unstranded.bed.gz \n",
      "ASTARRseq_K562_KS91.hg38.Output.rep2.WGS.unstranded.bed.gz \n",
      "ASTARRseq_K562_KS91.hg38.Output.rep3.WGS.unstranded.bed.gz \n",
      "ASTARRseq_K562_KS91.hg38.Output.rep4.WGS.unstranded.bed.gz \n"
     ]
    }
   ],
   "source": [
    "### set directory\n",
    "txt_assay  = \"STARR_ATAC_K562_Reddy_KS91\"\n",
    "txt_folder = \"fragment_counts\"\n",
    "txt_fdiry  = file.path(FD_RES, \"assay_fcc\", txt_assay, txt_folder)\n",
    "txt_fname  = \"*WGS*bed.gz\"\n",
    "txt_fglob  = file.path(txt_fdiry, txt_fname)\n",
    "\n",
    "### get file path and name\n",
    "vec_txt_fpath = Sys.glob(txt_fglob)\n",
    "vec_txt_fname = basename(vec_txt_fpath)\n",
    "\n",
    "### show\n",
    "for (txt in vec_txt_fname){cat(txt, \"\\n\")}"
   ]
  },
  {
   "cell_type": "markdown",
   "id": "1f0c9286-6baf-4760-82c1-cb0367b4f2ec",
   "metadata": {},
   "source": [
    "**Get sample info**"
   ]
  },
  {
   "cell_type": "code",
   "execution_count": 5,
   "id": "cc5e9841-ce80-4bd3-b70d-a511b07595a5",
   "metadata": {},
   "outputs": [
    {
     "data": {
      "text/html": [
       "<table>\n",
       " <thead>\n",
       "  <tr>\n",
       "   <th style=\"text-align:left;\"> FName </th>\n",
       "   <th style=\"text-align:left;\"> Assay </th>\n",
       "   <th style=\"text-align:left;\"> Prefix </th>\n",
       "   <th style=\"text-align:left;\"> Group </th>\n",
       "   <th style=\"text-align:left;\"> Sample </th>\n",
       "  </tr>\n",
       " </thead>\n",
       "<tbody>\n",
       "  <tr>\n",
       "   <td style=\"text-align:left;\"> ASTARRseq_K562_KS91.hg38.Input.rep1.WGS.unstranded.bed.gz </td>\n",
       "   <td style=\"text-align:left;\"> STARR_ATAC_K562_Reddy_KS91 </td>\n",
       "   <td style=\"text-align:left;\"> ASTARRseq_K562_KS91 </td>\n",
       "   <td style=\"text-align:left;\"> Input </td>\n",
       "   <td style=\"text-align:left;\"> Input.rep1 </td>\n",
       "  </tr>\n",
       "  <tr>\n",
       "   <td style=\"text-align:left;\"> ASTARRseq_K562_KS91.hg38.Input.rep2.WGS.unstranded.bed.gz </td>\n",
       "   <td style=\"text-align:left;\"> STARR_ATAC_K562_Reddy_KS91 </td>\n",
       "   <td style=\"text-align:left;\"> ASTARRseq_K562_KS91 </td>\n",
       "   <td style=\"text-align:left;\"> Input </td>\n",
       "   <td style=\"text-align:left;\"> Input.rep2 </td>\n",
       "  </tr>\n",
       "  <tr>\n",
       "   <td style=\"text-align:left;\"> ASTARRseq_K562_KS91.hg38.Input.rep3.WGS.unstranded.bed.gz </td>\n",
       "   <td style=\"text-align:left;\"> STARR_ATAC_K562_Reddy_KS91 </td>\n",
       "   <td style=\"text-align:left;\"> ASTARRseq_K562_KS91 </td>\n",
       "   <td style=\"text-align:left;\"> Input </td>\n",
       "   <td style=\"text-align:left;\"> Input.rep3 </td>\n",
       "  </tr>\n",
       "  <tr>\n",
       "   <td style=\"text-align:left;\"> ASTARRseq_K562_KS91.hg38.Input.rep4.WGS.unstranded.bed.gz </td>\n",
       "   <td style=\"text-align:left;\"> STARR_ATAC_K562_Reddy_KS91 </td>\n",
       "   <td style=\"text-align:left;\"> ASTARRseq_K562_KS91 </td>\n",
       "   <td style=\"text-align:left;\"> Input </td>\n",
       "   <td style=\"text-align:left;\"> Input.rep4 </td>\n",
       "  </tr>\n",
       "  <tr>\n",
       "   <td style=\"text-align:left;\"> ASTARRseq_K562_KS91.hg38.Input.rep5.WGS.unstranded.bed.gz </td>\n",
       "   <td style=\"text-align:left;\"> STARR_ATAC_K562_Reddy_KS91 </td>\n",
       "   <td style=\"text-align:left;\"> ASTARRseq_K562_KS91 </td>\n",
       "   <td style=\"text-align:left;\"> Input </td>\n",
       "   <td style=\"text-align:left;\"> Input.rep5 </td>\n",
       "  </tr>\n",
       "  <tr>\n",
       "   <td style=\"text-align:left;\"> ASTARRseq_K562_KS91.hg38.Input.rep6.WGS.unstranded.bed.gz </td>\n",
       "   <td style=\"text-align:left;\"> STARR_ATAC_K562_Reddy_KS91 </td>\n",
       "   <td style=\"text-align:left;\"> ASTARRseq_K562_KS91 </td>\n",
       "   <td style=\"text-align:left;\"> Input </td>\n",
       "   <td style=\"text-align:left;\"> Input.rep6 </td>\n",
       "  </tr>\n",
       "  <tr>\n",
       "   <td style=\"text-align:left;\"> ASTARRseq_K562_KS91.hg38.Output.rep1.WGS.unstranded.bed.gz </td>\n",
       "   <td style=\"text-align:left;\"> STARR_ATAC_K562_Reddy_KS91 </td>\n",
       "   <td style=\"text-align:left;\"> ASTARRseq_K562_KS91 </td>\n",
       "   <td style=\"text-align:left;\"> Output </td>\n",
       "   <td style=\"text-align:left;\"> Output.rep1 </td>\n",
       "  </tr>\n",
       "  <tr>\n",
       "   <td style=\"text-align:left;\"> ASTARRseq_K562_KS91.hg38.Output.rep2.WGS.unstranded.bed.gz </td>\n",
       "   <td style=\"text-align:left;\"> STARR_ATAC_K562_Reddy_KS91 </td>\n",
       "   <td style=\"text-align:left;\"> ASTARRseq_K562_KS91 </td>\n",
       "   <td style=\"text-align:left;\"> Output </td>\n",
       "   <td style=\"text-align:left;\"> Output.rep2 </td>\n",
       "  </tr>\n",
       "  <tr>\n",
       "   <td style=\"text-align:left;\"> ASTARRseq_K562_KS91.hg38.Output.rep3.WGS.unstranded.bed.gz </td>\n",
       "   <td style=\"text-align:left;\"> STARR_ATAC_K562_Reddy_KS91 </td>\n",
       "   <td style=\"text-align:left;\"> ASTARRseq_K562_KS91 </td>\n",
       "   <td style=\"text-align:left;\"> Output </td>\n",
       "   <td style=\"text-align:left;\"> Output.rep3 </td>\n",
       "  </tr>\n",
       "  <tr>\n",
       "   <td style=\"text-align:left;\"> ASTARRseq_K562_KS91.hg38.Output.rep4.WGS.unstranded.bed.gz </td>\n",
       "   <td style=\"text-align:left;\"> STARR_ATAC_K562_Reddy_KS91 </td>\n",
       "   <td style=\"text-align:left;\"> ASTARRseq_K562_KS91 </td>\n",
       "   <td style=\"text-align:left;\"> Output </td>\n",
       "   <td style=\"text-align:left;\"> Output.rep4 </td>\n",
       "  </tr>\n",
       "</tbody>\n",
       "</table>"
      ]
     },
     "metadata": {},
     "output_type": "display_data"
    }
   ],
   "source": [
    "### init\n",
    "dat = data.frame(\n",
    "    FName  = vec_txt_fname,\n",
    "    Assay  = txt_assay\n",
    ")\n",
    "\n",
    "### get sample info\n",
    "dat = dat %>%\n",
    "    dplyr::mutate(\n",
    "        Prefix = get_prefix(FName),\n",
    "        Group  = get_group(FName),\n",
    "        Sample = get_sample(FName)\n",
    "    ) %>%\n",
    "    dplyr::arrange(Sample)\n",
    "\n",
    "### assign and show\n",
    "dat_meta = dat\n",
    "fun_display_table(dat)"
   ]
  },
  {
   "cell_type": "markdown",
   "id": "3138dd74-34ca-43d7-abda-a28160a1f048",
   "metadata": {},
   "source": [
    "**Save results**"
   ]
  },
  {
   "cell_type": "code",
   "execution_count": 7,
   "id": "f7343468-6191-4720-8360-282ed8654692",
   "metadata": {},
   "outputs": [],
   "source": [
    "### set directory\n",
    "txt_fdiry = file.path(FD_RES, \"assay_fcc\", txt_assay, txt_folder, \"summary\")\n",
    "txt_fname = \"metadata.tsv\"\n",
    "txt_fpath = file.path(txt_fdiry, txt_fname)\n",
    "\n",
    "txt = paste(\"mkdir -p\", txt_fdiry)\n",
    "system(txt)\n",
    "\n",
    "### write table\n",
    "dat = dat_meta\n",
    "write_tsv(dat, txt_fpath)"
   ]
  },
  {
   "cell_type": "markdown",
   "id": "dc3b08a0-0b1b-49ac-94f0-fbea1ddc924a",
   "metadata": {},
   "source": [
    "## Metadata for ASTARR fragment counts (KS274)"
   ]
  },
  {
   "cell_type": "markdown",
   "id": "f691c9d8-5122-4d7f-a862-c714eb22beae",
   "metadata": {},
   "source": [
    "**Get the file names for fragment counts**"
   ]
  },
  {
   "cell_type": "code",
   "execution_count": 8,
   "id": "af60d214-d380-4972-80c6-c15ca864c9cb",
   "metadata": {},
   "outputs": [
    {
     "name": "stdout",
     "output_type": "stream",
     "text": [
      "ASTARRseq_K562_KS274.hg38.Output.rep1.WGS.unstranded.bed.gz \n",
      "ASTARRseq_K562_KS274.hg38.Output.rep2.WGS.unstranded.bed.gz \n",
      "ASTARRseq_K562_KS274.hg38.Output.rep3.WGS.unstranded.bed.gz \n",
      "ASTARRseq_K562_KS91.hg38.Input.rep1.WGS.unstranded.bed.gz \n",
      "ASTARRseq_K562_KS91.hg38.Input.rep2.WGS.unstranded.bed.gz \n",
      "ASTARRseq_K562_KS91.hg38.Input.rep3.WGS.unstranded.bed.gz \n",
      "ASTARRseq_K562_KS91.hg38.Input.rep4.WGS.unstranded.bed.gz \n",
      "ASTARRseq_K562_KS91.hg38.Input.rep5.WGS.unstranded.bed.gz \n",
      "ASTARRseq_K562_KS91.hg38.Input.rep6.WGS.unstranded.bed.gz \n"
     ]
    }
   ],
   "source": [
    "### set directory\n",
    "txt_assay  = \"STARR_ATAC_K562_Reddy_KS274\"\n",
    "txt_folder = \"fragment_counts\"\n",
    "txt_fdiry  = file.path(FD_RES, \"assay_fcc\", txt_assay, txt_folder)\n",
    "txt_fname  = \"*WGS*bed.gz\"\n",
    "txt_fglob  = file.path(txt_fdiry, txt_fname)\n",
    "\n",
    "### get file path and name\n",
    "vec_txt_fpath = Sys.glob(txt_fglob)\n",
    "vec_txt_fname = basename(vec_txt_fpath)\n",
    "\n",
    "### show\n",
    "for (txt in vec_txt_fname){cat(txt, \"\\n\")}"
   ]
  },
  {
   "cell_type": "markdown",
   "id": "e096b32d-97ab-47d7-9a42-7ffb8dc63dc2",
   "metadata": {},
   "source": [
    "**Get sample info**"
   ]
  },
  {
   "cell_type": "code",
   "execution_count": 9,
   "id": "63c0a318-1af8-4fac-82c5-eb1a3cabee6e",
   "metadata": {},
   "outputs": [
    {
     "data": {
      "text/html": [
       "<table>\n",
       " <thead>\n",
       "  <tr>\n",
       "   <th style=\"text-align:left;\"> FName </th>\n",
       "   <th style=\"text-align:left;\"> Assay </th>\n",
       "   <th style=\"text-align:left;\"> Prefix </th>\n",
       "   <th style=\"text-align:left;\"> Group </th>\n",
       "   <th style=\"text-align:left;\"> Sample </th>\n",
       "  </tr>\n",
       " </thead>\n",
       "<tbody>\n",
       "  <tr>\n",
       "   <td style=\"text-align:left;\"> ASTARRseq_K562_KS91.hg38.Input.rep1.WGS.unstranded.bed.gz </td>\n",
       "   <td style=\"text-align:left;\"> STARR_ATAC_K562_Reddy_KS274 </td>\n",
       "   <td style=\"text-align:left;\"> ASTARRseq_K562_KS91 </td>\n",
       "   <td style=\"text-align:left;\"> Input </td>\n",
       "   <td style=\"text-align:left;\"> Input.rep1 </td>\n",
       "  </tr>\n",
       "  <tr>\n",
       "   <td style=\"text-align:left;\"> ASTARRseq_K562_KS91.hg38.Input.rep2.WGS.unstranded.bed.gz </td>\n",
       "   <td style=\"text-align:left;\"> STARR_ATAC_K562_Reddy_KS274 </td>\n",
       "   <td style=\"text-align:left;\"> ASTARRseq_K562_KS91 </td>\n",
       "   <td style=\"text-align:left;\"> Input </td>\n",
       "   <td style=\"text-align:left;\"> Input.rep2 </td>\n",
       "  </tr>\n",
       "  <tr>\n",
       "   <td style=\"text-align:left;\"> ASTARRseq_K562_KS91.hg38.Input.rep3.WGS.unstranded.bed.gz </td>\n",
       "   <td style=\"text-align:left;\"> STARR_ATAC_K562_Reddy_KS274 </td>\n",
       "   <td style=\"text-align:left;\"> ASTARRseq_K562_KS91 </td>\n",
       "   <td style=\"text-align:left;\"> Input </td>\n",
       "   <td style=\"text-align:left;\"> Input.rep3 </td>\n",
       "  </tr>\n",
       "  <tr>\n",
       "   <td style=\"text-align:left;\"> ASTARRseq_K562_KS91.hg38.Input.rep4.WGS.unstranded.bed.gz </td>\n",
       "   <td style=\"text-align:left;\"> STARR_ATAC_K562_Reddy_KS274 </td>\n",
       "   <td style=\"text-align:left;\"> ASTARRseq_K562_KS91 </td>\n",
       "   <td style=\"text-align:left;\"> Input </td>\n",
       "   <td style=\"text-align:left;\"> Input.rep4 </td>\n",
       "  </tr>\n",
       "  <tr>\n",
       "   <td style=\"text-align:left;\"> ASTARRseq_K562_KS91.hg38.Input.rep5.WGS.unstranded.bed.gz </td>\n",
       "   <td style=\"text-align:left;\"> STARR_ATAC_K562_Reddy_KS274 </td>\n",
       "   <td style=\"text-align:left;\"> ASTARRseq_K562_KS91 </td>\n",
       "   <td style=\"text-align:left;\"> Input </td>\n",
       "   <td style=\"text-align:left;\"> Input.rep5 </td>\n",
       "  </tr>\n",
       "  <tr>\n",
       "   <td style=\"text-align:left;\"> ASTARRseq_K562_KS91.hg38.Input.rep6.WGS.unstranded.bed.gz </td>\n",
       "   <td style=\"text-align:left;\"> STARR_ATAC_K562_Reddy_KS274 </td>\n",
       "   <td style=\"text-align:left;\"> ASTARRseq_K562_KS91 </td>\n",
       "   <td style=\"text-align:left;\"> Input </td>\n",
       "   <td style=\"text-align:left;\"> Input.rep6 </td>\n",
       "  </tr>\n",
       "  <tr>\n",
       "   <td style=\"text-align:left;\"> ASTARRseq_K562_KS274.hg38.Output.rep1.WGS.unstranded.bed.gz </td>\n",
       "   <td style=\"text-align:left;\"> STARR_ATAC_K562_Reddy_KS274 </td>\n",
       "   <td style=\"text-align:left;\"> ASTARRseq_K562_KS274 </td>\n",
       "   <td style=\"text-align:left;\"> Output </td>\n",
       "   <td style=\"text-align:left;\"> Output.rep1 </td>\n",
       "  </tr>\n",
       "  <tr>\n",
       "   <td style=\"text-align:left;\"> ASTARRseq_K562_KS274.hg38.Output.rep2.WGS.unstranded.bed.gz </td>\n",
       "   <td style=\"text-align:left;\"> STARR_ATAC_K562_Reddy_KS274 </td>\n",
       "   <td style=\"text-align:left;\"> ASTARRseq_K562_KS274 </td>\n",
       "   <td style=\"text-align:left;\"> Output </td>\n",
       "   <td style=\"text-align:left;\"> Output.rep2 </td>\n",
       "  </tr>\n",
       "  <tr>\n",
       "   <td style=\"text-align:left;\"> ASTARRseq_K562_KS274.hg38.Output.rep3.WGS.unstranded.bed.gz </td>\n",
       "   <td style=\"text-align:left;\"> STARR_ATAC_K562_Reddy_KS274 </td>\n",
       "   <td style=\"text-align:left;\"> ASTARRseq_K562_KS274 </td>\n",
       "   <td style=\"text-align:left;\"> Output </td>\n",
       "   <td style=\"text-align:left;\"> Output.rep3 </td>\n",
       "  </tr>\n",
       "</tbody>\n",
       "</table>"
      ]
     },
     "metadata": {},
     "output_type": "display_data"
    }
   ],
   "source": [
    "### init\n",
    "dat = data.frame(\n",
    "    FName  = vec_txt_fname,\n",
    "    Assay  = txt_assay\n",
    ")\n",
    "\n",
    "### get sample info\n",
    "dat = dat %>%\n",
    "    dplyr::mutate(\n",
    "        Prefix = get_prefix(FName),\n",
    "        Group  = get_group(FName),\n",
    "        Sample = get_sample(FName)\n",
    "    ) %>%\n",
    "    dplyr::arrange(Sample)\n",
    "\n",
    "### assign and show\n",
    "dat_meta = dat\n",
    "fun_display_table(dat)"
   ]
  },
  {
   "cell_type": "markdown",
   "id": "6413e5c6-fe37-47bf-9d99-263904eebb42",
   "metadata": {},
   "source": [
    "**Save results**"
   ]
  },
  {
   "cell_type": "code",
   "execution_count": 11,
   "id": "bdc63d16-c5ce-4514-9ae1-7c63aa25e4b2",
   "metadata": {},
   "outputs": [],
   "source": [
    "### set directory\n",
    "txt_fdiry = file.path(FD_RES, \"assay_fcc\", txt_assay, txt_folder, \"summary\")\n",
    "txt_fname = \"metadata.tsv\"\n",
    "txt_fpath = file.path(txt_fdiry, txt_fname)\n",
    "\n",
    "txt = paste(\"mkdir -p\", txt_fdiry)\n",
    "system(txt)\n",
    "\n",
    "### write table\n",
    "dat = dat_meta\n",
    "write_tsv(dat, txt_fpath)"
   ]
  },
  {
   "cell_type": "markdown",
   "id": "c2e561f2-d705-49db-9c0b-44ff75117847",
   "metadata": {},
   "source": [
    "## Metadata for ASTARR fragment counts (KS Merge)"
   ]
  },
  {
   "cell_type": "markdown",
   "id": "da3ea94f-77e7-4811-b645-b3e1c5d3d4b9",
   "metadata": {},
   "source": [
    "**Get the file names for fragment counts**"
   ]
  },
  {
   "cell_type": "code",
   "execution_count": 12,
   "id": "98b7a02b-7161-4969-a818-3ab93d7fbf14",
   "metadata": {},
   "outputs": [
    {
     "name": "stdout",
     "output_type": "stream",
     "text": [
      "ASTARRseq_K562_KS274.hg38.Output.rep1.WGS.unstranded.bed.gz \n",
      "ASTARRseq_K562_KS274.hg38.Output.rep2.WGS.unstranded.bed.gz \n",
      "ASTARRseq_K562_KS274.hg38.Output.rep3.WGS.unstranded.bed.gz \n",
      "ASTARRseq_K562_KS91.hg38.Input.rep1.WGS.unstranded.bed.gz \n",
      "ASTARRseq_K562_KS91.hg38.Input.rep2.WGS.unstranded.bed.gz \n",
      "ASTARRseq_K562_KS91.hg38.Input.rep3.WGS.unstranded.bed.gz \n",
      "ASTARRseq_K562_KS91.hg38.Input.rep4.WGS.unstranded.bed.gz \n",
      "ASTARRseq_K562_KS91.hg38.Input.rep5.WGS.unstranded.bed.gz \n",
      "ASTARRseq_K562_KS91.hg38.Input.rep6.WGS.unstranded.bed.gz \n",
      "ASTARRseq_K562_KS91.hg38.Output.rep1.WGS.unstranded.bed.gz \n",
      "ASTARRseq_K562_KS91.hg38.Output.rep2.WGS.unstranded.bed.gz \n",
      "ASTARRseq_K562_KS91.hg38.Output.rep3.WGS.unstranded.bed.gz \n",
      "ASTARRseq_K562_KS91.hg38.Output.rep4.WGS.unstranded.bed.gz \n"
     ]
    }
   ],
   "source": [
    "### set directory\n",
    "txt_assay  = \"STARR_ATAC_K562_Reddy_KSMerge\"\n",
    "txt_folder = \"fragment_counts\"\n",
    "txt_fdiry  = file.path(FD_RES, \"assay_fcc\", txt_assay, txt_folder)\n",
    "txt_fname  = \"*WGS*bed.gz\"\n",
    "txt_fglob  = file.path(txt_fdiry, txt_fname)\n",
    "\n",
    "### get file path and name\n",
    "vec_txt_fpath = Sys.glob(txt_fglob)\n",
    "vec_txt_fname = basename(vec_txt_fpath)\n",
    "\n",
    "### show\n",
    "for (txt in vec_txt_fname){cat(txt, \"\\n\")}"
   ]
  },
  {
   "cell_type": "markdown",
   "id": "c3dfc3cb-486a-4fc5-b877-e61951ffc1d1",
   "metadata": {},
   "source": [
    "**Get sample info**"
   ]
  },
  {
   "cell_type": "code",
   "execution_count": 13,
   "id": "480d33a3-84b7-4a4f-b247-33de77aa0bbd",
   "metadata": {},
   "outputs": [
    {
     "data": {
      "text/html": [
       "<table>\n",
       " <thead>\n",
       "  <tr>\n",
       "   <th style=\"text-align:left;\"> FName </th>\n",
       "   <th style=\"text-align:left;\"> Assay </th>\n",
       "   <th style=\"text-align:left;\"> Prefix </th>\n",
       "   <th style=\"text-align:left;\"> Group </th>\n",
       "   <th style=\"text-align:left;\"> Sample </th>\n",
       "  </tr>\n",
       " </thead>\n",
       "<tbody>\n",
       "  <tr>\n",
       "   <td style=\"text-align:left;\"> ASTARRseq_K562_KS91.hg38.Input.rep1.WGS.unstranded.bed.gz </td>\n",
       "   <td style=\"text-align:left;\"> STARR_ATAC_K562_Reddy_KSMerge </td>\n",
       "   <td style=\"text-align:left;\"> ASTARRseq_K562_KS91 </td>\n",
       "   <td style=\"text-align:left;\"> Input </td>\n",
       "   <td style=\"text-align:left;\"> Input.rep1 </td>\n",
       "  </tr>\n",
       "  <tr>\n",
       "   <td style=\"text-align:left;\"> ASTARRseq_K562_KS91.hg38.Input.rep2.WGS.unstranded.bed.gz </td>\n",
       "   <td style=\"text-align:left;\"> STARR_ATAC_K562_Reddy_KSMerge </td>\n",
       "   <td style=\"text-align:left;\"> ASTARRseq_K562_KS91 </td>\n",
       "   <td style=\"text-align:left;\"> Input </td>\n",
       "   <td style=\"text-align:left;\"> Input.rep2 </td>\n",
       "  </tr>\n",
       "  <tr>\n",
       "   <td style=\"text-align:left;\"> ASTARRseq_K562_KS91.hg38.Input.rep3.WGS.unstranded.bed.gz </td>\n",
       "   <td style=\"text-align:left;\"> STARR_ATAC_K562_Reddy_KSMerge </td>\n",
       "   <td style=\"text-align:left;\"> ASTARRseq_K562_KS91 </td>\n",
       "   <td style=\"text-align:left;\"> Input </td>\n",
       "   <td style=\"text-align:left;\"> Input.rep3 </td>\n",
       "  </tr>\n",
       "  <tr>\n",
       "   <td style=\"text-align:left;\"> ASTARRseq_K562_KS91.hg38.Input.rep4.WGS.unstranded.bed.gz </td>\n",
       "   <td style=\"text-align:left;\"> STARR_ATAC_K562_Reddy_KSMerge </td>\n",
       "   <td style=\"text-align:left;\"> ASTARRseq_K562_KS91 </td>\n",
       "   <td style=\"text-align:left;\"> Input </td>\n",
       "   <td style=\"text-align:left;\"> Input.rep4 </td>\n",
       "  </tr>\n",
       "  <tr>\n",
       "   <td style=\"text-align:left;\"> ASTARRseq_K562_KS91.hg38.Input.rep5.WGS.unstranded.bed.gz </td>\n",
       "   <td style=\"text-align:left;\"> STARR_ATAC_K562_Reddy_KSMerge </td>\n",
       "   <td style=\"text-align:left;\"> ASTARRseq_K562_KS91 </td>\n",
       "   <td style=\"text-align:left;\"> Input </td>\n",
       "   <td style=\"text-align:left;\"> Input.rep5 </td>\n",
       "  </tr>\n",
       "  <tr>\n",
       "   <td style=\"text-align:left;\"> ASTARRseq_K562_KS91.hg38.Input.rep6.WGS.unstranded.bed.gz </td>\n",
       "   <td style=\"text-align:left;\"> STARR_ATAC_K562_Reddy_KSMerge </td>\n",
       "   <td style=\"text-align:left;\"> ASTARRseq_K562_KS91 </td>\n",
       "   <td style=\"text-align:left;\"> Input </td>\n",
       "   <td style=\"text-align:left;\"> Input.rep6 </td>\n",
       "  </tr>\n",
       "  <tr>\n",
       "   <td style=\"text-align:left;\"> ASTARRseq_K562_KS91.hg38.Output.rep1.WGS.unstranded.bed.gz </td>\n",
       "   <td style=\"text-align:left;\"> STARR_ATAC_K562_Reddy_KSMerge </td>\n",
       "   <td style=\"text-align:left;\"> ASTARRseq_K562_KS91 </td>\n",
       "   <td style=\"text-align:left;\"> Output </td>\n",
       "   <td style=\"text-align:left;\"> Output.rep1 </td>\n",
       "  </tr>\n",
       "  <tr>\n",
       "   <td style=\"text-align:left;\"> ASTARRseq_K562_KS91.hg38.Output.rep2.WGS.unstranded.bed.gz </td>\n",
       "   <td style=\"text-align:left;\"> STARR_ATAC_K562_Reddy_KSMerge </td>\n",
       "   <td style=\"text-align:left;\"> ASTARRseq_K562_KS91 </td>\n",
       "   <td style=\"text-align:left;\"> Output </td>\n",
       "   <td style=\"text-align:left;\"> Output.rep2 </td>\n",
       "  </tr>\n",
       "  <tr>\n",
       "   <td style=\"text-align:left;\"> ASTARRseq_K562_KS91.hg38.Output.rep3.WGS.unstranded.bed.gz </td>\n",
       "   <td style=\"text-align:left;\"> STARR_ATAC_K562_Reddy_KSMerge </td>\n",
       "   <td style=\"text-align:left;\"> ASTARRseq_K562_KS91 </td>\n",
       "   <td style=\"text-align:left;\"> Output </td>\n",
       "   <td style=\"text-align:left;\"> Output.rep3 </td>\n",
       "  </tr>\n",
       "  <tr>\n",
       "   <td style=\"text-align:left;\"> ASTARRseq_K562_KS91.hg38.Output.rep4.WGS.unstranded.bed.gz </td>\n",
       "   <td style=\"text-align:left;\"> STARR_ATAC_K562_Reddy_KSMerge </td>\n",
       "   <td style=\"text-align:left;\"> ASTARRseq_K562_KS91 </td>\n",
       "   <td style=\"text-align:left;\"> Output </td>\n",
       "   <td style=\"text-align:left;\"> Output.rep4 </td>\n",
       "  </tr>\n",
       "  <tr>\n",
       "   <td style=\"text-align:left;\"> ASTARRseq_K562_KS274.hg38.Output.rep1.WGS.unstranded.bed.gz </td>\n",
       "   <td style=\"text-align:left;\"> STARR_ATAC_K562_Reddy_KSMerge </td>\n",
       "   <td style=\"text-align:left;\"> ASTARRseq_K562_KS274 </td>\n",
       "   <td style=\"text-align:left;\"> Output </td>\n",
       "   <td style=\"text-align:left;\"> Output.rep5 </td>\n",
       "  </tr>\n",
       "  <tr>\n",
       "   <td style=\"text-align:left;\"> ASTARRseq_K562_KS274.hg38.Output.rep2.WGS.unstranded.bed.gz </td>\n",
       "   <td style=\"text-align:left;\"> STARR_ATAC_K562_Reddy_KSMerge </td>\n",
       "   <td style=\"text-align:left;\"> ASTARRseq_K562_KS274 </td>\n",
       "   <td style=\"text-align:left;\"> Output </td>\n",
       "   <td style=\"text-align:left;\"> Output.rep6 </td>\n",
       "  </tr>\n",
       "  <tr>\n",
       "   <td style=\"text-align:left;\"> ASTARRseq_K562_KS274.hg38.Output.rep3.WGS.unstranded.bed.gz </td>\n",
       "   <td style=\"text-align:left;\"> STARR_ATAC_K562_Reddy_KSMerge </td>\n",
       "   <td style=\"text-align:left;\"> ASTARRseq_K562_KS274 </td>\n",
       "   <td style=\"text-align:left;\"> Output </td>\n",
       "   <td style=\"text-align:left;\"> Output.rep7 </td>\n",
       "  </tr>\n",
       "</tbody>\n",
       "</table>"
      ]
     },
     "metadata": {},
     "output_type": "display_data"
    }
   ],
   "source": [
    "### init\n",
    "dat = data.frame(\n",
    "    FName  = vec_txt_fname,\n",
    "    Assay  = txt_assay\n",
    ")\n",
    "\n",
    "### get sample info\n",
    "dat = dat %>%\n",
    "    dplyr::mutate(\n",
    "        Prefix = get_prefix(FName),\n",
    "        Group  = get_group(FName),\n",
    "        Sample = get_sample(FName)\n",
    "    ) %>%\n",
    "    dplyr::mutate(\n",
    "        Sample = case_when(\n",
    "            Prefix == \"ASTARRseq_K562_KS274\" & Sample == \"Output.rep1\" ~ \"Output.rep5\",\n",
    "            Prefix == \"ASTARRseq_K562_KS274\" & Sample == \"Output.rep2\" ~ \"Output.rep6\",\n",
    "            Prefix == \"ASTARRseq_K562_KS274\" & Sample == \"Output.rep3\" ~ \"Output.rep7\",\n",
    "            .default = as.character(Sample)\n",
    "        )\n",
    "    ) %>%\n",
    "    dplyr::arrange(Sample)\n",
    "\n",
    "### assign and show\n",
    "dat_meta = dat\n",
    "fun_display_table(dat)"
   ]
  },
  {
   "cell_type": "markdown",
   "id": "b9a42705-9fc5-4a71-ac6f-f210476919a0",
   "metadata": {},
   "source": [
    "**Save results**"
   ]
  },
  {
   "cell_type": "code",
   "execution_count": 14,
   "id": "dea92ad3-6e88-4725-96af-9555a26e6ac5",
   "metadata": {},
   "outputs": [],
   "source": [
    "### set directory\n",
    "txt_fdiry = file.path(FD_RES, \"assay_fcc\", txt_assay, txt_folder, \"summary\")\n",
    "txt_fname = \"metadata.tsv\"\n",
    "txt_fpath = file.path(txt_fdiry, txt_fname)\n",
    "\n",
    "txt = paste(\"mkdir -p\", txt_fdiry)\n",
    "system(txt)\n",
    "\n",
    "### write table\n",
    "dat = dat_meta\n",
    "write_tsv(dat, txt_fpath)"
   ]
  },
  {
   "cell_type": "markdown",
   "id": "44f2fc4c-8719-4617-8fc1-77171ff49767",
   "metadata": {},
   "source": [
    "## Metadata for WSTARR fragment counts"
   ]
  },
  {
   "cell_type": "markdown",
   "id": "0b8d76d0-9cdc-4c76-9e28-4cff9bf8d358",
   "metadata": {},
   "source": [
    "**Get the file names for fragment counts**"
   ]
  },
  {
   "cell_type": "code",
   "execution_count": 40,
   "id": "74cbf398-6004-416e-9819-0afbe1e84aa7",
   "metadata": {},
   "outputs": [
    {
     "name": "stdout",
     "output_type": "stream",
     "text": [
      "WSTARRseq_K562_A001.hg38.Input.rep1.WGS.unstranded.bed.gz \n",
      "WSTARRseq_K562_A001.hg38.Input.rep2.WGS.unstranded.bed.gz \n",
      "WSTARRseq_K562_A001.hg38.Input.rep3.WGS.unstranded.bed.gz \n",
      "WSTARRseq_K562_A001.hg38.Input.rep4.WGS.unstranded.bed.gz \n",
      "WSTARRseq_K562_A001.hg38.Output.rep1.WGS.unstranded.bed.gz \n",
      "WSTARRseq_K562_A001.hg38.Output.rep2.WGS.unstranded.bed.gz \n",
      "WSTARRseq_K562_A001.hg38.Output.rep3.WGS.unstranded.bed.gz \n"
     ]
    }
   ],
   "source": [
    "### set directory\n",
    "txt_assay  = \"STARR_WHG_K562_Reddy_A001\"\n",
    "txt_folder = \"fragment_counts\"\n",
    "txt_fdiry  = file.path(FD_RES, \"assay_fcc\", txt_assay, txt_folder)\n",
    "txt_fname  = \"*WGS*bed.gz\"\n",
    "txt_fglob  = file.path(txt_fdiry, txt_fname)\n",
    "\n",
    "### get file path and name\n",
    "vec_txt_fpath = Sys.glob(txt_fglob)\n",
    "vec_txt_fname = basename(vec_txt_fpath)\n",
    "\n",
    "### show\n",
    "for (txt in vec_txt_fname){cat(txt, \"\\n\")}"
   ]
  },
  {
   "cell_type": "markdown",
   "id": "247d4008-ba0e-4471-98c8-e5b0a1925263",
   "metadata": {},
   "source": [
    "**Get sample info**"
   ]
  },
  {
   "cell_type": "code",
   "execution_count": 41,
   "id": "65fbc782-73b8-4051-b45d-9057a1247315",
   "metadata": {},
   "outputs": [
    {
     "data": {
      "text/html": [
       "<table>\n",
       " <thead>\n",
       "  <tr>\n",
       "   <th style=\"text-align:left;\"> FName </th>\n",
       "   <th style=\"text-align:left;\"> Assay </th>\n",
       "   <th style=\"text-align:left;\"> Prefix </th>\n",
       "   <th style=\"text-align:left;\"> Group </th>\n",
       "   <th style=\"text-align:left;\"> Sample </th>\n",
       "  </tr>\n",
       " </thead>\n",
       "<tbody>\n",
       "  <tr>\n",
       "   <td style=\"text-align:left;\"> WSTARRseq_K562_A001.hg38.Input.rep1.WGS.unstranded.bed.gz </td>\n",
       "   <td style=\"text-align:left;\"> STARR_WHG_K562_Reddy_A001 </td>\n",
       "   <td style=\"text-align:left;\"> WSTARRseq_K562_A001 </td>\n",
       "   <td style=\"text-align:left;\"> Input </td>\n",
       "   <td style=\"text-align:left;\"> Input.rep1 </td>\n",
       "  </tr>\n",
       "  <tr>\n",
       "   <td style=\"text-align:left;\"> WSTARRseq_K562_A001.hg38.Input.rep2.WGS.unstranded.bed.gz </td>\n",
       "   <td style=\"text-align:left;\"> STARR_WHG_K562_Reddy_A001 </td>\n",
       "   <td style=\"text-align:left;\"> WSTARRseq_K562_A001 </td>\n",
       "   <td style=\"text-align:left;\"> Input </td>\n",
       "   <td style=\"text-align:left;\"> Input.rep2 </td>\n",
       "  </tr>\n",
       "  <tr>\n",
       "   <td style=\"text-align:left;\"> WSTARRseq_K562_A001.hg38.Input.rep3.WGS.unstranded.bed.gz </td>\n",
       "   <td style=\"text-align:left;\"> STARR_WHG_K562_Reddy_A001 </td>\n",
       "   <td style=\"text-align:left;\"> WSTARRseq_K562_A001 </td>\n",
       "   <td style=\"text-align:left;\"> Input </td>\n",
       "   <td style=\"text-align:left;\"> Input.rep3 </td>\n",
       "  </tr>\n",
       "  <tr>\n",
       "   <td style=\"text-align:left;\"> WSTARRseq_K562_A001.hg38.Input.rep4.WGS.unstranded.bed.gz </td>\n",
       "   <td style=\"text-align:left;\"> STARR_WHG_K562_Reddy_A001 </td>\n",
       "   <td style=\"text-align:left;\"> WSTARRseq_K562_A001 </td>\n",
       "   <td style=\"text-align:left;\"> Input </td>\n",
       "   <td style=\"text-align:left;\"> Input.rep4 </td>\n",
       "  </tr>\n",
       "  <tr>\n",
       "   <td style=\"text-align:left;\"> WSTARRseq_K562_A001.hg38.Output.rep1.WGS.unstranded.bed.gz </td>\n",
       "   <td style=\"text-align:left;\"> STARR_WHG_K562_Reddy_A001 </td>\n",
       "   <td style=\"text-align:left;\"> WSTARRseq_K562_A001 </td>\n",
       "   <td style=\"text-align:left;\"> Output </td>\n",
       "   <td style=\"text-align:left;\"> Output.rep1 </td>\n",
       "  </tr>\n",
       "  <tr>\n",
       "   <td style=\"text-align:left;\"> WSTARRseq_K562_A001.hg38.Output.rep2.WGS.unstranded.bed.gz </td>\n",
       "   <td style=\"text-align:left;\"> STARR_WHG_K562_Reddy_A001 </td>\n",
       "   <td style=\"text-align:left;\"> WSTARRseq_K562_A001 </td>\n",
       "   <td style=\"text-align:left;\"> Output </td>\n",
       "   <td style=\"text-align:left;\"> Output.rep2 </td>\n",
       "  </tr>\n",
       "  <tr>\n",
       "   <td style=\"text-align:left;\"> WSTARRseq_K562_A001.hg38.Output.rep3.WGS.unstranded.bed.gz </td>\n",
       "   <td style=\"text-align:left;\"> STARR_WHG_K562_Reddy_A001 </td>\n",
       "   <td style=\"text-align:left;\"> WSTARRseq_K562_A001 </td>\n",
       "   <td style=\"text-align:left;\"> Output </td>\n",
       "   <td style=\"text-align:left;\"> Output.rep3 </td>\n",
       "  </tr>\n",
       "</tbody>\n",
       "</table>"
      ]
     },
     "metadata": {},
     "output_type": "display_data"
    }
   ],
   "source": [
    "### init\n",
    "dat = data.frame(\n",
    "    FName  = vec_txt_fname,\n",
    "    Assay  = txt_assay\n",
    ")\n",
    "\n",
    "### get sample info\n",
    "dat = dat %>%\n",
    "    dplyr::mutate(\n",
    "        Prefix = get_prefix(FName),\n",
    "        Group  = get_group(FName),\n",
    "        Sample = get_sample(FName)\n",
    "    ) %>%\n",
    "    dplyr::arrange(Sample)\n",
    "\n",
    "### assign and show\n",
    "dat_meta = dat\n",
    "fun_display_table(dat)"
   ]
  },
  {
   "cell_type": "markdown",
   "id": "93c31030-1706-4953-be9b-cc97cd729310",
   "metadata": {},
   "source": [
    "**Save results**"
   ]
  },
  {
   "cell_type": "code",
   "execution_count": 7,
   "id": "ac1e2085-2901-4728-b573-c6ecbb8ba99f",
   "metadata": {},
   "outputs": [],
   "source": [
    "### set directory\n",
    "txt_fdiry = file.path(FD_RES, \"assay_fcc\", txt_assay, txt_folder, \"summary\")\n",
    "txt_fname = \"metadata.tsv\"\n",
    "txt_fpath = file.path(txt_fdiry, txt_fname)\n",
    "\n",
    "txt = paste(\"mkdir -p\", txt_fdiry)\n",
    "system(txt)\n",
    "\n",
    "### write table\n",
    "dat = dat_metadata_astarr\n",
    "write_tsv(dat, txt_fpath)"
   ]
  },
  {
   "cell_type": "markdown",
   "id": "3078b9fb-7db5-453b-9538-1c4ff90b3929",
   "metadata": {},
   "source": [
    "## Review"
   ]
  },
  {
   "cell_type": "markdown",
   "id": "861a6648-e3f0-46b7-8e19-04752e2b6a2c",
   "metadata": {},
   "source": [
    "**Check results**"
   ]
  },
  {
   "cell_type": "code",
   "execution_count": 20,
   "id": "ec05f8bf-3858-4f0f-a84b-f9c7e7652a6b",
   "metadata": {},
   "outputs": [
    {
     "name": "stdout",
     "output_type": "stream",
     "text": [
      "/mount/repo/Proj_ENCODE_FCC/results/assay_fcc/STARR_ATAC_K562_Reddy_KS274/fragment_counts/summary/metadata.tsv \n",
      "FName\tAssay\tPrefix\tGroup\tSample \n",
      "ASTARRseq_K562_KS274.hg38.Output.rep1.WGS.unstranded.bed.gz\tSTARR_ATAC_K562_Reddy_KS274\tASTARRseq_K562_KS274\tOutput\tOutput.rep1 \n",
      "ASTARRseq_K562_KS274.hg38.Output.rep2.WGS.unstranded.bed.gz\tSTARR_ATAC_K562_Reddy_KS274\tASTARRseq_K562_KS274\tOutput\tOutput.rep2 \n",
      "ASTARRseq_K562_KS274.hg38.Output.rep3.WGS.unstranded.bed.gz\tSTARR_ATAC_K562_Reddy_KS274\tASTARRseq_K562_KS274\tOutput\tOutput.rep3 \n",
      "\n",
      "/mount/repo/Proj_ENCODE_FCC/results/assay_fcc/STARR_ATAC_K562_Reddy_KS91/fragment_counts/summary/metadata.tsv \n",
      "FName\tAssay\tPrefix\tGroup\tSample \n",
      "ASTARRseq_K562_KS91.hg38.Input.rep1.WGS.unstranded.bed.gz\tSTARR_ATAC_K562_Reddy_KS91\tASTARRseq_K562_KS91\tInput\tInput.rep1 \n",
      "ASTARRseq_K562_KS91.hg38.Input.rep2.WGS.unstranded.bed.gz\tSTARR_ATAC_K562_Reddy_KS91\tASTARRseq_K562_KS91\tInput\tInput.rep2 \n",
      "ASTARRseq_K562_KS91.hg38.Input.rep3.WGS.unstranded.bed.gz\tSTARR_ATAC_K562_Reddy_KS91\tASTARRseq_K562_KS91\tInput\tInput.rep3 \n",
      "ASTARRseq_K562_KS91.hg38.Input.rep4.WGS.unstranded.bed.gz\tSTARR_ATAC_K562_Reddy_KS91\tASTARRseq_K562_KS91\tInput\tInput.rep4 \n",
      "ASTARRseq_K562_KS91.hg38.Input.rep5.WGS.unstranded.bed.gz\tSTARR_ATAC_K562_Reddy_KS91\tASTARRseq_K562_KS91\tInput\tInput.rep5 \n",
      "ASTARRseq_K562_KS91.hg38.Input.rep6.WGS.unstranded.bed.gz\tSTARR_ATAC_K562_Reddy_KS91\tASTARRseq_K562_KS91\tInput\tInput.rep6 \n",
      "ASTARRseq_K562_KS91.hg38.Output.rep1.WGS.unstranded.bed.gz\tSTARR_ATAC_K562_Reddy_KS91\tASTARRseq_K562_KS91\tOutput\tOutput.rep1 \n",
      "ASTARRseq_K562_KS91.hg38.Output.rep2.WGS.unstranded.bed.gz\tSTARR_ATAC_K562_Reddy_KS91\tASTARRseq_K562_KS91\tOutput\tOutput.rep2 \n",
      "ASTARRseq_K562_KS91.hg38.Output.rep3.WGS.unstranded.bed.gz\tSTARR_ATAC_K562_Reddy_KS91\tASTARRseq_K562_KS91\tOutput\tOutput.rep3 \n",
      "ASTARRseq_K562_KS91.hg38.Output.rep4.WGS.unstranded.bed.gz\tSTARR_ATAC_K562_Reddy_KS91\tASTARRseq_K562_KS91\tOutput\tOutput.rep4 \n",
      "\n",
      "/mount/repo/Proj_ENCODE_FCC/results/assay_fcc/STARR_WHG_K562_Reddy_A001/fragment_counts/summary/metadata.tsv \n",
      "FName\tAssay\tPrefix\tGroup\tSample \n",
      "WSTARRseq_K562_A001.hg38.Input.rep1.WGS.unstranded.bed.gz\tSTARR_WHG_K562_Reddy_A001\tWSTARRseq_K562_A001\tInput\tInput.rep1 \n",
      "WSTARRseq_K562_A001.hg38.Input.rep2.WGS.unstranded.bed.gz\tSTARR_WHG_K562_Reddy_A001\tWSTARRseq_K562_A001\tInput\tInput.rep2 \n",
      "WSTARRseq_K562_A001.hg38.Input.rep3.WGS.unstranded.bed.gz\tSTARR_WHG_K562_Reddy_A001\tWSTARRseq_K562_A001\tInput\tInput.rep3 \n",
      "WSTARRseq_K562_A001.hg38.Input.rep4.WGS.unstranded.bed.gz\tSTARR_WHG_K562_Reddy_A001\tWSTARRseq_K562_A001\tInput\tInput.rep4 \n",
      "WSTARRseq_K562_A001.hg38.Output.rep1.WGS.unstranded.bed.gz\tSTARR_WHG_K562_Reddy_A001\tWSTARRseq_K562_A001\tOutput\tOutput.rep1 \n",
      "WSTARRseq_K562_A001.hg38.Output.rep2.WGS.unstranded.bed.gz\tSTARR_WHG_K562_Reddy_A001\tWSTARRseq_K562_A001\tOutput\tOutput.rep2 \n",
      "WSTARRseq_K562_A001.hg38.Output.rep3.WGS.unstranded.bed.gz\tSTARR_WHG_K562_Reddy_A001\tWSTARRseq_K562_A001\tOutput\tOutput.rep3 \n",
      "\n"
     ]
    }
   ],
   "source": [
    "txt_fdiry = file.path(FD_RES, \"assay_fcc\", \"STARR*\", \"fragment_counts\", \"summary\")\n",
    "txt_fname = \"metadata.tsv\"\n",
    "txt_fglob = file.path(txt_fdiry, txt_fname)\n",
    "\n",
    "vec_txt_fpath = Sys.glob(txt_fglob)\n",
    "for (txt_fpath in vec_txt_fpath){\n",
    "    cat(txt_fpath, \"\\n\")\n",
    "    txt_cmd = paste(\"cat\", txt_fpath)\n",
    "    \n",
    "    vec = system(txt_cmd, intern = TRUE)\n",
    "    for (txt in vec){\n",
    "        cat(txt, \"\\n\")\n",
    "    }\n",
    "    cat(\"\\n\")\n",
    "}"
   ]
  },
  {
   "cell_type": "code",
   "execution_count": null,
   "id": "4939b4c1-a6a0-43bc-9261-2619151382f8",
   "metadata": {},
   "outputs": [],
   "source": []
  }
 ],
 "metadata": {
  "kernelspec": {
   "display_name": "R",
   "language": "R",
   "name": "ir"
  },
  "language_info": {
   "codemirror_mode": "r",
   "file_extension": ".r",
   "mimetype": "text/x-r-source",
   "name": "R",
   "pygments_lexer": "r",
   "version": "4.4.0"
  }
 },
 "nbformat": 4,
 "nbformat_minor": 5
}
