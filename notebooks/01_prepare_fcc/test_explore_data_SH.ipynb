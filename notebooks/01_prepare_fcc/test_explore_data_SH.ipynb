{
 "cells": [
  {
   "cell_type": "markdown",
   "id": "0eb92a5c-ce70-4558-8e3e-6571e1504110",
   "metadata": {},
   "source": [
    "**Set environment**"
   ]
  },
  {
   "cell_type": "code",
   "execution_count": 1,
   "id": "15a52ab8-68d0-4cb0-a8e1-092a58ac1134",
   "metadata": {},
   "outputs": [
    {
     "name": "stdout",
     "output_type": "stream",
     "text": [
      "You are working on             Duke Server: HARDAC\n",
      "BASE DIRECTORY (FD_BASE):      /data/reddylab/Kuei\n",
      "REPO DIRECTORY (FD_REPO):      /data/reddylab/Kuei/repo\n",
      "WORK DIRECTORY (FD_WORK):      /data/reddylab/Kuei/work\n",
      "DATA DIRECTORY (FD_DATA):      /data/reddylab/Kuei/data\n",
      "CONTAINER DIR. (FD_SING):      /data/reddylab/Kuei/container\n",
      "\n",
      "You are working with           ENCODE FCC\n",
      "PATH OF PROJECT (FD_PRJ):      /data/reddylab/Kuei/repo/Proj_ENCODE_FCC\n",
      "PROJECT RESULTS (FD_RES):      /data/reddylab/Kuei/repo/Proj_ENCODE_FCC/results\n",
      "PROJECT SCRIPTS (FD_EXE):      /data/reddylab/Kuei/repo/Proj_ENCODE_FCC/scripts\n",
      "PROJECT DATA    (FD_DAT):      /data/reddylab/Kuei/repo/Proj_ENCODE_FCC/data\n",
      "PROJECT NOTE    (FD_NBK):      /data/reddylab/Kuei/repo/Proj_ENCODE_FCC/notebooks\n",
      "PROJECT DOCS    (FD_DOC):      /data/reddylab/Kuei/repo/Proj_ENCODE_FCC/docs\n",
      "PROJECT LOG     (FD_LOG):      /data/reddylab/Kuei/repo/Proj_ENCODE_FCC/log\n",
      "PROJECT APP     (FD_APP):      /data/reddylab/Kuei/repo/Proj_ENCODE_FCC/app\n",
      "PROJECT REF     (FD_REF):      /data/reddylab/Kuei/repo/Proj_ENCODE_FCC/references\n",
      "PROJECT IMAGE   (FP_PRJ_SIF):  /data/reddylab/Kuei/repo/Proj_ENCODE_FCC/app/singularity_proj_encode_fcc.sif\n",
      "\n"
     ]
    }
   ],
   "source": [
    "source ../run_config_project.sh\n",
    "show_env"
   ]
  },
  {
   "cell_type": "markdown",
   "id": "e4a96148-6627-4c36-a635-f2a4fbfe0c8e",
   "metadata": {},
   "source": [
    "## Reference files"
   ]
  },
  {
   "cell_type": "code",
   "execution_count": 3,
   "id": "c3b26807-18bd-468e-9db2-a7f7c0266b8c",
   "metadata": {},
   "outputs": [
    {
     "name": "stdout",
     "output_type": "stream",
     "text": [
      "/data/reddylab/Kuei/repo/Proj_ENCODE_FCC/references\n",
      "\u001b[0m\u001b[38;5;27mencode_chipseq_flagship\u001b[0m\n",
      "\u001b[38;5;27mencode_chipseq_histone\u001b[0m\n",
      "\u001b[38;5;27mencode_chipseq_subset\u001b[0m\n",
      "\u001b[38;5;27mencode_chromatin_states\u001b[0m\n",
      "\u001b[38;5;27mencode_crispri_hcrff\u001b[0m\n",
      "\u001b[38;5;27mencode_e2g_benchmark\u001b[0m\n",
      "\u001b[38;5;27mencode_e2g_prediction\u001b[0m\n",
      "\u001b[38;5;27mencode_open_chromatin\u001b[0m\n",
      "\u001b[38;5;27mencode_rnaseq\u001b[0m\n",
      "\u001b[38;5;27mfcc_genome_tss\u001b[0m\n",
      "\u001b[38;5;27mfcc_peak_call_atac\u001b[0m\n",
      "\u001b[38;5;27mfcc_peak_call_cres\u001b[0m\n",
      "\u001b[38;5;27mfcc_trackhub_JinWoo\u001b[0m\n",
      "\u001b[38;5;27mTF_modules_Shannon\u001b[0m\n"
     ]
    }
   ],
   "source": [
    "echo  ${FD_REF}\n",
    "ls -1 ${FD_REF}"
   ]
  },
  {
   "cell_type": "markdown",
   "id": "415630c1-f954-4ede-bb32-1be1a8d6804e",
   "metadata": {},
   "source": [
    "## External data files"
   ]
  },
  {
   "cell_type": "code",
   "execution_count": 4,
   "id": "a4e07b0e-d3f7-47b0-b64f-b6d3783d51e6",
   "metadata": {},
   "outputs": [
    {
     "name": "stdout",
     "output_type": "stream",
     "text": [
      "/data/reddylab/Kuei/repo/Proj_ENCODE_FCC/data/external\n",
      "chrom.list.main\n",
      "chrom.sizes.hg19\n",
      "chrom.sizes.hg38\n",
      "\u001b[0m\u001b[38;5;27mencode_chipseq_flagship\u001b[0m\n",
      "\u001b[38;5;27mencode_chipseq_histone\u001b[0m\n",
      "\u001b[38;5;27mencode_chipseq_subset\u001b[0m\n",
      "\u001b[38;5;27mencode_chromatin_states\u001b[0m\n",
      "\u001b[38;5;27mencode_crispri_hcrff\u001b[0m\n",
      "\u001b[38;5;27mencode_open_chromatin\u001b[0m\n",
      "\u001b[38;5;27mhic_intact_K562_deep\u001b[0m\n"
     ]
    }
   ],
   "source": [
    "echo  ${FD_DAT}/external\n",
    "ls -1 ${FD_DAT}/external"
   ]
  },
  {
   "cell_type": "code",
   "execution_count": null,
   "id": "0949ceed-c61a-4629-88ff-a08da842ef3c",
   "metadata": {},
   "outputs": [],
   "source": []
  },
  {
   "cell_type": "code",
   "execution_count": 4,
   "id": "84d24152-10fe-4dca-8f65-7dbc6e7a086e",
   "metadata": {},
   "outputs": [
    {
     "name": "stdout",
     "output_type": "stream",
     "text": [
      "\u001b[0m\u001b[38;5;27mdata\u001b[0m  Readme.md  \u001b[38;5;9mresults_v1.tar.gz\u001b[0m  \u001b[38;5;9mresults_v3.tar.gz\u001b[0m  \u001b[38;5;27msource\u001b[0m\n",
      "\u001b[38;5;27mlog\u001b[0m   \u001b[38;5;27mresults\u001b[0m    \u001b[38;5;9mresults_v2.tar.gz\u001b[0m  \u001b[38;5;27mresults_v4\u001b[0m\n"
     ]
    }
   ],
   "source": [
    "ls ${FD_WORK}/proj_encode_fcc"
   ]
  },
  {
   "cell_type": "code",
   "execution_count": 5,
   "id": "083725f1-299a-459b-bbb2-177695ccc068",
   "metadata": {},
   "outputs": [
    {
     "name": "stdout",
     "output_type": "stream",
     "text": [
      "\u001b[0m\u001b[38;5;27mA001_K562_wstarrseq_fragments\u001b[0m\n",
      "\u001b[38;5;27mA001_K562_wstarrseq_fragments_wgs\u001b[0m\n",
      "\u001b[38;5;27mannotation_cCREs\u001b[0m\n",
      "\u001b[38;5;27mannotation_chipseq_histone\u001b[0m\n",
      "\u001b[38;5;27mannotation_chipseq_tf\u001b[0m\n",
      "\u001b[38;5;27mannotation_chromHMM\u001b[0m\n",
      "\u001b[38;5;27mannotation_enhancer_junke\u001b[0m\n",
      "\u001b[38;5;27mannotation_enhancer_junke_zscore\u001b[0m\n",
      "\u001b[38;5;27mannotation_enhancer_junke_zscore_prev\u001b[0m\n",
      "\u001b[38;5;27mannotation_gencode\u001b[0m\n",
      "\u001b[38;5;27mannotation_gene\u001b[0m\n",
      "\u001b[38;5;27mannotation_remap2022\u001b[0m\n",
      "\u001b[38;5;27mannotation_starrseq_negative_control_junke\u001b[0m\n",
      "chrom.sizes.hg19\n",
      "chrom.sizes.hg38\n",
      "\u001b[38;5;27mCRISPRi_FlowFISH\u001b[0m\n",
      "\u001b[38;5;27mCRISPRi_growth\u001b[0m\n",
      "\u001b[38;5;27mENCODE_E2G\u001b[0m\n",
      "\u001b[38;5;27mhic_insitu_GM12878\u001b[0m\n",
      "\u001b[38;5;27mhic_intact_K562_ENCSR479XDG\u001b[0m\n",
      "\u001b[38;5;27mKS91_K562_astarrseq_fragments_220510\u001b[0m\n",
      "\u001b[38;5;27mKS91_K562_astarrseq_fragments_wgs\u001b[0m\n",
      "\u001b[38;5;27mKS91_K562_astarrseq_peak_macs\u001b[0m\n",
      "\u001b[38;5;27mMPRA\u001b[0m\n",
      "Readme.md\n",
      "\u001b[38;5;27mRNAseq\u001b[0m\n",
      "\u001b[38;5;27mTF_modules\u001b[0m\n",
      "\u001b[38;5;27mtmp\u001b[0m\n"
     ]
    }
   ],
   "source": [
    "ls ${FD_WORK}/proj_encode_fcc/source/"
   ]
  },
  {
   "cell_type": "code",
   "execution_count": 7,
   "id": "741b9434-b9eb-4c4a-90e0-83ac947a27d6",
   "metadata": {},
   "outputs": [
    {
     "name": "stdout",
     "output_type": "stream",
     "text": [
      "\u001b[0m\u001b[38;5;27mexternal\u001b[0m  \u001b[38;5;27mprocessed\u001b[0m\n"
     ]
    }
   ],
   "source": [
    "ls ${FD_WORK}/proj_encode_fcc/data"
   ]
  },
  {
   "cell_type": "code",
   "execution_count": 10,
   "id": "5ec8a7ce-81e7-4fd7-9916-8c70e76a16dd",
   "metadata": {},
   "outputs": [
    {
     "name": "stdout",
     "output_type": "stream",
     "text": [
      "\u001b[0m\u001b[38;5;27mencode_chipseq_flagship\u001b[0m  \u001b[38;5;27mencode_e2g_benchmark\u001b[0m   \u001b[38;5;27mfcc_peak_call_cres\u001b[0m\n",
      "\u001b[38;5;27mencode_chipseq_histone\u001b[0m   \u001b[38;5;27mencode_e2g_prediction\u001b[0m  \u001b[38;5;27mfcc_trackhub_JinWoo\u001b[0m\n",
      "\u001b[38;5;27mencode_chipseq_subset\u001b[0m    \u001b[38;5;27mencode_open_chromatin\u001b[0m  \u001b[38;5;27mTF_modules_Shannon\u001b[0m\n",
      "\u001b[38;5;27mencode_chromatin_states\u001b[0m  \u001b[38;5;27mfcc_genome_tss\u001b[0m\n",
      "\u001b[38;5;27mencode_crispri_hcrff\u001b[0m     \u001b[38;5;27mfcc_peak_call_atac\u001b[0m\n"
     ]
    }
   ],
   "source": [
    "ls ${FD_REPO}/Proj_ENCODE_FCC/references"
   ]
  },
  {
   "cell_type": "code",
   "execution_count": 20,
   "id": "a055d225-1ddf-4da8-bb3f-137379029632",
   "metadata": {},
   "outputs": [
    {
     "name": "stdout",
     "output_type": "stream",
     "text": [
      "\u001b[0m\u001b[38;5;27mannotation_e2g_benchmark_ENCSR998YDI\u001b[0m\n",
      "\u001b[38;5;27mannotation_e2g_prediction_ENCSR328LMT\u001b[0m\n",
      "EPCrisprBenchmark_ensemble_data_GRCh38.filtered.tsv\n",
      "\u001b[38;5;9mEPCrisprBenchmark_ensemble_data_GRCh38.filtered.tsv.gz\u001b[0m\n",
      "EPCrisprBenchmark_ensemble_data_GRCh38.tsv\n",
      "\u001b[38;5;9mEPCrisprBenchmark_ensemble_data_GRCh38.tsv.gz\u001b[0m\n",
      "Readme.md\n",
      "RefSeqCurated.170308.bed.CollapsedGeneBounds.hg38.TSS500bp.bed\n"
     ]
    }
   ],
   "source": [
    "ls ${FD_WORK}/proj_encode_fcc/source/ENCODE_E2G"
   ]
  },
  {
   "cell_type": "code",
   "execution_count": 22,
   "id": "b33e0a93-7012-41f6-8ace-4057a7962b5e",
   "metadata": {},
   "outputs": [
    {
     "name": "stdout",
     "output_type": "stream",
     "text": [
      "EPCrisprBenchmark_ensemble_data_GRCh38.filtered.tsv\n",
      "EPCrisprBenchmark_ensemble_data_GRCh38.tsv\n",
      "RefSeqCurated.170308.bed.CollapsedGeneBounds.hg38.TSS500bp.bed\n"
     ]
    }
   ],
   "source": [
    "#cp ${FD_WORK}/proj_encode_fcc/source/ENCODE_E2G/EPCrisprBenchmark*tsv ${FD_REPO}/Proj_ENCODE_FCC/references/encode_e2g_benchmark/\n",
    "#cp ${FD_WORK}/proj_encode_fcc/source/ENCODE_E2G/RefSeqCurated.170308.bed.CollapsedGeneBounds.hg38.TSS500bp.bed ${FD_REPO}/Proj_ENCODE_FCC/references/encode_e2g_benchmark/\n",
    "ls ${FD_REPO}/Proj_ENCODE_FCC/references/encode_e2g_benchmark/"
   ]
  },
  {
   "cell_type": "code",
   "execution_count": null,
   "id": "2ac118e7-c463-4f27-a991-6c92660c108c",
   "metadata": {},
   "outputs": [],
   "source": []
  },
  {
   "cell_type": "code",
   "execution_count": null,
   "id": "e15084f3-d2e5-4ae0-ba46-9b7027038c37",
   "metadata": {},
   "outputs": [],
   "source": []
  },
  {
   "cell_type": "code",
   "execution_count": 15,
   "id": "07c326f2-22bd-4412-b31a-2ca4f8d2eef8",
   "metadata": {},
   "outputs": [
    {
     "name": "stdout",
     "output_type": "stream",
     "text": [
      "-rw-rw-r-- 1 kk319 reddylab 1.9M Oct 27 10:11 /data/reddylab/Kuei/work/proj_encode_fcc/source/ENCODE_E2G/EPCrisprBenchmark_ensemble_data_GRCh38.filtered.tsv\n",
      "-rw-rw-r-- 1 kk319 reddylab 2.6M Jun  2  2023 /data/reddylab/Kuei/work/proj_encode_fcc/source/ENCODE_E2G/EPCrisprBenchmark_ensemble_data_GRCh38.tsv\n"
     ]
    }
   ],
   "source": [
    "ls -lh ${FD_WORK}/proj_encode_fcc/source/ENCODE_E2G/EPCrisprBenchmark*tsv"
   ]
  },
  {
   "cell_type": "code",
   "execution_count": 16,
   "id": "ce82b3d9-3bb4-4638-9427-deca01fa1f9c",
   "metadata": {},
   "outputs": [
    {
     "name": "stdout",
     "output_type": "stream",
     "text": [
      "chrom\tchromStart\tchromEnd\tname\tEffectSize\tchrTSS\tstartTSS\tendTSS\tmeasuredGeneSymbol\tSignificant\tpValueAdjusted\tPowerAtEffectSize10\tPowerAtEffectSize15\tPowerAtEffectSize20\tPowerAtEffectSize25\tPowerAtEffectSize50\tValidConnection\tCellType\tReference\tRegulated\tDataset\n",
      "chr1\t3774714\t3775214\tCEP104|chr1:3691278-3691778:*\t-0.293431866\tchr1\t3857213\t3857214\tCEP104\tTRUE\t0.004023984\tNA\tNA\tNA\t0.825093632\tNA\tTRUE\tK562\tUlirsch2016\tTRUE\tFlowFISH_K562\n",
      "chr1\t3774714\t3775214\tLRRC47|chr1:3691278-3691778:*\t-0.331178093\tchr1\t3796503\t3796504\tLRRC47\tTRUE\t0.007771168\tNA\tNA\tNA\t0.608994236\tNA\tTRUE\tK562\tUlirsch2016\tTRUE\tFlowFISH_K562\n",
      "chr1\t3803570\t3805848\tLRRC47|chr1:3720134-3722412:.\t-0.00147126515217055\tchr1\t3796503\t3796504\tLRRC47\tFALSE\t0.9999184308772658\t0.4\t0.8\t0.85\t1\t1\tTRUE\tK562\tGasperini et al., 2019\tFALSE\tGasperini2019\n",
      "chr1\t3774714\t3775214\tSMIM1|chr1:3691278-3691778:*\t-0.472019217\tchr1\t3772761\t3772762\tSMIM1\tTRUE\t6.41649e-4\tNA\tNA\tNA\t0.639332272\tNA\tTRUE\tK562\tUlirsch2016\tTRUE\tFlowFISH_K562\n",
      "chr1\t3803570\t3805848\tSMIM1|chr1:3720134-3722412:.\t0.02567692399390253\tchr1\t3772788\t3772789\tSMIM1\tFALSE\t0.9941596811394542\t0.8\t0.85\t1\t1\t1\tTRUE\tK562\tGasperini et al., 2019\tFALSE\tGasperini2019\n",
      "chr1\t4126791\t4127291\tSMIM1|chr1:4186851-4187351:.\t0.02338378715953637\tchr1\t3772788\t3772789\tSMIM1\tFALSE\t0.9921971323687782\t0.55\t0.8\t0.9\t0.95\t1\tTRUE\tK562\tGasperini et al., 2019\tFALSE\tGasperini2019\n",
      "chr1\t5304578\t5305078\tRPL22|chr1:5364638-5365138:.\t0.02672188376700024\tchr1\t6209388\t6209389\tRPL22\tFALSE\t0.9900788705853496\t0.65\t0.8\t0.9\t0.9\t1\tTRUE\tK562\tGasperini et al., 2019\tFALSE\tGasperini2019\n",
      "chr1\t8197448\t8198244\tPARK7|chr1:8257508-8258304:.\t-0.01987717740799877\tchr1\t7954291\t7954292\tPARK7\tFALSE\t0.9559057531515024\t0.6\t0.8\t0.95\t1\t1\tTRUE\tK562\tGasperini et al., 2019\tFALSE\tGasperini2019\n",
      "chr1\t8899850\t8900350\tPARK7|chr1:8959909-8960409:.\t-0.0418823955064419\tchr1\t7954291\t7954292\tPARK7\tFALSE\t0.9596329673011406\t0.6\t0.85\t0.95\t1\t1\tTRUE\tK562\tGasperini et al., 2019\tFALSE\tGasperini2019\n"
     ]
    }
   ],
   "source": [
    "head ${FD_WORK}/proj_encode_fcc/source/ENCODE_E2G/EPCrisprBenchmark_ensemble_data_GRCh38.filtered.tsv"
   ]
  },
  {
   "cell_type": "code",
   "execution_count": 7,
   "id": "747e2280-3872-4238-ae07-0f93e6480bad",
   "metadata": {},
   "outputs": [
    {
     "name": "stdout",
     "output_type": "stream",
     "text": [
      "\u001b[0m\u001b[38;5;27mencode_ccres\u001b[0m              \u001b[38;5;27mencode_chromhmm\u001b[0m        \u001b[38;5;27mfcc_astarr_macs\u001b[0m\n",
      "\u001b[38;5;27mencode_ccres_silencer\u001b[0m     \u001b[38;5;27mencode_open_chromatin\u001b[0m  \u001b[38;5;27msummary\u001b[0m\n",
      "\u001b[38;5;27mencode_chipseq_tf_subset\u001b[0m  \u001b[38;5;27mfcc_astarr_csaw\u001b[0m\n"
     ]
    }
   ],
   "source": [
    "ls ${FD_RES}/region"
   ]
  },
  {
   "cell_type": "code",
   "execution_count": null,
   "id": "40e5e9e0-d6b1-4fb5-9796-a8e0ac75b2f7",
   "metadata": {},
   "outputs": [],
   "source": []
  }
 ],
 "metadata": {
  "kernelspec": {
   "display_name": "Bash",
   "language": "bash",
   "name": "bash"
  },
  "language_info": {
   "codemirror_mode": "shell",
   "file_extension": ".sh",
   "mimetype": "text/x-sh",
   "name": "bash"
  }
 },
 "nbformat": 4,
 "nbformat_minor": 5
}
