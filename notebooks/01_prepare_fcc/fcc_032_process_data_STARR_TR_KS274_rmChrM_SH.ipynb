{
 "cells": [
  {
   "cell_type": "raw",
   "id": "a40ddc23-5dfb-4193-b786-db4dd16f871b",
   "metadata": {},
   "source": [
    "---\n",
    "title: Prepare STARR-seq data 033\n",
    "subtitle: Prepare ATAC-STARR KS274 files: remove MT\n",
    "format:\n",
    "    html:\n",
    "        code-fold:  true\n",
    "        code-tools: true\n",
    "---"
   ]
  },
  {
   "cell_type": "markdown",
   "id": "b6c23fce-5eeb-4fd2-9fda-ef6fd47ceea4",
   "metadata": {},
   "source": [
    "**Set environment**"
   ]
  },
  {
   "cell_type": "code",
   "execution_count": 1,
   "id": "62e6069a-747a-4bf5-b28c-63d6d203ec7f",
   "metadata": {},
   "outputs": [
    {
     "name": "stdout",
     "output_type": "stream",
     "text": [
      "You are working on             Duke Server: HARDAC\n",
      "BASE DIRECTORY (FD_BASE):      /data/reddylab/Kuei\n",
      "REPO DIRECTORY (FD_REPO):      /data/reddylab/Kuei/repo\n",
      "WORK DIRECTORY (FD_WORK):      /data/reddylab/Kuei/work\n",
      "DATA DIRECTORY (FD_DATA):      /data/reddylab/Kuei/data\n",
      "CONTAINER DIR. (FD_SING):      /data/reddylab/Kuei/container\n",
      "\n",
      "You are working with           ENCODE FCC\n",
      "PATH OF PROJECT (FD_PRJ):      /data/reddylab/Kuei/repo/Proj_ENCODE_FCC\n",
      "PROJECT RESULTS (FD_RES):      /data/reddylab/Kuei/repo/Proj_ENCODE_FCC/results\n",
      "PROJECT SCRIPTS (FD_EXE):      /data/reddylab/Kuei/repo/Proj_ENCODE_FCC/scripts\n",
      "PROJECT DATA    (FD_DAT):      /data/reddylab/Kuei/repo/Proj_ENCODE_FCC/data\n",
      "PROJECT NOTE    (FD_NBK):      /data/reddylab/Kuei/repo/Proj_ENCODE_FCC/notebooks\n",
      "PROJECT DOCS    (FD_DOC):      /data/reddylab/Kuei/repo/Proj_ENCODE_FCC/docs\n",
      "PROJECT LOG     (FD_LOG):      /data/reddylab/Kuei/repo/Proj_ENCODE_FCC/log\n",
      "PROJECT APP     (FD_APP):      \n",
      "PROJECT REF     (FD_REF):      /data/reddylab/Kuei/repo/Proj_ENCODE_FCC/references\n",
      "PROJECT IMAGE   (FP_PRJ_SIF):  /data/reddylab/Kuei/container/project/singularity_proj_encode_fcc.sif\n",
      "\n"
     ]
    }
   ],
   "source": [
    "source ../run_config_project.sh\n",
    "show_env"
   ]
  },
  {
   "cell_type": "markdown",
   "id": "fa7185f0-7a15-4813-8f5b-e7c722a0f2e8",
   "metadata": {},
   "source": [
    "## Prepare"
   ]
  },
  {
   "cell_type": "markdown",
   "id": "fac171c5-fee2-4d93-824b-cf55abd01773",
   "metadata": {},
   "source": [
    "**Check data**"
   ]
  },
  {
   "cell_type": "code",
   "execution_count": 2,
   "id": "7a47547b-bfba-410a-a265-135cd69cd9bf",
   "metadata": {},
   "outputs": [
    {
     "name": "stdout",
     "output_type": "stream",
     "text": [
      "/data/reddylab/Kuei/repo/Proj_ENCODE_FCC/data/processed/STARR_ATAC_K562_Reddy_KS274_240311:\n",
      "\u001b[0m\u001b[38;5;27mfragments\u001b[0m\n",
      "\n",
      "/data/reddylab/Kuei/repo/Proj_ENCODE_FCC/data/processed/STARR_ATAC_K562_Reddy_KS91_210401:\n",
      "\u001b[38;5;27mfragments\u001b[0m  \u001b[38;5;27mpeaks\u001b[0m  \u001b[38;5;27msummary\u001b[0m\n"
     ]
    }
   ],
   "source": [
    "ls ${FD_DAT}/processed/STARR_ATAC*"
   ]
  },
  {
   "cell_type": "code",
   "execution_count": 3,
   "id": "cc08598e-f0ac-469b-9056-e941fb8dca28",
   "metadata": {},
   "outputs": [
    {
     "name": "stdout",
     "output_type": "stream",
     "text": [
      "/data/reddylab/Kuei/repo/Proj_ENCODE_FCC/data/processed/STARR_ATAC_K562_Reddy_KS274_240311/fragments\n",
      "\n",
      "K562_ASTARR_repeat_rep1.f3q10.fragments.counts.txt.gz\n",
      "K562_ASTARR_repeat_rep2.f3q10.fragments.counts.txt.gz\n",
      "K562_ASTARR_repeat_rep3.f3q10.fragments.counts.txt.gz\n"
     ]
    }
   ],
   "source": [
    "FDIRY=${FD_DAT}/processed/STARR_ATAC_K562_Reddy_KS274_240311/fragments\n",
    "echo ${FDIRY}\n",
    "echo\n",
    "ls   ${FDIRY}/*.fragments.counts.txt.gz | xargs -n 1 basename"
   ]
  },
  {
   "cell_type": "markdown",
   "id": "547bcd85-b8d3-40e8-a942-320c10294c84",
   "metadata": {},
   "source": [
    "**Test: Remove ChrM**"
   ]
  },
  {
   "cell_type": "code",
   "execution_count": 4,
   "id": "36830a88-49f5-40f6-aa45-78fd0bbfe8cf",
   "metadata": {},
   "outputs": [
    {
     "name": "stdout",
     "output_type": "stream",
     "text": [
      "chr1\t10\t20\tchr1:10-20\n",
      "chr1\t15\t20\tchr1:15-20\n",
      "chrM\t20\t40\tchrM:20-40\n"
     ]
    }
   ],
   "source": [
    "TAB=\"$(printf '\\t')\"\n",
    "\n",
    "cat > A.bed << EOF\n",
    "chr1${TAB}10${TAB}20${TAB}chr1:10-20\n",
    "chr1${TAB}15${TAB}20${TAB}chr1:15-20\n",
    "chrM${TAB}20${TAB}40${TAB}chrM:20-40\n",
    "EOF\n",
    "\n",
    "cat A.bed"
   ]
  },
  {
   "cell_type": "code",
   "execution_count": 5,
   "id": "c51842c4-7065-4a8b-b996-5b52adb3e24a",
   "metadata": {},
   "outputs": [
    {
     "name": "stdout",
     "output_type": "stream",
     "text": [
      "\u001b[01;31m\u001b[KchrM\u001b[m\u001b[K\t20\t40\tchrM:20-40\n"
     ]
    }
   ],
   "source": [
    "cat A.bed | grep ^chrM"
   ]
  },
  {
   "cell_type": "code",
   "execution_count": 6,
   "id": "1c191970-17ee-448c-9a76-7e74d5600972",
   "metadata": {},
   "outputs": [
    {
     "name": "stdout",
     "output_type": "stream",
     "text": [
      "chr1\t10\t20\tchr1:10-20\n",
      "chr1\t15\t20\tchr1:15-20\n"
     ]
    }
   ],
   "source": [
    "cat A.bed | grep -v ^chrM"
   ]
  },
  {
   "cell_type": "markdown",
   "id": "57b406d2-74a5-4d76-a1a1-a59fc9a1b6c8",
   "metadata": {},
   "source": [
    "## Execute"
   ]
  },
  {
   "cell_type": "markdown",
   "id": "b1963ec6-8ecb-401b-9456-72ea5f33ea89",
   "metadata": {},
   "source": [
    "**Run: Loop each fragment file and output fragment counts**"
   ]
  },
  {
   "cell_type": "code",
   "execution_count": 7,
   "id": "f5225108-bc83-445b-ae17-8d5dd151e703",
   "metadata": {},
   "outputs": [],
   "source": [
    "FD_INP=${FD_DAT}/processed/STARR_ATAC_K562_Reddy_KS274_240311/fragments\n",
    "FD_OUT=${FD_INP}\n",
    "\n",
    "FN_INPS=(\n",
    "    K562_ASTARR_repeat_rep1.f3q10.fragments.counts.txt.gz\n",
    "    K562_ASTARR_repeat_rep2.f3q10.fragments.counts.txt.gz\n",
    "    K562_ASTARR_repeat_rep3.f3q10.fragments.counts.txt.gz\n",
    ")\n",
    "\n",
    "FN_OUTS=(\n",
    "    K562_ASTARR_repeat_rep1.f3q10.fragments.counts.rmChrM.txt.gz\n",
    "    K562_ASTARR_repeat_rep2.f3q10.fragments.counts.rmChrM.txt.gz\n",
    "    K562_ASTARR_repeat_rep3.f3q10.fragments.counts.rmChrM.txt.gz\n",
    ")"
   ]
  },
  {
   "cell_type": "code",
   "execution_count": 8,
   "id": "d510bbaf-a489-4140-b406-7d339c6f8381",
   "metadata": {},
   "outputs": [
    {
     "name": "stdout",
     "output_type": "stream",
     "text": [
      "Remove mitochondria fragments...\n",
      "K562_ASTARR_repeat_rep1.f3q10.fragments.counts.txt.gz\n",
      "K562_ASTARR_repeat_rep1.f3q10.fragments.counts.rmChrM.txt.gz\n",
      "fragment.rmChrM.K562_ASTARR_repeat_rep1.f3q10.fragments.counts.txt.gz.txt\n",
      "Submitted batch job 30804729\n",
      "\n",
      "Remove mitochondria fragments...\n",
      "K562_ASTARR_repeat_rep2.f3q10.fragments.counts.txt.gz\n",
      "K562_ASTARR_repeat_rep2.f3q10.fragments.counts.rmChrM.txt.gz\n",
      "fragment.rmChrM.K562_ASTARR_repeat_rep2.f3q10.fragments.counts.txt.gz.txt\n",
      "Submitted batch job 30804730\n",
      "\n",
      "Remove mitochondria fragments...\n",
      "K562_ASTARR_repeat_rep3.f3q10.fragments.counts.txt.gz\n",
      "K562_ASTARR_repeat_rep3.f3q10.fragments.counts.rmChrM.txt.gz\n",
      "fragment.rmChrM.K562_ASTARR_repeat_rep3.f3q10.fragments.counts.txt.gz.txt\n",
      "Submitted batch job 30804731\n",
      "\n"
     ]
    }
   ],
   "source": [
    "for idx in \"${!FN_INPS[@]}\"; do\n",
    "    FN_INP=${FN_INPS[idx]}\n",
    "    FN_OUT=${FN_OUTS[idx]}\n",
    "    FN_LOG=fragment.rmChrM.${FN_INP}.txt\n",
    "    \n",
    "    FP_INP=${FD_INP}/${FN_INP}\n",
    "    FP_OUT=${FD_OUT}/${FN_OUT}\n",
    "    FP_LOG=${FD_LOG}/${FN_LOG}\n",
    "    \n",
    "    echo \"Remove mitochondria fragments...\"\n",
    "    echo ${FN_INP}\n",
    "    echo ${FN_OUT}\n",
    "    echo ${FN_LOG}\n",
    "    \n",
    "    sbatch -p ${NODE} \\\n",
    "        --exclude=dl-01   \\\n",
    "        --cpus-per-task 4 \\\n",
    "        --mem 4G \\\n",
    "        --output ${FP_LOG} \\\n",
    "        --export=FD_PRJ=${FD_PRJ},FP_INP=${FP_INP},FP_OUT=${FP_OUT} \\\n",
    "        <<'EOF'\n",
    "#!/bin/bash\n",
    "### set environment\n",
    "source ${FD_PRJ}/scripts/config_project.sh\n",
    "\n",
    "### print start message\n",
    "timer_start=`date +%s`\n",
    "echo \"Hostname:          \" $(hostname)\n",
    "echo \"Slurm Array Index: \" ${SLURM_ARRAY_TASK_ID}\n",
    "echo \"Time Stamp:        \" $(date +\"%m-%d-%y+%T\")\n",
    "echo\n",
    "\n",
    "### show input file\n",
    "echo \"Input: \" ${FP_INP}\n",
    "echo\n",
    "echo \"show first few lines of input\"\n",
    "fun_cat ${FP_INP} | head\n",
    "echo\n",
    "\n",
    "### execute\n",
    "fun_cat ${FP_INP} | grep -v ^chrM | gzip -c > ${FP_OUT}\n",
    "\n",
    "### show output file\n",
    "echo \"Output: \" ${FP_OUT}\n",
    "echo\n",
    "echo \"show first few lines of output\"\n",
    "fun_cat ${FP_OUT} | head\n",
    "echo\n",
    "\n",
    "### print end message\n",
    "timer=`date +%s`\n",
    "runtime=$(echo \"${timer} - ${timer_start}\" | bc -l)\n",
    "echo\n",
    "echo 'Done!'\n",
    "echo \"Run Time: $(displaytime ${runtime})\"\n",
    "EOF\n",
    "    echo\n",
    "done"
   ]
  },
  {
   "cell_type": "markdown",
   "id": "19b0dc7d-7cd6-4a4f-b87c-d7880a0f2160",
   "metadata": {},
   "source": [
    "## Review"
   ]
  },
  {
   "cell_type": "markdown",
   "id": "3097f835-59a4-46d5-b43f-1fe251ee4a15",
   "metadata": {},
   "source": [
    "**Check results**"
   ]
  },
  {
   "cell_type": "code",
   "execution_count": 9,
   "id": "20b1fca6-89d6-443c-8f8a-f2cfb4dbe7c3",
   "metadata": {},
   "outputs": [
    {
     "name": "stdout",
     "output_type": "stream",
     "text": [
      "Hostname:           x2-07-3.genome.duke.edu\n",
      "Slurm Array Index: \n",
      "Time Stamp:         05-28-24+14:19:21\n",
      "\n",
      "Input:  /data/reddylab/Kuei/repo/Proj_ENCODE_FCC/data/processed/STARR_ATAC_K562_Reddy_KS274_240311/fragments/K562_ASTARR_repeat_rep1.f3q10.fragments.counts.txt.gz\n",
      "\n",
      "show first few lines of input\n",
      "chr1\t14145\t14485\tchr1:14145-14485\t2\t.\n",
      "chr1\t14243\t14498\tchr1:14243-14498\t1\t.\n",
      "chr1\t14454\t14729\tchr1:14454-14729\t1\t.\n",
      "chr1\t14522\t14725\tchr1:14522-14725\t1\t.\n",
      "chr1\t14599\t14850\tchr1:14599-14850\t1\t.\n",
      "chr1\t14659\t14864\tchr1:14659-14864\t2\t.\n",
      "chr1\t14781\t15268\tchr1:14781-15268\t1\t.\n",
      "chr1\t15172\t15659\tchr1:15172-15659\t1\t.\n",
      "chr1\t15503\t15729\tchr1:15503-15729\t3\t.\n",
      "chr1\t15508\t15711\tchr1:15508-15711\t4\t.\n",
      "\n",
      "Output:  /data/reddylab/Kuei/repo/Proj_ENCODE_FCC/data/processed/STARR_ATAC_K562_Reddy_KS274_240311/fragments/K562_ASTARR_repeat_rep1.f3q10.fragments.counts.rmChrM.txt.gz\n",
      "\n",
      "show first few lines of output\n",
      "chr1\t14145\t14485\tchr1:14145-14485\t2\t.\n",
      "chr1\t14243\t14498\tchr1:14243-14498\t1\t.\n",
      "chr1\t14454\t14729\tchr1:14454-14729\t1\t.\n",
      "chr1\t14522\t14725\tchr1:14522-14725\t1\t.\n",
      "chr1\t14599\t14850\tchr1:14599-14850\t1\t.\n",
      "chr1\t14659\t14864\tchr1:14659-14864\t2\t.\n",
      "chr1\t14781\t15268\tchr1:14781-15268\t1\t.\n",
      "chr1\t15172\t15659\tchr1:15172-15659\t1\t.\n",
      "chr1\t15503\t15729\tchr1:15503-15729\t3\t.\n",
      "chr1\t15508\t15711\tchr1:15508-15711\t4\t.\n",
      "\n",
      "\n",
      "Done!\n",
      "Run Time: 2 minutes and 12 seconds\n"
     ]
    }
   ],
   "source": [
    "cat ${FD_LOG}/fragment.rmChrM.K562_ASTARR_repeat_rep1.f3q10.fragments.counts.txt.gz.txt"
   ]
  },
  {
   "cell_type": "code",
   "execution_count": 10,
   "id": "a32b4e37-4bf9-4c16-8f37-7086b1063f1f",
   "metadata": {},
   "outputs": [
    {
     "name": "stdout",
     "output_type": "stream",
     "text": [
      "Hostname:           x2-02-3.genome.duke.edu\n",
      "Slurm Array Index: \n",
      "Time Stamp:         05-28-24+14:19:22\n",
      "\n",
      "Input:  /data/reddylab/Kuei/repo/Proj_ENCODE_FCC/data/processed/STARR_ATAC_K562_Reddy_KS274_240311/fragments/K562_ASTARR_repeat_rep2.f3q10.fragments.counts.txt.gz\n",
      "\n",
      "show first few lines of input\n",
      "chr1\t13055\t13163\tchr1:13055-13163\t1\t.\n",
      "chr1\t13236\t13481\tchr1:13236-13481\t1\t.\n",
      "chr1\t13253\t13495\tchr1:13253-13495\t1\t.\n",
      "chr1\t13261\t13479\tchr1:13261-13479\t1\t.\n",
      "chr1\t13314\t13500\tchr1:13314-13500\t1\t.\n",
      "chr1\t14449\t14642\tchr1:14449-14642\t1\t.\n",
      "chr1\t14449\t14645\tchr1:14449-14645\t2\t.\n",
      "chr1\t14452\t14620\tchr1:14452-14620\t1\t.\n",
      "chr1\t14452\t14679\tchr1:14452-14679\t1\t.\n",
      "chr1\t14482\t14709\tchr1:14482-14709\t1\t.\n",
      "\n",
      "Output:  /data/reddylab/Kuei/repo/Proj_ENCODE_FCC/data/processed/STARR_ATAC_K562_Reddy_KS274_240311/fragments/K562_ASTARR_repeat_rep2.f3q10.fragments.counts.rmChrM.txt.gz\n",
      "\n",
      "show first few lines of output\n",
      "chr1\t13055\t13163\tchr1:13055-13163\t1\t.\n",
      "chr1\t13236\t13481\tchr1:13236-13481\t1\t.\n",
      "chr1\t13253\t13495\tchr1:13253-13495\t1\t.\n",
      "chr1\t13261\t13479\tchr1:13261-13479\t1\t.\n",
      "chr1\t13314\t13500\tchr1:13314-13500\t1\t.\n",
      "chr1\t14449\t14642\tchr1:14449-14642\t1\t.\n",
      "chr1\t14449\t14645\tchr1:14449-14645\t2\t.\n",
      "chr1\t14452\t14620\tchr1:14452-14620\t1\t.\n",
      "chr1\t14452\t14679\tchr1:14452-14679\t1\t.\n",
      "chr1\t14482\t14709\tchr1:14482-14709\t1\t.\n",
      "\n",
      "\n",
      "Done!\n",
      "Run Time: 1 minutes and 51 seconds\n"
     ]
    }
   ],
   "source": [
    "cat ${FD_LOG}/fragment.rmChrM.K562_ASTARR_repeat_rep2.f3q10.fragments.counts.txt.gz.txt"
   ]
  },
  {
   "cell_type": "code",
   "execution_count": 11,
   "id": "80ae0edb-da4f-488a-98e5-658b6a0d993d",
   "metadata": {},
   "outputs": [
    {
     "name": "stdout",
     "output_type": "stream",
     "text": [
      "Hostname:           x2-03-2.genome.duke.edu\n",
      "Slurm Array Index: \n",
      "Time Stamp:         05-28-24+14:19:23\n",
      "\n",
      "Input:  /data/reddylab/Kuei/repo/Proj_ENCODE_FCC/data/processed/STARR_ATAC_K562_Reddy_KS274_240311/fragments/K562_ASTARR_repeat_rep3.f3q10.fragments.counts.txt.gz\n",
      "\n",
      "show first few lines of input\n",
      "chr1\t10421\t10570\tchr1:10421-10570\t1\t.\n",
      "chr1\t13044\t13243\tchr1:13044-13243\t2\t.\n",
      "chr1\t13303\t13459\tchr1:13303-13459\t1\t.\n",
      "chr1\t13483\t13661\tchr1:13483-13661\t1\t.\n",
      "chr1\t14091\t14513\tchr1:14091-14513\t1\t.\n",
      "chr1\t14129\t14468\tchr1:14129-14468\t1\t.\n",
      "chr1\t14191\t14755\tchr1:14191-14755\t1\t.\n",
      "chr1\t14231\t14498\tchr1:14231-14498\t1\t.\n",
      "chr1\t14449\t14971\tchr1:14449-14971\t1\t.\n",
      "chr1\t14452\t14620\tchr1:14452-14620\t1\t.\n",
      "\n",
      "Output:  /data/reddylab/Kuei/repo/Proj_ENCODE_FCC/data/processed/STARR_ATAC_K562_Reddy_KS274_240311/fragments/K562_ASTARR_repeat_rep3.f3q10.fragments.counts.rmChrM.txt.gz\n",
      "\n",
      "show first few lines of output\n",
      "chr1\t10421\t10570\tchr1:10421-10570\t1\t.\n",
      "chr1\t13044\t13243\tchr1:13044-13243\t2\t.\n",
      "chr1\t13303\t13459\tchr1:13303-13459\t1\t.\n",
      "chr1\t13483\t13661\tchr1:13483-13661\t1\t.\n",
      "chr1\t14091\t14513\tchr1:14091-14513\t1\t.\n",
      "chr1\t14129\t14468\tchr1:14129-14468\t1\t.\n",
      "chr1\t14191\t14755\tchr1:14191-14755\t1\t.\n",
      "chr1\t14231\t14498\tchr1:14231-14498\t1\t.\n",
      "chr1\t14449\t14971\tchr1:14449-14971\t1\t.\n",
      "chr1\t14452\t14620\tchr1:14452-14620\t1\t.\n",
      "\n",
      "\n",
      "Done!\n",
      "Run Time: 2 minutes and 27 seconds\n"
     ]
    }
   ],
   "source": [
    "cat ${FD_LOG}/fragment.rmChrM.K562_ASTARR_repeat_rep3.f3q10.fragments.counts.txt.gz.txt"
   ]
  },
  {
   "cell_type": "code",
   "execution_count": null,
   "id": "74d6085f-739f-407e-8ef2-305edd1c20f5",
   "metadata": {},
   "outputs": [],
   "source": []
  }
 ],
 "metadata": {
  "kernelspec": {
   "display_name": "Bash",
   "language": "bash",
   "name": "bash"
  },
  "language_info": {
   "codemirror_mode": "shell",
   "file_extension": ".sh",
   "mimetype": "text/x-sh",
   "name": "bash"
  }
 },
 "nbformat": 4,
 "nbformat_minor": 5
}
