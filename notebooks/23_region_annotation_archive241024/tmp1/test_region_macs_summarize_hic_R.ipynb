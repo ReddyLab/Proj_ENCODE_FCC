{
 "cells": [
  {
   "cell_type": "code",
   "execution_count": null,
   "id": "ca22907c-a41e-4cd2-a5b8-c499bc960974",
   "metadata": {},
   "outputs": [],
   "source": []
  },
  {
   "cell_type": "markdown",
   "id": "d88dd9fe-db5e-4268-91e0-e12d7e019ee1",
   "metadata": {},
   "source": [
    "**Set environment**"
   ]
  },
  {
   "cell_type": "code",
   "execution_count": 1,
   "id": "39b66e37-9ef5-4ae9-b032-e7a4b3a0d4a0",
   "metadata": {
    "tags": []
   },
   "outputs": [
    {
     "name": "stdout",
     "output_type": "stream",
     "text": [
      "You are working on        Singularity \n",
      "BASE DIRECTORY (FD_BASE): /mount \n",
      "REPO DIRECTORY (FD_REPO): /mount/repo \n",
      "WORK DIRECTORY (FD_WORK): /mount/work \n",
      "DATA DIRECTORY (FD_DATA): /mount/data \n",
      "\n",
      "You are working with      ENCODE FCC \n",
      "PATH OF PROJECT (FD_PRJ): /mount/repo/Proj_ENCODE_FCC \n",
      "PROJECT RESULTS (FD_RES): /mount/repo/Proj_ENCODE_FCC/results \n",
      "PROJECT SCRIPTS (FD_EXE): /mount/repo/Proj_ENCODE_FCC/scripts \n",
      "PROJECT DATA    (FD_DAT): /mount/repo/Proj_ENCODE_FCC/data \n",
      "PROJECT NOTE    (FD_NBK): /mount/repo/Proj_ENCODE_FCC/notebooks \n",
      "PROJECT DOCS    (FD_DOC): /mount/repo/Proj_ENCODE_FCC/docs \n",
      "PROJECT LOG     (FD_LOG): /mount/repo/Proj_ENCODE_FCC/log \n",
      "PROJECT APP     (FD_APP): /mount/repo/Proj_ENCODE_FCC/app \n",
      "PROJECT REF     (FD_REF): /mount/repo/Proj_ENCODE_FCC/references \n",
      "\n"
     ]
    }
   ],
   "source": [
    "suppressMessages(suppressWarnings(source(\"../run_config_project_sing.R\")))\n",
    "show_env()"
   ]
  },
  {
   "cell_type": "code",
   "execution_count": 2,
   "id": "fdb1df7a-edb6-4755-9a69-718b0f7c571f",
   "metadata": {},
   "outputs": [
    {
     "name": "stdout",
     "output_type": "stream",
     "text": [
      " [1] \"region.annotation.encode_chromatin_states.tsv\"    \n",
      " [2] \"region.annotation.fcc_astarr_csaw.tsv\"            \n",
      " [3] \"region.annotation.fcc_crispri_hcrff.tsv\"          \n",
      " [4] \"region.annotation.genome_tss.tsv\"                 \n",
      " [5] \"region.annotation.hic_insitu_K562_ENCSR545YBD.tsv\"\n",
      " [6] \"region.annotation.hic_intact_K562_deep.tsv\"       \n",
      " [7] \"region.annotation.hic_intact_K562_ENCSR479XDG.tsv\"\n",
      " [8] \"region.summary.encode_chipseq_flagship.tsv\"       \n",
      " [9] \"region.summary.encode_chipseq_histone.tsv\"        \n",
      "[10] \"region.summary.encode_chipseq_subset.tsv\"         \n",
      "[11] \"region.summary.encode_chromatin_states.tsv\"       \n",
      "[12] \"region.summary.fcc_astarr_csaw.tsv\"               \n",
      "[13] \"region.summary.fcc_crispri_hcrff.tsv\"             \n",
      "[14] \"region.summary.genome_tss.tsv\"                    \n",
      "[15] \"region.summary.hic_insitu_K562_ENCSR545YBD.tsv\"   \n",
      "[16] \"region.summary.hic_intact_K562_deep.tsv\"          \n",
      "[17] \"region.summary.hic_intact_K562_ENCSR479XDG.tsv\"   \n"
     ]
    }
   ],
   "source": [
    "txt_fdiry = file.path(\n",
    "    FD_RES, \n",
    "    \"region_annotation\", \n",
    "    \"fcc_astarr_macs_input_overlap\",\n",
    "    \"summary\"\n",
    ")\n",
    "vec = dir(txt_fdiry)\n",
    "print(vec)"
   ]
  },
  {
   "cell_type": "markdown",
   "id": "83e8b371-e809-4cc0-9e9a-68c328869e2c",
   "metadata": {},
   "source": [
    "## Import data"
   ]
  },
  {
   "cell_type": "code",
   "execution_count": 5,
   "id": "86ccf4ab-7d97-468f-97c4-e5a8b6825067",
   "metadata": {},
   "outputs": [
    {
     "name": "stdout",
     "output_type": "stream",
     "text": [
      "[1] 160863     14\n"
     ]
    },
    {
     "data": {
      "text/html": [
       "<table>\n",
       " <thead>\n",
       "  <tr>\n",
       "   <th style=\"text-align:left;\"> Chrom_A </th>\n",
       "   <th style=\"text-align:right;\"> ChromStart_A </th>\n",
       "   <th style=\"text-align:right;\"> ChromEnd_A </th>\n",
       "   <th style=\"text-align:left;\"> Chrom_B </th>\n",
       "   <th style=\"text-align:right;\"> ChromStart_B </th>\n",
       "   <th style=\"text-align:right;\"> ChromEnd_B </th>\n",
       "   <th style=\"text-align:left;\"> Name_B </th>\n",
       "   <th style=\"text-align:left;\"> Group_B </th>\n",
       "   <th style=\"text-align:left;\"> Label_B </th>\n",
       "   <th style=\"text-align:right;\"> Note_B </th>\n",
       "   <th style=\"text-align:left;\"> Region_A </th>\n",
       "   <th style=\"text-align:left;\"> Region_B </th>\n",
       "   <th style=\"text-align:left;\"> Annotation_A </th>\n",
       "   <th style=\"text-align:left;\"> Annotation_B </th>\n",
       "  </tr>\n",
       " </thead>\n",
       "<tbody>\n",
       "  <tr>\n",
       "   <td style=\"text-align:left;\"> chr1 </td>\n",
       "   <td style=\"text-align:right;\"> 778233 </td>\n",
       "   <td style=\"text-align:right;\"> 779389 </td>\n",
       "   <td style=\"text-align:left;\"> chr1 </td>\n",
       "   <td style=\"text-align:right;\"> 770000 </td>\n",
       "   <td style=\"text-align:right;\"> 780000 </td>\n",
       "   <td style=\"text-align:left;\"> chr1:770000-780000|chr1:840000-850000 </td>\n",
       "   <td style=\"text-align:left;\"> hic_intact </td>\n",
       "   <td style=\"text-align:left;\"> Loop_A </td>\n",
       "   <td style=\"text-align:right;\"> 1156 </td>\n",
       "   <td style=\"text-align:left;\"> chr1:778233-779389 </td>\n",
       "   <td style=\"text-align:left;\"> chr1:770000-780000 </td>\n",
       "   <td style=\"text-align:left;\"> fcc_astarr_macs_input_overlap </td>\n",
       "   <td style=\"text-align:left;\"> hic_intact_Loop_A_ENCSR479XDG </td>\n",
       "  </tr>\n",
       "  <tr>\n",
       "   <td style=\"text-align:left;\"> chr1 </td>\n",
       "   <td style=\"text-align:right;\"> 903783 </td>\n",
       "   <td style=\"text-align:right;\"> 905204 </td>\n",
       "   <td style=\"text-align:left;\"> chr1 </td>\n",
       "   <td style=\"text-align:right;\"> 904000 </td>\n",
       "   <td style=\"text-align:right;\"> 906000 </td>\n",
       "   <td style=\"text-align:left;\"> chr1:904000-906000|chr1:976000-978000 </td>\n",
       "   <td style=\"text-align:left;\"> hic_intact </td>\n",
       "   <td style=\"text-align:left;\"> Loop_A </td>\n",
       "   <td style=\"text-align:right;\"> 1204 </td>\n",
       "   <td style=\"text-align:left;\"> chr1:903783-905204 </td>\n",
       "   <td style=\"text-align:left;\"> chr1:904000-906000 </td>\n",
       "   <td style=\"text-align:left;\"> fcc_astarr_macs_input_overlap </td>\n",
       "   <td style=\"text-align:left;\"> hic_intact_Loop_A_ENCSR479XDG </td>\n",
       "  </tr>\n",
       "  <tr>\n",
       "   <td style=\"text-align:left;\"> chr1 </td>\n",
       "   <td style=\"text-align:right;\"> 920937 </td>\n",
       "   <td style=\"text-align:right;\"> 921509 </td>\n",
       "   <td style=\"text-align:left;\"> chr1 </td>\n",
       "   <td style=\"text-align:right;\"> 920000 </td>\n",
       "   <td style=\"text-align:right;\"> 925000 </td>\n",
       "   <td style=\"text-align:left;\"> chr1:920000-925000|chr1:1060000-1065000 </td>\n",
       "   <td style=\"text-align:left;\"> hic_intact </td>\n",
       "   <td style=\"text-align:left;\"> Loop_A </td>\n",
       "   <td style=\"text-align:right;\"> 572 </td>\n",
       "   <td style=\"text-align:left;\"> chr1:920937-921509 </td>\n",
       "   <td style=\"text-align:left;\"> chr1:920000-925000 </td>\n",
       "   <td style=\"text-align:left;\"> fcc_astarr_macs_input_overlap </td>\n",
       "   <td style=\"text-align:left;\"> hic_intact_Loop_A_ENCSR479XDG </td>\n",
       "  </tr>\n",
       "</tbody>\n",
       "</table>"
      ]
     },
     "metadata": {},
     "output_type": "display_data"
    }
   ],
   "source": [
    "txt_fdiry = file.path(\n",
    "    FD_RES, \n",
    "    \"region_annotation\", \n",
    "    \"fcc_astarr_macs_input_overlap\",\n",
    "    \"summary\"\n",
    ")\n",
    "txt_fname = \"region.annotation.hic_intact_K562_ENCSR479XDG.tsv\"\n",
    "txt_fpath = file.path(txt_fdiry, txt_fname)\n",
    "\n",
    "dat = read_tsv(txt_fpath, show_col_types = FALSE)\n",
    "dat_region_import = dat\n",
    "print(dim(dat))\n",
    "fun_display_table(head(dat, 3))"
   ]
  },
  {
   "cell_type": "markdown",
   "id": "47382f44-03f7-4367-85bb-7f72e97693ce",
   "metadata": {},
   "source": [
    "**Check**"
   ]
  },
  {
   "cell_type": "code",
   "execution_count": 7,
   "id": "77b700ee-ce8b-479a-a162-4d2b9d37e7bc",
   "metadata": {},
   "outputs": [
    {
     "data": {
      "text/plain": [
       "\n",
       "Loop_A Loop_B    TAD \n",
       " 46906  47071  66886 "
      ]
     },
     "metadata": {},
     "output_type": "display_data"
    }
   ],
   "source": [
    "table(dat$Label_B)"
   ]
  },
  {
   "cell_type": "markdown",
   "id": "beacfee7-963d-4947-a8d3-b0f3a7bf76e5",
   "metadata": {},
   "source": [
    "## Arrange"
   ]
  },
  {
   "cell_type": "code",
   "execution_count": 9,
   "id": "9d0f60ee-b6bc-4194-9fde-c311b34eee77",
   "metadata": {},
   "outputs": [],
   "source": [
    "dat = dat_region_import\n",
    "dat = dat %>% \n",
    "    dplyr::select(\n",
    "        Chrom_A, ChromStart_A, ChromEnd_A, Region_A, \n",
    "        Chrom_B, ChromStart_B, ChromEnd_B, Region_B, Name_B, Label_B) %>%\n",
    "    dplyr::distinct()\n",
    "\n",
    "###\n",
    "tmp = dat %>% \n",
    "    dplyr::select(Chrom_A, ChromStart_A, ChromEnd_A, Region_A) %>% \n",
    "    dplyr::distinct()\n",
    "dat_region_A = tmp\n",
    "\n",
    "###\n",
    "tmp = dat %>% \n",
    "    dplyr::select(Chrom_B, ChromStart_B, ChromEnd_B, Region_B, Name_B) %>%\n",
    "    dplyr::distinct() \n",
    "dat_region_B = tmp\n",
    "\n",
    "###\n",
    "tmp = dat %>% dplyr::filter(Label_B %in% c(\"Loop_A\", \"Loop_B\"))\n",
    "dat_region_loop = tmp\n",
    "\n",
    "###\n",
    "tmp = dat %>% dplyr::filter(Label_B == \"TAD\")\n",
    "dat_region_tad = tmp"
   ]
  },
  {
   "cell_type": "markdown",
   "id": "48593f00-369b-4da5-ba96-787df9fd7eb6",
   "metadata": {},
   "source": [
    "## Ordering and filtering"
   ]
  },
  {
   "cell_type": "code",
   "execution_count": 19,
   "id": "891c3bba-7594-4028-ae5a-62fd8286ba70",
   "metadata": {},
   "outputs": [
    {
     "name": "stdout",
     "output_type": "stream",
     "text": [
      "[1] 86828\n"
     ]
    }
   ],
   "source": [
    "###\n",
    "dat = dat_region_A\n",
    "dat = dat %>% dplyr::arrange(Chrom_A, ChromStart_A, ChromEnd_A)\n",
    "\n",
    "### assign and show\n",
    "vec_txt_region_A = dat$Region_A\n",
    "print(length(vec_txt_region_A))"
   ]
  },
  {
   "cell_type": "code",
   "execution_count": 20,
   "id": "e0496e44-5c5f-478f-b907-4a8de56e4917",
   "metadata": {},
   "outputs": [
    {
     "name": "stdout",
     "output_type": "stream",
     "text": [
      "[1] 47243\n"
     ]
    }
   ],
   "source": [
    "###\n",
    "dat = dat_region_B\n",
    "dat = dat %>%\n",
    "    dplyr::group_by(Name_B) %>%\n",
    "    dplyr::summarize(\n",
    "        Chrom_B    = unique(Chrom_B),\n",
    "        ChromLoc_B = mean(ChromStart_B)\n",
    "    ) %>%\n",
    "    dplyr::arrange(Chrom_B, ChromLoc_B)\n",
    "\n",
    "### assign and show\n",
    "vec_txt_region_B = dat$Name_B\n",
    "print(length(vec_txt_region_B))"
   ]
  },
  {
   "cell_type": "code",
   "execution_count": 23,
   "id": "c1ffebe7-d978-4107-9029-03814025acd4",
   "metadata": {},
   "outputs": [
    {
     "name": "stdout",
     "output_type": "stream",
     "text": [
      "[1] 32312     3\n"
     ]
    },
    {
     "data": {
      "text/html": [
       "<table>\n",
       " <thead>\n",
       "  <tr>\n",
       "   <th style=\"text-align:left;\"> Name_B </th>\n",
       "   <th style=\"text-align:left;\"> Label </th>\n",
       "   <th style=\"text-align:right;\"> Count </th>\n",
       "  </tr>\n",
       " </thead>\n",
       "<tbody>\n",
       "  <tr>\n",
       "   <td style=\"text-align:left;\"> chr10:1.1e+08-110010000|chr10:110200000-110210000 </td>\n",
       "   <td style=\"text-align:left;\"> Loop_A|Loop_B </td>\n",
       "   <td style=\"text-align:right;\"> 4 </td>\n",
       "  </tr>\n",
       "  <tr>\n",
       "   <td style=\"text-align:left;\"> chr10:100338000-100339000|chr10:100433000-100434000 </td>\n",
       "   <td style=\"text-align:left;\"> Loop_A|Loop_B </td>\n",
       "   <td style=\"text-align:right;\"> 2 </td>\n",
       "  </tr>\n",
       "  <tr>\n",
       "   <td style=\"text-align:left;\"> chr10:100340000-100350000|chr10:100870000-100880000 </td>\n",
       "   <td style=\"text-align:left;\"> Loop_A|Loop_B </td>\n",
       "   <td style=\"text-align:right;\"> 4 </td>\n",
       "  </tr>\n",
       "</tbody>\n",
       "</table>"
      ]
     },
     "metadata": {},
     "output_type": "display_data"
    }
   ],
   "source": [
    "###\n",
    "dat = dat_region_loop\n",
    "dat = dat %>%\n",
    "    dplyr::group_by(Name_B) %>%\n",
    "    dplyr::summarise(\n",
    "        Label = paste(sort(unique(Label_B)), collapse = \"|\"),\n",
    "        Count = n()\n",
    "    ) %>%\n",
    "    dplyr::filter(Label == \"Loop_A|Loop_B\")\n",
    "\n",
    "### assign and show\n",
    "dat_region_loop_filter = dat\n",
    "print(dim(dat))\n",
    "fun_display_table(head(dat, 3))"
   ]
  },
  {
   "cell_type": "code",
   "execution_count": 24,
   "id": "da842114-4624-4a8a-b412-70a696984973",
   "metadata": {},
   "outputs": [
    {
     "name": "stdout",
     "output_type": "stream",
     "text": [
      "[1] 4255    3\n"
     ]
    },
    {
     "data": {
      "text/html": [
       "<table>\n",
       " <thead>\n",
       "  <tr>\n",
       "   <th style=\"text-align:left;\"> Name_B </th>\n",
       "   <th style=\"text-align:left;\"> Label </th>\n",
       "   <th style=\"text-align:right;\"> Count </th>\n",
       "  </tr>\n",
       " </thead>\n",
       "<tbody>\n",
       "  <tr>\n",
       "   <td style=\"text-align:left;\"> chr10:1.2e+07-12125000 </td>\n",
       "   <td style=\"text-align:left;\"> TAD </td>\n",
       "   <td style=\"text-align:right;\"> 10 </td>\n",
       "  </tr>\n",
       "  <tr>\n",
       "   <td style=\"text-align:left;\"> chr10:100540000-100885000 </td>\n",
       "   <td style=\"text-align:left;\"> TAD </td>\n",
       "   <td style=\"text-align:right;\"> 13 </td>\n",
       "  </tr>\n",
       "  <tr>\n",
       "   <td style=\"text-align:left;\"> chr10:101485000-101570000 </td>\n",
       "   <td style=\"text-align:left;\"> TAD </td>\n",
       "   <td style=\"text-align:right;\"> 7 </td>\n",
       "  </tr>\n",
       "</tbody>\n",
       "</table>"
      ]
     },
     "metadata": {},
     "output_type": "display_data"
    }
   ],
   "source": [
    "###\n",
    "dat = dat_region_tad\n",
    "dat = dat %>%\n",
    "    dplyr::group_by(Name_B) %>%\n",
    "    dplyr::summarise(\n",
    "        Label = paste(sort(unique(Label_B)), collapse = \"|\"),\n",
    "        Count = n()\n",
    "    ) %>%\n",
    "    dplyr::filter(Count > 1)\n",
    "\n",
    "### assign and show\n",
    "dat_region_tad_filter = dat\n",
    "print(dim(dat))\n",
    "fun_display_table(head(dat, 3))"
   ]
  },
  {
   "cell_type": "markdown",
   "id": "ad26a148-9681-4579-9309-d8c66be7e702",
   "metadata": {},
   "source": [
    "## Matrix"
   ]
  },
  {
   "cell_type": "code",
   "execution_count": 29,
   "id": "9b177f1e-7258-48b2-903f-6e40902d4416",
   "metadata": {},
   "outputs": [
    {
     "data": {
      "text/html": [
       "<table class=\"dataframe\">\n",
       "<caption>A tibble: 6 × 7</caption>\n",
       "<thead>\n",
       "\t<tr><th scope=col>Chrom_A</th><th scope=col>ChromStart_A</th><th scope=col>ChromEnd_A</th><th scope=col>Region_A</th><th scope=col>Name_B</th><th scope=col>Label</th><th scope=col>Count</th></tr>\n",
       "\t<tr><th scope=col>&lt;chr&gt;</th><th scope=col>&lt;dbl&gt;</th><th scope=col>&lt;dbl&gt;</th><th scope=col>&lt;fct&gt;</th><th scope=col>&lt;fct&gt;</th><th scope=col>&lt;chr&gt;</th><th scope=col>&lt;int&gt;</th></tr>\n",
       "</thead>\n",
       "<tbody>\n",
       "\t<tr><td>chr1</td><td>778233</td><td>779389</td><td>chr1:778233-779389</td><td>chr1:770000-780000|chr1:840000-850000  </td><td>Loop_A|Loop_B</td><td>3</td></tr>\n",
       "\t<tr><td>chr1</td><td>842516</td><td>843431</td><td>chr1:842516-843431</td><td>chr1:770000-780000|chr1:840000-850000  </td><td>Loop_A|Loop_B</td><td>3</td></tr>\n",
       "\t<tr><td>chr1</td><td>849583</td><td>850403</td><td>chr1:849583-850403</td><td>chr1:770000-780000|chr1:840000-850000  </td><td>Loop_A|Loop_B</td><td>3</td></tr>\n",
       "\t<tr><td>chr1</td><td>903783</td><td>905204</td><td>chr1:903783-905204</td><td>chr1:904000-906000|chr1:976000-978000  </td><td>Loop_A|Loop_B</td><td>2</td></tr>\n",
       "\t<tr><td>chr1</td><td>975975</td><td>976656</td><td>chr1:975975-976656</td><td>chr1:904000-906000|chr1:976000-978000  </td><td>Loop_A|Loop_B</td><td>2</td></tr>\n",
       "\t<tr><td>chr1</td><td>920937</td><td>921509</td><td>chr1:920937-921509</td><td>chr1:920000-925000|chr1:1060000-1065000</td><td>Loop_A|Loop_B</td><td>5</td></tr>\n",
       "</tbody>\n",
       "</table>\n"
      ],
      "text/latex": [
       "A tibble: 6 × 7\n",
       "\\begin{tabular}{lllllll}\n",
       " Chrom\\_A & ChromStart\\_A & ChromEnd\\_A & Region\\_A & Name\\_B & Label & Count\\\\\n",
       " <chr> & <dbl> & <dbl> & <fct> & <fct> & <chr> & <int>\\\\\n",
       "\\hline\n",
       "\t chr1 & 778233 & 779389 & chr1:778233-779389 & chr1:770000-780000\\textbar{}chr1:840000-850000   & Loop\\_A\\textbar{}Loop\\_B & 3\\\\\n",
       "\t chr1 & 842516 & 843431 & chr1:842516-843431 & chr1:770000-780000\\textbar{}chr1:840000-850000   & Loop\\_A\\textbar{}Loop\\_B & 3\\\\\n",
       "\t chr1 & 849583 & 850403 & chr1:849583-850403 & chr1:770000-780000\\textbar{}chr1:840000-850000   & Loop\\_A\\textbar{}Loop\\_B & 3\\\\\n",
       "\t chr1 & 903783 & 905204 & chr1:903783-905204 & chr1:904000-906000\\textbar{}chr1:976000-978000   & Loop\\_A\\textbar{}Loop\\_B & 2\\\\\n",
       "\t chr1 & 975975 & 976656 & chr1:975975-976656 & chr1:904000-906000\\textbar{}chr1:976000-978000   & Loop\\_A\\textbar{}Loop\\_B & 2\\\\\n",
       "\t chr1 & 920937 & 921509 & chr1:920937-921509 & chr1:920000-925000\\textbar{}chr1:1060000-1065000 & Loop\\_A\\textbar{}Loop\\_B & 5\\\\\n",
       "\\end{tabular}\n"
      ],
      "text/markdown": [
       "\n",
       "A tibble: 6 × 7\n",
       "\n",
       "| Chrom_A &lt;chr&gt; | ChromStart_A &lt;dbl&gt; | ChromEnd_A &lt;dbl&gt; | Region_A &lt;fct&gt; | Name_B &lt;fct&gt; | Label &lt;chr&gt; | Count &lt;int&gt; |\n",
       "|---|---|---|---|---|---|---|\n",
       "| chr1 | 778233 | 779389 | chr1:778233-779389 | chr1:770000-780000|chr1:840000-850000   | Loop_A|Loop_B | 3 |\n",
       "| chr1 | 842516 | 843431 | chr1:842516-843431 | chr1:770000-780000|chr1:840000-850000   | Loop_A|Loop_B | 3 |\n",
       "| chr1 | 849583 | 850403 | chr1:849583-850403 | chr1:770000-780000|chr1:840000-850000   | Loop_A|Loop_B | 3 |\n",
       "| chr1 | 903783 | 905204 | chr1:903783-905204 | chr1:904000-906000|chr1:976000-978000   | Loop_A|Loop_B | 2 |\n",
       "| chr1 | 975975 | 976656 | chr1:975975-976656 | chr1:904000-906000|chr1:976000-978000   | Loop_A|Loop_B | 2 |\n",
       "| chr1 | 920937 | 921509 | chr1:920937-921509 | chr1:920000-925000|chr1:1060000-1065000 | Loop_A|Loop_B | 5 |\n",
       "\n"
      ],
      "text/plain": [
       "  Chrom_A ChromStart_A ChromEnd_A Region_A          \n",
       "1 chr1    778233       779389     chr1:778233-779389\n",
       "2 chr1    842516       843431     chr1:842516-843431\n",
       "3 chr1    849583       850403     chr1:849583-850403\n",
       "4 chr1    903783       905204     chr1:903783-905204\n",
       "5 chr1    975975       976656     chr1:975975-976656\n",
       "6 chr1    920937       921509     chr1:920937-921509\n",
       "  Name_B                                  Label         Count\n",
       "1 chr1:770000-780000|chr1:840000-850000   Loop_A|Loop_B 3    \n",
       "2 chr1:770000-780000|chr1:840000-850000   Loop_A|Loop_B 3    \n",
       "3 chr1:770000-780000|chr1:840000-850000   Loop_A|Loop_B 3    \n",
       "4 chr1:904000-906000|chr1:976000-978000   Loop_A|Loop_B 2    \n",
       "5 chr1:904000-906000|chr1:976000-978000   Loop_A|Loop_B 2    \n",
       "6 chr1:920000-925000|chr1:1060000-1065000 Loop_A|Loop_B 5    "
      ]
     },
     "metadata": {},
     "output_type": "display_data"
    }
   ],
   "source": [
    "###\n",
    "dat = dat_region_loop_filter\n",
    "vec = dat$Name_B\n",
    "\n",
    "###\n",
    "dat = dat_region_loop \n",
    "dat = dat %>% \n",
    "    dplyr::select(Chrom_A, ChromStart_A, ChromEnd_A, Region_A, Name_B) %>%\n",
    "    dplyr::filter(Name_B %in% vec)\n",
    "\n",
    "###\n",
    "dat = dat %>% dplyr::left_join(dat_region_loop_filter, by=\"Name_B\")\n",
    "\n",
    "###\n",
    "vec = vec_txt_region_A\n",
    "dat = dat %>% \n",
    "    dplyr::mutate(Region_A = factor(Region_A, levels=vec)) %>%\n",
    "    dplyr::arrange(Region_A)\n",
    "\n",
    "vec = vec_txt_region_B\n",
    "dat = dat %>% dplyr::mutate(Name_B = factor(Name_B, levels=vec)) %>%\n",
    "    dplyr::arrange(Name_B)\n",
    "\n",
    "###\n",
    "head(dat)"
   ]
  },
  {
   "cell_type": "code",
   "execution_count": 28,
   "id": "56524759-04bf-4c7d-8e07-dd663a143d1c",
   "metadata": {},
   "outputs": [
    {
     "data": {
      "text/html": [
       "<table class=\"dataframe\">\n",
       "<caption>A tibble: 6 × 32316</caption>\n",
       "<thead>\n",
       "\t<tr><th scope=col>Chrom_A</th><th scope=col>ChromStart_A</th><th scope=col>ChromEnd_A</th><th scope=col>Region_A</th><th scope=col>chr1:770000-780000|chr1:840000-850000</th><th scope=col>chr1:904000-906000|chr1:976000-978000</th><th scope=col>chr1:920000-925000|chr1:1060000-1065000</th><th scope=col>chr1:984000-985000|chr1:1063000-1064000</th><th scope=col>chr1:1e+06-1005000|chr1:1060000-1065000</th><th scope=col>chr1:1020000-1025000|chr1:1060000-1065000</th><th scope=col>⋯</th><th scope=col>chrX:154804000-154806000|chrX:154840000-154842000</th><th scope=col>chrX:154760000-154765000|chrX:155070000-155075000</th><th scope=col>chrX:154918000-154920000|chrX:154980000-154982000</th><th scope=col>chrX:154918000-154919000|chrX:155057000-155058000</th><th scope=col>chrX:154981000-154982000|chrX:155057000-155058000</th><th scope=col>chrX:154980000-154982000|chrX:155086000-155088000</th><th scope=col>chrX:154980000-154990000|chrX:155170000-155180000</th><th scope=col>chrX:155070000-155072000|chrX:155216000-155218000</th><th scope=col>chrX:154915000-154920000|chrX:155820000-155825000</th><th scope=col>chrX:154980000-154982000|chrX:155820000-155822000</th></tr>\n",
       "\t<tr><th scope=col>&lt;chr&gt;</th><th scope=col>&lt;dbl&gt;</th><th scope=col>&lt;dbl&gt;</th><th scope=col>&lt;fct&gt;</th><th scope=col>&lt;dbl&gt;</th><th scope=col>&lt;dbl&gt;</th><th scope=col>&lt;dbl&gt;</th><th scope=col>&lt;dbl&gt;</th><th scope=col>&lt;dbl&gt;</th><th scope=col>&lt;dbl&gt;</th><th scope=col>⋯</th><th scope=col>&lt;dbl&gt;</th><th scope=col>&lt;dbl&gt;</th><th scope=col>&lt;dbl&gt;</th><th scope=col>&lt;dbl&gt;</th><th scope=col>&lt;dbl&gt;</th><th scope=col>&lt;dbl&gt;</th><th scope=col>&lt;dbl&gt;</th><th scope=col>&lt;dbl&gt;</th><th scope=col>&lt;dbl&gt;</th><th scope=col>&lt;dbl&gt;</th></tr>\n",
       "</thead>\n",
       "<tbody>\n",
       "\t<tr><td>chr1</td><td>778233</td><td>779389</td><td>chr1:778233-779389</td><td> 1</td><td>NA</td><td>NA</td><td>NA</td><td>NA</td><td>NA</td><td>⋯</td><td>NA</td><td>NA</td><td>NA</td><td>NA</td><td>NA</td><td>NA</td><td>NA</td><td>NA</td><td>NA</td><td>NA</td></tr>\n",
       "\t<tr><td>chr1</td><td>842516</td><td>843431</td><td>chr1:842516-843431</td><td> 1</td><td>NA</td><td>NA</td><td>NA</td><td>NA</td><td>NA</td><td>⋯</td><td>NA</td><td>NA</td><td>NA</td><td>NA</td><td>NA</td><td>NA</td><td>NA</td><td>NA</td><td>NA</td><td>NA</td></tr>\n",
       "\t<tr><td>chr1</td><td>849583</td><td>850403</td><td>chr1:849583-850403</td><td> 1</td><td>NA</td><td>NA</td><td>NA</td><td>NA</td><td>NA</td><td>⋯</td><td>NA</td><td>NA</td><td>NA</td><td>NA</td><td>NA</td><td>NA</td><td>NA</td><td>NA</td><td>NA</td><td>NA</td></tr>\n",
       "\t<tr><td>chr1</td><td>903783</td><td>905204</td><td>chr1:903783-905204</td><td>NA</td><td> 1</td><td>NA</td><td>NA</td><td>NA</td><td>NA</td><td>⋯</td><td>NA</td><td>NA</td><td>NA</td><td>NA</td><td>NA</td><td>NA</td><td>NA</td><td>NA</td><td>NA</td><td>NA</td></tr>\n",
       "\t<tr><td>chr1</td><td>975975</td><td>976656</td><td>chr1:975975-976656</td><td>NA</td><td> 1</td><td>NA</td><td>NA</td><td>NA</td><td>NA</td><td>⋯</td><td>NA</td><td>NA</td><td>NA</td><td>NA</td><td>NA</td><td>NA</td><td>NA</td><td>NA</td><td>NA</td><td>NA</td></tr>\n",
       "\t<tr><td>chr1</td><td>920937</td><td>921509</td><td>chr1:920937-921509</td><td>NA</td><td>NA</td><td> 1</td><td>NA</td><td>NA</td><td>NA</td><td>⋯</td><td>NA</td><td>NA</td><td>NA</td><td>NA</td><td>NA</td><td>NA</td><td>NA</td><td>NA</td><td>NA</td><td>NA</td></tr>\n",
       "</tbody>\n",
       "</table>\n"
      ],
      "text/latex": [
       "A tibble: 6 × 32316\n",
       "\\begin{tabular}{lllllllllllllllllllll}\n",
       " Chrom\\_A & ChromStart\\_A & ChromEnd\\_A & Region\\_A & chr1:770000-780000\\textbar{}chr1:840000-850000 & chr1:904000-906000\\textbar{}chr1:976000-978000 & chr1:920000-925000\\textbar{}chr1:1060000-1065000 & chr1:984000-985000\\textbar{}chr1:1063000-1064000 & chr1:1e+06-1005000\\textbar{}chr1:1060000-1065000 & chr1:1020000-1025000\\textbar{}chr1:1060000-1065000 & ⋯ & chrX:154804000-154806000\\textbar{}chrX:154840000-154842000 & chrX:154760000-154765000\\textbar{}chrX:155070000-155075000 & chrX:154918000-154920000\\textbar{}chrX:154980000-154982000 & chrX:154918000-154919000\\textbar{}chrX:155057000-155058000 & chrX:154981000-154982000\\textbar{}chrX:155057000-155058000 & chrX:154980000-154982000\\textbar{}chrX:155086000-155088000 & chrX:154980000-154990000\\textbar{}chrX:155170000-155180000 & chrX:155070000-155072000\\textbar{}chrX:155216000-155218000 & chrX:154915000-154920000\\textbar{}chrX:155820000-155825000 & chrX:154980000-154982000\\textbar{}chrX:155820000-155822000\\\\\n",
       " <chr> & <dbl> & <dbl> & <fct> & <dbl> & <dbl> & <dbl> & <dbl> & <dbl> & <dbl> & ⋯ & <dbl> & <dbl> & <dbl> & <dbl> & <dbl> & <dbl> & <dbl> & <dbl> & <dbl> & <dbl>\\\\\n",
       "\\hline\n",
       "\t chr1 & 778233 & 779389 & chr1:778233-779389 &  1 & NA & NA & NA & NA & NA & ⋯ & NA & NA & NA & NA & NA & NA & NA & NA & NA & NA\\\\\n",
       "\t chr1 & 842516 & 843431 & chr1:842516-843431 &  1 & NA & NA & NA & NA & NA & ⋯ & NA & NA & NA & NA & NA & NA & NA & NA & NA & NA\\\\\n",
       "\t chr1 & 849583 & 850403 & chr1:849583-850403 &  1 & NA & NA & NA & NA & NA & ⋯ & NA & NA & NA & NA & NA & NA & NA & NA & NA & NA\\\\\n",
       "\t chr1 & 903783 & 905204 & chr1:903783-905204 & NA &  1 & NA & NA & NA & NA & ⋯ & NA & NA & NA & NA & NA & NA & NA & NA & NA & NA\\\\\n",
       "\t chr1 & 975975 & 976656 & chr1:975975-976656 & NA &  1 & NA & NA & NA & NA & ⋯ & NA & NA & NA & NA & NA & NA & NA & NA & NA & NA\\\\\n",
       "\t chr1 & 920937 & 921509 & chr1:920937-921509 & NA & NA &  1 & NA & NA & NA & ⋯ & NA & NA & NA & NA & NA & NA & NA & NA & NA & NA\\\\\n",
       "\\end{tabular}\n"
      ],
      "text/markdown": [
       "\n",
       "A tibble: 6 × 32316\n",
       "\n",
       "| Chrom_A &lt;chr&gt; | ChromStart_A &lt;dbl&gt; | ChromEnd_A &lt;dbl&gt; | Region_A &lt;fct&gt; | chr1:770000-780000|chr1:840000-850000 &lt;dbl&gt; | chr1:904000-906000|chr1:976000-978000 &lt;dbl&gt; | chr1:920000-925000|chr1:1060000-1065000 &lt;dbl&gt; | chr1:984000-985000|chr1:1063000-1064000 &lt;dbl&gt; | chr1:1e+06-1005000|chr1:1060000-1065000 &lt;dbl&gt; | chr1:1020000-1025000|chr1:1060000-1065000 &lt;dbl&gt; | ⋯ ⋯ | chrX:154804000-154806000|chrX:154840000-154842000 &lt;dbl&gt; | chrX:154760000-154765000|chrX:155070000-155075000 &lt;dbl&gt; | chrX:154918000-154920000|chrX:154980000-154982000 &lt;dbl&gt; | chrX:154918000-154919000|chrX:155057000-155058000 &lt;dbl&gt; | chrX:154981000-154982000|chrX:155057000-155058000 &lt;dbl&gt; | chrX:154980000-154982000|chrX:155086000-155088000 &lt;dbl&gt; | chrX:154980000-154990000|chrX:155170000-155180000 &lt;dbl&gt; | chrX:155070000-155072000|chrX:155216000-155218000 &lt;dbl&gt; | chrX:154915000-154920000|chrX:155820000-155825000 &lt;dbl&gt; | chrX:154980000-154982000|chrX:155820000-155822000 &lt;dbl&gt; |\n",
       "|---|---|---|---|---|---|---|---|---|---|---|---|---|---|---|---|---|---|---|---|---|\n",
       "| chr1 | 778233 | 779389 | chr1:778233-779389 |  1 | NA | NA | NA | NA | NA | ⋯ | NA | NA | NA | NA | NA | NA | NA | NA | NA | NA |\n",
       "| chr1 | 842516 | 843431 | chr1:842516-843431 |  1 | NA | NA | NA | NA | NA | ⋯ | NA | NA | NA | NA | NA | NA | NA | NA | NA | NA |\n",
       "| chr1 | 849583 | 850403 | chr1:849583-850403 |  1 | NA | NA | NA | NA | NA | ⋯ | NA | NA | NA | NA | NA | NA | NA | NA | NA | NA |\n",
       "| chr1 | 903783 | 905204 | chr1:903783-905204 | NA |  1 | NA | NA | NA | NA | ⋯ | NA | NA | NA | NA | NA | NA | NA | NA | NA | NA |\n",
       "| chr1 | 975975 | 976656 | chr1:975975-976656 | NA |  1 | NA | NA | NA | NA | ⋯ | NA | NA | NA | NA | NA | NA | NA | NA | NA | NA |\n",
       "| chr1 | 920937 | 921509 | chr1:920937-921509 | NA | NA |  1 | NA | NA | NA | ⋯ | NA | NA | NA | NA | NA | NA | NA | NA | NA | NA |\n",
       "\n"
      ],
      "text/plain": [
       "  Chrom_A ChromStart_A ChromEnd_A Region_A          \n",
       "1 chr1    778233       779389     chr1:778233-779389\n",
       "2 chr1    842516       843431     chr1:842516-843431\n",
       "3 chr1    849583       850403     chr1:849583-850403\n",
       "4 chr1    903783       905204     chr1:903783-905204\n",
       "5 chr1    975975       976656     chr1:975975-976656\n",
       "6 chr1    920937       921509     chr1:920937-921509\n",
       "  chr1:770000-780000|chr1:840000-850000 chr1:904000-906000|chr1:976000-978000\n",
       "1  1                                    NA                                   \n",
       "2  1                                    NA                                   \n",
       "3  1                                    NA                                   \n",
       "4 NA                                     1                                   \n",
       "5 NA                                     1                                   \n",
       "6 NA                                    NA                                   \n",
       "  chr1:920000-925000|chr1:1060000-1065000\n",
       "1 NA                                     \n",
       "2 NA                                     \n",
       "3 NA                                     \n",
       "4 NA                                     \n",
       "5 NA                                     \n",
       "6  1                                     \n",
       "  chr1:984000-985000|chr1:1063000-1064000\n",
       "1 NA                                     \n",
       "2 NA                                     \n",
       "3 NA                                     \n",
       "4 NA                                     \n",
       "5 NA                                     \n",
       "6 NA                                     \n",
       "  chr1:1e+06-1005000|chr1:1060000-1065000\n",
       "1 NA                                     \n",
       "2 NA                                     \n",
       "3 NA                                     \n",
       "4 NA                                     \n",
       "5 NA                                     \n",
       "6 NA                                     \n",
       "  chr1:1020000-1025000|chr1:1060000-1065000 ⋯\n",
       "1 NA                                        ⋯\n",
       "2 NA                                        ⋯\n",
       "3 NA                                        ⋯\n",
       "4 NA                                        ⋯\n",
       "5 NA                                        ⋯\n",
       "6 NA                                        ⋯\n",
       "  chrX:154804000-154806000|chrX:154840000-154842000\n",
       "1 NA                                               \n",
       "2 NA                                               \n",
       "3 NA                                               \n",
       "4 NA                                               \n",
       "5 NA                                               \n",
       "6 NA                                               \n",
       "  chrX:154760000-154765000|chrX:155070000-155075000\n",
       "1 NA                                               \n",
       "2 NA                                               \n",
       "3 NA                                               \n",
       "4 NA                                               \n",
       "5 NA                                               \n",
       "6 NA                                               \n",
       "  chrX:154918000-154920000|chrX:154980000-154982000\n",
       "1 NA                                               \n",
       "2 NA                                               \n",
       "3 NA                                               \n",
       "4 NA                                               \n",
       "5 NA                                               \n",
       "6 NA                                               \n",
       "  chrX:154918000-154919000|chrX:155057000-155058000\n",
       "1 NA                                               \n",
       "2 NA                                               \n",
       "3 NA                                               \n",
       "4 NA                                               \n",
       "5 NA                                               \n",
       "6 NA                                               \n",
       "  chrX:154981000-154982000|chrX:155057000-155058000\n",
       "1 NA                                               \n",
       "2 NA                                               \n",
       "3 NA                                               \n",
       "4 NA                                               \n",
       "5 NA                                               \n",
       "6 NA                                               \n",
       "  chrX:154980000-154982000|chrX:155086000-155088000\n",
       "1 NA                                               \n",
       "2 NA                                               \n",
       "3 NA                                               \n",
       "4 NA                                               \n",
       "5 NA                                               \n",
       "6 NA                                               \n",
       "  chrX:154980000-154990000|chrX:155170000-155180000\n",
       "1 NA                                               \n",
       "2 NA                                               \n",
       "3 NA                                               \n",
       "4 NA                                               \n",
       "5 NA                                               \n",
       "6 NA                                               \n",
       "  chrX:155070000-155072000|chrX:155216000-155218000\n",
       "1 NA                                               \n",
       "2 NA                                               \n",
       "3 NA                                               \n",
       "4 NA                                               \n",
       "5 NA                                               \n",
       "6 NA                                               \n",
       "  chrX:154915000-154920000|chrX:155820000-155825000\n",
       "1 NA                                               \n",
       "2 NA                                               \n",
       "3 NA                                               \n",
       "4 NA                                               \n",
       "5 NA                                               \n",
       "6 NA                                               \n",
       "  chrX:154980000-154982000|chrX:155820000-155822000\n",
       "1 NA                                               \n",
       "2 NA                                               \n",
       "3 NA                                               \n",
       "4 NA                                               \n",
       "5 NA                                               \n",
       "6 NA                                               "
      ]
     },
     "metadata": {},
     "output_type": "display_data"
    }
   ],
   "source": [
    "mat = dat %>% tidyr::spread(Name_B, Value)\n",
    "head(mat)"
   ]
  },
  {
   "cell_type": "code",
   "execution_count": null,
   "id": "9106da5a-0e74-48af-8104-e0036fddf31e",
   "metadata": {},
   "outputs": [],
   "source": []
  },
  {
   "cell_type": "code",
   "execution_count": null,
   "id": "6bf5cb3a-a9b4-4b6e-b3b1-2227335db9a8",
   "metadata": {},
   "outputs": [],
   "source": []
  },
  {
   "cell_type": "code",
   "execution_count": null,
   "id": "fd16d51a-cc4a-49ac-85f2-b7614cf9b53c",
   "metadata": {},
   "outputs": [],
   "source": []
  },
  {
   "cell_type": "code",
   "execution_count": null,
   "id": "cf0e49a7-62c6-4e1c-a38f-874625374c55",
   "metadata": {},
   "outputs": [],
   "source": [
    "%>%\n",
    "    tidyr::spread(Region_A, Name_B)"
   ]
  },
  {
   "cell_type": "code",
   "execution_count": 25,
   "id": "692b0013-30c7-4a04-9dbf-7aa1ebb8166f",
   "metadata": {},
   "outputs": [
    {
     "data": {
      "text/html": [
       "<table class=\"dataframe\">\n",
       "<caption>A tibble: 6 × 10</caption>\n",
       "<thead>\n",
       "\t<tr><th scope=col>Chrom_A</th><th scope=col>ChromStart_A</th><th scope=col>ChromEnd_A</th><th scope=col>Region_A</th><th scope=col>Chrom_B</th><th scope=col>ChromStart_B</th><th scope=col>ChromEnd_B</th><th scope=col>Region_B</th><th scope=col>Name_B</th><th scope=col>Label_B</th></tr>\n",
       "\t<tr><th scope=col>&lt;chr&gt;</th><th scope=col>&lt;dbl&gt;</th><th scope=col>&lt;dbl&gt;</th><th scope=col>&lt;chr&gt;</th><th scope=col>&lt;chr&gt;</th><th scope=col>&lt;dbl&gt;</th><th scope=col>&lt;dbl&gt;</th><th scope=col>&lt;chr&gt;</th><th scope=col>&lt;chr&gt;</th><th scope=col>&lt;chr&gt;</th></tr>\n",
       "</thead>\n",
       "<tbody>\n",
       "\t<tr><td>chr1</td><td>778233</td><td>779389</td><td>chr1:778233-779389</td><td>chr1</td><td>770000</td><td>780000</td><td>chr1:770000-780000</td><td>chr1:770000-780000|chr1:840000-850000  </td><td>Loop_A</td></tr>\n",
       "\t<tr><td>chr1</td><td>903783</td><td>905204</td><td>chr1:903783-905204</td><td>chr1</td><td>904000</td><td>906000</td><td>chr1:904000-906000</td><td>chr1:904000-906000|chr1:976000-978000  </td><td>Loop_A</td></tr>\n",
       "\t<tr><td>chr1</td><td>920937</td><td>921509</td><td>chr1:920937-921509</td><td>chr1</td><td>920000</td><td>925000</td><td>chr1:920000-925000</td><td>chr1:920000-925000|chr1:1060000-1065000</td><td>Loop_A</td></tr>\n",
       "\t<tr><td>chr1</td><td>923427</td><td>925161</td><td>chr1:923427-925161</td><td>chr1</td><td>920000</td><td>925000</td><td>chr1:920000-925000</td><td>chr1:920000-925000|chr1:1060000-1065000</td><td>Loop_A</td></tr>\n",
       "\t<tr><td>chr1</td><td>979401</td><td>980599</td><td>chr1:979401-980599</td><td>chr1</td><td>980000</td><td>990000</td><td>chr1:980000-990000</td><td>chr1:980000-990000|chr1:1290000-1300000</td><td>Loop_A</td></tr>\n",
       "\t<tr><td>chr1</td><td>984073</td><td>984542</td><td>chr1:984073-984542</td><td>chr1</td><td>984000</td><td>985000</td><td>chr1:984000-985000</td><td>chr1:984000-985000|chr1:1063000-1064000</td><td>Loop_A</td></tr>\n",
       "</tbody>\n",
       "</table>\n"
      ],
      "text/latex": [
       "A tibble: 6 × 10\n",
       "\\begin{tabular}{llllllllll}\n",
       " Chrom\\_A & ChromStart\\_A & ChromEnd\\_A & Region\\_A & Chrom\\_B & ChromStart\\_B & ChromEnd\\_B & Region\\_B & Name\\_B & Label\\_B\\\\\n",
       " <chr> & <dbl> & <dbl> & <chr> & <chr> & <dbl> & <dbl> & <chr> & <chr> & <chr>\\\\\n",
       "\\hline\n",
       "\t chr1 & 778233 & 779389 & chr1:778233-779389 & chr1 & 770000 & 780000 & chr1:770000-780000 & chr1:770000-780000\\textbar{}chr1:840000-850000   & Loop\\_A\\\\\n",
       "\t chr1 & 903783 & 905204 & chr1:903783-905204 & chr1 & 904000 & 906000 & chr1:904000-906000 & chr1:904000-906000\\textbar{}chr1:976000-978000   & Loop\\_A\\\\\n",
       "\t chr1 & 920937 & 921509 & chr1:920937-921509 & chr1 & 920000 & 925000 & chr1:920000-925000 & chr1:920000-925000\\textbar{}chr1:1060000-1065000 & Loop\\_A\\\\\n",
       "\t chr1 & 923427 & 925161 & chr1:923427-925161 & chr1 & 920000 & 925000 & chr1:920000-925000 & chr1:920000-925000\\textbar{}chr1:1060000-1065000 & Loop\\_A\\\\\n",
       "\t chr1 & 979401 & 980599 & chr1:979401-980599 & chr1 & 980000 & 990000 & chr1:980000-990000 & chr1:980000-990000\\textbar{}chr1:1290000-1300000 & Loop\\_A\\\\\n",
       "\t chr1 & 984073 & 984542 & chr1:984073-984542 & chr1 & 984000 & 985000 & chr1:984000-985000 & chr1:984000-985000\\textbar{}chr1:1063000-1064000 & Loop\\_A\\\\\n",
       "\\end{tabular}\n"
      ],
      "text/markdown": [
       "\n",
       "A tibble: 6 × 10\n",
       "\n",
       "| Chrom_A &lt;chr&gt; | ChromStart_A &lt;dbl&gt; | ChromEnd_A &lt;dbl&gt; | Region_A &lt;chr&gt; | Chrom_B &lt;chr&gt; | ChromStart_B &lt;dbl&gt; | ChromEnd_B &lt;dbl&gt; | Region_B &lt;chr&gt; | Name_B &lt;chr&gt; | Label_B &lt;chr&gt; |\n",
       "|---|---|---|---|---|---|---|---|---|---|\n",
       "| chr1 | 778233 | 779389 | chr1:778233-779389 | chr1 | 770000 | 780000 | chr1:770000-780000 | chr1:770000-780000|chr1:840000-850000   | Loop_A |\n",
       "| chr1 | 903783 | 905204 | chr1:903783-905204 | chr1 | 904000 | 906000 | chr1:904000-906000 | chr1:904000-906000|chr1:976000-978000   | Loop_A |\n",
       "| chr1 | 920937 | 921509 | chr1:920937-921509 | chr1 | 920000 | 925000 | chr1:920000-925000 | chr1:920000-925000|chr1:1060000-1065000 | Loop_A |\n",
       "| chr1 | 923427 | 925161 | chr1:923427-925161 | chr1 | 920000 | 925000 | chr1:920000-925000 | chr1:920000-925000|chr1:1060000-1065000 | Loop_A |\n",
       "| chr1 | 979401 | 980599 | chr1:979401-980599 | chr1 | 980000 | 990000 | chr1:980000-990000 | chr1:980000-990000|chr1:1290000-1300000 | Loop_A |\n",
       "| chr1 | 984073 | 984542 | chr1:984073-984542 | chr1 | 984000 | 985000 | chr1:984000-985000 | chr1:984000-985000|chr1:1063000-1064000 | Loop_A |\n",
       "\n"
      ],
      "text/plain": [
       "  Chrom_A ChromStart_A ChromEnd_A Region_A           Chrom_B ChromStart_B\n",
       "1 chr1    778233       779389     chr1:778233-779389 chr1    770000      \n",
       "2 chr1    903783       905204     chr1:903783-905204 chr1    904000      \n",
       "3 chr1    920937       921509     chr1:920937-921509 chr1    920000      \n",
       "4 chr1    923427       925161     chr1:923427-925161 chr1    920000      \n",
       "5 chr1    979401       980599     chr1:979401-980599 chr1    980000      \n",
       "6 chr1    984073       984542     chr1:984073-984542 chr1    984000      \n",
       "  ChromEnd_B Region_B           Name_B                                  Label_B\n",
       "1 780000     chr1:770000-780000 chr1:770000-780000|chr1:840000-850000   Loop_A \n",
       "2 906000     chr1:904000-906000 chr1:904000-906000|chr1:976000-978000   Loop_A \n",
       "3 925000     chr1:920000-925000 chr1:920000-925000|chr1:1060000-1065000 Loop_A \n",
       "4 925000     chr1:920000-925000 chr1:920000-925000|chr1:1060000-1065000 Loop_A \n",
       "5 990000     chr1:980000-990000 chr1:980000-990000|chr1:1290000-1300000 Loop_A \n",
       "6 985000     chr1:984000-985000 chr1:984000-985000|chr1:1063000-1064000 Loop_A "
      ]
     },
     "metadata": {},
     "output_type": "display_data"
    }
   ],
   "source": [
    "dat = dat_region_loop_filter\n",
    "vec = dat$\n",
    "\n",
    "\n",
    "dat = dat_region_loop \n",
    "dat = dat %>% \n",
    "    dplyr::select(Chrom_A, ChromStart_A, ChromEnd_A, Region_A, Name_B) %>%\n",
    "\n",
    "\n",
    "dat = dat %>% \n",
    "    dplyr::filter(Name_B %in% vec_txt_region_B_filter) %>%\n",
    "    dplyr::mutate(Value = 1) %>%\n",
    "    \n",
    "    dplyr::distinct() \n",
    "\n",
    "vec = vec_txt_region_A\n",
    "dat = dat %>% dplyr::mutate(Region_A = factor(Region_A, levels=rev(vec)))\n",
    "\n",
    "vec = vec_txt_region_B\n",
    "dat = dat %>% dplyr::mutate(Name_B = factor(Name_B, levels=vec))\n",
    "\n",
    "head(dat)"
   ]
  },
  {
   "cell_type": "code",
   "execution_count": null,
   "id": "5b01caad-d54d-46ca-831d-af0806135415",
   "metadata": {},
   "outputs": [],
   "source": []
  },
  {
   "cell_type": "code",
   "execution_count": null,
   "id": "14811798-72b4-4953-ac79-537995b4583f",
   "metadata": {},
   "outputs": [],
   "source": []
  },
  {
   "cell_type": "code",
   "execution_count": null,
   "id": "788e0514-560b-4ab6-b7e4-444d05316fc4",
   "metadata": {},
   "outputs": [],
   "source": []
  },
  {
   "cell_type": "code",
   "execution_count": 16,
   "id": "490d4d95-6c68-43cf-899c-942c54577ee7",
   "metadata": {},
   "outputs": [
    {
     "name": "stdout",
     "output_type": "stream",
     "text": [
      "[1] 42923\n",
      "[1] 10732\n"
     ]
    },
    {
     "data": {
      "text/html": [
       "<table>\n",
       " <thead>\n",
       "  <tr>\n",
       "   <th style=\"text-align:left;\"> Name_B </th>\n",
       "   <th style=\"text-align:left;\"> Label </th>\n",
       "   <th style=\"text-align:right;\"> Count </th>\n",
       "  </tr>\n",
       " </thead>\n",
       "<tbody>\n",
       "  <tr>\n",
       "   <td style=\"text-align:left;\"> chr10:1.1e+08-110010000|chr10:110200000-110210000 </td>\n",
       "   <td style=\"text-align:left;\"> Loop_A|Loop_B </td>\n",
       "   <td style=\"text-align:right;\"> 4 </td>\n",
       "  </tr>\n",
       "  <tr>\n",
       "   <td style=\"text-align:left;\"> chr10:100340000-100350000|chr10:100870000-100880000 </td>\n",
       "   <td style=\"text-align:left;\"> Loop_A|Loop_B </td>\n",
       "   <td style=\"text-align:right;\"> 4 </td>\n",
       "  </tr>\n",
       "  <tr>\n",
       "   <td style=\"text-align:left;\"> chr10:100515000-100520000|chr10:100875000-100880000 </td>\n",
       "   <td style=\"text-align:left;\"> Loop_A|Loop_B </td>\n",
       "   <td style=\"text-align:right;\"> 3 </td>\n",
       "  </tr>\n",
       "</tbody>\n",
       "</table>"
      ]
     },
     "metadata": {},
     "output_type": "display_data"
    }
   ],
   "source": [
    "###\n",
    "dat = dat_region_loop\n",
    "dat = dat %>%\n",
    "    dplyr::group_by(Name_B) %>%\n",
    "    dplyr::summarise(\n",
    "        Label = paste(sort(unique(Label_B)), collapse = \"|\"),\n",
    "        Count = n()\n",
    "    ) %>%\n",
    "    dplyr::filter(Label == \"Loop_A|Loop_B\")\n",
    "\n",
    "dat_region_loop_filter = dat\n",
    "\n",
    "### assign and show\n",
    "vec_txt_region_loop        = unique(dat_region_loop$Name_B)\n",
    "vec_txt_region_loop_filter = dat$Name_B\n",
    "\n",
    "print(length(vec_txt_region_loop))\n",
    "print(length(vec_txt_region_loop_filter))\n",
    "fun_display_table(head(dat, 3))"
   ]
  },
  {
   "cell_type": "code",
   "execution_count": 17,
   "id": "1e5ab9af-8fb6-41c4-89ee-0051cad78972",
   "metadata": {},
   "outputs": [
    {
     "name": "stdout",
     "output_type": "stream",
     "text": [
      "[1] 4320\n",
      "[1] 4255\n"
     ]
    },
    {
     "data": {
      "text/html": [
       "<table>\n",
       " <thead>\n",
       "  <tr>\n",
       "   <th style=\"text-align:left;\"> Name_B </th>\n",
       "   <th style=\"text-align:left;\"> Label </th>\n",
       "   <th style=\"text-align:right;\"> Count </th>\n",
       "  </tr>\n",
       " </thead>\n",
       "<tbody>\n",
       "  <tr>\n",
       "   <td style=\"text-align:left;\"> chr10:1.2e+07-12125000 </td>\n",
       "   <td style=\"text-align:left;\"> TAD </td>\n",
       "   <td style=\"text-align:right;\"> 10 </td>\n",
       "  </tr>\n",
       "  <tr>\n",
       "   <td style=\"text-align:left;\"> chr10:100540000-100885000 </td>\n",
       "   <td style=\"text-align:left;\"> TAD </td>\n",
       "   <td style=\"text-align:right;\"> 13 </td>\n",
       "  </tr>\n",
       "  <tr>\n",
       "   <td style=\"text-align:left;\"> chr10:101485000-101570000 </td>\n",
       "   <td style=\"text-align:left;\"> TAD </td>\n",
       "   <td style=\"text-align:right;\"> 7 </td>\n",
       "  </tr>\n",
       "</tbody>\n",
       "</table>"
      ]
     },
     "metadata": {},
     "output_type": "display_data"
    }
   ],
   "source": [
    "###\n",
    "dat = dat_region_tad\n",
    "dat = dat %>%\n",
    "    dplyr::group_by(Name_B) %>%\n",
    "    dplyr::summarise(\n",
    "        Label = paste(sort(unique(Label_B)), collapse = \"|\"),\n",
    "        Count = n()\n",
    "    ) %>%\n",
    "    dplyr::filter(\n",
    "        Count > 1\n",
    "    )\n",
    "\n",
    "### assign and show\n",
    "vec_txt_region_tad        = unique(dat_region_tad$Name_B)\n",
    "vec_txt_region_tad_filter = dat$Name_B\n",
    "\n",
    "print(length(vec_txt_region_tad))\n",
    "print(length(vec_txt_region_tad_filter))\n",
    "fun_display_table(head(dat, 3))"
   ]
  },
  {
   "cell_type": "code",
   "execution_count": null,
   "id": "66461d68-99d7-436d-bb46-7a90baf5f4c3",
   "metadata": {},
   "outputs": [],
   "source": []
  },
  {
   "cell_type": "code",
   "execution_count": null,
   "id": "8e9e1389-419d-4fb9-8a9d-c7f2d6180e0c",
   "metadata": {},
   "outputs": [],
   "source": []
  },
  {
   "cell_type": "code",
   "execution_count": null,
   "id": "8a04b20a-798f-466c-a01c-4e584b8e61a9",
   "metadata": {},
   "outputs": [],
   "source": []
  },
  {
   "cell_type": "markdown",
   "id": "fb36c610-c864-42ea-932d-09d79e3b42d7",
   "metadata": {},
   "source": [
    "## Plot"
   ]
  },
  {
   "cell_type": "code",
   "execution_count": 86,
   "id": "f29726c4-5d02-4934-a2b6-db6f13589c7e",
   "metadata": {},
   "outputs": [
    {
     "data": {
      "text/html": [
       "<table class=\"dataframe\">\n",
       "<caption>A tibble: 6 × 11</caption>\n",
       "<thead>\n",
       "\t<tr><th scope=col>Chrom_A</th><th scope=col>ChromStart_A</th><th scope=col>ChromEnd_A</th><th scope=col>Region_A</th><th scope=col>Chrom_B</th><th scope=col>ChromStart_B</th><th scope=col>ChromEnd_B</th><th scope=col>Region_B</th><th scope=col>Name_B</th><th scope=col>Label_B</th><th scope=col>Value</th></tr>\n",
       "\t<tr><th scope=col>&lt;chr&gt;</th><th scope=col>&lt;dbl&gt;</th><th scope=col>&lt;dbl&gt;</th><th scope=col>&lt;fct&gt;</th><th scope=col>&lt;chr&gt;</th><th scope=col>&lt;dbl&gt;</th><th scope=col>&lt;dbl&gt;</th><th scope=col>&lt;chr&gt;</th><th scope=col>&lt;fct&gt;</th><th scope=col>&lt;chr&gt;</th><th scope=col>&lt;dbl&gt;</th></tr>\n",
       "</thead>\n",
       "<tbody>\n",
       "\t<tr><td>chrX</td><td>11134949</td><td>11135960</td><td>chrX:11134949-11135960</td><td>chrX</td><td>11135000</td><td>11140000</td><td>chrX:11135000-11140000</td><td>chrX:11135000-11140000|chrX:11770000-11775000</td><td>Loop_A</td><td>1</td></tr>\n",
       "\t<tr><td>chrX</td><td>11138795</td><td>11139358</td><td>chrX:11138795-11139358</td><td>chrX</td><td>11135000</td><td>11140000</td><td>chrX:11135000-11140000</td><td>chrX:11135000-11140000|chrX:11770000-11775000</td><td>Loop_A</td><td>1</td></tr>\n",
       "\t<tr><td>chrX</td><td>11152241</td><td>11152476</td><td>chrX:11152241-11152476</td><td>chrX</td><td>11150000</td><td>11160000</td><td>chrX:11150000-11160000</td><td>chrX:11150000-11160000|chrX:11260000-11270000</td><td>Loop_A</td><td>1</td></tr>\n",
       "\t<tr><td>chrX</td><td>11159190</td><td>11159535</td><td>chrX:11159190-11159535</td><td>chrX</td><td>11150000</td><td>11160000</td><td>chrX:11150000-11160000</td><td>chrX:11150000-11160000|chrX:11260000-11270000</td><td>Loop_A</td><td>1</td></tr>\n",
       "\t<tr><td>chrX</td><td>11461148</td><td>11462157</td><td>chrX:11461148-11462157</td><td>chrX</td><td>11460000</td><td>11470000</td><td>chrX:11460000-11470000</td><td>chrX:11460000-11470000|chrX:11770000-11780000</td><td>Loop_A</td><td>1</td></tr>\n",
       "\t<tr><td>chrX</td><td>11464833</td><td>11465367</td><td>chrX:11464833-11465367</td><td>chrX</td><td>11460000</td><td>11470000</td><td>chrX:11460000-11470000</td><td>chrX:11460000-11470000|chrX:11770000-11780000</td><td>Loop_A</td><td>1</td></tr>\n",
       "</tbody>\n",
       "</table>\n"
      ],
      "text/latex": [
       "A tibble: 6 × 11\n",
       "\\begin{tabular}{lllllllllll}\n",
       " Chrom\\_A & ChromStart\\_A & ChromEnd\\_A & Region\\_A & Chrom\\_B & ChromStart\\_B & ChromEnd\\_B & Region\\_B & Name\\_B & Label\\_B & Value\\\\\n",
       " <chr> & <dbl> & <dbl> & <fct> & <chr> & <dbl> & <dbl> & <chr> & <fct> & <chr> & <dbl>\\\\\n",
       "\\hline\n",
       "\t chrX & 11134949 & 11135960 & chrX:11134949-11135960 & chrX & 11135000 & 11140000 & chrX:11135000-11140000 & chrX:11135000-11140000\\textbar{}chrX:11770000-11775000 & Loop\\_A & 1\\\\\n",
       "\t chrX & 11138795 & 11139358 & chrX:11138795-11139358 & chrX & 11135000 & 11140000 & chrX:11135000-11140000 & chrX:11135000-11140000\\textbar{}chrX:11770000-11775000 & Loop\\_A & 1\\\\\n",
       "\t chrX & 11152241 & 11152476 & chrX:11152241-11152476 & chrX & 11150000 & 11160000 & chrX:11150000-11160000 & chrX:11150000-11160000\\textbar{}chrX:11260000-11270000 & Loop\\_A & 1\\\\\n",
       "\t chrX & 11159190 & 11159535 & chrX:11159190-11159535 & chrX & 11150000 & 11160000 & chrX:11150000-11160000 & chrX:11150000-11160000\\textbar{}chrX:11260000-11270000 & Loop\\_A & 1\\\\\n",
       "\t chrX & 11461148 & 11462157 & chrX:11461148-11462157 & chrX & 11460000 & 11470000 & chrX:11460000-11470000 & chrX:11460000-11470000\\textbar{}chrX:11770000-11780000 & Loop\\_A & 1\\\\\n",
       "\t chrX & 11464833 & 11465367 & chrX:11464833-11465367 & chrX & 11460000 & 11470000 & chrX:11460000-11470000 & chrX:11460000-11470000\\textbar{}chrX:11770000-11780000 & Loop\\_A & 1\\\\\n",
       "\\end{tabular}\n"
      ],
      "text/markdown": [
       "\n",
       "A tibble: 6 × 11\n",
       "\n",
       "| Chrom_A &lt;chr&gt; | ChromStart_A &lt;dbl&gt; | ChromEnd_A &lt;dbl&gt; | Region_A &lt;fct&gt; | Chrom_B &lt;chr&gt; | ChromStart_B &lt;dbl&gt; | ChromEnd_B &lt;dbl&gt; | Region_B &lt;chr&gt; | Name_B &lt;fct&gt; | Label_B &lt;chr&gt; | Value &lt;dbl&gt; |\n",
       "|---|---|---|---|---|---|---|---|---|---|---|\n",
       "| chrX | 11134949 | 11135960 | chrX:11134949-11135960 | chrX | 11135000 | 11140000 | chrX:11135000-11140000 | chrX:11135000-11140000|chrX:11770000-11775000 | Loop_A | 1 |\n",
       "| chrX | 11138795 | 11139358 | chrX:11138795-11139358 | chrX | 11135000 | 11140000 | chrX:11135000-11140000 | chrX:11135000-11140000|chrX:11770000-11775000 | Loop_A | 1 |\n",
       "| chrX | 11152241 | 11152476 | chrX:11152241-11152476 | chrX | 11150000 | 11160000 | chrX:11150000-11160000 | chrX:11150000-11160000|chrX:11260000-11270000 | Loop_A | 1 |\n",
       "| chrX | 11159190 | 11159535 | chrX:11159190-11159535 | chrX | 11150000 | 11160000 | chrX:11150000-11160000 | chrX:11150000-11160000|chrX:11260000-11270000 | Loop_A | 1 |\n",
       "| chrX | 11461148 | 11462157 | chrX:11461148-11462157 | chrX | 11460000 | 11470000 | chrX:11460000-11470000 | chrX:11460000-11470000|chrX:11770000-11780000 | Loop_A | 1 |\n",
       "| chrX | 11464833 | 11465367 | chrX:11464833-11465367 | chrX | 11460000 | 11470000 | chrX:11460000-11470000 | chrX:11460000-11470000|chrX:11770000-11780000 | Loop_A | 1 |\n",
       "\n"
      ],
      "text/plain": [
       "  Chrom_A ChromStart_A ChromEnd_A Region_A               Chrom_B ChromStart_B\n",
       "1 chrX    11134949     11135960   chrX:11134949-11135960 chrX    11135000    \n",
       "2 chrX    11138795     11139358   chrX:11138795-11139358 chrX    11135000    \n",
       "3 chrX    11152241     11152476   chrX:11152241-11152476 chrX    11150000    \n",
       "4 chrX    11159190     11159535   chrX:11159190-11159535 chrX    11150000    \n",
       "5 chrX    11461148     11462157   chrX:11461148-11462157 chrX    11460000    \n",
       "6 chrX    11464833     11465367   chrX:11464833-11465367 chrX    11460000    \n",
       "  ChromEnd_B Region_B              \n",
       "1 11140000   chrX:11135000-11140000\n",
       "2 11140000   chrX:11135000-11140000\n",
       "3 11160000   chrX:11150000-11160000\n",
       "4 11160000   chrX:11150000-11160000\n",
       "5 11470000   chrX:11460000-11470000\n",
       "6 11470000   chrX:11460000-11470000\n",
       "  Name_B                                        Label_B Value\n",
       "1 chrX:11135000-11140000|chrX:11770000-11775000 Loop_A  1    \n",
       "2 chrX:11135000-11140000|chrX:11770000-11775000 Loop_A  1    \n",
       "3 chrX:11150000-11160000|chrX:11260000-11270000 Loop_A  1    \n",
       "4 chrX:11150000-11160000|chrX:11260000-11270000 Loop_A  1    \n",
       "5 chrX:11460000-11470000|chrX:11770000-11780000 Loop_A  1    \n",
       "6 chrX:11460000-11470000|chrX:11770000-11780000 Loop_A  1    "
      ]
     },
     "metadata": {},
     "output_type": "display_data"
    }
   ],
   "source": [
    "dat = dat_region_loop\n",
    "dat = dat %>% \n",
    "    dplyr::filter(Chrom_A == \"chrX\") %>% \n",
    "    dplyr::filter(Name_B %in% vec_txt_region_B_filter) %>%\n",
    "    dplyr::mutate(Value = 1) %>%\n",
    "    dplyr::distinct() \n",
    "\n",
    "vec = vec_txt_region_A\n",
    "dat = dat %>% dplyr::mutate(Region_A = factor(Region_A, levels=rev(vec)))\n",
    "\n",
    "vec = vec_txt_region_B\n",
    "dat = dat %>% dplyr::mutate(Name_B = factor(Name_B, levels=vec))\n",
    "\n",
    "dat_region_simplify = dat\n",
    "head(dat)"
   ]
  },
  {
   "cell_type": "code",
   "execution_count": 87,
   "id": "611f3ca4-b91e-41e6-824b-d9e51ce157cd",
   "metadata": {},
   "outputs": [
    {
     "data": {
      "image/png": "[encoded data removed]",
      "text/plain": [
       "plot without title"
      ]
     },
     "metadata": {
      "image/png": {
       "height": 300,
       "width": 300
      }
     },
     "output_type": "display_data"
    }
   ],
   "source": [
    "gpt = ggplot(dat, aes(x=Name_B, y=Region_A, fill=Value)) +\n",
    "    geom_tile() + \n",
    "    labs(x=\"Loop\", y=\"ATAC\") +\n",
    "    theme_cowplot() +\n",
    "    theme(\n",
    "        axis.text  = element_blank(),\n",
    "        axis.ticks = element_blank(),\n",
    "        legend.position = \"None\"\n",
    "    )\n",
    "\n",
    "options(repr.plot.height = 5, repr.plot.width = 5)\n",
    "print(gpt)"
   ]
  },
  {
   "cell_type": "code",
   "execution_count": null,
   "id": "3c436071-9fea-4b87-88cb-6c7981548fa9",
   "metadata": {},
   "outputs": [],
   "source": []
  },
  {
   "cell_type": "code",
   "execution_count": null,
   "id": "0fc809bf-0c5a-412e-a252-bbdebd0a0ab5",
   "metadata": {},
   "outputs": [],
   "source": []
  },
  {
   "cell_type": "code",
   "execution_count": null,
   "id": "320787cd-e800-4687-a283-09a19b2b9ea8",
   "metadata": {},
   "outputs": [],
   "source": []
  },
  {
   "cell_type": "code",
   "execution_count": null,
   "id": "3eabacd2-d6ed-448a-b295-f8dc5ec3a50e",
   "metadata": {},
   "outputs": [],
   "source": []
  }
 ],
 "metadata": {
  "kernelspec": {
   "display_name": "R",
   "language": "R",
   "name": "ir"
  },
  "language_info": {
   "codemirror_mode": "r",
   "file_extension": ".r",
   "mimetype": "text/x-r-source",
   "name": "R",
   "pygments_lexer": "r",
   "version": "4.4.0"
  }
 },
 "nbformat": 4,
 "nbformat_minor": 5
}
