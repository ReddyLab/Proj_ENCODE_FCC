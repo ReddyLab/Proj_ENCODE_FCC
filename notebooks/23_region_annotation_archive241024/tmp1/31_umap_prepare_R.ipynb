{
 "cells": [
  {
   "cell_type": "code",
   "execution_count": null,
   "id": "ae6c8451-b517-4d1e-bb16-b3d1d13a6d09",
   "metadata": {},
   "outputs": [],
   "source": []
  },
  {
   "cell_type": "markdown",
   "id": "c8feb523-401b-4ee2-8191-86cf72de6413",
   "metadata": {},
   "source": [
    "**Set environment**"
   ]
  },
  {
   "cell_type": "code",
   "execution_count": 1,
   "id": "190dea63-0ea2-4112-96f9-3070e74598a7",
   "metadata": {
    "tags": []
   },
   "outputs": [
    {
     "name": "stdout",
     "output_type": "stream",
     "text": [
      "You are working on        Singularity \n",
      "BASE DIRECTORY (FD_BASE): /mount \n",
      "REPO DIRECTORY (FD_REPO): /mount/repo \n",
      "WORK DIRECTORY (FD_WORK): /mount/work \n",
      "DATA DIRECTORY (FD_DATA): /mount/data \n",
      "\n",
      "You are working with      ENCODE FCC \n",
      "PATH OF PROJECT (FD_PRJ): /mount/repo/Proj_ENCODE_FCC \n",
      "PROJECT RESULTS (FD_RES): /mount/repo/Proj_ENCODE_FCC/results \n",
      "PROJECT SCRIPTS (FD_EXE): /mount/repo/Proj_ENCODE_FCC/scripts \n",
      "PROJECT DATA    (FD_DAT): /mount/repo/Proj_ENCODE_FCC/data \n",
      "PROJECT NOTE    (FD_NBK): /mount/repo/Proj_ENCODE_FCC/notebooks \n",
      "PROJECT DOCS    (FD_DOC): /mount/repo/Proj_ENCODE_FCC/docs \n",
      "PROJECT LOG     (FD_LOG): /mount/repo/Proj_ENCODE_FCC/log \n",
      "PROJECT APP     (FD_APP): /mount/repo/Proj_ENCODE_FCC/app \n",
      "PROJECT REF     (FD_REF): /mount/repo/Proj_ENCODE_FCC/references \n",
      "\n"
     ]
    }
   ],
   "source": [
    "suppressMessages(suppressWarnings(source(\"../run_config_project_sing.R\")))\n",
    "show_env()"
   ]
  },
  {
   "cell_type": "code",
   "execution_count": 2,
   "id": "1e9aedef-f089-4a73-8505-027eaa812bd3",
   "metadata": {},
   "outputs": [
    {
     "name": "stdout",
     "output_type": "stream",
     "text": [
      "region.annotation.encode_chromatin_states.tsv \n",
      "region.annotation.fcc_astarr_csaw.tsv \n",
      "region.annotation.fcc_crispri_hcrff.tsv \n",
      "region.annotation.genome_tss.tsv \n",
      "region.annotation.hic_insitu_K562_ENCSR545YBD.tsv \n",
      "region.annotation.hic_intact_K562_deep.tsv \n",
      "region.annotation.hic_intact_K562_ENCSR479XDG.tsv \n",
      "region.summary.encode_chipseq_flagship.tsv \n",
      "region.summary.encode_chipseq_histone.tsv \n",
      "region.summary.encode_chipseq_subset.tsv \n",
      "region.summary.encode_chromatin_states.tsv \n",
      "region.summary.fcc_astarr_csaw.tsv \n",
      "region.summary.fcc_crispri_hcrff.tsv \n",
      "region.summary.genome_tss.tsv \n",
      "region.summary.hic_insitu_K562_ENCSR545YBD.tsv \n",
      "region.summary.hic_intact_K562_deep.tsv \n",
      "region.summary.hic_intact_K562_ENCSR479XDG.tsv \n"
     ]
    }
   ],
   "source": [
    "txt_fdiry = file.path(\n",
    "    FD_RES, \n",
    "    \"region_annotation\", \n",
    "    \"fcc_astarr_macs_input_overlap\",\n",
    "    \"summary\"\n",
    ")\n",
    "\n",
    "vec = dir(txt_fdiry)\n",
    "for(txt in vec){cat(txt, \"\\n\")}"
   ]
  },
  {
   "cell_type": "code",
   "execution_count": 3,
   "id": "7942f46b-b275-4f88-ad74-edcf1d8ea60f",
   "metadata": {},
   "outputs": [
    {
     "name": "stdout",
     "output_type": "stream",
     "text": [
      "[1] 9651    2\n"
     ]
    },
    {
     "data": {
      "text/html": [
       "<table class=\"dataframe\">\n",
       "<caption>A tibble: 6 × 2</caption>\n",
       "<thead>\n",
       "\t<tr><th scope=col>Region_A</th><th scope=col>Label</th></tr>\n",
       "\t<tr><th scope=col>&lt;chr&gt;</th><th scope=col>&lt;chr&gt;</th></tr>\n",
       "</thead>\n",
       "<tbody>\n",
       "\t<tr><td>chr1:28934-29499   </td><td>TSS_Pol2_RNAseq</td></tr>\n",
       "\t<tr><td>chr1:826796-828040 </td><td>TSS_Pol2_RNAseq</td></tr>\n",
       "\t<tr><td>chr1:876493-877795 </td><td>TSS_Pol2_RNAseq</td></tr>\n",
       "\t<tr><td>chr1:958722-959968 </td><td>TSS_Pol2_RNAseq</td></tr>\n",
       "\t<tr><td>chr1:960468-961615 </td><td>TSS_Pol2_RNAseq</td></tr>\n",
       "\t<tr><td>chr1:998960-1001192</td><td>TSS_Pol2_RNAseq</td></tr>\n",
       "</tbody>\n",
       "</table>\n"
      ],
      "text/latex": [
       "A tibble: 6 × 2\n",
       "\\begin{tabular}{ll}\n",
       " Region\\_A & Label\\\\\n",
       " <chr> & <chr>\\\\\n",
       "\\hline\n",
       "\t chr1:28934-29499    & TSS\\_Pol2\\_RNAseq\\\\\n",
       "\t chr1:826796-828040  & TSS\\_Pol2\\_RNAseq\\\\\n",
       "\t chr1:876493-877795  & TSS\\_Pol2\\_RNAseq\\\\\n",
       "\t chr1:958722-959968  & TSS\\_Pol2\\_RNAseq\\\\\n",
       "\t chr1:960468-961615  & TSS\\_Pol2\\_RNAseq\\\\\n",
       "\t chr1:998960-1001192 & TSS\\_Pol2\\_RNAseq\\\\\n",
       "\\end{tabular}\n"
      ],
      "text/markdown": [
       "\n",
       "A tibble: 6 × 2\n",
       "\n",
       "| Region_A &lt;chr&gt; | Label &lt;chr&gt; |\n",
       "|---|---|\n",
       "| chr1:28934-29499    | TSS_Pol2_RNAseq |\n",
       "| chr1:826796-828040  | TSS_Pol2_RNAseq |\n",
       "| chr1:876493-877795  | TSS_Pol2_RNAseq |\n",
       "| chr1:958722-959968  | TSS_Pol2_RNAseq |\n",
       "| chr1:960468-961615  | TSS_Pol2_RNAseq |\n",
       "| chr1:998960-1001192 | TSS_Pol2_RNAseq |\n",
       "\n"
      ],
      "text/plain": [
       "  Region_A            Label          \n",
       "1 chr1:28934-29499    TSS_Pol2_RNAseq\n",
       "2 chr1:826796-828040  TSS_Pol2_RNAseq\n",
       "3 chr1:876493-877795  TSS_Pol2_RNAseq\n",
       "4 chr1:958722-959968  TSS_Pol2_RNAseq\n",
       "5 chr1:960468-961615  TSS_Pol2_RNAseq\n",
       "6 chr1:998960-1001192 TSS_Pol2_RNAseq"
      ]
     },
     "metadata": {},
     "output_type": "display_data"
    }
   ],
   "source": [
    "txt_fdiry = file.path(\n",
    "    FD_RES, \n",
    "    \"region_annotation\", \n",
    "    \"fcc_astarr_macs_input_overlap\",\n",
    "    \"summary\"\n",
    ")\n",
    "txt_fname = \"region.summary.genome_tss.tsv\"\n",
    "txt_fpath = file.path(txt_fdiry, txt_fname)\n",
    "\n",
    "###\n",
    "dat = read_tsv(txt_fpath, show_col_types = FALSE)\n",
    "dat = dat %>% dplyr::mutate(Label = Label_B)\n",
    "dat = dat %>% dplyr::filter(Label == \"TSS_Pol2_RNAseq\")\n",
    "\n",
    "###\n",
    "dat = dat %>% \n",
    "    dplyr::select(Region_A, Label) %>% \n",
    "    dplyr::distinct()\n",
    "\n",
    "### assign and show\n",
    "dat_region_annot_tss = dat\n",
    "print(dim(dat))\n",
    "head(dat)"
   ]
  },
  {
   "cell_type": "code",
   "execution_count": 4,
   "id": "dbc22765-c147-49fe-9d7b-46adf31de050",
   "metadata": {},
   "outputs": [
    {
     "name": "stdout",
     "output_type": "stream",
     "text": [
      "[1] 428514      2\n"
     ]
    },
    {
     "data": {
      "text/html": [
       "<table class=\"dataframe\">\n",
       "<caption>A tibble: 6 × 2</caption>\n",
       "<thead>\n",
       "\t<tr><th scope=col>Region_A</th><th scope=col>Label</th></tr>\n",
       "\t<tr><th scope=col>&lt;chr&gt;</th><th scope=col>&lt;chr&gt;</th></tr>\n",
       "</thead>\n",
       "<tbody>\n",
       "\t<tr><td>chr1:16025-16338  </td><td>chipseq_CTCF  </td></tr>\n",
       "\t<tr><td>chr1:17288-17689  </td><td>chipseq_POLR2A</td></tr>\n",
       "\t<tr><td>chr1:115429-115969</td><td>chipseq_EP300 </td></tr>\n",
       "\t<tr><td>chr1:115429-115969</td><td>chipseq_NFE2  </td></tr>\n",
       "\t<tr><td>chr1:115429-115969</td><td>chipseq_NRF1  </td></tr>\n",
       "\t<tr><td>chr1:115429-115969</td><td>chipseq_POLR2A</td></tr>\n",
       "</tbody>\n",
       "</table>\n"
      ],
      "text/latex": [
       "A tibble: 6 × 2\n",
       "\\begin{tabular}{ll}\n",
       " Region\\_A & Label\\\\\n",
       " <chr> & <chr>\\\\\n",
       "\\hline\n",
       "\t chr1:16025-16338   & chipseq\\_CTCF  \\\\\n",
       "\t chr1:17288-17689   & chipseq\\_POLR2A\\\\\n",
       "\t chr1:115429-115969 & chipseq\\_EP300 \\\\\n",
       "\t chr1:115429-115969 & chipseq\\_NFE2  \\\\\n",
       "\t chr1:115429-115969 & chipseq\\_NRF1  \\\\\n",
       "\t chr1:115429-115969 & chipseq\\_POLR2A\\\\\n",
       "\\end{tabular}\n"
      ],
      "text/markdown": [
       "\n",
       "A tibble: 6 × 2\n",
       "\n",
       "| Region_A &lt;chr&gt; | Label &lt;chr&gt; |\n",
       "|---|---|\n",
       "| chr1:16025-16338   | chipseq_CTCF   |\n",
       "| chr1:17288-17689   | chipseq_POLR2A |\n",
       "| chr1:115429-115969 | chipseq_EP300  |\n",
       "| chr1:115429-115969 | chipseq_NFE2   |\n",
       "| chr1:115429-115969 | chipseq_NRF1   |\n",
       "| chr1:115429-115969 | chipseq_POLR2A |\n",
       "\n"
      ],
      "text/plain": [
       "  Region_A           Label         \n",
       "1 chr1:16025-16338   chipseq_CTCF  \n",
       "2 chr1:17288-17689   chipseq_POLR2A\n",
       "3 chr1:115429-115969 chipseq_EP300 \n",
       "4 chr1:115429-115969 chipseq_NFE2  \n",
       "5 chr1:115429-115969 chipseq_NRF1  \n",
       "6 chr1:115429-115969 chipseq_POLR2A"
      ]
     },
     "metadata": {},
     "output_type": "display_data"
    }
   ],
   "source": [
    "txt_fdiry = file.path(\n",
    "    FD_RES, \n",
    "    \"region_annotation\", \n",
    "    \"fcc_astarr_macs_input_overlap\",\n",
    "    \"summary\"\n",
    ")\n",
    "txt_fname = \"region.summary.encode_chipseq_subset.tsv\"\n",
    "txt_fpath = file.path(txt_fdiry, txt_fname)\n",
    "\n",
    "###\n",
    "dat = read_tsv(txt_fpath, show_col_types = FALSE)\n",
    "\n",
    "###\n",
    "dat = dat %>% dplyr::mutate(Label = paste(\"chipseq\", Label_B, sep=\"_\"))\n",
    "\n",
    "###\n",
    "dat = dat %>% \n",
    "    dplyr::select(Region_A, Label) %>% \n",
    "    dplyr::distinct()\n",
    "\n",
    "### assign and show\n",
    "dat_region_annot_chipseq_subset = dat\n",
    "print(dim(dat))\n",
    "head(dat)"
   ]
  },
  {
   "cell_type": "code",
   "execution_count": 5,
   "id": "1bc44f8a-0db9-47e3-ac3b-4958812ee7be",
   "metadata": {},
   "outputs": [
    {
     "name": "stdout",
     "output_type": "stream",
     "text": [
      "[1] 384749      2\n"
     ]
    },
    {
     "data": {
      "text/html": [
       "<table class=\"dataframe\">\n",
       "<caption>A tibble: 6 × 2</caption>\n",
       "<thead>\n",
       "\t<tr><th scope=col>Region_A</th><th scope=col>Label</th></tr>\n",
       "\t<tr><th scope=col>&lt;chr&gt;</th><th scope=col>&lt;chr&gt;</th></tr>\n",
       "</thead>\n",
       "<tbody>\n",
       "\t<tr><td>chr1:16025-16338  </td><td>chipseq_H3K36me3</td></tr>\n",
       "\t<tr><td>chr1:137748-138049</td><td>chipseq_H3K27ac </td></tr>\n",
       "\t<tr><td>chr1:137748-138049</td><td>chipseq_H3K4me2 </td></tr>\n",
       "\t<tr><td>chr1:137748-138049</td><td>chipseq_H3K4me3 </td></tr>\n",
       "\t<tr><td>chr1:137748-138049</td><td>chipseq_H3K79me2</td></tr>\n",
       "\t<tr><td>chr1:137748-138049</td><td>chipseq_H3K9ac  </td></tr>\n",
       "</tbody>\n",
       "</table>\n"
      ],
      "text/latex": [
       "A tibble: 6 × 2\n",
       "\\begin{tabular}{ll}\n",
       " Region\\_A & Label\\\\\n",
       " <chr> & <chr>\\\\\n",
       "\\hline\n",
       "\t chr1:16025-16338   & chipseq\\_H3K36me3\\\\\n",
       "\t chr1:137748-138049 & chipseq\\_H3K27ac \\\\\n",
       "\t chr1:137748-138049 & chipseq\\_H3K4me2 \\\\\n",
       "\t chr1:137748-138049 & chipseq\\_H3K4me3 \\\\\n",
       "\t chr1:137748-138049 & chipseq\\_H3K79me2\\\\\n",
       "\t chr1:137748-138049 & chipseq\\_H3K9ac  \\\\\n",
       "\\end{tabular}\n"
      ],
      "text/markdown": [
       "\n",
       "A tibble: 6 × 2\n",
       "\n",
       "| Region_A &lt;chr&gt; | Label &lt;chr&gt; |\n",
       "|---|---|\n",
       "| chr1:16025-16338   | chipseq_H3K36me3 |\n",
       "| chr1:137748-138049 | chipseq_H3K27ac  |\n",
       "| chr1:137748-138049 | chipseq_H3K4me2  |\n",
       "| chr1:137748-138049 | chipseq_H3K4me3  |\n",
       "| chr1:137748-138049 | chipseq_H3K79me2 |\n",
       "| chr1:137748-138049 | chipseq_H3K9ac   |\n",
       "\n"
      ],
      "text/plain": [
       "  Region_A           Label           \n",
       "1 chr1:16025-16338   chipseq_H3K36me3\n",
       "2 chr1:137748-138049 chipseq_H3K27ac \n",
       "3 chr1:137748-138049 chipseq_H3K4me2 \n",
       "4 chr1:137748-138049 chipseq_H3K4me3 \n",
       "5 chr1:137748-138049 chipseq_H3K79me2\n",
       "6 chr1:137748-138049 chipseq_H3K9ac  "
      ]
     },
     "metadata": {},
     "output_type": "display_data"
    }
   ],
   "source": [
    "txt_fdiry = file.path(\n",
    "    FD_RES, \n",
    "    \"region_annotation\", \n",
    "    \"fcc_astarr_macs_input_overlap\",\n",
    "    \"summary\"\n",
    ")\n",
    "txt_fname = \"region.summary.encode_chipseq_histone.tsv\"\n",
    "txt_fpath = file.path(txt_fdiry, txt_fname)\n",
    "\n",
    "###\n",
    "dat = read_tsv(txt_fpath, show_col_types = FALSE)\n",
    "\n",
    "###\n",
    "dat = dat %>% dplyr::mutate(Label = paste(\"chipseq\", Label_B, sep=\"_\"))\n",
    "\n",
    "###\n",
    "dat = dat %>% \n",
    "    dplyr::select(Region_A, Label) %>% \n",
    "    dplyr::distinct()\n",
    "\n",
    "### assign and show\n",
    "dat_region_annot_chipseq_histone = dat\n",
    "print(dim(dat))\n",
    "head(dat)"
   ]
  },
  {
   "cell_type": "code",
   "execution_count": 53,
   "id": "e97233d6-f5c4-4c83-a25f-69e8c4924872",
   "metadata": {},
   "outputs": [
    {
     "name": "stdout",
     "output_type": "stream",
     "text": [
      "[1] 4589397       2\n"
     ]
    },
    {
     "data": {
      "text/html": [
       "<table class=\"dataframe\">\n",
       "<caption>A tibble: 6 × 2</caption>\n",
       "<thead>\n",
       "\t<tr><th scope=col>Region_A</th><th scope=col>Label</th></tr>\n",
       "\t<tr><th scope=col>&lt;chr&gt;</th><th scope=col>&lt;chr&gt;</th></tr>\n",
       "</thead>\n",
       "<tbody>\n",
       "\t<tr><td>chr1:10038-10405</td><td>chipseq_CREBBP</td></tr>\n",
       "\t<tr><td>chr1:10038-10405</td><td>chipseq_HMBOX1</td></tr>\n",
       "\t<tr><td>chr1:10038-10405</td><td>chipseq_ZBTB33</td></tr>\n",
       "\t<tr><td>chr1:16025-16338</td><td>chipseq_CTCF  </td></tr>\n",
       "\t<tr><td>chr1:16025-16338</td><td>chipseq_RAD21 </td></tr>\n",
       "\t<tr><td>chr1:17288-17689</td><td>chipseq_POLR2A</td></tr>\n",
       "</tbody>\n",
       "</table>\n"
      ],
      "text/latex": [
       "A tibble: 6 × 2\n",
       "\\begin{tabular}{ll}\n",
       " Region\\_A & Label\\\\\n",
       " <chr> & <chr>\\\\\n",
       "\\hline\n",
       "\t chr1:10038-10405 & chipseq\\_CREBBP\\\\\n",
       "\t chr1:10038-10405 & chipseq\\_HMBOX1\\\\\n",
       "\t chr1:10038-10405 & chipseq\\_ZBTB33\\\\\n",
       "\t chr1:16025-16338 & chipseq\\_CTCF  \\\\\n",
       "\t chr1:16025-16338 & chipseq\\_RAD21 \\\\\n",
       "\t chr1:17288-17689 & chipseq\\_POLR2A\\\\\n",
       "\\end{tabular}\n"
      ],
      "text/markdown": [
       "\n",
       "A tibble: 6 × 2\n",
       "\n",
       "| Region_A &lt;chr&gt; | Label &lt;chr&gt; |\n",
       "|---|---|\n",
       "| chr1:10038-10405 | chipseq_CREBBP |\n",
       "| chr1:10038-10405 | chipseq_HMBOX1 |\n",
       "| chr1:10038-10405 | chipseq_ZBTB33 |\n",
       "| chr1:16025-16338 | chipseq_CTCF   |\n",
       "| chr1:16025-16338 | chipseq_RAD21  |\n",
       "| chr1:17288-17689 | chipseq_POLR2A |\n",
       "\n"
      ],
      "text/plain": [
       "  Region_A         Label         \n",
       "1 chr1:10038-10405 chipseq_CREBBP\n",
       "2 chr1:10038-10405 chipseq_HMBOX1\n",
       "3 chr1:10038-10405 chipseq_ZBTB33\n",
       "4 chr1:16025-16338 chipseq_CTCF  \n",
       "5 chr1:16025-16338 chipseq_RAD21 \n",
       "6 chr1:17288-17689 chipseq_POLR2A"
      ]
     },
     "metadata": {},
     "output_type": "display_data"
    }
   ],
   "source": [
    "txt_fdiry = file.path(\n",
    "    FD_RES, \n",
    "    \"region_annotation\", \n",
    "    \"fcc_astarr_macs_input_overlap\",\n",
    "    \"summary\"\n",
    ")\n",
    "txt_fname = \"region.summary.encode_chipseq_flagship.tsv\"\n",
    "txt_fpath = file.path(txt_fdiry, txt_fname)\n",
    "\n",
    "###\n",
    "dat = read_tsv(txt_fpath, show_col_types = FALSE)\n",
    "\n",
    "###\n",
    "dat = dat %>% dplyr::mutate(Label = paste(\"chipseq\", Label_B, sep=\"_\"))\n",
    "\n",
    "###\n",
    "dat = dat %>% \n",
    "    dplyr::select(Region_A, Label) %>% \n",
    "    dplyr::distinct()\n",
    "\n",
    "### assign and show\n",
    "dat_region_annot_chipseq_flagship = dat\n",
    "print(dim(dat))\n",
    "head(dat)"
   ]
  },
  {
   "cell_type": "code",
   "execution_count": 6,
   "id": "d1767d2c-bb8f-441a-afcc-d16ca643fe65",
   "metadata": {},
   "outputs": [
    {
     "name": "stdout",
     "output_type": "stream",
     "text": [
      "[1] 194830      2\n"
     ]
    },
    {
     "data": {
      "text/html": [
       "<table class=\"dataframe\">\n",
       "<caption>A tibble: 6 × 2</caption>\n",
       "<thead>\n",
       "\t<tr><th scope=col>Region_A</th><th scope=col>Label</th></tr>\n",
       "\t<tr><th scope=col>&lt;chr&gt;</th><th scope=col>&lt;chr&gt;</th></tr>\n",
       "</thead>\n",
       "<tbody>\n",
       "\t<tr><td>chr1:778233-779389</td><td>hic_loop_chr1:778000-779000|chr1:827000-828000  </td></tr>\n",
       "\t<tr><td>chr1:869637-870233</td><td>hic_loop_chr1:870000-872000|chr1:974000-976000  </td></tr>\n",
       "\t<tr><td>chr1:869637-870233</td><td>hic_loop_chr1:870000-872000|chr1:1062000-1064000</td></tr>\n",
       "\t<tr><td>chr1:869637-870233</td><td>hic_loop_chr1:870000-875000|chr1:935000-940000  </td></tr>\n",
       "\t<tr><td>chr1:869637-870233</td><td>hic_loop_chr1:868000-870000|chr1:1290000-1292000</td></tr>\n",
       "\t<tr><td>chr1:903783-905204</td><td>hic_loop_chr1:904000-905000|chr1:976000-977000  </td></tr>\n",
       "</tbody>\n",
       "</table>\n"
      ],
      "text/latex": [
       "A tibble: 6 × 2\n",
       "\\begin{tabular}{ll}\n",
       " Region\\_A & Label\\\\\n",
       " <chr> & <chr>\\\\\n",
       "\\hline\n",
       "\t chr1:778233-779389 & hic\\_loop\\_chr1:778000-779000\\textbar{}chr1:827000-828000  \\\\\n",
       "\t chr1:869637-870233 & hic\\_loop\\_chr1:870000-872000\\textbar{}chr1:974000-976000  \\\\\n",
       "\t chr1:869637-870233 & hic\\_loop\\_chr1:870000-872000\\textbar{}chr1:1062000-1064000\\\\\n",
       "\t chr1:869637-870233 & hic\\_loop\\_chr1:870000-875000\\textbar{}chr1:935000-940000  \\\\\n",
       "\t chr1:869637-870233 & hic\\_loop\\_chr1:868000-870000\\textbar{}chr1:1290000-1292000\\\\\n",
       "\t chr1:903783-905204 & hic\\_loop\\_chr1:904000-905000\\textbar{}chr1:976000-977000  \\\\\n",
       "\\end{tabular}\n"
      ],
      "text/markdown": [
       "\n",
       "A tibble: 6 × 2\n",
       "\n",
       "| Region_A &lt;chr&gt; | Label &lt;chr&gt; |\n",
       "|---|---|\n",
       "| chr1:778233-779389 | hic_loop_chr1:778000-779000|chr1:827000-828000   |\n",
       "| chr1:869637-870233 | hic_loop_chr1:870000-872000|chr1:974000-976000   |\n",
       "| chr1:869637-870233 | hic_loop_chr1:870000-872000|chr1:1062000-1064000 |\n",
       "| chr1:869637-870233 | hic_loop_chr1:870000-875000|chr1:935000-940000   |\n",
       "| chr1:869637-870233 | hic_loop_chr1:868000-870000|chr1:1290000-1292000 |\n",
       "| chr1:903783-905204 | hic_loop_chr1:904000-905000|chr1:976000-977000   |\n",
       "\n"
      ],
      "text/plain": [
       "  Region_A           Label                                           \n",
       "1 chr1:778233-779389 hic_loop_chr1:778000-779000|chr1:827000-828000  \n",
       "2 chr1:869637-870233 hic_loop_chr1:870000-872000|chr1:974000-976000  \n",
       "3 chr1:869637-870233 hic_loop_chr1:870000-872000|chr1:1062000-1064000\n",
       "4 chr1:869637-870233 hic_loop_chr1:870000-875000|chr1:935000-940000  \n",
       "5 chr1:869637-870233 hic_loop_chr1:868000-870000|chr1:1290000-1292000\n",
       "6 chr1:903783-905204 hic_loop_chr1:904000-905000|chr1:976000-977000  "
      ]
     },
     "metadata": {},
     "output_type": "display_data"
    }
   ],
   "source": [
    "txt_fdiry = file.path(\n",
    "    FD_RES, \n",
    "    \"region_annotation\", \n",
    "    \"fcc_astarr_macs_input_overlap\",\n",
    "    \"summary\"\n",
    ")\n",
    "txt_fname = \"region.summary.hic_intact_K562_deep.tsv\"\n",
    "txt_fpath = file.path(txt_fdiry, txt_fname)\n",
    "\n",
    "###\n",
    "dat = read_tsv(txt_fpath, show_col_types = FALSE)\n",
    "\n",
    "###\n",
    "dat = dat %>% \n",
    "    dplyr::mutate(Label = paste(\"hic_loop\", Name_B, sep=\"_\")) %>%\n",
    "    dplyr::filter(Label_B == \"Loop_A|Loop_B\") %>%\n",
    "    dplyr::filter(Count > 1)\n",
    "\n",
    "###\n",
    "dat = dat %>% \n",
    "    dplyr::select(Region_A, Label) %>% \n",
    "    dplyr::distinct()\n",
    "\n",
    "### assign and show\n",
    "dat_region_hic_loop = dat\n",
    "print(dim(dat))\n",
    "head(dat)"
   ]
  },
  {
   "cell_type": "code",
   "execution_count": 31,
   "id": "c1f9cf2e-45d5-4ff2-b581-7ba69364fd5b",
   "metadata": {},
   "outputs": [
    {
     "name": "stdout",
     "output_type": "stream",
     "text": [
      "[1] 66821     2\n"
     ]
    },
    {
     "data": {
      "text/html": [
       "<table class=\"dataframe\">\n",
       "<caption>A tibble: 6 × 2</caption>\n",
       "<thead>\n",
       "\t<tr><th scope=col>Region_A</th><th scope=col>Label</th></tr>\n",
       "\t<tr><th scope=col>&lt;chr&gt;</th><th scope=col>&lt;chr&gt;</th></tr>\n",
       "</thead>\n",
       "<tbody>\n",
       "\t<tr><td>chr1:1121812-1122517</td><td>hic_tad_chr1:1120000-1240000</td></tr>\n",
       "\t<tr><td>chr1:1123051-1123418</td><td>hic_tad_chr1:1120000-1240000</td></tr>\n",
       "\t<tr><td>chr1:1124365-1124875</td><td>hic_tad_chr1:1120000-1240000</td></tr>\n",
       "\t<tr><td>chr1:1125359-1125597</td><td>hic_tad_chr1:1120000-1240000</td></tr>\n",
       "\t<tr><td>chr1:1127573-1128245</td><td>hic_tad_chr1:1120000-1240000</td></tr>\n",
       "\t<tr><td>chr1:1128708-1128988</td><td>hic_tad_chr1:1120000-1240000</td></tr>\n",
       "</tbody>\n",
       "</table>\n"
      ],
      "text/latex": [
       "A tibble: 6 × 2\n",
       "\\begin{tabular}{ll}\n",
       " Region\\_A & Label\\\\\n",
       " <chr> & <chr>\\\\\n",
       "\\hline\n",
       "\t chr1:1121812-1122517 & hic\\_tad\\_chr1:1120000-1240000\\\\\n",
       "\t chr1:1123051-1123418 & hic\\_tad\\_chr1:1120000-1240000\\\\\n",
       "\t chr1:1124365-1124875 & hic\\_tad\\_chr1:1120000-1240000\\\\\n",
       "\t chr1:1125359-1125597 & hic\\_tad\\_chr1:1120000-1240000\\\\\n",
       "\t chr1:1127573-1128245 & hic\\_tad\\_chr1:1120000-1240000\\\\\n",
       "\t chr1:1128708-1128988 & hic\\_tad\\_chr1:1120000-1240000\\\\\n",
       "\\end{tabular}\n"
      ],
      "text/markdown": [
       "\n",
       "A tibble: 6 × 2\n",
       "\n",
       "| Region_A &lt;chr&gt; | Label &lt;chr&gt; |\n",
       "|---|---|\n",
       "| chr1:1121812-1122517 | hic_tad_chr1:1120000-1240000 |\n",
       "| chr1:1123051-1123418 | hic_tad_chr1:1120000-1240000 |\n",
       "| chr1:1124365-1124875 | hic_tad_chr1:1120000-1240000 |\n",
       "| chr1:1125359-1125597 | hic_tad_chr1:1120000-1240000 |\n",
       "| chr1:1127573-1128245 | hic_tad_chr1:1120000-1240000 |\n",
       "| chr1:1128708-1128988 | hic_tad_chr1:1120000-1240000 |\n",
       "\n"
      ],
      "text/plain": [
       "  Region_A             Label                       \n",
       "1 chr1:1121812-1122517 hic_tad_chr1:1120000-1240000\n",
       "2 chr1:1123051-1123418 hic_tad_chr1:1120000-1240000\n",
       "3 chr1:1124365-1124875 hic_tad_chr1:1120000-1240000\n",
       "4 chr1:1125359-1125597 hic_tad_chr1:1120000-1240000\n",
       "5 chr1:1127573-1128245 hic_tad_chr1:1120000-1240000\n",
       "6 chr1:1128708-1128988 hic_tad_chr1:1120000-1240000"
      ]
     },
     "metadata": {},
     "output_type": "display_data"
    }
   ],
   "source": [
    "txt_fdiry = file.path(\n",
    "    FD_RES, \n",
    "    \"region_annotation\", \n",
    "    \"fcc_astarr_macs_input_overlap\",\n",
    "    \"summary\"\n",
    ")\n",
    "txt_fname = \"region.summary.hic_intact_K562_ENCSR479XDG.tsv\"\n",
    "txt_fpath = file.path(txt_fdiry, txt_fname)\n",
    "\n",
    "###\n",
    "dat = read_tsv(txt_fpath, show_col_types = FALSE)\n",
    "\n",
    "###\n",
    "dat = dat %>% \n",
    "    dplyr::mutate(Label = paste(\"hic_tad\", Name_B, sep=\"_\"))  %>%\n",
    "    dplyr::filter(Label_B == \"TAD\") %>%\n",
    "    dplyr::filter(Count > 1)\n",
    "\n",
    "###\n",
    "dat = dat %>% \n",
    "    dplyr::select(Region_A, Label) %>% \n",
    "    dplyr::distinct()\n",
    "\n",
    "### assign and show\n",
    "dat_region_hic_tad = dat\n",
    "print(dim(dat))\n",
    "head(dat)"
   ]
  },
  {
   "cell_type": "code",
   "execution_count": null,
   "id": "082a106e-90be-4faf-ada1-ff8af71d075a",
   "metadata": {},
   "outputs": [],
   "source": []
  },
  {
   "cell_type": "code",
   "execution_count": null,
   "id": "f3f8fde1-c633-42bc-b8a4-57ff138b617b",
   "metadata": {},
   "outputs": [],
   "source": []
  },
  {
   "cell_type": "code",
   "execution_count": null,
   "id": "3659d32a-90e1-4349-91cb-90db97dc098f",
   "metadata": {},
   "outputs": [],
   "source": []
  },
  {
   "cell_type": "code",
   "execution_count": 54,
   "id": "a25e1e66-4c43-48bf-9848-e5ac943fbfed",
   "metadata": {},
   "outputs": [
    {
     "data": {
      "text/html": [
       "<dl>\n",
       "\t<dt>$TSS</dt>\n",
       "\t\t<dd>1</dd>\n",
       "\t<dt>$`ChIPseq;Subset`</dt>\n",
       "\t\t<dd>21</dd>\n",
       "\t<dt>$`ChIPseq;Histone`</dt>\n",
       "\t\t<dd>12</dd>\n",
       "\t<dt>$`ChIPseq;TF`</dt>\n",
       "\t\t<dd>513</dd>\n",
       "\t<dt>$`HiC;Loop`</dt>\n",
       "\t\t<dd>87824</dd>\n",
       "\t<dt>$`HiC;TAD`</dt>\n",
       "\t\t<dd>4255</dd>\n",
       "</dl>\n"
      ],
      "text/latex": [
       "\\begin{description}\n",
       "\\item[\\$TSS] 1\n",
       "\\item[\\$`ChIPseq;Subset`] 21\n",
       "\\item[\\$`ChIPseq;Histone`] 12\n",
       "\\item[\\$`ChIPseq;TF`] 513\n",
       "\\item[\\$`HiC;Loop`] 87824\n",
       "\\item[\\$`HiC;TAD`] 4255\n",
       "\\end{description}\n"
      ],
      "text/markdown": [
       "$TSS\n",
       ":   1\n",
       "$`ChIPseq;Subset`\n",
       ":   21\n",
       "$`ChIPseq;Histone`\n",
       ":   12\n",
       "$`ChIPseq;TF`\n",
       ":   513\n",
       "$`HiC;Loop`\n",
       ":   87824\n",
       "$`HiC;TAD`\n",
       ":   4255\n",
       "\n",
       "\n"
      ],
      "text/plain": [
       "$TSS\n",
       "[1] 1\n",
       "\n",
       "$`ChIPseq;Subset`\n",
       "[1] 21\n",
       "\n",
       "$`ChIPseq;Histone`\n",
       "[1] 12\n",
       "\n",
       "$`ChIPseq;TF`\n",
       "[1] 513\n",
       "\n",
       "$`HiC;Loop`\n",
       "[1] 87824\n",
       "\n",
       "$`HiC;TAD`\n",
       "[1] 4255\n"
      ]
     },
     "metadata": {},
     "output_type": "display_data"
    }
   ],
   "source": [
    "###\n",
    "lst = list(\n",
    "    \"TSS\"             = dat_region_annot_tss,\n",
    "    \"ChIPseq;Subset\"  = dat_region_annot_chipseq_subset,\n",
    "    \"ChIPseq;Histone\" = dat_region_annot_chipseq_histone,\n",
    "    \"ChIPseq;TF\"      = dat_region_annot_chipseq_flagship,\n",
    "    \"HiC;Loop\"        = dat_region_hic_loop,\n",
    "    \"HiC;TAD\"         = dat_region_hic_tad\n",
    ")\n",
    "\n",
    "lst = lapply(lst, function(dat){\n",
    "    vec = unique(dat$Label)\n",
    "    return(vec)\n",
    "})\n",
    "\n",
    "lapply(lst, length)"
   ]
  },
  {
   "cell_type": "code",
   "execution_count": null,
   "id": "c834d840-ef24-445f-ad89-2665276419b6",
   "metadata": {},
   "outputs": [],
   "source": []
  },
  {
   "cell_type": "code",
   "execution_count": null,
   "id": "43459a1f-d8a4-4efc-acde-9111adcec71a",
   "metadata": {},
   "outputs": [],
   "source": []
  },
  {
   "cell_type": "code",
   "execution_count": null,
   "id": "435dcb66-c02b-4883-8441-6e585eb6e66e",
   "metadata": {},
   "outputs": [],
   "source": []
  },
  {
   "cell_type": "code",
   "execution_count": 55,
   "id": "a274979d-5907-412b-87b4-75276cf21c37",
   "metadata": {},
   "outputs": [
    {
     "name": "stdout",
     "output_type": "stream",
     "text": [
      "ATAC:  129866 \n",
      "Label: 29 \n",
      "\n",
      "ATAC:  98306 \n",
      "Label: 29 \n",
      "\n",
      "[1] 630103      2\n"
     ]
    },
    {
     "data": {
      "text/html": [
       "<table class=\"dataframe\">\n",
       "<caption>A tibble: 3 × 2</caption>\n",
       "<thead>\n",
       "\t<tr><th scope=col>Region_A</th><th scope=col>Label</th></tr>\n",
       "\t<tr><th scope=col>&lt;chr&gt;</th><th scope=col>&lt;chr&gt;</th></tr>\n",
       "</thead>\n",
       "<tbody>\n",
       "\t<tr><td>chr1:826796-828040</td><td>TSS_Pol2_RNAseq</td></tr>\n",
       "\t<tr><td>chr1:958722-959968</td><td>TSS_Pol2_RNAseq</td></tr>\n",
       "\t<tr><td>chr1:960468-961615</td><td>TSS_Pol2_RNAseq</td></tr>\n",
       "</tbody>\n",
       "</table>\n"
      ],
      "text/latex": [
       "A tibble: 3 × 2\n",
       "\\begin{tabular}{ll}\n",
       " Region\\_A & Label\\\\\n",
       " <chr> & <chr>\\\\\n",
       "\\hline\n",
       "\t chr1:826796-828040 & TSS\\_Pol2\\_RNAseq\\\\\n",
       "\t chr1:958722-959968 & TSS\\_Pol2\\_RNAseq\\\\\n",
       "\t chr1:960468-961615 & TSS\\_Pol2\\_RNAseq\\\\\n",
       "\\end{tabular}\n"
      ],
      "text/markdown": [
       "\n",
       "A tibble: 3 × 2\n",
       "\n",
       "| Region_A &lt;chr&gt; | Label &lt;chr&gt; |\n",
       "|---|---|\n",
       "| chr1:826796-828040 | TSS_Pol2_RNAseq |\n",
       "| chr1:958722-959968 | TSS_Pol2_RNAseq |\n",
       "| chr1:960468-961615 | TSS_Pol2_RNAseq |\n",
       "\n"
      ],
      "text/plain": [
       "  Region_A           Label          \n",
       "1 chr1:826796-828040 TSS_Pol2_RNAseq\n",
       "2 chr1:958722-959968 TSS_Pol2_RNAseq\n",
       "3 chr1:960468-961615 TSS_Pol2_RNAseq"
      ]
     },
     "metadata": {},
     "output_type": "display_data"
    }
   ],
   "source": [
    "###\n",
    "lst = list(\n",
    "    \"TSS\"             = dat_region_annot_tss,\n",
    "    \"ChIPseq;Subset\"  = dat_region_annot_chipseq_subset,\n",
    "    \"ChIPseq;Histone\" = dat_region_annot_chipseq_histone\n",
    ")\n",
    "\n",
    "###\n",
    "dat  = bind_rows(lst) %>% dplyr::distinct()\n",
    "vec1 = unique(dat$Region_A)\n",
    "vec2 = unique(dat$Label)\n",
    "cat(\"ATAC: \", length(vec1), \"\\n\")\n",
    "cat(\"Label:\", length(vec2), \"\\n\")\n",
    "cat(\"\\n\")\n",
    "\n",
    "###\n",
    "tmp = dat %>% \n",
    "    dplyr::group_by(Region_A) %>% \n",
    "    dplyr::summarize(Count = n()) %>%\n",
    "    dplyr::filter(Count > 1)\n",
    "vec = tmp$Region_A\n",
    "\n",
    "###\n",
    "dat = dat %>% dplyr::filter(Region_A %in% vec)\n",
    "vec1 = unique(dat$Region_A)\n",
    "vec2 = unique(dat$Label)\n",
    "cat(\"ATAC: \", length(vec1), \"\\n\")\n",
    "cat(\"Label:\", length(vec2), \"\\n\")\n",
    "cat(\"\\n\")\n",
    "\n",
    "###\n",
    "dat_region_annot_merge_subset = dat\n",
    "print(dim(dat))\n",
    "head(dat, 3)"
   ]
  },
  {
   "cell_type": "code",
   "execution_count": 56,
   "id": "96f30d4f-774d-4636-b5c1-de2eb0099a96",
   "metadata": {},
   "outputs": [
    {
     "name": "stdout",
     "output_type": "stream",
     "text": [
      "ATAC:  139151 \n",
      "Label: 526 \n",
      "\n",
      "ATAC:  139151 \n",
      "Label: 526 \n",
      "\n",
      "ATAC:  124046 \n",
      "Label: 526 \n",
      "\n",
      "[1] 4968692       2\n"
     ]
    },
    {
     "data": {
      "text/html": [
       "<table class=\"dataframe\">\n",
       "<caption>A tibble: 3 × 2</caption>\n",
       "<thead>\n",
       "\t<tr><th scope=col>Region_A</th><th scope=col>Label</th></tr>\n",
       "\t<tr><th scope=col>&lt;chr&gt;</th><th scope=col>&lt;chr&gt;</th></tr>\n",
       "</thead>\n",
       "<tbody>\n",
       "\t<tr><td>chr1:826796-828040</td><td>TSS_Pol2_RNAseq</td></tr>\n",
       "\t<tr><td>chr1:958722-959968</td><td>TSS_Pol2_RNAseq</td></tr>\n",
       "\t<tr><td>chr1:960468-961615</td><td>TSS_Pol2_RNAseq</td></tr>\n",
       "</tbody>\n",
       "</table>\n"
      ],
      "text/latex": [
       "A tibble: 3 × 2\n",
       "\\begin{tabular}{ll}\n",
       " Region\\_A & Label\\\\\n",
       " <chr> & <chr>\\\\\n",
       "\\hline\n",
       "\t chr1:826796-828040 & TSS\\_Pol2\\_RNAseq\\\\\n",
       "\t chr1:958722-959968 & TSS\\_Pol2\\_RNAseq\\\\\n",
       "\t chr1:960468-961615 & TSS\\_Pol2\\_RNAseq\\\\\n",
       "\\end{tabular}\n"
      ],
      "text/markdown": [
       "\n",
       "A tibble: 3 × 2\n",
       "\n",
       "| Region_A &lt;chr&gt; | Label &lt;chr&gt; |\n",
       "|---|---|\n",
       "| chr1:826796-828040 | TSS_Pol2_RNAseq |\n",
       "| chr1:958722-959968 | TSS_Pol2_RNAseq |\n",
       "| chr1:960468-961615 | TSS_Pol2_RNAseq |\n",
       "\n"
      ],
      "text/plain": [
       "  Region_A           Label          \n",
       "1 chr1:826796-828040 TSS_Pol2_RNAseq\n",
       "2 chr1:958722-959968 TSS_Pol2_RNAseq\n",
       "3 chr1:960468-961615 TSS_Pol2_RNAseq"
      ]
     },
     "metadata": {},
     "output_type": "display_data"
    }
   ],
   "source": [
    "###\n",
    "lst = list(\n",
    "    \"TSS\"             = dat_region_annot_tss,\n",
    "    \"ChIPseq;Subset\"  = dat_region_annot_chipseq_subset,\n",
    "    \"ChIPseq;Histone\" = dat_region_annot_chipseq_histone,\n",
    "    \"ChIPseq;TF\"      = dat_region_annot_chipseq_flagship\n",
    ")\n",
    "\n",
    "###\n",
    "dat  = bind_rows(lst) %>% dplyr::distinct()\n",
    "vec1 = unique(dat$Region_A)\n",
    "vec2 = unique(dat$Label)\n",
    "cat(\"ATAC: \", length(vec1), \"\\n\")\n",
    "cat(\"Label:\", length(vec2), \"\\n\")\n",
    "cat(\"\\n\")\n",
    "\n",
    "###\n",
    "tmp = dat %>% \n",
    "    dplyr::group_by(Label) %>% \n",
    "    dplyr::summarize(Count = n()) %>%\n",
    "    dplyr::filter(Count > 1)\n",
    "vec = tmp$Label\n",
    "\n",
    "dat = dat %>% dplyr::filter(Label %in% vec)\n",
    "vec1 = unique(dat$Region_A)\n",
    "vec2 = unique(dat$Label)\n",
    "cat(\"ATAC: \", length(vec1), \"\\n\")\n",
    "cat(\"Label:\", length(vec2), \"\\n\")\n",
    "cat(\"\\n\")\n",
    "\n",
    "###\n",
    "tmp = dat %>% \n",
    "    dplyr::group_by(Region_A) %>% \n",
    "    dplyr::summarize(Count = n()) %>%\n",
    "    dplyr::filter(Count > 1)\n",
    "vec = tmp$Region_A\n",
    "\n",
    "dat = dat %>% dplyr::filter(Region_A %in% vec)\n",
    "vec1 = unique(dat$Region_A)\n",
    "vec2 = unique(dat$Label)\n",
    "cat(\"ATAC: \", length(vec1), \"\\n\")\n",
    "cat(\"Label:\", length(vec2), \"\\n\")\n",
    "cat(\"\\n\")\n",
    "\n",
    "###\n",
    "dat_region_annot_merge_chipseq = dat\n",
    "print(dim(dat))\n",
    "head(dat, 3)"
   ]
  },
  {
   "cell_type": "code",
   "execution_count": 58,
   "id": "d4bb98bd-3a61-4eca-b674-9d4bcd2a49fc",
   "metadata": {},
   "outputs": [
    {
     "name": "stdout",
     "output_type": "stream",
     "text": [
      "ATAC:  143014 \n",
      "Label: 4781 \n",
      "\n",
      "ATAC:  143014 \n",
      "Label: 4781 \n",
      "\n",
      "ATAC:  130289 \n",
      "Label: 4779 \n",
      "\n",
      "[1] 5037893       2\n"
     ]
    },
    {
     "data": {
      "text/html": [
       "<table class=\"dataframe\">\n",
       "<caption>A tibble: 3 × 2</caption>\n",
       "<thead>\n",
       "\t<tr><th scope=col>Region_A</th><th scope=col>Label</th></tr>\n",
       "\t<tr><th scope=col>&lt;chr&gt;</th><th scope=col>&lt;chr&gt;</th></tr>\n",
       "</thead>\n",
       "<tbody>\n",
       "\t<tr><td>chr1:826796-828040</td><td>TSS_Pol2_RNAseq</td></tr>\n",
       "\t<tr><td>chr1:958722-959968</td><td>TSS_Pol2_RNAseq</td></tr>\n",
       "\t<tr><td>chr1:960468-961615</td><td>TSS_Pol2_RNAseq</td></tr>\n",
       "</tbody>\n",
       "</table>\n"
      ],
      "text/latex": [
       "A tibble: 3 × 2\n",
       "\\begin{tabular}{ll}\n",
       " Region\\_A & Label\\\\\n",
       " <chr> & <chr>\\\\\n",
       "\\hline\n",
       "\t chr1:826796-828040 & TSS\\_Pol2\\_RNAseq\\\\\n",
       "\t chr1:958722-959968 & TSS\\_Pol2\\_RNAseq\\\\\n",
       "\t chr1:960468-961615 & TSS\\_Pol2\\_RNAseq\\\\\n",
       "\\end{tabular}\n"
      ],
      "text/markdown": [
       "\n",
       "A tibble: 3 × 2\n",
       "\n",
       "| Region_A &lt;chr&gt; | Label &lt;chr&gt; |\n",
       "|---|---|\n",
       "| chr1:826796-828040 | TSS_Pol2_RNAseq |\n",
       "| chr1:958722-959968 | TSS_Pol2_RNAseq |\n",
       "| chr1:960468-961615 | TSS_Pol2_RNAseq |\n",
       "\n"
      ],
      "text/plain": [
       "  Region_A           Label          \n",
       "1 chr1:826796-828040 TSS_Pol2_RNAseq\n",
       "2 chr1:958722-959968 TSS_Pol2_RNAseq\n",
       "3 chr1:960468-961615 TSS_Pol2_RNAseq"
      ]
     },
     "metadata": {},
     "output_type": "display_data"
    }
   ],
   "source": [
    "###\n",
    "lst = list(\n",
    "    \"TSS\"             = dat_region_annot_tss,\n",
    "    \"ChIPseq;Subset\"  = dat_region_annot_chipseq_subset,\n",
    "    \"ChIPseq;Histone\" = dat_region_annot_chipseq_histone,\n",
    "    \"ChIPseq;TF\"      = dat_region_annot_chipseq_flagship,\n",
    "    \"HiC;TAD\"         = dat_region_hic_tad\n",
    ")\n",
    "\n",
    "###\n",
    "dat  = bind_rows(lst) %>% dplyr::distinct()\n",
    "vec1 = unique(dat$Region_A)\n",
    "vec2 = unique(dat$Label)\n",
    "cat(\"ATAC: \", length(vec1), \"\\n\")\n",
    "cat(\"Label:\", length(vec2), \"\\n\")\n",
    "cat(\"\\n\")\n",
    "\n",
    "###\n",
    "tmp = dat %>% \n",
    "    dplyr::group_by(Label) %>% \n",
    "    dplyr::summarize(Count = n()) %>%\n",
    "    dplyr::filter(Count > 1)\n",
    "vec = tmp$Label\n",
    "\n",
    "dat = dat %>% dplyr::filter(Label %in% vec)\n",
    "vec1 = unique(dat$Region_A)\n",
    "vec2 = unique(dat$Label)\n",
    "cat(\"ATAC: \", length(vec1), \"\\n\")\n",
    "cat(\"Label:\", length(vec2), \"\\n\")\n",
    "cat(\"\\n\")\n",
    "\n",
    "###\n",
    "tmp = dat %>% \n",
    "    dplyr::group_by(Region_A) %>% \n",
    "    dplyr::summarize(Count = n()) %>%\n",
    "    dplyr::filter(Count > 1)\n",
    "vec = tmp$Region_A\n",
    "\n",
    "dat = dat %>% dplyr::filter(Region_A %in% vec)\n",
    "vec1 = unique(dat$Region_A)\n",
    "vec2 = unique(dat$Label)\n",
    "cat(\"ATAC: \", length(vec1), \"\\n\")\n",
    "cat(\"Label:\", length(vec2), \"\\n\")\n",
    "cat(\"\\n\")\n",
    "\n",
    "###\n",
    "dat_region_annot_merge_full = dat\n",
    "print(dim(dat))\n",
    "head(dat, 3)"
   ]
  },
  {
   "cell_type": "code",
   "execution_count": null,
   "id": "9b50f856-48fd-4786-b5d2-26a99757511e",
   "metadata": {},
   "outputs": [],
   "source": []
  },
  {
   "cell_type": "code",
   "execution_count": null,
   "id": "33f0a766-8d54-48af-8f65-18f75bc341ae",
   "metadata": {},
   "outputs": [],
   "source": []
  },
  {
   "cell_type": "code",
   "execution_count": null,
   "id": "a4385f43-469a-45cf-94fd-4e9ff66e9b5e",
   "metadata": {},
   "outputs": [],
   "source": []
  },
  {
   "cell_type": "code",
   "execution_count": null,
   "id": "24758822-3094-4c11-b8a9-8277e134baa1",
   "metadata": {},
   "outputs": [],
   "source": []
  },
  {
   "cell_type": "code",
   "execution_count": null,
   "id": "e5c030e2-2992-4092-a4de-6ab39d9dd7c0",
   "metadata": {},
   "outputs": [],
   "source": []
  },
  {
   "cell_type": "code",
   "execution_count": null,
   "id": "6bdbd7e9-bb61-4637-8524-3d8e81b94ae2",
   "metadata": {},
   "outputs": [],
   "source": []
  },
  {
   "cell_type": "code",
   "execution_count": 41,
   "id": "e7f13dae-fcec-4d65-bddd-c509e1fad792",
   "metadata": {},
   "outputs": [],
   "source": [
    "txt_fdiry = file.path(\n",
    "    FD_RES, \n",
    "    \"region_annotation\", \n",
    "    \"fcc_astarr_macs_input_overlap\",\n",
    "    \"summary\"\n",
    ")\n",
    "txt_fname = \"matrix.annotation.subset.tsv\"\n",
    "txt_fpath = file.path(txt_fdiry, txt_fname)\n",
    "\n",
    "mat = mat_region_annot_merge_subset\n",
    "write_tsv(mat, txt_fpath)"
   ]
  },
  {
   "cell_type": "code",
   "execution_count": 62,
   "id": "db73a3a3-f6a8-4080-bc0c-39ccd80aaa4e",
   "metadata": {},
   "outputs": [],
   "source": [
    "txt_fdiry = file.path(\n",
    "    FD_RES, \n",
    "    \"region_annotation\", \n",
    "    \"fcc_astarr_macs_input_overlap\",\n",
    "    \"summary\"\n",
    ")\n",
    "txt_fname = \"matrix.annotation.chipseq.tsv\"\n",
    "txt_fpath = file.path(txt_fdiry, txt_fname)\n",
    "\n",
    "mat = mat_region_annot_merge_chipseq\n",
    "write_tsv(mat, txt_fpath)"
   ]
  },
  {
   "cell_type": "code",
   "execution_count": null,
   "id": "a3a3e39a-44ad-4e0b-b195-c0470fcc11a7",
   "metadata": {},
   "outputs": [],
   "source": [
    "txt_fdiry = file.path(\n",
    "    FD_RES, \n",
    "    \"region_annotation\", \n",
    "    \"fcc_astarr_macs_input_overlap\",\n",
    "    \"summary\"\n",
    ")\n",
    "txt_fname = \"matrix.annotation.full.tsv\"\n",
    "txt_fpath = file.path(txt_fdiry, txt_fname)\n",
    "\n",
    "mat = mat_region_annot_merge_subset\n",
    "write_tsv(mat, txt_fpath)"
   ]
  },
  {
   "cell_type": "code",
   "execution_count": null,
   "id": "8115ca35-6ffa-4a8e-9f08-2451b14cdc05",
   "metadata": {},
   "outputs": [],
   "source": []
  },
  {
   "cell_type": "code",
   "execution_count": null,
   "id": "154b31fc-1462-4b42-bbbe-20f86237440b",
   "metadata": {},
   "outputs": [],
   "source": []
  }
 ],
 "metadata": {
  "kernelspec": {
   "display_name": "R",
   "language": "R",
   "name": "ir"
  },
  "language_info": {
   "codemirror_mode": "r",
   "file_extension": ".r",
   "mimetype": "text/x-r-source",
   "name": "R",
   "pygments_lexer": "r",
   "version": "4.4.0"
  }
 },
 "nbformat": 4,
 "nbformat_minor": 5
}
