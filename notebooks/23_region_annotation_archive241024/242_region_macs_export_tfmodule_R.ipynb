{
 "cells": [
  {
   "cell_type": "raw",
   "id": "3b6f9b10-d5b2-4b32-98e6-84cbc322cbd9",
   "metadata": {},
   "source": [
    "---\n",
    "title: Prepare TF Modules 01\n",
    "subtitle: Explore the data\n",
    "format:\n",
    "    html:\n",
    "        code-fold:  true\n",
    "        code-tools: true\n",
    "---"
   ]
  },
  {
   "cell_type": "markdown",
   "id": "3d0c083d-c345-4099-bf66-07db89e7a82e",
   "metadata": {},
   "source": [
    "**Set environment**"
   ]
  },
  {
   "cell_type": "code",
   "execution_count": 1,
   "id": "6ca15f9d-c445-460c-a5da-ccfaa8a55971",
   "metadata": {
    "tags": []
   },
   "outputs": [
    {
     "name": "stdout",
     "output_type": "stream",
     "text": [
      "You are working on        Singularity \n",
      "BASE DIRECTORY (FD_BASE): /mount \n",
      "REPO DIRECTORY (FD_REPO): /mount/repo \n",
      "WORK DIRECTORY (FD_WORK): /mount/work \n",
      "DATA DIRECTORY (FD_DATA): /mount/data \n",
      "\n",
      "You are working with      ENCODE FCC \n",
      "PATH OF PROJECT (FD_PRJ): /mount/repo/Proj_ENCODE_FCC \n",
      "PROJECT RESULTS (FD_RES): /mount/repo/Proj_ENCODE_FCC/results \n",
      "PROJECT SCRIPTS (FD_EXE): /mount/repo/Proj_ENCODE_FCC/scripts \n",
      "PROJECT DATA    (FD_DAT): /mount/repo/Proj_ENCODE_FCC/data \n",
      "PROJECT NOTE    (FD_NBK): /mount/repo/Proj_ENCODE_FCC/notebooks \n",
      "PROJECT DOCS    (FD_DOC): /mount/repo/Proj_ENCODE_FCC/docs \n",
      "PROJECT LOG     (FD_LOG): /mount/repo/Proj_ENCODE_FCC/log \n",
      "PROJECT APP     (FD_APP): /mount/repo/Proj_ENCODE_FCC/app \n",
      "PROJECT REF     (FD_REF): /mount/repo/Proj_ENCODE_FCC/references \n",
      "\n"
     ]
    }
   ],
   "source": [
    "suppressMessages(suppressWarnings(source(\"../run_config_project_sing.R\")))\n",
    "show_env()"
   ]
  },
  {
   "cell_type": "code",
   "execution_count": 2,
   "id": "5f8b16f4-56ed-468b-ba34-54ea0c14ed52",
   "metadata": {},
   "outputs": [
    {
     "name": "stdout",
     "output_type": "stream",
     "text": [
      " [1] \"hclust.col.annotation.prepare.chipseq_full.fcc.tss.rds\"                \n",
      " [2] \"hclust.col.annotation.prepare.chipseq_full.only.rds\"                   \n",
      " [3] \"hclust.col.annotation.test_chrX.chipseq_full.only.rds\"                 \n",
      " [4] \"hclust.row.annotation.prepare.chipseq_full.fcc.tss.rds\"                \n",
      " [5] \"hclust.row.annotation.prepare.chipseq_full.only.rds\"                   \n",
      " [6] \"hclust.row.annotation.test_chrX.chipseq_full.only.rds\"                 \n",
      " [7] \"matrix.annotation.chipseq_flagship.tsv\"                                \n",
      " [8] \"matrix.annotation.chipseq_full.tsv\"                                    \n",
      " [9] \"matrix.annotation.chipseq_histone.tsv\"                                 \n",
      "[10] \"matrix.annotation.chipseq_subset.tsv\"                                  \n",
      "[11] \"matrix.annotation.fcc_peak_call.tsv\"                                   \n",
      "[12] \"matrix.annotation.genome_tss.tsv\"                                      \n",
      "[13] \"matrix.annotation.merge.chipseq_full.fcc.tss.tsv\"                      \n",
      "[14] \"matrix.annotation.prepare.chipseq_full.fcc.tss.tsv\"                    \n",
      "[15] \"matrix.annotation.prepare.chipseq_full.only.tsv\"                       \n",
      "[16] \"matrix.annotation.test_chrX.chipseq_full.fcc.tss.tsv\"                  \n",
      "[17] \"matrix.annotation.test_chrX.chipseq_full.only.tsv\"                     \n",
      "[18] \"matrix.annotation.tss.chipseq_histone.chipseq_encode4.tsv\"             \n",
      "[19] \"region.annotation.encode_chipseq_flagship.tsv\"                         \n",
      "[20] \"region.annotation.encode_chipseq_histone.tsv\"                          \n",
      "[21] \"region.annotation.encode_chipseq_subset.tsv\"                           \n",
      "[22] \"region.annotation.encode_chromatin_states.tsv\"                         \n",
      "[23] \"region.annotation.fcc_astarr_csaw.tsv\"                                 \n",
      "[24] \"region.annotation.fcc_crispri_growth.tsv\"                              \n",
      "[25] \"region.annotation.fcc_crispri_hcrff.tsv\"                               \n",
      "[26] \"region.annotation.fcc_mpra_agarwal2023.tsv\"                            \n",
      "[27] \"region.annotation.fcc_starrmpra_junke.tsv\"                             \n",
      "[28] \"region.annotation.genome_tss.tsv\"                                      \n",
      "[29] \"region.annotation.hic_insitu_K562_ENCSR545YBD.tsv\"                     \n",
      "[30] \"region.annotation.hic_intact_K562_deep.tsv\"                            \n",
      "[31] \"region.annotation.hic_intact_K562_ENCSR479XDG.tsv\"                     \n",
      "[32] \"region.annotation.module_tf_shannon.tsv\"                               \n",
      "[33] \"region.summary.encode_chipseq_encode4.tsv\"                             \n",
      "[34] \"region.summary.encode_chipseq_flagship.tsv\"                            \n",
      "[35] \"region.summary.encode_chipseq_histone.tsv\"                             \n",
      "[36] \"region.summary.encode_chipseq_subset.tsv\"                              \n",
      "[37] \"region.summary.encode_chromatin_states.tsv\"                            \n",
      "[38] \"region.summary.fcc_astarr_csaw.tsv\"                                    \n",
      "[39] \"region.summary.fcc_crispri_growth.tsv\"                                 \n",
      "[40] \"region.summary.fcc_crispri_hcrff.tsv\"                                  \n",
      "[41] \"region.summary.fcc_mpra_agarwal2023.tsv\"                               \n",
      "[42] \"region.summary.fcc_starrmpra_junke.tsv\"                                \n",
      "[43] \"region.summary.genome_tss.tsv\"                                         \n",
      "[44] \"region.summary.hic_insitu_K562_ENCSR545YBD.tsv\"                        \n",
      "[45] \"region.summary.hic_intact_K562_deep.tsv\"                               \n",
      "[46] \"region.summary.hic_intact_K562_ENCSR479XDG.tsv\"                        \n",
      "[47] \"region.summary.module_tf_shannon.tsv\"                                  \n",
      "[48] \"result.summary.chipseq_flagship.tsv\"                                   \n",
      "[49] \"result.summary.chipseq_full.tsv\"                                       \n",
      "[50] \"result.summary.chipseq_histone.tsv\"                                    \n",
      "[51] \"result.summary.chipseq_subset.tsv\"                                     \n",
      "[52] \"result.summary.connectivity.loop.tsv\"                                  \n",
      "[53] \"result.summary.encode_chromatin_states.tsv\"                            \n",
      "[54] \"result.summary.fcc_peak_call.tsv\"                                      \n",
      "[55] \"result.summary.genome_tss.tsv\"                                         \n",
      "[56] \"result.umap.n_neighbors_70.annotation.prepare.chipseq_full.fcc.tss.tsv\"\n",
      "[57] \"result.umap.n_neighbors_70.annotation.prepare.chipseq_full.only.tsv\"   \n",
      "[58] \"umap.annotation.chipseq.tsv\"                                           \n",
      "[59] \"umap.annotation.prepare.chipseq_full.fcc.tss.tsv\"                      \n",
      "[60] \"umap.annotation.prepare.chipseq_full.only.tsv\"                         \n",
      "[61] \"umap.n_neighbors_15.annotation.prepare.chipseq_full.fcc.tss.tsv\"       \n",
      "[62] \"umap.n_neighbors_15.annotation.prepare.chipseq_full.only.tsv\"          \n",
      "[63] \"umap.n_neighbors_15.annotation.test_chrX.chipseq_full.fcc.tss.tsv\"     \n",
      "[64] \"umap.n_neighbors_15.annotation.test_chrX.chipseq_full.only.tsv\"        \n",
      "[65] \"umap.n_neighbors_50.annotation.prepare.chipseq_full.fcc.tss.tsv\"       \n",
      "[66] \"umap.n_neighbors_50.annotation.prepare.chipseq_full.only.tsv\"          \n",
      "[67] \"umap.n_neighbors_60.annotation.prepare.chipseq_full.fcc.tss.tsv\"       \n",
      "[68] \"umap.n_neighbors_60.annotation.prepare.chipseq_full.only.tsv\"          \n",
      "[69] \"umap.n_neighbors_70.annotation.prepare.chipseq_full.fcc.tss.tsv\"       \n",
      "[70] \"umap.n_neighbors_70.annotation.prepare.chipseq_full.only.tsv\"          \n",
      "[71] \"umap.n_neighbors_70.annotation.test_chrX.chipseq_full.fcc.tss.tsv\"     \n",
      "[72] \"umap.n_neighbors_70.annotation.test_chrX.chipseq_full.only.tsv\"        \n",
      "[73] \"umap.n_neighbors_90.annotation.prepare.chipseq_full.fcc.tss.tsv\"       \n",
      "[74] \"umap.n_neighbors_90.annotation.prepare.chipseq_full.only.tsv\"          \n"
     ]
    }
   ],
   "source": [
    "txt_fdiry = file.path(\n",
    "    FD_RES, \n",
    "    \"region_annotation\", \n",
    "    \"fcc_astarr_macs_input_overlap\",\n",
    "    \"summary\"\n",
    ")\n",
    "vec = dir(txt_fdiry)\n",
    "print(vec)"
   ]
  },
  {
   "cell_type": "code",
   "execution_count": 4,
   "id": "f7b77dfd-b56e-4e1a-9422-5817cb944cfb",
   "metadata": {},
   "outputs": [
    {
     "name": "stdout",
     "output_type": "stream",
     "text": [
      "[1] 261836     10\n"
     ]
    },
    {
     "data": {
      "text/html": [
       "<table>\n",
       " <thead>\n",
       "  <tr>\n",
       "   <th style=\"text-align:left;\"> Chrom_A </th>\n",
       "   <th style=\"text-align:right;\"> ChromStart_A </th>\n",
       "   <th style=\"text-align:right;\"> ChromEnd_A </th>\n",
       "   <th style=\"text-align:left;\"> Region_A </th>\n",
       "   <th style=\"text-align:left;\"> Annotation_A </th>\n",
       "   <th style=\"text-align:left;\"> Annotation_B </th>\n",
       "   <th style=\"text-align:left;\"> Group_B </th>\n",
       "   <th style=\"text-align:left;\"> Label_B </th>\n",
       "   <th style=\"text-align:left;\"> Region_B </th>\n",
       "   <th style=\"text-align:right;\"> Count_B </th>\n",
       "  </tr>\n",
       " </thead>\n",
       "<tbody>\n",
       "  <tr>\n",
       "   <td style=\"text-align:left;\"> chr1 </td>\n",
       "   <td style=\"text-align:right;\"> 115429 </td>\n",
       "   <td style=\"text-align:right;\"> 115969 </td>\n",
       "   <td style=\"text-align:left;\"> chr1:115429-115969 </td>\n",
       "   <td style=\"text-align:left;\"> fcc_astarr_macs_input_overlap </td>\n",
       "   <td style=\"text-align:left;\"> module_tf_shannon </td>\n",
       "   <td style=\"text-align:left;\"> TF_Module </td>\n",
       "   <td style=\"text-align:left;\"> Module_02 </td>\n",
       "   <td style=\"text-align:left;\"> chr1:115702-115751 </td>\n",
       "   <td style=\"text-align:right;\"> 1 </td>\n",
       "  </tr>\n",
       "  <tr>\n",
       "   <td style=\"text-align:left;\"> chr1 </td>\n",
       "   <td style=\"text-align:right;\"> 115429 </td>\n",
       "   <td style=\"text-align:right;\"> 115969 </td>\n",
       "   <td style=\"text-align:left;\"> chr1:115429-115969 </td>\n",
       "   <td style=\"text-align:left;\"> fcc_astarr_macs_input_overlap </td>\n",
       "   <td style=\"text-align:left;\"> module_tf_shannon </td>\n",
       "   <td style=\"text-align:left;\"> TF_Module </td>\n",
       "   <td style=\"text-align:left;\"> Module_05 </td>\n",
       "   <td style=\"text-align:left;\"> chr1:115702-115751 </td>\n",
       "   <td style=\"text-align:right;\"> 1 </td>\n",
       "  </tr>\n",
       "  <tr>\n",
       "   <td style=\"text-align:left;\"> chr1 </td>\n",
       "   <td style=\"text-align:right;\"> 115429 </td>\n",
       "   <td style=\"text-align:right;\"> 115969 </td>\n",
       "   <td style=\"text-align:left;\"> chr1:115429-115969 </td>\n",
       "   <td style=\"text-align:left;\"> fcc_astarr_macs_input_overlap </td>\n",
       "   <td style=\"text-align:left;\"> module_tf_shannon </td>\n",
       "   <td style=\"text-align:left;\"> TF_Module </td>\n",
       "   <td style=\"text-align:left;\"> Module_10 </td>\n",
       "   <td style=\"text-align:left;\"> chr1:115702-115751 </td>\n",
       "   <td style=\"text-align:right;\"> 1 </td>\n",
       "  </tr>\n",
       "</tbody>\n",
       "</table>"
      ]
     },
     "metadata": {},
     "output_type": "display_data"
    }
   ],
   "source": [
    "txt_fdiry = file.path(\n",
    "    FD_RES, \n",
    "    \"region_annotation\", \n",
    "    \"fcc_astarr_macs_input_overlap\",\n",
    "    \"summary\"\n",
    ")\n",
    "txt_fname = \"region.summary.module_tf_shannon.tsv\"\n",
    "txt_fpath = file.path(txt_fdiry, txt_fname)\n",
    "\n",
    "dat = read_tsv(txt_fpath, show_col_types = FALSE)\n",
    "dat_region_annot_pair = dat\n",
    "print(dim(dat))\n",
    "fun_display_table(head(dat, 3))"
   ]
  },
  {
   "cell_type": "code",
   "execution_count": 5,
   "id": "7363ee2a-c3b7-435c-a377-935a1bb98632",
   "metadata": {},
   "outputs": [
    {
     "name": "stdout",
     "output_type": "stream",
     "text": [
      "[1] 261836      6\n"
     ]
    },
    {
     "data": {
      "text/html": [
       "<table>\n",
       " <thead>\n",
       "  <tr>\n",
       "   <th style=\"text-align:left;\"> Chrom </th>\n",
       "   <th style=\"text-align:right;\"> ChromStart </th>\n",
       "   <th style=\"text-align:right;\"> ChromEnd </th>\n",
       "   <th style=\"text-align:left;\"> Region </th>\n",
       "   <th style=\"text-align:left;\"> Group </th>\n",
       "   <th style=\"text-align:left;\"> Label </th>\n",
       "  </tr>\n",
       " </thead>\n",
       "<tbody>\n",
       "  <tr>\n",
       "   <td style=\"text-align:left;\"> chr1 </td>\n",
       "   <td style=\"text-align:right;\"> 115429 </td>\n",
       "   <td style=\"text-align:right;\"> 115969 </td>\n",
       "   <td style=\"text-align:left;\"> chr1:115429-115969 </td>\n",
       "   <td style=\"text-align:left;\"> TF_Module </td>\n",
       "   <td style=\"text-align:left;\"> Module_02 </td>\n",
       "  </tr>\n",
       "  <tr>\n",
       "   <td style=\"text-align:left;\"> chr1 </td>\n",
       "   <td style=\"text-align:right;\"> 115429 </td>\n",
       "   <td style=\"text-align:right;\"> 115969 </td>\n",
       "   <td style=\"text-align:left;\"> chr1:115429-115969 </td>\n",
       "   <td style=\"text-align:left;\"> TF_Module </td>\n",
       "   <td style=\"text-align:left;\"> Module_05 </td>\n",
       "  </tr>\n",
       "  <tr>\n",
       "   <td style=\"text-align:left;\"> chr1 </td>\n",
       "   <td style=\"text-align:right;\"> 115429 </td>\n",
       "   <td style=\"text-align:right;\"> 115969 </td>\n",
       "   <td style=\"text-align:left;\"> chr1:115429-115969 </td>\n",
       "   <td style=\"text-align:left;\"> TF_Module </td>\n",
       "   <td style=\"text-align:left;\"> Module_10 </td>\n",
       "  </tr>\n",
       "</tbody>\n",
       "</table>"
      ]
     },
     "metadata": {},
     "output_type": "display_data"
    }
   ],
   "source": [
    "dat = dat_region_annot_pair\n",
    "dat = dat %>%\n",
    "    dplyr::mutate(\n",
    "        Chrom      = Chrom_A,\n",
    "        ChromStart = ChromStart_A, \n",
    "        ChromEnd   = ChromEnd_A,\n",
    "        Region     = Region_A,\n",
    "        Group      = Group_B,\n",
    "        Label      = Label_B\n",
    "    ) %>%\n",
    "    dplyr::select(Chrom, ChromStart, ChromEnd, Region, Group, Label) %>%\n",
    "    dplyr::distinct()\n",
    "\n",
    "### assign and show\n",
    "dat_region_annot_result = dat\n",
    "print(dim(dat))\n",
    "fun_display_table(head(dat, 3))"
   ]
  },
  {
   "cell_type": "code",
   "execution_count": 6,
   "id": "d4aa2abb-b675-421c-b4b9-4cb359323823",
   "metadata": {},
   "outputs": [],
   "source": [
    "txt_fdiry = file.path(\n",
    "    FD_RES, \n",
    "    \"region_annotation\", \n",
    "    \"fcc_astarr_macs_input_overlap\",\n",
    "    \"summary\"\n",
    ")\n",
    "txt_fname = paste(\"result\", \"summary\", \"tfmodule\", \"tsv\", sep = \".\")\n",
    "txt_fpath = file.path(txt_fdiry, txt_fname)\n",
    "\n",
    "dat = dat_region_annot_result\n",
    "write_tsv(dat, txt_fpath)"
   ]
  },
  {
   "cell_type": "code",
   "execution_count": null,
   "id": "01fb7f9c-e64d-42eb-9bfe-1169c3882e30",
   "metadata": {},
   "outputs": [],
   "source": []
  }
 ],
 "metadata": {
  "kernelspec": {
   "display_name": "R (alex_py3)",
   "language": "R",
   "name": "ir_alex_py3"
  },
  "language_info": {
   "codemirror_mode": "r",
   "file_extension": ".r",
   "mimetype": "text/x-r-source",
   "name": "R",
   "pygments_lexer": "r",
   "version": "4.4.1"
  }
 },
 "nbformat": 4,
 "nbformat_minor": 5
}
