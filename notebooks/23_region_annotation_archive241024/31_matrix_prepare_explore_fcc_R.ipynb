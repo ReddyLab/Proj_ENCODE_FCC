{
 "cells": [
  {
   "cell_type": "raw",
   "id": "bae4150b-3989-4dea-b96d-7f6117be06b7",
   "metadata": {},
   "source": [
    "---\n",
    "title: FCC Peak calls\n",
    "subtitle: export annotation\n",
    "format:\n",
    "    html:\n",
    "        code-fold:  true\n",
    "        code-tools: true\n",
    "---"
   ]
  },
  {
   "cell_type": "markdown",
   "id": "a47b1ba1-23b5-4a83-921d-7bda2e0924b3",
   "metadata": {},
   "source": [
    "**Set environment**"
   ]
  },
  {
   "cell_type": "code",
   "execution_count": 1,
   "id": "5828cced-07d1-467e-9058-b82dc4a79e2d",
   "metadata": {
    "tags": []
   },
   "outputs": [
    {
     "name": "stdout",
     "output_type": "stream",
     "text": [
      "You are working on        Singularity \n",
      "BASE DIRECTORY (FD_BASE): /mount \n",
      "REPO DIRECTORY (FD_REPO): /mount/repo \n",
      "WORK DIRECTORY (FD_WORK): /mount/work \n",
      "DATA DIRECTORY (FD_DATA): /mount/data \n",
      "\n",
      "You are working with      ENCODE FCC \n",
      "PATH OF PROJECT (FD_PRJ): /mount/repo/Proj_ENCODE_FCC \n",
      "PROJECT RESULTS (FD_RES): /mount/repo/Proj_ENCODE_FCC/results \n",
      "PROJECT SCRIPTS (FD_EXE): /mount/repo/Proj_ENCODE_FCC/scripts \n",
      "PROJECT DATA    (FD_DAT): /mount/repo/Proj_ENCODE_FCC/data \n",
      "PROJECT NOTE    (FD_NBK): /mount/repo/Proj_ENCODE_FCC/notebooks \n",
      "PROJECT DOCS    (FD_DOC): /mount/repo/Proj_ENCODE_FCC/docs \n",
      "PROJECT LOG     (FD_LOG): /mount/repo/Proj_ENCODE_FCC/log \n",
      "PROJECT APP     (FD_APP): /mount/repo/Proj_ENCODE_FCC/app \n",
      "PROJECT REF     (FD_REF): /mount/repo/Proj_ENCODE_FCC/references \n",
      "\n"
     ]
    }
   ],
   "source": [
    "suppressMessages(suppressWarnings(source(\"../run_config_project_sing.R\")))\n",
    "show_env()"
   ]
  },
  {
   "cell_type": "code",
   "execution_count": 2,
   "id": "a29d1a55-8c61-46a5-9243-96b6de670855",
   "metadata": {},
   "outputs": [
    {
     "name": "stdout",
     "output_type": "stream",
     "text": [
      " [1] \"matrix.annotation.chipseq_flagship.tsv\"                 \n",
      " [2] \"matrix.annotation.chipseq_full.tsv\"                     \n",
      " [3] \"matrix.annotation.chipseq_histone.tsv\"                  \n",
      " [4] \"matrix.annotation.chipseq_subset.tsv\"                   \n",
      " [5] \"matrix.annotation.fcc_peak_call.tsv\"                    \n",
      " [6] \"matrix.annotation.genome_tss.tsv\"                       \n",
      " [7] \"matrix.annotation.merge.chipseq_full.fcc.tss.tsv\"       \n",
      " [8] \"matrix.annotation.prepare.cre.chipseq_full.fcc.tss.tsv\" \n",
      " [9] \"matrix.annotation.prepare.cre.chipseq_full.fcc.tsv\"     \n",
      "[10] \"matrix.annotation.prepare.cre.chipseq_full.only.tsv\"    \n",
      "[11] \"matrix.annotation.prepare.enh.chipseq_full.fcc.tss.tsv\" \n",
      "[12] \"matrix.annotation.prepare.enh.chipseq_full.fcc.tsv\"     \n",
      "[13] \"matrix.annotation.prepare.enh.chipseq_full.only.tsv\"    \n",
      "[14] \"matrix.annotation.prepare.full.chipseq_full.fcc.tss.tsv\"\n",
      "[15] \"matrix.annotation.prepare.full.chipseq_full.fcc.tsv\"    \n",
      "[16] \"matrix.annotation.prepare.full.chipseq_full.only.tsv\"   \n",
      "[17] \"matrix.annotation.test_chrX.chipseq_full.fcc.tss.tsv\"   \n",
      "[18] \"matrix.annotation.test_chrX.chipseq_full.only.tsv\"      \n",
      "[19] \"matrix.mca_dim50.prepare.cre.chipseq_full.fcc.tss.tsv\"  \n",
      "[20] \"matrix.mca_dim70.prepare.cre.chipseq_full.fcc.tss.tsv\"  \n",
      "[21] \"matrix.mca_dim90.prepare.cre.chipseq_full.fcc.tss.tsv\"  \n",
      "[22] \"matrix.mca_exp90.prepare.cre.chipseq_full.fcc.tss.tsv\"  \n",
      "[23] \"matrix.mca_exp90.test_chrX.chipseq_full.fcc.tss.tsv\"    \n"
     ]
    }
   ],
   "source": [
    "txt_fdiry = file.path(\n",
    "    FD_RES, \n",
    "    \"region_annotation\", \n",
    "    \"fcc_astarr_macs_input_overlap\",\n",
    "    \"summary\"\n",
    ")\n",
    "txt_fname = \"matrix*tsv\"\n",
    "txt_fglob = file.path(txt_fdiry, txt_fname)\n",
    "\n",
    "vec_txt_fpath = Sys.glob(txt_fglob)\n",
    "vec_txt_fname = basename(vec_txt_fpath)\n",
    "\n",
    "vec = vec_txt_fname\n",
    "print(vec)"
   ]
  },
  {
   "cell_type": "code",
   "execution_count": 7,
   "id": "41557c5a-83ad-4f4b-8d61-9e11644a5e73",
   "metadata": {},
   "outputs": [
    {
     "name": "stdout",
     "output_type": "stream",
     "text": [
      "[1] 115953     14\n"
     ]
    },
    {
     "data": {
      "text/html": [
       "<table>\n",
       " <thead>\n",
       "  <tr>\n",
       "   <th style=\"text-align:left;\"> Chrom </th>\n",
       "   <th style=\"text-align:right;\"> ChromStart </th>\n",
       "   <th style=\"text-align:right;\"> ChromEnd </th>\n",
       "   <th style=\"text-align:left;\"> Region </th>\n",
       "   <th style=\"text-align:right;\"> ASTARR_A </th>\n",
       "   <th style=\"text-align:right;\"> WSTARR_A </th>\n",
       "   <th style=\"text-align:right;\"> LMPRA_A </th>\n",
       "   <th style=\"text-align:right;\"> TMPRA_A </th>\n",
       "   <th style=\"text-align:right;\"> ASTARR_R </th>\n",
       "   <th style=\"text-align:right;\"> WSTARR_R </th>\n",
       "   <th style=\"text-align:right;\"> LMPRA_R </th>\n",
       "   <th style=\"text-align:right;\"> TMPRA_R </th>\n",
       "   <th style=\"text-align:right;\"> CRISPRi-HCRFF:CASA </th>\n",
       "   <th style=\"text-align:right;\"> CRISPRi-Growth:Signif </th>\n",
       "  </tr>\n",
       " </thead>\n",
       "<tbody>\n",
       "  <tr>\n",
       "   <td style=\"text-align:left;\"> chr1 </td>\n",
       "   <td style=\"text-align:right;\"> 10038 </td>\n",
       "   <td style=\"text-align:right;\"> 10405 </td>\n",
       "   <td style=\"text-align:left;\"> chr1:10038-10405 </td>\n",
       "   <td style=\"text-align:right;\"> 0 </td>\n",
       "   <td style=\"text-align:right;\"> 0 </td>\n",
       "   <td style=\"text-align:right;\"> 0 </td>\n",
       "   <td style=\"text-align:right;\"> 0 </td>\n",
       "   <td style=\"text-align:right;\"> 1 </td>\n",
       "   <td style=\"text-align:right;\"> 0 </td>\n",
       "   <td style=\"text-align:right;\"> 0 </td>\n",
       "   <td style=\"text-align:right;\"> 0 </td>\n",
       "   <td style=\"text-align:right;\"> 0 </td>\n",
       "   <td style=\"text-align:right;\"> 0 </td>\n",
       "  </tr>\n",
       "  <tr>\n",
       "   <td style=\"text-align:left;\"> chr1 </td>\n",
       "   <td style=\"text-align:right;\"> 16025 </td>\n",
       "   <td style=\"text-align:right;\"> 16338 </td>\n",
       "   <td style=\"text-align:left;\"> chr1:16025-16338 </td>\n",
       "   <td style=\"text-align:right;\"> 0 </td>\n",
       "   <td style=\"text-align:right;\"> 0 </td>\n",
       "   <td style=\"text-align:right;\"> 0 </td>\n",
       "   <td style=\"text-align:right;\"> 0 </td>\n",
       "   <td style=\"text-align:right;\"> 1 </td>\n",
       "   <td style=\"text-align:right;\"> 0 </td>\n",
       "   <td style=\"text-align:right;\"> 0 </td>\n",
       "   <td style=\"text-align:right;\"> 0 </td>\n",
       "   <td style=\"text-align:right;\"> 0 </td>\n",
       "   <td style=\"text-align:right;\"> 0 </td>\n",
       "  </tr>\n",
       "  <tr>\n",
       "   <td style=\"text-align:left;\"> chr1 </td>\n",
       "   <td style=\"text-align:right;\"> 17288 </td>\n",
       "   <td style=\"text-align:right;\"> 17689 </td>\n",
       "   <td style=\"text-align:left;\"> chr1:17288-17689 </td>\n",
       "   <td style=\"text-align:right;\"> 0 </td>\n",
       "   <td style=\"text-align:right;\"> 0 </td>\n",
       "   <td style=\"text-align:right;\"> 0 </td>\n",
       "   <td style=\"text-align:right;\"> 0 </td>\n",
       "   <td style=\"text-align:right;\"> 1 </td>\n",
       "   <td style=\"text-align:right;\"> 0 </td>\n",
       "   <td style=\"text-align:right;\"> 0 </td>\n",
       "   <td style=\"text-align:right;\"> 0 </td>\n",
       "   <td style=\"text-align:right;\"> 0 </td>\n",
       "   <td style=\"text-align:right;\"> 0 </td>\n",
       "  </tr>\n",
       "  <tr>\n",
       "   <td style=\"text-align:left;\"> chr1 </td>\n",
       "   <td style=\"text-align:right;\"> 28934 </td>\n",
       "   <td style=\"text-align:right;\"> 29499 </td>\n",
       "   <td style=\"text-align:left;\"> chr1:28934-29499 </td>\n",
       "   <td style=\"text-align:right;\"> 0 </td>\n",
       "   <td style=\"text-align:right;\"> 0 </td>\n",
       "   <td style=\"text-align:right;\"> 0 </td>\n",
       "   <td style=\"text-align:right;\"> 0 </td>\n",
       "   <td style=\"text-align:right;\"> 1 </td>\n",
       "   <td style=\"text-align:right;\"> 0 </td>\n",
       "   <td style=\"text-align:right;\"> 0 </td>\n",
       "   <td style=\"text-align:right;\"> 0 </td>\n",
       "   <td style=\"text-align:right;\"> 0 </td>\n",
       "   <td style=\"text-align:right;\"> 0 </td>\n",
       "  </tr>\n",
       "  <tr>\n",
       "   <td style=\"text-align:left;\"> chr1 </td>\n",
       "   <td style=\"text-align:right;\"> 115429 </td>\n",
       "   <td style=\"text-align:right;\"> 115969 </td>\n",
       "   <td style=\"text-align:left;\"> chr1:115429-115969 </td>\n",
       "   <td style=\"text-align:right;\"> 1 </td>\n",
       "   <td style=\"text-align:right;\"> 0 </td>\n",
       "   <td style=\"text-align:right;\"> 0 </td>\n",
       "   <td style=\"text-align:right;\"> 0 </td>\n",
       "   <td style=\"text-align:right;\"> 0 </td>\n",
       "   <td style=\"text-align:right;\"> 0 </td>\n",
       "   <td style=\"text-align:right;\"> 0 </td>\n",
       "   <td style=\"text-align:right;\"> 0 </td>\n",
       "   <td style=\"text-align:right;\"> 0 </td>\n",
       "   <td style=\"text-align:right;\"> 0 </td>\n",
       "  </tr>\n",
       "  <tr>\n",
       "   <td style=\"text-align:left;\"> chr1 </td>\n",
       "   <td style=\"text-align:right;\"> 136201 </td>\n",
       "   <td style=\"text-align:right;\"> 137353 </td>\n",
       "   <td style=\"text-align:left;\"> chr1:136201-137353 </td>\n",
       "   <td style=\"text-align:right;\"> 0 </td>\n",
       "   <td style=\"text-align:right;\"> 0 </td>\n",
       "   <td style=\"text-align:right;\"> 0 </td>\n",
       "   <td style=\"text-align:right;\"> 0 </td>\n",
       "   <td style=\"text-align:right;\"> 1 </td>\n",
       "   <td style=\"text-align:right;\"> 0 </td>\n",
       "   <td style=\"text-align:right;\"> 0 </td>\n",
       "   <td style=\"text-align:right;\"> 0 </td>\n",
       "   <td style=\"text-align:right;\"> 0 </td>\n",
       "   <td style=\"text-align:right;\"> 0 </td>\n",
       "  </tr>\n",
       "</tbody>\n",
       "</table>"
      ]
     },
     "metadata": {},
     "output_type": "display_data"
    }
   ],
   "source": [
    "txt_fdiry = file.path(\n",
    "    FD_RES, \n",
    "    \"region_annotation\", \n",
    "    \"fcc_astarr_macs_input_overlap\",\n",
    "    \"summary\"\n",
    ")\n",
    "txt_fname = \"matrix.annotation.fcc_peak_call.tsv\"\n",
    "txt_fpath = file.path(txt_fdiry, txt_fname)\n",
    "\n",
    "dat = read_tsv(txt_fpath, show_col_types = FALSE)\n",
    "\n",
    "dat_region_annot_fcc = dat\n",
    "print(dim(dat))\n",
    "fun_display_table(head(dat))"
   ]
  },
  {
   "cell_type": "code",
   "execution_count": 35,
   "id": "297b5a85-b3b2-4e4e-b487-f3f624cd68df",
   "metadata": {},
   "outputs": [
    {
     "name": "stdout",
     "output_type": "stream",
     "text": [
      "[1] 150042      5\n"
     ]
    },
    {
     "data": {
      "text/html": [
       "<table>\n",
       " <thead>\n",
       "  <tr>\n",
       "   <th style=\"text-align:left;\"> Chrom </th>\n",
       "   <th style=\"text-align:right;\"> ChromStart </th>\n",
       "   <th style=\"text-align:right;\"> ChromEnd </th>\n",
       "   <th style=\"text-align:right;\"> pGC </th>\n",
       "   <th style=\"text-align:right;\"> Length </th>\n",
       "  </tr>\n",
       " </thead>\n",
       "<tbody>\n",
       "  <tr>\n",
       "   <td style=\"text-align:left;\"> chr1 </td>\n",
       "   <td style=\"text-align:right;\"> 10038 </td>\n",
       "   <td style=\"text-align:right;\"> 10405 </td>\n",
       "   <td style=\"text-align:right;\"> 0.523161 </td>\n",
       "   <td style=\"text-align:right;\"> 367 </td>\n",
       "  </tr>\n",
       "  <tr>\n",
       "   <td style=\"text-align:left;\"> chr1 </td>\n",
       "   <td style=\"text-align:right;\"> 14282 </td>\n",
       "   <td style=\"text-align:right;\"> 14614 </td>\n",
       "   <td style=\"text-align:right;\"> 0.578313 </td>\n",
       "   <td style=\"text-align:right;\"> 332 </td>\n",
       "  </tr>\n",
       "  <tr>\n",
       "   <td style=\"text-align:left;\"> chr1 </td>\n",
       "   <td style=\"text-align:right;\"> 16025 </td>\n",
       "   <td style=\"text-align:right;\"> 16338 </td>\n",
       "   <td style=\"text-align:right;\"> 0.587859 </td>\n",
       "   <td style=\"text-align:right;\"> 313 </td>\n",
       "  </tr>\n",
       "</tbody>\n",
       "</table>"
      ]
     },
     "metadata": {},
     "output_type": "display_data"
    }
   ],
   "source": [
    "txt_fdiry = file.path(\n",
    "    FD_RES, \n",
    "    \"region_nuc\", \n",
    "    \"fcc_astarr_macs\"\n",
    ")\n",
    "txt_fname = \"K562.hg38.ASTARR.macs.KS91.input.rep_all.max_overlaps.q5.bed.gz\"\n",
    "txt_fpath = file.path(txt_fdiry, txt_fname)\n",
    "\n",
    "dat = read_tsv(txt_fpath, show_col_types = FALSE)\n",
    "dat = dat %>% dplyr::select(\n",
    "    `#1_usercol`,\n",
    "    `2_usercol`,\n",
    "    `3_usercol`,\n",
    "    `5_pct_gc`,\n",
    "    `12_seq_len`\n",
    ")\n",
    "colnames(dat) = c(\"Chrom\", \"ChromStart\", \"ChromEnd\", \"pGC\", \"Length\")\n",
    "\n",
    "dat_region_gc = dat\n",
    "print(dim(dat))\n",
    "fun_display_table(head(dat, 3))"
   ]
  },
  {
   "cell_type": "code",
   "execution_count": null,
   "id": "ba67174c-0e7e-470d-9f16-53681852a070",
   "metadata": {},
   "outputs": [],
   "source": []
  },
  {
   "cell_type": "code",
   "execution_count": null,
   "id": "98c40cee-e4df-48f3-a4ed-c0554c3f9bb9",
   "metadata": {},
   "outputs": [],
   "source": []
  },
  {
   "cell_type": "code",
   "execution_count": 67,
   "id": "4578d099-34ab-4407-b0c1-95fc38a517b3",
   "metadata": {},
   "outputs": [
    {
     "data": {
      "text/html": [
       "<table class=\"dataframe\">\n",
       "<caption>A tibble: 6 × 15</caption>\n",
       "<thead>\n",
       "\t<tr><th scope=col>Chrom</th><th scope=col>ChromStart</th><th scope=col>ChromEnd</th><th scope=col>Region</th><th scope=col>ASTARR_A</th><th scope=col>WSTARR_A</th><th scope=col>LMPRA_A</th><th scope=col>TMPRA_A</th><th scope=col>ASTARR_R</th><th scope=col>WSTARR_R</th><th scope=col>LMPRA_R</th><th scope=col>TMPRA_R</th><th scope=col>CRISPRi-HCRFF:CASA</th><th scope=col>CRISPRi-Growth:Signif</th><th scope=col>High_GC</th></tr>\n",
       "\t<tr><th scope=col>&lt;chr&gt;</th><th scope=col>&lt;dbl&gt;</th><th scope=col>&lt;dbl&gt;</th><th scope=col>&lt;chr&gt;</th><th scope=col>&lt;dbl&gt;</th><th scope=col>&lt;dbl&gt;</th><th scope=col>&lt;dbl&gt;</th><th scope=col>&lt;dbl&gt;</th><th scope=col>&lt;dbl&gt;</th><th scope=col>&lt;dbl&gt;</th><th scope=col>&lt;dbl&gt;</th><th scope=col>&lt;dbl&gt;</th><th scope=col>&lt;dbl&gt;</th><th scope=col>&lt;dbl&gt;</th><th scope=col>&lt;int&gt;</th></tr>\n",
       "</thead>\n",
       "<tbody>\n",
       "\t<tr><td>chr1</td><td> 10038</td><td> 10405</td><td>chr1:10038-10405  </td><td>0</td><td>0</td><td>0</td><td>0</td><td>1</td><td>0</td><td>0</td><td>0</td><td>0</td><td>0</td><td>0</td></tr>\n",
       "\t<tr><td>chr1</td><td> 16025</td><td> 16338</td><td>chr1:16025-16338  </td><td>0</td><td>0</td><td>0</td><td>0</td><td>1</td><td>0</td><td>0</td><td>0</td><td>0</td><td>0</td><td>0</td></tr>\n",
       "\t<tr><td>chr1</td><td> 17288</td><td> 17689</td><td>chr1:17288-17689  </td><td>0</td><td>0</td><td>0</td><td>0</td><td>1</td><td>0</td><td>0</td><td>0</td><td>0</td><td>0</td><td>1</td></tr>\n",
       "\t<tr><td>chr1</td><td> 28934</td><td> 29499</td><td>chr1:28934-29499  </td><td>0</td><td>0</td><td>0</td><td>0</td><td>1</td><td>0</td><td>0</td><td>0</td><td>0</td><td>0</td><td>1</td></tr>\n",
       "\t<tr><td>chr1</td><td>115429</td><td>115969</td><td>chr1:115429-115969</td><td>1</td><td>0</td><td>0</td><td>0</td><td>0</td><td>0</td><td>0</td><td>0</td><td>0</td><td>0</td><td>0</td></tr>\n",
       "\t<tr><td>chr1</td><td>136201</td><td>137353</td><td>chr1:136201-137353</td><td>0</td><td>0</td><td>0</td><td>0</td><td>1</td><td>0</td><td>0</td><td>0</td><td>0</td><td>0</td><td>1</td></tr>\n",
       "</tbody>\n",
       "</table>\n"
      ],
      "text/latex": [
       "A tibble: 6 × 15\n",
       "\\begin{tabular}{lllllllllllllll}\n",
       " Chrom & ChromStart & ChromEnd & Region & ASTARR\\_A & WSTARR\\_A & LMPRA\\_A & TMPRA\\_A & ASTARR\\_R & WSTARR\\_R & LMPRA\\_R & TMPRA\\_R & CRISPRi-HCRFF:CASA & CRISPRi-Growth:Signif & High\\_GC\\\\\n",
       " <chr> & <dbl> & <dbl> & <chr> & <dbl> & <dbl> & <dbl> & <dbl> & <dbl> & <dbl> & <dbl> & <dbl> & <dbl> & <dbl> & <int>\\\\\n",
       "\\hline\n",
       "\t chr1 &  10038 &  10405 & chr1:10038-10405   & 0 & 0 & 0 & 0 & 1 & 0 & 0 & 0 & 0 & 0 & 0\\\\\n",
       "\t chr1 &  16025 &  16338 & chr1:16025-16338   & 0 & 0 & 0 & 0 & 1 & 0 & 0 & 0 & 0 & 0 & 0\\\\\n",
       "\t chr1 &  17288 &  17689 & chr1:17288-17689   & 0 & 0 & 0 & 0 & 1 & 0 & 0 & 0 & 0 & 0 & 1\\\\\n",
       "\t chr1 &  28934 &  29499 & chr1:28934-29499   & 0 & 0 & 0 & 0 & 1 & 0 & 0 & 0 & 0 & 0 & 1\\\\\n",
       "\t chr1 & 115429 & 115969 & chr1:115429-115969 & 1 & 0 & 0 & 0 & 0 & 0 & 0 & 0 & 0 & 0 & 0\\\\\n",
       "\t chr1 & 136201 & 137353 & chr1:136201-137353 & 0 & 0 & 0 & 0 & 1 & 0 & 0 & 0 & 0 & 0 & 1\\\\\n",
       "\\end{tabular}\n"
      ],
      "text/markdown": [
       "\n",
       "A tibble: 6 × 15\n",
       "\n",
       "| Chrom &lt;chr&gt; | ChromStart &lt;dbl&gt; | ChromEnd &lt;dbl&gt; | Region &lt;chr&gt; | ASTARR_A &lt;dbl&gt; | WSTARR_A &lt;dbl&gt; | LMPRA_A &lt;dbl&gt; | TMPRA_A &lt;dbl&gt; | ASTARR_R &lt;dbl&gt; | WSTARR_R &lt;dbl&gt; | LMPRA_R &lt;dbl&gt; | TMPRA_R &lt;dbl&gt; | CRISPRi-HCRFF:CASA &lt;dbl&gt; | CRISPRi-Growth:Signif &lt;dbl&gt; | High_GC &lt;int&gt; |\n",
       "|---|---|---|---|---|---|---|---|---|---|---|---|---|---|---|\n",
       "| chr1 |  10038 |  10405 | chr1:10038-10405   | 0 | 0 | 0 | 0 | 1 | 0 | 0 | 0 | 0 | 0 | 0 |\n",
       "| chr1 |  16025 |  16338 | chr1:16025-16338   | 0 | 0 | 0 | 0 | 1 | 0 | 0 | 0 | 0 | 0 | 0 |\n",
       "| chr1 |  17288 |  17689 | chr1:17288-17689   | 0 | 0 | 0 | 0 | 1 | 0 | 0 | 0 | 0 | 0 | 1 |\n",
       "| chr1 |  28934 |  29499 | chr1:28934-29499   | 0 | 0 | 0 | 0 | 1 | 0 | 0 | 0 | 0 | 0 | 1 |\n",
       "| chr1 | 115429 | 115969 | chr1:115429-115969 | 1 | 0 | 0 | 0 | 0 | 0 | 0 | 0 | 0 | 0 | 0 |\n",
       "| chr1 | 136201 | 137353 | chr1:136201-137353 | 0 | 0 | 0 | 0 | 1 | 0 | 0 | 0 | 0 | 0 | 1 |\n",
       "\n"
      ],
      "text/plain": [
       "  Chrom ChromStart ChromEnd Region             ASTARR_A WSTARR_A LMPRA_A\n",
       "1 chr1   10038      10405   chr1:10038-10405   0        0        0      \n",
       "2 chr1   16025      16338   chr1:16025-16338   0        0        0      \n",
       "3 chr1   17288      17689   chr1:17288-17689   0        0        0      \n",
       "4 chr1   28934      29499   chr1:28934-29499   0        0        0      \n",
       "5 chr1  115429     115969   chr1:115429-115969 1        0        0      \n",
       "6 chr1  136201     137353   chr1:136201-137353 0        0        0      \n",
       "  TMPRA_A ASTARR_R WSTARR_R LMPRA_R TMPRA_R CRISPRi-HCRFF:CASA\n",
       "1 0       1        0        0       0       0                 \n",
       "2 0       1        0        0       0       0                 \n",
       "3 0       1        0        0       0       0                 \n",
       "4 0       1        0        0       0       0                 \n",
       "5 0       0        0        0       0       0                 \n",
       "6 0       1        0        0       0       0                 \n",
       "  CRISPRi-Growth:Signif High_GC\n",
       "1 0                     0      \n",
       "2 0                     0      \n",
       "3 0                     1      \n",
       "4 0                     1      \n",
       "5 0                     0      \n",
       "6 0                     1      "
      ]
     },
     "metadata": {},
     "output_type": "display_data"
    }
   ],
   "source": [
    "tmp = dat_region_gc\n",
    "tmp = tmp  %>% \n",
    "    dplyr::mutate(High_GC = as.integer(pGC > 0.60)) %>%\n",
    "    dplyr::select(Chrom, ChromStart, ChromEnd, High_GC)\n",
    "\n",
    "dat = dat_region_annot_fcc\n",
    "dat = dat %>% dplyr::left_join(tmp, by = c(\"Chrom\", \"ChromStart\", \"ChromEnd\"))\n",
    "\n",
    "dat_region_annot_fcc_pgc = dat\n",
    "head(dat)"
   ]
  },
  {
   "cell_type": "code",
   "execution_count": null,
   "id": "792ccd27-f6ec-45b0-b00e-58b354389416",
   "metadata": {},
   "outputs": [],
   "source": []
  },
  {
   "cell_type": "code",
   "execution_count": null,
   "id": "d098c39b-0987-4dec-a2f2-163ab9d77e68",
   "metadata": {},
   "outputs": [],
   "source": []
  },
  {
   "cell_type": "code",
   "execution_count": null,
   "id": "0e8d2feb-2ff2-40b8-9d6f-1cf5f6821acb",
   "metadata": {},
   "outputs": [],
   "source": []
  },
  {
   "cell_type": "code",
   "execution_count": 72,
   "id": "2d80e340-17c3-4add-8639-532f7eb7ae07",
   "metadata": {},
   "outputs": [],
   "source": [
    "dat = dat_region_annot_fcc_pgc\n",
    "\n",
    "vec_high_gc = dat$High_GC\n",
    "\n",
    "tmp = dat %>% dplyr::select(ends_with(\"_A\"), ends_with(\"_R\"))\n",
    "lst = lapply(tmp, function(vec_peak){\n",
    "    res = table(vec_high_gc, vec_peak)\n",
    "    return(res)\n",
    "})"
   ]
  },
  {
   "cell_type": "code",
   "execution_count": 74,
   "id": "b6068086-4ed8-4595-9d69-94cfcc94aaab",
   "metadata": {},
   "outputs": [
    {
     "data": {
      "text/plain": [
       "           vec_peak\n",
       "vec_high_gc     0     1\n",
       "          0 66924 21855\n",
       "          1 22868  4306"
      ]
     },
     "metadata": {},
     "output_type": "display_data"
    }
   ],
   "source": [
    "res = lst[[1]]\n",
    "res"
   ]
  },
  {
   "cell_type": "code",
   "execution_count": 75,
   "id": "65a6667a-78d9-4a65-92cd-a09eab560a4d",
   "metadata": {},
   "outputs": [
    {
     "data": {
      "text/html": [
       "<table class=\"dataframe\">\n",
       "<caption>A data.frame: 4 × 3</caption>\n",
       "<thead>\n",
       "\t<tr><th scope=col>vec_high_gc</th><th scope=col>vec_peak</th><th scope=col>Freq</th></tr>\n",
       "\t<tr><th scope=col>&lt;fct&gt;</th><th scope=col>&lt;fct&gt;</th><th scope=col>&lt;int&gt;</th></tr>\n",
       "</thead>\n",
       "<tbody>\n",
       "\t<tr><td>0</td><td>0</td><td>66924</td></tr>\n",
       "\t<tr><td>1</td><td>0</td><td>22868</td></tr>\n",
       "\t<tr><td>0</td><td>1</td><td>21855</td></tr>\n",
       "\t<tr><td>1</td><td>1</td><td> 4306</td></tr>\n",
       "</tbody>\n",
       "</table>\n"
      ],
      "text/latex": [
       "A data.frame: 4 × 3\n",
       "\\begin{tabular}{lll}\n",
       " vec\\_high\\_gc & vec\\_peak & Freq\\\\\n",
       " <fct> & <fct> & <int>\\\\\n",
       "\\hline\n",
       "\t 0 & 0 & 66924\\\\\n",
       "\t 1 & 0 & 22868\\\\\n",
       "\t 0 & 1 & 21855\\\\\n",
       "\t 1 & 1 &  4306\\\\\n",
       "\\end{tabular}\n"
      ],
      "text/markdown": [
       "\n",
       "A data.frame: 4 × 3\n",
       "\n",
       "| vec_high_gc &lt;fct&gt; | vec_peak &lt;fct&gt; | Freq &lt;int&gt; |\n",
       "|---|---|---|\n",
       "| 0 | 0 | 66924 |\n",
       "| 1 | 0 | 22868 |\n",
       "| 0 | 1 | 21855 |\n",
       "| 1 | 1 |  4306 |\n",
       "\n"
      ],
      "text/plain": [
       "  vec_high_gc vec_peak Freq \n",
       "1 0           0        66924\n",
       "2 1           0        22868\n",
       "3 0           1        21855\n",
       "4 1           1         4306"
      ]
     },
     "metadata": {},
     "output_type": "display_data"
    }
   ],
   "source": [
    "as.data.frame(res)"
   ]
  },
  {
   "cell_type": "code",
   "execution_count": null,
   "id": "38210641-5300-402d-9908-07e165f5b919",
   "metadata": {},
   "outputs": [],
   "source": []
  },
  {
   "cell_type": "code",
   "execution_count": null,
   "id": "a4c074e7-a1e3-4810-8f51-75bedab0afee",
   "metadata": {},
   "outputs": [],
   "source": []
  },
  {
   "cell_type": "code",
   "execution_count": 52,
   "id": "8727d3ab-f818-4d9a-8b99-3470bd35cae7",
   "metadata": {},
   "outputs": [],
   "source": [
    "dat = dat_region_annot_fcc_pgc\n",
    "dat = dat %>%\n",
    "    tidyr::gather(Label, Value, -Chrom, -ChromStart, -ChromEnd, -Region) %>%\n",
    "    dplyr::filter(Value > 0) %>%\n",
    "    dplyr::distinct()\n",
    "\n",
    "lst = split(dat$Region, dat$Label)"
   ]
  },
  {
   "cell_type": "code",
   "execution_count": 54,
   "id": "acedcc06-e190-4508-b155-8ddb087f8063",
   "metadata": {},
   "outputs": [],
   "source": [
    "library(UpSetR)"
   ]
  },
  {
   "cell_type": "code",
   "execution_count": 66,
   "id": "aa128598-5573-482c-b2f9-5c83b07b2bb1",
   "metadata": {},
   "outputs": [
    {
     "data": {
      "image/png": "[encoded data removed]",
      "text/plain": [
       "plot without title"
      ]
     },
     "metadata": {
      "image/png": {
       "height": 600,
       "width": 1200
      }
     },
     "output_type": "display_data"
    }
   ],
   "source": [
    "options(repr.plot.height=10, repr.plot.width=20)\n",
    "upset(\n",
    "    fromList(lst), \n",
    "    order.by = \"freq\",\n",
    "    nintersects = NA,\n",
    "    text.scale = c(\n",
    "        2, # upper barplot y axis title\n",
    "        2, # upper barplot y axis text\n",
    "        2, # left  barplot y axis title\n",
    "        2, # left  barplot y axis text\n",
    "        2, # set title\n",
    "        2  # upper barplot count number\n",
    "    )\n",
    ")"
   ]
  },
  {
   "cell_type": "code",
   "execution_count": 55,
   "id": "92bbadcb-9eba-460e-869b-5e158352018d",
   "metadata": {},
   "outputs": [
    {
     "data": {
      "image/png": "[encoded data removed]",
      "text/plain": [
       "plot without title"
      ]
     },
     "metadata": {
      "image/png": {
       "height": 600,
       "width": 1800
      }
     },
     "output_type": "display_data"
    }
   ],
   "source": [
    "options(repr.plot.height=10, repr.plot.width=30)\n",
    "upset(fromList(lst), \n",
    "      order.by = \"freq\", \n",
    "      nsets = 8,\n",
    "      nintersects = NA,\n",
    "      number.angles = 0,\n",
    "      point.size = 3, \n",
    "      line.size  = 2,\n",
    "      mb.ratio = c(0.6, 0.4),\n",
    "      mainbar.y.label = \"Regulatory regions identified\", \n",
    "      sets.x.label    = \"Assay Type\", \n",
    "      text.scale = c(\n",
    "          3, # upper barplot y axis title\n",
    "          2, # upper barplot y axis text\n",
    "          3, # left  barplot y axis title\n",
    "          2, # left  barplot y axis text\n",
    "          3, # set title\n",
    "          2  # upper barplot count number\n",
    "      )\n",
    ")"
   ]
  },
  {
   "cell_type": "code",
   "execution_count": null,
   "id": "58852325-59cd-4471-ad04-0dc420344167",
   "metadata": {},
   "outputs": [],
   "source": []
  },
  {
   "cell_type": "code",
   "execution_count": 11,
   "id": "e3ad1cde-2ed0-4231-90ed-ad5d3753a18c",
   "metadata": {},
   "outputs": [
    {
     "data": {
      "text/html": [
       "<table class=\"dataframe\">\n",
       "<caption>A tibble: 6 × 5</caption>\n",
       "<thead>\n",
       "\t<tr><th scope=col>Region</th><th scope=col>ASTARR_A</th><th scope=col>WSTARR_A</th><th scope=col>LMPRA_A</th><th scope=col>TMPRA_A</th></tr>\n",
       "\t<tr><th scope=col>&lt;chr&gt;</th><th scope=col>&lt;dbl&gt;</th><th scope=col>&lt;dbl&gt;</th><th scope=col>&lt;dbl&gt;</th><th scope=col>&lt;dbl&gt;</th></tr>\n",
       "</thead>\n",
       "<tbody>\n",
       "\t<tr><td>chr1:10038-10405  </td><td>0</td><td>0</td><td>0</td><td>0</td></tr>\n",
       "\t<tr><td>chr1:16025-16338  </td><td>0</td><td>0</td><td>0</td><td>0</td></tr>\n",
       "\t<tr><td>chr1:17288-17689  </td><td>0</td><td>0</td><td>0</td><td>0</td></tr>\n",
       "\t<tr><td>chr1:28934-29499  </td><td>0</td><td>0</td><td>0</td><td>0</td></tr>\n",
       "\t<tr><td>chr1:115429-115969</td><td>1</td><td>0</td><td>0</td><td>0</td></tr>\n",
       "\t<tr><td>chr1:136201-137353</td><td>0</td><td>0</td><td>0</td><td>0</td></tr>\n",
       "</tbody>\n",
       "</table>\n"
      ],
      "text/latex": [
       "A tibble: 6 × 5\n",
       "\\begin{tabular}{lllll}\n",
       " Region & ASTARR\\_A & WSTARR\\_A & LMPRA\\_A & TMPRA\\_A\\\\\n",
       " <chr> & <dbl> & <dbl> & <dbl> & <dbl>\\\\\n",
       "\\hline\n",
       "\t chr1:10038-10405   & 0 & 0 & 0 & 0\\\\\n",
       "\t chr1:16025-16338   & 0 & 0 & 0 & 0\\\\\n",
       "\t chr1:17288-17689   & 0 & 0 & 0 & 0\\\\\n",
       "\t chr1:28934-29499   & 0 & 0 & 0 & 0\\\\\n",
       "\t chr1:115429-115969 & 1 & 0 & 0 & 0\\\\\n",
       "\t chr1:136201-137353 & 0 & 0 & 0 & 0\\\\\n",
       "\\end{tabular}\n"
      ],
      "text/markdown": [
       "\n",
       "A tibble: 6 × 5\n",
       "\n",
       "| Region &lt;chr&gt; | ASTARR_A &lt;dbl&gt; | WSTARR_A &lt;dbl&gt; | LMPRA_A &lt;dbl&gt; | TMPRA_A &lt;dbl&gt; |\n",
       "|---|---|---|---|---|\n",
       "| chr1:10038-10405   | 0 | 0 | 0 | 0 |\n",
       "| chr1:16025-16338   | 0 | 0 | 0 | 0 |\n",
       "| chr1:17288-17689   | 0 | 0 | 0 | 0 |\n",
       "| chr1:28934-29499   | 0 | 0 | 0 | 0 |\n",
       "| chr1:115429-115969 | 1 | 0 | 0 | 0 |\n",
       "| chr1:136201-137353 | 0 | 0 | 0 | 0 |\n",
       "\n"
      ],
      "text/plain": [
       "  Region             ASTARR_A WSTARR_A LMPRA_A TMPRA_A\n",
       "1 chr1:10038-10405   0        0        0       0      \n",
       "2 chr1:16025-16338   0        0        0       0      \n",
       "3 chr1:17288-17689   0        0        0       0      \n",
       "4 chr1:28934-29499   0        0        0       0      \n",
       "5 chr1:115429-115969 1        0        0       0      \n",
       "6 chr1:136201-137353 0        0        0       0      "
      ]
     },
     "metadata": {},
     "output_type": "display_data"
    }
   ],
   "source": [
    "dat = dat_region_annot_fcc\n",
    "dat = dat %>% dplyr::select(Region, ends_with(\"_A\"))\n",
    "head(dat)"
   ]
  },
  {
   "cell_type": "code",
   "execution_count": 12,
   "id": "820ef012-3783-4e61-8b12-fe210e25e047",
   "metadata": {},
   "outputs": [
    {
     "data": {
      "text/html": [
       "<table class=\"dataframe\">\n",
       "<caption>A tibble: 6 × 5</caption>\n",
       "<thead>\n",
       "\t<tr><th scope=col>Region</th><th scope=col>ASTARR_R</th><th scope=col>WSTARR_R</th><th scope=col>LMPRA_R</th><th scope=col>TMPRA_R</th></tr>\n",
       "\t<tr><th scope=col>&lt;chr&gt;</th><th scope=col>&lt;dbl&gt;</th><th scope=col>&lt;dbl&gt;</th><th scope=col>&lt;dbl&gt;</th><th scope=col>&lt;dbl&gt;</th></tr>\n",
       "</thead>\n",
       "<tbody>\n",
       "\t<tr><td>chr1:10038-10405  </td><td>1</td><td>0</td><td>0</td><td>0</td></tr>\n",
       "\t<tr><td>chr1:16025-16338  </td><td>1</td><td>0</td><td>0</td><td>0</td></tr>\n",
       "\t<tr><td>chr1:17288-17689  </td><td>1</td><td>0</td><td>0</td><td>0</td></tr>\n",
       "\t<tr><td>chr1:28934-29499  </td><td>1</td><td>0</td><td>0</td><td>0</td></tr>\n",
       "\t<tr><td>chr1:115429-115969</td><td>0</td><td>0</td><td>0</td><td>0</td></tr>\n",
       "\t<tr><td>chr1:136201-137353</td><td>1</td><td>0</td><td>0</td><td>0</td></tr>\n",
       "</tbody>\n",
       "</table>\n"
      ],
      "text/latex": [
       "A tibble: 6 × 5\n",
       "\\begin{tabular}{lllll}\n",
       " Region & ASTARR\\_R & WSTARR\\_R & LMPRA\\_R & TMPRA\\_R\\\\\n",
       " <chr> & <dbl> & <dbl> & <dbl> & <dbl>\\\\\n",
       "\\hline\n",
       "\t chr1:10038-10405   & 1 & 0 & 0 & 0\\\\\n",
       "\t chr1:16025-16338   & 1 & 0 & 0 & 0\\\\\n",
       "\t chr1:17288-17689   & 1 & 0 & 0 & 0\\\\\n",
       "\t chr1:28934-29499   & 1 & 0 & 0 & 0\\\\\n",
       "\t chr1:115429-115969 & 0 & 0 & 0 & 0\\\\\n",
       "\t chr1:136201-137353 & 1 & 0 & 0 & 0\\\\\n",
       "\\end{tabular}\n"
      ],
      "text/markdown": [
       "\n",
       "A tibble: 6 × 5\n",
       "\n",
       "| Region &lt;chr&gt; | ASTARR_R &lt;dbl&gt; | WSTARR_R &lt;dbl&gt; | LMPRA_R &lt;dbl&gt; | TMPRA_R &lt;dbl&gt; |\n",
       "|---|---|---|---|---|\n",
       "| chr1:10038-10405   | 1 | 0 | 0 | 0 |\n",
       "| chr1:16025-16338   | 1 | 0 | 0 | 0 |\n",
       "| chr1:17288-17689   | 1 | 0 | 0 | 0 |\n",
       "| chr1:28934-29499   | 1 | 0 | 0 | 0 |\n",
       "| chr1:115429-115969 | 0 | 0 | 0 | 0 |\n",
       "| chr1:136201-137353 | 1 | 0 | 0 | 0 |\n",
       "\n"
      ],
      "text/plain": [
       "  Region             ASTARR_R WSTARR_R LMPRA_R TMPRA_R\n",
       "1 chr1:10038-10405   1        0        0       0      \n",
       "2 chr1:16025-16338   1        0        0       0      \n",
       "3 chr1:17288-17689   1        0        0       0      \n",
       "4 chr1:28934-29499   1        0        0       0      \n",
       "5 chr1:115429-115969 0        0        0       0      \n",
       "6 chr1:136201-137353 1        0        0       0      "
      ]
     },
     "metadata": {},
     "output_type": "display_data"
    }
   ],
   "source": [
    "dat = dat_region_annot_fcc\n",
    "dat = dat %>% dplyr::select(Region, ends_with(\"_R\"))\n",
    "head(dat)"
   ]
  },
  {
   "cell_type": "code",
   "execution_count": 31,
   "id": "5cdd7905-db36-42d5-bb3c-733fbc000902",
   "metadata": {},
   "outputs": [
    {
     "name": "stdout",
     "output_type": "stream",
     "text": [
      "20283 / 115953 \n"
     ]
    },
    {
     "data": {
      "text/html": [
       "<style>\n",
       ".list-inline {list-style: none; margin:0; padding: 0}\n",
       ".list-inline>li {display: inline-block}\n",
       ".list-inline>li:not(:last-child)::after {content: \"\\00b7\"; padding: 0 .5ex}\n",
       "</style>\n",
       "<ol class=list-inline><li>'chr1:778233-779389'</li><li>'chr1:842516-843431'</li><li>'chr1:912735-913419'</li><li>'chr1:958722-959968'</li><li>'chr1:960468-961615'</li><li>'chr1:1005094-1005553'</li></ol>\n"
      ],
      "text/latex": [
       "\\begin{enumerate*}\n",
       "\\item 'chr1:778233-779389'\n",
       "\\item 'chr1:842516-843431'\n",
       "\\item 'chr1:912735-913419'\n",
       "\\item 'chr1:958722-959968'\n",
       "\\item 'chr1:960468-961615'\n",
       "\\item 'chr1:1005094-1005553'\n",
       "\\end{enumerate*}\n"
      ],
      "text/markdown": [
       "1. 'chr1:778233-779389'\n",
       "2. 'chr1:842516-843431'\n",
       "3. 'chr1:912735-913419'\n",
       "4. 'chr1:958722-959968'\n",
       "5. 'chr1:960468-961615'\n",
       "6. 'chr1:1005094-1005553'\n",
       "\n",
       "\n"
      ],
      "text/plain": [
       "[1] \"chr1:778233-779389\"   \"chr1:842516-843431\"   \"chr1:912735-913419\"  \n",
       "[4] \"chr1:958722-959968\"   \"chr1:960468-961615\"   \"chr1:1005094-1005553\""
      ]
     },
     "metadata": {},
     "output_type": "display_data"
    }
   ],
   "source": [
    "dat = dat_region_annot_fcc\n",
    "dat = dat %>% \n",
    "    dplyr::select(Region, ends_with(\"_A\")) %>% \n",
    "    tibble::column_to_rownames(var=\"Region\")\n",
    "\n",
    "vec = apply(dat, 1, sum)\n",
    "idx = (vec > 1)\n",
    "vec = names(vec[idx])\n",
    "\n",
    "vec_txt_fcc_enh = vec\n",
    "cat(sum(idx), \"/\", length(idx), \"\\n\")\n",
    "head(vec)"
   ]
  },
  {
   "cell_type": "code",
   "execution_count": 32,
   "id": "995a57d2-4f49-4ddf-ac9d-cd4709805977",
   "metadata": {},
   "outputs": [
    {
     "name": "stdout",
     "output_type": "stream",
     "text": [
      "2619 / 115953 \n"
     ]
    },
    {
     "data": {
      "text/html": [
       "<style>\n",
       ".list-inline {list-style: none; margin:0; padding: 0}\n",
       ".list-inline>li {display: inline-block}\n",
       ".list-inline>li:not(:last-child)::after {content: \"\\00b7\"; padding: 0 .5ex}\n",
       "</style>\n",
       "<ol class=list-inline><li>'chr1:975975-976656'</li><li>'chr1:1019190-1021734'</li><li>'chr1:1079414-1080664'</li><li>'chr1:1889925-1892005'</li><li>'chr1:2314353-2315666'</li><li>'chr1:2381232-2382958'</li></ol>\n"
      ],
      "text/latex": [
       "\\begin{enumerate*}\n",
       "\\item 'chr1:975975-976656'\n",
       "\\item 'chr1:1019190-1021734'\n",
       "\\item 'chr1:1079414-1080664'\n",
       "\\item 'chr1:1889925-1892005'\n",
       "\\item 'chr1:2314353-2315666'\n",
       "\\item 'chr1:2381232-2382958'\n",
       "\\end{enumerate*}\n"
      ],
      "text/markdown": [
       "1. 'chr1:975975-976656'\n",
       "2. 'chr1:1019190-1021734'\n",
       "3. 'chr1:1079414-1080664'\n",
       "4. 'chr1:1889925-1892005'\n",
       "5. 'chr1:2314353-2315666'\n",
       "6. 'chr1:2381232-2382958'\n",
       "\n",
       "\n"
      ],
      "text/plain": [
       "[1] \"chr1:975975-976656\"   \"chr1:1019190-1021734\" \"chr1:1079414-1080664\"\n",
       "[4] \"chr1:1889925-1892005\" \"chr1:2314353-2315666\" \"chr1:2381232-2382958\""
      ]
     },
     "metadata": {},
     "output_type": "display_data"
    }
   ],
   "source": [
    "dat = dat_region_annot_fcc\n",
    "dat = dat %>% \n",
    "    dplyr::select(Region, ends_with(\"_R\")) %>% \n",
    "    tibble::column_to_rownames(var=\"Region\")\n",
    "\n",
    "vec = apply(dat, 1, sum)\n",
    "idx = (vec > 1)\n",
    "vec = names(vec[idx])\n",
    "\n",
    "vec_txt_fcc_rep = vec\n",
    "cat(sum(idx), \"/\", length(idx), \"\\n\")\n",
    "head(vec)"
   ]
  },
  {
   "cell_type": "code",
   "execution_count": 33,
   "id": "9aac559f-e1c4-4510-826b-9284169a6590",
   "metadata": {},
   "outputs": [
    {
     "name": "stdout",
     "output_type": "stream",
     "text": [
      "22517 / 115953 \n"
     ]
    }
   ],
   "source": [
    "vec_txt_fcc = c(vec_txt_fcc_enh, vec_txt_fcc_rep)\n",
    "\n",
    "dat = dat_region_annot_fcc\n",
    "num = nrow(dat)\n",
    "dat = dat %>% dplyr::filter(Region %in% vec_txt_fcc)\n",
    "\n",
    "cat(nrow(dat), \"/\", num, \"\\n\")"
   ]
  },
  {
   "cell_type": "code",
   "execution_count": 34,
   "id": "ca58a28c-12f5-4e59-8bd5-3372660e81c7",
   "metadata": {},
   "outputs": [
    {
     "data": {
      "text/html": [
       "<table class=\"dataframe\">\n",
       "<caption>A tibble: 6 × 14</caption>\n",
       "<thead>\n",
       "\t<tr><th scope=col>Chrom</th><th scope=col>ChromStart</th><th scope=col>ChromEnd</th><th scope=col>Region</th><th scope=col>ASTARR_A</th><th scope=col>WSTARR_A</th><th scope=col>LMPRA_A</th><th scope=col>TMPRA_A</th><th scope=col>ASTARR_R</th><th scope=col>WSTARR_R</th><th scope=col>LMPRA_R</th><th scope=col>TMPRA_R</th><th scope=col>CRISPRi-HCRFF:CASA</th><th scope=col>CRISPRi-Growth:Signif</th></tr>\n",
       "\t<tr><th scope=col>&lt;chr&gt;</th><th scope=col>&lt;dbl&gt;</th><th scope=col>&lt;dbl&gt;</th><th scope=col>&lt;chr&gt;</th><th scope=col>&lt;dbl&gt;</th><th scope=col>&lt;dbl&gt;</th><th scope=col>&lt;dbl&gt;</th><th scope=col>&lt;dbl&gt;</th><th scope=col>&lt;dbl&gt;</th><th scope=col>&lt;dbl&gt;</th><th scope=col>&lt;dbl&gt;</th><th scope=col>&lt;dbl&gt;</th><th scope=col>&lt;dbl&gt;</th><th scope=col>&lt;dbl&gt;</th></tr>\n",
       "</thead>\n",
       "<tbody>\n",
       "\t<tr><td>chr1</td><td>778233</td><td>779389</td><td>chr1:778233-779389</td><td>1</td><td>1</td><td>1</td><td>0</td><td>0</td><td>0</td><td>0</td><td>0</td><td>0</td><td>1</td></tr>\n",
       "\t<tr><td>chr1</td><td>842516</td><td>843431</td><td>chr1:842516-843431</td><td>1</td><td>0</td><td>1</td><td>0</td><td>1</td><td>0</td><td>0</td><td>0</td><td>0</td><td>1</td></tr>\n",
       "\t<tr><td>chr1</td><td>912735</td><td>913419</td><td>chr1:912735-913419</td><td>1</td><td>1</td><td>0</td><td>0</td><td>1</td><td>0</td><td>0</td><td>0</td><td>0</td><td>1</td></tr>\n",
       "\t<tr><td>chr1</td><td>958722</td><td>959968</td><td>chr1:958722-959968</td><td>0</td><td>1</td><td>1</td><td>0</td><td>1</td><td>0</td><td>0</td><td>0</td><td>0</td><td>1</td></tr>\n",
       "\t<tr><td>chr1</td><td>960468</td><td>961615</td><td>chr1:960468-961615</td><td>0</td><td>1</td><td>1</td><td>0</td><td>1</td><td>0</td><td>0</td><td>0</td><td>0</td><td>1</td></tr>\n",
       "\t<tr><td>chr1</td><td>975975</td><td>976656</td><td>chr1:975975-976656</td><td>0</td><td>1</td><td>0</td><td>0</td><td>1</td><td>1</td><td>0</td><td>0</td><td>0</td><td>1</td></tr>\n",
       "</tbody>\n",
       "</table>\n"
      ],
      "text/latex": [
       "A tibble: 6 × 14\n",
       "\\begin{tabular}{llllllllllllll}\n",
       " Chrom & ChromStart & ChromEnd & Region & ASTARR\\_A & WSTARR\\_A & LMPRA\\_A & TMPRA\\_A & ASTARR\\_R & WSTARR\\_R & LMPRA\\_R & TMPRA\\_R & CRISPRi-HCRFF:CASA & CRISPRi-Growth:Signif\\\\\n",
       " <chr> & <dbl> & <dbl> & <chr> & <dbl> & <dbl> & <dbl> & <dbl> & <dbl> & <dbl> & <dbl> & <dbl> & <dbl> & <dbl>\\\\\n",
       "\\hline\n",
       "\t chr1 & 778233 & 779389 & chr1:778233-779389 & 1 & 1 & 1 & 0 & 0 & 0 & 0 & 0 & 0 & 1\\\\\n",
       "\t chr1 & 842516 & 843431 & chr1:842516-843431 & 1 & 0 & 1 & 0 & 1 & 0 & 0 & 0 & 0 & 1\\\\\n",
       "\t chr1 & 912735 & 913419 & chr1:912735-913419 & 1 & 1 & 0 & 0 & 1 & 0 & 0 & 0 & 0 & 1\\\\\n",
       "\t chr1 & 958722 & 959968 & chr1:958722-959968 & 0 & 1 & 1 & 0 & 1 & 0 & 0 & 0 & 0 & 1\\\\\n",
       "\t chr1 & 960468 & 961615 & chr1:960468-961615 & 0 & 1 & 1 & 0 & 1 & 0 & 0 & 0 & 0 & 1\\\\\n",
       "\t chr1 & 975975 & 976656 & chr1:975975-976656 & 0 & 1 & 0 & 0 & 1 & 1 & 0 & 0 & 0 & 1\\\\\n",
       "\\end{tabular}\n"
      ],
      "text/markdown": [
       "\n",
       "A tibble: 6 × 14\n",
       "\n",
       "| Chrom &lt;chr&gt; | ChromStart &lt;dbl&gt; | ChromEnd &lt;dbl&gt; | Region &lt;chr&gt; | ASTARR_A &lt;dbl&gt; | WSTARR_A &lt;dbl&gt; | LMPRA_A &lt;dbl&gt; | TMPRA_A &lt;dbl&gt; | ASTARR_R &lt;dbl&gt; | WSTARR_R &lt;dbl&gt; | LMPRA_R &lt;dbl&gt; | TMPRA_R &lt;dbl&gt; | CRISPRi-HCRFF:CASA &lt;dbl&gt; | CRISPRi-Growth:Signif &lt;dbl&gt; |\n",
       "|---|---|---|---|---|---|---|---|---|---|---|---|---|---|\n",
       "| chr1 | 778233 | 779389 | chr1:778233-779389 | 1 | 1 | 1 | 0 | 0 | 0 | 0 | 0 | 0 | 1 |\n",
       "| chr1 | 842516 | 843431 | chr1:842516-843431 | 1 | 0 | 1 | 0 | 1 | 0 | 0 | 0 | 0 | 1 |\n",
       "| chr1 | 912735 | 913419 | chr1:912735-913419 | 1 | 1 | 0 | 0 | 1 | 0 | 0 | 0 | 0 | 1 |\n",
       "| chr1 | 958722 | 959968 | chr1:958722-959968 | 0 | 1 | 1 | 0 | 1 | 0 | 0 | 0 | 0 | 1 |\n",
       "| chr1 | 960468 | 961615 | chr1:960468-961615 | 0 | 1 | 1 | 0 | 1 | 0 | 0 | 0 | 0 | 1 |\n",
       "| chr1 | 975975 | 976656 | chr1:975975-976656 | 0 | 1 | 0 | 0 | 1 | 1 | 0 | 0 | 0 | 1 |\n",
       "\n"
      ],
      "text/plain": [
       "  Chrom ChromStart ChromEnd Region             ASTARR_A WSTARR_A LMPRA_A\n",
       "1 chr1  778233     779389   chr1:778233-779389 1        1        1      \n",
       "2 chr1  842516     843431   chr1:842516-843431 1        0        1      \n",
       "3 chr1  912735     913419   chr1:912735-913419 1        1        0      \n",
       "4 chr1  958722     959968   chr1:958722-959968 0        1        1      \n",
       "5 chr1  960468     961615   chr1:960468-961615 0        1        1      \n",
       "6 chr1  975975     976656   chr1:975975-976656 0        1        0      \n",
       "  TMPRA_A ASTARR_R WSTARR_R LMPRA_R TMPRA_R CRISPRi-HCRFF:CASA\n",
       "1 0       0        0        0       0       0                 \n",
       "2 0       1        0        0       0       0                 \n",
       "3 0       1        0        0       0       0                 \n",
       "4 0       1        0        0       0       0                 \n",
       "5 0       1        0        0       0       0                 \n",
       "6 0       1        1        0       0       0                 \n",
       "  CRISPRi-Growth:Signif\n",
       "1 1                    \n",
       "2 1                    \n",
       "3 1                    \n",
       "4 1                    \n",
       "5 1                    \n",
       "6 1                    "
      ]
     },
     "metadata": {},
     "output_type": "display_data"
    }
   ],
   "source": [
    "head(dat)"
   ]
  },
  {
   "cell_type": "code",
   "execution_count": null,
   "id": "6079a4e5-8a57-4a9e-81bc-382d5e489615",
   "metadata": {},
   "outputs": [],
   "source": []
  },
  {
   "cell_type": "code",
   "execution_count": null,
   "id": "e337cb8f-b68c-4306-a4d3-ea9c56b583ed",
   "metadata": {},
   "outputs": [],
   "source": []
  },
  {
   "cell_type": "code",
   "execution_count": null,
   "id": "c7597e3e-51a6-4c1e-8ffd-093a90fd4e40",
   "metadata": {},
   "outputs": [],
   "source": []
  },
  {
   "cell_type": "code",
   "execution_count": 16,
   "id": "a1ab68dd-8dc0-4174-bc13-4b2b6e72060d",
   "metadata": {},
   "outputs": [
    {
     "data": {
      "text/html": [
       "<table class=\"dataframe\">\n",
       "<caption>A data.frame: 6 × 13</caption>\n",
       "<thead>\n",
       "\t<tr><th></th><th scope=col>Chrom</th><th scope=col>ChromStart</th><th scope=col>ChromEnd</th><th scope=col>ASTARR_A</th><th scope=col>WSTARR_A</th><th scope=col>LMPRA_A</th><th scope=col>TMPRA_A</th><th scope=col>ASTARR_R</th><th scope=col>WSTARR_R</th><th scope=col>LMPRA_R</th><th scope=col>TMPRA_R</th><th scope=col>CRISPRi-HCRFF:CASA</th><th scope=col>CRISPRi-Growth:Signif</th></tr>\n",
       "\t<tr><th></th><th scope=col>&lt;chr&gt;</th><th scope=col>&lt;dbl&gt;</th><th scope=col>&lt;dbl&gt;</th><th scope=col>&lt;dbl&gt;</th><th scope=col>&lt;dbl&gt;</th><th scope=col>&lt;dbl&gt;</th><th scope=col>&lt;dbl&gt;</th><th scope=col>&lt;dbl&gt;</th><th scope=col>&lt;dbl&gt;</th><th scope=col>&lt;dbl&gt;</th><th scope=col>&lt;dbl&gt;</th><th scope=col>&lt;dbl&gt;</th><th scope=col>&lt;dbl&gt;</th></tr>\n",
       "</thead>\n",
       "<tbody>\n",
       "\t<tr><th scope=row>chr1:10038-10405</th><td>chr1</td><td> 10038</td><td> 10405</td><td>0</td><td>0</td><td>0</td><td>0</td><td>1</td><td>0</td><td>0</td><td>0</td><td>0</td><td>0</td></tr>\n",
       "\t<tr><th scope=row>chr1:16025-16338</th><td>chr1</td><td> 16025</td><td> 16338</td><td>0</td><td>0</td><td>0</td><td>0</td><td>1</td><td>0</td><td>0</td><td>0</td><td>0</td><td>0</td></tr>\n",
       "\t<tr><th scope=row>chr1:17288-17689</th><td>chr1</td><td> 17288</td><td> 17689</td><td>0</td><td>0</td><td>0</td><td>0</td><td>1</td><td>0</td><td>0</td><td>0</td><td>0</td><td>0</td></tr>\n",
       "\t<tr><th scope=row>chr1:28934-29499</th><td>chr1</td><td> 28934</td><td> 29499</td><td>0</td><td>0</td><td>0</td><td>0</td><td>1</td><td>0</td><td>0</td><td>0</td><td>0</td><td>0</td></tr>\n",
       "\t<tr><th scope=row>chr1:115429-115969</th><td>chr1</td><td>115429</td><td>115969</td><td>1</td><td>0</td><td>0</td><td>0</td><td>0</td><td>0</td><td>0</td><td>0</td><td>0</td><td>0</td></tr>\n",
       "\t<tr><th scope=row>chr1:136201-137353</th><td>chr1</td><td>136201</td><td>137353</td><td>0</td><td>0</td><td>0</td><td>0</td><td>1</td><td>0</td><td>0</td><td>0</td><td>0</td><td>0</td></tr>\n",
       "</tbody>\n",
       "</table>\n"
      ],
      "text/latex": [
       "A data.frame: 6 × 13\n",
       "\\begin{tabular}{r|lllllllllllll}\n",
       "  & Chrom & ChromStart & ChromEnd & ASTARR\\_A & WSTARR\\_A & LMPRA\\_A & TMPRA\\_A & ASTARR\\_R & WSTARR\\_R & LMPRA\\_R & TMPRA\\_R & CRISPRi-HCRFF:CASA & CRISPRi-Growth:Signif\\\\\n",
       "  & <chr> & <dbl> & <dbl> & <dbl> & <dbl> & <dbl> & <dbl> & <dbl> & <dbl> & <dbl> & <dbl> & <dbl> & <dbl>\\\\\n",
       "\\hline\n",
       "\tchr1:10038-10405 & chr1 &  10038 &  10405 & 0 & 0 & 0 & 0 & 1 & 0 & 0 & 0 & 0 & 0\\\\\n",
       "\tchr1:16025-16338 & chr1 &  16025 &  16338 & 0 & 0 & 0 & 0 & 1 & 0 & 0 & 0 & 0 & 0\\\\\n",
       "\tchr1:17288-17689 & chr1 &  17288 &  17689 & 0 & 0 & 0 & 0 & 1 & 0 & 0 & 0 & 0 & 0\\\\\n",
       "\tchr1:28934-29499 & chr1 &  28934 &  29499 & 0 & 0 & 0 & 0 & 1 & 0 & 0 & 0 & 0 & 0\\\\\n",
       "\tchr1:115429-115969 & chr1 & 115429 & 115969 & 1 & 0 & 0 & 0 & 0 & 0 & 0 & 0 & 0 & 0\\\\\n",
       "\tchr1:136201-137353 & chr1 & 136201 & 137353 & 0 & 0 & 0 & 0 & 1 & 0 & 0 & 0 & 0 & 0\\\\\n",
       "\\end{tabular}\n"
      ],
      "text/markdown": [
       "\n",
       "A data.frame: 6 × 13\n",
       "\n",
       "| <!--/--> | Chrom &lt;chr&gt; | ChromStart &lt;dbl&gt; | ChromEnd &lt;dbl&gt; | ASTARR_A &lt;dbl&gt; | WSTARR_A &lt;dbl&gt; | LMPRA_A &lt;dbl&gt; | TMPRA_A &lt;dbl&gt; | ASTARR_R &lt;dbl&gt; | WSTARR_R &lt;dbl&gt; | LMPRA_R &lt;dbl&gt; | TMPRA_R &lt;dbl&gt; | CRISPRi-HCRFF:CASA &lt;dbl&gt; | CRISPRi-Growth:Signif &lt;dbl&gt; |\n",
       "|---|---|---|---|---|---|---|---|---|---|---|---|---|---|\n",
       "| chr1:10038-10405 | chr1 |  10038 |  10405 | 0 | 0 | 0 | 0 | 1 | 0 | 0 | 0 | 0 | 0 |\n",
       "| chr1:16025-16338 | chr1 |  16025 |  16338 | 0 | 0 | 0 | 0 | 1 | 0 | 0 | 0 | 0 | 0 |\n",
       "| chr1:17288-17689 | chr1 |  17288 |  17689 | 0 | 0 | 0 | 0 | 1 | 0 | 0 | 0 | 0 | 0 |\n",
       "| chr1:28934-29499 | chr1 |  28934 |  29499 | 0 | 0 | 0 | 0 | 1 | 0 | 0 | 0 | 0 | 0 |\n",
       "| chr1:115429-115969 | chr1 | 115429 | 115969 | 1 | 0 | 0 | 0 | 0 | 0 | 0 | 0 | 0 | 0 |\n",
       "| chr1:136201-137353 | chr1 | 136201 | 137353 | 0 | 0 | 0 | 0 | 1 | 0 | 0 | 0 | 0 | 0 |\n",
       "\n"
      ],
      "text/plain": [
       "                   Chrom ChromStart ChromEnd ASTARR_A WSTARR_A LMPRA_A TMPRA_A\n",
       "chr1:10038-10405   chr1   10038      10405   0        0        0       0      \n",
       "chr1:16025-16338   chr1   16025      16338   0        0        0       0      \n",
       "chr1:17288-17689   chr1   17288      17689   0        0        0       0      \n",
       "chr1:28934-29499   chr1   28934      29499   0        0        0       0      \n",
       "chr1:115429-115969 chr1  115429     115969   1        0        0       0      \n",
       "chr1:136201-137353 chr1  136201     137353   0        0        0       0      \n",
       "                   ASTARR_R WSTARR_R LMPRA_R TMPRA_R CRISPRi-HCRFF:CASA\n",
       "chr1:10038-10405   1        0        0       0       0                 \n",
       "chr1:16025-16338   1        0        0       0       0                 \n",
       "chr1:17288-17689   1        0        0       0       0                 \n",
       "chr1:28934-29499   1        0        0       0       0                 \n",
       "chr1:115429-115969 0        0        0       0       0                 \n",
       "chr1:136201-137353 1        0        0       0       0                 \n",
       "                   CRISPRi-Growth:Signif\n",
       "chr1:10038-10405   0                    \n",
       "chr1:16025-16338   0                    \n",
       "chr1:17288-17689   0                    \n",
       "chr1:28934-29499   0                    \n",
       "chr1:115429-115969 0                    \n",
       "chr1:136201-137353 0                    "
      ]
     },
     "metadata": {},
     "output_type": "display_data"
    }
   ],
   "source": [
    "dat = dat_region_annot_fcc\n",
    "dat = head(dat)\n",
    "dat = dat %>% tibble::column_to_rownames(var=\"Region\")\n",
    "dat"
   ]
  },
  {
   "cell_type": "code",
   "execution_count": 17,
   "id": "3864df2a-2246-41b7-a8d0-697bed499adb",
   "metadata": {},
   "outputs": [
    {
     "data": {
      "text/html": [
       "<table class=\"dataframe\">\n",
       "<caption>A data.frame: 6 × 14</caption>\n",
       "<thead>\n",
       "\t<tr><th scope=col>Region</th><th scope=col>Chrom</th><th scope=col>ChromStart</th><th scope=col>ChromEnd</th><th scope=col>ASTARR_A</th><th scope=col>WSTARR_A</th><th scope=col>LMPRA_A</th><th scope=col>TMPRA_A</th><th scope=col>ASTARR_R</th><th scope=col>WSTARR_R</th><th scope=col>LMPRA_R</th><th scope=col>TMPRA_R</th><th scope=col>CRISPRi-HCRFF:CASA</th><th scope=col>CRISPRi-Growth:Signif</th></tr>\n",
       "\t<tr><th scope=col>&lt;chr&gt;</th><th scope=col>&lt;chr&gt;</th><th scope=col>&lt;dbl&gt;</th><th scope=col>&lt;dbl&gt;</th><th scope=col>&lt;dbl&gt;</th><th scope=col>&lt;dbl&gt;</th><th scope=col>&lt;dbl&gt;</th><th scope=col>&lt;dbl&gt;</th><th scope=col>&lt;dbl&gt;</th><th scope=col>&lt;dbl&gt;</th><th scope=col>&lt;dbl&gt;</th><th scope=col>&lt;dbl&gt;</th><th scope=col>&lt;dbl&gt;</th><th scope=col>&lt;dbl&gt;</th></tr>\n",
       "</thead>\n",
       "<tbody>\n",
       "\t<tr><td>chr1:10038-10405  </td><td>chr1</td><td> 10038</td><td> 10405</td><td>0</td><td>0</td><td>0</td><td>0</td><td>1</td><td>0</td><td>0</td><td>0</td><td>0</td><td>0</td></tr>\n",
       "\t<tr><td>chr1:16025-16338  </td><td>chr1</td><td> 16025</td><td> 16338</td><td>0</td><td>0</td><td>0</td><td>0</td><td>1</td><td>0</td><td>0</td><td>0</td><td>0</td><td>0</td></tr>\n",
       "\t<tr><td>chr1:17288-17689  </td><td>chr1</td><td> 17288</td><td> 17689</td><td>0</td><td>0</td><td>0</td><td>0</td><td>1</td><td>0</td><td>0</td><td>0</td><td>0</td><td>0</td></tr>\n",
       "\t<tr><td>chr1:28934-29499  </td><td>chr1</td><td> 28934</td><td> 29499</td><td>0</td><td>0</td><td>0</td><td>0</td><td>1</td><td>0</td><td>0</td><td>0</td><td>0</td><td>0</td></tr>\n",
       "\t<tr><td>chr1:115429-115969</td><td>chr1</td><td>115429</td><td>115969</td><td>1</td><td>0</td><td>0</td><td>0</td><td>0</td><td>0</td><td>0</td><td>0</td><td>0</td><td>0</td></tr>\n",
       "\t<tr><td>chr1:136201-137353</td><td>chr1</td><td>136201</td><td>137353</td><td>0</td><td>0</td><td>0</td><td>0</td><td>1</td><td>0</td><td>0</td><td>0</td><td>0</td><td>0</td></tr>\n",
       "</tbody>\n",
       "</table>\n"
      ],
      "text/latex": [
       "A data.frame: 6 × 14\n",
       "\\begin{tabular}{llllllllllllll}\n",
       " Region & Chrom & ChromStart & ChromEnd & ASTARR\\_A & WSTARR\\_A & LMPRA\\_A & TMPRA\\_A & ASTARR\\_R & WSTARR\\_R & LMPRA\\_R & TMPRA\\_R & CRISPRi-HCRFF:CASA & CRISPRi-Growth:Signif\\\\\n",
       " <chr> & <chr> & <dbl> & <dbl> & <dbl> & <dbl> & <dbl> & <dbl> & <dbl> & <dbl> & <dbl> & <dbl> & <dbl> & <dbl>\\\\\n",
       "\\hline\n",
       "\t chr1:10038-10405   & chr1 &  10038 &  10405 & 0 & 0 & 0 & 0 & 1 & 0 & 0 & 0 & 0 & 0\\\\\n",
       "\t chr1:16025-16338   & chr1 &  16025 &  16338 & 0 & 0 & 0 & 0 & 1 & 0 & 0 & 0 & 0 & 0\\\\\n",
       "\t chr1:17288-17689   & chr1 &  17288 &  17689 & 0 & 0 & 0 & 0 & 1 & 0 & 0 & 0 & 0 & 0\\\\\n",
       "\t chr1:28934-29499   & chr1 &  28934 &  29499 & 0 & 0 & 0 & 0 & 1 & 0 & 0 & 0 & 0 & 0\\\\\n",
       "\t chr1:115429-115969 & chr1 & 115429 & 115969 & 1 & 0 & 0 & 0 & 0 & 0 & 0 & 0 & 0 & 0\\\\\n",
       "\t chr1:136201-137353 & chr1 & 136201 & 137353 & 0 & 0 & 0 & 0 & 1 & 0 & 0 & 0 & 0 & 0\\\\\n",
       "\\end{tabular}\n"
      ],
      "text/markdown": [
       "\n",
       "A data.frame: 6 × 14\n",
       "\n",
       "| Region &lt;chr&gt; | Chrom &lt;chr&gt; | ChromStart &lt;dbl&gt; | ChromEnd &lt;dbl&gt; | ASTARR_A &lt;dbl&gt; | WSTARR_A &lt;dbl&gt; | LMPRA_A &lt;dbl&gt; | TMPRA_A &lt;dbl&gt; | ASTARR_R &lt;dbl&gt; | WSTARR_R &lt;dbl&gt; | LMPRA_R &lt;dbl&gt; | TMPRA_R &lt;dbl&gt; | CRISPRi-HCRFF:CASA &lt;dbl&gt; | CRISPRi-Growth:Signif &lt;dbl&gt; |\n",
       "|---|---|---|---|---|---|---|---|---|---|---|---|---|---|\n",
       "| chr1:10038-10405   | chr1 |  10038 |  10405 | 0 | 0 | 0 | 0 | 1 | 0 | 0 | 0 | 0 | 0 |\n",
       "| chr1:16025-16338   | chr1 |  16025 |  16338 | 0 | 0 | 0 | 0 | 1 | 0 | 0 | 0 | 0 | 0 |\n",
       "| chr1:17288-17689   | chr1 |  17288 |  17689 | 0 | 0 | 0 | 0 | 1 | 0 | 0 | 0 | 0 | 0 |\n",
       "| chr1:28934-29499   | chr1 |  28934 |  29499 | 0 | 0 | 0 | 0 | 1 | 0 | 0 | 0 | 0 | 0 |\n",
       "| chr1:115429-115969 | chr1 | 115429 | 115969 | 1 | 0 | 0 | 0 | 0 | 0 | 0 | 0 | 0 | 0 |\n",
       "| chr1:136201-137353 | chr1 | 136201 | 137353 | 0 | 0 | 0 | 0 | 1 | 0 | 0 | 0 | 0 | 0 |\n",
       "\n"
      ],
      "text/plain": [
       "  Region             Chrom ChromStart ChromEnd ASTARR_A WSTARR_A LMPRA_A\n",
       "1 chr1:10038-10405   chr1   10038      10405   0        0        0      \n",
       "2 chr1:16025-16338   chr1   16025      16338   0        0        0      \n",
       "3 chr1:17288-17689   chr1   17288      17689   0        0        0      \n",
       "4 chr1:28934-29499   chr1   28934      29499   0        0        0      \n",
       "5 chr1:115429-115969 chr1  115429     115969   1        0        0      \n",
       "6 chr1:136201-137353 chr1  136201     137353   0        0        0      \n",
       "  TMPRA_A ASTARR_R WSTARR_R LMPRA_R TMPRA_R CRISPRi-HCRFF:CASA\n",
       "1 0       1        0        0       0       0                 \n",
       "2 0       1        0        0       0       0                 \n",
       "3 0       1        0        0       0       0                 \n",
       "4 0       1        0        0       0       0                 \n",
       "5 0       0        0        0       0       0                 \n",
       "6 0       1        0        0       0       0                 \n",
       "  CRISPRi-Growth:Signif\n",
       "1 0                    \n",
       "2 0                    \n",
       "3 0                    \n",
       "4 0                    \n",
       "5 0                    \n",
       "6 0                    "
      ]
     },
     "metadata": {},
     "output_type": "display_data"
    }
   ],
   "source": [
    "dat %>% tibble::rownames_to_column(var = \"Region\")"
   ]
  },
  {
   "cell_type": "code",
   "execution_count": null,
   "id": "3eec4e80-d936-479b-a11c-f83eceaf4a95",
   "metadata": {},
   "outputs": [],
   "source": []
  }
 ],
 "metadata": {
  "kernelspec": {
   "display_name": "R",
   "language": "R",
   "name": "ir"
  },
  "language_info": {
   "codemirror_mode": "r",
   "file_extension": ".r",
   "mimetype": "text/x-r-source",
   "name": "R",
   "pygments_lexer": "r",
   "version": "4.4.1"
  }
 },
 "nbformat": 4,
 "nbformat_minor": 5
}
