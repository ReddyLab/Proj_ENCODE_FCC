{
 "cells": [
  {
   "cell_type": "raw",
   "id": "a890703e-cdca-4e30-a45e-1a4951bd4d29",
   "metadata": {},
   "source": [
    "---\n",
    "title: ChIP-seq MACS peaks\n",
    "subtitle: export annotation\n",
    "format:\n",
    "    html:\n",
    "        code-fold:  true\n",
    "        code-tools: true\n",
    "---"
   ]
  },
  {
   "cell_type": "markdown",
   "id": "0b3eccf9-277a-4e1d-a1f5-1534183e68b4",
   "metadata": {},
   "source": [
    "**Set environment**"
   ]
  },
  {
   "cell_type": "code",
   "execution_count": 1,
   "id": "52c47d9c-147c-4aeb-ac08-9e88f5baaa1f",
   "metadata": {
    "tags": []
   },
   "outputs": [
    {
     "name": "stdout",
     "output_type": "stream",
     "text": [
      "You are working on        Singularity \n",
      "BASE DIRECTORY (FD_BASE): /mount \n",
      "REPO DIRECTORY (FD_REPO): /mount/repo \n",
      "WORK DIRECTORY (FD_WORK): /mount/work \n",
      "DATA DIRECTORY (FD_DATA): /mount/data \n",
      "\n",
      "You are working with      ENCODE FCC \n",
      "PATH OF PROJECT (FD_PRJ): /mount/repo/Proj_ENCODE_FCC \n",
      "PROJECT RESULTS (FD_RES): /mount/repo/Proj_ENCODE_FCC/results \n",
      "PROJECT SCRIPTS (FD_EXE): /mount/repo/Proj_ENCODE_FCC/scripts \n",
      "PROJECT DATA    (FD_DAT): /mount/repo/Proj_ENCODE_FCC/data \n",
      "PROJECT NOTE    (FD_NBK): /mount/repo/Proj_ENCODE_FCC/notebooks \n",
      "PROJECT DOCS    (FD_DOC): /mount/repo/Proj_ENCODE_FCC/docs \n",
      "PROJECT LOG     (FD_LOG): /mount/repo/Proj_ENCODE_FCC/log \n",
      "PROJECT APP     (FD_APP): /mount/repo/Proj_ENCODE_FCC/app \n",
      "PROJECT REF     (FD_REF): /mount/repo/Proj_ENCODE_FCC/references \n",
      "\n"
     ]
    }
   ],
   "source": [
    "suppressMessages(suppressWarnings(source(\"../run_config_project_sing.R\")))\n",
    "show_env()"
   ]
  },
  {
   "cell_type": "code",
   "execution_count": 2,
   "id": "dd1ccf10-4882-42bc-bcc9-28eef77c6700",
   "metadata": {},
   "outputs": [
    {
     "name": "stdout",
     "output_type": "stream",
     "text": [
      " [1] \"hclust.col.annotation.prepare.chipseq_full.fcc.tss.rds\"           \n",
      " [2] \"hclust.col.annotation.prepare.chipseq_full.only.rds\"              \n",
      " [3] \"hclust.col.annotation.test_chrX.chipseq_full.only.rds\"            \n",
      " [4] \"hclust.row.annotation.prepare.chipseq_full.fcc.tss.rds\"           \n",
      " [5] \"hclust.row.annotation.prepare.chipseq_full.only.rds\"              \n",
      " [6] \"hclust.row.annotation.test_chrX.chipseq_full.only.rds\"            \n",
      " [7] \"matrix.annotation.chipseq_flagship.tsv\"                           \n",
      " [8] \"matrix.annotation.chipseq_full.tsv\"                               \n",
      " [9] \"matrix.annotation.chipseq_histone.tsv\"                            \n",
      "[10] \"matrix.annotation.chipseq_subset.tsv\"                             \n",
      "[11] \"matrix.annotation.fcc_peak_call.tsv\"                              \n",
      "[12] \"matrix.annotation.genome_tss.tsv\"                                 \n",
      "[13] \"matrix.annotation.merge.chipseq_full.fcc.tss.tsv\"                 \n",
      "[14] \"matrix.annotation.prepare.chipseq_full.fcc.tss.tsv\"               \n",
      "[15] \"matrix.annotation.prepare.chipseq_full.only.tsv\"                  \n",
      "[16] \"matrix.annotation.test_chrX.chipseq_full.fcc.tss.tsv\"             \n",
      "[17] \"matrix.annotation.test_chrX.chipseq_full.only.tsv\"                \n",
      "[18] \"matrix.annotation.tss.chipseq_histone.chipseq_encode4.tsv\"        \n",
      "[19] \"region.annotation.encode_chipseq_flagship.tsv\"                    \n",
      "[20] \"region.annotation.encode_chipseq_histone.tsv\"                     \n",
      "[21] \"region.annotation.encode_chipseq_subset.tsv\"                      \n",
      "[22] \"region.annotation.encode_chromatin_states.tsv\"                    \n",
      "[23] \"region.annotation.fcc_astarr_csaw.tsv\"                            \n",
      "[24] \"region.annotation.fcc_crispri_growth.tsv\"                         \n",
      "[25] \"region.annotation.fcc_crispri_hcrff.tsv\"                          \n",
      "[26] \"region.annotation.fcc_mpra_agarwal2023.tsv\"                       \n",
      "[27] \"region.annotation.fcc_starrmpra_junke.tsv\"                        \n",
      "[28] \"region.annotation.genome_tss.tsv\"                                 \n",
      "[29] \"region.annotation.hic_insitu_K562_ENCSR545YBD.tsv\"                \n",
      "[30] \"region.annotation.hic_intact_K562_deep.tsv\"                       \n",
      "[31] \"region.annotation.hic_intact_K562_ENCSR479XDG.tsv\"                \n",
      "[32] \"region.annotation.module_tf_shannon.tsv\"                          \n",
      "[33] \"region.summary.encode_chipseq_encode4.tsv\"                        \n",
      "[34] \"region.summary.encode_chipseq_flagship.tsv\"                       \n",
      "[35] \"region.summary.encode_chipseq_histone.tsv\"                        \n",
      "[36] \"region.summary.encode_chipseq_subset.tsv\"                         \n",
      "[37] \"region.summary.encode_chromatin_states.tsv\"                       \n",
      "[38] \"region.summary.fcc_astarr_csaw.tsv\"                               \n",
      "[39] \"region.summary.fcc_crispri_growth.tsv\"                            \n",
      "[40] \"region.summary.fcc_crispri_hcrff.tsv\"                             \n",
      "[41] \"region.summary.fcc_mpra_agarwal2023.tsv\"                          \n",
      "[42] \"region.summary.fcc_starrmpra_junke.tsv\"                           \n",
      "[43] \"region.summary.genome_tss.tsv\"                                    \n",
      "[44] \"region.summary.hic_insitu_K562_ENCSR545YBD.tsv\"                   \n",
      "[45] \"region.summary.hic_intact_K562_deep.tsv\"                          \n",
      "[46] \"region.summary.hic_intact_K562_ENCSR479XDG.tsv\"                   \n",
      "[47] \"region.summary.module_tf_shannon.tsv\"                             \n",
      "[48] \"result.summary.chipseq_flagship.tsv\"                              \n",
      "[49] \"result.summary.chipseq_full.tsv\"                                  \n",
      "[50] \"result.summary.chipseq_histone.tsv\"                               \n",
      "[51] \"result.summary.chipseq_subset.tsv\"                                \n",
      "[52] \"result.summary.connectivity.loop.tsv\"                             \n",
      "[53] \"result.summary.fcc_peak_call.tsv\"                                 \n",
      "[54] \"result.summary.genome_tss.tsv\"                                    \n",
      "[55] \"umap.annotation.chipseq.tsv\"                                      \n",
      "[56] \"umap.annotation.prepare.chipseq_full.fcc.tss.tsv\"                 \n",
      "[57] \"umap.annotation.prepare.chipseq_full.only.tsv\"                    \n",
      "[58] \"umap.n_neighbors_15.annotation.prepare.chipseq_full.fcc.tss.tsv\"  \n",
      "[59] \"umap.n_neighbors_15.annotation.prepare.chipseq_full.only.tsv\"     \n",
      "[60] \"umap.n_neighbors_15.annotation.test_chrX.chipseq_full.fcc.tss.tsv\"\n",
      "[61] \"umap.n_neighbors_15.annotation.test_chrX.chipseq_full.only.tsv\"   \n",
      "[62] \"umap.n_neighbors_50.annotation.prepare.chipseq_full.fcc.tss.tsv\"  \n",
      "[63] \"umap.n_neighbors_50.annotation.prepare.chipseq_full.only.tsv\"     \n",
      "[64] \"umap.n_neighbors_60.annotation.prepare.chipseq_full.fcc.tss.tsv\"  \n",
      "[65] \"umap.n_neighbors_60.annotation.prepare.chipseq_full.only.tsv\"     \n",
      "[66] \"umap.n_neighbors_70.annotation.prepare.chipseq_full.fcc.tss.tsv\"  \n",
      "[67] \"umap.n_neighbors_70.annotation.prepare.chipseq_full.only.tsv\"     \n",
      "[68] \"umap.n_neighbors_70.annotation.test_chrX.chipseq_full.fcc.tss.tsv\"\n",
      "[69] \"umap.n_neighbors_70.annotation.test_chrX.chipseq_full.only.tsv\"   \n",
      "[70] \"umap.n_neighbors_90.annotation.prepare.chipseq_full.fcc.tss.tsv\"  \n",
      "[71] \"umap.n_neighbors_90.annotation.prepare.chipseq_full.only.tsv\"     \n"
     ]
    }
   ],
   "source": [
    "txt_fdiry = file.path(\n",
    "    FD_RES, \n",
    "    \"region_annotation\", \n",
    "    \"fcc_astarr_macs_input_overlap\",\n",
    "    \"summary\"\n",
    ")\n",
    "vec = dir(txt_fdiry)\n",
    "print(vec)"
   ]
  },
  {
   "cell_type": "markdown",
   "id": "a5ef867b-6217-4193-8813-f1db2c00473e",
   "metadata": {},
   "source": [
    "## Import data"
   ]
  },
  {
   "cell_type": "code",
   "execution_count": 3,
   "id": "a77d814b-77b2-46d6-85de-7a2df397d855",
   "metadata": {},
   "outputs": [
    {
     "name": "stdout",
     "output_type": "stream",
     "text": [
      "[1] 418821     10\n"
     ]
    },
    {
     "data": {
      "text/html": [
       "<table>\n",
       " <thead>\n",
       "  <tr>\n",
       "   <th style=\"text-align:left;\"> Chrom_A </th>\n",
       "   <th style=\"text-align:right;\"> ChromStart_A </th>\n",
       "   <th style=\"text-align:right;\"> ChromEnd_A </th>\n",
       "   <th style=\"text-align:left;\"> Region_A </th>\n",
       "   <th style=\"text-align:left;\"> Annotation_A </th>\n",
       "   <th style=\"text-align:left;\"> Annotation_B </th>\n",
       "   <th style=\"text-align:left;\"> Group_B </th>\n",
       "   <th style=\"text-align:left;\"> Label_B </th>\n",
       "   <th style=\"text-align:left;\"> Region_B </th>\n",
       "   <th style=\"text-align:right;\"> Count_B </th>\n",
       "  </tr>\n",
       " </thead>\n",
       "<tbody>\n",
       "  <tr>\n",
       "   <td style=\"text-align:left;\"> chr1 </td>\n",
       "   <td style=\"text-align:right;\"> 10038 </td>\n",
       "   <td style=\"text-align:right;\"> 10405 </td>\n",
       "   <td style=\"text-align:left;\"> chr1:10038-10405 </td>\n",
       "   <td style=\"text-align:left;\"> fcc_astarr_macs_input_overlap </td>\n",
       "   <td style=\"text-align:left;\"> encode_ccres_ENCFF286VQG </td>\n",
       "   <td style=\"text-align:left;\"> cCREs </td>\n",
       "   <td style=\"text-align:left;\"> Low-DNase </td>\n",
       "   <td style=\"text-align:left;\"> chr1:10033-10250;chr1:10385-10713 </td>\n",
       "   <td style=\"text-align:right;\"> 2 </td>\n",
       "  </tr>\n",
       "  <tr>\n",
       "   <td style=\"text-align:left;\"> chr1 </td>\n",
       "   <td style=\"text-align:right;\"> 10038 </td>\n",
       "   <td style=\"text-align:right;\"> 10405 </td>\n",
       "   <td style=\"text-align:left;\"> chr1:10038-10405 </td>\n",
       "   <td style=\"text-align:left;\"> fcc_astarr_macs_input_overlap </td>\n",
       "   <td style=\"text-align:left;\"> encode_chromhmm_ENCFF106BGJ </td>\n",
       "   <td style=\"text-align:left;\"> ChromHMM </td>\n",
       "   <td style=\"text-align:left;\"> Quies </td>\n",
       "   <td style=\"text-align:left;\"> chr1:0-16000 </td>\n",
       "   <td style=\"text-align:right;\"> 1 </td>\n",
       "  </tr>\n",
       "  <tr>\n",
       "   <td style=\"text-align:left;\"> chr1 </td>\n",
       "   <td style=\"text-align:right;\"> 14282 </td>\n",
       "   <td style=\"text-align:right;\"> 14614 </td>\n",
       "   <td style=\"text-align:left;\"> chr1:14282-14614 </td>\n",
       "   <td style=\"text-align:left;\"> fcc_astarr_macs_input_overlap </td>\n",
       "   <td style=\"text-align:left;\"> encode_chromhmm_ENCFF106BGJ </td>\n",
       "   <td style=\"text-align:left;\"> ChromHMM </td>\n",
       "   <td style=\"text-align:left;\"> Quies </td>\n",
       "   <td style=\"text-align:left;\"> chr1:0-16000 </td>\n",
       "   <td style=\"text-align:right;\"> 1 </td>\n",
       "  </tr>\n",
       "</tbody>\n",
       "</table>"
      ]
     },
     "metadata": {},
     "output_type": "display_data"
    }
   ],
   "source": [
    "txt_fdiry = file.path(\n",
    "    FD_RES, \n",
    "    \"region_annotation\", \n",
    "    \"fcc_astarr_macs_input_overlap\",\n",
    "    \"summary\"\n",
    ")\n",
    "txt_fname = \"region.summary.encode_chromatin_states.tsv\"\n",
    "txt_fpath = file.path(txt_fdiry, txt_fname)\n",
    "\n",
    "dat = read_tsv(txt_fpath, show_col_types = FALSE)\n",
    "\n",
    "dat_region_annot = dat\n",
    "print(dim(dat))\n",
    "fun_display_table(head(dat, 3))"
   ]
  },
  {
   "cell_type": "code",
   "execution_count": 6,
   "id": "0113bb88-b8e7-4057-99f9-4a8997149959",
   "metadata": {},
   "outputs": [
    {
     "data": {
      "text/plain": [
       "\n",
       "               cCREs cCREs:REST+ silencer cCREs:STARR silencer \n",
       "              193629                 3843                  383 \n",
       "            ChromHMM \n",
       "              220966 "
      ]
     },
     "metadata": {},
     "output_type": "display_data"
    }
   ],
   "source": [
    "dat = dat_region_annot\n",
    "table(dat$Group_B)"
   ]
  },
  {
   "cell_type": "code",
   "execution_count": 7,
   "id": "6a3c32c5-a7b3-4aa2-8d10-c959c36b421f",
   "metadata": {},
   "outputs": [
    {
     "data": {
      "text/plain": [
       "\n",
       "       Biv    CA-CTCF CA-H3K4me3    CA-only      CA-TF       dELS       Enh1 \n",
       "     12367      21309       3269       1282      24164      15532      11827 \n",
       "      Enh2      EnhG1      EnhG2        Het  Low-DNase       pELS        PLS \n",
       "     11099       2331       5933       1910     105170      13293      13836 \n",
       "     Quies     ReprPC        Tss    TssFlnk   TssFlnkD   TssFlnkU         Tx \n",
       "     65212      31602      10159       4144       7669      12406      11981 \n",
       "      TxWk   ZNF/Rpts \n",
       "     31154       1172 "
      ]
     },
     "metadata": {},
     "output_type": "display_data"
    }
   ],
   "source": [
    "dat = dat_region_annot\n",
    "table(dat$Label_B)"
   ]
  },
  {
   "cell_type": "code",
   "execution_count": 8,
   "id": "7b312a82-38c5-4e44-8b01-fe34323638b0",
   "metadata": {},
   "outputs": [
    {
     "name": "stdout",
     "output_type": "stream",
     "text": [
      "[1] 418821      6\n"
     ]
    },
    {
     "data": {
      "text/html": [
       "<table>\n",
       " <thead>\n",
       "  <tr>\n",
       "   <th style=\"text-align:left;\"> Chrom </th>\n",
       "   <th style=\"text-align:right;\"> ChromStart </th>\n",
       "   <th style=\"text-align:right;\"> ChromEnd </th>\n",
       "   <th style=\"text-align:left;\"> Region </th>\n",
       "   <th style=\"text-align:left;\"> Group </th>\n",
       "   <th style=\"text-align:left;\"> Label </th>\n",
       "  </tr>\n",
       " </thead>\n",
       "<tbody>\n",
       "  <tr>\n",
       "   <td style=\"text-align:left;\"> chr1 </td>\n",
       "   <td style=\"text-align:right;\"> 10038 </td>\n",
       "   <td style=\"text-align:right;\"> 10405 </td>\n",
       "   <td style=\"text-align:left;\"> chr1:10038-10405 </td>\n",
       "   <td style=\"text-align:left;\"> cCREs </td>\n",
       "   <td style=\"text-align:left;\"> Low-DNase </td>\n",
       "  </tr>\n",
       "  <tr>\n",
       "   <td style=\"text-align:left;\"> chr1 </td>\n",
       "   <td style=\"text-align:right;\"> 10038 </td>\n",
       "   <td style=\"text-align:right;\"> 10405 </td>\n",
       "   <td style=\"text-align:left;\"> chr1:10038-10405 </td>\n",
       "   <td style=\"text-align:left;\"> ChromHMM </td>\n",
       "   <td style=\"text-align:left;\"> Quies </td>\n",
       "  </tr>\n",
       "  <tr>\n",
       "   <td style=\"text-align:left;\"> chr1 </td>\n",
       "   <td style=\"text-align:right;\"> 14282 </td>\n",
       "   <td style=\"text-align:right;\"> 14614 </td>\n",
       "   <td style=\"text-align:left;\"> chr1:14282-14614 </td>\n",
       "   <td style=\"text-align:left;\"> ChromHMM </td>\n",
       "   <td style=\"text-align:left;\"> Quies </td>\n",
       "  </tr>\n",
       "</tbody>\n",
       "</table>"
      ]
     },
     "metadata": {},
     "output_type": "display_data"
    }
   ],
   "source": [
    "dat = dat_region_annot\n",
    "dat = dat %>%\n",
    "    dplyr::mutate(\n",
    "        Chrom      = Chrom_A,\n",
    "        ChromStart = ChromStart_A,\n",
    "        ChromEnd   = ChromEnd_A,\n",
    "        Region     = Region_A,\n",
    "        Group      = Group_B,\n",
    "        Label      = Label_B\n",
    "    ) %>%\n",
    "    dplyr::select(Chrom, ChromStart, ChromEnd, Region, Group, Label) %>%\n",
    "    dplyr::distinct()\n",
    "\n",
    "### assign and show\n",
    "dat_region_annot_result = dat\n",
    "print(dim(dat))\n",
    "fun_display_table(head(dat, 3))"
   ]
  },
  {
   "cell_type": "markdown",
   "id": "91de0ed0-9b57-43c9-9e82-8001173c58fe",
   "metadata": {},
   "source": [
    "## Save results"
   ]
  },
  {
   "cell_type": "code",
   "execution_count": 9,
   "id": "e246b7ab-e43f-41e6-8225-3ddd55f6ae2e",
   "metadata": {},
   "outputs": [],
   "source": [
    "txt_fdiry = file.path(\n",
    "    FD_RES, \n",
    "    \"region_annotation\", \n",
    "    \"fcc_astarr_macs_input_overlap\",\n",
    "    \"summary\"\n",
    ")\n",
    "txt_fname = paste(\"result\", \"summary\", \"encode_chromatin_states\", \"tsv\", sep = \".\")\n",
    "txt_fpath = file.path(txt_fdiry, txt_fname)\n",
    "\n",
    "dat = dat_region_annot_result\n",
    "write_tsv(dat, txt_fpath)"
   ]
  },
  {
   "cell_type": "code",
   "execution_count": null,
   "id": "f5e1aea7-9060-4a00-a50e-0d84670f3d42",
   "metadata": {},
   "outputs": [],
   "source": []
  }
 ],
 "metadata": {
  "kernelspec": {
   "display_name": "R (alex_py3)",
   "language": "R",
   "name": "ir_alex_py3"
  },
  "language_info": {
   "codemirror_mode": "r",
   "file_extension": ".r",
   "mimetype": "text/x-r-source",
   "name": "R",
   "pygments_lexer": "r",
   "version": "4.4.1"
  }
 },
 "nbformat": 4,
 "nbformat_minor": 5
}
