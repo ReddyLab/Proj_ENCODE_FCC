{
 "cells": [
  {
   "cell_type": "raw",
   "id": "b8108853-7ff5-4b0b-a6cc-4d659cc940e6",
   "metadata": {},
   "source": [
    "---\n",
    "title: FCC Peak calls\n",
    "subtitle: export annotation\n",
    "format:\n",
    "    html:\n",
    "        code-fold:  true\n",
    "        code-tools: true\n",
    "---"
   ]
  },
  {
   "cell_type": "markdown",
   "id": "fa4869b8-b847-439f-b31d-0a0f911c4ae5",
   "metadata": {},
   "source": [
    "**Set environment**"
   ]
  },
  {
   "cell_type": "code",
   "execution_count": 1,
   "id": "b8615be1-bfa8-4067-bb78-b75f6d7b0d52",
   "metadata": {},
   "outputs": [
    {
     "name": "stdout",
     "output_type": "stream",
     "text": [
      "You are working on             Duke Server: HARDAC\n",
      "BASE DIRECTORY (FD_BASE):      /data/reddylab/Kuei\n",
      "REPO DIRECTORY (FD_REPO):      /data/reddylab/Kuei/repo\n",
      "WORK DIRECTORY (FD_WORK):      /data/reddylab/Kuei/work\n",
      "DATA DIRECTORY (FD_DATA):      /data/reddylab/Kuei/data\n",
      "CONTAINER DIR. (FD_SING):      /data/reddylab/Kuei/container\n",
      "\n",
      "You are working with           ENCODE FCC\n",
      "PATH OF PROJECT (FD_PRJ):      /data/reddylab/Kuei/repo/Proj_ENCODE_FCC\n",
      "PROJECT RESULTS (FD_RES):      /data/reddylab/Kuei/repo/Proj_ENCODE_FCC/results\n",
      "PROJECT SCRIPTS (FD_EXE):      /data/reddylab/Kuei/repo/Proj_ENCODE_FCC/scripts\n",
      "PROJECT DATA    (FD_DAT):      /data/reddylab/Kuei/repo/Proj_ENCODE_FCC/data\n",
      "PROJECT NOTE    (FD_NBK):      /data/reddylab/Kuei/repo/Proj_ENCODE_FCC/notebooks\n",
      "PROJECT DOCS    (FD_DOC):      /data/reddylab/Kuei/repo/Proj_ENCODE_FCC/docs\n",
      "PROJECT LOG     (FD_LOG):      /data/reddylab/Kuei/repo/Proj_ENCODE_FCC/log\n",
      "PROJECT REF     (FD_REF):      /data/reddylab/Kuei/repo/Proj_ENCODE_FCC/references\n",
      "PROJECT IMAGE   (FP_PRJ_SIF):  /data/reddylab/Kuei/container/project/singularity_proj_encode_fcc.sif\n",
      "\n"
     ]
    }
   ],
   "source": [
    "source ../run_config_project.sh\n",
    "show_env"
   ]
  },
  {
   "cell_type": "markdown",
   "id": "50f97d21-0824-4c1a-a62a-3c2de09518ab",
   "metadata": {},
   "source": [
    "## Preview"
   ]
  },
  {
   "cell_type": "code",
   "execution_count": 2,
   "id": "1e7b6ac5-6b7d-400e-b661-28f1673cb921",
   "metadata": {},
   "outputs": [
    {
     "name": "stdout",
     "output_type": "stream",
     "text": [
      "/data/reddylab/Kuei/repo/Proj_ENCODE_FCC/results\n",
      "\n",
      "\u001b[0m\u001b[38;5;27massay_fcc\u001b[0m\n",
      "\u001b[38;5;27massay_hic\u001b[0m\n",
      "\u001b[38;5;27mregion\u001b[0m\n",
      "\u001b[38;5;27mregion_annotation\u001b[0m\n",
      "\u001b[38;5;27mregion_converage_hic\u001b[0m\n",
      "\u001b[38;5;27mregion_coverage_fcc\u001b[0m\n",
      "\u001b[38;5;27msummary\u001b[0m\n"
     ]
    }
   ],
   "source": [
    "FD_INP=${FD_RES}\n",
    "echo  ${FD_INP}\n",
    "echo \n",
    "ls -1 ${FD_INP}"
   ]
  },
  {
   "cell_type": "code",
   "execution_count": 3,
   "id": "3505c169-8bf8-47fd-aa90-b883b8f4e72d",
   "metadata": {},
   "outputs": [
    {
     "name": "stdout",
     "output_type": "stream",
     "text": [
      "/data/reddylab/Kuei/repo/Proj_ENCODE_FCC/results/region_annotation/fcc_astarr_macs_input_overlap/summary\n",
      "\n",
      "hclust.col.annotation.test_chrX.chipseq_full.only.rds\n",
      "hclust.row.annotation.test_chrX.chipseq_full.only.rds\n",
      "matrix.annotation.chipseq_flagship.tsv\n",
      "matrix.annotation.chipseq_full.tsv\n",
      "matrix.annotation.chipseq_histone.tsv\n",
      "matrix.annotation.chipseq_subset.tsv\n",
      "matrix.annotation.fcc_peak_call.tsv\n",
      "matrix.annotation.genome_tss.tsv\n",
      "matrix.annotation.merge.chipseq_full.fcc.tss.tsv\n",
      "matrix.annotation.prepare.chipseq_full.fcc.tss.tsv\n",
      "matrix.annotation.prepare.chipseq_full.only.tsv\n",
      "matrix.annotation.test_chrX.chipseq_full.fcc.tss.tsv\n",
      "matrix.annotation.test_chrX.chipseq_full.only.tsv\n",
      "matrix.annotation.tss.chipseq_histone.chipseq_encode4.tsv\n",
      "region.annotation.encode_chipseq_flagship.tsv\n",
      "region.annotation.encode_chipseq_histone.tsv\n",
      "region.annotation.encode_chipseq_subset.tsv\n",
      "region.annotation.encode_chromatin_states.tsv\n",
      "region.annotation.fcc_astarr_csaw.tsv\n",
      "region.annotation.fcc_crispri_growth.tsv\n",
      "region.annotation.fcc_crispri_hcrff.tsv\n",
      "region.annotation.fcc_mpra_agarwal2023.tsv\n",
      "region.annotation.fcc_starrmpra_junke.tsv\n",
      "region.annotation.genome_tss.tsv\n",
      "region.annotation.hic_insitu_K562_ENCSR545YBD.tsv\n",
      "region.annotation.hic_intact_K562_deep.tsv\n",
      "region.annotation.hic_intact_K562_ENCSR479XDG.tsv\n",
      "region.annotation.module_tf_shannon.tsv\n",
      "region.summary.encode_chipseq_encode4.tsv\n",
      "region.summary.encode_chipseq_flagship.tsv\n",
      "region.summary.encode_chipseq_histone.tsv\n",
      "region.summary.encode_chipseq_subset.tsv\n",
      "region.summary.encode_chromatin_states.tsv\n",
      "region.summary.fcc_astarr_csaw.tsv\n",
      "region.summary.fcc_crispri_growth.tsv\n",
      "region.summary.fcc_crispri_hcrff.tsv\n",
      "region.summary.fcc_mpra_agarwal2023.tsv\n",
      "region.summary.fcc_starrmpra_junke.tsv\n",
      "region.summary.genome_tss.tsv\n",
      "region.summary.hic_insitu_K562_ENCSR545YBD.tsv\n",
      "region.summary.hic_intact_K562_deep.tsv\n",
      "region.summary.hic_intact_K562_ENCSR479XDG.tsv\n",
      "region.summary.module_tf_shannon.tsv\n",
      "result.summary.chipseq_flagship.tsv\n",
      "result.summary.chipseq_full.tsv\n",
      "result.summary.chipseq_histone.tsv\n",
      "result.summary.chipseq_subset.tsv\n",
      "result.summary.connectivity.loop.tsv\n",
      "result.summary.fcc_peak_call.tsv\n",
      "result.summary.genome_tss.tsv\n",
      "umap.annotation.chipseq.tsv\n"
     ]
    }
   ],
   "source": [
    "FD_INP=${FD_RES}/region_annotation\n",
    "FD_INP=${FD_INP}/fcc_astarr_macs_input_overlap\n",
    "FD_INP=${FD_INP}/summary\n",
    "echo  ${FD_INP}\n",
    "echo \n",
    "ls -1 ${FD_INP}"
   ]
  },
  {
   "cell_type": "markdown",
   "id": "a57d7dca-8772-4b37-8674-f81b51cebcc2",
   "metadata": {},
   "source": [
    "## Execute"
   ]
  },
  {
   "cell_type": "code",
   "execution_count": 4,
   "id": "9966c094-d60d-497f-953c-cdde41b73eec",
   "metadata": {},
   "outputs": [
    {
     "name": "stdout",
     "output_type": "stream",
     "text": [
      "Submitted batch job 35130030\n"
     ]
    }
   ],
   "source": [
    "FD_INP=${FD_RES}/region_annotation\n",
    "FD_INP=${FD_INP}/fcc_astarr_macs_input_overlap\n",
    "FD_INP=${FD_INP}/summary\n",
    "FN_INP=matrix.annotation.test_chrX.chipseq_full.only.tsv\n",
    "FP_INP=${FD_INP}/${FN_INP}\n",
    "\n",
    "FN_LOG=\"hclust.matrix.annotation.test_chrX.chipseq_full.only.tsv\"\n",
    "FP_LOG=${FD_LOG}/${FN_LOG}\n",
    "\n",
    "sbatch -p ${NODE} \\\n",
    "    --exclude=dl-01 \\\n",
    "    --cpus-per-task 4 \\\n",
    "    --mem 10G \\\n",
    "    --output ${FP_LOG} \\\n",
    "    sing_script.sh Rscript ${FD_EXE}/run_region_annot_hclust.R ${FP_INP}"
   ]
  },
  {
   "cell_type": "markdown",
   "id": "a636ec95-80fe-475f-a8b5-04b0f48177c0",
   "metadata": {},
   "source": [
    "## Review"
   ]
  },
  {
   "cell_type": "code",
   "execution_count": 5,
   "id": "f60c1cfb-13b0-4627-821b-6efd5207c16d",
   "metadata": {},
   "outputs": [
    {
     "name": "stdout",
     "output_type": "stream",
     "text": [
      "Directory:   /data/reddylab/Kuei/repo/Proj_ENCODE_FCC/results/region_annotation/fcc_astarr_macs_input_overlap/summary \n",
      "Input  File: matrix.annotation.test_chrX.chipseq_full.only.tsv \n",
      "Output File: hclust.row.annotation.test_chrX.chipseq_full.only.rds \n",
      "Output File: hclust.col.annotation.test_chrX.chipseq_full.only.rds \n"
     ]
    }
   ],
   "source": [
    "cat ${FP_LOG}"
   ]
  },
  {
   "cell_type": "code",
   "execution_count": null,
   "id": "571ee68c-5563-45e3-9b5c-ba81f343b9c5",
   "metadata": {},
   "outputs": [],
   "source": []
  },
  {
   "cell_type": "code",
   "execution_count": null,
   "id": "cbc1ffa6-ac80-4359-b5fe-75f92a940ad2",
   "metadata": {},
   "outputs": [],
   "source": []
  },
  {
   "cell_type": "code",
   "execution_count": null,
   "id": "e940c06d-f074-4286-835a-3ed0855b32ee",
   "metadata": {},
   "outputs": [],
   "source": []
  },
  {
   "cell_type": "code",
   "execution_count": 43,
   "id": "848afd22-0060-4c17-93e6-ad391af80968",
   "metadata": {},
   "outputs": [
    {
     "name": "stdout",
     "output_type": "stream",
     "text": [
      "Submitted batch job 35129934\n"
     ]
    }
   ],
   "source": [
    "FD_INP=${FD_RES}/region_annotation\n",
    "FD_INP=${FD_INP}/fcc_astarr_macs_input_overlap\n",
    "FD_INP=${FD_INP}/summary\n",
    "FN_INP=matrix.annotation.prepare.chipseq_full.fcc.tss.tsv\n",
    "FP_INP=${FD_INP}/${FN_INP}\n",
    "\n",
    "FN_LOG=\"hclust.matrix.annotation.prepare.chipseq_full.fcc.tss.tsv.txt\"\n",
    "FP_LOG=${FD_LOG}/${FN_LOG}\n",
    "\n",
    "sbatch -p ${NODE} \\\n",
    "    --exclude=dl-01 \\\n",
    "    --cpus-per-task 4 \\\n",
    "    --mem 100G \\\n",
    "    --output ${FP_LOG} \\\n",
    "    sing_script.sh Rscript ${FD_EXE}/run_region_annot_hclust.R ${FP_INP}"
   ]
  },
  {
   "cell_type": "code",
   "execution_count": 28,
   "id": "958da6e9-5f0a-4014-b24e-944e6c067dc8",
   "metadata": {},
   "outputs": [
    {
     "name": "stdout",
     "output_type": "stream",
     "text": [
      "/data/reddylab/Kuei/repo/Proj_ENCODE_FCC/log/hclust.matrix.annotation.prepare.chipseq_full.fcc.tss.tsv.txt\n",
      "Directory:   /data/reddylab/Kuei/repo/Proj_ENCODE_FCC/results/region_annotation/fcc_astarr_macs_input_overlap/summary \n",
      "Input  File: matrix.annotation.prepare.chipseq_full.fcc.tss.tsv \n",
      "Output File: hclust.row.annotation.prepare.chipseq_full.fcc.tss.tsv \n",
      "Output File: hclust.col.annotation.prepare.chipseq_full.fcc.tss.tsv \n"
     ]
    }
   ],
   "source": [
    "echo ${FP_LOG}\n",
    "cat  ${FP_LOG}"
   ]
  },
  {
   "cell_type": "code",
   "execution_count": 37,
   "id": "907f43eb-c60c-4dc8-81c8-c4d9cb0f9012",
   "metadata": {},
   "outputs": [
    {
     "name": "stdout",
     "output_type": "stream",
     "text": [
      "Submitted batch job 35129933\n"
     ]
    }
   ],
   "source": [
    "FD_INP=${FD_RES}/region_annotation\n",
    "FD_INP=${FD_INP}/fcc_astarr_macs_input_overlap\n",
    "FD_INP=${FD_INP}/summary\n",
    "FN_INP=matrix.annotation.prepare.chipseq_full.only.tsv\n",
    "FP_INP=${FD_INP}/${FN_INP}\n",
    "\n",
    "FN_LOG=\"hclust.matrix.annotation.prepare.chipseq_full.only.tsv.txt\"\n",
    "FP_LOG=${FD_LOG}/${FN_LOG}\n",
    "\n",
    "sbatch -p ${NODE} \\\n",
    "    --exclude=dl-01 \\\n",
    "    --cpus-per-task 4 \\\n",
    "    --mem 100G \\\n",
    "    --output ${FP_LOG} \\\n",
    "    sing_script.sh Rscript ${FD_EXE}/run_region_annot_hclust.R ${FP_INP}"
   ]
  },
  {
   "cell_type": "code",
   "execution_count": 31,
   "id": "0b331ecd-e021-42b5-9e39-707a375bcf67",
   "metadata": {},
   "outputs": [
    {
     "name": "stdout",
     "output_type": "stream",
     "text": [
      "/data/reddylab/Kuei/repo/Proj_ENCODE_FCC/log/hclust.matrix.annotation.prepare.chipseq_full.only.tsv.txt\n",
      "Directory:   /data/reddylab/Kuei/repo/Proj_ENCODE_FCC/results/region_annotation/fcc_astarr_macs_input_overlap/summary \n",
      "Input  File: matrix.annotation.prepare.chipseq_full.only.tsv \n",
      "Output File: hclust.row.annotation.prepare.chipseq_full.only.tsv \n",
      "Output File: hclust.col.annotation.prepare.chipseq_full.only.tsv \n"
     ]
    }
   ],
   "source": [
    "echo ${FP_LOG}\n",
    "cat  ${FP_LOG}"
   ]
  },
  {
   "cell_type": "code",
   "execution_count": 44,
   "id": "13fd8c63-5434-416d-94fc-4b2be7b5e8ef",
   "metadata": {},
   "outputs": [
    {
     "name": "stdout",
     "output_type": "stream",
     "text": [
      "Directory:   /data/reddylab/Kuei/repo/Proj_ENCODE_FCC/results/region_annotation/fcc_astarr_macs_input_overlap/summary \n",
      "Input  File: matrix.annotation.prepare.chipseq_full.fcc.tss.tsv \n",
      "Output File: hclust.row.annotation.prepare.chipseq_full.fcc.tss.tsv \n",
      "Output File: hclust.col.annotation.prepare.chipseq_full.fcc.tss.tsv \n",
      "Error in hclust(mat, method = \"ward.D2\") : \n",
      "  size cannot be NA nor exceed 65536\n",
      "Execution halted\n"
     ]
    }
   ],
   "source": [
    "cat /data/reddylab/Kuei/repo/Proj_ENCODE_FCC/log/hclust.matrix.annotation.prepare.chipseq_full.fcc.tss.tsv.txt"
   ]
  },
  {
   "cell_type": "code",
   "execution_count": 45,
   "id": "56bfd65b-17c9-4e2b-b948-96e02b740dbe",
   "metadata": {},
   "outputs": [
    {
     "name": "stdout",
     "output_type": "stream",
     "text": [
      "Directory:   /data/reddylab/Kuei/repo/Proj_ENCODE_FCC/results/region_annotation/fcc_astarr_macs_input_overlap/summary \n",
      "Input  File: matrix.annotation.prepare.chipseq_full.only.tsv \n",
      "Output File: hclust.row.annotation.prepare.chipseq_full.only.tsv \n",
      "Output File: hclust.col.annotation.prepare.chipseq_full.only.tsv \n",
      "Error in hclust(mat, method = \"ward.D2\") : \n",
      "  size cannot be NA nor exceed 65536\n",
      "Execution halted\n"
     ]
    }
   ],
   "source": [
    "cat /data/reddylab/Kuei/repo/Proj_ENCODE_FCC/log/hclust.matrix.annotation.prepare.chipseq_full.only.tsv.txt"
   ]
  },
  {
   "cell_type": "code",
   "execution_count": null,
   "id": "5e8c14ff-18ab-4723-91f3-0b01bdbe6838",
   "metadata": {},
   "outputs": [],
   "source": []
  }
 ],
 "metadata": {
  "kernelspec": {
   "display_name": "Bash",
   "language": "bash",
   "name": "bash"
  },
  "language_info": {
   "codemirror_mode": "shell",
   "file_extension": ".sh",
   "mimetype": "text/x-sh",
   "name": "bash"
  }
 },
 "nbformat": 4,
 "nbformat_minor": 5
}
