{
 "cells": [
  {
   "cell_type": "raw",
   "id": "d37b5906-dcaa-4d32-af8e-cee199ce2db2",
   "metadata": {},
   "source": [
    "---\n",
    "title: FCC Peak calls\n",
    "subtitle: export annotation\n",
    "format:\n",
    "    html:\n",
    "        code-fold:  true\n",
    "        code-tools: true\n",
    "---"
   ]
  },
  {
   "cell_type": "markdown",
   "id": "2b617c25-1896-4281-b48f-f8babbeeba87",
   "metadata": {},
   "source": [
    "**Set environment**"
   ]
  },
  {
   "cell_type": "code",
   "execution_count": 1,
   "id": "bf6603c6-f711-4fbc-bfcd-457c476ae9c7",
   "metadata": {
    "tags": []
   },
   "outputs": [
    {
     "name": "stdout",
     "output_type": "stream",
     "text": [
      "You are working on        Singularity \n",
      "BASE DIRECTORY (FD_BASE): /mount \n",
      "REPO DIRECTORY (FD_REPO): /mount/repo \n",
      "WORK DIRECTORY (FD_WORK): /mount/work \n",
      "DATA DIRECTORY (FD_DATA): /mount/data \n",
      "\n",
      "You are working with      ENCODE FCC \n",
      "PATH OF PROJECT (FD_PRJ): /mount/repo/Proj_ENCODE_FCC \n",
      "PROJECT RESULTS (FD_RES): /mount/repo/Proj_ENCODE_FCC/results \n",
      "PROJECT SCRIPTS (FD_EXE): /mount/repo/Proj_ENCODE_FCC/scripts \n",
      "PROJECT DATA    (FD_DAT): /mount/repo/Proj_ENCODE_FCC/data \n",
      "PROJECT NOTE    (FD_NBK): /mount/repo/Proj_ENCODE_FCC/notebooks \n",
      "PROJECT DOCS    (FD_DOC): /mount/repo/Proj_ENCODE_FCC/docs \n",
      "PROJECT LOG     (FD_LOG): /mount/repo/Proj_ENCODE_FCC/log \n",
      "PROJECT APP     (FD_APP): /mount/repo/Proj_ENCODE_FCC/app \n",
      "PROJECT REF     (FD_REF): /mount/repo/Proj_ENCODE_FCC/references \n",
      "\n"
     ]
    }
   ],
   "source": [
    "suppressMessages(suppressWarnings(source(\"../run_config_project_sing.R\")))\n",
    "show_env()"
   ]
  },
  {
   "cell_type": "code",
   "execution_count": 2,
   "id": "cf38a79e-6a13-4c68-93dc-70bfab9c2697",
   "metadata": {},
   "outputs": [
    {
     "name": "stdout",
     "output_type": "stream",
     "text": [
      " [1] \"hclust.col.annotation.prepare.chipseq_full.fcc.tss.rds\"           \n",
      " [2] \"hclust.col.annotation.prepare.chipseq_full.only.rds\"              \n",
      " [3] \"hclust.col.annotation.test_chrX.chipseq_full.only.rds\"            \n",
      " [4] \"hclust.row.annotation.prepare.chipseq_full.fcc.tss.rds\"           \n",
      " [5] \"hclust.row.annotation.prepare.chipseq_full.only.rds\"              \n",
      " [6] \"hclust.row.annotation.test_chrX.chipseq_full.only.rds\"            \n",
      " [7] \"matrix.annotation.chipseq_flagship.tsv\"                           \n",
      " [8] \"matrix.annotation.chipseq_full.tsv\"                               \n",
      " [9] \"matrix.annotation.chipseq_histone.tsv\"                            \n",
      "[10] \"matrix.annotation.chipseq_subset.tsv\"                             \n",
      "[11] \"matrix.annotation.fcc_peak_call.tsv\"                              \n",
      "[12] \"matrix.annotation.genome_tss.tsv\"                                 \n",
      "[13] \"matrix.annotation.merge.chipseq_full.fcc.tss.tsv\"                 \n",
      "[14] \"matrix.annotation.prepare.chipseq_full.fcc.tss.tsv\"               \n",
      "[15] \"matrix.annotation.prepare.chipseq_full.only.tsv\"                  \n",
      "[16] \"matrix.annotation.test_chrX.chipseq_full.fcc.tss.tsv\"             \n",
      "[17] \"matrix.annotation.test_chrX.chipseq_full.only.tsv\"                \n",
      "[18] \"matrix.annotation.tss.chipseq_histone.chipseq_encode4.tsv\"        \n",
      "[19] \"region.annotation.encode_chipseq_flagship.tsv\"                    \n",
      "[20] \"region.annotation.encode_chipseq_histone.tsv\"                     \n",
      "[21] \"region.annotation.encode_chipseq_subset.tsv\"                      \n",
      "[22] \"region.annotation.encode_chromatin_states.tsv\"                    \n",
      "[23] \"region.annotation.fcc_astarr_csaw.tsv\"                            \n",
      "[24] \"region.annotation.fcc_crispri_growth.tsv\"                         \n",
      "[25] \"region.annotation.fcc_crispri_hcrff.tsv\"                          \n",
      "[26] \"region.annotation.fcc_mpra_agarwal2023.tsv\"                       \n",
      "[27] \"region.annotation.fcc_starrmpra_junke.tsv\"                        \n",
      "[28] \"region.annotation.genome_tss.tsv\"                                 \n",
      "[29] \"region.annotation.hic_insitu_K562_ENCSR545YBD.tsv\"                \n",
      "[30] \"region.annotation.hic_intact_K562_deep.tsv\"                       \n",
      "[31] \"region.annotation.hic_intact_K562_ENCSR479XDG.tsv\"                \n",
      "[32] \"region.annotation.module_tf_shannon.tsv\"                          \n",
      "[33] \"region.summary.encode_chipseq_encode4.tsv\"                        \n",
      "[34] \"region.summary.encode_chipseq_flagship.tsv\"                       \n",
      "[35] \"region.summary.encode_chipseq_histone.tsv\"                        \n",
      "[36] \"region.summary.encode_chipseq_subset.tsv\"                         \n",
      "[37] \"region.summary.encode_chromatin_states.tsv\"                       \n",
      "[38] \"region.summary.fcc_astarr_csaw.tsv\"                               \n",
      "[39] \"region.summary.fcc_crispri_growth.tsv\"                            \n",
      "[40] \"region.summary.fcc_crispri_hcrff.tsv\"                             \n",
      "[41] \"region.summary.fcc_mpra_agarwal2023.tsv\"                          \n",
      "[42] \"region.summary.fcc_starrmpra_junke.tsv\"                           \n",
      "[43] \"region.summary.genome_tss.tsv\"                                    \n",
      "[44] \"region.summary.hic_insitu_K562_ENCSR545YBD.tsv\"                   \n",
      "[45] \"region.summary.hic_intact_K562_deep.tsv\"                          \n",
      "[46] \"region.summary.hic_intact_K562_ENCSR479XDG.tsv\"                   \n",
      "[47] \"region.summary.module_tf_shannon.tsv\"                             \n",
      "[48] \"result.summary.chipseq_flagship.tsv\"                              \n",
      "[49] \"result.summary.chipseq_full.tsv\"                                  \n",
      "[50] \"result.summary.chipseq_histone.tsv\"                               \n",
      "[51] \"result.summary.chipseq_subset.tsv\"                                \n",
      "[52] \"result.summary.connectivity.loop.tsv\"                             \n",
      "[53] \"result.summary.encode_chromatin_states.tsv\"                       \n",
      "[54] \"result.summary.fcc_peak_call.tsv\"                                 \n",
      "[55] \"result.summary.genome_tss.tsv\"                                    \n",
      "[56] \"umap.annotation.chipseq.tsv\"                                      \n",
      "[57] \"umap.annotation.prepare.chipseq_full.fcc.tss.tsv\"                 \n",
      "[58] \"umap.annotation.prepare.chipseq_full.only.tsv\"                    \n",
      "[59] \"umap.n_neighbors_15.annotation.prepare.chipseq_full.fcc.tss.tsv\"  \n",
      "[60] \"umap.n_neighbors_15.annotation.prepare.chipseq_full.only.tsv\"     \n",
      "[61] \"umap.n_neighbors_15.annotation.test_chrX.chipseq_full.fcc.tss.tsv\"\n",
      "[62] \"umap.n_neighbors_15.annotation.test_chrX.chipseq_full.only.tsv\"   \n",
      "[63] \"umap.n_neighbors_50.annotation.prepare.chipseq_full.fcc.tss.tsv\"  \n",
      "[64] \"umap.n_neighbors_50.annotation.prepare.chipseq_full.only.tsv\"     \n",
      "[65] \"umap.n_neighbors_60.annotation.prepare.chipseq_full.fcc.tss.tsv\"  \n",
      "[66] \"umap.n_neighbors_60.annotation.prepare.chipseq_full.only.tsv\"     \n",
      "[67] \"umap.n_neighbors_70.annotation.prepare.chipseq_full.fcc.tss.tsv\"  \n",
      "[68] \"umap.n_neighbors_70.annotation.prepare.chipseq_full.only.tsv\"     \n",
      "[69] \"umap.n_neighbors_70.annotation.test_chrX.chipseq_full.fcc.tss.tsv\"\n",
      "[70] \"umap.n_neighbors_70.annotation.test_chrX.chipseq_full.only.tsv\"   \n",
      "[71] \"umap.n_neighbors_90.annotation.prepare.chipseq_full.fcc.tss.tsv\"  \n",
      "[72] \"umap.n_neighbors_90.annotation.prepare.chipseq_full.only.tsv\"     \n"
     ]
    }
   ],
   "source": [
    "txt_fdiry = file.path(\n",
    "    FD_RES, \n",
    "    \"region_annotation\", \n",
    "    \"fcc_astarr_macs_input_overlap\",\n",
    "    \"summary\"\n",
    ")\n",
    "vec = dir(txt_fdiry)\n",
    "print(vec)"
   ]
  },
  {
   "cell_type": "markdown",
   "id": "4fc4394d-2ba5-42b6-931f-2d394c65e19d",
   "metadata": {},
   "source": [
    "## Import data"
   ]
  },
  {
   "cell_type": "code",
   "execution_count": 3,
   "id": "06589449-0a7b-4e42-936c-2806b2551cfd",
   "metadata": {},
   "outputs": [],
   "source": [
    "txt_fdiry = file.path(\n",
    "    FD_RES, \n",
    "    \"region_annotation\", \n",
    "    \"fcc_astarr_macs_input_overlap\",\n",
    "    \"summary\"\n",
    ")\n",
    "txt_fname = \"hclust.row.annotation.prepare.chipseq_full.fcc.tss.rds\"\n",
    "txt_fpath = file.path(txt_fdiry, txt_fname)\n",
    "\n",
    "res = readRDS(txt_fpath)\n",
    "\n",
    "res_hcl_row = res"
   ]
  },
  {
   "cell_type": "code",
   "execution_count": 4,
   "id": "5dad5109-c68a-446f-a22b-a7a97679a2ab",
   "metadata": {},
   "outputs": [],
   "source": [
    "txt_fdiry = file.path(\n",
    "    FD_RES, \n",
    "    \"region_annotation\", \n",
    "    \"fcc_astarr_macs_input_overlap\",\n",
    "    \"summary\"\n",
    ")\n",
    "txt_fname = \"hclust.col.annotation.prepare.chipseq_full.fcc.tss.rds\"\n",
    "txt_fpath = file.path(txt_fdiry, txt_fname)\n",
    "\n",
    "res = readRDS(txt_fpath)\n",
    "\n",
    "res_hcl_col = res"
   ]
  },
  {
   "cell_type": "code",
   "execution_count": 5,
   "id": "c3435cf8-b54b-4cf1-8720-6aaed4b6d8c6",
   "metadata": {},
   "outputs": [],
   "source": [
    "txt_fdiry = file.path(\n",
    "    FD_RES, \n",
    "    \"region_annotation\", \n",
    "    \"fcc_astarr_macs_input_overlap\",\n",
    "    \"summary\"\n",
    ")\n",
    "txt_fname = \"matrix.annotation.prepare.chipseq_full.fcc.tss.tsv\"\n",
    "txt_fpath = file.path(txt_fdiry, txt_fname)\n",
    "\n",
    "dat = read_tsv(txt_fpath, show_col_types = FALSE)\n",
    "\n",
    "dat_region_annot = dat"
   ]
  },
  {
   "cell_type": "code",
   "execution_count": null,
   "id": "b7c33cef-ae1b-4f00-9db4-129dfe8f30ec",
   "metadata": {},
   "outputs": [],
   "source": []
  },
  {
   "cell_type": "code",
   "execution_count": 6,
   "id": "8b44aaac-7778-4499-bd44-866538b8dd9c",
   "metadata": {},
   "outputs": [
    {
     "data": {
      "text/html": [
       "<table class=\"dataframe\">\n",
       "<caption>A data.frame: 6 × 536</caption>\n",
       "<thead>\n",
       "\t<tr><th></th><th scope=col>ASTARR_A</th><th scope=col>WSTARR_A</th><th scope=col>LMPRA_A</th><th scope=col>TMPRA_A</th><th scope=col>ASTARR_R</th><th scope=col>WSTARR_R</th><th scope=col>LMPRA_R</th><th scope=col>TMPRA_R</th><th scope=col>CRISPRi-HCRFF:CASA</th><th scope=col>CRISPRi-Growth:Signif</th><th scope=col>⋯</th><th scope=col>ZNF778</th><th scope=col>ZNF780A</th><th scope=col>ZNF785</th><th scope=col>ZNF79</th><th scope=col>ZNF83</th><th scope=col>ZNF830</th><th scope=col>ZNF84</th><th scope=col>ZSCAN29</th><th scope=col>ZSCAN32</th><th scope=col>ZZZ3</th></tr>\n",
       "\t<tr><th></th><th scope=col>&lt;dbl&gt;</th><th scope=col>&lt;dbl&gt;</th><th scope=col>&lt;dbl&gt;</th><th scope=col>&lt;dbl&gt;</th><th scope=col>&lt;dbl&gt;</th><th scope=col>&lt;dbl&gt;</th><th scope=col>&lt;dbl&gt;</th><th scope=col>&lt;dbl&gt;</th><th scope=col>&lt;dbl&gt;</th><th scope=col>&lt;dbl&gt;</th><th scope=col>⋯</th><th scope=col>&lt;dbl&gt;</th><th scope=col>&lt;dbl&gt;</th><th scope=col>&lt;dbl&gt;</th><th scope=col>&lt;dbl&gt;</th><th scope=col>&lt;dbl&gt;</th><th scope=col>&lt;dbl&gt;</th><th scope=col>&lt;dbl&gt;</th><th scope=col>&lt;dbl&gt;</th><th scope=col>&lt;dbl&gt;</th><th scope=col>&lt;dbl&gt;</th></tr>\n",
       "</thead>\n",
       "<tbody>\n",
       "\t<tr><th scope=row>chr1:10038-10405</th><td>0</td><td>0</td><td>0</td><td>0</td><td>1</td><td>0</td><td>0</td><td>0</td><td>0</td><td>0</td><td>⋯</td><td>0</td><td>0</td><td>0</td><td>0</td><td>0</td><td>0</td><td>0</td><td>0</td><td>0</td><td>0</td></tr>\n",
       "\t<tr><th scope=row>chr1:16025-16338</th><td>0</td><td>0</td><td>0</td><td>0</td><td>1</td><td>0</td><td>0</td><td>0</td><td>0</td><td>0</td><td>⋯</td><td>0</td><td>0</td><td>0</td><td>0</td><td>0</td><td>0</td><td>0</td><td>0</td><td>0</td><td>0</td></tr>\n",
       "\t<tr><th scope=row>chr1:17288-17689</th><td>0</td><td>0</td><td>0</td><td>0</td><td>1</td><td>0</td><td>0</td><td>0</td><td>0</td><td>0</td><td>⋯</td><td>0</td><td>0</td><td>0</td><td>0</td><td>0</td><td>0</td><td>0</td><td>0</td><td>0</td><td>0</td></tr>\n",
       "\t<tr><th scope=row>chr1:28934-29499</th><td>0</td><td>0</td><td>0</td><td>0</td><td>1</td><td>0</td><td>0</td><td>0</td><td>0</td><td>0</td><td>⋯</td><td>0</td><td>0</td><td>0</td><td>0</td><td>0</td><td>0</td><td>0</td><td>0</td><td>0</td><td>0</td></tr>\n",
       "\t<tr><th scope=row>chr1:115429-115969</th><td>1</td><td>0</td><td>0</td><td>0</td><td>0</td><td>0</td><td>0</td><td>0</td><td>0</td><td>0</td><td>⋯</td><td>0</td><td>0</td><td>0</td><td>0</td><td>0</td><td>0</td><td>0</td><td>1</td><td>0</td><td>0</td></tr>\n",
       "\t<tr><th scope=row>chr1:136201-137353</th><td>0</td><td>0</td><td>0</td><td>0</td><td>1</td><td>0</td><td>0</td><td>0</td><td>0</td><td>0</td><td>⋯</td><td>0</td><td>0</td><td>0</td><td>0</td><td>0</td><td>0</td><td>0</td><td>0</td><td>0</td><td>0</td></tr>\n",
       "</tbody>\n",
       "</table>\n"
      ],
      "text/latex": [
       "A data.frame: 6 × 536\n",
       "\\begin{tabular}{r|lllllllllllllllllllll}\n",
       "  & ASTARR\\_A & WSTARR\\_A & LMPRA\\_A & TMPRA\\_A & ASTARR\\_R & WSTARR\\_R & LMPRA\\_R & TMPRA\\_R & CRISPRi-HCRFF:CASA & CRISPRi-Growth:Signif & ⋯ & ZNF778 & ZNF780A & ZNF785 & ZNF79 & ZNF83 & ZNF830 & ZNF84 & ZSCAN29 & ZSCAN32 & ZZZ3\\\\\n",
       "  & <dbl> & <dbl> & <dbl> & <dbl> & <dbl> & <dbl> & <dbl> & <dbl> & <dbl> & <dbl> & ⋯ & <dbl> & <dbl> & <dbl> & <dbl> & <dbl> & <dbl> & <dbl> & <dbl> & <dbl> & <dbl>\\\\\n",
       "\\hline\n",
       "\tchr1:10038-10405 & 0 & 0 & 0 & 0 & 1 & 0 & 0 & 0 & 0 & 0 & ⋯ & 0 & 0 & 0 & 0 & 0 & 0 & 0 & 0 & 0 & 0\\\\\n",
       "\tchr1:16025-16338 & 0 & 0 & 0 & 0 & 1 & 0 & 0 & 0 & 0 & 0 & ⋯ & 0 & 0 & 0 & 0 & 0 & 0 & 0 & 0 & 0 & 0\\\\\n",
       "\tchr1:17288-17689 & 0 & 0 & 0 & 0 & 1 & 0 & 0 & 0 & 0 & 0 & ⋯ & 0 & 0 & 0 & 0 & 0 & 0 & 0 & 0 & 0 & 0\\\\\n",
       "\tchr1:28934-29499 & 0 & 0 & 0 & 0 & 1 & 0 & 0 & 0 & 0 & 0 & ⋯ & 0 & 0 & 0 & 0 & 0 & 0 & 0 & 0 & 0 & 0\\\\\n",
       "\tchr1:115429-115969 & 1 & 0 & 0 & 0 & 0 & 0 & 0 & 0 & 0 & 0 & ⋯ & 0 & 0 & 0 & 0 & 0 & 0 & 0 & 1 & 0 & 0\\\\\n",
       "\tchr1:136201-137353 & 0 & 0 & 0 & 0 & 1 & 0 & 0 & 0 & 0 & 0 & ⋯ & 0 & 0 & 0 & 0 & 0 & 0 & 0 & 0 & 0 & 0\\\\\n",
       "\\end{tabular}\n"
      ],
      "text/markdown": [
       "\n",
       "A data.frame: 6 × 536\n",
       "\n",
       "| <!--/--> | ASTARR_A &lt;dbl&gt; | WSTARR_A &lt;dbl&gt; | LMPRA_A &lt;dbl&gt; | TMPRA_A &lt;dbl&gt; | ASTARR_R &lt;dbl&gt; | WSTARR_R &lt;dbl&gt; | LMPRA_R &lt;dbl&gt; | TMPRA_R &lt;dbl&gt; | CRISPRi-HCRFF:CASA &lt;dbl&gt; | CRISPRi-Growth:Signif &lt;dbl&gt; | ⋯ ⋯ | ZNF778 &lt;dbl&gt; | ZNF780A &lt;dbl&gt; | ZNF785 &lt;dbl&gt; | ZNF79 &lt;dbl&gt; | ZNF83 &lt;dbl&gt; | ZNF830 &lt;dbl&gt; | ZNF84 &lt;dbl&gt; | ZSCAN29 &lt;dbl&gt; | ZSCAN32 &lt;dbl&gt; | ZZZ3 &lt;dbl&gt; |\n",
       "|---|---|---|---|---|---|---|---|---|---|---|---|---|---|---|---|---|---|---|---|---|---|\n",
       "| chr1:10038-10405 | 0 | 0 | 0 | 0 | 1 | 0 | 0 | 0 | 0 | 0 | ⋯ | 0 | 0 | 0 | 0 | 0 | 0 | 0 | 0 | 0 | 0 |\n",
       "| chr1:16025-16338 | 0 | 0 | 0 | 0 | 1 | 0 | 0 | 0 | 0 | 0 | ⋯ | 0 | 0 | 0 | 0 | 0 | 0 | 0 | 0 | 0 | 0 |\n",
       "| chr1:17288-17689 | 0 | 0 | 0 | 0 | 1 | 0 | 0 | 0 | 0 | 0 | ⋯ | 0 | 0 | 0 | 0 | 0 | 0 | 0 | 0 | 0 | 0 |\n",
       "| chr1:28934-29499 | 0 | 0 | 0 | 0 | 1 | 0 | 0 | 0 | 0 | 0 | ⋯ | 0 | 0 | 0 | 0 | 0 | 0 | 0 | 0 | 0 | 0 |\n",
       "| chr1:115429-115969 | 1 | 0 | 0 | 0 | 0 | 0 | 0 | 0 | 0 | 0 | ⋯ | 0 | 0 | 0 | 0 | 0 | 0 | 0 | 1 | 0 | 0 |\n",
       "| chr1:136201-137353 | 0 | 0 | 0 | 0 | 1 | 0 | 0 | 0 | 0 | 0 | ⋯ | 0 | 0 | 0 | 0 | 0 | 0 | 0 | 0 | 0 | 0 |\n",
       "\n"
      ],
      "text/plain": [
       "                   ASTARR_A WSTARR_A LMPRA_A TMPRA_A ASTARR_R WSTARR_R LMPRA_R\n",
       "chr1:10038-10405   0        0        0       0       1        0        0      \n",
       "chr1:16025-16338   0        0        0       0       1        0        0      \n",
       "chr1:17288-17689   0        0        0       0       1        0        0      \n",
       "chr1:28934-29499   0        0        0       0       1        0        0      \n",
       "chr1:115429-115969 1        0        0       0       0        0        0      \n",
       "chr1:136201-137353 0        0        0       0       1        0        0      \n",
       "                   TMPRA_R CRISPRi-HCRFF:CASA CRISPRi-Growth:Signif ⋯ ZNF778\n",
       "chr1:10038-10405   0       0                  0                     ⋯ 0     \n",
       "chr1:16025-16338   0       0                  0                     ⋯ 0     \n",
       "chr1:17288-17689   0       0                  0                     ⋯ 0     \n",
       "chr1:28934-29499   0       0                  0                     ⋯ 0     \n",
       "chr1:115429-115969 0       0                  0                     ⋯ 0     \n",
       "chr1:136201-137353 0       0                  0                     ⋯ 0     \n",
       "                   ZNF780A ZNF785 ZNF79 ZNF83 ZNF830 ZNF84 ZSCAN29 ZSCAN32 ZZZ3\n",
       "chr1:10038-10405   0       0      0     0     0      0     0       0       0   \n",
       "chr1:16025-16338   0       0      0     0     0      0     0       0       0   \n",
       "chr1:17288-17689   0       0      0     0     0      0     0       0       0   \n",
       "chr1:28934-29499   0       0      0     0     0      0     0       0       0   \n",
       "chr1:115429-115969 0       0      0     0     0      0     1       0       0   \n",
       "chr1:136201-137353 0       0      0     0     0      0     0       0       0   "
      ]
     },
     "metadata": {},
     "output_type": "display_data"
    }
   ],
   "source": [
    "dat = dat_region_annot\n",
    "mat = dat %>% column_to_rownames(\"Region\")\n",
    "head(mat)"
   ]
  },
  {
   "cell_type": "code",
   "execution_count": 12,
   "id": "e3b7b326-acda-4282-8209-841cd8a1bfeb",
   "metadata": {},
   "outputs": [],
   "source": [
    "library(pheatmap)"
   ]
  },
  {
   "cell_type": "code",
   "execution_count": 13,
   "id": "bb896b10-cf2f-4f8a-9f64-a934735fca1e",
   "metadata": {},
   "outputs": [
    {
     "data": {
      "image/png": "[encoded data removed]",
      "text/plain": [
       "plot without title"
      ]
     },
     "metadata": {
      "image/png": {
       "height": 780,
       "width": 780
      }
     },
     "output_type": "display_data"
    }
   ],
   "source": [
    "dat = dat_region_annot\n",
    "mat = dat %>% column_to_rownames(\"Region\")\n",
    "\n",
    "options(repr.plot.height = 13, repr.plot.width=13)\n",
    "pheatmap(\n",
    "    mat,\n",
    "    cluster_rows = res_hcl_row,\n",
    "    cluster_cols = res_hcl_col,\n",
    "    fontsize                 = 15,\n",
    "    treeheight_row           = 70,\n",
    "    treeheight_col           = 70,\n",
    "    show_rownames            = FALSE,\n",
    "    show_colnames            = FALSE,\n",
    "    legend                   = FALSE,\n",
    "    color = c(\"white\", \"black\")\n",
    ")"
   ]
  },
  {
   "cell_type": "code",
   "execution_count": 7,
   "id": "e01b787c-7008-44ac-8be4-72cb7cc6792c",
   "metadata": {},
   "outputs": [
    {
     "data": {
      "text/html": [
       "<style>\n",
       ".list-inline {list-style: none; margin:0; padding: 0}\n",
       ".list-inline>li {display: inline-block}\n",
       ".list-inline>li:not(:last-child)::after {content: \"\\00b7\"; padding: 0 .5ex}\n",
       "</style>\n",
       "<ol class=list-inline><li>144537</li><li>536</li></ol>\n"
      ],
      "text/latex": [
       "\\begin{enumerate*}\n",
       "\\item 144537\n",
       "\\item 536\n",
       "\\end{enumerate*}\n"
      ],
      "text/markdown": [
       "1. 144537\n",
       "2. 536\n",
       "\n",
       "\n"
      ],
      "text/plain": [
       "[1] 144537    536"
      ]
     },
     "metadata": {},
     "output_type": "display_data"
    }
   ],
   "source": [
    "dim(mat)"
   ]
  },
  {
   "cell_type": "code",
   "execution_count": 8,
   "id": "d7edab9c-aa2d-4b05-8c1f-a02f83fe508d",
   "metadata": {},
   "outputs": [
    {
     "name": "stdout",
     "output_type": "stream",
     "text": [
      "\n",
      "Call:\n",
      "fastcluster::hclust(d = mat, method = \"ward.D2\")\n",
      "\n",
      "Cluster method   : ward.D2 \n",
      "Distance         : manhattan \n",
      "Number of objects: 144537 \n",
      "\n"
     ]
    }
   ],
   "source": [
    "res = res_hcl_row\n",
    "print(res)"
   ]
  },
  {
   "cell_type": "code",
   "execution_count": 10,
   "id": "7c2d7b33-2afd-4594-ad6d-b71f243a0b8c",
   "metadata": {},
   "outputs": [
    {
     "data": {
      "text/plain": [
       "idx\n",
       "     1      2      3 \n",
       "128504   5448  10585 "
      ]
     },
     "metadata": {},
     "output_type": "display_data"
    }
   ],
   "source": [
    "res = res_hcl_row\n",
    "idx = cutree(res, 10)\n",
    "table(idx)"
   ]
  },
  {
   "cell_type": "code",
   "execution_count": 11,
   "id": "3f188975-6da8-4899-bb7c-e0a0b47f1594",
   "metadata": {},
   "outputs": [
    {
     "data": {
      "text/html": [
       "<style>\n",
       ".list-inline {list-style: none; margin:0; padding: 0}\n",
       ".list-inline>li {display: inline-block}\n",
       ".list-inline>li:not(:last-child)::after {content: \"\\00b7\"; padding: 0 .5ex}\n",
       "</style>\n",
       "<ol class=list-inline><li>'merge'</li><li>'height'</li><li>'order'</li><li>'labels'</li><li>'method'</li><li>'call'</li><li>'dist.method'</li></ol>\n"
      ],
      "text/latex": [
       "\\begin{enumerate*}\n",
       "\\item 'merge'\n",
       "\\item 'height'\n",
       "\\item 'order'\n",
       "\\item 'labels'\n",
       "\\item 'method'\n",
       "\\item 'call'\n",
       "\\item 'dist.method'\n",
       "\\end{enumerate*}\n"
      ],
      "text/markdown": [
       "1. 'merge'\n",
       "2. 'height'\n",
       "3. 'order'\n",
       "4. 'labels'\n",
       "5. 'method'\n",
       "6. 'call'\n",
       "7. 'dist.method'\n",
       "\n",
       "\n"
      ],
      "text/plain": [
       "[1] \"merge\"       \"height\"      \"order\"       \"labels\"      \"method\"     \n",
       "[6] \"call\"        \"dist.method\""
      ]
     },
     "metadata": {},
     "output_type": "display_data"
    }
   ],
   "source": [
    "names(res)"
   ]
  },
  {
   "cell_type": "code",
   "execution_count": 12,
   "id": "4a380ed0-8c9b-4ec5-9e22-d8df14d78162",
   "metadata": {},
   "outputs": [
    {
     "data": {
      "text/html": [
       "<style>\n",
       ".list-inline {list-style: none; margin:0; padding: 0}\n",
       ".list-inline>li {display: inline-block}\n",
       ".list-inline>li:not(:last-child)::after {content: \"\\00b7\"; padding: 0 .5ex}\n",
       "</style>\n",
       "<ol class=list-inline><li>'chr1:10038-10405'</li><li>'chr1:16025-16338'</li><li>'chr1:17288-17689'</li><li>'chr1:28934-29499'</li><li>'chr1:115429-115969'</li><li>'chr1:136201-137353'</li></ol>\n"
      ],
      "text/latex": [
       "\\begin{enumerate*}\n",
       "\\item 'chr1:10038-10405'\n",
       "\\item 'chr1:16025-16338'\n",
       "\\item 'chr1:17288-17689'\n",
       "\\item 'chr1:28934-29499'\n",
       "\\item 'chr1:115429-115969'\n",
       "\\item 'chr1:136201-137353'\n",
       "\\end{enumerate*}\n"
      ],
      "text/markdown": [
       "1. 'chr1:10038-10405'\n",
       "2. 'chr1:16025-16338'\n",
       "3. 'chr1:17288-17689'\n",
       "4. 'chr1:28934-29499'\n",
       "5. 'chr1:115429-115969'\n",
       "6. 'chr1:136201-137353'\n",
       "\n",
       "\n"
      ],
      "text/plain": [
       "[1] \"chr1:10038-10405\"   \"chr1:16025-16338\"   \"chr1:17288-17689\"  \n",
       "[4] \"chr1:28934-29499\"   \"chr1:115429-115969\" \"chr1:136201-137353\""
      ]
     },
     "metadata": {},
     "output_type": "display_data"
    }
   ],
   "source": [
    "head(res$labels)"
   ]
  },
  {
   "cell_type": "code",
   "execution_count": 15,
   "id": "c96b1206-7443-4d57-8bf3-96ec43a2afe6",
   "metadata": {},
   "outputs": [
    {
     "data": {
      "text/html": [
       "144536"
      ],
      "text/latex": [
       "144536"
      ],
      "text/markdown": [
       "144536"
      ],
      "text/plain": [
       "[1] 144536"
      ]
     },
     "metadata": {},
     "output_type": "display_data"
    }
   ],
   "source": [
    "length(res$height)"
   ]
  },
  {
   "cell_type": "code",
   "execution_count": 16,
   "id": "6044b5f3-c775-40c5-8f9c-654e507cb699",
   "metadata": {},
   "outputs": [
    {
     "data": {
      "text/plain": [
       "     Min.   1st Qu.    Median      Mean   3rd Qu.      Max. \n",
       "    0.000     1.000     9.003    29.815    40.270 22048.173 "
      ]
     },
     "metadata": {},
     "output_type": "display_data"
    }
   ],
   "source": [
    "summary(res$height)"
   ]
  },
  {
   "cell_type": "code",
   "execution_count": 9,
   "id": "26aad41f-6f3b-4886-a8fb-712b2a639cb4",
   "metadata": {},
   "outputs": [],
   "source": [
    "library(cluster)"
   ]
  },
  {
   "cell_type": "code",
   "execution_count": null,
   "id": "92b3f2dc-4e42-4de4-809d-b2f4c742f077",
   "metadata": {},
   "outputs": [],
   "source": [
    "plot(silhouette(cutree(Data.hclust,3), distance))"
   ]
  }
 ],
 "metadata": {
  "kernelspec": {
   "display_name": "R",
   "language": "R",
   "name": "ir"
  },
  "language_info": {
   "codemirror_mode": "r",
   "file_extension": ".r",
   "mimetype": "text/x-r-source",
   "name": "R",
   "pygments_lexer": "r",
   "version": "4.4.1"
  }
 },
 "nbformat": 4,
 "nbformat_minor": 5
}
