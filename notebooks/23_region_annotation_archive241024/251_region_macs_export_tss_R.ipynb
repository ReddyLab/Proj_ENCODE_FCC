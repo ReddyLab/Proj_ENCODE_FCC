{
 "cells": [
  {
   "cell_type": "raw",
   "id": "34f66d80-8f86-49d0-80ad-22b3b4a6c854",
   "metadata": {},
   "source": [
    "---\n",
    "title: ChIP-seq MACS peaks\n",
    "subtitle: export annotation\n",
    "format:\n",
    "    html:\n",
    "        code-fold:  true\n",
    "        code-tools: true\n",
    "---"
   ]
  },
  {
   "cell_type": "markdown",
   "id": "2a9ee865-6f50-46e9-a093-079c97878b9d",
   "metadata": {},
   "source": [
    "**Set environment**"
   ]
  },
  {
   "cell_type": "code",
   "execution_count": 1,
   "id": "2655e51f-17a3-4c38-ac2c-2bb5e85bac2a",
   "metadata": {
    "tags": []
   },
   "outputs": [
    {
     "name": "stdout",
     "output_type": "stream",
     "text": [
      "You are working on        Singularity \n",
      "BASE DIRECTORY (FD_BASE): /mount \n",
      "REPO DIRECTORY (FD_REPO): /mount/repo \n",
      "WORK DIRECTORY (FD_WORK): /mount/work \n",
      "DATA DIRECTORY (FD_DATA): /mount/data \n",
      "\n",
      "You are working with      ENCODE FCC \n",
      "PATH OF PROJECT (FD_PRJ): /mount/repo/Proj_ENCODE_FCC \n",
      "PROJECT RESULTS (FD_RES): /mount/repo/Proj_ENCODE_FCC/results \n",
      "PROJECT SCRIPTS (FD_EXE): /mount/repo/Proj_ENCODE_FCC/scripts \n",
      "PROJECT DATA    (FD_DAT): /mount/repo/Proj_ENCODE_FCC/data \n",
      "PROJECT NOTE    (FD_NBK): /mount/repo/Proj_ENCODE_FCC/notebooks \n",
      "PROJECT DOCS    (FD_DOC): /mount/repo/Proj_ENCODE_FCC/docs \n",
      "PROJECT LOG     (FD_LOG): /mount/repo/Proj_ENCODE_FCC/log \n",
      "PROJECT APP     (FD_APP): /mount/repo/Proj_ENCODE_FCC/app \n",
      "PROJECT REF     (FD_REF): /mount/repo/Proj_ENCODE_FCC/references \n",
      "\n"
     ]
    }
   ],
   "source": [
    "suppressMessages(suppressWarnings(source(\"../run_config_project_sing.R\")))\n",
    "show_env()"
   ]
  },
  {
   "cell_type": "code",
   "execution_count": 2,
   "id": "bc3aa38f-206e-44ef-80e5-1a64c9530b82",
   "metadata": {},
   "outputs": [
    {
     "name": "stdout",
     "output_type": "stream",
     "text": [
      " [1] \"matrix.annotation.chipseq_flagship.fcc.rds\"               \n",
      " [2] \"matrix.annotation.chipseq_flagship.fcc.tsv\"               \n",
      " [3] \"matrix.annotation.chipseq_flagship.rds\"                   \n",
      " [4] \"matrix.annotation.chipseq_flagship.tsv\"                   \n",
      " [5] \"matrix.annotation.chipseq_full.tsv\"                       \n",
      " [6] \"matrix.annotation.chipseq_histone.tsv\"                    \n",
      " [7] \"matrix.annotation.chipseq_subset.tsv\"                     \n",
      " [8] \"matrix.annotation.fcc_peak_call.tsv\"                      \n",
      " [9] \"matrix.annotation.tss.chipseq_histone.chipseq_encode4.tsv\"\n",
      "[10] \"region.annotation.encode_chipseq_flagship.tsv\"            \n",
      "[11] \"region.annotation.encode_chipseq_histone.tsv\"             \n",
      "[12] \"region.annotation.encode_chipseq_subset.tsv\"              \n",
      "[13] \"region.annotation.encode_chromatin_states.tsv\"            \n",
      "[14] \"region.annotation.fcc_astarr_csaw.tsv\"                    \n",
      "[15] \"region.annotation.fcc_crispri_growth.tsv\"                 \n",
      "[16] \"region.annotation.fcc_crispri_hcrff.tsv\"                  \n",
      "[17] \"region.annotation.fcc_mpra_agarwal2023.tsv\"               \n",
      "[18] \"region.annotation.fcc_starrmpra_junke.tsv\"                \n",
      "[19] \"region.annotation.genome_tss.tsv\"                         \n",
      "[20] \"region.annotation.hic_insitu_K562_ENCSR545YBD.tsv\"        \n",
      "[21] \"region.annotation.hic_intact_K562_deep.tsv\"               \n",
      "[22] \"region.annotation.hic_intact_K562_ENCSR479XDG.tsv\"        \n",
      "[23] \"region.annotation.module_tf_shannon.tsv\"                  \n",
      "[24] \"region.summary.encode_chipseq_encode4.tsv\"                \n",
      "[25] \"region.summary.encode_chipseq_flagship.tsv\"               \n",
      "[26] \"region.summary.encode_chipseq_histone.tsv\"                \n",
      "[27] \"region.summary.encode_chipseq_subset.tsv\"                 \n",
      "[28] \"region.summary.encode_chromatin_states.tsv\"               \n",
      "[29] \"region.summary.fcc_astarr_csaw.tsv\"                       \n",
      "[30] \"region.summary.fcc_crispri_growth.tsv\"                    \n",
      "[31] \"region.summary.fcc_crispri_hcrff.tsv\"                     \n",
      "[32] \"region.summary.fcc_mpra_agarwal2023.tsv\"                  \n",
      "[33] \"region.summary.fcc_starrmpra_junke.tsv\"                   \n",
      "[34] \"region.summary.genome_tss.tsv\"                            \n",
      "[35] \"region.summary.hic_insitu_K562_ENCSR545YBD.tsv\"           \n",
      "[36] \"region.summary.hic_intact_K562_deep.tsv\"                  \n",
      "[37] \"region.summary.hic_intact_K562_ENCSR479XDG.tsv\"           \n",
      "[38] \"region.summary.module_tf_shannon.tsv\"                     \n",
      "[39] \"result.summary.chipseq_flagship.tsv\"                      \n",
      "[40] \"result.summary.chipseq_full.tsv\"                          \n",
      "[41] \"result.summary.chipseq_histone.tsv\"                       \n",
      "[42] \"result.summary.chipseq_subset.tsv\"                        \n",
      "[43] \"result.summary.connectivity.loop.tsv\"                     \n",
      "[44] \"result.summary.fcc_peak_call.tsv\"                         \n",
      "[45] \"umap.annotation.chipseq.tsv\"                              \n"
     ]
    }
   ],
   "source": [
    "txt_fdiry = file.path(\n",
    "    FD_RES, \n",
    "    \"region_annotation\", \n",
    "    \"fcc_astarr_macs_input_overlap\",\n",
    "    \"summary\"\n",
    ")\n",
    "vec = dir(txt_fdiry)\n",
    "print(vec)"
   ]
  },
  {
   "cell_type": "markdown",
   "id": "f7a7dc9f-a82d-46c5-97bb-74551162c10e",
   "metadata": {},
   "source": [
    "## Import data"
   ]
  },
  {
   "cell_type": "code",
   "execution_count": 3,
   "id": "d9ac0e8d-92b8-47ce-8555-2974aeb24bff",
   "metadata": {},
   "outputs": [
    {
     "name": "stdout",
     "output_type": "stream",
     "text": [
      "[1] 23381    10\n"
     ]
    },
    {
     "data": {
      "text/html": [
       "<table>\n",
       " <thead>\n",
       "  <tr>\n",
       "   <th style=\"text-align:left;\"> Chrom_A </th>\n",
       "   <th style=\"text-align:right;\"> ChromStart_A </th>\n",
       "   <th style=\"text-align:right;\"> ChromEnd_A </th>\n",
       "   <th style=\"text-align:left;\"> Region_A </th>\n",
       "   <th style=\"text-align:left;\"> Annotation_A </th>\n",
       "   <th style=\"text-align:left;\"> Annotation_B </th>\n",
       "   <th style=\"text-align:left;\"> Group_B </th>\n",
       "   <th style=\"text-align:left;\"> Label_B </th>\n",
       "   <th style=\"text-align:left;\"> Region_B </th>\n",
       "   <th style=\"text-align:right;\"> Count_B </th>\n",
       "  </tr>\n",
       " </thead>\n",
       "<tbody>\n",
       "  <tr>\n",
       "   <td style=\"text-align:left;\"> chr1 </td>\n",
       "   <td style=\"text-align:right;\"> 17288 </td>\n",
       "   <td style=\"text-align:right;\"> 17689 </td>\n",
       "   <td style=\"text-align:left;\"> chr1:17288-17689 </td>\n",
       "   <td style=\"text-align:left;\"> fcc_astarr_macs_input_overlap </td>\n",
       "   <td style=\"text-align:left;\"> genome_tss_pol2 </td>\n",
       "   <td style=\"text-align:left;\"> TSS </td>\n",
       "   <td style=\"text-align:left;\"> TSS_Pol2 </td>\n",
       "   <td style=\"text-align:left;\"> chr1:17436-17437;chr1:17436-17437;chr1:17436-17437;chr1:17436-17437 </td>\n",
       "   <td style=\"text-align:right;\"> 4 </td>\n",
       "  </tr>\n",
       "  <tr>\n",
       "   <td style=\"text-align:left;\"> chr1 </td>\n",
       "   <td style=\"text-align:right;\"> 28934 </td>\n",
       "   <td style=\"text-align:right;\"> 29499 </td>\n",
       "   <td style=\"text-align:left;\"> chr1:28934-29499 </td>\n",
       "   <td style=\"text-align:left;\"> fcc_astarr_macs_input_overlap </td>\n",
       "   <td style=\"text-align:left;\"> genome_tss_pol2 </td>\n",
       "   <td style=\"text-align:left;\"> TSS </td>\n",
       "   <td style=\"text-align:left;\"> TSS_Pol2 </td>\n",
       "   <td style=\"text-align:left;\"> chr1:29370-29371 </td>\n",
       "   <td style=\"text-align:right;\"> 1 </td>\n",
       "  </tr>\n",
       "  <tr>\n",
       "   <td style=\"text-align:left;\"> chr1 </td>\n",
       "   <td style=\"text-align:right;\"> 28934 </td>\n",
       "   <td style=\"text-align:right;\"> 29499 </td>\n",
       "   <td style=\"text-align:left;\"> chr1:28934-29499 </td>\n",
       "   <td style=\"text-align:left;\"> fcc_astarr_macs_input_overlap </td>\n",
       "   <td style=\"text-align:left;\"> genome_tss_pol2_rnaseq </td>\n",
       "   <td style=\"text-align:left;\"> TSS </td>\n",
       "   <td style=\"text-align:left;\"> TSS_Pol2_RNAseq </td>\n",
       "   <td style=\"text-align:left;\"> chr1:29370-29371 </td>\n",
       "   <td style=\"text-align:right;\"> 1 </td>\n",
       "  </tr>\n",
       "</tbody>\n",
       "</table>"
      ]
     },
     "metadata": {},
     "output_type": "display_data"
    }
   ],
   "source": [
    "txt_fdiry = file.path(\n",
    "    FD_RES, \n",
    "    \"region_annotation\", \n",
    "    \"fcc_astarr_macs_input_overlap\",\n",
    "    \"summary\"\n",
    ")\n",
    "txt_fname = \"region.summary.genome_tss.tsv\"\n",
    "txt_fpath = file.path(txt_fdiry, txt_fname)\n",
    "\n",
    "dat = read_tsv(txt_fpath, show_col_types = FALSE)\n",
    "\n",
    "dat_region_annot = dat\n",
    "print(dim(dat))\n",
    "fun_display_table(head(dat, 3))"
   ]
  },
  {
   "cell_type": "code",
   "execution_count": 4,
   "id": "04930dc5-77f6-45f1-800f-f6c5a277a353",
   "metadata": {},
   "outputs": [
    {
     "data": {
      "text/plain": [
       "\n",
       "       TSS_Pol2 TSS_Pol2_RNAseq \n",
       "          13732            9649 "
      ]
     },
     "metadata": {},
     "output_type": "display_data"
    }
   ],
   "source": [
    "dat = dat_region_annot\n",
    "table(dat$Label_B)"
   ]
  },
  {
   "cell_type": "markdown",
   "id": "9cb6bf93-f607-4941-b31d-4c9a6f6e9260",
   "metadata": {},
   "source": [
    "## Arrange"
   ]
  },
  {
   "cell_type": "code",
   "execution_count": 6,
   "id": "968403bb-2177-4c4a-a79f-63e648420f6a",
   "metadata": {},
   "outputs": [
    {
     "data": {
      "text/plain": [
       "\n",
       "TSS_Pol2_RNAseq \n",
       "           9649 "
      ]
     },
     "metadata": {},
     "output_type": "display_data"
    }
   ],
   "source": [
    "dat = dat_region_annot\n",
    "dat = dat %>% dplyr::filter(Label_B == \"TSS_Pol2_RNAseq\")\n",
    "\n",
    "dat_region_annot_subset = dat\n",
    "table(dat$Label_B)"
   ]
  },
  {
   "cell_type": "code",
   "execution_count": 9,
   "id": "62346424-4c3e-4f9d-9863-7b1be40f4eb2",
   "metadata": {},
   "outputs": [
    {
     "name": "stdout",
     "output_type": "stream",
     "text": [
      "[1] 9649    6\n"
     ]
    },
    {
     "data": {
      "text/html": [
       "<table>\n",
       " <thead>\n",
       "  <tr>\n",
       "   <th style=\"text-align:left;\"> Chrom </th>\n",
       "   <th style=\"text-align:right;\"> ChromStart </th>\n",
       "   <th style=\"text-align:right;\"> ChromEnd </th>\n",
       "   <th style=\"text-align:left;\"> Region </th>\n",
       "   <th style=\"text-align:left;\"> Group </th>\n",
       "   <th style=\"text-align:left;\"> Label </th>\n",
       "  </tr>\n",
       " </thead>\n",
       "<tbody>\n",
       "  <tr>\n",
       "   <td style=\"text-align:left;\"> chr1 </td>\n",
       "   <td style=\"text-align:right;\"> 28934 </td>\n",
       "   <td style=\"text-align:right;\"> 29499 </td>\n",
       "   <td style=\"text-align:left;\"> chr1:28934-29499 </td>\n",
       "   <td style=\"text-align:left;\"> TSS </td>\n",
       "   <td style=\"text-align:left;\"> TSS_Pol2_RNAseq </td>\n",
       "  </tr>\n",
       "  <tr>\n",
       "   <td style=\"text-align:left;\"> chr1 </td>\n",
       "   <td style=\"text-align:right;\"> 826796 </td>\n",
       "   <td style=\"text-align:right;\"> 828040 </td>\n",
       "   <td style=\"text-align:left;\"> chr1:826796-828040 </td>\n",
       "   <td style=\"text-align:left;\"> TSS </td>\n",
       "   <td style=\"text-align:left;\"> TSS_Pol2_RNAseq </td>\n",
       "  </tr>\n",
       "  <tr>\n",
       "   <td style=\"text-align:left;\"> chr1 </td>\n",
       "   <td style=\"text-align:right;\"> 876493 </td>\n",
       "   <td style=\"text-align:right;\"> 877795 </td>\n",
       "   <td style=\"text-align:left;\"> chr1:876493-877795 </td>\n",
       "   <td style=\"text-align:left;\"> TSS </td>\n",
       "   <td style=\"text-align:left;\"> TSS_Pol2_RNAseq </td>\n",
       "  </tr>\n",
       "</tbody>\n",
       "</table>"
      ]
     },
     "metadata": {},
     "output_type": "display_data"
    }
   ],
   "source": [
    "dat = dat_region_annot_subset\n",
    "dat = dat %>%\n",
    "    dplyr::mutate(\n",
    "        Chrom      = Chrom_A,\n",
    "        ChromStart = ChromStart_A, \n",
    "        ChromEnd   = ChromEnd_A,\n",
    "        Region     = Region_A,\n",
    "        Group      = Group_B,\n",
    "        Label      = Label_B\n",
    "    ) %>%\n",
    "    dplyr::select(Chrom, ChromStart, ChromEnd, Region, Group, Label) %>%\n",
    "    dplyr::distinct()\n",
    "\n",
    "### assign and show\n",
    "dat_region_annot_result = dat\n",
    "print(dim(dat))\n",
    "fun_display_table(head(dat, 3))"
   ]
  },
  {
   "cell_type": "code",
   "execution_count": 11,
   "id": "cb939557-c196-498b-81ef-0f9e4051f23a",
   "metadata": {},
   "outputs": [
    {
     "name": "stdout",
     "output_type": "stream",
     "text": [
      "[1] 9649    5\n"
     ]
    },
    {
     "data": {
      "text/html": [
       "<table>\n",
       " <thead>\n",
       "  <tr>\n",
       "   <th style=\"text-align:left;\"> Chrom </th>\n",
       "   <th style=\"text-align:right;\"> ChromStart </th>\n",
       "   <th style=\"text-align:right;\"> ChromEnd </th>\n",
       "   <th style=\"text-align:left;\"> Region </th>\n",
       "   <th style=\"text-align:right;\"> TSS </th>\n",
       "  </tr>\n",
       " </thead>\n",
       "<tbody>\n",
       "  <tr>\n",
       "   <td style=\"text-align:left;\"> chr1 </td>\n",
       "   <td style=\"text-align:right;\"> 28934 </td>\n",
       "   <td style=\"text-align:right;\"> 29499 </td>\n",
       "   <td style=\"text-align:left;\"> chr1:28934-29499 </td>\n",
       "   <td style=\"text-align:right;\"> 1 </td>\n",
       "  </tr>\n",
       "  <tr>\n",
       "   <td style=\"text-align:left;\"> chr1 </td>\n",
       "   <td style=\"text-align:right;\"> 826796 </td>\n",
       "   <td style=\"text-align:right;\"> 828040 </td>\n",
       "   <td style=\"text-align:left;\"> chr1:826796-828040 </td>\n",
       "   <td style=\"text-align:right;\"> 1 </td>\n",
       "  </tr>\n",
       "  <tr>\n",
       "   <td style=\"text-align:left;\"> chr1 </td>\n",
       "   <td style=\"text-align:right;\"> 876493 </td>\n",
       "   <td style=\"text-align:right;\"> 877795 </td>\n",
       "   <td style=\"text-align:left;\"> chr1:876493-877795 </td>\n",
       "   <td style=\"text-align:right;\"> 1 </td>\n",
       "  </tr>\n",
       "</tbody>\n",
       "</table>"
      ]
     },
     "metadata": {},
     "output_type": "display_data"
    }
   ],
   "source": [
    "dat = dat_region_annot_result\n",
    "dat = dat %>% dplyr::select(Chrom, ChromStart, ChromEnd, Region)\n",
    "dat = dat %>% dplyr::mutate(TSS = 1)\n",
    "\n",
    "mat_region_annot = dat\n",
    "print(dim(dat))\n",
    "fun_display_table(head(dat, 3))"
   ]
  },
  {
   "cell_type": "markdown",
   "id": "d5dbde27-a541-4de2-99e2-25e3e962c831",
   "metadata": {},
   "source": [
    "## Save results"
   ]
  },
  {
   "cell_type": "code",
   "execution_count": 10,
   "id": "fcd657db-60b1-4452-8c3a-f1cdd698532d",
   "metadata": {},
   "outputs": [],
   "source": [
    "txt_fdiry = file.path(\n",
    "    FD_RES, \n",
    "    \"region_annotation\", \n",
    "    \"fcc_astarr_macs_input_overlap\",\n",
    "    \"summary\"\n",
    ")\n",
    "txt_fname = paste(\"result\", \"summary\", \"genome_tss\", \"tsv\", sep = \".\")\n",
    "txt_fpath = file.path(txt_fdiry, txt_fname)\n",
    "\n",
    "dat = dat_region_annot_result\n",
    "write_tsv(dat, txt_fpath)"
   ]
  },
  {
   "cell_type": "code",
   "execution_count": 12,
   "id": "501cf003-085d-4e36-85c8-7a80d7bb56b0",
   "metadata": {},
   "outputs": [],
   "source": [
    "txt_fdiry = file.path(\n",
    "    FD_RES, \n",
    "    \"region_annotation\", \n",
    "    \"fcc_astarr_macs_input_overlap\",\n",
    "    \"summary\"\n",
    ")\n",
    "txt_fname = paste(\"matrix\", \"annotation\", \"genome_tss\", \"tsv\", sep = \".\")\n",
    "txt_fpath = file.path(txt_fdiry, txt_fname)\n",
    "\n",
    "dat = mat_region_annot\n",
    "write_tsv(dat, txt_fpath)"
   ]
  },
  {
   "cell_type": "code",
   "execution_count": null,
   "id": "52c06670-d3aa-49e4-ac0b-9342fbb70a22",
   "metadata": {},
   "outputs": [],
   "source": []
  }
 ],
 "metadata": {
  "kernelspec": {
   "display_name": "R (alex_py3)",
   "language": "R",
   "name": "ir_alex_py3"
  },
  "language_info": {
   "codemirror_mode": "r",
   "file_extension": ".r",
   "mimetype": "text/x-r-source",
   "name": "R",
   "pygments_lexer": "r",
   "version": "4.4.1"
  }
 },
 "nbformat": 4,
 "nbformat_minor": 5
}
