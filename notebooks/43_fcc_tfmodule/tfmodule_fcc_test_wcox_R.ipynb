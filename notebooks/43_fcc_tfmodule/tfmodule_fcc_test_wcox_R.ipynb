{
 "cells": [
  {
   "cell_type": "raw",
   "id": "10c79ec7-a8eb-4206-9297-99242fb93d45",
   "metadata": {},
   "source": [
    "---\n",
    "title: Prepare TF Modules 01\n",
    "subtitle: Explore the data\n",
    "format:\n",
    "    html:\n",
    "        code-fold:  true\n",
    "        code-tools: true\n",
    "---"
   ]
  },
  {
   "cell_type": "markdown",
   "id": "81c7ba71-341a-4dbd-b0a5-9760199aec63",
   "metadata": {},
   "source": [
    "**Set environment**"
   ]
  },
  {
   "cell_type": "code",
   "execution_count": 1,
   "id": "5f039812-20b4-466b-bd9f-6fe73876907e",
   "metadata": {},
   "outputs": [
    {
     "name": "stdout",
     "output_type": "stream",
     "text": [
      "You are working on        Singularity \n",
      "BASE DIRECTORY (FD_BASE): /mount \n",
      "REPO DIRECTORY (FD_REPO): /mount/repo \n",
      "WORK DIRECTORY (FD_WORK): /mount/work \n",
      "DATA DIRECTORY (FD_DATA): /mount/data \n",
      "\n",
      "You are working with      ENCODE FCC \n",
      "PATH OF PROJECT (FD_PRJ): /mount/repo/Proj_ENCODE_FCC \n",
      "PROJECT RESULTS (FD_RES): /mount/repo/Proj_ENCODE_FCC/results \n",
      "PROJECT SCRIPTS (FD_EXE): /mount/repo/Proj_ENCODE_FCC/scripts \n",
      "PROJECT DATA    (FD_DAT): /mount/repo/Proj_ENCODE_FCC/data \n",
      "PROJECT NOTE    (FD_NBK): /mount/repo/Proj_ENCODE_FCC/notebooks \n",
      "PROJECT DOCS    (FD_DOC): /mount/repo/Proj_ENCODE_FCC/docs \n",
      "PROJECT LOG     (FD_LOG): /mount/repo/Proj_ENCODE_FCC/log \n",
      "PROJECT APP     (FD_APP): /mount/repo/Proj_ENCODE_FCC/app \n",
      "PROJECT REF     (FD_REF): /mount/repo/Proj_ENCODE_FCC/references \n",
      "\n"
     ]
    }
   ],
   "source": [
    "suppressMessages(suppressWarnings(source(\"../run_config_project_sing.R\")))\n",
    "show_env()"
   ]
  },
  {
   "cell_type": "code",
   "execution_count": 2,
   "id": "67982b16-6c7f-4ad7-8a33-24168cd94a5b",
   "metadata": {},
   "outputs": [
    {
     "name": "stdout",
     "output_type": "stream",
     "text": [
      "[1] 60618     5\n"
     ]
    },
    {
     "data": {
      "text/html": [
       "<table>\n",
       " <thead>\n",
       "  <tr>\n",
       "   <th style=\"text-align:left;\"> Region </th>\n",
       "   <th style=\"text-align:right;\"> ASTARR </th>\n",
       "   <th style=\"text-align:right;\"> LMPRA </th>\n",
       "   <th style=\"text-align:right;\"> WSTARR </th>\n",
       "   <th style=\"text-align:right;\"> Mean </th>\n",
       "  </tr>\n",
       " </thead>\n",
       "<tbody>\n",
       "  <tr>\n",
       "   <td style=\"text-align:left;\"> chr1:100036895-100039189 </td>\n",
       "   <td style=\"text-align:right;\"> 0.9032466 </td>\n",
       "   <td style=\"text-align:right;\"> 0.9352832 </td>\n",
       "   <td style=\"text-align:right;\"> 0.9627008 </td>\n",
       "   <td style=\"text-align:right;\"> 0.9337436 </td>\n",
       "  </tr>\n",
       "  <tr>\n",
       "   <td style=\"text-align:left;\"> chr1:100048290-100048918 </td>\n",
       "   <td style=\"text-align:right;\"> 0.0495727 </td>\n",
       "   <td style=\"text-align:right;\"> 0.0133706 </td>\n",
       "   <td style=\"text-align:right;\"> 0.0349896 </td>\n",
       "   <td style=\"text-align:right;\"> 0.0326443 </td>\n",
       "  </tr>\n",
       "  <tr>\n",
       "   <td style=\"text-align:left;\"> chr1:100050225-100050529 </td>\n",
       "   <td style=\"text-align:right;\"> 0.7499258 </td>\n",
       "   <td style=\"text-align:right;\"> 0.0718681 </td>\n",
       "   <td style=\"text-align:right;\"> 0.8012307 </td>\n",
       "   <td style=\"text-align:right;\"> 0.5410082 </td>\n",
       "  </tr>\n",
       "</tbody>\n",
       "</table>"
      ]
     },
     "metadata": {},
     "output_type": "display_data"
    }
   ],
   "source": [
    "txt_region = \"fcc_astarr_macs_input_overlap\"\n",
    "txt_fdiry  = file.path(FD_RES, \"region_integration\", txt_region)\n",
    "txt_fname  = \"result.coverage.ranknorm.whg.tsv\"\n",
    "txt_fpath  = file.path(txt_fdiry, txt_fname)\n",
    "\n",
    "dat = read_tsv(txt_fpath, show_col_types = FALSE)\n",
    "dat_region_score_starrmpra_ranknorm = dat\n",
    "\n",
    "print(dim(dat))\n",
    "fun_display_table(head(dat, 3))"
   ]
  },
  {
   "cell_type": "code",
   "execution_count": 5,
   "id": "948608dd-b701-4cd2-925a-7ee4b52f413c",
   "metadata": {},
   "outputs": [
    {
     "data": {
      "text/html": [
       "<table class=\"dataframe\">\n",
       "<caption>A tibble: 6 × 6</caption>\n",
       "<thead>\n",
       "\t<tr><th scope=col>Chrom</th><th scope=col>ChromStart</th><th scope=col>ChromEnd</th><th scope=col>Region</th><th scope=col>Group</th><th scope=col>Label</th></tr>\n",
       "\t<tr><th scope=col>&lt;chr&gt;</th><th scope=col>&lt;dbl&gt;</th><th scope=col>&lt;dbl&gt;</th><th scope=col>&lt;chr&gt;</th><th scope=col>&lt;chr&gt;</th><th scope=col>&lt;chr&gt;</th></tr>\n",
       "</thead>\n",
       "<tbody>\n",
       "\t<tr><td>chr1</td><td>115429</td><td>115969</td><td>chr1:115429-115969</td><td>TF_Module</td><td>Module_02</td></tr>\n",
       "\t<tr><td>chr1</td><td>115429</td><td>115969</td><td>chr1:115429-115969</td><td>TF_Module</td><td>Module_05</td></tr>\n",
       "\t<tr><td>chr1</td><td>115429</td><td>115969</td><td>chr1:115429-115969</td><td>TF_Module</td><td>Module_10</td></tr>\n",
       "\t<tr><td>chr1</td><td>115429</td><td>115969</td><td>chr1:115429-115969</td><td>TF_Module</td><td>Module_44</td></tr>\n",
       "\t<tr><td>chr1</td><td>136201</td><td>137353</td><td>chr1:136201-137353</td><td>TF_Module</td><td>Module_27</td></tr>\n",
       "\t<tr><td>chr1</td><td>138321</td><td>139517</td><td>chr1:138321-139517</td><td>TF_Module</td><td>Module_02</td></tr>\n",
       "</tbody>\n",
       "</table>\n"
      ],
      "text/latex": [
       "A tibble: 6 × 6\n",
       "\\begin{tabular}{llllll}\n",
       " Chrom & ChromStart & ChromEnd & Region & Group & Label\\\\\n",
       " <chr> & <dbl> & <dbl> & <chr> & <chr> & <chr>\\\\\n",
       "\\hline\n",
       "\t chr1 & 115429 & 115969 & chr1:115429-115969 & TF\\_Module & Module\\_02\\\\\n",
       "\t chr1 & 115429 & 115969 & chr1:115429-115969 & TF\\_Module & Module\\_05\\\\\n",
       "\t chr1 & 115429 & 115969 & chr1:115429-115969 & TF\\_Module & Module\\_10\\\\\n",
       "\t chr1 & 115429 & 115969 & chr1:115429-115969 & TF\\_Module & Module\\_44\\\\\n",
       "\t chr1 & 136201 & 137353 & chr1:136201-137353 & TF\\_Module & Module\\_27\\\\\n",
       "\t chr1 & 138321 & 139517 & chr1:138321-139517 & TF\\_Module & Module\\_02\\\\\n",
       "\\end{tabular}\n"
      ],
      "text/markdown": [
       "\n",
       "A tibble: 6 × 6\n",
       "\n",
       "| Chrom &lt;chr&gt; | ChromStart &lt;dbl&gt; | ChromEnd &lt;dbl&gt; | Region &lt;chr&gt; | Group &lt;chr&gt; | Label &lt;chr&gt; |\n",
       "|---|---|---|---|---|---|\n",
       "| chr1 | 115429 | 115969 | chr1:115429-115969 | TF_Module | Module_02 |\n",
       "| chr1 | 115429 | 115969 | chr1:115429-115969 | TF_Module | Module_05 |\n",
       "| chr1 | 115429 | 115969 | chr1:115429-115969 | TF_Module | Module_10 |\n",
       "| chr1 | 115429 | 115969 | chr1:115429-115969 | TF_Module | Module_44 |\n",
       "| chr1 | 136201 | 137353 | chr1:136201-137353 | TF_Module | Module_27 |\n",
       "| chr1 | 138321 | 139517 | chr1:138321-139517 | TF_Module | Module_02 |\n",
       "\n"
      ],
      "text/plain": [
       "  Chrom ChromStart ChromEnd Region             Group     Label    \n",
       "1 chr1  115429     115969   chr1:115429-115969 TF_Module Module_02\n",
       "2 chr1  115429     115969   chr1:115429-115969 TF_Module Module_05\n",
       "3 chr1  115429     115969   chr1:115429-115969 TF_Module Module_10\n",
       "4 chr1  115429     115969   chr1:115429-115969 TF_Module Module_44\n",
       "5 chr1  136201     137353   chr1:136201-137353 TF_Module Module_27\n",
       "6 chr1  138321     139517   chr1:138321-139517 TF_Module Module_02"
      ]
     },
     "metadata": {},
     "output_type": "display_data"
    }
   ],
   "source": [
    "txt_fdiry = file.path(\n",
    "    FD_RES, \n",
    "    \"region_annotation\", \n",
    "    \"fcc_astarr_macs_input_overlap\",\n",
    "    \"summary_v1\"\n",
    ")\n",
    "txt_fname = \"result.summary.tfmodule.tsv\"\n",
    "txt_fpath = file.path(txt_fdiry, txt_fname)\n",
    "\n",
    "dat = read_tsv(txt_fpath, show_col_types = FALSE)\n",
    "\n",
    "dat_region_annot_tfmodule = dat\n",
    "head(dat)"
   ]
  },
  {
   "cell_type": "code",
   "execution_count": 6,
   "id": "2459a151-93cc-4f16-b572-7e4a9b188493",
   "metadata": {},
   "outputs": [
    {
     "data": {
      "text/html": [
       "70"
      ],
      "text/latex": [
       "70"
      ],
      "text/markdown": [
       "70"
      ],
      "text/plain": [
       "[1] 70"
      ]
     },
     "metadata": {},
     "output_type": "display_data"
    }
   ],
   "source": [
    "vec = dat$Label\n",
    "length(unique(vec))"
   ]
  },
  {
   "cell_type": "code",
   "execution_count": 7,
   "id": "f886aaca-e39e-4f06-a468-20d645008a8b",
   "metadata": {},
   "outputs": [
    {
     "name": "stdout",
     "output_type": "stream",
     "text": [
      "[1] 60618     2\n"
     ]
    },
    {
     "data": {
      "text/html": [
       "<table class=\"dataframe\">\n",
       "<caption>A tibble: 3 × 2</caption>\n",
       "<thead>\n",
       "\t<tr><th scope=col>Region</th><th scope=col>Score</th></tr>\n",
       "\t<tr><th scope=col>&lt;chr&gt;</th><th scope=col>&lt;dbl&gt;</th></tr>\n",
       "</thead>\n",
       "<tbody>\n",
       "\t<tr><td>chr1:100036895-100039189</td><td>0.93374355</td></tr>\n",
       "\t<tr><td>chr1:100048290-100048918</td><td>0.03264432</td></tr>\n",
       "\t<tr><td>chr1:100050225-100050529</td><td>0.54100817</td></tr>\n",
       "</tbody>\n",
       "</table>\n"
      ],
      "text/latex": [
       "A tibble: 3 × 2\n",
       "\\begin{tabular}{ll}\n",
       " Region & Score\\\\\n",
       " <chr> & <dbl>\\\\\n",
       "\\hline\n",
       "\t chr1:100036895-100039189 & 0.93374355\\\\\n",
       "\t chr1:100048290-100048918 & 0.03264432\\\\\n",
       "\t chr1:100050225-100050529 & 0.54100817\\\\\n",
       "\\end{tabular}\n"
      ],
      "text/markdown": [
       "\n",
       "A tibble: 3 × 2\n",
       "\n",
       "| Region &lt;chr&gt; | Score &lt;dbl&gt; |\n",
       "|---|---|\n",
       "| chr1:100036895-100039189 | 0.93374355 |\n",
       "| chr1:100048290-100048918 | 0.03264432 |\n",
       "| chr1:100050225-100050529 | 0.54100817 |\n",
       "\n"
      ],
      "text/plain": [
       "  Region                   Score     \n",
       "1 chr1:100036895-100039189 0.93374355\n",
       "2 chr1:100048290-100048918 0.03264432\n",
       "3 chr1:100050225-100050529 0.54100817"
      ]
     },
     "metadata": {},
     "output_type": "display_data"
    }
   ],
   "source": [
    "dat = dat_region_score_starrmpra_ranknorm\n",
    "dat = dat %>% dplyr::select(Region, Mean)\n",
    "colnames(dat) = c(\"Region\", \"Score\")\n",
    "\n",
    "vec = dat$Score\n",
    "names(vec) = dat$Region\n",
    "\n",
    "dat_region_score = dat\n",
    "vec_region_score = vec\n",
    "\n",
    "print(dim(dat))\n",
    "head(dat, 3)"
   ]
  },
  {
   "cell_type": "code",
   "execution_count": 8,
   "id": "79711884-65d8-4b2e-ab9d-9c2a8c776d60",
   "metadata": {},
   "outputs": [
    {
     "name": "stdout",
     "output_type": "stream",
     "text": [
      "[1] 77726    71\n"
     ]
    },
    {
     "data": {
      "text/html": [
       "<table class=\"dataframe\">\n",
       "<caption>A tibble: 6 × 71</caption>\n",
       "<thead>\n",
       "\t<tr><th scope=col>Region</th><th scope=col>Module_01</th><th scope=col>Module_02</th><th scope=col>Module_03</th><th scope=col>Module_04</th><th scope=col>Module_05</th><th scope=col>Module_06</th><th scope=col>Module_07</th><th scope=col>Module_08</th><th scope=col>Module_09</th><th scope=col>⋯</th><th scope=col>Module_65</th><th scope=col>Module_66</th><th scope=col>Module_67</th><th scope=col>Module_68</th><th scope=col>Module_71</th><th scope=col>Module_72</th><th scope=col>Module_73</th><th scope=col>Module_74</th><th scope=col>Module_75</th><th scope=col>Module_77</th></tr>\n",
       "\t<tr><th scope=col>&lt;chr&gt;</th><th scope=col>&lt;dbl&gt;</th><th scope=col>&lt;dbl&gt;</th><th scope=col>&lt;dbl&gt;</th><th scope=col>&lt;dbl&gt;</th><th scope=col>&lt;dbl&gt;</th><th scope=col>&lt;dbl&gt;</th><th scope=col>&lt;dbl&gt;</th><th scope=col>&lt;dbl&gt;</th><th scope=col>&lt;dbl&gt;</th><th scope=col>⋯</th><th scope=col>&lt;dbl&gt;</th><th scope=col>&lt;dbl&gt;</th><th scope=col>&lt;dbl&gt;</th><th scope=col>&lt;dbl&gt;</th><th scope=col>&lt;dbl&gt;</th><th scope=col>&lt;dbl&gt;</th><th scope=col>&lt;dbl&gt;</th><th scope=col>&lt;dbl&gt;</th><th scope=col>&lt;dbl&gt;</th><th scope=col>&lt;dbl&gt;</th></tr>\n",
       "</thead>\n",
       "<tbody>\n",
       "\t<tr><td>chr1:100036895-100039189</td><td>NA</td><td> 1</td><td>NA</td><td>NA</td><td>NA</td><td>NA</td><td>NA</td><td>NA</td><td>NA</td><td>⋯</td><td>NA</td><td>NA</td><td>NA</td><td>NA</td><td>NA</td><td>NA</td><td>NA</td><td>NA</td><td>NA</td><td>NA</td></tr>\n",
       "\t<tr><td>chr1:100048290-100048918</td><td>NA</td><td>NA</td><td>NA</td><td>NA</td><td>NA</td><td>NA</td><td>NA</td><td>NA</td><td>NA</td><td>⋯</td><td>NA</td><td>NA</td><td>NA</td><td>NA</td><td>NA</td><td>NA</td><td>NA</td><td>NA</td><td>NA</td><td>NA</td></tr>\n",
       "\t<tr><td>chr1:100050225-100050529</td><td>NA</td><td>NA</td><td>NA</td><td> 1</td><td>NA</td><td>NA</td><td>NA</td><td>NA</td><td>NA</td><td>⋯</td><td>NA</td><td>NA</td><td>NA</td><td>NA</td><td>NA</td><td>NA</td><td>NA</td><td>NA</td><td>NA</td><td>NA</td></tr>\n",
       "\t<tr><td>chr1:100099076-100100488</td><td>NA</td><td>NA</td><td>NA</td><td>NA</td><td>NA</td><td>NA</td><td>NA</td><td>NA</td><td>NA</td><td>⋯</td><td>NA</td><td>NA</td><td>NA</td><td>NA</td><td>NA</td><td>NA</td><td>NA</td><td>NA</td><td>NA</td><td>NA</td></tr>\n",
       "\t<tr><td>chr1:100130577-100130967</td><td> 1</td><td>NA</td><td> 1</td><td>NA</td><td>NA</td><td>NA</td><td>NA</td><td>NA</td><td>NA</td><td>⋯</td><td>NA</td><td>NA</td><td>NA</td><td>NA</td><td>NA</td><td>NA</td><td>NA</td><td>NA</td><td>NA</td><td>NA</td></tr>\n",
       "\t<tr><td>chr1:100132375-100133491</td><td>NA</td><td>NA</td><td>NA</td><td>NA</td><td>NA</td><td>NA</td><td>NA</td><td>NA</td><td>NA</td><td>⋯</td><td>NA</td><td>NA</td><td>NA</td><td>NA</td><td>NA</td><td>NA</td><td>NA</td><td>NA</td><td>NA</td><td>NA</td></tr>\n",
       "</tbody>\n",
       "</table>\n"
      ],
      "text/latex": [
       "A tibble: 6 × 71\n",
       "\\begin{tabular}{lllllllllllllllllllll}\n",
       " Region & Module\\_01 & Module\\_02 & Module\\_03 & Module\\_04 & Module\\_05 & Module\\_06 & Module\\_07 & Module\\_08 & Module\\_09 & ⋯ & Module\\_65 & Module\\_66 & Module\\_67 & Module\\_68 & Module\\_71 & Module\\_72 & Module\\_73 & Module\\_74 & Module\\_75 & Module\\_77\\\\\n",
       " <chr> & <dbl> & <dbl> & <dbl> & <dbl> & <dbl> & <dbl> & <dbl> & <dbl> & <dbl> & ⋯ & <dbl> & <dbl> & <dbl> & <dbl> & <dbl> & <dbl> & <dbl> & <dbl> & <dbl> & <dbl>\\\\\n",
       "\\hline\n",
       "\t chr1:100036895-100039189 & NA &  1 & NA & NA & NA & NA & NA & NA & NA & ⋯ & NA & NA & NA & NA & NA & NA & NA & NA & NA & NA\\\\\n",
       "\t chr1:100048290-100048918 & NA & NA & NA & NA & NA & NA & NA & NA & NA & ⋯ & NA & NA & NA & NA & NA & NA & NA & NA & NA & NA\\\\\n",
       "\t chr1:100050225-100050529 & NA & NA & NA &  1 & NA & NA & NA & NA & NA & ⋯ & NA & NA & NA & NA & NA & NA & NA & NA & NA & NA\\\\\n",
       "\t chr1:100099076-100100488 & NA & NA & NA & NA & NA & NA & NA & NA & NA & ⋯ & NA & NA & NA & NA & NA & NA & NA & NA & NA & NA\\\\\n",
       "\t chr1:100130577-100130967 &  1 & NA &  1 & NA & NA & NA & NA & NA & NA & ⋯ & NA & NA & NA & NA & NA & NA & NA & NA & NA & NA\\\\\n",
       "\t chr1:100132375-100133491 & NA & NA & NA & NA & NA & NA & NA & NA & NA & ⋯ & NA & NA & NA & NA & NA & NA & NA & NA & NA & NA\\\\\n",
       "\\end{tabular}\n"
      ],
      "text/markdown": [
       "\n",
       "A tibble: 6 × 71\n",
       "\n",
       "| Region &lt;chr&gt; | Module_01 &lt;dbl&gt; | Module_02 &lt;dbl&gt; | Module_03 &lt;dbl&gt; | Module_04 &lt;dbl&gt; | Module_05 &lt;dbl&gt; | Module_06 &lt;dbl&gt; | Module_07 &lt;dbl&gt; | Module_08 &lt;dbl&gt; | Module_09 &lt;dbl&gt; | ⋯ ⋯ | Module_65 &lt;dbl&gt; | Module_66 &lt;dbl&gt; | Module_67 &lt;dbl&gt; | Module_68 &lt;dbl&gt; | Module_71 &lt;dbl&gt; | Module_72 &lt;dbl&gt; | Module_73 &lt;dbl&gt; | Module_74 &lt;dbl&gt; | Module_75 &lt;dbl&gt; | Module_77 &lt;dbl&gt; |\n",
       "|---|---|---|---|---|---|---|---|---|---|---|---|---|---|---|---|---|---|---|---|---|\n",
       "| chr1:100036895-100039189 | NA |  1 | NA | NA | NA | NA | NA | NA | NA | ⋯ | NA | NA | NA | NA | NA | NA | NA | NA | NA | NA |\n",
       "| chr1:100048290-100048918 | NA | NA | NA | NA | NA | NA | NA | NA | NA | ⋯ | NA | NA | NA | NA | NA | NA | NA | NA | NA | NA |\n",
       "| chr1:100050225-100050529 | NA | NA | NA |  1 | NA | NA | NA | NA | NA | ⋯ | NA | NA | NA | NA | NA | NA | NA | NA | NA | NA |\n",
       "| chr1:100099076-100100488 | NA | NA | NA | NA | NA | NA | NA | NA | NA | ⋯ | NA | NA | NA | NA | NA | NA | NA | NA | NA | NA |\n",
       "| chr1:100130577-100130967 |  1 | NA |  1 | NA | NA | NA | NA | NA | NA | ⋯ | NA | NA | NA | NA | NA | NA | NA | NA | NA | NA |\n",
       "| chr1:100132375-100133491 | NA | NA | NA | NA | NA | NA | NA | NA | NA | ⋯ | NA | NA | NA | NA | NA | NA | NA | NA | NA | NA |\n",
       "\n"
      ],
      "text/plain": [
       "  Region                   Module_01 Module_02 Module_03 Module_04 Module_05\n",
       "1 chr1:100036895-100039189 NA         1        NA        NA        NA       \n",
       "2 chr1:100048290-100048918 NA        NA        NA        NA        NA       \n",
       "3 chr1:100050225-100050529 NA        NA        NA         1        NA       \n",
       "4 chr1:100099076-100100488 NA        NA        NA        NA        NA       \n",
       "5 chr1:100130577-100130967  1        NA         1        NA        NA       \n",
       "6 chr1:100132375-100133491 NA        NA        NA        NA        NA       \n",
       "  Module_06 Module_07 Module_08 Module_09 ⋯ Module_65 Module_66 Module_67\n",
       "1 NA        NA        NA        NA        ⋯ NA        NA        NA       \n",
       "2 NA        NA        NA        NA        ⋯ NA        NA        NA       \n",
       "3 NA        NA        NA        NA        ⋯ NA        NA        NA       \n",
       "4 NA        NA        NA        NA        ⋯ NA        NA        NA       \n",
       "5 NA        NA        NA        NA        ⋯ NA        NA        NA       \n",
       "6 NA        NA        NA        NA        ⋯ NA        NA        NA       \n",
       "  Module_68 Module_71 Module_72 Module_73 Module_74 Module_75 Module_77\n",
       "1 NA        NA        NA        NA        NA        NA        NA       \n",
       "2 NA        NA        NA        NA        NA        NA        NA       \n",
       "3 NA        NA        NA        NA        NA        NA        NA       \n",
       "4 NA        NA        NA        NA        NA        NA        NA       \n",
       "5 NA        NA        NA        NA        NA        NA        NA       \n",
       "6 NA        NA        NA        NA        NA        NA        NA       "
      ]
     },
     "metadata": {},
     "output_type": "display_data"
    }
   ],
   "source": [
    "dat = dat_region_annot_tfmodule\n",
    "dat = dat %>% \n",
    "    dplyr::select(Region, Label) %>%\n",
    "    dplyr::mutate(Value = 1) %>%\n",
    "    tidyr::spread(Label, Value)\n",
    "\n",
    "dat_region_annot = dat\n",
    "print(dim(dat))\n",
    "head(dat)"
   ]
  },
  {
   "cell_type": "code",
   "execution_count": 9,
   "id": "088f6cc4-54ca-436d-92b0-7b509c3b9424",
   "metadata": {},
   "outputs": [
    {
     "name": "stdout",
     "output_type": "stream",
     "text": [
      "[1] 60618    72\n"
     ]
    },
    {
     "data": {
      "text/html": [
       "<table class=\"dataframe\">\n",
       "<caption>A tibble: 6 × 72</caption>\n",
       "<thead>\n",
       "\t<tr><th scope=col>Region</th><th scope=col>Score</th><th scope=col>Module_01</th><th scope=col>Module_02</th><th scope=col>Module_03</th><th scope=col>Module_04</th><th scope=col>Module_05</th><th scope=col>Module_06</th><th scope=col>Module_07</th><th scope=col>Module_08</th><th scope=col>⋯</th><th scope=col>Module_65</th><th scope=col>Module_66</th><th scope=col>Module_67</th><th scope=col>Module_68</th><th scope=col>Module_71</th><th scope=col>Module_72</th><th scope=col>Module_73</th><th scope=col>Module_74</th><th scope=col>Module_75</th><th scope=col>Module_77</th></tr>\n",
       "\t<tr><th scope=col>&lt;chr&gt;</th><th scope=col>&lt;dbl&gt;</th><th scope=col>&lt;dbl&gt;</th><th scope=col>&lt;dbl&gt;</th><th scope=col>&lt;dbl&gt;</th><th scope=col>&lt;dbl&gt;</th><th scope=col>&lt;dbl&gt;</th><th scope=col>&lt;dbl&gt;</th><th scope=col>&lt;dbl&gt;</th><th scope=col>&lt;dbl&gt;</th><th scope=col>⋯</th><th scope=col>&lt;dbl&gt;</th><th scope=col>&lt;dbl&gt;</th><th scope=col>&lt;dbl&gt;</th><th scope=col>&lt;dbl&gt;</th><th scope=col>&lt;dbl&gt;</th><th scope=col>&lt;dbl&gt;</th><th scope=col>&lt;dbl&gt;</th><th scope=col>&lt;dbl&gt;</th><th scope=col>&lt;dbl&gt;</th><th scope=col>&lt;dbl&gt;</th></tr>\n",
       "</thead>\n",
       "<tbody>\n",
       "\t<tr><td>chr1:100036895-100039189</td><td>0.93374355</td><td>0</td><td>1</td><td>0</td><td>0</td><td>0</td><td>0</td><td>0</td><td>0</td><td>⋯</td><td>0</td><td>0</td><td>0</td><td>0</td><td>0</td><td>0</td><td>0</td><td>0</td><td>0</td><td>0</td></tr>\n",
       "\t<tr><td>chr1:100048290-100048918</td><td>0.03264432</td><td>0</td><td>0</td><td>0</td><td>0</td><td>0</td><td>0</td><td>0</td><td>0</td><td>⋯</td><td>0</td><td>0</td><td>0</td><td>0</td><td>0</td><td>0</td><td>0</td><td>0</td><td>0</td><td>0</td></tr>\n",
       "\t<tr><td>chr1:100050225-100050529</td><td>0.54100817</td><td>0</td><td>0</td><td>0</td><td>1</td><td>0</td><td>0</td><td>0</td><td>0</td><td>⋯</td><td>0</td><td>0</td><td>0</td><td>0</td><td>0</td><td>0</td><td>0</td><td>0</td><td>0</td><td>0</td></tr>\n",
       "\t<tr><td>chr1:100132375-100133491</td><td>0.91814588</td><td>0</td><td>0</td><td>0</td><td>0</td><td>0</td><td>0</td><td>0</td><td>0</td><td>⋯</td><td>0</td><td>0</td><td>0</td><td>0</td><td>0</td><td>0</td><td>0</td><td>0</td><td>0</td><td>0</td></tr>\n",
       "\t<tr><td>chr1:10015258-10016191  </td><td>0.16646046</td><td>0</td><td>0</td><td>0</td><td>0</td><td>0</td><td>0</td><td>0</td><td>0</td><td>⋯</td><td>0</td><td>0</td><td>0</td><td>0</td><td>0</td><td>0</td><td>0</td><td>0</td><td>0</td><td>0</td></tr>\n",
       "\t<tr><td>chr1:100248956-100250290</td><td>0.72932407</td><td>1</td><td>0</td><td>0</td><td>0</td><td>0</td><td>1</td><td>0</td><td>0</td><td>⋯</td><td>0</td><td>0</td><td>0</td><td>0</td><td>0</td><td>0</td><td>0</td><td>0</td><td>0</td><td>0</td></tr>\n",
       "</tbody>\n",
       "</table>\n"
      ],
      "text/latex": [
       "A tibble: 6 × 72\n",
       "\\begin{tabular}{lllllllllllllllllllll}\n",
       " Region & Score & Module\\_01 & Module\\_02 & Module\\_03 & Module\\_04 & Module\\_05 & Module\\_06 & Module\\_07 & Module\\_08 & ⋯ & Module\\_65 & Module\\_66 & Module\\_67 & Module\\_68 & Module\\_71 & Module\\_72 & Module\\_73 & Module\\_74 & Module\\_75 & Module\\_77\\\\\n",
       " <chr> & <dbl> & <dbl> & <dbl> & <dbl> & <dbl> & <dbl> & <dbl> & <dbl> & <dbl> & ⋯ & <dbl> & <dbl> & <dbl> & <dbl> & <dbl> & <dbl> & <dbl> & <dbl> & <dbl> & <dbl>\\\\\n",
       "\\hline\n",
       "\t chr1:100036895-100039189 & 0.93374355 & 0 & 1 & 0 & 0 & 0 & 0 & 0 & 0 & ⋯ & 0 & 0 & 0 & 0 & 0 & 0 & 0 & 0 & 0 & 0\\\\\n",
       "\t chr1:100048290-100048918 & 0.03264432 & 0 & 0 & 0 & 0 & 0 & 0 & 0 & 0 & ⋯ & 0 & 0 & 0 & 0 & 0 & 0 & 0 & 0 & 0 & 0\\\\\n",
       "\t chr1:100050225-100050529 & 0.54100817 & 0 & 0 & 0 & 1 & 0 & 0 & 0 & 0 & ⋯ & 0 & 0 & 0 & 0 & 0 & 0 & 0 & 0 & 0 & 0\\\\\n",
       "\t chr1:100132375-100133491 & 0.91814588 & 0 & 0 & 0 & 0 & 0 & 0 & 0 & 0 & ⋯ & 0 & 0 & 0 & 0 & 0 & 0 & 0 & 0 & 0 & 0\\\\\n",
       "\t chr1:10015258-10016191   & 0.16646046 & 0 & 0 & 0 & 0 & 0 & 0 & 0 & 0 & ⋯ & 0 & 0 & 0 & 0 & 0 & 0 & 0 & 0 & 0 & 0\\\\\n",
       "\t chr1:100248956-100250290 & 0.72932407 & 1 & 0 & 0 & 0 & 0 & 1 & 0 & 0 & ⋯ & 0 & 0 & 0 & 0 & 0 & 0 & 0 & 0 & 0 & 0\\\\\n",
       "\\end{tabular}\n"
      ],
      "text/markdown": [
       "\n",
       "A tibble: 6 × 72\n",
       "\n",
       "| Region &lt;chr&gt; | Score &lt;dbl&gt; | Module_01 &lt;dbl&gt; | Module_02 &lt;dbl&gt; | Module_03 &lt;dbl&gt; | Module_04 &lt;dbl&gt; | Module_05 &lt;dbl&gt; | Module_06 &lt;dbl&gt; | Module_07 &lt;dbl&gt; | Module_08 &lt;dbl&gt; | ⋯ ⋯ | Module_65 &lt;dbl&gt; | Module_66 &lt;dbl&gt; | Module_67 &lt;dbl&gt; | Module_68 &lt;dbl&gt; | Module_71 &lt;dbl&gt; | Module_72 &lt;dbl&gt; | Module_73 &lt;dbl&gt; | Module_74 &lt;dbl&gt; | Module_75 &lt;dbl&gt; | Module_77 &lt;dbl&gt; |\n",
       "|---|---|---|---|---|---|---|---|---|---|---|---|---|---|---|---|---|---|---|---|---|\n",
       "| chr1:100036895-100039189 | 0.93374355 | 0 | 1 | 0 | 0 | 0 | 0 | 0 | 0 | ⋯ | 0 | 0 | 0 | 0 | 0 | 0 | 0 | 0 | 0 | 0 |\n",
       "| chr1:100048290-100048918 | 0.03264432 | 0 | 0 | 0 | 0 | 0 | 0 | 0 | 0 | ⋯ | 0 | 0 | 0 | 0 | 0 | 0 | 0 | 0 | 0 | 0 |\n",
       "| chr1:100050225-100050529 | 0.54100817 | 0 | 0 | 0 | 1 | 0 | 0 | 0 | 0 | ⋯ | 0 | 0 | 0 | 0 | 0 | 0 | 0 | 0 | 0 | 0 |\n",
       "| chr1:100132375-100133491 | 0.91814588 | 0 | 0 | 0 | 0 | 0 | 0 | 0 | 0 | ⋯ | 0 | 0 | 0 | 0 | 0 | 0 | 0 | 0 | 0 | 0 |\n",
       "| chr1:10015258-10016191   | 0.16646046 | 0 | 0 | 0 | 0 | 0 | 0 | 0 | 0 | ⋯ | 0 | 0 | 0 | 0 | 0 | 0 | 0 | 0 | 0 | 0 |\n",
       "| chr1:100248956-100250290 | 0.72932407 | 1 | 0 | 0 | 0 | 0 | 1 | 0 | 0 | ⋯ | 0 | 0 | 0 | 0 | 0 | 0 | 0 | 0 | 0 | 0 |\n",
       "\n"
      ],
      "text/plain": [
       "  Region                   Score      Module_01 Module_02 Module_03 Module_04\n",
       "1 chr1:100036895-100039189 0.93374355 0         1         0         0        \n",
       "2 chr1:100048290-100048918 0.03264432 0         0         0         0        \n",
       "3 chr1:100050225-100050529 0.54100817 0         0         0         1        \n",
       "4 chr1:100132375-100133491 0.91814588 0         0         0         0        \n",
       "5 chr1:10015258-10016191   0.16646046 0         0         0         0        \n",
       "6 chr1:100248956-100250290 0.72932407 1         0         0         0        \n",
       "  Module_05 Module_06 Module_07 Module_08 ⋯ Module_65 Module_66 Module_67\n",
       "1 0         0         0         0         ⋯ 0         0         0        \n",
       "2 0         0         0         0         ⋯ 0         0         0        \n",
       "3 0         0         0         0         ⋯ 0         0         0        \n",
       "4 0         0         0         0         ⋯ 0         0         0        \n",
       "5 0         0         0         0         ⋯ 0         0         0        \n",
       "6 0         1         0         0         ⋯ 0         0         0        \n",
       "  Module_68 Module_71 Module_72 Module_73 Module_74 Module_75 Module_77\n",
       "1 0         0         0         0         0         0         0        \n",
       "2 0         0         0         0         0         0         0        \n",
       "3 0         0         0         0         0         0         0        \n",
       "4 0         0         0         0         0         0         0        \n",
       "5 0         0         0         0         0         0         0        \n",
       "6 0         0         0         0         0         0         0        "
      ]
     },
     "metadata": {},
     "output_type": "display_data"
    }
   ],
   "source": [
    "dat = dplyr::left_join(\n",
    "    dat_region_score, \n",
    "    dat_region_annot,\n",
    "    by = c(\"Region\")\n",
    ")\n",
    "dat = dat %>% replace(is.na(.), 0)\n",
    "\n",
    "dat_region_merge = dat\n",
    "print(dim(dat))\n",
    "head(dat)"
   ]
  },
  {
   "cell_type": "code",
   "execution_count": null,
   "id": "7a087629-db7e-447d-b6cc-efacb919cd74",
   "metadata": {},
   "outputs": [],
   "source": []
  },
  {
   "cell_type": "code",
   "execution_count": null,
   "id": "9b6d6dbb-d04c-441f-9fdd-512d385c78d8",
   "metadata": {},
   "outputs": [],
   "source": []
  },
  {
   "cell_type": "code",
   "execution_count": null,
   "id": "69845d91-c154-4217-8a18-c02abc4ec3e8",
   "metadata": {},
   "outputs": [],
   "source": []
  },
  {
   "cell_type": "code",
   "execution_count": 10,
   "id": "18b133c6-b296-4755-a1d9-4c862d6ffcbe",
   "metadata": {},
   "outputs": [
    {
     "name": "stdout",
     "output_type": "stream",
     "text": [
      "[1] 4243260       4\n"
     ]
    },
    {
     "data": {
      "text/html": [
       "<table class=\"dataframe\">\n",
       "<caption>A tibble: 6 × 4</caption>\n",
       "<thead>\n",
       "\t<tr><th scope=col>Region</th><th scope=col>Score</th><th scope=col>Group</th><th scope=col>Label</th></tr>\n",
       "\t<tr><th scope=col>&lt;chr&gt;</th><th scope=col>&lt;dbl&gt;</th><th scope=col>&lt;chr&gt;</th><th scope=col>&lt;dbl&gt;</th></tr>\n",
       "</thead>\n",
       "<tbody>\n",
       "\t<tr><td>chr1:100036895-100039189</td><td>0.93374355</td><td>Module_01</td><td>0</td></tr>\n",
       "\t<tr><td>chr1:100048290-100048918</td><td>0.03264432</td><td>Module_01</td><td>0</td></tr>\n",
       "\t<tr><td>chr1:100050225-100050529</td><td>0.54100817</td><td>Module_01</td><td>0</td></tr>\n",
       "\t<tr><td>chr1:100132375-100133491</td><td>0.91814588</td><td>Module_01</td><td>0</td></tr>\n",
       "\t<tr><td>chr1:10015258-10016191  </td><td>0.16646046</td><td>Module_01</td><td>0</td></tr>\n",
       "\t<tr><td>chr1:100248956-100250290</td><td>0.72932407</td><td>Module_01</td><td>1</td></tr>\n",
       "</tbody>\n",
       "</table>\n"
      ],
      "text/latex": [
       "A tibble: 6 × 4\n",
       "\\begin{tabular}{llll}\n",
       " Region & Score & Group & Label\\\\\n",
       " <chr> & <dbl> & <chr> & <dbl>\\\\\n",
       "\\hline\n",
       "\t chr1:100036895-100039189 & 0.93374355 & Module\\_01 & 0\\\\\n",
       "\t chr1:100048290-100048918 & 0.03264432 & Module\\_01 & 0\\\\\n",
       "\t chr1:100050225-100050529 & 0.54100817 & Module\\_01 & 0\\\\\n",
       "\t chr1:100132375-100133491 & 0.91814588 & Module\\_01 & 0\\\\\n",
       "\t chr1:10015258-10016191   & 0.16646046 & Module\\_01 & 0\\\\\n",
       "\t chr1:100248956-100250290 & 0.72932407 & Module\\_01 & 1\\\\\n",
       "\\end{tabular}\n"
      ],
      "text/markdown": [
       "\n",
       "A tibble: 6 × 4\n",
       "\n",
       "| Region &lt;chr&gt; | Score &lt;dbl&gt; | Group &lt;chr&gt; | Label &lt;dbl&gt; |\n",
       "|---|---|---|---|\n",
       "| chr1:100036895-100039189 | 0.93374355 | Module_01 | 0 |\n",
       "| chr1:100048290-100048918 | 0.03264432 | Module_01 | 0 |\n",
       "| chr1:100050225-100050529 | 0.54100817 | Module_01 | 0 |\n",
       "| chr1:100132375-100133491 | 0.91814588 | Module_01 | 0 |\n",
       "| chr1:10015258-10016191   | 0.16646046 | Module_01 | 0 |\n",
       "| chr1:100248956-100250290 | 0.72932407 | Module_01 | 1 |\n",
       "\n"
      ],
      "text/plain": [
       "  Region                   Score      Group     Label\n",
       "1 chr1:100036895-100039189 0.93374355 Module_01 0    \n",
       "2 chr1:100048290-100048918 0.03264432 Module_01 0    \n",
       "3 chr1:100050225-100050529 0.54100817 Module_01 0    \n",
       "4 chr1:100132375-100133491 0.91814588 Module_01 0    \n",
       "5 chr1:10015258-10016191   0.16646046 Module_01 0    \n",
       "6 chr1:100248956-100250290 0.72932407 Module_01 1    "
      ]
     },
     "metadata": {},
     "output_type": "display_data"
    }
   ],
   "source": [
    "dat = dat_region_merge\n",
    "dat = dat %>% tidyr::gather(Group, Label, -Region, -Score)\n",
    "\n",
    "dat_region_arrange = dat\n",
    "print(dim(dat))\n",
    "head(dat)"
   ]
  },
  {
   "cell_type": "code",
   "execution_count": 11,
   "id": "b5f95ee8-bc7a-4fd9-a1d0-70d8d2815107",
   "metadata": {},
   "outputs": [
    {
     "name": "stdout",
     "output_type": "stream",
     "text": [
      "[1] 140   5\n"
     ]
    },
    {
     "data": {
      "text/html": [
       "<table class=\"dataframe\">\n",
       "<caption>A tibble: 6 × 5</caption>\n",
       "<thead>\n",
       "\t<tr><th scope=col>Group</th><th scope=col>Label</th><th scope=col>Count</th><th scope=col>Median</th><th scope=col>IQR</th></tr>\n",
       "\t<tr><th scope=col>&lt;chr&gt;</th><th scope=col>&lt;dbl&gt;</th><th scope=col>&lt;int&gt;</th><th scope=col>&lt;dbl&gt;</th><th scope=col>&lt;dbl&gt;</th></tr>\n",
       "</thead>\n",
       "<tbody>\n",
       "\t<tr><td>Module_01</td><td>0</td><td>55819</td><td>0.4794890</td><td>0.3304615</td></tr>\n",
       "\t<tr><td>Module_01</td><td>1</td><td> 4799</td><td>0.5790634</td><td>0.3251248</td></tr>\n",
       "\t<tr><td>Module_02</td><td>0</td><td>50936</td><td>0.5073438</td><td>0.3335093</td></tr>\n",
       "\t<tr><td>Module_02</td><td>1</td><td> 9682</td><td>0.3927478</td><td>0.2773365</td></tr>\n",
       "\t<tr><td>Module_03</td><td>0</td><td>58315</td><td>0.4844436</td><td>0.3320933</td></tr>\n",
       "\t<tr><td>Module_03</td><td>1</td><td> 2303</td><td>0.5625887</td><td>0.3234339</td></tr>\n",
       "</tbody>\n",
       "</table>\n"
      ],
      "text/latex": [
       "A tibble: 6 × 5\n",
       "\\begin{tabular}{lllll}\n",
       " Group & Label & Count & Median & IQR\\\\\n",
       " <chr> & <dbl> & <int> & <dbl> & <dbl>\\\\\n",
       "\\hline\n",
       "\t Module\\_01 & 0 & 55819 & 0.4794890 & 0.3304615\\\\\n",
       "\t Module\\_01 & 1 &  4799 & 0.5790634 & 0.3251248\\\\\n",
       "\t Module\\_02 & 0 & 50936 & 0.5073438 & 0.3335093\\\\\n",
       "\t Module\\_02 & 1 &  9682 & 0.3927478 & 0.2773365\\\\\n",
       "\t Module\\_03 & 0 & 58315 & 0.4844436 & 0.3320933\\\\\n",
       "\t Module\\_03 & 1 &  2303 & 0.5625887 & 0.3234339\\\\\n",
       "\\end{tabular}\n"
      ],
      "text/markdown": [
       "\n",
       "A tibble: 6 × 5\n",
       "\n",
       "| Group &lt;chr&gt; | Label &lt;dbl&gt; | Count &lt;int&gt; | Median &lt;dbl&gt; | IQR &lt;dbl&gt; |\n",
       "|---|---|---|---|---|\n",
       "| Module_01 | 0 | 55819 | 0.4794890 | 0.3304615 |\n",
       "| Module_01 | 1 |  4799 | 0.5790634 | 0.3251248 |\n",
       "| Module_02 | 0 | 50936 | 0.5073438 | 0.3335093 |\n",
       "| Module_02 | 1 |  9682 | 0.3927478 | 0.2773365 |\n",
       "| Module_03 | 0 | 58315 | 0.4844436 | 0.3320933 |\n",
       "| Module_03 | 1 |  2303 | 0.5625887 | 0.3234339 |\n",
       "\n"
      ],
      "text/plain": [
       "  Group     Label Count Median    IQR      \n",
       "1 Module_01 0     55819 0.4794890 0.3304615\n",
       "2 Module_01 1      4799 0.5790634 0.3251248\n",
       "3 Module_02 0     50936 0.5073438 0.3335093\n",
       "4 Module_02 1      9682 0.3927478 0.2773365\n",
       "5 Module_03 0     58315 0.4844436 0.3320933\n",
       "6 Module_03 1      2303 0.5625887 0.3234339"
      ]
     },
     "metadata": {},
     "output_type": "display_data"
    }
   ],
   "source": [
    "dat = dat_region_arrange\n",
    "dat = dat %>%\n",
    "    dplyr::group_by(Group, Label) %>%\n",
    "    dplyr::summarise(\n",
    "        Count   = n(),\n",
    "        Median  = median(Score),\n",
    "        IQR     = IQR(Score),\n",
    "        .groups = \"drop\"\n",
    "    )\n",
    "\n",
    "dat_des_summary = dat\n",
    "print(dim(dat))\n",
    "head(dat)"
   ]
  },
  {
   "cell_type": "code",
   "execution_count": 12,
   "id": "021a8850-20a1-4a4e-8ebd-08ca24c9c363",
   "metadata": {},
   "outputs": [
    {
     "name": "stdout",
     "output_type": "stream",
     "text": [
      "[1] 70  4\n"
     ]
    },
    {
     "data": {
      "text/html": [
       "<table class=\"dataframe\">\n",
       "<caption>A tibble: 6 × 4</caption>\n",
       "<thead>\n",
       "\t<tr><th scope=col>Group</th><th scope=col>Label_0</th><th scope=col>Label_1</th><th scope=col>Diff</th></tr>\n",
       "\t<tr><th scope=col>&lt;chr&gt;</th><th scope=col>&lt;dbl&gt;</th><th scope=col>&lt;dbl&gt;</th><th scope=col>&lt;dbl&gt;</th></tr>\n",
       "</thead>\n",
       "<tbody>\n",
       "\t<tr><td>Module_01</td><td>0.4794890</td><td>0.5790634</td><td> 0.09957438</td></tr>\n",
       "\t<tr><td>Module_02</td><td>0.5073438</td><td>0.3927478</td><td>-0.11459605</td></tr>\n",
       "\t<tr><td>Module_03</td><td>0.4844436</td><td>0.5625887</td><td> 0.07814511</td></tr>\n",
       "\t<tr><td>Module_04</td><td>0.4818481</td><td>0.5582858</td><td> 0.07643769</td></tr>\n",
       "\t<tr><td>Module_05</td><td>0.4841026</td><td>0.5635152</td><td> 0.07941261</td></tr>\n",
       "\t<tr><td>Module_06</td><td>0.4781982</td><td>0.5741446</td><td> 0.09594647</td></tr>\n",
       "</tbody>\n",
       "</table>\n"
      ],
      "text/latex": [
       "A tibble: 6 × 4\n",
       "\\begin{tabular}{llll}\n",
       " Group & Label\\_0 & Label\\_1 & Diff\\\\\n",
       " <chr> & <dbl> & <dbl> & <dbl>\\\\\n",
       "\\hline\n",
       "\t Module\\_01 & 0.4794890 & 0.5790634 &  0.09957438\\\\\n",
       "\t Module\\_02 & 0.5073438 & 0.3927478 & -0.11459605\\\\\n",
       "\t Module\\_03 & 0.4844436 & 0.5625887 &  0.07814511\\\\\n",
       "\t Module\\_04 & 0.4818481 & 0.5582858 &  0.07643769\\\\\n",
       "\t Module\\_05 & 0.4841026 & 0.5635152 &  0.07941261\\\\\n",
       "\t Module\\_06 & 0.4781982 & 0.5741446 &  0.09594647\\\\\n",
       "\\end{tabular}\n"
      ],
      "text/markdown": [
       "\n",
       "A tibble: 6 × 4\n",
       "\n",
       "| Group &lt;chr&gt; | Label_0 &lt;dbl&gt; | Label_1 &lt;dbl&gt; | Diff &lt;dbl&gt; |\n",
       "|---|---|---|---|\n",
       "| Module_01 | 0.4794890 | 0.5790634 |  0.09957438 |\n",
       "| Module_02 | 0.5073438 | 0.3927478 | -0.11459605 |\n",
       "| Module_03 | 0.4844436 | 0.5625887 |  0.07814511 |\n",
       "| Module_04 | 0.4818481 | 0.5582858 |  0.07643769 |\n",
       "| Module_05 | 0.4841026 | 0.5635152 |  0.07941261 |\n",
       "| Module_06 | 0.4781982 | 0.5741446 |  0.09594647 |\n",
       "\n"
      ],
      "text/plain": [
       "  Group     Label_0   Label_1   Diff       \n",
       "1 Module_01 0.4794890 0.5790634  0.09957438\n",
       "2 Module_02 0.5073438 0.3927478 -0.11459605\n",
       "3 Module_03 0.4844436 0.5625887  0.07814511\n",
       "4 Module_04 0.4818481 0.5582858  0.07643769\n",
       "5 Module_05 0.4841026 0.5635152  0.07941261\n",
       "6 Module_06 0.4781982 0.5741446  0.09594647"
      ]
     },
     "metadata": {},
     "output_type": "display_data"
    }
   ],
   "source": [
    "dat = dat_des_summary\n",
    "dat = dat %>% \n",
    "    dplyr::mutate(Label = paste(\"Label\", Label, sep = \"_\")) %>%\n",
    "    dplyr::select(Group, Label, Median) %>%\n",
    "    tidyr::spread(Label, Median) %>%\n",
    "    dplyr::mutate(Diff = Label_1 - Label_0)\n",
    "\n",
    "dat_dif_summary = dat\n",
    "print(dim(dat))\n",
    "head(dat)"
   ]
  },
  {
   "cell_type": "code",
   "execution_count": 13,
   "id": "e2495bcc-add2-4d78-a7d3-510675476d92",
   "metadata": {},
   "outputs": [
    {
     "name": "stdout",
     "output_type": "stream",
     "text": [
      "[1] 70\n",
      " [1] \"Module_01\" \"Module_02\" \"Module_03\" \"Module_04\" \"Module_05\" \"Module_06\"\n",
      " [7] \"Module_07\" \"Module_08\" \"Module_09\" \"Module_10\" \"Module_11\" \"Module_12\"\n",
      "[13] \"Module_13\" \"Module_14\" \"Module_15\" \"Module_16\" \"Module_17\" \"Module_18\"\n",
      "[19] \"Module_19\" \"Module_20\" \"Module_21\" \"Module_22\" \"Module_23\" \"Module_24\"\n",
      "[25] \"Module_25\" \"Module_26\" \"Module_27\" \"Module_28\" \"Module_29\" \"Module_30\"\n",
      "[31] \"Module_31\" \"Module_33\" \"Module_34\" \"Module_35\" \"Module_36\" \"Module_37\"\n",
      "[37] \"Module_39\" \"Module_40\" \"Module_41\" \"Module_42\" \"Module_43\" \"Module_44\"\n",
      "[43] \"Module_45\" \"Module_46\" \"Module_47\" \"Module_48\" \"Module_49\" \"Module_50\"\n",
      "[49] \"Module_51\" \"Module_52\" \"Module_53\" \"Module_54\" \"Module_55\" \"Module_56\"\n",
      "[55] \"Module_57\" \"Module_58\" \"Module_59\" \"Module_61\" \"Module_63\" \"Module_64\"\n",
      "[61] \"Module_65\" \"Module_66\" \"Module_67\" \"Module_68\" \"Module_71\" \"Module_72\"\n",
      "[67] \"Module_73\" \"Module_74\" \"Module_75\" \"Module_77\"\n"
     ]
    }
   ],
   "source": [
    "dat = dat_region_arrange\n",
    "lst = split(dat, dat$Group)\n",
    "lst = lapply(lst, function(dat){\n",
    "    res = wilcox.test(Score ~ Label, data = dat, exact = FALSE)\n",
    "    return(res)\n",
    "})\n",
    "lst_fit_wilcox = lst\n",
    "print(length(lst))\n",
    "print(names(lst))"
   ]
  },
  {
   "cell_type": "code",
   "execution_count": 14,
   "id": "f7c29e8f-ce77-4e1c-b253-3ff0cb0746c1",
   "metadata": {},
   "outputs": [
    {
     "name": "stdout",
     "output_type": "stream",
     "text": [
      "\n",
      "\tWilcoxon rank sum test with continuity correction\n",
      "\n",
      "data:  Score by Label\n",
      "W = 309488138, p-value < 2.2e-16\n",
      "alternative hypothesis: true location shift is not equal to 0\n",
      "\n",
      "[1] 0\n"
     ]
    }
   ],
   "source": [
    "dat = dat_region_arrange\n",
    "lst = split(dat, dat$Group)\n",
    "\n",
    "dat = lst[[2]]\n",
    "res = wilcox.test(Score ~ Label, data = dat, exact = FALSE)\n",
    "print(res)\n",
    "print(res$p.value)"
   ]
  },
  {
   "cell_type": "code",
   "execution_count": 15,
   "id": "1be50720-260b-42dc-9025-c62c1d654a05",
   "metadata": {},
   "outputs": [
    {
     "name": "stdout",
     "output_type": "stream",
     "text": [
      "[1] 70  4\n"
     ]
    },
    {
     "data": {
      "text/html": [
       "<table class=\"dataframe\">\n",
       "<caption>A data.frame: 6 × 4</caption>\n",
       "<thead>\n",
       "\t<tr><th></th><th scope=col>Group</th><th scope=col>pval</th><th scope=col>padj</th><th scope=col>nlog10p</th></tr>\n",
       "\t<tr><th></th><th scope=col>&lt;chr&gt;</th><th scope=col>&lt;dbl&gt;</th><th scope=col>&lt;dbl&gt;</th><th scope=col>&lt;dbl&gt;</th></tr>\n",
       "</thead>\n",
       "<tbody>\n",
       "\t<tr><th scope=row>Module_01</th><td>Module_01</td><td>5.262701e-131</td><td>2.046606e-130</td><td>129.68897</td></tr>\n",
       "\t<tr><th scope=row>Module_02</th><td>Module_02</td><td> 0.000000e+00</td><td> 0.000000e+00</td><td>      Inf</td></tr>\n",
       "\t<tr><th scope=row>Module_03</th><td>Module_03</td><td> 1.571698e-43</td><td> 3.333906e-43</td><td> 42.47705</td></tr>\n",
       "\t<tr><th scope=row>Module_04</th><td>Module_04</td><td> 3.299061e-68</td><td> 8.553121e-68</td><td> 67.06788</td></tr>\n",
       "\t<tr><th scope=row>Module_05</th><td>Module_05</td><td> 1.745127e-43</td><td> 3.592909e-43</td><td> 42.44455</td></tr>\n",
       "\t<tr><th scope=row>Module_06</th><td>Module_06</td><td>1.023296e-140</td><td>4.213572e-140</td><td>139.37535</td></tr>\n",
       "</tbody>\n",
       "</table>\n"
      ],
      "text/latex": [
       "A data.frame: 6 × 4\n",
       "\\begin{tabular}{r|llll}\n",
       "  & Group & pval & padj & nlog10p\\\\\n",
       "  & <chr> & <dbl> & <dbl> & <dbl>\\\\\n",
       "\\hline\n",
       "\tModule\\_01 & Module\\_01 & 5.262701e-131 & 2.046606e-130 & 129.68897\\\\\n",
       "\tModule\\_02 & Module\\_02 &  0.000000e+00 &  0.000000e+00 &       Inf\\\\\n",
       "\tModule\\_03 & Module\\_03 &  1.571698e-43 &  3.333906e-43 &  42.47705\\\\\n",
       "\tModule\\_04 & Module\\_04 &  3.299061e-68 &  8.553121e-68 &  67.06788\\\\\n",
       "\tModule\\_05 & Module\\_05 &  1.745127e-43 &  3.592909e-43 &  42.44455\\\\\n",
       "\tModule\\_06 & Module\\_06 & 1.023296e-140 & 4.213572e-140 & 139.37535\\\\\n",
       "\\end{tabular}\n"
      ],
      "text/markdown": [
       "\n",
       "A data.frame: 6 × 4\n",
       "\n",
       "| <!--/--> | Group &lt;chr&gt; | pval &lt;dbl&gt; | padj &lt;dbl&gt; | nlog10p &lt;dbl&gt; |\n",
       "|---|---|---|---|---|\n",
       "| Module_01 | Module_01 | 5.262701e-131 | 2.046606e-130 | 129.68897 |\n",
       "| Module_02 | Module_02 |  0.000000e+00 |  0.000000e+00 |       Inf |\n",
       "| Module_03 | Module_03 |  1.571698e-43 |  3.333906e-43 |  42.47705 |\n",
       "| Module_04 | Module_04 |  3.299061e-68 |  8.553121e-68 |  67.06788 |\n",
       "| Module_05 | Module_05 |  1.745127e-43 |  3.592909e-43 |  42.44455 |\n",
       "| Module_06 | Module_06 | 1.023296e-140 | 4.213572e-140 | 139.37535 |\n",
       "\n"
      ],
      "text/plain": [
       "          Group     pval          padj          nlog10p  \n",
       "Module_01 Module_01 5.262701e-131 2.046606e-130 129.68897\n",
       "Module_02 Module_02  0.000000e+00  0.000000e+00       Inf\n",
       "Module_03 Module_03  1.571698e-43  3.333906e-43  42.47705\n",
       "Module_04 Module_04  3.299061e-68  8.553121e-68  67.06788\n",
       "Module_05 Module_05  1.745127e-43  3.592909e-43  42.44455\n",
       "Module_06 Module_06 1.023296e-140 4.213572e-140 139.37535"
      ]
     },
     "metadata": {},
     "output_type": "display_data"
    }
   ],
   "source": [
    "lst = lst_fit_wilcox\n",
    "lst = lapply(lst, function(res){res$p.value})\n",
    "vec = unlist(lst)\n",
    "\n",
    "dat = data.frame(Group = names(vec), pval = vec)\n",
    "dat = dat %>% \n",
    "    dplyr::mutate(padj    = p.adjust(pval, method = \"BH\")) %>%\n",
    "    dplyr::mutate(nlog10p = -log10(padj))\n",
    "\n",
    "dat_fit_summary = dat\n",
    "print(dim(dat))\n",
    "head(dat)"
   ]
  },
  {
   "cell_type": "code",
   "execution_count": 16,
   "id": "b97911e4-8537-45fe-b38e-b4bdf3277d01",
   "metadata": {},
   "outputs": [
    {
     "data": {
      "text/html": [
       "3"
      ],
      "text/latex": [
       "3"
      ],
      "text/markdown": [
       "3"
      ],
      "text/plain": [
       "[1] 3"
      ]
     },
     "metadata": {},
     "output_type": "display_data"
    }
   ],
   "source": [
    "-log10(0.001)"
   ]
  },
  {
   "cell_type": "code",
   "execution_count": 18,
   "id": "1acdc27f-d137-40f7-91fe-b5c7b81da4cc",
   "metadata": {},
   "outputs": [
    {
     "name": "stdout",
     "output_type": "stream",
     "text": [
      "[1] 70  7\n"
     ]
    },
    {
     "data": {
      "text/html": [
       "<table class=\"dataframe\">\n",
       "<caption>A tibble: 6 × 7</caption>\n",
       "<thead>\n",
       "\t<tr><th scope=col>Group</th><th scope=col>Label_0</th><th scope=col>Label_1</th><th scope=col>Diff</th><th scope=col>pval</th><th scope=col>padj</th><th scope=col>nlog10p</th></tr>\n",
       "\t<tr><th scope=col>&lt;chr&gt;</th><th scope=col>&lt;dbl&gt;</th><th scope=col>&lt;dbl&gt;</th><th scope=col>&lt;dbl&gt;</th><th scope=col>&lt;dbl&gt;</th><th scope=col>&lt;dbl&gt;</th><th scope=col>&lt;dbl&gt;</th></tr>\n",
       "</thead>\n",
       "<tbody>\n",
       "\t<tr><td>Module_01</td><td>0.4794890</td><td>0.5790634</td><td> 0.09957438</td><td>5.262701e-131</td><td>2.046606e-130</td><td>129.68897</td></tr>\n",
       "\t<tr><td>Module_02</td><td>0.5073438</td><td>0.3927478</td><td>-0.11459605</td><td> 0.000000e+00</td><td> 0.000000e+00</td><td>      Inf</td></tr>\n",
       "\t<tr><td>Module_03</td><td>0.4844436</td><td>0.5625887</td><td> 0.07814511</td><td> 1.571698e-43</td><td> 3.333906e-43</td><td> 42.47705</td></tr>\n",
       "\t<tr><td>Module_04</td><td>0.4818481</td><td>0.5582858</td><td> 0.07643769</td><td> 3.299061e-68</td><td> 8.553121e-68</td><td> 67.06788</td></tr>\n",
       "\t<tr><td>Module_05</td><td>0.4841026</td><td>0.5635152</td><td> 0.07941261</td><td> 1.745127e-43</td><td> 3.592909e-43</td><td> 42.44455</td></tr>\n",
       "\t<tr><td>Module_06</td><td>0.4781982</td><td>0.5741446</td><td> 0.09594647</td><td>1.023296e-140</td><td>4.213572e-140</td><td>139.37535</td></tr>\n",
       "</tbody>\n",
       "</table>\n"
      ],
      "text/latex": [
       "A tibble: 6 × 7\n",
       "\\begin{tabular}{lllllll}\n",
       " Group & Label\\_0 & Label\\_1 & Diff & pval & padj & nlog10p\\\\\n",
       " <chr> & <dbl> & <dbl> & <dbl> & <dbl> & <dbl> & <dbl>\\\\\n",
       "\\hline\n",
       "\t Module\\_01 & 0.4794890 & 0.5790634 &  0.09957438 & 5.262701e-131 & 2.046606e-130 & 129.68897\\\\\n",
       "\t Module\\_02 & 0.5073438 & 0.3927478 & -0.11459605 &  0.000000e+00 &  0.000000e+00 &       Inf\\\\\n",
       "\t Module\\_03 & 0.4844436 & 0.5625887 &  0.07814511 &  1.571698e-43 &  3.333906e-43 &  42.47705\\\\\n",
       "\t Module\\_04 & 0.4818481 & 0.5582858 &  0.07643769 &  3.299061e-68 &  8.553121e-68 &  67.06788\\\\\n",
       "\t Module\\_05 & 0.4841026 & 0.5635152 &  0.07941261 &  1.745127e-43 &  3.592909e-43 &  42.44455\\\\\n",
       "\t Module\\_06 & 0.4781982 & 0.5741446 &  0.09594647 & 1.023296e-140 & 4.213572e-140 & 139.37535\\\\\n",
       "\\end{tabular}\n"
      ],
      "text/markdown": [
       "\n",
       "A tibble: 6 × 7\n",
       "\n",
       "| Group &lt;chr&gt; | Label_0 &lt;dbl&gt; | Label_1 &lt;dbl&gt; | Diff &lt;dbl&gt; | pval &lt;dbl&gt; | padj &lt;dbl&gt; | nlog10p &lt;dbl&gt; |\n",
       "|---|---|---|---|---|---|---|\n",
       "| Module_01 | 0.4794890 | 0.5790634 |  0.09957438 | 5.262701e-131 | 2.046606e-130 | 129.68897 |\n",
       "| Module_02 | 0.5073438 | 0.3927478 | -0.11459605 |  0.000000e+00 |  0.000000e+00 |       Inf |\n",
       "| Module_03 | 0.4844436 | 0.5625887 |  0.07814511 |  1.571698e-43 |  3.333906e-43 |  42.47705 |\n",
       "| Module_04 | 0.4818481 | 0.5582858 |  0.07643769 |  3.299061e-68 |  8.553121e-68 |  67.06788 |\n",
       "| Module_05 | 0.4841026 | 0.5635152 |  0.07941261 |  1.745127e-43 |  3.592909e-43 |  42.44455 |\n",
       "| Module_06 | 0.4781982 | 0.5741446 |  0.09594647 | 1.023296e-140 | 4.213572e-140 | 139.37535 |\n",
       "\n"
      ],
      "text/plain": [
       "  Group     Label_0   Label_1   Diff        pval          padj         \n",
       "1 Module_01 0.4794890 0.5790634  0.09957438 5.262701e-131 2.046606e-130\n",
       "2 Module_02 0.5073438 0.3927478 -0.11459605  0.000000e+00  0.000000e+00\n",
       "3 Module_03 0.4844436 0.5625887  0.07814511  1.571698e-43  3.333906e-43\n",
       "4 Module_04 0.4818481 0.5582858  0.07643769  3.299061e-68  8.553121e-68\n",
       "5 Module_05 0.4841026 0.5635152  0.07941261  1.745127e-43  3.592909e-43\n",
       "6 Module_06 0.4781982 0.5741446  0.09594647 1.023296e-140 4.213572e-140\n",
       "  nlog10p  \n",
       "1 129.68897\n",
       "2       Inf\n",
       "3  42.47705\n",
       "4  67.06788\n",
       "5  42.44455\n",
       "6 139.37535"
      ]
     },
     "metadata": {},
     "output_type": "display_data"
    }
   ],
   "source": [
    "dat = dplyr::left_join(\n",
    "    dat_dif_summary, \n",
    "    dat_fit_summary,\n",
    "    by = \"Group\")\n",
    "\n",
    "dat_res_summary = dat\n",
    "print(dim(dat))\n",
    "head(dat)"
   ]
  },
  {
   "cell_type": "code",
   "execution_count": 61,
   "id": "6db1fe3e-d07e-4cdc-baa5-55cc15500932",
   "metadata": {},
   "outputs": [
    {
     "data": {
      "text/html": [
       "<table class=\"dataframe\">\n",
       "<caption>A tibble: 4 × 7</caption>\n",
       "<thead>\n",
       "\t<tr><th scope=col>Group</th><th scope=col>Label_0</th><th scope=col>Label_1</th><th scope=col>Diff</th><th scope=col>pval</th><th scope=col>padj</th><th scope=col>nlog10p</th></tr>\n",
       "\t<tr><th scope=col>&lt;chr&gt;</th><th scope=col>&lt;dbl&gt;</th><th scope=col>&lt;dbl&gt;</th><th scope=col>&lt;dbl&gt;</th><th scope=col>&lt;dbl&gt;</th><th scope=col>&lt;dbl&gt;</th><th scope=col>&lt;dbl&gt;</th></tr>\n",
       "</thead>\n",
       "<tbody>\n",
       "\t<tr><td>Module_02</td><td>0.5073438</td><td>0.3927478</td><td>-0.1145960</td><td>0</td><td>0</td><td>Inf</td></tr>\n",
       "\t<tr><td>Module_11</td><td>0.4755065</td><td>0.7083416</td><td> 0.2328351</td><td>0</td><td>0</td><td>Inf</td></tr>\n",
       "\t<tr><td>Module_31</td><td>0.4786670</td><td>0.7137883</td><td> 0.2351213</td><td>0</td><td>0</td><td>Inf</td></tr>\n",
       "\t<tr><td>Module_42</td><td>0.4774943</td><td>0.6849286</td><td> 0.2074343</td><td>0</td><td>0</td><td>Inf</td></tr>\n",
       "</tbody>\n",
       "</table>\n"
      ],
      "text/latex": [
       "A tibble: 4 × 7\n",
       "\\begin{tabular}{lllllll}\n",
       " Group & Label\\_0 & Label\\_1 & Diff & pval & padj & nlog10p\\\\\n",
       " <chr> & <dbl> & <dbl> & <dbl> & <dbl> & <dbl> & <dbl>\\\\\n",
       "\\hline\n",
       "\t Module\\_02 & 0.5073438 & 0.3927478 & -0.1145960 & 0 & 0 & Inf\\\\\n",
       "\t Module\\_11 & 0.4755065 & 0.7083416 &  0.2328351 & 0 & 0 & Inf\\\\\n",
       "\t Module\\_31 & 0.4786670 & 0.7137883 &  0.2351213 & 0 & 0 & Inf\\\\\n",
       "\t Module\\_42 & 0.4774943 & 0.6849286 &  0.2074343 & 0 & 0 & Inf\\\\\n",
       "\\end{tabular}\n"
      ],
      "text/markdown": [
       "\n",
       "A tibble: 4 × 7\n",
       "\n",
       "| Group &lt;chr&gt; | Label_0 &lt;dbl&gt; | Label_1 &lt;dbl&gt; | Diff &lt;dbl&gt; | pval &lt;dbl&gt; | padj &lt;dbl&gt; | nlog10p &lt;dbl&gt; |\n",
       "|---|---|---|---|---|---|---|\n",
       "| Module_02 | 0.5073438 | 0.3927478 | -0.1145960 | 0 | 0 | Inf |\n",
       "| Module_11 | 0.4755065 | 0.7083416 |  0.2328351 | 0 | 0 | Inf |\n",
       "| Module_31 | 0.4786670 | 0.7137883 |  0.2351213 | 0 | 0 | Inf |\n",
       "| Module_42 | 0.4774943 | 0.6849286 |  0.2074343 | 0 | 0 | Inf |\n",
       "\n"
      ],
      "text/plain": [
       "  Group     Label_0   Label_1   Diff       pval padj nlog10p\n",
       "1 Module_02 0.5073438 0.3927478 -0.1145960 0    0    Inf    \n",
       "2 Module_11 0.4755065 0.7083416  0.2328351 0    0    Inf    \n",
       "3 Module_31 0.4786670 0.7137883  0.2351213 0    0    Inf    \n",
       "4 Module_42 0.4774943 0.6849286  0.2074343 0    0    Inf    "
      ]
     },
     "metadata": {},
     "output_type": "display_data"
    }
   ],
   "source": [
    "dat = dat_res_summary\n",
    "dat %>% dplyr::filter(is.infinite(nlog10p))"
   ]
  },
  {
   "cell_type": "code",
   "execution_count": 19,
   "id": "37235dda-d217-47d7-a4fb-29de5b88aeaf",
   "metadata": {},
   "outputs": [],
   "source": [
    "txt_region = \"fcc_astarr_macs_input_overlap\"\n",
    "txt_fdiry  = file.path(FD_RES, \"region_integration\", txt_region)\n",
    "txt_fname  = \"result.test.ranknom.module.wcox.tsv\"\n",
    "txt_fpath  = file.path(txt_fdiry, txt_fname)\n",
    "\n",
    "dat = dat_res_summary\n",
    "write_tsv(dat, txt_fpath)"
   ]
  },
  {
   "cell_type": "code",
   "execution_count": null,
   "id": "dc7c2dea-7496-4921-9787-c09b5c9a841d",
   "metadata": {},
   "outputs": [],
   "source": []
  },
  {
   "cell_type": "code",
   "execution_count": 64,
   "id": "92ff452f-9db2-4084-8ceb-25b4bae263a9",
   "metadata": {},
   "outputs": [
    {
     "data": {
      "image/png": "[encoded data removed]",
      "text/plain": [
       "plot without title"
      ]
     },
     "metadata": {
      "image/png": {
       "height": 300,
       "width": 420
      }
     },
     "output_type": "display_data"
    }
   ],
   "source": [
    "dat = dat %>% dplyr::filter(!is.infinite(nlog10p)) \n",
    "\n",
    "gpt = ggplot(dat, aes(x=Diff, y = nlog10p)) +\n",
    "    geom_point() +\n",
    "    labs(\n",
    "        x = \"Median Difference\", \n",
    "        y = \"-Log10(adjusted p-values)\",\n",
    "        title = \"Mann-Whitney test, Mean(STARR/MPRA), TF Modules\"\n",
    "    ) +\n",
    "    theme_cowplot() +\n",
    "    background_grid()\n",
    "\n",
    "options(repr.plot.height=5, repr.plot.width=7)\n",
    "print(gpt)"
   ]
  },
  {
   "cell_type": "code",
   "execution_count": null,
   "id": "130fe953-177f-49fb-8e1c-ed80be58a8f5",
   "metadata": {},
   "outputs": [],
   "source": []
  }
 ],
 "metadata": {
  "kernelspec": {
   "display_name": "R",
   "language": "R",
   "name": "ir"
  },
  "language_info": {
   "codemirror_mode": "r",
   "file_extension": ".r",
   "mimetype": "text/x-r-source",
   "name": "R",
   "pygments_lexer": "r",
   "version": "4.4.1"
  }
 },
 "nbformat": 4,
 "nbformat_minor": 5
}
