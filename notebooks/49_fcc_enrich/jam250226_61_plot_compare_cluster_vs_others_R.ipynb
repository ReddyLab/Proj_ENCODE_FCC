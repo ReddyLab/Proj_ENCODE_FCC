{
 "cells": [
  {
   "cell_type": "raw",
   "id": "afa1d3c6-a59a-4fc5-9eab-96a1a86dd8a0",
   "metadata": {},
   "source": [
    "---\n",
    "title: Region annotation 11 (ASTARR MACS peaks)\n",
    "subtitle: Summarize annotations (Main)\n",
    "format:\n",
    "    html:\n",
    "        code-fold:  true\n",
    "        code-tools: true\n",
    "---"
   ]
  },
  {
   "cell_type": "markdown",
   "id": "20d8aaad-0865-4b90-bb11-1050ad64d1c1",
   "metadata": {},
   "source": [
    "**Set environment**"
   ]
  },
  {
   "cell_type": "code",
   "execution_count": 1,
   "id": "35c841b5-a6d9-43c5-920c-08a3dfea8f62",
   "metadata": {
    "tags": []
   },
   "outputs": [
    {
     "name": "stdout",
     "output_type": "stream",
     "text": [
      "You are working on        Singularity: singularity_proj_encode_fcc \n",
      "BASE DIRECTORY (FD_BASE): /data/reddylab/Kuei \n",
      "REPO DIRECTORY (FD_REPO): /data/reddylab/Kuei/repo \n",
      "WORK DIRECTORY (FD_WORK): /data/reddylab/Kuei/work \n",
      "DATA DIRECTORY (FD_DATA): /data/reddylab/Kuei/data \n",
      "\n",
      "You are working with      ENCODE FCC \n",
      "PATH OF PROJECT (FD_PRJ): /data/reddylab/Kuei/repo/Proj_ENCODE_FCC \n",
      "PROJECT RESULTS (FD_RES): /data/reddylab/Kuei/repo/Proj_ENCODE_FCC/results \n",
      "PROJECT SCRIPTS (FD_EXE): /data/reddylab/Kuei/repo/Proj_ENCODE_FCC/scripts \n",
      "PROJECT DATA    (FD_DAT): /data/reddylab/Kuei/repo/Proj_ENCODE_FCC/data \n",
      "PROJECT NOTE    (FD_NBK): /data/reddylab/Kuei/repo/Proj_ENCODE_FCC/notebooks \n",
      "PROJECT DOCS    (FD_DOC): /data/reddylab/Kuei/repo/Proj_ENCODE_FCC/docs \n",
      "PROJECT LOG     (FD_LOG): /data/reddylab/Kuei/repo/Proj_ENCODE_FCC/log \n",
      "PROJECT REF     (FD_REF): /data/reddylab/Kuei/repo/Proj_ENCODE_FCC/references \n",
      "\n"
     ]
    }
   ],
   "source": [
    "suppressMessages(suppressWarnings(source(\"../run_config_project_sing.R\")))\n",
    "show_env()"
   ]
  },
  {
   "cell_type": "markdown",
   "id": "fbc5dceb-f1ef-4333-8ab8-a67b6c231494",
   "metadata": {},
   "source": [
    "## Import data"
   ]
  },
  {
   "cell_type": "code",
   "execution_count": 2,
   "id": "b3a63a1a-5301-47f0-a2e8-f49e383118e0",
   "metadata": {},
   "outputs": [
    {
     "name": "stdout",
     "output_type": "stream",
     "text": [
      "[1] \"List.data_region.cluster_vs_others.rds\"\n"
     ]
    }
   ],
   "source": [
    "txt_fdiry = file.path(\n",
    "    FD_RES, \n",
    "    \"region_integration\",\n",
    "    \"fcc_astarr_macs_input_overlap\",\n",
    "    \"analysis_enrichment_v2\",\n",
    "    \"fcc_starrmpracrispri_vote2_phenograph_neighbors070\"\n",
    ")\n",
    "\n",
    "txt_fname = paste(\"List\", \"data_region\", \"cluster_vs_others.rds\", sep = \".\")\n",
    "txt_fpath = file.path(txt_fdiry, txt_fname)\n",
    "print(txt_fname)\n",
    "\n",
    "###\n",
    "obj = readRDS(txt_fpath)\n",
    "lst_dat_region = obj"
   ]
  },
  {
   "cell_type": "code",
   "execution_count": 3,
   "id": "1b74b0fe-7ec5-4e51-b95b-dd8d65005048",
   "metadata": {},
   "outputs": [
    {
     "data": {
      "text/html": [
       "<style>\n",
       ".list-inline {list-style: none; margin:0; padding: 0}\n",
       ".list-inline>li {display: inline-block}\n",
       ".list-inline>li:not(:last-child)::after {content: \"\\00b7\"; padding: 0 .5ex}\n",
       "</style>\n",
       "<ol class=list-inline><li>'Cluster00'</li><li>'Cluster01'</li><li>'Cluster02'</li><li>'Cluster03'</li><li>'Cluster04'</li><li>'Cluster05'</li><li>'Cluster06'</li><li>'Cluster07'</li><li>'Cluster08'</li><li>'Cluster09'</li><li>'Cluster10'</li><li>'Cluster11'</li><li>'Cluster12'</li><li>'Cluster13'</li><li>'Cluster14'</li></ol>\n"
      ],
      "text/latex": [
       "\\begin{enumerate*}\n",
       "\\item 'Cluster00'\n",
       "\\item 'Cluster01'\n",
       "\\item 'Cluster02'\n",
       "\\item 'Cluster03'\n",
       "\\item 'Cluster04'\n",
       "\\item 'Cluster05'\n",
       "\\item 'Cluster06'\n",
       "\\item 'Cluster07'\n",
       "\\item 'Cluster08'\n",
       "\\item 'Cluster09'\n",
       "\\item 'Cluster10'\n",
       "\\item 'Cluster11'\n",
       "\\item 'Cluster12'\n",
       "\\item 'Cluster13'\n",
       "\\item 'Cluster14'\n",
       "\\end{enumerate*}\n"
      ],
      "text/markdown": [
       "1. 'Cluster00'\n",
       "2. 'Cluster01'\n",
       "3. 'Cluster02'\n",
       "4. 'Cluster03'\n",
       "5. 'Cluster04'\n",
       "6. 'Cluster05'\n",
       "7. 'Cluster06'\n",
       "8. 'Cluster07'\n",
       "9. 'Cluster08'\n",
       "10. 'Cluster09'\n",
       "11. 'Cluster10'\n",
       "12. 'Cluster11'\n",
       "13. 'Cluster12'\n",
       "14. 'Cluster13'\n",
       "15. 'Cluster14'\n",
       "\n",
       "\n"
      ],
      "text/plain": [
       " [1] \"Cluster00\" \"Cluster01\" \"Cluster02\" \"Cluster03\" \"Cluster04\" \"Cluster05\"\n",
       " [7] \"Cluster06\" \"Cluster07\" \"Cluster08\" \"Cluster09\" \"Cluster10\" \"Cluster11\"\n",
       "[13] \"Cluster12\" \"Cluster13\" \"Cluster14\""
      ]
     },
     "metadata": {},
     "output_type": "display_data"
    }
   ],
   "source": [
    "lst = lst_dat_region\n",
    "names(lst)"
   ]
  },
  {
   "cell_type": "code",
   "execution_count": 4,
   "id": "322c7197-6493-4a22-bffc-ac1a19d7e5d6",
   "metadata": {},
   "outputs": [
    {
     "data": {
      "text/html": [
       "<table class=\"dataframe\">\n",
       "<caption>A data.frame: 6 × 528</caption>\n",
       "<thead>\n",
       "\t<tr><th></th><th scope=col>H2AFZ</th><th scope=col>H3K27ac</th><th scope=col>H3K27me3</th><th scope=col>H3K36me3</th><th scope=col>H3K4me1</th><th scope=col>H3K4me2</th><th scope=col>H3K4me3</th><th scope=col>H3K79me2</th><th scope=col>H3K9ac</th><th scope=col>H3K9me1</th><th scope=col>⋯</th><th scope=col>ZSCAN29</th><th scope=col>ZSCAN32</th><th scope=col>ZZZ3</th><th scope=col>ASTARR</th><th scope=col>CRISPRi-Growth</th><th scope=col>CRISPRi-HCRFF</th><th scope=col>LMPRA</th><th scope=col>TMPRA</th><th scope=col>WSTARR</th><th scope=col>Group</th></tr>\n",
       "\t<tr><th></th><th scope=col>&lt;dbl&gt;</th><th scope=col>&lt;dbl&gt;</th><th scope=col>&lt;dbl&gt;</th><th scope=col>&lt;dbl&gt;</th><th scope=col>&lt;dbl&gt;</th><th scope=col>&lt;dbl&gt;</th><th scope=col>&lt;dbl&gt;</th><th scope=col>&lt;dbl&gt;</th><th scope=col>&lt;dbl&gt;</th><th scope=col>&lt;dbl&gt;</th><th scope=col>⋯</th><th scope=col>&lt;dbl&gt;</th><th scope=col>&lt;dbl&gt;</th><th scope=col>&lt;dbl&gt;</th><th scope=col>&lt;dbl&gt;</th><th scope=col>&lt;dbl&gt;</th><th scope=col>&lt;dbl&gt;</th><th scope=col>&lt;dbl&gt;</th><th scope=col>&lt;dbl&gt;</th><th scope=col>&lt;dbl&gt;</th><th scope=col>&lt;chr&gt;</th></tr>\n",
       "</thead>\n",
       "<tbody>\n",
       "\t<tr><th scope=row>chr1:100036895-100039189</th><td>2.899574</td><td>3.910099</td><td>0.4091536</td><td>1.1978119</td><td>1.0698812</td><td>4.947811</td><td>5.521968</td><td>4.177296</td><td>4.663171</td><td>0.9431997</td><td>⋯</td><td>1.2491389</td><td>1.045114</td><td>1.0331657</td><td>1.7130117</td><td>-0.05130039</td><td>0</td><td>1.8327506</td><td>0</td><td>2.2235590</td><td>1</td></tr>\n",
       "\t<tr><th scope=row>chr1:100132375-100133491</th><td>3.511342</td><td>3.432175</td><td>0.3423994</td><td>0.7661698</td><td>0.6115988</td><td>4.537458</td><td>5.160366</td><td>2.783096</td><td>4.025729</td><td>0.8828316</td><td>⋯</td><td>1.3442036</td><td>1.306595</td><td>1.3040379</td><td>2.9306840</td><td>-1.54124905</td><td>0</td><td>0.7916420</td><td>0</td><td>2.5331675</td><td>1</td></tr>\n",
       "\t<tr><th scope=row>chr1:100265562-100266994</th><td>3.496910</td><td>3.284969</td><td>0.5231208</td><td>1.0643310</td><td>1.2245651</td><td>4.710806</td><td>5.403491</td><td>3.499795</td><td>4.206733</td><td>0.8527460</td><td>⋯</td><td>1.2172866</td><td>1.263143</td><td>1.1292962</td><td>1.1934266</td><td> 0.44626995</td><td>0</td><td>2.3501627</td><td>0</td><td>0.9601916</td><td>1</td></tr>\n",
       "\t<tr><th scope=row>chr1:100362769-100363401</th><td>1.923438</td><td>3.315037</td><td>0.3703055</td><td>0.8535861</td><td>0.9100192</td><td>3.980117</td><td>3.433015</td><td>3.114860</td><td>3.647725</td><td>1.1960089</td><td>⋯</td><td>0.9685973</td><td>1.581804</td><td>1.0400227</td><td>0.8588310</td><td>-1.29429728</td><td>0</td><td>1.7541961</td><td>0</td><td>2.9000051</td><td>1</td></tr>\n",
       "\t<tr><th scope=row>chr1:100894637-100896932</th><td>3.745893</td><td>3.420307</td><td>0.4252643</td><td>0.8091650</td><td>1.2691259</td><td>4.995457</td><td>5.381014</td><td>2.876085</td><td>4.190749</td><td>0.9913947</td><td>⋯</td><td>1.4100317</td><td>1.485921</td><td>0.9764223</td><td>0.6340759</td><td>-0.51100562</td><td>0</td><td>0.8131136</td><td>0</td><td>0.9066413</td><td>1</td></tr>\n",
       "\t<tr><th scope=row>chr1:10474552-10475672</th><td>3.096883</td><td>3.117614</td><td>0.3434345</td><td>0.9645210</td><td>1.2675049</td><td>4.546691</td><td>5.275893</td><td>2.925479</td><td>3.883244</td><td>0.5699994</td><td>⋯</td><td>1.1466715</td><td>1.093391</td><td>0.8617688</td><td>2.3834213</td><td>-0.20210161</td><td>0</td><td>1.2755376</td><td>0</td><td>2.0413127</td><td>1</td></tr>\n",
       "</tbody>\n",
       "</table>\n"
      ],
      "text/latex": [
       "A data.frame: 6 × 528\n",
       "\\begin{tabular}{r|lllllllllllllllllllll}\n",
       "  & H2AFZ & H3K27ac & H3K27me3 & H3K36me3 & H3K4me1 & H3K4me2 & H3K4me3 & H3K79me2 & H3K9ac & H3K9me1 & ⋯ & ZSCAN29 & ZSCAN32 & ZZZ3 & ASTARR & CRISPRi-Growth & CRISPRi-HCRFF & LMPRA & TMPRA & WSTARR & Group\\\\\n",
       "  & <dbl> & <dbl> & <dbl> & <dbl> & <dbl> & <dbl> & <dbl> & <dbl> & <dbl> & <dbl> & ⋯ & <dbl> & <dbl> & <dbl> & <dbl> & <dbl> & <dbl> & <dbl> & <dbl> & <dbl> & <chr>\\\\\n",
       "\\hline\n",
       "\tchr1:100036895-100039189 & 2.899574 & 3.910099 & 0.4091536 & 1.1978119 & 1.0698812 & 4.947811 & 5.521968 & 4.177296 & 4.663171 & 0.9431997 & ⋯ & 1.2491389 & 1.045114 & 1.0331657 & 1.7130117 & -0.05130039 & 0 & 1.8327506 & 0 & 2.2235590 & 1\\\\\n",
       "\tchr1:100132375-100133491 & 3.511342 & 3.432175 & 0.3423994 & 0.7661698 & 0.6115988 & 4.537458 & 5.160366 & 2.783096 & 4.025729 & 0.8828316 & ⋯ & 1.3442036 & 1.306595 & 1.3040379 & 2.9306840 & -1.54124905 & 0 & 0.7916420 & 0 & 2.5331675 & 1\\\\\n",
       "\tchr1:100265562-100266994 & 3.496910 & 3.284969 & 0.5231208 & 1.0643310 & 1.2245651 & 4.710806 & 5.403491 & 3.499795 & 4.206733 & 0.8527460 & ⋯ & 1.2172866 & 1.263143 & 1.1292962 & 1.1934266 &  0.44626995 & 0 & 2.3501627 & 0 & 0.9601916 & 1\\\\\n",
       "\tchr1:100362769-100363401 & 1.923438 & 3.315037 & 0.3703055 & 0.8535861 & 0.9100192 & 3.980117 & 3.433015 & 3.114860 & 3.647725 & 1.1960089 & ⋯ & 0.9685973 & 1.581804 & 1.0400227 & 0.8588310 & -1.29429728 & 0 & 1.7541961 & 0 & 2.9000051 & 1\\\\\n",
       "\tchr1:100894637-100896932 & 3.745893 & 3.420307 & 0.4252643 & 0.8091650 & 1.2691259 & 4.995457 & 5.381014 & 2.876085 & 4.190749 & 0.9913947 & ⋯ & 1.4100317 & 1.485921 & 0.9764223 & 0.6340759 & -0.51100562 & 0 & 0.8131136 & 0 & 0.9066413 & 1\\\\\n",
       "\tchr1:10474552-10475672 & 3.096883 & 3.117614 & 0.3434345 & 0.9645210 & 1.2675049 & 4.546691 & 5.275893 & 2.925479 & 3.883244 & 0.5699994 & ⋯ & 1.1466715 & 1.093391 & 0.8617688 & 2.3834213 & -0.20210161 & 0 & 1.2755376 & 0 & 2.0413127 & 1\\\\\n",
       "\\end{tabular}\n"
      ],
      "text/markdown": [
       "\n",
       "A data.frame: 6 × 528\n",
       "\n",
       "| <!--/--> | H2AFZ &lt;dbl&gt; | H3K27ac &lt;dbl&gt; | H3K27me3 &lt;dbl&gt; | H3K36me3 &lt;dbl&gt; | H3K4me1 &lt;dbl&gt; | H3K4me2 &lt;dbl&gt; | H3K4me3 &lt;dbl&gt; | H3K79me2 &lt;dbl&gt; | H3K9ac &lt;dbl&gt; | H3K9me1 &lt;dbl&gt; | ⋯ ⋯ | ZSCAN29 &lt;dbl&gt; | ZSCAN32 &lt;dbl&gt; | ZZZ3 &lt;dbl&gt; | ASTARR &lt;dbl&gt; | CRISPRi-Growth &lt;dbl&gt; | CRISPRi-HCRFF &lt;dbl&gt; | LMPRA &lt;dbl&gt; | TMPRA &lt;dbl&gt; | WSTARR &lt;dbl&gt; | Group &lt;chr&gt; |\n",
       "|---|---|---|---|---|---|---|---|---|---|---|---|---|---|---|---|---|---|---|---|---|---|\n",
       "| chr1:100036895-100039189 | 2.899574 | 3.910099 | 0.4091536 | 1.1978119 | 1.0698812 | 4.947811 | 5.521968 | 4.177296 | 4.663171 | 0.9431997 | ⋯ | 1.2491389 | 1.045114 | 1.0331657 | 1.7130117 | -0.05130039 | 0 | 1.8327506 | 0 | 2.2235590 | 1 |\n",
       "| chr1:100132375-100133491 | 3.511342 | 3.432175 | 0.3423994 | 0.7661698 | 0.6115988 | 4.537458 | 5.160366 | 2.783096 | 4.025729 | 0.8828316 | ⋯ | 1.3442036 | 1.306595 | 1.3040379 | 2.9306840 | -1.54124905 | 0 | 0.7916420 | 0 | 2.5331675 | 1 |\n",
       "| chr1:100265562-100266994 | 3.496910 | 3.284969 | 0.5231208 | 1.0643310 | 1.2245651 | 4.710806 | 5.403491 | 3.499795 | 4.206733 | 0.8527460 | ⋯ | 1.2172866 | 1.263143 | 1.1292962 | 1.1934266 |  0.44626995 | 0 | 2.3501627 | 0 | 0.9601916 | 1 |\n",
       "| chr1:100362769-100363401 | 1.923438 | 3.315037 | 0.3703055 | 0.8535861 | 0.9100192 | 3.980117 | 3.433015 | 3.114860 | 3.647725 | 1.1960089 | ⋯ | 0.9685973 | 1.581804 | 1.0400227 | 0.8588310 | -1.29429728 | 0 | 1.7541961 | 0 | 2.9000051 | 1 |\n",
       "| chr1:100894637-100896932 | 3.745893 | 3.420307 | 0.4252643 | 0.8091650 | 1.2691259 | 4.995457 | 5.381014 | 2.876085 | 4.190749 | 0.9913947 | ⋯ | 1.4100317 | 1.485921 | 0.9764223 | 0.6340759 | -0.51100562 | 0 | 0.8131136 | 0 | 0.9066413 | 1 |\n",
       "| chr1:10474552-10475672 | 3.096883 | 3.117614 | 0.3434345 | 0.9645210 | 1.2675049 | 4.546691 | 5.275893 | 2.925479 | 3.883244 | 0.5699994 | ⋯ | 1.1466715 | 1.093391 | 0.8617688 | 2.3834213 | -0.20210161 | 0 | 1.2755376 | 0 | 2.0413127 | 1 |\n",
       "\n"
      ],
      "text/plain": [
       "                         H2AFZ    H3K27ac  H3K27me3  H3K36me3  H3K4me1  \n",
       "chr1:100036895-100039189 2.899574 3.910099 0.4091536 1.1978119 1.0698812\n",
       "chr1:100132375-100133491 3.511342 3.432175 0.3423994 0.7661698 0.6115988\n",
       "chr1:100265562-100266994 3.496910 3.284969 0.5231208 1.0643310 1.2245651\n",
       "chr1:100362769-100363401 1.923438 3.315037 0.3703055 0.8535861 0.9100192\n",
       "chr1:100894637-100896932 3.745893 3.420307 0.4252643 0.8091650 1.2691259\n",
       "chr1:10474552-10475672   3.096883 3.117614 0.3434345 0.9645210 1.2675049\n",
       "                         H3K4me2  H3K4me3  H3K79me2 H3K9ac   H3K9me1   ⋯\n",
       "chr1:100036895-100039189 4.947811 5.521968 4.177296 4.663171 0.9431997 ⋯\n",
       "chr1:100132375-100133491 4.537458 5.160366 2.783096 4.025729 0.8828316 ⋯\n",
       "chr1:100265562-100266994 4.710806 5.403491 3.499795 4.206733 0.8527460 ⋯\n",
       "chr1:100362769-100363401 3.980117 3.433015 3.114860 3.647725 1.1960089 ⋯\n",
       "chr1:100894637-100896932 4.995457 5.381014 2.876085 4.190749 0.9913947 ⋯\n",
       "chr1:10474552-10475672   4.546691 5.275893 2.925479 3.883244 0.5699994 ⋯\n",
       "                         ZSCAN29   ZSCAN32  ZZZ3      ASTARR    CRISPRi-Growth\n",
       "chr1:100036895-100039189 1.2491389 1.045114 1.0331657 1.7130117 -0.05130039   \n",
       "chr1:100132375-100133491 1.3442036 1.306595 1.3040379 2.9306840 -1.54124905   \n",
       "chr1:100265562-100266994 1.2172866 1.263143 1.1292962 1.1934266  0.44626995   \n",
       "chr1:100362769-100363401 0.9685973 1.581804 1.0400227 0.8588310 -1.29429728   \n",
       "chr1:100894637-100896932 1.4100317 1.485921 0.9764223 0.6340759 -0.51100562   \n",
       "chr1:10474552-10475672   1.1466715 1.093391 0.8617688 2.3834213 -0.20210161   \n",
       "                         CRISPRi-HCRFF LMPRA     TMPRA WSTARR    Group\n",
       "chr1:100036895-100039189 0             1.8327506 0     2.2235590 1    \n",
       "chr1:100132375-100133491 0             0.7916420 0     2.5331675 1    \n",
       "chr1:100265562-100266994 0             2.3501627 0     0.9601916 1    \n",
       "chr1:100362769-100363401 0             1.7541961 0     2.9000051 1    \n",
       "chr1:100894637-100896932 0             0.8131136 0     0.9066413 1    \n",
       "chr1:10474552-10475672   0             1.2755376 0     2.0413127 1    "
      ]
     },
     "metadata": {},
     "output_type": "display_data"
    }
   ],
   "source": [
    "lst = lst_dat_region\n",
    "dat = lst[[1]]\n",
    "head(dat)"
   ]
  },
  {
   "cell_type": "code",
   "execution_count": 67,
   "id": "1d480b01-10dd-41e1-9d48-82a0b6570f9a",
   "metadata": {},
   "outputs": [],
   "source": [
    "fun_plot = function(dat, txt_cluster, txt_feature){\n",
    "    dat = dat %>% \n",
    "        dplyr::mutate(Label = ifelse(Group == 1, txt_cluster, \"Others\")) %>%\n",
    "        dplyr::mutate(Label = factor(Label, levels=c(txt_cluster, \"Others\")))\n",
    "    dat$Score = dat[,txt_feature]\n",
    "\n",
    "    txt = paste(txt_cluster, txt_feature, sep=\": \")\n",
    "    gpt = ggplot(dat, aes(x=Label, y=Score)) + \n",
    "        geom_boxplot() + \n",
    "        theme_cowplot() + \n",
    "        background_grid() +\n",
    "        labs(x=\"\", y=\"Score\", title=txt) +\n",
    "        theme(\n",
    "            plot.title   = element_text(size=20),\n",
    "            axis.title.y = element_text(size=15),\n",
    "            axis.text.y  = element_text(size=15),\n",
    "            axis.text.x  = element_text(size=15)\n",
    "        )\n",
    "    return(gpt)\n",
    "}"
   ]
  },
  {
   "cell_type": "code",
   "execution_count": 68,
   "id": "18d55f28-e35f-4e05-ba45-44c812000c4b",
   "metadata": {},
   "outputs": [
    {
     "data": {
      "image/png": "[encoded data removed]",
      "text/plain": [
       "plot without title"
      ]
     },
     "metadata": {
      "image/png": {
       "height": 300,
       "width": 240
      }
     },
     "output_type": "display_data"
    }
   ],
   "source": [
    "txt_cluster = \"Cluster00\"\n",
    "txt_feature = \"H3K4me3\"\n",
    "lst = lst_dat_region\n",
    "dat = lst[[txt_cluster]]\n",
    "options(repr.plot.height=5, repr.plot.width=4)\n",
    "fun_plot(dat, txt_cluster, txt_feature)"
   ]
  },
  {
   "cell_type": "code",
   "execution_count": 69,
   "id": "8bc72848-928e-4d8e-b855-21bac444c510",
   "metadata": {},
   "outputs": [
    {
     "data": {
      "image/png": "[encoded data removed]",
      "text/plain": [
       "plot without title"
      ]
     },
     "metadata": {
      "image/png": {
       "height": 300,
       "width": 240
      }
     },
     "output_type": "display_data"
    }
   ],
   "source": [
    "txt_cluster = \"Cluster02\"\n",
    "txt_feature = \"GATA1\"\n",
    "lst = lst_dat_region\n",
    "dat = lst[[txt_cluster]]\n",
    "options(repr.plot.height=5, repr.plot.width=4)\n",
    "fun_plot(dat, txt_cluster, txt_feature)"
   ]
  },
  {
   "cell_type": "code",
   "execution_count": 70,
   "id": "57bb7e75-0736-40d5-b5a4-565afb23579d",
   "metadata": {},
   "outputs": [
    {
     "data": {
      "image/png": "[encoded data removed]",
      "text/plain": [
       "plot without title"
      ]
     },
     "metadata": {
      "image/png": {
       "height": 300,
       "width": 240
      }
     },
     "output_type": "display_data"
    }
   ],
   "source": [
    "txt_cluster = \"Cluster03\"\n",
    "txt_feature = \"JUNB\"\n",
    "lst = lst_dat_region\n",
    "dat = lst[[txt_cluster]]\n",
    "options(repr.plot.height=5, repr.plot.width=4)\n",
    "fun_plot(dat, txt_cluster, txt_feature)"
   ]
  },
  {
   "cell_type": "code",
   "execution_count": 71,
   "id": "9f916b56-093e-4158-a5df-ec921be04ba6",
   "metadata": {},
   "outputs": [
    {
     "data": {
      "image/png": "[encoded data removed]",
      "text/plain": [
       "plot without title"
      ]
     },
     "metadata": {
      "image/png": {
       "height": 300,
       "width": 240
      }
     },
     "output_type": "display_data"
    }
   ],
   "source": [
    "txt_cluster = \"Cluster06\"\n",
    "txt_feature = \"CTCF\"\n",
    "lst = lst_dat_region\n",
    "dat = lst[[txt_cluster]]\n",
    "options(repr.plot.height=5, repr.plot.width=4)\n",
    "fun_plot(dat, txt_cluster, txt_feature)"
   ]
  },
  {
   "cell_type": "code",
   "execution_count": 72,
   "id": "9d4ec243-0b37-4875-8251-6c084b313a94",
   "metadata": {},
   "outputs": [
    {
     "data": {
      "image/png": "[encoded data removed]",
      "text/plain": [
       "plot without title"
      ]
     },
     "metadata": {
      "image/png": {
       "height": 300,
       "width": 240
      }
     },
     "output_type": "display_data"
    }
   ],
   "source": [
    "txt_cluster = \"Cluster12\"\n",
    "txt_feature = \"REST\"\n",
    "lst = lst_dat_region\n",
    "dat = lst[[txt_cluster]]\n",
    "options(repr.plot.height=5, repr.plot.width=4)\n",
    "fun_plot(dat, txt_cluster, txt_feature)"
   ]
  },
  {
   "cell_type": "code",
   "execution_count": null,
   "id": "15a8aca6-a62e-40d5-9b37-d4eff04a541a",
   "metadata": {},
   "outputs": [],
   "source": []
  },
  {
   "cell_type": "code",
   "execution_count": null,
   "id": "c8ff9b0d-2876-419d-a4b7-8968df55f1bd",
   "metadata": {},
   "outputs": [],
   "source": []
  },
  {
   "cell_type": "code",
   "execution_count": null,
   "id": "136e4657-bcb8-45fc-a057-d4499120d946",
   "metadata": {},
   "outputs": [],
   "source": []
  },
  {
   "cell_type": "code",
   "execution_count": null,
   "id": "0f016184-159b-4bcd-b93b-53cf04df3535",
   "metadata": {},
   "outputs": [],
   "source": []
  },
  {
   "cell_type": "code",
   "execution_count": null,
   "id": "00fb7c01-5644-4308-a9e3-08b58ae3386e",
   "metadata": {},
   "outputs": [],
   "source": []
  },
  {
   "cell_type": "code",
   "execution_count": 28,
   "id": "9d178f41-724f-47f4-b7d7-62caa1abc80f",
   "metadata": {},
   "outputs": [
    {
     "data": {
      "image/png": "[encoded data removed]",
      "text/plain": [
       "plot without title"
      ]
     },
     "metadata": {
      "image/png": {
       "height": 240,
       "width": 240
      }
     },
     "output_type": "display_data"
    }
   ],
   "source": [
    "txt_cluster = \"Cluster00\"\n",
    "lst = lst_dat_region\n",
    "dat = lst[[txt_cluster]]\n",
    "dat = dat %>% \n",
    "    dplyr::mutate(Label = ifelse(Group == 1, txt_cluster, \"Others\")) %>%\n",
    "    dplyr::mutate(Label = factor(Label, levels=c(txt_cluster, \"Others\")))\n",
    "\n",
    "options(repr.plot.height=5, repr.plot.width=4)\n",
    "gpt = ggplot(dat, aes(x=Label, y=H3K4me3)) + \n",
    "    geom_boxplot() + \n",
    "    theme_cowplot() + \n",
    "    background_grid() +\n",
    "    labs(x=\"\", y=)\n",
    "print(gpt)"
   ]
  },
  {
   "cell_type": "code",
   "execution_count": 27,
   "id": "9190c11b-9728-4e1b-9f27-89eebe5d684a",
   "metadata": {},
   "outputs": [
    {
     "data": {
      "image/png": "[encoded data removed]",
      "text/plain": [
       "plot without title"
      ]
     },
     "metadata": {
      "image/png": {
       "height": 300,
       "width": 240
      }
     },
     "output_type": "display_data"
    }
   ],
   "source": [
    "txt_cluster = \"Cluster02\"\n",
    "lst = lst_dat_region\n",
    "dat = lst[[txt_cluster]]\n",
    "dat = dat %>% \n",
    "    dplyr::mutate(Label = ifelse(Group == 1, txt_cluster, \"Others\")) %>%\n",
    "    dplyr::mutate(Label = factor(Label, levels=c(txt_cluster, \"Others\")))\n",
    "\n",
    "options(repr.plot.height=5, repr.plot.width=4)\n",
    "gpt = ggplot(dat, aes(x=Label, y=GATA1)) + \n",
    "    geom_boxplot() + \n",
    "    theme_cowplot() + \n",
    "    background_grid() +\n",
    "    labs(x=\"\")\n",
    "print(gpt)"
   ]
  },
  {
   "cell_type": "code",
   "execution_count": 25,
   "id": "013b0f7d-d61d-4278-b49f-97600eca8504",
   "metadata": {},
   "outputs": [
    {
     "data": {
      "image/png": "[encoded data removed]",
      "text/plain": [
       "plot without title"
      ]
     },
     "metadata": {
      "image/png": {
       "height": 300,
       "width": 240
      }
     },
     "output_type": "display_data"
    }
   ],
   "source": [
    "txt_cluster = \"Cluster03\"\n",
    "lst = lst_dat_region\n",
    "dat = lst[[txt_cluster]]\n",
    "dat = dat %>% \n",
    "    dplyr::mutate(Label = ifelse(Group == 1, txt_cluster, \"Others\")) %>%\n",
    "    dplyr::mutate(Label = factor(Label, levels=c(txt_cluster, \"Others\")))\n",
    "\n",
    "options(repr.plot.height=5, repr.plot.width=4)\n",
    "gpt = ggplot(dat, aes(x=Label, y=JUNB)) + \n",
    "    geom_boxplot() + \n",
    "    theme_cowplot() + \n",
    "    background_grid() +\n",
    "    labs(x=\"\")\n",
    "print(gpt)"
   ]
  },
  {
   "cell_type": "code",
   "execution_count": 18,
   "id": "d637f0fb-9d6b-478b-a151-b63e5832bdb9",
   "metadata": {},
   "outputs": [
    {
     "data": {
      "image/png": "[encoded data removed]",
      "text/plain": [
       "plot without title"
      ]
     },
     "metadata": {
      "image/png": {
       "height": 300,
       "width": 240
      }
     },
     "output_type": "display_data"
    }
   ],
   "source": [
    "txt_cluster = \"Cluster06\"\n",
    "lst = lst_dat_region\n",
    "dat = lst[[txt_cluster]]\n",
    "dat = dat %>% \n",
    "    dplyr::mutate(Label = ifelse(Group == 1, txt_cluster, \"Others\")) %>%\n",
    "    dplyr::mutate(Label = factor(Label, levels=c(txt_cluster, \"Others\")))\n",
    "\n",
    "options(repr.plot.height=5, repr.plot.width=4)\n",
    "gpt = ggplot(dat, aes(x=Label, y=CTCF)) + \n",
    "    geom_boxplot() + \n",
    "    theme_cowplot() + \n",
    "    background_grid() +\n",
    "    labs(x=\"\")\n",
    "print(gpt)"
   ]
  },
  {
   "cell_type": "code",
   "execution_count": 20,
   "id": "24e1c93c-0628-42d9-b067-91bf97e9e192",
   "metadata": {},
   "outputs": [
    {
     "data": {
      "image/png": "[encoded data removed]",
      "text/plain": [
       "plot without title"
      ]
     },
     "metadata": {
      "image/png": {
       "height": 300,
       "width": 240
      }
     },
     "output_type": "display_data"
    }
   ],
   "source": [
    "txt_cluster = \"Cluster12\"\n",
    "lst = lst_dat_region\n",
    "dat = lst[[txt_cluster]]\n",
    "dat = dat %>% \n",
    "    dplyr::mutate(Label = ifelse(Group == 1, txt_cluster, \"Others\")) %>%\n",
    "    dplyr::mutate(Label = factor(Label, levels=c(txt_cluster, \"Others\")))\n",
    "\n",
    "options(repr.plot.height=5, repr.plot.width=4)\n",
    "gpt = ggplot(dat, aes(x=Label, y=REST)) + \n",
    "    geom_boxplot() + \n",
    "    theme_cowplot() + \n",
    "    background_grid() +\n",
    "    labs(x=\"\")\n",
    "print(gpt)"
   ]
  },
  {
   "cell_type": "code",
   "execution_count": null,
   "id": "0de87e23-2c27-4eb1-b859-a106cd9196a2",
   "metadata": {},
   "outputs": [],
   "source": [
    "lst = lst_dat_region\n",
    "lst = lapply(lst, funciton(dat){\n",
    "    dat = dat %>% dplyr::\n",
    "})"
   ]
  }
 ],
 "metadata": {
  "kernelspec": {
   "display_name": "R",
   "language": "R",
   "name": "ir"
  },
  "language_info": {
   "codemirror_mode": "r",
   "file_extension": ".r",
   "mimetype": "text/x-r-source",
   "name": "R",
   "pygments_lexer": "r",
   "version": "4.4.2"
  }
 },
 "nbformat": 4,
 "nbformat_minor": 5
}
