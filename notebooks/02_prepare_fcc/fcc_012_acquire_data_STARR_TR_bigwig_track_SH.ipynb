{
 "cells": [
  {
   "cell_type": "raw",
   "id": "418145ae-8b6f-4d71-84cb-b6fc21d4f6b5",
   "metadata": {},
   "source": [
    "---\n",
    "title: Prepare STARR-seq data 01\n",
    "subtitle: Get K562 STARR-seq data files from Reddy lab\n",
    "format:\n",
    "    html:\n",
    "        code-fold:  true\n",
    "        code-tools: true\n",
    "---"
   ]
  },
  {
   "cell_type": "markdown",
   "id": "25ad521a-1f56-455e-8847-e99065a3b87c",
   "metadata": {},
   "source": [
    "**Set environment**"
   ]
  },
  {
   "cell_type": "code",
   "execution_count": 1,
   "id": "cad5ebdb-d202-42b9-a3b9-baa0c05f98ee",
   "metadata": {},
   "outputs": [
    {
     "name": "stdout",
     "output_type": "stream",
     "text": [
      "You are working on             Duke Server: RCC\n",
      "BASE DIRECTORY (FD_BASE):      /data/reddylab/Kuei\n",
      "REPO DIRECTORY (FD_REPO):      /data/reddylab/Kuei/repo\n",
      "WORK DIRECTORY (FD_WORK):      /data/reddylab/Kuei/work\n",
      "DATA DIRECTORY (FD_DATA):      /data/reddylab/Kuei/data\n",
      "CONTAINER DIR. (FD_SING):      /data/reddylab/Kuei/container\n",
      "\n",
      "You are working with           ENCODE FCC\n",
      "PATH OF PROJECT (FD_PRJ):      /data/reddylab/Kuei/repo/Proj_ENCODE_FCC\n",
      "PROJECT RESULTS (FD_RES):      /data/reddylab/Kuei/repo/Proj_ENCODE_FCC/results\n",
      "PROJECT SCRIPTS (FD_EXE):      /data/reddylab/Kuei/repo/Proj_ENCODE_FCC/scripts\n",
      "PROJECT DATA    (FD_DAT):      /data/reddylab/Kuei/repo/Proj_ENCODE_FCC/data\n",
      "PROJECT NOTE    (FD_NBK):      /data/reddylab/Kuei/repo/Proj_ENCODE_FCC/notebooks\n",
      "PROJECT DOCS    (FD_DOC):      /data/reddylab/Kuei/repo/Proj_ENCODE_FCC/docs\n",
      "PROJECT LOG     (FD_LOG):      /data/reddylab/Kuei/repo/Proj_ENCODE_FCC/log\n",
      "PROJECT REF     (FD_REF):      /data/reddylab/Kuei/repo/Proj_ENCODE_FCC/references\n",
      "PROJECT IMAGE   (FP_PRJ_SIF):  /data/reddylab/Kuei/container/project/singularity_proj_encode_fcc.sif\n",
      "PROJECT CONF.   (FP_CNF):      /data/reddylab/Kuei/repo/Proj_ENCODE_FCC/scripts/config_project.sh\n",
      "\n"
     ]
    }
   ],
   "source": [
    "source ../run_config_project.sh\n",
    "show_env"
   ]
  },
  {
   "cell_type": "markdown",
   "id": "f444d158-ac6a-44a8-aaf8-a6e9ea3d3f41",
   "metadata": {},
   "source": [
    "/data/reddylab/Alex/encode4_duke/processing/atac_seq/210401_KS91_K562ASTARR_NovaSeq.hg38-pe-blacklist-removal/\n",
    "KS91_K562_hg38_ASTARRseq_Input.q5.in_all.max_overlaps.bed"
   ]
  },
  {
   "cell_type": "code",
   "execution_count": 2,
   "id": "2a7351f0-e790-41aa-a533-2e48db95d8ee",
   "metadata": {},
   "outputs": [
    {
     "name": "stdout",
     "output_type": "stream",
     "text": [
      "/data/reddylab/Alex/encode4_duke/processing/atac_seq/210401_KS91_K562ASTARR_NovaSeq.hg38-pe-blacklist-removal\n"
     ]
    }
   ],
   "source": [
    "echo ${FD_WGS_ASTARR_KS91_INP}"
   ]
  },
  {
   "cell_type": "code",
   "execution_count": 26,
   "id": "0208b59c-9ed1-48b9-9667-ae4bb4bc5f0d",
   "metadata": {},
   "outputs": [
    {
     "name": "stdout",
     "output_type": "stream",
     "text": [
      "KS91_K562_hg38_ASTARRseq_Input_rep1.masked.dups_marked_peaks.narrowPeak\n",
      "KS91_K562_hg38_ASTARRseq_Input_rep2.masked.dups_marked_peaks.narrowPeak\n",
      "KS91_K562_hg38_ASTARRseq_Input_rep3.masked.dups_marked_peaks.narrowPeak\n",
      "KS91_K562_hg38_ASTARRseq_Input_rep4.masked.dups_marked_peaks.narrowPeak\n",
      "KS91_K562_hg38_ASTARRseq_Input_rep5.masked.dups_marked_peaks.narrowPeak\n",
      "KS91_K562_hg38_ASTARRseq_Input_rep6.masked.dups_marked_peaks.narrowPeak\n"
     ]
    }
   ],
   "source": [
    "ls ${FD_WGS_ASTARR_KS91_INP}/*Input_rep?.masked*narrowPeak | xargs -n 1 basename"
   ]
  },
  {
   "cell_type": "code",
   "execution_count": null,
   "id": "12417e87-6f2e-4dcd-a735-908a21f96bd4",
   "metadata": {},
   "outputs": [],
   "source": []
  },
  {
   "cell_type": "code",
   "execution_count": 5,
   "id": "dfbdf42c-dcc5-467b-ac01-a19fe40ded5b",
   "metadata": {},
   "outputs": [
    {
     "name": "stdout",
     "output_type": "stream",
     "text": [
      "KS91_K562_hg38_ASTARRseq_Input_rep1.masked.dedup.cpm.bw\n",
      "KS91_K562_hg38_ASTARRseq_Input_rep2.masked.dedup.cpm.bw\n",
      "KS91_K562_hg38_ASTARRseq_Input_rep3.masked.dedup.cpm.bw\n",
      "KS91_K562_hg38_ASTARRseq_Input_rep4.masked.dedup.cpm.bw\n",
      "KS91_K562_hg38_ASTARRseq_Input_rep5.masked.dedup.cpm.bw\n",
      "KS91_K562_hg38_ASTARRseq_Input_rep5.masked.exclude_dups.cpm.bw\n",
      "KS91_K562_hg38_ASTARRseq_Input_rep6.masked.dedup.cpm.bw\n"
     ]
    }
   ],
   "source": [
    "ls ${FD_WGS_ASTARR_KS91_INP}/*cpm.bw | xargs -n 1 basename"
   ]
  },
  {
   "cell_type": "code",
   "execution_count": null,
   "id": "9f3052fd-f2e6-4ed5-bb86-f28bbbafb708",
   "metadata": {},
   "outputs": [],
   "source": []
  },
  {
   "cell_type": "code",
   "execution_count": 30,
   "id": "d5b9bd72-caf0-4529-b477-92066e4f6aca",
   "metadata": {},
   "outputs": [
    {
     "name": "stdout",
     "output_type": "stream",
     "text": [
      "/data/reddylab/Alex/encode4_duke/processing/atac_seq/210401_KS91_K562ASTARR_NovaSeq.hg38-pe-blacklist-removal/KS91_K562_hg38_ASTARRseq_Input_rep1.masked.dups_marked_peaks.narrowPeak\n",
      "/data/reddylab/Alex/encode4_duke/processing/atac_seq/210401_KS91_K562ASTARR_NovaSeq.hg38-pe-blacklist-removal/KS91_K562_hg38_ASTARRseq_Input_rep2.masked.dups_marked_peaks.narrowPeak\n",
      "/data/reddylab/Alex/encode4_duke/processing/atac_seq/210401_KS91_K562ASTARR_NovaSeq.hg38-pe-blacklist-removal/KS91_K562_hg38_ASTARRseq_Input_rep3.masked.dups_marked_peaks.narrowPeak\n",
      "/data/reddylab/Alex/encode4_duke/processing/atac_seq/210401_KS91_K562ASTARR_NovaSeq.hg38-pe-blacklist-removal/KS91_K562_hg38_ASTARRseq_Input_rep4.masked.dups_marked_peaks.narrowPeak\n",
      "/data/reddylab/Alex/encode4_duke/processing/atac_seq/210401_KS91_K562ASTARR_NovaSeq.hg38-pe-blacklist-removal/KS91_K562_hg38_ASTARRseq_Input_rep5.masked.dups_marked_peaks.narrowPeak\n",
      "/data/reddylab/Alex/encode4_duke/processing/atac_seq/210401_KS91_K562ASTARR_NovaSeq.hg38-pe-blacklist-removal/KS91_K562_hg38_ASTARRseq_Input_rep6.masked.dups_marked_peaks.narrowPeak\n"
     ]
    }
   ],
   "source": [
    "FD_INP=${FD_WGS_ASTARR_KS91_INP}\n",
    "FD_OUT=${FD_DAT}/processed/STARR_ATAC_K562_Reddy_KS91_210401/peaks\n",
    "\n",
    "FP_INPS=($(ls ${FD_INP}/*Input_rep?.masked*narrowPeak))\n",
    "for FP_INP in ${FP_INPS[@]}; do\n",
    "    echo ${FP_INP}\n",
    "    cp ${FP_INP} ${FD_OUT}/\n",
    "done"
   ]
  },
  {
   "cell_type": "code",
   "execution_count": null,
   "id": "34ad5cda-9c53-4737-9425-0e83df360e38",
   "metadata": {},
   "outputs": [],
   "source": []
  },
  {
   "cell_type": "code",
   "execution_count": 31,
   "id": "3b137d8b-2a09-4a61-9f80-ec2b8dc629e5",
   "metadata": {},
   "outputs": [
    {
     "name": "stdout",
     "output_type": "stream",
     "text": [
      "/data/reddylab/Alex/encode4_duke/processing/atac_seq/210401_KS91_K562ASTARR_NovaSeq.hg38-pe-blacklist-removal/KS91_K562_hg38_ASTARRseq_Input_rep1.masked.dedup.cpm.bw\n",
      "/data/reddylab/Alex/encode4_duke/processing/atac_seq/210401_KS91_K562ASTARR_NovaSeq.hg38-pe-blacklist-removal/KS91_K562_hg38_ASTARRseq_Input_rep2.masked.dedup.cpm.bw\n",
      "/data/reddylab/Alex/encode4_duke/processing/atac_seq/210401_KS91_K562ASTARR_NovaSeq.hg38-pe-blacklist-removal/KS91_K562_hg38_ASTARRseq_Input_rep3.masked.dedup.cpm.bw\n",
      "/data/reddylab/Alex/encode4_duke/processing/atac_seq/210401_KS91_K562ASTARR_NovaSeq.hg38-pe-blacklist-removal/KS91_K562_hg38_ASTARRseq_Input_rep4.masked.dedup.cpm.bw\n",
      "/data/reddylab/Alex/encode4_duke/processing/atac_seq/210401_KS91_K562ASTARR_NovaSeq.hg38-pe-blacklist-removal/KS91_K562_hg38_ASTARRseq_Input_rep5.masked.dedup.cpm.bw\n",
      "/data/reddylab/Alex/encode4_duke/processing/atac_seq/210401_KS91_K562ASTARR_NovaSeq.hg38-pe-blacklist-removal/KS91_K562_hg38_ASTARRseq_Input_rep5.masked.exclude_dups.cpm.bw\n",
      "/data/reddylab/Alex/encode4_duke/processing/atac_seq/210401_KS91_K562ASTARR_NovaSeq.hg38-pe-blacklist-removal/KS91_K562_hg38_ASTARRseq_Input_rep6.masked.dedup.cpm.bw\n"
     ]
    }
   ],
   "source": [
    "FD_INP=${FD_WGS_ASTARR_KS91_INP}\n",
    "FD_OUT=${FD_DAT}/processed/STARR_ATAC_K562_Reddy_KS91_210401/tracks\n",
    "\n",
    "FP_INPS=($(ls ${FD_INP}/*cpm.bw))\n",
    "for FP_INP in ${FP_INPS[@]}; do\n",
    "    echo ${FP_INP}\n",
    "    cp ${FP_INP} ${FD_OUT}/\n",
    "done"
   ]
  },
  {
   "cell_type": "code",
   "execution_count": null,
   "id": "82aa59e1-1247-4239-bec2-e28a2ca25285",
   "metadata": {},
   "outputs": [],
   "source": []
  },
  {
   "cell_type": "code",
   "execution_count": 32,
   "id": "54e40557-7745-4293-b952-174e176b1244",
   "metadata": {},
   "outputs": [
    {
     "name": "stdout",
     "output_type": "stream",
     "text": [
      "KS91_K562_hg38_ASTARRseq_Input_rep1.masked.dedup.cpm.bw\n",
      "KS91_K562_hg38_ASTARRseq_Input_rep2.masked.dedup.cpm.bw\n",
      "KS91_K562_hg38_ASTARRseq_Input_rep3.masked.dedup.cpm.bw\n",
      "KS91_K562_hg38_ASTARRseq_Input_rep4.masked.dedup.cpm.bw\n",
      "KS91_K562_hg38_ASTARRseq_Input_rep5.masked.dedup.cpm.bw\n",
      "KS91_K562_hg38_ASTARRseq_Input_rep5.masked.exclude_dups.cpm.bw\n",
      "KS91_K562_hg38_ASTARRseq_Input_rep6.masked.dedup.cpm.bw\n"
     ]
    }
   ],
   "source": [
    "FDIRY=${FD_DAT}/processed/STARR_ATAC_K562_Reddy_KS91_210401/tracks\n",
    "ls ${FDIRY}"
   ]
  },
  {
   "cell_type": "code",
   "execution_count": null,
   "id": "63f95031-464a-4b36-92cd-8bb121339c05",
   "metadata": {},
   "outputs": [],
   "source": []
  },
  {
   "cell_type": "code",
   "execution_count": null,
   "id": "cc0d4315-6eaa-4fe5-954d-09a4d7407d14",
   "metadata": {},
   "outputs": [],
   "source": []
  }
 ],
 "metadata": {
  "kernelspec": {
   "display_name": "Bash",
   "language": "bash",
   "name": "bash"
  },
  "language_info": {
   "codemirror_mode": "shell",
   "file_extension": ".sh",
   "mimetype": "text/x-sh",
   "name": "bash"
  }
 },
 "nbformat": 4,
 "nbformat_minor": 5
}
