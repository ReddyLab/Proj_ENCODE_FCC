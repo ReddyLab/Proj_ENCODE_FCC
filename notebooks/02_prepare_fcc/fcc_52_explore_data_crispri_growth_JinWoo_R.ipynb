{
 "cells": [
  {
   "cell_type": "raw",
   "id": "deea2a1d-5d76-46bf-b0e1-96a6060546bf",
   "metadata": {},
   "source": [
    "---\n",
    "title: Prepare CRISPRi-HCRFF processed by JinWoo 02\n",
    "subtitle: Get the genomic range of fragments designed in CRISPRi-HCRFF\n",
    "format:\n",
    "    html:\n",
    "        code-fold:  true\n",
    "        code-tools: true\n",
    "---"
   ]
  },
  {
   "cell_type": "markdown",
   "id": "eb972c64-54f6-4b91-bf56-88d774c7c9a0",
   "metadata": {},
   "source": [
    "**Set environment**"
   ]
  },
  {
   "cell_type": "code",
   "execution_count": 1,
   "id": "b6da7b4a-9ac8-405e-b7ed-0676d3787653",
   "metadata": {},
   "outputs": [
    {
     "name": "stdout",
     "output_type": "stream",
     "text": [
      "You are working on        Singularity \n",
      "BASE DIRECTORY (FD_BASE): /mount \n",
      "REPO DIRECTORY (FD_REPO): /mount/repo \n",
      "WORK DIRECTORY (FD_WORK): /mount/work \n",
      "DATA DIRECTORY (FD_DATA): /mount/data \n",
      "\n",
      "You are working with      ENCODE FCC \n",
      "PATH OF PROJECT (FD_PRJ): /mount/repo/Proj_ENCODE_FCC \n",
      "PROJECT RESULTS (FD_RES): /mount/repo/Proj_ENCODE_FCC/results \n",
      "PROJECT SCRIPTS (FD_EXE): /mount/repo/Proj_ENCODE_FCC/scripts \n",
      "PROJECT DATA    (FD_DAT): /mount/repo/Proj_ENCODE_FCC/data \n",
      "PROJECT NOTE    (FD_NBK): /mount/repo/Proj_ENCODE_FCC/notebooks \n",
      "PROJECT DOCS    (FD_DOC): /mount/repo/Proj_ENCODE_FCC/docs \n",
      "PROJECT LOG     (FD_LOG): /mount/repo/Proj_ENCODE_FCC/log \n",
      "PROJECT APP     (FD_APP): /mount/repo/Proj_ENCODE_FCC/app \n",
      "PROJECT REF     (FD_REF): /mount/repo/Proj_ENCODE_FCC/references \n",
      "\n"
     ]
    }
   ],
   "source": [
    "suppressMessages(suppressWarnings(source(\"../run_config_project_sing.R\")))\n",
    "show_env()"
   ]
  },
  {
   "cell_type": "markdown",
   "id": "e6c99252-f984-4afe-aedc-4ac451829c11",
   "metadata": {},
   "source": [
    "**Set global variables**"
   ]
  },
  {
   "cell_type": "code",
   "execution_count": 2,
   "id": "6910fc40-4d47-49e9-a13c-6e6e42f58979",
   "metadata": {},
   "outputs": [],
   "source": [
    "TXT_ASSAY = \"CRISPRi_Growth_K562_Gersbach_JinWoo\""
   ]
  },
  {
   "cell_type": "code",
   "execution_count": 3,
   "id": "d0540f19-63a8-429b-b71f-25a7c1f383fc",
   "metadata": {},
   "outputs": [
    {
     "data": {
      "text/html": [
       "<style>\n",
       ".list-inline {list-style: none; margin:0; padding: 0}\n",
       ".list-inline>li {display: inline-block}\n",
       ".list-inline>li:not(:last-child)::after {content: \"\\00b7\"; padding: 0 .5ex}\n",
       "</style>\n",
       "<ol class=list-inline><li>'CRISPRi_Growth_K562.hg38.ZScore.unstranded.bed.gz'</li><li>'CRISPRi_rAVG_log2FC_2.bed'</li><li>'CRISPRi_rAVG_log2FC_2.wig'</li><li>'summary'</li></ol>\n"
      ],
      "text/latex": [
       "\\begin{enumerate*}\n",
       "\\item 'CRISPRi\\_Growth\\_K562.hg38.ZScore.unstranded.bed.gz'\n",
       "\\item 'CRISPRi\\_rAVG\\_log2FC\\_2.bed'\n",
       "\\item 'CRISPRi\\_rAVG\\_log2FC\\_2.wig'\n",
       "\\item 'summary'\n",
       "\\end{enumerate*}\n"
      ],
      "text/markdown": [
       "1. 'CRISPRi_Growth_K562.hg38.ZScore.unstranded.bed.gz'\n",
       "2. 'CRISPRi_rAVG_log2FC_2.bed'\n",
       "3. 'CRISPRi_rAVG_log2FC_2.wig'\n",
       "4. 'summary'\n",
       "\n",
       "\n"
      ],
      "text/plain": [
       "[1] \"CRISPRi_Growth_K562.hg38.ZScore.unstranded.bed.gz\"\n",
       "[2] \"CRISPRi_rAVG_log2FC_2.bed\"                        \n",
       "[3] \"CRISPRi_rAVG_log2FC_2.wig\"                        \n",
       "[4] \"summary\"                                          "
      ]
     },
     "metadata": {},
     "output_type": "display_data"
    }
   ],
   "source": [
    "txt_assay = TXT_ASSAY\n",
    "txt_fdiry = file.path(FD_RES, \"assay_fcc\", txt_assay, \"guide_scores\")\n",
    "dir(txt_fdiry)"
   ]
  },
  {
   "cell_type": "code",
   "execution_count": 4,
   "id": "89980ada-d026-4851-b99b-62668c7e278f",
   "metadata": {},
   "outputs": [
    {
     "data": {
      "text/html": [
       "<style>\n",
       ".list-inline {list-style: none; margin:0; padding: 0}\n",
       ".list-inline>li {display: inline-block}\n",
       ".list-inline>li:not(:last-child)::after {content: \"\\00b7\"; padding: 0 .5ex}\n",
       "</style>\n",
       "<ol class=list-inline><li>'description.tsv'</li><li>'metadata.tsv'</li><li>'track_info.tsv'</li></ol>\n"
      ],
      "text/latex": [
       "\\begin{enumerate*}\n",
       "\\item 'description.tsv'\n",
       "\\item 'metadata.tsv'\n",
       "\\item 'track\\_info.tsv'\n",
       "\\end{enumerate*}\n"
      ],
      "text/markdown": [
       "1. 'description.tsv'\n",
       "2. 'metadata.tsv'\n",
       "3. 'track_info.tsv'\n",
       "\n",
       "\n"
      ],
      "text/plain": [
       "[1] \"description.tsv\" \"metadata.tsv\"    \"track_info.tsv\" "
      ]
     },
     "metadata": {},
     "output_type": "display_data"
    }
   ],
   "source": [
    "txt_assay = TXT_ASSAY\n",
    "txt_fdiry = file.path(FD_RES, \"assay_fcc\", txt_assay, \"guide_scores\", \"summary\")\n",
    "dir(txt_fdiry)"
   ]
  },
  {
   "cell_type": "code",
   "execution_count": 5,
   "id": "d2a01fcf-e4a1-4255-b18a-83b0aefab0a3",
   "metadata": {},
   "outputs": [
    {
     "data": {
      "text/html": [
       "<style>\n",
       ".list-inline {list-style: none; margin:0; padding: 0}\n",
       ".list-inline>li {display: inline-block}\n",
       ".list-inline>li:not(:last-child)::after {content: \"\\00b7\"; padding: 0 .5ex}\n",
       "</style>\n",
       "<ol class=list-inline><li>'Chrom'</li><li>'ChromStart'</li><li>'ChromEnd'</li><li>'Name'</li><li>'Score'</li><li>'Strand'</li></ol>\n"
      ],
      "text/latex": [
       "\\begin{enumerate*}\n",
       "\\item 'Chrom'\n",
       "\\item 'ChromStart'\n",
       "\\item 'ChromEnd'\n",
       "\\item 'Name'\n",
       "\\item 'Score'\n",
       "\\item 'Strand'\n",
       "\\end{enumerate*}\n"
      ],
      "text/markdown": [
       "1. 'Chrom'\n",
       "2. 'ChromStart'\n",
       "3. 'ChromEnd'\n",
       "4. 'Name'\n",
       "5. 'Score'\n",
       "6. 'Strand'\n",
       "\n",
       "\n"
      ],
      "text/plain": [
       "[1] \"Chrom\"      \"ChromStart\" \"ChromEnd\"   \"Name\"       \"Score\"     \n",
       "[6] \"Strand\"    "
      ]
     },
     "metadata": {},
     "output_type": "display_data"
    }
   ],
   "source": [
    "txt_assay = TXT_ASSAY\n",
    "txt_fdiry = file.path(FD_RES, \"assay_fcc\", txt_assay, \"guide_scores\", \"summary\")\n",
    "txt_fname = \"description.tsv\"\n",
    "txt_fpath = file.path(txt_fdiry, txt_fname)\n",
    "\n",
    "dat = read_tsv(txt_fpath, show_col_types = FALSE)\n",
    "vec_txt_cname = dat$Name\n",
    "vec_txt_cname"
   ]
  },
  {
   "cell_type": "code",
   "execution_count": 6,
   "id": "6f485b58-82bf-4df1-befe-7b87bb860a74",
   "metadata": {},
   "outputs": [
    {
     "name": "stdout",
     "output_type": "stream",
     "text": [
      "[1] 1083147       6\n",
      "\n",
      "  chr1  chr10  chr11  chr12  chr13  chr14  chr15  chr16  chr17  chr18  chr19 \n",
      "125703  47063  59909  51243  14130  26919  36311  52263  61626  15509  63449 \n",
      "  chr2  chr20  chr21  chr22   chr3   chr4   chr5   chr6   chr7   chr8   chr9 \n",
      " 72171  34643  17332  27969  57272  34858  50169  59272  62697  40884  44540 \n",
      "  chrX \n",
      " 27215 \n"
     ]
    },
    {
     "data": {
      "text/html": [
       "<table class=\"dataframe\">\n",
       "<caption>A tibble: 6 × 6</caption>\n",
       "<thead>\n",
       "\t<tr><th scope=col>Chrom</th><th scope=col>ChromStart</th><th scope=col>ChromEnd</th><th scope=col>Name</th><th scope=col>Score</th><th scope=col>Strand</th></tr>\n",
       "\t<tr><th scope=col>&lt;chr&gt;</th><th scope=col>&lt;dbl&gt;</th><th scope=col>&lt;dbl&gt;</th><th scope=col>&lt;chr&gt;</th><th scope=col>&lt;dbl&gt;</th><th scope=col>&lt;chr&gt;</th></tr>\n",
       "</thead>\n",
       "<tbody>\n",
       "\t<tr><td>chr1</td><td>605580</td><td>605581</td><td>id-1</td><td>-0.180660</td><td>.</td></tr>\n",
       "\t<tr><td>chr1</td><td>605581</td><td>605582</td><td>id-2</td><td> 0.486646</td><td>.</td></tr>\n",
       "\t<tr><td>chr1</td><td>605589</td><td>605590</td><td>id-3</td><td> 3.171240</td><td>.</td></tr>\n",
       "\t<tr><td>chr1</td><td>605591</td><td>605592</td><td>id-4</td><td>-0.364573</td><td>.</td></tr>\n",
       "\t<tr><td>chr1</td><td>605592</td><td>605593</td><td>id-5</td><td>-0.206319</td><td>.</td></tr>\n",
       "\t<tr><td>chr1</td><td>605609</td><td>605610</td><td>id-6</td><td>-0.266750</td><td>.</td></tr>\n",
       "</tbody>\n",
       "</table>\n"
      ],
      "text/latex": [
       "A tibble: 6 × 6\n",
       "\\begin{tabular}{llllll}\n",
       " Chrom & ChromStart & ChromEnd & Name & Score & Strand\\\\\n",
       " <chr> & <dbl> & <dbl> & <chr> & <dbl> & <chr>\\\\\n",
       "\\hline\n",
       "\t chr1 & 605580 & 605581 & id-1 & -0.180660 & .\\\\\n",
       "\t chr1 & 605581 & 605582 & id-2 &  0.486646 & .\\\\\n",
       "\t chr1 & 605589 & 605590 & id-3 &  3.171240 & .\\\\\n",
       "\t chr1 & 605591 & 605592 & id-4 & -0.364573 & .\\\\\n",
       "\t chr1 & 605592 & 605593 & id-5 & -0.206319 & .\\\\\n",
       "\t chr1 & 605609 & 605610 & id-6 & -0.266750 & .\\\\\n",
       "\\end{tabular}\n"
      ],
      "text/markdown": [
       "\n",
       "A tibble: 6 × 6\n",
       "\n",
       "| Chrom &lt;chr&gt; | ChromStart &lt;dbl&gt; | ChromEnd &lt;dbl&gt; | Name &lt;chr&gt; | Score &lt;dbl&gt; | Strand &lt;chr&gt; |\n",
       "|---|---|---|---|---|---|\n",
       "| chr1 | 605580 | 605581 | id-1 | -0.180660 | . |\n",
       "| chr1 | 605581 | 605582 | id-2 |  0.486646 | . |\n",
       "| chr1 | 605589 | 605590 | id-3 |  3.171240 | . |\n",
       "| chr1 | 605591 | 605592 | id-4 | -0.364573 | . |\n",
       "| chr1 | 605592 | 605593 | id-5 | -0.206319 | . |\n",
       "| chr1 | 605609 | 605610 | id-6 | -0.266750 | . |\n",
       "\n"
      ],
      "text/plain": [
       "  Chrom ChromStart ChromEnd Name Score     Strand\n",
       "1 chr1  605580     605581   id-1 -0.180660 .     \n",
       "2 chr1  605581     605582   id-2  0.486646 .     \n",
       "3 chr1  605589     605590   id-3  3.171240 .     \n",
       "4 chr1  605591     605592   id-4 -0.364573 .     \n",
       "5 chr1  605592     605593   id-5 -0.206319 .     \n",
       "6 chr1  605609     605610   id-6 -0.266750 .     "
      ]
     },
     "metadata": {},
     "output_type": "display_data"
    }
   ],
   "source": [
    "### set directory\n",
    "txt_assay = TXT_ASSAY\n",
    "txt_fdiry = file.path(FD_RES, \"assay_fcc\", txt_assay, \"guide_scores\")\n",
    "txt_fname = \"CRISPRi_Growth_K562.hg38.ZScore.unstranded.bed.gz\"\n",
    "txt_fpath = file.path(txt_fdiry, txt_fname)\n",
    "\n",
    "### \n",
    "dat = read_tsv(txt_fpath, col_names = vec_txt_cname, show_col_types = FALSE)\n",
    "\n",
    "###\n",
    "dat_score_import = dat\n",
    "print(dim(dat))\n",
    "print(table(dat$Chrom))\n",
    "head(dat)"
   ]
  },
  {
   "cell_type": "code",
   "execution_count": 7,
   "id": "c933c520-2a69-4f57-a6e3-9ffd2e586c52",
   "metadata": {},
   "outputs": [
    {
     "data": {
      "image/png": "[encoded data removed]",
      "text/plain": [
       "plot without title"
      ]
     },
     "metadata": {
      "image/png": {
       "height": 300,
       "width": 480
      }
     },
     "output_type": "display_data"
    }
   ],
   "source": [
    "### init\n",
    "dat = dat_score_import\n",
    "vec = dat$Score\n",
    "\n",
    "### stats\n",
    "val_mu = mean(vec)\n",
    "val_sd = sd(vec)\n",
    "vec_sd = c(val_sd, -val_sd)\n",
    "\n",
    "### visualize\n",
    "dat = dat %>% dplyr::filter(abs(Score) < 2)\n",
    "gpt = ggplot(dat, aes(x=Score)) + \n",
    "    geom_histogram(binwidth = 0.05) +\n",
    "    geom_vline(xintercept = val_mu,       linetype=\"dashed\", color=\"black\") +\n",
    "    geom_vline(xintercept = vec_sd * 1.0, linetype=\"dashed\", color=\"red\") +\n",
    "    geom_vline(xintercept = vec_sd * 1.5, linetype=\"dashed\", color=\"blue\") +\n",
    "    geom_vline(xintercept = vec_sd * 2.0, linetype=\"dashed\", color=\"chartreuse4\") +\n",
    "    theme_cowplot()\n",
    "\n",
    "options(repr.plot.height=5, repr.plot.width=8)\n",
    "print(gpt)"
   ]
  },
  {
   "cell_type": "code",
   "execution_count": null,
   "id": "8329c13d-1cfa-4bbe-bac2-197bcd631d44",
   "metadata": {},
   "outputs": [],
   "source": []
  },
  {
   "cell_type": "code",
   "execution_count": null,
   "id": "d0657583-6db3-4aac-a64b-4802abc4c144",
   "metadata": {},
   "outputs": [],
   "source": []
  },
  {
   "cell_type": "code",
   "execution_count": 16,
   "id": "91c4f423-543d-4609-b6c0-05893cf2ee05",
   "metadata": {},
   "outputs": [
    {
     "name": "stdout",
     "output_type": "stream",
     "text": [
      "[1] 49986     6\n",
      "\n",
      " chr1 chr10 chr11 chr12 chr13 chr14 chr15 chr16 chr17 chr18 chr19  chr2 chr21 \n",
      "   60    58    89    30    67    27    34     8     7    29     2    63    21 \n",
      " chr3  chr4  chr5  chr6  chr7  chr8  chr9  chrX \n",
      "   48    99    68    58    66 49078    38    36 \n"
     ]
    },
    {
     "data": {
      "text/html": [
       "<table class=\"dataframe\">\n",
       "<caption>A tibble: 6 × 6</caption>\n",
       "<thead>\n",
       "\t<tr><th scope=col>Chrom</th><th scope=col>ChromStart</th><th scope=col>ChromEnd</th><th scope=col>Name</th><th scope=col>Score</th><th scope=col>Strand</th></tr>\n",
       "\t<tr><th scope=col>&lt;chr&gt;</th><th scope=col>&lt;dbl&gt;</th><th scope=col>&lt;dbl&gt;</th><th scope=col>&lt;chr&gt;</th><th scope=col>&lt;dbl&gt;</th><th scope=col>&lt;chr&gt;</th></tr>\n",
       "</thead>\n",
       "<tbody>\n",
       "\t<tr><td>chr1</td><td> 74582275</td><td> 74582276</td><td>id-1</td><td> 0.440890</td><td>.</td></tr>\n",
       "\t<tr><td>chr1</td><td> 74582309</td><td> 74582310</td><td>id-2</td><td> 1.256270</td><td>.</td></tr>\n",
       "\t<tr><td>chr1</td><td> 80526338</td><td> 80526339</td><td>id-3</td><td> 0.146948</td><td>.</td></tr>\n",
       "\t<tr><td>chr1</td><td>102025739</td><td>102025740</td><td>id-4</td><td>-0.389965</td><td>.</td></tr>\n",
       "\t<tr><td>chr1</td><td>102026463</td><td>102026464</td><td>id-5</td><td>-0.983594</td><td>.</td></tr>\n",
       "\t<tr><td>chr1</td><td>102522706</td><td>102522707</td><td>id-6</td><td>-0.050346</td><td>.</td></tr>\n",
       "</tbody>\n",
       "</table>\n"
      ],
      "text/latex": [
       "A tibble: 6 × 6\n",
       "\\begin{tabular}{llllll}\n",
       " Chrom & ChromStart & ChromEnd & Name & Score & Strand\\\\\n",
       " <chr> & <dbl> & <dbl> & <chr> & <dbl> & <chr>\\\\\n",
       "\\hline\n",
       "\t chr1 &  74582275 &  74582276 & id-1 &  0.440890 & .\\\\\n",
       "\t chr1 &  74582309 &  74582310 & id-2 &  1.256270 & .\\\\\n",
       "\t chr1 &  80526338 &  80526339 & id-3 &  0.146948 & .\\\\\n",
       "\t chr1 & 102025739 & 102025740 & id-4 & -0.389965 & .\\\\\n",
       "\t chr1 & 102026463 & 102026464 & id-5 & -0.983594 & .\\\\\n",
       "\t chr1 & 102522706 & 102522707 & id-6 & -0.050346 & .\\\\\n",
       "\\end{tabular}\n"
      ],
      "text/markdown": [
       "\n",
       "A tibble: 6 × 6\n",
       "\n",
       "| Chrom &lt;chr&gt; | ChromStart &lt;dbl&gt; | ChromEnd &lt;dbl&gt; | Name &lt;chr&gt; | Score &lt;dbl&gt; | Strand &lt;chr&gt; |\n",
       "|---|---|---|---|---|---|\n",
       "| chr1 |  74582275 |  74582276 | id-1 |  0.440890 | . |\n",
       "| chr1 |  74582309 |  74582310 | id-2 |  1.256270 | . |\n",
       "| chr1 |  80526338 |  80526339 | id-3 |  0.146948 | . |\n",
       "| chr1 | 102025739 | 102025740 | id-4 | -0.389965 | . |\n",
       "| chr1 | 102026463 | 102026464 | id-5 | -0.983594 | . |\n",
       "| chr1 | 102522706 | 102522707 | id-6 | -0.050346 | . |\n",
       "\n"
      ],
      "text/plain": [
       "  Chrom ChromStart ChromEnd  Name Score     Strand\n",
       "1 chr1   74582275   74582276 id-1  0.440890 .     \n",
       "2 chr1   74582309   74582310 id-2  1.256270 .     \n",
       "3 chr1   80526338   80526339 id-3  0.146948 .     \n",
       "4 chr1  102025739  102025740 id-4 -0.389965 .     \n",
       "5 chr1  102026463  102026464 id-5 -0.983594 .     \n",
       "6 chr1  102522706  102522707 id-6 -0.050346 .     "
      ]
     },
     "metadata": {},
     "output_type": "display_data"
    }
   ],
   "source": [
    "### set directory\n",
    "txt_assay = TXT_ASSAY\n",
    "txt_fdiry = file.path(FD_RES, \"assay_fcc\", txt_assay, \"guide_scores\")\n",
    "txt_fname = \"CRISPRi_Growth_K562.hg38.ZScore.unstranded.bed.gz\"\n",
    "txt_fpath = file.path(txt_fdiry, txt_fname)\n",
    "\n",
    "### \n",
    "dat = read_tsv(txt_fpath, col_names = vec_txt_cname, show_col_types = FALSE)\n",
    "\n",
    "###\n",
    "dat_score_import = dat\n",
    "print(dim(dat))\n",
    "print(table(dat$Chrom))\n",
    "head(dat)"
   ]
  },
  {
   "cell_type": "code",
   "execution_count": 20,
   "id": "f1b0b5d2-4739-4319-9c60-b13c22c9401f",
   "metadata": {},
   "outputs": [
    {
     "data": {
      "image/png": "[encoded data removed]",
      "text/plain": [
       "plot without title"
      ]
     },
     "metadata": {
      "image/png": {
       "height": 300,
       "width": 480
      }
     },
     "output_type": "display_data"
    }
   ],
   "source": [
    "### init\n",
    "dat = dat_score_import\n",
    "vec = dat$Score\n",
    "\n",
    "### stats\n",
    "val_mu = mean(vec)\n",
    "val_sd = sd(vec)\n",
    "vec_sd = c(val_sd, -val_sd)\n",
    "\n",
    "### visualize\n",
    "dat = dat %>% dplyr::filter(abs(Score) < 2)\n",
    "gpt = ggplot(dat, aes(x=Score)) + \n",
    "    geom_histogram(binwidth = 0.05) +\n",
    "    geom_vline(xintercept = val_mu,       linetype=\"dashed\", color=\"black\") +\n",
    "    geom_vline(xintercept = vec_sd * 1.0, linetype=\"dashed\", color=\"red\") +\n",
    "    geom_vline(xintercept = vec_sd * 1.5, linetype=\"dashed\", color=\"blue\") +\n",
    "    geom_vline(xintercept = vec_sd * 2.0, linetype=\"dashed\", color=\"chartreuse4\") +\n",
    "    theme_cowplot()\n",
    "\n",
    "options(repr.plot.height=5, repr.plot.width=8)\n",
    "print(gpt)"
   ]
  },
  {
   "cell_type": "code",
   "execution_count": 39,
   "id": "8f3d8688-a28a-4d0c-b842-0b7c06f46094",
   "metadata": {},
   "outputs": [
    {
     "name": "stdout",
     "output_type": "stream",
     "text": [
      "[1] 1 6\n"
     ]
    },
    {
     "data": {
      "text/html": [
       "<table class=\"dataframe\">\n",
       "<caption>A tibble: 1 × 6</caption>\n",
       "<thead>\n",
       "\t<tr><th scope=col>Chrom</th><th scope=col>ChromStart</th><th scope=col>ChromEnd</th><th scope=col>Name</th><th scope=col>Score</th><th scope=col>Strand</th></tr>\n",
       "\t<tr><th scope=col>&lt;chr&gt;</th><th scope=col>&lt;dbl&gt;</th><th scope=col>&lt;dbl&gt;</th><th scope=col>&lt;chr&gt;</th><th scope=col>&lt;dbl&gt;</th><th scope=col>&lt;chr&gt;</th></tr>\n",
       "</thead>\n",
       "<tbody>\n",
       "\t<tr><td>chrX</td><td>52032569</td><td>52032570</td><td>id-49969</td><td>0.076659</td><td>.</td></tr>\n",
       "</tbody>\n",
       "</table>\n"
      ],
      "text/latex": [
       "A tibble: 1 × 6\n",
       "\\begin{tabular}{llllll}\n",
       " Chrom & ChromStart & ChromEnd & Name & Score & Strand\\\\\n",
       " <chr> & <dbl> & <dbl> & <chr> & <dbl> & <chr>\\\\\n",
       "\\hline\n",
       "\t chrX & 52032569 & 52032570 & id-49969 & 0.076659 & .\\\\\n",
       "\\end{tabular}\n"
      ],
      "text/markdown": [
       "\n",
       "A tibble: 1 × 6\n",
       "\n",
       "| Chrom &lt;chr&gt; | ChromStart &lt;dbl&gt; | ChromEnd &lt;dbl&gt; | Name &lt;chr&gt; | Score &lt;dbl&gt; | Strand &lt;chr&gt; |\n",
       "|---|---|---|---|---|---|\n",
       "| chrX | 52032569 | 52032570 | id-49969 | 0.076659 | . |\n",
       "\n"
      ],
      "text/plain": [
       "  Chrom ChromStart ChromEnd Name     Score    Strand\n",
       "1 chrX  52032569   52032570 id-49969 0.076659 .     "
      ]
     },
     "metadata": {},
     "output_type": "display_data"
    }
   ],
   "source": [
    "txt_chrom = \"chrX\"\n",
    "num_chrom_start = 50749700\n",
    "num_chrom_end   = 53716000\n",
    "\n",
    "dat = dat_score_import\n",
    "dat = dat %>% \n",
    "    dplyr::filter(\n",
    "        Chrom == txt_chrom,\n",
    "        ChromStart > num_chrom_start,\n",
    "        ChromEnd   < num_chrom_end,\n",
    "    )\n",
    "print(dim(dat))\n",
    "head(dat)"
   ]
  },
  {
   "cell_type": "markdown",
   "id": "9e3bc4fe-ed35-4673-a88a-e7870569ed6c",
   "metadata": {},
   "source": [
    "## Check"
   ]
  },
  {
   "cell_type": "code",
   "execution_count": 29,
   "id": "5a7fc020-43f6-452b-beba-6c67195a1f48",
   "metadata": {},
   "outputs": [
    {
     "data": {
      "text/html": [
       "<style>\n",
       ".list-inline {list-style: none; margin:0; padding: 0}\n",
       ".list-inline>li {display: inline-block}\n",
       ".list-inline>li:not(:last-child)::after {content: \"\\00b7\"; padding: 0 .5ex}\n",
       "</style>\n",
       "<ol class=list-inline><li>'data'</li><li>'log'</li><li>'Readme.md'</li><li>'results'</li><li>'results_v1.tar.gz'</li><li>'results_v2.tar.gz'</li><li>'results_v3.tar.gz'</li><li>'results_v4'</li><li>'source'</li></ol>\n"
      ],
      "text/latex": [
       "\\begin{enumerate*}\n",
       "\\item 'data'\n",
       "\\item 'log'\n",
       "\\item 'Readme.md'\n",
       "\\item 'results'\n",
       "\\item 'results\\_v1.tar.gz'\n",
       "\\item 'results\\_v2.tar.gz'\n",
       "\\item 'results\\_v3.tar.gz'\n",
       "\\item 'results\\_v4'\n",
       "\\item 'source'\n",
       "\\end{enumerate*}\n"
      ],
      "text/markdown": [
       "1. 'data'\n",
       "2. 'log'\n",
       "3. 'Readme.md'\n",
       "4. 'results'\n",
       "5. 'results_v1.tar.gz'\n",
       "6. 'results_v2.tar.gz'\n",
       "7. 'results_v3.tar.gz'\n",
       "8. 'results_v4'\n",
       "9. 'source'\n",
       "\n",
       "\n"
      ],
      "text/plain": [
       "[1] \"data\"              \"log\"               \"Readme.md\"        \n",
       "[4] \"results\"           \"results_v1.tar.gz\" \"results_v2.tar.gz\"\n",
       "[7] \"results_v3.tar.gz\" \"results_v4\"        \"source\"           "
      ]
     },
     "metadata": {},
     "output_type": "display_data"
    }
   ],
   "source": [
    "txt_fdiry = file.path(FD_WORK, \"proj_encode_fcc\")\n",
    "dir(txt_fdiry)"
   ]
  },
  {
   "cell_type": "code",
   "execution_count": 35,
   "id": "2298cba9-42c1-4b6d-87b6-bbb453d20896",
   "metadata": {},
   "outputs": [
    {
     "name": "stdout",
     "output_type": "stream",
     "text": [
      "[1] 1083147       5\n"
     ]
    },
    {
     "data": {
      "text/html": [
       "<table class=\"dataframe\">\n",
       "<caption>A tibble: 6 × 5</caption>\n",
       "<thead>\n",
       "\t<tr><th scope=col>Chrom</th><th scope=col>ChromStart</th><th scope=col>ChromEnd</th><th scope=col>Name</th><th scope=col>Score</th></tr>\n",
       "\t<tr><th scope=col>&lt;chr&gt;</th><th scope=col>&lt;dbl&gt;</th><th scope=col>&lt;dbl&gt;</th><th scope=col>&lt;chr&gt;</th><th scope=col>&lt;dbl&gt;</th></tr>\n",
       "</thead>\n",
       "<tbody>\n",
       "\t<tr><td>chr1</td><td>605580</td><td>605581</td><td>id-1</td><td>-0.180660</td></tr>\n",
       "\t<tr><td>chr1</td><td>605581</td><td>605582</td><td>id-2</td><td> 0.486646</td></tr>\n",
       "\t<tr><td>chr1</td><td>605589</td><td>605590</td><td>id-3</td><td> 3.171240</td></tr>\n",
       "\t<tr><td>chr1</td><td>605591</td><td>605592</td><td>id-4</td><td>-0.364573</td></tr>\n",
       "\t<tr><td>chr1</td><td>605592</td><td>605593</td><td>id-5</td><td>-0.206319</td></tr>\n",
       "\t<tr><td>chr1</td><td>605609</td><td>605610</td><td>id-6</td><td>-0.266750</td></tr>\n",
       "</tbody>\n",
       "</table>\n"
      ],
      "text/latex": [
       "A tibble: 6 × 5\n",
       "\\begin{tabular}{lllll}\n",
       " Chrom & ChromStart & ChromEnd & Name & Score\\\\\n",
       " <chr> & <dbl> & <dbl> & <chr> & <dbl>\\\\\n",
       "\\hline\n",
       "\t chr1 & 605580 & 605581 & id-1 & -0.180660\\\\\n",
       "\t chr1 & 605581 & 605582 & id-2 &  0.486646\\\\\n",
       "\t chr1 & 605589 & 605590 & id-3 &  3.171240\\\\\n",
       "\t chr1 & 605591 & 605592 & id-4 & -0.364573\\\\\n",
       "\t chr1 & 605592 & 605593 & id-5 & -0.206319\\\\\n",
       "\t chr1 & 605609 & 605610 & id-6 & -0.266750\\\\\n",
       "\\end{tabular}\n"
      ],
      "text/markdown": [
       "\n",
       "A tibble: 6 × 5\n",
       "\n",
       "| Chrom &lt;chr&gt; | ChromStart &lt;dbl&gt; | ChromEnd &lt;dbl&gt; | Name &lt;chr&gt; | Score &lt;dbl&gt; |\n",
       "|---|---|---|---|---|\n",
       "| chr1 | 605580 | 605581 | id-1 | -0.180660 |\n",
       "| chr1 | 605581 | 605582 | id-2 |  0.486646 |\n",
       "| chr1 | 605589 | 605590 | id-3 |  3.171240 |\n",
       "| chr1 | 605591 | 605592 | id-4 | -0.364573 |\n",
       "| chr1 | 605592 | 605593 | id-5 | -0.206319 |\n",
       "| chr1 | 605609 | 605610 | id-6 | -0.266750 |\n",
       "\n"
      ],
      "text/plain": [
       "  Chrom ChromStart ChromEnd Name Score    \n",
       "1 chr1  605580     605581   id-1 -0.180660\n",
       "2 chr1  605581     605582   id-2  0.486646\n",
       "3 chr1  605589     605590   id-3  3.171240\n",
       "4 chr1  605591     605592   id-4 -0.364573\n",
       "5 chr1  605592     605593   id-5 -0.206319\n",
       "6 chr1  605609     605610   id-6 -0.266750"
      ]
     },
     "metadata": {},
     "output_type": "display_data"
    }
   ],
   "source": [
    "###\n",
    "txt_fdiry = file.path(FD_WORK, \"proj_encode_fcc\", \"results_v4\", \"CRISPRi_Growth_K562_Gersbach\", \"coverage\")\n",
    "txt_fname = \"CRISPRi_rAVG_log2FC_2.bed.gz\"\n",
    "txt_fpath = file.path(txt_fdiry, txt_fname)\n",
    "\n",
    "###\n",
    "vec = c(\"Chrom\", \"ChromStart\", \"ChromEnd\", \"Name\", \"Score\")\n",
    "dat = read_tsv(txt_fpath, col_names = vec, show_col_types = FALSE)\n",
    "\n",
    "###\n",
    "dat_score_check = dat\n",
    "print(dim(dat))\n",
    "head(dat)"
   ]
  },
  {
   "cell_type": "code",
   "execution_count": 36,
   "id": "09393723-0e32-4d96-bdf0-47cc1220ca21",
   "metadata": {},
   "outputs": [
    {
     "data": {
      "image/png": "[encoded data removed]",
      "text/plain": [
       "plot without title"
      ]
     },
     "metadata": {
      "image/png": {
       "height": 300,
       "width": 480
      }
     },
     "output_type": "display_data"
    }
   ],
   "source": [
    "### init\n",
    "dat = dat_score_check\n",
    "vec = dat$Score\n",
    "\n",
    "### stats\n",
    "val_mu = mean(vec)\n",
    "val_sd = sd(vec)\n",
    "vec_sd = c(val_sd, -val_sd)\n",
    "\n",
    "### visualize\n",
    "dat = dat %>% dplyr::filter(abs(Score) < 2)\n",
    "gpt = ggplot(dat, aes(x=Score)) + \n",
    "    geom_histogram(binwidth = 0.05) +\n",
    "    geom_vline(xintercept = val_mu,       linetype=\"dashed\", color=\"black\") +\n",
    "    geom_vline(xintercept = vec_sd * 1.0, linetype=\"dashed\", color=\"red\") +\n",
    "    geom_vline(xintercept = vec_sd * 1.5, linetype=\"dashed\", color=\"blue\") +\n",
    "    geom_vline(xintercept = vec_sd * 2.0, linetype=\"dashed\", color=\"chartreuse4\") +\n",
    "    theme_cowplot()\n",
    "\n",
    "options(repr.plot.height=5, repr.plot.width=8)\n",
    "print(gpt)"
   ]
  },
  {
   "cell_type": "code",
   "execution_count": 38,
   "id": "b8dc322e-0f84-4245-9717-60837fc0b7d3",
   "metadata": {},
   "outputs": [
    {
     "name": "stdout",
     "output_type": "stream",
     "text": [
      "[1] 856   5\n"
     ]
    },
    {
     "data": {
      "text/html": [
       "<table class=\"dataframe\">\n",
       "<caption>A tibble: 6 × 5</caption>\n",
       "<thead>\n",
       "\t<tr><th scope=col>Chrom</th><th scope=col>ChromStart</th><th scope=col>ChromEnd</th><th scope=col>Name</th><th scope=col>Score</th></tr>\n",
       "\t<tr><th scope=col>&lt;chr&gt;</th><th scope=col>&lt;dbl&gt;</th><th scope=col>&lt;dbl&gt;</th><th scope=col>&lt;chr&gt;</th><th scope=col>&lt;dbl&gt;</th></tr>\n",
       "</thead>\n",
       "<tbody>\n",
       "\t<tr><td>chrX</td><td>50903783</td><td>50903784</td><td>id-1066174</td><td>-0.310595</td></tr>\n",
       "\t<tr><td>chrX</td><td>50903787</td><td>50903788</td><td>id-1066175</td><td> 0.270760</td></tr>\n",
       "\t<tr><td>chrX</td><td>50903791</td><td>50903792</td><td>id-1066176</td><td> 0.266861</td></tr>\n",
       "\t<tr><td>chrX</td><td>50903792</td><td>50903793</td><td>id-1066177</td><td> 0.400838</td></tr>\n",
       "\t<tr><td>chrX</td><td>50903793</td><td>50903794</td><td>id-1066178</td><td> 0.087993</td></tr>\n",
       "\t<tr><td>chrX</td><td>50903805</td><td>50903806</td><td>id-1066179</td><td>-0.323086</td></tr>\n",
       "</tbody>\n",
       "</table>\n"
      ],
      "text/latex": [
       "A tibble: 6 × 5\n",
       "\\begin{tabular}{lllll}\n",
       " Chrom & ChromStart & ChromEnd & Name & Score\\\\\n",
       " <chr> & <dbl> & <dbl> & <chr> & <dbl>\\\\\n",
       "\\hline\n",
       "\t chrX & 50903783 & 50903784 & id-1066174 & -0.310595\\\\\n",
       "\t chrX & 50903787 & 50903788 & id-1066175 &  0.270760\\\\\n",
       "\t chrX & 50903791 & 50903792 & id-1066176 &  0.266861\\\\\n",
       "\t chrX & 50903792 & 50903793 & id-1066177 &  0.400838\\\\\n",
       "\t chrX & 50903793 & 50903794 & id-1066178 &  0.087993\\\\\n",
       "\t chrX & 50903805 & 50903806 & id-1066179 & -0.323086\\\\\n",
       "\\end{tabular}\n"
      ],
      "text/markdown": [
       "\n",
       "A tibble: 6 × 5\n",
       "\n",
       "| Chrom &lt;chr&gt; | ChromStart &lt;dbl&gt; | ChromEnd &lt;dbl&gt; | Name &lt;chr&gt; | Score &lt;dbl&gt; |\n",
       "|---|---|---|---|---|\n",
       "| chrX | 50903783 | 50903784 | id-1066174 | -0.310595 |\n",
       "| chrX | 50903787 | 50903788 | id-1066175 |  0.270760 |\n",
       "| chrX | 50903791 | 50903792 | id-1066176 |  0.266861 |\n",
       "| chrX | 50903792 | 50903793 | id-1066177 |  0.400838 |\n",
       "| chrX | 50903793 | 50903794 | id-1066178 |  0.087993 |\n",
       "| chrX | 50903805 | 50903806 | id-1066179 | -0.323086 |\n",
       "\n"
      ],
      "text/plain": [
       "  Chrom ChromStart ChromEnd Name       Score    \n",
       "1 chrX  50903783   50903784 id-1066174 -0.310595\n",
       "2 chrX  50903787   50903788 id-1066175  0.270760\n",
       "3 chrX  50903791   50903792 id-1066176  0.266861\n",
       "4 chrX  50903792   50903793 id-1066177  0.400838\n",
       "5 chrX  50903793   50903794 id-1066178  0.087993\n",
       "6 chrX  50903805   50903806 id-1066179 -0.323086"
      ]
     },
     "metadata": {},
     "output_type": "display_data"
    }
   ],
   "source": [
    "txt_chrom = \"chrX\"\n",
    "num_chrom_start = 50749700\n",
    "num_chrom_end   = 53716000\n",
    "\n",
    "dat = dat_score_check\n",
    "dat = dat %>% \n",
    "    dplyr::filter(\n",
    "        Chrom == txt_chrom,\n",
    "        ChromStart > num_chrom_start,\n",
    "        ChromEnd   < num_chrom_end,\n",
    "    )\n",
    "print(dim(dat))\n",
    "head(dat)"
   ]
  },
  {
   "cell_type": "code",
   "execution_count": null,
   "id": "9433890e-1562-4127-b8e6-6c999362fd1b",
   "metadata": {},
   "outputs": [],
   "source": []
  }
 ],
 "metadata": {
  "kernelspec": {
   "display_name": "R",
   "language": "R",
   "name": "ir"
  },
  "language_info": {
   "codemirror_mode": "r",
   "file_extension": ".r",
   "mimetype": "text/x-r-source",
   "name": "R",
   "pygments_lexer": "r",
   "version": "4.4.0"
  }
 },
 "nbformat": 4,
 "nbformat_minor": 5
}
