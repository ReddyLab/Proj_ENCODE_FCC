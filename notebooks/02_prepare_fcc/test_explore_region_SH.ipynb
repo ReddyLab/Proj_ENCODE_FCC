{
 "cells": [
  {
   "cell_type": "markdown",
   "id": "e819af15-5335-4cd5-863d-1030b5aa1550",
   "metadata": {},
   "source": [
    "**Set environment**"
   ]
  },
  {
   "cell_type": "code",
   "execution_count": 1,
   "id": "9fca19b0-c2f3-4502-bf40-9b47be7575aa",
   "metadata": {},
   "outputs": [
    {
     "name": "stdout",
     "output_type": "stream",
     "text": [
      "You are working on             Duke Server: HARDAC\n",
      "BASE DIRECTORY (FD_BASE):      /data/reddylab/Kuei\n",
      "REPO DIRECTORY (FD_REPO):      /data/reddylab/Kuei/repo\n",
      "WORK DIRECTORY (FD_WORK):      /data/reddylab/Kuei/work\n",
      "DATA DIRECTORY (FD_DATA):      /data/reddylab/Kuei/data\n",
      "CONTAINER DIR. (FD_SING):      /data/reddylab/Kuei/container\n",
      "\n",
      "You are working with           ENCODE FCC\n",
      "PATH OF PROJECT (FD_PRJ):      /data/reddylab/Kuei/repo/Proj_ENCODE_FCC\n",
      "PROJECT RESULTS (FD_RES):      /data/reddylab/Kuei/repo/Proj_ENCODE_FCC/results\n",
      "PROJECT SCRIPTS (FD_EXE):      /data/reddylab/Kuei/repo/Proj_ENCODE_FCC/scripts\n",
      "PROJECT DATA    (FD_DAT):      /data/reddylab/Kuei/repo/Proj_ENCODE_FCC/data\n",
      "PROJECT NOTE    (FD_NBK):      /data/reddylab/Kuei/repo/Proj_ENCODE_FCC/notebooks\n",
      "PROJECT DOCS    (FD_DOC):      /data/reddylab/Kuei/repo/Proj_ENCODE_FCC/docs\n",
      "PROJECT LOG     (FD_LOG):      /data/reddylab/Kuei/repo/Proj_ENCODE_FCC/log\n",
      "PROJECT APP     (FD_APP):      /data/reddylab/Kuei/repo/Proj_ENCODE_FCC/app\n",
      "PROJECT REF     (FD_REF):      /data/reddylab/Kuei/repo/Proj_ENCODE_FCC/references\n",
      "PROJECT IMAGE   (FP_PRJ_SIF):  /data/reddylab/Kuei/repo/Proj_ENCODE_FCC/app/singularity_proj_encode_fcc.sif\n",
      "\n"
     ]
    }
   ],
   "source": [
    "source ../run_config_project.sh\n",
    "show_env"
   ]
  },
  {
   "cell_type": "markdown",
   "id": "de11ca44-a05b-48ff-9008-cc2c26c920b2",
   "metadata": {},
   "source": [
    "**Set old directories**"
   ]
  },
  {
   "cell_type": "code",
   "execution_count": 2,
   "id": "dfe38b57-31de-48fe-882e-7b2c19471d96",
   "metadata": {},
   "outputs": [],
   "source": [
    "FD_RES_OLD=${FD_WORK}/proj_encode_fcc/results_v4\n",
    "FD_DAT_OLD=${FD_WORK}/proj_encode_fcc/source"
   ]
  },
  {
   "cell_type": "markdown",
   "id": "92236c4c-ba5a-4811-968d-c66f6c805e5c",
   "metadata": {},
   "source": [
    "## Explore"
   ]
  },
  {
   "cell_type": "code",
   "execution_count": 6,
   "id": "bb598ecf-0393-44bf-9729-6e9ed8f41e29",
   "metadata": {},
   "outputs": [
    {
     "name": "stdout",
     "output_type": "stream",
     "text": [
      "description.tsv\n",
      "K562.TSS.selected_by_highest_Pol2_signal.bed\n",
      "\u001b[0m\u001b[38;5;9mK562.TSS.selected_by_highest_Pol2_signal.bed.gz\u001b[0m\n",
      "\u001b[38;5;9mK562.TSS.selected_by_highest_Pol2_signal.filtered_by_RNAseq_TPM.bed.gz\u001b[0m\n"
     ]
    }
   ],
   "source": [
    "ls -1 ${FD_RES_OLD}/region/annotation_tss_pol2"
   ]
  },
  {
   "cell_type": "code",
   "execution_count": 13,
   "id": "88fc0c75-fb0f-4aef-976c-205df29715b4",
   "metadata": {},
   "outputs": [
    {
     "name": "stdout",
     "output_type": "stream",
     "text": [
      "\u001b[0m\u001b[38;5;27mencode_chipseq_flagship\u001b[0m  \u001b[38;5;27mencode_chromatin_states\u001b[0m  \u001b[38;5;27mfcc_astarr_macs\u001b[0m  \u001b[38;5;27msummary\u001b[0m\n",
      "\u001b[38;5;27mencode_chipseq_histone\u001b[0m   \u001b[38;5;27mencode_open_chromatin\u001b[0m    \u001b[38;5;27mfcc_screened\u001b[0m\n",
      "\u001b[38;5;27mencode_chipseq_subset\u001b[0m    \u001b[38;5;27mfcc_astarr_csaw\u001b[0m          \u001b[38;5;27mgenome_tss\u001b[0m\n"
     ]
    }
   ],
   "source": [
    "ls ${FD_RES}/region"
   ]
  },
  {
   "cell_type": "code",
   "execution_count": 16,
   "id": "aa039e3a-f36c-41d6-9286-d8c06c087294",
   "metadata": {},
   "outputs": [
    {
     "name": "stdout",
     "output_type": "stream",
     "text": [
      "\u001b[0m\u001b[38;5;9mK562.TSS.selected_by_highest_Pol2_signal.bed.gz\u001b[0m\n",
      "\u001b[38;5;9mK562.TSS.selected_by_highest_Pol2_signal.filtered_by_RNAseq_TPM.bed.gz\u001b[0m\n"
     ]
    }
   ],
   "source": [
    "#cp ${FD_RES_OLD}/region/annotation_tss_pol2/K562*bed.gz ${FD_RES}/region/genome_tss\n",
    "ls ${FD_RES}/region/genome_tss"
   ]
  },
  {
   "cell_type": "code",
   "execution_count": 17,
   "id": "774493cb-0ca5-407f-8f1e-89f07f79c435",
   "metadata": {},
   "outputs": [
    {
     "name": "stdout",
     "output_type": "stream",
     "text": [
      "chr1\t11873\t11874\tDDX11L1\t2.3e-4\n",
      "chr1\t17436\t17437\tMIR6859-1\t9.43812\n",
      "chr1\t17436\t17437\tMIR6859-2\t9.43812\n",
      "chr1\t17436\t17437\tMIR6859-3\t9.43812\n",
      "chr1\t17436\t17437\tMIR6859-4\t9.43812\n",
      "chr1\t29370\t29371\tWASH7P\t2.3e-4\n",
      "chr1\t30365\t30366\tMIR1302-10\t0.562995\n",
      "chr1\t30365\t30366\tMIR1302-11\t0.562995\n",
      "chr1\t30365\t30366\tMIR1302-2\t0.562995\n",
      "chr1\t30365\t30366\tMIR1302-9\t0.562995\n"
     ]
    }
   ],
   "source": [
    "FDIRY=${FD_RES}/region/genome_tss\n",
    "FNAME=K562.TSS.selected_by_highest_Pol2_signal.bed.gz\n",
    "FPATH=${FDIRY}/${FNAME}\n",
    "zcat ${FPATH} | head"
   ]
  },
  {
   "cell_type": "code",
   "execution_count": 18,
   "id": "37594d30-7683-4b95-aa7f-91a5bae517f4",
   "metadata": {},
   "outputs": [
    {
     "name": "stdout",
     "output_type": "stream",
     "text": [
      "chr1\t29370\t29371\tWASH7P\t2.3e-4\n",
      "chr1\t827522\t827523\tLINC00115\t64.4656\n",
      "chr1\t827590\t827591\tLINC01128\t64.4603\n",
      "chr1\t876802\t876803\tFAM41C\t0.00788399\n",
      "chr1\t959256\t959257\tNOC2L\t104.866\n",
      "chr1\t960583\t960584\tKLHL17\t8.22571\n",
      "chr1\t1000097\t1000098\tHES4\t50.5814\n",
      "chr1\t1013496\t1013497\tISG15\t42.9708\n",
      "chr1\t1020119\t1020120\tAGRN\t2.71433\n",
      "chr1\t1116089\t1116090\tC1orf159\t16.4374\n"
     ]
    }
   ],
   "source": [
    "FDIRY=${FD_RES}/region/genome_tss\n",
    "FNAME=K562.TSS.selected_by_highest_Pol2_signal.filtered_by_RNAseq_TPM.bed.gz\n",
    "FPATH=${FDIRY}/${FNAME}\n",
    "zcat ${FPATH} | head"
   ]
  },
  {
   "cell_type": "code",
   "execution_count": null,
   "id": "3f432da3-5a60-4146-9240-5c2a50cd6112",
   "metadata": {},
   "outputs": [],
   "source": []
  }
 ],
 "metadata": {
  "kernelspec": {
   "display_name": "Bash",
   "language": "bash",
   "name": "bash"
  },
  "language_info": {
   "codemirror_mode": "shell",
   "file_extension": ".sh",
   "mimetype": "text/x-sh",
   "name": "bash"
  }
 },
 "nbformat": 4,
 "nbformat_minor": 5
}
