{
 "cells": [
  {
   "cell_type": "markdown",
   "id": "e819af15-5335-4cd5-863d-1030b5aa1550",
   "metadata": {},
   "source": [
    "**Set environment**"
   ]
  },
  {
   "cell_type": "code",
   "execution_count": 1,
   "id": "9fca19b0-c2f3-4502-bf40-9b47be7575aa",
   "metadata": {},
   "outputs": [
    {
     "name": "stdout",
     "output_type": "stream",
     "text": [
      "You are working on             Duke Server: HARDAC\n",
      "BASE DIRECTORY (FD_BASE):      /data/reddylab/Kuei\n",
      "REPO DIRECTORY (FD_REPO):      /data/reddylab/Kuei/repo\n",
      "WORK DIRECTORY (FD_WORK):      /data/reddylab/Kuei/work\n",
      "DATA DIRECTORY (FD_DATA):      /data/reddylab/Kuei/data\n",
      "CONTAINER DIR. (FD_SING):      /data/reddylab/Kuei/container\n",
      "\n",
      "You are working with           ENCODE FCC\n",
      "PATH OF PROJECT (FD_PRJ):      /data/reddylab/Kuei/repo/Proj_ENCODE_FCC\n",
      "PROJECT RESULTS (FD_RES):      /data/reddylab/Kuei/repo/Proj_ENCODE_FCC/results\n",
      "PROJECT SCRIPTS (FD_EXE):      /data/reddylab/Kuei/repo/Proj_ENCODE_FCC/scripts\n",
      "PROJECT DATA    (FD_DAT):      /data/reddylab/Kuei/repo/Proj_ENCODE_FCC/data\n",
      "PROJECT NOTE    (FD_NBK):      /data/reddylab/Kuei/repo/Proj_ENCODE_FCC/notebooks\n",
      "PROJECT DOCS    (FD_DOC):      /data/reddylab/Kuei/repo/Proj_ENCODE_FCC/docs\n",
      "PROJECT LOG     (FD_LOG):      /data/reddylab/Kuei/repo/Proj_ENCODE_FCC/log\n",
      "PROJECT APP     (FD_APP):      \n",
      "PROJECT REF     (FD_REF):      /data/reddylab/Kuei/repo/Proj_ENCODE_FCC/references\n",
      "PROJECT IMAGE   (FP_PRJ_SIF):  /data/reddylab/Kuei/container/project/singularity_proj_encode_fcc.sif\n",
      "\n"
     ]
    }
   ],
   "source": [
    "source ../run_config_project.sh\n",
    "show_env"
   ]
  },
  {
   "cell_type": "markdown",
   "id": "de11ca44-a05b-48ff-9008-cc2c26c920b2",
   "metadata": {},
   "source": [
    "**Set old directories**"
   ]
  },
  {
   "cell_type": "code",
   "execution_count": 2,
   "id": "dfe38b57-31de-48fe-882e-7b2c19471d96",
   "metadata": {},
   "outputs": [],
   "source": [
    "FD_RES_OLD=${FD_WORK}/proj_encode_fcc/results_v4\n",
    "FD_DAT_OLD=${FD_WORK}/proj_encode_fcc/source"
   ]
  },
  {
   "cell_type": "markdown",
   "id": "92236c4c-ba5a-4811-968d-c66f6c805e5c",
   "metadata": {},
   "source": [
    "## Explore"
   ]
  },
  {
   "cell_type": "code",
   "execution_count": 6,
   "id": "bb598ecf-0393-44bf-9729-6e9ed8f41e29",
   "metadata": {},
   "outputs": [
    {
     "name": "stdout",
     "output_type": "stream",
     "text": [
      "description.tsv\n",
      "K562.TSS.selected_by_highest_Pol2_signal.bed\n",
      "\u001b[0m\u001b[38;5;9mK562.TSS.selected_by_highest_Pol2_signal.bed.gz\u001b[0m\n",
      "\u001b[38;5;9mK562.TSS.selected_by_highest_Pol2_signal.filtered_by_RNAseq_TPM.bed.gz\u001b[0m\n"
     ]
    }
   ],
   "source": [
    "ls -1 ${FD_RES_OLD}/region/annotation_tss_pol2"
   ]
  },
  {
   "cell_type": "code",
   "execution_count": 13,
   "id": "88fc0c75-fb0f-4aef-976c-205df29715b4",
   "metadata": {},
   "outputs": [
    {
     "name": "stdout",
     "output_type": "stream",
     "text": [
      "\u001b[0m\u001b[38;5;27mencode_chipseq_flagship\u001b[0m  \u001b[38;5;27mencode_chromatin_states\u001b[0m  \u001b[38;5;27mfcc_astarr_macs\u001b[0m  \u001b[38;5;27msummary\u001b[0m\n",
      "\u001b[38;5;27mencode_chipseq_histone\u001b[0m   \u001b[38;5;27mencode_open_chromatin\u001b[0m    \u001b[38;5;27mfcc_screened\u001b[0m\n",
      "\u001b[38;5;27mencode_chipseq_subset\u001b[0m    \u001b[38;5;27mfcc_astarr_csaw\u001b[0m          \u001b[38;5;27mgenome_tss\u001b[0m\n"
     ]
    }
   ],
   "source": [
    "ls ${FD_RES}/region"
   ]
  },
  {
   "cell_type": "code",
   "execution_count": 16,
   "id": "aa039e3a-f36c-41d6-9286-d8c06c087294",
   "metadata": {},
   "outputs": [
    {
     "name": "stdout",
     "output_type": "stream",
     "text": [
      "\u001b[0m\u001b[38;5;9mK562.TSS.selected_by_highest_Pol2_signal.bed.gz\u001b[0m\n",
      "\u001b[38;5;9mK562.TSS.selected_by_highest_Pol2_signal.filtered_by_RNAseq_TPM.bed.gz\u001b[0m\n"
     ]
    }
   ],
   "source": [
    "#cp ${FD_RES_OLD}/region/annotation_tss_pol2/K562*bed.gz ${FD_RES}/region/genome_tss\n",
    "ls ${FD_RES}/region/genome_tss"
   ]
  },
  {
   "cell_type": "code",
   "execution_count": 17,
   "id": "774493cb-0ca5-407f-8f1e-89f07f79c435",
   "metadata": {},
   "outputs": [
    {
     "name": "stdout",
     "output_type": "stream",
     "text": [
      "chr1\t11873\t11874\tDDX11L1\t2.3e-4\n",
      "chr1\t17436\t17437\tMIR6859-1\t9.43812\n",
      "chr1\t17436\t17437\tMIR6859-2\t9.43812\n",
      "chr1\t17436\t17437\tMIR6859-3\t9.43812\n",
      "chr1\t17436\t17437\tMIR6859-4\t9.43812\n",
      "chr1\t29370\t29371\tWASH7P\t2.3e-4\n",
      "chr1\t30365\t30366\tMIR1302-10\t0.562995\n",
      "chr1\t30365\t30366\tMIR1302-11\t0.562995\n",
      "chr1\t30365\t30366\tMIR1302-2\t0.562995\n",
      "chr1\t30365\t30366\tMIR1302-9\t0.562995\n"
     ]
    }
   ],
   "source": [
    "FDIRY=${FD_RES}/region/genome_tss\n",
    "FNAME=K562.TSS.selected_by_highest_Pol2_signal.bed.gz\n",
    "FPATH=${FDIRY}/${FNAME}\n",
    "zcat ${FPATH} | head"
   ]
  },
  {
   "cell_type": "code",
   "execution_count": 18,
   "id": "37594d30-7683-4b95-aa7f-91a5bae517f4",
   "metadata": {},
   "outputs": [
    {
     "name": "stdout",
     "output_type": "stream",
     "text": [
      "chr1\t29370\t29371\tWASH7P\t2.3e-4\n",
      "chr1\t827522\t827523\tLINC00115\t64.4656\n",
      "chr1\t827590\t827591\tLINC01128\t64.4603\n",
      "chr1\t876802\t876803\tFAM41C\t0.00788399\n",
      "chr1\t959256\t959257\tNOC2L\t104.866\n",
      "chr1\t960583\t960584\tKLHL17\t8.22571\n",
      "chr1\t1000097\t1000098\tHES4\t50.5814\n",
      "chr1\t1013496\t1013497\tISG15\t42.9708\n",
      "chr1\t1020119\t1020120\tAGRN\t2.71433\n",
      "chr1\t1116089\t1116090\tC1orf159\t16.4374\n"
     ]
    }
   ],
   "source": [
    "FDIRY=${FD_RES}/region/genome_tss\n",
    "FNAME=K562.TSS.selected_by_highest_Pol2_signal.filtered_by_RNAseq_TPM.bed.gz\n",
    "FPATH=${FDIRY}/${FNAME}\n",
    "zcat ${FPATH} | head"
   ]
  },
  {
   "cell_type": "code",
   "execution_count": null,
   "id": "a41a4277-7160-4ef2-9118-9e67eab53447",
   "metadata": {},
   "outputs": [],
   "source": []
  },
  {
   "cell_type": "code",
   "execution_count": null,
   "id": "e901f473-1715-4197-94de-0121a20a8636",
   "metadata": {},
   "outputs": [],
   "source": []
  },
  {
   "cell_type": "code",
   "execution_count": null,
   "id": "a5cd1429-6dbc-4238-b578-1128883e4e63",
   "metadata": {},
   "outputs": [],
   "source": []
  },
  {
   "cell_type": "code",
   "execution_count": 2,
   "id": "0e5d3ece-649d-4180-be63-8459f5391b66",
   "metadata": {},
   "outputs": [
    {
     "name": "stdout",
     "output_type": "stream",
     "text": [
      "\u001b[0m\u001b[38;5;27mencode_chipseq_encode4\u001b[0m   \u001b[38;5;27mencode_open_chromatin\u001b[0m  \u001b[38;5;27mgenome_tss\u001b[0m\n",
      "\u001b[38;5;27mencode_chipseq_flagship\u001b[0m  \u001b[38;5;27mfcc_astarr_csaw\u001b[0m        \u001b[38;5;27mhic_insitu_K562_ENCSR545YBD\u001b[0m\n",
      "\u001b[38;5;27mencode_chipseq_histone\u001b[0m   \u001b[38;5;27mfcc_astarr_macs\u001b[0m        \u001b[38;5;27mhic_intact_K562_deep\u001b[0m\n",
      "\u001b[38;5;27mencode_chipseq_subset\u001b[0m    \u001b[38;5;27mfcc_crispri_hcrff\u001b[0m      \u001b[38;5;27mhic_intact_K562_ENCSR479XDG\u001b[0m\n",
      "\u001b[38;5;27mencode_chromatin_states\u001b[0m  \u001b[38;5;27mfcc_screened\u001b[0m           \u001b[38;5;27msummary\u001b[0m\n"
     ]
    }
   ],
   "source": [
    "ls ${FD_RES}/region"
   ]
  },
  {
   "cell_type": "code",
   "execution_count": 8,
   "id": "a5d8bc2e-dbec-4717-96b3-93490577fc10",
   "metadata": {},
   "outputs": [
    {
     "name": "stdout",
     "output_type": "stream",
     "text": [
      "\u001b[0m\u001b[38;5;27mencode_chromatin_states\u001b[0m  \u001b[38;5;27mgenome_tss\u001b[0m\n",
      "\u001b[38;5;27mencode_open_chromatin\u001b[0m    \u001b[38;5;27mhic_insitu_K562_ENCSR545YBD\u001b[0m\n",
      "\u001b[38;5;27mfcc_astarr_csaw\u001b[0m          \u001b[38;5;27mhic_intact_K562_deep\u001b[0m\n",
      "\u001b[38;5;27mfcc_astarr_macs\u001b[0m          \u001b[38;5;27mhic_intact_K562_ENCSR479XDG\u001b[0m\n",
      "\u001b[38;5;27mfcc_crispri_hcrff\u001b[0m        \u001b[38;5;27msummary\u001b[0m\n",
      "\u001b[38;5;27mfcc_screened\u001b[0m\n"
     ]
    }
   ],
   "source": [
    "ls --ignore='encode_chipseq*' ${FD_RES}/region"
   ]
  },
  {
   "cell_type": "code",
   "execution_count": 9,
   "id": "3f432da3-5a60-4146-9240-5c2a50cd6112",
   "metadata": {},
   "outputs": [
    {
     "name": "stdout",
     "output_type": "stream",
     "text": [
      "/data/reddylab/Kuei/repo/Proj_ENCODE_FCC/results/region:\n",
      "\u001b[0m\u001b[38;5;27mencode_chromatin_states\u001b[0m  \u001b[38;5;27mgenome_tss\u001b[0m\n",
      "\u001b[38;5;27mencode_open_chromatin\u001b[0m    \u001b[38;5;27mhic_insitu_K562_ENCSR545YBD\u001b[0m\n",
      "\u001b[38;5;27mfcc_astarr_csaw\u001b[0m          \u001b[38;5;27mhic_intact_K562_deep\u001b[0m\n",
      "\u001b[38;5;27mfcc_astarr_macs\u001b[0m          \u001b[38;5;27mhic_intact_K562_ENCSR479XDG\u001b[0m\n",
      "\u001b[38;5;27mfcc_crispri_hcrff\u001b[0m        \u001b[38;5;27msummary\u001b[0m\n",
      "\u001b[38;5;27mfcc_screened\u001b[0m\n",
      "\n",
      "/data/reddylab/Kuei/repo/Proj_ENCODE_FCC/results/region/encode_chromatin_states:\n",
      "\u001b[38;5;9mK562.hg38.cCREs.silencer_rest.bed.gz\u001b[0m\n",
      "\u001b[38;5;9mK562.hg38.cCREs.silencer_starr.bed.gz\u001b[0m\n",
      "\u001b[38;5;9mK562.hg38.ENCSR365YNI.ENCFF106BGJ.ChromHMM.simplified.bed.gz\u001b[0m\n",
      "\u001b[38;5;9mK562.hg38.ENCSR913HQX.ENCFF286VQG.cCREs.simplified.bed.gz\u001b[0m\n",
      "\u001b[38;5;27msummary\u001b[0m\n",
      "\n",
      "/data/reddylab/Kuei/repo/Proj_ENCODE_FCC/results/region/encode_chromatin_states/summary:\n",
      "description.tsv\n",
      "\u001b[38;5;9mK562.hg38.ENCSR913HQX.ENCFF286VQG.cCREs.label2name.bed.gz\u001b[0m\n",
      "\u001b[38;5;9mK562.hg38.ENCSR913HQX.ENCFF286VQG.cCREs.label2name.PLS_ELS.bed.gz\u001b[0m\n",
      "metadata.label.tsv\n",
      "\n",
      "/data/reddylab/Kuei/repo/Proj_ENCODE_FCC/results/region/encode_open_chromatin:\n",
      "\u001b[38;5;9mK562.hg38.ENCSR000EKS.ENCFF274YGF.DNase.bed.gz\u001b[0m\n",
      "\u001b[38;5;9mK562.hg38.ENCSR000EOT.ENCFF185XRG.DNase.bed.gz\u001b[0m\n",
      "\u001b[38;5;9mK562.hg38.ENCSR483RKN.ENCFF558BLC.ATAC.bed.gz\u001b[0m\n",
      "\u001b[38;5;9mK562.hg38.ENCSR483RKN.ENCFF925CYR.ATAC.bed.gz\u001b[0m\n",
      "\u001b[38;5;9mK562.hg38.ENCSR868FGK.ENCFF333TAT.ATAC.bed.gz\u001b[0m\n",
      "\u001b[38;5;9mK562.hg38.ENCSR868FGK.ENCFF948AFM.ATAC.bed.gz\u001b[0m\n",
      "\u001b[38;5;27msummary\u001b[0m\n",
      "\n",
      "/data/reddylab/Kuei/repo/Proj_ENCODE_FCC/results/region/encode_open_chromatin/summary:\n",
      "description.tsv  metadata.label.tsv\n",
      "\n",
      "/data/reddylab/Kuei/repo/Proj_ENCODE_FCC/results/region/fcc_astarr_csaw:\n",
      "\u001b[38;5;9mK562.hg38.ASTARR.csaw.KS91.bed.gz\u001b[0m     \u001b[38;5;27msummary\u001b[0m\n",
      "\u001b[38;5;9mK562.hg38.ASTARR.csaw.KSMerge.bed.gz\u001b[0m\n",
      "\n",
      "/data/reddylab/Kuei/repo/Proj_ENCODE_FCC/results/region/fcc_astarr_csaw/summary:\n",
      "description.tsv  metadata.label.tsv\n",
      "\n",
      "/data/reddylab/Kuei/repo/Proj_ENCODE_FCC/results/region/fcc_astarr_macs:\n",
      "\u001b[38;5;9mASTARRseq_K562_KS91.hg38.Input.rep_all.max_overlaps.q5.bed.gz\u001b[0m\n",
      "\u001b[38;5;9mASTARRseq_K562_KS91.hg38.Input.rep_all.union.q5.bed.gz\u001b[0m\n",
      "\u001b[38;5;9mK562.hg38.ASTARR.macs.KS91.input.rep_all.max_overlaps.q5.bed.gz\u001b[0m\n",
      "\u001b[38;5;9mK562.hg38.ASTARR.macs.KS91.input.rep_all.union.q5.bed.gz\u001b[0m\n",
      "\u001b[38;5;27msummary\u001b[0m\n",
      "\n",
      "/data/reddylab/Kuei/repo/Proj_ENCODE_FCC/results/region/fcc_astarr_macs/summary:\n",
      "description.tsv  metadata.label.tsv\n",
      "\n",
      "/data/reddylab/Kuei/repo/Proj_ENCODE_FCC/results/region/fcc_crispri_hcrff:\n",
      "\u001b[38;5;9mK562.hg38.CRISPRi_HCRFF.CASA.bed.gz\u001b[0m  \u001b[38;5;27msummary\u001b[0m\n",
      "\n",
      "/data/reddylab/Kuei/repo/Proj_ENCODE_FCC/results/region/fcc_crispri_hcrff/summary:\n",
      "description.tsv  metadata.label.tsv\n",
      "\n",
      "/data/reddylab/Kuei/repo/Proj_ENCODE_FCC/results/region/fcc_screened:\n",
      "\u001b[38;5;9mregion_screened.crispri_hcrff.bed.gz\u001b[0m  \u001b[38;5;9mregion_screened.tmpra.bed.gz\u001b[0m\n",
      "region_screened.crispri_hcrff.tsv     region_screened.tmpra.tsv\n",
      "\n",
      "/data/reddylab/Kuei/repo/Proj_ENCODE_FCC/results/region/genome_tss:\n",
      "\u001b[38;5;9mK562.hg38.TSS.selected_by_highest_Pol2_signal.bed.gz\u001b[0m\n",
      "\u001b[38;5;9mK562.hg38.TSS.selected_by_highest_Pol2_signal.filtered_by_RNAseq_TPM.bed.gz\u001b[0m\n",
      "\u001b[38;5;27msummary\u001b[0m\n",
      "\n",
      "/data/reddylab/Kuei/repo/Proj_ENCODE_FCC/results/region/genome_tss/summary:\n",
      "description.tsv  metadata.label.tsv\n",
      "\n",
      "/data/reddylab/Kuei/repo/Proj_ENCODE_FCC/results/region/hic_insitu_K562_ENCSR545YBD:\n",
      "\u001b[38;5;9mK562.hg38.hic_insitu.Loop_A.bed.gz\u001b[0m  \u001b[38;5;9mK562.hg38.hic_insitu.TAD.bedpe.gz\u001b[0m\n",
      "\u001b[38;5;9mK562.hg38.hic_insitu.Loop_B.bed.gz\u001b[0m  \u001b[38;5;27msummary\u001b[0m\n",
      "\n",
      "/data/reddylab/Kuei/repo/Proj_ENCODE_FCC/results/region/hic_insitu_K562_ENCSR545YBD/summary:\n",
      "description.tsv                K562.hg38.hic_insitu.TAD.tsv\n",
      "K562.hg38.hic_insitu.Loop.tsv  metadata.label.tsv\n",
      "\n",
      "/data/reddylab/Kuei/repo/Proj_ENCODE_FCC/results/region/hic_intact_K562_deep:\n",
      "\u001b[38;5;9mK562.hg38.hic_intact.Loop_A.bed.gz\u001b[0m  \u001b[38;5;9mK562.hg38.hic_intact.Loop_B.bed.gz\u001b[0m  \u001b[38;5;27msummary\u001b[0m\n",
      "\n",
      "/data/reddylab/Kuei/repo/Proj_ENCODE_FCC/results/region/hic_intact_K562_deep/summary:\n",
      "description.tsv  K562.hg38.hic_intact.Loop.tsv  metadata.label.tsv\n",
      "\n",
      "/data/reddylab/Kuei/repo/Proj_ENCODE_FCC/results/region/hic_intact_K562_ENCSR479XDG:\n",
      "\u001b[38;5;9mK562.hg38.hic_intact.Loop_A.bed.gz\u001b[0m  \u001b[38;5;9mK562.hg38.hic_intact.TAD.bedpe.gz\u001b[0m\n",
      "\u001b[38;5;9mK562.hg38.hic_intact.Loop_B.bed.gz\u001b[0m  \u001b[38;5;27msummary\u001b[0m\n",
      "\n",
      "/data/reddylab/Kuei/repo/Proj_ENCODE_FCC/results/region/hic_intact_K562_ENCSR479XDG/summary:\n",
      "description.tsv                K562.hg38.hic_intact.TAD.tsv\n",
      "K562.hg38.hic_intact.Loop.tsv  metadata.label.tsv\n",
      "\n",
      "/data/reddylab/Kuei/repo/Proj_ENCODE_FCC/results/region/summary:\n",
      "annotation.macs.label.region_A.tsv\n",
      "annotation.macs.label.region_B.chipseq_full.tsv\n",
      "annotation.macs.label.region_B.chipseq_subset.tsv\n",
      "annotation.macs.label.region_B.main.tsv\n",
      "metadata.label.astarr_macs.tsv\n",
      "metadata.label.chipseq_full.tsv\n",
      "metadata.label.main.tsv\n",
      "metadata.label.ocr.tsv\n"
     ]
    }
   ],
   "source": [
    "ls --ignore='encode_chipseq*' -LR ${FD_RES}/region"
   ]
  },
  {
   "cell_type": "code",
   "execution_count": 5,
   "id": "3d480064-af2c-496e-97ff-b9e80792291b",
   "metadata": {},
   "outputs": [
    {
     "name": "stdout",
     "output_type": "stream",
     "text": [
      "/data/reddylab/Kuei/repo/Proj_ENCODE_FCC/results/region/encode_chromatin_states/K562.hg38.ENCSR365YNI.ENCFF106BGJ.ChromHMM.simplified.bed.gz\n",
      "/data/reddylab/Kuei/repo/Proj_ENCODE_FCC/results/region/encode_chromatin_states/K562.hg38.ENCSR913HQX.ENCFF286VQG.cCREs.simplified.bed.gz\n",
      "/data/reddylab/Kuei/repo/Proj_ENCODE_FCC/results/region/encode_chromatin_states/summary/.ipynb_checkpoints/description-checkpoint.tsv\n",
      "/data/reddylab/Kuei/repo/Proj_ENCODE_FCC/results/region/encode_chromatin_states/summary/.ipynb_checkpoints/metadata.label-checkpoint.tsv\n",
      "/data/reddylab/Kuei/repo/Proj_ENCODE_FCC/results/region/encode_chromatin_states/summary/metadata.label.tsv\n",
      "/data/reddylab/Kuei/repo/Proj_ENCODE_FCC/results/region/encode_chromatin_states/summary/description.tsv\n",
      "/data/reddylab/Kuei/repo/Proj_ENCODE_FCC/results/region/encode_chromatin_states/summary/K562.hg38.ENCSR913HQX.ENCFF286VQG.cCREs.label2name.PLS_ELS.bed.gz\n",
      "/data/reddylab/Kuei/repo/Proj_ENCODE_FCC/results/region/encode_chromatin_states/summary/K562.hg38.ENCSR913HQX.ENCFF286VQG.cCREs.label2name.bed.gz\n",
      "/data/reddylab/Kuei/repo/Proj_ENCODE_FCC/results/region/encode_chromatin_states/K562.hg38.cCREs.silencer_rest.bed.gz\n",
      "/data/reddylab/Kuei/repo/Proj_ENCODE_FCC/results/region/encode_chromatin_states/K562.hg38.cCREs.silencer_starr.bed.gz\n"
     ]
    }
   ],
   "source": [
    "find ${FD_RES}/region/encode_chromatin_states -type f -follow -print"
   ]
  },
  {
   "cell_type": "code",
   "execution_count": 6,
   "id": "c3e45135-30ad-4448-974b-4ebfc17691c6",
   "metadata": {},
   "outputs": [
    {
     "name": "stdout",
     "output_type": "stream",
     "text": [
      "-rw-rw-r-- 1 kk319 reddylab   111767 Apr 29 17:00 /data/reddylab/Kuei/repo/Proj_ENCODE_FCC/results/region/encode_chromatin_states/K562.hg38.cCREs.silencer_rest.bed.gz\n",
      "-rw-rw-r-- 1 kk319 reddylab    76466 Apr 29 17:00 /data/reddylab/Kuei/repo/Proj_ENCODE_FCC/results/region/encode_chromatin_states/K562.hg38.cCREs.silencer_starr.bed.gz\n",
      "-rw-rw-r-- 1 kk319 reddylab  2541878 Apr 29 17:00 /data/reddylab/Kuei/repo/Proj_ENCODE_FCC/results/region/encode_chromatin_states/K562.hg38.ENCSR365YNI.ENCFF106BGJ.ChromHMM.simplified.bed.gz\n",
      "-rw-rw-r-- 1 kk319 reddylab 25950108 Apr 29 17:00 /data/reddylab/Kuei/repo/Proj_ENCODE_FCC/results/region/encode_chromatin_states/K562.hg38.ENCSR913HQX.ENCFF286VQG.cCREs.simplified.bed.gz\n",
      "-rw-rw-r-- 1 kk319 reddylab      298 May 13 14:40 /data/reddylab/Kuei/repo/Proj_ENCODE_FCC/results/region/encode_chromatin_states/summary/description.tsv\n",
      "-rw-rw-r-- 1 kk319 reddylab      288 Apr 17 13:55 /data/reddylab/Kuei/repo/Proj_ENCODE_FCC/results/region/encode_chromatin_states/summary/.ipynb_checkpoints/description-checkpoint.tsv\n",
      "-rw-rw-r-- 1 kk319 reddylab      389 Apr 29 15:40 /data/reddylab/Kuei/repo/Proj_ENCODE_FCC/results/region/encode_chromatin_states/summary/.ipynb_checkpoints/metadata.label-checkpoint.tsv\n",
      "-rw-rw-r-- 1 kk319 reddylab 25984653 Apr 29 17:00 /data/reddylab/Kuei/repo/Proj_ENCODE_FCC/results/region/encode_chromatin_states/summary/K562.hg38.ENCSR913HQX.ENCFF286VQG.cCREs.label2name.bed.gz\n",
      "-rw-rw-r-- 1 kk319 reddylab  1122558 Apr 29 17:00 /data/reddylab/Kuei/repo/Proj_ENCODE_FCC/results/region/encode_chromatin_states/summary/K562.hg38.ENCSR913HQX.ENCFF286VQG.cCREs.label2name.PLS_ELS.bed.gz\n",
      "-rw-rw-r-- 1 kk319 reddylab      417 May 13 14:40 /data/reddylab/Kuei/repo/Proj_ENCODE_FCC/results/region/encode_chromatin_states/summary/metadata.label.tsv\n"
     ]
    }
   ],
   "source": [
    "FDIRY=${FD_RES}/region/encode_chromatin_states\n",
    "find ${FDIRY} -type f -follow -print|xargs ls -l"
   ]
  },
  {
   "cell_type": "code",
   "execution_count": null,
   "id": "8ef8cdf1-958a-4aff-b731-1c6ec66ec0c9",
   "metadata": {},
   "outputs": [],
   "source": []
  }
 ],
 "metadata": {
  "kernelspec": {
   "display_name": "Bash",
   "language": "bash",
   "name": "bash"
  },
  "language_info": {
   "codemirror_mode": "shell",
   "file_extension": ".sh",
   "mimetype": "text/x-sh",
   "name": "bash"
  }
 },
 "nbformat": 4,
 "nbformat_minor": 5
}
