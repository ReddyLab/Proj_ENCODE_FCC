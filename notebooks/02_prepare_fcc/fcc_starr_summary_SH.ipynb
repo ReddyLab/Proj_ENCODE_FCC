{
 "cells": [
  {
   "cell_type": "raw",
   "id": "cce98165-8dce-4380-8a8a-655604abc854",
   "metadata": {},
   "source": [
    "---\n",
    "title: FCC summary\n",
    "subtitle: Summarize annotations (Main)\n",
    "format:\n",
    "    html:\n",
    "        code-fold:  true\n",
    "        code-tools: true\n",
    "---"
   ]
  },
  {
   "cell_type": "markdown",
   "id": "44a1175f-6075-4ad9-b0fd-b5ad9b00cada",
   "metadata": {},
   "source": [
    "**Set environment**"
   ]
  },
  {
   "cell_type": "code",
   "execution_count": 32,
   "id": "5270be51-8910-4d1a-9618-c5c91673a8a9",
   "metadata": {},
   "outputs": [
    {
     "name": "stdout",
     "output_type": "stream",
     "text": [
      "\u001b[0m\u001b[38;5;27m01_setup\u001b[0m               \u001b[38;5;27m33_region_annotation\u001b[0m  Readme.md\n",
      "\u001b[38;5;27m02_prepare\u001b[0m             \u001b[38;5;27m41_hic_nuc\u001b[0m            run_config_project.sh\n",
      "\u001b[38;5;27m11_fcc_process\u001b[0m         \u001b[38;5;27m42_hic_coverage\u001b[0m       run_config_project_sing.py\n",
      "\u001b[38;5;27m12_starrmpra_coverage\u001b[0m  \u001b[38;5;27m43_hic_annotation\u001b[0m     run_config_project_sing.R\n",
      "\u001b[38;5;27m21_crispri_screen\u001b[0m      \u001b[38;5;27m44_hic_meta\u001b[0m           run_config_test.sh\n",
      "\u001b[38;5;27m22_crispri_e2g\u001b[0m         \u001b[38;5;27mbuild_site\u001b[0m            \u001b[38;5;27mshared\u001b[0m\n",
      "\u001b[38;5;27m31_region_nuc\u001b[0m          \u001b[38;5;27mbuild_tracks\u001b[0m\n",
      "\u001b[38;5;27m32_region_coverage\u001b[0m     \u001b[38;5;27mdiscussion\u001b[0m\n"
     ]
    }
   ],
   "source": [
    "ls ../"
   ]
  },
  {
   "cell_type": "code",
   "execution_count": 28,
   "id": "716cd9dc-646d-4a30-8281-1e321d9635ed",
   "metadata": {
    "tags": []
   },
   "outputs": [
    {
     "name": "stdout",
     "output_type": "stream",
     "text": [
      "You are working on             Duke Server: HARDAC\n",
      "BASE DIRECTORY (FD_BASE):      /data/reddylab/Kuei\n",
      "REPO DIRECTORY (FD_REPO):      /data/reddylab/Kuei/repo\n",
      "WORK DIRECTORY (FD_WORK):      /data/reddylab/Kuei/work\n",
      "DATA DIRECTORY (FD_DATA):      /data/reddylab/Kuei/data\n",
      "CONTAINER DIR. (FD_SING):      /data/reddylab/Kuei/container\n",
      "\n",
      "You are working with           ENCODE FCC\n",
      "PATH OF PROJECT (FD_PRJ):      /data/reddylab/Kuei/repo/Proj_ENCODE_FCC\n",
      "PROJECT RESULTS (FD_RES):      /data/reddylab/Kuei/repo/Proj_ENCODE_FCC/results\n",
      "PROJECT SCRIPTS (FD_EXE):      /data/reddylab/Kuei/repo/Proj_ENCODE_FCC/scripts\n",
      "PROJECT DATA    (FD_DAT):      /data/reddylab/Kuei/repo/Proj_ENCODE_FCC/data\n",
      "PROJECT NOTE    (FD_NBK):      /data/reddylab/Kuei/repo/Proj_ENCODE_FCC/notebooks\n",
      "PROJECT DOCS    (FD_DOC):      /data/reddylab/Kuei/repo/Proj_ENCODE_FCC/docs\n",
      "PROJECT LOG     (FD_LOG):      /data/reddylab/Kuei/repo/Proj_ENCODE_FCC/log\n",
      "PROJECT APP     (FD_APP):      \n",
      "PROJECT REF     (FD_REF):      /data/reddylab/Kuei/repo/Proj_ENCODE_FCC/references\n",
      "PROJECT IMAGE   (FP_PRJ_SIF):  /data/reddylab/Kuei/container/project/singularity_proj_encode_fcc.sif\n",
      "\n"
     ]
    }
   ],
   "source": [
    "source ../run_config_project.sh\n",
    "show_env"
   ]
  },
  {
   "cell_type": "code",
   "execution_count": 27,
   "id": "17641590-9fa0-4436-af48-e91c306c4aa0",
   "metadata": {},
   "outputs": [
    {
     "name": "stdout",
     "output_type": "stream",
     "text": [
      "/data/reddylab/Kuei/repo/Proj_ENCODE_FCC/data/external/chrom.list.auto\n",
      "/data/reddylab/Kuei/repo/Proj_ENCODE_FCC/data/external/chrom.list.main\n",
      "/data/reddylab/Kuei/repo/Proj_ENCODE_FCC/data/external/chrom.list.sex\n",
      "/data/reddylab/Kuei/repo/Proj_ENCODE_FCC/data/external/chrom.sizes.hg19\n",
      "/data/reddylab/Kuei/repo/Proj_ENCODE_FCC/data/external/chrom.sizes.hg38\n"
     ]
    }
   ],
   "source": [
    "ls ${FD_DAT}/external/chrom*"
   ]
  },
  {
   "cell_type": "code",
   "execution_count": null,
   "id": "063ee9f5-4363-4274-a4b6-aae71c19ebd0",
   "metadata": {},
   "outputs": [],
   "source": [
    "FP_GEN=${FD_DAT}/external/chrom.sizes.hg38"
   ]
  },
  {
   "cell_type": "code",
   "execution_count": 7,
   "id": "7e3a6b72-ec13-4527-9510-10af1325370f",
   "metadata": {},
   "outputs": [
    {
     "name": "stdout",
     "output_type": "stream",
     "text": [
      "\u001b[0m\u001b[38;5;27mCRISPRi_FlowFISH_K562_Riley_JinWoo\u001b[0m\n",
      "\u001b[38;5;27mCRISPRi_Growth_K562_Gersbach_Alex\u001b[0m\n",
      "\u001b[38;5;27mfcc_astarr_csaw\u001b[0m\n",
      "\u001b[38;5;27mfcc_enhancer_Junke_zscore\u001b[0m\n",
      "\u001b[38;5;27mfcc_trackhub_JinWoo\u001b[0m\n",
      "\u001b[38;5;27mMPRA_Lenti_K562_Nadav_Vikram_230621\u001b[0m\n",
      "\u001b[38;5;27mMPRA_Tiling_K562_Tewhey_Hannah\u001b[0m\n",
      "Readmd.md\n",
      "\u001b[38;5;27mSTARR_ATAC_K562_Reddy_KS274_240311\u001b[0m\n",
      "\u001b[38;5;27mSTARR_ATAC_K562_Reddy_KS91_210401\u001b[0m\n",
      "\u001b[38;5;27mSTARR_WHG_K562_Reddy_A001_Alex\u001b[0m\n",
      "\u001b[38;5;27mSTARR_WHG_K562_Reddy_A001_Kari\u001b[0m\n",
      "\u001b[38;5;27mTF_modules_Shannon\u001b[0m\n"
     ]
    }
   ],
   "source": [
    "ls -1 ${FD_DAT}/processed"
   ]
  },
  {
   "cell_type": "code",
   "execution_count": 9,
   "id": "ab63f3e7-eb25-4716-a7f3-210bce98e0a2",
   "metadata": {},
   "outputs": [
    {
     "name": "stdout",
     "output_type": "stream",
     "text": [
      "\u001b[0m\u001b[38;5;9mKS91_K562_hg38_ASTARRseq_Input_rep1.masked.dedup.fragments.counts.txt.gz\u001b[0m\n",
      "KS91_K562_hg38_ASTARRseq_Input_rep1.masked.exclude_dups.cpm.bw\n",
      "\u001b[38;5;9mKS91_K562_hg38_ASTARRseq_Input_rep2.masked.dedup.fragments.counts.txt.gz\u001b[0m\n",
      "KS91_K562_hg38_ASTARRseq_Input_rep2.masked.exclude_dups.cpm.bw\n",
      "\u001b[38;5;9mKS91_K562_hg38_ASTARRseq_Input_rep3.masked.dedup.fragments.counts.txt.gz\u001b[0m\n",
      "KS91_K562_hg38_ASTARRseq_Input_rep3.masked.exclude_dups.cpm.bw\n",
      "\u001b[38;5;9mKS91_K562_hg38_ASTARRseq_Input_rep4.masked.dedup.fragments.counts.txt.gz\u001b[0m\n",
      "KS91_K562_hg38_ASTARRseq_Input_rep4.masked.exclude_dups.cpm.bw\n",
      "\u001b[38;5;9mKS91_K562_hg38_ASTARRseq_Input_rep5.masked.dedup.fragments.counts.txt.gz\u001b[0m\n",
      "KS91_K562_hg38_ASTARRseq_Input_rep5.masked.exclude_dups.cpm.bw\n",
      "\u001b[38;5;9mKS91_K562_hg38_ASTARRseq_Input_rep6.masked.dedup.fragments.counts.txt.gz\u001b[0m\n",
      "KS91_K562_hg38_ASTARRseq_Input_rep6.masked.exclude_dups.cpm.bw\n",
      "\u001b[38;5;9mKS91_K562_hg38_ASTARRseq_Output_rep1.f3q10.fragments.counts.txt.gz\u001b[0m\n",
      "KS91_K562_hg38_ASTARRseq_Output_rep1.f3q10.sorted.with_umis.dedup.cpm.bw\n",
      "\u001b[38;5;9mKS91_K562_hg38_ASTARRseq_Output_rep2.f3q10.fragments.counts.corrected.txt.gz\u001b[0m\n",
      "\u001b[38;5;9mKS91_K562_hg38_ASTARRseq_Output_rep2.f3q10.fragments.counts.txt.gz\u001b[0m\n",
      "KS91_K562_hg38_ASTARRseq_Output_rep2.f3q10.sorted.with_umis.dedup.corrected.cpm.bw\n",
      "KS91_K562_hg38_ASTARRseq_Output_rep2.f3q10.sorted.with_umis.dedup.cpm.bw\n",
      "\u001b[38;5;9mKS91_K562_hg38_ASTARRseq_Output_rep3.f3q10.fragments.counts.corrected.txt.gz\u001b[0m\n",
      "\u001b[38;5;9mKS91_K562_hg38_ASTARRseq_Output_rep3.f3q10.fragments.counts.txt.gz\u001b[0m\n",
      "KS91_K562_hg38_ASTARRseq_Output_rep3.f3q10.sorted.with_umis.dedup.cpm.bw\n",
      "\u001b[38;5;9mKS91_K562_hg38_ASTARRseq_Output_rep4.f3q10.fragments.counts.corrected.txt.gz\u001b[0m\n",
      "\u001b[38;5;9mKS91_K562_hg38_ASTARRseq_Output_rep4.f3q10.fragments.counts.txt.gz\u001b[0m\n",
      "KS91_K562_hg38_ASTARRseq_Output_rep4.f3q10.sorted.with_umis.dedup.corrected.cpm.bw\n",
      "KS91_K562_hg38_ASTARRseq_Output_rep4.f3q10.sorted.with_umis.dedup.cpm.bw\n",
      "KS91_K562_hg38_ASTARRseq_Output_rep5.f3q10.sorted.with_umis.dedup.cpm.bw\n",
      "KS91_K562_hg38_ASTARRseq_Output_rep6.f3q10.sorted.with_umis.dedup.cpm.bw\n"
     ]
    }
   ],
   "source": [
    "ls -1 ${FD_DAT}/processed/STARR_ATAC_K562_Reddy_KS91_210401/fragments"
   ]
  },
  {
   "cell_type": "code",
   "execution_count": 11,
   "id": "c7188407-71a7-451b-8de7-c91902665b6e",
   "metadata": {},
   "outputs": [
    {
     "name": "stdout",
     "output_type": "stream",
     "text": [
      "KS91_K562_hg38_ASTARRseq_Input_rep1.masked.dedup.fragments.counts.txt.gz\n",
      "KS91_K562_hg38_ASTARRseq_Input_rep2.masked.dedup.fragments.counts.txt.gz\n",
      "KS91_K562_hg38_ASTARRseq_Input_rep3.masked.dedup.fragments.counts.txt.gz\n",
      "KS91_K562_hg38_ASTARRseq_Input_rep4.masked.dedup.fragments.counts.txt.gz\n",
      "KS91_K562_hg38_ASTARRseq_Input_rep5.masked.dedup.fragments.counts.txt.gz\n",
      "KS91_K562_hg38_ASTARRseq_Input_rep6.masked.dedup.fragments.counts.txt.gz\n",
      "KS91_K562_hg38_ASTARRseq_Output_rep1.f3q10.fragments.counts.txt.gz\n",
      "KS91_K562_hg38_ASTARRseq_Output_rep2.f3q10.fragments.counts.corrected.txt.gz\n",
      "KS91_K562_hg38_ASTARRseq_Output_rep2.f3q10.fragments.counts.txt.gz\n",
      "KS91_K562_hg38_ASTARRseq_Output_rep3.f3q10.fragments.counts.corrected.txt.gz\n",
      "KS91_K562_hg38_ASTARRseq_Output_rep3.f3q10.fragments.counts.txt.gz\n",
      "KS91_K562_hg38_ASTARRseq_Output_rep4.f3q10.fragments.counts.corrected.txt.gz\n",
      "KS91_K562_hg38_ASTARRseq_Output_rep4.f3q10.fragments.counts.txt.gz\n"
     ]
    }
   ],
   "source": [
    "FD_INP=${FD_DAT}/processed/STARR_ATAC_K562_Reddy_KS91_210401/fragments\n",
    "ls ${FD_INP}/*fragments.counts* | xargs -n 1 basename"
   ]
  },
  {
   "cell_type": "code",
   "execution_count": 16,
   "id": "79c4f4f5-8b38-4a9b-8872-7c03b3c1435d",
   "metadata": {},
   "outputs": [
    {
     "name": "stdout",
     "output_type": "stream",
     "text": [
      "KS91_K562_hg38_ASTARRseq_Input_rep1.masked.dedup.fragments.counts.txt.gz\n",
      "KS91_K562_hg38_ASTARRseq_Input_rep2.masked.dedup.fragments.counts.txt.gz\n",
      "KS91_K562_hg38_ASTARRseq_Input_rep3.masked.dedup.fragments.counts.txt.gz\n",
      "KS91_K562_hg38_ASTARRseq_Input_rep4.masked.dedup.fragments.counts.txt.gz\n",
      "KS91_K562_hg38_ASTARRseq_Input_rep5.masked.dedup.fragments.counts.txt.gz\n",
      "KS91_K562_hg38_ASTARRseq_Input_rep6.masked.dedup.fragments.counts.txt.gz\n",
      "KS91_K562_hg38_ASTARRseq_Output_rep1.f3q10.fragments.counts.txt.gz\n",
      "KS91_K562_hg38_ASTARRseq_Output_rep2.f3q10.fragments.counts.corrected.txt.gz\n",
      "KS91_K562_hg38_ASTARRseq_Output_rep2.f3q10.fragments.counts.txt.gz\n",
      "KS91_K562_hg38_ASTARRseq_Output_rep3.f3q10.fragments.counts.corrected.txt.gz\n",
      "KS91_K562_hg38_ASTARRseq_Output_rep3.f3q10.fragments.counts.txt.gz\n",
      "KS91_K562_hg38_ASTARRseq_Output_rep4.f3q10.fragments.counts.corrected.txt.gz\n",
      "KS91_K562_hg38_ASTARRseq_Output_rep4.f3q10.fragments.counts.txt.gz\n"
     ]
    }
   ],
   "source": [
    "FD_INP=${FD_DAT}/processed/STARR_ATAC_K562_Reddy_KS91_210401/fragments\n",
    "FP_INPS=(${FD_INP}/*fragments.counts*)\n",
    "\n",
    "for FP_INP in ${FP_INPS[@]}; do\n",
    "    FN_INP=$(basename ${FP_INP})\n",
    "    echo ${FN_INP}\n",
    "done"
   ]
  },
  {
   "cell_type": "code",
   "execution_count": 18,
   "id": "733fabbf-cdf7-4ebe-990a-11333f148ddf",
   "metadata": {},
   "outputs": [
    {
     "name": "stdout",
     "output_type": "stream",
     "text": [
      "KS91_K562_hg38_ASTARRseq_Input_rep1.masked.dedup.fragments.counts.txt.gz\n",
      "bedtools.summary.KS91_K562_hg38_ASTARRseq_Input_rep1.masked.dedup.fragments.counts.txt.gz.tsv\n",
      "KS91_K562_hg38_ASTARRseq_Input_rep2.masked.dedup.fragments.counts.txt.gz\n",
      "bedtools.summary.KS91_K562_hg38_ASTARRseq_Input_rep2.masked.dedup.fragments.counts.txt.gz.tsv\n",
      "KS91_K562_hg38_ASTARRseq_Input_rep3.masked.dedup.fragments.counts.txt.gz\n",
      "bedtools.summary.KS91_K562_hg38_ASTARRseq_Input_rep3.masked.dedup.fragments.counts.txt.gz.tsv\n",
      "KS91_K562_hg38_ASTARRseq_Input_rep4.masked.dedup.fragments.counts.txt.gz\n",
      "bedtools.summary.KS91_K562_hg38_ASTARRseq_Input_rep4.masked.dedup.fragments.counts.txt.gz.tsv\n",
      "KS91_K562_hg38_ASTARRseq_Input_rep5.masked.dedup.fragments.counts.txt.gz\n",
      "bedtools.summary.KS91_K562_hg38_ASTARRseq_Input_rep5.masked.dedup.fragments.counts.txt.gz.tsv\n",
      "KS91_K562_hg38_ASTARRseq_Input_rep6.masked.dedup.fragments.counts.txt.gz\n",
      "bedtools.summary.KS91_K562_hg38_ASTARRseq_Input_rep6.masked.dedup.fragments.counts.txt.gz.tsv\n",
      "KS91_K562_hg38_ASTARRseq_Output_rep1.f3q10.fragments.counts.txt.gz\n",
      "bedtools.summary.KS91_K562_hg38_ASTARRseq_Output_rep1.f3q10.fragments.counts.txt.gz.tsv\n",
      "KS91_K562_hg38_ASTARRseq_Output_rep2.f3q10.fragments.counts.corrected.txt.gz\n",
      "bedtools.summary.KS91_K562_hg38_ASTARRseq_Output_rep2.f3q10.fragments.counts.corrected.txt.gz.tsv\n",
      "KS91_K562_hg38_ASTARRseq_Output_rep2.f3q10.fragments.counts.txt.gz\n",
      "bedtools.summary.KS91_K562_hg38_ASTARRseq_Output_rep2.f3q10.fragments.counts.txt.gz.tsv\n",
      "KS91_K562_hg38_ASTARRseq_Output_rep3.f3q10.fragments.counts.corrected.txt.gz\n",
      "bedtools.summary.KS91_K562_hg38_ASTARRseq_Output_rep3.f3q10.fragments.counts.corrected.txt.gz.tsv\n",
      "KS91_K562_hg38_ASTARRseq_Output_rep3.f3q10.fragments.counts.txt.gz\n",
      "bedtools.summary.KS91_K562_hg38_ASTARRseq_Output_rep3.f3q10.fragments.counts.txt.gz.tsv\n",
      "KS91_K562_hg38_ASTARRseq_Output_rep4.f3q10.fragments.counts.corrected.txt.gz\n",
      "bedtools.summary.KS91_K562_hg38_ASTARRseq_Output_rep4.f3q10.fragments.counts.corrected.txt.gz.tsv\n",
      "KS91_K562_hg38_ASTARRseq_Output_rep4.f3q10.fragments.counts.txt.gz\n",
      "bedtools.summary.KS91_K562_hg38_ASTARRseq_Output_rep4.f3q10.fragments.counts.txt.gz.tsv\n"
     ]
    }
   ],
   "source": [
    "FD_INP=${FD_DAT}/processed/STARR_ATAC_K562_Reddy_KS91_210401/fragments\n",
    "FP_INPS=(${FD_INP}/*fragments.counts*)\n",
    "\n",
    "for FP_INP in ${FP_INPS[@]}; do\n",
    "    FN_INP=$(basename ${FP_INP})\n",
    "    FN_OUT=bedtools.summary.${FN_INP}.tsv\n",
    "    echo ${FN_INP}\n",
    "    echo ${FN_OUT}\n",
    "done"
   ]
  },
  {
   "cell_type": "code",
   "execution_count": 50,
   "id": "8ccc7070-420b-4a98-9c36-abc3ba735d67",
   "metadata": {},
   "outputs": [
    {
     "name": "stdout",
     "output_type": "stream",
     "text": [
      "\u001b[0m\u001b[38;5;34m/data/reddylab/Kuei/repo/Proj_ENCODE_FCC/scripts/run_bedtools_coverage.sh\u001b[0m\n",
      "\u001b[38;5;34m/data/reddylab/Kuei/repo/Proj_ENCODE_FCC/scripts/run_bedtools_intersect.sh\u001b[0m\n",
      "\u001b[38;5;34m/data/reddylab/Kuei/repo/Proj_ENCODE_FCC/scripts/run_bedtools_intersect_unique.sh\u001b[0m\u001b[K\n",
      "\u001b[38;5;34m/data/reddylab/Kuei/repo/Proj_ENCODE_FCC/scripts/run_bedtools_summary.sh\u001b[0m\n",
      "\u001b[38;5;34m/data/reddylab/Kuei/repo/Proj_ENCODE_FCC/scripts/run_bedtools_test.sh\u001b[0m\n"
     ]
    }
   ],
   "source": [
    "ls ${FD_EXE}/run_bedtools*"
   ]
  },
  {
   "cell_type": "code",
   "execution_count": 51,
   "id": "4dc9f8b3-4d37-42a3-ad12-e9cfd3c7f619",
   "metadata": {},
   "outputs": [
    {
     "name": "stdout",
     "output_type": "stream",
     "text": [
      "File Input:  KS91_K562_hg38_ASTARRseq_Input_rep1.masked.dedup.fragments.counts.txt.gz\n",
      "File Output: bedtools.summary.KS91_K562_hg38_ASTARRseq_Input_rep1.masked.dedup.fragments.counts.txt.gz.tsv\n",
      "File Log:    ${FD_LOG}/bedtools.summary.KS91_K562_hg38_ASTARRseq_Input_rep1.masked.dedup.fragments.counts.txt.gz\n",
      "\n",
      "Submitted batch job 30797202\n",
      "\n",
      "File Input:  KS91_K562_hg38_ASTARRseq_Input_rep2.masked.dedup.fragments.counts.txt.gz\n",
      "File Output: bedtools.summary.KS91_K562_hg38_ASTARRseq_Input_rep2.masked.dedup.fragments.counts.txt.gz.tsv\n",
      "File Log:    ${FD_LOG}/bedtools.summary.KS91_K562_hg38_ASTARRseq_Input_rep2.masked.dedup.fragments.counts.txt.gz\n",
      "\n",
      "Submitted batch job 30797203\n",
      "\n",
      "File Input:  KS91_K562_hg38_ASTARRseq_Input_rep3.masked.dedup.fragments.counts.txt.gz\n",
      "File Output: bedtools.summary.KS91_K562_hg38_ASTARRseq_Input_rep3.masked.dedup.fragments.counts.txt.gz.tsv\n",
      "File Log:    ${FD_LOG}/bedtools.summary.KS91_K562_hg38_ASTARRseq_Input_rep3.masked.dedup.fragments.counts.txt.gz\n",
      "\n",
      "Submitted batch job 30797204\n",
      "\n",
      "File Input:  KS91_K562_hg38_ASTARRseq_Input_rep4.masked.dedup.fragments.counts.txt.gz\n",
      "File Output: bedtools.summary.KS91_K562_hg38_ASTARRseq_Input_rep4.masked.dedup.fragments.counts.txt.gz.tsv\n",
      "File Log:    ${FD_LOG}/bedtools.summary.KS91_K562_hg38_ASTARRseq_Input_rep4.masked.dedup.fragments.counts.txt.gz\n",
      "\n",
      "Submitted batch job 30797205\n",
      "\n",
      "File Input:  KS91_K562_hg38_ASTARRseq_Input_rep5.masked.dedup.fragments.counts.txt.gz\n",
      "File Output: bedtools.summary.KS91_K562_hg38_ASTARRseq_Input_rep5.masked.dedup.fragments.counts.txt.gz.tsv\n",
      "File Log:    ${FD_LOG}/bedtools.summary.KS91_K562_hg38_ASTARRseq_Input_rep5.masked.dedup.fragments.counts.txt.gz\n",
      "\n",
      "Submitted batch job 30797206\n",
      "\n",
      "File Input:  KS91_K562_hg38_ASTARRseq_Input_rep6.masked.dedup.fragments.counts.txt.gz\n",
      "File Output: bedtools.summary.KS91_K562_hg38_ASTARRseq_Input_rep6.masked.dedup.fragments.counts.txt.gz.tsv\n",
      "File Log:    ${FD_LOG}/bedtools.summary.KS91_K562_hg38_ASTARRseq_Input_rep6.masked.dedup.fragments.counts.txt.gz\n",
      "\n",
      "Submitted batch job 30797207\n",
      "\n",
      "File Input:  KS91_K562_hg38_ASTARRseq_Output_rep1.f3q10.fragments.counts.txt.gz\n",
      "File Output: bedtools.summary.KS91_K562_hg38_ASTARRseq_Output_rep1.f3q10.fragments.counts.txt.gz.tsv\n",
      "File Log:    ${FD_LOG}/bedtools.summary.KS91_K562_hg38_ASTARRseq_Output_rep1.f3q10.fragments.counts.txt.gz\n",
      "\n",
      "Submitted batch job 30797208\n",
      "\n",
      "File Input:  KS91_K562_hg38_ASTARRseq_Output_rep2.f3q10.fragments.counts.corrected.txt.gz\n",
      "File Output: bedtools.summary.KS91_K562_hg38_ASTARRseq_Output_rep2.f3q10.fragments.counts.corrected.txt.gz.tsv\n",
      "File Log:    ${FD_LOG}/bedtools.summary.KS91_K562_hg38_ASTARRseq_Output_rep2.f3q10.fragments.counts.corrected.txt.gz\n",
      "\n",
      "Submitted batch job 30797209\n",
      "\n",
      "File Input:  KS91_K562_hg38_ASTARRseq_Output_rep2.f3q10.fragments.counts.txt.gz\n",
      "File Output: bedtools.summary.KS91_K562_hg38_ASTARRseq_Output_rep2.f3q10.fragments.counts.txt.gz.tsv\n",
      "File Log:    ${FD_LOG}/bedtools.summary.KS91_K562_hg38_ASTARRseq_Output_rep2.f3q10.fragments.counts.txt.gz\n",
      "\n",
      "Submitted batch job 30797210\n",
      "\n",
      "File Input:  KS91_K562_hg38_ASTARRseq_Output_rep3.f3q10.fragments.counts.corrected.txt.gz\n",
      "File Output: bedtools.summary.KS91_K562_hg38_ASTARRseq_Output_rep3.f3q10.fragments.counts.corrected.txt.gz.tsv\n",
      "File Log:    ${FD_LOG}/bedtools.summary.KS91_K562_hg38_ASTARRseq_Output_rep3.f3q10.fragments.counts.corrected.txt.gz\n",
      "\n",
      "Submitted batch job 30797211\n",
      "\n",
      "File Input:  KS91_K562_hg38_ASTARRseq_Output_rep3.f3q10.fragments.counts.txt.gz\n",
      "File Output: bedtools.summary.KS91_K562_hg38_ASTARRseq_Output_rep3.f3q10.fragments.counts.txt.gz.tsv\n",
      "File Log:    ${FD_LOG}/bedtools.summary.KS91_K562_hg38_ASTARRseq_Output_rep3.f3q10.fragments.counts.txt.gz\n",
      "\n",
      "Submitted batch job 30797212\n",
      "\n",
      "File Input:  KS91_K562_hg38_ASTARRseq_Output_rep4.f3q10.fragments.counts.corrected.txt.gz\n",
      "File Output: bedtools.summary.KS91_K562_hg38_ASTARRseq_Output_rep4.f3q10.fragments.counts.corrected.txt.gz.tsv\n",
      "File Log:    ${FD_LOG}/bedtools.summary.KS91_K562_hg38_ASTARRseq_Output_rep4.f3q10.fragments.counts.corrected.txt.gz\n",
      "\n",
      "Submitted batch job 30797213\n",
      "\n",
      "File Input:  KS91_K562_hg38_ASTARRseq_Output_rep4.f3q10.fragments.counts.txt.gz\n",
      "File Output: bedtools.summary.KS91_K562_hg38_ASTARRseq_Output_rep4.f3q10.fragments.counts.txt.gz.tsv\n",
      "File Log:    ${FD_LOG}/bedtools.summary.KS91_K562_hg38_ASTARRseq_Output_rep4.f3q10.fragments.counts.txt.gz\n",
      "\n",
      "Submitted batch job 30797214\n",
      "\n"
     ]
    }
   ],
   "source": [
    "### init\n",
    "FP_EXE=${FD_EXE}/run_bedtools_summary.sh\n",
    "FD_INP=${FD_DAT}/processed/STARR_ATAC_K562_Reddy_KS91_210401/fragments\n",
    "FD_OUT=${FD_DAT}/processed/STARR_ATAC_K562_Reddy_KS91_210401/summary\n",
    "\n",
    "FP_GEN=${FD_DAT}/external/chrom.sizes.hg38\n",
    "FP_INPS=(${FD_INP}/*fragments.counts*)\n",
    "\n",
    "for FP_INP in ${FP_INPS[@]}; do\n",
    "    ###\n",
    "    FN_INP=$(basename ${FP_INP})\n",
    "    \n",
    "    FN_OUT=bedtools.summary.${FN_INP}.tsv\n",
    "    FP_OUT=${FD_OUT}/${FN_OUT}\n",
    "    \n",
    "    FN_LOG=bedtools.summary.${FN_INP}\n",
    "    FP_LOG=${FD_LOG}/${FN_LOG}\n",
    "    \n",
    "    ### show progress\n",
    "    echo \"File Input: \" ${FN_INP}\n",
    "    echo \"File Output:\" ${FN_OUT}\n",
    "    echo \"File Log:   \" '${FD_LOG}/'${FN_LOG}\n",
    "    echo\n",
    "    \n",
    "    ###\n",
    "    mkdir -p ${FD_OUT}\n",
    "    sbatch -p ${NODE} \\\n",
    "        --exclude=dl-01 \\\n",
    "        --cpus-per-task 2 \\\n",
    "        --mem 50G \\\n",
    "        --output ${FP_LOG} \\\n",
    "        ${FP_EXE} ${FD_PRJ} ${FP_INP} ${FP_GEN} ${FP_OUT}\n",
    "    echo\n",
    "done"
   ]
  },
  {
   "cell_type": "code",
   "execution_count": 56,
   "id": "9cd07fe1-c514-4ecf-8daa-b27fa21d45fc",
   "metadata": {},
   "outputs": [
    {
     "name": "stdout",
     "output_type": "stream",
     "text": [
      "Hostname:           x2-06-2.genome.duke.edu\n",
      "Slurm Array Index: \n",
      "Time Stamp:         05-23-24+16:22:40\n",
      "\n",
      "Input (FP_INP):\n",
      "/data/reddylab/Kuei/repo/Proj_ENCODE_FCC/data/processed/STARR_ATAC_K562_Reddy_KS91_210401/fragments/KS91_K562_hg38_ASTARRseq_Output_rep2.f3q10.fragments.counts.txt.gz\n",
      "\n",
      "show first few lines of input\n",
      "chr1\t10051\t10233\tchr1_10051_10233\t1\t.\n",
      "chr1\t10056\t10233\tchr1_10056_10233\t1\t.\n",
      "chr1\t10057\t10233\tchr1_10057_10233\t5\t.\n",
      "chr1\t10063\t10233\tchr1_10063_10233\t1\t.\n",
      "chr1\t10165\t10454\tchr1_10165_10454\t1\t.\n",
      "chr1\t10224\t10351\tchr1_10224_10351\t1\t.\n",
      "chr1\t10342\t10453\tchr1_10342_10453\t1\t.\n",
      "chr1\t10359\t10442\tchr1_10359_10442\t1\t.\n",
      "chr1\t13044\t13217\tchr1_13044_13217\t1\t.\n",
      "chr1\t13045\t13217\tchr1_13045_13217\t1\t.\n",
      "\n",
      "Input: (FP_GEN):\n",
      "/data/reddylab/Kuei/repo/Proj_ENCODE_FCC/data/external/chrom.sizes.hg38\n",
      "\n",
      "show first few lines of input\n",
      "chr1\t248956422\n",
      "chr2\t242193529\n",
      "chr3\t198295559\n",
      "chr4\t190214555\n",
      "chr5\t181538259\n",
      "chr6\t170805979\n",
      "chr7\t159345973\n",
      "chrX\t156040895\n",
      "chr8\t145138636\n",
      "chr9\t138394717\n",
      "\n",
      "\n",
      "Output:  /data/reddylab/Kuei/repo/Proj_ENCODE_FCC/data/processed/STARR_ATAC_K562_Reddy_KS91_210401/summary/bedtools.summary.KS91_K562_hg38_ASTARRseq_Output_rep2.f3q10.fragments.counts.txt.gz.tsv\n",
      "\n",
      "show first few lines of output:\n",
      "chrom\tchrom_length\tnum_ivls\ttotal_ivl_bp\tchrom_frac_genome\tfrac_all_ivls\tfrac_all_bp\tmin\tmax\tmean\n",
      "chr1\t248956422\t7679234\t1867850127\t0.077573770\t0.109657476\t0.110107844\t19\t2000\t243.233912002\t\n",
      "chr2\t242193529\t5267755\t1271475368\t0.075466481\t0.075222180\t0.074952165\t22\t1996\t241.369495734\t\n",
      "chr3\t198295559\t4272872\t1030185208\t0.061788059\t0.061015508\t0.060728359\t26\t1998\t241.099009753\t\n",
      "chr4\t190214555\t3429856\t819874803\t0.059270052\t0.048977457\t0.048330776\t24\t1999\t239.040590334\t\n",
      "chr5\t181538259\t3998210\t959941615\t0.056566555\t0.057093405\t0.056587571\t21\t2000\t240.092845298\t\n",
      "chr6\t170805979\t4887850\t1182753192\t0.053222422\t0.069797234\t0.069722084\t24\t1996\t241.978209642\t\n",
      "chr7\t159345973\t4698751\t1133526789\t0.049651532\t0.067096950\t0.066820238\t22\t2000\t241.240020806\t\n",
      "chrX\t156040895\t1983403\t475235754\t0.048621684\t0.028322482\t0.028014659\t24\t1998\t239.606249461\t\n",
      "chr8\t145138636\t3045724\t732560085\t0.045224586\t0.043492151\t0.043183664\t23\t1999\t240.520836753\t\n",
      "\n",
      "\n",
      "Done!\n",
      "Run Time: 1 minutes and 22 seconds\n"
     ]
    }
   ],
   "source": [
    "cat ${FD_LOG}/bedtools.summary.KS91_K562_hg38_ASTARRseq_Output_rep2.f3q10.fragments.counts.txt.gz"
   ]
  },
  {
   "cell_type": "code",
   "execution_count": 53,
   "id": "e48c4b0f-bc48-422e-ad3e-41702646431c",
   "metadata": {},
   "outputs": [
    {
     "name": "stdout",
     "output_type": "stream",
     "text": [
      "Hostname:           x2-06-2.genome.duke.edu\n",
      "Slurm Array Index: \n",
      "Time Stamp:         05-23-24+16:22:40\n",
      "\n",
      "Input (FP_INP):\n",
      "/data/reddylab/Kuei/repo/Proj_ENCODE_FCC/data/processed/STARR_ATAC_K562_Reddy_KS91_210401/fragments/KS91_K562_hg38_ASTARRseq_Output_rep4.f3q10.fragments.counts.corrected.txt.gz\n",
      "\n",
      "show first few lines of input\n",
      "chr1\t10033\t10130\tchr1_10033_10130\t1\t.\n",
      "chr1\t10057\t10233\tchr1_10057_10233\t3\t.\n",
      "chr1\t10104\t10345\tchr1_10104_10345\t1\t.\n",
      "chr1\t10116\t10461\tchr1_10116_10461\t1\t.\n",
      "chr1\t10147\t10430\tchr1_10147_10430\t1\t.\n",
      "chr1\t10164\t10240\tchr1_10164_10240\t1\t.\n",
      "chr1\t10231\t10455\tchr1_10231_10455\t1\t.\n",
      "chr1\t10342\t10461\tchr1_10342_10461\t1\t.\n",
      "chr1\t10371\t10441\tchr1_10371_10441\t1\t.\n",
      "chr1\t10706\t10975\tchr1_10706_10975\t1\t.\n",
      "\n",
      "Input: (FP_GEN):\n",
      "/data/reddylab/Kuei/repo/Proj_ENCODE_FCC/data/external/chrom.sizes.hg38\n",
      "\n",
      "show first few lines of input\n",
      "chr1\t248956422\n",
      "chr2\t242193529\n",
      "chr3\t198295559\n",
      "chr4\t190214555\n",
      "chr5\t181538259\n",
      "chr6\t170805979\n",
      "chr7\t159345973\n",
      "chrX\t156040895\n",
      "chr8\t145138636\n",
      "chr9\t138394717\n",
      "\n",
      "\n",
      "Output:  /data/reddylab/Kuei/repo/Proj_ENCODE_FCC/data/processed/STARR_ATAC_K562_Reddy_KS91_210401/summary/bedtools.summary.KS91_K562_hg38_ASTARRseq_Output_rep4.f3q10.fragments.counts.corrected.txt.gz.tsv\n",
      "\n",
      "show first few lines of output:\n",
      "chrom\tchrom_length\tnum_ivls\ttotal_ivl_bp\tchrom_frac_genome\tfrac_all_ivls\tfrac_all_bp\tmin\tmax\tmean\n",
      "chr1\t248956422\t13767947\t3537100459\t0.077573770\t0.109950260\t0.110581168\t19\t2000\t256.908343633\t\n",
      "chr2\t242193529\t9294176\t2361493727\t0.075466481\t0.074222908\t0.073827910\t17\t1993\t254.083172839\t\n",
      "chr3\t198295559\t7528129\t1910297218\t0.061788059\t0.060119329\t0.059722052\t22\t2000\t253.754580720\t\n",
      "chr4\t190214555\t5967498\t1497211787\t0.059270052\t0.047656194\t0.046807669\t25\t2000\t250.894392759\t\n",
      "chr5\t181538259\t7017065\t1772052185\t0.056566555\t0.056037993\t0.055400067\t22\t1997\t252.534668697\t\n",
      "chr6\t170805979\t8585445\t2189230710\t0.053222422\t0.068563011\t0.068442413\t20\t2000\t254.993271752\t\n",
      "chr7\t159345973\t8340065\t2118241521\t0.049651532\t0.066603417\t0.066223062\t24\t1994\t253.983814395\t\n",
      "chrX\t156040895\t3482566\t877840876\t0.048621684\t0.027811629\t0.027444137\t19\t2000\t252.067261898\t\n",
      "chr8\t145138636\t5396912\t1367314285\t0.045224586\t0.043099518\t0.042746655\t21\t2000\t253.351228443\t\n",
      "\n",
      "\n",
      "Done!\n",
      "Run Time: 2 minutes and 24 seconds\n"
     ]
    }
   ],
   "source": [
    "cat ${FD_LOG}/bedtools.summary.KS91_K562_hg38_ASTARRseq_Output_rep4.f3q10.fragments.counts.corrected.txt.gz"
   ]
  },
  {
   "cell_type": "code",
   "execution_count": 54,
   "id": "24257ed2-7c43-426d-ad05-5e473f895bf3",
   "metadata": {},
   "outputs": [
    {
     "name": "stdout",
     "output_type": "stream",
     "text": [
      "Hostname:           x2-08-3.genome.duke.edu\n",
      "Slurm Array Index: \n",
      "Time Stamp:         05-23-24+16:22:40\n",
      "\n",
      "Input (FP_INP):\n",
      "/data/reddylab/Kuei/repo/Proj_ENCODE_FCC/data/processed/STARR_ATAC_K562_Reddy_KS91_210401/fragments/KS91_K562_hg38_ASTARRseq_Input_rep3.masked.dedup.fragments.counts.txt.gz\n",
      "\n",
      "show first few lines of input\n",
      "chr1\t10001\t10203\tchr1_10001_10203\t1\t.\n",
      "chr1\t10002\t10113\tchr1_10002_10113\t1\t.\n",
      "chr1\t10002\t10131\tchr1_10002_10131\t1\t.\n",
      "chr1\t10002\t10137\tchr1_10002_10137\t1\t.\n",
      "chr1\t10002\t10227\tchr1_10002_10227\t1\t.\n",
      "chr1\t10002\t10436\tchr1_10002_10436\t1\t.\n",
      "chr1\t10003\t10111\tchr1_10003_10111\t1\t.\n",
      "chr1\t10003\t10113\tchr1_10003_10113\t1\t.\n",
      "chr1\t10003\t10118\tchr1_10003_10118\t1\t.\n",
      "chr1\t10003\t10119\tchr1_10003_10119\t1\t.\n",
      "\n",
      "Input: (FP_GEN):\n",
      "/data/reddylab/Kuei/repo/Proj_ENCODE_FCC/data/external/chrom.sizes.hg38\n",
      "\n",
      "show first few lines of input\n",
      "chr1\t248956422\n",
      "chr2\t242193529\n",
      "chr3\t198295559\n",
      "chr4\t190214555\n",
      "chr5\t181538259\n",
      "chr6\t170805979\n",
      "chr7\t159345973\n",
      "chrX\t156040895\n",
      "chr8\t145138636\n",
      "chr9\t138394717\n",
      "\n",
      "/data/reddylab/Kuei/repo/Proj_ENCODE_FCC/scripts/app_duke_hardac/bedtools: line 16: 11180 Killed                  singularity exec -B ${PWD} -B /data:/data -B /gpfs:/gpfs ${IMAGE} ${CMD} ${ARGS}\n",
      "\n",
      "Output:  /data/reddylab/Kuei/repo/Proj_ENCODE_FCC/data/processed/STARR_ATAC_K562_Reddy_KS91_210401/summary/bedtools.summary.KS91_K562_hg38_ASTARRseq_Input_rep3.masked.dedup.fragments.counts.txt.gz.tsv\n",
      "\n",
      "show first few lines of output:\n",
      "\n",
      "\n",
      "Done!\n",
      "Run Time: 5 minutes and 8 seconds\n",
      "slurmstepd: error: Detected 1 oom-kill event(s) in StepId=30797204.batch cgroup. Some of your processes may have been killed by the cgroup out-of-memory handler.\n"
     ]
    }
   ],
   "source": [
    "cat ${FD_LOG}/bedtools.summary.KS91_K562_hg38_ASTARRseq_Input_rep3.masked.dedup.fragments.counts.txt.gz"
   ]
  },
  {
   "cell_type": "code",
   "execution_count": 55,
   "id": "8737daf1-15d9-4fc4-87dd-78c619ae89f8",
   "metadata": {},
   "outputs": [
    {
     "name": "stdout",
     "output_type": "stream",
     "text": [
      "    AveRSS  AveVMSize     MaxRSS MaxRSSNode MaxRSSTask   NNodes      NCPUS \n",
      "---------- ---------- ---------- ---------- ---------- -------- ---------- \n",
      "                                                              1          2 \n",
      " 52428588K    138612K  52428588K    x2-08-3          0        1          2 \n"
     ]
    }
   ],
   "source": [
    "sacct -j 30797204 --format=AveRSS,AveVMSize,MaxRSS,MaxRSSNode,MAXRSSTask,NNodes,NCPUS"
   ]
  },
  {
   "cell_type": "code",
   "execution_count": 57,
   "id": "88b09d83-b6a0-4827-a454-9e2273dce8e3",
   "metadata": {},
   "outputs": [
    {
     "name": "stdout",
     "output_type": "stream",
     "text": [
      "Hostname:           x2-08-3.genome.duke.edu\n",
      "Slurm Array Index: \n",
      "Time Stamp:         05-23-24+16:22:40\n",
      "\n",
      "Input (FP_INP):\n",
      "/data/reddylab/Kuei/repo/Proj_ENCODE_FCC/data/processed/STARR_ATAC_K562_Reddy_KS91_210401/fragments/KS91_K562_hg38_ASTARRseq_Input_rep2.masked.dedup.fragments.counts.txt.gz\n",
      "\n",
      "show first few lines of input\n",
      "chr1\t10001\t10233\tchr1_10001_10233\t1\t.\n",
      "chr1\t10001\t10351\tchr1_10001_10351\t1\t.\n",
      "chr1\t10002\t10119\tchr1_10002_10119\t1\t.\n",
      "chr1\t10002\t10131\tchr1_10002_10131\t1\t.\n",
      "chr1\t10002\t10137\tchr1_10002_10137\t1\t.\n",
      "chr1\t10002\t10149\tchr1_10002_10149\t1\t.\n",
      "chr1\t10002\t10191\tchr1_10002_10191\t1\t.\n",
      "chr1\t10002\t10221\tchr1_10002_10221\t1\t.\n",
      "chr1\t10002\t10260\tchr1_10002_10260\t1\t.\n",
      "chr1\t10002\t10436\tchr1_10002_10436\t1\t.\n",
      "\n",
      "Input: (FP_GEN):\n",
      "/data/reddylab/Kuei/repo/Proj_ENCODE_FCC/data/external/chrom.sizes.hg38\n",
      "\n",
      "show first few lines of input\n",
      "chr1\t248956422\n",
      "chr2\t242193529\n",
      "chr3\t198295559\n",
      "chr4\t190214555\n",
      "chr5\t181538259\n",
      "chr6\t170805979\n",
      "chr7\t159345973\n",
      "chrX\t156040895\n",
      "chr8\t145138636\n",
      "chr9\t138394717\n",
      "\n",
      "/data/reddylab/Kuei/repo/Proj_ENCODE_FCC/scripts/app_duke_hardac/bedtools: line 16: 11179 Killed                  singularity exec -B ${PWD} -B /data:/data -B /gpfs:/gpfs ${IMAGE} ${CMD} ${ARGS}\n",
      "\n",
      "Output:  /data/reddylab/Kuei/repo/Proj_ENCODE_FCC/data/processed/STARR_ATAC_K562_Reddy_KS91_210401/summary/bedtools.summary.KS91_K562_hg38_ASTARRseq_Input_rep2.masked.dedup.fragments.counts.txt.gz.tsv\n",
      "\n",
      "show first few lines of output:\n",
      "\n",
      "\n",
      "Done!\n",
      "Run Time: 6 minutes and 8 seconds\n",
      "slurmstepd: error: Detected 1 oom-kill event(s) in StepId=30797203.batch cgroup. Some of your processes may have been killed by the cgroup out-of-memory handler.\n"
     ]
    }
   ],
   "source": [
    "cat ${FD_LOG}/bedtools.summary.KS91_K562_hg38_ASTARRseq_Input_rep2.masked.dedup.fragments.counts.txt.gz"
   ]
  },
  {
   "cell_type": "code",
   "execution_count": null,
   "id": "8583bc42-d6c3-4f41-a5dd-a88ae61fa52c",
   "metadata": {},
   "outputs": [],
   "source": []
  },
  {
   "cell_type": "code",
   "execution_count": null,
   "id": "cd0fcd0b-7a8d-4bd2-b4fc-1f258419bb84",
   "metadata": {},
   "outputs": [],
   "source": []
  },
  {
   "cell_type": "code",
   "execution_count": null,
   "id": "10346f38-6886-41e4-985f-a77860d8272e",
   "metadata": {},
   "outputs": [],
   "source": []
  },
  {
   "cell_type": "code",
   "execution_count": null,
   "id": "d54aeed2-2361-4948-b226-5a86c4be34ae",
   "metadata": {},
   "outputs": [],
   "source": []
  },
  {
   "cell_type": "code",
   "execution_count": null,
   "id": "5fe4993c-36e2-4d61-94a6-f132dac851e2",
   "metadata": {},
   "outputs": [],
   "source": []
  },
  {
   "cell_type": "code",
   "execution_count": null,
   "id": "6b2b95e5-b478-4a3a-a092-6207f611fb2a",
   "metadata": {},
   "outputs": [],
   "source": []
  },
  {
   "cell_type": "code",
   "execution_count": null,
   "id": "ab1e5acc-2e02-412b-83db-27d7dd99fd3d",
   "metadata": {},
   "outputs": [],
   "source": []
  },
  {
   "cell_type": "code",
   "execution_count": null,
   "id": "fd45148d-0578-44ba-a4ac-0dec718e46e7",
   "metadata": {},
   "outputs": [],
   "source": []
  },
  {
   "cell_type": "code",
   "execution_count": null,
   "id": "0b890093-9ce0-4c1f-861c-2829f44532b4",
   "metadata": {},
   "outputs": [],
   "source": []
  },
  {
   "cell_type": "code",
   "execution_count": 44,
   "id": "116b2716-8686-463e-a43a-f15d4b32b4e7",
   "metadata": {},
   "outputs": [
    {
     "name": "stdout",
     "output_type": "stream",
     "text": [
      "Hostname:           x3-05-2.genome.duke.edu\n",
      "Slurm Array Index: \n",
      "Time Stamp:         05-23-24+13:57:11\n",
      "\n",
      "Input (FP_INP):\n",
      "/data/reddylab/Kuei/repo/Proj_ENCODE_FCC/data/processed/STARR_ATAC_K562_Reddy_KS91_210401/fragments/KS91_K562_hg38_ASTARRseq_Output_rep4.f3q10.fragments.counts.corrected.txt.gz\n",
      "\n",
      "show first few lines of input\n",
      "chr1\t10033\t10130\tchr1_10033_10130\t1\t.\n",
      "chr1\t10057\t10233\tchr1_10057_10233\t3\t.\n",
      "chr1\t10104\t10345\tchr1_10104_10345\t1\t.\n",
      "chr1\t10116\t10461\tchr1_10116_10461\t1\t.\n",
      "chr1\t10147\t10430\tchr1_10147_10430\t1\t.\n",
      "chr1\t10164\t10240\tchr1_10164_10240\t1\t.\n",
      "chr1\t10231\t10455\tchr1_10231_10455\t1\t.\n",
      "chr1\t10342\t10461\tchr1_10342_10461\t1\t.\n",
      "chr1\t10371\t10441\tchr1_10371_10441\t1\t.\n",
      "chr1\t10706\t10975\tchr1_10706_10975\t1\t.\n",
      "\n",
      "Input: (FP_GEN):\n",
      "/data/reddylab/Kuei/repo/Proj_ENCODE_FCC/data/external/chrom.sizes.hg38\n",
      "\n",
      "show first few lines of input\n",
      "chr1\t248956422\n",
      "chr2\t242193529\n",
      "chr3\t198295559\n",
      "chr4\t190214555\n",
      "chr5\t181538259\n",
      "chr6\t170805979\n",
      "chr7\t159345973\n",
      "chrX\t156040895\n",
      "chr8\t145138636\n",
      "chr9\t138394717\n",
      "\n",
      "/data/reddylab/Kuei/repo/Proj_ENCODE_FCC/scripts/app_duke_hardac/bedtools: line 16: 23646 Killed                  singularity exec -B ${PWD} -B /data:/data -B /gpfs:/gpfs ${IMAGE} ${CMD} ${ARGS}\n",
      "\n",
      "Output:  /data/reddylab/Kuei/repo/Proj_ENCODE_FCC/data/processed/STARR_ATAC_K562_Reddy_KS91_210401/summary/bedtools.summary.KS91_K562_hg38_ASTARRseq_Output_rep4.f3q10.fragments.counts.corrected.txt.gz.tsv\n",
      "\n",
      "show first few lines of output:\n",
      "\n",
      "\n",
      "Done!\n",
      "Run Time: 10 minutes and 6 seconds\n",
      "slurmstepd: error: Detected 1 oom-kill event(s) in StepId=30797160.batch cgroup. Some of your processes may have been killed by the cgroup out-of-memory handler.\n"
     ]
    }
   ],
   "source": [
    "cat ${FD_LOG}/bedtools.summary.KS91_K562_hg38_ASTARRseq_Output_rep4.f3q10.fragments.counts.corrected.txt.gz"
   ]
  },
  {
   "cell_type": "markdown",
   "id": "6055c85f-d5fb-4a98-84ec-4d85f419be13",
   "metadata": {},
   "source": [
    "30797160"
   ]
  },
  {
   "cell_type": "code",
   "execution_count": null,
   "id": "76e6f74e-28ab-4f51-871a-7826eaea3f9f",
   "metadata": {},
   "outputs": [],
   "source": []
  },
  {
   "cell_type": "code",
   "execution_count": 52,
   "id": "b931d673-945a-4b07-ac73-90f964c0ee1e",
   "metadata": {},
   "outputs": [
    {
     "name": "stdout",
     "output_type": "stream",
     "text": [
      "    AveRSS  AveVMSize     MaxRSS MaxRSSNode MaxRSSTask   NNodes      NCPUS \n",
      "---------- ---------- ---------- ---------- ---------- -------- ---------- \n",
      "                                                              1          2 \n",
      "  4194220K    138596K   4194220K    x3-05-2          0        1          2 \n"
     ]
    }
   ],
   "source": [
    "sacct -j 30797151 --format=AveRSS,AveVMSize,MaxRSS,MaxRSSNode,MAXRSSTask,NNodes,NCPUS"
   ]
  },
  {
   "cell_type": "code",
   "execution_count": 45,
   "id": "fe6ba7a8-68a1-48f9-a99d-46a8d54560f4",
   "metadata": {},
   "outputs": [
    {
     "name": "stdout",
     "output_type": "stream",
     "text": [
      "Hostname:           x3-05-2.genome.duke.edu\n",
      "Slurm Array Index: \n",
      "Time Stamp:         05-23-24+13:58:05\n",
      "\n",
      "Input (FP_INP):\n",
      "/data/reddylab/Kuei/repo/Proj_ENCODE_FCC/data/processed/STARR_ATAC_K562_Reddy_KS91_210401/fragments/KS91_K562_hg38_ASTARRseq_Input_rep3.masked.dedup.fragments.counts.txt.gz\n",
      "\n",
      "show first few lines of input\n",
      "chr1\t10001\t10203\tchr1_10001_10203\t1\t.\n",
      "chr1\t10002\t10113\tchr1_10002_10113\t1\t.\n",
      "chr1\t10002\t10131\tchr1_10002_10131\t1\t.\n",
      "chr1\t10002\t10137\tchr1_10002_10137\t1\t.\n",
      "chr1\t10002\t10227\tchr1_10002_10227\t1\t.\n",
      "chr1\t10002\t10436\tchr1_10002_10436\t1\t.\n",
      "chr1\t10003\t10111\tchr1_10003_10111\t1\t.\n",
      "chr1\t10003\t10113\tchr1_10003_10113\t1\t.\n",
      "chr1\t10003\t10118\tchr1_10003_10118\t1\t.\n",
      "chr1\t10003\t10119\tchr1_10003_10119\t1\t.\n",
      "\n",
      "Input: (FP_GEN):\n",
      "/data/reddylab/Kuei/repo/Proj_ENCODE_FCC/data/external/chrom.sizes.hg38\n",
      "\n",
      "show first few lines of input\n",
      "chr1\t248956422\n",
      "chr2\t242193529\n",
      "chr3\t198295559\n",
      "chr4\t190214555\n",
      "chr5\t181538259\n",
      "chr6\t170805979\n",
      "chr7\t159345973\n",
      "chrX\t156040895\n",
      "chr8\t145138636\n",
      "chr9\t138394717\n",
      "\n",
      "slurmstepd: error: If munged is up, restart with --num-threads=10\n",
      "slurmstepd: error: Munge encode failed: Failed to receive message header: Timed-out\n",
      "/data/reddylab/Kuei/repo/Proj_ENCODE_FCC/scripts/app_duke_hardac/bedtools: line 16: 23651 Killed                  singularity exec -B ${PWD} -B /data:/data -B /gpfs:/gpfs ${IMAGE} ${CMD} ${ARGS}\n",
      "\n",
      "Output:  /data/reddylab/Kuei/repo/Proj_ENCODE_FCC/data/processed/STARR_ATAC_K562_Reddy_KS91_210401/summary/bedtools.summary.KS91_K562_hg38_ASTARRseq_Input_rep3.masked.dedup.fragments.counts.txt.gz.tsv\n",
      "\n",
      "show first few lines of output:\n",
      "\n",
      "\n",
      "Done!\n",
      "Run Time: 18 minutes and 25 seconds\n",
      "slurmstepd: error: Detected 1 oom-kill event(s) in StepId=30797151.batch cgroup. Some of your processes may have been killed by the cgroup out-of-memory handler.\n",
      "slurmstepd: error: If munged is up, restart with --num-threads=10\n",
      "slurmstepd: error: Munge encode failed: Failed to receive message header: Timed-out\n",
      "slurmstepd: error: If munged is up, restart with --num-threads=10\n",
      "slurmstepd: error: Munge encode failed: Failed to receive message header: Timed-out\n"
     ]
    }
   ],
   "source": [
    "cat ${FD_LOG}/bedtools.summary.KS91_K562_hg38_ASTARRseq_Input_rep3.masked.dedup.fragments.counts.txt.gz"
   ]
  },
  {
   "cell_type": "code",
   "execution_count": 47,
   "id": "f905bef7-42dc-4662-8c75-7808eaeba195",
   "metadata": {},
   "outputs": [
    {
     "name": "stdout",
     "output_type": "stream",
     "text": [
      "Hostname:           x3-05-2.genome.duke.edu\n",
      "Slurm Array Index: \n",
      "Time Stamp:         05-23-24+13:58:05\n",
      "\n",
      "Input (FP_INP):\n",
      "/data/reddylab/Kuei/repo/Proj_ENCODE_FCC/data/processed/STARR_ATAC_K562_Reddy_KS91_210401/fragments/KS91_K562_hg38_ASTARRseq_Input_rep3.masked.dedup.fragments.counts.txt.gz\n",
      "\n",
      "show first few lines of input\n",
      "chr1\t10001\t10203\tchr1_10001_10203\t1\t.\n",
      "chr1\t10002\t10113\tchr1_10002_10113\t1\t.\n",
      "chr1\t10002\t10131\tchr1_10002_10131\t1\t.\n",
      "chr1\t10002\t10137\tchr1_10002_10137\t1\t.\n",
      "chr1\t10002\t10227\tchr1_10002_10227\t1\t.\n",
      "chr1\t10002\t10436\tchr1_10002_10436\t1\t.\n",
      "chr1\t10003\t10111\tchr1_10003_10111\t1\t.\n",
      "chr1\t10003\t10113\tchr1_10003_10113\t1\t.\n",
      "chr1\t10003\t10118\tchr1_10003_10118\t1\t.\n",
      "chr1\t10003\t10119\tchr1_10003_10119\t1\t.\n",
      "\n",
      "Input: (FP_GEN):\n",
      "/data/reddylab/Kuei/repo/Proj_ENCODE_FCC/data/external/chrom.sizes.hg38\n",
      "\n",
      "show first few lines of input\n",
      "chr1\t248956422\n",
      "chr2\t242193529\n",
      "chr3\t198295559\n",
      "chr4\t190214555\n",
      "chr5\t181538259\n",
      "chr6\t170805979\n",
      "chr7\t159345973\n",
      "chrX\t156040895\n",
      "chr8\t145138636\n",
      "chr9\t138394717\n",
      "\n",
      "slurmstepd: error: If munged is up, restart with --num-threads=10\n",
      "slurmstepd: error: Munge encode failed: Failed to receive message header: Timed-out\n",
      "/data/reddylab/Kuei/repo/Proj_ENCODE_FCC/scripts/app_duke_hardac/bedtools: line 16: 23651 Killed                  singularity exec -B ${PWD} -B /data:/data -B /gpfs:/gpfs ${IMAGE} ${CMD} ${ARGS}\n",
      "\n",
      "Output:  /data/reddylab/Kuei/repo/Proj_ENCODE_FCC/data/processed/STARR_ATAC_K562_Reddy_KS91_210401/summary/bedtools.summary.KS91_K562_hg38_ASTARRseq_Input_rep3.masked.dedup.fragments.counts.txt.gz.tsv\n",
      "\n",
      "show first few lines of output:\n",
      "\n",
      "\n",
      "Done!\n",
      "Run Time: 18 minutes and 25 seconds\n",
      "slurmstepd: error: Detected 1 oom-kill event(s) in StepId=30797151.batch cgroup. Some of your processes may have been killed by the cgroup out-of-memory handler.\n",
      "slurmstepd: error: If munged is up, restart with --num-threads=10\n",
      "slurmstepd: error: Munge encode failed: Failed to receive message header: Timed-out\n",
      "slurmstepd: error: If munged is up, restart with --num-threads=10\n",
      "slurmstepd: error: Munge encode failed: Failed to receive message header: Timed-out\n"
     ]
    }
   ],
   "source": [
    "cat ${FD_LOG}/bedtools.summary.KS91_K562_hg38_ASTARRseq_Input_rep3.masked.dedup.fragments.counts.txt.gz"
   ]
  },
  {
   "cell_type": "code",
   "execution_count": 33,
   "id": "5a7e8ee1-8135-49db-9500-034716e76663",
   "metadata": {},
   "outputs": [
    {
     "name": "stdout",
     "output_type": "stream",
     "text": [
      "Hostname:           x1-03-3.genome.duke.edu\n",
      "Slurm Array Index: \n",
      "Time Stamp:         05-23-24+12:51:54\n",
      "\n",
      "Input (FP_INP):\n",
      "/data/reddylab/Kuei/repo/Proj_ENCODE_FCC/data/processed/STARR_ATAC_K562_Reddy_KS91_210401/fragments/KS91_K562_hg38_ASTARRseq_Output_rep1.f3q10.fragments.counts.txt.gz\n",
      "\n",
      "show first few lines of input\n",
      "chr1\t10057\t10233\tchr1_10057_10233\t2\t.\n",
      "chr1\t10188\t10442\tchr1_10188_10442\t1\t.\n",
      "chr1\t10285\t10349\tchr1_10285_10349\t1\t.\n",
      "chr1\t10287\t10332\tchr1_10287_10332\t1\t.\n",
      "chr1\t10365\t10449\tchr1_10365_10449\t1\t.\n",
      "chr1\t10389\t10442\tchr1_10389_10442\t1\t.\n",
      "chr1\t13471\t13708\tchr1_13471_13708\t1\t.\n",
      "chr1\t14098\t14507\tchr1_14098_14507\t1\t.\n",
      "chr1\t14132\t14498\tchr1_14132_14498\t1\t.\n",
      "chr1\t14134\t14498\tchr1_14134_14498\t1\t.\n",
      "\n",
      "Input: (FP_GEN):\n",
      "/data/reddylab/Kuei/repo/Proj_ENCODE_FCC/data/external/chrom.sizes.hg38\n",
      "\n",
      "show first few lines of input\n",
      "chr1\t248956422\n",
      "chr2\t242193529\n",
      "chr3\t198295559\n",
      "chr4\t190214555\n",
      "chr5\t181538259\n",
      "chr6\t170805979\n",
      "chr7\t159345973\n",
      "chrX\t156040895\n",
      "chr8\t145138636\n",
      "chr9\t138394717\n",
      "\n",
      "slurmstepd: error: Munge encode failed: Failed to connect to \"/var/run/munge/munge.socket.2\": Resource temporarily unavailable\n",
      "slurmstepd: error: If munged is up, restart with --num-threads=10\n",
      "slurmstepd: error: proctrack_p_wait: Unable to destroy container 38190 in cgroup plugin, giving up after 128 sec\n",
      "slurmstepd: error: Munge encode failed: Failed to receive message header: Timed-out\n",
      "slurmstepd: error: slurm_send_node_msg: g_slurm_auth_create: REQUEST_COMPLETE_BATCH_SCRIPT has authentication error: Invalid authentication credential\n",
      "slurmstepd: error: If munged is up, restart with --num-threads=10\n",
      "slurmstepd: error: Munge encode failed: Failed to connect to \"/var/run/munge/munge.socket.2\": Resource temporarily unavailable\n",
      "slurmstepd: error: slurm_send_node_msg: g_slurm_auth_create: REQUEST_COMPLETE_BATCH_SCRIPT has authentication error: Invalid authentication credential\n",
      "slurmstepd: error: If munged is up, restart with --num-threads=10\n",
      "slurmstepd: error: Munge encode failed: Failed to connect to \"/var/run/munge/munge.socket.2\": Resource temporarily unavailable\n",
      "slurmstepd: error: slurm_send_node_msg: g_slurm_auth_create: REQUEST_COMPLETE_BATCH_SCRIPT has authentication error: Invalid authentication credential\n",
      "slurmstepd: error: If munged is up, restart with --num-threads=10\n",
      "slurmstepd: error: Munge encode failed: Failed to connect to \"/var/run/munge/munge.socket.2\": Resource temporarily unavailable\n",
      "slurmstepd: error: slurm_send_node_msg: g_slurm_auth_create: REQUEST_COMPLETE_BATCH_SCRIPT has authentication error: Invalid authentication credential\n",
      "slurmstepd: error: If munged is up, restart with --num-threads=10\n",
      "slurmstepd: error: Munge encode failed: Failed to connect to \"/var/run/munge/munge.socket.2\": Resource temporarily unavailable\n",
      "slurmstepd: error: slurm_send_node_msg: g_slurm_auth_create: REQUEST_COMPLETE_BATCH_SCRIPT has authentication error: Invalid authentication credential\n",
      "slurmstepd: error: If munged is up, restart with --num-threads=10\n",
      "slurmstepd: error: Munge encode failed: Failed to connect to \"/var/run/munge/munge.socket.2\": Resource temporarily unavailable\n",
      "slurmstepd: error: slurm_send_node_msg: g_slurm_auth_create: REQUEST_COMPLETE_BATCH_SCRIPT has authentication error: Invalid authentication credential\n",
      "slurmstepd: error: If munged is up, restart with --num-threads=10\n",
      "slurmstepd: error: Munge encode failed: Failed to connect to \"/var/run/munge/munge.socket.2\": Resource temporarily unavailable\n",
      "slurmstepd: error: slurm_send_node_msg: g_slurm_auth_create: REQUEST_COMPLETE_BATCH_SCRIPT has authentication error: Invalid authentication credential\n",
      "slurmstepd: error: If munged is up, restart with --num-threads=10\n",
      "slurmstepd: error: Munge encode failed: Failed to connect to \"/var/run/munge/munge.socket.2\": Resource temporarily unavailable\n",
      "slurmstepd: error: slurm_send_node_msg: g_slurm_auth_create: REQUEST_COMPLETE_BATCH_SCRIPT has authentication error: Invalid authentication credential\n",
      "slurmstepd: error: If munged is up, restart with --num-threads=10\n",
      "slurmstepd: error: Munge encode failed: Failed to connect to \"/var/run/munge/munge.socket.2\": Resource temporarily unavailable\n",
      "slurmstepd: error: If munged is up, restart with --num-threads=10\n",
      "slurmstepd: error: Munge encode failed: Failed to connect to \"/var/run/munge/munge.socket.2\": Resource temporarily unavailable\n",
      "slurmstepd: error: slurm_send_node_msg: g_slurm_auth_create: REQUEST_COMPLETE_BATCH_SCRIPT has authentication error: Invalid authentication credential\n",
      "slurmstepd: error: If munged is up, restart with --num-threads=10\n",
      "slurmstepd: error: Munge encode failed: Failed to connect to \"/var/run/munge/munge.socket.2\": Resource temporarily unavailable\n",
      "slurmstepd: error: slurm_send_node_msg: g_slurm_auth_create: REQUEST_COMPLETE_BATCH_SCRIPT has authentication error: Invalid authentication credential\n",
      "slurmstepd: error: If munged is up, restart with --num-threads=10\n",
      "slurmstepd: error: Munge encode failed: Failed to connect to \"/var/run/munge/munge.socket.2\": Resource temporarily unavailable\n",
      "slurmstepd: error: slurm_send_node_msg: g_slurm_auth_create: REQUEST_COMPLETE_BATCH_SCRIPT has authentication error: Invalid authentication credential\n",
      "slurmstepd: error: If munged is up, restart with --num-threads=10\n",
      "slurmstepd: error: Munge encode failed: Failed to connect to \"/var/run/munge/munge.socket.2\": Resource temporarily unavailable\n",
      "slurmstepd: error: If munged is up, restart with --num-threads=10\n",
      "slurmstepd: error: Munge encode failed: Failed to connect to \"/var/run/munge/munge.socket.2\": Resource temporarily unavailable\n",
      "slurmstepd: error: slurm_send_node_msg: g_slurm_auth_create: REQUEST_COMPLETE_BATCH_SCRIPT has authentication error: Invalid authentication credential\n"
     ]
    }
   ],
   "source": [
    "cat ${FD_LOG}/bedtools.summary.KS91_K562_hg38_ASTARRseq_Output_rep1.f3q10.fragments.counts.txt.gz"
   ]
  },
  {
   "cell_type": "code",
   "execution_count": null,
   "id": "242c78cb-259b-42cd-8676-ec2e72289fef",
   "metadata": {},
   "outputs": [],
   "source": []
  }
 ],
 "metadata": {
  "kernelspec": {
   "display_name": "Bash",
   "language": "bash",
   "name": "bash"
  },
  "language_info": {
   "codemirror_mode": "shell",
   "file_extension": ".sh",
   "mimetype": "text/x-sh",
   "name": "bash"
  }
 },
 "nbformat": 4,
 "nbformat_minor": 5
}
