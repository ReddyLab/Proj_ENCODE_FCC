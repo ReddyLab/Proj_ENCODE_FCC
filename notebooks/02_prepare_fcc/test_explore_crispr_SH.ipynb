{
 "cells": [
  {
   "cell_type": "code",
   "execution_count": 1,
   "id": "668a89e9-1473-4ab9-807b-701ab2ae6ade",
   "metadata": {},
   "outputs": [
    {
     "name": "stdout",
     "output_type": "stream",
     "text": [
      "You are working on             Duke Server: HARDAC\n",
      "BASE DIRECTORY (FD_BASE):      /data/reddylab/Kuei\n",
      "REPO DIRECTORY (FD_REPO):      /data/reddylab/Kuei/repo\n",
      "WORK DIRECTORY (FD_WORK):      /data/reddylab/Kuei/work\n",
      "DATA DIRECTORY (FD_DATA):      /data/reddylab/Kuei/data\n",
      "CONTAINER DIR. (FD_SING):      /data/reddylab/Kuei/container\n",
      "\n",
      "You are working with           ENCODE FCC\n",
      "PATH OF PROJECT (FD_PRJ):      /data/reddylab/Kuei/repo/Proj_CombEffect_ENCODE_FCC\n",
      "PROJECT RESULTS (FD_RES):      /data/reddylab/Kuei/repo/Proj_CombEffect_ENCODE_FCC/results\n",
      "PROJECT SCRIPTS (FD_EXE):      /data/reddylab/Kuei/repo/Proj_CombEffect_ENCODE_FCC/scripts\n",
      "PROJECT DATA    (FD_DAT):      /data/reddylab/Kuei/repo/Proj_CombEffect_ENCODE_FCC/data\n",
      "PROJECT NOTE    (FD_NBK):      /data/reddylab/Kuei/repo/Proj_CombEffect_ENCODE_FCC/notebooks\n",
      "PROJECT DOCS    (FD_DOC):      /data/reddylab/Kuei/repo/Proj_CombEffect_ENCODE_FCC/docs\n",
      "PROJECT LOG     (FD_LOG):      /data/reddylab/Kuei/repo/Proj_CombEffect_ENCODE_FCC/log\n",
      "PROJECT APP     (FD_APP):      /data/reddylab/Kuei/repo/Proj_CombEffect_ENCODE_FCC/app\n",
      "PROJECT REF     (FD_REF):      /data/reddylab/Kuei/repo/Proj_CombEffect_ENCODE_FCC/references\n",
      "PROJECT IMAGE   (FP_PRJ_SIF):  /data/reddylab/Kuei/repo/Proj_CombEffect_ENCODE_FCC/app/singularity_proj_encode_fcc.sif\n",
      "\n"
     ]
    }
   ],
   "source": [
    "source ../run_config_project.sh\n",
    "show_env"
   ]
  },
  {
   "cell_type": "code",
   "execution_count": 4,
   "id": "6894f58e-a0e5-46cb-a217-601cc0828127",
   "metadata": {},
   "outputs": [
    {
     "name": "stdout",
     "output_type": "stream",
     "text": [
      "lrwxrwxrwx 1 kk319 reddylab 56 Feb 15 11:14 \u001b[0m\u001b[38;5;51m/data/reddylab/Kuei/repo/Proj_CombEffect_ENCODE_FCC/data\u001b[0m -> \u001b[38;5;27m/data/reddylab/Kuei/work/proj_combeffect_encode_fcc/data\u001b[0m\u001b[K\n"
     ]
    }
   ],
   "source": [
    "ls -l ${FD_DAT}"
   ]
  },
  {
   "cell_type": "code",
   "execution_count": 14,
   "id": "0e904033-cc12-4e34-8d87-81143167ca4a",
   "metadata": {},
   "outputs": [
    {
     "name": "stdout",
     "output_type": "stream",
     "text": [
      "/data/reddylab/Kuei/work\n"
     ]
    }
   ],
   "source": [
    "echo ${FD_WORK}"
   ]
  },
  {
   "cell_type": "code",
   "execution_count": 9,
   "id": "1d22498e-7f71-4ebc-b594-2f1e199b8680",
   "metadata": {},
   "outputs": [],
   "source": [
    "FD_DAT_OLD=${FD_WORK}/proj_combeffect_encode_fcc/source\n",
    "FD_RES_OLD=${FD_WORK}/proj_combeffect_encode_fcc/results_v4"
   ]
  },
  {
   "cell_type": "code",
   "execution_count": 6,
   "id": "7a2d5883-f80f-4dca-9c5b-23a8e946b6ba",
   "metadata": {},
   "outputs": [
    {
     "name": "stdout",
     "output_type": "stream",
     "text": [
      "\u001b[0m\u001b[38;5;27mA001_K562_wstarrseq_fragments\u001b[0m\n",
      "\u001b[38;5;27mA001_K562_wstarrseq_fragments_wgs\u001b[0m\n",
      "\u001b[38;5;27mannotation_cCREs\u001b[0m\n",
      "\u001b[38;5;27mannotation_chipseq_histone\u001b[0m\n",
      "\u001b[38;5;27mannotation_chipseq_tf\u001b[0m\n",
      "\u001b[38;5;27mannotation_chromHMM\u001b[0m\n",
      "\u001b[38;5;27mannotation_enhancer_junke\u001b[0m\n",
      "\u001b[38;5;27mannotation_enhancer_junke_zscore\u001b[0m\n",
      "\u001b[38;5;27mannotation_enhancer_junke_zscore_prev\u001b[0m\n",
      "\u001b[38;5;27mannotation_gencode\u001b[0m\n",
      "\u001b[38;5;27mannotation_gene\u001b[0m\n",
      "\u001b[38;5;27mannotation_remap2022\u001b[0m\n",
      "\u001b[38;5;27mannotation_starrseq_negative_control_junke\u001b[0m\n",
      "chrom.sizes.hg19\n",
      "chrom.sizes.hg38\n",
      "\u001b[38;5;27mCRISPRi_FlowFISH\u001b[0m\n",
      "\u001b[38;5;27mCRISPRi_growth\u001b[0m\n",
      "\u001b[38;5;27mENCODE_E2G\u001b[0m\n",
      "\u001b[38;5;27mhic_insitu_GM12878\u001b[0m\n",
      "\u001b[38;5;27mhic_intact_K562_ENCSR479XDG\u001b[0m\n",
      "\u001b[38;5;27mKS91_K562_astarrseq_fragments_220510\u001b[0m\n",
      "\u001b[38;5;27mKS91_K562_astarrseq_fragments_wgs\u001b[0m\n",
      "\u001b[38;5;27mKS91_K562_astarrseq_peak_macs\u001b[0m\n",
      "\u001b[38;5;27mMPRA\u001b[0m\n",
      "Readme.md\n",
      "\u001b[38;5;27mRNAseq\u001b[0m\n",
      "\u001b[38;5;27mTF_modules\u001b[0m\n",
      "\u001b[38;5;27mtmp\u001b[0m\n"
     ]
    }
   ],
   "source": [
    "ls ${FD_DAT_OLD}"
   ]
  },
  {
   "cell_type": "code",
   "execution_count": 7,
   "id": "1b859b5b-b113-49fc-9b7a-2c625da7c188",
   "metadata": {},
   "outputs": [
    {
     "name": "stdout",
     "output_type": "stream",
     "text": [
      "HCRFF_20genes_ensembl.csv              \u001b[0m\u001b[38;5;27mpeak_casa_calls\u001b[0m  \u001b[38;5;27mtrack_bedgraph\u001b[0m\n",
      "K562_HCRFF_20genes_TSS_TES_coords.out  Readme.md        \u001b[38;5;27mtrack_bigwig\u001b[0m\n"
     ]
    }
   ],
   "source": [
    "ls ${FD_DAT_OLD}/CRISPRi_FlowFISH"
   ]
  },
  {
   "cell_type": "code",
   "execution_count": 8,
   "id": "41d63975-3b25-44ed-8594-7b4387601a56",
   "metadata": {},
   "outputs": [
    {
     "name": "stdout",
     "output_type": "stream",
     "text": [
      "CAPRIN1_HCRFF_CASA_elem_quant.bed  HBG1_HCRFF_CASA_elem_quant.bed\n",
      "CAT_HCRFF_CASA_elem_quant.bed      HBG2_HCRFF_CASA_elem_quant.bed\n",
      "CD164_HCRFF_CASA_elem_quant.bed    HBS1L_HCRFF_CASA_elem_quant.bed\n",
      "ERP29_HCRFF_CASA_elem_quant.bed    HDAC6_HCRFF_CASA_elem_quant.bed\n",
      "FADS1_HCRFF_CASA_elem_quant.bed    LMO2_HCRFF_CASA_elem_quant.bed\n",
      "FADS2_HCRFF_CASA_elem_quant.bed    MEF2C_HCRFF_CASA_elem_quant.bed\n",
      "FADS3_HCRFF_CASA_elem_quant.bed    MYB_HCRFF_CASA_elem_quant.bed\n",
      "FEN1_HCRFF_CASA_elem_quant.bed     MYC_HCRFF_CASA_elem_quant.bed\n",
      "GATA1_HCRFF_CASA_elem_quant.bed    NMU_HCRFF_CASA_elem_quant.bed\n",
      "HBE1_HCRFF_CASA_elem_quant.bed     PVT1_HCRFF_CASA_elem_quant.bed\n"
     ]
    }
   ],
   "source": [
    "ls ${FD_DAT_OLD}/CRISPRi_FlowFISH/peak_casa_calls"
   ]
  },
  {
   "cell_type": "code",
   "execution_count": 10,
   "id": "15174d04-fe22-4d7b-bd4c-96a75dbe4e94",
   "metadata": {},
   "outputs": [
    {
     "name": "stdout",
     "output_type": "stream",
     "text": [
      "\u001b[0m\u001b[38;5;27mA001_K562_WSTARRseq\u001b[0m       \u001b[38;5;27mCRISPRi_Growth_K562_Gersbach\u001b[0m  \u001b[38;5;27mLentiMPRA_K562_Nadav\u001b[0m\n",
      "\u001b[38;5;27mcomparison\u001b[0m                \u001b[38;5;27mhic_intact_K562_deep\u001b[0m          \u001b[38;5;27mregion\u001b[0m\n",
      "\u001b[38;5;27mcomparison_archive231029\u001b[0m  \u001b[38;5;27mhic_intact_K562_ENCSR479XDG\u001b[0m   \u001b[38;5;27mTewhey_K562_TileMPRA\u001b[0m\n",
      "\u001b[38;5;27mCRISPRi_FlowFISH\u001b[0m          \u001b[38;5;27mKS91_K562_ASTARRseq\u001b[0m\n"
     ]
    }
   ],
   "source": [
    "ls ${FD_RES_OLD}"
   ]
  },
  {
   "cell_type": "code",
   "execution_count": 12,
   "id": "5fa9a702-476b-4690-a454-608c0ec4c7ed",
   "metadata": {},
   "outputs": [
    {
     "name": "stdout",
     "output_type": "stream",
     "text": [
      "\u001b[0m\u001b[38;5;27mannotation_ccres\u001b[0m                  \u001b[38;5;27mannotation_gencode\u001b[0m\n",
      "\u001b[38;5;27mannotation_ccres_silencer\u001b[0m         \u001b[38;5;27mannotation_tss_pol2\u001b[0m\n",
      "\u001b[38;5;27mannotation_chipseq_histone\u001b[0m        \u001b[38;5;27mhic_intact_deep\u001b[0m\n",
      "\u001b[38;5;27mannotation_chipseq_tf\u001b[0m             \u001b[38;5;27mhic_intact_ENCSR479XDG\u001b[0m\n",
      "\u001b[38;5;27mannotation_chipseq_tf_subset\u001b[0m      \u001b[38;5;27mKS91_K562_ASTARRseq_peak_macs_input\u001b[0m\n",
      "\u001b[38;5;27mannotation_chromHMM\u001b[0m               region_screened_crispri_flowfish.bed\n",
      "\u001b[38;5;27mannotation_crispri_growth\u001b[0m         region_screened_selected.bed\n",
      "\u001b[38;5;27mannotation_crispri_hcrff\u001b[0m          \u001b[38;5;9mregion_screened_selected.bed.gz\u001b[0m\n",
      "\u001b[38;5;27mannotation_encode_e2g_benchmark\u001b[0m   region_screened_selected_perbase.bed\n",
      "\u001b[38;5;27mannotation_encode_e2g_prediction\u001b[0m  \u001b[38;5;9mregion_screened_selected_perbase.bed.gz\u001b[0m\n",
      "\u001b[38;5;27mannotation_enhancer_junke\u001b[0m         region_screened_tmpra.bed\n",
      "\u001b[38;5;27mannotation_enhancer_zscore_junke\u001b[0m  region_screened_tmpra_crispr.bed\n",
      "\u001b[38;5;27mannotation_fcc_table\u001b[0m              \u001b[38;5;27mtmp\u001b[0m\n"
     ]
    }
   ],
   "source": [
    "ls ${FD_RES_OLD}/region"
   ]
  },
  {
   "cell_type": "code",
   "execution_count": 13,
   "id": "e28d04b5-a2a0-4917-a4b8-c2115709fccf",
   "metadata": {},
   "outputs": [
    {
     "name": "stdout",
     "output_type": "stream",
     "text": [
      "\u001b[0m\u001b[38;5;9mcrispri_hcrff.casa.bed.gz\u001b[0m        crispri_hcrff_gene_tss.tsv\n",
      "\u001b[38;5;9mcrispri_hcrff.casa.merge.bed.gz\u001b[0m  description.tsv\n",
      "crispri_hcrff.casa.tsv           K562_HCRFF_20genes_TSS_TES_coords.tsv\n"
     ]
    }
   ],
   "source": [
    "ls ${FD_RES_OLD}/region/annotation_crispri_hcrff"
   ]
  },
  {
   "cell_type": "code",
   "execution_count": null,
   "id": "9db1b457-6af4-4740-a693-8077aafa52c4",
   "metadata": {},
   "outputs": [],
   "source": []
  }
 ],
 "metadata": {
  "kernelspec": {
   "display_name": "Bash",
   "language": "bash",
   "name": "bash"
  },
  "language_info": {
   "codemirror_mode": "shell",
   "file_extension": ".sh",
   "mimetype": "text/x-sh",
   "name": "bash"
  }
 },
 "nbformat": 4,
 "nbformat_minor": 5
}
