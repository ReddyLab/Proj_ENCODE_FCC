{
 "cells": [
  {
   "cell_type": "code",
   "execution_count": null,
   "id": "c1777a07-9010-408d-b9cb-cefed3328151",
   "metadata": {},
   "outputs": [],
   "source": []
  },
  {
   "cell_type": "markdown",
   "id": "3ce188ab-1e53-41c1-898c-899f37ffe638",
   "metadata": {},
   "source": [
    "**Set environment**"
   ]
  },
  {
   "cell_type": "code",
   "execution_count": 1,
   "id": "1967e03a-beb4-4ddd-8436-04a6e0de08d8",
   "metadata": {
    "tags": []
   },
   "outputs": [
    {
     "name": "stdout",
     "output_type": "stream",
     "text": [
      "You are working on        Singularity \n",
      "BASE DIRECTORY (FD_BASE): /mount \n",
      "REPO DIRECTORY (FD_REPO): /mount/repo \n",
      "WORK DIRECTORY (FD_WORK): /mount/work \n",
      "DATA DIRECTORY (FD_DATA): /mount/data \n",
      "\n",
      "You are working with      ENCODE FCC \n",
      "PATH OF PROJECT (FD_PRJ): /mount/repo/Proj_ENCODE_FCC \n",
      "PROJECT RESULTS (FD_RES): /mount/repo/Proj_ENCODE_FCC/results \n",
      "PROJECT SCRIPTS (FD_EXE): /mount/repo/Proj_ENCODE_FCC/scripts \n",
      "PROJECT DATA    (FD_DAT): /mount/repo/Proj_ENCODE_FCC/data \n",
      "PROJECT NOTE    (FD_NBK): /mount/repo/Proj_ENCODE_FCC/notebooks \n",
      "PROJECT DOCS    (FD_DOC): /mount/repo/Proj_ENCODE_FCC/docs \n",
      "PROJECT LOG     (FD_LOG): /mount/repo/Proj_ENCODE_FCC/log \n",
      "PROJECT APP     (FD_APP): /mount/repo/Proj_ENCODE_FCC/app \n",
      "PROJECT REF     (FD_REF): /mount/repo/Proj_ENCODE_FCC/references \n",
      "\n"
     ]
    }
   ],
   "source": [
    "suppressMessages(suppressWarnings(source(\"../run_config_project_sing.R\")))\n",
    "show_env()"
   ]
  },
  {
   "cell_type": "code",
   "execution_count": 2,
   "id": "1654f855-c512-4159-aac3-8e508cdaf294",
   "metadata": {},
   "outputs": [],
   "source": [
    "suppressMessages(suppressWarnings(library(\"rtracklayer\")))"
   ]
  },
  {
   "cell_type": "markdown",
   "id": "024a91d1-3abf-4e84-9670-94c6ca48828b",
   "metadata": {},
   "source": [
    "**Set global variables**"
   ]
  },
  {
   "cell_type": "code",
   "execution_count": 3,
   "id": "5f1534ab-3c48-4c78-8b8c-236d7362375b",
   "metadata": {},
   "outputs": [],
   "source": [
    "TXT_FOLDER_REGION = \"genome_cres\""
   ]
  },
  {
   "cell_type": "markdown",
   "id": "8da2b75d-2bd9-41a9-bf15-e8d2ebee7dfd",
   "metadata": {},
   "source": [
    "## Import data"
   ]
  },
  {
   "cell_type": "code",
   "execution_count": 7,
   "id": "e2330271-6c29-4ab2-bd8b-90f07f0cae02",
   "metadata": {},
   "outputs": [
    {
     "name": "stdout",
     "output_type": "stream",
     "text": [
      "biomart.Homo_sapiens.GRCh38.regulatory_features.v112.tsv.gz \n",
      "Homo_sapiens.GRCh38.regulatory_activity.v112.tsv.gz \n",
      "Homo_sapiens.GRCh38.regulatory_features.v112.gff3.gz \n"
     ]
    }
   ],
   "source": [
    "txt_folder = TXT_FOLDER_REGION\n",
    "txt_fdiry  = file.path(FD_REF, txt_folder)\n",
    "\n",
    "vec = dir(txt_fdiry)\n",
    "for (txt in vec){cat(txt, \"\\n\")}"
   ]
  },
  {
   "cell_type": "code",
   "execution_count": 10,
   "id": "2bb79aa0-79f5-461e-ac9b-3d015191b59f",
   "metadata": {},
   "outputs": [
    {
     "name": "stderr",
     "output_type": "stream",
     "text": [
      "\u001b[1mRows: \u001b[22m\u001b[34m612140\u001b[39m \u001b[1mColumns: \u001b[22m\u001b[34m6\u001b[39m\n",
      "\u001b[36m──\u001b[39m \u001b[1mColumn specification\u001b[22m \u001b[36m───────────────────────────────────────────────────────────────\u001b[39m\n",
      "\u001b[1mDelimiter:\u001b[22m \"\\t\"\n",
      "\u001b[31mchr\u001b[39m (4): Chromosome/scaffold name, Regulatory stable ID, Feature type, Featu...\n",
      "\u001b[32mdbl\u001b[39m (2): Start (bp), End (bp)\n",
      "\n",
      "\u001b[36mℹ\u001b[39m Use `spec()` to retrieve the full column specification for this data.\n",
      "\u001b[36mℹ\u001b[39m Specify the column types or set `show_col_types = FALSE` to quiet this message.\n"
     ]
    },
    {
     "name": "stdout",
     "output_type": "stream",
     "text": [
      "[1] 612140      6\n"
     ]
    },
    {
     "data": {
      "text/html": [
       "<table>\n",
       " <thead>\n",
       "  <tr>\n",
       "   <th style=\"text-align:left;\"> Chromosome/scaffold name </th>\n",
       "   <th style=\"text-align:right;\"> Start (bp) </th>\n",
       "   <th style=\"text-align:right;\"> End (bp) </th>\n",
       "   <th style=\"text-align:left;\"> Regulatory stable ID </th>\n",
       "   <th style=\"text-align:left;\"> Feature type </th>\n",
       "   <th style=\"text-align:left;\"> Feature type description </th>\n",
       "  </tr>\n",
       " </thead>\n",
       "<tbody>\n",
       "  <tr>\n",
       "   <td style=\"text-align:left;\"> 1 </td>\n",
       "   <td style=\"text-align:right;\"> 10201 </td>\n",
       "   <td style=\"text-align:right;\"> 10400 </td>\n",
       "   <td style=\"text-align:left;\"> ENSR00001164744 </td>\n",
       "   <td style=\"text-align:left;\"> CTCF Binding Site </td>\n",
       "   <td style=\"text-align:left;\"> CTCF binding site </td>\n",
       "  </tr>\n",
       "  <tr>\n",
       "   <td style=\"text-align:left;\"> 1 </td>\n",
       "   <td style=\"text-align:right;\"> 12802 </td>\n",
       "   <td style=\"text-align:right;\"> 16450 </td>\n",
       "   <td style=\"text-align:left;\"> ENSR00001164745 </td>\n",
       "   <td style=\"text-align:left;\"> Enhancer </td>\n",
       "   <td style=\"text-align:left;\"> Predicted enhancer region </td>\n",
       "  </tr>\n",
       "  <tr>\n",
       "   <td style=\"text-align:left;\"> 1 </td>\n",
       "   <td style=\"text-align:right;\"> 13401 </td>\n",
       "   <td style=\"text-align:right;\"> 13600 </td>\n",
       "   <td style=\"text-align:left;\"> ENSR00000344265 </td>\n",
       "   <td style=\"text-align:left;\"> CTCF Binding Site </td>\n",
       "   <td style=\"text-align:left;\"> CTCF binding site </td>\n",
       "  </tr>\n",
       "  <tr>\n",
       "   <td style=\"text-align:left;\"> 1 </td>\n",
       "   <td style=\"text-align:right;\"> 14001 </td>\n",
       "   <td style=\"text-align:right;\"> 14200 </td>\n",
       "   <td style=\"text-align:left;\"> ENSR00001164746 </td>\n",
       "   <td style=\"text-align:left;\"> CTCF Binding Site </td>\n",
       "   <td style=\"text-align:left;\"> CTCF binding site </td>\n",
       "  </tr>\n",
       "  <tr>\n",
       "   <td style=\"text-align:left;\"> 1 </td>\n",
       "   <td style=\"text-align:right;\"> 15401 </td>\n",
       "   <td style=\"text-align:right;\"> 16600 </td>\n",
       "   <td style=\"text-align:left;\"> ENSR00000344266 </td>\n",
       "   <td style=\"text-align:left;\"> CTCF Binding Site </td>\n",
       "   <td style=\"text-align:left;\"> CTCF binding site </td>\n",
       "  </tr>\n",
       "  <tr>\n",
       "   <td style=\"text-align:left;\"> 1 </td>\n",
       "   <td style=\"text-align:right;\"> 20602 </td>\n",
       "   <td style=\"text-align:right;\"> 24875 </td>\n",
       "   <td style=\"text-align:left;\"> ENSR00001295567 </td>\n",
       "   <td style=\"text-align:left;\"> Open chromatin </td>\n",
       "   <td style=\"text-align:left;\"> Open chromatin region </td>\n",
       "  </tr>\n",
       "</tbody>\n",
       "</table>"
      ]
     },
     "metadata": {},
     "output_type": "display_data"
    }
   ],
   "source": [
    "txt_folder = TXT_FOLDER_REGION\n",
    "txt_fdiry  = file.path(FD_REF, txt_folder)\n",
    "txt_fname  = \"biomart.Homo_sapiens.GRCh38.regulatory_features.v112.tsv.gz\"\n",
    "txt_fpath  = file.path(txt_fdiry, txt_fname)\n",
    "dat = read_tsv(txt_fpath)\n",
    "\n",
    "dat_regulatory_feature_table = dat\n",
    "print(dim(dat))\n",
    "fun_display_table(head(dat))"
   ]
  },
  {
   "cell_type": "code",
   "execution_count": 9,
   "id": "db0aa8e9-1d2c-496f-9b52-002f18b4206d",
   "metadata": {},
   "outputs": [
    {
     "name": "stdout",
     "output_type": "stream",
     "text": [
      "[1] 612140     12\n"
     ]
    },
    {
     "data": {
      "text/html": [
       "<table>\n",
       " <thead>\n",
       "  <tr>\n",
       "   <th style=\"text-align:left;\"> seqid </th>\n",
       "   <th style=\"text-align:left;\"> source </th>\n",
       "   <th style=\"text-align:left;\"> type </th>\n",
       "   <th style=\"text-align:right;\"> start </th>\n",
       "   <th style=\"text-align:right;\"> end </th>\n",
       "   <th style=\"text-align:right;\"> score </th>\n",
       "   <th style=\"text-align:left;\"> strand </th>\n",
       "   <th style=\"text-align:right;\"> phase </th>\n",
       "   <th style=\"text-align:left;\"> ID </th>\n",
       "   <th style=\"text-align:left;\"> extended_start </th>\n",
       "   <th style=\"text-align:left;\"> extended_end </th>\n",
       "   <th style=\"text-align:left;\"> color </th>\n",
       "  </tr>\n",
       " </thead>\n",
       "<tbody>\n",
       "  <tr>\n",
       "   <td style=\"text-align:left;\"> 1 </td>\n",
       "   <td style=\"text-align:left;\"> Ensembl </td>\n",
       "   <td style=\"text-align:left;\"> CTCF_binding_site </td>\n",
       "   <td style=\"text-align:right;\"> 10201 </td>\n",
       "   <td style=\"text-align:right;\"> 10400 </td>\n",
       "   <td style=\"text-align:right;\"> NA </td>\n",
       "   <td style=\"text-align:left;\"> * </td>\n",
       "   <td style=\"text-align:right;\"> NA </td>\n",
       "   <td style=\"text-align:left;\"> ENSR00001164744 </td>\n",
       "   <td style=\"text-align:left;\"> 10201 </td>\n",
       "   <td style=\"text-align:left;\"> 10400 </td>\n",
       "   <td style=\"text-align:left;\"> #40e0d0 </td>\n",
       "  </tr>\n",
       "  <tr>\n",
       "   <td style=\"text-align:left;\"> 1 </td>\n",
       "   <td style=\"text-align:left;\"> Ensembl </td>\n",
       "   <td style=\"text-align:left;\"> enhancer </td>\n",
       "   <td style=\"text-align:right;\"> 12802 </td>\n",
       "   <td style=\"text-align:right;\"> 16450 </td>\n",
       "   <td style=\"text-align:right;\"> NA </td>\n",
       "   <td style=\"text-align:left;\"> * </td>\n",
       "   <td style=\"text-align:right;\"> NA </td>\n",
       "   <td style=\"text-align:left;\"> ENSR00001164745 </td>\n",
       "   <td style=\"text-align:left;\"> 12802 </td>\n",
       "   <td style=\"text-align:left;\"> 16450 </td>\n",
       "   <td style=\"text-align:left;\"> #faca00 </td>\n",
       "  </tr>\n",
       "  <tr>\n",
       "   <td style=\"text-align:left;\"> 1 </td>\n",
       "   <td style=\"text-align:left;\"> Ensembl </td>\n",
       "   <td style=\"text-align:left;\"> CTCF_binding_site </td>\n",
       "   <td style=\"text-align:right;\"> 13401 </td>\n",
       "   <td style=\"text-align:right;\"> 13600 </td>\n",
       "   <td style=\"text-align:right;\"> NA </td>\n",
       "   <td style=\"text-align:left;\"> * </td>\n",
       "   <td style=\"text-align:right;\"> NA </td>\n",
       "   <td style=\"text-align:left;\"> ENSR00000344265 </td>\n",
       "   <td style=\"text-align:left;\"> 13401 </td>\n",
       "   <td style=\"text-align:left;\"> 13600 </td>\n",
       "   <td style=\"text-align:left;\"> #40e0d0 </td>\n",
       "  </tr>\n",
       "  <tr>\n",
       "   <td style=\"text-align:left;\"> 1 </td>\n",
       "   <td style=\"text-align:left;\"> Ensembl </td>\n",
       "   <td style=\"text-align:left;\"> CTCF_binding_site </td>\n",
       "   <td style=\"text-align:right;\"> 14001 </td>\n",
       "   <td style=\"text-align:right;\"> 14200 </td>\n",
       "   <td style=\"text-align:right;\"> NA </td>\n",
       "   <td style=\"text-align:left;\"> * </td>\n",
       "   <td style=\"text-align:right;\"> NA </td>\n",
       "   <td style=\"text-align:left;\"> ENSR00001164746 </td>\n",
       "   <td style=\"text-align:left;\"> 14001 </td>\n",
       "   <td style=\"text-align:left;\"> 14200 </td>\n",
       "   <td style=\"text-align:left;\"> #40e0d0 </td>\n",
       "  </tr>\n",
       "  <tr>\n",
       "   <td style=\"text-align:left;\"> 1 </td>\n",
       "   <td style=\"text-align:left;\"> Ensembl </td>\n",
       "   <td style=\"text-align:left;\"> CTCF_binding_site </td>\n",
       "   <td style=\"text-align:right;\"> 15401 </td>\n",
       "   <td style=\"text-align:right;\"> 16600 </td>\n",
       "   <td style=\"text-align:right;\"> NA </td>\n",
       "   <td style=\"text-align:left;\"> * </td>\n",
       "   <td style=\"text-align:right;\"> NA </td>\n",
       "   <td style=\"text-align:left;\"> ENSR00000344266 </td>\n",
       "   <td style=\"text-align:left;\"> 15401 </td>\n",
       "   <td style=\"text-align:left;\"> 16600 </td>\n",
       "   <td style=\"text-align:left;\"> #40e0d0 </td>\n",
       "  </tr>\n",
       "  <tr>\n",
       "   <td style=\"text-align:left;\"> 1 </td>\n",
       "   <td style=\"text-align:left;\"> Ensembl </td>\n",
       "   <td style=\"text-align:left;\"> open_chromatin_region </td>\n",
       "   <td style=\"text-align:right;\"> 20602 </td>\n",
       "   <td style=\"text-align:right;\"> 24875 </td>\n",
       "   <td style=\"text-align:right;\"> NA </td>\n",
       "   <td style=\"text-align:left;\"> * </td>\n",
       "   <td style=\"text-align:right;\"> NA </td>\n",
       "   <td style=\"text-align:left;\"> ENSR00001295567 </td>\n",
       "   <td style=\"text-align:left;\"> 20602 </td>\n",
       "   <td style=\"text-align:left;\"> 24875 </td>\n",
       "   <td style=\"text-align:left;\"> #d9d9d9 </td>\n",
       "  </tr>\n",
       "</tbody>\n",
       "</table>"
      ]
     },
     "metadata": {},
     "output_type": "display_data"
    }
   ],
   "source": [
    "txt_folder = TXT_FOLDER_REGION\n",
    "txt_fdiry  = file.path(FD_REF, txt_folder)\n",
    "txt_fname  = \"Homo_sapiens.GRCh38.regulatory_features.v112.gff3.gz\"\n",
    "txt_fpath  = file.path(txt_fdiry, txt_fname)\n",
    "dat = readGFF(txt_fpath)\n",
    "\n",
    "dat_regulatory_feature_info = dat\n",
    "print(dim(dat))\n",
    "fun_display_table(head(dat))"
   ]
  },
  {
   "cell_type": "code",
   "execution_count": 6,
   "id": "40a16134-8791-419a-b4f9-cdb0fa0daf10",
   "metadata": {},
   "outputs": [
    {
     "name": "stderr",
     "output_type": "stream",
     "text": [
      "\u001b[1mRows: \u001b[22m\u001b[34m612140\u001b[39m \u001b[1mColumns: \u001b[22m\u001b[34m120\u001b[39m\n",
      "\u001b[36m──\u001b[39m \u001b[1mColumn specification\u001b[22m \u001b[36m───────────────────────────────────────────────────────────────\u001b[39m\n",
      "\u001b[1mDelimiter:\u001b[22m \"\\t\"\n",
      "\u001b[31mchr\u001b[39m (120): feature_id, feature_type, A549, A673, B, B_PB, CD14_monocyte_1, C...\n",
      "\n",
      "\u001b[36mℹ\u001b[39m Use `spec()` to retrieve the full column specification for this data.\n",
      "\u001b[36mℹ\u001b[39m Specify the column types or set `show_col_types = FALSE` to quiet this message.\n"
     ]
    },
    {
     "name": "stdout",
     "output_type": "stream",
     "text": [
      "[1] 612140    120\n"
     ]
    },
    {
     "data": {
      "text/html": [
       "<table>\n",
       " <thead>\n",
       "  <tr>\n",
       "   <th style=\"text-align:left;\"> feature_id </th>\n",
       "   <th style=\"text-align:left;\"> feature_type </th>\n",
       "   <th style=\"text-align:left;\"> A549 </th>\n",
       "   <th style=\"text-align:left;\"> A673 </th>\n",
       "   <th style=\"text-align:left;\"> B </th>\n",
       "   <th style=\"text-align:left;\"> B_PB </th>\n",
       "  </tr>\n",
       " </thead>\n",
       "<tbody>\n",
       "  <tr>\n",
       "   <td style=\"text-align:left;\"> ENSR00001164744 </td>\n",
       "   <td style=\"text-align:left;\"> CTCF_binding_site </td>\n",
       "   <td style=\"text-align:left;\"> POISED </td>\n",
       "   <td style=\"text-align:left;\"> INACTIVE </td>\n",
       "   <td style=\"text-align:left;\"> INACTIVE </td>\n",
       "   <td style=\"text-align:left;\"> NA </td>\n",
       "  </tr>\n",
       "  <tr>\n",
       "   <td style=\"text-align:left;\"> ENSR00001164745 </td>\n",
       "   <td style=\"text-align:left;\"> enhancer </td>\n",
       "   <td style=\"text-align:left;\"> INACTIVE </td>\n",
       "   <td style=\"text-align:left;\"> ACTIVE </td>\n",
       "   <td style=\"text-align:left;\"> INACTIVE </td>\n",
       "   <td style=\"text-align:left;\"> INACTIVE </td>\n",
       "  </tr>\n",
       "  <tr>\n",
       "   <td style=\"text-align:left;\"> ENSR00000344265 </td>\n",
       "   <td style=\"text-align:left;\"> CTCF_binding_site </td>\n",
       "   <td style=\"text-align:left;\"> INACTIVE </td>\n",
       "   <td style=\"text-align:left;\"> INACTIVE </td>\n",
       "   <td style=\"text-align:left;\"> INACTIVE </td>\n",
       "   <td style=\"text-align:left;\"> NA </td>\n",
       "  </tr>\n",
       "  <tr>\n",
       "   <td style=\"text-align:left;\"> ENSR00001164746 </td>\n",
       "   <td style=\"text-align:left;\"> CTCF_binding_site </td>\n",
       "   <td style=\"text-align:left;\"> INACTIVE </td>\n",
       "   <td style=\"text-align:left;\"> INACTIVE </td>\n",
       "   <td style=\"text-align:left;\"> INACTIVE </td>\n",
       "   <td style=\"text-align:left;\"> NA </td>\n",
       "  </tr>\n",
       "  <tr>\n",
       "   <td style=\"text-align:left;\"> ENSR00000344266 </td>\n",
       "   <td style=\"text-align:left;\"> CTCF_binding_site </td>\n",
       "   <td style=\"text-align:left;\"> ACTIVE </td>\n",
       "   <td style=\"text-align:left;\"> INACTIVE </td>\n",
       "   <td style=\"text-align:left;\"> ACTIVE </td>\n",
       "   <td style=\"text-align:left;\"> NA </td>\n",
       "  </tr>\n",
       "  <tr>\n",
       "   <td style=\"text-align:left;\"> ENSR00001295567 </td>\n",
       "   <td style=\"text-align:left;\"> open_chromatin_region </td>\n",
       "   <td style=\"text-align:left;\"> INACTIVE </td>\n",
       "   <td style=\"text-align:left;\"> INACTIVE </td>\n",
       "   <td style=\"text-align:left;\"> INACTIVE </td>\n",
       "   <td style=\"text-align:left;\"> INACTIVE </td>\n",
       "  </tr>\n",
       "</tbody>\n",
       "</table>"
      ]
     },
     "metadata": {},
     "output_type": "display_data"
    }
   ],
   "source": [
    "txt_folder = TXT_FOLDER_REGION\n",
    "txt_fdiry  = file.path(FD_REF, txt_folder)\n",
    "txt_fname  = \"Homo_sapiens.GRCh38.regulatory_activity.v112.tsv.gz\"\n",
    "txt_fpath  = file.path(txt_fdiry, txt_fname)\n",
    "dat = read_tsv(txt_fpath)\n",
    "\n",
    "dat_regulatory_activity = dat\n",
    "print(dim(dat))\n",
    "fun_display_table(head(dat[,1:6]))"
   ]
  },
  {
   "cell_type": "markdown",
   "id": "be996b8c-6e8f-46ce-b4d8-e623f42942da",
   "metadata": {},
   "source": [
    "## Explore"
   ]
  },
  {
   "cell_type": "code",
   "execution_count": 20,
   "id": "c6f7131f-b539-4b39-bef2-6db02efb1913",
   "metadata": {},
   "outputs": [
    {
     "data": {
      "text/html": [
       "<table class=\"dataframe\">\n",
       "<caption>A tibble: 6 × 2</caption>\n",
       "<thead>\n",
       "\t<tr><th scope=col>Regulatory stable ID</th><th scope=col>Feature type</th></tr>\n",
       "\t<tr><th scope=col>&lt;chr&gt;</th><th scope=col>&lt;chr&gt;</th></tr>\n",
       "</thead>\n",
       "<tbody>\n",
       "\t<tr><td>ENSR00001164744</td><td>CTCF Binding Site</td></tr>\n",
       "\t<tr><td>ENSR00001164745</td><td>Enhancer         </td></tr>\n",
       "\t<tr><td>ENSR00000344265</td><td>CTCF Binding Site</td></tr>\n",
       "\t<tr><td>ENSR00001164746</td><td>CTCF Binding Site</td></tr>\n",
       "\t<tr><td>ENSR00000344266</td><td>CTCF Binding Site</td></tr>\n",
       "\t<tr><td>ENSR00001295567</td><td>Open chromatin   </td></tr>\n",
       "</tbody>\n",
       "</table>\n"
      ],
      "text/latex": [
       "A tibble: 6 × 2\n",
       "\\begin{tabular}{ll}\n",
       " Regulatory stable ID & Feature type\\\\\n",
       " <chr> & <chr>\\\\\n",
       "\\hline\n",
       "\t ENSR00001164744 & CTCF Binding Site\\\\\n",
       "\t ENSR00001164745 & Enhancer         \\\\\n",
       "\t ENSR00000344265 & CTCF Binding Site\\\\\n",
       "\t ENSR00001164746 & CTCF Binding Site\\\\\n",
       "\t ENSR00000344266 & CTCF Binding Site\\\\\n",
       "\t ENSR00001295567 & Open chromatin   \\\\\n",
       "\\end{tabular}\n"
      ],
      "text/markdown": [
       "\n",
       "A tibble: 6 × 2\n",
       "\n",
       "| Regulatory stable ID &lt;chr&gt; | Feature type &lt;chr&gt; |\n",
       "|---|---|\n",
       "| ENSR00001164744 | CTCF Binding Site |\n",
       "| ENSR00001164745 | Enhancer          |\n",
       "| ENSR00000344265 | CTCF Binding Site |\n",
       "| ENSR00001164746 | CTCF Binding Site |\n",
       "| ENSR00000344266 | CTCF Binding Site |\n",
       "| ENSR00001295567 | Open chromatin    |\n",
       "\n"
      ],
      "text/plain": [
       "  Regulatory stable ID Feature type     \n",
       "1 ENSR00001164744      CTCF Binding Site\n",
       "2 ENSR00001164745      Enhancer         \n",
       "3 ENSR00000344265      CTCF Binding Site\n",
       "4 ENSR00001164746      CTCF Binding Site\n",
       "5 ENSR00000344266      CTCF Binding Site\n",
       "6 ENSR00001295567      Open chromatin   "
      ]
     },
     "metadata": {},
     "output_type": "display_data"
    }
   ],
   "source": [
    "dat = dat_regulatory_feature_table\n",
    "dat = dat %>% dplyr::select(\n",
    "    `Regulatory stable ID`,\n",
    "    `Feature type`\n",
    ")\n",
    "dat1 = dat\n",
    "head(dat)"
   ]
  },
  {
   "cell_type": "code",
   "execution_count": 25,
   "id": "380c0d38-94e5-483e-85c0-10cec6038d99",
   "metadata": {},
   "outputs": [
    {
     "data": {
      "text/plain": [
       "\n",
       "CTCF Binding Site          Enhancer    Open chromatin          Promoter \n",
       "           101734            269062            152802             57669 \n",
       "       TF binding \n",
       "            30873 "
      ]
     },
     "metadata": {},
     "output_type": "display_data"
    }
   ],
   "source": [
    "table(dat1$`Feature type`)"
   ]
  },
  {
   "cell_type": "code",
   "execution_count": null,
   "id": "3b994eb4-76b8-4993-85f4-b6e9cd7c2354",
   "metadata": {},
   "outputs": [],
   "source": []
  },
  {
   "cell_type": "code",
   "execution_count": null,
   "id": "b9f31baa-c34f-4ba9-877e-f2e30f9e08eb",
   "metadata": {},
   "outputs": [],
   "source": []
  },
  {
   "cell_type": "code",
   "execution_count": null,
   "id": "5323b700-c9d2-4d25-9cf3-2ca45a131788",
   "metadata": {},
   "outputs": [],
   "source": []
  },
  {
   "cell_type": "code",
   "execution_count": 16,
   "id": "f1b012ca-f8bd-4cd5-8b68-eb730a433625",
   "metadata": {},
   "outputs": [
    {
     "data": {
      "text/html": [
       "<table class=\"dataframe\">\n",
       "<caption>A tibble: 6 × 6</caption>\n",
       "<thead>\n",
       "\t<tr><th scope=col>feature_id</th><th scope=col>feature_type</th><th scope=col>A549</th><th scope=col>A673</th><th scope=col>B</th><th scope=col>B_PB</th></tr>\n",
       "\t<tr><th scope=col>&lt;chr&gt;</th><th scope=col>&lt;chr&gt;</th><th scope=col>&lt;chr&gt;</th><th scope=col>&lt;chr&gt;</th><th scope=col>&lt;chr&gt;</th><th scope=col>&lt;chr&gt;</th></tr>\n",
       "</thead>\n",
       "<tbody>\n",
       "\t<tr><td>ENSR00001164744</td><td>CTCF_binding_site    </td><td>POISED  </td><td>INACTIVE</td><td>INACTIVE</td><td>NA      </td></tr>\n",
       "\t<tr><td>ENSR00001164745</td><td>enhancer             </td><td>INACTIVE</td><td>ACTIVE  </td><td>INACTIVE</td><td>INACTIVE</td></tr>\n",
       "\t<tr><td>ENSR00000344265</td><td>CTCF_binding_site    </td><td>INACTIVE</td><td>INACTIVE</td><td>INACTIVE</td><td>NA      </td></tr>\n",
       "\t<tr><td>ENSR00001164746</td><td>CTCF_binding_site    </td><td>INACTIVE</td><td>INACTIVE</td><td>INACTIVE</td><td>NA      </td></tr>\n",
       "\t<tr><td>ENSR00000344266</td><td>CTCF_binding_site    </td><td>ACTIVE  </td><td>INACTIVE</td><td>ACTIVE  </td><td>NA      </td></tr>\n",
       "\t<tr><td>ENSR00001295567</td><td>open_chromatin_region</td><td>INACTIVE</td><td>INACTIVE</td><td>INACTIVE</td><td>INACTIVE</td></tr>\n",
       "</tbody>\n",
       "</table>\n"
      ],
      "text/latex": [
       "A tibble: 6 × 6\n",
       "\\begin{tabular}{llllll}\n",
       " feature\\_id & feature\\_type & A549 & A673 & B & B\\_PB\\\\\n",
       " <chr> & <chr> & <chr> & <chr> & <chr> & <chr>\\\\\n",
       "\\hline\n",
       "\t ENSR00001164744 & CTCF\\_binding\\_site     & POISED   & INACTIVE & INACTIVE & NA      \\\\\n",
       "\t ENSR00001164745 & enhancer              & INACTIVE & ACTIVE   & INACTIVE & INACTIVE\\\\\n",
       "\t ENSR00000344265 & CTCF\\_binding\\_site     & INACTIVE & INACTIVE & INACTIVE & NA      \\\\\n",
       "\t ENSR00001164746 & CTCF\\_binding\\_site     & INACTIVE & INACTIVE & INACTIVE & NA      \\\\\n",
       "\t ENSR00000344266 & CTCF\\_binding\\_site     & ACTIVE   & INACTIVE & ACTIVE   & NA      \\\\\n",
       "\t ENSR00001295567 & open\\_chromatin\\_region & INACTIVE & INACTIVE & INACTIVE & INACTIVE\\\\\n",
       "\\end{tabular}\n"
      ],
      "text/markdown": [
       "\n",
       "A tibble: 6 × 6\n",
       "\n",
       "| feature_id &lt;chr&gt; | feature_type &lt;chr&gt; | A549 &lt;chr&gt; | A673 &lt;chr&gt; | B &lt;chr&gt; | B_PB &lt;chr&gt; |\n",
       "|---|---|---|---|---|---|\n",
       "| ENSR00001164744 | CTCF_binding_site     | POISED   | INACTIVE | INACTIVE | NA       |\n",
       "| ENSR00001164745 | enhancer              | INACTIVE | ACTIVE   | INACTIVE | INACTIVE |\n",
       "| ENSR00000344265 | CTCF_binding_site     | INACTIVE | INACTIVE | INACTIVE | NA       |\n",
       "| ENSR00001164746 | CTCF_binding_site     | INACTIVE | INACTIVE | INACTIVE | NA       |\n",
       "| ENSR00000344266 | CTCF_binding_site     | ACTIVE   | INACTIVE | ACTIVE   | NA       |\n",
       "| ENSR00001295567 | open_chromatin_region | INACTIVE | INACTIVE | INACTIVE | INACTIVE |\n",
       "\n"
      ],
      "text/plain": [
       "  feature_id      feature_type          A549     A673     B        B_PB    \n",
       "1 ENSR00001164744 CTCF_binding_site     POISED   INACTIVE INACTIVE NA      \n",
       "2 ENSR00001164745 enhancer              INACTIVE ACTIVE   INACTIVE INACTIVE\n",
       "3 ENSR00000344265 CTCF_binding_site     INACTIVE INACTIVE INACTIVE NA      \n",
       "4 ENSR00001164746 CTCF_binding_site     INACTIVE INACTIVE INACTIVE NA      \n",
       "5 ENSR00000344266 CTCF_binding_site     ACTIVE   INACTIVE ACTIVE   NA      \n",
       "6 ENSR00001295567 open_chromatin_region INACTIVE INACTIVE INACTIVE INACTIVE"
      ]
     },
     "metadata": {},
     "output_type": "display_data"
    }
   ],
   "source": [
    "dat = dat_regulatory_activity \n",
    "head(dat[,1:6])"
   ]
  },
  {
   "cell_type": "code",
   "execution_count": 19,
   "id": "260ac83a-34b0-499b-a0a7-9bcc4a211284",
   "metadata": {},
   "outputs": [
    {
     "data": {
      "text/html": [
       "<table class=\"dataframe\">\n",
       "<caption>A tibble: 6 × 3</caption>\n",
       "<thead>\n",
       "\t<tr><th scope=col>feature_id</th><th scope=col>feature_type</th><th scope=col>K562</th></tr>\n",
       "\t<tr><th scope=col>&lt;chr&gt;</th><th scope=col>&lt;chr&gt;</th><th scope=col>&lt;chr&gt;</th></tr>\n",
       "</thead>\n",
       "<tbody>\n",
       "\t<tr><td>ENSR00001164744</td><td>CTCF_binding_site    </td><td>INACTIVE</td></tr>\n",
       "\t<tr><td>ENSR00001164745</td><td>enhancer             </td><td>INACTIVE</td></tr>\n",
       "\t<tr><td>ENSR00000344265</td><td>CTCF_binding_site    </td><td>INACTIVE</td></tr>\n",
       "\t<tr><td>ENSR00001164746</td><td>CTCF_binding_site    </td><td>ACTIVE  </td></tr>\n",
       "\t<tr><td>ENSR00000344266</td><td>CTCF_binding_site    </td><td>ACTIVE  </td></tr>\n",
       "\t<tr><td>ENSR00001295567</td><td>open_chromatin_region</td><td>INACTIVE</td></tr>\n",
       "</tbody>\n",
       "</table>\n"
      ],
      "text/latex": [
       "A tibble: 6 × 3\n",
       "\\begin{tabular}{lll}\n",
       " feature\\_id & feature\\_type & K562\\\\\n",
       " <chr> & <chr> & <chr>\\\\\n",
       "\\hline\n",
       "\t ENSR00001164744 & CTCF\\_binding\\_site     & INACTIVE\\\\\n",
       "\t ENSR00001164745 & enhancer              & INACTIVE\\\\\n",
       "\t ENSR00000344265 & CTCF\\_binding\\_site     & INACTIVE\\\\\n",
       "\t ENSR00001164746 & CTCF\\_binding\\_site     & ACTIVE  \\\\\n",
       "\t ENSR00000344266 & CTCF\\_binding\\_site     & ACTIVE  \\\\\n",
       "\t ENSR00001295567 & open\\_chromatin\\_region & INACTIVE\\\\\n",
       "\\end{tabular}\n"
      ],
      "text/markdown": [
       "\n",
       "A tibble: 6 × 3\n",
       "\n",
       "| feature_id &lt;chr&gt; | feature_type &lt;chr&gt; | K562 &lt;chr&gt; |\n",
       "|---|---|---|\n",
       "| ENSR00001164744 | CTCF_binding_site     | INACTIVE |\n",
       "| ENSR00001164745 | enhancer              | INACTIVE |\n",
       "| ENSR00000344265 | CTCF_binding_site     | INACTIVE |\n",
       "| ENSR00001164746 | CTCF_binding_site     | ACTIVE   |\n",
       "| ENSR00000344266 | CTCF_binding_site     | ACTIVE   |\n",
       "| ENSR00001295567 | open_chromatin_region | INACTIVE |\n",
       "\n"
      ],
      "text/plain": [
       "  feature_id      feature_type          K562    \n",
       "1 ENSR00001164744 CTCF_binding_site     INACTIVE\n",
       "2 ENSR00001164745 enhancer              INACTIVE\n",
       "3 ENSR00000344265 CTCF_binding_site     INACTIVE\n",
       "4 ENSR00001164746 CTCF_binding_site     ACTIVE  \n",
       "5 ENSR00000344266 CTCF_binding_site     ACTIVE  \n",
       "6 ENSR00001295567 open_chromatin_region INACTIVE"
      ]
     },
     "metadata": {},
     "output_type": "display_data"
    }
   ],
   "source": [
    "dat = dat_regulatory_activity \n",
    "dat = dat %>% dplyr::select(feature_id, feature_type, K562)\n",
    "\n",
    "dat2 = dat\n",
    "head(dat)"
   ]
  },
  {
   "cell_type": "code",
   "execution_count": 26,
   "id": "1829f6fc-8580-47eb-85fb-8a7adb0185ec",
   "metadata": {},
   "outputs": [
    {
     "data": {
      "text/plain": [
       "\n",
       "    CTCF_binding_site              enhancer open_chromatin_region \n",
       "               101734                269062                152802 \n",
       "             promoter       TF_binding_site \n",
       "                57669                 30873 "
      ]
     },
     "metadata": {},
     "output_type": "display_data"
    }
   ],
   "source": [
    "table(dat2$feature_type)"
   ]
  },
  {
   "cell_type": "code",
   "execution_count": 27,
   "id": "6820a393-63f6-4225-b495-51c70268b7f8",
   "metadata": {},
   "outputs": [
    {
     "data": {
      "text/plain": [
       "\n",
       "   ACTIVE  INACTIVE    POISED REPRESSED \n",
       "    96973    395890     21889     97388 "
      ]
     },
     "metadata": {},
     "output_type": "display_data"
    }
   ],
   "source": [
    "table(dat2$K562)"
   ]
  },
  {
   "cell_type": "code",
   "execution_count": null,
   "id": "8b99f4bf-64ee-4492-a03a-f93d8930be6a",
   "metadata": {},
   "outputs": [],
   "source": []
  },
  {
   "cell_type": "code",
   "execution_count": 24,
   "id": "3be57b1f-6d76-43ae-8ef3-ab51f98c1e43",
   "metadata": {},
   "outputs": [
    {
     "name": "stdout",
     "output_type": "stream",
     "text": [
      "[1] 612140\n",
      "[1] 612140\n",
      "[1] 612140\n"
     ]
    }
   ],
   "source": [
    "vec1 = dat1$`Regulatory stable ID`\n",
    "vec2 = dat2$feature_id\n",
    "\n",
    "vec1 = unique(vec1)\n",
    "vec2 = unique(vec2)\n",
    "vec3 = intersect(vec1, vec2)\n",
    "\n",
    "print(length(vec1))\n",
    "print(length(vec2))\n",
    "print(length(vec3))"
   ]
  },
  {
   "cell_type": "code",
   "execution_count": null,
   "id": "3e559d6a-b4d6-4219-8396-c606a1b7b756",
   "metadata": {},
   "outputs": [],
   "source": []
  }
 ],
 "metadata": {
  "kernelspec": {
   "display_name": "R",
   "language": "R",
   "name": "ir"
  },
  "language_info": {
   "codemirror_mode": "r",
   "file_extension": ".r",
   "mimetype": "text/x-r-source",
   "name": "R",
   "pygments_lexer": "r",
   "version": "4.4.0"
  }
 },
 "nbformat": 4,
 "nbformat_minor": 5
}
