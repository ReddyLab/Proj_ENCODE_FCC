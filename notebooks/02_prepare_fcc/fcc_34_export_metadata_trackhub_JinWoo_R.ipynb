{
 "cells": [
  {
   "cell_type": "raw",
   "id": "48175d3f-c3da-4bf0-9193-b978660b65c0",
   "metadata": {},
   "source": [
    "---\n",
    "title: Prepare track data processed by JinWoo 04\n",
    "subtitle: Create metadata for CRIPSRi data\n",
    "format:\n",
    "    html:\n",
    "        code-fold:  true\n",
    "        code-tools: true\n",
    "---"
   ]
  },
  {
   "cell_type": "markdown",
   "id": "32a8ef8d-b129-466c-9351-17a838943867",
   "metadata": {},
   "source": [
    "**Set environment**"
   ]
  },
  {
   "cell_type": "code",
   "execution_count": 1,
   "id": "78f7e702-698f-4917-b281-7073f9fd93af",
   "metadata": {},
   "outputs": [
    {
     "name": "stdout",
     "output_type": "stream",
     "text": [
      "You are working on        Singularity \n",
      "BASE DIRECTORY (FD_BASE): /mount \n",
      "REPO DIRECTORY (FD_REPO): /mount/repo \n",
      "WORK DIRECTORY (FD_WORK): /mount/work \n",
      "DATA DIRECTORY (FD_DATA): /mount/data \n",
      "\n",
      "You are working with      ENCODE FCC \n",
      "PATH OF PROJECT (FD_PRJ): /mount/repo/Proj_ENCODE_FCC \n",
      "PROJECT RESULTS (FD_RES): /mount/repo/Proj_ENCODE_FCC/results \n",
      "PROJECT SCRIPTS (FD_EXE): /mount/repo/Proj_ENCODE_FCC/scripts \n",
      "PROJECT DATA    (FD_DAT): /mount/repo/Proj_ENCODE_FCC/data \n",
      "PROJECT NOTE    (FD_NBK): /mount/repo/Proj_ENCODE_FCC/notebooks \n",
      "PROJECT DOCS    (FD_DOC): /mount/repo/Proj_ENCODE_FCC/docs \n",
      "PROJECT LOG     (FD_LOG): /mount/repo/Proj_ENCODE_FCC/log \n",
      "PROJECT APP     (FD_APP): /mount/repo/Proj_ENCODE_FCC/app \n",
      "PROJECT REF     (FD_REF): /mount/repo/Proj_ENCODE_FCC/references \n",
      "\n"
     ]
    }
   ],
   "source": [
    "suppressMessages(suppressWarnings(source(\"../run_config_project_sing.R\")))\n",
    "show_env()"
   ]
  },
  {
   "cell_type": "markdown",
   "id": "57cbd25c-dfe5-4947-aabc-9e5cb21f378b",
   "metadata": {},
   "source": [
    "## Import data"
   ]
  },
  {
   "cell_type": "code",
   "execution_count": 2,
   "id": "20aa0909-29ce-4d43-bef3-23662930d237",
   "metadata": {},
   "outputs": [
    {
     "data": {
      "text/html": [
       "'ENCODE_K562_hg38_CRISPRi_HCRFF.tsv'"
      ],
      "text/latex": [
       "'ENCODE\\_K562\\_hg38\\_CRISPRi\\_HCRFF.tsv'"
      ],
      "text/markdown": [
       "'ENCODE_K562_hg38_CRISPRi_HCRFF.tsv'"
      ],
      "text/plain": [
       "[1] \"ENCODE_K562_hg38_CRISPRi_HCRFF.tsv\""
      ]
     },
     "metadata": {},
     "output_type": "display_data"
    }
   ],
   "source": [
    "txt_fdiry = file.path(FD_REF, \"encode_crispri_hcrff\")\n",
    "dir(txt_fdiry)"
   ]
  },
  {
   "cell_type": "code",
   "execution_count": 3,
   "id": "179393b4-0bfc-44d0-8540-1df42aa8eae2",
   "metadata": {},
   "outputs": [
    {
     "data": {
      "text/html": [
       "<table>\n",
       " <thead>\n",
       "  <tr>\n",
       "   <th style=\"text-align:left;\"> Assay </th>\n",
       "   <th style=\"text-align:left;\"> Biosample </th>\n",
       "   <th style=\"text-align:left;\"> Index_Experiment </th>\n",
       "   <th style=\"text-align:left;\"> Index_Process </th>\n",
       "   <th style=\"text-align:left;\"> Index_File </th>\n",
       "   <th style=\"text-align:left;\"> File_Type </th>\n",
       "   <th style=\"text-align:left;\"> Output_Type </th>\n",
       "   <th style=\"text-align:left;\"> Genome </th>\n",
       "   <th style=\"text-align:left;\"> Target </th>\n",
       "   <th style=\"text-align:left;\"> File_Summary </th>\n",
       "   <th style=\"text-align:left;\"> Lab </th>\n",
       "  </tr>\n",
       " </thead>\n",
       "<tbody>\n",
       "  <tr>\n",
       "   <td style=\"text-align:left;\"> Flow-FISH CRISPR screen </td>\n",
       "   <td style=\"text-align:left;\"> K562 </td>\n",
       "   <td style=\"text-align:left;\"> ENCSR793WTM </td>\n",
       "   <td style=\"text-align:left;\"> Lab custom GRCh38 (ENCAN194INC) </td>\n",
       "   <td style=\"text-align:left;\"> ENCFF863AVQ </td>\n",
       "   <td style=\"text-align:left;\"> bed CRISPR element quantifications </td>\n",
       "   <td style=\"text-align:left;\"> element quantifications </td>\n",
       "   <td style=\"text-align:left;\"> hg38 </td>\n",
       "   <td style=\"text-align:left;\"> CAPRIN1 </td>\n",
       "   <td style=\"text-align:left;\"> CAPRIN1_peakwise_file </td>\n",
       "   <td style=\"text-align:left;\"> Pardis Sabeti, Broad </td>\n",
       "  </tr>\n",
       "  <tr>\n",
       "   <td style=\"text-align:left;\"> Flow-FISH CRISPR screen </td>\n",
       "   <td style=\"text-align:left;\"> K562 </td>\n",
       "   <td style=\"text-align:left;\"> ENCSR793WTM </td>\n",
       "   <td style=\"text-align:left;\"> Lab custom GRCh38 (ENCAN194INC) </td>\n",
       "   <td style=\"text-align:left;\"> ENCFF444UXP </td>\n",
       "   <td style=\"text-align:left;\"> bigWig </td>\n",
       "   <td style=\"text-align:left;\"> perturbation signal </td>\n",
       "   <td style=\"text-align:left;\"> hg38 </td>\n",
       "   <td style=\"text-align:left;\"> CAPRIN1 </td>\n",
       "   <td style=\"text-align:left;\"> CAPRIN1_perturb_signal_R1 </td>\n",
       "   <td style=\"text-align:left;\"> Pardis Sabeti, Broad </td>\n",
       "  </tr>\n",
       "  <tr>\n",
       "   <td style=\"text-align:left;\"> Flow-FISH CRISPR screen </td>\n",
       "   <td style=\"text-align:left;\"> K562 </td>\n",
       "   <td style=\"text-align:left;\"> ENCSR793WTM </td>\n",
       "   <td style=\"text-align:left;\"> Lab custom GRCh38 (ENCAN194INC) </td>\n",
       "   <td style=\"text-align:left;\"> ENCFF994KKV </td>\n",
       "   <td style=\"text-align:left;\"> bigWig </td>\n",
       "   <td style=\"text-align:left;\"> perturbation signal </td>\n",
       "   <td style=\"text-align:left;\"> hg38 </td>\n",
       "   <td style=\"text-align:left;\"> CAPRIN1 </td>\n",
       "   <td style=\"text-align:left;\"> CAPRIN1_perturb_signal_R2 </td>\n",
       "   <td style=\"text-align:left;\"> Pardis Sabeti, Broad </td>\n",
       "  </tr>\n",
       "  <tr>\n",
       "   <td style=\"text-align:left;\"> Flow-FISH CRISPR screen </td>\n",
       "   <td style=\"text-align:left;\"> K562 </td>\n",
       "   <td style=\"text-align:left;\"> ENCSR794SPV </td>\n",
       "   <td style=\"text-align:left;\"> Lab custom GRCh38 (ENCAN095VUQ) </td>\n",
       "   <td style=\"text-align:left;\"> ENCFF619FXH </td>\n",
       "   <td style=\"text-align:left;\"> bed CRISPR element quantifications </td>\n",
       "   <td style=\"text-align:left;\"> element quantifications </td>\n",
       "   <td style=\"text-align:left;\"> hg38 </td>\n",
       "   <td style=\"text-align:left;\"> CAT </td>\n",
       "   <td style=\"text-align:left;\"> CAT_peakwise_file </td>\n",
       "   <td style=\"text-align:left;\"> Pardis Sabeti, Broad </td>\n",
       "  </tr>\n",
       "  <tr>\n",
       "   <td style=\"text-align:left;\"> Flow-FISH CRISPR screen </td>\n",
       "   <td style=\"text-align:left;\"> K562 </td>\n",
       "   <td style=\"text-align:left;\"> ENCSR794SPV </td>\n",
       "   <td style=\"text-align:left;\"> Lab custom GRCh38 (ENCAN095VUQ) </td>\n",
       "   <td style=\"text-align:left;\"> ENCFF918VCM </td>\n",
       "   <td style=\"text-align:left;\"> bigWig </td>\n",
       "   <td style=\"text-align:left;\"> perturbation signal </td>\n",
       "   <td style=\"text-align:left;\"> hg38 </td>\n",
       "   <td style=\"text-align:left;\"> CAT </td>\n",
       "   <td style=\"text-align:left;\"> CAT_perturb_signal_R1 </td>\n",
       "   <td style=\"text-align:left;\"> Pardis Sabeti, Broad </td>\n",
       "  </tr>\n",
       "  <tr>\n",
       "   <td style=\"text-align:left;\"> Flow-FISH CRISPR screen </td>\n",
       "   <td style=\"text-align:left;\"> K562 </td>\n",
       "   <td style=\"text-align:left;\"> ENCSR794SPV </td>\n",
       "   <td style=\"text-align:left;\"> Lab custom GRCh38 (ENCAN095VUQ) </td>\n",
       "   <td style=\"text-align:left;\"> ENCFF965PMF </td>\n",
       "   <td style=\"text-align:left;\"> bigWig </td>\n",
       "   <td style=\"text-align:left;\"> perturbation signal </td>\n",
       "   <td style=\"text-align:left;\"> hg38 </td>\n",
       "   <td style=\"text-align:left;\"> CAT </td>\n",
       "   <td style=\"text-align:left;\"> CAT_perturb_signal_R2 </td>\n",
       "   <td style=\"text-align:left;\"> Pardis Sabeti, Broad </td>\n",
       "  </tr>\n",
       "</tbody>\n",
       "</table>"
      ]
     },
     "metadata": {},
     "output_type": "display_data"
    }
   ],
   "source": [
    "txt_fdiry = file.path(FD_REF, \"encode_crispri_hcrff\")\n",
    "txt_fname = \"ENCODE_K562_hg38_CRISPRi_HCRFF.tsv\"\n",
    "txt_fpath = file.path(txt_fdiry, txt_fname)\n",
    "\n",
    "dat = read_tsv(txt_fpath, show_col_types = FALSE)\n",
    "dat_ref_chcrff = dat\n",
    "fun_display_table(head(dat))"
   ]
  },
  {
   "cell_type": "code",
   "execution_count": 4,
   "id": "3da282ed-f80d-4a11-850f-70e61c9b5b58",
   "metadata": {},
   "outputs": [
    {
     "name": "stderr",
     "output_type": "stream",
     "text": [
      "Warning message:\n",
      "“\u001b[1m\u001b[22mOne or more parsing issues, call `problems()` on your data frame for\n",
      "details, e.g.:\n",
      "  dat <- vroom(...)\n",
      "  problems(dat)”\n"
     ]
    },
    {
     "data": {
      "text/html": [
       "<table>\n",
       " <thead>\n",
       "  <tr>\n",
       "   <th style=\"text-align:left;\"> Key </th>\n",
       "   <th style=\"text-align:left;\"> Value </th>\n",
       "  </tr>\n",
       " </thead>\n",
       "<tbody>\n",
       "  <tr>\n",
       "   <td style=\"text-align:left;\"> bigDataUrl </td>\n",
       "   <td style=\"text-align:left;\"> https://data.cyverse.org/dav-anon/iplant/home/ohjinwoo94/CAPRIN1_HCRFF_rAVG.log2FC_2.bw </td>\n",
       "  </tr>\n",
       "  <tr>\n",
       "   <td style=\"text-align:left;\"> shortLabel </td>\n",
       "   <td style=\"text-align:left;\"> CAPRIN1 log2FC </td>\n",
       "  </tr>\n",
       "  <tr>\n",
       "   <td style=\"text-align:left;\"> longLabel </td>\n",
       "   <td style=\"text-align:left;\"> CRISPRi HCR-FF with CAPRIN1 as readout. log2FC (Low/High) z-transformed </td>\n",
       "  </tr>\n",
       "  <tr>\n",
       "   <td style=\"text-align:left;\"> bigDataUrl </td>\n",
       "   <td style=\"text-align:left;\"> https://data.cyverse.org/dav-anon/iplant/home/ohjinwoo94/CAT_HCRFF_rAVG.log2FC_2.bw </td>\n",
       "  </tr>\n",
       "  <tr>\n",
       "   <td style=\"text-align:left;\"> shortLabel </td>\n",
       "   <td style=\"text-align:left;\"> CAT log2FC </td>\n",
       "  </tr>\n",
       "  <tr>\n",
       "   <td style=\"text-align:left;\"> longLabel </td>\n",
       "   <td style=\"text-align:left;\"> CRISPRi HCR-FF with CAT as readout. log2FC (Low/High) z-transformed </td>\n",
       "  </tr>\n",
       "</tbody>\n",
       "</table>"
      ]
     },
     "metadata": {},
     "output_type": "display_data"
    }
   ],
   "source": [
    "txt_assay  = \"CRISPRi_FlowFISH_K562_Riley_JinWoo\"\n",
    "txt_folder = \"guide_scores\"\n",
    "txt_fdiry = file.path(FD_RES, \"assay_fcc\", txt_assay, txt_folder, \"summary\")\n",
    "txt_fname = \"track_info.tsv\"\n",
    "txt_fpath = file.path(txt_fdiry, txt_fname)\n",
    "\n",
    "vec_col_ctype = c(col_character(), col_character())\n",
    "vec_txt_cname = c(\"Key\", \"Value\")\n",
    "dat = read_tsv(\n",
    "    txt_fpath, \n",
    "    col_names = vec_txt_cname, \n",
    "    col_types = vec_col_ctype, \n",
    "    show_col_types = FALSE\n",
    ")\n",
    "dat = dat %>% na.omit\n",
    "\n",
    "dat_trackinfo_chcrff = dat\n",
    "fun_display_table(head(dat))"
   ]
  },
  {
   "cell_type": "code",
   "execution_count": 5,
   "id": "c5d67574-06ef-40aa-bacb-60ee3879f318",
   "metadata": {},
   "outputs": [
    {
     "data": {
      "text/html": [
       "<table>\n",
       " <thead>\n",
       "  <tr>\n",
       "   <th style=\"text-align:left;\"> Key </th>\n",
       "   <th style=\"text-align:left;\"> Value </th>\n",
       "  </tr>\n",
       " </thead>\n",
       "<tbody>\n",
       "  <tr>\n",
       "   <td style=\"text-align:left;\"> bigDataUrl </td>\n",
       "   <td style=\"text-align:left;\"> https://data.cyverse.org/dav-anon/iplant/home/ohjinwoo94/CRISPRi_rAVG_log2FC_2.bw </td>\n",
       "  </tr>\n",
       "  <tr>\n",
       "   <td style=\"text-align:left;\"> shortLabel </td>\n",
       "   <td style=\"text-align:left;\"> growth log2FC </td>\n",
       "  </tr>\n",
       "  <tr>\n",
       "   <td style=\"text-align:left;\"> longLabel </td>\n",
       "   <td style=\"text-align:left;\"> CRISPRi growth screen (Gersbach). log2FC (Control/treatment) z-transformed </td>\n",
       "  </tr>\n",
       "</tbody>\n",
       "</table>"
      ]
     },
     "metadata": {},
     "output_type": "display_data"
    }
   ],
   "source": [
    "txt_assay  = \"CRISPRi_Growth_K562_Gersbach_JinWoo\"\n",
    "txt_folder = \"guide_scores\"\n",
    "txt_fdiry = file.path(FD_RES, \"assay_fcc\", txt_assay, txt_folder, \"summary\")\n",
    "txt_fname = \"track_info.tsv\"\n",
    "txt_fpath = file.path(txt_fdiry, txt_fname)\n",
    "\n",
    "vec_col_ctype = c(col_character(), col_character())\n",
    "vec_txt_cname = c(\"Key\", \"Value\")\n",
    "dat = read_tsv(\n",
    "    txt_fpath, \n",
    "    col_names = vec_txt_cname, \n",
    "    col_types = vec_col_ctype, \n",
    "    show_col_types = FALSE\n",
    ")\n",
    "dat = dat %>% na.omit\n",
    "\n",
    "dat_trackinfo_cgrowth = dat\n",
    "fun_display_table(dat)"
   ]
  },
  {
   "cell_type": "markdown",
   "id": "9a4f083a-861c-4d92-b06b-d15a4aa8cc74",
   "metadata": {},
   "source": [
    "## CRISPRi HCR-FlowFISH"
   ]
  },
  {
   "cell_type": "markdown",
   "id": "7342d3c5-d3a6-4ff6-8709-8232e5c02be9",
   "metadata": {},
   "source": [
    "**Define helper functions**"
   ]
  },
  {
   "cell_type": "code",
   "execution_count": 6,
   "id": "784a397d-77ee-46be-b96c-d7106a20dd1c",
   "metadata": {},
   "outputs": [],
   "source": [
    "vec_txt_gene = unique(dat_ref_chcrff$Target)\n",
    "\n",
    "get_info = function(string, patterns){\n",
    "    idx = str_detect(string = string, pattern = patterns)\n",
    "    return(patterns[idx])\n",
    "}\n",
    "\n",
    "get_gene = function(strings){\n",
    "    res = sapply(strings, function(string){get_info(string, vec_txt_gene)})\n",
    "    return(res)\n",
    "}"
   ]
  },
  {
   "cell_type": "markdown",
   "id": "c98a3617-6150-47f2-90ec-89c6cc10bb62",
   "metadata": {},
   "source": [
    "**Arrange**"
   ]
  },
  {
   "cell_type": "code",
   "execution_count": 7,
   "id": "9f8ec3b1-0b1e-4db5-938d-ff14bc0f7c66",
   "metadata": {},
   "outputs": [
    {
     "data": {
      "text/html": [
       "<table>\n",
       " <thead>\n",
       "  <tr>\n",
       "   <th style=\"text-align:left;\"> FName </th>\n",
       "   <th style=\"text-align:left;\"> Prefix </th>\n",
       "   <th style=\"text-align:left;\"> Target </th>\n",
       "   <th style=\"text-align:left;\"> Description </th>\n",
       "   <th style=\"text-align:left;\"> URL </th>\n",
       "  </tr>\n",
       " </thead>\n",
       "<tbody>\n",
       "  <tr>\n",
       "   <td style=\"text-align:left;\"> CAPRIN1_HCRFF_rAVG.log2FC_2.bw </td>\n",
       "   <td style=\"text-align:left;\"> CAPRIN1_HCRFF_rAVG.log2FC_2 </td>\n",
       "   <td style=\"text-align:left;\"> CAPRIN1 </td>\n",
       "   <td style=\"text-align:left;\"> CRISPRi HCR-FF with CAPRIN1 as readout. log2FC (Low/High) z-transformed </td>\n",
       "   <td style=\"text-align:left;\"> https://data.cyverse.org/dav-anon/iplant/home/ohjinwoo94/CAPRIN1_HCRFF_rAVG.log2FC_2.bw </td>\n",
       "  </tr>\n",
       "</tbody>\n",
       "</table>"
      ]
     },
     "metadata": {},
     "output_type": "display_data"
    }
   ],
   "source": [
    "###\n",
    "dat = dat_trackinfo_chcrff\n",
    "dat = dat %>% dplyr::mutate(Target = get_gene(Value))\n",
    "dat = dat %>% tidyr::spread(Key, Value)\n",
    "colnames(dat) = c(\"Target\", \"URL\", \"Description\", \"Group\")\n",
    "\n",
    "###\n",
    "dat = dat %>%\n",
    "    dplyr::mutate(FName  = basename(URL)) %>%\n",
    "    dplyr::mutate(Prefix = str_remove(string = FName, pattern = '\\\\.bw$')) %>%\n",
    "    dplyr::select(FName, Prefix, Target, Description, URL)\n",
    "\n",
    "### assign and show\n",
    "dat_meta_chcrff = dat\n",
    "fun_display_table(head(dat, 1))"
   ]
  },
  {
   "cell_type": "markdown",
   "id": "7a529738-9d1a-4546-8df0-3152f8cf7bc0",
   "metadata": {},
   "source": [
    "## CRISPRi Growth"
   ]
  },
  {
   "cell_type": "code",
   "execution_count": 8,
   "id": "2bd6c467-e13d-4d74-8a0f-86d04b4b4c48",
   "metadata": {},
   "outputs": [
    {
     "data": {
      "text/html": [
       "<table>\n",
       " <thead>\n",
       "  <tr>\n",
       "   <th style=\"text-align:left;\"> FName </th>\n",
       "   <th style=\"text-align:left;\"> Prefix </th>\n",
       "   <th style=\"text-align:left;\"> Target </th>\n",
       "   <th style=\"text-align:left;\"> Description </th>\n",
       "   <th style=\"text-align:left;\"> URL </th>\n",
       "  </tr>\n",
       " </thead>\n",
       "<tbody>\n",
       "  <tr>\n",
       "   <td style=\"text-align:left;\"> CRISPRi_rAVG_log2FC_2.bw </td>\n",
       "   <td style=\"text-align:left;\"> CRISPRi_rAVG_log2FC_2 </td>\n",
       "   <td style=\"text-align:left;\"> Growth </td>\n",
       "   <td style=\"text-align:left;\"> CRISPRi growth screen (Gersbach). log2FC (Control/treatment) z-transformed </td>\n",
       "   <td style=\"text-align:left;\"> https://data.cyverse.org/dav-anon/iplant/home/ohjinwoo94/CRISPRi_rAVG_log2FC_2.bw </td>\n",
       "  </tr>\n",
       "</tbody>\n",
       "</table>"
      ]
     },
     "metadata": {},
     "output_type": "display_data"
    }
   ],
   "source": [
    "###\n",
    "dat = dat_trackinfo_cgrowth\n",
    "dat = dat %>% dplyr::mutate(Target = \"Growth\")\n",
    "dat = dat %>% tidyr::spread(Key, Value)\n",
    "colnames(dat) = c(\"Target\", \"URL\", \"Description\", \"Group\")\n",
    "\n",
    "###\n",
    "dat = dat %>%\n",
    "    dplyr::mutate(FName  = basename(URL)) %>%\n",
    "    dplyr::mutate(Prefix = str_remove(string = FName, pattern = '\\\\.bw$')) %>%\n",
    "    dplyr::select(FName, Prefix, Target, Description, URL)\n",
    "\n",
    "### assign and show\n",
    "dat_meta_cgrowth = dat\n",
    "fun_display_table(dat)"
   ]
  },
  {
   "cell_type": "markdown",
   "id": "67280a77-387f-43ae-8987-fb632972dddc",
   "metadata": {},
   "source": [
    "## Export results"
   ]
  },
  {
   "cell_type": "code",
   "execution_count": 9,
   "id": "1cbbb482-ef60-41e9-a652-3806025d8736",
   "metadata": {},
   "outputs": [],
   "source": [
    "txt_assay  = \"CRISPRi_FlowFISH_K562_Riley_JinWoo\"\n",
    "txt_folder = \"guide_scores\"\n",
    "txt_fdiry = file.path(FD_RES, \"assay_fcc\", txt_assay, txt_folder, \"summary\")\n",
    "txt_fname = \"metadata.tsv\"\n",
    "txt_fpath = file.path(txt_fdiry, txt_fname)\n",
    "\n",
    "dat = dat_meta_chcrff\n",
    "write_tsv(dat, txt_fpath)"
   ]
  },
  {
   "cell_type": "code",
   "execution_count": 10,
   "id": "d72fcc69-dc09-4ee2-b624-1abe9eba7afe",
   "metadata": {},
   "outputs": [],
   "source": [
    "txt_assay  = \"CRISPRi_Growth_K562_Gersbach_JinWoo\"\n",
    "txt_folder = \"guide_scores\"\n",
    "txt_fdiry = file.path(FD_RES, \"assay_fcc\", txt_assay, txt_folder, \"summary\")\n",
    "txt_fname = \"metadata.tsv\"\n",
    "txt_fpath = file.path(txt_fdiry, txt_fname)\n",
    "\n",
    "dat = dat_meta_cgrowth\n",
    "write_tsv(dat, txt_fpath)"
   ]
  },
  {
   "cell_type": "code",
   "execution_count": null,
   "id": "9c51d429-c79f-44f3-8728-4e4e09247a81",
   "metadata": {},
   "outputs": [],
   "source": []
  }
 ],
 "metadata": {
  "kernelspec": {
   "display_name": "R",
   "language": "R",
   "name": "ir"
  },
  "language_info": {
   "codemirror_mode": "r",
   "file_extension": ".r",
   "mimetype": "text/x-r-source",
   "name": "R",
   "pygments_lexer": "r",
   "version": "4.3.3"
  }
 },
 "nbformat": 4,
 "nbformat_minor": 5
}
