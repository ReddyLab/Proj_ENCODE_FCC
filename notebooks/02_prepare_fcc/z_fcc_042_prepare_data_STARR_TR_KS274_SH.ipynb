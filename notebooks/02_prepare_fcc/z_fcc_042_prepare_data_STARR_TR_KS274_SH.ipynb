{
 "cells": [
  {
   "cell_type": "markdown",
   "id": "0009eeb0-d466-4176-a1e0-48c07e2b890b",
   "metadata": {},
   "source": [
    "---\n",
    "title: Prepare STARR-seq data 041\n",
    "subtitle: Prepare ATAC-STARR KS274 files from `PROJECT/data` to `PROJECT/results` folder\n",
    "format:\n",
    "    html:\n",
    "        code-fold:  true\n",
    "        code-tools: true\n",
    "---"
   ]
  },
  {
   "cell_type": "code",
   "execution_count": null,
   "id": "8cde0fde-5ee1-4796-b5af-d9a3f626de2c",
   "metadata": {},
   "outputs": [],
   "source": []
  },
  {
   "cell_type": "code",
   "execution_count": null,
   "id": "1dce5e94-b28e-457b-81c0-57f39a765bf9",
   "metadata": {},
   "outputs": [],
   "source": []
  },
  {
   "cell_type": "code",
   "execution_count": null,
   "id": "85e4f464-9243-4c0c-b6c0-86693568425f",
   "metadata": {},
   "outputs": [],
   "source": [
    "FD_INP=${FD_DAT}/processed/STARR_ATAC_K562_Reddy_KS274_240311/fragments\n",
    "FD_OUT=${FD_RES}/assay_fcc/STARR_ATAC_K562_Reddy_KS274/fragment_counts\n",
    "\n",
    "FN_INPS=(\n",
    "    K562_ASTARR_repeat_rep1.f3q10.fragments.bedpe\n",
    "    K562_ASTARR_repeat_rep2.f3q10.fragments.bedpe\n",
    "    K562_ASTARR_repeat_rep3.f3q10.fragments.bedpe\n",
    ")\n",
    "\n",
    "FN_OUTS=(\n",
    "    ASTARRseq_K562_KS274.hg38.Output.rep1.WGS.unstranded.bed.gz\n",
    "    ASTARRseq_K562_KS274.hg38.Output.rep2.WGS.unstranded.bed.gz\n",
    "    ASTARRseq_K562_KS274.hg38.Output.rep3.WGS.unstranded.bed.gz\n",
    ")"
   ]
  },
  {
   "cell_type": "code",
   "execution_count": null,
   "id": "116d7136-34ee-40f1-a057-b16dcb423c1b",
   "metadata": {},
   "outputs": [],
   "source": [
    "FDIRY=${FD_RES}/assay_fcc/STARR_ATAC_K562_Reddy_KS274/fragment_counts\n",
    "echo  ${FDIRY}\n",
    "ls -d ${FDIRY}"
   ]
  },
  {
   "cell_type": "code",
   "execution_count": null,
   "id": "01a13221-56b0-4c35-a484-37d207fd606c",
   "metadata": {},
   "outputs": [],
   "source": []
  }
 ],
 "metadata": {
  "kernelspec": {
   "display_name": "Bash",
   "language": "bash",
   "name": "bash"
  },
  "language_info": {
   "codemirror_mode": "shell",
   "file_extension": ".sh",
   "mimetype": "text/x-sh",
   "name": "bash"
  }
 },
 "nbformat": 4,
 "nbformat_minor": 5
}
