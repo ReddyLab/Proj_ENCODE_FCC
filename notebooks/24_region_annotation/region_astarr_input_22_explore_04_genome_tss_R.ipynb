{
 "cells": [
  {
   "cell_type": "raw",
   "id": "df165196-664b-4be7-a146-abf346f97d47",
   "metadata": {},
   "source": [
    "---\n",
    "title: FCC Peak calls\n",
    "subtitle: export annotation\n",
    "format:\n",
    "    html:\n",
    "        code-fold:  true\n",
    "        code-tools: true\n",
    "---"
   ]
  },
  {
   "cell_type": "markdown",
   "id": "5a818bb7-b5e8-4e40-b0d4-83e8d0acec07",
   "metadata": {},
   "source": [
    "**Set environment**"
   ]
  },
  {
   "cell_type": "code",
   "execution_count": 1,
   "id": "35ee3d46-0d95-4aa3-9e23-218f4d50a938",
   "metadata": {
    "tags": []
   },
   "outputs": [
    {
     "name": "stdout",
     "output_type": "stream",
     "text": [
      "You are working on        Singularity: singularity_proj_encode_fcc \n",
      "BASE DIRECTORY (FD_BASE): /data/reddylab/Kuei \n",
      "REPO DIRECTORY (FD_REPO): /data/reddylab/Kuei/repo \n",
      "WORK DIRECTORY (FD_WORK): /data/reddylab/Kuei/work \n",
      "DATA DIRECTORY (FD_DATA): /data/reddylab/Kuei/data \n",
      "\n",
      "You are working with      ENCODE FCC \n",
      "PATH OF PROJECT (FD_PRJ): /data/reddylab/Kuei/repo/Proj_ENCODE_FCC \n",
      "PROJECT RESULTS (FD_RES): /data/reddylab/Kuei/repo/Proj_ENCODE_FCC/results \n",
      "PROJECT SCRIPTS (FD_EXE): /data/reddylab/Kuei/repo/Proj_ENCODE_FCC/scripts \n",
      "PROJECT DATA    (FD_DAT): /data/reddylab/Kuei/repo/Proj_ENCODE_FCC/data \n",
      "PROJECT NOTE    (FD_NBK): /data/reddylab/Kuei/repo/Proj_ENCODE_FCC/notebooks \n",
      "PROJECT DOCS    (FD_DOC): /data/reddylab/Kuei/repo/Proj_ENCODE_FCC/docs \n",
      "PROJECT LOG     (FD_LOG): /data/reddylab/Kuei/repo/Proj_ENCODE_FCC/log \n",
      "PROJECT REF     (FD_REF): /data/reddylab/Kuei/repo/Proj_ENCODE_FCC/references \n",
      "\n"
     ]
    }
   ],
   "source": [
    "suppressMessages(suppressWarnings(source(\"../run_config_project_sing.R\")))\n",
    "show_env()"
   ]
  },
  {
   "cell_type": "code",
   "execution_count": 2,
   "id": "9b5f4bb4-ed5a-4604-9121-a8aba239ed9e",
   "metadata": {},
   "outputs": [
    {
     "name": "stdout",
     "output_type": "stream",
     "text": [
      "fcc_astarr_macs_input_overlap \n",
      "fcc_astarr_macs_input_union \n"
     ]
    }
   ],
   "source": [
    "### get annotated region folder\n",
    "txt_fdiry = file.path(FD_RES, \"region_annotation\")\n",
    "vec = dir(txt_fdiry)\n",
    "\n",
    "### assign and show\n",
    "vec_txt_folder = vec\n",
    "for(txt in vec){cat(txt, \"\\n\")}"
   ]
  },
  {
   "cell_type": "code",
   "execution_count": null,
   "id": "dffb2aa7-e50b-4989-a039-b7a07dec0d87",
   "metadata": {},
   "outputs": [],
   "source": []
  },
  {
   "cell_type": "code",
   "execution_count": 4,
   "id": "8e545406-1dfb-40dd-a500-f4b284131623",
   "metadata": {},
   "outputs": [],
   "source": [
    "TXT_FNAME_INP = \"matrix.annotation.genome_tss.tsv\""
   ]
  },
  {
   "cell_type": "code",
   "execution_count": 5,
   "id": "a7c834b4-58b6-4b39-853e-36cfb294166b",
   "metadata": {},
   "outputs": [
    {
     "name": "stdout",
     "output_type": "stream",
     "text": [
      "/data/reddylab/Kuei/repo/Proj_ENCODE_FCC/results/region_annotation/fcc_astarr_macs_input_overlap/summary/matrix.annotation.genome_tss.tsv \n",
      "/data/reddylab/Kuei/repo/Proj_ENCODE_FCC/results/region_annotation/fcc_astarr_macs_input_union/summary/matrix.annotation.genome_tss.tsv \n"
     ]
    }
   ],
   "source": [
    "txt_fdiry = file.path(FD_RES, \"region_annotation\", \"*\", \"summary\")\n",
    "txt_fname = TXT_FNAME_INP\n",
    "txt_fglob = file.path(txt_fdiry, txt_fname)\n",
    "\n",
    "vec = Sys.glob(txt_fglob)\n",
    "for(txt in vec){cat(txt, \"\\n\")}"
   ]
  },
  {
   "cell_type": "code",
   "execution_count": 6,
   "id": "7c318b95-c74b-4c9a-98c8-dc00ff7e5e39",
   "metadata": {},
   "outputs": [
    {
     "name": "stdout",
     "output_type": "stream",
     "text": [
      "$fcc_astarr_macs_input_overlap\n",
      "[1] 9649    5\n",
      "\n",
      "$fcc_astarr_macs_input_union\n",
      "[1] 9788    5\n",
      "\n"
     ]
    },
    {
     "data": {
      "text/html": [
       "<table>\n",
       " <thead>\n",
       "  <tr>\n",
       "   <th style=\"text-align:left;\"> Chrom </th>\n",
       "   <th style=\"text-align:right;\"> ChromStart </th>\n",
       "   <th style=\"text-align:right;\"> ChromEnd </th>\n",
       "   <th style=\"text-align:left;\"> Region </th>\n",
       "   <th style=\"text-align:right;\"> TSS </th>\n",
       "  </tr>\n",
       " </thead>\n",
       "<tbody>\n",
       "  <tr>\n",
       "   <td style=\"text-align:left;\"> chr1 </td>\n",
       "   <td style=\"text-align:right;\"> 28934 </td>\n",
       "   <td style=\"text-align:right;\"> 29499 </td>\n",
       "   <td style=\"text-align:left;\"> chr1:28934-29499 </td>\n",
       "   <td style=\"text-align:right;\"> 1 </td>\n",
       "  </tr>\n",
       "  <tr>\n",
       "   <td style=\"text-align:left;\"> chr1 </td>\n",
       "   <td style=\"text-align:right;\"> 826796 </td>\n",
       "   <td style=\"text-align:right;\"> 828040 </td>\n",
       "   <td style=\"text-align:left;\"> chr1:826796-828040 </td>\n",
       "   <td style=\"text-align:right;\"> 1 </td>\n",
       "  </tr>\n",
       "  <tr>\n",
       "   <td style=\"text-align:left;\"> chr1 </td>\n",
       "   <td style=\"text-align:right;\"> 876493 </td>\n",
       "   <td style=\"text-align:right;\"> 877795 </td>\n",
       "   <td style=\"text-align:left;\"> chr1:876493-877795 </td>\n",
       "   <td style=\"text-align:right;\"> 1 </td>\n",
       "  </tr>\n",
       "</tbody>\n",
       "</table>"
      ]
     },
     "metadata": {},
     "output_type": "display_data"
    }
   ],
   "source": [
    "### loop to import data\n",
    "lst = lapply(vec_txt_folder, function(txt_folder){\n",
    "    ### set file directory\n",
    "    txt_fdiry = file.path(FD_RES, \"region_annotation\", txt_folder, \"summary\")\n",
    "    txt_fname = TXT_FNAME_INP\n",
    "    txt_fpath = file.path(txt_fdiry, txt_fname)\n",
    "\n",
    "    ### read table\n",
    "    dat = read_tsv(txt_fpath, show_col_types = FALSE)\n",
    "    return(dat)\n",
    "})\n",
    "names(lst) = vec_txt_folder\n",
    "\n",
    "### assign and show\n",
    "lst_dat_region_annot_tss_import = lst\n",
    "\n",
    "res = lapply(lst, dim)\n",
    "print(res)\n",
    "\n",
    "dat = lst[[1]]\n",
    "fun_display_table(head(dat, 3))"
   ]
  },
  {
   "cell_type": "code",
   "execution_count": null,
   "id": "e9e013b9-1893-4588-8b0c-b770f6a44955",
   "metadata": {},
   "outputs": [],
   "source": []
  },
  {
   "cell_type": "code",
   "execution_count": null,
   "id": "3a97a19c-3ab7-4767-a6fa-c23cb3a64dbf",
   "metadata": {},
   "outputs": [],
   "source": []
  },
  {
   "cell_type": "code",
   "execution_count": null,
   "id": "cb12f697-7e27-4ffb-9ec9-d077d246efe3",
   "metadata": {},
   "outputs": [],
   "source": []
  },
  {
   "cell_type": "code",
   "execution_count": 7,
   "id": "8daba522-40ab-44d6-b88c-2d0d7d0d9942",
   "metadata": {},
   "outputs": [
    {
     "name": "stdout",
     "output_type": "stream",
     "text": [
      "$fcc_astarr_macs_input_overlap\n",
      "[1] 150042      8\n",
      "\n",
      "$fcc_astarr_macs_input_union\n",
      "[1] 246852      8\n",
      "\n"
     ]
    },
    {
     "data": {
      "text/html": [
       "<table>\n",
       " <thead>\n",
       "  <tr>\n",
       "   <th style=\"text-align:left;\"> Chrom </th>\n",
       "   <th style=\"text-align:right;\"> ChromStart </th>\n",
       "   <th style=\"text-align:right;\"> ChromEnd </th>\n",
       "   <th style=\"text-align:left;\"> Region </th>\n",
       "   <th style=\"text-align:left;\"> Annotation_A </th>\n",
       "   <th style=\"text-align:left;\"> Annotation_B </th>\n",
       "   <th style=\"text-align:right;\"> Distance </th>\n",
       "   <th style=\"text-align:left;\"> Label_TSS_Proximity </th>\n",
       "  </tr>\n",
       " </thead>\n",
       "<tbody>\n",
       "  <tr>\n",
       "   <td style=\"text-align:left;\"> chr1 </td>\n",
       "   <td style=\"text-align:right;\"> 10038 </td>\n",
       "   <td style=\"text-align:right;\"> 10405 </td>\n",
       "   <td style=\"text-align:left;\"> chr1:10038-10405 </td>\n",
       "   <td style=\"text-align:left;\"> fcc_astarr_macs_input_overlap </td>\n",
       "   <td style=\"text-align:left;\"> genome_tss_pol2_rnaseq </td>\n",
       "   <td style=\"text-align:right;\"> 18966 </td>\n",
       "   <td style=\"text-align:left;\"> Distal </td>\n",
       "  </tr>\n",
       "  <tr>\n",
       "   <td style=\"text-align:left;\"> chr1 </td>\n",
       "   <td style=\"text-align:right;\"> 14282 </td>\n",
       "   <td style=\"text-align:right;\"> 14614 </td>\n",
       "   <td style=\"text-align:left;\"> chr1:14282-14614 </td>\n",
       "   <td style=\"text-align:left;\"> fcc_astarr_macs_input_overlap </td>\n",
       "   <td style=\"text-align:left;\"> genome_tss_pol2_rnaseq </td>\n",
       "   <td style=\"text-align:right;\"> 14757 </td>\n",
       "   <td style=\"text-align:left;\"> Distal </td>\n",
       "  </tr>\n",
       "  <tr>\n",
       "   <td style=\"text-align:left;\"> chr1 </td>\n",
       "   <td style=\"text-align:right;\"> 16025 </td>\n",
       "   <td style=\"text-align:right;\"> 16338 </td>\n",
       "   <td style=\"text-align:left;\"> chr1:16025-16338 </td>\n",
       "   <td style=\"text-align:left;\"> fcc_astarr_macs_input_overlap </td>\n",
       "   <td style=\"text-align:left;\"> genome_tss_pol2_rnaseq </td>\n",
       "   <td style=\"text-align:right;\"> 13033 </td>\n",
       "   <td style=\"text-align:left;\"> Distal </td>\n",
       "  </tr>\n",
       "</tbody>\n",
       "</table>"
      ]
     },
     "metadata": {},
     "output_type": "display_data"
    }
   ],
   "source": [
    "### loop to import data\n",
    "lst = lapply(vec_txt_folder, function(txt_folder){\n",
    "    ### set file directory\n",
    "    txt_fdiry = file.path(FD_RES, \"region_closest\", txt_folder, \"summary\")\n",
    "    txt_fname = \"region.summary.genome_tss.tsv\"\n",
    "    txt_fpath = file.path(txt_fdiry, txt_fname)\n",
    "\n",
    "    ### read table\n",
    "    dat = read_tsv(txt_fpath, show_col_types = FALSE)\n",
    "    return(dat)\n",
    "})\n",
    "names(lst) = vec_txt_folder\n",
    "\n",
    "### assign and show\n",
    "lst_dat_region_dist2tss_import = lst\n",
    "\n",
    "res = lapply(lst, dim)\n",
    "print(res)\n",
    "\n",
    "dat = lst[[1]]\n",
    "fun_display_table(head(dat, 3))"
   ]
  },
  {
   "cell_type": "markdown",
   "id": "05f4dc90-a4f0-4ae9-99b8-5275a6b25313",
   "metadata": {},
   "source": [
    "**Import GC content**"
   ]
  },
  {
   "cell_type": "code",
   "execution_count": 8,
   "id": "73fd4ebd-425b-4257-a69b-76cea9e21bad",
   "metadata": {},
   "outputs": [
    {
     "name": "stdout",
     "output_type": "stream",
     "text": [
      "$fcc_astarr_macs_input_overlap\n",
      "[1] 150042      6\n",
      "\n",
      "$fcc_astarr_macs_input_union\n",
      "[1] 246852      6\n",
      "\n"
     ]
    },
    {
     "data": {
      "text/html": [
       "<table>\n",
       " <thead>\n",
       "  <tr>\n",
       "   <th style=\"text-align:left;\"> Chrom </th>\n",
       "   <th style=\"text-align:right;\"> ChromStart </th>\n",
       "   <th style=\"text-align:right;\"> ChromEnd </th>\n",
       "   <th style=\"text-align:left;\"> Region </th>\n",
       "   <th style=\"text-align:right;\"> pGC </th>\n",
       "   <th style=\"text-align:right;\"> Length </th>\n",
       "  </tr>\n",
       " </thead>\n",
       "<tbody>\n",
       "  <tr>\n",
       "   <td style=\"text-align:left;\"> chr1 </td>\n",
       "   <td style=\"text-align:right;\"> 10038 </td>\n",
       "   <td style=\"text-align:right;\"> 10405 </td>\n",
       "   <td style=\"text-align:left;\"> chr1:10038-10405 </td>\n",
       "   <td style=\"text-align:right;\"> 0.523161 </td>\n",
       "   <td style=\"text-align:right;\"> 367 </td>\n",
       "  </tr>\n",
       "  <tr>\n",
       "   <td style=\"text-align:left;\"> chr1 </td>\n",
       "   <td style=\"text-align:right;\"> 14282 </td>\n",
       "   <td style=\"text-align:right;\"> 14614 </td>\n",
       "   <td style=\"text-align:left;\"> chr1:14282-14614 </td>\n",
       "   <td style=\"text-align:right;\"> 0.578313 </td>\n",
       "   <td style=\"text-align:right;\"> 332 </td>\n",
       "  </tr>\n",
       "  <tr>\n",
       "   <td style=\"text-align:left;\"> chr1 </td>\n",
       "   <td style=\"text-align:right;\"> 16025 </td>\n",
       "   <td style=\"text-align:right;\"> 16338 </td>\n",
       "   <td style=\"text-align:left;\"> chr1:16025-16338 </td>\n",
       "   <td style=\"text-align:right;\"> 0.587859 </td>\n",
       "   <td style=\"text-align:right;\"> 313 </td>\n",
       "  </tr>\n",
       "</tbody>\n",
       "</table>"
      ]
     },
     "metadata": {},
     "output_type": "display_data"
    }
   ],
   "source": [
    "lst = list(\n",
    "    \"fcc_astarr_macs_input_overlap\" = \"K562.hg38.ASTARR.macs.KS91.input.rep_all.max_overlaps.q5.tsv\",\n",
    "    \"fcc_astarr_macs_input_union\"   = \"K562.hg38.ASTARR.macs.KS91.input.rep_all.union.q5.tsv\"\n",
    "    \n",
    ")\n",
    "lst = lapply(lst, function(txt_fname){\n",
    "    ### set file directory\n",
    "    txt_fdiry = file.path(FD_RES, \"region_nuc\", \"fcc_astarr_macs\", \"summary\")\n",
    "    txt_fpath = file.path(txt_fdiry, txt_fname)\n",
    "    \n",
    "    ### read table\n",
    "    dat = read_tsv(txt_fpath, show_col_types = FALSE)\n",
    "    return(dat)\n",
    "})\n",
    "\n",
    "### assign and show\n",
    "lst_dat_region_nuc_import = lst\n",
    "\n",
    "res = lapply(lst, dim)\n",
    "print(res)\n",
    "\n",
    "dat = lst[[1]]\n",
    "fun_display_table(head(dat, 3))"
   ]
  },
  {
   "cell_type": "code",
   "execution_count": null,
   "id": "76e8a35a-d896-43e4-9c20-5cb19f1a52d1",
   "metadata": {},
   "outputs": [],
   "source": []
  },
  {
   "cell_type": "code",
   "execution_count": null,
   "id": "f42f95b9-c011-4392-a095-583988a9b16d",
   "metadata": {},
   "outputs": [],
   "source": []
  },
  {
   "cell_type": "code",
   "execution_count": null,
   "id": "947e9cd2-ca1d-49ca-84b3-a446e84d7dd5",
   "metadata": {},
   "outputs": [],
   "source": []
  },
  {
   "cell_type": "code",
   "execution_count": null,
   "id": "aa664691-0f39-4f3f-b493-c55afec63886",
   "metadata": {},
   "outputs": [],
   "source": []
  },
  {
   "cell_type": "markdown",
   "id": "31f6476d-66e7-4243-9213-a68482faa53e",
   "metadata": {},
   "source": [
    "**Check**"
   ]
  },
  {
   "cell_type": "code",
   "execution_count": 9,
   "id": "7ac22897-5395-4787-affe-d4ceb13806c1",
   "metadata": {},
   "outputs": [
    {
     "name": "stdout",
     "output_type": "stream",
     "text": [
      "Region: fcc_astarr_macs_input_overlap \n",
      "Check: TRUE \n",
      "Check: TRUE \n",
      "Region: fcc_astarr_macs_input_union \n",
      "Check: TRUE \n",
      "Check: TRUE \n"
     ]
    }
   ],
   "source": [
    "for (txt_folder in vec_txt_folder){\n",
    "    cat(\"Region:\", txt_folder, \"\\n\")\n",
    "    dat_region_annot_tss = lst_dat_region_annot_tss_import[[txt_folder]]\n",
    "    dat_region_dist2tss  = lst_dat_region_dist2tss_import[[txt_folder]]\n",
    "    dat_region_nuc       = lst_dat_region_nuc_import[[txt_folder]]\n",
    "    cat(\"Check:\", all(dat_region_annot_tss$Region %in% dat_region_nuc$Region), \"\\n\")\n",
    "    cat(\"Check:\", all(dat_region_nuc$Region == dat_region_dist2tss$Region),    \"\\n\")\n",
    "}"
   ]
  },
  {
   "cell_type": "code",
   "execution_count": null,
   "id": "1c58b4de-f75c-4219-8cfe-4aefd2c73ad2",
   "metadata": {},
   "outputs": [],
   "source": []
  },
  {
   "cell_type": "code",
   "execution_count": null,
   "id": "ee771563-9fe5-4651-8cc4-ae2eeeb58dec",
   "metadata": {},
   "outputs": [],
   "source": []
  },
  {
   "cell_type": "code",
   "execution_count": null,
   "id": "67ba36ba-b422-4bf2-9ab6-ef7082972186",
   "metadata": {},
   "outputs": [],
   "source": []
  },
  {
   "cell_type": "code",
   "execution_count": 10,
   "id": "7149b65c-cd72-4ae6-80db-9728e8794cf1",
   "metadata": {},
   "outputs": [
    {
     "name": "stdout",
     "output_type": "stream",
     "text": [
      "$fcc_astarr_macs_input_overlap\n",
      "[1] 9649    2\n",
      "\n",
      "$fcc_astarr_macs_input_union\n",
      "[1] 9788    2\n",
      "\n"
     ]
    },
    {
     "data": {
      "text/html": [
       "<table>\n",
       " <thead>\n",
       "  <tr>\n",
       "   <th style=\"text-align:left;\"> Region </th>\n",
       "   <th style=\"text-align:right;\"> TSS </th>\n",
       "  </tr>\n",
       " </thead>\n",
       "<tbody>\n",
       "  <tr>\n",
       "   <td style=\"text-align:left;\"> chr1:28934-29499 </td>\n",
       "   <td style=\"text-align:right;\"> 1 </td>\n",
       "  </tr>\n",
       "  <tr>\n",
       "   <td style=\"text-align:left;\"> chr1:826796-828040 </td>\n",
       "   <td style=\"text-align:right;\"> 1 </td>\n",
       "  </tr>\n",
       "  <tr>\n",
       "   <td style=\"text-align:left;\"> chr1:876493-877795 </td>\n",
       "   <td style=\"text-align:right;\"> 1 </td>\n",
       "  </tr>\n",
       "</tbody>\n",
       "</table>"
      ]
     },
     "metadata": {},
     "output_type": "display_data"
    }
   ],
   "source": [
    "lst = lst_dat_region_annot_tss_import\n",
    "lst = lapply(lst, function(dat){\n",
    "    dat = dat %>% dplyr::select(Region, TSS)\n",
    "    return(dat)\n",
    "})\n",
    "\n",
    "### assign and show\n",
    "lst_dat_region_annot_tss_arrange = lst\n",
    "\n",
    "res = lapply(lst, dim)\n",
    "print(res)\n",
    "\n",
    "dat = lst[[1]]\n",
    "fun_display_table(head(dat, 3))"
   ]
  },
  {
   "cell_type": "code",
   "execution_count": 11,
   "id": "5fdbf97e-1958-4a19-b6c1-8dfe091c1093",
   "metadata": {},
   "outputs": [
    {
     "name": "stdout",
     "output_type": "stream",
     "text": [
      "$fcc_astarr_macs_input_overlap\n",
      "[1] 150042      3\n",
      "\n",
      "$fcc_astarr_macs_input_union\n",
      "[1] 246852      3\n",
      "\n"
     ]
    },
    {
     "data": {
      "text/html": [
       "<table>\n",
       " <thead>\n",
       "  <tr>\n",
       "   <th style=\"text-align:left;\"> Region </th>\n",
       "   <th style=\"text-align:right;\"> Distance2TSS </th>\n",
       "   <th style=\"text-align:left;\"> TSS_Proximity </th>\n",
       "  </tr>\n",
       " </thead>\n",
       "<tbody>\n",
       "  <tr>\n",
       "   <td style=\"text-align:left;\"> chr1:10038-10405 </td>\n",
       "   <td style=\"text-align:right;\"> 18966 </td>\n",
       "   <td style=\"text-align:left;\"> Distal </td>\n",
       "  </tr>\n",
       "  <tr>\n",
       "   <td style=\"text-align:left;\"> chr1:14282-14614 </td>\n",
       "   <td style=\"text-align:right;\"> 14757 </td>\n",
       "   <td style=\"text-align:left;\"> Distal </td>\n",
       "  </tr>\n",
       "  <tr>\n",
       "   <td style=\"text-align:left;\"> chr1:16025-16338 </td>\n",
       "   <td style=\"text-align:right;\"> 13033 </td>\n",
       "   <td style=\"text-align:left;\"> Distal </td>\n",
       "  </tr>\n",
       "</tbody>\n",
       "</table>"
      ]
     },
     "metadata": {},
     "output_type": "display_data"
    }
   ],
   "source": [
    "lst = lst_dat_region_dist2tss_import\n",
    "lst = lapply(lst, function(dat){\n",
    "    dat = dat %>% \n",
    "        dplyr::rename(\n",
    "            \"Distance2TSS\" = \"Distance\", \n",
    "            \"TSS_Proximity\" = \"Label_TSS_Proximity\"\n",
    "        ) %>% \n",
    "        dplyr::select(Region, Distance2TSS, TSS_Proximity)\n",
    "    return(dat)\n",
    "})\n",
    "\n",
    "### assign and show\n",
    "lst_dat_region_dist2tss_arrange = lst\n",
    "\n",
    "res = lapply(lst, dim)\n",
    "print(res)\n",
    "\n",
    "dat = lst[[1]]\n",
    "fun_display_table(head(dat, 3))"
   ]
  },
  {
   "cell_type": "code",
   "execution_count": 12,
   "id": "685883d6-4ef6-46c5-901e-3fabcbde9bfe",
   "metadata": {},
   "outputs": [
    {
     "name": "stdout",
     "output_type": "stream",
     "text": [
      "$fcc_astarr_macs_input_overlap\n",
      "[1] 150042      3\n",
      "\n",
      "$fcc_astarr_macs_input_union\n",
      "[1] 246852      3\n",
      "\n"
     ]
    },
    {
     "data": {
      "text/html": [
       "<table>\n",
       " <thead>\n",
       "  <tr>\n",
       "   <th style=\"text-align:left;\"> Region </th>\n",
       "   <th style=\"text-align:right;\"> pGC </th>\n",
       "   <th style=\"text-align:right;\"> Length </th>\n",
       "  </tr>\n",
       " </thead>\n",
       "<tbody>\n",
       "  <tr>\n",
       "   <td style=\"text-align:left;\"> chr1:10038-10405 </td>\n",
       "   <td style=\"text-align:right;\"> 0.523161 </td>\n",
       "   <td style=\"text-align:right;\"> 367 </td>\n",
       "  </tr>\n",
       "  <tr>\n",
       "   <td style=\"text-align:left;\"> chr1:14282-14614 </td>\n",
       "   <td style=\"text-align:right;\"> 0.578313 </td>\n",
       "   <td style=\"text-align:right;\"> 332 </td>\n",
       "  </tr>\n",
       "  <tr>\n",
       "   <td style=\"text-align:left;\"> chr1:16025-16338 </td>\n",
       "   <td style=\"text-align:right;\"> 0.587859 </td>\n",
       "   <td style=\"text-align:right;\"> 313 </td>\n",
       "  </tr>\n",
       "</tbody>\n",
       "</table>"
      ]
     },
     "metadata": {},
     "output_type": "display_data"
    }
   ],
   "source": [
    "lst = lst_dat_region_nuc_import\n",
    "lst = lapply(lst, function(dat){\n",
    "    dat = dat %>% dplyr::select(Region, pGC, Length)\n",
    "    return(dat)\n",
    "})\n",
    "\n",
    "### assign and show\n",
    "lst_dat_region_nuc_arrange = lst\n",
    "\n",
    "res = lapply(lst, dim)\n",
    "print(res)\n",
    "\n",
    "dat = lst[[1]]\n",
    "fun_display_table(head(dat, 3))"
   ]
  },
  {
   "cell_type": "code",
   "execution_count": null,
   "id": "40e3d0cf-13d9-4fe0-894b-04cb488e036e",
   "metadata": {},
   "outputs": [],
   "source": []
  },
  {
   "cell_type": "code",
   "execution_count": 13,
   "id": "a7d6704e-681c-45ee-b183-37a5ba14120f",
   "metadata": {},
   "outputs": [],
   "source": [
    "lst = lapply(vec_txt_folder, function(txt_folder){\n",
    "    ###\n",
    "    dat_region_annot_tss = lst_dat_region_annot_tss_arrange[[txt_folder]]\n",
    "    dat_region_dist2tss  = lst_dat_region_dist2tss_arrange[[txt_folder]]\n",
    "    dat_region_nuc       = lst_dat_region_nuc_arrange[[txt_folder]]\n",
    "\n",
    "    ###\n",
    "    dat = dat_region_nuc\n",
    "    dat = dat %>%\n",
    "        dplyr::left_join(dat_region_dist2tss,  by = \"Region\") %>%\n",
    "        dplyr::left_join(dat_region_annot_tss, by = \"Region\") %>%\n",
    "        replace(is.na(.), 0) %>%\n",
    "    return(dat)\n",
    "})\n",
    "names(lst) = vec_txt_folder\n",
    "\n",
    "### assign and show\n",
    "lst_dat_region_annot_result = lst"
   ]
  },
  {
   "cell_type": "code",
   "execution_count": null,
   "id": "95f18ea6-6e94-4162-b151-2f45dce7e307",
   "metadata": {},
   "outputs": [],
   "source": []
  },
  {
   "cell_type": "code",
   "execution_count": null,
   "id": "47379792-1a09-4c3b-89d9-6ca7b5dc8d82",
   "metadata": {},
   "outputs": [],
   "source": []
  },
  {
   "cell_type": "code",
   "execution_count": 14,
   "id": "e74942fb-3af3-4ccb-a15e-3725046849a1",
   "metadata": {},
   "outputs": [
    {
     "name": "stdout",
     "output_type": "stream",
     "text": [
      "Region: fcc_astarr_macs_input_overlap \n",
      "Missing? FALSE \n",
      "\n",
      "If D==0: \n",
      "\n",
      "TSS==1 \n",
      "  9649 \n",
      "\n",
      "If TSS==1: \n",
      "\n",
      "D==0 \n",
      "9649 \n",
      "\n",
      "Region: fcc_astarr_macs_input_union \n",
      "Missing? FALSE \n",
      "\n",
      "If D==0: \n",
      "\n",
      "TSS==1 \n",
      "  9788 \n",
      "\n",
      "If TSS==1: \n",
      "\n",
      "D==0 \n",
      "9788 \n",
      "\n"
     ]
    }
   ],
   "source": [
    "for (txt_folder in vec_txt_folder){\n",
    "    cat(\"Region:\", txt_folder, \"\\n\")\n",
    "    dat = lst_dat_region_annot_result[[txt_folder]]\n",
    "    \n",
    "    ### check missing values\n",
    "    cat(\"Missing?\", any(is.na(dat)), \"\\n\")\n",
    "    cat(\"\\n\")\n",
    "    \n",
    "    ### check TSS annotation and distance\n",
    "    cat(\"If D==0:\", \"\\n\")\n",
    "    tmp = dat %>% \n",
    "        dplyr::filter(Distance2TSS == 0) %>%\n",
    "        dplyr::mutate(Note = ifelse(TSS == 1, \"TSS==1\", \"TSS!=1\"))\n",
    "    res = table(tmp$Note)\n",
    "    print(res)\n",
    "    cat(\"\\n\")\n",
    "    \n",
    "    cat(\"If TSS==1:\", \"\\n\")\n",
    "    tmp = dat %>% \n",
    "        dplyr::filter(TSS == 1) %>% \n",
    "        dplyr::mutate(Note = ifelse(Distance2TSS == 0, \"D==0\", \"D>0\"))\n",
    "    res = table(tmp$Note)\n",
    "    print(res)\n",
    "    cat(\"\\n\")\n",
    "}"
   ]
  },
  {
   "cell_type": "code",
   "execution_count": 17,
   "id": "f00d73c0-7d3d-4488-ba1f-fa2f3bc91e95",
   "metadata": {},
   "outputs": [
    {
     "name": "stdout",
     "output_type": "stream",
     "text": [
      "Region: fcc_astarr_macs_input_overlap \n",
      "Total 150042 \n",
      "If TSS==1: \n",
      "   Min. 1st Qu.  Median    Mean 3rd Qu.    Max. \n",
      "      0       0       0       0       0       0 \n",
      "\n",
      "Region: fcc_astarr_macs_input_union \n",
      "Total 246852 \n",
      "If TSS==1: \n",
      "   Min. 1st Qu.  Median    Mean 3rd Qu.    Max. \n",
      "      0       0       0       0       0       0 \n",
      "\n"
     ]
    }
   ],
   "source": [
    "for (txt_folder in vec_txt_folder){\n",
    "    cat(\"Region:\", txt_folder, \"\\n\")\n",
    "    dat = lst_dat_region_annot_result[[txt_folder]]\n",
    "    cat(\"Total\", nrow(dat), \"\\n\")\n",
    "    cat(\"If TSS==1:\", \"\\n\")\n",
    "    tmp = dat %>% dplyr::filter(TSS == 1)\n",
    "    res = summary(tmp$Distance2TSS/1000)\n",
    "    print(res)\n",
    "    cat(\"\\n\")\n",
    "}"
   ]
  },
  {
   "cell_type": "code",
   "execution_count": 16,
   "id": "9ffbf275-8c04-457d-a222-15395e2fb9c9",
   "metadata": {},
   "outputs": [
    {
     "data": {
      "text/html": [
       "<table class=\"dataframe\">\n",
       "<caption>A tibble: 6 × 6</caption>\n",
       "<thead>\n",
       "\t<tr><th scope=col>Region</th><th scope=col>pGC</th><th scope=col>Length</th><th scope=col>Distance2TSS</th><th scope=col>TSS_Proximity</th><th scope=col>TSS</th></tr>\n",
       "\t<tr><th scope=col>&lt;chr&gt;</th><th scope=col>&lt;dbl&gt;</th><th scope=col>&lt;dbl&gt;</th><th scope=col>&lt;dbl&gt;</th><th scope=col>&lt;chr&gt;</th><th scope=col>&lt;dbl&gt;</th></tr>\n",
       "</thead>\n",
       "<tbody>\n",
       "\t<tr><td>chr1:10015-10442</td><td>0.522248</td><td>427</td><td>18929</td><td>Distal  </td><td>0</td></tr>\n",
       "\t<tr><td>chr1:14253-14645</td><td>0.573980</td><td>392</td><td>14726</td><td>Distal  </td><td>0</td></tr>\n",
       "\t<tr><td>chr1:16015-16477</td><td>0.541126</td><td>462</td><td>12894</td><td>Distal  </td><td>0</td></tr>\n",
       "\t<tr><td>chr1:17237-17772</td><td>0.614953</td><td>535</td><td>11599</td><td>Distal  </td><td>0</td></tr>\n",
       "\t<tr><td>chr1:28903-29613</td><td>0.759155</td><td>710</td><td>    0</td><td>Proximal</td><td>1</td></tr>\n",
       "\t<tr><td>chr1:30803-31072</td><td>0.501859</td><td>269</td><td> 1433</td><td>Proximal</td><td>0</td></tr>\n",
       "</tbody>\n",
       "</table>\n"
      ],
      "text/latex": [
       "A tibble: 6 × 6\n",
       "\\begin{tabular}{llllll}\n",
       " Region & pGC & Length & Distance2TSS & TSS\\_Proximity & TSS\\\\\n",
       " <chr> & <dbl> & <dbl> & <dbl> & <chr> & <dbl>\\\\\n",
       "\\hline\n",
       "\t chr1:10015-10442 & 0.522248 & 427 & 18929 & Distal   & 0\\\\\n",
       "\t chr1:14253-14645 & 0.573980 & 392 & 14726 & Distal   & 0\\\\\n",
       "\t chr1:16015-16477 & 0.541126 & 462 & 12894 & Distal   & 0\\\\\n",
       "\t chr1:17237-17772 & 0.614953 & 535 & 11599 & Distal   & 0\\\\\n",
       "\t chr1:28903-29613 & 0.759155 & 710 &     0 & Proximal & 1\\\\\n",
       "\t chr1:30803-31072 & 0.501859 & 269 &  1433 & Proximal & 0\\\\\n",
       "\\end{tabular}\n"
      ],
      "text/markdown": [
       "\n",
       "A tibble: 6 × 6\n",
       "\n",
       "| Region &lt;chr&gt; | pGC &lt;dbl&gt; | Length &lt;dbl&gt; | Distance2TSS &lt;dbl&gt; | TSS_Proximity &lt;chr&gt; | TSS &lt;dbl&gt; |\n",
       "|---|---|---|---|---|---|\n",
       "| chr1:10015-10442 | 0.522248 | 427 | 18929 | Distal   | 0 |\n",
       "| chr1:14253-14645 | 0.573980 | 392 | 14726 | Distal   | 0 |\n",
       "| chr1:16015-16477 | 0.541126 | 462 | 12894 | Distal   | 0 |\n",
       "| chr1:17237-17772 | 0.614953 | 535 | 11599 | Distal   | 0 |\n",
       "| chr1:28903-29613 | 0.759155 | 710 |     0 | Proximal | 1 |\n",
       "| chr1:30803-31072 | 0.501859 | 269 |  1433 | Proximal | 0 |\n",
       "\n"
      ],
      "text/plain": [
       "  Region           pGC      Length Distance2TSS TSS_Proximity TSS\n",
       "1 chr1:10015-10442 0.522248 427    18929        Distal        0  \n",
       "2 chr1:14253-14645 0.573980 392    14726        Distal        0  \n",
       "3 chr1:16015-16477 0.541126 462    12894        Distal        0  \n",
       "4 chr1:17237-17772 0.614953 535    11599        Distal        0  \n",
       "5 chr1:28903-29613 0.759155 710        0        Proximal      1  \n",
       "6 chr1:30803-31072 0.501859 269     1433        Proximal      0  "
      ]
     },
     "metadata": {},
     "output_type": "display_data"
    }
   ],
   "source": [
    "head(dat)"
   ]
  },
  {
   "cell_type": "code",
   "execution_count": null,
   "id": "46e328ff-51ca-4065-9bb9-37ac03298206",
   "metadata": {},
   "outputs": [],
   "source": []
  },
  {
   "cell_type": "code",
   "execution_count": 25,
   "id": "121985d0-0ba6-4ca1-9973-ceed657706a4",
   "metadata": {},
   "outputs": [
    {
     "data": {
      "image/png": "[encoded data removed]",
      "text/plain": [
       "plot without title"
      ]
     },
     "metadata": {
      "image/png": {
       "height": 300,
       "width": 420
      }
     },
     "output_type": "display_data"
    }
   ],
   "source": [
    "lst = lst_dat_region_annot_result\n",
    "dat = lst[[\"fcc_astarr_macs_input_overlap\"]]\n",
    "dat = dat %>% dplyr::mutate(Label = ifelse(TSS, \"TSS-Overlapped\", \"TSS-Not-Overlapped\"))\n",
    "\n",
    "gpt = ggplot(dat, aes(x=pGC, fill=Label)) + \n",
    "    geom_density(alpha = 0.7) + \n",
    "    theme_cowplot() + \n",
    "    background_grid()\n",
    "\n",
    "options(repr.plot.height = 5, repr.plot.width = 7)\n",
    "print(gpt)"
   ]
  },
  {
   "cell_type": "code",
   "execution_count": null,
   "id": "85594dae-0c28-4e71-bf9e-38b1e22e4415",
   "metadata": {},
   "outputs": [],
   "source": []
  }
 ],
 "metadata": {
  "kernelspec": {
   "display_name": "R",
   "language": "R",
   "name": "ir"
  },
  "language_info": {
   "codemirror_mode": "r",
   "file_extension": ".r",
   "mimetype": "text/x-r-source",
   "name": "R",
   "pygments_lexer": "r",
   "version": "4.4.2"
  }
 },
 "nbformat": 4,
 "nbformat_minor": 5
}
