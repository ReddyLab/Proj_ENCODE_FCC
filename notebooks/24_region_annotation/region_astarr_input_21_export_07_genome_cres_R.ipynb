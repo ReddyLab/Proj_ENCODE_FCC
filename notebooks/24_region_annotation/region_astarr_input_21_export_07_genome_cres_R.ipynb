{
 "cells": [
  {
   "cell_type": "raw",
   "id": "73d9d4a0-668e-439c-9a58-494b09417246",
   "metadata": {},
   "source": [
    "---\n",
    "title: Annotation of ATAC (ASTARR Input) 21\n",
    "subtitle: 07 Summarize ATAC w/ previous studied CREs\n",
    "format:\n",
    "    html:\n",
    "        code-fold:  true\n",
    "        code-tools: true\n",
    "---"
   ]
  },
  {
   "cell_type": "markdown",
   "id": "6b0af8c8-a3e5-4c99-9e03-178d3a7b5c82",
   "metadata": {},
   "source": [
    "**Set environment**"
   ]
  },
  {
   "cell_type": "code",
   "execution_count": 1,
   "id": "cf6de2a8-bc4f-425e-9170-8dffbcdd88f7",
   "metadata": {
    "tags": []
   },
   "outputs": [
    {
     "name": "stdout",
     "output_type": "stream",
     "text": [
      "You are working on        Singularity: singularity_proj_encode_fcc \n",
      "BASE DIRECTORY (FD_BASE): /data/reddylab/Kuei \n",
      "REPO DIRECTORY (FD_REPO): /data/reddylab/Kuei/repo \n",
      "WORK DIRECTORY (FD_WORK): /data/reddylab/Kuei/work \n",
      "DATA DIRECTORY (FD_DATA): /data/reddylab/Kuei/data \n",
      "\n",
      "You are working with      ENCODE FCC \n",
      "PATH OF PROJECT (FD_PRJ): /data/reddylab/Kuei/repo/Proj_ENCODE_FCC \n",
      "PROJECT RESULTS (FD_RES): /data/reddylab/Kuei/repo/Proj_ENCODE_FCC/results \n",
      "PROJECT SCRIPTS (FD_EXE): /data/reddylab/Kuei/repo/Proj_ENCODE_FCC/scripts \n",
      "PROJECT DATA    (FD_DAT): /data/reddylab/Kuei/repo/Proj_ENCODE_FCC/data \n",
      "PROJECT NOTE    (FD_NBK): /data/reddylab/Kuei/repo/Proj_ENCODE_FCC/notebooks \n",
      "PROJECT DOCS    (FD_DOC): /data/reddylab/Kuei/repo/Proj_ENCODE_FCC/docs \n",
      "PROJECT LOG     (FD_LOG): /data/reddylab/Kuei/repo/Proj_ENCODE_FCC/log \n",
      "PROJECT REF     (FD_REF): /data/reddylab/Kuei/repo/Proj_ENCODE_FCC/references \n",
      "\n"
     ]
    }
   ],
   "source": [
    "suppressMessages(suppressWarnings(source(\"../run_config_project_sing.R\")))\n",
    "show_env()"
   ]
  },
  {
   "cell_type": "markdown",
   "id": "332ba693-57d6-4214-9bff-187423746acb",
   "metadata": {},
   "source": [
    "## Prepare"
   ]
  },
  {
   "cell_type": "markdown",
   "id": "fec58ff4-94e9-42dd-9559-d7b7ada6606e",
   "metadata": {},
   "source": [
    "**Set global variable**"
   ]
  },
  {
   "cell_type": "code",
   "execution_count": 2,
   "id": "ae66f7af-4cf2-4a37-a584-a148a1178598",
   "metadata": {},
   "outputs": [
    {
     "name": "stdout",
     "output_type": "stream",
     "text": [
      "fcc_astarr_macs_input_overlap \n",
      "fcc_astarr_macs_input_union \n"
     ]
    }
   ],
   "source": [
    "vec = c(\n",
    "    \"fcc_astarr_macs_input_overlap\",\n",
    "    \"fcc_astarr_macs_input_union\"\n",
    ")\n",
    "names(vec) = vec\n",
    "\n",
    "VEC_TXT_FOLDER = vec\n",
    "for(txt in vec){cat(txt, \"\\n\")}"
   ]
  },
  {
   "cell_type": "code",
   "execution_count": 3,
   "id": "0643ba04-3db5-4972-baa8-f209aca46a80",
   "metadata": {},
   "outputs": [],
   "source": [
    "TXT_FNAME_ANNOT = \"region.intersect.pair.genome_cres.tsv\""
   ]
  },
  {
   "cell_type": "markdown",
   "id": "d5583a63-d471-451f-836d-3b73c33fcb58",
   "metadata": {},
   "source": [
    "**View files**"
   ]
  },
  {
   "cell_type": "code",
   "execution_count": 4,
   "id": "fec174db-0d0e-4ac4-9707-336b3cff11e5",
   "metadata": {},
   "outputs": [
    {
     "name": "stdout",
     "output_type": "stream",
     "text": [
      "/data/reddylab/Kuei/repo/Proj_ENCODE_FCC/results/region_annotation/fcc_astarr_macs_input_overlap/summary/region.intersect.pair.genome_cres.tsv \n",
      "/data/reddylab/Kuei/repo/Proj_ENCODE_FCC/results/region_annotation/fcc_astarr_macs_input_union/summary/region.intersect.pair.genome_cres.tsv \n"
     ]
    }
   ],
   "source": [
    "txt_fdiry = file.path(FD_RES, \"region_annotation\", \"*\", \"summary\")\n",
    "txt_fname = TXT_FNAME_ANNOT\n",
    "txt_fglob = file.path(txt_fdiry, txt_fname)\n",
    "\n",
    "vec = Sys.glob(txt_fglob)\n",
    "for(txt in vec){cat(txt, \"\\n\")}"
   ]
  },
  {
   "cell_type": "markdown",
   "id": "c7c8ae02-0fe4-4530-89fd-191f302bcdca",
   "metadata": {},
   "source": [
    "## Import data"
   ]
  },
  {
   "cell_type": "markdown",
   "id": "b0b35b95-79af-4ea9-845e-398f6c3083c4",
   "metadata": {},
   "source": [
    "**Import region pairs**"
   ]
  },
  {
   "cell_type": "code",
   "execution_count": 5,
   "id": "f757e422-1cad-4412-b307-5dce376c71e2",
   "metadata": {},
   "outputs": [
    {
     "name": "stdout",
     "output_type": "stream",
     "text": [
      "$fcc_astarr_macs_input_overlap\n",
      "[1] 27 20\n",
      "\n",
      "$fcc_astarr_macs_input_union\n",
      "[1] 27 20\n",
      "\n"
     ]
    },
    {
     "data": {
      "text/html": [
       "<table>\n",
       " <thead>\n",
       "  <tr>\n",
       "   <th style=\"text-align:left;\"> Chrom_A </th>\n",
       "   <th style=\"text-align:right;\"> ChromStart_A </th>\n",
       "   <th style=\"text-align:right;\"> ChromEnd_A </th>\n",
       "   <th style=\"text-align:left;\"> Region_A </th>\n",
       "   <th style=\"text-align:left;\"> Chrom_B </th>\n",
       "   <th style=\"text-align:right;\"> ChromStart_B </th>\n",
       "   <th style=\"text-align:right;\"> ChromEnd_B </th>\n",
       "   <th style=\"text-align:left;\"> Region_B </th>\n",
       "   <th style=\"text-align:left;\"> Name_B </th>\n",
       "   <th style=\"text-align:left;\"> Type_B </th>\n",
       "   <th style=\"text-align:left;\"> Target_B </th>\n",
       "   <th style=\"text-align:left;\"> Target_TSS_B </th>\n",
       "   <th style=\"text-align:left;\"> Description_B </th>\n",
       "   <th style=\"text-align:left;\"> Reference_B </th>\n",
       "   <th style=\"text-align:left;\"> Note_B </th>\n",
       "   <th style=\"text-align:left;\"> Group_B </th>\n",
       "   <th style=\"text-align:left;\"> Label_B </th>\n",
       "   <th style=\"text-align:right;\"> Overlap </th>\n",
       "   <th style=\"text-align:left;\"> Annotation_A </th>\n",
       "   <th style=\"text-align:left;\"> Annotation_B </th>\n",
       "  </tr>\n",
       " </thead>\n",
       "<tbody>\n",
       "  <tr>\n",
       "   <td style=\"text-align:left;\"> chr11 </td>\n",
       "   <td style=\"text-align:right;\"> 5269503 </td>\n",
       "   <td style=\"text-align:right;\"> 5270633 </td>\n",
       "   <td style=\"text-align:left;\"> chr11:5269503-5270633 </td>\n",
       "   <td style=\"text-align:left;\"> chr11 </td>\n",
       "   <td style=\"text-align:right;\"> 5269504 </td>\n",
       "   <td style=\"text-align:right;\"> 5270633 </td>\n",
       "   <td style=\"text-align:left;\"> chr11:5269504-5270633 </td>\n",
       "   <td style=\"text-align:left;\"> HBE1 promoter </td>\n",
       "   <td style=\"text-align:left;\"> promoter </td>\n",
       "   <td style=\"text-align:left;\"> HBE1 </td>\n",
       "   <td style=\"text-align:left;\"> HBE1|chr11:5269945-5269946 </td>\n",
       "   <td style=\"text-align:left;\"> HBE1 promoter </td>\n",
       "   <td style=\"text-align:left;\"> NA </td>\n",
       "   <td style=\"text-align:left;\"> known CREs </td>\n",
       "   <td style=\"text-align:left;\"> genome_cres </td>\n",
       "   <td style=\"text-align:left;\"> HBE1 promoter </td>\n",
       "   <td style=\"text-align:right;\"> 1129 </td>\n",
       "   <td style=\"text-align:left;\"> fcc_astarr_macs_input_overlap </td>\n",
       "   <td style=\"text-align:left;\"> genome_cres </td>\n",
       "  </tr>\n",
       "  <tr>\n",
       "   <td style=\"text-align:left;\"> chr11 </td>\n",
       "   <td style=\"text-align:right;\"> 5275455 </td>\n",
       "   <td style=\"text-align:right;\"> 5276164 </td>\n",
       "   <td style=\"text-align:left;\"> chr11:5275455-5276164 </td>\n",
       "   <td style=\"text-align:left;\"> chr11 </td>\n",
       "   <td style=\"text-align:right;\"> 5275456 </td>\n",
       "   <td style=\"text-align:right;\"> 5276164 </td>\n",
       "   <td style=\"text-align:left;\"> chr11:5275456-5276164 </td>\n",
       "   <td style=\"text-align:left;\"> LCR HS1 </td>\n",
       "   <td style=\"text-align:left;\"> enhancer </td>\n",
       "   <td style=\"text-align:left;\"> HBE1 </td>\n",
       "   <td style=\"text-align:left;\"> HBE1|chr11:5269945-5269946 </td>\n",
       "   <td style=\"text-align:left;\"> locus control region HS1 </td>\n",
       "   <td style=\"text-align:left;\"> NA </td>\n",
       "   <td style=\"text-align:left;\"> known CREs </td>\n",
       "   <td style=\"text-align:left;\"> genome_cres </td>\n",
       "   <td style=\"text-align:left;\"> LCR HS1 </td>\n",
       "   <td style=\"text-align:right;\"> 708 </td>\n",
       "   <td style=\"text-align:left;\"> fcc_astarr_macs_input_overlap </td>\n",
       "   <td style=\"text-align:left;\"> genome_cres </td>\n",
       "  </tr>\n",
       "  <tr>\n",
       "   <td style=\"text-align:left;\"> chr11 </td>\n",
       "   <td style=\"text-align:right;\"> 5280584 </td>\n",
       "   <td style=\"text-align:right;\"> 5281266 </td>\n",
       "   <td style=\"text-align:left;\"> chr11:5280584-5281266 </td>\n",
       "   <td style=\"text-align:left;\"> chr11 </td>\n",
       "   <td style=\"text-align:right;\"> 5280585 </td>\n",
       "   <td style=\"text-align:right;\"> 5281266 </td>\n",
       "   <td style=\"text-align:left;\"> chr11:5280585-5281266 </td>\n",
       "   <td style=\"text-align:left;\"> LCR HS2 </td>\n",
       "   <td style=\"text-align:left;\"> enhancer </td>\n",
       "   <td style=\"text-align:left;\"> HBE1 </td>\n",
       "   <td style=\"text-align:left;\"> HBE1|chr11:5269945-5269946 </td>\n",
       "   <td style=\"text-align:left;\"> locus control region HS2 </td>\n",
       "   <td style=\"text-align:left;\"> NA </td>\n",
       "   <td style=\"text-align:left;\"> known CREs </td>\n",
       "   <td style=\"text-align:left;\"> genome_cres </td>\n",
       "   <td style=\"text-align:left;\"> LCR HS2 </td>\n",
       "   <td style=\"text-align:right;\"> 681 </td>\n",
       "   <td style=\"text-align:left;\"> fcc_astarr_macs_input_overlap </td>\n",
       "   <td style=\"text-align:left;\"> genome_cres </td>\n",
       "  </tr>\n",
       "</tbody>\n",
       "</table>"
      ]
     },
     "metadata": {},
     "output_type": "display_data"
    }
   ],
   "source": [
    "### loop to import data\n",
    "lst = lapply(VEC_TXT_FOLDER, function(txt_folder){\n",
    "    ### set file directory\n",
    "    txt_fdiry = file.path(FD_RES, \"region_annotation\", txt_folder, \"summary\")\n",
    "    txt_fname = TXT_FNAME_ANNOT\n",
    "    txt_fpath = file.path(txt_fdiry, txt_fname)\n",
    "\n",
    "    ### read table\n",
    "    dat = read_tsv(txt_fpath, show_col_types = FALSE)\n",
    "    return(dat)\n",
    "})\n",
    "names(lst) = VEC_TXT_FOLDER\n",
    "\n",
    "### assign and show\n",
    "lst_dat_region_annot_import = lst\n",
    "\n",
    "res = lapply(lst, dim)\n",
    "print(res)\n",
    "\n",
    "dat = lst[[1]]\n",
    "fun_display_table(head(dat, 3))"
   ]
  },
  {
   "cell_type": "markdown",
   "id": "44d50bf4-a908-4d72-ad76-160c8cb62dee",
   "metadata": {},
   "source": [
    "## Arrange table"
   ]
  },
  {
   "cell_type": "code",
   "execution_count": 6,
   "id": "7f97a8ed-53ed-4cdf-8676-73311a769213",
   "metadata": {},
   "outputs": [
    {
     "name": "stdout",
     "output_type": "stream",
     "text": [
      "$fcc_astarr_macs_input_overlap\n",
      "[1] 27 12\n",
      "\n",
      "$fcc_astarr_macs_input_union\n",
      "[1] 27 12\n",
      "\n"
     ]
    },
    {
     "data": {
      "text/html": [
       "<table>\n",
       " <thead>\n",
       "  <tr>\n",
       "   <th style=\"text-align:left;\"> Chrom </th>\n",
       "   <th style=\"text-align:right;\"> ChromStart </th>\n",
       "   <th style=\"text-align:right;\"> ChromEnd </th>\n",
       "   <th style=\"text-align:left;\"> Region </th>\n",
       "   <th style=\"text-align:left;\"> Region_CRE </th>\n",
       "   <th style=\"text-align:left;\"> Group </th>\n",
       "   <th style=\"text-align:left;\"> Label </th>\n",
       "   <th style=\"text-align:left;\"> Type </th>\n",
       "   <th style=\"text-align:left;\"> Target </th>\n",
       "   <th style=\"text-align:left;\"> Description </th>\n",
       "   <th style=\"text-align:left;\"> Reference </th>\n",
       "   <th style=\"text-align:left;\"> Note </th>\n",
       "  </tr>\n",
       " </thead>\n",
       "<tbody>\n",
       "  <tr>\n",
       "   <td style=\"text-align:left;\"> chr11 </td>\n",
       "   <td style=\"text-align:right;\"> 5269503 </td>\n",
       "   <td style=\"text-align:right;\"> 5270633 </td>\n",
       "   <td style=\"text-align:left;\"> chr11:5269503-5270633 </td>\n",
       "   <td style=\"text-align:left;\"> chr11:5269504-5270633 </td>\n",
       "   <td style=\"text-align:left;\"> genome_cres </td>\n",
       "   <td style=\"text-align:left;\"> HBE1 promoter </td>\n",
       "   <td style=\"text-align:left;\"> promoter </td>\n",
       "   <td style=\"text-align:left;\"> HBE1 </td>\n",
       "   <td style=\"text-align:left;\"> HBE1 promoter </td>\n",
       "   <td style=\"text-align:left;\"> NA </td>\n",
       "   <td style=\"text-align:left;\"> known CREs </td>\n",
       "  </tr>\n",
       "  <tr>\n",
       "   <td style=\"text-align:left;\"> chr11 </td>\n",
       "   <td style=\"text-align:right;\"> 5275455 </td>\n",
       "   <td style=\"text-align:right;\"> 5276164 </td>\n",
       "   <td style=\"text-align:left;\"> chr11:5275455-5276164 </td>\n",
       "   <td style=\"text-align:left;\"> chr11:5275456-5276164 </td>\n",
       "   <td style=\"text-align:left;\"> genome_cres </td>\n",
       "   <td style=\"text-align:left;\"> LCR HS1 </td>\n",
       "   <td style=\"text-align:left;\"> enhancer </td>\n",
       "   <td style=\"text-align:left;\"> HBE1 </td>\n",
       "   <td style=\"text-align:left;\"> locus control region HS1 </td>\n",
       "   <td style=\"text-align:left;\"> NA </td>\n",
       "   <td style=\"text-align:left;\"> known CREs </td>\n",
       "  </tr>\n",
       "  <tr>\n",
       "   <td style=\"text-align:left;\"> chr11 </td>\n",
       "   <td style=\"text-align:right;\"> 5280584 </td>\n",
       "   <td style=\"text-align:right;\"> 5281266 </td>\n",
       "   <td style=\"text-align:left;\"> chr11:5280584-5281266 </td>\n",
       "   <td style=\"text-align:left;\"> chr11:5280585-5281266 </td>\n",
       "   <td style=\"text-align:left;\"> genome_cres </td>\n",
       "   <td style=\"text-align:left;\"> LCR HS2 </td>\n",
       "   <td style=\"text-align:left;\"> enhancer </td>\n",
       "   <td style=\"text-align:left;\"> HBE1 </td>\n",
       "   <td style=\"text-align:left;\"> locus control region HS2 </td>\n",
       "   <td style=\"text-align:left;\"> NA </td>\n",
       "   <td style=\"text-align:left;\"> known CREs </td>\n",
       "  </tr>\n",
       "</tbody>\n",
       "</table>"
      ]
     },
     "metadata": {},
     "output_type": "display_data"
    }
   ],
   "source": [
    "### init\n",
    "vec_txt_cname1 = c(\n",
    "    \"Chrom_A\", \"ChromStart_A\", \"ChromEnd_A\", \"Region_A\",\n",
    "    \"Region_B\",\n",
    "    \"Group_B\",\n",
    "    \"Label_B\",\n",
    "    \"Type_B\",\n",
    "    \"Target_B\", \n",
    "    \"Description_B\", \n",
    "    \"Reference_B\",\n",
    "    \"Note_B\"\n",
    ")\n",
    "vec_txt_cname2 = c(\n",
    "    \"Chrom\", \"ChromStart\", \"ChromEnd\", \"Region\",\n",
    "    \"Region_CRE\",\n",
    "    \"Group\", \n",
    "    \"Label\",\n",
    "    \"Type\",\n",
    "    \"Target\", \n",
    "    \"Description\", \n",
    "    \"Reference\",\n",
    "    \"Note\"\n",
    ")\n",
    "vec_txt_loopup = setNames(vec_txt_cname1, vec_txt_cname2)\n",
    "\n",
    "### rename columns\n",
    "lst = lst_dat_region_annot_import\n",
    "lst = lapply(lst, function(dat){\n",
    "    dat = dat %>% \n",
    "        dplyr::select(!!!vec_txt_cname1) %>% \n",
    "        dplyr::rename(all_of(vec_txt_loopup))\n",
    "    return(dat)\n",
    "})\n",
    "\n",
    "### assign and show\n",
    "lst_dat_region_annot_arrange = lst\n",
    "\n",
    "res = lapply(lst, dim)\n",
    "print(res)\n",
    "\n",
    "dat = lst[[1]]\n",
    "fun_display_table(head(dat, 3))"
   ]
  },
  {
   "cell_type": "markdown",
   "id": "50d00125-cf0c-492c-995e-f73bdcce8ba7",
   "metadata": {},
   "source": [
    "## Export results"
   ]
  },
  {
   "cell_type": "code",
   "execution_count": 7,
   "id": "64cd9391-9f1a-45b0-a161-bbcb6ed8d588",
   "metadata": {},
   "outputs": [],
   "source": [
    "for (txt_folder in VEC_TXT_FOLDER){\n",
    "\n",
    "    ### get table\n",
    "    dat_region_annot_result = lst_dat_region_annot_arrange[[txt_folder]]\n",
    "    \n",
    "    ### set file directory\n",
    "    txt_fdiry = file.path(\n",
    "        FD_RES, \n",
    "        \"region_annotation\", \n",
    "        txt_folder,\n",
    "        \"summary\"\n",
    "    )\n",
    "    \n",
    "    ### write region annotation (long format)\n",
    "    txt_fname = \"region.annotation.genome_cres.tsv\"\n",
    "    txt_fpath = file.path(txt_fdiry, txt_fname)\n",
    "    \n",
    "    dat = dat_region_annot_result\n",
    "    dat = dat %>% dplyr::arrange(Chrom, ChromStart, ChromEnd)\n",
    "    write_tsv(dat, txt_fpath)\n",
    "}"
   ]
  },
  {
   "cell_type": "code",
   "execution_count": null,
   "id": "c9ef70ae-3aa9-4946-b22c-5c7e696f4cf1",
   "metadata": {},
   "outputs": [],
   "source": []
  }
 ],
 "metadata": {
  "kernelspec": {
   "display_name": "R",
   "language": "R",
   "name": "ir"
  },
  "language_info": {
   "codemirror_mode": "r",
   "file_extension": ".r",
   "mimetype": "text/x-r-source",
   "name": "R",
   "pygments_lexer": "r",
   "version": "4.5.1"
  }
 },
 "nbformat": 4,
 "nbformat_minor": 5
}
