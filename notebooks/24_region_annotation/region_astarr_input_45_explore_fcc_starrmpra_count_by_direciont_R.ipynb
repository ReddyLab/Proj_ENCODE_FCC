{
 "cells": [
  {
   "cell_type": "raw",
   "id": "20bf4b93-fb35-416d-bd1b-f898eabad9fd",
   "metadata": {},
   "source": [
    "---\n",
    "title: Annotation of ATAC (ASTARR Input) 45\n",
    "subtitle: Explore/Visualize STARR/MPRA CRE counts by assay direction\n",
    "format:\n",
    "    html:\n",
    "        code-fold:  true\n",
    "        code-tools: true\n",
    "---"
   ]
  },
  {
   "cell_type": "markdown",
   "id": "ded21035-a917-4bd9-9381-a62511188451",
   "metadata": {},
   "source": [
    "**Set environment**"
   ]
  },
  {
   "cell_type": "code",
   "execution_count": 1,
   "id": "848eec3f-c4ff-47e2-a960-4eaac0278ee0",
   "metadata": {
    "tags": []
   },
   "outputs": [
    {
     "name": "stdout",
     "output_type": "stream",
     "text": [
      "You are working on        Singularity: singularity_proj_encode_fcc \n",
      "BASE DIRECTORY (FD_BASE): /data/reddylab/Kuei \n",
      "REPO DIRECTORY (FD_REPO): /data/reddylab/Kuei/repo \n",
      "WORK DIRECTORY (FD_WORK): /data/reddylab/Kuei/work \n",
      "DATA DIRECTORY (FD_DATA): /data/reddylab/Kuei/data \n",
      "\n",
      "You are working with      ENCODE FCC \n",
      "PATH OF PROJECT (FD_PRJ): /data/reddylab/Kuei/repo/Proj_ENCODE_FCC \n",
      "PROJECT RESULTS (FD_RES): /data/reddylab/Kuei/repo/Proj_ENCODE_FCC/results \n",
      "PROJECT SCRIPTS (FD_EXE): /data/reddylab/Kuei/repo/Proj_ENCODE_FCC/scripts \n",
      "PROJECT DATA    (FD_DAT): /data/reddylab/Kuei/repo/Proj_ENCODE_FCC/data \n",
      "PROJECT NOTE    (FD_NBK): /data/reddylab/Kuei/repo/Proj_ENCODE_FCC/notebooks \n",
      "PROJECT DOCS    (FD_DOC): /data/reddylab/Kuei/repo/Proj_ENCODE_FCC/docs \n",
      "PROJECT LOG     (FD_LOG): /data/reddylab/Kuei/repo/Proj_ENCODE_FCC/log \n",
      "PROJECT REF     (FD_REF): /data/reddylab/Kuei/repo/Proj_ENCODE_FCC/references \n",
      "\n"
     ]
    }
   ],
   "source": [
    "suppressMessages(suppressWarnings(source(\"../run_config_project_sing.R\")))\n",
    "show_env()"
   ]
  },
  {
   "cell_type": "markdown",
   "id": "1aa6f69c-dc8d-480e-a8c5-775b284aef8e",
   "metadata": {},
   "source": [
    "## Prepare"
   ]
  },
  {
   "cell_type": "markdown",
   "id": "9a347e0d-938a-4f87-8917-484d0150d335",
   "metadata": {},
   "source": [
    "**Set global variable**"
   ]
  },
  {
   "cell_type": "code",
   "execution_count": 2,
   "id": "26b02b4d-db40-4f77-8b9f-77b9346bcf18",
   "metadata": {},
   "outputs": [
    {
     "name": "stdout",
     "output_type": "stream",
     "text": [
      "fcc_astarr_macs_input_overlap \n",
      "fcc_astarr_macs_input_union \n"
     ]
    }
   ],
   "source": [
    "vec = c(\n",
    "    \"fcc_astarr_macs_input_overlap\",\n",
    "    \"fcc_astarr_macs_input_union\"\n",
    ")\n",
    "names(vec) = vec\n",
    "\n",
    "VEC_TXT_FOLDER = vec\n",
    "for(txt in vec){cat(txt, \"\\n\")}"
   ]
  },
  {
   "cell_type": "markdown",
   "id": "163afd65-de5c-4efe-98fb-869a0a04615b",
   "metadata": {},
   "source": [
    "**View files**"
   ]
  },
  {
   "cell_type": "code",
   "execution_count": 3,
   "id": "a36deb72-1da6-401c-b8a5-b7dc43c8a156",
   "metadata": {},
   "outputs": [
    {
     "name": "stdout",
     "output_type": "stream",
     "text": [
      "/data/reddylab/Kuei/repo/Proj_ENCODE_FCC/results/region_annotation/fcc_astarr_macs_input_overlap/summary/region.annotation.fcc_starrmpra_junke.merge_direction.tsv \n",
      "/data/reddylab/Kuei/repo/Proj_ENCODE_FCC/results/region_annotation/fcc_astarr_macs_input_union/summary/region.annotation.fcc_starrmpra_junke.merge_direction.tsv \n"
     ]
    }
   ],
   "source": [
    "txt_fdiry = file.path(FD_RES, \"region_annotation\", \"*\", \"summary\")\n",
    "txt_fname = \"region.annotation.fcc_starrmpra_junke.merge_direction.tsv\"\n",
    "txt_fglob = file.path(txt_fdiry, txt_fname)\n",
    "\n",
    "vec = Sys.glob(txt_fglob)\n",
    "for(txt in vec){cat(txt, \"\\n\")}"
   ]
  },
  {
   "cell_type": "code",
   "execution_count": 4,
   "id": "e1015ecb-1773-4fb7-8e48-c4c87a583e4a",
   "metadata": {},
   "outputs": [
    {
     "name": "stdout",
     "output_type": "stream",
     "text": [
      "/data/reddylab/Kuei/repo/Proj_ENCODE_FCC/results/region_annotation/fcc_astarr_macs_input_overlap/summary/region.annotation.fcc_starrmpra_junke.group.label.tsv \n",
      "/data/reddylab/Kuei/repo/Proj_ENCODE_FCC/results/region_annotation/fcc_astarr_macs_input_union/summary/region.annotation.fcc_starrmpra_junke.group.label.tsv \n"
     ]
    }
   ],
   "source": [
    "txt_fdiry = file.path(FD_RES, \"region_annotation\", \"*\", \"summary\")\n",
    "txt_fname = \"region.annotation.fcc_starrmpra_junke.group.label.tsv\"\n",
    "txt_fglob = file.path(txt_fdiry, txt_fname)\n",
    "\n",
    "vec = Sys.glob(txt_fglob)\n",
    "for(txt in vec){cat(txt, \"\\n\")}"
   ]
  },
  {
   "cell_type": "markdown",
   "id": "7270bf04-73d8-41ab-9667-7baeca82bc6c",
   "metadata": {},
   "source": [
    "## Import data"
   ]
  },
  {
   "cell_type": "code",
   "execution_count": 5,
   "id": "a7596e4a-8165-48e3-be8e-dc3238f4d80b",
   "metadata": {},
   "outputs": [
    {
     "name": "stdout",
     "output_type": "stream",
     "text": [
      "$fcc_astarr_macs_input_overlap\n",
      "[1] 141847      9\n",
      "\n",
      "$fcc_astarr_macs_input_union\n",
      "[1] 183250      9\n",
      "\n"
     ]
    },
    {
     "data": {
      "text/html": [
       "<table>\n",
       " <thead>\n",
       "  <tr>\n",
       "   <th style=\"text-align:left;\"> Chrom </th>\n",
       "   <th style=\"text-align:right;\"> ChromStart </th>\n",
       "   <th style=\"text-align:right;\"> ChromEnd </th>\n",
       "   <th style=\"text-align:left;\"> Region </th>\n",
       "   <th style=\"text-align:left;\"> Group </th>\n",
       "   <th style=\"text-align:left;\"> Label </th>\n",
       "   <th style=\"text-align:left;\"> Direction_Assay </th>\n",
       "   <th style=\"text-align:left;\"> Direction_Label </th>\n",
       "   <th style=\"text-align:right;\"> Count </th>\n",
       "  </tr>\n",
       " </thead>\n",
       "<tbody>\n",
       "  <tr>\n",
       "   <td style=\"text-align:left;\"> chr1 </td>\n",
       "   <td style=\"text-align:right;\"> 10038 </td>\n",
       "   <td style=\"text-align:right;\"> 10405 </td>\n",
       "   <td style=\"text-align:left;\"> chr1:10038-10405 </td>\n",
       "   <td style=\"text-align:left;\"> ASTARR </td>\n",
       "   <td style=\"text-align:left;\"> ASTARR_R </td>\n",
       "   <td style=\"text-align:left;\"> Repressive </td>\n",
       "   <td style=\"text-align:left;\"> R </td>\n",
       "   <td style=\"text-align:right;\"> 1 </td>\n",
       "  </tr>\n",
       "  <tr>\n",
       "   <td style=\"text-align:left;\"> chr1 </td>\n",
       "   <td style=\"text-align:right;\"> 16025 </td>\n",
       "   <td style=\"text-align:right;\"> 16338 </td>\n",
       "   <td style=\"text-align:left;\"> chr1:16025-16338 </td>\n",
       "   <td style=\"text-align:left;\"> ASTARR </td>\n",
       "   <td style=\"text-align:left;\"> ASTARR_R </td>\n",
       "   <td style=\"text-align:left;\"> Repressive </td>\n",
       "   <td style=\"text-align:left;\"> R </td>\n",
       "   <td style=\"text-align:right;\"> 1 </td>\n",
       "  </tr>\n",
       "  <tr>\n",
       "   <td style=\"text-align:left;\"> chr1 </td>\n",
       "   <td style=\"text-align:right;\"> 17288 </td>\n",
       "   <td style=\"text-align:right;\"> 17689 </td>\n",
       "   <td style=\"text-align:left;\"> chr1:17288-17689 </td>\n",
       "   <td style=\"text-align:left;\"> ASTARR </td>\n",
       "   <td style=\"text-align:left;\"> ASTARR_R </td>\n",
       "   <td style=\"text-align:left;\"> Repressive </td>\n",
       "   <td style=\"text-align:left;\"> R </td>\n",
       "   <td style=\"text-align:right;\"> 1 </td>\n",
       "  </tr>\n",
       "</tbody>\n",
       "</table>"
      ]
     },
     "metadata": {},
     "output_type": "display_data"
    }
   ],
   "source": [
    "### loop to import data\n",
    "lst = lapply(VEC_TXT_FOLDER, function(txt_folder){\n",
    "    ### set file directory\n",
    "    txt_fdiry = file.path(FD_RES, \"region_annotation\", txt_folder, \"summary\")\n",
    "    txt_fname = \"region.annotation.fcc_starrmpra_junke.merge_direction.tsv\"\n",
    "    txt_fpath = file.path(txt_fdiry, txt_fname)\n",
    "\n",
    "    ### read table\n",
    "    dat = read_tsv(txt_fpath, show_col_types = FALSE)\n",
    "    return(dat)\n",
    "})\n",
    "\n",
    "### assign and show\n",
    "lst_dat_region_annot_import = lst\n",
    "\n",
    "res = lapply(lst, dim)\n",
    "print(res)\n",
    "\n",
    "dat = lst[[1]]\n",
    "fun_display_table(head(dat, 3))"
   ]
  },
  {
   "cell_type": "markdown",
   "id": "ae1dee14-713c-41f1-81c6-dddb4808cd78",
   "metadata": {},
   "source": [
    "## Explore: Count of assay direction"
   ]
  },
  {
   "cell_type": "code",
   "execution_count": 6,
   "id": "dcb144b9-f9ad-4594-9c21-e1f63b1fb03a",
   "metadata": {},
   "outputs": [
    {
     "data": {
      "text/html": [
       "<table>\n",
       " <thead>\n",
       "  <tr>\n",
       "   <th style=\"text-align:left;\"> Region </th>\n",
       "   <th style=\"text-align:left;\"> Group </th>\n",
       "   <th style=\"text-align:left;\"> Direction </th>\n",
       "   <th style=\"text-align:right;\"> Freq </th>\n",
       "  </tr>\n",
       " </thead>\n",
       "<tbody>\n",
       "  <tr>\n",
       "   <td style=\"text-align:left;\"> fcc_astarr_macs_input_overlap </td>\n",
       "   <td style=\"text-align:left;\"> ASTARR </td>\n",
       "   <td style=\"text-align:left;\"> Active </td>\n",
       "   <td style=\"text-align:right;\"> 17042 </td>\n",
       "  </tr>\n",
       "  <tr>\n",
       "   <td style=\"text-align:left;\"> fcc_astarr_macs_input_overlap </td>\n",
       "   <td style=\"text-align:left;\"> LMPRA </td>\n",
       "   <td style=\"text-align:left;\"> Active </td>\n",
       "   <td style=\"text-align:right;\"> 20660 </td>\n",
       "  </tr>\n",
       "  <tr>\n",
       "   <td style=\"text-align:left;\"> fcc_astarr_macs_input_overlap </td>\n",
       "   <td style=\"text-align:left;\"> TMPRA </td>\n",
       "   <td style=\"text-align:left;\"> Active </td>\n",
       "   <td style=\"text-align:right;\"> 835 </td>\n",
       "  </tr>\n",
       "  <tr>\n",
       "   <td style=\"text-align:left;\"> fcc_astarr_macs_input_overlap </td>\n",
       "   <td style=\"text-align:left;\"> WSTARR </td>\n",
       "   <td style=\"text-align:left;\"> Active </td>\n",
       "   <td style=\"text-align:right;\"> 26140 </td>\n",
       "  </tr>\n",
       "  <tr>\n",
       "   <td style=\"text-align:left;\"> fcc_astarr_macs_input_overlap </td>\n",
       "   <td style=\"text-align:left;\"> ASTARR </td>\n",
       "   <td style=\"text-align:left;\"> Active:Repressive </td>\n",
       "   <td style=\"text-align:right;\"> 9119 </td>\n",
       "  </tr>\n",
       "  <tr>\n",
       "   <td style=\"text-align:left;\"> fcc_astarr_macs_input_overlap </td>\n",
       "   <td style=\"text-align:left;\"> LMPRA </td>\n",
       "   <td style=\"text-align:left;\"> Active:Repressive </td>\n",
       "   <td style=\"text-align:right;\"> 32 </td>\n",
       "  </tr>\n",
       "  <tr>\n",
       "   <td style=\"text-align:left;\"> fcc_astarr_macs_input_overlap </td>\n",
       "   <td style=\"text-align:left;\"> TMPRA </td>\n",
       "   <td style=\"text-align:left;\"> Active:Repressive </td>\n",
       "   <td style=\"text-align:right;\"> 12 </td>\n",
       "  </tr>\n",
       "  <tr>\n",
       "   <td style=\"text-align:left;\"> fcc_astarr_macs_input_overlap </td>\n",
       "   <td style=\"text-align:left;\"> WSTARR </td>\n",
       "   <td style=\"text-align:left;\"> Active:Repressive </td>\n",
       "   <td style=\"text-align:right;\"> 852 </td>\n",
       "  </tr>\n",
       "  <tr>\n",
       "   <td style=\"text-align:left;\"> fcc_astarr_macs_input_overlap </td>\n",
       "   <td style=\"text-align:left;\"> ASTARR </td>\n",
       "   <td style=\"text-align:left;\"> Repressive </td>\n",
       "   <td style=\"text-align:right;\"> 64604 </td>\n",
       "  </tr>\n",
       "  <tr>\n",
       "   <td style=\"text-align:left;\"> fcc_astarr_macs_input_overlap </td>\n",
       "   <td style=\"text-align:left;\"> LMPRA </td>\n",
       "   <td style=\"text-align:left;\"> Repressive </td>\n",
       "   <td style=\"text-align:right;\"> 213 </td>\n",
       "  </tr>\n",
       "  <tr>\n",
       "   <td style=\"text-align:left;\"> fcc_astarr_macs_input_overlap </td>\n",
       "   <td style=\"text-align:left;\"> TMPRA </td>\n",
       "   <td style=\"text-align:left;\"> Repressive </td>\n",
       "   <td style=\"text-align:right;\"> 1 </td>\n",
       "  </tr>\n",
       "  <tr>\n",
       "   <td style=\"text-align:left;\"> fcc_astarr_macs_input_overlap </td>\n",
       "   <td style=\"text-align:left;\"> WSTARR </td>\n",
       "   <td style=\"text-align:left;\"> Repressive </td>\n",
       "   <td style=\"text-align:right;\"> 2337 </td>\n",
       "  </tr>\n",
       "  <tr>\n",
       "   <td style=\"text-align:left;\"> fcc_astarr_macs_input_union </td>\n",
       "   <td style=\"text-align:left;\"> ASTARR </td>\n",
       "   <td style=\"text-align:left;\"> Active </td>\n",
       "   <td style=\"text-align:right;\"> 18245 </td>\n",
       "  </tr>\n",
       "  <tr>\n",
       "   <td style=\"text-align:left;\"> fcc_astarr_macs_input_union </td>\n",
       "   <td style=\"text-align:left;\"> LMPRA </td>\n",
       "   <td style=\"text-align:left;\"> Active </td>\n",
       "   <td style=\"text-align:right;\"> 21985 </td>\n",
       "  </tr>\n",
       "  <tr>\n",
       "   <td style=\"text-align:left;\"> fcc_astarr_macs_input_union </td>\n",
       "   <td style=\"text-align:left;\"> TMPRA </td>\n",
       "   <td style=\"text-align:left;\"> Active </td>\n",
       "   <td style=\"text-align:right;\"> 1082 </td>\n",
       "  </tr>\n",
       "  <tr>\n",
       "   <td style=\"text-align:left;\"> fcc_astarr_macs_input_union </td>\n",
       "   <td style=\"text-align:left;\"> WSTARR </td>\n",
       "   <td style=\"text-align:left;\"> Active </td>\n",
       "   <td style=\"text-align:right;\"> 31974 </td>\n",
       "  </tr>\n",
       "  <tr>\n",
       "   <td style=\"text-align:left;\"> fcc_astarr_macs_input_union </td>\n",
       "   <td style=\"text-align:left;\"> ASTARR </td>\n",
       "   <td style=\"text-align:left;\"> Active:Repressive </td>\n",
       "   <td style=\"text-align:right;\"> 11381 </td>\n",
       "  </tr>\n",
       "  <tr>\n",
       "   <td style=\"text-align:left;\"> fcc_astarr_macs_input_union </td>\n",
       "   <td style=\"text-align:left;\"> LMPRA </td>\n",
       "   <td style=\"text-align:left;\"> Active:Repressive </td>\n",
       "   <td style=\"text-align:right;\"> 37 </td>\n",
       "  </tr>\n",
       "  <tr>\n",
       "   <td style=\"text-align:left;\"> fcc_astarr_macs_input_union </td>\n",
       "   <td style=\"text-align:left;\"> TMPRA </td>\n",
       "   <td style=\"text-align:left;\"> Active:Repressive </td>\n",
       "   <td style=\"text-align:right;\"> 21 </td>\n",
       "  </tr>\n",
       "  <tr>\n",
       "   <td style=\"text-align:left;\"> fcc_astarr_macs_input_union </td>\n",
       "   <td style=\"text-align:left;\"> WSTARR </td>\n",
       "   <td style=\"text-align:left;\"> Active:Repressive </td>\n",
       "   <td style=\"text-align:right;\"> 1376 </td>\n",
       "  </tr>\n",
       "  <tr>\n",
       "   <td style=\"text-align:left;\"> fcc_astarr_macs_input_union </td>\n",
       "   <td style=\"text-align:left;\"> ASTARR </td>\n",
       "   <td style=\"text-align:left;\"> Repressive </td>\n",
       "   <td style=\"text-align:right;\"> 92196 </td>\n",
       "  </tr>\n",
       "  <tr>\n",
       "   <td style=\"text-align:left;\"> fcc_astarr_macs_input_union </td>\n",
       "   <td style=\"text-align:left;\"> LMPRA </td>\n",
       "   <td style=\"text-align:left;\"> Repressive </td>\n",
       "   <td style=\"text-align:right;\"> 252 </td>\n",
       "  </tr>\n",
       "  <tr>\n",
       "   <td style=\"text-align:left;\"> fcc_astarr_macs_input_union </td>\n",
       "   <td style=\"text-align:left;\"> TMPRA </td>\n",
       "   <td style=\"text-align:left;\"> Repressive </td>\n",
       "   <td style=\"text-align:right;\"> 3 </td>\n",
       "  </tr>\n",
       "  <tr>\n",
       "   <td style=\"text-align:left;\"> fcc_astarr_macs_input_union </td>\n",
       "   <td style=\"text-align:left;\"> WSTARR </td>\n",
       "   <td style=\"text-align:left;\"> Repressive </td>\n",
       "   <td style=\"text-align:right;\"> 4698 </td>\n",
       "  </tr>\n",
       "</tbody>\n",
       "</table>"
      ]
     },
     "metadata": {},
     "output_type": "display_data"
    }
   ],
   "source": [
    "lst = lst_dat_region_annot_import\n",
    "lst = lapply(lst, function(dat){\n",
    "    dat = dat %>% dplyr::select(Region, Group, Direction_Assay) %>% dplyr::distinct()\n",
    "    res = table(dat$Group, dat$Direction_Assay, dnn=c(\"Group\", \"Direction\"))\n",
    "    dat = as.data.frame(res)\n",
    "    return(dat)\n",
    "})\n",
    "dat = bind_rows(lst, .id = \"Region\")\n",
    "\n",
    "### assign and show\n",
    "dat_region_annot_count = dat\n",
    "fun_display_table(dat)"
   ]
  },
  {
   "cell_type": "code",
   "execution_count": 7,
   "id": "d09fc0b6-1a0e-4f1c-b714-338852faf844",
   "metadata": {},
   "outputs": [
    {
     "data": {
      "text/plain": [
       "\n",
       "\n",
       "|Region                        |Group  |Active |Active:Repressive |Repressive |\n",
       "|:-----------------------------|:------|:------|:-----------------|:----------|\n",
       "|fcc_astarr_macs_input_overlap |ASTARR |17,042 |9,119             |64,604     |\n",
       "|fcc_astarr_macs_input_overlap |LMPRA  |20,660 |32                |213        |\n",
       "|fcc_astarr_macs_input_overlap |TMPRA  |835    |12                |1          |\n",
       "|fcc_astarr_macs_input_overlap |WSTARR |26,140 |852               |2,337      |\n",
       "|fcc_astarr_macs_input_union   |ASTARR |18,245 |11,381            |92,196     |\n",
       "|fcc_astarr_macs_input_union   |LMPRA  |21,985 |37                |252        |\n",
       "|fcc_astarr_macs_input_union   |TMPRA  |1,082  |21                |3          |\n",
       "|fcc_astarr_macs_input_union   |WSTARR |31,974 |1,376             |4,698      |"
      ]
     },
     "metadata": {},
     "output_type": "display_data"
    }
   ],
   "source": [
    "dat = dat_region_annot_count\n",
    "dat = dat %>% dplyr::mutate(Freq = scales::comma(Freq))\n",
    "dat = dat %>% tidyr::spread(Direction, Freq)\n",
    "\n",
    "dat %>% kableExtra::kable(\"markdown\")"
   ]
  },
  {
   "cell_type": "code",
   "execution_count": null,
   "id": "9e2b15df-d66d-4377-bea1-191777053c2a",
   "metadata": {},
   "outputs": [],
   "source": []
  }
 ],
 "metadata": {
  "kernelspec": {
   "display_name": "R",
   "language": "R",
   "name": "ir"
  },
  "language_info": {
   "codemirror_mode": "r",
   "file_extension": ".r",
   "mimetype": "text/x-r-source",
   "name": "R",
   "pygments_lexer": "r",
   "version": "4.5.1"
  }
 },
 "nbformat": 4,
 "nbformat_minor": 5
}
