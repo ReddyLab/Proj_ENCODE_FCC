{
 "cells": [
  {
   "cell_type": "code",
   "execution_count": null,
   "id": "e8524829-dfe3-492e-9361-1178351c6c24",
   "metadata": {},
   "outputs": [],
   "source": []
  },
  {
   "cell_type": "markdown",
   "id": "77a4589a-c013-498c-b551-55a1c234fd76",
   "metadata": {},
   "source": [
    "## Question: How many TSS"
   ]
  },
  {
   "cell_type": "markdown",
   "id": "72fdca68-f643-427e-8b6e-0cfca50bf7c9",
   "metadata": {},
   "source": [
    "It turns out most TSS are showed to be significant in STARR/MPRA after vote 2 selection"
   ]
  },
  {
   "cell_type": "code",
   "execution_count": 8,
   "id": "e6ac7e7d-75bb-4df8-b5b0-e13b6752e750",
   "metadata": {},
   "outputs": [],
   "source": [
    "lst = lapply(vec_txt_folder, function(txt_folder){\n",
    "    ###\n",
    "    dat_region_annot_fcc = lst_dat_region_annot_fcc_import[[txt_folder]]\n",
    "    dat_region_tss       = lst_dat_region_annot_tss_import[[txt_folder]]\n",
    "\n",
    "    ###\n",
    "    dat = dat_region_annot_fcc\n",
    "    dat = dat %>% \n",
    "        dplyr::filter(Num_Assay > 1) %>%\n",
    "        dplyr::select(Region, Group) %>% \n",
    "        dplyr::mutate(Label = \"FCC STARR/MPRA\")\n",
    "    dat_region_fcc = dat\n",
    "    \n",
    "    ###\n",
    "    dat = dat_region_tss\n",
    "    dat = dat %>%\n",
    "        dplyr::left_join(dat_region_fcc, by = \"Region\") %>%\n",
    "        replace(is.na(.), \"Inactive\")\n",
    "    return(dat)\n",
    "})\n",
    "names(lst) = vec_txt_folder\n",
    "\n",
    "### assign and show\n",
    "lst_dat_region_annot_result = lst"
   ]
  },
  {
   "cell_type": "code",
   "execution_count": 9,
   "id": "61fe4af2-21c7-4230-98bc-4ef2a8d5f73a",
   "metadata": {},
   "outputs": [
    {
     "name": "stdout",
     "output_type": "stream",
     "text": [
      "[1] 9650    7\n"
     ]
    },
    {
     "data": {
      "text/html": [
       "<table class=\"dataframe\">\n",
       "<caption>A tibble: 6 × 7</caption>\n",
       "<thead>\n",
       "\t<tr><th scope=col>Chrom</th><th scope=col>ChromStart</th><th scope=col>ChromEnd</th><th scope=col>Region</th><th scope=col>TSS</th><th scope=col>Group</th><th scope=col>Label</th></tr>\n",
       "\t<tr><th scope=col>&lt;chr&gt;</th><th scope=col>&lt;dbl&gt;</th><th scope=col>&lt;dbl&gt;</th><th scope=col>&lt;chr&gt;</th><th scope=col>&lt;dbl&gt;</th><th scope=col>&lt;chr&gt;</th><th scope=col>&lt;chr&gt;</th></tr>\n",
       "</thead>\n",
       "<tbody>\n",
       "\t<tr><td>chr1</td><td> 28934</td><td>  29499</td><td>chr1:28934-29499   </td><td>1</td><td>Inactive       </td><td>Inactive      </td></tr>\n",
       "\t<tr><td>chr1</td><td>826796</td><td> 828040</td><td>chr1:826796-828040 </td><td>1</td><td>Inactive       </td><td>Inactive      </td></tr>\n",
       "\t<tr><td>chr1</td><td>876493</td><td> 877795</td><td>chr1:876493-877795 </td><td>1</td><td>Inactive       </td><td>Inactive      </td></tr>\n",
       "\t<tr><td>chr1</td><td>958722</td><td> 959968</td><td>chr1:958722-959968 </td><td>1</td><td>Proximal:Active</td><td>FCC STARR/MPRA</td></tr>\n",
       "\t<tr><td>chr1</td><td>960468</td><td> 961615</td><td>chr1:960468-961615 </td><td>1</td><td>Proximal:Active</td><td>FCC STARR/MPRA</td></tr>\n",
       "\t<tr><td>chr1</td><td>998960</td><td>1001192</td><td>chr1:998960-1001192</td><td>1</td><td>Inactive       </td><td>Inactive      </td></tr>\n",
       "</tbody>\n",
       "</table>\n"
      ],
      "text/latex": [
       "A tibble: 6 × 7\n",
       "\\begin{tabular}{lllllll}\n",
       " Chrom & ChromStart & ChromEnd & Region & TSS & Group & Label\\\\\n",
       " <chr> & <dbl> & <dbl> & <chr> & <dbl> & <chr> & <chr>\\\\\n",
       "\\hline\n",
       "\t chr1 &  28934 &   29499 & chr1:28934-29499    & 1 & Inactive        & Inactive      \\\\\n",
       "\t chr1 & 826796 &  828040 & chr1:826796-828040  & 1 & Inactive        & Inactive      \\\\\n",
       "\t chr1 & 876493 &  877795 & chr1:876493-877795  & 1 & Inactive        & Inactive      \\\\\n",
       "\t chr1 & 958722 &  959968 & chr1:958722-959968  & 1 & Proximal:Active & FCC STARR/MPRA\\\\\n",
       "\t chr1 & 960468 &  961615 & chr1:960468-961615  & 1 & Proximal:Active & FCC STARR/MPRA\\\\\n",
       "\t chr1 & 998960 & 1001192 & chr1:998960-1001192 & 1 & Inactive        & Inactive      \\\\\n",
       "\\end{tabular}\n"
      ],
      "text/markdown": [
       "\n",
       "A tibble: 6 × 7\n",
       "\n",
       "| Chrom &lt;chr&gt; | ChromStart &lt;dbl&gt; | ChromEnd &lt;dbl&gt; | Region &lt;chr&gt; | TSS &lt;dbl&gt; | Group &lt;chr&gt; | Label &lt;chr&gt; |\n",
       "|---|---|---|---|---|---|---|\n",
       "| chr1 |  28934 |   29499 | chr1:28934-29499    | 1 | Inactive        | Inactive       |\n",
       "| chr1 | 826796 |  828040 | chr1:826796-828040  | 1 | Inactive        | Inactive       |\n",
       "| chr1 | 876493 |  877795 | chr1:876493-877795  | 1 | Inactive        | Inactive       |\n",
       "| chr1 | 958722 |  959968 | chr1:958722-959968  | 1 | Proximal:Active | FCC STARR/MPRA |\n",
       "| chr1 | 960468 |  961615 | chr1:960468-961615  | 1 | Proximal:Active | FCC STARR/MPRA |\n",
       "| chr1 | 998960 | 1001192 | chr1:998960-1001192 | 1 | Inactive        | Inactive       |\n",
       "\n"
      ],
      "text/plain": [
       "  Chrom ChromStart ChromEnd Region              TSS Group          \n",
       "1 chr1   28934       29499  chr1:28934-29499    1   Inactive       \n",
       "2 chr1  826796      828040  chr1:826796-828040  1   Inactive       \n",
       "3 chr1  876493      877795  chr1:876493-877795  1   Inactive       \n",
       "4 chr1  958722      959968  chr1:958722-959968  1   Proximal:Active\n",
       "5 chr1  960468      961615  chr1:960468-961615  1   Proximal:Active\n",
       "6 chr1  998960     1001192  chr1:998960-1001192 1   Inactive       \n",
       "  Label         \n",
       "1 Inactive      \n",
       "2 Inactive      \n",
       "3 Inactive      \n",
       "4 FCC STARR/MPRA\n",
       "5 FCC STARR/MPRA\n",
       "6 Inactive      "
      ]
     },
     "metadata": {},
     "output_type": "display_data"
    }
   ],
   "source": [
    "lst = lst_dat_region_annot_result\n",
    "dat = lst[[\"fcc_astarr_macs_input_overlap\"]]\n",
    "print(dim(dat))\n",
    "head(dat)"
   ]
  },
  {
   "cell_type": "code",
   "execution_count": 10,
   "id": "6df96a82-7601-4cd2-8774-420cd56004eb",
   "metadata": {},
   "outputs": [
    {
     "name": "stdout",
     "output_type": "stream",
     "text": [
      "\n",
      "FCC STARR/MPRA       Inactive \n",
      "          5082           4567 \n",
      "[1] 9649    2\n"
     ]
    },
    {
     "data": {
      "text/html": [
       "<table class=\"dataframe\">\n",
       "<caption>A tibble: 6 × 2</caption>\n",
       "<thead>\n",
       "\t<tr><th scope=col>Region</th><th scope=col>Label</th></tr>\n",
       "\t<tr><th scope=col>&lt;chr&gt;</th><th scope=col>&lt;chr&gt;</th></tr>\n",
       "</thead>\n",
       "<tbody>\n",
       "\t<tr><td>chr1:28934-29499   </td><td>Inactive      </td></tr>\n",
       "\t<tr><td>chr1:826796-828040 </td><td>Inactive      </td></tr>\n",
       "\t<tr><td>chr1:876493-877795 </td><td>Inactive      </td></tr>\n",
       "\t<tr><td>chr1:958722-959968 </td><td>FCC STARR/MPRA</td></tr>\n",
       "\t<tr><td>chr1:960468-961615 </td><td>FCC STARR/MPRA</td></tr>\n",
       "\t<tr><td>chr1:998960-1001192</td><td>Inactive      </td></tr>\n",
       "</tbody>\n",
       "</table>\n"
      ],
      "text/latex": [
       "A tibble: 6 × 2\n",
       "\\begin{tabular}{ll}\n",
       " Region & Label\\\\\n",
       " <chr> & <chr>\\\\\n",
       "\\hline\n",
       "\t chr1:28934-29499    & Inactive      \\\\\n",
       "\t chr1:826796-828040  & Inactive      \\\\\n",
       "\t chr1:876493-877795  & Inactive      \\\\\n",
       "\t chr1:958722-959968  & FCC STARR/MPRA\\\\\n",
       "\t chr1:960468-961615  & FCC STARR/MPRA\\\\\n",
       "\t chr1:998960-1001192 & Inactive      \\\\\n",
       "\\end{tabular}\n"
      ],
      "text/markdown": [
       "\n",
       "A tibble: 6 × 2\n",
       "\n",
       "| Region &lt;chr&gt; | Label &lt;chr&gt; |\n",
       "|---|---|\n",
       "| chr1:28934-29499    | Inactive       |\n",
       "| chr1:826796-828040  | Inactive       |\n",
       "| chr1:876493-877795  | Inactive       |\n",
       "| chr1:958722-959968  | FCC STARR/MPRA |\n",
       "| chr1:960468-961615  | FCC STARR/MPRA |\n",
       "| chr1:998960-1001192 | Inactive       |\n",
       "\n"
      ],
      "text/plain": [
       "  Region              Label         \n",
       "1 chr1:28934-29499    Inactive      \n",
       "2 chr1:826796-828040  Inactive      \n",
       "3 chr1:876493-877795  Inactive      \n",
       "4 chr1:958722-959968  FCC STARR/MPRA\n",
       "5 chr1:960468-961615  FCC STARR/MPRA\n",
       "6 chr1:998960-1001192 Inactive      "
      ]
     },
     "metadata": {},
     "output_type": "display_data"
    }
   ],
   "source": [
    "lst = lst_dat_region_annot_result\n",
    "dat = lst[[\"fcc_astarr_macs_input_overlap\"]]\n",
    "dat = dat %>% dplyr::select(Region, Label) %>% dplyr::distinct()\n",
    "res = table(dat$Label)\n",
    "\n",
    "print(res)\n",
    "print(dim(dat))\n",
    "head(dat)"
   ]
  }
 ],
 "metadata": {
  "kernelspec": {
   "display_name": "R",
   "language": "R",
   "name": "ir"
  },
  "language_info": {
   "codemirror_mode": "r",
   "file_extension": ".r",
   "mimetype": "text/x-r-source",
   "name": "R",
   "pygments_lexer": "r",
   "version": "4.4.2"
  }
 },
 "nbformat": 4,
 "nbformat_minor": 5
}
