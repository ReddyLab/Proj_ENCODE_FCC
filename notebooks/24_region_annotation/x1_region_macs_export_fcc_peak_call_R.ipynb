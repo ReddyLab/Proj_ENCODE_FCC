{
 "cells": [
  {
   "cell_type": "raw",
   "id": "97636053-7b8a-4f79-9e7f-3126d04f632b",
   "metadata": {},
   "source": [
    "---\n",
    "title: FCC Peak calls\n",
    "subtitle: export annotation\n",
    "format:\n",
    "    html:\n",
    "        code-fold:  true\n",
    "        code-tools: true\n",
    "---"
   ]
  },
  {
   "cell_type": "markdown",
   "id": "4773620a-d254-4d22-9972-33a3bf640156",
   "metadata": {},
   "source": [
    "**Set environment**"
   ]
  },
  {
   "cell_type": "code",
   "execution_count": 1,
   "id": "ba98d4be-a417-45e3-8295-d86a79a361eb",
   "metadata": {
    "tags": []
   },
   "outputs": [
    {
     "name": "stdout",
     "output_type": "stream",
     "text": [
      "You are working on        Singularity: singularity_proj_encode_fcc \n",
      "BASE DIRECTORY (FD_BASE): /data/reddylab/Kuei \n",
      "REPO DIRECTORY (FD_REPO): /data/reddylab/Kuei/repo \n",
      "WORK DIRECTORY (FD_WORK): /data/reddylab/Kuei/work \n",
      "DATA DIRECTORY (FD_DATA): /data/reddylab/Kuei/data \n",
      "\n",
      "You are working with      ENCODE FCC \n",
      "PATH OF PROJECT (FD_PRJ): /data/reddylab/Kuei/repo/Proj_ENCODE_FCC \n",
      "PROJECT RESULTS (FD_RES): /data/reddylab/Kuei/repo/Proj_ENCODE_FCC/results \n",
      "PROJECT SCRIPTS (FD_EXE): /data/reddylab/Kuei/repo/Proj_ENCODE_FCC/scripts \n",
      "PROJECT DATA    (FD_DAT): /data/reddylab/Kuei/repo/Proj_ENCODE_FCC/data \n",
      "PROJECT NOTE    (FD_NBK): /data/reddylab/Kuei/repo/Proj_ENCODE_FCC/notebooks \n",
      "PROJECT DOCS    (FD_DOC): /data/reddylab/Kuei/repo/Proj_ENCODE_FCC/docs \n",
      "PROJECT LOG     (FD_LOG): /data/reddylab/Kuei/repo/Proj_ENCODE_FCC/log \n",
      "PROJECT REF     (FD_REF): /data/reddylab/Kuei/repo/Proj_ENCODE_FCC/references \n",
      "\n"
     ]
    }
   ],
   "source": [
    "suppressMessages(suppressWarnings(source(\"../run_config_project_sing.R\")))\n",
    "show_env()"
   ]
  },
  {
   "cell_type": "markdown",
   "id": "7bbc2974-b5c6-4c0f-b3e8-477a4ec75dd4",
   "metadata": {},
   "source": [
    "## Import data"
   ]
  },
  {
   "cell_type": "code",
   "execution_count": 2,
   "id": "d947080c-54d1-4a70-b1ee-b227b5d11b28",
   "metadata": {},
   "outputs": [
    {
     "name": "stdout",
     "output_type": "stream",
     "text": [
      "[1] 208167     10\n"
     ]
    },
    {
     "data": {
      "text/html": [
       "<table>\n",
       " <thead>\n",
       "  <tr>\n",
       "   <th style=\"text-align:left;\"> Chrom </th>\n",
       "   <th style=\"text-align:right;\"> ChromStart </th>\n",
       "   <th style=\"text-align:right;\"> ChromEnd </th>\n",
       "   <th style=\"text-align:left;\"> Region </th>\n",
       "   <th style=\"text-align:left;\"> Annotation_A </th>\n",
       "   <th style=\"text-align:left;\"> Annotation_B </th>\n",
       "   <th style=\"text-align:left;\"> Group </th>\n",
       "   <th style=\"text-align:left;\"> Label </th>\n",
       "   <th style=\"text-align:left;\"> Region_Annot </th>\n",
       "   <th style=\"text-align:right;\"> Region_Count </th>\n",
       "  </tr>\n",
       " </thead>\n",
       "<tbody>\n",
       "  <tr>\n",
       "   <td style=\"text-align:left;\"> chr1 </td>\n",
       "   <td style=\"text-align:right;\"> 10038 </td>\n",
       "   <td style=\"text-align:right;\"> 10405 </td>\n",
       "   <td style=\"text-align:left;\"> chr1:10038-10405 </td>\n",
       "   <td style=\"text-align:left;\"> fcc_astarr_macs_input_overlap </td>\n",
       "   <td style=\"text-align:left;\"> fcc_starrmpra_junke_astarr </td>\n",
       "   <td style=\"text-align:left;\"> ASTARR </td>\n",
       "   <td style=\"text-align:left;\"> ASTARR_R </td>\n",
       "   <td style=\"text-align:left;\"> chr1:10010-10430 </td>\n",
       "   <td style=\"text-align:right;\"> 1 </td>\n",
       "  </tr>\n",
       "  <tr>\n",
       "   <td style=\"text-align:left;\"> chr1 </td>\n",
       "   <td style=\"text-align:right;\"> 16025 </td>\n",
       "   <td style=\"text-align:right;\"> 16338 </td>\n",
       "   <td style=\"text-align:left;\"> chr1:16025-16338 </td>\n",
       "   <td style=\"text-align:left;\"> fcc_astarr_macs_input_overlap </td>\n",
       "   <td style=\"text-align:left;\"> fcc_starrmpra_junke_astarr </td>\n",
       "   <td style=\"text-align:left;\"> ASTARR </td>\n",
       "   <td style=\"text-align:left;\"> ASTARR_R </td>\n",
       "   <td style=\"text-align:left;\"> chr1:16220-16340 </td>\n",
       "   <td style=\"text-align:right;\"> 1 </td>\n",
       "  </tr>\n",
       "  <tr>\n",
       "   <td style=\"text-align:left;\"> chr1 </td>\n",
       "   <td style=\"text-align:right;\"> 17288 </td>\n",
       "   <td style=\"text-align:right;\"> 17689 </td>\n",
       "   <td style=\"text-align:left;\"> chr1:17288-17689 </td>\n",
       "   <td style=\"text-align:left;\"> fcc_astarr_macs_input_overlap </td>\n",
       "   <td style=\"text-align:left;\"> fcc_starrmpra_junke_astarr </td>\n",
       "   <td style=\"text-align:left;\"> ASTARR </td>\n",
       "   <td style=\"text-align:left;\"> ASTARR_R </td>\n",
       "   <td style=\"text-align:left;\"> chr1:17230-17440;chr1:17610-17720 </td>\n",
       "   <td style=\"text-align:right;\"> 2 </td>\n",
       "  </tr>\n",
       "</tbody>\n",
       "</table>"
      ]
     },
     "metadata": {},
     "output_type": "display_data"
    }
   ],
   "source": [
    "txt_fdiry = file.path(\n",
    "    FD_RES, \n",
    "    \"region_annotation\", \n",
    "    \"fcc_astarr_macs_input_overlap\",\n",
    "    \"summary\"\n",
    ")\n",
    "txt_fname = \"region.annotation.fcc_starrmpra_junke.tsv\"\n",
    "txt_fpath = file.path(txt_fdiry, txt_fname)\n",
    "\n",
    "dat = read_tsv(txt_fpath, show_col_types = FALSE)\n",
    "\n",
    "dat_region_annot_fcc_starrmpra = dat\n",
    "print(dim(dat))\n",
    "fun_display_table(head(dat, 3))"
   ]
  },
  {
   "cell_type": "code",
   "execution_count": 3,
   "id": "d4b49662-1e2a-409d-84d3-c5e7ad9c7b19",
   "metadata": {},
   "outputs": [
    {
     "name": "stdout",
     "output_type": "stream",
     "text": [
      "[1] 84 10\n"
     ]
    },
    {
     "data": {
      "text/html": [
       "<table>\n",
       " <thead>\n",
       "  <tr>\n",
       "   <th style=\"text-align:left;\"> Chrom </th>\n",
       "   <th style=\"text-align:right;\"> ChromStart </th>\n",
       "   <th style=\"text-align:right;\"> ChromEnd </th>\n",
       "   <th style=\"text-align:left;\"> Region </th>\n",
       "   <th style=\"text-align:left;\"> Annotation_A </th>\n",
       "   <th style=\"text-align:left;\"> Annotation_B </th>\n",
       "   <th style=\"text-align:left;\"> Group </th>\n",
       "   <th style=\"text-align:left;\"> Label </th>\n",
       "   <th style=\"text-align:left;\"> Region_Annot </th>\n",
       "   <th style=\"text-align:right;\"> Region_Count </th>\n",
       "  </tr>\n",
       " </thead>\n",
       "<tbody>\n",
       "  <tr>\n",
       "   <td style=\"text-align:left;\"> chr11 </td>\n",
       "   <td style=\"text-align:right;\"> 5249957 </td>\n",
       "   <td style=\"text-align:right;\"> 5250351 </td>\n",
       "   <td style=\"text-align:left;\"> chr11:5249957-5250351 </td>\n",
       "   <td style=\"text-align:left;\"> fcc_astarr_macs_input_overlap </td>\n",
       "   <td style=\"text-align:left;\"> fcc_crispri_hcrff_casa </td>\n",
       "   <td style=\"text-align:left;\"> CRISPRi-HCRFF </td>\n",
       "   <td style=\"text-align:left;\"> CRISPRi-HCRFF:HBG1 </td>\n",
       "   <td style=\"text-align:left;\"> chr11:5249847-5250847 </td>\n",
       "   <td style=\"text-align:right;\"> 1 </td>\n",
       "  </tr>\n",
       "  <tr>\n",
       "   <td style=\"text-align:left;\"> chr11 </td>\n",
       "   <td style=\"text-align:right;\"> 5249957 </td>\n",
       "   <td style=\"text-align:right;\"> 5250351 </td>\n",
       "   <td style=\"text-align:left;\"> chr11:5249957-5250351 </td>\n",
       "   <td style=\"text-align:left;\"> fcc_astarr_macs_input_overlap </td>\n",
       "   <td style=\"text-align:left;\"> fcc_crispri_hcrff_casa </td>\n",
       "   <td style=\"text-align:left;\"> CRISPRi-HCRFF </td>\n",
       "   <td style=\"text-align:left;\"> CRISPRi-HCRFF:HBG2 </td>\n",
       "   <td style=\"text-align:left;\"> chr11:5249847-5250847 </td>\n",
       "   <td style=\"text-align:right;\"> 1 </td>\n",
       "  </tr>\n",
       "  <tr>\n",
       "   <td style=\"text-align:left;\"> chr11 </td>\n",
       "   <td style=\"text-align:right;\"> 5254200 </td>\n",
       "   <td style=\"text-align:right;\"> 5254444 </td>\n",
       "   <td style=\"text-align:left;\"> chr11:5254200-5254444 </td>\n",
       "   <td style=\"text-align:left;\"> fcc_astarr_macs_input_overlap </td>\n",
       "   <td style=\"text-align:left;\"> fcc_crispri_hcrff_casa </td>\n",
       "   <td style=\"text-align:left;\"> CRISPRi-HCRFF </td>\n",
       "   <td style=\"text-align:left;\"> CRISPRi-HCRFF:HBG1 </td>\n",
       "   <td style=\"text-align:left;\"> chr11:5253647-5254647 </td>\n",
       "   <td style=\"text-align:right;\"> 1 </td>\n",
       "  </tr>\n",
       "</tbody>\n",
       "</table>"
      ]
     },
     "metadata": {},
     "output_type": "display_data"
    }
   ],
   "source": [
    "txt_fdiry = file.path(\n",
    "    FD_RES, \n",
    "    \"region_annotation\", \n",
    "    \"fcc_astarr_macs_input_overlap\",\n",
    "    \"summary\"\n",
    ")\n",
    "txt_fname = \"region.annotation.fcc_crispri_hcrff.tsv\"\n",
    "txt_fpath = file.path(txt_fdiry, txt_fname)\n",
    "\n",
    "dat = read_tsv(txt_fpath, show_col_types = FALSE)\n",
    "\n",
    "dat_region_annot_fcc_crispri_hcrff = dat\n",
    "print(dim(dat))\n",
    "fun_display_table(head(dat, 3))"
   ]
  },
  {
   "cell_type": "code",
   "execution_count": 4,
   "id": "f2f14f4a-7722-4bfb-a191-4884150e3c3e",
   "metadata": {},
   "outputs": [
    {
     "name": "stdout",
     "output_type": "stream",
     "text": [
      "[1] 77623    10\n"
     ]
    },
    {
     "data": {
      "text/html": [
       "<table>\n",
       " <thead>\n",
       "  <tr>\n",
       "   <th style=\"text-align:left;\"> Chrom </th>\n",
       "   <th style=\"text-align:right;\"> ChromStart </th>\n",
       "   <th style=\"text-align:right;\"> ChromEnd </th>\n",
       "   <th style=\"text-align:left;\"> Region </th>\n",
       "   <th style=\"text-align:left;\"> Annotation_A </th>\n",
       "   <th style=\"text-align:left;\"> Annotation_B </th>\n",
       "   <th style=\"text-align:left;\"> Group </th>\n",
       "   <th style=\"text-align:left;\"> Label </th>\n",
       "   <th style=\"text-align:left;\"> Region_Annot </th>\n",
       "   <th style=\"text-align:right;\"> Region_Count </th>\n",
       "  </tr>\n",
       " </thead>\n",
       "<tbody>\n",
       "  <tr>\n",
       "   <td style=\"text-align:left;\"> chr1 </td>\n",
       "   <td style=\"text-align:right;\"> 605104 </td>\n",
       "   <td style=\"text-align:right;\"> 605675 </td>\n",
       "   <td style=\"text-align:left;\"> chr1:605104-605675 </td>\n",
       "   <td style=\"text-align:left;\"> fcc_astarr_macs_input_overlap </td>\n",
       "   <td style=\"text-align:left;\"> fcc_crispri_growth_signif </td>\n",
       "   <td style=\"text-align:left;\"> CRISPRi-Growth </td>\n",
       "   <td style=\"text-align:left;\"> Signif </td>\n",
       "   <td style=\"text-align:left;\"> chr1:605550-605627 </td>\n",
       "   <td style=\"text-align:right;\"> 1 </td>\n",
       "  </tr>\n",
       "  <tr>\n",
       "   <td style=\"text-align:left;\"> chr1 </td>\n",
       "   <td style=\"text-align:right;\"> 605104 </td>\n",
       "   <td style=\"text-align:right;\"> 605675 </td>\n",
       "   <td style=\"text-align:left;\"> chr1:605104-605675 </td>\n",
       "   <td style=\"text-align:left;\"> fcc_astarr_macs_input_overlap </td>\n",
       "   <td style=\"text-align:left;\"> fcc_crispri_growth_total </td>\n",
       "   <td style=\"text-align:left;\"> CRISPRi-Growth </td>\n",
       "   <td style=\"text-align:left;\"> Total </td>\n",
       "   <td style=\"text-align:left;\"> chr1:605550-605627;chr1:605550-605627;chr1:605550-605627;chr1:605550-605627;chr1:605550-605627;chr1:605550-605627;chr1:605550-605627;chr1:605550-605627;chr1:605550-605627;chr1:605550-605627 </td>\n",
       "   <td style=\"text-align:right;\"> 10 </td>\n",
       "  </tr>\n",
       "  <tr>\n",
       "   <td style=\"text-align:left;\"> chr1 </td>\n",
       "   <td style=\"text-align:right;\"> 778233 </td>\n",
       "   <td style=\"text-align:right;\"> 779389 </td>\n",
       "   <td style=\"text-align:left;\"> chr1:778233-779389 </td>\n",
       "   <td style=\"text-align:left;\"> fcc_astarr_macs_input_overlap </td>\n",
       "   <td style=\"text-align:left;\"> fcc_crispri_growth_total </td>\n",
       "   <td style=\"text-align:left;\"> CRISPRi-Growth </td>\n",
       "   <td style=\"text-align:left;\"> Total </td>\n",
       "   <td style=\"text-align:left;\"> chr1:778440-779153;chr1:778440-779153;chr1:778440-779153;chr1:778440-779153;chr1:778440-779153;chr1:778440-779153;chr1:778440-779153;chr1:778440-779153;chr1:778440-779153;chr1:778440-779153 </td>\n",
       "   <td style=\"text-align:right;\"> 10 </td>\n",
       "  </tr>\n",
       "</tbody>\n",
       "</table>"
      ]
     },
     "metadata": {},
     "output_type": "display_data"
    }
   ],
   "source": [
    "txt_fdiry = file.path(\n",
    "    FD_RES, \n",
    "    \"region_annotation\", \n",
    "    \"fcc_astarr_macs_input_overlap\",\n",
    "    \"summary\"\n",
    ")\n",
    "txt_fname = \"region.annotation.fcc_crispri_growth.tsv\"\n",
    "txt_fpath = file.path(txt_fdiry, txt_fname)\n",
    "\n",
    "dat = read_tsv(txt_fpath, show_col_types = FALSE)\n",
    "\n",
    "dat_region_annot_fcc_crispri_growth = dat       \n",
    "print(dim(dat))\n",
    "fun_display_table(head(dat, 3))"
   ]
  },
  {
   "cell_type": "code",
   "execution_count": 5,
   "id": "8e13792c-c47d-4fab-81ff-b5b518b30895",
   "metadata": {},
   "outputs": [
    {
     "name": "stdout",
     "output_type": "stream",
     "text": [
      "[1] 3236   10\n"
     ]
    },
    {
     "data": {
      "text/html": [
       "<table>\n",
       " <thead>\n",
       "  <tr>\n",
       "   <th style=\"text-align:left;\"> Chrom </th>\n",
       "   <th style=\"text-align:right;\"> ChromStart </th>\n",
       "   <th style=\"text-align:right;\"> ChromEnd </th>\n",
       "   <th style=\"text-align:left;\"> Region </th>\n",
       "   <th style=\"text-align:left;\"> Annotation_A </th>\n",
       "   <th style=\"text-align:left;\"> Annotation_B </th>\n",
       "   <th style=\"text-align:left;\"> Group </th>\n",
       "   <th style=\"text-align:left;\"> Label </th>\n",
       "   <th style=\"text-align:left;\"> Region_Annot </th>\n",
       "   <th style=\"text-align:right;\"> Region_Count </th>\n",
       "  </tr>\n",
       " </thead>\n",
       "<tbody>\n",
       "  <tr>\n",
       "   <td style=\"text-align:left;\"> chr1 </td>\n",
       "   <td style=\"text-align:right;\"> 3774056 </td>\n",
       "   <td style=\"text-align:right;\"> 3776283 </td>\n",
       "   <td style=\"text-align:left;\"> chr1:3774056-3776283 </td>\n",
       "   <td style=\"text-align:left;\"> fcc_astarr_macs_input_overlap </td>\n",
       "   <td style=\"text-align:left;\"> encode_e2g_benchmark </td>\n",
       "   <td style=\"text-align:left;\"> CRISPR-E2G </td>\n",
       "   <td style=\"text-align:left;\"> Regulated:TRUE </td>\n",
       "   <td style=\"text-align:left;\"> chr1:3774714-3775214;chr1:3774714-3775214;chr1:3774714-3775214 </td>\n",
       "   <td style=\"text-align:right;\"> 3 </td>\n",
       "  </tr>\n",
       "  <tr>\n",
       "   <td style=\"text-align:left;\"> chr1 </td>\n",
       "   <td style=\"text-align:right;\"> 3803955 </td>\n",
       "   <td style=\"text-align:right;\"> 3806146 </td>\n",
       "   <td style=\"text-align:left;\"> chr1:3803955-3806146 </td>\n",
       "   <td style=\"text-align:left;\"> fcc_astarr_macs_input_overlap </td>\n",
       "   <td style=\"text-align:left;\"> encode_e2g_benchmark </td>\n",
       "   <td style=\"text-align:left;\"> CRISPR-E2G </td>\n",
       "   <td style=\"text-align:left;\"> Regulated:FALSE </td>\n",
       "   <td style=\"text-align:left;\"> chr1:3803570-3805848;chr1:3803570-3805848 </td>\n",
       "   <td style=\"text-align:right;\"> 2 </td>\n",
       "  </tr>\n",
       "  <tr>\n",
       "   <td style=\"text-align:left;\"> chr1 </td>\n",
       "   <td style=\"text-align:right;\"> 4126841 </td>\n",
       "   <td style=\"text-align:right;\"> 4128109 </td>\n",
       "   <td style=\"text-align:left;\"> chr1:4126841-4128109 </td>\n",
       "   <td style=\"text-align:left;\"> fcc_astarr_macs_input_overlap </td>\n",
       "   <td style=\"text-align:left;\"> encode_e2g_benchmark </td>\n",
       "   <td style=\"text-align:left;\"> CRISPR-E2G </td>\n",
       "   <td style=\"text-align:left;\"> Regulated:FALSE </td>\n",
       "   <td style=\"text-align:left;\"> chr1:4126791-4127291 </td>\n",
       "   <td style=\"text-align:right;\"> 1 </td>\n",
       "  </tr>\n",
       "</tbody>\n",
       "</table>"
      ]
     },
     "metadata": {},
     "output_type": "display_data"
    }
   ],
   "source": [
    "txt_fdiry = file.path(\n",
    "    FD_RES, \n",
    "    \"region_annotation\", \n",
    "    \"fcc_astarr_macs_input_overlap\",\n",
    "    \"summary\"\n",
    ")\n",
    "txt_fname = \"region.annotation.encode_e2g_benchmark.tsv\"\n",
    "txt_fpath = file.path(txt_fdiry, txt_fname)\n",
    "\n",
    "dat = read_tsv(txt_fpath, show_col_types = FALSE)\n",
    "dat$Group = \"CRISPR-E2G\"\n",
    "dat_region_annot_e2g_benchmark = dat\n",
    "print(dim(dat))\n",
    "fun_display_table(head(dat, 3))"
   ]
  },
  {
   "cell_type": "markdown",
   "id": "41eed300-1cb5-4c11-afbb-d3684414e059",
   "metadata": {},
   "source": [
    "## Arrange table"
   ]
  },
  {
   "cell_type": "code",
   "execution_count": 6,
   "id": "c72e53cf-8b31-436f-b908-7b8a089218f8",
   "metadata": {},
   "outputs": [
    {
     "data": {
      "text/html": [
       "<table class=\"dataframe\">\n",
       "<caption>A tibble: 6 × 10</caption>\n",
       "<thead>\n",
       "\t<tr><th scope=col>Chrom</th><th scope=col>ChromStart</th><th scope=col>ChromEnd</th><th scope=col>Region</th><th scope=col>Annotation_A</th><th scope=col>Annotation_B</th><th scope=col>Group</th><th scope=col>Label</th><th scope=col>Region_Annot</th><th scope=col>Region_Count</th></tr>\n",
       "\t<tr><th scope=col>&lt;chr&gt;</th><th scope=col>&lt;dbl&gt;</th><th scope=col>&lt;dbl&gt;</th><th scope=col>&lt;chr&gt;</th><th scope=col>&lt;chr&gt;</th><th scope=col>&lt;chr&gt;</th><th scope=col>&lt;chr&gt;</th><th scope=col>&lt;chr&gt;</th><th scope=col>&lt;chr&gt;</th><th scope=col>&lt;dbl&gt;</th></tr>\n",
       "</thead>\n",
       "<tbody>\n",
       "\t<tr><td>chr1</td><td>10038</td><td>10405</td><td>chr1:10038-10405</td><td>fcc_astarr_macs_input_overlap</td><td>fcc_starrmpra_junke_astarr</td><td>ASTARR</td><td>ASTARR_R </td><td>chr1:10010-10430                 </td><td>1</td></tr>\n",
       "\t<tr><td>chr1</td><td>16025</td><td>16338</td><td>chr1:16025-16338</td><td>fcc_astarr_macs_input_overlap</td><td>fcc_starrmpra_junke_astarr</td><td>ASTARR</td><td>ASTARR_R </td><td>chr1:16220-16340                 </td><td>1</td></tr>\n",
       "\t<tr><td>chr1</td><td>17288</td><td>17689</td><td>chr1:17288-17689</td><td>fcc_astarr_macs_input_overlap</td><td>fcc_starrmpra_junke_astarr</td><td>ASTARR</td><td>ASTARR_R </td><td>chr1:17230-17440;chr1:17610-17720</td><td>2</td></tr>\n",
       "\t<tr><td>chr1</td><td>17288</td><td>17689</td><td>chr1:17288-17689</td><td>fcc_astarr_macs_input_overlap</td><td>fcc_starrmpra_junke_astarr</td><td>ASTARR</td><td>ASTARR_RB</td><td>chr1:17310-17440                 </td><td>1</td></tr>\n",
       "\t<tr><td>chr1</td><td>28934</td><td>29499</td><td>chr1:28934-29499</td><td>fcc_astarr_macs_input_overlap</td><td>fcc_starrmpra_junke_astarr</td><td>ASTARR</td><td>ASTARR_R </td><td>chr1:28940-29050;chr1:29280-29470</td><td>2</td></tr>\n",
       "\t<tr><td>chr1</td><td>28934</td><td>29499</td><td>chr1:28934-29499</td><td>fcc_astarr_macs_input_overlap</td><td>fcc_starrmpra_junke_astarr</td><td>ASTARR</td><td>ASTARR_RB</td><td>chr1:29310-29410                 </td><td>1</td></tr>\n",
       "</tbody>\n",
       "</table>\n"
      ],
      "text/latex": [
       "A tibble: 6 × 10\n",
       "\\begin{tabular}{llllllllll}\n",
       " Chrom & ChromStart & ChromEnd & Region & Annotation\\_A & Annotation\\_B & Group & Label & Region\\_Annot & Region\\_Count\\\\\n",
       " <chr> & <dbl> & <dbl> & <chr> & <chr> & <chr> & <chr> & <chr> & <chr> & <dbl>\\\\\n",
       "\\hline\n",
       "\t chr1 & 10038 & 10405 & chr1:10038-10405 & fcc\\_astarr\\_macs\\_input\\_overlap & fcc\\_starrmpra\\_junke\\_astarr & ASTARR & ASTARR\\_R  & chr1:10010-10430                  & 1\\\\\n",
       "\t chr1 & 16025 & 16338 & chr1:16025-16338 & fcc\\_astarr\\_macs\\_input\\_overlap & fcc\\_starrmpra\\_junke\\_astarr & ASTARR & ASTARR\\_R  & chr1:16220-16340                  & 1\\\\\n",
       "\t chr1 & 17288 & 17689 & chr1:17288-17689 & fcc\\_astarr\\_macs\\_input\\_overlap & fcc\\_starrmpra\\_junke\\_astarr & ASTARR & ASTARR\\_R  & chr1:17230-17440;chr1:17610-17720 & 2\\\\\n",
       "\t chr1 & 17288 & 17689 & chr1:17288-17689 & fcc\\_astarr\\_macs\\_input\\_overlap & fcc\\_starrmpra\\_junke\\_astarr & ASTARR & ASTARR\\_RB & chr1:17310-17440                  & 1\\\\\n",
       "\t chr1 & 28934 & 29499 & chr1:28934-29499 & fcc\\_astarr\\_macs\\_input\\_overlap & fcc\\_starrmpra\\_junke\\_astarr & ASTARR & ASTARR\\_R  & chr1:28940-29050;chr1:29280-29470 & 2\\\\\n",
       "\t chr1 & 28934 & 29499 & chr1:28934-29499 & fcc\\_astarr\\_macs\\_input\\_overlap & fcc\\_starrmpra\\_junke\\_astarr & ASTARR & ASTARR\\_RB & chr1:29310-29410                  & 1\\\\\n",
       "\\end{tabular}\n"
      ],
      "text/markdown": [
       "\n",
       "A tibble: 6 × 10\n",
       "\n",
       "| Chrom &lt;chr&gt; | ChromStart &lt;dbl&gt; | ChromEnd &lt;dbl&gt; | Region &lt;chr&gt; | Annotation_A &lt;chr&gt; | Annotation_B &lt;chr&gt; | Group &lt;chr&gt; | Label &lt;chr&gt; | Region_Annot &lt;chr&gt; | Region_Count &lt;dbl&gt; |\n",
       "|---|---|---|---|---|---|---|---|---|---|\n",
       "| chr1 | 10038 | 10405 | chr1:10038-10405 | fcc_astarr_macs_input_overlap | fcc_starrmpra_junke_astarr | ASTARR | ASTARR_R  | chr1:10010-10430                  | 1 |\n",
       "| chr1 | 16025 | 16338 | chr1:16025-16338 | fcc_astarr_macs_input_overlap | fcc_starrmpra_junke_astarr | ASTARR | ASTARR_R  | chr1:16220-16340                  | 1 |\n",
       "| chr1 | 17288 | 17689 | chr1:17288-17689 | fcc_astarr_macs_input_overlap | fcc_starrmpra_junke_astarr | ASTARR | ASTARR_R  | chr1:17230-17440;chr1:17610-17720 | 2 |\n",
       "| chr1 | 17288 | 17689 | chr1:17288-17689 | fcc_astarr_macs_input_overlap | fcc_starrmpra_junke_astarr | ASTARR | ASTARR_RB | chr1:17310-17440                  | 1 |\n",
       "| chr1 | 28934 | 29499 | chr1:28934-29499 | fcc_astarr_macs_input_overlap | fcc_starrmpra_junke_astarr | ASTARR | ASTARR_R  | chr1:28940-29050;chr1:29280-29470 | 2 |\n",
       "| chr1 | 28934 | 29499 | chr1:28934-29499 | fcc_astarr_macs_input_overlap | fcc_starrmpra_junke_astarr | ASTARR | ASTARR_RB | chr1:29310-29410                  | 1 |\n",
       "\n"
      ],
      "text/plain": [
       "  Chrom ChromStart ChromEnd Region           Annotation_A                 \n",
       "1 chr1  10038      10405    chr1:10038-10405 fcc_astarr_macs_input_overlap\n",
       "2 chr1  16025      16338    chr1:16025-16338 fcc_astarr_macs_input_overlap\n",
       "3 chr1  17288      17689    chr1:17288-17689 fcc_astarr_macs_input_overlap\n",
       "4 chr1  17288      17689    chr1:17288-17689 fcc_astarr_macs_input_overlap\n",
       "5 chr1  28934      29499    chr1:28934-29499 fcc_astarr_macs_input_overlap\n",
       "6 chr1  28934      29499    chr1:28934-29499 fcc_astarr_macs_input_overlap\n",
       "  Annotation_B               Group  Label     Region_Annot                     \n",
       "1 fcc_starrmpra_junke_astarr ASTARR ASTARR_R  chr1:10010-10430                 \n",
       "2 fcc_starrmpra_junke_astarr ASTARR ASTARR_R  chr1:16220-16340                 \n",
       "3 fcc_starrmpra_junke_astarr ASTARR ASTARR_R  chr1:17230-17440;chr1:17610-17720\n",
       "4 fcc_starrmpra_junke_astarr ASTARR ASTARR_RB chr1:17310-17440                 \n",
       "5 fcc_starrmpra_junke_astarr ASTARR ASTARR_R  chr1:28940-29050;chr1:29280-29470\n",
       "6 fcc_starrmpra_junke_astarr ASTARR ASTARR_RB chr1:29310-29410                 \n",
       "  Region_Count\n",
       "1 1           \n",
       "2 1           \n",
       "3 2           \n",
       "4 1           \n",
       "5 2           \n",
       "6 1           "
      ]
     },
     "metadata": {},
     "output_type": "display_data"
    }
   ],
   "source": [
    "dat = dat_region_annot_fcc_starrmpra\n",
    "head(dat)"
   ]
  },
  {
   "cell_type": "code",
   "execution_count": null,
   "id": "1c71c72a-a3a7-4fc6-bb1f-ad738007b1eb",
   "metadata": {},
   "outputs": [],
   "source": []
  }
 ],
 "metadata": {
  "kernelspec": {
   "display_name": "R",
   "language": "R",
   "name": "ir"
  },
  "language_info": {
   "codemirror_mode": "r",
   "file_extension": ".r",
   "mimetype": "text/x-r-source",
   "name": "R",
   "pygments_lexer": "r",
   "version": "4.4.1"
  }
 },
 "nbformat": 4,
 "nbformat_minor": 5
}
