{
 "cells": [
  {
   "cell_type": "raw",
   "id": "a18da562-200b-4107-bf38-7ce962bbeb74",
   "metadata": {},
   "source": [
    "---\n",
    "title: Annotation of ATAC (ASTARR Input) 34\n",
    "subtitle: Explore/Visualize scores with E2G regulated links\n",
    "format:\n",
    "    html:\n",
    "        code-fold:  true\n",
    "        code-tools: true\n",
    "---"
   ]
  },
  {
   "cell_type": "markdown",
   "id": "c64a55a0-d7fa-408a-a393-4ff1552b28f6",
   "metadata": {},
   "source": [
    "**Set environment**"
   ]
  },
  {
   "cell_type": "code",
   "execution_count": 1,
   "id": "2a6054b6-86fb-4a72-90b6-43bed006cdab",
   "metadata": {
    "tags": []
   },
   "outputs": [
    {
     "name": "stdout",
     "output_type": "stream",
     "text": [
      "You are working on        Singularity: singularity_proj_encode_fcc \n",
      "BASE DIRECTORY (FD_BASE): /data/reddylab/Kuei \n",
      "REPO DIRECTORY (FD_REPO): /data/reddylab/Kuei/repo \n",
      "WORK DIRECTORY (FD_WORK): /data/reddylab/Kuei/work \n",
      "DATA DIRECTORY (FD_DATA): /data/reddylab/Kuei/data \n",
      "\n",
      "You are working with      ENCODE FCC \n",
      "PATH OF PROJECT (FD_PRJ): /data/reddylab/Kuei/repo/Proj_ENCODE_FCC \n",
      "PROJECT RESULTS (FD_RES): /data/reddylab/Kuei/repo/Proj_ENCODE_FCC/results \n",
      "PROJECT SCRIPTS (FD_EXE): /data/reddylab/Kuei/repo/Proj_ENCODE_FCC/scripts \n",
      "PROJECT DATA    (FD_DAT): /data/reddylab/Kuei/repo/Proj_ENCODE_FCC/data \n",
      "PROJECT NOTE    (FD_NBK): /data/reddylab/Kuei/repo/Proj_ENCODE_FCC/notebooks \n",
      "PROJECT DOCS    (FD_DOC): /data/reddylab/Kuei/repo/Proj_ENCODE_FCC/docs \n",
      "PROJECT LOG     (FD_LOG): /data/reddylab/Kuei/repo/Proj_ENCODE_FCC/log \n",
      "PROJECT REF     (FD_REF): /data/reddylab/Kuei/repo/Proj_ENCODE_FCC/references \n",
      "\n"
     ]
    }
   ],
   "source": [
    "suppressMessages(suppressWarnings(source(\"../run_config_project_sing.R\")))\n",
    "show_env()"
   ]
  },
  {
   "cell_type": "markdown",
   "id": "5a5536a8-685d-4486-b5a5-773f2ca95784",
   "metadata": {},
   "source": [
    "## Prepare"
   ]
  },
  {
   "cell_type": "markdown",
   "id": "26a8971e-91bd-4414-a4e6-57e1ac6611aa",
   "metadata": {},
   "source": [
    "**Set global variable**"
   ]
  },
  {
   "cell_type": "code",
   "execution_count": 2,
   "id": "6ccc1103-6ea5-4da7-b45e-4477ffeab5bc",
   "metadata": {},
   "outputs": [
    {
     "name": "stdout",
     "output_type": "stream",
     "text": [
      "fcc_astarr_macs_input_overlap \n",
      "fcc_astarr_macs_input_union \n"
     ]
    }
   ],
   "source": [
    "vec = c(\n",
    "    \"fcc_astarr_macs_input_overlap\",\n",
    "    \"fcc_astarr_macs_input_union\"\n",
    ")\n",
    "names(vec) = vec\n",
    "\n",
    "VEC_TXT_FOLDER = vec\n",
    "for(txt in vec){cat(txt, \"\\n\")}"
   ]
  },
  {
   "cell_type": "code",
   "execution_count": 3,
   "id": "fb661796-d566-4445-9776-29a022d506ba",
   "metadata": {},
   "outputs": [],
   "source": [
    "TXT_FNAME_ANNOT = \"region.annotation.encode_e2g_benchmark.score.tsv\""
   ]
  },
  {
   "cell_type": "markdown",
   "id": "4a179fb2-7e1b-4b62-ac3c-77616148fb0b",
   "metadata": {},
   "source": [
    "**View files**"
   ]
  },
  {
   "cell_type": "code",
   "execution_count": 4,
   "id": "90206298-5fe3-4e31-8613-aec212875483",
   "metadata": {},
   "outputs": [
    {
     "name": "stdout",
     "output_type": "stream",
     "text": [
      "/data/reddylab/Kuei/repo/Proj_ENCODE_FCC/results/region_annotation/fcc_astarr_macs_input_overlap/summary/region.annotation.encode_e2g_benchmark.score.tsv \n",
      "/data/reddylab/Kuei/repo/Proj_ENCODE_FCC/results/region_annotation/fcc_astarr_macs_input_union/summary/region.annotation.encode_e2g_benchmark.score.tsv \n"
     ]
    }
   ],
   "source": [
    "txt_fdiry = file.path(FD_RES, \"region_annotation\", \"*\", \"summary\")\n",
    "txt_fname = TXT_FNAME_ANNOT\n",
    "txt_fglob = file.path(txt_fdiry, txt_fname)\n",
    "\n",
    "vec = Sys.glob(txt_fglob)\n",
    "for(txt in vec){cat(txt, \"\\n\")}"
   ]
  },
  {
   "cell_type": "markdown",
   "id": "ae424994-b4f7-4d38-9b91-d0559da8f1d9",
   "metadata": {},
   "source": [
    "## Import data"
   ]
  },
  {
   "cell_type": "markdown",
   "id": "9b0abd79-6c6a-413d-9268-15a1c564cf95",
   "metadata": {},
   "source": [
    "**Read region annotation**"
   ]
  },
  {
   "cell_type": "code",
   "execution_count": 5,
   "id": "0d72f459-667a-4588-88b2-3e0fc94d0f6a",
   "metadata": {},
   "outputs": [
    {
     "name": "stdout",
     "output_type": "stream",
     "text": [
      "$fcc_astarr_macs_input_overlap\n",
      "[1] 3035    5\n",
      "\n",
      "$fcc_astarr_macs_input_union\n",
      "[1] 3169    5\n",
      "\n"
     ]
    },
    {
     "data": {
      "text/html": [
       "<table>\n",
       " <thead>\n",
       "  <tr>\n",
       "   <th style=\"text-align:left;\"> Chrom </th>\n",
       "   <th style=\"text-align:right;\"> ChromStart </th>\n",
       "   <th style=\"text-align:right;\"> ChromEnd </th>\n",
       "   <th style=\"text-align:left;\"> Region </th>\n",
       "   <th style=\"text-align:right;\"> Score </th>\n",
       "  </tr>\n",
       " </thead>\n",
       "<tbody>\n",
       "  <tr>\n",
       "   <td style=\"text-align:left;\"> chr1 </td>\n",
       "   <td style=\"text-align:right;\"> 3774056 </td>\n",
       "   <td style=\"text-align:right;\"> 3776283 </td>\n",
       "   <td style=\"text-align:left;\"> chr1:3774056-3776283 </td>\n",
       "   <td style=\"text-align:right;\"> -0.4720192 </td>\n",
       "  </tr>\n",
       "  <tr>\n",
       "   <td style=\"text-align:left;\"> chr1 </td>\n",
       "   <td style=\"text-align:right;\"> 3803955 </td>\n",
       "   <td style=\"text-align:right;\"> 3806146 </td>\n",
       "   <td style=\"text-align:left;\"> chr1:3803955-3806146 </td>\n",
       "   <td style=\"text-align:right;\"> 0.0256769 </td>\n",
       "  </tr>\n",
       "  <tr>\n",
       "   <td style=\"text-align:left;\"> chr1 </td>\n",
       "   <td style=\"text-align:right;\"> 4126841 </td>\n",
       "   <td style=\"text-align:right;\"> 4128109 </td>\n",
       "   <td style=\"text-align:left;\"> chr1:4126841-4128109 </td>\n",
       "   <td style=\"text-align:right;\"> 0.0233838 </td>\n",
       "  </tr>\n",
       "</tbody>\n",
       "</table>"
      ]
     },
     "metadata": {},
     "output_type": "display_data"
    }
   ],
   "source": [
    "### set file name\n",
    "txt_fname = TXT_FNAME_ANNOT\n",
    "\n",
    "### loop to import data\n",
    "lst = lapply(VEC_TXT_FOLDER, function(txt_folder){\n",
    "    ### set file directory\n",
    "    txt_fdiry = file.path(FD_RES, \"region_annotation\", txt_folder, \"summary\")\n",
    "    txt_fpath = file.path(txt_fdiry, txt_fname)\n",
    "\n",
    "    ### read table\n",
    "    dat = read_tsv(txt_fpath, show_col_types = FALSE)\n",
    "    return(dat)\n",
    "})\n",
    "names(lst) = VEC_TXT_FOLDER\n",
    "\n",
    "### assign and show\n",
    "lst_dat_region_annot_import = lst\n",
    "\n",
    "res = lapply(lst, dim)\n",
    "print(res)\n",
    "\n",
    "dat = lst[[1]]\n",
    "fun_display_table(head(dat, 3))"
   ]
  },
  {
   "cell_type": "markdown",
   "id": "e3a700ef-aaba-43f3-910f-955450a98b09",
   "metadata": {},
   "source": [
    "## Explore: Score distribution"
   ]
  },
  {
   "cell_type": "code",
   "execution_count": 6,
   "id": "9f5d8443-f23c-46e6-ae94-9e1a97c74c70",
   "metadata": {},
   "outputs": [
    {
     "data": {
      "image/png": "[encoded data removed]",
      "text/plain": [
       "plot without title"
      ]
     },
     "metadata": {
      "image/png": {
       "height": 240,
       "width": 720
      }
     },
     "output_type": "display_data"
    }
   ],
   "source": [
    "lst = lst_dat_region_annot_import\n",
    "lst = lapply(names(lst), function(idx){\n",
    "    txt = paste0(\"ENCODE E2G Score\", \"\\n\", \"Region: \", idx)\n",
    "    dat = lst[[idx]]\n",
    "    gpt = ggplot(dat, aes(x=Score)) + \n",
    "        geom_histogram(bins = 100) + \n",
    "        theme_cowplot() +\n",
    "        background_grid() +\n",
    "        labs(x = \"Score\", y = \"Count\", title = txt)\n",
    "    return(gpt)\n",
    "})\n",
    "options(repr.plot.height=4, repr.plot.width=12)\n",
    "plot_grid(plotlist = lst, nrow=1)"
   ]
  },
  {
   "cell_type": "code",
   "execution_count": 7,
   "id": "fafe2602-3f53-4a05-9f3d-6fc1cfea4b37",
   "metadata": {},
   "outputs": [
    {
     "data": {
      "image/png": "[encoded data removed]",
      "text/plain": [
       "plot without title"
      ]
     },
     "metadata": {
      "image/png": {
       "height": 240,
       "width": 720
      }
     },
     "output_type": "display_data"
    }
   ],
   "source": [
    "fun = function(x){z = (x - mean(x)) / sd(x); return(z)}\n",
    "\n",
    "lst = lst_dat_region_annot_import\n",
    "lst = lapply(names(lst), function(idx){\n",
    "    txt = paste0(\"ENCODE E2G Z-Score\", \"\\n\", \"Region: \", idx)\n",
    "    dat = lst[[idx]]\n",
    "    \n",
    "    dat = dat %>% dplyr::mutate(Score = fun(Score))\n",
    "    \n",
    "    gpt = ggplot(dat, aes(x=Score)) + \n",
    "        geom_histogram(bins = 100) + \n",
    "        theme_cowplot() +\n",
    "        background_grid() +\n",
    "        labs(x = \"Score\", y = \"Count\", title = txt)\n",
    "    return(gpt)\n",
    "})\n",
    "options(repr.plot.height=4, repr.plot.width=12)\n",
    "plot_grid(plotlist = lst, nrow=1)"
   ]
  },
  {
   "cell_type": "markdown",
   "id": "84855c02-97eb-4384-b23d-33f62b1111f7",
   "metadata": {},
   "source": [
    "## Export plot"
   ]
  },
  {
   "cell_type": "markdown",
   "id": "8c5b2583-5fb3-4910-a2e7-4c58dddc381b",
   "metadata": {},
   "source": [
    "**Set plot style**"
   ]
  },
  {
   "cell_type": "code",
   "execution_count": 8,
   "id": "c8f70ad1-6b3e-4863-9c7a-2624bb7423fd",
   "metadata": {},
   "outputs": [],
   "source": [
    "### set text size\n",
    "theme_text = theme(\n",
    "    title      = element_text(size = 16),\n",
    "    axis.title = element_text(size = 16),\n",
    "    axis.text  = element_text(size = 16),\n",
    "    #legend.title = element_text(size = 16),\n",
    "    legend.title = element_blank(),\n",
    "    legend.text  = element_text(size = 16)\n",
    ")"
   ]
  },
  {
   "cell_type": "markdown",
   "id": "aef35134-9e63-4375-9406-d7ae6028d4e9",
   "metadata": {},
   "source": [
    "**Generate plot**"
   ]
  },
  {
   "cell_type": "code",
   "execution_count": 9,
   "id": "2f725030-54a3-4d02-84b4-fb86ea5d2ab4",
   "metadata": {},
   "outputs": [
    {
     "data": {
      "image/png": "[encoded data removed]",
      "text/plain": [
       "plot without title"
      ]
     },
     "metadata": {
      "image/png": {
       "height": 240,
       "width": 720
      }
     },
     "output_type": "display_data"
    }
   ],
   "source": [
    "lst = lst_dat_region_annot_import\n",
    "lst = lapply(names(lst), function(idx){\n",
    "    ### set title\n",
    "    txt = fun_str_map_atac(idx)\n",
    "    txt = paste0(\"ENCODE E2G Score\", \"\\n\", \"Region: \", txt)\n",
    "\n",
    "    ### get table\n",
    "    dat = lst[[idx]]\n",
    "\n",
    "    ### generate plot\n",
    "    gpt = ggplot(dat, aes(x=Score)) + \n",
    "        geom_histogram(bins = 100) + \n",
    "        theme_cowplot() +\n",
    "        background_grid() +\n",
    "        labs(x = \"Score\", y = \"Count\", title = txt) +\n",
    "        theme_text\n",
    "    return(gpt)\n",
    "})\n",
    "\n",
    "plt = plot_grid(plotlist = lst, nrow=1)\n",
    "\n",
    "### assign and show\n",
    "plt_export_score = plt\n",
    "options(repr.plot.height=4, repr.plot.width=12)\n",
    "print(plt)"
   ]
  },
  {
   "cell_type": "markdown",
   "id": "122ded46-2546-4bc7-a844-8d6411bab181",
   "metadata": {},
   "source": [
    "**Save plot**"
   ]
  },
  {
   "cell_type": "code",
   "execution_count": 10,
   "id": "0339d6f1-d060-474d-9883-03ffbf359f3f",
   "metadata": {},
   "outputs": [],
   "source": [
    "plt_export = plt_export_score\n",
    "txt_export = \"fig.region_annot.astarr_input_overlap_union.encode_e2g_benchmakr.distribution.score\"\n",
    "\n",
    "txt_fdiry = \"./\"\n",
    "txt_fname = paste(txt_export, \"png\", sep = \".\")\n",
    "txt_fpath = file.path(txt_fdiry, txt_fname)\n",
    "ggsave(txt_fpath, plt_export, height = 4, width = 12, units = \"in\")\n",
    "\n",
    "txt_fdiry = \"./\"\n",
    "txt_fname = paste(txt_export, \"svg\", sep = \".\")\n",
    "txt_fpath = file.path(txt_fdiry, txt_fname)\n",
    "ggsave(txt_fpath, plt_export, height = 4, width = 12, units = \"in\")"
   ]
  },
  {
   "cell_type": "code",
   "execution_count": null,
   "id": "9709ce04-dcae-4ec4-b905-bfe474378b41",
   "metadata": {},
   "outputs": [],
   "source": []
  }
 ],
 "metadata": {
  "kernelspec": {
   "display_name": "R",
   "language": "R",
   "name": "ir"
  },
  "language_info": {
   "codemirror_mode": "r",
   "file_extension": ".r",
   "mimetype": "text/x-r-source",
   "name": "R",
   "pygments_lexer": "r",
   "version": "4.4.2"
  }
 },
 "nbformat": 4,
 "nbformat_minor": 5
}
