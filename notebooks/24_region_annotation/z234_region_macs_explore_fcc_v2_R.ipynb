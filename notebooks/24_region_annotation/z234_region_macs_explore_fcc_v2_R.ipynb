{
 "cells": [
  {
   "cell_type": "raw",
   "id": "21ba3910-2b45-4596-a235-493469eb4733",
   "metadata": {},
   "source": [
    "---\n",
    "title: FCC Peak calls\n",
    "subtitle: export annotation\n",
    "format:\n",
    "    html:\n",
    "        code-fold:  true\n",
    "        code-tools: true\n",
    "---"
   ]
  },
  {
   "cell_type": "markdown",
   "id": "d2d635e1-c435-4073-8d44-687bb0805a30",
   "metadata": {},
   "source": [
    "**Set environment**"
   ]
  },
  {
   "cell_type": "code",
   "execution_count": 1,
   "id": "b4ccba6f-9f2f-4baa-af86-9d73216dab0a",
   "metadata": {
    "tags": []
   },
   "outputs": [
    {
     "name": "stdout",
     "output_type": "stream",
     "text": [
      "You are working on        Singularity \n",
      "BASE DIRECTORY (FD_BASE): /mount \n",
      "REPO DIRECTORY (FD_REPO): /mount/repo \n",
      "WORK DIRECTORY (FD_WORK): /mount/work \n",
      "DATA DIRECTORY (FD_DATA): /mount/data \n",
      "\n",
      "You are working with      ENCODE FCC \n",
      "PATH OF PROJECT (FD_PRJ): /mount/repo/Proj_ENCODE_FCC \n",
      "PROJECT RESULTS (FD_RES): /mount/repo/Proj_ENCODE_FCC/results \n",
      "PROJECT SCRIPTS (FD_EXE): /mount/repo/Proj_ENCODE_FCC/scripts \n",
      "PROJECT DATA    (FD_DAT): /mount/repo/Proj_ENCODE_FCC/data \n",
      "PROJECT NOTE    (FD_NBK): /mount/repo/Proj_ENCODE_FCC/notebooks \n",
      "PROJECT DOCS    (FD_DOC): /mount/repo/Proj_ENCODE_FCC/docs \n",
      "PROJECT LOG     (FD_LOG): /mount/repo/Proj_ENCODE_FCC/log \n",
      "PROJECT APP     (FD_APP): /mount/repo/Proj_ENCODE_FCC/app \n",
      "PROJECT REF     (FD_REF): /mount/repo/Proj_ENCODE_FCC/references \n",
      "\n"
     ]
    }
   ],
   "source": [
    "suppressMessages(suppressWarnings(source(\"../run_config_project_sing.R\")))\n",
    "show_env()"
   ]
  },
  {
   "cell_type": "code",
   "execution_count": 2,
   "id": "21850aa6-4dee-4ed3-b487-a1f1a5d895ee",
   "metadata": {},
   "outputs": [
    {
     "name": "stdout",
     "output_type": "stream",
     "text": [
      "[1] 155926     18\n"
     ]
    },
    {
     "data": {
      "text/html": [
       "<table>\n",
       " <thead>\n",
       "  <tr>\n",
       "   <th style=\"text-align:left;\"> Chrom </th>\n",
       "   <th style=\"text-align:right;\"> ChromStart </th>\n",
       "   <th style=\"text-align:right;\"> ChromEnd </th>\n",
       "   <th style=\"text-align:left;\"> Region </th>\n",
       "   <th style=\"text-align:left;\"> Type </th>\n",
       "   <th style=\"text-align:right;\"> Num_Assay </th>\n",
       "   <th style=\"text-align:right;\"> TSS_Total </th>\n",
       "   <th style=\"text-align:right;\"> TSS_Essential </th>\n",
       "   <th style=\"text-align:left;\"> Label1 </th>\n",
       "   <th style=\"text-align:left;\"> Label2 </th>\n",
       "   <th style=\"text-align:right;\"> Screen_CRISPR_Total </th>\n",
       "   <th style=\"text-align:right;\"> Screen_CRISPR_Growth </th>\n",
       "   <th style=\"text-align:right;\"> Screen_CRISPR_HCRFF </th>\n",
       "   <th style=\"text-align:right;\"> Screen_CRISPR_E2G </th>\n",
       "   <th style=\"text-align:right;\"> Signif_CRISPR_Total </th>\n",
       "   <th style=\"text-align:right;\"> Signif_CRISPR_Growth </th>\n",
       "   <th style=\"text-align:right;\"> Signif_CRISPR_HCRFF </th>\n",
       "   <th style=\"text-align:right;\"> Signif_CRISPR_E2G </th>\n",
       "  </tr>\n",
       " </thead>\n",
       "<tbody>\n",
       "  <tr>\n",
       "   <td style=\"text-align:left;\"> chr1 </td>\n",
       "   <td style=\"text-align:right;\"> 10038 </td>\n",
       "   <td style=\"text-align:right;\"> 10405 </td>\n",
       "   <td style=\"text-align:left;\"> chr1:10038-10405 </td>\n",
       "   <td style=\"text-align:left;\"> Repressor </td>\n",
       "   <td style=\"text-align:right;\"> 1 </td>\n",
       "   <td style=\"text-align:right;\"> 0 </td>\n",
       "   <td style=\"text-align:right;\"> 0 </td>\n",
       "   <td style=\"text-align:left;\"> Repressor </td>\n",
       "   <td style=\"text-align:left;\"> Repressor </td>\n",
       "   <td style=\"text-align:right;\"> 0 </td>\n",
       "   <td style=\"text-align:right;\"> 0 </td>\n",
       "   <td style=\"text-align:right;\"> 0 </td>\n",
       "   <td style=\"text-align:right;\"> 0 </td>\n",
       "   <td style=\"text-align:right;\"> 0 </td>\n",
       "   <td style=\"text-align:right;\"> 0 </td>\n",
       "   <td style=\"text-align:right;\"> 0 </td>\n",
       "   <td style=\"text-align:right;\"> 0 </td>\n",
       "  </tr>\n",
       "  <tr>\n",
       "   <td style=\"text-align:left;\"> chr1 </td>\n",
       "   <td style=\"text-align:right;\"> 10038 </td>\n",
       "   <td style=\"text-align:right;\"> 10405 </td>\n",
       "   <td style=\"text-align:left;\"> chr1:10038-10405 </td>\n",
       "   <td style=\"text-align:left;\"> Repressor_GCFilter </td>\n",
       "   <td style=\"text-align:right;\"> 1 </td>\n",
       "   <td style=\"text-align:right;\"> 0 </td>\n",
       "   <td style=\"text-align:right;\"> 0 </td>\n",
       "   <td style=\"text-align:left;\"> Repressor_GCFilter </td>\n",
       "   <td style=\"text-align:left;\"> Repressor_GCFilter </td>\n",
       "   <td style=\"text-align:right;\"> 0 </td>\n",
       "   <td style=\"text-align:right;\"> 0 </td>\n",
       "   <td style=\"text-align:right;\"> 0 </td>\n",
       "   <td style=\"text-align:right;\"> 0 </td>\n",
       "   <td style=\"text-align:right;\"> 0 </td>\n",
       "   <td style=\"text-align:right;\"> 0 </td>\n",
       "   <td style=\"text-align:right;\"> 0 </td>\n",
       "   <td style=\"text-align:right;\"> 0 </td>\n",
       "  </tr>\n",
       "  <tr>\n",
       "   <td style=\"text-align:left;\"> chr1 </td>\n",
       "   <td style=\"text-align:right;\"> 16025 </td>\n",
       "   <td style=\"text-align:right;\"> 16338 </td>\n",
       "   <td style=\"text-align:left;\"> chr1:16025-16338 </td>\n",
       "   <td style=\"text-align:left;\"> Repressor </td>\n",
       "   <td style=\"text-align:right;\"> 1 </td>\n",
       "   <td style=\"text-align:right;\"> 0 </td>\n",
       "   <td style=\"text-align:right;\"> 0 </td>\n",
       "   <td style=\"text-align:left;\"> Repressor </td>\n",
       "   <td style=\"text-align:left;\"> Repressor </td>\n",
       "   <td style=\"text-align:right;\"> 0 </td>\n",
       "   <td style=\"text-align:right;\"> 0 </td>\n",
       "   <td style=\"text-align:right;\"> 0 </td>\n",
       "   <td style=\"text-align:right;\"> 0 </td>\n",
       "   <td style=\"text-align:right;\"> 0 </td>\n",
       "   <td style=\"text-align:right;\"> 0 </td>\n",
       "   <td style=\"text-align:right;\"> 0 </td>\n",
       "   <td style=\"text-align:right;\"> 0 </td>\n",
       "  </tr>\n",
       "</tbody>\n",
       "</table>"
      ]
     },
     "metadata": {},
     "output_type": "display_data"
    }
   ],
   "source": [
    "txt_fdiry = file.path(\n",
    "    FD_RES, \n",
    "    \"region_annotation\", \n",
    "    \"fcc_astarr_macs_input_overlap\",\n",
    "    \"summary\"\n",
    ")\n",
    "txt_fname = \"region.summary.fcc_peak_call.label.tsv\"\n",
    "txt_fpath = file.path(txt_fdiry, txt_fname)\n",
    "\n",
    "dat = read_tsv(txt_fpath, show_col_types = FALSE)\n",
    "\n",
    "dat_region_annot_fcc_label = dat\n",
    "print(dim(dat))\n",
    "fun_display_table(head(dat, 3))"
   ]
  },
  {
   "cell_type": "code",
   "execution_count": 3,
   "id": "1c1ae574-b6a1-4c56-a7c6-d108d3680d13",
   "metadata": {},
   "outputs": [
    {
     "data": {
      "text/plain": [
       "\n",
       "          Enhancer          Repressor Repressor_GCFilter \n",
       "             43993              65401              46532 "
      ]
     },
     "metadata": {},
     "output_type": "display_data"
    }
   ],
   "source": [
    "table(dat$Type)"
   ]
  },
  {
   "cell_type": "code",
   "execution_count": 4,
   "id": "98627a0f-ce46-42b6-ae99-81933a30621b",
   "metadata": {},
   "outputs": [
    {
     "data": {
      "text/plain": [
       "\n",
       "              Enhancer              Repressor     Repressor_GCFilter \n",
       "                 35731                  61395                  45615 \n",
       "          TSS:Enhancer          TSS:Repressor TSS:Repressor_GCFilter \n",
       "                  8262                   4006                    917 "
      ]
     },
     "metadata": {},
     "output_type": "display_data"
    }
   ],
   "source": [
    "table(dat$Label1)"
   ]
  },
  {
   "cell_type": "code",
   "execution_count": 5,
   "id": "fda2c261-35cf-4236-8443-596d985114d1",
   "metadata": {},
   "outputs": [
    {
     "data": {
      "text/plain": [
       "\n",
       "          Enhancer           Promoter          Repressor Repressor_GCFilter \n",
       "             35731              13185              61395              45615 "
      ]
     },
     "metadata": {},
     "output_type": "display_data"
    }
   ],
   "source": [
    "table(dat$Label2)"
   ]
  },
  {
   "cell_type": "markdown",
   "id": "59ed57df-57f0-40ba-8e78-06981e26bf08",
   "metadata": {},
   "source": [
    "## Total"
   ]
  },
  {
   "cell_type": "code",
   "execution_count": 21,
   "id": "923347d8-f86d-454a-8959-a6df02afe628",
   "metadata": {},
   "outputs": [
    {
     "name": "stdout",
     "output_type": "stream",
     "text": [
      "[1] 18346    18\n"
     ]
    },
    {
     "data": {
      "text/html": [
       "<table>\n",
       " <thead>\n",
       "  <tr>\n",
       "   <th style=\"text-align:left;\"> Chrom </th>\n",
       "   <th style=\"text-align:right;\"> ChromStart </th>\n",
       "   <th style=\"text-align:right;\"> ChromEnd </th>\n",
       "   <th style=\"text-align:left;\"> Region </th>\n",
       "   <th style=\"text-align:left;\"> Type </th>\n",
       "   <th style=\"text-align:right;\"> Num_Assay </th>\n",
       "   <th style=\"text-align:right;\"> TSS_Total </th>\n",
       "   <th style=\"text-align:right;\"> TSS_Essential </th>\n",
       "   <th style=\"text-align:left;\"> Label1 </th>\n",
       "   <th style=\"text-align:left;\"> Label2 </th>\n",
       "   <th style=\"text-align:right;\"> Screen_CRISPR_Total </th>\n",
       "   <th style=\"text-align:right;\"> Screen_CRISPR_Growth </th>\n",
       "   <th style=\"text-align:right;\"> Screen_CRISPR_HCRFF </th>\n",
       "   <th style=\"text-align:right;\"> Screen_CRISPR_E2G </th>\n",
       "   <th style=\"text-align:right;\"> Signif_CRISPR_Total </th>\n",
       "   <th style=\"text-align:right;\"> Signif_CRISPR_Growth </th>\n",
       "   <th style=\"text-align:right;\"> Signif_CRISPR_HCRFF </th>\n",
       "   <th style=\"text-align:right;\"> Signif_CRISPR_E2G </th>\n",
       "  </tr>\n",
       " </thead>\n",
       "<tbody>\n",
       "  <tr>\n",
       "   <td style=\"text-align:left;\"> chr1 </td>\n",
       "   <td style=\"text-align:right;\"> 778233 </td>\n",
       "   <td style=\"text-align:right;\"> 779389 </td>\n",
       "   <td style=\"text-align:left;\"> chr1:778233-779389 </td>\n",
       "   <td style=\"text-align:left;\"> Enhancer </td>\n",
       "   <td style=\"text-align:right;\"> 3 </td>\n",
       "   <td style=\"text-align:right;\"> 0 </td>\n",
       "   <td style=\"text-align:right;\"> 0 </td>\n",
       "   <td style=\"text-align:left;\"> Enhancer </td>\n",
       "   <td style=\"text-align:left;\"> Enhancer </td>\n",
       "   <td style=\"text-align:right;\"> 1 </td>\n",
       "   <td style=\"text-align:right;\"> 1 </td>\n",
       "   <td style=\"text-align:right;\"> 0 </td>\n",
       "   <td style=\"text-align:right;\"> 0 </td>\n",
       "   <td style=\"text-align:right;\"> 0 </td>\n",
       "   <td style=\"text-align:right;\"> 0 </td>\n",
       "   <td style=\"text-align:right;\"> 0 </td>\n",
       "   <td style=\"text-align:right;\"> 0 </td>\n",
       "  </tr>\n",
       "  <tr>\n",
       "   <td style=\"text-align:left;\"> chr1 </td>\n",
       "   <td style=\"text-align:right;\"> 958722 </td>\n",
       "   <td style=\"text-align:right;\"> 959968 </td>\n",
       "   <td style=\"text-align:left;\"> chr1:958722-959968 </td>\n",
       "   <td style=\"text-align:left;\"> Enhancer </td>\n",
       "   <td style=\"text-align:right;\"> 2 </td>\n",
       "   <td style=\"text-align:right;\"> 1 </td>\n",
       "   <td style=\"text-align:right;\"> 0 </td>\n",
       "   <td style=\"text-align:left;\"> TSS:Enhancer </td>\n",
       "   <td style=\"text-align:left;\"> Promoter </td>\n",
       "   <td style=\"text-align:right;\"> 1 </td>\n",
       "   <td style=\"text-align:right;\"> 1 </td>\n",
       "   <td style=\"text-align:right;\"> 0 </td>\n",
       "   <td style=\"text-align:right;\"> 0 </td>\n",
       "   <td style=\"text-align:right;\"> 0 </td>\n",
       "   <td style=\"text-align:right;\"> 0 </td>\n",
       "   <td style=\"text-align:right;\"> 0 </td>\n",
       "   <td style=\"text-align:right;\"> 0 </td>\n",
       "  </tr>\n",
       "  <tr>\n",
       "   <td style=\"text-align:left;\"> chr1 </td>\n",
       "   <td style=\"text-align:right;\"> 960468 </td>\n",
       "   <td style=\"text-align:right;\"> 961615 </td>\n",
       "   <td style=\"text-align:left;\"> chr1:960468-961615 </td>\n",
       "   <td style=\"text-align:left;\"> Enhancer </td>\n",
       "   <td style=\"text-align:right;\"> 2 </td>\n",
       "   <td style=\"text-align:right;\"> 1 </td>\n",
       "   <td style=\"text-align:right;\"> 0 </td>\n",
       "   <td style=\"text-align:left;\"> TSS:Enhancer </td>\n",
       "   <td style=\"text-align:left;\"> Promoter </td>\n",
       "   <td style=\"text-align:right;\"> 1 </td>\n",
       "   <td style=\"text-align:right;\"> 1 </td>\n",
       "   <td style=\"text-align:right;\"> 0 </td>\n",
       "   <td style=\"text-align:right;\"> 0 </td>\n",
       "   <td style=\"text-align:right;\"> 0 </td>\n",
       "   <td style=\"text-align:right;\"> 0 </td>\n",
       "   <td style=\"text-align:right;\"> 0 </td>\n",
       "   <td style=\"text-align:right;\"> 0 </td>\n",
       "  </tr>\n",
       "</tbody>\n",
       "</table>"
      ]
     },
     "metadata": {},
     "output_type": "display_data"
    }
   ],
   "source": [
    "vec = c(\"Enhancer\", \"Repressor\")\n",
    "dat = dat_region_annot_fcc_label\n",
    "dat = dat %>% \n",
    "    dplyr::filter(Type %in% vec) %>%\n",
    "    dplyr::filter(Num_Assay > 1) %>%\n",
    "    dplyr::distinct()\n",
    "\n",
    "dat_region_annot_subset = dat\n",
    "print(dim(dat))\n",
    "fun_display_table(head(dat, 3))"
   ]
  },
  {
   "cell_type": "code",
   "execution_count": 54,
   "id": "10345f32-b33e-4d45-b99e-cb09da8407e7",
   "metadata": {},
   "outputs": [
    {
     "name": "stdout",
     "output_type": "stream",
     "text": [
      "[1] 3 2\n"
     ]
    },
    {
     "data": {
      "text/html": [
       "<table>\n",
       " <thead>\n",
       "  <tr>\n",
       "   <th style=\"text-align:left;\"> Label </th>\n",
       "   <th style=\"text-align:right;\"> Count </th>\n",
       "  </tr>\n",
       " </thead>\n",
       "<tbody>\n",
       "  <tr>\n",
       "   <td style=\"text-align:left;\"> Enhancer </td>\n",
       "   <td style=\"text-align:right;\"> 11623 </td>\n",
       "  </tr>\n",
       "  <tr>\n",
       "   <td style=\"text-align:left;\"> Promoter </td>\n",
       "   <td style=\"text-align:right;\"> 5083 </td>\n",
       "  </tr>\n",
       "  <tr>\n",
       "   <td style=\"text-align:left;\"> Repressor </td>\n",
       "   <td style=\"text-align:right;\"> 1640 </td>\n",
       "  </tr>\n",
       "</tbody>\n",
       "</table>"
      ]
     },
     "metadata": {},
     "output_type": "display_data"
    }
   ],
   "source": [
    "vec = c(\"Enhancer\", \"Repressor\")\n",
    "dat = dat_region_annot_subset\n",
    "dat = dat %>% \n",
    "    dplyr::mutate(Label = Label2) %>% \n",
    "    dplyr::select(Region, Type, Label) %>% \n",
    "    dplyr::distinct()\n",
    "\n",
    "dat = dat %>%\n",
    "    dplyr::group_by(Label) %>%\n",
    "    dplyr::summarise(Count = n(), .groups = \"drop\")\n",
    "\n",
    "dat_region_annot_summary = dat\n",
    "print(dim(dat))\n",
    "fun_display_table(dat)"
   ]
  },
  {
   "cell_type": "code",
   "execution_count": 56,
   "id": "bda4d0a7-257f-402b-983e-804f920e9a21",
   "metadata": {},
   "outputs": [],
   "source": [
    "dat = dat_region_annot_summary\n",
    "dat = dat %>%\n",
    "    dplyr::mutate(\n",
    "        Count_Label = ifelse(\n",
    "            Count > 1000, \n",
    "            paste0(round(Count / 1000, 1), \"K\"),\n",
    "            Count\n",
    "        )\n",
    "    ) %>%\n",
    "    dplyr::mutate(Label2 = paste0(Label, \" \", \"(\", Count_Label, \")\"))\n",
    "\n",
    "vec = c(\"Enhancer\", \"Promoter\", \"Repressor\")\n",
    "dat = dat %>% \n",
    "    dplyr::mutate(Label = factor(Label, levels=rev(vec))) %>% \n",
    "    dplyr::arrange(Label) %>%\n",
    "    dplyr::mutate(Label2 = factor(Label2, levels=Label2))\n",
    "\n",
    "dat_region_annot_plot = dat"
   ]
  },
  {
   "cell_type": "code",
   "execution_count": 57,
   "id": "06048602-7706-4f93-8254-f1a79b687842",
   "metadata": {},
   "outputs": [
    {
     "data": {
      "image/png": "[encoded data removed]",
      "text/plain": [
       "plot without title"
      ]
     },
     "metadata": {
      "image/png": {
       "height": 180,
       "width": 480
      }
     },
     "output_type": "display_data"
    }
   ],
   "source": [
    "dat = dat_region_annot_plot\n",
    "gpt = ggplot(dat, aes(y = Label2, x = Count)) + \n",
    "    geom_bar(stat = \"identity\") +\n",
    "    labs(y = \"\") +\n",
    "    xlim(0, 12500) +\n",
    "    theme_cowplot() +\n",
    "    background_grid(\n",
    "        major = \"x\",\n",
    "        minor = \"x\",\n",
    "        size.major = 1,\n",
    "        size.minor = 1,\n",
    "    ) +\n",
    "    theme(axis.text.y = element_text(size=15))\n",
    "\n",
    "options(repr.plot.height=3, repr.plot.width=8)\n",
    "print(gpt)"
   ]
  },
  {
   "cell_type": "markdown",
   "id": "f3c50169-8d6c-4d93-ac16-8abbdbe112b8",
   "metadata": {},
   "source": [
    "## CRISPR"
   ]
  },
  {
   "cell_type": "code",
   "execution_count": 58,
   "id": "6ad447ea-1490-436b-aaac-6ac4ed2cf640",
   "metadata": {},
   "outputs": [
    {
     "name": "stdout",
     "output_type": "stream",
     "text": [
      "[1] 6 5\n"
     ]
    },
    {
     "data": {
      "text/html": [
       "<table>\n",
       " <thead>\n",
       "  <tr>\n",
       "   <th style=\"text-align:left;\"> Label </th>\n",
       "   <th style=\"text-align:left;\"> CRISPR </th>\n",
       "   <th style=\"text-align:right;\"> Count </th>\n",
       "   <th style=\"text-align:right;\"> Total </th>\n",
       "   <th style=\"text-align:right;\"> Freq </th>\n",
       "  </tr>\n",
       " </thead>\n",
       "<tbody>\n",
       "  <tr>\n",
       "   <td style=\"text-align:left;\"> Enhancer </td>\n",
       "   <td style=\"text-align:left;\"> Not Significant </td>\n",
       "   <td style=\"text-align:right;\"> 8688 </td>\n",
       "   <td style=\"text-align:right;\"> 9273 </td>\n",
       "   <td style=\"text-align:right;\"> 0.9369136 </td>\n",
       "  </tr>\n",
       "  <tr>\n",
       "   <td style=\"text-align:left;\"> Enhancer </td>\n",
       "   <td style=\"text-align:left;\"> Significant </td>\n",
       "   <td style=\"text-align:right;\"> 585 </td>\n",
       "   <td style=\"text-align:right;\"> 9273 </td>\n",
       "   <td style=\"text-align:right;\"> 0.0630864 </td>\n",
       "  </tr>\n",
       "  <tr>\n",
       "   <td style=\"text-align:left;\"> Promoter </td>\n",
       "   <td style=\"text-align:left;\"> Not Significant </td>\n",
       "   <td style=\"text-align:right;\"> 4034 </td>\n",
       "   <td style=\"text-align:right;\"> 5057 </td>\n",
       "   <td style=\"text-align:right;\"> 0.7977061 </td>\n",
       "  </tr>\n",
       "  <tr>\n",
       "   <td style=\"text-align:left;\"> Promoter </td>\n",
       "   <td style=\"text-align:left;\"> Significant </td>\n",
       "   <td style=\"text-align:right;\"> 1023 </td>\n",
       "   <td style=\"text-align:right;\"> 5057 </td>\n",
       "   <td style=\"text-align:right;\"> 0.2022939 </td>\n",
       "  </tr>\n",
       "  <tr>\n",
       "   <td style=\"text-align:left;\"> Repressor </td>\n",
       "   <td style=\"text-align:left;\"> Not Significant </td>\n",
       "   <td style=\"text-align:right;\"> 913 </td>\n",
       "   <td style=\"text-align:right;\"> 958 </td>\n",
       "   <td style=\"text-align:right;\"> 0.9530271 </td>\n",
       "  </tr>\n",
       "  <tr>\n",
       "   <td style=\"text-align:left;\"> Repressor </td>\n",
       "   <td style=\"text-align:left;\"> Significant </td>\n",
       "   <td style=\"text-align:right;\"> 45 </td>\n",
       "   <td style=\"text-align:right;\"> 958 </td>\n",
       "   <td style=\"text-align:right;\"> 0.0469729 </td>\n",
       "  </tr>\n",
       "</tbody>\n",
       "</table>"
      ]
     },
     "metadata": {},
     "output_type": "display_data"
    }
   ],
   "source": [
    "vec = c(\"Enhancer\", \"Repressor\")\n",
    "dat = dat_region_annot_subset\n",
    "dat = dat %>% \n",
    "    dplyr::filter(Screen_CRISPR_Total == 1) %>%\n",
    "    dplyr::mutate(Label = Label2) %>%\n",
    "    dplyr::mutate(CRISPR = Signif_CRISPR_Total) %>%\n",
    "    dplyr::select(Region, Type, Label, CRISPR) %>% \n",
    "    dplyr::mutate(CRISPR = ifelse(CRISPR == 1, \"Significant\", \"Not Significant\")) %>%\n",
    "    dplyr::distinct()\n",
    "\n",
    "dat = dat %>%\n",
    "    dplyr::group_by(Label, CRISPR) %>%\n",
    "    dplyr::summarise(Count = n(), .groups = \"drop\") %>%\n",
    "    dplyr::group_by(Label) %>%\n",
    "    dplyr::mutate(Total = sum(Count)) %>%\n",
    "    dplyr::ungroup() %>%\n",
    "    dplyr::mutate(Freq = Count / Total)\n",
    "\n",
    "dat_region_annot_summary_crispr = dat\n",
    "print(dim(dat))\n",
    "fun_display_table(dat)"
   ]
  },
  {
   "cell_type": "code",
   "execution_count": 67,
   "id": "5afaff2b-c5c5-4466-b1c7-2eefada47b18",
   "metadata": {},
   "outputs": [
    {
     "data": {
      "text/html": [
       "<table class=\"dataframe\">\n",
       "<caption>A tibble: 6 × 6</caption>\n",
       "<thead>\n",
       "\t<tr><th scope=col>Label</th><th scope=col>CRISPR</th><th scope=col>Count</th><th scope=col>Total</th><th scope=col>Freq</th><th scope=col>Label2</th></tr>\n",
       "\t<tr><th scope=col>&lt;fct&gt;</th><th scope=col>&lt;chr&gt;</th><th scope=col>&lt;int&gt;</th><th scope=col>&lt;int&gt;</th><th scope=col>&lt;dbl&gt;</th><th scope=col>&lt;fct&gt;</th></tr>\n",
       "</thead>\n",
       "<tbody>\n",
       "\t<tr><td>Repressor</td><td>Not Significant</td><td> 913</td><td> 958</td><td>0.95302714</td><td>Repressor (4.7%)</td></tr>\n",
       "\t<tr><td>Repressor</td><td>Significant    </td><td>  45</td><td> 958</td><td>0.04697286</td><td>Repressor (4.7%)</td></tr>\n",
       "\t<tr><td>Promoter </td><td>Not Significant</td><td>4034</td><td>5057</td><td>0.79770615</td><td>Promoter (20.2%)</td></tr>\n",
       "\t<tr><td>Promoter </td><td>Significant    </td><td>1023</td><td>5057</td><td>0.20229385</td><td>Promoter (20.2%)</td></tr>\n",
       "\t<tr><td>Enhancer </td><td>Not Significant</td><td>8688</td><td>9273</td><td>0.93691362</td><td>Enhancer (6.3%) </td></tr>\n",
       "\t<tr><td>Enhancer </td><td>Significant    </td><td> 585</td><td>9273</td><td>0.06308638</td><td>Enhancer (6.3%) </td></tr>\n",
       "</tbody>\n",
       "</table>\n"
      ],
      "text/latex": [
       "A tibble: 6 × 6\n",
       "\\begin{tabular}{llllll}\n",
       " Label & CRISPR & Count & Total & Freq & Label2\\\\\n",
       " <fct> & <chr> & <int> & <int> & <dbl> & <fct>\\\\\n",
       "\\hline\n",
       "\t Repressor & Not Significant &  913 &  958 & 0.95302714 & Repressor (4.7\\%)\\\\\n",
       "\t Repressor & Significant     &   45 &  958 & 0.04697286 & Repressor (4.7\\%)\\\\\n",
       "\t Promoter  & Not Significant & 4034 & 5057 & 0.79770615 & Promoter (20.2\\%)\\\\\n",
       "\t Promoter  & Significant     & 1023 & 5057 & 0.20229385 & Promoter (20.2\\%)\\\\\n",
       "\t Enhancer  & Not Significant & 8688 & 9273 & 0.93691362 & Enhancer (6.3\\%) \\\\\n",
       "\t Enhancer  & Significant     &  585 & 9273 & 0.06308638 & Enhancer (6.3\\%) \\\\\n",
       "\\end{tabular}\n"
      ],
      "text/markdown": [
       "\n",
       "A tibble: 6 × 6\n",
       "\n",
       "| Label &lt;fct&gt; | CRISPR &lt;chr&gt; | Count &lt;int&gt; | Total &lt;int&gt; | Freq &lt;dbl&gt; | Label2 &lt;fct&gt; |\n",
       "|---|---|---|---|---|---|\n",
       "| Repressor | Not Significant |  913 |  958 | 0.95302714 | Repressor (4.7%) |\n",
       "| Repressor | Significant     |   45 |  958 | 0.04697286 | Repressor (4.7%) |\n",
       "| Promoter  | Not Significant | 4034 | 5057 | 0.79770615 | Promoter (20.2%) |\n",
       "| Promoter  | Significant     | 1023 | 5057 | 0.20229385 | Promoter (20.2%) |\n",
       "| Enhancer  | Not Significant | 8688 | 9273 | 0.93691362 | Enhancer (6.3%)  |\n",
       "| Enhancer  | Significant     |  585 | 9273 | 0.06308638 | Enhancer (6.3%)  |\n",
       "\n"
      ],
      "text/plain": [
       "  Label     CRISPR          Count Total Freq       Label2          \n",
       "1 Repressor Not Significant  913   958  0.95302714 Repressor (4.7%)\n",
       "2 Repressor Significant       45   958  0.04697286 Repressor (4.7%)\n",
       "3 Promoter  Not Significant 4034  5057  0.79770615 Promoter (20.2%)\n",
       "4 Promoter  Significant     1023  5057  0.20229385 Promoter (20.2%)\n",
       "5 Enhancer  Not Significant 8688  9273  0.93691362 Enhancer (6.3%) \n",
       "6 Enhancer  Significant      585  9273  0.06308638 Enhancer (6.3%) "
      ]
     },
     "metadata": {},
     "output_type": "display_data"
    }
   ],
   "source": [
    "dat = dat_region_annot_summary_crispr\n",
    "tmp = dat %>%\n",
    "    dplyr::filter(CRISPR == \"Significant\") %>%\n",
    "    dplyr::mutate(Freq_Label = paste0(round(Freq * 100, 1), \"%\")) %>%\n",
    "    dplyr::mutate(Label2 = paste0(Label, \" \", \"(\", Freq_Label, \")\")) %>%\n",
    "    dplyr::select(Label, Label2)\n",
    "\n",
    "dat = dat_region_annot_summary_crispr\n",
    "dat = dplyr::left_join(dat, tmp, by = \"Label\")\n",
    "\n",
    "vec = c(\"Enhancer\", \"Promoter\", \"Repressor\")\n",
    "dat = dat %>% \n",
    "    dplyr::mutate(Label = factor(Label, levels=rev(vec))) %>% \n",
    "    dplyr::arrange(Label) %>%\n",
    "    dplyr::mutate(Label2 = factor(Label2, levels=unique(Label2)))\n",
    "\n",
    "dat_region_annot_plot = dat\n",
    "dat"
   ]
  },
  {
   "cell_type": "code",
   "execution_count": 68,
   "id": "1c056944-7aea-4c83-a925-e50bcbdfba67",
   "metadata": {},
   "outputs": [
    {
     "data": {
      "image/png": "[encoded data removed]",
      "text/plain": [
       "plot without title"
      ]
     },
     "metadata": {
      "image/png": {
       "height": 180,
       "width": 480
      }
     },
     "output_type": "display_data"
    }
   ],
   "source": [
    "dat = dat_region_annot_plot                      \n",
    "gpt = ggplot(dat, aes(y = Label2, x = Freq, fill = CRISPR)) + \n",
    "    geom_bar(stat = \"identity\") +\n",
    "    scale_fill_manual(values = c(\"grey50\", \"#fb8072\")) +\n",
    "    labs(x=\"Percentage\", y = \"\") +\n",
    "    theme_cowplot() +\n",
    "    background_grid(\n",
    "        major = \"x\",\n",
    "        minor = \"x\",\n",
    "        size.major = 1,\n",
    "        size.minor = 1,\n",
    "    ) +\n",
    "    theme(axis.text.y = element_text(size=15))\n",
    "\n",
    "options(repr.plot.height=3, repr.plot.width=8)\n",
    "print(gpt)"
   ]
  },
  {
   "cell_type": "code",
   "execution_count": 77,
   "id": "3bfad2c7-a2b8-482f-9b03-2130366c406d",
   "metadata": {},
   "outputs": [
    {
     "name": "stdout",
     "output_type": "stream",
     "text": [
      "[1] 18341\n"
     ]
    }
   ],
   "source": [
    "dat = dat_region_annot_subset\n",
    "dat = dat %>% dplyr::filter(Num_Assay > 1)\n",
    "\n",
    "vec = dat$Region\n",
    "vec = unique(vec)\n",
    "print(length(vec))"
   ]
  },
  {
   "cell_type": "code",
   "execution_count": 80,
   "id": "adf565c1-f259-42cf-b961-a8a67bd15729",
   "metadata": {},
   "outputs": [
    {
     "name": "stdout",
     "output_type": "stream",
     "text": [
      "[1] 15285\n"
     ]
    }
   ],
   "source": [
    "dat = dat_region_annot_subset\n",
    "dat = dat %>% dplyr::filter(Num_Assay > 1)\n",
    "dat = dat %>% dplyr::filter(Screen_CRISPR_Total == 1)\n",
    "\n",
    "vec = dat$Region\n",
    "vec = unique(vec)\n",
    "print(length(vec))"
   ]
  },
  {
   "cell_type": "code",
   "execution_count": 81,
   "id": "600eff7e-4b07-4cb2-9d45-747d38389c66",
   "metadata": {},
   "outputs": [
    {
     "name": "stdout",
     "output_type": "stream",
     "text": [
      "[1] 1652\n"
     ]
    }
   ],
   "source": [
    "dat = dat_region_annot_subset\n",
    "dat = dat %>% dplyr::filter(Num_Assay > 1)\n",
    "dat = dat %>% dplyr::filter(Screen_CRISPR_Total == 1)\n",
    "dat = dat %>% dplyr::filter(Signif_CRISPR_Total == 1)\n",
    "\n",
    "vec = dat$Region\n",
    "vec = unique(vec)\n",
    "print(length(vec))"
   ]
  },
  {
   "cell_type": "code",
   "execution_count": 75,
   "id": "314b43bc-a6f8-4fef-a509-0f358f94c2fd",
   "metadata": {},
   "outputs": [
    {
     "name": "stdout",
     "output_type": "stream",
     "text": [
      "[1] 18346\n"
     ]
    }
   ],
   "source": [
    "dat = dat_region_annot_summary\n",
    "vec = dat$Count\n",
    "num = sum(vec)\n",
    "print(num)"
   ]
  },
  {
   "cell_type": "code",
   "execution_count": 70,
   "id": "bf5e2116-573d-4aeb-809e-f4f71c50932d",
   "metadata": {},
   "outputs": [
    {
     "name": "stdout",
     "output_type": "stream",
     "text": [
      "[1] 15288\n",
      "[1] 1653\n"
     ]
    }
   ],
   "source": [
    "dat = dat_region_annot_summary_crispr\n",
    "vec = dat$Count\n",
    "num = sum(vec)\n",
    "print(num)\n",
    "\n",
    "dat = dat_region_annot_summary_crispr\n",
    "dat = dat %>% dplyr::filter(CRISPR == \"Significant\")\n",
    "vec = dat$Count\n",
    "num = sum(vec)\n",
    "print(num)"
   ]
  },
  {
   "cell_type": "code",
   "execution_count": null,
   "id": "a691fe81-05ff-46bb-b9bf-4edfd952754a",
   "metadata": {},
   "outputs": [],
   "source": []
  },
  {
   "cell_type": "code",
   "execution_count": null,
   "id": "78bc961b-7503-4140-a760-19ad93aad84f",
   "metadata": {},
   "outputs": [],
   "source": []
  },
  {
   "cell_type": "code",
   "execution_count": null,
   "id": "cc2510b0-ee60-4bc3-9400-18a744a9f3f3",
   "metadata": {},
   "outputs": [],
   "source": []
  },
  {
   "cell_type": "code",
   "execution_count": 18,
   "id": "fc946542-250c-4794-8e73-af97f8f8908c",
   "metadata": {},
   "outputs": [
    {
     "name": "stdout",
     "output_type": "stream",
     "text": [
      "[1] 6 5\n"
     ]
    },
    {
     "data": {
      "text/html": [
       "<table>\n",
       " <thead>\n",
       "  <tr>\n",
       "   <th style=\"text-align:left;\"> Label </th>\n",
       "   <th style=\"text-align:left;\"> CRISPR </th>\n",
       "   <th style=\"text-align:right;\"> Count </th>\n",
       "   <th style=\"text-align:right;\"> Total </th>\n",
       "   <th style=\"text-align:right;\"> Freq </th>\n",
       "  </tr>\n",
       " </thead>\n",
       "<tbody>\n",
       "  <tr>\n",
       "   <td style=\"text-align:left;\"> Enhancer </td>\n",
       "   <td style=\"text-align:left;\"> Not Significant </td>\n",
       "   <td style=\"text-align:right;\"> 8688 </td>\n",
       "   <td style=\"text-align:right;\"> 9273 </td>\n",
       "   <td style=\"text-align:right;\"> 0.9369136 </td>\n",
       "  </tr>\n",
       "  <tr>\n",
       "   <td style=\"text-align:left;\"> Enhancer </td>\n",
       "   <td style=\"text-align:left;\"> Significant </td>\n",
       "   <td style=\"text-align:right;\"> 585 </td>\n",
       "   <td style=\"text-align:right;\"> 9273 </td>\n",
       "   <td style=\"text-align:right;\"> 0.0630864 </td>\n",
       "  </tr>\n",
       "  <tr>\n",
       "   <td style=\"text-align:left;\"> Promoter </td>\n",
       "   <td style=\"text-align:left;\"> Not Significant </td>\n",
       "   <td style=\"text-align:right;\"> 4034 </td>\n",
       "   <td style=\"text-align:right;\"> 5057 </td>\n",
       "   <td style=\"text-align:right;\"> 0.7977061 </td>\n",
       "  </tr>\n",
       "  <tr>\n",
       "   <td style=\"text-align:left;\"> Promoter </td>\n",
       "   <td style=\"text-align:left;\"> Significant </td>\n",
       "   <td style=\"text-align:right;\"> 1023 </td>\n",
       "   <td style=\"text-align:right;\"> 5057 </td>\n",
       "   <td style=\"text-align:right;\"> 0.2022939 </td>\n",
       "  </tr>\n",
       "  <tr>\n",
       "   <td style=\"text-align:left;\"> Repressor </td>\n",
       "   <td style=\"text-align:left;\"> Not Significant </td>\n",
       "   <td style=\"text-align:right;\"> 913 </td>\n",
       "   <td style=\"text-align:right;\"> 958 </td>\n",
       "   <td style=\"text-align:right;\"> 0.9530271 </td>\n",
       "  </tr>\n",
       "  <tr>\n",
       "   <td style=\"text-align:left;\"> Repressor </td>\n",
       "   <td style=\"text-align:left;\"> Significant </td>\n",
       "   <td style=\"text-align:right;\"> 45 </td>\n",
       "   <td style=\"text-align:right;\"> 958 </td>\n",
       "   <td style=\"text-align:right;\"> 0.0469729 </td>\n",
       "  </tr>\n",
       "</tbody>\n",
       "</table>"
      ]
     },
     "metadata": {},
     "output_type": "display_data"
    }
   ],
   "source": [
    "dat = dat_region_annot_subset\n",
    "\n",
    "dat = dat %>% \n",
    "    dplyr::filter(Screen_CRISPR_Total == 1) %>%\n",
    "    dplyr::mutate(\n",
    "        Label  = Label2,\n",
    "        CRISPR = Signif_CRISPR_Total\n",
    "    )\n",
    "\n",
    "dat = dat %>% \n",
    "    dplyr::select(Region, Type, Label, CRISPR) %>%\n",
    "    dplyr::mutate(CRISPR = ifelse(CRISPR == 1, \"Significant\", \"Not Significant\")) %>% \n",
    "    dplyr::distinct()\n",
    "\n",
    "dat = dat %>%\n",
    "    dplyr::group_by(Label, CRISPR) %>%\n",
    "    dplyr::summarise(Count = n(), .groups = \"drop\") %>%\n",
    "    dplyr::group_by(Label) %>%\n",
    "    dplyr::mutate(Total = sum(Count)) %>%\n",
    "    dplyr::ungroup() %>%\n",
    "    dplyr::mutate(Freq = Count / Total)\n",
    "\n",
    "dat_region_annot_summary = dat\n",
    "print(dim(dat))\n",
    "fun_display_table(dat)"
   ]
  },
  {
   "cell_type": "code",
   "execution_count": 20,
   "id": "53afe337-ec71-457a-b596-4f63e4618589",
   "metadata": {},
   "outputs": [
    {
     "data": {
      "image/png": "[encoded data removed]",
      "text/plain": [
       "plot without title"
      ]
     },
     "metadata": {
      "image/png": {
       "height": 420,
       "width": 420
      }
     },
     "output_type": "display_data"
    }
   ],
   "source": [
    "dat = dat_region_annot_summary\n",
    "gpt = ggplot(dat, aes(x=Freq, y = Label, fill = CRISPR)) +\n",
    "    geom_bar(position=\"stack\", stat=\"identity\")\n",
    "\n",
    "print(gpt)"
   ]
  },
  {
   "cell_type": "code",
   "execution_count": null,
   "id": "9dccfd11-bf8f-4218-9000-6f32992291a6",
   "metadata": {},
   "outputs": [],
   "source": []
  },
  {
   "cell_type": "code",
   "execution_count": null,
   "id": "4cf96fc4-143e-4350-bb2a-6849c5ba937d",
   "metadata": {},
   "outputs": [],
   "source": []
  },
  {
   "cell_type": "code",
   "execution_count": null,
   "id": "4dfac6eb-2f73-43c1-a8de-807473210094",
   "metadata": {},
   "outputs": [],
   "source": []
  },
  {
   "cell_type": "code",
   "execution_count": 30,
   "id": "53b1ceb3-c4da-4fc4-928b-3056a3595394",
   "metadata": {},
   "outputs": [
    {
     "name": "stdout",
     "output_type": "stream",
     "text": [
      "[1] 6 3\n"
     ]
    },
    {
     "data": {
      "text/html": [
       "<table>\n",
       " <thead>\n",
       "  <tr>\n",
       "   <th style=\"text-align:left;\"> Label </th>\n",
       "   <th style=\"text-align:left;\"> CRISPR </th>\n",
       "   <th style=\"text-align:right;\"> Count </th>\n",
       "  </tr>\n",
       " </thead>\n",
       "<tbody>\n",
       "  <tr>\n",
       "   <td style=\"text-align:left;\"> Enhancer </td>\n",
       "   <td style=\"text-align:left;\"> Not screened/Not Significant </td>\n",
       "   <td style=\"text-align:right;\"> 11038 </td>\n",
       "  </tr>\n",
       "  <tr>\n",
       "   <td style=\"text-align:left;\"> Enhancer </td>\n",
       "   <td style=\"text-align:left;\"> Significant </td>\n",
       "   <td style=\"text-align:right;\"> 585 </td>\n",
       "  </tr>\n",
       "  <tr>\n",
       "   <td style=\"text-align:left;\"> Promoter </td>\n",
       "   <td style=\"text-align:left;\"> Not screened/Not Significant </td>\n",
       "   <td style=\"text-align:right;\"> 4059 </td>\n",
       "  </tr>\n",
       "</tbody>\n",
       "</table>"
      ]
     },
     "metadata": {},
     "output_type": "display_data"
    }
   ],
   "source": [
    "vec = c(\"Enhancer\", \"Repressor\")\n",
    "dat = dat_region_annot_fcc_label\n",
    "dat = dat %>% \n",
    "    dplyr::filter(Type %in% vec) %>%\n",
    "    dplyr::filter(Num_Assay > 1) %>%\n",
    "    dplyr::select(Region, Label2, CRISPR) %>% \n",
    "    dplyr::distinct()\n",
    "\n",
    "dat = dat %>%\n",
    "    dplyr::mutate(Label = Label2) %>%\n",
    "    dplyr::mutate(CRISPR = ifelse(CRISPR == 1, \"Significant\", \"Not screened/Not Significant\"))\n",
    "    \n",
    "\n",
    "dat = dat %>%\n",
    "    dplyr::group_by(Label, CRISPR) %>%\n",
    "    dplyr::summarise(Count = n(), .groups = \"drop\")\n",
    "\n",
    "dat_region_annot_summary = dat\n",
    "print(dim(dat))\n",
    "fun_display_table(head(dat, 3))"
   ]
  },
  {
   "cell_type": "code",
   "execution_count": 36,
   "id": "74e3da76-79c3-4336-95ed-aa770c713f12",
   "metadata": {},
   "outputs": [
    {
     "data": {
      "image/png": "[encoded data removed]",
      "text/plain": [
       "plot without title"
      ]
     },
     "metadata": {
      "image/png": {
       "height": 300,
       "width": 600
      }
     },
     "output_type": "display_data"
    }
   ],
   "source": [
    "dat = dat_region_annot_summary\n",
    "vec = c(\"Enhancer\", \"Promoter\", \"Repressor\")\n",
    "dat = dat %>% dplyr::mutate(Label = factor(Label, levels=rev(vec)))\n",
    "                            \n",
    "gpt = ggplot(dat, aes(y = Label, x = Count, fill = CRISPR)) + \n",
    "    geom_bar(stat = \"identity\") +\n",
    "    scale_fill_manual(values = c(\"grey50\", \"#fb8072\")) +\n",
    "    labs(y = \"\") +\n",
    "    theme_cowplot() +\n",
    "    background_grid(\n",
    "        major = \"x\",\n",
    "        minor = \"x\",\n",
    "        size.major = 1,\n",
    "        size.minor = 1,\n",
    "    )\n",
    "\n",
    "options(repr.plot.height=5, repr.plot.width=10)\n",
    "print(gpt)"
   ]
  },
  {
   "cell_type": "code",
   "execution_count": null,
   "id": "94bc1687-e8ae-446f-a0f7-c7d158b1f961",
   "metadata": {},
   "outputs": [],
   "source": []
  }
 ],
 "metadata": {
  "kernelspec": {
   "display_name": "R",
   "language": "R",
   "name": "ir"
  },
  "language_info": {
   "codemirror_mode": "r",
   "file_extension": ".r",
   "mimetype": "text/x-r-source",
   "name": "R",
   "pygments_lexer": "r",
   "version": "4.4.2"
  }
 },
 "nbformat": 4,
 "nbformat_minor": 5
}
