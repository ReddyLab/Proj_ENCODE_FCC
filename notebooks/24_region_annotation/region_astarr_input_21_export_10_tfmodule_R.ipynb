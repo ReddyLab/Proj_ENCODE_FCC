{
 "cells": [
  {
   "cell_type": "raw",
   "id": "f1d86f7a-ca3f-4124-9a56-d01e11d1024d",
   "metadata": {},
   "source": [
    "---\n",
    "title: FCC Peak calls\n",
    "subtitle: export annotation\n",
    "format:\n",
    "    html:\n",
    "        code-fold:  true\n",
    "        code-tools: true\n",
    "---"
   ]
  },
  {
   "cell_type": "markdown",
   "id": "6e4ef43d-af2c-420c-93ce-930f9bd6dc15",
   "metadata": {},
   "source": [
    "**Set environment**"
   ]
  },
  {
   "cell_type": "code",
   "execution_count": 2,
   "id": "0ba10054-edc9-4e77-beaa-221563f932c2",
   "metadata": {
    "tags": []
   },
   "outputs": [
    {
     "name": "stdout",
     "output_type": "stream",
     "text": [
      "You are working on        Singularity: singularity_proj_encode_fcc \n",
      "BASE DIRECTORY (FD_BASE): /data/reddylab/Kuei \n",
      "REPO DIRECTORY (FD_REPO): /data/reddylab/Kuei/repo \n",
      "WORK DIRECTORY (FD_WORK): /data/reddylab/Kuei/work \n",
      "DATA DIRECTORY (FD_DATA): /data/reddylab/Kuei/data \n",
      "\n",
      "You are working with      ENCODE FCC \n",
      "PATH OF PROJECT (FD_PRJ): /data/reddylab/Kuei/repo/Proj_ENCODE_FCC \n",
      "PROJECT RESULTS (FD_RES): /data/reddylab/Kuei/repo/Proj_ENCODE_FCC/results \n",
      "PROJECT SCRIPTS (FD_EXE): /data/reddylab/Kuei/repo/Proj_ENCODE_FCC/scripts \n",
      "PROJECT DATA    (FD_DAT): /data/reddylab/Kuei/repo/Proj_ENCODE_FCC/data \n",
      "PROJECT NOTE    (FD_NBK): /data/reddylab/Kuei/repo/Proj_ENCODE_FCC/notebooks \n",
      "PROJECT DOCS    (FD_DOC): /data/reddylab/Kuei/repo/Proj_ENCODE_FCC/docs \n",
      "PROJECT LOG     (FD_LOG): /data/reddylab/Kuei/repo/Proj_ENCODE_FCC/log \n",
      "PROJECT REF     (FD_REF): /data/reddylab/Kuei/repo/Proj_ENCODE_FCC/references \n",
      "\n"
     ]
    }
   ],
   "source": [
    "suppressMessages(suppressWarnings(source(\"../run_config_project_sing.R\")))\n",
    "show_env()"
   ]
  },
  {
   "cell_type": "markdown",
   "id": "db8f9ff6-96e7-4ded-85c9-1fc6c3c3a103",
   "metadata": {},
   "source": [
    "## Prepare"
   ]
  },
  {
   "cell_type": "markdown",
   "id": "ad1c0128-d4f3-45ce-84ff-0e607ea0dcf3",
   "metadata": {},
   "source": [
    "**Set global variable**"
   ]
  },
  {
   "cell_type": "code",
   "execution_count": 3,
   "id": "e523e3b3-bfe8-4fe4-8b0b-ad5907913007",
   "metadata": {},
   "outputs": [],
   "source": [
    "TXT_FNAME_INP = \"region.intersect.summary.module_tf_shannon.tsv\"\n",
    "TXT_FNAME_OUT = \"region.annotation.genome_tss.tsv\""
   ]
  },
  {
   "cell_type": "markdown",
   "id": "08bbea29-0976-45e9-8c28-bb90f48a191b",
   "metadata": {},
   "source": [
    "**View files**"
   ]
  },
  {
   "cell_type": "code",
   "execution_count": 4,
   "id": "1a36f8c5-11ff-4370-84b2-76bb7fce2b9f",
   "metadata": {},
   "outputs": [
    {
     "name": "stdout",
     "output_type": "stream",
     "text": [
      "fcc_astarr_macs_input_overlap \n",
      "fcc_astarr_macs_input_union \n"
     ]
    }
   ],
   "source": [
    "### get annotated region folder\n",
    "txt_fdiry = file.path(FD_RES, \"region_annotation\")\n",
    "vec = dir(txt_fdiry)\n",
    "\n",
    "### assign and show\n",
    "vec_txt_folder = vec\n",
    "for(txt in vec){cat(txt, \"\\n\")}"
   ]
  },
  {
   "cell_type": "code",
   "execution_count": 5,
   "id": "8e7726bd-fdab-4786-93fe-e421041c1a6b",
   "metadata": {},
   "outputs": [
    {
     "name": "stdout",
     "output_type": "stream",
     "text": [
      "/data/reddylab/Kuei/repo/Proj_ENCODE_FCC/results/region_annotation/fcc_astarr_macs_input_overlap/summary/region.intersect.summary.module_tf_shannon.tsv \n",
      "/data/reddylab/Kuei/repo/Proj_ENCODE_FCC/results/region_annotation/fcc_astarr_macs_input_union/summary/region.intersect.summary.module_tf_shannon.tsv \n"
     ]
    }
   ],
   "source": [
    "txt_fdiry = file.path(FD_RES, \"region_annotation\", \"*\", \"summary\")\n",
    "txt_fname = TXT_FNAME_INP\n",
    "txt_fglob = file.path(txt_fdiry, txt_fname)\n",
    "\n",
    "vec = Sys.glob(txt_fglob)\n",
    "for(txt in vec){cat(txt, \"\\n\")}"
   ]
  },
  {
   "cell_type": "markdown",
   "id": "bfbc5eec-64a7-4f61-aa5b-8ce220402db2",
   "metadata": {},
   "source": [
    "## Import data"
   ]
  },
  {
   "cell_type": "markdown",
   "id": "f4a2880f-10d2-44b7-969a-ea5bff8adf18",
   "metadata": {},
   "source": [
    "**Import region pairs**"
   ]
  },
  {
   "cell_type": "code",
   "execution_count": 6,
   "id": "cbbe69a7-7206-4370-a21b-2a67ad9a1065",
   "metadata": {},
   "outputs": [
    {
     "name": "stdout",
     "output_type": "stream",
     "text": [
      "$fcc_astarr_macs_input_overlap\n",
      "[1] 261836     10\n",
      "\n",
      "$fcc_astarr_macs_input_union\n",
      "[1] 290390     10\n",
      "\n"
     ]
    },
    {
     "data": {
      "text/html": [
       "<table>\n",
       " <thead>\n",
       "  <tr>\n",
       "   <th style=\"text-align:left;\"> Chrom </th>\n",
       "   <th style=\"text-align:right;\"> ChromStart </th>\n",
       "   <th style=\"text-align:right;\"> ChromEnd </th>\n",
       "   <th style=\"text-align:left;\"> Region </th>\n",
       "   <th style=\"text-align:left;\"> Annotation_A </th>\n",
       "   <th style=\"text-align:left;\"> Annotation_B </th>\n",
       "   <th style=\"text-align:left;\"> Group </th>\n",
       "   <th style=\"text-align:left;\"> Label </th>\n",
       "   <th style=\"text-align:left;\"> Region_Annot </th>\n",
       "   <th style=\"text-align:right;\"> Region_Count </th>\n",
       "  </tr>\n",
       " </thead>\n",
       "<tbody>\n",
       "  <tr>\n",
       "   <td style=\"text-align:left;\"> chr1 </td>\n",
       "   <td style=\"text-align:right;\"> 115429 </td>\n",
       "   <td style=\"text-align:right;\"> 115969 </td>\n",
       "   <td style=\"text-align:left;\"> chr1:115429-115969 </td>\n",
       "   <td style=\"text-align:left;\"> fcc_astarr_macs_input_overlap </td>\n",
       "   <td style=\"text-align:left;\"> module_tf_shannon </td>\n",
       "   <td style=\"text-align:left;\"> TF_Module </td>\n",
       "   <td style=\"text-align:left;\"> Module_02 </td>\n",
       "   <td style=\"text-align:left;\"> chr1:115702-115751 </td>\n",
       "   <td style=\"text-align:right;\"> 1 </td>\n",
       "  </tr>\n",
       "  <tr>\n",
       "   <td style=\"text-align:left;\"> chr1 </td>\n",
       "   <td style=\"text-align:right;\"> 115429 </td>\n",
       "   <td style=\"text-align:right;\"> 115969 </td>\n",
       "   <td style=\"text-align:left;\"> chr1:115429-115969 </td>\n",
       "   <td style=\"text-align:left;\"> fcc_astarr_macs_input_overlap </td>\n",
       "   <td style=\"text-align:left;\"> module_tf_shannon </td>\n",
       "   <td style=\"text-align:left;\"> TF_Module </td>\n",
       "   <td style=\"text-align:left;\"> Module_05 </td>\n",
       "   <td style=\"text-align:left;\"> chr1:115702-115751 </td>\n",
       "   <td style=\"text-align:right;\"> 1 </td>\n",
       "  </tr>\n",
       "  <tr>\n",
       "   <td style=\"text-align:left;\"> chr1 </td>\n",
       "   <td style=\"text-align:right;\"> 115429 </td>\n",
       "   <td style=\"text-align:right;\"> 115969 </td>\n",
       "   <td style=\"text-align:left;\"> chr1:115429-115969 </td>\n",
       "   <td style=\"text-align:left;\"> fcc_astarr_macs_input_overlap </td>\n",
       "   <td style=\"text-align:left;\"> module_tf_shannon </td>\n",
       "   <td style=\"text-align:left;\"> TF_Module </td>\n",
       "   <td style=\"text-align:left;\"> Module_10 </td>\n",
       "   <td style=\"text-align:left;\"> chr1:115702-115751 </td>\n",
       "   <td style=\"text-align:right;\"> 1 </td>\n",
       "  </tr>\n",
       "</tbody>\n",
       "</table>"
      ]
     },
     "metadata": {},
     "output_type": "display_data"
    }
   ],
   "source": [
    "### loop to import data\n",
    "lst = lapply(vec_txt_folder, function(txt_folder){\n",
    "    ### set file directory\n",
    "    txt_fdiry = file.path(FD_RES, \"region_annotation\", txt_folder, \"summary\")\n",
    "    txt_fname = TXT_FNAME_INP\n",
    "    txt_fpath = file.path(txt_fdiry, txt_fname)\n",
    "\n",
    "    ### read table\n",
    "    dat = read_tsv(txt_fpath, show_col_types = FALSE)\n",
    "    return(dat)\n",
    "})\n",
    "names(lst) = vec_txt_folder\n",
    "\n",
    "### assign and show\n",
    "lst_dat_region_annot_import = lst\n",
    "\n",
    "res = lapply(lst, dim)\n",
    "print(res)\n",
    "\n",
    "dat = lst[[1]]\n",
    "fun_display_table(head(dat, 3))"
   ]
  },
  {
   "cell_type": "markdown",
   "id": "168be6bc-3225-4a54-bd93-e6bb3dc7573c",
   "metadata": {},
   "source": [
    "**Explore: Group**"
   ]
  },
  {
   "cell_type": "code",
   "execution_count": 7,
   "id": "62394385-9a3c-48f7-a773-5583bedc19c2",
   "metadata": {},
   "outputs": [
    {
     "data": {
      "text/html": [
       "<table>\n",
       " <thead>\n",
       "  <tr>\n",
       "   <th style=\"text-align:left;\"> Region </th>\n",
       "   <th style=\"text-align:right;\"> TF_Module </th>\n",
       "  </tr>\n",
       " </thead>\n",
       "<tbody>\n",
       "  <tr>\n",
       "   <td style=\"text-align:left;\"> fcc_astarr_macs_input_overlap </td>\n",
       "   <td style=\"text-align:right;\"> 261836 </td>\n",
       "  </tr>\n",
       "  <tr>\n",
       "   <td style=\"text-align:left;\"> fcc_astarr_macs_input_union </td>\n",
       "   <td style=\"text-align:right;\"> 290390 </td>\n",
       "  </tr>\n",
       "</tbody>\n",
       "</table>"
      ]
     },
     "metadata": {},
     "output_type": "display_data"
    }
   ],
   "source": [
    "lst = lst_dat_region_annot_import\n",
    "lst = lapply(lst, function(dat){\n",
    "    res = table(dat$Group, dnn = \"Group\")\n",
    "    dat = as.data.frame(res)\n",
    "    return(res)\n",
    "})\n",
    "\n",
    "dat = bind_rows(lst, .id = \"Region\")\n",
    "fun_display_table(dat)"
   ]
  },
  {
   "cell_type": "markdown",
   "id": "f884a1cf-aac8-422e-b84b-aa4792715a98",
   "metadata": {},
   "source": [
    "**Explore: Group x Label**"
   ]
  },
  {
   "cell_type": "code",
   "execution_count": 8,
   "id": "c18387de-d359-4bbe-8fcc-61ad45e29da5",
   "metadata": {},
   "outputs": [
    {
     "data": {
      "text/html": [
       "<table>\n",
       " <thead>\n",
       "  <tr>\n",
       "   <th style=\"text-align:left;\"> Region </th>\n",
       "   <th style=\"text-align:left;\"> Group </th>\n",
       "   <th style=\"text-align:right;\"> Module_01 </th>\n",
       "   <th style=\"text-align:right;\"> Module_02 </th>\n",
       "   <th style=\"text-align:right;\"> Module_03 </th>\n",
       "   <th style=\"text-align:right;\"> Module_04 </th>\n",
       "   <th style=\"text-align:right;\"> Module_05 </th>\n",
       "   <th style=\"text-align:right;\"> Module_06 </th>\n",
       "   <th style=\"text-align:right;\"> Module_07 </th>\n",
       "   <th style=\"text-align:right;\"> Module_08 </th>\n",
       "   <th style=\"text-align:right;\"> Module_09 </th>\n",
       "   <th style=\"text-align:right;\"> Module_10 </th>\n",
       "   <th style=\"text-align:right;\"> Module_11 </th>\n",
       "   <th style=\"text-align:right;\"> Module_12 </th>\n",
       "   <th style=\"text-align:right;\"> Module_13 </th>\n",
       "   <th style=\"text-align:right;\"> Module_14 </th>\n",
       "   <th style=\"text-align:right;\"> Module_15 </th>\n",
       "   <th style=\"text-align:right;\"> Module_16 </th>\n",
       "   <th style=\"text-align:right;\"> Module_17 </th>\n",
       "   <th style=\"text-align:right;\"> Module_18 </th>\n",
       "   <th style=\"text-align:right;\"> Module_19 </th>\n",
       "   <th style=\"text-align:right;\"> Module_20 </th>\n",
       "   <th style=\"text-align:right;\"> Module_21 </th>\n",
       "   <th style=\"text-align:right;\"> Module_22 </th>\n",
       "   <th style=\"text-align:right;\"> Module_23 </th>\n",
       "   <th style=\"text-align:right;\"> Module_24 </th>\n",
       "   <th style=\"text-align:right;\"> Module_25 </th>\n",
       "   <th style=\"text-align:right;\"> Module_26 </th>\n",
       "   <th style=\"text-align:right;\"> Module_27 </th>\n",
       "   <th style=\"text-align:right;\"> Module_28 </th>\n",
       "   <th style=\"text-align:right;\"> Module_29 </th>\n",
       "   <th style=\"text-align:right;\"> Module_30 </th>\n",
       "   <th style=\"text-align:right;\"> Module_31 </th>\n",
       "   <th style=\"text-align:right;\"> Module_33 </th>\n",
       "   <th style=\"text-align:right;\"> Module_34 </th>\n",
       "   <th style=\"text-align:right;\"> Module_35 </th>\n",
       "   <th style=\"text-align:right;\"> Module_36 </th>\n",
       "   <th style=\"text-align:right;\"> Module_37 </th>\n",
       "   <th style=\"text-align:right;\"> Module_39 </th>\n",
       "   <th style=\"text-align:right;\"> Module_40 </th>\n",
       "   <th style=\"text-align:right;\"> Module_41 </th>\n",
       "   <th style=\"text-align:right;\"> Module_42 </th>\n",
       "   <th style=\"text-align:right;\"> Module_43 </th>\n",
       "   <th style=\"text-align:right;\"> Module_44 </th>\n",
       "   <th style=\"text-align:right;\"> Module_45 </th>\n",
       "   <th style=\"text-align:right;\"> Module_46 </th>\n",
       "   <th style=\"text-align:right;\"> Module_47 </th>\n",
       "   <th style=\"text-align:right;\"> Module_48 </th>\n",
       "   <th style=\"text-align:right;\"> Module_49 </th>\n",
       "   <th style=\"text-align:right;\"> Module_50 </th>\n",
       "   <th style=\"text-align:right;\"> Module_51 </th>\n",
       "   <th style=\"text-align:right;\"> Module_52 </th>\n",
       "   <th style=\"text-align:right;\"> Module_53 </th>\n",
       "   <th style=\"text-align:right;\"> Module_54 </th>\n",
       "   <th style=\"text-align:right;\"> Module_55 </th>\n",
       "   <th style=\"text-align:right;\"> Module_56 </th>\n",
       "   <th style=\"text-align:right;\"> Module_57 </th>\n",
       "   <th style=\"text-align:right;\"> Module_58 </th>\n",
       "   <th style=\"text-align:right;\"> Module_59 </th>\n",
       "   <th style=\"text-align:right;\"> Module_61 </th>\n",
       "   <th style=\"text-align:right;\"> Module_63 </th>\n",
       "   <th style=\"text-align:right;\"> Module_64 </th>\n",
       "   <th style=\"text-align:right;\"> Module_65 </th>\n",
       "   <th style=\"text-align:right;\"> Module_66 </th>\n",
       "   <th style=\"text-align:right;\"> Module_67 </th>\n",
       "   <th style=\"text-align:right;\"> Module_68 </th>\n",
       "   <th style=\"text-align:right;\"> Module_71 </th>\n",
       "   <th style=\"text-align:right;\"> Module_72 </th>\n",
       "   <th style=\"text-align:right;\"> Module_73 </th>\n",
       "   <th style=\"text-align:right;\"> Module_74 </th>\n",
       "   <th style=\"text-align:right;\"> Module_75 </th>\n",
       "   <th style=\"text-align:right;\"> Module_77 </th>\n",
       "  </tr>\n",
       " </thead>\n",
       "<tbody>\n",
       "  <tr>\n",
       "   <td style=\"text-align:left;\"> fcc_astarr_macs_input_overlap </td>\n",
       "   <td style=\"text-align:left;\"> TF_Module </td>\n",
       "   <td style=\"text-align:right;\"> 6134 </td>\n",
       "   <td style=\"text-align:right;\"> 12700 </td>\n",
       "   <td style=\"text-align:right;\"> 3226 </td>\n",
       "   <td style=\"text-align:right;\"> 5283 </td>\n",
       "   <td style=\"text-align:right;\"> 2926 </td>\n",
       "   <td style=\"text-align:right;\"> 8480 </td>\n",
       "   <td style=\"text-align:right;\"> 2119 </td>\n",
       "   <td style=\"text-align:right;\"> 522 </td>\n",
       "   <td style=\"text-align:right;\"> 525 </td>\n",
       "   <td style=\"text-align:right;\"> 8588 </td>\n",
       "   <td style=\"text-align:right;\"> 4718 </td>\n",
       "   <td style=\"text-align:right;\"> 3630 </td>\n",
       "   <td style=\"text-align:right;\"> 6514 </td>\n",
       "   <td style=\"text-align:right;\"> 978 </td>\n",
       "   <td style=\"text-align:right;\"> 12325 </td>\n",
       "   <td style=\"text-align:right;\"> 3710 </td>\n",
       "   <td style=\"text-align:right;\"> 3670 </td>\n",
       "   <td style=\"text-align:right;\"> 4603 </td>\n",
       "   <td style=\"text-align:right;\"> 1725 </td>\n",
       "   <td style=\"text-align:right;\"> 4249 </td>\n",
       "   <td style=\"text-align:right;\"> 4216 </td>\n",
       "   <td style=\"text-align:right;\"> 3817 </td>\n",
       "   <td style=\"text-align:right;\"> 1178 </td>\n",
       "   <td style=\"text-align:right;\"> 3743 </td>\n",
       "   <td style=\"text-align:right;\"> 1102 </td>\n",
       "   <td style=\"text-align:right;\"> 301 </td>\n",
       "   <td style=\"text-align:right;\"> 8451 </td>\n",
       "   <td style=\"text-align:right;\"> 3264 </td>\n",
       "   <td style=\"text-align:right;\"> 756 </td>\n",
       "   <td style=\"text-align:right;\"> 6625 </td>\n",
       "   <td style=\"text-align:right;\"> 3351 </td>\n",
       "   <td style=\"text-align:right;\"> 572 </td>\n",
       "   <td style=\"text-align:right;\"> 4745 </td>\n",
       "   <td style=\"text-align:right;\"> 5532 </td>\n",
       "   <td style=\"text-align:right;\"> 2506 </td>\n",
       "   <td style=\"text-align:right;\"> 6372 </td>\n",
       "   <td style=\"text-align:right;\"> 5858 </td>\n",
       "   <td style=\"text-align:right;\"> 4887 </td>\n",
       "   <td style=\"text-align:right;\"> 6410 </td>\n",
       "   <td style=\"text-align:right;\"> 4315 </td>\n",
       "   <td style=\"text-align:right;\"> 4661 </td>\n",
       "   <td style=\"text-align:right;\"> 8650 </td>\n",
       "   <td style=\"text-align:right;\"> 4030 </td>\n",
       "   <td style=\"text-align:right;\"> 1413 </td>\n",
       "   <td style=\"text-align:right;\"> 3921 </td>\n",
       "   <td style=\"text-align:right;\"> 5883 </td>\n",
       "   <td style=\"text-align:right;\"> 982 </td>\n",
       "   <td style=\"text-align:right;\"> 5570 </td>\n",
       "   <td style=\"text-align:right;\"> 4240 </td>\n",
       "   <td style=\"text-align:right;\"> 10014 </td>\n",
       "   <td style=\"text-align:right;\"> 498 </td>\n",
       "   <td style=\"text-align:right;\"> 2646 </td>\n",
       "   <td style=\"text-align:right;\"> 3609 </td>\n",
       "   <td style=\"text-align:right;\"> 2299 </td>\n",
       "   <td style=\"text-align:right;\"> 4136 </td>\n",
       "   <td style=\"text-align:right;\"> 4096 </td>\n",
       "   <td style=\"text-align:right;\"> 1025 </td>\n",
       "   <td style=\"text-align:right;\"> 1724 </td>\n",
       "   <td style=\"text-align:right;\"> 5030 </td>\n",
       "   <td style=\"text-align:right;\"> 995 </td>\n",
       "   <td style=\"text-align:right;\"> 447 </td>\n",
       "   <td style=\"text-align:right;\"> 2354 </td>\n",
       "   <td style=\"text-align:right;\"> 1288 </td>\n",
       "   <td style=\"text-align:right;\"> 398 </td>\n",
       "   <td style=\"text-align:right;\"> 1246 </td>\n",
       "   <td style=\"text-align:right;\"> 1767 </td>\n",
       "   <td style=\"text-align:right;\"> 1571 </td>\n",
       "   <td style=\"text-align:right;\"> 579 </td>\n",
       "   <td style=\"text-align:right;\"> 1515 </td>\n",
       "   <td style=\"text-align:right;\"> 623 </td>\n",
       "  </tr>\n",
       "  <tr>\n",
       "   <td style=\"text-align:left;\"> fcc_astarr_macs_input_union </td>\n",
       "   <td style=\"text-align:left;\"> TF_Module </td>\n",
       "   <td style=\"text-align:right;\"> 6975 </td>\n",
       "   <td style=\"text-align:right;\"> 14611 </td>\n",
       "   <td style=\"text-align:right;\"> 3565 </td>\n",
       "   <td style=\"text-align:right;\"> 6462 </td>\n",
       "   <td style=\"text-align:right;\"> 3157 </td>\n",
       "   <td style=\"text-align:right;\"> 10121 </td>\n",
       "   <td style=\"text-align:right;\"> 2257 </td>\n",
       "   <td style=\"text-align:right;\"> 547 </td>\n",
       "   <td style=\"text-align:right;\"> 627 </td>\n",
       "   <td style=\"text-align:right;\"> 9195 </td>\n",
       "   <td style=\"text-align:right;\"> 4915 </td>\n",
       "   <td style=\"text-align:right;\"> 3777 </td>\n",
       "   <td style=\"text-align:right;\"> 7559 </td>\n",
       "   <td style=\"text-align:right;\"> 1044 </td>\n",
       "   <td style=\"text-align:right;\"> 13616 </td>\n",
       "   <td style=\"text-align:right;\"> 4074 </td>\n",
       "   <td style=\"text-align:right;\"> 3867 </td>\n",
       "   <td style=\"text-align:right;\"> 4781 </td>\n",
       "   <td style=\"text-align:right;\"> 1811 </td>\n",
       "   <td style=\"text-align:right;\"> 4448 </td>\n",
       "   <td style=\"text-align:right;\"> 4602 </td>\n",
       "   <td style=\"text-align:right;\"> 3962 </td>\n",
       "   <td style=\"text-align:right;\"> 1359 </td>\n",
       "   <td style=\"text-align:right;\"> 3908 </td>\n",
       "   <td style=\"text-align:right;\"> 1279 </td>\n",
       "   <td style=\"text-align:right;\"> 374 </td>\n",
       "   <td style=\"text-align:right;\"> 9636 </td>\n",
       "   <td style=\"text-align:right;\"> 3555 </td>\n",
       "   <td style=\"text-align:right;\"> 807 </td>\n",
       "   <td style=\"text-align:right;\"> 7430 </td>\n",
       "   <td style=\"text-align:right;\"> 3479 </td>\n",
       "   <td style=\"text-align:right;\"> 652 </td>\n",
       "   <td style=\"text-align:right;\"> 5612 </td>\n",
       "   <td style=\"text-align:right;\"> 6394 </td>\n",
       "   <td style=\"text-align:right;\"> 2618 </td>\n",
       "   <td style=\"text-align:right;\"> 7015 </td>\n",
       "   <td style=\"text-align:right;\"> 6344 </td>\n",
       "   <td style=\"text-align:right;\"> 5319 </td>\n",
       "   <td style=\"text-align:right;\"> 7342 </td>\n",
       "   <td style=\"text-align:right;\"> 4454 </td>\n",
       "   <td style=\"text-align:right;\"> 4886 </td>\n",
       "   <td style=\"text-align:right;\"> 10350 </td>\n",
       "   <td style=\"text-align:right;\"> 4687 </td>\n",
       "   <td style=\"text-align:right;\"> 1560 </td>\n",
       "   <td style=\"text-align:right;\"> 4469 </td>\n",
       "   <td style=\"text-align:right;\"> 6988 </td>\n",
       "   <td style=\"text-align:right;\"> 1012 </td>\n",
       "   <td style=\"text-align:right;\"> 5988 </td>\n",
       "   <td style=\"text-align:right;\"> 4914 </td>\n",
       "   <td style=\"text-align:right;\"> 10691 </td>\n",
       "   <td style=\"text-align:right;\"> 545 </td>\n",
       "   <td style=\"text-align:right;\"> 2838 </td>\n",
       "   <td style=\"text-align:right;\"> 4265 </td>\n",
       "   <td style=\"text-align:right;\"> 2391 </td>\n",
       "   <td style=\"text-align:right;\"> 4311 </td>\n",
       "   <td style=\"text-align:right;\"> 4225 </td>\n",
       "   <td style=\"text-align:right;\"> 1141 </td>\n",
       "   <td style=\"text-align:right;\"> 1980 </td>\n",
       "   <td style=\"text-align:right;\"> 5255 </td>\n",
       "   <td style=\"text-align:right;\"> 1079 </td>\n",
       "   <td style=\"text-align:right;\"> 492 </td>\n",
       "   <td style=\"text-align:right;\"> 2655 </td>\n",
       "   <td style=\"text-align:right;\"> 1426 </td>\n",
       "   <td style=\"text-align:right;\"> 440 </td>\n",
       "   <td style=\"text-align:right;\"> 1503 </td>\n",
       "   <td style=\"text-align:right;\"> 2002 </td>\n",
       "   <td style=\"text-align:right;\"> 1760 </td>\n",
       "   <td style=\"text-align:right;\"> 612 </td>\n",
       "   <td style=\"text-align:right;\"> 1692 </td>\n",
       "   <td style=\"text-align:right;\"> 683 </td>\n",
       "  </tr>\n",
       "</tbody>\n",
       "</table>"
      ]
     },
     "metadata": {},
     "output_type": "display_data"
    }
   ],
   "source": [
    "lst = lst_dat_region_annot_import\n",
    "lst = lapply(lst, function(dat){\n",
    "    res = table(dat$Group, dat$Label, dnn = c(\"Group\", \"Label\"))\n",
    "    dat = as.data.frame(res)\n",
    "    return(dat)\n",
    "})\n",
    "\n",
    "dat = bind_rows(lst, .id = \"Region\")\n",
    "dat = dat %>% tidyr::spread(Label, Freq)\n",
    "fun_display_table(dat)"
   ]
  },
  {
   "cell_type": "markdown",
   "id": "0d51e27d-2af4-4016-8dbb-3469b118c992",
   "metadata": {},
   "source": [
    "**Explore: Group x Region Count**"
   ]
  },
  {
   "cell_type": "code",
   "execution_count": 9,
   "id": "ffb91ecf-5291-49eb-88ba-9c5e914b56f9",
   "metadata": {},
   "outputs": [
    {
     "data": {
      "text/html": [
       "<table>\n",
       " <thead>\n",
       "  <tr>\n",
       "   <th style=\"text-align:left;\"> Region </th>\n",
       "   <th style=\"text-align:left;\"> Group </th>\n",
       "   <th style=\"text-align:right;\"> 1 </th>\n",
       "   <th style=\"text-align:right;\"> 2 </th>\n",
       "   <th style=\"text-align:right;\"> 3 </th>\n",
       "   <th style=\"text-align:right;\"> 4 </th>\n",
       "   <th style=\"text-align:right;\"> 5 </th>\n",
       "  </tr>\n",
       " </thead>\n",
       "<tbody>\n",
       "  <tr>\n",
       "   <td style=\"text-align:left;\"> fcc_astarr_macs_input_overlap </td>\n",
       "   <td style=\"text-align:left;\"> TF_Module </td>\n",
       "   <td style=\"text-align:right;\"> 258228 </td>\n",
       "   <td style=\"text-align:right;\"> 3479 </td>\n",
       "   <td style=\"text-align:right;\"> 116 </td>\n",
       "   <td style=\"text-align:right;\"> 11 </td>\n",
       "   <td style=\"text-align:right;\"> 2 </td>\n",
       "  </tr>\n",
       "  <tr>\n",
       "   <td style=\"text-align:left;\"> fcc_astarr_macs_input_union </td>\n",
       "   <td style=\"text-align:left;\"> TF_Module </td>\n",
       "   <td style=\"text-align:right;\"> 285755 </td>\n",
       "   <td style=\"text-align:right;\"> 4426 </td>\n",
       "   <td style=\"text-align:right;\"> 186 </td>\n",
       "   <td style=\"text-align:right;\"> 20 </td>\n",
       "   <td style=\"text-align:right;\"> 3 </td>\n",
       "  </tr>\n",
       "</tbody>\n",
       "</table>"
      ]
     },
     "metadata": {},
     "output_type": "display_data"
    }
   ],
   "source": [
    "lst = lst_dat_region_annot_import\n",
    "lst = lapply(lst, function(dat){\n",
    "    res = table(dat$Group, dat$Region_Count, dnn = c(\"Group\", \"Region_Count\"))\n",
    "    dat = as.data.frame(res)\n",
    "    return(dat)\n",
    "})\n",
    "\n",
    "dat = bind_rows(lst, .id = \"Region\")\n",
    "dat = dat %>% tidyr::spread(Region_Count, Freq)\n",
    "fun_display_table(dat)"
   ]
  },
  {
   "cell_type": "markdown",
   "id": "d209f0c2-2755-49bc-9781-b2b49c56b5d1",
   "metadata": {},
   "source": [
    "## Matrix"
   ]
  },
  {
   "cell_type": "code",
   "execution_count": 12,
   "id": "6033e3ed-9357-4a54-b5e7-2ea6f78a1ee9",
   "metadata": {},
   "outputs": [
    {
     "name": "stdout",
     "output_type": "stream",
     "text": [
      "$fcc_astarr_macs_input_overlap\n",
      "[1] 56  5\n",
      "\n",
      "$fcc_astarr_macs_input_union\n",
      "[1] 58  5\n",
      "\n"
     ]
    },
    {
     "data": {
      "text/html": [
       "<table>\n",
       " <thead>\n",
       "  <tr>\n",
       "   <th style=\"text-align:left;\"> Chrom </th>\n",
       "   <th style=\"text-align:right;\"> ChromStart </th>\n",
       "   <th style=\"text-align:right;\"> ChromEnd </th>\n",
       "   <th style=\"text-align:left;\"> Region </th>\n",
       "   <th style=\"text-align:right;\"> CRISPRi-HCRFF </th>\n",
       "  </tr>\n",
       " </thead>\n",
       "<tbody>\n",
       "  <tr>\n",
       "   <td style=\"text-align:left;\"> chr11 </td>\n",
       "   <td style=\"text-align:right;\"> 5249957 </td>\n",
       "   <td style=\"text-align:right;\"> 5250351 </td>\n",
       "   <td style=\"text-align:left;\"> chr11:5249957-5250351 </td>\n",
       "   <td style=\"text-align:right;\"> 1 </td>\n",
       "  </tr>\n",
       "  <tr>\n",
       "   <td style=\"text-align:left;\"> chr11 </td>\n",
       "   <td style=\"text-align:right;\"> 5254200 </td>\n",
       "   <td style=\"text-align:right;\"> 5254444 </td>\n",
       "   <td style=\"text-align:left;\"> chr11:5254200-5254444 </td>\n",
       "   <td style=\"text-align:right;\"> 1 </td>\n",
       "  </tr>\n",
       "  <tr>\n",
       "   <td style=\"text-align:left;\"> chr11 </td>\n",
       "   <td style=\"text-align:right;\"> 5269503 </td>\n",
       "   <td style=\"text-align:right;\"> 5270633 </td>\n",
       "   <td style=\"text-align:left;\"> chr11:5269503-5270633 </td>\n",
       "   <td style=\"text-align:right;\"> 1 </td>\n",
       "  </tr>\n",
       "</tbody>\n",
       "</table>"
      ]
     },
     "metadata": {},
     "output_type": "display_data"
    }
   ],
   "source": [
    "### assign essential label\n",
    "lst = lst_dat_region_annot_import\n",
    "lst = lapply(lst, function(dat){\n",
    "    dat = dat %>%\n",
    "        dplyr::select(Chrom, ChromStart, ChromEnd, Region, Label) %>%\n",
    "        dplyr::mutate(Value = 1) %>%\n",
    "        dplyr::distinct() \n",
    "\n",
    "    dat = dat %>% \n",
    "        tidyr::spread(Label, Value) %>%\n",
    "        replace(is.na(.), 0)\n",
    "    return(dat)\n",
    "})\n",
    "\n",
    "### assign and show\n",
    "lst_dat_region_annot_matrix = lst\n",
    "\n",
    "res = lapply(lst, dim)\n",
    "print(res)\n",
    "\n",
    "dat = lst[[1]]\n",
    "fun_display_table(head(dat, 3))"
   ]
  },
  {
   "cell_type": "markdown",
   "id": "e34e922f-5bb0-446d-968c-c9e1fdcf3f1d",
   "metadata": {},
   "source": [
    "## Export results"
   ]
  },
  {
   "cell_type": "code",
   "execution_count": 13,
   "id": "d1e49a8d-812d-4efa-927b-009a97419d02",
   "metadata": {},
   "outputs": [],
   "source": [
    "lst = lst_dat_region_annot_matrix\n",
    "for (idx in names(lst)){\n",
    "\n",
    "    ### get\n",
    "    #dat_region_annot_result = lst_dat_region_annot_result[[idx]]\n",
    "    dat_region_annot_matrix = lst_dat_region_annot_matrix[[idx]]\n",
    "    \n",
    "    ### set file directory\n",
    "    txt_folder = idx\n",
    "    txt_fdiry = file.path(\n",
    "        FD_RES, \n",
    "        \"region_annotation\", \n",
    "        txt_folder,\n",
    "        \"summary\"\n",
    "    )\n",
    "    \n",
    "    ###\n",
    "    #txt_fname = \"region.annotation.fcc_starrmpra_junke.tsv\"\n",
    "    #txt_fpath = file.path(txt_fdiry, txt_fname)\n",
    "    \n",
    "    #dat = dat_region_annot_result\n",
    "    #dat = dat %>% dplyr::arrange(Chrom, ChromStart, ChromEnd)\n",
    "    #write_tsv(dat, txt_fpath)\n",
    "\n",
    "    ###\n",
    "    txt_fname = \"matrix.annotation.fcc_crispri_hcrff.tsv\"\n",
    "    txt_fpath = file.path(txt_fdiry, txt_fname)\n",
    "    \n",
    "    dat = dat_region_annot_matrix\n",
    "    dat = dat %>% dplyr::arrange(Chrom, ChromStart, ChromEnd)\n",
    "    #write_tsv(dat, txt_fpath)\n",
    "}"
   ]
  }
 ],
 "metadata": {
  "kernelspec": {
   "display_name": "R",
   "language": "R",
   "name": "ir"
  },
  "language_info": {
   "codemirror_mode": "r",
   "file_extension": ".r",
   "mimetype": "text/x-r-source",
   "name": "R",
   "pygments_lexer": "r",
   "version": "4.4.2"
  }
 },
 "nbformat": 4,
 "nbformat_minor": 5
}
