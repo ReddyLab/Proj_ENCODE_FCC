{
 "cells": [
  {
   "cell_type": "raw",
   "id": "2558546b-657c-42d5-883b-3dad8eec8113",
   "metadata": {},
   "source": [
    "---\n",
    "title: Annotation of ATAC (ASTARR Input) 43\n",
    "subtitle: Define proximal/distal-active/repressive CREs\n",
    "format:\n",
    "    html:\n",
    "        code-fold:  true\n",
    "        code-tools: true\n",
    "---"
   ]
  },
  {
   "cell_type": "markdown",
   "id": "00156f26-fdde-48be-b415-9a4e3627730d",
   "metadata": {},
   "source": [
    "**Set environment**"
   ]
  },
  {
   "cell_type": "code",
   "execution_count": 1,
   "id": "dcda10b6-c16e-4b5b-b060-b291ce613b0f",
   "metadata": {
    "tags": []
   },
   "outputs": [
    {
     "name": "stdout",
     "output_type": "stream",
     "text": [
      "You are working on        Singularity: singularity_proj_encode_fcc \n",
      "BASE DIRECTORY (FD_BASE): /data/reddylab/Kuei \n",
      "REPO DIRECTORY (FD_REPO): /data/reddylab/Kuei/repo \n",
      "WORK DIRECTORY (FD_WORK): /data/reddylab/Kuei/work \n",
      "DATA DIRECTORY (FD_DATA): /data/reddylab/Kuei/data \n",
      "\n",
      "You are working with      ENCODE FCC \n",
      "PATH OF PROJECT (FD_PRJ): /data/reddylab/Kuei/repo/Proj_ENCODE_FCC \n",
      "PROJECT RESULTS (FD_RES): /data/reddylab/Kuei/repo/Proj_ENCODE_FCC/results \n",
      "PROJECT SCRIPTS (FD_EXE): /data/reddylab/Kuei/repo/Proj_ENCODE_FCC/scripts \n",
      "PROJECT DATA    (FD_DAT): /data/reddylab/Kuei/repo/Proj_ENCODE_FCC/data \n",
      "PROJECT NOTE    (FD_NBK): /data/reddylab/Kuei/repo/Proj_ENCODE_FCC/notebooks \n",
      "PROJECT DOCS    (FD_DOC): /data/reddylab/Kuei/repo/Proj_ENCODE_FCC/docs \n",
      "PROJECT LOG     (FD_LOG): /data/reddylab/Kuei/repo/Proj_ENCODE_FCC/log \n",
      "PROJECT REF     (FD_REF): /data/reddylab/Kuei/repo/Proj_ENCODE_FCC/references \n",
      "\n"
     ]
    }
   ],
   "source": [
    "suppressMessages(suppressWarnings(source(\"../run_config_project_sing.R\")))\n",
    "show_env()"
   ]
  },
  {
   "cell_type": "markdown",
   "id": "aaafc618-dba5-47ea-9393-e4c4c3792a51",
   "metadata": {},
   "source": [
    "## Prepare"
   ]
  },
  {
   "cell_type": "markdown",
   "id": "a207784a-5c2d-46f3-bc0a-f4cf00fd74aa",
   "metadata": {},
   "source": [
    "**Set global variable**"
   ]
  },
  {
   "cell_type": "code",
   "execution_count": 2,
   "id": "648b7e08-4eae-476e-93a2-7e76a755b431",
   "metadata": {},
   "outputs": [
    {
     "name": "stdout",
     "output_type": "stream",
     "text": [
      "fcc_astarr_macs_input_overlap \n",
      "fcc_astarr_macs_input_union \n"
     ]
    }
   ],
   "source": [
    "vec = c(\n",
    "    \"fcc_astarr_macs_input_overlap\",\n",
    "    \"fcc_astarr_macs_input_union\"\n",
    ")\n",
    "names(vec) = vec\n",
    "\n",
    "VEC_TXT_FOLDER = vec\n",
    "for(txt in vec){cat(txt, \"\\n\")}"
   ]
  },
  {
   "cell_type": "code",
   "execution_count": 3,
   "id": "af9fef3c-9bfc-4923-9eb8-278858e709b8",
   "metadata": {},
   "outputs": [],
   "source": [
    "TXT_FNAME_ANNOT = \"region.annotation.fcc_starrmpra_junke.assayvote.rmAR.tsv\""
   ]
  },
  {
   "cell_type": "markdown",
   "id": "6fbdc631-014a-4148-80cf-5006e76246a4",
   "metadata": {},
   "source": [
    "**View files**"
   ]
  },
  {
   "cell_type": "code",
   "execution_count": 4,
   "id": "865832fc-38ee-40f4-9659-3e3cccb3f863",
   "metadata": {},
   "outputs": [
    {
     "name": "stdout",
     "output_type": "stream",
     "text": [
      "/data/reddylab/Kuei/repo/Proj_ENCODE_FCC/results/region_annotation/fcc_astarr_macs_input_overlap/summary/region.annotation.fcc_starrmpra_junke.assayvote.rmAR.tsv \n",
      "/data/reddylab/Kuei/repo/Proj_ENCODE_FCC/results/region_annotation/fcc_astarr_macs_input_union/summary/region.annotation.fcc_starrmpra_junke.assayvote.rmAR.tsv \n"
     ]
    }
   ],
   "source": [
    "txt_fdiry = file.path(FD_RES, \"region_annotation\", \"*\", \"summary\")\n",
    "txt_fname = TXT_FNAME_ANNOT\n",
    "txt_fglob = file.path(txt_fdiry, txt_fname)\n",
    "\n",
    "vec = Sys.glob(txt_fglob)\n",
    "for(txt in vec){cat(txt, \"\\n\")}"
   ]
  },
  {
   "cell_type": "markdown",
   "id": "e5f14577-247f-41e5-9858-2401abfe3079",
   "metadata": {},
   "source": [
    "## Import data"
   ]
  },
  {
   "cell_type": "markdown",
   "id": "10680823-0d07-4161-89ff-c593a5f48ec5",
   "metadata": {},
   "source": [
    "**Import region assay votes**"
   ]
  },
  {
   "cell_type": "code",
   "execution_count": 5,
   "id": "dca32c92-37ab-4c47-89da-a1dde747c5da",
   "metadata": {},
   "outputs": [
    {
     "name": "stdout",
     "output_type": "stream",
     "text": [
      "$fcc_astarr_macs_input_overlap\n",
      "[1] 109394      6\n",
      "\n",
      "$fcc_astarr_macs_input_union\n",
      "[1] 146148      6\n",
      "\n"
     ]
    },
    {
     "data": {
      "text/html": [
       "<table>\n",
       " <thead>\n",
       "  <tr>\n",
       "   <th style=\"text-align:left;\"> Chrom </th>\n",
       "   <th style=\"text-align:right;\"> ChromStart </th>\n",
       "   <th style=\"text-align:right;\"> ChromEnd </th>\n",
       "   <th style=\"text-align:left;\"> Region </th>\n",
       "   <th style=\"text-align:left;\"> Direction_Assay </th>\n",
       "   <th style=\"text-align:right;\"> Num_Assay </th>\n",
       "  </tr>\n",
       " </thead>\n",
       "<tbody>\n",
       "  <tr>\n",
       "   <td style=\"text-align:left;\"> chr1 </td>\n",
       "   <td style=\"text-align:right;\"> 115429 </td>\n",
       "   <td style=\"text-align:right;\"> 115969 </td>\n",
       "   <td style=\"text-align:left;\"> chr1:115429-115969 </td>\n",
       "   <td style=\"text-align:left;\"> Active </td>\n",
       "   <td style=\"text-align:right;\"> 1 </td>\n",
       "  </tr>\n",
       "  <tr>\n",
       "   <td style=\"text-align:left;\"> chr1 </td>\n",
       "   <td style=\"text-align:right;\"> 184091 </td>\n",
       "   <td style=\"text-align:right;\"> 184563 </td>\n",
       "   <td style=\"text-align:left;\"> chr1:184091-184563 </td>\n",
       "   <td style=\"text-align:left;\"> Active </td>\n",
       "   <td style=\"text-align:right;\"> 1 </td>\n",
       "  </tr>\n",
       "  <tr>\n",
       "   <td style=\"text-align:left;\"> chr1 </td>\n",
       "   <td style=\"text-align:right;\"> 605104 </td>\n",
       "   <td style=\"text-align:right;\"> 605675 </td>\n",
       "   <td style=\"text-align:left;\"> chr1:605104-605675 </td>\n",
       "   <td style=\"text-align:left;\"> Active </td>\n",
       "   <td style=\"text-align:right;\"> 1 </td>\n",
       "  </tr>\n",
       "</tbody>\n",
       "</table>"
      ]
     },
     "metadata": {},
     "output_type": "display_data"
    }
   ],
   "source": [
    "### loop to import data\n",
    "lst = lapply(VEC_TXT_FOLDER, function(txt_folder){\n",
    "    ### set file directory\n",
    "    txt_fdiry = file.path(FD_RES, \"region_annotation\", txt_folder, \"summary\")\n",
    "    txt_fname = TXT_FNAME_ANNOT\n",
    "    txt_fpath = file.path(txt_fdiry, txt_fname)\n",
    "\n",
    "    ### read table\n",
    "    dat = read_tsv(txt_fpath, show_col_types = FALSE)\n",
    "    return(dat)\n",
    "})\n",
    "\n",
    "### assign and show\n",
    "lst_dat_region_annot_fcc_import = lst\n",
    "\n",
    "res = lapply(lst, dim)\n",
    "print(res)\n",
    "\n",
    "dat = lst[[1]]\n",
    "fun_display_table(head(dat, 3))"
   ]
  },
  {
   "cell_type": "markdown",
   "id": "ba34dcd3-da0a-438e-99cf-3b4ac5975487",
   "metadata": {},
   "source": [
    "**Import TSS annotation**"
   ]
  },
  {
   "cell_type": "code",
   "execution_count": 6,
   "id": "779003e7-fac4-42e5-b697-4613e87fdcb5",
   "metadata": {},
   "outputs": [
    {
     "name": "stdout",
     "output_type": "stream",
     "text": [
      "$fcc_astarr_macs_input_overlap\n",
      "[1] 13732     5\n",
      "\n",
      "$fcc_astarr_macs_input_union\n",
      "[1] 15182     5\n",
      "\n"
     ]
    },
    {
     "data": {
      "text/html": [
       "<table>\n",
       " <thead>\n",
       "  <tr>\n",
       "   <th style=\"text-align:left;\"> Chrom </th>\n",
       "   <th style=\"text-align:right;\"> ChromStart </th>\n",
       "   <th style=\"text-align:right;\"> ChromEnd </th>\n",
       "   <th style=\"text-align:left;\"> Region </th>\n",
       "   <th style=\"text-align:right;\"> TSS </th>\n",
       "  </tr>\n",
       " </thead>\n",
       "<tbody>\n",
       "  <tr>\n",
       "   <td style=\"text-align:left;\"> chr1 </td>\n",
       "   <td style=\"text-align:right;\"> 17288 </td>\n",
       "   <td style=\"text-align:right;\"> 17689 </td>\n",
       "   <td style=\"text-align:left;\"> chr1:17288-17689 </td>\n",
       "   <td style=\"text-align:right;\"> 1 </td>\n",
       "  </tr>\n",
       "  <tr>\n",
       "   <td style=\"text-align:left;\"> chr1 </td>\n",
       "   <td style=\"text-align:right;\"> 28934 </td>\n",
       "   <td style=\"text-align:right;\"> 29499 </td>\n",
       "   <td style=\"text-align:left;\"> chr1:28934-29499 </td>\n",
       "   <td style=\"text-align:right;\"> 1 </td>\n",
       "  </tr>\n",
       "  <tr>\n",
       "   <td style=\"text-align:left;\"> chr1 </td>\n",
       "   <td style=\"text-align:right;\"> 778233 </td>\n",
       "   <td style=\"text-align:right;\"> 779389 </td>\n",
       "   <td style=\"text-align:left;\"> chr1:778233-779389 </td>\n",
       "   <td style=\"text-align:right;\"> 1 </td>\n",
       "  </tr>\n",
       "</tbody>\n",
       "</table>"
      ]
     },
     "metadata": {},
     "output_type": "display_data"
    }
   ],
   "source": [
    "### loop to import data\n",
    "lst = lapply(VEC_TXT_FOLDER, function(txt_folder){\n",
    "    ### set file directory\n",
    "    txt_fdiry = file.path(FD_RES, \"region_annotation\", txt_folder, \"summary\")\n",
    "    txt_fname = \"matrix.annotation.genome_tss.tsv\"\n",
    "    txt_fpath = file.path(txt_fdiry, txt_fname)\n",
    "\n",
    "    ### read table\n",
    "    dat = read_tsv(txt_fpath, show_col_types = FALSE)\n",
    "    return(dat)\n",
    "})\n",
    "\n",
    "### assign and show\n",
    "lst_dat_region_annot_tss_import = lst\n",
    "\n",
    "res = lapply(lst, dim)\n",
    "print(res)\n",
    "\n",
    "dat = lst[[1]]\n",
    "fun_display_table(head(dat, 3))"
   ]
  },
  {
   "cell_type": "markdown",
   "id": "7c6f3dcc-5fab-47fb-8f0c-bd4996aaabc9",
   "metadata": {},
   "source": [
    "**Import TSS proximity**"
   ]
  },
  {
   "cell_type": "code",
   "execution_count": 7,
   "id": "4cb360a5-45e4-403e-ad54-0c22e200f1f2",
   "metadata": {},
   "outputs": [
    {
     "name": "stdout",
     "output_type": "stream",
     "text": [
      "$fcc_astarr_macs_input_overlap\n",
      "[1] 150042      8\n",
      "\n",
      "$fcc_astarr_macs_input_union\n",
      "[1] 246852      8\n",
      "\n"
     ]
    },
    {
     "data": {
      "text/html": [
       "<table>\n",
       " <thead>\n",
       "  <tr>\n",
       "   <th style=\"text-align:left;\"> Chrom </th>\n",
       "   <th style=\"text-align:right;\"> ChromStart </th>\n",
       "   <th style=\"text-align:right;\"> ChromEnd </th>\n",
       "   <th style=\"text-align:left;\"> Region </th>\n",
       "   <th style=\"text-align:left;\"> Annotation_A </th>\n",
       "   <th style=\"text-align:left;\"> Annotation_B </th>\n",
       "   <th style=\"text-align:right;\"> Distance2TSS </th>\n",
       "   <th style=\"text-align:left;\"> TSS_Proximity </th>\n",
       "  </tr>\n",
       " </thead>\n",
       "<tbody>\n",
       "  <tr>\n",
       "   <td style=\"text-align:left;\"> chr1 </td>\n",
       "   <td style=\"text-align:right;\"> 10038 </td>\n",
       "   <td style=\"text-align:right;\"> 10405 </td>\n",
       "   <td style=\"text-align:left;\"> chr1:10038-10405 </td>\n",
       "   <td style=\"text-align:left;\"> fcc_astarr_macs_input_overlap </td>\n",
       "   <td style=\"text-align:left;\"> genome_tss_pol2 </td>\n",
       "   <td style=\"text-align:right;\"> 1469 </td>\n",
       "   <td style=\"text-align:left;\"> Proximal </td>\n",
       "  </tr>\n",
       "  <tr>\n",
       "   <td style=\"text-align:left;\"> chr1 </td>\n",
       "   <td style=\"text-align:right;\"> 14282 </td>\n",
       "   <td style=\"text-align:right;\"> 14614 </td>\n",
       "   <td style=\"text-align:left;\"> chr1:14282-14614 </td>\n",
       "   <td style=\"text-align:left;\"> fcc_astarr_macs_input_overlap </td>\n",
       "   <td style=\"text-align:left;\"> genome_tss_pol2 </td>\n",
       "   <td style=\"text-align:right;\"> 2409 </td>\n",
       "   <td style=\"text-align:left;\"> Distal </td>\n",
       "  </tr>\n",
       "  <tr>\n",
       "   <td style=\"text-align:left;\"> chr1 </td>\n",
       "   <td style=\"text-align:right;\"> 16025 </td>\n",
       "   <td style=\"text-align:right;\"> 16338 </td>\n",
       "   <td style=\"text-align:left;\"> chr1:16025-16338 </td>\n",
       "   <td style=\"text-align:left;\"> fcc_astarr_macs_input_overlap </td>\n",
       "   <td style=\"text-align:left;\"> genome_tss_pol2 </td>\n",
       "   <td style=\"text-align:right;\"> 1099 </td>\n",
       "   <td style=\"text-align:left;\"> Proximal </td>\n",
       "  </tr>\n",
       "</tbody>\n",
       "</table>"
      ]
     },
     "metadata": {},
     "output_type": "display_data"
    }
   ],
   "source": [
    "### loop to import data\n",
    "lst = lapply(VEC_TXT_FOLDER, function(txt_folder){\n",
    "    ### set file directory\n",
    "    txt_fdiry = file.path(FD_RES, \"region_closest\", txt_folder, \"summary\")\n",
    "    txt_fname = \"region.annotation.genome_tss_pol2.tss_proximity.tsv\"\n",
    "    txt_fpath = file.path(txt_fdiry, txt_fname)\n",
    "\n",
    "    ### read table\n",
    "    dat = read_tsv(txt_fpath, show_col_types = FALSE)\n",
    "    return(dat)\n",
    "})\n",
    "\n",
    "### assign and show\n",
    "lst_dat_region_dist2tss_import = lst\n",
    "\n",
    "res = lapply(lst, dim)\n",
    "print(res)\n",
    "\n",
    "dat = lst[[1]]\n",
    "fun_display_table(head(dat, 3))"
   ]
  },
  {
   "cell_type": "markdown",
   "id": "6b7696e9-f4a9-4bda-a3f8-fcf8086c10f5",
   "metadata": {},
   "source": [
    "**Check: Regions**"
   ]
  },
  {
   "cell_type": "code",
   "execution_count": 8,
   "id": "8822590d-40ae-419f-a99d-1eaa89e4e87a",
   "metadata": {},
   "outputs": [
    {
     "name": "stdout",
     "output_type": "stream",
     "text": [
      "Region: fcc_astarr_macs_input_overlap \n",
      "Check: TRUE \n",
      "Check: TRUE \n",
      "Region: fcc_astarr_macs_input_union \n",
      "Check: TRUE \n",
      "Check: TRUE \n"
     ]
    }
   ],
   "source": [
    "for (txt_folder in VEC_TXT_FOLDER){\n",
    "    cat(\"Region:\", txt_folder, \"\\n\")\n",
    "    dat_region_annot_fcc = lst_dat_region_annot_fcc_import[[txt_folder]]\n",
    "    dat_region_annot_tss = lst_dat_region_annot_tss_import[[txt_folder]]\n",
    "    dat_region_dist2tss  = lst_dat_region_dist2tss_import[[txt_folder]]\n",
    "    cat(\"Check:\", all(dat_region_annot_fcc$Region %in% dat_region_dist2tss$Region), \"\\n\")\n",
    "    cat(\"Check:\", all(dat_region_annot_tss$Region %in% dat_region_dist2tss$Region), \"\\n\")\n",
    "}"
   ]
  },
  {
   "cell_type": "markdown",
   "id": "66e0eed6-5a2c-47ff-aa67-3c77de9c2d04",
   "metadata": {},
   "source": [
    "## Arrange table"
   ]
  },
  {
   "cell_type": "markdown",
   "id": "63cdb264-748f-4cb4-82b2-d686bf785169",
   "metadata": {},
   "source": [
    "**Arrange fcc annotation**"
   ]
  },
  {
   "cell_type": "code",
   "execution_count": 9,
   "id": "36fc01c3-6cda-4c2d-bf26-f5d2a4a0b4b1",
   "metadata": {},
   "outputs": [
    {
     "name": "stdout",
     "output_type": "stream",
     "text": [
      "$fcc_astarr_macs_input_overlap\n",
      "[1] 18346     2\n",
      "\n",
      "$fcc_astarr_macs_input_union\n",
      "[1] 20303     2\n",
      "\n"
     ]
    },
    {
     "data": {
      "text/html": [
       "<table>\n",
       " <thead>\n",
       "  <tr>\n",
       "   <th style=\"text-align:left;\"> Region </th>\n",
       "   <th style=\"text-align:left;\"> Direction_Assay </th>\n",
       "  </tr>\n",
       " </thead>\n",
       "<tbody>\n",
       "  <tr>\n",
       "   <td style=\"text-align:left;\"> chr1:778233-779389 </td>\n",
       "   <td style=\"text-align:left;\"> Active </td>\n",
       "  </tr>\n",
       "  <tr>\n",
       "   <td style=\"text-align:left;\"> chr1:958722-959968 </td>\n",
       "   <td style=\"text-align:left;\"> Active </td>\n",
       "  </tr>\n",
       "  <tr>\n",
       "   <td style=\"text-align:left;\"> chr1:960468-961615 </td>\n",
       "   <td style=\"text-align:left;\"> Active </td>\n",
       "  </tr>\n",
       "</tbody>\n",
       "</table>"
      ]
     },
     "metadata": {},
     "output_type": "display_data"
    }
   ],
   "source": [
    "lst = lst_dat_region_annot_fcc_import\n",
    "lst = lapply(lst, function(dat){\n",
    "    dat = dat %>%\n",
    "        dplyr::filter(Num_Assay > 1) %>%\n",
    "        dplyr::select(Region, Direction_Assay) %>%\n",
    "        dplyr::distinct()\n",
    "    return(dat)\n",
    "})\n",
    "\n",
    "### assign and show\n",
    "lst_dat_region_annot_fcc_arrange = lst\n",
    "\n",
    "res = lapply(lst, dim)\n",
    "print(res)\n",
    "\n",
    "dat = lst[[1]]\n",
    "fun_display_table(head(dat, 3))"
   ]
  },
  {
   "cell_type": "markdown",
   "id": "0d5f8ebe-d05b-40af-82db-c28b2f9583e0",
   "metadata": {},
   "source": [
    "**Arrange TSS annotation**"
   ]
  },
  {
   "cell_type": "code",
   "execution_count": 10,
   "id": "06289a9f-aa84-4333-b866-e48208122b06",
   "metadata": {},
   "outputs": [
    {
     "name": "stdout",
     "output_type": "stream",
     "text": [
      "$fcc_astarr_macs_input_overlap\n",
      "[1] 13732     2\n",
      "\n",
      "$fcc_astarr_macs_input_union\n",
      "[1] 15182     2\n",
      "\n"
     ]
    },
    {
     "data": {
      "text/html": [
       "<table>\n",
       " <thead>\n",
       "  <tr>\n",
       "   <th style=\"text-align:left;\"> Region </th>\n",
       "   <th style=\"text-align:right;\"> TSS </th>\n",
       "  </tr>\n",
       " </thead>\n",
       "<tbody>\n",
       "  <tr>\n",
       "   <td style=\"text-align:left;\"> chr1:17288-17689 </td>\n",
       "   <td style=\"text-align:right;\"> 1 </td>\n",
       "  </tr>\n",
       "  <tr>\n",
       "   <td style=\"text-align:left;\"> chr1:28934-29499 </td>\n",
       "   <td style=\"text-align:right;\"> 1 </td>\n",
       "  </tr>\n",
       "  <tr>\n",
       "   <td style=\"text-align:left;\"> chr1:778233-779389 </td>\n",
       "   <td style=\"text-align:right;\"> 1 </td>\n",
       "  </tr>\n",
       "</tbody>\n",
       "</table>"
      ]
     },
     "metadata": {},
     "output_type": "display_data"
    }
   ],
   "source": [
    "lst = lst_dat_region_annot_tss_import\n",
    "lst = lapply(lst, function(dat){\n",
    "    dat = dat %>% dplyr::select(Region, TSS)\n",
    "    return(dat)\n",
    "})\n",
    "\n",
    "### assign and show\n",
    "lst_dat_region_annot_tss_arrange = lst\n",
    "\n",
    "res = lapply(lst, dim)\n",
    "print(res)\n",
    "\n",
    "dat = lst[[1]]\n",
    "fun_display_table(head(dat, 3))"
   ]
  },
  {
   "cell_type": "markdown",
   "id": "55f0e2b3-1017-45cf-b068-62f23ab82078",
   "metadata": {},
   "source": [
    "**Arrange ATAC-TSS distance**"
   ]
  },
  {
   "cell_type": "code",
   "execution_count": 11,
   "id": "42bee407-ea5f-4b1b-aa63-63b71dccf351",
   "metadata": {},
   "outputs": [
    {
     "name": "stdout",
     "output_type": "stream",
     "text": [
      "$fcc_astarr_macs_input_overlap\n",
      "[1] 150042      6\n",
      "\n",
      "$fcc_astarr_macs_input_union\n",
      "[1] 246852      6\n",
      "\n"
     ]
    },
    {
     "data": {
      "text/html": [
       "<table>\n",
       " <thead>\n",
       "  <tr>\n",
       "   <th style=\"text-align:left;\"> Chrom </th>\n",
       "   <th style=\"text-align:right;\"> ChromStart </th>\n",
       "   <th style=\"text-align:right;\"> ChromEnd </th>\n",
       "   <th style=\"text-align:left;\"> Region </th>\n",
       "   <th style=\"text-align:right;\"> Distance2TSS </th>\n",
       "   <th style=\"text-align:left;\"> TSS_Proximity </th>\n",
       "  </tr>\n",
       " </thead>\n",
       "<tbody>\n",
       "  <tr>\n",
       "   <td style=\"text-align:left;\"> chr1 </td>\n",
       "   <td style=\"text-align:right;\"> 10038 </td>\n",
       "   <td style=\"text-align:right;\"> 10405 </td>\n",
       "   <td style=\"text-align:left;\"> chr1:10038-10405 </td>\n",
       "   <td style=\"text-align:right;\"> 1469 </td>\n",
       "   <td style=\"text-align:left;\"> Proximal </td>\n",
       "  </tr>\n",
       "  <tr>\n",
       "   <td style=\"text-align:left;\"> chr1 </td>\n",
       "   <td style=\"text-align:right;\"> 14282 </td>\n",
       "   <td style=\"text-align:right;\"> 14614 </td>\n",
       "   <td style=\"text-align:left;\"> chr1:14282-14614 </td>\n",
       "   <td style=\"text-align:right;\"> 2409 </td>\n",
       "   <td style=\"text-align:left;\"> Distal </td>\n",
       "  </tr>\n",
       "  <tr>\n",
       "   <td style=\"text-align:left;\"> chr1 </td>\n",
       "   <td style=\"text-align:right;\"> 16025 </td>\n",
       "   <td style=\"text-align:right;\"> 16338 </td>\n",
       "   <td style=\"text-align:left;\"> chr1:16025-16338 </td>\n",
       "   <td style=\"text-align:right;\"> 1099 </td>\n",
       "   <td style=\"text-align:left;\"> Proximal </td>\n",
       "  </tr>\n",
       "</tbody>\n",
       "</table>"
      ]
     },
     "metadata": {},
     "output_type": "display_data"
    }
   ],
   "source": [
    "lst = lst_dat_region_dist2tss_import\n",
    "lst = lapply(lst, function(dat){\n",
    "    dat = dat %>% \n",
    "        dplyr::select(\n",
    "            Chrom, ChromStart, ChromEnd, Region, \n",
    "            Distance2TSS, TSS_Proximity\n",
    "        ) %>%\n",
    "        dplyr::distinct()\n",
    "    return(dat)\n",
    "})\n",
    "\n",
    "### assign and show\n",
    "lst_dat_region_dist2tss_arrange = lst\n",
    "\n",
    "res = lapply(lst, dim)\n",
    "print(res)\n",
    "\n",
    "dat = lst[[1]]\n",
    "fun_display_table(head(dat, 3))"
   ]
  },
  {
   "cell_type": "markdown",
   "id": "eda516b4-7d54-4064-8b54-9bc9eb471a8e",
   "metadata": {},
   "source": [
    "## Join tables to define CRE group"
   ]
  },
  {
   "cell_type": "code",
   "execution_count": 12,
   "id": "5e82724e-f11d-494f-87b9-c4d5fbb25639",
   "metadata": {},
   "outputs": [
    {
     "name": "stdout",
     "output_type": "stream",
     "text": [
      "$fcc_astarr_macs_input_overlap\n",
      "[1] 150047      9\n",
      "\n",
      "$fcc_astarr_macs_input_union\n",
      "[1] 246862      9\n",
      "\n"
     ]
    },
    {
     "data": {
      "text/html": [
       "<table>\n",
       " <thead>\n",
       "  <tr>\n",
       "   <th style=\"text-align:left;\"> Chrom </th>\n",
       "   <th style=\"text-align:right;\"> ChromStart </th>\n",
       "   <th style=\"text-align:right;\"> ChromEnd </th>\n",
       "   <th style=\"text-align:left;\"> Region </th>\n",
       "   <th style=\"text-align:right;\"> Distance2TSS </th>\n",
       "   <th style=\"text-align:left;\"> TSS_Proximity </th>\n",
       "   <th style=\"text-align:right;\"> TSS </th>\n",
       "   <th style=\"text-align:left;\"> Direction_Assay </th>\n",
       "   <th style=\"text-align:left;\"> Group </th>\n",
       "  </tr>\n",
       " </thead>\n",
       "<tbody>\n",
       "  <tr>\n",
       "   <td style=\"text-align:left;\"> chr1 </td>\n",
       "   <td style=\"text-align:right;\"> 10038 </td>\n",
       "   <td style=\"text-align:right;\"> 10405 </td>\n",
       "   <td style=\"text-align:left;\"> chr1:10038-10405 </td>\n",
       "   <td style=\"text-align:right;\"> 1469 </td>\n",
       "   <td style=\"text-align:left;\"> Proximal </td>\n",
       "   <td style=\"text-align:right;\"> 0 </td>\n",
       "   <td style=\"text-align:left;\"> Inactive </td>\n",
       "   <td style=\"text-align:left;\"> Proximal:Inactive </td>\n",
       "  </tr>\n",
       "  <tr>\n",
       "   <td style=\"text-align:left;\"> chr1 </td>\n",
       "   <td style=\"text-align:right;\"> 14282 </td>\n",
       "   <td style=\"text-align:right;\"> 14614 </td>\n",
       "   <td style=\"text-align:left;\"> chr1:14282-14614 </td>\n",
       "   <td style=\"text-align:right;\"> 2409 </td>\n",
       "   <td style=\"text-align:left;\"> Distal </td>\n",
       "   <td style=\"text-align:right;\"> 0 </td>\n",
       "   <td style=\"text-align:left;\"> Inactive </td>\n",
       "   <td style=\"text-align:left;\"> Distal:Inactive </td>\n",
       "  </tr>\n",
       "  <tr>\n",
       "   <td style=\"text-align:left;\"> chr1 </td>\n",
       "   <td style=\"text-align:right;\"> 16025 </td>\n",
       "   <td style=\"text-align:right;\"> 16338 </td>\n",
       "   <td style=\"text-align:left;\"> chr1:16025-16338 </td>\n",
       "   <td style=\"text-align:right;\"> 1099 </td>\n",
       "   <td style=\"text-align:left;\"> Proximal </td>\n",
       "   <td style=\"text-align:right;\"> 0 </td>\n",
       "   <td style=\"text-align:left;\"> Inactive </td>\n",
       "   <td style=\"text-align:left;\"> Proximal:Inactive </td>\n",
       "  </tr>\n",
       "</tbody>\n",
       "</table>"
      ]
     },
     "metadata": {},
     "output_type": "display_data"
    }
   ],
   "source": [
    "### loop to import data\n",
    "lst = lapply(VEC_TXT_FOLDER, function(txt_folder){\n",
    "    ### get tables\n",
    "    dat_region_annot_fcc = lst_dat_region_annot_fcc_arrange[[txt_folder]]\n",
    "    dat_region_annot_tss = lst_dat_region_annot_tss_arrange[[txt_folder]]\n",
    "    dat_region_dist2tss  = lst_dat_region_dist2tss_arrange[[txt_folder]]\n",
    "    \n",
    "    ### join tables\n",
    "    dat = dat_region_dist2tss\n",
    "    dat = dat %>%\n",
    "        dplyr::left_join(dat_region_annot_tss, by = \"Region\") %>%\n",
    "        dplyr::mutate(TSS = ifelse(is.na(TSS), 0, TSS)) %>%\n",
    "        dplyr::left_join(dat_region_annot_fcc, by = \"Region\") %>%\n",
    "        dplyr::mutate(\n",
    "            Direction_Assay = ifelse(\n",
    "                is.na(Direction_Assay), \n",
    "                \"Inactive\", \n",
    "                Direction_Assay)\n",
    "        ) %>%\n",
    "        dplyr::distinct()\n",
    "\n",
    "    ### define CRE group\n",
    "    dat = dat %>% dplyr::mutate(Group = paste(TSS_Proximity, Direction_Assay, sep = \":\"))\n",
    "                                \n",
    "    return(dat)\n",
    "})\n",
    "\n",
    "### assign and show\n",
    "lst_dat_region_annot_result = lst\n",
    "\n",
    "res = lapply(lst, dim)\n",
    "print(res)\n",
    "\n",
    "dat = lst[[1]]\n",
    "fun_display_table(head(dat, 3))"
   ]
  },
  {
   "cell_type": "markdown",
   "id": "a7bbea92-7ed2-48a7-8856-8b5b498a2e52",
   "metadata": {},
   "source": [
    "**Explore: final CRE group**"
   ]
  },
  {
   "cell_type": "code",
   "execution_count": 13,
   "id": "944bc1e3-82a5-4d5d-bfa6-11c975b73da2",
   "metadata": {},
   "outputs": [
    {
     "data": {
      "text/html": [
       "<table>\n",
       " <thead>\n",
       "  <tr>\n",
       "   <th style=\"text-align:left;\"> Region </th>\n",
       "   <th style=\"text-align:right;\"> Distal:Active </th>\n",
       "   <th style=\"text-align:right;\"> Distal:Inactive </th>\n",
       "   <th style=\"text-align:right;\"> Distal:Repressive </th>\n",
       "   <th style=\"text-align:right;\"> Proximal:Active </th>\n",
       "   <th style=\"text-align:right;\"> Proximal:Inactive </th>\n",
       "   <th style=\"text-align:right;\"> Proximal:Repressive </th>\n",
       "  </tr>\n",
       " </thead>\n",
       "<tbody>\n",
       "  <tr>\n",
       "   <td style=\"text-align:left;\"> fcc_astarr_macs_input_overlap </td>\n",
       "   <td style=\"text-align:right;\"> 10578 </td>\n",
       "   <td style=\"text-align:right;\"> 117528 </td>\n",
       "   <td style=\"text-align:right;\"> 1364 </td>\n",
       "   <td style=\"text-align:right;\"> 6019 </td>\n",
       "   <td style=\"text-align:right;\"> 14173 </td>\n",
       "   <td style=\"text-align:right;\"> 385 </td>\n",
       "  </tr>\n",
       "  <tr>\n",
       "   <td style=\"text-align:left;\"> fcc_astarr_macs_input_union </td>\n",
       "   <td style=\"text-align:right;\"> 11362 </td>\n",
       "   <td style=\"text-align:right;\"> 208972 </td>\n",
       "   <td style=\"text-align:right;\"> 2407 </td>\n",
       "   <td style=\"text-align:right;\"> 6073 </td>\n",
       "   <td style=\"text-align:right;\"> 17587 </td>\n",
       "   <td style=\"text-align:right;\"> 461 </td>\n",
       "  </tr>\n",
       "</tbody>\n",
       "</table>"
      ]
     },
     "metadata": {},
     "output_type": "display_data"
    }
   ],
   "source": [
    "lst = lst_dat_region_annot_result\n",
    "lst = lapply(lst, function(dat){\n",
    "    res = table(dat$Group, dnn=c(\"Group\"))\n",
    "    dat = as.data.frame(res)\n",
    "    return(dat)\n",
    "})\n",
    "\n",
    "dat = bind_rows(lst, .id = \"Region\")\n",
    "dat = dat %>% tidyr::spread(Group, Freq)\n",
    "fun_display_table(dat)"
   ]
  },
  {
   "cell_type": "markdown",
   "id": "4034a660-c0ee-45d8-8ffe-d752554c9926",
   "metadata": {},
   "source": [
    "**Explore: TSS x Direction**"
   ]
  },
  {
   "cell_type": "code",
   "execution_count": 14,
   "id": "5b0dd99b-dd0a-4823-bc8e-59c330aa673b",
   "metadata": {},
   "outputs": [
    {
     "data": {
      "text/html": [
       "<table>\n",
       " <thead>\n",
       "  <tr>\n",
       "   <th style=\"text-align:left;\"> Region </th>\n",
       "   <th style=\"text-align:left;\"> Direction_Assay </th>\n",
       "   <th style=\"text-align:right;\"> Distal </th>\n",
       "   <th style=\"text-align:right;\"> Proximal </th>\n",
       "   <th style=\"text-align:right;\"> Total </th>\n",
       "  </tr>\n",
       " </thead>\n",
       "<tbody>\n",
       "  <tr>\n",
       "   <td style=\"text-align:left;\"> fcc_astarr_macs_input_overlap </td>\n",
       "   <td style=\"text-align:left;\"> Active </td>\n",
       "   <td style=\"text-align:right;\"> 10578 </td>\n",
       "   <td style=\"text-align:right;\"> 6019 </td>\n",
       "   <td style=\"text-align:right;\"> 16597 </td>\n",
       "  </tr>\n",
       "  <tr>\n",
       "   <td style=\"text-align:left;\"> fcc_astarr_macs_input_overlap </td>\n",
       "   <td style=\"text-align:left;\"> Inactive </td>\n",
       "   <td style=\"text-align:right;\"> 117528 </td>\n",
       "   <td style=\"text-align:right;\"> 14173 </td>\n",
       "   <td style=\"text-align:right;\"> 131701 </td>\n",
       "  </tr>\n",
       "  <tr>\n",
       "   <td style=\"text-align:left;\"> fcc_astarr_macs_input_overlap </td>\n",
       "   <td style=\"text-align:left;\"> Repressive </td>\n",
       "   <td style=\"text-align:right;\"> 1364 </td>\n",
       "   <td style=\"text-align:right;\"> 385 </td>\n",
       "   <td style=\"text-align:right;\"> 1749 </td>\n",
       "  </tr>\n",
       "  <tr>\n",
       "   <td style=\"text-align:left;\"> fcc_astarr_macs_input_union </td>\n",
       "   <td style=\"text-align:left;\"> Active </td>\n",
       "   <td style=\"text-align:right;\"> 11362 </td>\n",
       "   <td style=\"text-align:right;\"> 6073 </td>\n",
       "   <td style=\"text-align:right;\"> 17435 </td>\n",
       "  </tr>\n",
       "  <tr>\n",
       "   <td style=\"text-align:left;\"> fcc_astarr_macs_input_union </td>\n",
       "   <td style=\"text-align:left;\"> Inactive </td>\n",
       "   <td style=\"text-align:right;\"> 208972 </td>\n",
       "   <td style=\"text-align:right;\"> 17587 </td>\n",
       "   <td style=\"text-align:right;\"> 226559 </td>\n",
       "  </tr>\n",
       "  <tr>\n",
       "   <td style=\"text-align:left;\"> fcc_astarr_macs_input_union </td>\n",
       "   <td style=\"text-align:left;\"> Repressive </td>\n",
       "   <td style=\"text-align:right;\"> 2407 </td>\n",
       "   <td style=\"text-align:right;\"> 461 </td>\n",
       "   <td style=\"text-align:right;\"> 2868 </td>\n",
       "  </tr>\n",
       "</tbody>\n",
       "</table>"
      ]
     },
     "metadata": {},
     "output_type": "display_data"
    }
   ],
   "source": [
    "lst = lst_dat_region_annot_result\n",
    "lst = lapply(lst, function(dat){\n",
    "    res = table(dat$TSS_Proximity, dat$Direction_Assay, dnn=c(\"TSS_Proximity\", \"Direction_Assay\"))\n",
    "    dat = as.data.frame(res)\n",
    "    return(dat)\n",
    "})\n",
    "\n",
    "dat = bind_rows(lst, .id = \"Region\")\n",
    "dat = dat %>% tidyr::spread(TSS_Proximity, Freq) %>% dplyr::mutate(Total = Distal + Proximal)\n",
    "fun_display_table(dat)"
   ]
  },
  {
   "cell_type": "markdown",
   "id": "cfc7358b-1366-4c6e-aaf2-9f0f16cde3a8",
   "metadata": {},
   "source": [
    "**Check: Missing, TSS proximity, and TSS overlap**"
   ]
  },
  {
   "cell_type": "code",
   "execution_count": 15,
   "id": "688a163d-c5eb-4ce1-bb91-48413dfc7e5f",
   "metadata": {},
   "outputs": [
    {
     "name": "stdout",
     "output_type": "stream",
     "text": [
      "Region: fcc_astarr_macs_input_overlap \n",
      "Any Missing? FALSE \n",
      "\n",
      "If D==0: \n",
      "\n",
      "TSS==1 \n",
      " 13732 \n",
      "\n",
      "If TSS==1: \n",
      "\n",
      " D==0 \n",
      "13732 \n",
      "\n",
      "Region: fcc_astarr_macs_input_union \n",
      "Any Missing? FALSE \n",
      "\n",
      "If D==0: \n",
      "\n",
      "TSS==1 \n",
      " 15182 \n",
      "\n",
      "If TSS==1: \n",
      "\n",
      " D==0 \n",
      "15182 \n",
      "\n"
     ]
    }
   ],
   "source": [
    "for (txt_folder in VEC_TXT_FOLDER){\n",
    "    cat(\"Region:\", txt_folder, \"\\n\")\n",
    "    dat = lst_dat_region_annot_result[[txt_folder]]\n",
    "    dat = dat %>% \n",
    "        dplyr::select(Region, TSS, Distance2TSS) %>% \n",
    "        dplyr::distinct()\n",
    "    \n",
    "    ### check missing values\n",
    "    cat(\"Any Missing?\", any(is.na(dat)), \"\\n\")\n",
    "    cat(\"\\n\")\n",
    "    \n",
    "    ### check TSS annotation and distance\n",
    "    cat(\"If D==0:\", \"\\n\")\n",
    "    tmp = dat %>% \n",
    "        dplyr::filter(Distance2TSS == 0) %>%\n",
    "        dplyr::mutate(Note = ifelse(TSS == 1, \"TSS==1\", \"TSS!=1\"))\n",
    "    res = table(tmp$Note)\n",
    "    print(res)\n",
    "    cat(\"\\n\")\n",
    "    \n",
    "    cat(\"If TSS==1:\", \"\\n\")\n",
    "    tmp = dat %>% \n",
    "        dplyr::filter(TSS == 1) %>% \n",
    "        dplyr::mutate(Note = ifelse(Distance2TSS == 0, \"D==0\", \"D>0\"))\n",
    "    res = table(tmp$Note)\n",
    "    print(res)\n",
    "    cat(\"\\n\")\n",
    "}"
   ]
  },
  {
   "cell_type": "markdown",
   "id": "575fd1ff-119c-4c37-addd-6c65112cfd2b",
   "metadata": {},
   "source": [
    "## Subset and bed files for genome track"
   ]
  },
  {
   "cell_type": "markdown",
   "id": "adce1ec3-9202-4526-b83a-e234845c397c",
   "metadata": {},
   "source": [
    "**Remove inactive**"
   ]
  },
  {
   "cell_type": "code",
   "execution_count": 16,
   "id": "89b26327-7f8f-4058-b122-17596bd94a1c",
   "metadata": {},
   "outputs": [
    {
     "name": "stdout",
     "output_type": "stream",
     "text": [
      "$fcc_astarr_macs_input_overlap\n",
      "[1] 18346     5\n",
      "\n",
      "$fcc_astarr_macs_input_union\n",
      "[1] 20303     5\n",
      "\n"
     ]
    },
    {
     "data": {
      "text/html": [
       "<table>\n",
       " <thead>\n",
       "  <tr>\n",
       "   <th style=\"text-align:left;\"> Chrom </th>\n",
       "   <th style=\"text-align:right;\"> ChromStart </th>\n",
       "   <th style=\"text-align:right;\"> ChromEnd </th>\n",
       "   <th style=\"text-align:left;\"> Region </th>\n",
       "   <th style=\"text-align:left;\"> Group </th>\n",
       "  </tr>\n",
       " </thead>\n",
       "<tbody>\n",
       "  <tr>\n",
       "   <td style=\"text-align:left;\"> chr1 </td>\n",
       "   <td style=\"text-align:right;\"> 778233 </td>\n",
       "   <td style=\"text-align:right;\"> 779389 </td>\n",
       "   <td style=\"text-align:left;\"> chr1:778233-779389 </td>\n",
       "   <td style=\"text-align:left;\"> Proximal:Active </td>\n",
       "  </tr>\n",
       "  <tr>\n",
       "   <td style=\"text-align:left;\"> chr1 </td>\n",
       "   <td style=\"text-align:right;\"> 958722 </td>\n",
       "   <td style=\"text-align:right;\"> 959968 </td>\n",
       "   <td style=\"text-align:left;\"> chr1:958722-959968 </td>\n",
       "   <td style=\"text-align:left;\"> Proximal:Active </td>\n",
       "  </tr>\n",
       "  <tr>\n",
       "   <td style=\"text-align:left;\"> chr1 </td>\n",
       "   <td style=\"text-align:right;\"> 960468 </td>\n",
       "   <td style=\"text-align:right;\"> 961615 </td>\n",
       "   <td style=\"text-align:left;\"> chr1:960468-961615 </td>\n",
       "   <td style=\"text-align:left;\"> Proximal:Active </td>\n",
       "  </tr>\n",
       "</tbody>\n",
       "</table>"
      ]
     },
     "metadata": {},
     "output_type": "display_data"
    }
   ],
   "source": [
    "lst = lst_dat_region_annot_result\n",
    "lst = lapply(lst, function(dat){\n",
    "    dat = dat %>%\n",
    "        dplyr::select(Chrom, ChromStart, ChromEnd, Region, Group) %>%\n",
    "        dplyr::filter(!str_detect(Group, \"Inactive\"))\n",
    "})\n",
    "\n",
    "### assign and show\n",
    "lst_dat_region_annot_subset = lst\n",
    "\n",
    "res = lapply(lst, dim)\n",
    "print(res)\n",
    "\n",
    "dat = lst[[1]]\n",
    "fun_display_table(head(dat, 3))"
   ]
  },
  {
   "cell_type": "markdown",
   "id": "a9fd862a-0fa3-4598-91a5-8824c712f262",
   "metadata": {},
   "source": [
    "**Apply color scale**"
   ]
  },
  {
   "cell_type": "code",
   "execution_count": 17,
   "id": "9ebf11cb-b39b-4d58-8498-18c4c2bb224f",
   "metadata": {},
   "outputs": [],
   "source": [
    "dat = tribble(\n",
    "    ~Group,                 ~Color,    ~ItemRgb,\n",
    "    \"Proximal:Active\",      \"#e41a1c\", \"228,26,28\",\n",
    "    \"Distal:Active\",        \"#ff7f00\", \"255,127,0\",\n",
    "    \"Distal:Repressive\",    \"#377eb8\", \"55,126,184\",\n",
    "    \"Proximal:Repressive\",  \"#4daf4a\", \"77,175,74\"\n",
    ")\n",
    "dat_annot_color = dat\n",
    "lst_txt_color = split(dat$Color, dat$Group)"
   ]
  },
  {
   "cell_type": "markdown",
   "id": "22262543-f884-48c6-9ab4-fcbfc794d27b",
   "metadata": {},
   "source": [
    "**Arrange table**"
   ]
  },
  {
   "cell_type": "code",
   "execution_count": 18,
   "id": "39c62f1b-c89f-4b17-be8d-db8c0707ca26",
   "metadata": {},
   "outputs": [
    {
     "name": "stdout",
     "output_type": "stream",
     "text": [
      "$fcc_astarr_macs_input_overlap\n",
      "[1] 18346     9\n",
      "\n",
      "$fcc_astarr_macs_input_union\n",
      "[1] 20303     9\n",
      "\n"
     ]
    },
    {
     "data": {
      "text/html": [
       "<table>\n",
       " <thead>\n",
       "  <tr>\n",
       "   <th style=\"text-align:left;\"> Chrom </th>\n",
       "   <th style=\"text-align:right;\"> ChromStart </th>\n",
       "   <th style=\"text-align:right;\"> ChromEnd </th>\n",
       "   <th style=\"text-align:left;\"> Group </th>\n",
       "   <th style=\"text-align:right;\"> Score </th>\n",
       "   <th style=\"text-align:left;\"> Strand </th>\n",
       "   <th style=\"text-align:right;\"> ThickStart </th>\n",
       "   <th style=\"text-align:right;\"> ThickEnd </th>\n",
       "   <th style=\"text-align:left;\"> ItemRgb </th>\n",
       "  </tr>\n",
       " </thead>\n",
       "<tbody>\n",
       "  <tr>\n",
       "   <td style=\"text-align:left;\"> chr1 </td>\n",
       "   <td style=\"text-align:right;\"> 778233 </td>\n",
       "   <td style=\"text-align:right;\"> 779389 </td>\n",
       "   <td style=\"text-align:left;\"> Proximal:Active </td>\n",
       "   <td style=\"text-align:right;\"> 0 </td>\n",
       "   <td style=\"text-align:left;\"> . </td>\n",
       "   <td style=\"text-align:right;\"> 778233 </td>\n",
       "   <td style=\"text-align:right;\"> 779389 </td>\n",
       "   <td style=\"text-align:left;\"> 228,26,28 </td>\n",
       "  </tr>\n",
       "  <tr>\n",
       "   <td style=\"text-align:left;\"> chr1 </td>\n",
       "   <td style=\"text-align:right;\"> 958722 </td>\n",
       "   <td style=\"text-align:right;\"> 959968 </td>\n",
       "   <td style=\"text-align:left;\"> Proximal:Active </td>\n",
       "   <td style=\"text-align:right;\"> 0 </td>\n",
       "   <td style=\"text-align:left;\"> . </td>\n",
       "   <td style=\"text-align:right;\"> 958722 </td>\n",
       "   <td style=\"text-align:right;\"> 959968 </td>\n",
       "   <td style=\"text-align:left;\"> 228,26,28 </td>\n",
       "  </tr>\n",
       "  <tr>\n",
       "   <td style=\"text-align:left;\"> chr1 </td>\n",
       "   <td style=\"text-align:right;\"> 960468 </td>\n",
       "   <td style=\"text-align:right;\"> 961615 </td>\n",
       "   <td style=\"text-align:left;\"> Proximal:Active </td>\n",
       "   <td style=\"text-align:right;\"> 0 </td>\n",
       "   <td style=\"text-align:left;\"> . </td>\n",
       "   <td style=\"text-align:right;\"> 960468 </td>\n",
       "   <td style=\"text-align:right;\"> 961615 </td>\n",
       "   <td style=\"text-align:left;\"> 228,26,28 </td>\n",
       "  </tr>\n",
       "</tbody>\n",
       "</table>"
      ]
     },
     "metadata": {},
     "output_type": "display_data"
    }
   ],
   "source": [
    "lst = lst_dat_region_annot_subset\n",
    "lst = lapply(lst, function(dat){\n",
    "    dat = dat %>%\n",
    "        dplyr::left_join(dat_annot_color, by = \"Group\") %>%\n",
    "        dplyr::mutate(\n",
    "            Score      = 0,\n",
    "            Strand     = \".\",\n",
    "            ThickStart = ChromStart,\n",
    "            ThickEnd   = ChromEnd\n",
    "        ) %>%\n",
    "        dplyr::select(\n",
    "            Chrom, ChromStart, ChromEnd,\n",
    "            Group,\n",
    "            Score,\n",
    "            Strand,\n",
    "            ThickStart,\n",
    "            ThickEnd,\n",
    "            ItemRgb\n",
    "        )\n",
    "})\n",
    "\n",
    "### assign and show\n",
    "lst_dat_region_annot_track = lst\n",
    "\n",
    "res = lapply(lst, dim)\n",
    "print(res)\n",
    "\n",
    "dat = lst[[1]]\n",
    "fun_display_table(head(dat, 3))"
   ]
  },
  {
   "cell_type": "markdown",
   "id": "8811e04d-50e4-4a39-bff1-8de8bfe9fbe0",
   "metadata": {},
   "source": [
    "## Save results"
   ]
  },
  {
   "cell_type": "code",
   "execution_count": 19,
   "id": "027b8de5-87e9-4908-a172-52f0b1f726e2",
   "metadata": {},
   "outputs": [],
   "source": [
    "for (txt_folder in VEC_TXT_FOLDER){\n",
    "\n",
    "    ### get each table\n",
    "    dat_region_annot_result = lst_dat_region_annot_result[[txt_folder]]\n",
    "    dat_region_annot_subset = lst_dat_region_annot_subset[[txt_folder]]\n",
    "    \n",
    "    ### set file directory\n",
    "    txt_fdiry = file.path(\n",
    "        FD_RES, \n",
    "        \"region_annotation\", \n",
    "        txt_folder,\n",
    "        \"summary\"\n",
    "    )\n",
    "    \n",
    "    ### write table (group and TSS columns)\n",
    "    txt_fname = \"region.annotation.fcc_starrmpra_junke.group.label.tsv\"\n",
    "    txt_fpath = file.path(txt_fdiry, txt_fname)\n",
    "\n",
    "    dat = dat_region_annot_result\n",
    "    dat = dat %>% \n",
    "        dplyr::arrange(Chrom, ChromStart, ChromEnd) %>%\n",
    "        dplyr::distinct()\n",
    "    write_tsv(dat, txt_fpath)\n",
    "\n",
    "    ### write table (group column only)\n",
    "    txt_fname = \"region.annotation.fcc_starrmpra_junke.group.tsv\"\n",
    "    txt_fpath = file.path(txt_fdiry, txt_fname)\n",
    "\n",
    "    dat = dat_region_annot_subset\n",
    "    dat = dat %>% \n",
    "        dplyr::arrange(Chrom, ChromStart, ChromEnd) %>%\n",
    "        dplyr::distinct()\n",
    "    write_tsv(dat, txt_fpath)\n",
    "}"
   ]
  },
  {
   "cell_type": "markdown",
   "id": "dfb3e977-2575-4197-8892-8b2b4555ab24",
   "metadata": {},
   "source": [
    "**Save a copy to reference folder**"
   ]
  },
  {
   "cell_type": "code",
   "execution_count": 20,
   "id": "b771c13c-3b1b-4e05-8bbc-236c98d6554e",
   "metadata": {},
   "outputs": [],
   "source": [
    "txt_fdiry = file.path(FD_REF, \"fcc_region_results\")\n",
    "txt_fname = \"region.annotation.fcc_starrmpra.group.label.tsv\"\n",
    "txt_fpath = file.path(txt_fdiry, txt_fname)\n",
    "\n",
    "idx = \"fcc_astarr_macs_input_overlap\"\n",
    "dat = lst_dat_region_annot_result[[idx]]\n",
    "dat = dat %>% \n",
    "    dplyr::arrange(Chrom, ChromStart, ChromEnd) %>%\n",
    "    dplyr::distinct()\n",
    "write_tsv(dat, txt_fpath)"
   ]
  },
  {
   "cell_type": "code",
   "execution_count": 21,
   "id": "5c993d90-f1ff-4b21-8c2f-b34d35d002fb",
   "metadata": {},
   "outputs": [],
   "source": [
    "txt_fdiry = file.path(FD_REF, \"fcc_region_results\")\n",
    "txt_fname = \"region.annotation.fcc_starrmpra.group.tsv\"\n",
    "txt_fpath = file.path(txt_fdiry, txt_fname)\n",
    "\n",
    "idx = \"fcc_astarr_macs_input_overlap\"\n",
    "dat = lst_dat_region_annot_subset[[idx]]\n",
    "dat = dat %>% \n",
    "    dplyr::arrange(Chrom, ChromStart, ChromEnd) %>%\n",
    "    dplyr::distinct()\n",
    "write_tsv(dat, txt_fpath)"
   ]
  },
  {
   "cell_type": "code",
   "execution_count": 22,
   "id": "dfce0c11-f2b2-4606-bab4-805eec0fee8e",
   "metadata": {},
   "outputs": [],
   "source": [
    "txt_fdiry = file.path(FD_REF, \"fcc_region_results\")\n",
    "txt_fname = \"region.annotation.fcc_starrmpra.group.bed.gz\"\n",
    "txt_fpath = file.path(txt_fdiry, txt_fname)\n",
    "\n",
    "idx = \"fcc_astarr_macs_input_overlap\"\n",
    "dat = lst_dat_region_annot_track[[idx]]\n",
    "dat = dat %>% \n",
    "    dplyr::arrange(Chrom, ChromStart, ChromEnd) %>%\n",
    "    dplyr::distinct()\n",
    "write_tsv(dat, txt_fpath, col_names = FALSE)"
   ]
  },
  {
   "cell_type": "code",
   "execution_count": null,
   "id": "2a2ec285-8d85-4ef8-beea-80ca0f895496",
   "metadata": {},
   "outputs": [],
   "source": []
  }
 ],
 "metadata": {
  "kernelspec": {
   "display_name": "R",
   "language": "R",
   "name": "ir"
  },
  "language_info": {
   "codemirror_mode": "r",
   "file_extension": ".r",
   "mimetype": "text/x-r-source",
   "name": "R",
   "pygments_lexer": "r",
   "version": "4.5.1"
  }
 },
 "nbformat": 4,
 "nbformat_minor": 5
}
