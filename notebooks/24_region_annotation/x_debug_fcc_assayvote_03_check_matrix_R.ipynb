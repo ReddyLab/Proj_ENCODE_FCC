{
 "cells": [
  {
   "cell_type": "raw",
   "id": "7fdd582c-1d08-492d-a2e7-df210c39b9f6",
   "metadata": {},
   "source": [
    "---\n",
    "title: FCC Peak calls\n",
    "subtitle: export annotation\n",
    "format:\n",
    "    html:\n",
    "        code-fold:  true\n",
    "        code-tools: true\n",
    "---"
   ]
  },
  {
   "cell_type": "markdown",
   "id": "72c44197-aee9-4b1a-9e8b-349f015fdabd",
   "metadata": {},
   "source": [
    "**Set environment**"
   ]
  },
  {
   "cell_type": "code",
   "execution_count": 2,
   "id": "b2a08c7b-de9e-457f-9579-2021df7bdc3a",
   "metadata": {
    "tags": []
   },
   "outputs": [
    {
     "name": "stdout",
     "output_type": "stream",
     "text": [
      "You are working on        Singularity: singularity_proj_encode_fcc \n",
      "BASE DIRECTORY (FD_BASE): /data/reddylab/Kuei \n",
      "REPO DIRECTORY (FD_REPO): /data/reddylab/Kuei/repo \n",
      "WORK DIRECTORY (FD_WORK): /data/reddylab/Kuei/work \n",
      "DATA DIRECTORY (FD_DATA): /data/reddylab/Kuei/data \n",
      "\n",
      "You are working with      ENCODE FCC \n",
      "PATH OF PROJECT (FD_PRJ): /data/reddylab/Kuei/repo/Proj_ENCODE_FCC \n",
      "PROJECT RESULTS (FD_RES): /data/reddylab/Kuei/repo/Proj_ENCODE_FCC/results \n",
      "PROJECT SCRIPTS (FD_EXE): /data/reddylab/Kuei/repo/Proj_ENCODE_FCC/scripts \n",
      "PROJECT DATA    (FD_DAT): /data/reddylab/Kuei/repo/Proj_ENCODE_FCC/data \n",
      "PROJECT NOTE    (FD_NBK): /data/reddylab/Kuei/repo/Proj_ENCODE_FCC/notebooks \n",
      "PROJECT DOCS    (FD_DOC): /data/reddylab/Kuei/repo/Proj_ENCODE_FCC/docs \n",
      "PROJECT LOG     (FD_LOG): /data/reddylab/Kuei/repo/Proj_ENCODE_FCC/log \n",
      "PROJECT REF     (FD_REF): /data/reddylab/Kuei/repo/Proj_ENCODE_FCC/references \n",
      "\n"
     ]
    }
   ],
   "source": [
    "suppressMessages(suppressWarnings(source(\"../run_config_project_sing.R\")))\n",
    "show_env()"
   ]
  },
  {
   "cell_type": "markdown",
   "id": "7248b08a-f81a-4b30-a03b-d1d319d22903",
   "metadata": {},
   "source": [
    "## Import the first intersect pairs"
   ]
  },
  {
   "cell_type": "code",
   "execution_count": 9,
   "id": "6dd445f9-2ce1-4da1-bbad-03fb6d7dc3f7",
   "metadata": {},
   "outputs": [
    {
     "name": "stdout",
     "output_type": "stream",
     "text": [
      "[1] 208167     10\n"
     ]
    },
    {
     "data": {
      "text/html": [
       "<table>\n",
       " <thead>\n",
       "  <tr>\n",
       "   <th style=\"text-align:left;\"> Chrom </th>\n",
       "   <th style=\"text-align:right;\"> ChromStart </th>\n",
       "   <th style=\"text-align:right;\"> ChromEnd </th>\n",
       "   <th style=\"text-align:left;\"> Region </th>\n",
       "   <th style=\"text-align:left;\"> Annotation_A </th>\n",
       "   <th style=\"text-align:left;\"> Annotation_B </th>\n",
       "   <th style=\"text-align:left;\"> Group </th>\n",
       "   <th style=\"text-align:left;\"> Label </th>\n",
       "   <th style=\"text-align:left;\"> Region_Annot </th>\n",
       "   <th style=\"text-align:right;\"> Region_Count </th>\n",
       "  </tr>\n",
       " </thead>\n",
       "<tbody>\n",
       "  <tr>\n",
       "   <td style=\"text-align:left;\"> chr1 </td>\n",
       "   <td style=\"text-align:right;\"> 10038 </td>\n",
       "   <td style=\"text-align:right;\"> 10405 </td>\n",
       "   <td style=\"text-align:left;\"> chr1:10038-10405 </td>\n",
       "   <td style=\"text-align:left;\"> fcc_astarr_macs_input_overlap </td>\n",
       "   <td style=\"text-align:left;\"> fcc_starrmpra_junke_astarr </td>\n",
       "   <td style=\"text-align:left;\"> ASTARR </td>\n",
       "   <td style=\"text-align:left;\"> ASTARR_R </td>\n",
       "   <td style=\"text-align:left;\"> chr1:10010-10430 </td>\n",
       "   <td style=\"text-align:right;\"> 1 </td>\n",
       "  </tr>\n",
       "  <tr>\n",
       "   <td style=\"text-align:left;\"> chr1 </td>\n",
       "   <td style=\"text-align:right;\"> 16025 </td>\n",
       "   <td style=\"text-align:right;\"> 16338 </td>\n",
       "   <td style=\"text-align:left;\"> chr1:16025-16338 </td>\n",
       "   <td style=\"text-align:left;\"> fcc_astarr_macs_input_overlap </td>\n",
       "   <td style=\"text-align:left;\"> fcc_starrmpra_junke_astarr </td>\n",
       "   <td style=\"text-align:left;\"> ASTARR </td>\n",
       "   <td style=\"text-align:left;\"> ASTARR_R </td>\n",
       "   <td style=\"text-align:left;\"> chr1:16220-16340 </td>\n",
       "   <td style=\"text-align:right;\"> 1 </td>\n",
       "  </tr>\n",
       "  <tr>\n",
       "   <td style=\"text-align:left;\"> chr1 </td>\n",
       "   <td style=\"text-align:right;\"> 17288 </td>\n",
       "   <td style=\"text-align:right;\"> 17689 </td>\n",
       "   <td style=\"text-align:left;\"> chr1:17288-17689 </td>\n",
       "   <td style=\"text-align:left;\"> fcc_astarr_macs_input_overlap </td>\n",
       "   <td style=\"text-align:left;\"> fcc_starrmpra_junke_astarr </td>\n",
       "   <td style=\"text-align:left;\"> ASTARR </td>\n",
       "   <td style=\"text-align:left;\"> ASTARR_R </td>\n",
       "   <td style=\"text-align:left;\"> chr1:17230-17440;chr1:17610-17720 </td>\n",
       "   <td style=\"text-align:right;\"> 2 </td>\n",
       "  </tr>\n",
       "</tbody>\n",
       "</table>"
      ]
     },
     "metadata": {},
     "output_type": "display_data"
    }
   ],
   "source": [
    "### set file directory\n",
    "txt_fdiry = file.path(FD_RES, \"region_annotation\", \"fcc_astarr_macs_input_overlap\", \"summary\")\n",
    "txt_fname = \"region.intersect.summary.fcc_starrmpra_junke.tsv\"\n",
    "txt_fpath = file.path(txt_fdiry, txt_fname)\n",
    "\n",
    "### read table\n",
    "dat = read_tsv(txt_fpath, show_col_types = FALSE)\n",
    "\n",
    "### assign and show\n",
    "dat_region_annot_import_new = dat\n",
    "print(dim(dat))\n",
    "fun_display_table(head(dat, 3))"
   ]
  },
  {
   "cell_type": "markdown",
   "id": "6d484a78-6e1a-4e37-a539-df45b149dd3d",
   "metadata": {},
   "source": [
    "## Import the second intersect pairs"
   ]
  },
  {
   "cell_type": "code",
   "execution_count": 10,
   "id": "6fdec3a2-5135-4c40-8802-f65ba574ebc7",
   "metadata": {},
   "outputs": [
    {
     "name": "stdout",
     "output_type": "stream",
     "text": [
      "[1] 208167     10\n"
     ]
    },
    {
     "data": {
      "text/html": [
       "<table>\n",
       " <thead>\n",
       "  <tr>\n",
       "   <th style=\"text-align:left;\"> Chrom </th>\n",
       "   <th style=\"text-align:right;\"> ChromStart </th>\n",
       "   <th style=\"text-align:right;\"> ChromEnd </th>\n",
       "   <th style=\"text-align:left;\"> Region </th>\n",
       "   <th style=\"text-align:left;\"> Annotation_A </th>\n",
       "   <th style=\"text-align:left;\"> Annotation_B </th>\n",
       "   <th style=\"text-align:left;\"> Group </th>\n",
       "   <th style=\"text-align:left;\"> Label </th>\n",
       "   <th style=\"text-align:left;\"> Region_Annot </th>\n",
       "   <th style=\"text-align:right;\"> Region_Count </th>\n",
       "  </tr>\n",
       " </thead>\n",
       "<tbody>\n",
       "  <tr>\n",
       "   <td style=\"text-align:left;\"> chr1 </td>\n",
       "   <td style=\"text-align:right;\"> 10038 </td>\n",
       "   <td style=\"text-align:right;\"> 10405 </td>\n",
       "   <td style=\"text-align:left;\"> chr1:10038-10405 </td>\n",
       "   <td style=\"text-align:left;\"> fcc_astarr_macs_input_overlap </td>\n",
       "   <td style=\"text-align:left;\"> fcc_starrmpra_junke_astarr </td>\n",
       "   <td style=\"text-align:left;\"> ASTARR </td>\n",
       "   <td style=\"text-align:left;\"> ASTARR_R </td>\n",
       "   <td style=\"text-align:left;\"> chr1:10010-10430 </td>\n",
       "   <td style=\"text-align:right;\"> 1 </td>\n",
       "  </tr>\n",
       "  <tr>\n",
       "   <td style=\"text-align:left;\"> chr1 </td>\n",
       "   <td style=\"text-align:right;\"> 16025 </td>\n",
       "   <td style=\"text-align:right;\"> 16338 </td>\n",
       "   <td style=\"text-align:left;\"> chr1:16025-16338 </td>\n",
       "   <td style=\"text-align:left;\"> fcc_astarr_macs_input_overlap </td>\n",
       "   <td style=\"text-align:left;\"> fcc_starrmpra_junke_astarr </td>\n",
       "   <td style=\"text-align:left;\"> ASTARR </td>\n",
       "   <td style=\"text-align:left;\"> ASTARR_R </td>\n",
       "   <td style=\"text-align:left;\"> chr1:16220-16340 </td>\n",
       "   <td style=\"text-align:right;\"> 1 </td>\n",
       "  </tr>\n",
       "  <tr>\n",
       "   <td style=\"text-align:left;\"> chr1 </td>\n",
       "   <td style=\"text-align:right;\"> 17288 </td>\n",
       "   <td style=\"text-align:right;\"> 17689 </td>\n",
       "   <td style=\"text-align:left;\"> chr1:17288-17689 </td>\n",
       "   <td style=\"text-align:left;\"> fcc_astarr_macs_input_overlap </td>\n",
       "   <td style=\"text-align:left;\"> fcc_starrmpra_junke_astarr </td>\n",
       "   <td style=\"text-align:left;\"> ASTARR </td>\n",
       "   <td style=\"text-align:left;\"> ASTARR_R </td>\n",
       "   <td style=\"text-align:left;\"> chr1:17230-17440;chr1:17610-17720 </td>\n",
       "   <td style=\"text-align:right;\"> 2 </td>\n",
       "  </tr>\n",
       "</tbody>\n",
       "</table>"
      ]
     },
     "metadata": {},
     "output_type": "display_data"
    }
   ],
   "source": [
    "### set file directory\n",
    "txt_fdiry = file.path(\n",
    "    FD_RES, \"region_annotation\", \"fcc_astarr_macs_input_overlap\", \n",
    "    \"tmp_archive250529\", \n",
    "    \"summary\"\n",
    ")\n",
    "txt_fname = \"region.annotation.fcc_starrmpra_junke.tsv\"\n",
    "txt_fpath = file.path(txt_fdiry, txt_fname)\n",
    "\n",
    "### read table\n",
    "dat = read_tsv(txt_fpath, show_col_types = FALSE)\n",
    "\n",
    "### assign and show\n",
    "dat_region_annot_import_old = dat\n",
    "print(dim(dat))\n",
    "fun_display_table(head(dat, 3))"
   ]
  },
  {
   "cell_type": "markdown",
   "id": "52d1ea7b-d5dd-4e04-a340-b1c8b4d463fa",
   "metadata": {},
   "source": []
  },
  {
   "cell_type": "code",
   "execution_count": 19,
   "id": "2b3b6bcc-5e2e-4136-ba3a-2dde9cc16dcb",
   "metadata": {},
   "outputs": [],
   "source": [
    "dat_region_annot_import = dat_region_annot_import_new"
   ]
  },
  {
   "cell_type": "code",
   "execution_count": 20,
   "id": "01949259-af63-46eb-b6e8-cd2e5f7fcdca",
   "metadata": {},
   "outputs": [],
   "source": [
    "vec = c(\"ASTARR\", \"WSTARR\", \"LMPRA\", \"TMPRA\")\n",
    "vec = c(\n",
    "    paste(vec, \"A\", sep = \"_\"),\n",
    "    paste(vec, \"R\", sep = \"_\")\n",
    ")\n",
    "vec_txt_label = vec"
   ]
  },
  {
   "cell_type": "markdown",
   "id": "b19425d3-6fab-40f2-b9a6-021614c3ceee",
   "metadata": {},
   "source": [
    "**Previous code**"
   ]
  },
  {
   "cell_type": "code",
   "execution_count": 23,
   "id": "48deaefa-ec2f-4e46-8953-1af4d5e3ec43",
   "metadata": {},
   "outputs": [
    {
     "name": "stdout",
     "output_type": "stream",
     "text": [
      "[1] 99749     9\n"
     ]
    },
    {
     "data": {
      "text/html": [
       "<table class=\"dataframe\">\n",
       "<caption>A tibble: 6 × 9</caption>\n",
       "<thead>\n",
       "\t<tr><th scope=col>Region</th><th scope=col>ASTARR_A</th><th scope=col>ASTARR_R</th><th scope=col>LMPRA_A</th><th scope=col>LMPRA_R</th><th scope=col>TMPRA_A</th><th scope=col>TMPRA_R</th><th scope=col>WSTARR_A</th><th scope=col>WSTARR_R</th></tr>\n",
       "\t<tr><th scope=col>&lt;chr&gt;</th><th scope=col>&lt;dbl&gt;</th><th scope=col>&lt;dbl&gt;</th><th scope=col>&lt;dbl&gt;</th><th scope=col>&lt;dbl&gt;</th><th scope=col>&lt;dbl&gt;</th><th scope=col>&lt;dbl&gt;</th><th scope=col>&lt;dbl&gt;</th><th scope=col>&lt;dbl&gt;</th></tr>\n",
       "</thead>\n",
       "<tbody>\n",
       "\t<tr><td>chr1:100028014-100029653</td><td>0</td><td>1</td><td>0</td><td>0</td><td>0</td><td>0</td><td>0</td><td>0</td></tr>\n",
       "\t<tr><td>chr1:100036895-100039189</td><td>1</td><td>1</td><td>1</td><td>0</td><td>0</td><td>0</td><td>1</td><td>0</td></tr>\n",
       "\t<tr><td>chr1:100048290-100048918</td><td>0</td><td>1</td><td>0</td><td>0</td><td>0</td><td>0</td><td>0</td><td>0</td></tr>\n",
       "\t<tr><td>chr1:100088179-100088721</td><td>0</td><td>1</td><td>0</td><td>0</td><td>0</td><td>0</td><td>0</td><td>0</td></tr>\n",
       "\t<tr><td>chr1:100090676-100091265</td><td>0</td><td>1</td><td>0</td><td>0</td><td>0</td><td>0</td><td>0</td><td>0</td></tr>\n",
       "\t<tr><td>chr1:100092544-100092869</td><td>0</td><td>1</td><td>0</td><td>0</td><td>0</td><td>0</td><td>0</td><td>0</td></tr>\n",
       "</tbody>\n",
       "</table>\n"
      ],
      "text/latex": [
       "A tibble: 6 × 9\n",
       "\\begin{tabular}{lllllllll}\n",
       " Region & ASTARR\\_A & ASTARR\\_R & LMPRA\\_A & LMPRA\\_R & TMPRA\\_A & TMPRA\\_R & WSTARR\\_A & WSTARR\\_R\\\\\n",
       " <chr> & <dbl> & <dbl> & <dbl> & <dbl> & <dbl> & <dbl> & <dbl> & <dbl>\\\\\n",
       "\\hline\n",
       "\t chr1:100028014-100029653 & 0 & 1 & 0 & 0 & 0 & 0 & 0 & 0\\\\\n",
       "\t chr1:100036895-100039189 & 1 & 1 & 1 & 0 & 0 & 0 & 1 & 0\\\\\n",
       "\t chr1:100048290-100048918 & 0 & 1 & 0 & 0 & 0 & 0 & 0 & 0\\\\\n",
       "\t chr1:100088179-100088721 & 0 & 1 & 0 & 0 & 0 & 0 & 0 & 0\\\\\n",
       "\t chr1:100090676-100091265 & 0 & 1 & 0 & 0 & 0 & 0 & 0 & 0\\\\\n",
       "\t chr1:100092544-100092869 & 0 & 1 & 0 & 0 & 0 & 0 & 0 & 0\\\\\n",
       "\\end{tabular}\n"
      ],
      "text/markdown": [
       "\n",
       "A tibble: 6 × 9\n",
       "\n",
       "| Region &lt;chr&gt; | ASTARR_A &lt;dbl&gt; | ASTARR_R &lt;dbl&gt; | LMPRA_A &lt;dbl&gt; | LMPRA_R &lt;dbl&gt; | TMPRA_A &lt;dbl&gt; | TMPRA_R &lt;dbl&gt; | WSTARR_A &lt;dbl&gt; | WSTARR_R &lt;dbl&gt; |\n",
       "|---|---|---|---|---|---|---|---|---|\n",
       "| chr1:100028014-100029653 | 0 | 1 | 0 | 0 | 0 | 0 | 0 | 0 |\n",
       "| chr1:100036895-100039189 | 1 | 1 | 1 | 0 | 0 | 0 | 1 | 0 |\n",
       "| chr1:100048290-100048918 | 0 | 1 | 0 | 0 | 0 | 0 | 0 | 0 |\n",
       "| chr1:100088179-100088721 | 0 | 1 | 0 | 0 | 0 | 0 | 0 | 0 |\n",
       "| chr1:100090676-100091265 | 0 | 1 | 0 | 0 | 0 | 0 | 0 | 0 |\n",
       "| chr1:100092544-100092869 | 0 | 1 | 0 | 0 | 0 | 0 | 0 | 0 |\n",
       "\n"
      ],
      "text/plain": [
       "  Region                   ASTARR_A ASTARR_R LMPRA_A LMPRA_R TMPRA_A TMPRA_R\n",
       "1 chr1:100028014-100029653 0        1        0       0       0       0      \n",
       "2 chr1:100036895-100039189 1        1        1       0       0       0      \n",
       "3 chr1:100048290-100048918 0        1        0       0       0       0      \n",
       "4 chr1:100088179-100088721 0        1        0       0       0       0      \n",
       "5 chr1:100090676-100091265 0        1        0       0       0       0      \n",
       "6 chr1:100092544-100092869 0        1        0       0       0       0      \n",
       "  WSTARR_A WSTARR_R\n",
       "1 0        0       \n",
       "2 1        0       \n",
       "3 0        0       \n",
       "4 0        0       \n",
       "5 0        0       \n",
       "6 0        0       "
      ]
     },
     "metadata": {},
     "output_type": "display_data"
    }
   ],
   "source": [
    "dat = dat_region_annot_import\n",
    "\n",
    "dat = dat %>% \n",
    "    dplyr::filter(Label %in% vec_txt_label)\n",
    "\n",
    "dat = dat %>% \n",
    "    dplyr::select(Region, Label) %>%\n",
    "    dplyr::mutate(Value  = 1) %>% \n",
    "    dplyr::distinct() %>%\n",
    "    tidyr::spread(Label, Value) %>%\n",
    "    replace(is.na(.), 0)\n",
    "\n",
    "dat_region_annot_matrix = dat\n",
    "print(dim(dat))\n",
    "head(dat)"
   ]
  },
  {
   "cell_type": "markdown",
   "id": "7528d4cb-0360-4636-b964-4647942b5b47",
   "metadata": {},
   "source": [
    "**New code**"
   ]
  },
  {
   "cell_type": "code",
   "execution_count": 21,
   "id": "00491597-c4ff-4a37-a947-0de4c6180196",
   "metadata": {},
   "outputs": [
    {
     "name": "stdout",
     "output_type": "stream",
     "text": [
      "Label: ASTARR_A WSTARR_A LMPRA_A TMPRA_A ASTARR_R WSTARR_R LMPRA_R TMPRA_R \n",
      "\n",
      "[1] 151862     10\n"
     ]
    },
    {
     "data": {
      "text/html": [
       "<table>\n",
       " <thead>\n",
       "  <tr>\n",
       "   <th style=\"text-align:left;\"> Chrom </th>\n",
       "   <th style=\"text-align:right;\"> ChromStart </th>\n",
       "   <th style=\"text-align:right;\"> ChromEnd </th>\n",
       "   <th style=\"text-align:left;\"> Region </th>\n",
       "   <th style=\"text-align:left;\"> Annotation_A </th>\n",
       "   <th style=\"text-align:left;\"> Annotation_B </th>\n",
       "   <th style=\"text-align:left;\"> Group </th>\n",
       "   <th style=\"text-align:left;\"> Label </th>\n",
       "   <th style=\"text-align:left;\"> Region_Annot </th>\n",
       "   <th style=\"text-align:right;\"> Region_Count </th>\n",
       "  </tr>\n",
       " </thead>\n",
       "<tbody>\n",
       "  <tr>\n",
       "   <td style=\"text-align:left;\"> chr1 </td>\n",
       "   <td style=\"text-align:right;\"> 10038 </td>\n",
       "   <td style=\"text-align:right;\"> 10405 </td>\n",
       "   <td style=\"text-align:left;\"> chr1:10038-10405 </td>\n",
       "   <td style=\"text-align:left;\"> fcc_astarr_macs_input_overlap </td>\n",
       "   <td style=\"text-align:left;\"> fcc_starrmpra_junke_astarr </td>\n",
       "   <td style=\"text-align:left;\"> ASTARR </td>\n",
       "   <td style=\"text-align:left;\"> ASTARR_R </td>\n",
       "   <td style=\"text-align:left;\"> chr1:10010-10430 </td>\n",
       "   <td style=\"text-align:right;\"> 1 </td>\n",
       "  </tr>\n",
       "  <tr>\n",
       "   <td style=\"text-align:left;\"> chr1 </td>\n",
       "   <td style=\"text-align:right;\"> 16025 </td>\n",
       "   <td style=\"text-align:right;\"> 16338 </td>\n",
       "   <td style=\"text-align:left;\"> chr1:16025-16338 </td>\n",
       "   <td style=\"text-align:left;\"> fcc_astarr_macs_input_overlap </td>\n",
       "   <td style=\"text-align:left;\"> fcc_starrmpra_junke_astarr </td>\n",
       "   <td style=\"text-align:left;\"> ASTARR </td>\n",
       "   <td style=\"text-align:left;\"> ASTARR_R </td>\n",
       "   <td style=\"text-align:left;\"> chr1:16220-16340 </td>\n",
       "   <td style=\"text-align:right;\"> 1 </td>\n",
       "  </tr>\n",
       "  <tr>\n",
       "   <td style=\"text-align:left;\"> chr1 </td>\n",
       "   <td style=\"text-align:right;\"> 17288 </td>\n",
       "   <td style=\"text-align:right;\"> 17689 </td>\n",
       "   <td style=\"text-align:left;\"> chr1:17288-17689 </td>\n",
       "   <td style=\"text-align:left;\"> fcc_astarr_macs_input_overlap </td>\n",
       "   <td style=\"text-align:left;\"> fcc_starrmpra_junke_astarr </td>\n",
       "   <td style=\"text-align:left;\"> ASTARR </td>\n",
       "   <td style=\"text-align:left;\"> ASTARR_R </td>\n",
       "   <td style=\"text-align:left;\"> chr1:17230-17440;chr1:17610-17720 </td>\n",
       "   <td style=\"text-align:right;\"> 2 </td>\n",
       "  </tr>\n",
       "</tbody>\n",
       "</table>"
      ]
     },
     "metadata": {},
     "output_type": "display_data"
    }
   ],
   "source": [
    "### init\n",
    "vec = c(\"ASTARR\", \"WSTARR\", \"LMPRA\", \"TMPRA\")\n",
    "vec = c(\n",
    "    paste(vec, \"A\", sep = \"_\"),\n",
    "    paste(vec, \"R\", sep = \"_\")\n",
    ")\n",
    "vec_txt_label = vec\n",
    "cat(\"Label:\", vec_txt_label, \"\\n\\n\")\n",
    "\n",
    "### rename columns\n",
    "#lst = lst_dat_region_annot_import\n",
    "#lst = lapply(lst, function(dat){\n",
    "dat = dat_region_annot_import\n",
    "dat = dat %>% \n",
    "    dplyr::filter(Label %in% vec_txt_label) %>%\n",
    "    dplyr::distinct()\n",
    "#    return(dat)\n",
    "#})\n",
    "\n",
    "### assign and show\n",
    "#lst_dat_region_annot_arrange = lst\n",
    "#cat(\"Region:\", names(lst), \"\\n\\n\")\n",
    "#dat = lst[[1]]\n",
    "\n",
    "dat_region_annot_arrange = dat\n",
    "print(dim(dat))\n",
    "fun_display_table(head(dat, 3))"
   ]
  },
  {
   "cell_type": "code",
   "execution_count": 22,
   "id": "fbb9ac4b-0311-4a00-9942-7ec4d1eeec26",
   "metadata": {},
   "outputs": [
    {
     "name": "stdout",
     "output_type": "stream",
     "text": [
      "[1] 99749    12\n"
     ]
    },
    {
     "data": {
      "text/html": [
       "<table>\n",
       " <thead>\n",
       "  <tr>\n",
       "   <th style=\"text-align:left;\"> Chrom </th>\n",
       "   <th style=\"text-align:right;\"> ChromStart </th>\n",
       "   <th style=\"text-align:right;\"> ChromEnd </th>\n",
       "   <th style=\"text-align:left;\"> Region </th>\n",
       "   <th style=\"text-align:right;\"> ASTARR_A </th>\n",
       "   <th style=\"text-align:right;\"> ASTARR_R </th>\n",
       "   <th style=\"text-align:right;\"> LMPRA_A </th>\n",
       "   <th style=\"text-align:right;\"> LMPRA_R </th>\n",
       "   <th style=\"text-align:right;\"> TMPRA_A </th>\n",
       "   <th style=\"text-align:right;\"> TMPRA_R </th>\n",
       "   <th style=\"text-align:right;\"> WSTARR_A </th>\n",
       "   <th style=\"text-align:right;\"> WSTARR_R </th>\n",
       "  </tr>\n",
       " </thead>\n",
       "<tbody>\n",
       "  <tr>\n",
       "   <td style=\"text-align:left;\"> chr1 </td>\n",
       "   <td style=\"text-align:right;\"> 10038 </td>\n",
       "   <td style=\"text-align:right;\"> 10405 </td>\n",
       "   <td style=\"text-align:left;\"> chr1:10038-10405 </td>\n",
       "   <td style=\"text-align:right;\"> 0 </td>\n",
       "   <td style=\"text-align:right;\"> 1 </td>\n",
       "   <td style=\"text-align:right;\"> 0 </td>\n",
       "   <td style=\"text-align:right;\"> 0 </td>\n",
       "   <td style=\"text-align:right;\"> 0 </td>\n",
       "   <td style=\"text-align:right;\"> 0 </td>\n",
       "   <td style=\"text-align:right;\"> 0 </td>\n",
       "   <td style=\"text-align:right;\"> 0 </td>\n",
       "  </tr>\n",
       "  <tr>\n",
       "   <td style=\"text-align:left;\"> chr1 </td>\n",
       "   <td style=\"text-align:right;\"> 16025 </td>\n",
       "   <td style=\"text-align:right;\"> 16338 </td>\n",
       "   <td style=\"text-align:left;\"> chr1:16025-16338 </td>\n",
       "   <td style=\"text-align:right;\"> 0 </td>\n",
       "   <td style=\"text-align:right;\"> 1 </td>\n",
       "   <td style=\"text-align:right;\"> 0 </td>\n",
       "   <td style=\"text-align:right;\"> 0 </td>\n",
       "   <td style=\"text-align:right;\"> 0 </td>\n",
       "   <td style=\"text-align:right;\"> 0 </td>\n",
       "   <td style=\"text-align:right;\"> 0 </td>\n",
       "   <td style=\"text-align:right;\"> 0 </td>\n",
       "  </tr>\n",
       "  <tr>\n",
       "   <td style=\"text-align:left;\"> chr1 </td>\n",
       "   <td style=\"text-align:right;\"> 17288 </td>\n",
       "   <td style=\"text-align:right;\"> 17689 </td>\n",
       "   <td style=\"text-align:left;\"> chr1:17288-17689 </td>\n",
       "   <td style=\"text-align:right;\"> 0 </td>\n",
       "   <td style=\"text-align:right;\"> 1 </td>\n",
       "   <td style=\"text-align:right;\"> 0 </td>\n",
       "   <td style=\"text-align:right;\"> 0 </td>\n",
       "   <td style=\"text-align:right;\"> 0 </td>\n",
       "   <td style=\"text-align:right;\"> 0 </td>\n",
       "   <td style=\"text-align:right;\"> 0 </td>\n",
       "   <td style=\"text-align:right;\"> 0 </td>\n",
       "  </tr>\n",
       "</tbody>\n",
       "</table>"
      ]
     },
     "metadata": {},
     "output_type": "display_data"
    }
   ],
   "source": [
    "### assign essential label\n",
    "#lst = lst_dat_region_annot_arrange\n",
    "#lst = lapply(lst, function(dat){\n",
    "dat = dat_region_annot_arrange\n",
    "dat = dat %>%\n",
    "    dplyr::select(Chrom, ChromStart, ChromEnd, Region, Label) %>%\n",
    "    dplyr::mutate(Value = 1) %>%\n",
    "    dplyr::distinct() \n",
    "\n",
    "dat = dat %>% \n",
    "    tidyr::spread(Label, Value) %>%\n",
    "    replace(is.na(.), 0)\n",
    "#    return(dat)\n",
    "#})\n",
    "\n",
    "### assign and show\n",
    "#lst_dat_region_annot_matrix = lst\n",
    "#res = lapply(lst, dim)\n",
    "#print(res)\n",
    "#dat = lst[[1]]\n",
    "\n",
    "dat_region_annot_matrix = dat\n",
    "print(dim(dat))\n",
    "fun_display_table(head(dat, 3))"
   ]
  },
  {
   "cell_type": "code",
   "execution_count": null,
   "id": "d22b0f82-9832-41f9-b4dd-2bf78cf30225",
   "metadata": {},
   "outputs": [],
   "source": []
  }
 ],
 "metadata": {
  "kernelspec": {
   "display_name": "R",
   "language": "R",
   "name": "ir"
  },
  "language_info": {
   "codemirror_mode": "r",
   "file_extension": ".r",
   "mimetype": "text/x-r-source",
   "name": "R",
   "pygments_lexer": "r",
   "version": "4.4.2"
  }
 },
 "nbformat": 4,
 "nbformat_minor": 5
}
