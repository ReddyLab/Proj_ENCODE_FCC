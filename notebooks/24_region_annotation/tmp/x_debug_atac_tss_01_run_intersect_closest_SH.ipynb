{
 "cells": [
  {
   "cell_type": "markdown",
   "id": "45428442-96ac-40fa-94de-3bc109ef345c",
   "metadata": {},
   "source": [
    "**Set environment**"
   ]
  },
  {
   "cell_type": "code",
   "execution_count": 1,
   "id": "33f571c6-a1ee-492a-8bd2-9844961453aa",
   "metadata": {},
   "outputs": [
    {
     "name": "stdout",
     "output_type": "stream",
     "text": [
      "You are working on             Duke Server: RCC\n",
      "BASE DIRECTORY (FD_BASE):      /data/reddylab/Kuei\n",
      "REPO DIRECTORY (FD_REPO):      /data/reddylab/Kuei/repo\n",
      "WORK DIRECTORY (FD_WORK):      /data/reddylab/Kuei/work\n",
      "DATA DIRECTORY (FD_DATA):      /data/reddylab/Kuei/data\n",
      "CONTAINER DIR. (FD_SING):      /data/reddylab/Kuei/container\n",
      "\n",
      "You are working with           ENCODE FCC\n",
      "PATH OF PROJECT (FD_PRJ):      /data/reddylab/Kuei/repo/Proj_ENCODE_FCC\n",
      "PROJECT RESULTS (FD_RES):      /data/reddylab/Kuei/repo/Proj_ENCODE_FCC/results\n",
      "PROJECT SCRIPTS (FD_EXE):      /data/reddylab/Kuei/repo/Proj_ENCODE_FCC/scripts\n",
      "PROJECT DATA    (FD_DAT):      /data/reddylab/Kuei/repo/Proj_ENCODE_FCC/data\n",
      "PROJECT NOTE    (FD_NBK):      /data/reddylab/Kuei/repo/Proj_ENCODE_FCC/notebooks\n",
      "PROJECT DOCS    (FD_DOC):      /data/reddylab/Kuei/repo/Proj_ENCODE_FCC/docs\n",
      "PROJECT LOG     (FD_LOG):      /data/reddylab/Kuei/repo/Proj_ENCODE_FCC/log\n",
      "PROJECT REF     (FD_REF):      /data/reddylab/Kuei/repo/Proj_ENCODE_FCC/references\n",
      "PROJECT IMAGE   (FP_PRJ_SIF):  /data/reddylab/Kuei/container/project/singularity_proj_encode_fcc.sif\n",
      "PROJECT CONF.   (FP_CNF):      /data/reddylab/Kuei/repo/Proj_ENCODE_FCC/scripts/config_project.sh\n",
      "\n"
     ]
    }
   ],
   "source": [
    "source ../run_config_project.sh\n",
    "show_env"
   ]
  },
  {
   "cell_type": "markdown",
   "id": "489372e1-7f1d-4b0e-bf27-f7d3c50608c7",
   "metadata": {},
   "source": [
    "**Set global variables**"
   ]
  },
  {
   "cell_type": "code",
   "execution_count": 6,
   "id": "db675d87-94b1-4295-8d56-5f359a0489d3",
   "metadata": {},
   "outputs": [],
   "source": [
    "FP_INP1=${FD_RES}/region/fcc_astarr_macs_merge/K562.hg38.ASTARR.macs.KS91.input.rep_all.max_overlaps.q5.bed.gz\n",
    "FP_INP2=${FD_RES}/region/genome_tss/K562.hg38.TSS.selected_by_highest_Pol2_signal.filtered_by_RNAseq_TPM.bed.gz\n",
    "FP_OUT_INTER=${FD_RES}/region/tmp/region.intersect.atac_tss.bed.gz\n",
    "FP_OUT_CLOSE=${FD_RES}/region/tmp/region.closest.atac_tss.bed.gz"
   ]
  },
  {
   "cell_type": "code",
   "execution_count": null,
   "id": "dfb4c6d1-a048-4fcd-ada8-002bf0cc676e",
   "metadata": {},
   "outputs": [],
   "source": []
  },
  {
   "cell_type": "code",
   "execution_count": 7,
   "id": "bb81d1e9-9bba-4855-89e1-ef4a53651f75",
   "metadata": {},
   "outputs": [
    {
     "name": "stdout",
     "output_type": "stream",
     "text": [
      "chr1\t10038\t10405\tchr1:10038-10405\n",
      "chr1\t14282\t14614\tchr1:14282-14614\n",
      "chr1\t16025\t16338\tchr1:16025-16338\n",
      "chr1\t17288\t17689\tchr1:17288-17689\n",
      "chr1\t28934\t29499\tchr1:28934-29499\n",
      "chr1\t115429\t115969\tchr1:115429-115969\n",
      "chr1\t136201\t137353\tchr1:136201-137353\n",
      "chr1\t137748\t138049\tchr1:137748-138049\n",
      "chr1\t138321\t139517\tchr1:138321-139517\n",
      "chr1\t181005\t181854\tchr1:181005-181854\n"
     ]
    }
   ],
   "source": [
    "zcat ${FP_INP1} | head"
   ]
  },
  {
   "cell_type": "code",
   "execution_count": 8,
   "id": "ece27aee-df53-4c46-9319-72572b2d2e65",
   "metadata": {},
   "outputs": [
    {
     "name": "stdout",
     "output_type": "stream",
     "text": [
      "chr1\t29370\t29371\tchr1:29370-29371\tWASH7P\t2.3e-4\tTSS_Pol2_RNAseq\tWASH7P\n",
      "chr1\t827522\t827523\tchr1:827522-827523\tLINC00115\t64.4656\tTSS_Pol2_RNAseq\tLINC00115\n",
      "chr1\t827590\t827591\tchr1:827590-827591\tLINC01128\t64.4603\tTSS_Pol2_RNAseq\tLINC01128\n",
      "chr1\t876802\t876803\tchr1:876802-876803\tFAM41C\t0.00788399\tTSS_Pol2_RNAseq\tFAM41C\n",
      "chr1\t959256\t959257\tchr1:959256-959257\tNOC2L\t104.866\tTSS_Pol2_RNAseq\tNOC2L\n",
      "chr1\t960583\t960584\tchr1:960583-960584\tKLHL17\t8.22571\tTSS_Pol2_RNAseq\tKLHL17\n",
      "chr1\t1000097\t1000098\tchr1:1000097-1000098\tHES4\t50.5814\tTSS_Pol2_RNAseq\tHES4\n",
      "chr1\t1013496\t1013497\tchr1:1013496-1013497\tISG15\t42.9708\tTSS_Pol2_RNAseq\tISG15\n",
      "chr1\t1020119\t1020120\tchr1:1020119-1020120\tAGRN\t2.71433\tTSS_Pol2_RNAseq\tAGRN\n",
      "chr1\t1116089\t1116090\tchr1:1116089-1116090\tC1orf159\t16.4374\tTSS_Pol2_RNAseq\tC1orf159\n"
     ]
    }
   ],
   "source": [
    "zcat ${FP_INP2} | head"
   ]
  },
  {
   "cell_type": "code",
   "execution_count": 2,
   "id": "b78d7d16-f2c5-4054-90ff-33744333cc2e",
   "metadata": {},
   "outputs": [
    {
     "name": "stdout",
     "output_type": "stream",
     "text": [
      "bedtools v2.31.1\n"
     ]
    }
   ],
   "source": [
    "bedtools --version"
   ]
  },
  {
   "cell_type": "code",
   "execution_count": 9,
   "id": "9a941880-d63c-4a68-ac8f-fbb39b626527",
   "metadata": {},
   "outputs": [],
   "source": [
    "bedtools intersect \\\n",
    "    -a ${FP_INP1} \\\n",
    "    -b ${FP_INP2} \\\n",
    "    -wo \\\n",
    "| gzip -c \\\n",
    "> ${FP_OUT_INTER}"
   ]
  },
  {
   "cell_type": "code",
   "execution_count": 10,
   "id": "9e5917d0-d16f-4c78-99e4-8fba7d8262a0",
   "metadata": {},
   "outputs": [],
   "source": [
    "bedtools closest \\\n",
    "    -a ${FP_INP1} \\\n",
    "    -b ${FP_INP2} \\\n",
    "    -d \\\n",
    "| gzip -c \\\n",
    "> ${FP_OUT_CLOSE}"
   ]
  },
  {
   "cell_type": "code",
   "execution_count": 11,
   "id": "74c97dd2-5204-4834-86ad-d4760653c7b6",
   "metadata": {},
   "outputs": [
    {
     "name": "stdout",
     "output_type": "stream",
     "text": [
      "chr1\t28934\t29499\tchr1:28934-29499\tchr1\t29370\t29371\tchr1:29370-29371\tWASH7P\t2.3e-4\tTSS_Pol2_RNAseq\tWASH7P\t1\n",
      "chr1\t826796\t828040\tchr1:826796-828040\tchr1\t827522\t827523\tchr1:827522-827523\tLINC00115\t64.4656\tTSS_Pol2_RNAseq\tLINC00115\t1\n",
      "chr1\t826796\t828040\tchr1:826796-828040\tchr1\t827590\t827591\tchr1:827590-827591\tLINC01128\t64.4603\tTSS_Pol2_RNAseq\tLINC01128\t1\n",
      "chr1\t876493\t877795\tchr1:876493-877795\tchr1\t876802\t876803\tchr1:876802-876803\tFAM41C\t0.00788399\tTSS_Pol2_RNAseq\tFAM41C\t1\n",
      "chr1\t958722\t959968\tchr1:958722-959968\tchr1\t959256\t959257\tchr1:959256-959257\tNOC2L\t104.866\tTSS_Pol2_RNAseq\tNOC2L\t1\n",
      "chr1\t960468\t961615\tchr1:960468-961615\tchr1\t960583\t960584\tchr1:960583-960584\tKLHL17\t8.22571\tTSS_Pol2_RNAseq\tKLHL17\t1\n",
      "chr1\t998960\t1001192\tchr1:998960-1001192\tchr1\t1000097\t1000098\tchr1:1000097-1000098\tHES4\t50.5814\tTSS_Pol2_RNAseq\tHES4\t1\n",
      "chr1\t1013154\t1014482\tchr1:1013154-1014482\tchr1\t1013496\t1013497\tchr1:1013496-1013497\tISG15\t42.9708\tTSS_Pol2_RNAseq\tISG15\t1\n",
      "chr1\t1019190\t1021734\tchr1:1019190-1021734\tchr1\t1020119\t1020120\tchr1:1020119-1020120\tAGRN\t2.71433\tTSS_Pol2_RNAseq\tAGRN\t1\n",
      "chr1\t1115826\t1116970\tchr1:1115826-1116970\tchr1\t1116089\t1116090\tchr1:1116089-1116090\tC1orf159\t16.4374\tTSS_Pol2_RNAseq\tC1orf159\t1\n"
     ]
    }
   ],
   "source": [
    "zcat ${FP_OUT_INTER} | head"
   ]
  },
  {
   "cell_type": "code",
   "execution_count": 12,
   "id": "9d8c0766-93de-429c-9409-fbc9015df0fd",
   "metadata": {},
   "outputs": [
    {
     "name": "stdout",
     "output_type": "stream",
     "text": [
      "chr1\t10038\t10405\tchr1:10038-10405\tchr1\t29370\t29371\tchr1:29370-29371\tWASH7P\t2.3e-4\tTSS_Pol2_RNAseq\tWASH7P\t18966\n",
      "chr1\t14282\t14614\tchr1:14282-14614\tchr1\t29370\t29371\tchr1:29370-29371\tWASH7P\t2.3e-4\tTSS_Pol2_RNAseq\tWASH7P\t14757\n",
      "chr1\t16025\t16338\tchr1:16025-16338\tchr1\t29370\t29371\tchr1:29370-29371\tWASH7P\t2.3e-4\tTSS_Pol2_RNAseq\tWASH7P\t13033\n",
      "chr1\t17288\t17689\tchr1:17288-17689\tchr1\t29370\t29371\tchr1:29370-29371\tWASH7P\t2.3e-4\tTSS_Pol2_RNAseq\tWASH7P\t11682\n",
      "chr1\t28934\t29499\tchr1:28934-29499\tchr1\t29370\t29371\tchr1:29370-29371\tWASH7P\t2.3e-4\tTSS_Pol2_RNAseq\tWASH7P\t0\n",
      "chr1\t115429\t115969\tchr1:115429-115969\tchr1\t29370\t29371\tchr1:29370-29371\tWASH7P\t2.3e-4\tTSS_Pol2_RNAseq\tWASH7P\t86059\n",
      "chr1\t136201\t137353\tchr1:136201-137353\tchr1\t29370\t29371\tchr1:29370-29371\tWASH7P\t2.3e-4\tTSS_Pol2_RNAseq\tWASH7P\t106831\n",
      "chr1\t137748\t138049\tchr1:137748-138049\tchr1\t29370\t29371\tchr1:29370-29371\tWASH7P\t2.3e-4\tTSS_Pol2_RNAseq\tWASH7P\t108378\n",
      "chr1\t138321\t139517\tchr1:138321-139517\tchr1\t29370\t29371\tchr1:29370-29371\tWASH7P\t2.3e-4\tTSS_Pol2_RNAseq\tWASH7P\t108951\n",
      "chr1\t181005\t181854\tchr1:181005-181854\tchr1\t29370\t29371\tchr1:29370-29371\tWASH7P\t2.3e-4\tTSS_Pol2_RNAseq\tWASH7P\t151635\n"
     ]
    }
   ],
   "source": [
    "zcat ${FP_OUT_CLOSE} | head"
   ]
  },
  {
   "cell_type": "code",
   "execution_count": null,
   "id": "1c0476fc-8a2e-40fb-a9d5-4847efe524de",
   "metadata": {},
   "outputs": [],
   "source": []
  }
 ],
 "metadata": {
  "kernelspec": {
   "display_name": "Bash",
   "language": "bash",
   "name": "bash"
  },
  "language_info": {
   "codemirror_mode": "shell",
   "file_extension": ".sh",
   "mimetype": "text/x-sh",
   "name": "bash"
  }
 },
 "nbformat": 4,
 "nbformat_minor": 5
}
