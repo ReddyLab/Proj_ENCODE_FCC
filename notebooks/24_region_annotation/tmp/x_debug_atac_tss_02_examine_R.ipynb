{
 "cells": [
  {
   "cell_type": "markdown",
   "id": "01bb0083-3dd3-44a1-88bd-6af862785269",
   "metadata": {},
   "source": [
    "**Set environment**"
   ]
  },
  {
   "cell_type": "code",
   "execution_count": 1,
   "id": "32b47924-e44e-44ce-96c7-547939c47e68",
   "metadata": {
    "tags": []
   },
   "outputs": [
    {
     "name": "stdout",
     "output_type": "stream",
     "text": [
      "You are working on        Singularity: singularity_proj_encode_fcc \n",
      "BASE DIRECTORY (FD_BASE): /data/reddylab/Kuei \n",
      "REPO DIRECTORY (FD_REPO): /data/reddylab/Kuei/repo \n",
      "WORK DIRECTORY (FD_WORK): /data/reddylab/Kuei/work \n",
      "DATA DIRECTORY (FD_DATA): /data/reddylab/Kuei/data \n",
      "\n",
      "You are working with      ENCODE FCC \n",
      "PATH OF PROJECT (FD_PRJ): /data/reddylab/Kuei/repo/Proj_ENCODE_FCC \n",
      "PROJECT RESULTS (FD_RES): /data/reddylab/Kuei/repo/Proj_ENCODE_FCC/results \n",
      "PROJECT SCRIPTS (FD_EXE): /data/reddylab/Kuei/repo/Proj_ENCODE_FCC/scripts \n",
      "PROJECT DATA    (FD_DAT): /data/reddylab/Kuei/repo/Proj_ENCODE_FCC/data \n",
      "PROJECT NOTE    (FD_NBK): /data/reddylab/Kuei/repo/Proj_ENCODE_FCC/notebooks \n",
      "PROJECT DOCS    (FD_DOC): /data/reddylab/Kuei/repo/Proj_ENCODE_FCC/docs \n",
      "PROJECT LOG     (FD_LOG): /data/reddylab/Kuei/repo/Proj_ENCODE_FCC/log \n",
      "PROJECT REF     (FD_REF): /data/reddylab/Kuei/repo/Proj_ENCODE_FCC/references \n",
      "\n"
     ]
    }
   ],
   "source": [
    "suppressMessages(suppressWarnings(source(\"../run_config_project_sing.R\")))\n",
    "show_env()"
   ]
  },
  {
   "cell_type": "code",
   "execution_count": 2,
   "id": "e03e454d-510f-4287-a32e-8e8d176625a8",
   "metadata": {},
   "outputs": [
    {
     "data": {
      "text/html": [
       "<style>\n",
       ".list-inline {list-style: none; margin:0; padding: 0}\n",
       ".list-inline>li {display: inline-block}\n",
       ".list-inline>li:not(:last-child)::after {content: \"\\00b7\"; padding: 0 .5ex}\n",
       "</style>\n",
       "<ol class=list-inline><li>'Chrom'</li><li>'ChromStart'</li><li>'ChromEnd'</li><li>'Region'</li></ol>\n"
      ],
      "text/latex": [
       "\\begin{enumerate*}\n",
       "\\item 'Chrom'\n",
       "\\item 'ChromStart'\n",
       "\\item 'ChromEnd'\n",
       "\\item 'Region'\n",
       "\\end{enumerate*}\n"
      ],
      "text/markdown": [
       "1. 'Chrom'\n",
       "2. 'ChromStart'\n",
       "3. 'ChromEnd'\n",
       "4. 'Region'\n",
       "\n",
       "\n"
      ],
      "text/plain": [
       "[1] \"Chrom\"      \"ChromStart\" \"ChromEnd\"   \"Region\"    "
      ]
     },
     "metadata": {},
     "output_type": "display_data"
    }
   ],
   "source": [
    "txt_fdiry = file.path(FD_RES, \"region\", \"fcc_astarr_macs_merge\", \"summary\")\n",
    "txt_fname = \"description.tsv\"\n",
    "txt_fpath = file.path(txt_fdiry, txt_fname)\n",
    "dat_cname = read_tsv(txt_fpath, show_col_types = FALSE)\n",
    "vec_txt_cname_A = dat_cname$Name\n",
    "vec_txt_cname_A"
   ]
  },
  {
   "cell_type": "code",
   "execution_count": 3,
   "id": "392c80eb-6925-4b7d-84f1-f6ae480f6fa6",
   "metadata": {},
   "outputs": [
    {
     "data": {
      "text/html": [
       "<style>\n",
       ".list-inline {list-style: none; margin:0; padding: 0}\n",
       ".list-inline>li {display: inline-block}\n",
       ".list-inline>li:not(:last-child)::after {content: \"\\00b7\"; padding: 0 .5ex}\n",
       "</style>\n",
       "<ol class=list-inline><li>'Chrom'</li><li>'ChromStart'</li><li>'ChromEnd'</li><li>'Region'</li><li>'Gene'</li><li>'Score'</li><li>'Group'</li><li>'Label'</li></ol>\n"
      ],
      "text/latex": [
       "\\begin{enumerate*}\n",
       "\\item 'Chrom'\n",
       "\\item 'ChromStart'\n",
       "\\item 'ChromEnd'\n",
       "\\item 'Region'\n",
       "\\item 'Gene'\n",
       "\\item 'Score'\n",
       "\\item 'Group'\n",
       "\\item 'Label'\n",
       "\\end{enumerate*}\n"
      ],
      "text/markdown": [
       "1. 'Chrom'\n",
       "2. 'ChromStart'\n",
       "3. 'ChromEnd'\n",
       "4. 'Region'\n",
       "5. 'Gene'\n",
       "6. 'Score'\n",
       "7. 'Group'\n",
       "8. 'Label'\n",
       "\n",
       "\n"
      ],
      "text/plain": [
       "[1] \"Chrom\"      \"ChromStart\" \"ChromEnd\"   \"Region\"     \"Gene\"      \n",
       "[6] \"Score\"      \"Group\"      \"Label\"     "
      ]
     },
     "metadata": {},
     "output_type": "display_data"
    }
   ],
   "source": [
    "txt_fdiry = file.path(FD_RES, \"region\", \"genome_tss\", \"summary\")\n",
    "txt_fname = \"description.tsv\"\n",
    "txt_fpath = file.path(txt_fdiry, txt_fname)\n",
    "dat_cname = read_tsv(txt_fpath, show_col_types = FALSE)\n",
    "vec_txt_cname_B = dat_cname$Name\n",
    "vec_txt_cname_B"
   ]
  },
  {
   "cell_type": "code",
   "execution_count": 4,
   "id": "cfe9c816-469b-4445-8498-30c018896a58",
   "metadata": {},
   "outputs": [],
   "source": [
    "### get total column names for annotation table\n",
    "vec_txt_cname = c(\n",
    "    #paste0(vec_txt_cname_A, \"_A\"),\n",
    "    paste0(vec_txt_cname_A),\n",
    "    paste0(vec_txt_cname_B, \"_B\")\n",
    ")"
   ]
  },
  {
   "cell_type": "code",
   "execution_count": 5,
   "id": "67f3990a-b883-4b1b-9b57-8b16a90c24bd",
   "metadata": {},
   "outputs": [
    {
     "name": "stdout",
     "output_type": "stream",
     "text": [
      "[1] 10831    13\n"
     ]
    },
    {
     "data": {
      "text/html": [
       "<table class=\"dataframe\">\n",
       "<caption>A tibble: 3 × 13</caption>\n",
       "<thead>\n",
       "\t<tr><th scope=col>Chrom</th><th scope=col>ChromStart</th><th scope=col>ChromEnd</th><th scope=col>Region</th><th scope=col>Chrom_B</th><th scope=col>ChromStart_B</th><th scope=col>ChromEnd_B</th><th scope=col>Region_B</th><th scope=col>Gene_B</th><th scope=col>Score_B</th><th scope=col>Group_B</th><th scope=col>Label_B</th><th scope=col>Overlap</th></tr>\n",
       "\t<tr><th scope=col>&lt;chr&gt;</th><th scope=col>&lt;dbl&gt;</th><th scope=col>&lt;dbl&gt;</th><th scope=col>&lt;chr&gt;</th><th scope=col>&lt;chr&gt;</th><th scope=col>&lt;dbl&gt;</th><th scope=col>&lt;dbl&gt;</th><th scope=col>&lt;chr&gt;</th><th scope=col>&lt;chr&gt;</th><th scope=col>&lt;dbl&gt;</th><th scope=col>&lt;chr&gt;</th><th scope=col>&lt;chr&gt;</th><th scope=col>&lt;dbl&gt;</th></tr>\n",
       "</thead>\n",
       "<tbody>\n",
       "\t<tr><td>chr1</td><td> 28934</td><td> 29499</td><td>chr1:28934-29499  </td><td>chr1</td><td> 29370</td><td> 29371</td><td>chr1:29370-29371  </td><td>WASH7P   </td><td> 0.00023</td><td>TSS_Pol2_RNAseq</td><td>WASH7P   </td><td>1</td></tr>\n",
       "\t<tr><td>chr1</td><td>826796</td><td>828040</td><td>chr1:826796-828040</td><td>chr1</td><td>827522</td><td>827523</td><td>chr1:827522-827523</td><td>LINC00115</td><td>64.46560</td><td>TSS_Pol2_RNAseq</td><td>LINC00115</td><td>1</td></tr>\n",
       "\t<tr><td>chr1</td><td>826796</td><td>828040</td><td>chr1:826796-828040</td><td>chr1</td><td>827590</td><td>827591</td><td>chr1:827590-827591</td><td>LINC01128</td><td>64.46030</td><td>TSS_Pol2_RNAseq</td><td>LINC01128</td><td>1</td></tr>\n",
       "</tbody>\n",
       "</table>\n"
      ],
      "text/latex": [
       "A tibble: 3 × 13\n",
       "\\begin{tabular}{lllllllllllll}\n",
       " Chrom & ChromStart & ChromEnd & Region & Chrom\\_B & ChromStart\\_B & ChromEnd\\_B & Region\\_B & Gene\\_B & Score\\_B & Group\\_B & Label\\_B & Overlap\\\\\n",
       " <chr> & <dbl> & <dbl> & <chr> & <chr> & <dbl> & <dbl> & <chr> & <chr> & <dbl> & <chr> & <chr> & <dbl>\\\\\n",
       "\\hline\n",
       "\t chr1 &  28934 &  29499 & chr1:28934-29499   & chr1 &  29370 &  29371 & chr1:29370-29371   & WASH7P    &  0.00023 & TSS\\_Pol2\\_RNAseq & WASH7P    & 1\\\\\n",
       "\t chr1 & 826796 & 828040 & chr1:826796-828040 & chr1 & 827522 & 827523 & chr1:827522-827523 & LINC00115 & 64.46560 & TSS\\_Pol2\\_RNAseq & LINC00115 & 1\\\\\n",
       "\t chr1 & 826796 & 828040 & chr1:826796-828040 & chr1 & 827590 & 827591 & chr1:827590-827591 & LINC01128 & 64.46030 & TSS\\_Pol2\\_RNAseq & LINC01128 & 1\\\\\n",
       "\\end{tabular}\n"
      ],
      "text/markdown": [
       "\n",
       "A tibble: 3 × 13\n",
       "\n",
       "| Chrom &lt;chr&gt; | ChromStart &lt;dbl&gt; | ChromEnd &lt;dbl&gt; | Region &lt;chr&gt; | Chrom_B &lt;chr&gt; | ChromStart_B &lt;dbl&gt; | ChromEnd_B &lt;dbl&gt; | Region_B &lt;chr&gt; | Gene_B &lt;chr&gt; | Score_B &lt;dbl&gt; | Group_B &lt;chr&gt; | Label_B &lt;chr&gt; | Overlap &lt;dbl&gt; |\n",
       "|---|---|---|---|---|---|---|---|---|---|---|---|---|\n",
       "| chr1 |  28934 |  29499 | chr1:28934-29499   | chr1 |  29370 |  29371 | chr1:29370-29371   | WASH7P    |  0.00023 | TSS_Pol2_RNAseq | WASH7P    | 1 |\n",
       "| chr1 | 826796 | 828040 | chr1:826796-828040 | chr1 | 827522 | 827523 | chr1:827522-827523 | LINC00115 | 64.46560 | TSS_Pol2_RNAseq | LINC00115 | 1 |\n",
       "| chr1 | 826796 | 828040 | chr1:826796-828040 | chr1 | 827590 | 827591 | chr1:827590-827591 | LINC01128 | 64.46030 | TSS_Pol2_RNAseq | LINC01128 | 1 |\n",
       "\n"
      ],
      "text/plain": [
       "  Chrom ChromStart ChromEnd Region             Chrom_B ChromStart_B ChromEnd_B\n",
       "1 chr1   28934      29499   chr1:28934-29499   chr1     29370        29371    \n",
       "2 chr1  826796     828040   chr1:826796-828040 chr1    827522       827523    \n",
       "3 chr1  826796     828040   chr1:826796-828040 chr1    827590       827591    \n",
       "  Region_B           Gene_B    Score_B  Group_B         Label_B   Overlap\n",
       "1 chr1:29370-29371   WASH7P     0.00023 TSS_Pol2_RNAseq WASH7P    1      \n",
       "2 chr1:827522-827523 LINC00115 64.46560 TSS_Pol2_RNAseq LINC00115 1      \n",
       "3 chr1:827590-827591 LINC01128 64.46030 TSS_Pol2_RNAseq LINC01128 1      "
      ]
     },
     "metadata": {},
     "output_type": "display_data"
    }
   ],
   "source": [
    "txt_fdiry = file.path(FD_RES, \"region\", \"tmp\")\n",
    "txt_fname = \"region.intersect.atac_tss.bed.gz\"\n",
    "txt_fpath = file.path(txt_fdiry, txt_fname)\n",
    "\n",
    "vec = c(vec_txt_cname, \"Overlap\")\n",
    "dat = read_tsv(txt_fpath, col_names = vec, show_col_types = FALSE)\n",
    "\n",
    "dat_region_tss_intersect = dat\n",
    "print(dim(dat))\n",
    "head(dat, 3)"
   ]
  },
  {
   "cell_type": "code",
   "execution_count": 6,
   "id": "5a5995d6-10a5-4d19-a17b-69e94e623741",
   "metadata": {},
   "outputs": [
    {
     "name": "stdout",
     "output_type": "stream",
     "text": [
      "[1] 151558     13\n"
     ]
    },
    {
     "data": {
      "text/html": [
       "<table class=\"dataframe\">\n",
       "<caption>A tibble: 3 × 13</caption>\n",
       "<thead>\n",
       "\t<tr><th scope=col>Chrom</th><th scope=col>ChromStart</th><th scope=col>ChromEnd</th><th scope=col>Region</th><th scope=col>Chrom_B</th><th scope=col>ChromStart_B</th><th scope=col>ChromEnd_B</th><th scope=col>Region_B</th><th scope=col>Gene_B</th><th scope=col>Score_B</th><th scope=col>Group_B</th><th scope=col>Label_B</th><th scope=col>Distance2TSS</th></tr>\n",
       "\t<tr><th scope=col>&lt;chr&gt;</th><th scope=col>&lt;dbl&gt;</th><th scope=col>&lt;dbl&gt;</th><th scope=col>&lt;chr&gt;</th><th scope=col>&lt;chr&gt;</th><th scope=col>&lt;dbl&gt;</th><th scope=col>&lt;dbl&gt;</th><th scope=col>&lt;chr&gt;</th><th scope=col>&lt;chr&gt;</th><th scope=col>&lt;dbl&gt;</th><th scope=col>&lt;chr&gt;</th><th scope=col>&lt;chr&gt;</th><th scope=col>&lt;dbl&gt;</th></tr>\n",
       "</thead>\n",
       "<tbody>\n",
       "\t<tr><td>chr1</td><td>10038</td><td>10405</td><td>chr1:10038-10405</td><td>chr1</td><td>29370</td><td>29371</td><td>chr1:29370-29371</td><td>WASH7P</td><td>0.00023</td><td>TSS_Pol2_RNAseq</td><td>WASH7P</td><td>18966</td></tr>\n",
       "\t<tr><td>chr1</td><td>14282</td><td>14614</td><td>chr1:14282-14614</td><td>chr1</td><td>29370</td><td>29371</td><td>chr1:29370-29371</td><td>WASH7P</td><td>0.00023</td><td>TSS_Pol2_RNAseq</td><td>WASH7P</td><td>14757</td></tr>\n",
       "\t<tr><td>chr1</td><td>16025</td><td>16338</td><td>chr1:16025-16338</td><td>chr1</td><td>29370</td><td>29371</td><td>chr1:29370-29371</td><td>WASH7P</td><td>0.00023</td><td>TSS_Pol2_RNAseq</td><td>WASH7P</td><td>13033</td></tr>\n",
       "</tbody>\n",
       "</table>\n"
      ],
      "text/latex": [
       "A tibble: 3 × 13\n",
       "\\begin{tabular}{lllllllllllll}\n",
       " Chrom & ChromStart & ChromEnd & Region & Chrom\\_B & ChromStart\\_B & ChromEnd\\_B & Region\\_B & Gene\\_B & Score\\_B & Group\\_B & Label\\_B & Distance2TSS\\\\\n",
       " <chr> & <dbl> & <dbl> & <chr> & <chr> & <dbl> & <dbl> & <chr> & <chr> & <dbl> & <chr> & <chr> & <dbl>\\\\\n",
       "\\hline\n",
       "\t chr1 & 10038 & 10405 & chr1:10038-10405 & chr1 & 29370 & 29371 & chr1:29370-29371 & WASH7P & 0.00023 & TSS\\_Pol2\\_RNAseq & WASH7P & 18966\\\\\n",
       "\t chr1 & 14282 & 14614 & chr1:14282-14614 & chr1 & 29370 & 29371 & chr1:29370-29371 & WASH7P & 0.00023 & TSS\\_Pol2\\_RNAseq & WASH7P & 14757\\\\\n",
       "\t chr1 & 16025 & 16338 & chr1:16025-16338 & chr1 & 29370 & 29371 & chr1:29370-29371 & WASH7P & 0.00023 & TSS\\_Pol2\\_RNAseq & WASH7P & 13033\\\\\n",
       "\\end{tabular}\n"
      ],
      "text/markdown": [
       "\n",
       "A tibble: 3 × 13\n",
       "\n",
       "| Chrom &lt;chr&gt; | ChromStart &lt;dbl&gt; | ChromEnd &lt;dbl&gt; | Region &lt;chr&gt; | Chrom_B &lt;chr&gt; | ChromStart_B &lt;dbl&gt; | ChromEnd_B &lt;dbl&gt; | Region_B &lt;chr&gt; | Gene_B &lt;chr&gt; | Score_B &lt;dbl&gt; | Group_B &lt;chr&gt; | Label_B &lt;chr&gt; | Distance2TSS &lt;dbl&gt; |\n",
       "|---|---|---|---|---|---|---|---|---|---|---|---|---|\n",
       "| chr1 | 10038 | 10405 | chr1:10038-10405 | chr1 | 29370 | 29371 | chr1:29370-29371 | WASH7P | 0.00023 | TSS_Pol2_RNAseq | WASH7P | 18966 |\n",
       "| chr1 | 14282 | 14614 | chr1:14282-14614 | chr1 | 29370 | 29371 | chr1:29370-29371 | WASH7P | 0.00023 | TSS_Pol2_RNAseq | WASH7P | 14757 |\n",
       "| chr1 | 16025 | 16338 | chr1:16025-16338 | chr1 | 29370 | 29371 | chr1:29370-29371 | WASH7P | 0.00023 | TSS_Pol2_RNAseq | WASH7P | 13033 |\n",
       "\n"
      ],
      "text/plain": [
       "  Chrom ChromStart ChromEnd Region           Chrom_B ChromStart_B ChromEnd_B\n",
       "1 chr1  10038      10405    chr1:10038-10405 chr1    29370        29371     \n",
       "2 chr1  14282      14614    chr1:14282-14614 chr1    29370        29371     \n",
       "3 chr1  16025      16338    chr1:16025-16338 chr1    29370        29371     \n",
       "  Region_B         Gene_B Score_B Group_B         Label_B Distance2TSS\n",
       "1 chr1:29370-29371 WASH7P 0.00023 TSS_Pol2_RNAseq WASH7P  18966       \n",
       "2 chr1:29370-29371 WASH7P 0.00023 TSS_Pol2_RNAseq WASH7P  14757       \n",
       "3 chr1:29370-29371 WASH7P 0.00023 TSS_Pol2_RNAseq WASH7P  13033       "
      ]
     },
     "metadata": {},
     "output_type": "display_data"
    }
   ],
   "source": [
    "txt_fdiry = file.path(FD_RES, \"region\", \"tmp\")\n",
    "txt_fname = \"region.closest.atac_tss.bed.gz\"\n",
    "txt_fpath = file.path(txt_fdiry, txt_fname)\n",
    "\n",
    "vec = c(vec_txt_cname, \"Distance2TSS\")\n",
    "dat = read_tsv(txt_fpath, col_names = vec, show_col_types = FALSE)\n",
    "\n",
    "dat_region_tss_closest = dat\n",
    "print(dim(dat))\n",
    "head(dat, 3)"
   ]
  },
  {
   "cell_type": "markdown",
   "id": "1673f377-c10a-42fd-9940-cea9443155c1",
   "metadata": {},
   "source": [
    "## Arrange"
   ]
  },
  {
   "cell_type": "code",
   "execution_count": 9,
   "id": "195596bc-21fc-4918-8a39-175286f04724",
   "metadata": {},
   "outputs": [
    {
     "name": "stdout",
     "output_type": "stream",
     "text": [
      "Missing? FALSE \n",
      "#Rows?   151558 \n"
     ]
    },
    {
     "data": {
      "text/html": [
       "<table class=\"dataframe\">\n",
       "<caption>A tibble: 6 × 7</caption>\n",
       "<thead>\n",
       "\t<tr><th scope=col>Chrom</th><th scope=col>ChromStart</th><th scope=col>ChromEnd</th><th scope=col>Region</th><th scope=col>TSS_Region_Closest</th><th scope=col>TSS_Target_Closest</th><th scope=col>Distance2TSS</th></tr>\n",
       "\t<tr><th scope=col>&lt;chr&gt;</th><th scope=col>&lt;dbl&gt;</th><th scope=col>&lt;dbl&gt;</th><th scope=col>&lt;chr&gt;</th><th scope=col>&lt;chr&gt;</th><th scope=col>&lt;chr&gt;</th><th scope=col>&lt;dbl&gt;</th></tr>\n",
       "</thead>\n",
       "<tbody>\n",
       "\t<tr><td>chr1</td><td> 10038</td><td> 10405</td><td>chr1:10038-10405  </td><td>chr1:29370-29371</td><td>WASH7P</td><td>18966</td></tr>\n",
       "\t<tr><td>chr1</td><td> 14282</td><td> 14614</td><td>chr1:14282-14614  </td><td>chr1:29370-29371</td><td>WASH7P</td><td>14757</td></tr>\n",
       "\t<tr><td>chr1</td><td> 16025</td><td> 16338</td><td>chr1:16025-16338  </td><td>chr1:29370-29371</td><td>WASH7P</td><td>13033</td></tr>\n",
       "\t<tr><td>chr1</td><td> 17288</td><td> 17689</td><td>chr1:17288-17689  </td><td>chr1:29370-29371</td><td>WASH7P</td><td>11682</td></tr>\n",
       "\t<tr><td>chr1</td><td> 28934</td><td> 29499</td><td>chr1:28934-29499  </td><td>chr1:29370-29371</td><td>WASH7P</td><td>    0</td></tr>\n",
       "\t<tr><td>chr1</td><td>115429</td><td>115969</td><td>chr1:115429-115969</td><td>chr1:29370-29371</td><td>WASH7P</td><td>86059</td></tr>\n",
       "</tbody>\n",
       "</table>\n"
      ],
      "text/latex": [
       "A tibble: 6 × 7\n",
       "\\begin{tabular}{lllllll}\n",
       " Chrom & ChromStart & ChromEnd & Region & TSS\\_Region\\_Closest & TSS\\_Target\\_Closest & Distance2TSS\\\\\n",
       " <chr> & <dbl> & <dbl> & <chr> & <chr> & <chr> & <dbl>\\\\\n",
       "\\hline\n",
       "\t chr1 &  10038 &  10405 & chr1:10038-10405   & chr1:29370-29371 & WASH7P & 18966\\\\\n",
       "\t chr1 &  14282 &  14614 & chr1:14282-14614   & chr1:29370-29371 & WASH7P & 14757\\\\\n",
       "\t chr1 &  16025 &  16338 & chr1:16025-16338   & chr1:29370-29371 & WASH7P & 13033\\\\\n",
       "\t chr1 &  17288 &  17689 & chr1:17288-17689   & chr1:29370-29371 & WASH7P & 11682\\\\\n",
       "\t chr1 &  28934 &  29499 & chr1:28934-29499   & chr1:29370-29371 & WASH7P &     0\\\\\n",
       "\t chr1 & 115429 & 115969 & chr1:115429-115969 & chr1:29370-29371 & WASH7P & 86059\\\\\n",
       "\\end{tabular}\n"
      ],
      "text/markdown": [
       "\n",
       "A tibble: 6 × 7\n",
       "\n",
       "| Chrom &lt;chr&gt; | ChromStart &lt;dbl&gt; | ChromEnd &lt;dbl&gt; | Region &lt;chr&gt; | TSS_Region_Closest &lt;chr&gt; | TSS_Target_Closest &lt;chr&gt; | Distance2TSS &lt;dbl&gt; |\n",
       "|---|---|---|---|---|---|---|\n",
       "| chr1 |  10038 |  10405 | chr1:10038-10405   | chr1:29370-29371 | WASH7P | 18966 |\n",
       "| chr1 |  14282 |  14614 | chr1:14282-14614   | chr1:29370-29371 | WASH7P | 14757 |\n",
       "| chr1 |  16025 |  16338 | chr1:16025-16338   | chr1:29370-29371 | WASH7P | 13033 |\n",
       "| chr1 |  17288 |  17689 | chr1:17288-17689   | chr1:29370-29371 | WASH7P | 11682 |\n",
       "| chr1 |  28934 |  29499 | chr1:28934-29499   | chr1:29370-29371 | WASH7P |     0 |\n",
       "| chr1 | 115429 | 115969 | chr1:115429-115969 | chr1:29370-29371 | WASH7P | 86059 |\n",
       "\n"
      ],
      "text/plain": [
       "  Chrom ChromStart ChromEnd Region             TSS_Region_Closest\n",
       "1 chr1   10038      10405   chr1:10038-10405   chr1:29370-29371  \n",
       "2 chr1   14282      14614   chr1:14282-14614   chr1:29370-29371  \n",
       "3 chr1   16025      16338   chr1:16025-16338   chr1:29370-29371  \n",
       "4 chr1   17288      17689   chr1:17288-17689   chr1:29370-29371  \n",
       "5 chr1   28934      29499   chr1:28934-29499   chr1:29370-29371  \n",
       "6 chr1  115429     115969   chr1:115429-115969 chr1:29370-29371  \n",
       "  TSS_Target_Closest Distance2TSS\n",
       "1 WASH7P             18966       \n",
       "2 WASH7P             14757       \n",
       "3 WASH7P             13033       \n",
       "4 WASH7P             11682       \n",
       "5 WASH7P                 0       \n",
       "6 WASH7P             86059       "
      ]
     },
     "metadata": {},
     "output_type": "display_data"
    }
   ],
   "source": [
    "dat = dat_region_tss_closest\n",
    "dat = dat %>% \n",
    "    dplyr::rename(\n",
    "        TSS_Region_Closest = Region_B,\n",
    "        TSS_Target_Closest = Gene_B,\n",
    "    ) %>%\n",
    "    dplyr::select(\n",
    "        Chrom, ChromStart, ChromEnd, Region, \n",
    "        TSS_Region_Closest, \n",
    "        TSS_Target_Closest,\n",
    "        Distance2TSS\n",
    "    )\n",
    "\n",
    "### assign and show\n",
    "dat1 = dat\n",
    "cat(\"Missing?\", any(is.na(dat)), \"\\n\")\n",
    "cat(\"#Rows?  \", nrow(dat),       \"\\n\")\n",
    "head(dat)"
   ]
  },
  {
   "cell_type": "code",
   "execution_count": 10,
   "id": "f6db445d-b6ec-45e0-918d-a423adafa999",
   "metadata": {},
   "outputs": [
    {
     "name": "stdout",
     "output_type": "stream",
     "text": [
      "Missing? FALSE \n",
      "#Rows?   9649 \n"
     ]
    },
    {
     "data": {
      "text/html": [
       "<table class=\"dataframe\">\n",
       "<caption>A tibble: 6 × 4</caption>\n",
       "<thead>\n",
       "\t<tr><th scope=col>Region</th><th scope=col>TSS_Region_Overlap</th><th scope=col>TSS_Target_Overlap</th><th scope=col>TSS</th></tr>\n",
       "\t<tr><th scope=col>&lt;chr&gt;</th><th scope=col>&lt;chr&gt;</th><th scope=col>&lt;chr&gt;</th><th scope=col>&lt;dbl&gt;</th></tr>\n",
       "</thead>\n",
       "<tbody>\n",
       "\t<tr><td>chr10:100009244-100010395</td><td>chr10:100009947-100009948</td><td>DNMBP  </td><td>1</td></tr>\n",
       "\t<tr><td>chr10:100185030-100186618</td><td>chr10:100186029-100186030</td><td>ERLIN1 </td><td>1</td></tr>\n",
       "\t<tr><td>chr10:100228544-100230080</td><td>chr10:100229596-100229597</td><td>CHUK   </td><td>1</td></tr>\n",
       "\t<tr><td>chr10:100267188-100268217</td><td>chr10:100267638-100267639</td><td>CWF19L1</td><td>1</td></tr>\n",
       "\t<tr><td>chr10:100285996-100287311</td><td>chr10:100286680-100286681</td><td>BLOC1S2</td><td>1</td></tr>\n",
       "\t<tr><td>chr10:100346339-100347622</td><td>chr10:100347232-100347233</td><td>SCD    </td><td>1</td></tr>\n",
       "</tbody>\n",
       "</table>\n"
      ],
      "text/latex": [
       "A tibble: 6 × 4\n",
       "\\begin{tabular}{llll}\n",
       " Region & TSS\\_Region\\_Overlap & TSS\\_Target\\_Overlap & TSS\\\\\n",
       " <chr> & <chr> & <chr> & <dbl>\\\\\n",
       "\\hline\n",
       "\t chr10:100009244-100010395 & chr10:100009947-100009948 & DNMBP   & 1\\\\\n",
       "\t chr10:100185030-100186618 & chr10:100186029-100186030 & ERLIN1  & 1\\\\\n",
       "\t chr10:100228544-100230080 & chr10:100229596-100229597 & CHUK    & 1\\\\\n",
       "\t chr10:100267188-100268217 & chr10:100267638-100267639 & CWF19L1 & 1\\\\\n",
       "\t chr10:100285996-100287311 & chr10:100286680-100286681 & BLOC1S2 & 1\\\\\n",
       "\t chr10:100346339-100347622 & chr10:100347232-100347233 & SCD     & 1\\\\\n",
       "\\end{tabular}\n"
      ],
      "text/markdown": [
       "\n",
       "A tibble: 6 × 4\n",
       "\n",
       "| Region &lt;chr&gt; | TSS_Region_Overlap &lt;chr&gt; | TSS_Target_Overlap &lt;chr&gt; | TSS &lt;dbl&gt; |\n",
       "|---|---|---|---|\n",
       "| chr10:100009244-100010395 | chr10:100009947-100009948 | DNMBP   | 1 |\n",
       "| chr10:100185030-100186618 | chr10:100186029-100186030 | ERLIN1  | 1 |\n",
       "| chr10:100228544-100230080 | chr10:100229596-100229597 | CHUK    | 1 |\n",
       "| chr10:100267188-100268217 | chr10:100267638-100267639 | CWF19L1 | 1 |\n",
       "| chr10:100285996-100287311 | chr10:100286680-100286681 | BLOC1S2 | 1 |\n",
       "| chr10:100346339-100347622 | chr10:100347232-100347233 | SCD     | 1 |\n",
       "\n"
      ],
      "text/plain": [
       "  Region                    TSS_Region_Overlap        TSS_Target_Overlap TSS\n",
       "1 chr10:100009244-100010395 chr10:100009947-100009948 DNMBP              1  \n",
       "2 chr10:100185030-100186618 chr10:100186029-100186030 ERLIN1             1  \n",
       "3 chr10:100228544-100230080 chr10:100229596-100229597 CHUK               1  \n",
       "4 chr10:100267188-100268217 chr10:100267638-100267639 CWF19L1            1  \n",
       "5 chr10:100285996-100287311 chr10:100286680-100286681 BLOC1S2            1  \n",
       "6 chr10:100346339-100347622 chr10:100347232-100347233 SCD                1  "
      ]
     },
     "metadata": {},
     "output_type": "display_data"
    }
   ],
   "source": [
    "### summarize the overlapped TSS for each region\n",
    "dat = dat_region_tss_intersect\n",
    "dat = dat %>% \n",
    "    dplyr::group_by(Region) %>%\n",
    "    dplyr::summarize(\n",
    "        TSS_Region_Overlap = paste(Region_B, collapse = \";\"),\n",
    "        TSS_Target_Overlap = paste(Gene_B,   collapse = \";\"),\n",
    "        .groups = \"drop\"\n",
    "    ) %>%\n",
    "    dplyr::mutate(TSS = 1)\n",
    "\n",
    "### assign and show\n",
    "dat2 = dat\n",
    "cat(\"Missing?\", any(is.na(dat)), \"\\n\")\n",
    "cat(\"#Rows?  \", nrow(dat),       \"\\n\")\n",
    "head(dat)"
   ]
  },
  {
   "cell_type": "code",
   "execution_count": 11,
   "id": "a44f1f50-99be-4ea9-9b96-1421799a0c94",
   "metadata": {},
   "outputs": [
    {
     "name": "stdout",
     "output_type": "stream",
     "text": [
      "[1] 151558     10\n"
     ]
    },
    {
     "data": {
      "text/html": [
       "<table class=\"dataframe\">\n",
       "<caption>A tibble: 6 × 10</caption>\n",
       "<thead>\n",
       "\t<tr><th scope=col>Chrom</th><th scope=col>ChromStart</th><th scope=col>ChromEnd</th><th scope=col>Region</th><th scope=col>TSS_Region_Closest</th><th scope=col>TSS_Target_Closest</th><th scope=col>Distance2TSS</th><th scope=col>TSS_Region_Overlap</th><th scope=col>TSS_Target_Overlap</th><th scope=col>TSS</th></tr>\n",
       "\t<tr><th scope=col>&lt;chr&gt;</th><th scope=col>&lt;dbl&gt;</th><th scope=col>&lt;dbl&gt;</th><th scope=col>&lt;chr&gt;</th><th scope=col>&lt;chr&gt;</th><th scope=col>&lt;chr&gt;</th><th scope=col>&lt;dbl&gt;</th><th scope=col>&lt;chr&gt;</th><th scope=col>&lt;chr&gt;</th><th scope=col>&lt;dbl&gt;</th></tr>\n",
       "</thead>\n",
       "<tbody>\n",
       "\t<tr><td>chr1</td><td> 10038</td><td> 10405</td><td>chr1:10038-10405  </td><td>chr1:29370-29371</td><td>WASH7P</td><td>18966</td><td>NA              </td><td>NA    </td><td>0</td></tr>\n",
       "\t<tr><td>chr1</td><td> 14282</td><td> 14614</td><td>chr1:14282-14614  </td><td>chr1:29370-29371</td><td>WASH7P</td><td>14757</td><td>NA              </td><td>NA    </td><td>0</td></tr>\n",
       "\t<tr><td>chr1</td><td> 16025</td><td> 16338</td><td>chr1:16025-16338  </td><td>chr1:29370-29371</td><td>WASH7P</td><td>13033</td><td>NA              </td><td>NA    </td><td>0</td></tr>\n",
       "\t<tr><td>chr1</td><td> 17288</td><td> 17689</td><td>chr1:17288-17689  </td><td>chr1:29370-29371</td><td>WASH7P</td><td>11682</td><td>NA              </td><td>NA    </td><td>0</td></tr>\n",
       "\t<tr><td>chr1</td><td> 28934</td><td> 29499</td><td>chr1:28934-29499  </td><td>chr1:29370-29371</td><td>WASH7P</td><td>    0</td><td>chr1:29370-29371</td><td>WASH7P</td><td>1</td></tr>\n",
       "\t<tr><td>chr1</td><td>115429</td><td>115969</td><td>chr1:115429-115969</td><td>chr1:29370-29371</td><td>WASH7P</td><td>86059</td><td>NA              </td><td>NA    </td><td>0</td></tr>\n",
       "</tbody>\n",
       "</table>\n"
      ],
      "text/latex": [
       "A tibble: 6 × 10\n",
       "\\begin{tabular}{llllllllll}\n",
       " Chrom & ChromStart & ChromEnd & Region & TSS\\_Region\\_Closest & TSS\\_Target\\_Closest & Distance2TSS & TSS\\_Region\\_Overlap & TSS\\_Target\\_Overlap & TSS\\\\\n",
       " <chr> & <dbl> & <dbl> & <chr> & <chr> & <chr> & <dbl> & <chr> & <chr> & <dbl>\\\\\n",
       "\\hline\n",
       "\t chr1 &  10038 &  10405 & chr1:10038-10405   & chr1:29370-29371 & WASH7P & 18966 & NA               & NA     & 0\\\\\n",
       "\t chr1 &  14282 &  14614 & chr1:14282-14614   & chr1:29370-29371 & WASH7P & 14757 & NA               & NA     & 0\\\\\n",
       "\t chr1 &  16025 &  16338 & chr1:16025-16338   & chr1:29370-29371 & WASH7P & 13033 & NA               & NA     & 0\\\\\n",
       "\t chr1 &  17288 &  17689 & chr1:17288-17689   & chr1:29370-29371 & WASH7P & 11682 & NA               & NA     & 0\\\\\n",
       "\t chr1 &  28934 &  29499 & chr1:28934-29499   & chr1:29370-29371 & WASH7P &     0 & chr1:29370-29371 & WASH7P & 1\\\\\n",
       "\t chr1 & 115429 & 115969 & chr1:115429-115969 & chr1:29370-29371 & WASH7P & 86059 & NA               & NA     & 0\\\\\n",
       "\\end{tabular}\n"
      ],
      "text/markdown": [
       "\n",
       "A tibble: 6 × 10\n",
       "\n",
       "| Chrom &lt;chr&gt; | ChromStart &lt;dbl&gt; | ChromEnd &lt;dbl&gt; | Region &lt;chr&gt; | TSS_Region_Closest &lt;chr&gt; | TSS_Target_Closest &lt;chr&gt; | Distance2TSS &lt;dbl&gt; | TSS_Region_Overlap &lt;chr&gt; | TSS_Target_Overlap &lt;chr&gt; | TSS &lt;dbl&gt; |\n",
       "|---|---|---|---|---|---|---|---|---|---|\n",
       "| chr1 |  10038 |  10405 | chr1:10038-10405   | chr1:29370-29371 | WASH7P | 18966 | NA               | NA     | 0 |\n",
       "| chr1 |  14282 |  14614 | chr1:14282-14614   | chr1:29370-29371 | WASH7P | 14757 | NA               | NA     | 0 |\n",
       "| chr1 |  16025 |  16338 | chr1:16025-16338   | chr1:29370-29371 | WASH7P | 13033 | NA               | NA     | 0 |\n",
       "| chr1 |  17288 |  17689 | chr1:17288-17689   | chr1:29370-29371 | WASH7P | 11682 | NA               | NA     | 0 |\n",
       "| chr1 |  28934 |  29499 | chr1:28934-29499   | chr1:29370-29371 | WASH7P |     0 | chr1:29370-29371 | WASH7P | 1 |\n",
       "| chr1 | 115429 | 115969 | chr1:115429-115969 | chr1:29370-29371 | WASH7P | 86059 | NA               | NA     | 0 |\n",
       "\n"
      ],
      "text/plain": [
       "  Chrom ChromStart ChromEnd Region             TSS_Region_Closest\n",
       "1 chr1   10038      10405   chr1:10038-10405   chr1:29370-29371  \n",
       "2 chr1   14282      14614   chr1:14282-14614   chr1:29370-29371  \n",
       "3 chr1   16025      16338   chr1:16025-16338   chr1:29370-29371  \n",
       "4 chr1   17288      17689   chr1:17288-17689   chr1:29370-29371  \n",
       "5 chr1   28934      29499   chr1:28934-29499   chr1:29370-29371  \n",
       "6 chr1  115429     115969   chr1:115429-115969 chr1:29370-29371  \n",
       "  TSS_Target_Closest Distance2TSS TSS_Region_Overlap TSS_Target_Overlap TSS\n",
       "1 WASH7P             18966        NA                 NA                 0  \n",
       "2 WASH7P             14757        NA                 NA                 0  \n",
       "3 WASH7P             13033        NA                 NA                 0  \n",
       "4 WASH7P             11682        NA                 NA                 0  \n",
       "5 WASH7P                 0        chr1:29370-29371   WASH7P             1  \n",
       "6 WASH7P             86059        NA                 NA                 0  "
      ]
     },
     "metadata": {},
     "output_type": "display_data"
    }
   ],
   "source": [
    "dat = dplyr::left_join(dat1, dat2, by = \"Region\")\n",
    "dat = dat %>% dplyr::mutate(TSS = ifelse(is.na(TSS), 0, TSS))\n",
    "\n",
    "dat_region_annot_tss = dat\n",
    "print(dim(dat))\n",
    "head(dat)"
   ]
  },
  {
   "cell_type": "code",
   "execution_count": 12,
   "id": "e1eeb0bb-2ddf-4bc9-988d-70d8d6a7e2c0",
   "metadata": {},
   "outputs": [
    {
     "name": "stdout",
     "output_type": "stream",
     "text": [
      "If D==0: \n",
      "\n",
      "TSS==1 \n",
      " 10831 \n",
      "\n",
      "If TSS==1: \n",
      "\n",
      " D==0 \n",
      "10831 \n"
     ]
    }
   ],
   "source": [
    "### init\n",
    "dat = dat_region_annot_tss\n",
    "\n",
    "### check TSS annotation and distance\n",
    "cat(\"If D==0:\", \"\\n\")\n",
    "tmp = dat %>% \n",
    "    dplyr::filter(Distance2TSS == 0) %>%\n",
    "    dplyr::mutate(Note = ifelse(TSS == 1, \"TSS==1\", \"TSS!=1\"))\n",
    "res = table(tmp$Note)\n",
    "print(res)\n",
    "cat(\"\\n\")\n",
    "\n",
    "cat(\"If TSS==1:\", \"\\n\")\n",
    "tmp = dat %>% \n",
    "    dplyr::filter(TSS == 1) %>% \n",
    "    dplyr::mutate(Note = ifelse(Distance2TSS == 0, \"D==0\", \"D>0\"))\n",
    "res = table(tmp$Note)\n",
    "print(res)"
   ]
  },
  {
   "cell_type": "markdown",
   "id": "23c936fa-d18a-4233-aeb6-5b6eeed9e9ff",
   "metadata": {},
   "source": [
    "## Test"
   ]
  },
  {
   "cell_type": "code",
   "execution_count": 14,
   "id": "fe321768-c735-4949-a7fe-5b565085bb85",
   "metadata": {},
   "outputs": [
    {
     "name": "stdout",
     "output_type": "stream",
     "text": [
      "Missing? FALSE \n",
      "#Rows?   150042 \n"
     ]
    },
    {
     "data": {
      "text/html": [
       "<table class=\"dataframe\">\n",
       "<caption>A tibble: 6 × 5</caption>\n",
       "<thead>\n",
       "\t<tr><th scope=col>Chrom</th><th scope=col>ChromStart</th><th scope=col>ChromEnd</th><th scope=col>Region</th><th scope=col>Distance2TSS</th></tr>\n",
       "\t<tr><th scope=col>&lt;chr&gt;</th><th scope=col>&lt;dbl&gt;</th><th scope=col>&lt;dbl&gt;</th><th scope=col>&lt;chr&gt;</th><th scope=col>&lt;dbl&gt;</th></tr>\n",
       "</thead>\n",
       "<tbody>\n",
       "\t<tr><td>chr1</td><td> 10038</td><td> 10405</td><td>chr1:10038-10405  </td><td>18966</td></tr>\n",
       "\t<tr><td>chr1</td><td> 14282</td><td> 14614</td><td>chr1:14282-14614  </td><td>14757</td></tr>\n",
       "\t<tr><td>chr1</td><td> 16025</td><td> 16338</td><td>chr1:16025-16338  </td><td>13033</td></tr>\n",
       "\t<tr><td>chr1</td><td> 17288</td><td> 17689</td><td>chr1:17288-17689  </td><td>11682</td></tr>\n",
       "\t<tr><td>chr1</td><td> 28934</td><td> 29499</td><td>chr1:28934-29499  </td><td>    0</td></tr>\n",
       "\t<tr><td>chr1</td><td>115429</td><td>115969</td><td>chr1:115429-115969</td><td>86059</td></tr>\n",
       "</tbody>\n",
       "</table>\n"
      ],
      "text/latex": [
       "A tibble: 6 × 5\n",
       "\\begin{tabular}{lllll}\n",
       " Chrom & ChromStart & ChromEnd & Region & Distance2TSS\\\\\n",
       " <chr> & <dbl> & <dbl> & <chr> & <dbl>\\\\\n",
       "\\hline\n",
       "\t chr1 &  10038 &  10405 & chr1:10038-10405   & 18966\\\\\n",
       "\t chr1 &  14282 &  14614 & chr1:14282-14614   & 14757\\\\\n",
       "\t chr1 &  16025 &  16338 & chr1:16025-16338   & 13033\\\\\n",
       "\t chr1 &  17288 &  17689 & chr1:17288-17689   & 11682\\\\\n",
       "\t chr1 &  28934 &  29499 & chr1:28934-29499   &     0\\\\\n",
       "\t chr1 & 115429 & 115969 & chr1:115429-115969 & 86059\\\\\n",
       "\\end{tabular}\n"
      ],
      "text/markdown": [
       "\n",
       "A tibble: 6 × 5\n",
       "\n",
       "| Chrom &lt;chr&gt; | ChromStart &lt;dbl&gt; | ChromEnd &lt;dbl&gt; | Region &lt;chr&gt; | Distance2TSS &lt;dbl&gt; |\n",
       "|---|---|---|---|---|\n",
       "| chr1 |  10038 |  10405 | chr1:10038-10405   | 18966 |\n",
       "| chr1 |  14282 |  14614 | chr1:14282-14614   | 14757 |\n",
       "| chr1 |  16025 |  16338 | chr1:16025-16338   | 13033 |\n",
       "| chr1 |  17288 |  17689 | chr1:17288-17689   | 11682 |\n",
       "| chr1 |  28934 |  29499 | chr1:28934-29499   |     0 |\n",
       "| chr1 | 115429 | 115969 | chr1:115429-115969 | 86059 |\n",
       "\n"
      ],
      "text/plain": [
       "  Chrom ChromStart ChromEnd Region             Distance2TSS\n",
       "1 chr1   10038      10405   chr1:10038-10405   18966       \n",
       "2 chr1   14282      14614   chr1:14282-14614   14757       \n",
       "3 chr1   16025      16338   chr1:16025-16338   13033       \n",
       "4 chr1   17288      17689   chr1:17288-17689   11682       \n",
       "5 chr1   28934      29499   chr1:28934-29499       0       \n",
       "6 chr1  115429     115969   chr1:115429-115969 86059       "
      ]
     },
     "metadata": {},
     "output_type": "display_data"
    }
   ],
   "source": [
    "dat = dat_region_tss_closest\n",
    "dat = dat %>% \n",
    "    dplyr::rename(\n",
    "        TSS_Region_Closest = Region_B,\n",
    "        TSS_Target_Closest = Gene_B,\n",
    "    ) %>%\n",
    "    dplyr::select(\n",
    "        Chrom, ChromStart, ChromEnd, Region, \n",
    "        #TSS_Region_Closest, \n",
    "        #TSS_Target_Closest,\n",
    "        Distance2TSS\n",
    "    ) %>% \n",
    "    dplyr::distinct()\n",
    "\n",
    "### assign and show\n",
    "dat1 = dat\n",
    "cat(\"Missing?\", any(is.na(dat)), \"\\n\")\n",
    "cat(\"#Rows?  \", nrow(dat),       \"\\n\")\n",
    "head(dat)"
   ]
  },
  {
   "cell_type": "code",
   "execution_count": 15,
   "id": "ce530de0-b984-410e-9a6f-3045edecf3b5",
   "metadata": {},
   "outputs": [
    {
     "name": "stdout",
     "output_type": "stream",
     "text": [
      "Missing? FALSE \n",
      "#Rows?   9649 \n"
     ]
    },
    {
     "data": {
      "text/html": [
       "<table class=\"dataframe\">\n",
       "<caption>A tibble: 6 × 4</caption>\n",
       "<thead>\n",
       "\t<tr><th scope=col>Region</th><th scope=col>TSS_Region_Overlap</th><th scope=col>TSS_Target_Overlap</th><th scope=col>TSS</th></tr>\n",
       "\t<tr><th scope=col>&lt;chr&gt;</th><th scope=col>&lt;chr&gt;</th><th scope=col>&lt;chr&gt;</th><th scope=col>&lt;dbl&gt;</th></tr>\n",
       "</thead>\n",
       "<tbody>\n",
       "\t<tr><td>chr10:100009244-100010395</td><td>chr10:100009947-100009948</td><td>DNMBP  </td><td>1</td></tr>\n",
       "\t<tr><td>chr10:100185030-100186618</td><td>chr10:100186029-100186030</td><td>ERLIN1 </td><td>1</td></tr>\n",
       "\t<tr><td>chr10:100228544-100230080</td><td>chr10:100229596-100229597</td><td>CHUK   </td><td>1</td></tr>\n",
       "\t<tr><td>chr10:100267188-100268217</td><td>chr10:100267638-100267639</td><td>CWF19L1</td><td>1</td></tr>\n",
       "\t<tr><td>chr10:100285996-100287311</td><td>chr10:100286680-100286681</td><td>BLOC1S2</td><td>1</td></tr>\n",
       "\t<tr><td>chr10:100346339-100347622</td><td>chr10:100347232-100347233</td><td>SCD    </td><td>1</td></tr>\n",
       "</tbody>\n",
       "</table>\n"
      ],
      "text/latex": [
       "A tibble: 6 × 4\n",
       "\\begin{tabular}{llll}\n",
       " Region & TSS\\_Region\\_Overlap & TSS\\_Target\\_Overlap & TSS\\\\\n",
       " <chr> & <chr> & <chr> & <dbl>\\\\\n",
       "\\hline\n",
       "\t chr10:100009244-100010395 & chr10:100009947-100009948 & DNMBP   & 1\\\\\n",
       "\t chr10:100185030-100186618 & chr10:100186029-100186030 & ERLIN1  & 1\\\\\n",
       "\t chr10:100228544-100230080 & chr10:100229596-100229597 & CHUK    & 1\\\\\n",
       "\t chr10:100267188-100268217 & chr10:100267638-100267639 & CWF19L1 & 1\\\\\n",
       "\t chr10:100285996-100287311 & chr10:100286680-100286681 & BLOC1S2 & 1\\\\\n",
       "\t chr10:100346339-100347622 & chr10:100347232-100347233 & SCD     & 1\\\\\n",
       "\\end{tabular}\n"
      ],
      "text/markdown": [
       "\n",
       "A tibble: 6 × 4\n",
       "\n",
       "| Region &lt;chr&gt; | TSS_Region_Overlap &lt;chr&gt; | TSS_Target_Overlap &lt;chr&gt; | TSS &lt;dbl&gt; |\n",
       "|---|---|---|---|\n",
       "| chr10:100009244-100010395 | chr10:100009947-100009948 | DNMBP   | 1 |\n",
       "| chr10:100185030-100186618 | chr10:100186029-100186030 | ERLIN1  | 1 |\n",
       "| chr10:100228544-100230080 | chr10:100229596-100229597 | CHUK    | 1 |\n",
       "| chr10:100267188-100268217 | chr10:100267638-100267639 | CWF19L1 | 1 |\n",
       "| chr10:100285996-100287311 | chr10:100286680-100286681 | BLOC1S2 | 1 |\n",
       "| chr10:100346339-100347622 | chr10:100347232-100347233 | SCD     | 1 |\n",
       "\n"
      ],
      "text/plain": [
       "  Region                    TSS_Region_Overlap        TSS_Target_Overlap TSS\n",
       "1 chr10:100009244-100010395 chr10:100009947-100009948 DNMBP              1  \n",
       "2 chr10:100185030-100186618 chr10:100186029-100186030 ERLIN1             1  \n",
       "3 chr10:100228544-100230080 chr10:100229596-100229597 CHUK               1  \n",
       "4 chr10:100267188-100268217 chr10:100267638-100267639 CWF19L1            1  \n",
       "5 chr10:100285996-100287311 chr10:100286680-100286681 BLOC1S2            1  \n",
       "6 chr10:100346339-100347622 chr10:100347232-100347233 SCD                1  "
      ]
     },
     "metadata": {},
     "output_type": "display_data"
    }
   ],
   "source": [
    "### summarize the overlapped TSS for each region\n",
    "dat = dat_region_tss_intersect\n",
    "dat = dat %>% \n",
    "    dplyr::group_by(Region) %>%\n",
    "    dplyr::summarize(\n",
    "        TSS_Region_Overlap = paste(Region_B, collapse = \";\"),\n",
    "        TSS_Target_Overlap = paste(Gene_B,   collapse = \";\"),\n",
    "        .groups = \"drop\"\n",
    "    ) %>%\n",
    "    dplyr::mutate(TSS = 1)\n",
    "\n",
    "### assign and show\n",
    "dat2 = dat\n",
    "cat(\"Missing?\", any(is.na(dat)), \"\\n\")\n",
    "cat(\"#Rows?  \", nrow(dat),       \"\\n\")\n",
    "head(dat)"
   ]
  },
  {
   "cell_type": "code",
   "execution_count": 16,
   "id": "57ed0fc8-8b52-4de8-b908-cd6d552bfc07",
   "metadata": {},
   "outputs": [
    {
     "name": "stdout",
     "output_type": "stream",
     "text": [
      "[1] 150042      8\n"
     ]
    },
    {
     "data": {
      "text/html": [
       "<table class=\"dataframe\">\n",
       "<caption>A tibble: 6 × 8</caption>\n",
       "<thead>\n",
       "\t<tr><th scope=col>Chrom</th><th scope=col>ChromStart</th><th scope=col>ChromEnd</th><th scope=col>Region</th><th scope=col>Distance2TSS</th><th scope=col>TSS_Region_Overlap</th><th scope=col>TSS_Target_Overlap</th><th scope=col>TSS</th></tr>\n",
       "\t<tr><th scope=col>&lt;chr&gt;</th><th scope=col>&lt;dbl&gt;</th><th scope=col>&lt;dbl&gt;</th><th scope=col>&lt;chr&gt;</th><th scope=col>&lt;dbl&gt;</th><th scope=col>&lt;chr&gt;</th><th scope=col>&lt;chr&gt;</th><th scope=col>&lt;dbl&gt;</th></tr>\n",
       "</thead>\n",
       "<tbody>\n",
       "\t<tr><td>chr1</td><td> 10038</td><td> 10405</td><td>chr1:10038-10405  </td><td>18966</td><td>NA              </td><td>NA    </td><td>0</td></tr>\n",
       "\t<tr><td>chr1</td><td> 14282</td><td> 14614</td><td>chr1:14282-14614  </td><td>14757</td><td>NA              </td><td>NA    </td><td>0</td></tr>\n",
       "\t<tr><td>chr1</td><td> 16025</td><td> 16338</td><td>chr1:16025-16338  </td><td>13033</td><td>NA              </td><td>NA    </td><td>0</td></tr>\n",
       "\t<tr><td>chr1</td><td> 17288</td><td> 17689</td><td>chr1:17288-17689  </td><td>11682</td><td>NA              </td><td>NA    </td><td>0</td></tr>\n",
       "\t<tr><td>chr1</td><td> 28934</td><td> 29499</td><td>chr1:28934-29499  </td><td>    0</td><td>chr1:29370-29371</td><td>WASH7P</td><td>1</td></tr>\n",
       "\t<tr><td>chr1</td><td>115429</td><td>115969</td><td>chr1:115429-115969</td><td>86059</td><td>NA              </td><td>NA    </td><td>0</td></tr>\n",
       "</tbody>\n",
       "</table>\n"
      ],
      "text/latex": [
       "A tibble: 6 × 8\n",
       "\\begin{tabular}{llllllll}\n",
       " Chrom & ChromStart & ChromEnd & Region & Distance2TSS & TSS\\_Region\\_Overlap & TSS\\_Target\\_Overlap & TSS\\\\\n",
       " <chr> & <dbl> & <dbl> & <chr> & <dbl> & <chr> & <chr> & <dbl>\\\\\n",
       "\\hline\n",
       "\t chr1 &  10038 &  10405 & chr1:10038-10405   & 18966 & NA               & NA     & 0\\\\\n",
       "\t chr1 &  14282 &  14614 & chr1:14282-14614   & 14757 & NA               & NA     & 0\\\\\n",
       "\t chr1 &  16025 &  16338 & chr1:16025-16338   & 13033 & NA               & NA     & 0\\\\\n",
       "\t chr1 &  17288 &  17689 & chr1:17288-17689   & 11682 & NA               & NA     & 0\\\\\n",
       "\t chr1 &  28934 &  29499 & chr1:28934-29499   &     0 & chr1:29370-29371 & WASH7P & 1\\\\\n",
       "\t chr1 & 115429 & 115969 & chr1:115429-115969 & 86059 & NA               & NA     & 0\\\\\n",
       "\\end{tabular}\n"
      ],
      "text/markdown": [
       "\n",
       "A tibble: 6 × 8\n",
       "\n",
       "| Chrom &lt;chr&gt; | ChromStart &lt;dbl&gt; | ChromEnd &lt;dbl&gt; | Region &lt;chr&gt; | Distance2TSS &lt;dbl&gt; | TSS_Region_Overlap &lt;chr&gt; | TSS_Target_Overlap &lt;chr&gt; | TSS &lt;dbl&gt; |\n",
       "|---|---|---|---|---|---|---|---|\n",
       "| chr1 |  10038 |  10405 | chr1:10038-10405   | 18966 | NA               | NA     | 0 |\n",
       "| chr1 |  14282 |  14614 | chr1:14282-14614   | 14757 | NA               | NA     | 0 |\n",
       "| chr1 |  16025 |  16338 | chr1:16025-16338   | 13033 | NA               | NA     | 0 |\n",
       "| chr1 |  17288 |  17689 | chr1:17288-17689   | 11682 | NA               | NA     | 0 |\n",
       "| chr1 |  28934 |  29499 | chr1:28934-29499   |     0 | chr1:29370-29371 | WASH7P | 1 |\n",
       "| chr1 | 115429 | 115969 | chr1:115429-115969 | 86059 | NA               | NA     | 0 |\n",
       "\n"
      ],
      "text/plain": [
       "  Chrom ChromStart ChromEnd Region             Distance2TSS TSS_Region_Overlap\n",
       "1 chr1   10038      10405   chr1:10038-10405   18966        NA                \n",
       "2 chr1   14282      14614   chr1:14282-14614   14757        NA                \n",
       "3 chr1   16025      16338   chr1:16025-16338   13033        NA                \n",
       "4 chr1   17288      17689   chr1:17288-17689   11682        NA                \n",
       "5 chr1   28934      29499   chr1:28934-29499       0        chr1:29370-29371  \n",
       "6 chr1  115429     115969   chr1:115429-115969 86059        NA                \n",
       "  TSS_Target_Overlap TSS\n",
       "1 NA                 0  \n",
       "2 NA                 0  \n",
       "3 NA                 0  \n",
       "4 NA                 0  \n",
       "5 WASH7P             1  \n",
       "6 NA                 0  "
      ]
     },
     "metadata": {},
     "output_type": "display_data"
    }
   ],
   "source": [
    "dat = dplyr::left_join(dat1, dat2, by = \"Region\")\n",
    "dat = dat %>% dplyr::mutate(TSS = ifelse(is.na(TSS), 0, TSS))\n",
    "\n",
    "dat_region_annot_tss = dat\n",
    "print(dim(dat))\n",
    "head(dat)"
   ]
  },
  {
   "cell_type": "code",
   "execution_count": 17,
   "id": "bf203f43-cd6d-4713-beb3-d9f628ff5b50",
   "metadata": {},
   "outputs": [
    {
     "name": "stdout",
     "output_type": "stream",
     "text": [
      "If D==0: \n",
      "\n",
      "TSS==1 \n",
      "  9649 \n",
      "\n",
      "If TSS==1: \n",
      "\n",
      "D==0 \n",
      "9649 \n"
     ]
    }
   ],
   "source": [
    "### init\n",
    "dat = dat_region_annot_tss\n",
    "\n",
    "### check TSS annotation and distance\n",
    "cat(\"If D==0:\", \"\\n\")\n",
    "tmp = dat %>% \n",
    "    dplyr::filter(Distance2TSS == 0) %>%\n",
    "    dplyr::mutate(Note = ifelse(TSS == 1, \"TSS==1\", \"TSS!=1\"))\n",
    "res = table(tmp$Note)\n",
    "print(res)\n",
    "cat(\"\\n\")\n",
    "\n",
    "cat(\"If TSS==1:\", \"\\n\")\n",
    "tmp = dat %>% \n",
    "    dplyr::filter(TSS == 1) %>% \n",
    "    dplyr::mutate(Note = ifelse(Distance2TSS == 0, \"D==0\", \"D>0\"))\n",
    "res = table(tmp$Note)\n",
    "print(res)"
   ]
  },
  {
   "cell_type": "code",
   "execution_count": null,
   "id": "49bc9b02-fa99-45b6-908d-1ba3ad2dad1a",
   "metadata": {},
   "outputs": [],
   "source": []
  }
 ],
 "metadata": {
  "kernelspec": {
   "display_name": "R",
   "language": "R",
   "name": "ir"
  },
  "language_info": {
   "codemirror_mode": "r",
   "file_extension": ".r",
   "mimetype": "text/x-r-source",
   "name": "R",
   "pygments_lexer": "r",
   "version": "4.4.2"
  }
 },
 "nbformat": 4,
 "nbformat_minor": 5
}
