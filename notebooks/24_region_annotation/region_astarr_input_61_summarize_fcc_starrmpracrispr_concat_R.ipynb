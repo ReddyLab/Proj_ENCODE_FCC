{
 "cells": [
  {
   "cell_type": "raw",
   "id": "1bc931ca-1196-468b-8e95-1ab413f0c051",
   "metadata": {},
   "source": [
    "---\n",
    "title: FCC Peak calls\n",
    "subtitle: export annotation\n",
    "format:\n",
    "    html:\n",
    "        code-fold:  true\n",
    "        code-tools: true\n",
    "---"
   ]
  },
  {
   "cell_type": "markdown",
   "id": "ddb22faf-c03d-4785-b80c-211103694adb",
   "metadata": {},
   "source": [
    "**Set environment**"
   ]
  },
  {
   "cell_type": "code",
   "execution_count": 1,
   "id": "b7b73b9a-fe24-4d0b-82bb-b56b7493a878",
   "metadata": {
    "tags": []
   },
   "outputs": [
    {
     "name": "stdout",
     "output_type": "stream",
     "text": [
      "You are working on        Singularity: singularity_proj_encode_fcc \n",
      "BASE DIRECTORY (FD_BASE): /data/reddylab/Kuei \n",
      "REPO DIRECTORY (FD_REPO): /data/reddylab/Kuei/repo \n",
      "WORK DIRECTORY (FD_WORK): /data/reddylab/Kuei/work \n",
      "DATA DIRECTORY (FD_DATA): /data/reddylab/Kuei/data \n",
      "\n",
      "You are working with      ENCODE FCC \n",
      "PATH OF PROJECT (FD_PRJ): /data/reddylab/Kuei/repo/Proj_ENCODE_FCC \n",
      "PROJECT RESULTS (FD_RES): /data/reddylab/Kuei/repo/Proj_ENCODE_FCC/results \n",
      "PROJECT SCRIPTS (FD_EXE): /data/reddylab/Kuei/repo/Proj_ENCODE_FCC/scripts \n",
      "PROJECT DATA    (FD_DAT): /data/reddylab/Kuei/repo/Proj_ENCODE_FCC/data \n",
      "PROJECT NOTE    (FD_NBK): /data/reddylab/Kuei/repo/Proj_ENCODE_FCC/notebooks \n",
      "PROJECT DOCS    (FD_DOC): /data/reddylab/Kuei/repo/Proj_ENCODE_FCC/docs \n",
      "PROJECT LOG     (FD_LOG): /data/reddylab/Kuei/repo/Proj_ENCODE_FCC/log \n",
      "PROJECT REF     (FD_REF): /data/reddylab/Kuei/repo/Proj_ENCODE_FCC/references \n",
      "\n"
     ]
    }
   ],
   "source": [
    "suppressMessages(suppressWarnings(source(\"../run_config_project_sing.R\")))\n",
    "show_env()"
   ]
  },
  {
   "cell_type": "markdown",
   "id": "14824bc5-3816-476b-8a0d-c277852ccba6",
   "metadata": {},
   "source": [
    "## Prepare"
   ]
  },
  {
   "cell_type": "markdown",
   "id": "3b81e9fe-fd4a-475b-937e-6214bbefc1c4",
   "metadata": {},
   "source": [
    "**Set global variable**"
   ]
  },
  {
   "cell_type": "code",
   "execution_count": 2,
   "id": "f5b0ac36-d1d6-46b2-92e8-1a5fdc80fb81",
   "metadata": {},
   "outputs": [],
   "source": [
    "TXT_FNAME_INP = \"region.annotation.fcc_starrmpra_junke.assayvote.tsv\"\n",
    "TXT_FNAME_OUT = \"region.annotation.genome_tss.tsv\""
   ]
  },
  {
   "cell_type": "markdown",
   "id": "6f719104-faf7-4441-82f5-0a4f936c4b71",
   "metadata": {},
   "source": [
    "**View files**"
   ]
  },
  {
   "cell_type": "code",
   "execution_count": 38,
   "id": "493ed473-7b8d-45a6-bc53-47a7279ac83c",
   "metadata": {},
   "outputs": [
    {
     "name": "stdout",
     "output_type": "stream",
     "text": [
      "fcc_astarr_macs_input_overlap \n",
      "fcc_astarr_macs_input_union \n"
     ]
    }
   ],
   "source": [
    "### get annotated region folder\n",
    "txt_fdiry = file.path(FD_RES, \"region_annotation\")\n",
    "vec = dir(txt_fdiry)\n",
    "names(vec) = vec\n",
    "\n",
    "### assign and show\n",
    "vec_txt_folder = vec\n",
    "for(txt in vec){cat(txt, \"\\n\")}"
   ]
  },
  {
   "cell_type": "code",
   "execution_count": 4,
   "id": "a56bd29e-3420-4390-9722-72b0fc4a1d5f",
   "metadata": {},
   "outputs": [
    {
     "name": "stdout",
     "output_type": "stream",
     "text": [
      "/data/reddylab/Kuei/repo/Proj_ENCODE_FCC/results/region_annotation/fcc_astarr_macs_input_overlap/summary/region.annotation.fcc_starrmpra_junke.assayvote.tsv \n",
      "/data/reddylab/Kuei/repo/Proj_ENCODE_FCC/results/region_annotation/fcc_astarr_macs_input_union/summary/region.annotation.fcc_starrmpra_junke.assayvote.tsv \n"
     ]
    }
   ],
   "source": [
    "txt_fdiry = file.path(FD_RES, \"region_annotation\", \"*\", \"summary\")\n",
    "txt_fname = TXT_FNAME_INP\n",
    "txt_fglob = file.path(txt_fdiry, txt_fname)\n",
    "\n",
    "vec = Sys.glob(txt_fglob)\n",
    "for(txt in vec){cat(txt, \"\\n\")}"
   ]
  },
  {
   "cell_type": "markdown",
   "id": "ff565c3d-3b7c-49b6-b788-259637876db9",
   "metadata": {},
   "source": [
    "## Import data"
   ]
  },
  {
   "cell_type": "code",
   "execution_count": 28,
   "id": "0b1488b4-766c-46d4-9a50-94734ce37608",
   "metadata": {},
   "outputs": [
    {
     "name": "stdout",
     "output_type": "stream",
     "text": [
      "fcc_astarr_macs_input_overlap \n",
      "fcc_astarr_macs_input_union \n"
     ]
    }
   ],
   "source": [
    "### get annotated region folder\n",
    "txt_fdiry = file.path(FD_RES, \"region_annotation\")\n",
    "vec = dir(txt_fdiry)\n",
    "\n",
    "### assign and show\n",
    "vec_txt_folder = vec\n",
    "for(txt in vec){cat(txt, \"\\n\")}"
   ]
  },
  {
   "cell_type": "code",
   "execution_count": 31,
   "id": "e22a6ac8-4f0f-46a7-827d-a5c9ac8e9aca",
   "metadata": {},
   "outputs": [
    {
     "name": "stdout",
     "output_type": "stream",
     "text": [
      "$fcc_astarr_macs_input_overlap\n",
      "[1] 151862     10\n",
      "\n",
      "$fcc_astarr_macs_input_union\n",
      "[1] 196065     10\n",
      "\n"
     ]
    },
    {
     "data": {
      "text/html": [
       "<table>\n",
       " <thead>\n",
       "  <tr>\n",
       "   <th style=\"text-align:left;\"> Chrom </th>\n",
       "   <th style=\"text-align:right;\"> ChromStart </th>\n",
       "   <th style=\"text-align:right;\"> ChromEnd </th>\n",
       "   <th style=\"text-align:left;\"> Region </th>\n",
       "   <th style=\"text-align:left;\"> Annotation_A </th>\n",
       "   <th style=\"text-align:left;\"> Annotation_B </th>\n",
       "   <th style=\"text-align:left;\"> Group </th>\n",
       "   <th style=\"text-align:left;\"> Label </th>\n",
       "   <th style=\"text-align:left;\"> Region_Annot </th>\n",
       "   <th style=\"text-align:right;\"> Region_Count </th>\n",
       "  </tr>\n",
       " </thead>\n",
       "<tbody>\n",
       "  <tr>\n",
       "   <td style=\"text-align:left;\"> chr1 </td>\n",
       "   <td style=\"text-align:right;\"> 10038 </td>\n",
       "   <td style=\"text-align:right;\"> 10405 </td>\n",
       "   <td style=\"text-align:left;\"> chr1:10038-10405 </td>\n",
       "   <td style=\"text-align:left;\"> fcc_astarr_macs_input_overlap </td>\n",
       "   <td style=\"text-align:left;\"> fcc_starrmpra_junke_astarr </td>\n",
       "   <td style=\"text-align:left;\"> ASTARR </td>\n",
       "   <td style=\"text-align:left;\"> ASTARR_R </td>\n",
       "   <td style=\"text-align:left;\"> chr1:10010-10430 </td>\n",
       "   <td style=\"text-align:right;\"> 1 </td>\n",
       "  </tr>\n",
       "  <tr>\n",
       "   <td style=\"text-align:left;\"> chr1 </td>\n",
       "   <td style=\"text-align:right;\"> 16025 </td>\n",
       "   <td style=\"text-align:right;\"> 16338 </td>\n",
       "   <td style=\"text-align:left;\"> chr1:16025-16338 </td>\n",
       "   <td style=\"text-align:left;\"> fcc_astarr_macs_input_overlap </td>\n",
       "   <td style=\"text-align:left;\"> fcc_starrmpra_junke_astarr </td>\n",
       "   <td style=\"text-align:left;\"> ASTARR </td>\n",
       "   <td style=\"text-align:left;\"> ASTARR_R </td>\n",
       "   <td style=\"text-align:left;\"> chr1:16220-16340 </td>\n",
       "   <td style=\"text-align:right;\"> 1 </td>\n",
       "  </tr>\n",
       "  <tr>\n",
       "   <td style=\"text-align:left;\"> chr1 </td>\n",
       "   <td style=\"text-align:right;\"> 17288 </td>\n",
       "   <td style=\"text-align:right;\"> 17689 </td>\n",
       "   <td style=\"text-align:left;\"> chr1:17288-17689 </td>\n",
       "   <td style=\"text-align:left;\"> fcc_astarr_macs_input_overlap </td>\n",
       "   <td style=\"text-align:left;\"> fcc_starrmpra_junke_astarr </td>\n",
       "   <td style=\"text-align:left;\"> ASTARR </td>\n",
       "   <td style=\"text-align:left;\"> ASTARR_R </td>\n",
       "   <td style=\"text-align:left;\"> chr1:17230-17440;chr1:17610-17720 </td>\n",
       "   <td style=\"text-align:right;\"> 2 </td>\n",
       "  </tr>\n",
       "</tbody>\n",
       "</table>"
      ]
     },
     "metadata": {},
     "output_type": "display_data"
    }
   ],
   "source": [
    "lst = lapply(vec_txt_folder, function(txt_folder){\n",
    "    ### set file directory\n",
    "    txt_fdiry = file.path(\n",
    "        FD_RES, \n",
    "        \"region_annotation\", \n",
    "        txt_folder,\n",
    "        \"summary\"\n",
    "    )\n",
    "    txt_fname = \"region.annotation.fcc_starrmpra_junke.tsv\"\n",
    "    txt_fpath = file.path(txt_fdiry, txt_fname)\n",
    "\n",
    "    ### read table\n",
    "    dat = read_tsv(txt_fpath, show_col_types = FALSE)\n",
    "    return(dat)\n",
    "})\n",
    "names(lst) = vec_txt_folder\n",
    "\n",
    "### assign and show\n",
    "lst_dat_region_annot_fcc_starrmpra = lst\n",
    "res = lapply(lst, dim)\n",
    "print(res)\n",
    "dat = lst[[1]]\n",
    "fun_display_table(head(dat, 3))"
   ]
  },
  {
   "cell_type": "code",
   "execution_count": 32,
   "id": "efe59565-a841-462a-ac73-aa9f86eea5c2",
   "metadata": {},
   "outputs": [
    {
     "name": "stdout",
     "output_type": "stream",
     "text": [
      "$fcc_astarr_macs_input_overlap\n",
      "[1] 84 10\n",
      "\n",
      "$fcc_astarr_macs_input_union\n",
      "[1] 86 10\n",
      "\n"
     ]
    },
    {
     "data": {
      "text/html": [
       "<table>\n",
       " <thead>\n",
       "  <tr>\n",
       "   <th style=\"text-align:left;\"> Chrom </th>\n",
       "   <th style=\"text-align:right;\"> ChromStart </th>\n",
       "   <th style=\"text-align:right;\"> ChromEnd </th>\n",
       "   <th style=\"text-align:left;\"> Region </th>\n",
       "   <th style=\"text-align:left;\"> Annotation_A </th>\n",
       "   <th style=\"text-align:left;\"> Annotation_B </th>\n",
       "   <th style=\"text-align:left;\"> Group </th>\n",
       "   <th style=\"text-align:left;\"> Label </th>\n",
       "   <th style=\"text-align:left;\"> Region_Annot </th>\n",
       "   <th style=\"text-align:right;\"> Region_Count </th>\n",
       "  </tr>\n",
       " </thead>\n",
       "<tbody>\n",
       "  <tr>\n",
       "   <td style=\"text-align:left;\"> chr11 </td>\n",
       "   <td style=\"text-align:right;\"> 5249957 </td>\n",
       "   <td style=\"text-align:right;\"> 5250351 </td>\n",
       "   <td style=\"text-align:left;\"> chr11:5249957-5250351 </td>\n",
       "   <td style=\"text-align:left;\"> fcc_astarr_macs_input_overlap </td>\n",
       "   <td style=\"text-align:left;\"> fcc_crispri_hcrff_casa </td>\n",
       "   <td style=\"text-align:left;\"> CRISPRi-HCRFF </td>\n",
       "   <td style=\"text-align:left;\"> CRISPRi-HCRFF:HBG1 </td>\n",
       "   <td style=\"text-align:left;\"> chr11:5249847-5250847 </td>\n",
       "   <td style=\"text-align:right;\"> 1 </td>\n",
       "  </tr>\n",
       "  <tr>\n",
       "   <td style=\"text-align:left;\"> chr11 </td>\n",
       "   <td style=\"text-align:right;\"> 5249957 </td>\n",
       "   <td style=\"text-align:right;\"> 5250351 </td>\n",
       "   <td style=\"text-align:left;\"> chr11:5249957-5250351 </td>\n",
       "   <td style=\"text-align:left;\"> fcc_astarr_macs_input_overlap </td>\n",
       "   <td style=\"text-align:left;\"> fcc_crispri_hcrff_casa </td>\n",
       "   <td style=\"text-align:left;\"> CRISPRi-HCRFF </td>\n",
       "   <td style=\"text-align:left;\"> CRISPRi-HCRFF:HBG2 </td>\n",
       "   <td style=\"text-align:left;\"> chr11:5249847-5250847 </td>\n",
       "   <td style=\"text-align:right;\"> 1 </td>\n",
       "  </tr>\n",
       "  <tr>\n",
       "   <td style=\"text-align:left;\"> chr11 </td>\n",
       "   <td style=\"text-align:right;\"> 5254200 </td>\n",
       "   <td style=\"text-align:right;\"> 5254444 </td>\n",
       "   <td style=\"text-align:left;\"> chr11:5254200-5254444 </td>\n",
       "   <td style=\"text-align:left;\"> fcc_astarr_macs_input_overlap </td>\n",
       "   <td style=\"text-align:left;\"> fcc_crispri_hcrff_casa </td>\n",
       "   <td style=\"text-align:left;\"> CRISPRi-HCRFF </td>\n",
       "   <td style=\"text-align:left;\"> CRISPRi-HCRFF:HBG1 </td>\n",
       "   <td style=\"text-align:left;\"> chr11:5253647-5254647 </td>\n",
       "   <td style=\"text-align:right;\"> 1 </td>\n",
       "  </tr>\n",
       "</tbody>\n",
       "</table>"
      ]
     },
     "metadata": {},
     "output_type": "display_data"
    }
   ],
   "source": [
    "lst = lapply(vec_txt_folder, function(txt_folder){\n",
    "    ### set file directory\n",
    "    txt_fdiry = file.path(\n",
    "        FD_RES, \n",
    "        \"region_annotation\", \n",
    "        txt_folder,\n",
    "        \"summary\"\n",
    "    )\n",
    "    txt_fname = \"region.intersect.summary.fcc_crispri_hcrff.tsv\"\n",
    "    txt_fpath = file.path(txt_fdiry, txt_fname)\n",
    "\n",
    "    ### read table\n",
    "    dat = read_tsv(txt_fpath, show_col_types = FALSE)\n",
    "    return(dat)\n",
    "})\n",
    "names(lst) = vec_txt_folder\n",
    "\n",
    "### assign and show\n",
    "lst_dat_region_annot_fcc_crispri_hcrff = lst\n",
    "res = lapply(lst, dim)\n",
    "print(res)\n",
    "dat = lst[[1]]\n",
    "fun_display_table(head(dat, 3))"
   ]
  },
  {
   "cell_type": "code",
   "execution_count": 33,
   "id": "fa46541a-93ba-4dd7-99de-b81ef7e9b76a",
   "metadata": {},
   "outputs": [
    {
     "name": "stdout",
     "output_type": "stream",
     "text": [
      "$fcc_astarr_macs_input_overlap\n",
      "[1] 77623    10\n",
      "\n",
      "$fcc_astarr_macs_input_union\n",
      "[1] 85677    10\n",
      "\n"
     ]
    },
    {
     "data": {
      "text/html": [
       "<table>\n",
       " <thead>\n",
       "  <tr>\n",
       "   <th style=\"text-align:left;\"> Chrom </th>\n",
       "   <th style=\"text-align:right;\"> ChromStart </th>\n",
       "   <th style=\"text-align:right;\"> ChromEnd </th>\n",
       "   <th style=\"text-align:left;\"> Region </th>\n",
       "   <th style=\"text-align:left;\"> Annotation_A </th>\n",
       "   <th style=\"text-align:left;\"> Annotation_B </th>\n",
       "   <th style=\"text-align:left;\"> Group </th>\n",
       "   <th style=\"text-align:left;\"> Label </th>\n",
       "   <th style=\"text-align:left;\"> Region_Annot </th>\n",
       "   <th style=\"text-align:right;\"> Region_Count </th>\n",
       "  </tr>\n",
       " </thead>\n",
       "<tbody>\n",
       "  <tr>\n",
       "   <td style=\"text-align:left;\"> chr1 </td>\n",
       "   <td style=\"text-align:right;\"> 605104 </td>\n",
       "   <td style=\"text-align:right;\"> 605675 </td>\n",
       "   <td style=\"text-align:left;\"> chr1:605104-605675 </td>\n",
       "   <td style=\"text-align:left;\"> fcc_astarr_macs_input_overlap </td>\n",
       "   <td style=\"text-align:left;\"> fcc_crispri_growth_signif </td>\n",
       "   <td style=\"text-align:left;\"> CRISPRi-Growth </td>\n",
       "   <td style=\"text-align:left;\"> Signif </td>\n",
       "   <td style=\"text-align:left;\"> chr1:605550-605627 </td>\n",
       "   <td style=\"text-align:right;\"> 1 </td>\n",
       "  </tr>\n",
       "  <tr>\n",
       "   <td style=\"text-align:left;\"> chr1 </td>\n",
       "   <td style=\"text-align:right;\"> 605104 </td>\n",
       "   <td style=\"text-align:right;\"> 605675 </td>\n",
       "   <td style=\"text-align:left;\"> chr1:605104-605675 </td>\n",
       "   <td style=\"text-align:left;\"> fcc_astarr_macs_input_overlap </td>\n",
       "   <td style=\"text-align:left;\"> fcc_crispri_growth_total </td>\n",
       "   <td style=\"text-align:left;\"> CRISPRi-Growth </td>\n",
       "   <td style=\"text-align:left;\"> Total </td>\n",
       "   <td style=\"text-align:left;\"> chr1:605550-605627;chr1:605550-605627;chr1:605550-605627;chr1:605550-605627;chr1:605550-605627;chr1:605550-605627;chr1:605550-605627;chr1:605550-605627;chr1:605550-605627;chr1:605550-605627 </td>\n",
       "   <td style=\"text-align:right;\"> 10 </td>\n",
       "  </tr>\n",
       "  <tr>\n",
       "   <td style=\"text-align:left;\"> chr1 </td>\n",
       "   <td style=\"text-align:right;\"> 778233 </td>\n",
       "   <td style=\"text-align:right;\"> 779389 </td>\n",
       "   <td style=\"text-align:left;\"> chr1:778233-779389 </td>\n",
       "   <td style=\"text-align:left;\"> fcc_astarr_macs_input_overlap </td>\n",
       "   <td style=\"text-align:left;\"> fcc_crispri_growth_total </td>\n",
       "   <td style=\"text-align:left;\"> CRISPRi-Growth </td>\n",
       "   <td style=\"text-align:left;\"> Total </td>\n",
       "   <td style=\"text-align:left;\"> chr1:778440-779153;chr1:778440-779153;chr1:778440-779153;chr1:778440-779153;chr1:778440-779153;chr1:778440-779153;chr1:778440-779153;chr1:778440-779153;chr1:778440-779153;chr1:778440-779153 </td>\n",
       "   <td style=\"text-align:right;\"> 10 </td>\n",
       "  </tr>\n",
       "</tbody>\n",
       "</table>"
      ]
     },
     "metadata": {},
     "output_type": "display_data"
    }
   ],
   "source": [
    "lst = lapply(vec_txt_folder, function(txt_folder){\n",
    "    ### set file directory\n",
    "    txt_fdiry = file.path(\n",
    "        FD_RES, \n",
    "        \"region_annotation\", \n",
    "        txt_folder,\n",
    "        \"summary\"\n",
    "    )\n",
    "    txt_fname = \"region.intersect.summary.fcc_crispri_growth.tsv\"\n",
    "    txt_fpath = file.path(txt_fdiry, txt_fname)\n",
    "\n",
    "    ### read table\n",
    "    dat = read_tsv(txt_fpath, show_col_types = FALSE)\n",
    "    return(dat)\n",
    "})\n",
    "names(lst) = vec_txt_folder\n",
    "\n",
    "### assign and show\n",
    "lst_dat_region_annot_fcc_crispri_growth = lst\n",
    "res = lapply(lst, dim)\n",
    "print(res)\n",
    "dat = lst[[1]]\n",
    "fun_display_table(head(dat, 3))"
   ]
  },
  {
   "cell_type": "code",
   "execution_count": 34,
   "id": "f9f57021-1d86-47f5-b4f2-7eaf8be5f1c8",
   "metadata": {},
   "outputs": [
    {
     "name": "stdout",
     "output_type": "stream",
     "text": [
      "$fcc_astarr_macs_input_overlap\n",
      "[1] 3236   10\n",
      "\n",
      "$fcc_astarr_macs_input_union\n",
      "[1] 3372   10\n",
      "\n"
     ]
    },
    {
     "data": {
      "text/html": [
       "<table>\n",
       " <thead>\n",
       "  <tr>\n",
       "   <th style=\"text-align:left;\"> Chrom </th>\n",
       "   <th style=\"text-align:right;\"> ChromStart </th>\n",
       "   <th style=\"text-align:right;\"> ChromEnd </th>\n",
       "   <th style=\"text-align:left;\"> Region </th>\n",
       "   <th style=\"text-align:left;\"> Annotation_A </th>\n",
       "   <th style=\"text-align:left;\"> Annotation_B </th>\n",
       "   <th style=\"text-align:left;\"> Group </th>\n",
       "   <th style=\"text-align:left;\"> Label </th>\n",
       "   <th style=\"text-align:left;\"> Region_Annot </th>\n",
       "   <th style=\"text-align:right;\"> Region_Count </th>\n",
       "  </tr>\n",
       " </thead>\n",
       "<tbody>\n",
       "  <tr>\n",
       "   <td style=\"text-align:left;\"> chr1 </td>\n",
       "   <td style=\"text-align:right;\"> 3774056 </td>\n",
       "   <td style=\"text-align:right;\"> 3776283 </td>\n",
       "   <td style=\"text-align:left;\"> chr1:3774056-3776283 </td>\n",
       "   <td style=\"text-align:left;\"> fcc_astarr_macs_input_overlap </td>\n",
       "   <td style=\"text-align:left;\"> encode_e2g_benchmark </td>\n",
       "   <td style=\"text-align:left;\"> E2G-Benchmark </td>\n",
       "   <td style=\"text-align:left;\"> Regulated:TRUE </td>\n",
       "   <td style=\"text-align:left;\"> chr1:3774714-3775214;chr1:3774714-3775214;chr1:3774714-3775214 </td>\n",
       "   <td style=\"text-align:right;\"> 3 </td>\n",
       "  </tr>\n",
       "  <tr>\n",
       "   <td style=\"text-align:left;\"> chr1 </td>\n",
       "   <td style=\"text-align:right;\"> 3803955 </td>\n",
       "   <td style=\"text-align:right;\"> 3806146 </td>\n",
       "   <td style=\"text-align:left;\"> chr1:3803955-3806146 </td>\n",
       "   <td style=\"text-align:left;\"> fcc_astarr_macs_input_overlap </td>\n",
       "   <td style=\"text-align:left;\"> encode_e2g_benchmark </td>\n",
       "   <td style=\"text-align:left;\"> E2G-Benchmark </td>\n",
       "   <td style=\"text-align:left;\"> Regulated:FALSE </td>\n",
       "   <td style=\"text-align:left;\"> chr1:3803570-3805848;chr1:3803570-3805848 </td>\n",
       "   <td style=\"text-align:right;\"> 2 </td>\n",
       "  </tr>\n",
       "  <tr>\n",
       "   <td style=\"text-align:left;\"> chr1 </td>\n",
       "   <td style=\"text-align:right;\"> 4126841 </td>\n",
       "   <td style=\"text-align:right;\"> 4128109 </td>\n",
       "   <td style=\"text-align:left;\"> chr1:4126841-4128109 </td>\n",
       "   <td style=\"text-align:left;\"> fcc_astarr_macs_input_overlap </td>\n",
       "   <td style=\"text-align:left;\"> encode_e2g_benchmark </td>\n",
       "   <td style=\"text-align:left;\"> E2G-Benchmark </td>\n",
       "   <td style=\"text-align:left;\"> Regulated:FALSE </td>\n",
       "   <td style=\"text-align:left;\"> chr1:4126791-4127291 </td>\n",
       "   <td style=\"text-align:right;\"> 1 </td>\n",
       "  </tr>\n",
       "</tbody>\n",
       "</table>"
      ]
     },
     "metadata": {},
     "output_type": "display_data"
    }
   ],
   "source": [
    "lst = lapply(vec_txt_folder, function(txt_folder){\n",
    "    ### set file directory\n",
    "    txt_fdiry = file.path(\n",
    "        FD_RES, \n",
    "        \"region_annotation\", \n",
    "        txt_folder,\n",
    "        \"summary\"\n",
    "    )\n",
    "    txt_fname = \"region.intersect.summary.encode_e2g_benchmark.tsv\"\n",
    "    txt_fpath = file.path(txt_fdiry, txt_fname)\n",
    "\n",
    "    ### read table\n",
    "    dat = read_tsv(txt_fpath, show_col_types = FALSE)\n",
    "    return(dat)\n",
    "})\n",
    "names(lst) = vec_txt_folder\n",
    "\n",
    "### assign and show\n",
    "lst_dat_region_annot_e2g_benchmark = lst\n",
    "res = lapply(lst, dim)\n",
    "print(res)\n",
    "dat = lst[[1]]\n",
    "fun_display_table(head(dat, 3))"
   ]
  },
  {
   "cell_type": "markdown",
   "id": "969dbcdb-1d93-427e-8e17-ab0e9c0f3ccf",
   "metadata": {},
   "source": [
    "## Arrange table"
   ]
  },
  {
   "cell_type": "code",
   "execution_count": 35,
   "id": "f105c4c6-a408-4746-bd9b-77adfa767cc2",
   "metadata": {},
   "outputs": [
    {
     "name": "stdout",
     "output_type": "stream",
     "text": [
      "$fcc_astarr_macs_input_overlap\n",
      "[1] 4380   10\n",
      "\n",
      "$fcc_astarr_macs_input_union\n",
      "[1] 4907   10\n",
      "\n"
     ]
    },
    {
     "data": {
      "text/html": [
       "<table>\n",
       " <thead>\n",
       "  <tr>\n",
       "   <th style=\"text-align:left;\"> Chrom </th>\n",
       "   <th style=\"text-align:right;\"> ChromStart </th>\n",
       "   <th style=\"text-align:right;\"> ChromEnd </th>\n",
       "   <th style=\"text-align:left;\"> Region </th>\n",
       "   <th style=\"text-align:left;\"> Annotation_A </th>\n",
       "   <th style=\"text-align:left;\"> Annotation_B </th>\n",
       "   <th style=\"text-align:left;\"> Group </th>\n",
       "   <th style=\"text-align:left;\"> Label </th>\n",
       "   <th style=\"text-align:left;\"> Region_Annot </th>\n",
       "   <th style=\"text-align:right;\"> Region_Count </th>\n",
       "  </tr>\n",
       " </thead>\n",
       "<tbody>\n",
       "  <tr>\n",
       "   <td style=\"text-align:left;\"> chr1 </td>\n",
       "   <td style=\"text-align:right;\"> 605104 </td>\n",
       "   <td style=\"text-align:right;\"> 605675 </td>\n",
       "   <td style=\"text-align:left;\"> chr1:605104-605675 </td>\n",
       "   <td style=\"text-align:left;\"> fcc_astarr_macs_input_overlap </td>\n",
       "   <td style=\"text-align:left;\"> fcc_crispri_growth_signif </td>\n",
       "   <td style=\"text-align:left;\"> CRISPRi-Growth </td>\n",
       "   <td style=\"text-align:left;\"> Signif </td>\n",
       "   <td style=\"text-align:left;\"> chr1:605550-605627 </td>\n",
       "   <td style=\"text-align:right;\"> 1 </td>\n",
       "  </tr>\n",
       "  <tr>\n",
       "   <td style=\"text-align:left;\"> chr1 </td>\n",
       "   <td style=\"text-align:right;\"> 826796 </td>\n",
       "   <td style=\"text-align:right;\"> 828040 </td>\n",
       "   <td style=\"text-align:left;\"> chr1:826796-828040 </td>\n",
       "   <td style=\"text-align:left;\"> fcc_astarr_macs_input_overlap </td>\n",
       "   <td style=\"text-align:left;\"> fcc_crispri_growth_signif </td>\n",
       "   <td style=\"text-align:left;\"> CRISPRi-Growth </td>\n",
       "   <td style=\"text-align:left;\"> Signif </td>\n",
       "   <td style=\"text-align:left;\"> chr1:826642-827902 </td>\n",
       "   <td style=\"text-align:right;\"> 1 </td>\n",
       "  </tr>\n",
       "  <tr>\n",
       "   <td style=\"text-align:left;\"> chr1 </td>\n",
       "   <td style=\"text-align:right;\"> 1068587 </td>\n",
       "   <td style=\"text-align:right;\"> 1070616 </td>\n",
       "   <td style=\"text-align:left;\"> chr1:1068587-1070616 </td>\n",
       "   <td style=\"text-align:left;\"> fcc_astarr_macs_input_overlap </td>\n",
       "   <td style=\"text-align:left;\"> fcc_crispri_growth_signif </td>\n",
       "   <td style=\"text-align:left;\"> CRISPRi-Growth </td>\n",
       "   <td style=\"text-align:left;\"> Signif </td>\n",
       "   <td style=\"text-align:left;\"> chr1:1067929-1070953 </td>\n",
       "   <td style=\"text-align:right;\"> 1 </td>\n",
       "  </tr>\n",
       "</tbody>\n",
       "</table>"
      ]
     },
     "metadata": {},
     "output_type": "display_data"
    }
   ],
   "source": [
    "lst = lst_dat_region_annot_fcc_crispri_growth\n",
    "lst = lapply(lst, function(dat){\n",
    "    dat = dat %>% dplyr::filter(Label == \"Signif\")\n",
    "    return(dat)\n",
    "})\n",
    "\n",
    "### assign and show\n",
    "lst_dat_region_annot_fcc_crispri_growth_filter = lst\n",
    "res = lapply(lst, dim)\n",
    "print(res)\n",
    "dat = lst[[1]]\n",
    "fun_display_table(head(dat, 3))"
   ]
  },
  {
   "cell_type": "code",
   "execution_count": 36,
   "id": "33f30cae-c815-4da7-8584-9c770e268ed9",
   "metadata": {},
   "outputs": [
    {
     "name": "stdout",
     "output_type": "stream",
     "text": [
      "$fcc_astarr_macs_input_overlap\n",
      "[1] 360  10\n",
      "\n",
      "$fcc_astarr_macs_input_union\n",
      "[1] 362  10\n",
      "\n"
     ]
    },
    {
     "data": {
      "text/html": [
       "<table>\n",
       " <thead>\n",
       "  <tr>\n",
       "   <th style=\"text-align:left;\"> Chrom </th>\n",
       "   <th style=\"text-align:right;\"> ChromStart </th>\n",
       "   <th style=\"text-align:right;\"> ChromEnd </th>\n",
       "   <th style=\"text-align:left;\"> Region </th>\n",
       "   <th style=\"text-align:left;\"> Annotation_A </th>\n",
       "   <th style=\"text-align:left;\"> Annotation_B </th>\n",
       "   <th style=\"text-align:left;\"> Group </th>\n",
       "   <th style=\"text-align:left;\"> Label </th>\n",
       "   <th style=\"text-align:left;\"> Region_Annot </th>\n",
       "   <th style=\"text-align:right;\"> Region_Count </th>\n",
       "  </tr>\n",
       " </thead>\n",
       "<tbody>\n",
       "  <tr>\n",
       "   <td style=\"text-align:left;\"> chr1 </td>\n",
       "   <td style=\"text-align:right;\"> 3774056 </td>\n",
       "   <td style=\"text-align:right;\"> 3776283 </td>\n",
       "   <td style=\"text-align:left;\"> chr1:3774056-3776283 </td>\n",
       "   <td style=\"text-align:left;\"> fcc_astarr_macs_input_overlap </td>\n",
       "   <td style=\"text-align:left;\"> encode_e2g_benchmark </td>\n",
       "   <td style=\"text-align:left;\"> E2G-Benchmark </td>\n",
       "   <td style=\"text-align:left;\"> Regulated:TRUE </td>\n",
       "   <td style=\"text-align:left;\"> chr1:3774714-3775214;chr1:3774714-3775214;chr1:3774714-3775214 </td>\n",
       "   <td style=\"text-align:right;\"> 3 </td>\n",
       "  </tr>\n",
       "  <tr>\n",
       "   <td style=\"text-align:left;\"> chr1 </td>\n",
       "   <td style=\"text-align:right;\"> 8857787 </td>\n",
       "   <td style=\"text-align:right;\"> 8858608 </td>\n",
       "   <td style=\"text-align:left;\"> chr1:8857787-8858608 </td>\n",
       "   <td style=\"text-align:left;\"> fcc_astarr_macs_input_overlap </td>\n",
       "   <td style=\"text-align:left;\"> encode_e2g_benchmark </td>\n",
       "   <td style=\"text-align:left;\"> E2G-Benchmark </td>\n",
       "   <td style=\"text-align:left;\"> Regulated:TRUE </td>\n",
       "   <td style=\"text-align:left;\"> chr1:8858063-8858563 </td>\n",
       "   <td style=\"text-align:right;\"> 1 </td>\n",
       "  </tr>\n",
       "  <tr>\n",
       "   <td style=\"text-align:left;\"> chr1 </td>\n",
       "   <td style=\"text-align:right;\"> 25932989 </td>\n",
       "   <td style=\"text-align:right;\"> 25934187 </td>\n",
       "   <td style=\"text-align:left;\"> chr1:25932989-25934187 </td>\n",
       "   <td style=\"text-align:left;\"> fcc_astarr_macs_input_overlap </td>\n",
       "   <td style=\"text-align:left;\"> encode_e2g_benchmark </td>\n",
       "   <td style=\"text-align:left;\"> E2G-Benchmark </td>\n",
       "   <td style=\"text-align:left;\"> Regulated:TRUE </td>\n",
       "   <td style=\"text-align:left;\"> chr1:25933351-25933954;chr1:25933351-25933954 </td>\n",
       "   <td style=\"text-align:right;\"> 2 </td>\n",
       "  </tr>\n",
       "</tbody>\n",
       "</table>"
      ]
     },
     "metadata": {},
     "output_type": "display_data"
    }
   ],
   "source": [
    "lst = lst_dat_region_annot_e2g_benchmark\n",
    "lst = lapply(lst, function(dat){\n",
    "    dat = dat %>% dplyr::filter(Label == \"Regulated:TRUE\")\n",
    "    return(dat)\n",
    "})\n",
    "\n",
    "### assign and show\n",
    "lst_dat_region_annot_e2g_benchmark_filter = lst\n",
    "res = lapply(lst, dim)\n",
    "print(res)\n",
    "dat = lst[[1]]\n",
    "fun_display_table(head(dat, 3))"
   ]
  },
  {
   "cell_type": "markdown",
   "id": "a12026dd-a085-4cad-a8f9-28daa0c1ffd1",
   "metadata": {},
   "source": [
    "## Merge"
   ]
  },
  {
   "cell_type": "code",
   "execution_count": 62,
   "id": "4079e756-30e5-4fab-9b82-dac88f69ff42",
   "metadata": {},
   "outputs": [
    {
     "name": "stdout",
     "output_type": "stream",
     "text": [
      "$fcc_astarr_macs_input_overlap\n",
      "[1] 156686      6\n",
      "\n",
      "$fcc_astarr_macs_input_union\n",
      "[1] 201420      6\n",
      "\n"
     ]
    },
    {
     "data": {
      "text/html": [
       "<table>\n",
       " <thead>\n",
       "  <tr>\n",
       "   <th style=\"text-align:left;\"> Chrom </th>\n",
       "   <th style=\"text-align:right;\"> ChromStart </th>\n",
       "   <th style=\"text-align:right;\"> ChromEnd </th>\n",
       "   <th style=\"text-align:left;\"> Region </th>\n",
       "   <th style=\"text-align:left;\"> Group </th>\n",
       "   <th style=\"text-align:left;\"> Label </th>\n",
       "  </tr>\n",
       " </thead>\n",
       "<tbody>\n",
       "  <tr>\n",
       "   <td style=\"text-align:left;\"> chr1 </td>\n",
       "   <td style=\"text-align:right;\"> 10038 </td>\n",
       "   <td style=\"text-align:right;\"> 10405 </td>\n",
       "   <td style=\"text-align:left;\"> chr1:10038-10405 </td>\n",
       "   <td style=\"text-align:left;\"> ASTARR </td>\n",
       "   <td style=\"text-align:left;\"> ASTARR_R </td>\n",
       "  </tr>\n",
       "  <tr>\n",
       "   <td style=\"text-align:left;\"> chr1 </td>\n",
       "   <td style=\"text-align:right;\"> 16025 </td>\n",
       "   <td style=\"text-align:right;\"> 16338 </td>\n",
       "   <td style=\"text-align:left;\"> chr1:16025-16338 </td>\n",
       "   <td style=\"text-align:left;\"> ASTARR </td>\n",
       "   <td style=\"text-align:left;\"> ASTARR_R </td>\n",
       "  </tr>\n",
       "  <tr>\n",
       "   <td style=\"text-align:left;\"> chr1 </td>\n",
       "   <td style=\"text-align:right;\"> 17288 </td>\n",
       "   <td style=\"text-align:right;\"> 17689 </td>\n",
       "   <td style=\"text-align:left;\"> chr1:17288-17689 </td>\n",
       "   <td style=\"text-align:left;\"> ASTARR </td>\n",
       "   <td style=\"text-align:left;\"> ASTARR_R </td>\n",
       "  </tr>\n",
       "</tbody>\n",
       "</table>"
      ]
     },
     "metadata": {},
     "output_type": "display_data"
    }
   ],
   "source": [
    "lst = lapply(vec_txt_folder, function(txt_folder){\n",
    "    ###\n",
    "    dat_region_annot_fcc_starrmpra     = lst_dat_region_annot_fcc_starrmpra[[txt_folder]]\n",
    "    dat_region_annot_fcc_crispri_hcrff = lst_dat_region_annot_fcc_crispri_hcrff[[txt_folder]]\n",
    "    dat_region_annot_fcc_crispri_growth_filter = lst_dat_region_annot_fcc_crispri_growth_filter[[txt_folder]]\n",
    "    dat_region_annot_e2g_benchmark_filter      = lst_dat_region_annot_e2g_benchmark_filter[[txt_folder]]\n",
    "\n",
    "    ###\n",
    "    lst = list(\n",
    "        dat_region_annot_fcc_starrmpra,\n",
    "        dat_region_annot_fcc_crispri_hcrff,\n",
    "        dat_region_annot_fcc_crispri_growth_filter,\n",
    "        dat_region_annot_e2g_benchmark_filter\n",
    "    )\n",
    "\n",
    "    ###\n",
    "    dat = bind_rows(lst)\n",
    "    dat = dat %>% \n",
    "        dplyr::select(Chrom, ChromStart, ChromEnd, Region, Group, Label) %>% \n",
    "        dplyr::distinct()\n",
    "\n",
    "    return(dat)\n",
    "})\n",
    "\n",
    "### assign and show\n",
    "lst_dat_region_annot_fcc_peak_merge = lst\n",
    "res = lapply(lst, dim)\n",
    "print(res)\n",
    "dat = lst[[1]]\n",
    "fun_display_table(head(dat, 3))"
   ]
  },
  {
   "cell_type": "markdown",
   "id": "1623d043-d762-49bc-960b-bb868ca6e087",
   "metadata": {},
   "source": [
    "**Explore**"
   ]
  },
  {
   "cell_type": "code",
   "execution_count": 63,
   "id": "f1f16a0b-2400-4a2e-a0f7-3980841c00fe",
   "metadata": {},
   "outputs": [
    {
     "data": {
      "text/html": [
       "<table>\n",
       " <thead>\n",
       "  <tr>\n",
       "   <th style=\"text-align:left;\"> Region </th>\n",
       "   <th style=\"text-align:right;\"> ASTARR </th>\n",
       "   <th style=\"text-align:right;\"> CRISPRi-Growth </th>\n",
       "   <th style=\"text-align:right;\"> CRISPRi-HCRFF </th>\n",
       "   <th style=\"text-align:right;\"> E2G-Benchmark </th>\n",
       "   <th style=\"text-align:right;\"> LMPRA </th>\n",
       "   <th style=\"text-align:right;\"> TMPRA </th>\n",
       "   <th style=\"text-align:right;\"> WSTARR </th>\n",
       "  </tr>\n",
       " </thead>\n",
       "<tbody>\n",
       "  <tr>\n",
       "   <td style=\"text-align:left;\"> fcc_astarr_macs_input_overlap </td>\n",
       "   <td style=\"text-align:right;\"> 99884 </td>\n",
       "   <td style=\"text-align:right;\"> 4380 </td>\n",
       "   <td style=\"text-align:right;\"> 84 </td>\n",
       "   <td style=\"text-align:right;\"> 360 </td>\n",
       "   <td style=\"text-align:right;\"> 20937 </td>\n",
       "   <td style=\"text-align:right;\"> 860 </td>\n",
       "   <td style=\"text-align:right;\"> 30181 </td>\n",
       "  </tr>\n",
       "  <tr>\n",
       "   <td style=\"text-align:left;\"> fcc_astarr_macs_input_union </td>\n",
       "   <td style=\"text-align:right;\"> 133203 </td>\n",
       "   <td style=\"text-align:right;\"> 4907 </td>\n",
       "   <td style=\"text-align:right;\"> 86 </td>\n",
       "   <td style=\"text-align:right;\"> 362 </td>\n",
       "   <td style=\"text-align:right;\"> 22311 </td>\n",
       "   <td style=\"text-align:right;\"> 1127 </td>\n",
       "   <td style=\"text-align:right;\"> 39424 </td>\n",
       "  </tr>\n",
       "</tbody>\n",
       "</table>"
      ]
     },
     "metadata": {},
     "output_type": "display_data"
    }
   ],
   "source": [
    "lst = lst_dat_region_annot_fcc_peak_merge\n",
    "lst = lapply(lst, function(dat){\n",
    "    res = table(dat$Group, dnn=c(\"Group\"))\n",
    "    dat = as.data.frame(res)\n",
    "    return(dat)\n",
    "})\n",
    "\n",
    "dat = bind_rows(lst, .id = \"Region\")\n",
    "dat = dat %>% tidyr::spread(Group, Freq)\n",
    "fun_display_table(dat)"
   ]
  },
  {
   "cell_type": "markdown",
   "id": "54bd649d-1c66-47de-9106-93400b364196",
   "metadata": {},
   "source": [
    "## Save results"
   ]
  },
  {
   "cell_type": "code",
   "execution_count": 64,
   "id": "50119d3f-c9b8-4d10-9097-6d0f642642b7",
   "metadata": {},
   "outputs": [],
   "source": [
    "lst = lst_dat_region_annot_fcc_peak_merge\n",
    "for (idx in names(lst)){\n",
    "\n",
    "    ### get each table\n",
    "    dat_region_annot_result = lst_dat_region_annot_fcc_peak_merge[[idx]]\n",
    "    \n",
    "    \n",
    "    ### set file directory\n",
    "    txt_folder = idx\n",
    "    txt_fdiry = file.path(\n",
    "        FD_RES, \n",
    "        \"region_annotation\", \n",
    "        txt_folder,\n",
    "        \"summary\"\n",
    "    )\n",
    "    \n",
    "    ### set file path\n",
    "    txt_fname = \"region.annotation.fcc_starrmpracrispr.concat.tsv\"\n",
    "    #txt_fname = \"region.summary.fcc_starrmpra_junke.assayvote.tsv\"\n",
    "    txt_fpath = file.path(txt_fdiry, txt_fname)\n",
    "\n",
    "    ### write table\n",
    "    dat = dat_region_annot_result\n",
    "    write_tsv(dat, txt_fpath)\n",
    "}"
   ]
  },
  {
   "cell_type": "code",
   "execution_count": null,
   "id": "3b0e475c-07a4-4532-8338-93f674bd610d",
   "metadata": {},
   "outputs": [],
   "source": []
  },
  {
   "cell_type": "code",
   "execution_count": null,
   "id": "be1614ca-50ce-406a-997f-73b44cb7bcda",
   "metadata": {},
   "outputs": [],
   "source": []
  },
  {
   "cell_type": "code",
   "execution_count": null,
   "id": "97ef981c-ac7a-4b2c-9a34-3b0bfbf6936b",
   "metadata": {},
   "outputs": [],
   "source": []
  },
  {
   "cell_type": "code",
   "execution_count": null,
   "id": "8602c3dc-7805-449e-80d2-9945c3b0182f",
   "metadata": {},
   "outputs": [],
   "source": []
  },
  {
   "cell_type": "markdown",
   "id": "7226ce19-2e87-4a9b-b86d-bad69cb14b02",
   "metadata": {},
   "source": [
    "## Import data"
   ]
  },
  {
   "cell_type": "markdown",
   "id": "ea48e2f0-de23-4ee1-b2ad-b8a64511d9f0",
   "metadata": {},
   "source": [
    "**STARR/MPRA**"
   ]
  },
  {
   "cell_type": "code",
   "execution_count": 2,
   "id": "12224838-55c2-4d9d-ab8f-507de5ac53ef",
   "metadata": {},
   "outputs": [
    {
     "name": "stdout",
     "output_type": "stream",
     "text": [
      "[1] 151862     10\n"
     ]
    },
    {
     "data": {
      "text/html": [
       "<table>\n",
       " <thead>\n",
       "  <tr>\n",
       "   <th style=\"text-align:left;\"> Chrom </th>\n",
       "   <th style=\"text-align:right;\"> ChromStart </th>\n",
       "   <th style=\"text-align:right;\"> ChromEnd </th>\n",
       "   <th style=\"text-align:left;\"> Region </th>\n",
       "   <th style=\"text-align:left;\"> Annotation_A </th>\n",
       "   <th style=\"text-align:left;\"> Annotation_B </th>\n",
       "   <th style=\"text-align:left;\"> Group </th>\n",
       "   <th style=\"text-align:left;\"> Label </th>\n",
       "   <th style=\"text-align:left;\"> Region_Annot </th>\n",
       "   <th style=\"text-align:right;\"> Region_Count </th>\n",
       "  </tr>\n",
       " </thead>\n",
       "<tbody>\n",
       "  <tr>\n",
       "   <td style=\"text-align:left;\"> chr1 </td>\n",
       "   <td style=\"text-align:right;\"> 10038 </td>\n",
       "   <td style=\"text-align:right;\"> 10405 </td>\n",
       "   <td style=\"text-align:left;\"> chr1:10038-10405 </td>\n",
       "   <td style=\"text-align:left;\"> fcc_astarr_macs_input_overlap </td>\n",
       "   <td style=\"text-align:left;\"> fcc_starrmpra_junke_astarr </td>\n",
       "   <td style=\"text-align:left;\"> ASTARR </td>\n",
       "   <td style=\"text-align:left;\"> ASTARR_R </td>\n",
       "   <td style=\"text-align:left;\"> chr1:10010-10430 </td>\n",
       "   <td style=\"text-align:right;\"> 1 </td>\n",
       "  </tr>\n",
       "  <tr>\n",
       "   <td style=\"text-align:left;\"> chr1 </td>\n",
       "   <td style=\"text-align:right;\"> 16025 </td>\n",
       "   <td style=\"text-align:right;\"> 16338 </td>\n",
       "   <td style=\"text-align:left;\"> chr1:16025-16338 </td>\n",
       "   <td style=\"text-align:left;\"> fcc_astarr_macs_input_overlap </td>\n",
       "   <td style=\"text-align:left;\"> fcc_starrmpra_junke_astarr </td>\n",
       "   <td style=\"text-align:left;\"> ASTARR </td>\n",
       "   <td style=\"text-align:left;\"> ASTARR_R </td>\n",
       "   <td style=\"text-align:left;\"> chr1:16220-16340 </td>\n",
       "   <td style=\"text-align:right;\"> 1 </td>\n",
       "  </tr>\n",
       "  <tr>\n",
       "   <td style=\"text-align:left;\"> chr1 </td>\n",
       "   <td style=\"text-align:right;\"> 17288 </td>\n",
       "   <td style=\"text-align:right;\"> 17689 </td>\n",
       "   <td style=\"text-align:left;\"> chr1:17288-17689 </td>\n",
       "   <td style=\"text-align:left;\"> fcc_astarr_macs_input_overlap </td>\n",
       "   <td style=\"text-align:left;\"> fcc_starrmpra_junke_astarr </td>\n",
       "   <td style=\"text-align:left;\"> ASTARR </td>\n",
       "   <td style=\"text-align:left;\"> ASTARR_R </td>\n",
       "   <td style=\"text-align:left;\"> chr1:17230-17440;chr1:17610-17720 </td>\n",
       "   <td style=\"text-align:right;\"> 2 </td>\n",
       "  </tr>\n",
       "</tbody>\n",
       "</table>"
      ]
     },
     "metadata": {},
     "output_type": "display_data"
    }
   ],
   "source": [
    "txt_fdiry = file.path(\n",
    "    FD_RES, \n",
    "    \"region_annotation\", \n",
    "    \"fcc_astarr_macs_input_overlap\",\n",
    "    \"summary\"\n",
    ")\n",
    "txt_fname = \"region.annotation.fcc_starrmpra_junke.tsv\"\n",
    "txt_fpath = file.path(txt_fdiry, txt_fname)\n",
    "\n",
    "dat = read_tsv(txt_fpath, show_col_types = FALSE)\n",
    "\n",
    "dat_region_annot_fcc_starrmpra = dat\n",
    "print(dim(dat))\n",
    "fun_display_table(head(dat, 3))"
   ]
  },
  {
   "cell_type": "markdown",
   "id": "60d6a9d9-5d6b-4b88-bfdd-7015dcddfae4",
   "metadata": {},
   "source": [
    "**CRISPRi-HCRFF**"
   ]
  },
  {
   "cell_type": "code",
   "execution_count": 4,
   "id": "4be730c0-1f81-4ada-8fa5-2cf488b3e601",
   "metadata": {},
   "outputs": [
    {
     "name": "stdout",
     "output_type": "stream",
     "text": [
      "[1] 84 10\n"
     ]
    },
    {
     "data": {
      "text/html": [
       "<table>\n",
       " <thead>\n",
       "  <tr>\n",
       "   <th style=\"text-align:left;\"> Chrom </th>\n",
       "   <th style=\"text-align:right;\"> ChromStart </th>\n",
       "   <th style=\"text-align:right;\"> ChromEnd </th>\n",
       "   <th style=\"text-align:left;\"> Region </th>\n",
       "   <th style=\"text-align:left;\"> Annotation_A </th>\n",
       "   <th style=\"text-align:left;\"> Annotation_B </th>\n",
       "   <th style=\"text-align:left;\"> Group </th>\n",
       "   <th style=\"text-align:left;\"> Label </th>\n",
       "   <th style=\"text-align:left;\"> Region_Annot </th>\n",
       "   <th style=\"text-align:right;\"> Region_Count </th>\n",
       "  </tr>\n",
       " </thead>\n",
       "<tbody>\n",
       "  <tr>\n",
       "   <td style=\"text-align:left;\"> chr11 </td>\n",
       "   <td style=\"text-align:right;\"> 5249957 </td>\n",
       "   <td style=\"text-align:right;\"> 5250351 </td>\n",
       "   <td style=\"text-align:left;\"> chr11:5249957-5250351 </td>\n",
       "   <td style=\"text-align:left;\"> fcc_astarr_macs_input_overlap </td>\n",
       "   <td style=\"text-align:left;\"> fcc_crispri_hcrff_casa </td>\n",
       "   <td style=\"text-align:left;\"> CRISPRi-HCRFF </td>\n",
       "   <td style=\"text-align:left;\"> CRISPRi-HCRFF:HBG1 </td>\n",
       "   <td style=\"text-align:left;\"> chr11:5249847-5250847 </td>\n",
       "   <td style=\"text-align:right;\"> 1 </td>\n",
       "  </tr>\n",
       "  <tr>\n",
       "   <td style=\"text-align:left;\"> chr11 </td>\n",
       "   <td style=\"text-align:right;\"> 5249957 </td>\n",
       "   <td style=\"text-align:right;\"> 5250351 </td>\n",
       "   <td style=\"text-align:left;\"> chr11:5249957-5250351 </td>\n",
       "   <td style=\"text-align:left;\"> fcc_astarr_macs_input_overlap </td>\n",
       "   <td style=\"text-align:left;\"> fcc_crispri_hcrff_casa </td>\n",
       "   <td style=\"text-align:left;\"> CRISPRi-HCRFF </td>\n",
       "   <td style=\"text-align:left;\"> CRISPRi-HCRFF:HBG2 </td>\n",
       "   <td style=\"text-align:left;\"> chr11:5249847-5250847 </td>\n",
       "   <td style=\"text-align:right;\"> 1 </td>\n",
       "  </tr>\n",
       "  <tr>\n",
       "   <td style=\"text-align:left;\"> chr11 </td>\n",
       "   <td style=\"text-align:right;\"> 5254200 </td>\n",
       "   <td style=\"text-align:right;\"> 5254444 </td>\n",
       "   <td style=\"text-align:left;\"> chr11:5254200-5254444 </td>\n",
       "   <td style=\"text-align:left;\"> fcc_astarr_macs_input_overlap </td>\n",
       "   <td style=\"text-align:left;\"> fcc_crispri_hcrff_casa </td>\n",
       "   <td style=\"text-align:left;\"> CRISPRi-HCRFF </td>\n",
       "   <td style=\"text-align:left;\"> CRISPRi-HCRFF:HBG1 </td>\n",
       "   <td style=\"text-align:left;\"> chr11:5253647-5254647 </td>\n",
       "   <td style=\"text-align:right;\"> 1 </td>\n",
       "  </tr>\n",
       "</tbody>\n",
       "</table>"
      ]
     },
     "metadata": {},
     "output_type": "display_data"
    }
   ],
   "source": [
    "txt_fdiry = file.path(\n",
    "    FD_RES, \n",
    "    \"region_annotation\", \n",
    "    \"fcc_astarr_macs_input_overlap\",\n",
    "    \"summary\"\n",
    ")\n",
    "txt_fname = \"region.intersect.summary.fcc_crispri_hcrff.tsv\"\n",
    "txt_fpath = file.path(txt_fdiry, txt_fname)\n",
    "\n",
    "dat = read_tsv(txt_fpath, show_col_types = FALSE)\n",
    "\n",
    "dat_region_annot_fcc_crispri_hcrff = dat\n",
    "print(dim(dat))\n",
    "fun_display_table(head(dat, 3))"
   ]
  },
  {
   "cell_type": "markdown",
   "id": "df67fe2a-db4c-48ea-8e97-b60f7cdc8dd0",
   "metadata": {},
   "source": [
    "**CRISPRi-Growth**"
   ]
  },
  {
   "cell_type": "code",
   "execution_count": 5,
   "id": "7ff10930-fc35-4959-aca2-010bd27f0ecd",
   "metadata": {},
   "outputs": [
    {
     "name": "stdout",
     "output_type": "stream",
     "text": [
      "[1] 77623    10\n"
     ]
    },
    {
     "data": {
      "text/html": [
       "<table>\n",
       " <thead>\n",
       "  <tr>\n",
       "   <th style=\"text-align:left;\"> Chrom </th>\n",
       "   <th style=\"text-align:right;\"> ChromStart </th>\n",
       "   <th style=\"text-align:right;\"> ChromEnd </th>\n",
       "   <th style=\"text-align:left;\"> Region </th>\n",
       "   <th style=\"text-align:left;\"> Annotation_A </th>\n",
       "   <th style=\"text-align:left;\"> Annotation_B </th>\n",
       "   <th style=\"text-align:left;\"> Group </th>\n",
       "   <th style=\"text-align:left;\"> Label </th>\n",
       "   <th style=\"text-align:left;\"> Region_Annot </th>\n",
       "   <th style=\"text-align:right;\"> Region_Count </th>\n",
       "  </tr>\n",
       " </thead>\n",
       "<tbody>\n",
       "  <tr>\n",
       "   <td style=\"text-align:left;\"> chr1 </td>\n",
       "   <td style=\"text-align:right;\"> 605104 </td>\n",
       "   <td style=\"text-align:right;\"> 605675 </td>\n",
       "   <td style=\"text-align:left;\"> chr1:605104-605675 </td>\n",
       "   <td style=\"text-align:left;\"> fcc_astarr_macs_input_overlap </td>\n",
       "   <td style=\"text-align:left;\"> fcc_crispri_growth_signif </td>\n",
       "   <td style=\"text-align:left;\"> CRISPRi-Growth </td>\n",
       "   <td style=\"text-align:left;\"> Signif </td>\n",
       "   <td style=\"text-align:left;\"> chr1:605550-605627 </td>\n",
       "   <td style=\"text-align:right;\"> 1 </td>\n",
       "  </tr>\n",
       "  <tr>\n",
       "   <td style=\"text-align:left;\"> chr1 </td>\n",
       "   <td style=\"text-align:right;\"> 605104 </td>\n",
       "   <td style=\"text-align:right;\"> 605675 </td>\n",
       "   <td style=\"text-align:left;\"> chr1:605104-605675 </td>\n",
       "   <td style=\"text-align:left;\"> fcc_astarr_macs_input_overlap </td>\n",
       "   <td style=\"text-align:left;\"> fcc_crispri_growth_total </td>\n",
       "   <td style=\"text-align:left;\"> CRISPRi-Growth </td>\n",
       "   <td style=\"text-align:left;\"> Total </td>\n",
       "   <td style=\"text-align:left;\"> chr1:605550-605627;chr1:605550-605627;chr1:605550-605627;chr1:605550-605627;chr1:605550-605627;chr1:605550-605627;chr1:605550-605627;chr1:605550-605627;chr1:605550-605627;chr1:605550-605627 </td>\n",
       "   <td style=\"text-align:right;\"> 10 </td>\n",
       "  </tr>\n",
       "  <tr>\n",
       "   <td style=\"text-align:left;\"> chr1 </td>\n",
       "   <td style=\"text-align:right;\"> 778233 </td>\n",
       "   <td style=\"text-align:right;\"> 779389 </td>\n",
       "   <td style=\"text-align:left;\"> chr1:778233-779389 </td>\n",
       "   <td style=\"text-align:left;\"> fcc_astarr_macs_input_overlap </td>\n",
       "   <td style=\"text-align:left;\"> fcc_crispri_growth_total </td>\n",
       "   <td style=\"text-align:left;\"> CRISPRi-Growth </td>\n",
       "   <td style=\"text-align:left;\"> Total </td>\n",
       "   <td style=\"text-align:left;\"> chr1:778440-779153;chr1:778440-779153;chr1:778440-779153;chr1:778440-779153;chr1:778440-779153;chr1:778440-779153;chr1:778440-779153;chr1:778440-779153;chr1:778440-779153;chr1:778440-779153 </td>\n",
       "   <td style=\"text-align:right;\"> 10 </td>\n",
       "  </tr>\n",
       "</tbody>\n",
       "</table>"
      ]
     },
     "metadata": {},
     "output_type": "display_data"
    }
   ],
   "source": [
    "txt_fdiry = file.path(\n",
    "    FD_RES, \n",
    "    \"region_annotation\", \n",
    "    \"fcc_astarr_macs_input_overlap\",\n",
    "    \"summary\"\n",
    ")\n",
    "txt_fname = \"region.intersect.summary.fcc_crispri_growth.tsv\"\n",
    "txt_fpath = file.path(txt_fdiry, txt_fname)\n",
    "\n",
    "dat = read_tsv(txt_fpath, show_col_types = FALSE)\n",
    "\n",
    "dat_region_annot_fcc_crispri_growth = dat       \n",
    "print(dim(dat))\n",
    "fun_display_table(head(dat, 3))"
   ]
  },
  {
   "cell_type": "markdown",
   "id": "d45d2559-8f8b-4024-826f-38ae07006270",
   "metadata": {},
   "source": [
    "**CRISPR-E2G**"
   ]
  },
  {
   "cell_type": "code",
   "execution_count": 6,
   "id": "e52b10a5-5f22-4b7e-bf6b-f8f9e3edba6c",
   "metadata": {},
   "outputs": [
    {
     "name": "stdout",
     "output_type": "stream",
     "text": [
      "[1] 8770   11\n"
     ]
    },
    {
     "data": {
      "text/html": [
       "<table>\n",
       " <thead>\n",
       "  <tr>\n",
       "   <th style=\"text-align:left;\"> Chrom </th>\n",
       "   <th style=\"text-align:right;\"> ChromStart </th>\n",
       "   <th style=\"text-align:right;\"> ChromEnd </th>\n",
       "   <th style=\"text-align:left;\"> Region </th>\n",
       "   <th style=\"text-align:left;\"> Group </th>\n",
       "   <th style=\"text-align:left;\"> Label </th>\n",
       "   <th style=\"text-align:left;\"> Target </th>\n",
       "   <th style=\"text-align:right;\"> Score </th>\n",
       "   <th style=\"text-align:right;\"> NLog10P </th>\n",
       "   <th style=\"text-align:left;\"> Regulated </th>\n",
       "   <th style=\"text-align:left;\"> Source </th>\n",
       "  </tr>\n",
       " </thead>\n",
       "<tbody>\n",
       "  <tr>\n",
       "   <td style=\"text-align:left;\"> chr1 </td>\n",
       "   <td style=\"text-align:right;\"> 3774056 </td>\n",
       "   <td style=\"text-align:right;\"> 3776283 </td>\n",
       "   <td style=\"text-align:left;\"> chr1:3774056-3776283 </td>\n",
       "   <td style=\"text-align:left;\"> CRISPR-E2G </td>\n",
       "   <td style=\"text-align:left;\"> Regulated:TRUE </td>\n",
       "   <td style=\"text-align:left;\"> CEP104 </td>\n",
       "   <td style=\"text-align:right;\"> -0.2934319 </td>\n",
       "   <td style=\"text-align:right;\"> 2.395344 </td>\n",
       "   <td style=\"text-align:left;\"> TRUE </td>\n",
       "   <td style=\"text-align:left;\"> Ulirsch2016 </td>\n",
       "  </tr>\n",
       "  <tr>\n",
       "   <td style=\"text-align:left;\"> chr1 </td>\n",
       "   <td style=\"text-align:right;\"> 3774056 </td>\n",
       "   <td style=\"text-align:right;\"> 3776283 </td>\n",
       "   <td style=\"text-align:left;\"> chr1:3774056-3776283 </td>\n",
       "   <td style=\"text-align:left;\"> CRISPR-E2G </td>\n",
       "   <td style=\"text-align:left;\"> Regulated:TRUE </td>\n",
       "   <td style=\"text-align:left;\"> LRRC47 </td>\n",
       "   <td style=\"text-align:right;\"> -0.3311781 </td>\n",
       "   <td style=\"text-align:right;\"> 2.109514 </td>\n",
       "   <td style=\"text-align:left;\"> TRUE </td>\n",
       "   <td style=\"text-align:left;\"> Ulirsch2016 </td>\n",
       "  </tr>\n",
       "  <tr>\n",
       "   <td style=\"text-align:left;\"> chr1 </td>\n",
       "   <td style=\"text-align:right;\"> 3774056 </td>\n",
       "   <td style=\"text-align:right;\"> 3776283 </td>\n",
       "   <td style=\"text-align:left;\"> chr1:3774056-3776283 </td>\n",
       "   <td style=\"text-align:left;\"> CRISPR-E2G </td>\n",
       "   <td style=\"text-align:left;\"> Regulated:TRUE </td>\n",
       "   <td style=\"text-align:left;\"> SMIM1 </td>\n",
       "   <td style=\"text-align:right;\"> -0.4720192 </td>\n",
       "   <td style=\"text-align:right;\"> 3.192703 </td>\n",
       "   <td style=\"text-align:left;\"> TRUE </td>\n",
       "   <td style=\"text-align:left;\"> Ulirsch2016 </td>\n",
       "  </tr>\n",
       "</tbody>\n",
       "</table>"
      ]
     },
     "metadata": {},
     "output_type": "display_data"
    }
   ],
   "source": [
    "txt_fdiry = file.path(\n",
    "    FD_RES, \n",
    "    \"region_annotation\", \n",
    "    \"fcc_astarr_macs_input_overlap\",\n",
    "    \"summary\"\n",
    ")\n",
    "txt_fname = \"region.annotation.encode_e2g_benchmark.tsv\"\n",
    "txt_fpath = file.path(txt_fdiry, txt_fname)\n",
    "\n",
    "dat = read_tsv(txt_fpath, show_col_types = FALSE)\n",
    "dat$Group = \"CRISPR-E2G\"\n",
    "dat_region_annot_e2g_benchmark = dat\n",
    "print(dim(dat))\n",
    "fun_display_table(head(dat, 3))"
   ]
  },
  {
   "cell_type": "markdown",
   "id": "94eb3630-4437-4301-9b8d-187ae1d85678",
   "metadata": {},
   "source": [
    "## Arrange table"
   ]
  },
  {
   "cell_type": "code",
   "execution_count": 19,
   "id": "654d10d0-cde5-4fd7-8bf8-901dda88c586",
   "metadata": {},
   "outputs": [
    {
     "name": "stdout",
     "output_type": "stream",
     "text": [
      "\n",
      "ASTARR_A ASTARR_R  LMPRA_A  LMPRA_R  TMPRA_A  TMPRA_R WSTARR_A WSTARR_R \n",
      "   26161    73723    20692      245      847       13    26992     3189 \n"
     ]
    },
    {
     "data": {
      "text/html": [
       "<table>\n",
       " <thead>\n",
       "  <tr>\n",
       "   <th style=\"text-align:left;\"> Chrom </th>\n",
       "   <th style=\"text-align:right;\"> ChromStart </th>\n",
       "   <th style=\"text-align:right;\"> ChromEnd </th>\n",
       "   <th style=\"text-align:left;\"> Region </th>\n",
       "   <th style=\"text-align:left;\"> Annotation_A </th>\n",
       "   <th style=\"text-align:left;\"> Annotation_B </th>\n",
       "   <th style=\"text-align:left;\"> Group </th>\n",
       "   <th style=\"text-align:left;\"> Label </th>\n",
       "   <th style=\"text-align:left;\"> Region_Annot </th>\n",
       "   <th style=\"text-align:right;\"> Region_Count </th>\n",
       "  </tr>\n",
       " </thead>\n",
       "<tbody>\n",
       "  <tr>\n",
       "   <td style=\"text-align:left;\"> chr1 </td>\n",
       "   <td style=\"text-align:right;\"> 10038 </td>\n",
       "   <td style=\"text-align:right;\"> 10405 </td>\n",
       "   <td style=\"text-align:left;\"> chr1:10038-10405 </td>\n",
       "   <td style=\"text-align:left;\"> fcc_astarr_macs_input_overlap </td>\n",
       "   <td style=\"text-align:left;\"> fcc_starrmpra_junke_astarr </td>\n",
       "   <td style=\"text-align:left;\"> ASTARR </td>\n",
       "   <td style=\"text-align:left;\"> ASTARR_R </td>\n",
       "   <td style=\"text-align:left;\"> chr1:10010-10430 </td>\n",
       "   <td style=\"text-align:right;\"> 1 </td>\n",
       "  </tr>\n",
       "  <tr>\n",
       "   <td style=\"text-align:left;\"> chr1 </td>\n",
       "   <td style=\"text-align:right;\"> 16025 </td>\n",
       "   <td style=\"text-align:right;\"> 16338 </td>\n",
       "   <td style=\"text-align:left;\"> chr1:16025-16338 </td>\n",
       "   <td style=\"text-align:left;\"> fcc_astarr_macs_input_overlap </td>\n",
       "   <td style=\"text-align:left;\"> fcc_starrmpra_junke_astarr </td>\n",
       "   <td style=\"text-align:left;\"> ASTARR </td>\n",
       "   <td style=\"text-align:left;\"> ASTARR_R </td>\n",
       "   <td style=\"text-align:left;\"> chr1:16220-16340 </td>\n",
       "   <td style=\"text-align:right;\"> 1 </td>\n",
       "  </tr>\n",
       "  <tr>\n",
       "   <td style=\"text-align:left;\"> chr1 </td>\n",
       "   <td style=\"text-align:right;\"> 17288 </td>\n",
       "   <td style=\"text-align:right;\"> 17689 </td>\n",
       "   <td style=\"text-align:left;\"> chr1:17288-17689 </td>\n",
       "   <td style=\"text-align:left;\"> fcc_astarr_macs_input_overlap </td>\n",
       "   <td style=\"text-align:left;\"> fcc_starrmpra_junke_astarr </td>\n",
       "   <td style=\"text-align:left;\"> ASTARR </td>\n",
       "   <td style=\"text-align:left;\"> ASTARR_R </td>\n",
       "   <td style=\"text-align:left;\"> chr1:17230-17440;chr1:17610-17720 </td>\n",
       "   <td style=\"text-align:right;\"> 2 </td>\n",
       "  </tr>\n",
       "</tbody>\n",
       "</table>"
      ]
     },
     "metadata": {},
     "output_type": "display_data"
    }
   ],
   "source": [
    "dat = dat_region_annot_fcc_starrmpra\n",
    "res = table(dat$Label)\n",
    "print(res)\n",
    "fun_display_table(head(dat, 3))"
   ]
  },
  {
   "cell_type": "code",
   "execution_count": 20,
   "id": "131fa21f-cd1a-4f6c-8f49-5e115a843c48",
   "metadata": {},
   "outputs": [
    {
     "name": "stdout",
     "output_type": "stream",
     "text": [
      "\n",
      "CRISPRi-HCRFF:CAPRIN1     CRISPRi-HCRFF:CAT   CRISPRi-HCRFF:CD164 \n",
      "                    2                     2                     4 \n",
      "  CRISPRi-HCRFF:ERP29   CRISPRi-HCRFF:FADS1   CRISPRi-HCRFF:FADS2 \n",
      "                    3                     4                     3 \n",
      "  CRISPRi-HCRFF:FADS3    CRISPRi-HCRFF:FEN1   CRISPRi-HCRFF:GATA1 \n",
      "                    5                     1                     3 \n",
      "   CRISPRi-HCRFF:HBE1    CRISPRi-HCRFF:HBG1    CRISPRi-HCRFF:HBG2 \n",
      "                    7                     8                     8 \n",
      "  CRISPRi-HCRFF:HBS1L   CRISPRi-HCRFF:HDAC6    CRISPRi-HCRFF:LMO2 \n",
      "                    1                     2                     6 \n",
      "  CRISPRi-HCRFF:MEF2C     CRISPRi-HCRFF:MYB     CRISPRi-HCRFF:MYC \n",
      "                    3                     2                     5 \n",
      "    CRISPRi-HCRFF:NMU    CRISPRi-HCRFF:PVT1 \n",
      "                    7                     8 \n"
     ]
    },
    {
     "data": {
      "text/html": [
       "<table>\n",
       " <thead>\n",
       "  <tr>\n",
       "   <th style=\"text-align:left;\"> Chrom </th>\n",
       "   <th style=\"text-align:right;\"> ChromStart </th>\n",
       "   <th style=\"text-align:right;\"> ChromEnd </th>\n",
       "   <th style=\"text-align:left;\"> Region </th>\n",
       "   <th style=\"text-align:left;\"> Annotation_A </th>\n",
       "   <th style=\"text-align:left;\"> Annotation_B </th>\n",
       "   <th style=\"text-align:left;\"> Group </th>\n",
       "   <th style=\"text-align:left;\"> Label </th>\n",
       "   <th style=\"text-align:left;\"> Region_Annot </th>\n",
       "   <th style=\"text-align:right;\"> Region_Count </th>\n",
       "  </tr>\n",
       " </thead>\n",
       "<tbody>\n",
       "  <tr>\n",
       "   <td style=\"text-align:left;\"> chr11 </td>\n",
       "   <td style=\"text-align:right;\"> 5249957 </td>\n",
       "   <td style=\"text-align:right;\"> 5250351 </td>\n",
       "   <td style=\"text-align:left;\"> chr11:5249957-5250351 </td>\n",
       "   <td style=\"text-align:left;\"> fcc_astarr_macs_input_overlap </td>\n",
       "   <td style=\"text-align:left;\"> fcc_crispri_hcrff_casa </td>\n",
       "   <td style=\"text-align:left;\"> CRISPRi-HCRFF </td>\n",
       "   <td style=\"text-align:left;\"> CRISPRi-HCRFF:HBG1 </td>\n",
       "   <td style=\"text-align:left;\"> chr11:5249847-5250847 </td>\n",
       "   <td style=\"text-align:right;\"> 1 </td>\n",
       "  </tr>\n",
       "  <tr>\n",
       "   <td style=\"text-align:left;\"> chr11 </td>\n",
       "   <td style=\"text-align:right;\"> 5249957 </td>\n",
       "   <td style=\"text-align:right;\"> 5250351 </td>\n",
       "   <td style=\"text-align:left;\"> chr11:5249957-5250351 </td>\n",
       "   <td style=\"text-align:left;\"> fcc_astarr_macs_input_overlap </td>\n",
       "   <td style=\"text-align:left;\"> fcc_crispri_hcrff_casa </td>\n",
       "   <td style=\"text-align:left;\"> CRISPRi-HCRFF </td>\n",
       "   <td style=\"text-align:left;\"> CRISPRi-HCRFF:HBG2 </td>\n",
       "   <td style=\"text-align:left;\"> chr11:5249847-5250847 </td>\n",
       "   <td style=\"text-align:right;\"> 1 </td>\n",
       "  </tr>\n",
       "  <tr>\n",
       "   <td style=\"text-align:left;\"> chr11 </td>\n",
       "   <td style=\"text-align:right;\"> 5254200 </td>\n",
       "   <td style=\"text-align:right;\"> 5254444 </td>\n",
       "   <td style=\"text-align:left;\"> chr11:5254200-5254444 </td>\n",
       "   <td style=\"text-align:left;\"> fcc_astarr_macs_input_overlap </td>\n",
       "   <td style=\"text-align:left;\"> fcc_crispri_hcrff_casa </td>\n",
       "   <td style=\"text-align:left;\"> CRISPRi-HCRFF </td>\n",
       "   <td style=\"text-align:left;\"> CRISPRi-HCRFF:HBG1 </td>\n",
       "   <td style=\"text-align:left;\"> chr11:5253647-5254647 </td>\n",
       "   <td style=\"text-align:right;\"> 1 </td>\n",
       "  </tr>\n",
       "</tbody>\n",
       "</table>"
      ]
     },
     "metadata": {},
     "output_type": "display_data"
    }
   ],
   "source": [
    "dat = dat_region_annot_fcc_crispri_hcrff\n",
    "res = table(dat$Label)\n",
    "print(res)\n",
    "fun_display_table(head(dat, 3))"
   ]
  },
  {
   "cell_type": "code",
   "execution_count": 21,
   "id": "eeec0584-a264-466c-a507-6ebda1653738",
   "metadata": {},
   "outputs": [
    {
     "name": "stdout",
     "output_type": "stream",
     "text": [
      "\n",
      "Signif  Total \n",
      "  4380  73243 \n"
     ]
    },
    {
     "data": {
      "text/html": [
       "<table>\n",
       " <thead>\n",
       "  <tr>\n",
       "   <th style=\"text-align:left;\"> Chrom </th>\n",
       "   <th style=\"text-align:right;\"> ChromStart </th>\n",
       "   <th style=\"text-align:right;\"> ChromEnd </th>\n",
       "   <th style=\"text-align:left;\"> Region </th>\n",
       "   <th style=\"text-align:left;\"> Annotation_A </th>\n",
       "   <th style=\"text-align:left;\"> Annotation_B </th>\n",
       "   <th style=\"text-align:left;\"> Group </th>\n",
       "   <th style=\"text-align:left;\"> Label </th>\n",
       "   <th style=\"text-align:left;\"> Region_Annot </th>\n",
       "   <th style=\"text-align:right;\"> Region_Count </th>\n",
       "  </tr>\n",
       " </thead>\n",
       "<tbody>\n",
       "  <tr>\n",
       "   <td style=\"text-align:left;\"> chr1 </td>\n",
       "   <td style=\"text-align:right;\"> 605104 </td>\n",
       "   <td style=\"text-align:right;\"> 605675 </td>\n",
       "   <td style=\"text-align:left;\"> chr1:605104-605675 </td>\n",
       "   <td style=\"text-align:left;\"> fcc_astarr_macs_input_overlap </td>\n",
       "   <td style=\"text-align:left;\"> fcc_crispri_growth_signif </td>\n",
       "   <td style=\"text-align:left;\"> CRISPRi-Growth </td>\n",
       "   <td style=\"text-align:left;\"> Signif </td>\n",
       "   <td style=\"text-align:left;\"> chr1:605550-605627 </td>\n",
       "   <td style=\"text-align:right;\"> 1 </td>\n",
       "  </tr>\n",
       "  <tr>\n",
       "   <td style=\"text-align:left;\"> chr1 </td>\n",
       "   <td style=\"text-align:right;\"> 605104 </td>\n",
       "   <td style=\"text-align:right;\"> 605675 </td>\n",
       "   <td style=\"text-align:left;\"> chr1:605104-605675 </td>\n",
       "   <td style=\"text-align:left;\"> fcc_astarr_macs_input_overlap </td>\n",
       "   <td style=\"text-align:left;\"> fcc_crispri_growth_total </td>\n",
       "   <td style=\"text-align:left;\"> CRISPRi-Growth </td>\n",
       "   <td style=\"text-align:left;\"> Total </td>\n",
       "   <td style=\"text-align:left;\"> chr1:605550-605627;chr1:605550-605627;chr1:605550-605627;chr1:605550-605627;chr1:605550-605627;chr1:605550-605627;chr1:605550-605627;chr1:605550-605627;chr1:605550-605627;chr1:605550-605627 </td>\n",
       "   <td style=\"text-align:right;\"> 10 </td>\n",
       "  </tr>\n",
       "  <tr>\n",
       "   <td style=\"text-align:left;\"> chr1 </td>\n",
       "   <td style=\"text-align:right;\"> 778233 </td>\n",
       "   <td style=\"text-align:right;\"> 779389 </td>\n",
       "   <td style=\"text-align:left;\"> chr1:778233-779389 </td>\n",
       "   <td style=\"text-align:left;\"> fcc_astarr_macs_input_overlap </td>\n",
       "   <td style=\"text-align:left;\"> fcc_crispri_growth_total </td>\n",
       "   <td style=\"text-align:left;\"> CRISPRi-Growth </td>\n",
       "   <td style=\"text-align:left;\"> Total </td>\n",
       "   <td style=\"text-align:left;\"> chr1:778440-779153;chr1:778440-779153;chr1:778440-779153;chr1:778440-779153;chr1:778440-779153;chr1:778440-779153;chr1:778440-779153;chr1:778440-779153;chr1:778440-779153;chr1:778440-779153 </td>\n",
       "   <td style=\"text-align:right;\"> 10 </td>\n",
       "  </tr>\n",
       "</tbody>\n",
       "</table>"
      ]
     },
     "metadata": {},
     "output_type": "display_data"
    }
   ],
   "source": [
    "dat = dat_region_annot_fcc_crispri_growth\n",
    "res = table(dat$Label)\n",
    "print(res)\n",
    "fun_display_table(head(dat, 3))"
   ]
  },
  {
   "cell_type": "code",
   "execution_count": 22,
   "id": "362bb997-4f73-4da3-aaa7-e311069a041d",
   "metadata": {},
   "outputs": [
    {
     "name": "stdout",
     "output_type": "stream",
     "text": [
      "[1] 4380   10\n",
      "[1] 4380\n"
     ]
    }
   ],
   "source": [
    "dat = dat_region_annot_fcc_crispri_growth\n",
    "dat = dat %>% dplyr::filter(Label == \"Signif\")\n",
    "vec = unique(dat$Region)\n",
    "\n",
    "dat_region_annot_fcc_crispri_growth_arrange = dat\n",
    "print(dim(dat))\n",
    "print(length(vec))"
   ]
  },
  {
   "cell_type": "code",
   "execution_count": 23,
   "id": "0e234a8d-17bc-4ce2-8409-7a4d7ac3f668",
   "metadata": {},
   "outputs": [
    {
     "name": "stdout",
     "output_type": "stream",
     "text": [
      "\n",
      "Regulated:FALSE  Regulated:TRUE \n",
      "           8323             447 \n"
     ]
    },
    {
     "data": {
      "text/html": [
       "<table>\n",
       " <thead>\n",
       "  <tr>\n",
       "   <th style=\"text-align:left;\"> Chrom </th>\n",
       "   <th style=\"text-align:right;\"> ChromStart </th>\n",
       "   <th style=\"text-align:right;\"> ChromEnd </th>\n",
       "   <th style=\"text-align:left;\"> Region </th>\n",
       "   <th style=\"text-align:left;\"> Group </th>\n",
       "   <th style=\"text-align:left;\"> Label </th>\n",
       "   <th style=\"text-align:left;\"> Target </th>\n",
       "   <th style=\"text-align:right;\"> Score </th>\n",
       "   <th style=\"text-align:right;\"> NLog10P </th>\n",
       "   <th style=\"text-align:left;\"> Regulated </th>\n",
       "   <th style=\"text-align:left;\"> Source </th>\n",
       "  </tr>\n",
       " </thead>\n",
       "<tbody>\n",
       "  <tr>\n",
       "   <td style=\"text-align:left;\"> chr1 </td>\n",
       "   <td style=\"text-align:right;\"> 3774056 </td>\n",
       "   <td style=\"text-align:right;\"> 3776283 </td>\n",
       "   <td style=\"text-align:left;\"> chr1:3774056-3776283 </td>\n",
       "   <td style=\"text-align:left;\"> CRISPR-E2G </td>\n",
       "   <td style=\"text-align:left;\"> Regulated:TRUE </td>\n",
       "   <td style=\"text-align:left;\"> CEP104 </td>\n",
       "   <td style=\"text-align:right;\"> -0.2934319 </td>\n",
       "   <td style=\"text-align:right;\"> 2.395344 </td>\n",
       "   <td style=\"text-align:left;\"> TRUE </td>\n",
       "   <td style=\"text-align:left;\"> Ulirsch2016 </td>\n",
       "  </tr>\n",
       "  <tr>\n",
       "   <td style=\"text-align:left;\"> chr1 </td>\n",
       "   <td style=\"text-align:right;\"> 3774056 </td>\n",
       "   <td style=\"text-align:right;\"> 3776283 </td>\n",
       "   <td style=\"text-align:left;\"> chr1:3774056-3776283 </td>\n",
       "   <td style=\"text-align:left;\"> CRISPR-E2G </td>\n",
       "   <td style=\"text-align:left;\"> Regulated:TRUE </td>\n",
       "   <td style=\"text-align:left;\"> LRRC47 </td>\n",
       "   <td style=\"text-align:right;\"> -0.3311781 </td>\n",
       "   <td style=\"text-align:right;\"> 2.109514 </td>\n",
       "   <td style=\"text-align:left;\"> TRUE </td>\n",
       "   <td style=\"text-align:left;\"> Ulirsch2016 </td>\n",
       "  </tr>\n",
       "  <tr>\n",
       "   <td style=\"text-align:left;\"> chr1 </td>\n",
       "   <td style=\"text-align:right;\"> 3774056 </td>\n",
       "   <td style=\"text-align:right;\"> 3776283 </td>\n",
       "   <td style=\"text-align:left;\"> chr1:3774056-3776283 </td>\n",
       "   <td style=\"text-align:left;\"> CRISPR-E2G </td>\n",
       "   <td style=\"text-align:left;\"> Regulated:TRUE </td>\n",
       "   <td style=\"text-align:left;\"> SMIM1 </td>\n",
       "   <td style=\"text-align:right;\"> -0.4720192 </td>\n",
       "   <td style=\"text-align:right;\"> 3.192703 </td>\n",
       "   <td style=\"text-align:left;\"> TRUE </td>\n",
       "   <td style=\"text-align:left;\"> Ulirsch2016 </td>\n",
       "  </tr>\n",
       "</tbody>\n",
       "</table>"
      ]
     },
     "metadata": {},
     "output_type": "display_data"
    }
   ],
   "source": [
    "dat = dat_region_annot_e2g_benchmark\n",
    "res = table(dat$Label)\n",
    "print(res)\n",
    "fun_display_table(head(dat, 3))"
   ]
  },
  {
   "cell_type": "code",
   "execution_count": 24,
   "id": "0b30503e-63b9-4b05-b6ff-d758f36f7a93",
   "metadata": {},
   "outputs": [
    {
     "name": "stdout",
     "output_type": "stream",
     "text": [
      "[1] 447  11\n",
      "[1] 360\n"
     ]
    }
   ],
   "source": [
    "dat = dat_region_annot_e2g_benchmark\n",
    "dat = dat %>% dplyr::filter(Regulated)\n",
    "vec = unique(dat$Region)\n",
    "\n",
    "dat_region_annot_e2g_benchmark_arrange = dat\n",
    "print(dim(dat))\n",
    "print(length(vec))"
   ]
  },
  {
   "cell_type": "markdown",
   "id": "9d3a983d-7ec0-4967-9917-25566f07ff0a",
   "metadata": {},
   "source": [
    "**Merge**"
   ]
  },
  {
   "cell_type": "code",
   "execution_count": 25,
   "id": "cef8e1bd-5c31-419a-b476-d7790cb76d60",
   "metadata": {},
   "outputs": [
    {
     "name": "stdout",
     "output_type": "stream",
     "text": [
      "[1] 146643      5\n"
     ]
    },
    {
     "data": {
      "text/html": [
       "<table>\n",
       " <thead>\n",
       "  <tr>\n",
       "   <th style=\"text-align:left;\"> Chrom </th>\n",
       "   <th style=\"text-align:right;\"> ChromStart </th>\n",
       "   <th style=\"text-align:right;\"> ChromEnd </th>\n",
       "   <th style=\"text-align:left;\"> Region </th>\n",
       "   <th style=\"text-align:left;\"> Group </th>\n",
       "  </tr>\n",
       " </thead>\n",
       "<tbody>\n",
       "  <tr>\n",
       "   <td style=\"text-align:left;\"> chr1 </td>\n",
       "   <td style=\"text-align:right;\"> 10038 </td>\n",
       "   <td style=\"text-align:right;\"> 10405 </td>\n",
       "   <td style=\"text-align:left;\"> chr1:10038-10405 </td>\n",
       "   <td style=\"text-align:left;\"> ASTARR </td>\n",
       "  </tr>\n",
       "  <tr>\n",
       "   <td style=\"text-align:left;\"> chr1 </td>\n",
       "   <td style=\"text-align:right;\"> 16025 </td>\n",
       "   <td style=\"text-align:right;\"> 16338 </td>\n",
       "   <td style=\"text-align:left;\"> chr1:16025-16338 </td>\n",
       "   <td style=\"text-align:left;\"> ASTARR </td>\n",
       "  </tr>\n",
       "  <tr>\n",
       "   <td style=\"text-align:left;\"> chr1 </td>\n",
       "   <td style=\"text-align:right;\"> 17288 </td>\n",
       "   <td style=\"text-align:right;\"> 17689 </td>\n",
       "   <td style=\"text-align:left;\"> chr1:17288-17689 </td>\n",
       "   <td style=\"text-align:left;\"> ASTARR </td>\n",
       "  </tr>\n",
       "</tbody>\n",
       "</table>"
      ]
     },
     "metadata": {},
     "output_type": "display_data"
    }
   ],
   "source": [
    "lst = list(\n",
    "    dat_region_annot_fcc_starrmpra,\n",
    "    dat_region_annot_fcc_crispri_hcrff,\n",
    "    dat_region_annot_fcc_crispri_growth_arrange,\n",
    "    dat_region_annot_e2g_benchmark_arrange\n",
    ")\n",
    "\n",
    "dat = bind_rows(lst)\n",
    "dat = dat %>% \n",
    "    dplyr::select(Chrom, ChromStart, ChromEnd, Region, Group) %>% \n",
    "    dplyr::distinct()\n",
    "\n",
    "dat_region_annot_fcc_peak_merge = dat\n",
    "print(dim(dat))\n",
    "fun_display_table(head(dat, 3))"
   ]
  },
  {
   "cell_type": "code",
   "execution_count": 26,
   "id": "28a2245f-0100-49b9-87e1-4a8f63410bf7",
   "metadata": {},
   "outputs": [
    {
     "name": "stdout",
     "output_type": "stream",
     "text": [
      "\n",
      "        ASTARR     CRISPR-E2G CRISPRi-Growth  CRISPRi-HCRFF          LMPRA \n",
      "         90765            360           4380             56          20905 \n",
      "         TMPRA         WSTARR \n",
      "           848          29329 \n"
     ]
    }
   ],
   "source": [
    "dat = dat_region_annot_fcc_peak_merge\n",
    "res = table(dat$Group)\n",
    "print(res)"
   ]
  },
  {
   "cell_type": "markdown",
   "id": "c3c382ce-d134-4d52-86e6-05f3fd0cc2cf",
   "metadata": {},
   "source": [
    "## Save results"
   ]
  },
  {
   "cell_type": "code",
   "execution_count": 16,
   "id": "f7ccdd1c-9a59-404e-9a38-b6db2fb3ec2f",
   "metadata": {},
   "outputs": [],
   "source": [
    "lst = lst_dat_region_annot_result\n",
    "for (idx in names(lst)){\n",
    "\n",
    "    ### get each table\n",
    "    dat_region_annot_result = lst_dat_region_annot_result[[idx]]\n",
    "    \n",
    "    \n",
    "    ### set file directory\n",
    "    txt_folder = idx\n",
    "    txt_fdiry = file.path(\n",
    "        FD_RES, \n",
    "        \"region_annotation\", \n",
    "        txt_folder,\n",
    "        \"summary\"\n",
    "    )\n",
    "    \n",
    "    ### set file path\n",
    "    txt_fname = \"region.annotation.fcc_starrmpra_junke.group.tsv\"\n",
    "    #txt_fname = \"region.summary.fcc_starrmpra_junke.assayvote.tsv\"\n",
    "    txt_fpath = file.path(txt_fdiry, txt_fname)\n",
    "\n",
    "    ### write table\n",
    "    dat = dat_region_annot_result\n",
    "    write_tsv(dat, txt_fpath)\n",
    "}"
   ]
  },
  {
   "cell_type": "code",
   "execution_count": 27,
   "id": "94699c5a-9683-47da-8d5d-131f97ce69fe",
   "metadata": {},
   "outputs": [
    {
     "name": "stdout",
     "output_type": "stream",
     "text": [
      "[1] 100454      6\n"
     ]
    },
    {
     "data": {
      "text/html": [
       "<table>\n",
       " <thead>\n",
       "  <tr>\n",
       "   <th style=\"text-align:left;\"> Chrom </th>\n",
       "   <th style=\"text-align:right;\"> ChromStart </th>\n",
       "   <th style=\"text-align:right;\"> ChromEnd </th>\n",
       "   <th style=\"text-align:left;\"> Region </th>\n",
       "   <th style=\"text-align:right;\"> Num_Assay </th>\n",
       "   <th style=\"text-align:left;\"> Assays </th>\n",
       "  </tr>\n",
       " </thead>\n",
       "<tbody>\n",
       "  <tr>\n",
       "   <td style=\"text-align:left;\"> chr1 </td>\n",
       "   <td style=\"text-align:right;\"> 10038 </td>\n",
       "   <td style=\"text-align:right;\"> 10405 </td>\n",
       "   <td style=\"text-align:left;\"> chr1:10038-10405 </td>\n",
       "   <td style=\"text-align:right;\"> 1 </td>\n",
       "   <td style=\"text-align:left;\"> ASTARR </td>\n",
       "  </tr>\n",
       "  <tr>\n",
       "   <td style=\"text-align:left;\"> chr1 </td>\n",
       "   <td style=\"text-align:right;\"> 16025 </td>\n",
       "   <td style=\"text-align:right;\"> 16338 </td>\n",
       "   <td style=\"text-align:left;\"> chr1:16025-16338 </td>\n",
       "   <td style=\"text-align:right;\"> 1 </td>\n",
       "   <td style=\"text-align:left;\"> ASTARR </td>\n",
       "  </tr>\n",
       "  <tr>\n",
       "   <td style=\"text-align:left;\"> chr1 </td>\n",
       "   <td style=\"text-align:right;\"> 17288 </td>\n",
       "   <td style=\"text-align:right;\"> 17689 </td>\n",
       "   <td style=\"text-align:left;\"> chr1:17288-17689 </td>\n",
       "   <td style=\"text-align:right;\"> 1 </td>\n",
       "   <td style=\"text-align:left;\"> ASTARR </td>\n",
       "  </tr>\n",
       "</tbody>\n",
       "</table>"
      ]
     },
     "metadata": {},
     "output_type": "display_data"
    }
   ],
   "source": [
    "dat = dat_region_annot_fcc_peak_merge\n",
    "dat = dat %>% \n",
    "    dplyr::select(Chrom:Region, Group) %>% \n",
    "    dplyr::distinct()\n",
    "dat = dat %>% \n",
    "    dplyr::group_by(Chrom, ChromStart, ChromEnd, Region) %>% \n",
    "    dplyr::summarise(\n",
    "        Num_Assay = n(),\n",
    "        Assays    = paste(Group, collapse = \",\"),\n",
    "        .groups   = \"drop\"\n",
    "    )\n",
    "\n",
    "dat_region_fcc_assayvote = dat\n",
    "print(dim(dat))\n",
    "fun_display_table(head(dat, 3))"
   ]
  },
  {
   "cell_type": "code",
   "execution_count": null,
   "id": "704abcb8-b12a-4b17-a9ef-396f35b8f6f6",
   "metadata": {},
   "outputs": [],
   "source": []
  }
 ],
 "metadata": {
  "kernelspec": {
   "display_name": "R",
   "language": "R",
   "name": "ir"
  },
  "language_info": {
   "codemirror_mode": "r",
   "file_extension": ".r",
   "mimetype": "text/x-r-source",
   "name": "R",
   "pygments_lexer": "r",
   "version": "4.4.2"
  }
 },
 "nbformat": 4,
 "nbformat_minor": 5
}
