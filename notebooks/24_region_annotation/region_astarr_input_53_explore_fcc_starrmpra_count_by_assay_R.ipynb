{
 "cells": [
  {
   "cell_type": "raw",
   "id": "b1bc600a-a380-4d64-bf60-3776ffe1fcff",
   "metadata": {},
   "source": [
    "---\n",
    "title: FCC Peak calls\n",
    "subtitle: export annotation\n",
    "format:\n",
    "    html:\n",
    "        code-fold:  true\n",
    "        code-tools: true\n",
    "---"
   ]
  },
  {
   "cell_type": "markdown",
   "id": "77fe9aa9-e6a4-4944-b227-f0e344ce08e0",
   "metadata": {},
   "source": [
    "**Set environment**"
   ]
  },
  {
   "cell_type": "code",
   "execution_count": 1,
   "id": "afc7220c-89e7-42be-857c-334fb0d43e3b",
   "metadata": {
    "tags": []
   },
   "outputs": [
    {
     "name": "stdout",
     "output_type": "stream",
     "text": [
      "You are working on        Singularity: singularity_proj_encode_fcc \n",
      "BASE DIRECTORY (FD_BASE): /data/reddylab/Kuei \n",
      "REPO DIRECTORY (FD_REPO): /data/reddylab/Kuei/repo \n",
      "WORK DIRECTORY (FD_WORK): /data/reddylab/Kuei/work \n",
      "DATA DIRECTORY (FD_DATA): /data/reddylab/Kuei/data \n",
      "\n",
      "You are working with      ENCODE FCC \n",
      "PATH OF PROJECT (FD_PRJ): /data/reddylab/Kuei/repo/Proj_ENCODE_FCC \n",
      "PROJECT RESULTS (FD_RES): /data/reddylab/Kuei/repo/Proj_ENCODE_FCC/results \n",
      "PROJECT SCRIPTS (FD_EXE): /data/reddylab/Kuei/repo/Proj_ENCODE_FCC/scripts \n",
      "PROJECT DATA    (FD_DAT): /data/reddylab/Kuei/repo/Proj_ENCODE_FCC/data \n",
      "PROJECT NOTE    (FD_NBK): /data/reddylab/Kuei/repo/Proj_ENCODE_FCC/notebooks \n",
      "PROJECT DOCS    (FD_DOC): /data/reddylab/Kuei/repo/Proj_ENCODE_FCC/docs \n",
      "PROJECT LOG     (FD_LOG): /data/reddylab/Kuei/repo/Proj_ENCODE_FCC/log \n",
      "PROJECT REF     (FD_REF): /data/reddylab/Kuei/repo/Proj_ENCODE_FCC/references \n",
      "\n"
     ]
    }
   ],
   "source": [
    "suppressMessages(suppressWarnings(source(\"../run_config_project_sing.R\")))\n",
    "show_env()"
   ]
  },
  {
   "cell_type": "code",
   "execution_count": null,
   "id": "a1874822-a494-402f-9c15-992330524628",
   "metadata": {},
   "outputs": [],
   "source": []
  },
  {
   "cell_type": "code",
   "execution_count": 2,
   "id": "2ae68e56-f560-4d09-ae02-9b44db1bf6e2",
   "metadata": {},
   "outputs": [
    {
     "name": "stdout",
     "output_type": "stream",
     "text": [
      "fcc_astarr_macs_input_overlap \n",
      "fcc_astarr_macs_input_union \n"
     ]
    }
   ],
   "source": [
    "### get annotated region folder\n",
    "txt_fdiry = file.path(FD_RES, \"region_annotation\")\n",
    "vec = dir(txt_fdiry)\n",
    "names(vec) = vec\n",
    "\n",
    "### assign and show\n",
    "vec_txt_folder = vec\n",
    "for(txt in vec){cat(txt, \"\\n\")}"
   ]
  },
  {
   "cell_type": "code",
   "execution_count": null,
   "id": "30db5a3c-10cf-4061-ab0e-143254a7db67",
   "metadata": {},
   "outputs": [],
   "source": []
  },
  {
   "cell_type": "code",
   "execution_count": 3,
   "id": "d33a68ca-9bbe-4773-ad3a-aba51aa7918a",
   "metadata": {},
   "outputs": [
    {
     "name": "stdout",
     "output_type": "stream",
     "text": [
      "$fcc_astarr_macs_input_overlap\n",
      "[1] 122228      6\n",
      "\n",
      "$fcc_astarr_macs_input_union\n",
      "[1] 162819      6\n",
      "\n"
     ]
    },
    {
     "data": {
      "text/html": [
       "<table>\n",
       " <thead>\n",
       "  <tr>\n",
       "   <th style=\"text-align:left;\"> Chrom </th>\n",
       "   <th style=\"text-align:right;\"> ChromStart </th>\n",
       "   <th style=\"text-align:right;\"> ChromEnd </th>\n",
       "   <th style=\"text-align:left;\"> Region </th>\n",
       "   <th style=\"text-align:left;\"> Direction </th>\n",
       "   <th style=\"text-align:right;\"> Num_Assay </th>\n",
       "  </tr>\n",
       " </thead>\n",
       "<tbody>\n",
       "  <tr>\n",
       "   <td style=\"text-align:left;\"> chr1 </td>\n",
       "   <td style=\"text-align:right;\"> 115429 </td>\n",
       "   <td style=\"text-align:right;\"> 115969 </td>\n",
       "   <td style=\"text-align:left;\"> chr1:115429-115969 </td>\n",
       "   <td style=\"text-align:left;\"> Active </td>\n",
       "   <td style=\"text-align:right;\"> 1 </td>\n",
       "  </tr>\n",
       "  <tr>\n",
       "   <td style=\"text-align:left;\"> chr1 </td>\n",
       "   <td style=\"text-align:right;\"> 184091 </td>\n",
       "   <td style=\"text-align:right;\"> 184563 </td>\n",
       "   <td style=\"text-align:left;\"> chr1:184091-184563 </td>\n",
       "   <td style=\"text-align:left;\"> Active </td>\n",
       "   <td style=\"text-align:right;\"> 1 </td>\n",
       "  </tr>\n",
       "  <tr>\n",
       "   <td style=\"text-align:left;\"> chr1 </td>\n",
       "   <td style=\"text-align:right;\"> 605104 </td>\n",
       "   <td style=\"text-align:right;\"> 605675 </td>\n",
       "   <td style=\"text-align:left;\"> chr1:605104-605675 </td>\n",
       "   <td style=\"text-align:left;\"> Active </td>\n",
       "   <td style=\"text-align:right;\"> 1 </td>\n",
       "  </tr>\n",
       "</tbody>\n",
       "</table>"
      ]
     },
     "metadata": {},
     "output_type": "display_data"
    }
   ],
   "source": [
    "lst = lapply(vec_txt_folder, function(txt_folder){\n",
    "    ### set file directory\n",
    "    txt_fdiry = file.path(\n",
    "        FD_RES, \n",
    "        \"region_annotation\", \n",
    "        txt_folder,\n",
    "        \"summary\"\n",
    "    )\n",
    "    txt_fname = \"region.annotation.fcc_starrmpra_junke.assayvote.tsv\"\n",
    "    txt_fpath = file.path(txt_fdiry, txt_fname)\n",
    "\n",
    "    ### read table\n",
    "    dat = read_tsv(txt_fpath, show_col_types = FALSE)\n",
    "    return(dat)\n",
    "})\n",
    "names(lst) = vec_txt_folder\n",
    "\n",
    "### assign and show\n",
    "lst_dat_region_annot_fcc_starrmpra_assayvote = lst\n",
    "res = lapply(lst, dim)\n",
    "print(res)\n",
    "dat = lst[[1]]\n",
    "fun_display_table(head(dat, 3))"
   ]
  },
  {
   "cell_type": "code",
   "execution_count": 4,
   "id": "f1183b4d-f747-4707-8d21-bb475dce6e7c",
   "metadata": {},
   "outputs": [
    {
     "name": "stdout",
     "output_type": "stream",
     "text": [
      "$fcc_astarr_macs_input_overlap\n",
      "[1] 151862     10\n",
      "\n",
      "$fcc_astarr_macs_input_union\n",
      "[1] 196065     10\n",
      "\n"
     ]
    },
    {
     "data": {
      "text/html": [
       "<table>\n",
       " <thead>\n",
       "  <tr>\n",
       "   <th style=\"text-align:left;\"> Chrom </th>\n",
       "   <th style=\"text-align:right;\"> ChromStart </th>\n",
       "   <th style=\"text-align:right;\"> ChromEnd </th>\n",
       "   <th style=\"text-align:left;\"> Region </th>\n",
       "   <th style=\"text-align:left;\"> Annotation_A </th>\n",
       "   <th style=\"text-align:left;\"> Annotation_B </th>\n",
       "   <th style=\"text-align:left;\"> Group </th>\n",
       "   <th style=\"text-align:left;\"> Label </th>\n",
       "   <th style=\"text-align:left;\"> Region_Annot </th>\n",
       "   <th style=\"text-align:right;\"> Region_Count </th>\n",
       "  </tr>\n",
       " </thead>\n",
       "<tbody>\n",
       "  <tr>\n",
       "   <td style=\"text-align:left;\"> chr1 </td>\n",
       "   <td style=\"text-align:right;\"> 10038 </td>\n",
       "   <td style=\"text-align:right;\"> 10405 </td>\n",
       "   <td style=\"text-align:left;\"> chr1:10038-10405 </td>\n",
       "   <td style=\"text-align:left;\"> fcc_astarr_macs_input_overlap </td>\n",
       "   <td style=\"text-align:left;\"> fcc_starrmpra_junke_astarr </td>\n",
       "   <td style=\"text-align:left;\"> ASTARR </td>\n",
       "   <td style=\"text-align:left;\"> ASTARR_R </td>\n",
       "   <td style=\"text-align:left;\"> chr1:10010-10430 </td>\n",
       "   <td style=\"text-align:right;\"> 1 </td>\n",
       "  </tr>\n",
       "  <tr>\n",
       "   <td style=\"text-align:left;\"> chr1 </td>\n",
       "   <td style=\"text-align:right;\"> 16025 </td>\n",
       "   <td style=\"text-align:right;\"> 16338 </td>\n",
       "   <td style=\"text-align:left;\"> chr1:16025-16338 </td>\n",
       "   <td style=\"text-align:left;\"> fcc_astarr_macs_input_overlap </td>\n",
       "   <td style=\"text-align:left;\"> fcc_starrmpra_junke_astarr </td>\n",
       "   <td style=\"text-align:left;\"> ASTARR </td>\n",
       "   <td style=\"text-align:left;\"> ASTARR_R </td>\n",
       "   <td style=\"text-align:left;\"> chr1:16220-16340 </td>\n",
       "   <td style=\"text-align:right;\"> 1 </td>\n",
       "  </tr>\n",
       "  <tr>\n",
       "   <td style=\"text-align:left;\"> chr1 </td>\n",
       "   <td style=\"text-align:right;\"> 17288 </td>\n",
       "   <td style=\"text-align:right;\"> 17689 </td>\n",
       "   <td style=\"text-align:left;\"> chr1:17288-17689 </td>\n",
       "   <td style=\"text-align:left;\"> fcc_astarr_macs_input_overlap </td>\n",
       "   <td style=\"text-align:left;\"> fcc_starrmpra_junke_astarr </td>\n",
       "   <td style=\"text-align:left;\"> ASTARR </td>\n",
       "   <td style=\"text-align:left;\"> ASTARR_R </td>\n",
       "   <td style=\"text-align:left;\"> chr1:17230-17440;chr1:17610-17720 </td>\n",
       "   <td style=\"text-align:right;\"> 2 </td>\n",
       "  </tr>\n",
       "</tbody>\n",
       "</table>"
      ]
     },
     "metadata": {},
     "output_type": "display_data"
    }
   ],
   "source": [
    "lst = lapply(vec_txt_folder, function(txt_folder){\n",
    "    ### set file directory\n",
    "    txt_fdiry = file.path(\n",
    "        FD_RES, \n",
    "        \"region_annotation\", \n",
    "        txt_folder,\n",
    "        \"summary\"\n",
    "    )\n",
    "    txt_fname = \"region.annotation.fcc_starrmpra_junke.tsv\"\n",
    "    txt_fpath = file.path(txt_fdiry, txt_fname)\n",
    "\n",
    "    ### read table\n",
    "    dat = read_tsv(txt_fpath, show_col_types = FALSE)\n",
    "    return(dat)\n",
    "})\n",
    "names(lst) = vec_txt_folder\n",
    "\n",
    "### assign and show\n",
    "lst_dat_region_annot_fcc_starrmpra = lst\n",
    "res = lapply(lst, dim)\n",
    "print(res)\n",
    "dat = lst[[1]]\n",
    "fun_display_table(head(dat, 3))"
   ]
  },
  {
   "cell_type": "code",
   "execution_count": 5,
   "id": "15c137c6-b314-4f49-8317-c143bd9fbe95",
   "metadata": {},
   "outputs": [
    {
     "data": {
      "text/html": [
       "<dl>\n",
       "\t<dt>$Active</dt>\n",
       "\t\t<dd>20283</dd>\n",
       "\t<dt>$Repressive</dt>\n",
       "\t\t<dd>2619</dd>\n",
       "</dl>\n"
      ],
      "text/latex": [
       "\\begin{description}\n",
       "\\item[\\$Active] 20283\n",
       "\\item[\\$Repressive] 2619\n",
       "\\end{description}\n"
      ],
      "text/markdown": [
       "$Active\n",
       ":   20283\n",
       "$Repressive\n",
       ":   2619\n",
       "\n",
       "\n"
      ],
      "text/plain": [
       "$Active\n",
       "[1] 20283\n",
       "\n",
       "$Repressive\n",
       "[1] 2619\n"
      ]
     },
     "metadata": {},
     "output_type": "display_data"
    }
   ],
   "source": [
    "lst = lst_dat_region_annot_fcc_starrmpra_assayvote\n",
    "dat = lst[[1]]\n",
    "dat = dat %>% dplyr::filter(Num_Assay > 1)\n",
    "\n",
    "lst = split(dat$Region, dat$Direction)\n",
    "lst = lapply(lst, unique)\n",
    "lst_vec_txt_region_fcc = lst\n",
    "lapply(lst, length)"
   ]
  },
  {
   "cell_type": "code",
   "execution_count": 6,
   "id": "273a4524-6eb5-4b5f-947e-0e825579b5d0",
   "metadata": {},
   "outputs": [
    {
     "data": {
      "text/html": [
       "<table class=\"dataframe\">\n",
       "<caption>A tibble: 6 × 10</caption>\n",
       "<thead>\n",
       "\t<tr><th scope=col>Chrom</th><th scope=col>ChromStart</th><th scope=col>ChromEnd</th><th scope=col>Region</th><th scope=col>Annotation_A</th><th scope=col>Annotation_B</th><th scope=col>Group</th><th scope=col>Label</th><th scope=col>Region_Annot</th><th scope=col>Region_Count</th></tr>\n",
       "\t<tr><th scope=col>&lt;chr&gt;</th><th scope=col>&lt;dbl&gt;</th><th scope=col>&lt;dbl&gt;</th><th scope=col>&lt;chr&gt;</th><th scope=col>&lt;chr&gt;</th><th scope=col>&lt;chr&gt;</th><th scope=col>&lt;chr&gt;</th><th scope=col>&lt;chr&gt;</th><th scope=col>&lt;chr&gt;</th><th scope=col>&lt;dbl&gt;</th></tr>\n",
       "</thead>\n",
       "<tbody>\n",
       "\t<tr><td>chr1</td><td> 10038</td><td> 10405</td><td>chr1:10038-10405  </td><td>fcc_astarr_macs_input_overlap</td><td>fcc_starrmpra_junke_astarr</td><td>ASTARR</td><td>ASTARR_R</td><td>chr1:10010-10430                     </td><td>1</td></tr>\n",
       "\t<tr><td>chr1</td><td> 16025</td><td> 16338</td><td>chr1:16025-16338  </td><td>fcc_astarr_macs_input_overlap</td><td>fcc_starrmpra_junke_astarr</td><td>ASTARR</td><td>ASTARR_R</td><td>chr1:16220-16340                     </td><td>1</td></tr>\n",
       "\t<tr><td>chr1</td><td> 17288</td><td> 17689</td><td>chr1:17288-17689  </td><td>fcc_astarr_macs_input_overlap</td><td>fcc_starrmpra_junke_astarr</td><td>ASTARR</td><td>ASTARR_R</td><td>chr1:17230-17440;chr1:17610-17720    </td><td>2</td></tr>\n",
       "\t<tr><td>chr1</td><td> 28934</td><td> 29499</td><td>chr1:28934-29499  </td><td>fcc_astarr_macs_input_overlap</td><td>fcc_starrmpra_junke_astarr</td><td>ASTARR</td><td>ASTARR_R</td><td>chr1:28940-29050;chr1:29280-29470    </td><td>2</td></tr>\n",
       "\t<tr><td>chr1</td><td>115429</td><td>115969</td><td>chr1:115429-115969</td><td>fcc_astarr_macs_input_overlap</td><td>fcc_starrmpra_junke_astarr</td><td>ASTARR</td><td>ASTARR_A</td><td>chr1:115470-115750                   </td><td>1</td></tr>\n",
       "\t<tr><td>chr1</td><td>136201</td><td>137353</td><td>chr1:136201-137353</td><td>fcc_astarr_macs_input_overlap</td><td>fcc_starrmpra_junke_astarr</td><td>ASTARR</td><td>ASTARR_R</td><td>chr1:136300-136400;chr1:136480-136960</td><td>2</td></tr>\n",
       "</tbody>\n",
       "</table>\n"
      ],
      "text/latex": [
       "A tibble: 6 × 10\n",
       "\\begin{tabular}{llllllllll}\n",
       " Chrom & ChromStart & ChromEnd & Region & Annotation\\_A & Annotation\\_B & Group & Label & Region\\_Annot & Region\\_Count\\\\\n",
       " <chr> & <dbl> & <dbl> & <chr> & <chr> & <chr> & <chr> & <chr> & <chr> & <dbl>\\\\\n",
       "\\hline\n",
       "\t chr1 &  10038 &  10405 & chr1:10038-10405   & fcc\\_astarr\\_macs\\_input\\_overlap & fcc\\_starrmpra\\_junke\\_astarr & ASTARR & ASTARR\\_R & chr1:10010-10430                      & 1\\\\\n",
       "\t chr1 &  16025 &  16338 & chr1:16025-16338   & fcc\\_astarr\\_macs\\_input\\_overlap & fcc\\_starrmpra\\_junke\\_astarr & ASTARR & ASTARR\\_R & chr1:16220-16340                      & 1\\\\\n",
       "\t chr1 &  17288 &  17689 & chr1:17288-17689   & fcc\\_astarr\\_macs\\_input\\_overlap & fcc\\_starrmpra\\_junke\\_astarr & ASTARR & ASTARR\\_R & chr1:17230-17440;chr1:17610-17720     & 2\\\\\n",
       "\t chr1 &  28934 &  29499 & chr1:28934-29499   & fcc\\_astarr\\_macs\\_input\\_overlap & fcc\\_starrmpra\\_junke\\_astarr & ASTARR & ASTARR\\_R & chr1:28940-29050;chr1:29280-29470     & 2\\\\\n",
       "\t chr1 & 115429 & 115969 & chr1:115429-115969 & fcc\\_astarr\\_macs\\_input\\_overlap & fcc\\_starrmpra\\_junke\\_astarr & ASTARR & ASTARR\\_A & chr1:115470-115750                    & 1\\\\\n",
       "\t chr1 & 136201 & 137353 & chr1:136201-137353 & fcc\\_astarr\\_macs\\_input\\_overlap & fcc\\_starrmpra\\_junke\\_astarr & ASTARR & ASTARR\\_R & chr1:136300-136400;chr1:136480-136960 & 2\\\\\n",
       "\\end{tabular}\n"
      ],
      "text/markdown": [
       "\n",
       "A tibble: 6 × 10\n",
       "\n",
       "| Chrom &lt;chr&gt; | ChromStart &lt;dbl&gt; | ChromEnd &lt;dbl&gt; | Region &lt;chr&gt; | Annotation_A &lt;chr&gt; | Annotation_B &lt;chr&gt; | Group &lt;chr&gt; | Label &lt;chr&gt; | Region_Annot &lt;chr&gt; | Region_Count &lt;dbl&gt; |\n",
       "|---|---|---|---|---|---|---|---|---|---|\n",
       "| chr1 |  10038 |  10405 | chr1:10038-10405   | fcc_astarr_macs_input_overlap | fcc_starrmpra_junke_astarr | ASTARR | ASTARR_R | chr1:10010-10430                      | 1 |\n",
       "| chr1 |  16025 |  16338 | chr1:16025-16338   | fcc_astarr_macs_input_overlap | fcc_starrmpra_junke_astarr | ASTARR | ASTARR_R | chr1:16220-16340                      | 1 |\n",
       "| chr1 |  17288 |  17689 | chr1:17288-17689   | fcc_astarr_macs_input_overlap | fcc_starrmpra_junke_astarr | ASTARR | ASTARR_R | chr1:17230-17440;chr1:17610-17720     | 2 |\n",
       "| chr1 |  28934 |  29499 | chr1:28934-29499   | fcc_astarr_macs_input_overlap | fcc_starrmpra_junke_astarr | ASTARR | ASTARR_R | chr1:28940-29050;chr1:29280-29470     | 2 |\n",
       "| chr1 | 115429 | 115969 | chr1:115429-115969 | fcc_astarr_macs_input_overlap | fcc_starrmpra_junke_astarr | ASTARR | ASTARR_A | chr1:115470-115750                    | 1 |\n",
       "| chr1 | 136201 | 137353 | chr1:136201-137353 | fcc_astarr_macs_input_overlap | fcc_starrmpra_junke_astarr | ASTARR | ASTARR_R | chr1:136300-136400;chr1:136480-136960 | 2 |\n",
       "\n"
      ],
      "text/plain": [
       "  Chrom ChromStart ChromEnd Region             Annotation_A                 \n",
       "1 chr1   10038      10405   chr1:10038-10405   fcc_astarr_macs_input_overlap\n",
       "2 chr1   16025      16338   chr1:16025-16338   fcc_astarr_macs_input_overlap\n",
       "3 chr1   17288      17689   chr1:17288-17689   fcc_astarr_macs_input_overlap\n",
       "4 chr1   28934      29499   chr1:28934-29499   fcc_astarr_macs_input_overlap\n",
       "5 chr1  115429     115969   chr1:115429-115969 fcc_astarr_macs_input_overlap\n",
       "6 chr1  136201     137353   chr1:136201-137353 fcc_astarr_macs_input_overlap\n",
       "  Annotation_B               Group  Label   \n",
       "1 fcc_starrmpra_junke_astarr ASTARR ASTARR_R\n",
       "2 fcc_starrmpra_junke_astarr ASTARR ASTARR_R\n",
       "3 fcc_starrmpra_junke_astarr ASTARR ASTARR_R\n",
       "4 fcc_starrmpra_junke_astarr ASTARR ASTARR_R\n",
       "5 fcc_starrmpra_junke_astarr ASTARR ASTARR_A\n",
       "6 fcc_starrmpra_junke_astarr ASTARR ASTARR_R\n",
       "  Region_Annot                          Region_Count\n",
       "1 chr1:10010-10430                      1           \n",
       "2 chr1:16220-16340                      1           \n",
       "3 chr1:17230-17440;chr1:17610-17720     2           \n",
       "4 chr1:28940-29050;chr1:29280-29470     2           \n",
       "5 chr1:115470-115750                    1           \n",
       "6 chr1:136300-136400;chr1:136480-136960 2           "
      ]
     },
     "metadata": {},
     "output_type": "display_data"
    }
   ],
   "source": [
    "lst = lst_dat_region_annot_fcc_starrmpra\n",
    "dat = lst[[1]]\n",
    "head(dat)"
   ]
  },
  {
   "cell_type": "markdown",
   "id": "acd93036-ade2-46a9-a291-8c30aee15cd3",
   "metadata": {},
   "source": [
    "not sure how to easily plot the bar plot for active and repressive regions"
   ]
  },
  {
   "cell_type": "code",
   "execution_count": null,
   "id": "3919fed5-3e47-4f86-80ca-0653e851ddc7",
   "metadata": {},
   "outputs": [],
   "source": []
  },
  {
   "cell_type": "code",
   "execution_count": null,
   "id": "72c516ec-34fb-41c4-9fb6-0fa797f94075",
   "metadata": {},
   "outputs": [],
   "source": []
  },
  {
   "cell_type": "code",
   "execution_count": 16,
   "id": "65e0b617-69c4-496b-a3a7-f2513d73b080",
   "metadata": {},
   "outputs": [
    {
     "name": "stdout",
     "output_type": "stream",
     "text": [
      "[1] 22517\n"
     ]
    }
   ],
   "source": [
    "lst = lst_dat_region_annot_fcc_starrmpra_assayvote\n",
    "dat = lst[[1]]\n",
    "dat = dat %>% dplyr::filter(Num_Assay > 1)\n",
    "vec = unique(dat$Region)\n",
    "\n",
    "vec_txt_region_fcc = vec\n",
    "print(length(vec))"
   ]
  },
  {
   "cell_type": "code",
   "execution_count": null,
   "id": "2945db82-abbe-446f-bcab-c876bac49fc5",
   "metadata": {},
   "outputs": [],
   "source": []
  },
  {
   "cell_type": "code",
   "execution_count": null,
   "id": "78cf4102-e81d-445d-bceb-31f204f238e2",
   "metadata": {},
   "outputs": [],
   "source": []
  },
  {
   "cell_type": "code",
   "execution_count": null,
   "id": "49673330-74d3-4f76-9dd8-e4243b68ccc9",
   "metadata": {},
   "outputs": [],
   "source": []
  },
  {
   "cell_type": "markdown",
   "id": "548ccb42-13f1-40bb-87c6-839c10042349",
   "metadata": {},
   "source": [
    "## Overall"
   ]
  },
  {
   "cell_type": "code",
   "execution_count": 18,
   "id": "0e1b87c8-214b-4555-b13e-be8046c64d42",
   "metadata": {},
   "outputs": [
    {
     "data": {
      "image/png": "[encoded data removed]",
      "text/plain": [
       "plot without title"
      ]
     },
     "metadata": {
      "image/png": {
       "height": 300,
       "width": 420
      }
     },
     "output_type": "display_data"
    }
   ],
   "source": [
    "lst = lst_dat_region_annot_fcc_starrmpra\n",
    "dat = lst[[1]]\n",
    "dat = dat %>% dplyr::select(Region, Group) %>% dplyr::distinct()\n",
    "\n",
    "dat = as.data.frame(table(dat$Group))\n",
    "colnames(dat) = c(\"Group\", \"Count\")\n",
    "\n",
    "gpt = ggplot(dat, aes(x=Count, y = Group)) + \n",
    "    geom_col() +\n",
    "    theme_cowplot() +\n",
    "    background_grid()\n",
    "\n",
    "options(repr.plot.height = 5, repr.plot.width = 7)\n",
    "print(gpt)"
   ]
  },
  {
   "cell_type": "code",
   "execution_count": 19,
   "id": "4c997b03-9bc7-4b8c-8c68-06fdf6e1a683",
   "metadata": {},
   "outputs": [
    {
     "data": {
      "image/png": "[encoded data removed]",
      "text/plain": [
       "plot without title"
      ]
     },
     "metadata": {
      "image/png": {
       "height": 300,
       "width": 420
      }
     },
     "output_type": "display_data"
    }
   ],
   "source": [
    "lst = lst_dat_region_annot_fcc_starrmpra\n",
    "dat = lst[[1]]\n",
    "dat = dat %>% dplyr::select(Region, Group) %>% dplyr::distinct()\n",
    "dat = dat %>% dplyr::filter(Region %in% vec_txt_region_fcc)\n",
    "\n",
    "dat = as.data.frame(table(dat$Group))\n",
    "colnames(dat) = c(\"Group\", \"Count\")\n",
    "\n",
    "gpt = ggplot(dat, aes(x=Count, y = Group)) + \n",
    "    geom_col() +\n",
    "    theme_cowplot() +\n",
    "    background_grid()\n",
    "\n",
    "options(repr.plot.height = 5, repr.plot.width = 7)\n",
    "print(gpt)"
   ]
  },
  {
   "cell_type": "code",
   "execution_count": 20,
   "id": "928c6163-37d9-470d-8f1c-57c85b1505a8",
   "metadata": {},
   "outputs": [],
   "source": [
    "library(UpSetR)"
   ]
  },
  {
   "cell_type": "code",
   "execution_count": 22,
   "id": "18f7c444-2c2f-4639-b5a3-4ed9780c5ed3",
   "metadata": {},
   "outputs": [
    {
     "data": {
      "image/png": "[encoded data removed]",
      "text/plain": [
       "plot without title"
      ]
     },
     "metadata": {
      "image/png": {
       "height": 300,
       "width": 420
      }
     },
     "output_type": "display_data"
    }
   ],
   "source": [
    "lst = lst_dat_region_annot_fcc_starrmpra\n",
    "dat = lst[[1]]\n",
    "dat = dat %>% dplyr::select(Region, Group) %>% dplyr::distinct()\n",
    "dat = dat %>% dplyr::filter(Region %in% vec_txt_region_fcc)\n",
    "\n",
    "lst = split(dat$Region, dat$Group)\n",
    "upset(fromList(lst), order.by = \"freq\")"
   ]
  },
  {
   "cell_type": "markdown",
   "id": "ee70b19b-acf0-4a3f-a8b0-1d2b4f4a6127",
   "metadata": {},
   "source": [
    "## Split by active and repressive"
   ]
  },
  {
   "cell_type": "code",
   "execution_count": 33,
   "id": "d888bd5a-aa47-4778-b9a8-9ec659794db4",
   "metadata": {},
   "outputs": [
    {
     "name": "stdout",
     "output_type": "stream",
     "text": [
      "[1] 22902     2\n"
     ]
    },
    {
     "data": {
      "text/html": [
       "<table class=\"dataframe\">\n",
       "<caption>A tibble: 6 × 2</caption>\n",
       "<thead>\n",
       "\t<tr><th scope=col>Region</th><th scope=col>Direction</th></tr>\n",
       "\t<tr><th scope=col>&lt;chr&gt;</th><th scope=col>&lt;chr&gt;</th></tr>\n",
       "</thead>\n",
       "<tbody>\n",
       "\t<tr><td>chr1:778233-779389  </td><td>Active</td></tr>\n",
       "\t<tr><td>chr1:842516-843431  </td><td>Active</td></tr>\n",
       "\t<tr><td>chr1:912735-913419  </td><td>Active</td></tr>\n",
       "\t<tr><td>chr1:958722-959968  </td><td>Active</td></tr>\n",
       "\t<tr><td>chr1:960468-961615  </td><td>Active</td></tr>\n",
       "\t<tr><td>chr1:1005094-1005553</td><td>Active</td></tr>\n",
       "</tbody>\n",
       "</table>\n"
      ],
      "text/latex": [
       "A tibble: 6 × 2\n",
       "\\begin{tabular}{ll}\n",
       " Region & Direction\\\\\n",
       " <chr> & <chr>\\\\\n",
       "\\hline\n",
       "\t chr1:778233-779389   & Active\\\\\n",
       "\t chr1:842516-843431   & Active\\\\\n",
       "\t chr1:912735-913419   & Active\\\\\n",
       "\t chr1:958722-959968   & Active\\\\\n",
       "\t chr1:960468-961615   & Active\\\\\n",
       "\t chr1:1005094-1005553 & Active\\\\\n",
       "\\end{tabular}\n"
      ],
      "text/markdown": [
       "\n",
       "A tibble: 6 × 2\n",
       "\n",
       "| Region &lt;chr&gt; | Direction &lt;chr&gt; |\n",
       "|---|---|\n",
       "| chr1:778233-779389   | Active |\n",
       "| chr1:842516-843431   | Active |\n",
       "| chr1:912735-913419   | Active |\n",
       "| chr1:958722-959968   | Active |\n",
       "| chr1:960468-961615   | Active |\n",
       "| chr1:1005094-1005553 | Active |\n",
       "\n"
      ],
      "text/plain": [
       "  Region               Direction\n",
       "1 chr1:778233-779389   Active   \n",
       "2 chr1:842516-843431   Active   \n",
       "3 chr1:912735-913419   Active   \n",
       "4 chr1:958722-959968   Active   \n",
       "5 chr1:960468-961615   Active   \n",
       "6 chr1:1005094-1005553 Active   "
      ]
     },
     "metadata": {},
     "output_type": "display_data"
    }
   ],
   "source": [
    "lst = lst_dat_region_annot_fcc_starrmpra_assayvote\n",
    "dat = lst[[1]]\n",
    "dat = dat %>% \n",
    "    dplyr::filter(Num_Assay > 1) %>%\n",
    "    dplyr::select(Region, Direction) %>% \n",
    "    dplyr::distinct()\n",
    "\n",
    "dat_region_fcc_subset = dat\n",
    "print(dim(dat))\n",
    "head(dat)"
   ]
  },
  {
   "cell_type": "code",
   "execution_count": 34,
   "id": "48019975-9ec7-49f5-8463-73730f04b2f5",
   "metadata": {},
   "outputs": [
    {
     "data": {
      "text/html": [
       "<dl>\n",
       "\t<dt>$Active</dt>\n",
       "\t\t<dd>20283</dd>\n",
       "\t<dt>$Repressive</dt>\n",
       "\t\t<dd>2619</dd>\n",
       "</dl>\n"
      ],
      "text/latex": [
       "\\begin{description}\n",
       "\\item[\\$Active] 20283\n",
       "\\item[\\$Repressive] 2619\n",
       "\\end{description}\n"
      ],
      "text/markdown": [
       "$Active\n",
       ":   20283\n",
       "$Repressive\n",
       ":   2619\n",
       "\n",
       "\n"
      ],
      "text/plain": [
       "$Active\n",
       "[1] 20283\n",
       "\n",
       "$Repressive\n",
       "[1] 2619\n"
      ]
     },
     "metadata": {},
     "output_type": "display_data"
    }
   ],
   "source": [
    "lst = lst_dat_region_annot_fcc_starrmpra_assayvote\n",
    "dat = lst[[1]]\n",
    "dat = dat %>% dplyr::filter(Num_Assay > 1)\n",
    "\n",
    "lst = split(dat$Region, dat$Direction)\n",
    "lst = lapply(lst, unique)\n",
    "lst_vec_txt_region_fcc_subset = lst\n",
    "lapply(lst, length)"
   ]
  },
  {
   "cell_type": "code",
   "execution_count": null,
   "id": "bdb12fb4-456c-4aca-86c3-686aeceff4f7",
   "metadata": {},
   "outputs": [],
   "source": []
  },
  {
   "cell_type": "code",
   "execution_count": 35,
   "id": "40c10b61-ef48-4662-801a-f950b0f58864",
   "metadata": {},
   "outputs": [
    {
     "data": {
      "text/html": [
       "<table class=\"dataframe\">\n",
       "<caption>A tibble: 6 × 4</caption>\n",
       "<thead>\n",
       "\t<tr><th scope=col>Region</th><th scope=col>Group</th><th scope=col>Label</th><th scope=col>Direction</th></tr>\n",
       "\t<tr><th scope=col>&lt;chr&gt;</th><th scope=col>&lt;chr&gt;</th><th scope=col>&lt;chr&gt;</th><th scope=col>&lt;chr&gt;</th></tr>\n",
       "</thead>\n",
       "<tbody>\n",
       "\t<tr><td>chr1:10038-10405  </td><td>ASTARR</td><td>ASTARR_R</td><td>Repressive</td></tr>\n",
       "\t<tr><td>chr1:16025-16338  </td><td>ASTARR</td><td>ASTARR_R</td><td>Repressive</td></tr>\n",
       "\t<tr><td>chr1:17288-17689  </td><td>ASTARR</td><td>ASTARR_R</td><td>Repressive</td></tr>\n",
       "\t<tr><td>chr1:28934-29499  </td><td>ASTARR</td><td>ASTARR_R</td><td>Repressive</td></tr>\n",
       "\t<tr><td>chr1:115429-115969</td><td>ASTARR</td><td>ASTARR_A</td><td>Active    </td></tr>\n",
       "\t<tr><td>chr1:136201-137353</td><td>ASTARR</td><td>ASTARR_R</td><td>Repressive</td></tr>\n",
       "</tbody>\n",
       "</table>\n"
      ],
      "text/latex": [
       "A tibble: 6 × 4\n",
       "\\begin{tabular}{llll}\n",
       " Region & Group & Label & Direction\\\\\n",
       " <chr> & <chr> & <chr> & <chr>\\\\\n",
       "\\hline\n",
       "\t chr1:10038-10405   & ASTARR & ASTARR\\_R & Repressive\\\\\n",
       "\t chr1:16025-16338   & ASTARR & ASTARR\\_R & Repressive\\\\\n",
       "\t chr1:17288-17689   & ASTARR & ASTARR\\_R & Repressive\\\\\n",
       "\t chr1:28934-29499   & ASTARR & ASTARR\\_R & Repressive\\\\\n",
       "\t chr1:115429-115969 & ASTARR & ASTARR\\_A & Active    \\\\\n",
       "\t chr1:136201-137353 & ASTARR & ASTARR\\_R & Repressive\\\\\n",
       "\\end{tabular}\n"
      ],
      "text/markdown": [
       "\n",
       "A tibble: 6 × 4\n",
       "\n",
       "| Region &lt;chr&gt; | Group &lt;chr&gt; | Label &lt;chr&gt; | Direction &lt;chr&gt; |\n",
       "|---|---|---|---|\n",
       "| chr1:10038-10405   | ASTARR | ASTARR_R | Repressive |\n",
       "| chr1:16025-16338   | ASTARR | ASTARR_R | Repressive |\n",
       "| chr1:17288-17689   | ASTARR | ASTARR_R | Repressive |\n",
       "| chr1:28934-29499   | ASTARR | ASTARR_R | Repressive |\n",
       "| chr1:115429-115969 | ASTARR | ASTARR_A | Active     |\n",
       "| chr1:136201-137353 | ASTARR | ASTARR_R | Repressive |\n",
       "\n"
      ],
      "text/plain": [
       "  Region             Group  Label    Direction \n",
       "1 chr1:10038-10405   ASTARR ASTARR_R Repressive\n",
       "2 chr1:16025-16338   ASTARR ASTARR_R Repressive\n",
       "3 chr1:17288-17689   ASTARR ASTARR_R Repressive\n",
       "4 chr1:28934-29499   ASTARR ASTARR_R Repressive\n",
       "5 chr1:115429-115969 ASTARR ASTARR_A Active    \n",
       "6 chr1:136201-137353 ASTARR ASTARR_R Repressive"
      ]
     },
     "metadata": {},
     "output_type": "display_data"
    }
   ],
   "source": [
    "lst = lst_dat_region_annot_fcc_starrmpra\n",
    "dat = lst[[1]]\n",
    "dat = dat %>% \n",
    "    tidyr::separate(Label, into=c(\"Label1\", \"Label2\"), remove=FALSE) %>% \n",
    "    dplyr::mutate(\n",
    "        Direction = dplyr::recode(\n",
    "            Label2, \n",
    "            \"A\" = \"Active\", \n",
    "            \"R\" = \"Repressive\")) %>%\n",
    "    dplyr::select(Region, Group, Label, Direction) %>% \n",
    "    dplyr::distinct()\n",
    "\n",
    "dat_region_fcc = dat\n",
    "head(dat)"
   ]
  },
  {
   "cell_type": "code",
   "execution_count": 54,
   "id": "953d24d3-3cde-4e4a-8f56-4d2300423864",
   "metadata": {},
   "outputs": [
    {
     "name": "stdout",
     "output_type": "stream",
     "text": [
      "[1] 52536     4\n"
     ]
    },
    {
     "data": {
      "text/plain": [
       "\n",
       "    Active Repressive \n",
       "     47289       5247 "
      ]
     },
     "metadata": {},
     "output_type": "display_data"
    }
   ],
   "source": [
    "dat = dat_region_fcc\n",
    "lst = split(dat, dat$Direction)\n",
    "lst = lapply(c(\"Active\", \"Repressive\"), function(txt_direction){\n",
    "    vec = lst_vec_txt_region_fcc_subset[[txt_direction]]\n",
    "    dat = dat_region_fcc\n",
    "    dat = dat %>% \n",
    "        dplyr::filter(Direction == txt_direction) %>% \n",
    "        dplyr::filter(Region %in% vec)\n",
    "    return(dat)\n",
    "})\n",
    "names(lst) = c(\"Active\", \"Repressive\")\n",
    "dat = bind_rows(lst)\n",
    "\n",
    "lst_dat_region_fcc_filter = lst\n",
    "print(dim(dat))\n",
    "table(dat$Direction)"
   ]
  },
  {
   "cell_type": "code",
   "execution_count": 55,
   "id": "ba020403-2a44-45b2-ab7a-cde33cd1b38a",
   "metadata": {},
   "outputs": [
    {
     "data": {
      "text/html": [
       "<dl>\n",
       "\t<dt>$Active</dt>\n",
       "\t\t<dd><table class=\"dataframe\">\n",
       "<caption>A data.frame: 4 × 2</caption>\n",
       "<thead>\n",
       "\t<tr><th scope=col>Group</th><th scope=col>Count</th></tr>\n",
       "\t<tr><th scope=col>&lt;fct&gt;</th><th scope=col>&lt;int&gt;</th></tr>\n",
       "</thead>\n",
       "<tbody>\n",
       "\t<tr><td>ASTARR</td><td>15856</td></tr>\n",
       "\t<tr><td>LMPRA </td><td>13750</td></tr>\n",
       "\t<tr><td>TMPRA </td><td>  393</td></tr>\n",
       "\t<tr><td>WSTARR</td><td>17290</td></tr>\n",
       "</tbody>\n",
       "</table>\n",
       "</dd>\n",
       "\t<dt>$Repressive</dt>\n",
       "\t\t<dd><table class=\"dataframe\">\n",
       "<caption>A data.frame: 4 × 2</caption>\n",
       "<thead>\n",
       "\t<tr><th scope=col>Group</th><th scope=col>Count</th></tr>\n",
       "\t<tr><th scope=col>&lt;fct&gt;</th><th scope=col>&lt;int&gt;</th></tr>\n",
       "</thead>\n",
       "<tbody>\n",
       "\t<tr><td>ASTARR</td><td>2617</td></tr>\n",
       "\t<tr><td>LMPRA </td><td> 203</td></tr>\n",
       "\t<tr><td>TMPRA </td><td>  10</td></tr>\n",
       "\t<tr><td>WSTARR</td><td>2417</td></tr>\n",
       "</tbody>\n",
       "</table>\n",
       "</dd>\n",
       "</dl>\n"
      ],
      "text/latex": [
       "\\begin{description}\n",
       "\\item[\\$Active] A data.frame: 4 × 2\n",
       "\\begin{tabular}{ll}\n",
       " Group & Count\\\\\n",
       " <fct> & <int>\\\\\n",
       "\\hline\n",
       "\t ASTARR & 15856\\\\\n",
       "\t LMPRA  & 13750\\\\\n",
       "\t TMPRA  &   393\\\\\n",
       "\t WSTARR & 17290\\\\\n",
       "\\end{tabular}\n",
       "\n",
       "\\item[\\$Repressive] A data.frame: 4 × 2\n",
       "\\begin{tabular}{ll}\n",
       " Group & Count\\\\\n",
       " <fct> & <int>\\\\\n",
       "\\hline\n",
       "\t ASTARR & 2617\\\\\n",
       "\t LMPRA  &  203\\\\\n",
       "\t TMPRA  &   10\\\\\n",
       "\t WSTARR & 2417\\\\\n",
       "\\end{tabular}\n",
       "\n",
       "\\end{description}\n"
      ],
      "text/markdown": [
       "$Active\n",
       ":   \n",
       "A data.frame: 4 × 2\n",
       "\n",
       "| Group &lt;fct&gt; | Count &lt;int&gt; |\n",
       "|---|---|\n",
       "| ASTARR | 15856 |\n",
       "| LMPRA  | 13750 |\n",
       "| TMPRA  |   393 |\n",
       "| WSTARR | 17290 |\n",
       "\n",
       "\n",
       "$Repressive\n",
       ":   \n",
       "A data.frame: 4 × 2\n",
       "\n",
       "| Group &lt;fct&gt; | Count &lt;int&gt; |\n",
       "|---|---|\n",
       "| ASTARR | 2617 |\n",
       "| LMPRA  |  203 |\n",
       "| TMPRA  |   10 |\n",
       "| WSTARR | 2417 |\n",
       "\n",
       "\n",
       "\n",
       "\n"
      ],
      "text/plain": [
       "$Active\n",
       "   Group Count\n",
       "1 ASTARR 15856\n",
       "2  LMPRA 13750\n",
       "3  TMPRA   393\n",
       "4 WSTARR 17290\n",
       "\n",
       "$Repressive\n",
       "   Group Count\n",
       "1 ASTARR  2617\n",
       "2  LMPRA   203\n",
       "3  TMPRA    10\n",
       "4 WSTARR  2417\n"
      ]
     },
     "metadata": {},
     "output_type": "display_data"
    }
   ],
   "source": [
    "lst = lst_dat_region_fcc_filter\n",
    "lst = lapply(lst, function(dat){\n",
    "    dat = as.data.frame(table(dat$Group))\n",
    "    colnames(dat) = c(\"Group\", \"Count\")\n",
    "    return(dat)\n",
    "})\n",
    "\n",
    "lst_dat_region_fcc_count = lst\n",
    "lst"
   ]
  },
  {
   "cell_type": "code",
   "execution_count": 56,
   "id": "f7b2a67f-ace4-414c-863b-83114ec6aa1d",
   "metadata": {},
   "outputs": [],
   "source": [
    "axis_margin <- 5.5"
   ]
  },
  {
   "cell_type": "code",
   "execution_count": 66,
   "id": "c7ea196c-8628-4514-bb36-9a59dc4b67e5",
   "metadata": {},
   "outputs": [
    {
     "data": {
      "image/png": "[encoded data removed]",
      "text/plain": [
       "plot without title"
      ]
     },
     "metadata": {
      "image/png": {
       "height": 300,
       "width": 420
      }
     },
     "output_type": "display_data"
    }
   ],
   "source": [
    "lst = lst_dat_region_fcc_count\n",
    "dat = lst[[\"Active\"]]\n",
    "\n",
    "gpt1 = ggplot(dat, aes(x=Group, y=Count)) +\n",
    "    geom_col() +\n",
    "    #scale_x_reverse() +\n",
    "    #scale_y_discrete(position = \"right\") +\n",
    "    theme_cowplot() +\n",
    "    theme(\n",
    "        axis.title.x = element_blank(), \n",
    "        axis.title.y = element_blank(), \n",
    "        #axis.text.y = element_blank(), \n",
    "        axis.ticks.y = element_blank(), \n",
    "        plot.margin = unit(c(1,0,1,0), \"mm\")\n",
    "    ) +\n",
    "    scale_y_reverse() + \n",
    "    coord_flip()\n",
    "print(gpt1)"
   ]
  },
  {
   "cell_type": "code",
   "execution_count": 64,
   "id": "f6d59c8e-f6e8-46ad-9d2c-ee1bffd65168",
   "metadata": {},
   "outputs": [
    {
     "data": {
      "image/png": "[encoded data removed]",
      "text/plain": [
       "plot without title"
      ]
     },
     "metadata": {
      "image/png": {
       "height": 300,
       "width": 420
      }
     },
     "output_type": "display_data"
    }
   ],
   "source": [
    "lst = lst_dat_region_fcc_count\n",
    "dat = lst[[\"Repressive\"]]\n",
    "\n",
    "gpt2 = ggplot(dat, aes(x=Group, y=Count)) +\n",
    "    geom_col() +\n",
    "    theme_cowplot() +\n",
    "    theme(\n",
    "        axis.title.x = element_blank(), \n",
    "        axis.title.y = element_blank(), \n",
    "        plot.margin = unit(c(1,5,1,0), \"mm\")\n",
    "    ) +\n",
    "    coord_flip()\n",
    "print(gpt2)"
   ]
  },
  {
   "cell_type": "code",
   "execution_count": 67,
   "id": "b75cee36-4b5c-46ef-b07c-736f54d2cf83",
   "metadata": {},
   "outputs": [
    {
     "data": {
      "image/png": "[encoded data removed]",
      "text/plain": [
       "plot without title"
      ]
     },
     "metadata": {
      "image/png": {
       "height": 300,
       "width": 420
      }
     },
     "output_type": "display_data"
    }
   ],
   "source": [
    "plot_grid(gpt1, gpt2, align = \"h\")"
   ]
  },
  {
   "cell_type": "code",
   "execution_count": null,
   "id": "055c051c-693a-420d-9c36-3fcb7d77f7ae",
   "metadata": {},
   "outputs": [],
   "source": []
  }
 ],
 "metadata": {
  "kernelspec": {
   "display_name": "R",
   "language": "R",
   "name": "ir"
  },
  "language_info": {
   "codemirror_mode": "r",
   "file_extension": ".r",
   "mimetype": "text/x-r-source",
   "name": "R",
   "pygments_lexer": "r",
   "version": "4.4.2"
  }
 },
 "nbformat": 4,
 "nbformat_minor": 5
}
