{
 "cells": [
  {
   "cell_type": "markdown",
   "id": "d1e24e3f-3e9e-4247-a16a-0d0c01828184",
   "metadata": {},
   "source": [
    "**Set environment**"
   ]
  },
  {
   "cell_type": "code",
   "execution_count": 2,
   "id": "14302244-3649-4453-b24e-d9effb349dc2",
   "metadata": {
    "tags": []
   },
   "outputs": [
    {
     "name": "stdout",
     "output_type": "stream",
     "text": [
      "You are working on        Singularity: singularity_proj_encode_fcc \n",
      "BASE DIRECTORY (FD_BASE): /data/reddylab/Kuei \n",
      "REPO DIRECTORY (FD_REPO): /data/reddylab/Kuei/repo \n",
      "WORK DIRECTORY (FD_WORK): /data/reddylab/Kuei/work \n",
      "DATA DIRECTORY (FD_DATA): /data/reddylab/Kuei/data \n",
      "\n",
      "You are working with      ENCODE FCC \n",
      "PATH OF PROJECT (FD_PRJ): /data/reddylab/Kuei/repo/Proj_ENCODE_FCC \n",
      "PROJECT RESULTS (FD_RES): /data/reddylab/Kuei/repo/Proj_ENCODE_FCC/results \n",
      "PROJECT SCRIPTS (FD_EXE): /data/reddylab/Kuei/repo/Proj_ENCODE_FCC/scripts \n",
      "PROJECT DATA    (FD_DAT): /data/reddylab/Kuei/repo/Proj_ENCODE_FCC/data \n",
      "PROJECT NOTE    (FD_NBK): /data/reddylab/Kuei/repo/Proj_ENCODE_FCC/notebooks \n",
      "PROJECT DOCS    (FD_DOC): /data/reddylab/Kuei/repo/Proj_ENCODE_FCC/docs \n",
      "PROJECT LOG     (FD_LOG): /data/reddylab/Kuei/repo/Proj_ENCODE_FCC/log \n",
      "PROJECT REF     (FD_REF): /data/reddylab/Kuei/repo/Proj_ENCODE_FCC/references \n",
      "\n"
     ]
    }
   ],
   "source": [
    "suppressMessages(suppressWarnings(source(\"../run_config_project_sing.R\")))\n",
    "show_env()"
   ]
  },
  {
   "cell_type": "markdown",
   "id": "634330b3-5009-48fa-af36-e4f4248967dc",
   "metadata": {},
   "source": [
    "**Import the ATAC-TSS closest**"
   ]
  },
  {
   "cell_type": "code",
   "execution_count": 4,
   "id": "607e231a-06cf-4bb2-b3a1-270bf5da297b",
   "metadata": {},
   "outputs": [
    {
     "name": "stdout",
     "output_type": "stream",
     "text": [
      "region.pair.genome_tss.tsv \n",
      "region.summary.genome_tss.tsv \n"
     ]
    }
   ],
   "source": [
    "txt_fdiry = file.path(FD_RES, \"region_closest\", \"fcc_astarr_macs_input_overlap\", \"summary\")\n",
    "vec = dir(txt_fdiry)\n",
    "for(txt in vec){cat(txt, \"\\n\")}"
   ]
  },
  {
   "cell_type": "code",
   "execution_count": 13,
   "id": "b74d81ff-cbb3-4801-8289-fbdf7176c1f7",
   "metadata": {},
   "outputs": [
    {
     "name": "stdout",
     "output_type": "stream",
     "text": [
      "[1] 151558     13\n"
     ]
    },
    {
     "data": {
      "text/html": [
       "<table>\n",
       " <thead>\n",
       "  <tr>\n",
       "   <th style=\"text-align:left;\"> X1 </th>\n",
       "   <th style=\"text-align:right;\"> X2 </th>\n",
       "   <th style=\"text-align:right;\"> X3 </th>\n",
       "   <th style=\"text-align:left;\"> X4 </th>\n",
       "   <th style=\"text-align:left;\"> X5 </th>\n",
       "   <th style=\"text-align:right;\"> X6 </th>\n",
       "   <th style=\"text-align:right;\"> X7 </th>\n",
       "   <th style=\"text-align:left;\"> X8 </th>\n",
       "   <th style=\"text-align:left;\"> X9 </th>\n",
       "   <th style=\"text-align:right;\"> X10 </th>\n",
       "   <th style=\"text-align:left;\"> X11 </th>\n",
       "   <th style=\"text-align:left;\"> X12 </th>\n",
       "   <th style=\"text-align:right;\"> X13 </th>\n",
       "  </tr>\n",
       " </thead>\n",
       "<tbody>\n",
       "  <tr>\n",
       "   <td style=\"text-align:left;\"> chr1 </td>\n",
       "   <td style=\"text-align:right;\"> 10038 </td>\n",
       "   <td style=\"text-align:right;\"> 10405 </td>\n",
       "   <td style=\"text-align:left;\"> chr1:10038-10405 </td>\n",
       "   <td style=\"text-align:left;\"> chr1 </td>\n",
       "   <td style=\"text-align:right;\"> 29370 </td>\n",
       "   <td style=\"text-align:right;\"> 29371 </td>\n",
       "   <td style=\"text-align:left;\"> chr1:29370-29371 </td>\n",
       "   <td style=\"text-align:left;\"> WASH7P </td>\n",
       "   <td style=\"text-align:right;\"> 0.00023 </td>\n",
       "   <td style=\"text-align:left;\"> TSS_Pol2_RNAseq </td>\n",
       "   <td style=\"text-align:left;\"> WASH7P </td>\n",
       "   <td style=\"text-align:right;\"> 18966 </td>\n",
       "  </tr>\n",
       "  <tr>\n",
       "   <td style=\"text-align:left;\"> chr1 </td>\n",
       "   <td style=\"text-align:right;\"> 14282 </td>\n",
       "   <td style=\"text-align:right;\"> 14614 </td>\n",
       "   <td style=\"text-align:left;\"> chr1:14282-14614 </td>\n",
       "   <td style=\"text-align:left;\"> chr1 </td>\n",
       "   <td style=\"text-align:right;\"> 29370 </td>\n",
       "   <td style=\"text-align:right;\"> 29371 </td>\n",
       "   <td style=\"text-align:left;\"> chr1:29370-29371 </td>\n",
       "   <td style=\"text-align:left;\"> WASH7P </td>\n",
       "   <td style=\"text-align:right;\"> 0.00023 </td>\n",
       "   <td style=\"text-align:left;\"> TSS_Pol2_RNAseq </td>\n",
       "   <td style=\"text-align:left;\"> WASH7P </td>\n",
       "   <td style=\"text-align:right;\"> 14757 </td>\n",
       "  </tr>\n",
       "  <tr>\n",
       "   <td style=\"text-align:left;\"> chr1 </td>\n",
       "   <td style=\"text-align:right;\"> 16025 </td>\n",
       "   <td style=\"text-align:right;\"> 16338 </td>\n",
       "   <td style=\"text-align:left;\"> chr1:16025-16338 </td>\n",
       "   <td style=\"text-align:left;\"> chr1 </td>\n",
       "   <td style=\"text-align:right;\"> 29370 </td>\n",
       "   <td style=\"text-align:right;\"> 29371 </td>\n",
       "   <td style=\"text-align:left;\"> chr1:29370-29371 </td>\n",
       "   <td style=\"text-align:left;\"> WASH7P </td>\n",
       "   <td style=\"text-align:right;\"> 0.00023 </td>\n",
       "   <td style=\"text-align:left;\"> TSS_Pol2_RNAseq </td>\n",
       "   <td style=\"text-align:left;\"> WASH7P </td>\n",
       "   <td style=\"text-align:right;\"> 13033 </td>\n",
       "  </tr>\n",
       "  <tr>\n",
       "   <td style=\"text-align:left;\"> chr1 </td>\n",
       "   <td style=\"text-align:right;\"> 17288 </td>\n",
       "   <td style=\"text-align:right;\"> 17689 </td>\n",
       "   <td style=\"text-align:left;\"> chr1:17288-17689 </td>\n",
       "   <td style=\"text-align:left;\"> chr1 </td>\n",
       "   <td style=\"text-align:right;\"> 29370 </td>\n",
       "   <td style=\"text-align:right;\"> 29371 </td>\n",
       "   <td style=\"text-align:left;\"> chr1:29370-29371 </td>\n",
       "   <td style=\"text-align:left;\"> WASH7P </td>\n",
       "   <td style=\"text-align:right;\"> 0.00023 </td>\n",
       "   <td style=\"text-align:left;\"> TSS_Pol2_RNAseq </td>\n",
       "   <td style=\"text-align:left;\"> WASH7P </td>\n",
       "   <td style=\"text-align:right;\"> 11682 </td>\n",
       "  </tr>\n",
       "  <tr>\n",
       "   <td style=\"text-align:left;\"> chr1 </td>\n",
       "   <td style=\"text-align:right;\"> 28934 </td>\n",
       "   <td style=\"text-align:right;\"> 29499 </td>\n",
       "   <td style=\"text-align:left;\"> chr1:28934-29499 </td>\n",
       "   <td style=\"text-align:left;\"> chr1 </td>\n",
       "   <td style=\"text-align:right;\"> 29370 </td>\n",
       "   <td style=\"text-align:right;\"> 29371 </td>\n",
       "   <td style=\"text-align:left;\"> chr1:29370-29371 </td>\n",
       "   <td style=\"text-align:left;\"> WASH7P </td>\n",
       "   <td style=\"text-align:right;\"> 0.00023 </td>\n",
       "   <td style=\"text-align:left;\"> TSS_Pol2_RNAseq </td>\n",
       "   <td style=\"text-align:left;\"> WASH7P </td>\n",
       "   <td style=\"text-align:right;\"> 0 </td>\n",
       "  </tr>\n",
       "  <tr>\n",
       "   <td style=\"text-align:left;\"> chr1 </td>\n",
       "   <td style=\"text-align:right;\"> 115429 </td>\n",
       "   <td style=\"text-align:right;\"> 115969 </td>\n",
       "   <td style=\"text-align:left;\"> chr1:115429-115969 </td>\n",
       "   <td style=\"text-align:left;\"> chr1 </td>\n",
       "   <td style=\"text-align:right;\"> 29370 </td>\n",
       "   <td style=\"text-align:right;\"> 29371 </td>\n",
       "   <td style=\"text-align:left;\"> chr1:29370-29371 </td>\n",
       "   <td style=\"text-align:left;\"> WASH7P </td>\n",
       "   <td style=\"text-align:right;\"> 0.00023 </td>\n",
       "   <td style=\"text-align:left;\"> TSS_Pol2_RNAseq </td>\n",
       "   <td style=\"text-align:left;\"> WASH7P </td>\n",
       "   <td style=\"text-align:right;\"> 86059 </td>\n",
       "  </tr>\n",
       "</tbody>\n",
       "</table>"
      ]
     },
     "metadata": {},
     "output_type": "display_data"
    }
   ],
   "source": [
    "txt_fdiry = file.path(FD_RES, \"region_closest\", \"fcc_astarr_macs_input_overlap\", \"genome_tss\")\n",
    "txt_fname = \"fcc_astarr_macs_input_overlap.genome_tss_pol2_rnaseq.bed.gz\"\n",
    "txt_fpath = file.path(txt_fdiry, txt_fname)\n",
    "\n",
    "dat = read_tsv(txt_fpath, col_names = FALSE, show_col_types = FALSE)\n",
    "\n",
    "dat_region_tss_closest = dat\n",
    "print(dim(dat))\n",
    "fun_display_table(head(dat))"
   ]
  },
  {
   "cell_type": "code",
   "execution_count": 16,
   "id": "2e3a50a9-6789-4427-b6d8-1ccbcbf29284",
   "metadata": {},
   "outputs": [
    {
     "name": "stdout",
     "output_type": "stream",
     "text": [
      "[1] 151558     15\n"
     ]
    },
    {
     "data": {
      "text/html": [
       "<table>\n",
       " <thead>\n",
       "  <tr>\n",
       "   <th style=\"text-align:left;\"> Chrom_A </th>\n",
       "   <th style=\"text-align:right;\"> ChromStart_A </th>\n",
       "   <th style=\"text-align:right;\"> ChromEnd_A </th>\n",
       "   <th style=\"text-align:left;\"> Region_A </th>\n",
       "   <th style=\"text-align:left;\"> Chrom_B </th>\n",
       "   <th style=\"text-align:right;\"> ChromStart_B </th>\n",
       "   <th style=\"text-align:right;\"> ChromEnd_B </th>\n",
       "   <th style=\"text-align:left;\"> Region_B </th>\n",
       "   <th style=\"text-align:left;\"> Gene_B </th>\n",
       "   <th style=\"text-align:right;\"> Score_B </th>\n",
       "   <th style=\"text-align:left;\"> Group_B </th>\n",
       "   <th style=\"text-align:left;\"> Label_B </th>\n",
       "   <th style=\"text-align:right;\"> Distance </th>\n",
       "   <th style=\"text-align:left;\"> Annotation_A </th>\n",
       "   <th style=\"text-align:left;\"> Annotation_B </th>\n",
       "  </tr>\n",
       " </thead>\n",
       "<tbody>\n",
       "  <tr>\n",
       "   <td style=\"text-align:left;\"> chr1 </td>\n",
       "   <td style=\"text-align:right;\"> 10038 </td>\n",
       "   <td style=\"text-align:right;\"> 10405 </td>\n",
       "   <td style=\"text-align:left;\"> chr1:10038-10405 </td>\n",
       "   <td style=\"text-align:left;\"> chr1 </td>\n",
       "   <td style=\"text-align:right;\"> 29370 </td>\n",
       "   <td style=\"text-align:right;\"> 29371 </td>\n",
       "   <td style=\"text-align:left;\"> chr1:29370-29371 </td>\n",
       "   <td style=\"text-align:left;\"> WASH7P </td>\n",
       "   <td style=\"text-align:right;\"> 0.00023 </td>\n",
       "   <td style=\"text-align:left;\"> TSS_Pol2_RNAseq </td>\n",
       "   <td style=\"text-align:left;\"> WASH7P </td>\n",
       "   <td style=\"text-align:right;\"> 18966 </td>\n",
       "   <td style=\"text-align:left;\"> fcc_astarr_macs_input_overlap </td>\n",
       "   <td style=\"text-align:left;\"> genome_tss_pol2_rnaseq </td>\n",
       "  </tr>\n",
       "  <tr>\n",
       "   <td style=\"text-align:left;\"> chr1 </td>\n",
       "   <td style=\"text-align:right;\"> 14282 </td>\n",
       "   <td style=\"text-align:right;\"> 14614 </td>\n",
       "   <td style=\"text-align:left;\"> chr1:14282-14614 </td>\n",
       "   <td style=\"text-align:left;\"> chr1 </td>\n",
       "   <td style=\"text-align:right;\"> 29370 </td>\n",
       "   <td style=\"text-align:right;\"> 29371 </td>\n",
       "   <td style=\"text-align:left;\"> chr1:29370-29371 </td>\n",
       "   <td style=\"text-align:left;\"> WASH7P </td>\n",
       "   <td style=\"text-align:right;\"> 0.00023 </td>\n",
       "   <td style=\"text-align:left;\"> TSS_Pol2_RNAseq </td>\n",
       "   <td style=\"text-align:left;\"> WASH7P </td>\n",
       "   <td style=\"text-align:right;\"> 14757 </td>\n",
       "   <td style=\"text-align:left;\"> fcc_astarr_macs_input_overlap </td>\n",
       "   <td style=\"text-align:left;\"> genome_tss_pol2_rnaseq </td>\n",
       "  </tr>\n",
       "  <tr>\n",
       "   <td style=\"text-align:left;\"> chr1 </td>\n",
       "   <td style=\"text-align:right;\"> 16025 </td>\n",
       "   <td style=\"text-align:right;\"> 16338 </td>\n",
       "   <td style=\"text-align:left;\"> chr1:16025-16338 </td>\n",
       "   <td style=\"text-align:left;\"> chr1 </td>\n",
       "   <td style=\"text-align:right;\"> 29370 </td>\n",
       "   <td style=\"text-align:right;\"> 29371 </td>\n",
       "   <td style=\"text-align:left;\"> chr1:29370-29371 </td>\n",
       "   <td style=\"text-align:left;\"> WASH7P </td>\n",
       "   <td style=\"text-align:right;\"> 0.00023 </td>\n",
       "   <td style=\"text-align:left;\"> TSS_Pol2_RNAseq </td>\n",
       "   <td style=\"text-align:left;\"> WASH7P </td>\n",
       "   <td style=\"text-align:right;\"> 13033 </td>\n",
       "   <td style=\"text-align:left;\"> fcc_astarr_macs_input_overlap </td>\n",
       "   <td style=\"text-align:left;\"> genome_tss_pol2_rnaseq </td>\n",
       "  </tr>\n",
       "  <tr>\n",
       "   <td style=\"text-align:left;\"> chr1 </td>\n",
       "   <td style=\"text-align:right;\"> 17288 </td>\n",
       "   <td style=\"text-align:right;\"> 17689 </td>\n",
       "   <td style=\"text-align:left;\"> chr1:17288-17689 </td>\n",
       "   <td style=\"text-align:left;\"> chr1 </td>\n",
       "   <td style=\"text-align:right;\"> 29370 </td>\n",
       "   <td style=\"text-align:right;\"> 29371 </td>\n",
       "   <td style=\"text-align:left;\"> chr1:29370-29371 </td>\n",
       "   <td style=\"text-align:left;\"> WASH7P </td>\n",
       "   <td style=\"text-align:right;\"> 0.00023 </td>\n",
       "   <td style=\"text-align:left;\"> TSS_Pol2_RNAseq </td>\n",
       "   <td style=\"text-align:left;\"> WASH7P </td>\n",
       "   <td style=\"text-align:right;\"> 11682 </td>\n",
       "   <td style=\"text-align:left;\"> fcc_astarr_macs_input_overlap </td>\n",
       "   <td style=\"text-align:left;\"> genome_tss_pol2_rnaseq </td>\n",
       "  </tr>\n",
       "  <tr>\n",
       "   <td style=\"text-align:left;\"> chr1 </td>\n",
       "   <td style=\"text-align:right;\"> 28934 </td>\n",
       "   <td style=\"text-align:right;\"> 29499 </td>\n",
       "   <td style=\"text-align:left;\"> chr1:28934-29499 </td>\n",
       "   <td style=\"text-align:left;\"> chr1 </td>\n",
       "   <td style=\"text-align:right;\"> 29370 </td>\n",
       "   <td style=\"text-align:right;\"> 29371 </td>\n",
       "   <td style=\"text-align:left;\"> chr1:29370-29371 </td>\n",
       "   <td style=\"text-align:left;\"> WASH7P </td>\n",
       "   <td style=\"text-align:right;\"> 0.00023 </td>\n",
       "   <td style=\"text-align:left;\"> TSS_Pol2_RNAseq </td>\n",
       "   <td style=\"text-align:left;\"> WASH7P </td>\n",
       "   <td style=\"text-align:right;\"> 0 </td>\n",
       "   <td style=\"text-align:left;\"> fcc_astarr_macs_input_overlap </td>\n",
       "   <td style=\"text-align:left;\"> genome_tss_pol2_rnaseq </td>\n",
       "  </tr>\n",
       "  <tr>\n",
       "   <td style=\"text-align:left;\"> chr1 </td>\n",
       "   <td style=\"text-align:right;\"> 115429 </td>\n",
       "   <td style=\"text-align:right;\"> 115969 </td>\n",
       "   <td style=\"text-align:left;\"> chr1:115429-115969 </td>\n",
       "   <td style=\"text-align:left;\"> chr1 </td>\n",
       "   <td style=\"text-align:right;\"> 29370 </td>\n",
       "   <td style=\"text-align:right;\"> 29371 </td>\n",
       "   <td style=\"text-align:left;\"> chr1:29370-29371 </td>\n",
       "   <td style=\"text-align:left;\"> WASH7P </td>\n",
       "   <td style=\"text-align:right;\"> 0.00023 </td>\n",
       "   <td style=\"text-align:left;\"> TSS_Pol2_RNAseq </td>\n",
       "   <td style=\"text-align:left;\"> WASH7P </td>\n",
       "   <td style=\"text-align:right;\"> 86059 </td>\n",
       "   <td style=\"text-align:left;\"> fcc_astarr_macs_input_overlap </td>\n",
       "   <td style=\"text-align:left;\"> genome_tss_pol2_rnaseq </td>\n",
       "  </tr>\n",
       "</tbody>\n",
       "</table>"
      ]
     },
     "metadata": {},
     "output_type": "display_data"
    }
   ],
   "source": [
    "txt_fdiry = file.path(FD_RES, \"region_closest\", \"fcc_astarr_macs_input_overlap\", \"summary\")\n",
    "txt_fname = \"region.pair.genome_tss.tsv\"\n",
    "txt_fpath = file.path(txt_fdiry, txt_fname)\n",
    "\n",
    "dat = read_tsv(txt_fpath, show_col_types = FALSE)\n",
    "dat = dat %>% dplyr::filter(Annotation_B == \"genome_tss_pol2_rnaseq\")\n",
    "\n",
    "dat_region_tss_closest = dat\n",
    "print(dim(dat))\n",
    "fun_display_table(head(dat))"
   ]
  },
  {
   "cell_type": "code",
   "execution_count": 6,
   "id": "bd33b5a1-485d-457e-98a9-0463004f2baa",
   "metadata": {},
   "outputs": [
    {
     "name": "stdout",
     "output_type": "stream",
     "text": [
      "[1] 150042      8\n"
     ]
    },
    {
     "data": {
      "text/html": [
       "<table>\n",
       " <thead>\n",
       "  <tr>\n",
       "   <th style=\"text-align:left;\"> Chrom </th>\n",
       "   <th style=\"text-align:right;\"> ChromStart </th>\n",
       "   <th style=\"text-align:right;\"> ChromEnd </th>\n",
       "   <th style=\"text-align:left;\"> Region </th>\n",
       "   <th style=\"text-align:left;\"> Annotation_A </th>\n",
       "   <th style=\"text-align:left;\"> Annotation_B </th>\n",
       "   <th style=\"text-align:right;\"> Distance </th>\n",
       "   <th style=\"text-align:left;\"> Label_TSS_Proximity </th>\n",
       "  </tr>\n",
       " </thead>\n",
       "<tbody>\n",
       "  <tr>\n",
       "   <td style=\"text-align:left;\"> chr1 </td>\n",
       "   <td style=\"text-align:right;\"> 10038 </td>\n",
       "   <td style=\"text-align:right;\"> 10405 </td>\n",
       "   <td style=\"text-align:left;\"> chr1:10038-10405 </td>\n",
       "   <td style=\"text-align:left;\"> fcc_astarr_macs_input_overlap </td>\n",
       "   <td style=\"text-align:left;\"> genome_tss_pol2_rnaseq </td>\n",
       "   <td style=\"text-align:right;\"> 18966 </td>\n",
       "   <td style=\"text-align:left;\"> Distal </td>\n",
       "  </tr>\n",
       "  <tr>\n",
       "   <td style=\"text-align:left;\"> chr1 </td>\n",
       "   <td style=\"text-align:right;\"> 14282 </td>\n",
       "   <td style=\"text-align:right;\"> 14614 </td>\n",
       "   <td style=\"text-align:left;\"> chr1:14282-14614 </td>\n",
       "   <td style=\"text-align:left;\"> fcc_astarr_macs_input_overlap </td>\n",
       "   <td style=\"text-align:left;\"> genome_tss_pol2_rnaseq </td>\n",
       "   <td style=\"text-align:right;\"> 14757 </td>\n",
       "   <td style=\"text-align:left;\"> Distal </td>\n",
       "  </tr>\n",
       "  <tr>\n",
       "   <td style=\"text-align:left;\"> chr1 </td>\n",
       "   <td style=\"text-align:right;\"> 16025 </td>\n",
       "   <td style=\"text-align:right;\"> 16338 </td>\n",
       "   <td style=\"text-align:left;\"> chr1:16025-16338 </td>\n",
       "   <td style=\"text-align:left;\"> fcc_astarr_macs_input_overlap </td>\n",
       "   <td style=\"text-align:left;\"> genome_tss_pol2_rnaseq </td>\n",
       "   <td style=\"text-align:right;\"> 13033 </td>\n",
       "   <td style=\"text-align:left;\"> Distal </td>\n",
       "  </tr>\n",
       "  <tr>\n",
       "   <td style=\"text-align:left;\"> chr1 </td>\n",
       "   <td style=\"text-align:right;\"> 17288 </td>\n",
       "   <td style=\"text-align:right;\"> 17689 </td>\n",
       "   <td style=\"text-align:left;\"> chr1:17288-17689 </td>\n",
       "   <td style=\"text-align:left;\"> fcc_astarr_macs_input_overlap </td>\n",
       "   <td style=\"text-align:left;\"> genome_tss_pol2_rnaseq </td>\n",
       "   <td style=\"text-align:right;\"> 11682 </td>\n",
       "   <td style=\"text-align:left;\"> Distal </td>\n",
       "  </tr>\n",
       "  <tr>\n",
       "   <td style=\"text-align:left;\"> chr1 </td>\n",
       "   <td style=\"text-align:right;\"> 28934 </td>\n",
       "   <td style=\"text-align:right;\"> 29499 </td>\n",
       "   <td style=\"text-align:left;\"> chr1:28934-29499 </td>\n",
       "   <td style=\"text-align:left;\"> fcc_astarr_macs_input_overlap </td>\n",
       "   <td style=\"text-align:left;\"> genome_tss_pol2_rnaseq </td>\n",
       "   <td style=\"text-align:right;\"> 0 </td>\n",
       "   <td style=\"text-align:left;\"> Proximal </td>\n",
       "  </tr>\n",
       "  <tr>\n",
       "   <td style=\"text-align:left;\"> chr1 </td>\n",
       "   <td style=\"text-align:right;\"> 115429 </td>\n",
       "   <td style=\"text-align:right;\"> 115969 </td>\n",
       "   <td style=\"text-align:left;\"> chr1:115429-115969 </td>\n",
       "   <td style=\"text-align:left;\"> fcc_astarr_macs_input_overlap </td>\n",
       "   <td style=\"text-align:left;\"> genome_tss_pol2_rnaseq </td>\n",
       "   <td style=\"text-align:right;\"> 86059 </td>\n",
       "   <td style=\"text-align:left;\"> Distal </td>\n",
       "  </tr>\n",
       "</tbody>\n",
       "</table>"
      ]
     },
     "metadata": {},
     "output_type": "display_data"
    }
   ],
   "source": [
    "txt_fdiry = file.path(FD_RES, \"region_closest\", \"fcc_astarr_macs_input_overlap\", \"summary\")\n",
    "txt_fname = \"region.summary.genome_tss.tsv\"\n",
    "txt_fpath = file.path(txt_fdiry, txt_fname)\n",
    "\n",
    "dat = read_tsv(txt_fpath, show_col_types = FALSE)\n",
    "\n",
    "dat_region_tss_closest = dat\n",
    "print(dim(dat))\n",
    "fun_display_table(head(dat))"
   ]
  },
  {
   "cell_type": "markdown",
   "id": "3e375990-796e-458e-a935-069e8a57d9aa",
   "metadata": {},
   "source": [
    "**Import the ATAC-TSS overlap**"
   ]
  },
  {
   "cell_type": "code",
   "execution_count": 10,
   "id": "08b45e8f-a251-4d05-8da8-7756cd24445f",
   "metadata": {},
   "outputs": [
    {
     "name": "stdout",
     "output_type": "stream",
     "text": [
      "fcc_astarr_macs_input_overlap.genome_tss_pol2_rnaseq.bed.gz \n",
      "fcc_astarr_macs_input_overlap.genome_tss_pol2.bed.gz \n"
     ]
    }
   ],
   "source": [
    "txt_fdiry = file.path(FD_RES, \"region_annotation\", \"fcc_astarr_macs_input_overlap\", \"genome_tss\")\n",
    "vec = dir(txt_fdiry)\n",
    "for(txt in vec){cat(txt, \"\\n\")}"
   ]
  },
  {
   "cell_type": "code",
   "execution_count": 11,
   "id": "8c0b1430-e5af-4957-97f5-cd4b9c40d615",
   "metadata": {},
   "outputs": [
    {
     "name": "stdout",
     "output_type": "stream",
     "text": [
      "[1] 10831    13\n"
     ]
    },
    {
     "data": {
      "text/html": [
       "<table>\n",
       " <thead>\n",
       "  <tr>\n",
       "   <th style=\"text-align:left;\"> X1 </th>\n",
       "   <th style=\"text-align:right;\"> X2 </th>\n",
       "   <th style=\"text-align:right;\"> X3 </th>\n",
       "   <th style=\"text-align:left;\"> X4 </th>\n",
       "   <th style=\"text-align:left;\"> X5 </th>\n",
       "   <th style=\"text-align:right;\"> X6 </th>\n",
       "   <th style=\"text-align:right;\"> X7 </th>\n",
       "   <th style=\"text-align:left;\"> X8 </th>\n",
       "   <th style=\"text-align:left;\"> X9 </th>\n",
       "   <th style=\"text-align:right;\"> X10 </th>\n",
       "   <th style=\"text-align:left;\"> X11 </th>\n",
       "   <th style=\"text-align:left;\"> X12 </th>\n",
       "   <th style=\"text-align:right;\"> X13 </th>\n",
       "  </tr>\n",
       " </thead>\n",
       "<tbody>\n",
       "  <tr>\n",
       "   <td style=\"text-align:left;\"> chr1 </td>\n",
       "   <td style=\"text-align:right;\"> 28934 </td>\n",
       "   <td style=\"text-align:right;\"> 29499 </td>\n",
       "   <td style=\"text-align:left;\"> chr1:28934-29499 </td>\n",
       "   <td style=\"text-align:left;\"> chr1 </td>\n",
       "   <td style=\"text-align:right;\"> 29370 </td>\n",
       "   <td style=\"text-align:right;\"> 29371 </td>\n",
       "   <td style=\"text-align:left;\"> chr1:29370-29371 </td>\n",
       "   <td style=\"text-align:left;\"> WASH7P </td>\n",
       "   <td style=\"text-align:right;\"> 0.000230 </td>\n",
       "   <td style=\"text-align:left;\"> TSS_Pol2_RNAseq </td>\n",
       "   <td style=\"text-align:left;\"> WASH7P </td>\n",
       "   <td style=\"text-align:right;\"> 1 </td>\n",
       "  </tr>\n",
       "  <tr>\n",
       "   <td style=\"text-align:left;\"> chr1 </td>\n",
       "   <td style=\"text-align:right;\"> 826796 </td>\n",
       "   <td style=\"text-align:right;\"> 828040 </td>\n",
       "   <td style=\"text-align:left;\"> chr1:826796-828040 </td>\n",
       "   <td style=\"text-align:left;\"> chr1 </td>\n",
       "   <td style=\"text-align:right;\"> 827522 </td>\n",
       "   <td style=\"text-align:right;\"> 827523 </td>\n",
       "   <td style=\"text-align:left;\"> chr1:827522-827523 </td>\n",
       "   <td style=\"text-align:left;\"> LINC00115 </td>\n",
       "   <td style=\"text-align:right;\"> 64.465600 </td>\n",
       "   <td style=\"text-align:left;\"> TSS_Pol2_RNAseq </td>\n",
       "   <td style=\"text-align:left;\"> LINC00115 </td>\n",
       "   <td style=\"text-align:right;\"> 1 </td>\n",
       "  </tr>\n",
       "  <tr>\n",
       "   <td style=\"text-align:left;\"> chr1 </td>\n",
       "   <td style=\"text-align:right;\"> 826796 </td>\n",
       "   <td style=\"text-align:right;\"> 828040 </td>\n",
       "   <td style=\"text-align:left;\"> chr1:826796-828040 </td>\n",
       "   <td style=\"text-align:left;\"> chr1 </td>\n",
       "   <td style=\"text-align:right;\"> 827590 </td>\n",
       "   <td style=\"text-align:right;\"> 827591 </td>\n",
       "   <td style=\"text-align:left;\"> chr1:827590-827591 </td>\n",
       "   <td style=\"text-align:left;\"> LINC01128 </td>\n",
       "   <td style=\"text-align:right;\"> 64.460300 </td>\n",
       "   <td style=\"text-align:left;\"> TSS_Pol2_RNAseq </td>\n",
       "   <td style=\"text-align:left;\"> LINC01128 </td>\n",
       "   <td style=\"text-align:right;\"> 1 </td>\n",
       "  </tr>\n",
       "  <tr>\n",
       "   <td style=\"text-align:left;\"> chr1 </td>\n",
       "   <td style=\"text-align:right;\"> 876493 </td>\n",
       "   <td style=\"text-align:right;\"> 877795 </td>\n",
       "   <td style=\"text-align:left;\"> chr1:876493-877795 </td>\n",
       "   <td style=\"text-align:left;\"> chr1 </td>\n",
       "   <td style=\"text-align:right;\"> 876802 </td>\n",
       "   <td style=\"text-align:right;\"> 876803 </td>\n",
       "   <td style=\"text-align:left;\"> chr1:876802-876803 </td>\n",
       "   <td style=\"text-align:left;\"> FAM41C </td>\n",
       "   <td style=\"text-align:right;\"> 0.007884 </td>\n",
       "   <td style=\"text-align:left;\"> TSS_Pol2_RNAseq </td>\n",
       "   <td style=\"text-align:left;\"> FAM41C </td>\n",
       "   <td style=\"text-align:right;\"> 1 </td>\n",
       "  </tr>\n",
       "  <tr>\n",
       "   <td style=\"text-align:left;\"> chr1 </td>\n",
       "   <td style=\"text-align:right;\"> 958722 </td>\n",
       "   <td style=\"text-align:right;\"> 959968 </td>\n",
       "   <td style=\"text-align:left;\"> chr1:958722-959968 </td>\n",
       "   <td style=\"text-align:left;\"> chr1 </td>\n",
       "   <td style=\"text-align:right;\"> 959256 </td>\n",
       "   <td style=\"text-align:right;\"> 959257 </td>\n",
       "   <td style=\"text-align:left;\"> chr1:959256-959257 </td>\n",
       "   <td style=\"text-align:left;\"> NOC2L </td>\n",
       "   <td style=\"text-align:right;\"> 104.866000 </td>\n",
       "   <td style=\"text-align:left;\"> TSS_Pol2_RNAseq </td>\n",
       "   <td style=\"text-align:left;\"> NOC2L </td>\n",
       "   <td style=\"text-align:right;\"> 1 </td>\n",
       "  </tr>\n",
       "  <tr>\n",
       "   <td style=\"text-align:left;\"> chr1 </td>\n",
       "   <td style=\"text-align:right;\"> 960468 </td>\n",
       "   <td style=\"text-align:right;\"> 961615 </td>\n",
       "   <td style=\"text-align:left;\"> chr1:960468-961615 </td>\n",
       "   <td style=\"text-align:left;\"> chr1 </td>\n",
       "   <td style=\"text-align:right;\"> 960583 </td>\n",
       "   <td style=\"text-align:right;\"> 960584 </td>\n",
       "   <td style=\"text-align:left;\"> chr1:960583-960584 </td>\n",
       "   <td style=\"text-align:left;\"> KLHL17 </td>\n",
       "   <td style=\"text-align:right;\"> 8.225710 </td>\n",
       "   <td style=\"text-align:left;\"> TSS_Pol2_RNAseq </td>\n",
       "   <td style=\"text-align:left;\"> KLHL17 </td>\n",
       "   <td style=\"text-align:right;\"> 1 </td>\n",
       "  </tr>\n",
       "</tbody>\n",
       "</table>"
      ]
     },
     "metadata": {},
     "output_type": "display_data"
    }
   ],
   "source": [
    "txt_fdiry = file.path(FD_RES, \"region_annotation\", \"fcc_astarr_macs_input_overlap\", \"genome_tss\")\n",
    "txt_fname = \"fcc_astarr_macs_input_overlap.genome_tss_pol2_rnaseq.bed.gz\"\n",
    "txt_fpath = file.path(txt_fdiry, txt_fname)\n",
    "\n",
    "dat = read_tsv(txt_fpath, col_names = FALSE, show_col_types = FALSE)\n",
    "\n",
    "dat_region_tss_overlap = dat\n",
    "print(dim(dat))\n",
    "fun_display_table(head(dat))"
   ]
  },
  {
   "cell_type": "code",
   "execution_count": 3,
   "id": "0e1c2ae6-975e-47d5-9896-22dc5be3283d",
   "metadata": {},
   "outputs": [
    {
     "data": {
      "text/html": [
       "<style>\n",
       ".list-inline {list-style: none; margin:0; padding: 0}\n",
       ".list-inline>li {display: inline-block}\n",
       ".list-inline>li:not(:last-child)::after {content: \"\\00b7\"; padding: 0 .5ex}\n",
       "</style>\n",
       "<ol class=list-inline><li>'Chrom'</li><li>'ChromStart'</li><li>'ChromEnd'</li><li>'Region'</li></ol>\n"
      ],
      "text/latex": [
       "\\begin{enumerate*}\n",
       "\\item 'Chrom'\n",
       "\\item 'ChromStart'\n",
       "\\item 'ChromEnd'\n",
       "\\item 'Region'\n",
       "\\end{enumerate*}\n"
      ],
      "text/markdown": [
       "1. 'Chrom'\n",
       "2. 'ChromStart'\n",
       "3. 'ChromEnd'\n",
       "4. 'Region'\n",
       "\n",
       "\n"
      ],
      "text/plain": [
       "[1] \"Chrom\"      \"ChromStart\" \"ChromEnd\"   \"Region\"    "
      ]
     },
     "metadata": {},
     "output_type": "display_data"
    }
   ],
   "source": [
    "txt_fdiry = file.path(FD_RES, \"region\", \"fcc_astarr_macs_merge\", \"summary\")\n",
    "txt_fname = \"description.tsv\"\n",
    "txt_fpath = file.path(txt_fdiry, txt_fname)\n",
    "dat_cname = read_tsv(txt_fpath, show_col_types = FALSE)\n",
    "vec_txt_cname_A = dat_cname$Name\n",
    "vec_txt_cname_A"
   ]
  },
  {
   "cell_type": "code",
   "execution_count": 4,
   "id": "e7d3a4f1-c240-4beb-ac97-93ae0b8b4840",
   "metadata": {},
   "outputs": [
    {
     "data": {
      "text/html": [
       "<style>\n",
       ".list-inline {list-style: none; margin:0; padding: 0}\n",
       ".list-inline>li {display: inline-block}\n",
       ".list-inline>li:not(:last-child)::after {content: \"\\00b7\"; padding: 0 .5ex}\n",
       "</style>\n",
       "<ol class=list-inline><li>'Chrom'</li><li>'ChromStart'</li><li>'ChromEnd'</li><li>'Region'</li><li>'Gene'</li><li>'Score'</li><li>'Group'</li><li>'Label'</li></ol>\n"
      ],
      "text/latex": [
       "\\begin{enumerate*}\n",
       "\\item 'Chrom'\n",
       "\\item 'ChromStart'\n",
       "\\item 'ChromEnd'\n",
       "\\item 'Region'\n",
       "\\item 'Gene'\n",
       "\\item 'Score'\n",
       "\\item 'Group'\n",
       "\\item 'Label'\n",
       "\\end{enumerate*}\n"
      ],
      "text/markdown": [
       "1. 'Chrom'\n",
       "2. 'ChromStart'\n",
       "3. 'ChromEnd'\n",
       "4. 'Region'\n",
       "5. 'Gene'\n",
       "6. 'Score'\n",
       "7. 'Group'\n",
       "8. 'Label'\n",
       "\n",
       "\n"
      ],
      "text/plain": [
       "[1] \"Chrom\"      \"ChromStart\" \"ChromEnd\"   \"Region\"     \"Gene\"      \n",
       "[6] \"Score\"      \"Group\"      \"Label\"     "
      ]
     },
     "metadata": {},
     "output_type": "display_data"
    }
   ],
   "source": [
    "txt_fdiry = file.path(FD_RES, \"region\", \"genome_tss\", \"summary\")\n",
    "txt_fname = \"description.tsv\"\n",
    "txt_fpath = file.path(txt_fdiry, txt_fname)\n",
    "dat_cname = read_tsv(txt_fpath, show_col_types = FALSE)\n",
    "vec_txt_cname_B = dat_cname$Name\n",
    "vec_txt_cname_B"
   ]
  },
  {
   "cell_type": "code",
   "execution_count": 8,
   "id": "5bddd5fb-07c9-40e6-b3b5-3197e67e7b4d",
   "metadata": {},
   "outputs": [],
   "source": [
    "### get total column names for annotation table\n",
    "vec_txt_cname = c(\n",
    "    #paste0(vec_txt_cname_A, \"_A\"),\n",
    "    paste0(vec_txt_cname_A),\n",
    "    paste0(vec_txt_cname_B, \"_B\")\n",
    ")"
   ]
  },
  {
   "cell_type": "code",
   "execution_count": null,
   "id": "bac05cd2-3369-44ee-b6d0-d4d1d4a37fe8",
   "metadata": {},
   "outputs": [],
   "source": []
  },
  {
   "cell_type": "code",
   "execution_count": null,
   "id": "67d55aaf-2798-4cca-9c8a-16786928a9b4",
   "metadata": {},
   "outputs": [],
   "source": []
  },
  {
   "cell_type": "code",
   "execution_count": null,
   "id": "d2015513-18b3-47a6-93ca-83ff6a483606",
   "metadata": {},
   "outputs": [],
   "source": []
  },
  {
   "cell_type": "markdown",
   "id": "88c55e0c-f42a-4ad3-87ac-e5d6b63ba5ae",
   "metadata": {},
   "source": [
    "**Question: why closest pair more than region total number**"
   ]
  },
  {
   "cell_type": "code",
   "execution_count": 17,
   "id": "4c0874a3-2679-46d0-8135-12bc10929532",
   "metadata": {},
   "outputs": [
    {
     "name": "stdout",
     "output_type": "stream",
     "text": [
      "[1] 151558     13\n"
     ]
    },
    {
     "data": {
      "text/html": [
       "<table>\n",
       " <thead>\n",
       "  <tr>\n",
       "   <th style=\"text-align:left;\"> X1 </th>\n",
       "   <th style=\"text-align:right;\"> X2 </th>\n",
       "   <th style=\"text-align:right;\"> X3 </th>\n",
       "   <th style=\"text-align:left;\"> X4 </th>\n",
       "   <th style=\"text-align:left;\"> X5 </th>\n",
       "   <th style=\"text-align:right;\"> X6 </th>\n",
       "   <th style=\"text-align:right;\"> X7 </th>\n",
       "   <th style=\"text-align:left;\"> X8 </th>\n",
       "   <th style=\"text-align:left;\"> X9 </th>\n",
       "   <th style=\"text-align:right;\"> X10 </th>\n",
       "   <th style=\"text-align:left;\"> X11 </th>\n",
       "   <th style=\"text-align:left;\"> X12 </th>\n",
       "   <th style=\"text-align:right;\"> X13 </th>\n",
       "  </tr>\n",
       " </thead>\n",
       "<tbody>\n",
       "  <tr>\n",
       "   <td style=\"text-align:left;\"> chr1 </td>\n",
       "   <td style=\"text-align:right;\"> 10038 </td>\n",
       "   <td style=\"text-align:right;\"> 10405 </td>\n",
       "   <td style=\"text-align:left;\"> chr1:10038-10405 </td>\n",
       "   <td style=\"text-align:left;\"> chr1 </td>\n",
       "   <td style=\"text-align:right;\"> 29370 </td>\n",
       "   <td style=\"text-align:right;\"> 29371 </td>\n",
       "   <td style=\"text-align:left;\"> chr1:29370-29371 </td>\n",
       "   <td style=\"text-align:left;\"> WASH7P </td>\n",
       "   <td style=\"text-align:right;\"> 0.00023 </td>\n",
       "   <td style=\"text-align:left;\"> TSS_Pol2_RNAseq </td>\n",
       "   <td style=\"text-align:left;\"> WASH7P </td>\n",
       "   <td style=\"text-align:right;\"> 18966 </td>\n",
       "  </tr>\n",
       "  <tr>\n",
       "   <td style=\"text-align:left;\"> chr1 </td>\n",
       "   <td style=\"text-align:right;\"> 14282 </td>\n",
       "   <td style=\"text-align:right;\"> 14614 </td>\n",
       "   <td style=\"text-align:left;\"> chr1:14282-14614 </td>\n",
       "   <td style=\"text-align:left;\"> chr1 </td>\n",
       "   <td style=\"text-align:right;\"> 29370 </td>\n",
       "   <td style=\"text-align:right;\"> 29371 </td>\n",
       "   <td style=\"text-align:left;\"> chr1:29370-29371 </td>\n",
       "   <td style=\"text-align:left;\"> WASH7P </td>\n",
       "   <td style=\"text-align:right;\"> 0.00023 </td>\n",
       "   <td style=\"text-align:left;\"> TSS_Pol2_RNAseq </td>\n",
       "   <td style=\"text-align:left;\"> WASH7P </td>\n",
       "   <td style=\"text-align:right;\"> 14757 </td>\n",
       "  </tr>\n",
       "  <tr>\n",
       "   <td style=\"text-align:left;\"> chr1 </td>\n",
       "   <td style=\"text-align:right;\"> 16025 </td>\n",
       "   <td style=\"text-align:right;\"> 16338 </td>\n",
       "   <td style=\"text-align:left;\"> chr1:16025-16338 </td>\n",
       "   <td style=\"text-align:left;\"> chr1 </td>\n",
       "   <td style=\"text-align:right;\"> 29370 </td>\n",
       "   <td style=\"text-align:right;\"> 29371 </td>\n",
       "   <td style=\"text-align:left;\"> chr1:29370-29371 </td>\n",
       "   <td style=\"text-align:left;\"> WASH7P </td>\n",
       "   <td style=\"text-align:right;\"> 0.00023 </td>\n",
       "   <td style=\"text-align:left;\"> TSS_Pol2_RNAseq </td>\n",
       "   <td style=\"text-align:left;\"> WASH7P </td>\n",
       "   <td style=\"text-align:right;\"> 13033 </td>\n",
       "  </tr>\n",
       "  <tr>\n",
       "   <td style=\"text-align:left;\"> chr1 </td>\n",
       "   <td style=\"text-align:right;\"> 17288 </td>\n",
       "   <td style=\"text-align:right;\"> 17689 </td>\n",
       "   <td style=\"text-align:left;\"> chr1:17288-17689 </td>\n",
       "   <td style=\"text-align:left;\"> chr1 </td>\n",
       "   <td style=\"text-align:right;\"> 29370 </td>\n",
       "   <td style=\"text-align:right;\"> 29371 </td>\n",
       "   <td style=\"text-align:left;\"> chr1:29370-29371 </td>\n",
       "   <td style=\"text-align:left;\"> WASH7P </td>\n",
       "   <td style=\"text-align:right;\"> 0.00023 </td>\n",
       "   <td style=\"text-align:left;\"> TSS_Pol2_RNAseq </td>\n",
       "   <td style=\"text-align:left;\"> WASH7P </td>\n",
       "   <td style=\"text-align:right;\"> 11682 </td>\n",
       "  </tr>\n",
       "  <tr>\n",
       "   <td style=\"text-align:left;\"> chr1 </td>\n",
       "   <td style=\"text-align:right;\"> 28934 </td>\n",
       "   <td style=\"text-align:right;\"> 29499 </td>\n",
       "   <td style=\"text-align:left;\"> chr1:28934-29499 </td>\n",
       "   <td style=\"text-align:left;\"> chr1 </td>\n",
       "   <td style=\"text-align:right;\"> 29370 </td>\n",
       "   <td style=\"text-align:right;\"> 29371 </td>\n",
       "   <td style=\"text-align:left;\"> chr1:29370-29371 </td>\n",
       "   <td style=\"text-align:left;\"> WASH7P </td>\n",
       "   <td style=\"text-align:right;\"> 0.00023 </td>\n",
       "   <td style=\"text-align:left;\"> TSS_Pol2_RNAseq </td>\n",
       "   <td style=\"text-align:left;\"> WASH7P </td>\n",
       "   <td style=\"text-align:right;\"> 0 </td>\n",
       "  </tr>\n",
       "  <tr>\n",
       "   <td style=\"text-align:left;\"> chr1 </td>\n",
       "   <td style=\"text-align:right;\"> 115429 </td>\n",
       "   <td style=\"text-align:right;\"> 115969 </td>\n",
       "   <td style=\"text-align:left;\"> chr1:115429-115969 </td>\n",
       "   <td style=\"text-align:left;\"> chr1 </td>\n",
       "   <td style=\"text-align:right;\"> 29370 </td>\n",
       "   <td style=\"text-align:right;\"> 29371 </td>\n",
       "   <td style=\"text-align:left;\"> chr1:29370-29371 </td>\n",
       "   <td style=\"text-align:left;\"> WASH7P </td>\n",
       "   <td style=\"text-align:right;\"> 0.00023 </td>\n",
       "   <td style=\"text-align:left;\"> TSS_Pol2_RNAseq </td>\n",
       "   <td style=\"text-align:left;\"> WASH7P </td>\n",
       "   <td style=\"text-align:right;\"> 86059 </td>\n",
       "  </tr>\n",
       "</tbody>\n",
       "</table>"
      ]
     },
     "metadata": {},
     "output_type": "display_data"
    }
   ],
   "source": [
    "txt_fdiry = file.path(FD_RES, \"region_closest\", \"fcc_astarr_macs_input_overlap\", \"genome_tss\")\n",
    "txt_fname = \"fcc_astarr_macs_input_overlap.genome_tss_pol2_rnaseq.bed.gz\"\n",
    "txt_fpath = file.path(txt_fdiry, txt_fname)\n",
    "\n",
    "dat = read_tsv(txt_fpath, col_names = FALSE, show_col_types = FALSE)\n",
    "\n",
    "dat_region_tss_closest = dat\n",
    "print(dim(dat))\n",
    "fun_display_table(head(dat))"
   ]
  },
  {
   "cell_type": "code",
   "execution_count": 36,
   "id": "a469dd51-dff9-4b03-8935-1f79834fc7aa",
   "metadata": {},
   "outputs": [
    {
     "name": "stdout",
     "output_type": "stream",
     "text": [
      "[1] 151558     15\n"
     ]
    },
    {
     "data": {
      "text/html": [
       "<table>\n",
       " <thead>\n",
       "  <tr>\n",
       "   <th style=\"text-align:left;\"> Chrom_A </th>\n",
       "   <th style=\"text-align:right;\"> ChromStart_A </th>\n",
       "   <th style=\"text-align:right;\"> ChromEnd_A </th>\n",
       "   <th style=\"text-align:left;\"> Region_A </th>\n",
       "   <th style=\"text-align:left;\"> Chrom_B </th>\n",
       "   <th style=\"text-align:right;\"> ChromStart_B </th>\n",
       "   <th style=\"text-align:right;\"> ChromEnd_B </th>\n",
       "   <th style=\"text-align:left;\"> Region_B </th>\n",
       "   <th style=\"text-align:left;\"> Gene_B </th>\n",
       "   <th style=\"text-align:right;\"> Score_B </th>\n",
       "   <th style=\"text-align:left;\"> Group_B </th>\n",
       "   <th style=\"text-align:left;\"> Label_B </th>\n",
       "   <th style=\"text-align:right;\"> Distance </th>\n",
       "   <th style=\"text-align:left;\"> Annotation_A </th>\n",
       "   <th style=\"text-align:left;\"> Annotation_B </th>\n",
       "  </tr>\n",
       " </thead>\n",
       "<tbody>\n",
       "  <tr>\n",
       "   <td style=\"text-align:left;\"> chr1 </td>\n",
       "   <td style=\"text-align:right;\"> 10038 </td>\n",
       "   <td style=\"text-align:right;\"> 10405 </td>\n",
       "   <td style=\"text-align:left;\"> chr1:10038-10405 </td>\n",
       "   <td style=\"text-align:left;\"> chr1 </td>\n",
       "   <td style=\"text-align:right;\"> 29370 </td>\n",
       "   <td style=\"text-align:right;\"> 29371 </td>\n",
       "   <td style=\"text-align:left;\"> chr1:29370-29371 </td>\n",
       "   <td style=\"text-align:left;\"> WASH7P </td>\n",
       "   <td style=\"text-align:right;\"> 0.00023 </td>\n",
       "   <td style=\"text-align:left;\"> TSS_Pol2_RNAseq </td>\n",
       "   <td style=\"text-align:left;\"> WASH7P </td>\n",
       "   <td style=\"text-align:right;\"> 18966 </td>\n",
       "   <td style=\"text-align:left;\"> fcc_astarr_macs_input_overlap </td>\n",
       "   <td style=\"text-align:left;\"> genome_tss_pol2_rnaseq </td>\n",
       "  </tr>\n",
       "  <tr>\n",
       "   <td style=\"text-align:left;\"> chr1 </td>\n",
       "   <td style=\"text-align:right;\"> 14282 </td>\n",
       "   <td style=\"text-align:right;\"> 14614 </td>\n",
       "   <td style=\"text-align:left;\"> chr1:14282-14614 </td>\n",
       "   <td style=\"text-align:left;\"> chr1 </td>\n",
       "   <td style=\"text-align:right;\"> 29370 </td>\n",
       "   <td style=\"text-align:right;\"> 29371 </td>\n",
       "   <td style=\"text-align:left;\"> chr1:29370-29371 </td>\n",
       "   <td style=\"text-align:left;\"> WASH7P </td>\n",
       "   <td style=\"text-align:right;\"> 0.00023 </td>\n",
       "   <td style=\"text-align:left;\"> TSS_Pol2_RNAseq </td>\n",
       "   <td style=\"text-align:left;\"> WASH7P </td>\n",
       "   <td style=\"text-align:right;\"> 14757 </td>\n",
       "   <td style=\"text-align:left;\"> fcc_astarr_macs_input_overlap </td>\n",
       "   <td style=\"text-align:left;\"> genome_tss_pol2_rnaseq </td>\n",
       "  </tr>\n",
       "  <tr>\n",
       "   <td style=\"text-align:left;\"> chr1 </td>\n",
       "   <td style=\"text-align:right;\"> 16025 </td>\n",
       "   <td style=\"text-align:right;\"> 16338 </td>\n",
       "   <td style=\"text-align:left;\"> chr1:16025-16338 </td>\n",
       "   <td style=\"text-align:left;\"> chr1 </td>\n",
       "   <td style=\"text-align:right;\"> 29370 </td>\n",
       "   <td style=\"text-align:right;\"> 29371 </td>\n",
       "   <td style=\"text-align:left;\"> chr1:29370-29371 </td>\n",
       "   <td style=\"text-align:left;\"> WASH7P </td>\n",
       "   <td style=\"text-align:right;\"> 0.00023 </td>\n",
       "   <td style=\"text-align:left;\"> TSS_Pol2_RNAseq </td>\n",
       "   <td style=\"text-align:left;\"> WASH7P </td>\n",
       "   <td style=\"text-align:right;\"> 13033 </td>\n",
       "   <td style=\"text-align:left;\"> fcc_astarr_macs_input_overlap </td>\n",
       "   <td style=\"text-align:left;\"> genome_tss_pol2_rnaseq </td>\n",
       "  </tr>\n",
       "  <tr>\n",
       "   <td style=\"text-align:left;\"> chr1 </td>\n",
       "   <td style=\"text-align:right;\"> 17288 </td>\n",
       "   <td style=\"text-align:right;\"> 17689 </td>\n",
       "   <td style=\"text-align:left;\"> chr1:17288-17689 </td>\n",
       "   <td style=\"text-align:left;\"> chr1 </td>\n",
       "   <td style=\"text-align:right;\"> 29370 </td>\n",
       "   <td style=\"text-align:right;\"> 29371 </td>\n",
       "   <td style=\"text-align:left;\"> chr1:29370-29371 </td>\n",
       "   <td style=\"text-align:left;\"> WASH7P </td>\n",
       "   <td style=\"text-align:right;\"> 0.00023 </td>\n",
       "   <td style=\"text-align:left;\"> TSS_Pol2_RNAseq </td>\n",
       "   <td style=\"text-align:left;\"> WASH7P </td>\n",
       "   <td style=\"text-align:right;\"> 11682 </td>\n",
       "   <td style=\"text-align:left;\"> fcc_astarr_macs_input_overlap </td>\n",
       "   <td style=\"text-align:left;\"> genome_tss_pol2_rnaseq </td>\n",
       "  </tr>\n",
       "  <tr>\n",
       "   <td style=\"text-align:left;\"> chr1 </td>\n",
       "   <td style=\"text-align:right;\"> 28934 </td>\n",
       "   <td style=\"text-align:right;\"> 29499 </td>\n",
       "   <td style=\"text-align:left;\"> chr1:28934-29499 </td>\n",
       "   <td style=\"text-align:left;\"> chr1 </td>\n",
       "   <td style=\"text-align:right;\"> 29370 </td>\n",
       "   <td style=\"text-align:right;\"> 29371 </td>\n",
       "   <td style=\"text-align:left;\"> chr1:29370-29371 </td>\n",
       "   <td style=\"text-align:left;\"> WASH7P </td>\n",
       "   <td style=\"text-align:right;\"> 0.00023 </td>\n",
       "   <td style=\"text-align:left;\"> TSS_Pol2_RNAseq </td>\n",
       "   <td style=\"text-align:left;\"> WASH7P </td>\n",
       "   <td style=\"text-align:right;\"> 0 </td>\n",
       "   <td style=\"text-align:left;\"> fcc_astarr_macs_input_overlap </td>\n",
       "   <td style=\"text-align:left;\"> genome_tss_pol2_rnaseq </td>\n",
       "  </tr>\n",
       "  <tr>\n",
       "   <td style=\"text-align:left;\"> chr1 </td>\n",
       "   <td style=\"text-align:right;\"> 115429 </td>\n",
       "   <td style=\"text-align:right;\"> 115969 </td>\n",
       "   <td style=\"text-align:left;\"> chr1:115429-115969 </td>\n",
       "   <td style=\"text-align:left;\"> chr1 </td>\n",
       "   <td style=\"text-align:right;\"> 29370 </td>\n",
       "   <td style=\"text-align:right;\"> 29371 </td>\n",
       "   <td style=\"text-align:left;\"> chr1:29370-29371 </td>\n",
       "   <td style=\"text-align:left;\"> WASH7P </td>\n",
       "   <td style=\"text-align:right;\"> 0.00023 </td>\n",
       "   <td style=\"text-align:left;\"> TSS_Pol2_RNAseq </td>\n",
       "   <td style=\"text-align:left;\"> WASH7P </td>\n",
       "   <td style=\"text-align:right;\"> 86059 </td>\n",
       "   <td style=\"text-align:left;\"> fcc_astarr_macs_input_overlap </td>\n",
       "   <td style=\"text-align:left;\"> genome_tss_pol2_rnaseq </td>\n",
       "  </tr>\n",
       "</tbody>\n",
       "</table>"
      ]
     },
     "metadata": {},
     "output_type": "display_data"
    }
   ],
   "source": [
    "txt_fdiry = file.path(FD_RES, \"region_closest\", \"fcc_astarr_macs_input_overlap\", \"summary\")\n",
    "txt_fname = \"region.pair.genome_tss.tsv\"\n",
    "txt_fpath = file.path(txt_fdiry, txt_fname)\n",
    "\n",
    "dat = read_tsv(txt_fpath, show_col_types = FALSE)\n",
    "dat = dat %>% dplyr::filter(Annotation_B == \"genome_tss_pol2_rnaseq\")\n",
    "\n",
    "dat_region_tss_closest = dat\n",
    "print(dim(dat))\n",
    "fun_display_table(head(dat))"
   ]
  },
  {
   "cell_type": "code",
   "execution_count": 37,
   "id": "557ad9a0-4938-4e77-9ae4-d9cfffd74a0d",
   "metadata": {},
   "outputs": [
    {
     "name": "stdout",
     "output_type": "stream",
     "text": [
      "[1] 151558     15\n"
     ]
    }
   ],
   "source": [
    "dat = dat_region_tss_closest\n",
    "dat = dat %>% dplyr::distinct()\n",
    "print(dim(dat))"
   ]
  },
  {
   "cell_type": "code",
   "execution_count": 39,
   "id": "b52bfa5a-43d2-44a5-8492-3b6b01d19368",
   "metadata": {},
   "outputs": [
    {
     "name": "stdout",
     "output_type": "stream",
     "text": [
      "[1] 150042      4\n"
     ]
    }
   ],
   "source": [
    "dat = dat_region_tss_closest\n",
    "dat = dat %>% \n",
    "    dplyr::select(Chrom_A, ChromStart_A, ChromEnd_A, Region_A) %>%\n",
    "    dplyr::distinct()\n",
    "print(dim(dat))"
   ]
  },
  {
   "cell_type": "code",
   "execution_count": 85,
   "id": "bcc2e65c-9d67-496c-84f0-538ef9c5e955",
   "metadata": {},
   "outputs": [
    {
     "name": "stdout",
     "output_type": "stream",
     "text": [
      "[1] 151191      6\n"
     ]
    }
   ],
   "source": [
    "dat = dat_region_tss_closest\n",
    "dat = dat %>% \n",
    "    dplyr::select(Chrom_A, ChromStart_A, ChromEnd_A, Region_A, Region_B, Distance) %>%\n",
    "    dplyr::distinct()\n",
    "print(dim(dat))"
   ]
  },
  {
   "cell_type": "code",
   "execution_count": null,
   "id": "03b53bd5-a10c-41f2-bfae-105535be6bd0",
   "metadata": {},
   "outputs": [],
   "source": []
  },
  {
   "cell_type": "markdown",
   "id": "a85f15e9-748b-4fc8-9a5f-3b077e5988af",
   "metadata": {},
   "source": [
    "**There are more than one gene having the same TSS**"
   ]
  },
  {
   "cell_type": "code",
   "execution_count": 42,
   "id": "e0ba3dd3-a262-460b-af1f-3b6e9317243d",
   "metadata": {},
   "outputs": [
    {
     "name": "stdout",
     "output_type": "stream",
     "text": [
      "[1] 11709     2\n"
     ]
    }
   ],
   "source": [
    "dat = dat_region_tss_closest\n",
    "dat = dat %>% \n",
    "    dplyr::select(Region_B, Gene_B) %>%\n",
    "    dplyr::distinct()\n",
    "print(dim(dat))"
   ]
  },
  {
   "cell_type": "code",
   "execution_count": 43,
   "id": "7c275bbc-ef9b-4341-a7e3-2f5d0f896fc2",
   "metadata": {},
   "outputs": [
    {
     "name": "stdout",
     "output_type": "stream",
     "text": [
      "[1] 150042\n",
      "[1] 11663\n"
     ]
    }
   ],
   "source": [
    "dat = dat_region_tss_closest\n",
    "vec = unique(dat$Region_A)\n",
    "print(length(vec))\n",
    "vec = unique(dat$Region_B)\n",
    "print(length(vec))"
   ]
  },
  {
   "cell_type": "code",
   "execution_count": 86,
   "id": "0a0a21b6-80f1-4d5a-9426-173ea574c492",
   "metadata": {},
   "outputs": [
    {
     "data": {
      "text/html": [
       "<table class=\"dataframe\">\n",
       "<caption>A spec_tbl_df: 2 × 15</caption>\n",
       "<thead>\n",
       "\t<tr><th scope=col>Chrom_A</th><th scope=col>ChromStart_A</th><th scope=col>ChromEnd_A</th><th scope=col>Region_A</th><th scope=col>Chrom_B</th><th scope=col>ChromStart_B</th><th scope=col>ChromEnd_B</th><th scope=col>Region_B</th><th scope=col>Gene_B</th><th scope=col>Score_B</th><th scope=col>Group_B</th><th scope=col>Label_B</th><th scope=col>Distance</th><th scope=col>Annotation_A</th><th scope=col>Annotation_B</th></tr>\n",
       "\t<tr><th scope=col>&lt;chr&gt;</th><th scope=col>&lt;dbl&gt;</th><th scope=col>&lt;dbl&gt;</th><th scope=col>&lt;chr&gt;</th><th scope=col>&lt;chr&gt;</th><th scope=col>&lt;dbl&gt;</th><th scope=col>&lt;dbl&gt;</th><th scope=col>&lt;chr&gt;</th><th scope=col>&lt;chr&gt;</th><th scope=col>&lt;dbl&gt;</th><th scope=col>&lt;chr&gt;</th><th scope=col>&lt;chr&gt;</th><th scope=col>&lt;dbl&gt;</th><th scope=col>&lt;chr&gt;</th><th scope=col>&lt;chr&gt;</th></tr>\n",
       "</thead>\n",
       "<tbody>\n",
       "\t<tr><td>chr1</td><td>12390502</td><td>12390872</td><td>chr1:12390502-12390872</td><td>chr1</td><td>12507245</td><td>12507246</td><td>chr1:12507245-12507246</td><td>SNORA59A</td><td>0.230725</td><td>TSS_Pol2_RNAseq</td><td>SNORA59A</td><td>116374</td><td>fcc_astarr_macs_input_overlap</td><td>genome_tss_pol2_rnaseq</td></tr>\n",
       "\t<tr><td>chr1</td><td>12390502</td><td>12390872</td><td>chr1:12390502-12390872</td><td>chr1</td><td>12507245</td><td>12507246</td><td>chr1:12507245-12507246</td><td>SNORA59B</td><td>0.230725</td><td>TSS_Pol2_RNAseq</td><td>SNORA59B</td><td>116374</td><td>fcc_astarr_macs_input_overlap</td><td>genome_tss_pol2_rnaseq</td></tr>\n",
       "</tbody>\n",
       "</table>\n"
      ],
      "text/latex": [
       "A spec\\_tbl\\_df: 2 × 15\n",
       "\\begin{tabular}{lllllllllllllll}\n",
       " Chrom\\_A & ChromStart\\_A & ChromEnd\\_A & Region\\_A & Chrom\\_B & ChromStart\\_B & ChromEnd\\_B & Region\\_B & Gene\\_B & Score\\_B & Group\\_B & Label\\_B & Distance & Annotation\\_A & Annotation\\_B\\\\\n",
       " <chr> & <dbl> & <dbl> & <chr> & <chr> & <dbl> & <dbl> & <chr> & <chr> & <dbl> & <chr> & <chr> & <dbl> & <chr> & <chr>\\\\\n",
       "\\hline\n",
       "\t chr1 & 12390502 & 12390872 & chr1:12390502-12390872 & chr1 & 12507245 & 12507246 & chr1:12507245-12507246 & SNORA59A & 0.230725 & TSS\\_Pol2\\_RNAseq & SNORA59A & 116374 & fcc\\_astarr\\_macs\\_input\\_overlap & genome\\_tss\\_pol2\\_rnaseq\\\\\n",
       "\t chr1 & 12390502 & 12390872 & chr1:12390502-12390872 & chr1 & 12507245 & 12507246 & chr1:12507245-12507246 & SNORA59B & 0.230725 & TSS\\_Pol2\\_RNAseq & SNORA59B & 116374 & fcc\\_astarr\\_macs\\_input\\_overlap & genome\\_tss\\_pol2\\_rnaseq\\\\\n",
       "\\end{tabular}\n"
      ],
      "text/markdown": [
       "\n",
       "A spec_tbl_df: 2 × 15\n",
       "\n",
       "| Chrom_A &lt;chr&gt; | ChromStart_A &lt;dbl&gt; | ChromEnd_A &lt;dbl&gt; | Region_A &lt;chr&gt; | Chrom_B &lt;chr&gt; | ChromStart_B &lt;dbl&gt; | ChromEnd_B &lt;dbl&gt; | Region_B &lt;chr&gt; | Gene_B &lt;chr&gt; | Score_B &lt;dbl&gt; | Group_B &lt;chr&gt; | Label_B &lt;chr&gt; | Distance &lt;dbl&gt; | Annotation_A &lt;chr&gt; | Annotation_B &lt;chr&gt; |\n",
       "|---|---|---|---|---|---|---|---|---|---|---|---|---|---|---|\n",
       "| chr1 | 12390502 | 12390872 | chr1:12390502-12390872 | chr1 | 12507245 | 12507246 | chr1:12507245-12507246 | SNORA59A | 0.230725 | TSS_Pol2_RNAseq | SNORA59A | 116374 | fcc_astarr_macs_input_overlap | genome_tss_pol2_rnaseq |\n",
       "| chr1 | 12390502 | 12390872 | chr1:12390502-12390872 | chr1 | 12507245 | 12507246 | chr1:12507245-12507246 | SNORA59B | 0.230725 | TSS_Pol2_RNAseq | SNORA59B | 116374 | fcc_astarr_macs_input_overlap | genome_tss_pol2_rnaseq |\n",
       "\n"
      ],
      "text/plain": [
       "  Chrom_A ChromStart_A ChromEnd_A Region_A               Chrom_B ChromStart_B\n",
       "1 chr1    12390502     12390872   chr1:12390502-12390872 chr1    12507245    \n",
       "2 chr1    12390502     12390872   chr1:12390502-12390872 chr1    12507245    \n",
       "  ChromEnd_B Region_B               Gene_B   Score_B  Group_B         Label_B \n",
       "1 12507246   chr1:12507245-12507246 SNORA59A 0.230725 TSS_Pol2_RNAseq SNORA59A\n",
       "2 12507246   chr1:12507245-12507246 SNORA59B 0.230725 TSS_Pol2_RNAseq SNORA59B\n",
       "  Distance Annotation_A                  Annotation_B          \n",
       "1 116374   fcc_astarr_macs_input_overlap genome_tss_pol2_rnaseq\n",
       "2 116374   fcc_astarr_macs_input_overlap genome_tss_pol2_rnaseq"
      ]
     },
     "metadata": {},
     "output_type": "display_data"
    }
   ],
   "source": [
    "dat = dat_region_tss_closest\n",
    "dat = dat %>% dplyr::filter(Region_A == \"chr1:12390502-12390872\")\n",
    "dat"
   ]
  },
  {
   "cell_type": "markdown",
   "id": "4631f452-946d-4d39-b258-a98c5ead36d5",
   "metadata": {},
   "source": [
    "**Multiple TSS could overlapped to the same ATAC**"
   ]
  },
  {
   "cell_type": "code",
   "execution_count": 45,
   "id": "c30530d9-0805-4a83-9fc6-36aee13c6f8a",
   "metadata": {},
   "outputs": [
    {
     "data": {
      "text/html": [
       "<table class=\"dataframe\">\n",
       "<caption>A spec_tbl_df: 2 × 15</caption>\n",
       "<thead>\n",
       "\t<tr><th scope=col>Chrom_A</th><th scope=col>ChromStart_A</th><th scope=col>ChromEnd_A</th><th scope=col>Region_A</th><th scope=col>Chrom_B</th><th scope=col>ChromStart_B</th><th scope=col>ChromEnd_B</th><th scope=col>Region_B</th><th scope=col>Gene_B</th><th scope=col>Score_B</th><th scope=col>Group_B</th><th scope=col>Label_B</th><th scope=col>Distance</th><th scope=col>Annotation_A</th><th scope=col>Annotation_B</th></tr>\n",
       "\t<tr><th scope=col>&lt;chr&gt;</th><th scope=col>&lt;dbl&gt;</th><th scope=col>&lt;dbl&gt;</th><th scope=col>&lt;chr&gt;</th><th scope=col>&lt;chr&gt;</th><th scope=col>&lt;dbl&gt;</th><th scope=col>&lt;dbl&gt;</th><th scope=col>&lt;chr&gt;</th><th scope=col>&lt;chr&gt;</th><th scope=col>&lt;dbl&gt;</th><th scope=col>&lt;chr&gt;</th><th scope=col>&lt;chr&gt;</th><th scope=col>&lt;dbl&gt;</th><th scope=col>&lt;chr&gt;</th><th scope=col>&lt;chr&gt;</th></tr>\n",
       "</thead>\n",
       "<tbody>\n",
       "\t<tr><td>chr1</td><td>100132375</td><td>100133491</td><td>chr1:100132375-100133491</td><td>chr1</td><td>100132930</td><td>100132931</td><td>chr1:100132930-100132931</td><td>SASS6 </td><td>120.003</td><td>TSS_Pol2_RNAseq</td><td>SASS6 </td><td>0</td><td>fcc_astarr_macs_input_overlap</td><td>genome_tss_pol2_rnaseq</td></tr>\n",
       "\t<tr><td>chr1</td><td>100132375</td><td>100133491</td><td>chr1:100132375-100133491</td><td>chr1</td><td>100133149</td><td>100133150</td><td>chr1:100133149-100133150</td><td>TRMT13</td><td>115.646</td><td>TSS_Pol2_RNAseq</td><td>TRMT13</td><td>0</td><td>fcc_astarr_macs_input_overlap</td><td>genome_tss_pol2_rnaseq</td></tr>\n",
       "</tbody>\n",
       "</table>\n"
      ],
      "text/latex": [
       "A spec\\_tbl\\_df: 2 × 15\n",
       "\\begin{tabular}{lllllllllllllll}\n",
       " Chrom\\_A & ChromStart\\_A & ChromEnd\\_A & Region\\_A & Chrom\\_B & ChromStart\\_B & ChromEnd\\_B & Region\\_B & Gene\\_B & Score\\_B & Group\\_B & Label\\_B & Distance & Annotation\\_A & Annotation\\_B\\\\\n",
       " <chr> & <dbl> & <dbl> & <chr> & <chr> & <dbl> & <dbl> & <chr> & <chr> & <dbl> & <chr> & <chr> & <dbl> & <chr> & <chr>\\\\\n",
       "\\hline\n",
       "\t chr1 & 100132375 & 100133491 & chr1:100132375-100133491 & chr1 & 100132930 & 100132931 & chr1:100132930-100132931 & SASS6  & 120.003 & TSS\\_Pol2\\_RNAseq & SASS6  & 0 & fcc\\_astarr\\_macs\\_input\\_overlap & genome\\_tss\\_pol2\\_rnaseq\\\\\n",
       "\t chr1 & 100132375 & 100133491 & chr1:100132375-100133491 & chr1 & 100133149 & 100133150 & chr1:100133149-100133150 & TRMT13 & 115.646 & TSS\\_Pol2\\_RNAseq & TRMT13 & 0 & fcc\\_astarr\\_macs\\_input\\_overlap & genome\\_tss\\_pol2\\_rnaseq\\\\\n",
       "\\end{tabular}\n"
      ],
      "text/markdown": [
       "\n",
       "A spec_tbl_df: 2 × 15\n",
       "\n",
       "| Chrom_A &lt;chr&gt; | ChromStart_A &lt;dbl&gt; | ChromEnd_A &lt;dbl&gt; | Region_A &lt;chr&gt; | Chrom_B &lt;chr&gt; | ChromStart_B &lt;dbl&gt; | ChromEnd_B &lt;dbl&gt; | Region_B &lt;chr&gt; | Gene_B &lt;chr&gt; | Score_B &lt;dbl&gt; | Group_B &lt;chr&gt; | Label_B &lt;chr&gt; | Distance &lt;dbl&gt; | Annotation_A &lt;chr&gt; | Annotation_B &lt;chr&gt; |\n",
       "|---|---|---|---|---|---|---|---|---|---|---|---|---|---|---|\n",
       "| chr1 | 100132375 | 100133491 | chr1:100132375-100133491 | chr1 | 100132930 | 100132931 | chr1:100132930-100132931 | SASS6  | 120.003 | TSS_Pol2_RNAseq | SASS6  | 0 | fcc_astarr_macs_input_overlap | genome_tss_pol2_rnaseq |\n",
       "| chr1 | 100132375 | 100133491 | chr1:100132375-100133491 | chr1 | 100133149 | 100133150 | chr1:100133149-100133150 | TRMT13 | 115.646 | TSS_Pol2_RNAseq | TRMT13 | 0 | fcc_astarr_macs_input_overlap | genome_tss_pol2_rnaseq |\n",
       "\n"
      ],
      "text/plain": [
       "  Chrom_A ChromStart_A ChromEnd_A Region_A                 Chrom_B ChromStart_B\n",
       "1 chr1    100132375    100133491  chr1:100132375-100133491 chr1    100132930   \n",
       "2 chr1    100132375    100133491  chr1:100132375-100133491 chr1    100133149   \n",
       "  ChromEnd_B Region_B                 Gene_B Score_B Group_B         Label_B\n",
       "1 100132931  chr1:100132930-100132931 SASS6  120.003 TSS_Pol2_RNAseq SASS6  \n",
       "2 100133150  chr1:100133149-100133150 TRMT13 115.646 TSS_Pol2_RNAseq TRMT13 \n",
       "  Distance Annotation_A                  Annotation_B          \n",
       "1 0        fcc_astarr_macs_input_overlap genome_tss_pol2_rnaseq\n",
       "2 0        fcc_astarr_macs_input_overlap genome_tss_pol2_rnaseq"
      ]
     },
     "metadata": {},
     "output_type": "display_data"
    }
   ],
   "source": [
    "dat = dat_region_tss_closest\n",
    "dat = dat %>% dplyr::filter(Region_A == \"chr1:100132375-100133491\")\n",
    "dat"
   ]
  },
  {
   "cell_type": "markdown",
   "id": "55232a4f-0a05-40eb-9715-3e83647c18c5",
   "metadata": {},
   "source": [
    "**Double check if that is the only possible reason? Answer: No**"
   ]
  },
  {
   "cell_type": "code",
   "execution_count": 78,
   "id": "c5ffb9c1-11a1-4782-bd51-a9e6590b046f",
   "metadata": {},
   "outputs": [
    {
     "name": "stdout",
     "output_type": "stream",
     "text": [
      "[1] 150042      5\n"
     ]
    }
   ],
   "source": [
    "dat = dat_region_tss_closest\n",
    "dat = dat %>% \n",
    "    dplyr::select(Chrom_A, ChromStart_A, ChromEnd_A, Region_A, Distance) %>%\n",
    "    dplyr::distinct()\n",
    "\n",
    "print(dim(dat))"
   ]
  },
  {
   "cell_type": "code",
   "execution_count": 87,
   "id": "770522bc-e5da-4ef3-9f5a-1edbaf935924",
   "metadata": {},
   "outputs": [
    {
     "name": "stdout",
     "output_type": "stream",
     "text": [
      "[1] 151191      6\n"
     ]
    }
   ],
   "source": [
    "dat = dat_region_tss_closest\n",
    "dat = dat %>% \n",
    "    dplyr::select(Chrom_A, ChromStart_A, ChromEnd_A, Region_A, Region_B, Distance) %>% \n",
    "    dplyr::distinct()\n",
    "\n",
    "print(dim(dat))"
   ]
  },
  {
   "cell_type": "code",
   "execution_count": 89,
   "id": "5fdf3e63-0b61-4ff7-893a-6f3165af4b20",
   "metadata": {},
   "outputs": [
    {
     "name": "stdout",
     "output_type": "stream",
     "text": [
      "[1] 151191      6\n",
      "[1] 10798\n",
      "[1] 9649\n",
      "[1] 140393\n",
      "[1] 140393\n"
     ]
    }
   ],
   "source": [
    "dat = dat_region_tss_closest\n",
    "dat = dat %>% \n",
    "    dplyr::select(Chrom_A, ChromStart_A, ChromEnd_A, Region_A, Region_B, Distance) %>% \n",
    "    dplyr::distinct()\n",
    "print(dim(dat))\n",
    "\n",
    "tmp = dat %>% dplyr::filter(Distance == 0)\n",
    "print(nrow(tmp))\n",
    "vec = unique(tmp$Region_A)\n",
    "print(length(vec))\n",
    "\n",
    "tmp = dat %>% dplyr::filter(Distance > 0)\n",
    "print(nrow(tmp))\n",
    "vec = unique(tmp$Region_A)\n",
    "print(length(vec))"
   ]
  },
  {
   "cell_type": "code",
   "execution_count": null,
   "id": "03a5d0e0-cb75-4966-b0c4-585945dee770",
   "metadata": {},
   "outputs": [],
   "source": []
  },
  {
   "cell_type": "code",
   "execution_count": null,
   "id": "6850520e-9e1f-4cf8-a570-5cdf6b13a0fd",
   "metadata": {},
   "outputs": [],
   "source": []
  },
  {
   "cell_type": "code",
   "execution_count": 91,
   "id": "150aadf5-9767-4b16-ae99-ae4391ce6fdc",
   "metadata": {},
   "outputs": [
    {
     "name": "stdout",
     "output_type": "stream",
     "text": [
      "[1] 9649\n"
     ]
    }
   ],
   "source": [
    "dat = dat_region_tss_closest\n",
    "dat = dat %>% dplyr::filter(Distance == 0)\n",
    "vec = unique(dat$Region_A)\n",
    "print(length(vec))"
   ]
  },
  {
   "cell_type": "code",
   "execution_count": null,
   "id": "0956c880-03f5-4da0-84e2-3794b456fafa",
   "metadata": {},
   "outputs": [],
   "source": []
  },
  {
   "cell_type": "code",
   "execution_count": null,
   "id": "0e694d56-bdfe-433e-b1b4-2d91508711a4",
   "metadata": {},
   "outputs": [],
   "source": []
  },
  {
   "cell_type": "code",
   "execution_count": 83,
   "id": "44f5cb73-9195-4c48-a3b2-8d118f69efbf",
   "metadata": {},
   "outputs": [
    {
     "data": {
      "text/html": [
       "334"
      ],
      "text/latex": [
       "334"
      ],
      "text/markdown": [
       "334"
      ],
      "text/plain": [
       "[1] 334"
      ]
     },
     "metadata": {},
     "output_type": "display_data"
    },
    {
     "data": {
      "text/html": [
       "<table class=\"dataframe\">\n",
       "<caption>A data.frame: 6 × 2</caption>\n",
       "<thead>\n",
       "\t<tr><th></th><th scope=col>Region</th><th scope=col>Count</th></tr>\n",
       "\t<tr><th></th><th scope=col>&lt;fct&gt;</th><th scope=col>&lt;int&gt;</th></tr>\n",
       "</thead>\n",
       "<tbody>\n",
       "\t<tr><th scope=row>1</th><td>chr1:12390502-12390872</td><td>2</td></tr>\n",
       "\t<tr><th scope=row>2</th><td>chr1:12400304-12401226</td><td>2</td></tr>\n",
       "\t<tr><th scope=row>3</th><td>chr1:12406103-12406691</td><td>2</td></tr>\n",
       "\t<tr><th scope=row>4</th><td>chr1:12407330-12408845</td><td>2</td></tr>\n",
       "\t<tr><th scope=row>5</th><td>chr1:12419471-12419894</td><td>2</td></tr>\n",
       "\t<tr><th scope=row>6</th><td>chr1:12427987-12428606</td><td>2</td></tr>\n",
       "</tbody>\n",
       "</table>\n"
      ],
      "text/latex": [
       "A data.frame: 6 × 2\n",
       "\\begin{tabular}{r|ll}\n",
       "  & Region & Count\\\\\n",
       "  & <fct> & <int>\\\\\n",
       "\\hline\n",
       "\t1 & chr1:12390502-12390872 & 2\\\\\n",
       "\t2 & chr1:12400304-12401226 & 2\\\\\n",
       "\t3 & chr1:12406103-12406691 & 2\\\\\n",
       "\t4 & chr1:12407330-12408845 & 2\\\\\n",
       "\t5 & chr1:12419471-12419894 & 2\\\\\n",
       "\t6 & chr1:12427987-12428606 & 2\\\\\n",
       "\\end{tabular}\n"
      ],
      "text/markdown": [
       "\n",
       "A data.frame: 6 × 2\n",
       "\n",
       "| <!--/--> | Region &lt;fct&gt; | Count &lt;int&gt; |\n",
       "|---|---|---|\n",
       "| 1 | chr1:12390502-12390872 | 2 |\n",
       "| 2 | chr1:12400304-12401226 | 2 |\n",
       "| 3 | chr1:12406103-12406691 | 2 |\n",
       "| 4 | chr1:12407330-12408845 | 2 |\n",
       "| 5 | chr1:12419471-12419894 | 2 |\n",
       "| 6 | chr1:12427987-12428606 | 2 |\n",
       "\n"
      ],
      "text/plain": [
       "  Region                 Count\n",
       "1 chr1:12390502-12390872 2    \n",
       "2 chr1:12400304-12401226 2    \n",
       "3 chr1:12406103-12406691 2    \n",
       "4 chr1:12407330-12408845 2    \n",
       "5 chr1:12419471-12419894 2    \n",
       "6 chr1:12427987-12428606 2    "
      ]
     },
     "metadata": {},
     "output_type": "display_data"
    }
   ],
   "source": [
    "dat = dat_region_tss_closest\n",
    "dat = dat %>% \n",
    "    dplyr::select(Chrom_A, ChromStart_A, ChromEnd_A, Region_A, Distance) %>%\n",
    "    dplyr::filter(Distance > 0)\n",
    "\n",
    "vec = dat$Region_A\n",
    "dat = as.data.frame(table(vec))\n",
    "colnames(dat) = c(\"Region\", \"Count\")\n",
    "\n",
    "dat = dat %>% dplyr::filter(Count > 1)\n",
    "vec = dat$Region\n",
    "dat %>% nrow\n",
    "dat %>% head"
   ]
  },
  {
   "cell_type": "code",
   "execution_count": 84,
   "id": "0923b5b7-2285-4860-8233-e4ac0c9ed461",
   "metadata": {},
   "outputs": [
    {
     "data": {
      "text/html": [
       "<table class=\"dataframe\">\n",
       "<caption>A spec_tbl_df: 2 × 15</caption>\n",
       "<thead>\n",
       "\t<tr><th scope=col>Chrom_A</th><th scope=col>ChromStart_A</th><th scope=col>ChromEnd_A</th><th scope=col>Region_A</th><th scope=col>Chrom_B</th><th scope=col>ChromStart_B</th><th scope=col>ChromEnd_B</th><th scope=col>Region_B</th><th scope=col>Gene_B</th><th scope=col>Score_B</th><th scope=col>Group_B</th><th scope=col>Label_B</th><th scope=col>Distance</th><th scope=col>Annotation_A</th><th scope=col>Annotation_B</th></tr>\n",
       "\t<tr><th scope=col>&lt;chr&gt;</th><th scope=col>&lt;dbl&gt;</th><th scope=col>&lt;dbl&gt;</th><th scope=col>&lt;chr&gt;</th><th scope=col>&lt;chr&gt;</th><th scope=col>&lt;dbl&gt;</th><th scope=col>&lt;dbl&gt;</th><th scope=col>&lt;chr&gt;</th><th scope=col>&lt;chr&gt;</th><th scope=col>&lt;dbl&gt;</th><th scope=col>&lt;chr&gt;</th><th scope=col>&lt;chr&gt;</th><th scope=col>&lt;dbl&gt;</th><th scope=col>&lt;chr&gt;</th><th scope=col>&lt;chr&gt;</th></tr>\n",
       "</thead>\n",
       "<tbody>\n",
       "\t<tr><td>chr1</td><td>12390502</td><td>12390872</td><td>chr1:12390502-12390872</td><td>chr1</td><td>12507245</td><td>12507246</td><td>chr1:12507245-12507246</td><td>SNORA59A</td><td>0.230725</td><td>TSS_Pol2_RNAseq</td><td>SNORA59A</td><td>116374</td><td>fcc_astarr_macs_input_overlap</td><td>genome_tss_pol2_rnaseq</td></tr>\n",
       "\t<tr><td>chr1</td><td>12390502</td><td>12390872</td><td>chr1:12390502-12390872</td><td>chr1</td><td>12507245</td><td>12507246</td><td>chr1:12507245-12507246</td><td>SNORA59B</td><td>0.230725</td><td>TSS_Pol2_RNAseq</td><td>SNORA59B</td><td>116374</td><td>fcc_astarr_macs_input_overlap</td><td>genome_tss_pol2_rnaseq</td></tr>\n",
       "</tbody>\n",
       "</table>\n"
      ],
      "text/latex": [
       "A spec\\_tbl\\_df: 2 × 15\n",
       "\\begin{tabular}{lllllllllllllll}\n",
       " Chrom\\_A & ChromStart\\_A & ChromEnd\\_A & Region\\_A & Chrom\\_B & ChromStart\\_B & ChromEnd\\_B & Region\\_B & Gene\\_B & Score\\_B & Group\\_B & Label\\_B & Distance & Annotation\\_A & Annotation\\_B\\\\\n",
       " <chr> & <dbl> & <dbl> & <chr> & <chr> & <dbl> & <dbl> & <chr> & <chr> & <dbl> & <chr> & <chr> & <dbl> & <chr> & <chr>\\\\\n",
       "\\hline\n",
       "\t chr1 & 12390502 & 12390872 & chr1:12390502-12390872 & chr1 & 12507245 & 12507246 & chr1:12507245-12507246 & SNORA59A & 0.230725 & TSS\\_Pol2\\_RNAseq & SNORA59A & 116374 & fcc\\_astarr\\_macs\\_input\\_overlap & genome\\_tss\\_pol2\\_rnaseq\\\\\n",
       "\t chr1 & 12390502 & 12390872 & chr1:12390502-12390872 & chr1 & 12507245 & 12507246 & chr1:12507245-12507246 & SNORA59B & 0.230725 & TSS\\_Pol2\\_RNAseq & SNORA59B & 116374 & fcc\\_astarr\\_macs\\_input\\_overlap & genome\\_tss\\_pol2\\_rnaseq\\\\\n",
       "\\end{tabular}\n"
      ],
      "text/markdown": [
       "\n",
       "A spec_tbl_df: 2 × 15\n",
       "\n",
       "| Chrom_A &lt;chr&gt; | ChromStart_A &lt;dbl&gt; | ChromEnd_A &lt;dbl&gt; | Region_A &lt;chr&gt; | Chrom_B &lt;chr&gt; | ChromStart_B &lt;dbl&gt; | ChromEnd_B &lt;dbl&gt; | Region_B &lt;chr&gt; | Gene_B &lt;chr&gt; | Score_B &lt;dbl&gt; | Group_B &lt;chr&gt; | Label_B &lt;chr&gt; | Distance &lt;dbl&gt; | Annotation_A &lt;chr&gt; | Annotation_B &lt;chr&gt; |\n",
       "|---|---|---|---|---|---|---|---|---|---|---|---|---|---|---|\n",
       "| chr1 | 12390502 | 12390872 | chr1:12390502-12390872 | chr1 | 12507245 | 12507246 | chr1:12507245-12507246 | SNORA59A | 0.230725 | TSS_Pol2_RNAseq | SNORA59A | 116374 | fcc_astarr_macs_input_overlap | genome_tss_pol2_rnaseq |\n",
       "| chr1 | 12390502 | 12390872 | chr1:12390502-12390872 | chr1 | 12507245 | 12507246 | chr1:12507245-12507246 | SNORA59B | 0.230725 | TSS_Pol2_RNAseq | SNORA59B | 116374 | fcc_astarr_macs_input_overlap | genome_tss_pol2_rnaseq |\n",
       "\n"
      ],
      "text/plain": [
       "  Chrom_A ChromStart_A ChromEnd_A Region_A               Chrom_B ChromStart_B\n",
       "1 chr1    12390502     12390872   chr1:12390502-12390872 chr1    12507245    \n",
       "2 chr1    12390502     12390872   chr1:12390502-12390872 chr1    12507245    \n",
       "  ChromEnd_B Region_B               Gene_B   Score_B  Group_B         Label_B \n",
       "1 12507246   chr1:12507245-12507246 SNORA59A 0.230725 TSS_Pol2_RNAseq SNORA59A\n",
       "2 12507246   chr1:12507245-12507246 SNORA59B 0.230725 TSS_Pol2_RNAseq SNORA59B\n",
       "  Distance Annotation_A                  Annotation_B          \n",
       "1 116374   fcc_astarr_macs_input_overlap genome_tss_pol2_rnaseq\n",
       "2 116374   fcc_astarr_macs_input_overlap genome_tss_pol2_rnaseq"
      ]
     },
     "metadata": {},
     "output_type": "display_data"
    }
   ],
   "source": [
    "dat = dat_region_tss_closest\n",
    "dat = dat %>% dplyr::filter(Region_A == \"chr1:12390502-12390872\")\n",
    "dat"
   ]
  },
  {
   "cell_type": "code",
   "execution_count": null,
   "id": "57d84bb5-6758-4fad-a259-3fbadac32021",
   "metadata": {},
   "outputs": [],
   "source": []
  },
  {
   "cell_type": "code",
   "execution_count": 47,
   "id": "5981c884-9618-4810-8dcd-0a27e4c55b27",
   "metadata": {},
   "outputs": [
    {
     "data": {
      "text/plain": [
       "\n",
       "  D==0    D>0 \n",
       " 10831 140727 "
      ]
     },
     "metadata": {},
     "output_type": "display_data"
    }
   ],
   "source": [
    "dat = dat_region_tss_closest\n",
    "\n",
    "dat = dat %>% dplyr::mutate(Note = ifelse(Distance == 0, \"D==0\", \"D>0\"))\n",
    "table(dat$Note)"
   ]
  },
  {
   "cell_type": "code",
   "execution_count": 48,
   "id": "c1fbb6fd-8c9e-4293-b650-ba78b2c2d2c2",
   "metadata": {},
   "outputs": [
    {
     "data": {
      "text/plain": [
       "\n",
       "  D==0    D>0 \n",
       " 10798 140393 "
      ]
     },
     "metadata": {},
     "output_type": "display_data"
    }
   ],
   "source": [
    "dat = dat_region_tss_closest\n",
    "dat = dat %>% \n",
    "    dplyr::select(Chrom_A, ChromStart_A, ChromEnd_A, Region_A, Region_B, Distance) %>%\n",
    "    dplyr::distinct()\n",
    "\n",
    "dat = dat %>% dplyr::mutate(Note = ifelse(Distance == 0, \"D==0\", \"D>0\"))\n",
    "table(dat$Note)"
   ]
  },
  {
   "cell_type": "code",
   "execution_count": null,
   "id": "15874d96-7150-4e10-abe2-e34ee41837e2",
   "metadata": {},
   "outputs": [],
   "source": []
  },
  {
   "cell_type": "code",
   "execution_count": 76,
   "id": "f68f3f2d-7b0d-4df4-ab6b-7515c6588896",
   "metadata": {},
   "outputs": [
    {
     "data": {
      "text/html": [
       "0"
      ],
      "text/latex": [
       "0"
      ],
      "text/markdown": [
       "0"
      ],
      "text/plain": [
       "[1] 0"
      ]
     },
     "metadata": {},
     "output_type": "display_data"
    },
    {
     "data": {
      "text/html": [
       "<table class=\"dataframe\">\n",
       "<caption>A data.frame: 0 × 2</caption>\n",
       "<thead>\n",
       "\t<tr><th scope=col>Region</th><th scope=col>Count</th></tr>\n",
       "\t<tr><th scope=col>&lt;fct&gt;</th><th scope=col>&lt;int&gt;</th></tr>\n",
       "</thead>\n",
       "<tbody>\n",
       "</tbody>\n",
       "</table>\n"
      ],
      "text/latex": [
       "A data.frame: 0 × 2\n",
       "\\begin{tabular}{ll}\n",
       " Region & Count\\\\\n",
       " <fct> & <int>\\\\\n",
       "\\hline\n",
       "\\end{tabular}\n"
      ],
      "text/markdown": [
       "\n",
       "A data.frame: 0 × 2\n",
       "\n",
       "| Region &lt;fct&gt; | Count &lt;int&gt; |\n",
       "|---|---|\n",
       "\n"
      ],
      "text/plain": [
       "     Region Count"
      ]
     },
     "metadata": {},
     "output_type": "display_data"
    }
   ],
   "source": [
    "dat = dat_region_tss_closest\n",
    "\n",
    "dat = dat %>% \n",
    "    dplyr::select(Chrom_A, ChromStart_A, ChromEnd_A, Region_A, Region_B, Distance) %>%\n",
    "    dplyr::filter(Distance > 0) %>%\n",
    "    dplyr::distinct()\n",
    "\n",
    "vec = dat$Region_A\n",
    "dat = as.data.frame(table(vec))\n",
    "colnames(dat) = c(\"Region\", \"Count\")\n",
    "\n",
    "dat = dat %>% dplyr::filter(Count > 1)\n",
    "vec = dat$Region\n",
    "dat %>% nrow\n",
    "dat %>% head"
   ]
  },
  {
   "cell_type": "code",
   "execution_count": 74,
   "id": "38a47485-7672-4dc7-a3da-bbf7ab418368",
   "metadata": {},
   "outputs": [
    {
     "data": {
      "text/html": [
       "<table class=\"dataframe\">\n",
       "<caption>A spec_tbl_df: 2 × 15</caption>\n",
       "<thead>\n",
       "\t<tr><th scope=col>Chrom_A</th><th scope=col>ChromStart_A</th><th scope=col>ChromEnd_A</th><th scope=col>Region_A</th><th scope=col>Chrom_B</th><th scope=col>ChromStart_B</th><th scope=col>ChromEnd_B</th><th scope=col>Region_B</th><th scope=col>Gene_B</th><th scope=col>Score_B</th><th scope=col>Group_B</th><th scope=col>Label_B</th><th scope=col>Distance</th><th scope=col>Annotation_A</th><th scope=col>Annotation_B</th></tr>\n",
       "\t<tr><th scope=col>&lt;chr&gt;</th><th scope=col>&lt;dbl&gt;</th><th scope=col>&lt;dbl&gt;</th><th scope=col>&lt;chr&gt;</th><th scope=col>&lt;chr&gt;</th><th scope=col>&lt;dbl&gt;</th><th scope=col>&lt;dbl&gt;</th><th scope=col>&lt;chr&gt;</th><th scope=col>&lt;chr&gt;</th><th scope=col>&lt;dbl&gt;</th><th scope=col>&lt;chr&gt;</th><th scope=col>&lt;chr&gt;</th><th scope=col>&lt;dbl&gt;</th><th scope=col>&lt;chr&gt;</th><th scope=col>&lt;chr&gt;</th></tr>\n",
       "</thead>\n",
       "<tbody>\n",
       "\t<tr><td>chr1</td><td>100894637</td><td>100896932</td><td>chr1:100894637-100896932</td><td>chr1</td><td>100895179</td><td>100895180</td><td>chr1:100895179-100895180</td><td>EXTL2  </td><td> 68.2628</td><td>TSS_Pol2_RNAseq</td><td>EXTL2  </td><td>0</td><td>fcc_astarr_macs_input_overlap</td><td>genome_tss_pol2_rnaseq</td></tr>\n",
       "\t<tr><td>chr1</td><td>100894637</td><td>100896932</td><td>chr1:100894637-100896932</td><td>chr1</td><td>100896089</td><td>100896090</td><td>chr1:100896089-100896090</td><td>SLC30A7</td><td>119.4770</td><td>TSS_Pol2_RNAseq</td><td>SLC30A7</td><td>0</td><td>fcc_astarr_macs_input_overlap</td><td>genome_tss_pol2_rnaseq</td></tr>\n",
       "</tbody>\n",
       "</table>\n"
      ],
      "text/latex": [
       "A spec\\_tbl\\_df: 2 × 15\n",
       "\\begin{tabular}{lllllllllllllll}\n",
       " Chrom\\_A & ChromStart\\_A & ChromEnd\\_A & Region\\_A & Chrom\\_B & ChromStart\\_B & ChromEnd\\_B & Region\\_B & Gene\\_B & Score\\_B & Group\\_B & Label\\_B & Distance & Annotation\\_A & Annotation\\_B\\\\\n",
       " <chr> & <dbl> & <dbl> & <chr> & <chr> & <dbl> & <dbl> & <chr> & <chr> & <dbl> & <chr> & <chr> & <dbl> & <chr> & <chr>\\\\\n",
       "\\hline\n",
       "\t chr1 & 100894637 & 100896932 & chr1:100894637-100896932 & chr1 & 100895179 & 100895180 & chr1:100895179-100895180 & EXTL2   &  68.2628 & TSS\\_Pol2\\_RNAseq & EXTL2   & 0 & fcc\\_astarr\\_macs\\_input\\_overlap & genome\\_tss\\_pol2\\_rnaseq\\\\\n",
       "\t chr1 & 100894637 & 100896932 & chr1:100894637-100896932 & chr1 & 100896089 & 100896090 & chr1:100896089-100896090 & SLC30A7 & 119.4770 & TSS\\_Pol2\\_RNAseq & SLC30A7 & 0 & fcc\\_astarr\\_macs\\_input\\_overlap & genome\\_tss\\_pol2\\_rnaseq\\\\\n",
       "\\end{tabular}\n"
      ],
      "text/markdown": [
       "\n",
       "A spec_tbl_df: 2 × 15\n",
       "\n",
       "| Chrom_A &lt;chr&gt; | ChromStart_A &lt;dbl&gt; | ChromEnd_A &lt;dbl&gt; | Region_A &lt;chr&gt; | Chrom_B &lt;chr&gt; | ChromStart_B &lt;dbl&gt; | ChromEnd_B &lt;dbl&gt; | Region_B &lt;chr&gt; | Gene_B &lt;chr&gt; | Score_B &lt;dbl&gt; | Group_B &lt;chr&gt; | Label_B &lt;chr&gt; | Distance &lt;dbl&gt; | Annotation_A &lt;chr&gt; | Annotation_B &lt;chr&gt; |\n",
       "|---|---|---|---|---|---|---|---|---|---|---|---|---|---|---|\n",
       "| chr1 | 100894637 | 100896932 | chr1:100894637-100896932 | chr1 | 100895179 | 100895180 | chr1:100895179-100895180 | EXTL2   |  68.2628 | TSS_Pol2_RNAseq | EXTL2   | 0 | fcc_astarr_macs_input_overlap | genome_tss_pol2_rnaseq |\n",
       "| chr1 | 100894637 | 100896932 | chr1:100894637-100896932 | chr1 | 100896089 | 100896090 | chr1:100896089-100896090 | SLC30A7 | 119.4770 | TSS_Pol2_RNAseq | SLC30A7 | 0 | fcc_astarr_macs_input_overlap | genome_tss_pol2_rnaseq |\n",
       "\n"
      ],
      "text/plain": [
       "  Chrom_A ChromStart_A ChromEnd_A Region_A                 Chrom_B ChromStart_B\n",
       "1 chr1    100894637    100896932  chr1:100894637-100896932 chr1    100895179   \n",
       "2 chr1    100894637    100896932  chr1:100894637-100896932 chr1    100896089   \n",
       "  ChromEnd_B Region_B                 Gene_B  Score_B  Group_B         Label_B\n",
       "1 100895180  chr1:100895179-100895180 EXTL2    68.2628 TSS_Pol2_RNAseq EXTL2  \n",
       "2 100896090  chr1:100896089-100896090 SLC30A7 119.4770 TSS_Pol2_RNAseq SLC30A7\n",
       "  Distance Annotation_A                  Annotation_B          \n",
       "1 0        fcc_astarr_macs_input_overlap genome_tss_pol2_rnaseq\n",
       "2 0        fcc_astarr_macs_input_overlap genome_tss_pol2_rnaseq"
      ]
     },
     "metadata": {},
     "output_type": "display_data"
    }
   ],
   "source": [
    "dat = dat_region_tss_closest\n",
    "dat = dat %>% dplyr::filter(Region_A == \"chr1:100894637-100896932\")\n",
    "dat"
   ]
  },
  {
   "cell_type": "code",
   "execution_count": 75,
   "id": "1dcf1089-ba7e-4a3d-9dad-06f81e2a4070",
   "metadata": {},
   "outputs": [
    {
     "name": "stdout",
     "output_type": "stream",
     "text": [
      "\u001b[90m# A tibble: 0 × 2\u001b[39m\n",
      "\u001b[90m# ℹ 2 variables: Region <chr>, Label <lgl>\u001b[39m\n"
     ]
    }
   ],
   "source": [
    "dat = dat_region_tss_closest\n",
    "dat = dat %>% dplyr::filter(Region_A %in% vec)\n",
    "lst = split(dat$Distance, dat$Region_A)\n",
    "lst = lapply(lst, function(vec){sum(vec) != 0})\n",
    "\n",
    "dat = tibble(Region = names(lst), Label = unlist(lst))\n",
    "dat = dat %>% dplyr::filter(Label)\n",
    "#dat = bind_rows(lst, .id = \"Region\")\n",
    "#head(dat)\n",
    "print(head(dat))"
   ]
  },
  {
   "cell_type": "code",
   "execution_count": 68,
   "id": "7088a999-7de1-4a42-a8f7-cb9f312ca466",
   "metadata": {},
   "outputs": [
    {
     "data": {
      "text/html": [
       "<table class=\"dataframe\">\n",
       "<caption>A spec_tbl_df: 2 × 15</caption>\n",
       "<thead>\n",
       "\t<tr><th scope=col>Chrom_A</th><th scope=col>ChromStart_A</th><th scope=col>ChromEnd_A</th><th scope=col>Region_A</th><th scope=col>Chrom_B</th><th scope=col>ChromStart_B</th><th scope=col>ChromEnd_B</th><th scope=col>Region_B</th><th scope=col>Gene_B</th><th scope=col>Score_B</th><th scope=col>Group_B</th><th scope=col>Label_B</th><th scope=col>Distance</th><th scope=col>Annotation_A</th><th scope=col>Annotation_B</th></tr>\n",
       "\t<tr><th scope=col>&lt;chr&gt;</th><th scope=col>&lt;dbl&gt;</th><th scope=col>&lt;dbl&gt;</th><th scope=col>&lt;chr&gt;</th><th scope=col>&lt;chr&gt;</th><th scope=col>&lt;dbl&gt;</th><th scope=col>&lt;dbl&gt;</th><th scope=col>&lt;chr&gt;</th><th scope=col>&lt;chr&gt;</th><th scope=col>&lt;dbl&gt;</th><th scope=col>&lt;chr&gt;</th><th scope=col>&lt;chr&gt;</th><th scope=col>&lt;dbl&gt;</th><th scope=col>&lt;chr&gt;</th><th scope=col>&lt;chr&gt;</th></tr>\n",
       "</thead>\n",
       "<tbody>\n",
       "\t<tr><td>chr1</td><td>12390502</td><td>12390872</td><td>chr1:12390502-12390872</td><td>chr1</td><td>12507245</td><td>12507246</td><td>chr1:12507245-12507246</td><td>SNORA59A</td><td>0.230725</td><td>TSS_Pol2_RNAseq</td><td>SNORA59A</td><td>116374</td><td>fcc_astarr_macs_input_overlap</td><td>genome_tss_pol2_rnaseq</td></tr>\n",
       "\t<tr><td>chr1</td><td>12390502</td><td>12390872</td><td>chr1:12390502-12390872</td><td>chr1</td><td>12507245</td><td>12507246</td><td>chr1:12507245-12507246</td><td>SNORA59B</td><td>0.230725</td><td>TSS_Pol2_RNAseq</td><td>SNORA59B</td><td>116374</td><td>fcc_astarr_macs_input_overlap</td><td>genome_tss_pol2_rnaseq</td></tr>\n",
       "</tbody>\n",
       "</table>\n"
      ],
      "text/latex": [
       "A spec\\_tbl\\_df: 2 × 15\n",
       "\\begin{tabular}{lllllllllllllll}\n",
       " Chrom\\_A & ChromStart\\_A & ChromEnd\\_A & Region\\_A & Chrom\\_B & ChromStart\\_B & ChromEnd\\_B & Region\\_B & Gene\\_B & Score\\_B & Group\\_B & Label\\_B & Distance & Annotation\\_A & Annotation\\_B\\\\\n",
       " <chr> & <dbl> & <dbl> & <chr> & <chr> & <dbl> & <dbl> & <chr> & <chr> & <dbl> & <chr> & <chr> & <dbl> & <chr> & <chr>\\\\\n",
       "\\hline\n",
       "\t chr1 & 12390502 & 12390872 & chr1:12390502-12390872 & chr1 & 12507245 & 12507246 & chr1:12507245-12507246 & SNORA59A & 0.230725 & TSS\\_Pol2\\_RNAseq & SNORA59A & 116374 & fcc\\_astarr\\_macs\\_input\\_overlap & genome\\_tss\\_pol2\\_rnaseq\\\\\n",
       "\t chr1 & 12390502 & 12390872 & chr1:12390502-12390872 & chr1 & 12507245 & 12507246 & chr1:12507245-12507246 & SNORA59B & 0.230725 & TSS\\_Pol2\\_RNAseq & SNORA59B & 116374 & fcc\\_astarr\\_macs\\_input\\_overlap & genome\\_tss\\_pol2\\_rnaseq\\\\\n",
       "\\end{tabular}\n"
      ],
      "text/markdown": [
       "\n",
       "A spec_tbl_df: 2 × 15\n",
       "\n",
       "| Chrom_A &lt;chr&gt; | ChromStart_A &lt;dbl&gt; | ChromEnd_A &lt;dbl&gt; | Region_A &lt;chr&gt; | Chrom_B &lt;chr&gt; | ChromStart_B &lt;dbl&gt; | ChromEnd_B &lt;dbl&gt; | Region_B &lt;chr&gt; | Gene_B &lt;chr&gt; | Score_B &lt;dbl&gt; | Group_B &lt;chr&gt; | Label_B &lt;chr&gt; | Distance &lt;dbl&gt; | Annotation_A &lt;chr&gt; | Annotation_B &lt;chr&gt; |\n",
       "|---|---|---|---|---|---|---|---|---|---|---|---|---|---|---|\n",
       "| chr1 | 12390502 | 12390872 | chr1:12390502-12390872 | chr1 | 12507245 | 12507246 | chr1:12507245-12507246 | SNORA59A | 0.230725 | TSS_Pol2_RNAseq | SNORA59A | 116374 | fcc_astarr_macs_input_overlap | genome_tss_pol2_rnaseq |\n",
       "| chr1 | 12390502 | 12390872 | chr1:12390502-12390872 | chr1 | 12507245 | 12507246 | chr1:12507245-12507246 | SNORA59B | 0.230725 | TSS_Pol2_RNAseq | SNORA59B | 116374 | fcc_astarr_macs_input_overlap | genome_tss_pol2_rnaseq |\n",
       "\n"
      ],
      "text/plain": [
       "  Chrom_A ChromStart_A ChromEnd_A Region_A               Chrom_B ChromStart_B\n",
       "1 chr1    12390502     12390872   chr1:12390502-12390872 chr1    12507245    \n",
       "2 chr1    12390502     12390872   chr1:12390502-12390872 chr1    12507245    \n",
       "  ChromEnd_B Region_B               Gene_B   Score_B  Group_B         Label_B \n",
       "1 12507246   chr1:12507245-12507246 SNORA59A 0.230725 TSS_Pol2_RNAseq SNORA59A\n",
       "2 12507246   chr1:12507245-12507246 SNORA59B 0.230725 TSS_Pol2_RNAseq SNORA59B\n",
       "  Distance Annotation_A                  Annotation_B          \n",
       "1 116374   fcc_astarr_macs_input_overlap genome_tss_pol2_rnaseq\n",
       "2 116374   fcc_astarr_macs_input_overlap genome_tss_pol2_rnaseq"
      ]
     },
     "metadata": {},
     "output_type": "display_data"
    }
   ],
   "source": [
    "dat = dat_region_tss_closest\n",
    "dat = dat %>% dplyr::filter(Region_A == \"chr1:12390502-12390872\")\n",
    "dat"
   ]
  },
  {
   "cell_type": "code",
   "execution_count": null,
   "id": "488872b6-ac14-4e15-8a7c-d7aebea814a7",
   "metadata": {},
   "outputs": [],
   "source": []
  }
 ],
 "metadata": {
  "kernelspec": {
   "display_name": "R",
   "language": "R",
   "name": "ir"
  },
  "language_info": {
   "codemirror_mode": "r",
   "file_extension": ".r",
   "mimetype": "text/x-r-source",
   "name": "R",
   "pygments_lexer": "r",
   "version": "4.4.2"
  }
 },
 "nbformat": 4,
 "nbformat_minor": 5
}
