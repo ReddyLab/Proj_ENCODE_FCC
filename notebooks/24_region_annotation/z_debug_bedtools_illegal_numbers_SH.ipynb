{
 "cells": [
  {
   "cell_type": "code",
   "execution_count": null,
   "id": "29d6f6bb-9b75-4619-8c0e-6d6c31785bc4",
   "metadata": {},
   "outputs": [],
   "source": []
  },
  {
   "cell_type": "code",
   "execution_count": 1,
   "id": "9b3ec435-cda5-4c0a-8856-8744e368b572",
   "metadata": {},
   "outputs": [
    {
     "name": "stdout",
     "output_type": "stream",
     "text": [
      "You are working on             Duke Server: RCC\n",
      "BASE DIRECTORY (FD_BASE):      /data/reddylab/Kuei\n",
      "REPO DIRECTORY (FD_REPO):      /data/reddylab/Kuei/repo\n",
      "WORK DIRECTORY (FD_WORK):      /data/reddylab/Kuei/work\n",
      "DATA DIRECTORY (FD_DATA):      /data/reddylab/Kuei/data\n",
      "CONTAINER DIR. (FD_SING):      /data/reddylab/Kuei/container\n",
      "\n",
      "You are working with           ENCODE FCC\n",
      "PATH OF PROJECT (FD_PRJ):      /data/reddylab/Kuei/repo/Proj_ENCODE_FCC\n",
      "PROJECT RESULTS (FD_RES):      /data/reddylab/Kuei/repo/Proj_ENCODE_FCC/results\n",
      "PROJECT SCRIPTS (FD_EXE):      /data/reddylab/Kuei/repo/Proj_ENCODE_FCC/scripts\n",
      "PROJECT DATA    (FD_DAT):      /data/reddylab/Kuei/repo/Proj_ENCODE_FCC/data\n",
      "PROJECT NOTE    (FD_NBK):      /data/reddylab/Kuei/repo/Proj_ENCODE_FCC/notebooks\n",
      "PROJECT DOCS    (FD_DOC):      /data/reddylab/Kuei/repo/Proj_ENCODE_FCC/docs\n",
      "PROJECT LOG     (FD_LOG):      /data/reddylab/Kuei/repo/Proj_ENCODE_FCC/log\n",
      "PROJECT REF     (FD_REF):      /data/reddylab/Kuei/repo/Proj_ENCODE_FCC/references\n",
      "PROJECT IMAGE   (FP_PRJ_SIF):  /data/reddylab/Kuei/container/project/singularity_proj_encode_fcc.sif\n",
      "PROJECT CONF.   (FP_CNF):      /data/reddylab/Kuei/repo/Proj_ENCODE_FCC/scripts/config_project.sh\n",
      "\n"
     ]
    }
   ],
   "source": [
    "source ../run_config_project.sh\n",
    "show_env"
   ]
  },
  {
   "cell_type": "code",
   "execution_count": null,
   "id": "0431ebcd-b68e-4be8-9eef-521827c4f06e",
   "metadata": {},
   "outputs": [],
   "source": []
  },
  {
   "cell_type": "code",
   "execution_count": null,
   "id": "2fd5f136-27c0-46e9-8f34-524193188bd7",
   "metadata": {},
   "outputs": [],
   "source": []
  },
  {
   "cell_type": "code",
   "execution_count": 15,
   "id": "20d287ee-87f3-4506-905c-d8a57cd92406",
   "metadata": {},
   "outputs": [
    {
     "name": "stdout",
     "output_type": "stream",
     "text": [
      "/data/reddylab/Kuei/repo/Proj_ENCODE_FCC/scripts/config_project.sh\n"
     ]
    }
   ],
   "source": [
    "echo ${FP_CNF}"
   ]
  },
  {
   "cell_type": "code",
   "execution_count": 47,
   "id": "de319f13-deef-4928-a72c-e867473ed421",
   "metadata": {},
   "outputs": [
    {
     "name": "stdout",
     "output_type": "stream",
     "text": [
      "chr1\t9976\t10475\tchr1:9976-10475\t62\t.\t-4.184\t0.204\t0.002\t7.358\t6.299\tKS91\tASTARR\tASTARR_R:csaw:KS91\n",
      "chr1\t14226\t14675\tchr1:14226-14675\t79\t.\t-6.187\t0.209\t0\t9.192\t7.917\tKS91\tASTARR\tASTARR_R:csaw:KS91\n",
      "chr1\t15976\t16525\tchr1:15976-16525\t42\t.\t-2.236\t0.196\t0.013\t5.062\t4.267\tKS91\tASTARR\tASTARR_R:csaw:KS91\n",
      "chr1\t17201\t17800\tchr1:17201-17800\t64\t.\t-1.944\t0.79\t0.021\t7.506\t6.429\tKS91\tASTARR\tASTARR_R:csaw:KS91\n",
      "chr1\t28876\t29650\tchr1:28876-29650\t76\t.\t-2.559\t0.691\t0.016\t8.94\t7.698\tKS91\tASTARR\tASTARR_R:csaw:KS91\n",
      "chr1\t30776\t31100\tchr1:30776-31100\t40\t.\t-2.501\t0.252\t0.003\t4.826\t4.06\tKS91\tASTARR\tASTARR_R:csaw:KS91\n",
      "chr1\t101576\t101875\tchr1:101576-101875\t14\t.\t-0.908\t0.113\t0.011\t1.736\t1.419\tKS91\tASTARR\tASTARR_R:csaw:KS91\n",
      "chr1\t115376\t115975\tchr1:115376-115975\t112\t.\t1.746\t0.563\t0.576\t13.143\t11.252\tKS91\tASTARR\tASTARR_A:csaw:KS91\n",
      "chr1\t118501\t118775\tchr1:118501-118775\t17\t.\t0.872\t0.084\t0.038\t2.102\t1.727\tKS91\tASTARR\tASTARR_A:csaw:KS91\n",
      "chr1\t136226\t136825\tchr1:136226-136825\t111\t.\t-2.27\t0.661\t0.021\t13.065\t11.192\tKS91\tASTARR\tASTARR_R:csaw:KS91\n"
     ]
    }
   ],
   "source": [
    "FP_INP2=/data/reddylab/Kuei/repo/Proj_ENCODE_FCC/results/region/fcc_astarr_csaw/K562.hg38.ASTARR.csaw.KS91.bed.gz\n",
    "fun_cat ${FP_INP2} | head"
   ]
  },
  {
   "cell_type": "code",
   "execution_count": 48,
   "id": "266976dc-1f25-4d6e-a196-10fbfc386e32",
   "metadata": {},
   "outputs": [
    {
     "name": "stdout",
     "output_type": "stream",
     "text": [
      "chr1\t10015\t10442\tchr1:10015-10442\tchr1\t9976\t10475\tchr1:9976-10475\t62\t.\t-4.184\t0.204\t0.002\t7.358\t6.299\tKS91\tASTARR\tASTARR_R:csaw:KS91\t427\n",
      "chr1\t14253\t14645\tchr1:14253-14645\tchr1\t14226\t14675\tchr1:14226-14675\t79\t.\t-6.187\t0.209\t0\t9.192\t7.917\tKS91\tASTARR\tASTARR_R:csaw:KS91\t392\n",
      "chr1\t16015\t16477\tchr1:16015-16477\tchr1\t15976\t16525\tchr1:15976-16525\t42\t.\t-2.236\t0.196\t0.013\t5.062\t4.267\tKS91\tASTARR\tASTARR_R:csaw:KS91\t462\n",
      "chr1\t17237\t17772\tchr1:17237-17772\tchr1\t17201\t17800\tchr1:17201-17800\t64\t.\t-1.944\t0.79\t0.021\t7.506\t6.429\tKS91\tASTARR\tASTARR_R:csaw:KS91\t535\n",
      "chr1\t28903\t29613\tchr1:28903-29613\tchr1\t28876\t29650\tchr1:28876-29650\t76\t.\t-2.559\t0.691\t0.016\t8.94\t7.698\tKS91\tASTARR\tASTARR_R:csaw:KS91\t710\n",
      "chr1\t30803\t31072\tchr1:30803-31072\tchr1\t30776\t31100\tchr1:30776-31100\t40\t.\t-2.501\t0.252\t0.003\t4.826\t4.06\tKS91\tASTARR\tASTARR_R:csaw:KS91\t269\n",
      "chr1\t101603\t101849\tchr1:101603-101849\tchr1\t101576\t101875\tchr1:101576-101875\t14\t.\t-0.908\t0.113\t0.011\t1.736\t1.419\tKS91\tASTARR\tASTARR_R:csaw:KS91\t246\n",
      "chr1\t115411\t115986\tchr1:115411-115986\tchr1\t115376\t115975\tchr1:115376-115975\t112\t.\t1.746\t0.563\t0.576\t13.143\t11.252\tKS91\tASTARR\tASTARR_A:csaw:KS91\t564\n",
      "chr1\t118518\t118743\tchr1:118518-118743\tchr1\t118501\t118775\tchr1:118501-118775\t17\t.\t0.872\t0.084\t0.038\t2.102\t1.727\tKS91\tASTARR\tASTARR_A:csaw:KS91\t225\n",
      "chr1\t136071\t137429\tchr1:136071-137429\tchr1\t136226\t136825\tchr1:136226-136825\t111\t.\t-2.27\t0.661\t0.021\t13.065\t11.192\tKS91\tASTARR\tASTARR_R:csaw:KS91\t599\n"
     ]
    }
   ],
   "source": [
    "FP_INP1=/data/reddylab/Kuei/repo/Proj_ENCODE_FCC/results/region/fcc_astarr_macs_merge/K562.hg38.ASTARR.macs.KS91.input.rep_all.union.q5.bed.gz\n",
    "bedtools intersect \\\n",
    "    -a ${FP_INP1} \\\n",
    "    -b ${FP_INP2} \\\n",
    "    -wo \\\n",
    "| head"
   ]
  },
  {
   "cell_type": "code",
   "execution_count": null,
   "id": "e7590b74-f86b-4776-a653-98d2f8529a7c",
   "metadata": {},
   "outputs": [],
   "source": []
  },
  {
   "cell_type": "code",
   "execution_count": 51,
   "id": "0bb5d85c-f1b1-4a9a-a413-2fca0087ec4d",
   "metadata": {},
   "outputs": [
    {
     "name": "stdout",
     "output_type": "stream",
     "text": [
      "chr1\t10038\t10442\tchr1:10038-10442\t334\t.\t3.45109\t35.4672\t33.48\t73\tASTARR\tInput.rep2\tNarrowPeak\n",
      "chr1\t14282\t14643\tchr1:14282-14643\t329\t.\t3.42712\t34.9175\t32.9339\t178\tASTARR\tInput.rep2\tNarrowPeak\n",
      "chr1\t16017\t16338\tchr1:16017-16338\t432\t.\t3.85851\t45.2526\t43.2099\t226\tASTARR\tInput.rep2\tNarrowPeak\n",
      "chr1\t17267\t17757\tchr1:17267-17757\t1927\t.\t8.41203\t195.206\t192.798\t226\tASTARR\tInput.rep2\tNarrowPeak\n",
      "chr1\t28921\t29612\tchr1:28921-29612\t1825\t.\t8.14841\t184.983\t182.591\t397\tASTARR\tInput.rep2\tNarrowPeak\n",
      "chr1\t101625\t101849\tchr1:101625-101849\t55\t.\t1.89331\t7.15523\t5.57621\t77\tASTARR\tInput.rep2\tNarrowPeak\n",
      "chr1\t115421\t115976\tchr1:115421-115976\t12303\t.\t28.3037\t1233.77\t1230.38\t314\tASTARR\tInput.rep2\tNarrowPeak\n",
      "chr1\t136176\t137423\tchr1:136176-137423\t3533\t.\t7.97211\t355.946\t353.344\t623\tASTARR\tInput.rep2\tNarrowPeak\n",
      "chr1\t137737\t139544\tchr1:137737-139544\t657\t.\t3.49285\t67.8741\t65.7373\t1308\tASTARR\tInput.rep2\tNarrowPeak\n",
      "chr1\t180988\t182058\tchr1:180988-182058\t945\t.\t5.65595\t96.7751\t94.5525\t457\tASTARR\tInput.rep2\tNarrowPeak\n"
     ]
    }
   ],
   "source": [
    "FPATH=/data/reddylab/Kuei/repo/Proj_ENCODE_FCC/results/region/fcc_astarr_macs_narrowpeak/K562.hg38.ASTARR.macs.KS91.Input.rep2.narrowpeak.bed.gz\n",
    "fun_cat ${FPATH} | head"
   ]
  },
  {
   "cell_type": "code",
   "execution_count": 52,
   "id": "0e482297-6c26-43d5-99b5-f4556ad3b1b4",
   "metadata": {},
   "outputs": [
    {
     "name": "stdout",
     "output_type": "stream",
     "text": [
      "chr1\t10015\t10442\tchr1:10015-10442\tchr1\t10038\t10442\tchr1:10038-10442\t334\t.\t3.45109\t35.4672\t33.48\t73\tASTARR\tInput.rep2\tNarrowPeak\t404\n",
      "chr1\t14253\t14645\tchr1:14253-14645\tchr1\t14282\t14643\tchr1:14282-14643\t329\t.\t3.42712\t34.9175\t32.9339\t178\tASTARR\tInput.rep2\tNarrowPeak\t361\n",
      "chr1\t16015\t16477\tchr1:16015-16477\tchr1\t16017\t16338\tchr1:16017-16338\t432\t.\t3.85851\t45.2526\t43.2099\t226\tASTARR\tInput.rep2\tNarrowPeak\t321\n",
      "chr1\t17237\t17772\tchr1:17237-17772\tchr1\t17267\t17757\tchr1:17267-17757\t1927\t.\t8.41203\t195.206\t192.798\t226\tASTARR\tInput.rep2\tNarrowPeak\t490\n",
      "chr1\t28903\t29613\tchr1:28903-29613\tchr1\t28921\t29612\tchr1:28921-29612\t1825\t.\t8.14841\t184.983\t182.591\t397\tASTARR\tInput.rep2\tNarrowPeak\t691\n",
      "chr1\t101603\t101849\tchr1:101603-101849\tchr1\t101625\t101849\tchr1:101625-101849\t55\t.\t1.89331\t7.15523\t5.57621\t77\tASTARR\tInput.rep2\tNarrowPeak\t224\n",
      "chr1\t115411\t115986\tchr1:115411-115986\tchr1\t115421\t115976\tchr1:115421-115976\t12303\t.\t28.3037\t1233.77\t1230.38\t314\tASTARR\tInput.rep2\tNarrowPeak\t555\n",
      "chr1\t136071\t137429\tchr1:136071-137429\tchr1\t136176\t137423\tchr1:136176-137423\t3533\t.\t7.97211\t355.946\t353.344\t623\tASTARR\tInput.rep2\tNarrowPeak\t1247\n",
      "chr1\t137737\t139544\tchr1:137737-139544\tchr1\t137737\t139544\tchr1:137737-139544\t657\t.\t3.49285\t67.8741\t65.7373\t1308\tASTARR\tInput.rep2\tNarrowPeak\t1807\n",
      "chr1\t180982\t182087\tchr1:180982-182087\tchr1\t180988\t182058\tchr1:180988-182058\t945\t.\t5.65595\t96.7751\t94.5525\t457\tASTARR\tInput.rep2\tNarrowPeak\t1070\n"
     ]
    }
   ],
   "source": [
    "FP_INP1=/data/reddylab/Kuei/repo/Proj_ENCODE_FCC/results/region/fcc_astarr_macs_merge/K562.hg38.ASTARR.macs.KS91.input.rep_all.union.q5.bed.gz\n",
    "FP_INP2=/data/reddylab/Kuei/repo/Proj_ENCODE_FCC/results/region/fcc_astarr_macs_narrowpeak/K562.hg38.ASTARR.macs.KS91.Input.rep2.narrowpeak.bed.gz\n",
    "bedtools intersect \\\n",
    "    -a ${FP_INP1} \\\n",
    "    -b ${FP_INP2} \\\n",
    "    -wo \\\n",
    "| head"
   ]
  },
  {
   "cell_type": "code",
   "execution_count": null,
   "id": "a3f5da32-f953-488e-a80f-fcf84ae7f402",
   "metadata": {},
   "outputs": [],
   "source": []
  },
  {
   "cell_type": "code",
   "execution_count": null,
   "id": "8869c75e-e26f-4895-b569-7c794bab5bec",
   "metadata": {},
   "outputs": [],
   "source": []
  },
  {
   "cell_type": "code",
   "execution_count": 14,
   "id": "9014b846-3e2c-4540-b1ff-6d1420552e90",
   "metadata": {},
   "outputs": [
    {
     "name": "stdout",
     "output_type": "stream",
     "text": [
      "chr1\t10038\t10442\tchr1:10038-10442\t334\t.\t3.45109\t35.4672\t33.48\t73\tASTARR\tInput.rep2\n",
      "chr1\t14282\t14643\tchr1:14282-14643\t329\t.\t3.42712\t34.9175\t32.9339\t178\tASTARR\tInput.rep2\n",
      "chr1\t16017\t16338\tchr1:16017-16338\t432\t.\t3.85851\t45.2526\t43.2099\t226\tASTARR\tInput.rep2\n",
      "chr1\t17267\t17757\tchr1:17267-17757\t1927\t.\t8.41203\t195.206\t192.798\t226\tASTARR\tInput.rep2\n",
      "chr1\t28921\t29612\tchr1:28921-29612\t1825\t.\t8.14841\t184.983\t182.591\t397\tASTARR\tInput.rep2\n",
      "chr1\t101625\t101849\tchr1:101625-101849\t55\t.\t1.89331\t7.15523\t5.57621\t77\tASTARR\tInput.rep2\n",
      "chr1\t115421\t115976\tchr1:115421-115976\t12303\t.\t28.3037\t1233.77\t1230.38\t314\tASTARR\tInput.rep2\n",
      "chr1\t136176\t137423\tchr1:136176-137423\t3533\t.\t7.97211\t355.946\t353.344\t623\tASTARR\tInput.rep2\n",
      "chr1\t137737\t139544\tchr1:137737-139544\t657\t.\t3.49285\t67.8741\t65.7373\t1308\tASTARR\tInput.rep2\n",
      "chr1\t180988\t182058\tchr1:180988-182058\t945\t.\t5.65595\t96.7751\t94.5525\t457\tASTARR\tInput.rep2\n"
     ]
    }
   ],
   "source": [
    "FPATH=/data/reddylab/Kuei/repo/Proj_ENCODE_FCC/results/region/fcc_astarr_macs_narrowpeak/K562.hg38.ASTARR.macs.KS91.Input.rep2.narrowpeak.bed.gz\n",
    "fun_cat ${FPATH} | head"
   ]
  },
  {
   "cell_type": "code",
   "execution_count": 19,
   "id": "df3dabfd-c437-405c-b20b-7403bf5ce8e8",
   "metadata": {},
   "outputs": [
    {
     "name": "stdout",
     "output_type": "stream",
     "text": [
      "bedtools v2.31.1\n"
     ]
    }
   ],
   "source": [
    "bedtools --version"
   ]
  },
  {
   "cell_type": "code",
   "execution_count": 18,
   "id": "27e99be0-ef92-49c6-9cd7-f8b253cb8f44",
   "metadata": {},
   "outputs": [
    {
     "name": "stdout",
     "output_type": "stream",
     "text": [
      "***** ERROR: illegal number \"3.45109\". Exiting...\n"
     ]
    }
   ],
   "source": [
    "FP_INP1=/data/reddylab/Kuei/repo/Proj_ENCODE_FCC/results/region/fcc_astarr_macs_merge/K562.hg38.ASTARR.macs.KS91.input.rep_all.union.q5.bed.gz\n",
    "FP_INP2=/data/reddylab/Kuei/repo/Proj_ENCODE_FCC/results/region/fcc_astarr_macs_narrowpeak/K562.hg38.ASTARR.macs.KS91.Input.rep2.narrowpeak.bed.gz\n",
    "bedtools intersect \\\n",
    "    -a ${FP_INP1} \\\n",
    "    -b ${FP_INP2} \\\n",
    "    -wo \\\n",
    "| head"
   ]
  },
  {
   "cell_type": "code",
   "execution_count": 22,
   "id": "79de14a3-5fd2-486e-919c-b983a6a20f5d",
   "metadata": {},
   "outputs": [
    {
     "name": "stdout",
     "output_type": "stream",
     "text": [
      "chr1\t10015\t10442\tchr1:10015-10442\tchr1\t10038\t10442\tchr1:10038-10442\t334\t.\t404\n",
      "chr1\t14253\t14645\tchr1:14253-14645\tchr1\t14282\t14643\tchr1:14282-14643\t329\t.\t361\n",
      "chr1\t16015\t16477\tchr1:16015-16477\tchr1\t16017\t16338\tchr1:16017-16338\t432\t.\t321\n",
      "chr1\t17237\t17772\tchr1:17237-17772\tchr1\t17267\t17757\tchr1:17267-17757\t1927\t.\t490\n",
      "chr1\t28903\t29613\tchr1:28903-29613\tchr1\t28921\t29612\tchr1:28921-29612\t1825\t.\t691\n",
      "chr1\t101603\t101849\tchr1:101603-101849\tchr1\t101625\t101849\tchr1:101625-101849\t55\t.\t224\n",
      "chr1\t115411\t115986\tchr1:115411-115986\tchr1\t115421\t115976\tchr1:115421-115976\t12303\t.\t555\n",
      "chr1\t136071\t137429\tchr1:136071-137429\tchr1\t136176\t137423\tchr1:136176-137423\t3533\t.\t1247\n",
      "chr1\t137737\t139544\tchr1:137737-139544\tchr1\t137737\t139544\tchr1:137737-139544\t657\t.\t1807\n",
      "chr1\t180982\t182087\tchr1:180982-182087\tchr1\t180988\t182058\tchr1:180988-182058\t945\t.\t1070\n"
     ]
    }
   ],
   "source": [
    "FP_INP1=/data/reddylab/Kuei/repo/Proj_ENCODE_FCC/results/region/fcc_astarr_macs_merge/K562.hg38.ASTARR.macs.KS91.input.rep_all.union.q5.bed.gz\n",
    "FP_INP2=/data/reddylab/Kuei/repo/Proj_ENCODE_FCC/results/region/fcc_astarr_macs_narrowpeak/K562.hg38.ASTARR.macs.KS91.Input.rep2.narrowpeak.bed.gz\n",
    "\n",
    "zcat ${FP_INP2} \\\n",
    "| cut -f1-6 \\\n",
    "| bedtools intersect \\\n",
    "  -a ${FP_INP1} \\\n",
    "  -b -       \\\n",
    "  -wo \\\n",
    "| head"
   ]
  },
  {
   "cell_type": "code",
   "execution_count": 30,
   "id": "26b3072e-7308-4803-9046-177434019eda",
   "metadata": {},
   "outputs": [
    {
     "name": "stdout",
     "output_type": "stream",
     "text": [
      "***** ERROR: illegal number \"3.45109\". Exiting...\n"
     ]
    }
   ],
   "source": [
    "FP_INP1=/data/reddylab/Kuei/repo/Proj_ENCODE_FCC/results/region/fcc_astarr_macs_merge/K562.hg38.ASTARR.macs.KS91.input.rep_all.union.q5.bed.gz\n",
    "FP_INP2=/data/reddylab/Kuei/repo/Proj_ENCODE_FCC/results/region/fcc_astarr_macs_narrowpeak/K562.hg38.ASTARR.macs.KS91.Input.rep2.narrowpeak.bed.gz\n",
    "\n",
    "zcat ${FP_INP2} \\\n",
    "| cut -f1-12 \\\n",
    "| bedtools intersect \\\n",
    "  -a ${FP_INP1} \\\n",
    "  -b -       \\\n",
    "  -wo \\\n",
    "| head"
   ]
  },
  {
   "cell_type": "code",
   "execution_count": 36,
   "id": "afdc4993-9189-4ce9-b6fc-e13c36a81b70",
   "metadata": {},
   "outputs": [],
   "source": [
    "zcat ${FP_INP2} | tr -d '\\r' > ${FD_TEMP}/clean.bed"
   ]
  },
  {
   "cell_type": "code",
   "execution_count": 37,
   "id": "4806fd89-0ddb-44e2-9d64-368385772005",
   "metadata": {},
   "outputs": [
    {
     "name": "stdout",
     "output_type": "stream",
     "text": [
      "chr1\t10038\t10442\tchr1:10038-10442\t334\t.\t3.45109\t35.4672\t33.48\t73\tASTARR\tInput.rep2\n",
      "chr1\t14282\t14643\tchr1:14282-14643\t329\t.\t3.42712\t34.9175\t32.9339\t178\tASTARR\tInput.rep2\n",
      "chr1\t16017\t16338\tchr1:16017-16338\t432\t.\t3.85851\t45.2526\t43.2099\t226\tASTARR\tInput.rep2\n",
      "chr1\t17267\t17757\tchr1:17267-17757\t1927\t.\t8.41203\t195.206\t192.798\t226\tASTARR\tInput.rep2\n",
      "chr1\t28921\t29612\tchr1:28921-29612\t1825\t.\t8.14841\t184.983\t182.591\t397\tASTARR\tInput.rep2\n",
      "chr1\t101625\t101849\tchr1:101625-101849\t55\t.\t1.89331\t7.15523\t5.57621\t77\tASTARR\tInput.rep2\n",
      "chr1\t115421\t115976\tchr1:115421-115976\t12303\t.\t28.3037\t1233.77\t1230.38\t314\tASTARR\tInput.rep2\n",
      "chr1\t136176\t137423\tchr1:136176-137423\t3533\t.\t7.97211\t355.946\t353.344\t623\tASTARR\tInput.rep2\n",
      "chr1\t137737\t139544\tchr1:137737-139544\t657\t.\t3.49285\t67.8741\t65.7373\t1308\tASTARR\tInput.rep2\n",
      "chr1\t180988\t182058\tchr1:180988-182058\t945\t.\t5.65595\t96.7751\t94.5525\t457\tASTARR\tInput.rep2\n"
     ]
    }
   ],
   "source": [
    "head ${FD_TEMP}/clean.bed"
   ]
  },
  {
   "cell_type": "code",
   "execution_count": 38,
   "id": "eabc28b6-110f-4bfc-a2af-558d6c5b7a71",
   "metadata": {},
   "outputs": [
    {
     "name": "stdout",
     "output_type": "stream",
     "text": [
      "***** ERROR: illegal number \"3.45109\". Exiting...\n"
     ]
    }
   ],
   "source": [
    "FP_INP1=/data/reddylab/Kuei/repo/Proj_ENCODE_FCC/results/region/fcc_astarr_macs_merge/K562.hg38.ASTARR.macs.KS91.input.rep_all.union.q5.bed.gz\n",
    "FP_INP2=${FD_TEMP}/clean.bed\n",
    "\n",
    "cat ${FP_INP2} \\\n",
    "| cut -f1-12 \\\n",
    "| bedtools intersect \\\n",
    "  -a ${FP_INP1} \\\n",
    "  -b -       \\\n",
    "  -wo \\\n",
    "| head"
   ]
  },
  {
   "cell_type": "code",
   "execution_count": null,
   "id": "2a3135ee-a1d9-4549-8192-14a51eabe9a3",
   "metadata": {},
   "outputs": [],
   "source": []
  },
  {
   "cell_type": "code",
   "execution_count": null,
   "id": "4dea060b-5eec-4b77-8619-576bfa0441f6",
   "metadata": {},
   "outputs": [],
   "source": []
  },
  {
   "cell_type": "code",
   "execution_count": 3,
   "id": "b9a723e5-1975-4dfd-b3c1-07c79fa5464b",
   "metadata": {},
   "outputs": [
    {
     "name": "stdout",
     "output_type": "stream",
     "text": [
      "/data/reddylab/Kuei/temp\n",
      "clean.bed\n",
      "\u001b[0m\u001b[01;34mpynndescent_bd94c6f7b210946f574c2e0e82de6d302bf81d5c\u001b[0m\n",
      "\u001b[01;34mRtmpdJuxU6\u001b[0m\n",
      "\u001b[01;34mRtmplJUGCd\u001b[0m\n",
      "\u001b[01;34mRtmprE2NKr\u001b[0m\n",
      "\u001b[01;34mRtmpwHunG9\u001b[0m\n",
      "\u001b[01;34mRtmpYuMIKh\u001b[0m\n",
      "\u001b[01;34mumap_066c23ddfc5e256f1c6b9e9b0d65353c5230c5c3\u001b[0m\n",
      "\u001b[01;34mvenv\u001b[0m\n"
     ]
    }
   ],
   "source": [
    "echo ${FD_TEMP}\n",
    "ls -1 ${FD_TEMP}"
   ]
  },
  {
   "cell_type": "code",
   "execution_count": 5,
   "id": "6c798103-9f91-40cb-9f5a-82165f1b6543",
   "metadata": {},
   "outputs": [],
   "source": [
    "#rm ${FD_TEMP}/clean.bed"
   ]
  },
  {
   "cell_type": "code",
   "execution_count": 6,
   "id": "48be2896-9475-4bd3-825e-263379c59c84",
   "metadata": {},
   "outputs": [
    {
     "name": "stdout",
     "output_type": "stream",
     "text": [
      "/data/reddylab/Kuei/temp\n",
      "\u001b[0m\u001b[01;34mpynndescent_bd94c6f7b210946f574c2e0e82de6d302bf81d5c\u001b[0m\n",
      "\u001b[01;34mRtmpdJuxU6\u001b[0m\n",
      "\u001b[01;34mRtmplJUGCd\u001b[0m\n",
      "\u001b[01;34mRtmprE2NKr\u001b[0m\n",
      "\u001b[01;34mRtmpwHunG9\u001b[0m\n",
      "\u001b[01;34mRtmpYuMIKh\u001b[0m\n",
      "\u001b[01;34mumap_066c23ddfc5e256f1c6b9e9b0d65353c5230c5c3\u001b[0m\n",
      "\u001b[01;34mvenv\u001b[0m\n"
     ]
    }
   ],
   "source": [
    "echo ${FD_TEMP}\n",
    "ls -1 ${FD_TEMP}"
   ]
  },
  {
   "cell_type": "code",
   "execution_count": null,
   "id": "eae3ad82-941a-4284-b2ab-c6f23dbe1826",
   "metadata": {},
   "outputs": [],
   "source": []
  }
 ],
 "metadata": {
  "kernelspec": {
   "display_name": "Bash",
   "language": "bash",
   "name": "bash"
  },
  "language_info": {
   "codemirror_mode": "shell",
   "file_extension": ".sh",
   "mimetype": "text/x-sh",
   "name": "bash"
  }
 },
 "nbformat": 4,
 "nbformat_minor": 5
}
