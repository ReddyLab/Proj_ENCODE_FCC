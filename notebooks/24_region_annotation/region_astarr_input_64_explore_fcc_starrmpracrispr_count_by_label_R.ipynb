{
 "cells": [
  {
   "cell_type": "raw",
   "id": "195041fb-c58f-47b5-9344-a840be8662fe",
   "metadata": {},
   "source": [
    "---\n",
    "title: FCC Peak calls\n",
    "subtitle: export annotation\n",
    "format:\n",
    "    html:\n",
    "        code-fold:  true\n",
    "        code-tools: true\n",
    "---"
   ]
  },
  {
   "cell_type": "markdown",
   "id": "bd8288ec-83a6-475a-aec0-ed0e1fda7dc4",
   "metadata": {},
   "source": [
    "**Set environment**"
   ]
  },
  {
   "cell_type": "code",
   "execution_count": 1,
   "id": "c4aec610-1773-4b19-9979-89f6590013b0",
   "metadata": {
    "tags": []
   },
   "outputs": [
    {
     "name": "stdout",
     "output_type": "stream",
     "text": [
      "You are working on        Singularity: singularity_proj_encode_fcc \n",
      "BASE DIRECTORY (FD_BASE): /data/reddylab/Kuei \n",
      "REPO DIRECTORY (FD_REPO): /data/reddylab/Kuei/repo \n",
      "WORK DIRECTORY (FD_WORK): /data/reddylab/Kuei/work \n",
      "DATA DIRECTORY (FD_DATA): /data/reddylab/Kuei/data \n",
      "\n",
      "You are working with      ENCODE FCC \n",
      "PATH OF PROJECT (FD_PRJ): /data/reddylab/Kuei/repo/Proj_ENCODE_FCC \n",
      "PROJECT RESULTS (FD_RES): /data/reddylab/Kuei/repo/Proj_ENCODE_FCC/results \n",
      "PROJECT SCRIPTS (FD_EXE): /data/reddylab/Kuei/repo/Proj_ENCODE_FCC/scripts \n",
      "PROJECT DATA    (FD_DAT): /data/reddylab/Kuei/repo/Proj_ENCODE_FCC/data \n",
      "PROJECT NOTE    (FD_NBK): /data/reddylab/Kuei/repo/Proj_ENCODE_FCC/notebooks \n",
      "PROJECT DOCS    (FD_DOC): /data/reddylab/Kuei/repo/Proj_ENCODE_FCC/docs \n",
      "PROJECT LOG     (FD_LOG): /data/reddylab/Kuei/repo/Proj_ENCODE_FCC/log \n",
      "PROJECT REF     (FD_REF): /data/reddylab/Kuei/repo/Proj_ENCODE_FCC/references \n",
      "\n"
     ]
    }
   ],
   "source": [
    "suppressMessages(suppressWarnings(source(\"../run_config_project_sing.R\")))\n",
    "show_env()"
   ]
  },
  {
   "cell_type": "markdown",
   "id": "df41a7d9-40da-48dc-a206-a73da99a9cdd",
   "metadata": {},
   "source": [
    "## Prepare"
   ]
  },
  {
   "cell_type": "markdown",
   "id": "541ffade-d374-4cf3-b036-9e1f2b20ce7c",
   "metadata": {},
   "source": [
    "**Set global variable**"
   ]
  },
  {
   "cell_type": "code",
   "execution_count": 2,
   "id": "e7ea884f-b172-4917-9160-576af0a90a14",
   "metadata": {},
   "outputs": [],
   "source": [
    "TXT_FNAME_INP = \"region.annotation.fcc_starrmpracrispr.assayvote.tsv\"\n",
    "TXT_FNAME_OUT = \"region.annotation.genome_tss.tsv\""
   ]
  },
  {
   "cell_type": "markdown",
   "id": "eaa91b4b-46f8-4ff3-b756-3c0e2a7822d2",
   "metadata": {},
   "source": [
    "**View files**"
   ]
  },
  {
   "cell_type": "code",
   "execution_count": 3,
   "id": "ea5d2bee-4051-42a9-95c9-823ee0805054",
   "metadata": {},
   "outputs": [
    {
     "name": "stdout",
     "output_type": "stream",
     "text": [
      "fcc_astarr_macs_input_overlap \n",
      "fcc_astarr_macs_input_union \n"
     ]
    }
   ],
   "source": [
    "### get annotated region folder\n",
    "txt_fdiry = file.path(FD_RES, \"region_annotation\")\n",
    "vec = dir(txt_fdiry)\n",
    "names(vec) = vec\n",
    "\n",
    "### assign and show\n",
    "vec_txt_folder = vec\n",
    "for(txt in vec){cat(txt, \"\\n\")}"
   ]
  },
  {
   "cell_type": "code",
   "execution_count": 4,
   "id": "c5c54efb-04a4-43b6-a454-24e9f3de22db",
   "metadata": {},
   "outputs": [
    {
     "name": "stdout",
     "output_type": "stream",
     "text": [
      "/data/reddylab/Kuei/repo/Proj_ENCODE_FCC/results/region_annotation/fcc_astarr_macs_input_overlap/summary/region.annotation.fcc_starrmpracrispr.assayvote.tsv \n",
      "/data/reddylab/Kuei/repo/Proj_ENCODE_FCC/results/region_annotation/fcc_astarr_macs_input_union/summary/region.annotation.fcc_starrmpracrispr.assayvote.tsv \n"
     ]
    }
   ],
   "source": [
    "txt_fdiry = file.path(FD_RES, \"region_annotation\", \"*\", \"summary\")\n",
    "txt_fname = TXT_FNAME_INP\n",
    "txt_fglob = file.path(txt_fdiry, txt_fname)\n",
    "\n",
    "vec = Sys.glob(txt_fglob)\n",
    "for(txt in vec){cat(txt, \"\\n\")}"
   ]
  },
  {
   "cell_type": "markdown",
   "id": "1f449b9d-8741-40ee-b3ec-a19141be1fbf",
   "metadata": {},
   "source": [
    "## Import data"
   ]
  },
  {
   "cell_type": "code",
   "execution_count": 14,
   "id": "74de3437-7279-40ef-bf45-e535dd146d5b",
   "metadata": {},
   "outputs": [
    {
     "name": "stdout",
     "output_type": "stream",
     "text": [
      "$fcc_astarr_macs_input_overlap\n",
      "[1] 156686      6\n",
      "\n",
      "$fcc_astarr_macs_input_union\n",
      "[1] 201420      6\n",
      "\n"
     ]
    },
    {
     "data": {
      "text/html": [
       "<table>\n",
       " <thead>\n",
       "  <tr>\n",
       "   <th style=\"text-align:left;\"> Chrom </th>\n",
       "   <th style=\"text-align:right;\"> ChromStart </th>\n",
       "   <th style=\"text-align:right;\"> ChromEnd </th>\n",
       "   <th style=\"text-align:left;\"> Region </th>\n",
       "   <th style=\"text-align:left;\"> Group </th>\n",
       "   <th style=\"text-align:left;\"> Label </th>\n",
       "  </tr>\n",
       " </thead>\n",
       "<tbody>\n",
       "  <tr>\n",
       "   <td style=\"text-align:left;\"> chr1 </td>\n",
       "   <td style=\"text-align:right;\"> 10038 </td>\n",
       "   <td style=\"text-align:right;\"> 10405 </td>\n",
       "   <td style=\"text-align:left;\"> chr1:10038-10405 </td>\n",
       "   <td style=\"text-align:left;\"> ASTARR </td>\n",
       "   <td style=\"text-align:left;\"> ASTARR_R </td>\n",
       "  </tr>\n",
       "  <tr>\n",
       "   <td style=\"text-align:left;\"> chr1 </td>\n",
       "   <td style=\"text-align:right;\"> 16025 </td>\n",
       "   <td style=\"text-align:right;\"> 16338 </td>\n",
       "   <td style=\"text-align:left;\"> chr1:16025-16338 </td>\n",
       "   <td style=\"text-align:left;\"> ASTARR </td>\n",
       "   <td style=\"text-align:left;\"> ASTARR_R </td>\n",
       "  </tr>\n",
       "  <tr>\n",
       "   <td style=\"text-align:left;\"> chr1 </td>\n",
       "   <td style=\"text-align:right;\"> 17288 </td>\n",
       "   <td style=\"text-align:right;\"> 17689 </td>\n",
       "   <td style=\"text-align:left;\"> chr1:17288-17689 </td>\n",
       "   <td style=\"text-align:left;\"> ASTARR </td>\n",
       "   <td style=\"text-align:left;\"> ASTARR_R </td>\n",
       "  </tr>\n",
       "</tbody>\n",
       "</table>"
      ]
     },
     "metadata": {},
     "output_type": "display_data"
    }
   ],
   "source": [
    "lst = lapply(vec_txt_folder, function(txt_folder){\n",
    "    ### set file directory\n",
    "    txt_fdiry = file.path(\n",
    "        FD_RES, \n",
    "        \"region_annotation\", \n",
    "        txt_folder,\n",
    "        \"summary\"\n",
    "    )\n",
    "    txt_fname = \"region.annotation.fcc_starrmpracrispr.concat.tsv\"\n",
    "    txt_fpath = file.path(txt_fdiry, txt_fname)\n",
    "\n",
    "    ### read table\n",
    "    dat = read_tsv(txt_fpath, show_col_types = FALSE)\n",
    "    return(dat)\n",
    "})\n",
    "names(lst) = vec_txt_folder\n",
    "\n",
    "### assign and show\n",
    "lst_dat_region_annot_fcc_concat_import = lst\n",
    "res = lapply(lst, dim)\n",
    "print(res)\n",
    "dat = lst[[1]]\n",
    "fun_display_table(head(dat, 3))"
   ]
  },
  {
   "cell_type": "code",
   "execution_count": 5,
   "id": "bd8955c5-21c5-4019-af89-995631af3bce",
   "metadata": {},
   "outputs": [
    {
     "name": "stdout",
     "output_type": "stream",
     "text": [
      "$fcc_astarr_macs_input_overlap\n",
      "[1] 100454      6\n",
      "\n",
      "$fcc_astarr_macs_input_union\n",
      "[1] 135780      6\n",
      "\n"
     ]
    },
    {
     "data": {
      "text/html": [
       "<table>\n",
       " <thead>\n",
       "  <tr>\n",
       "   <th style=\"text-align:left;\"> Chrom </th>\n",
       "   <th style=\"text-align:right;\"> ChromStart </th>\n",
       "   <th style=\"text-align:right;\"> ChromEnd </th>\n",
       "   <th style=\"text-align:left;\"> Region </th>\n",
       "   <th style=\"text-align:right;\"> Num_Assay </th>\n",
       "   <th style=\"text-align:left;\"> Assays </th>\n",
       "  </tr>\n",
       " </thead>\n",
       "<tbody>\n",
       "  <tr>\n",
       "   <td style=\"text-align:left;\"> chr1 </td>\n",
       "   <td style=\"text-align:right;\"> 10038 </td>\n",
       "   <td style=\"text-align:right;\"> 10405 </td>\n",
       "   <td style=\"text-align:left;\"> chr1:10038-10405 </td>\n",
       "   <td style=\"text-align:right;\"> 1 </td>\n",
       "   <td style=\"text-align:left;\"> ASTARR </td>\n",
       "  </tr>\n",
       "  <tr>\n",
       "   <td style=\"text-align:left;\"> chr1 </td>\n",
       "   <td style=\"text-align:right;\"> 16025 </td>\n",
       "   <td style=\"text-align:right;\"> 16338 </td>\n",
       "   <td style=\"text-align:left;\"> chr1:16025-16338 </td>\n",
       "   <td style=\"text-align:right;\"> 1 </td>\n",
       "   <td style=\"text-align:left;\"> ASTARR </td>\n",
       "  </tr>\n",
       "  <tr>\n",
       "   <td style=\"text-align:left;\"> chr1 </td>\n",
       "   <td style=\"text-align:right;\"> 17288 </td>\n",
       "   <td style=\"text-align:right;\"> 17689 </td>\n",
       "   <td style=\"text-align:left;\"> chr1:17288-17689 </td>\n",
       "   <td style=\"text-align:right;\"> 1 </td>\n",
       "   <td style=\"text-align:left;\"> ASTARR </td>\n",
       "  </tr>\n",
       "</tbody>\n",
       "</table>"
      ]
     },
     "metadata": {},
     "output_type": "display_data"
    }
   ],
   "source": [
    "lst = lapply(vec_txt_folder, function(txt_folder){\n",
    "    ### set file directory\n",
    "    txt_fdiry = file.path(\n",
    "        FD_RES, \n",
    "        \"region_annotation\", \n",
    "        txt_folder,\n",
    "        \"summary\"\n",
    "    )\n",
    "    txt_fname = \"region.annotation.fcc_starrmpracrispr.assayvote.tsv\"\n",
    "    txt_fpath = file.path(txt_fdiry, txt_fname)\n",
    "\n",
    "    ### read table\n",
    "    dat = read_tsv(txt_fpath, show_col_types = FALSE)\n",
    "    return(dat)\n",
    "})\n",
    "names(lst) = vec_txt_folder\n",
    "\n",
    "### assign and show\n",
    "lst_dat_region_annot_fcc_assayvote_import = lst\n",
    "res = lapply(lst, dim)\n",
    "print(res)\n",
    "dat = lst[[1]]\n",
    "fun_display_table(head(dat, 3))"
   ]
  },
  {
   "cell_type": "code",
   "execution_count": 7,
   "id": "0eaa0fc1-1079-4956-92eb-2579b7897bd9",
   "metadata": {},
   "outputs": [
    {
     "data": {
      "text/html": [
       "<table>\n",
       " <thead>\n",
       "  <tr>\n",
       "   <th style=\"text-align:left;\"> Region </th>\n",
       "   <th style=\"text-align:right;\"> N1 </th>\n",
       "   <th style=\"text-align:right;\"> N2 </th>\n",
       "   <th style=\"text-align:right;\"> N3 </th>\n",
       "   <th style=\"text-align:right;\"> N4 </th>\n",
       "   <th style=\"text-align:right;\"> N5 </th>\n",
       "   <th style=\"text-align:right;\"> N6 </th>\n",
       "   <th style=\"text-align:right;\"> N7 </th>\n",
       "  </tr>\n",
       " </thead>\n",
       "<tbody>\n",
       "  <tr>\n",
       "   <td style=\"text-align:left;\"> fcc_astarr_macs_input_overlap </td>\n",
       "   <td style=\"text-align:right;\"> 66501 </td>\n",
       "   <td style=\"text-align:right;\"> 22994 </td>\n",
       "   <td style=\"text-align:right;\"> 9740 </td>\n",
       "   <td style=\"text-align:right;\"> 1177 </td>\n",
       "   <td style=\"text-align:right;\"> 31 </td>\n",
       "   <td style=\"text-align:right;\"> 6 </td>\n",
       "   <td style=\"text-align:right;\"> 5 </td>\n",
       "  </tr>\n",
       "  <tr>\n",
       "   <td style=\"text-align:left;\"> fcc_astarr_macs_input_union </td>\n",
       "   <td style=\"text-align:right;\"> 95992 </td>\n",
       "   <td style=\"text-align:right;\"> 28122 </td>\n",
       "   <td style=\"text-align:right;\"> 10384 </td>\n",
       "   <td style=\"text-align:right;\"> 1237 </td>\n",
       "   <td style=\"text-align:right;\"> 34 </td>\n",
       "   <td style=\"text-align:right;\"> 6 </td>\n",
       "   <td style=\"text-align:right;\"> 5 </td>\n",
       "  </tr>\n",
       "</tbody>\n",
       "</table>"
      ]
     },
     "metadata": {},
     "output_type": "display_data"
    }
   ],
   "source": [
    "lst = lst_dat_region_annot_fcc_assayvote_import\n",
    "lst = lapply(lst, function(dat){\n",
    "    dat = dat %>% dplyr::mutate(Note = paste0(\"N\", Num_Assay))\n",
    "    res = table(dat$Note, dnn=c(\"Note\"))\n",
    "    dat = as.data.frame(res)\n",
    "    return(dat)\n",
    "})\n",
    "\n",
    "dat = bind_rows(lst, .id = \"Region\")\n",
    "dat = dat %>% tidyr::spread(Note, Freq) #%>% dplyr::mutate(Total = sum(N1:N7))\n",
    "fun_display_table(dat)"
   ]
  },
  {
   "cell_type": "code",
   "execution_count": 9,
   "id": "2a25cfb1-fac8-46f3-b974-fd26546be0db",
   "metadata": {},
   "outputs": [
    {
     "name": "stdout",
     "output_type": "stream",
     "text": [
      "$fcc_astarr_macs_input_overlap\n",
      "[1] 33953\n",
      "\n",
      "$fcc_astarr_macs_input_union\n",
      "[1] 39788\n",
      "\n"
     ]
    }
   ],
   "source": [
    "lst = lst_dat_region_annot_fcc_assayvote_import\n",
    "lst = lapply(lst, function(dat){\n",
    "    dat = dat %>% dplyr::filter(Num_Assay > 1)\n",
    "    vec = unique(dat$Region)\n",
    "    num = length(vec)\n",
    "    return(num)\n",
    "})\n",
    "\n",
    "print(lst)"
   ]
  },
  {
   "cell_type": "code",
   "execution_count": null,
   "id": "bb4c41d8-688e-4f0a-8441-9455b877dae1",
   "metadata": {},
   "outputs": [],
   "source": []
  },
  {
   "cell_type": "code",
   "execution_count": null,
   "id": "f3d31fd1-286c-486d-932a-342e892e684e",
   "metadata": {},
   "outputs": [],
   "source": []
  },
  {
   "cell_type": "code",
   "execution_count": 11,
   "id": "20a9030c-26d1-446a-92d5-a6eb9f50e983",
   "metadata": {},
   "outputs": [
    {
     "data": {
      "text/html": [
       "<table class=\"dataframe\">\n",
       "<caption>A tibble: 6 × 6</caption>\n",
       "<thead>\n",
       "\t<tr><th scope=col>Chrom</th><th scope=col>ChromStart</th><th scope=col>ChromEnd</th><th scope=col>Region</th><th scope=col>Num_Assay</th><th scope=col>Assays</th></tr>\n",
       "\t<tr><th scope=col>&lt;chr&gt;</th><th scope=col>&lt;dbl&gt;</th><th scope=col>&lt;dbl&gt;</th><th scope=col>&lt;chr&gt;</th><th scope=col>&lt;dbl&gt;</th><th scope=col>&lt;chr&gt;</th></tr>\n",
       "</thead>\n",
       "<tbody>\n",
       "\t<tr><td>chr1</td><td> 10038</td><td> 10405</td><td>chr1:10038-10405  </td><td>1</td><td>ASTARR</td></tr>\n",
       "\t<tr><td>chr1</td><td> 16025</td><td> 16338</td><td>chr1:16025-16338  </td><td>1</td><td>ASTARR</td></tr>\n",
       "\t<tr><td>chr1</td><td> 17288</td><td> 17689</td><td>chr1:17288-17689  </td><td>1</td><td>ASTARR</td></tr>\n",
       "\t<tr><td>chr1</td><td> 28934</td><td> 29499</td><td>chr1:28934-29499  </td><td>1</td><td>ASTARR</td></tr>\n",
       "\t<tr><td>chr1</td><td>115429</td><td>115969</td><td>chr1:115429-115969</td><td>1</td><td>ASTARR</td></tr>\n",
       "\t<tr><td>chr1</td><td>136201</td><td>137353</td><td>chr1:136201-137353</td><td>1</td><td>ASTARR</td></tr>\n",
       "</tbody>\n",
       "</table>\n"
      ],
      "text/latex": [
       "A tibble: 6 × 6\n",
       "\\begin{tabular}{llllll}\n",
       " Chrom & ChromStart & ChromEnd & Region & Num\\_Assay & Assays\\\\\n",
       " <chr> & <dbl> & <dbl> & <chr> & <dbl> & <chr>\\\\\n",
       "\\hline\n",
       "\t chr1 &  10038 &  10405 & chr1:10038-10405   & 1 & ASTARR\\\\\n",
       "\t chr1 &  16025 &  16338 & chr1:16025-16338   & 1 & ASTARR\\\\\n",
       "\t chr1 &  17288 &  17689 & chr1:17288-17689   & 1 & ASTARR\\\\\n",
       "\t chr1 &  28934 &  29499 & chr1:28934-29499   & 1 & ASTARR\\\\\n",
       "\t chr1 & 115429 & 115969 & chr1:115429-115969 & 1 & ASTARR\\\\\n",
       "\t chr1 & 136201 & 137353 & chr1:136201-137353 & 1 & ASTARR\\\\\n",
       "\\end{tabular}\n"
      ],
      "text/markdown": [
       "\n",
       "A tibble: 6 × 6\n",
       "\n",
       "| Chrom &lt;chr&gt; | ChromStart &lt;dbl&gt; | ChromEnd &lt;dbl&gt; | Region &lt;chr&gt; | Num_Assay &lt;dbl&gt; | Assays &lt;chr&gt; |\n",
       "|---|---|---|---|---|---|\n",
       "| chr1 |  10038 |  10405 | chr1:10038-10405   | 1 | ASTARR |\n",
       "| chr1 |  16025 |  16338 | chr1:16025-16338   | 1 | ASTARR |\n",
       "| chr1 |  17288 |  17689 | chr1:17288-17689   | 1 | ASTARR |\n",
       "| chr1 |  28934 |  29499 | chr1:28934-29499   | 1 | ASTARR |\n",
       "| chr1 | 115429 | 115969 | chr1:115429-115969 | 1 | ASTARR |\n",
       "| chr1 | 136201 | 137353 | chr1:136201-137353 | 1 | ASTARR |\n",
       "\n"
      ],
      "text/plain": [
       "  Chrom ChromStart ChromEnd Region             Num_Assay Assays\n",
       "1 chr1   10038      10405   chr1:10038-10405   1         ASTARR\n",
       "2 chr1   16025      16338   chr1:16025-16338   1         ASTARR\n",
       "3 chr1   17288      17689   chr1:17288-17689   1         ASTARR\n",
       "4 chr1   28934      29499   chr1:28934-29499   1         ASTARR\n",
       "5 chr1  115429     115969   chr1:115429-115969 1         ASTARR\n",
       "6 chr1  136201     137353   chr1:136201-137353 1         ASTARR"
      ]
     },
     "metadata": {},
     "output_type": "display_data"
    }
   ],
   "source": [
    "lst = lst_dat_region_annot_fcc_assayvote_import\n",
    "dat = lst[[1]]\n",
    "head(dat)"
   ]
  },
  {
   "cell_type": "code",
   "execution_count": 15,
   "id": "a2ed62ba-38ec-44c8-bccc-715eae8aa411",
   "metadata": {},
   "outputs": [
    {
     "name": "stdout",
     "output_type": "stream",
     "text": [
      "[1] 33953\n"
     ]
    }
   ],
   "source": [
    "lst = lst_dat_region_annot_fcc_assayvote_import\n",
    "dat = lst[[1]]\n",
    "dat = dat %>% dplyr::filter(Num_Assay > 1)\n",
    "vec = unique(dat$Region)\n",
    "\n",
    "vec_txt_region = vec\n",
    "print(length(vec))"
   ]
  },
  {
   "cell_type": "code",
   "execution_count": 18,
   "id": "c497064d-ea2d-4d25-a2ba-ffe9890384b5",
   "metadata": {},
   "outputs": [
    {
     "data": {
      "text/html": [
       "<style>\n",
       ".list-inline {list-style: none; margin:0; padding: 0}\n",
       ".list-inline>li {display: inline-block}\n",
       ".list-inline>li:not(:last-child)::after {content: \"\\00b7\"; padding: 0 .5ex}\n",
       "</style>\n",
       "<ol class=list-inline><li>'STARR'</li><li>'STARR'</li><li>'MPRA'</li><li>'MPRA'</li><li>'CRISPR'</li><li>'CRISPR'</li><li>'CRISPR'</li></ol>\n"
      ],
      "text/latex": [
       "\\begin{enumerate*}\n",
       "\\item 'STARR'\n",
       "\\item 'STARR'\n",
       "\\item 'MPRA'\n",
       "\\item 'MPRA'\n",
       "\\item 'CRISPR'\n",
       "\\item 'CRISPR'\n",
       "\\item 'CRISPR'\n",
       "\\end{enumerate*}\n"
      ],
      "text/markdown": [
       "1. 'STARR'\n",
       "2. 'STARR'\n",
       "3. 'MPRA'\n",
       "4. 'MPRA'\n",
       "5. 'CRISPR'\n",
       "6. 'CRISPR'\n",
       "7. 'CRISPR'\n",
       "\n",
       "\n"
      ],
      "text/plain": [
       "[1] \"STARR\"  \"STARR\"  \"MPRA\"   \"MPRA\"   \"CRISPR\" \"CRISPR\" \"CRISPR\""
      ]
     },
     "metadata": {},
     "output_type": "display_data"
    }
   ],
   "source": [
    "fun = function(vec_txt_input){\n",
    "    vec_txt_pattern = c(\"STARR\", \"MPRA\", \"CRISPR\", \"E2G\")\n",
    "    vec_txt_replace = c(\"STARR\", \"MPRA\", \"CRISPR\", \"CRISPR\")\n",
    "    vec_txt_output = fun_str_map_detect(\n",
    "        vec_txt_input, \n",
    "        vec_txt_pattern,\n",
    "        vec_txt_replace\n",
    "    )\n",
    "    return(vec_txt_output)\n",
    "}\n",
    "\n",
    "fun(c(\"ASTARR\", \"WSTARR\", \"TMPRA\", \"LMPRA\", \"CRISPRi-HCRFF\", \"CRISPRi-Growth\", \"E2G-Benchmark\"))"
   ]
  },
  {
   "cell_type": "code",
   "execution_count": 20,
   "id": "ed5740f3-4e6a-4dbf-8f6a-b3810ef91db9",
   "metadata": {},
   "outputs": [
    {
     "name": "stdout",
     "output_type": "stream",
     "text": [
      "[1] 56327     2\n"
     ]
    },
    {
     "data": {
      "text/html": [
       "<table class=\"dataframe\">\n",
       "<caption>A tibble: 6 × 2</caption>\n",
       "<thead>\n",
       "\t<tr><th scope=col>Region</th><th scope=col>Group</th></tr>\n",
       "\t<tr><th scope=col>&lt;chr&gt;</th><th scope=col>&lt;chr&gt;</th></tr>\n",
       "</thead>\n",
       "<tbody>\n",
       "\t<tr><td>chr1:605104-605675</td><td>STARR</td></tr>\n",
       "\t<tr><td>chr1:778233-779389</td><td>STARR</td></tr>\n",
       "\t<tr><td>chr1:778233-779389</td><td>MPRA </td></tr>\n",
       "\t<tr><td>chr1:818708-819335</td><td>STARR</td></tr>\n",
       "\t<tr><td>chr1:826796-828040</td><td>STARR</td></tr>\n",
       "\t<tr><td>chr1:842516-843431</td><td>STARR</td></tr>\n",
       "</tbody>\n",
       "</table>\n"
      ],
      "text/latex": [
       "A tibble: 6 × 2\n",
       "\\begin{tabular}{ll}\n",
       " Region & Group\\\\\n",
       " <chr> & <chr>\\\\\n",
       "\\hline\n",
       "\t chr1:605104-605675 & STARR\\\\\n",
       "\t chr1:778233-779389 & STARR\\\\\n",
       "\t chr1:778233-779389 & MPRA \\\\\n",
       "\t chr1:818708-819335 & STARR\\\\\n",
       "\t chr1:826796-828040 & STARR\\\\\n",
       "\t chr1:842516-843431 & STARR\\\\\n",
       "\\end{tabular}\n"
      ],
      "text/markdown": [
       "\n",
       "A tibble: 6 × 2\n",
       "\n",
       "| Region &lt;chr&gt; | Group &lt;chr&gt; |\n",
       "|---|---|\n",
       "| chr1:605104-605675 | STARR |\n",
       "| chr1:778233-779389 | STARR |\n",
       "| chr1:778233-779389 | MPRA  |\n",
       "| chr1:818708-819335 | STARR |\n",
       "| chr1:826796-828040 | STARR |\n",
       "| chr1:842516-843431 | STARR |\n",
       "\n"
      ],
      "text/plain": [
       "  Region             Group\n",
       "1 chr1:605104-605675 STARR\n",
       "2 chr1:778233-779389 STARR\n",
       "3 chr1:778233-779389 MPRA \n",
       "4 chr1:818708-819335 STARR\n",
       "5 chr1:826796-828040 STARR\n",
       "6 chr1:842516-843431 STARR"
      ]
     },
     "metadata": {},
     "output_type": "display_data"
    }
   ],
   "source": [
    "lst = lst_dat_region_annot_fcc_concat_import\n",
    "dat = lst[[1]]\n",
    "dat = dat %>% \n",
    "    dplyr::filter(Region %in% vec_txt_region) %>%\n",
    "    dplyr::mutate(Group = fun(Group)) %>%\n",
    "    dplyr::select(Region, Group) %>% \n",
    "    dplyr::distinct()\n",
    "\n",
    "#vec_txt_region = vec\n",
    "#print(length(vec))\n",
    "\n",
    "dat_region_annot = dat\n",
    "print(dim(dat))\n",
    "head(dat)"
   ]
  },
  {
   "cell_type": "code",
   "execution_count": 10,
   "id": "98d26586-977f-44ec-8b4e-2eeda25f8292",
   "metadata": {},
   "outputs": [],
   "source": [
    "library(UpSetR)"
   ]
  },
  {
   "cell_type": "code",
   "execution_count": 21,
   "id": "c6e1562a-f15b-4729-babd-796ac269ed31",
   "metadata": {},
   "outputs": [
    {
     "data": {
      "image/png": "[encoded data removed]",
      "text/plain": [
       "plot without title"
      ]
     },
     "metadata": {
      "image/png": {
       "height": 300,
       "width": 600
      }
     },
     "output_type": "display_data"
    }
   ],
   "source": [
    "dat = dat_region_annot\n",
    "lst = split(dat$Region, dat$Group)\n",
    "\n",
    "options(repr.plot.height=5, repr.plot.width=10)\n",
    "upset(fromList(lst), order.by = \"freq\", text.scale=1.7)"
   ]
  },
  {
   "cell_type": "code",
   "execution_count": null,
   "id": "c7159d1e-b4ec-451d-8fb2-9d979c522976",
   "metadata": {},
   "outputs": [],
   "source": []
  }
 ],
 "metadata": {
  "kernelspec": {
   "display_name": "R",
   "language": "R",
   "name": "ir"
  },
  "language_info": {
   "codemirror_mode": "r",
   "file_extension": ".r",
   "mimetype": "text/x-r-source",
   "name": "R",
   "pygments_lexer": "r",
   "version": "4.4.2"
  }
 },
 "nbformat": 4,
 "nbformat_minor": 5
}
