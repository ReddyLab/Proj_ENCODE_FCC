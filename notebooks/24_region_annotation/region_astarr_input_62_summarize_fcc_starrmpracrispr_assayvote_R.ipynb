{
 "cells": [
  {
   "cell_type": "raw",
   "id": "be6dd275-aeab-4f12-8e87-63366c967434",
   "metadata": {},
   "source": [
    "---\n",
    "title: FCC Peak calls\n",
    "subtitle: export annotation\n",
    "format:\n",
    "    html:\n",
    "        code-fold:  true\n",
    "        code-tools: true\n",
    "---"
   ]
  },
  {
   "cell_type": "markdown",
   "id": "98ece3ff-4321-4b9b-ae12-45c0cb2f710d",
   "metadata": {},
   "source": [
    "**Set environment**"
   ]
  },
  {
   "cell_type": "code",
   "execution_count": 1,
   "id": "70771e4d-8549-4b9a-b93a-fb009c3f5cf5",
   "metadata": {
    "tags": []
   },
   "outputs": [
    {
     "name": "stdout",
     "output_type": "stream",
     "text": [
      "You are working on        Singularity: singularity_proj_encode_fcc \n",
      "BASE DIRECTORY (FD_BASE): /data/reddylab/Kuei \n",
      "REPO DIRECTORY (FD_REPO): /data/reddylab/Kuei/repo \n",
      "WORK DIRECTORY (FD_WORK): /data/reddylab/Kuei/work \n",
      "DATA DIRECTORY (FD_DATA): /data/reddylab/Kuei/data \n",
      "\n",
      "You are working with      ENCODE FCC \n",
      "PATH OF PROJECT (FD_PRJ): /data/reddylab/Kuei/repo/Proj_ENCODE_FCC \n",
      "PROJECT RESULTS (FD_RES): /data/reddylab/Kuei/repo/Proj_ENCODE_FCC/results \n",
      "PROJECT SCRIPTS (FD_EXE): /data/reddylab/Kuei/repo/Proj_ENCODE_FCC/scripts \n",
      "PROJECT DATA    (FD_DAT): /data/reddylab/Kuei/repo/Proj_ENCODE_FCC/data \n",
      "PROJECT NOTE    (FD_NBK): /data/reddylab/Kuei/repo/Proj_ENCODE_FCC/notebooks \n",
      "PROJECT DOCS    (FD_DOC): /data/reddylab/Kuei/repo/Proj_ENCODE_FCC/docs \n",
      "PROJECT LOG     (FD_LOG): /data/reddylab/Kuei/repo/Proj_ENCODE_FCC/log \n",
      "PROJECT REF     (FD_REF): /data/reddylab/Kuei/repo/Proj_ENCODE_FCC/references \n",
      "\n"
     ]
    }
   ],
   "source": [
    "suppressMessages(suppressWarnings(source(\"../run_config_project_sing.R\")))\n",
    "show_env()"
   ]
  },
  {
   "cell_type": "markdown",
   "id": "620b7b2f-c0bc-49b9-95d9-846eb571052f",
   "metadata": {},
   "source": [
    "## Prepare"
   ]
  },
  {
   "cell_type": "markdown",
   "id": "483bf58d-ed0b-4416-938f-d924a6d9b9d7",
   "metadata": {},
   "source": [
    "**Set global variable**"
   ]
  },
  {
   "cell_type": "code",
   "execution_count": 2,
   "id": "7d73832f-6a16-4827-a5e9-59b7ca21175a",
   "metadata": {},
   "outputs": [],
   "source": [
    "TXT_FNAME_INP = \"region.annotation.fcc_starrmpra_junke.assayvote.tsv\"\n",
    "TXT_FNAME_OUT = \"region.annotation.genome_tss.tsv\""
   ]
  },
  {
   "cell_type": "markdown",
   "id": "7fcbe8c4-d800-4942-a192-9197ecbaab60",
   "metadata": {},
   "source": [
    "**View files**"
   ]
  },
  {
   "cell_type": "code",
   "execution_count": 3,
   "id": "75507ae8-ed7f-4b33-bc96-5115e8a0c3b9",
   "metadata": {},
   "outputs": [
    {
     "name": "stdout",
     "output_type": "stream",
     "text": [
      "fcc_astarr_macs_input_overlap \n",
      "fcc_astarr_macs_input_union \n"
     ]
    }
   ],
   "source": [
    "### get annotated region folder\n",
    "txt_fdiry = file.path(FD_RES, \"region_annotation\")\n",
    "vec = dir(txt_fdiry)\n",
    "names(vec) = vec\n",
    "\n",
    "### assign and show\n",
    "vec_txt_folder = vec\n",
    "for(txt in vec){cat(txt, \"\\n\")}"
   ]
  },
  {
   "cell_type": "code",
   "execution_count": 4,
   "id": "1756b16c-7e58-4abd-82d0-f2f306c2470f",
   "metadata": {},
   "outputs": [
    {
     "name": "stdout",
     "output_type": "stream",
     "text": [
      "/data/reddylab/Kuei/repo/Proj_ENCODE_FCC/results/region_annotation/fcc_astarr_macs_input_overlap/summary/region.annotation.fcc_starrmpra_junke.assayvote.tsv \n",
      "/data/reddylab/Kuei/repo/Proj_ENCODE_FCC/results/region_annotation/fcc_astarr_macs_input_union/summary/region.annotation.fcc_starrmpra_junke.assayvote.tsv \n"
     ]
    }
   ],
   "source": [
    "txt_fdiry = file.path(FD_RES, \"region_annotation\", \"*\", \"summary\")\n",
    "txt_fname = TXT_FNAME_INP\n",
    "txt_fglob = file.path(txt_fdiry, txt_fname)\n",
    "\n",
    "vec = Sys.glob(txt_fglob)\n",
    "for(txt in vec){cat(txt, \"\\n\")}"
   ]
  },
  {
   "cell_type": "markdown",
   "id": "5e2d0d79-a3d0-43e2-9194-10a19f23b82e",
   "metadata": {},
   "source": [
    "## Import data"
   ]
  },
  {
   "cell_type": "code",
   "execution_count": 6,
   "id": "01623781-fcff-4243-8b63-870960617447",
   "metadata": {},
   "outputs": [
    {
     "name": "stdout",
     "output_type": "stream",
     "text": [
      "$fcc_astarr_macs_input_overlap\n",
      "[1] 156686      6\n",
      "\n",
      "$fcc_astarr_macs_input_union\n",
      "[1] 201420      6\n",
      "\n"
     ]
    },
    {
     "data": {
      "text/html": [
       "<table>\n",
       " <thead>\n",
       "  <tr>\n",
       "   <th style=\"text-align:left;\"> Chrom </th>\n",
       "   <th style=\"text-align:right;\"> ChromStart </th>\n",
       "   <th style=\"text-align:right;\"> ChromEnd </th>\n",
       "   <th style=\"text-align:left;\"> Region </th>\n",
       "   <th style=\"text-align:left;\"> Group </th>\n",
       "   <th style=\"text-align:left;\"> Label </th>\n",
       "  </tr>\n",
       " </thead>\n",
       "<tbody>\n",
       "  <tr>\n",
       "   <td style=\"text-align:left;\"> chr1 </td>\n",
       "   <td style=\"text-align:right;\"> 10038 </td>\n",
       "   <td style=\"text-align:right;\"> 10405 </td>\n",
       "   <td style=\"text-align:left;\"> chr1:10038-10405 </td>\n",
       "   <td style=\"text-align:left;\"> ASTARR </td>\n",
       "   <td style=\"text-align:left;\"> ASTARR_R </td>\n",
       "  </tr>\n",
       "  <tr>\n",
       "   <td style=\"text-align:left;\"> chr1 </td>\n",
       "   <td style=\"text-align:right;\"> 16025 </td>\n",
       "   <td style=\"text-align:right;\"> 16338 </td>\n",
       "   <td style=\"text-align:left;\"> chr1:16025-16338 </td>\n",
       "   <td style=\"text-align:left;\"> ASTARR </td>\n",
       "   <td style=\"text-align:left;\"> ASTARR_R </td>\n",
       "  </tr>\n",
       "  <tr>\n",
       "   <td style=\"text-align:left;\"> chr1 </td>\n",
       "   <td style=\"text-align:right;\"> 17288 </td>\n",
       "   <td style=\"text-align:right;\"> 17689 </td>\n",
       "   <td style=\"text-align:left;\"> chr1:17288-17689 </td>\n",
       "   <td style=\"text-align:left;\"> ASTARR </td>\n",
       "   <td style=\"text-align:left;\"> ASTARR_R </td>\n",
       "  </tr>\n",
       "</tbody>\n",
       "</table>"
      ]
     },
     "metadata": {},
     "output_type": "display_data"
    }
   ],
   "source": [
    "lst = lapply(vec_txt_folder, function(txt_folder){\n",
    "    ### set file directory\n",
    "    txt_fdiry = file.path(\n",
    "        FD_RES, \n",
    "        \"region_annotation\", \n",
    "        txt_folder,\n",
    "        \"summary\"\n",
    "    )\n",
    "    txt_fname = \"region.annotation.fcc_starrmpracrispr.concat.tsv\"\n",
    "    txt_fpath = file.path(txt_fdiry, txt_fname)\n",
    "\n",
    "    ### read table\n",
    "    dat = read_tsv(txt_fpath, show_col_types = FALSE)\n",
    "    return(dat)\n",
    "})\n",
    "names(lst) = vec_txt_folder\n",
    "\n",
    "### assign and show\n",
    "lst_dat_region_annot_fcc_peak_merge = lst\n",
    "res = lapply(lst, dim)\n",
    "print(res)\n",
    "dat = lst[[1]]\n",
    "fun_display_table(head(dat, 3))"
   ]
  },
  {
   "cell_type": "code",
   "execution_count": null,
   "id": "eaffb12a-8191-4d76-8731-3161647b2e23",
   "metadata": {},
   "outputs": [],
   "source": []
  },
  {
   "cell_type": "code",
   "execution_count": null,
   "id": "08117b19-1e53-43e7-bac3-1896dbc9d415",
   "metadata": {},
   "outputs": [],
   "source": []
  },
  {
   "cell_type": "code",
   "execution_count": null,
   "id": "be8f40d6-5a07-48d4-afd5-fbb9d54e96f4",
   "metadata": {},
   "outputs": [],
   "source": []
  },
  {
   "cell_type": "code",
   "execution_count": 7,
   "id": "435f4511-438b-4e5b-887e-3df0fcfe5c0a",
   "metadata": {},
   "outputs": [
    {
     "name": "stdout",
     "output_type": "stream",
     "text": [
      "$fcc_astarr_macs_input_overlap\n",
      "[1] 100454      6\n",
      "\n",
      "$fcc_astarr_macs_input_union\n",
      "[1] 135780      6\n",
      "\n"
     ]
    },
    {
     "data": {
      "text/html": [
       "<table>\n",
       " <thead>\n",
       "  <tr>\n",
       "   <th style=\"text-align:left;\"> Chrom </th>\n",
       "   <th style=\"text-align:right;\"> ChromStart </th>\n",
       "   <th style=\"text-align:right;\"> ChromEnd </th>\n",
       "   <th style=\"text-align:left;\"> Region </th>\n",
       "   <th style=\"text-align:right;\"> Num_Assay </th>\n",
       "   <th style=\"text-align:left;\"> Assays </th>\n",
       "  </tr>\n",
       " </thead>\n",
       "<tbody>\n",
       "  <tr>\n",
       "   <td style=\"text-align:left;\"> chr1 </td>\n",
       "   <td style=\"text-align:right;\"> 10038 </td>\n",
       "   <td style=\"text-align:right;\"> 10405 </td>\n",
       "   <td style=\"text-align:left;\"> chr1:10038-10405 </td>\n",
       "   <td style=\"text-align:right;\"> 1 </td>\n",
       "   <td style=\"text-align:left;\"> ASTARR </td>\n",
       "  </tr>\n",
       "  <tr>\n",
       "   <td style=\"text-align:left;\"> chr1 </td>\n",
       "   <td style=\"text-align:right;\"> 16025 </td>\n",
       "   <td style=\"text-align:right;\"> 16338 </td>\n",
       "   <td style=\"text-align:left;\"> chr1:16025-16338 </td>\n",
       "   <td style=\"text-align:right;\"> 1 </td>\n",
       "   <td style=\"text-align:left;\"> ASTARR </td>\n",
       "  </tr>\n",
       "  <tr>\n",
       "   <td style=\"text-align:left;\"> chr1 </td>\n",
       "   <td style=\"text-align:right;\"> 17288 </td>\n",
       "   <td style=\"text-align:right;\"> 17689 </td>\n",
       "   <td style=\"text-align:left;\"> chr1:17288-17689 </td>\n",
       "   <td style=\"text-align:right;\"> 1 </td>\n",
       "   <td style=\"text-align:left;\"> ASTARR </td>\n",
       "  </tr>\n",
       "</tbody>\n",
       "</table>"
      ]
     },
     "metadata": {},
     "output_type": "display_data"
    }
   ],
   "source": [
    "lst = lst_dat_region_annot_fcc_peak_merge\n",
    "lst = lapply(lst, function(dat){\n",
    "\n",
    "    dat = dat %>% \n",
    "        dplyr::select(Chrom:Region, Group) %>% \n",
    "        dplyr::distinct()\n",
    "    dat = dat %>% \n",
    "        dplyr::group_by(Chrom, ChromStart, ChromEnd, Region) %>% \n",
    "        dplyr::summarise(\n",
    "            Num_Assay = n(),\n",
    "            Assays    = paste(Group, collapse = \",\"),\n",
    "            .groups   = \"drop\"\n",
    "        )\n",
    "    return(dat)\n",
    "})\n",
    "lst_dat_region_fcc_assayvote = lst\n",
    "res = lapply(lst, dim)\n",
    "print(res)\n",
    "dat = lst[[1]]\n",
    "fun_display_table(head(dat, 3))"
   ]
  },
  {
   "cell_type": "markdown",
   "id": "dc766b8e-316d-46b5-8a07-350d76c6d0fd",
   "metadata": {},
   "source": [
    "**Explore: Assays**"
   ]
  },
  {
   "cell_type": "code",
   "execution_count": 8,
   "id": "343a68e0-cdff-4932-bc8c-51a888b6e5e9",
   "metadata": {},
   "outputs": [
    {
     "data": {
      "text/plain": [
       "\n",
       "                                                              ASTARR \n",
       "                                                               58744 \n",
       "                                               ASTARR,CRISPRi-Growth \n",
       "                                                                1277 \n",
       "                                 ASTARR,CRISPRi-Growth,E2G-Benchmark \n",
       "                                                                   3 \n",
       "                                                ASTARR,CRISPRi-HCRFF \n",
       "                                                                   8 \n",
       "                                 ASTARR,CRISPRi-HCRFF,CRISPRi-Growth \n",
       "                                                                   1 \n",
       "                                                ASTARR,E2G-Benchmark \n",
       "                                                                  69 \n",
       "                                                        ASTARR,LMPRA \n",
       "                                                                6390 \n",
       "                                         ASTARR,LMPRA,CRISPRi-Growth \n",
       "                                                                 288 \n",
       "                           ASTARR,LMPRA,CRISPRi-Growth,E2G-Benchmark \n",
       "                                                                   5 \n",
       "                                          ASTARR,LMPRA,CRISPRi-HCRFF \n",
       "                                                                   2 \n",
       "                           ASTARR,LMPRA,CRISPRi-HCRFF,CRISPRi-Growth \n",
       "                                                                   3 \n",
       "                            ASTARR,LMPRA,CRISPRi-HCRFF,E2G-Benchmark \n",
       "                                                                   1 \n",
       "                                          ASTARR,LMPRA,E2G-Benchmark \n",
       "                                                                  48 \n",
       "                                                  ASTARR,LMPRA,TMPRA \n",
       "                                                                  60 \n",
       "                                   ASTARR,LMPRA,TMPRA,CRISPRi-Growth \n",
       "                                                                   1 \n",
       "                      ASTARR,LMPRA,TMPRA,CRISPRi-HCRFF,E2G-Benchmark \n",
       "                                                                   2 \n",
       "                                           ASTARR,LMPRA,TMPRA,WSTARR \n",
       "                                                                  73 \n",
       "                            ASTARR,LMPRA,TMPRA,WSTARR,CRISPRi-Growth \n",
       "                                                                   7 \n",
       "              ASTARR,LMPRA,TMPRA,WSTARR,CRISPRi-Growth,E2G-Benchmark \n",
       "                                                                   1 \n",
       "                             ASTARR,LMPRA,TMPRA,WSTARR,CRISPRi-HCRFF \n",
       "                                                                   5 \n",
       "              ASTARR,LMPRA,TMPRA,WSTARR,CRISPRi-HCRFF,CRISPRi-Growth \n",
       "                                                                   1 \n",
       "ASTARR,LMPRA,TMPRA,WSTARR,CRISPRi-HCRFF,CRISPRi-Growth,E2G-Benchmark \n",
       "                                                                   5 \n",
       "               ASTARR,LMPRA,TMPRA,WSTARR,CRISPRi-HCRFF,E2G-Benchmark \n",
       "                                                                   2 \n",
       "                             ASTARR,LMPRA,TMPRA,WSTARR,E2G-Benchmark \n",
       "                                                                   2 \n",
       "                                                 ASTARR,LMPRA,WSTARR \n",
       "                                                                8292 \n",
       "                                  ASTARR,LMPRA,WSTARR,CRISPRi-Growth \n",
       "                                                                 985 \n",
       "                    ASTARR,LMPRA,WSTARR,CRISPRi-Growth,E2G-Benchmark \n",
       "                                                                  10 \n",
       "                                   ASTARR,LMPRA,WSTARR,CRISPRi-HCRFF \n",
       "                                                                   1 \n",
       "                    ASTARR,LMPRA,WSTARR,CRISPRi-HCRFF,CRISPRi-Growth \n",
       "                                                                   1 \n",
       "                                   ASTARR,LMPRA,WSTARR,E2G-Benchmark \n",
       "                                                                  92 \n",
       "                                                        ASTARR,TMPRA \n",
       "                                                                 291 \n",
       "                                         ASTARR,TMPRA,CRISPRi-Growth \n",
       "                                                                  10 \n",
       "                                          ASTARR,TMPRA,CRISPRi-HCRFF \n",
       "                                                                   2 \n",
       "                            ASTARR,TMPRA,CRISPRi-HCRFF,E2G-Benchmark \n",
       "                                                                   1 \n",
       "                                          ASTARR,TMPRA,E2G-Benchmark \n",
       "                                                                   3 \n",
       "                                                 ASTARR,TMPRA,WSTARR \n",
       "                                                                  93 \n",
       "                                  ASTARR,TMPRA,WSTARR,CRISPRi-Growth \n",
       "                                                                   8 \n",
       "                                   ASTARR,TMPRA,WSTARR,CRISPRi-HCRFF \n",
       "                                                                   2 \n",
       "                    ASTARR,TMPRA,WSTARR,CRISPRi-HCRFF,CRISPRi-Growth \n",
       "                                                                   2 \n",
       "      ASTARR,TMPRA,WSTARR,CRISPRi-HCRFF,CRISPRi-Growth,E2G-Benchmark \n",
       "                                                                   2 \n",
       "                     ASTARR,TMPRA,WSTARR,CRISPRi-HCRFF,E2G-Benchmark \n",
       "                                                                   1 \n",
       "                                   ASTARR,TMPRA,WSTARR,E2G-Benchmark \n",
       "                                                                   1 \n",
       "                                                       ASTARR,WSTARR \n",
       "                                                               13224 \n",
       "                                        ASTARR,WSTARR,CRISPRi-Growth \n",
       "                                                                 698 \n",
       "                          ASTARR,WSTARR,CRISPRi-Growth,E2G-Benchmark \n",
       "                                                                   2 \n",
       "                                         ASTARR,WSTARR,CRISPRi-HCRFF \n",
       "                                                                   2 \n",
       "                          ASTARR,WSTARR,CRISPRi-HCRFF,CRISPRi-Growth \n",
       "                                                                   1 \n",
       "                                         ASTARR,WSTARR,E2G-Benchmark \n",
       "                                                                  43 \n",
       "                                                      CRISPRi-Growth \n",
       "                                                                 667 \n",
       "                                        CRISPRi-Growth,E2G-Benchmark \n",
       "                                                                   1 \n",
       "                                                       CRISPRi-HCRFF \n",
       "                                                                   7 \n",
       "                                                       E2G-Benchmark \n",
       "                                                                  30 \n",
       "                                                               LMPRA \n",
       "                                                                2862 \n",
       "                                                LMPRA,CRISPRi-Growth \n",
       "                                                                 101 \n",
       "                                  LMPRA,CRISPRi-Growth,E2G-Benchmark \n",
       "                                                                   2 \n",
       "                                                 LMPRA,E2G-Benchmark \n",
       "                                                                  15 \n",
       "                                                         LMPRA,TMPRA \n",
       "                                                                  30 \n",
       "                                          LMPRA,TMPRA,CRISPRi-Growth \n",
       "                                                                   1 \n",
       "                                                  LMPRA,TMPRA,WSTARR \n",
       "                                                                  12 \n",
       "                                   LMPRA,TMPRA,WSTARR,CRISPRi-Growth \n",
       "                                                                   1 \n",
       "                                                        LMPRA,WSTARR \n",
       "                                                                1427 \n",
       "                                         LMPRA,WSTARR,CRISPRi-Growth \n",
       "                                                                 167 \n",
       "                                          LMPRA,WSTARR,CRISPRi-HCRFF \n",
       "                                                                   1 \n",
       "                                          LMPRA,WSTARR,E2G-Benchmark \n",
       "                                                                   9 \n",
       "                                                               TMPRA \n",
       "                                                                 193 \n",
       "                                                TMPRA,CRISPRi-Growth \n",
       "                                                                   4 \n",
       "                                                 TMPRA,CRISPRi-HCRFF \n",
       "                                                                   1 \n",
       "                                                 TMPRA,E2G-Benchmark \n",
       "                                                                   2 \n",
       "                                                        TMPRA,WSTARR \n",
       "                                                                  25 \n",
       "                                         TMPRA,WSTARR,CRISPRi-Growth \n",
       "                                                                   1 \n",
       "                                          TMPRA,WSTARR,CRISPRi-HCRFF \n",
       "                                                                   1 \n",
       "             TMPRA,WSTARR,CRISPRi-HCRFF,CRISPRi-Growth,E2G-Benchmark \n",
       "                                                                   1 \n",
       "                                          TMPRA,WSTARR,E2G-Benchmark \n",
       "                                                                   1 \n",
       "                                                              WSTARR \n",
       "                                                                3998 \n",
       "                                               WSTARR,CRISPRi-Growth \n",
       "                                                                 123 \n",
       "                                                WSTARR,E2G-Benchmark \n",
       "                                                                   6 "
      ]
     },
     "metadata": {},
     "output_type": "display_data"
    }
   ],
   "source": [
    "lst = lst_dat_region_fcc_assayvote\n",
    "dat = lst[[1]]\n",
    "table(dat$Assays)"
   ]
  },
  {
   "cell_type": "markdown",
   "id": "585ca800-293e-44a6-a332-6ffb95550328",
   "metadata": {},
   "source": [
    "**Explore: Count**"
   ]
  },
  {
   "cell_type": "code",
   "execution_count": 9,
   "id": "302b24e5-696b-49e3-878f-b55d9ce95603",
   "metadata": {},
   "outputs": [
    {
     "data": {
      "text/html": [
       "<table>\n",
       " <thead>\n",
       "  <tr>\n",
       "   <th style=\"text-align:left;\"> Region </th>\n",
       "   <th style=\"text-align:right;\"> N1 </th>\n",
       "   <th style=\"text-align:right;\"> N2 </th>\n",
       "   <th style=\"text-align:right;\"> N3 </th>\n",
       "   <th style=\"text-align:right;\"> N4 </th>\n",
       "   <th style=\"text-align:right;\"> N5 </th>\n",
       "   <th style=\"text-align:right;\"> N6 </th>\n",
       "   <th style=\"text-align:right;\"> N7 </th>\n",
       "  </tr>\n",
       " </thead>\n",
       "<tbody>\n",
       "  <tr>\n",
       "   <td style=\"text-align:left;\"> fcc_astarr_macs_input_overlap </td>\n",
       "   <td style=\"text-align:right;\"> 66501 </td>\n",
       "   <td style=\"text-align:right;\"> 22994 </td>\n",
       "   <td style=\"text-align:right;\"> 9740 </td>\n",
       "   <td style=\"text-align:right;\"> 1177 </td>\n",
       "   <td style=\"text-align:right;\"> 31 </td>\n",
       "   <td style=\"text-align:right;\"> 6 </td>\n",
       "   <td style=\"text-align:right;\"> 5 </td>\n",
       "  </tr>\n",
       "  <tr>\n",
       "   <td style=\"text-align:left;\"> fcc_astarr_macs_input_union </td>\n",
       "   <td style=\"text-align:right;\"> 95992 </td>\n",
       "   <td style=\"text-align:right;\"> 28122 </td>\n",
       "   <td style=\"text-align:right;\"> 10384 </td>\n",
       "   <td style=\"text-align:right;\"> 1237 </td>\n",
       "   <td style=\"text-align:right;\"> 34 </td>\n",
       "   <td style=\"text-align:right;\"> 6 </td>\n",
       "   <td style=\"text-align:right;\"> 5 </td>\n",
       "  </tr>\n",
       "</tbody>\n",
       "</table>"
      ]
     },
     "metadata": {},
     "output_type": "display_data"
    }
   ],
   "source": [
    "lst = lst_dat_region_fcc_assayvote\n",
    "lst = lapply(lst, function(dat){\n",
    "    dat = dat %>% dplyr::mutate(Note = paste0(\"N\", Num_Assay))\n",
    "    res = table(dat$Note, dnn=c(\"Note\"))\n",
    "    dat = as.data.frame(res)\n",
    "    return(dat)\n",
    "})\n",
    "\n",
    "dat = bind_rows(lst, .id = \"Region\")\n",
    "dat = dat %>% tidyr::spread(Note, Freq) #%>% dplyr::mutate(Total = sum(N1:N7))\n",
    "fun_display_table(dat)"
   ]
  },
  {
   "cell_type": "markdown",
   "id": "7efc49d4-354e-4860-8356-f6064c3befd2",
   "metadata": {},
   "source": [
    "```\n",
    "    1     2     3     4     5     6     7 \n",
    "66501 22994  9740  1177    31     6     5 \n",
    "```"
   ]
  },
  {
   "cell_type": "markdown",
   "id": "ebde5c6d-d073-4d6f-9c47-1216875966a6",
   "metadata": {},
   "source": [
    "## Save results"
   ]
  },
  {
   "cell_type": "code",
   "execution_count": 9,
   "id": "9da0fae2-2e79-4083-aad2-6f7976a57520",
   "metadata": {},
   "outputs": [],
   "source": [
    "lst = lst_dat_region_fcc_assayvote\n",
    "for (idx in names(lst)){\n",
    "\n",
    "    ### get each table\n",
    "    dat_region_annot_result = lst_dat_region_fcc_assayvote[[idx]]\n",
    "    \n",
    "    \n",
    "    ### set file directory\n",
    "    txt_folder = idx\n",
    "    txt_fdiry = file.path(\n",
    "        FD_RES, \n",
    "        \"region_annotation\", \n",
    "        txt_folder,\n",
    "        \"summary\"\n",
    "    )\n",
    "    \n",
    "    ### set file path\n",
    "    txt_fname = \"region.annotation.fcc_starrmpracrispr.assayvote.tsv\"\n",
    "    #txt_fname = \"region.summary.fcc_starrmpra_junke.assayvote.tsv\"\n",
    "    txt_fpath = file.path(txt_fdiry, txt_fname)\n",
    "\n",
    "    ### write table\n",
    "    dat = dat_region_annot_result\n",
    "    write_tsv(dat, txt_fpath)\n",
    "}"
   ]
  },
  {
   "cell_type": "code",
   "execution_count": 13,
   "id": "c54c3c77-6f04-4fab-85ee-5cfc2a14b0ea",
   "metadata": {},
   "outputs": [
    {
     "name": "stdout",
     "output_type": "stream",
     "text": [
      "[1] 33953     6\n"
     ]
    },
    {
     "data": {
      "text/html": [
       "<table class=\"dataframe\">\n",
       "<caption>A tibble: 6 × 6</caption>\n",
       "<thead>\n",
       "\t<tr><th scope=col>Chrom</th><th scope=col>ChromStart</th><th scope=col>ChromEnd</th><th scope=col>Region</th><th scope=col>Num_Assay</th><th scope=col>Assays</th></tr>\n",
       "\t<tr><th scope=col>&lt;chr&gt;</th><th scope=col>&lt;dbl&gt;</th><th scope=col>&lt;dbl&gt;</th><th scope=col>&lt;chr&gt;</th><th scope=col>&lt;int&gt;</th><th scope=col>&lt;chr&gt;</th></tr>\n",
       "</thead>\n",
       "<tbody>\n",
       "\t<tr><td>chr1</td><td>605104</td><td>605675</td><td>chr1:605104-605675</td><td>2</td><td>ASTARR,CRISPRi-Growth       </td></tr>\n",
       "\t<tr><td>chr1</td><td>778233</td><td>779389</td><td>chr1:778233-779389</td><td>3</td><td>ASTARR,LMPRA,WSTARR         </td></tr>\n",
       "\t<tr><td>chr1</td><td>818708</td><td>819335</td><td>chr1:818708-819335</td><td>2</td><td>ASTARR,WSTARR               </td></tr>\n",
       "\t<tr><td>chr1</td><td>826796</td><td>828040</td><td>chr1:826796-828040</td><td>3</td><td>ASTARR,WSTARR,CRISPRi-Growth</td></tr>\n",
       "\t<tr><td>chr1</td><td>842516</td><td>843431</td><td>chr1:842516-843431</td><td>2</td><td>ASTARR,LMPRA                </td></tr>\n",
       "\t<tr><td>chr1</td><td>903783</td><td>905204</td><td>chr1:903783-905204</td><td>2</td><td>ASTARR,LMPRA                </td></tr>\n",
       "</tbody>\n",
       "</table>\n"
      ],
      "text/latex": [
       "A tibble: 6 × 6\n",
       "\\begin{tabular}{llllll}\n",
       " Chrom & ChromStart & ChromEnd & Region & Num\\_Assay & Assays\\\\\n",
       " <chr> & <dbl> & <dbl> & <chr> & <int> & <chr>\\\\\n",
       "\\hline\n",
       "\t chr1 & 605104 & 605675 & chr1:605104-605675 & 2 & ASTARR,CRISPRi-Growth       \\\\\n",
       "\t chr1 & 778233 & 779389 & chr1:778233-779389 & 3 & ASTARR,LMPRA,WSTARR         \\\\\n",
       "\t chr1 & 818708 & 819335 & chr1:818708-819335 & 2 & ASTARR,WSTARR               \\\\\n",
       "\t chr1 & 826796 & 828040 & chr1:826796-828040 & 3 & ASTARR,WSTARR,CRISPRi-Growth\\\\\n",
       "\t chr1 & 842516 & 843431 & chr1:842516-843431 & 2 & ASTARR,LMPRA                \\\\\n",
       "\t chr1 & 903783 & 905204 & chr1:903783-905204 & 2 & ASTARR,LMPRA                \\\\\n",
       "\\end{tabular}\n"
      ],
      "text/markdown": [
       "\n",
       "A tibble: 6 × 6\n",
       "\n",
       "| Chrom &lt;chr&gt; | ChromStart &lt;dbl&gt; | ChromEnd &lt;dbl&gt; | Region &lt;chr&gt; | Num_Assay &lt;int&gt; | Assays &lt;chr&gt; |\n",
       "|---|---|---|---|---|---|\n",
       "| chr1 | 605104 | 605675 | chr1:605104-605675 | 2 | ASTARR,CRISPRi-Growth        |\n",
       "| chr1 | 778233 | 779389 | chr1:778233-779389 | 3 | ASTARR,LMPRA,WSTARR          |\n",
       "| chr1 | 818708 | 819335 | chr1:818708-819335 | 2 | ASTARR,WSTARR                |\n",
       "| chr1 | 826796 | 828040 | chr1:826796-828040 | 3 | ASTARR,WSTARR,CRISPRi-Growth |\n",
       "| chr1 | 842516 | 843431 | chr1:842516-843431 | 2 | ASTARR,LMPRA                 |\n",
       "| chr1 | 903783 | 905204 | chr1:903783-905204 | 2 | ASTARR,LMPRA                 |\n",
       "\n"
      ],
      "text/plain": [
       "  Chrom ChromStart ChromEnd Region             Num_Assay\n",
       "1 chr1  605104     605675   chr1:605104-605675 2        \n",
       "2 chr1  778233     779389   chr1:778233-779389 3        \n",
       "3 chr1  818708     819335   chr1:818708-819335 2        \n",
       "4 chr1  826796     828040   chr1:826796-828040 3        \n",
       "5 chr1  842516     843431   chr1:842516-843431 2        \n",
       "6 chr1  903783     905204   chr1:903783-905204 2        \n",
       "  Assays                      \n",
       "1 ASTARR,CRISPRi-Growth       \n",
       "2 ASTARR,LMPRA,WSTARR         \n",
       "3 ASTARR,WSTARR               \n",
       "4 ASTARR,WSTARR,CRISPRi-Growth\n",
       "5 ASTARR,LMPRA                \n",
       "6 ASTARR,LMPRA                "
      ]
     },
     "metadata": {},
     "output_type": "display_data"
    }
   ],
   "source": [
    "dat = lst_dat_region_fcc_assayvote[[\"fcc_astarr_macs_input_overlap\"]]\n",
    "dat = dat %>% dplyr::filter(Num_Assay > 1)\n",
    "#dat = dat %>% dplyr::select(Chrom, ChromStart, ChromEnd, Region, Group)\n",
    "dat = dat %>% dplyr::arrange(Chrom, ChromStart, ChromEnd) %>% dplyr::distinct()\n",
    "\n",
    "print(dim(dat))\n",
    "head(dat)"
   ]
  },
  {
   "cell_type": "code",
   "execution_count": 14,
   "id": "1140fa0d-95f7-4a31-9fad-8ac1bcf78d42",
   "metadata": {},
   "outputs": [],
   "source": [
    "txt_fdiry = file.path(\n",
    "    FD_REF, \n",
    "    \"fcc_peak_call_cres\"\n",
    ")\n",
    "txt_fname = \"region.annotation.fcc_starrmpracrispr.assayvote.filtered.tsv\"\n",
    "txt_fpath = file.path(txt_fdiry, txt_fname)\n",
    "\n",
    "write_tsv(dat, txt_fpath)"
   ]
  },
  {
   "cell_type": "code",
   "execution_count": null,
   "id": "660534b6-77e0-4ad9-908b-001340682cf3",
   "metadata": {},
   "outputs": [],
   "source": []
  }
 ],
 "metadata": {
  "kernelspec": {
   "display_name": "R",
   "language": "R",
   "name": "ir"
  },
  "language_info": {
   "codemirror_mode": "r",
   "file_extension": ".r",
   "mimetype": "text/x-r-source",
   "name": "R",
   "pygments_lexer": "r",
   "version": "4.4.2"
  }
 },
 "nbformat": 4,
 "nbformat_minor": 5
}
