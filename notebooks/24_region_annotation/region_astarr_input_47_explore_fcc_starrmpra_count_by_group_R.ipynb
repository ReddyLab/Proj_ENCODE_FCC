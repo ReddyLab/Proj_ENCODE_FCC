{
 "cells": [
  {
   "cell_type": "raw",
   "id": "f9f029fe-0526-42df-8ccb-fdb7a67dbd43",
   "metadata": {},
   "source": [
    "---\n",
    "title: Annotation of ATAC (ASTARR Input) 47\n",
    "subtitle: Explore/Visualize STARR/MPRA CRE overlapped\n",
    "format:\n",
    "    html:\n",
    "        code-fold:  true\n",
    "        code-tools: true\n",
    "---"
   ]
  },
  {
   "cell_type": "markdown",
   "id": "11e40b28-69c2-4c8a-8997-b5daa12de8c4",
   "metadata": {},
   "source": [
    "**Set environment**"
   ]
  },
  {
   "cell_type": "code",
   "execution_count": 1,
   "id": "49870691-d341-4f78-9a17-d99e86102aab",
   "metadata": {
    "tags": []
   },
   "outputs": [
    {
     "name": "stdout",
     "output_type": "stream",
     "text": [
      "You are working on        Singularity: singularity_proj_encode_fcc \n",
      "BASE DIRECTORY (FD_BASE): /data/reddylab/Kuei \n",
      "REPO DIRECTORY (FD_REPO): /data/reddylab/Kuei/repo \n",
      "WORK DIRECTORY (FD_WORK): /data/reddylab/Kuei/work \n",
      "DATA DIRECTORY (FD_DATA): /data/reddylab/Kuei/data \n",
      "\n",
      "You are working with      ENCODE FCC \n",
      "PATH OF PROJECT (FD_PRJ): /data/reddylab/Kuei/repo/Proj_ENCODE_FCC \n",
      "PROJECT RESULTS (FD_RES): /data/reddylab/Kuei/repo/Proj_ENCODE_FCC/results \n",
      "PROJECT SCRIPTS (FD_EXE): /data/reddylab/Kuei/repo/Proj_ENCODE_FCC/scripts \n",
      "PROJECT DATA    (FD_DAT): /data/reddylab/Kuei/repo/Proj_ENCODE_FCC/data \n",
      "PROJECT NOTE    (FD_NBK): /data/reddylab/Kuei/repo/Proj_ENCODE_FCC/notebooks \n",
      "PROJECT DOCS    (FD_DOC): /data/reddylab/Kuei/repo/Proj_ENCODE_FCC/docs \n",
      "PROJECT LOG     (FD_LOG): /data/reddylab/Kuei/repo/Proj_ENCODE_FCC/log \n",
      "PROJECT REF     (FD_REF): /data/reddylab/Kuei/repo/Proj_ENCODE_FCC/references \n",
      "\n"
     ]
    }
   ],
   "source": [
    "suppressMessages(suppressWarnings(source(\"../run_config_project_sing.R\")))\n",
    "library(UpSetR)\n",
    "show_env()"
   ]
  },
  {
   "cell_type": "markdown",
   "id": "6242bb43-cb0a-48a8-99b1-f34c8ea762e7",
   "metadata": {},
   "source": [
    "## Prepare"
   ]
  },
  {
   "cell_type": "markdown",
   "id": "b68b78b8-025a-4722-a9b3-9125e041943e",
   "metadata": {},
   "source": [
    "**Set global variable**"
   ]
  },
  {
   "cell_type": "code",
   "execution_count": 2,
   "id": "c129f780-acba-440e-944c-ba9c435c294a",
   "metadata": {},
   "outputs": [
    {
     "name": "stdout",
     "output_type": "stream",
     "text": [
      "fcc_astarr_macs_input_overlap \n",
      "fcc_astarr_macs_input_union \n"
     ]
    }
   ],
   "source": [
    "vec = c(\n",
    "    \"fcc_astarr_macs_input_overlap\",\n",
    "    \"fcc_astarr_macs_input_union\"\n",
    ")\n",
    "names(vec) = vec\n",
    "\n",
    "VEC_TXT_FOLDER = vec\n",
    "for(txt in vec){cat(txt, \"\\n\")}"
   ]
  },
  {
   "cell_type": "markdown",
   "id": "02b6bf2f-a2bd-4c3f-a5d3-294a35ac24e6",
   "metadata": {},
   "source": [
    "**View files**"
   ]
  },
  {
   "cell_type": "code",
   "execution_count": 3,
   "id": "d3ea9f35-ec79-49fc-8d55-4705b399be3f",
   "metadata": {},
   "outputs": [
    {
     "name": "stdout",
     "output_type": "stream",
     "text": [
      "/data/reddylab/Kuei/repo/Proj_ENCODE_FCC/results/region_annotation/fcc_astarr_macs_input_overlap/summary/region.annotation.fcc_starrmpra_junke.group.label.tsv \n",
      "/data/reddylab/Kuei/repo/Proj_ENCODE_FCC/results/region_annotation/fcc_astarr_macs_input_union/summary/region.annotation.fcc_starrmpra_junke.group.label.tsv \n"
     ]
    }
   ],
   "source": [
    "txt_fdiry = file.path(FD_RES, \"region_annotation\", \"*\", \"summary\")\n",
    "txt_fname = \"region.annotation.fcc_starrmpra_junke.group.label.tsv\"\n",
    "txt_fglob = file.path(txt_fdiry, txt_fname)\n",
    "\n",
    "vec = Sys.glob(txt_fglob)\n",
    "for(txt in vec){cat(txt, \"\\n\")}"
   ]
  },
  {
   "cell_type": "markdown",
   "id": "c72d2b52-fbda-4907-95f9-8ec8c278749d",
   "metadata": {},
   "source": [
    "## Import data"
   ]
  },
  {
   "cell_type": "code",
   "execution_count": 4,
   "id": "30f89685-7cb5-4487-92ca-c26046b189e3",
   "metadata": {},
   "outputs": [
    {
     "name": "stdout",
     "output_type": "stream",
     "text": [
      "$fcc_astarr_macs_input_overlap\n",
      "[1] 150047      9\n",
      "\n",
      "$fcc_astarr_macs_input_union\n",
      "[1] 246862      9\n",
      "\n"
     ]
    },
    {
     "data": {
      "text/html": [
       "<table>\n",
       " <thead>\n",
       "  <tr>\n",
       "   <th style=\"text-align:left;\"> Chrom </th>\n",
       "   <th style=\"text-align:right;\"> ChromStart </th>\n",
       "   <th style=\"text-align:right;\"> ChromEnd </th>\n",
       "   <th style=\"text-align:left;\"> Region </th>\n",
       "   <th style=\"text-align:right;\"> Distance2TSS </th>\n",
       "   <th style=\"text-align:left;\"> TSS_Proximity </th>\n",
       "   <th style=\"text-align:right;\"> TSS </th>\n",
       "   <th style=\"text-align:left;\"> Direction_Assay </th>\n",
       "   <th style=\"text-align:left;\"> Group </th>\n",
       "  </tr>\n",
       " </thead>\n",
       "<tbody>\n",
       "  <tr>\n",
       "   <td style=\"text-align:left;\"> chr1 </td>\n",
       "   <td style=\"text-align:right;\"> 10038 </td>\n",
       "   <td style=\"text-align:right;\"> 10405 </td>\n",
       "   <td style=\"text-align:left;\"> chr1:10038-10405 </td>\n",
       "   <td style=\"text-align:right;\"> 1469 </td>\n",
       "   <td style=\"text-align:left;\"> Proximal </td>\n",
       "   <td style=\"text-align:right;\"> 0 </td>\n",
       "   <td style=\"text-align:left;\"> Inactive </td>\n",
       "   <td style=\"text-align:left;\"> Proximal:Inactive </td>\n",
       "  </tr>\n",
       "  <tr>\n",
       "   <td style=\"text-align:left;\"> chr1 </td>\n",
       "   <td style=\"text-align:right;\"> 14282 </td>\n",
       "   <td style=\"text-align:right;\"> 14614 </td>\n",
       "   <td style=\"text-align:left;\"> chr1:14282-14614 </td>\n",
       "   <td style=\"text-align:right;\"> 2409 </td>\n",
       "   <td style=\"text-align:left;\"> Distal </td>\n",
       "   <td style=\"text-align:right;\"> 0 </td>\n",
       "   <td style=\"text-align:left;\"> Inactive </td>\n",
       "   <td style=\"text-align:left;\"> Distal:Inactive </td>\n",
       "  </tr>\n",
       "  <tr>\n",
       "   <td style=\"text-align:left;\"> chr1 </td>\n",
       "   <td style=\"text-align:right;\"> 16025 </td>\n",
       "   <td style=\"text-align:right;\"> 16338 </td>\n",
       "   <td style=\"text-align:left;\"> chr1:16025-16338 </td>\n",
       "   <td style=\"text-align:right;\"> 1099 </td>\n",
       "   <td style=\"text-align:left;\"> Proximal </td>\n",
       "   <td style=\"text-align:right;\"> 0 </td>\n",
       "   <td style=\"text-align:left;\"> Inactive </td>\n",
       "   <td style=\"text-align:left;\"> Proximal:Inactive </td>\n",
       "  </tr>\n",
       "</tbody>\n",
       "</table>"
      ]
     },
     "metadata": {},
     "output_type": "display_data"
    }
   ],
   "source": [
    "### loop to import data\n",
    "lst = lapply(VEC_TXT_FOLDER, function(txt_folder){\n",
    "    ### set file directory\n",
    "    txt_fdiry = file.path(FD_RES, \"region_annotation\", txt_folder, \"summary\")\n",
    "    txt_fname = \"region.annotation.fcc_starrmpra_junke.group.label.tsv\"\n",
    "    txt_fpath = file.path(txt_fdiry, txt_fname)\n",
    "\n",
    "    ### read table\n",
    "    dat = read_tsv(txt_fpath, show_col_types = FALSE)\n",
    "    return(dat)\n",
    "})\n",
    "\n",
    "### assign and show\n",
    "lst_dat_region_annot_fcc_starrmpra_group_import = lst\n",
    "\n",
    "res = lapply(lst, dim)\n",
    "print(res)\n",
    "\n",
    "dat = lst[[1]]\n",
    "fun_display_table(head(dat, 3))"
   ]
  },
  {
   "cell_type": "markdown",
   "id": "85701fd5-8364-4ede-8ae2-6d1435ae8e32",
   "metadata": {},
   "source": [
    "## Explore: Count table"
   ]
  },
  {
   "cell_type": "code",
   "execution_count": 5,
   "id": "706a0441-0265-40a7-a05a-a4f60030c998",
   "metadata": {},
   "outputs": [
    {
     "data": {
      "text/html": [
       "<table>\n",
       " <thead>\n",
       "  <tr>\n",
       "   <th style=\"text-align:left;\"> Region </th>\n",
       "   <th style=\"text-align:right;\"> Distal:Active </th>\n",
       "   <th style=\"text-align:right;\"> Distal:Inactive </th>\n",
       "   <th style=\"text-align:right;\"> Distal:Repressive </th>\n",
       "   <th style=\"text-align:right;\"> Proximal:Active </th>\n",
       "   <th style=\"text-align:right;\"> Proximal:Inactive </th>\n",
       "   <th style=\"text-align:right;\"> Proximal:Repressive </th>\n",
       "  </tr>\n",
       " </thead>\n",
       "<tbody>\n",
       "  <tr>\n",
       "   <td style=\"text-align:left;\"> fcc_astarr_macs_input_overlap </td>\n",
       "   <td style=\"text-align:right;\"> 10578 </td>\n",
       "   <td style=\"text-align:right;\"> 117528 </td>\n",
       "   <td style=\"text-align:right;\"> 1364 </td>\n",
       "   <td style=\"text-align:right;\"> 6019 </td>\n",
       "   <td style=\"text-align:right;\"> 14173 </td>\n",
       "   <td style=\"text-align:right;\"> 385 </td>\n",
       "  </tr>\n",
       "  <tr>\n",
       "   <td style=\"text-align:left;\"> fcc_astarr_macs_input_union </td>\n",
       "   <td style=\"text-align:right;\"> 11362 </td>\n",
       "   <td style=\"text-align:right;\"> 208972 </td>\n",
       "   <td style=\"text-align:right;\"> 2407 </td>\n",
       "   <td style=\"text-align:right;\"> 6073 </td>\n",
       "   <td style=\"text-align:right;\"> 17587 </td>\n",
       "   <td style=\"text-align:right;\"> 461 </td>\n",
       "  </tr>\n",
       "</tbody>\n",
       "</table>"
      ]
     },
     "metadata": {},
     "output_type": "display_data"
    }
   ],
   "source": [
    "lst = lst_dat_region_annot_fcc_starrmpra_group_import\n",
    "lst = lapply(lst, function(dat){\n",
    "    res = table(dat$Group, dnn=c(\"Group\"))\n",
    "    dat = as.data.frame(res)\n",
    "    return(dat)\n",
    "})\n",
    "\n",
    "dat = bind_rows(lst, .id = \"Region\")\n",
    "dat = dat %>% tidyr::spread(Group, Freq)\n",
    "fun_display_table(dat)"
   ]
  },
  {
   "cell_type": "code",
   "execution_count": 6,
   "id": "1b7fb0f5-471c-475f-804e-f2870117827e",
   "metadata": {},
   "outputs": [
    {
     "data": {
      "text/plain": [
       "\n",
       "\n",
       "|Group               |ATAC (Overlap) |ATAC (Union) |\n",
       "|:-------------------|:--------------|:------------|\n",
       "|Distal:Active       |10,578         |11,362       |\n",
       "|Distal:Repressive   |1,364          |2,407        |\n",
       "|Proximal:Active     |6,019          |6,073        |\n",
       "|Proximal:Repressive |385            |461          |"
      ]
     },
     "metadata": {},
     "output_type": "display_data"
    }
   ],
   "source": [
    "lst = lst_dat_region_annot_fcc_starrmpra_group_import\n",
    "lst = lapply(lst, function(dat){\n",
    "    res = table(dat$Group, dnn=c(\"Group\"))\n",
    "    dat = as.data.frame(res)\n",
    "    return(dat)\n",
    "})\n",
    "\n",
    "dat = bind_rows(lst, .id = \"Region\")\n",
    "dat = dat %>% dplyr::filter(!str_detect(Group, \"Inactive\"))\n",
    "dat = dat %>% dplyr::mutate(Region = fun_str_map_atac(Region))\n",
    "dat = dat %>% dplyr::mutate(Freq   = scales::comma(Freq))\n",
    "dat = dat %>% tidyr::spread(Region, Freq)\n",
    "#fun_display_table(dat)\n",
    "dat %>% kableExtra::kable(\"markdown\")"
   ]
  },
  {
   "cell_type": "code",
   "execution_count": 7,
   "id": "5b214540-2fd1-4b0f-bb9f-6cddf416a194",
   "metadata": {},
   "outputs": [
    {
     "data": {
      "text/plain": [
       "\n",
       "\n",
       "|Direction  |Distal |Proximal |Total  |\n",
       "|:----------|:------|:--------|:------|\n",
       "|Active     |10,578 |6,019    |16,597 |\n",
       "|Repressive |1,364  |385      |1,749  |"
      ]
     },
     "metadata": {},
     "output_type": "display_data"
    }
   ],
   "source": [
    "idx = \"fcc_astarr_macs_input_overlap\"\n",
    "lst = lst_dat_region_annot_fcc_starrmpra_group_import\n",
    "dat = lst[[idx]]\n",
    "\n",
    "res = table(dat$Direction_Assay, dat$TSS_Proximity, dnn=c(\"Direction\", \"TSS_Proximity\"))\n",
    "dat = as.data.frame(res)\n",
    "\n",
    "dat = dat %>% dplyr::filter(!str_detect(Direction, \"Inactive\"))\n",
    "dat = dat %>% tidyr::spread(TSS_Proximity, Freq) \n",
    "dat = dat %>% dplyr::mutate(Total = Proximal + Distal)\n",
    "dat = dat %>% dplyr::mutate(across(where(is.integer), scales::comma))\n",
    "dat %>% kableExtra::kable(\"markdown\")"
   ]
  },
  {
   "cell_type": "markdown",
   "id": "97fc3dc6-3c32-4b8c-8234-3ec876a09885",
   "metadata": {},
   "source": [
    "## Explore: bar plot"
   ]
  },
  {
   "cell_type": "code",
   "execution_count": 8,
   "id": "f486ee68-b6a0-4921-aac8-54c83d9f9013",
   "metadata": {},
   "outputs": [],
   "source": [
    "### set text size\n",
    "theme_text = theme(\n",
    "    title      = element_text(size = 16),\n",
    "    axis.title = element_text(size = 16),\n",
    "    axis.text  = element_text(size = 16),\n",
    "    #legend.title = element_text(size = 16),\n",
    "    legend.title = element_blank(),\n",
    "    legend.text  = element_text(size = 16),\n",
    "    strip.text   = element_text(size = 16)\n",
    ")"
   ]
  },
  {
   "cell_type": "code",
   "execution_count": 9,
   "id": "23a375b8-2ae2-4062-94b3-6ff23636b895",
   "metadata": {},
   "outputs": [
    {
     "data": {
      "image/png": "[encoded data removed]",
      "text/plain": [
       "plot without title"
      ]
     },
     "metadata": {
      "image/png": {
       "height": 240,
       "width": 420
      }
     },
     "output_type": "display_data"
    }
   ],
   "source": [
    "idx = \"fcc_astarr_macs_input_overlap\"\n",
    "lst = lst_dat_region_annot_fcc_starrmpra_group_import\n",
    "dat = lst[[idx]]\n",
    "dat = dat %>% dplyr::select(Region, Group) %>% dplyr::distinct()\n",
    "\n",
    "dat = as.data.frame(table(dat$Group))\n",
    "colnames(dat) = c(\"Group\", \"Count\")\n",
    "dat = dat %>% dplyr::filter(!str_detect(Group, \"Inactive\"))\n",
    "\n",
    "vec = c(\"Distal:Active\", \"Proximal:Active\", \"Distal:Repressive\", \"Proximal:Repressive\")\n",
    "dat = dat %>% dplyr::mutate(Group = factor(Group, levels=rev(vec)))\n",
    "\n",
    "gpt = ggplot(dat, aes(x=Count/1000, y = Group)) + \n",
    "    geom_col() +\n",
    "    theme_cowplot() +\n",
    "    background_grid() +\n",
    "    labs(x = \"Count (in thousands)\", y = \"\", title = \"STARR/MPRA CREs across groups\") +\n",
    "    theme_text +\n",
    "    scale_x_continuous(breaks = c(0, 2, 4, 6, 8, 10, 12))\n",
    "\n",
    "### assign and show\n",
    "gpt_export_bar_count = gpt\n",
    "options(repr.plot.height = 4, repr.plot.width = 7)\n",
    "print(gpt)"
   ]
  },
  {
   "cell_type": "markdown",
   "id": "6bdcedba-0cc1-43cd-8a68-2ec5784d8ad8",
   "metadata": {},
   "source": [
    "**Save plots**"
   ]
  },
  {
   "cell_type": "code",
   "execution_count": 10,
   "id": "f63bd9d3-f505-49c4-b215-1d5bcc0cf53c",
   "metadata": {},
   "outputs": [],
   "source": [
    "plt_export = gpt_export_bar_count\n",
    "txt_export = \"fig.region_annot.astarr_input_overlap.fcc_starrmpra_vote2.barplot.count.group\"\n",
    "\n",
    "txt_fdiry = \"./\"\n",
    "txt_fname = paste(txt_export, \"png\", sep = \".\")\n",
    "txt_fpath = file.path(txt_fdiry, txt_fname)\n",
    "ggsave(txt_fpath, plt_export, height = 4, width = 7, units = \"in\")\n",
    "\n",
    "txt_fdiry = \"./\"\n",
    "txt_fname = paste(txt_export, \"svg\", sep = \".\")\n",
    "txt_fpath = file.path(txt_fdiry, txt_fname)\n",
    "ggsave(txt_fpath, plt_export, height = 4, width = 7, units = \"in\")"
   ]
  },
  {
   "cell_type": "markdown",
   "id": "12f0656c-9ad1-4344-9a83-648a84fc580b",
   "metadata": {},
   "source": [
    "## Explore: Region Overlap"
   ]
  },
  {
   "cell_type": "code",
   "execution_count": 11,
   "id": "c3516f1a-a3b1-4f33-9587-4ddcb423caf6",
   "metadata": {},
   "outputs": [
    {
     "data": {
      "text/html": [
       "18341"
      ],
      "text/latex": [
       "18341"
      ],
      "text/markdown": [
       "18341"
      ],
      "text/plain": [
       "[1] 18341"
      ]
     },
     "metadata": {},
     "output_type": "display_data"
    }
   ],
   "source": [
    "lst = lst_dat_region_annot_fcc_starrmpra_group_import\n",
    "dat = lst[[1]]\n",
    "dat = dat %>% dplyr::filter(!str_detect(Group, \"Inactive\"))\n",
    "vec = unique(dat$Region)\n",
    "length(vec)"
   ]
  },
  {
   "cell_type": "code",
   "execution_count": 12,
   "id": "4e15e6f0-c96f-4719-b023-17e1656c7a5f",
   "metadata": {},
   "outputs": [
    {
     "data": {
      "image/png": "[encoded data removed]",
      "text/plain": [
       "plot without title"
      ]
     },
     "metadata": {
      "image/png": {
       "height": 300,
       "width": 600
      }
     },
     "output_type": "display_data"
    }
   ],
   "source": [
    "lst = lst_dat_region_annot_fcc_starrmpra_group_import\n",
    "dat = lst[[1]]\n",
    "dat = dat %>% dplyr::select(Region, Group) %>% dplyr::distinct()\n",
    "dat = dat %>% dplyr::filter(!str_detect(Group, \"Inactive\"))\n",
    "lst = split(dat$Region, dat$Group)\n",
    "\n",
    "plt = upset(\n",
    "    fromList(lst), \n",
    "    order.by = \"freq\", \n",
    "    mb.ratio = c(0.5, 0.5),\n",
    "    text.scale=1.7\n",
    ")\n",
    "\n",
    "### assign and show\n",
    "plt_export_upset_group = plt\n",
    "options(repr.plot.height=5, repr.plot.width=10)\n",
    "print(plt)"
   ]
  },
  {
   "cell_type": "markdown",
   "id": "650b4702-9c5a-4f83-b10b-fe98e304b5e1",
   "metadata": {},
   "source": [
    "**Save plots**"
   ]
  },
  {
   "cell_type": "code",
   "execution_count": 13,
   "id": "dba91c7c-3c7a-4c07-96c9-e29b3264ac8d",
   "metadata": {},
   "outputs": [
    {
     "data": {
      "text/html": [
       "<strong>agg_record_956275426:</strong> 2"
      ],
      "text/latex": [
       "\\textbf{agg\\textbackslash{}\\_record\\textbackslash{}\\_956275426:} 2"
      ],
      "text/markdown": [
       "**agg_record_956275426:** 2"
      ],
      "text/plain": [
       "agg_record_956275426 \n",
       "                   2 "
      ]
     },
     "metadata": {},
     "output_type": "display_data"
    },
    {
     "data": {
      "text/html": [
       "<strong>agg_record_956275426:</strong> 2"
      ],
      "text/latex": [
       "\\textbf{agg\\textbackslash{}\\_record\\textbackslash{}\\_956275426:} 2"
      ],
      "text/markdown": [
       "**agg_record_956275426:** 2"
      ],
      "text/plain": [
       "agg_record_956275426 \n",
       "                   2 "
      ]
     },
     "metadata": {},
     "output_type": "display_data"
    }
   ],
   "source": [
    "plt_export = plt_export_upset_group\n",
    "txt_export = \"fig.region_annot.astarr_input_overlap.fcc_starrmpra_vote2.upset.group\"\n",
    "\n",
    "txt_fdiry = \"./\"\n",
    "txt_fname = paste(txt_export, \"png\", sep = \".\")\n",
    "txt_fpath = file.path(txt_fdiry, txt_fname)\n",
    "\n",
    "png(txt_fpath, height = 5, width = 10, units = \"in\", res = 300)\n",
    "print(plt_export)\n",
    "dev.off()\n",
    "\n",
    "txt_fdiry = \"./\"\n",
    "txt_fname = paste(txt_export, \"svg\", sep = \".\")\n",
    "txt_fpath = file.path(txt_fdiry, txt_fname)\n",
    "\n",
    "svg(txt_fpath, height = 5, width = 10)\n",
    "print(plt_export)\n",
    "dev.off()"
   ]
  },
  {
   "cell_type": "code",
   "execution_count": null,
   "id": "b142d856-735b-403a-8520-f76683d10125",
   "metadata": {},
   "outputs": [],
   "source": []
  }
 ],
 "metadata": {
  "kernelspec": {
   "display_name": "R",
   "language": "R",
   "name": "ir"
  },
  "language_info": {
   "codemirror_mode": "r",
   "file_extension": ".r",
   "mimetype": "text/x-r-source",
   "name": "R",
   "pygments_lexer": "r",
   "version": "4.5.1"
  }
 },
 "nbformat": 4,
 "nbformat_minor": 5
}
