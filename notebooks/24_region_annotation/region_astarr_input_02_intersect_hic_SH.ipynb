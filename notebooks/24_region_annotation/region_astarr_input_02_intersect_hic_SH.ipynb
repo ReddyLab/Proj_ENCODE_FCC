{
 "cells": [
  {
   "cell_type": "raw",
   "id": "e981d5a0-b52c-49b9-b670-275bb740d823",
   "metadata": {},
   "source": [
    "---\n",
    "title: Annotation of ATAC (ASTARR Input) 02\n",
    "subtitle: Intersection (Hi-C)\n",
    "format:\n",
    "    html:\n",
    "        code-fold:  true \n",
    "        code-tools: true\n",
    "---"
   ]
  },
  {
   "cell_type": "markdown",
   "id": "17545468-a2c5-4349-9e8b-f16e7cb2bc2d",
   "metadata": {},
   "source": [
    "**Set environment**"
   ]
  },
  {
   "cell_type": "code",
   "execution_count": 1,
   "id": "e13530a8-17a5-4dff-9797-9b31c1fee4f6",
   "metadata": {},
   "outputs": [
    {
     "name": "stdout",
     "output_type": "stream",
     "text": [
      "You are working on             Duke Server: RCC\n",
      "BASE DIRECTORY (FD_BASE):      /data/reddylab/Kuei\n",
      "REPO DIRECTORY (FD_REPO):      /data/reddylab/Kuei/repo\n",
      "WORK DIRECTORY (FD_WORK):      /data/reddylab/Kuei/work\n",
      "DATA DIRECTORY (FD_DATA):      /data/reddylab/Kuei/data\n",
      "CONTAINER DIR. (FD_SING):      /data/reddylab/Kuei/container\n",
      "\n",
      "You are working with           ENCODE FCC\n",
      "PATH OF PROJECT (FD_PRJ):      /data/reddylab/Kuei/repo/Proj_ENCODE_FCC\n",
      "PROJECT RESULTS (FD_RES):      /data/reddylab/Kuei/repo/Proj_ENCODE_FCC/results\n",
      "PROJECT SCRIPTS (FD_EXE):      /data/reddylab/Kuei/repo/Proj_ENCODE_FCC/scripts\n",
      "PROJECT DATA    (FD_DAT):      /data/reddylab/Kuei/repo/Proj_ENCODE_FCC/data\n",
      "PROJECT NOTE    (FD_NBK):      /data/reddylab/Kuei/repo/Proj_ENCODE_FCC/notebooks\n",
      "PROJECT DOCS    (FD_DOC):      /data/reddylab/Kuei/repo/Proj_ENCODE_FCC/docs\n",
      "PROJECT LOG     (FD_LOG):      /data/reddylab/Kuei/repo/Proj_ENCODE_FCC/log\n",
      "PROJECT REF     (FD_REF):      /data/reddylab/Kuei/repo/Proj_ENCODE_FCC/references\n",
      "PROJECT IMAGE   (FP_PRJ_SIF):  /data/reddylab/Kuei/container/project/singularity_proj_encode_fcc.sif\n",
      "PROJECT CONF.   (FP_CNF):      /data/reddylab/Kuei/repo/Proj_ENCODE_FCC/scripts/config_project.sh\n",
      "\n"
     ]
    }
   ],
   "source": [
    "source ../run_config_project.sh\n",
    "show_env"
   ]
  },
  {
   "cell_type": "markdown",
   "id": "7fdd1de0-1137-498e-8adf-e6307765bfd1",
   "metadata": {},
   "source": [
    "**Set global variables**"
   ]
  },
  {
   "cell_type": "code",
   "execution_count": 2,
   "id": "c93acfe8-cd0d-4c6c-ad04-cddc4a719e7a",
   "metadata": {},
   "outputs": [],
   "source": [
    "FP_REGION_LABEL_A=${FD_RES}/region/summary/metadata.label.astarr_macs_merge.tsv\n",
    "FP_REGION_LABEL_B=${FD_RES}/region/summary/metadata.label.hic.tsv"
   ]
  },
  {
   "cell_type": "markdown",
   "id": "e8f26963-f02f-4681-b12a-0d77fa417a8d",
   "metadata": {},
   "source": [
    "## Prepare"
   ]
  },
  {
   "cell_type": "markdown",
   "id": "16db95a2-ec94-4b7f-970a-7ab5f843a3c2",
   "metadata": {},
   "source": [
    "**View files**"
   ]
  },
  {
   "cell_type": "code",
   "execution_count": 3,
   "id": "8f97f396-0aa6-4cf7-98b2-560fc5093169",
   "metadata": {},
   "outputs": [
    {
     "name": "stdout",
     "output_type": "stream",
     "text": [
      "\u001b[0m\u001b[01;34mencode_chipseq_histone\u001b[0m\n",
      "\u001b[01;34mencode_chipseq_subset\u001b[0m\n",
      "\u001b[01;34mencode_chipseq_tf_full\u001b[0m\n",
      "\u001b[01;34mencode_chromatin_states\u001b[0m\n",
      "\u001b[01;34mencode_e2g_benchmark\u001b[0m\n",
      "\u001b[01;34mencode_open_chromatin\u001b[0m\n",
      "\u001b[01;34mfcc_astarr_csaw\u001b[0m\n",
      "\u001b[01;34mfcc_astarr_macs_merge\u001b[0m\n",
      "\u001b[01;34mfcc_astarr_macs_narrowpeak\u001b[0m\n",
      "\u001b[01;34mfcc_crispri_growth\u001b[0m\n",
      "\u001b[01;34mfcc_crispri_hcrff\u001b[0m\n",
      "\u001b[01;34mfcc_screened\u001b[0m\n",
      "\u001b[01;34mfcc_starrmpra_junke\u001b[0m\n",
      "\u001b[01;34mfcc_table\u001b[0m\n",
      "\u001b[01;34mfcc_table_cluster\u001b[0m\n",
      "\u001b[01;34mgenome_tss\u001b[0m\n",
      "\u001b[01;34mhic_insitu_K562_ENCSR545YBD\u001b[0m\n",
      "\u001b[01;34mhic_intact_K562_deep\u001b[0m\n",
      "\u001b[01;34mhic_intact_K562_ENCSR479XDG\u001b[0m\n",
      "\u001b[01;34mmodule_tf_shannon\u001b[0m\n",
      "\u001b[01;34msummary\u001b[0m\n",
      "\u001b[01;34mtmp\u001b[0m\n"
     ]
    }
   ],
   "source": [
    "ls -1 ${FD_RES}/region"
   ]
  },
  {
   "cell_type": "code",
   "execution_count": 4,
   "id": "18ab01f5-97d5-4957-aa7d-7d65055c2d92",
   "metadata": {},
   "outputs": [
    {
     "name": "stdout",
     "output_type": "stream",
     "text": [
      "metadata.label.astarr_macs_merge.tsv\n",
      "metadata.label.chipseq_histone.tsv\n",
      "metadata.label.chipseq_subset.tsv\n",
      "metadata.label.chipseq_tf_full.tsv\n",
      "metadata.label.hic.tsv\n",
      "metadata.label.main.tsv\n",
      "metadata.label.ocr.tsv\n"
     ]
    }
   ],
   "source": [
    "ls -1 ${FD_RES}/region/summary"
   ]
  },
  {
   "cell_type": "markdown",
   "id": "30393150-3f3f-4091-b3b6-8a54c6633113",
   "metadata": {},
   "source": [
    "**View: Metatable label A**"
   ]
  },
  {
   "cell_type": "code",
   "execution_count": 5,
   "id": "0ba05105-1616-414b-8f32-217dc4623866",
   "metadata": {},
   "outputs": [
    {
     "name": "stdout",
     "output_type": "stream",
     "text": [
      "/data/reddylab/Kuei/repo/Proj_ENCODE_FCC/results/region/summary/metadata.label.astarr_macs_merge.tsv\n",
      "Folder\tFName\tLabel\tFPath\n",
      "fcc_astarr_macs_merge\tK562.hg38.ASTARR.macs.KS91.input.rep_all.max_overlaps.q5.bed.gz\tfcc_astarr_macs_input_overlap\t/data/reddylab/Kuei/repo/Proj_ENCODE_FCC/results/region/fcc_astarr_macs_merge/K562.hg38.ASTARR.macs.KS91.input.rep_all.max_overlaps.q5.bed.gz\n",
      "fcc_astarr_macs_merge\tK562.hg38.ASTARR.macs.KS91.input.rep_all.union.q5.bed.gz\tfcc_astarr_macs_input_union\t/data/reddylab/Kuei/repo/Proj_ENCODE_FCC/results/region/fcc_astarr_macs_merge/K562.hg38.ASTARR.macs.KS91.input.rep_all.union.q5.bed.gz\n"
     ]
    }
   ],
   "source": [
    "ls  ${FP_REGION_LABEL_A}\n",
    "cat ${FP_REGION_LABEL_A}"
   ]
  },
  {
   "cell_type": "code",
   "execution_count": 6,
   "id": "e7b424f2-79a6-419c-addb-2c4efb5f907a",
   "metadata": {},
   "outputs": [
    {
     "name": "stdout",
     "output_type": "stream",
     "text": [
      "Folder\tLabel\n",
      "fcc_astarr_macs_merge\tfcc_astarr_macs_input_overlap\n",
      "fcc_astarr_macs_merge\tfcc_astarr_macs_input_union\n"
     ]
    }
   ],
   "source": [
    "cat ${FP_REGION_LABEL_A} | cut -f 1,3"
   ]
  },
  {
   "cell_type": "markdown",
   "id": "bdfd5096-e132-41bf-a052-1ee46d883d04",
   "metadata": {},
   "source": [
    "**View: Metatable label B**"
   ]
  },
  {
   "cell_type": "code",
   "execution_count": 7,
   "id": "4a229a22-9164-4307-a092-c944153ed8a7",
   "metadata": {},
   "outputs": [
    {
     "name": "stdout",
     "output_type": "stream",
     "text": [
      "/data/reddylab/Kuei/repo/Proj_ENCODE_FCC/results/region/summary/metadata.label.hic.tsv\n",
      "Folder\tFName\tLabel\tFPath\n",
      "hic_insitu_K562_ENCSR545YBD\tK562.hg38.hic_insitu.Loop_A.bed.gz\thic_insitu_Loop_A_ENCSR545YBD\t/data/reddylab/Kuei/repo/Proj_ENCODE_FCC/results/region/hic_insitu_K562_ENCSR545YBD/K562.hg38.hic_insitu.Loop_A.bed.gz\n",
      "hic_insitu_K562_ENCSR545YBD\tK562.hg38.hic_insitu.Loop_B.bed.gz\thic_insitu_Loop_B_ENCSR545YBD\t/data/reddylab/Kuei/repo/Proj_ENCODE_FCC/results/region/hic_insitu_K562_ENCSR545YBD/K562.hg38.hic_insitu.Loop_B.bed.gz\n",
      "hic_insitu_K562_ENCSR545YBD\tK562.hg38.hic_insitu.TAD.bed.gz\thic_insitu_TAD_ENCSR545YBD\t/data/reddylab/Kuei/repo/Proj_ENCODE_FCC/results/region/hic_insitu_K562_ENCSR545YBD/K562.hg38.hic_insitu.TAD.bed.gz\n",
      "hic_intact_K562_deep\tK562.hg38.hic_intact.Loop_A.bed.gz\thic_intact_Loop_A_deep\t/data/reddylab/Kuei/repo/Proj_ENCODE_FCC/results/region/hic_intact_K562_deep/K562.hg38.hic_intact.Loop_A.bed.gz\n",
      "hic_intact_K562_deep\tK562.hg38.hic_intact.Loop_B.bed.gz\thic_intact_Loop_B_deep\t/data/reddylab/Kuei/repo/Proj_ENCODE_FCC/results/region/hic_intact_K562_deep/K562.hg38.hic_intact.Loop_B.bed.gz\n",
      "hic_intact_K562_ENCSR479XDG\tK562.hg38.hic_intact.Loop_A.bed.gz\thic_intact_Loop_A_ENCSR479XDG\t/data/reddylab/Kuei/repo/Proj_ENCODE_FCC/results/region/hic_intact_K562_ENCSR479XDG/K562.hg38.hic_intact.Loop_A.bed.gz\n",
      "hic_intact_K562_ENCSR479XDG\tK562.hg38.hic_intact.Loop_B.bed.gz\thic_intact_Loop_B_ENCSR479XDG\t/data/reddylab/Kuei/repo/Proj_ENCODE_FCC/results/region/hic_intact_K562_ENCSR479XDG/K562.hg38.hic_intact.Loop_B.bed.gz\n",
      "hic_intact_K562_ENCSR479XDG\tK562.hg38.hic_intact.TAD.bed.gz\thic_intact_TAD_ENCSR479XDG\t/data/reddylab/Kuei/repo/Proj_ENCODE_FCC/results/region/hic_intact_K562_ENCSR479XDG/K562.hg38.hic_intact.TAD.bed.gz\n"
     ]
    }
   ],
   "source": [
    "ls  ${FP_REGION_LABEL_B}\n",
    "cat ${FP_REGION_LABEL_B}"
   ]
  },
  {
   "cell_type": "code",
   "execution_count": 8,
   "id": "93b5732d-509d-4a2c-8aa0-9d55d4c2ddc3",
   "metadata": {},
   "outputs": [
    {
     "name": "stdout",
     "output_type": "stream",
     "text": [
      "Folder\tLabel\n",
      "hic_insitu_K562_ENCSR545YBD\thic_insitu_Loop_A_ENCSR545YBD\n",
      "hic_insitu_K562_ENCSR545YBD\thic_insitu_Loop_B_ENCSR545YBD\n",
      "hic_insitu_K562_ENCSR545YBD\thic_insitu_TAD_ENCSR545YBD\n",
      "hic_intact_K562_deep\thic_intact_Loop_A_deep\n",
      "hic_intact_K562_deep\thic_intact_Loop_B_deep\n",
      "hic_intact_K562_ENCSR479XDG\thic_intact_Loop_A_ENCSR479XDG\n",
      "hic_intact_K562_ENCSR479XDG\thic_intact_Loop_B_ENCSR479XDG\n",
      "hic_intact_K562_ENCSR479XDG\thic_intact_TAD_ENCSR479XDG\n"
     ]
    }
   ],
   "source": [
    "cat ${FP_REGION_LABEL_B} | cut -f 1,3"
   ]
  },
  {
   "cell_type": "markdown",
   "id": "267bfae2-c722-4a13-a778-af706c0ed980",
   "metadata": {},
   "source": [
    "## Execute"
   ]
  },
  {
   "cell_type": "markdown",
   "id": "51b42eec-793b-4027-8617-c8f1e37ade4d",
   "metadata": {},
   "source": [
    "**Test loop**"
   ]
  },
  {
   "cell_type": "code",
   "execution_count": 9,
   "id": "b9dcc3e9-8730-473b-bc82-732661c755ad",
   "metadata": {},
   "outputs": [
    {
     "name": "stdout",
     "output_type": "stream",
     "text": [
      "- FD_RES: /data/reddylab/Kuei/repo/Proj_ENCODE_FCC/results\n",
      "- FD_LOG: /data/reddylab/Kuei/repo/Proj_ENCODE_FCC/log\n",
      "==============================\n",
      "Input:\n",
      "- Label A: fcc_astarr_macs_input_overlap\n",
      "- Label B: hic_insitu_Loop_A_ENCSR545YBD\n",
      "Output:\n",
      "- FDiry: ${FD_RES}/region_annotation/fcc_astarr_macs_input_overlap/hic_insitu_K562_ENCSR545YBD\n",
      "- FName: fcc_astarr_macs_input_overlap.hic_insitu_Loop_A_ENCSR545YBD.bed.gz\n",
      "Log:\n",
      "- FPath: ${FD_LOG}/region.annotation.fcc_astarr_macs_input_overlap.hic_insitu_Loop_A_ENCSR545YBD.txt\n",
      "\n",
      "==============================\n",
      "Input:\n",
      "- Label A: fcc_astarr_macs_input_overlap\n",
      "- Label B: hic_insitu_Loop_B_ENCSR545YBD\n",
      "Output:\n",
      "- FDiry: ${FD_RES}/region_annotation/fcc_astarr_macs_input_overlap/hic_insitu_K562_ENCSR545YBD\n",
      "- FName: fcc_astarr_macs_input_overlap.hic_insitu_Loop_B_ENCSR545YBD.bed.gz\n",
      "Log:\n",
      "- FPath: ${FD_LOG}/region.annotation.fcc_astarr_macs_input_overlap.hic_insitu_Loop_B_ENCSR545YBD.txt\n",
      "\n",
      "==============================\n",
      "Input:\n",
      "- Label A: fcc_astarr_macs_input_union\n",
      "- Label B: hic_insitu_Loop_A_ENCSR545YBD\n",
      "Output:\n",
      "- FDiry: ${FD_RES}/region_annotation/fcc_astarr_macs_input_union/hic_insitu_K562_ENCSR545YBD\n",
      "- FName: fcc_astarr_macs_input_union.hic_insitu_Loop_A_ENCSR545YBD.bed.gz\n",
      "Log:\n",
      "- FPath: ${FD_LOG}/region.annotation.fcc_astarr_macs_input_union.hic_insitu_Loop_A_ENCSR545YBD.txt\n",
      "\n",
      "==============================\n",
      "Input:\n",
      "- Label A: fcc_astarr_macs_input_union\n",
      "- Label B: hic_insitu_Loop_B_ENCSR545YBD\n",
      "Output:\n",
      "- FDiry: ${FD_RES}/region_annotation/fcc_astarr_macs_input_union/hic_insitu_K562_ENCSR545YBD\n",
      "- FName: fcc_astarr_macs_input_union.hic_insitu_Loop_B_ENCSR545YBD.bed.gz\n",
      "Log:\n",
      "- FPath: ${FD_LOG}/region.annotation.fcc_astarr_macs_input_union.hic_insitu_Loop_B_ENCSR545YBD.txt\n",
      "\n"
     ]
    }
   ],
   "source": [
    "### init: set executable\n",
    "FN_EXE=\"run_bedtools_intersect.sh\"\n",
    "FP_EXE=${FD_EXE}/${FN_EXE}\n",
    "\n",
    "### init: check results and log folder\n",
    "echo \"- FD_RES:\" ${FD_RES}\n",
    "echo \"- FD_LOG:\" ${FD_LOG}\n",
    "\n",
    "### Loop region A\n",
    "while read FOLDER_A FNAME_A LABEL_A FPATH_A; do\n",
    "\n",
    "    ### Set input A\n",
    "    FN_INP_A=${FNAME_A}\n",
    "    FP_INP_A=${FPATH_A}\n",
    "    \n",
    "    ### Loop region B\n",
    "    while read FOLDER_B FNAME_B LABEL_B FPATH_B; do\n",
    "    \n",
    "        ### Set input B\n",
    "        FN_INP_B=${FNAME_B}\n",
    "        FP_INP_B=${FPATH_B}\n",
    "        \n",
    "        ### Set output\n",
    "        FOLDER=region_annotation/${LABEL_A}/${FOLDER_B}\n",
    "        FD_OUT=${FD_RES}/${FOLDER}\n",
    "        FN_OUT=${LABEL_A}.${LABEL_B}.bed.gz\n",
    "        FP_OUT=${FD_OUT}/${FN_OUT}\n",
    "        \n",
    "        ### setup log file\n",
    "        FN_LOG=region.annotation.${LABEL_A}.${LABEL_B}.txt\n",
    "        FP_LOG=${FD_LOG}/${FN_LOG}\n",
    "        \n",
    "        ### show progress\n",
    "        echo ==============================\n",
    "        echo \"Input:\"\n",
    "        echo \"- Label A:\" ${LABEL_A}\n",
    "        echo \"- Label B:\" ${LABEL_B}\n",
    "        echo \"Output:\"\n",
    "        echo \"- FDiry:\" '${FD_RES}'/${FOLDER}\n",
    "        echo \"- FName:\" ${FN_OUT}\n",
    "        echo \"Log:\" \n",
    "        echo \"- FPath:\" '${FD_LOG}'/${FN_LOG}\n",
    "        echo  \n",
    "        \n",
    "    done < <(cat ${FP_REGION_LABEL_B} | head -n 3 | awk 'NR >=2 {print}')\n",
    "done < <(cat ${FP_REGION_LABEL_A} | awk 'NR >=2 {print}')"
   ]
  },
  {
   "cell_type": "markdown",
   "id": "9d20948b-1e7e-460b-a361-807f4ae83f47",
   "metadata": {},
   "source": [
    "**Execute**"
   ]
  },
  {
   "cell_type": "code",
   "execution_count": 10,
   "id": "fc763370-5276-42d3-8abd-fddf4b3128ff",
   "metadata": {},
   "outputs": [
    {
     "name": "stdout",
     "output_type": "stream",
     "text": [
      "- FD_RES: /data/reddylab/Kuei/repo/Proj_ENCODE_FCC/results\n",
      "- FD_LOG: /data/reddylab/Kuei/repo/Proj_ENCODE_FCC/log\n",
      "==============================\n",
      "Input:\n",
      "- Label A: fcc_astarr_macs_input_overlap\n",
      "- Label B: hic_insitu_Loop_A_ENCSR545YBD\n",
      "Output:\n",
      "- FDiry: ${FD_RES}/region_annotation/fcc_astarr_macs_input_overlap/hic_insitu_K562_ENCSR545YBD\n",
      "- FName: fcc_astarr_macs_input_overlap.hic_insitu_Loop_A_ENCSR545YBD.bed.gz\n",
      "Log:\n",
      "- FPath: ${FD_LOG}/region.intersect.fcc_astarr_macs_input_overlap.hic_insitu_Loop_A_ENCSR545YBD.txt\n",
      "\n",
      "Submitted batch job 277495\n",
      "\n",
      "==============================\n",
      "Input:\n",
      "- Label A: fcc_astarr_macs_input_overlap\n",
      "- Label B: hic_insitu_Loop_B_ENCSR545YBD\n",
      "Output:\n",
      "- FDiry: ${FD_RES}/region_annotation/fcc_astarr_macs_input_overlap/hic_insitu_K562_ENCSR545YBD\n",
      "- FName: fcc_astarr_macs_input_overlap.hic_insitu_Loop_B_ENCSR545YBD.bed.gz\n",
      "Log:\n",
      "- FPath: ${FD_LOG}/region.intersect.fcc_astarr_macs_input_overlap.hic_insitu_Loop_B_ENCSR545YBD.txt\n",
      "\n",
      "Submitted batch job 277496\n",
      "\n",
      "==============================\n",
      "Input:\n",
      "- Label A: fcc_astarr_macs_input_overlap\n",
      "- Label B: hic_insitu_TAD_ENCSR545YBD\n",
      "Output:\n",
      "- FDiry: ${FD_RES}/region_annotation/fcc_astarr_macs_input_overlap/hic_insitu_K562_ENCSR545YBD\n",
      "- FName: fcc_astarr_macs_input_overlap.hic_insitu_TAD_ENCSR545YBD.bed.gz\n",
      "Log:\n",
      "- FPath: ${FD_LOG}/region.intersect.fcc_astarr_macs_input_overlap.hic_insitu_TAD_ENCSR545YBD.txt\n",
      "\n",
      "Submitted batch job 277497\n",
      "\n",
      "==============================\n",
      "Input:\n",
      "- Label A: fcc_astarr_macs_input_overlap\n",
      "- Label B: hic_intact_Loop_A_deep\n",
      "Output:\n",
      "- FDiry: ${FD_RES}/region_annotation/fcc_astarr_macs_input_overlap/hic_intact_K562_deep\n",
      "- FName: fcc_astarr_macs_input_overlap.hic_intact_Loop_A_deep.bed.gz\n",
      "Log:\n",
      "- FPath: ${FD_LOG}/region.intersect.fcc_astarr_macs_input_overlap.hic_intact_Loop_A_deep.txt\n",
      "\n",
      "Submitted batch job 277498\n",
      "\n",
      "==============================\n",
      "Input:\n",
      "- Label A: fcc_astarr_macs_input_overlap\n",
      "- Label B: hic_intact_Loop_B_deep\n",
      "Output:\n",
      "- FDiry: ${FD_RES}/region_annotation/fcc_astarr_macs_input_overlap/hic_intact_K562_deep\n",
      "- FName: fcc_astarr_macs_input_overlap.hic_intact_Loop_B_deep.bed.gz\n",
      "Log:\n",
      "- FPath: ${FD_LOG}/region.intersect.fcc_astarr_macs_input_overlap.hic_intact_Loop_B_deep.txt\n",
      "\n",
      "Submitted batch job 277499\n",
      "\n",
      "==============================\n",
      "Input:\n",
      "- Label A: fcc_astarr_macs_input_overlap\n",
      "- Label B: hic_intact_Loop_A_ENCSR479XDG\n",
      "Output:\n",
      "- FDiry: ${FD_RES}/region_annotation/fcc_astarr_macs_input_overlap/hic_intact_K562_ENCSR479XDG\n",
      "- FName: fcc_astarr_macs_input_overlap.hic_intact_Loop_A_ENCSR479XDG.bed.gz\n",
      "Log:\n",
      "- FPath: ${FD_LOG}/region.intersect.fcc_astarr_macs_input_overlap.hic_intact_Loop_A_ENCSR479XDG.txt\n",
      "\n",
      "Submitted batch job 277500\n",
      "\n",
      "==============================\n",
      "Input:\n",
      "- Label A: fcc_astarr_macs_input_overlap\n",
      "- Label B: hic_intact_Loop_B_ENCSR479XDG\n",
      "Output:\n",
      "- FDiry: ${FD_RES}/region_annotation/fcc_astarr_macs_input_overlap/hic_intact_K562_ENCSR479XDG\n",
      "- FName: fcc_astarr_macs_input_overlap.hic_intact_Loop_B_ENCSR479XDG.bed.gz\n",
      "Log:\n",
      "- FPath: ${FD_LOG}/region.intersect.fcc_astarr_macs_input_overlap.hic_intact_Loop_B_ENCSR479XDG.txt\n",
      "\n",
      "Submitted batch job 277501\n",
      "\n",
      "==============================\n",
      "Input:\n",
      "- Label A: fcc_astarr_macs_input_overlap\n",
      "- Label B: hic_intact_TAD_ENCSR479XDG\n",
      "Output:\n",
      "- FDiry: ${FD_RES}/region_annotation/fcc_astarr_macs_input_overlap/hic_intact_K562_ENCSR479XDG\n",
      "- FName: fcc_astarr_macs_input_overlap.hic_intact_TAD_ENCSR479XDG.bed.gz\n",
      "Log:\n",
      "- FPath: ${FD_LOG}/region.intersect.fcc_astarr_macs_input_overlap.hic_intact_TAD_ENCSR479XDG.txt\n",
      "\n",
      "Submitted batch job 277502\n",
      "\n",
      "==============================\n",
      "Input:\n",
      "- Label A: fcc_astarr_macs_input_union\n",
      "- Label B: hic_insitu_Loop_A_ENCSR545YBD\n",
      "Output:\n",
      "- FDiry: ${FD_RES}/region_annotation/fcc_astarr_macs_input_union/hic_insitu_K562_ENCSR545YBD\n",
      "- FName: fcc_astarr_macs_input_union.hic_insitu_Loop_A_ENCSR545YBD.bed.gz\n",
      "Log:\n",
      "- FPath: ${FD_LOG}/region.intersect.fcc_astarr_macs_input_union.hic_insitu_Loop_A_ENCSR545YBD.txt\n",
      "\n",
      "Submitted batch job 277503\n",
      "\n",
      "==============================\n",
      "Input:\n",
      "- Label A: fcc_astarr_macs_input_union\n",
      "- Label B: hic_insitu_Loop_B_ENCSR545YBD\n",
      "Output:\n",
      "- FDiry: ${FD_RES}/region_annotation/fcc_astarr_macs_input_union/hic_insitu_K562_ENCSR545YBD\n",
      "- FName: fcc_astarr_macs_input_union.hic_insitu_Loop_B_ENCSR545YBD.bed.gz\n",
      "Log:\n",
      "- FPath: ${FD_LOG}/region.intersect.fcc_astarr_macs_input_union.hic_insitu_Loop_B_ENCSR545YBD.txt\n",
      "\n",
      "Submitted batch job 277504\n",
      "\n",
      "==============================\n",
      "Input:\n",
      "- Label A: fcc_astarr_macs_input_union\n",
      "- Label B: hic_insitu_TAD_ENCSR545YBD\n",
      "Output:\n",
      "- FDiry: ${FD_RES}/region_annotation/fcc_astarr_macs_input_union/hic_insitu_K562_ENCSR545YBD\n",
      "- FName: fcc_astarr_macs_input_union.hic_insitu_TAD_ENCSR545YBD.bed.gz\n",
      "Log:\n",
      "- FPath: ${FD_LOG}/region.intersect.fcc_astarr_macs_input_union.hic_insitu_TAD_ENCSR545YBD.txt\n",
      "\n",
      "Submitted batch job 277505\n",
      "\n",
      "==============================\n",
      "Input:\n",
      "- Label A: fcc_astarr_macs_input_union\n",
      "- Label B: hic_intact_Loop_A_deep\n",
      "Output:\n",
      "- FDiry: ${FD_RES}/region_annotation/fcc_astarr_macs_input_union/hic_intact_K562_deep\n",
      "- FName: fcc_astarr_macs_input_union.hic_intact_Loop_A_deep.bed.gz\n",
      "Log:\n",
      "- FPath: ${FD_LOG}/region.intersect.fcc_astarr_macs_input_union.hic_intact_Loop_A_deep.txt\n",
      "\n",
      "Submitted batch job 277506\n",
      "\n",
      "==============================\n",
      "Input:\n",
      "- Label A: fcc_astarr_macs_input_union\n",
      "- Label B: hic_intact_Loop_B_deep\n",
      "Output:\n",
      "- FDiry: ${FD_RES}/region_annotation/fcc_astarr_macs_input_union/hic_intact_K562_deep\n",
      "- FName: fcc_astarr_macs_input_union.hic_intact_Loop_B_deep.bed.gz\n",
      "Log:\n",
      "- FPath: ${FD_LOG}/region.intersect.fcc_astarr_macs_input_union.hic_intact_Loop_B_deep.txt\n",
      "\n",
      "Submitted batch job 277507\n",
      "\n",
      "==============================\n",
      "Input:\n",
      "- Label A: fcc_astarr_macs_input_union\n",
      "- Label B: hic_intact_Loop_A_ENCSR479XDG\n",
      "Output:\n",
      "- FDiry: ${FD_RES}/region_annotation/fcc_astarr_macs_input_union/hic_intact_K562_ENCSR479XDG\n",
      "- FName: fcc_astarr_macs_input_union.hic_intact_Loop_A_ENCSR479XDG.bed.gz\n",
      "Log:\n",
      "- FPath: ${FD_LOG}/region.intersect.fcc_astarr_macs_input_union.hic_intact_Loop_A_ENCSR479XDG.txt\n",
      "\n",
      "Submitted batch job 277508\n",
      "\n",
      "==============================\n",
      "Input:\n",
      "- Label A: fcc_astarr_macs_input_union\n",
      "- Label B: hic_intact_Loop_B_ENCSR479XDG\n",
      "Output:\n",
      "- FDiry: ${FD_RES}/region_annotation/fcc_astarr_macs_input_union/hic_intact_K562_ENCSR479XDG\n",
      "- FName: fcc_astarr_macs_input_union.hic_intact_Loop_B_ENCSR479XDG.bed.gz\n",
      "Log:\n",
      "- FPath: ${FD_LOG}/region.intersect.fcc_astarr_macs_input_union.hic_intact_Loop_B_ENCSR479XDG.txt\n",
      "\n",
      "Submitted batch job 277509\n",
      "\n",
      "==============================\n",
      "Input:\n",
      "- Label A: fcc_astarr_macs_input_union\n",
      "- Label B: hic_intact_TAD_ENCSR479XDG\n",
      "Output:\n",
      "- FDiry: ${FD_RES}/region_annotation/fcc_astarr_macs_input_union/hic_intact_K562_ENCSR479XDG\n",
      "- FName: fcc_astarr_macs_input_union.hic_intact_TAD_ENCSR479XDG.bed.gz\n",
      "Log:\n",
      "- FPath: ${FD_LOG}/region.intersect.fcc_astarr_macs_input_union.hic_intact_TAD_ENCSR479XDG.txt\n",
      "\n",
      "Submitted batch job 277510\n",
      "\n"
     ]
    }
   ],
   "source": [
    "### init: set executable\n",
    "FN_EXE=\"run_bedtools_intersect.sh\"\n",
    "FP_EXE=${FD_EXE}/${FN_EXE}\n",
    "\n",
    "### init: check results and log folder\n",
    "echo \"- FD_RES:\" ${FD_RES}\n",
    "echo \"- FD_LOG:\" ${FD_LOG}\n",
    "\n",
    "### Loop region A\n",
    "while read FOLDER_A FNAME_A LABEL_A FPATH_A; do\n",
    "\n",
    "    ### Set input A\n",
    "    FN_INP_A=${FNAME_A}\n",
    "    FP_INP_A=${FPATH_A}\n",
    "    \n",
    "    ### Loop region B\n",
    "    while read FOLDER_B FNAME_B LABEL_B FPATH_B; do\n",
    "    \n",
    "        ### Set input B\n",
    "        FN_INP_B=${FNAME_B}\n",
    "        FP_INP_B=${FPATH_B}\n",
    "        \n",
    "        ### Set output\n",
    "        FOLDER=region_annotation/${LABEL_A}/${FOLDER_B}\n",
    "        FD_OUT=${FD_RES}/${FOLDER}\n",
    "        FN_OUT=${LABEL_A}.${LABEL_B}.bed.gz\n",
    "        FP_OUT=${FD_OUT}/${FN_OUT}\n",
    "        \n",
    "        ### setup log file\n",
    "        FN_LOG=region.intersect.${LABEL_A}.${LABEL_B}.txt\n",
    "        FP_LOG=${FD_LOG}/${FN_LOG}\n",
    "        \n",
    "        ### show progress\n",
    "        echo ==============================\n",
    "        echo \"Input:\"\n",
    "        echo \"- Label A:\" ${LABEL_A}\n",
    "        echo \"- Label B:\" ${LABEL_B}\n",
    "        echo \"Output:\"\n",
    "        echo \"- FDiry:\" '${FD_RES}'/${FOLDER}\n",
    "        echo \"- FName:\" ${FN_OUT}\n",
    "        echo \"Log:\" \n",
    "        echo \"- FPath:\" '${FD_LOG}'/${FN_LOG}\n",
    "        echo  \n",
    "        \n",
    "        ### execute\n",
    "        mkdir -p ${FD_OUT}\n",
    "        sbatch \\\n",
    "            --cpus-per-task 4 \\\n",
    "            --mem 4G \\\n",
    "            --output ${FP_LOG} \\\n",
    "            ${FP_EXE} ${FP_CNF} ${FP_INP_A} ${FP_INP_B} ${FP_OUT}\n",
    "        echo\n",
    "    done < <(cat ${FP_REGION_LABEL_B} | awk 'NR >=2 {print}')\n",
    "done < <(cat ${FP_REGION_LABEL_A} | awk 'NR >=2 {print}')"
   ]
  },
  {
   "cell_type": "markdown",
   "id": "5d4d5b38-16ca-4684-bf04-d4b553da7efc",
   "metadata": {},
   "source": [
    "## Review"
   ]
  },
  {
   "cell_type": "code",
   "execution_count": 11,
   "id": "9575bd23-ab8b-48c9-b09e-9c0cf0074488",
   "metadata": {},
   "outputs": [
    {
     "name": "stdout",
     "output_type": "stream",
     "text": [
      "Hostname:           plp-rcc-node-05\n",
      "Slurm Array Index: \n",
      "Time Stamp:         05-29-25+16:40:04\n",
      "\n",
      "Input:  /data/reddylab/Kuei/repo/Proj_ENCODE_FCC/results/region/fcc_astarr_macs_merge/K562.hg38.ASTARR.macs.KS91.input.rep_all.union.q5.bed.gz\n",
      "\n",
      "show first few lines of input\n",
      "chr1\t10015\t10442\tchr1:10015-10442\n",
      "chr1\t14253\t14645\tchr1:14253-14645\n",
      "chr1\t16015\t16477\tchr1:16015-16477\n",
      "chr1\t17237\t17772\tchr1:17237-17772\n",
      "chr1\t28903\t29613\tchr1:28903-29613\n",
      "chr1\t30803\t31072\tchr1:30803-31072\n",
      "chr1\t101603\t101849\tchr1:101603-101849\n",
      "chr1\t115411\t115986\tchr1:115411-115986\n",
      "chr1\t118518\t118743\tchr1:118518-118743\n",
      "chr1\t136071\t137429\tchr1:136071-137429\n",
      "\n",
      "Input:  /data/reddylab/Kuei/repo/Proj_ENCODE_FCC/results/region/hic_intact_K562_ENCSR479XDG/K562.hg38.hic_intact.TAD.bed.gz\n",
      "\n",
      "show first few lines of input\n",
      "chr1\t1120000\t1240000\tchr1:1120000-1240000\thic_intact\tTAD\n",
      "chr1\t1940000\t2040000\tchr1:1940000-2040000\thic_intact\tTAD\n",
      "chr1\t2205000\t2310000\tchr1:2205000-2310000\thic_intact\tTAD\n",
      "chr1\t2410000\t2525000\tchr1:2410000-2525000\thic_intact\tTAD\n",
      "chr1\t2820000\t3430000\tchr1:2820000-3430000\thic_intact\tTAD\n",
      "chr1\t3490000\t3620000\tchr1:3490000-3620000\thic_intact\tTAD\n",
      "chr1\t6040000\t6205000\tchr1:6040000-6205000\thic_intact\tTAD\n",
      "chr1\t6245000\t6340000\tchr1:6245000-6340000\thic_intact\tTAD\n",
      "chr1\t6550000\t6645000\tchr1:6550000-6645000\thic_intact\tTAD\n",
      "chr1\t6710000\t6785000\tchr1:6710000-6785000\thic_intact\tTAD\n",
      "\n",
      "\n",
      "Output:  /data/reddylab/Kuei/repo/Proj_ENCODE_FCC/results/region_annotation/fcc_astarr_macs_input_union/hic_intact_K562_ENCSR479XDG/fcc_astarr_macs_input_union.hic_intact_TAD_ENCSR479XDG.bed.gz\n",
      "\n",
      "show first few lines of output:\n",
      "chr1\t1121788\t1122529\tchr1:1121788-1122529\tchr1\t1120000\t1240000\tchr1:1120000-1240000\thic_intact\tTAD\t741\n",
      "chr1\t1122893\t1123442\tchr1:1122893-1123442\tchr1\t1120000\t1240000\tchr1:1120000-1240000\thic_intact\tTAD\t549\n",
      "chr1\t1124347\t1125709\tchr1:1124347-1125709\tchr1\t1120000\t1240000\tchr1:1120000-1240000\thic_intact\tTAD\t1362\n",
      "chr1\t1127455\t1129027\tchr1:1127455-1129027\tchr1\t1120000\t1240000\tchr1:1120000-1240000\thic_intact\tTAD\t1572\n",
      "chr1\t1134673\t1136326\tchr1:1134673-1136326\tchr1\t1120000\t1240000\tchr1:1120000-1240000\thic_intact\tTAD\t1653\n",
      "chr1\t1136833\t1138125\tchr1:1136833-1138125\tchr1\t1120000\t1240000\tchr1:1120000-1240000\thic_intact\tTAD\t1292\n",
      "chr1\t1141732\t1143168\tchr1:1141732-1143168\tchr1\t1120000\t1240000\tchr1:1120000-1240000\thic_intact\tTAD\t1436\n",
      "chr1\t1143425\t1143844\tchr1:1143425-1143844\tchr1\t1120000\t1240000\tchr1:1120000-1240000\thic_intact\tTAD\t419\n",
      "chr1\t1144125\t1145439\tchr1:1144125-1145439\tchr1\t1120000\t1240000\tchr1:1120000-1240000\thic_intact\tTAD\t1314\n",
      "chr1\t1148300\t1148832\tchr1:1148300-1148832\tchr1\t1120000\t1240000\tchr1:1120000-1240000\thic_intact\tTAD\t532\n",
      "\n",
      "\n",
      "Done!\n",
      "Run Time: 1 seconds\n"
     ]
    }
   ],
   "source": [
    "cat ${FD_LOG}/region.intersect.fcc_astarr_macs_input_union.hic_intact_TAD_ENCSR479XDG.txt"
   ]
  },
  {
   "cell_type": "code",
   "execution_count": 12,
   "id": "6a46c595-4547-44dc-80e6-241bded4b3db",
   "metadata": {},
   "outputs": [
    {
     "name": "stdout",
     "output_type": "stream",
     "text": [
      "Hostname:           plp-rcc-node-05\n",
      "Slurm Array Index: \n",
      "Time Stamp:         05-29-25+16:40:04\n",
      "\n",
      "Input:  /data/reddylab/Kuei/repo/Proj_ENCODE_FCC/results/region/fcc_astarr_macs_merge/K562.hg38.ASTARR.macs.KS91.input.rep_all.union.q5.bed.gz\n",
      "\n",
      "show first few lines of input\n",
      "chr1\t10015\t10442\tchr1:10015-10442\n",
      "chr1\t14253\t14645\tchr1:14253-14645\n",
      "chr1\t16015\t16477\tchr1:16015-16477\n",
      "chr1\t17237\t17772\tchr1:17237-17772\n",
      "chr1\t28903\t29613\tchr1:28903-29613\n",
      "chr1\t30803\t31072\tchr1:30803-31072\n",
      "chr1\t101603\t101849\tchr1:101603-101849\n",
      "chr1\t115411\t115986\tchr1:115411-115986\n",
      "chr1\t118518\t118743\tchr1:118518-118743\n",
      "chr1\t136071\t137429\tchr1:136071-137429\n",
      "\n",
      "Input:  /data/reddylab/Kuei/repo/Proj_ENCODE_FCC/results/region/hic_intact_K562_deep/K562.hg38.hic_intact.Loop_B.bed.gz\n",
      "\n",
      "show first few lines of input\n",
      "chr1\t827000\t828000\tchr1:778000-779000|chr1:827000-828000\thic_intact\tLoop_B\n",
      "chr1\t923000\t924000\tchr1:906000-907000|chr1:923000-924000\thic_intact\tLoop_B\n",
      "chr1\t935000\t940000\tchr1:870000-875000|chr1:935000-940000\thic_intact\tLoop_B\n",
      "chr1\t940000\t941000\tchr1:925000-926000|chr1:940000-941000\thic_intact\tLoop_B\n",
      "chr1\t940000\t941000\tchr1:904000-905000|chr1:940000-941000\thic_intact\tLoop_B\n",
      "chr1\t959000\t960000\tchr1:940000-941000|chr1:959000-960000\thic_intact\tLoop_B\n",
      "chr1\t959000\t960000\tchr1:906000-907000|chr1:959000-960000\thic_intact\tLoop_B\n",
      "chr1\t959000\t960000\tchr1:921000-922000|chr1:959000-960000\thic_intact\tLoop_B\n",
      "chr1\t966000\t968000\tchr1:904000-906000|chr1:966000-968000\thic_intact\tLoop_B\n",
      "chr1\t974000\t976000\tchr1:870000-872000|chr1:974000-976000\thic_intact\tLoop_B\n",
      "\n",
      "\n",
      "Output:  /data/reddylab/Kuei/repo/Proj_ENCODE_FCC/results/region_annotation/fcc_astarr_macs_input_union/hic_intact_K562_deep/fcc_astarr_macs_input_union.hic_intact_Loop_B_deep.bed.gz\n",
      "\n",
      "show first few lines of output:\n",
      "chr1\t826754\t828040\tchr1:826754-828040\tchr1\t827000\t828000\tchr1:778000-779000|chr1:827000-828000\thic_intact\tLoop_B\t1000\n",
      "chr1\t923417\t925194\tchr1:923417-925194\tchr1\t923000\t924000\tchr1:906000-907000|chr1:923000-924000\thic_intact\tLoop_B\t583\n",
      "chr1\t935605\t936252\tchr1:935605-936252\tchr1\t935000\t940000\tchr1:870000-875000|chr1:935000-940000\thic_intact\tLoop_B\t647\n",
      "chr1\t938228\t938505\tchr1:938228-938505\tchr1\t935000\t940000\tchr1:870000-875000|chr1:935000-940000\thic_intact\tLoop_B\t277\n",
      "chr1\t939127\t939463\tchr1:939127-939463\tchr1\t935000\t940000\tchr1:870000-875000|chr1:935000-940000\thic_intact\tLoop_B\t336\n",
      "chr1\t940325\t943460\tchr1:940325-943460\tchr1\t940000\t941000\tchr1:925000-926000|chr1:940000-941000\thic_intact\tLoop_B\t675\n",
      "chr1\t940325\t943460\tchr1:940325-943460\tchr1\t940000\t941000\tchr1:904000-905000|chr1:940000-941000\thic_intact\tLoop_B\t675\n",
      "chr1\t958685\t959974\tchr1:958685-959974\tchr1\t959000\t960000\tchr1:940000-941000|chr1:959000-960000\thic_intact\tLoop_B\t974\n",
      "chr1\t958685\t959974\tchr1:958685-959974\tchr1\t959000\t960000\tchr1:906000-907000|chr1:959000-960000\thic_intact\tLoop_B\t974\n",
      "chr1\t958685\t959974\tchr1:958685-959974\tchr1\t959000\t960000\tchr1:921000-922000|chr1:959000-960000\thic_intact\tLoop_B\t974\n",
      "\n",
      "\n",
      "Done!\n",
      "Run Time: 1 seconds\n"
     ]
    }
   ],
   "source": [
    "cat ${FD_LOG}/region.intersect.fcc_astarr_macs_input_union.hic_intact_Loop_B_deep.txt"
   ]
  },
  {
   "cell_type": "code",
   "execution_count": 13,
   "id": "2e6dd851-79f1-4007-9b76-b81289cd19ec",
   "metadata": {},
   "outputs": [
    {
     "name": "stdout",
     "output_type": "stream",
     "text": [
      "Hostname:           plp-rcc-node-03\n",
      "Slurm Array Index: \n",
      "Time Stamp:         05-29-25+16:40:04\n",
      "\n",
      "Input:  /data/reddylab/Kuei/repo/Proj_ENCODE_FCC/results/region/fcc_astarr_macs_merge/K562.hg38.ASTARR.macs.KS91.input.rep_all.max_overlaps.q5.bed.gz\n",
      "\n",
      "show first few lines of input\n",
      "chr1\t10038\t10405\tchr1:10038-10405\n",
      "chr1\t14282\t14614\tchr1:14282-14614\n",
      "chr1\t16025\t16338\tchr1:16025-16338\n",
      "chr1\t17288\t17689\tchr1:17288-17689\n",
      "chr1\t28934\t29499\tchr1:28934-29499\n",
      "chr1\t115429\t115969\tchr1:115429-115969\n",
      "chr1\t136201\t137353\tchr1:136201-137353\n",
      "chr1\t137748\t138049\tchr1:137748-138049\n",
      "chr1\t138321\t139517\tchr1:138321-139517\n",
      "chr1\t181005\t181854\tchr1:181005-181854\n",
      "\n",
      "Input:  /data/reddylab/Kuei/repo/Proj_ENCODE_FCC/results/region/hic_intact_K562_deep/K562.hg38.hic_intact.Loop_A.bed.gz\n",
      "\n",
      "show first few lines of input\n",
      "chr1\t778000\t779000\tchr1:778000-779000|chr1:827000-828000\thic_intact\tLoop_A\n",
      "chr1\t868000\t870000\tchr1:868000-870000|chr1:1290000-1292000\thic_intact\tLoop_A\n",
      "chr1\t870000\t872000\tchr1:870000-872000|chr1:974000-976000\thic_intact\tLoop_A\n",
      "chr1\t870000\t872000\tchr1:870000-872000|chr1:1062000-1064000\thic_intact\tLoop_A\n",
      "chr1\t870000\t875000\tchr1:870000-875000|chr1:935000-940000\thic_intact\tLoop_A\n",
      "chr1\t904000\t905000\tchr1:904000-905000|chr1:976000-977000\thic_intact\tLoop_A\n",
      "chr1\t904000\t905000\tchr1:904000-905000|chr1:1062000-1063000\thic_intact\tLoop_A\n",
      "chr1\t904000\t905000\tchr1:904000-905000|chr1:940000-941000\thic_intact\tLoop_A\n",
      "chr1\t904000\t905000\tchr1:904000-905000|chr1:1000000-1001000\thic_intact\tLoop_A\n",
      "chr1\t904000\t906000\tchr1:904000-906000|chr1:966000-968000\thic_intact\tLoop_A\n",
      "\n",
      "\n",
      "Output:  /data/reddylab/Kuei/repo/Proj_ENCODE_FCC/results/region_annotation/fcc_astarr_macs_input_overlap/hic_intact_K562_deep/fcc_astarr_macs_input_overlap.hic_intact_Loop_A_deep.bed.gz\n",
      "\n",
      "show first few lines of output:\n",
      "chr1\t778233\t779389\tchr1:778233-779389\tchr1\t778000\t779000\tchr1:778000-779000|chr1:827000-828000\thic_intact\tLoop_A\t767\n",
      "chr1\t869637\t870233\tchr1:869637-870233\tchr1\t870000\t872000\tchr1:870000-872000|chr1:974000-976000\thic_intact\tLoop_A\t233\n",
      "chr1\t869637\t870233\tchr1:869637-870233\tchr1\t870000\t872000\tchr1:870000-872000|chr1:1062000-1064000\thic_intact\tLoop_A\t233\n",
      "chr1\t869637\t870233\tchr1:869637-870233\tchr1\t870000\t875000\tchr1:870000-875000|chr1:935000-940000\thic_intact\tLoop_A\t233\n",
      "chr1\t869637\t870233\tchr1:869637-870233\tchr1\t868000\t870000\tchr1:868000-870000|chr1:1290000-1292000\thic_intact\tLoop_A\t363\n",
      "chr1\t903783\t905204\tchr1:903783-905204\tchr1\t904000\t905000\tchr1:904000-905000|chr1:976000-977000\thic_intact\tLoop_A\t1000\n",
      "chr1\t903783\t905204\tchr1:903783-905204\tchr1\t904000\t905000\tchr1:904000-905000|chr1:1062000-1063000\thic_intact\tLoop_A\t1000\n",
      "chr1\t903783\t905204\tchr1:903783-905204\tchr1\t904000\t905000\tchr1:904000-905000|chr1:940000-941000\thic_intact\tLoop_A\t1000\n",
      "chr1\t903783\t905204\tchr1:903783-905204\tchr1\t904000\t905000\tchr1:904000-905000|chr1:1000000-1001000\thic_intact\tLoop_A\t1000\n",
      "chr1\t903783\t905204\tchr1:903783-905204\tchr1\t904000\t906000\tchr1:904000-906000|chr1:966000-968000\thic_intact\tLoop_A\t1204\n",
      "\n",
      "\n",
      "Done!\n",
      "Run Time: 1 seconds\n"
     ]
    }
   ],
   "source": [
    "cat ${FD_LOG}/region.intersect.fcc_astarr_macs_input_overlap.hic_intact_Loop_A_deep.txt"
   ]
  },
  {
   "cell_type": "code",
   "execution_count": null,
   "id": "ade18014-5ea9-4fde-8f0b-ed601ea8cadd",
   "metadata": {},
   "outputs": [],
   "source": []
  }
 ],
 "metadata": {
  "kernelspec": {
   "display_name": "Bash",
   "language": "bash",
   "name": "bash"
  },
  "language_info": {
   "codemirror_mode": "shell",
   "file_extension": ".sh",
   "mimetype": "text/x-sh",
   "name": "bash"
  }
 },
 "nbformat": 4,
 "nbformat_minor": 5
}
