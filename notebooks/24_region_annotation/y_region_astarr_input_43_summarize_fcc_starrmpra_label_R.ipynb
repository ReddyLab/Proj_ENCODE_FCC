{
 "cells": [
  {
   "cell_type": "raw",
   "id": "2558546b-657c-42d5-883b-3dad8eec8113",
   "metadata": {},
   "source": [
    "---\n",
    "title: FCC Peak calls\n",
    "subtitle: export annotation\n",
    "format:\n",
    "    html:\n",
    "        code-fold:  true\n",
    "        code-tools: true\n",
    "---"
   ]
  },
  {
   "cell_type": "markdown",
   "id": "00156f26-fdde-48be-b415-9a4e3627730d",
   "metadata": {},
   "source": [
    "**Set environment**"
   ]
  },
  {
   "cell_type": "code",
   "execution_count": 1,
   "id": "dcda10b6-c16e-4b5b-b060-b291ce613b0f",
   "metadata": {
    "tags": []
   },
   "outputs": [
    {
     "name": "stdout",
     "output_type": "stream",
     "text": [
      "You are working on        Singularity: singularity_proj_encode_fcc \n",
      "BASE DIRECTORY (FD_BASE): /data/reddylab/Kuei \n",
      "REPO DIRECTORY (FD_REPO): /data/reddylab/Kuei/repo \n",
      "WORK DIRECTORY (FD_WORK): /data/reddylab/Kuei/work \n",
      "DATA DIRECTORY (FD_DATA): /data/reddylab/Kuei/data \n",
      "\n",
      "You are working with      ENCODE FCC \n",
      "PATH OF PROJECT (FD_PRJ): /data/reddylab/Kuei/repo/Proj_ENCODE_FCC \n",
      "PROJECT RESULTS (FD_RES): /data/reddylab/Kuei/repo/Proj_ENCODE_FCC/results \n",
      "PROJECT SCRIPTS (FD_EXE): /data/reddylab/Kuei/repo/Proj_ENCODE_FCC/scripts \n",
      "PROJECT DATA    (FD_DAT): /data/reddylab/Kuei/repo/Proj_ENCODE_FCC/data \n",
      "PROJECT NOTE    (FD_NBK): /data/reddylab/Kuei/repo/Proj_ENCODE_FCC/notebooks \n",
      "PROJECT DOCS    (FD_DOC): /data/reddylab/Kuei/repo/Proj_ENCODE_FCC/docs \n",
      "PROJECT LOG     (FD_LOG): /data/reddylab/Kuei/repo/Proj_ENCODE_FCC/log \n",
      "PROJECT REF     (FD_REF): /data/reddylab/Kuei/repo/Proj_ENCODE_FCC/references \n",
      "\n"
     ]
    }
   ],
   "source": [
    "suppressMessages(suppressWarnings(source(\"../run_config_project_sing.R\")))\n",
    "show_env()"
   ]
  },
  {
   "cell_type": "markdown",
   "id": "a8d09d5f-82cd-429b-9011-fe830dd6a4ed",
   "metadata": {},
   "source": [
    "## Prepare"
   ]
  },
  {
   "cell_type": "markdown",
   "id": "4d86f046-d2bc-4284-9970-564088304d2e",
   "metadata": {},
   "source": [
    "**Set global variable**"
   ]
  },
  {
   "cell_type": "code",
   "execution_count": 2,
   "id": "d2cb5d60-0902-4c1c-93ad-cc88b6c5ca13",
   "metadata": {},
   "outputs": [],
   "source": [
    "TXT_FNAME_INP = \"region.annotation.fcc_starrmpra_junke.assayvote.tsv\"\n",
    "TXT_FNAME_OUT = \"region.annotation.genome_tss.tsv\""
   ]
  },
  {
   "cell_type": "markdown",
   "id": "3c36d77f-f4c9-4da2-89f3-e0f92e5ac1e0",
   "metadata": {},
   "source": [
    "**View files**"
   ]
  },
  {
   "cell_type": "code",
   "execution_count": 3,
   "id": "e50396b5-c61c-408f-9c68-4546b4a0f513",
   "metadata": {},
   "outputs": [
    {
     "name": "stdout",
     "output_type": "stream",
     "text": [
      "fcc_astarr_macs_input_overlap \n",
      "fcc_astarr_macs_input_union \n"
     ]
    }
   ],
   "source": [
    "### get annotated region folder\n",
    "txt_fdiry = file.path(FD_RES, \"region_annotation\")\n",
    "vec = dir(txt_fdiry)\n",
    "\n",
    "### assign and show\n",
    "vec_txt_folder = vec\n",
    "for(txt in vec){cat(txt, \"\\n\")}"
   ]
  },
  {
   "cell_type": "code",
   "execution_count": 4,
   "id": "c1ec46cd-e2c1-4487-ba30-00435de3c02f",
   "metadata": {},
   "outputs": [
    {
     "name": "stdout",
     "output_type": "stream",
     "text": [
      "/data/reddylab/Kuei/repo/Proj_ENCODE_FCC/results/region_annotation/fcc_astarr_macs_input_overlap/summary/region.annotation.fcc_starrmpra_junke.assayvote.tsv \n",
      "/data/reddylab/Kuei/repo/Proj_ENCODE_FCC/results/region_annotation/fcc_astarr_macs_input_union/summary/region.annotation.fcc_starrmpra_junke.assayvote.tsv \n"
     ]
    }
   ],
   "source": [
    "txt_fdiry = file.path(FD_RES, \"region_annotation\", \"*\", \"summary\")\n",
    "txt_fname = TXT_FNAME_INP\n",
    "txt_fglob = file.path(txt_fdiry, txt_fname)\n",
    "\n",
    "vec = Sys.glob(txt_fglob)\n",
    "for(txt in vec){cat(txt, \"\\n\")}"
   ]
  },
  {
   "cell_type": "markdown",
   "id": "e5f14577-247f-41e5-9858-2401abfe3079",
   "metadata": {},
   "source": [
    "## Import data"
   ]
  },
  {
   "cell_type": "code",
   "execution_count": 5,
   "id": "dca32c92-37ab-4c47-89da-a1dde747c5da",
   "metadata": {},
   "outputs": [
    {
     "name": "stdout",
     "output_type": "stream",
     "text": [
      "$fcc_astarr_macs_input_overlap\n",
      "[1] 122228      6\n",
      "\n",
      "$fcc_astarr_macs_input_union\n",
      "[1] 162819      6\n",
      "\n"
     ]
    },
    {
     "data": {
      "text/html": [
       "<table>\n",
       " <thead>\n",
       "  <tr>\n",
       "   <th style=\"text-align:left;\"> Chrom </th>\n",
       "   <th style=\"text-align:right;\"> ChromStart </th>\n",
       "   <th style=\"text-align:right;\"> ChromEnd </th>\n",
       "   <th style=\"text-align:left;\"> Region </th>\n",
       "   <th style=\"text-align:left;\"> Direction </th>\n",
       "   <th style=\"text-align:right;\"> Num_Assay </th>\n",
       "  </tr>\n",
       " </thead>\n",
       "<tbody>\n",
       "  <tr>\n",
       "   <td style=\"text-align:left;\"> chr1 </td>\n",
       "   <td style=\"text-align:right;\"> 115429 </td>\n",
       "   <td style=\"text-align:right;\"> 115969 </td>\n",
       "   <td style=\"text-align:left;\"> chr1:115429-115969 </td>\n",
       "   <td style=\"text-align:left;\"> Active </td>\n",
       "   <td style=\"text-align:right;\"> 1 </td>\n",
       "  </tr>\n",
       "  <tr>\n",
       "   <td style=\"text-align:left;\"> chr1 </td>\n",
       "   <td style=\"text-align:right;\"> 184091 </td>\n",
       "   <td style=\"text-align:right;\"> 184563 </td>\n",
       "   <td style=\"text-align:left;\"> chr1:184091-184563 </td>\n",
       "   <td style=\"text-align:left;\"> Active </td>\n",
       "   <td style=\"text-align:right;\"> 1 </td>\n",
       "  </tr>\n",
       "  <tr>\n",
       "   <td style=\"text-align:left;\"> chr1 </td>\n",
       "   <td style=\"text-align:right;\"> 605104 </td>\n",
       "   <td style=\"text-align:right;\"> 605675 </td>\n",
       "   <td style=\"text-align:left;\"> chr1:605104-605675 </td>\n",
       "   <td style=\"text-align:left;\"> Active </td>\n",
       "   <td style=\"text-align:right;\"> 1 </td>\n",
       "  </tr>\n",
       "</tbody>\n",
       "</table>"
      ]
     },
     "metadata": {},
     "output_type": "display_data"
    }
   ],
   "source": [
    "### loop to import data\n",
    "lst = lapply(vec_txt_folder, function(txt_folder){\n",
    "    ### set file directory\n",
    "    txt_fdiry = file.path(FD_RES, \"region_annotation\", txt_folder, \"summary\")\n",
    "    txt_fname = TXT_FNAME_INP\n",
    "    txt_fpath = file.path(txt_fdiry, txt_fname)\n",
    "\n",
    "    ### read table\n",
    "    dat = read_tsv(txt_fpath, show_col_types = FALSE)\n",
    "    return(dat)\n",
    "})\n",
    "names(lst) = vec_txt_folder\n",
    "\n",
    "### assign and show\n",
    "lst_dat_region_annot_fcc_import = lst\n",
    "\n",
    "res = lapply(lst, dim)\n",
    "print(res)\n",
    "\n",
    "dat = lst[[1]]\n",
    "fun_display_table(head(dat, 3))"
   ]
  },
  {
   "cell_type": "markdown",
   "id": "ba34dcd3-da0a-438e-99cf-3b4ac5975487",
   "metadata": {},
   "source": [
    "**Import TSS annotation**"
   ]
  },
  {
   "cell_type": "code",
   "execution_count": 6,
   "id": "779003e7-fac4-42e5-b697-4613e87fdcb5",
   "metadata": {},
   "outputs": [
    {
     "name": "stdout",
     "output_type": "stream",
     "text": [
      "$fcc_astarr_macs_input_overlap\n",
      "[1] 9649    5\n",
      "\n",
      "$fcc_astarr_macs_input_union\n",
      "[1] 9788    5\n",
      "\n"
     ]
    },
    {
     "data": {
      "text/html": [
       "<table>\n",
       " <thead>\n",
       "  <tr>\n",
       "   <th style=\"text-align:left;\"> Chrom </th>\n",
       "   <th style=\"text-align:right;\"> ChromStart </th>\n",
       "   <th style=\"text-align:right;\"> ChromEnd </th>\n",
       "   <th style=\"text-align:left;\"> Region </th>\n",
       "   <th style=\"text-align:right;\"> TSS </th>\n",
       "  </tr>\n",
       " </thead>\n",
       "<tbody>\n",
       "  <tr>\n",
       "   <td style=\"text-align:left;\"> chr1 </td>\n",
       "   <td style=\"text-align:right;\"> 28934 </td>\n",
       "   <td style=\"text-align:right;\"> 29499 </td>\n",
       "   <td style=\"text-align:left;\"> chr1:28934-29499 </td>\n",
       "   <td style=\"text-align:right;\"> 1 </td>\n",
       "  </tr>\n",
       "  <tr>\n",
       "   <td style=\"text-align:left;\"> chr1 </td>\n",
       "   <td style=\"text-align:right;\"> 826796 </td>\n",
       "   <td style=\"text-align:right;\"> 828040 </td>\n",
       "   <td style=\"text-align:left;\"> chr1:826796-828040 </td>\n",
       "   <td style=\"text-align:right;\"> 1 </td>\n",
       "  </tr>\n",
       "  <tr>\n",
       "   <td style=\"text-align:left;\"> chr1 </td>\n",
       "   <td style=\"text-align:right;\"> 876493 </td>\n",
       "   <td style=\"text-align:right;\"> 877795 </td>\n",
       "   <td style=\"text-align:left;\"> chr1:876493-877795 </td>\n",
       "   <td style=\"text-align:right;\"> 1 </td>\n",
       "  </tr>\n",
       "</tbody>\n",
       "</table>"
      ]
     },
     "metadata": {},
     "output_type": "display_data"
    }
   ],
   "source": [
    "### loop to import data\n",
    "lst = lapply(vec_txt_folder, function(txt_folder){\n",
    "    ### set file directory\n",
    "    txt_fdiry = file.path(FD_RES, \"region_annotation\", txt_folder, \"summary\")\n",
    "    txt_fname = \"matrix.annotation.genome_tss.tsv\"\n",
    "    txt_fpath = file.path(txt_fdiry, txt_fname)\n",
    "\n",
    "    ### read table\n",
    "    dat = read_tsv(txt_fpath, show_col_types = FALSE)\n",
    "    return(dat)\n",
    "})\n",
    "names(lst) = vec_txt_folder\n",
    "\n",
    "### assign and show\n",
    "lst_dat_region_annot_tss_import = lst\n",
    "\n",
    "res = lapply(lst, dim)\n",
    "print(res)\n",
    "\n",
    "dat = lst[[1]]\n",
    "fun_display_table(head(dat, 3))"
   ]
  },
  {
   "cell_type": "markdown",
   "id": "7c6f3dcc-5fab-47fb-8f0c-bd4996aaabc9",
   "metadata": {},
   "source": [
    "**Import TSS proximity**"
   ]
  },
  {
   "cell_type": "code",
   "execution_count": 7,
   "id": "4cb360a5-45e4-403e-ad54-0c22e200f1f2",
   "metadata": {},
   "outputs": [
    {
     "name": "stdout",
     "output_type": "stream",
     "text": [
      "$fcc_astarr_macs_input_overlap\n",
      "[1] 150042      8\n",
      "\n",
      "$fcc_astarr_macs_input_union\n",
      "[1] 246852      8\n",
      "\n"
     ]
    },
    {
     "data": {
      "text/html": [
       "<table>\n",
       " <thead>\n",
       "  <tr>\n",
       "   <th style=\"text-align:left;\"> Chrom </th>\n",
       "   <th style=\"text-align:right;\"> ChromStart </th>\n",
       "   <th style=\"text-align:right;\"> ChromEnd </th>\n",
       "   <th style=\"text-align:left;\"> Region </th>\n",
       "   <th style=\"text-align:left;\"> Annotation_A </th>\n",
       "   <th style=\"text-align:left;\"> Annotation_B </th>\n",
       "   <th style=\"text-align:right;\"> Distance </th>\n",
       "   <th style=\"text-align:left;\"> Label_TSS_Proximity </th>\n",
       "  </tr>\n",
       " </thead>\n",
       "<tbody>\n",
       "  <tr>\n",
       "   <td style=\"text-align:left;\"> chr1 </td>\n",
       "   <td style=\"text-align:right;\"> 10038 </td>\n",
       "   <td style=\"text-align:right;\"> 10405 </td>\n",
       "   <td style=\"text-align:left;\"> chr1:10038-10405 </td>\n",
       "   <td style=\"text-align:left;\"> fcc_astarr_macs_input_overlap </td>\n",
       "   <td style=\"text-align:left;\"> genome_tss_pol2_rnaseq </td>\n",
       "   <td style=\"text-align:right;\"> 18966 </td>\n",
       "   <td style=\"text-align:left;\"> Distal </td>\n",
       "  </tr>\n",
       "  <tr>\n",
       "   <td style=\"text-align:left;\"> chr1 </td>\n",
       "   <td style=\"text-align:right;\"> 14282 </td>\n",
       "   <td style=\"text-align:right;\"> 14614 </td>\n",
       "   <td style=\"text-align:left;\"> chr1:14282-14614 </td>\n",
       "   <td style=\"text-align:left;\"> fcc_astarr_macs_input_overlap </td>\n",
       "   <td style=\"text-align:left;\"> genome_tss_pol2_rnaseq </td>\n",
       "   <td style=\"text-align:right;\"> 14757 </td>\n",
       "   <td style=\"text-align:left;\"> Distal </td>\n",
       "  </tr>\n",
       "  <tr>\n",
       "   <td style=\"text-align:left;\"> chr1 </td>\n",
       "   <td style=\"text-align:right;\"> 16025 </td>\n",
       "   <td style=\"text-align:right;\"> 16338 </td>\n",
       "   <td style=\"text-align:left;\"> chr1:16025-16338 </td>\n",
       "   <td style=\"text-align:left;\"> fcc_astarr_macs_input_overlap </td>\n",
       "   <td style=\"text-align:left;\"> genome_tss_pol2_rnaseq </td>\n",
       "   <td style=\"text-align:right;\"> 13033 </td>\n",
       "   <td style=\"text-align:left;\"> Distal </td>\n",
       "  </tr>\n",
       "</tbody>\n",
       "</table>"
      ]
     },
     "metadata": {},
     "output_type": "display_data"
    }
   ],
   "source": [
    "### loop to import data\n",
    "lst = lapply(vec_txt_folder, function(txt_folder){\n",
    "    ### set file directory\n",
    "    txt_fdiry = file.path(FD_RES, \"region_closest\", txt_folder, \"summary\")\n",
    "    txt_fname = \"region.summary.genome_tss.tsv\"\n",
    "    txt_fpath = file.path(txt_fdiry, txt_fname)\n",
    "\n",
    "    ### read table\n",
    "    dat = read_tsv(txt_fpath, show_col_types = FALSE)\n",
    "    return(dat)\n",
    "})\n",
    "names(lst) = vec_txt_folder\n",
    "\n",
    "### assign and show\n",
    "lst_dat_region_dist2tss_import = lst\n",
    "\n",
    "res = lapply(lst, dim)\n",
    "print(res)\n",
    "\n",
    "dat = lst[[1]]\n",
    "fun_display_table(head(dat, 3))"
   ]
  },
  {
   "cell_type": "markdown",
   "id": "93516821-27f4-47fa-a083-3b66c101169c",
   "metadata": {},
   "source": [
    "**Import GC content**"
   ]
  },
  {
   "cell_type": "code",
   "execution_count": 8,
   "id": "659d7933-3782-446c-b294-c12b897e938d",
   "metadata": {},
   "outputs": [
    {
     "name": "stdout",
     "output_type": "stream",
     "text": [
      "$fcc_astarr_macs_input_overlap\n",
      "[1] 150042      6\n",
      "\n",
      "$fcc_astarr_macs_input_union\n",
      "[1] 246852      6\n",
      "\n"
     ]
    },
    {
     "data": {
      "text/html": [
       "<table>\n",
       " <thead>\n",
       "  <tr>\n",
       "   <th style=\"text-align:left;\"> Chrom </th>\n",
       "   <th style=\"text-align:right;\"> ChromStart </th>\n",
       "   <th style=\"text-align:right;\"> ChromEnd </th>\n",
       "   <th style=\"text-align:left;\"> Region </th>\n",
       "   <th style=\"text-align:right;\"> pGC </th>\n",
       "   <th style=\"text-align:right;\"> Length </th>\n",
       "  </tr>\n",
       " </thead>\n",
       "<tbody>\n",
       "  <tr>\n",
       "   <td style=\"text-align:left;\"> chr1 </td>\n",
       "   <td style=\"text-align:right;\"> 10038 </td>\n",
       "   <td style=\"text-align:right;\"> 10405 </td>\n",
       "   <td style=\"text-align:left;\"> chr1:10038-10405 </td>\n",
       "   <td style=\"text-align:right;\"> 0.523161 </td>\n",
       "   <td style=\"text-align:right;\"> 367 </td>\n",
       "  </tr>\n",
       "  <tr>\n",
       "   <td style=\"text-align:left;\"> chr1 </td>\n",
       "   <td style=\"text-align:right;\"> 14282 </td>\n",
       "   <td style=\"text-align:right;\"> 14614 </td>\n",
       "   <td style=\"text-align:left;\"> chr1:14282-14614 </td>\n",
       "   <td style=\"text-align:right;\"> 0.578313 </td>\n",
       "   <td style=\"text-align:right;\"> 332 </td>\n",
       "  </tr>\n",
       "  <tr>\n",
       "   <td style=\"text-align:left;\"> chr1 </td>\n",
       "   <td style=\"text-align:right;\"> 16025 </td>\n",
       "   <td style=\"text-align:right;\"> 16338 </td>\n",
       "   <td style=\"text-align:left;\"> chr1:16025-16338 </td>\n",
       "   <td style=\"text-align:right;\"> 0.587859 </td>\n",
       "   <td style=\"text-align:right;\"> 313 </td>\n",
       "  </tr>\n",
       "</tbody>\n",
       "</table>"
      ]
     },
     "metadata": {},
     "output_type": "display_data"
    }
   ],
   "source": [
    "lst = list(\n",
    "    \"fcc_astarr_macs_input_overlap\" = \"K562.hg38.ASTARR.macs.KS91.input.rep_all.max_overlaps.q5.tsv\",\n",
    "    \"fcc_astarr_macs_input_union\"   = \"K562.hg38.ASTARR.macs.KS91.input.rep_all.union.q5.tsv\"\n",
    "    \n",
    ")\n",
    "lst = lapply(lst, function(txt_fname){\n",
    "    ### set file directory\n",
    "    txt_fdiry = file.path(FD_RES, \"region_nuc\", \"fcc_astarr_macs\", \"summary\")\n",
    "    txt_fpath = file.path(txt_fdiry, txt_fname)\n",
    "    \n",
    "    ### read table\n",
    "    dat = read_tsv(txt_fpath, show_col_types = FALSE)\n",
    "    return(dat)\n",
    "})\n",
    "\n",
    "### assign and show\n",
    "lst_dat_region_nuc_import = lst\n",
    "\n",
    "res = lapply(lst, dim)\n",
    "print(res)\n",
    "\n",
    "dat = lst[[1]]\n",
    "fun_display_table(head(dat, 3))"
   ]
  },
  {
   "cell_type": "markdown",
   "id": "6b7696e9-f4a9-4bda-a3f8-fcf8086c10f5",
   "metadata": {},
   "source": [
    "**Check**"
   ]
  },
  {
   "cell_type": "code",
   "execution_count": 9,
   "id": "8822590d-40ae-419f-a99d-1eaa89e4e87a",
   "metadata": {},
   "outputs": [
    {
     "name": "stdout",
     "output_type": "stream",
     "text": [
      "Region: fcc_astarr_macs_input_overlap \n",
      "Check: TRUE \n",
      "Check: TRUE \n",
      "Check: TRUE \n",
      "Region: fcc_astarr_macs_input_union \n",
      "Check: TRUE \n",
      "Check: TRUE \n",
      "Check: TRUE \n"
     ]
    }
   ],
   "source": [
    "for (txt_folder in vec_txt_folder){\n",
    "    cat(\"Region:\", txt_folder, \"\\n\")\n",
    "    dat_region_annot_fcc = lst_dat_region_annot_fcc_import[[txt_folder]]\n",
    "    dat_region_annot_tss = lst_dat_region_annot_tss_import[[txt_folder]]\n",
    "    dat_region_dist2tss  = lst_dat_region_dist2tss_import[[txt_folder]]\n",
    "    dat_region_nuc       = lst_dat_region_nuc_import[[txt_folder]]\n",
    "    cat(\"Check:\", all(dat_region_annot_fcc$Region %in% dat_region_nuc$Region), \"\\n\")\n",
    "    cat(\"Check:\", all(dat_region_annot_tss$Region %in% dat_region_nuc$Region), \"\\n\")\n",
    "    cat(\"Check:\", all(dat_region_nuc$Region == dat_region_dist2tss$Region),    \"\\n\")\n",
    "}"
   ]
  },
  {
   "cell_type": "markdown",
   "id": "66e0eed6-5a2c-47ff-aa67-3c77de9c2d04",
   "metadata": {},
   "source": [
    "## Arrange table"
   ]
  },
  {
   "cell_type": "code",
   "execution_count": 10,
   "id": "36fc01c3-6cda-4c2d-bf26-f5d2a4a0b4b1",
   "metadata": {},
   "outputs": [
    {
     "name": "stdout",
     "output_type": "stream",
     "text": [
      "$fcc_astarr_macs_input_overlap\n",
      "[1] 122228      6\n",
      "\n",
      "$fcc_astarr_macs_input_union\n",
      "[1] 162819      6\n",
      "\n"
     ]
    },
    {
     "data": {
      "text/html": [
       "<table>\n",
       " <thead>\n",
       "  <tr>\n",
       "   <th style=\"text-align:left;\"> Chrom </th>\n",
       "   <th style=\"text-align:right;\"> ChromStart </th>\n",
       "   <th style=\"text-align:right;\"> ChromEnd </th>\n",
       "   <th style=\"text-align:left;\"> Region </th>\n",
       "   <th style=\"text-align:left;\"> Direction_Assay </th>\n",
       "   <th style=\"text-align:right;\"> Num_Assay </th>\n",
       "  </tr>\n",
       " </thead>\n",
       "<tbody>\n",
       "  <tr>\n",
       "   <td style=\"text-align:left;\"> chr1 </td>\n",
       "   <td style=\"text-align:right;\"> 115429 </td>\n",
       "   <td style=\"text-align:right;\"> 115969 </td>\n",
       "   <td style=\"text-align:left;\"> chr1:115429-115969 </td>\n",
       "   <td style=\"text-align:left;\"> Active </td>\n",
       "   <td style=\"text-align:right;\"> 1 </td>\n",
       "  </tr>\n",
       "  <tr>\n",
       "   <td style=\"text-align:left;\"> chr1 </td>\n",
       "   <td style=\"text-align:right;\"> 184091 </td>\n",
       "   <td style=\"text-align:right;\"> 184563 </td>\n",
       "   <td style=\"text-align:left;\"> chr1:184091-184563 </td>\n",
       "   <td style=\"text-align:left;\"> Active </td>\n",
       "   <td style=\"text-align:right;\"> 1 </td>\n",
       "  </tr>\n",
       "  <tr>\n",
       "   <td style=\"text-align:left;\"> chr1 </td>\n",
       "   <td style=\"text-align:right;\"> 605104 </td>\n",
       "   <td style=\"text-align:right;\"> 605675 </td>\n",
       "   <td style=\"text-align:left;\"> chr1:605104-605675 </td>\n",
       "   <td style=\"text-align:left;\"> Active </td>\n",
       "   <td style=\"text-align:right;\"> 1 </td>\n",
       "  </tr>\n",
       "</tbody>\n",
       "</table>"
      ]
     },
     "metadata": {},
     "output_type": "display_data"
    }
   ],
   "source": [
    "lst = lst_dat_region_annot_fcc_import\n",
    "lst = lapply(lst, function(dat){\n",
    "    dat = dat %>% dplyr::rename(\"Direction_Assay\" = \"Direction\")\n",
    "    return(dat)\n",
    "})\n",
    "\n",
    "### assign and show\n",
    "lst_dat_region_annot_fcc_arrange = lst\n",
    "\n",
    "res = lapply(lst, dim)\n",
    "print(res)\n",
    "\n",
    "dat = lst[[1]]\n",
    "fun_display_table(head(dat, 3))"
   ]
  },
  {
   "cell_type": "code",
   "execution_count": 11,
   "id": "06289a9f-aa84-4333-b866-e48208122b06",
   "metadata": {},
   "outputs": [
    {
     "name": "stdout",
     "output_type": "stream",
     "text": [
      "$fcc_astarr_macs_input_overlap\n",
      "[1] 9649    2\n",
      "\n",
      "$fcc_astarr_macs_input_union\n",
      "[1] 9788    2\n",
      "\n"
     ]
    },
    {
     "data": {
      "text/html": [
       "<table>\n",
       " <thead>\n",
       "  <tr>\n",
       "   <th style=\"text-align:left;\"> Region </th>\n",
       "   <th style=\"text-align:right;\"> TSS </th>\n",
       "  </tr>\n",
       " </thead>\n",
       "<tbody>\n",
       "  <tr>\n",
       "   <td style=\"text-align:left;\"> chr1:28934-29499 </td>\n",
       "   <td style=\"text-align:right;\"> 1 </td>\n",
       "  </tr>\n",
       "  <tr>\n",
       "   <td style=\"text-align:left;\"> chr1:826796-828040 </td>\n",
       "   <td style=\"text-align:right;\"> 1 </td>\n",
       "  </tr>\n",
       "  <tr>\n",
       "   <td style=\"text-align:left;\"> chr1:876493-877795 </td>\n",
       "   <td style=\"text-align:right;\"> 1 </td>\n",
       "  </tr>\n",
       "</tbody>\n",
       "</table>"
      ]
     },
     "metadata": {},
     "output_type": "display_data"
    }
   ],
   "source": [
    "lst = lst_dat_region_annot_tss_import\n",
    "lst = lapply(lst, function(dat){\n",
    "    dat = dat %>% dplyr::select(Region, TSS)\n",
    "    return(dat)\n",
    "})\n",
    "\n",
    "### assign and show\n",
    "lst_dat_region_annot_tss_arrange = lst\n",
    "\n",
    "res = lapply(lst, dim)\n",
    "print(res)\n",
    "\n",
    "dat = lst[[1]]\n",
    "fun_display_table(head(dat, 3))"
   ]
  },
  {
   "cell_type": "code",
   "execution_count": 12,
   "id": "42bee407-ea5f-4b1b-aa63-63b71dccf351",
   "metadata": {},
   "outputs": [
    {
     "name": "stdout",
     "output_type": "stream",
     "text": [
      "$fcc_astarr_macs_input_overlap\n",
      "[1] 150042      3\n",
      "\n",
      "$fcc_astarr_macs_input_union\n",
      "[1] 246852      3\n",
      "\n"
     ]
    },
    {
     "data": {
      "text/html": [
       "<table>\n",
       " <thead>\n",
       "  <tr>\n",
       "   <th style=\"text-align:left;\"> Region </th>\n",
       "   <th style=\"text-align:right;\"> Distance2TSS </th>\n",
       "   <th style=\"text-align:left;\"> TSS_Proximity </th>\n",
       "  </tr>\n",
       " </thead>\n",
       "<tbody>\n",
       "  <tr>\n",
       "   <td style=\"text-align:left;\"> chr1:10038-10405 </td>\n",
       "   <td style=\"text-align:right;\"> 18966 </td>\n",
       "   <td style=\"text-align:left;\"> Distal </td>\n",
       "  </tr>\n",
       "  <tr>\n",
       "   <td style=\"text-align:left;\"> chr1:14282-14614 </td>\n",
       "   <td style=\"text-align:right;\"> 14757 </td>\n",
       "   <td style=\"text-align:left;\"> Distal </td>\n",
       "  </tr>\n",
       "  <tr>\n",
       "   <td style=\"text-align:left;\"> chr1:16025-16338 </td>\n",
       "   <td style=\"text-align:right;\"> 13033 </td>\n",
       "   <td style=\"text-align:left;\"> Distal </td>\n",
       "  </tr>\n",
       "</tbody>\n",
       "</table>"
      ]
     },
     "metadata": {},
     "output_type": "display_data"
    }
   ],
   "source": [
    "lst = lst_dat_region_dist2tss_import\n",
    "lst = lapply(lst, function(dat){\n",
    "    dat = dat %>% \n",
    "        dplyr::rename(\n",
    "            \"Distance2TSS\" = \"Distance\", \n",
    "            \"TSS_Proximity\" = \"Label_TSS_Proximity\"\n",
    "        ) %>% \n",
    "        dplyr::select(Region, Distance2TSS, TSS_Proximity)\n",
    "    return(dat)\n",
    "})\n",
    "\n",
    "### assign and show\n",
    "lst_dat_region_dist2tss_arrange = lst\n",
    "\n",
    "res = lapply(lst, dim)\n",
    "print(res)\n",
    "\n",
    "dat = lst[[1]]\n",
    "fun_display_table(head(dat, 3))"
   ]
  },
  {
   "cell_type": "code",
   "execution_count": 13,
   "id": "306f5bdd-2652-47ff-8187-e6b425837232",
   "metadata": {},
   "outputs": [
    {
     "name": "stdout",
     "output_type": "stream",
     "text": [
      "$fcc_astarr_macs_input_overlap\n",
      "[1] 150042      3\n",
      "\n",
      "$fcc_astarr_macs_input_union\n",
      "[1] 246852      3\n",
      "\n"
     ]
    },
    {
     "data": {
      "text/html": [
       "<table>\n",
       " <thead>\n",
       "  <tr>\n",
       "   <th style=\"text-align:left;\"> Region </th>\n",
       "   <th style=\"text-align:right;\"> pGC </th>\n",
       "   <th style=\"text-align:right;\"> Length </th>\n",
       "  </tr>\n",
       " </thead>\n",
       "<tbody>\n",
       "  <tr>\n",
       "   <td style=\"text-align:left;\"> chr1:10038-10405 </td>\n",
       "   <td style=\"text-align:right;\"> 0.523161 </td>\n",
       "   <td style=\"text-align:right;\"> 367 </td>\n",
       "  </tr>\n",
       "  <tr>\n",
       "   <td style=\"text-align:left;\"> chr1:14282-14614 </td>\n",
       "   <td style=\"text-align:right;\"> 0.578313 </td>\n",
       "   <td style=\"text-align:right;\"> 332 </td>\n",
       "  </tr>\n",
       "  <tr>\n",
       "   <td style=\"text-align:left;\"> chr1:16025-16338 </td>\n",
       "   <td style=\"text-align:right;\"> 0.587859 </td>\n",
       "   <td style=\"text-align:right;\"> 313 </td>\n",
       "  </tr>\n",
       "</tbody>\n",
       "</table>"
      ]
     },
     "metadata": {},
     "output_type": "display_data"
    }
   ],
   "source": [
    "lst = lst_dat_region_nuc_import\n",
    "lst = lapply(lst, function(dat){\n",
    "    dat = dat %>% dplyr::select(Region, pGC, Length)\n",
    "    return(dat)\n",
    "})\n",
    "\n",
    "### assign and show\n",
    "lst_dat_region_nuc_arrange = lst\n",
    "\n",
    "res = lapply(lst, dim)\n",
    "print(res)\n",
    "\n",
    "dat = lst[[1]]\n",
    "fun_display_table(head(dat, 3))"
   ]
  },
  {
   "cell_type": "markdown",
   "id": "eda516b4-7d54-4064-8b54-9bc9eb471a8e",
   "metadata": {},
   "source": [
    "## Join tables"
   ]
  },
  {
   "cell_type": "code",
   "execution_count": 17,
   "id": "f12779a0-7981-478f-8c19-7adebac4de61",
   "metadata": {},
   "outputs": [
    {
     "name": "stdout",
     "output_type": "stream",
     "text": [
      "$fcc_astarr_macs_input_overlap\n",
      "[1] 122228     12\n",
      "\n",
      "$fcc_astarr_macs_input_union\n",
      "[1] 162819     12\n",
      "\n"
     ]
    },
    {
     "data": {
      "text/html": [
       "<table>\n",
       " <thead>\n",
       "  <tr>\n",
       "   <th style=\"text-align:left;\"> Chrom </th>\n",
       "   <th style=\"text-align:right;\"> ChromStart </th>\n",
       "   <th style=\"text-align:right;\"> ChromEnd </th>\n",
       "   <th style=\"text-align:left;\"> Region </th>\n",
       "   <th style=\"text-align:left;\"> Direction_Assay </th>\n",
       "   <th style=\"text-align:right;\"> Num_Assay </th>\n",
       "   <th style=\"text-align:right;\"> TSS </th>\n",
       "   <th style=\"text-align:right;\"> Distance2TSS </th>\n",
       "   <th style=\"text-align:left;\"> TSS_Proximity </th>\n",
       "   <th style=\"text-align:right;\"> pGC </th>\n",
       "   <th style=\"text-align:right;\"> Length </th>\n",
       "   <th style=\"text-align:left;\"> Group </th>\n",
       "  </tr>\n",
       " </thead>\n",
       "<tbody>\n",
       "  <tr>\n",
       "   <td style=\"text-align:left;\"> chr1 </td>\n",
       "   <td style=\"text-align:right;\"> 115429 </td>\n",
       "   <td style=\"text-align:right;\"> 115969 </td>\n",
       "   <td style=\"text-align:left;\"> chr1:115429-115969 </td>\n",
       "   <td style=\"text-align:left;\"> Active </td>\n",
       "   <td style=\"text-align:right;\"> 1 </td>\n",
       "   <td style=\"text-align:right;\"> 0 </td>\n",
       "   <td style=\"text-align:right;\"> 86059 </td>\n",
       "   <td style=\"text-align:left;\"> Distal </td>\n",
       "   <td style=\"text-align:right;\"> 0.381481 </td>\n",
       "   <td style=\"text-align:right;\"> 540 </td>\n",
       "   <td style=\"text-align:left;\"> Distal:Active </td>\n",
       "  </tr>\n",
       "  <tr>\n",
       "   <td style=\"text-align:left;\"> chr1 </td>\n",
       "   <td style=\"text-align:right;\"> 184091 </td>\n",
       "   <td style=\"text-align:right;\"> 184563 </td>\n",
       "   <td style=\"text-align:left;\"> chr1:184091-184563 </td>\n",
       "   <td style=\"text-align:left;\"> Active </td>\n",
       "   <td style=\"text-align:right;\"> 1 </td>\n",
       "   <td style=\"text-align:right;\"> 0 </td>\n",
       "   <td style=\"text-align:right;\"> 154721 </td>\n",
       "   <td style=\"text-align:left;\"> Distal </td>\n",
       "   <td style=\"text-align:right;\"> 0.569915 </td>\n",
       "   <td style=\"text-align:right;\"> 472 </td>\n",
       "   <td style=\"text-align:left;\"> Distal:Active </td>\n",
       "  </tr>\n",
       "  <tr>\n",
       "   <td style=\"text-align:left;\"> chr1 </td>\n",
       "   <td style=\"text-align:right;\"> 605104 </td>\n",
       "   <td style=\"text-align:right;\"> 605675 </td>\n",
       "   <td style=\"text-align:left;\"> chr1:605104-605675 </td>\n",
       "   <td style=\"text-align:left;\"> Active </td>\n",
       "   <td style=\"text-align:right;\"> 1 </td>\n",
       "   <td style=\"text-align:right;\"> 0 </td>\n",
       "   <td style=\"text-align:right;\"> 221848 </td>\n",
       "   <td style=\"text-align:left;\"> Distal </td>\n",
       "   <td style=\"text-align:right;\"> 0.563923 </td>\n",
       "   <td style=\"text-align:right;\"> 571 </td>\n",
       "   <td style=\"text-align:left;\"> Distal:Active </td>\n",
       "  </tr>\n",
       "</tbody>\n",
       "</table>"
      ]
     },
     "metadata": {},
     "output_type": "display_data"
    }
   ],
   "source": [
    "### loop to import data\n",
    "lst = lapply(vec_txt_folder, function(txt_folder){\n",
    "    ###\n",
    "    dat_region_annot_fcc = lst_dat_region_annot_fcc_arrange[[txt_folder]]\n",
    "    dat_region_annot_tss = lst_dat_region_annot_tss_arrange[[txt_folder]]\n",
    "    dat_region_dist2tss  = lst_dat_region_dist2tss_arrange[[txt_folder]]\n",
    "    dat_region_nuc       = lst_dat_region_nuc_arrange[[txt_folder]]\n",
    "\n",
    "    ###\n",
    "    dat = dat_region_annot_fcc\n",
    "    dat = dat %>%\n",
    "        dplyr::left_join(dat_region_annot_tss, by = \"Region\") %>%\n",
    "        replace(is.na(.), 0) %>%\n",
    "        dplyr::left_join(dat_region_dist2tss,  by = \"Region\") %>%\n",
    "        dplyr::left_join(dat_region_nuc,       by = \"Region\")\n",
    "\n",
    "    ###\n",
    "    dat = dat %>% dplyr::mutate(Group = paste(TSS_Proximity, Direction_Assay, sep = \":\"))\n",
    "                                \n",
    "    return(dat)\n",
    "})\n",
    "names(lst) = vec_txt_folder\n",
    "\n",
    "### assign and show\n",
    "lst_dat_region_annot_result = lst\n",
    "\n",
    "res = lapply(lst, dim)\n",
    "print(res)\n",
    "\n",
    "dat = lst[[1]]\n",
    "fun_display_table(head(dat, 3))"
   ]
  },
  {
   "cell_type": "markdown",
   "id": "cfc7358b-1366-4c6e-aaf2-9f0f16cde3a8",
   "metadata": {},
   "source": [
    "**Check: miss values**"
   ]
  },
  {
   "cell_type": "code",
   "execution_count": 18,
   "id": "ed225a8e-9afb-4671-9bff-f8724e16b562",
   "metadata": {},
   "outputs": [
    {
     "name": "stdout",
     "output_type": "stream",
     "text": [
      "Region: fcc_astarr_macs_input_overlap \n",
      "Missing? FALSE \n",
      "\n",
      "If D==0: \n",
      "\n",
      "TSS==1 \n",
      "  9541 \n",
      "\n",
      "If TSS==1: \n",
      "\n",
      "D==0 \n",
      "9541 \n",
      "\n",
      "Region: fcc_astarr_macs_input_union \n",
      "Missing? FALSE \n",
      "\n",
      "If D==0: \n",
      "\n",
      "TSS==1 \n",
      "  9666 \n",
      "\n",
      "If TSS==1: \n",
      "\n",
      "D==0 \n",
      "9666 \n",
      "\n"
     ]
    }
   ],
   "source": [
    "for (txt_folder in vec_txt_folder){\n",
    "    cat(\"Region:\", txt_folder, \"\\n\")\n",
    "    dat = lst_dat_region_annot_result[[txt_folder]]\n",
    "    dat = dat %>% \n",
    "        dplyr::select(Region, TSS, Distance2TSS) %>% \n",
    "        dplyr::distinct()\n",
    "    \n",
    "    ### check missing values\n",
    "    cat(\"Missing?\", any(is.na(dat)), \"\\n\")\n",
    "    cat(\"\\n\")\n",
    "    \n",
    "    ### check TSS annotation and distance\n",
    "    cat(\"If D==0:\", \"\\n\")\n",
    "    tmp = dat %>% \n",
    "        dplyr::filter(Distance2TSS == 0) %>%\n",
    "        dplyr::mutate(Note = ifelse(TSS == 1, \"TSS==1\", \"TSS!=1\"))\n",
    "    res = table(tmp$Note)\n",
    "    print(res)\n",
    "    cat(\"\\n\")\n",
    "    \n",
    "    cat(\"If TSS==1:\", \"\\n\")\n",
    "    tmp = dat %>% \n",
    "        dplyr::filter(TSS == 1) %>% \n",
    "        dplyr::mutate(Note = ifelse(Distance2TSS == 0, \"D==0\", \"D>0\"))\n",
    "    res = table(tmp$Note)\n",
    "    print(res)\n",
    "    cat(\"\\n\")\n",
    "}"
   ]
  },
  {
   "cell_type": "code",
   "execution_count": 20,
   "id": "fb7b063b-ff8e-4869-93ae-495bac21c36d",
   "metadata": {},
   "outputs": [
    {
     "data": {
      "text/html": [
       "<table>\n",
       " <thead>\n",
       "  <tr>\n",
       "   <th style=\"text-align:left;\"> Group </th>\n",
       "   <th style=\"text-align:left;\"> Count </th>\n",
       "  </tr>\n",
       " </thead>\n",
       "<tbody>\n",
       "  <tr>\n",
       "   <td style=\"text-align:left;\"> Distal:Active </td>\n",
       "   <td style=\"text-align:left;\"> 13,750 </td>\n",
       "  </tr>\n",
       "  <tr>\n",
       "   <td style=\"text-align:left;\"> Distal:Repressive </td>\n",
       "   <td style=\"text-align:left;\"> 2,155 </td>\n",
       "  </tr>\n",
       "  <tr>\n",
       "   <td style=\"text-align:left;\"> Proximal:Active </td>\n",
       "   <td style=\"text-align:left;\"> 6,533 </td>\n",
       "  </tr>\n",
       "  <tr>\n",
       "   <td style=\"text-align:left;\"> Proximal:Repressive </td>\n",
       "   <td style=\"text-align:left;\"> 464 </td>\n",
       "  </tr>\n",
       "</tbody>\n",
       "</table>"
      ]
     },
     "metadata": {},
     "output_type": "display_data"
    }
   ],
   "source": [
    "dat = lst_dat_region_annot_result[[\"fcc_astarr_macs_input_overlap\"]]\n",
    "dat = dat %>% dplyr::filter(Num_Assay > 1)\n",
    "res = table(dat$Group)\n",
    "\n",
    "dat = as.data.frame(res)\n",
    "colnames(dat) = c(\"Group\", \"Count\")\n",
    "\n",
    "dat = dat %>% dplyr::mutate(Count = scales::comma(Count))\n",
    "fun_display_table(dat)"
   ]
  },
  {
   "cell_type": "markdown",
   "id": "8811e04d-50e4-4a39-bff1-8de8bfe9fbe0",
   "metadata": {},
   "source": [
    "## Save results"
   ]
  },
  {
   "cell_type": "code",
   "execution_count": 8,
   "id": "027b8de5-87e9-4908-a172-52f0b1f726e2",
   "metadata": {},
   "outputs": [],
   "source": [
    "lst = lst_dat_region_annot_result\n",
    "for (idx in names(lst)){\n",
    "\n",
    "    ### get each table\n",
    "    dat_region_annot_result = lst_dat_region_annot_result[[idx]]\n",
    "    \n",
    "    \n",
    "    ### set file directory\n",
    "    txt_folder = idx\n",
    "    txt_fdiry = file.path(\n",
    "        FD_RES, \n",
    "        \"region_annotation\", \n",
    "        txt_folder,\n",
    "        \"summary\"\n",
    "    )\n",
    "    \n",
    "    ### set file path\n",
    "    txt_fname = \"region.annotation.fcc_starrmpra_junke.group.tsv\"\n",
    "    #txt_fname = \"region.summary.fcc_starrmpra_junke.assayvote.tsv\"\n",
    "    txt_fpath = file.path(txt_fdiry, txt_fname)\n",
    "\n",
    "    ### write table\n",
    "    dat = dat_region_annot_result\n",
    "    write_tsv(dat, txt_fpath)\n",
    "}"
   ]
  },
  {
   "cell_type": "code",
   "execution_count": null,
   "id": "305ab357-b995-485d-adf5-7e3c01d7c7f9",
   "metadata": {},
   "outputs": [],
   "source": []
  },
  {
   "cell_type": "code",
   "execution_count": null,
   "id": "8e656e46-6126-4625-85a5-3870e1030cc0",
   "metadata": {},
   "outputs": [],
   "source": []
  }
 ],
 "metadata": {
  "kernelspec": {
   "display_name": "R",
   "language": "R",
   "name": "ir"
  },
  "language_info": {
   "codemirror_mode": "r",
   "file_extension": ".r",
   "mimetype": "text/x-r-source",
   "name": "R",
   "pygments_lexer": "r",
   "version": "4.4.2"
  }
 },
 "nbformat": 4,
 "nbformat_minor": 5
}
