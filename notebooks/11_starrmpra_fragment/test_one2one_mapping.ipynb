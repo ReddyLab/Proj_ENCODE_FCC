{
 "cells": [
  {
   "cell_type": "code",
   "execution_count": 1,
   "id": "931fa441-2607-4f9e-936e-f12eab50cdc6",
   "metadata": {},
   "outputs": [
    {
     "name": "stdout",
     "output_type": "stream",
     "text": [
      "You are working on             Duke Server: HARDAC\n",
      "BASE DIRECTORY (FD_BASE):      /data/reddylab/Kuei\n",
      "REPO DIRECTORY (FD_REPO):      /data/reddylab/Kuei/repo\n",
      "WORK DIRECTORY (FD_WORK):      /data/reddylab/Kuei/work\n",
      "DATA DIRECTORY (FD_DATA):      /data/reddylab/Kuei/data\n",
      "CONTAINER DIR. (FD_SING):      /data/reddylab/Kuei/container\n",
      "\n",
      "You are working with           ENCODE FCC\n",
      "PATH OF PROJECT (FD_PRJ):      /data/reddylab/Kuei/repo/Proj_ENCODE_FCC\n",
      "PROJECT RESULTS (FD_RES):      /data/reddylab/Kuei/repo/Proj_ENCODE_FCC/results\n",
      "PROJECT SCRIPTS (FD_EXE):      /data/reddylab/Kuei/repo/Proj_ENCODE_FCC/scripts\n",
      "PROJECT DATA    (FD_DAT):      /data/reddylab/Kuei/repo/Proj_ENCODE_FCC/data\n",
      "PROJECT NOTE    (FD_NBK):      /data/reddylab/Kuei/repo/Proj_ENCODE_FCC/notebooks\n",
      "PROJECT DOCS    (FD_DOC):      /data/reddylab/Kuei/repo/Proj_ENCODE_FCC/docs\n",
      "PROJECT LOG     (FD_LOG):      /data/reddylab/Kuei/repo/Proj_ENCODE_FCC/log\n",
      "PROJECT APP     (FD_APP):      /data/reddylab/Kuei/repo/Proj_ENCODE_FCC/app\n",
      "PROJECT REF     (FD_REF):      /data/reddylab/Kuei/repo/Proj_ENCODE_FCC/references\n",
      "PROJECT IMAGE   (FP_PRJ_SIF):  /data/reddylab/Kuei/repo/Proj_ENCODE_FCC/app/singularity_proj_encode_fcc.sif\n",
      "\n"
     ]
    }
   ],
   "source": [
    "source ../run_config_project.sh\n",
    "source ${FD_EXE}/config_load_module_bedtools.sh\n",
    "show_env"
   ]
  },
  {
   "cell_type": "code",
   "execution_count": null,
   "id": "0092b8e1-3474-4dc8-9013-edad926aa69c",
   "metadata": {},
   "outputs": [],
   "source": []
  },
  {
   "cell_type": "code",
   "execution_count": null,
   "id": "ea472435-b219-430a-8cda-8a58d6ce38c5",
   "metadata": {},
   "outputs": [],
   "source": []
  },
  {
   "cell_type": "code",
   "execution_count": null,
   "id": "29360289-6c7c-4695-a6b4-8cd7b809eefe",
   "metadata": {},
   "outputs": [],
   "source": []
  },
  {
   "cell_type": "code",
   "execution_count": 2,
   "id": "7fd10959-f4a9-46a0-a2a5-9302bbfee7e3",
   "metadata": {},
   "outputs": [],
   "source": [
    "FD_INP=/data/reddylab/Kuei/repo/Proj_ENCODE_FCC/results/assay_fcc/STARR_ATAC_K562_Reddy_KS274/coverage/fcc_astarr_macs/astarr_macs_input_union/overlap_fragment_one2one\n",
    "FN_INP=ASTARRseq_K562_KS274.hg38.Output.rep1.WGS.unstranded.bed.gz\n",
    "FP_INP=${FD_INP}/${FN_INP}\n",
    "\n",
    "FD_OUT=/data/reddylab/Kuei/repo/Proj_ENCODE_FCC/results/assay_fcc/STARR_ATAC_K562_Reddy_KS274/coverage/fcc_astarr_macs/astarr_macs_input_union/overlap_fragment_one2one/summary\n",
    "FN_OUT=test.bed.gz\n",
    "FP_OUT=${FD_OUT}/${FN_OUT}"
   ]
  },
  {
   "cell_type": "code",
   "execution_count": 3,
   "id": "be4480c1-c7af-4b67-9021-fb6bde5b098c",
   "metadata": {},
   "outputs": [
    {
     "name": "stdout",
     "output_type": "stream",
     "text": [
      "\n",
      "gzip: stdout: Broken pipe\n"
     ]
    }
   ],
   "source": [
    "NCOL=$(zcat ${FP_INP} | head -n 1 | awk '{print NF}')"
   ]
  },
  {
   "cell_type": "code",
   "execution_count": 4,
   "id": "d3a1ee6f-f4c2-4619-a0c6-b7eb5f299fc1",
   "metadata": {},
   "outputs": [
    {
     "name": "stdout",
     "output_type": "stream",
     "text": [
      "10\n"
     ]
    }
   ],
   "source": [
    "echo ${NCOL}"
   ]
  },
  {
   "cell_type": "code",
   "execution_count": 5,
   "id": "b49dfbe0-ccb1-431f-bdd0-ab3b74c6e89b",
   "metadata": {},
   "outputs": [
    {
     "name": "stdout",
     "output_type": "stream",
     "text": [
      "chr1\t14145\t14485\tchr1:14145-14485\t2\t.\tchr1\t14253\t14645\t232\n",
      "chr1\t14243\t14498\tchr1:14243-14498\t1\t.\tchr1\t14253\t14645\t245\n",
      "chr1\t14454\t14729\tchr1:14454-14729\t1\t.\tchr1\t14253\t14645\t191\n",
      "chr1\t14522\t14725\tchr1:14522-14725\t1\t.\tchr1\t14253\t14645\t123\n",
      "chr1\t14599\t14850\tchr1:14599-14850\t1\t.\tchr1\t14253\t14645\t46\n",
      "chr1\t16048\t16176\tchr1:16048-16176\t1\t.\tchr1\t16015\t16477\t128\n",
      "chr1\t16048\t16175\tchr1:16048-16175\t1\t.\tchr1\t16015\t16477\t127\n",
      "chr1\t16068\t16310\tchr1:16068-16310\t1\t.\tchr1\t16015\t16477\t242\n",
      "chr1\t16174\t16300\tchr1:16174-16300\t2\t.\tchr1\t16015\t16477\t126\n",
      "chr1\t16175\t16300\tchr1:16175-16300\t1\t.\tchr1\t16015\t16477\t125\n"
     ]
    }
   ],
   "source": [
    "zcat ${FP_INP} | head -n 10"
   ]
  },
  {
   "cell_type": "code",
   "execution_count": 6,
   "id": "679df7b4-21f7-46d6-b276-85e458ff348b",
   "metadata": {},
   "outputs": [
    {
     "name": "stdout",
     "output_type": "stream",
     "text": [
      "chr1\t1068139\t1068235\tchr1:1068139-1068235\t1\t.\tchr1\t1067955\t1068196\t57\n",
      "chr1\t1068140\t1068261\tchr1:1068140-1068261\t1\t.\tchr1\t1067955\t1068196\t56\n",
      "chr1\t1068154\t1068317\tchr1:1068154-1068317\t3\t.\tchr1\t1067955\t1068196\t42\n",
      "chr1\t1068155\t1068317\tchr1:1068155-1068317\t1\t.\tchr1\t1067955\t1068196\t41\n",
      "chr1\t1068157\t1068365\tchr1:1068157-1068365\t2\t.\tchr1\t1067955\t1068196\t39\n",
      "chr1\t1068159\t1068687\t\u001b[01;31m\u001b[Kchr1:1068159-1068687\u001b[m\u001b[K\t1\t.\tchr1\t1068570\t1070643\t117\n",
      "chr1\t1068159\t1068251\tchr1:1068159-1068251\t2\t.\tchr1\t1067955\t1068196\t37\n",
      "chr1\t1068159\t1068281\tchr1:1068159-1068281\t3\t.\tchr1\t1067955\t1068196\t37\n",
      "chr1\t1068159\t1068687\t\u001b[01;31m\u001b[Kchr1:1068159-1068687\u001b[m\u001b[K\t1\t.\tchr1\t1067955\t1068196\t37\n",
      "chr1\t1068164\t1068554\tchr1:1068164-1068554\t1\t.\tchr1\t1067955\t1068196\t32\n",
      "chr1\t1068166\t1068276\tchr1:1068166-1068276\t1\t.\tchr1\t1067955\t1068196\t30\n",
      "chr1\t1068166\t1068277\tchr1:1068166-1068277\t1\t.\tchr1\t1067955\t1068196\t30\n",
      "chr1\t1068185\t1068398\tchr1:1068185-1068398\t1\t.\tchr1\t1067955\t1068196\t11\n",
      "chr1\t1068187\t1068390\tchr1:1068187-1068390\t1\t.\tchr1\t1067955\t1068196\t9\n"
     ]
    }
   ],
   "source": [
    "zcat ${FP_INP} | head -n 100000 | grep -A 5 -B 5 chr1:1068159-1068687"
   ]
  },
  {
   "cell_type": "code",
   "execution_count": 7,
   "id": "e38289b0-e2c6-4095-aee2-7fe41e419923",
   "metadata": {},
   "outputs": [
    {
     "name": "stdout",
     "output_type": "stream",
     "text": [
      "chr1\t1068139\t1068235\tchr1:1068139-1068235\t1\t.\tchr1\t1067955\t1068196\t57\n",
      "chr1\t1068140\t1068261\tchr1:1068140-1068261\t1\t.\tchr1\t1067955\t1068196\t56\n",
      "chr1\t1068154\t1068317\tchr1:1068154-1068317\t3\t.\tchr1\t1067955\t1068196\t42\n",
      "chr1\t1068155\t1068317\tchr1:1068155-1068317\t1\t.\tchr1\t1067955\t1068196\t41\n",
      "chr1\t1068157\t1068365\tchr1:1068157-1068365\t2\t.\tchr1\t1067955\t1068196\t39\n",
      "chr1\t1068159\t1068687\t\u001b[01;31m\u001b[Kchr1:1068159-1068687\u001b[m\u001b[K\t1\t.\tchr1\t1068570\t1070643\t117\n",
      "chr1\t1068159\t1068251\tchr1:1068159-1068251\t2\t.\tchr1\t1067955\t1068196\t37\n",
      "chr1\t1068159\t1068281\tchr1:1068159-1068281\t3\t.\tchr1\t1067955\t1068196\t37\n",
      "chr1\t1068159\t1068687\t\u001b[01;31m\u001b[Kchr1:1068159-1068687\u001b[m\u001b[K\t1\t.\tchr1\t1067955\t1068196\t37\n",
      "chr1\t1068164\t1068554\tchr1:1068164-1068554\t1\t.\tchr1\t1067955\t1068196\t32\n",
      "chr1\t1068166\t1068276\tchr1:1068166-1068276\t1\t.\tchr1\t1067955\t1068196\t30\n",
      "chr1\t1068166\t1068277\tchr1:1068166-1068277\t1\t.\tchr1\t1067955\t1068196\t30\n",
      "chr1\t1068185\t1068398\tchr1:1068185-1068398\t1\t.\tchr1\t1067955\t1068196\t11\n",
      "chr1\t1068187\t1068390\tchr1:1068187-1068390\t1\t.\tchr1\t1067955\t1068196\t9\n"
     ]
    }
   ],
   "source": [
    "zcat ${FP_INP} | head -n 100000 \\\n",
    "| sort -k1,1 -k2,2n -k${NCOL},${NCOL}nr \\\n",
    "| bedtools groupby \\\n",
    "    -g 1-6 \\\n",
    "    -c ${NCOL} \\\n",
    "    -o first \\\n",
    "    -full \\\n",
    "| cut -f 1-${NCOL} \\\n",
    "| grep -A 5 -B 5 chr1:1068159-1068687"
   ]
  },
  {
   "cell_type": "code",
   "execution_count": 8,
   "id": "522f8d9d-ed36-48b0-9164-c50b669df7cf",
   "metadata": {},
   "outputs": [
    {
     "name": "stdout",
     "output_type": "stream",
     "text": [
      "chr1\t1068154\t1068317\tchr1:1068154-1068317\t3\t.\tchr1\t1067955\t1068196\t42\n",
      "chr1\t1068155\t1068317\tchr1:1068155-1068317\t1\t.\tchr1\t1067955\t1068196\t41\n",
      "chr1\t1068157\t1068365\tchr1:1068157-1068365\t2\t.\tchr1\t1067955\t1068196\t39\n",
      "chr1\t1068159\t1068251\tchr1:1068159-1068251\t2\t.\tchr1\t1067955\t1068196\t37\n",
      "chr1\t1068159\t1068281\tchr1:1068159-1068281\t3\t.\tchr1\t1067955\t1068196\t37\n",
      "chr1\t1068159\t1068687\t\u001b[01;31m\u001b[Kchr1:1068159-1068687\u001b[m\u001b[K\t1\t.\tchr1\t1068570\t1070643\t117\n",
      "chr1\t1068164\t1068554\tchr1:1068164-1068554\t1\t.\tchr1\t1067955\t1068196\t32\n",
      "chr1\t1068166\t1068276\tchr1:1068166-1068276\t1\t.\tchr1\t1067955\t1068196\t30\n",
      "chr1\t1068166\t1068277\tchr1:1068166-1068277\t1\t.\tchr1\t1067955\t1068196\t30\n",
      "chr1\t1068185\t1068398\tchr1:1068185-1068398\t1\t.\tchr1\t1067955\t1068196\t11\n",
      "chr1\t1068187\t1068390\tchr1:1068187-1068390\t1\t.\tchr1\t1067955\t1068196\t9\n"
     ]
    }
   ],
   "source": [
    "zcat ${FP_INP} | head -n 100000 \\\n",
    "| sort -k1,1 -k2,2n -k3,3n -k${NCOL},${NCOL}nr \\\n",
    "| bedtools groupby \\\n",
    "    -g 1-6 \\\n",
    "    -c ${NCOL} \\\n",
    "    -o first \\\n",
    "    -full \\\n",
    "| cut -f 1-${NCOL} \\\n",
    "| grep -A 5 -B 5 chr1:1068159-1068687"
   ]
  },
  {
   "cell_type": "code",
   "execution_count": null,
   "id": "142ea59b-98ab-4b40-a977-09b1898b8ff6",
   "metadata": {},
   "outputs": [],
   "source": []
  },
  {
   "cell_type": "markdown",
   "id": "7ac97f90-5efb-427d-a906-7a31d2711dbd",
   "metadata": {},
   "source": [
    "**Before**"
   ]
  },
  {
   "cell_type": "markdown",
   "id": "a8e5dd94-8d39-4e89-9f4e-6f304ee2a562",
   "metadata": {},
   "source": [
    "```\n",
    "FD_INP=/data/reddylab/Kuei/repo/Proj_ENCODE_FCC/results/assay_fcc/STARR_ATAC_K562_Reddy_KS274/coverage/fcc_astarr_macs/astarr_macs_input_union/overlap_fragment_one2one\n",
    "FN_INP=ASTARRseq_K562_KS274.hg38.Output.rep1.WGS.unstranded.bed.gz\n",
    "FP_INP=${FD_INP}/${FN_INP}\n",
    "zcat ${FP_INP} | head\n",
    "zcat ${FP_INP} | wc -l\n",
    "```"
   ]
  },
  {
   "cell_type": "markdown",
   "id": "776f618d-e98f-4c71-b1d6-cd59f421c51e",
   "metadata": {},
   "source": [
    "**after fixing the bug**"
   ]
  },
  {
   "cell_type": "code",
   "execution_count": 9,
   "id": "8052f2c5-7ae8-4318-b2b5-271ceace415b",
   "metadata": {},
   "outputs": [
    {
     "name": "stdout",
     "output_type": "stream",
     "text": [
      "-rw-rw-r-- 1 kk319 reddylab 207936954 Apr 16 22:23 \u001b[0m\u001b[38;5;9m/data/reddylab/Kuei/repo/Proj_ENCODE_FCC/results/assay_fcc/STARR_ATAC_K562_Reddy_KS274/coverage/fcc_astarr_macs/astarr_macs_input_union/overlap_fragment_one2one/ASTARRseq_K562_KS274.hg38.Output.rep1.WGS.unstranded.bed.gz\u001b[0m\u001b[K\n"
     ]
    }
   ],
   "source": [
    "ls -l ${FP_INP}"
   ]
  },
  {
   "cell_type": "code",
   "execution_count": 11,
   "id": "0dbff746-5ed4-46d7-9ab1-7713bc93432d",
   "metadata": {},
   "outputs": [
    {
     "name": "stdout",
     "output_type": "stream",
     "text": [
      "chr1\t14145\t14485\tchr1:14145-14485\t2\t.\tchr1\t14253\t14645\t232\n",
      "chr1\t14243\t14498\tchr1:14243-14498\t1\t.\tchr1\t14253\t14645\t245\n",
      "chr1\t14454\t14729\tchr1:14454-14729\t1\t.\tchr1\t14253\t14645\t191\n",
      "chr1\t14522\t14725\tchr1:14522-14725\t1\t.\tchr1\t14253\t14645\t123\n",
      "chr1\t14599\t14850\tchr1:14599-14850\t1\t.\tchr1\t14253\t14645\t46\n",
      "chr1\t16048\t16175\tchr1:16048-16175\t1\t.\tchr1\t16015\t16477\t127\n",
      "chr1\t16048\t16176\tchr1:16048-16176\t1\t.\tchr1\t16015\t16477\t128\n",
      "chr1\t16068\t16310\tchr1:16068-16310\t1\t.\tchr1\t16015\t16477\t242\n",
      "chr1\t16174\t16300\tchr1:16174-16300\t2\t.\tchr1\t16015\t16477\t126\n",
      "chr1\t16175\t16300\tchr1:16175-16300\t1\t.\tchr1\t16015\t16477\t125\n",
      "16704696\n"
     ]
    }
   ],
   "source": [
    "zcat ${FP_INP} | head\n",
    "zcat ${FP_INP} | wc -l"
   ]
  },
  {
   "cell_type": "code",
   "execution_count": 10,
   "id": "7820f804-7b2b-4740-9d1b-d071dcd2c8d7",
   "metadata": {},
   "outputs": [
    {
     "name": "stdout",
     "output_type": "stream",
     "text": [
      "chr1\t1068154\t1068317\tchr1:1068154-1068317\t3\t.\tchr1\t1067955\t1068196\t42\n",
      "chr1\t1068155\t1068317\tchr1:1068155-1068317\t1\t.\tchr1\t1067955\t1068196\t41\n",
      "chr1\t1068157\t1068365\tchr1:1068157-1068365\t2\t.\tchr1\t1067955\t1068196\t39\n",
      "chr1\t1068159\t1068251\tchr1:1068159-1068251\t2\t.\tchr1\t1067955\t1068196\t37\n",
      "chr1\t1068159\t1068281\tchr1:1068159-1068281\t3\t.\tchr1\t1067955\t1068196\t37\n",
      "chr1\t1068159\t1068687\t\u001b[01;31m\u001b[Kchr1:1068159-1068687\u001b[m\u001b[K\t1\t.\tchr1\t1068570\t1070643\t117\n",
      "chr1\t1068164\t1068554\tchr1:1068164-1068554\t1\t.\tchr1\t1067955\t1068196\t32\n",
      "chr1\t1068166\t1068276\tchr1:1068166-1068276\t1\t.\tchr1\t1067955\t1068196\t30\n",
      "chr1\t1068166\t1068277\tchr1:1068166-1068277\t1\t.\tchr1\t1067955\t1068196\t30\n",
      "chr1\t1068185\t1068398\tchr1:1068185-1068398\t1\t.\tchr1\t1067955\t1068196\t11\n",
      "chr1\t1068187\t1068390\tchr1:1068187-1068390\t1\t.\tchr1\t1067955\t1068196\t9\n"
     ]
    }
   ],
   "source": [
    "zcat ${FP_INP} | head -n 100000 | grep -A 5 -B 5 chr1:1068159-1068687"
   ]
  },
  {
   "cell_type": "code",
   "execution_count": null,
   "id": "b898e5bb-ba55-4ffd-a0f6-526382c66876",
   "metadata": {},
   "outputs": [],
   "source": []
  },
  {
   "cell_type": "code",
   "execution_count": null,
   "id": "43be83b7-aa4d-4bbc-a7bc-1cee3454483b",
   "metadata": {},
   "outputs": [],
   "source": []
  },
  {
   "cell_type": "code",
   "execution_count": 12,
   "id": "2aadb4dd-6de9-4939-b9ed-94e02fd622b6",
   "metadata": {},
   "outputs": [
    {
     "name": "stdout",
     "output_type": "stream",
     "text": [
      "chr1\t14145\t14485\tchr1:14145-14485\t2\t.\tchr1\t14253\t14645\t232\n",
      "chr1\t14243\t14498\tchr1:14243-14498\t1\t.\tchr1\t14253\t14645\t245\n",
      "chr1\t14454\t14729\tchr1:14454-14729\t1\t.\tchr1\t14253\t14645\t191\n",
      "chr1\t14522\t14725\tchr1:14522-14725\t1\t.\tchr1\t14253\t14645\t123\n",
      "chr1\t14599\t14850\tchr1:14599-14850\t1\t.\tchr1\t14253\t14645\t46\n",
      "chr1\t16048\t16175\tchr1:16048-16175\t1\t.\tchr1\t16015\t16477\t127\n",
      "chr1\t16048\t16176\tchr1:16048-16176\t1\t.\tchr1\t16015\t16477\t128\n",
      "chr1\t16068\t16310\tchr1:16068-16310\t1\t.\tchr1\t16015\t16477\t242\n",
      "chr1\t16174\t16300\tchr1:16174-16300\t2\t.\tchr1\t16015\t16477\t126\n",
      "chr1\t16175\t16300\tchr1:16175-16300\t1\t.\tchr1\t16015\t16477\t125\n"
     ]
    }
   ],
   "source": [
    "zcat ${FP_INP} | head"
   ]
  },
  {
   "cell_type": "code",
   "execution_count": 14,
   "id": "4714c0ee-380b-47c6-a05d-6523019d271f",
   "metadata": {},
   "outputs": [
    {
     "name": "stdout",
     "output_type": "stream",
     "text": [
      "ASTARRseq_K562_KS274.hg38.Output.rep1.WGS.unstranded.bed.gz,10,12\n"
     ]
    }
   ],
   "source": [
    "zcat ${FP_INP} \\\n",
    "| head \\\n",
    "| awk -v OFS=, -v FNAME=${FN_INP} '{sum += $5} END {print FNAME, NR, sum}'"
   ]
  },
  {
   "cell_type": "code",
   "execution_count": null,
   "id": "024e837c-9e6d-4670-ac9b-c9e0aa876010",
   "metadata": {},
   "outputs": [],
   "source": []
  },
  {
   "cell_type": "code",
   "execution_count": null,
   "id": "1d7a05f5-31b1-4570-ac6c-a81de7c6de08",
   "metadata": {},
   "outputs": [],
   "source": []
  }
 ],
 "metadata": {
  "kernelspec": {
   "display_name": "Bash",
   "language": "bash",
   "name": "bash"
  },
  "language_info": {
   "codemirror_mode": "shell",
   "file_extension": ".sh",
   "mimetype": "text/x-sh",
   "name": "bash"
  }
 },
 "nbformat": 4,
 "nbformat_minor": 5
}
