{
 "cells": [
  {
   "cell_type": "raw",
   "id": "40a1d559-d8c7-42a9-a1ae-73a44369f2b0",
   "metadata": {},
   "source": [
    "---\n",
    "Library complexity at OCR 04\n",
    "subtitle: Count unique fragments for each OCR region\n",
    "format:\n",
    "    html:\n",
    "        code-fold:  true\n",
    "        code-tools: true\n",
    "---"
   ]
  },
  {
   "cell_type": "markdown",
   "id": "82c2a043-e103-4dff-b9a9-d788a9391574",
   "metadata": {},
   "source": [
    "**Set environment**"
   ]
  },
  {
   "cell_type": "code",
   "execution_count": 1,
   "id": "81be9cf7-013d-4b07-a722-fd17f697ea94",
   "metadata": {},
   "outputs": [
    {
     "name": "stdout",
     "output_type": "stream",
     "text": [
      "You are working on             Duke Server: HARDAC\n",
      "BASE DIRECTORY (FD_BASE):      /data/reddylab/Kuei\n",
      "REPO DIRECTORY (FD_REPO):      /data/reddylab/Kuei/repo\n",
      "WORK DIRECTORY (FD_WORK):      /data/reddylab/Kuei/work\n",
      "DATA DIRECTORY (FD_DATA):      /data/reddylab/Kuei/data\n",
      "CONTAINER DIR. (FD_SING):      /data/reddylab/Kuei/container\n",
      "\n",
      "You are working with           ENCODE FCC\n",
      "PATH OF PROJECT (FD_PRJ):      /data/reddylab/Kuei/repo/Proj_ENCODE_FCC\n",
      "PROJECT RESULTS (FD_RES):      /data/reddylab/Kuei/repo/Proj_ENCODE_FCC/results\n",
      "PROJECT SCRIPTS (FD_EXE):      /data/reddylab/Kuei/repo/Proj_ENCODE_FCC/scripts\n",
      "PROJECT DATA    (FD_DAT):      /data/reddylab/Kuei/repo/Proj_ENCODE_FCC/data\n",
      "PROJECT NOTE    (FD_NBK):      /data/reddylab/Kuei/repo/Proj_ENCODE_FCC/notebooks\n",
      "PROJECT DOCS    (FD_DOC):      /data/reddylab/Kuei/repo/Proj_ENCODE_FCC/docs\n",
      "PROJECT LOG     (FD_LOG):      /data/reddylab/Kuei/repo/Proj_ENCODE_FCC/log\n",
      "PROJECT APP     (FD_APP):      /data/reddylab/Kuei/repo/Proj_ENCODE_FCC/app\n",
      "PROJECT REF     (FD_REF):      /data/reddylab/Kuei/repo/Proj_ENCODE_FCC/references\n",
      "PROJECT IMAGE   (FP_PRJ_SIF):  /data/reddylab/Kuei/repo/Proj_ENCODE_FCC/app/singularity_proj_encode_fcc.sif\n",
      "\n"
     ]
    }
   ],
   "source": [
    "source ../run_config_project.sh\n",
    "show_env"
   ]
  },
  {
   "cell_type": "markdown",
   "id": "3d010cca-8f9c-45a5-90cf-ed3cbf0659b3",
   "metadata": {},
   "source": [
    "## Prepare"
   ]
  },
  {
   "cell_type": "markdown",
   "id": "7b38cefe-e0f9-4f70-a008-352adb7212e4",
   "metadata": {
    "tags": []
   },
   "source": [
    "**Check data**"
   ]
  },
  {
   "cell_type": "code",
   "execution_count": 2,
   "id": "6a0a4988-756b-4081-b981-d7de970aeb78",
   "metadata": {},
   "outputs": [
    {
     "name": "stdout",
     "output_type": "stream",
     "text": [
      "Folder\tFName\tLabel\n",
      "encode_open_chromatin\tK562.hg38.ENCSR000EKS.ENCFF274YGF.DNase.bed.gz\tdnase_ENCFF274YGF\n",
      "encode_open_chromatin\tK562.hg38.ENCSR000EOT.ENCFF185XRG.DNase.bed.gz\tdnase_ENCFF185XRG\n",
      "encode_open_chromatin\tK562.hg38.ENCSR483RKN.ENCFF558BLC.ATAC.bed.gz\tatac_ENCFF558BLC\n",
      "encode_open_chromatin\tK562.hg38.ENCSR483RKN.ENCFF925CYR.ATAC.bed.gz\tatac_ENCFF925CYR\n",
      "encode_open_chromatin\tK562.hg38.ENCSR868FGK.ENCFF333TAT.ATAC.bed.gz\tatac_ENCFF333TAT\n",
      "encode_open_chromatin\tK562.hg38.ENCSR868FGK.ENCFF948AFM.ATAC.bed.gz\tatac_ENCFF948AFM\n",
      "fcc_astarr_macs\tASTARRseq_K562_KS91.hg38.Input.rep_all.max_overlaps.q5.bed.gz\tastarr_macs_input_overlap\n",
      "fcc_astarr_macs\tASTARRseq_K562_KS91.hg38.Input.rep_all.union.q5.bed.gz\tastarr_macs_input_union\n"
     ]
    }
   ],
   "source": [
    "### set directory\n",
    "FDIRY=${FD_RES}/region/summary\n",
    "FNAME=metadata_region_label.tsv\n",
    "FPATH=${FDIRY}/${FNAME}\n",
    "\n",
    "### get table\n",
    "FP_REGION_LABEL=${FPATH}\n",
    "cat ${FPATH}"
   ]
  },
  {
   "cell_type": "code",
   "execution_count": 3,
   "id": "05933f75-f24d-456d-b0c4-a01e4b7afdfd",
   "metadata": {},
   "outputs": [
    {
     "name": "stdout",
     "output_type": "stream",
     "text": [
      "\u001b[0m\u001b[38;5;27mCRISPRi_FlowFISH_K562_Riley_JinWoo\u001b[0m\n",
      "\u001b[38;5;27mCRISPRi_Growth_K562_Gersbach_JinWoo\u001b[0m\n",
      "\u001b[38;5;27mMPRA_Tiling_K562_Tewhey_Hannah\u001b[0m\n",
      "\u001b[38;5;27mSTARR_ATAC_K562_Reddy_KS274\u001b[0m\n",
      "\u001b[38;5;27mSTARR_ATAC_K562_Reddy_KS91\u001b[0m\n",
      "\u001b[38;5;27mSTARR_WHG_K562_Reddy_A001\u001b[0m\n"
     ]
    }
   ],
   "source": [
    "ls -1 ${FD_RES}/assay_fcc"
   ]
  },
  {
   "cell_type": "markdown",
   "id": "b9ecf2ce-d833-43e6-9db6-941888b9fef5",
   "metadata": {},
   "source": [
    "**Set global environment**"
   ]
  },
  {
   "cell_type": "code",
   "execution_count": 4,
   "id": "aa628055-1e74-4463-aaa2-05d6442eb2dd",
   "metadata": {},
   "outputs": [],
   "source": [
    "### Assay\n",
    "ASSAY_TYPE=assay_fcc\n",
    "ASSAY_NAMES=(\n",
    "    STARR_ATAC_K562_Reddy_KS274\n",
    ")"
   ]
  },
  {
   "cell_type": "markdown",
   "id": "b0051ee0-80d9-42b5-b423-39b9de2d9fd6",
   "metadata": {},
   "source": [
    "**Test loop: Region**"
   ]
  },
  {
   "cell_type": "code",
   "execution_count": 5,
   "id": "aad39ffb-6919-4981-b3dd-6451e890a922",
   "metadata": {},
   "outputs": [
    {
     "name": "stdout",
     "output_type": "stream",
     "text": [
      "encode_open_chromatin\tK562.hg38.ENCSR000EKS.ENCFF274YGF.DNase.bed.gz\tdnase_ENCFF274YGF\n",
      "encode_open_chromatin\tK562.hg38.ENCSR000EOT.ENCFF185XRG.DNase.bed.gz\tdnase_ENCFF185XRG\n",
      "encode_open_chromatin\tK562.hg38.ENCSR483RKN.ENCFF558BLC.ATAC.bed.gz\tatac_ENCFF558BLC\n",
      "encode_open_chromatin\tK562.hg38.ENCSR483RKN.ENCFF925CYR.ATAC.bed.gz\tatac_ENCFF925CYR\n",
      "encode_open_chromatin\tK562.hg38.ENCSR868FGK.ENCFF333TAT.ATAC.bed.gz\tatac_ENCFF333TAT\n",
      "encode_open_chromatin\tK562.hg38.ENCSR868FGK.ENCFF948AFM.ATAC.bed.gz\tatac_ENCFF948AFM\n",
      "fcc_astarr_macs\tASTARRseq_K562_KS91.hg38.Input.rep_all.max_overlaps.q5.bed.gz\tastarr_macs_input_overlap\n",
      "fcc_astarr_macs\tASTARRseq_K562_KS91.hg38.Input.rep_all.union.q5.bed.gz\tastarr_macs_input_union\n"
     ]
    }
   ],
   "source": [
    "cat ${FP_REGION_LABEL} | awk 'NR >=2 {print}'"
   ]
  },
  {
   "cell_type": "code",
   "execution_count": 6,
   "id": "e3d58012-ecee-4a93-8f1c-a7a21e5cc86e",
   "metadata": {},
   "outputs": [
    {
     "name": "stdout",
     "output_type": "stream",
     "text": [
      "\u001b[01;31m\u001b[Kfcc_astarr_macs\u001b[m\u001b[K\tASTARRseq_K562_KS91.hg38.Input.rep_all.max_overlaps.q5.bed.gz\tastarr_macs_input_overlap\n",
      "\u001b[01;31m\u001b[Kfcc_astarr_macs\u001b[m\u001b[K\tASTARRseq_K562_KS91.hg38.Input.rep_all.union.q5.bed.gz\tastarr_macs_input_union\n"
     ]
    }
   ],
   "source": [
    "cat ${FP_REGION_LABEL} | awk 'NR >=2 {print}' | grep fcc_astarr_macs"
   ]
  },
  {
   "cell_type": "code",
   "execution_count": 7,
   "id": "4b778feb-e86b-4544-8449-0c2d9250ba2c",
   "metadata": {},
   "outputs": [
    {
     "name": "stdout",
     "output_type": "stream",
     "text": [
      "==============================\n",
      "Region folder: fcc_astarr_macs\n",
      "Region label:  astarr_macs_input_overlap\n",
      "==============================\n",
      "Region folder: fcc_astarr_macs\n",
      "Region label:  astarr_macs_input_union\n"
     ]
    }
   ],
   "source": [
    "while read FOLDER_REG FNAME_REG LABEL_REG; do\n",
    "    \n",
    "    ### show progress\n",
    "    echo ==============================\n",
    "    echo \"Region folder:\" ${FOLDER_REG}\n",
    "    echo \"Region label: \" ${LABEL_REG}\n",
    "    \n",
    "    ### Set directory\n",
    "    FD_INP_A=${FD_RES}/region/${FOLDER_REG}\n",
    "    FN_INP_A=${FNAME_REG}\n",
    "    FP_INP_A=${FD_INP_A}/${FN_INP_A}\n",
    "    \n",
    "done < <(cat ${FP_REGION_LABEL} | awk 'NR >=2 {print}' | grep fcc_astarr_macs)"
   ]
  },
  {
   "cell_type": "markdown",
   "id": "46eb1340-6aac-4ac4-bd62-d4c8f462ff58",
   "metadata": {},
   "source": [
    "**Test loop: Assay**"
   ]
  },
  {
   "cell_type": "code",
   "execution_count": 8,
   "id": "5aedb3b7-4018-40bf-8d91-5816beda01d3",
   "metadata": {},
   "outputs": [
    {
     "name": "stdout",
     "output_type": "stream",
     "text": [
      "==============================\n",
      "Assay name:  STARR_ATAC_K562_Reddy_KS274\n",
      "ASTARRseq_K562_KS274.hg38.Output.rep1.WGS.unstranded.bed.gz\n",
      "ASTARRseq_K562_KS274.hg38.Output.rep2.WGS.unstranded.bed.gz\n",
      "ASTARRseq_K562_KS274.hg38.Output.rep3.WGS.unstranded.bed.gz\n"
     ]
    }
   ],
   "source": [
    "FOLDER_REG=fcc_astarr_macs\n",
    "LABEL_REG=astarr_macs_input_union\n",
    "\n",
    "for ASSAY_NAME in ${ASSAY_NAMES[@]}; do\n",
    "    \n",
    "    ### show progress\n",
    "    echo ==============================\n",
    "    echo \"Assay name: \" ${ASSAY_NAME}\n",
    "    \n",
    "    ### Set directory\n",
    "    FD_INP_B=${FD_RES}/${ASSAY_TYPE}/${ASSAY_NAME}/coverage/${FOLDER_REG}/${LABEL_REG}/overlap_fragment_one2one\n",
    "    FP_INPS=($(ls ${FD_INP_B}/*hg38*rep*bed.gz))\n",
    "    \n",
    "    ### loop through each sample\n",
    "    for FP_INP_B in ${FP_INPS[@]}; do\n",
    "        FN_INP_B=$(basename ${FP_INP_B})\n",
    "        echo ${FN_INP_B}\n",
    "    done\n",
    "done"
   ]
  },
  {
   "cell_type": "markdown",
   "id": "e9b37801-a5e1-40a5-a266-5f51818f92bd",
   "metadata": {},
   "source": [
    "**Test loop: Region + Assay**"
   ]
  },
  {
   "cell_type": "code",
   "execution_count": 31,
   "id": "3fae2cc2-91ef-476f-a862-0052b7155479",
   "metadata": {
    "tags": []
   },
   "outputs": [
    {
     "name": "stdout",
     "output_type": "stream",
     "text": [
      "==============================\n",
      "Region folder: fcc_astarr_macs\n",
      "Region label:  astarr_macs_input_overlap\n",
      "Assay  name:   STARR_ATAC_K562_Reddy_KS274\n",
      "\n",
      "Input fdiry:  /data/reddylab/Kuei/repo/Proj_ENCODE_FCC/results/assay_fcc/STARR_ATAC_K562_Reddy_KS274/coverage/fcc_astarr_macs/astarr_macs_input_overlap/overlap_fragment_one2one\n",
      "Input fname:  ASTARRseq_K562_KS274.hg38.Output.rep1.WGS.unstranded.bed.gz\n",
      "\n",
      "Output fdiry:  /data/reddylab/Kuei/repo/Proj_ENCODE_FCC/results/assay_fcc/STARR_ATAC_K562_Reddy_KS274/coverage/fcc_astarr_macs/astarr_macs_input_overlap/overlap_count_unique\n",
      "Output fname:  ASTARRseq_K562_KS274.hg38.Output.rep1.WGS.unstranded.bed.gz\n",
      "\n",
      "Log file: region.coverage.overlap.count_unique.astarr_macs_input_overlap.ASTARRseq_K562_KS274.hg38.Output.rep1.WGS.unstranded.bed.gz.txt\n",
      "\n",
      "==============================\n",
      "Region folder: fcc_astarr_macs\n",
      "Region label:  astarr_macs_input_overlap\n",
      "Assay  name:   STARR_ATAC_K562_Reddy_KS274\n",
      "\n",
      "Input fdiry:  /data/reddylab/Kuei/repo/Proj_ENCODE_FCC/results/assay_fcc/STARR_ATAC_K562_Reddy_KS274/coverage/fcc_astarr_macs/astarr_macs_input_overlap/overlap_fragment_one2one\n",
      "Input fname:  ASTARRseq_K562_KS274.hg38.Output.rep2.WGS.unstranded.bed.gz\n",
      "\n",
      "Output fdiry:  /data/reddylab/Kuei/repo/Proj_ENCODE_FCC/results/assay_fcc/STARR_ATAC_K562_Reddy_KS274/coverage/fcc_astarr_macs/astarr_macs_input_overlap/overlap_count_unique\n",
      "Output fname:  ASTARRseq_K562_KS274.hg38.Output.rep2.WGS.unstranded.bed.gz\n",
      "\n",
      "Log file: region.coverage.overlap.count_unique.astarr_macs_input_overlap.ASTARRseq_K562_KS274.hg38.Output.rep2.WGS.unstranded.bed.gz.txt\n",
      "\n",
      "==============================\n",
      "Region folder: fcc_astarr_macs\n",
      "Region label:  astarr_macs_input_overlap\n",
      "Assay  name:   STARR_ATAC_K562_Reddy_KS274\n",
      "\n",
      "Input fdiry:  /data/reddylab/Kuei/repo/Proj_ENCODE_FCC/results/assay_fcc/STARR_ATAC_K562_Reddy_KS274/coverage/fcc_astarr_macs/astarr_macs_input_overlap/overlap_fragment_one2one\n",
      "Input fname:  ASTARRseq_K562_KS274.hg38.Output.rep3.WGS.unstranded.bed.gz\n",
      "\n",
      "Output fdiry:  /data/reddylab/Kuei/repo/Proj_ENCODE_FCC/results/assay_fcc/STARR_ATAC_K562_Reddy_KS274/coverage/fcc_astarr_macs/astarr_macs_input_overlap/overlap_count_unique\n",
      "Output fname:  ASTARRseq_K562_KS274.hg38.Output.rep3.WGS.unstranded.bed.gz\n",
      "\n",
      "Log file: region.coverage.overlap.count_unique.astarr_macs_input_overlap.ASTARRseq_K562_KS274.hg38.Output.rep3.WGS.unstranded.bed.gz.txt\n",
      "\n",
      "==============================\n",
      "Region folder: fcc_astarr_macs\n",
      "Region label:  astarr_macs_input_union\n",
      "Assay  name:   STARR_ATAC_K562_Reddy_KS274\n",
      "\n",
      "Input fdiry:  /data/reddylab/Kuei/repo/Proj_ENCODE_FCC/results/assay_fcc/STARR_ATAC_K562_Reddy_KS274/coverage/fcc_astarr_macs/astarr_macs_input_union/overlap_fragment_one2one\n",
      "Input fname:  ASTARRseq_K562_KS274.hg38.Output.rep1.WGS.unstranded.bed.gz\n",
      "\n",
      "Output fdiry:  /data/reddylab/Kuei/repo/Proj_ENCODE_FCC/results/assay_fcc/STARR_ATAC_K562_Reddy_KS274/coverage/fcc_astarr_macs/astarr_macs_input_union/overlap_count_unique\n",
      "Output fname:  ASTARRseq_K562_KS274.hg38.Output.rep1.WGS.unstranded.bed.gz\n",
      "\n",
      "Log file: region.coverage.overlap.count_unique.astarr_macs_input_union.ASTARRseq_K562_KS274.hg38.Output.rep1.WGS.unstranded.bed.gz.txt\n",
      "\n",
      "==============================\n",
      "Region folder: fcc_astarr_macs\n",
      "Region label:  astarr_macs_input_union\n",
      "Assay  name:   STARR_ATAC_K562_Reddy_KS274\n",
      "\n",
      "Input fdiry:  /data/reddylab/Kuei/repo/Proj_ENCODE_FCC/results/assay_fcc/STARR_ATAC_K562_Reddy_KS274/coverage/fcc_astarr_macs/astarr_macs_input_union/overlap_fragment_one2one\n",
      "Input fname:  ASTARRseq_K562_KS274.hg38.Output.rep2.WGS.unstranded.bed.gz\n",
      "\n",
      "Output fdiry:  /data/reddylab/Kuei/repo/Proj_ENCODE_FCC/results/assay_fcc/STARR_ATAC_K562_Reddy_KS274/coverage/fcc_astarr_macs/astarr_macs_input_union/overlap_count_unique\n",
      "Output fname:  ASTARRseq_K562_KS274.hg38.Output.rep2.WGS.unstranded.bed.gz\n",
      "\n",
      "Log file: region.coverage.overlap.count_unique.astarr_macs_input_union.ASTARRseq_K562_KS274.hg38.Output.rep2.WGS.unstranded.bed.gz.txt\n",
      "\n",
      "==============================\n",
      "Region folder: fcc_astarr_macs\n",
      "Region label:  astarr_macs_input_union\n",
      "Assay  name:   STARR_ATAC_K562_Reddy_KS274\n",
      "\n",
      "Input fdiry:  /data/reddylab/Kuei/repo/Proj_ENCODE_FCC/results/assay_fcc/STARR_ATAC_K562_Reddy_KS274/coverage/fcc_astarr_macs/astarr_macs_input_union/overlap_fragment_one2one\n",
      "Input fname:  ASTARRseq_K562_KS274.hg38.Output.rep3.WGS.unstranded.bed.gz\n",
      "\n",
      "Output fdiry:  /data/reddylab/Kuei/repo/Proj_ENCODE_FCC/results/assay_fcc/STARR_ATAC_K562_Reddy_KS274/coverage/fcc_astarr_macs/astarr_macs_input_union/overlap_count_unique\n",
      "Output fname:  ASTARRseq_K562_KS274.hg38.Output.rep3.WGS.unstranded.bed.gz\n",
      "\n",
      "Log file: region.coverage.overlap.count_unique.astarr_macs_input_union.ASTARRseq_K562_KS274.hg38.Output.rep3.WGS.unstranded.bed.gz.txt\n",
      "\n"
     ]
    }
   ],
   "source": [
    "### loop through each region set\n",
    "while read FOLDER_REG FNAME_REG LABEL_REG; do\n",
    "    \n",
    "    ### Set directory\n",
    "    FD_INP_A=${FD_RES}/region/${FOLDER_REG}\n",
    "    FN_INP_A=${FNAME_REG}\n",
    "    FP_INP_A=${FD_INP_A}/${FN_INP_A}\n",
    "    \n",
    "    ### loop through each assay\n",
    "    for ASSAY_NAME in ${ASSAY_NAMES[@]}; do\n",
    "\n",
    "        ### Set directory\n",
    "        FD_INP_B=${FD_RES}/${ASSAY_TYPE}/${ASSAY_NAME}/coverage/${FOLDER_REG}/${LABEL_REG}/overlap_fragment_one2one\n",
    "        FP_INPS=($(ls ${FD_INP_B}/*hg38*rep*bed.gz))\n",
    "\n",
    "        ### loop through each sample\n",
    "        for FP_INP_B in ${FP_INPS[@]}; do\n",
    "            ### setup input file\n",
    "            FD_INP_B=$(dirname  ${FP_INP_B})\n",
    "            FN_INP_B=$(basename ${FP_INP_B})\n",
    "            \n",
    "            ### setup output file\n",
    "            FD_OUT=$(dirname ${FD_INP_B})\n",
    "            FD_OUT=${FD_RES}/${ASSAY_TYPE}/${ASSAY_NAME}/coverage/${FOLDER_REG}/${LABEL_REG}/overlap_count_unique\n",
    "            FN_OUT=${FN_INP_B}\n",
    "            FP_OUT=${FD_OUT}/${FN_OUT}\n",
    "            \n",
    "            ### setup log file\n",
    "            FN_LOG=region.coverage.overlap.count_unique.${LABEL_REG}.${FN_OUT}.txt\n",
    "            FP_LOG=${FD_LOG}/${FN_LOG}\n",
    "            \n",
    "            ### show progress\n",
    "            echo ==============================\n",
    "            echo \"Region folder:\" ${FOLDER_REG}\n",
    "            echo \"Region label: \" ${LABEL_REG}\n",
    "            echo \"Assay  name:  \" ${ASSAY_NAME}\n",
    "            echo\n",
    "            echo \"Input fdiry: \" ${FD_INP_B}\n",
    "            echo \"Input fname: \" ${FN_INP_B}\n",
    "            echo\n",
    "            echo \"Output fdiry: \" ${FD_OUT}\n",
    "            echo \"Output fname: \" ${FN_OUT}\n",
    "            echo\n",
    "            echo \"Log file:\" ${FN_LOG}\n",
    "            echo\n",
    "        done\n",
    "    done\n",
    "    \n",
    "done < <(cat ${FP_REGION_LABEL} | awk 'NR >=2 {print}' | grep fcc_astarr_macs)"
   ]
  },
  {
   "cell_type": "markdown",
   "id": "ab463919-7827-4a1d-ba15-45cf237c59e5",
   "metadata": {},
   "source": [
    "## Execute"
   ]
  },
  {
   "cell_type": "markdown",
   "id": "844a282e-885e-4c26-8c10-e1c88c6411ea",
   "metadata": {},
   "source": [
    "**Run**"
   ]
  },
  {
   "cell_type": "code",
   "execution_count": 35,
   "id": "456571a5-66c5-4d5a-9562-4932cd12da3d",
   "metadata": {},
   "outputs": [
    {
     "name": "stdout",
     "output_type": "stream",
     "text": [
      "==============================\n",
      "Region folder: fcc_astarr_macs\n",
      "Region label:  astarr_macs_input_overlap\n",
      "Assay  name:   STARR_ATAC_K562_Reddy_KS274\n",
      "\n",
      "Input fdiry:  /data/reddylab/Kuei/repo/Proj_ENCODE_FCC/results/assay_fcc/STARR_ATAC_K562_Reddy_KS274/coverage/fcc_astarr_macs/astarr_macs_input_overlap/overlap_fragment_one2one\n",
      "Input fname:  ASTARRseq_K562_KS274.hg38.Output.rep1.WGS.unstranded.bed.gz\n",
      "\n",
      "Output fdiry:  /data/reddylab/Kuei/repo/Proj_ENCODE_FCC/results/assay_fcc/STARR_ATAC_K562_Reddy_KS274/coverage/fcc_astarr_macs/astarr_macs_input_overlap/overlap_count_unique\n",
      "Output fname:  ASTARRseq_K562_KS274.hg38.Output.rep1.WGS.unstranded.bed.gz\n",
      "\n",
      "Log file: region.coverage.overlap.count_unique.astarr_macs_input_overlap.ASTARRseq_K562_KS274.hg38.Output.rep1.WGS.unstranded.bed.gz.txt\n",
      "\n",
      "Submitted batch job 30760903\n",
      "==============================\n",
      "Region folder: fcc_astarr_macs\n",
      "Region label:  astarr_macs_input_overlap\n",
      "Assay  name:   STARR_ATAC_K562_Reddy_KS274\n",
      "\n",
      "Input fdiry:  /data/reddylab/Kuei/repo/Proj_ENCODE_FCC/results/assay_fcc/STARR_ATAC_K562_Reddy_KS274/coverage/fcc_astarr_macs/astarr_macs_input_overlap/overlap_fragment_one2one\n",
      "Input fname:  ASTARRseq_K562_KS274.hg38.Output.rep2.WGS.unstranded.bed.gz\n",
      "\n",
      "Output fdiry:  /data/reddylab/Kuei/repo/Proj_ENCODE_FCC/results/assay_fcc/STARR_ATAC_K562_Reddy_KS274/coverage/fcc_astarr_macs/astarr_macs_input_overlap/overlap_count_unique\n",
      "Output fname:  ASTARRseq_K562_KS274.hg38.Output.rep2.WGS.unstranded.bed.gz\n",
      "\n",
      "Log file: region.coverage.overlap.count_unique.astarr_macs_input_overlap.ASTARRseq_K562_KS274.hg38.Output.rep2.WGS.unstranded.bed.gz.txt\n",
      "\n",
      "Submitted batch job 30760904\n",
      "==============================\n",
      "Region folder: fcc_astarr_macs\n",
      "Region label:  astarr_macs_input_overlap\n",
      "Assay  name:   STARR_ATAC_K562_Reddy_KS274\n",
      "\n",
      "Input fdiry:  /data/reddylab/Kuei/repo/Proj_ENCODE_FCC/results/assay_fcc/STARR_ATAC_K562_Reddy_KS274/coverage/fcc_astarr_macs/astarr_macs_input_overlap/overlap_fragment_one2one\n",
      "Input fname:  ASTARRseq_K562_KS274.hg38.Output.rep3.WGS.unstranded.bed.gz\n",
      "\n",
      "Output fdiry:  /data/reddylab/Kuei/repo/Proj_ENCODE_FCC/results/assay_fcc/STARR_ATAC_K562_Reddy_KS274/coverage/fcc_astarr_macs/astarr_macs_input_overlap/overlap_count_unique\n",
      "Output fname:  ASTARRseq_K562_KS274.hg38.Output.rep3.WGS.unstranded.bed.gz\n",
      "\n",
      "Log file: region.coverage.overlap.count_unique.astarr_macs_input_overlap.ASTARRseq_K562_KS274.hg38.Output.rep3.WGS.unstranded.bed.gz.txt\n",
      "\n",
      "Submitted batch job 30760905\n",
      "==============================\n",
      "Region folder: fcc_astarr_macs\n",
      "Region label:  astarr_macs_input_union\n",
      "Assay  name:   STARR_ATAC_K562_Reddy_KS274\n",
      "\n",
      "Input fdiry:  /data/reddylab/Kuei/repo/Proj_ENCODE_FCC/results/assay_fcc/STARR_ATAC_K562_Reddy_KS274/coverage/fcc_astarr_macs/astarr_macs_input_union/overlap_fragment_one2one\n",
      "Input fname:  ASTARRseq_K562_KS274.hg38.Output.rep1.WGS.unstranded.bed.gz\n",
      "\n",
      "Output fdiry:  /data/reddylab/Kuei/repo/Proj_ENCODE_FCC/results/assay_fcc/STARR_ATAC_K562_Reddy_KS274/coverage/fcc_astarr_macs/astarr_macs_input_union/overlap_count_unique\n",
      "Output fname:  ASTARRseq_K562_KS274.hg38.Output.rep1.WGS.unstranded.bed.gz\n",
      "\n",
      "Log file: region.coverage.overlap.count_unique.astarr_macs_input_union.ASTARRseq_K562_KS274.hg38.Output.rep1.WGS.unstranded.bed.gz.txt\n",
      "\n",
      "Submitted batch job 30760906\n",
      "==============================\n",
      "Region folder: fcc_astarr_macs\n",
      "Region label:  astarr_macs_input_union\n",
      "Assay  name:   STARR_ATAC_K562_Reddy_KS274\n",
      "\n",
      "Input fdiry:  /data/reddylab/Kuei/repo/Proj_ENCODE_FCC/results/assay_fcc/STARR_ATAC_K562_Reddy_KS274/coverage/fcc_astarr_macs/astarr_macs_input_union/overlap_fragment_one2one\n",
      "Input fname:  ASTARRseq_K562_KS274.hg38.Output.rep2.WGS.unstranded.bed.gz\n",
      "\n",
      "Output fdiry:  /data/reddylab/Kuei/repo/Proj_ENCODE_FCC/results/assay_fcc/STARR_ATAC_K562_Reddy_KS274/coverage/fcc_astarr_macs/astarr_macs_input_union/overlap_count_unique\n",
      "Output fname:  ASTARRseq_K562_KS274.hg38.Output.rep2.WGS.unstranded.bed.gz\n",
      "\n",
      "Log file: region.coverage.overlap.count_unique.astarr_macs_input_union.ASTARRseq_K562_KS274.hg38.Output.rep2.WGS.unstranded.bed.gz.txt\n",
      "\n",
      "Submitted batch job 30760907\n",
      "==============================\n",
      "Region folder: fcc_astarr_macs\n",
      "Region label:  astarr_macs_input_union\n",
      "Assay  name:   STARR_ATAC_K562_Reddy_KS274\n",
      "\n",
      "Input fdiry:  /data/reddylab/Kuei/repo/Proj_ENCODE_FCC/results/assay_fcc/STARR_ATAC_K562_Reddy_KS274/coverage/fcc_astarr_macs/astarr_macs_input_union/overlap_fragment_one2one\n",
      "Input fname:  ASTARRseq_K562_KS274.hg38.Output.rep3.WGS.unstranded.bed.gz\n",
      "\n",
      "Output fdiry:  /data/reddylab/Kuei/repo/Proj_ENCODE_FCC/results/assay_fcc/STARR_ATAC_K562_Reddy_KS274/coverage/fcc_astarr_macs/astarr_macs_input_union/overlap_count_unique\n",
      "Output fname:  ASTARRseq_K562_KS274.hg38.Output.rep3.WGS.unstranded.bed.gz\n",
      "\n",
      "Log file: region.coverage.overlap.count_unique.astarr_macs_input_union.ASTARRseq_K562_KS274.hg38.Output.rep3.WGS.unstranded.bed.gz.txt\n",
      "\n",
      "Submitted batch job 30760908\n"
     ]
    }
   ],
   "source": [
    "### loop through each region set\n",
    "while read FOLDER_REG FNAME_REG LABEL_REG; do\n",
    "    \n",
    "    ### Set directory\n",
    "    FD_INP_A=${FD_RES}/region/${FOLDER_REG}\n",
    "    FN_INP_A=${FNAME_REG}\n",
    "    FP_INP_A=${FD_INP_A}/${FN_INP_A}\n",
    "    \n",
    "    ### loop through each assay\n",
    "    for ASSAY_NAME in ${ASSAY_NAMES[@]}; do\n",
    "\n",
    "        ### Set directory\n",
    "        FD_INP_B=${FD_RES}/${ASSAY_TYPE}/${ASSAY_NAME}/coverage/${FOLDER_REG}/${LABEL_REG}/overlap_fragment_one2one\n",
    "        FP_INPS=($(ls ${FD_INP_B}/*hg38*rep*bed.gz))\n",
    "\n",
    "        ### loop through each sample\n",
    "        for FP_INP_B in ${FP_INPS[@]}; do\n",
    "            ### setup input file\n",
    "            FD_INP_B=$(dirname  ${FP_INP_B})\n",
    "            FN_INP_B=$(basename ${FP_INP_B})\n",
    "            \n",
    "            ### setup output file\n",
    "            FD_OUT=$(dirname ${FD_INP_B})\n",
    "            FD_OUT=${FD_RES}/${ASSAY_TYPE}/${ASSAY_NAME}/coverage/${FOLDER_REG}/${LABEL_REG}/overlap_count_unique\n",
    "            FN_OUT=${FN_INP_B}\n",
    "            FP_OUT=${FD_OUT}/${FN_OUT}\n",
    "            \n",
    "            ### setup log file\n",
    "            FN_LOG=region.coverage.overlap.count_unique.${LABEL_REG}.${FN_OUT}.txt\n",
    "            FP_LOG=${FD_LOG}/${FN_LOG}\n",
    "            \n",
    "            ### show progress\n",
    "            echo ==============================\n",
    "            echo \"Region folder:\" ${FOLDER_REG}\n",
    "            echo \"Region label: \" ${LABEL_REG}\n",
    "            echo \"Assay  name:  \" ${ASSAY_NAME}\n",
    "            echo\n",
    "            echo \"Input fdiry: \" ${FD_INP_B}\n",
    "            echo \"Input fname: \" ${FN_INP_B}\n",
    "            echo\n",
    "            echo \"Output fdiry: \" ${FD_OUT}\n",
    "            echo \"Output fname: \" ${FN_OUT}\n",
    "            echo\n",
    "            echo \"Log file:\" ${FN_LOG}\n",
    "            echo\n",
    "            \n",
    "            ### execute\n",
    "            mkdir -p ${FD_OUT}\n",
    "            sbatch -p ${NODE} \\\n",
    "                --exclude=dl-01   \\\n",
    "                --cpus-per-task 4 \\\n",
    "                --mem 4G \\\n",
    "                --output ${FP_LOG} \\\n",
    "                --export FD_PRJ=${FD_PRJ},FP_INP=${FP_INP_B},FP_OUT=${FP_OUT} \\\n",
    "            <<'EOF'\n",
    "#!/bin/bash\n",
    "### set environment\n",
    "FD_EXE=${FD_PRJ}/scripts\n",
    "source ${FD_EXE}/config_func.sh\n",
    "\n",
    "### print start message\n",
    "timer_start=`date +%s`\n",
    "echo \"Hostname:          \" $(hostname)\n",
    "echo \"Slurm Array Index: \" ${SLURM_ARRAY_TASK_ID}\n",
    "echo \"Time Stamp:        \" $(date +\"%m-%d-%y+%T\")\n",
    "echo\n",
    "\n",
    "### show I/O file\n",
    "echo \"Input file: ${FP_INP}\"\n",
    "echo\n",
    "echo \"show lines of file\"\n",
    "fun_cat ${FP_INP} | head\n",
    "echo\n",
    "\n",
    "### execute\n",
    "###   count unique fragments for each region from one2one mapping\n",
    "zcat ${FP_INP} \\\n",
    "| cut -f 7,8,9 \\\n",
    "| sort -k 1,1 -k2,2n \\\n",
    "| uniq -c \\\n",
    "| awk '{$(NF+1)=$1;$1=\"\"}1'   \\\n",
    "| sed -e 's/^[[:space:]]*//'  \\\n",
    "| sed -e 's/[[:space:]]/\\t/g' \\\n",
    "| awk '{print $1\"\\t\"$2\"\\t\"$3\"\\t\"$4}' \\\n",
    "| gzip -c \\\n",
    "> ${FP_OUT}\n",
    "\n",
    "### show I/O file\n",
    "echo \"Output file: ${FP_OUT}\"\n",
    "echo\n",
    "echo \"show lines of file\"\n",
    "fun_cat ${FP_OUT} | head\n",
    "echo\n",
    "\n",
    "### print end message\n",
    "timer=`date +%s`\n",
    "runtime=$(echo \"${timer} - ${timer_start}\" | bc -l)\n",
    "echo\n",
    "echo 'Done!'\n",
    "echo \"Run Time: $(displaytime ${runtime})\"\n",
    "EOF\n",
    "        done\n",
    "    done\n",
    "done < <(cat ${FP_REGION_LABEL} | awk 'NR >=2 {print}' | grep fcc_astarr_macs)"
   ]
  },
  {
   "cell_type": "code",
   "execution_count": null,
   "id": "067ead67-b400-4f5c-9269-33e8490312f9",
   "metadata": {},
   "outputs": [],
   "source": []
  },
  {
   "cell_type": "code",
   "execution_count": 36,
   "id": "5ccdf11a-d305-4f64-b6ff-dc1f5dc752b1",
   "metadata": {},
   "outputs": [
    {
     "name": "stdout",
     "output_type": "stream",
     "text": [
      "Hostname:           x3-03-2.genome.duke.edu\n",
      "Slurm Array Index: \n",
      "Time Stamp:         04-12-24+14:42:46\n",
      "\n",
      "Input file: /data/reddylab/Kuei/repo/Proj_ENCODE_FCC/results/assay_fcc/STARR_ATAC_K562_Reddy_KS274/coverage/fcc_astarr_macs/astarr_macs_input_union/overlap_fragment_one2one/ASTARRseq_K562_KS274.hg38.Output.rep1.WGS.unstranded.bed.gz\n",
      "\n",
      "show lines of file\n",
      "chr1\t14145\t14485\tchr1:14145-14485\t2\t.\tchr1\t14253\t14645\t232\n",
      "chr1\t14243\t14498\tchr1:14243-14498\t1\t.\tchr1\t14253\t14645\t245\n",
      "chr1\t14454\t14729\tchr1:14454-14729\t1\t.\tchr1\t14253\t14645\t191\n",
      "chr1\t14522\t14725\tchr1:14522-14725\t1\t.\tchr1\t14253\t14645\t123\n",
      "chr1\t14599\t14850\tchr1:14599-14850\t1\t.\tchr1\t14253\t14645\t46\n",
      "chr1\t16048\t16176\tchr1:16048-16176\t1\t.\tchr1\t16015\t16477\t128\n",
      "chr1\t16048\t16175\tchr1:16048-16175\t1\t.\tchr1\t16015\t16477\t127\n",
      "chr1\t16068\t16310\tchr1:16068-16310\t1\t.\tchr1\t16015\t16477\t242\n",
      "chr1\t16174\t16300\tchr1:16174-16300\t2\t.\tchr1\t16015\t16477\t126\n",
      "chr1\t16175\t16300\tchr1:16175-16300\t1\t.\tchr1\t16015\t16477\t125\n",
      "\n",
      "Output file: /data/reddylab/Kuei/repo/Proj_ENCODE_FCC/results/assay_fcc/STARR_ATAC_K562_Reddy_KS274/coverage/fcc_astarr_macs/astarr_macs_input_union/overlap_count_unique/ASTARRseq_K562_KS274.hg38.Output.rep1.WGS.unstranded.bed.gz\n",
      "\n",
      "show lines of file\n",
      "chr1\t14253\t14645\t5\n",
      "chr1\t16015\t16477\t9\n",
      "chr1\t17237\t17772\t13\n",
      "chr1\t28903\t29613\t2\n",
      "chr1\t30803\t31072\t3\n",
      "chr1\t101603\t101849\t8\n",
      "chr1\t115411\t115986\t171\n",
      "chr1\t118518\t118743\t13\n",
      "chr1\t136071\t137429\t99\n",
      "chr1\t137737\t139544\t44\n",
      "\n",
      "\n",
      "Done!\n",
      "Run Time: 3 minutes and 44 seconds\n"
     ]
    }
   ],
   "source": [
    "cat ${FD_LOG}/region.coverage.overlap.count_unique.astarr_macs_input_union.ASTARRseq_K562_KS274.hg38.Output.rep1.WGS.unstranded.bed.gz.txt"
   ]
  },
  {
   "cell_type": "code",
   "execution_count": 37,
   "id": "6a633792-d9a2-404c-9ee0-fe55c90ad606",
   "metadata": {},
   "outputs": [
    {
     "name": "stdout",
     "output_type": "stream",
     "text": [
      "Hostname:           x2-03-3.genome.duke.edu\n",
      "Slurm Array Index: \n",
      "Time Stamp:         04-12-24+14:42:46\n",
      "\n",
      "Input file: /data/reddylab/Kuei/repo/Proj_ENCODE_FCC/results/assay_fcc/STARR_ATAC_K562_Reddy_KS274/coverage/fcc_astarr_macs/astarr_macs_input_overlap/overlap_fragment_one2one/ASTARRseq_K562_KS274.hg38.Output.rep3.WGS.unstranded.bed.gz\n",
      "\n",
      "show lines of file\n",
      "chr1\t14091\t14513\tchr1:14091-14513\t1\t.\tchr1\t14282\t14614\t231\n",
      "chr1\t14129\t14468\tchr1:14129-14468\t1\t.\tchr1\t14282\t14614\t186\n",
      "chr1\t14191\t14755\tchr1:14191-14755\t1\t.\tchr1\t14282\t14614\t332\n",
      "chr1\t14231\t14498\tchr1:14231-14498\t1\t.\tchr1\t14282\t14614\t216\n",
      "chr1\t14449\t14971\tchr1:14449-14971\t1\t.\tchr1\t14282\t14614\t165\n",
      "chr1\t14452\t14620\tchr1:14452-14620\t1\t.\tchr1\t14282\t14614\t162\n",
      "chr1\t14522\t14711\tchr1:14522-14711\t2\t.\tchr1\t14282\t14614\t92\n",
      "chr1\t14527\t14750\tchr1:14527-14750\t1\t.\tchr1\t14282\t14614\t87\n",
      "chr1\t16017\t16305\tchr1:16017-16305\t1\t.\tchr1\t16025\t16338\t280\n",
      "chr1\t16024\t16221\tchr1:16024-16221\t1\t.\tchr1\t16025\t16338\t196\n",
      "\n",
      "Output file: /data/reddylab/Kuei/repo/Proj_ENCODE_FCC/results/assay_fcc/STARR_ATAC_K562_Reddy_KS274/coverage/fcc_astarr_macs/astarr_macs_input_overlap/overlap_count_unique/ASTARRseq_K562_KS274.hg38.Output.rep3.WGS.unstranded.bed.gz\n",
      "\n",
      "show lines of file\n",
      "chr1\t14282\t14614\t8\n",
      "chr1\t16025\t16338\t6\n",
      "chr1\t17288\t17689\t13\n",
      "chr1\t28934\t29499\t4\n",
      "chr1\t115429\t115969\t171\n",
      "chr1\t136201\t137353\t101\n",
      "chr1\t137748\t138049\t5\n",
      "chr1\t138321\t139517\t49\n",
      "chr1\t181005\t181854\t12\n",
      "chr1\t183249\t183860\t12\n",
      "\n",
      "\n",
      "Done!\n",
      "Run Time: 4 minutes and 33 seconds\n"
     ]
    }
   ],
   "source": [
    "cat ${FD_LOG}/region.coverage.overlap.count_unique.astarr_macs_input_overlap.ASTARRseq_K562_KS274.hg38.Output.rep3.WGS.unstranded.bed.gz.txt"
   ]
  },
  {
   "cell_type": "code",
   "execution_count": null,
   "id": "09f918bf-4ca3-4f9f-a6bc-d04ca954738f",
   "metadata": {},
   "outputs": [],
   "source": []
  },
  {
   "cell_type": "code",
   "execution_count": null,
   "id": "f210088f-8651-476f-a6a5-678c59cfa7d6",
   "metadata": {},
   "outputs": [],
   "source": []
  },
  {
   "cell_type": "code",
   "execution_count": null,
   "id": "d4c4d91c-2821-467c-be3e-f37fc75cdfb2",
   "metadata": {},
   "outputs": [],
   "source": []
  },
  {
   "cell_type": "code",
   "execution_count": 21,
   "id": "23a93e4b-e85e-4ed4-806e-c2d5b200278f",
   "metadata": {},
   "outputs": [
    {
     "name": "stdout",
     "output_type": "stream",
     "text": [
      "\u001b[0m\u001b[38;5;27mcoverage\u001b[0m       \u001b[38;5;27moverlap_fragment\u001b[0m          \u001b[38;5;27moverlap_fragment_unique\u001b[0m\n",
      "\u001b[38;5;27moverlap_count\u001b[0m  \u001b[38;5;27moverlap_fragment_one2one\u001b[0m\n"
     ]
    }
   ],
   "source": [
    "ls /data/reddylab/Kuei/repo/Proj_ENCODE_FCC/results/assay_fcc/STARR_ATAC_K562_Reddy_KS274/coverage/fcc_astarr_macs/astarr_macs_input_union"
   ]
  },
  {
   "cell_type": "code",
   "execution_count": 24,
   "id": "22ced5a1-4257-462f-87db-85f52c268397",
   "metadata": {},
   "outputs": [
    {
     "name": "stdout",
     "output_type": "stream",
     "text": [
      "chr1\t14145\t14485\tchr1:14145-14485\t2\t.\tchr1\t14253\t14645\t232\n",
      "chr1\t14243\t14498\tchr1:14243-14498\t1\t.\tchr1\t14253\t14645\t245\n",
      "chr1\t14454\t14729\tchr1:14454-14729\t1\t.\tchr1\t14253\t14645\t191\n",
      "chr1\t14522\t14725\tchr1:14522-14725\t1\t.\tchr1\t14253\t14645\t123\n",
      "chr1\t14599\t14850\tchr1:14599-14850\t1\t.\tchr1\t14253\t14645\t46\n",
      "chr1\t16048\t16176\tchr1:16048-16176\t1\t.\tchr1\t16015\t16477\t128\n",
      "chr1\t16048\t16175\tchr1:16048-16175\t1\t.\tchr1\t16015\t16477\t127\n",
      "chr1\t16068\t16310\tchr1:16068-16310\t1\t.\tchr1\t16015\t16477\t242\n",
      "chr1\t16174\t16300\tchr1:16174-16300\t2\t.\tchr1\t16015\t16477\t126\n",
      "chr1\t16175\t16300\tchr1:16175-16300\t1\t.\tchr1\t16015\t16477\t125\n",
      "16706087\n"
     ]
    }
   ],
   "source": [
    "FD_INP=/data/reddylab/Kuei/repo/Proj_ENCODE_FCC/results/assay_fcc/STARR_ATAC_K562_Reddy_KS274/coverage/fcc_astarr_macs/astarr_macs_input_union/overlap_fragment_one2one\n",
    "FN_INP=ASTARRseq_K562_KS274.hg38.Output.rep1.WGS.unstranded.bed.gz\n",
    "FP_INP=${FD_INP}/${FN_INP}\n",
    "zcat ${FP_INP} | head\n",
    "zcat ${FP_INP} | wc -l"
   ]
  },
  {
   "cell_type": "code",
   "execution_count": 25,
   "id": "9fe34a18-2fd8-44e4-ba71-664082e50fb3",
   "metadata": {},
   "outputs": [
    {
     "name": "stdout",
     "output_type": "stream",
     "text": [
      "chr1\t14145\t14485\tchr1:14145-14485\t2\t.\n",
      "chr1\t14243\t14498\tchr1:14243-14498\t1\t.\n",
      "chr1\t14454\t14729\tchr1:14454-14729\t1\t.\n",
      "chr1\t14522\t14725\tchr1:14522-14725\t1\t.\n",
      "chr1\t14599\t14850\tchr1:14599-14850\t1\t.\n",
      "chr1\t16048\t16175\tchr1:16048-16175\t1\t.\n",
      "chr1\t16048\t16176\tchr1:16048-16176\t1\t.\n",
      "chr1\t16068\t16310\tchr1:16068-16310\t1\t.\n",
      "chr1\t16174\t16300\tchr1:16174-16300\t2\t.\n",
      "chr1\t16175\t16300\tchr1:16175-16300\t1\t.\n",
      "16704696\n"
     ]
    }
   ],
   "source": [
    "FD_INP=/data/reddylab/Kuei/repo/Proj_ENCODE_FCC/results/assay_fcc/STARR_ATAC_K562_Reddy_KS274/coverage/fcc_astarr_macs/astarr_macs_input_union/overlap_fragment_unique\n",
    "FN_INP=ASTARRseq_K562_KS274.hg38.Output.rep1.WGS.unstranded.bed.gz\n",
    "FP_INP=${FD_INP}/${FN_INP}\n",
    "zcat ${FP_INP} | head\n",
    "zcat ${FP_INP} | wc -l"
   ]
  },
  {
   "cell_type": "code",
   "execution_count": null,
   "id": "de9ed291-15ba-43d6-b724-45d7c6083282",
   "metadata": {},
   "outputs": [],
   "source": [
    "16706087\n",
    "16704696"
   ]
  },
  {
   "cell_type": "code",
   "execution_count": 34,
   "id": "19f50d6f-1407-41f7-a4d6-b54f73d07214",
   "metadata": {},
   "outputs": [
    {
     "name": "stdout",
     "output_type": "stream",
     "text": [
      "chr1\t14253\t14645\t5\n",
      "chr1\t16015\t16477\t5\n"
     ]
    }
   ],
   "source": [
    "FD_INP=/data/reddylab/Kuei/repo/Proj_ENCODE_FCC/results/assay_fcc/STARR_ATAC_K562_Reddy_KS274/coverage/fcc_astarr_macs/astarr_macs_input_union/overlap_fragment_one2one\n",
    "FN_INP=ASTARRseq_K562_KS274.hg38.Output.rep1.WGS.unstranded.bed.gz\n",
    "FP_INP=${FD_INP}/${FN_INP}\n",
    "\n",
    "zcat ${FP_INP} | head \\\n",
    "| cut -f 7,8,9 \\\n",
    "| sort -k 1,1 -k2,2n \\\n",
    "| uniq -c \\\n",
    "| awk '{$(NF+1)=$1;$1=\"\"}1'   \\\n",
    "| sed -e 's/^[[:space:]]*//'  \\\n",
    "| sed -e 's/[[:space:]]/\\t/g' \\\n",
    "| awk '{print $1\"\\t\"$2\"\\t\"$3\"\\t\"$4}'"
   ]
  },
  {
   "cell_type": "code",
   "execution_count": 49,
   "id": "c98df70b-6676-4347-b24e-37a7511fc8aa",
   "metadata": {},
   "outputs": [
    {
     "name": "stdout",
     "output_type": "stream",
     "text": [
      "chr1\t14145\t14485\tchr1:14145-14485\t2\t.\n",
      "chr1\t14243\t14498\tchr1:14243-14498\t1\t.\n",
      "chr1\t14454\t14729\tchr1:14454-14729\t1\t.\n",
      "chr1\t14522\t14725\tchr1:14522-14725\t1\t.\n",
      "chr1\t14599\t14850\tchr1:14599-14850\t1\t.\n",
      "chr1\t16048\t16175\tchr1:16048-16175\t1\t.\n",
      "chr1\t16048\t16176\tchr1:16048-16176\t1\t.\n",
      "chr1\t16068\t16310\tchr1:16068-16310\t1\t.\n",
      "chr1\t16174\t16300\tchr1:16174-16300\t2\t.\n",
      "chr1\t16175\t16300\tchr1:16175-16300\t1\t.\n",
      "16704696\n"
     ]
    }
   ],
   "source": [
    "FD_INP=/data/reddylab/Kuei/repo/Proj_ENCODE_FCC/results/assay_fcc/STARR_ATAC_K562_Reddy_KS274/coverage/fcc_astarr_macs/astarr_macs_input_union/overlap_fragment_one2one\n",
    "FN_INP=ASTARRseq_K562_KS274.hg38.Output.rep1.WGS.unstranded.bed.gz\n",
    "FP_INP=${FD_INP}/${FN_INP}\n",
    "\n",
    "FD_OUT=/data/reddylab/Kuei/repo/Proj_ENCODE_FCC/results/assay_fcc/STARR_ATAC_K562_Reddy_KS274/coverage/fcc_astarr_macs/astarr_macs_input_union/overlap_fragment_one2one/summary\n",
    "FN_OUT=test.bed.gz\n",
    "FP_OUT=${FD_OUT}/${FN_OUT}\n",
    "\n",
    "mkdir -p ${FD_OUT}\n",
    "zcat ${FP_INP} \\\n",
    "| cut -f 1-6 \\\n",
    "| sort -k 1,1 -k2,2n \\\n",
    "| uniq \\\n",
    "| gzip -c \\\n",
    "> ${FP_OUT}\n",
    "\n",
    "zcat ${FP_OUT} | head\n",
    "zcat ${FP_OUT} | wc -l"
   ]
  },
  {
   "cell_type": "code",
   "execution_count": 52,
   "id": "fde39c9a-5b72-4dbb-99d1-5f6eb52874e0",
   "metadata": {},
   "outputs": [
    {
     "name": "stdout",
     "output_type": "stream",
     "text": [
      "chr1\t14145\t14485\tchr1:14145-14485\t2\t.\t1\n",
      "chr1\t14243\t14498\tchr1:14243-14498\t1\t.\t1\n",
      "chr1\t14454\t14729\tchr1:14454-14729\t1\t.\t1\n",
      "chr1\t14522\t14725\tchr1:14522-14725\t1\t.\t1\n",
      "chr1\t14599\t14850\tchr1:14599-14850\t1\t.\t1\n",
      "chr1\t16048\t16175\tchr1:16048-16175\t1\t.\t1\n",
      "chr1\t16048\t16176\tchr1:16048-16176\t1\t.\t1\n",
      "chr1\t16068\t16310\tchr1:16068-16310\t1\t.\t1\n",
      "chr1\t16174\t16300\tchr1:16174-16300\t2\t.\t1\n",
      "chr1\t16175\t16300\tchr1:16175-16300\t1\t.\t1\n",
      "16704696\n"
     ]
    }
   ],
   "source": [
    "FD_INP=/data/reddylab/Kuei/repo/Proj_ENCODE_FCC/results/assay_fcc/STARR_ATAC_K562_Reddy_KS274/coverage/fcc_astarr_macs/astarr_macs_input_union/overlap_fragment_one2one\n",
    "FN_INP=ASTARRseq_K562_KS274.hg38.Output.rep1.WGS.unstranded.bed.gz\n",
    "FP_INP=${FD_INP}/${FN_INP}\n",
    "\n",
    "FD_OUT=/data/reddylab/Kuei/repo/Proj_ENCODE_FCC/results/assay_fcc/STARR_ATAC_K562_Reddy_KS274/coverage/fcc_astarr_macs/astarr_macs_input_union/overlap_fragment_one2one/summary\n",
    "FN_OUT=test.bed.gz\n",
    "FP_OUT=${FD_OUT}/${FN_OUT}\n",
    "\n",
    "mkdir -p ${FD_OUT}\n",
    "zcat ${FP_INP} \\\n",
    "| cut -f 1-6 \\\n",
    "| sort -k 1,1 -k2,2n \\\n",
    "| uniq -c \\\n",
    "| awk '{$(NF+1)=$1;$1=\"\"}1'   \\\n",
    "| sed -e 's/^[[:space:]]*//'  \\\n",
    "| sed -e 's/[[:space:]]/\\t/g' \\\n",
    "| gzip -c \\\n",
    "> ${FP_OUT}\n",
    "\n",
    "zcat ${FP_OUT} | head\n",
    "zcat ${FP_OUT} | wc -l"
   ]
  },
  {
   "cell_type": "code",
   "execution_count": 48,
   "id": "bd3fab69-1e28-4bea-95e5-5d044ea3f39c",
   "metadata": {},
   "outputs": [
    {
     "name": "stdout",
     "output_type": "stream",
     "text": [
      "chrX\t156025266\t156025699\tchrX:156025266-156025699\t2\t.\tchrX\t156024950\t156025593\n",
      "chrX\t156025266\t156025567\tchrX:156025266-156025567\t2\t.\tchrX\t156024950\t156025593\n",
      "chrX\t156025266\t156025554\tchrX:156025266-156025554\t1\t.\tchrX\t156024950\t156025593\n",
      "chrX\t156025266\t156025491\tchrX:156025266-156025491\t2\t.\tchrX\t156024950\t156025593\n",
      "chrX\t156025284\t156025547\tchrX:156025284-156025547\t1\t.\tchrX\t156024950\t156025593\n",
      "chrX\t156025332\t156025533\tchrX:156025332-156025533\t2\t.\tchrX\t156024950\t156025593\n",
      "chrX\t156025333\t156025501\tchrX:156025333-156025501\t2\t.\tchrX\t156024950\t156025593\n",
      "chrX\t156025333\t156025500\tchrX:156025333-156025500\t1\t.\tchrX\t156024950\t156025593\n",
      "chrX\t156025334\t156025539\tchrX:156025334-156025539\t1\t.\tchrX\t156024950\t156025593\n",
      "chrX\t156025390\t156025593\tchrX:156025390-156025593\t1\t.\tchrX\t156024950\t156025593\n"
     ]
    }
   ],
   "source": [
    "FD_INP=/data/reddylab/Kuei/repo/Proj_ENCODE_FCC/results/assay_fcc/STARR_ATAC_K562_Reddy_KS274/coverage/fcc_astarr_macs/astarr_macs_input_union/overlap_fragment_one2one\n",
    "FN_INP=ASTARRseq_K562_KS274.hg38.Output.rep1.WGS.unstranded.bed.gz\n",
    "FP_INP=${FD_INP}/${FN_INP}\n",
    "\n",
    "zcat ${FP_INP} | cut -f 1-9 | tail"
   ]
  },
  {
   "cell_type": "code",
   "execution_count": 46,
   "id": "27a98a95-735a-4099-93bc-afca007c3e55",
   "metadata": {},
   "outputs": [
    {
     "name": "stdout",
     "output_type": "stream",
     "text": [
      "chrX\t156025266\t156025491\tchrX:156025266-156025491\t2\t.\n",
      "chrX\t156025266\t156025554\tchrX:156025266-156025554\t1\t.\n",
      "chrX\t156025266\t156025567\tchrX:156025266-156025567\t2\t.\n",
      "chrX\t156025266\t156025699\tchrX:156025266-156025699\t2\t.\n",
      "chrX\t156025284\t156025547\tchrX:156025284-156025547\t1\t.\n",
      "chrX\t156025332\t156025533\tchrX:156025332-156025533\t2\t.\n",
      "chrX\t156025333\t156025500\tchrX:156025333-156025500\t1\t.\n",
      "chrX\t156025333\t156025501\tchrX:156025333-156025501\t2\t.\n",
      "chrX\t156025334\t156025539\tchrX:156025334-156025539\t1\t.\n",
      "chrX\t156025390\t156025593\tchrX:156025390-156025593\t1\t.\n"
     ]
    }
   ],
   "source": [
    "FD_INP=/data/reddylab/Kuei/repo/Proj_ENCODE_FCC/results/assay_fcc/STARR_ATAC_K562_Reddy_KS274/coverage/fcc_astarr_macs/astarr_macs_input_union/overlap_fragment_unique\n",
    "FN_INP=ASTARRseq_K562_KS274.hg38.Output.rep1.WGS.unstranded.bed.gz\n",
    "FP_INP=${FD_INP}/${FN_INP}\n",
    "\n",
    "zcat ${FP_INP} | tail"
   ]
  },
  {
   "cell_type": "code",
   "execution_count": null,
   "id": "c69ad021-bdba-42f6-bf2a-5a09a9ee8336",
   "metadata": {},
   "outputs": [],
   "source": []
  }
 ],
 "metadata": {
  "kernelspec": {
   "display_name": "Bash",
   "language": "bash",
   "name": "bash"
  },
  "language_info": {
   "codemirror_mode": "shell",
   "file_extension": ".sh",
   "mimetype": "text/x-sh",
   "name": "bash"
  }
 },
 "nbformat": 4,
 "nbformat_minor": 5
}
