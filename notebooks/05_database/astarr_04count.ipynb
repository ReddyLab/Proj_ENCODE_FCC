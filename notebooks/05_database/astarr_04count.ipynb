{
 "cells": [
  {
   "cell_type": "markdown",
   "id": "7481f648-4e5b-4fdb-8929-ed7981f351cc",
   "metadata": {},
   "source": [
    "**Set environment**"
   ]
  },
  {
   "cell_type": "code",
   "execution_count": 1,
   "id": "a911c26b-05d6-429a-9daa-1d0a396b093c",
   "metadata": {},
   "outputs": [
    {
     "name": "stdout",
     "output_type": "stream",
     "text": [
      "You are on Duke Server: HARDAC\n",
      "BASE DIRECTORY:     /gpfs/fs1/data/reddylab/Kuei\n",
      "PATH OF SOURCE:     /gpfs/fs1/data/reddylab/Kuei/source\n",
      "PATH OF EXECUTABLE: /gpfs/fs1/data/reddylab/Kuei/exe\n",
      "PATH OF ANNOTATION: /gpfs/fs1/data/reddylab/Kuei/annotation\n",
      "PATH OF PROJECT:    /gpfs/fs1/data/reddylab/Kuei/GitRepo/Proj_ENCODE_FCC/notebooks\n",
      "PATH OF RESULTS:    /gpfs/fs1/data/reddylab/Kuei/out/proj_encode_fcc\n",
      "\n"
     ]
    }
   ],
   "source": [
    "source ../config_duke.sh -v"
   ]
  },
  {
   "cell_type": "markdown",
   "id": "b1dbde94-197c-45ce-842d-8131d3678393",
   "metadata": {},
   "source": [
    "## RUN"
   ]
  },
  {
   "cell_type": "code",
   "execution_count": 10,
   "id": "7366be13-856d-4d67-9e90-af4d851d3518",
   "metadata": {},
   "outputs": [
    {
     "name": "stdout",
     "output_type": "stream",
     "text": [
      "Submitted batch job 27849223\n"
     ]
    }
   ],
   "source": [
    "sbatch -p ${NODE} \\\n",
    "    --mem 10G \\\n",
    "    -o ${FD_LOG}/ASTARR_database_gata1_count.txt \\\n",
    "    <<'EOF'\n",
    "#!/bin/bash\n",
    "### set directories & global variables\n",
    "source ../config_duke.sh\n",
    "\n",
    "### print start message\n",
    "timer_start=`date +%s`\n",
    "echo \"Slurm Array Index: \" ${SLURM_ARRAY_TASK_ID}\n",
    "echo \"Time Stamp:        \" $(date +\"%m-%d-%y+%T\")\n",
    "echo\n",
    "\n",
    "### execution\n",
    "${FD_PRJ}/sing_proj_encode_fcc.sh python astarr_gata1_table_count.py\n",
    "\n",
    "### print end message\n",
    "timer=`date +%s`\n",
    "runtime=$(echo \"${timer} - ${timer_start}\" | bc -l)\n",
    "echo\n",
    "echo 'Done!'\n",
    "echo \"Run Time: $(displaytime ${runtime})\"\n",
    "\n",
    "EOF"
   ]
  },
  {
   "cell_type": "markdown",
   "id": "b3542a0e-55f0-4d25-8ef2-3efefce0bf5d",
   "metadata": {},
   "source": [
    "## Check"
   ]
  },
  {
   "cell_type": "code",
   "execution_count": 12,
   "id": "a038af73-fba7-4a01-a7fd-dee873f3059d",
   "metadata": {},
   "outputs": [
    {
     "name": "stdout",
     "output_type": "stream",
     "text": [
      "Slurm Array Index: \n",
      "Time Stamp:         03-24-22+21:55:51\n",
      "\n",
      "You are on Duke Server: Singularity: Proj ENCODE FCC\n",
      "BASE DIRECTORY:     /mount/work\n",
      "PATH OF SOURCE:     /mount/work/source\n",
      "PATH OF EXECUTABLE: /mount/work/exe\n",
      "PATH OF ANNOTATION: /mount/work/annotation\n",
      "PATH OF PROJECT:    /mount/project\n",
      "PATH OF RESULTS:    /mount/work/out/proj_encode_fcc\n",
      "\n",
      "Global variables:\n",
      "Database:        /mount/work/out/proj_encode_fcc/KS91_K562_ASTARRseq/database/fragment_astarr_gata1.db\n",
      "Table directory: /mount/work/out/proj_encode_fcc/KS91_K562_ASTARRseq/count\n",
      "\n",
      "/mount/work/out/proj_encode_fcc/KS91_K562_ASTARRseq/count/KS91_K562_hg38_ASTARRseq_Input_rep1.GATA1.unstranded.dedups.bed\n",
      "# Fragments: 358823\n",
      "/mount/work/out/proj_encode_fcc/KS91_K562_ASTARRseq/count/KS91_K562_hg38_ASTARRseq_Input_rep2.GATA1.unstranded.dedups.bed\n",
      "# Fragments: 461577\n",
      "/mount/work/out/proj_encode_fcc/KS91_K562_ASTARRseq/count/KS91_K562_hg38_ASTARRseq_Input_rep3.GATA1.unstranded.dedups.bed\n",
      "# Fragments: 496229\n",
      "/mount/work/out/proj_encode_fcc/KS91_K562_ASTARRseq/count/KS91_K562_hg38_ASTARRseq_Input_rep4.GATA1.unstranded.dedups.bed\n",
      "# Fragments: 464845\n",
      "/mount/work/out/proj_encode_fcc/KS91_K562_ASTARRseq/count/KS91_K562_hg38_ASTARRseq_Input_rep5.GATA1.unstranded.dedups.bed\n",
      "# Fragments: 454013\n",
      "/mount/work/out/proj_encode_fcc/KS91_K562_ASTARRseq/count/KS91_K562_hg38_ASTARRseq_Output_rep1.GATA1.unstranded.bed\n",
      "# Fragments: 42858\n",
      "/mount/work/out/proj_encode_fcc/KS91_K562_ASTARRseq/count/KS91_K562_hg38_ASTARRseq_Output_rep2.GATA1.unstranded.bed\n",
      "# Fragments: 70548\n",
      "/mount/work/out/proj_encode_fcc/KS91_K562_ASTARRseq/count/KS91_K562_hg38_ASTARRseq_Output_rep3.GATA1.unstranded.bed\n",
      "# Fragments: 76087\n",
      "/mount/work/out/proj_encode_fcc/KS91_K562_ASTARRseq/count/KS91_K562_hg38_ASTARRseq_Output_rep4.GATA1.unstranded.bed\n",
      "# Fragments: 132149\n",
      "\n",
      "# Fragments (Total): 2557129\n",
      "Create index...\n",
      "Done!\n",
      "\n",
      "#Rows Table: [(2557129,)]\n",
      "\n",
      "Done!\n",
      "Run Time: 50 seconds\n"
     ]
    }
   ],
   "source": [
    "cat ${FD_LOG}/ASTARR_database_gata1_count.txt"
   ]
  },
  {
   "cell_type": "code",
   "execution_count": null,
   "id": "f380c673-37b3-4179-9151-56bed72b7edd",
   "metadata": {},
   "outputs": [],
   "source": []
  }
 ],
 "metadata": {
  "kernelspec": {
   "display_name": "Bash",
   "language": "bash",
   "name": "bash"
  },
  "language_info": {
   "codemirror_mode": "shell",
   "file_extension": ".sh",
   "mimetype": "text/x-sh",
   "name": "bash"
  }
 },
 "nbformat": 4,
 "nbformat_minor": 5
}
