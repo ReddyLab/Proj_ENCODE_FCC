{
 "cells": [
  {
   "cell_type": "markdown",
   "id": "7c21f5ef-97b3-4d14-835f-821dfc77a367",
   "metadata": {},
   "source": [
    "**Set environment**"
   ]
  },
  {
   "cell_type": "code",
   "execution_count": 3,
   "id": "b09a0039-49f6-4e53-ad9c-63c26306f8d2",
   "metadata": {},
   "outputs": [
    {
     "name": "stdout",
     "output_type": "stream",
     "text": [
      "You are on Duke Server: HARDAC\n",
      "BASE DIRECTORY:     /gpfs/fs1/data/reddylab/Kuei\n",
      "PATH OF SOURCE:     /gpfs/fs1/data/reddylab/Kuei/source\n",
      "PATH OF EXECUTABLE: /gpfs/fs1/data/reddylab/Kuei/exe\n",
      "PATH OF ANNOTATION: /gpfs/fs1/data/reddylab/Kuei/annotation\n",
      "PATH OF PROJECT:    /gpfs/fs1/data/reddylab/Kuei/GitRepo/Proj_ENCODE_FCC/notebooks\n",
      "PATH OF RESULTS:    /gpfs/fs1/data/reddylab/Kuei/out/proj_encode_fcc\n",
      "\n"
     ]
    }
   ],
   "source": [
    "source ../config_duke.sh -v"
   ]
  },
  {
   "cell_type": "code",
   "execution_count": 5,
   "id": "cdfa455c-5eaf-4988-9c27-5b3a287bee1a",
   "metadata": {},
   "outputs": [
    {
     "name": "stdout",
     "output_type": "stream",
     "text": [
      "\u001b[0m\u001b[38;5;9mTile_K562_20210130.GATA1.unstranded.bed.gz\u001b[0m\n"
     ]
    }
   ],
   "source": [
    "ls ${FD_RES}/Tewhey_K562_TileMPRA/fragment_nuc"
   ]
  },
  {
   "cell_type": "code",
   "execution_count": 6,
   "id": "17c1ffe6-6c4c-4d17-8f17-d84272418674",
   "metadata": {},
   "outputs": [
    {
     "name": "stdout",
     "output_type": "stream",
     "text": [
      "#1_usercol\t2_usercol\t3_usercol\t4_usercol\t5_pct_at\t6_pct_gc\t7_num_A\t8_num_C\t9_num_G\t10_num_T\t11_num_N\t12_num_oth\t13_seq_len\n",
      "chrX\t47786401\t47786600\tX:47786401-47786600\t0.668342\t0.331658\t33\t27\t39\t100\t0\t0\t199\n",
      "chrX\t47786451\t47786650\tX:47786451-47786650\t0.658291\t0.341709\t36\t30\t38\t95\t0\t0\t199\n",
      "chrX\t47786501\t47786700\tX:47786501-47786700\t0.673367\t0.326633\t34\t35\t30\t100\t0\t0\t199\n",
      "chrX\t47786551\t47786750\tX:47786551-47786750\t0.663317\t0.336683\t29\t38\t29\t103\t0\t0\t199\n",
      "chrX\t47786601\t47786800\tX:47786601-47786800\t0.653266\t0.346734\t30\t35\t34\t100\t0\t0\t199\n",
      "chrX\t47786651\t47786850\tX:47786651-47786850\t0.633166\t0.366834\t27\t38\t35\t99\t0\t0\t199\n",
      "chrX\t47786701\t47786900\tX:47786701-47786900\t0.613065\t0.386935\t32\t36\t41\t90\t0\t0\t199\n",
      "chrX\t47786751\t47786950\tX:47786751-47786950\t0.603015\t0.396985\t38\t39\t40\t82\t0\t0\t199\n",
      "chrX\t47786801\t47787000\tX:47786801-47787000\t0.597990\t0.402010\t39\t38\t42\t80\t0\t0\t199\n",
      "\n",
      "gzip: stdout: Broken pipe\n"
     ]
    }
   ],
   "source": [
    "zcat ${FD_RES}/Tewhey_K562_TileMPRA/fragment_nuc/Tile_K562_20210130.GATA1.unstranded.bed.gz | head"
   ]
  },
  {
   "cell_type": "markdown",
   "id": "bb9e1be7-e76e-41da-8a29-a6cf5f2c286f",
   "metadata": {},
   "source": [
    "## RUN"
   ]
  },
  {
   "cell_type": "code",
   "execution_count": 17,
   "id": "4a7a2cad-ea98-4066-8410-9412830488ca",
   "metadata": {},
   "outputs": [
    {
     "name": "stdout",
     "output_type": "stream",
     "text": [
      "Submitted batch job 27859498\n"
     ]
    }
   ],
   "source": [
    "sbatch -p ${NODE} \\\n",
    "    --mem 8G \\\n",
    "    -o ${FD_LOG}/TileMPRA_database_gata1_fragment.txt \\\n",
    "    <<'EOF'\n",
    "#!/bin/bash\n",
    "### set directories & global variables\n",
    "source ../config_duke.sh\n",
    "\n",
    "### print start message\n",
    "timer_start=`date +%s`\n",
    "echo \"Slurm Array Index: \" ${SLURM_ARRAY_TASK_ID}\n",
    "echo \"Time Stamp:        \" $(date +\"%m-%d-%y+%T\")\n",
    "echo\n",
    "\n",
    "### execution\n",
    "${FD_PRJ}/sing_proj_encode_fcc.sh python tilempra_gata1_table_fragment.py\n",
    "\n",
    "### print end message\n",
    "timer=`date +%s`\n",
    "runtime=$(echo \"${timer} - ${timer_start}\" | bc -l)\n",
    "echo\n",
    "echo 'Done!'\n",
    "echo \"Run Time: $(displaytime ${runtime})\"\n",
    "\n",
    "EOF"
   ]
  },
  {
   "cell_type": "markdown",
   "id": "05cd60b1-2998-47b3-a0ae-ba9c0a2a65ea",
   "metadata": {},
   "source": [
    "## Check"
   ]
  },
  {
   "cell_type": "code",
   "execution_count": 18,
   "id": "94df465a-9831-4716-a4d5-b5de50f0458b",
   "metadata": {},
   "outputs": [
    {
     "name": "stdout",
     "output_type": "stream",
     "text": [
      "Slurm Array Index: \n",
      "Time Stamp:         03-25-22+13:33:55\n",
      "\n",
      "You are on Duke Server: Singularity: Proj ENCODE FCC\n",
      "BASE DIRECTORY:     /mount/work\n",
      "PATH OF SOURCE:     /mount/work/source\n",
      "PATH OF EXECUTABLE: /mount/work/exe\n",
      "PATH OF ANNOTATION: /mount/work/annotation\n",
      "PATH OF PROJECT:    /mount/project\n",
      "PATH OF RESULTS:    /mount/work/out/proj_encode_fcc\n",
      "\n",
      "Global variables:\n",
      "Database:        /mount/work/out/proj_encode_fcc/Tewhey_K562_TileMPRA/database/fragment_tilempra_gata1.db\n",
      "Table directory: /mount/work/out/proj_encode_fcc/Tewhey_K562_TileMPRA/fragment_nuc\n",
      "Table file name: Tile_K562_20210130.GATA1.unstranded.bed.gz\n",
      "\n",
      "/mount/work/out/proj_encode_fcc/Tewhey_K562_TileMPRA/fragment_nuc/Tile_K562_20210130.GATA1.unstranded.bed.gz\n",
      "# Rows: 52312\n",
      "\n",
      "# Rows (Total): 52312\n",
      "Create index...\n",
      "Done!\n",
      "\n",
      "#Rows Table: [(52312,)]\n",
      "Show the first 10 lines in the table:\n",
      "('chrX_47786401_47786600', 'chrX', 47786401, 47786600, 0.668342, 0.331658, 33, 27, 39, 100, 0, 0)\n",
      "('chrX_47786451_47786650', 'chrX', 47786451, 47786650, 0.658291, 0.341709, 36, 30, 38, 95, 0, 0)\n",
      "('chrX_47786501_47786700', 'chrX', 47786501, 47786700, 0.673367, 0.326633, 34, 35, 30, 100, 0, 0)\n",
      "('chrX_47786551_47786750', 'chrX', 47786551, 47786750, 0.663317, 0.336683, 29, 38, 29, 103, 0, 0)\n",
      "('chrX_47786601_47786800', 'chrX', 47786601, 47786800, 0.653266, 0.346734, 30, 35, 34, 100, 0, 0)\n",
      "('chrX_47786651_47786850', 'chrX', 47786651, 47786850, 0.633166, 0.366834, 27, 38, 35, 99, 0, 0)\n",
      "('chrX_47786701_47786900', 'chrX', 47786701, 47786900, 0.613065, 0.386935, 32, 36, 41, 90, 0, 0)\n",
      "('chrX_47786751_47786950', 'chrX', 47786751, 47786950, 0.603015, 0.396985, 38, 39, 40, 82, 0, 0)\n",
      "('chrX_47786801_47787000', 'chrX', 47786801, 47787000, 0.59799, 0.40201, 39, 38, 42, 80, 0, 0)\n",
      "('chrX_47786851_47787050', 'chrX', 47786851, 47787050, 0.60804, 0.39196, 39, 31, 47, 82, 0, 0)\n",
      "\n",
      "Done!\n",
      "Run Time: 3 seconds\n"
     ]
    }
   ],
   "source": [
    "cat ${FD_LOG}/TileMPRA_database_gata1_fragment.txt"
   ]
  },
  {
   "cell_type": "code",
   "execution_count": null,
   "id": "245700a1-e4ac-465b-afb8-27aa6276b676",
   "metadata": {},
   "outputs": [],
   "source": []
  }
 ],
 "metadata": {
  "kernelspec": {
   "display_name": "Bash",
   "language": "bash",
   "name": "bash"
  },
  "language_info": {
   "codemirror_mode": "shell",
   "file_extension": ".sh",
   "mimetype": "text/x-sh",
   "name": "bash"
  }
 },
 "nbformat": 4,
 "nbformat_minor": 5
}
