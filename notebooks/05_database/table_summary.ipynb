{
 "cells": [
  {
   "cell_type": "markdown",
   "metadata": {},
   "source": [
    "**Set environment**"
   ]
  },
  {
   "cell_type": "code",
   "execution_count": 1,
   "metadata": {},
   "outputs": [
    {
     "name": "stdout",
     "output_type": "stream",
     "text": [
      "You are on Duke Server: Singularity: Proj ENCODE FCC\n",
      "BASE DIRECTORY:     /mount/work\n",
      "PATH OF SOURCE:     /mount/work/source\n",
      "PATH OF EXECUTABLE: /mount/work/exe\n",
      "PATH OF ANNOTATION: /mount/work/annotation\n",
      "PATH OF PROJECT:    /mount/project\n",
      "PATH OF RESULTS:    /mount/work/out/proj_encode_fcc\n",
      "\n"
     ]
    }
   ],
   "source": [
    "### basic\n",
    "import sys\n",
    "sys.path.append('../')\n",
    "from config_sing import *\n",
    "\n",
    "### specific tools\n",
    "from functools import reduce\n",
    "import itertools as it\n",
    "import sqlite3\n",
    "# https://stackoverflow.com/questions/49456158/integer-in-python-pandas-becomes-blob-binary-in-sqlite\n",
    "sqlite3.register_adapter(np.int64, lambda val: int(val))\n",
    "sqlite3.register_adapter(np.int32, lambda val: int(val))\n",
    "\n",
    "### file path of fragment database\n",
    "fdiry = os.path.join(FD_RES, \"KS91_K562_ASTARRseq\", 'database')\n",
    "fname = \"fragment_astarr_gata1.db\"\n",
    "FPATH_DB_ASTARR = os.path.join(fdiry, fname)\n",
    "\n",
    "fdiry = os.path.join(FD_RES, \"Tewhey_K562_TileMPRA\", 'database')\n",
    "fname = \"fragment_tilempra_gata1.db\"\n",
    "FPATH_DB_TMPRA = os.path.join(fdiry, fname)\n",
    "\n",
    "FPATHS_DB = [FPATH_DB_ASTARR, FPATH_DB_TMPRA]"
   ]
  },
  {
   "cell_type": "markdown",
   "metadata": {},
   "source": [
    "## Check: Table & Index"
   ]
  },
  {
   "cell_type": "code",
   "execution_count": 2,
   "metadata": {},
   "outputs": [
    {
     "name": "stdout",
     "output_type": "stream",
     "text": [
      "/mount/work/out/proj_encode_fcc/KS91_K562_ASTARRseq/database/fragment_astarr_gata1.db\n",
      "\tAnnotation\n",
      "\tCount\n",
      "\tCoverage\n",
      "\tFragment\n",
      "\tMotif\n",
      "\tSample\n",
      "\n",
      "/mount/work/out/proj_encode_fcc/Tewhey_K562_TileMPRA/database/fragment_tilempra_gata1.db\n",
      "\tAnnotation\n",
      "\tCount\n",
      "\tFragment\n",
      "\tMotif\n",
      "\n"
     ]
    }
   ],
   "source": [
    "query = \"\"\"\n",
    "    SELECT name \n",
    "    FROM sqlite_master \n",
    "    WHERE type = 'table';\n",
    "    \"\"\"\n",
    "\n",
    "for fpath_db in FPATHS_DB:\n",
    "    with sqlite3.connect(fpath_db) as conn:\n",
    "        ### show created table info\n",
    "        cursor = conn.cursor()\n",
    "        cursor = cursor.execute(query)\n",
    "        rows   = cursor.fetchall()\n",
    "        rows   = np.r_[rows].ravel()\n",
    "    print(fpath_db)\n",
    "    for row in np.sort(rows):\n",
    "        print(f\"\\t{row}\")\n",
    "    print()"
   ]
  },
  {
   "cell_type": "code",
   "execution_count": 3,
   "metadata": {},
   "outputs": [
    {
     "name": "stdout",
     "output_type": "stream",
     "text": [
      "/mount/work/out/proj_encode_fcc/KS91_K562_ASTARRseq/database/fragment_astarr_gata1.db\n",
      "\tidx_annot_frag\n",
      "\tidx_count_sample\n",
      "\tidx_cov_loc\n",
      "\tidx_frag_loc\n",
      "\tidx_motif_loc\n",
      "\tsqlite_autoindex_Annotation_1\n",
      "\tsqlite_autoindex_Fragment_1\n",
      "\tsqlite_autoindex_Motif_1\n",
      "\tsqlite_autoindex_Sample_1\n",
      "\n",
      "/mount/work/out/proj_encode_fcc/Tewhey_K562_TileMPRA/database/fragment_tilempra_gata1.db\n",
      "\tidx_annot_frag\n",
      "\tidx_frag_loc\n",
      "\tidx_motif_loc\n",
      "\tsqlite_autoindex_Annotation_1\n",
      "\tsqlite_autoindex_Count_1\n",
      "\tsqlite_autoindex_Fragment_1\n",
      "\tsqlite_autoindex_Motif_1\n",
      "\n"
     ]
    }
   ],
   "source": [
    "query = \"\"\"\n",
    "    SELECT name \n",
    "    FROM sqlite_master \n",
    "    WHERE type = 'index';\n",
    "    \"\"\"\n",
    "\n",
    "for fpath_db in FPATHS_DB:\n",
    "    with sqlite3.connect(fpath_db) as conn:\n",
    "        ### show created table info\n",
    "        cursor = conn.cursor()\n",
    "        cursor = cursor.execute(query)\n",
    "        rows   = cursor.fetchall()\n",
    "        rows   = np.r_[rows].ravel()\n",
    "    print(fpath_db)\n",
    "    for row in np.sort(rows):\n",
    "        print(f\"\\t{row}\")\n",
    "    print()"
   ]
  },
  {
   "cell_type": "markdown",
   "metadata": {},
   "source": [
    "## Check: Sample"
   ]
  },
  {
   "cell_type": "code",
   "execution_count": 4,
   "metadata": {},
   "outputs": [
    {
     "name": "stdout",
     "output_type": "stream",
     "text": [
      "#Rows Table: [(10,)]\n",
      "Show the first ten rows of table Sample:\n",
      "('Input_rep1', 'Input', 'rep1', 358823)\n",
      "('Input_rep2', 'Input', 'rep2', 461577)\n",
      "('Input_rep3', 'Input', 'rep3', 496229)\n",
      "('Input_rep4', 'Input', 'rep4', 464845)\n",
      "('Input_rep5', 'Input', 'rep5', 454013)\n",
      "('Input_rep6', 'Input', 'rep6', 409058)\n",
      "('Output_rep1', 'Output', 'rep1', 505724)\n",
      "('Output_rep2', 'Output', 'rep2', 686033)\n",
      "('Output_rep3', 'Output', 'rep3', 441621)\n",
      "('Output_rep4', 'Output', 'rep4', 739000)\n"
     ]
    }
   ],
   "source": [
    "fpath_db = FPATH_DB_ASTARR\n",
    "table    = \"Sample\"\n",
    "\n",
    "with sqlite3.connect(fpath_db) as conn:\n",
    "    ### show created table info\n",
    "    cursor = conn.cursor()\n",
    "    query = f\"select count(*) from {table}\"\n",
    "    cursor.execute(query)\n",
    "    print(\"#Rows Table:\", cursor.fetchall())\n",
    "    \n",
    "    ### show that the table is created\n",
    "    cursor = conn.cursor()\n",
    "    query  = f\"SELECT * FROM {table}\"\n",
    "    cursor = cursor.execute(query)\n",
    "    print(f\"Show the first ten rows of table {table}:\")\n",
    "    rows   = it.islice(cursor, 10)\n",
    "    for row in rows:\n",
    "        print(row)"
   ]
  },
  {
   "cell_type": "markdown",
   "metadata": {},
   "source": [
    "## Check: the two motif tables should be the same"
   ]
  },
  {
   "cell_type": "code",
   "execution_count": 5,
   "metadata": {},
   "outputs": [
    {
     "name": "stdout",
     "output_type": "stream",
     "text": [
      "/mount/work/out/proj_encode_fcc/KS91_K562_ASTARRseq/database/fragment_astarr_gata1.db\n",
      "#Rows Table: [(24863390,)]\n",
      "Show the first five rows of table Motif:\n",
      "('chrX_10006_10041_KLF/SP/2', 'chrX', 10006, 10041, 'KLF/SP/2', 3.257775)\n",
      "('chrX_10018_10038_GC-tract', 'chrX', 10018, 10038, 'GC-tract', 6.314)\n",
      "('chrX_10025_10039_NR/3', 'chrX', 10025, 10039, 'NR/3', 7.0957)\n",
      "('chrX_10035_10046_PRDM1', 'chrX', 10035, 10046, 'PRDM1', 8.1562)\n",
      "('chrX_10046_10061_MAF', 'chrX', 10046, 10061, 'MAF', 7.1564)\n",
      "\n",
      "/mount/work/out/proj_encode_fcc/Tewhey_K562_TileMPRA/database/fragment_tilempra_gata1.db\n",
      "#Rows Table: [(24863390,)]\n",
      "Show the first five rows of table Motif:\n",
      "('chrX_10006_10041_KLF/SP/2', 'chrX', 10006, 10041, 'KLF/SP/2', 3.257775)\n",
      "('chrX_10018_10038_GC-tract', 'chrX', 10018, 10038, 'GC-tract', 6.314)\n",
      "('chrX_10025_10039_NR/3', 'chrX', 10025, 10039, 'NR/3', 7.0957)\n",
      "('chrX_10035_10046_PRDM1', 'chrX', 10035, 10046, 'PRDM1', 8.1562)\n",
      "('chrX_10046_10061_MAF', 'chrX', 10046, 10061, 'MAF', 7.1564)\n",
      "\n"
     ]
    }
   ],
   "source": [
    "table = \"Motif\"\n",
    "\n",
    "for fpath_db in FPATHS_DB:\n",
    "    print(fpath_db)\n",
    "    with sqlite3.connect(fpath_db) as conn:\n",
    "        ### show created table info\n",
    "        cursor = conn.cursor()\n",
    "        query  = f\"select count(*) from {table}\"\n",
    "        cursor = cursor.execute(query)\n",
    "        print(\"#Rows Table:\", cursor.fetchall())\n",
    "\n",
    "        ### show that the table is created\n",
    "        cursor = conn.cursor()\n",
    "        query  = f\"SELECT * FROM {table}\"\n",
    "        cursor = cursor.execute(query)\n",
    "        print(f\"Show the first five rows of table {table}:\")\n",
    "        rows   = it.islice(cursor, 5)\n",
    "        for row in rows:\n",
    "            print(row)\n",
    "    print()"
   ]
  },
  {
   "cell_type": "markdown",
   "metadata": {},
   "source": [
    "## Check: Count"
   ]
  },
  {
   "cell_type": "code",
   "execution_count": 6,
   "metadata": {},
   "outputs": [
    {
     "name": "stdout",
     "output_type": "stream",
     "text": [
      "/mount/work/out/proj_encode_fcc/KS91_K562_ASTARRseq/database/fragment_astarr_gata1.db\n",
      "#Rows Table: [(2557129,)]\n",
      "Show the first five rows of table Count:\n",
      "('chrX_47787165_47787363', 'Input_rep1', 1)\n",
      "('chrX_47787557_47787773', 'Input_rep1', 1)\n",
      "('chrX_47787593_47787783', 'Input_rep1', 1)\n",
      "('chrX_47787598_47787772', 'Input_rep1', 1)\n",
      "('chrX_47787661_47788058', 'Input_rep1', 1)\n",
      "\n",
      "/mount/work/out/proj_encode_fcc/Tewhey_K562_TileMPRA/database/fragment_tilempra_gata1.db\n",
      "#Rows Table: [(52312,)]\n",
      "Show the first five rows of table Count:\n",
      "('chrX_47786401_47786600', 2.30593934460149, 2117.78684083014, 10474.868702612, 112.11265261617, 110.931130790033, 0.102147903305184)\n",
      "('chrX_47786451_47786650', 0.783056057422144, 1386.00739237509, 2387.11896574661, 11.3173883956403, 10.6425168461249, 0.113307047070907)\n",
      "('chrX_47786501_47786700', -0.128731962724311, 1955.62553108109, 1788.23614005802, 0.845069660219201, 0.628722618349189, 0.0878596785422427)\n",
      "('chrX_47786551_47786750', 0.588295148181817, 2388.99664261419, 3591.26381774846, 11.2404554080035, 10.5666788666818, 0.0854366059937647)\n",
      "('chrX_47786601_47786800', 0.0667001449192146, 2102.91633517956, 2202.38454860936, 0.309589962802377, 0.21047015199996, 0.096677408925751)\n",
      "\n"
     ]
    }
   ],
   "source": [
    "table = \"Count\"\n",
    "\n",
    "for fpath_db in FPATHS_DB:\n",
    "    print(fpath_db)\n",
    "    with sqlite3.connect(fpath_db) as conn:\n",
    "        ### show created table info\n",
    "        cursor = conn.cursor()\n",
    "        query  = f\"select count(*) from {table}\"\n",
    "        cursor = cursor.execute(query)\n",
    "        print(\"#Rows Table:\", cursor.fetchall())\n",
    "\n",
    "        ### show that the table is created\n",
    "        cursor = conn.cursor()\n",
    "        query  = f\"SELECT * FROM {table}\"\n",
    "        cursor = cursor.execute(query)\n",
    "        print(f\"Show the first five rows of table {table}:\")\n",
    "        rows   = it.islice(cursor, 5)\n",
    "        for row in rows:\n",
    "            print(row)\n",
    "    print()"
   ]
  },
  {
   "cell_type": "markdown",
   "metadata": {},
   "source": [
    "## Check: Fragment"
   ]
  },
  {
   "cell_type": "code",
   "execution_count": 7,
   "metadata": {},
   "outputs": [
    {
     "name": "stdout",
     "output_type": "stream",
     "text": [
      "/mount/work/out/proj_encode_fcc/KS91_K562_ASTARRseq/database/fragment_astarr_gata1.db\n",
      "#Rows Table: [(1220319,)]\n",
      "Show the first five rows of table Fragment:\n",
      "('chrX_47787165_47787363', 'chrX', 47787165, 47787363, 0.560606, 0.439394, 33, 34, 53, 78, 0, 0)\n",
      "('chrX_47787557_47787773', 'chrX', 47787557, 47787773, 0.615741, 0.384259, 45, 35, 48, 88, 0, 0)\n",
      "('chrX_47787593_47787783', 'chrX', 47787593, 47787783, 0.636842, 0.363158, 42, 32, 37, 79, 0, 0)\n",
      "('chrX_47787598_47787772', 'chrX', 47787598, 47787772, 0.637931, 0.362069, 37, 28, 35, 74, 0, 0)\n",
      "('chrX_47787661_47788058', 'chrX', 47787661, 47788058, 0.594458, 0.405542, 76, 72, 89, 160, 0, 0)\n",
      "\n",
      "/mount/work/out/proj_encode_fcc/Tewhey_K562_TileMPRA/database/fragment_tilempra_gata1.db\n",
      "#Rows Table: [(52312,)]\n",
      "Show the first five rows of table Fragment:\n",
      "('chrX_47786401_47786600', 'chrX', 47786401, 47786600, 0.668342, 0.331658, 33, 27, 39, 100, 0, 0)\n",
      "('chrX_47786451_47786650', 'chrX', 47786451, 47786650, 0.658291, 0.341709, 36, 30, 38, 95, 0, 0)\n",
      "('chrX_47786501_47786700', 'chrX', 47786501, 47786700, 0.673367, 0.326633, 34, 35, 30, 100, 0, 0)\n",
      "('chrX_47786551_47786750', 'chrX', 47786551, 47786750, 0.663317, 0.336683, 29, 38, 29, 103, 0, 0)\n",
      "('chrX_47786601_47786800', 'chrX', 47786601, 47786800, 0.653266, 0.346734, 30, 35, 34, 100, 0, 0)\n",
      "\n"
     ]
    }
   ],
   "source": [
    "table = \"Fragment\"\n",
    "\n",
    "for fpath_db in FPATHS_DB:\n",
    "    print(fpath_db)\n",
    "    with sqlite3.connect(fpath_db) as conn:\n",
    "        ### show created table info\n",
    "        cursor = conn.cursor()\n",
    "        query  = f\"select count(*) from {table}\"\n",
    "        cursor = cursor.execute(query)\n",
    "        print(\"#Rows Table:\", cursor.fetchall())\n",
    "\n",
    "        ### show that the table is created\n",
    "        cursor = conn.cursor()\n",
    "        query  = f\"SELECT * FROM {table}\"\n",
    "        cursor = cursor.execute(query)\n",
    "        print(f\"Show the first five rows of table {table}:\")\n",
    "        rows   = it.islice(cursor, 5)\n",
    "        for row in rows:\n",
    "            print(row)\n",
    "    print()"
   ]
  },
  {
   "cell_type": "markdown",
   "metadata": {},
   "source": [
    "## Check: Annotation"
   ]
  },
  {
   "cell_type": "code",
   "execution_count": 8,
   "metadata": {},
   "outputs": [
    {
     "name": "stdout",
     "output_type": "stream",
     "text": [
      "/mount/work/out/proj_encode_fcc/KS91_K562_ASTARRseq/database/fragment_astarr_gata1.db\n",
      "#Rows Table: [(85201024,)]\n",
      "Show the first five rows of table Annotation:\n",
      "('chrX_47787165_47787363', 'chrX_47787180_47787190_FOX/8')\n",
      "('chrX_47787165_47787363', 'chrX_47787182_47787192_HINFP1/1')\n",
      "('chrX_47787165_47787363', 'chrX_47787194_47787216_ZNF146')\n",
      "('chrX_47787165_47787363', 'chrX_47787196_47787211_NR/15')\n",
      "('chrX_47787165_47787363', 'chrX_47787229_47787243_NR/20')\n",
      "\n",
      "/mount/work/out/proj_encode_fcc/Tewhey_K562_TileMPRA/database/fragment_tilempra_gata1.db\n",
      "#Rows Table: [(2300625,)]\n",
      "Show the first five rows of table Annotation:\n",
      "('chrX_47786401_47786600', 'chrX_47786401_47786418_KLF/SP/2')\n",
      "('chrX_47786401_47786600', 'chrX_47786424_47786443_ZNF28')\n",
      "('chrX_47786401_47786600', 'chrX_47786449_47786459_FOX/4')\n",
      "('chrX_47786401_47786600', 'chrX_47786460_47786481_ZNF382')\n",
      "('chrX_47786401_47786600', 'chrX_47786461_47786483_ZNF136')\n",
      "\n"
     ]
    }
   ],
   "source": [
    "table = \"Annotation\"\n",
    "\n",
    "for fpath_db in FPATHS_DB:\n",
    "    print(fpath_db)\n",
    "    with sqlite3.connect(fpath_db) as conn:\n",
    "        ### show created table info\n",
    "        cursor = conn.cursor()\n",
    "        query  = f\"select count(*) from {table}\"\n",
    "        cursor = cursor.execute(query)\n",
    "        print(\"#Rows Table:\", cursor.fetchall())\n",
    "\n",
    "        ### show that the table is created\n",
    "        cursor = conn.cursor()\n",
    "        query  = f\"SELECT * FROM {table}\"\n",
    "        cursor = cursor.execute(query)\n",
    "        print(f\"Show the first five rows of table {table}:\")\n",
    "        rows   = it.islice(cursor, 5)\n",
    "        for row in rows:\n",
    "            print(row)\n",
    "    print()"
   ]
  },
  {
   "cell_type": "markdown",
   "metadata": {},
   "source": [
    "## Check: Coverage"
   ]
  },
  {
   "cell_type": "code",
   "execution_count": 9,
   "metadata": {},
   "outputs": [
    {
     "name": "stdout",
     "output_type": "stream",
     "text": [
      "#Rows Table: [(18003141,)]\n",
      "Show the first ten rows of table Coverage:\n",
      "('chrX', 47786401, 0, 'Input_rep1')\n",
      "('chrX', 47786402, 0, 'Input_rep1')\n",
      "('chrX', 47786403, 0, 'Input_rep1')\n",
      "('chrX', 47786404, 0, 'Input_rep1')\n",
      "('chrX', 47786405, 0, 'Input_rep1')\n",
      "('chrX', 47786406, 0, 'Input_rep1')\n",
      "('chrX', 47786407, 0, 'Input_rep1')\n",
      "('chrX', 47786408, 0, 'Input_rep1')\n",
      "('chrX', 47786409, 0, 'Input_rep1')\n",
      "('chrX', 47786410, 0, 'Input_rep1')\n"
     ]
    }
   ],
   "source": [
    "fpath_db = FPATH_DB_ASTARR\n",
    "table    = \"Coverage\"\n",
    "\n",
    "with sqlite3.connect(fpath_db) as conn:\n",
    "    ### show created table info\n",
    "    cursor = conn.cursor()\n",
    "    query = f\"select count(*) from {table}\"\n",
    "    cursor.execute(query)\n",
    "    print(\"#Rows Table:\", cursor.fetchall())\n",
    "    \n",
    "    ### show that the table is created\n",
    "    cursor = conn.cursor()\n",
    "    query  = f\"SELECT * FROM {table}\"\n",
    "    cursor = cursor.execute(query)\n",
    "    print(f\"Show the first ten rows of table {table}:\")\n",
    "    rows   = it.islice(cursor, 10)\n",
    "    for row in rows:\n",
    "        print(row)"
   ]
  },
  {
   "cell_type": "code",
   "execution_count": null,
   "metadata": {},
   "outputs": [],
   "source": []
  }
 ],
 "metadata": {
  "kernelspec": {
   "display_name": "Python 3",
   "language": "python",
   "name": "python3"
  },
  "language_info": {
   "codemirror_mode": {
    "name": "ipython",
    "version": 3
   },
   "file_extension": ".py",
   "mimetype": "text/x-python",
   "name": "python",
   "nbconvert_exporter": "python",
   "pygments_lexer": "ipython3",
   "version": "3.7.6"
  }
 },
 "nbformat": 4,
 "nbformat_minor": 4
}
