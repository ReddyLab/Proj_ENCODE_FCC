{
 "cells": [
  {
   "cell_type": "markdown",
   "id": "efce9245-f672-4773-be1a-7988cd3150fc",
   "metadata": {},
   "source": [
    "**Set environment**"
   ]
  },
  {
   "cell_type": "code",
   "execution_count": 1,
   "id": "d67f1d69-04bc-4ec2-84af-df202be948ac",
   "metadata": {},
   "outputs": [
    {
     "name": "stdout",
     "output_type": "stream",
     "text": [
      "You are on Duke Server: HARDAC\n",
      "BASE DIRECTORY:     /gpfs/fs1/data/reddylab/Kuei\n",
      "PATH OF SOURCE:     /gpfs/fs1/data/reddylab/Kuei/source\n",
      "PATH OF EXECUTABLE: /gpfs/fs1/data/reddylab/Kuei/exe\n",
      "PATH OF ANNOTATION: /gpfs/fs1/data/reddylab/Kuei/annotation\n",
      "PATH OF PROJECT:    /gpfs/fs1/data/reddylab/Kuei/GitRepo/Proj_ENCODE_FCC/notebooks\n",
      "PATH OF RESULTS:    /gpfs/fs1/data/reddylab/Kuei/out/proj_encode_fcc\n",
      "\n"
     ]
    }
   ],
   "source": [
    "source ../config_duke.sh -v"
   ]
  },
  {
   "cell_type": "code",
   "execution_count": 4,
   "id": "46180d7f-ae4c-452c-8e75-d311a383a5f5",
   "metadata": {},
   "outputs": [
    {
     "name": "stdout",
     "output_type": "stream",
     "text": [
      "KS91_K562_hg38_ASTARRseq_Input_rep1.GATA1.unstranded.dedups.bed\n",
      "KS91_K562_hg38_ASTARRseq_Input_rep2.GATA1.unstranded.dedups.bed\n",
      "KS91_K562_hg38_ASTARRseq_Input_rep3.GATA1.unstranded.dedups.bed\n",
      "KS91_K562_hg38_ASTARRseq_Input_rep4.GATA1.unstranded.dedups.bed\n",
      "KS91_K562_hg38_ASTARRseq_Input_rep5.GATA1.unstranded.dedups.bed\n",
      "KS91_K562_hg38_ASTARRseq_Input_rep6.GATA1.unstranded.dedups.bed\n",
      "KS91_K562_hg38_ASTARRseq_Output_rep1.GATA1.unstranded.bed\n",
      "KS91_K562_hg38_ASTARRseq_Output_rep2.GATA1.unstranded.bed\n",
      "KS91_K562_hg38_ASTARRseq_Output_rep3.GATA1.unstranded.bed\n",
      "KS91_K562_hg38_ASTARRseq_Output_rep4.GATA1.unstranded.bed\n"
     ]
    }
   ],
   "source": [
    "ls ${FD_RES}/KS91_K562_ASTARRseq/count"
   ]
  },
  {
   "cell_type": "code",
   "execution_count": 5,
   "id": "6cbcfdd9-e3b1-467c-a739-999076c27981",
   "metadata": {},
   "outputs": [
    {
     "name": "stdout",
     "output_type": "stream",
     "text": [
      "chrX\t47787165\t47787363\tchrX_47787165_47787363\t1\n",
      "chrX\t47787557\t47787773\tchrX_47787557_47787773\t1\n",
      "chrX\t47787593\t47787783\tchrX_47787593_47787783\t1\n",
      "chrX\t47787598\t47787772\tchrX_47787598_47787772\t1\n",
      "chrX\t47787661\t47788058\tchrX_47787661_47788058\t1\n",
      "chrX\t47787743\t47787849\tchrX_47787743_47787849\t1\n",
      "chrX\t47787998\t47788231\tchrX_47787998_47788231\t1\n",
      "chrX\t47788008\t47788157\tchrX_47788008_47788157\t1\n",
      "chrX\t47788008\t47788181\tchrX_47788008_47788181\t1\n",
      "chrX\t47788140\t47788547\tchrX_47788140_47788547\t1\n"
     ]
    }
   ],
   "source": [
    "head ${FD_RES}/KS91_K562_ASTARRseq/count/KS91_K562_hg38_ASTARRseq_Input_rep1.GATA1.unstranded.dedups.bed"
   ]
  },
  {
   "cell_type": "markdown",
   "id": "a0d393e1-3459-4125-b6a8-9c1e679528f2",
   "metadata": {},
   "source": [
    "## RUN"
   ]
  },
  {
   "cell_type": "code",
   "execution_count": 66,
   "id": "3805a00f-5592-4a9b-89b6-ad1842e6b72f",
   "metadata": {},
   "outputs": [
    {
     "name": "stdout",
     "output_type": "stream",
     "text": [
      "Submitted batch job 27859493\n"
     ]
    }
   ],
   "source": [
    "sbatch -p ${NODE} \\\n",
    "    --mem 8G \\\n",
    "    -o ${FD_LOG}/ASTARR_database_gata1_fragment_tmp.txt \\\n",
    "    <<'EOF'\n",
    "#!/bin/bash\n",
    "### set directories & global variables\n",
    "source ../config_duke.sh\n",
    "\n",
    "### print start message\n",
    "timer_start=`date +%s`\n",
    "echo \"Slurm Array Index: \" ${SLURM_ARRAY_TASK_ID}\n",
    "echo \"Time Stamp:        \" $(date +\"%m-%d-%y+%T\")\n",
    "echo\n",
    "\n",
    "### execution\n",
    "${FD_PRJ}/sing_proj_encode_fcc.sh python astarr_gata1_table_fragment.py\n",
    "\n",
    "### print end message\n",
    "timer=`date +%s`\n",
    "runtime=$(echo \"${timer} - ${timer_start}\" | bc -l)\n",
    "echo\n",
    "echo 'Done!'\n",
    "echo \"Run Time: $(displaytime ${runtime})\"\n",
    "\n",
    "EOF"
   ]
  },
  {
   "cell_type": "code",
   "execution_count": 67,
   "id": "7a8ccc61-edc4-4de4-ada8-8b6e88d6d86e",
   "metadata": {},
   "outputs": [
    {
     "name": "stdout",
     "output_type": "stream",
     "text": [
      "Slurm Array Index: \n",
      "Time Stamp:         03-25-22+13:23:25\n",
      "\n",
      "You are on Duke Server: Singularity: Proj ENCODE FCC\n",
      "BASE DIRECTORY:     /mount/work\n",
      "PATH OF SOURCE:     /mount/work/source\n",
      "PATH OF EXECUTABLE: /mount/work/exe\n",
      "PATH OF ANNOTATION: /mount/work/annotation\n",
      "PATH OF PROJECT:    /mount/project\n",
      "PATH OF RESULTS:    /mount/work/out/proj_encode_fcc\n",
      "\n",
      "Global variables:\n",
      "Database:        /mount/work/out/proj_encode_fcc/KS91_K562_ASTARRseq/database/fragment_astarr_gata1.db\n",
      "Table directory: /mount/work/out/proj_encode_fcc/KS91_K562_ASTARRseq/fragment_nuc\n",
      "\n",
      "/mount/work/out/proj_encode_fcc/KS91_K562_ASTARRseq/fragment_nuc/KS91_K562_hg38_ASTARRseq_Input_rep1.GATA1.unstranded.dedups.bed.gz\n",
      "# Rows: 358823\n",
      "/mount/work/out/proj_encode_fcc/KS91_K562_ASTARRseq/fragment_nuc/KS91_K562_hg38_ASTARRseq_Input_rep2.GATA1.unstranded.dedups.bed.gz\n",
      "# Rows: 461577\n",
      "/mount/work/out/proj_encode_fcc/KS91_K562_ASTARRseq/fragment_nuc/KS91_K562_hg38_ASTARRseq_Input_rep3.GATA1.unstranded.dedups.bed.gz\n",
      "# Rows: 496229\n",
      "/mount/work/out/proj_encode_fcc/KS91_K562_ASTARRseq/fragment_nuc/KS91_K562_hg38_ASTARRseq_Input_rep4.GATA1.unstranded.dedups.bed.gz\n",
      "# Rows: 464845\n",
      "/mount/work/out/proj_encode_fcc/KS91_K562_ASTARRseq/fragment_nuc/KS91_K562_hg38_ASTARRseq_Input_rep5.GATA1.unstranded.dedups.bed.gz\n",
      "# Rows: 454013\n",
      "/mount/work/out/proj_encode_fcc/KS91_K562_ASTARRseq/fragment_nuc/KS91_K562_hg38_ASTARRseq_Output_rep1.GATA1.unstranded.bed.gz\n",
      "# Rows: 42858\n",
      "/mount/work/out/proj_encode_fcc/KS91_K562_ASTARRseq/fragment_nuc/KS91_K562_hg38_ASTARRseq_Output_rep2.GATA1.unstranded.bed.gz\n",
      "# Rows: 70548\n",
      "/mount/work/out/proj_encode_fcc/KS91_K562_ASTARRseq/fragment_nuc/KS91_K562_hg38_ASTARRseq_Output_rep3.GATA1.unstranded.bed.gz\n",
      "# Rows: 76087\n",
      "/mount/work/out/proj_encode_fcc/KS91_K562_ASTARRseq/fragment_nuc/KS91_K562_hg38_ASTARRseq_Output_rep4.GATA1.unstranded.bed.gz\n",
      "# Rows: 132149\n",
      "\n",
      "# Rows (Total): 2557129\n",
      "Create index...\n",
      "Done!\n",
      "\n",
      "#Rows Table: [(1220319,)]\n",
      "Show the first 10 lines in the table:\n",
      "('chrX_47787165_47787363', 'chrX', 47787165, 47787363, 0.560606, 0.439394, 33, 34, 53, 78, 0, 0)\n",
      "('chrX_47787557_47787773', 'chrX', 47787557, 47787773, 0.615741, 0.384259, 45, 35, 48, 88, 0, 0)\n",
      "('chrX_47787593_47787783', 'chrX', 47787593, 47787783, 0.636842, 0.363158, 42, 32, 37, 79, 0, 0)\n",
      "('chrX_47787598_47787772', 'chrX', 47787598, 47787772, 0.637931, 0.362069, 37, 28, 35, 74, 0, 0)\n",
      "('chrX_47787661_47788058', 'chrX', 47787661, 47788058, 0.594458, 0.405542, 76, 72, 89, 160, 0, 0)\n",
      "('chrX_47787743_47787849', 'chrX', 47787743, 47787849, 0.528302, 0.471698, 15, 24, 26, 41, 0, 0)\n",
      "('chrX_47787998_47788231', 'chrX', 47787998, 47788231, 0.536481, 0.463519, 35, 57, 51, 90, 0, 0)\n",
      "('chrX_47788008_47788157', 'chrX', 47788008, 47788157, 0.543624, 0.456376, 23, 34, 34, 58, 0, 0)\n",
      "('chrX_47788008_47788181', 'chrX', 47788008, 47788181, 0.543353, 0.456647, 26, 39, 40, 68, 0, 0)\n",
      "('chrX_47788140_47788547', 'chrX', 47788140, 47788547, 0.577396, 0.422604, 67, 100, 72, 168, 0, 0)\n",
      "\n",
      "Done!\n",
      "Run Time: 35 seconds\n"
     ]
    }
   ],
   "source": [
    "cat ${FD_LOG}/ASTARR_database_gata1_fragment_tmp.txt"
   ]
  },
  {
   "cell_type": "code",
   "execution_count": null,
   "id": "f14f296a-5890-45a6-aa6c-b2f035d9aef3",
   "metadata": {},
   "outputs": [],
   "source": []
  }
 ],
 "metadata": {
  "kernelspec": {
   "display_name": "Bash",
   "language": "bash",
   "name": "bash"
  },
  "language_info": {
   "codemirror_mode": "shell",
   "file_extension": ".sh",
   "mimetype": "text/x-sh",
   "name": "bash"
  }
 },
 "nbformat": 4,
 "nbformat_minor": 5
}
