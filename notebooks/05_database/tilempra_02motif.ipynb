{
 "cells": [
  {
   "cell_type": "markdown",
   "id": "0bb7592b-550f-44df-96c3-84b9dc91124f",
   "metadata": {},
   "source": [
    "**Set environment**"
   ]
  },
  {
   "cell_type": "code",
   "execution_count": 1,
   "id": "7a8dc62a-b775-43e1-8bc9-0e4aee6a2ac9",
   "metadata": {},
   "outputs": [
    {
     "name": "stdout",
     "output_type": "stream",
     "text": [
      "You are on Duke Server: HARDAC\n",
      "BASE DIRECTORY:     /gpfs/fs1/data/reddylab/Kuei\n",
      "PATH OF SOURCE:     /gpfs/fs1/data/reddylab/Kuei/source\n",
      "PATH OF EXECUTABLE: /gpfs/fs1/data/reddylab/Kuei/exe\n",
      "PATH OF ANNOTATION: /gpfs/fs1/data/reddylab/Kuei/annotation\n",
      "PATH OF PROJECT:    /gpfs/fs1/data/reddylab/Kuei/GitRepo/Proj_ENCODE_FCC/notebooks\n",
      "PATH OF RESULTS:    /gpfs/fs1/data/reddylab/Kuei/out/proj_encode_fcc\n",
      "\n"
     ]
    }
   ],
   "source": [
    "source ../config_duke.sh -v"
   ]
  },
  {
   "cell_type": "markdown",
   "id": "fd1ad383-0b7a-4ad1-973b-9ea7dc0bc3cb",
   "metadata": {},
   "source": [
    "## Run"
   ]
  },
  {
   "cell_type": "code",
   "execution_count": 6,
   "id": "5615e60a-47fe-4164-882f-5c2b4e695c0c",
   "metadata": {},
   "outputs": [
    {
     "name": "stdout",
     "output_type": "stream",
     "text": [
      "Submitted batch job 27859503\n"
     ]
    }
   ],
   "source": [
    "sbatch -p ${NODE} \\\n",
    "    --mem 10G \\\n",
    "    -o ${FD_LOG}/TileMPRA_database_gata1_motif.txt \\\n",
    "    <<'EOF'\n",
    "#!/bin/bash\n",
    "### set directories & global variables\n",
    "source ../config_duke.sh\n",
    "\n",
    "### print start message\n",
    "timer_start=`date +%s`\n",
    "echo \"Slurm Array Index: \" ${SLURM_ARRAY_TASK_ID}\n",
    "echo \"Time Stamp:        \" $(date +\"%m-%d-%y+%T\")\n",
    "echo\n",
    "\n",
    "### execution\n",
    "${FD_PRJ}/sing_proj_encode_fcc.sh python tilempra_gata1_table_motif.py chrX\n",
    "\n",
    "### print end message\n",
    "timer=`date +%s`\n",
    "runtime=$(echo \"${timer} - ${timer_start}\" | bc -l)\n",
    "echo\n",
    "echo 'Done!'\n",
    "echo \"Run Time: $(displaytime ${runtime})\"\n",
    "\n",
    "EOF"
   ]
  },
  {
   "cell_type": "markdown",
   "id": "fac3eb43-e6df-44b5-9692-11028e739582",
   "metadata": {},
   "source": [
    "## Check"
   ]
  },
  {
   "cell_type": "code",
   "execution_count": 7,
   "id": "93f8988c-9fb6-4d2a-8643-6c24b3373b58",
   "metadata": {},
   "outputs": [
    {
     "name": "stdout",
     "output_type": "stream",
     "text": [
      "Slurm Array Index: \n",
      "Time Stamp:         03-25-22+13:50:25\n",
      "\n",
      "You are on Duke Server: Singularity: Proj ENCODE FCC\n",
      "BASE DIRECTORY:     /mount/work\n",
      "PATH OF SOURCE:     /mount/work/source\n",
      "PATH OF EXECUTABLE: /mount/work/exe\n",
      "PATH OF ANNOTATION: /mount/work/annotation\n",
      "PATH OF PROJECT:    /mount/project\n",
      "PATH OF RESULTS:    /mount/work/out/proj_encode_fcc\n",
      "\n",
      "Global variables:\n",
      "Chromsome:       chrX\n",
      "Database:        /mount/work/out/proj_encode_fcc/Tewhey_K562_TileMPRA/database/fragment_tilempra_gata1.db\n",
      "Table file name: /mount/work/annotation/motif_cluster_jvierstra/hg38_archetype_motifs_v1/chrX_rm_mouse_merge.bed.gz\n",
      "\n",
      "\n",
      "# Annotation (Total): 24863390\n",
      "Create index...\n",
      "Done!\n",
      "\n",
      "#Rows Table: [(24863390,)]\n",
      "Show the first 10 lines in the table:\n",
      "('chrX_10006_10041_KLF/SP/2', 'chrX', 10006, 10041, 'KLF/SP/2', 3.257775)\n",
      "('chrX_10018_10038_GC-tract', 'chrX', 10018, 10038, 'GC-tract', 6.314)\n",
      "('chrX_10025_10039_NR/3', 'chrX', 10025, 10039, 'NR/3', 7.0957)\n",
      "('chrX_10035_10046_PRDM1', 'chrX', 10035, 10046, 'PRDM1', 8.1562)\n",
      "('chrX_10046_10061_MAF', 'chrX', 10046, 10061, 'MAF', 7.1564)\n",
      "('chrX_10047_10057_NFY', 'chrX', 10047, 10057, 'NFY', 7.6173)\n",
      "('chrX_10053_10086_KLF/SP/2', 'chrX', 10053, 10086, 'KLF/SP/2', 7.89956)\n",
      "('chrX_10055_10073_TBX/3', 'chrX', 10055, 10073, 'TBX/3', 7.6294)\n",
      "('chrX_10055_10066_ETS/2', 'chrX', 10055, 10066, 'ETS/2', 10.5061)\n",
      "('chrX_10056_10078_GC-tract', 'chrX', 10056, 10078, 'GC-tract', 7.8744)\n",
      "\n",
      "Done!\n",
      "Run Time: 3 minutes and 51 seconds\n"
     ]
    }
   ],
   "source": [
    "cat ${FD_LOG}/TileMPRA_database_gata1_motif.txt"
   ]
  },
  {
   "cell_type": "code",
   "execution_count": null,
   "id": "c1e05206-9fce-4e18-b54d-9f991a223ada",
   "metadata": {},
   "outputs": [],
   "source": []
  }
 ],
 "metadata": {
  "kernelspec": {
   "display_name": "Bash",
   "language": "bash",
   "name": "bash"
  },
  "language_info": {
   "codemirror_mode": "shell",
   "file_extension": ".sh",
   "mimetype": "text/x-sh",
   "name": "bash"
  }
 },
 "nbformat": 4,
 "nbformat_minor": 5
}
