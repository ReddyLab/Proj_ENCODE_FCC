{
 "cells": [
  {
   "cell_type": "raw",
   "id": "cd4c608d-95b1-407b-80bc-6a75fa252528",
   "metadata": {},
   "source": [
    "---\n",
    "title: Discussion-ASTARR Coverage\n",
    "subtitle: Independent filtering does not filter out lower counts in our case\n",
    "format:\n",
    "    html:\n",
    "        code-fold:  true\n",
    "        code-tools: true\n",
    "---"
   ]
  },
  {
   "cell_type": "markdown",
   "id": "2bd59e5b-7c70-4189-8822-18427b32ec41",
   "metadata": {},
   "source": [
    "**Set environment**"
   ]
  },
  {
   "cell_type": "code",
   "execution_count": 1,
   "id": "7aa79bef-b576-45d2-8b35-9654702d75c2",
   "metadata": {},
   "outputs": [
    {
     "name": "stdout",
     "output_type": "stream",
     "text": [
      "You are working on        Singularity \n",
      "BASE DIRECTORY (FD_BASE): /mount \n",
      "REPO DIRECTORY (FD_REPO): /mount/repo \n",
      "WORK DIRECTORY (FD_WORK): /mount/work \n",
      "DATA DIRECTORY (FD_DATA): /mount/data \n",
      "\n",
      "You are working with      ENCODE FCC \n",
      "PATH OF PROJECT (FD_PRJ): /mount/repo/Proj_CombEffect_ENCODE_FCC \n",
      "PROJECT RESULTS (FD_RES): /mount/repo/Proj_CombEffect_ENCODE_FCC/results \n",
      "PROJECT SCRIPTS (FD_EXE): /mount/repo/Proj_CombEffect_ENCODE_FCC/scripts \n",
      "PROJECT DATA    (FD_DAT): /mount/repo/Proj_CombEffect_ENCODE_FCC/data \n",
      "PROJECT NOTE    (FD_NBK): /mount/repo/Proj_CombEffect_ENCODE_FCC/notebooks \n",
      "PROJECT DOCS    (FD_DOC): /mount/repo/Proj_CombEffect_ENCODE_FCC/docs \n",
      "PROJECT LOG     (FD_LOG): /mount/repo/Proj_CombEffect_ENCODE_FCC/log \n",
      "PROJECT APP     (FD_APP): /mount/repo/Proj_CombEffect_ENCODE_FCC/app \n",
      "PROJECT REF     (FD_REF): /mount/repo/Proj_CombEffect_ENCODE_FCC/references \n",
      "\n"
     ]
    }
   ],
   "source": [
    "suppressMessages(suppressWarnings(source(\"../run_config_project_sing.R\")))\n",
    "suppressMessages(suppressWarnings(library(\"DESeq2\")))\n",
    "suppressMessages(suppressWarnings(library(\"GGally\")))\n",
    "show_env()"
   ]
  },
  {
   "cell_type": "code",
   "execution_count": null,
   "id": "e3ed324b-9899-41d8-a56a-5dfb1ee981ac",
   "metadata": {},
   "outputs": [],
   "source": []
  },
  {
   "cell_type": "code",
   "execution_count": null,
   "id": "2d7d3c2b-a5a5-481d-8637-11eee1362a07",
   "metadata": {},
   "outputs": [],
   "source": [
    "###\n",
    "txt_assay         = TXT_ASSAY\n",
    "txt_region_folder = \"encode_open_chromatin\"\n",
    "txt_region_label  = \"atac_ENCFF333TAT\"\n",
    "\n",
    "###\n",
    "txt_fdiry = file.path(\n",
    "    FD_RES, \"assay_fcc\", txt_assay, \"coverage\", \n",
    "    txt_region_folder, \n",
    "    txt_region_label, \n",
    "    \"summary\"\n",
    ")\n",
    "\n",
    "txt_fname = \"data_list_count_column.rds\"\n",
    "txt_fpath = file.path(txt_fdiry, txt_fname)\n",
    "lst = readRDS(txt_fpath)\n",
    "\n",
    "txt_fname = \"data_deseq2.rds\"\n",
    "txt_fpath = file.path(txt_fdiry, txt_fname)\n",
    "dds = readRDS(txt_fpath)\n",
    "\n",
    "\n",
    "###\n",
    "lst_dat_ocr_atac_ENCFF333TAT = lst\n",
    "dds_ocr_atac_ENCFF333TAT = dds"
   ]
  },
  {
   "cell_type": "code",
   "execution_count": null,
   "id": "88b3cb92-b00e-4e48-9521-ab1a8b5cc434",
   "metadata": {},
   "outputs": [],
   "source": []
  },
  {
   "cell_type": "code",
   "execution_count": null,
   "id": "db68c19d-9418-4b3d-a48c-b677129ec37c",
   "metadata": {},
   "outputs": [],
   "source": []
  }
 ],
 "metadata": {
  "kernelspec": {
   "display_name": "R",
   "language": "R",
   "name": "ir"
  },
  "language_info": {
   "codemirror_mode": "r",
   "file_extension": ".r",
   "mimetype": "text/x-r-source",
   "name": "R",
   "pygments_lexer": "r",
   "version": "4.3.3"
  }
 },
 "nbformat": 4,
 "nbformat_minor": 5
}
