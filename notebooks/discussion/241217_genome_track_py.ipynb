{
 "cells": [
  {
   "cell_type": "code",
   "execution_count": 1,
   "id": "2cddcb31-cba1-4f60-9bfe-3f91e1bf8f41",
   "metadata": {},
   "outputs": [],
   "source": [
    "import igv_notebook"
   ]
  },
  {
   "cell_type": "code",
   "execution_count": null,
   "id": "e3508711-0cf8-4795-8a6a-0db29886572c",
   "metadata": {},
   "outputs": [],
   "source": []
  }
 ],
 "metadata": {
  "kernelspec": {
   "display_name": "Python 3 (ipykernel)",
   "language": "python",
   "name": "python3"
  },
  "language_info": {
   "codemirror_mode": {
    "name": "ipython",
    "version": 3
   },
   "file_extension": ".py",
   "mimetype": "text/x-python",
   "name": "python",
   "nbconvert_exporter": "python",
   "pygments_lexer": "ipython3",
   "version": "3.11.6"
  }
 },
 "nbformat": 4,
 "nbformat_minor": 5
}
