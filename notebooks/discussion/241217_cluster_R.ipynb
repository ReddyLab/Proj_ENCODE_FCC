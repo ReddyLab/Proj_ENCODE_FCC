{
 "cells": [
  {
   "cell_type": "raw",
   "id": "1a4b85a2-22eb-4888-9961-704323bd7242",
   "metadata": {},
   "source": [
    "---\n",
    "title: FCC Peak calls\n",
    "subtitle: export annotation\n",
    "format:\n",
    "    html:\n",
    "        code-fold:  true\n",
    "        code-tools: true\n",
    "---"
   ]
  },
  {
   "cell_type": "markdown",
   "id": "595bbd27-f8e4-47f8-8805-fc5b6e002b30",
   "metadata": {},
   "source": [
    "**Set environment**"
   ]
  },
  {
   "cell_type": "code",
   "execution_count": 1,
   "id": "04e13ea6-844b-4f28-9a81-71dc73cadbd5",
   "metadata": {
    "tags": []
   },
   "outputs": [
    {
     "name": "stdout",
     "output_type": "stream",
     "text": [
      "You are working on        Singularity: singularity_proj_encode_fcc \n",
      "BASE DIRECTORY (FD_BASE): /data/reddylab/Kuei \n",
      "REPO DIRECTORY (FD_REPO): /data/reddylab/Kuei/repo \n",
      "WORK DIRECTORY (FD_WORK): /data/reddylab/Kuei/work \n",
      "DATA DIRECTORY (FD_DATA): /data/reddylab/Kuei/data \n",
      "\n",
      "You are working with      ENCODE FCC \n",
      "PATH OF PROJECT (FD_PRJ): /data/reddylab/Kuei/repo/Proj_ENCODE_FCC \n",
      "PROJECT RESULTS (FD_RES): /data/reddylab/Kuei/repo/Proj_ENCODE_FCC/results \n",
      "PROJECT SCRIPTS (FD_EXE): /data/reddylab/Kuei/repo/Proj_ENCODE_FCC/scripts \n",
      "PROJECT DATA    (FD_DAT): /data/reddylab/Kuei/repo/Proj_ENCODE_FCC/data \n",
      "PROJECT NOTE    (FD_NBK): /data/reddylab/Kuei/repo/Proj_ENCODE_FCC/notebooks \n",
      "PROJECT DOCS    (FD_DOC): /data/reddylab/Kuei/repo/Proj_ENCODE_FCC/docs \n",
      "PROJECT LOG     (FD_LOG): /data/reddylab/Kuei/repo/Proj_ENCODE_FCC/log \n",
      "PROJECT REF     (FD_REF): /data/reddylab/Kuei/repo/Proj_ENCODE_FCC/references \n",
      "\n"
     ]
    }
   ],
   "source": [
    "suppressMessages(suppressWarnings(source(\"../run_config_project_sing.R\")))\n",
    "library(pheatmap)\n",
    "show_env()"
   ]
  },
  {
   "cell_type": "markdown",
   "id": "e4f6108c-aa22-468b-a6e0-bcff606c040a",
   "metadata": {},
   "source": [
    "## Import data"
   ]
  },
  {
   "cell_type": "code",
   "execution_count": 2,
   "id": "15e0ed6e-2be2-4b37-81d0-a684dc0b06c5",
   "metadata": {},
   "outputs": [
    {
     "name": "stdout",
     "output_type": "stream",
     "text": [
      "[1] 87610   540\n"
     ]
    },
    {
     "data": {
      "text/html": [
       "<table class=\"dataframe\">\n",
       "<caption>A tibble: 3 × 540</caption>\n",
       "<thead>\n",
       "\t<tr><th scope=col>Region</th><th scope=col>UMAP1</th><th scope=col>UMAP2</th><th scope=col>Cluster</th><th scope=col>ASTARR_A</th><th scope=col>WSTARR_A</th><th scope=col>LMPRA_A</th><th scope=col>TMPRA_A</th><th scope=col>ASTARR_R</th><th scope=col>WSTARR_R</th><th scope=col>⋯</th><th scope=col>ZNF778</th><th scope=col>ZNF780A</th><th scope=col>ZNF785</th><th scope=col>ZNF79</th><th scope=col>ZNF83</th><th scope=col>ZNF830</th><th scope=col>ZNF84</th><th scope=col>ZSCAN29</th><th scope=col>ZSCAN32</th><th scope=col>ZZZ3</th></tr>\n",
       "\t<tr><th scope=col>&lt;chr&gt;</th><th scope=col>&lt;dbl&gt;</th><th scope=col>&lt;dbl&gt;</th><th scope=col>&lt;dbl&gt;</th><th scope=col>&lt;dbl&gt;</th><th scope=col>&lt;dbl&gt;</th><th scope=col>&lt;dbl&gt;</th><th scope=col>&lt;dbl&gt;</th><th scope=col>&lt;dbl&gt;</th><th scope=col>&lt;dbl&gt;</th><th scope=col>⋯</th><th scope=col>&lt;dbl&gt;</th><th scope=col>&lt;dbl&gt;</th><th scope=col>&lt;dbl&gt;</th><th scope=col>&lt;dbl&gt;</th><th scope=col>&lt;dbl&gt;</th><th scope=col>&lt;dbl&gt;</th><th scope=col>&lt;dbl&gt;</th><th scope=col>&lt;dbl&gt;</th><th scope=col>&lt;dbl&gt;</th><th scope=col>&lt;dbl&gt;</th></tr>\n",
       "</thead>\n",
       "<tbody>\n",
       "\t<tr><td>chr1:10038-10405  </td><td>-21.87767</td><td> -9.176196</td><td>39</td><td>0</td><td>0</td><td>0</td><td>0</td><td>1</td><td>0</td><td>⋯</td><td>0</td><td>0</td><td>0</td><td>0</td><td>0</td><td>0</td><td>0</td><td>0</td><td>0</td><td>0</td></tr>\n",
       "\t<tr><td>chr1:16025-16338  </td><td>-12.15321</td><td>-12.879920</td><td>20</td><td>0</td><td>0</td><td>0</td><td>0</td><td>1</td><td>0</td><td>⋯</td><td>0</td><td>0</td><td>0</td><td>0</td><td>0</td><td>0</td><td>0</td><td>0</td><td>0</td><td>0</td></tr>\n",
       "\t<tr><td>chr1:115429-115969</td><td>-11.02704</td><td> -3.031374</td><td> 0</td><td>1</td><td>0</td><td>0</td><td>0</td><td>0</td><td>0</td><td>⋯</td><td>0</td><td>0</td><td>0</td><td>0</td><td>0</td><td>0</td><td>0</td><td>1</td><td>0</td><td>0</td></tr>\n",
       "</tbody>\n",
       "</table>\n"
      ],
      "text/latex": [
       "A tibble: 3 × 540\n",
       "\\begin{tabular}{lllllllllllllllllllll}\n",
       " Region & UMAP1 & UMAP2 & Cluster & ASTARR\\_A & WSTARR\\_A & LMPRA\\_A & TMPRA\\_A & ASTARR\\_R & WSTARR\\_R & ⋯ & ZNF778 & ZNF780A & ZNF785 & ZNF79 & ZNF83 & ZNF830 & ZNF84 & ZSCAN29 & ZSCAN32 & ZZZ3\\\\\n",
       " <chr> & <dbl> & <dbl> & <dbl> & <dbl> & <dbl> & <dbl> & <dbl> & <dbl> & <dbl> & ⋯ & <dbl> & <dbl> & <dbl> & <dbl> & <dbl> & <dbl> & <dbl> & <dbl> & <dbl> & <dbl>\\\\\n",
       "\\hline\n",
       "\t chr1:10038-10405   & -21.87767 &  -9.176196 & 39 & 0 & 0 & 0 & 0 & 1 & 0 & ⋯ & 0 & 0 & 0 & 0 & 0 & 0 & 0 & 0 & 0 & 0\\\\\n",
       "\t chr1:16025-16338   & -12.15321 & -12.879920 & 20 & 0 & 0 & 0 & 0 & 1 & 0 & ⋯ & 0 & 0 & 0 & 0 & 0 & 0 & 0 & 0 & 0 & 0\\\\\n",
       "\t chr1:115429-115969 & -11.02704 &  -3.031374 &  0 & 1 & 0 & 0 & 0 & 0 & 0 & ⋯ & 0 & 0 & 0 & 0 & 0 & 0 & 0 & 1 & 0 & 0\\\\\n",
       "\\end{tabular}\n"
      ],
      "text/markdown": [
       "\n",
       "A tibble: 3 × 540\n",
       "\n",
       "| Region &lt;chr&gt; | UMAP1 &lt;dbl&gt; | UMAP2 &lt;dbl&gt; | Cluster &lt;dbl&gt; | ASTARR_A &lt;dbl&gt; | WSTARR_A &lt;dbl&gt; | LMPRA_A &lt;dbl&gt; | TMPRA_A &lt;dbl&gt; | ASTARR_R &lt;dbl&gt; | WSTARR_R &lt;dbl&gt; | ⋯ ⋯ | ZNF778 &lt;dbl&gt; | ZNF780A &lt;dbl&gt; | ZNF785 &lt;dbl&gt; | ZNF79 &lt;dbl&gt; | ZNF83 &lt;dbl&gt; | ZNF830 &lt;dbl&gt; | ZNF84 &lt;dbl&gt; | ZSCAN29 &lt;dbl&gt; | ZSCAN32 &lt;dbl&gt; | ZZZ3 &lt;dbl&gt; |\n",
       "|---|---|---|---|---|---|---|---|---|---|---|---|---|---|---|---|---|---|---|---|---|\n",
       "| chr1:10038-10405   | -21.87767 |  -9.176196 | 39 | 0 | 0 | 0 | 0 | 1 | 0 | ⋯ | 0 | 0 | 0 | 0 | 0 | 0 | 0 | 0 | 0 | 0 |\n",
       "| chr1:16025-16338   | -12.15321 | -12.879920 | 20 | 0 | 0 | 0 | 0 | 1 | 0 | ⋯ | 0 | 0 | 0 | 0 | 0 | 0 | 0 | 0 | 0 | 0 |\n",
       "| chr1:115429-115969 | -11.02704 |  -3.031374 |  0 | 1 | 0 | 0 | 0 | 0 | 0 | ⋯ | 0 | 0 | 0 | 0 | 0 | 0 | 0 | 1 | 0 | 0 |\n",
       "\n"
      ],
      "text/plain": [
       "  Region             UMAP1     UMAP2      Cluster ASTARR_A WSTARR_A LMPRA_A\n",
       "1 chr1:10038-10405   -21.87767  -9.176196 39      0        0        0      \n",
       "2 chr1:16025-16338   -12.15321 -12.879920 20      0        0        0      \n",
       "3 chr1:115429-115969 -11.02704  -3.031374  0      1        0        0      \n",
       "  TMPRA_A ASTARR_R WSTARR_R ⋯ ZNF778 ZNF780A ZNF785 ZNF79 ZNF83 ZNF830 ZNF84\n",
       "1 0       1        0        ⋯ 0      0       0      0     0     0      0    \n",
       "2 0       1        0        ⋯ 0      0       0      0     0     0      0    \n",
       "3 0       0        0        ⋯ 0      0       0      0     0     0      0    \n",
       "  ZSCAN29 ZSCAN32 ZZZ3\n",
       "1 0       0       0   \n",
       "2 0       0       0   \n",
       "3 1       0       0   "
      ]
     },
     "metadata": {},
     "output_type": "display_data"
    }
   ],
   "source": [
    "txt_fdiry = file.path(\n",
    "    FD_RES, \n",
    "    \"region_annotation\", \n",
    "    \"fcc_astarr_macs_input_overlap\",\n",
    "    \"summary_v2\"\n",
    ")\n",
    "txt_fname = \"matrix.umap.cluster.cres_vote1_gcfilter.chipseq_full.fcc.tss.tsv\"\n",
    "txt_fpath = file.path(txt_fdiry, txt_fname)\n",
    "\n",
    "dat = read_tsv(txt_fpath, show_col_types = FALSE)\n",
    "\n",
    "dat_region_merge = dat\n",
    "print(dim(dat))\n",
    "head(dat, 3)"
   ]
  },
  {
   "cell_type": "code",
   "execution_count": 4,
   "id": "d48cdb4a-fad0-44e1-b941-2fe50f3625ec",
   "metadata": {},
   "outputs": [
    {
     "data": {
      "text/html": [
       "<style>\n",
       ".list-inline {list-style: none; margin:0; padding: 0}\n",
       ".list-inline>li {display: inline-block}\n",
       ".list-inline>li:not(:last-child)::after {content: \"\\00b7\"; padding: 0 .5ex}\n",
       "</style>\n",
       "<ol class=list-inline><li>'chr1:912735-913419'</li><li>'chr1:1855508-1856285'</li><li>'chr1:2107820-2109082'</li><li>'chr1:2139783-2140161'</li><li>'chr1:2840113-2840672'</li><li>'chr1:2875620-2876203'</li><li>'chr1:3356345-3357190'</li><li>'chr1:4126841-4128109'</li><li>'chr1:4585186-4585646'</li><li>'chr1:5514470-5514950'</li><li>'chr1:5752268-5752894'</li><li>'chr1:5975164-5975604'</li><li>'chr1:6105487-6106668'</li><li>'chr1:6248956-6249483'</li><li>'chr1:6447253-6449470'</li><li>'chr1:7577098-7577478'</li><li>'chr1:9009330-9010468'</li><li>'chr1:10835689-10836526'</li><li>'chr1:11414747-11415648'</li><li>'chr1:11534943-11537050'</li></ol>\n"
      ],
      "text/latex": [
       "\\begin{enumerate*}\n",
       "\\item 'chr1:912735-913419'\n",
       "\\item 'chr1:1855508-1856285'\n",
       "\\item 'chr1:2107820-2109082'\n",
       "\\item 'chr1:2139783-2140161'\n",
       "\\item 'chr1:2840113-2840672'\n",
       "\\item 'chr1:2875620-2876203'\n",
       "\\item 'chr1:3356345-3357190'\n",
       "\\item 'chr1:4126841-4128109'\n",
       "\\item 'chr1:4585186-4585646'\n",
       "\\item 'chr1:5514470-5514950'\n",
       "\\item 'chr1:5752268-5752894'\n",
       "\\item 'chr1:5975164-5975604'\n",
       "\\item 'chr1:6105487-6106668'\n",
       "\\item 'chr1:6248956-6249483'\n",
       "\\item 'chr1:6447253-6449470'\n",
       "\\item 'chr1:7577098-7577478'\n",
       "\\item 'chr1:9009330-9010468'\n",
       "\\item 'chr1:10835689-10836526'\n",
       "\\item 'chr1:11414747-11415648'\n",
       "\\item 'chr1:11534943-11537050'\n",
       "\\end{enumerate*}\n"
      ],
      "text/markdown": [
       "1. 'chr1:912735-913419'\n",
       "2. 'chr1:1855508-1856285'\n",
       "3. 'chr1:2107820-2109082'\n",
       "4. 'chr1:2139783-2140161'\n",
       "5. 'chr1:2840113-2840672'\n",
       "6. 'chr1:2875620-2876203'\n",
       "7. 'chr1:3356345-3357190'\n",
       "8. 'chr1:4126841-4128109'\n",
       "9. 'chr1:4585186-4585646'\n",
       "10. 'chr1:5514470-5514950'\n",
       "11. 'chr1:5752268-5752894'\n",
       "12. 'chr1:5975164-5975604'\n",
       "13. 'chr1:6105487-6106668'\n",
       "14. 'chr1:6248956-6249483'\n",
       "15. 'chr1:6447253-6449470'\n",
       "16. 'chr1:7577098-7577478'\n",
       "17. 'chr1:9009330-9010468'\n",
       "18. 'chr1:10835689-10836526'\n",
       "19. 'chr1:11414747-11415648'\n",
       "20. 'chr1:11534943-11537050'\n",
       "\n",
       "\n"
      ],
      "text/plain": [
       " [1] \"chr1:912735-913419\"     \"chr1:1855508-1856285\"   \"chr1:2107820-2109082\"  \n",
       " [4] \"chr1:2139783-2140161\"   \"chr1:2840113-2840672\"   \"chr1:2875620-2876203\"  \n",
       " [7] \"chr1:3356345-3357190\"   \"chr1:4126841-4128109\"   \"chr1:4585186-4585646\"  \n",
       "[10] \"chr1:5514470-5514950\"   \"chr1:5752268-5752894\"   \"chr1:5975164-5975604\"  \n",
       "[13] \"chr1:6105487-6106668\"   \"chr1:6248956-6249483\"   \"chr1:6447253-6449470\"  \n",
       "[16] \"chr1:7577098-7577478\"   \"chr1:9009330-9010468\"   \"chr1:10835689-10836526\"\n",
       "[19] \"chr1:11414747-11415648\" \"chr1:11534943-11537050\""
      ]
     },
     "metadata": {},
     "output_type": "display_data"
    }
   ],
   "source": [
    "dat = dat_region_merge\n",
    "dat = dat %>% dplyr::filter(Cluster == 8)\n",
    "head(dat$Region, 20)"
   ]
  },
  {
   "cell_type": "code",
   "execution_count": 6,
   "id": "a1c62cf2-c0a2-4396-ae86-69e8d26b545c",
   "metadata": {},
   "outputs": [
    {
     "data": {
      "text/plain": [
       "   \n",
       "       0    1\n",
       "  1 1471  678"
      ]
     },
     "metadata": {},
     "output_type": "display_data"
    }
   ],
   "source": [
    "dat = dat_region_merge\n",
    "dat = dat %>% dplyr::filter(Cluster == 8)\n",
    "table(dat$CTCF, dat$SMC3)"
   ]
  },
  {
   "cell_type": "code",
   "execution_count": 5,
   "id": "659d6f17-55ee-42a0-aac5-6243c2064151",
   "metadata": {},
   "outputs": [
    {
     "data": {
      "text/html": [
       "<style>\n",
       ".list-inline {list-style: none; margin:0; padding: 0}\n",
       ".list-inline>li {display: inline-block}\n",
       ".list-inline>li:not(:last-child)::after {content: \"\\00b7\"; padding: 0 .5ex}\n",
       "</style>\n",
       "<ol class=list-inline><li>'chr1:912735-913419'</li><li>'chr1:1855508-1856285'</li><li>'chr1:2139783-2140161'</li><li>'chr1:2840113-2840672'</li><li>'chr1:2875620-2876203'</li><li>'chr1:3356345-3357190'</li><li>'chr1:4126841-4128109'</li><li>'chr1:5752268-5752894'</li><li>'chr1:6105487-6106668'</li><li>'chr1:6248956-6249483'</li><li>'chr1:6447253-6449470'</li><li>'chr1:7577098-7577478'</li><li>'chr1:9009330-9010468'</li><li>'chr1:10835689-10836526'</li><li>'chr1:11414747-11415648'</li><li>'chr1:11534943-11537050'</li><li>'chr1:12760316-12761054'</li><li>'chr1:13764701-13765537'</li><li>'chr1:14395513-14396035'</li><li>'chr1:15876342-15876847'</li></ol>\n"
      ],
      "text/latex": [
       "\\begin{enumerate*}\n",
       "\\item 'chr1:912735-913419'\n",
       "\\item 'chr1:1855508-1856285'\n",
       "\\item 'chr1:2139783-2140161'\n",
       "\\item 'chr1:2840113-2840672'\n",
       "\\item 'chr1:2875620-2876203'\n",
       "\\item 'chr1:3356345-3357190'\n",
       "\\item 'chr1:4126841-4128109'\n",
       "\\item 'chr1:5752268-5752894'\n",
       "\\item 'chr1:6105487-6106668'\n",
       "\\item 'chr1:6248956-6249483'\n",
       "\\item 'chr1:6447253-6449470'\n",
       "\\item 'chr1:7577098-7577478'\n",
       "\\item 'chr1:9009330-9010468'\n",
       "\\item 'chr1:10835689-10836526'\n",
       "\\item 'chr1:11414747-11415648'\n",
       "\\item 'chr1:11534943-11537050'\n",
       "\\item 'chr1:12760316-12761054'\n",
       "\\item 'chr1:13764701-13765537'\n",
       "\\item 'chr1:14395513-14396035'\n",
       "\\item 'chr1:15876342-15876847'\n",
       "\\end{enumerate*}\n"
      ],
      "text/markdown": [
       "1. 'chr1:912735-913419'\n",
       "2. 'chr1:1855508-1856285'\n",
       "3. 'chr1:2139783-2140161'\n",
       "4. 'chr1:2840113-2840672'\n",
       "5. 'chr1:2875620-2876203'\n",
       "6. 'chr1:3356345-3357190'\n",
       "7. 'chr1:4126841-4128109'\n",
       "8. 'chr1:5752268-5752894'\n",
       "9. 'chr1:6105487-6106668'\n",
       "10. 'chr1:6248956-6249483'\n",
       "11. 'chr1:6447253-6449470'\n",
       "12. 'chr1:7577098-7577478'\n",
       "13. 'chr1:9009330-9010468'\n",
       "14. 'chr1:10835689-10836526'\n",
       "15. 'chr1:11414747-11415648'\n",
       "16. 'chr1:11534943-11537050'\n",
       "17. 'chr1:12760316-12761054'\n",
       "18. 'chr1:13764701-13765537'\n",
       "19. 'chr1:14395513-14396035'\n",
       "20. 'chr1:15876342-15876847'\n",
       "\n",
       "\n"
      ],
      "text/plain": [
       " [1] \"chr1:912735-913419\"     \"chr1:1855508-1856285\"   \"chr1:2139783-2140161\"  \n",
       " [4] \"chr1:2840113-2840672\"   \"chr1:2875620-2876203\"   \"chr1:3356345-3357190\"  \n",
       " [7] \"chr1:4126841-4128109\"   \"chr1:5752268-5752894\"   \"chr1:6105487-6106668\"  \n",
       "[10] \"chr1:6248956-6249483\"   \"chr1:6447253-6449470\"   \"chr1:7577098-7577478\"  \n",
       "[13] \"chr1:9009330-9010468\"   \"chr1:10835689-10836526\" \"chr1:11414747-11415648\"\n",
       "[16] \"chr1:11534943-11537050\" \"chr1:12760316-12761054\" \"chr1:13764701-13765537\"\n",
       "[19] \"chr1:14395513-14396035\" \"chr1:15876342-15876847\""
      ]
     },
     "metadata": {},
     "output_type": "display_data"
    }
   ],
   "source": [
    "dat = dat_region_merge\n",
    "dat = dat %>% dplyr::filter(Cluster == 8, CTCF == 1, SMC3 == 0)\n",
    "head(dat$Region, 20)"
   ]
  },
  {
   "cell_type": "code",
   "execution_count": 7,
   "id": "a6a0bf31-f66d-43aa-b451-5664aa29c619",
   "metadata": {},
   "outputs": [
    {
     "data": {
      "text/html": [
       "2149"
      ],
      "text/latex": [
       "2149"
      ],
      "text/markdown": [
       "2149"
      ],
      "text/plain": [
       "[1] 2149"
      ]
     },
     "metadata": {},
     "output_type": "display_data"
    }
   ],
   "source": [
    "1471 + 678"
   ]
  },
  {
   "cell_type": "code",
   "execution_count": 9,
   "id": "a1375aaa-a34f-43fb-a852-efec7c3484e6",
   "metadata": {},
   "outputs": [
    {
     "data": {
      "text/html": [
       "<style>\n",
       ".list-inline {list-style: none; margin:0; padding: 0}\n",
       ".list-inline>li {display: inline-block}\n",
       ".list-inline>li:not(:last-child)::after {content: \"\\00b7\"; padding: 0 .5ex}\n",
       "</style>\n",
       "<ol class=list-inline><li>9102</li><li>540</li></ol>\n"
      ],
      "text/latex": [
       "\\begin{enumerate*}\n",
       "\\item 9102\n",
       "\\item 540\n",
       "\\end{enumerate*}\n"
      ],
      "text/markdown": [
       "1. 9102\n",
       "2. 540\n",
       "\n",
       "\n"
      ],
      "text/plain": [
       "[1] 9102  540"
      ]
     },
     "metadata": {},
     "output_type": "display_data"
    }
   ],
   "source": [
    "dat = dat_region_merge\n",
    "dat = dat %>% dplyr::filter(Cluster == 2)\n",
    "dim(dat)"
   ]
  },
  {
   "cell_type": "code",
   "execution_count": null,
   "id": "2a7770a2-8251-455c-84fb-326084e0c04e",
   "metadata": {},
   "outputs": [],
   "source": []
  }
 ],
 "metadata": {
  "kernelspec": {
   "display_name": "R",
   "language": "R",
   "name": "ir"
  },
  "language_info": {
   "codemirror_mode": "r",
   "file_extension": ".r",
   "mimetype": "text/x-r-source",
   "name": "R",
   "pygments_lexer": "r",
   "version": "4.4.1"
  }
 },
 "nbformat": 4,
 "nbformat_minor": 5
}
