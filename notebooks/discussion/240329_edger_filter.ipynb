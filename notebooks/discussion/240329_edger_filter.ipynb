{
 "cells": [
  {
   "cell_type": "raw",
   "id": "95f0ef10-1167-4daa-ae48-8873e1517d97",
   "metadata": {},
   "source": [
    "---\n",
    "title: Discussion-ASTARR Coverage\n",
    "subtitle: \n",
    "format:\n",
    "    html:\n",
    "        code-fold:  true\n",
    "        code-tools: true\n",
    "---"
   ]
  },
  {
   "cell_type": "markdown",
   "id": "6aa80543-051d-486a-b073-015dad26c307",
   "metadata": {},
   "source": [
    "**Set environment**"
   ]
  },
  {
   "cell_type": "code",
   "execution_count": 6,
   "id": "760b415a-2612-4c23-a10f-cb258a16e196",
   "metadata": {},
   "outputs": [
    {
     "name": "stdout",
     "output_type": "stream",
     "text": [
      "You are working on        Singularity \n",
      "BASE DIRECTORY (FD_BASE): /mount \n",
      "REPO DIRECTORY (FD_REPO): /mount/repo \n",
      "WORK DIRECTORY (FD_WORK): /mount/work \n",
      "DATA DIRECTORY (FD_DATA): /mount/data \n",
      "\n",
      "You are working with      ENCODE FCC \n",
      "PATH OF PROJECT (FD_PRJ): /mount/repo/Proj_CombEffect_ENCODE_FCC \n",
      "PROJECT RESULTS (FD_RES): /mount/repo/Proj_CombEffect_ENCODE_FCC/results \n",
      "PROJECT SCRIPTS (FD_EXE): /mount/repo/Proj_CombEffect_ENCODE_FCC/scripts \n",
      "PROJECT DATA    (FD_DAT): /mount/repo/Proj_CombEffect_ENCODE_FCC/data \n",
      "PROJECT NOTE    (FD_NBK): /mount/repo/Proj_CombEffect_ENCODE_FCC/notebooks \n",
      "PROJECT DOCS    (FD_DOC): /mount/repo/Proj_CombEffect_ENCODE_FCC/docs \n",
      "PROJECT LOG     (FD_LOG): /mount/repo/Proj_CombEffect_ENCODE_FCC/log \n",
      "PROJECT APP     (FD_APP): /mount/repo/Proj_CombEffect_ENCODE_FCC/app \n",
      "PROJECT REF     (FD_REF): /mount/repo/Proj_CombEffect_ENCODE_FCC/references \n",
      "\n"
     ]
    }
   ],
   "source": [
    "suppressMessages(suppressWarnings(source(\"../run_config_project_sing.R\")))\n",
    "suppressMessages(suppressWarnings(library(\"DESeq2\")))\n",
    "suppressMessages(suppressWarnings(library(\"edgeR\")))\n",
    "suppressMessages(suppressWarnings(library(\"GGally\")))\n",
    "show_env()"
   ]
  },
  {
   "cell_type": "code",
   "execution_count": 3,
   "id": "ff44ed78-c33a-4654-8aa4-9e1de6299ae6",
   "metadata": {},
   "outputs": [],
   "source": [
    "TXT_ASSAY = \"STARR_ATAC_K562_Reddy_KS91\""
   ]
  },
  {
   "cell_type": "code",
   "execution_count": 4,
   "id": "791696c5-6803-418d-8e6f-4011614d4cda",
   "metadata": {},
   "outputs": [],
   "source": [
    "###\n",
    "txt_assay         = TXT_ASSAY\n",
    "txt_region_folder = \"encode_open_chromatin\"\n",
    "txt_region_label  = \"atac_ENCFF333TAT\"\n",
    "\n",
    "###\n",
    "txt_fdiry = file.path(\n",
    "    FD_RES, \"assay_fcc\", txt_assay, \"coverage\", \n",
    "    txt_region_folder, \n",
    "    txt_region_label, \n",
    "    \"summary\"\n",
    ")\n",
    "\n",
    "txt_fname = \"data_list_count_column.rds\"\n",
    "txt_fpath = file.path(txt_fdiry, txt_fname)\n",
    "lst = readRDS(txt_fpath)\n",
    "\n",
    "txt_fname = \"data_deseq2.rds\"\n",
    "txt_fpath = file.path(txt_fdiry, txt_fname)\n",
    "dds = readRDS(txt_fpath)\n",
    "\n",
    "\n",
    "###\n",
    "lst_dat_ocr_atac_ENCFF333TAT = lst\n",
    "dds_ocr_atac_ENCFF333TAT = dds"
   ]
  },
  {
   "cell_type": "code",
   "execution_count": 8,
   "id": "9137987f-0beb-40fd-abfc-89f84d446f24",
   "metadata": {},
   "outputs": [],
   "source": [
    "lst = lst_dat_ocr_atac_ENCFF333TAT\n",
    "dds = dds_ocr_atac_ENCFF333TAT\n",
    "\n",
    "dat_col = lst$data_col\n",
    "dat_cnt = lst$data_cnt\n",
    "vec_row = setNames(dat_cnt$Chrom, dat_cnt$Region)\n",
    "\n",
    "mat_cnt_unrm = counts(dds, normalized = FALSE)\n",
    "mat_cnt_norm = counts(dds, normalized = TRUE)"
   ]
  },
  {
   "cell_type": "code",
   "execution_count": 9,
   "id": "8b05dfd9-a83b-4e68-b52d-f273abd6359f",
   "metadata": {},
   "outputs": [
    {
     "data": {
      "text/html": [
       "<table class=\"dataframe\">\n",
       "<caption>A matrix: 6 × 10 of type int</caption>\n",
       "<thead>\n",
       "\t<tr><th></th><th scope=col>Input.rep1</th><th scope=col>Input.rep2</th><th scope=col>Input.rep3</th><th scope=col>Input.rep4</th><th scope=col>Input.rep5</th><th scope=col>Input.rep6</th><th scope=col>Output.rep1</th><th scope=col>Output.rep2</th><th scope=col>Output.rep3</th><th scope=col>Output.rep4</th></tr>\n",
       "</thead>\n",
       "<tbody>\n",
       "\t<tr><th scope=row>chr1:40649-41403</th><td> 1</td><td> 0</td><td> 2</td><td> 1</td><td> 1</td><td> 1</td><td>1</td><td>0</td><td>0</td><td>0</td></tr>\n",
       "\t<tr><th scope=row>chr1:42030-42399</th><td> 0</td><td> 0</td><td> 0</td><td> 0</td><td> 0</td><td> 1</td><td>0</td><td>0</td><td>0</td><td>0</td></tr>\n",
       "\t<tr><th scope=row>chr1:46255-47025</th><td> 4</td><td> 4</td><td> 4</td><td> 4</td><td> 3</td><td> 3</td><td>0</td><td>0</td><td>0</td><td>0</td></tr>\n",
       "\t<tr><th scope=row>chr1:67629-67864</th><td> 0</td><td> 0</td><td> 1</td><td> 0</td><td> 0</td><td> 0</td><td>0</td><td>0</td><td>0</td><td>0</td></tr>\n",
       "\t<tr><th scope=row>chr1:68056-68341</th><td> 1</td><td> 2</td><td> 2</td><td> 0</td><td> 1</td><td> 1</td><td>0</td><td>0</td><td>0</td><td>3</td></tr>\n",
       "\t<tr><th scope=row>chr1:68963-70035</th><td>24</td><td>29</td><td>20</td><td>25</td><td>23</td><td>19</td><td>0</td><td>0</td><td>0</td><td>5</td></tr>\n",
       "</tbody>\n",
       "</table>\n"
      ],
      "text/latex": [
       "A matrix: 6 × 10 of type int\n",
       "\\begin{tabular}{r|llllllllll}\n",
       "  & Input.rep1 & Input.rep2 & Input.rep3 & Input.rep4 & Input.rep5 & Input.rep6 & Output.rep1 & Output.rep2 & Output.rep3 & Output.rep4\\\\\n",
       "\\hline\n",
       "\tchr1:40649-41403 &  1 &  0 &  2 &  1 &  1 &  1 & 1 & 0 & 0 & 0\\\\\n",
       "\tchr1:42030-42399 &  0 &  0 &  0 &  0 &  0 &  1 & 0 & 0 & 0 & 0\\\\\n",
       "\tchr1:46255-47025 &  4 &  4 &  4 &  4 &  3 &  3 & 0 & 0 & 0 & 0\\\\\n",
       "\tchr1:67629-67864 &  0 &  0 &  1 &  0 &  0 &  0 & 0 & 0 & 0 & 0\\\\\n",
       "\tchr1:68056-68341 &  1 &  2 &  2 &  0 &  1 &  1 & 0 & 0 & 0 & 3\\\\\n",
       "\tchr1:68963-70035 & 24 & 29 & 20 & 25 & 23 & 19 & 0 & 0 & 0 & 5\\\\\n",
       "\\end{tabular}\n"
      ],
      "text/markdown": [
       "\n",
       "A matrix: 6 × 10 of type int\n",
       "\n",
       "| <!--/--> | Input.rep1 | Input.rep2 | Input.rep3 | Input.rep4 | Input.rep5 | Input.rep6 | Output.rep1 | Output.rep2 | Output.rep3 | Output.rep4 |\n",
       "|---|---|---|---|---|---|---|---|---|---|---|\n",
       "| chr1:40649-41403 |  1 |  0 |  2 |  1 |  1 |  1 | 1 | 0 | 0 | 0 |\n",
       "| chr1:42030-42399 |  0 |  0 |  0 |  0 |  0 |  1 | 0 | 0 | 0 | 0 |\n",
       "| chr1:46255-47025 |  4 |  4 |  4 |  4 |  3 |  3 | 0 | 0 | 0 | 0 |\n",
       "| chr1:67629-67864 |  0 |  0 |  1 |  0 |  0 |  0 | 0 | 0 | 0 | 0 |\n",
       "| chr1:68056-68341 |  1 |  2 |  2 |  0 |  1 |  1 | 0 | 0 | 0 | 3 |\n",
       "| chr1:68963-70035 | 24 | 29 | 20 | 25 | 23 | 19 | 0 | 0 | 0 | 5 |\n",
       "\n"
      ],
      "text/plain": [
       "                 Input.rep1 Input.rep2 Input.rep3 Input.rep4 Input.rep5\n",
       "chr1:40649-41403  1          0          2          1          1        \n",
       "chr1:42030-42399  0          0          0          0          0        \n",
       "chr1:46255-47025  4          4          4          4          3        \n",
       "chr1:67629-67864  0          0          1          0          0        \n",
       "chr1:68056-68341  1          2          2          0          1        \n",
       "chr1:68963-70035 24         29         20         25         23        \n",
       "                 Input.rep6 Output.rep1 Output.rep2 Output.rep3 Output.rep4\n",
       "chr1:40649-41403  1         1           0           0           0          \n",
       "chr1:42030-42399  1         0           0           0           0          \n",
       "chr1:46255-47025  3         0           0           0           0          \n",
       "chr1:67629-67864  0         0           0           0           0          \n",
       "chr1:68056-68341  1         0           0           0           3          \n",
       "chr1:68963-70035 19         0           0           0           5          "
      ]
     },
     "metadata": {},
     "output_type": "display_data"
    }
   ],
   "source": [
    "head(mat_cnt_unrm)"
   ]
  },
  {
   "cell_type": "code",
   "execution_count": 22,
   "id": "0d7008a1-a69c-4273-8d19-ee86be10fb2c",
   "metadata": {},
   "outputs": [],
   "source": [
    "dge = DGEList(counts = mat_cnt_unrm, group = dat_col$Group)"
   ]
  },
  {
   "cell_type": "code",
   "execution_count": 7,
   "id": "035e23a9-a4d1-4f77-9e72-285e9ec0eaa8",
   "metadata": {},
   "outputs": [
    {
     "data": {
      "text/html": [
       "<pre class=language-r><code>function (y, ...) \n",
       "UseMethod(\"filterByExpr\")</code></pre>"
      ],
      "text/latex": [
       "\\begin{minted}{r}\n",
       "function (y, ...) \n",
       "UseMethod(\"filterByExpr\")\n",
       "\\end{minted}"
      ],
      "text/markdown": [
       "```r\n",
       "function (y, ...) \n",
       "UseMethod(\"filterByExpr\")\n",
       "```"
      ],
      "text/plain": [
       "function (y, ...) \n",
       "UseMethod(\"filterByExpr\")\n",
       "<bytecode: 0x5653eaea4048>\n",
       "<environment: namespace:edgeR>"
      ]
     },
     "metadata": {},
     "output_type": "display_data"
    }
   ],
   "source": [
    "filterByExpr"
   ]
  },
  {
   "cell_type": "code",
   "execution_count": 23,
   "id": "29d5ede4-1da6-449d-bd02-47e4190f708f",
   "metadata": {},
   "outputs": [
    {
     "name": "stdout",
     "output_type": "stream",
     "text": [
      "[1] 161187     10\n"
     ]
    },
    {
     "name": "stderr",
     "output_type": "stream",
     "text": [
      "No group or design set. Assuming all samples belong to one group.\n",
      "\n"
     ]
    },
    {
     "name": "stdout",
     "output_type": "stream",
     "text": [
      "[1] 149615     10\n"
     ]
    },
    {
     "data": {
      "text/html": [
       "<table class=\"dataframe\">\n",
       "<caption>A matrix: 6 × 10 of type int</caption>\n",
       "<thead>\n",
       "\t<tr><th></th><th scope=col>Input.rep1</th><th scope=col>Input.rep2</th><th scope=col>Input.rep3</th><th scope=col>Input.rep4</th><th scope=col>Input.rep5</th><th scope=col>Input.rep6</th><th scope=col>Output.rep1</th><th scope=col>Output.rep2</th><th scope=col>Output.rep3</th><th scope=col>Output.rep4</th></tr>\n",
       "</thead>\n",
       "<tbody>\n",
       "\t<tr><th scope=row>chr1:87574-88453</th><td>  61</td><td>  79</td><td>  94</td><td>  83</td><td>  78</td><td>  81</td><td>  11</td><td>   8</td><td>   7</td><td>  14</td></tr>\n",
       "\t<tr><th scope=row>chr1:267975-268142</th><td> 280</td><td> 353</td><td> 362</td><td> 335</td><td> 330</td><td> 298</td><td>  12</td><td>  44</td><td>  33</td><td>  46</td></tr>\n",
       "\t<tr><th scope=row>chr1:268732-269273</th><td>  58</td><td>  71</td><td>  79</td><td>  64</td><td>  76</td><td>  77</td><td>  12</td><td>   3</td><td>  10</td><td>  15</td></tr>\n",
       "\t<tr><th scope=row>chr1:778339-779268</th><td>7304</td><td>8576</td><td>8809</td><td>8458</td><td>8425</td><td>7842</td><td>2569</td><td>3656</td><td>3967</td><td>7288</td></tr>\n",
       "\t<tr><th scope=row>chr1:796049-796861</th><td> 119</td><td> 157</td><td> 152</td><td> 144</td><td> 145</td><td> 126</td><td>   6</td><td>  14</td><td>  15</td><td>  33</td></tr>\n",
       "\t<tr><th scope=row>chr1:797423-797975</th><td>  51</td><td>  73</td><td>  76</td><td>  75</td><td>  76</td><td>  61</td><td>   2</td><td>  11</td><td>   7</td><td>   8</td></tr>\n",
       "</tbody>\n",
       "</table>\n"
      ],
      "text/latex": [
       "A matrix: 6 × 10 of type int\n",
       "\\begin{tabular}{r|llllllllll}\n",
       "  & Input.rep1 & Input.rep2 & Input.rep3 & Input.rep4 & Input.rep5 & Input.rep6 & Output.rep1 & Output.rep2 & Output.rep3 & Output.rep4\\\\\n",
       "\\hline\n",
       "\tchr1:87574-88453 &   61 &   79 &   94 &   83 &   78 &   81 &   11 &    8 &    7 &   14\\\\\n",
       "\tchr1:267975-268142 &  280 &  353 &  362 &  335 &  330 &  298 &   12 &   44 &   33 &   46\\\\\n",
       "\tchr1:268732-269273 &   58 &   71 &   79 &   64 &   76 &   77 &   12 &    3 &   10 &   15\\\\\n",
       "\tchr1:778339-779268 & 7304 & 8576 & 8809 & 8458 & 8425 & 7842 & 2569 & 3656 & 3967 & 7288\\\\\n",
       "\tchr1:796049-796861 &  119 &  157 &  152 &  144 &  145 &  126 &    6 &   14 &   15 &   33\\\\\n",
       "\tchr1:797423-797975 &   51 &   73 &   76 &   75 &   76 &   61 &    2 &   11 &    7 &    8\\\\\n",
       "\\end{tabular}\n"
      ],
      "text/markdown": [
       "\n",
       "A matrix: 6 × 10 of type int\n",
       "\n",
       "| <!--/--> | Input.rep1 | Input.rep2 | Input.rep3 | Input.rep4 | Input.rep5 | Input.rep6 | Output.rep1 | Output.rep2 | Output.rep3 | Output.rep4 |\n",
       "|---|---|---|---|---|---|---|---|---|---|---|\n",
       "| chr1:87574-88453 |   61 |   79 |   94 |   83 |   78 |   81 |   11 |    8 |    7 |   14 |\n",
       "| chr1:267975-268142 |  280 |  353 |  362 |  335 |  330 |  298 |   12 |   44 |   33 |   46 |\n",
       "| chr1:268732-269273 |   58 |   71 |   79 |   64 |   76 |   77 |   12 |    3 |   10 |   15 |\n",
       "| chr1:778339-779268 | 7304 | 8576 | 8809 | 8458 | 8425 | 7842 | 2569 | 3656 | 3967 | 7288 |\n",
       "| chr1:796049-796861 |  119 |  157 |  152 |  144 |  145 |  126 |    6 |   14 |   15 |   33 |\n",
       "| chr1:797423-797975 |   51 |   73 |   76 |   75 |   76 |   61 |    2 |   11 |    7 |    8 |\n",
       "\n"
      ],
      "text/plain": [
       "                   Input.rep1 Input.rep2 Input.rep3 Input.rep4 Input.rep5\n",
       "chr1:87574-88453     61         79         94         83         78      \n",
       "chr1:267975-268142  280        353        362        335        330      \n",
       "chr1:268732-269273   58         71         79         64         76      \n",
       "chr1:778339-779268 7304       8576       8809       8458       8425      \n",
       "chr1:796049-796861  119        157        152        144        145      \n",
       "chr1:797423-797975   51         73         76         75         76      \n",
       "                   Input.rep6 Output.rep1 Output.rep2 Output.rep3 Output.rep4\n",
       "chr1:87574-88453     81         11           8           7          14       \n",
       "chr1:267975-268142  298         12          44          33          46       \n",
       "chr1:268732-269273   77         12           3          10          15       \n",
       "chr1:778339-779268 7842       2569        3656        3967        7288       \n",
       "chr1:796049-796861  126          6          14          15          33       \n",
       "chr1:797423-797975   61          2          11           7           8       "
      ]
     },
     "metadata": {},
     "output_type": "display_data"
    }
   ],
   "source": [
    "mat = mat_cnt_unrm\n",
    "print(dim(mat))\n",
    "\n",
    "idx = filterByExpr(mat, min.count=10)\n",
    "mat = mat[idx,]\n",
    "print(dim(mat))\n",
    "head(mat)"
   ]
  },
  {
   "cell_type": "code",
   "execution_count": 24,
   "id": "8e886196-488d-459b-a810-ba8a453a70e4",
   "metadata": {},
   "outputs": [
    {
     "name": "stdout",
     "output_type": "stream",
     "text": [
      "[1] 161187     10\n",
      "[1] 160372     10\n"
     ]
    },
    {
     "data": {
      "text/html": [
       "<table class=\"dataframe\">\n",
       "<caption>A matrix: 6 × 10 of type int</caption>\n",
       "<thead>\n",
       "\t<tr><th></th><th scope=col>Input.rep1</th><th scope=col>Input.rep2</th><th scope=col>Input.rep3</th><th scope=col>Input.rep4</th><th scope=col>Input.rep5</th><th scope=col>Input.rep6</th><th scope=col>Output.rep1</th><th scope=col>Output.rep2</th><th scope=col>Output.rep3</th><th scope=col>Output.rep4</th></tr>\n",
       "</thead>\n",
       "<tbody>\n",
       "\t<tr><th scope=row>chr1:68963-70035</th><td>  24</td><td>  29</td><td>  20</td><td>  25</td><td>  23</td><td>  19</td><td>   0</td><td>   0</td><td>   0</td><td>   5</td></tr>\n",
       "\t<tr><th scope=row>chr1:79151-79653</th><td>  24</td><td>  30</td><td>  43</td><td>  33</td><td>  32</td><td>  38</td><td>   0</td><td>   9</td><td>  11</td><td>   3</td></tr>\n",
       "\t<tr><th scope=row>chr1:87574-88453</th><td>  61</td><td>  79</td><td>  94</td><td>  83</td><td>  78</td><td>  81</td><td>  11</td><td>   8</td><td>   7</td><td>  14</td></tr>\n",
       "\t<tr><th scope=row>chr1:267975-268142</th><td> 280</td><td> 353</td><td> 362</td><td> 335</td><td> 330</td><td> 298</td><td>  12</td><td>  44</td><td>  33</td><td>  46</td></tr>\n",
       "\t<tr><th scope=row>chr1:268732-269273</th><td>  58</td><td>  71</td><td>  79</td><td>  64</td><td>  76</td><td>  77</td><td>  12</td><td>   3</td><td>  10</td><td>  15</td></tr>\n",
       "\t<tr><th scope=row>chr1:778339-779268</th><td>7304</td><td>8576</td><td>8809</td><td>8458</td><td>8425</td><td>7842</td><td>2569</td><td>3656</td><td>3967</td><td>7288</td></tr>\n",
       "</tbody>\n",
       "</table>\n"
      ],
      "text/latex": [
       "A matrix: 6 × 10 of type int\n",
       "\\begin{tabular}{r|llllllllll}\n",
       "  & Input.rep1 & Input.rep2 & Input.rep3 & Input.rep4 & Input.rep5 & Input.rep6 & Output.rep1 & Output.rep2 & Output.rep3 & Output.rep4\\\\\n",
       "\\hline\n",
       "\tchr1:68963-70035 &   24 &   29 &   20 &   25 &   23 &   19 &    0 &    0 &    0 &    5\\\\\n",
       "\tchr1:79151-79653 &   24 &   30 &   43 &   33 &   32 &   38 &    0 &    9 &   11 &    3\\\\\n",
       "\tchr1:87574-88453 &   61 &   79 &   94 &   83 &   78 &   81 &   11 &    8 &    7 &   14\\\\\n",
       "\tchr1:267975-268142 &  280 &  353 &  362 &  335 &  330 &  298 &   12 &   44 &   33 &   46\\\\\n",
       "\tchr1:268732-269273 &   58 &   71 &   79 &   64 &   76 &   77 &   12 &    3 &   10 &   15\\\\\n",
       "\tchr1:778339-779268 & 7304 & 8576 & 8809 & 8458 & 8425 & 7842 & 2569 & 3656 & 3967 & 7288\\\\\n",
       "\\end{tabular}\n"
      ],
      "text/markdown": [
       "\n",
       "A matrix: 6 × 10 of type int\n",
       "\n",
       "| <!--/--> | Input.rep1 | Input.rep2 | Input.rep3 | Input.rep4 | Input.rep5 | Input.rep6 | Output.rep1 | Output.rep2 | Output.rep3 | Output.rep4 |\n",
       "|---|---|---|---|---|---|---|---|---|---|---|\n",
       "| chr1:68963-70035 |   24 |   29 |   20 |   25 |   23 |   19 |    0 |    0 |    0 |    5 |\n",
       "| chr1:79151-79653 |   24 |   30 |   43 |   33 |   32 |   38 |    0 |    9 |   11 |    3 |\n",
       "| chr1:87574-88453 |   61 |   79 |   94 |   83 |   78 |   81 |   11 |    8 |    7 |   14 |\n",
       "| chr1:267975-268142 |  280 |  353 |  362 |  335 |  330 |  298 |   12 |   44 |   33 |   46 |\n",
       "| chr1:268732-269273 |   58 |   71 |   79 |   64 |   76 |   77 |   12 |    3 |   10 |   15 |\n",
       "| chr1:778339-779268 | 7304 | 8576 | 8809 | 8458 | 8425 | 7842 | 2569 | 3656 | 3967 | 7288 |\n",
       "\n"
      ],
      "text/plain": [
       "                   Input.rep1 Input.rep2 Input.rep3 Input.rep4 Input.rep5\n",
       "chr1:68963-70035     24         29         20         25         23      \n",
       "chr1:79151-79653     24         30         43         33         32      \n",
       "chr1:87574-88453     61         79         94         83         78      \n",
       "chr1:267975-268142  280        353        362        335        330      \n",
       "chr1:268732-269273   58         71         79         64         76      \n",
       "chr1:778339-779268 7304       8576       8809       8458       8425      \n",
       "                   Input.rep6 Output.rep1 Output.rep2 Output.rep3 Output.rep4\n",
       "chr1:68963-70035     19          0           0           0           5       \n",
       "chr1:79151-79653     38          0           9          11           3       \n",
       "chr1:87574-88453     81         11           8           7          14       \n",
       "chr1:267975-268142  298         12          44          33          46       \n",
       "chr1:268732-269273   77         12           3          10          15       \n",
       "chr1:778339-779268 7842       2569        3656        3967        7288       "
      ]
     },
     "metadata": {},
     "output_type": "display_data"
    }
   ],
   "source": [
    "mat = mat_cnt_unrm\n",
    "print(dim(mat))\n",
    "\n",
    "idx = filterByExpr(dge, min.count=10)\n",
    "mat = mat[idx,]\n",
    "print(dim(mat))\n",
    "head(mat)"
   ]
  },
  {
   "cell_type": "code",
   "execution_count": 33,
   "id": "42fb16cc-4b84-438a-9cc1-0514a8e0b9ab",
   "metadata": {},
   "outputs": [
    {
     "name": "stdout",
     "output_type": "stream",
     "text": [
      "[1] 161187     10\n",
      "[1] 160372     10\n"
     ]
    },
    {
     "data": {
      "text/html": [
       "<style>\n",
       ".dl-inline {width: auto; margin:0; padding: 0}\n",
       ".dl-inline>dt, .dl-inline>dd {float: none; width: auto; display: inline-block}\n",
       ".dl-inline>dt::after {content: \":\\0020\"; padding-right: .5ex}\n",
       ".dl-inline>dt:not(:first-of-type) {padding-left: .5ex}\n",
       "</style><dl class=dl-inline><dt>chr22:19722076-19724419</dt><dd>212417</dd><dt>chr22:20916785-20918382</dt><dd>203727</dd><dt>chr22:21641339-21643421</dt><dd>201135</dd><dt>chr9:120875658-120877919</dt><dd>184235</dd><dt>chr22:21001121-21002839</dt><dd>183976</dd><dt>chr19:54189133-54191376</dt><dd>169699</dd></dl>\n"
      ],
      "text/latex": [
       "\\begin{description*}\n",
       "\\item[chr22:19722076-19724419] 212417\n",
       "\\item[chr22:20916785-20918382] 203727\n",
       "\\item[chr22:21641339-21643421] 201135\n",
       "\\item[chr9:120875658-120877919] 184235\n",
       "\\item[chr22:21001121-21002839] 183976\n",
       "\\item[chr19:54189133-54191376] 169699\n",
       "\\end{description*}\n"
      ],
      "text/markdown": [
       "chr22:19722076-19724419\n",
       ":   212417chr22:20916785-20918382\n",
       ":   203727chr22:21641339-21643421\n",
       ":   201135chr9:120875658-120877919\n",
       ":   184235chr22:21001121-21002839\n",
       ":   183976chr19:54189133-54191376\n",
       ":   169699\n",
       "\n"
      ],
      "text/plain": [
       " chr22:19722076-19724419  chr22:20916785-20918382  chr22:21641339-21643421 \n",
       "                  212417                   203727                   201135 \n",
       "chr9:120875658-120877919  chr22:21001121-21002839  chr19:54189133-54191376 \n",
       "                  184235                   183976                   169699 "
      ]
     },
     "metadata": {},
     "output_type": "display_data"
    }
   ],
   "source": [
    "mat = mat_cnt_unrm\n",
    "vec = apply(mat, 1, sum)\n",
    "vec = sort(vec, decreasing = TRUE)\n",
    "\n",
    "vec_num_count = vec\n",
    "vec_txt_index = names(vec)\n",
    "\n",
    "mat = mat_cnt_unrm\n",
    "print(dim(mat))\n",
    "idx = filterByExpr(dge, min.count=10)\n",
    "mat = mat[idx,]\n",
    "print(dim(mat))\n",
    "\n",
    "vec_txt_filter = rownames(mat)\n",
    "\n",
    "head(vec)"
   ]
  },
  {
   "cell_type": "code",
   "execution_count": 34,
   "id": "86eaa5a8-3576-4c9e-a771-c472a702cb3c",
   "metadata": {},
   "outputs": [
    {
     "data": {
      "text/html": [
       "815"
      ],
      "text/latex": [
       "815"
      ],
      "text/markdown": [
       "815"
      ],
      "text/plain": [
       "[1] 815"
      ]
     },
     "metadata": {},
     "output_type": "display_data"
    }
   ],
   "source": [
    "161187-160372"
   ]
  },
  {
   "cell_type": "code",
   "execution_count": 29,
   "id": "c2eadfbd-4cca-4f7a-91db-64794672da9a",
   "metadata": {},
   "outputs": [
    {
     "data": {
      "text/html": [
       "<table class=\"dataframe\">\n",
       "<caption>A data.frame: 6 × 3</caption>\n",
       "<thead>\n",
       "\t<tr><th></th><th scope=col>CumSum</th><th scope=col>CumRow</th><th scope=col>Keep</th></tr>\n",
       "\t<tr><th></th><th scope=col>&lt;dbl&gt;</th><th scope=col>&lt;dbl&gt;</th><th scope=col>&lt;lgl&gt;</th></tr>\n",
       "</thead>\n",
       "<tbody>\n",
       "\t<tr><th scope=row>chr22:19722076-19724419</th><td>0.0002488438</td><td>6.203974e-06</td><td>TRUE</td></tr>\n",
       "\t<tr><th scope=row>chr22:20916785-20918382</th><td>0.0004875075</td><td>1.240795e-05</td><td>TRUE</td></tr>\n",
       "\t<tr><th scope=row>chr22:21641339-21643421</th><td>0.0007231346</td><td>1.861192e-05</td><td>TRUE</td></tr>\n",
       "\t<tr><th scope=row>chr9:120875658-120877919</th><td>0.0009389636</td><td>2.481590e-05</td><td>TRUE</td></tr>\n",
       "\t<tr><th scope=row>chr22:21001121-21002839</th><td>0.0011544892</td><td>3.101987e-05</td><td>TRUE</td></tr>\n",
       "\t<tr><th scope=row>chr19:54189133-54191376</th><td>0.0013532894</td><td>3.722385e-05</td><td>TRUE</td></tr>\n",
       "</tbody>\n",
       "</table>\n"
      ],
      "text/latex": [
       "A data.frame: 6 × 3\n",
       "\\begin{tabular}{r|lll}\n",
       "  & CumSum & CumRow & Keep\\\\\n",
       "  & <dbl> & <dbl> & <lgl>\\\\\n",
       "\\hline\n",
       "\tchr22:19722076-19724419 & 0.0002488438 & 6.203974e-06 & TRUE\\\\\n",
       "\tchr22:20916785-20918382 & 0.0004875075 & 1.240795e-05 & TRUE\\\\\n",
       "\tchr22:21641339-21643421 & 0.0007231346 & 1.861192e-05 & TRUE\\\\\n",
       "\tchr9:120875658-120877919 & 0.0009389636 & 2.481590e-05 & TRUE\\\\\n",
       "\tchr22:21001121-21002839 & 0.0011544892 & 3.101987e-05 & TRUE\\\\\n",
       "\tchr19:54189133-54191376 & 0.0013532894 & 3.722385e-05 & TRUE\\\\\n",
       "\\end{tabular}\n"
      ],
      "text/markdown": [
       "\n",
       "A data.frame: 6 × 3\n",
       "\n",
       "| <!--/--> | CumSum &lt;dbl&gt; | CumRow &lt;dbl&gt; | Keep &lt;lgl&gt; |\n",
       "|---|---|---|---|\n",
       "| chr22:19722076-19724419 | 0.0002488438 | 6.203974e-06 | TRUE |\n",
       "| chr22:20916785-20918382 | 0.0004875075 | 1.240795e-05 | TRUE |\n",
       "| chr22:21641339-21643421 | 0.0007231346 | 1.861192e-05 | TRUE |\n",
       "| chr9:120875658-120877919 | 0.0009389636 | 2.481590e-05 | TRUE |\n",
       "| chr22:21001121-21002839 | 0.0011544892 | 3.101987e-05 | TRUE |\n",
       "| chr19:54189133-54191376 | 0.0013532894 | 3.722385e-05 | TRUE |\n",
       "\n"
      ],
      "text/plain": [
       "                         CumSum       CumRow       Keep\n",
       "chr22:19722076-19724419  0.0002488438 6.203974e-06 TRUE\n",
       "chr22:20916785-20918382  0.0004875075 1.240795e-05 TRUE\n",
       "chr22:21641339-21643421  0.0007231346 1.861192e-05 TRUE\n",
       "chr9:120875658-120877919 0.0009389636 2.481590e-05 TRUE\n",
       "chr22:21001121-21002839  0.0011544892 3.101987e-05 TRUE\n",
       "chr19:54189133-54191376  0.0013532894 3.722385e-05 TRUE"
      ]
     },
     "metadata": {},
     "output_type": "display_data"
    }
   ],
   "source": [
    "vec = vec_num_count\n",
    "dat = data.frame(\n",
    "    CumSum = cumsum(vec)/sum(vec),\n",
    "    CumRow = 1:length(vec)/length(vec)\n",
    ")\n",
    "\n",
    "vec = rownames(dat)\n",
    "dat$Keep = vec %in% vec_txt_filter\n",
    "    \n",
    "head(dat)"
   ]
  },
  {
   "cell_type": "code",
   "execution_count": 36,
   "id": "8f418eae-81e7-4c55-954a-dd9a64d7e83a",
   "metadata": {},
   "outputs": [
    {
     "name": "stdout",
     "output_type": "stream",
     "text": [
      "[1] 0.9999944\n",
      "[1] 0.9964389\n"
     ]
    },
    {
     "data": {
      "text/html": [
       "<table class=\"dataframe\">\n",
       "<caption>A data.frame: 6 × 3</caption>\n",
       "<thead>\n",
       "\t<tr><th></th><th scope=col>CumSum</th><th scope=col>CumRow</th><th scope=col>Keep</th></tr>\n",
       "\t<tr><th></th><th scope=col>&lt;dbl&gt;</th><th scope=col>&lt;dbl&gt;</th><th scope=col>&lt;lgl&gt;</th></tr>\n",
       "</thead>\n",
       "<tbody>\n",
       "\t<tr><th scope=row>chr2:111549275-111549975</th><td>0.9999819</td><td>0.9950740</td><td>TRUE</td></tr>\n",
       "\t<tr><th scope=row>chr15:30149993-30150189</th><td>0.9999823</td><td>0.9951051</td><td>TRUE</td></tr>\n",
       "\t<tr><th scope=row>chr1:143905314-143905541</th><td>0.9999827</td><td>0.9951299</td><td>TRUE</td></tr>\n",
       "\t<tr><th scope=row>chr7:74765537-74766186</th><td>0.9999830</td><td>0.9951547</td><td>TRUE</td></tr>\n",
       "\t<tr><th scope=row>chr4:99118240-99118477</th><td>0.9999840</td><td>0.9952353</td><td>TRUE</td></tr>\n",
       "\t<tr><th scope=row>chr6:32666409-32666882</th><td>0.9999944</td><td>0.9964389</td><td>TRUE</td></tr>\n",
       "</tbody>\n",
       "</table>\n"
      ],
      "text/latex": [
       "A data.frame: 6 × 3\n",
       "\\begin{tabular}{r|lll}\n",
       "  & CumSum & CumRow & Keep\\\\\n",
       "  & <dbl> & <dbl> & <lgl>\\\\\n",
       "\\hline\n",
       "\tchr2:111549275-111549975 & 0.9999819 & 0.9950740 & TRUE\\\\\n",
       "\tchr15:30149993-30150189 & 0.9999823 & 0.9951051 & TRUE\\\\\n",
       "\tchr1:143905314-143905541 & 0.9999827 & 0.9951299 & TRUE\\\\\n",
       "\tchr7:74765537-74766186 & 0.9999830 & 0.9951547 & TRUE\\\\\n",
       "\tchr4:99118240-99118477 & 0.9999840 & 0.9952353 & TRUE\\\\\n",
       "\tchr6:32666409-32666882 & 0.9999944 & 0.9964389 & TRUE\\\\\n",
       "\\end{tabular}\n"
      ],
      "text/markdown": [
       "\n",
       "A data.frame: 6 × 3\n",
       "\n",
       "| <!--/--> | CumSum &lt;dbl&gt; | CumRow &lt;dbl&gt; | Keep &lt;lgl&gt; |\n",
       "|---|---|---|---|\n",
       "| chr2:111549275-111549975 | 0.9999819 | 0.9950740 | TRUE |\n",
       "| chr15:30149993-30150189 | 0.9999823 | 0.9951051 | TRUE |\n",
       "| chr1:143905314-143905541 | 0.9999827 | 0.9951299 | TRUE |\n",
       "| chr7:74765537-74766186 | 0.9999830 | 0.9951547 | TRUE |\n",
       "| chr4:99118240-99118477 | 0.9999840 | 0.9952353 | TRUE |\n",
       "| chr6:32666409-32666882 | 0.9999944 | 0.9964389 | TRUE |\n",
       "\n"
      ],
      "text/plain": [
       "                         CumSum    CumRow    Keep\n",
       "chr2:111549275-111549975 0.9999819 0.9950740 TRUE\n",
       "chr15:30149993-30150189  0.9999823 0.9951051 TRUE\n",
       "chr1:143905314-143905541 0.9999827 0.9951299 TRUE\n",
       "chr7:74765537-74766186   0.9999830 0.9951547 TRUE\n",
       "chr4:99118240-99118477   0.9999840 0.9952353 TRUE\n",
       "chr6:32666409-32666882   0.9999944 0.9964389 TRUE"
      ]
     },
     "metadata": {},
     "output_type": "display_data"
    }
   ],
   "source": [
    "tmp = dat %>% dplyr::filter(Keep)\n",
    "num_y = max(tmp$CumSum)\n",
    "num_x = max(tmp$CumRow)\n",
    "\n",
    "print(num_y)\n",
    "print(num_x)\n",
    "tail(tmp)"
   ]
  },
  {
   "cell_type": "code",
   "execution_count": 37,
   "id": "6e0543f4-c9ef-4df0-8d88-a98d137f6665",
   "metadata": {},
   "outputs": [
    {
     "data": {
      "image/png": "[encoded data removed]",
      "text/plain": [
       "plot without title"
      ]
     },
     "metadata": {
      "image/png": {
       "height": 420,
       "width": 420
      }
     },
     "output_type": "display_data"
    }
   ],
   "source": [
    "ggplot(dat, aes(x=CumRow, y = CumSum)) + \n",
    "    geom_line() + \n",
    "    geom_vline(xintercept = num_x, color=\"red\") +\n",
    "    geom_hline(yintercept = num_y, color=\"red\") +\n",
    "    labs(x = \"% Region covered\", y = \"% Fragment Count\") +\n",
    "    theme_cowplot() + \n",
    "    background_grid()"
   ]
  },
  {
   "cell_type": "code",
   "execution_count": null,
   "id": "52b250e7-d402-4f19-889a-0e929acddef2",
   "metadata": {},
   "outputs": [],
   "source": []
  },
  {
   "cell_type": "code",
   "execution_count": null,
   "id": "86bc42cd-83b0-4993-bcf4-b0f0cea775cc",
   "metadata": {},
   "outputs": [],
   "source": []
  },
  {
   "cell_type": "code",
   "execution_count": 11,
   "id": "fad567ed-2b6c-435e-947c-67b68095c5c7",
   "metadata": {},
   "outputs": [
    {
     "name": "stdout",
     "output_type": "stream",
     "text": [
      "[1] 161187     10\n"
     ]
    },
    {
     "ename": "ERROR",
     "evalue": "Error in loadNamespace(x): there is no package called ‘genefilter’\n",
     "output_type": "error",
     "traceback": [
      "Error in loadNamespace(x): there is no package called ‘genefilter’\nTraceback:\n",
      "1. selectGenes(mat, min.count = 10, N = 0.9)",
      "2. loadNamespace(x)   # at line 10 of file <text>",
      "3. withRestarts(stop(cond), retry_loadNamespace = function() NULL)",
      "4. withOneRestart(expr, restarts[[1L]])",
      "5. doWithOneRestart(return(expr), restart)"
     ]
    }
   ],
   "source": [
    "selectGenes <- function(counts, min.count=10, N=0.90){\n",
    " \n",
    "  lib.size <- colSums(counts)\n",
    "  MedianLibSize <- median(lib.size)\n",
    "  CPM.Cutoff <- min.count / MedianLibSize*1e6\n",
    "  CPM <- edgeR::cpm(counts,lib.size=lib.size)\n",
    " \n",
    "  min.samples <- round(N * ncol(counts))\n",
    " \n",
    "  f1 <- genefilter::kOverA(min.samples, CPM.Cutoff)\n",
    "  flist <- genefilter::filterfun(f1)\n",
    "  keep <- genefilter::genefilter(CPM, flist)\n",
    " \n",
    "  ## the same as:\n",
    "  #keep <- apply(CPM, 1, function(x, n = min.samples){\n",
    "  #  t = sum(x >= CPM.Cutoff) >= n\n",
    "  #  t\n",
    "  #})\n",
    " \n",
    "  return(keep)\n",
    "}\n",
    "\n",
    "mat = mat_cnt_unrm\n",
    "print(dim(mat))\n",
    "idx = selectGenes(mat, min.count=10, N=0.90)\n",
    "mat = mat[idx,]\n",
    "print(dim(mat))"
   ]
  },
  {
   "cell_type": "code",
   "execution_count": 12,
   "id": "a08fc144-ec0c-45d7-935b-2b5f8de52a73",
   "metadata": {},
   "outputs": [
    {
     "ename": "ERROR",
     "evalue": "Error in library(genefilter): there is no package called ‘genefilter’\n",
     "output_type": "error",
     "traceback": [
      "Error in library(genefilter): there is no package called ‘genefilter’\nTraceback:\n",
      "1. library(genefilter)"
     ]
    }
   ],
   "source": [
    "library(genefilter)"
   ]
  },
  {
   "cell_type": "code",
   "execution_count": 13,
   "id": "6f09cc00-1bfe-4287-94c2-1927c768f296",
   "metadata": {},
   "outputs": [
    {
     "ename": "ERROR",
     "evalue": "Error in eval(expr, envir, enclos): object 'MinSampleSize' not found\n",
     "output_type": "error",
     "traceback": [
      "Error in eval(expr, envir, enclos): object 'MinSampleSize' not found\nTraceback:\n"
     ]
    }
   ],
   "source": [
    "## part of filterByExpr source code\n",
    "large.n = 10 # default\n",
    "min.prop = 0.7  # default\n",
    "MinSampleSize <- large.n + (MinSampleSize-large.n)*min.prop\n",
    "MinSampleSize"
   ]
  },
  {
   "cell_type": "code",
   "execution_count": 14,
   "id": "90380833-a7f3-4861-bea8-8128a822ce55",
   "metadata": {},
   "outputs": [
    {
     "data": {
      "text/html": [
       "<pre class=language-r><code>new(\"standardGeneric\", .Data = function (x, na.rm = FALSE, type = 7) \n",
       "standardGeneric(\"IQR\"), generic = structure(\"IQR\", package = \"BiocGenerics\"), \n",
       "<span style=white-space:pre-wrap>    package = \"BiocGenerics\", group = list(), valueClass = character(0), </span>\n",
       "<span style=white-space:pre-wrap>    signature = \"x\", default = new(\"derivedDefaultMethod\", .Data = function (x, </span>\n",
       "<span style=white-space:pre-wrap>        na.rm = FALSE, type = 7) </span>\n",
       "<span style=white-space:pre-wrap>    diff(quantile(as.numeric(x), c(0.25, 0.75), na.rm = na.rm, </span>\n",
       "<span style=white-space:pre-wrap>        names = FALSE, type = type)), target = new(\"signature\", </span>\n",
       "<span style=white-space:pre-wrap>        .Data = \"ANY\", names = \"x\", package = \"methods\"), defined = new(\"signature\", </span>\n",
       "<span style=white-space:pre-wrap>        .Data = \"ANY\", names = \"x\", package = \"methods\"), generic = structure(\"IQR\", package = \"stats\")), </span>\n",
       "<span style=white-space:pre-wrap>    skeleton = (new(\"derivedDefaultMethod\", .Data = function (x, </span>\n",
       "<span style=white-space:pre-wrap>        na.rm = FALSE, type = 7) </span>\n",
       "<span style=white-space:pre-wrap>    diff(quantile(as.numeric(x), c(0.25, 0.75), na.rm = na.rm, </span>\n",
       "<span style=white-space:pre-wrap>        names = FALSE, type = type)), target = new(\"signature\", </span>\n",
       "<span style=white-space:pre-wrap>        .Data = \"ANY\", names = \"x\", package = \"methods\"), defined = new(\"signature\", </span>\n",
       "<span style=white-space:pre-wrap>        .Data = \"ANY\", names = \"x\", package = \"methods\"), generic = structure(\"IQR\", package = \"stats\")))(x, </span>\n",
       "<span style=white-space:pre-wrap>        na.rm, type))</span></code></pre>"
      ],
      "text/latex": [
       "\\begin{minted}{r}\n",
       "new(\"standardGeneric\", .Data = function (x, na.rm = FALSE, type = 7) \n",
       "standardGeneric(\"IQR\"), generic = structure(\"IQR\", package = \"BiocGenerics\"), \n",
       "    package = \"BiocGenerics\", group = list(), valueClass = character(0), \n",
       "    signature = \"x\", default = new(\"derivedDefaultMethod\", .Data = function (x, \n",
       "        na.rm = FALSE, type = 7) \n",
       "    diff(quantile(as.numeric(x), c(0.25, 0.75), na.rm = na.rm, \n",
       "        names = FALSE, type = type)), target = new(\"signature\", \n",
       "        .Data = \"ANY\", names = \"x\", package = \"methods\"), defined = new(\"signature\", \n",
       "        .Data = \"ANY\", names = \"x\", package = \"methods\"), generic = structure(\"IQR\", package = \"stats\")), \n",
       "    skeleton = (new(\"derivedDefaultMethod\", .Data = function (x, \n",
       "        na.rm = FALSE, type = 7) \n",
       "    diff(quantile(as.numeric(x), c(0.25, 0.75), na.rm = na.rm, \n",
       "        names = FALSE, type = type)), target = new(\"signature\", \n",
       "        .Data = \"ANY\", names = \"x\", package = \"methods\"), defined = new(\"signature\", \n",
       "        .Data = \"ANY\", names = \"x\", package = \"methods\"), generic = structure(\"IQR\", package = \"stats\")))(x, \n",
       "        na.rm, type))\n",
       "\\end{minted}"
      ],
      "text/markdown": [
       "```r\n",
       "new(\"standardGeneric\", .Data = function (x, na.rm = FALSE, type = 7) \n",
       "standardGeneric(\"IQR\"), generic = structure(\"IQR\", package = \"BiocGenerics\"), \n",
       "    package = \"BiocGenerics\", group = list(), valueClass = character(0), \n",
       "    signature = \"x\", default = new(\"derivedDefaultMethod\", .Data = function (x, \n",
       "        na.rm = FALSE, type = 7) \n",
       "    diff(quantile(as.numeric(x), c(0.25, 0.75), na.rm = na.rm, \n",
       "        names = FALSE, type = type)), target = new(\"signature\", \n",
       "        .Data = \"ANY\", names = \"x\", package = \"methods\"), defined = new(\"signature\", \n",
       "        .Data = \"ANY\", names = \"x\", package = \"methods\"), generic = structure(\"IQR\", package = \"stats\")), \n",
       "    skeleton = (new(\"derivedDefaultMethod\", .Data = function (x, \n",
       "        na.rm = FALSE, type = 7) \n",
       "    diff(quantile(as.numeric(x), c(0.25, 0.75), na.rm = na.rm, \n",
       "        names = FALSE, type = type)), target = new(\"signature\", \n",
       "        .Data = \"ANY\", names = \"x\", package = \"methods\"), defined = new(\"signature\", \n",
       "        .Data = \"ANY\", names = \"x\", package = \"methods\"), generic = structure(\"IQR\", package = \"stats\")))(x, \n",
       "        na.rm, type))\n",
       "```"
      ],
      "text/plain": [
       "new(\"standardGeneric\", .Data = function (x, na.rm = FALSE, type = 7) \n",
       "standardGeneric(\"IQR\"), generic = \"IQR\", package = \"BiocGenerics\", \n",
       "    group = list(), valueClass = character(0), signature = \"x\", \n",
       "    default = new(\"derivedDefaultMethod\", .Data = function (x, \n",
       "        na.rm = FALSE, type = 7) \n",
       "    diff(quantile(as.numeric(x), c(0.25, 0.75), na.rm = na.rm, \n",
       "        names = FALSE, type = type)), target = new(\"signature\", \n",
       "        .Data = \"ANY\", names = \"x\", package = \"methods\"), defined = new(\"signature\", \n",
       "        .Data = \"ANY\", names = \"x\", package = \"methods\"), generic = \"IQR\"), \n",
       "    skeleton = (new(\"derivedDefaultMethod\", .Data = function (x, \n",
       "        na.rm = FALSE, type = 7) \n",
       "    diff(quantile(as.numeric(x), c(0.25, 0.75), na.rm = na.rm, \n",
       "        names = FALSE, type = type)), target = new(\"signature\", \n",
       "        .Data = \"ANY\", names = \"x\", package = \"methods\"), defined = new(\"signature\", \n",
       "        .Data = \"ANY\", names = \"x\", package = \"methods\"), generic = \"IQR\"))(x, \n",
       "        na.rm, type))\n",
       "<bytecode: 0x5653d20b0290>\n",
       "<environment: 0x5653d20be038>\n",
       "attr(,\"generic\")\n",
       "[1] \"IQR\"\n",
       "attr(,\"generic\")attr(,\"package\")\n",
       "[1] \"BiocGenerics\"\n",
       "attr(,\"package\")\n",
       "[1] \"BiocGenerics\"\n",
       "attr(,\"group\")\n",
       "list()\n",
       "attr(,\"valueClass\")\n",
       "character(0)\n",
       "attr(,\"signature\")\n",
       "[1] \"x\"\n",
       "attr(,\"default\")\n",
       "Method Definition (Class \"derivedDefaultMethod\"):\n",
       "\n",
       "function (x, na.rm = FALSE, type = 7) \n",
       "diff(quantile(as.numeric(x), c(0.25, 0.75), na.rm = na.rm, names = FALSE, \n",
       "    type = type))\n",
       "<bytecode: 0x5653d20bc978>\n",
       "<environment: namespace:stats>\n",
       "\n",
       "Signatures:\n",
       "        x    \n",
       "target  \"ANY\"\n",
       "defined \"ANY\"\n",
       "attr(,\"skeleton\")\n",
       "(new(\"derivedDefaultMethod\", .Data = function (x, na.rm = FALSE, \n",
       "    type = 7) \n",
       "diff(quantile(as.numeric(x), c(0.25, 0.75), na.rm = na.rm, names = FALSE, \n",
       "    type = type)), target = new(\"signature\", .Data = \"ANY\", names = \"x\", \n",
       "    package = \"methods\"), defined = new(\"signature\", .Data = \"ANY\", \n",
       "    names = \"x\", package = \"methods\"), generic = \"IQR\"))(x, na.rm, \n",
       "    type)\n",
       "attr(,\"class\")\n",
       "[1] \"standardGeneric\"\n",
       "attr(,\"class\")attr(,\"package\")\n",
       "[1] \"methods\""
      ]
     },
     "metadata": {},
     "output_type": "display_data"
    }
   ],
   "source": [
    "IQR"
   ]
  },
  {
   "cell_type": "code",
   "execution_count": null,
   "id": "eb25ceb5-a74c-4470-bf64-2fa92d38ea2c",
   "metadata": {},
   "outputs": [],
   "source": []
  }
 ],
 "metadata": {
  "kernelspec": {
   "display_name": "R",
   "language": "R",
   "name": "ir"
  },
  "language_info": {
   "codemirror_mode": "r",
   "file_extension": ".r",
   "mimetype": "text/x-r-source",
   "name": "R",
   "pygments_lexer": "r",
   "version": "4.3.3"
  }
 },
 "nbformat": 4,
 "nbformat_minor": 5
}
