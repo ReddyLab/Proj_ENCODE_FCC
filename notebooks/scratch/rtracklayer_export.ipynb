{
 "cells": [
  {
   "cell_type": "code",
   "execution_count": 16,
   "id": "c1225b6f",
   "metadata": {},
   "outputs": [],
   "source": [
    "suppressMessages(suppressWarnings(library(\"tidyverse\")))\n",
    "suppressMessages(suppressWarnings(library(\"GenomicRanges\")))\n",
    "suppressMessages(suppressWarnings(library(\"rtracklayer\")))\n",
    "suppressMessages(suppressWarnings(library(\"BSgenome.Hsapiens.UCSC.hg38\")))"
   ]
  },
  {
   "cell_type": "markdown",
   "id": "a3d9970b",
   "metadata": {},
   "source": [
    "Introduction to GRanges for genomics analysis  \n",
    "https://research.stowers.org/cws/CompGenomics/Tutorial/GRanges/guide.html\n",
    "\n",
    "Using information from BSgenome packages\n",
    "https://kasperdanielhansen.github.io/genbioconductor/html/GenomicRanges_seqinfo.html"
   ]
  },
  {
   "cell_type": "code",
   "execution_count": 2,
   "id": "6fd0d4f4",
   "metadata": {},
   "outputs": [
    {
     "data": {
      "text/plain": [
       "Human genome:\n",
       "# organism: Homo sapiens (Human)\n",
       "# genome: hg38\n",
       "# provider: UCSC\n",
       "# release date: Feb 2019\n",
       "# 640 sequences:\n",
       "#   chr1                    chr2                    chr3                   \n",
       "#   chr4                    chr5                    chr6                   \n",
       "#   chr7                    chr8                    chr9                   \n",
       "#   chr10                   chr11                   chr12                  \n",
       "#   chr13                   chr14                   chr15                  \n",
       "#   ...                     ...                     ...                    \n",
       "#   chr19_KV575254v1_alt    chr19_KV575255v1_alt    chr19_KV575256v1_alt   \n",
       "#   chr19_KV575257v1_alt    chr19_KV575258v1_alt    chr19_KV575259v1_alt   \n",
       "#   chr19_KV575260v1_alt    chr22_KN196485v1_alt    chr22_KN196486v1_alt   \n",
       "#   chr22_KQ458387v1_alt    chr22_KQ458388v1_alt    chr22_KQ759761v1_alt   \n",
       "#   chrX_KV766199v1_alt                                                    \n",
       "# (use 'seqnames()' to see all the sequence names, use the '$' or '[[' operator\n",
       "# to access a given sequence)"
      ]
     },
     "metadata": {},
     "output_type": "display_data"
    }
   ],
   "source": [
    "genome_hg38 = BSgenome.Hsapiens.UCSC.hg38\n",
    "genome_hg38"
   ]
  },
  {
   "cell_type": "markdown",
   "id": "1017c8df",
   "metadata": {},
   "source": [
    "## Create a GRange Object"
   ]
  },
  {
   "cell_type": "markdown",
   "id": "298f0ffc",
   "metadata": {},
   "source": [
    "[A quick introduction to GRanges and GRangesList objects](https://bioconductor.org/packages/devel/bioc/vignettes/GenomicRanges/inst/doc/GRanges_and_GRangesList_slides.pdf)\n",
    "```\n",
    "- Each genomic range is described by a chromosome name, a start, an end, and a\n",
    "strand.\n",
    "- start and end are both 1-based positions relative to the 5' end of the plus strand\n",
    "of the chromosome, even when the range is on the minus strand.\n",
    "- start and end are both considered to be included in the interval (except when the\n",
    "range is empty).\n",
    "- The width of the range is the number of genomic positions included in it. So\n",
    "width = end - start + 1.\n",
    "- end is always >= start, except for empty ranges (a.k.a. zero-width ranges) where\n",
    "end = start - 1.\n",
    "Note that the start is always the leftmost position and the end the rightmost, even\n",
    "when the range is on the minus strand.\n",
    "Gotcha: A TSS is at the end of the range associated with a transcript located on the\n",
    "minus strand.\n",
    "```"
   ]
  },
  {
   "cell_type": "markdown",
   "id": "bf791b6f",
   "metadata": {},
   "source": [
    "### Note that IRanges/GRanges are 1-based"
   ]
  },
  {
   "cell_type": "code",
   "execution_count": 26,
   "id": "9f4e8e62",
   "metadata": {},
   "outputs": [
    {
     "data": {
      "text/plain": [
       "IRanges object with 3 ranges and 0 metadata columns:\n",
       "          start       end     width\n",
       "      <integer> <integer> <integer>\n",
       "  [1]         5        10         6\n",
       "  [2]        15        45        31\n",
       "  [3]        46        46         1"
      ]
     },
     "metadata": {},
     "output_type": "display_data"
    }
   ],
   "source": [
    "ir = IRanges(\n",
    "        start=c( 5,15, 46),\n",
    "        end  =c(10,45, 46))\n",
    "ir"
   ]
  },
  {
   "cell_type": "code",
   "execution_count": 27,
   "id": "36c15bd8",
   "metadata": {},
   "outputs": [
    {
     "name": "stdout",
     "output_type": "stream",
     "text": [
      "GRanges object with 3 ranges and 1 metadata column:\n",
      "      seqnames    ranges strand |     score\n",
      "         <Rle> <IRanges>  <Rle> | <numeric>\n",
      "  [1]     chr1      5-10      + |        10\n",
      "  [2]     chr1     15-45      + |        20\n",
      "  [3]     chr1        46      + |        30\n",
      "  -------\n",
      "  seqinfo: 640 sequences from hg38 genome\n"
     ]
    }
   ],
   "source": [
    "gr = GRanges(\n",
    "    seqnames=\"chr1\",                            \n",
    "    ranges=IRanges(\n",
    "        start=c( 5,15, 46),\n",
    "        end  =c(10,45, 46)), \n",
    "    strand=\"+\",\n",
    "    seqlengths = seqlengths(genome_hg38))\n",
    "\n",
    "mcols(gr)$score = c(10, 20, 30)\n",
    "genome(gr) = \"hg38\"\n",
    "\n",
    "print(gr)"
   ]
  },
  {
   "cell_type": "code",
   "execution_count": 28,
   "id": "314e22c8",
   "metadata": {},
   "outputs": [
    {
     "data": {
      "text/plain": [
       "Seqinfo object with 640 sequences from hg38 genome:\n",
       "  seqnames             seqlengths isCircular genome\n",
       "  chr1                  248956422       <NA>   hg38\n",
       "  chr2                  242193529       <NA>   hg38\n",
       "  chr3                  198295559       <NA>   hg38\n",
       "  chr4                  190214555       <NA>   hg38\n",
       "  chr5                  181538259       <NA>   hg38\n",
       "  ...                         ...        ...    ...\n",
       "  chr22_KN196486v1_alt     153027       <NA>   hg38\n",
       "  chr22_KQ458387v1_alt     155930       <NA>   hg38\n",
       "  chr22_KQ458388v1_alt     174749       <NA>   hg38\n",
       "  chr22_KQ759761v1_alt     145162       <NA>   hg38\n",
       "  chrX_KV766199v1_alt      188004       <NA>   hg38"
      ]
     },
     "metadata": {},
     "output_type": "display_data"
    }
   ],
   "source": [
    "seqinfo(gr)"
   ]
  },
  {
   "cell_type": "markdown",
   "id": "93578f11",
   "metadata": {},
   "source": [
    "## Export the object with different file format using rtracklayer"
   ]
  },
  {
   "cell_type": "code",
   "execution_count": 29,
   "id": "e68e1a3b",
   "metadata": {},
   "outputs": [],
   "source": [
    "export(gr, \"test.bed\", format = \"Bed\")"
   ]
  },
  {
   "cell_type": "code",
   "execution_count": 30,
   "id": "b040aa24",
   "metadata": {},
   "outputs": [
    {
     "data": {
      "text/html": [
       "<table class=\"dataframe\">\n",
       "<caption>A spec_tbl_df: 3 × 6</caption>\n",
       "<thead>\n",
       "\t<tr><th scope=col>Chrom</th><th scope=col>Start</th><th scope=col>End</th><th scope=col>Name</th><th scope=col>Score</th><th scope=col>Strand</th></tr>\n",
       "\t<tr><th scope=col>&lt;chr&gt;</th><th scope=col>&lt;dbl&gt;</th><th scope=col>&lt;dbl&gt;</th><th scope=col>&lt;chr&gt;</th><th scope=col>&lt;dbl&gt;</th><th scope=col>&lt;chr&gt;</th></tr>\n",
       "</thead>\n",
       "<tbody>\n",
       "\t<tr><td>chr1</td><td> 4</td><td>10</td><td>.</td><td>10</td><td>+</td></tr>\n",
       "\t<tr><td>chr1</td><td>14</td><td>45</td><td>.</td><td>20</td><td>+</td></tr>\n",
       "\t<tr><td>chr1</td><td>45</td><td>46</td><td>.</td><td>30</td><td>+</td></tr>\n",
       "</tbody>\n",
       "</table>\n"
      ],
      "text/latex": [
       "A spec\\_tbl\\_df: 3 × 6\n",
       "\\begin{tabular}{llllll}\n",
       " Chrom & Start & End & Name & Score & Strand\\\\\n",
       " <chr> & <dbl> & <dbl> & <chr> & <dbl> & <chr>\\\\\n",
       "\\hline\n",
       "\t chr1 &  4 & 10 & . & 10 & +\\\\\n",
       "\t chr1 & 14 & 45 & . & 20 & +\\\\\n",
       "\t chr1 & 45 & 46 & . & 30 & +\\\\\n",
       "\\end{tabular}\n"
      ],
      "text/markdown": [
       "\n",
       "A spec_tbl_df: 3 × 6\n",
       "\n",
       "| Chrom &lt;chr&gt; | Start &lt;dbl&gt; | End &lt;dbl&gt; | Name &lt;chr&gt; | Score &lt;dbl&gt; | Strand &lt;chr&gt; |\n",
       "|---|---|---|---|---|---|\n",
       "| chr1 |  4 | 10 | . | 10 | + |\n",
       "| chr1 | 14 | 45 | . | 20 | + |\n",
       "| chr1 | 45 | 46 | . | 30 | + |\n",
       "\n"
      ],
      "text/plain": [
       "  Chrom Start End Name Score Strand\n",
       "1 chr1   4    10  .    10    +     \n",
       "2 chr1  14    45  .    20    +     \n",
       "3 chr1  45    46  .    30    +     "
      ]
     },
     "metadata": {},
     "output_type": "display_data"
    }
   ],
   "source": [
    "dat = read_tsv(\n",
    "    \"test.bed\", \n",
    "    col_names=c(\"Chrom\", \"Start\", \"End\", \"Name\", \"Score\", \"Strand\"), \n",
    "    show_col_types=FALSE)\n",
    "dat"
   ]
  },
  {
   "cell_type": "markdown",
   "id": "4c50978d",
   "metadata": {},
   "source": [
    "if the seqInfo/seqlenths is not provided, the below error appear:\n",
    "```\n",
    "Error in .local(object, con, format, ...): Unable to determine seqlengths; either specify 'seqlengths' or specify a genome on 'object' that is known to BSgenome or UCSC\n",
    "Traceback:\n",
    "\n",
    "1. export(gr, \"test.bw\", format = \"BigWig\")\n",
    "2. export(gr, \"test.bw\", format = \"BigWig\")\n",
    "3. export(object, FileForFormat(con, format), ...)\n",
    "4. export(object, FileForFormat(con, format), ...)\n",
    "5. .local(object, con, format, ...)\n",
    "6. stop(\"Unable to determine seqlengths; either specify \", \"'seqlengths' or specify a genome on 'object' that \", \n",
    " .     \"is known to BSgenome or UCSC\")\n",
    "```"
   ]
  },
  {
   "cell_type": "code",
   "execution_count": 31,
   "id": "0914b9e0",
   "metadata": {},
   "outputs": [],
   "source": [
    "export(gr, \"test.bw\", format = \"BigWig\")"
   ]
  },
  {
   "cell_type": "code",
   "execution_count": null,
   "id": "0286a143",
   "metadata": {},
   "outputs": [],
   "source": []
  }
 ],
 "metadata": {
  "kernelspec": {
   "display_name": "R",
   "language": "R",
   "name": "ir"
  },
  "language_info": {
   "codemirror_mode": "r",
   "file_extension": ".r",
   "mimetype": "text/x-r-source",
   "name": "R",
   "pygments_lexer": "r",
   "version": "4.2.0"
  }
 },
 "nbformat": 4,
 "nbformat_minor": 5
}
