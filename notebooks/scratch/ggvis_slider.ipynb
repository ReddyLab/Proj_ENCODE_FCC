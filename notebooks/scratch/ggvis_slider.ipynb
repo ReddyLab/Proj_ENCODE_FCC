{
 "cells": [
  {
   "cell_type": "code",
   "execution_count": 1,
   "id": "15394203-ed62-4986-8d09-437ecc186c25",
   "metadata": {},
   "outputs": [
    {
     "name": "stdout",
     "output_type": "stream",
     "text": [
      "[1] 1\n"
     ]
    }
   ],
   "source": [
    "print(1)"
   ]
  },
  {
   "cell_type": "code",
   "execution_count": 2,
   "id": "138e5488-0f08-44d2-8862-f90f66e3cb33",
   "metadata": {},
   "outputs": [
    {
     "name": "stderr",
     "output_type": "stream",
     "text": [
      "── \u001b[1mAttaching packages\u001b[22m ──────────────────────────────────────────────────────────────────────────────────── tidyverse 1.3.1 ──\n",
      "\n",
      "\u001b[32m✔\u001b[39m \u001b[34mggplot2\u001b[39m 3.3.5     \u001b[32m✔\u001b[39m \u001b[34mpurrr  \u001b[39m 0.3.4\n",
      "\u001b[32m✔\u001b[39m \u001b[34mtibble \u001b[39m 3.1.6     \u001b[32m✔\u001b[39m \u001b[34mdplyr  \u001b[39m 1.0.8\n",
      "\u001b[32m✔\u001b[39m \u001b[34mtidyr  \u001b[39m 1.2.0     \u001b[32m✔\u001b[39m \u001b[34mstringr\u001b[39m 1.4.0\n",
      "\u001b[32m✔\u001b[39m \u001b[34mreadr  \u001b[39m 2.1.2     \u001b[32m✔\u001b[39m \u001b[34mforcats\u001b[39m 0.5.1\n",
      "\n",
      "── \u001b[1mConflicts\u001b[22m ─────────────────────────────────────────────────────────────────────────────────────── tidyverse_conflicts() ──\n",
      "\u001b[31m✖\u001b[39m \u001b[34mdplyr\u001b[39m::\u001b[32mfilter()\u001b[39m masks \u001b[34mstats\u001b[39m::filter()\n",
      "\u001b[31m✖\u001b[39m \u001b[34mdplyr\u001b[39m::\u001b[32mlag()\u001b[39m    masks \u001b[34mstats\u001b[39m::lag()\n",
      "\n"
     ]
    }
   ],
   "source": [
    "library(tidyverse)"
   ]
  },
  {
   "cell_type": "code",
   "execution_count": 5,
   "id": "c17793af-2b65-48f4-9ff6-7e04a53dad22",
   "metadata": {},
   "outputs": [
    {
     "ename": "ERROR",
     "evalue": "Error in library(ggvis): there is no package called ‘ggvis’\n",
     "output_type": "error",
     "traceback": [
      "Error in library(ggvis): there is no package called ‘ggvis’\nTraceback:\n",
      "1. library(ggvis)"
     ]
    }
   ],
   "source": [
    "library(ggvis)"
   ]
  },
  {
   "cell_type": "code",
   "execution_count": 3,
   "id": "c1ada505-e115-4712-b0ee-af66ca6c3659",
   "metadata": {},
   "outputs": [
    {
     "ename": "ERROR",
     "evalue": "Error in layer_points(., `:=`(size, input_slider(100, 1000, value = 100))): could not find function \"layer_points\"\n",
     "output_type": "error",
     "traceback": [
      "Error in layer_points(., `:=`(size, input_slider(100, 1000, value = 100))): could not find function \"layer_points\"\nTraceback:\n",
      "1. mtcars %>% ggvis(~wt, ~mpg) %>% layer_smooths(span = input_slider(0.5, \n .     1, value = 1)) %>% layer_points(`:=`(size, input_slider(100, \n .     1000, value = 100)))"
     ]
    }
   ],
   "source": [
    "mtcars %>%\n",
    "  ggvis(~wt, ~mpg) %>%\n",
    "  layer_smooths(span = input_slider(0.5, 1, value = 1)) %>%\n",
    "  layer_points(size := input_slider(100, 1000, value = 100))"
   ]
  },
  {
   "cell_type": "code",
   "execution_count": null,
   "id": "708421b0-7cef-4e9a-9701-da34aa18d61b",
   "metadata": {},
   "outputs": [],
   "source": []
  }
 ],
 "metadata": {
  "kernelspec": {
   "display_name": "R",
   "language": "R",
   "name": "ir"
  },
  "language_info": {
   "codemirror_mode": "r",
   "file_extension": ".r",
   "mimetype": "text/x-r-source",
   "name": "R",
   "pygments_lexer": "r",
   "version": "4.1.3"
  }
 },
 "nbformat": 4,
 "nbformat_minor": 5
}
