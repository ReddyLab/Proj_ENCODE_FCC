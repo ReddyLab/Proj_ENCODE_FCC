{
 "cells": [
  {
   "cell_type": "code",
   "execution_count": 18,
   "id": "75b506e0-0ca3-4090-b95b-adf3faa2d918",
   "metadata": {},
   "outputs": [
    {
     "name": "stderr",
     "output_type": "stream",
     "text": [
      "── \u001b[1mAttaching packages\u001b[22m ─────────────────────────────────────────────────────────────────────────────────── tidyverse 1.3.1 ──\n",
      "\n",
      "\u001b[32m✔\u001b[39m \u001b[34mggplot2\u001b[39m 3.3.5     \u001b[32m✔\u001b[39m \u001b[34mpurrr  \u001b[39m 0.3.4\n",
      "\u001b[32m✔\u001b[39m \u001b[34mtibble \u001b[39m 3.1.6     \u001b[32m✔\u001b[39m \u001b[34mdplyr  \u001b[39m 1.0.8\n",
      "\u001b[32m✔\u001b[39m \u001b[34mtidyr  \u001b[39m 1.2.0     \u001b[32m✔\u001b[39m \u001b[34mstringr\u001b[39m 1.4.0\n",
      "\u001b[32m✔\u001b[39m \u001b[34mreadr  \u001b[39m 2.1.2     \u001b[32m✔\u001b[39m \u001b[34mforcats\u001b[39m 0.5.1\n",
      "\n",
      "── \u001b[1mConflicts\u001b[22m ────────────────────────────────────────────────────────────────────────────────────── tidyverse_conflicts() ──\n",
      "\u001b[31m✖\u001b[39m \u001b[34mdplyr\u001b[39m::\u001b[32mfilter()\u001b[39m masks \u001b[34mstats\u001b[39m::filter()\n",
      "\u001b[31m✖\u001b[39m \u001b[34mdplyr\u001b[39m::\u001b[32mlag()\u001b[39m    masks \u001b[34mstats\u001b[39m::lag()\n",
      "\n"
     ]
    }
   ],
   "source": [
    "library(tidyverse)"
   ]
  },
  {
   "cell_type": "code",
   "execution_count": 50,
   "id": "f94e37ae-4dec-4c61-924a-417889534f3a",
   "metadata": {},
   "outputs": [
    {
     "data": {
      "text/html": [
       "<table class=\"dataframe\">\n",
       "<caption>A data.frame: 6 × 2</caption>\n",
       "<thead>\n",
       "\t<tr><th scope=col>Loc</th><th scope=col>Val</th></tr>\n",
       "\t<tr><th scope=col>&lt;dbl&gt;</th><th scope=col>&lt;dbl&gt;</th></tr>\n",
       "</thead>\n",
       "<tbody>\n",
       "\t<tr><td>1</td><td>2</td></tr>\n",
       "\t<tr><td>2</td><td>2</td></tr>\n",
       "\t<tr><td>3</td><td>4</td></tr>\n",
       "\t<tr><td>4</td><td>9</td></tr>\n",
       "\t<tr><td>5</td><td>3</td></tr>\n",
       "\t<tr><td>7</td><td>1</td></tr>\n",
       "</tbody>\n",
       "</table>\n"
      ],
      "text/latex": [
       "A data.frame: 6 × 2\n",
       "\\begin{tabular}{ll}\n",
       " Loc & Val\\\\\n",
       " <dbl> & <dbl>\\\\\n",
       "\\hline\n",
       "\t 1 & 2\\\\\n",
       "\t 2 & 2\\\\\n",
       "\t 3 & 4\\\\\n",
       "\t 4 & 9\\\\\n",
       "\t 5 & 3\\\\\n",
       "\t 7 & 1\\\\\n",
       "\\end{tabular}\n"
      ],
      "text/markdown": [
       "\n",
       "A data.frame: 6 × 2\n",
       "\n",
       "| Loc &lt;dbl&gt; | Val &lt;dbl&gt; |\n",
       "|---|---|\n",
       "| 1 | 2 |\n",
       "| 2 | 2 |\n",
       "| 3 | 4 |\n",
       "| 4 | 9 |\n",
       "| 5 | 3 |\n",
       "| 7 | 1 |\n",
       "\n"
      ],
      "text/plain": [
       "  Loc Val\n",
       "1 1   2  \n",
       "2 2   2  \n",
       "3 3   4  \n",
       "4 4   9  \n",
       "5 5   3  \n",
       "6 7   1  "
      ]
     },
     "metadata": {},
     "output_type": "display_data"
    }
   ],
   "source": [
    "dat = data.frame(\n",
    "    Loc = c(1, 2, 3, 4, 5, 7),\n",
    "    Val = c(2, 2, 4, 9, 3, 1))\n",
    "dat"
   ]
  },
  {
   "cell_type": "code",
   "execution_count": 51,
   "id": "55b09636-ecb8-4987-8cd5-2aa2a0c8679d",
   "metadata": {},
   "outputs": [
    {
     "data": {
      "text/html": [
       "<style>\n",
       ".list-inline {list-style: none; margin:0; padding: 0}\n",
       ".list-inline>li {display: inline-block}\n",
       ".list-inline>li:not(:last-child)::after {content: \"\\00b7\"; padding: 0 .5ex}\n",
       "</style>\n",
       "<ol class=list-inline><li>1</li><li>3</li><li>5</li><li>7</li><li>9</li></ol>\n"
      ],
      "text/latex": [
       "\\begin{enumerate*}\n",
       "\\item 1\n",
       "\\item 3\n",
       "\\item 5\n",
       "\\item 7\n",
       "\\item 9\n",
       "\\end{enumerate*}\n"
      ],
      "text/markdown": [
       "1. 1\n",
       "2. 3\n",
       "3. 5\n",
       "4. 7\n",
       "5. 9\n",
       "\n",
       "\n"
      ],
      "text/plain": [
       "[1] 1 3 5 7 9"
      ]
     },
     "metadata": {},
     "output_type": "display_data"
    }
   ],
   "source": [
    "start  = 1\n",
    "end    = 10\n",
    "breaks = seq(start, end, 2)\n",
    "breaks"
   ]
  },
  {
   "cell_type": "code",
   "execution_count": 60,
   "id": "701e2e1b-020d-4a04-a1a2-2079a82a7b49",
   "metadata": {},
   "outputs": [
    {
     "data": {
      "text/html": [
       "<table class=\"dataframe\">\n",
       "<caption>A tibble: 4 × 3</caption>\n",
       "<thead>\n",
       "\t<tr><th scope=col>Left</th><th scope=col>Right</th><th scope=col>Val</th></tr>\n",
       "\t<tr><th scope=col>&lt;chr&gt;</th><th scope=col>&lt;chr&gt;</th><th scope=col>&lt;dbl&gt;</th></tr>\n",
       "</thead>\n",
       "<tbody>\n",
       "\t<tr><td>1</td><td>3</td><td> 4</td></tr>\n",
       "\t<tr><td>3</td><td>5</td><td>13</td></tr>\n",
       "\t<tr><td>5</td><td>7</td><td> 3</td></tr>\n",
       "\t<tr><td>7</td><td>9</td><td> 1</td></tr>\n",
       "</tbody>\n",
       "</table>\n"
      ],
      "text/latex": [
       "A tibble: 4 × 3\n",
       "\\begin{tabular}{lll}\n",
       " Left & Right & Val\\\\\n",
       " <chr> & <chr> & <dbl>\\\\\n",
       "\\hline\n",
       "\t 1 & 3 &  4\\\\\n",
       "\t 3 & 5 & 13\\\\\n",
       "\t 5 & 7 &  3\\\\\n",
       "\t 7 & 9 &  1\\\\\n",
       "\\end{tabular}\n"
      ],
      "text/markdown": [
       "\n",
       "A tibble: 4 × 3\n",
       "\n",
       "| Left &lt;chr&gt; | Right &lt;chr&gt; | Val &lt;dbl&gt; |\n",
       "|---|---|---|\n",
       "| 1 | 3 |  4 |\n",
       "| 3 | 5 | 13 |\n",
       "| 5 | 7 |  3 |\n",
       "| 7 | 9 |  1 |\n",
       "\n"
      ],
      "text/plain": [
       "  Left Right Val\n",
       "1 1    3      4 \n",
       "2 3    5     13 \n",
       "3 5    7      3 \n",
       "4 7    9      1 "
      ]
     },
     "metadata": {},
     "output_type": "display_data"
    }
   ],
   "source": [
    "tmp = dat\n",
    "tmp$group = cut(tmp$Loc, breaks=breaks, right = FALSE)\n",
    "tmp = tmp %>% group_by(group) %>% summarize(Val = sum(Val))\n",
    "tmp = tmp %>% \n",
    "    mutate(group = gsub(\"\\\\[|\\\\)\", \"\", group)) %>%\n",
    "    separate(group, c(\"Left\", \"Right\"))\n",
    "tmp"
   ]
  },
  {
   "cell_type": "code",
   "execution_count": 62,
   "id": "e87c37a5-a754-4731-ae7e-219b74df4298",
   "metadata": {},
   "outputs": [
    {
     "data": {
      "image/png": "[encoded data removed]",
      "text/plain": [
       "plot without title"
      ]
     },
     "metadata": {
      "image/png": {
       "height": 420,
       "width": 420
      }
     },
     "output_type": "display_data"
    }
   ],
   "source": [
    "ggplot(tmp) + geom_rect(mapping=aes(xmin=Left, xmax=Right, ymin=0, ymax=Val), alpha=0.5)"
   ]
  },
  {
   "cell_type": "code",
   "execution_count": null,
   "id": "afeb5bf5-bea6-49dc-b9b6-c8e543529c15",
   "metadata": {},
   "outputs": [],
   "source": []
  }
 ],
 "metadata": {
  "kernelspec": {
   "display_name": "R",
   "language": "R",
   "name": "ir"
  },
  "language_info": {
   "codemirror_mode": "r",
   "file_extension": ".r",
   "mimetype": "text/x-r-source",
   "name": "R",
   "pygments_lexer": "r",
   "version": "4.1.3"
  }
 },
 "nbformat": 4,
 "nbformat_minor": 5
}
