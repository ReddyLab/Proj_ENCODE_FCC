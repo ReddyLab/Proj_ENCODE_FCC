{
 "cells": [
  {
   "cell_type": "code",
   "execution_count": 4,
   "id": "2facb0c4-f33e-4541-aa2f-6ff16d3fdca7",
   "metadata": {},
   "outputs": [
    {
     "name": "stdout",
     "output_type": "stream",
     "text": [
      "You are on Duke Server: HARDAC\n",
      "BASE DIRECTORY:     /gpfs/fs1/data/reddylab/Kuei\n",
      "PATH OF SOURCE:     /gpfs/fs1/data/reddylab/Kuei/source\n",
      "PATH OF EXECUTABLE: /gpfs/fs1/data/reddylab/Kuei/exe\n",
      "PATH OF ANNOTATION: /gpfs/fs1/data/reddylab/Kuei/annotation\n",
      "PATH OF PROJECT:    /gpfs/fs1/data/reddylab/Kuei/GitRepo/Proj_CombEffect_ENCODE_FCC/notebooks\n",
      "PATH OF RESULTS:    /gpfs/fs1/data/reddylab/Kuei/out/proj_combeffect_encode_fcc\n",
      "\n"
     ]
    }
   ],
   "source": [
    "source ../config_duke.sh; show_env"
   ]
  },
  {
   "cell_type": "code",
   "execution_count": 3,
   "id": "d1c4d46b-cc36-4a82-9b4d-bc90469ace35",
   "metadata": {},
   "outputs": [
    {
     "name": "stdout",
     "output_type": "stream",
     "text": [
      "You are on Duke Server: HARDAC\n",
      "BASE DIRECTORY:     /gpfs/fs1/data/reddylab/Kuei\n",
      "PATH OF SOURCE:     /gpfs/fs1/data/reddylab/Kuei/source\n",
      "PATH OF EXECUTABLE: /gpfs/fs1/data/reddylab/Kuei/exe\n",
      "PATH OF ANNOTATION: /gpfs/fs1/data/reddylab/Kuei/annotation\n",
      "PATH OF PROJECT:    /gpfs/fs1/data/reddylab/Kuei/GitRepo/Proj_CombEffect_ENCODE_FCC/notebooks\n",
      "PATH OF RESULTS:    /gpfs/fs1/data/reddylab/Kuei/out/proj_combeffect_encode_fcc\n",
      "\n"
     ]
    }
   ],
   "source": []
  },
  {
   "cell_type": "code",
   "execution_count": 5,
   "id": "a88f40ee-7c93-4018-b52f-abd4217a3bc4",
   "metadata": {},
   "outputs": [],
   "source": [
    "chmod +x test.sh"
   ]
  },
  {
   "cell_type": "code",
   "execution_count": 11,
   "id": "6245c8ec-089a-41c6-82d2-6cea6dd69ce6",
   "metadata": {},
   "outputs": [
    {
     "name": "stdout",
     "output_type": "stream",
     "text": [
      "--env\n",
      "X=10\n",
      "-c\n",
      "a\n",
      "b\n",
      "c\n"
     ]
    }
   ],
   "source": [
    "X=10\n",
    "./test.sh --env X=${X} -c a b c"
   ]
  },
  {
   "cell_type": "code",
   "execution_count": 2,
   "id": "2763729a-5030-4dcc-bcee-233dd9bfbec7",
   "metadata": {},
   "outputs": [
    {
     "name": "stdout",
     "output_type": "stream",
     "text": [
      "#!/bin/bash\n",
      "\n",
      "### get file path\n",
      "### Stackoverflow: how-can-i-get-the-source-directory-of-a-bash-script-from-within-the-script-itself\n",
      "SCRIPT_DIR=\"$( cd \"$( dirname \"${BASH_SOURCE[0]}\" )\" &> /dev/null && pwd )\"\n",
      "source ${SCRIPT_DIR}/config_duke.sh\n",
      " \n",
      "### execute\n",
      "singularity exec \\\n",
      "    -H ${PWD}:/home \\\n",
      "    -B ${FD_WORK}:/mount/work \\\n",
      "    -B ${FD_PRJ}:/mount/project \\\n",
      "    -B ${FD_RLAB}:/mount/reddylab \\\n",
      "    \"$-\" \\\n",
      "    ${FD_SING}/singularity_proj_combeffect.sif \"$@\"\n",
      "\n"
     ]
    }
   ],
   "source": [
    "cat ${FD_PRJ}/sing_proj_encode_fcc.sh"
   ]
  },
  {
   "cell_type": "code",
   "execution_count": 3,
   "id": "152b56a7-f77d-4976-ac18-9a61f665a0a4",
   "metadata": {},
   "outputs": [
    {
     "name": "stdout",
     "output_type": "stream",
     "text": [
      "\u001b[31mFATAL:  \u001b[0m could not open image /gpfs/fs1/data/reddylab/Kuei/GitRepo/Proj_CombEffect_ENCODE_FCC/notebooks/scratch/hB: failed to retrieve path for /gpfs/fs1/data/reddylab/Kuei/GitRepo/Proj_CombEffect_ENCODE_FCC/notebooks/scratch/hB: lstat /gpfs/fs1/data/reddylab/Kuei/GitRepo/Proj_CombEffect_ENCODE_FCC/notebooks/scratch/hB: no such file or directory\n"
     ]
    },
    {
     "ename": "",
     "evalue": "255",
     "output_type": "error",
     "traceback": []
    }
   ],
   "source": [
    "${FD_PRJ}/sing_proj_encode_fcc.sh ls"
   ]
  },
  {
   "cell_type": "code",
   "execution_count": 6,
   "id": "d3070e04-0cb9-4134-9bdd-856b73d1ff72",
   "metadata": {},
   "outputs": [
    {
     "name": "stdout",
     "output_type": "stream",
     "text": [
      "A.bed\t\t      Sing_heredoc.ipynb\t      mp_benchmark.py\n",
      "B.bed\t\t      add_starrseq_to_abc_copy.ipynb  search_alex_code.ipynb\n",
      "R_bins_barplot.ipynb  bedtools_coverage.ipynb\n",
      "R_slice_window.ipynb  mp_benchmark.ipynb\n"
     ]
    }
   ],
   "source": [
    "${FD_PRJ}/sing_proj_encode_fcc.sh ls /mount/project/scratch"
   ]
  },
  {
   "cell_type": "code",
   "execution_count": 7,
   "id": "bc6aad31-6c25-439e-87be-53e34182fe22",
   "metadata": {},
   "outputs": [
    {
     "name": "stdout",
     "output_type": "stream",
     "text": [
      "A.bed  B.bed\n"
     ]
    }
   ],
   "source": [
    "${FD_PRJ}/sing_proj_encode_fcc.sh ls *.bed"
   ]
  },
  {
   "cell_type": "code",
   "execution_count": 8,
   "id": "771a71cb-f1fd-4c40-b571-fc1a5c7ccd8e",
   "metadata": {},
   "outputs": [
    {
     "name": "stdout",
     "output_type": "stream",
     "text": [
      "/bin/ls: cannot access '/mount/project/scratch/*.bed': No such file or directory\n"
     ]
    },
    {
     "ename": "",
     "evalue": "2",
     "output_type": "error",
     "traceback": []
    }
   ],
   "source": [
    "${FD_PRJ}/sing_proj_encode_fcc.sh ls /mount/project/scratch/*.bed"
   ]
  },
  {
   "cell_type": "code",
   "execution_count": 11,
   "id": "27d8e9d5-70dc-4668-aee7-c47820cee218",
   "metadata": {},
   "outputs": [
    {
     "name": "stdout",
     "output_type": "stream",
     "text": [
      "Kuei\t  config_proj_combeffect.sh  monitor.sh  tmp\n",
      "Rlibs\t  config_proj_encode_fcc.sh  reddylab\t watching.sh\n",
      "config.R  module_avail.txt\t     scratch\n"
     ]
    }
   ],
   "source": [
    "singularity exec -B ${FD_PRJ}:/mount/project ${FD_SING}/singularity_proj_combeffect.sif ls"
   ]
  },
  {
   "cell_type": "code",
   "execution_count": 12,
   "id": "6ce28140-8ca5-4a1d-9ff3-24ccbdd0514f",
   "metadata": {},
   "outputs": [
    {
     "name": "stdout",
     "output_type": "stream",
     "text": [
      "A.bed\t\t      Sing_heredoc.ipynb\t      mp_benchmark.py\n",
      "B.bed\t\t      add_starrseq_to_abc_copy.ipynb  search_alex_code.ipynb\n",
      "R_bins_barplot.ipynb  bedtools_coverage.ipynb\n",
      "R_slice_window.ipynb  mp_benchmark.ipynb\n"
     ]
    }
   ],
   "source": [
    "${FD_PRJ}/sing_proj_encode_fcc.sh /bin/bash <<'EOF'\n",
    "ls\n",
    "EOF"
   ]
  },
  {
   "cell_type": "code",
   "execution_count": 13,
   "id": "82a25fdf-2717-459c-bb33-c05daa527cc6",
   "metadata": {},
   "outputs": [
    {
     "name": "stdout",
     "output_type": "stream",
     "text": [
      "/mount/project/scratch/A.bed  /mount/project/scratch/B.bed\n"
     ]
    }
   ],
   "source": [
    "${FD_PRJ}/sing_proj_encode_fcc.sh /bin/bash <<'EOF'\n",
    "ls /mount/project/scratch/*.bed\n",
    "EOF"
   ]
  },
  {
   "cell_type": "markdown",
   "id": "df6950c5-03a6-47d4-9e5c-68981d5a9dc6",
   "metadata": {},
   "source": [
    "## Test nested heredoc"
   ]
  },
  {
   "cell_type": "code",
   "execution_count": 1,
   "id": "bb24eb88-3545-4adb-9329-12253d461734",
   "metadata": {},
   "outputs": [
    {
     "name": "stdout",
     "output_type": "stream",
     "text": [
      "Hello from level 1\n",
      "    cat <<EOF2\n",
      "    Hello from level 2\n",
      "    EOF2\n"
     ]
    }
   ],
   "source": [
    "cat <<EOF1\n",
    "Hello from level 1\n",
    "    cat <<EOF2\n",
    "    Hello from level 2\n",
    "    EOF2\n",
    "EOF1"
   ]
  },
  {
   "cell_type": "code",
   "execution_count": 2,
   "id": "9d8e34fb-85d6-47e4-8895-74a51d48d4eb",
   "metadata": {},
   "outputs": [
    {
     "name": "stdout",
     "output_type": "stream",
     "text": [
      "Hello from level 1\n",
      "    cat <<-EOF2\n",
      "    Hello from level 2\n",
      "    EOF2\n"
     ]
    }
   ],
   "source": [
    "cat <<-EOF1\n",
    "Hello from level 1\n",
    "    cat <<-EOF2\n",
    "    Hello from level 2\n",
    "    EOF2\n",
    "EOF1"
   ]
  },
  {
   "cell_type": "code",
   "execution_count": 14,
   "id": "7f7f2fea-1b94-4ab1-b652-be39dadf1c59",
   "metadata": {},
   "outputs": [
    {
     "name": "stdout",
     "output_type": "stream",
     "text": [
      "Submitted batch job 28200318\n"
     ]
    }
   ],
   "source": [
    "sbatch -p ${NODE} \\\n",
    "    --mem 2G \\\n",
    "    -o sing_heredoc.txt \\\n",
    "    <<'EOF'\n",
    "#!/bin/bash\n",
    "### set directories & global variables\n",
    "source ../config_duke.sh\n",
    "\n",
    "### print start message\n",
    "timer_start=`date +%s`\n",
    "echo \"Slurm Array Index: \" ${SLURM_ARRAY_TASK_ID}\n",
    "echo \"Time Stamp:        \" $(date +\"%m-%d-%y+%T\")\n",
    "echo\n",
    "\n",
    "### execution\n",
    "${FD_PRJ}/sing_proj_encode_fcc.sh ls *.bed\n",
    "\n",
    "### print end message\n",
    "timer=`date +%s`\n",
    "runtime=$(echo \"${timer} - ${timer_start}\" | bc -l)\n",
    "echo\n",
    "echo 'Done!'\n",
    "echo \"Run Time: $(displaytime ${runtime})\"\n",
    "\n",
    "EOF"
   ]
  },
  {
   "cell_type": "code",
   "execution_count": 17,
   "id": "e42bd903-6aac-4f54-a92a-1d2922aafe3e",
   "metadata": {},
   "outputs": [
    {
     "name": "stdout",
     "output_type": "stream",
     "text": [
      "Slurm Array Index: \n",
      "Time Stamp:         05-02-22+11:30:34\n",
      "\n",
      "A.bed\n",
      "B.bed\n",
      "\n",
      "Done!\n",
      "Run Time: 1 seconds\n"
     ]
    }
   ],
   "source": [
    "cat sing_heredoc.txt"
   ]
  },
  {
   "cell_type": "markdown",
   "id": "df099e7f-8cfb-4464-afbb-dbc596c9a06e",
   "metadata": {},
   "source": [
    "## Learn the scope of nested heredoc"
   ]
  },
  {
   "cell_type": "markdown",
   "id": "4b7cdba0-faa3-4e72-9f47-46fc903dd9b5",
   "metadata": {},
   "source": [
    "https://phoenixnap.com/kb/bash-heredoc\n",
    "```\n",
    "Escape Characters\n",
    "To avoid character interpretation, add a backslash (\\) before a character:\n",
    "\n",
    "cat << EOF\n",
    "\\$100\n",
    "EOF\n",
    "\n",
    "Alternatively, avoid character interpretation completely by escaping the delimiter:\n",
    "\n",
    "cat << \\EOF\n",
    "$100\n",
    "EOF\n",
    "```\n",
    "https://stackoverflow.com/questions/50151603/is-it-possible-to-have-variable-substitution-in-a-nested-heredoc"
   ]
  },
  {
   "cell_type": "markdown",
   "id": "11d1758b-2fe7-457c-bf6e-21282c207029",
   "metadata": {},
   "source": [
    "https://unix.stackexchange.com/questions/405250/passing-and-setting-variables-in-a-heredoc"
   ]
  },
  {
   "cell_type": "markdown",
   "id": "b8181160-e78f-4013-8862-6cc5fec137a7",
   "metadata": {},
   "source": [
    "https://unix.stackexchange.com/questions/169771/command-line-macros-in-comments-using-slurm"
   ]
  },
  {
   "cell_type": "code",
   "execution_count": 2,
   "id": "9aef6676-a478-4388-8982-90490e4526b3",
   "metadata": {},
   "outputs": [
    {
     "name": "stdout",
     "output_type": "stream",
     "text": [
      "FOO=foo\n",
      "BAR=\n"
     ]
    }
   ],
   "source": [
    "FOO=\"foo\"\n",
    "/bin/bash << EOF1\n",
    "BAR=\"bar\"\n",
    "echo \"FOO=$FOO\"\n",
    "echo \"BAR=$BAR\"\n",
    "EOF1"
   ]
  },
  {
   "cell_type": "code",
   "execution_count": 29,
   "id": "3236a084-30ac-4941-8881-0cd8db439cdc",
   "metadata": {},
   "outputs": [
    {
     "name": "stdout",
     "output_type": "stream",
     "text": [
      "FOO=foo\n",
      "BAR=bar\n"
     ]
    }
   ],
   "source": [
    "FOO=\"foo\"\n",
    "/bin/bash << EOF\n",
    "BAR=\"bar\"\n",
    "echo \"FOO=$FOO\"\n",
    "echo \"BAR=\\$BAR\"\n",
    "EOF"
   ]
  },
  {
   "cell_type": "code",
   "execution_count": 26,
   "id": "e1dde84c-a3f1-4aec-ba5c-510faa0a35c9",
   "metadata": {},
   "outputs": [
    {
     "name": "stdout",
     "output_type": "stream",
     "text": [
      "FOO=\n",
      "BAR=bar\n"
     ]
    }
   ],
   "source": [
    "FOO=\"foo\"\n",
    "/bin/bash << 'EOF'\n",
    "BAR=\"bar\"\n",
    "echo \"FOO=$FOO\"\n",
    "echo \"BAR=$BAR\"\n",
    "EOF"
   ]
  },
  {
   "cell_type": "code",
   "execution_count": 28,
   "id": "b374dc33-8ea8-4bf8-a901-99eff147d5fd",
   "metadata": {},
   "outputs": [
    {
     "name": "stdout",
     "output_type": "stream",
     "text": [
      "FOO=\n",
      "BAR=bar\n"
     ]
    }
   ],
   "source": [
    "FOO=\"foo\"\n",
    "/bin/bash << \"EOF\"\n",
    "BAR=\"bar\"\n",
    "echo \"FOO=$FOO\"\n",
    "echo \"BAR=$BAR\"\n",
    "EOF"
   ]
  },
  {
   "cell_type": "code",
   "execution_count": 4,
   "id": "97ff30ed-faf7-4e2a-b837-07b1ca50d2d9",
   "metadata": {},
   "outputs": [
    {
     "name": "stdout",
     "output_type": "stream",
     "text": [
      "Submitted batch job 28200369\n"
     ]
    }
   ],
   "source": [
    "sbatch -p ${NODE} \\\n",
    "    --mem 2G \\\n",
    "    -o sbatch_heredoc.txt \\\n",
    "    << 'EOF'\n",
    "#!/bin/bash\n",
    "ls \n",
    "EOF"
   ]
  },
  {
   "cell_type": "code",
   "execution_count": 5,
   "id": "25c50d09-74fa-46b0-9df7-2509a0e3fa51",
   "metadata": {},
   "outputs": [
    {
     "name": "stdout",
     "output_type": "stream",
     "text": [
      "A.bed\n",
      "add_starrseq_to_abc_copy.ipynb\n",
      "B.bed\n",
      "bedtools_coverage.ipynb\n",
      "mp_benchmark.ipynb\n",
      "mp_benchmark.py\n",
      "R_bins_barplot.ipynb\n",
      "R_slice_window.ipynb\n",
      "sbatch_heredoc.txt\n",
      "search_alex_code.ipynb\n",
      "Sing_heredoc.ipynb\n",
      "sing_heredoc.txt\n"
     ]
    }
   ],
   "source": [
    "cat sbatch_heredoc.txt"
   ]
  },
  {
   "cell_type": "code",
   "execution_count": 9,
   "id": "fa71c8ae-dcec-441a-9080-089d063c4a1e",
   "metadata": {},
   "outputs": [
    {
     "name": "stdout",
     "output_type": "stream",
     "text": [
      "Submitted batch job 28200371\n"
     ]
    }
   ],
   "source": [
    "sbatch -p ${NODE} \\\n",
    "    --mem 2G \\\n",
    "    -o sbatch_heredoc.txt \\\n",
    "    << EOF1\n",
    "#!/bin/bash\n",
    "ls \n",
    "EOF1"
   ]
  },
  {
   "cell_type": "code",
   "execution_count": 8,
   "id": "c6cf5cc7-e919-445d-93b9-5bb65363b39e",
   "metadata": {},
   "outputs": [
    {
     "name": "stdout",
     "output_type": "stream",
     "text": [
      "A.bed\n",
      "add_starrseq_to_abc_copy.ipynb\n",
      "B.bed\n",
      "bedtools_coverage.ipynb\n",
      "mp_benchmark.ipynb\n",
      "mp_benchmark.py\n",
      "R_bins_barplot.ipynb\n",
      "R_slice_window.ipynb\n",
      "sbatch_heredoc.txt\n",
      "search_alex_code.ipynb\n",
      "Sing_heredoc.ipynb\n",
      "sing_heredoc.txt\n"
     ]
    }
   ],
   "source": [
    "cat sbatch_heredoc.txt"
   ]
  },
  {
   "cell_type": "code",
   "execution_count": 32,
   "id": "50f9d0e0-20e3-46ed-b639-da63465ef848",
   "metadata": {},
   "outputs": [
    {
     "name": "stdout",
     "output_type": "stream",
     "text": [
      "/gpfs/fs1/data/reddylab/Kuei/GitRepo/Proj_CombEffect_ENCODE_FCC/notebooks/sing_proj_encode_fcc.sh\n",
      "/gpfs/fs1/data/reddylab/Kuei/GitRepo/Proj_CombEffect_ENCODE_FCC/notebooks\n",
      "10\n"
     ]
    }
   ],
   "source": [
    "### execution\n",
    "X=10\n",
    "${FD_PRJ}/sing_proj_encode_fcc.sh 10"
   ]
  },
  {
   "cell_type": "code",
   "execution_count": 44,
   "id": "7d2e0c92-fc69-45fe-9862-d3b88d22eb26",
   "metadata": {},
   "outputs": [
    {
     "name": "stdout",
     "output_type": "stream",
     "text": [
      "/gpfs/fs1/data/reddylab/Kuei/GitRepo/Proj_CombEffect_ENCODE_FCC/notebooks/sing_proj_encode_fcc.sh: illegal option -- -\n",
      "Usage: hello"
     ]
    },
    {
     "ename": "",
     "evalue": "1",
     "output_type": "error",
     "traceback": []
    }
   ],
   "source": [
    "### execution\n",
    "X=10\n",
    "${FD_PRJ}/sing_proj_encode_fcc.sh \"--env\" ${FP_SIF}"
   ]
  },
  {
   "cell_type": "code",
   "execution_count": 16,
   "id": "35433da9-75e2-43a7-9521-be448ecfbfc1",
   "metadata": {},
   "outputs": [
    {
     "name": "stdout",
     "output_type": "stream",
     "text": [
      "/gpfs/fs1/data/reddylab/Kuei/singularity/singularity_proj_combeffect.sif\n",
      "/bin/bash\n",
      "X:\n",
      "Y: 20\n"
     ]
    }
   ],
   "source": [
    "### execution\n",
    "X=10\n",
    "${FD_PRJ}/sing_proj_encode_fcc.sh ${FP_SIF} /bin/bash << 'EOF'\n",
    "    Y=20\n",
    "    echo X: ${X}\n",
    "    echo Y: ${Y}\n",
    "EOF"
   ]
  },
  {
   "cell_type": "code",
   "execution_count": 13,
   "id": "ad0dfa85-058b-4322-a5f8-b5baeaa75b62",
   "metadata": {},
   "outputs": [
    {
     "name": "stdout",
     "output_type": "stream",
     "text": [
      "X: 10\n",
      "Y: 20\n",
      "Z: 50\n"
     ]
    }
   ],
   "source": [
    "### execution\n",
    "X=10\n",
    "singularity exec \\\n",
    "    --env X=${X} \\\n",
    "    --env Z=50 \\\n",
    "    ${FD_SING}/singularity_proj_combeffect.sif /bin/bash << 'EOF'\n",
    "    Y=20\n",
    "    echo X: ${X}\n",
    "    echo Y: ${Y}\n",
    "    echo Z: ${Z}\n",
    "EOF"
   ]
  },
  {
   "cell_type": "code",
   "execution_count": 24,
   "id": "67818cd5-7866-44a5-b288-9da657167d33",
   "metadata": {},
   "outputs": [
    {
     "name": "stdout",
     "output_type": "stream",
     "text": [
      "/gpfs/fs1/data/reddylab/Kuei/GitRepo/Proj_CombEffect_ENCODE_FCC/notebooks/sing_proj_encode_fcc.sh: illegal option -- -\n",
      "Usage: hello"
     ]
    },
    {
     "ename": "",
     "evalue": "1",
     "output_type": "error",
     "traceback": []
    }
   ],
   "source": [
    "### execution\n",
    "X=10\n",
    "${FD_PRJ}/sing_proj_encode_fcc.sh --env X=${X} ${FP_SIF} /bin/bash"
   ]
  },
  {
   "cell_type": "code",
   "execution_count": 18,
   "id": "35673b38-2481-448e-adb2-f7da42624502",
   "metadata": {},
   "outputs": [
    {
     "name": "stdout",
     "output_type": "stream",
     "text": [
      "/gpfs/fs1/data/reddylab/Kuei/GitRepo/Proj_CombEffect_ENCODE_FCC/notebooks/sing_proj_encode_fcc.sh: illegal option -- -\n",
      "Usage: hello"
     ]
    },
    {
     "ename": "",
     "evalue": "1",
     "output_type": "error",
     "traceback": []
    }
   ],
   "source": [
    "### execution\n",
    "X=10\n",
    "${FD_PRJ}/sing_proj_encode_fcc.sh \\\n",
    "    --env X=${X} \\\n",
    "    --env Z=50 \\\n",
    "    ${FP_SIF} /bin/bash << 'EOF'\n",
    "    Y=20\n",
    "    echo X: ${X}\n",
    "    echo Y: ${Y}\n",
    "    echo Z: ${Z}\n",
    "EOF"
   ]
  },
  {
   "cell_type": "code",
   "execution_count": 52,
   "id": "ab62caee-0c9b-45fd-a2a8-34c1e7b20c97",
   "metadata": {},
   "outputs": [
    {
     "name": "stdout",
     "output_type": "stream",
     "text": [
      "a\n",
      "b\n",
      "c\n"
     ]
    }
   ],
   "source": [
    "X=10\n",
    "./test.sh a b c"
   ]
  },
  {
   "cell_type": "code",
   "execution_count": 64,
   "id": "795e6b91-9773-4bbc-9367-da1ae6037443",
   "metadata": {},
   "outputs": [
    {
     "name": "stdout",
     "output_type": "stream",
     "text": [
      "You are on Duke Server: HARDAC\n",
      "BASE DIRECTORY:     /gpfs/fs1/data/reddylab/Kuei\n",
      "PATH OF SOURCE:     /gpfs/fs1/data/reddylab/Kuei/source\n",
      "PATH OF EXECUTABLE: /gpfs/fs1/data/reddylab/Kuei/exe\n",
      "PATH OF ANNOTATION: /gpfs/fs1/data/reddylab/Kuei/annotation\n",
      "PATH OF PROJECT:    /gpfs/fs1/data/reddylab/Kuei/GitRepo/Proj_CombEffect_ENCODE_FCC/notebooks\n",
      "PATH OF RESULTS:    /gpfs/fs1/data/reddylab/Kuei/out/proj_combeffect_encode_fcc\n",
      "\n",
      "-vv\n",
      "10\n"
     ]
    }
   ],
   "source": [
    "X=10\n",
    "./test.sh -vv 10"
   ]
  },
  {
   "cell_type": "code",
   "execution_count": 55,
   "id": "c4a19a6d-ce62-41a5-8cb4-cd592c6c1e71",
   "metadata": {},
   "outputs": [
    {
     "name": "stdout",
     "output_type": "stream",
     "text": [
      "Usage: hello"
     ]
    },
    {
     "ename": "",
     "evalue": "1",
     "output_type": "error",
     "traceback": []
    }
   ],
   "source": [
    "X=10\n",
    "./test.sh --env X=${X} -c a b c"
   ]
  },
  {
   "cell_type": "code",
   "execution_count": 14,
   "id": "f03af76f-70e1-4f51-9980-6df8d43566ae",
   "metadata": {},
   "outputs": [
    {
     "name": "stdout",
     "output_type": "stream",
     "text": [
      "(standard_in) 2: syntax error\n",
      "Submitted batch job 28200375\n"
     ]
    }
   ],
   "source": [
    "sbatch -p ${NODE} \\\n",
    "    --mem 2G \\\n",
    "    -o sing_heredoc.txt \\\n",
    "    << EOF1\n",
    "#!/bin/bash\n",
    "### set directories & global variables\n",
    "source ../config_duke.sh\n",
    "X=10\n",
    "\n",
    "### print start message\n",
    "timer_start=`date +%s`\n",
    "echo \"Slurm Array Index: \" ${SLURM_ARRAY_TASK_ID}\n",
    "echo \"Time Stamp:        \" $(date +\"%m-%d-%y+%T\")\n",
    "echo\n",
    "\n",
    "### print end message\n",
    "timer=`date +%s`\n",
    "runtime=$(echo \"${timer} - ${timer_start}\" | bc -l)\n",
    "echo\n",
    "echo 'Done!'\n",
    "echo \"Run Time: $(displaytime ${runtime})\"\n",
    "\n",
    "\n",
    "EOF1"
   ]
  },
  {
   "cell_type": "code",
   "execution_count": 12,
   "id": "7603ecb7-c76d-40ce-b583-48dd892b2ea0",
   "metadata": {},
   "outputs": [
    {
     "name": "stdout",
     "output_type": "stream",
     "text": [
      "Slurm Array Index: \n",
      "Time Stamp:         05-02-22+15:11:10\n",
      "\n"
     ]
    }
   ],
   "source": [
    "cat sing_heredoc.txt "
   ]
  },
  {
   "cell_type": "code",
   "execution_count": 17,
   "id": "c53f4ff0-e8ff-4cba-b615-a7c90316d4b3",
   "metadata": {},
   "outputs": [
    {
     "name": "stdout",
     "output_type": "stream",
     "text": [
      "Submitted batch job 28200377\n"
     ]
    }
   ],
   "source": [
    "sbatch -p ${NODE} \\\n",
    "    --mem 2G \\\n",
    "    -o sing_heredoc.txt \\\n",
    "    << 'EOF1'\n",
    "#!/bin/bash\n",
    "### set directories & global variables\n",
    "source ../config_duke.sh\n",
    "X=10\n",
    "\n",
    "### print start message\n",
    "timer_start=`date +%s`\n",
    "echo \"Slurm Array Index: \" ${SLURM_ARRAY_TASK_ID}\n",
    "echo \"Time Stamp:        \" $(date +\"%m-%d-%y+%T\")\n",
    "echo\n",
    "\n",
    "### execution\n",
    "${FD_PRJ}/sing_proj_encode_fcc.sh /bin/bash << EOF2\n",
    "    ls /mount/project/scratch/*.bed\n",
    "    Y=20\n",
    "    echo X: ${X}\n",
    "    echo Y: \\${Y}\n",
    "EOF2\n",
    "\n",
    "### print end message\n",
    "timer=`date +%s`\n",
    "runtime=$(echo \"${timer} - ${timer_start}\" | bc -l)\n",
    "echo\n",
    "echo 'Done!'\n",
    "echo \"Run Time: $(displaytime ${runtime})\"\n",
    "\n",
    "EOF1"
   ]
  },
  {
   "cell_type": "code",
   "execution_count": 18,
   "id": "453412a2-8e61-4d1e-a13c-411a4d867745",
   "metadata": {},
   "outputs": [
    {
     "name": "stdout",
     "output_type": "stream",
     "text": [
      "Slurm Array Index: \n",
      "Time Stamp:         05-02-22+15:17:35\n",
      "\n",
      "/mount/project/scratch/A.bed\n",
      "/mount/project/scratch/B.bed\n",
      "X: 10\n",
      "Y: 20\n",
      "\n",
      "Done!\n",
      "Run Time: 1 seconds\n"
     ]
    }
   ],
   "source": [
    "cat sing_heredoc.txt"
   ]
  },
  {
   "cell_type": "code",
   "execution_count": 19,
   "id": "10a5dd40-5365-44c0-9fee-6510c59ea2ca",
   "metadata": {},
   "outputs": [
    {
     "name": "stdout",
     "output_type": "stream",
     "text": [
      "Submitted batch job 28200378\n"
     ]
    }
   ],
   "source": [
    "sbatch -p ${NODE} \\\n",
    "    --mem 2G \\\n",
    "    -o sing_heredoc.txt \\\n",
    "    << 'EOF1'\n",
    "#!/bin/bash\n",
    "### set directories & global variables\n",
    "source ../config_duke.sh\n",
    "X=10\n",
    "\n",
    "### print start message\n",
    "timer_start=`date +%s`\n",
    "echo \"Slurm Array Index: \" ${SLURM_ARRAY_TASK_ID}\n",
    "echo \"Time Stamp:        \" $(date +\"%m-%d-%y+%T\")\n",
    "echo\n",
    "\n",
    "### execution\n",
    "${FD_PRJ}/sing_proj_encode_fcc.sh /bin/bash << 'EOF2'\n",
    "    ls /mount/project/scratch/*.bed\n",
    "    Y=20\n",
    "    echo X: ${X}\n",
    "    echo Y: ${Y}\n",
    "EOF2\n",
    "\n",
    "### print end message\n",
    "timer=`date +%s`\n",
    "runtime=$(echo \"${timer} - ${timer_start}\" | bc -l)\n",
    "echo\n",
    "echo 'Done!'\n",
    "echo \"Run Time: $(displaytime ${runtime})\"\n",
    "\n",
    "EOF1"
   ]
  },
  {
   "cell_type": "code",
   "execution_count": 20,
   "id": "57bc29a9-13df-4a27-95ec-9bda32af427a",
   "metadata": {},
   "outputs": [
    {
     "name": "stdout",
     "output_type": "stream",
     "text": [
      "Slurm Array Index: \n",
      "Time Stamp:         05-02-22+15:18:35\n",
      "\n",
      "/mount/project/scratch/A.bed\n",
      "/mount/project/scratch/B.bed\n",
      "X:\n",
      "Y: 20\n",
      "\n",
      "Done!\n",
      "Run Time: 1 seconds\n"
     ]
    }
   ],
   "source": [
    "cat sing_heredoc.txt"
   ]
  },
  {
   "cell_type": "code",
   "execution_count": 21,
   "id": "6afe2b7a-d22b-4804-9c68-eb1827b485ab",
   "metadata": {},
   "outputs": [
    {
     "name": "stdout",
     "output_type": "stream",
     "text": [
      "Submitted batch job 28200379\n"
     ]
    }
   ],
   "source": [
    "sbatch -p ${NODE} \\\n",
    "    --mem 2G \\\n",
    "    -o sing_heredoc.txt \\\n",
    "    << 'EOF1'\n",
    "#!/bin/bash\n",
    "### set directories & global variables\n",
    "source ../config_duke.sh\n",
    "X=10\n",
    "\n",
    "### print start message\n",
    "timer_start=`date +%s`\n",
    "echo \"Slurm Array Index: \" ${SLURM_ARRAY_TASK_ID}\n",
    "echo \"Time Stamp:        \" $(date +\"%m-%d-%y+%T\")\n",
    "echo\n",
    "\n",
    "### execution\n",
    "${FD_PRJ}/sing_proj_encode_fcc.sh /bin/bash << 'EOF2'\n",
    "    ls /mount/project/scratch/*.bed\n",
    "    Y=20\n",
    "    echo X: \\${X}\n",
    "    echo Y: ${Y}\n",
    "EOF2\n",
    "\n",
    "### print end message\n",
    "timer=`date +%s`\n",
    "runtime=$(echo \"${timer} - ${timer_start}\" | bc -l)\n",
    "echo\n",
    "echo 'Done!'\n",
    "echo \"Run Time: $(displaytime ${runtime})\"\n",
    "\n",
    "EOF1"
   ]
  },
  {
   "cell_type": "code",
   "execution_count": 22,
   "id": "8566ffee-3b11-4647-acb2-1b56b96342c2",
   "metadata": {},
   "outputs": [
    {
     "name": "stdout",
     "output_type": "stream",
     "text": [
      "Slurm Array Index: \n",
      "Time Stamp:         05-02-22+15:19:05\n",
      "\n",
      "/mount/project/scratch/A.bed\n",
      "/mount/project/scratch/B.bed\n",
      "X: ${X}\n",
      "Y: 20\n",
      "\n",
      "Done!\n",
      "Run Time: 1 seconds\n"
     ]
    }
   ],
   "source": [
    "cat sing_heredoc.txt"
   ]
  },
  {
   "cell_type": "code",
   "execution_count": null,
   "id": "da4896e6-7f7e-4bd4-ac90-f92e6c4c1912",
   "metadata": {},
   "outputs": [],
   "source": [
    "sbatch -p ${NODE} \\\n",
    "    --mem 2G \\\n",
    "    -o sing_heredoc.txt \\\n",
    "    << 'EOF1'\n",
    "#!/bin/bash\n",
    "### set directories & global variables\n",
    "source ../config_duke.sh\n",
    "X=10\n",
    "\n",
    "### print start message\n",
    "timer_start=`date +%s`\n",
    "echo \"Slurm Array Index: \" ${SLURM_ARRAY_TASK_ID}\n",
    "echo \"Time Stamp:        \" $(date +\"%m-%d-%y+%T\")\n",
    "echo\n",
    "\n",
    "### execution\n",
    "${FD_PRJ}/sing_proj_encode_fcc.sh /bin/bash << EOF2\n",
    "    ls /mount/project/scratch/*.bed\n",
    "    Y=20\n",
    "    echo X: ${X}\n",
    "    echo Y: ${Y}\n",
    "EOF2\n",
    "\n",
    "### print end message\n",
    "timer=`date +%s`\n",
    "runtime=$(echo \"${timer} - ${timer_start}\" | bc -l)\n",
    "echo\n",
    "echo 'Done!'\n",
    "echo \"Run Time: $(displaytime ${runtime})\"\n",
    "\n",
    "EOF1"
   ]
  },
  {
   "cell_type": "code",
   "execution_count": 20,
   "id": "3182cbe9-9ee8-4034-ba1b-7d3157f231f4",
   "metadata": {},
   "outputs": [
    {
     "name": "stdout",
     "output_type": "stream",
     "text": [
      "#!/bin/bash\n",
      "\n",
      "### get file path\n",
      "### Stackoverflow: how-can-i-get-the-source-directory-of-a-bash-script-from-within-the-script-itself\n",
      "SCRIPT_DIR=\"$( cd \"$( dirname \"${BASH_SOURCE[0]}\" )\" &> /dev/null && pwd )\"\n",
      "source ${SCRIPT_DIR}/config_duke.sh\n",
      " \n",
      "### execute\n",
      "singularity exec \\\n",
      "    -H ${PWD}:/home \\\n",
      "    -B ${FD_WORK}:/mount/work \\\n",
      "    -B ${FD_PRJ}:/mount/project \\\n",
      "    -B ${FD_RLAB}:/mount/reddylab \\\n",
      "    ${FD_SING}/singularity_proj_combeffect.sif \"$@\"\n",
      "\n"
     ]
    }
   ],
   "source": [
    "cat ${FD_PRJ}/sing_proj_encode_fcc.sh"
   ]
  },
  {
   "cell_type": "code",
   "execution_count": null,
   "id": "1a4c5ada-005f-43a5-b352-b40aa8551711",
   "metadata": {},
   "outputs": [],
   "source": []
  }
 ],
 "metadata": {
  "kernelspec": {
   "display_name": "Bash",
   "language": "bash",
   "name": "bash"
  },
  "language_info": {
   "codemirror_mode": "shell",
   "file_extension": ".sh",
   "mimetype": "text/x-sh",
   "name": "bash"
  }
 },
 "nbformat": 4,
 "nbformat_minor": 5
}
