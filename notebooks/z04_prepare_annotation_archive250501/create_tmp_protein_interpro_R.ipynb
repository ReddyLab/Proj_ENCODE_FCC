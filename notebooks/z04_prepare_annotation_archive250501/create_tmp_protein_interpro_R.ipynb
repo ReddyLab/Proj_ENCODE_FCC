{
 "cells": [
  {
   "cell_type": "raw",
   "id": "ad6bc162-e202-4f7b-82ab-6c5c01a1b73f",
   "metadata": {},
   "source": [
    "---\n",
    "title: FCC Peak calls\n",
    "subtitle: export annotation\n",
    "format:\n",
    "    html:\n",
    "        code-fold:  true\n",
    "        code-tools: true\n",
    "---"
   ]
  },
  {
   "cell_type": "markdown",
   "id": "ec1a4c12-a432-4c6d-a038-23ba2de33485",
   "metadata": {},
   "source": [
    "**Set environment**"
   ]
  },
  {
   "cell_type": "code",
   "execution_count": 1,
   "id": "deb3c119-0887-4e12-984a-2fa2cdec4faf",
   "metadata": {
    "tags": []
   },
   "outputs": [
    {
     "name": "stdout",
     "output_type": "stream",
     "text": [
      "You are working on        Singularity \n",
      "BASE DIRECTORY (FD_BASE): /mount \n",
      "REPO DIRECTORY (FD_REPO): /mount/repo \n",
      "WORK DIRECTORY (FD_WORK): /mount/work \n",
      "DATA DIRECTORY (FD_DATA): /mount/data \n",
      "\n",
      "You are working with      ENCODE FCC \n",
      "PATH OF PROJECT (FD_PRJ): /mount/repo/Proj_ENCODE_FCC \n",
      "PROJECT RESULTS (FD_RES): /mount/repo/Proj_ENCODE_FCC/results \n",
      "PROJECT SCRIPTS (FD_EXE): /mount/repo/Proj_ENCODE_FCC/scripts \n",
      "PROJECT DATA    (FD_DAT): /mount/repo/Proj_ENCODE_FCC/data \n",
      "PROJECT NOTE    (FD_NBK): /mount/repo/Proj_ENCODE_FCC/notebooks \n",
      "PROJECT DOCS    (FD_DOC): /mount/repo/Proj_ENCODE_FCC/docs \n",
      "PROJECT LOG     (FD_LOG): /mount/repo/Proj_ENCODE_FCC/log \n",
      "PROJECT APP     (FD_APP): /mount/repo/Proj_ENCODE_FCC/app \n",
      "PROJECT REF     (FD_REF): /mount/repo/Proj_ENCODE_FCC/references \n",
      "\n"
     ]
    }
   ],
   "source": [
    "suppressMessages(suppressWarnings(source(\"../run_config_project_sing.R\")))\n",
    "show_env()"
   ]
  },
  {
   "cell_type": "code",
   "execution_count": 2,
   "id": "ac52c99d-9bd1-4235-9c8e-c4eb4e41d25f",
   "metadata": {},
   "outputs": [
    {
     "name": "stdout",
     "output_type": "stream",
     "text": [
      "checksum_results.txt \n",
      "entry.list \n",
      "files.txt \n",
      "mart_export_gene_interpro.txt \n",
      "protein2ipr.dat.gz \n",
      "protein2ipr.dat.gz.md5 \n",
      "release_notes.txt \n"
     ]
    }
   ],
   "source": [
    "txt_fdiry = file.path(\n",
    "    FD_DAT, \n",
    "    \"external\",\n",
    "    \"protein_interpro\"\n",
    ")\n",
    "vec = dir(txt_fdiry)\n",
    "for (txt in vec){cat(txt, \"\\n\")}"
   ]
  },
  {
   "cell_type": "code",
   "execution_count": 7,
   "id": "8f26ab1e-d9b5-444e-bd5d-87248c63c0ae",
   "metadata": {},
   "outputs": [
    {
     "name": "stdout",
     "output_type": "stream",
     "text": [
      "[1] 383857      7\n"
     ]
    },
    {
     "data": {
      "text/html": [
       "<table class=\"dataframe\">\n",
       "<caption>A tibble: 6 × 7</caption>\n",
       "<thead>\n",
       "\t<tr><th scope=col>Gene stable ID</th><th scope=col>Gene stable ID version</th><th scope=col>Protein stable ID</th><th scope=col>Protein stable ID version</th><th scope=col>Interpro ID</th><th scope=col>Interpro Short Description</th><th scope=col>Interpro Description</th></tr>\n",
       "\t<tr><th scope=col>&lt;chr&gt;</th><th scope=col>&lt;chr&gt;</th><th scope=col>&lt;chr&gt;</th><th scope=col>&lt;chr&gt;</th><th scope=col>&lt;chr&gt;</th><th scope=col>&lt;chr&gt;</th><th scope=col>&lt;chr&gt;</th></tr>\n",
       "</thead>\n",
       "<tbody>\n",
       "\t<tr><td>ENSG00000198888</td><td>ENSG00000198888.2</td><td>ENSP00000354687</td><td>ENSP00000354687.2</td><td>IPR001694</td><td>NADH_UbQ_OxRdtase_su1/FPO</td><td>NADH:ubiquinone oxidoreductase, subunit 1/F420H2 oxidoreductase subunit H</td></tr>\n",
       "\t<tr><td>ENSG00000198888</td><td>ENSG00000198888.2</td><td>ENSP00000354687</td><td>ENSP00000354687.2</td><td>IPR018086</td><td>NADH_UbQ_OxRdtase_su1_CS </td><td>NADH:ubiquinone oxidoreductase, subunit 1, conserved site                </td></tr>\n",
       "\t<tr><td>ENSG00000198763</td><td>ENSG00000198763.3</td><td>ENSP00000355046</td><td>ENSP00000355046.4</td><td>IPR001750</td><td>ND/Mrp_mem               </td><td>NADH:quinone oxidoreductase/Mrp antiporter, membrane subunit             </td></tr>\n",
       "\t<tr><td>ENSG00000198763</td><td>ENSG00000198763.3</td><td>ENSP00000355046</td><td>ENSP00000355046.4</td><td>IPR003917</td><td>NADH_UbQ_OxRdtase_chain2 </td><td>NADH:ubiquinone oxidoreductase, chain 2                                  </td></tr>\n",
       "\t<tr><td>ENSG00000198763</td><td>ENSG00000198763.3</td><td>ENSP00000355046</td><td>ENSP00000355046.4</td><td>IPR010933</td><td>NADH_DH_su2_C            </td><td>NADH dehydrogenase subunit 2, C-terminal                                 </td></tr>\n",
       "\t<tr><td>ENSG00000198804</td><td>ENSG00000198804.2</td><td>ENSP00000354499</td><td>ENSP00000354499.2</td><td>IPR000883</td><td>Cyt_C_Oxase_1            </td><td>Cytochrome c oxidase subunit I                                           </td></tr>\n",
       "</tbody>\n",
       "</table>\n"
      ],
      "text/latex": [
       "A tibble: 6 × 7\n",
       "\\begin{tabular}{lllllll}\n",
       " Gene stable ID & Gene stable ID version & Protein stable ID & Protein stable ID version & Interpro ID & Interpro Short Description & Interpro Description\\\\\n",
       " <chr> & <chr> & <chr> & <chr> & <chr> & <chr> & <chr>\\\\\n",
       "\\hline\n",
       "\t ENSG00000198888 & ENSG00000198888.2 & ENSP00000354687 & ENSP00000354687.2 & IPR001694 & NADH\\_UbQ\\_OxRdtase\\_su1/FPO & NADH:ubiquinone oxidoreductase, subunit 1/F420H2 oxidoreductase subunit H\\\\\n",
       "\t ENSG00000198888 & ENSG00000198888.2 & ENSP00000354687 & ENSP00000354687.2 & IPR018086 & NADH\\_UbQ\\_OxRdtase\\_su1\\_CS  & NADH:ubiquinone oxidoreductase, subunit 1, conserved site                \\\\\n",
       "\t ENSG00000198763 & ENSG00000198763.3 & ENSP00000355046 & ENSP00000355046.4 & IPR001750 & ND/Mrp\\_mem                & NADH:quinone oxidoreductase/Mrp antiporter, membrane subunit             \\\\\n",
       "\t ENSG00000198763 & ENSG00000198763.3 & ENSP00000355046 & ENSP00000355046.4 & IPR003917 & NADH\\_UbQ\\_OxRdtase\\_chain2  & NADH:ubiquinone oxidoreductase, chain 2                                  \\\\\n",
       "\t ENSG00000198763 & ENSG00000198763.3 & ENSP00000355046 & ENSP00000355046.4 & IPR010933 & NADH\\_DH\\_su2\\_C             & NADH dehydrogenase subunit 2, C-terminal                                 \\\\\n",
       "\t ENSG00000198804 & ENSG00000198804.2 & ENSP00000354499 & ENSP00000354499.2 & IPR000883 & Cyt\\_C\\_Oxase\\_1             & Cytochrome c oxidase subunit I                                           \\\\\n",
       "\\end{tabular}\n"
      ],
      "text/markdown": [
       "\n",
       "A tibble: 6 × 7\n",
       "\n",
       "| Gene stable ID &lt;chr&gt; | Gene stable ID version &lt;chr&gt; | Protein stable ID &lt;chr&gt; | Protein stable ID version &lt;chr&gt; | Interpro ID &lt;chr&gt; | Interpro Short Description &lt;chr&gt; | Interpro Description &lt;chr&gt; |\n",
       "|---|---|---|---|---|---|---|\n",
       "| ENSG00000198888 | ENSG00000198888.2 | ENSP00000354687 | ENSP00000354687.2 | IPR001694 | NADH_UbQ_OxRdtase_su1/FPO | NADH:ubiquinone oxidoreductase, subunit 1/F420H2 oxidoreductase subunit H |\n",
       "| ENSG00000198888 | ENSG00000198888.2 | ENSP00000354687 | ENSP00000354687.2 | IPR018086 | NADH_UbQ_OxRdtase_su1_CS  | NADH:ubiquinone oxidoreductase, subunit 1, conserved site                 |\n",
       "| ENSG00000198763 | ENSG00000198763.3 | ENSP00000355046 | ENSP00000355046.4 | IPR001750 | ND/Mrp_mem                | NADH:quinone oxidoreductase/Mrp antiporter, membrane subunit              |\n",
       "| ENSG00000198763 | ENSG00000198763.3 | ENSP00000355046 | ENSP00000355046.4 | IPR003917 | NADH_UbQ_OxRdtase_chain2  | NADH:ubiquinone oxidoreductase, chain 2                                   |\n",
       "| ENSG00000198763 | ENSG00000198763.3 | ENSP00000355046 | ENSP00000355046.4 | IPR010933 | NADH_DH_su2_C             | NADH dehydrogenase subunit 2, C-terminal                                  |\n",
       "| ENSG00000198804 | ENSG00000198804.2 | ENSP00000354499 | ENSP00000354499.2 | IPR000883 | Cyt_C_Oxase_1             | Cytochrome c oxidase subunit I                                            |\n",
       "\n"
      ],
      "text/plain": [
       "  Gene stable ID  Gene stable ID version Protein stable ID\n",
       "1 ENSG00000198888 ENSG00000198888.2      ENSP00000354687  \n",
       "2 ENSG00000198888 ENSG00000198888.2      ENSP00000354687  \n",
       "3 ENSG00000198763 ENSG00000198763.3      ENSP00000355046  \n",
       "4 ENSG00000198763 ENSG00000198763.3      ENSP00000355046  \n",
       "5 ENSG00000198763 ENSG00000198763.3      ENSP00000355046  \n",
       "6 ENSG00000198804 ENSG00000198804.2      ENSP00000354499  \n",
       "  Protein stable ID version Interpro ID Interpro Short Description\n",
       "1 ENSP00000354687.2         IPR001694   NADH_UbQ_OxRdtase_su1/FPO \n",
       "2 ENSP00000354687.2         IPR018086   NADH_UbQ_OxRdtase_su1_CS  \n",
       "3 ENSP00000355046.4         IPR001750   ND/Mrp_mem                \n",
       "4 ENSP00000355046.4         IPR003917   NADH_UbQ_OxRdtase_chain2  \n",
       "5 ENSP00000355046.4         IPR010933   NADH_DH_su2_C             \n",
       "6 ENSP00000354499.2         IPR000883   Cyt_C_Oxase_1             \n",
       "  Interpro Description                                                     \n",
       "1 NADH:ubiquinone oxidoreductase, subunit 1/F420H2 oxidoreductase subunit H\n",
       "2 NADH:ubiquinone oxidoreductase, subunit 1, conserved site                \n",
       "3 NADH:quinone oxidoreductase/Mrp antiporter, membrane subunit             \n",
       "4 NADH:ubiquinone oxidoreductase, chain 2                                  \n",
       "5 NADH dehydrogenase subunit 2, C-terminal                                 \n",
       "6 Cytochrome c oxidase subunit I                                           "
      ]
     },
     "metadata": {},
     "output_type": "display_data"
    }
   ],
   "source": [
    "txt_fdiry = file.path(\n",
    "    FD_DAT, \n",
    "    \"external\",\n",
    "    \"protein_interpro\"\n",
    ")\n",
    "txt_fname = \"mart_export_gene_interpro.txt\"\n",
    "txt_fpath = file.path(txt_fdiry, txt_fname)\n",
    "\n",
    "dat = read_tsv(txt_fpath, show_col_types = FALSE)\n",
    "dat_interpro = dat\n",
    "print(dim(dat))\n",
    "head(dat)"
   ]
  },
  {
   "cell_type": "code",
   "execution_count": 5,
   "id": "85fbe330-7441-4470-9f18-abd38782b833",
   "metadata": {},
   "outputs": [
    {
     "data": {
      "text/html": [
       "16531"
      ],
      "text/latex": [
       "16531"
      ],
      "text/markdown": [
       "16531"
      ],
      "text/plain": [
       "[1] 16531"
      ]
     },
     "metadata": {},
     "output_type": "display_data"
    }
   ],
   "source": [
    "dat = dat_interpro\n",
    "vec = dat$`Interpro ID`\n",
    "length(unique(vec))"
   ]
  },
  {
   "cell_type": "code",
   "execution_count": 6,
   "id": "31f8baff-35ef-49b9-a4f3-8bf793da21e7",
   "metadata": {},
   "outputs": [
    {
     "data": {
      "text/html": [
       "23837"
      ],
      "text/latex": [
       "23837"
      ],
      "text/markdown": [
       "23837"
      ],
      "text/plain": [
       "[1] 23837"
      ]
     },
     "metadata": {},
     "output_type": "display_data"
    }
   ],
   "source": [
    "dat = dat_interpro\n",
    "vec = dat$`Gene stable ID`\n",
    "length(unique(vec))"
   ]
  },
  {
   "cell_type": "code",
   "execution_count": null,
   "id": "f3dfb376-026d-47d0-8b37-54aaf332ff3e",
   "metadata": {},
   "outputs": [],
   "source": []
  }
 ],
 "metadata": {
  "kernelspec": {
   "display_name": "R",
   "language": "R",
   "name": "ir"
  },
  "language_info": {
   "codemirror_mode": "r",
   "file_extension": ".r",
   "mimetype": "text/x-r-source",
   "name": "R",
   "pygments_lexer": "r",
   "version": "4.4.1"
  }
 },
 "nbformat": 4,
 "nbformat_minor": 5
}
