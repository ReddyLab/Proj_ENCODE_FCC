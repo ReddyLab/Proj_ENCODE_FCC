{
 "cells": [
  {
   "cell_type": "raw",
   "id": "0ebb9dac-aef5-42b7-91b8-59d61dc9a0c6",
   "metadata": {},
   "source": [
    "---\n",
    "title: Prepare TF Modules 02\n",
    "subtitle: Export the data\n",
    "format:\n",
    "    html:\n",
    "        code-fold:  true\n",
    "        code-tools: true\n",
    "---"
   ]
  },
  {
   "cell_type": "markdown",
   "id": "55491665-b808-49c7-a38a-b2140edf7669",
   "metadata": {},
   "source": [
    "**Set environment**"
   ]
  },
  {
   "cell_type": "code",
   "execution_count": 2,
   "id": "91700398-839a-414e-8c44-9c3205dc6bc9",
   "metadata": {
    "tags": []
   },
   "outputs": [
    {
     "name": "stdout",
     "output_type": "stream",
     "text": [
      "You are working on        Singularity \n",
      "BASE DIRECTORY (FD_BASE): /mount \n",
      "REPO DIRECTORY (FD_REPO): /mount/repo \n",
      "WORK DIRECTORY (FD_WORK): /mount/work \n",
      "DATA DIRECTORY (FD_DATA): /mount/data \n",
      "\n",
      "You are working with      ENCODE FCC \n",
      "PATH OF PROJECT (FD_PRJ): /mount/repo/Proj_ENCODE_FCC \n",
      "PROJECT RESULTS (FD_RES): /mount/repo/Proj_ENCODE_FCC/results \n",
      "PROJECT SCRIPTS (FD_EXE): /mount/repo/Proj_ENCODE_FCC/scripts \n",
      "PROJECT DATA    (FD_DAT): /mount/repo/Proj_ENCODE_FCC/data \n",
      "PROJECT NOTE    (FD_NBK): /mount/repo/Proj_ENCODE_FCC/notebooks \n",
      "PROJECT DOCS    (FD_DOC): /mount/repo/Proj_ENCODE_FCC/docs \n",
      "PROJECT LOG     (FD_LOG): /mount/repo/Proj_ENCODE_FCC/log \n",
      "PROJECT APP     (FD_APP): /mount/repo/Proj_ENCODE_FCC/app \n",
      "PROJECT REF     (FD_REF): /mount/repo/Proj_ENCODE_FCC/references \n",
      "\n"
     ]
    }
   ],
   "source": [
    "suppressMessages(suppressWarnings(source(\"../run_config_project_sing.R\")))\n",
    "show_env()"
   ]
  },
  {
   "cell_type": "code",
   "execution_count": 5,
   "id": "c2db25d0-6cea-448e-8c08-d1ad6d44d9b8",
   "metadata": {},
   "outputs": [
    {
     "data": {
      "text/html": [
       "<table class=\"dataframe\">\n",
       "<caption>A tibble: 6 × 14</caption>\n",
       "<thead>\n",
       "\t<tr><th scope=col>Chrom_A</th><th scope=col>ChromStart_A</th><th scope=col>ChromEnd_A</th><th scope=col>Chrom_B</th><th scope=col>ChromStart_B</th><th scope=col>ChromEnd_B</th><th scope=col>Name_B</th><th scope=col>Group_B</th><th scope=col>Label_B</th><th scope=col>Overlap</th><th scope=col>Region_A</th><th scope=col>Region_B</th><th scope=col>Annotation_A</th><th scope=col>Annotation_B</th></tr>\n",
       "\t<tr><th scope=col>&lt;chr&gt;</th><th scope=col>&lt;dbl&gt;</th><th scope=col>&lt;dbl&gt;</th><th scope=col>&lt;chr&gt;</th><th scope=col>&lt;dbl&gt;</th><th scope=col>&lt;dbl&gt;</th><th scope=col>&lt;chr&gt;</th><th scope=col>&lt;chr&gt;</th><th scope=col>&lt;chr&gt;</th><th scope=col>&lt;dbl&gt;</th><th scope=col>&lt;chr&gt;</th><th scope=col>&lt;chr&gt;</th><th scope=col>&lt;chr&gt;</th><th scope=col>&lt;chr&gt;</th></tr>\n",
       "</thead>\n",
       "<tbody>\n",
       "\t<tr><td>chr1</td><td>778233</td><td>779389</td><td>chr1</td><td>778000</td><td>779000</td><td>chr1:778000-779000|chr1:827000-828000  </td><td>hic_intact</td><td>Loop_A</td><td> 767</td><td>chr1:778233-779389</td><td>chr1:778000-779000</td><td>fcc_astarr_macs_input_overlap</td><td>hic_intact_Loop_A_deep</td></tr>\n",
       "\t<tr><td>chr1</td><td>869637</td><td>870233</td><td>chr1</td><td>870000</td><td>872000</td><td>chr1:870000-872000|chr1:974000-976000  </td><td>hic_intact</td><td>Loop_A</td><td> 233</td><td>chr1:869637-870233</td><td>chr1:870000-872000</td><td>fcc_astarr_macs_input_overlap</td><td>hic_intact_Loop_A_deep</td></tr>\n",
       "\t<tr><td>chr1</td><td>869637</td><td>870233</td><td>chr1</td><td>870000</td><td>872000</td><td>chr1:870000-872000|chr1:1062000-1064000</td><td>hic_intact</td><td>Loop_A</td><td> 233</td><td>chr1:869637-870233</td><td>chr1:870000-872000</td><td>fcc_astarr_macs_input_overlap</td><td>hic_intact_Loop_A_deep</td></tr>\n",
       "\t<tr><td>chr1</td><td>869637</td><td>870233</td><td>chr1</td><td>870000</td><td>875000</td><td>chr1:870000-875000|chr1:935000-940000  </td><td>hic_intact</td><td>Loop_A</td><td> 233</td><td>chr1:869637-870233</td><td>chr1:870000-875000</td><td>fcc_astarr_macs_input_overlap</td><td>hic_intact_Loop_A_deep</td></tr>\n",
       "\t<tr><td>chr1</td><td>869637</td><td>870233</td><td>chr1</td><td>868000</td><td>870000</td><td>chr1:868000-870000|chr1:1290000-1292000</td><td>hic_intact</td><td>Loop_A</td><td> 363</td><td>chr1:869637-870233</td><td>chr1:868000-870000</td><td>fcc_astarr_macs_input_overlap</td><td>hic_intact_Loop_A_deep</td></tr>\n",
       "\t<tr><td>chr1</td><td>903783</td><td>905204</td><td>chr1</td><td>904000</td><td>905000</td><td>chr1:904000-905000|chr1:976000-977000  </td><td>hic_intact</td><td>Loop_A</td><td>1000</td><td>chr1:903783-905204</td><td>chr1:904000-905000</td><td>fcc_astarr_macs_input_overlap</td><td>hic_intact_Loop_A_deep</td></tr>\n",
       "</tbody>\n",
       "</table>\n"
      ],
      "text/latex": [
       "A tibble: 6 × 14\n",
       "\\begin{tabular}{llllllllllllll}\n",
       " Chrom\\_A & ChromStart\\_A & ChromEnd\\_A & Chrom\\_B & ChromStart\\_B & ChromEnd\\_B & Name\\_B & Group\\_B & Label\\_B & Overlap & Region\\_A & Region\\_B & Annotation\\_A & Annotation\\_B\\\\\n",
       " <chr> & <dbl> & <dbl> & <chr> & <dbl> & <dbl> & <chr> & <chr> & <chr> & <dbl> & <chr> & <chr> & <chr> & <chr>\\\\\n",
       "\\hline\n",
       "\t chr1 & 778233 & 779389 & chr1 & 778000 & 779000 & chr1:778000-779000\\textbar{}chr1:827000-828000   & hic\\_intact & Loop\\_A &  767 & chr1:778233-779389 & chr1:778000-779000 & fcc\\_astarr\\_macs\\_input\\_overlap & hic\\_intact\\_Loop\\_A\\_deep\\\\\n",
       "\t chr1 & 869637 & 870233 & chr1 & 870000 & 872000 & chr1:870000-872000\\textbar{}chr1:974000-976000   & hic\\_intact & Loop\\_A &  233 & chr1:869637-870233 & chr1:870000-872000 & fcc\\_astarr\\_macs\\_input\\_overlap & hic\\_intact\\_Loop\\_A\\_deep\\\\\n",
       "\t chr1 & 869637 & 870233 & chr1 & 870000 & 872000 & chr1:870000-872000\\textbar{}chr1:1062000-1064000 & hic\\_intact & Loop\\_A &  233 & chr1:869637-870233 & chr1:870000-872000 & fcc\\_astarr\\_macs\\_input\\_overlap & hic\\_intact\\_Loop\\_A\\_deep\\\\\n",
       "\t chr1 & 869637 & 870233 & chr1 & 870000 & 875000 & chr1:870000-875000\\textbar{}chr1:935000-940000   & hic\\_intact & Loop\\_A &  233 & chr1:869637-870233 & chr1:870000-875000 & fcc\\_astarr\\_macs\\_input\\_overlap & hic\\_intact\\_Loop\\_A\\_deep\\\\\n",
       "\t chr1 & 869637 & 870233 & chr1 & 868000 & 870000 & chr1:868000-870000\\textbar{}chr1:1290000-1292000 & hic\\_intact & Loop\\_A &  363 & chr1:869637-870233 & chr1:868000-870000 & fcc\\_astarr\\_macs\\_input\\_overlap & hic\\_intact\\_Loop\\_A\\_deep\\\\\n",
       "\t chr1 & 903783 & 905204 & chr1 & 904000 & 905000 & chr1:904000-905000\\textbar{}chr1:976000-977000   & hic\\_intact & Loop\\_A & 1000 & chr1:903783-905204 & chr1:904000-905000 & fcc\\_astarr\\_macs\\_input\\_overlap & hic\\_intact\\_Loop\\_A\\_deep\\\\\n",
       "\\end{tabular}\n"
      ],
      "text/markdown": [
       "\n",
       "A tibble: 6 × 14\n",
       "\n",
       "| Chrom_A &lt;chr&gt; | ChromStart_A &lt;dbl&gt; | ChromEnd_A &lt;dbl&gt; | Chrom_B &lt;chr&gt; | ChromStart_B &lt;dbl&gt; | ChromEnd_B &lt;dbl&gt; | Name_B &lt;chr&gt; | Group_B &lt;chr&gt; | Label_B &lt;chr&gt; | Overlap &lt;dbl&gt; | Region_A &lt;chr&gt; | Region_B &lt;chr&gt; | Annotation_A &lt;chr&gt; | Annotation_B &lt;chr&gt; |\n",
       "|---|---|---|---|---|---|---|---|---|---|---|---|---|---|\n",
       "| chr1 | 778233 | 779389 | chr1 | 778000 | 779000 | chr1:778000-779000|chr1:827000-828000   | hic_intact | Loop_A |  767 | chr1:778233-779389 | chr1:778000-779000 | fcc_astarr_macs_input_overlap | hic_intact_Loop_A_deep |\n",
       "| chr1 | 869637 | 870233 | chr1 | 870000 | 872000 | chr1:870000-872000|chr1:974000-976000   | hic_intact | Loop_A |  233 | chr1:869637-870233 | chr1:870000-872000 | fcc_astarr_macs_input_overlap | hic_intact_Loop_A_deep |\n",
       "| chr1 | 869637 | 870233 | chr1 | 870000 | 872000 | chr1:870000-872000|chr1:1062000-1064000 | hic_intact | Loop_A |  233 | chr1:869637-870233 | chr1:870000-872000 | fcc_astarr_macs_input_overlap | hic_intact_Loop_A_deep |\n",
       "| chr1 | 869637 | 870233 | chr1 | 870000 | 875000 | chr1:870000-875000|chr1:935000-940000   | hic_intact | Loop_A |  233 | chr1:869637-870233 | chr1:870000-875000 | fcc_astarr_macs_input_overlap | hic_intact_Loop_A_deep |\n",
       "| chr1 | 869637 | 870233 | chr1 | 868000 | 870000 | chr1:868000-870000|chr1:1290000-1292000 | hic_intact | Loop_A |  363 | chr1:869637-870233 | chr1:868000-870000 | fcc_astarr_macs_input_overlap | hic_intact_Loop_A_deep |\n",
       "| chr1 | 903783 | 905204 | chr1 | 904000 | 905000 | chr1:904000-905000|chr1:976000-977000   | hic_intact | Loop_A | 1000 | chr1:903783-905204 | chr1:904000-905000 | fcc_astarr_macs_input_overlap | hic_intact_Loop_A_deep |\n",
       "\n"
      ],
      "text/plain": [
       "  Chrom_A ChromStart_A ChromEnd_A Chrom_B ChromStart_B ChromEnd_B\n",
       "1 chr1    778233       779389     chr1    778000       779000    \n",
       "2 chr1    869637       870233     chr1    870000       872000    \n",
       "3 chr1    869637       870233     chr1    870000       872000    \n",
       "4 chr1    869637       870233     chr1    870000       875000    \n",
       "5 chr1    869637       870233     chr1    868000       870000    \n",
       "6 chr1    903783       905204     chr1    904000       905000    \n",
       "  Name_B                                  Group_B    Label_B Overlap\n",
       "1 chr1:778000-779000|chr1:827000-828000   hic_intact Loop_A   767   \n",
       "2 chr1:870000-872000|chr1:974000-976000   hic_intact Loop_A   233   \n",
       "3 chr1:870000-872000|chr1:1062000-1064000 hic_intact Loop_A   233   \n",
       "4 chr1:870000-875000|chr1:935000-940000   hic_intact Loop_A   233   \n",
       "5 chr1:868000-870000|chr1:1290000-1292000 hic_intact Loop_A   363   \n",
       "6 chr1:904000-905000|chr1:976000-977000   hic_intact Loop_A  1000   \n",
       "  Region_A           Region_B           Annotation_A                 \n",
       "1 chr1:778233-779389 chr1:778000-779000 fcc_astarr_macs_input_overlap\n",
       "2 chr1:869637-870233 chr1:870000-872000 fcc_astarr_macs_input_overlap\n",
       "3 chr1:869637-870233 chr1:870000-872000 fcc_astarr_macs_input_overlap\n",
       "4 chr1:869637-870233 chr1:870000-875000 fcc_astarr_macs_input_overlap\n",
       "5 chr1:869637-870233 chr1:868000-870000 fcc_astarr_macs_input_overlap\n",
       "6 chr1:903783-905204 chr1:904000-905000 fcc_astarr_macs_input_overlap\n",
       "  Annotation_B          \n",
       "1 hic_intact_Loop_A_deep\n",
       "2 hic_intact_Loop_A_deep\n",
       "3 hic_intact_Loop_A_deep\n",
       "4 hic_intact_Loop_A_deep\n",
       "5 hic_intact_Loop_A_deep\n",
       "6 hic_intact_Loop_A_deep"
      ]
     },
     "metadata": {},
     "output_type": "display_data"
    }
   ],
   "source": [
    "txt_fdiry = file.path(\n",
    "    FD_RES, \n",
    "    \"region_annotation\", \n",
    "    \"fcc_astarr_macs_input_overlap\",\n",
    "    \"summary\"\n",
    ")\n",
    "txt_fname = \"region.annotation.hic_intact_K562_deep.tsv\"\n",
    "txt_fpath = file.path(txt_fdiry, txt_fname)\n",
    "\n",
    "dat = read_tsv(txt_fpath, show_col_types = FALSE)\n",
    "\n",
    "dat_region_annot_loop_intersect = dat\n",
    "head(dat)"
   ]
  },
  {
   "cell_type": "code",
   "execution_count": 8,
   "id": "23493faa-3a54-4882-a5af-10d7b7ab2f15",
   "metadata": {},
   "outputs": [
    {
     "data": {
      "text/html": [
       "<table class=\"dataframe\">\n",
       "<caption>A tibble: 6 × 10</caption>\n",
       "<thead>\n",
       "\t<tr><th scope=col>Chrom_A</th><th scope=col>ChromStart_A</th><th scope=col>ChromEnd_A</th><th scope=col>Region_A</th><th scope=col>Annotation_A</th><th scope=col>Annotation_B</th><th scope=col>Group_B</th><th scope=col>Name_B</th><th scope=col>Label_B</th><th scope=col>Count</th></tr>\n",
       "\t<tr><th scope=col>&lt;chr&gt;</th><th scope=col>&lt;dbl&gt;</th><th scope=col>&lt;dbl&gt;</th><th scope=col>&lt;chr&gt;</th><th scope=col>&lt;chr&gt;</th><th scope=col>&lt;chr&gt;</th><th scope=col>&lt;chr&gt;</th><th scope=col>&lt;chr&gt;</th><th scope=col>&lt;chr&gt;</th><th scope=col>&lt;dbl&gt;</th></tr>\n",
       "</thead>\n",
       "<tbody>\n",
       "\t<tr><td>chr1</td><td>778233</td><td>779389</td><td>chr1:778233-779389</td><td>fcc_astarr_macs_input_overlap</td><td>hic_intact_Loop_A_deep</td><td>hic_intact</td><td>chr1:778000-779000|chr1:827000-828000  </td><td>Loop_A|Loop_B</td><td>2</td></tr>\n",
       "\t<tr><td>chr1</td><td>869637</td><td>870233</td><td>chr1:869637-870233</td><td>fcc_astarr_macs_input_overlap</td><td>hic_intact_Loop_A_deep</td><td>hic_intact</td><td>chr1:870000-872000|chr1:974000-976000  </td><td>Loop_A|Loop_B</td><td>2</td></tr>\n",
       "\t<tr><td>chr1</td><td>869637</td><td>870233</td><td>chr1:869637-870233</td><td>fcc_astarr_macs_input_overlap</td><td>hic_intact_Loop_A_deep</td><td>hic_intact</td><td>chr1:870000-872000|chr1:1062000-1064000</td><td>Loop_A|Loop_B</td><td>3</td></tr>\n",
       "\t<tr><td>chr1</td><td>869637</td><td>870233</td><td>chr1:869637-870233</td><td>fcc_astarr_macs_input_overlap</td><td>hic_intact_Loop_A_deep</td><td>hic_intact</td><td>chr1:870000-875000|chr1:935000-940000  </td><td>Loop_A|Loop_B</td><td>2</td></tr>\n",
       "\t<tr><td>chr1</td><td>869637</td><td>870233</td><td>chr1:869637-870233</td><td>fcc_astarr_macs_input_overlap</td><td>hic_intact_Loop_A_deep</td><td>hic_intact</td><td>chr1:868000-870000|chr1:1290000-1292000</td><td>Loop_A|Loop_B</td><td>3</td></tr>\n",
       "\t<tr><td>chr1</td><td>903783</td><td>905204</td><td>chr1:903783-905204</td><td>fcc_astarr_macs_input_overlap</td><td>hic_intact_Loop_A_deep</td><td>hic_intact</td><td>chr1:904000-905000|chr1:976000-977000  </td><td>Loop_A|Loop_B</td><td>2</td></tr>\n",
       "</tbody>\n",
       "</table>\n"
      ],
      "text/latex": [
       "A tibble: 6 × 10\n",
       "\\begin{tabular}{llllllllll}\n",
       " Chrom\\_A & ChromStart\\_A & ChromEnd\\_A & Region\\_A & Annotation\\_A & Annotation\\_B & Group\\_B & Name\\_B & Label\\_B & Count\\\\\n",
       " <chr> & <dbl> & <dbl> & <chr> & <chr> & <chr> & <chr> & <chr> & <chr> & <dbl>\\\\\n",
       "\\hline\n",
       "\t chr1 & 778233 & 779389 & chr1:778233-779389 & fcc\\_astarr\\_macs\\_input\\_overlap & hic\\_intact\\_Loop\\_A\\_deep & hic\\_intact & chr1:778000-779000\\textbar{}chr1:827000-828000   & Loop\\_A\\textbar{}Loop\\_B & 2\\\\\n",
       "\t chr1 & 869637 & 870233 & chr1:869637-870233 & fcc\\_astarr\\_macs\\_input\\_overlap & hic\\_intact\\_Loop\\_A\\_deep & hic\\_intact & chr1:870000-872000\\textbar{}chr1:974000-976000   & Loop\\_A\\textbar{}Loop\\_B & 2\\\\\n",
       "\t chr1 & 869637 & 870233 & chr1:869637-870233 & fcc\\_astarr\\_macs\\_input\\_overlap & hic\\_intact\\_Loop\\_A\\_deep & hic\\_intact & chr1:870000-872000\\textbar{}chr1:1062000-1064000 & Loop\\_A\\textbar{}Loop\\_B & 3\\\\\n",
       "\t chr1 & 869637 & 870233 & chr1:869637-870233 & fcc\\_astarr\\_macs\\_input\\_overlap & hic\\_intact\\_Loop\\_A\\_deep & hic\\_intact & chr1:870000-875000\\textbar{}chr1:935000-940000   & Loop\\_A\\textbar{}Loop\\_B & 2\\\\\n",
       "\t chr1 & 869637 & 870233 & chr1:869637-870233 & fcc\\_astarr\\_macs\\_input\\_overlap & hic\\_intact\\_Loop\\_A\\_deep & hic\\_intact & chr1:868000-870000\\textbar{}chr1:1290000-1292000 & Loop\\_A\\textbar{}Loop\\_B & 3\\\\\n",
       "\t chr1 & 903783 & 905204 & chr1:903783-905204 & fcc\\_astarr\\_macs\\_input\\_overlap & hic\\_intact\\_Loop\\_A\\_deep & hic\\_intact & chr1:904000-905000\\textbar{}chr1:976000-977000   & Loop\\_A\\textbar{}Loop\\_B & 2\\\\\n",
       "\\end{tabular}\n"
      ],
      "text/markdown": [
       "\n",
       "A tibble: 6 × 10\n",
       "\n",
       "| Chrom_A &lt;chr&gt; | ChromStart_A &lt;dbl&gt; | ChromEnd_A &lt;dbl&gt; | Region_A &lt;chr&gt; | Annotation_A &lt;chr&gt; | Annotation_B &lt;chr&gt; | Group_B &lt;chr&gt; | Name_B &lt;chr&gt; | Label_B &lt;chr&gt; | Count &lt;dbl&gt; |\n",
       "|---|---|---|---|---|---|---|---|---|---|\n",
       "| chr1 | 778233 | 779389 | chr1:778233-779389 | fcc_astarr_macs_input_overlap | hic_intact_Loop_A_deep | hic_intact | chr1:778000-779000|chr1:827000-828000   | Loop_A|Loop_B | 2 |\n",
       "| chr1 | 869637 | 870233 | chr1:869637-870233 | fcc_astarr_macs_input_overlap | hic_intact_Loop_A_deep | hic_intact | chr1:870000-872000|chr1:974000-976000   | Loop_A|Loop_B | 2 |\n",
       "| chr1 | 869637 | 870233 | chr1:869637-870233 | fcc_astarr_macs_input_overlap | hic_intact_Loop_A_deep | hic_intact | chr1:870000-872000|chr1:1062000-1064000 | Loop_A|Loop_B | 3 |\n",
       "| chr1 | 869637 | 870233 | chr1:869637-870233 | fcc_astarr_macs_input_overlap | hic_intact_Loop_A_deep | hic_intact | chr1:870000-875000|chr1:935000-940000   | Loop_A|Loop_B | 2 |\n",
       "| chr1 | 869637 | 870233 | chr1:869637-870233 | fcc_astarr_macs_input_overlap | hic_intact_Loop_A_deep | hic_intact | chr1:868000-870000|chr1:1290000-1292000 | Loop_A|Loop_B | 3 |\n",
       "| chr1 | 903783 | 905204 | chr1:903783-905204 | fcc_astarr_macs_input_overlap | hic_intact_Loop_A_deep | hic_intact | chr1:904000-905000|chr1:976000-977000   | Loop_A|Loop_B | 2 |\n",
       "\n"
      ],
      "text/plain": [
       "  Chrom_A ChromStart_A ChromEnd_A Region_A          \n",
       "1 chr1    778233       779389     chr1:778233-779389\n",
       "2 chr1    869637       870233     chr1:869637-870233\n",
       "3 chr1    869637       870233     chr1:869637-870233\n",
       "4 chr1    869637       870233     chr1:869637-870233\n",
       "5 chr1    869637       870233     chr1:869637-870233\n",
       "6 chr1    903783       905204     chr1:903783-905204\n",
       "  Annotation_A                  Annotation_B           Group_B   \n",
       "1 fcc_astarr_macs_input_overlap hic_intact_Loop_A_deep hic_intact\n",
       "2 fcc_astarr_macs_input_overlap hic_intact_Loop_A_deep hic_intact\n",
       "3 fcc_astarr_macs_input_overlap hic_intact_Loop_A_deep hic_intact\n",
       "4 fcc_astarr_macs_input_overlap hic_intact_Loop_A_deep hic_intact\n",
       "5 fcc_astarr_macs_input_overlap hic_intact_Loop_A_deep hic_intact\n",
       "6 fcc_astarr_macs_input_overlap hic_intact_Loop_A_deep hic_intact\n",
       "  Name_B                                  Label_B       Count\n",
       "1 chr1:778000-779000|chr1:827000-828000   Loop_A|Loop_B 2    \n",
       "2 chr1:870000-872000|chr1:974000-976000   Loop_A|Loop_B 2    \n",
       "3 chr1:870000-872000|chr1:1062000-1064000 Loop_A|Loop_B 3    \n",
       "4 chr1:870000-875000|chr1:935000-940000   Loop_A|Loop_B 2    \n",
       "5 chr1:868000-870000|chr1:1290000-1292000 Loop_A|Loop_B 3    \n",
       "6 chr1:904000-905000|chr1:976000-977000   Loop_A|Loop_B 2    "
      ]
     },
     "metadata": {},
     "output_type": "display_data"
    }
   ],
   "source": [
    "txt_fdiry = file.path(\n",
    "    FD_RES, \n",
    "    \"region_annotation\", \n",
    "    \"fcc_astarr_macs_input_overlap\",\n",
    "    \"summary\"\n",
    ")\n",
    "txt_fname = \"region.summary.hic_intact_K562_deep.tsv\"\n",
    "txt_fpath = file.path(txt_fdiry, txt_fname)\n",
    "\n",
    "dat = read_tsv(txt_fpath, show_col_types = FALSE)\n",
    "\n",
    "dat_region_annot_loop_summary = dat\n",
    "head(dat)"
   ]
  },
  {
   "cell_type": "code",
   "execution_count": 7,
   "id": "2d8eaf22-a24e-44a6-904e-330474ccf27c",
   "metadata": {},
   "outputs": [
    {
     "data": {
      "text/html": [
       "<table class=\"dataframe\">\n",
       "<caption>A tibble: 6 × 14</caption>\n",
       "<thead>\n",
       "\t<tr><th scope=col>Chrom_A</th><th scope=col>ChromStart_A</th><th scope=col>ChromEnd_A</th><th scope=col>Chrom_B</th><th scope=col>ChromStart_B</th><th scope=col>ChromEnd_B</th><th scope=col>Name_B</th><th scope=col>Group_B</th><th scope=col>Label_B</th><th scope=col>Overlap</th><th scope=col>Region_A</th><th scope=col>Region_B</th><th scope=col>Annotation_A</th><th scope=col>Annotation_B</th></tr>\n",
       "\t<tr><th scope=col>&lt;chr&gt;</th><th scope=col>&lt;dbl&gt;</th><th scope=col>&lt;dbl&gt;</th><th scope=col>&lt;chr&gt;</th><th scope=col>&lt;dbl&gt;</th><th scope=col>&lt;dbl&gt;</th><th scope=col>&lt;chr&gt;</th><th scope=col>&lt;chr&gt;</th><th scope=col>&lt;chr&gt;</th><th scope=col>&lt;dbl&gt;</th><th scope=col>&lt;chr&gt;</th><th scope=col>&lt;chr&gt;</th><th scope=col>&lt;chr&gt;</th><th scope=col>&lt;chr&gt;</th></tr>\n",
       "</thead>\n",
       "<tbody>\n",
       "\t<tr><td>chr1</td><td>778233</td><td>779389</td><td>chr1</td><td>778000</td><td>779000</td><td>chr1:778000-779000|chr1:827000-828000  </td><td>hic_intact</td><td>Loop_A</td><td> 767</td><td>chr1:778233-779389</td><td>chr1:778000-779000</td><td>fcc_astarr_macs_input_overlap</td><td>hic_intact_Loop_A_deep</td></tr>\n",
       "\t<tr><td>chr1</td><td>869637</td><td>870233</td><td>chr1</td><td>870000</td><td>872000</td><td>chr1:870000-872000|chr1:974000-976000  </td><td>hic_intact</td><td>Loop_A</td><td> 233</td><td>chr1:869637-870233</td><td>chr1:870000-872000</td><td>fcc_astarr_macs_input_overlap</td><td>hic_intact_Loop_A_deep</td></tr>\n",
       "\t<tr><td>chr1</td><td>869637</td><td>870233</td><td>chr1</td><td>870000</td><td>872000</td><td>chr1:870000-872000|chr1:1062000-1064000</td><td>hic_intact</td><td>Loop_A</td><td> 233</td><td>chr1:869637-870233</td><td>chr1:870000-872000</td><td>fcc_astarr_macs_input_overlap</td><td>hic_intact_Loop_A_deep</td></tr>\n",
       "\t<tr><td>chr1</td><td>869637</td><td>870233</td><td>chr1</td><td>870000</td><td>875000</td><td>chr1:870000-875000|chr1:935000-940000  </td><td>hic_intact</td><td>Loop_A</td><td> 233</td><td>chr1:869637-870233</td><td>chr1:870000-875000</td><td>fcc_astarr_macs_input_overlap</td><td>hic_intact_Loop_A_deep</td></tr>\n",
       "\t<tr><td>chr1</td><td>869637</td><td>870233</td><td>chr1</td><td>868000</td><td>870000</td><td>chr1:868000-870000|chr1:1290000-1292000</td><td>hic_intact</td><td>Loop_A</td><td> 363</td><td>chr1:869637-870233</td><td>chr1:868000-870000</td><td>fcc_astarr_macs_input_overlap</td><td>hic_intact_Loop_A_deep</td></tr>\n",
       "\t<tr><td>chr1</td><td>903783</td><td>905204</td><td>chr1</td><td>904000</td><td>905000</td><td>chr1:904000-905000|chr1:976000-977000  </td><td>hic_intact</td><td>Loop_A</td><td>1000</td><td>chr1:903783-905204</td><td>chr1:904000-905000</td><td>fcc_astarr_macs_input_overlap</td><td>hic_intact_Loop_A_deep</td></tr>\n",
       "</tbody>\n",
       "</table>\n"
      ],
      "text/latex": [
       "A tibble: 6 × 14\n",
       "\\begin{tabular}{llllllllllllll}\n",
       " Chrom\\_A & ChromStart\\_A & ChromEnd\\_A & Chrom\\_B & ChromStart\\_B & ChromEnd\\_B & Name\\_B & Group\\_B & Label\\_B & Overlap & Region\\_A & Region\\_B & Annotation\\_A & Annotation\\_B\\\\\n",
       " <chr> & <dbl> & <dbl> & <chr> & <dbl> & <dbl> & <chr> & <chr> & <chr> & <dbl> & <chr> & <chr> & <chr> & <chr>\\\\\n",
       "\\hline\n",
       "\t chr1 & 778233 & 779389 & chr1 & 778000 & 779000 & chr1:778000-779000\\textbar{}chr1:827000-828000   & hic\\_intact & Loop\\_A &  767 & chr1:778233-779389 & chr1:778000-779000 & fcc\\_astarr\\_macs\\_input\\_overlap & hic\\_intact\\_Loop\\_A\\_deep\\\\\n",
       "\t chr1 & 869637 & 870233 & chr1 & 870000 & 872000 & chr1:870000-872000\\textbar{}chr1:974000-976000   & hic\\_intact & Loop\\_A &  233 & chr1:869637-870233 & chr1:870000-872000 & fcc\\_astarr\\_macs\\_input\\_overlap & hic\\_intact\\_Loop\\_A\\_deep\\\\\n",
       "\t chr1 & 869637 & 870233 & chr1 & 870000 & 872000 & chr1:870000-872000\\textbar{}chr1:1062000-1064000 & hic\\_intact & Loop\\_A &  233 & chr1:869637-870233 & chr1:870000-872000 & fcc\\_astarr\\_macs\\_input\\_overlap & hic\\_intact\\_Loop\\_A\\_deep\\\\\n",
       "\t chr1 & 869637 & 870233 & chr1 & 870000 & 875000 & chr1:870000-875000\\textbar{}chr1:935000-940000   & hic\\_intact & Loop\\_A &  233 & chr1:869637-870233 & chr1:870000-875000 & fcc\\_astarr\\_macs\\_input\\_overlap & hic\\_intact\\_Loop\\_A\\_deep\\\\\n",
       "\t chr1 & 869637 & 870233 & chr1 & 868000 & 870000 & chr1:868000-870000\\textbar{}chr1:1290000-1292000 & hic\\_intact & Loop\\_A &  363 & chr1:869637-870233 & chr1:868000-870000 & fcc\\_astarr\\_macs\\_input\\_overlap & hic\\_intact\\_Loop\\_A\\_deep\\\\\n",
       "\t chr1 & 903783 & 905204 & chr1 & 904000 & 905000 & chr1:904000-905000\\textbar{}chr1:976000-977000   & hic\\_intact & Loop\\_A & 1000 & chr1:903783-905204 & chr1:904000-905000 & fcc\\_astarr\\_macs\\_input\\_overlap & hic\\_intact\\_Loop\\_A\\_deep\\\\\n",
       "\\end{tabular}\n"
      ],
      "text/markdown": [
       "\n",
       "A tibble: 6 × 14\n",
       "\n",
       "| Chrom_A &lt;chr&gt; | ChromStart_A &lt;dbl&gt; | ChromEnd_A &lt;dbl&gt; | Chrom_B &lt;chr&gt; | ChromStart_B &lt;dbl&gt; | ChromEnd_B &lt;dbl&gt; | Name_B &lt;chr&gt; | Group_B &lt;chr&gt; | Label_B &lt;chr&gt; | Overlap &lt;dbl&gt; | Region_A &lt;chr&gt; | Region_B &lt;chr&gt; | Annotation_A &lt;chr&gt; | Annotation_B &lt;chr&gt; |\n",
       "|---|---|---|---|---|---|---|---|---|---|---|---|---|---|\n",
       "| chr1 | 778233 | 779389 | chr1 | 778000 | 779000 | chr1:778000-779000|chr1:827000-828000   | hic_intact | Loop_A |  767 | chr1:778233-779389 | chr1:778000-779000 | fcc_astarr_macs_input_overlap | hic_intact_Loop_A_deep |\n",
       "| chr1 | 869637 | 870233 | chr1 | 870000 | 872000 | chr1:870000-872000|chr1:974000-976000   | hic_intact | Loop_A |  233 | chr1:869637-870233 | chr1:870000-872000 | fcc_astarr_macs_input_overlap | hic_intact_Loop_A_deep |\n",
       "| chr1 | 869637 | 870233 | chr1 | 870000 | 872000 | chr1:870000-872000|chr1:1062000-1064000 | hic_intact | Loop_A |  233 | chr1:869637-870233 | chr1:870000-872000 | fcc_astarr_macs_input_overlap | hic_intact_Loop_A_deep |\n",
       "| chr1 | 869637 | 870233 | chr1 | 870000 | 875000 | chr1:870000-875000|chr1:935000-940000   | hic_intact | Loop_A |  233 | chr1:869637-870233 | chr1:870000-875000 | fcc_astarr_macs_input_overlap | hic_intact_Loop_A_deep |\n",
       "| chr1 | 869637 | 870233 | chr1 | 868000 | 870000 | chr1:868000-870000|chr1:1290000-1292000 | hic_intact | Loop_A |  363 | chr1:869637-870233 | chr1:868000-870000 | fcc_astarr_macs_input_overlap | hic_intact_Loop_A_deep |\n",
       "| chr1 | 903783 | 905204 | chr1 | 904000 | 905000 | chr1:904000-905000|chr1:976000-977000   | hic_intact | Loop_A | 1000 | chr1:903783-905204 | chr1:904000-905000 | fcc_astarr_macs_input_overlap | hic_intact_Loop_A_deep |\n",
       "\n"
      ],
      "text/plain": [
       "  Chrom_A ChromStart_A ChromEnd_A Chrom_B ChromStart_B ChromEnd_B\n",
       "1 chr1    778233       779389     chr1    778000       779000    \n",
       "2 chr1    869637       870233     chr1    870000       872000    \n",
       "3 chr1    869637       870233     chr1    870000       872000    \n",
       "4 chr1    869637       870233     chr1    870000       875000    \n",
       "5 chr1    869637       870233     chr1    868000       870000    \n",
       "6 chr1    903783       905204     chr1    904000       905000    \n",
       "  Name_B                                  Group_B    Label_B Overlap\n",
       "1 chr1:778000-779000|chr1:827000-828000   hic_intact Loop_A   767   \n",
       "2 chr1:870000-872000|chr1:974000-976000   hic_intact Loop_A   233   \n",
       "3 chr1:870000-872000|chr1:1062000-1064000 hic_intact Loop_A   233   \n",
       "4 chr1:870000-875000|chr1:935000-940000   hic_intact Loop_A   233   \n",
       "5 chr1:868000-870000|chr1:1290000-1292000 hic_intact Loop_A   363   \n",
       "6 chr1:904000-905000|chr1:976000-977000   hic_intact Loop_A  1000   \n",
       "  Region_A           Region_B           Annotation_A                 \n",
       "1 chr1:778233-779389 chr1:778000-779000 fcc_astarr_macs_input_overlap\n",
       "2 chr1:869637-870233 chr1:870000-872000 fcc_astarr_macs_input_overlap\n",
       "3 chr1:869637-870233 chr1:870000-872000 fcc_astarr_macs_input_overlap\n",
       "4 chr1:869637-870233 chr1:870000-875000 fcc_astarr_macs_input_overlap\n",
       "5 chr1:869637-870233 chr1:868000-870000 fcc_astarr_macs_input_overlap\n",
       "6 chr1:903783-905204 chr1:904000-905000 fcc_astarr_macs_input_overlap\n",
       "  Annotation_B          \n",
       "1 hic_intact_Loop_A_deep\n",
       "2 hic_intact_Loop_A_deep\n",
       "3 hic_intact_Loop_A_deep\n",
       "4 hic_intact_Loop_A_deep\n",
       "5 hic_intact_Loop_A_deep\n",
       "6 hic_intact_Loop_A_deep"
      ]
     },
     "metadata": {},
     "output_type": "display_data"
    }
   ],
   "source": [
    "dat = dat_region_annot_loop_intersect\n",
    "dat = \n",
    "head(dat)"
   ]
  },
  {
   "cell_type": "code",
   "execution_count": null,
   "id": "543e4ea5-764a-47d2-bd8c-8ad44ee23e19",
   "metadata": {},
   "outputs": [],
   "source": []
  },
  {
   "cell_type": "code",
   "execution_count": null,
   "id": "b259f2b4-5d8d-4b2f-8880-6481b6705464",
   "metadata": {},
   "outputs": [],
   "source": []
  },
  {
   "cell_type": "code",
   "execution_count": null,
   "id": "cd6b327d-9a32-44f1-b516-9b8a62a64002",
   "metadata": {},
   "outputs": [],
   "source": []
  },
  {
   "cell_type": "code",
   "execution_count": null,
   "id": "202246b7-fa0b-458d-b1b6-76c0ba5236b7",
   "metadata": {},
   "outputs": [],
   "source": []
  }
 ],
 "metadata": {
  "kernelspec": {
   "display_name": "R",
   "language": "R",
   "name": "ir"
  },
  "language_info": {
   "codemirror_mode": "r",
   "file_extension": ".r",
   "mimetype": "text/x-r-source",
   "name": "R",
   "pygments_lexer": "r",
   "version": "4.4.1"
  }
 },
 "nbformat": 4,
 "nbformat_minor": 5
}
