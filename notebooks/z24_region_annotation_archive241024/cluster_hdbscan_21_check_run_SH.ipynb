{
 "cells": [
  {
   "cell_type": "raw",
   "id": "66685e0a-0f62-4b82-bd95-127cfc739f21",
   "metadata": {},
   "source": [
    "---\n",
    "title: FCC Peak calls\n",
    "subtitle: export annotation\n",
    "format:\n",
    "    html:\n",
    "        code-fold:  true\n",
    "        code-tools: true\n",
    "---"
   ]
  },
  {
   "cell_type": "markdown",
   "id": "3d9b4360-9a54-4aaf-bf61-a5d97396d0ab",
   "metadata": {},
   "source": [
    "**Set environment**"
   ]
  },
  {
   "cell_type": "code",
   "execution_count": 2,
   "id": "129ad538-6159-476f-bd0e-b1bc12a9c47e",
   "metadata": {},
   "outputs": [
    {
     "name": "stdout",
     "output_type": "stream",
     "text": [
      "You are working on             Duke Server: HARDAC\n",
      "BASE DIRECTORY (FD_BASE):      /data/reddylab/Kuei\n",
      "REPO DIRECTORY (FD_REPO):      /data/reddylab/Kuei/repo\n",
      "WORK DIRECTORY (FD_WORK):      /data/reddylab/Kuei/work\n",
      "DATA DIRECTORY (FD_DATA):      /data/reddylab/Kuei/data\n",
      "CONTAINER DIR. (FD_SING):      /data/reddylab/Kuei/container\n",
      "\n",
      "You are working with           ENCODE FCC\n",
      "PATH OF PROJECT (FD_PRJ):      /data/reddylab/Kuei/repo/Proj_ENCODE_FCC\n",
      "PROJECT RESULTS (FD_RES):      /data/reddylab/Kuei/repo/Proj_ENCODE_FCC/results\n",
      "PROJECT SCRIPTS (FD_EXE):      /data/reddylab/Kuei/repo/Proj_ENCODE_FCC/scripts\n",
      "PROJECT DATA    (FD_DAT):      /data/reddylab/Kuei/repo/Proj_ENCODE_FCC/data\n",
      "PROJECT NOTE    (FD_NBK):      /data/reddylab/Kuei/repo/Proj_ENCODE_FCC/notebooks\n",
      "PROJECT DOCS    (FD_DOC):      /data/reddylab/Kuei/repo/Proj_ENCODE_FCC/docs\n",
      "PROJECT LOG     (FD_LOG):      /data/reddylab/Kuei/repo/Proj_ENCODE_FCC/log\n",
      "PROJECT REF     (FD_REF):      /data/reddylab/Kuei/repo/Proj_ENCODE_FCC/references\n",
      "PROJECT IMAGE   (FP_PRJ_SIF):  /data/reddylab/Kuei/container/project/singularity_proj_encode_fcc.sif\n",
      "\n"
     ]
    }
   ],
   "source": [
    "source ../run_config_project.sh\n",
    "show_env"
   ]
  },
  {
   "cell_type": "markdown",
   "id": "da2b0122-6531-4888-b9fc-ff3aa9c8c872",
   "metadata": {},
   "source": [
    "## Preview"
   ]
  },
  {
   "cell_type": "code",
   "execution_count": 3,
   "id": "f3d2cf3e-862c-4ee4-8137-d95b3b6f9861",
   "metadata": {},
   "outputs": [
    {
     "name": "stdout",
     "output_type": "stream",
     "text": [
      "/data/reddylab/Kuei/repo/Proj_ENCODE_FCC/results\n",
      "\n",
      "\u001b[0m\u001b[38;5;27massay_fcc\u001b[0m\n",
      "\u001b[38;5;27massay_hic\u001b[0m\n",
      "\u001b[38;5;27mregion\u001b[0m\n",
      "\u001b[38;5;27mregion_annotation\u001b[0m\n",
      "\u001b[38;5;27mregion_converage_hic\u001b[0m\n",
      "\u001b[38;5;27mregion_coverage_fcc\u001b[0m\n",
      "\u001b[38;5;27mregion_integration\u001b[0m\n"
     ]
    }
   ],
   "source": [
    "FD_INP=${FD_RES}\n",
    "echo  ${FD_INP}\n",
    "echo \n",
    "ls -1 ${FD_INP}"
   ]
  },
  {
   "cell_type": "code",
   "execution_count": 4,
   "id": "ca9451ca-8d4a-40e8-b288-9c8de4345e09",
   "metadata": {},
   "outputs": [
    {
     "name": "stdout",
     "output_type": "stream",
     "text": [
      "/data/reddylab/Kuei/repo/Proj_ENCODE_FCC/results/region_annotation/fcc_astarr_macs_input_overlap/summary\n",
      "\n",
      "hclust.col.annotation.prepare.chipseq_full.fcc.tss.rds\n",
      "hclust.col.annotation.prepare.chipseq_full.only.rds\n",
      "hclust.col.annotation.test_chrX.chipseq_full.only.rds\n",
      "hclust.row.annotation.prepare.chipseq_full.fcc.tss.rds\n",
      "hclust.row.annotation.prepare.chipseq_full.only.rds\n",
      "hclust.row.annotation.test_chrX.chipseq_full.only.rds\n",
      "hdbscan.metric_manhattan.min_cluster_size_1e2.annotation.prepare.cre.chipseq_full.fcc.pkl\n",
      "hdbscan.metric_manhattan.min_cluster_size_1e2.annotation.prepare.cre.chipseq_full.fcc.tss.pkl\n",
      "hdbscan.metric_manhattan.min_cluster_size_1e2.annotation.prepare.cre.chipseq_full.only.pkl\n",
      "hdbscan.metric_manhattan.min_cluster_size_1e2.annotation.test_chrX.chipseq_full.fcc.tss.pkl\n"
     ]
    }
   ],
   "source": [
    "FD_INP=${FD_RES}/region_annotation\n",
    "FD_INP=${FD_INP}/fcc_astarr_macs_input_overlap\n",
    "FD_INP=${FD_INP}/summary\n",
    "echo  ${FD_INP}\n",
    "echo \n",
    "ls -1 ${FD_INP} | head"
   ]
  },
  {
   "cell_type": "code",
   "execution_count": 5,
   "id": "8a688ee8-b764-4c2e-885f-6838452bb6b0",
   "metadata": {},
   "outputs": [
    {
     "name": "stdout",
     "output_type": "stream",
     "text": [
      "matrix.annotation.test_chrX.chipseq_full.fcc.tss.tsv\n",
      "matrix.annotation.test_chrX.chipseq_full.only.tsv\n"
     ]
    }
   ],
   "source": [
    "FD_INP=${FD_RES}/region_annotation\n",
    "FD_INP=${FD_INP}/fcc_astarr_macs_input_overlap\n",
    "FD_INP=${FD_INP}/summary\n",
    "FP_INPS=($(ls ${FD_INP}/matrix*test*tsv))\n",
    "\n",
    "for FP_INP in ${FP_INPS[@]}; do\n",
    "    FN_INP=$(basename ${FP_INP})\n",
    "    echo ${FN_INP}\n",
    "done"
   ]
  },
  {
   "cell_type": "code",
   "execution_count": 6,
   "id": "914fe0e9-708f-47a2-adfc-ffb8e785c04f",
   "metadata": {},
   "outputs": [
    {
     "name": "stdout",
     "output_type": "stream",
     "text": [
      "matrix.annotation.prepare.cre.chipseq_full.fcc.tss.tsv\n",
      "matrix.annotation.prepare.cre.chipseq_full.fcc.tsv\n",
      "matrix.annotation.prepare.cre.chipseq_full.only.tsv\n",
      "matrix.annotation.prepare.enh.chipseq_full.fcc.tss.tsv\n",
      "matrix.annotation.prepare.enh.chipseq_full.fcc.tsv\n",
      "matrix.annotation.prepare.enh.chipseq_full.only.tsv\n",
      "matrix.annotation.prepare.full.chipseq_full.fcc.tss.tsv\n",
      "matrix.annotation.prepare.full.chipseq_full.fcc.tsv\n",
      "matrix.annotation.prepare.full.chipseq_full.only.tsv\n"
     ]
    }
   ],
   "source": [
    "FD_INP=${FD_RES}/region_annotation\n",
    "FD_INP=${FD_INP}/fcc_astarr_macs_input_overlap\n",
    "FD_INP=${FD_INP}/summary\n",
    "FP_INPS=($(ls ${FD_INP}/matrix*prepare*tsv))\n",
    "\n",
    "for FP_INP in ${FP_INPS[@]}; do\n",
    "    FN_INP=$(basename ${FP_INP})\n",
    "    echo ${FN_INP}\n",
    "done"
   ]
  },
  {
   "cell_type": "markdown",
   "id": "40a21a16-643b-4e4d-9b03-525cf58cee7e",
   "metadata": {},
   "source": [
    "## Test loop"
   ]
  },
  {
   "cell_type": "code",
   "execution_count": 7,
   "id": "2e69de02-3422-442c-b778-c5c55cc77a7e",
   "metadata": {},
   "outputs": [
    {
     "name": "stdout",
     "output_type": "stream",
     "text": [
      "1e2\n",
      "1e3\n",
      "1e4\n"
     ]
    }
   ],
   "source": [
    "VEC_NUM_MINSIZE=(1e2 1e3 1e4)\n",
    "for NUM_MINSIZE in ${VEC_NUM_MINSIZE[@]}; do\n",
    "    echo ${NUM_MINSIZE}\n",
    "done"
   ]
  },
  {
   "cell_type": "code",
   "execution_count": null,
   "id": "7918423c-e3ba-4cdc-b37e-6497d0e05c54",
   "metadata": {},
   "outputs": [],
   "source": [
    "FN_INP=umap.metric_manhattan.n_neighbors_70.annotation.prepare.cre.chipseq_full.fcc.tss.tsv\n",
    "FN_OUT=hdbscan.metric_manhattan.min_cluster_size_1e2.umap.test_chrX.chipseq_full.fcc.tss.tsv"
   ]
  },
  {
   "cell_type": "code",
   "execution_count": null,
   "id": "810a0cc8-dd37-4ed9-b150-e1b4c8ff938c",
   "metadata": {},
   "outputs": [],
   "source": []
  },
  {
   "cell_type": "code",
   "execution_count": 8,
   "id": "6c2a3ca7-1b2c-47c3-b093-58644ded2b49",
   "metadata": {},
   "outputs": [
    {
     "name": "stdout",
     "output_type": "stream",
     "text": [
      "umap.metric_manhattan.n_neighbors_70.annotation.prepare.cre.chipseq_full.fcc.tss.tsv\n",
      "hdbscan.metric_manhattan.min_cluster_size_1e2.umap.test_chrX.chipseq_full.fcc.tss.tsv\n",
      "\n"
     ]
    }
   ],
   "source": [
    "NUM_MINSIZE=1e2\n",
    "TXT_METRIC=\"manhattan\"\n",
    "\n",
    "FD_INP=${FD_RES}/region_annotation\n",
    "FD_INP=${FD_INP}/fcc_astarr_macs_input_overlap\n",
    "FD_INP=${FD_INP}/summary\n",
    "FN_INP=umap.metric_manhattan.n_neighbors_70.annotation.prepare.cre.chipseq_full.fcc.tss.tsv\n",
    "FP_INP=${FD_INP}/${FN_INP}\n",
    "\n",
    "PREFIX=\"hdbscan.metric_${TXT_METRIC}.min_cluster_size_${NUM_MINSIZE}\"\n",
    "FN_OUT=${PREFIX}.umap.test_chrX.chipseq_full.fcc.tss.tsv\n",
    "echo ${FN_INP}\n",
    "echo ${FN_OUT}\n",
    "echo"
   ]
  },
  {
   "cell_type": "code",
   "execution_count": 14,
   "id": "f0f283ac-9904-4409-ae67-8e8c177c8fd8",
   "metadata": {},
   "outputs": [
    {
     "name": "stdout",
     "output_type": "stream",
     "text": [
      "Input File:\n",
      "umap.metric_manhattan.n_neighbors_70.annotation.prepare.cre.chipseq_full.fcc.tss.tsv\n",
      "Output File:\n",
      "hdbscan.metric_euclidean.min_cluster_size_1e2.umap.prepare.cre.chipseq_full.fcc.tss.pkl\n",
      "Log File:\n",
      "${FD_LOG}/run.hdbscan.metric_euclidean.min_cluster_size_1e2.umap.prepare.cre.chipseq_full.fcc.tss.pkl.txt\n",
      "\n",
      "Input File:\n",
      "umap.metric_manhattan.n_neighbors_70.annotation.prepare.cre.chipseq_full.fcc.tss.tsv\n",
      "Output File:\n",
      "hdbscan.metric_euclidean.min_cluster_size_1e3.umap.prepare.cre.chipseq_full.fcc.tss.pkl\n",
      "Log File:\n",
      "${FD_LOG}/run.hdbscan.metric_euclidean.min_cluster_size_1e3.umap.prepare.cre.chipseq_full.fcc.tss.pkl.txt\n",
      "\n",
      "Input File:\n",
      "umap.metric_manhattan.n_neighbors_70.annotation.prepare.cre.chipseq_full.fcc.tss.tsv\n",
      "Output File:\n",
      "hdbscan.metric_euclidean.min_cluster_size_1e4.umap.prepare.cre.chipseq_full.fcc.tss.pkl\n",
      "Log File:\n",
      "${FD_LOG}/run.hdbscan.metric_euclidean.min_cluster_size_1e4.umap.prepare.cre.chipseq_full.fcc.tss.pkl.txt\n",
      "\n"
     ]
    }
   ],
   "source": [
    "VEC_NUM_MINSIZE=(1e2 1e3 1e4)\n",
    "TXT_METRIC=\"euclidean\"\n",
    "\n",
    "FD_INP=${FD_RES}/region_annotation\n",
    "FD_INP=${FD_INP}/fcc_astarr_macs_input_overlap\n",
    "FD_INP=${FD_INP}/summary\n",
    "FN_INP=umap.metric_manhattan.n_neighbors_70.annotation.prepare.cre.chipseq_full.fcc.tss.tsv\n",
    "FP_INP=${FD_INP}/${FN_INP}\n",
    "\n",
    "\n",
    "for NUM_MINSIZE in ${VEC_NUM_MINSIZE[@]}; do\n",
    "    PREFIX=\"hdbscan.metric_${TXT_METRIC}.min_cluster_size_${NUM_MINSIZE}\"\n",
    "    FN_OUT=${PREFIX}.umap.prepare.cre.chipseq_full.fcc.tss.pkl\n",
    "    FD_OUT=${FD_INP}\n",
    "    FP_OUT=${FD_OUT}/${FN_OUT}\n",
    "\n",
    "    FN_LOG=run.${FN_OUT}.txt\n",
    "    FP_LOG=${FD_LOG}/${FN_LOG}\n",
    "\n",
    "    echo \"Input File:\"\n",
    "    echo ${FN_INP}\n",
    "    echo \"Output File:\"\n",
    "    echo ${FN_OUT}\n",
    "    echo \"Log File:\"\n",
    "    echo '${FD_LOG}/'${FN_LOG}\n",
    "    echo\n",
    "done"
   ]
  },
  {
   "cell_type": "markdown",
   "id": "3fbba7da-e60d-4ba9-8000-4ce10b1aeb92",
   "metadata": {},
   "source": [
    "## Execute"
   ]
  },
  {
   "cell_type": "code",
   "execution_count": 15,
   "id": "775171f1-d392-4d3e-b27c-540950615272",
   "metadata": {},
   "outputs": [
    {
     "name": "stdout",
     "output_type": "stream",
     "text": [
      "Input File:\n",
      "umap.metric_manhattan.n_neighbors_70.annotation.prepare.cre.chipseq_full.fcc.tss.tsv\n",
      "Output File:\n",
      "hdbscan.metric_euclidean.min_cluster_size_1e2.umap.prepare.cre.chipseq_full.fcc.tss.pkl\n",
      "Log File:\n",
      "${FD_LOG}/run.hdbscan.metric_euclidean.min_cluster_size_1e2.umap.prepare.cre.chipseq_full.fcc.tss.pkl.txt\n",
      "\n",
      "Submitted batch job 35133425\n",
      "\n",
      "Input File:\n",
      "umap.metric_manhattan.n_neighbors_70.annotation.prepare.cre.chipseq_full.fcc.tss.tsv\n",
      "Output File:\n",
      "hdbscan.metric_euclidean.min_cluster_size_1e3.umap.prepare.cre.chipseq_full.fcc.tss.pkl\n",
      "Log File:\n",
      "${FD_LOG}/run.hdbscan.metric_euclidean.min_cluster_size_1e3.umap.prepare.cre.chipseq_full.fcc.tss.pkl.txt\n",
      "\n",
      "Submitted batch job 35133426\n",
      "\n",
      "Input File:\n",
      "umap.metric_manhattan.n_neighbors_70.annotation.prepare.cre.chipseq_full.fcc.tss.tsv\n",
      "Output File:\n",
      "hdbscan.metric_euclidean.min_cluster_size_1e4.umap.prepare.cre.chipseq_full.fcc.tss.pkl\n",
      "Log File:\n",
      "${FD_LOG}/run.hdbscan.metric_euclidean.min_cluster_size_1e4.umap.prepare.cre.chipseq_full.fcc.tss.pkl.txt\n",
      "\n",
      "Submitted batch job 35133427\n",
      "\n"
     ]
    }
   ],
   "source": [
    "FP_EXE=${FD_EXE}/run_region_annot_hdbscan.py\n",
    "FP_APP=${FD_APP}/sing_script.sh\n",
    "\n",
    "VEC_NUM_MINSIZE=(1e2 1e3 1e4)\n",
    "TXT_METRIC=\"euclidean\"\n",
    "\n",
    "FD_INP=${FD_RES}/region_annotation\n",
    "FD_INP=${FD_INP}/fcc_astarr_macs_input_overlap\n",
    "FD_INP=${FD_INP}/summary\n",
    "FN_INP=umap.metric_manhattan.n_neighbors_70.annotation.prepare.cre.chipseq_full.fcc.tss.tsv\n",
    "FP_INP=${FD_INP}/${FN_INP}\n",
    "\n",
    "\n",
    "for NUM_MINSIZE in ${VEC_NUM_MINSIZE[@]}; do\n",
    "    PREFIX=\"hdbscan.metric_${TXT_METRIC}.min_cluster_size_${NUM_MINSIZE}\"\n",
    "    FN_OUT=${PREFIX}.umap.prepare.cre.chipseq_full.fcc.tss.pkl\n",
    "    FD_OUT=${FD_INP}\n",
    "    FP_OUT=${FD_OUT}/${FN_OUT}\n",
    "\n",
    "    FN_LOG=run.${FN_OUT}.txt\n",
    "    FP_LOG=${FD_LOG}/${FN_LOG}\n",
    "\n",
    "    echo \"Input File:\"\n",
    "    echo ${FN_INP}\n",
    "    echo \"Output File:\"\n",
    "    echo ${FN_OUT}\n",
    "    echo \"Log File:\"\n",
    "    echo '${FD_LOG}/'${FN_LOG}\n",
    "    echo\n",
    "    sbatch -p ${NODE} \\\n",
    "        --exclude=dl-01 \\\n",
    "        --cpus-per-task 20 \\\n",
    "        --mem 30G \\\n",
    "        --output ${FP_LOG} \\\n",
    "        ${FP_APP} python ${FP_EXE} ${FP_INP} ${FP_OUT} ${TXT_METRIC} ${NUM_MINSIZE}\n",
    "    echo\n",
    "done"
   ]
  },
  {
   "cell_type": "markdown",
   "id": "476e8ed5-2ea8-44eb-9545-207124344326",
   "metadata": {},
   "source": [
    "## Review"
   ]
  },
  {
   "cell_type": "code",
   "execution_count": 16,
   "id": "b533dd6b-0b67-4e24-88cd-72d07a4663db",
   "metadata": {},
   "outputs": [
    {
     "name": "stdout",
     "output_type": "stream",
     "text": [
      "Input  File:\n",
      "/data/reddylab/Kuei/repo/Proj_ENCODE_FCC/results/region_annotation/fcc_astarr_macs_input_overlap/summary/umap.metric_manhattan.n_neighbors_70.annotation.prepare.cre.chipseq_full.fcc.tss.tsv\n",
      "\n",
      "Output File:\n",
      "/data/reddylab/Kuei/repo/Proj_ENCODE_FCC/results/region_annotation/fcc_astarr_macs_input_overlap/summary/hdbscan.metric_euclidean.min_cluster_size_1e2.umap.prepare.cre.chipseq_full.fcc.tss.pkl\n",
      "\n",
      "Metric:\n",
      "euclidean\n",
      "\n",
      "Min Cluster Size:\n",
      "100\n",
      "\n"
     ]
    }
   ],
   "source": [
    "cat ${FD_LOG}/run.hdbscan.metric_euclidean.min_cluster_size_1e2.umap.prepare.cre.chipseq_full.fcc.tss.pkl.txt"
   ]
  },
  {
   "cell_type": "code",
   "execution_count": 17,
   "id": "9ab6f4d3-9b52-48b3-a0d4-712e44541e7a",
   "metadata": {},
   "outputs": [
    {
     "name": "stdout",
     "output_type": "stream",
     "text": [
      "Input  File:\n",
      "/data/reddylab/Kuei/repo/Proj_ENCODE_FCC/results/region_annotation/fcc_astarr_macs_input_overlap/summary/umap.metric_manhattan.n_neighbors_70.annotation.prepare.cre.chipseq_full.fcc.tss.tsv\n",
      "\n",
      "Output File:\n",
      "/data/reddylab/Kuei/repo/Proj_ENCODE_FCC/results/region_annotation/fcc_astarr_macs_input_overlap/summary/hdbscan.metric_euclidean.min_cluster_size_1e3.umap.prepare.cre.chipseq_full.fcc.tss.pkl\n",
      "\n",
      "Metric:\n",
      "euclidean\n",
      "\n",
      "Min Cluster Size:\n",
      "1000\n",
      "\n"
     ]
    }
   ],
   "source": [
    "cat ${FD_LOG}/run.hdbscan.metric_euclidean.min_cluster_size_1e3.umap.prepare.cre.chipseq_full.fcc.tss.pkl.txt"
   ]
  },
  {
   "cell_type": "code",
   "execution_count": 18,
   "id": "509b689e-785b-4b64-b073-0c82ae001df5",
   "metadata": {},
   "outputs": [
    {
     "name": "stdout",
     "output_type": "stream",
     "text": [
      "Input  File:\n",
      "/data/reddylab/Kuei/repo/Proj_ENCODE_FCC/results/region_annotation/fcc_astarr_macs_input_overlap/summary/umap.metric_manhattan.n_neighbors_70.annotation.prepare.cre.chipseq_full.fcc.tss.tsv\n",
      "\n",
      "Output File:\n",
      "/data/reddylab/Kuei/repo/Proj_ENCODE_FCC/results/region_annotation/fcc_astarr_macs_input_overlap/summary/hdbscan.metric_euclidean.min_cluster_size_1e4.umap.prepare.cre.chipseq_full.fcc.tss.pkl\n",
      "\n",
      "Metric:\n",
      "euclidean\n",
      "\n",
      "Min Cluster Size:\n",
      "10000\n",
      "\n"
     ]
    }
   ],
   "source": [
    "cat ${FD_LOG}/run.hdbscan.metric_euclidean.min_cluster_size_1e4.umap.prepare.cre.chipseq_full.fcc.tss.pkl.txt"
   ]
  },
  {
   "cell_type": "code",
   "execution_count": null,
   "id": "a1108663-040e-40b3-b798-ec3f7f506233",
   "metadata": {},
   "outputs": [],
   "source": []
  },
  {
   "cell_type": "code",
   "execution_count": null,
   "id": "4a490af0-ba57-4b18-b608-91f6d1169148",
   "metadata": {},
   "outputs": [],
   "source": []
  },
  {
   "cell_type": "code",
   "execution_count": null,
   "id": "975fb035-64a8-4832-8b82-ea5058a33f81",
   "metadata": {},
   "outputs": [],
   "source": []
  }
 ],
 "metadata": {
  "kernelspec": {
   "display_name": "Bash",
   "language": "bash",
   "name": "bash"
  },
  "language_info": {
   "codemirror_mode": "shell",
   "file_extension": ".sh",
   "mimetype": "text/x-sh",
   "name": "bash"
  }
 },
 "nbformat": 4,
 "nbformat_minor": 5
}
