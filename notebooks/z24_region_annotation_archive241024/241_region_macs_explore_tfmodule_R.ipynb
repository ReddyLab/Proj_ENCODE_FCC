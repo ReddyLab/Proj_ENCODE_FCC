{
 "cells": [
  {
   "cell_type": "raw",
   "id": "34f6d62f-d1be-441d-bfbe-afbf4f89aa05",
   "metadata": {},
   "source": [
    "---\n",
    "title: Prepare TF Modules 01\n",
    "subtitle: Explore the data\n",
    "format:\n",
    "    html:\n",
    "        code-fold:  true\n",
    "        code-tools: true\n",
    "---"
   ]
  },
  {
   "cell_type": "markdown",
   "id": "46b8d87e-b123-4cba-b4d2-38b0986b7e65",
   "metadata": {},
   "source": [
    "**Set environment**"
   ]
  },
  {
   "cell_type": "code",
   "execution_count": 1,
   "id": "3d2a61d4-2a7f-492d-b39f-5c1dd329faf0",
   "metadata": {
    "tags": []
   },
   "outputs": [
    {
     "name": "stdout",
     "output_type": "stream",
     "text": [
      "You are working on        Singularity \n",
      "BASE DIRECTORY (FD_BASE): /mount \n",
      "REPO DIRECTORY (FD_REPO): /mount/repo \n",
      "WORK DIRECTORY (FD_WORK): /mount/work \n",
      "DATA DIRECTORY (FD_DATA): /mount/data \n",
      "\n",
      "You are working with      ENCODE FCC \n",
      "PATH OF PROJECT (FD_PRJ): /mount/repo/Proj_ENCODE_FCC \n",
      "PROJECT RESULTS (FD_RES): /mount/repo/Proj_ENCODE_FCC/results \n",
      "PROJECT SCRIPTS (FD_EXE): /mount/repo/Proj_ENCODE_FCC/scripts \n",
      "PROJECT DATA    (FD_DAT): /mount/repo/Proj_ENCODE_FCC/data \n",
      "PROJECT NOTE    (FD_NBK): /mount/repo/Proj_ENCODE_FCC/notebooks \n",
      "PROJECT DOCS    (FD_DOC): /mount/repo/Proj_ENCODE_FCC/docs \n",
      "PROJECT LOG     (FD_LOG): /mount/repo/Proj_ENCODE_FCC/log \n",
      "PROJECT APP     (FD_APP): /mount/repo/Proj_ENCODE_FCC/app \n",
      "PROJECT REF     (FD_REF): /mount/repo/Proj_ENCODE_FCC/references \n",
      "\n"
     ]
    }
   ],
   "source": [
    "suppressMessages(suppressWarnings(source(\"../run_config_project_sing.R\")))\n",
    "show_env()"
   ]
  },
  {
   "cell_type": "code",
   "execution_count": 2,
   "id": "e65659dc-42a8-498e-b773-34f7ca838900",
   "metadata": {},
   "outputs": [
    {
     "name": "stdout",
     "output_type": "stream",
     "text": [
      " [1] \"matrix.annotation.chipseq.tsv\"                            \n",
      " [2] \"matrix.annotation.subset.tsv\"                             \n",
      " [3] \"matrix.annotation.tss.chipseq_histone.chipseq_encode4.tsv\"\n",
      " [4] \"region.annotation.encode_chromatin_states.tsv\"            \n",
      " [5] \"region.annotation.fcc_astarr_csaw.tsv\"                    \n",
      " [6] \"region.annotation.fcc_crispri_hcrff.tsv\"                  \n",
      " [7] \"region.annotation.fcc_mpra_agarwal2023.tsv\"               \n",
      " [8] \"region.annotation.fcc_starrmpra_junke.tsv\"                \n",
      " [9] \"region.annotation.genome_tss.tsv\"                         \n",
      "[10] \"region.annotation.hic_insitu_K562_ENCSR545YBD.tsv\"        \n",
      "[11] \"region.annotation.hic_intact_K562_deep.tsv\"               \n",
      "[12] \"region.annotation.hic_intact_K562_ENCSR479XDG.tsv\"        \n",
      "[13] \"region.annotation.module_tf_shannon.tsv\"                  \n",
      "[14] \"region.summary.connectivity.loop.tsv\"                     \n",
      "[15] \"region.summary.encode_chipseq_encode4.tsv\"                \n",
      "[16] \"region.summary.encode_chipseq_flagship.tsv\"               \n",
      "[17] \"region.summary.encode_chipseq_histone.tsv\"                \n",
      "[18] \"region.summary.encode_chipseq_subset.tsv\"                 \n",
      "[19] \"region.summary.encode_chromatin_states.tsv\"               \n",
      "[20] \"region.summary.fcc_astarr_csaw.tsv\"                       \n",
      "[21] \"region.summary.fcc_crispri_hcrff.tsv\"                     \n",
      "[22] \"region.summary.fcc_mpra_agarwal2023.tsv\"                  \n",
      "[23] \"region.summary.fcc_starrmpra_junke.tsv\"                   \n",
      "[24] \"region.summary.genome_tss.tsv\"                            \n",
      "[25] \"region.summary.hic_insitu_K562_ENCSR545YBD.tsv\"           \n",
      "[26] \"region.summary.hic_intact_K562_deep.tsv\"                  \n",
      "[27] \"region.summary.hic_intact_K562_ENCSR479XDG.tsv\"           \n",
      "[28] \"region.summary.module_tf_shannon.tsv\"                     \n",
      "[29] \"umap.annotation.chipseq.tsv\"                              \n"
     ]
    }
   ],
   "source": [
    "txt_fdiry = file.path(\n",
    "    FD_RES, \n",
    "    \"region_annotation\", \n",
    "    \"fcc_astarr_macs_input_overlap\",\n",
    "    \"summary\"\n",
    ")\n",
    "vec = dir(txt_fdiry)\n",
    "print(vec)"
   ]
  },
  {
   "cell_type": "code",
   "execution_count": 3,
   "id": "755a8f49-8fc1-46a7-bdd6-5ee65c0c587d",
   "metadata": {},
   "outputs": [
    {
     "name": "stdout",
     "output_type": "stream",
     "text": [
      "[1] 265588     14\n"
     ]
    },
    {
     "data": {
      "text/html": [
       "<table>\n",
       " <thead>\n",
       "  <tr>\n",
       "   <th style=\"text-align:left;\"> Chrom_A </th>\n",
       "   <th style=\"text-align:right;\"> ChromStart_A </th>\n",
       "   <th style=\"text-align:right;\"> ChromEnd_A </th>\n",
       "   <th style=\"text-align:left;\"> Chrom_B </th>\n",
       "   <th style=\"text-align:right;\"> ChromStart_B </th>\n",
       "   <th style=\"text-align:right;\"> ChromEnd_B </th>\n",
       "   <th style=\"text-align:left;\"> Name_B </th>\n",
       "   <th style=\"text-align:left;\"> Group_B </th>\n",
       "   <th style=\"text-align:left;\"> Label_B </th>\n",
       "   <th style=\"text-align:right;\"> Overlap </th>\n",
       "   <th style=\"text-align:left;\"> Region_A </th>\n",
       "   <th style=\"text-align:left;\"> Region_B </th>\n",
       "   <th style=\"text-align:left;\"> Annotation_A </th>\n",
       "   <th style=\"text-align:left;\"> Annotation_B </th>\n",
       "  </tr>\n",
       " </thead>\n",
       "<tbody>\n",
       "  <tr>\n",
       "   <td style=\"text-align:left;\"> chr1 </td>\n",
       "   <td style=\"text-align:right;\"> 115429 </td>\n",
       "   <td style=\"text-align:right;\"> 115969 </td>\n",
       "   <td style=\"text-align:left;\"> chr1 </td>\n",
       "   <td style=\"text-align:right;\"> 115702 </td>\n",
       "   <td style=\"text-align:right;\"> 115751 </td>\n",
       "   <td style=\"text-align:left;\"> chr1:115702-115751 </td>\n",
       "   <td style=\"text-align:left;\"> TF_Module </td>\n",
       "   <td style=\"text-align:left;\"> Module_02 </td>\n",
       "   <td style=\"text-align:right;\"> 49 </td>\n",
       "   <td style=\"text-align:left;\"> chr1:115429-115969 </td>\n",
       "   <td style=\"text-align:left;\"> chr1:115702-115751 </td>\n",
       "   <td style=\"text-align:left;\"> fcc_astarr_macs_input_overlap </td>\n",
       "   <td style=\"text-align:left;\"> module_tf_shannon </td>\n",
       "  </tr>\n",
       "  <tr>\n",
       "   <td style=\"text-align:left;\"> chr1 </td>\n",
       "   <td style=\"text-align:right;\"> 115429 </td>\n",
       "   <td style=\"text-align:right;\"> 115969 </td>\n",
       "   <td style=\"text-align:left;\"> chr1 </td>\n",
       "   <td style=\"text-align:right;\"> 115702 </td>\n",
       "   <td style=\"text-align:right;\"> 115751 </td>\n",
       "   <td style=\"text-align:left;\"> chr1:115702-115751 </td>\n",
       "   <td style=\"text-align:left;\"> TF_Module </td>\n",
       "   <td style=\"text-align:left;\"> Module_05 </td>\n",
       "   <td style=\"text-align:right;\"> 49 </td>\n",
       "   <td style=\"text-align:left;\"> chr1:115429-115969 </td>\n",
       "   <td style=\"text-align:left;\"> chr1:115702-115751 </td>\n",
       "   <td style=\"text-align:left;\"> fcc_astarr_macs_input_overlap </td>\n",
       "   <td style=\"text-align:left;\"> module_tf_shannon </td>\n",
       "  </tr>\n",
       "  <tr>\n",
       "   <td style=\"text-align:left;\"> chr1 </td>\n",
       "   <td style=\"text-align:right;\"> 115429 </td>\n",
       "   <td style=\"text-align:right;\"> 115969 </td>\n",
       "   <td style=\"text-align:left;\"> chr1 </td>\n",
       "   <td style=\"text-align:right;\"> 115702 </td>\n",
       "   <td style=\"text-align:right;\"> 115751 </td>\n",
       "   <td style=\"text-align:left;\"> chr1:115702-115751 </td>\n",
       "   <td style=\"text-align:left;\"> TF_Module </td>\n",
       "   <td style=\"text-align:left;\"> Module_10 </td>\n",
       "   <td style=\"text-align:right;\"> 49 </td>\n",
       "   <td style=\"text-align:left;\"> chr1:115429-115969 </td>\n",
       "   <td style=\"text-align:left;\"> chr1:115702-115751 </td>\n",
       "   <td style=\"text-align:left;\"> fcc_astarr_macs_input_overlap </td>\n",
       "   <td style=\"text-align:left;\"> module_tf_shannon </td>\n",
       "  </tr>\n",
       "</tbody>\n",
       "</table>"
      ]
     },
     "metadata": {},
     "output_type": "display_data"
    }
   ],
   "source": [
    "txt_fdiry = file.path(\n",
    "    FD_RES, \n",
    "    \"region_annotation\", \n",
    "    \"fcc_astarr_macs_input_overlap\",\n",
    "    \"summary\"\n",
    ")\n",
    "txt_fname = \"region.annotation.module_tf_shannon.tsv\"\n",
    "txt_fpath = file.path(txt_fdiry, txt_fname)\n",
    "\n",
    "dat = read_tsv(txt_fpath, show_col_types = FALSE)\n",
    "dat_region_annot_pair = dat\n",
    "print(dim(dat))\n",
    "fun_display_table(head(dat, 3))"
   ]
  },
  {
   "cell_type": "code",
   "execution_count": null,
   "id": "bb380796-a0b3-46e2-9c46-d9e272ef1635",
   "metadata": {},
   "outputs": [],
   "source": []
  }
 ],
 "metadata": {
  "kernelspec": {
   "display_name": "R (alex_py3)",
   "language": "R",
   "name": "ir_alex_py3"
  },
  "language_info": {
   "codemirror_mode": "r",
   "file_extension": ".r",
   "mimetype": "text/x-r-source",
   "name": "R",
   "pygments_lexer": "r",
   "version": "4.4.1"
  }
 },
 "nbformat": 4,
 "nbformat_minor": 5
}
