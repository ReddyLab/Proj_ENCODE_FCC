{
 "cells": [
  {
   "cell_type": "raw",
   "id": "59e3d3bd-f5df-424f-aeee-e28aba0ea769",
   "metadata": {},
   "source": [
    "---\n",
    "title: FCC Peak calls\n",
    "subtitle: export annotation\n",
    "format:\n",
    "    html:\n",
    "        code-fold:  true\n",
    "        code-tools: true\n",
    "---"
   ]
  },
  {
   "cell_type": "markdown",
   "id": "0bf7d85e-be26-4958-9935-601d3f03de6a",
   "metadata": {},
   "source": [
    "**Set environment**"
   ]
  },
  {
   "cell_type": "code",
   "execution_count": 1,
   "id": "377b13b5-a605-4932-a067-d2acc1fb56cb",
   "metadata": {
    "tags": []
   },
   "outputs": [
    {
     "name": "stdout",
     "output_type": "stream",
     "text": [
      "You are working on        Singularity \n",
      "BASE DIRECTORY (FD_BASE): /mount \n",
      "REPO DIRECTORY (FD_REPO): /mount/repo \n",
      "WORK DIRECTORY (FD_WORK): /mount/work \n",
      "DATA DIRECTORY (FD_DATA): /mount/data \n",
      "\n",
      "You are working with      ENCODE FCC \n",
      "PATH OF PROJECT (FD_PRJ): /mount/repo/Proj_ENCODE_FCC \n",
      "PROJECT RESULTS (FD_RES): /mount/repo/Proj_ENCODE_FCC/results \n",
      "PROJECT SCRIPTS (FD_EXE): /mount/repo/Proj_ENCODE_FCC/scripts \n",
      "PROJECT DATA    (FD_DAT): /mount/repo/Proj_ENCODE_FCC/data \n",
      "PROJECT NOTE    (FD_NBK): /mount/repo/Proj_ENCODE_FCC/notebooks \n",
      "PROJECT DOCS    (FD_DOC): /mount/repo/Proj_ENCODE_FCC/docs \n",
      "PROJECT LOG     (FD_LOG): /mount/repo/Proj_ENCODE_FCC/log \n",
      "PROJECT APP     (FD_APP): /mount/repo/Proj_ENCODE_FCC/app \n",
      "PROJECT REF     (FD_REF): /mount/repo/Proj_ENCODE_FCC/references \n",
      "\n"
     ]
    }
   ],
   "source": [
    "suppressMessages(suppressWarnings(source(\"../run_config_project_sing.R\")))\n",
    "show_env()"
   ]
  },
  {
   "cell_type": "code",
   "execution_count": 2,
   "id": "c0f706c3-a91a-47b5-b222-b486006803d7",
   "metadata": {},
   "outputs": [
    {
     "name": "stderr",
     "output_type": "stream",
     "text": [
      "Welcome! Want to learn more? See two factoextra-related books at https://goo.gl/ve3WBa\n",
      "\n"
     ]
    }
   ],
   "source": [
    "library(\"FactoMineR\")\n",
    "library(\"factoextra\")"
   ]
  },
  {
   "cell_type": "code",
   "execution_count": 3,
   "id": "c9c52b15-f64c-407e-ba0c-bcfb308da7b0",
   "metadata": {},
   "outputs": [
    {
     "name": "stdout",
     "output_type": "stream",
     "text": [
      "[1] 87610   537\n"
     ]
    },
    {
     "data": {
      "text/html": [
       "<table class=\"dataframe\">\n",
       "<caption>A tibble: 3 × 537</caption>\n",
       "<thead>\n",
       "\t<tr><th scope=col>Region</th><th scope=col>ASTARR_A</th><th scope=col>WSTARR_A</th><th scope=col>LMPRA_A</th><th scope=col>TMPRA_A</th><th scope=col>ASTARR_R</th><th scope=col>WSTARR_R</th><th scope=col>LMPRA_R</th><th scope=col>TMPRA_R</th><th scope=col>CRISPRi-HCRFF:CASA</th><th scope=col>⋯</th><th scope=col>ZNF778</th><th scope=col>ZNF780A</th><th scope=col>ZNF785</th><th scope=col>ZNF79</th><th scope=col>ZNF83</th><th scope=col>ZNF830</th><th scope=col>ZNF84</th><th scope=col>ZSCAN29</th><th scope=col>ZSCAN32</th><th scope=col>ZZZ3</th></tr>\n",
       "\t<tr><th scope=col>&lt;chr&gt;</th><th scope=col>&lt;dbl&gt;</th><th scope=col>&lt;dbl&gt;</th><th scope=col>&lt;dbl&gt;</th><th scope=col>&lt;dbl&gt;</th><th scope=col>&lt;dbl&gt;</th><th scope=col>&lt;dbl&gt;</th><th scope=col>&lt;dbl&gt;</th><th scope=col>&lt;dbl&gt;</th><th scope=col>&lt;dbl&gt;</th><th scope=col>⋯</th><th scope=col>&lt;dbl&gt;</th><th scope=col>&lt;dbl&gt;</th><th scope=col>&lt;dbl&gt;</th><th scope=col>&lt;dbl&gt;</th><th scope=col>&lt;dbl&gt;</th><th scope=col>&lt;dbl&gt;</th><th scope=col>&lt;dbl&gt;</th><th scope=col>&lt;dbl&gt;</th><th scope=col>&lt;dbl&gt;</th><th scope=col>&lt;dbl&gt;</th></tr>\n",
       "</thead>\n",
       "<tbody>\n",
       "\t<tr><td>chr1:10038-10405  </td><td>0</td><td>0</td><td>0</td><td>0</td><td>1</td><td>0</td><td>0</td><td>0</td><td>0</td><td>⋯</td><td>0</td><td>0</td><td>0</td><td>0</td><td>0</td><td>0</td><td>0</td><td>0</td><td>0</td><td>0</td></tr>\n",
       "\t<tr><td>chr1:16025-16338  </td><td>0</td><td>0</td><td>0</td><td>0</td><td>1</td><td>0</td><td>0</td><td>0</td><td>0</td><td>⋯</td><td>0</td><td>0</td><td>0</td><td>0</td><td>0</td><td>0</td><td>0</td><td>0</td><td>0</td><td>0</td></tr>\n",
       "\t<tr><td>chr1:115429-115969</td><td>1</td><td>0</td><td>0</td><td>0</td><td>0</td><td>0</td><td>0</td><td>0</td><td>0</td><td>⋯</td><td>0</td><td>0</td><td>0</td><td>0</td><td>0</td><td>0</td><td>0</td><td>1</td><td>0</td><td>0</td></tr>\n",
       "</tbody>\n",
       "</table>\n"
      ],
      "text/latex": [
       "A tibble: 3 × 537\n",
       "\\begin{tabular}{lllllllllllllllllllll}\n",
       " Region & ASTARR\\_A & WSTARR\\_A & LMPRA\\_A & TMPRA\\_A & ASTARR\\_R & WSTARR\\_R & LMPRA\\_R & TMPRA\\_R & CRISPRi-HCRFF:CASA & ⋯ & ZNF778 & ZNF780A & ZNF785 & ZNF79 & ZNF83 & ZNF830 & ZNF84 & ZSCAN29 & ZSCAN32 & ZZZ3\\\\\n",
       " <chr> & <dbl> & <dbl> & <dbl> & <dbl> & <dbl> & <dbl> & <dbl> & <dbl> & <dbl> & ⋯ & <dbl> & <dbl> & <dbl> & <dbl> & <dbl> & <dbl> & <dbl> & <dbl> & <dbl> & <dbl>\\\\\n",
       "\\hline\n",
       "\t chr1:10038-10405   & 0 & 0 & 0 & 0 & 1 & 0 & 0 & 0 & 0 & ⋯ & 0 & 0 & 0 & 0 & 0 & 0 & 0 & 0 & 0 & 0\\\\\n",
       "\t chr1:16025-16338   & 0 & 0 & 0 & 0 & 1 & 0 & 0 & 0 & 0 & ⋯ & 0 & 0 & 0 & 0 & 0 & 0 & 0 & 0 & 0 & 0\\\\\n",
       "\t chr1:115429-115969 & 1 & 0 & 0 & 0 & 0 & 0 & 0 & 0 & 0 & ⋯ & 0 & 0 & 0 & 0 & 0 & 0 & 0 & 1 & 0 & 0\\\\\n",
       "\\end{tabular}\n"
      ],
      "text/markdown": [
       "\n",
       "A tibble: 3 × 537\n",
       "\n",
       "| Region &lt;chr&gt; | ASTARR_A &lt;dbl&gt; | WSTARR_A &lt;dbl&gt; | LMPRA_A &lt;dbl&gt; | TMPRA_A &lt;dbl&gt; | ASTARR_R &lt;dbl&gt; | WSTARR_R &lt;dbl&gt; | LMPRA_R &lt;dbl&gt; | TMPRA_R &lt;dbl&gt; | CRISPRi-HCRFF:CASA &lt;dbl&gt; | ⋯ ⋯ | ZNF778 &lt;dbl&gt; | ZNF780A &lt;dbl&gt; | ZNF785 &lt;dbl&gt; | ZNF79 &lt;dbl&gt; | ZNF83 &lt;dbl&gt; | ZNF830 &lt;dbl&gt; | ZNF84 &lt;dbl&gt; | ZSCAN29 &lt;dbl&gt; | ZSCAN32 &lt;dbl&gt; | ZZZ3 &lt;dbl&gt; |\n",
       "|---|---|---|---|---|---|---|---|---|---|---|---|---|---|---|---|---|---|---|---|---|\n",
       "| chr1:10038-10405   | 0 | 0 | 0 | 0 | 1 | 0 | 0 | 0 | 0 | ⋯ | 0 | 0 | 0 | 0 | 0 | 0 | 0 | 0 | 0 | 0 |\n",
       "| chr1:16025-16338   | 0 | 0 | 0 | 0 | 1 | 0 | 0 | 0 | 0 | ⋯ | 0 | 0 | 0 | 0 | 0 | 0 | 0 | 0 | 0 | 0 |\n",
       "| chr1:115429-115969 | 1 | 0 | 0 | 0 | 0 | 0 | 0 | 0 | 0 | ⋯ | 0 | 0 | 0 | 0 | 0 | 0 | 0 | 1 | 0 | 0 |\n",
       "\n"
      ],
      "text/plain": [
       "  Region             ASTARR_A WSTARR_A LMPRA_A TMPRA_A ASTARR_R WSTARR_R\n",
       "1 chr1:10038-10405   0        0        0       0       1        0       \n",
       "2 chr1:16025-16338   0        0        0       0       1        0       \n",
       "3 chr1:115429-115969 1        0        0       0       0        0       \n",
       "  LMPRA_R TMPRA_R CRISPRi-HCRFF:CASA ⋯ ZNF778 ZNF780A ZNF785 ZNF79 ZNF83 ZNF830\n",
       "1 0       0       0                  ⋯ 0      0       0      0     0     0     \n",
       "2 0       0       0                  ⋯ 0      0       0      0     0     0     \n",
       "3 0       0       0                  ⋯ 0      0       0      0     0     0     \n",
       "  ZNF84 ZSCAN29 ZSCAN32 ZZZ3\n",
       "1 0     0       0       0   \n",
       "2 0     0       0       0   \n",
       "3 0     1       0       0   "
      ]
     },
     "metadata": {},
     "output_type": "display_data"
    }
   ],
   "source": [
    "txt_fdiry = file.path(\n",
    "    FD_RES, \n",
    "    \"region_annotation\", \n",
    "    \"fcc_astarr_macs_input_overlap\",\n",
    "    \"summary2\"\n",
    ")\n",
    "txt_fname = \"matrix.annotation.prepare.cres_vote1_gcfilter.chipseq_full.fcc.tss.tsv\"\n",
    "txt_fpath = file.path(txt_fdiry, txt_fname)\n",
    "\n",
    "dat = read_tsv(txt_fpath, show_col_types = FALSE)\n",
    "\n",
    "dat_region_annot_full_cres = dat\n",
    "print(dim(dat))\n",
    "head(dat, 3)"
   ]
  },
  {
   "cell_type": "code",
   "execution_count": 5,
   "id": "3905084c-a097-487e-a108-98e05dbf4c86",
   "metadata": {},
   "outputs": [
    {
     "name": "stdout",
     "output_type": "stream",
     "text": [
      "[1] 87610   536\n"
     ]
    },
    {
     "data": {
      "text/html": [
       "<table class=\"dataframe\">\n",
       "<caption>A data.frame: 3 × 536</caption>\n",
       "<thead>\n",
       "\t<tr><th></th><th scope=col>ASTARR_A</th><th scope=col>WSTARR_A</th><th scope=col>LMPRA_A</th><th scope=col>TMPRA_A</th><th scope=col>ASTARR_R</th><th scope=col>WSTARR_R</th><th scope=col>LMPRA_R</th><th scope=col>TMPRA_R</th><th scope=col>CRISPRi-HCRFF:CASA</th><th scope=col>CRISPRi-Growth:Signif</th><th scope=col>⋯</th><th scope=col>ZNF778</th><th scope=col>ZNF780A</th><th scope=col>ZNF785</th><th scope=col>ZNF79</th><th scope=col>ZNF83</th><th scope=col>ZNF830</th><th scope=col>ZNF84</th><th scope=col>ZSCAN29</th><th scope=col>ZSCAN32</th><th scope=col>ZZZ3</th></tr>\n",
       "\t<tr><th></th><th scope=col>&lt;dbl&gt;</th><th scope=col>&lt;dbl&gt;</th><th scope=col>&lt;dbl&gt;</th><th scope=col>&lt;dbl&gt;</th><th scope=col>&lt;dbl&gt;</th><th scope=col>&lt;dbl&gt;</th><th scope=col>&lt;dbl&gt;</th><th scope=col>&lt;dbl&gt;</th><th scope=col>&lt;dbl&gt;</th><th scope=col>&lt;dbl&gt;</th><th scope=col>⋯</th><th scope=col>&lt;dbl&gt;</th><th scope=col>&lt;dbl&gt;</th><th scope=col>&lt;dbl&gt;</th><th scope=col>&lt;dbl&gt;</th><th scope=col>&lt;dbl&gt;</th><th scope=col>&lt;dbl&gt;</th><th scope=col>&lt;dbl&gt;</th><th scope=col>&lt;dbl&gt;</th><th scope=col>&lt;dbl&gt;</th><th scope=col>&lt;dbl&gt;</th></tr>\n",
       "</thead>\n",
       "<tbody>\n",
       "\t<tr><th scope=row>chr1:10038-10405</th><td>0</td><td>0</td><td>0</td><td>0</td><td>1</td><td>0</td><td>0</td><td>0</td><td>0</td><td>0</td><td>⋯</td><td>0</td><td>0</td><td>0</td><td>0</td><td>0</td><td>0</td><td>0</td><td>0</td><td>0</td><td>0</td></tr>\n",
       "\t<tr><th scope=row>chr1:16025-16338</th><td>0</td><td>0</td><td>0</td><td>0</td><td>1</td><td>0</td><td>0</td><td>0</td><td>0</td><td>0</td><td>⋯</td><td>0</td><td>0</td><td>0</td><td>0</td><td>0</td><td>0</td><td>0</td><td>0</td><td>0</td><td>0</td></tr>\n",
       "\t<tr><th scope=row>chr1:115429-115969</th><td>1</td><td>0</td><td>0</td><td>0</td><td>0</td><td>0</td><td>0</td><td>0</td><td>0</td><td>0</td><td>⋯</td><td>0</td><td>0</td><td>0</td><td>0</td><td>0</td><td>0</td><td>0</td><td>1</td><td>0</td><td>0</td></tr>\n",
       "</tbody>\n",
       "</table>\n"
      ],
      "text/latex": [
       "A data.frame: 3 × 536\n",
       "\\begin{tabular}{r|lllllllllllllllllllll}\n",
       "  & ASTARR\\_A & WSTARR\\_A & LMPRA\\_A & TMPRA\\_A & ASTARR\\_R & WSTARR\\_R & LMPRA\\_R & TMPRA\\_R & CRISPRi-HCRFF:CASA & CRISPRi-Growth:Signif & ⋯ & ZNF778 & ZNF780A & ZNF785 & ZNF79 & ZNF83 & ZNF830 & ZNF84 & ZSCAN29 & ZSCAN32 & ZZZ3\\\\\n",
       "  & <dbl> & <dbl> & <dbl> & <dbl> & <dbl> & <dbl> & <dbl> & <dbl> & <dbl> & <dbl> & ⋯ & <dbl> & <dbl> & <dbl> & <dbl> & <dbl> & <dbl> & <dbl> & <dbl> & <dbl> & <dbl>\\\\\n",
       "\\hline\n",
       "\tchr1:10038-10405 & 0 & 0 & 0 & 0 & 1 & 0 & 0 & 0 & 0 & 0 & ⋯ & 0 & 0 & 0 & 0 & 0 & 0 & 0 & 0 & 0 & 0\\\\\n",
       "\tchr1:16025-16338 & 0 & 0 & 0 & 0 & 1 & 0 & 0 & 0 & 0 & 0 & ⋯ & 0 & 0 & 0 & 0 & 0 & 0 & 0 & 0 & 0 & 0\\\\\n",
       "\tchr1:115429-115969 & 1 & 0 & 0 & 0 & 0 & 0 & 0 & 0 & 0 & 0 & ⋯ & 0 & 0 & 0 & 0 & 0 & 0 & 0 & 1 & 0 & 0\\\\\n",
       "\\end{tabular}\n"
      ],
      "text/markdown": [
       "\n",
       "A data.frame: 3 × 536\n",
       "\n",
       "| <!--/--> | ASTARR_A &lt;dbl&gt; | WSTARR_A &lt;dbl&gt; | LMPRA_A &lt;dbl&gt; | TMPRA_A &lt;dbl&gt; | ASTARR_R &lt;dbl&gt; | WSTARR_R &lt;dbl&gt; | LMPRA_R &lt;dbl&gt; | TMPRA_R &lt;dbl&gt; | CRISPRi-HCRFF:CASA &lt;dbl&gt; | CRISPRi-Growth:Signif &lt;dbl&gt; | ⋯ ⋯ | ZNF778 &lt;dbl&gt; | ZNF780A &lt;dbl&gt; | ZNF785 &lt;dbl&gt; | ZNF79 &lt;dbl&gt; | ZNF83 &lt;dbl&gt; | ZNF830 &lt;dbl&gt; | ZNF84 &lt;dbl&gt; | ZSCAN29 &lt;dbl&gt; | ZSCAN32 &lt;dbl&gt; | ZZZ3 &lt;dbl&gt; |\n",
       "|---|---|---|---|---|---|---|---|---|---|---|---|---|---|---|---|---|---|---|---|---|---|\n",
       "| chr1:10038-10405 | 0 | 0 | 0 | 0 | 1 | 0 | 0 | 0 | 0 | 0 | ⋯ | 0 | 0 | 0 | 0 | 0 | 0 | 0 | 0 | 0 | 0 |\n",
       "| chr1:16025-16338 | 0 | 0 | 0 | 0 | 1 | 0 | 0 | 0 | 0 | 0 | ⋯ | 0 | 0 | 0 | 0 | 0 | 0 | 0 | 0 | 0 | 0 |\n",
       "| chr1:115429-115969 | 1 | 0 | 0 | 0 | 0 | 0 | 0 | 0 | 0 | 0 | ⋯ | 0 | 0 | 0 | 0 | 0 | 0 | 0 | 1 | 0 | 0 |\n",
       "\n"
      ],
      "text/plain": [
       "                   ASTARR_A WSTARR_A LMPRA_A TMPRA_A ASTARR_R WSTARR_R LMPRA_R\n",
       "chr1:10038-10405   0        0        0       0       1        0        0      \n",
       "chr1:16025-16338   0        0        0       0       1        0        0      \n",
       "chr1:115429-115969 1        0        0       0       0        0        0      \n",
       "                   TMPRA_R CRISPRi-HCRFF:CASA CRISPRi-Growth:Signif ⋯ ZNF778\n",
       "chr1:10038-10405   0       0                  0                     ⋯ 0     \n",
       "chr1:16025-16338   0       0                  0                     ⋯ 0     \n",
       "chr1:115429-115969 0       0                  0                     ⋯ 0     \n",
       "                   ZNF780A ZNF785 ZNF79 ZNF83 ZNF830 ZNF84 ZSCAN29 ZSCAN32 ZZZ3\n",
       "chr1:10038-10405   0       0      0     0     0      0     0       0       0   \n",
       "chr1:16025-16338   0       0      0     0     0      0     0       0       0   \n",
       "chr1:115429-115969 0       0      0     0     0      0     1       0       0   "
      ]
     },
     "metadata": {},
     "output_type": "display_data"
    }
   ],
   "source": [
    "dat = dat_region_annot_full_cres\n",
    "dat = dat %>% tibble::column_to_rownames(\"Region\")\n",
    "mat_region_annot_full_cres = dat\n",
    "print(dim(dat))\n",
    "head(dat, 3)"
   ]
  },
  {
   "cell_type": "code",
   "execution_count": 6,
   "id": "b7950458-9ea6-4f48-bb06-097a9b947296",
   "metadata": {},
   "outputs": [
    {
     "data": {
      "text/html": [
       "0"
      ],
      "text/latex": [
       "0"
      ],
      "text/markdown": [
       "0"
      ],
      "text/plain": [
       "[1] 0"
      ]
     },
     "metadata": {},
     "output_type": "display_data"
    }
   ],
   "source": [
    "mat = mat_region_annot_full_cres\n",
    "vec = apply(mat, 2, sum)\n",
    "sum(vec == 0)"
   ]
  },
  {
   "cell_type": "code",
   "execution_count": 7,
   "id": "71d8be96-4e4b-415b-8a5b-c8122514ff5c",
   "metadata": {},
   "outputs": [
    {
     "data": {
      "text/html": [
       "0"
      ],
      "text/latex": [
       "0"
      ],
      "text/markdown": [
       "0"
      ],
      "text/plain": [
       "[1] 0"
      ]
     },
     "metadata": {},
     "output_type": "display_data"
    }
   ],
   "source": [
    "mat = mat_region_annot_full_cres\n",
    "vec = apply(mat, 1, sum)\n",
    "sum(vec == 0)"
   ]
  },
  {
   "cell_type": "code",
   "execution_count": null,
   "id": "d8900455-b83f-4720-b400-68d9c0650ff2",
   "metadata": {},
   "outputs": [],
   "source": []
  },
  {
   "cell_type": "code",
   "execution_count": 8,
   "id": "ec778887-5b2d-476f-9866-96ffe21ba5e0",
   "metadata": {},
   "outputs": [],
   "source": [
    "mat = mat_region_annot_full_cres\n",
    "vec = rownames(mat)\n",
    "lst = lapply(mat, as.factor)\n",
    "mat = bind_cols(lst)\n",
    "mat = data.frame(mat)\n",
    "rownames(mat) = vec\n",
    "\n",
    "mat_region_annot_prep = mat"
   ]
  },
  {
   "cell_type": "code",
   "execution_count": 9,
   "id": "b66bd6a5-daae-461c-ba3e-6d738cc8a118",
   "metadata": {},
   "outputs": [],
   "source": [
    "mat = mat_region_annot_prep\n",
    "res = MCA(mat, graph = FALSE)\n",
    "res_mca_region_annot = res"
   ]
  },
  {
   "cell_type": "code",
   "execution_count": 10,
   "id": "89df252f-a77d-423c-9833-45c4c74cc82b",
   "metadata": {},
   "outputs": [
    {
     "data": {
      "text/html": [
       "180"
      ],
      "text/latex": [
       "180"
      ],
      "text/markdown": [
       "180"
      ],
      "text/plain": [
       "[1] 180"
      ]
     },
     "metadata": {},
     "output_type": "display_data"
    }
   ],
   "source": [
    "res = res_mca_region_annot\n",
    "mat = get_eigenvalue(res)\n",
    "vec = mat[,\"cumulative.variance.percent\"]\n",
    "\n",
    "idx = which(vec < 70)\n",
    "num = max(idx)\n",
    "num"
   ]
  },
  {
   "cell_type": "code",
   "execution_count": 13,
   "id": "a70ccc69-1aa2-4759-b2a8-48962f49127d",
   "metadata": {},
   "outputs": [
    {
     "data": {
      "image/png": "[encoded data removed]",
      "text/plain": [
       "plot without title"
      ]
     },
     "metadata": {
      "image/png": {
       "height": 420,
       "width": 420
      }
     },
     "output_type": "display_data"
    }
   ],
   "source": [
    "options(repr.plot.width = 7, repr.plot.height=7)\n",
    "fviz_screeplot(res, addlabels = TRUE, ylim = c(0, 25), ncp = 40)"
   ]
  },
  {
   "cell_type": "code",
   "execution_count": null,
   "id": "abd17130-0846-45db-b012-33223e6f21a3",
   "metadata": {},
   "outputs": [],
   "source": []
  },
  {
   "cell_type": "code",
   "execution_count": null,
   "id": "4d8f616f-ce59-42af-bef8-711ed8822917",
   "metadata": {},
   "outputs": [],
   "source": []
  },
  {
   "cell_type": "code",
   "execution_count": 14,
   "id": "a639d30d-67f2-4ff1-a7bd-e4a6912a368e",
   "metadata": {},
   "outputs": [],
   "source": [
    "mat = mat_region_annot_prep\n",
    "res = MCA(mat, ncp = 180, graph = FALSE)\n",
    "res_mca_region_annot = res"
   ]
  },
  {
   "cell_type": "code",
   "execution_count": 15,
   "id": "18e394b4-0a90-4b17-84fc-84f82571a778",
   "metadata": {},
   "outputs": [
    {
     "name": "stdout",
     "output_type": "stream",
     "text": [
      "Multiple Correspondence Analysis Results for individuals\n",
      " ===================================================\n",
      "  Name       Description                       \n",
      "1 \"$coord\"   \"Coordinates for the individuals\" \n",
      "2 \"$cos2\"    \"Cos2 for the individuals\"        \n",
      "3 \"$contrib\" \"contributions of the individuals\"\n",
      "\n",
      " 87610 181 \n"
     ]
    },
    {
     "data": {
      "text/html": [
       "<table class=\"dataframe\">\n",
       "<caption>A data.frame: 3 × 181</caption>\n",
       "<thead>\n",
       "\t<tr><th></th><th scope=col>Region</th><th scope=col>Dim 1</th><th scope=col>Dim 2</th><th scope=col>Dim 3</th><th scope=col>Dim 4</th><th scope=col>Dim 5</th><th scope=col>Dim 6</th><th scope=col>Dim 7</th><th scope=col>Dim 8</th><th scope=col>Dim 9</th><th scope=col>⋯</th><th scope=col>Dim 171</th><th scope=col>Dim 172</th><th scope=col>Dim 173</th><th scope=col>Dim 174</th><th scope=col>Dim 175</th><th scope=col>Dim 176</th><th scope=col>Dim 177</th><th scope=col>Dim 178</th><th scope=col>Dim 179</th><th scope=col>Dim 180</th></tr>\n",
       "\t<tr><th></th><th scope=col>&lt;chr&gt;</th><th scope=col>&lt;dbl&gt;</th><th scope=col>&lt;dbl&gt;</th><th scope=col>&lt;dbl&gt;</th><th scope=col>&lt;dbl&gt;</th><th scope=col>&lt;dbl&gt;</th><th scope=col>&lt;dbl&gt;</th><th scope=col>&lt;dbl&gt;</th><th scope=col>&lt;dbl&gt;</th><th scope=col>&lt;dbl&gt;</th><th scope=col>⋯</th><th scope=col>&lt;dbl&gt;</th><th scope=col>&lt;dbl&gt;</th><th scope=col>&lt;dbl&gt;</th><th scope=col>&lt;dbl&gt;</th><th scope=col>&lt;dbl&gt;</th><th scope=col>&lt;dbl&gt;</th><th scope=col>&lt;dbl&gt;</th><th scope=col>&lt;dbl&gt;</th><th scope=col>&lt;dbl&gt;</th><th scope=col>&lt;dbl&gt;</th></tr>\n",
       "</thead>\n",
       "<tbody>\n",
       "\t<tr><th scope=row>1</th><td>chr1:10038-10405  </td><td>-0.2920876</td><td>0.05965541</td><td> 0.08972286</td><td>0.09700090</td><td> 0.01163722</td><td> 0.04620806</td><td>-0.019806452</td><td>-0.02641152</td><td>-0.01434372</td><td>⋯</td><td> 0.0200514025</td><td> 0.002604579</td><td> 0.0825908016</td><td>-0.038212345</td><td>-0.080441239</td><td>-2.530163e-06</td><td>-0.0385378814</td><td> 0.005644528</td><td> 0.07211528</td><td> 0.023875425</td></tr>\n",
       "\t<tr><th scope=row>2</th><td>chr1:16025-16338  </td><td>-0.3053998</td><td>0.02516680</td><td> 0.07996359</td><td>0.03314702</td><td> 0.04914668</td><td>-0.01095490</td><td> 0.007739505</td><td>-0.01436278</td><td>-0.01242096</td><td>⋯</td><td> 0.0002657319</td><td> 0.001665053</td><td> 0.0078937515</td><td> 0.006689914</td><td>-0.007339159</td><td> 2.073737e-03</td><td>-0.0003925614</td><td>-0.001908440</td><td> 0.01063666</td><td>-0.006099934</td></tr>\n",
       "\t<tr><th scope=row>3</th><td>chr1:115429-115969</td><td> 0.1904580</td><td>0.02712486</td><td>-0.36342208</td><td>0.15478893</td><td>-0.04588837</td><td> 0.04550502</td><td>-0.078477202</td><td>-0.02400556</td><td>-0.02014296</td><td>⋯</td><td>-0.0100268324</td><td>-0.039760115</td><td>-0.0001525988</td><td> 0.007520691</td><td> 0.020743040</td><td>-3.124581e-02</td><td> 0.0043128114</td><td>-0.037045477</td><td>-0.04781733</td><td>-0.029353912</td></tr>\n",
       "</tbody>\n",
       "</table>\n"
      ],
      "text/latex": [
       "A data.frame: 3 × 181\n",
       "\\begin{tabular}{r|lllllllllllllllllllll}\n",
       "  & Region & Dim 1 & Dim 2 & Dim 3 & Dim 4 & Dim 5 & Dim 6 & Dim 7 & Dim 8 & Dim 9 & ⋯ & Dim 171 & Dim 172 & Dim 173 & Dim 174 & Dim 175 & Dim 176 & Dim 177 & Dim 178 & Dim 179 & Dim 180\\\\\n",
       "  & <chr> & <dbl> & <dbl> & <dbl> & <dbl> & <dbl> & <dbl> & <dbl> & <dbl> & <dbl> & ⋯ & <dbl> & <dbl> & <dbl> & <dbl> & <dbl> & <dbl> & <dbl> & <dbl> & <dbl> & <dbl>\\\\\n",
       "\\hline\n",
       "\t1 & chr1:10038-10405   & -0.2920876 & 0.05965541 &  0.08972286 & 0.09700090 &  0.01163722 &  0.04620806 & -0.019806452 & -0.02641152 & -0.01434372 & ⋯ &  0.0200514025 &  0.002604579 &  0.0825908016 & -0.038212345 & -0.080441239 & -2.530163e-06 & -0.0385378814 &  0.005644528 &  0.07211528 &  0.023875425\\\\\n",
       "\t2 & chr1:16025-16338   & -0.3053998 & 0.02516680 &  0.07996359 & 0.03314702 &  0.04914668 & -0.01095490 &  0.007739505 & -0.01436278 & -0.01242096 & ⋯ &  0.0002657319 &  0.001665053 &  0.0078937515 &  0.006689914 & -0.007339159 &  2.073737e-03 & -0.0003925614 & -0.001908440 &  0.01063666 & -0.006099934\\\\\n",
       "\t3 & chr1:115429-115969 &  0.1904580 & 0.02712486 & -0.36342208 & 0.15478893 & -0.04588837 &  0.04550502 & -0.078477202 & -0.02400556 & -0.02014296 & ⋯ & -0.0100268324 & -0.039760115 & -0.0001525988 &  0.007520691 &  0.020743040 & -3.124581e-02 &  0.0043128114 & -0.037045477 & -0.04781733 & -0.029353912\\\\\n",
       "\\end{tabular}\n"
      ],
      "text/markdown": [
       "\n",
       "A data.frame: 3 × 181\n",
       "\n",
       "| <!--/--> | Region &lt;chr&gt; | Dim 1 &lt;dbl&gt; | Dim 2 &lt;dbl&gt; | Dim 3 &lt;dbl&gt; | Dim 4 &lt;dbl&gt; | Dim 5 &lt;dbl&gt; | Dim 6 &lt;dbl&gt; | Dim 7 &lt;dbl&gt; | Dim 8 &lt;dbl&gt; | Dim 9 &lt;dbl&gt; | ⋯ ⋯ | Dim 171 &lt;dbl&gt; | Dim 172 &lt;dbl&gt; | Dim 173 &lt;dbl&gt; | Dim 174 &lt;dbl&gt; | Dim 175 &lt;dbl&gt; | Dim 176 &lt;dbl&gt; | Dim 177 &lt;dbl&gt; | Dim 178 &lt;dbl&gt; | Dim 179 &lt;dbl&gt; | Dim 180 &lt;dbl&gt; |\n",
       "|---|---|---|---|---|---|---|---|---|---|---|---|---|---|---|---|---|---|---|---|---|---|\n",
       "| 1 | chr1:10038-10405   | -0.2920876 | 0.05965541 |  0.08972286 | 0.09700090 |  0.01163722 |  0.04620806 | -0.019806452 | -0.02641152 | -0.01434372 | ⋯ |  0.0200514025 |  0.002604579 |  0.0825908016 | -0.038212345 | -0.080441239 | -2.530163e-06 | -0.0385378814 |  0.005644528 |  0.07211528 |  0.023875425 |\n",
       "| 2 | chr1:16025-16338   | -0.3053998 | 0.02516680 |  0.07996359 | 0.03314702 |  0.04914668 | -0.01095490 |  0.007739505 | -0.01436278 | -0.01242096 | ⋯ |  0.0002657319 |  0.001665053 |  0.0078937515 |  0.006689914 | -0.007339159 |  2.073737e-03 | -0.0003925614 | -0.001908440 |  0.01063666 | -0.006099934 |\n",
       "| 3 | chr1:115429-115969 |  0.1904580 | 0.02712486 | -0.36342208 | 0.15478893 | -0.04588837 |  0.04550502 | -0.078477202 | -0.02400556 | -0.02014296 | ⋯ | -0.0100268324 | -0.039760115 | -0.0001525988 |  0.007520691 |  0.020743040 | -3.124581e-02 |  0.0043128114 | -0.037045477 | -0.04781733 | -0.029353912 |\n",
       "\n"
      ],
      "text/plain": [
       "  Region             Dim 1      Dim 2      Dim 3       Dim 4      Dim 5      \n",
       "1 chr1:10038-10405   -0.2920876 0.05965541  0.08972286 0.09700090  0.01163722\n",
       "2 chr1:16025-16338   -0.3053998 0.02516680  0.07996359 0.03314702  0.04914668\n",
       "3 chr1:115429-115969  0.1904580 0.02712486 -0.36342208 0.15478893 -0.04588837\n",
       "  Dim 6       Dim 7        Dim 8       Dim 9       ⋯ Dim 171       Dim 172     \n",
       "1  0.04620806 -0.019806452 -0.02641152 -0.01434372 ⋯  0.0200514025  0.002604579\n",
       "2 -0.01095490  0.007739505 -0.01436278 -0.01242096 ⋯  0.0002657319  0.001665053\n",
       "3  0.04550502 -0.078477202 -0.02400556 -0.02014296 ⋯ -0.0100268324 -0.039760115\n",
       "  Dim 173       Dim 174      Dim 175      Dim 176       Dim 177      \n",
       "1  0.0825908016 -0.038212345 -0.080441239 -2.530163e-06 -0.0385378814\n",
       "2  0.0078937515  0.006689914 -0.007339159  2.073737e-03 -0.0003925614\n",
       "3 -0.0001525988  0.007520691  0.020743040 -3.124581e-02  0.0043128114\n",
       "  Dim 178      Dim 179     Dim 180     \n",
       "1  0.005644528  0.07211528  0.023875425\n",
       "2 -0.001908440  0.01063666 -0.006099934\n",
       "3 -0.037045477 -0.04781733 -0.029353912"
      ]
     },
     "metadata": {},
     "output_type": "display_data"
    }
   ],
   "source": [
    "res = res_mca_region_annot\n",
    "lst = get_mca_ind(res)\n",
    "mat = lst$coord\n",
    "dat = mat %>% as.data.frame %>% rownames_to_column(var = \"Region\")\n",
    "\n",
    "dat_region_annot_mca = dat\n",
    "print(lst)\n",
    "cat(\"\\n\", dim(dat), \"\\n\")\n",
    "head(dat, 3)"
   ]
  },
  {
   "cell_type": "code",
   "execution_count": null,
   "id": "7db76c28-442f-481e-82d4-eca438d00fa5",
   "metadata": {},
   "outputs": [],
   "source": []
  },
  {
   "cell_type": "code",
   "execution_count": null,
   "id": "5b2b79e3-041c-4f13-9548-9d2db14a4d47",
   "metadata": {},
   "outputs": [],
   "source": []
  },
  {
   "cell_type": "code",
   "execution_count": null,
   "id": "7bf52a1c-8603-4199-812a-b4dd4730f7c1",
   "metadata": {},
   "outputs": [],
   "source": []
  },
  {
   "cell_type": "code",
   "execution_count": 16,
   "id": "adeb7a2a-48a3-49d2-b31f-cb305bbfabb3",
   "metadata": {},
   "outputs": [],
   "source": [
    "txt_fdiry = file.path(\n",
    "    FD_RES, \n",
    "    \"region_annotation\", \n",
    "    \"fcc_astarr_macs_input_overlap\",\n",
    "    \"summary2\"\n",
    ")\n",
    "txt_fname = \"matrix.mca_var70.prepare.cres_vote1_gcfilter.chipseq_full.fcc.tss.tsv\"\n",
    "txt_fpath = file.path(txt_fdiry, txt_fname)\n",
    "\n",
    "dat = dat_region_annot_mca\n",
    "write_tsv(dat, txt_fpath)"
   ]
  },
  {
   "cell_type": "code",
   "execution_count": null,
   "id": "55eb4edc-8d60-43dc-b5e9-b5632a4fd953",
   "metadata": {},
   "outputs": [],
   "source": []
  }
 ],
 "metadata": {
  "kernelspec": {
   "display_name": "R",
   "language": "R",
   "name": "ir"
  },
  "language_info": {
   "codemirror_mode": "r",
   "file_extension": ".r",
   "mimetype": "text/x-r-source",
   "name": "R",
   "pygments_lexer": "r",
   "version": "4.4.1"
  }
 },
 "nbformat": 4,
 "nbformat_minor": 5
}
