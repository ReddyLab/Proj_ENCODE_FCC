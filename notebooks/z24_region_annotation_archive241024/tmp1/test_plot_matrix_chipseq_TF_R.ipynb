{
 "cells": [
  {
   "cell_type": "code",
   "execution_count": null,
   "id": "7cca7c04-86b9-4e88-a14c-0ca75261da2b",
   "metadata": {},
   "outputs": [],
   "source": []
  },
  {
   "cell_type": "markdown",
   "id": "53c4e9e8-ac47-445a-a4e8-83e6ea9f0619",
   "metadata": {},
   "source": [
    "**Set environment**"
   ]
  },
  {
   "cell_type": "code",
   "execution_count": 1,
   "id": "28af9759-df67-46ce-bdc9-56af749dea9c",
   "metadata": {
    "tags": []
   },
   "outputs": [
    {
     "name": "stdout",
     "output_type": "stream",
     "text": [
      "You are working on        Singularity \n",
      "BASE DIRECTORY (FD_BASE): /mount \n",
      "REPO DIRECTORY (FD_REPO): /mount/repo \n",
      "WORK DIRECTORY (FD_WORK): /mount/work \n",
      "DATA DIRECTORY (FD_DATA): /mount/data \n",
      "\n",
      "You are working with      ENCODE FCC \n",
      "PATH OF PROJECT (FD_PRJ): /mount/repo/Proj_ENCODE_FCC \n",
      "PROJECT RESULTS (FD_RES): /mount/repo/Proj_ENCODE_FCC/results \n",
      "PROJECT SCRIPTS (FD_EXE): /mount/repo/Proj_ENCODE_FCC/scripts \n",
      "PROJECT DATA    (FD_DAT): /mount/repo/Proj_ENCODE_FCC/data \n",
      "PROJECT NOTE    (FD_NBK): /mount/repo/Proj_ENCODE_FCC/notebooks \n",
      "PROJECT DOCS    (FD_DOC): /mount/repo/Proj_ENCODE_FCC/docs \n",
      "PROJECT LOG     (FD_LOG): /mount/repo/Proj_ENCODE_FCC/log \n",
      "PROJECT APP     (FD_APP): /mount/repo/Proj_ENCODE_FCC/app \n",
      "PROJECT REF     (FD_REF): /mount/repo/Proj_ENCODE_FCC/references \n",
      "\n"
     ]
    }
   ],
   "source": [
    "suppressMessages(suppressWarnings(source(\"../run_config_project_sing.R\")))\n",
    "show_env()"
   ]
  },
  {
   "cell_type": "code",
   "execution_count": 2,
   "id": "ba913cf5-b7db-4678-b573-d957f55aaee0",
   "metadata": {},
   "outputs": [
    {
     "name": "stdout",
     "output_type": "stream",
     "text": [
      " [1] \"matrix.annotation.chipseq.tsv\"                    \n",
      " [2] \"matrix.annotation.subset.tsv\"                     \n",
      " [3] \"region.annotation.encode_chromatin_states.tsv\"    \n",
      " [4] \"region.annotation.fcc_astarr_csaw.tsv\"            \n",
      " [5] \"region.annotation.fcc_crispri_hcrff.tsv\"          \n",
      " [6] \"region.annotation.genome_tss.tsv\"                 \n",
      " [7] \"region.annotation.hic_insitu_K562_ENCSR545YBD.tsv\"\n",
      " [8] \"region.annotation.hic_intact_K562_deep.tsv\"       \n",
      " [9] \"region.annotation.hic_intact_K562_ENCSR479XDG.tsv\"\n",
      "[10] \"region.summary.encode_chipseq_encode4.tsv\"        \n",
      "[11] \"region.summary.encode_chipseq_flagship.tsv\"       \n",
      "[12] \"region.summary.encode_chipseq_histone.tsv\"        \n",
      "[13] \"region.summary.encode_chipseq_subset.tsv\"         \n",
      "[14] \"region.summary.encode_chromatin_states.tsv\"       \n",
      "[15] \"region.summary.fcc_astarr_csaw.tsv\"               \n",
      "[16] \"region.summary.fcc_crispri_hcrff.tsv\"             \n",
      "[17] \"region.summary.genome_tss.tsv\"                    \n",
      "[18] \"region.summary.hic_insitu_K562_ENCSR545YBD.tsv\"   \n",
      "[19] \"region.summary.hic_intact_K562_deep.tsv\"          \n",
      "[20] \"region.summary.hic_intact_K562_ENCSR479XDG.tsv\"   \n",
      "[21] \"umap.annotation.chipseq.tsv\"                      \n"
     ]
    }
   ],
   "source": [
    "txt_fdiry = file.path(\n",
    "    FD_RES, \n",
    "    \"region_annotation\", \n",
    "    \"fcc_astarr_macs_input_overlap\",\n",
    "    \"summary\"\n",
    ")\n",
    "vec = dir(txt_fdiry)\n",
    "print(vec)"
   ]
  },
  {
   "cell_type": "code",
   "execution_count": 3,
   "id": "6baac15b-2e2b-428e-80ff-a794652f7588",
   "metadata": {},
   "outputs": [
    {
     "name": "stderr",
     "output_type": "stream",
     "text": [
      "\u001b[1mRows: \u001b[22m\u001b[34m5859682\u001b[39m \u001b[1mColumns: \u001b[22m\u001b[34m10\u001b[39m\n",
      "\u001b[36m──\u001b[39m \u001b[1mColumn specification\u001b[22m \u001b[36m─────────────────────────────────────────────\u001b[39m\n",
      "\u001b[1mDelimiter:\u001b[22m \"\\t\"\n",
      "\u001b[31mchr\u001b[39m (7): Chrom_A, Region_A, Annotation_A, Annotation_B, Group_B, Label_B, Re...\n",
      "\u001b[32mdbl\u001b[39m (3): ChromStart_A, ChromEnd_A, Count\n",
      "\n",
      "\u001b[36mℹ\u001b[39m Use `spec()` to retrieve the full column specification for this data.\n",
      "\u001b[36mℹ\u001b[39m Specify the column types or set `show_col_types = FALSE` to quiet this message.\n"
     ]
    },
    {
     "name": "stdout",
     "output_type": "stream",
     "text": [
      "[1] 5859682      10\n"
     ]
    },
    {
     "data": {
      "text/html": [
       "<table class=\"dataframe\">\n",
       "<caption>A tibble: 6 × 10</caption>\n",
       "<thead>\n",
       "\t<tr><th scope=col>Chrom_A</th><th scope=col>ChromStart_A</th><th scope=col>ChromEnd_A</th><th scope=col>Region_A</th><th scope=col>Annotation_A</th><th scope=col>Annotation_B</th><th scope=col>Group_B</th><th scope=col>Label_B</th><th scope=col>Region_B</th><th scope=col>Count</th></tr>\n",
       "\t<tr><th scope=col>&lt;chr&gt;</th><th scope=col>&lt;dbl&gt;</th><th scope=col>&lt;dbl&gt;</th><th scope=col>&lt;chr&gt;</th><th scope=col>&lt;chr&gt;</th><th scope=col>&lt;chr&gt;</th><th scope=col>&lt;chr&gt;</th><th scope=col>&lt;chr&gt;</th><th scope=col>&lt;chr&gt;</th><th scope=col>&lt;dbl&gt;</th></tr>\n",
       "</thead>\n",
       "<tbody>\n",
       "\t<tr><td>chr1</td><td>10038</td><td>10405</td><td>chr1:10038-10405</td><td>fcc_astarr_macs_input_overlap</td><td>chipseq_CREBBP_ENCFF532VPN</td><td>ChIP-seq; TF</td><td>CREBBP</td><td>chr1:10084-10320</td><td>1</td></tr>\n",
       "\t<tr><td>chr1</td><td>10038</td><td>10405</td><td>chr1:10038-10405</td><td>fcc_astarr_macs_input_overlap</td><td>chipseq_HMBOX1_ENCFF672ZQW</td><td>ChIP-seq; TF</td><td>HMBOX1</td><td>chr1:10047-10283</td><td>1</td></tr>\n",
       "\t<tr><td>chr1</td><td>10038</td><td>10405</td><td>chr1:10038-10405</td><td>fcc_astarr_macs_input_overlap</td><td>chipseq_ZBTB33_ENCFF146GZZ</td><td>ChIP-seq; TF</td><td>ZBTB33</td><td>chr1:10082-10322</td><td>1</td></tr>\n",
       "\t<tr><td>chr1</td><td>16025</td><td>16338</td><td>chr1:16025-16338</td><td>fcc_astarr_macs_input_overlap</td><td>chipseq_CTCF_ENCFF221SKA  </td><td>ChIP-seq; TF</td><td>CTCF  </td><td>chr1:16155-16339</td><td>1</td></tr>\n",
       "\t<tr><td>chr1</td><td>16025</td><td>16338</td><td>chr1:16025-16338</td><td>fcc_astarr_macs_input_overlap</td><td>chipseq_CTCF_ENCFF582SNT  </td><td>ChIP-seq; TF</td><td>CTCF  </td><td>chr1:16126-16370</td><td>1</td></tr>\n",
       "\t<tr><td>chr1</td><td>16025</td><td>16338</td><td>chr1:16025-16338</td><td>fcc_astarr_macs_input_overlap</td><td>chipseq_CTCF_ENCFF660GHM  </td><td>ChIP-seq; TF</td><td>CTCF  </td><td>chr1:16127-16367</td><td>1</td></tr>\n",
       "</tbody>\n",
       "</table>\n"
      ],
      "text/latex": [
       "A tibble: 6 × 10\n",
       "\\begin{tabular}{llllllllll}\n",
       " Chrom\\_A & ChromStart\\_A & ChromEnd\\_A & Region\\_A & Annotation\\_A & Annotation\\_B & Group\\_B & Label\\_B & Region\\_B & Count\\\\\n",
       " <chr> & <dbl> & <dbl> & <chr> & <chr> & <chr> & <chr> & <chr> & <chr> & <dbl>\\\\\n",
       "\\hline\n",
       "\t chr1 & 10038 & 10405 & chr1:10038-10405 & fcc\\_astarr\\_macs\\_input\\_overlap & chipseq\\_CREBBP\\_ENCFF532VPN & ChIP-seq; TF & CREBBP & chr1:10084-10320 & 1\\\\\n",
       "\t chr1 & 10038 & 10405 & chr1:10038-10405 & fcc\\_astarr\\_macs\\_input\\_overlap & chipseq\\_HMBOX1\\_ENCFF672ZQW & ChIP-seq; TF & HMBOX1 & chr1:10047-10283 & 1\\\\\n",
       "\t chr1 & 10038 & 10405 & chr1:10038-10405 & fcc\\_astarr\\_macs\\_input\\_overlap & chipseq\\_ZBTB33\\_ENCFF146GZZ & ChIP-seq; TF & ZBTB33 & chr1:10082-10322 & 1\\\\\n",
       "\t chr1 & 16025 & 16338 & chr1:16025-16338 & fcc\\_astarr\\_macs\\_input\\_overlap & chipseq\\_CTCF\\_ENCFF221SKA   & ChIP-seq; TF & CTCF   & chr1:16155-16339 & 1\\\\\n",
       "\t chr1 & 16025 & 16338 & chr1:16025-16338 & fcc\\_astarr\\_macs\\_input\\_overlap & chipseq\\_CTCF\\_ENCFF582SNT   & ChIP-seq; TF & CTCF   & chr1:16126-16370 & 1\\\\\n",
       "\t chr1 & 16025 & 16338 & chr1:16025-16338 & fcc\\_astarr\\_macs\\_input\\_overlap & chipseq\\_CTCF\\_ENCFF660GHM   & ChIP-seq; TF & CTCF   & chr1:16127-16367 & 1\\\\\n",
       "\\end{tabular}\n"
      ],
      "text/markdown": [
       "\n",
       "A tibble: 6 × 10\n",
       "\n",
       "| Chrom_A &lt;chr&gt; | ChromStart_A &lt;dbl&gt; | ChromEnd_A &lt;dbl&gt; | Region_A &lt;chr&gt; | Annotation_A &lt;chr&gt; | Annotation_B &lt;chr&gt; | Group_B &lt;chr&gt; | Label_B &lt;chr&gt; | Region_B &lt;chr&gt; | Count &lt;dbl&gt; |\n",
       "|---|---|---|---|---|---|---|---|---|---|\n",
       "| chr1 | 10038 | 10405 | chr1:10038-10405 | fcc_astarr_macs_input_overlap | chipseq_CREBBP_ENCFF532VPN | ChIP-seq; TF | CREBBP | chr1:10084-10320 | 1 |\n",
       "| chr1 | 10038 | 10405 | chr1:10038-10405 | fcc_astarr_macs_input_overlap | chipseq_HMBOX1_ENCFF672ZQW | ChIP-seq; TF | HMBOX1 | chr1:10047-10283 | 1 |\n",
       "| chr1 | 10038 | 10405 | chr1:10038-10405 | fcc_astarr_macs_input_overlap | chipseq_ZBTB33_ENCFF146GZZ | ChIP-seq; TF | ZBTB33 | chr1:10082-10322 | 1 |\n",
       "| chr1 | 16025 | 16338 | chr1:16025-16338 | fcc_astarr_macs_input_overlap | chipseq_CTCF_ENCFF221SKA   | ChIP-seq; TF | CTCF   | chr1:16155-16339 | 1 |\n",
       "| chr1 | 16025 | 16338 | chr1:16025-16338 | fcc_astarr_macs_input_overlap | chipseq_CTCF_ENCFF582SNT   | ChIP-seq; TF | CTCF   | chr1:16126-16370 | 1 |\n",
       "| chr1 | 16025 | 16338 | chr1:16025-16338 | fcc_astarr_macs_input_overlap | chipseq_CTCF_ENCFF660GHM   | ChIP-seq; TF | CTCF   | chr1:16127-16367 | 1 |\n",
       "\n"
      ],
      "text/plain": [
       "  Chrom_A ChromStart_A ChromEnd_A Region_A        \n",
       "1 chr1    10038        10405      chr1:10038-10405\n",
       "2 chr1    10038        10405      chr1:10038-10405\n",
       "3 chr1    10038        10405      chr1:10038-10405\n",
       "4 chr1    16025        16338      chr1:16025-16338\n",
       "5 chr1    16025        16338      chr1:16025-16338\n",
       "6 chr1    16025        16338      chr1:16025-16338\n",
       "  Annotation_A                  Annotation_B               Group_B      Label_B\n",
       "1 fcc_astarr_macs_input_overlap chipseq_CREBBP_ENCFF532VPN ChIP-seq; TF CREBBP \n",
       "2 fcc_astarr_macs_input_overlap chipseq_HMBOX1_ENCFF672ZQW ChIP-seq; TF HMBOX1 \n",
       "3 fcc_astarr_macs_input_overlap chipseq_ZBTB33_ENCFF146GZZ ChIP-seq; TF ZBTB33 \n",
       "4 fcc_astarr_macs_input_overlap chipseq_CTCF_ENCFF221SKA   ChIP-seq; TF CTCF   \n",
       "5 fcc_astarr_macs_input_overlap chipseq_CTCF_ENCFF582SNT   ChIP-seq; TF CTCF   \n",
       "6 fcc_astarr_macs_input_overlap chipseq_CTCF_ENCFF660GHM   ChIP-seq; TF CTCF   \n",
       "  Region_B         Count\n",
       "1 chr1:10084-10320 1    \n",
       "2 chr1:10047-10283 1    \n",
       "3 chr1:10082-10322 1    \n",
       "4 chr1:16155-16339 1    \n",
       "5 chr1:16126-16370 1    \n",
       "6 chr1:16127-16367 1    "
      ]
     },
     "metadata": {},
     "output_type": "display_data"
    }
   ],
   "source": [
    "txt_fdiry = file.path(\n",
    "    FD_RES, \n",
    "    \"region_annotation\", \n",
    "    \"fcc_astarr_macs_input_overlap\",\n",
    "    \"summary\"\n",
    ")\n",
    "txt_fname = \"region.summary.encode_chipseq_flagship.tsv\"\n",
    "txt_fpath = file.path(txt_fdiry, txt_fname)\n",
    "\n",
    "dat = read_tsv(txt_fpath)\n",
    "dat_region_import = dat\n",
    "print(dim(dat))\n",
    "head(dat)"
   ]
  },
  {
   "cell_type": "code",
   "execution_count": 4,
   "id": "0b8c4e05-6158-45eb-998a-dab0f563626a",
   "metadata": {},
   "outputs": [
    {
     "name": "stdout",
     "output_type": "stream",
     "text": [
      "[1] 4589397       6\n"
     ]
    },
    {
     "data": {
      "text/html": [
       "<table class=\"dataframe\">\n",
       "<caption>A tibble: 6 × 6</caption>\n",
       "<thead>\n",
       "\t<tr><th scope=col>Chrom_A</th><th scope=col>ChromStart_A</th><th scope=col>ChromEnd_A</th><th scope=col>Region_A</th><th scope=col>Label_B</th><th scope=col>Count</th></tr>\n",
       "\t<tr><th scope=col>&lt;chr&gt;</th><th scope=col>&lt;dbl&gt;</th><th scope=col>&lt;dbl&gt;</th><th scope=col>&lt;chr&gt;</th><th scope=col>&lt;chr&gt;</th><th scope=col>&lt;int&gt;</th></tr>\n",
       "</thead>\n",
       "<tbody>\n",
       "\t<tr><td>chr1</td><td>10038</td><td>10405</td><td>chr1:10038-10405</td><td>CREBBP</td><td>1</td></tr>\n",
       "\t<tr><td>chr1</td><td>10038</td><td>10405</td><td>chr1:10038-10405</td><td>HMBOX1</td><td>1</td></tr>\n",
       "\t<tr><td>chr1</td><td>10038</td><td>10405</td><td>chr1:10038-10405</td><td>ZBTB33</td><td>1</td></tr>\n",
       "\t<tr><td>chr1</td><td>16025</td><td>16338</td><td>chr1:16025-16338</td><td>CTCF  </td><td>3</td></tr>\n",
       "\t<tr><td>chr1</td><td>16025</td><td>16338</td><td>chr1:16025-16338</td><td>RAD21 </td><td>1</td></tr>\n",
       "\t<tr><td>chr1</td><td>17288</td><td>17689</td><td>chr1:17288-17689</td><td>POLR2A</td><td>1</td></tr>\n",
       "</tbody>\n",
       "</table>\n"
      ],
      "text/latex": [
       "A tibble: 6 × 6\n",
       "\\begin{tabular}{llllll}\n",
       " Chrom\\_A & ChromStart\\_A & ChromEnd\\_A & Region\\_A & Label\\_B & Count\\\\\n",
       " <chr> & <dbl> & <dbl> & <chr> & <chr> & <int>\\\\\n",
       "\\hline\n",
       "\t chr1 & 10038 & 10405 & chr1:10038-10405 & CREBBP & 1\\\\\n",
       "\t chr1 & 10038 & 10405 & chr1:10038-10405 & HMBOX1 & 1\\\\\n",
       "\t chr1 & 10038 & 10405 & chr1:10038-10405 & ZBTB33 & 1\\\\\n",
       "\t chr1 & 16025 & 16338 & chr1:16025-16338 & CTCF   & 3\\\\\n",
       "\t chr1 & 16025 & 16338 & chr1:16025-16338 & RAD21  & 1\\\\\n",
       "\t chr1 & 17288 & 17689 & chr1:17288-17689 & POLR2A & 1\\\\\n",
       "\\end{tabular}\n"
      ],
      "text/markdown": [
       "\n",
       "A tibble: 6 × 6\n",
       "\n",
       "| Chrom_A &lt;chr&gt; | ChromStart_A &lt;dbl&gt; | ChromEnd_A &lt;dbl&gt; | Region_A &lt;chr&gt; | Label_B &lt;chr&gt; | Count &lt;int&gt; |\n",
       "|---|---|---|---|---|---|\n",
       "| chr1 | 10038 | 10405 | chr1:10038-10405 | CREBBP | 1 |\n",
       "| chr1 | 10038 | 10405 | chr1:10038-10405 | HMBOX1 | 1 |\n",
       "| chr1 | 10038 | 10405 | chr1:10038-10405 | ZBTB33 | 1 |\n",
       "| chr1 | 16025 | 16338 | chr1:16025-16338 | CTCF   | 3 |\n",
       "| chr1 | 16025 | 16338 | chr1:16025-16338 | RAD21  | 1 |\n",
       "| chr1 | 17288 | 17689 | chr1:17288-17689 | POLR2A | 1 |\n",
       "\n"
      ],
      "text/plain": [
       "  Chrom_A ChromStart_A ChromEnd_A Region_A         Label_B Count\n",
       "1 chr1    10038        10405      chr1:10038-10405 CREBBP  1    \n",
       "2 chr1    10038        10405      chr1:10038-10405 HMBOX1  1    \n",
       "3 chr1    10038        10405      chr1:10038-10405 ZBTB33  1    \n",
       "4 chr1    16025        16338      chr1:16025-16338 CTCF    3    \n",
       "5 chr1    16025        16338      chr1:16025-16338 RAD21   1    \n",
       "6 chr1    17288        17689      chr1:17288-17689 POLR2A  1    "
      ]
     },
     "metadata": {},
     "output_type": "display_data"
    }
   ],
   "source": [
    "dat = dat_region_import\n",
    "dat = dat %>% \n",
    "    dplyr::group_by(Chrom_A, ChromStart_A, ChromEnd_A, Region_A, Label_B) %>%\n",
    "    dplyr::summarise(Count = n(), .groups = \"drop\")\n",
    "\n",
    "dat_region_arrange = dat\n",
    "print(dim(dat))\n",
    "head(dat)"
   ]
  },
  {
   "cell_type": "code",
   "execution_count": 5,
   "id": "5dacda0f-f54d-4d6e-83c5-c1313d99163f",
   "metadata": {},
   "outputs": [
    {
     "data": {
      "text/html": [
       "<table class=\"dataframe\">\n",
       "<caption>A tibble: 6 × 6</caption>\n",
       "<thead>\n",
       "\t<tr><th scope=col>Chrom_A</th><th scope=col>ChromStart_A</th><th scope=col>ChromEnd_A</th><th scope=col>Region_A</th><th scope=col>Label_B</th><th scope=col>Value</th></tr>\n",
       "\t<tr><th scope=col>&lt;chr&gt;</th><th scope=col>&lt;dbl&gt;</th><th scope=col>&lt;dbl&gt;</th><th scope=col>&lt;chr&gt;</th><th scope=col>&lt;chr&gt;</th><th scope=col>&lt;dbl&gt;</th></tr>\n",
       "</thead>\n",
       "<tbody>\n",
       "\t<tr><td>chrX</td><td>19497</td><td>20820</td><td>chrX:19497-20820</td><td>CTCF   </td><td>1</td></tr>\n",
       "\t<tr><td>chrX</td><td>19497</td><td>20820</td><td>chrX:19497-20820</td><td>CXXC5  </td><td>1</td></tr>\n",
       "\t<tr><td>chrX</td><td>19497</td><td>20820</td><td>chrX:19497-20820</td><td>GATAD2B</td><td>1</td></tr>\n",
       "\t<tr><td>chrX</td><td>19497</td><td>20820</td><td>chrX:19497-20820</td><td>L3MBTL2</td><td>1</td></tr>\n",
       "\t<tr><td>chrX</td><td>19497</td><td>20820</td><td>chrX:19497-20820</td><td>MAZ    </td><td>1</td></tr>\n",
       "\t<tr><td>chrX</td><td>19497</td><td>20820</td><td>chrX:19497-20820</td><td>SOX6   </td><td>1</td></tr>\n",
       "</tbody>\n",
       "</table>\n"
      ],
      "text/latex": [
       "A tibble: 6 × 6\n",
       "\\begin{tabular}{llllll}\n",
       " Chrom\\_A & ChromStart\\_A & ChromEnd\\_A & Region\\_A & Label\\_B & Value\\\\\n",
       " <chr> & <dbl> & <dbl> & <chr> & <chr> & <dbl>\\\\\n",
       "\\hline\n",
       "\t chrX & 19497 & 20820 & chrX:19497-20820 & CTCF    & 1\\\\\n",
       "\t chrX & 19497 & 20820 & chrX:19497-20820 & CXXC5   & 1\\\\\n",
       "\t chrX & 19497 & 20820 & chrX:19497-20820 & GATAD2B & 1\\\\\n",
       "\t chrX & 19497 & 20820 & chrX:19497-20820 & L3MBTL2 & 1\\\\\n",
       "\t chrX & 19497 & 20820 & chrX:19497-20820 & MAZ     & 1\\\\\n",
       "\t chrX & 19497 & 20820 & chrX:19497-20820 & SOX6    & 1\\\\\n",
       "\\end{tabular}\n"
      ],
      "text/markdown": [
       "\n",
       "A tibble: 6 × 6\n",
       "\n",
       "| Chrom_A &lt;chr&gt; | ChromStart_A &lt;dbl&gt; | ChromEnd_A &lt;dbl&gt; | Region_A &lt;chr&gt; | Label_B &lt;chr&gt; | Value &lt;dbl&gt; |\n",
       "|---|---|---|---|---|---|\n",
       "| chrX | 19497 | 20820 | chrX:19497-20820 | CTCF    | 1 |\n",
       "| chrX | 19497 | 20820 | chrX:19497-20820 | CXXC5   | 1 |\n",
       "| chrX | 19497 | 20820 | chrX:19497-20820 | GATAD2B | 1 |\n",
       "| chrX | 19497 | 20820 | chrX:19497-20820 | L3MBTL2 | 1 |\n",
       "| chrX | 19497 | 20820 | chrX:19497-20820 | MAZ     | 1 |\n",
       "| chrX | 19497 | 20820 | chrX:19497-20820 | SOX6    | 1 |\n",
       "\n"
      ],
      "text/plain": [
       "  Chrom_A ChromStart_A ChromEnd_A Region_A         Label_B Value\n",
       "1 chrX    19497        20820      chrX:19497-20820 CTCF    1    \n",
       "2 chrX    19497        20820      chrX:19497-20820 CXXC5   1    \n",
       "3 chrX    19497        20820      chrX:19497-20820 GATAD2B 1    \n",
       "4 chrX    19497        20820      chrX:19497-20820 L3MBTL2 1    \n",
       "5 chrX    19497        20820      chrX:19497-20820 MAZ     1    \n",
       "6 chrX    19497        20820      chrX:19497-20820 SOX6    1    "
      ]
     },
     "metadata": {},
     "output_type": "display_data"
    }
   ],
   "source": [
    "dat = dat_region_arrange\n",
    "dat = dat %>% \n",
    "    dplyr::filter(Chrom_A == \"chrX\") %>% \n",
    "    dplyr::mutate(Value = 1) %>%\n",
    "    dplyr::select(-Count) %>%\n",
    "    dplyr::distinct() \n",
    "\n",
    "dat_region_subset = dat\n",
    "head(dat)"
   ]
  },
  {
   "cell_type": "code",
   "execution_count": 6,
   "id": "dbc3e810-9a22-44ec-94b0-2347d394d715",
   "metadata": {},
   "outputs": [],
   "source": [
    "### init\n",
    "dat = dat_region_subset\n",
    "dat = dat %>% dplyr::mutate(Label_B = paste(\"chipseq\", Label_B, sep=\"_\"))\n",
    "\n",
    "mat = dat %>% \n",
    "    tidyr::spread(Label_B, Value) %>%\n",
    "    dplyr::arrange(pick(starts_with(\"chipseq\")))\n",
    "\n",
    "vec_txt_region_A = unique(mat$Region_A)"
   ]
  },
  {
   "cell_type": "code",
   "execution_count": 7,
   "id": "754ea822-5ea7-4be8-95bf-2682992b0107",
   "metadata": {},
   "outputs": [],
   "source": [
    "dat = dat_region_subset\n",
    "dat = dat %>% dplyr::mutate(Label_B = paste(\"chipseq\", Label_B, sep=\"_\"))\n",
    "\n",
    "res = as.data.frame(table(dat$Label_B))\n",
    "res = res %>% dplyr::arrange(-Freq)\n",
    "\n",
    "vec_txt_label_B = res$Var1"
   ]
  },
  {
   "cell_type": "code",
   "execution_count": 8,
   "id": "439e314a-ff89-4706-9f39-5cc42f53a464",
   "metadata": {},
   "outputs": [
    {
     "name": "stdout",
     "output_type": "stream",
     "text": [
      "[1] 90630     6\n"
     ]
    },
    {
     "data": {
      "text/html": [
       "<table class=\"dataframe\">\n",
       "<caption>A tibble: 6 × 6</caption>\n",
       "<thead>\n",
       "\t<tr><th scope=col>Chrom_A</th><th scope=col>ChromStart_A</th><th scope=col>ChromEnd_A</th><th scope=col>Region_A</th><th scope=col>Label_B</th><th scope=col>Value</th></tr>\n",
       "\t<tr><th scope=col>&lt;chr&gt;</th><th scope=col>&lt;dbl&gt;</th><th scope=col>&lt;dbl&gt;</th><th scope=col>&lt;fct&gt;</th><th scope=col>&lt;fct&gt;</th><th scope=col>&lt;dbl&gt;</th></tr>\n",
       "</thead>\n",
       "<tbody>\n",
       "\t<tr><td>chrX</td><td>19497</td><td>20820</td><td>chrX:19497-20820</td><td>chipseq_CTCF   </td><td>1</td></tr>\n",
       "\t<tr><td>chrX</td><td>19497</td><td>20820</td><td>chrX:19497-20820</td><td>chipseq_CXXC5  </td><td>1</td></tr>\n",
       "\t<tr><td>chrX</td><td>19497</td><td>20820</td><td>chrX:19497-20820</td><td>chipseq_GATAD2B</td><td>1</td></tr>\n",
       "\t<tr><td>chrX</td><td>19497</td><td>20820</td><td>chrX:19497-20820</td><td>chipseq_L3MBTL2</td><td>1</td></tr>\n",
       "\t<tr><td>chrX</td><td>19497</td><td>20820</td><td>chrX:19497-20820</td><td>chipseq_MAZ    </td><td>1</td></tr>\n",
       "\t<tr><td>chrX</td><td>19497</td><td>20820</td><td>chrX:19497-20820</td><td>chipseq_SOX6   </td><td>1</td></tr>\n",
       "</tbody>\n",
       "</table>\n"
      ],
      "text/latex": [
       "A tibble: 6 × 6\n",
       "\\begin{tabular}{llllll}\n",
       " Chrom\\_A & ChromStart\\_A & ChromEnd\\_A & Region\\_A & Label\\_B & Value\\\\\n",
       " <chr> & <dbl> & <dbl> & <fct> & <fct> & <dbl>\\\\\n",
       "\\hline\n",
       "\t chrX & 19497 & 20820 & chrX:19497-20820 & chipseq\\_CTCF    & 1\\\\\n",
       "\t chrX & 19497 & 20820 & chrX:19497-20820 & chipseq\\_CXXC5   & 1\\\\\n",
       "\t chrX & 19497 & 20820 & chrX:19497-20820 & chipseq\\_GATAD2B & 1\\\\\n",
       "\t chrX & 19497 & 20820 & chrX:19497-20820 & chipseq\\_L3MBTL2 & 1\\\\\n",
       "\t chrX & 19497 & 20820 & chrX:19497-20820 & chipseq\\_MAZ     & 1\\\\\n",
       "\t chrX & 19497 & 20820 & chrX:19497-20820 & chipseq\\_SOX6    & 1\\\\\n",
       "\\end{tabular}\n"
      ],
      "text/markdown": [
       "\n",
       "A tibble: 6 × 6\n",
       "\n",
       "| Chrom_A &lt;chr&gt; | ChromStart_A &lt;dbl&gt; | ChromEnd_A &lt;dbl&gt; | Region_A &lt;fct&gt; | Label_B &lt;fct&gt; | Value &lt;dbl&gt; |\n",
       "|---|---|---|---|---|---|\n",
       "| chrX | 19497 | 20820 | chrX:19497-20820 | chipseq_CTCF    | 1 |\n",
       "| chrX | 19497 | 20820 | chrX:19497-20820 | chipseq_CXXC5   | 1 |\n",
       "| chrX | 19497 | 20820 | chrX:19497-20820 | chipseq_GATAD2B | 1 |\n",
       "| chrX | 19497 | 20820 | chrX:19497-20820 | chipseq_L3MBTL2 | 1 |\n",
       "| chrX | 19497 | 20820 | chrX:19497-20820 | chipseq_MAZ     | 1 |\n",
       "| chrX | 19497 | 20820 | chrX:19497-20820 | chipseq_SOX6    | 1 |\n",
       "\n"
      ],
      "text/plain": [
       "  Chrom_A ChromStart_A ChromEnd_A Region_A         Label_B         Value\n",
       "1 chrX    19497        20820      chrX:19497-20820 chipseq_CTCF    1    \n",
       "2 chrX    19497        20820      chrX:19497-20820 chipseq_CXXC5   1    \n",
       "3 chrX    19497        20820      chrX:19497-20820 chipseq_GATAD2B 1    \n",
       "4 chrX    19497        20820      chrX:19497-20820 chipseq_L3MBTL2 1    \n",
       "5 chrX    19497        20820      chrX:19497-20820 chipseq_MAZ     1    \n",
       "6 chrX    19497        20820      chrX:19497-20820 chipseq_SOX6    1    "
      ]
     },
     "metadata": {},
     "output_type": "display_data"
    }
   ],
   "source": [
    "dat = dat_region_subset\n",
    "dat = dat %>% dplyr::mutate(Label_B = paste(\"chipseq\", Label_B, sep=\"_\"))\n",
    "\n",
    "dat = dat %>% \n",
    "    dplyr::mutate(\n",
    "        Region_A = factor(Region_A, levels = rev(vec_txt_region_A)),\n",
    "        Label_B  = factor(Label_B,  levels =  vec_txt_label_B)\n",
    "    ) \n",
    "\n",
    "### assign and show\n",
    "dat_region_ordered = dat\n",
    "print(dim(dat))\n",
    "head(dat)"
   ]
  },
  {
   "cell_type": "code",
   "execution_count": 9,
   "id": "8ef6f0f7-394a-4e6d-a308-883e39e96665",
   "metadata": {},
   "outputs": [
    {
     "name": "stdout",
     "output_type": "stream",
     "text": [
      "[1] 500\n"
     ]
    }
   ],
   "source": [
    "print(length(unique(dat$Label_B)))"
   ]
  },
  {
   "cell_type": "code",
   "execution_count": 15,
   "id": "7c18a562-4eed-4a9a-b6f1-3f5f6b4ec4de",
   "metadata": {},
   "outputs": [
    {
     "data": {
      "image/png": "[encoded data removed]",
      "text/plain": [
       "plot without title"
      ]
     },
     "metadata": {
      "image/png": {
       "height": 300,
       "width": 300
      }
     },
     "output_type": "display_data"
    }
   ],
   "source": [
    "gpt = ggplot(dat, aes(x=Label_B, y=Region_A, fill=Value)) +\n",
    "    geom_tile() + \n",
    "    labs(x=\"ChIP-seq; TF\", y=\"ATAC\") +\n",
    "    theme_cowplot() +\n",
    "    theme(\n",
    "        axis.text  = element_blank(),\n",
    "        axis.ticks = element_blank(),\n",
    "        legend.position = \"None\"\n",
    "    )\n",
    "\n",
    "options(repr.plot.height = 5, repr.plot.width = 5)\n",
    "print(gpt)"
   ]
  },
  {
   "cell_type": "code",
   "execution_count": null,
   "id": "214fc2dd-4566-454a-9ab7-4f93c05ffd0e",
   "metadata": {},
   "outputs": [],
   "source": []
  },
  {
   "cell_type": "code",
   "execution_count": null,
   "id": "02442d8e-e89d-43ed-9b97-a017ec2c5606",
   "metadata": {},
   "outputs": [],
   "source": []
  },
  {
   "cell_type": "code",
   "execution_count": null,
   "id": "c7ba5d8c-37d1-40be-81a1-f9d164b73d65",
   "metadata": {},
   "outputs": [],
   "source": []
  },
  {
   "cell_type": "code",
   "execution_count": null,
   "id": "d6af6274-b281-4f79-b964-8616911642b7",
   "metadata": {},
   "outputs": [],
   "source": []
  },
  {
   "cell_type": "code",
   "execution_count": null,
   "id": "cdb8dd1f-4d03-4cf8-92e7-053dd6ba9fb8",
   "metadata": {},
   "outputs": [],
   "source": []
  },
  {
   "cell_type": "code",
   "execution_count": null,
   "id": "4e47e18f-a92f-4d15-9c55-40ee4ed8f305",
   "metadata": {},
   "outputs": [],
   "source": []
  },
  {
   "cell_type": "code",
   "execution_count": 27,
   "id": "60c75ee0-9239-4e9a-bc09-18c69d1a0ea1",
   "metadata": {},
   "outputs": [],
   "source": [
    "dat = dat_region_arrange\n",
    "dat = dat %>% \n",
    "    dplyr::filter(Chrom_A == \"chrX\") %>% \n",
    "    dplyr::mutate(Value = 1) %>%\n",
    "    dplyr::distinct() \n",
    "\n",
    "dat = dat %>%\n",
    "    dplyr::arrange(Chrom_A, ChromStart_A, ChromEnd_A)\n",
    "vec = unique(dat$Region_A)\n",
    "tmp = data.frame(Region_A = vec, Index_A = 1:length(vec))\n",
    "\n",
    "dat = dat %>% dplyr::mutate(Region_A = factor(Region_A, levels=rev(vec))) \n",
    "dat = dat %>% dplyr::left_join(tmp, by=\"Region_A\")\n",
    "\n",
    "tmp = dat %>% \n",
    "    dplyr::group_by(Label_B) %>%\n",
    "    dplyr::summarise(\n",
    "        Index_B = min(Index_A),\n",
    "        .groups = \"drop\"\n",
    "    ) %>%\n",
    "    dplyr::arrange(Index_B)\n",
    "vec = tmp$Label_B\n",
    "\n",
    "dat = dat %>% dplyr::mutate(Label_B = factor(Label_B, levels=vec))\n"
   ]
  },
  {
   "cell_type": "code",
   "execution_count": 28,
   "id": "74f6e2b8-c352-4ca3-b777-651df0a2ae04",
   "metadata": {},
   "outputs": [
    {
     "data": {
      "image/png": "[encoded data removed]",
      "text/plain": [
       "plot without title"
      ]
     },
     "metadata": {
      "image/png": {
       "height": 420,
       "width": 420
      }
     },
     "output_type": "display_data"
    }
   ],
   "source": [
    "gpt = ggplot(dat, aes(x=Label_B, y=Region_A, fill=Value)) +\n",
    "    geom_tile() + \n",
    "    labs(x=\"ChIP-seq; Histone\", y=\"ATAC\") +\n",
    "    theme_cowplot() +\n",
    "    theme(\n",
    "        axis.text  = element_blank(),\n",
    "        axis.ticks = element_blank(),\n",
    "        legend.position = \"None\"\n",
    "    )\n",
    "print(gpt)"
   ]
  },
  {
   "cell_type": "code",
   "execution_count": null,
   "id": "2c199159-3a6f-4003-ae64-a19550fec9a4",
   "metadata": {},
   "outputs": [],
   "source": []
  }
 ],
 "metadata": {
  "kernelspec": {
   "display_name": "R",
   "language": "R",
   "name": "ir"
  },
  "language_info": {
   "codemirror_mode": "r",
   "file_extension": ".r",
   "mimetype": "text/x-r-source",
   "name": "R",
   "pygments_lexer": "r",
   "version": "4.4.0"
  }
 },
 "nbformat": 4,
 "nbformat_minor": 5
}
