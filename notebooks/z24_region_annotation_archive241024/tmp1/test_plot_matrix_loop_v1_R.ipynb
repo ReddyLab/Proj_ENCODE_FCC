{
 "cells": [
  {
   "cell_type": "code",
   "execution_count": null,
   "id": "1dc76754-fbc6-4ed2-9c3d-d09fe8c52008",
   "metadata": {},
   "outputs": [],
   "source": []
  },
  {
   "cell_type": "markdown",
   "id": "882d8003-c1ec-45ea-bbd8-9ea99c550124",
   "metadata": {},
   "source": [
    "**Set environment**"
   ]
  },
  {
   "cell_type": "code",
   "execution_count": 1,
   "id": "e108d4f5-24fe-485e-9b40-56f8bd4c89bc",
   "metadata": {
    "tags": []
   },
   "outputs": [
    {
     "name": "stdout",
     "output_type": "stream",
     "text": [
      "You are working on        Singularity \n",
      "BASE DIRECTORY (FD_BASE): /mount \n",
      "REPO DIRECTORY (FD_REPO): /mount/repo \n",
      "WORK DIRECTORY (FD_WORK): /mount/work \n",
      "DATA DIRECTORY (FD_DATA): /mount/data \n",
      "\n",
      "You are working with      ENCODE FCC \n",
      "PATH OF PROJECT (FD_PRJ): /mount/repo/Proj_ENCODE_FCC \n",
      "PROJECT RESULTS (FD_RES): /mount/repo/Proj_ENCODE_FCC/results \n",
      "PROJECT SCRIPTS (FD_EXE): /mount/repo/Proj_ENCODE_FCC/scripts \n",
      "PROJECT DATA    (FD_DAT): /mount/repo/Proj_ENCODE_FCC/data \n",
      "PROJECT NOTE    (FD_NBK): /mount/repo/Proj_ENCODE_FCC/notebooks \n",
      "PROJECT DOCS    (FD_DOC): /mount/repo/Proj_ENCODE_FCC/docs \n",
      "PROJECT LOG     (FD_LOG): /mount/repo/Proj_ENCODE_FCC/log \n",
      "PROJECT APP     (FD_APP): /mount/repo/Proj_ENCODE_FCC/app \n",
      "PROJECT REF     (FD_REF): /mount/repo/Proj_ENCODE_FCC/references \n",
      "\n"
     ]
    }
   ],
   "source": [
    "suppressMessages(suppressWarnings(source(\"../run_config_project_sing.R\")))\n",
    "show_env()"
   ]
  },
  {
   "cell_type": "code",
   "execution_count": 2,
   "id": "f6085421-1961-423e-829d-8e5b9d90719d",
   "metadata": {},
   "outputs": [
    {
     "name": "stdout",
     "output_type": "stream",
     "text": [
      "[1] \"fcc_astarr_macs_input_overlap.hic_intact_Loop_A_ENCSR479XDG.bed.gz\"\n",
      "[2] \"fcc_astarr_macs_input_overlap.hic_intact_Loop_B_ENCSR479XDG.bed.gz\"\n",
      "[3] \"fcc_astarr_macs_input_overlap.hic_intact_TAD_ENCSR479XDG.bed.gz\"   \n"
     ]
    }
   ],
   "source": [
    "txt_fdiry = file.path(\n",
    "    FD_RES, \n",
    "    \"region_annotation\", \n",
    "    \"fcc_astarr_macs_input_overlap\",\n",
    "    \"hic_intact_K562_ENCSR479XDG\"\n",
    ")\n",
    "vec = dir(txt_fdiry)\n",
    "print(vec)"
   ]
  },
  {
   "cell_type": "code",
   "execution_count": 3,
   "id": "f07d1c7e-1b58-4d84-8c21-4dc50859bd8b",
   "metadata": {},
   "outputs": [],
   "source": [
    "txt_region_folder_A = \"fcc_astarr_macs\"\n",
    "txt_region_folder_B = \"hic_intact_K562_ENCSR479XDG\"\n",
    "\n",
    "txt_fdiry = file.path(FD_RES, \"region\", txt_region_folder_A, \"summary\")\n",
    "txt_fname = \"description.tsv\"\n",
    "txt_fpath = file.path(txt_fdiry, txt_fname)\n",
    "dat_cname = read_tsv(txt_fpath, show_col_types = FALSE)\n",
    "vec_txt_cname_A = dat_cname$Name\n",
    "\n",
    "txt_fdiry = file.path(FD_RES, \"region\", txt_region_folder_B, \"summary\")\n",
    "txt_fname = \"description.tsv\"\n",
    "txt_fpath = file.path(txt_fdiry, txt_fname)\n",
    "dat_cname = read_tsv(txt_fpath, show_col_types = FALSE)\n",
    "vec_txt_cname_B = dat_cname$Name\n",
    "\n",
    "vec_txt_cname = c(\n",
    "    paste0(vec_txt_cname_A, \"_A\"),\n",
    "    paste0(vec_txt_cname_B, \"_B\"),\n",
    "    \"Overlap\"\n",
    ")"
   ]
  },
  {
   "cell_type": "code",
   "execution_count": 5,
   "id": "cdf913ab-cc22-4d4f-8a7a-726b7e60b5a7",
   "metadata": {},
   "outputs": [
    {
     "name": "stderr",
     "output_type": "stream",
     "text": [
      "\u001b[1mRows: \u001b[22m\u001b[34m46906\u001b[39m \u001b[1mColumns: \u001b[22m\u001b[34m10\u001b[39m\n",
      "\u001b[36m──\u001b[39m \u001b[1mColumn specification\u001b[22m \u001b[36m───────────────────────────────────────────────────────────────\u001b[39m\n",
      "\u001b[1mDelimiter:\u001b[22m \"\\t\"\n",
      "\u001b[31mchr\u001b[39m (5): Chrom_A, Chrom_B, Name_B, Group_B, Label_B\n",
      "\u001b[32mdbl\u001b[39m (5): ChromStart_A, ChromEnd_A, ChromStart_B, ChromEnd_B, Overlap\n",
      "\n",
      "\u001b[36mℹ\u001b[39m Use `spec()` to retrieve the full column specification for this data.\n",
      "\u001b[36mℹ\u001b[39m Specify the column types or set `show_col_types = FALSE` to quiet this message.\n",
      "\u001b[1mRows: \u001b[22m\u001b[34m47071\u001b[39m \u001b[1mColumns: \u001b[22m\u001b[34m10\u001b[39m\n",
      "\u001b[36m──\u001b[39m \u001b[1mColumn specification\u001b[22m \u001b[36m───────────────────────────────────────────────────────────────\u001b[39m\n",
      "\u001b[1mDelimiter:\u001b[22m \"\\t\"\n",
      "\u001b[31mchr\u001b[39m (5): Chrom_A, Chrom_B, Name_B, Group_B, Label_B\n",
      "\u001b[32mdbl\u001b[39m (5): ChromStart_A, ChromEnd_A, ChromStart_B, ChromEnd_B, Overlap\n",
      "\n",
      "\u001b[36mℹ\u001b[39m Use `spec()` to retrieve the full column specification for this data.\n",
      "\u001b[36mℹ\u001b[39m Specify the column types or set `show_col_types = FALSE` to quiet this message.\n"
     ]
    },
    {
     "name": "stdout",
     "output_type": "stream",
     "text": [
      "[1] 93977    10\n"
     ]
    },
    {
     "data": {
      "text/html": [
       "<table class=\"dataframe\">\n",
       "<caption>A tibble: 6 × 10</caption>\n",
       "<thead>\n",
       "\t<tr><th scope=col>Chrom_A</th><th scope=col>ChromStart_A</th><th scope=col>ChromEnd_A</th><th scope=col>Chrom_B</th><th scope=col>ChromStart_B</th><th scope=col>ChromEnd_B</th><th scope=col>Name_B</th><th scope=col>Group_B</th><th scope=col>Label_B</th><th scope=col>Overlap</th></tr>\n",
       "\t<tr><th scope=col>&lt;chr&gt;</th><th scope=col>&lt;dbl&gt;</th><th scope=col>&lt;dbl&gt;</th><th scope=col>&lt;chr&gt;</th><th scope=col>&lt;dbl&gt;</th><th scope=col>&lt;dbl&gt;</th><th scope=col>&lt;chr&gt;</th><th scope=col>&lt;chr&gt;</th><th scope=col>&lt;chr&gt;</th><th scope=col>&lt;dbl&gt;</th></tr>\n",
       "</thead>\n",
       "<tbody>\n",
       "\t<tr><td>chr1</td><td>778233</td><td>779389</td><td>chr1</td><td>770000</td><td>780000</td><td>chr1:770000-780000|chr1:840000-850000  </td><td>hic_intact</td><td>Loop_A</td><td>1156</td></tr>\n",
       "\t<tr><td>chr1</td><td>903783</td><td>905204</td><td>chr1</td><td>904000</td><td>906000</td><td>chr1:904000-906000|chr1:976000-978000  </td><td>hic_intact</td><td>Loop_A</td><td>1204</td></tr>\n",
       "\t<tr><td>chr1</td><td>920937</td><td>921509</td><td>chr1</td><td>920000</td><td>925000</td><td>chr1:920000-925000|chr1:1060000-1065000</td><td>hic_intact</td><td>Loop_A</td><td> 572</td></tr>\n",
       "\t<tr><td>chr1</td><td>923427</td><td>925161</td><td>chr1</td><td>920000</td><td>925000</td><td>chr1:920000-925000|chr1:1060000-1065000</td><td>hic_intact</td><td>Loop_A</td><td>1573</td></tr>\n",
       "\t<tr><td>chr1</td><td>979401</td><td>980599</td><td>chr1</td><td>980000</td><td>990000</td><td>chr1:980000-990000|chr1:1290000-1300000</td><td>hic_intact</td><td>Loop_A</td><td> 599</td></tr>\n",
       "\t<tr><td>chr1</td><td>984073</td><td>984542</td><td>chr1</td><td>984000</td><td>985000</td><td>chr1:984000-985000|chr1:1063000-1064000</td><td>hic_intact</td><td>Loop_A</td><td> 469</td></tr>\n",
       "</tbody>\n",
       "</table>\n"
      ],
      "text/latex": [
       "A tibble: 6 × 10\n",
       "\\begin{tabular}{llllllllll}\n",
       " Chrom\\_A & ChromStart\\_A & ChromEnd\\_A & Chrom\\_B & ChromStart\\_B & ChromEnd\\_B & Name\\_B & Group\\_B & Label\\_B & Overlap\\\\\n",
       " <chr> & <dbl> & <dbl> & <chr> & <dbl> & <dbl> & <chr> & <chr> & <chr> & <dbl>\\\\\n",
       "\\hline\n",
       "\t chr1 & 778233 & 779389 & chr1 & 770000 & 780000 & chr1:770000-780000\\textbar{}chr1:840000-850000   & hic\\_intact & Loop\\_A & 1156\\\\\n",
       "\t chr1 & 903783 & 905204 & chr1 & 904000 & 906000 & chr1:904000-906000\\textbar{}chr1:976000-978000   & hic\\_intact & Loop\\_A & 1204\\\\\n",
       "\t chr1 & 920937 & 921509 & chr1 & 920000 & 925000 & chr1:920000-925000\\textbar{}chr1:1060000-1065000 & hic\\_intact & Loop\\_A &  572\\\\\n",
       "\t chr1 & 923427 & 925161 & chr1 & 920000 & 925000 & chr1:920000-925000\\textbar{}chr1:1060000-1065000 & hic\\_intact & Loop\\_A & 1573\\\\\n",
       "\t chr1 & 979401 & 980599 & chr1 & 980000 & 990000 & chr1:980000-990000\\textbar{}chr1:1290000-1300000 & hic\\_intact & Loop\\_A &  599\\\\\n",
       "\t chr1 & 984073 & 984542 & chr1 & 984000 & 985000 & chr1:984000-985000\\textbar{}chr1:1063000-1064000 & hic\\_intact & Loop\\_A &  469\\\\\n",
       "\\end{tabular}\n"
      ],
      "text/markdown": [
       "\n",
       "A tibble: 6 × 10\n",
       "\n",
       "| Chrom_A &lt;chr&gt; | ChromStart_A &lt;dbl&gt; | ChromEnd_A &lt;dbl&gt; | Chrom_B &lt;chr&gt; | ChromStart_B &lt;dbl&gt; | ChromEnd_B &lt;dbl&gt; | Name_B &lt;chr&gt; | Group_B &lt;chr&gt; | Label_B &lt;chr&gt; | Overlap &lt;dbl&gt; |\n",
       "|---|---|---|---|---|---|---|---|---|---|\n",
       "| chr1 | 778233 | 779389 | chr1 | 770000 | 780000 | chr1:770000-780000|chr1:840000-850000   | hic_intact | Loop_A | 1156 |\n",
       "| chr1 | 903783 | 905204 | chr1 | 904000 | 906000 | chr1:904000-906000|chr1:976000-978000   | hic_intact | Loop_A | 1204 |\n",
       "| chr1 | 920937 | 921509 | chr1 | 920000 | 925000 | chr1:920000-925000|chr1:1060000-1065000 | hic_intact | Loop_A |  572 |\n",
       "| chr1 | 923427 | 925161 | chr1 | 920000 | 925000 | chr1:920000-925000|chr1:1060000-1065000 | hic_intact | Loop_A | 1573 |\n",
       "| chr1 | 979401 | 980599 | chr1 | 980000 | 990000 | chr1:980000-990000|chr1:1290000-1300000 | hic_intact | Loop_A |  599 |\n",
       "| chr1 | 984073 | 984542 | chr1 | 984000 | 985000 | chr1:984000-985000|chr1:1063000-1064000 | hic_intact | Loop_A |  469 |\n",
       "\n"
      ],
      "text/plain": [
       "  Chrom_A ChromStart_A ChromEnd_A Chrom_B ChromStart_B ChromEnd_B\n",
       "1 chr1    778233       779389     chr1    770000       780000    \n",
       "2 chr1    903783       905204     chr1    904000       906000    \n",
       "3 chr1    920937       921509     chr1    920000       925000    \n",
       "4 chr1    923427       925161     chr1    920000       925000    \n",
       "5 chr1    979401       980599     chr1    980000       990000    \n",
       "6 chr1    984073       984542     chr1    984000       985000    \n",
       "  Name_B                                  Group_B    Label_B Overlap\n",
       "1 chr1:770000-780000|chr1:840000-850000   hic_intact Loop_A  1156   \n",
       "2 chr1:904000-906000|chr1:976000-978000   hic_intact Loop_A  1204   \n",
       "3 chr1:920000-925000|chr1:1060000-1065000 hic_intact Loop_A   572   \n",
       "4 chr1:920000-925000|chr1:1060000-1065000 hic_intact Loop_A  1573   \n",
       "5 chr1:980000-990000|chr1:1290000-1300000 hic_intact Loop_A   599   \n",
       "6 chr1:984000-985000|chr1:1063000-1064000 hic_intact Loop_A   469   "
      ]
     },
     "metadata": {},
     "output_type": "display_data"
    }
   ],
   "source": [
    "txt_fdiry = file.path(\n",
    "    FD_RES, \n",
    "    \"region_annotation\", \n",
    "    \"fcc_astarr_macs_input_overlap\",\n",
    "    \"hic_intact_K562_ENCSR479XDG\"\n",
    ")\n",
    "\n",
    "txt_fname = \"fcc_astarr_macs_input_overlap.hic_intact_Loop_A_ENCSR479XDG.bed.gz\"\n",
    "txt_fpath = file.path(txt_fdiry, txt_fname)\n",
    "dat1 = read_tsv(txt_fpath, col_names = vec_txt_cname)\n",
    "\n",
    "txt_fname = \"fcc_astarr_macs_input_overlap.hic_intact_Loop_B_ENCSR479XDG.bed.gz\"\n",
    "txt_fpath = file.path(txt_fdiry, txt_fname)\n",
    "dat2 = read_tsv(txt_fpath, col_names = vec_txt_cname)\n",
    "\n",
    "dat = bind_rows(dat1, dat2)\n",
    "\n",
    "dat_region_import = dat\n",
    "print(dim(dat))\n",
    "head(dat)"
   ]
  },
  {
   "cell_type": "code",
   "execution_count": null,
   "id": "acc15b67-f8c5-4171-b64d-1cda1869cfa8",
   "metadata": {},
   "outputs": [],
   "source": []
  },
  {
   "cell_type": "code",
   "execution_count": 6,
   "id": "8f1099ed-37e7-4933-a257-9787ab43e601",
   "metadata": {},
   "outputs": [
    {
     "name": "stdout",
     "output_type": "stream",
     "text": [
      "[1] 93977    14\n"
     ]
    },
    {
     "data": {
      "text/html": [
       "<table class=\"dataframe\">\n",
       "<caption>A tibble: 6 × 14</caption>\n",
       "<thead>\n",
       "\t<tr><th scope=col>Chrom_A</th><th scope=col>ChromStart_A</th><th scope=col>ChromEnd_A</th><th scope=col>Chrom_B</th><th scope=col>ChromStart_B</th><th scope=col>ChromEnd_B</th><th scope=col>Name_B</th><th scope=col>Group_B</th><th scope=col>Label_B</th><th scope=col>Overlap</th><th scope=col>Region_A</th><th scope=col>Region_B</th><th scope=col>Annotation_A</th><th scope=col>Annotation_B</th></tr>\n",
       "\t<tr><th scope=col>&lt;chr&gt;</th><th scope=col>&lt;dbl&gt;</th><th scope=col>&lt;dbl&gt;</th><th scope=col>&lt;chr&gt;</th><th scope=col>&lt;dbl&gt;</th><th scope=col>&lt;dbl&gt;</th><th scope=col>&lt;chr&gt;</th><th scope=col>&lt;chr&gt;</th><th scope=col>&lt;chr&gt;</th><th scope=col>&lt;dbl&gt;</th><th scope=col>&lt;chr&gt;</th><th scope=col>&lt;chr&gt;</th><th scope=col>&lt;chr&gt;</th><th scope=col>&lt;chr&gt;</th></tr>\n",
       "</thead>\n",
       "<tbody>\n",
       "\t<tr><td>chr1</td><td>778233</td><td>779389</td><td>chr1</td><td>770000</td><td>780000</td><td>chr1:770000-780000|chr1:840000-850000  </td><td>hic_intact</td><td>Loop_A</td><td>1156</td><td>chr1:778233-779389</td><td>chr1:770000-780000</td><td>fcc_astarr_macs_input_overlap</td><td>hic_intact_Loop_B_ENCSR479XDG</td></tr>\n",
       "\t<tr><td>chr1</td><td>903783</td><td>905204</td><td>chr1</td><td>904000</td><td>906000</td><td>chr1:904000-906000|chr1:976000-978000  </td><td>hic_intact</td><td>Loop_A</td><td>1204</td><td>chr1:903783-905204</td><td>chr1:904000-906000</td><td>fcc_astarr_macs_input_overlap</td><td>hic_intact_Loop_B_ENCSR479XDG</td></tr>\n",
       "\t<tr><td>chr1</td><td>920937</td><td>921509</td><td>chr1</td><td>920000</td><td>925000</td><td>chr1:920000-925000|chr1:1060000-1065000</td><td>hic_intact</td><td>Loop_A</td><td> 572</td><td>chr1:920937-921509</td><td>chr1:920000-925000</td><td>fcc_astarr_macs_input_overlap</td><td>hic_intact_Loop_B_ENCSR479XDG</td></tr>\n",
       "\t<tr><td>chr1</td><td>923427</td><td>925161</td><td>chr1</td><td>920000</td><td>925000</td><td>chr1:920000-925000|chr1:1060000-1065000</td><td>hic_intact</td><td>Loop_A</td><td>1573</td><td>chr1:923427-925161</td><td>chr1:920000-925000</td><td>fcc_astarr_macs_input_overlap</td><td>hic_intact_Loop_B_ENCSR479XDG</td></tr>\n",
       "\t<tr><td>chr1</td><td>979401</td><td>980599</td><td>chr1</td><td>980000</td><td>990000</td><td>chr1:980000-990000|chr1:1290000-1300000</td><td>hic_intact</td><td>Loop_A</td><td> 599</td><td>chr1:979401-980599</td><td>chr1:980000-990000</td><td>fcc_astarr_macs_input_overlap</td><td>hic_intact_Loop_B_ENCSR479XDG</td></tr>\n",
       "\t<tr><td>chr1</td><td>984073</td><td>984542</td><td>chr1</td><td>984000</td><td>985000</td><td>chr1:984000-985000|chr1:1063000-1064000</td><td>hic_intact</td><td>Loop_A</td><td> 469</td><td>chr1:984073-984542</td><td>chr1:984000-985000</td><td>fcc_astarr_macs_input_overlap</td><td>hic_intact_Loop_B_ENCSR479XDG</td></tr>\n",
       "</tbody>\n",
       "</table>\n"
      ],
      "text/latex": [
       "A tibble: 6 × 14\n",
       "\\begin{tabular}{llllllllllllll}\n",
       " Chrom\\_A & ChromStart\\_A & ChromEnd\\_A & Chrom\\_B & ChromStart\\_B & ChromEnd\\_B & Name\\_B & Group\\_B & Label\\_B & Overlap & Region\\_A & Region\\_B & Annotation\\_A & Annotation\\_B\\\\\n",
       " <chr> & <dbl> & <dbl> & <chr> & <dbl> & <dbl> & <chr> & <chr> & <chr> & <dbl> & <chr> & <chr> & <chr> & <chr>\\\\\n",
       "\\hline\n",
       "\t chr1 & 778233 & 779389 & chr1 & 770000 & 780000 & chr1:770000-780000\\textbar{}chr1:840000-850000   & hic\\_intact & Loop\\_A & 1156 & chr1:778233-779389 & chr1:770000-780000 & fcc\\_astarr\\_macs\\_input\\_overlap & hic\\_intact\\_Loop\\_B\\_ENCSR479XDG\\\\\n",
       "\t chr1 & 903783 & 905204 & chr1 & 904000 & 906000 & chr1:904000-906000\\textbar{}chr1:976000-978000   & hic\\_intact & Loop\\_A & 1204 & chr1:903783-905204 & chr1:904000-906000 & fcc\\_astarr\\_macs\\_input\\_overlap & hic\\_intact\\_Loop\\_B\\_ENCSR479XDG\\\\\n",
       "\t chr1 & 920937 & 921509 & chr1 & 920000 & 925000 & chr1:920000-925000\\textbar{}chr1:1060000-1065000 & hic\\_intact & Loop\\_A &  572 & chr1:920937-921509 & chr1:920000-925000 & fcc\\_astarr\\_macs\\_input\\_overlap & hic\\_intact\\_Loop\\_B\\_ENCSR479XDG\\\\\n",
       "\t chr1 & 923427 & 925161 & chr1 & 920000 & 925000 & chr1:920000-925000\\textbar{}chr1:1060000-1065000 & hic\\_intact & Loop\\_A & 1573 & chr1:923427-925161 & chr1:920000-925000 & fcc\\_astarr\\_macs\\_input\\_overlap & hic\\_intact\\_Loop\\_B\\_ENCSR479XDG\\\\\n",
       "\t chr1 & 979401 & 980599 & chr1 & 980000 & 990000 & chr1:980000-990000\\textbar{}chr1:1290000-1300000 & hic\\_intact & Loop\\_A &  599 & chr1:979401-980599 & chr1:980000-990000 & fcc\\_astarr\\_macs\\_input\\_overlap & hic\\_intact\\_Loop\\_B\\_ENCSR479XDG\\\\\n",
       "\t chr1 & 984073 & 984542 & chr1 & 984000 & 985000 & chr1:984000-985000\\textbar{}chr1:1063000-1064000 & hic\\_intact & Loop\\_A &  469 & chr1:984073-984542 & chr1:984000-985000 & fcc\\_astarr\\_macs\\_input\\_overlap & hic\\_intact\\_Loop\\_B\\_ENCSR479XDG\\\\\n",
       "\\end{tabular}\n"
      ],
      "text/markdown": [
       "\n",
       "A tibble: 6 × 14\n",
       "\n",
       "| Chrom_A &lt;chr&gt; | ChromStart_A &lt;dbl&gt; | ChromEnd_A &lt;dbl&gt; | Chrom_B &lt;chr&gt; | ChromStart_B &lt;dbl&gt; | ChromEnd_B &lt;dbl&gt; | Name_B &lt;chr&gt; | Group_B &lt;chr&gt; | Label_B &lt;chr&gt; | Overlap &lt;dbl&gt; | Region_A &lt;chr&gt; | Region_B &lt;chr&gt; | Annotation_A &lt;chr&gt; | Annotation_B &lt;chr&gt; |\n",
       "|---|---|---|---|---|---|---|---|---|---|---|---|---|---|\n",
       "| chr1 | 778233 | 779389 | chr1 | 770000 | 780000 | chr1:770000-780000|chr1:840000-850000   | hic_intact | Loop_A | 1156 | chr1:778233-779389 | chr1:770000-780000 | fcc_astarr_macs_input_overlap | hic_intact_Loop_B_ENCSR479XDG |\n",
       "| chr1 | 903783 | 905204 | chr1 | 904000 | 906000 | chr1:904000-906000|chr1:976000-978000   | hic_intact | Loop_A | 1204 | chr1:903783-905204 | chr1:904000-906000 | fcc_astarr_macs_input_overlap | hic_intact_Loop_B_ENCSR479XDG |\n",
       "| chr1 | 920937 | 921509 | chr1 | 920000 | 925000 | chr1:920000-925000|chr1:1060000-1065000 | hic_intact | Loop_A |  572 | chr1:920937-921509 | chr1:920000-925000 | fcc_astarr_macs_input_overlap | hic_intact_Loop_B_ENCSR479XDG |\n",
       "| chr1 | 923427 | 925161 | chr1 | 920000 | 925000 | chr1:920000-925000|chr1:1060000-1065000 | hic_intact | Loop_A | 1573 | chr1:923427-925161 | chr1:920000-925000 | fcc_astarr_macs_input_overlap | hic_intact_Loop_B_ENCSR479XDG |\n",
       "| chr1 | 979401 | 980599 | chr1 | 980000 | 990000 | chr1:980000-990000|chr1:1290000-1300000 | hic_intact | Loop_A |  599 | chr1:979401-980599 | chr1:980000-990000 | fcc_astarr_macs_input_overlap | hic_intact_Loop_B_ENCSR479XDG |\n",
       "| chr1 | 984073 | 984542 | chr1 | 984000 | 985000 | chr1:984000-985000|chr1:1063000-1064000 | hic_intact | Loop_A |  469 | chr1:984073-984542 | chr1:984000-985000 | fcc_astarr_macs_input_overlap | hic_intact_Loop_B_ENCSR479XDG |\n",
       "\n"
      ],
      "text/plain": [
       "  Chrom_A ChromStart_A ChromEnd_A Chrom_B ChromStart_B ChromEnd_B\n",
       "1 chr1    778233       779389     chr1    770000       780000    \n",
       "2 chr1    903783       905204     chr1    904000       906000    \n",
       "3 chr1    920937       921509     chr1    920000       925000    \n",
       "4 chr1    923427       925161     chr1    920000       925000    \n",
       "5 chr1    979401       980599     chr1    980000       990000    \n",
       "6 chr1    984073       984542     chr1    984000       985000    \n",
       "  Name_B                                  Group_B    Label_B Overlap\n",
       "1 chr1:770000-780000|chr1:840000-850000   hic_intact Loop_A  1156   \n",
       "2 chr1:904000-906000|chr1:976000-978000   hic_intact Loop_A  1204   \n",
       "3 chr1:920000-925000|chr1:1060000-1065000 hic_intact Loop_A   572   \n",
       "4 chr1:920000-925000|chr1:1060000-1065000 hic_intact Loop_A  1573   \n",
       "5 chr1:980000-990000|chr1:1290000-1300000 hic_intact Loop_A   599   \n",
       "6 chr1:984000-985000|chr1:1063000-1064000 hic_intact Loop_A   469   \n",
       "  Region_A           Region_B           Annotation_A                 \n",
       "1 chr1:778233-779389 chr1:770000-780000 fcc_astarr_macs_input_overlap\n",
       "2 chr1:903783-905204 chr1:904000-906000 fcc_astarr_macs_input_overlap\n",
       "3 chr1:920937-921509 chr1:920000-925000 fcc_astarr_macs_input_overlap\n",
       "4 chr1:923427-925161 chr1:920000-925000 fcc_astarr_macs_input_overlap\n",
       "5 chr1:979401-980599 chr1:980000-990000 fcc_astarr_macs_input_overlap\n",
       "6 chr1:984073-984542 chr1:984000-985000 fcc_astarr_macs_input_overlap\n",
       "  Annotation_B                 \n",
       "1 hic_intact_Loop_B_ENCSR479XDG\n",
       "2 hic_intact_Loop_B_ENCSR479XDG\n",
       "3 hic_intact_Loop_B_ENCSR479XDG\n",
       "4 hic_intact_Loop_B_ENCSR479XDG\n",
       "5 hic_intact_Loop_B_ENCSR479XDG\n",
       "6 hic_intact_Loop_B_ENCSR479XDG"
      ]
     },
     "metadata": {},
     "output_type": "display_data"
    }
   ],
   "source": [
    "###\n",
    "dat = dat_region_import\n",
    "\n",
    "###\n",
    "vec = str_split(txt_fname, \"\\\\.\")[[1]]\n",
    "txt_annot_A = vec[1]\n",
    "txt_annot_B = vec[2]\n",
    "\n",
    "###\n",
    "dat = dat %>% \n",
    "    dplyr::mutate(\n",
    "        Region_A = paste0(Chrom_A, \":\", ChromStart_A, \"-\", ChromEnd_A),\n",
    "        Region_B = paste0(Chrom_B, \":\", ChromStart_B, \"-\", ChromEnd_B),\n",
    "        Annotation_A = txt_annot_A,\n",
    "        Annotation_B = txt_annot_B\n",
    "    )\n",
    "dat_region_arrange = dat\n",
    "print(dim(dat))\n",
    "head(dat)"
   ]
  },
  {
   "cell_type": "code",
   "execution_count": 11,
   "id": "6f6e3030-8d47-4003-8fe3-a30643a9ba34",
   "metadata": {},
   "outputs": [
    {
     "name": "stdout",
     "output_type": "stream",
     "text": [
      "[1] 93977     6\n"
     ]
    },
    {
     "data": {
      "text/html": [
       "<table class=\"dataframe\">\n",
       "<caption>A tibble: 6 × 6</caption>\n",
       "<thead>\n",
       "\t<tr><th scope=col>Chrom_A</th><th scope=col>ChromStart_A</th><th scope=col>ChromEnd_A</th><th scope=col>Region_A</th><th scope=col>Name_B</th><th scope=col>ChromLoc_B</th></tr>\n",
       "\t<tr><th scope=col>&lt;chr&gt;</th><th scope=col>&lt;dbl&gt;</th><th scope=col>&lt;dbl&gt;</th><th scope=col>&lt;chr&gt;</th><th scope=col>&lt;chr&gt;</th><th scope=col>&lt;dbl&gt;</th></tr>\n",
       "</thead>\n",
       "<tbody>\n",
       "\t<tr><td>chr1</td><td>778233</td><td>779389</td><td>chr1:778233-779389</td><td>chr1:770000-780000|chr1:840000-850000  </td><td>770000</td></tr>\n",
       "\t<tr><td>chr1</td><td>842516</td><td>843431</td><td>chr1:842516-843431</td><td>chr1:770000-780000|chr1:840000-850000  </td><td>840000</td></tr>\n",
       "\t<tr><td>chr1</td><td>849583</td><td>850403</td><td>chr1:849583-850403</td><td>chr1:770000-780000|chr1:840000-850000  </td><td>840000</td></tr>\n",
       "\t<tr><td>chr1</td><td>903783</td><td>905204</td><td>chr1:903783-905204</td><td>chr1:904000-906000|chr1:976000-978000  </td><td>904000</td></tr>\n",
       "\t<tr><td>chr1</td><td>920937</td><td>921509</td><td>chr1:920937-921509</td><td>chr1:920000-925000|chr1:1060000-1065000</td><td>920000</td></tr>\n",
       "\t<tr><td>chr1</td><td>923427</td><td>925161</td><td>chr1:923427-925161</td><td>chr1:920000-925000|chr1:1060000-1065000</td><td>920000</td></tr>\n",
       "</tbody>\n",
       "</table>\n"
      ],
      "text/latex": [
       "A tibble: 6 × 6\n",
       "\\begin{tabular}{llllll}\n",
       " Chrom\\_A & ChromStart\\_A & ChromEnd\\_A & Region\\_A & Name\\_B & ChromLoc\\_B\\\\\n",
       " <chr> & <dbl> & <dbl> & <chr> & <chr> & <dbl>\\\\\n",
       "\\hline\n",
       "\t chr1 & 778233 & 779389 & chr1:778233-779389 & chr1:770000-780000\\textbar{}chr1:840000-850000   & 770000\\\\\n",
       "\t chr1 & 842516 & 843431 & chr1:842516-843431 & chr1:770000-780000\\textbar{}chr1:840000-850000   & 840000\\\\\n",
       "\t chr1 & 849583 & 850403 & chr1:849583-850403 & chr1:770000-780000\\textbar{}chr1:840000-850000   & 840000\\\\\n",
       "\t chr1 & 903783 & 905204 & chr1:903783-905204 & chr1:904000-906000\\textbar{}chr1:976000-978000   & 904000\\\\\n",
       "\t chr1 & 920937 & 921509 & chr1:920937-921509 & chr1:920000-925000\\textbar{}chr1:1060000-1065000 & 920000\\\\\n",
       "\t chr1 & 923427 & 925161 & chr1:923427-925161 & chr1:920000-925000\\textbar{}chr1:1060000-1065000 & 920000\\\\\n",
       "\\end{tabular}\n"
      ],
      "text/markdown": [
       "\n",
       "A tibble: 6 × 6\n",
       "\n",
       "| Chrom_A &lt;chr&gt; | ChromStart_A &lt;dbl&gt; | ChromEnd_A &lt;dbl&gt; | Region_A &lt;chr&gt; | Name_B &lt;chr&gt; | ChromLoc_B &lt;dbl&gt; |\n",
       "|---|---|---|---|---|---|\n",
       "| chr1 | 778233 | 779389 | chr1:778233-779389 | chr1:770000-780000|chr1:840000-850000   | 770000 |\n",
       "| chr1 | 842516 | 843431 | chr1:842516-843431 | chr1:770000-780000|chr1:840000-850000   | 840000 |\n",
       "| chr1 | 849583 | 850403 | chr1:849583-850403 | chr1:770000-780000|chr1:840000-850000   | 840000 |\n",
       "| chr1 | 903783 | 905204 | chr1:903783-905204 | chr1:904000-906000|chr1:976000-978000   | 904000 |\n",
       "| chr1 | 920937 | 921509 | chr1:920937-921509 | chr1:920000-925000|chr1:1060000-1065000 | 920000 |\n",
       "| chr1 | 923427 | 925161 | chr1:923427-925161 | chr1:920000-925000|chr1:1060000-1065000 | 920000 |\n",
       "\n"
      ],
      "text/plain": [
       "  Chrom_A ChromStart_A ChromEnd_A Region_A          \n",
       "1 chr1    778233       779389     chr1:778233-779389\n",
       "2 chr1    842516       843431     chr1:842516-843431\n",
       "3 chr1    849583       850403     chr1:849583-850403\n",
       "4 chr1    903783       905204     chr1:903783-905204\n",
       "5 chr1    920937       921509     chr1:920937-921509\n",
       "6 chr1    923427       925161     chr1:923427-925161\n",
       "  Name_B                                  ChromLoc_B\n",
       "1 chr1:770000-780000|chr1:840000-850000   770000    \n",
       "2 chr1:770000-780000|chr1:840000-850000   840000    \n",
       "3 chr1:770000-780000|chr1:840000-850000   840000    \n",
       "4 chr1:904000-906000|chr1:976000-978000   904000    \n",
       "5 chr1:920000-925000|chr1:1060000-1065000 920000    \n",
       "6 chr1:920000-925000|chr1:1060000-1065000 920000    "
      ]
     },
     "metadata": {},
     "output_type": "display_data"
    }
   ],
   "source": [
    "dat = dat_region_arrange\n",
    "dat = dat %>% \n",
    "    dplyr::select(\n",
    "        Chrom_A, ChromStart_A, ChromEnd_A, \n",
    "        Chrom_B, ChromStart_B, ChromEnd_B, \n",
    "        Region_A, Name_B) %>% \n",
    "    dplyr::distinct() %>%\n",
    "    dplyr::group_by(Chrom_A, ChromStart_A, ChromEnd_A, Region_A, Name_B) %>%\n",
    "    dplyr::summarise(\n",
    "        ChromLoc_B = mean(ChromStart_B),\n",
    "        .groups = \"drop\"\n",
    "    )\n",
    "\n",
    "dat_region_simplify = dat\n",
    "print(dim(dat))\n",
    "head(dat)"
   ]
  },
  {
   "cell_type": "code",
   "execution_count": 30,
   "id": "8d7aa484-a63e-4141-9eb0-276aa2316043",
   "metadata": {},
   "outputs": [
    {
     "name": "stdout",
     "output_type": "stream",
     "text": [
      "[1] 2132    7\n"
     ]
    }
   ],
   "source": [
    "dat = dat_region_simplify\n",
    "dat = dat %>% \n",
    "    dplyr::filter(Chrom_A == \"chrX\") %>% \n",
    "    dplyr::mutate(Value = 1) %>%\n",
    "    dplyr::distinct() \n",
    "\n",
    "dat = dat %>% dplyr::arrange(ChromLoc_B)\n",
    "vec = unique(dat$Name_B)\n",
    "dat = dat %>% dplyr::mutate(Name_B = factor(Name_B, levels=vec))\n",
    "\n",
    "dat = dat %>% dplyr::arrange(Chrom_A, ChromStart_A, ChromEnd_A)\n",
    "vec = unique(dat$Region_A)\n",
    "dat = dat %>% dplyr::mutate(Region_A = factor(Region_A, levels=rev(vec)))\n",
    "\n",
    "print(dim(dat))"
   ]
  },
  {
   "cell_type": "code",
   "execution_count": 31,
   "id": "122d268b-b250-41a2-a365-4595dd92f522",
   "metadata": {},
   "outputs": [
    {
     "data": {
      "image/png": "[encoded data removed]",
      "text/plain": [
       "plot without title"
      ]
     },
     "metadata": {
      "image/png": {
       "height": 300,
       "width": 300
      }
     },
     "output_type": "display_data"
    }
   ],
   "source": [
    "gpt = ggplot(dat, aes(x=Name_B, y=Region_A, fill=Value)) +\n",
    "    geom_tile() + \n",
    "    labs(x=\"Loop\", y=\"ATAC\") +\n",
    "    theme_cowplot() +\n",
    "    theme(\n",
    "        axis.text  = element_blank(),\n",
    "        axis.ticks = element_blank(),\n",
    "        legend.position = \"None\"\n",
    "    )\n",
    "\n",
    "options(repr.plot.height = 5, repr.plot.width = 5)\n",
    "print(gpt)"
   ]
  },
  {
   "cell_type": "code",
   "execution_count": 32,
   "id": "28ff3f01-8c7f-4326-bccd-d3ad6b3a54a3",
   "metadata": {},
   "outputs": [
    {
     "name": "stdout",
     "output_type": "stream",
     "text": [
      "[1] 1756    7\n"
     ]
    }
   ],
   "source": [
    "dat = dat_region_simplify\n",
    "dat = dat %>% \n",
    "    dplyr::filter(Chrom_A == \"chrX\") %>% \n",
    "    dplyr::mutate(Value = 1) %>%\n",
    "    dplyr::distinct()\n",
    "\n",
    "tmp = dat %>%\n",
    "    dplyr::group_by(Name_B) %>%\n",
    "    dplyr::summarize(Count = n()) %>%\n",
    "    dplyr::filter(Count > 1)\n",
    "vec = tmp$Name_B\n",
    "\n",
    "dat = dat %>% dplyr::filter(Name_B %in% vec)\n",
    "dat = dat %>% dplyr::arrange(ChromLoc_B)\n",
    "vec = unique(dat$Name_B)\n",
    "dat = dat %>% dplyr::mutate(Name_B = factor(Name_B, levels=vec))\n",
    "\n",
    "dat = dat %>% dplyr::arrange(Chrom_A, ChromStart_A, ChromEnd_A)\n",
    "vec = unique(dat$Region_A)\n",
    "dat = dat %>% dplyr::mutate(Region_A = factor(Region_A, levels=rev(vec)))\n",
    "\n",
    "print(dim(dat))"
   ]
  },
  {
   "cell_type": "code",
   "execution_count": 33,
   "id": "1a330a53-7fd2-428e-a246-43ccb08aa329",
   "metadata": {},
   "outputs": [
    {
     "data": {
      "image/png": "[encoded data removed]",
      "text/plain": [
       "plot without title"
      ]
     },
     "metadata": {
      "image/png": {
       "height": 300,
       "width": 300
      }
     },
     "output_type": "display_data"
    }
   ],
   "source": [
    "gpt = ggplot(dat, aes(x=Name_B, y=Region_A, fill=Value)) +\n",
    "    geom_tile() + \n",
    "    labs(x=\"Loop\", y=\"ATAC\") +\n",
    "    theme_cowplot() +\n",
    "    theme(\n",
    "        axis.text  = element_blank(),\n",
    "        axis.ticks = element_blank(),\n",
    "        legend.position = \"None\"\n",
    "    )\n",
    "\n",
    "options(repr.plot.height = 5, repr.plot.width = 5)\n",
    "print(gpt)"
   ]
  },
  {
   "cell_type": "code",
   "execution_count": 38,
   "id": "36f1c8bb-c303-4281-a9a2-56087ef3ffc1",
   "metadata": {},
   "outputs": [
    {
     "name": "stdout",
     "output_type": "stream",
     "text": [
      "[1] 235   7\n"
     ]
    }
   ],
   "source": [
    "dat = dat_region_simplify\n",
    "dat = dat %>% \n",
    "    dplyr::filter(Chrom_A == \"chrX\") %>% \n",
    "    dplyr::mutate(Value = 1) %>%\n",
    "    dplyr::distinct()\n",
    "\n",
    "tmp = dat %>%\n",
    "    dplyr::group_by(Name_B) %>%\n",
    "    dplyr::summarize(Count = n()) %>%\n",
    "    dplyr::filter(Count > 3)\n",
    "vec = tmp$Name_B\n",
    "\n",
    "dat = dat %>% dplyr::filter(Name_B %in% vec)\n",
    "dat = dat %>% dplyr::arrange(ChromLoc_B)\n",
    "vec = unique(dat$Name_B)\n",
    "dat = dat %>% dplyr::mutate(Name_B = factor(Name_B, levels=vec))\n",
    "\n",
    "dat = dat %>% dplyr::arrange(Chrom_A, ChromStart_A, ChromEnd_A)\n",
    "vec = unique(dat$Region_A)\n",
    "dat = dat %>% dplyr::mutate(Region_A = factor(Region_A, levels=rev(vec)))\n",
    "\n",
    "print(dim(dat))"
   ]
  },
  {
   "cell_type": "code",
   "execution_count": 39,
   "id": "5486db0f-5380-4e28-9059-2436da406c47",
   "metadata": {},
   "outputs": [
    {
     "data": {
      "image/png": "[encoded data removed]",
      "text/plain": [
       "plot without title"
      ]
     },
     "metadata": {
      "image/png": {
       "height": 300,
       "width": 300
      }
     },
     "output_type": "display_data"
    }
   ],
   "source": [
    "gpt = ggplot(dat, aes(x=Name_B, y=Region_A, fill=Value)) +\n",
    "    geom_tile() + \n",
    "    labs(x=\"Loop\", y=\"ATAC\") +\n",
    "    theme_cowplot() +\n",
    "    theme(\n",
    "        axis.text  = element_blank(),\n",
    "        axis.ticks = element_blank(),\n",
    "        legend.position = \"None\"\n",
    "    )\n",
    "\n",
    "options(repr.plot.height = 5, repr.plot.width = 5)\n",
    "print(gpt)"
   ]
  },
  {
   "cell_type": "code",
   "execution_count": null,
   "id": "22a5d654-b8b6-4059-8b48-9d4a1ae8acc1",
   "metadata": {},
   "outputs": [],
   "source": []
  }
 ],
 "metadata": {
  "kernelspec": {
   "display_name": "R",
   "language": "R",
   "name": "ir"
  },
  "language_info": {
   "codemirror_mode": "r",
   "file_extension": ".r",
   "mimetype": "text/x-r-source",
   "name": "R",
   "pygments_lexer": "r",
   "version": "4.4.0"
  }
 },
 "nbformat": 4,
 "nbformat_minor": 5
}
