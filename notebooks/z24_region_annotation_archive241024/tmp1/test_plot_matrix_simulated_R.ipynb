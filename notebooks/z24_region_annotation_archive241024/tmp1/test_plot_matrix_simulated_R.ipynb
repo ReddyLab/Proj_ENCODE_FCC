{
 "cells": [
  {
   "cell_type": "code",
   "execution_count": 1,
   "id": "5dcc6c74-8c52-4148-96e4-03481b0c1d71",
   "metadata": {},
   "outputs": [
    {
     "name": "stdout",
     "output_type": "stream",
     "text": [
      "You are working on        Singularity \n",
      "BASE DIRECTORY (FD_BASE): /mount \n",
      "REPO DIRECTORY (FD_REPO): /mount/repo \n",
      "WORK DIRECTORY (FD_WORK): /mount/work \n",
      "DATA DIRECTORY (FD_DATA): /mount/data \n",
      "\n",
      "You are working with      ENCODE FCC \n",
      "PATH OF PROJECT (FD_PRJ): /mount/repo/Proj_ENCODE_FCC \n",
      "PROJECT RESULTS (FD_RES): /mount/repo/Proj_ENCODE_FCC/results \n",
      "PROJECT SCRIPTS (FD_EXE): /mount/repo/Proj_ENCODE_FCC/scripts \n",
      "PROJECT DATA    (FD_DAT): /mount/repo/Proj_ENCODE_FCC/data \n",
      "PROJECT NOTE    (FD_NBK): /mount/repo/Proj_ENCODE_FCC/notebooks \n",
      "PROJECT DOCS    (FD_DOC): /mount/repo/Proj_ENCODE_FCC/docs \n",
      "PROJECT LOG     (FD_LOG): /mount/repo/Proj_ENCODE_FCC/log \n",
      "PROJECT APP     (FD_APP): /mount/repo/Proj_ENCODE_FCC/app \n",
      "PROJECT REF     (FD_REF): /mount/repo/Proj_ENCODE_FCC/references \n",
      "\n"
     ]
    }
   ],
   "source": [
    "suppressMessages(suppressWarnings(source(\"../run_config_project_sing.R\")))\n",
    "show_env()"
   ]
  },
  {
   "cell_type": "code",
   "execution_count": 3,
   "id": "45f5a6a0-475c-46d1-8b77-77cfc01d58fb",
   "metadata": {},
   "outputs": [],
   "source": [
    "library(MASS)\n",
    "library(corrr)"
   ]
  },
  {
   "cell_type": "code",
   "execution_count": 8,
   "id": "c6031d3b-c896-410d-9e11-fce4a52a0468",
   "metadata": {},
   "outputs": [],
   "source": [
    "set.seed(1)\n",
    "# Simulate three columns correlating about .7 with each other\n",
    "mu <- rep(0, 3)\n",
    "Sigma <- matrix(.7, nrow = 3, ncol = 3) + diag(3)*.3\n",
    "seven <- mvrnorm(n = 1000, mu = mu, Sigma = Sigma)\n",
    "\n",
    "# Simulate three columns correlating about .4 with each other\n",
    "mu <- rep(0, 3)\n",
    "Sigma <- matrix(.4, nrow = 3, ncol = 3) + diag(3)*.6\n",
    "four <- mvrnorm(n = 1000, mu = mu, Sigma = Sigma)\n",
    "\n",
    "# Bind together\n",
    "d <- cbind(seven, four)\n",
    "colnames(d) <- paste0(\"v\", 1:ncol(d))\n",
    "\n",
    "# Insert some missing values\n",
    "d[sample(1:nrow(d), 100, replace = TRUE), 1] <- NA\n",
    "d[sample(1:nrow(d), 200, replace = TRUE), 5] <- NA"
   ]
  },
  {
   "cell_type": "code",
   "execution_count": 9,
   "id": "140ee31d-44cf-4c40-8585-f15f800ecf65",
   "metadata": {},
   "outputs": [
    {
     "data": {
      "text/html": [
       "<table class=\"dataframe\">\n",
       "<caption>A matrix: 6 × 3 of type dbl</caption>\n",
       "<tbody>\n",
       "\t<tr><td>-0.6960673</td><td>-1.03759366</td><td> 0.05270901</td></tr>\n",
       "\t<tr><td>-0.3931088</td><td>-0.26890989</td><td> 1.15478548</td></tr>\n",
       "\t<tr><td>-0.2648917</td><td>-0.41192202</td><td>-1.56541315</td></tr>\n",
       "\t<tr><td> 1.6769523</td><td> 1.31591358</td><td> 1.28772173</td></tr>\n",
       "\t<tr><td> 0.2857491</td><td> 0.26559287</td><td> 0.33282018</td></tr>\n",
       "\t<tr><td>-0.7772382</td><td>-0.01501928</td><td>-1.40929020</td></tr>\n",
       "</tbody>\n",
       "</table>\n"
      ],
      "text/latex": [
       "A matrix: 6 × 3 of type dbl\n",
       "\\begin{tabular}{lll}\n",
       "\t -0.6960673 & -1.03759366 &  0.05270901\\\\\n",
       "\t -0.3931088 & -0.26890989 &  1.15478548\\\\\n",
       "\t -0.2648917 & -0.41192202 & -1.56541315\\\\\n",
       "\t  1.6769523 &  1.31591358 &  1.28772173\\\\\n",
       "\t  0.2857491 &  0.26559287 &  0.33282018\\\\\n",
       "\t -0.7772382 & -0.01501928 & -1.40929020\\\\\n",
       "\\end{tabular}\n"
      ],
      "text/markdown": [
       "\n",
       "A matrix: 6 × 3 of type dbl\n",
       "\n",
       "| -0.6960673 | -1.03759366 |  0.05270901 |\n",
       "| -0.3931088 | -0.26890989 |  1.15478548 |\n",
       "| -0.2648917 | -0.41192202 | -1.56541315 |\n",
       "|  1.6769523 |  1.31591358 |  1.28772173 |\n",
       "|  0.2857491 |  0.26559287 |  0.33282018 |\n",
       "| -0.7772382 | -0.01501928 | -1.40929020 |\n",
       "\n"
      ],
      "text/plain": [
       "     [,1]       [,2]        [,3]       \n",
       "[1,] -0.6960673 -1.03759366  0.05270901\n",
       "[2,] -0.3931088 -0.26890989  1.15478548\n",
       "[3,] -0.2648917 -0.41192202 -1.56541315\n",
       "[4,]  1.6769523  1.31591358  1.28772173\n",
       "[5,]  0.2857491  0.26559287  0.33282018\n",
       "[6,] -0.7772382 -0.01501928 -1.40929020"
      ]
     },
     "metadata": {},
     "output_type": "display_data"
    }
   ],
   "source": [
    "head(seven)"
   ]
  },
  {
   "cell_type": "code",
   "execution_count": 10,
   "id": "aaca46a8-5885-45d3-b996-28e8029f4a49",
   "metadata": {},
   "outputs": [
    {
     "data": {
      "text/html": [
       "<table class=\"dataframe\">\n",
       "<caption>A matrix: 6 × 3 of type dbl</caption>\n",
       "<tbody>\n",
       "\t<tr><td>-0.9933378</td><td> 0.6090869</td><td>-1.333296972</td></tr>\n",
       "\t<tr><td>-0.2250492</td><td>-0.8751502</td><td> 0.201801924</td></tr>\n",
       "\t<tr><td>-2.0926991</td><td>-0.2276214</td><td>-0.692234342</td></tr>\n",
       "\t<tr><td> 1.7117664</td><td> 0.3529101</td><td>-0.197375609</td></tr>\n",
       "\t<tr><td> 2.5288824</td><td> 1.2039795</td><td>-0.008696356</td></tr>\n",
       "\t<tr><td>-1.5835327</td><td>-0.1994542</td><td>-0.385692320</td></tr>\n",
       "</tbody>\n",
       "</table>\n"
      ],
      "text/latex": [
       "A matrix: 6 × 3 of type dbl\n",
       "\\begin{tabular}{lll}\n",
       "\t -0.9933378 &  0.6090869 & -1.333296972\\\\\n",
       "\t -0.2250492 & -0.8751502 &  0.201801924\\\\\n",
       "\t -2.0926991 & -0.2276214 & -0.692234342\\\\\n",
       "\t  1.7117664 &  0.3529101 & -0.197375609\\\\\n",
       "\t  2.5288824 &  1.2039795 & -0.008696356\\\\\n",
       "\t -1.5835327 & -0.1994542 & -0.385692320\\\\\n",
       "\\end{tabular}\n"
      ],
      "text/markdown": [
       "\n",
       "A matrix: 6 × 3 of type dbl\n",
       "\n",
       "| -0.9933378 |  0.6090869 | -1.333296972 |\n",
       "| -0.2250492 | -0.8751502 |  0.201801924 |\n",
       "| -2.0926991 | -0.2276214 | -0.692234342 |\n",
       "|  1.7117664 |  0.3529101 | -0.197375609 |\n",
       "|  2.5288824 |  1.2039795 | -0.008696356 |\n",
       "| -1.5835327 | -0.1994542 | -0.385692320 |\n",
       "\n"
      ],
      "text/plain": [
       "     [,1]       [,2]       [,3]        \n",
       "[1,] -0.9933378  0.6090869 -1.333296972\n",
       "[2,] -0.2250492 -0.8751502  0.201801924\n",
       "[3,] -2.0926991 -0.2276214 -0.692234342\n",
       "[4,]  1.7117664  0.3529101 -0.197375609\n",
       "[5,]  2.5288824  1.2039795 -0.008696356\n",
       "[6,] -1.5835327 -0.1994542 -0.385692320"
      ]
     },
     "metadata": {},
     "output_type": "display_data"
    }
   ],
   "source": [
    "head(four)"
   ]
  },
  {
   "cell_type": "code",
   "execution_count": 11,
   "id": "089ab306-abe1-4d66-ad75-a8f7f3969fc8",
   "metadata": {},
   "outputs": [
    {
     "data": {
      "text/html": [
       "<table class=\"dataframe\">\n",
       "<caption>A matrix: 6 × 6 of type dbl</caption>\n",
       "<thead>\n",
       "\t<tr><th scope=col>v1</th><th scope=col>v2</th><th scope=col>v3</th><th scope=col>v4</th><th scope=col>v5</th><th scope=col>v6</th></tr>\n",
       "</thead>\n",
       "<tbody>\n",
       "\t<tr><td>-0.6960673</td><td>-1.03759366</td><td> 0.05270901</td><td>-0.9933378</td><td>        NA</td><td>-1.333296972</td></tr>\n",
       "\t<tr><td>-0.3931088</td><td>-0.26890989</td><td> 1.15478548</td><td>-0.2250492</td><td>-0.8751502</td><td> 0.201801924</td></tr>\n",
       "\t<tr><td>-0.2648917</td><td>-0.41192202</td><td>-1.56541315</td><td>-2.0926991</td><td>        NA</td><td>-0.692234342</td></tr>\n",
       "\t<tr><td> 1.6769523</td><td> 1.31591358</td><td> 1.28772173</td><td> 1.7117664</td><td>        NA</td><td>-0.197375609</td></tr>\n",
       "\t<tr><td> 0.2857491</td><td> 0.26559287</td><td> 0.33282018</td><td> 2.5288824</td><td> 1.2039795</td><td>-0.008696356</td></tr>\n",
       "\t<tr><td>-0.7772382</td><td>-0.01501928</td><td>-1.40929020</td><td>-1.5835327</td><td>-0.1994542</td><td>-0.385692320</td></tr>\n",
       "</tbody>\n",
       "</table>\n"
      ],
      "text/latex": [
       "A matrix: 6 × 6 of type dbl\n",
       "\\begin{tabular}{llllll}\n",
       " v1 & v2 & v3 & v4 & v5 & v6\\\\\n",
       "\\hline\n",
       "\t -0.6960673 & -1.03759366 &  0.05270901 & -0.9933378 &         NA & -1.333296972\\\\\n",
       "\t -0.3931088 & -0.26890989 &  1.15478548 & -0.2250492 & -0.8751502 &  0.201801924\\\\\n",
       "\t -0.2648917 & -0.41192202 & -1.56541315 & -2.0926991 &         NA & -0.692234342\\\\\n",
       "\t  1.6769523 &  1.31591358 &  1.28772173 &  1.7117664 &         NA & -0.197375609\\\\\n",
       "\t  0.2857491 &  0.26559287 &  0.33282018 &  2.5288824 &  1.2039795 & -0.008696356\\\\\n",
       "\t -0.7772382 & -0.01501928 & -1.40929020 & -1.5835327 & -0.1994542 & -0.385692320\\\\\n",
       "\\end{tabular}\n"
      ],
      "text/markdown": [
       "\n",
       "A matrix: 6 × 6 of type dbl\n",
       "\n",
       "| v1 | v2 | v3 | v4 | v5 | v6 |\n",
       "|---|---|---|---|---|---|\n",
       "| -0.6960673 | -1.03759366 |  0.05270901 | -0.9933378 |         NA | -1.333296972 |\n",
       "| -0.3931088 | -0.26890989 |  1.15478548 | -0.2250492 | -0.8751502 |  0.201801924 |\n",
       "| -0.2648917 | -0.41192202 | -1.56541315 | -2.0926991 |         NA | -0.692234342 |\n",
       "|  1.6769523 |  1.31591358 |  1.28772173 |  1.7117664 |         NA | -0.197375609 |\n",
       "|  0.2857491 |  0.26559287 |  0.33282018 |  2.5288824 |  1.2039795 | -0.008696356 |\n",
       "| -0.7772382 | -0.01501928 | -1.40929020 | -1.5835327 | -0.1994542 | -0.385692320 |\n",
       "\n"
      ],
      "text/plain": [
       "     v1         v2          v3          v4         v5         v6          \n",
       "[1,] -0.6960673 -1.03759366  0.05270901 -0.9933378         NA -1.333296972\n",
       "[2,] -0.3931088 -0.26890989  1.15478548 -0.2250492 -0.8751502  0.201801924\n",
       "[3,] -0.2648917 -0.41192202 -1.56541315 -2.0926991         NA -0.692234342\n",
       "[4,]  1.6769523  1.31591358  1.28772173  1.7117664         NA -0.197375609\n",
       "[5,]  0.2857491  0.26559287  0.33282018  2.5288824  1.2039795 -0.008696356\n",
       "[6,] -0.7772382 -0.01501928 -1.40929020 -1.5835327 -0.1994542 -0.385692320"
      ]
     },
     "metadata": {},
     "output_type": "display_data"
    }
   ],
   "source": [
    "head(d)"
   ]
  },
  {
   "cell_type": "code",
   "execution_count": 12,
   "id": "be182c61-07d7-4428-b735-78cd8d4eada3",
   "metadata": {},
   "outputs": [
    {
     "name": "stderr",
     "output_type": "stream",
     "text": [
      "Correlation computed with\n",
      "\u001b[36m•\u001b[39m Method: 'pearson'\n",
      "\u001b[36m•\u001b[39m Missing treated using: 'pairwise.complete.obs'\n"
     ]
    },
    {
     "data": {
      "text/html": [
       "<style>\n",
       ".list-inline {list-style: none; margin:0; padding: 0}\n",
       ".list-inline>li {display: inline-block}\n",
       ".list-inline>li:not(:last-child)::after {content: \"\\00b7\"; padding: 0 .5ex}\n",
       "</style>\n",
       "<ol class=list-inline><li>'cor_df'</li><li>'tbl_df'</li><li>'tbl'</li><li>'data.frame'</li></ol>\n"
      ],
      "text/latex": [
       "\\begin{enumerate*}\n",
       "\\item 'cor\\_df'\n",
       "\\item 'tbl\\_df'\n",
       "\\item 'tbl'\n",
       "\\item 'data.frame'\n",
       "\\end{enumerate*}\n"
      ],
      "text/markdown": [
       "1. 'cor_df'\n",
       "2. 'tbl_df'\n",
       "3. 'tbl'\n",
       "4. 'data.frame'\n",
       "\n",
       "\n"
      ],
      "text/plain": [
       "[1] \"cor_df\"     \"tbl_df\"     \"tbl\"        \"data.frame\""
      ]
     },
     "metadata": {},
     "output_type": "display_data"
    }
   ],
   "source": [
    "# Correlate\n",
    "x <- correlate(d)\n",
    "class(x)"
   ]
  },
  {
   "cell_type": "code",
   "execution_count": 13,
   "id": "9a0ddc2d-45bd-4832-9448-ae7f2eb3a2b7",
   "metadata": {},
   "outputs": [
    {
     "data": {
      "text/html": [
       "<table class=\"dataframe\">\n",
       "<caption>A cor_df: 6 × 7</caption>\n",
       "<thead>\n",
       "\t<tr><th scope=col>term</th><th scope=col>v1</th><th scope=col>v2</th><th scope=col>v3</th><th scope=col>v4</th><th scope=col>v5</th><th scope=col>v6</th></tr>\n",
       "\t<tr><th scope=col>&lt;chr&gt;</th><th scope=col>&lt;dbl&gt;</th><th scope=col>&lt;dbl&gt;</th><th scope=col>&lt;dbl&gt;</th><th scope=col>&lt;dbl&gt;</th><th scope=col>&lt;dbl&gt;</th><th scope=col>&lt;dbl&gt;</th></tr>\n",
       "</thead>\n",
       "<tbody>\n",
       "\t<tr><td>v1</td><td>          NA</td><td> 0.69570543</td><td> 0.70537347</td><td> 0.01372850</td><td> 0.009060348</td><td>-0.04672651</td></tr>\n",
       "\t<tr><td>v2</td><td> 0.695705428</td><td>         NA</td><td> 0.69741127</td><td>-0.01325755</td><td> 0.022058825</td><td>-0.03383145</td></tr>\n",
       "\t<tr><td>v3</td><td> 0.705373470</td><td> 0.69741127</td><td>         NA</td><td>-0.02527525</td><td>-0.016649926</td><td>-0.02005750</td></tr>\n",
       "\t<tr><td>v4</td><td> 0.013728503</td><td>-0.01325755</td><td>-0.02527525</td><td>         NA</td><td> 0.451639286</td><td> 0.44246974</td></tr>\n",
       "\t<tr><td>v5</td><td> 0.009060348</td><td> 0.02205882</td><td>-0.01664993</td><td> 0.45163929</td><td>          NA</td><td> 0.42491124</td></tr>\n",
       "\t<tr><td>v6</td><td>-0.046726506</td><td>-0.03383145</td><td>-0.02005750</td><td> 0.44246974</td><td> 0.424911236</td><td>         NA</td></tr>\n",
       "</tbody>\n",
       "</table>\n"
      ],
      "text/latex": [
       "A cor\\_df: 6 × 7\n",
       "\\begin{tabular}{lllllll}\n",
       " term & v1 & v2 & v3 & v4 & v5 & v6\\\\\n",
       " <chr> & <dbl> & <dbl> & <dbl> & <dbl> & <dbl> & <dbl>\\\\\n",
       "\\hline\n",
       "\t v1 &           NA &  0.69570543 &  0.70537347 &  0.01372850 &  0.009060348 & -0.04672651\\\\\n",
       "\t v2 &  0.695705428 &          NA &  0.69741127 & -0.01325755 &  0.022058825 & -0.03383145\\\\\n",
       "\t v3 &  0.705373470 &  0.69741127 &          NA & -0.02527525 & -0.016649926 & -0.02005750\\\\\n",
       "\t v4 &  0.013728503 & -0.01325755 & -0.02527525 &          NA &  0.451639286 &  0.44246974\\\\\n",
       "\t v5 &  0.009060348 &  0.02205882 & -0.01664993 &  0.45163929 &           NA &  0.42491124\\\\\n",
       "\t v6 & -0.046726506 & -0.03383145 & -0.02005750 &  0.44246974 &  0.424911236 &          NA\\\\\n",
       "\\end{tabular}\n"
      ],
      "text/markdown": [
       "\n",
       "A cor_df: 6 × 7\n",
       "\n",
       "| term &lt;chr&gt; | v1 &lt;dbl&gt; | v2 &lt;dbl&gt; | v3 &lt;dbl&gt; | v4 &lt;dbl&gt; | v5 &lt;dbl&gt; | v6 &lt;dbl&gt; |\n",
       "|---|---|---|---|---|---|---|\n",
       "| v1 |           NA |  0.69570543 |  0.70537347 |  0.01372850 |  0.009060348 | -0.04672651 |\n",
       "| v2 |  0.695705428 |          NA |  0.69741127 | -0.01325755 |  0.022058825 | -0.03383145 |\n",
       "| v3 |  0.705373470 |  0.69741127 |          NA | -0.02527525 | -0.016649926 | -0.02005750 |\n",
       "| v4 |  0.013728503 | -0.01325755 | -0.02527525 |          NA |  0.451639286 |  0.44246974 |\n",
       "| v5 |  0.009060348 |  0.02205882 | -0.01664993 |  0.45163929 |           NA |  0.42491124 |\n",
       "| v6 | -0.046726506 | -0.03383145 | -0.02005750 |  0.44246974 |  0.424911236 |          NA |\n",
       "\n"
      ],
      "text/plain": [
       "  term v1           v2          v3          v4          v5          \n",
       "1 v1             NA  0.69570543  0.70537347  0.01372850  0.009060348\n",
       "2 v2    0.695705428          NA  0.69741127 -0.01325755  0.022058825\n",
       "3 v3    0.705373470  0.69741127          NA -0.02527525 -0.016649926\n",
       "4 v4    0.013728503 -0.01325755 -0.02527525          NA  0.451639286\n",
       "5 v5    0.009060348  0.02205882 -0.01664993  0.45163929           NA\n",
       "6 v6   -0.046726506 -0.03383145 -0.02005750  0.44246974  0.424911236\n",
       "  v6         \n",
       "1 -0.04672651\n",
       "2 -0.03383145\n",
       "3 -0.02005750\n",
       "4  0.44246974\n",
       "5  0.42491124\n",
       "6          NA"
      ]
     },
     "metadata": {},
     "output_type": "display_data"
    }
   ],
   "source": [
    "x"
   ]
  },
  {
   "cell_type": "code",
   "execution_count": 14,
   "id": "87c39ed2-cf84-45f7-8bca-eb92099b42f6",
   "metadata": {},
   "outputs": [
    {
     "data": {
      "image/png": "[encoded data removed]",
      "text/plain": [
       "plot without title"
      ]
     },
     "metadata": {
      "image/png": {
       "height": 420,
       "width": 420
      }
     },
     "output_type": "display_data"
    }
   ],
   "source": [
    "rplot(x)"
   ]
  },
  {
   "cell_type": "code",
   "execution_count": null,
   "id": "515f1e13-c294-470f-b3d5-da2eb03034b4",
   "metadata": {},
   "outputs": [],
   "source": []
  }
 ],
 "metadata": {
  "kernelspec": {
   "display_name": "R",
   "language": "R",
   "name": "ir"
  },
  "language_info": {
   "codemirror_mode": "r",
   "file_extension": ".r",
   "mimetype": "text/x-r-source",
   "name": "R",
   "pygments_lexer": "r",
   "version": "4.4.0"
  }
 },
 "nbformat": 4,
 "nbformat_minor": 5
}
