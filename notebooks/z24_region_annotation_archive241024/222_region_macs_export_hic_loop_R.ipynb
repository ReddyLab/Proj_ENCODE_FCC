{
 "cells": [
  {
   "cell_type": "raw",
   "id": "993ef050-4691-4ef6-9cf4-d131cfd615cd",
   "metadata": {},
   "source": [
    "---\n",
    "title: FCC Peak calls\n",
    "subtitle: export annotation\n",
    "format:\n",
    "    html:\n",
    "        code-fold:  true\n",
    "        code-tools: true\n",
    "---"
   ]
  },
  {
   "cell_type": "markdown",
   "id": "f7da7f62-a523-4f10-b934-bbb9dba30fb3",
   "metadata": {},
   "source": [
    "**Set environment**"
   ]
  },
  {
   "cell_type": "code",
   "execution_count": 1,
   "id": "25035d8a-9851-433a-a0ab-f87f23516890",
   "metadata": {
    "tags": []
   },
   "outputs": [
    {
     "name": "stdout",
     "output_type": "stream",
     "text": [
      "You are working on        Singularity \n",
      "BASE DIRECTORY (FD_BASE): /mount \n",
      "REPO DIRECTORY (FD_REPO): /mount/repo \n",
      "WORK DIRECTORY (FD_WORK): /mount/work \n",
      "DATA DIRECTORY (FD_DATA): /mount/data \n",
      "\n",
      "You are working with      ENCODE FCC \n",
      "PATH OF PROJECT (FD_PRJ): /mount/repo/Proj_ENCODE_FCC \n",
      "PROJECT RESULTS (FD_RES): /mount/repo/Proj_ENCODE_FCC/results \n",
      "PROJECT SCRIPTS (FD_EXE): /mount/repo/Proj_ENCODE_FCC/scripts \n",
      "PROJECT DATA    (FD_DAT): /mount/repo/Proj_ENCODE_FCC/data \n",
      "PROJECT NOTE    (FD_NBK): /mount/repo/Proj_ENCODE_FCC/notebooks \n",
      "PROJECT DOCS    (FD_DOC): /mount/repo/Proj_ENCODE_FCC/docs \n",
      "PROJECT LOG     (FD_LOG): /mount/repo/Proj_ENCODE_FCC/log \n",
      "PROJECT APP     (FD_APP): /mount/repo/Proj_ENCODE_FCC/app \n",
      "PROJECT REF     (FD_REF): /mount/repo/Proj_ENCODE_FCC/references \n",
      "\n"
     ]
    }
   ],
   "source": [
    "suppressMessages(suppressWarnings(source(\"../run_config_project_sing.R\")))\n",
    "show_env()"
   ]
  },
  {
   "cell_type": "code",
   "execution_count": 2,
   "id": "d9901f82-260f-4667-961c-72583de04faf",
   "metadata": {},
   "outputs": [
    {
     "name": "stdout",
     "output_type": "stream",
     "text": [
      " [1] \"matrix.annotation.chipseq_flagship.fcc.rds\"               \n",
      " [2] \"matrix.annotation.chipseq_flagship.fcc.tsv\"               \n",
      " [3] \"matrix.annotation.chipseq_flagship.rds\"                   \n",
      " [4] \"matrix.annotation.chipseq_flagship.tsv\"                   \n",
      " [5] \"matrix.annotation.chipseq_full.tsv\"                       \n",
      " [6] \"matrix.annotation.chipseq_histone.tsv\"                    \n",
      " [7] \"matrix.annotation.chipseq_subset.tsv\"                     \n",
      " [8] \"matrix.annotation.fcc_peak_call.tsv\"                      \n",
      " [9] \"matrix.annotation.tss.chipseq_histone.chipseq_encode4.tsv\"\n",
      "[10] \"region.annotation.encode_chipseq_flagship.tsv\"            \n",
      "[11] \"region.annotation.encode_chipseq_histone.tsv\"             \n",
      "[12] \"region.annotation.encode_chipseq_subset.tsv\"              \n",
      "[13] \"region.annotation.encode_chromatin_states.tsv\"            \n",
      "[14] \"region.annotation.fcc_astarr_csaw.tsv\"                    \n",
      "[15] \"region.annotation.fcc_crispri_growth.tsv\"                 \n",
      "[16] \"region.annotation.fcc_crispri_hcrff.tsv\"                  \n",
      "[17] \"region.annotation.fcc_mpra_agarwal2023.tsv\"               \n",
      "[18] \"region.annotation.fcc_starrmpra_junke.tsv\"                \n",
      "[19] \"region.annotation.genome_tss.tsv\"                         \n",
      "[20] \"region.annotation.hic_insitu_K562_ENCSR545YBD.tsv\"        \n",
      "[21] \"region.annotation.hic_intact_K562_deep.tsv\"               \n",
      "[22] \"region.annotation.hic_intact_K562_ENCSR479XDG.tsv\"        \n",
      "[23] \"region.annotation.module_tf_shannon.tsv\"                  \n",
      "[24] \"region.summary.encode_chipseq_encode4.tsv\"                \n",
      "[25] \"region.summary.encode_chipseq_flagship.tsv\"               \n",
      "[26] \"region.summary.encode_chipseq_histone.tsv\"                \n",
      "[27] \"region.summary.encode_chipseq_subset.tsv\"                 \n",
      "[28] \"region.summary.encode_chromatin_states.tsv\"               \n",
      "[29] \"region.summary.fcc_astarr_csaw.tsv\"                       \n",
      "[30] \"region.summary.fcc_crispri_growth.tsv\"                    \n",
      "[31] \"region.summary.fcc_crispri_hcrff.tsv\"                     \n",
      "[32] \"region.summary.fcc_mpra_agarwal2023.tsv\"                  \n",
      "[33] \"region.summary.fcc_starrmpra_junke.tsv\"                   \n",
      "[34] \"region.summary.genome_tss.tsv\"                            \n",
      "[35] \"region.summary.hic_insitu_K562_ENCSR545YBD.tsv\"           \n",
      "[36] \"region.summary.hic_intact_K562_deep.tsv\"                  \n",
      "[37] \"region.summary.hic_intact_K562_ENCSR479XDG.tsv\"           \n",
      "[38] \"region.summary.module_tf_shannon.tsv\"                     \n",
      "[39] \"result.summary.chipseq_flagship.tsv\"                      \n",
      "[40] \"result.summary.chipseq_full.tsv\"                          \n",
      "[41] \"result.summary.chipseq_histone.tsv\"                       \n",
      "[42] \"result.summary.chipseq_subset.tsv\"                        \n",
      "[43] \"result.summary.connectivity.loop.tsv\"                     \n",
      "[44] \"result.summary.fcc_peak_call.tsv\"                         \n",
      "[45] \"result.summary.genome_tss.tsv\"                            \n",
      "[46] \"umap.annotation.chipseq.tsv\"                              \n"
     ]
    }
   ],
   "source": [
    "txt_fdiry = file.path(\n",
    "    FD_RES, \n",
    "    \"region_annotation\", \n",
    "    \"fcc_astarr_macs_input_overlap\",\n",
    "    \"summary\"\n",
    ")\n",
    "vec = dir(txt_fdiry)\n",
    "print(vec)"
   ]
  },
  {
   "cell_type": "code",
   "execution_count": 3,
   "id": "224bf706-7a65-476d-ae0e-5858af8c1b52",
   "metadata": {},
   "outputs": [
    {
     "data": {
      "text/html": [
       "<style>\n",
       ".list-inline {list-style: none; margin:0; padding: 0}\n",
       ".list-inline>li {display: inline-block}\n",
       ".list-inline>li:not(:last-child)::after {content: \"\\00b7\"; padding: 0 .5ex}\n",
       "</style>\n",
       "<ol class=list-inline><li>'description.tsv'</li><li>'K562.hg38.hic_intact.Loop.tsv'</li><li>'metadata.label.tsv'</li></ol>\n"
      ],
      "text/latex": [
       "\\begin{enumerate*}\n",
       "\\item 'description.tsv'\n",
       "\\item 'K562.hg38.hic\\_intact.Loop.tsv'\n",
       "\\item 'metadata.label.tsv'\n",
       "\\end{enumerate*}\n"
      ],
      "text/markdown": [
       "1. 'description.tsv'\n",
       "2. 'K562.hg38.hic_intact.Loop.tsv'\n",
       "3. 'metadata.label.tsv'\n",
       "\n",
       "\n"
      ],
      "text/plain": [
       "[1] \"description.tsv\"               \"K562.hg38.hic_intact.Loop.tsv\"\n",
       "[3] \"metadata.label.tsv\"           "
      ]
     },
     "metadata": {},
     "output_type": "display_data"
    }
   ],
   "source": [
    "txt_fdiry = file.path(\n",
    "    FD_RES, \n",
    "    \"region\", \n",
    "    \"hic_intact_K562_deep\",\n",
    "    \"summary\"\n",
    ")\n",
    "dir(txt_fdiry)"
   ]
  },
  {
   "cell_type": "markdown",
   "id": "e411e29f-2ec1-4c32-beda-dfb5bfcdf32f",
   "metadata": {},
   "source": [
    "## Import data"
   ]
  },
  {
   "cell_type": "code",
   "execution_count": 4,
   "id": "f2714f56-54f8-434e-a2aa-8a42c5f445a6",
   "metadata": {},
   "outputs": [
    {
     "name": "stdout",
     "output_type": "stream",
     "text": [
      "[1] 128714     17\n"
     ]
    },
    {
     "data": {
      "text/html": [
       "<table>\n",
       " <thead>\n",
       "  <tr>\n",
       "   <th style=\"text-align:left;\"> Chrom_A </th>\n",
       "   <th style=\"text-align:right;\"> ChromStart_A </th>\n",
       "   <th style=\"text-align:right;\"> ChromEnd_A </th>\n",
       "   <th style=\"text-align:left;\"> Region_A </th>\n",
       "   <th style=\"text-align:right;\"> Length_A </th>\n",
       "   <th style=\"text-align:left;\"> Chrom_B </th>\n",
       "   <th style=\"text-align:right;\"> ChromStart_B </th>\n",
       "   <th style=\"text-align:right;\"> ChromEnd_B </th>\n",
       "   <th style=\"text-align:left;\"> Region_B </th>\n",
       "   <th style=\"text-align:right;\"> Length_B </th>\n",
       "   <th style=\"text-align:left;\"> Name </th>\n",
       "   <th style=\"text-align:right;\"> Observed </th>\n",
       "   <th style=\"text-align:right;\"> Centroid_A </th>\n",
       "   <th style=\"text-align:right;\"> Centroid_B </th>\n",
       "   <th style=\"text-align:right;\"> Radius </th>\n",
       "   <th style=\"text-align:right;\"> Distance </th>\n",
       "   <th style=\"text-align:right;\"> Size </th>\n",
       "  </tr>\n",
       " </thead>\n",
       "<tbody>\n",
       "  <tr>\n",
       "   <td style=\"text-align:left;\"> chr1 </td>\n",
       "   <td style=\"text-align:right;\"> 778000 </td>\n",
       "   <td style=\"text-align:right;\"> 779000 </td>\n",
       "   <td style=\"text-align:left;\"> chr1:778000-779000 </td>\n",
       "   <td style=\"text-align:right;\"> 1000 </td>\n",
       "   <td style=\"text-align:left;\"> chr1 </td>\n",
       "   <td style=\"text-align:right;\"> 827000 </td>\n",
       "   <td style=\"text-align:right;\"> 828000 </td>\n",
       "   <td style=\"text-align:left;\"> chr1:827000-828000 </td>\n",
       "   <td style=\"text-align:right;\"> 1000 </td>\n",
       "   <td style=\"text-align:left;\"> chr1:778000-779000|chr1:827000-828000 </td>\n",
       "   <td style=\"text-align:right;\"> 16 </td>\n",
       "   <td style=\"text-align:right;\"> 778500 </td>\n",
       "   <td style=\"text-align:right;\"> 827500 </td>\n",
       "   <td style=\"text-align:right;\"> 0 </td>\n",
       "   <td style=\"text-align:right;\"> 49000 </td>\n",
       "   <td style=\"text-align:right;\"> 1000 </td>\n",
       "  </tr>\n",
       "  <tr>\n",
       "   <td style=\"text-align:left;\"> chr1 </td>\n",
       "   <td style=\"text-align:right;\"> 868000 </td>\n",
       "   <td style=\"text-align:right;\"> 870000 </td>\n",
       "   <td style=\"text-align:left;\"> chr1:868000-870000 </td>\n",
       "   <td style=\"text-align:right;\"> 2000 </td>\n",
       "   <td style=\"text-align:left;\"> chr1 </td>\n",
       "   <td style=\"text-align:right;\"> 1290000 </td>\n",
       "   <td style=\"text-align:right;\"> 1292000 </td>\n",
       "   <td style=\"text-align:left;\"> chr1:1290000-1292000 </td>\n",
       "   <td style=\"text-align:right;\"> 2000 </td>\n",
       "   <td style=\"text-align:left;\"> chr1:868000-870000|chr1:1290000-1292000 </td>\n",
       "   <td style=\"text-align:right;\"> 14 </td>\n",
       "   <td style=\"text-align:right;\"> 869000 </td>\n",
       "   <td style=\"text-align:right;\"> 1291000 </td>\n",
       "   <td style=\"text-align:right;\"> 0 </td>\n",
       "   <td style=\"text-align:right;\"> 422000 </td>\n",
       "   <td style=\"text-align:right;\"> 2000 </td>\n",
       "  </tr>\n",
       "  <tr>\n",
       "   <td style=\"text-align:left;\"> chr1 </td>\n",
       "   <td style=\"text-align:right;\"> 870000 </td>\n",
       "   <td style=\"text-align:right;\"> 872000 </td>\n",
       "   <td style=\"text-align:left;\"> chr1:870000-872000 </td>\n",
       "   <td style=\"text-align:right;\"> 2000 </td>\n",
       "   <td style=\"text-align:left;\"> chr1 </td>\n",
       "   <td style=\"text-align:right;\"> 974000 </td>\n",
       "   <td style=\"text-align:right;\"> 976000 </td>\n",
       "   <td style=\"text-align:left;\"> chr1:974000-976000 </td>\n",
       "   <td style=\"text-align:right;\"> 2000 </td>\n",
       "   <td style=\"text-align:left;\"> chr1:870000-872000|chr1:974000-976000 </td>\n",
       "   <td style=\"text-align:right;\"> 31 </td>\n",
       "   <td style=\"text-align:right;\"> 871000 </td>\n",
       "   <td style=\"text-align:right;\"> 975000 </td>\n",
       "   <td style=\"text-align:right;\"> 0 </td>\n",
       "   <td style=\"text-align:right;\"> 104000 </td>\n",
       "   <td style=\"text-align:right;\"> 2000 </td>\n",
       "  </tr>\n",
       "</tbody>\n",
       "</table>"
      ]
     },
     "metadata": {},
     "output_type": "display_data"
    }
   ],
   "source": [
    "txt_fdiry = file.path(\n",
    "    FD_RES, \n",
    "    \"region\", \n",
    "    \"hic_intact_K562_deep\",\n",
    "    \"summary\"\n",
    ")\n",
    "txt_fname = \"K562.hg38.hic_intact.Loop.tsv\"\n",
    "txt_fpath = file.path(txt_fdiry, txt_fname)\n",
    "\n",
    "dat = read_tsv(txt_fpath, show_col_types = FALSE)\n",
    "dat_region_info_loop = dat\n",
    "print(dim(dat))\n",
    "fun_display_table(head(dat, 3))"
   ]
  },
  {
   "cell_type": "code",
   "execution_count": null,
   "id": "f6e84f07-e3d8-4508-bb62-53cfa0ada39b",
   "metadata": {},
   "outputs": [],
   "source": []
  },
  {
   "cell_type": "code",
   "execution_count": 5,
   "id": "ab47661e-5ffb-417e-8fdf-1520ca3f65a6",
   "metadata": {},
   "outputs": [
    {
     "name": "stdout",
     "output_type": "stream",
     "text": [
      "[1] 227729     14\n"
     ]
    },
    {
     "data": {
      "text/html": [
       "<table>\n",
       " <thead>\n",
       "  <tr>\n",
       "   <th style=\"text-align:left;\"> Chrom_A </th>\n",
       "   <th style=\"text-align:right;\"> ChromStart_A </th>\n",
       "   <th style=\"text-align:right;\"> ChromEnd_A </th>\n",
       "   <th style=\"text-align:left;\"> Chrom_B </th>\n",
       "   <th style=\"text-align:right;\"> ChromStart_B </th>\n",
       "   <th style=\"text-align:right;\"> ChromEnd_B </th>\n",
       "   <th style=\"text-align:left;\"> Name_B </th>\n",
       "   <th style=\"text-align:left;\"> Group_B </th>\n",
       "   <th style=\"text-align:left;\"> Label_B </th>\n",
       "   <th style=\"text-align:right;\"> Overlap </th>\n",
       "   <th style=\"text-align:left;\"> Region_A </th>\n",
       "   <th style=\"text-align:left;\"> Region_B </th>\n",
       "   <th style=\"text-align:left;\"> Annotation_A </th>\n",
       "   <th style=\"text-align:left;\"> Annotation_B </th>\n",
       "  </tr>\n",
       " </thead>\n",
       "<tbody>\n",
       "  <tr>\n",
       "   <td style=\"text-align:left;\"> chr1 </td>\n",
       "   <td style=\"text-align:right;\"> 778233 </td>\n",
       "   <td style=\"text-align:right;\"> 779389 </td>\n",
       "   <td style=\"text-align:left;\"> chr1 </td>\n",
       "   <td style=\"text-align:right;\"> 778000 </td>\n",
       "   <td style=\"text-align:right;\"> 779000 </td>\n",
       "   <td style=\"text-align:left;\"> chr1:778000-779000|chr1:827000-828000 </td>\n",
       "   <td style=\"text-align:left;\"> hic_intact </td>\n",
       "   <td style=\"text-align:left;\"> Loop_A </td>\n",
       "   <td style=\"text-align:right;\"> 767 </td>\n",
       "   <td style=\"text-align:left;\"> chr1:778233-779389 </td>\n",
       "   <td style=\"text-align:left;\"> chr1:778000-779000 </td>\n",
       "   <td style=\"text-align:left;\"> fcc_astarr_macs_input_overlap </td>\n",
       "   <td style=\"text-align:left;\"> hic_intact_Loop_A_deep </td>\n",
       "  </tr>\n",
       "  <tr>\n",
       "   <td style=\"text-align:left;\"> chr1 </td>\n",
       "   <td style=\"text-align:right;\"> 869637 </td>\n",
       "   <td style=\"text-align:right;\"> 870233 </td>\n",
       "   <td style=\"text-align:left;\"> chr1 </td>\n",
       "   <td style=\"text-align:right;\"> 870000 </td>\n",
       "   <td style=\"text-align:right;\"> 872000 </td>\n",
       "   <td style=\"text-align:left;\"> chr1:870000-872000|chr1:974000-976000 </td>\n",
       "   <td style=\"text-align:left;\"> hic_intact </td>\n",
       "   <td style=\"text-align:left;\"> Loop_A </td>\n",
       "   <td style=\"text-align:right;\"> 233 </td>\n",
       "   <td style=\"text-align:left;\"> chr1:869637-870233 </td>\n",
       "   <td style=\"text-align:left;\"> chr1:870000-872000 </td>\n",
       "   <td style=\"text-align:left;\"> fcc_astarr_macs_input_overlap </td>\n",
       "   <td style=\"text-align:left;\"> hic_intact_Loop_A_deep </td>\n",
       "  </tr>\n",
       "  <tr>\n",
       "   <td style=\"text-align:left;\"> chr1 </td>\n",
       "   <td style=\"text-align:right;\"> 869637 </td>\n",
       "   <td style=\"text-align:right;\"> 870233 </td>\n",
       "   <td style=\"text-align:left;\"> chr1 </td>\n",
       "   <td style=\"text-align:right;\"> 870000 </td>\n",
       "   <td style=\"text-align:right;\"> 872000 </td>\n",
       "   <td style=\"text-align:left;\"> chr1:870000-872000|chr1:1062000-1064000 </td>\n",
       "   <td style=\"text-align:left;\"> hic_intact </td>\n",
       "   <td style=\"text-align:left;\"> Loop_A </td>\n",
       "   <td style=\"text-align:right;\"> 233 </td>\n",
       "   <td style=\"text-align:left;\"> chr1:869637-870233 </td>\n",
       "   <td style=\"text-align:left;\"> chr1:870000-872000 </td>\n",
       "   <td style=\"text-align:left;\"> fcc_astarr_macs_input_overlap </td>\n",
       "   <td style=\"text-align:left;\"> hic_intact_Loop_A_deep </td>\n",
       "  </tr>\n",
       "</tbody>\n",
       "</table>"
      ]
     },
     "metadata": {},
     "output_type": "display_data"
    }
   ],
   "source": [
    "txt_fdiry = file.path(\n",
    "    FD_RES, \n",
    "    \"region_annotation\", \n",
    "    \"fcc_astarr_macs_input_overlap\",\n",
    "    \"summary\"\n",
    ")\n",
    "txt_fname = \"region.annotation.hic_intact_K562_deep.tsv\"\n",
    "txt_fpath = file.path(txt_fdiry, txt_fname)\n",
    "\n",
    "dat = read_tsv(txt_fpath, show_col_types = FALSE)\n",
    "dat_region_annot_pair = dat\n",
    "print(dim(dat))\n",
    "fun_display_table(head(dat, 3))"
   ]
  },
  {
   "cell_type": "code",
   "execution_count": 6,
   "id": "9d74d569-668c-40df-ad67-92387969a865",
   "metadata": {},
   "outputs": [
    {
     "name": "stdout",
     "output_type": "stream",
     "text": [
      "[1] 227729     10\n"
     ]
    },
    {
     "data": {
      "text/html": [
       "<table>\n",
       " <thead>\n",
       "  <tr>\n",
       "   <th style=\"text-align:left;\"> Chrom_A </th>\n",
       "   <th style=\"text-align:right;\"> ChromStart_A </th>\n",
       "   <th style=\"text-align:right;\"> ChromEnd_A </th>\n",
       "   <th style=\"text-align:left;\"> Region_A </th>\n",
       "   <th style=\"text-align:left;\"> Annotation_A </th>\n",
       "   <th style=\"text-align:left;\"> Annotation_B </th>\n",
       "   <th style=\"text-align:left;\"> Group_B </th>\n",
       "   <th style=\"text-align:left;\"> Name_B </th>\n",
       "   <th style=\"text-align:left;\"> Label_B </th>\n",
       "   <th style=\"text-align:right;\"> Count </th>\n",
       "  </tr>\n",
       " </thead>\n",
       "<tbody>\n",
       "  <tr>\n",
       "   <td style=\"text-align:left;\"> chr1 </td>\n",
       "   <td style=\"text-align:right;\"> 778233 </td>\n",
       "   <td style=\"text-align:right;\"> 779389 </td>\n",
       "   <td style=\"text-align:left;\"> chr1:778233-779389 </td>\n",
       "   <td style=\"text-align:left;\"> fcc_astarr_macs_input_overlap </td>\n",
       "   <td style=\"text-align:left;\"> hic_intact_Loop_A_deep </td>\n",
       "   <td style=\"text-align:left;\"> hic_intact </td>\n",
       "   <td style=\"text-align:left;\"> chr1:778000-779000|chr1:827000-828000 </td>\n",
       "   <td style=\"text-align:left;\"> Loop_A|Loop_B </td>\n",
       "   <td style=\"text-align:right;\"> 2 </td>\n",
       "  </tr>\n",
       "  <tr>\n",
       "   <td style=\"text-align:left;\"> chr1 </td>\n",
       "   <td style=\"text-align:right;\"> 869637 </td>\n",
       "   <td style=\"text-align:right;\"> 870233 </td>\n",
       "   <td style=\"text-align:left;\"> chr1:869637-870233 </td>\n",
       "   <td style=\"text-align:left;\"> fcc_astarr_macs_input_overlap </td>\n",
       "   <td style=\"text-align:left;\"> hic_intact_Loop_A_deep </td>\n",
       "   <td style=\"text-align:left;\"> hic_intact </td>\n",
       "   <td style=\"text-align:left;\"> chr1:870000-872000|chr1:974000-976000 </td>\n",
       "   <td style=\"text-align:left;\"> Loop_A|Loop_B </td>\n",
       "   <td style=\"text-align:right;\"> 2 </td>\n",
       "  </tr>\n",
       "  <tr>\n",
       "   <td style=\"text-align:left;\"> chr1 </td>\n",
       "   <td style=\"text-align:right;\"> 869637 </td>\n",
       "   <td style=\"text-align:right;\"> 870233 </td>\n",
       "   <td style=\"text-align:left;\"> chr1:869637-870233 </td>\n",
       "   <td style=\"text-align:left;\"> fcc_astarr_macs_input_overlap </td>\n",
       "   <td style=\"text-align:left;\"> hic_intact_Loop_A_deep </td>\n",
       "   <td style=\"text-align:left;\"> hic_intact </td>\n",
       "   <td style=\"text-align:left;\"> chr1:870000-872000|chr1:1062000-1064000 </td>\n",
       "   <td style=\"text-align:left;\"> Loop_A|Loop_B </td>\n",
       "   <td style=\"text-align:right;\"> 3 </td>\n",
       "  </tr>\n",
       "</tbody>\n",
       "</table>"
      ]
     },
     "metadata": {},
     "output_type": "display_data"
    }
   ],
   "source": [
    "txt_fdiry = file.path(\n",
    "    FD_RES, \n",
    "    \"region_annotation\", \n",
    "    \"fcc_astarr_macs_input_overlap\",\n",
    "    \"summary\"\n",
    ")\n",
    "txt_fname = \"region.summary.hic_intact_K562_deep.tsv\"\n",
    "txt_fpath = file.path(txt_fdiry, txt_fname)\n",
    "\n",
    "dat = read_tsv(txt_fpath, show_col_types = FALSE)\n",
    "dat_region_annot_summary = dat\n",
    "print(dim(dat))\n",
    "fun_display_table(head(dat, 3))"
   ]
  },
  {
   "cell_type": "code",
   "execution_count": 7,
   "id": "c1631903-98f2-4b77-b7fc-1d832ff145ce",
   "metadata": {},
   "outputs": [
    {
     "data": {
      "text/plain": [
       "\n",
       "     1      2      3      4      5      6      7      8      9     10 \n",
       " 27582 152528  30852  10356   3945   1626    672    104     54     10 "
      ]
     },
     "metadata": {},
     "output_type": "display_data"
    }
   ],
   "source": [
    "dat = dat_region_annot_summary\n",
    "table(dat$Count)"
   ]
  },
  {
   "cell_type": "code",
   "execution_count": 8,
   "id": "a9436138-3595-4a6f-9384-fa926f7db928",
   "metadata": {},
   "outputs": [
    {
     "name": "stdout",
     "output_type": "stream",
     "text": [
      "[1] 227729\n",
      "[1] 53760\n"
     ]
    }
   ],
   "source": [
    "dat = dat_region_annot_summary\n",
    "vec = dat$Region_A\n",
    "print(length(vec))\n",
    "print(length(unique(vec)))"
   ]
  },
  {
   "cell_type": "markdown",
   "id": "f444b192-ac32-4002-961a-bccaaccc4d05",
   "metadata": {},
   "source": [
    "## Summary"
   ]
  },
  {
   "cell_type": "code",
   "execution_count": 32,
   "id": "4a6fb54c-5149-4e6d-b74f-b8b8a6e642b0",
   "metadata": {},
   "outputs": [
    {
     "data": {
      "text/html": [
       "<table class=\"dataframe\">\n",
       "<caption>A tibble: 6 × 6</caption>\n",
       "<thead>\n",
       "\t<tr><th scope=col>Chrom_A</th><th scope=col>ChromStart_A</th><th scope=col>ChromEnd_A</th><th scope=col>Region_A</th><th scope=col>Region_B</th><th scope=col>Name_B</th></tr>\n",
       "\t<tr><th scope=col>&lt;chr&gt;</th><th scope=col>&lt;dbl&gt;</th><th scope=col>&lt;dbl&gt;</th><th scope=col>&lt;chr&gt;</th><th scope=col>&lt;chr&gt;</th><th scope=col>&lt;chr&gt;</th></tr>\n",
       "</thead>\n",
       "<tbody>\n",
       "\t<tr><td>chr1</td><td>778233</td><td>779389</td><td>chr1:778233-779389</td><td>chr1:778000-779000</td><td>chr1:778000-779000|chr1:827000-828000  </td></tr>\n",
       "\t<tr><td>chr1</td><td>869637</td><td>870233</td><td>chr1:869637-870233</td><td>chr1:870000-872000</td><td>chr1:870000-872000|chr1:974000-976000  </td></tr>\n",
       "\t<tr><td>chr1</td><td>869637</td><td>870233</td><td>chr1:869637-870233</td><td>chr1:870000-872000</td><td>chr1:870000-872000|chr1:1062000-1064000</td></tr>\n",
       "\t<tr><td>chr1</td><td>869637</td><td>870233</td><td>chr1:869637-870233</td><td>chr1:870000-875000</td><td>chr1:870000-875000|chr1:935000-940000  </td></tr>\n",
       "\t<tr><td>chr1</td><td>869637</td><td>870233</td><td>chr1:869637-870233</td><td>chr1:868000-870000</td><td>chr1:868000-870000|chr1:1290000-1292000</td></tr>\n",
       "\t<tr><td>chr1</td><td>903783</td><td>905204</td><td>chr1:903783-905204</td><td>chr1:904000-905000</td><td>chr1:904000-905000|chr1:976000-977000  </td></tr>\n",
       "</tbody>\n",
       "</table>\n"
      ],
      "text/latex": [
       "A tibble: 6 × 6\n",
       "\\begin{tabular}{llllll}\n",
       " Chrom\\_A & ChromStart\\_A & ChromEnd\\_A & Region\\_A & Region\\_B & Name\\_B\\\\\n",
       " <chr> & <dbl> & <dbl> & <chr> & <chr> & <chr>\\\\\n",
       "\\hline\n",
       "\t chr1 & 778233 & 779389 & chr1:778233-779389 & chr1:778000-779000 & chr1:778000-779000\\textbar{}chr1:827000-828000  \\\\\n",
       "\t chr1 & 869637 & 870233 & chr1:869637-870233 & chr1:870000-872000 & chr1:870000-872000\\textbar{}chr1:974000-976000  \\\\\n",
       "\t chr1 & 869637 & 870233 & chr1:869637-870233 & chr1:870000-872000 & chr1:870000-872000\\textbar{}chr1:1062000-1064000\\\\\n",
       "\t chr1 & 869637 & 870233 & chr1:869637-870233 & chr1:870000-875000 & chr1:870000-875000\\textbar{}chr1:935000-940000  \\\\\n",
       "\t chr1 & 869637 & 870233 & chr1:869637-870233 & chr1:868000-870000 & chr1:868000-870000\\textbar{}chr1:1290000-1292000\\\\\n",
       "\t chr1 & 903783 & 905204 & chr1:903783-905204 & chr1:904000-905000 & chr1:904000-905000\\textbar{}chr1:976000-977000  \\\\\n",
       "\\end{tabular}\n"
      ],
      "text/markdown": [
       "\n",
       "A tibble: 6 × 6\n",
       "\n",
       "| Chrom_A &lt;chr&gt; | ChromStart_A &lt;dbl&gt; | ChromEnd_A &lt;dbl&gt; | Region_A &lt;chr&gt; | Region_B &lt;chr&gt; | Name_B &lt;chr&gt; |\n",
       "|---|---|---|---|---|---|\n",
       "| chr1 | 778233 | 779389 | chr1:778233-779389 | chr1:778000-779000 | chr1:778000-779000|chr1:827000-828000   |\n",
       "| chr1 | 869637 | 870233 | chr1:869637-870233 | chr1:870000-872000 | chr1:870000-872000|chr1:974000-976000   |\n",
       "| chr1 | 869637 | 870233 | chr1:869637-870233 | chr1:870000-872000 | chr1:870000-872000|chr1:1062000-1064000 |\n",
       "| chr1 | 869637 | 870233 | chr1:869637-870233 | chr1:870000-875000 | chr1:870000-875000|chr1:935000-940000   |\n",
       "| chr1 | 869637 | 870233 | chr1:869637-870233 | chr1:868000-870000 | chr1:868000-870000|chr1:1290000-1292000 |\n",
       "| chr1 | 903783 | 905204 | chr1:903783-905204 | chr1:904000-905000 | chr1:904000-905000|chr1:976000-977000   |\n",
       "\n"
      ],
      "text/plain": [
       "  Chrom_A ChromStart_A ChromEnd_A Region_A           Region_B          \n",
       "1 chr1    778233       779389     chr1:778233-779389 chr1:778000-779000\n",
       "2 chr1    869637       870233     chr1:869637-870233 chr1:870000-872000\n",
       "3 chr1    869637       870233     chr1:869637-870233 chr1:870000-872000\n",
       "4 chr1    869637       870233     chr1:869637-870233 chr1:870000-875000\n",
       "5 chr1    869637       870233     chr1:869637-870233 chr1:868000-870000\n",
       "6 chr1    903783       905204     chr1:903783-905204 chr1:904000-905000\n",
       "  Name_B                                 \n",
       "1 chr1:778000-779000|chr1:827000-828000  \n",
       "2 chr1:870000-872000|chr1:974000-976000  \n",
       "3 chr1:870000-872000|chr1:1062000-1064000\n",
       "4 chr1:870000-875000|chr1:935000-940000  \n",
       "5 chr1:868000-870000|chr1:1290000-1292000\n",
       "6 chr1:904000-905000|chr1:976000-977000  "
      ]
     },
     "metadata": {},
     "output_type": "display_data"
    }
   ],
   "source": [
    "dat = dat_region_annot_pair\n",
    "dat = dat %>%\n",
    "    dplyr::select(Chrom_A, ChromStart_A, ChromEnd_A, Region_A, Region_B, Name_B) %>%\n",
    "    dplyr::distinct()\n",
    "head(dat)"
   ]
  },
  {
   "cell_type": "code",
   "execution_count": 35,
   "id": "41024fa0-9552-40a3-a8f5-db6b8b795219",
   "metadata": {},
   "outputs": [
    {
     "name": "stdout",
     "output_type": "stream",
     "text": [
      "[1] 10  6\n"
     ]
    },
    {
     "data": {
      "text/html": [
       "<table class=\"dataframe\">\n",
       "<caption>A tibble: 10 × 6</caption>\n",
       "<thead>\n",
       "\t<tr><th scope=col>Chrom_A</th><th scope=col>ChromStart_A</th><th scope=col>ChromEnd_A</th><th scope=col>Region_A</th><th scope=col>Region_B</th><th scope=col>Name_B</th></tr>\n",
       "\t<tr><th scope=col>&lt;chr&gt;</th><th scope=col>&lt;dbl&gt;</th><th scope=col>&lt;dbl&gt;</th><th scope=col>&lt;chr&gt;</th><th scope=col>&lt;chr&gt;</th><th scope=col>&lt;chr&gt;</th></tr>\n",
       "</thead>\n",
       "<tbody>\n",
       "\t<tr><td>chr6</td><td>32868110</td><td>32868461</td><td>chr6:32868110-32868461</td><td>chr6:32868000-32869000</td><td>chr6:32868000-32869000|chr6:32984000-32985000</td></tr>\n",
       "\t<tr><td>chr6</td><td>32868110</td><td>32868461</td><td>chr6:32868110-32868461</td><td>chr6:32868000-32869000</td><td>chr6:32413000-32414000|chr6:32868000-32869000</td></tr>\n",
       "\t<tr><td>chr6</td><td>32868110</td><td>32868461</td><td>chr6:32868110-32868461</td><td>chr6:32868000-32869000</td><td>chr6:32786000-32787000|chr6:32868000-32869000</td></tr>\n",
       "\t<tr><td>chr6</td><td>32868110</td><td>32868461</td><td>chr6:32868110-32868461</td><td>chr6:32868000-32869000</td><td>chr6:32700000-32701000|chr6:32868000-32869000</td></tr>\n",
       "\t<tr><td>chr6</td><td>32868110</td><td>32868461</td><td>chr6:32868110-32868461</td><td>chr6:32868000-32869000</td><td>chr6:32797000-32798000|chr6:32868000-32869000</td></tr>\n",
       "\t<tr><td>chr6</td><td>32868110</td><td>32868461</td><td>chr6:32868110-32868461</td><td>chr6:32868000-32869000</td><td>chr6:32838000-32839000|chr6:32868000-32869000</td></tr>\n",
       "\t<tr><td>chr6</td><td>32868110</td><td>32868461</td><td>chr6:32868110-32868461</td><td>chr6:32868000-32869000</td><td>chr6:32826000-32827000|chr6:32868000-32869000</td></tr>\n",
       "\t<tr><td>chr6</td><td>32868110</td><td>32868461</td><td>chr6:32868110-32868461</td><td>chr6:32868000-32869000</td><td>chr6:32432000-32433000|chr6:32868000-32869000</td></tr>\n",
       "\t<tr><td>chr6</td><td>32868110</td><td>32868461</td><td>chr6:32868110-32868461</td><td>chr6:32868000-32869000</td><td>chr6:32844000-32845000|chr6:32868000-32869000</td></tr>\n",
       "\t<tr><td>chr6</td><td>32868110</td><td>32868461</td><td>chr6:32868110-32868461</td><td>chr6:32868000-32870000</td><td>chr6:32244000-32246000|chr6:32868000-32870000</td></tr>\n",
       "</tbody>\n",
       "</table>\n"
      ],
      "text/latex": [
       "A tibble: 10 × 6\n",
       "\\begin{tabular}{llllll}\n",
       " Chrom\\_A & ChromStart\\_A & ChromEnd\\_A & Region\\_A & Region\\_B & Name\\_B\\\\\n",
       " <chr> & <dbl> & <dbl> & <chr> & <chr> & <chr>\\\\\n",
       "\\hline\n",
       "\t chr6 & 32868110 & 32868461 & chr6:32868110-32868461 & chr6:32868000-32869000 & chr6:32868000-32869000\\textbar{}chr6:32984000-32985000\\\\\n",
       "\t chr6 & 32868110 & 32868461 & chr6:32868110-32868461 & chr6:32868000-32869000 & chr6:32413000-32414000\\textbar{}chr6:32868000-32869000\\\\\n",
       "\t chr6 & 32868110 & 32868461 & chr6:32868110-32868461 & chr6:32868000-32869000 & chr6:32786000-32787000\\textbar{}chr6:32868000-32869000\\\\\n",
       "\t chr6 & 32868110 & 32868461 & chr6:32868110-32868461 & chr6:32868000-32869000 & chr6:32700000-32701000\\textbar{}chr6:32868000-32869000\\\\\n",
       "\t chr6 & 32868110 & 32868461 & chr6:32868110-32868461 & chr6:32868000-32869000 & chr6:32797000-32798000\\textbar{}chr6:32868000-32869000\\\\\n",
       "\t chr6 & 32868110 & 32868461 & chr6:32868110-32868461 & chr6:32868000-32869000 & chr6:32838000-32839000\\textbar{}chr6:32868000-32869000\\\\\n",
       "\t chr6 & 32868110 & 32868461 & chr6:32868110-32868461 & chr6:32868000-32869000 & chr6:32826000-32827000\\textbar{}chr6:32868000-32869000\\\\\n",
       "\t chr6 & 32868110 & 32868461 & chr6:32868110-32868461 & chr6:32868000-32869000 & chr6:32432000-32433000\\textbar{}chr6:32868000-32869000\\\\\n",
       "\t chr6 & 32868110 & 32868461 & chr6:32868110-32868461 & chr6:32868000-32869000 & chr6:32844000-32845000\\textbar{}chr6:32868000-32869000\\\\\n",
       "\t chr6 & 32868110 & 32868461 & chr6:32868110-32868461 & chr6:32868000-32870000 & chr6:32244000-32246000\\textbar{}chr6:32868000-32870000\\\\\n",
       "\\end{tabular}\n"
      ],
      "text/markdown": [
       "\n",
       "A tibble: 10 × 6\n",
       "\n",
       "| Chrom_A &lt;chr&gt; | ChromStart_A &lt;dbl&gt; | ChromEnd_A &lt;dbl&gt; | Region_A &lt;chr&gt; | Region_B &lt;chr&gt; | Name_B &lt;chr&gt; |\n",
       "|---|---|---|---|---|---|\n",
       "| chr6 | 32868110 | 32868461 | chr6:32868110-32868461 | chr6:32868000-32869000 | chr6:32868000-32869000|chr6:32984000-32985000 |\n",
       "| chr6 | 32868110 | 32868461 | chr6:32868110-32868461 | chr6:32868000-32869000 | chr6:32413000-32414000|chr6:32868000-32869000 |\n",
       "| chr6 | 32868110 | 32868461 | chr6:32868110-32868461 | chr6:32868000-32869000 | chr6:32786000-32787000|chr6:32868000-32869000 |\n",
       "| chr6 | 32868110 | 32868461 | chr6:32868110-32868461 | chr6:32868000-32869000 | chr6:32700000-32701000|chr6:32868000-32869000 |\n",
       "| chr6 | 32868110 | 32868461 | chr6:32868110-32868461 | chr6:32868000-32869000 | chr6:32797000-32798000|chr6:32868000-32869000 |\n",
       "| chr6 | 32868110 | 32868461 | chr6:32868110-32868461 | chr6:32868000-32869000 | chr6:32838000-32839000|chr6:32868000-32869000 |\n",
       "| chr6 | 32868110 | 32868461 | chr6:32868110-32868461 | chr6:32868000-32869000 | chr6:32826000-32827000|chr6:32868000-32869000 |\n",
       "| chr6 | 32868110 | 32868461 | chr6:32868110-32868461 | chr6:32868000-32869000 | chr6:32432000-32433000|chr6:32868000-32869000 |\n",
       "| chr6 | 32868110 | 32868461 | chr6:32868110-32868461 | chr6:32868000-32869000 | chr6:32844000-32845000|chr6:32868000-32869000 |\n",
       "| chr6 | 32868110 | 32868461 | chr6:32868110-32868461 | chr6:32868000-32870000 | chr6:32244000-32246000|chr6:32868000-32870000 |\n",
       "\n"
      ],
      "text/plain": [
       "   Chrom_A ChromStart_A ChromEnd_A Region_A              \n",
       "1  chr6    32868110     32868461   chr6:32868110-32868461\n",
       "2  chr6    32868110     32868461   chr6:32868110-32868461\n",
       "3  chr6    32868110     32868461   chr6:32868110-32868461\n",
       "4  chr6    32868110     32868461   chr6:32868110-32868461\n",
       "5  chr6    32868110     32868461   chr6:32868110-32868461\n",
       "6  chr6    32868110     32868461   chr6:32868110-32868461\n",
       "7  chr6    32868110     32868461   chr6:32868110-32868461\n",
       "8  chr6    32868110     32868461   chr6:32868110-32868461\n",
       "9  chr6    32868110     32868461   chr6:32868110-32868461\n",
       "10 chr6    32868110     32868461   chr6:32868110-32868461\n",
       "   Region_B               Name_B                                       \n",
       "1  chr6:32868000-32869000 chr6:32868000-32869000|chr6:32984000-32985000\n",
       "2  chr6:32868000-32869000 chr6:32413000-32414000|chr6:32868000-32869000\n",
       "3  chr6:32868000-32869000 chr6:32786000-32787000|chr6:32868000-32869000\n",
       "4  chr6:32868000-32869000 chr6:32700000-32701000|chr6:32868000-32869000\n",
       "5  chr6:32868000-32869000 chr6:32797000-32798000|chr6:32868000-32869000\n",
       "6  chr6:32868000-32869000 chr6:32838000-32839000|chr6:32868000-32869000\n",
       "7  chr6:32868000-32869000 chr6:32826000-32827000|chr6:32868000-32869000\n",
       "8  chr6:32868000-32869000 chr6:32432000-32433000|chr6:32868000-32869000\n",
       "9  chr6:32868000-32869000 chr6:32844000-32845000|chr6:32868000-32869000\n",
       "10 chr6:32868000-32870000 chr6:32244000-32246000|chr6:32868000-32870000"
      ]
     },
     "metadata": {},
     "output_type": "display_data"
    }
   ],
   "source": [
    "dat = dat_region_annot_pair\n",
    "dat = dat %>%\n",
    "    dplyr::select(Chrom_A, ChromStart_A, ChromEnd_A, Region_A, Region_B, Name_B) %>%\n",
    "    dplyr::distinct() %>%\n",
    "    dplyr::filter(Region_A == \"chr6:32868110-32868461\")\n",
    "\n",
    "print(dim(dat))\n",
    "dat"
   ]
  },
  {
   "cell_type": "code",
   "execution_count": 36,
   "id": "b79d6da6-c89e-4cb6-9d06-355d9b9ea5e9",
   "metadata": {},
   "outputs": [
    {
     "name": "stdout",
     "output_type": "stream",
     "text": [
      "[1] 53760     6\n"
     ]
    },
    {
     "data": {
      "text/html": [
       "<table>\n",
       " <thead>\n",
       "  <tr>\n",
       "   <th style=\"text-align:left;\"> Chrom </th>\n",
       "   <th style=\"text-align:right;\"> ChromStart </th>\n",
       "   <th style=\"text-align:right;\"> ChromEnd </th>\n",
       "   <th style=\"text-align:left;\"> Region </th>\n",
       "   <th style=\"text-align:right;\"> Count </th>\n",
       "   <th style=\"text-align:left;\"> Label </th>\n",
       "  </tr>\n",
       " </thead>\n",
       "<tbody>\n",
       "  <tr>\n",
       "   <td style=\"text-align:left;\"> chr1 </td>\n",
       "   <td style=\"text-align:right;\"> 778233 </td>\n",
       "   <td style=\"text-align:right;\"> 779389 </td>\n",
       "   <td style=\"text-align:left;\"> chr1:778233-779389 </td>\n",
       "   <td style=\"text-align:right;\"> 1 </td>\n",
       "   <td style=\"text-align:left;\"> #Loop == 1 </td>\n",
       "  </tr>\n",
       "  <tr>\n",
       "   <td style=\"text-align:left;\"> chr1 </td>\n",
       "   <td style=\"text-align:right;\"> 826796 </td>\n",
       "   <td style=\"text-align:right;\"> 828040 </td>\n",
       "   <td style=\"text-align:left;\"> chr1:826796-828040 </td>\n",
       "   <td style=\"text-align:right;\"> 1 </td>\n",
       "   <td style=\"text-align:left;\"> #Loop == 1 </td>\n",
       "  </tr>\n",
       "  <tr>\n",
       "   <td style=\"text-align:left;\"> chr1 </td>\n",
       "   <td style=\"text-align:right;\"> 869637 </td>\n",
       "   <td style=\"text-align:right;\"> 870233 </td>\n",
       "   <td style=\"text-align:left;\"> chr1:869637-870233 </td>\n",
       "   <td style=\"text-align:right;\"> 4 </td>\n",
       "   <td style=\"text-align:left;\"> #Loop == 4 </td>\n",
       "  </tr>\n",
       "</tbody>\n",
       "</table>"
      ]
     },
     "metadata": {},
     "output_type": "display_data"
    }
   ],
   "source": [
    "dat = dat_region_annot_pair\n",
    "dat = dat %>%\n",
    "    #dplyr::select(Chrom_A, ChromStart_A, ChromEnd_A, Region_A, Annotation_A, Annotation_B, Region_B) %>%\n",
    "    dplyr::select(Chrom_A, ChromStart_A, ChromEnd_A, Region_A, Name_B) %>%\n",
    "    dplyr::distinct() %>%\n",
    "    dplyr::group_by(Chrom_A, ChromStart_A, ChromEnd_A, Region_A) %>%\n",
    "    dplyr::summarise(Count = n(), .groups=\"drop\") %>%\n",
    "    dplyr::mutate(Label = paste(\"#Loop ==\", Count))\n",
    "\n",
    "colnames(dat)[1:4] = c(\"Chrom\", \"ChromStart\", \"ChromEnd\", \"Region\")\n",
    "\n",
    "### Assign and show\n",
    "dat_region_annot_label = dat\n",
    "#cat(\"Annotation:\", unique(dat$Annotation_A), unique(dat$Annotation_B), \"\\n\")\n",
    "print(dim(dat))\n",
    "fun_display_table(head(dat, 3))"
   ]
  },
  {
   "cell_type": "code",
   "execution_count": 27,
   "id": "070e83f3-956d-4ba4-b8a0-75e346c5c23e",
   "metadata": {},
   "outputs": [
    {
     "data": {
      "text/plain": [
       "\n",
       "    1     2     3     4     5     6     7     8     9    10    11    12    13 \n",
       "15471  8104  5939  4710  4029  3342  2877  2359  1865  1335  1066   793   558 \n",
       "   14    15    16    17    18    19    20    21    22    23    24    25    26 \n",
       "  371   286   187   161    78    59    47    46    19    11    17     7     7 \n",
       "   27    28    29    31    32    33 \n",
       "    5     1     2     4     3     1 "
      ]
     },
     "metadata": {},
     "output_type": "display_data"
    }
   ],
   "source": [
    "dat = dat_region_annot_label\n",
    "table(dat$Count)"
   ]
  },
  {
   "cell_type": "code",
   "execution_count": 28,
   "id": "f9b257ec-2c7e-44ff-b95c-b9b1f8a97328",
   "metadata": {},
   "outputs": [
    {
     "data": {
      "text/plain": [
       "\n",
       "    1     2     3     4     5     6     7     8     9    10    11    12    13 \n",
       "15471  8104  5939  4710  4029  3342  2877  2359  1865  1335  1066   793   558 \n",
       "   14    15    16    17    18    19    20    21    22    23    24    25    26 \n",
       "  371   286   187   161    78    59    47    46    19    11    17     7     7 \n",
       "   27    28    29    31    32    33 \n",
       "    5     1     2     4     3     1 "
      ]
     },
     "metadata": {},
     "output_type": "display_data"
    }
   ],
   "source": [
    "dat = dat_region_annot_label\n",
    "table(dat$Count)"
   ]
  },
  {
   "cell_type": "code",
   "execution_count": 29,
   "id": "5f222148-489e-4a0c-b568-f4f5c0e07b59",
   "metadata": {},
   "outputs": [
    {
     "data": {
      "text/html": [
       "<table class=\"dataframe\">\n",
       "<caption>A tibble: 1 × 6</caption>\n",
       "<thead>\n",
       "\t<tr><th scope=col>Chrom</th><th scope=col>ChromStart</th><th scope=col>ChromEnd</th><th scope=col>Region</th><th scope=col>Count</th><th scope=col>Label</th></tr>\n",
       "\t<tr><th scope=col>&lt;chr&gt;</th><th scope=col>&lt;dbl&gt;</th><th scope=col>&lt;dbl&gt;</th><th scope=col>&lt;chr&gt;</th><th scope=col>&lt;int&gt;</th><th scope=col>&lt;chr&gt;</th></tr>\n",
       "</thead>\n",
       "<tbody>\n",
       "\t<tr><td>chr6</td><td>32868110</td><td>32868461</td><td>chr6:32868110-32868461</td><td>10</td><td>#Loop == 10</td></tr>\n",
       "</tbody>\n",
       "</table>\n"
      ],
      "text/latex": [
       "A tibble: 1 × 6\n",
       "\\begin{tabular}{llllll}\n",
       " Chrom & ChromStart & ChromEnd & Region & Count & Label\\\\\n",
       " <chr> & <dbl> & <dbl> & <chr> & <int> & <chr>\\\\\n",
       "\\hline\n",
       "\t chr6 & 32868110 & 32868461 & chr6:32868110-32868461 & 10 & \\#Loop == 10\\\\\n",
       "\\end{tabular}\n"
      ],
      "text/markdown": [
       "\n",
       "A tibble: 1 × 6\n",
       "\n",
       "| Chrom &lt;chr&gt; | ChromStart &lt;dbl&gt; | ChromEnd &lt;dbl&gt; | Region &lt;chr&gt; | Count &lt;int&gt; | Label &lt;chr&gt; |\n",
       "|---|---|---|---|---|---|\n",
       "| chr6 | 32868110 | 32868461 | chr6:32868110-32868461 | 10 | #Loop == 10 |\n",
       "\n"
      ],
      "text/plain": [
       "  Chrom ChromStart ChromEnd Region                 Count Label      \n",
       "1 chr6  32868110   32868461 chr6:32868110-32868461 10    #Loop == 10"
      ]
     },
     "metadata": {},
     "output_type": "display_data"
    }
   ],
   "source": [
    "dat = dat_region_annot_label\n",
    "dat %>% dplyr::filter(Region == \"chr6:32868110-32868461\")"
   ]
  },
  {
   "cell_type": "code",
   "execution_count": 38,
   "id": "9520fa06-c2d9-433d-9924-659ca2b6d133",
   "metadata": {},
   "outputs": [
    {
     "data": {
      "text/html": [
       "<table class=\"dataframe\">\n",
       "<caption>A tibble: 1 × 6</caption>\n",
       "<thead>\n",
       "\t<tr><th scope=col>Chrom</th><th scope=col>ChromStart</th><th scope=col>ChromEnd</th><th scope=col>Region</th><th scope=col>Count</th><th scope=col>Label</th></tr>\n",
       "\t<tr><th scope=col>&lt;chr&gt;</th><th scope=col>&lt;dbl&gt;</th><th scope=col>&lt;dbl&gt;</th><th scope=col>&lt;chr&gt;</th><th scope=col>&lt;int&gt;</th><th scope=col>&lt;chr&gt;</th></tr>\n",
       "</thead>\n",
       "<tbody>\n",
       "\t<tr><td>chr8</td><td>127760255</td><td>127761321</td><td>chr8:127760255-127761321</td><td>1</td><td>#Loop == 1</td></tr>\n",
       "</tbody>\n",
       "</table>\n"
      ],
      "text/latex": [
       "A tibble: 1 × 6\n",
       "\\begin{tabular}{llllll}\n",
       " Chrom & ChromStart & ChromEnd & Region & Count & Label\\\\\n",
       " <chr> & <dbl> & <dbl> & <chr> & <int> & <chr>\\\\\n",
       "\\hline\n",
       "\t chr8 & 127760255 & 127761321 & chr8:127760255-127761321 & 1 & \\#Loop == 1\\\\\n",
       "\\end{tabular}\n"
      ],
      "text/markdown": [
       "\n",
       "A tibble: 1 × 6\n",
       "\n",
       "| Chrom &lt;chr&gt; | ChromStart &lt;dbl&gt; | ChromEnd &lt;dbl&gt; | Region &lt;chr&gt; | Count &lt;int&gt; | Label &lt;chr&gt; |\n",
       "|---|---|---|---|---|---|\n",
       "| chr8 | 127760255 | 127761321 | chr8:127760255-127761321 | 1 | #Loop == 1 |\n",
       "\n"
      ],
      "text/plain": [
       "  Chrom ChromStart ChromEnd  Region                   Count Label     \n",
       "1 chr8  127760255  127761321 chr8:127760255-127761321 1     #Loop == 1"
      ]
     },
     "metadata": {},
     "output_type": "display_data"
    }
   ],
   "source": [
    "dat = dat_region_annot_label\n",
    "dat %>% dplyr::filter(Region == \"chr8:127760255-127761321\")"
   ]
  },
  {
   "cell_type": "code",
   "execution_count": 39,
   "id": "2771f701-f994-4b34-acf6-b6d558a08470",
   "metadata": {},
   "outputs": [
    {
     "data": {
      "text/html": [
       "<table class=\"dataframe\">\n",
       "<caption>A tibble: 1 × 6</caption>\n",
       "<thead>\n",
       "\t<tr><th scope=col>Chrom</th><th scope=col>ChromStart</th><th scope=col>ChromEnd</th><th scope=col>Region</th><th scope=col>Count</th><th scope=col>Label</th></tr>\n",
       "\t<tr><th scope=col>&lt;chr&gt;</th><th scope=col>&lt;dbl&gt;</th><th scope=col>&lt;dbl&gt;</th><th scope=col>&lt;chr&gt;</th><th scope=col>&lt;int&gt;</th><th scope=col>&lt;chr&gt;</th></tr>\n",
       "</thead>\n",
       "<tbody>\n",
       "\t<tr><td>chr8</td><td>127741717</td><td>127742618</td><td>chr8:127741717-127742618</td><td>3</td><td>#Loop == 3</td></tr>\n",
       "</tbody>\n",
       "</table>\n"
      ],
      "text/latex": [
       "A tibble: 1 × 6\n",
       "\\begin{tabular}{llllll}\n",
       " Chrom & ChromStart & ChromEnd & Region & Count & Label\\\\\n",
       " <chr> & <dbl> & <dbl> & <chr> & <int> & <chr>\\\\\n",
       "\\hline\n",
       "\t chr8 & 127741717 & 127742618 & chr8:127741717-127742618 & 3 & \\#Loop == 3\\\\\n",
       "\\end{tabular}\n"
      ],
      "text/markdown": [
       "\n",
       "A tibble: 1 × 6\n",
       "\n",
       "| Chrom &lt;chr&gt; | ChromStart &lt;dbl&gt; | ChromEnd &lt;dbl&gt; | Region &lt;chr&gt; | Count &lt;int&gt; | Label &lt;chr&gt; |\n",
       "|---|---|---|---|---|---|\n",
       "| chr8 | 127741717 | 127742618 | chr8:127741717-127742618 | 3 | #Loop == 3 |\n",
       "\n"
      ],
      "text/plain": [
       "  Chrom ChromStart ChromEnd  Region                   Count Label     \n",
       "1 chr8  127741717  127742618 chr8:127741717-127742618 3     #Loop == 3"
      ]
     },
     "metadata": {},
     "output_type": "display_data"
    }
   ],
   "source": [
    "dat = dat_region_annot_label\n",
    "dat %>% dplyr::filter(Region == \"chr8:127741717-127742618\")"
   ]
  },
  {
   "cell_type": "code",
   "execution_count": null,
   "id": "63b74992-3633-440e-ba3d-c429610acdbf",
   "metadata": {},
   "outputs": [],
   "source": []
  },
  {
   "cell_type": "markdown",
   "id": "0ced8150-fb74-48e3-88d2-716618928c85",
   "metadata": {},
   "source": [
    "## Save results"
   ]
  },
  {
   "cell_type": "code",
   "execution_count": 40,
   "id": "0fab89dd-e91d-4daa-b086-1b3766bbd513",
   "metadata": {},
   "outputs": [],
   "source": [
    "txt_fdiry = file.path(\n",
    "    FD_RES, \n",
    "    \"region_annotation\", \n",
    "    \"fcc_astarr_macs_input_overlap\",\n",
    "    \"summary\"\n",
    ")\n",
    "txt_fname = \"result.summary.connectivity.loop.tsv\"\n",
    "txt_fpath = file.path(txt_fdiry, txt_fname)\n",
    "\n",
    "dat = dat_region_annot_label\n",
    "write_tsv(dat, txt_fpath)"
   ]
  },
  {
   "cell_type": "code",
   "execution_count": null,
   "id": "3759f9ce-737c-4c7d-aec6-2e2a904b5171",
   "metadata": {},
   "outputs": [],
   "source": []
  },
  {
   "cell_type": "code",
   "execution_count": null,
   "id": "ebe3bb7e-70e6-45ce-b858-8602d484fae0",
   "metadata": {},
   "outputs": [],
   "source": []
  },
  {
   "cell_type": "code",
   "execution_count": null,
   "id": "21112fa7-2551-4fa5-837e-ae8af78ceb94",
   "metadata": {},
   "outputs": [],
   "source": []
  },
  {
   "cell_type": "code",
   "execution_count": 10,
   "id": "a90f4198-3bfc-46bf-bf52-72e9142aec0e",
   "metadata": {},
   "outputs": [
    {
     "name": "stdout",
     "output_type": "stream",
     "text": [
      "[1] 227729\n",
      "[1] 53760\n"
     ]
    }
   ],
   "source": [
    "dat = dat_region_annot_pair\n",
    "vec = dat$Region_A\n",
    "print(length(vec))\n",
    "print(length(unique(vec)))"
   ]
  },
  {
   "cell_type": "code",
   "execution_count": 11,
   "id": "b9ea77d2-21d5-4d95-b02e-5b1b62750dd7",
   "metadata": {},
   "outputs": [],
   "source": [
    "vec1 = 1:20\n",
    "vec2 = c(\"#Loop == 1\", \"#Loop == 2\", \"#Loop == 3\", rep(\"#Loop > 3\", 17))\n",
    "fun = function(txt){\n",
    "    res = fun_str_map_match(txt, vec1, vec2)\n",
    "    return(res)\n",
    "}"
   ]
  },
  {
   "cell_type": "code",
   "execution_count": 12,
   "id": "67d95229-e6e7-49ff-bdbc-c69a92b3fc57",
   "metadata": {},
   "outputs": [
    {
     "name": "stdout",
     "output_type": "stream",
     "text": [
      "[1] 53760     4\n"
     ]
    },
    {
     "data": {
      "text/html": [
       "<table>\n",
       " <thead>\n",
       "  <tr>\n",
       "   <th style=\"text-align:left;\"> Region_A </th>\n",
       "   <th style=\"text-align:right;\"> Count </th>\n",
       "   <th style=\"text-align:left;\"> Label </th>\n",
       "   <th style=\"text-align:left;\"> Label2 </th>\n",
       "  </tr>\n",
       " </thead>\n",
       "<tbody>\n",
       "  <tr>\n",
       "   <td style=\"text-align:left;\"> chr10:100009244-100010395 </td>\n",
       "   <td style=\"text-align:right;\"> 3 </td>\n",
       "   <td style=\"text-align:left;\"> #Loop == 3 </td>\n",
       "   <td style=\"text-align:left;\"> #Loop == 3 </td>\n",
       "  </tr>\n",
       "  <tr>\n",
       "   <td style=\"text-align:left;\"> chr10:100046000-100046575 </td>\n",
       "   <td style=\"text-align:right;\"> 4 </td>\n",
       "   <td style=\"text-align:left;\"> #Loop == 4 </td>\n",
       "   <td style=\"text-align:left;\"> #Loop &gt; 3 </td>\n",
       "  </tr>\n",
       "  <tr>\n",
       "   <td style=\"text-align:left;\"> chr10:100185030-100186618 </td>\n",
       "   <td style=\"text-align:right;\"> 3 </td>\n",
       "   <td style=\"text-align:left;\"> #Loop == 3 </td>\n",
       "   <td style=\"text-align:left;\"> #Loop == 3 </td>\n",
       "  </tr>\n",
       "</tbody>\n",
       "</table>"
      ]
     },
     "metadata": {},
     "output_type": "display_data"
    }
   ],
   "source": [
    "dat = dat_region_annot_pair\n",
    "dat = dat %>%\n",
    "    dplyr::select(Region_A, Region_B) %>%\n",
    "    dplyr::distinct() %>%\n",
    "    dplyr::group_by(Region_A) %>%\n",
    "    dplyr::summarise(Count = n(), .groups=\"drop\") %>%\n",
    "    dplyr::mutate(\n",
    "        Label  = paste(\"#Loop ==\", Count),\n",
    "        Label2 = fun(Count))\n",
    "\n",
    "dat_region_annot_label = dat\n",
    "print(dim(dat))\n",
    "fun_display_table(head(dat, 3))"
   ]
  },
  {
   "cell_type": "code",
   "execution_count": 13,
   "id": "be426ed0-c045-4116-af8e-dc8e2694ce5e",
   "metadata": {},
   "outputs": [
    {
     "data": {
      "text/plain": [
       "\n",
       "    1     2     3     4     5     6     7     8     9 \n",
       "23728 15329  9874  3688   907   198    27     8     1 "
      ]
     },
     "metadata": {},
     "output_type": "display_data"
    }
   ],
   "source": [
    "dat = dat_region_annot_label\n",
    "table(dat$Count)"
   ]
  },
  {
   "cell_type": "code",
   "execution_count": 36,
   "id": "b0d5097d-8768-4d88-b40b-de6d09a0c7fd",
   "metadata": {},
   "outputs": [
    {
     "data": {
      "text/plain": [
       "\n",
       "#Loop == 1 #Loop == 2 #Loop == 3  #Loop > 3 \n",
       "     23728      15329       9874       4829 "
      ]
     },
     "metadata": {},
     "output_type": "display_data"
    }
   ],
   "source": [
    "table(tmp$Label)"
   ]
  },
  {
   "cell_type": "code",
   "execution_count": null,
   "id": "76c8e18a-f7a6-414d-a289-4d25cae5623d",
   "metadata": {},
   "outputs": [],
   "source": []
  }
 ],
 "metadata": {
  "kernelspec": {
   "display_name": "R",
   "language": "R",
   "name": "ir"
  },
  "language_info": {
   "codemirror_mode": "r",
   "file_extension": ".r",
   "mimetype": "text/x-r-source",
   "name": "R",
   "pygments_lexer": "r",
   "version": "4.4.0"
  }
 },
 "nbformat": 4,
 "nbformat_minor": 5
}
