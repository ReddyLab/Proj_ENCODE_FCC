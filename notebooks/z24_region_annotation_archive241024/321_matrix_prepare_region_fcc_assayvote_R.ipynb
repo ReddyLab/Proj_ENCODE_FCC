{
 "cells": [
  {
   "cell_type": "raw",
   "id": "bae4150b-3989-4dea-b96d-7f6117be06b7",
   "metadata": {},
   "source": [
    "---\n",
    "title: FCC Peak calls\n",
    "subtitle: export annotation\n",
    "format:\n",
    "    html:\n",
    "        code-fold:  true\n",
    "        code-tools: true\n",
    "---"
   ]
  },
  {
   "cell_type": "markdown",
   "id": "a47b1ba1-23b5-4a83-921d-7bda2e0924b3",
   "metadata": {},
   "source": [
    "**Set environment**"
   ]
  },
  {
   "cell_type": "code",
   "execution_count": 1,
   "id": "5828cced-07d1-467e-9058-b82dc4a79e2d",
   "metadata": {
    "tags": []
   },
   "outputs": [
    {
     "name": "stdout",
     "output_type": "stream",
     "text": [
      "You are working on        Singularity \n",
      "BASE DIRECTORY (FD_BASE): /mount \n",
      "REPO DIRECTORY (FD_REPO): /mount/repo \n",
      "WORK DIRECTORY (FD_WORK): /mount/work \n",
      "DATA DIRECTORY (FD_DATA): /mount/data \n",
      "\n",
      "You are working with      ENCODE FCC \n",
      "PATH OF PROJECT (FD_PRJ): /mount/repo/Proj_ENCODE_FCC \n",
      "PROJECT RESULTS (FD_RES): /mount/repo/Proj_ENCODE_FCC/results \n",
      "PROJECT SCRIPTS (FD_EXE): /mount/repo/Proj_ENCODE_FCC/scripts \n",
      "PROJECT DATA    (FD_DAT): /mount/repo/Proj_ENCODE_FCC/data \n",
      "PROJECT NOTE    (FD_NBK): /mount/repo/Proj_ENCODE_FCC/notebooks \n",
      "PROJECT DOCS    (FD_DOC): /mount/repo/Proj_ENCODE_FCC/docs \n",
      "PROJECT LOG     (FD_LOG): /mount/repo/Proj_ENCODE_FCC/log \n",
      "PROJECT APP     (FD_APP): /mount/repo/Proj_ENCODE_FCC/app \n",
      "PROJECT REF     (FD_REF): /mount/repo/Proj_ENCODE_FCC/references \n",
      "\n"
     ]
    }
   ],
   "source": [
    "suppressMessages(suppressWarnings(source(\"../run_config_project_sing.R\")))\n",
    "show_env()"
   ]
  },
  {
   "cell_type": "code",
   "execution_count": 2,
   "id": "a29d1a55-8c61-46a5-9243-96b6de670855",
   "metadata": {},
   "outputs": [
    {
     "name": "stdout",
     "output_type": "stream",
     "text": [
      " [1] \"matrix.annotation.chipseq_flagship.tsv\"                 \n",
      " [2] \"matrix.annotation.chipseq_full.tsv\"                     \n",
      " [3] \"matrix.annotation.chipseq_histone.tsv\"                  \n",
      " [4] \"matrix.annotation.chipseq_subset.tsv\"                   \n",
      " [5] \"matrix.annotation.fcc_peak_call.tsv\"                    \n",
      " [6] \"matrix.annotation.genome_tss.tsv\"                       \n",
      " [7] \"matrix.annotation.merge.chipseq_full.fcc.tss.tsv\"       \n",
      " [8] \"matrix.annotation.prepare.cre.chipseq_full.fcc.tss.tsv\" \n",
      " [9] \"matrix.annotation.prepare.cre.chipseq_full.fcc.tsv\"     \n",
      "[10] \"matrix.annotation.prepare.cre.chipseq_full.only.tsv\"    \n",
      "[11] \"matrix.annotation.prepare.enh.chipseq_full.fcc.tss.tsv\" \n",
      "[12] \"matrix.annotation.prepare.enh.chipseq_full.fcc.tsv\"     \n",
      "[13] \"matrix.annotation.prepare.enh.chipseq_full.only.tsv\"    \n",
      "[14] \"matrix.annotation.prepare.full.chipseq_full.fcc.tss.tsv\"\n",
      "[15] \"matrix.annotation.prepare.full.chipseq_full.fcc.tsv\"    \n",
      "[16] \"matrix.annotation.prepare.full.chipseq_full.only.tsv\"   \n",
      "[17] \"matrix.annotation.test_chrX.chipseq_full.fcc.tss.tsv\"   \n",
      "[18] \"matrix.annotation.test_chrX.chipseq_full.only.tsv\"      \n",
      "[19] \"matrix.mca_dim50.prepare.cre.chipseq_full.fcc.tss.tsv\"  \n",
      "[20] \"matrix.mca_dim70.prepare.cre.chipseq_full.fcc.tss.tsv\"  \n",
      "[21] \"matrix.mca_dim90.prepare.cre.chipseq_full.fcc.tss.tsv\"  \n",
      "[22] \"matrix.mca_exp90.prepare.cre.chipseq_full.fcc.tss.tsv\"  \n",
      "[23] \"matrix.mca_exp90.test_chrX.chipseq_full.fcc.tss.tsv\"    \n"
     ]
    }
   ],
   "source": [
    "txt_fdiry = file.path(\n",
    "    FD_RES, \n",
    "    \"region_annotation\", \n",
    "    \"fcc_astarr_macs_input_overlap\",\n",
    "    \"summary\"\n",
    ")\n",
    "txt_fname = \"matrix*tsv\"\n",
    "txt_fglob = file.path(txt_fdiry, txt_fname)\n",
    "\n",
    "vec_txt_fpath = Sys.glob(txt_fglob)\n",
    "vec_txt_fname = basename(vec_txt_fpath)\n",
    "\n",
    "vec = vec_txt_fname\n",
    "print(vec)"
   ]
  },
  {
   "cell_type": "code",
   "execution_count": 3,
   "id": "41557c5a-83ad-4f4b-8d61-9e11644a5e73",
   "metadata": {},
   "outputs": [
    {
     "name": "stdout",
     "output_type": "stream",
     "text": [
      "[1] 115953     14\n"
     ]
    },
    {
     "data": {
      "text/html": [
       "<table>\n",
       " <thead>\n",
       "  <tr>\n",
       "   <th style=\"text-align:left;\"> Chrom </th>\n",
       "   <th style=\"text-align:right;\"> ChromStart </th>\n",
       "   <th style=\"text-align:right;\"> ChromEnd </th>\n",
       "   <th style=\"text-align:left;\"> Region </th>\n",
       "   <th style=\"text-align:right;\"> ASTARR_A </th>\n",
       "   <th style=\"text-align:right;\"> WSTARR_A </th>\n",
       "   <th style=\"text-align:right;\"> LMPRA_A </th>\n",
       "   <th style=\"text-align:right;\"> TMPRA_A </th>\n",
       "   <th style=\"text-align:right;\"> ASTARR_R </th>\n",
       "   <th style=\"text-align:right;\"> WSTARR_R </th>\n",
       "   <th style=\"text-align:right;\"> LMPRA_R </th>\n",
       "   <th style=\"text-align:right;\"> TMPRA_R </th>\n",
       "   <th style=\"text-align:right;\"> CRISPRi-HCRFF:CASA </th>\n",
       "   <th style=\"text-align:right;\"> CRISPRi-Growth:Signif </th>\n",
       "  </tr>\n",
       " </thead>\n",
       "<tbody>\n",
       "  <tr>\n",
       "   <td style=\"text-align:left;\"> chr1 </td>\n",
       "   <td style=\"text-align:right;\"> 10038 </td>\n",
       "   <td style=\"text-align:right;\"> 10405 </td>\n",
       "   <td style=\"text-align:left;\"> chr1:10038-10405 </td>\n",
       "   <td style=\"text-align:right;\"> 0 </td>\n",
       "   <td style=\"text-align:right;\"> 0 </td>\n",
       "   <td style=\"text-align:right;\"> 0 </td>\n",
       "   <td style=\"text-align:right;\"> 0 </td>\n",
       "   <td style=\"text-align:right;\"> 1 </td>\n",
       "   <td style=\"text-align:right;\"> 0 </td>\n",
       "   <td style=\"text-align:right;\"> 0 </td>\n",
       "   <td style=\"text-align:right;\"> 0 </td>\n",
       "   <td style=\"text-align:right;\"> 0 </td>\n",
       "   <td style=\"text-align:right;\"> 0 </td>\n",
       "  </tr>\n",
       "  <tr>\n",
       "   <td style=\"text-align:left;\"> chr1 </td>\n",
       "   <td style=\"text-align:right;\"> 16025 </td>\n",
       "   <td style=\"text-align:right;\"> 16338 </td>\n",
       "   <td style=\"text-align:left;\"> chr1:16025-16338 </td>\n",
       "   <td style=\"text-align:right;\"> 0 </td>\n",
       "   <td style=\"text-align:right;\"> 0 </td>\n",
       "   <td style=\"text-align:right;\"> 0 </td>\n",
       "   <td style=\"text-align:right;\"> 0 </td>\n",
       "   <td style=\"text-align:right;\"> 1 </td>\n",
       "   <td style=\"text-align:right;\"> 0 </td>\n",
       "   <td style=\"text-align:right;\"> 0 </td>\n",
       "   <td style=\"text-align:right;\"> 0 </td>\n",
       "   <td style=\"text-align:right;\"> 0 </td>\n",
       "   <td style=\"text-align:right;\"> 0 </td>\n",
       "  </tr>\n",
       "  <tr>\n",
       "   <td style=\"text-align:left;\"> chr1 </td>\n",
       "   <td style=\"text-align:right;\"> 17288 </td>\n",
       "   <td style=\"text-align:right;\"> 17689 </td>\n",
       "   <td style=\"text-align:left;\"> chr1:17288-17689 </td>\n",
       "   <td style=\"text-align:right;\"> 0 </td>\n",
       "   <td style=\"text-align:right;\"> 0 </td>\n",
       "   <td style=\"text-align:right;\"> 0 </td>\n",
       "   <td style=\"text-align:right;\"> 0 </td>\n",
       "   <td style=\"text-align:right;\"> 1 </td>\n",
       "   <td style=\"text-align:right;\"> 0 </td>\n",
       "   <td style=\"text-align:right;\"> 0 </td>\n",
       "   <td style=\"text-align:right;\"> 0 </td>\n",
       "   <td style=\"text-align:right;\"> 0 </td>\n",
       "   <td style=\"text-align:right;\"> 0 </td>\n",
       "  </tr>\n",
       "  <tr>\n",
       "   <td style=\"text-align:left;\"> chr1 </td>\n",
       "   <td style=\"text-align:right;\"> 28934 </td>\n",
       "   <td style=\"text-align:right;\"> 29499 </td>\n",
       "   <td style=\"text-align:left;\"> chr1:28934-29499 </td>\n",
       "   <td style=\"text-align:right;\"> 0 </td>\n",
       "   <td style=\"text-align:right;\"> 0 </td>\n",
       "   <td style=\"text-align:right;\"> 0 </td>\n",
       "   <td style=\"text-align:right;\"> 0 </td>\n",
       "   <td style=\"text-align:right;\"> 1 </td>\n",
       "   <td style=\"text-align:right;\"> 0 </td>\n",
       "   <td style=\"text-align:right;\"> 0 </td>\n",
       "   <td style=\"text-align:right;\"> 0 </td>\n",
       "   <td style=\"text-align:right;\"> 0 </td>\n",
       "   <td style=\"text-align:right;\"> 0 </td>\n",
       "  </tr>\n",
       "  <tr>\n",
       "   <td style=\"text-align:left;\"> chr1 </td>\n",
       "   <td style=\"text-align:right;\"> 115429 </td>\n",
       "   <td style=\"text-align:right;\"> 115969 </td>\n",
       "   <td style=\"text-align:left;\"> chr1:115429-115969 </td>\n",
       "   <td style=\"text-align:right;\"> 1 </td>\n",
       "   <td style=\"text-align:right;\"> 0 </td>\n",
       "   <td style=\"text-align:right;\"> 0 </td>\n",
       "   <td style=\"text-align:right;\"> 0 </td>\n",
       "   <td style=\"text-align:right;\"> 0 </td>\n",
       "   <td style=\"text-align:right;\"> 0 </td>\n",
       "   <td style=\"text-align:right;\"> 0 </td>\n",
       "   <td style=\"text-align:right;\"> 0 </td>\n",
       "   <td style=\"text-align:right;\"> 0 </td>\n",
       "   <td style=\"text-align:right;\"> 0 </td>\n",
       "  </tr>\n",
       "  <tr>\n",
       "   <td style=\"text-align:left;\"> chr1 </td>\n",
       "   <td style=\"text-align:right;\"> 136201 </td>\n",
       "   <td style=\"text-align:right;\"> 137353 </td>\n",
       "   <td style=\"text-align:left;\"> chr1:136201-137353 </td>\n",
       "   <td style=\"text-align:right;\"> 0 </td>\n",
       "   <td style=\"text-align:right;\"> 0 </td>\n",
       "   <td style=\"text-align:right;\"> 0 </td>\n",
       "   <td style=\"text-align:right;\"> 0 </td>\n",
       "   <td style=\"text-align:right;\"> 1 </td>\n",
       "   <td style=\"text-align:right;\"> 0 </td>\n",
       "   <td style=\"text-align:right;\"> 0 </td>\n",
       "   <td style=\"text-align:right;\"> 0 </td>\n",
       "   <td style=\"text-align:right;\"> 0 </td>\n",
       "   <td style=\"text-align:right;\"> 0 </td>\n",
       "  </tr>\n",
       "</tbody>\n",
       "</table>"
      ]
     },
     "metadata": {},
     "output_type": "display_data"
    }
   ],
   "source": [
    "txt_fdiry = file.path(\n",
    "    FD_RES, \n",
    "    \"region_annotation\", \n",
    "    \"fcc_astarr_macs_input_overlap\",\n",
    "    \"summary\"\n",
    ")\n",
    "txt_fname = \"matrix.annotation.fcc_peak_call.tsv\"\n",
    "txt_fpath = file.path(txt_fdiry, txt_fname)\n",
    "\n",
    "dat = read_tsv(txt_fpath, show_col_types = FALSE)\n",
    "\n",
    "dat_region_annot_fcc = dat\n",
    "print(dim(dat))\n",
    "fun_display_table(head(dat))"
   ]
  },
  {
   "cell_type": "code",
   "execution_count": 4,
   "id": "297b5a85-b3b2-4e4e-b487-f3f624cd68df",
   "metadata": {},
   "outputs": [
    {
     "name": "stdout",
     "output_type": "stream",
     "text": [
      "[1] 150042      5\n"
     ]
    },
    {
     "data": {
      "text/html": [
       "<table>\n",
       " <thead>\n",
       "  <tr>\n",
       "   <th style=\"text-align:left;\"> Chrom </th>\n",
       "   <th style=\"text-align:right;\"> ChromStart </th>\n",
       "   <th style=\"text-align:right;\"> ChromEnd </th>\n",
       "   <th style=\"text-align:right;\"> pGC </th>\n",
       "   <th style=\"text-align:right;\"> Length </th>\n",
       "  </tr>\n",
       " </thead>\n",
       "<tbody>\n",
       "  <tr>\n",
       "   <td style=\"text-align:left;\"> chr1 </td>\n",
       "   <td style=\"text-align:right;\"> 10038 </td>\n",
       "   <td style=\"text-align:right;\"> 10405 </td>\n",
       "   <td style=\"text-align:right;\"> 0.523161 </td>\n",
       "   <td style=\"text-align:right;\"> 367 </td>\n",
       "  </tr>\n",
       "  <tr>\n",
       "   <td style=\"text-align:left;\"> chr1 </td>\n",
       "   <td style=\"text-align:right;\"> 14282 </td>\n",
       "   <td style=\"text-align:right;\"> 14614 </td>\n",
       "   <td style=\"text-align:right;\"> 0.578313 </td>\n",
       "   <td style=\"text-align:right;\"> 332 </td>\n",
       "  </tr>\n",
       "  <tr>\n",
       "   <td style=\"text-align:left;\"> chr1 </td>\n",
       "   <td style=\"text-align:right;\"> 16025 </td>\n",
       "   <td style=\"text-align:right;\"> 16338 </td>\n",
       "   <td style=\"text-align:right;\"> 0.587859 </td>\n",
       "   <td style=\"text-align:right;\"> 313 </td>\n",
       "  </tr>\n",
       "</tbody>\n",
       "</table>"
      ]
     },
     "metadata": {},
     "output_type": "display_data"
    }
   ],
   "source": [
    "txt_fdiry = file.path(\n",
    "    FD_RES, \n",
    "    \"region_nuc\", \n",
    "    \"fcc_astarr_macs\"\n",
    ")\n",
    "txt_fname = \"K562.hg38.ASTARR.macs.KS91.input.rep_all.max_overlaps.q5.bed.gz\"\n",
    "txt_fpath = file.path(txt_fdiry, txt_fname)\n",
    "\n",
    "dat = read_tsv(txt_fpath, show_col_types = FALSE)\n",
    "dat = dat %>% dplyr::select(\n",
    "    `#1_usercol`,\n",
    "    `2_usercol`,\n",
    "    `3_usercol`,\n",
    "    `5_pct_gc`,\n",
    "    `12_seq_len`\n",
    ")\n",
    "colnames(dat) = c(\"Chrom\", \"ChromStart\", \"ChromEnd\", \"pGC\", \"Length\")\n",
    "\n",
    "dat_region_gc = dat\n",
    "print(dim(dat))\n",
    "fun_display_table(head(dat, 3))"
   ]
  },
  {
   "cell_type": "code",
   "execution_count": null,
   "id": "ba67174c-0e7e-470d-9f16-53681852a070",
   "metadata": {},
   "outputs": [],
   "source": []
  },
  {
   "cell_type": "code",
   "execution_count": null,
   "id": "98c40cee-e4df-48f3-a4ed-c0554c3f9bb9",
   "metadata": {},
   "outputs": [],
   "source": []
  },
  {
   "cell_type": "code",
   "execution_count": 5,
   "id": "4578d099-34ab-4407-b0c1-95fc38a517b3",
   "metadata": {},
   "outputs": [
    {
     "data": {
      "text/html": [
       "<table class=\"dataframe\">\n",
       "<caption>A tibble: 6 × 16</caption>\n",
       "<thead>\n",
       "\t<tr><th scope=col>Chrom</th><th scope=col>ChromStart</th><th scope=col>ChromEnd</th><th scope=col>Region</th><th scope=col>ASTARR_A</th><th scope=col>WSTARR_A</th><th scope=col>LMPRA_A</th><th scope=col>TMPRA_A</th><th scope=col>ASTARR_R</th><th scope=col>WSTARR_R</th><th scope=col>LMPRA_R</th><th scope=col>TMPRA_R</th><th scope=col>CRISPRi-HCRFF:CASA</th><th scope=col>CRISPRi-Growth:Signif</th><th scope=col>High_GC</th><th scope=col>ASTARR_R_GC</th></tr>\n",
       "\t<tr><th scope=col>&lt;chr&gt;</th><th scope=col>&lt;dbl&gt;</th><th scope=col>&lt;dbl&gt;</th><th scope=col>&lt;chr&gt;</th><th scope=col>&lt;dbl&gt;</th><th scope=col>&lt;dbl&gt;</th><th scope=col>&lt;dbl&gt;</th><th scope=col>&lt;dbl&gt;</th><th scope=col>&lt;dbl&gt;</th><th scope=col>&lt;dbl&gt;</th><th scope=col>&lt;dbl&gt;</th><th scope=col>&lt;dbl&gt;</th><th scope=col>&lt;dbl&gt;</th><th scope=col>&lt;dbl&gt;</th><th scope=col>&lt;int&gt;</th><th scope=col>&lt;dbl&gt;</th></tr>\n",
       "</thead>\n",
       "<tbody>\n",
       "\t<tr><td>chr1</td><td> 10038</td><td> 10405</td><td>chr1:10038-10405  </td><td>0</td><td>0</td><td>0</td><td>0</td><td>1</td><td>0</td><td>0</td><td>0</td><td>0</td><td>0</td><td>0</td><td>1</td></tr>\n",
       "\t<tr><td>chr1</td><td> 16025</td><td> 16338</td><td>chr1:16025-16338  </td><td>0</td><td>0</td><td>0</td><td>0</td><td>1</td><td>0</td><td>0</td><td>0</td><td>0</td><td>0</td><td>0</td><td>1</td></tr>\n",
       "\t<tr><td>chr1</td><td> 17288</td><td> 17689</td><td>chr1:17288-17689  </td><td>0</td><td>0</td><td>0</td><td>0</td><td>1</td><td>0</td><td>0</td><td>0</td><td>0</td><td>0</td><td>1</td><td>0</td></tr>\n",
       "\t<tr><td>chr1</td><td> 28934</td><td> 29499</td><td>chr1:28934-29499  </td><td>0</td><td>0</td><td>0</td><td>0</td><td>1</td><td>0</td><td>0</td><td>0</td><td>0</td><td>0</td><td>1</td><td>0</td></tr>\n",
       "\t<tr><td>chr1</td><td>115429</td><td>115969</td><td>chr1:115429-115969</td><td>1</td><td>0</td><td>0</td><td>0</td><td>0</td><td>0</td><td>0</td><td>0</td><td>0</td><td>0</td><td>0</td><td>0</td></tr>\n",
       "\t<tr><td>chr1</td><td>136201</td><td>137353</td><td>chr1:136201-137353</td><td>0</td><td>0</td><td>0</td><td>0</td><td>1</td><td>0</td><td>0</td><td>0</td><td>0</td><td>0</td><td>1</td><td>0</td></tr>\n",
       "</tbody>\n",
       "</table>\n"
      ],
      "text/latex": [
       "A tibble: 6 × 16\n",
       "\\begin{tabular}{llllllllllllllll}\n",
       " Chrom & ChromStart & ChromEnd & Region & ASTARR\\_A & WSTARR\\_A & LMPRA\\_A & TMPRA\\_A & ASTARR\\_R & WSTARR\\_R & LMPRA\\_R & TMPRA\\_R & CRISPRi-HCRFF:CASA & CRISPRi-Growth:Signif & High\\_GC & ASTARR\\_R\\_GC\\\\\n",
       " <chr> & <dbl> & <dbl> & <chr> & <dbl> & <dbl> & <dbl> & <dbl> & <dbl> & <dbl> & <dbl> & <dbl> & <dbl> & <dbl> & <int> & <dbl>\\\\\n",
       "\\hline\n",
       "\t chr1 &  10038 &  10405 & chr1:10038-10405   & 0 & 0 & 0 & 0 & 1 & 0 & 0 & 0 & 0 & 0 & 0 & 1\\\\\n",
       "\t chr1 &  16025 &  16338 & chr1:16025-16338   & 0 & 0 & 0 & 0 & 1 & 0 & 0 & 0 & 0 & 0 & 0 & 1\\\\\n",
       "\t chr1 &  17288 &  17689 & chr1:17288-17689   & 0 & 0 & 0 & 0 & 1 & 0 & 0 & 0 & 0 & 0 & 1 & 0\\\\\n",
       "\t chr1 &  28934 &  29499 & chr1:28934-29499   & 0 & 0 & 0 & 0 & 1 & 0 & 0 & 0 & 0 & 0 & 1 & 0\\\\\n",
       "\t chr1 & 115429 & 115969 & chr1:115429-115969 & 1 & 0 & 0 & 0 & 0 & 0 & 0 & 0 & 0 & 0 & 0 & 0\\\\\n",
       "\t chr1 & 136201 & 137353 & chr1:136201-137353 & 0 & 0 & 0 & 0 & 1 & 0 & 0 & 0 & 0 & 0 & 1 & 0\\\\\n",
       "\\end{tabular}\n"
      ],
      "text/markdown": [
       "\n",
       "A tibble: 6 × 16\n",
       "\n",
       "| Chrom &lt;chr&gt; | ChromStart &lt;dbl&gt; | ChromEnd &lt;dbl&gt; | Region &lt;chr&gt; | ASTARR_A &lt;dbl&gt; | WSTARR_A &lt;dbl&gt; | LMPRA_A &lt;dbl&gt; | TMPRA_A &lt;dbl&gt; | ASTARR_R &lt;dbl&gt; | WSTARR_R &lt;dbl&gt; | LMPRA_R &lt;dbl&gt; | TMPRA_R &lt;dbl&gt; | CRISPRi-HCRFF:CASA &lt;dbl&gt; | CRISPRi-Growth:Signif &lt;dbl&gt; | High_GC &lt;int&gt; | ASTARR_R_GC &lt;dbl&gt; |\n",
       "|---|---|---|---|---|---|---|---|---|---|---|---|---|---|---|---|\n",
       "| chr1 |  10038 |  10405 | chr1:10038-10405   | 0 | 0 | 0 | 0 | 1 | 0 | 0 | 0 | 0 | 0 | 0 | 1 |\n",
       "| chr1 |  16025 |  16338 | chr1:16025-16338   | 0 | 0 | 0 | 0 | 1 | 0 | 0 | 0 | 0 | 0 | 0 | 1 |\n",
       "| chr1 |  17288 |  17689 | chr1:17288-17689   | 0 | 0 | 0 | 0 | 1 | 0 | 0 | 0 | 0 | 0 | 1 | 0 |\n",
       "| chr1 |  28934 |  29499 | chr1:28934-29499   | 0 | 0 | 0 | 0 | 1 | 0 | 0 | 0 | 0 | 0 | 1 | 0 |\n",
       "| chr1 | 115429 | 115969 | chr1:115429-115969 | 1 | 0 | 0 | 0 | 0 | 0 | 0 | 0 | 0 | 0 | 0 | 0 |\n",
       "| chr1 | 136201 | 137353 | chr1:136201-137353 | 0 | 0 | 0 | 0 | 1 | 0 | 0 | 0 | 0 | 0 | 1 | 0 |\n",
       "\n"
      ],
      "text/plain": [
       "  Chrom ChromStart ChromEnd Region             ASTARR_A WSTARR_A LMPRA_A\n",
       "1 chr1   10038      10405   chr1:10038-10405   0        0        0      \n",
       "2 chr1   16025      16338   chr1:16025-16338   0        0        0      \n",
       "3 chr1   17288      17689   chr1:17288-17689   0        0        0      \n",
       "4 chr1   28934      29499   chr1:28934-29499   0        0        0      \n",
       "5 chr1  115429     115969   chr1:115429-115969 1        0        0      \n",
       "6 chr1  136201     137353   chr1:136201-137353 0        0        0      \n",
       "  TMPRA_A ASTARR_R WSTARR_R LMPRA_R TMPRA_R CRISPRi-HCRFF:CASA\n",
       "1 0       1        0        0       0       0                 \n",
       "2 0       1        0        0       0       0                 \n",
       "3 0       1        0        0       0       0                 \n",
       "4 0       1        0        0       0       0                 \n",
       "5 0       0        0        0       0       0                 \n",
       "6 0       1        0        0       0       0                 \n",
       "  CRISPRi-Growth:Signif High_GC ASTARR_R_GC\n",
       "1 0                     0       1          \n",
       "2 0                     0       1          \n",
       "3 0                     1       0          \n",
       "4 0                     1       0          \n",
       "5 0                     0       0          \n",
       "6 0                     1       0          "
      ]
     },
     "metadata": {},
     "output_type": "display_data"
    }
   ],
   "source": [
    "tmp = dat_region_gc\n",
    "tmp = tmp  %>% \n",
    "    dplyr::mutate(High_GC = as.integer(pGC > 0.60)) %>%\n",
    "    dplyr::select(Chrom, ChromStart, ChromEnd, High_GC)\n",
    "\n",
    "dat = dat_region_annot_fcc\n",
    "dat = dat %>% dplyr::left_join(tmp, by = c(\"Chrom\", \"ChromStart\", \"ChromEnd\"))\n",
    "dat = dat %>% dplyr::mutate(ASTARR_R_GC = ifelse(High_GC == 1, 0, ASTARR_R))\n",
    "\n",
    "dat_region_annot_fcc_pgc = dat\n",
    "head(dat)"
   ]
  },
  {
   "cell_type": "code",
   "execution_count": 6,
   "id": "792ccd27-f6ec-45b0-b00e-58b354389416",
   "metadata": {},
   "outputs": [
    {
     "name": "stdout",
     "output_type": "stream",
     "text": [
      "[1] 115953      4\n"
     ]
    },
    {
     "data": {
      "text/html": [
       "<table class=\"dataframe\">\n",
       "<caption>A tibble: 3 × 4</caption>\n",
       "<thead>\n",
       "\t<tr><th scope=col>Region</th><th scope=col>ASTARR_R</th><th scope=col>ASTARR_R_GC</th><th scope=col>High_GC</th></tr>\n",
       "\t<tr><th scope=col>&lt;chr&gt;</th><th scope=col>&lt;dbl&gt;</th><th scope=col>&lt;dbl&gt;</th><th scope=col>&lt;int&gt;</th></tr>\n",
       "</thead>\n",
       "<tbody>\n",
       "\t<tr><td>chr1:10038-10405</td><td>1</td><td>1</td><td>0</td></tr>\n",
       "\t<tr><td>chr1:16025-16338</td><td>1</td><td>1</td><td>0</td></tr>\n",
       "\t<tr><td>chr1:17288-17689</td><td>1</td><td>0</td><td>1</td></tr>\n",
       "</tbody>\n",
       "</table>\n"
      ],
      "text/latex": [
       "A tibble: 3 × 4\n",
       "\\begin{tabular}{llll}\n",
       " Region & ASTARR\\_R & ASTARR\\_R\\_GC & High\\_GC\\\\\n",
       " <chr> & <dbl> & <dbl> & <int>\\\\\n",
       "\\hline\n",
       "\t chr1:10038-10405 & 1 & 1 & 0\\\\\n",
       "\t chr1:16025-16338 & 1 & 1 & 0\\\\\n",
       "\t chr1:17288-17689 & 1 & 0 & 1\\\\\n",
       "\\end{tabular}\n"
      ],
      "text/markdown": [
       "\n",
       "A tibble: 3 × 4\n",
       "\n",
       "| Region &lt;chr&gt; | ASTARR_R &lt;dbl&gt; | ASTARR_R_GC &lt;dbl&gt; | High_GC &lt;int&gt; |\n",
       "|---|---|---|---|\n",
       "| chr1:10038-10405 | 1 | 1 | 0 |\n",
       "| chr1:16025-16338 | 1 | 1 | 0 |\n",
       "| chr1:17288-17689 | 1 | 0 | 1 |\n",
       "\n"
      ],
      "text/plain": [
       "  Region           ASTARR_R ASTARR_R_GC High_GC\n",
       "1 chr1:10038-10405 1        1           0      \n",
       "2 chr1:16025-16338 1        1           0      \n",
       "3 chr1:17288-17689 1        0           1      "
      ]
     },
     "metadata": {},
     "output_type": "display_data"
    }
   ],
   "source": [
    "dat = dat_region_annot_fcc_pgc\n",
    "dat = dat %>% dplyr::select(Region, ASTARR_R, ASTARR_R_GC, High_GC) \n",
    "\n",
    "#print(dim(dat))\n",
    "#dat = dat %>% dplyr::distinct()\n",
    "\n",
    "print(dim(dat))\n",
    "head(dat, 3)"
   ]
  },
  {
   "cell_type": "code",
   "execution_count": 7,
   "id": "d098c39b-0987-4dec-a2f2-163ab9d77e68",
   "metadata": {},
   "outputs": [
    {
     "data": {
      "text/html": [
       "<table class=\"dataframe\">\n",
       "<caption>A table: 3 × 3 of type dbl</caption>\n",
       "<thead>\n",
       "\t<tr><th></th><th scope=col>0</th><th scope=col>1</th><th scope=col>Sum</th></tr>\n",
       "</thead>\n",
       "<tbody>\n",
       "\t<tr><th scope=row>0</th><td>37428</td><td> 4802</td><td> 42230</td></tr>\n",
       "\t<tr><th scope=row>1</th><td>51351</td><td>22372</td><td> 73723</td></tr>\n",
       "\t<tr><th scope=row>Sum</th><td>88779</td><td>27174</td><td>115953</td></tr>\n",
       "</tbody>\n",
       "</table>\n"
      ],
      "text/latex": [
       "A table: 3 × 3 of type dbl\n",
       "\\begin{tabular}{r|lll}\n",
       "  & 0 & 1 & Sum\\\\\n",
       "\\hline\n",
       "\t0 & 37428 &  4802 &  42230\\\\\n",
       "\t1 & 51351 & 22372 &  73723\\\\\n",
       "\tSum & 88779 & 27174 & 115953\\\\\n",
       "\\end{tabular}\n"
      ],
      "text/markdown": [
       "\n",
       "A table: 3 × 3 of type dbl\n",
       "\n",
       "| <!--/--> | 0 | 1 | Sum |\n",
       "|---|---|---|---|\n",
       "| 0 | 37428 |  4802 |  42230 |\n",
       "| 1 | 51351 | 22372 |  73723 |\n",
       "| Sum | 88779 | 27174 | 115953 |\n",
       "\n"
      ],
      "text/plain": [
       "     \n",
       "      0     1     Sum   \n",
       "  0   37428  4802  42230\n",
       "  1   51351 22372  73723\n",
       "  Sum 88779 27174 115953"
      ]
     },
     "metadata": {},
     "output_type": "display_data"
    }
   ],
   "source": [
    "addmargins(table(dat$ASTARR_R, dat$High_GC))"
   ]
  },
  {
   "cell_type": "code",
   "execution_count": 8,
   "id": "0e8d2feb-2ff2-40b8-9d6f-1cf5f6821acb",
   "metadata": {},
   "outputs": [
    {
     "data": {
      "text/html": [
       "<table class=\"dataframe\">\n",
       "<caption>A table: 3 × 3 of type dbl</caption>\n",
       "<thead>\n",
       "\t<tr><th></th><th scope=col>0</th><th scope=col>1</th><th scope=col>Sum</th></tr>\n",
       "</thead>\n",
       "<tbody>\n",
       "\t<tr><th scope=row>0</th><td>37428</td><td>27174</td><td> 64602</td></tr>\n",
       "\t<tr><th scope=row>1</th><td>51351</td><td>    0</td><td> 51351</td></tr>\n",
       "\t<tr><th scope=row>Sum</th><td>88779</td><td>27174</td><td>115953</td></tr>\n",
       "</tbody>\n",
       "</table>\n"
      ],
      "text/latex": [
       "A table: 3 × 3 of type dbl\n",
       "\\begin{tabular}{r|lll}\n",
       "  & 0 & 1 & Sum\\\\\n",
       "\\hline\n",
       "\t0 & 37428 & 27174 &  64602\\\\\n",
       "\t1 & 51351 &     0 &  51351\\\\\n",
       "\tSum & 88779 & 27174 & 115953\\\\\n",
       "\\end{tabular}\n"
      ],
      "text/markdown": [
       "\n",
       "A table: 3 × 3 of type dbl\n",
       "\n",
       "| <!--/--> | 0 | 1 | Sum |\n",
       "|---|---|---|---|\n",
       "| 0 | 37428 | 27174 |  64602 |\n",
       "| 1 | 51351 |     0 |  51351 |\n",
       "| Sum | 88779 | 27174 | 115953 |\n",
       "\n"
      ],
      "text/plain": [
       "     \n",
       "      0     1     Sum   \n",
       "  0   37428 27174  64602\n",
       "  1   51351     0  51351\n",
       "  Sum 88779 27174 115953"
      ]
     },
     "metadata": {},
     "output_type": "display_data"
    }
   ],
   "source": [
    "addmargins(table(dat$ASTARR_R_GC, dat$High_GC))"
   ]
  },
  {
   "cell_type": "code",
   "execution_count": null,
   "id": "38210641-5300-402d-9908-07e165f5b919",
   "metadata": {},
   "outputs": [],
   "source": []
  },
  {
   "cell_type": "code",
   "execution_count": null,
   "id": "a4c074e7-a1e3-4810-8f51-75bedab0afee",
   "metadata": {},
   "outputs": [],
   "source": []
  },
  {
   "cell_type": "code",
   "execution_count": null,
   "id": "58852325-59cd-4471-ad04-0dc420344167",
   "metadata": {},
   "outputs": [],
   "source": []
  },
  {
   "cell_type": "code",
   "execution_count": 9,
   "id": "e3ad1cde-2ed0-4231-90ed-ad5d3753a18c",
   "metadata": {},
   "outputs": [
    {
     "data": {
      "text/html": [
       "<table class=\"dataframe\">\n",
       "<caption>A tibble: 6 × 5</caption>\n",
       "<thead>\n",
       "\t<tr><th scope=col>Region</th><th scope=col>ASTARR_A</th><th scope=col>WSTARR_A</th><th scope=col>LMPRA_A</th><th scope=col>TMPRA_A</th></tr>\n",
       "\t<tr><th scope=col>&lt;chr&gt;</th><th scope=col>&lt;dbl&gt;</th><th scope=col>&lt;dbl&gt;</th><th scope=col>&lt;dbl&gt;</th><th scope=col>&lt;dbl&gt;</th></tr>\n",
       "</thead>\n",
       "<tbody>\n",
       "\t<tr><td>chr1:10038-10405  </td><td>0</td><td>0</td><td>0</td><td>0</td></tr>\n",
       "\t<tr><td>chr1:16025-16338  </td><td>0</td><td>0</td><td>0</td><td>0</td></tr>\n",
       "\t<tr><td>chr1:17288-17689  </td><td>0</td><td>0</td><td>0</td><td>0</td></tr>\n",
       "\t<tr><td>chr1:28934-29499  </td><td>0</td><td>0</td><td>0</td><td>0</td></tr>\n",
       "\t<tr><td>chr1:115429-115969</td><td>1</td><td>0</td><td>0</td><td>0</td></tr>\n",
       "\t<tr><td>chr1:136201-137353</td><td>0</td><td>0</td><td>0</td><td>0</td></tr>\n",
       "</tbody>\n",
       "</table>\n"
      ],
      "text/latex": [
       "A tibble: 6 × 5\n",
       "\\begin{tabular}{lllll}\n",
       " Region & ASTARR\\_A & WSTARR\\_A & LMPRA\\_A & TMPRA\\_A\\\\\n",
       " <chr> & <dbl> & <dbl> & <dbl> & <dbl>\\\\\n",
       "\\hline\n",
       "\t chr1:10038-10405   & 0 & 0 & 0 & 0\\\\\n",
       "\t chr1:16025-16338   & 0 & 0 & 0 & 0\\\\\n",
       "\t chr1:17288-17689   & 0 & 0 & 0 & 0\\\\\n",
       "\t chr1:28934-29499   & 0 & 0 & 0 & 0\\\\\n",
       "\t chr1:115429-115969 & 1 & 0 & 0 & 0\\\\\n",
       "\t chr1:136201-137353 & 0 & 0 & 0 & 0\\\\\n",
       "\\end{tabular}\n"
      ],
      "text/markdown": [
       "\n",
       "A tibble: 6 × 5\n",
       "\n",
       "| Region &lt;chr&gt; | ASTARR_A &lt;dbl&gt; | WSTARR_A &lt;dbl&gt; | LMPRA_A &lt;dbl&gt; | TMPRA_A &lt;dbl&gt; |\n",
       "|---|---|---|---|---|\n",
       "| chr1:10038-10405   | 0 | 0 | 0 | 0 |\n",
       "| chr1:16025-16338   | 0 | 0 | 0 | 0 |\n",
       "| chr1:17288-17689   | 0 | 0 | 0 | 0 |\n",
       "| chr1:28934-29499   | 0 | 0 | 0 | 0 |\n",
       "| chr1:115429-115969 | 1 | 0 | 0 | 0 |\n",
       "| chr1:136201-137353 | 0 | 0 | 0 | 0 |\n",
       "\n"
      ],
      "text/plain": [
       "  Region             ASTARR_A WSTARR_A LMPRA_A TMPRA_A\n",
       "1 chr1:10038-10405   0        0        0       0      \n",
       "2 chr1:16025-16338   0        0        0       0      \n",
       "3 chr1:17288-17689   0        0        0       0      \n",
       "4 chr1:28934-29499   0        0        0       0      \n",
       "5 chr1:115429-115969 1        0        0       0      \n",
       "6 chr1:136201-137353 0        0        0       0      "
      ]
     },
     "metadata": {},
     "output_type": "display_data"
    }
   ],
   "source": [
    "dat = dat_region_annot_fcc\n",
    "dat = dat %>% dplyr::select(Region, ends_with(\"_A\"))\n",
    "head(dat)"
   ]
  },
  {
   "cell_type": "code",
   "execution_count": 10,
   "id": "820ef012-3783-4e61-8b12-fe210e25e047",
   "metadata": {},
   "outputs": [
    {
     "data": {
      "text/html": [
       "<table class=\"dataframe\">\n",
       "<caption>A tibble: 6 × 5</caption>\n",
       "<thead>\n",
       "\t<tr><th scope=col>Region</th><th scope=col>ASTARR_R</th><th scope=col>WSTARR_R</th><th scope=col>LMPRA_R</th><th scope=col>TMPRA_R</th></tr>\n",
       "\t<tr><th scope=col>&lt;chr&gt;</th><th scope=col>&lt;dbl&gt;</th><th scope=col>&lt;dbl&gt;</th><th scope=col>&lt;dbl&gt;</th><th scope=col>&lt;dbl&gt;</th></tr>\n",
       "</thead>\n",
       "<tbody>\n",
       "\t<tr><td>chr1:10038-10405  </td><td>1</td><td>0</td><td>0</td><td>0</td></tr>\n",
       "\t<tr><td>chr1:16025-16338  </td><td>1</td><td>0</td><td>0</td><td>0</td></tr>\n",
       "\t<tr><td>chr1:17288-17689  </td><td>1</td><td>0</td><td>0</td><td>0</td></tr>\n",
       "\t<tr><td>chr1:28934-29499  </td><td>1</td><td>0</td><td>0</td><td>0</td></tr>\n",
       "\t<tr><td>chr1:115429-115969</td><td>0</td><td>0</td><td>0</td><td>0</td></tr>\n",
       "\t<tr><td>chr1:136201-137353</td><td>1</td><td>0</td><td>0</td><td>0</td></tr>\n",
       "</tbody>\n",
       "</table>\n"
      ],
      "text/latex": [
       "A tibble: 6 × 5\n",
       "\\begin{tabular}{lllll}\n",
       " Region & ASTARR\\_R & WSTARR\\_R & LMPRA\\_R & TMPRA\\_R\\\\\n",
       " <chr> & <dbl> & <dbl> & <dbl> & <dbl>\\\\\n",
       "\\hline\n",
       "\t chr1:10038-10405   & 1 & 0 & 0 & 0\\\\\n",
       "\t chr1:16025-16338   & 1 & 0 & 0 & 0\\\\\n",
       "\t chr1:17288-17689   & 1 & 0 & 0 & 0\\\\\n",
       "\t chr1:28934-29499   & 1 & 0 & 0 & 0\\\\\n",
       "\t chr1:115429-115969 & 0 & 0 & 0 & 0\\\\\n",
       "\t chr1:136201-137353 & 1 & 0 & 0 & 0\\\\\n",
       "\\end{tabular}\n"
      ],
      "text/markdown": [
       "\n",
       "A tibble: 6 × 5\n",
       "\n",
       "| Region &lt;chr&gt; | ASTARR_R &lt;dbl&gt; | WSTARR_R &lt;dbl&gt; | LMPRA_R &lt;dbl&gt; | TMPRA_R &lt;dbl&gt; |\n",
       "|---|---|---|---|---|\n",
       "| chr1:10038-10405   | 1 | 0 | 0 | 0 |\n",
       "| chr1:16025-16338   | 1 | 0 | 0 | 0 |\n",
       "| chr1:17288-17689   | 1 | 0 | 0 | 0 |\n",
       "| chr1:28934-29499   | 1 | 0 | 0 | 0 |\n",
       "| chr1:115429-115969 | 0 | 0 | 0 | 0 |\n",
       "| chr1:136201-137353 | 1 | 0 | 0 | 0 |\n",
       "\n"
      ],
      "text/plain": [
       "  Region             ASTARR_R WSTARR_R LMPRA_R TMPRA_R\n",
       "1 chr1:10038-10405   1        0        0       0      \n",
       "2 chr1:16025-16338   1        0        0       0      \n",
       "3 chr1:17288-17689   1        0        0       0      \n",
       "4 chr1:28934-29499   1        0        0       0      \n",
       "5 chr1:115429-115969 0        0        0       0      \n",
       "6 chr1:136201-137353 1        0        0       0      "
      ]
     },
     "metadata": {},
     "output_type": "display_data"
    }
   ],
   "source": [
    "dat = dat_region_annot_fcc\n",
    "dat = dat %>% dplyr::select(Region, ends_with(\"_R\"))\n",
    "head(dat)"
   ]
  },
  {
   "cell_type": "code",
   "execution_count": 11,
   "id": "8019b762-953e-442f-9e5b-e2ad6b5aa5eb",
   "metadata": {},
   "outputs": [
    {
     "data": {
      "text/html": [
       "<table class=\"dataframe\">\n",
       "<caption>A tibble: 6 × 5</caption>\n",
       "<thead>\n",
       "\t<tr><th scope=col>Region</th><th scope=col>ASTARR_R_GC</th><th scope=col>WSTARR_R</th><th scope=col>LMPRA_R</th><th scope=col>TMPRA_R</th></tr>\n",
       "\t<tr><th scope=col>&lt;chr&gt;</th><th scope=col>&lt;dbl&gt;</th><th scope=col>&lt;dbl&gt;</th><th scope=col>&lt;dbl&gt;</th><th scope=col>&lt;dbl&gt;</th></tr>\n",
       "</thead>\n",
       "<tbody>\n",
       "\t<tr><td>chr1:10038-10405  </td><td>1</td><td>0</td><td>0</td><td>0</td></tr>\n",
       "\t<tr><td>chr1:16025-16338  </td><td>1</td><td>0</td><td>0</td><td>0</td></tr>\n",
       "\t<tr><td>chr1:17288-17689  </td><td>0</td><td>0</td><td>0</td><td>0</td></tr>\n",
       "\t<tr><td>chr1:28934-29499  </td><td>0</td><td>0</td><td>0</td><td>0</td></tr>\n",
       "\t<tr><td>chr1:115429-115969</td><td>0</td><td>0</td><td>0</td><td>0</td></tr>\n",
       "\t<tr><td>chr1:136201-137353</td><td>0</td><td>0</td><td>0</td><td>0</td></tr>\n",
       "</tbody>\n",
       "</table>\n"
      ],
      "text/latex": [
       "A tibble: 6 × 5\n",
       "\\begin{tabular}{lllll}\n",
       " Region & ASTARR\\_R\\_GC & WSTARR\\_R & LMPRA\\_R & TMPRA\\_R\\\\\n",
       " <chr> & <dbl> & <dbl> & <dbl> & <dbl>\\\\\n",
       "\\hline\n",
       "\t chr1:10038-10405   & 1 & 0 & 0 & 0\\\\\n",
       "\t chr1:16025-16338   & 1 & 0 & 0 & 0\\\\\n",
       "\t chr1:17288-17689   & 0 & 0 & 0 & 0\\\\\n",
       "\t chr1:28934-29499   & 0 & 0 & 0 & 0\\\\\n",
       "\t chr1:115429-115969 & 0 & 0 & 0 & 0\\\\\n",
       "\t chr1:136201-137353 & 0 & 0 & 0 & 0\\\\\n",
       "\\end{tabular}\n"
      ],
      "text/markdown": [
       "\n",
       "A tibble: 6 × 5\n",
       "\n",
       "| Region &lt;chr&gt; | ASTARR_R_GC &lt;dbl&gt; | WSTARR_R &lt;dbl&gt; | LMPRA_R &lt;dbl&gt; | TMPRA_R &lt;dbl&gt; |\n",
       "|---|---|---|---|---|\n",
       "| chr1:10038-10405   | 1 | 0 | 0 | 0 |\n",
       "| chr1:16025-16338   | 1 | 0 | 0 | 0 |\n",
       "| chr1:17288-17689   | 0 | 0 | 0 | 0 |\n",
       "| chr1:28934-29499   | 0 | 0 | 0 | 0 |\n",
       "| chr1:115429-115969 | 0 | 0 | 0 | 0 |\n",
       "| chr1:136201-137353 | 0 | 0 | 0 | 0 |\n",
       "\n"
      ],
      "text/plain": [
       "  Region             ASTARR_R_GC WSTARR_R LMPRA_R TMPRA_R\n",
       "1 chr1:10038-10405   1           0        0       0      \n",
       "2 chr1:16025-16338   1           0        0       0      \n",
       "3 chr1:17288-17689   0           0        0       0      \n",
       "4 chr1:28934-29499   0           0        0       0      \n",
       "5 chr1:115429-115969 0           0        0       0      \n",
       "6 chr1:136201-137353 0           0        0       0      "
      ]
     },
     "metadata": {},
     "output_type": "display_data"
    }
   ],
   "source": [
    "dat = dat_region_annot_fcc_pgc\n",
    "dat = dat %>% \n",
    "    dplyr::select(Region, ASTARR_R_GC, ends_with(\"_R\")) %>%\n",
    "    dplyr::select(-ASTARR_R)\n",
    "head(dat)"
   ]
  },
  {
   "cell_type": "code",
   "execution_count": null,
   "id": "eac5d8f8-fad6-4c26-971c-02837e51b20f",
   "metadata": {},
   "outputs": [],
   "source": []
  },
  {
   "cell_type": "code",
   "execution_count": null,
   "id": "4df05f5e-c72e-4cf4-a9dd-6b9ce92722cc",
   "metadata": {},
   "outputs": [],
   "source": []
  },
  {
   "cell_type": "code",
   "execution_count": null,
   "id": "7553f735-2536-4859-947f-681e09f31707",
   "metadata": {},
   "outputs": [],
   "source": []
  },
  {
   "cell_type": "code",
   "execution_count": 12,
   "id": "911b1f42-fbd2-47b5-96f1-1efc758a1816",
   "metadata": {},
   "outputs": [
    {
     "name": "stdout",
     "output_type": "stream",
     "text": [
      "47686 / 115953 \n"
     ]
    }
   ],
   "source": [
    "dat = dat_region_annot_fcc\n",
    "dat = dat %>% \n",
    "    dplyr::select(Region, ends_with(\"_A\")) %>% \n",
    "    tibble::column_to_rownames(var=\"Region\")\n",
    "\n",
    "vec = apply(dat, 1, sum)\n",
    "idx = (vec > 0)\n",
    "vec = vec[idx]\n",
    "\n",
    "dat = data.frame(\n",
    "    Region    = names(vec),\n",
    "    Num_Assay = vec,\n",
    "    Type      = \"Enhancer\"\n",
    ")\n",
    "\n",
    "dat_region_fcc_vote_enh = dat\n",
    "cat(sum(idx), \"/\", length(idx), \"\\n\")"
   ]
  },
  {
   "cell_type": "code",
   "execution_count": 13,
   "id": "2eac6b73-d5f3-4f5e-91e5-5f43f20ba03d",
   "metadata": {},
   "outputs": [
    {
     "name": "stdout",
     "output_type": "stream",
     "text": [
      "74542 / 115953 \n"
     ]
    }
   ],
   "source": [
    "dat = dat_region_annot_fcc\n",
    "dat = dat %>% \n",
    "    dplyr::select(Region, ends_with(\"_R\")) %>% \n",
    "    tibble::column_to_rownames(var=\"Region\")\n",
    "\n",
    "vec = apply(dat, 1, sum)\n",
    "idx = (vec > 0)\n",
    "vec = vec[idx]\n",
    "\n",
    "dat = data.frame(\n",
    "    Region    = names(vec),\n",
    "    Num_Assay = vec,\n",
    "    Type      = \"Repressor\"\n",
    ")\n",
    "\n",
    "dat_region_fcc_vote_rep = dat\n",
    "cat(sum(idx), \"/\", length(idx), \"\\n\")"
   ]
  },
  {
   "cell_type": "code",
   "execution_count": 14,
   "id": "1a1638e0-458f-455f-8908-cfa098afd83b",
   "metadata": {},
   "outputs": [
    {
     "name": "stdout",
     "output_type": "stream",
     "text": [
      "53193 / 115953 \n"
     ]
    }
   ],
   "source": [
    "dat = dat_region_annot_fcc_pgc\n",
    "dat = dat %>% \n",
    "    dplyr::select(Region, ASTARR_R_GC, ends_with(\"_R\")) %>%\n",
    "    dplyr::select(-ASTARR_R) %>% \n",
    "    tibble::column_to_rownames(var=\"Region\")\n",
    "\n",
    "vec = apply(dat, 1, sum)\n",
    "idx = (vec > 0)\n",
    "vec = vec[idx]\n",
    "\n",
    "dat = data.frame(\n",
    "    Region    = names(vec),\n",
    "    Num_Assay = vec,\n",
    "    Type      = \"Repressor_GCFilter\"\n",
    ")\n",
    "\n",
    "dat_region_fcc_vote_rep_pgc = dat\n",
    "cat(sum(idx), \"/\", length(idx), \"\\n\")"
   ]
  },
  {
   "cell_type": "code",
   "execution_count": 19,
   "id": "f855b437-41ae-422f-9170-196a5b189b0a",
   "metadata": {},
   "outputs": [
    {
     "name": "stdout",
     "output_type": "stream",
     "text": [
      "[1] 175421      6\n"
     ]
    },
    {
     "data": {
      "text/html": [
       "<table class=\"dataframe\">\n",
       "<caption>A data.frame: 6 × 6</caption>\n",
       "<thead>\n",
       "\t<tr><th></th><th scope=col>Chrom</th><th scope=col>ChromStart</th><th scope=col>ChromEnd</th><th scope=col>Region</th><th scope=col>Num_Assay</th><th scope=col>Type</th></tr>\n",
       "\t<tr><th></th><th scope=col>&lt;chr&gt;</th><th scope=col>&lt;chr&gt;</th><th scope=col>&lt;chr&gt;</th><th scope=col>&lt;chr&gt;</th><th scope=col>&lt;dbl&gt;</th><th scope=col>&lt;chr&gt;</th></tr>\n",
       "</thead>\n",
       "<tbody>\n",
       "\t<tr><th scope=row>chr1:115429-115969</th><td>chr1</td><td>115429</td><td>115969</td><td>chr1:115429-115969</td><td>1</td><td>Enhancer</td></tr>\n",
       "\t<tr><th scope=row>chr1:184091-184563</th><td>chr1</td><td>184091</td><td>184563</td><td>chr1:184091-184563</td><td>1</td><td>Enhancer</td></tr>\n",
       "\t<tr><th scope=row>chr1:605104-605675</th><td>chr1</td><td>605104</td><td>605675</td><td>chr1:605104-605675</td><td>1</td><td>Enhancer</td></tr>\n",
       "\t<tr><th scope=row>chr1:778233-779389</th><td>chr1</td><td>778233</td><td>779389</td><td>chr1:778233-779389</td><td>3</td><td>Enhancer</td></tr>\n",
       "\t<tr><th scope=row>chr1:818708-819335...5</th><td>chr1</td><td>818708</td><td>819335</td><td>chr1:818708-819335</td><td>1</td><td>Enhancer</td></tr>\n",
       "\t<tr><th scope=row>chr1:826796-828040...6</th><td>chr1</td><td>826796</td><td>828040</td><td>chr1:826796-828040</td><td>1</td><td>Enhancer</td></tr>\n",
       "</tbody>\n",
       "</table>\n"
      ],
      "text/latex": [
       "A data.frame: 6 × 6\n",
       "\\begin{tabular}{r|llllll}\n",
       "  & Chrom & ChromStart & ChromEnd & Region & Num\\_Assay & Type\\\\\n",
       "  & <chr> & <chr> & <chr> & <chr> & <dbl> & <chr>\\\\\n",
       "\\hline\n",
       "\tchr1:115429-115969 & chr1 & 115429 & 115969 & chr1:115429-115969 & 1 & Enhancer\\\\\n",
       "\tchr1:184091-184563 & chr1 & 184091 & 184563 & chr1:184091-184563 & 1 & Enhancer\\\\\n",
       "\tchr1:605104-605675 & chr1 & 605104 & 605675 & chr1:605104-605675 & 1 & Enhancer\\\\\n",
       "\tchr1:778233-779389 & chr1 & 778233 & 779389 & chr1:778233-779389 & 3 & Enhancer\\\\\n",
       "\tchr1:818708-819335...5 & chr1 & 818708 & 819335 & chr1:818708-819335 & 1 & Enhancer\\\\\n",
       "\tchr1:826796-828040...6 & chr1 & 826796 & 828040 & chr1:826796-828040 & 1 & Enhancer\\\\\n",
       "\\end{tabular}\n"
      ],
      "text/markdown": [
       "\n",
       "A data.frame: 6 × 6\n",
       "\n",
       "| <!--/--> | Chrom &lt;chr&gt; | ChromStart &lt;chr&gt; | ChromEnd &lt;chr&gt; | Region &lt;chr&gt; | Num_Assay &lt;dbl&gt; | Type &lt;chr&gt; |\n",
       "|---|---|---|---|---|---|---|\n",
       "| chr1:115429-115969 | chr1 | 115429 | 115969 | chr1:115429-115969 | 1 | Enhancer |\n",
       "| chr1:184091-184563 | chr1 | 184091 | 184563 | chr1:184091-184563 | 1 | Enhancer |\n",
       "| chr1:605104-605675 | chr1 | 605104 | 605675 | chr1:605104-605675 | 1 | Enhancer |\n",
       "| chr1:778233-779389 | chr1 | 778233 | 779389 | chr1:778233-779389 | 3 | Enhancer |\n",
       "| chr1:818708-819335...5 | chr1 | 818708 | 819335 | chr1:818708-819335 | 1 | Enhancer |\n",
       "| chr1:826796-828040...6 | chr1 | 826796 | 828040 | chr1:826796-828040 | 1 | Enhancer |\n",
       "\n"
      ],
      "text/plain": [
       "                       Chrom ChromStart ChromEnd Region             Num_Assay\n",
       "chr1:115429-115969     chr1  115429     115969   chr1:115429-115969 1        \n",
       "chr1:184091-184563     chr1  184091     184563   chr1:184091-184563 1        \n",
       "chr1:605104-605675     chr1  605104     605675   chr1:605104-605675 1        \n",
       "chr1:778233-779389     chr1  778233     779389   chr1:778233-779389 3        \n",
       "chr1:818708-819335...5 chr1  818708     819335   chr1:818708-819335 1        \n",
       "chr1:826796-828040...6 chr1  826796     828040   chr1:826796-828040 1        \n",
       "                       Type    \n",
       "chr1:115429-115969     Enhancer\n",
       "chr1:184091-184563     Enhancer\n",
       "chr1:605104-605675     Enhancer\n",
       "chr1:778233-779389     Enhancer\n",
       "chr1:818708-819335...5 Enhancer\n",
       "chr1:826796-828040...6 Enhancer"
      ]
     },
     "metadata": {},
     "output_type": "display_data"
    }
   ],
   "source": [
    "dat = bind_rows(\n",
    "    dat_region_fcc_vote_enh,\n",
    "    dat_region_fcc_vote_rep,\n",
    "    dat_region_fcc_vote_rep_pgc\n",
    ")\n",
    "dat = dat %>% \n",
    "    tidyr::separate(Region, into = c(\"Chrom\", \"ChromStart\", \"ChromEnd\"), remove = FALSE) %>%\n",
    "    dplyr::select(Chrom, ChromStart, ChromEnd, Region, Num_Assay, Type)\n",
    "\n",
    "dat_region_fcc_vote_merge = dat\n",
    "print(dim(dat))\n",
    "head(dat)"
   ]
  },
  {
   "cell_type": "code",
   "execution_count": null,
   "id": "658c1d8b-0fa4-4c2e-bb90-75de22a90894",
   "metadata": {},
   "outputs": [],
   "source": []
  },
  {
   "cell_type": "code",
   "execution_count": 20,
   "id": "94e51de9-a165-4cb1-8401-768e52ed1347",
   "metadata": {},
   "outputs": [],
   "source": [
    "txt_fdiry = file.path(\n",
    "    FD_RES, \n",
    "    \"region_annotation\", \n",
    "    \"fcc_astarr_macs_input_overlap\",\n",
    "    \"summary2\"\n",
    ")\n",
    "txt_fname = \"result.summary.fcc_peak_call.assayvote.gcfilter.tsv\"\n",
    "txt_fpath = file.path(txt_fdiry, txt_fname)\n",
    "\n",
    "dat = dat_region_fcc_vote_merge\n",
    "\n",
    "write_tsv(dat, txt_fpath)"
   ]
  },
  {
   "cell_type": "code",
   "execution_count": 21,
   "id": "2cee7836-57bc-4a28-bd84-cc4ee8ff45be",
   "metadata": {},
   "outputs": [
    {
     "data": {
      "text/html": [
       "<table class=\"dataframe\">\n",
       "<caption>A table: 5 × 4 of type dbl</caption>\n",
       "<thead>\n",
       "\t<tr><th></th><th scope=col>Enhancer</th><th scope=col>Repressor</th><th scope=col>Repressor_GCFilter</th><th scope=col>Sum</th></tr>\n",
       "</thead>\n",
       "<tbody>\n",
       "\t<tr><th scope=row>1</th><td>27403</td><td>71923</td><td>51591</td><td>150917</td></tr>\n",
       "\t<tr><th scope=row>2</th><td>13617</td><td> 2610</td><td> 1599</td><td> 17826</td></tr>\n",
       "\t<tr><th scope=row>3</th><td> 6609</td><td>    9</td><td>    3</td><td>  6621</td></tr>\n",
       "\t<tr><th scope=row>4</th><td>   57</td><td>    0</td><td>    0</td><td>    57</td></tr>\n",
       "\t<tr><th scope=row>Sum</th><td>47686</td><td>74542</td><td>53193</td><td>175421</td></tr>\n",
       "</tbody>\n",
       "</table>\n"
      ],
      "text/latex": [
       "A table: 5 × 4 of type dbl\n",
       "\\begin{tabular}{r|llll}\n",
       "  & Enhancer & Repressor & Repressor\\_GCFilter & Sum\\\\\n",
       "\\hline\n",
       "\t1 & 27403 & 71923 & 51591 & 150917\\\\\n",
       "\t2 & 13617 &  2610 &  1599 &  17826\\\\\n",
       "\t3 &  6609 &     9 &     3 &   6621\\\\\n",
       "\t4 &    57 &     0 &     0 &     57\\\\\n",
       "\tSum & 47686 & 74542 & 53193 & 175421\\\\\n",
       "\\end{tabular}\n"
      ],
      "text/markdown": [
       "\n",
       "A table: 5 × 4 of type dbl\n",
       "\n",
       "| <!--/--> | Enhancer | Repressor | Repressor_GCFilter | Sum |\n",
       "|---|---|---|---|---|\n",
       "| 1 | 27403 | 71923 | 51591 | 150917 |\n",
       "| 2 | 13617 |  2610 |  1599 |  17826 |\n",
       "| 3 |  6609 |     9 |     3 |   6621 |\n",
       "| 4 |    57 |     0 |     0 |     57 |\n",
       "| Sum | 47686 | 74542 | 53193 | 175421 |\n",
       "\n"
      ],
      "text/plain": [
       "     \n",
       "      Enhancer Repressor Repressor_GCFilter Sum   \n",
       "  1   27403    71923     51591              150917\n",
       "  2   13617     2610      1599               17826\n",
       "  3    6609        9         3                6621\n",
       "  4      57        0         0                  57\n",
       "  Sum 47686    74542     53193              175421"
      ]
     },
     "metadata": {},
     "output_type": "display_data"
    }
   ],
   "source": [
    "addmargins(table(dat$Num_Assay, dat$Type))"
   ]
  },
  {
   "cell_type": "code",
   "execution_count": null,
   "id": "8d695791-d891-4952-b7b1-af133a8abd2a",
   "metadata": {},
   "outputs": [],
   "source": []
  },
  {
   "cell_type": "code",
   "execution_count": null,
   "id": "b8d4f22a-b25d-4617-95d4-6e6569ba46d2",
   "metadata": {},
   "outputs": [],
   "source": []
  },
  {
   "cell_type": "code",
   "execution_count": null,
   "id": "ec81ed99-68ad-45af-851d-40fec181b114",
   "metadata": {},
   "outputs": [],
   "source": []
  },
  {
   "cell_type": "code",
   "execution_count": null,
   "id": "0e6af436-05d2-4057-b90b-4b834cf3fd8c",
   "metadata": {},
   "outputs": [],
   "source": []
  },
  {
   "cell_type": "code",
   "execution_count": 28,
   "id": "d8d305f3-13c7-47b9-92d2-de0098290b0b",
   "metadata": {},
   "outputs": [
    {
     "name": "stdout",
     "output_type": "stream",
     "text": [
      "47686 / 115953 \n"
     ]
    }
   ],
   "source": [
    "dat = dat_region_annot_fcc\n",
    "dat = dat %>% \n",
    "    dplyr::select(Region, ends_with(\"_A\")) %>% \n",
    "    tibble::column_to_rownames(var=\"Region\")\n",
    "\n",
    "vec = apply(dat, 1, sum)\n",
    "idx = (vec > 0)\n",
    "vec = names(vec[idx])\n",
    "\n",
    "dat = data.frame(\n",
    "    Region    = vec,\n",
    "    Num_Assay = 1L,\n",
    "    Type      = \"Enhancer\"\n",
    ")\n",
    "\n",
    "dat_region_fcc_vote1_enh = dat\n",
    "cat(sum(idx), \"/\", length(idx), \"\\n\")"
   ]
  },
  {
   "cell_type": "code",
   "execution_count": 30,
   "id": "ffa08cc9-0bcf-48e7-87bc-2eb311f32835",
   "metadata": {},
   "outputs": [
    {
     "name": "stdout",
     "output_type": "stream",
     "text": [
      "74542 / 115953 \n"
     ]
    }
   ],
   "source": [
    "dat = dat_region_annot_fcc\n",
    "dat = dat %>% \n",
    "    dplyr::select(Region, ends_with(\"_R\")) %>% \n",
    "    tibble::column_to_rownames(var=\"Region\")\n",
    "\n",
    "vec = apply(dat, 1, sum)\n",
    "idx = (vec > 0)\n",
    "vec = names(vec[idx])\n",
    "\n",
    "dat = data.frame(\n",
    "    Region    = vec,\n",
    "    Num_Assay = 1L,\n",
    "    Type      = \"Repressor\"\n",
    ")\n",
    "\n",
    "dat_region_fcc_vote1_rep = dat\n",
    "cat(sum(idx), \"/\", length(idx), \"\\n\")"
   ]
  },
  {
   "cell_type": "code",
   "execution_count": 31,
   "id": "8fa57828-09be-4cf0-bd6a-5f65991f26bd",
   "metadata": {},
   "outputs": [
    {
     "name": "stdout",
     "output_type": "stream",
     "text": [
      "53193 / 115953 \n"
     ]
    }
   ],
   "source": [
    "dat = dat_region_annot_fcc_pgc\n",
    "dat = dat %>% \n",
    "    dplyr::select(Region, ASTARR_R_GC, ends_with(\"_R\")) %>%\n",
    "    dplyr::select(-ASTARR_R) %>% \n",
    "    tibble::column_to_rownames(var=\"Region\")\n",
    "\n",
    "vec = apply(dat, 1, sum)\n",
    "idx = (vec > 0)\n",
    "vec = names(vec[idx])\n",
    "\n",
    "dat = data.frame(\n",
    "    Region    = vec,\n",
    "    Num_Assay = 1L,\n",
    "    Type      = \"Repressor_GCFilter\"\n",
    ")\n",
    "\n",
    "dat_region_fcc_vote1_rep_pgc = dat\n",
    "cat(sum(idx), \"/\", length(idx), \"\\n\")"
   ]
  },
  {
   "cell_type": "code",
   "execution_count": null,
   "id": "b9e4e0e0-2a1f-4509-ae08-924df3e7408b",
   "metadata": {},
   "outputs": [],
   "source": []
  },
  {
   "cell_type": "code",
   "execution_count": 32,
   "id": "5cdd7905-db36-42d5-bb3c-733fbc000902",
   "metadata": {},
   "outputs": [
    {
     "name": "stdout",
     "output_type": "stream",
     "text": [
      "20283 / 115953 \n"
     ]
    }
   ],
   "source": [
    "dat = dat_region_annot_fcc\n",
    "dat = dat %>% \n",
    "    dplyr::select(Region, ends_with(\"_A\")) %>% \n",
    "    tibble::column_to_rownames(var=\"Region\")\n",
    "\n",
    "vec = apply(dat, 1, sum)\n",
    "idx = (vec > 1)\n",
    "vec = names(vec[idx])\n",
    "\n",
    "dat = data.frame(\n",
    "    Region    = vec,\n",
    "    Num_Assay = 2L,\n",
    "    Type      = \"Enhancer\"\n",
    ")\n",
    "\n",
    "dat_region_fcc_vote2_enh = dat\n",
    "cat(sum(idx), \"/\", length(idx), \"\\n\")"
   ]
  },
  {
   "cell_type": "code",
   "execution_count": 33,
   "id": "995a57d2-4f49-4ddf-ac9d-cd4709805977",
   "metadata": {},
   "outputs": [
    {
     "name": "stdout",
     "output_type": "stream",
     "text": [
      "2619 / 115953 \n"
     ]
    }
   ],
   "source": [
    "dat = dat_region_annot_fcc\n",
    "dat = dat %>% \n",
    "    dplyr::select(Region, ends_with(\"_R\")) %>% \n",
    "    tibble::column_to_rownames(var=\"Region\")\n",
    "\n",
    "vec = apply(dat, 1, sum)\n",
    "idx = (vec > 1)\n",
    "vec = names(vec[idx])\n",
    "\n",
    "dat = data.frame(\n",
    "    Region    = vec,\n",
    "    Num_Assay = 2L,\n",
    "    Type      = \"Repressor\"\n",
    ")\n",
    "\n",
    "dat_region_fcc_vote2_rep = dat\n",
    "cat(sum(idx), \"/\", length(idx), \"\\n\")"
   ]
  },
  {
   "cell_type": "code",
   "execution_count": 34,
   "id": "89185678-327e-4bc1-be79-4123b0ff7868",
   "metadata": {},
   "outputs": [
    {
     "name": "stdout",
     "output_type": "stream",
     "text": [
      "1602 / 115953 \n"
     ]
    }
   ],
   "source": [
    "dat = dat_region_annot_fcc_pgc\n",
    "dat = dat %>% \n",
    "    dplyr::select(Region, ASTARR_R_GC, ends_with(\"_R\")) %>%\n",
    "    dplyr::select(-ASTARR_R) %>% \n",
    "    tibble::column_to_rownames(var=\"Region\")\n",
    "\n",
    "vec = apply(dat, 1, sum)\n",
    "idx = (vec > 1)\n",
    "vec = names(vec[idx])\n",
    "\n",
    "dat = data.frame(\n",
    "    Region    = vec,\n",
    "    Num_Assay = 2L,\n",
    "    Type      = \"Repressor_GCFilter\"\n",
    ")\n",
    "\n",
    "dat_region_fcc_vote2_rep_pgc = dat\n",
    "cat(sum(idx), \"/\", length(idx), \"\\n\")"
   ]
  },
  {
   "cell_type": "code",
   "execution_count": null,
   "id": "6922810d-c41f-4f96-b2b4-874e60c8d75d",
   "metadata": {},
   "outputs": [],
   "source": []
  },
  {
   "cell_type": "code",
   "execution_count": 36,
   "id": "1bbe0e75-9d69-487a-b81d-ea74fa4125f2",
   "metadata": {},
   "outputs": [],
   "source": [
    "txt_fdiry = file.path(\n",
    "    FD_RES, \n",
    "    \"region_annotation\", \n",
    "    \"fcc_astarr_macs_input_overlap\",\n",
    "    \"summary2\"\n",
    ")\n",
    "txt_fname = \"result.summary.fcc_peak_call.assayvote.gcfilter.tsv\"\n",
    "txt_fpath = file.path(txt_fdiry, txt_fname)\n",
    "\n",
    "dat = bind_rows(\n",
    "    dat_region_fcc_vote1_enh,\n",
    "    dat_region_fcc_vote1_rep,\n",
    "    dat_region_fcc_vote1_rep_pgc,\n",
    "    dat_region_fcc_vote2_enh,\n",
    "    dat_region_fcc_vote2_rep,\n",
    "    dat_region_fcc_vote2_rep_pgc\n",
    ")\n",
    "\n",
    "write_tsv(dat, txt_fpath)"
   ]
  },
  {
   "cell_type": "code",
   "execution_count": null,
   "id": "02132bda-96a0-41f4-8647-cc79cd4ea8fb",
   "metadata": {},
   "outputs": [],
   "source": []
  },
  {
   "cell_type": "code",
   "execution_count": null,
   "id": "0bcabaf3-27b1-4ef6-a935-b36fa594da44",
   "metadata": {},
   "outputs": [],
   "source": []
  },
  {
   "cell_type": "code",
   "execution_count": 30,
   "id": "7743a92d-e402-4a60-88f5-edbaf05ec62d",
   "metadata": {},
   "outputs": [
    {
     "name": "stdout",
     "output_type": "stream",
     "text": [
      "[1] 22517\n"
     ]
    }
   ],
   "source": [
    "vec = c(vec_txt_fcc_vote1_enh, vec_txt_fcc_vote1_rep)\n",
    "vec = unique(vec)\n",
    "vec_txt_fcc_ = vec\n",
    "print(length(vec))"
   ]
  },
  {
   "cell_type": "code",
   "execution_count": 31,
   "id": "9e2f8488-ea81-4d7e-90f7-5d249aa30228",
   "metadata": {},
   "outputs": [
    {
     "name": "stdout",
     "output_type": "stream",
     "text": [
      "[1] 21721\n"
     ]
    }
   ],
   "source": [
    "vec = c(vec_txt_fcc_enh, vec_txt_fcc_rep_pgc)\n",
    "vec = unique(vec)\n",
    "vec_txt_fcc = vec\n",
    "print(length(vec))"
   ]
  },
  {
   "cell_type": "code",
   "execution_count": 36,
   "id": "39e96f96-3d63-46c9-bcf9-c2650ab29a3f",
   "metadata": {},
   "outputs": [
    {
     "name": "stdout",
     "output_type": "stream",
     "text": [
      "$CRES_AssayVote2\n",
      "[1] 22517\n",
      "\n",
      "$CRES_AssayVote2_GCFilter\n",
      "[1] 21721\n",
      "\n"
     ]
    }
   ],
   "source": [
    "lst = list(\n",
    "    \"CRES_AssayVote2\"          = unique(c(vec_txt_fcc_enh, vec_txt_fcc_rep)),\n",
    "    \"CRES_AssayVote2_GCFilter\" = unique(c(vec_txt_fcc_enh, vec_txt_fcc_rep_pgc))\n",
    ")\n",
    "print(lapply(lst, length))"
   ]
  },
  {
   "cell_type": "code",
   "execution_count": 37,
   "id": "9aac559f-e1c4-4510-826b-9284169a6590",
   "metadata": {},
   "outputs": [],
   "source": [
    "txt_fdiry = file.path(\n",
    "    FD_RES, \n",
    "    \"region_annotation\", \n",
    "    \"fcc_astarr_macs_input_overlap\",\n",
    "    \"summary\"\n",
    ")\n",
    "txt_fname = \"region.fcc_peak_call.assayvote2.RDS\"\n",
    "txt_fpath = file.path(txt_fdiry, txt_fname)\n",
    "\n",
    "lst = list(\n",
    "    \"CRES_AssayVote2\"          = unique(c(vec_txt_fcc_enh, vec_txt_fcc_rep)),\n",
    "    \"CRES_AssayVote2_GCFilter\" = unique(c(vec_txt_fcc_enh, vec_txt_fcc_rep_pgc))\n",
    ")\n",
    "\n",
    "saveRDS(lst, txt_fpath)"
   ]
  },
  {
   "cell_type": "code",
   "execution_count": null,
   "id": "d7c5b1cf-7d78-4183-833b-adbfa838582a",
   "metadata": {},
   "outputs": [],
   "source": []
  },
  {
   "cell_type": "code",
   "execution_count": null,
   "id": "404c1cab-8d7a-4113-8d24-1047a2b0723b",
   "metadata": {},
   "outputs": [],
   "source": []
  },
  {
   "cell_type": "code",
   "execution_count": null,
   "id": "88327844-e609-4fe9-a980-920b4c072d77",
   "metadata": {},
   "outputs": [],
   "source": []
  },
  {
   "cell_type": "code",
   "execution_count": null,
   "id": "241c8586-4d8e-4055-ae45-7b075b6b7173",
   "metadata": {},
   "outputs": [],
   "source": []
  },
  {
   "cell_type": "code",
   "execution_count": null,
   "id": "deb63c4b-3230-4748-a63a-7b2d52dd603d",
   "metadata": {},
   "outputs": [],
   "source": []
  },
  {
   "cell_type": "code",
   "execution_count": null,
   "id": "74ceb5b8-d11b-47db-bb5c-f472fb7040c6",
   "metadata": {},
   "outputs": [],
   "source": []
  },
  {
   "cell_type": "code",
   "execution_count": null,
   "id": "3eec4e80-d936-479b-a11c-f83eceaf4a95",
   "metadata": {},
   "outputs": [],
   "source": []
  }
 ],
 "metadata": {
  "kernelspec": {
   "display_name": "R",
   "language": "R",
   "name": "ir"
  },
  "language_info": {
   "codemirror_mode": "r",
   "file_extension": ".r",
   "mimetype": "text/x-r-source",
   "name": "R",
   "pygments_lexer": "r",
   "version": "4.4.1"
  }
 },
 "nbformat": 4,
 "nbformat_minor": 5
}
