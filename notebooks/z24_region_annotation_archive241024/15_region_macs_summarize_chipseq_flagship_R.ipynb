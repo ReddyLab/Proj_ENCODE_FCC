{
 "cells": [
  {
   "cell_type": "raw",
   "id": "433728f3-90cc-4866-9c92-74d4207c9a78",
   "metadata": {},
   "source": [
    "---\n",
    "title: Region annotation 15 (ASTARR MACS peaks)\n",
    "subtitle: Summarize annotations (ChIP-seq; TF; Flagship)\n",
    "format:\n",
    "    html:\n",
    "        code-fold:  true\n",
    "        code-tools: true\n",
    "---"
   ]
  },
  {
   "cell_type": "markdown",
   "id": "a5f52697-11c2-4fc5-b4ee-78aaef87cccb",
   "metadata": {},
   "source": [
    "**Set environment**"
   ]
  },
  {
   "cell_type": "code",
   "execution_count": 1,
   "id": "41a97a2a-26c3-4a7d-ba50-dcdc7c9dbc6e",
   "metadata": {
    "tags": []
   },
   "outputs": [
    {
     "name": "stdout",
     "output_type": "stream",
     "text": [
      "You are working on        Singularity \n",
      "BASE DIRECTORY (FD_BASE): /mount \n",
      "REPO DIRECTORY (FD_REPO): /mount/repo \n",
      "WORK DIRECTORY (FD_WORK): /mount/work \n",
      "DATA DIRECTORY (FD_DATA): /mount/data \n",
      "\n",
      "You are working with      ENCODE FCC \n",
      "PATH OF PROJECT (FD_PRJ): /mount/repo/Proj_ENCODE_FCC \n",
      "PROJECT RESULTS (FD_RES): /mount/repo/Proj_ENCODE_FCC/results \n",
      "PROJECT SCRIPTS (FD_EXE): /mount/repo/Proj_ENCODE_FCC/scripts \n",
      "PROJECT DATA    (FD_DAT): /mount/repo/Proj_ENCODE_FCC/data \n",
      "PROJECT NOTE    (FD_NBK): /mount/repo/Proj_ENCODE_FCC/notebooks \n",
      "PROJECT DOCS    (FD_DOC): /mount/repo/Proj_ENCODE_FCC/docs \n",
      "PROJECT LOG     (FD_LOG): /mount/repo/Proj_ENCODE_FCC/log \n",
      "PROJECT APP     (FD_APP): /mount/repo/Proj_ENCODE_FCC/app \n",
      "PROJECT REF     (FD_REF): /mount/repo/Proj_ENCODE_FCC/references \n",
      "\n"
     ]
    }
   ],
   "source": [
    "suppressMessages(suppressWarnings(source(\"../run_config_project_sing.R\")))\n",
    "show_env()"
   ]
  },
  {
   "cell_type": "markdown",
   "id": "2d4eca6e-b12b-4417-a0bc-682f07636923",
   "metadata": {},
   "source": [
    "**Set global variables**"
   ]
  },
  {
   "cell_type": "code",
   "execution_count": 2,
   "id": "c4994247-1c2f-4120-a22f-1a7915d934c2",
   "metadata": {},
   "outputs": [
    {
     "name": "stdout",
     "output_type": "stream",
     "text": [
      "metadata.label.astarr_macs.tsv \n",
      "metadata.label.chipseq_full.tsv \n",
      "metadata.label.chipseq_subset.tsv \n",
      "metadata.label.main.tsv \n",
      "metadata.label.ocr.tsv \n"
     ]
    }
   ],
   "source": [
    "txt_fdiry = file.path(FD_RES, \"region\", \"summary\")\n",
    "vec = dir(txt_fdiry)\n",
    "for (txt in vec){cat(txt, \"\\n\")}"
   ]
  },
  {
   "cell_type": "code",
   "execution_count": 3,
   "id": "68498eb0-bbfd-46fa-9a37-bc2df4aac0a5",
   "metadata": {},
   "outputs": [],
   "source": [
    "TXT_FDIRY_REGION_LABEL   = file.path(FD_RES, \"region\", \"summary\")\n",
    "TXT_FNAME_REGION_LABEL_A = \"metadata.label.astarr_macs.tsv\"\n",
    "TXT_FNAME_REGION_LABEL_B = \"metadata.label.chipseq_full.tsv\""
   ]
  },
  {
   "cell_type": "markdown",
   "id": "c3e12cb3-b0c3-4fb1-9c96-30aedbb1592d",
   "metadata": {},
   "source": [
    "## Import data"
   ]
  },
  {
   "cell_type": "code",
   "execution_count": 4,
   "id": "00db043b-53d0-4ab6-b480-61e9cd70af02",
   "metadata": {},
   "outputs": [
    {
     "data": {
      "text/html": [
       "<table class=\"dataframe\">\n",
       "<caption>A spec_tbl_df: 2 × 3</caption>\n",
       "<thead>\n",
       "\t<tr><th scope=col>Folder</th><th scope=col>FName</th><th scope=col>Label</th></tr>\n",
       "\t<tr><th scope=col>&lt;chr&gt;</th><th scope=col>&lt;chr&gt;</th><th scope=col>&lt;chr&gt;</th></tr>\n",
       "</thead>\n",
       "<tbody>\n",
       "\t<tr><td>fcc_astarr_macs</td><td>K562.hg38.ASTARR.macs.KS91.input.rep_all.max_overlaps.q5.bed.gz</td><td>fcc_astarr_macs_input_overlap</td></tr>\n",
       "\t<tr><td>fcc_astarr_macs</td><td>K562.hg38.ASTARR.macs.KS91.input.rep_all.union.q5.bed.gz       </td><td>fcc_astarr_macs_input_union  </td></tr>\n",
       "</tbody>\n",
       "</table>\n"
      ],
      "text/latex": [
       "A spec\\_tbl\\_df: 2 × 3\n",
       "\\begin{tabular}{lll}\n",
       " Folder & FName & Label\\\\\n",
       " <chr> & <chr> & <chr>\\\\\n",
       "\\hline\n",
       "\t fcc\\_astarr\\_macs & K562.hg38.ASTARR.macs.KS91.input.rep\\_all.max\\_overlaps.q5.bed.gz & fcc\\_astarr\\_macs\\_input\\_overlap\\\\\n",
       "\t fcc\\_astarr\\_macs & K562.hg38.ASTARR.macs.KS91.input.rep\\_all.union.q5.bed.gz        & fcc\\_astarr\\_macs\\_input\\_union  \\\\\n",
       "\\end{tabular}\n"
      ],
      "text/markdown": [
       "\n",
       "A spec_tbl_df: 2 × 3\n",
       "\n",
       "| Folder &lt;chr&gt; | FName &lt;chr&gt; | Label &lt;chr&gt; |\n",
       "|---|---|---|\n",
       "| fcc_astarr_macs | K562.hg38.ASTARR.macs.KS91.input.rep_all.max_overlaps.q5.bed.gz | fcc_astarr_macs_input_overlap |\n",
       "| fcc_astarr_macs | K562.hg38.ASTARR.macs.KS91.input.rep_all.union.q5.bed.gz        | fcc_astarr_macs_input_union   |\n",
       "\n"
      ],
      "text/plain": [
       "  Folder         \n",
       "1 fcc_astarr_macs\n",
       "2 fcc_astarr_macs\n",
       "  FName                                                          \n",
       "1 K562.hg38.ASTARR.macs.KS91.input.rep_all.max_overlaps.q5.bed.gz\n",
       "2 K562.hg38.ASTARR.macs.KS91.input.rep_all.union.q5.bed.gz       \n",
       "  Label                        \n",
       "1 fcc_astarr_macs_input_overlap\n",
       "2 fcc_astarr_macs_input_union  "
      ]
     },
     "metadata": {},
     "output_type": "display_data"
    }
   ],
   "source": [
    "txt_fdiry = TXT_FDIRY_REGION_LABEL\n",
    "txt_fname = TXT_FNAME_REGION_LABEL_A\n",
    "txt_fpath = file.path(txt_fdiry, txt_fname)\n",
    "\n",
    "dat_region_label_A = read_tsv(txt_fpath, show_col_types = FALSE)\n",
    "dat_region_label_A"
   ]
  },
  {
   "cell_type": "code",
   "execution_count": 5,
   "id": "d14e1054-88ad-4f53-bf59-38d8d6bbecd3",
   "metadata": {},
   "outputs": [
    {
     "data": {
      "text/html": [
       "<table class=\"dataframe\">\n",
       "<caption>A tibble: 6 × 3</caption>\n",
       "<thead>\n",
       "\t<tr><th scope=col>Folder</th><th scope=col>FName</th><th scope=col>Label</th></tr>\n",
       "\t<tr><th scope=col>&lt;chr&gt;</th><th scope=col>&lt;chr&gt;</th><th scope=col>&lt;chr&gt;</th></tr>\n",
       "</thead>\n",
       "<tbody>\n",
       "\t<tr><td>encode_chipseq_flagship</td><td>ENCFF003LPE.bed.gz</td><td>encode_chipseq_RUNX1_ENCFF003LPE </td></tr>\n",
       "\t<tr><td>encode_chipseq_flagship</td><td>ENCFF004HXL.bed.gz</td><td>encode_chipseq_FOSL1_ENCFF004HXL </td></tr>\n",
       "\t<tr><td>encode_chipseq_flagship</td><td>ENCFF004YCK.bed.gz</td><td>encode_chipseq_ZNF740_ENCFF004YCK</td></tr>\n",
       "\t<tr><td>encode_chipseq_flagship</td><td>ENCFF005MBI.bed.gz</td><td>encode_chipseq_ZNF584_ENCFF005MBI</td></tr>\n",
       "\t<tr><td>encode_chipseq_flagship</td><td>ENCFF009RFC.bed.gz</td><td>encode_chipseq_GABPB1_ENCFF009RFC</td></tr>\n",
       "\t<tr><td>encode_chipseq_flagship</td><td>ENCFF014HYS.bed.gz</td><td>encode_chipseq_ZNF84_ENCFF014HYS </td></tr>\n",
       "</tbody>\n",
       "</table>\n"
      ],
      "text/latex": [
       "A tibble: 6 × 3\n",
       "\\begin{tabular}{lll}\n",
       " Folder & FName & Label\\\\\n",
       " <chr> & <chr> & <chr>\\\\\n",
       "\\hline\n",
       "\t encode\\_chipseq\\_flagship & ENCFF003LPE.bed.gz & encode\\_chipseq\\_RUNX1\\_ENCFF003LPE \\\\\n",
       "\t encode\\_chipseq\\_flagship & ENCFF004HXL.bed.gz & encode\\_chipseq\\_FOSL1\\_ENCFF004HXL \\\\\n",
       "\t encode\\_chipseq\\_flagship & ENCFF004YCK.bed.gz & encode\\_chipseq\\_ZNF740\\_ENCFF004YCK\\\\\n",
       "\t encode\\_chipseq\\_flagship & ENCFF005MBI.bed.gz & encode\\_chipseq\\_ZNF584\\_ENCFF005MBI\\\\\n",
       "\t encode\\_chipseq\\_flagship & ENCFF009RFC.bed.gz & encode\\_chipseq\\_GABPB1\\_ENCFF009RFC\\\\\n",
       "\t encode\\_chipseq\\_flagship & ENCFF014HYS.bed.gz & encode\\_chipseq\\_ZNF84\\_ENCFF014HYS \\\\\n",
       "\\end{tabular}\n"
      ],
      "text/markdown": [
       "\n",
       "A tibble: 6 × 3\n",
       "\n",
       "| Folder &lt;chr&gt; | FName &lt;chr&gt; | Label &lt;chr&gt; |\n",
       "|---|---|---|\n",
       "| encode_chipseq_flagship | ENCFF003LPE.bed.gz | encode_chipseq_RUNX1_ENCFF003LPE  |\n",
       "| encode_chipseq_flagship | ENCFF004HXL.bed.gz | encode_chipseq_FOSL1_ENCFF004HXL  |\n",
       "| encode_chipseq_flagship | ENCFF004YCK.bed.gz | encode_chipseq_ZNF740_ENCFF004YCK |\n",
       "| encode_chipseq_flagship | ENCFF005MBI.bed.gz | encode_chipseq_ZNF584_ENCFF005MBI |\n",
       "| encode_chipseq_flagship | ENCFF009RFC.bed.gz | encode_chipseq_GABPB1_ENCFF009RFC |\n",
       "| encode_chipseq_flagship | ENCFF014HYS.bed.gz | encode_chipseq_ZNF84_ENCFF014HYS  |\n",
       "\n"
      ],
      "text/plain": [
       "  Folder                  FName              Label                            \n",
       "1 encode_chipseq_flagship ENCFF003LPE.bed.gz encode_chipseq_RUNX1_ENCFF003LPE \n",
       "2 encode_chipseq_flagship ENCFF004HXL.bed.gz encode_chipseq_FOSL1_ENCFF004HXL \n",
       "3 encode_chipseq_flagship ENCFF004YCK.bed.gz encode_chipseq_ZNF740_ENCFF004YCK\n",
       "4 encode_chipseq_flagship ENCFF005MBI.bed.gz encode_chipseq_ZNF584_ENCFF005MBI\n",
       "5 encode_chipseq_flagship ENCFF009RFC.bed.gz encode_chipseq_GABPB1_ENCFF009RFC\n",
       "6 encode_chipseq_flagship ENCFF014HYS.bed.gz encode_chipseq_ZNF84_ENCFF014HYS "
      ]
     },
     "metadata": {},
     "output_type": "display_data"
    }
   ],
   "source": [
    "txt_fdiry = TXT_FDIRY_REGION_LABEL\n",
    "txt_fname = TXT_FNAME_REGION_LABEL_B\n",
    "txt_fpath = file.path(txt_fdiry, txt_fname)\n",
    "\n",
    "dat_region_label_B = read_tsv(txt_fpath, show_col_types = FALSE)\n",
    "head(dat_region_label_B)"
   ]
  },
  {
   "cell_type": "markdown",
   "id": "c146117c-9246-49a2-b1e8-5f4303682c10",
   "metadata": {},
   "source": [
    "**Check colnumn names**"
   ]
  },
  {
   "cell_type": "code",
   "execution_count": 6,
   "id": "b8905bbe-7e07-426c-adc8-23bd0bad412b",
   "metadata": {},
   "outputs": [
    {
     "name": "stdout",
     "output_type": "stream",
     "text": [
      "fcc_astarr_macs \n",
      "[1] \"Chrom\"      \"ChromStart\" \"ChromEnd\"  \n",
      "\n"
     ]
    }
   ],
   "source": [
    "dat = dat_region_label_A\n",
    "vec = unique(dat$Folder)\n",
    "vec_txt_region_folder_A = vec\n",
    "\n",
    "for (txt_region_folder_A in vec_txt_region_folder_A){\n",
    "    ### get column names for region A\n",
    "    txt_fdiry = file.path(FD_RES, \"region\", txt_region_folder_A, \"summary\")\n",
    "    txt_fname = \"description.tsv\"\n",
    "    txt_fpath = file.path(txt_fdiry, txt_fname)\n",
    "    dat_cname = read_tsv(txt_fpath, show_col_types = FALSE)\n",
    "    vec_txt_cname_A = dat_cname$Name\n",
    "\n",
    "    ### show results\n",
    "    cat(txt_region_folder_A, \"\\n\")\n",
    "    print(vec_txt_cname_A)\n",
    "    cat(\"\\n\")\n",
    "}"
   ]
  },
  {
   "cell_type": "code",
   "execution_count": 7,
   "id": "c63bd299-7d51-46c9-8717-3e56b052be24",
   "metadata": {},
   "outputs": [
    {
     "name": "stdout",
     "output_type": "stream",
     "text": [
      "encode_chipseq_flagship \n",
      " [1] \"Chrom\"       \"ChromStart\"  \"ChromEnd\"    \"Name\"        \"Score\"      \n",
      " [6] \"Strand\"      \"SignalValue\" \"PValue\"      \"QValue\"      \"Peak\"       \n",
      "\n",
      "encode_chipseq_histone \n",
      " [1] \"Chrom\"       \"ChromStart\"  \"ChromEnd\"    \"Name\"        \"Score\"      \n",
      " [6] \"Strand\"      \"SignalValue\" \"PValue\"      \"QValue\"      \"Peak\"       \n",
      "\n"
     ]
    }
   ],
   "source": [
    "dat = dat_region_label_B\n",
    "vec = unique(dat$Folder)\n",
    "vec_txt_region_folder_B = vec\n",
    "\n",
    "for (txt_region_folder_B in vec_txt_region_folder_B){\n",
    "    ### get column names for region B\n",
    "    txt_fdiry = file.path(FD_RES, \"region\", txt_region_folder_B, \"summary\")\n",
    "    txt_fname = \"description.tsv\"\n",
    "    txt_fpath = file.path(txt_fdiry, txt_fname)\n",
    "    dat_cname = read_tsv(txt_fpath, show_col_types = FALSE)\n",
    "    vec_txt_cname_B = dat_cname$Name\n",
    "\n",
    "    ### show results\n",
    "    cat(txt_region_folder_B, \"\\n\")\n",
    "    print(vec_txt_cname_B)\n",
    "    cat(\"\\n\")\n",
    "}"
   ]
  },
  {
   "cell_type": "markdown",
   "id": "99f5a1c5-5fde-4d5d-8482-98836d23c554",
   "metadata": {},
   "source": [
    "## Main"
   ]
  },
  {
   "cell_type": "code",
   "execution_count": 8,
   "id": "ae4d3468-f8a1-4907-86c2-1b0064995e64",
   "metadata": {},
   "outputs": [
    {
     "data": {
      "text/html": [
       "<dl>\n",
       "\t<dt>$`1`</dt>\n",
       "\t\t<dd><dl>\n",
       "\t<dt>$Folder</dt>\n",
       "\t\t<dd>'fcc_astarr_macs'</dd>\n",
       "\t<dt>$FName</dt>\n",
       "\t\t<dd>'K562.hg38.ASTARR.macs.KS91.input.rep_all.max_overlaps.q5.bed.gz'</dd>\n",
       "\t<dt>$Label</dt>\n",
       "\t\t<dd>'fcc_astarr_macs_input_overlap'</dd>\n",
       "</dl>\n",
       "</dd>\n",
       "\t<dt>$`2`</dt>\n",
       "\t\t<dd><dl>\n",
       "\t<dt>$Folder</dt>\n",
       "\t\t<dd>'fcc_astarr_macs'</dd>\n",
       "\t<dt>$FName</dt>\n",
       "\t\t<dd>'K562.hg38.ASTARR.macs.KS91.input.rep_all.union.q5.bed.gz'</dd>\n",
       "\t<dt>$Label</dt>\n",
       "\t\t<dd>'fcc_astarr_macs_input_union'</dd>\n",
       "</dl>\n",
       "</dd>\n",
       "</dl>\n"
      ],
      "text/latex": [
       "\\begin{description}\n",
       "\\item[\\$`1`] \\begin{description}\n",
       "\\item[\\$Folder] 'fcc\\_astarr\\_macs'\n",
       "\\item[\\$FName] 'K562.hg38.ASTARR.macs.KS91.input.rep\\_all.max\\_overlaps.q5.bed.gz'\n",
       "\\item[\\$Label] 'fcc\\_astarr\\_macs\\_input\\_overlap'\n",
       "\\end{description}\n",
       "\n",
       "\\item[\\$`2`] \\begin{description}\n",
       "\\item[\\$Folder] 'fcc\\_astarr\\_macs'\n",
       "\\item[\\$FName] 'K562.hg38.ASTARR.macs.KS91.input.rep\\_all.union.q5.bed.gz'\n",
       "\\item[\\$Label] 'fcc\\_astarr\\_macs\\_input\\_union'\n",
       "\\end{description}\n",
       "\n",
       "\\end{description}\n"
      ],
      "text/markdown": [
       "$`1`\n",
       ":   $Folder\n",
       ":   'fcc_astarr_macs'\n",
       "$FName\n",
       ":   'K562.hg38.ASTARR.macs.KS91.input.rep_all.max_overlaps.q5.bed.gz'\n",
       "$Label\n",
       ":   'fcc_astarr_macs_input_overlap'\n",
       "\n",
       "\n",
       "\n",
       "$`2`\n",
       ":   $Folder\n",
       ":   'fcc_astarr_macs'\n",
       "$FName\n",
       ":   'K562.hg38.ASTARR.macs.KS91.input.rep_all.union.q5.bed.gz'\n",
       "$Label\n",
       ":   'fcc_astarr_macs_input_union'\n",
       "\n",
       "\n",
       "\n",
       "\n",
       "\n"
      ],
      "text/plain": [
       "$`1`\n",
       "$`1`$Folder\n",
       "[1] \"fcc_astarr_macs\"\n",
       "\n",
       "$`1`$FName\n",
       "[1] \"K562.hg38.ASTARR.macs.KS91.input.rep_all.max_overlaps.q5.bed.gz\"\n",
       "\n",
       "$`1`$Label\n",
       "[1] \"fcc_astarr_macs_input_overlap\"\n",
       "\n",
       "\n",
       "$`2`\n",
       "$`2`$Folder\n",
       "[1] \"fcc_astarr_macs\"\n",
       "\n",
       "$`2`$FName\n",
       "[1] \"K562.hg38.ASTARR.macs.KS91.input.rep_all.union.q5.bed.gz\"\n",
       "\n",
       "$`2`$Label\n",
       "[1] \"fcc_astarr_macs_input_union\"\n",
       "\n"
      ]
     },
     "metadata": {},
     "output_type": "display_data"
    }
   ],
   "source": [
    "dat = dat_region_label_A\n",
    "lst = split(dat, 1:nrow(dat))\n",
    "lst = lapply(lst, as.list)\n",
    "lst_region_label_A = lst[1]\n",
    "lst"
   ]
  },
  {
   "cell_type": "code",
   "execution_count": 10,
   "id": "53f66400-ed77-43c8-85af-f2b2e4d71d33",
   "metadata": {},
   "outputs": [
    {
     "name": "stdout",
     "output_type": "stream",
     "text": [
      "[1] \"encode_chipseq_flagship\" \"encode_chipseq_histone\" \n"
     ]
    }
   ],
   "source": [
    "dat = dat_region_label_B\n",
    "vec = unique(dat$Folder)\n",
    "print(vec)\n",
    "\n",
    "vec_txt_region_folder_B = \"encode_chipseq_flagship\""
   ]
  },
  {
   "cell_type": "markdown",
   "id": "1d58a2d8-6838-4c07-971d-2ed3b333f5a3",
   "metadata": {},
   "source": [
    "**Loop**"
   ]
  },
  {
   "cell_type": "code",
   "execution_count": 21,
   "id": "b6a22adc-419b-41db-8054-b4e7240ca60e",
   "metadata": {},
   "outputs": [
    {
     "name": "stdout",
     "output_type": "stream",
     "text": [
      "===========================================\n",
      "Read annotation... \n",
      "Region A: fcc_astarr_macs | fcc_astarr_macs_input_overlap \n",
      "Region B: encode_chipseq_flagship \n",
      "FDiry:    \n",
      "[1] \"/mount/repo/Proj_ENCODE_FCC/results/region_annotation/fcc_astarr_macs_input_overlap/encode_chipseq_flagship\"\n",
      "FName:    \n",
      "  [1] \"fcc_astarr_macs_input_overlap.encode_chipseq_ADNP_ENCFF739AJO.bed.gz\"           \n",
      "  [2] \"fcc_astarr_macs_input_overlap.encode_chipseq_AFF1_ENCFF195YGC.bed.gz\"           \n",
      "  [3] \"fcc_astarr_macs_input_overlap.encode_chipseq_AFF1_ENCFF674XTY.bed.gz\"           \n",
      "  [4] \"fcc_astarr_macs_input_overlap.encode_chipseq_AGO1_ENCFF794IRP.bed.gz\"           \n",
      "  [5] \"fcc_astarr_macs_input_overlap.encode_chipseq_ARHGAP35_ENCFF952WKN.bed.gz\"       \n",
      "  [6] \"fcc_astarr_macs_input_overlap.encode_chipseq_ARID1B_ENCFF879NTL.bed.gz\"         \n",
      "  [7] \"fcc_astarr_macs_input_overlap.encode_chipseq_ARID2_ENCFF913WRW.bed.gz\"          \n",
      "  [8] \"fcc_astarr_macs_input_overlap.encode_chipseq_ARID3A_ENCFF891OQP.bed.gz\"         \n",
      "  [9] \"fcc_astarr_macs_input_overlap.encode_chipseq_ARID3B_ENCFF270TSN.bed.gz\"         \n",
      " [10] \"fcc_astarr_macs_input_overlap.encode_chipseq_ARID4B_ENCFF086FAZ.bed.gz\"         \n",
      " [11] \"fcc_astarr_macs_input_overlap.encode_chipseq_ARID4B_ENCFF528IDR.bed.gz\"         \n",
      " [12] \"fcc_astarr_macs_input_overlap.encode_chipseq_ARNT_ENCFF075OIT.bed.gz\"           \n",
      " [13] \"fcc_astarr_macs_input_overlap.encode_chipseq_ARNT_ENCFF553BVI.bed.gz\"           \n",
      " [14] \"fcc_astarr_macs_input_overlap.encode_chipseq_ARNT_ENCFF728ITJ.bed.gz\"           \n",
      " [15] \"fcc_astarr_macs_input_overlap.encode_chipseq_ASH1L_ENCFF553IUR.bed.gz\"          \n",
      " [16] \"fcc_astarr_macs_input_overlap.encode_chipseq_ATF1_ENCFF206BGR.bed.gz\"           \n",
      " [17] \"fcc_astarr_macs_input_overlap.encode_chipseq_ATF1_ENCFF627RSK.bed.gz\"           \n",
      " [18] \"fcc_astarr_macs_input_overlap.encode_chipseq_ATF1_ENCFF793HSJ.bed.gz\"           \n",
      " [19] \"fcc_astarr_macs_input_overlap.encode_chipseq_ATF1_ENCFF924GPK.bed.gz\"           \n",
      " [20] \"fcc_astarr_macs_input_overlap.encode_chipseq_ATF2_ENCFF121HYT.bed.gz\"           \n",
      " [21] \"fcc_astarr_macs_input_overlap.encode_chipseq_ATF2_ENCFF192ASP.bed.gz\"           \n",
      " [22] \"fcc_astarr_macs_input_overlap.encode_chipseq_ATF3_ENCFF107DBQ.bed.gz\"           \n",
      " [23] \"fcc_astarr_macs_input_overlap.encode_chipseq_ATF3_ENCFF556SMM.bed.gz\"           \n",
      " [24] \"fcc_astarr_macs_input_overlap.encode_chipseq_ATF3_ENCFF718VHT.bed.gz\"           \n",
      " [25] \"fcc_astarr_macs_input_overlap.encode_chipseq_ATF3_ENCFF895RNS.bed.gz\"           \n",
      " [26] \"fcc_astarr_macs_input_overlap.encode_chipseq_ATF4_ENCFF086TAD.bed.gz\"           \n",
      " [27] \"fcc_astarr_macs_input_overlap.encode_chipseq_ATF4_ENCFF250MUC.bed.gz\"           \n",
      " [28] \"fcc_astarr_macs_input_overlap.encode_chipseq_ATF6_ENCFF863ZFH.bed.gz\"           \n",
      " [29] \"fcc_astarr_macs_input_overlap.encode_chipseq_ATF7_ENCFF951BFN.bed.gz\"           \n",
      " [30] \"fcc_astarr_macs_input_overlap.encode_chipseq_BACH1_ENCFF026BDA.bed.gz\"          \n",
      " [31] \"fcc_astarr_macs_input_overlap.encode_chipseq_BACH1_ENCFF678TXX.bed.gz\"          \n",
      " [32] \"fcc_astarr_macs_input_overlap.encode_chipseq_BCL6_ENCFF941EDY.bed.gz\"           \n",
      " [33] \"fcc_astarr_macs_input_overlap.encode_chipseq_BCLAF1_ENCFF070ZTX.bed.gz\"         \n",
      " [34] \"fcc_astarr_macs_input_overlap.encode_chipseq_BCLAF1_ENCFF725JXZ.bed.gz\"         \n",
      " [35] \"fcc_astarr_macs_input_overlap.encode_chipseq_BCLAF1_ENCFF941SRW.bed.gz\"         \n",
      " [36] \"fcc_astarr_macs_input_overlap.encode_chipseq_BCOR_ENCFF124FTW.bed.gz\"           \n",
      " [37] \"fcc_astarr_macs_input_overlap.encode_chipseq_BDP1_ENCFF284FTY.bed.gz\"           \n",
      " [38] \"fcc_astarr_macs_input_overlap.encode_chipseq_BHLHE40_ENCFF154IVU.bed.gz\"        \n",
      " [39] \"fcc_astarr_macs_input_overlap.encode_chipseq_BMI1_ENCFF600KEF.bed.gz\"           \n",
      " [40] \"fcc_astarr_macs_input_overlap.encode_chipseq_BRCA1_ENCFF258GDS.bed.gz\"          \n",
      " [41] \"fcc_astarr_macs_input_overlap.encode_chipseq_BRCA1_ENCFF620FIH.bed.gz\"          \n",
      " [42] \"fcc_astarr_macs_input_overlap.encode_chipseq_BRD4_ENCFF130JVF.bed.gz\"           \n",
      " [43] \"fcc_astarr_macs_input_overlap.encode_chipseq_BRD9_ENCFF775WSL.bed.gz\"           \n",
      " [44] \"fcc_astarr_macs_input_overlap.encode_chipseq_BRF1_ENCFF577LSK.bed.gz\"           \n",
      " [45] \"fcc_astarr_macs_input_overlap.encode_chipseq_BRF2_ENCFF944LWS.bed.gz\"           \n",
      " [46] \"fcc_astarr_macs_input_overlap.encode_chipseq_C11orf30_ENCFF038WQY.bed.gz\"       \n",
      " [47] \"fcc_astarr_macs_input_overlap.encode_chipseq_CAMTA2_ENCFF123IHX.bed.gz\"         \n",
      " [48] \"fcc_astarr_macs_input_overlap.encode_chipseq_CBFA2T2_ENCFF543GET.bed.gz\"        \n",
      " [49] \"fcc_astarr_macs_input_overlap.encode_chipseq_CBFA2T3_ENCFF082DOH.bed.gz\"        \n",
      " [50] \"fcc_astarr_macs_input_overlap.encode_chipseq_CBFB_ENCFF802NHC.bed.gz\"           \n",
      " [51] \"fcc_astarr_macs_input_overlap.encode_chipseq_CBX1_ENCFF470CSE.bed.gz\"           \n",
      " [52] \"fcc_astarr_macs_input_overlap.encode_chipseq_CBX2_ENCFF258XBJ.bed.gz\"           \n",
      " [53] \"fcc_astarr_macs_input_overlap.encode_chipseq_CBX3_ENCFF068OEJ.bed.gz\"           \n",
      " [54] \"fcc_astarr_macs_input_overlap.encode_chipseq_CBX3_ENCFF386ZWO.bed.gz\"           \n",
      " [55] \"fcc_astarr_macs_input_overlap.encode_chipseq_CBX5_ENCFF066OJB.bed.gz\"           \n",
      " [56] \"fcc_astarr_macs_input_overlap.encode_chipseq_CBX8_ENCFF522HZT.bed.gz\"           \n",
      " [57] \"fcc_astarr_macs_input_overlap.encode_chipseq_CC2D1A_ENCFF156GHD.bed.gz\"         \n",
      " [58] \"fcc_astarr_macs_input_overlap.encode_chipseq_CCAR2_ENCFF657LFS.bed.gz\"          \n",
      " [59] \"fcc_astarr_macs_input_overlap.encode_chipseq_CCNT2_ENCFF642ZYO.bed.gz\"          \n",
      " [60] \"fcc_astarr_macs_input_overlap.encode_chipseq_CDC5L_ENCFF408RSJ.bed.gz\"          \n",
      " [61] \"fcc_astarr_macs_input_overlap.encode_chipseq_CEBPB_ENCFF022KBK.bed.gz\"          \n",
      " [62] \"fcc_astarr_macs_input_overlap.encode_chipseq_CEBPB_ENCFF712ZNR.bed.gz\"          \n",
      " [63] \"fcc_astarr_macs_input_overlap.encode_chipseq_CEBPB_ENCFF882ARK.bed.gz\"          \n",
      " [64] \"fcc_astarr_macs_input_overlap.encode_chipseq_CEBPG_ENCFF456USL.bed.gz\"          \n",
      " [65] \"fcc_astarr_macs_input_overlap.encode_chipseq_CEBPG_ENCFF558AJI.bed.gz\"          \n",
      " [66] \"fcc_astarr_macs_input_overlap.encode_chipseq_CEBPG_ENCFF998LIR.bed.gz\"          \n",
      " [67] \"fcc_astarr_macs_input_overlap.encode_chipseq_CEBPZ_ENCFF588GNU.bed.gz\"          \n",
      " [68] \"fcc_astarr_macs_input_overlap.encode_chipseq_CGGBP1_ENCFF771XZZ.bed.gz\"         \n",
      " [69] \"fcc_astarr_macs_input_overlap.encode_chipseq_CHAMP1_ENCFF515GUE.bed.gz\"         \n",
      " [70] \"fcc_astarr_macs_input_overlap.encode_chipseq_CHAMP1_ENCFF541VYN.bed.gz\"         \n",
      " [71] \"fcc_astarr_macs_input_overlap.encode_chipseq_CHCHD3_ENCFF645IVF.bed.gz\"         \n",
      " [72] \"fcc_astarr_macs_input_overlap.encode_chipseq_CHD1_ENCFF408NUX.bed.gz\"           \n",
      " [73] \"fcc_astarr_macs_input_overlap.encode_chipseq_CHD2_ENCFF947AEO.bed.gz\"           \n",
      " [74] \"fcc_astarr_macs_input_overlap.encode_chipseq_CHD4_ENCFF985QBS.bed.gz\"           \n",
      " [75] \"fcc_astarr_macs_input_overlap.encode_chipseq_CHD7_ENCFF722UJW.bed.gz\"           \n",
      " [76] \"fcc_astarr_macs_input_overlap.encode_chipseq_CLOCK_ENCFF648UJW.bed.gz\"          \n",
      " [77] \"fcc_astarr_macs_input_overlap.encode_chipseq_COPS2_ENCFF942JZR.bed.gz\"          \n",
      " [78] \"fcc_astarr_macs_input_overlap.encode_chipseq_CREB1_ENCFF193LLN.bed.gz\"          \n",
      " [79] \"fcc_astarr_macs_input_overlap.encode_chipseq_CREB1_ENCFF970QKS.bed.gz\"          \n",
      " [80] \"fcc_astarr_macs_input_overlap.encode_chipseq_CREB3_ENCFF950IYB.bed.gz\"          \n",
      " [81] \"fcc_astarr_macs_input_overlap.encode_chipseq_CREB3L1_ENCFF118GMS.bed.gz\"        \n",
      " [82] \"fcc_astarr_macs_input_overlap.encode_chipseq_CREB5_ENCFF875JMR.bed.gz\"          \n",
      " [83] \"fcc_astarr_macs_input_overlap.encode_chipseq_CREBBP_ENCFF532VPN.bed.gz\"         \n",
      " [84] \"fcc_astarr_macs_input_overlap.encode_chipseq_CREM_ENCFF324ELP.bed.gz\"           \n",
      " [85] \"fcc_astarr_macs_input_overlap.encode_chipseq_CSDE1_ENCFF079ERC.bed.gz\"          \n",
      " [86] \"fcc_astarr_macs_input_overlap.encode_chipseq_CSDE1_ENCFF746OAD.bed.gz\"          \n",
      " [87] \"fcc_astarr_macs_input_overlap.encode_chipseq_CTBP1_ENCFF782PIZ.bed.gz\"          \n",
      " [88] \"fcc_astarr_macs_input_overlap.encode_chipseq_CTCF_ENCFF221SKA.bed.gz\"           \n",
      " [89] \"fcc_astarr_macs_input_overlap.encode_chipseq_CTCF_ENCFF582SNT.bed.gz\"           \n",
      " [90] \"fcc_astarr_macs_input_overlap.encode_chipseq_CTCF_ENCFF660GHM.bed.gz\"           \n",
      " [91] \"fcc_astarr_macs_input_overlap.encode_chipseq_CTCF_ENCFF736NYC.bed.gz\"           \n",
      " [92] \"fcc_astarr_macs_input_overlap.encode_chipseq_CTCF_ENCFF769AUF.bed.gz\"           \n",
      " [93] \"fcc_astarr_macs_input_overlap.encode_chipseq_CTCFL_ENCFF630YVJ.bed.gz\"          \n",
      " [94] \"fcc_astarr_macs_input_overlap.encode_chipseq_CUX1_ENCFF136KLM.bed.gz\"           \n",
      " [95] \"fcc_astarr_macs_input_overlap.encode_chipseq_CUX1_ENCFF838GFC.bed.gz\"           \n",
      " [96] \"fcc_astarr_macs_input_overlap.encode_chipseq_CXXC5_ENCFF798LLI.bed.gz\"          \n",
      " [97] \"fcc_astarr_macs_input_overlap.encode_chipseq_DACH1_ENCFF729DNM.bed.gz\"          \n",
      " [98] \"fcc_astarr_macs_input_overlap.encode_chipseq_DDIT3_ENCFF869RFC.bed.gz\"          \n",
      " [99] \"fcc_astarr_macs_input_overlap.encode_chipseq_DDX20_ENCFF746TUQ.bed.gz\"          \n",
      "[100] \"fcc_astarr_macs_input_overlap.encode_chipseq_DDX20_ENCFF748EAO.bed.gz\"          \n",
      "[101] \"fcc_astarr_macs_input_overlap.encode_chipseq_DEAF1_ENCFF030AXK.bed.gz\"          \n",
      "[102] \"fcc_astarr_macs_input_overlap.encode_chipseq_DEAF1_ENCFF813TRY.bed.gz\"          \n",
      "[103] \"fcc_astarr_macs_input_overlap.encode_chipseq_DIDO1_ENCFF928BHE.bed.gz\"          \n",
      "[104] \"fcc_astarr_macs_input_overlap.encode_chipseq_DLX4_ENCFF832DBU.bed.gz\"           \n",
      "[105] \"fcc_astarr_macs_input_overlap.encode_chipseq_DMBX1_ENCFF359ZQQ.bed.gz\"          \n",
      "[106] \"fcc_astarr_macs_input_overlap.encode_chipseq_DMTF1_ENCFF505INE.bed.gz\"          \n",
      "[107] \"fcc_astarr_macs_input_overlap.encode_chipseq_DNMT1_ENCFF412WOK.bed.gz\"          \n",
      "[108] \"fcc_astarr_macs_input_overlap.encode_chipseq_DPF2_ENCFF542HJS.bed.gz\"           \n",
      "[109] \"fcc_astarr_macs_input_overlap.encode_chipseq_DPF2_ENCFF716PXH.bed.gz\"           \n",
      "[110] \"fcc_astarr_macs_input_overlap.encode_chipseq_E2F1_ENCFF053HPQ.bed.gz\"           \n",
      "[111] \"fcc_astarr_macs_input_overlap.encode_chipseq_E2F1_ENCFF104VFF.bed.gz\"           \n",
      "[112] \"fcc_astarr_macs_input_overlap.encode_chipseq_E2F3_ENCFF710UAZ.bed.gz\"           \n",
      "[113] \"fcc_astarr_macs_input_overlap.encode_chipseq_E2F4_ENCFF064CWA.bed.gz\"           \n",
      "[114] \"fcc_astarr_macs_input_overlap.encode_chipseq_E2F4_ENCFF221TRR.bed.gz\"           \n",
      "[115] \"fcc_astarr_macs_input_overlap.encode_chipseq_E2F5_ENCFF082QHP.bed.gz\"           \n",
      "[116] \"fcc_astarr_macs_input_overlap.encode_chipseq_E2F5_ENCFF173QUY.bed.gz\"           \n",
      "[117] \"fcc_astarr_macs_input_overlap.encode_chipseq_E2F6_ENCFF085GHX.bed.gz\"           \n",
      "[118] \"fcc_astarr_macs_input_overlap.encode_chipseq_E2F6_ENCFF831NDQ.bed.gz\"           \n",
      "[119] \"fcc_astarr_macs_input_overlap.encode_chipseq_E2F7_ENCFF938ZPZ.bed.gz\"           \n",
      "[120] \"fcc_astarr_macs_input_overlap.encode_chipseq_E2F8_ENCFF925GLW.bed.gz\"           \n",
      "[121] \"fcc_astarr_macs_input_overlap.encode_chipseq_E4F1_ENCFF439KTZ.bed.gz\"           \n",
      "[122] \"fcc_astarr_macs_input_overlap.encode_chipseq_E4F1_ENCFF683WRK.bed.gz\"           \n",
      "[123] \"fcc_astarr_macs_input_overlap.encode_chipseq_EGR1_ENCFF136DDO.bed.gz\"           \n",
      "[124] \"fcc_astarr_macs_input_overlap.encode_chipseq_EGR1_ENCFF566PRZ.bed.gz\"           \n",
      "[125] \"fcc_astarr_macs_input_overlap.encode_chipseq_EGR1_ENCFF640AKG.bed.gz\"           \n",
      "[126] \"fcc_astarr_macs_input_overlap.encode_chipseq_EHMT2_ENCFF189OHQ.bed.gz\"          \n",
      "[127] \"fcc_astarr_macs_input_overlap.encode_chipseq_ELF1_ENCFF133TSU.bed.gz\"           \n",
      "[128] \"fcc_astarr_macs_input_overlap.encode_chipseq_ELF1_ENCFF350OMH.bed.gz\"           \n",
      "[129] \"fcc_astarr_macs_input_overlap.encode_chipseq_ELF1_ENCFF688TNZ.bed.gz\"           \n",
      "[130] \"fcc_astarr_macs_input_overlap.encode_chipseq_ELF1_ENCFF763MXW.bed.gz\"           \n",
      "[131] \"fcc_astarr_macs_input_overlap.encode_chipseq_ELF2_ENCFF695PDY.bed.gz\"           \n",
      "[132] \"fcc_astarr_macs_input_overlap.encode_chipseq_ELF4_ENCFF518EGY.bed.gz\"           \n",
      "[133] \"fcc_astarr_macs_input_overlap.encode_chipseq_ELF4_ENCFF616FCV.bed.gz\"           \n",
      "[134] \"fcc_astarr_macs_input_overlap.encode_chipseq_ELF4_ENCFF832HNJ.bed.gz\"           \n",
      "[135] \"fcc_astarr_macs_input_overlap.encode_chipseq_ELK1_ENCFF586MZX.bed.gz\"           \n",
      "[136] \"fcc_astarr_macs_input_overlap.encode_chipseq_ELK1_ENCFF715WGN.bed.gz\"           \n",
      "[137] \"fcc_astarr_macs_input_overlap.encode_chipseq_ELK3_ENCFF198NGY.bed.gz\"           \n",
      "[138] \"fcc_astarr_macs_input_overlap.encode_chipseq_EP300_ENCFF702XPO.bed.gz\"          \n",
      "[139] \"fcc_astarr_macs_input_overlap.encode_chipseq_EP300_ENCFF821MKR.bed.gz\"          \n",
      "[140] \"fcc_astarr_macs_input_overlap.encode_chipseq_EP400_ENCFF167CQF.bed.gz\"          \n",
      "[141] \"fcc_astarr_macs_input_overlap.encode_chipseq_ERF_ENCFF330EGV.bed.gz\"            \n",
      "[142] \"fcc_astarr_macs_input_overlap.encode_chipseq_ERF_ENCFF462ZIG.bed.gz\"            \n",
      "[143] \"fcc_astarr_macs_input_overlap.encode_chipseq_ESRRA_ENCFF588QRH.bed.gz\"          \n",
      "[144] \"fcc_astarr_macs_input_overlap.encode_chipseq_ESRRB_ENCFF106ECV.bed.gz\"          \n",
      "[145] \"fcc_astarr_macs_input_overlap.encode_chipseq_ETS1_ENCFF886BDQ.bed.gz\"           \n",
      "[146] \"fcc_astarr_macs_input_overlap.encode_chipseq_ETS2_ENCFF772QLT.bed.gz\"           \n",
      "[147] \"fcc_astarr_macs_input_overlap.encode_chipseq_ETV1_ENCFF065RZP.bed.gz\"           \n",
      "[148] \"fcc_astarr_macs_input_overlap.encode_chipseq_ETV5_ENCFF604LXR.bed.gz\"           \n",
      "[149] \"fcc_astarr_macs_input_overlap.encode_chipseq_ETV6_ENCFF405QTW.bed.gz\"           \n",
      "[150] \"fcc_astarr_macs_input_overlap.encode_chipseq_ETV6_ENCFF584QFY.bed.gz\"           \n",
      "[151] \"fcc_astarr_macs_input_overlap.encode_chipseq_ETV6_ENCFF965PER.bed.gz\"           \n",
      "[152] \"fcc_astarr_macs_input_overlap.encode_chipseq_EWSR1_ENCFF924FYI.bed.gz\"          \n",
      "[153] \"fcc_astarr_macs_input_overlap.encode_chipseq_EZH2_ENCFF804RVA.bed.gz\"           \n",
      "[154] \"fcc_astarr_macs_input_overlap.encode_chipseq_FIP1L1_ENCFF285TMA.bed.gz\"         \n",
      "[155] \"fcc_astarr_macs_input_overlap.encode_chipseq_FOS_ENCFF258PLH.bed.gz\"            \n",
      "[156] \"fcc_astarr_macs_input_overlap.encode_chipseq_FOSL1_ENCFF004HXL.bed.gz\"          \n",
      "[157] \"fcc_astarr_macs_input_overlap.encode_chipseq_FOSL1_ENCFF256NXT.bed.gz\"          \n",
      "[158] \"fcc_astarr_macs_input_overlap.encode_chipseq_FOXA1_ENCFF497OQD.bed.gz\"          \n",
      "[159] \"fcc_astarr_macs_input_overlap.encode_chipseq_FOXA3_ENCFF197SXI.bed.gz\"          \n",
      "[160] \"fcc_astarr_macs_input_overlap.encode_chipseq_FOXA3_ENCFF504WWL.bed.gz\"          \n",
      "[161] \"fcc_astarr_macs_input_overlap.encode_chipseq_FOXJ2_ENCFF957CVJ.bed.gz\"          \n",
      "[162] \"fcc_astarr_macs_input_overlap.encode_chipseq_FOXJ3_ENCFF567CPM.bed.gz\"          \n",
      "[163] \"fcc_astarr_macs_input_overlap.encode_chipseq_FOXK1_ENCFF516ZWP.bed.gz\"          \n",
      "[164] \"fcc_astarr_macs_input_overlap.encode_chipseq_FOXK2_ENCFF702AQS.bed.gz\"          \n",
      "[165] \"fcc_astarr_macs_input_overlap.encode_chipseq_FOXK2_ENCFF768QMM.bed.gz\"          \n",
      "[166] \"fcc_astarr_macs_input_overlap.encode_chipseq_FOXM1_ENCFF711ZED.bed.gz\"          \n",
      "[167] \"fcc_astarr_macs_input_overlap.encode_chipseq_FOXM1_ENCFF820MJD.bed.gz\"          \n",
      "[168] \"fcc_astarr_macs_input_overlap.encode_chipseq_FOXO4_ENCFF750AGR.bed.gz\"          \n",
      "[169] \"fcc_astarr_macs_input_overlap.encode_chipseq_FOXP1_ENCFF491EEI.bed.gz\"          \n",
      "[170] \"fcc_astarr_macs_input_overlap.encode_chipseq_FOXP4_ENCFF974IPP.bed.gz\"          \n",
      "[171] \"fcc_astarr_macs_input_overlap.encode_chipseq_FUS_ENCFF581MLB.bed.gz\"            \n",
      "[172] \"fcc_astarr_macs_input_overlap.encode_chipseq_GABPA_ENCFF489EME.bed.gz\"          \n",
      "[173] \"fcc_astarr_macs_input_overlap.encode_chipseq_GABPA_ENCFF889XXJ.bed.gz\"          \n",
      "[174] \"fcc_astarr_macs_input_overlap.encode_chipseq_GABPB1_ENCFF009RFC.bed.gz\"         \n",
      "[175] \"fcc_astarr_macs_input_overlap.encode_chipseq_GABPB1_ENCFF764HIS.bed.gz\"         \n",
      "[176] \"fcc_astarr_macs_input_overlap.encode_chipseq_GABPB2_ENCFF103YZQ.bed.gz\"         \n",
      "[177] \"fcc_astarr_macs_input_overlap.encode_chipseq_GATA1_ENCFF509ZLE.bed.gz\"          \n",
      "[178] \"fcc_astarr_macs_input_overlap.encode_chipseq_GATA1_ENCFF657CTC.bed.gz\"          \n",
      "[179] \"fcc_astarr_macs_input_overlap.encode_chipseq_GATA2_ENCFF165ZEP.bed.gz\"          \n",
      "[180] \"fcc_astarr_macs_input_overlap.encode_chipseq_GATA2_ENCFF242YZU.bed.gz\"          \n",
      "[181] \"fcc_astarr_macs_input_overlap.encode_chipseq_GATA2_ENCFF497ISV.bed.gz\"          \n",
      "[182] \"fcc_astarr_macs_input_overlap.encode_chipseq_GATA2_ENCFF772OKO.bed.gz\"          \n",
      "[183] \"fcc_astarr_macs_input_overlap.encode_chipseq_GATAD2A_ENCFF295YRT.bed.gz\"        \n",
      "[184] \"fcc_astarr_macs_input_overlap.encode_chipseq_GATAD2B_ENCFF388KGW.bed.gz\"        \n",
      "[185] \"fcc_astarr_macs_input_overlap.encode_chipseq_GMEB1_ENCFF365ETH.bed.gz\"          \n",
      "[186] \"fcc_astarr_macs_input_overlap.encode_chipseq_GMEB1_ENCFF863WFD.bed.gz\"          \n",
      "[187] \"fcc_astarr_macs_input_overlap.encode_chipseq_GTF2A2_ENCFF920CRL.bed.gz\"         \n",
      "[188] \"fcc_astarr_macs_input_overlap.encode_chipseq_GTF2B_ENCFF987FJR.bed.gz\"          \n",
      "[189] \"fcc_astarr_macs_input_overlap.encode_chipseq_GTF2E2_ENCFF564KIU.bed.gz\"         \n",
      "[190] \"fcc_astarr_macs_input_overlap.encode_chipseq_GTF2F1_ENCFF075BRS.bed.gz\"         \n",
      "[191] \"fcc_astarr_macs_input_overlap.encode_chipseq_GTF2F1_ENCFF225ZPU.bed.gz\"         \n",
      "[192] \"fcc_astarr_macs_input_overlap.encode_chipseq_GTF2F1_ENCFF837ZJJ.bed.gz\"         \n",
      "[193] \"fcc_astarr_macs_input_overlap.encode_chipseq_GTF2I_ENCFF866OZW.bed.gz\"          \n",
      "[194] \"fcc_astarr_macs_input_overlap.encode_chipseq_GTF3C2_ENCFF496PIQ.bed.gz\"         \n",
      "[195] \"fcc_astarr_macs_input_overlap.encode_chipseq_HBP1_ENCFF681YLP.bed.gz\"           \n",
      "[196] \"fcc_astarr_macs_input_overlap.encode_chipseq_HCFC1_ENCFF139FMU.bed.gz\"          \n",
      "[197] \"fcc_astarr_macs_input_overlap.encode_chipseq_HDAC1_ENCFF245OJC.bed.gz\"          \n",
      "[198] \"fcc_astarr_macs_input_overlap.encode_chipseq_HDAC1_ENCFF432KJA.bed.gz\"          \n",
      "[199] \"fcc_astarr_macs_input_overlap.encode_chipseq_HDAC1_ENCFF507QLB.bed.gz\"          \n",
      "[200] \"fcc_astarr_macs_input_overlap.encode_chipseq_HDAC1_ENCFF669MJX.bed.gz\"          \n",
      "[201] \"fcc_astarr_macs_input_overlap.encode_chipseq_HDAC2_ENCFF150FJT.bed.gz\"          \n",
      "[202] \"fcc_astarr_macs_input_overlap.encode_chipseq_HDAC2_ENCFF182MPT.bed.gz\"          \n",
      "[203] \"fcc_astarr_macs_input_overlap.encode_chipseq_HDAC2_ENCFF630HGY.bed.gz\"          \n",
      "[204] \"fcc_astarr_macs_input_overlap.encode_chipseq_HDAC2_ENCFF652ZZF.bed.gz\"          \n",
      "[205] \"fcc_astarr_macs_input_overlap.encode_chipseq_HDAC3_ENCFF775PIY.bed.gz\"          \n",
      "[206] \"fcc_astarr_macs_input_overlap.encode_chipseq_HDAC6_ENCFF736FGN.bed.gz\"          \n",
      "[207] \"fcc_astarr_macs_input_overlap.encode_chipseq_HDAC8_ENCFF566PEY.bed.gz\"          \n",
      "[208] \"fcc_astarr_macs_input_overlap.encode_chipseq_HDAC8_ENCFF611FTI.bed.gz\"          \n",
      "[209] \"fcc_astarr_macs_input_overlap.encode_chipseq_HDGF_ENCFF621FPC.bed.gz\"           \n",
      "[210] \"fcc_astarr_macs_input_overlap.encode_chipseq_HDGF_ENCFF633XFQ.bed.gz\"           \n",
      "[211] \"fcc_astarr_macs_input_overlap.encode_chipseq_HES1_ENCFF671ZGP.bed.gz\"           \n",
      "[212] \"fcc_astarr_macs_input_overlap.encode_chipseq_HEY1_ENCFF180KAV.bed.gz\"           \n",
      "[213] \"fcc_astarr_macs_input_overlap.encode_chipseq_HINFP_ENCFF826QOG.bed.gz\"          \n",
      "[214] \"fcc_astarr_macs_input_overlap.encode_chipseq_HIVEP1_ENCFF449JMB.bed.gz\"         \n",
      "[215] \"fcc_astarr_macs_input_overlap.encode_chipseq_HLTF_ENCFF614IBI.bed.gz\"           \n",
      "[216] \"fcc_astarr_macs_input_overlap.encode_chipseq_HMBOX1_ENCFF672ZQW.bed.gz\"         \n",
      "[217] \"fcc_astarr_macs_input_overlap.encode_chipseq_HMG20A_ENCFF118ATD.bed.gz\"         \n",
      "[218] \"fcc_astarr_macs_input_overlap.encode_chipseq_HMG20A_ENCFF866ARI.bed.gz\"         \n",
      "[219] \"fcc_astarr_macs_input_overlap.encode_chipseq_HMG20B_ENCFF099OSI.bed.gz\"         \n",
      "[220] \"fcc_astarr_macs_input_overlap.encode_chipseq_HMGN3_ENCFF615AKB.bed.gz\"          \n",
      "[221] \"fcc_astarr_macs_input_overlap.encode_chipseq_HNRNPH1_ENCFF797TVO.bed.gz\"        \n",
      "[222] \"fcc_astarr_macs_input_overlap.encode_chipseq_HNRNPK_ENCFF505RNR.bed.gz\"         \n",
      "[223] \"fcc_astarr_macs_input_overlap.encode_chipseq_HNRNPL_ENCFF854WAP.bed.gz\"         \n",
      "[224] \"fcc_astarr_macs_input_overlap.encode_chipseq_HNRNPLL_ENCFF833ZNA.bed.gz\"        \n",
      "[225] \"fcc_astarr_macs_input_overlap.encode_chipseq_HNRNPUL1_ENCFF700VSW.bed.gz\"       \n",
      "[226] \"fcc_astarr_macs_input_overlap.encode_chipseq_HOMEZ_ENCFF601LMD.bed.gz\"          \n",
      "[227] \"fcc_astarr_macs_input_overlap.encode_chipseq_HOXB6_ENCFF285MHB.bed.gz\"          \n",
      "[228] \"fcc_astarr_macs_input_overlap.encode_chipseq_HSF4_ENCFF023JGT.bed.gz\"           \n",
      "[229] \"fcc_astarr_macs_input_overlap.encode_chipseq_ID3_ENCFF375SIS.bed.gz\"            \n",
      "[230] \"fcc_astarr_macs_input_overlap.encode_chipseq_ID3_ENCFF794SCQ.bed.gz\"            \n",
      "[231] \"fcc_astarr_macs_input_overlap.encode_chipseq_IFI16_ENCFF518SJY.bed.gz\"          \n",
      "[232] \"fcc_astarr_macs_input_overlap.encode_chipseq_IKZF1_ENCFF637SIR.bed.gz\"          \n",
      "[233] \"fcc_astarr_macs_input_overlap.encode_chipseq_IKZF1_ENCFF711ILQ.bed.gz\"          \n",
      "[234] \"fcc_astarr_macs_input_overlap.encode_chipseq_ILF3_ENCFF382CUT.bed.gz\"           \n",
      "[235] \"fcc_astarr_macs_input_overlap.encode_chipseq_ILK_ENCFF143MEF.bed.gz\"            \n",
      "[236] \"fcc_astarr_macs_input_overlap.encode_chipseq_IRF1_ENCFF093BBG.bed.gz\"           \n",
      "[237] \"fcc_astarr_macs_input_overlap.encode_chipseq_IRF1_ENCFF557FUM.bed.gz\"           \n",
      "[238] \"fcc_astarr_macs_input_overlap.encode_chipseq_IRF2_ENCFF430YXJ.bed.gz\"           \n",
      "[239] \"fcc_astarr_macs_input_overlap.encode_chipseq_IRF2_ENCFF559ODJ.bed.gz\"           \n",
      "[240] \"fcc_astarr_macs_input_overlap.encode_chipseq_IRF9_ENCFF724CHN.bed.gz\"           \n",
      "[241] \"fcc_astarr_macs_input_overlap.encode_chipseq_JUNB_ENCFF328OCA.bed.gz\"           \n",
      "[242] \"fcc_astarr_macs_input_overlap.encode_chipseq_JUNB_ENCFF362UGH.bed.gz\"           \n",
      "[243] \"fcc_astarr_macs_input_overlap.encode_chipseq_JUNB_ENCFF932KRN.bed.gz\"           \n",
      "[244] \"fcc_astarr_macs_input_overlap.encode_chipseq_JUND_ENCFF273KIA.bed.gz\"           \n",
      "[245] \"fcc_astarr_macs_input_overlap.encode_chipseq_JUND_ENCFF306SZL.bed.gz\"           \n",
      "[246] \"fcc_astarr_macs_input_overlap.encode_chipseq_JUN_ENCFF190CGV.bed.gz\"            \n",
      "[247] \"fcc_astarr_macs_input_overlap.encode_chipseq_JUN_ENCFF589QXC.bed.gz\"            \n",
      "[248] \"fcc_astarr_macs_input_overlap.encode_chipseq_JUN_ENCFF865UPM.bed.gz\"            \n",
      "[249] \"fcc_astarr_macs_input_overlap.encode_chipseq_KAT2B_ENCFF349VSP.bed.gz\"          \n",
      "[250] \"fcc_astarr_macs_input_overlap.encode_chipseq_KAT7_ENCFF555IKI.bed.gz\"           \n",
      "[251] \"fcc_astarr_macs_input_overlap.encode_chipseq_KAT8_ENCFF113LBV.bed.gz\"           \n",
      "[252] \"fcc_astarr_macs_input_overlap.encode_chipseq_KDM1A_ENCFF054XCG.bed.gz\"          \n",
      "[253] \"fcc_astarr_macs_input_overlap.encode_chipseq_KDM1A_ENCFF346UGW.bed.gz\"          \n",
      "[254] \"fcc_astarr_macs_input_overlap.encode_chipseq_KDM1A_ENCFF829FZW.bed.gz\"          \n",
      "[255] \"fcc_astarr_macs_input_overlap.encode_chipseq_KDM2B_ENCFF702THZ.bed.gz\"          \n",
      "[256] \"fcc_astarr_macs_input_overlap.encode_chipseq_KDM4B_ENCFF304PGC.bed.gz\"          \n",
      "[257] \"fcc_astarr_macs_input_overlap.encode_chipseq_KDM4B_ENCFF928UFW.bed.gz\"          \n",
      "[258] \"fcc_astarr_macs_input_overlap.encode_chipseq_KDM5B_ENCFF807FNB.bed.gz\"          \n",
      "[259] \"fcc_astarr_macs_input_overlap.encode_chipseq_KHSRP_ENCFF525XXS.bed.gz\"          \n",
      "[260] \"fcc_astarr_macs_input_overlap.encode_chipseq_KLF10_ENCFF142ZTD.bed.gz\"          \n",
      "[261] \"fcc_astarr_macs_input_overlap.encode_chipseq_KLF13_ENCFF453MMH.bed.gz\"          \n",
      "[262] \"fcc_astarr_macs_input_overlap.encode_chipseq_KLF16_ENCFF488OTN.bed.gz\"          \n",
      "[263] \"fcc_astarr_macs_input_overlap.encode_chipseq_KLF1_ENCFF674KVR.bed.gz\"           \n",
      "[264] \"fcc_astarr_macs_input_overlap.encode_chipseq_KLF6_ENCFF563ZJM.bed.gz\"           \n",
      "[265] \"fcc_astarr_macs_input_overlap.encode_chipseq_L3MBTL2_ENCFF063NIH.bed.gz\"        \n",
      "[266] \"fcc_astarr_macs_input_overlap.encode_chipseq_LARP7_ENCFF304PQQ.bed.gz\"          \n",
      "[267] \"fcc_astarr_macs_input_overlap.encode_chipseq_LCOR_ENCFF266MUT.bed.gz\"           \n",
      "[268] \"fcc_astarr_macs_input_overlap.encode_chipseq_LEF1_ENCFF591TLJ.bed.gz\"           \n",
      "[269] \"fcc_astarr_macs_input_overlap.encode_chipseq_LEF1_ENCFF689HWD.bed.gz\"           \n",
      "[270] \"fcc_astarr_macs_input_overlap.encode_chipseq_MAFF_ENCFF119AHD.bed.gz\"           \n",
      "[271] \"fcc_astarr_macs_input_overlap.encode_chipseq_MAFG_ENCFF493DXA.bed.gz\"           \n",
      "[272] \"fcc_astarr_macs_input_overlap.encode_chipseq_MAFK_ENCFF439TJM.bed.gz\"           \n",
      "[273] \"fcc_astarr_macs_input_overlap.encode_chipseq_MAX_ENCFF171FVU.bed.gz\"            \n",
      "[274] \"fcc_astarr_macs_input_overlap.encode_chipseq_MAX_ENCFF266YHW.bed.gz\"            \n",
      "[275] \"fcc_astarr_macs_input_overlap.encode_chipseq_MAX_ENCFF493DCP.bed.gz\"            \n",
      "[276] \"fcc_astarr_macs_input_overlap.encode_chipseq_MAX_ENCFF822FKQ.bed.gz\"            \n",
      "[277] \"fcc_astarr_macs_input_overlap.encode_chipseq_MAZ_ENCFF389FLV.bed.gz\"            \n",
      "[278] \"fcc_astarr_macs_input_overlap.encode_chipseq_MAZ_ENCFF704UVS.bed.gz\"            \n",
      "[279] \"fcc_astarr_macs_input_overlap.encode_chipseq_MAZ_ENCFF837NNR.bed.gz\"            \n",
      "[280] \"fcc_astarr_macs_input_overlap.encode_chipseq_MBD1_ENCFF313VEF.bed.gz\"           \n",
      "[281] \"fcc_astarr_macs_input_overlap.encode_chipseq_MBD2_ENCFF788YHU.bed.gz\"           \n",
      "[282] \"fcc_astarr_macs_input_overlap.encode_chipseq_MCM2_ENCFF147IAH.bed.gz\"           \n",
      "[283] \"fcc_astarr_macs_input_overlap.encode_chipseq_MCM2_ENCFF239WEU.bed.gz\"           \n",
      "[284] \"fcc_astarr_macs_input_overlap.encode_chipseq_MCM3_ENCFF583XAW.bed.gz\"           \n",
      "[285] \"fcc_astarr_macs_input_overlap.encode_chipseq_MCM5_ENCFF282KHW.bed.gz\"           \n",
      "[286] \"fcc_astarr_macs_input_overlap.encode_chipseq_MCM5_ENCFF344LTH.bed.gz\"           \n",
      "[287] \"fcc_astarr_macs_input_overlap.encode_chipseq_MCM7_ENCFF239OHL.bed.gz\"           \n",
      "[288] \"fcc_astarr_macs_input_overlap.encode_chipseq_MCM7_ENCFF519LSA.bed.gz\"           \n",
      "[289] \"fcc_astarr_macs_input_overlap.encode_chipseq_MCM7_ENCFF674ZQI.bed.gz\"           \n",
      "[290] \"fcc_astarr_macs_input_overlap.encode_chipseq_MECOM_ENCFF188PLS.bed.gz\"          \n",
      "[291] \"fcc_astarr_macs_input_overlap.encode_chipseq_MEF2A_ENCFF031NTF.bed.gz\"          \n",
      "[292] \"fcc_astarr_macs_input_overlap.encode_chipseq_MEF2D_ENCFF242ULW.bed.gz\"          \n",
      "[293] \"fcc_astarr_macs_input_overlap.encode_chipseq_MEIS2_ENCFF861ZJL.bed.gz\"          \n",
      "[294] \"fcc_astarr_macs_input_overlap.encode_chipseq_MGA_ENCFF524ZER.bed.gz\"            \n",
      "[295] \"fcc_astarr_macs_input_overlap.encode_chipseq_MIER1_ENCFF562XKK.bed.gz\"          \n",
      "[296] \"fcc_astarr_macs_input_overlap.encode_chipseq_MITF_ENCFF076GSK.bed.gz\"           \n",
      "[297] \"fcc_astarr_macs_input_overlap.encode_chipseq_MITF_ENCFF605XYC.bed.gz\"           \n",
      "[298] \"fcc_astarr_macs_input_overlap.encode_chipseq_MLLT1_ENCFF355OYM.bed.gz\"          \n",
      "[299] \"fcc_astarr_macs_input_overlap.encode_chipseq_MLLT1_ENCFF556MUV.bed.gz\"          \n",
      "[300] \"fcc_astarr_macs_input_overlap.encode_chipseq_MLX_ENCFF128YWS.bed.gz\"            \n",
      "[301] \"fcc_astarr_macs_input_overlap.encode_chipseq_MLX_ENCFF171ZNN.bed.gz\"            \n",
      "[302] \"fcc_astarr_macs_input_overlap.encode_chipseq_MNT_ENCFF440AQF.bed.gz\"            \n",
      "[303] \"fcc_astarr_macs_input_overlap.encode_chipseq_MNT_ENCFF461QQT.bed.gz\"            \n",
      "[304] \"fcc_astarr_macs_input_overlap.encode_chipseq_MNT_ENCFF986SXD.bed.gz\"            \n",
      "[305] \"fcc_astarr_macs_input_overlap.encode_chipseq_MTA1_ENCFF058ZHN.bed.gz\"           \n",
      "[306] \"fcc_astarr_macs_input_overlap.encode_chipseq_MTA2_ENCFF080IBW.bed.gz\"           \n",
      "[307] \"fcc_astarr_macs_input_overlap.encode_chipseq_MTA2_ENCFF478LQC.bed.gz\"           \n",
      "[308] \"fcc_astarr_macs_input_overlap.encode_chipseq_MTA3_ENCFF280AIK.bed.gz\"           \n",
      "[309] \"fcc_astarr_macs_input_overlap.encode_chipseq_MTF1_ENCFF478MAJ.bed.gz\"           \n",
      "[310] \"fcc_astarr_macs_input_overlap.encode_chipseq_MXD1_ENCFF559MTF.bed.gz\"           \n",
      "[311] \"fcc_astarr_macs_input_overlap.encode_chipseq_MXI1_ENCFF068IGH.bed.gz\"           \n",
      "[312] \"fcc_astarr_macs_input_overlap.encode_chipseq_MYBL2_ENCFF227LKX.bed.gz\"          \n",
      "[313] \"fcc_astarr_macs_input_overlap.encode_chipseq_MYBL2_ENCFF637PFI.bed.gz\"          \n",
      "[314] \"fcc_astarr_macs_input_overlap.encode_chipseq_MYC_ENCFF114VAI.bed.gz\"            \n",
      "[315] \"fcc_astarr_macs_input_overlap.encode_chipseq_MYC_ENCFF566CTX.bed.gz\"            \n",
      "[316] \"fcc_astarr_macs_input_overlap.encode_chipseq_MYC_ENCFF608CXN.bed.gz\"            \n",
      "[317] \"fcc_astarr_macs_input_overlap.encode_chipseq_MYC_ENCFF675PHY.bed.gz\"            \n",
      "[318] \"fcc_astarr_macs_input_overlap.encode_chipseq_MYNN_ENCFF516ZEQ.bed.gz\"           \n",
      "[319] \"fcc_astarr_macs_input_overlap.encode_chipseq_MYNN_ENCFF603EAX.bed.gz\"           \n",
      "[320] \"fcc_astarr_macs_input_overlap.encode_chipseq_MYNN_ENCFF749GMT.bed.gz\"           \n",
      "[321] \"fcc_astarr_macs_input_overlap.encode_chipseq_NBN_ENCFF670POK.bed.gz\"            \n",
      "[322] \"fcc_astarr_macs_input_overlap.encode_chipseq_NCOA1_ENCFF514WJW.bed.gz\"          \n",
      "[323] \"fcc_astarr_macs_input_overlap.encode_chipseq_NCOA1_ENCFF660DEP.bed.gz\"          \n",
      "[324] \"fcc_astarr_macs_input_overlap.encode_chipseq_NCOA1_ENCFF904YZI.bed.gz\"          \n",
      "[325] \"fcc_astarr_macs_input_overlap.encode_chipseq_NCOA2_ENCFF057SID.bed.gz\"          \n",
      "[326] \"fcc_astarr_macs_input_overlap.encode_chipseq_NCOA2_ENCFF872RQG.bed.gz\"          \n",
      "[327] \"fcc_astarr_macs_input_overlap.encode_chipseq_NCOA4_ENCFF067BCD.bed.gz\"          \n",
      "[328] \"fcc_astarr_macs_input_overlap.encode_chipseq_NCOA6_ENCFF996OEL.bed.gz\"          \n",
      "[329] \"fcc_astarr_macs_input_overlap.encode_chipseq_NCOR1_ENCFF321NXM.bed.gz\"          \n",
      "[330] \"fcc_astarr_macs_input_overlap.encode_chipseq_NCOR1_ENCFF816AEF.bed.gz\"          \n",
      "[331] \"fcc_astarr_macs_input_overlap.encode_chipseq_NCOR1_ENCFF836PGX.bed.gz\"          \n",
      "[332] \"fcc_astarr_macs_input_overlap.encode_chipseq_NCOR1_ENCFF898CGY.bed.gz\"          \n",
      "[333] \"fcc_astarr_macs_input_overlap.encode_chipseq_NELFE_ENCFF265KKE.bed.gz\"          \n",
      "[334] \"fcc_astarr_macs_input_overlap.encode_chipseq_NEUROD1_ENCFF625QHR.bed.gz\"        \n",
      "[335] \"fcc_astarr_macs_input_overlap.encode_chipseq_NFATC3_ENCFF778UHP.bed.gz\"         \n",
      "[336] \"fcc_astarr_macs_input_overlap.encode_chipseq_NFATC3_ENCFF972OBR.bed.gz\"         \n",
      "[337] \"fcc_astarr_macs_input_overlap.encode_chipseq_NFE2_ENCFF023IFO.bed.gz\"           \n",
      "[338] \"fcc_astarr_macs_input_overlap.encode_chipseq_NFE2_ENCFF474PRJ.bed.gz\"           \n",
      "[339] \"fcc_astarr_macs_input_overlap.encode_chipseq_NFE2_ENCFF714MVQ.bed.gz\"           \n",
      "[340] \"fcc_astarr_macs_input_overlap.encode_chipseq_NFE2L1_ENCFF366XDW.bed.gz\"         \n",
      "[341] \"fcc_astarr_macs_input_overlap.encode_chipseq_NFIC_ENCFF169MAE.bed.gz\"           \n",
      "[342] \"fcc_astarr_macs_input_overlap.encode_chipseq_NFIX_ENCFF726LLI.bed.gz\"           \n",
      "[343] \"fcc_astarr_macs_input_overlap.encode_chipseq_NFRKB_ENCFF057NNR.bed.gz\"          \n",
      "[344] \"fcc_astarr_macs_input_overlap.encode_chipseq_NFRKB_ENCFF321LMQ.bed.gz\"          \n",
      "[345] \"fcc_astarr_macs_input_overlap.encode_chipseq_NFXL1_ENCFF201WFM.bed.gz\"          \n",
      "[346] \"fcc_astarr_macs_input_overlap.encode_chipseq_NFXL1_ENCFF341CNM.bed.gz\"          \n",
      "[347] \"fcc_astarr_macs_input_overlap.encode_chipseq_NFYA_ENCFF786CRW.bed.gz\"           \n",
      "[348] \"fcc_astarr_macs_input_overlap.encode_chipseq_NFYA_ENCFF908HSL.bed.gz\"           \n",
      "[349] \"fcc_astarr_macs_input_overlap.encode_chipseq_NFYB_ENCFF718ZFY.bed.gz\"           \n",
      "[350] \"fcc_astarr_macs_input_overlap.encode_chipseq_NKRF_ENCFF068MGV.bed.gz\"           \n",
      "[351] \"fcc_astarr_macs_input_overlap.encode_chipseq_NONO_ENCFF211TTD.bed.gz\"           \n",
      "[352] \"fcc_astarr_macs_input_overlap.encode_chipseq_NONO_ENCFF318GYM.bed.gz\"           \n",
      "[353] \"fcc_astarr_macs_input_overlap.encode_chipseq_NR0B1_ENCFF931LUC.bed.gz\"          \n",
      "[354] \"fcc_astarr_macs_input_overlap.encode_chipseq_NR1H2_ENCFF798KXN.bed.gz\"          \n",
      "[355] \"fcc_astarr_macs_input_overlap.encode_chipseq_NR2C1_ENCFF199GFU.bed.gz\"          \n",
      "[356] \"fcc_astarr_macs_input_overlap.encode_chipseq_NR2C1_ENCFF469ZBB.bed.gz\"          \n",
      "[357] \"fcc_astarr_macs_input_overlap.encode_chipseq_NR2C2_ENCFF263VIC.bed.gz\"          \n",
      "[358] \"fcc_astarr_macs_input_overlap.encode_chipseq_NR2C2_ENCFF495XYS.bed.gz\"          \n",
      "[359] \"fcc_astarr_macs_input_overlap.encode_chipseq_NR2C2_ENCFF946CTR.bed.gz\"          \n",
      "[360] \"fcc_astarr_macs_input_overlap.encode_chipseq_NR2F1_ENCFF746GDG.bed.gz\"          \n",
      "[361] \"fcc_astarr_macs_input_overlap.encode_chipseq_NR2F2_ENCFF847ZHF.bed.gz\"          \n",
      "[362] \"fcc_astarr_macs_input_overlap.encode_chipseq_NR2F6_ENCFF529SRS.bed.gz\"          \n",
      "[363] \"fcc_astarr_macs_input_overlap.encode_chipseq_NR2F6_ENCFF647RGI.bed.gz\"          \n",
      "[364] \"fcc_astarr_macs_input_overlap.encode_chipseq_NR2F6_ENCFF835FPJ.bed.gz\"          \n",
      "[365] \"fcc_astarr_macs_input_overlap.encode_chipseq_NR3C1_ENCFF201BGD.bed.gz\"          \n",
      "[366] \"fcc_astarr_macs_input_overlap.encode_chipseq_NR3C1_ENCFF960SMD.bed.gz\"          \n",
      "[367] \"fcc_astarr_macs_input_overlap.encode_chipseq_NR3C1_ENCFF961ADR.bed.gz\"          \n",
      "[368] \"fcc_astarr_macs_input_overlap.encode_chipseq_NR4A1_ENCFF137TCL.bed.gz\"          \n",
      "[369] \"fcc_astarr_macs_input_overlap.encode_chipseq_NR4A1_ENCFF772UYI.bed.gz\"          \n",
      "[370] \"fcc_astarr_macs_input_overlap.encode_chipseq_NR4A1_ENCFF852ZIK.bed.gz\"          \n",
      "[371] \"fcc_astarr_macs_input_overlap.encode_chipseq_NRF1_ENCFF259YUE.bed.gz\"           \n",
      "[372] \"fcc_astarr_macs_input_overlap.encode_chipseq_NRF1_ENCFF410RJD.bed.gz\"           \n",
      "[373] \"fcc_astarr_macs_input_overlap.encode_chipseq_NRF1_ENCFF762CYI.bed.gz\"           \n",
      "[374] \"fcc_astarr_macs_input_overlap.encode_chipseq_NRF1_ENCFF777PKJ.bed.gz\"           \n",
      "[375] \"fcc_astarr_macs_input_overlap.encode_chipseq_NUFIP1_ENCFF669RLC.bed.gz\"         \n",
      "[376] \"fcc_astarr_macs_input_overlap.encode_chipseq_OTX1_ENCFF245JPK.bed.gz\"           \n",
      "[377] \"fcc_astarr_macs_input_overlap.encode_chipseq_PATZ1_ENCFF743JJF.bed.gz\"          \n",
      "[378] \"fcc_astarr_macs_input_overlap.encode_chipseq_PBX2_ENCFF345BUG.bed.gz\"           \n",
      "[379] \"fcc_astarr_macs_input_overlap.encode_chipseq_PBX2_ENCFF841RMH.bed.gz\"           \n",
      "[380] \"fcc_astarr_macs_input_overlap.encode_chipseq_PCBP1_ENCFF956MGE.bed.gz\"          \n",
      "[381] \"fcc_astarr_macs_input_overlap.encode_chipseq_PCBP2_ENCFF732IRT.bed.gz\"          \n",
      "[382] \"fcc_astarr_macs_input_overlap.encode_chipseq_PHB2_ENCFF785QJM.bed.gz\"           \n",
      "[383] \"fcc_astarr_macs_input_overlap.encode_chipseq_PHB_ENCFF424OWM.bed.gz\"            \n",
      "[384] \"fcc_astarr_macs_input_overlap.encode_chipseq_PHF20_ENCFF053PDX.bed.gz\"          \n",
      "[385] \"fcc_astarr_macs_input_overlap.encode_chipseq_PHF21A_ENCFF215JWS.bed.gz\"         \n",
      "[386] \"fcc_astarr_macs_input_overlap.encode_chipseq_PHF8_ENCFF981ISM.bed.gz\"           \n",
      "[387] \"fcc_astarr_macs_input_overlap.encode_chipseq_PHTF2_ENCFF130WQT.bed.gz\"          \n",
      "[388] \"fcc_astarr_macs_input_overlap.encode_chipseq_PKNOX1_ENCFF099RDJ.bed.gz\"         \n",
      "[389] \"fcc_astarr_macs_input_overlap.encode_chipseq_PML_ENCFF051FNO.bed.gz\"            \n",
      "[390] \"fcc_astarr_macs_input_overlap.encode_chipseq_POLR2A_ENCFF107SJD.bed.gz\"         \n",
      "[391] \"fcc_astarr_macs_input_overlap.encode_chipseq_POLR2A_ENCFF355MNE.bed.gz\"         \n",
      "[392] \"fcc_astarr_macs_input_overlap.encode_chipseq_POLR2A_ENCFF410CPY.bed.gz\"         \n",
      "[393] \"fcc_astarr_macs_input_overlap.encode_chipseq_POLR2A_ENCFF634JRD.bed.gz\"         \n",
      "[394] \"fcc_astarr_macs_input_overlap.encode_chipseq_POLR2A_ENCFF842JME.bed.gz\"         \n",
      "[395] \"fcc_astarr_macs_input_overlap.encode_chipseq_POLR2A_ENCFF921FKB.bed.gz\"         \n",
      "[396] \"fcc_astarr_macs_input_overlap.encode_chipseq_POLR2AphosphoS2_ENCFF950YZE.bed.gz\"\n",
      "[397] \"fcc_astarr_macs_input_overlap.encode_chipseq_POLR2AphosphoS2_ENCFF951KHS.bed.gz\"\n",
      "[398] \"fcc_astarr_macs_input_overlap.encode_chipseq_POLR2AphosphoS5_ENCFF060MMW.bed.gz\"\n",
      "[399] \"fcc_astarr_macs_input_overlap.encode_chipseq_POLR2B_ENCFF821QOS.bed.gz\"         \n",
      "[400] \"fcc_astarr_macs_input_overlap.encode_chipseq_POLR2G_ENCFF413LLO.bed.gz\"         \n",
      "[401] \"fcc_astarr_macs_input_overlap.encode_chipseq_POLR2H_ENCFF084KHS.bed.gz\"         \n",
      "[402] \"fcc_astarr_macs_input_overlap.encode_chipseq_POLR3A_ENCFF627DJP.bed.gz\"         \n",
      "[403] \"fcc_astarr_macs_input_overlap.encode_chipseq_POLR3G_ENCFF307GHJ.bed.gz\"         \n",
      "[404] \"fcc_astarr_macs_input_overlap.encode_chipseq_POU5F1_ENCFF724DNU.bed.gz\"         \n",
      "[405] \"fcc_astarr_macs_input_overlap.encode_chipseq_PPARD_ENCFF893YKY.bed.gz\"          \n",
      "[406] \"fcc_astarr_macs_input_overlap.encode_chipseq_PRDM10_ENCFF405BKB.bed.gz\"         \n",
      "[407] \"fcc_astarr_macs_input_overlap.encode_chipseq_PRMT5_ENCFF018TNP.bed.gz\"          \n",
      "[408] \"fcc_astarr_macs_input_overlap.encode_chipseq_PRPF4_ENCFF886UMM.bed.gz\"          \n",
      "[409] \"fcc_astarr_macs_input_overlap.encode_chipseq_PTBP1_ENCFF835NOD.bed.gz\"          \n",
      "[410] \"fcc_astarr_macs_input_overlap.encode_chipseq_PTRF_ENCFF491UBF.bed.gz\"           \n",
      "[411] \"fcc_astarr_macs_input_overlap.encode_chipseq_PTTG1_ENCFF918BZG.bed.gz\"          \n",
      "[412] \"fcc_astarr_macs_input_overlap.encode_chipseq_PURB_ENCFF500BWO.bed.gz\"           \n",
      "[413] \"fcc_astarr_macs_input_overlap.encode_chipseq_PYGO2_ENCFF232TVE.bed.gz\"          \n",
      "[414] \"fcc_astarr_macs_input_overlap.encode_chipseq_PYGO2_ENCFF335VOJ.bed.gz\"          \n",
      "[415] \"fcc_astarr_macs_input_overlap.encode_chipseq_RAD21_ENCFF057JFH.bed.gz\"          \n",
      "[416] \"fcc_astarr_macs_input_overlap.encode_chipseq_RAD21_ENCFF258VXX.bed.gz\"          \n",
      "[417] \"fcc_astarr_macs_input_overlap.encode_chipseq_RAD21_ENCFF330SHG.bed.gz\"          \n",
      "[418] \"fcc_astarr_macs_input_overlap.encode_chipseq_RAD21_ENCFF930WPG.bed.gz\"          \n",
      "[419] \"fcc_astarr_macs_input_overlap.encode_chipseq_RAD51_ENCFF536WBT.bed.gz\"          \n",
      "[420] \"fcc_astarr_macs_input_overlap.encode_chipseq_RB1_ENCFF479SOJ.bed.gz\"            \n",
      "[421] \"fcc_astarr_macs_input_overlap.encode_chipseq_RBBP5_ENCFF942VGF.bed.gz\"          \n",
      "[422] \"fcc_astarr_macs_input_overlap.encode_chipseq_RBFOX2_ENCFF538ACI.bed.gz\"         \n",
      "[423] \"fcc_astarr_macs_input_overlap.encode_chipseq_RBM14_ENCFF092DLN.bed.gz\"          \n",
      "[424] \"fcc_astarr_macs_input_overlap.encode_chipseq_RBM15_ENCFF091TCH.bed.gz\"          \n",
      "[425] \"fcc_astarr_macs_input_overlap.encode_chipseq_RBM17_ENCFF937QYU.bed.gz\"          \n",
      "[426] \"fcc_astarr_macs_input_overlap.encode_chipseq_RBM22_ENCFF987DPX.bed.gz\"          \n",
      "[427] \"fcc_astarr_macs_input_overlap.encode_chipseq_RBM25_ENCFF849VEO.bed.gz\"          \n",
      "[428] \"fcc_astarr_macs_input_overlap.encode_chipseq_RBM34_ENCFF071GJH.bed.gz\"          \n",
      "[429] \"fcc_astarr_macs_input_overlap.encode_chipseq_RBM39_ENCFF983LFS.bed.gz\"          \n",
      "[430] \"fcc_astarr_macs_input_overlap.encode_chipseq_RBPJ_ENCFF691JZW.bed.gz\"           \n",
      "[431] \"fcc_astarr_macs_input_overlap.encode_chipseq_RCOR1_ENCFF224YBQ.bed.gz\"          \n",
      "[432] \"fcc_astarr_macs_input_overlap.encode_chipseq_RCOR1_ENCFF627PLM.bed.gz\"          \n",
      "[433] \"fcc_astarr_macs_input_overlap.encode_chipseq_RELA_ENCFF936WES.bed.gz\"           \n",
      "[434] \"fcc_astarr_macs_input_overlap.encode_chipseq_REST_ENCFF118ECK.bed.gz\"           \n",
      "[435] \"fcc_astarr_macs_input_overlap.encode_chipseq_REST_ENCFF539MIO.bed.gz\"           \n",
      "[436] \"fcc_astarr_macs_input_overlap.encode_chipseq_REST_ENCFF707MDI.bed.gz\"           \n",
      "[437] \"fcc_astarr_macs_input_overlap.encode_chipseq_REST_ENCFF761YYL.bed.gz\"           \n",
      "[438] \"fcc_astarr_macs_input_overlap.encode_chipseq_RFX1_ENCFF768VRG.bed.gz\"           \n",
      "[439] \"fcc_astarr_macs_input_overlap.encode_chipseq_RFX1_ENCFF820GPR.bed.gz\"           \n",
      "[440] \"fcc_astarr_macs_input_overlap.encode_chipseq_RFX5_ENCFF661EUX.bed.gz\"           \n",
      "[441] \"fcc_astarr_macs_input_overlap.encode_chipseq_RFX7_ENCFF774NZZ.bed.gz\"           \n",
      "[442] \"fcc_astarr_macs_input_overlap.encode_chipseq_RHOXF2B_ENCFF727JXN.bed.gz\"        \n",
      "[443] \"fcc_astarr_macs_input_overlap.encode_chipseq_RLF_ENCFF752VQB.bed.gz\"            \n",
      "[444] \"fcc_astarr_macs_input_overlap.encode_chipseq_RNF219_ENCFF417FFL.bed.gz\"         \n",
      "[445] \"fcc_astarr_macs_input_overlap.encode_chipseq_RNF2_ENCFF060JVZ.bed.gz\"           \n",
      "[446] \"fcc_astarr_macs_input_overlap.encode_chipseq_RNF2_ENCFF271MJE.bed.gz\"           \n",
      "[447] \"fcc_astarr_macs_input_overlap.encode_chipseq_RNF2_ENCFF408XPG.bed.gz\"           \n",
      "[448] \"fcc_astarr_macs_input_overlap.encode_chipseq_RNF2_ENCFF409SDU.bed.gz\"           \n",
      "[449] \"fcc_astarr_macs_input_overlap.encode_chipseq_RNF2_ENCFF923GDR.bed.gz\"           \n",
      "[450] \"fcc_astarr_macs_input_overlap.encode_chipseq_RREB1_ENCFF057RJK.bed.gz\"          \n",
      "[451] \"fcc_astarr_macs_input_overlap.encode_chipseq_RUNX1_ENCFF003LPE.bed.gz\"          \n",
      "[452] \"fcc_astarr_macs_input_overlap.encode_chipseq_RUNX1_ENCFF374EFU.bed.gz\"          \n",
      "[453] \"fcc_astarr_macs_input_overlap.encode_chipseq_SAFB2_ENCFF176MDV.bed.gz\"          \n",
      "[454] \"fcc_astarr_macs_input_overlap.encode_chipseq_SAFB_ENCFF537RNU.bed.gz\"           \n",
      "[455] \"fcc_astarr_macs_input_overlap.encode_chipseq_SAP30_ENCFF383IEP.bed.gz\"          \n",
      "[456] \"fcc_astarr_macs_input_overlap.encode_chipseq_SETDB1_ENCFF267QRI.bed.gz\"         \n",
      "[457] \"fcc_astarr_macs_input_overlap.encode_chipseq_SETDB1_ENCFF319ZYX.bed.gz\"         \n",
      "[458] \"fcc_astarr_macs_input_overlap.encode_chipseq_SETDB1_ENCFF752EMN.bed.gz\"         \n",
      "[459] \"fcc_astarr_macs_input_overlap.encode_chipseq_SFPQ_ENCFF652ZEN.bed.gz\"           \n",
      "[460] \"fcc_astarr_macs_input_overlap.encode_chipseq_SIN3A_ENCFF469KAH.bed.gz\"          \n",
      "[461] \"fcc_astarr_macs_input_overlap.encode_chipseq_SIN3A_ENCFF884MNF.bed.gz\"          \n",
      "[462] \"fcc_astarr_macs_input_overlap.encode_chipseq_SIN3B_ENCFF257NOX.bed.gz\"          \n",
      "[463] \"fcc_astarr_macs_input_overlap.encode_chipseq_SIRT6_ENCFF217ACS.bed.gz\"          \n",
      "[464] \"fcc_astarr_macs_input_overlap.encode_chipseq_SIRT6_ENCFF821XJU.bed.gz\"          \n",
      "[465] \"fcc_astarr_macs_input_overlap.encode_chipseq_SIX5_ENCFF742ZHT.bed.gz\"           \n",
      "[466] \"fcc_astarr_macs_input_overlap.encode_chipseq_SIX5_ENCFF754ZWP.bed.gz\"           \n",
      "[467] \"fcc_astarr_macs_input_overlap.encode_chipseq_SKIL_ENCFF067KCK.bed.gz\"           \n",
      "[468] \"fcc_astarr_macs_input_overlap.encode_chipseq_SLC30A9_ENCFF441QXF.bed.gz\"        \n",
      "[469] \"fcc_astarr_macs_input_overlap.encode_chipseq_SMAD1_ENCFF120PGJ.bed.gz\"          \n",
      "[470] \"fcc_astarr_macs_input_overlap.encode_chipseq_SMAD2_ENCFF730QQD.bed.gz\"          \n",
      "[471] \"fcc_astarr_macs_input_overlap.encode_chipseq_SMAD3_ENCFF335ZTU.bed.gz\"          \n",
      "[472] \"fcc_astarr_macs_input_overlap.encode_chipseq_SMAD3_ENCFF718DSJ.bed.gz\"          \n",
      "[473] \"fcc_astarr_macs_input_overlap.encode_chipseq_SMAD4_ENCFF232ZHD.bed.gz\"          \n",
      "[474] \"fcc_astarr_macs_input_overlap.encode_chipseq_SMAD4_ENCFF934NEX.bed.gz\"          \n",
      "[475] \"fcc_astarr_macs_input_overlap.encode_chipseq_SMAD5_ENCFF971YTJ.bed.gz\"          \n",
      "[476] \"fcc_astarr_macs_input_overlap.encode_chipseq_SMARCA4_ENCFF267OGF.bed.gz\"        \n",
      "[477] \"fcc_astarr_macs_input_overlap.encode_chipseq_SMARCA4_ENCFF486QCV.bed.gz\"        \n",
      "[478] \"fcc_astarr_macs_input_overlap.encode_chipseq_SMARCA4_ENCFF793FMG.bed.gz\"        \n",
      "[479] \"fcc_astarr_macs_input_overlap.encode_chipseq_SMARCA5_ENCFF722RWS.bed.gz\"        \n",
      "[480] \"fcc_astarr_macs_input_overlap.encode_chipseq_SMARCB1_ENCFF217LXF.bed.gz\"        \n",
      "[481] \"fcc_astarr_macs_input_overlap.encode_chipseq_SMARCC2_ENCFF908MWB.bed.gz\"        \n",
      "[482] \"fcc_astarr_macs_input_overlap.encode_chipseq_SMARCE1_ENCFF148YMC.bed.gz\"        \n",
      "[483] \"fcc_astarr_macs_input_overlap.encode_chipseq_SMC3_ENCFF289LLT.bed.gz\"           \n",
      "[484] \"fcc_astarr_macs_input_overlap.encode_chipseq_SNAPC5_ENCFF656THP.bed.gz\"         \n",
      "[485] \"fcc_astarr_macs_input_overlap.encode_chipseq_SNIP1_ENCFF020XNM.bed.gz\"          \n",
      "[486] \"fcc_astarr_macs_input_overlap.encode_chipseq_SNRNP70_ENCFF306TAD.bed.gz\"        \n",
      "[487] \"fcc_astarr_macs_input_overlap.encode_chipseq_SOX6_ENCFF125GZU.bed.gz\"           \n",
      "[488] \"fcc_astarr_macs_input_overlap.encode_chipseq_SP1_ENCFF171NEU.bed.gz\"            \n",
      "[489] \"fcc_astarr_macs_input_overlap.encode_chipseq_SP1_ENCFF412ERW.bed.gz\"            \n",
      "[490] \"fcc_astarr_macs_input_overlap.encode_chipseq_SP1_ENCFF553GPK.bed.gz\"            \n",
      "[491] \"fcc_astarr_macs_input_overlap.encode_chipseq_SP2_ENCFF741FZG.bed.gz\"            \n",
      "[492] \"fcc_astarr_macs_input_overlap.encode_chipseq_SPI1_ENCFF888CKG.bed.gz\"           \n",
      "[493] \"fcc_astarr_macs_input_overlap.encode_chipseq_SREBF1_ENCFF029RBI.bed.gz\"         \n",
      "[494] \"fcc_astarr_macs_input_overlap.encode_chipseq_SREBF2_ENCFF710YFH.bed.gz\"         \n",
      "[495] \"fcc_astarr_macs_input_overlap.encode_chipseq_SRF_ENCFF087EVW.bed.gz\"            \n",
      "[496] \"fcc_astarr_macs_input_overlap.encode_chipseq_SRF_ENCFF101SEZ.bed.gz\"            \n",
      "[497] \"fcc_astarr_macs_input_overlap.encode_chipseq_SRF_ENCFF716OTE.bed.gz\"            \n",
      "[498] \"fcc_astarr_macs_input_overlap.encode_chipseq_SRSF1_ENCFF792SXS.bed.gz\"          \n",
      "[499] \"fcc_astarr_macs_input_overlap.encode_chipseq_SRSF3_ENCFF048BKZ.bed.gz\"          \n",
      "[500] \"fcc_astarr_macs_input_overlap.encode_chipseq_SRSF7_ENCFF217MBF.bed.gz\"          \n",
      "[501] \"fcc_astarr_macs_input_overlap.encode_chipseq_SRSF9_ENCFF746IEZ.bed.gz\"          \n",
      "[502] \"fcc_astarr_macs_input_overlap.encode_chipseq_STAG1_ENCFF921BXP.bed.gz\"          \n",
      "[503] \"fcc_astarr_macs_input_overlap.encode_chipseq_STAT5A_ENCFF187BVL.bed.gz\"         \n",
      "[504] \"fcc_astarr_macs_input_overlap.encode_chipseq_STAT5B_ENCFF122FTW.bed.gz\"         \n",
      "[505] \"fcc_astarr_macs_input_overlap.encode_chipseq_SUPT5H_ENCFF738XMN.bed.gz\"         \n",
      "[506] \"fcc_astarr_macs_input_overlap.encode_chipseq_SUZ12_ENCFF647TBC.bed.gz\"          \n",
      "[507] \"fcc_astarr_macs_input_overlap.encode_chipseq_SUZ12_ENCFF889QYR.bed.gz\"          \n",
      "[508] \"fcc_astarr_macs_input_overlap.encode_chipseq_TAF15_ENCFF547PES.bed.gz\"          \n",
      "[509] \"fcc_astarr_macs_input_overlap.encode_chipseq_TAF1_ENCFF784BTI.bed.gz\"           \n",
      "[510] \"fcc_astarr_macs_input_overlap.encode_chipseq_TAF7_ENCFF199CQK.bed.gz\"           \n",
      "[511] \"fcc_astarr_macs_input_overlap.encode_chipseq_TAF7_ENCFF792CKI.bed.gz\"           \n",
      "[512] \"fcc_astarr_macs_input_overlap.encode_chipseq_TAF9B_ENCFF432HRL.bed.gz\"          \n",
      "[513] \"fcc_astarr_macs_input_overlap.encode_chipseq_TAL1_ENCFF101DBG.bed.gz\"           \n",
      "[514] \"fcc_astarr_macs_input_overlap.encode_chipseq_TAL1_ENCFF852ZRK.bed.gz\"           \n",
      "[515] \"fcc_astarr_macs_input_overlap.encode_chipseq_TARDBP_ENCFF564QOL.bed.gz\"         \n",
      "[516] \"fcc_astarr_macs_input_overlap.encode_chipseq_TARDBP_ENCFF880BPX.bed.gz\"         \n",
      "[517] \"fcc_astarr_macs_input_overlap.encode_chipseq_TARDBP_ENCFF986BYT.bed.gz\"         \n",
      "[518] \"fcc_astarr_macs_input_overlap.encode_chipseq_TBL1XR1_ENCFF034SWM.bed.gz\"        \n",
      "[519] \"fcc_astarr_macs_input_overlap.encode_chipseq_TBL1XR1_ENCFF967URJ.bed.gz\"        \n",
      "[520] \"fcc_astarr_macs_input_overlap.encode_chipseq_TBP_ENCFF370YGS.bed.gz\"            \n",
      "[521] \"fcc_astarr_macs_input_overlap.encode_chipseq_TBPL1_ENCFF927NEU.bed.gz\"          \n",
      "[522] \"fcc_astarr_macs_input_overlap.encode_chipseq_TBX18_ENCFF405EGZ.bed.gz\"          \n",
      "[523] \"fcc_astarr_macs_input_overlap.encode_chipseq_TCF12_ENCFF504PFQ.bed.gz\"          \n",
      "[524] \"fcc_astarr_macs_input_overlap.encode_chipseq_TCF12_ENCFF808QUD.bed.gz\"          \n",
      "[525] \"fcc_astarr_macs_input_overlap.encode_chipseq_TCF15_ENCFF415MKA.bed.gz\"          \n",
      "[526] \"fcc_astarr_macs_input_overlap.encode_chipseq_TCF3_ENCFF773RNU.bed.gz\"           \n",
      "[527] \"fcc_astarr_macs_input_overlap.encode_chipseq_TCF7_ENCFF736XUU.bed.gz\"           \n",
      "[528] \"fcc_astarr_macs_input_overlap.encode_chipseq_TCF7L2_ENCFF732ZNB.bed.gz\"         \n",
      "[529] \"fcc_astarr_macs_input_overlap.encode_chipseq_TCFL5_ENCFF410SWS.bed.gz\"          \n",
      "[530] \"fcc_astarr_macs_input_overlap.encode_chipseq_TEAD1_ENCFF214SNH.bed.gz\"          \n",
      "[531] \"fcc_astarr_macs_input_overlap.encode_chipseq_TEAD1_ENCFF692HUD.bed.gz\"          \n",
      "[532] \"fcc_astarr_macs_input_overlap.encode_chipseq_TEAD2_ENCFF209WPT.bed.gz\"          \n",
      "[533] \"fcc_astarr_macs_input_overlap.encode_chipseq_TEAD4_ENCFF303CVC.bed.gz\"          \n",
      "[534] \"fcc_astarr_macs_input_overlap.encode_chipseq_TEAD4_ENCFF501XJP.bed.gz\"          \n",
      "[535] \"fcc_astarr_macs_input_overlap.encode_chipseq_TFAM_ENCFF269PAM.bed.gz\"           \n",
      "[536] \"fcc_astarr_macs_input_overlap.encode_chipseq_TFAP4_ENCFF438IYI.bed.gz\"          \n",
      "[537] \"fcc_astarr_macs_input_overlap.encode_chipseq_TFCP2_ENCFF392MAR.bed.gz\"          \n",
      "[538] \"fcc_astarr_macs_input_overlap.encode_chipseq_TFDP1_ENCFF044IDV.bed.gz\"          \n",
      "[539] \"fcc_astarr_macs_input_overlap.encode_chipseq_TFDP1_ENCFF362JHQ.bed.gz\"          \n",
      "[540] \"fcc_astarr_macs_input_overlap.encode_chipseq_TFE3_ENCFF592NJN.bed.gz\"           \n",
      "[541] \"fcc_astarr_macs_input_overlap.encode_chipseq_TGIF2_ENCFF238XIA.bed.gz\"          \n",
      "[542] \"fcc_astarr_macs_input_overlap.encode_chipseq_THAP12_ENCFF206LMB.bed.gz\"         \n",
      "[543] \"fcc_astarr_macs_input_overlap.encode_chipseq_THAP1_ENCFF823RYG.bed.gz\"          \n",
      "[544] \"fcc_astarr_macs_input_overlap.encode_chipseq_THAP7_ENCFF372YFU.bed.gz\"          \n",
      "[545] \"fcc_astarr_macs_input_overlap.encode_chipseq_THRA_ENCFF992HUS.bed.gz\"           \n",
      "[546] \"fcc_astarr_macs_input_overlap.encode_chipseq_THRAP3_ENCFF067FJF.bed.gz\"         \n",
      "[547] \"fcc_astarr_macs_input_overlap.encode_chipseq_THRB_ENCFF906PUB.bed.gz\"           \n",
      "[548] \"fcc_astarr_macs_input_overlap.encode_chipseq_TOE1_ENCFF563WUP.bed.gz\"           \n",
      "[549] \"fcc_astarr_macs_input_overlap.encode_chipseq_TOE1_ENCFF917HUH.bed.gz\"           \n",
      "[550] \"fcc_astarr_macs_input_overlap.encode_chipseq_TRIM24_ENCFF527MLG.bed.gz\"         \n",
      "[551] \"fcc_astarr_macs_input_overlap.encode_chipseq_TRIM24_ENCFF597YMB.bed.gz\"         \n",
      "[552] \"fcc_astarr_macs_input_overlap.encode_chipseq_TRIM25_ENCFF110HVI.bed.gz\"         \n",
      "[553] \"fcc_astarr_macs_input_overlap.encode_chipseq_TRIM25_ENCFF448LKL.bed.gz\"         \n",
      "[554] \"fcc_astarr_macs_input_overlap.encode_chipseq_TRIM28_ENCFF172CRL.bed.gz\"         \n",
      "[555] \"fcc_astarr_macs_input_overlap.encode_chipseq_TRIM28_ENCFF634OOU.bed.gz\"         \n",
      "[556] \"fcc_astarr_macs_input_overlap.encode_chipseq_TRIM28_ENCFF770JQM.bed.gz\"         \n",
      "[557] \"fcc_astarr_macs_input_overlap.encode_chipseq_TRIP13_ENCFF955QCD.bed.gz\"         \n",
      "[558] \"fcc_astarr_macs_input_overlap.encode_chipseq_TSC22D4_ENCFF705SFR.bed.gz\"        \n",
      "[559] \"fcc_astarr_macs_input_overlap.encode_chipseq_TSHZ1_ENCFF144ZLB.bed.gz\"          \n",
      "[560] \"fcc_astarr_macs_input_overlap.encode_chipseq_U2AF1_ENCFF752DQV.bed.gz\"          \n",
      "[561] \"fcc_astarr_macs_input_overlap.encode_chipseq_U2AF2_ENCFF164CTH.bed.gz\"          \n",
      "[562] \"fcc_astarr_macs_input_overlap.encode_chipseq_UBTF_ENCFF326CIT.bed.gz\"           \n",
      "[563] \"fcc_astarr_macs_input_overlap.encode_chipseq_UBTF_ENCFF568ZPW.bed.gz\"           \n",
      "[564] \"fcc_astarr_macs_input_overlap.encode_chipseq_USF1_ENCFF255QDL.bed.gz\"           \n",
      "[565] \"fcc_astarr_macs_input_overlap.encode_chipseq_USF1_ENCFF310CCS.bed.gz\"           \n",
      "[566] \"fcc_astarr_macs_input_overlap.encode_chipseq_USF2_ENCFF289ZIR.bed.gz\"           \n",
      "[567] \"fcc_astarr_macs_input_overlap.encode_chipseq_USF2_ENCFF640ZIN.bed.gz\"           \n",
      "[568] \"fcc_astarr_macs_input_overlap.encode_chipseq_USF2_ENCFF744HVD.bed.gz\"           \n",
      "[569] \"fcc_astarr_macs_input_overlap.encode_chipseq_VEZF1_ENCFF433ERT.bed.gz\"          \n",
      "[570] \"fcc_astarr_macs_input_overlap.encode_chipseq_WHSC1_ENCFF862UUR.bed.gz\"          \n",
      "[571] \"fcc_astarr_macs_input_overlap.encode_chipseq_XRCC3_ENCFF137OGC.bed.gz\"          \n",
      "[572] \"fcc_astarr_macs_input_overlap.encode_chipseq_XRCC4_ENCFF540QPM.bed.gz\"          \n",
      "[573] \"fcc_astarr_macs_input_overlap.encode_chipseq_XRCC5_ENCFF708IYN.bed.gz\"          \n",
      "[574] \"fcc_astarr_macs_input_overlap.encode_chipseq_YBX1_ENCFF286IPW.bed.gz\"           \n",
      "[575] \"fcc_astarr_macs_input_overlap.encode_chipseq_YBX3_ENCFF877ZKU.bed.gz\"           \n",
      "[576] \"fcc_astarr_macs_input_overlap.encode_chipseq_YY1_ENCFF074OAM.bed.gz\"            \n",
      "[577] \"fcc_astarr_macs_input_overlap.encode_chipseq_YY1_ENCFF398UQZ.bed.gz\"            \n",
      "[578] \"fcc_astarr_macs_input_overlap.encode_chipseq_YY1_ENCFF589PZO.bed.gz\"            \n",
      "[579] \"fcc_astarr_macs_input_overlap.encode_chipseq_ZBED1_ENCFF392INU.bed.gz\"          \n",
      "[580] \"fcc_astarr_macs_input_overlap.encode_chipseq_ZBTB11_ENCFF227HVU.bed.gz\"         \n",
      "[581] \"fcc_astarr_macs_input_overlap.encode_chipseq_ZBTB11_ENCFF539GWU.bed.gz\"         \n",
      "[582] \"fcc_astarr_macs_input_overlap.encode_chipseq_ZBTB11_ENCFF554GSE.bed.gz\"         \n",
      "[583] \"fcc_astarr_macs_input_overlap.encode_chipseq_ZBTB11_ENCFF991VAW.bed.gz\"         \n",
      "[584] \"fcc_astarr_macs_input_overlap.encode_chipseq_ZBTB12_ENCFF830MTX.bed.gz\"         \n",
      "[585] \"fcc_astarr_macs_input_overlap.encode_chipseq_ZBTB17_ENCFF292HSS.bed.gz\"         \n",
      "[586] \"fcc_astarr_macs_input_overlap.encode_chipseq_ZBTB26_ENCFF435SNP.bed.gz\"         \n",
      "[587] \"fcc_astarr_macs_input_overlap.encode_chipseq_ZBTB2_ENCFF209DVO.bed.gz\"          \n",
      "[588] \"fcc_astarr_macs_input_overlap.encode_chipseq_ZBTB33_ENCFF146GZZ.bed.gz\"         \n",
      "[589] \"fcc_astarr_macs_input_overlap.encode_chipseq_ZBTB33_ENCFF917RIN.bed.gz\"         \n",
      "[590] \"fcc_astarr_macs_input_overlap.encode_chipseq_ZBTB34_ENCFF683VXW.bed.gz\"         \n",
      "[591] \"fcc_astarr_macs_input_overlap.encode_chipseq_ZBTB40_ENCFF132DPY.bed.gz\"         \n",
      "[592] \"fcc_astarr_macs_input_overlap.encode_chipseq_ZBTB40_ENCFF624PTB.bed.gz\"         \n",
      "[593] \"fcc_astarr_macs_input_overlap.encode_chipseq_ZBTB40_ENCFF803CYY.bed.gz\"         \n",
      "[594] \"fcc_astarr_macs_input_overlap.encode_chipseq_ZBTB49_ENCFF308VAI.bed.gz\"         \n",
      "[595] \"fcc_astarr_macs_input_overlap.encode_chipseq_ZBTB5_ENCFF079EGS.bed.gz\"          \n",
      "[596] \"fcc_astarr_macs_input_overlap.encode_chipseq_ZBTB5_ENCFF460GXA.bed.gz\"          \n",
      "[597] \"fcc_astarr_macs_input_overlap.encode_chipseq_ZBTB7A_ENCFF346AOR.bed.gz\"         \n",
      "[598] \"fcc_astarr_macs_input_overlap.encode_chipseq_ZBTB8A_ENCFF423CWQ.bed.gz\"         \n",
      "[599] \"fcc_astarr_macs_input_overlap.encode_chipseq_ZBTB9_ENCFF588CXX.bed.gz\"          \n",
      "[600] \"fcc_astarr_macs_input_overlap.encode_chipseq_ZC3H11A_ENCFF528SIV.bed.gz\"        \n",
      "[601] \"fcc_astarr_macs_input_overlap.encode_chipseq_ZC3H4_ENCFF270TMW.bed.gz\"          \n",
      "[602] \"fcc_astarr_macs_input_overlap.encode_chipseq_ZC3H8_ENCFF045AOZ.bed.gz\"          \n",
      "[603] \"fcc_astarr_macs_input_overlap.encode_chipseq_ZC3H8_ENCFF230DZT.bed.gz\"          \n",
      "[604] \"fcc_astarr_macs_input_overlap.encode_chipseq_ZEB2_ENCFF242AOL.bed.gz\"           \n",
      "[605] \"fcc_astarr_macs_input_overlap.encode_chipseq_ZEB2_ENCFF475CIS.bed.gz\"           \n",
      "[606] \"fcc_astarr_macs_input_overlap.encode_chipseq_ZFP1_ENCFF795AWO.bed.gz\"           \n",
      "[607] \"fcc_astarr_macs_input_overlap.encode_chipseq_ZFP30_ENCFF141HPL.bed.gz\"          \n",
      "[608] \"fcc_astarr_macs_input_overlap.encode_chipseq_ZFP36_ENCFF839GAS.bed.gz\"          \n",
      "[609] \"fcc_astarr_macs_input_overlap.encode_chipseq_ZFP91_ENCFF718IGO.bed.gz\"          \n",
      "[610] \"fcc_astarr_macs_input_overlap.encode_chipseq_ZFP91_ENCFF835PDO.bed.gz\"          \n",
      "[611] \"fcc_astarr_macs_input_overlap.encode_chipseq_ZFPM2_ENCFF549NPY.bed.gz\"          \n",
      "[612] \"fcc_astarr_macs_input_overlap.encode_chipseq_ZFX_ENCFF840NZE.bed.gz\"            \n",
      "[613] \"fcc_astarr_macs_input_overlap.encode_chipseq_ZFX_ENCFF910JTR.bed.gz\"            \n",
      "[614] \"fcc_astarr_macs_input_overlap.encode_chipseq_ZHX1_ENCFF175YPM.bed.gz\"           \n",
      "[615] \"fcc_astarr_macs_input_overlap.encode_chipseq_ZKSCAN1_ENCFF560UGR.bed.gz\"        \n",
      "[616] \"fcc_astarr_macs_input_overlap.encode_chipseq_ZKSCAN3_ENCFF697DRN.bed.gz\"        \n",
      "[617] \"fcc_astarr_macs_input_overlap.encode_chipseq_ZKSCAN8_ENCFF908SNB.bed.gz\"        \n",
      "[618] \"fcc_astarr_macs_input_overlap.encode_chipseq_ZMIZ1_ENCFF316IYH.bed.gz\"          \n",
      "[619] \"fcc_astarr_macs_input_overlap.encode_chipseq_ZMIZ1_ENCFF881DAT.bed.gz\"          \n",
      "[620] \"fcc_astarr_macs_input_overlap.encode_chipseq_ZMYM3_ENCFF117XRE.bed.gz\"          \n",
      "[621] \"fcc_astarr_macs_input_overlap.encode_chipseq_ZNF121_ENCFF650DWZ.bed.gz\"         \n",
      "[622] \"fcc_astarr_macs_input_overlap.encode_chipseq_ZNF124_ENCFF881MMD.bed.gz\"         \n",
      "[623] \"fcc_astarr_macs_input_overlap.encode_chipseq_ZNF12_ENCFF021JCJ.bed.gz\"          \n",
      "[624] \"fcc_astarr_macs_input_overlap.encode_chipseq_ZNF133_ENCFF810OHB.bed.gz\"         \n",
      "[625] \"fcc_astarr_macs_input_overlap.encode_chipseq_ZNF134_ENCFF169AWH.bed.gz\"         \n",
      "[626] \"fcc_astarr_macs_input_overlap.encode_chipseq_ZNF140_ENCFF207XCM.bed.gz\"         \n",
      "[627] \"fcc_astarr_macs_input_overlap.encode_chipseq_ZNF143_ENCFF596HNP.bed.gz\"         \n",
      "[628] \"fcc_astarr_macs_input_overlap.encode_chipseq_ZNF146_ENCFF932FVX.bed.gz\"         \n",
      "[629] \"fcc_astarr_macs_input_overlap.encode_chipseq_ZNF148_ENCFF283UWH.bed.gz\"         \n",
      "[630] \"fcc_astarr_macs_input_overlap.encode_chipseq_ZNF165_ENCFF169QYL.bed.gz\"         \n",
      "[631] \"fcc_astarr_macs_input_overlap.encode_chipseq_ZNF174_ENCFF822FXR.bed.gz\"         \n",
      "[632] \"fcc_astarr_macs_input_overlap.encode_chipseq_ZNF175_ENCFF192MEM.bed.gz\"         \n",
      "[633] \"fcc_astarr_macs_input_overlap.encode_chipseq_ZNF184_ENCFF058VGZ.bed.gz\"         \n",
      "[634] \"fcc_astarr_macs_input_overlap.encode_chipseq_ZNF184_ENCFF266FUJ.bed.gz\"         \n",
      "[635] \"fcc_astarr_macs_input_overlap.encode_chipseq_ZNF184_ENCFF882XTP.bed.gz\"         \n",
      "[636] \"fcc_astarr_macs_input_overlap.encode_chipseq_ZNF197_ENCFF987UBO.bed.gz\"         \n",
      "[637] \"fcc_astarr_macs_input_overlap.encode_chipseq_ZNF212_ENCFF435MHH.bed.gz\"         \n",
      "[638] \"fcc_astarr_macs_input_overlap.encode_chipseq_ZNF215_ENCFF922RHM.bed.gz\"         \n",
      "[639] \"fcc_astarr_macs_input_overlap.encode_chipseq_ZNF217_ENCFF515LWL.bed.gz\"         \n",
      "[640] \"fcc_astarr_macs_input_overlap.encode_chipseq_ZNF224_ENCFF905RSN.bed.gz\"         \n",
      "[641] \"fcc_astarr_macs_input_overlap.encode_chipseq_ZNF232_ENCFF672PJF.bed.gz\"         \n",
      "[642] \"fcc_astarr_macs_input_overlap.encode_chipseq_ZNF239_ENCFF569TJP.bed.gz\"         \n",
      "[643] \"fcc_astarr_macs_input_overlap.encode_chipseq_ZNF23_ENCFF063VRD.bed.gz\"          \n",
      "[644] \"fcc_astarr_macs_input_overlap.encode_chipseq_ZNF24_ENCFF225GCF.bed.gz\"          \n",
      "[645] \"fcc_astarr_macs_input_overlap.encode_chipseq_ZNF24_ENCFF268YOM.bed.gz\"          \n",
      "[646] \"fcc_astarr_macs_input_overlap.encode_chipseq_ZNF24_ENCFF649OPX.bed.gz\"          \n",
      "[647] \"fcc_astarr_macs_input_overlap.encode_chipseq_ZNF24_ENCFF683VTL.bed.gz\"          \n",
      "[648] \"fcc_astarr_macs_input_overlap.encode_chipseq_ZNF253_ENCFF019NGO.bed.gz\"         \n",
      "[649] \"fcc_astarr_macs_input_overlap.encode_chipseq_ZNF257_ENCFF738IQL.bed.gz\"         \n",
      "[650] \"fcc_astarr_macs_input_overlap.encode_chipseq_ZNF263_ENCFF264BDD.bed.gz\"         \n",
      "[651] \"fcc_astarr_macs_input_overlap.encode_chipseq_ZNF263_ENCFF295XBK.bed.gz\"         \n",
      "[652] \"fcc_astarr_macs_input_overlap.encode_chipseq_ZNF274_ENCFF045CFL.bed.gz\"         \n",
      "[653] \"fcc_astarr_macs_input_overlap.encode_chipseq_ZNF274_ENCFF742DPO.bed.gz\"         \n",
      "[654] \"fcc_astarr_macs_input_overlap.encode_chipseq_ZNF277_ENCFF382QUI.bed.gz\"         \n",
      "[655] \"fcc_astarr_macs_input_overlap.encode_chipseq_ZNF280A_ENCFF932ZCO.bed.gz\"        \n",
      "[656] \"fcc_astarr_macs_input_overlap.encode_chipseq_ZNF280B_ENCFF253UAF.bed.gz\"        \n",
      "[657] \"fcc_astarr_macs_input_overlap.encode_chipseq_ZNF281_ENCFF648ORA.bed.gz\"         \n",
      "[658] \"fcc_astarr_macs_input_overlap.encode_chipseq_ZNF282_ENCFF110GDP.bed.gz\"         \n",
      "[659] \"fcc_astarr_macs_input_overlap.encode_chipseq_ZNF311_ENCFF080KWE.bed.gz\"         \n",
      "[660] \"fcc_astarr_macs_input_overlap.encode_chipseq_ZNF316_ENCFF451AEQ.bed.gz\"         \n",
      "[661] \"fcc_astarr_macs_input_overlap.encode_chipseq_ZNF316_ENCFF840SLB.bed.gz\"         \n",
      "[662] \"fcc_astarr_macs_input_overlap.encode_chipseq_ZNF318_ENCFF545WAL.bed.gz\"         \n",
      "[663] \"fcc_astarr_macs_input_overlap.encode_chipseq_ZNF318_ENCFF990SFN.bed.gz\"         \n",
      "[664] \"fcc_astarr_macs_input_overlap.encode_chipseq_ZNF319_ENCFF873VFI.bed.gz\"         \n",
      "[665] \"fcc_astarr_macs_input_overlap.encode_chipseq_ZNF324_ENCFF265MQC.bed.gz\"         \n",
      "[666] \"fcc_astarr_macs_input_overlap.encode_chipseq_ZNF347_ENCFF843NBV.bed.gz\"         \n",
      "[667] \"fcc_astarr_macs_input_overlap.encode_chipseq_ZNF354B_ENCFF649UCX.bed.gz\"        \n",
      "[668] \"fcc_astarr_macs_input_overlap.encode_chipseq_ZNF354B_ENCFF712NHB.bed.gz\"        \n",
      "[669] \"fcc_astarr_macs_input_overlap.encode_chipseq_ZNF354C_ENCFF604RBX.bed.gz\"        \n",
      "[670] \"fcc_astarr_macs_input_overlap.encode_chipseq_ZNF384_ENCFF864XZP.bed.gz\"         \n",
      "[671] \"fcc_astarr_macs_input_overlap.encode_chipseq_ZNF395_ENCFF430IPX.bed.gz\"         \n",
      "[672] \"fcc_astarr_macs_input_overlap.encode_chipseq_ZNF397_ENCFF193BGB.bed.gz\"         \n",
      "[673] \"fcc_astarr_macs_input_overlap.encode_chipseq_ZNF398_ENCFF380KJB.bed.gz\"         \n",
      "[674] \"fcc_astarr_macs_input_overlap.encode_chipseq_ZNF3_ENCFF180XUM.bed.gz\"           \n",
      "[675] \"fcc_astarr_macs_input_overlap.encode_chipseq_ZNF3_ENCFF798AFV.bed.gz\"           \n",
      "[676] \"fcc_astarr_macs_input_overlap.encode_chipseq_ZNF407_ENCFF015FXW.bed.gz\"         \n",
      "[677] \"fcc_astarr_macs_input_overlap.encode_chipseq_ZNF407_ENCFF255HEF.bed.gz\"         \n",
      "[678] \"fcc_astarr_macs_input_overlap.encode_chipseq_ZNF408_ENCFF207MLR.bed.gz\"         \n",
      "[679] \"fcc_astarr_macs_input_overlap.encode_chipseq_ZNF41_ENCFF629EAD.bed.gz\"          \n",
      "[680] \"fcc_astarr_macs_input_overlap.encode_chipseq_ZNF431_ENCFF442RYH.bed.gz\"         \n",
      "[681] \"fcc_astarr_macs_input_overlap.encode_chipseq_ZNF436_ENCFF318ZUN.bed.gz\"         \n",
      "[682] \"fcc_astarr_macs_input_overlap.encode_chipseq_ZNF444_ENCFF295XCB.bed.gz\"         \n",
      "[683] \"fcc_astarr_macs_input_overlap.encode_chipseq_ZNF445_ENCFF416TFM.bed.gz\"         \n",
      "[684] \"fcc_astarr_macs_input_overlap.encode_chipseq_ZNF449_ENCFF443BGE.bed.gz\"         \n",
      "[685] \"fcc_astarr_macs_input_overlap.encode_chipseq_ZNF507_ENCFF072JDK.bed.gz\"         \n",
      "[686] \"fcc_astarr_macs_input_overlap.encode_chipseq_ZNF507_ENCFF878SVX.bed.gz\"         \n",
      "[687] \"fcc_astarr_macs_input_overlap.encode_chipseq_ZNF511_ENCFF653ABW.bed.gz\"         \n",
      "[688] \"fcc_astarr_macs_input_overlap.encode_chipseq_ZNF512_ENCFF184IOY.bed.gz\"         \n",
      "[689] \"fcc_astarr_macs_input_overlap.encode_chipseq_ZNF512_ENCFF817EJA.bed.gz\"         \n",
      "[690] \"fcc_astarr_macs_input_overlap.encode_chipseq_ZNF518B_ENCFF096AYV.bed.gz\"        \n",
      "[691] \"fcc_astarr_macs_input_overlap.encode_chipseq_ZNF551_ENCFF913YMX.bed.gz\"         \n",
      "[692] \"fcc_astarr_macs_input_overlap.encode_chipseq_ZNF561_ENCFF701RWL.bed.gz\"         \n",
      "[693] \"fcc_astarr_macs_input_overlap.encode_chipseq_ZNF57_ENCFF945IST.bed.gz\"          \n",
      "[694] \"fcc_astarr_macs_input_overlap.encode_chipseq_ZNF583_ENCFF053ABJ.bed.gz\"         \n",
      "[695] \"fcc_astarr_macs_input_overlap.encode_chipseq_ZNF584_ENCFF005MBI.bed.gz\"         \n",
      "[696] \"fcc_astarr_macs_input_overlap.encode_chipseq_ZNF586_ENCFF887ZDT.bed.gz\"         \n",
      "[697] \"fcc_astarr_macs_input_overlap.encode_chipseq_ZNF589_ENCFF345IHK.bed.gz\"         \n",
      "[698] \"fcc_astarr_macs_input_overlap.encode_chipseq_ZNF592_ENCFF847QJI.bed.gz\"         \n",
      "[699] \"fcc_astarr_macs_input_overlap.encode_chipseq_ZNF639_ENCFF217EJG.bed.gz\"         \n",
      "[700] \"fcc_astarr_macs_input_overlap.encode_chipseq_ZNF639_ENCFF643AUL.bed.gz\"         \n",
      "[701] \"fcc_astarr_macs_input_overlap.encode_chipseq_ZNF639_ENCFF645OCW.bed.gz\"         \n",
      "[702] \"fcc_astarr_macs_input_overlap.encode_chipseq_ZNF639_ENCFF669VJB.bed.gz\"         \n",
      "[703] \"fcc_astarr_macs_input_overlap.encode_chipseq_ZNF644_ENCFF773XPT.bed.gz\"         \n",
      "[704] \"fcc_astarr_macs_input_overlap.encode_chipseq_ZNF655_ENCFF156EZP.bed.gz\"         \n",
      "[705] \"fcc_astarr_macs_input_overlap.encode_chipseq_ZNF668_ENCFF885HJI.bed.gz\"         \n",
      "[706] \"fcc_astarr_macs_input_overlap.encode_chipseq_ZNF695_ENCFF493LZB.bed.gz\"         \n",
      "[707] \"fcc_astarr_macs_input_overlap.encode_chipseq_ZNF696_ENCFF899BJR.bed.gz\"         \n",
      "[708] \"fcc_astarr_macs_input_overlap.encode_chipseq_ZNF699_ENCFF854SNX.bed.gz\"         \n",
      "[709] \"fcc_astarr_macs_input_overlap.encode_chipseq_ZNF700_ENCFF208OME.bed.gz\"         \n",
      "[710] \"fcc_astarr_macs_input_overlap.encode_chipseq_ZNF707_ENCFF959ZKZ.bed.gz\"         \n",
      "[711] \"fcc_astarr_macs_input_overlap.encode_chipseq_ZNF717_ENCFF159END.bed.gz\"         \n",
      "[712] \"fcc_astarr_macs_input_overlap.encode_chipseq_ZNF740_ENCFF004YCK.bed.gz\"         \n",
      "[713] \"fcc_astarr_macs_input_overlap.encode_chipseq_ZNF740_ENCFF219NIA.bed.gz\"         \n",
      "[714] \"fcc_astarr_macs_input_overlap.encode_chipseq_ZNF740_ENCFF959SMC.bed.gz\"         \n",
      "[715] \"fcc_astarr_macs_input_overlap.encode_chipseq_ZNF75A_ENCFF307UZC.bed.gz\"         \n",
      "[716] \"fcc_astarr_macs_input_overlap.encode_chipseq_ZNF764_ENCFF049MDN.bed.gz\"         \n",
      "[717] \"fcc_astarr_macs_input_overlap.encode_chipseq_ZNF766_ENCFF466PKS.bed.gz\"         \n",
      "[718] \"fcc_astarr_macs_input_overlap.encode_chipseq_ZNF76_ENCFF305XQM.bed.gz\"          \n",
      "[719] \"fcc_astarr_macs_input_overlap.encode_chipseq_ZNF778_ENCFF165JQS.bed.gz\"         \n",
      "[720] \"fcc_astarr_macs_input_overlap.encode_chipseq_ZNF77_ENCFF809JNC.bed.gz\"          \n",
      "[721] \"fcc_astarr_macs_input_overlap.encode_chipseq_ZNF780A_ENCFF794OSY.bed.gz\"        \n",
      "[722] \"fcc_astarr_macs_input_overlap.encode_chipseq_ZNF785_ENCFF352NGK.bed.gz\"         \n",
      "[723] \"fcc_astarr_macs_input_overlap.encode_chipseq_ZNF79_ENCFF670RLH.bed.gz\"          \n",
      "[724] \"fcc_astarr_macs_input_overlap.encode_chipseq_ZNF7_ENCFF018HWM.bed.gz\"           \n",
      "[725] \"fcc_astarr_macs_input_overlap.encode_chipseq_ZNF830_ENCFF150ZBY.bed.gz\"         \n",
      "[726] \"fcc_astarr_macs_input_overlap.encode_chipseq_ZNF830_ENCFF672NBD.bed.gz\"         \n",
      "[727] \"fcc_astarr_macs_input_overlap.encode_chipseq_ZNF830_ENCFF896IUI.bed.gz\"         \n",
      "[728] \"fcc_astarr_macs_input_overlap.encode_chipseq_ZNF83_ENCFF451LLC.bed.gz\"          \n",
      "[729] \"fcc_astarr_macs_input_overlap.encode_chipseq_ZNF84_ENCFF014HYS.bed.gz\"          \n",
      "[730] \"fcc_astarr_macs_input_overlap.encode_chipseq_ZSCAN29_ENCFF151WYQ.bed.gz\"        \n",
      "[731] \"fcc_astarr_macs_input_overlap.encode_chipseq_ZSCAN29_ENCFF407STM.bed.gz\"        \n",
      "[732] \"fcc_astarr_macs_input_overlap.encode_chipseq_ZSCAN32_ENCFF537HHU.bed.gz\"        \n",
      "[733] \"fcc_astarr_macs_input_overlap.encode_chipseq_ZZZ3_ENCFF797VEK.bed.gz\"           \n",
      "\n",
      "Save annotation... \n",
      "FDiry:  /mount/repo/Proj_ENCODE_FCC/results/region_annotation/fcc_astarr_macs_input_overlap/summary \n",
      "FName1: region.annotation.encode_chipseq_flagship.tsv \n",
      "FName2: region.summary.encode_chipseq_flagship.tsv \n",
      "\n"
     ]
    }
   ],
   "source": [
    "### loop through region A\n",
    "for (idx in seq_along(lst_region_label_A)){\n",
    "    ### get region A\n",
    "    lst = lst_region_label_A[[idx]]\n",
    "    txt_region_folder_A = lst$Folder\n",
    "    txt_region_label_A  = lst$Label\n",
    "\n",
    "    ### get column names for region A\n",
    "    txt_fdiry = file.path(FD_RES, \"region\", txt_region_folder_A, \"summary\")\n",
    "    txt_fname = \"description.tsv\"\n",
    "    txt_fpath = file.path(txt_fdiry, txt_fname)\n",
    "    dat_cname = read_tsv(txt_fpath, show_col_types = FALSE)\n",
    "    vec_txt_cname_A = dat_cname$Name\n",
    "\n",
    "    ### loop through region B\n",
    "    for (txt_region_folder_B in vec_txt_region_folder_B){\n",
    "        ### get column names for region B\n",
    "        txt_fdiry = file.path(FD_RES, \"region\", txt_region_folder_B, \"summary\")\n",
    "        txt_fname = \"description.tsv\"\n",
    "        txt_fpath = file.path(txt_fdiry, txt_fname)\n",
    "        dat_cname = read_tsv(txt_fpath, show_col_types = FALSE)\n",
    "        vec_txt_cname_B = dat_cname$Name\n",
    "\n",
    "        ### get total column names for annotation table\n",
    "        vec_txt_cname = c(\n",
    "            paste0(vec_txt_cname_A, \"_A\"),\n",
    "            paste0(vec_txt_cname_B, \"_B\"),\n",
    "            \"Overlap\"\n",
    "        )\n",
    "        \n",
    "        ### get directory of annotation table\n",
    "        txt_fdiry = file.path(\n",
    "            FD_RES, \n",
    "            \"region_annotation\",\n",
    "            txt_region_label_A, \n",
    "            txt_region_folder_B\n",
    "        )\n",
    "        txt_fname = \"*bed.gz\"\n",
    "        txt_fglob = file.path(txt_fdiry, txt_fname)\n",
    "\n",
    "        ### get annotation table files\n",
    "        vec_txt_fpath = Sys.glob(txt_fglob)\n",
    "        vec_txt_fname = basename(vec_txt_fpath)\n",
    "\n",
    "        ### show progress\n",
    "        cat(\"===========================================\\n\")\n",
    "        cat(\"Read annotation...\", \"\\n\")\n",
    "        cat(\"Region A:\", txt_region_folder_A, \"|\", txt_region_label_A, \"\\n\")\n",
    "        cat(\"Region B:\", txt_region_folder_B, \"\\n\")\n",
    "        cat(\"FDiry:   \", \"\\n\")\n",
    "        print(txt_fdiry)\n",
    "        cat(\"FName:   \", \"\\n\")\n",
    "        print(vec_txt_fname)\n",
    "        cat(\"\\n\")\n",
    "        flush.console()\n",
    "        \n",
    "        ### import annotation tables\n",
    "        lst = lapply(vec_txt_fname, function(txt_fname){\n",
    "            ### set directory\n",
    "            txt_fpath = file.path(txt_fdiry, txt_fname)\n",
    "            \n",
    "            ### get annotation of region A and region B\n",
    "            vec = str_split(txt_fname, \"\\\\.\")[[1]]\n",
    "            txt_annot_A = vec[1]\n",
    "            txt_annot_B = vec[2]\n",
    "\n",
    "            ### get group,label of region B\n",
    "            vec = str_split(txt_annot_B, \"_\")[[1]]\n",
    "            txt_group_B = \"ChIP-seq:Histone\"\n",
    "            txt_label_B = vec[3]\n",
    "            \n",
    "            ### read table and add annotation labels\n",
    "            dat = read_tsv(txt_fpath, col_names = vec_txt_cname, show_col_types = FALSE)\n",
    "            dat = dat %>% \n",
    "                dplyr::mutate(\n",
    "                    Region_A = fun_gen_region(Chrom_A, ChromStart_A, ChromEnd_A),\n",
    "                    Region_B = fun_gen_region(Chrom_B, ChromStart_B, ChromEnd_B),\n",
    "                    Annotation_A = txt_annot_A,\n",
    "                    Annotation_B = txt_annot_B,\n",
    "                    Group_B = txt_group_B,\n",
    "                    Label_B = txt_label_B\n",
    "                )\n",
    "            return(dat)\n",
    "        }) \n",
    "\n",
    "        ### remove empty table\n",
    "        tmp = lapply(lst, nrow)\n",
    "        idx = which(tmp == 0)\n",
    "        lst = lst[-idx]\n",
    "        \n",
    "        ### concatenate tables\n",
    "        dat = bind_rows(lst)\n",
    "        dat_region_annot_pair = dat\n",
    "        \n",
    "        ### summarize annotation tables\n",
    "        dat = dat_region_annot_pair\n",
    "        dat = dat %>%\n",
    "            dplyr::group_by(\n",
    "                Chrom_A, ChromStart_A, ChromEnd_A, Region_A,\n",
    "                Annotation_A,\n",
    "                Annotation_B,\n",
    "                Group_B,\n",
    "                Label_B\n",
    "            ) %>%\n",
    "            dplyr::summarise(\n",
    "                Region_B = paste(Region_B, collapse=\";\"),\n",
    "                Count_B  = n(),\n",
    "                .groups = \"drop\")\n",
    "        dat_region_annot_summary = dat\n",
    "\n",
    "        ### set directory\n",
    "        txt_fdiry = file.path(\n",
    "            FD_RES, \n",
    "            \"region_annotation\",\n",
    "            txt_region_label_A,\n",
    "            \"summary\"\n",
    "        )\n",
    "        txt_fname1 = paste(\"region\", \"annotation\", txt_region_folder_B, \"tsv\", sep = \".\")\n",
    "        txt_fpath1 = file.path(txt_fdiry, txt_fname1)\n",
    "        txt_fname2 = paste(\"region\", \"summary\",    txt_region_folder_B, \"tsv\", sep = \".\")\n",
    "        txt_fpath2 = file.path(txt_fdiry, txt_fname2)\n",
    "        \n",
    "        ### show progress\n",
    "        cat(\"Save annotation...\",  \"\\n\")\n",
    "        cat(\"FDiry: \", txt_fdiry, \"\\n\")\n",
    "        cat(\"FName1:\", txt_fname1, \"\\n\")\n",
    "        cat(\"FName2:\", txt_fname2, \"\\n\")\n",
    "        cat(\"\\n\")\n",
    "        flush.console()\n",
    "\n",
    "        ### write tables\n",
    "        dir.create(txt_fdiry, showWarnings = FALSE)\n",
    "        write_tsv(dat_region_annot_pair,    txt_fpath1)\n",
    "        write_tsv(dat_region_annot_summary, txt_fpath2)\n",
    "    } ### end loop region B\n",
    "} ### end loop region A"
   ]
  },
  {
   "cell_type": "markdown",
   "id": "0f0dface-31b5-4d48-bbf8-1940c40f66b5",
   "metadata": {},
   "source": [
    "## Review"
   ]
  },
  {
   "cell_type": "code",
   "execution_count": 22,
   "id": "97208b2b-1467-4c49-b06b-79e454ef9ccd",
   "metadata": {},
   "outputs": [
    {
     "data": {
      "text/html": [
       "<table class=\"dataframe\">\n",
       "<caption>A tibble: 6 × 20</caption>\n",
       "<thead>\n",
       "\t<tr><th scope=col>Chrom_A</th><th scope=col>ChromStart_A</th><th scope=col>ChromEnd_A</th><th scope=col>Chrom_B</th><th scope=col>ChromStart_B</th><th scope=col>ChromEnd_B</th><th scope=col>Name_B</th><th scope=col>Score_B</th><th scope=col>Strand_B</th><th scope=col>SignalValue_B</th><th scope=col>PValue_B</th><th scope=col>QValue_B</th><th scope=col>Peak_B</th><th scope=col>Overlap</th><th scope=col>Region_A</th><th scope=col>Region_B</th><th scope=col>Annotation_A</th><th scope=col>Annotation_B</th><th scope=col>Group_B</th><th scope=col>Label_B</th></tr>\n",
       "\t<tr><th scope=col>&lt;chr&gt;</th><th scope=col>&lt;dbl&gt;</th><th scope=col>&lt;dbl&gt;</th><th scope=col>&lt;chr&gt;</th><th scope=col>&lt;dbl&gt;</th><th scope=col>&lt;dbl&gt;</th><th scope=col>&lt;chr&gt;</th><th scope=col>&lt;dbl&gt;</th><th scope=col>&lt;chr&gt;</th><th scope=col>&lt;dbl&gt;</th><th scope=col>&lt;dbl&gt;</th><th scope=col>&lt;dbl&gt;</th><th scope=col>&lt;dbl&gt;</th><th scope=col>&lt;dbl&gt;</th><th scope=col>&lt;chr&gt;</th><th scope=col>&lt;chr&gt;</th><th scope=col>&lt;chr&gt;</th><th scope=col>&lt;chr&gt;</th><th scope=col>&lt;chr&gt;</th><th scope=col>&lt;chr&gt;</th></tr>\n",
       "</thead>\n",
       "<tbody>\n",
       "\t<tr><td>chr1</td><td>1207896</td><td>1208483</td><td>chr1</td><td>1207488</td><td>1208318</td><td>.</td><td>1000</td><td>.</td><td>147.79718</td><td>-1</td><td>3.55811</td><td>415</td><td>422</td><td>chr1:1207896-1208483</td><td>chr1:1207488-1208318</td><td>fcc_astarr_macs_input_overlap</td><td>encode_chipseq_ADNP_ENCFF739AJO</td><td>ChIP-seq:Histone</td><td>ADNP</td></tr>\n",
       "\t<tr><td>chr1</td><td>1207896</td><td>1208483</td><td>chr1</td><td>1207692</td><td>1208522</td><td>.</td><td>1000</td><td>.</td><td> 62.14886</td><td>-1</td><td>1.36101</td><td>415</td><td>587</td><td>chr1:1207896-1208483</td><td>chr1:1207692-1208522</td><td>fcc_astarr_macs_input_overlap</td><td>encode_chipseq_ADNP_ENCFF739AJO</td><td>ChIP-seq:Histone</td><td>ADNP</td></tr>\n",
       "\t<tr><td>chr1</td><td>1374417</td><td>1375893</td><td>chr1</td><td>1375317</td><td>1376147</td><td>.</td><td>1000</td><td>.</td><td>101.13913</td><td>-1</td><td>2.31550</td><td>415</td><td>576</td><td>chr1:1374417-1375893</td><td>chr1:1375317-1376147</td><td>fcc_astarr_macs_input_overlap</td><td>encode_chipseq_ADNP_ENCFF739AJO</td><td>ChIP-seq:Histone</td><td>ADNP</td></tr>\n",
       "\t<tr><td>chr1</td><td>1374417</td><td>1375893</td><td>chr1</td><td>1375523</td><td>1376353</td><td>.</td><td> 924</td><td>.</td><td> 86.77314</td><td>-1</td><td>1.96690</td><td>415</td><td>370</td><td>chr1:1374417-1375893</td><td>chr1:1375523-1376353</td><td>fcc_astarr_macs_input_overlap</td><td>encode_chipseq_ADNP_ENCFF739AJO</td><td>ChIP-seq:Histone</td><td>ADNP</td></tr>\n",
       "\t<tr><td>chr1</td><td>1376218</td><td>1376572</td><td>chr1</td><td>1375523</td><td>1376353</td><td>.</td><td> 924</td><td>.</td><td> 86.77314</td><td>-1</td><td>1.96690</td><td>415</td><td>135</td><td>chr1:1376218-1376572</td><td>chr1:1375523-1376353</td><td>fcc_astarr_macs_input_overlap</td><td>encode_chipseq_ADNP_ENCFF739AJO</td><td>ChIP-seq:Histone</td><td>ADNP</td></tr>\n",
       "\t<tr><td>chr1</td><td>1686393</td><td>1687394</td><td>chr1</td><td>1685737</td><td>1686567</td><td>.</td><td>1000</td><td>.</td><td> 54.65647</td><td>-1</td><td>1.19389</td><td>415</td><td>174</td><td>chr1:1686393-1687394</td><td>chr1:1685737-1686567</td><td>fcc_astarr_macs_input_overlap</td><td>encode_chipseq_ADNP_ENCFF739AJO</td><td>ChIP-seq:Histone</td><td>ADNP</td></tr>\n",
       "</tbody>\n",
       "</table>\n"
      ],
      "text/latex": [
       "A tibble: 6 × 20\n",
       "\\begin{tabular}{llllllllllllllllllll}\n",
       " Chrom\\_A & ChromStart\\_A & ChromEnd\\_A & Chrom\\_B & ChromStart\\_B & ChromEnd\\_B & Name\\_B & Score\\_B & Strand\\_B & SignalValue\\_B & PValue\\_B & QValue\\_B & Peak\\_B & Overlap & Region\\_A & Region\\_B & Annotation\\_A & Annotation\\_B & Group\\_B & Label\\_B\\\\\n",
       " <chr> & <dbl> & <dbl> & <chr> & <dbl> & <dbl> & <chr> & <dbl> & <chr> & <dbl> & <dbl> & <dbl> & <dbl> & <dbl> & <chr> & <chr> & <chr> & <chr> & <chr> & <chr>\\\\\n",
       "\\hline\n",
       "\t chr1 & 1207896 & 1208483 & chr1 & 1207488 & 1208318 & . & 1000 & . & 147.79718 & -1 & 3.55811 & 415 & 422 & chr1:1207896-1208483 & chr1:1207488-1208318 & fcc\\_astarr\\_macs\\_input\\_overlap & encode\\_chipseq\\_ADNP\\_ENCFF739AJO & ChIP-seq:Histone & ADNP\\\\\n",
       "\t chr1 & 1207896 & 1208483 & chr1 & 1207692 & 1208522 & . & 1000 & . &  62.14886 & -1 & 1.36101 & 415 & 587 & chr1:1207896-1208483 & chr1:1207692-1208522 & fcc\\_astarr\\_macs\\_input\\_overlap & encode\\_chipseq\\_ADNP\\_ENCFF739AJO & ChIP-seq:Histone & ADNP\\\\\n",
       "\t chr1 & 1374417 & 1375893 & chr1 & 1375317 & 1376147 & . & 1000 & . & 101.13913 & -1 & 2.31550 & 415 & 576 & chr1:1374417-1375893 & chr1:1375317-1376147 & fcc\\_astarr\\_macs\\_input\\_overlap & encode\\_chipseq\\_ADNP\\_ENCFF739AJO & ChIP-seq:Histone & ADNP\\\\\n",
       "\t chr1 & 1374417 & 1375893 & chr1 & 1375523 & 1376353 & . &  924 & . &  86.77314 & -1 & 1.96690 & 415 & 370 & chr1:1374417-1375893 & chr1:1375523-1376353 & fcc\\_astarr\\_macs\\_input\\_overlap & encode\\_chipseq\\_ADNP\\_ENCFF739AJO & ChIP-seq:Histone & ADNP\\\\\n",
       "\t chr1 & 1376218 & 1376572 & chr1 & 1375523 & 1376353 & . &  924 & . &  86.77314 & -1 & 1.96690 & 415 & 135 & chr1:1376218-1376572 & chr1:1375523-1376353 & fcc\\_astarr\\_macs\\_input\\_overlap & encode\\_chipseq\\_ADNP\\_ENCFF739AJO & ChIP-seq:Histone & ADNP\\\\\n",
       "\t chr1 & 1686393 & 1687394 & chr1 & 1685737 & 1686567 & . & 1000 & . &  54.65647 & -1 & 1.19389 & 415 & 174 & chr1:1686393-1687394 & chr1:1685737-1686567 & fcc\\_astarr\\_macs\\_input\\_overlap & encode\\_chipseq\\_ADNP\\_ENCFF739AJO & ChIP-seq:Histone & ADNP\\\\\n",
       "\\end{tabular}\n"
      ],
      "text/markdown": [
       "\n",
       "A tibble: 6 × 20\n",
       "\n",
       "| Chrom_A &lt;chr&gt; | ChromStart_A &lt;dbl&gt; | ChromEnd_A &lt;dbl&gt; | Chrom_B &lt;chr&gt; | ChromStart_B &lt;dbl&gt; | ChromEnd_B &lt;dbl&gt; | Name_B &lt;chr&gt; | Score_B &lt;dbl&gt; | Strand_B &lt;chr&gt; | SignalValue_B &lt;dbl&gt; | PValue_B &lt;dbl&gt; | QValue_B &lt;dbl&gt; | Peak_B &lt;dbl&gt; | Overlap &lt;dbl&gt; | Region_A &lt;chr&gt; | Region_B &lt;chr&gt; | Annotation_A &lt;chr&gt; | Annotation_B &lt;chr&gt; | Group_B &lt;chr&gt; | Label_B &lt;chr&gt; |\n",
       "|---|---|---|---|---|---|---|---|---|---|---|---|---|---|---|---|---|---|---|---|\n",
       "| chr1 | 1207896 | 1208483 | chr1 | 1207488 | 1208318 | . | 1000 | . | 147.79718 | -1 | 3.55811 | 415 | 422 | chr1:1207896-1208483 | chr1:1207488-1208318 | fcc_astarr_macs_input_overlap | encode_chipseq_ADNP_ENCFF739AJO | ChIP-seq:Histone | ADNP |\n",
       "| chr1 | 1207896 | 1208483 | chr1 | 1207692 | 1208522 | . | 1000 | . |  62.14886 | -1 | 1.36101 | 415 | 587 | chr1:1207896-1208483 | chr1:1207692-1208522 | fcc_astarr_macs_input_overlap | encode_chipseq_ADNP_ENCFF739AJO | ChIP-seq:Histone | ADNP |\n",
       "| chr1 | 1374417 | 1375893 | chr1 | 1375317 | 1376147 | . | 1000 | . | 101.13913 | -1 | 2.31550 | 415 | 576 | chr1:1374417-1375893 | chr1:1375317-1376147 | fcc_astarr_macs_input_overlap | encode_chipseq_ADNP_ENCFF739AJO | ChIP-seq:Histone | ADNP |\n",
       "| chr1 | 1374417 | 1375893 | chr1 | 1375523 | 1376353 | . |  924 | . |  86.77314 | -1 | 1.96690 | 415 | 370 | chr1:1374417-1375893 | chr1:1375523-1376353 | fcc_astarr_macs_input_overlap | encode_chipseq_ADNP_ENCFF739AJO | ChIP-seq:Histone | ADNP |\n",
       "| chr1 | 1376218 | 1376572 | chr1 | 1375523 | 1376353 | . |  924 | . |  86.77314 | -1 | 1.96690 | 415 | 135 | chr1:1376218-1376572 | chr1:1375523-1376353 | fcc_astarr_macs_input_overlap | encode_chipseq_ADNP_ENCFF739AJO | ChIP-seq:Histone | ADNP |\n",
       "| chr1 | 1686393 | 1687394 | chr1 | 1685737 | 1686567 | . | 1000 | . |  54.65647 | -1 | 1.19389 | 415 | 174 | chr1:1686393-1687394 | chr1:1685737-1686567 | fcc_astarr_macs_input_overlap | encode_chipseq_ADNP_ENCFF739AJO | ChIP-seq:Histone | ADNP |\n",
       "\n"
      ],
      "text/plain": [
       "  Chrom_A ChromStart_A ChromEnd_A Chrom_B ChromStart_B ChromEnd_B Name_B\n",
       "1 chr1    1207896      1208483    chr1    1207488      1208318    .     \n",
       "2 chr1    1207896      1208483    chr1    1207692      1208522    .     \n",
       "3 chr1    1374417      1375893    chr1    1375317      1376147    .     \n",
       "4 chr1    1374417      1375893    chr1    1375523      1376353    .     \n",
       "5 chr1    1376218      1376572    chr1    1375523      1376353    .     \n",
       "6 chr1    1686393      1687394    chr1    1685737      1686567    .     \n",
       "  Score_B Strand_B SignalValue_B PValue_B QValue_B Peak_B Overlap\n",
       "1 1000    .        147.79718     -1       3.55811  415    422    \n",
       "2 1000    .         62.14886     -1       1.36101  415    587    \n",
       "3 1000    .        101.13913     -1       2.31550  415    576    \n",
       "4  924    .         86.77314     -1       1.96690  415    370    \n",
       "5  924    .         86.77314     -1       1.96690  415    135    \n",
       "6 1000    .         54.65647     -1       1.19389  415    174    \n",
       "  Region_A             Region_B             Annotation_A                 \n",
       "1 chr1:1207896-1208483 chr1:1207488-1208318 fcc_astarr_macs_input_overlap\n",
       "2 chr1:1207896-1208483 chr1:1207692-1208522 fcc_astarr_macs_input_overlap\n",
       "3 chr1:1374417-1375893 chr1:1375317-1376147 fcc_astarr_macs_input_overlap\n",
       "4 chr1:1374417-1375893 chr1:1375523-1376353 fcc_astarr_macs_input_overlap\n",
       "5 chr1:1376218-1376572 chr1:1375523-1376353 fcc_astarr_macs_input_overlap\n",
       "6 chr1:1686393-1687394 chr1:1685737-1686567 fcc_astarr_macs_input_overlap\n",
       "  Annotation_B                    Group_B          Label_B\n",
       "1 encode_chipseq_ADNP_ENCFF739AJO ChIP-seq:Histone ADNP   \n",
       "2 encode_chipseq_ADNP_ENCFF739AJO ChIP-seq:Histone ADNP   \n",
       "3 encode_chipseq_ADNP_ENCFF739AJO ChIP-seq:Histone ADNP   \n",
       "4 encode_chipseq_ADNP_ENCFF739AJO ChIP-seq:Histone ADNP   \n",
       "5 encode_chipseq_ADNP_ENCFF739AJO ChIP-seq:Histone ADNP   \n",
       "6 encode_chipseq_ADNP_ENCFF739AJO ChIP-seq:Histone ADNP   "
      ]
     },
     "metadata": {},
     "output_type": "display_data"
    }
   ],
   "source": [
    "head(dat_region_annot_pair)"
   ]
  },
  {
   "cell_type": "code",
   "execution_count": 23,
   "id": "b647ebc4-0e32-441a-946d-92271d033286",
   "metadata": {},
   "outputs": [
    {
     "data": {
      "text/html": [
       "<table class=\"dataframe\">\n",
       "<caption>A tibble: 6 × 10</caption>\n",
       "<thead>\n",
       "\t<tr><th scope=col>Chrom_A</th><th scope=col>ChromStart_A</th><th scope=col>ChromEnd_A</th><th scope=col>Region_A</th><th scope=col>Annotation_A</th><th scope=col>Annotation_B</th><th scope=col>Group_B</th><th scope=col>Label_B</th><th scope=col>Region_B</th><th scope=col>Count_B</th></tr>\n",
       "\t<tr><th scope=col>&lt;chr&gt;</th><th scope=col>&lt;dbl&gt;</th><th scope=col>&lt;dbl&gt;</th><th scope=col>&lt;chr&gt;</th><th scope=col>&lt;chr&gt;</th><th scope=col>&lt;chr&gt;</th><th scope=col>&lt;chr&gt;</th><th scope=col>&lt;chr&gt;</th><th scope=col>&lt;chr&gt;</th><th scope=col>&lt;int&gt;</th></tr>\n",
       "</thead>\n",
       "<tbody>\n",
       "\t<tr><td>chr1</td><td>10038</td><td>10405</td><td>chr1:10038-10405</td><td>fcc_astarr_macs_input_overlap</td><td>encode_chipseq_CREBBP_ENCFF532VPN</td><td>ChIP-seq:Histone</td><td>CREBBP</td><td>chr1:10084-10320</td><td>1</td></tr>\n",
       "\t<tr><td>chr1</td><td>10038</td><td>10405</td><td>chr1:10038-10405</td><td>fcc_astarr_macs_input_overlap</td><td>encode_chipseq_HMBOX1_ENCFF672ZQW</td><td>ChIP-seq:Histone</td><td>HMBOX1</td><td>chr1:10047-10283</td><td>1</td></tr>\n",
       "\t<tr><td>chr1</td><td>10038</td><td>10405</td><td>chr1:10038-10405</td><td>fcc_astarr_macs_input_overlap</td><td>encode_chipseq_ZBTB33_ENCFF146GZZ</td><td>ChIP-seq:Histone</td><td>ZBTB33</td><td>chr1:10082-10322</td><td>1</td></tr>\n",
       "\t<tr><td>chr1</td><td>16025</td><td>16338</td><td>chr1:16025-16338</td><td>fcc_astarr_macs_input_overlap</td><td>encode_chipseq_CTCF_ENCFF221SKA  </td><td>ChIP-seq:Histone</td><td>CTCF  </td><td>chr1:16155-16339</td><td>1</td></tr>\n",
       "\t<tr><td>chr1</td><td>16025</td><td>16338</td><td>chr1:16025-16338</td><td>fcc_astarr_macs_input_overlap</td><td>encode_chipseq_CTCF_ENCFF582SNT  </td><td>ChIP-seq:Histone</td><td>CTCF  </td><td>chr1:16126-16370</td><td>1</td></tr>\n",
       "\t<tr><td>chr1</td><td>16025</td><td>16338</td><td>chr1:16025-16338</td><td>fcc_astarr_macs_input_overlap</td><td>encode_chipseq_CTCF_ENCFF660GHM  </td><td>ChIP-seq:Histone</td><td>CTCF  </td><td>chr1:16127-16367</td><td>1</td></tr>\n",
       "</tbody>\n",
       "</table>\n"
      ],
      "text/latex": [
       "A tibble: 6 × 10\n",
       "\\begin{tabular}{llllllllll}\n",
       " Chrom\\_A & ChromStart\\_A & ChromEnd\\_A & Region\\_A & Annotation\\_A & Annotation\\_B & Group\\_B & Label\\_B & Region\\_B & Count\\_B\\\\\n",
       " <chr> & <dbl> & <dbl> & <chr> & <chr> & <chr> & <chr> & <chr> & <chr> & <int>\\\\\n",
       "\\hline\n",
       "\t chr1 & 10038 & 10405 & chr1:10038-10405 & fcc\\_astarr\\_macs\\_input\\_overlap & encode\\_chipseq\\_CREBBP\\_ENCFF532VPN & ChIP-seq:Histone & CREBBP & chr1:10084-10320 & 1\\\\\n",
       "\t chr1 & 10038 & 10405 & chr1:10038-10405 & fcc\\_astarr\\_macs\\_input\\_overlap & encode\\_chipseq\\_HMBOX1\\_ENCFF672ZQW & ChIP-seq:Histone & HMBOX1 & chr1:10047-10283 & 1\\\\\n",
       "\t chr1 & 10038 & 10405 & chr1:10038-10405 & fcc\\_astarr\\_macs\\_input\\_overlap & encode\\_chipseq\\_ZBTB33\\_ENCFF146GZZ & ChIP-seq:Histone & ZBTB33 & chr1:10082-10322 & 1\\\\\n",
       "\t chr1 & 16025 & 16338 & chr1:16025-16338 & fcc\\_astarr\\_macs\\_input\\_overlap & encode\\_chipseq\\_CTCF\\_ENCFF221SKA   & ChIP-seq:Histone & CTCF   & chr1:16155-16339 & 1\\\\\n",
       "\t chr1 & 16025 & 16338 & chr1:16025-16338 & fcc\\_astarr\\_macs\\_input\\_overlap & encode\\_chipseq\\_CTCF\\_ENCFF582SNT   & ChIP-seq:Histone & CTCF   & chr1:16126-16370 & 1\\\\\n",
       "\t chr1 & 16025 & 16338 & chr1:16025-16338 & fcc\\_astarr\\_macs\\_input\\_overlap & encode\\_chipseq\\_CTCF\\_ENCFF660GHM   & ChIP-seq:Histone & CTCF   & chr1:16127-16367 & 1\\\\\n",
       "\\end{tabular}\n"
      ],
      "text/markdown": [
       "\n",
       "A tibble: 6 × 10\n",
       "\n",
       "| Chrom_A &lt;chr&gt; | ChromStart_A &lt;dbl&gt; | ChromEnd_A &lt;dbl&gt; | Region_A &lt;chr&gt; | Annotation_A &lt;chr&gt; | Annotation_B &lt;chr&gt; | Group_B &lt;chr&gt; | Label_B &lt;chr&gt; | Region_B &lt;chr&gt; | Count_B &lt;int&gt; |\n",
       "|---|---|---|---|---|---|---|---|---|---|\n",
       "| chr1 | 10038 | 10405 | chr1:10038-10405 | fcc_astarr_macs_input_overlap | encode_chipseq_CREBBP_ENCFF532VPN | ChIP-seq:Histone | CREBBP | chr1:10084-10320 | 1 |\n",
       "| chr1 | 10038 | 10405 | chr1:10038-10405 | fcc_astarr_macs_input_overlap | encode_chipseq_HMBOX1_ENCFF672ZQW | ChIP-seq:Histone | HMBOX1 | chr1:10047-10283 | 1 |\n",
       "| chr1 | 10038 | 10405 | chr1:10038-10405 | fcc_astarr_macs_input_overlap | encode_chipseq_ZBTB33_ENCFF146GZZ | ChIP-seq:Histone | ZBTB33 | chr1:10082-10322 | 1 |\n",
       "| chr1 | 16025 | 16338 | chr1:16025-16338 | fcc_astarr_macs_input_overlap | encode_chipseq_CTCF_ENCFF221SKA   | ChIP-seq:Histone | CTCF   | chr1:16155-16339 | 1 |\n",
       "| chr1 | 16025 | 16338 | chr1:16025-16338 | fcc_astarr_macs_input_overlap | encode_chipseq_CTCF_ENCFF582SNT   | ChIP-seq:Histone | CTCF   | chr1:16126-16370 | 1 |\n",
       "| chr1 | 16025 | 16338 | chr1:16025-16338 | fcc_astarr_macs_input_overlap | encode_chipseq_CTCF_ENCFF660GHM   | ChIP-seq:Histone | CTCF   | chr1:16127-16367 | 1 |\n",
       "\n"
      ],
      "text/plain": [
       "  Chrom_A ChromStart_A ChromEnd_A Region_A        \n",
       "1 chr1    10038        10405      chr1:10038-10405\n",
       "2 chr1    10038        10405      chr1:10038-10405\n",
       "3 chr1    10038        10405      chr1:10038-10405\n",
       "4 chr1    16025        16338      chr1:16025-16338\n",
       "5 chr1    16025        16338      chr1:16025-16338\n",
       "6 chr1    16025        16338      chr1:16025-16338\n",
       "  Annotation_A                  Annotation_B                     \n",
       "1 fcc_astarr_macs_input_overlap encode_chipseq_CREBBP_ENCFF532VPN\n",
       "2 fcc_astarr_macs_input_overlap encode_chipseq_HMBOX1_ENCFF672ZQW\n",
       "3 fcc_astarr_macs_input_overlap encode_chipseq_ZBTB33_ENCFF146GZZ\n",
       "4 fcc_astarr_macs_input_overlap encode_chipseq_CTCF_ENCFF221SKA  \n",
       "5 fcc_astarr_macs_input_overlap encode_chipseq_CTCF_ENCFF582SNT  \n",
       "6 fcc_astarr_macs_input_overlap encode_chipseq_CTCF_ENCFF660GHM  \n",
       "  Group_B          Label_B Region_B         Count_B\n",
       "1 ChIP-seq:Histone CREBBP  chr1:10084-10320 1      \n",
       "2 ChIP-seq:Histone HMBOX1  chr1:10047-10283 1      \n",
       "3 ChIP-seq:Histone ZBTB33  chr1:10082-10322 1      \n",
       "4 ChIP-seq:Histone CTCF    chr1:16155-16339 1      \n",
       "5 ChIP-seq:Histone CTCF    chr1:16126-16370 1      \n",
       "6 ChIP-seq:Histone CTCF    chr1:16127-16367 1      "
      ]
     },
     "metadata": {},
     "output_type": "display_data"
    }
   ],
   "source": [
    "head(dat_region_annot_summary)"
   ]
  },
  {
   "cell_type": "code",
   "execution_count": null,
   "id": "abfd6b82-cc11-44a2-80cf-7077af07885c",
   "metadata": {},
   "outputs": [],
   "source": []
  },
  {
   "cell_type": "code",
   "execution_count": null,
   "id": "24c14cd4-deb5-4e66-91ba-422ccb99fabe",
   "metadata": {},
   "outputs": [],
   "source": []
  },
  {
   "cell_type": "code",
   "execution_count": null,
   "id": "2f37d20c-f671-419c-8ba7-279f99eda7b0",
   "metadata": {},
   "outputs": [],
   "source": []
  },
  {
   "cell_type": "code",
   "execution_count": null,
   "id": "982ca707-1638-4154-a683-44593bd39a24",
   "metadata": {},
   "outputs": [],
   "source": []
  },
  {
   "cell_type": "code",
   "execution_count": 12,
   "id": "6869adcb-882a-4696-81a7-9da62fcc5047",
   "metadata": {},
   "outputs": [
    {
     "data": {
      "text/html": [
       "'fcc_astarr_macs_input_overlap.encode_chipseq_SRSF9_ENCFF746IEZ.bed.gz'"
      ],
      "text/latex": [
       "'fcc\\_astarr\\_macs\\_input\\_overlap.encode\\_chipseq\\_SRSF9\\_ENCFF746IEZ.bed.gz'"
      ],
      "text/markdown": [
       "'fcc_astarr_macs_input_overlap.encode_chipseq_SRSF9_ENCFF746IEZ.bed.gz'"
      ],
      "text/plain": [
       "[1] \"fcc_astarr_macs_input_overlap.encode_chipseq_SRSF9_ENCFF746IEZ.bed.gz\""
      ]
     },
     "metadata": {},
     "output_type": "display_data"
    }
   ],
   "source": [
    "vec_txt_fname[501]"
   ]
  },
  {
   "cell_type": "code",
   "execution_count": 13,
   "id": "5d5c8476-7adf-4eea-bfe3-07862988190a",
   "metadata": {},
   "outputs": [
    {
     "data": {
      "text/html": [
       "'/mount/repo/Proj_ENCODE_FCC/results/region_annotation/fcc_astarr_macs_input_overlap/encode_chipseq_flagship/fcc_astarr_macs_input_overlap.encode_chipseq_SRSF9_ENCFF746IEZ.bed.gz'"
      ],
      "text/latex": [
       "'/mount/repo/Proj\\_ENCODE\\_FCC/results/region\\_annotation/fcc\\_astarr\\_macs\\_input\\_overlap/encode\\_chipseq\\_flagship/fcc\\_astarr\\_macs\\_input\\_overlap.encode\\_chipseq\\_SRSF9\\_ENCFF746IEZ.bed.gz'"
      ],
      "text/markdown": [
       "'/mount/repo/Proj_ENCODE_FCC/results/region_annotation/fcc_astarr_macs_input_overlap/encode_chipseq_flagship/fcc_astarr_macs_input_overlap.encode_chipseq_SRSF9_ENCFF746IEZ.bed.gz'"
      ],
      "text/plain": [
       "[1] \"/mount/repo/Proj_ENCODE_FCC/results/region_annotation/fcc_astarr_macs_input_overlap/encode_chipseq_flagship/fcc_astarr_macs_input_overlap.encode_chipseq_SRSF9_ENCFF746IEZ.bed.gz\""
      ]
     },
     "metadata": {},
     "output_type": "display_data"
    }
   ],
   "source": [
    "vec_txt_fpath[501]"
   ]
  },
  {
   "cell_type": "code",
   "execution_count": 14,
   "id": "f05cf591-509a-4994-a7c4-a50a1f3e3051",
   "metadata": {},
   "outputs": [
    {
     "name": "stderr",
     "output_type": "stream",
     "text": [
      "\u001b[1mRows: \u001b[22m\u001b[34m0\u001b[39m \u001b[1mColumns: \u001b[22m\u001b[34m0\u001b[39m\n",
      "\n",
      "\u001b[36mℹ\u001b[39m Use `spec()` to retrieve the full column specification for this data.\n",
      "\u001b[36mℹ\u001b[39m Specify the column types or set `show_col_types = FALSE` to quiet this message.\n"
     ]
    },
    {
     "data": {
      "text/html": [],
      "text/latex": [],
      "text/markdown": [],
      "text/plain": [
       "<0 x 0 matrix>"
      ]
     },
     "metadata": {},
     "output_type": "display_data"
    }
   ],
   "source": [
    "txt_fpath = vec_txt_fpath[501]\n",
    "dat = read_tsv(txt_fpath)\n",
    "dat"
   ]
  },
  {
   "cell_type": "code",
   "execution_count": 16,
   "id": "1b2a5b7a-fe21-4bc4-ad28-8a77671583b0",
   "metadata": {},
   "outputs": [
    {
     "data": {
      "text/html": [
       "<table class=\"dataframe\">\n",
       "<caption>A tibble: 6 × 20</caption>\n",
       "<thead>\n",
       "\t<tr><th scope=col>Chrom_A</th><th scope=col>ChromStart_A</th><th scope=col>ChromEnd_A</th><th scope=col>Chrom_B</th><th scope=col>ChromStart_B</th><th scope=col>ChromEnd_B</th><th scope=col>Name_B</th><th scope=col>Score_B</th><th scope=col>Strand_B</th><th scope=col>SignalValue_B</th><th scope=col>PValue_B</th><th scope=col>QValue_B</th><th scope=col>Peak_B</th><th scope=col>Overlap</th><th scope=col>Region_A</th><th scope=col>Region_B</th><th scope=col>Annotation_A</th><th scope=col>Annotation_B</th><th scope=col>Group_B</th><th scope=col>Label_B</th></tr>\n",
       "\t<tr><th scope=col>&lt;chr&gt;</th><th scope=col>&lt;dbl&gt;</th><th scope=col>&lt;dbl&gt;</th><th scope=col>&lt;chr&gt;</th><th scope=col>&lt;dbl&gt;</th><th scope=col>&lt;dbl&gt;</th><th scope=col>&lt;chr&gt;</th><th scope=col>&lt;dbl&gt;</th><th scope=col>&lt;chr&gt;</th><th scope=col>&lt;dbl&gt;</th><th scope=col>&lt;dbl&gt;</th><th scope=col>&lt;dbl&gt;</th><th scope=col>&lt;dbl&gt;</th><th scope=col>&lt;dbl&gt;</th><th scope=col>&lt;chr&gt;</th><th scope=col>&lt;chr&gt;</th><th scope=col>&lt;chr&gt;</th><th scope=col>&lt;chr&gt;</th><th scope=col>&lt;chr&gt;</th><th scope=col>&lt;chr&gt;</th></tr>\n",
       "</thead>\n",
       "<tbody>\n",
       "\t<tr><td>chr1</td><td>1207896</td><td>1208483</td><td>chr1</td><td>1207488</td><td>1208318</td><td>.</td><td>1000</td><td>.</td><td>147.79718</td><td>-1</td><td>3.55811</td><td>415</td><td>422</td><td>chr1:1207896-1208483</td><td>chr1:1207488-1208318</td><td>fcc_astarr_macs_input_overlap</td><td>encode_chipseq_ADNP_ENCFF739AJO</td><td>ChIP-seq:Histone</td><td>ADNP</td></tr>\n",
       "\t<tr><td>chr1</td><td>1207896</td><td>1208483</td><td>chr1</td><td>1207692</td><td>1208522</td><td>.</td><td>1000</td><td>.</td><td> 62.14886</td><td>-1</td><td>1.36101</td><td>415</td><td>587</td><td>chr1:1207896-1208483</td><td>chr1:1207692-1208522</td><td>fcc_astarr_macs_input_overlap</td><td>encode_chipseq_ADNP_ENCFF739AJO</td><td>ChIP-seq:Histone</td><td>ADNP</td></tr>\n",
       "\t<tr><td>chr1</td><td>1374417</td><td>1375893</td><td>chr1</td><td>1375317</td><td>1376147</td><td>.</td><td>1000</td><td>.</td><td>101.13913</td><td>-1</td><td>2.31550</td><td>415</td><td>576</td><td>chr1:1374417-1375893</td><td>chr1:1375317-1376147</td><td>fcc_astarr_macs_input_overlap</td><td>encode_chipseq_ADNP_ENCFF739AJO</td><td>ChIP-seq:Histone</td><td>ADNP</td></tr>\n",
       "\t<tr><td>chr1</td><td>1374417</td><td>1375893</td><td>chr1</td><td>1375523</td><td>1376353</td><td>.</td><td> 924</td><td>.</td><td> 86.77314</td><td>-1</td><td>1.96690</td><td>415</td><td>370</td><td>chr1:1374417-1375893</td><td>chr1:1375523-1376353</td><td>fcc_astarr_macs_input_overlap</td><td>encode_chipseq_ADNP_ENCFF739AJO</td><td>ChIP-seq:Histone</td><td>ADNP</td></tr>\n",
       "\t<tr><td>chr1</td><td>1376218</td><td>1376572</td><td>chr1</td><td>1375523</td><td>1376353</td><td>.</td><td> 924</td><td>.</td><td> 86.77314</td><td>-1</td><td>1.96690</td><td>415</td><td>135</td><td>chr1:1376218-1376572</td><td>chr1:1375523-1376353</td><td>fcc_astarr_macs_input_overlap</td><td>encode_chipseq_ADNP_ENCFF739AJO</td><td>ChIP-seq:Histone</td><td>ADNP</td></tr>\n",
       "\t<tr><td>chr1</td><td>1686393</td><td>1687394</td><td>chr1</td><td>1685737</td><td>1686567</td><td>.</td><td>1000</td><td>.</td><td> 54.65647</td><td>-1</td><td>1.19389</td><td>415</td><td>174</td><td>chr1:1686393-1687394</td><td>chr1:1685737-1686567</td><td>fcc_astarr_macs_input_overlap</td><td>encode_chipseq_ADNP_ENCFF739AJO</td><td>ChIP-seq:Histone</td><td>ADNP</td></tr>\n",
       "</tbody>\n",
       "</table>\n"
      ],
      "text/latex": [
       "A tibble: 6 × 20\n",
       "\\begin{tabular}{llllllllllllllllllll}\n",
       " Chrom\\_A & ChromStart\\_A & ChromEnd\\_A & Chrom\\_B & ChromStart\\_B & ChromEnd\\_B & Name\\_B & Score\\_B & Strand\\_B & SignalValue\\_B & PValue\\_B & QValue\\_B & Peak\\_B & Overlap & Region\\_A & Region\\_B & Annotation\\_A & Annotation\\_B & Group\\_B & Label\\_B\\\\\n",
       " <chr> & <dbl> & <dbl> & <chr> & <dbl> & <dbl> & <chr> & <dbl> & <chr> & <dbl> & <dbl> & <dbl> & <dbl> & <dbl> & <chr> & <chr> & <chr> & <chr> & <chr> & <chr>\\\\\n",
       "\\hline\n",
       "\t chr1 & 1207896 & 1208483 & chr1 & 1207488 & 1208318 & . & 1000 & . & 147.79718 & -1 & 3.55811 & 415 & 422 & chr1:1207896-1208483 & chr1:1207488-1208318 & fcc\\_astarr\\_macs\\_input\\_overlap & encode\\_chipseq\\_ADNP\\_ENCFF739AJO & ChIP-seq:Histone & ADNP\\\\\n",
       "\t chr1 & 1207896 & 1208483 & chr1 & 1207692 & 1208522 & . & 1000 & . &  62.14886 & -1 & 1.36101 & 415 & 587 & chr1:1207896-1208483 & chr1:1207692-1208522 & fcc\\_astarr\\_macs\\_input\\_overlap & encode\\_chipseq\\_ADNP\\_ENCFF739AJO & ChIP-seq:Histone & ADNP\\\\\n",
       "\t chr1 & 1374417 & 1375893 & chr1 & 1375317 & 1376147 & . & 1000 & . & 101.13913 & -1 & 2.31550 & 415 & 576 & chr1:1374417-1375893 & chr1:1375317-1376147 & fcc\\_astarr\\_macs\\_input\\_overlap & encode\\_chipseq\\_ADNP\\_ENCFF739AJO & ChIP-seq:Histone & ADNP\\\\\n",
       "\t chr1 & 1374417 & 1375893 & chr1 & 1375523 & 1376353 & . &  924 & . &  86.77314 & -1 & 1.96690 & 415 & 370 & chr1:1374417-1375893 & chr1:1375523-1376353 & fcc\\_astarr\\_macs\\_input\\_overlap & encode\\_chipseq\\_ADNP\\_ENCFF739AJO & ChIP-seq:Histone & ADNP\\\\\n",
       "\t chr1 & 1376218 & 1376572 & chr1 & 1375523 & 1376353 & . &  924 & . &  86.77314 & -1 & 1.96690 & 415 & 135 & chr1:1376218-1376572 & chr1:1375523-1376353 & fcc\\_astarr\\_macs\\_input\\_overlap & encode\\_chipseq\\_ADNP\\_ENCFF739AJO & ChIP-seq:Histone & ADNP\\\\\n",
       "\t chr1 & 1686393 & 1687394 & chr1 & 1685737 & 1686567 & . & 1000 & . &  54.65647 & -1 & 1.19389 & 415 & 174 & chr1:1686393-1687394 & chr1:1685737-1686567 & fcc\\_astarr\\_macs\\_input\\_overlap & encode\\_chipseq\\_ADNP\\_ENCFF739AJO & ChIP-seq:Histone & ADNP\\\\\n",
       "\\end{tabular}\n"
      ],
      "text/markdown": [
       "\n",
       "A tibble: 6 × 20\n",
       "\n",
       "| Chrom_A &lt;chr&gt; | ChromStart_A &lt;dbl&gt; | ChromEnd_A &lt;dbl&gt; | Chrom_B &lt;chr&gt; | ChromStart_B &lt;dbl&gt; | ChromEnd_B &lt;dbl&gt; | Name_B &lt;chr&gt; | Score_B &lt;dbl&gt; | Strand_B &lt;chr&gt; | SignalValue_B &lt;dbl&gt; | PValue_B &lt;dbl&gt; | QValue_B &lt;dbl&gt; | Peak_B &lt;dbl&gt; | Overlap &lt;dbl&gt; | Region_A &lt;chr&gt; | Region_B &lt;chr&gt; | Annotation_A &lt;chr&gt; | Annotation_B &lt;chr&gt; | Group_B &lt;chr&gt; | Label_B &lt;chr&gt; |\n",
       "|---|---|---|---|---|---|---|---|---|---|---|---|---|---|---|---|---|---|---|---|\n",
       "| chr1 | 1207896 | 1208483 | chr1 | 1207488 | 1208318 | . | 1000 | . | 147.79718 | -1 | 3.55811 | 415 | 422 | chr1:1207896-1208483 | chr1:1207488-1208318 | fcc_astarr_macs_input_overlap | encode_chipseq_ADNP_ENCFF739AJO | ChIP-seq:Histone | ADNP |\n",
       "| chr1 | 1207896 | 1208483 | chr1 | 1207692 | 1208522 | . | 1000 | . |  62.14886 | -1 | 1.36101 | 415 | 587 | chr1:1207896-1208483 | chr1:1207692-1208522 | fcc_astarr_macs_input_overlap | encode_chipseq_ADNP_ENCFF739AJO | ChIP-seq:Histone | ADNP |\n",
       "| chr1 | 1374417 | 1375893 | chr1 | 1375317 | 1376147 | . | 1000 | . | 101.13913 | -1 | 2.31550 | 415 | 576 | chr1:1374417-1375893 | chr1:1375317-1376147 | fcc_astarr_macs_input_overlap | encode_chipseq_ADNP_ENCFF739AJO | ChIP-seq:Histone | ADNP |\n",
       "| chr1 | 1374417 | 1375893 | chr1 | 1375523 | 1376353 | . |  924 | . |  86.77314 | -1 | 1.96690 | 415 | 370 | chr1:1374417-1375893 | chr1:1375523-1376353 | fcc_astarr_macs_input_overlap | encode_chipseq_ADNP_ENCFF739AJO | ChIP-seq:Histone | ADNP |\n",
       "| chr1 | 1376218 | 1376572 | chr1 | 1375523 | 1376353 | . |  924 | . |  86.77314 | -1 | 1.96690 | 415 | 135 | chr1:1376218-1376572 | chr1:1375523-1376353 | fcc_astarr_macs_input_overlap | encode_chipseq_ADNP_ENCFF739AJO | ChIP-seq:Histone | ADNP |\n",
       "| chr1 | 1686393 | 1687394 | chr1 | 1685737 | 1686567 | . | 1000 | . |  54.65647 | -1 | 1.19389 | 415 | 174 | chr1:1686393-1687394 | chr1:1685737-1686567 | fcc_astarr_macs_input_overlap | encode_chipseq_ADNP_ENCFF739AJO | ChIP-seq:Histone | ADNP |\n",
       "\n"
      ],
      "text/plain": [
       "  Chrom_A ChromStart_A ChromEnd_A Chrom_B ChromStart_B ChromEnd_B Name_B\n",
       "1 chr1    1207896      1208483    chr1    1207488      1208318    .     \n",
       "2 chr1    1207896      1208483    chr1    1207692      1208522    .     \n",
       "3 chr1    1374417      1375893    chr1    1375317      1376147    .     \n",
       "4 chr1    1374417      1375893    chr1    1375523      1376353    .     \n",
       "5 chr1    1376218      1376572    chr1    1375523      1376353    .     \n",
       "6 chr1    1686393      1687394    chr1    1685737      1686567    .     \n",
       "  Score_B Strand_B SignalValue_B PValue_B QValue_B Peak_B Overlap\n",
       "1 1000    .        147.79718     -1       3.55811  415    422    \n",
       "2 1000    .         62.14886     -1       1.36101  415    587    \n",
       "3 1000    .        101.13913     -1       2.31550  415    576    \n",
       "4  924    .         86.77314     -1       1.96690  415    370    \n",
       "5  924    .         86.77314     -1       1.96690  415    135    \n",
       "6 1000    .         54.65647     -1       1.19389  415    174    \n",
       "  Region_A             Region_B             Annotation_A                 \n",
       "1 chr1:1207896-1208483 chr1:1207488-1208318 fcc_astarr_macs_input_overlap\n",
       "2 chr1:1207896-1208483 chr1:1207692-1208522 fcc_astarr_macs_input_overlap\n",
       "3 chr1:1374417-1375893 chr1:1375317-1376147 fcc_astarr_macs_input_overlap\n",
       "4 chr1:1374417-1375893 chr1:1375523-1376353 fcc_astarr_macs_input_overlap\n",
       "5 chr1:1376218-1376572 chr1:1375523-1376353 fcc_astarr_macs_input_overlap\n",
       "6 chr1:1686393-1687394 chr1:1685737-1686567 fcc_astarr_macs_input_overlap\n",
       "  Annotation_B                    Group_B          Label_B\n",
       "1 encode_chipseq_ADNP_ENCFF739AJO ChIP-seq:Histone ADNP   \n",
       "2 encode_chipseq_ADNP_ENCFF739AJO ChIP-seq:Histone ADNP   \n",
       "3 encode_chipseq_ADNP_ENCFF739AJO ChIP-seq:Histone ADNP   \n",
       "4 encode_chipseq_ADNP_ENCFF739AJO ChIP-seq:Histone ADNP   \n",
       "5 encode_chipseq_ADNP_ENCFF739AJO ChIP-seq:Histone ADNP   \n",
       "6 encode_chipseq_ADNP_ENCFF739AJO ChIP-seq:Histone ADNP   "
      ]
     },
     "metadata": {},
     "output_type": "display_data"
    }
   ],
   "source": [
    "head(lst[[1]])"
   ]
  },
  {
   "cell_type": "code",
   "execution_count": 17,
   "id": "746c3c80-db69-49f8-b119-cb6ecb69eeb4",
   "metadata": {},
   "outputs": [
    {
     "data": {
      "text/html": [
       "<table class=\"dataframe\">\n",
       "<caption>A tibble: 0 × 20</caption>\n",
       "<thead>\n",
       "\t<tr><th scope=col>Chrom_A</th><th scope=col>ChromStart_A</th><th scope=col>ChromEnd_A</th><th scope=col>Chrom_B</th><th scope=col>ChromStart_B</th><th scope=col>ChromEnd_B</th><th scope=col>Name_B</th><th scope=col>Score_B</th><th scope=col>Strand_B</th><th scope=col>SignalValue_B</th><th scope=col>PValue_B</th><th scope=col>QValue_B</th><th scope=col>Peak_B</th><th scope=col>Overlap</th><th scope=col>Region_A</th><th scope=col>Region_B</th><th scope=col>Annotation_A</th><th scope=col>Annotation_B</th><th scope=col>Group_B</th><th scope=col>Label_B</th></tr>\n",
       "\t<tr><th scope=col>&lt;chr&gt;</th><th scope=col>&lt;chr&gt;</th><th scope=col>&lt;chr&gt;</th><th scope=col>&lt;chr&gt;</th><th scope=col>&lt;chr&gt;</th><th scope=col>&lt;chr&gt;</th><th scope=col>&lt;chr&gt;</th><th scope=col>&lt;chr&gt;</th><th scope=col>&lt;chr&gt;</th><th scope=col>&lt;chr&gt;</th><th scope=col>&lt;chr&gt;</th><th scope=col>&lt;chr&gt;</th><th scope=col>&lt;chr&gt;</th><th scope=col>&lt;chr&gt;</th><th scope=col>&lt;chr&gt;</th><th scope=col>&lt;chr&gt;</th><th scope=col>&lt;chr&gt;</th><th scope=col>&lt;chr&gt;</th><th scope=col>&lt;chr&gt;</th><th scope=col>&lt;chr&gt;</th></tr>\n",
       "</thead>\n",
       "<tbody>\n",
       "</tbody>\n",
       "</table>\n"
      ],
      "text/latex": [
       "A tibble: 0 × 20\n",
       "\\begin{tabular}{llllllllllllllllllll}\n",
       " Chrom\\_A & ChromStart\\_A & ChromEnd\\_A & Chrom\\_B & ChromStart\\_B & ChromEnd\\_B & Name\\_B & Score\\_B & Strand\\_B & SignalValue\\_B & PValue\\_B & QValue\\_B & Peak\\_B & Overlap & Region\\_A & Region\\_B & Annotation\\_A & Annotation\\_B & Group\\_B & Label\\_B\\\\\n",
       " <chr> & <chr> & <chr> & <chr> & <chr> & <chr> & <chr> & <chr> & <chr> & <chr> & <chr> & <chr> & <chr> & <chr> & <chr> & <chr> & <chr> & <chr> & <chr> & <chr>\\\\\n",
       "\\hline\n",
       "\\end{tabular}\n"
      ],
      "text/markdown": [
       "\n",
       "A tibble: 0 × 20\n",
       "\n",
       "| Chrom_A &lt;chr&gt; | ChromStart_A &lt;chr&gt; | ChromEnd_A &lt;chr&gt; | Chrom_B &lt;chr&gt; | ChromStart_B &lt;chr&gt; | ChromEnd_B &lt;chr&gt; | Name_B &lt;chr&gt; | Score_B &lt;chr&gt; | Strand_B &lt;chr&gt; | SignalValue_B &lt;chr&gt; | PValue_B &lt;chr&gt; | QValue_B &lt;chr&gt; | Peak_B &lt;chr&gt; | Overlap &lt;chr&gt; | Region_A &lt;chr&gt; | Region_B &lt;chr&gt; | Annotation_A &lt;chr&gt; | Annotation_B &lt;chr&gt; | Group_B &lt;chr&gt; | Label_B &lt;chr&gt; |\n",
       "|---|---|---|---|---|---|---|---|---|---|---|---|---|---|---|---|---|---|---|---|\n",
       "\n"
      ],
      "text/plain": [
       "     Chrom_A ChromStart_A ChromEnd_A Chrom_B ChromStart_B ChromEnd_B Name_B\n",
       "     Score_B Strand_B SignalValue_B PValue_B QValue_B Peak_B Overlap Region_A\n",
       "     Region_B Annotation_A Annotation_B Group_B Label_B"
      ]
     },
     "metadata": {},
     "output_type": "display_data"
    }
   ],
   "source": [
    "head(lst[[501]])"
   ]
  },
  {
   "cell_type": "code",
   "execution_count": 20,
   "id": "08f262d5-f341-45f9-824a-639b0e8a6b2f",
   "metadata": {},
   "outputs": [
    {
     "data": {
      "text/html": [
       "501"
      ],
      "text/latex": [
       "501"
      ],
      "text/markdown": [
       "501"
      ],
      "text/plain": [
       "[1] 501"
      ]
     },
     "metadata": {},
     "output_type": "display_data"
    }
   ],
   "source": [
    "tmp = lapply(lst, nrow)\n",
    "idx = which(tmp == 0)\n",
    "idx"
   ]
  },
  {
   "cell_type": "code",
   "execution_count": null,
   "id": "1209001d-b074-4446-89d7-254873f6305e",
   "metadata": {},
   "outputs": [],
   "source": []
  },
  {
   "cell_type": "markdown",
   "id": "15a64f3e-b732-4dda-848e-1daa331172f8",
   "metadata": {},
   "source": [
    "**Set environment**"
   ]
  },
  {
   "cell_type": "code",
   "execution_count": 1,
   "id": "e1ee259f-0230-4b2b-90de-3e20ed1a3765",
   "metadata": {
    "tags": []
   },
   "outputs": [
    {
     "name": "stdout",
     "output_type": "stream",
     "text": [
      "You are working on        Singularity \n",
      "BASE DIRECTORY (FD_BASE): /mount \n",
      "REPO DIRECTORY (FD_REPO): /mount/repo \n",
      "WORK DIRECTORY (FD_WORK): /mount/work \n",
      "DATA DIRECTORY (FD_DATA): /mount/data \n",
      "\n",
      "You are working with      ENCODE FCC \n",
      "PATH OF PROJECT (FD_PRJ): /mount/repo/Proj_ENCODE_FCC \n",
      "PROJECT RESULTS (FD_RES): /mount/repo/Proj_ENCODE_FCC/results \n",
      "PROJECT SCRIPTS (FD_EXE): /mount/repo/Proj_ENCODE_FCC/scripts \n",
      "PROJECT DATA    (FD_DAT): /mount/repo/Proj_ENCODE_FCC/data \n",
      "PROJECT NOTE    (FD_NBK): /mount/repo/Proj_ENCODE_FCC/notebooks \n",
      "PROJECT DOCS    (FD_DOC): /mount/repo/Proj_ENCODE_FCC/docs \n",
      "PROJECT LOG     (FD_LOG): /mount/repo/Proj_ENCODE_FCC/log \n",
      "PROJECT APP     (FD_APP): /mount/repo/Proj_ENCODE_FCC/app \n",
      "PROJECT REF     (FD_REF): /mount/repo/Proj_ENCODE_FCC/references \n",
      "\n"
     ]
    }
   ],
   "source": [
    "suppressMessages(suppressWarnings(source(\"../run_config_project_sing.R\")))\n",
    "show_env()"
   ]
  },
  {
   "cell_type": "markdown",
   "id": "c7e4b39e-eeb9-4568-b3c6-7392ff143da9",
   "metadata": {},
   "source": [
    "**Set global variables**"
   ]
  },
  {
   "cell_type": "code",
   "execution_count": 2,
   "id": "b7526cb6-a8ae-4fa5-bfef-1af5e4772d90",
   "metadata": {},
   "outputs": [
    {
     "name": "stdout",
     "output_type": "stream",
     "text": [
      "annotation.macs.label.region_A.tsv \n",
      "annotation.macs.label.region_B.chipseq_full.tsv \n",
      "annotation.macs.label.region_B.chipseq_subset.tsv \n",
      "annotation.macs.label.region_B.main.tsv \n",
      "metadata.label.astarr_macs.tsv \n",
      "metadata.label.chipseq_full.tsv \n",
      "metadata.label.main.tsv \n",
      "metadata.label.ocr.tsv \n"
     ]
    }
   ],
   "source": [
    "txt_fdiry = file.path(FD_RES, \"region\", \"summary\")\n",
    "vec = dir(txt_fdiry)\n",
    "for (txt in vec){cat(txt, \"\\n\")}"
   ]
  },
  {
   "cell_type": "code",
   "execution_count": 3,
   "id": "34c22af4-23ad-40b6-84de-4c56994aafc9",
   "metadata": {},
   "outputs": [],
   "source": [
    "TXT_FDIRY_REGION_LABEL   = file.path(FD_RES, \"region\", \"summary\")\n",
    "#TXT_FNAME_REGION_LABEL_A = \"annotation.macs.label.region_A.tsv\"\n",
    "#TXT_FNAME_REGION_LABEL_B = \"annotation.macs.label.region_B.chipseq_full.tsv\"\n",
    "\n",
    "TXT_FNAME_REGION_LABEL_A = \"metadata.label.astarr_macs.tsv\"\n",
    "TXT_FNAME_REGION_LABEL_B = \"metadata.label.chipseq_full.tsv\""
   ]
  },
  {
   "cell_type": "markdown",
   "id": "367300db-3f2d-4b4f-959e-a8514bd9a834",
   "metadata": {},
   "source": [
    "## Import data"
   ]
  },
  {
   "cell_type": "code",
   "execution_count": 4,
   "id": "da20b6b6-76df-4914-b24d-78b3759f73f7",
   "metadata": {},
   "outputs": [
    {
     "data": {
      "text/html": [
       "<table class=\"dataframe\">\n",
       "<caption>A spec_tbl_df: 2 × 3</caption>\n",
       "<thead>\n",
       "\t<tr><th scope=col>Folder</th><th scope=col>FName</th><th scope=col>Label</th></tr>\n",
       "\t<tr><th scope=col>&lt;chr&gt;</th><th scope=col>&lt;chr&gt;</th><th scope=col>&lt;chr&gt;</th></tr>\n",
       "</thead>\n",
       "<tbody>\n",
       "\t<tr><td>fcc_astarr_macs</td><td>K562.hg38.ASTARR.macs.KS91.input.rep_all.max_overlaps.q5.bed.gz</td><td>fcc_astarr_macs_input_overlap</td></tr>\n",
       "\t<tr><td>fcc_astarr_macs</td><td>K562.hg38.ASTARR.macs.KS91.input.rep_all.union.q5.bed.gz       </td><td>fcc_astarr_macs_input_union  </td></tr>\n",
       "</tbody>\n",
       "</table>\n"
      ],
      "text/latex": [
       "A spec\\_tbl\\_df: 2 × 3\n",
       "\\begin{tabular}{lll}\n",
       " Folder & FName & Label\\\\\n",
       " <chr> & <chr> & <chr>\\\\\n",
       "\\hline\n",
       "\t fcc\\_astarr\\_macs & K562.hg38.ASTARR.macs.KS91.input.rep\\_all.max\\_overlaps.q5.bed.gz & fcc\\_astarr\\_macs\\_input\\_overlap\\\\\n",
       "\t fcc\\_astarr\\_macs & K562.hg38.ASTARR.macs.KS91.input.rep\\_all.union.q5.bed.gz        & fcc\\_astarr\\_macs\\_input\\_union  \\\\\n",
       "\\end{tabular}\n"
      ],
      "text/markdown": [
       "\n",
       "A spec_tbl_df: 2 × 3\n",
       "\n",
       "| Folder &lt;chr&gt; | FName &lt;chr&gt; | Label &lt;chr&gt; |\n",
       "|---|---|---|\n",
       "| fcc_astarr_macs | K562.hg38.ASTARR.macs.KS91.input.rep_all.max_overlaps.q5.bed.gz | fcc_astarr_macs_input_overlap |\n",
       "| fcc_astarr_macs | K562.hg38.ASTARR.macs.KS91.input.rep_all.union.q5.bed.gz        | fcc_astarr_macs_input_union   |\n",
       "\n"
      ],
      "text/plain": [
       "  Folder         \n",
       "1 fcc_astarr_macs\n",
       "2 fcc_astarr_macs\n",
       "  FName                                                          \n",
       "1 K562.hg38.ASTARR.macs.KS91.input.rep_all.max_overlaps.q5.bed.gz\n",
       "2 K562.hg38.ASTARR.macs.KS91.input.rep_all.union.q5.bed.gz       \n",
       "  Label                        \n",
       "1 fcc_astarr_macs_input_overlap\n",
       "2 fcc_astarr_macs_input_union  "
      ]
     },
     "metadata": {},
     "output_type": "display_data"
    }
   ],
   "source": [
    "txt_fdiry = TXT_FDIRY_REGION_LABEL\n",
    "txt_fname = TXT_FNAME_REGION_LABEL_A\n",
    "txt_fpath = file.path(txt_fdiry, txt_fname)\n",
    "\n",
    "dat_region_label_A = read_tsv(txt_fpath, show_col_types = FALSE)\n",
    "dat_region_label_A"
   ]
  },
  {
   "cell_type": "code",
   "execution_count": 5,
   "id": "4fcd2ff8-e77d-4a70-99ad-b903e18e223a",
   "metadata": {},
   "outputs": [
    {
     "data": {
      "text/html": [
       "<table class=\"dataframe\">\n",
       "<caption>A tibble: 6 × 3</caption>\n",
       "<thead>\n",
       "\t<tr><th scope=col>Folder</th><th scope=col>FName</th><th scope=col>Label</th></tr>\n",
       "\t<tr><th scope=col>&lt;chr&gt;</th><th scope=col>&lt;chr&gt;</th><th scope=col>&lt;chr&gt;</th></tr>\n",
       "</thead>\n",
       "<tbody>\n",
       "\t<tr><td>encode_chipseq_encode4</td><td>ENCFF124KCE.bed.gz</td><td>chipseq_ZBTB43_ENCFF124KCE</td></tr>\n",
       "\t<tr><td>encode_chipseq_encode4</td><td>ENCFF173QUY.bed.gz</td><td>chipseq_E2F5_ENCFF173QUY  </td></tr>\n",
       "\t<tr><td>encode_chipseq_encode4</td><td>ENCFF442RYH.bed.gz</td><td>chipseq_ZNF431_ENCFF442RYH</td></tr>\n",
       "\t<tr><td>encode_chipseq_encode4</td><td>ENCFF817EJA.bed.gz</td><td>chipseq_ZNF512_ENCFF817EJA</td></tr>\n",
       "\t<tr><td>encode_chipseq_encode4</td><td>ENCFF430YXJ.bed.gz</td><td>chipseq_IRF2_ENCFF430YXJ  </td></tr>\n",
       "\t<tr><td>encode_chipseq_encode4</td><td>ENCFF881MMD.bed.gz</td><td>chipseq_ZNF124_ENCFF881MMD</td></tr>\n",
       "</tbody>\n",
       "</table>\n"
      ],
      "text/latex": [
       "A tibble: 6 × 3\n",
       "\\begin{tabular}{lll}\n",
       " Folder & FName & Label\\\\\n",
       " <chr> & <chr> & <chr>\\\\\n",
       "\\hline\n",
       "\t encode\\_chipseq\\_encode4 & ENCFF124KCE.bed.gz & chipseq\\_ZBTB43\\_ENCFF124KCE\\\\\n",
       "\t encode\\_chipseq\\_encode4 & ENCFF173QUY.bed.gz & chipseq\\_E2F5\\_ENCFF173QUY  \\\\\n",
       "\t encode\\_chipseq\\_encode4 & ENCFF442RYH.bed.gz & chipseq\\_ZNF431\\_ENCFF442RYH\\\\\n",
       "\t encode\\_chipseq\\_encode4 & ENCFF817EJA.bed.gz & chipseq\\_ZNF512\\_ENCFF817EJA\\\\\n",
       "\t encode\\_chipseq\\_encode4 & ENCFF430YXJ.bed.gz & chipseq\\_IRF2\\_ENCFF430YXJ  \\\\\n",
       "\t encode\\_chipseq\\_encode4 & ENCFF881MMD.bed.gz & chipseq\\_ZNF124\\_ENCFF881MMD\\\\\n",
       "\\end{tabular}\n"
      ],
      "text/markdown": [
       "\n",
       "A tibble: 6 × 3\n",
       "\n",
       "| Folder &lt;chr&gt; | FName &lt;chr&gt; | Label &lt;chr&gt; |\n",
       "|---|---|---|\n",
       "| encode_chipseq_encode4 | ENCFF124KCE.bed.gz | chipseq_ZBTB43_ENCFF124KCE |\n",
       "| encode_chipseq_encode4 | ENCFF173QUY.bed.gz | chipseq_E2F5_ENCFF173QUY   |\n",
       "| encode_chipseq_encode4 | ENCFF442RYH.bed.gz | chipseq_ZNF431_ENCFF442RYH |\n",
       "| encode_chipseq_encode4 | ENCFF817EJA.bed.gz | chipseq_ZNF512_ENCFF817EJA |\n",
       "| encode_chipseq_encode4 | ENCFF430YXJ.bed.gz | chipseq_IRF2_ENCFF430YXJ   |\n",
       "| encode_chipseq_encode4 | ENCFF881MMD.bed.gz | chipseq_ZNF124_ENCFF881MMD |\n",
       "\n"
      ],
      "text/plain": [
       "  Folder                 FName              Label                     \n",
       "1 encode_chipseq_encode4 ENCFF124KCE.bed.gz chipseq_ZBTB43_ENCFF124KCE\n",
       "2 encode_chipseq_encode4 ENCFF173QUY.bed.gz chipseq_E2F5_ENCFF173QUY  \n",
       "3 encode_chipseq_encode4 ENCFF442RYH.bed.gz chipseq_ZNF431_ENCFF442RYH\n",
       "4 encode_chipseq_encode4 ENCFF817EJA.bed.gz chipseq_ZNF512_ENCFF817EJA\n",
       "5 encode_chipseq_encode4 ENCFF430YXJ.bed.gz chipseq_IRF2_ENCFF430YXJ  \n",
       "6 encode_chipseq_encode4 ENCFF881MMD.bed.gz chipseq_ZNF124_ENCFF881MMD"
      ]
     },
     "metadata": {},
     "output_type": "display_data"
    }
   ],
   "source": [
    "txt_fdiry = TXT_FDIRY_REGION_LABEL\n",
    "txt_fname = TXT_FNAME_REGION_LABEL_B\n",
    "txt_fpath = file.path(txt_fdiry, txt_fname)\n",
    "\n",
    "dat_region_label_B = read_tsv(txt_fpath, show_col_types = FALSE)\n",
    "head(dat_region_label_B)"
   ]
  },
  {
   "cell_type": "markdown",
   "id": "a4607504-ff21-47f1-b0ed-a249d283557f",
   "metadata": {},
   "source": [
    "**Check colnumn names**"
   ]
  },
  {
   "cell_type": "code",
   "execution_count": 6,
   "id": "b0b8e770-4f6d-42f6-9780-0c4fca60ed5f",
   "metadata": {},
   "outputs": [
    {
     "name": "stdout",
     "output_type": "stream",
     "text": [
      "encode_chipseq_encode4 \n",
      " [1] \"Chrom\"       \"ChromStart\"  \"ChromEnd\"    \"Name\"        \"Score\"      \n",
      " [6] \"Strand\"      \"SignalValue\" \"PValue\"      \"QValue\"      \"Peak\"       \n",
      "\n",
      "encode_chipseq_histone \n",
      " [1] \"Chrom\"       \"ChromStart\"  \"ChromEnd\"    \"Name\"        \"Score\"      \n",
      " [6] \"Strand\"      \"SignalValue\" \"PValue\"      \"QValue\"      \"Peak\"       \n",
      "\n"
     ]
    }
   ],
   "source": [
    "dat = dat_region_label_B\n",
    "vec = unique(dat$Folder)\n",
    "vec_txt_region_folder_B = vec\n",
    "\n",
    "for (txt_region_folder_B in vec_txt_region_folder_B){\n",
    "    ###\n",
    "    txt_fdiry = file.path(FD_RES, \"region\", txt_region_folder_B, \"summary\")\n",
    "    txt_fname = \"description.tsv\"\n",
    "    txt_fpath = file.path(txt_fdiry, txt_fname)\n",
    "    dat_cname = read_tsv(txt_fpath, show_col_types = FALSE)\n",
    "    vec_txt_cname_B = dat_cname$Name\n",
    "\n",
    "    ###\n",
    "    cat(txt_region_folder_B, \"\\n\")\n",
    "    print(vec_txt_cname_B)\n",
    "    cat(\"\\n\")\n",
    "}"
   ]
  },
  {
   "cell_type": "markdown",
   "id": "ab55eb61-3543-4ab2-bbf8-c3fc7a957a25",
   "metadata": {},
   "source": [
    "## Main"
   ]
  },
  {
   "cell_type": "code",
   "execution_count": 7,
   "id": "4757dba1-1cf4-4bf3-a7db-a9ade60db7c7",
   "metadata": {},
   "outputs": [
    {
     "data": {
      "text/html": [
       "<dl>\n",
       "\t<dt>$`1`</dt>\n",
       "\t\t<dd><dl>\n",
       "\t<dt>$Folder</dt>\n",
       "\t\t<dd>'fcc_astarr_macs'</dd>\n",
       "\t<dt>$FName</dt>\n",
       "\t\t<dd>'K562.hg38.ASTARR.macs.KS91.input.rep_all.max_overlaps.q5.bed.gz'</dd>\n",
       "\t<dt>$Label</dt>\n",
       "\t\t<dd>'fcc_astarr_macs_input_overlap'</dd>\n",
       "</dl>\n",
       "</dd>\n",
       "\t<dt>$`2`</dt>\n",
       "\t\t<dd><dl>\n",
       "\t<dt>$Folder</dt>\n",
       "\t\t<dd>'fcc_astarr_macs'</dd>\n",
       "\t<dt>$FName</dt>\n",
       "\t\t<dd>'K562.hg38.ASTARR.macs.KS91.input.rep_all.union.q5.bed.gz'</dd>\n",
       "\t<dt>$Label</dt>\n",
       "\t\t<dd>'fcc_astarr_macs_input_union'</dd>\n",
       "</dl>\n",
       "</dd>\n",
       "</dl>\n"
      ],
      "text/latex": [
       "\\begin{description}\n",
       "\\item[\\$`1`] \\begin{description}\n",
       "\\item[\\$Folder] 'fcc\\_astarr\\_macs'\n",
       "\\item[\\$FName] 'K562.hg38.ASTARR.macs.KS91.input.rep\\_all.max\\_overlaps.q5.bed.gz'\n",
       "\\item[\\$Label] 'fcc\\_astarr\\_macs\\_input\\_overlap'\n",
       "\\end{description}\n",
       "\n",
       "\\item[\\$`2`] \\begin{description}\n",
       "\\item[\\$Folder] 'fcc\\_astarr\\_macs'\n",
       "\\item[\\$FName] 'K562.hg38.ASTARR.macs.KS91.input.rep\\_all.union.q5.bed.gz'\n",
       "\\item[\\$Label] 'fcc\\_astarr\\_macs\\_input\\_union'\n",
       "\\end{description}\n",
       "\n",
       "\\end{description}\n"
      ],
      "text/markdown": [
       "$`1`\n",
       ":   $Folder\n",
       ":   'fcc_astarr_macs'\n",
       "$FName\n",
       ":   'K562.hg38.ASTARR.macs.KS91.input.rep_all.max_overlaps.q5.bed.gz'\n",
       "$Label\n",
       ":   'fcc_astarr_macs_input_overlap'\n",
       "\n",
       "\n",
       "\n",
       "$`2`\n",
       ":   $Folder\n",
       ":   'fcc_astarr_macs'\n",
       "$FName\n",
       ":   'K562.hg38.ASTARR.macs.KS91.input.rep_all.union.q5.bed.gz'\n",
       "$Label\n",
       ":   'fcc_astarr_macs_input_union'\n",
       "\n",
       "\n",
       "\n",
       "\n",
       "\n"
      ],
      "text/plain": [
       "$`1`\n",
       "$`1`$Folder\n",
       "[1] \"fcc_astarr_macs\"\n",
       "\n",
       "$`1`$FName\n",
       "[1] \"K562.hg38.ASTARR.macs.KS91.input.rep_all.max_overlaps.q5.bed.gz\"\n",
       "\n",
       "$`1`$Label\n",
       "[1] \"fcc_astarr_macs_input_overlap\"\n",
       "\n",
       "\n",
       "$`2`\n",
       "$`2`$Folder\n",
       "[1] \"fcc_astarr_macs\"\n",
       "\n",
       "$`2`$FName\n",
       "[1] \"K562.hg38.ASTARR.macs.KS91.input.rep_all.union.q5.bed.gz\"\n",
       "\n",
       "$`2`$Label\n",
       "[1] \"fcc_astarr_macs_input_union\"\n",
       "\n"
      ]
     },
     "metadata": {},
     "output_type": "display_data"
    }
   ],
   "source": [
    "dat = dat_region_label_A\n",
    "lst = split(dat, 1:nrow(dat))\n",
    "lst = lapply(lst, as.list)\n",
    "lst_region_label_A = lst\n",
    "lst"
   ]
  },
  {
   "cell_type": "code",
   "execution_count": 8,
   "id": "2189ac20-90a0-422f-8265-620a2ae8afed",
   "metadata": {},
   "outputs": [
    {
     "data": {
      "text/html": [
       "<style>\n",
       ".list-inline {list-style: none; margin:0; padding: 0}\n",
       ".list-inline>li {display: inline-block}\n",
       ".list-inline>li:not(:last-child)::after {content: \"\\00b7\"; padding: 0 .5ex}\n",
       "</style>\n",
       "<ol class=list-inline><li>'encode_chipseq_encode4'</li><li>'encode_chipseq_histone'</li></ol>\n"
      ],
      "text/latex": [
       "\\begin{enumerate*}\n",
       "\\item 'encode\\_chipseq\\_encode4'\n",
       "\\item 'encode\\_chipseq\\_histone'\n",
       "\\end{enumerate*}\n"
      ],
      "text/markdown": [
       "1. 'encode_chipseq_encode4'\n",
       "2. 'encode_chipseq_histone'\n",
       "\n",
       "\n"
      ],
      "text/plain": [
       "[1] \"encode_chipseq_encode4\" \"encode_chipseq_histone\""
      ]
     },
     "metadata": {},
     "output_type": "display_data"
    }
   ],
   "source": [
    "dat = dat_region_label_B\n",
    "vec = unique(dat$Folder)\n",
    "vec_txt_region_folder_B = vec\n",
    "vec"
   ]
  },
  {
   "cell_type": "code",
   "execution_count": 11,
   "id": "bad6c38f-675c-4884-92d5-afda9599ae1c",
   "metadata": {},
   "outputs": [
    {
     "name": "stdout",
     "output_type": "stream",
     "text": [
      "===========================================\n",
      "Read annotation... \n",
      "Region A: fcc_astarr_macs | fcc_astarr_macs_input_overlap \n",
      "Region B: encode_chipseq_encode4 \n",
      "FDiry:    /mount/repo/Proj_ENCODE_FCC/results/region_annotation/fcc_astarr_macs_input_overlap/encode_chipseq_encode4 \n",
      "FName:    \n",
      " [1] \"fcc_astarr_macs_input_overlap.chipseq_AFF4_ENCFF142MJD.bed.gz\"  \n",
      " [2] \"fcc_astarr_macs_input_overlap.chipseq_ARID3B_ENCFF270TSN.bed.gz\"\n",
      " [3] \"fcc_astarr_macs_input_overlap.chipseq_ARID4B_ENCFF086FAZ.bed.gz\"\n",
      " [4] \"fcc_astarr_macs_input_overlap.chipseq_ARID4B_ENCFF528IDR.bed.gz\"\n",
      " [5] \"fcc_astarr_macs_input_overlap.chipseq_ATF1_ENCFF793HSJ.bed.gz\"  \n",
      " [6] \"fcc_astarr_macs_input_overlap.chipseq_ATF2_ENCFF121HYT.bed.gz\"  \n",
      " [7] \"fcc_astarr_macs_input_overlap.chipseq_ATF3_ENCFF246USC.bed.gz\"  \n",
      " [8] \"fcc_astarr_macs_input_overlap.chipseq_ATF4_ENCFF250MUC.bed.gz\"  \n",
      " [9] \"fcc_astarr_macs_input_overlap.chipseq_ATF6_ENCFF863ZFH.bed.gz\"  \n",
      "[10] \"fcc_astarr_macs_input_overlap.chipseq_BCL6_ENCFF941EDY.bed.gz\"  \n",
      "#{FName} = 237 \n",
      "\n",
      "Save annotation... \n",
      "FDiry: /mount/repo/Proj_ENCODE_FCC/results/region_annotation/fcc_astarr_macs_input_overlap/summary \n",
      "FName: region.summary.encode_chipseq_encode4.tsv \n",
      "\n"
     ]
    }
   ],
   "source": [
    "### init\n",
    "dat = dat_region_label_A\n",
    "lst = split(dat, 1:nrow(dat))\n",
    "lst = lapply(lst, as.list)\n",
    "lst_region_label_A = lst[1]\n",
    "\n",
    "dat = dat_region_label_B\n",
    "vec = unique(dat$Folder)\n",
    "vec_txt_region_folder_B = c(\"encode_chipseq_encode4\")\n",
    "\n",
    "###\n",
    "for (idx in seq_along(lst_region_label_A)){\n",
    "    ###\n",
    "    lst = lst_region_label_A[[idx]]\n",
    "    txt_region_folder_A = lst$Folder\n",
    "    txt_region_label_A  = lst$Label\n",
    "\n",
    "    ###\n",
    "    txt_fdiry = file.path(FD_RES, \"region\", txt_region_folder_A, \"summary\")\n",
    "    txt_fname = \"description.tsv\"\n",
    "    txt_fpath = file.path(txt_fdiry, txt_fname)\n",
    "    dat_cname = read_tsv(txt_fpath, show_col_types = FALSE)\n",
    "    vec_txt_cname_A = dat_cname$Name\n",
    "\n",
    "    for (txt_region_folder_B in vec_txt_region_folder_B){\n",
    "        ###\n",
    "        txt_fdiry = file.path(FD_RES, \"region\", txt_region_folder_B, \"summary\")\n",
    "        txt_fname = \"description.tsv\"\n",
    "        txt_fpath = file.path(txt_fdiry, txt_fname)\n",
    "        dat_cname = read_tsv(txt_fpath, show_col_types = FALSE)\n",
    "        vec_txt_cname_B = dat_cname$Name\n",
    "\n",
    "        ###\n",
    "        vec_txt_cname = c(\n",
    "            paste0(vec_txt_cname_A, \"_A\"),\n",
    "            paste0(vec_txt_cname_B, \"_B\"),\n",
    "            \"Overlap\"\n",
    "        )\n",
    "        \n",
    "        ###\n",
    "        txt_fdiry = file.path(\n",
    "            FD_RES, \n",
    "            \"region_annotation\",\n",
    "            txt_region_label_A, \n",
    "            txt_region_folder_B\n",
    "        )\n",
    "        txt_fname = \"*bed.gz\"\n",
    "        txt_fglob = file.path(txt_fdiry, txt_fname)\n",
    "        \n",
    "        vec_txt_fpath = Sys.glob(txt_fglob)\n",
    "        vec_txt_fname = basename(vec_txt_fpath)\n",
    "        vec_txt_fname = vec_txt_fname[-501]\n",
    "        \n",
    "        ### show progress\n",
    "        cat(\"===========================================\\n\")\n",
    "        cat(\"Read annotation...\", \"\\n\")\n",
    "        cat(\"Region A:\", txt_region_folder_A, \"|\", txt_region_label_A, \"\\n\")\n",
    "        cat(\"Region B:\", txt_region_folder_B, \"\\n\")\n",
    "        cat(\"FDiry:   \", txt_fdiry, \"\\n\")\n",
    "        cat(\"FName:   \", \"\\n\")\n",
    "        print(head(vec_txt_fname, 10))\n",
    "        cat(\"#{FName} =\", length(vec_txt_fname), \"\\n\")\n",
    "        cat(\"\\n\")\n",
    "        flush.console()\n",
    "        \n",
    "        ###\n",
    "        lst = lapply(vec_txt_fname, function(txt_fname){\n",
    "            ###\n",
    "            txt_fpath = file.path(txt_fdiry, txt_fname)\n",
    "            \n",
    "            ###\n",
    "            vec = str_split(txt_fname, \"\\\\.\")[[1]]\n",
    "            txt_annot_A = vec[1]\n",
    "            txt_annot_B = vec[2]\n",
    "\n",
    "            ###\n",
    "            vec = str_split(txt_annot_B, \"_\")[[1]]\n",
    "            txt_group_B = \"ChIP-seq; TF\"\n",
    "            txt_label_B = vec[2]\n",
    "            \n",
    "            ###\n",
    "            dat = read_tsv(txt_fpath, col_names = vec_txt_cname, show_col_types = FALSE)\n",
    "            dat = dat %>% \n",
    "                dplyr::mutate(\n",
    "                    Region_A = paste0(Chrom_A, \":\", ChromStart_A, \"-\", ChromEnd_A),\n",
    "                    Region_B = paste0(Chrom_B, \":\", ChromStart_B, \"-\", ChromEnd_B),\n",
    "                    Annotation_A = txt_annot_A,\n",
    "                    Annotation_B = txt_annot_B,\n",
    "                    Group_B      = txt_group_B,\n",
    "                    Label_B      = txt_label_B\n",
    "                )\n",
    "            return(dat)\n",
    "        }) \n",
    "\n",
    "        ###\n",
    "        dat = bind_rows(lst)\n",
    "        dat = dat %>%\n",
    "            dplyr::group_by(\n",
    "                Chrom_A, ChromStart_A, ChromEnd_A, Region_A,\n",
    "                Annotation_A,\n",
    "                Annotation_B,\n",
    "                Group_B, \n",
    "                Label_B\n",
    "            ) %>%\n",
    "            dplyr::summarise(\n",
    "                Region_B = paste(Region_B, collapse=\"|\"),\n",
    "                Count  = n(),\n",
    "                .groups = \"drop\")\n",
    "\n",
    "        ###\n",
    "        txt_fdiry = file.path(\n",
    "            FD_RES, \n",
    "            \"region_annotation\",\n",
    "            txt_region_label_A,\n",
    "            \"summary\"\n",
    "        )\n",
    "        txt_fname = paste(\"region\", \"summary\", txt_region_folder_B, \"tsv\", sep = \".\")\n",
    "        txt_fpath = file.path(txt_fdiry, txt_fname)\n",
    "\n",
    "        dir.create(txt_fdiry, showWarnings = FALSE)\n",
    "        write_tsv(dat, txt_fpath)\n",
    "        \n",
    "        ### show progress\n",
    "        cat(\"Save annotation...\",  \"\\n\")\n",
    "        cat(\"FDiry:\", txt_fdiry, \"\\n\")\n",
    "        cat(\"FName:\", txt_fname, \"\\n\")\n",
    "        cat(\"\\n\")\n",
    "        flush.console()\n",
    "    } ### end loop region B\n",
    "} ### end loop region A"
   ]
  },
  {
   "cell_type": "code",
   "execution_count": 13,
   "id": "29269d86-0e6e-40ca-b0cb-2ba190b06d23",
   "metadata": {},
   "outputs": [
    {
     "data": {
      "text/html": [
       "'/mount/repo/Proj_ENCODE_FCC/results/region_annotation/fcc_astarr_macs_input_overlap/summary/region.summary.encode_chipseq_flagship.tsv'"
      ],
      "text/latex": [
       "'/mount/repo/Proj\\_ENCODE\\_FCC/results/region\\_annotation/fcc\\_astarr\\_macs\\_input\\_overlap/summary/region.summary.encode\\_chipseq\\_flagship.tsv'"
      ],
      "text/markdown": [
       "'/mount/repo/Proj_ENCODE_FCC/results/region_annotation/fcc_astarr_macs_input_overlap/summary/region.summary.encode_chipseq_flagship.tsv'"
      ],
      "text/plain": [
       "[1] \"/mount/repo/Proj_ENCODE_FCC/results/region_annotation/fcc_astarr_macs_input_overlap/summary/region.summary.encode_chipseq_flagship.tsv\""
      ]
     },
     "metadata": {},
     "output_type": "display_data"
    }
   ],
   "source": [
    "txt_fpath"
   ]
  },
  {
   "cell_type": "code",
   "execution_count": 12,
   "id": "9ff2cb9c-96cd-4645-bf69-57d302826277",
   "metadata": {},
   "outputs": [
    {
     "name": "stdout",
     "output_type": "stream",
     "text": [
      "[1] 1135998      10\n"
     ]
    }
   ],
   "source": [
    "print(dim(dat))"
   ]
  },
  {
   "cell_type": "code",
   "execution_count": 13,
   "id": "b08119eb-cf85-4962-9a41-b6360dc0af0a",
   "metadata": {},
   "outputs": [],
   "source": [
    "write_tsv(dat, txt_fpath)"
   ]
  },
  {
   "cell_type": "code",
   "execution_count": null,
   "id": "3a825bed-ec4c-480b-9ade-f6de947195e7",
   "metadata": {},
   "outputs": [],
   "source": []
  },
  {
   "cell_type": "code",
   "execution_count": null,
   "id": "34ceb50b-248d-40d2-a5d6-bcf6c811cf3a",
   "metadata": {},
   "outputs": [],
   "source": []
  },
  {
   "cell_type": "code",
   "execution_count": null,
   "id": "7807b176-8dad-4157-9729-b91e75c3d73b",
   "metadata": {},
   "outputs": [],
   "source": []
  },
  {
   "cell_type": "code",
   "execution_count": 17,
   "id": "f409c78a-5cba-443e-94e4-0bcc3d436ab3",
   "metadata": {},
   "outputs": [
    {
     "data": {
      "text/html": [
       "734"
      ],
      "text/latex": [
       "734"
      ],
      "text/markdown": [
       "734"
      ],
      "text/plain": [
       "[1] 734"
      ]
     },
     "metadata": {},
     "output_type": "display_data"
    }
   ],
   "source": [
    "length(lst)"
   ]
  },
  {
   "cell_type": "code",
   "execution_count": 48,
   "id": "766866f6-13c3-4602-a8e5-e37e78b34994",
   "metadata": {},
   "outputs": [
    {
     "name": "stdout",
     "output_type": "stream",
     "text": [
      "[1] 13591    20\n",
      "[1]  0 20\n"
     ]
    }
   ],
   "source": [
    "print(dim(lst[[1]]))\n",
    "print(dim(lst[[501]]))"
   ]
  },
  {
   "cell_type": "code",
   "execution_count": 51,
   "id": "45b44157-084a-4262-af35-ca27b45d0a58",
   "metadata": {},
   "outputs": [
    {
     "name": "stdout",
     "output_type": "stream",
     "text": [
      "[1] 275\n",
      "\n",
      "[1] 720   2\n",
      "\n",
      "  vec Freq\n",
      "1   0    1\n",
      "2   9    1\n",
      "3  19    2\n",
      "4  23    1\n",
      "5  25    1\n",
      "6  26    1\n",
      "      vec Freq\n",
      "715 41245    1\n",
      "716 41257    1\n",
      "717 41960    1\n",
      "718 43597    1\n",
      "719 44243    1\n",
      "720 49375    1\n"
     ]
    }
   ],
   "source": [
    "tmp = lst\n",
    "vec = lapply(tmp, nrow)\n",
    "vec = unlist(vec)\n",
    "\n",
    "res = sum(vec > 10000)\n",
    "print(res)\n",
    "cat(\"\\n\")\n",
    "\n",
    "res = as.data.frame(table(vec))\n",
    "print(dim(res))\n",
    "cat(\"\\n\")\n",
    "print(head(res))\n",
    "print(tail(res))"
   ]
  },
  {
   "cell_type": "code",
   "execution_count": 52,
   "id": "200d6eea-15b6-4076-9d2b-50fe3ad60ff6",
   "metadata": {},
   "outputs": [
    {
     "name": "stdout",
     "output_type": "stream",
     "text": [
      "[1] 275\n",
      "\n",
      "[1] 719   2\n",
      "\n",
      "  vec Freq\n",
      "1   9    1\n",
      "2  19    2\n",
      "3  23    1\n",
      "4  25    1\n",
      "5  26    1\n",
      "6  27    1\n",
      "      vec Freq\n",
      "714 41245    1\n",
      "715 41257    1\n",
      "716 41960    1\n",
      "717 43597    1\n",
      "718 44243    1\n",
      "719 49375    1\n"
     ]
    }
   ],
   "source": [
    "tmp = lst[-501]\n",
    "vec = lapply(tmp, nrow)\n",
    "vec = unlist(vec)\n",
    "\n",
    "res = sum(vec > 10000)\n",
    "print(res)\n",
    "cat(\"\\n\")\n",
    "\n",
    "res = as.data.frame(table(vec))\n",
    "print(dim(res))\n",
    "cat(\"\\n\")\n",
    "print(head(res))\n",
    "print(tail(res))"
   ]
  },
  {
   "cell_type": "code",
   "execution_count": 46,
   "id": "ea81b3d2-7567-4c3b-b563-2c290c0a10f9",
   "metadata": {},
   "outputs": [
    {
     "name": "stdout",
     "output_type": "stream",
     "text": [
      "[1] 734\n",
      "[1] 733\n"
     ]
    }
   ],
   "source": [
    "print(length(lst))\n",
    "tmp = lst[-501]\n",
    "print(length(tmp))"
   ]
  },
  {
   "cell_type": "code",
   "execution_count": 54,
   "id": "27bf8211-c74a-4c67-ac2a-01aeb940d985",
   "metadata": {},
   "outputs": [
    {
     "data": {
      "text/html": [
       "<table class=\"dataframe\">\n",
       "<caption>A tibble: 6 × 3</caption>\n",
       "<thead>\n",
       "\t<tr><th scope=col>Folder</th><th scope=col>FName</th><th scope=col>Label</th></tr>\n",
       "\t<tr><th scope=col>&lt;chr&gt;</th><th scope=col>&lt;chr&gt;</th><th scope=col>&lt;chr&gt;</th></tr>\n",
       "</thead>\n",
       "<tbody>\n",
       "\t<tr><td>encode_chipseq_flagship</td><td>K562.hg38.ENCSR000AKO.ENCFF769AUF.ChIPseq.CTCF.bed.gz </td><td>chipseq_CTCF_ENCFF769AUF </td></tr>\n",
       "\t<tr><td>encode_chipseq_flagship</td><td>K562.hg38.ENCSR000AQA.ENCFF807FNB.ChIPseq.KDM5B.bed.gz</td><td>chipseq_KDM5B_ENCFF807FNB</td></tr>\n",
       "\t<tr><td>encode_chipseq_flagship</td><td>K562.hg38.ENCSR000AQD.ENCFF408NUX.ChIPseq.CHD1.bed.gz </td><td>chipseq_CHD1_ENCFF408NUX </td></tr>\n",
       "\t<tr><td>encode_chipseq_flagship</td><td>K562.hg38.ENCSR000AQE.ENCFF804RVA.ChIPseq.EZH2.bed.gz </td><td>chipseq_EZH2_ENCFF804RVA </td></tr>\n",
       "\t<tr><td>encode_chipseq_flagship</td><td>K562.hg38.ENCSR000AQF.ENCFF669MJX.ChIPseq.HDAC1.bed.gz</td><td>chipseq_HDAC1_ENCFF669MJX</td></tr>\n",
       "\t<tr><td>encode_chipseq_flagship</td><td>K562.hg38.ENCSR000AQG.ENCFF182MPT.ChIPseq.HDAC2.bed.gz</td><td>chipseq_HDAC2_ENCFF182MPT</td></tr>\n",
       "</tbody>\n",
       "</table>\n"
      ],
      "text/latex": [
       "A tibble: 6 × 3\n",
       "\\begin{tabular}{lll}\n",
       " Folder & FName & Label\\\\\n",
       " <chr> & <chr> & <chr>\\\\\n",
       "\\hline\n",
       "\t encode\\_chipseq\\_flagship & K562.hg38.ENCSR000AKO.ENCFF769AUF.ChIPseq.CTCF.bed.gz  & chipseq\\_CTCF\\_ENCFF769AUF \\\\\n",
       "\t encode\\_chipseq\\_flagship & K562.hg38.ENCSR000AQA.ENCFF807FNB.ChIPseq.KDM5B.bed.gz & chipseq\\_KDM5B\\_ENCFF807FNB\\\\\n",
       "\t encode\\_chipseq\\_flagship & K562.hg38.ENCSR000AQD.ENCFF408NUX.ChIPseq.CHD1.bed.gz  & chipseq\\_CHD1\\_ENCFF408NUX \\\\\n",
       "\t encode\\_chipseq\\_flagship & K562.hg38.ENCSR000AQE.ENCFF804RVA.ChIPseq.EZH2.bed.gz  & chipseq\\_EZH2\\_ENCFF804RVA \\\\\n",
       "\t encode\\_chipseq\\_flagship & K562.hg38.ENCSR000AQF.ENCFF669MJX.ChIPseq.HDAC1.bed.gz & chipseq\\_HDAC1\\_ENCFF669MJX\\\\\n",
       "\t encode\\_chipseq\\_flagship & K562.hg38.ENCSR000AQG.ENCFF182MPT.ChIPseq.HDAC2.bed.gz & chipseq\\_HDAC2\\_ENCFF182MPT\\\\\n",
       "\\end{tabular}\n"
      ],
      "text/markdown": [
       "\n",
       "A tibble: 6 × 3\n",
       "\n",
       "| Folder &lt;chr&gt; | FName &lt;chr&gt; | Label &lt;chr&gt; |\n",
       "|---|---|---|\n",
       "| encode_chipseq_flagship | K562.hg38.ENCSR000AKO.ENCFF769AUF.ChIPseq.CTCF.bed.gz  | chipseq_CTCF_ENCFF769AUF  |\n",
       "| encode_chipseq_flagship | K562.hg38.ENCSR000AQA.ENCFF807FNB.ChIPseq.KDM5B.bed.gz | chipseq_KDM5B_ENCFF807FNB |\n",
       "| encode_chipseq_flagship | K562.hg38.ENCSR000AQD.ENCFF408NUX.ChIPseq.CHD1.bed.gz  | chipseq_CHD1_ENCFF408NUX  |\n",
       "| encode_chipseq_flagship | K562.hg38.ENCSR000AQE.ENCFF804RVA.ChIPseq.EZH2.bed.gz  | chipseq_EZH2_ENCFF804RVA  |\n",
       "| encode_chipseq_flagship | K562.hg38.ENCSR000AQF.ENCFF669MJX.ChIPseq.HDAC1.bed.gz | chipseq_HDAC1_ENCFF669MJX |\n",
       "| encode_chipseq_flagship | K562.hg38.ENCSR000AQG.ENCFF182MPT.ChIPseq.HDAC2.bed.gz | chipseq_HDAC2_ENCFF182MPT |\n",
       "\n"
      ],
      "text/plain": [
       "  Folder                 \n",
       "1 encode_chipseq_flagship\n",
       "2 encode_chipseq_flagship\n",
       "3 encode_chipseq_flagship\n",
       "4 encode_chipseq_flagship\n",
       "5 encode_chipseq_flagship\n",
       "6 encode_chipseq_flagship\n",
       "  FName                                                 \n",
       "1 K562.hg38.ENCSR000AKO.ENCFF769AUF.ChIPseq.CTCF.bed.gz \n",
       "2 K562.hg38.ENCSR000AQA.ENCFF807FNB.ChIPseq.KDM5B.bed.gz\n",
       "3 K562.hg38.ENCSR000AQD.ENCFF408NUX.ChIPseq.CHD1.bed.gz \n",
       "4 K562.hg38.ENCSR000AQE.ENCFF804RVA.ChIPseq.EZH2.bed.gz \n",
       "5 K562.hg38.ENCSR000AQF.ENCFF669MJX.ChIPseq.HDAC1.bed.gz\n",
       "6 K562.hg38.ENCSR000AQG.ENCFF182MPT.ChIPseq.HDAC2.bed.gz\n",
       "  Label                    \n",
       "1 chipseq_CTCF_ENCFF769AUF \n",
       "2 chipseq_KDM5B_ENCFF807FNB\n",
       "3 chipseq_CHD1_ENCFF408NUX \n",
       "4 chipseq_EZH2_ENCFF804RVA \n",
       "5 chipseq_HDAC1_ENCFF669MJX\n",
       "6 chipseq_HDAC2_ENCFF182MPT"
      ]
     },
     "metadata": {},
     "output_type": "display_data"
    }
   ],
   "source": [
    "dat = bind_rows(tmp)\n",
    "head"
   ]
  },
  {
   "cell_type": "code",
   "execution_count": null,
   "id": "29fee912-3859-49a3-968a-aab96c8fd4fd",
   "metadata": {},
   "outputs": [],
   "source": []
  },
  {
   "cell_type": "code",
   "execution_count": 37,
   "id": "1af234e8-dd30-44e3-bbcd-91780c375516",
   "metadata": {},
   "outputs": [
    {
     "data": {
      "text/html": [
       "734"
      ],
      "text/latex": [
       "734"
      ],
      "text/markdown": [
       "734"
      ],
      "text/plain": [
       "[1] 734"
      ]
     },
     "metadata": {},
     "output_type": "display_data"
    }
   ],
   "source": [
    "length(vec)"
   ]
  },
  {
   "cell_type": "code",
   "execution_count": 18,
   "id": "7b921ca9-f89c-46f0-9c87-54dd418c96ab",
   "metadata": {},
   "outputs": [
    {
     "data": {
      "text/html": [
       "<table class=\"dataframe\">\n",
       "<caption>A tibble: 0 × 20</caption>\n",
       "<thead>\n",
       "\t<tr><th scope=col>Chrom_A</th><th scope=col>ChromStart_A</th><th scope=col>ChromEnd_A</th><th scope=col>Chrom_B</th><th scope=col>ChromStart_B</th><th scope=col>ChromEnd_B</th><th scope=col>Name_B</th><th scope=col>Score_B</th><th scope=col>Strand_B</th><th scope=col>SignalValue_B</th><th scope=col>PValue_B</th><th scope=col>QValue_B</th><th scope=col>Peak_B</th><th scope=col>Overlap</th><th scope=col>Region_A</th><th scope=col>Region_B</th><th scope=col>Annotation_A</th><th scope=col>Annotation_B</th><th scope=col>Group_B</th><th scope=col>Label_B</th></tr>\n",
       "\t<tr><th scope=col>&lt;chr&gt;</th><th scope=col>&lt;chr&gt;</th><th scope=col>&lt;chr&gt;</th><th scope=col>&lt;chr&gt;</th><th scope=col>&lt;chr&gt;</th><th scope=col>&lt;chr&gt;</th><th scope=col>&lt;chr&gt;</th><th scope=col>&lt;chr&gt;</th><th scope=col>&lt;chr&gt;</th><th scope=col>&lt;chr&gt;</th><th scope=col>&lt;chr&gt;</th><th scope=col>&lt;chr&gt;</th><th scope=col>&lt;chr&gt;</th><th scope=col>&lt;chr&gt;</th><th scope=col>&lt;chr&gt;</th><th scope=col>&lt;chr&gt;</th><th scope=col>&lt;chr&gt;</th><th scope=col>&lt;chr&gt;</th><th scope=col>&lt;chr&gt;</th><th scope=col>&lt;chr&gt;</th></tr>\n",
       "</thead>\n",
       "<tbody>\n",
       "</tbody>\n",
       "</table>\n"
      ],
      "text/latex": [
       "A tibble: 0 × 20\n",
       "\\begin{tabular}{llllllllllllllllllll}\n",
       " Chrom\\_A & ChromStart\\_A & ChromEnd\\_A & Chrom\\_B & ChromStart\\_B & ChromEnd\\_B & Name\\_B & Score\\_B & Strand\\_B & SignalValue\\_B & PValue\\_B & QValue\\_B & Peak\\_B & Overlap & Region\\_A & Region\\_B & Annotation\\_A & Annotation\\_B & Group\\_B & Label\\_B\\\\\n",
       " <chr> & <chr> & <chr> & <chr> & <chr> & <chr> & <chr> & <chr> & <chr> & <chr> & <chr> & <chr> & <chr> & <chr> & <chr> & <chr> & <chr> & <chr> & <chr> & <chr>\\\\\n",
       "\\hline\n",
       "\\end{tabular}\n"
      ],
      "text/markdown": [
       "\n",
       "A tibble: 0 × 20\n",
       "\n",
       "| Chrom_A &lt;chr&gt; | ChromStart_A &lt;chr&gt; | ChromEnd_A &lt;chr&gt; | Chrom_B &lt;chr&gt; | ChromStart_B &lt;chr&gt; | ChromEnd_B &lt;chr&gt; | Name_B &lt;chr&gt; | Score_B &lt;chr&gt; | Strand_B &lt;chr&gt; | SignalValue_B &lt;chr&gt; | PValue_B &lt;chr&gt; | QValue_B &lt;chr&gt; | Peak_B &lt;chr&gt; | Overlap &lt;chr&gt; | Region_A &lt;chr&gt; | Region_B &lt;chr&gt; | Annotation_A &lt;chr&gt; | Annotation_B &lt;chr&gt; | Group_B &lt;chr&gt; | Label_B &lt;chr&gt; |\n",
       "|---|---|---|---|---|---|---|---|---|---|---|---|---|---|---|---|---|---|---|---|\n",
       "\n"
      ],
      "text/plain": [
       "     Chrom_A ChromStart_A ChromEnd_A Chrom_B ChromStart_B ChromEnd_B Name_B\n",
       "     Score_B Strand_B SignalValue_B PValue_B QValue_B Peak_B Overlap Region_A\n",
       "     Region_B Annotation_A Annotation_B Group_B Label_B"
      ]
     },
     "metadata": {},
     "output_type": "display_data"
    }
   ],
   "source": [
    "head(lst[[501]])"
   ]
  },
  {
   "cell_type": "code",
   "execution_count": 55,
   "id": "6ee409d0-9f4b-4799-84a5-2bc518361fb5",
   "metadata": {},
   "outputs": [],
   "source": [
    "tmp = lst[-501]\n",
    "dat = bind_rows(tmp)\n",
    "    dat = dat %>%\n",
    "        dplyr::group_by(\n",
    "            Chrom_A, ChromStart_A, ChromEnd_A, Region_A,\n",
    "            Annotation_A,\n",
    "            Annotation_B,\n",
    "            Group_B, \n",
    "            Label_B\n",
    "        ) %>%\n",
    "        dplyr::summarise(\n",
    "            Region_B = paste(Region_B, collapse=\"|\"),\n",
    "            Count  = n(),\n",
    "            .groups = \"drop\")"
   ]
  },
  {
   "cell_type": "code",
   "execution_count": 56,
   "id": "bef9b1dc-bbd6-4403-b48b-cd074f3eee9b",
   "metadata": {},
   "outputs": [
    {
     "name": "stdout",
     "output_type": "stream",
     "text": [
      "[1] 5859682      10\n"
     ]
    }
   ],
   "source": [
    "print(dim(dat))"
   ]
  },
  {
   "cell_type": "code",
   "execution_count": 62,
   "id": "5d190415-1ca0-4a1b-96b2-a3b6b333caa1",
   "metadata": {},
   "outputs": [
    {
     "name": "stdout",
     "output_type": "stream",
     "text": [
      "[1] 733   2\n"
     ]
    }
   ],
   "source": [
    "res = as.data.frame(table(dat$Label_B))\n",
    "print(dim(res))"
   ]
  },
  {
   "cell_type": "code",
   "execution_count": 64,
   "id": "78f0473e-c865-4479-b6b5-ee052e46ff19",
   "metadata": {},
   "outputs": [
    {
     "name": "stdout",
     "output_type": "stream",
     "text": [
      "Save annotation... \n",
      "FDiry: /mount/repo/Proj_ENCODE_FCC/results/region_annotation/fcc_astarr_macs_input_overlap/summary \n",
      "FName: region.summary.encode_chipseq_flagship.tsv \n"
     ]
    }
   ],
   "source": [
    "###\n",
    "txt_fdiry = file.path(\n",
    "    FD_RES, \n",
    "    \"region_annotation\",\n",
    "    txt_region_label_A,\n",
    "    \"summary\"\n",
    ")\n",
    "txt_fname = paste(\"region\", \"summary\", txt_region_folder_B, \"tsv\", sep = \".\")\n",
    "txt_fpath = file.path(txt_fdiry, txt_fname)\n",
    "\n",
    "dir.create(txt_fdiry, showWarnings = FALSE)\n",
    "write_tsv(dat, txt_fpath)\n",
    "\n",
    "### show progress\n",
    "cat(\"Save annotation...\",  \"\\n\")\n",
    "cat(\"FDiry:\", txt_fdiry, \"\\n\")\n",
    "cat(\"FName:\", txt_fname, \"\\n\")"
   ]
  },
  {
   "cell_type": "code",
   "execution_count": null,
   "id": "6db544b2-0665-49a0-9b23-7ceacad2b737",
   "metadata": {},
   "outputs": [],
   "source": []
  },
  {
   "cell_type": "code",
   "execution_count": 22,
   "id": "f228468d-7af9-4389-9739-82c887793fbd",
   "metadata": {},
   "outputs": [
    {
     "data": {
      "text/html": [
       "21"
      ],
      "text/latex": [
       "21"
      ],
      "text/markdown": [
       "21"
      ],
      "text/plain": [
       "[1] 21"
      ]
     },
     "metadata": {},
     "output_type": "display_data"
    }
   ],
   "source": [
    "length(lst)"
   ]
  },
  {
   "cell_type": "code",
   "execution_count": 23,
   "id": "e4fc76ca-082e-4a97-95c3-ffc9228f9a00",
   "metadata": {},
   "outputs": [
    {
     "data": {
      "text/html": [
       "<table class=\"dataframe\">\n",
       "<caption>A tibble: 6 × 10</caption>\n",
       "<thead>\n",
       "\t<tr><th scope=col>Chrom_A</th><th scope=col>ChromStart_A</th><th scope=col>ChromEnd_A</th><th scope=col>Region_A</th><th scope=col>Annotation_A</th><th scope=col>Annotation_B</th><th scope=col>Group_B</th><th scope=col>Label_B</th><th scope=col>Region_B</th><th scope=col>Count</th></tr>\n",
       "\t<tr><th scope=col>&lt;chr&gt;</th><th scope=col>&lt;dbl&gt;</th><th scope=col>&lt;dbl&gt;</th><th scope=col>&lt;chr&gt;</th><th scope=col>&lt;chr&gt;</th><th scope=col>&lt;chr&gt;</th><th scope=col>&lt;chr&gt;</th><th scope=col>&lt;chr&gt;</th><th scope=col>&lt;chr&gt;</th><th scope=col>&lt;int&gt;</th></tr>\n",
       "</thead>\n",
       "<tbody>\n",
       "\t<tr><td>chr1</td><td> 16025</td><td> 16338</td><td>chr1:16025-16338  </td><td>fcc_astarr_macs_input_overlap</td><td>encode_chipseq_CTCF_ENCFF660GHM  </td><td>ChIP-seq</td><td>CTCF  </td><td>chr1:16127-16367  </td><td>1</td></tr>\n",
       "\t<tr><td>chr1</td><td> 17288</td><td> 17689</td><td>chr1:17288-17689  </td><td>fcc_astarr_macs_input_overlap</td><td>encode_chipseq_POLR2A_ENCFF355MNE</td><td>ChIP-seq</td><td>POLR2A</td><td>chr1:17333-17518  </td><td>1</td></tr>\n",
       "\t<tr><td>chr1</td><td>115429</td><td>115969</td><td>chr1:115429-115969</td><td>fcc_astarr_macs_input_overlap</td><td>encode_chipseq_EP300_ENCFF702XPO </td><td>ChIP-seq</td><td>EP300 </td><td>chr1:115579-115895</td><td>1</td></tr>\n",
       "\t<tr><td>chr1</td><td>115429</td><td>115969</td><td>chr1:115429-115969</td><td>fcc_astarr_macs_input_overlap</td><td>encode_chipseq_NFE2_ENCFF023IFO  </td><td>ChIP-seq</td><td>NFE2  </td><td>chr1:115518-115922</td><td>1</td></tr>\n",
       "\t<tr><td>chr1</td><td>115429</td><td>115969</td><td>chr1:115429-115969</td><td>fcc_astarr_macs_input_overlap</td><td>encode_chipseq_NRF1_ENCFF777PKJ  </td><td>ChIP-seq</td><td>NRF1  </td><td>chr1:115456-116012</td><td>1</td></tr>\n",
       "\t<tr><td>chr1</td><td>115429</td><td>115969</td><td>chr1:115429-115969</td><td>fcc_astarr_macs_input_overlap</td><td>encode_chipseq_POLR2A_ENCFF355MNE</td><td>ChIP-seq</td><td>POLR2A</td><td>chr1:115625-115913</td><td>1</td></tr>\n",
       "</tbody>\n",
       "</table>\n"
      ],
      "text/latex": [
       "A tibble: 6 × 10\n",
       "\\begin{tabular}{llllllllll}\n",
       " Chrom\\_A & ChromStart\\_A & ChromEnd\\_A & Region\\_A & Annotation\\_A & Annotation\\_B & Group\\_B & Label\\_B & Region\\_B & Count\\\\\n",
       " <chr> & <dbl> & <dbl> & <chr> & <chr> & <chr> & <chr> & <chr> & <chr> & <int>\\\\\n",
       "\\hline\n",
       "\t chr1 &  16025 &  16338 & chr1:16025-16338   & fcc\\_astarr\\_macs\\_input\\_overlap & encode\\_chipseq\\_CTCF\\_ENCFF660GHM   & ChIP-seq & CTCF   & chr1:16127-16367   & 1\\\\\n",
       "\t chr1 &  17288 &  17689 & chr1:17288-17689   & fcc\\_astarr\\_macs\\_input\\_overlap & encode\\_chipseq\\_POLR2A\\_ENCFF355MNE & ChIP-seq & POLR2A & chr1:17333-17518   & 1\\\\\n",
       "\t chr1 & 115429 & 115969 & chr1:115429-115969 & fcc\\_astarr\\_macs\\_input\\_overlap & encode\\_chipseq\\_EP300\\_ENCFF702XPO  & ChIP-seq & EP300  & chr1:115579-115895 & 1\\\\\n",
       "\t chr1 & 115429 & 115969 & chr1:115429-115969 & fcc\\_astarr\\_macs\\_input\\_overlap & encode\\_chipseq\\_NFE2\\_ENCFF023IFO   & ChIP-seq & NFE2   & chr1:115518-115922 & 1\\\\\n",
       "\t chr1 & 115429 & 115969 & chr1:115429-115969 & fcc\\_astarr\\_macs\\_input\\_overlap & encode\\_chipseq\\_NRF1\\_ENCFF777PKJ   & ChIP-seq & NRF1   & chr1:115456-116012 & 1\\\\\n",
       "\t chr1 & 115429 & 115969 & chr1:115429-115969 & fcc\\_astarr\\_macs\\_input\\_overlap & encode\\_chipseq\\_POLR2A\\_ENCFF355MNE & ChIP-seq & POLR2A & chr1:115625-115913 & 1\\\\\n",
       "\\end{tabular}\n"
      ],
      "text/markdown": [
       "\n",
       "A tibble: 6 × 10\n",
       "\n",
       "| Chrom_A &lt;chr&gt; | ChromStart_A &lt;dbl&gt; | ChromEnd_A &lt;dbl&gt; | Region_A &lt;chr&gt; | Annotation_A &lt;chr&gt; | Annotation_B &lt;chr&gt; | Group_B &lt;chr&gt; | Label_B &lt;chr&gt; | Region_B &lt;chr&gt; | Count &lt;int&gt; |\n",
       "|---|---|---|---|---|---|---|---|---|---|\n",
       "| chr1 |  16025 |  16338 | chr1:16025-16338   | fcc_astarr_macs_input_overlap | encode_chipseq_CTCF_ENCFF660GHM   | ChIP-seq | CTCF   | chr1:16127-16367   | 1 |\n",
       "| chr1 |  17288 |  17689 | chr1:17288-17689   | fcc_astarr_macs_input_overlap | encode_chipseq_POLR2A_ENCFF355MNE | ChIP-seq | POLR2A | chr1:17333-17518   | 1 |\n",
       "| chr1 | 115429 | 115969 | chr1:115429-115969 | fcc_astarr_macs_input_overlap | encode_chipseq_EP300_ENCFF702XPO  | ChIP-seq | EP300  | chr1:115579-115895 | 1 |\n",
       "| chr1 | 115429 | 115969 | chr1:115429-115969 | fcc_astarr_macs_input_overlap | encode_chipseq_NFE2_ENCFF023IFO   | ChIP-seq | NFE2   | chr1:115518-115922 | 1 |\n",
       "| chr1 | 115429 | 115969 | chr1:115429-115969 | fcc_astarr_macs_input_overlap | encode_chipseq_NRF1_ENCFF777PKJ   | ChIP-seq | NRF1   | chr1:115456-116012 | 1 |\n",
       "| chr1 | 115429 | 115969 | chr1:115429-115969 | fcc_astarr_macs_input_overlap | encode_chipseq_POLR2A_ENCFF355MNE | ChIP-seq | POLR2A | chr1:115625-115913 | 1 |\n",
       "\n"
      ],
      "text/plain": [
       "  Chrom_A ChromStart_A ChromEnd_A Region_A          \n",
       "1 chr1     16025        16338     chr1:16025-16338  \n",
       "2 chr1     17288        17689     chr1:17288-17689  \n",
       "3 chr1    115429       115969     chr1:115429-115969\n",
       "4 chr1    115429       115969     chr1:115429-115969\n",
       "5 chr1    115429       115969     chr1:115429-115969\n",
       "6 chr1    115429       115969     chr1:115429-115969\n",
       "  Annotation_A                  Annotation_B                      Group_B \n",
       "1 fcc_astarr_macs_input_overlap encode_chipseq_CTCF_ENCFF660GHM   ChIP-seq\n",
       "2 fcc_astarr_macs_input_overlap encode_chipseq_POLR2A_ENCFF355MNE ChIP-seq\n",
       "3 fcc_astarr_macs_input_overlap encode_chipseq_EP300_ENCFF702XPO  ChIP-seq\n",
       "4 fcc_astarr_macs_input_overlap encode_chipseq_NFE2_ENCFF023IFO   ChIP-seq\n",
       "5 fcc_astarr_macs_input_overlap encode_chipseq_NRF1_ENCFF777PKJ   ChIP-seq\n",
       "6 fcc_astarr_macs_input_overlap encode_chipseq_POLR2A_ENCFF355MNE ChIP-seq\n",
       "  Label_B Region_B           Count\n",
       "1 CTCF    chr1:16127-16367   1    \n",
       "2 POLR2A  chr1:17333-17518   1    \n",
       "3 EP300   chr1:115579-115895 1    \n",
       "4 NFE2    chr1:115518-115922 1    \n",
       "5 NRF1    chr1:115456-116012 1    \n",
       "6 POLR2A  chr1:115625-115913 1    "
      ]
     },
     "metadata": {},
     "output_type": "display_data"
    }
   ],
   "source": [
    "head(dat)"
   ]
  },
  {
   "cell_type": "code",
   "execution_count": 24,
   "id": "83bb038e-bda5-48fd-bf03-079d0210b234",
   "metadata": {},
   "outputs": [
    {
     "data": {
      "text/plain": [
       "\n",
       "    encode_chipseq_ATF1_ENCFF627RSK     encode_chipseq_CTCF_ENCFF660GHM \n",
       "                              25057                               35092 \n",
       "    encode_chipseq_ELK1_ENCFF715WGN    encode_chipseq_EP300_ENCFF702XPO \n",
       "                               3170                               22338 \n",
       "   encode_chipseq_GATA1_ENCFF657CTC  encode_chipseq_H3K27ac_ENCFF544LXB \n",
       "                              11599                               35908 \n",
       "encode_chipseq_H3K27me3_ENCFF323WOT  encode_chipseq_H3K4me1_ENCFF135ZLM \n",
       "                              13762                               47064 \n",
       " encode_chipseq_H3K4me2_ENCFF749KLQ  encode_chipseq_H3K4me3_ENCFF885FQN \n",
       "                              44809                               19708 \n",
       "     encode_chipseq_JUN_ENCFF190CGV    encode_chipseq_KLF10_ENCFF142ZTD \n",
       "                              16025                                 722 \n",
       "   encode_chipseq_KLF16_ENCFF488OTN     encode_chipseq_NFE2_ENCFF023IFO \n",
       "                              15398                               14559 \n",
       "    encode_chipseq_NRF1_ENCFF777PKJ   encode_chipseq_POLR2A_ENCFF355MNE \n",
       "                              22286                               18045 \n",
       "    encode_chipseq_REST_ENCFF707MDI      encode_chipseq_SP1_ENCFF553GPK \n",
       "                              14037                                9082 \n",
       "    encode_chipseq_TAL1_ENCFF852ZRK      encode_chipseq_YY1_ENCFF398UQZ \n",
       "                              21912                               20631 \n",
       "    encode_chipseq_ZEB2_ENCFF242AOL \n",
       "                              17310 "
      ]
     },
     "metadata": {},
     "output_type": "display_data"
    }
   ],
   "source": [
    "table(dat$Annotation_B)"
   ]
  },
  {
   "cell_type": "code",
   "execution_count": 25,
   "id": "7653c9b7-c957-4177-bf62-eb072546325b",
   "metadata": {},
   "outputs": [
    {
     "data": {
      "text/plain": [
       "\n",
       "ChIP-seq \n",
       "  428514 "
      ]
     },
     "metadata": {},
     "output_type": "display_data"
    }
   ],
   "source": [
    "table(dat$Group_B)"
   ]
  },
  {
   "cell_type": "code",
   "execution_count": 26,
   "id": "4d044b62-3edf-4443-83f4-85c8bcde318a",
   "metadata": {},
   "outputs": [
    {
     "data": {
      "text/plain": [
       "\n",
       "    ATF1     CTCF     ELK1    EP300    GATA1  H3K27ac H3K27me3  H3K4me1 \n",
       "   25057    35092     3170    22338    11599    35908    13762    47064 \n",
       " H3K4me2  H3K4me3      JUN    KLF10    KLF16     NFE2     NRF1   POLR2A \n",
       "   44809    19708    16025      722    15398    14559    22286    18045 \n",
       "    REST      SP1     TAL1      YY1     ZEB2 \n",
       "   14037     9082    21912    20631    17310 "
      ]
     },
     "metadata": {},
     "output_type": "display_data"
    }
   ],
   "source": [
    "table(dat$Label_B)"
   ]
  },
  {
   "cell_type": "code",
   "execution_count": null,
   "id": "cc8ae94e-f6b9-46a7-aaf3-36196e172658",
   "metadata": {},
   "outputs": [],
   "source": []
  },
  {
   "cell_type": "code",
   "execution_count": null,
   "id": "282502ee-7e9f-4a3f-a5fe-1adf651c2fee",
   "metadata": {},
   "outputs": [],
   "source": []
  },
  {
   "cell_type": "code",
   "execution_count": null,
   "id": "ec517d41-37be-4ce4-ae5c-ed40ec563549",
   "metadata": {},
   "outputs": [],
   "source": []
  },
  {
   "cell_type": "raw",
   "id": "8d92fcb8-d236-4de6-bf96-1f9e64cb47ce",
   "metadata": {},
   "source": [
    "---\n",
    "title: Region annotation 022 (ASTARR MACS peaks)\n",
    "subtitle: Summarize annotations (ChIP-seq; subset)\n",
    "format:\n",
    "    html:\n",
    "        code-fold:  true\n",
    "        code-tools: true\n",
    "---"
   ]
  },
  {
   "cell_type": "markdown",
   "id": "8203b821-81f2-4284-86b7-8b0bba6e95a8",
   "metadata": {},
   "source": [
    "**Set environment**"
   ]
  },
  {
   "cell_type": "code",
   "execution_count": 4,
   "id": "c000def5-a34f-4112-b7ad-f61b6661b149",
   "metadata": {
    "tags": []
   },
   "outputs": [
    {
     "name": "stdout",
     "output_type": "stream",
     "text": [
      "You are working on        Singularity \n",
      "BASE DIRECTORY (FD_BASE): /mount \n",
      "REPO DIRECTORY (FD_REPO): /mount/repo \n",
      "WORK DIRECTORY (FD_WORK): /mount/work \n",
      "DATA DIRECTORY (FD_DATA): /mount/data \n",
      "\n",
      "You are working with      ENCODE FCC \n",
      "PATH OF PROJECT (FD_PRJ): /mount/repo/Proj_ENCODE_FCC \n",
      "PROJECT RESULTS (FD_RES): /mount/repo/Proj_ENCODE_FCC/results \n",
      "PROJECT SCRIPTS (FD_EXE): /mount/repo/Proj_ENCODE_FCC/scripts \n",
      "PROJECT DATA    (FD_DAT): /mount/repo/Proj_ENCODE_FCC/data \n",
      "PROJECT NOTE    (FD_NBK): /mount/repo/Proj_ENCODE_FCC/notebooks \n",
      "PROJECT DOCS    (FD_DOC): /mount/repo/Proj_ENCODE_FCC/docs \n",
      "PROJECT LOG     (FD_LOG): /mount/repo/Proj_ENCODE_FCC/log \n",
      "PROJECT APP     (FD_APP): /mount/repo/Proj_ENCODE_FCC/app \n",
      "PROJECT REF     (FD_REF): /mount/repo/Proj_ENCODE_FCC/references \n",
      "\n"
     ]
    }
   ],
   "source": [
    "suppressMessages(suppressWarnings(source(\"../run_config_project_sing.R\")))\n",
    "show_env()"
   ]
  },
  {
   "cell_type": "markdown",
   "id": "82709568-e196-4c31-8b30-9053679091af",
   "metadata": {},
   "source": [
    "## Import data"
   ]
  },
  {
   "cell_type": "code",
   "execution_count": 13,
   "id": "c5874d68-77d3-44da-b506-a42311a84378",
   "metadata": {},
   "outputs": [],
   "source": [
    "txt_region_folder_A = \"fcc_astarr_macs\"\n",
    "txt_region_folder_B = \"encode_chipseq_subset\""
   ]
  },
  {
   "cell_type": "code",
   "execution_count": null,
   "id": "2e4a72f5-8e0d-4189-a2f7-cb3e46fd4efe",
   "metadata": {},
   "outputs": [],
   "source": []
  },
  {
   "cell_type": "code",
   "execution_count": 14,
   "id": "a2000c0d-63d4-441d-9c06-f7a2197697f8",
   "metadata": {},
   "outputs": [
    {
     "data": {
      "text/html": [
       "<style>\n",
       ".list-inline {list-style: none; margin:0; padding: 0}\n",
       ".list-inline>li {display: inline-block}\n",
       ".list-inline>li:not(:last-child)::after {content: \"\\00b7\"; padding: 0 .5ex}\n",
       "</style>\n",
       "<ol class=list-inline><li>'Chrom'</li><li>'ChromStart'</li><li>'ChromEnd'</li></ol>\n"
      ],
      "text/latex": [
       "\\begin{enumerate*}\n",
       "\\item 'Chrom'\n",
       "\\item 'ChromStart'\n",
       "\\item 'ChromEnd'\n",
       "\\end{enumerate*}\n"
      ],
      "text/markdown": [
       "1. 'Chrom'\n",
       "2. 'ChromStart'\n",
       "3. 'ChromEnd'\n",
       "\n",
       "\n"
      ],
      "text/plain": [
       "[1] \"Chrom\"      \"ChromStart\" \"ChromEnd\"  "
      ]
     },
     "metadata": {},
     "output_type": "display_data"
    }
   ],
   "source": [
    "txt_fdiry = file.path(FD_RES, \"region\", txt_region_folder_A, \"summary\")\n",
    "txt_fname = \"description.tsv\"\n",
    "txt_fpath = file.path(txt_fdiry, txt_fname)\n",
    "\n",
    "dat_cname = read_tsv(txt_fpath, show_col_types = FALSE)\n",
    "vec_txt_cname_A = dat_cname$Name\n",
    "vec_txt_cname_A"
   ]
  },
  {
   "cell_type": "code",
   "execution_count": 15,
   "id": "5242191c-7d04-494c-8673-25f3170f53ce",
   "metadata": {},
   "outputs": [
    {
     "data": {
      "text/html": [
       "<style>\n",
       ".list-inline {list-style: none; margin:0; padding: 0}\n",
       ".list-inline>li {display: inline-block}\n",
       ".list-inline>li:not(:last-child)::after {content: \"\\00b7\"; padding: 0 .5ex}\n",
       "</style>\n",
       "<ol class=list-inline><li>'Chrom'</li><li>'ChromStart'</li><li>'ChromEnd'</li><li>'Name'</li><li>'Score'</li><li>'Strand'</li><li>'SignalValue'</li><li>'PValue'</li><li>'QValue'</li><li>'Peak'</li></ol>\n"
      ],
      "text/latex": [
       "\\begin{enumerate*}\n",
       "\\item 'Chrom'\n",
       "\\item 'ChromStart'\n",
       "\\item 'ChromEnd'\n",
       "\\item 'Name'\n",
       "\\item 'Score'\n",
       "\\item 'Strand'\n",
       "\\item 'SignalValue'\n",
       "\\item 'PValue'\n",
       "\\item 'QValue'\n",
       "\\item 'Peak'\n",
       "\\end{enumerate*}\n"
      ],
      "text/markdown": [
       "1. 'Chrom'\n",
       "2. 'ChromStart'\n",
       "3. 'ChromEnd'\n",
       "4. 'Name'\n",
       "5. 'Score'\n",
       "6. 'Strand'\n",
       "7. 'SignalValue'\n",
       "8. 'PValue'\n",
       "9. 'QValue'\n",
       "10. 'Peak'\n",
       "\n",
       "\n"
      ],
      "text/plain": [
       " [1] \"Chrom\"       \"ChromStart\"  \"ChromEnd\"    \"Name\"        \"Score\"      \n",
       " [6] \"Strand\"      \"SignalValue\" \"PValue\"      \"QValue\"      \"Peak\"       "
      ]
     },
     "metadata": {},
     "output_type": "display_data"
    }
   ],
   "source": [
    "txt_fdiry = file.path(FD_RES, \"region\", txt_region_folder_B, \"summary\")\n",
    "txt_fname = \"description.tsv\"\n",
    "txt_fpath = file.path(txt_fdiry, txt_fname)\n",
    "\n",
    "dat_cname = read_tsv(txt_fpath, show_col_types = FALSE)\n",
    "vec_txt_cname_B = dat_cname$Name\n",
    "vec_txt_cname_B"
   ]
  },
  {
   "cell_type": "code",
   "execution_count": 16,
   "id": "2f840d12-44be-4843-b359-18a31243909b",
   "metadata": {},
   "outputs": [
    {
     "data": {
      "text/html": [
       "<style>\n",
       ".list-inline {list-style: none; margin:0; padding: 0}\n",
       ".list-inline>li {display: inline-block}\n",
       ".list-inline>li:not(:last-child)::after {content: \"\\00b7\"; padding: 0 .5ex}\n",
       "</style>\n",
       "<ol class=list-inline><li>'Chrom_A'</li><li>'ChromStart_A'</li><li>'ChromEnd_A'</li><li>'Chrom_B'</li><li>'ChromStart_B'</li><li>'ChromEnd_B'</li><li>'Name_B'</li><li>'Score_B'</li><li>'Strand_B'</li><li>'SignalValue_B'</li><li>'PValue_B'</li><li>'QValue_B'</li><li>'Peak_B'</li><li>'Overlap'</li></ol>\n"
      ],
      "text/latex": [
       "\\begin{enumerate*}\n",
       "\\item 'Chrom\\_A'\n",
       "\\item 'ChromStart\\_A'\n",
       "\\item 'ChromEnd\\_A'\n",
       "\\item 'Chrom\\_B'\n",
       "\\item 'ChromStart\\_B'\n",
       "\\item 'ChromEnd\\_B'\n",
       "\\item 'Name\\_B'\n",
       "\\item 'Score\\_B'\n",
       "\\item 'Strand\\_B'\n",
       "\\item 'SignalValue\\_B'\n",
       "\\item 'PValue\\_B'\n",
       "\\item 'QValue\\_B'\n",
       "\\item 'Peak\\_B'\n",
       "\\item 'Overlap'\n",
       "\\end{enumerate*}\n"
      ],
      "text/markdown": [
       "1. 'Chrom_A'\n",
       "2. 'ChromStart_A'\n",
       "3. 'ChromEnd_A'\n",
       "4. 'Chrom_B'\n",
       "5. 'ChromStart_B'\n",
       "6. 'ChromEnd_B'\n",
       "7. 'Name_B'\n",
       "8. 'Score_B'\n",
       "9. 'Strand_B'\n",
       "10. 'SignalValue_B'\n",
       "11. 'PValue_B'\n",
       "12. 'QValue_B'\n",
       "13. 'Peak_B'\n",
       "14. 'Overlap'\n",
       "\n",
       "\n"
      ],
      "text/plain": [
       " [1] \"Chrom_A\"       \"ChromStart_A\"  \"ChromEnd_A\"    \"Chrom_B\"      \n",
       " [5] \"ChromStart_B\"  \"ChromEnd_B\"    \"Name_B\"        \"Score_B\"      \n",
       " [9] \"Strand_B\"      \"SignalValue_B\" \"PValue_B\"      \"QValue_B\"     \n",
       "[13] \"Peak_B\"        \"Overlap\"      "
      ]
     },
     "metadata": {},
     "output_type": "display_data"
    }
   ],
   "source": [
    "vec_txt_cname = c(\n",
    "    paste0(vec_txt_cname_A, \"_A\"),\n",
    "    paste0(vec_txt_cname_B, \"_B\"),\n",
    "    \"Overlap\"\n",
    ")\n",
    "vec_txt_cname"
   ]
  },
  {
   "cell_type": "code",
   "execution_count": 19,
   "id": "c762f73d-115a-473c-a2fc-ea3587c5bed8",
   "metadata": {},
   "outputs": [
    {
     "data": {
      "text/html": [
       "<style>\n",
       ".list-inline {list-style: none; margin:0; padding: 0}\n",
       ".list-inline>li {display: inline-block}\n",
       ".list-inline>li:not(:last-child)::after {content: \"\\00b7\"; padding: 0 .5ex}\n",
       "</style>\n",
       "<ol class=list-inline><li>'fcc_astarr_macs_input_overlap'</li><li>'fcc_astarr_macs_input_union'</li></ol>\n"
      ],
      "text/latex": [
       "\\begin{enumerate*}\n",
       "\\item 'fcc\\_astarr\\_macs\\_input\\_overlap'\n",
       "\\item 'fcc\\_astarr\\_macs\\_input\\_union'\n",
       "\\end{enumerate*}\n"
      ],
      "text/markdown": [
       "1. 'fcc_astarr_macs_input_overlap'\n",
       "2. 'fcc_astarr_macs_input_union'\n",
       "\n",
       "\n"
      ],
      "text/plain": [
       "[1] \"fcc_astarr_macs_input_overlap\" \"fcc_astarr_macs_input_union\"  "
      ]
     },
     "metadata": {},
     "output_type": "display_data"
    }
   ],
   "source": [
    "txt_fdiry = file.path(FD_RES, \"region\",txt_region_folder_A, \"summary\")\n",
    "txt_fname = \"metadata.label.tsv\"\n",
    "txt_fpath = file.path(txt_fdiry, txt_fname)\n",
    "\n",
    "dat_label = read_tsv(txt_fpath, show_col_types = FALSE)\n",
    "vec_txt_region_label_A = dat_label$Label\n",
    "vec_txt_region_label_A"
   ]
  },
  {
   "cell_type": "code",
   "execution_count": 20,
   "id": "55feeed4-5d03-43ab-b333-559a9351deda",
   "metadata": {},
   "outputs": [
    {
     "data": {
      "text/html": [
       "<style>\n",
       ".list-inline {list-style: none; margin:0; padding: 0}\n",
       ".list-inline>li {display: inline-block}\n",
       ".list-inline>li:not(:last-child)::after {content: \"\\00b7\"; padding: 0 .5ex}\n",
       "</style>\n",
       "<ol class=list-inline><li>'encode_chipseq_H3K27ac_ENCFF544LXB'</li><li>'encode_chipseq_H3K27me3_ENCFF323WOT'</li><li>'encode_chipseq_H3K4me1_ENCFF135ZLM'</li><li>'encode_chipseq_H3K4me2_ENCFF749KLQ'</li><li>'encode_chipseq_YY1_ENCFF398UQZ'</li><li>'encode_chipseq_REST_ENCFF707MDI'</li><li>'encode_chipseq_JUN_ENCFF190CGV'</li><li>'encode_chipseq_GATA1_ENCFF657CTC'</li><li>'encode_chipseq_ELK1_ENCFF715WGN'</li><li>'encode_chipseq_EP300_ENCFF702XPO'</li><li>'encode_chipseq_CTCF_ENCFF660GHM'</li><li>'encode_chipseq_TAL1_ENCFF852ZRK'</li><li>'encode_chipseq_ZEB2_ENCFF242AOL'</li><li>'encode_chipseq_ATF1_ENCFF627RSK'</li><li>'encode_chipseq_KLF10_ENCFF142ZTD'</li><li>'encode_chipseq_POLR2A_ENCFF355MNE'</li><li>'encode_chipseq_NFE2_ENCFF023IFO'</li><li>'encode_chipseq_H3K4me3_ENCFF885FQN'</li><li>'encode_chipseq_KLF16_ENCFF488OTN'</li><li>'encode_chipseq_SP1_ENCFF553GPK'</li><li>'encode_chipseq_NRF1_ENCFF777PKJ'</li></ol>\n"
      ],
      "text/latex": [
       "\\begin{enumerate*}\n",
       "\\item 'encode\\_chipseq\\_H3K27ac\\_ENCFF544LXB'\n",
       "\\item 'encode\\_chipseq\\_H3K27me3\\_ENCFF323WOT'\n",
       "\\item 'encode\\_chipseq\\_H3K4me1\\_ENCFF135ZLM'\n",
       "\\item 'encode\\_chipseq\\_H3K4me2\\_ENCFF749KLQ'\n",
       "\\item 'encode\\_chipseq\\_YY1\\_ENCFF398UQZ'\n",
       "\\item 'encode\\_chipseq\\_REST\\_ENCFF707MDI'\n",
       "\\item 'encode\\_chipseq\\_JUN\\_ENCFF190CGV'\n",
       "\\item 'encode\\_chipseq\\_GATA1\\_ENCFF657CTC'\n",
       "\\item 'encode\\_chipseq\\_ELK1\\_ENCFF715WGN'\n",
       "\\item 'encode\\_chipseq\\_EP300\\_ENCFF702XPO'\n",
       "\\item 'encode\\_chipseq\\_CTCF\\_ENCFF660GHM'\n",
       "\\item 'encode\\_chipseq\\_TAL1\\_ENCFF852ZRK'\n",
       "\\item 'encode\\_chipseq\\_ZEB2\\_ENCFF242AOL'\n",
       "\\item 'encode\\_chipseq\\_ATF1\\_ENCFF627RSK'\n",
       "\\item 'encode\\_chipseq\\_KLF10\\_ENCFF142ZTD'\n",
       "\\item 'encode\\_chipseq\\_POLR2A\\_ENCFF355MNE'\n",
       "\\item 'encode\\_chipseq\\_NFE2\\_ENCFF023IFO'\n",
       "\\item 'encode\\_chipseq\\_H3K4me3\\_ENCFF885FQN'\n",
       "\\item 'encode\\_chipseq\\_KLF16\\_ENCFF488OTN'\n",
       "\\item 'encode\\_chipseq\\_SP1\\_ENCFF553GPK'\n",
       "\\item 'encode\\_chipseq\\_NRF1\\_ENCFF777PKJ'\n",
       "\\end{enumerate*}\n"
      ],
      "text/markdown": [
       "1. 'encode_chipseq_H3K27ac_ENCFF544LXB'\n",
       "2. 'encode_chipseq_H3K27me3_ENCFF323WOT'\n",
       "3. 'encode_chipseq_H3K4me1_ENCFF135ZLM'\n",
       "4. 'encode_chipseq_H3K4me2_ENCFF749KLQ'\n",
       "5. 'encode_chipseq_YY1_ENCFF398UQZ'\n",
       "6. 'encode_chipseq_REST_ENCFF707MDI'\n",
       "7. 'encode_chipseq_JUN_ENCFF190CGV'\n",
       "8. 'encode_chipseq_GATA1_ENCFF657CTC'\n",
       "9. 'encode_chipseq_ELK1_ENCFF715WGN'\n",
       "10. 'encode_chipseq_EP300_ENCFF702XPO'\n",
       "11. 'encode_chipseq_CTCF_ENCFF660GHM'\n",
       "12. 'encode_chipseq_TAL1_ENCFF852ZRK'\n",
       "13. 'encode_chipseq_ZEB2_ENCFF242AOL'\n",
       "14. 'encode_chipseq_ATF1_ENCFF627RSK'\n",
       "15. 'encode_chipseq_KLF10_ENCFF142ZTD'\n",
       "16. 'encode_chipseq_POLR2A_ENCFF355MNE'\n",
       "17. 'encode_chipseq_NFE2_ENCFF023IFO'\n",
       "18. 'encode_chipseq_H3K4me3_ENCFF885FQN'\n",
       "19. 'encode_chipseq_KLF16_ENCFF488OTN'\n",
       "20. 'encode_chipseq_SP1_ENCFF553GPK'\n",
       "21. 'encode_chipseq_NRF1_ENCFF777PKJ'\n",
       "\n",
       "\n"
      ],
      "text/plain": [
       " [1] \"encode_chipseq_H3K27ac_ENCFF544LXB\"  \"encode_chipseq_H3K27me3_ENCFF323WOT\"\n",
       " [3] \"encode_chipseq_H3K4me1_ENCFF135ZLM\"  \"encode_chipseq_H3K4me2_ENCFF749KLQ\" \n",
       " [5] \"encode_chipseq_YY1_ENCFF398UQZ\"      \"encode_chipseq_REST_ENCFF707MDI\"    \n",
       " [7] \"encode_chipseq_JUN_ENCFF190CGV\"      \"encode_chipseq_GATA1_ENCFF657CTC\"   \n",
       " [9] \"encode_chipseq_ELK1_ENCFF715WGN\"     \"encode_chipseq_EP300_ENCFF702XPO\"   \n",
       "[11] \"encode_chipseq_CTCF_ENCFF660GHM\"     \"encode_chipseq_TAL1_ENCFF852ZRK\"    \n",
       "[13] \"encode_chipseq_ZEB2_ENCFF242AOL\"     \"encode_chipseq_ATF1_ENCFF627RSK\"    \n",
       "[15] \"encode_chipseq_KLF10_ENCFF142ZTD\"    \"encode_chipseq_POLR2A_ENCFF355MNE\"  \n",
       "[17] \"encode_chipseq_NFE2_ENCFF023IFO\"     \"encode_chipseq_H3K4me3_ENCFF885FQN\" \n",
       "[19] \"encode_chipseq_KLF16_ENCFF488OTN\"    \"encode_chipseq_SP1_ENCFF553GPK\"     \n",
       "[21] \"encode_chipseq_NRF1_ENCFF777PKJ\"    "
      ]
     },
     "metadata": {},
     "output_type": "display_data"
    }
   ],
   "source": [
    "txt_fdiry = file.path(FD_RES, \"region\",txt_region_folder_B, \"summary\")\n",
    "txt_fname = \"metadata.label.tsv\"\n",
    "txt_fpath = file.path(txt_fdiry, txt_fname)\n",
    "\n",
    "dat_label = read_tsv(txt_fpath, show_col_types = FALSE)\n",
    "vec_txt_region_label_B = dat_label$Label\n",
    "vec_txt_region_label_B"
   ]
  },
  {
   "cell_type": "code",
   "execution_count": null,
   "id": "767bb305-d1e8-47c5-8d87-d035a8929e3e",
   "metadata": {},
   "outputs": [],
   "source": []
  },
  {
   "cell_type": "code",
   "execution_count": 25,
   "id": "6c862bf7-45fb-419d-ac60-1a22c93f6a1a",
   "metadata": {},
   "outputs": [
    {
     "name": "stdout",
     "output_type": "stream",
     "text": [
      "[1] \"fcc_astarr_macs_input_overlap\"\n",
      " [1] \"fcc_astarr_macs_input_overlap.encode_chipseq_ATF1_ENCFF627RSK.bed.gz\"    \n",
      " [2] \"fcc_astarr_macs_input_overlap.encode_chipseq_CTCF_ENCFF660GHM.bed.gz\"    \n",
      " [3] \"fcc_astarr_macs_input_overlap.encode_chipseq_ELK1_ENCFF715WGN.bed.gz\"    \n",
      " [4] \"fcc_astarr_macs_input_overlap.encode_chipseq_EP300_ENCFF702XPO.bed.gz\"   \n",
      " [5] \"fcc_astarr_macs_input_overlap.encode_chipseq_GATA1_ENCFF657CTC.bed.gz\"   \n",
      " [6] \"fcc_astarr_macs_input_overlap.encode_chipseq_H3K27ac_ENCFF544LXB.bed.gz\" \n",
      " [7] \"fcc_astarr_macs_input_overlap.encode_chipseq_H3K27me3_ENCFF323WOT.bed.gz\"\n",
      " [8] \"fcc_astarr_macs_input_overlap.encode_chipseq_H3K4me1_ENCFF135ZLM.bed.gz\" \n",
      " [9] \"fcc_astarr_macs_input_overlap.encode_chipseq_H3K4me2_ENCFF749KLQ.bed.gz\" \n",
      "[10] \"fcc_astarr_macs_input_overlap.encode_chipseq_H3K4me3_ENCFF885FQN.bed.gz\" \n",
      "[11] \"fcc_astarr_macs_input_overlap.encode_chipseq_JUN_ENCFF190CGV.bed.gz\"     \n",
      "[12] \"fcc_astarr_macs_input_overlap.encode_chipseq_KLF10_ENCFF142ZTD.bed.gz\"   \n",
      "[13] \"fcc_astarr_macs_input_overlap.encode_chipseq_KLF16_ENCFF488OTN.bed.gz\"   \n",
      "[14] \"fcc_astarr_macs_input_overlap.encode_chipseq_NFE2_ENCFF023IFO.bed.gz\"    \n",
      "[15] \"fcc_astarr_macs_input_overlap.encode_chipseq_NRF1_ENCFF777PKJ.bed.gz\"    \n",
      "[16] \"fcc_astarr_macs_input_overlap.encode_chipseq_POLR2A_ENCFF355MNE.bed.gz\"  \n",
      "[17] \"fcc_astarr_macs_input_overlap.encode_chipseq_REST_ENCFF707MDI.bed.gz\"    \n",
      "[18] \"fcc_astarr_macs_input_overlap.encode_chipseq_SP1_ENCFF553GPK.bed.gz\"     \n",
      "[19] \"fcc_astarr_macs_input_overlap.encode_chipseq_TAL1_ENCFF852ZRK.bed.gz\"    \n",
      "[20] \"fcc_astarr_macs_input_overlap.encode_chipseq_YY1_ENCFF398UQZ.bed.gz\"     \n",
      "[21] \"fcc_astarr_macs_input_overlap.encode_chipseq_ZEB2_ENCFF242AOL.bed.gz\"    \n",
      "\n"
     ]
    }
   ],
   "source": [
    "txt_region_label_A = vec_txt_region_label_A[1]\n",
    "###\n",
    "txt_fdiry = file.path(\n",
    "    FD_RES, \n",
    "    \"region_annotation\",\n",
    "    txt_region_label_A, \n",
    "    txt_region_folder_B\n",
    ")\n",
    "txt_fname = \"*bed.gz\"\n",
    "txt_fglob = file.path(txt_fdiry, txt_fname)\n",
    "\n",
    "vec_txt_fpath = Sys.glob(txt_fglob)\n",
    "vec_txt_fname = basename(vec_txt_fpath)\n",
    "print(txt_region_label_A)\n",
    "print(vec_txt_fname)\n",
    "cat(\"\\n\")"
   ]
  },
  {
   "cell_type": "code",
   "execution_count": 26,
   "id": "e5b4d0f0-d269-4c01-bfad-7af5ee920dcf",
   "metadata": {},
   "outputs": [],
   "source": [
    "lst = lapply(vec_txt_fname, function(txt_fname){\n",
    "    ###\n",
    "    txt_fpath = file.path(txt_fdiry, txt_fname)\n",
    "    \n",
    "    ###\n",
    "    lst = str_split(txt_fname, \"\\\\.\")\n",
    "    vec = lst[[1]]\n",
    "    txt_annot_A = vec[1]\n",
    "    txt_annot_B = vec[2]\n",
    "\n",
    "    ###\n",
    "    vec = str_split(txt_annot_B, \"_\")[[1]]\n",
    "    txt_group = \"ChIPseq:Subset\"\n",
    "    txt_label = vec[3]\n",
    "\n",
    "    ###\n",
    "    dat = read_tsv(txt_fpath, col_names = vec_txt_cname, show_col_types = FALSE)\n",
    "    dat = dat %>% \n",
    "        dplyr::mutate(\n",
    "            Region_A = paste0(Chrom_A, \":\", ChromStart_A, \"-\", ChromEnd_A),\n",
    "            Region_B = paste0(Chrom_B, \":\", ChromStart_B, \"-\", ChromEnd_B),\n",
    "            Annotation_A = txt_annot_A,\n",
    "            Annotation_B = txt_annot_B,\n",
    "            Group_B      = txt_group,\n",
    "            Label_B      = txt_label\n",
    "        )\n",
    "    return(dat)\n",
    "})"
   ]
  },
  {
   "cell_type": "code",
   "execution_count": 27,
   "id": "d42a3f6a-ace3-43fb-a568-8b79a395efeb",
   "metadata": {},
   "outputs": [
    {
     "data": {
      "text/html": [
       "<table class=\"dataframe\">\n",
       "<caption>A tibble: 6 × 20</caption>\n",
       "<thead>\n",
       "\t<tr><th scope=col>Chrom_A</th><th scope=col>ChromStart_A</th><th scope=col>ChromEnd_A</th><th scope=col>Chrom_B</th><th scope=col>ChromStart_B</th><th scope=col>ChromEnd_B</th><th scope=col>Name_B</th><th scope=col>Score_B</th><th scope=col>Strand_B</th><th scope=col>SignalValue_B</th><th scope=col>PValue_B</th><th scope=col>QValue_B</th><th scope=col>Peak_B</th><th scope=col>Overlap</th><th scope=col>Region_A</th><th scope=col>Region_B</th><th scope=col>Annotation_A</th><th scope=col>Annotation_B</th><th scope=col>Group_B</th><th scope=col>Label_B</th></tr>\n",
       "\t<tr><th scope=col>&lt;chr&gt;</th><th scope=col>&lt;dbl&gt;</th><th scope=col>&lt;dbl&gt;</th><th scope=col>&lt;chr&gt;</th><th scope=col>&lt;dbl&gt;</th><th scope=col>&lt;dbl&gt;</th><th scope=col>&lt;chr&gt;</th><th scope=col>&lt;dbl&gt;</th><th scope=col>&lt;chr&gt;</th><th scope=col>&lt;dbl&gt;</th><th scope=col>&lt;dbl&gt;</th><th scope=col>&lt;dbl&gt;</th><th scope=col>&lt;dbl&gt;</th><th scope=col>&lt;dbl&gt;</th><th scope=col>&lt;chr&gt;</th><th scope=col>&lt;chr&gt;</th><th scope=col>&lt;chr&gt;</th><th scope=col>&lt;chr&gt;</th><th scope=col>&lt;chr&gt;</th><th scope=col>&lt;chr&gt;</th></tr>\n",
       "</thead>\n",
       "<tbody>\n",
       "\t<tr><td>chr1</td><td>778233</td><td>779389</td><td>chr1</td><td>778198</td><td>779139</td><td>.</td><td>1000</td><td>.</td><td>10888.81006</td><td>-1</td><td>4.26233</td><td>505</td><td>906</td><td>chr1:778233-779389</td><td>chr1:778198-779139</td><td>fcc_astarr_macs_input_overlap</td><td>encode_chipseq_ATF1_ENCFF627RSK</td><td>ChIPseq</td><td>ATF1</td></tr>\n",
       "\t<tr><td>chr1</td><td>817031</td><td>817525</td><td>chr1</td><td>817203</td><td>817893</td><td>.</td><td>1000</td><td>.</td><td>  111.09106</td><td>-1</td><td>3.87876</td><td>345</td><td>322</td><td>chr1:817031-817525</td><td>chr1:817203-817893</td><td>fcc_astarr_macs_input_overlap</td><td>encode_chipseq_ATF1_ENCFF627RSK</td><td>ChIPseq</td><td>ATF1</td></tr>\n",
       "\t<tr><td>chr1</td><td>817031</td><td>817525</td><td>chr1</td><td>817206</td><td>817533</td><td>.</td><td>1000</td><td>.</td><td>  258.40874</td><td>-1</td><td>4.26233</td><td>141</td><td>319</td><td>chr1:817031-817525</td><td>chr1:817206-817533</td><td>fcc_astarr_macs_input_overlap</td><td>encode_chipseq_ATF1_ENCFF627RSK</td><td>ChIPseq</td><td>ATF1</td></tr>\n",
       "\t<tr><td>chr1</td><td>826796</td><td>828040</td><td>chr1</td><td>827315</td><td>827649</td><td>.</td><td>1000</td><td>.</td><td>  157.62140</td><td>-1</td><td>3.91482</td><td>176</td><td>334</td><td>chr1:826796-828040</td><td>chr1:827315-827649</td><td>fcc_astarr_macs_input_overlap</td><td>encode_chipseq_ATF1_ENCFF627RSK</td><td>ChIPseq</td><td>ATF1</td></tr>\n",
       "\t<tr><td>chr1</td><td>842516</td><td>843431</td><td>chr1</td><td>842533</td><td>843223</td><td>.</td><td> 754</td><td>.</td><td>   66.73495</td><td>-1</td><td>3.71724</td><td>345</td><td>690</td><td>chr1:842516-843431</td><td>chr1:842533-843223</td><td>fcc_astarr_macs_input_overlap</td><td>encode_chipseq_ATF1_ENCFF627RSK</td><td>ChIPseq</td><td>ATF1</td></tr>\n",
       "\t<tr><td>chr1</td><td>869637</td><td>870233</td><td>chr1</td><td>869692</td><td>870382</td><td>.</td><td> 866</td><td>.</td><td>   67.40187</td><td>-1</td><td>3.78482</td><td>345</td><td>541</td><td>chr1:869637-870233</td><td>chr1:869692-870382</td><td>fcc_astarr_macs_input_overlap</td><td>encode_chipseq_ATF1_ENCFF627RSK</td><td>ChIPseq</td><td>ATF1</td></tr>\n",
       "</tbody>\n",
       "</table>\n"
      ],
      "text/latex": [
       "A tibble: 6 × 20\n",
       "\\begin{tabular}{llllllllllllllllllll}\n",
       " Chrom\\_A & ChromStart\\_A & ChromEnd\\_A & Chrom\\_B & ChromStart\\_B & ChromEnd\\_B & Name\\_B & Score\\_B & Strand\\_B & SignalValue\\_B & PValue\\_B & QValue\\_B & Peak\\_B & Overlap & Region\\_A & Region\\_B & Annotation\\_A & Annotation\\_B & Group\\_B & Label\\_B\\\\\n",
       " <chr> & <dbl> & <dbl> & <chr> & <dbl> & <dbl> & <chr> & <dbl> & <chr> & <dbl> & <dbl> & <dbl> & <dbl> & <dbl> & <chr> & <chr> & <chr> & <chr> & <chr> & <chr>\\\\\n",
       "\\hline\n",
       "\t chr1 & 778233 & 779389 & chr1 & 778198 & 779139 & . & 1000 & . & 10888.81006 & -1 & 4.26233 & 505 & 906 & chr1:778233-779389 & chr1:778198-779139 & fcc\\_astarr\\_macs\\_input\\_overlap & encode\\_chipseq\\_ATF1\\_ENCFF627RSK & ChIPseq & ATF1\\\\\n",
       "\t chr1 & 817031 & 817525 & chr1 & 817203 & 817893 & . & 1000 & . &   111.09106 & -1 & 3.87876 & 345 & 322 & chr1:817031-817525 & chr1:817203-817893 & fcc\\_astarr\\_macs\\_input\\_overlap & encode\\_chipseq\\_ATF1\\_ENCFF627RSK & ChIPseq & ATF1\\\\\n",
       "\t chr1 & 817031 & 817525 & chr1 & 817206 & 817533 & . & 1000 & . &   258.40874 & -1 & 4.26233 & 141 & 319 & chr1:817031-817525 & chr1:817206-817533 & fcc\\_astarr\\_macs\\_input\\_overlap & encode\\_chipseq\\_ATF1\\_ENCFF627RSK & ChIPseq & ATF1\\\\\n",
       "\t chr1 & 826796 & 828040 & chr1 & 827315 & 827649 & . & 1000 & . &   157.62140 & -1 & 3.91482 & 176 & 334 & chr1:826796-828040 & chr1:827315-827649 & fcc\\_astarr\\_macs\\_input\\_overlap & encode\\_chipseq\\_ATF1\\_ENCFF627RSK & ChIPseq & ATF1\\\\\n",
       "\t chr1 & 842516 & 843431 & chr1 & 842533 & 843223 & . &  754 & . &    66.73495 & -1 & 3.71724 & 345 & 690 & chr1:842516-843431 & chr1:842533-843223 & fcc\\_astarr\\_macs\\_input\\_overlap & encode\\_chipseq\\_ATF1\\_ENCFF627RSK & ChIPseq & ATF1\\\\\n",
       "\t chr1 & 869637 & 870233 & chr1 & 869692 & 870382 & . &  866 & . &    67.40187 & -1 & 3.78482 & 345 & 541 & chr1:869637-870233 & chr1:869692-870382 & fcc\\_astarr\\_macs\\_input\\_overlap & encode\\_chipseq\\_ATF1\\_ENCFF627RSK & ChIPseq & ATF1\\\\\n",
       "\\end{tabular}\n"
      ],
      "text/markdown": [
       "\n",
       "A tibble: 6 × 20\n",
       "\n",
       "| Chrom_A &lt;chr&gt; | ChromStart_A &lt;dbl&gt; | ChromEnd_A &lt;dbl&gt; | Chrom_B &lt;chr&gt; | ChromStart_B &lt;dbl&gt; | ChromEnd_B &lt;dbl&gt; | Name_B &lt;chr&gt; | Score_B &lt;dbl&gt; | Strand_B &lt;chr&gt; | SignalValue_B &lt;dbl&gt; | PValue_B &lt;dbl&gt; | QValue_B &lt;dbl&gt; | Peak_B &lt;dbl&gt; | Overlap &lt;dbl&gt; | Region_A &lt;chr&gt; | Region_B &lt;chr&gt; | Annotation_A &lt;chr&gt; | Annotation_B &lt;chr&gt; | Group_B &lt;chr&gt; | Label_B &lt;chr&gt; |\n",
       "|---|---|---|---|---|---|---|---|---|---|---|---|---|---|---|---|---|---|---|---|\n",
       "| chr1 | 778233 | 779389 | chr1 | 778198 | 779139 | . | 1000 | . | 10888.81006 | -1 | 4.26233 | 505 | 906 | chr1:778233-779389 | chr1:778198-779139 | fcc_astarr_macs_input_overlap | encode_chipseq_ATF1_ENCFF627RSK | ChIPseq | ATF1 |\n",
       "| chr1 | 817031 | 817525 | chr1 | 817203 | 817893 | . | 1000 | . |   111.09106 | -1 | 3.87876 | 345 | 322 | chr1:817031-817525 | chr1:817203-817893 | fcc_astarr_macs_input_overlap | encode_chipseq_ATF1_ENCFF627RSK | ChIPseq | ATF1 |\n",
       "| chr1 | 817031 | 817525 | chr1 | 817206 | 817533 | . | 1000 | . |   258.40874 | -1 | 4.26233 | 141 | 319 | chr1:817031-817525 | chr1:817206-817533 | fcc_astarr_macs_input_overlap | encode_chipseq_ATF1_ENCFF627RSK | ChIPseq | ATF1 |\n",
       "| chr1 | 826796 | 828040 | chr1 | 827315 | 827649 | . | 1000 | . |   157.62140 | -1 | 3.91482 | 176 | 334 | chr1:826796-828040 | chr1:827315-827649 | fcc_astarr_macs_input_overlap | encode_chipseq_ATF1_ENCFF627RSK | ChIPseq | ATF1 |\n",
       "| chr1 | 842516 | 843431 | chr1 | 842533 | 843223 | . |  754 | . |    66.73495 | -1 | 3.71724 | 345 | 690 | chr1:842516-843431 | chr1:842533-843223 | fcc_astarr_macs_input_overlap | encode_chipseq_ATF1_ENCFF627RSK | ChIPseq | ATF1 |\n",
       "| chr1 | 869637 | 870233 | chr1 | 869692 | 870382 | . |  866 | . |    67.40187 | -1 | 3.78482 | 345 | 541 | chr1:869637-870233 | chr1:869692-870382 | fcc_astarr_macs_input_overlap | encode_chipseq_ATF1_ENCFF627RSK | ChIPseq | ATF1 |\n",
       "\n"
      ],
      "text/plain": [
       "  Chrom_A ChromStart_A ChromEnd_A Chrom_B ChromStart_B ChromEnd_B Name_B\n",
       "1 chr1    778233       779389     chr1    778198       779139     .     \n",
       "2 chr1    817031       817525     chr1    817203       817893     .     \n",
       "3 chr1    817031       817525     chr1    817206       817533     .     \n",
       "4 chr1    826796       828040     chr1    827315       827649     .     \n",
       "5 chr1    842516       843431     chr1    842533       843223     .     \n",
       "6 chr1    869637       870233     chr1    869692       870382     .     \n",
       "  Score_B Strand_B SignalValue_B PValue_B QValue_B Peak_B Overlap\n",
       "1 1000    .        10888.81006   -1       4.26233  505    906    \n",
       "2 1000    .          111.09106   -1       3.87876  345    322    \n",
       "3 1000    .          258.40874   -1       4.26233  141    319    \n",
       "4 1000    .          157.62140   -1       3.91482  176    334    \n",
       "5  754    .           66.73495   -1       3.71724  345    690    \n",
       "6  866    .           67.40187   -1       3.78482  345    541    \n",
       "  Region_A           Region_B           Annotation_A                 \n",
       "1 chr1:778233-779389 chr1:778198-779139 fcc_astarr_macs_input_overlap\n",
       "2 chr1:817031-817525 chr1:817203-817893 fcc_astarr_macs_input_overlap\n",
       "3 chr1:817031-817525 chr1:817206-817533 fcc_astarr_macs_input_overlap\n",
       "4 chr1:826796-828040 chr1:827315-827649 fcc_astarr_macs_input_overlap\n",
       "5 chr1:842516-843431 chr1:842533-843223 fcc_astarr_macs_input_overlap\n",
       "6 chr1:869637-870233 chr1:869692-870382 fcc_astarr_macs_input_overlap\n",
       "  Annotation_B                    Group_B Label_B\n",
       "1 encode_chipseq_ATF1_ENCFF627RSK ChIPseq ATF1   \n",
       "2 encode_chipseq_ATF1_ENCFF627RSK ChIPseq ATF1   \n",
       "3 encode_chipseq_ATF1_ENCFF627RSK ChIPseq ATF1   \n",
       "4 encode_chipseq_ATF1_ENCFF627RSK ChIPseq ATF1   \n",
       "5 encode_chipseq_ATF1_ENCFF627RSK ChIPseq ATF1   \n",
       "6 encode_chipseq_ATF1_ENCFF627RSK ChIPseq ATF1   "
      ]
     },
     "metadata": {},
     "output_type": "display_data"
    }
   ],
   "source": [
    "dat = bind_rows(lst)\n",
    "dat_region_intersect = dat\n",
    "head(dat)"
   ]
  },
  {
   "cell_type": "code",
   "execution_count": 29,
   "id": "0ae44bd5-a975-4eff-bc2e-6143384e33e6",
   "metadata": {},
   "outputs": [
    {
     "data": {
      "text/plain": [
       "\n",
       "    encode_chipseq_ATF1_ENCFF627RSK     encode_chipseq_CTCF_ENCFF660GHM \n",
       "                              39474                               37223 \n",
       "    encode_chipseq_ELK1_ENCFF715WGN    encode_chipseq_EP300_ENCFF702XPO \n",
       "                               3588                               24505 \n",
       "   encode_chipseq_GATA1_ENCFF657CTC  encode_chipseq_H3K27ac_ENCFF544LXB \n",
       "                              12114                               43224 \n",
       "encode_chipseq_H3K27me3_ENCFF323WOT  encode_chipseq_H3K4me1_ENCFF135ZLM \n",
       "                              17193                               57397 \n",
       " encode_chipseq_H3K4me2_ENCFF749KLQ  encode_chipseq_H3K4me3_ENCFF885FQN \n",
       "                              53021                               21318 \n",
       "     encode_chipseq_JUN_ENCFF190CGV    encode_chipseq_KLF10_ENCFF142ZTD \n",
       "                              17570                                 779 \n",
       "   encode_chipseq_KLF16_ENCFF488OTN     encode_chipseq_NFE2_ENCFF023IFO \n",
       "                              16407                               15377 \n",
       "    encode_chipseq_NRF1_ENCFF777PKJ   encode_chipseq_POLR2A_ENCFF355MNE \n",
       "                              32439                               36319 \n",
       "    encode_chipseq_REST_ENCFF707MDI      encode_chipseq_SP1_ENCFF553GPK \n",
       "                              15951                               11743 \n",
       "    encode_chipseq_TAL1_ENCFF852ZRK      encode_chipseq_YY1_ENCFF398UQZ \n",
       "                              23632                               26194 \n",
       "    encode_chipseq_ZEB2_ENCFF242AOL \n",
       "                              20943 "
      ]
     },
     "metadata": {},
     "output_type": "display_data"
    }
   ],
   "source": [
    "table(dat$Annotation_B)"
   ]
  },
  {
   "cell_type": "code",
   "execution_count": 28,
   "id": "55cc28aa-3d55-4408-8f98-03625bc42f8b",
   "metadata": {},
   "outputs": [
    {
     "data": {
      "text/plain": [
       "\n",
       "    ATF1     CTCF     ELK1    EP300    GATA1  H3K27ac H3K27me3  H3K4me1 \n",
       "   39474    37223     3588    24505    12114    43224    17193    57397 \n",
       " H3K4me2  H3K4me3      JUN    KLF10    KLF16     NFE2     NRF1   POLR2A \n",
       "   53021    21318    17570      779    16407    15377    32439    36319 \n",
       "    REST      SP1     TAL1      YY1     ZEB2 \n",
       "   15951    11743    23632    26194    20943 "
      ]
     },
     "metadata": {},
     "output_type": "display_data"
    }
   ],
   "source": [
    "table(dat$Label_B)"
   ]
  },
  {
   "cell_type": "code",
   "execution_count": null,
   "id": "41df28de-9fdc-4082-bb1d-29355833ccdc",
   "metadata": {},
   "outputs": [],
   "source": []
  },
  {
   "cell_type": "code",
   "execution_count": 30,
   "id": "dfd5037f-5a16-4284-b5e0-266a5156cb55",
   "metadata": {},
   "outputs": [],
   "source": [
    "### init\n",
    "dat = dat_region_intersect\n",
    "\n",
    "###\n",
    "dat = dat %>%\n",
    "    dplyr::group_by(\n",
    "        Chrom_A, ChromStart_A, ChromEnd_A, Region_A,\n",
    "        Annotation_A,\n",
    "        Annotation_B,\n",
    "        Group_B,\n",
    "        Label_B\n",
    "    ) %>%\n",
    "    dplyr::summarise(\n",
    "        Region_B = paste(Region_B, collapse=\"|\"),\n",
    "        Count  = n(),\n",
    "        .groups = \"drop\") %>%\n",
    "    dplyr::arrange(Chrom_A, ChromStart_A, ChromEnd_A)"
   ]
  },
  {
   "cell_type": "code",
   "execution_count": 31,
   "id": "56128e96-64ca-4be4-9160-c2e4bf510c51",
   "metadata": {},
   "outputs": [
    {
     "data": {
      "text/html": [
       "<table class=\"dataframe\">\n",
       "<caption>A tibble: 6 × 10</caption>\n",
       "<thead>\n",
       "\t<tr><th scope=col>Chrom_A</th><th scope=col>ChromStart_A</th><th scope=col>ChromEnd_A</th><th scope=col>Region_A</th><th scope=col>Annotation_A</th><th scope=col>Annotation_B</th><th scope=col>Group_B</th><th scope=col>Label_B</th><th scope=col>Region_B</th><th scope=col>Count</th></tr>\n",
       "\t<tr><th scope=col>&lt;chr&gt;</th><th scope=col>&lt;dbl&gt;</th><th scope=col>&lt;dbl&gt;</th><th scope=col>&lt;chr&gt;</th><th scope=col>&lt;chr&gt;</th><th scope=col>&lt;chr&gt;</th><th scope=col>&lt;chr&gt;</th><th scope=col>&lt;chr&gt;</th><th scope=col>&lt;chr&gt;</th><th scope=col>&lt;int&gt;</th></tr>\n",
       "</thead>\n",
       "<tbody>\n",
       "\t<tr><td>chr1</td><td> 16025</td><td> 16338</td><td>chr1:16025-16338  </td><td>fcc_astarr_macs_input_overlap</td><td>encode_chipseq_CTCF_ENCFF660GHM  </td><td>ChIPseq</td><td>CTCF  </td><td>chr1:16127-16367  </td><td>1</td></tr>\n",
       "\t<tr><td>chr1</td><td> 17288</td><td> 17689</td><td>chr1:17288-17689  </td><td>fcc_astarr_macs_input_overlap</td><td>encode_chipseq_POLR2A_ENCFF355MNE</td><td>ChIPseq</td><td>POLR2A</td><td>chr1:17333-17518  </td><td>1</td></tr>\n",
       "\t<tr><td>chr1</td><td>115429</td><td>115969</td><td>chr1:115429-115969</td><td>fcc_astarr_macs_input_overlap</td><td>encode_chipseq_EP300_ENCFF702XPO </td><td>ChIPseq</td><td>EP300 </td><td>chr1:115579-115895</td><td>1</td></tr>\n",
       "\t<tr><td>chr1</td><td>115429</td><td>115969</td><td>chr1:115429-115969</td><td>fcc_astarr_macs_input_overlap</td><td>encode_chipseq_NFE2_ENCFF023IFO  </td><td>ChIPseq</td><td>NFE2  </td><td>chr1:115518-115922</td><td>1</td></tr>\n",
       "\t<tr><td>chr1</td><td>115429</td><td>115969</td><td>chr1:115429-115969</td><td>fcc_astarr_macs_input_overlap</td><td>encode_chipseq_NRF1_ENCFF777PKJ  </td><td>ChIPseq</td><td>NRF1  </td><td>chr1:115456-116012</td><td>1</td></tr>\n",
       "\t<tr><td>chr1</td><td>115429</td><td>115969</td><td>chr1:115429-115969</td><td>fcc_astarr_macs_input_overlap</td><td>encode_chipseq_POLR2A_ENCFF355MNE</td><td>ChIPseq</td><td>POLR2A</td><td>chr1:115625-115913</td><td>1</td></tr>\n",
       "</tbody>\n",
       "</table>\n"
      ],
      "text/latex": [
       "A tibble: 6 × 10\n",
       "\\begin{tabular}{llllllllll}\n",
       " Chrom\\_A & ChromStart\\_A & ChromEnd\\_A & Region\\_A & Annotation\\_A & Annotation\\_B & Group\\_B & Label\\_B & Region\\_B & Count\\\\\n",
       " <chr> & <dbl> & <dbl> & <chr> & <chr> & <chr> & <chr> & <chr> & <chr> & <int>\\\\\n",
       "\\hline\n",
       "\t chr1 &  16025 &  16338 & chr1:16025-16338   & fcc\\_astarr\\_macs\\_input\\_overlap & encode\\_chipseq\\_CTCF\\_ENCFF660GHM   & ChIPseq & CTCF   & chr1:16127-16367   & 1\\\\\n",
       "\t chr1 &  17288 &  17689 & chr1:17288-17689   & fcc\\_astarr\\_macs\\_input\\_overlap & encode\\_chipseq\\_POLR2A\\_ENCFF355MNE & ChIPseq & POLR2A & chr1:17333-17518   & 1\\\\\n",
       "\t chr1 & 115429 & 115969 & chr1:115429-115969 & fcc\\_astarr\\_macs\\_input\\_overlap & encode\\_chipseq\\_EP300\\_ENCFF702XPO  & ChIPseq & EP300  & chr1:115579-115895 & 1\\\\\n",
       "\t chr1 & 115429 & 115969 & chr1:115429-115969 & fcc\\_astarr\\_macs\\_input\\_overlap & encode\\_chipseq\\_NFE2\\_ENCFF023IFO   & ChIPseq & NFE2   & chr1:115518-115922 & 1\\\\\n",
       "\t chr1 & 115429 & 115969 & chr1:115429-115969 & fcc\\_astarr\\_macs\\_input\\_overlap & encode\\_chipseq\\_NRF1\\_ENCFF777PKJ   & ChIPseq & NRF1   & chr1:115456-116012 & 1\\\\\n",
       "\t chr1 & 115429 & 115969 & chr1:115429-115969 & fcc\\_astarr\\_macs\\_input\\_overlap & encode\\_chipseq\\_POLR2A\\_ENCFF355MNE & ChIPseq & POLR2A & chr1:115625-115913 & 1\\\\\n",
       "\\end{tabular}\n"
      ],
      "text/markdown": [
       "\n",
       "A tibble: 6 × 10\n",
       "\n",
       "| Chrom_A &lt;chr&gt; | ChromStart_A &lt;dbl&gt; | ChromEnd_A &lt;dbl&gt; | Region_A &lt;chr&gt; | Annotation_A &lt;chr&gt; | Annotation_B &lt;chr&gt; | Group_B &lt;chr&gt; | Label_B &lt;chr&gt; | Region_B &lt;chr&gt; | Count &lt;int&gt; |\n",
       "|---|---|---|---|---|---|---|---|---|---|\n",
       "| chr1 |  16025 |  16338 | chr1:16025-16338   | fcc_astarr_macs_input_overlap | encode_chipseq_CTCF_ENCFF660GHM   | ChIPseq | CTCF   | chr1:16127-16367   | 1 |\n",
       "| chr1 |  17288 |  17689 | chr1:17288-17689   | fcc_astarr_macs_input_overlap | encode_chipseq_POLR2A_ENCFF355MNE | ChIPseq | POLR2A | chr1:17333-17518   | 1 |\n",
       "| chr1 | 115429 | 115969 | chr1:115429-115969 | fcc_astarr_macs_input_overlap | encode_chipseq_EP300_ENCFF702XPO  | ChIPseq | EP300  | chr1:115579-115895 | 1 |\n",
       "| chr1 | 115429 | 115969 | chr1:115429-115969 | fcc_astarr_macs_input_overlap | encode_chipseq_NFE2_ENCFF023IFO   | ChIPseq | NFE2   | chr1:115518-115922 | 1 |\n",
       "| chr1 | 115429 | 115969 | chr1:115429-115969 | fcc_astarr_macs_input_overlap | encode_chipseq_NRF1_ENCFF777PKJ   | ChIPseq | NRF1   | chr1:115456-116012 | 1 |\n",
       "| chr1 | 115429 | 115969 | chr1:115429-115969 | fcc_astarr_macs_input_overlap | encode_chipseq_POLR2A_ENCFF355MNE | ChIPseq | POLR2A | chr1:115625-115913 | 1 |\n",
       "\n"
      ],
      "text/plain": [
       "  Chrom_A ChromStart_A ChromEnd_A Region_A          \n",
       "1 chr1     16025        16338     chr1:16025-16338  \n",
       "2 chr1     17288        17689     chr1:17288-17689  \n",
       "3 chr1    115429       115969     chr1:115429-115969\n",
       "4 chr1    115429       115969     chr1:115429-115969\n",
       "5 chr1    115429       115969     chr1:115429-115969\n",
       "6 chr1    115429       115969     chr1:115429-115969\n",
       "  Annotation_A                  Annotation_B                      Group_B\n",
       "1 fcc_astarr_macs_input_overlap encode_chipseq_CTCF_ENCFF660GHM   ChIPseq\n",
       "2 fcc_astarr_macs_input_overlap encode_chipseq_POLR2A_ENCFF355MNE ChIPseq\n",
       "3 fcc_astarr_macs_input_overlap encode_chipseq_EP300_ENCFF702XPO  ChIPseq\n",
       "4 fcc_astarr_macs_input_overlap encode_chipseq_NFE2_ENCFF023IFO   ChIPseq\n",
       "5 fcc_astarr_macs_input_overlap encode_chipseq_NRF1_ENCFF777PKJ   ChIPseq\n",
       "6 fcc_astarr_macs_input_overlap encode_chipseq_POLR2A_ENCFF355MNE ChIPseq\n",
       "  Label_B Region_B           Count\n",
       "1 CTCF    chr1:16127-16367   1    \n",
       "2 POLR2A  chr1:17333-17518   1    \n",
       "3 EP300   chr1:115579-115895 1    \n",
       "4 NFE2    chr1:115518-115922 1    \n",
       "5 NRF1    chr1:115456-116012 1    \n",
       "6 POLR2A  chr1:115625-115913 1    "
      ]
     },
     "metadata": {},
     "output_type": "display_data"
    }
   ],
   "source": [
    "head(dat)"
   ]
  },
  {
   "cell_type": "code",
   "execution_count": null,
   "id": "4dd32085-0103-4b21-aea9-bc4e75edf114",
   "metadata": {},
   "outputs": [],
   "source": []
  },
  {
   "cell_type": "code",
   "execution_count": null,
   "id": "096c4969-67a0-40f6-a39c-86108d2273b7",
   "metadata": {},
   "outputs": [],
   "source": []
  },
  {
   "cell_type": "code",
   "execution_count": null,
   "id": "ebecc830-f989-4ff2-9925-bfcd1cfeacd3",
   "metadata": {},
   "outputs": [],
   "source": []
  },
  {
   "cell_type": "code",
   "execution_count": null,
   "id": "acb47cdc-e69d-464c-a539-604c9fb0785a",
   "metadata": {},
   "outputs": [],
   "source": []
  },
  {
   "cell_type": "code",
   "execution_count": 22,
   "id": "e5e52129-551e-457a-a6a9-f213589b4226",
   "metadata": {},
   "outputs": [
    {
     "name": "stdout",
     "output_type": "stream",
     "text": [
      "[1] \"fcc_astarr_macs_input_overlap\"\n",
      " [1] \"fcc_astarr_macs_input_overlap.encode_chipseq_ATF1_ENCFF627RSK.bed.gz\"    \n",
      " [2] \"fcc_astarr_macs_input_overlap.encode_chipseq_CTCF_ENCFF660GHM.bed.gz\"    \n",
      " [3] \"fcc_astarr_macs_input_overlap.encode_chipseq_ELK1_ENCFF715WGN.bed.gz\"    \n",
      " [4] \"fcc_astarr_macs_input_overlap.encode_chipseq_EP300_ENCFF702XPO.bed.gz\"   \n",
      " [5] \"fcc_astarr_macs_input_overlap.encode_chipseq_GATA1_ENCFF657CTC.bed.gz\"   \n",
      " [6] \"fcc_astarr_macs_input_overlap.encode_chipseq_H3K27ac_ENCFF544LXB.bed.gz\" \n",
      " [7] \"fcc_astarr_macs_input_overlap.encode_chipseq_H3K27me3_ENCFF323WOT.bed.gz\"\n",
      " [8] \"fcc_astarr_macs_input_overlap.encode_chipseq_H3K4me1_ENCFF135ZLM.bed.gz\" \n",
      " [9] \"fcc_astarr_macs_input_overlap.encode_chipseq_H3K4me2_ENCFF749KLQ.bed.gz\" \n",
      "[10] \"fcc_astarr_macs_input_overlap.encode_chipseq_H3K4me3_ENCFF885FQN.bed.gz\" \n",
      "[11] \"fcc_astarr_macs_input_overlap.encode_chipseq_JUN_ENCFF190CGV.bed.gz\"     \n",
      "[12] \"fcc_astarr_macs_input_overlap.encode_chipseq_KLF10_ENCFF142ZTD.bed.gz\"   \n",
      "[13] \"fcc_astarr_macs_input_overlap.encode_chipseq_KLF16_ENCFF488OTN.bed.gz\"   \n",
      "[14] \"fcc_astarr_macs_input_overlap.encode_chipseq_NFE2_ENCFF023IFO.bed.gz\"    \n",
      "[15] \"fcc_astarr_macs_input_overlap.encode_chipseq_NRF1_ENCFF777PKJ.bed.gz\"    \n",
      "[16] \"fcc_astarr_macs_input_overlap.encode_chipseq_POLR2A_ENCFF355MNE.bed.gz\"  \n",
      "[17] \"fcc_astarr_macs_input_overlap.encode_chipseq_REST_ENCFF707MDI.bed.gz\"    \n",
      "[18] \"fcc_astarr_macs_input_overlap.encode_chipseq_SP1_ENCFF553GPK.bed.gz\"     \n",
      "[19] \"fcc_astarr_macs_input_overlap.encode_chipseq_TAL1_ENCFF852ZRK.bed.gz\"    \n",
      "[20] \"fcc_astarr_macs_input_overlap.encode_chipseq_YY1_ENCFF398UQZ.bed.gz\"     \n",
      "[21] \"fcc_astarr_macs_input_overlap.encode_chipseq_ZEB2_ENCFF242AOL.bed.gz\"    \n",
      "\n",
      "[1] \"fcc_astarr_macs_input_union\"\n",
      " [1] \"fcc_astarr_macs_input_union.encode_chipseq_ATF1_ENCFF627RSK.bed.gz\"    \n",
      " [2] \"fcc_astarr_macs_input_union.encode_chipseq_CTCF_ENCFF660GHM.bed.gz\"    \n",
      " [3] \"fcc_astarr_macs_input_union.encode_chipseq_ELK1_ENCFF715WGN.bed.gz\"    \n",
      " [4] \"fcc_astarr_macs_input_union.encode_chipseq_EP300_ENCFF702XPO.bed.gz\"   \n",
      " [5] \"fcc_astarr_macs_input_union.encode_chipseq_GATA1_ENCFF657CTC.bed.gz\"   \n",
      " [6] \"fcc_astarr_macs_input_union.encode_chipseq_H3K27ac_ENCFF544LXB.bed.gz\" \n",
      " [7] \"fcc_astarr_macs_input_union.encode_chipseq_H3K27me3_ENCFF323WOT.bed.gz\"\n",
      " [8] \"fcc_astarr_macs_input_union.encode_chipseq_H3K4me1_ENCFF135ZLM.bed.gz\" \n",
      " [9] \"fcc_astarr_macs_input_union.encode_chipseq_H3K4me2_ENCFF749KLQ.bed.gz\" \n",
      "[10] \"fcc_astarr_macs_input_union.encode_chipseq_H3K4me3_ENCFF885FQN.bed.gz\" \n",
      "[11] \"fcc_astarr_macs_input_union.encode_chipseq_JUN_ENCFF190CGV.bed.gz\"     \n",
      "[12] \"fcc_astarr_macs_input_union.encode_chipseq_KLF10_ENCFF142ZTD.bed.gz\"   \n",
      "[13] \"fcc_astarr_macs_input_union.encode_chipseq_KLF16_ENCFF488OTN.bed.gz\"   \n",
      "[14] \"fcc_astarr_macs_input_union.encode_chipseq_NFE2_ENCFF023IFO.bed.gz\"    \n",
      "[15] \"fcc_astarr_macs_input_union.encode_chipseq_NRF1_ENCFF777PKJ.bed.gz\"    \n",
      "[16] \"fcc_astarr_macs_input_union.encode_chipseq_POLR2A_ENCFF355MNE.bed.gz\"  \n",
      "[17] \"fcc_astarr_macs_input_union.encode_chipseq_REST_ENCFF707MDI.bed.gz\"    \n",
      "[18] \"fcc_astarr_macs_input_union.encode_chipseq_SP1_ENCFF553GPK.bed.gz\"     \n",
      "[19] \"fcc_astarr_macs_input_union.encode_chipseq_TAL1_ENCFF852ZRK.bed.gz\"    \n",
      "[20] \"fcc_astarr_macs_input_union.encode_chipseq_YY1_ENCFF398UQZ.bed.gz\"     \n",
      "[21] \"fcc_astarr_macs_input_union.encode_chipseq_ZEB2_ENCFF242AOL.bed.gz\"    \n",
      "\n"
     ]
    }
   ],
   "source": [
    "for (txt_region_label_A in vec_txt_region_label_A) {\n",
    "    ###\n",
    "    txt_fdiry = file.path(\n",
    "        FD_RES, \n",
    "        \"region_annotation\",\n",
    "        txt_region_label_A, \n",
    "        txt_region_folder_B\n",
    "    )\n",
    "    txt_fname = \"*bed.gz\"\n",
    "    txt_fglob = file.path(txt_fdiry, txt_fname)\n",
    "    \n",
    "    vec_txt_fpath = Sys.glob(txt_fglob)\n",
    "    vec_txt_fname = basename(vec_txt_fpath)\n",
    "    \n",
    "    print(txt_region_label_A)\n",
    "    print(vec_txt_fname)\n",
    "    cat(\"\\n\")\n",
    "\n",
    "    ###\n",
    "    txt_fname = vec_txt_fname[1]\n",
    "    txt_fpath = file.path(txt_fdiry, txt_fname)\n",
    "    print(txt_fname)\n",
    "    \n",
    "    ###\n",
    "    lst = str_split(txt_fname, \"\\\\.\")\n",
    "    vec = lst[[1]]\n",
    "    txt_annot_A = vec[1]\n",
    "    txt_annot_B = vec[2]\n",
    "    \n",
    "    ###\n",
    "    vec = str_split(txt_annot_B, \"_\")[[1]]\n",
    "    txt_group = \"ChIPseq\"\n",
    "    txt_label = vec[3]\n",
    "    \n",
    "    ###\n",
    "    dat = read_tsv(txt_fpath, col_names = vec_txt_cname, show_col_types = FALSE)\n",
    "    dat = dat %>% \n",
    "        dplyr::mutate(\n",
    "            Region_A = paste0(Chrom_A, \":\", ChromStart_A, \"-\", ChromEnd_A),\n",
    "            Region_B = paste0(Chrom_B, \":\", ChromStart_B, \"-\", ChromEnd_B),\n",
    "            Annotation_A = txt_annot_A,\n",
    "            Annotation_B = txt_annot_B,\n",
    "            Group_B      = txt_group,\n",
    "            Label_B      = txt_label\n",
    "        )\n",
    "    dat_region_intersect = dat\n",
    "}"
   ]
  },
  {
   "cell_type": "code",
   "execution_count": null,
   "id": "5e42da3f-6a48-4d18-9376-4c7ce6380423",
   "metadata": {},
   "outputs": [],
   "source": []
  },
  {
   "cell_type": "code",
   "execution_count": null,
   "id": "5f1653b3-6d41-4c7a-8490-49b3821a9c04",
   "metadata": {},
   "outputs": [],
   "source": []
  },
  {
   "cell_type": "code",
   "execution_count": null,
   "id": "84b9f7b7-0c96-4543-8bf4-bff8bd25ad65",
   "metadata": {},
   "outputs": [],
   "source": [
    "\n",
    "txt_fdiry = file.path(\n",
    "    FD_RES, \n",
    "    \"region_annotation\",\n",
    "    txt_region_label_A, \n",
    "    txt_region_folder_B\n",
    ")\n",
    "txt_fname = \"*bed.gz\"\n",
    "txt_fglob = file.path(txt_fdiry, txt_fname)\n",
    "\n",
    "vec_txt_fpath = Sys.glob(txt_fglob)\n",
    "vec_txt_fname = basename(vec_txt_fpath)\n",
    "vec_txt_fname"
   ]
  }
 ],
 "metadata": {
  "kernelspec": {
   "display_name": "R",
   "language": "R",
   "name": "ir"
  },
  "language_info": {
   "codemirror_mode": "r",
   "file_extension": ".r",
   "mimetype": "text/x-r-source",
   "name": "R",
   "pygments_lexer": "r",
   "version": "4.4.0"
  }
 },
 "nbformat": 4,
 "nbformat_minor": 5
}
