{
 "cells": [
  {
   "cell_type": "raw",
   "id": "d62defbe-db33-4a1d-921e-5d9f9edbe79b",
   "metadata": {},
   "source": [
    "---\n",
    "title: FCC Peak calls\n",
    "subtitle: export annotation\n",
    "format:\n",
    "    html:\n",
    "        code-fold:  true\n",
    "        code-tools: true\n",
    "---"
   ]
  },
  {
   "cell_type": "markdown",
   "id": "5d9a43b0-cd60-44c5-aad6-609a9e5c8235",
   "metadata": {},
   "source": [
    "**Set environment**"
   ]
  },
  {
   "cell_type": "code",
   "execution_count": 1,
   "id": "5c5b2e93-9a1d-438a-a8fa-ee0d89fe2055",
   "metadata": {},
   "outputs": [
    {
     "name": "stdout",
     "output_type": "stream",
     "text": [
      "You are working on             Duke Server: HARDAC\n",
      "BASE DIRECTORY (FD_BASE):      /data/reddylab/Kuei\n",
      "REPO DIRECTORY (FD_REPO):      /data/reddylab/Kuei/repo\n",
      "WORK DIRECTORY (FD_WORK):      /data/reddylab/Kuei/work\n",
      "DATA DIRECTORY (FD_DATA):      /data/reddylab/Kuei/data\n",
      "CONTAINER DIR. (FD_SING):      /data/reddylab/Kuei/container\n",
      "\n",
      "You are working with           ENCODE FCC\n",
      "PATH OF PROJECT (FD_PRJ):      /data/reddylab/Kuei/repo/Proj_ENCODE_FCC\n",
      "PROJECT RESULTS (FD_RES):      /data/reddylab/Kuei/repo/Proj_ENCODE_FCC/results\n",
      "PROJECT SCRIPTS (FD_EXE):      /data/reddylab/Kuei/repo/Proj_ENCODE_FCC/scripts\n",
      "PROJECT DATA    (FD_DAT):      /data/reddylab/Kuei/repo/Proj_ENCODE_FCC/data\n",
      "PROJECT NOTE    (FD_NBK):      /data/reddylab/Kuei/repo/Proj_ENCODE_FCC/notebooks\n",
      "PROJECT DOCS    (FD_DOC):      /data/reddylab/Kuei/repo/Proj_ENCODE_FCC/docs\n",
      "PROJECT LOG     (FD_LOG):      /data/reddylab/Kuei/repo/Proj_ENCODE_FCC/log\n",
      "PROJECT REF     (FD_REF):      /data/reddylab/Kuei/repo/Proj_ENCODE_FCC/references\n",
      "PROJECT IMAGE   (FP_PRJ_SIF):  /data/reddylab/Kuei/container/project/singularity_proj_encode_fcc.sif\n",
      "\n"
     ]
    }
   ],
   "source": [
    "source ../run_config_project.sh\n",
    "show_env"
   ]
  },
  {
   "cell_type": "markdown",
   "id": "4a8c6022-878f-4153-a9cf-d8005d6cde17",
   "metadata": {},
   "source": [
    "## Preview"
   ]
  },
  {
   "cell_type": "code",
   "execution_count": 2,
   "id": "bfea2419-5617-4def-b107-6df572b6508c",
   "metadata": {},
   "outputs": [
    {
     "name": "stdout",
     "output_type": "stream",
     "text": [
      "/data/reddylab/Kuei/repo/Proj_ENCODE_FCC/results\n",
      "\n",
      "\u001b[0m\u001b[38;5;27massay_fcc\u001b[0m\n",
      "\u001b[38;5;27massay_hic\u001b[0m\n",
      "\u001b[38;5;27mregion\u001b[0m\n",
      "\u001b[38;5;27mregion_annotation\u001b[0m\n",
      "\u001b[38;5;27mregion_converage_hic\u001b[0m\n",
      "\u001b[38;5;27mregion_coverage_fcc\u001b[0m\n",
      "\u001b[38;5;27mregion_integration\u001b[0m\n"
     ]
    }
   ],
   "source": [
    "FD_INP=${FD_RES}\n",
    "echo  ${FD_INP}\n",
    "echo \n",
    "ls -1 ${FD_INP}"
   ]
  },
  {
   "cell_type": "code",
   "execution_count": 3,
   "id": "f638c84a-1aad-49b3-908e-9d5d59abf683",
   "metadata": {},
   "outputs": [
    {
     "name": "stdout",
     "output_type": "stream",
     "text": [
      "/data/reddylab/Kuei/repo/Proj_ENCODE_FCC/results/region_annotation/fcc_astarr_macs_input_overlap/summary\n",
      "\n",
      "hclust.col.annotation.prepare.chipseq_full.fcc.tss.rds\n",
      "hclust.col.annotation.prepare.chipseq_full.only.rds\n",
      "hclust.col.annotation.test_chrX.chipseq_full.only.rds\n",
      "hclust.row.annotation.prepare.chipseq_full.fcc.tss.rds\n",
      "hclust.row.annotation.prepare.chipseq_full.only.rds\n",
      "hclust.row.annotation.test_chrX.chipseq_full.only.rds\n",
      "matrix.annotation.chipseq_flagship.tsv\n",
      "matrix.annotation.chipseq_full.tsv\n",
      "matrix.annotation.chipseq_histone.tsv\n",
      "matrix.annotation.chipseq_subset.tsv\n",
      "matrix.annotation.fcc_peak_call.tsv\n",
      "matrix.annotation.genome_tss.tsv\n",
      "matrix.annotation.merge.chipseq_full.fcc.tss.tsv\n",
      "matrix.annotation.prepare.enh.chipseq_full.fcc.tss.tsv\n",
      "matrix.annotation.prepare.full.chipseq_full.fcc.tss.tsv\n",
      "matrix.annotation.prepare.full.chipseq_full.only.tsv\n",
      "matrix.annotation.prepare.rep.chipseq_full.fcc.tss.tsv\n",
      "matrix.annotation.prepare.sig.chipseq_full.fcc.tss.tsv\n",
      "matrix.annotation.test_chrX.chipseq_full.fcc.tss.tsv\n",
      "matrix.annotation.test_chrX.chipseq_full.only.tsv\n",
      "region.annotation.encode_chipseq_flagship.tsv\n",
      "region.annotation.encode_chipseq_histone.tsv\n",
      "region.annotation.encode_chipseq_subset.tsv\n",
      "region.annotation.encode_chromatin_states.tsv\n",
      "region.annotation.fcc_astarr_csaw.tsv\n",
      "region.annotation.fcc_crispri_growth.tsv\n",
      "region.annotation.fcc_crispri_hcrff.tsv\n",
      "region.annotation.fcc_mpra_agarwal2023.tsv\n",
      "region.annotation.fcc_starrmpra_junke.tsv\n",
      "region.annotation.genome_tss.tsv\n",
      "region.annotation.hic_insitu_K562_ENCSR545YBD.tsv\n",
      "region.annotation.hic_intact_K562_deep.tsv\n",
      "region.annotation.hic_intact_K562_ENCSR479XDG.tsv\n",
      "region.annotation.module_tf_shannon.tsv\n",
      "region.summary.encode_chipseq_encode4.tsv\n",
      "region.summary.encode_chipseq_flagship.tsv\n",
      "region.summary.encode_chipseq_histone.tsv\n",
      "region.summary.encode_chipseq_subset.tsv\n",
      "region.summary.encode_chromatin_states.tsv\n",
      "region.summary.fcc_astarr_csaw.tsv\n",
      "region.summary.fcc_crispri_growth.tsv\n",
      "region.summary.fcc_crispri_hcrff.tsv\n",
      "region.summary.fcc_mpra_agarwal2023.tsv\n",
      "region.summary.fcc_starrmpra_junke.tsv\n",
      "region.summary.genome_tss.tsv\n",
      "region.summary.hic_insitu_K562_ENCSR545YBD.tsv\n",
      "region.summary.hic_intact_K562_deep.tsv\n",
      "region.summary.hic_intact_K562_ENCSR479XDG.tsv\n",
      "region.summary.module_tf_shannon.tsv\n",
      "result.summary.chipseq_flagship.tsv\n",
      "result.summary.chipseq_full.tsv\n",
      "result.summary.chipseq_histone.tsv\n",
      "result.summary.chipseq_subset.tsv\n",
      "result.summary.connectivity.loop.tsv\n",
      "result.summary.encode_chromatin_states.tsv\n",
      "result.summary.fcc_peak_call.tsv\n",
      "result.summary.genome_tss.tsv\n",
      "result.summary.tfmodule.tsv\n",
      "\u001b[0m\u001b[38;5;27mtmp\u001b[0m\n"
     ]
    }
   ],
   "source": [
    "FD_INP=${FD_RES}/region_annotation\n",
    "FD_INP=${FD_INP}/fcc_astarr_macs_input_overlap\n",
    "FD_INP=${FD_INP}/summary\n",
    "echo  ${FD_INP}\n",
    "echo \n",
    "ls -1 ${FD_INP}"
   ]
  },
  {
   "cell_type": "markdown",
   "id": "a6e40552-bf3f-4120-8b48-f639ca94529a",
   "metadata": {
    "tags": []
   },
   "source": [
    "## Execute"
   ]
  },
  {
   "cell_type": "code",
   "execution_count": 4,
   "id": "f0b70c00-bb38-4fdd-87d0-213eff899d95",
   "metadata": {},
   "outputs": [
    {
     "name": "stdout",
     "output_type": "stream",
     "text": [
      "Submitted batch job 35130814\n"
     ]
    }
   ],
   "source": [
    "FD_INP=${FD_RES}/region_annotation\n",
    "FD_INP=${FD_INP}/fcc_astarr_macs_input_overlap\n",
    "FD_INP=${FD_INP}/summary\n",
    "FN_INP=matrix.annotation.prepare.chipseq_full.fcc.tss.tsv\n",
    "FP_INP=${FD_INP}/${FN_INP}\n",
    "\n",
    "FN_LOG=\"hclust.matrix.annotation.prepare.chipseq_full.fcc.tss.tsv.txt\"\n",
    "FP_LOG=${FD_LOG}/${FN_LOG}\n",
    "\n",
    "sbatch -p ${NODE} \\\n",
    "    --exclude=dl-01 \\\n",
    "    --cpus-per-task 4 \\\n",
    "    --mem 200G \\\n",
    "    --output ${FP_LOG} \\\n",
    "    sing_script.sh Rscript ${FD_EXE}/run_region_annot_hclust.R ${FP_INP}"
   ]
  },
  {
   "cell_type": "code",
   "execution_count": 5,
   "id": "60f4bb35-fec7-4e80-a7f1-65d4bbb99397",
   "metadata": {},
   "outputs": [
    {
     "name": "stdout",
     "output_type": "stream",
     "text": [
      "Submitted batch job 35130815\n"
     ]
    }
   ],
   "source": [
    "FD_INP=${FD_RES}/region_annotation\n",
    "FD_INP=${FD_INP}/fcc_astarr_macs_input_overlap\n",
    "FD_INP=${FD_INP}/summary\n",
    "FN_INP=matrix.annotation.prepare.chipseq_full.only.tsv\n",
    "FP_INP=${FD_INP}/${FN_INP}\n",
    "\n",
    "FN_LOG=\"hclust.matrix.annotation.prepare.chipseq_full.only.tsv.txt\"\n",
    "FP_LOG=${FD_LOG}/${FN_LOG}\n",
    "\n",
    "sbatch -p ${NODE} \\\n",
    "    --exclude=dl-01 \\\n",
    "    --cpus-per-task 4 \\\n",
    "    --mem 200G \\\n",
    "    --output ${FP_LOG} \\\n",
    "    sing_script.sh Rscript ${FD_EXE}/run_region_annot_hclust.R ${FP_INP}"
   ]
  },
  {
   "cell_type": "markdown",
   "id": "be515049-768e-4dc1-a9a0-a32a3d0642d4",
   "metadata": {},
   "source": [
    "## Review"
   ]
  },
  {
   "cell_type": "code",
   "execution_count": 6,
   "id": "7b17e89a-99a2-4e65-9f42-48d448cd1630",
   "metadata": {},
   "outputs": [
    {
     "name": "stdout",
     "output_type": "stream",
     "text": [
      "/data/reddylab/Kuei/repo/Proj_ENCODE_FCC/log/hclust.matrix.annotation.prepare.chipseq_full.fcc.tss.tsv.txt\n",
      "Directory:   /data/reddylab/Kuei/repo/Proj_ENCODE_FCC/results/region_annotation/fcc_astarr_macs_input_overlap/summary \n",
      "Input  File: matrix.annotation.prepare.chipseq_full.fcc.tss.tsv \n",
      "Output File: hclust.row.annotation.prepare.chipseq_full.fcc.tss.rds \n",
      "Output File: hclust.col.annotation.prepare.chipseq_full.fcc.tss.rds \n"
     ]
    }
   ],
   "source": [
    "FN_LOG=\"hclust.matrix.annotation.prepare.chipseq_full.fcc.tss.tsv.txt\"\n",
    "FP_LOG=${FD_LOG}/${FN_LOG}\n",
    "\n",
    "echo ${FP_LOG}\n",
    "cat  ${FP_LOG}"
   ]
  },
  {
   "cell_type": "code",
   "execution_count": 7,
   "id": "7f78c693-1932-419a-82ec-3d9b83b4471e",
   "metadata": {},
   "outputs": [
    {
     "name": "stdout",
     "output_type": "stream",
     "text": [
      "/data/reddylab/Kuei/repo/Proj_ENCODE_FCC/log/hclust.matrix.annotation.prepare.chipseq_full.only.tsv.txt\n",
      "Directory:   /data/reddylab/Kuei/repo/Proj_ENCODE_FCC/results/region_annotation/fcc_astarr_macs_input_overlap/summary \n",
      "Input  File: matrix.annotation.prepare.chipseq_full.only.tsv \n",
      "Output File: hclust.row.annotation.prepare.chipseq_full.only.rds \n",
      "Output File: hclust.col.annotation.prepare.chipseq_full.only.rds \n"
     ]
    }
   ],
   "source": [
    "FN_LOG=\"hclust.matrix.annotation.prepare.chipseq_full.only.tsv.txt\"\n",
    "FP_LOG=${FD_LOG}/${FN_LOG}\n",
    "\n",
    "echo ${FP_LOG}\n",
    "cat  ${FP_LOG}"
   ]
  },
  {
   "cell_type": "code",
   "execution_count": null,
   "id": "f12eee91-ab3b-4ce2-aa32-4a71d4092755",
   "metadata": {},
   "outputs": [],
   "source": []
  },
  {
   "cell_type": "code",
   "execution_count": null,
   "id": "609d8306-0d7e-4461-b37d-1d1f43ea4e4e",
   "metadata": {},
   "outputs": [],
   "source": []
  }
 ],
 "metadata": {
  "kernelspec": {
   "display_name": "Bash",
   "language": "bash",
   "name": "bash"
  },
  "language_info": {
   "codemirror_mode": "shell",
   "file_extension": ".sh",
   "mimetype": "text/x-sh",
   "name": "bash"
  }
 },
 "nbformat": 4,
 "nbformat_minor": 5
}
