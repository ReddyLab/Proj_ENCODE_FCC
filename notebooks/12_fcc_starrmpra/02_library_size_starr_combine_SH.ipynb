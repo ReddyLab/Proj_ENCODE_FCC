{
 "cells": [
  {
   "cell_type": "raw",
   "id": "1b45d33a-3a3b-4cfa-9371-71750ff0c781",
   "metadata": {},
   "source": [
    "---\n",
    "title: Coverage STARR-seq data 02\n",
    "subtitle: Combine library size of STARR-seq data\n",
    "format:\n",
    "    html:\n",
    "        code-fold:  true\n",
    "        code-tools: true\n",
    "---"
   ]
  },
  {
   "cell_type": "markdown",
   "id": "56d6506b-b39d-4210-b0d1-aa00e4858fe5",
   "metadata": {},
   "source": [
    "**Set environment**"
   ]
  },
  {
   "cell_type": "code",
   "execution_count": 1,
   "id": "253ae25f-fe19-48fa-a37f-ea97786d4f1c",
   "metadata": {},
   "outputs": [
    {
     "name": "stdout",
     "output_type": "stream",
     "text": [
      "You are working on             Duke Server: HARDAC\n",
      "BASE DIRECTORY (FD_BASE):      /data/reddylab/Kuei\n",
      "REPO DIRECTORY (FD_REPO):      /data/reddylab/Kuei/repo\n",
      "WORK DIRECTORY (FD_WORK):      /data/reddylab/Kuei/work\n",
      "DATA DIRECTORY (FD_DATA):      /data/reddylab/Kuei/data\n",
      "CONTAINER DIR. (FD_SING):      /data/reddylab/Kuei/container\n",
      "\n",
      "You are working with           ENCODE FCC\n",
      "PATH OF PROJECT (FD_PRJ):      /data/reddylab/Kuei/repo/Proj_ENCODE_FCC\n",
      "PROJECT RESULTS (FD_RES):      /data/reddylab/Kuei/repo/Proj_ENCODE_FCC/results\n",
      "PROJECT SCRIPTS (FD_EXE):      /data/reddylab/Kuei/repo/Proj_ENCODE_FCC/scripts\n",
      "PROJECT DATA    (FD_DAT):      /data/reddylab/Kuei/repo/Proj_ENCODE_FCC/data\n",
      "PROJECT NOTE    (FD_NBK):      /data/reddylab/Kuei/repo/Proj_ENCODE_FCC/notebooks\n",
      "PROJECT DOCS    (FD_DOC):      /data/reddylab/Kuei/repo/Proj_ENCODE_FCC/docs\n",
      "PROJECT LOG     (FD_LOG):      /data/reddylab/Kuei/repo/Proj_ENCODE_FCC/log\n",
      "PROJECT APP     (FD_APP):      /data/reddylab/Kuei/repo/Proj_ENCODE_FCC/app\n",
      "PROJECT REF     (FD_REF):      /data/reddylab/Kuei/repo/Proj_ENCODE_FCC/references\n",
      "PROJECT IMAGE   (FP_PRJ_SIF):  /data/reddylab/Kuei/repo/Proj_ENCODE_FCC/app/singularity_proj_encode_fcc.sif\n",
      "\n"
     ]
    }
   ],
   "source": [
    "source ../run_config_project.sh\n",
    "show_env"
   ]
  },
  {
   "cell_type": "markdown",
   "id": "70cf6040-4840-4546-a5b7-4d7601b8bdbd",
   "metadata": {},
   "source": [
    "## Prepare"
   ]
  },
  {
   "cell_type": "markdown",
   "id": "c9df9a26-e538-4aa3-b3d8-21ad03d68dda",
   "metadata": {},
   "source": [
    "**Set assay names**"
   ]
  },
  {
   "cell_type": "code",
   "execution_count": 2,
   "id": "c1379886-1deb-4340-ae33-9b694145d3ee",
   "metadata": {},
   "outputs": [
    {
     "name": "stdout",
     "output_type": "stream",
     "text": [
      "\u001b[0m\u001b[38;5;27m/data/reddylab/Kuei/repo/Proj_ENCODE_FCC/results/assay_fcc/STARR_ATAC_K562_Reddy_KS274\u001b[0m\u001b[K\n",
      "\u001b[38;5;27m/data/reddylab/Kuei/repo/Proj_ENCODE_FCC/results/assay_fcc/STARR_ATAC_K562_Reddy_KS91\u001b[0m\u001b[K\n",
      "\u001b[38;5;27m/data/reddylab/Kuei/repo/Proj_ENCODE_FCC/results/assay_fcc/STARR_WHG_K562_Reddy_A001\u001b[0m\u001b[K\n"
     ]
    }
   ],
   "source": [
    "ls -d ${FD_RES}/assay_fcc/STARR*"
   ]
  },
  {
   "cell_type": "code",
   "execution_count": 3,
   "id": "8fbd972d-e076-47c1-b381-36c2d40f3d44",
   "metadata": {},
   "outputs": [],
   "source": [
    "### Assay\n",
    "ASSAY_TYPE=assay_fcc\n",
    "ASSAY_NAMES=(\n",
    "    STARR_ATAC_K562_Reddy_KS274\n",
    "    STARR_ATAC_K562_Reddy_KS91\n",
    "    STARR_WHG_K562_Reddy_A001\n",
    ")"
   ]
  },
  {
   "cell_type": "markdown",
   "id": "b3f0d917-e022-4fc5-aca9-b2a05d894ae8",
   "metadata": {},
   "source": [
    "**Test loop: Assay**"
   ]
  },
  {
   "cell_type": "code",
   "execution_count": 4,
   "id": "9b755452-18e2-4640-948d-68506d8de2c7",
   "metadata": {},
   "outputs": [
    {
     "name": "stdout",
     "output_type": "stream",
     "text": [
      "======================================\n",
      "Assay  name: STARR_ATAC_K562_Reddy_KS274\n",
      "Output file: /data/reddylab/Kuei/repo/Proj_ENCODE_FCC/results/assay_fcc/STARR_ATAC_K562_Reddy_KS274/fragment_counts/summary/result.size.concat.csv\n",
      "\n",
      "ASTARRseq_K562_KS274.hg38.Output.rep1.WGS.unstranded.bed.gz,41119652,75921554\n",
      "ASTARRseq_K562_KS274.hg38.Output.rep2.WGS.unstranded.bed.gz,33845018,61846404\n",
      "ASTARRseq_K562_KS274.hg38.Output.rep3.WGS.unstranded.bed.gz,46177734,80233063\n",
      "\n",
      "======================================\n",
      "Assay  name: STARR_ATAC_K562_Reddy_KS91\n",
      "Output file: /data/reddylab/Kuei/repo/Proj_ENCODE_FCC/results/assay_fcc/STARR_ATAC_K562_Reddy_KS91/fragment_counts/summary/result.size.concat.csv\n",
      "\n",
      "ASTARRseq_K562_KS91.hg38.Input.rep1.WGS.unstranded.bed.gz,348695063,348695063\n",
      "ASTARRseq_K562_KS91.hg38.Input.rep2.WGS.unstranded.bed.gz,451369741,451369741\n",
      "ASTARRseq_K562_KS91.hg38.Input.rep3.WGS.unstranded.bed.gz,487579055,487579055\n",
      "ASTARRseq_K562_KS91.hg38.Input.rep4.WGS.unstranded.bed.gz,456246254,456246254\n",
      "ASTARRseq_K562_KS91.hg38.Input.rep5.WGS.unstranded.bed.gz,444268950,444268950\n",
      "ASTARRseq_K562_KS91.hg38.Input.rep6.WGS.unstranded.bed.gz,397333562,397333562\n",
      "ASTARRseq_K562_KS91.hg38.Output.rep1.WGS.unstranded.bed.gz,39258388,44103844\n",
      "ASTARRseq_K562_KS91.hg38.Output.rep2.WGS.unstranded.bed.gz,70029279,79902408\n",
      "ASTARRseq_K562_KS91.hg38.Output.rep3.WGS.unstranded.bed.gz,74932952,84103298\n",
      "ASTARRseq_K562_KS91.hg38.Output.rep4.WGS.unstranded.bed.gz,125219777,148739471\n",
      "\n",
      "======================================\n",
      "Assay  name: STARR_WHG_K562_Reddy_A001\n",
      "Output file: /data/reddylab/Kuei/repo/Proj_ENCODE_FCC/results/assay_fcc/STARR_WHG_K562_Reddy_A001/fragment_counts/summary/result.size.concat.csv\n",
      "\n",
      "WSTARRseq_K562_A001.hg38.Input.rep1.WGS.unstranded.bed.gz,26908970,26908970\n",
      "WSTARRseq_K562_A001.hg38.Input.rep2.WGS.unstranded.bed.gz,99899775,99899775\n",
      "WSTARRseq_K562_A001.hg38.Input.rep3.WGS.unstranded.bed.gz,105623984,105623984\n",
      "WSTARRseq_K562_A001.hg38.Input.rep4.WGS.unstranded.bed.gz,108635002,108635002\n",
      "WSTARRseq_K562_A001.hg38.Output.rep1.WGS.unstranded.bed.gz,160349140,160349140\n",
      "WSTARRseq_K562_A001.hg38.Output.rep2.WGS.unstranded.bed.gz,157326312,157326312\n",
      "WSTARRseq_K562_A001.hg38.Output.rep3.WGS.unstranded.bed.gz,328185275,328185275\n",
      "\n"
     ]
    }
   ],
   "source": [
    "for ASSAY_NAME in ${ASSAY_NAMES[@]}; do\n",
    "    \n",
    "    ### set input and output files\n",
    "    FD_INP=${FD_RES}/assay_fcc/${ASSAY_NAME}/fragment_counts/summary\n",
    "    FP_INPS=($(ls ${FD_INP}/result.size.*hg38*.csv))\n",
    "    FD_OUT=${FD_INP}\n",
    "    FN_OUT=\"result.size.concat.csv\"\n",
    "    FP_OUT=${FD_OUT}/${FN_OUT}\n",
    "    \n",
    "    ### show progress\n",
    "    echo ======================================\n",
    "    echo \"Assay  name:\" ${ASSAY_NAME}\n",
    "    echo \"Output file:\" ${FP_OUT}\n",
    "    echo\n",
    "    \n",
    "    ### loop through each input file\n",
    "    for FP_INP in ${FP_INPS[@]}; do\n",
    "        cat ${FP_INP}\n",
    "    done\n",
    "    echo\n",
    "done"
   ]
  },
  {
   "cell_type": "markdown",
   "id": "19fc09e3-731c-48cd-9cd4-99c7e905319a",
   "metadata": {},
   "source": [
    "## Execute"
   ]
  },
  {
   "cell_type": "markdown",
   "id": "288f1f06-aa78-4c79-bfed-8783e39b1069",
   "metadata": {},
   "source": [
    "**Run: Combine library size for each assay**"
   ]
  },
  {
   "cell_type": "code",
   "execution_count": 5,
   "id": "40ac0adc-eeeb-4699-a70b-d62885e69f15",
   "metadata": {},
   "outputs": [
    {
     "name": "stdout",
     "output_type": "stream",
     "text": [
      "======================================\n",
      "Assay  name: STARR_ATAC_K562_Reddy_KS274\n",
      "Output file: /data/reddylab/Kuei/repo/Proj_ENCODE_FCC/results/assay_fcc/STARR_ATAC_K562_Reddy_KS274/fragment_counts/summary/result.size.concat.csv\n",
      "\n",
      "ASTARRseq_K562_KS274.hg38.Output.rep1.WGS.unstranded.bed.gz,41119652,75921554\n",
      "ASTARRseq_K562_KS274.hg38.Output.rep2.WGS.unstranded.bed.gz,33845018,61846404\n",
      "ASTARRseq_K562_KS274.hg38.Output.rep3.WGS.unstranded.bed.gz,46177734,80233063\n",
      "\n",
      "======================================\n",
      "Assay  name: STARR_ATAC_K562_Reddy_KS91\n",
      "Output file: /data/reddylab/Kuei/repo/Proj_ENCODE_FCC/results/assay_fcc/STARR_ATAC_K562_Reddy_KS91/fragment_counts/summary/result.size.concat.csv\n",
      "\n",
      "ASTARRseq_K562_KS91.hg38.Input.rep1.WGS.unstranded.bed.gz,348695063,348695063\n",
      "ASTARRseq_K562_KS91.hg38.Input.rep2.WGS.unstranded.bed.gz,451369741,451369741\n",
      "ASTARRseq_K562_KS91.hg38.Input.rep3.WGS.unstranded.bed.gz,487579055,487579055\n",
      "ASTARRseq_K562_KS91.hg38.Input.rep4.WGS.unstranded.bed.gz,456246254,456246254\n",
      "ASTARRseq_K562_KS91.hg38.Input.rep5.WGS.unstranded.bed.gz,444268950,444268950\n",
      "ASTARRseq_K562_KS91.hg38.Input.rep6.WGS.unstranded.bed.gz,397333562,397333562\n",
      "ASTARRseq_K562_KS91.hg38.Output.rep1.WGS.unstranded.bed.gz,39258388,44103844\n",
      "ASTARRseq_K562_KS91.hg38.Output.rep2.WGS.unstranded.bed.gz,70029279,79902408\n",
      "ASTARRseq_K562_KS91.hg38.Output.rep3.WGS.unstranded.bed.gz,74932952,84103298\n",
      "ASTARRseq_K562_KS91.hg38.Output.rep4.WGS.unstranded.bed.gz,125219777,148739471\n",
      "\n",
      "======================================\n",
      "Assay  name: STARR_WHG_K562_Reddy_A001\n",
      "Output file: /data/reddylab/Kuei/repo/Proj_ENCODE_FCC/results/assay_fcc/STARR_WHG_K562_Reddy_A001/fragment_counts/summary/result.size.concat.csv\n",
      "\n",
      "WSTARRseq_K562_A001.hg38.Input.rep1.WGS.unstranded.bed.gz,26908970,26908970\n",
      "WSTARRseq_K562_A001.hg38.Input.rep2.WGS.unstranded.bed.gz,99899775,99899775\n",
      "WSTARRseq_K562_A001.hg38.Input.rep3.WGS.unstranded.bed.gz,105623984,105623984\n",
      "WSTARRseq_K562_A001.hg38.Input.rep4.WGS.unstranded.bed.gz,108635002,108635002\n",
      "WSTARRseq_K562_A001.hg38.Output.rep1.WGS.unstranded.bed.gz,160349140,160349140\n",
      "WSTARRseq_K562_A001.hg38.Output.rep2.WGS.unstranded.bed.gz,157326312,157326312\n",
      "WSTARRseq_K562_A001.hg38.Output.rep3.WGS.unstranded.bed.gz,328185275,328185275\n",
      "\n"
     ]
    }
   ],
   "source": [
    "for ASSAY_NAME in ${ASSAY_NAMES[@]}; do\n",
    "    \n",
    "    ### set input and output files\n",
    "    FD_INP=${FD_RES}/assay_fcc/${ASSAY_NAME}/fragment_counts/summary\n",
    "    FP_INPS=($(ls ${FD_INP}/result.size.*hg38*.csv))\n",
    "    FD_OUT=${FD_INP}\n",
    "    FN_OUT=\"result.size.concat.csv\"\n",
    "    FP_OUT=${FD_OUT}/${FN_OUT}\n",
    "    \n",
    "    ### show progress\n",
    "    echo ======================================\n",
    "    echo \"Assay  name:\" ${ASSAY_NAME}\n",
    "    echo \"Output file:\" ${FP_OUT}\n",
    "    echo\n",
    "    \n",
    "    ### loop through each input file\n",
    "    echo -n > ${FP_OUT}\n",
    "    for FP_INP in ${FP_INPS[@]}; do\n",
    "        cat ${FP_INP} >> ${FP_OUT}\n",
    "    done\n",
    "            \n",
    "    cat ${FP_OUT}\n",
    "    echo\n",
    "done"
   ]
  },
  {
   "cell_type": "code",
   "execution_count": null,
   "id": "54e53959-fcff-4b83-9150-975435fbc71b",
   "metadata": {},
   "outputs": [],
   "source": []
  }
 ],
 "metadata": {
  "kernelspec": {
   "display_name": "Bash",
   "language": "bash",
   "name": "bash"
  },
  "language_info": {
   "codemirror_mode": "shell",
   "file_extension": ".sh",
   "mimetype": "text/x-sh",
   "name": "bash"
  }
 },
 "nbformat": 4,
 "nbformat_minor": 5
}
