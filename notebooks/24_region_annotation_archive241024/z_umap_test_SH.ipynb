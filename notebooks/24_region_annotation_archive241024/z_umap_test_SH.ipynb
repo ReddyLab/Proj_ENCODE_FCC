{
 "cells": [
  {
   "cell_type": "raw",
   "id": "1a26fff5-3360-49d1-b3a8-6c8cf77fd529",
   "metadata": {},
   "source": [
    "---\n",
    "title: FCC Peak calls\n",
    "subtitle: export annotation\n",
    "format:\n",
    "    html:\n",
    "        code-fold:  true\n",
    "        code-tools: true\n",
    "---"
   ]
  },
  {
   "cell_type": "markdown",
   "id": "b5b586dc-0dc5-4e49-803e-34415660d506",
   "metadata": {},
   "source": [
    "**Set environment**"
   ]
  },
  {
   "cell_type": "code",
   "execution_count": 1,
   "id": "d417ecac-05ac-4944-b42c-92bdf63d2184",
   "metadata": {},
   "outputs": [
    {
     "name": "stdout",
     "output_type": "stream",
     "text": [
      "You are working on             Duke Server: HARDAC\n",
      "BASE DIRECTORY (FD_BASE):      /data/reddylab/Kuei\n",
      "REPO DIRECTORY (FD_REPO):      /data/reddylab/Kuei/repo\n",
      "WORK DIRECTORY (FD_WORK):      /data/reddylab/Kuei/work\n",
      "DATA DIRECTORY (FD_DATA):      /data/reddylab/Kuei/data\n",
      "CONTAINER DIR. (FD_SING):      /data/reddylab/Kuei/container\n",
      "\n",
      "You are working with           ENCODE FCC\n",
      "PATH OF PROJECT (FD_PRJ):      /data/reddylab/Kuei/repo/Proj_ENCODE_FCC\n",
      "PROJECT RESULTS (FD_RES):      /data/reddylab/Kuei/repo/Proj_ENCODE_FCC/results\n",
      "PROJECT SCRIPTS (FD_EXE):      /data/reddylab/Kuei/repo/Proj_ENCODE_FCC/scripts\n",
      "PROJECT DATA    (FD_DAT):      /data/reddylab/Kuei/repo/Proj_ENCODE_FCC/data\n",
      "PROJECT NOTE    (FD_NBK):      /data/reddylab/Kuei/repo/Proj_ENCODE_FCC/notebooks\n",
      "PROJECT DOCS    (FD_DOC):      /data/reddylab/Kuei/repo/Proj_ENCODE_FCC/docs\n",
      "PROJECT LOG     (FD_LOG):      /data/reddylab/Kuei/repo/Proj_ENCODE_FCC/log\n",
      "PROJECT REF     (FD_REF):      /data/reddylab/Kuei/repo/Proj_ENCODE_FCC/references\n",
      "PROJECT IMAGE   (FP_PRJ_SIF):  /data/reddylab/Kuei/container/project/singularity_proj_encode_fcc.sif\n",
      "\n"
     ]
    }
   ],
   "source": [
    "source ../run_config_project.sh\n",
    "show_env"
   ]
  },
  {
   "cell_type": "markdown",
   "id": "7c2010a8-dd00-4c05-9477-3a9ed79490e6",
   "metadata": {},
   "source": [
    "## Preview"
   ]
  },
  {
   "cell_type": "code",
   "execution_count": 2,
   "id": "8a6bff53-b293-4ab3-a5f6-55e6fd1fc68d",
   "metadata": {},
   "outputs": [
    {
     "name": "stdout",
     "output_type": "stream",
     "text": [
      "/data/reddylab/Kuei/repo/Proj_ENCODE_FCC/results\n",
      "\n",
      "\u001b[0m\u001b[38;5;27massay_fcc\u001b[0m\n",
      "\u001b[38;5;27massay_hic\u001b[0m\n",
      "\u001b[38;5;27mregion\u001b[0m\n",
      "\u001b[38;5;27mregion_annotation\u001b[0m\n",
      "\u001b[38;5;27mregion_converage_hic\u001b[0m\n",
      "\u001b[38;5;27mregion_coverage_fcc\u001b[0m\n",
      "\u001b[38;5;27mregion_integration\u001b[0m\n"
     ]
    }
   ],
   "source": [
    "FD_INP=${FD_RES}\n",
    "echo  ${FD_INP}\n",
    "echo \n",
    "ls -1 ${FD_INP}"
   ]
  },
  {
   "cell_type": "code",
   "execution_count": 3,
   "id": "aea21556-3018-4611-8fb9-3b5898134f60",
   "metadata": {},
   "outputs": [
    {
     "name": "stdout",
     "output_type": "stream",
     "text": [
      "/data/reddylab/Kuei/repo/Proj_ENCODE_FCC/results/region_annotation/fcc_astarr_macs_input_overlap/summary\n",
      "\n",
      "hclust.col.annotation.prepare.chipseq_full.fcc.tss.rds\n",
      "hclust.col.annotation.prepare.chipseq_full.only.rds\n",
      "hclust.col.annotation.test_chrX.chipseq_full.only.rds\n",
      "hclust.row.annotation.prepare.chipseq_full.fcc.tss.rds\n",
      "hclust.row.annotation.prepare.chipseq_full.only.rds\n",
      "hclust.row.annotation.test_chrX.chipseq_full.only.rds\n",
      "matrix.annotation.chipseq_flagship.tsv\n",
      "matrix.annotation.chipseq_full.tsv\n",
      "matrix.annotation.chipseq_histone.tsv\n",
      "matrix.annotation.chipseq_subset.tsv\n",
      "matrix.annotation.fcc_peak_call.tsv\n",
      "matrix.annotation.genome_tss.tsv\n",
      "matrix.annotation.merge.chipseq_full.fcc.tss.tsv\n",
      "matrix.annotation.prepare.enh.chipseq_full.fcc.tss.tsv\n",
      "matrix.annotation.prepare.full.chipseq_full.fcc.tss.tsv\n",
      "matrix.annotation.prepare.full.chipseq_full.only.tsv\n",
      "matrix.annotation.prepare.rep.chipseq_full.fcc.tss.tsv\n",
      "matrix.annotation.prepare.sig.chipseq_full.fcc.tss.tsv\n",
      "matrix.annotation.test_chrX.chipseq_full.fcc.tss.tsv\n",
      "matrix.annotation.test_chrX.chipseq_full.only.tsv\n",
      "region.annotation.encode_chipseq_flagship.tsv\n",
      "region.annotation.encode_chipseq_histone.tsv\n",
      "region.annotation.encode_chipseq_subset.tsv\n",
      "region.annotation.encode_chromatin_states.tsv\n",
      "region.annotation.fcc_astarr_csaw.tsv\n",
      "region.annotation.fcc_crispri_growth.tsv\n",
      "region.annotation.fcc_crispri_hcrff.tsv\n",
      "region.annotation.fcc_mpra_agarwal2023.tsv\n",
      "region.annotation.fcc_starrmpra_junke.tsv\n",
      "region.annotation.genome_tss.tsv\n",
      "region.annotation.hic_insitu_K562_ENCSR545YBD.tsv\n",
      "region.annotation.hic_intact_K562_deep.tsv\n",
      "region.annotation.hic_intact_K562_ENCSR479XDG.tsv\n",
      "region.annotation.module_tf_shannon.tsv\n",
      "region.summary.encode_chipseq_encode4.tsv\n",
      "region.summary.encode_chipseq_flagship.tsv\n",
      "region.summary.encode_chipseq_histone.tsv\n",
      "region.summary.encode_chipseq_subset.tsv\n",
      "region.summary.encode_chromatin_states.tsv\n",
      "region.summary.fcc_astarr_csaw.tsv\n",
      "region.summary.fcc_crispri_growth.tsv\n",
      "region.summary.fcc_crispri_hcrff.tsv\n",
      "region.summary.fcc_mpra_agarwal2023.tsv\n",
      "region.summary.fcc_starrmpra_junke.tsv\n",
      "region.summary.genome_tss.tsv\n",
      "region.summary.hic_insitu_K562_ENCSR545YBD.tsv\n",
      "region.summary.hic_intact_K562_deep.tsv\n",
      "region.summary.hic_intact_K562_ENCSR479XDG.tsv\n",
      "region.summary.module_tf_shannon.tsv\n",
      "result.summary.chipseq_flagship.tsv\n",
      "result.summary.chipseq_full.tsv\n",
      "result.summary.chipseq_histone.tsv\n",
      "result.summary.chipseq_subset.tsv\n",
      "result.summary.connectivity.loop.tsv\n",
      "result.summary.encode_chromatin_states.tsv\n",
      "result.summary.fcc_peak_call.tsv\n",
      "result.summary.genome_tss.tsv\n",
      "result.summary.tfmodule.tsv\n",
      "\u001b[0m\u001b[38;5;27mtmp\u001b[0m\n"
     ]
    }
   ],
   "source": [
    "FD_INP=${FD_RES}/region_annotation\n",
    "FD_INP=${FD_INP}/fcc_astarr_macs_input_overlap\n",
    "FD_INP=${FD_INP}/summary\n",
    "echo  ${FD_INP}\n",
    "echo \n",
    "ls -1 ${FD_INP}"
   ]
  },
  {
   "cell_type": "code",
   "execution_count": 16,
   "id": "bb661e69-428f-449d-8f59-22db9e1b50c1",
   "metadata": {},
   "outputs": [
    {
     "name": "stdout",
     "output_type": "stream",
     "text": [
      "matrix.annotation.test_chrX.chipseq_full.fcc.tss.tsv\n",
      "matrix.annotation.test_chrX.chipseq_full.only.tsv\n"
     ]
    }
   ],
   "source": [
    "FD_INP=${FD_RES}/region_annotation\n",
    "FD_INP=${FD_INP}/fcc_astarr_macs_input_overlap\n",
    "FD_INP=${FD_INP}/summary\n",
    "\n",
    "FP_INPS=($(ls ${FD_INP}/matrix*test*tsv))\n",
    "for FP_INP in ${FP_INPS[@]}; do\n",
    "    FN_INP=$(basename ${FP_INP})\n",
    "    echo ${FN_INP}\n",
    "done"
   ]
  },
  {
   "cell_type": "code",
   "execution_count": 4,
   "id": "11798ae4-2c39-4c37-af3c-341419236454",
   "metadata": {},
   "outputs": [
    {
     "name": "stdout",
     "output_type": "stream",
     "text": [
      "matrix.annotation.prepare.enh.chipseq_full.fcc.tss.tsv\n",
      "matrix.annotation.prepare.full.chipseq_full.fcc.tss.tsv\n",
      "matrix.annotation.prepare.full.chipseq_full.only.tsv\n",
      "matrix.annotation.prepare.rep.chipseq_full.fcc.tss.tsv\n",
      "matrix.annotation.prepare.sig.chipseq_full.fcc.tss.tsv\n"
     ]
    }
   ],
   "source": [
    "FD_INP=${FD_RES}/region_annotation\n",
    "FD_INP=${FD_INP}/fcc_astarr_macs_input_overlap\n",
    "FD_INP=${FD_INP}/summary\n",
    "\n",
    "FP_INPS=($(ls ${FD_INP}/matrix*prepare*tsv))\n",
    "for FP_INP in ${FP_INPS[@]}; do\n",
    "    FN_INP=$(basename ${FP_INP})\n",
    "    echo ${FN_INP}\n",
    "done"
   ]
  },
  {
   "cell_type": "markdown",
   "id": "fbe7819a-5eb2-436f-a184-9b25725da5b6",
   "metadata": {},
   "source": [
    "## Test loop"
   ]
  },
  {
   "cell_type": "code",
   "execution_count": 5,
   "id": "c6b50620-8626-4874-aa30-379b65784d1f",
   "metadata": {},
   "outputs": [
    {
     "name": "stdout",
     "output_type": "stream",
     "text": [
      "15\n",
      "70\n"
     ]
    }
   ],
   "source": [
    "VEC_NUM_NEIGHBORS=(15 70)\n",
    "for NUM_NEIGHBORS in ${VEC_NUM_NEIGHBORS[@]}; do\n",
    "    echo ${NUM_NEIGHBORS}\n",
    "done"
   ]
  },
  {
   "cell_type": "code",
   "execution_count": 6,
   "id": "73f8b789-214b-4303-b1e0-cf9c6c02eddd",
   "metadata": {},
   "outputs": [
    {
     "name": "stdout",
     "output_type": "stream",
     "text": [
      "matrix.annotation.test_chrX.chipseq_full.fcc.tss.tsv\n",
      "umap.n_neighbors_15.annotation.test_chrX.chipseq_full.fcc.tss.tsv\n",
      "\n",
      "matrix.annotation.test_chrX.chipseq_full.only.tsv\n",
      "umap.n_neighbors_15.annotation.test_chrX.chipseq_full.only.tsv\n",
      "\n"
     ]
    }
   ],
   "source": [
    "NUM_NEIGHBORS=15\n",
    "\n",
    "FD_INP=${FD_RES}/region_annotation\n",
    "FD_INP=${FD_INP}/fcc_astarr_macs_input_overlap\n",
    "FD_INP=${FD_INP}/summary\n",
    "FP_INPS=($(ls ${FD_INP}/matrix*test*tsv))\n",
    "\n",
    "for FP_INP in ${FP_INPS[@]}; do\n",
    "    PREFIX=\"umap.n_neighbors_${NUM_NEIGHBORS}\"\n",
    "    FN_INP=$(basename ${FP_INP})\n",
    "    FN_OUT=${FN_INP/matrix/${PREFIX}}\n",
    "    echo ${FN_INP}\n",
    "    echo ${FN_OUT}\n",
    "    echo\n",
    "done"
   ]
  },
  {
   "cell_type": "code",
   "execution_count": 7,
   "id": "04589ea9-dbae-4852-a9b2-7ea029942999",
   "metadata": {},
   "outputs": [
    {
     "name": "stdout",
     "output_type": "stream",
     "text": [
      "Input File:\n",
      "matrix.annotation.test_chrX.chipseq_full.fcc.tss.tsv\n",
      "Output File:\n",
      "umap.n_neighbors_15.annotation.test_chrX.chipseq_full.fcc.tss.tsv\n",
      "Log File:\n",
      "${FD_LOG}/run.umap.n_neighbors_15.annotation.test_chrX.chipseq_full.fcc.tss.tsv.txt\n",
      "\n",
      "Input File:\n",
      "matrix.annotation.test_chrX.chipseq_full.only.tsv\n",
      "Output File:\n",
      "umap.n_neighbors_15.annotation.test_chrX.chipseq_full.only.tsv\n",
      "Log File:\n",
      "${FD_LOG}/run.umap.n_neighbors_15.annotation.test_chrX.chipseq_full.only.tsv.txt\n",
      "\n",
      "Input File:\n",
      "matrix.annotation.test_chrX.chipseq_full.fcc.tss.tsv\n",
      "Output File:\n",
      "umap.n_neighbors_70.annotation.test_chrX.chipseq_full.fcc.tss.tsv\n",
      "Log File:\n",
      "${FD_LOG}/run.umap.n_neighbors_70.annotation.test_chrX.chipseq_full.fcc.tss.tsv.txt\n",
      "\n",
      "Input File:\n",
      "matrix.annotation.test_chrX.chipseq_full.only.tsv\n",
      "Output File:\n",
      "umap.n_neighbors_70.annotation.test_chrX.chipseq_full.only.tsv\n",
      "Log File:\n",
      "${FD_LOG}/run.umap.n_neighbors_70.annotation.test_chrX.chipseq_full.only.tsv.txt\n",
      "\n"
     ]
    }
   ],
   "source": [
    "VEC_NUM_NEIGHBORS=(15 70)\n",
    "\n",
    "FD_INP=${FD_RES}/region_annotation\n",
    "FD_INP=${FD_INP}/fcc_astarr_macs_input_overlap\n",
    "FD_INP=${FD_INP}/summary\n",
    "FP_INPS=($(ls ${FD_INP}/matrix*test*tsv))\n",
    "\n",
    "for NUM_NEIGHBORS in ${VEC_NUM_NEIGHBORS[@]}; do\n",
    "    for FP_INP in ${FP_INPS[@]}; do\n",
    "        PREFIX=\"umap.n_neighbors_${NUM_NEIGHBORS}\"\n",
    "        FN_INP=$(basename ${FP_INP})\n",
    "        \n",
    "        FD_OUT=${FD_INP}\n",
    "        FN_OUT=${FN_INP/matrix/${PREFIX}}\n",
    "        FP_OUT=${FD_OUT}/${FN_OUT}\n",
    "        \n",
    "        FN_LOG=run.${FN_OUT}.txt\n",
    "        FP_LOG=${FD_LOG}/${FN_LOG}\n",
    "        \n",
    "        echo \"Input File:\"\n",
    "        echo ${FN_INP}\n",
    "        echo \"Output File:\"\n",
    "        echo ${FN_OUT}\n",
    "        echo \"Log File:\"\n",
    "        echo '${FD_LOG}/'${FN_LOG}\n",
    "        echo\n",
    "    done\n",
    "done"
   ]
  },
  {
   "cell_type": "markdown",
   "id": "a49f503c-bc0d-4cf2-b96b-30fa9ba7598b",
   "metadata": {},
   "source": [
    "## Execute"
   ]
  },
  {
   "cell_type": "code",
   "execution_count": 13,
   "id": "886b5752-9d43-4fda-ad3e-9e152f5f0f74",
   "metadata": {},
   "outputs": [
    {
     "name": "stdout",
     "output_type": "stream",
     "text": [
      "Input File:\n",
      "matrix.annotation.test_chrX.chipseq_full.fcc.tss.tsv\n",
      "Output File:\n",
      "umap.n_neighbors_15.annotation.test_chrX.chipseq_full.fcc.tss.tsv\n",
      "Log File:\n",
      "${FD_LOG}/run.umap.n_neighbors_15.annotation.test_chrX.chipseq_full.fcc.tss.tsv.txt\n",
      "\n",
      "Submitted batch job 35130820\n",
      "\n",
      "Input File:\n",
      "matrix.annotation.test_chrX.chipseq_full.only.tsv\n",
      "Output File:\n",
      "umap.n_neighbors_15.annotation.test_chrX.chipseq_full.only.tsv\n",
      "Log File:\n",
      "${FD_LOG}/run.umap.n_neighbors_15.annotation.test_chrX.chipseq_full.only.tsv.txt\n",
      "\n",
      "Submitted batch job 35130821\n",
      "\n",
      "Input File:\n",
      "matrix.annotation.test_chrX.chipseq_full.fcc.tss.tsv\n",
      "Output File:\n",
      "umap.n_neighbors_70.annotation.test_chrX.chipseq_full.fcc.tss.tsv\n",
      "Log File:\n",
      "${FD_LOG}/run.umap.n_neighbors_70.annotation.test_chrX.chipseq_full.fcc.tss.tsv.txt\n",
      "\n",
      "Submitted batch job 35130822\n",
      "\n",
      "Input File:\n",
      "matrix.annotation.test_chrX.chipseq_full.only.tsv\n",
      "Output File:\n",
      "umap.n_neighbors_70.annotation.test_chrX.chipseq_full.only.tsv\n",
      "Log File:\n",
      "${FD_LOG}/run.umap.n_neighbors_70.annotation.test_chrX.chipseq_full.only.tsv.txt\n",
      "\n",
      "Submitted batch job 35130823\n",
      "\n"
     ]
    }
   ],
   "source": [
    "VEC_NUM_NEIGHBORS=(15 70)\n",
    "\n",
    "FP_EXE=${FD_EXE}/run_region_annot_umap.py\n",
    "FP_APP=${FD_APP}/sing_script.sh\n",
    "\n",
    "FD_INP=${FD_RES}/region_annotation\n",
    "FD_INP=${FD_INP}/fcc_astarr_macs_input_overlap\n",
    "FD_INP=${FD_INP}/summary\n",
    "FP_INPS=($(ls ${FD_INP}/matrix*test*tsv))\n",
    "\n",
    "for NUM_NEIGHBORS in ${VEC_NUM_NEIGHBORS[@]}; do\n",
    "    for FP_INP in ${FP_INPS[@]}; do\n",
    "        PREFIX=\"umap.n_neighbors_${NUM_NEIGHBORS}\"\n",
    "        FN_INP=$(basename ${FP_INP})\n",
    "        \n",
    "        FD_OUT=${FD_INP}\n",
    "        FN_OUT=${FN_INP/matrix/${PREFIX}}\n",
    "        FP_OUT=${FD_OUT}/${FN_OUT}\n",
    "        \n",
    "        FN_LOG=run.${FN_OUT}.txt\n",
    "        FP_LOG=${FD_LOG}/${FN_LOG}\n",
    "        \n",
    "        echo \"Input File:\"\n",
    "        echo ${FN_INP}\n",
    "        echo \"Output File:\"\n",
    "        echo ${FN_OUT}\n",
    "        echo \"Log File:\"\n",
    "        echo '${FD_LOG}/'${FN_LOG}\n",
    "        echo\n",
    "        \n",
    "        sbatch -p ${NODE} \\\n",
    "            --exclude=dl-01 \\\n",
    "            --cpus-per-task 10 \\\n",
    "            --mem 20G \\\n",
    "            --output ${FP_LOG} \\\n",
    "            ${FP_APP} python ${FP_EXE} ${FP_INP} ${FP_OUT} ${NUM_NEIGHBORS}\n",
    "        echo\n",
    "    done\n",
    "done"
   ]
  },
  {
   "cell_type": "markdown",
   "id": "864c8dca-3b7a-44a9-b294-c9595d20ee3e",
   "metadata": {},
   "source": [
    "## Review"
   ]
  },
  {
   "cell_type": "code",
   "execution_count": 14,
   "id": "d1d0adb3-7ffc-4694-bc96-75d0dd530ded",
   "metadata": {},
   "outputs": [
    {
     "name": "stdout",
     "output_type": "stream",
     "text": [
      "OMP: Info #276: omp_set_nested routine deprecated, please use omp_set_max_active_levels instead.\n",
      "Input  File:\n",
      "/data/reddylab/Kuei/repo/Proj_ENCODE_FCC/results/region_annotation/fcc_astarr_macs_input_overlap/summary/matrix.annotation.test_chrX.chipseq_full.fcc.tss.tsv\n",
      "\n",
      "Output File:\n",
      "/data/reddylab/Kuei/repo/Proj_ENCODE_FCC/results/region_annotation/fcc_astarr_macs_input_overlap/summary/umap.n_neighbors_15.annotation.test_chrX.chipseq_full.fcc.tss.tsv\n",
      "\n"
     ]
    }
   ],
   "source": [
    "cat ${FD_LOG}/run.umap.n_neighbors_15.annotation.test_chrX.chipseq_full.fcc.tss.tsv.txt"
   ]
  },
  {
   "cell_type": "code",
   "execution_count": 15,
   "id": "679641ad-32d0-407d-8d78-ef3fac30cec0",
   "metadata": {},
   "outputs": [
    {
     "name": "stdout",
     "output_type": "stream",
     "text": [
      "OMP: Info #276: omp_set_nested routine deprecated, please use omp_set_max_active_levels instead.\n",
      "Input  File:\n",
      "/data/reddylab/Kuei/repo/Proj_ENCODE_FCC/results/region_annotation/fcc_astarr_macs_input_overlap/summary/matrix.annotation.test_chrX.chipseq_full.only.tsv\n",
      "\n",
      "Output File:\n",
      "/data/reddylab/Kuei/repo/Proj_ENCODE_FCC/results/region_annotation/fcc_astarr_macs_input_overlap/summary/umap.n_neighbors_70.annotation.test_chrX.chipseq_full.only.tsv\n",
      "\n"
     ]
    }
   ],
   "source": [
    "cat ${FD_LOG}/run.umap.n_neighbors_70.annotation.test_chrX.chipseq_full.only.tsv.txt"
   ]
  },
  {
   "cell_type": "code",
   "execution_count": null,
   "id": "cc39a393-2337-4a65-97b1-484cfc169cd3",
   "metadata": {},
   "outputs": [],
   "source": []
  },
  {
   "cell_type": "code",
   "execution_count": null,
   "id": "26140c8d-acd6-4f4f-800e-ca555df4da50",
   "metadata": {},
   "outputs": [],
   "source": []
  },
  {
   "cell_type": "code",
   "execution_count": null,
   "id": "037bf783-18e5-4ff1-ade8-00da07bf22e9",
   "metadata": {},
   "outputs": [],
   "source": []
  },
  {
   "cell_type": "code",
   "execution_count": null,
   "id": "a7293bf8-5921-48df-b8c7-32ff57e4dbae",
   "metadata": {},
   "outputs": [],
   "source": []
  },
  {
   "cell_type": "code",
   "execution_count": 2,
   "id": "1692b809-22b7-4116-93bf-c88ed0df2567",
   "metadata": {},
   "outputs": [
    {
     "name": "stdout",
     "output_type": "stream",
     "text": [
      "bash: /run_region_annot_umap.py: No such file or directory\n"
     ]
    },
    {
     "ename": "",
     "evalue": "127",
     "output_type": "error",
     "traceback": []
    }
   ],
   "source": [
    "${FP_EXE}"
   ]
  },
  {
   "cell_type": "code",
   "execution_count": null,
   "id": "5b5a523e-532d-4c8c-9778-4005a60603e0",
   "metadata": {},
   "outputs": [],
   "source": []
  },
  {
   "cell_type": "code",
   "execution_count": null,
   "id": "75f4974a-2ce3-4939-8db0-5b01683240c1",
   "metadata": {},
   "outputs": [],
   "source": [
    "FD_INP=${FD_RES}/region_annotation\n",
    "FD_INP=${FD_INP}/fcc_astarr_macs_input_overlap\n",
    "FD_INP=${FD_INP}/summary\n",
    "\n",
    "FN_INP=matrix.annotation.test_chrX.chipseq_full.only.tsv\n",
    "FP_INP=${FD_INP}/${FN_INP}\n",
    "\n",
    "sing_script.sh python ${FD_EXE}/run_region_annot_umap.py ${FP_INP}"
   ]
  },
  {
   "cell_type": "code",
   "execution_count": null,
   "id": "e16662cf-285e-4b52-b41d-84d0fb936785",
   "metadata": {},
   "outputs": [],
   "source": [
    "FP_BASE=/data/reddylab/Kuei\n",
    "\n",
    "FP_SIF=${FP_BASE}/container/project/singularity_proj_encode_fcc.sif\n",
    "FP_PRJ=${FP_BASE}/repo/Proj_ENCODE_FCC\n",
    "FD_TMP=${FP_BASE}/tmp\n",
    "\n",
    "FP_EXE=${FP_PRJ}/scripts/run_region_annot_umap.py\n",
    "FP_INP=${FP_PRJ}/results/region_annotation/fcc_astarr_macs_input_overlap/summary/matrix.annotation.test_chrX.chipseq_full.only.tsv\n",
    "\n",
    "NUM_NEIGHBORS=60\n",
    "\n",
    "singularity exec   \\\n",
    "    --env NUMBA_CACHE_DIR=/tmp \\\n",
    "    -B ${FD_TMP}:/tmp \\\n",
    "    -B /data:/data \\\n",
    "    -B /gpfs:/gpfs \\\n",
    "    ${FP_SIF} \\\n",
    "    python ${FP_EXE} ${FP_INP} ${NUM_NEIGHBORS}"
   ]
  },
  {
   "cell_type": "code",
   "execution_count": null,
   "id": "3ce942d5-19ea-4096-b3ea-f4ca5aba8e36",
   "metadata": {},
   "outputs": [],
   "source": [
    "FP_BASE=/data/reddylab/Kuei\n",
    "\n",
    "FP_SIF=${FP_BASE}/container/project/singularity_proj_encode_fcc.sif\n",
    "FP_PRJ=${FP_BASE}/repo/Proj_ENCODE_FCC\n",
    "FP_TMP=${FP_BASE}/tmp\n",
    "\n",
    "FP_EXE=${FP_PRJ}/scripts/run_region_annot_umap.py\n",
    "FD_INP=${FP_PRJ}/results/region_annotation/fcc_astarr_macs_input_overlap/summary\n",
    "FN_INP=matrix.annotation.prepare.chipseq_full.fcc.tss.tsv\n",
    "FP_INP=${FD_INP}/${FN_INP}\n",
    "\n",
    "NUM_NEIGHBORS=60\n",
    "\n",
    "FN_LOG=\"umap.n_neighbors_${NUM_NEIGHBORS}.matrix.annotation.prepare.chipseq_full.fcc.tss.tsv.txt\"\n",
    "FP_LOG=${FD_LOG}/${FN_LOG}\n",
    "\n",
    "sbatch -p ${NODE} \\\n",
    "    --exclude=dl-01 \\\n",
    "    --cpus-per-task 4 \\\n",
    "    --mem 10G \\\n",
    "    --output ${FP_LOG} \\\n",
    "    singularity exec   \\\n",
    "        --env NUMBA_CACHE_DIR=/tmp \\\n",
    "        -B ${FP_TMP}:/tmp \\\n",
    "        -B /data:/data \\\n",
    "        -B /gpfs:/gpfs \\\n",
    "        ${FP_SIF} \\\n",
    "        python ${FP_EXE} ${FP_INP} ${NUM_NEIGHBORS}"
   ]
  },
  {
   "cell_type": "code",
   "execution_count": null,
   "id": "cb565f36-8b03-436f-9f5a-6f18d9623951",
   "metadata": {},
   "outputs": [],
   "source": []
  },
  {
   "cell_type": "code",
   "execution_count": null,
   "id": "3a173059-df80-4eae-8f44-4c45c5446ee1",
   "metadata": {},
   "outputs": [],
   "source": []
  },
  {
   "cell_type": "code",
   "execution_count": null,
   "id": "a98b49ef-62b1-4ea1-9bd7-ff94feea878d",
   "metadata": {},
   "outputs": [],
   "source": []
  },
  {
   "cell_type": "code",
   "execution_count": 25,
   "id": "de059c40-709b-43d4-9fb0-503859fb2ef8",
   "metadata": {},
   "outputs": [
    {
     "name": "stdout",
     "output_type": "stream",
     "text": [
      "\u001b[0m\u001b[38;5;27mapp_duke_hardac\u001b[0m                   \u001b[38;5;34mrun_bedtools_intersect_wa.sh\u001b[0m\n",
      "\u001b[38;5;34mconfig_func_util.sh\u001b[0m               \u001b[38;5;34mrun_bedtools_intersect_wo.sh\u001b[0m\n",
      "\u001b[38;5;34mconfig_func_venv.sh\u001b[0m               \u001b[38;5;34mrun_bedtools_summary.sh\u001b[0m\n",
      "config_load_module_bedops.sh      \u001b[38;5;34mrun_bedtools_test.sh\u001b[0m\n",
      "\u001b[38;5;34mconfig_load_module_bedtools.sh\u001b[0m    \u001b[38;5;34mrun_bigWigToWig.sh\u001b[0m\n",
      "\u001b[38;5;34mconfig_path_duke_hardac.sh\u001b[0m        \u001b[38;5;34mrun_calulate_lib_size.sh\u001b[0m\n",
      "\u001b[38;5;34mconfig_path_sing.sh\u001b[0m               \u001b[38;5;34mrun_liftOver.sh\u001b[0m\n",
      "\u001b[38;5;34mconfig_project.sh\u001b[0m                 run_region_annot_hclust.R\n",
      "\u001b[38;5;34mconfig_project_sing.py\u001b[0m            run_region_annot_umap.py\n",
      "\u001b[38;5;34mconfig_project_sing.R\u001b[0m             run_test.py\n",
      "\u001b[38;5;34mconfig_project_site.R\u001b[0m             run_test.R\n",
      "\u001b[38;5;34mrun_bedtools_coverage.sh\u001b[0m          \u001b[38;5;34mrun_test.sh\u001b[0m\n",
      "\u001b[38;5;34mrun_bedtools_intersect.sh\u001b[0m         \u001b[38;5;34msing_quarto.sh\u001b[0m\n",
      "\u001b[38;5;34mrun_bedtools_intersect_unique.sh\u001b[0m  \u001b[38;5;27mtmp\u001b[0m\n"
     ]
    }
   ],
   "source": [
    "ls ${FD_EXE}"
   ]
  },
  {
   "cell_type": "code",
   "execution_count": 22,
   "id": "2d46f92d-750b-4490-a139-c429c1e0aad8",
   "metadata": {},
   "outputs": [
    {
     "name": "stdout",
     "output_type": "stream",
     "text": [
      "Error for command \"exec\": requires at least 2 arg(s), only received 1\n",
      "\n",
      "Usage:\n",
      "  singularity [global options...] exec [exec options...] <container> <command>\n",
      "\n",
      "Run 'singularity --help' for more detailed usage information.\n"
     ]
    },
    {
     "ename": "",
     "evalue": "1",
     "output_type": "error",
     "traceback": []
    }
   ],
   "source": [
    "sing_script.sh"
   ]
  },
  {
   "cell_type": "code",
   "execution_count": null,
   "id": "4c0d2b81-d8b4-4d74-8423-3c51eb2e6a74",
   "metadata": {},
   "outputs": [],
   "source": []
  },
  {
   "cell_type": "code",
   "execution_count": 5,
   "id": "8c796d84-1fd3-4e4a-9c13-82e481f8fc35",
   "metadata": {},
   "outputs": [
    {
     "name": "stdout",
     "output_type": "stream",
     "text": [
      "Traceback (most recent call last):\n",
      "  File \"/data/reddylab/Kuei/repo/Proj_ENCODE_FCC/scripts/run_region_annot_umap.py\", line 8, in <module>\n",
      "    import umap\n",
      "  File \"/opt/conda/lib/python3.11/site-packages/umap/__init__.py\", line 2, in <module>\n",
      "    from .umap_ import UMAP\n",
      "  File \"/opt/conda/lib/python3.11/site-packages/umap/umap_.py\", line 42, in <module>\n",
      "    from umap.layouts import (\n",
      "  File \"/opt/conda/lib/python3.11/site-packages/umap/layouts.py\", line 30, in <module>\n",
      "    @numba.njit(\n",
      "     ^^^^^^^^^^^\n",
      "  File \"/opt/conda/lib/python3.11/site-packages/numba/core/decorators.py\", line 234, in wrapper\n",
      "    disp.enable_caching()\n",
      "  File \"/opt/conda/lib/python3.11/site-packages/numba/core/dispatcher.py\", line 863, in enable_caching\n",
      "    self._cache = FunctionCache(self.py_func)\n",
      "                  ^^^^^^^^^^^^^^^^^^^^^^^^^^^\n",
      "  File \"/opt/conda/lib/python3.11/site-packages/numba/core/caching.py\", line 601, in __init__\n",
      "    self._impl = self._impl_class(py_func)\n",
      "                 ^^^^^^^^^^^^^^^^^^^^^^^^^\n",
      "  File \"/opt/conda/lib/python3.11/site-packages/numba/core/caching.py\", line 337, in __init__\n",
      "    raise RuntimeError(\"cannot cache function %r: no locator available \"\n",
      "RuntimeError: cannot cache function 'rdist': no locator available for file '/opt/conda/lib/python3.11/site-packages/umap/layouts.py'\n",
      "\u001b[0m"
     ]
    },
    {
     "ename": "",
     "evalue": "1",
     "output_type": "error",
     "traceback": []
    }
   ],
   "source": [
    "FD_INP=${FD_RES}/region_annotation\n",
    "FD_INP=${FD_INP}/fcc_astarr_macs_input_overlap\n",
    "FD_INP=${FD_INP}/summary\n",
    "FN_INP=matrix.annotation.test_chrX.chipseq_full.only.tsv\n",
    "FP_INP=${FD_INP}/${FN_INP}\n",
    "\n",
    "sing_script.sh python ${FD_EXE}/run_region_annot_umap.py ${FP_INP}"
   ]
  },
  {
   "cell_type": "code",
   "execution_count": 7,
   "id": "15955c28-01fb-471e-ace7-9651e9138ffb",
   "metadata": {},
   "outputs": [
    {
     "name": "stdout",
     "output_type": "stream",
     "text": [
      "/data/reddylab/Kuei/repo/Proj_ENCODE_FCC/scripts/run_region_annot_umap.py\n",
      "/data/reddylab/Kuei/repo/Proj_ENCODE_FCC/results/region_annotation/fcc_astarr_macs_input_overlap/summary/matrix.annotation.test_chrX.chipseq_full.only.tsv\n"
     ]
    }
   ],
   "source": [
    "echo ${FD_EXE}/run_region_annot_umap.py\n",
    "echo ${FP_INP}"
   ]
  },
  {
   "cell_type": "code",
   "execution_count": 8,
   "id": "16e9aa8d-6c83-428e-9dd9-57071663e681",
   "metadata": {},
   "outputs": [
    {
     "name": "stdout",
     "output_type": "stream",
     "text": [
      "Traceback (most recent call last):\n",
      "  File \"/data/reddylab/Kuei/repo/Proj_ENCODE_FCC/scripts/run_region_annot_umap.py\", line 8, in <module>\n",
      "    import umap\n",
      "  File \"/opt/conda/lib/python3.11/site-packages/umap/__init__.py\", line 2, in <module>\n",
      "    from .umap_ import UMAP\n",
      "  File \"/opt/conda/lib/python3.11/site-packages/umap/umap_.py\", line 42, in <module>\n",
      "    from umap.layouts import (\n",
      "  File \"/opt/conda/lib/python3.11/site-packages/umap/layouts.py\", line 30, in <module>\n",
      "    @numba.njit(\n",
      "     ^^^^^^^^^^^\n",
      "  File \"/opt/conda/lib/python3.11/site-packages/numba/core/decorators.py\", line 234, in wrapper\n",
      "    disp.enable_caching()\n",
      "  File \"/opt/conda/lib/python3.11/site-packages/numba/core/dispatcher.py\", line 863, in enable_caching\n",
      "    self._cache = FunctionCache(self.py_func)\n",
      "                  ^^^^^^^^^^^^^^^^^^^^^^^^^^^\n",
      "  File \"/opt/conda/lib/python3.11/site-packages/numba/core/caching.py\", line 601, in __init__\n",
      "    self._impl = self._impl_class(py_func)\n",
      "                 ^^^^^^^^^^^^^^^^^^^^^^^^^\n",
      "  File \"/opt/conda/lib/python3.11/site-packages/numba/core/caching.py\", line 337, in __init__\n",
      "    raise RuntimeError(\"cannot cache function %r: no locator available \"\n",
      "RuntimeError: cannot cache function 'rdist': no locator available for file '/opt/conda/lib/python3.11/site-packages/umap/layouts.py'\n",
      "\u001b[0m"
     ]
    },
    {
     "ename": "",
     "evalue": "1",
     "output_type": "error",
     "traceback": []
    }
   ],
   "source": [
    "FP_BASE=/data/reddylab/Kuei\n",
    "\n",
    "FP_SIF=${FP_BASE}/container/project/singularity_proj_encode_fcc.sif\n",
    "FP_PRJ=${FP_BASE}/repo/Proj_ENCODE_FCC\n",
    "\n",
    "FP_EXE=${FP_PRJ}/scripts/run_region_annot_umap.py\n",
    "FP_INP=${FP_PRJ}/results/region_annotation/fcc_astarr_macs_input_overlap/summary/matrix.annotation.test_chrX.chipseq_full.only.tsv\n",
    "\n",
    "singularity exec   \\\n",
    "    -B /data:/data \\\n",
    "    -B /gpfs:/gpfs \\\n",
    "    ${FP_SIF} \\\n",
    "    python ${FP_EXE} ${FP_INP}"
   ]
  },
  {
   "cell_type": "code",
   "execution_count": 13,
   "id": "b06b8c5f-62b3-4384-8b2b-3a5e95e7add6",
   "metadata": {},
   "outputs": [
    {
     "name": "stdout",
     "output_type": "stream",
     "text": [
      "Input  File:\n",
      "/data/reddylab/Kuei/repo/Proj_ENCODE_FCC/results/region_annotation/fcc_astarr_macs_input_overlap/summary/matrix.annotation.test_chrX.chipseq_full.only.tsv\n",
      "\n",
      "Output File:\n",
      "/data/reddylab/Kuei/repo/Proj_ENCODE_FCC/results/region_annotation/fcc_astarr_macs_input_overlap/summary/umap.n_neighbors_60.annotation.test_chrX.chipseq_full.only.tsv\n",
      "\n",
      "\u001b[0m"
     ]
    }
   ],
   "source": [
    "FP_BASE=/data/reddylab/Kuei\n",
    "\n",
    "FP_SIF=${FP_BASE}/container/project/singularity_proj_encode_fcc.sif\n",
    "FP_PRJ=${FP_BASE}/repo/Proj_ENCODE_FCC\n",
    "FD_TMP=${FP_BASE}/tmp\n",
    "\n",
    "FP_EXE=${FP_PRJ}/scripts/run_region_annot_umap.py\n",
    "FP_INP=${FP_PRJ}/results/region_annotation/fcc_astarr_macs_input_overlap/summary/matrix.annotation.test_chrX.chipseq_full.only.tsv\n",
    "\n",
    "NUM_NEIGHBORS=60\n",
    "\n",
    "singularity exec   \\\n",
    "    --env NUMBA_CACHE_DIR=/tmp \\\n",
    "    -B ${FD_TMP}:/tmp \\\n",
    "    -B /data:/data \\\n",
    "    -B /gpfs:/gpfs \\\n",
    "    ${FP_SIF} \\\n",
    "    python ${FP_EXE} ${FP_INP} ${NUM_NEIGHBORS}"
   ]
  },
  {
   "cell_type": "code",
   "execution_count": 17,
   "id": "9a436220-de3d-4d20-b324-c9f8ba20a902",
   "metadata": {},
   "outputs": [
    {
     "name": "stdout",
     "output_type": "stream",
     "text": [
      "sbatch: error: This does not look like a batch script.  The first\n",
      "sbatch: error: line must start with #! followed by the path to an interpreter.\n",
      "sbatch: error: For instance: #!/bin/sh\n"
     ]
    },
    {
     "ename": "",
     "evalue": "1",
     "output_type": "error",
     "traceback": []
    }
   ],
   "source": [
    "FP_BASE=/data/reddylab/Kuei\n",
    "\n",
    "FP_SIF=${FP_BASE}/container/project/singularity_proj_encode_fcc.sif\n",
    "FP_PRJ=${FP_BASE}/repo/Proj_ENCODE_FCC\n",
    "FP_TMP=${FP_BASE}/tmp\n",
    "\n",
    "FP_EXE=${FP_PRJ}/scripts/run_region_annot_umap.py\n",
    "FD_INP=${FP_PRJ}/results/region_annotation/fcc_astarr_macs_input_overlap/summary\n",
    "FN_INP=matrix.annotation.prepare.chipseq_full.fcc.tss.tsv\n",
    "FP_INP=${FD_INP}/${FN_INP}\n",
    "\n",
    "NUM_NEIGHBORS=60\n",
    "\n",
    "FN_LOG=\"umap.n_neighbors_${NUM_NEIGHBORS}.matrix.annotation.prepare.chipseq_full.fcc.tss.tsv.txt\"\n",
    "FP_LOG=${FD_LOG}/${FN_LOG}\n",
    "\n",
    "sbatch -p ${NODE} \\\n",
    "    --exclude=dl-01 \\\n",
    "    --cpus-per-task 4 \\\n",
    "    --mem 10G \\\n",
    "    --output ${FP_LOG} \\\n",
    "    singularity exec   \\\n",
    "        --env NUMBA_CACHE_DIR=/tmp \\\n",
    "        -B ${FP_TMP}:/tmp \\\n",
    "        -B /data:/data \\\n",
    "        -B /gpfs:/gpfs \\\n",
    "        ${FP_SIF} \\\n",
    "        python ${FP_EXE} ${FP_INP} ${NUM_NEIGHBORS}"
   ]
  },
  {
   "cell_type": "code",
   "execution_count": null,
   "id": "14c99b6f-499d-4596-8b8e-3b0d8319f6dc",
   "metadata": {},
   "outputs": [],
   "source": []
  },
  {
   "cell_type": "code",
   "execution_count": null,
   "id": "fbe0d244-10f4-474e-a5c9-306e84b2f659",
   "metadata": {},
   "outputs": [],
   "source": []
  },
  {
   "cell_type": "code",
   "execution_count": 12,
   "id": "a8813b4e-17a0-41a6-aa4a-e1b06686eb2a",
   "metadata": {},
   "outputs": [
    {
     "name": "stdout",
     "output_type": "stream",
     "text": [
      "layouts.rdist-30.py311.1.nbc  layouts.rdist-30.py311.nbi\n"
     ]
    }
   ],
   "source": [
    "ls /data/reddylab/Kuei/tmp/umap_*"
   ]
  },
  {
   "cell_type": "code",
   "execution_count": 5,
   "id": "9783b137-5219-42a9-8094-4e30b76620d6",
   "metadata": {},
   "outputs": [
    {
     "name": "stdout",
     "output_type": "stream",
     "text": [
      "/data/reddylab/Kuei/repo/Proj_ENCODE_FCC/scripts/run_test.py\n"
     ]
    }
   ],
   "source": [
    "ls ${FD_EXE}/run_test.py"
   ]
  },
  {
   "cell_type": "code",
   "execution_count": 8,
   "id": "a1924282-0123-4898-b753-7b29084dc389",
   "metadata": {},
   "outputs": [
    {
     "name": "stdout",
     "output_type": "stream",
     "text": [
      "/opt/conda/bin/python\n"
     ]
    }
   ],
   "source": [
    "sing_script.sh which python"
   ]
  },
  {
   "cell_type": "code",
   "execution_count": 11,
   "id": "f6369d48-12e6-4247-9a86-fd88a8e6af39",
   "metadata": {},
   "outputs": [
    {
     "name": "stdout",
     "output_type": "stream",
     "text": [
      "Run test Python script\n"
     ]
    }
   ],
   "source": [
    "sing_script.sh python ${FD_EXE}/run_umap.py "
   ]
  },
  {
   "cell_type": "code",
   "execution_count": null,
   "id": "d57f255a-75fd-4d39-9b57-a117552844ed",
   "metadata": {},
   "outputs": [],
   "source": []
  }
 ],
 "metadata": {
  "kernelspec": {
   "display_name": "Bash",
   "language": "bash",
   "name": "bash"
  },
  "language_info": {
   "codemirror_mode": "shell",
   "file_extension": ".sh",
   "mimetype": "text/x-sh",
   "name": "bash"
  }
 },
 "nbformat": 4,
 "nbformat_minor": 5
}
