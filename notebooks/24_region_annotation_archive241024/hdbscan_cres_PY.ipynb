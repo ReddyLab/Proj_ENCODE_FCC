{
 "cells": [
  {
   "cell_type": "code",
   "execution_count": 1,
   "id": "d2421220-7b8b-43f4-b6a5-1cabd48c736d",
   "metadata": {},
   "outputs": [],
   "source": [
    "import numpy as np\n",
    "import pandas as pd\n",
    "import argparse\n",
    "import os"
   ]
  },
  {
   "cell_type": "code",
   "execution_count": 2,
   "id": "8cecf548-7db6-448c-bd01-add149c4ff5c",
   "metadata": {},
   "outputs": [],
   "source": [
    "import matplotlib.pyplot as plt\n",
    "import seaborn as sns"
   ]
  },
  {
   "cell_type": "code",
   "execution_count": 3,
   "id": "3e6850c3-a5a5-44cd-b4fd-cd40a9796b76",
   "metadata": {},
   "outputs": [],
   "source": [
    "txt_fdiry = \"/data/reddylab/Kuei/repo/Proj_ENCODE_FCC/results/region_annotation/fcc_astarr_macs_input_overlap/summary\"\n",
    "txt_fname = \"matrix.annotation.prepare.cre.chipseq_full.fcc.tss.tsv\"\n",
    "txt_fpath = os.path.join(txt_fdiry, txt_fname)"
   ]
  },
  {
   "cell_type": "code",
   "execution_count": 4,
   "id": "7ce57afd-3c37-49db-9d8c-9a50dcb6b5ab",
   "metadata": {},
   "outputs": [],
   "source": [
    "mat = pd.read_csv(txt_fpath, sep=\"\\t\")\n",
    "vec = mat.Region\n",
    "mat = mat.set_index('Region')"
   ]
  },
  {
   "cell_type": "code",
   "execution_count": 5,
   "id": "e6225479-2d8a-47d1-beb9-5c1d00848cff",
   "metadata": {},
   "outputs": [
    {
     "data": {
      "text/plain": [
       "(115953, 536)"
      ]
     },
     "execution_count": 5,
     "metadata": {},
     "output_type": "execute_result"
    }
   ],
   "source": [
    "mat.shape"
   ]
  },
  {
   "cell_type": "code",
   "execution_count": 6,
   "id": "ecf9b559-47dd-4e7c-b4c8-6f437a89497d",
   "metadata": {},
   "outputs": [
    {
     "data": {
      "text/plain": [
       "array([0, 1, 2, 3, 4, 5, 6, 7, 8, 9])"
      ]
     },
     "execution_count": 6,
     "metadata": {},
     "output_type": "execute_result"
    }
   ],
   "source": [
    "np.arange(10)"
   ]
  },
  {
   "cell_type": "code",
   "execution_count": 26,
   "id": "05321bd0-f89c-4ebd-8ac8-18ef744ebf0c",
   "metadata": {},
   "outputs": [
    {
     "data": {
      "text/plain": [
       "array([1, 2, 3, 5, 7, 8])"
      ]
     },
     "execution_count": 26,
     "metadata": {},
     "output_type": "execute_result"
    }
   ],
   "source": [
    "np.random.seed(123)\n",
    "num = 100000\n",
    "idx = np.arange(mat.shape[0])\n",
    "idx = np.random.choice(idx, size = num, replace=False)\n",
    "idx = np.sort(idx)\n",
    "idx[:6]"
   ]
  },
  {
   "cell_type": "code",
   "execution_count": 27,
   "id": "5c9e0460-47d5-45a2-8445-f9aec163d2fc",
   "metadata": {},
   "outputs": [
    {
     "data": {
      "text/html": [
       "<div>\n",
       "<style scoped>\n",
       "    .dataframe tbody tr th:only-of-type {\n",
       "        vertical-align: middle;\n",
       "    }\n",
       "\n",
       "    .dataframe tbody tr th {\n",
       "        vertical-align: top;\n",
       "    }\n",
       "\n",
       "    .dataframe thead th {\n",
       "        text-align: right;\n",
       "    }\n",
       "</style>\n",
       "<table border=\"1\" class=\"dataframe\">\n",
       "  <thead>\n",
       "    <tr style=\"text-align: right;\">\n",
       "      <th></th>\n",
       "      <th>ASTARR_A</th>\n",
       "      <th>WSTARR_A</th>\n",
       "      <th>LMPRA_A</th>\n",
       "      <th>TMPRA_A</th>\n",
       "      <th>ASTARR_R</th>\n",
       "      <th>WSTARR_R</th>\n",
       "      <th>LMPRA_R</th>\n",
       "      <th>TMPRA_R</th>\n",
       "      <th>CRISPRi-HCRFF:CASA</th>\n",
       "      <th>CRISPRi-Growth:Signif</th>\n",
       "      <th>...</th>\n",
       "      <th>ZNF778</th>\n",
       "      <th>ZNF780A</th>\n",
       "      <th>ZNF785</th>\n",
       "      <th>ZNF79</th>\n",
       "      <th>ZNF83</th>\n",
       "      <th>ZNF830</th>\n",
       "      <th>ZNF84</th>\n",
       "      <th>ZSCAN29</th>\n",
       "      <th>ZSCAN32</th>\n",
       "      <th>ZZZ3</th>\n",
       "    </tr>\n",
       "    <tr>\n",
       "      <th>Region</th>\n",
       "      <th></th>\n",
       "      <th></th>\n",
       "      <th></th>\n",
       "      <th></th>\n",
       "      <th></th>\n",
       "      <th></th>\n",
       "      <th></th>\n",
       "      <th></th>\n",
       "      <th></th>\n",
       "      <th></th>\n",
       "      <th></th>\n",
       "      <th></th>\n",
       "      <th></th>\n",
       "      <th></th>\n",
       "      <th></th>\n",
       "      <th></th>\n",
       "      <th></th>\n",
       "      <th></th>\n",
       "      <th></th>\n",
       "      <th></th>\n",
       "      <th></th>\n",
       "    </tr>\n",
       "  </thead>\n",
       "  <tbody>\n",
       "    <tr>\n",
       "      <th>chr1:16025-16338</th>\n",
       "      <td>0</td>\n",
       "      <td>0</td>\n",
       "      <td>0</td>\n",
       "      <td>0</td>\n",
       "      <td>1</td>\n",
       "      <td>0</td>\n",
       "      <td>0</td>\n",
       "      <td>0</td>\n",
       "      <td>0</td>\n",
       "      <td>0</td>\n",
       "      <td>...</td>\n",
       "      <td>0</td>\n",
       "      <td>0</td>\n",
       "      <td>0</td>\n",
       "      <td>0</td>\n",
       "      <td>0</td>\n",
       "      <td>0</td>\n",
       "      <td>0</td>\n",
       "      <td>0</td>\n",
       "      <td>0</td>\n",
       "      <td>0</td>\n",
       "    </tr>\n",
       "    <tr>\n",
       "      <th>chr1:17288-17689</th>\n",
       "      <td>0</td>\n",
       "      <td>0</td>\n",
       "      <td>0</td>\n",
       "      <td>0</td>\n",
       "      <td>1</td>\n",
       "      <td>0</td>\n",
       "      <td>0</td>\n",
       "      <td>0</td>\n",
       "      <td>0</td>\n",
       "      <td>0</td>\n",
       "      <td>...</td>\n",
       "      <td>0</td>\n",
       "      <td>0</td>\n",
       "      <td>0</td>\n",
       "      <td>0</td>\n",
       "      <td>0</td>\n",
       "      <td>0</td>\n",
       "      <td>0</td>\n",
       "      <td>0</td>\n",
       "      <td>0</td>\n",
       "      <td>0</td>\n",
       "    </tr>\n",
       "    <tr>\n",
       "      <th>chr1:28934-29499</th>\n",
       "      <td>0</td>\n",
       "      <td>0</td>\n",
       "      <td>0</td>\n",
       "      <td>0</td>\n",
       "      <td>1</td>\n",
       "      <td>0</td>\n",
       "      <td>0</td>\n",
       "      <td>0</td>\n",
       "      <td>0</td>\n",
       "      <td>0</td>\n",
       "      <td>...</td>\n",
       "      <td>0</td>\n",
       "      <td>0</td>\n",
       "      <td>0</td>\n",
       "      <td>0</td>\n",
       "      <td>0</td>\n",
       "      <td>0</td>\n",
       "      <td>0</td>\n",
       "      <td>0</td>\n",
       "      <td>0</td>\n",
       "      <td>0</td>\n",
       "    </tr>\n",
       "    <tr>\n",
       "      <th>chr1:136201-137353</th>\n",
       "      <td>0</td>\n",
       "      <td>0</td>\n",
       "      <td>0</td>\n",
       "      <td>0</td>\n",
       "      <td>1</td>\n",
       "      <td>0</td>\n",
       "      <td>0</td>\n",
       "      <td>0</td>\n",
       "      <td>0</td>\n",
       "      <td>0</td>\n",
       "      <td>...</td>\n",
       "      <td>0</td>\n",
       "      <td>0</td>\n",
       "      <td>0</td>\n",
       "      <td>0</td>\n",
       "      <td>0</td>\n",
       "      <td>0</td>\n",
       "      <td>0</td>\n",
       "      <td>0</td>\n",
       "      <td>0</td>\n",
       "      <td>0</td>\n",
       "    </tr>\n",
       "    <tr>\n",
       "      <th>chr1:184091-184563</th>\n",
       "      <td>0</td>\n",
       "      <td>1</td>\n",
       "      <td>0</td>\n",
       "      <td>0</td>\n",
       "      <td>0</td>\n",
       "      <td>0</td>\n",
       "      <td>0</td>\n",
       "      <td>0</td>\n",
       "      <td>0</td>\n",
       "      <td>0</td>\n",
       "      <td>...</td>\n",
       "      <td>0</td>\n",
       "      <td>0</td>\n",
       "      <td>0</td>\n",
       "      <td>0</td>\n",
       "      <td>0</td>\n",
       "      <td>0</td>\n",
       "      <td>0</td>\n",
       "      <td>0</td>\n",
       "      <td>0</td>\n",
       "      <td>0</td>\n",
       "    </tr>\n",
       "    <tr>\n",
       "      <th>...</th>\n",
       "      <td>...</td>\n",
       "      <td>...</td>\n",
       "      <td>...</td>\n",
       "      <td>...</td>\n",
       "      <td>...</td>\n",
       "      <td>...</td>\n",
       "      <td>...</td>\n",
       "      <td>...</td>\n",
       "      <td>...</td>\n",
       "      <td>...</td>\n",
       "      <td>...</td>\n",
       "      <td>...</td>\n",
       "      <td>...</td>\n",
       "      <td>...</td>\n",
       "      <td>...</td>\n",
       "      <td>...</td>\n",
       "      <td>...</td>\n",
       "      <td>...</td>\n",
       "      <td>...</td>\n",
       "      <td>...</td>\n",
       "      <td>...</td>\n",
       "    </tr>\n",
       "    <tr>\n",
       "      <th>chrX:155218847-155219098</th>\n",
       "      <td>0</td>\n",
       "      <td>0</td>\n",
       "      <td>0</td>\n",
       "      <td>0</td>\n",
       "      <td>0</td>\n",
       "      <td>0</td>\n",
       "      <td>0</td>\n",
       "      <td>0</td>\n",
       "      <td>0</td>\n",
       "      <td>1</td>\n",
       "      <td>...</td>\n",
       "      <td>0</td>\n",
       "      <td>0</td>\n",
       "      <td>0</td>\n",
       "      <td>0</td>\n",
       "      <td>0</td>\n",
       "      <td>0</td>\n",
       "      <td>0</td>\n",
       "      <td>0</td>\n",
       "      <td>0</td>\n",
       "      <td>0</td>\n",
       "    </tr>\n",
       "    <tr>\n",
       "      <th>chrX:155819909-155820432</th>\n",
       "      <td>0</td>\n",
       "      <td>0</td>\n",
       "      <td>0</td>\n",
       "      <td>0</td>\n",
       "      <td>0</td>\n",
       "      <td>0</td>\n",
       "      <td>0</td>\n",
       "      <td>0</td>\n",
       "      <td>0</td>\n",
       "      <td>1</td>\n",
       "      <td>...</td>\n",
       "      <td>0</td>\n",
       "      <td>0</td>\n",
       "      <td>0</td>\n",
       "      <td>0</td>\n",
       "      <td>0</td>\n",
       "      <td>0</td>\n",
       "      <td>0</td>\n",
       "      <td>0</td>\n",
       "      <td>0</td>\n",
       "      <td>0</td>\n",
       "    </tr>\n",
       "    <tr>\n",
       "      <th>chrX:155893484-155893981</th>\n",
       "      <td>0</td>\n",
       "      <td>0</td>\n",
       "      <td>0</td>\n",
       "      <td>0</td>\n",
       "      <td>0</td>\n",
       "      <td>0</td>\n",
       "      <td>0</td>\n",
       "      <td>0</td>\n",
       "      <td>0</td>\n",
       "      <td>1</td>\n",
       "      <td>...</td>\n",
       "      <td>0</td>\n",
       "      <td>0</td>\n",
       "      <td>0</td>\n",
       "      <td>0</td>\n",
       "      <td>0</td>\n",
       "      <td>0</td>\n",
       "      <td>0</td>\n",
       "      <td>0</td>\n",
       "      <td>0</td>\n",
       "      <td>0</td>\n",
       "    </tr>\n",
       "    <tr>\n",
       "      <th>chrX:155966976-155967335</th>\n",
       "      <td>0</td>\n",
       "      <td>0</td>\n",
       "      <td>0</td>\n",
       "      <td>0</td>\n",
       "      <td>0</td>\n",
       "      <td>0</td>\n",
       "      <td>0</td>\n",
       "      <td>0</td>\n",
       "      <td>0</td>\n",
       "      <td>1</td>\n",
       "      <td>...</td>\n",
       "      <td>0</td>\n",
       "      <td>0</td>\n",
       "      <td>0</td>\n",
       "      <td>0</td>\n",
       "      <td>0</td>\n",
       "      <td>0</td>\n",
       "      <td>0</td>\n",
       "      <td>0</td>\n",
       "      <td>0</td>\n",
       "      <td>0</td>\n",
       "    </tr>\n",
       "    <tr>\n",
       "      <th>chrX:155971615-155972197</th>\n",
       "      <td>0</td>\n",
       "      <td>0</td>\n",
       "      <td>0</td>\n",
       "      <td>0</td>\n",
       "      <td>0</td>\n",
       "      <td>0</td>\n",
       "      <td>0</td>\n",
       "      <td>0</td>\n",
       "      <td>0</td>\n",
       "      <td>1</td>\n",
       "      <td>...</td>\n",
       "      <td>0</td>\n",
       "      <td>0</td>\n",
       "      <td>0</td>\n",
       "      <td>0</td>\n",
       "      <td>0</td>\n",
       "      <td>0</td>\n",
       "      <td>0</td>\n",
       "      <td>0</td>\n",
       "      <td>0</td>\n",
       "      <td>0</td>\n",
       "    </tr>\n",
       "  </tbody>\n",
       "</table>\n",
       "<p>100000 rows × 536 columns</p>\n",
       "</div>"
      ],
      "text/plain": [
       "                          ASTARR_A  WSTARR_A  LMPRA_A  TMPRA_A  ASTARR_R  \\\n",
       "Region                                                                     \n",
       "chr1:16025-16338                 0         0        0        0         1   \n",
       "chr1:17288-17689                 0         0        0        0         1   \n",
       "chr1:28934-29499                 0         0        0        0         1   \n",
       "chr1:136201-137353               0         0        0        0         1   \n",
       "chr1:184091-184563               0         1        0        0         0   \n",
       "...                            ...       ...      ...      ...       ...   \n",
       "chrX:155218847-155219098         0         0        0        0         0   \n",
       "chrX:155819909-155820432         0         0        0        0         0   \n",
       "chrX:155893484-155893981         0         0        0        0         0   \n",
       "chrX:155966976-155967335         0         0        0        0         0   \n",
       "chrX:155971615-155972197         0         0        0        0         0   \n",
       "\n",
       "                          WSTARR_R  LMPRA_R  TMPRA_R  CRISPRi-HCRFF:CASA  \\\n",
       "Region                                                                     \n",
       "chr1:16025-16338                 0        0        0                   0   \n",
       "chr1:17288-17689                 0        0        0                   0   \n",
       "chr1:28934-29499                 0        0        0                   0   \n",
       "chr1:136201-137353               0        0        0                   0   \n",
       "chr1:184091-184563               0        0        0                   0   \n",
       "...                            ...      ...      ...                 ...   \n",
       "chrX:155218847-155219098         0        0        0                   0   \n",
       "chrX:155819909-155820432         0        0        0                   0   \n",
       "chrX:155893484-155893981         0        0        0                   0   \n",
       "chrX:155966976-155967335         0        0        0                   0   \n",
       "chrX:155971615-155972197         0        0        0                   0   \n",
       "\n",
       "                          CRISPRi-Growth:Signif  ...  ZNF778  ZNF780A  ZNF785  \\\n",
       "Region                                           ...                            \n",
       "chr1:16025-16338                              0  ...       0        0       0   \n",
       "chr1:17288-17689                              0  ...       0        0       0   \n",
       "chr1:28934-29499                              0  ...       0        0       0   \n",
       "chr1:136201-137353                            0  ...       0        0       0   \n",
       "chr1:184091-184563                            0  ...       0        0       0   \n",
       "...                                         ...  ...     ...      ...     ...   \n",
       "chrX:155218847-155219098                      1  ...       0        0       0   \n",
       "chrX:155819909-155820432                      1  ...       0        0       0   \n",
       "chrX:155893484-155893981                      1  ...       0        0       0   \n",
       "chrX:155966976-155967335                      1  ...       0        0       0   \n",
       "chrX:155971615-155972197                      1  ...       0        0       0   \n",
       "\n",
       "                          ZNF79  ZNF83  ZNF830  ZNF84  ZSCAN29  ZSCAN32  ZZZ3  \n",
       "Region                                                                         \n",
       "chr1:16025-16338              0      0       0      0        0        0     0  \n",
       "chr1:17288-17689              0      0       0      0        0        0     0  \n",
       "chr1:28934-29499              0      0       0      0        0        0     0  \n",
       "chr1:136201-137353            0      0       0      0        0        0     0  \n",
       "chr1:184091-184563            0      0       0      0        0        0     0  \n",
       "...                         ...    ...     ...    ...      ...      ...   ...  \n",
       "chrX:155218847-155219098      0      0       0      0        0        0     0  \n",
       "chrX:155819909-155820432      0      0       0      0        0        0     0  \n",
       "chrX:155893484-155893981      0      0       0      0        0        0     0  \n",
       "chrX:155966976-155967335      0      0       0      0        0        0     0  \n",
       "chrX:155971615-155972197      0      0       0      0        0        0     0  \n",
       "\n",
       "[100000 rows x 536 columns]"
      ]
     },
     "execution_count": 27,
     "metadata": {},
     "output_type": "execute_result"
    }
   ],
   "source": [
    "tmp = mat.iloc[idx]\n",
    "tmp"
   ]
  },
  {
   "cell_type": "code",
   "execution_count": 9,
   "id": "2af31928-c2c7-4184-a442-e7af7d36f866",
   "metadata": {},
   "outputs": [],
   "source": [
    "import hdbscan"
   ]
  },
  {
   "cell_type": "code",
   "execution_count": 10,
   "id": "576c43e1-09f1-434a-954b-c3b4820c9379",
   "metadata": {},
   "outputs": [
    {
     "name": "stderr",
     "output_type": "stream",
     "text": [
      "IOStream.flush timed out\n",
      "IOStream.flush timed out\n"
     ]
    }
   ],
   "source": [
    "clusterer = hdbscan.HDBSCAN(metric=\"manhattan\", min_cluster_size=1000, gen_min_span_tree=True)\n",
    "clusterer = clusterer.fit(tmp)"
   ]
  },
  {
   "cell_type": "code",
   "execution_count": 24,
   "id": "f5f3bfc6-560d-44cc-8f43-1f10a22f513a",
   "metadata": {},
   "outputs": [
    {
     "data": {
      "text/html": [
       "<style>#sk-container-id-2 {color: black;}#sk-container-id-2 pre{padding: 0;}#sk-container-id-2 div.sk-toggleable {background-color: white;}#sk-container-id-2 label.sk-toggleable__label {cursor: pointer;display: block;width: 100%;margin-bottom: 0;padding: 0.3em;box-sizing: border-box;text-align: center;}#sk-container-id-2 label.sk-toggleable__label-arrow:before {content: \"▸\";float: left;margin-right: 0.25em;color: #696969;}#sk-container-id-2 label.sk-toggleable__label-arrow:hover:before {color: black;}#sk-container-id-2 div.sk-estimator:hover label.sk-toggleable__label-arrow:before {color: black;}#sk-container-id-2 div.sk-toggleable__content {max-height: 0;max-width: 0;overflow: hidden;text-align: left;background-color: #f0f8ff;}#sk-container-id-2 div.sk-toggleable__content pre {margin: 0.2em;color: black;border-radius: 0.25em;background-color: #f0f8ff;}#sk-container-id-2 input.sk-toggleable__control:checked~div.sk-toggleable__content {max-height: 200px;max-width: 100%;overflow: auto;}#sk-container-id-2 input.sk-toggleable__control:checked~label.sk-toggleable__label-arrow:before {content: \"▾\";}#sk-container-id-2 div.sk-estimator input.sk-toggleable__control:checked~label.sk-toggleable__label {background-color: #d4ebff;}#sk-container-id-2 div.sk-label input.sk-toggleable__control:checked~label.sk-toggleable__label {background-color: #d4ebff;}#sk-container-id-2 input.sk-hidden--visually {border: 0;clip: rect(1px 1px 1px 1px);clip: rect(1px, 1px, 1px, 1px);height: 1px;margin: -1px;overflow: hidden;padding: 0;position: absolute;width: 1px;}#sk-container-id-2 div.sk-estimator {font-family: monospace;background-color: #f0f8ff;border: 1px dotted black;border-radius: 0.25em;box-sizing: border-box;margin-bottom: 0.5em;}#sk-container-id-2 div.sk-estimator:hover {background-color: #d4ebff;}#sk-container-id-2 div.sk-parallel-item::after {content: \"\";width: 100%;border-bottom: 1px solid gray;flex-grow: 1;}#sk-container-id-2 div.sk-label:hover label.sk-toggleable__label {background-color: #d4ebff;}#sk-container-id-2 div.sk-serial::before {content: \"\";position: absolute;border-left: 1px solid gray;box-sizing: border-box;top: 0;bottom: 0;left: 50%;z-index: 0;}#sk-container-id-2 div.sk-serial {display: flex;flex-direction: column;align-items: center;background-color: white;padding-right: 0.2em;padding-left: 0.2em;position: relative;}#sk-container-id-2 div.sk-item {position: relative;z-index: 1;}#sk-container-id-2 div.sk-parallel {display: flex;align-items: stretch;justify-content: center;background-color: white;position: relative;}#sk-container-id-2 div.sk-item::before, #sk-container-id-2 div.sk-parallel-item::before {content: \"\";position: absolute;border-left: 1px solid gray;box-sizing: border-box;top: 0;bottom: 0;left: 50%;z-index: -1;}#sk-container-id-2 div.sk-parallel-item {display: flex;flex-direction: column;z-index: 1;position: relative;background-color: white;}#sk-container-id-2 div.sk-parallel-item:first-child::after {align-self: flex-end;width: 50%;}#sk-container-id-2 div.sk-parallel-item:last-child::after {align-self: flex-start;width: 50%;}#sk-container-id-2 div.sk-parallel-item:only-child::after {width: 0;}#sk-container-id-2 div.sk-dashed-wrapped {border: 1px dashed gray;margin: 0 0.4em 0.5em 0.4em;box-sizing: border-box;padding-bottom: 0.4em;background-color: white;}#sk-container-id-2 div.sk-label label {font-family: monospace;font-weight: bold;display: inline-block;line-height: 1.2em;}#sk-container-id-2 div.sk-label-container {text-align: center;}#sk-container-id-2 div.sk-container {/* jupyter's `normalize.less` sets `[hidden] { display: none; }` but bootstrap.min.css set `[hidden] { display: none !important; }` so we also need the `!important` here to be able to override the default hidden behavior on the sphinx rendered scikit-learn.org. See: https://github.com/scikit-learn/scikit-learn/issues/21755 */display: inline-block !important;position: relative;}#sk-container-id-2 div.sk-text-repr-fallback {display: none;}</style><div id=\"sk-container-id-2\" class=\"sk-top-container\"><div class=\"sk-text-repr-fallback\"><pre>HDBSCAN(gen_min_span_tree=True, metric=&#x27;manhattan&#x27;, min_cluster_size=1000)</pre><b>In a Jupyter environment, please rerun this cell to show the HTML representation or trust the notebook. <br />On GitHub, the HTML representation is unable to render, please try loading this page with nbviewer.org.</b></div><div class=\"sk-container\" hidden><div class=\"sk-item\"><div class=\"sk-estimator sk-toggleable\"><input class=\"sk-toggleable__control sk-hidden--visually\" id=\"sk-estimator-id-2\" type=\"checkbox\" checked><label for=\"sk-estimator-id-2\" class=\"sk-toggleable__label sk-toggleable__label-arrow\">HDBSCAN</label><div class=\"sk-toggleable__content\"><pre>HDBSCAN(gen_min_span_tree=True, metric=&#x27;manhattan&#x27;, min_cluster_size=1000)</pre></div></div></div></div></div>"
      ],
      "text/plain": [
       "HDBSCAN(gen_min_span_tree=True, metric='manhattan', min_cluster_size=1000)"
      ]
     },
     "execution_count": 24,
     "metadata": {},
     "output_type": "execute_result"
    }
   ],
   "source": [
    "clusterer"
   ]
  },
  {
   "cell_type": "code",
   "execution_count": 29,
   "id": "177a528d-9ae8-448d-991a-20d0a9dfe756",
   "metadata": {},
   "outputs": [
    {
     "ename": "AttributeError",
     "evalue": "'HDBSCAN' object has no attribute 'transform'",
     "output_type": "error",
     "traceback": [
      "\u001b[0;31m---------------------------------------------------------------------------\u001b[0m",
      "\u001b[0;31mAttributeError\u001b[0m                            Traceback (most recent call last)",
      "Cell \u001b[0;32mIn[29], line 1\u001b[0m\n\u001b[0;32m----> 1\u001b[0m res \u001b[38;5;241m=\u001b[39m \u001b[43mclusterer\u001b[49m\u001b[38;5;241;43m.\u001b[39;49m\u001b[43mtransform\u001b[49m(tmp)\n",
      "\u001b[0;31mAttributeError\u001b[0m: 'HDBSCAN' object has no attribute 'transform'"
     ]
    }
   ],
   "source": [
    "res = clusterer.transform(tmp)"
   ]
  },
  {
   "cell_type": "code",
   "execution_count": 12,
   "id": "c58a38f5-9c6a-4e16-93e6-e6c35dc2a4b8",
   "metadata": {},
   "outputs": [
    {
     "data": {
      "text/html": [
       "<div>\n",
       "<style scoped>\n",
       "    .dataframe tbody tr th:only-of-type {\n",
       "        vertical-align: middle;\n",
       "    }\n",
       "\n",
       "    .dataframe tbody tr th {\n",
       "        vertical-align: top;\n",
       "    }\n",
       "\n",
       "    .dataframe thead th {\n",
       "        text-align: right;\n",
       "    }\n",
       "</style>\n",
       "<table border=\"1\" class=\"dataframe\">\n",
       "  <thead>\n",
       "    <tr style=\"text-align: right;\">\n",
       "      <th></th>\n",
       "      <th>UMAP1</th>\n",
       "      <th>UMAP2</th>\n",
       "      <th>Region</th>\n",
       "    </tr>\n",
       "  </thead>\n",
       "  <tbody>\n",
       "    <tr>\n",
       "      <th>0</th>\n",
       "      <td>-8.756425</td>\n",
       "      <td>-18.446810</td>\n",
       "      <td>chr1:10038-10405</td>\n",
       "    </tr>\n",
       "    <tr>\n",
       "      <th>1</th>\n",
       "      <td>-17.356913</td>\n",
       "      <td>-15.904090</td>\n",
       "      <td>chr1:16025-16338</td>\n",
       "    </tr>\n",
       "    <tr>\n",
       "      <th>2</th>\n",
       "      <td>-9.108912</td>\n",
       "      <td>-19.168379</td>\n",
       "      <td>chr1:17288-17689</td>\n",
       "    </tr>\n",
       "    <tr>\n",
       "      <th>3</th>\n",
       "      <td>-8.496169</td>\n",
       "      <td>-22.646748</td>\n",
       "      <td>chr1:28934-29499</td>\n",
       "    </tr>\n",
       "    <tr>\n",
       "      <th>4</th>\n",
       "      <td>-5.995242</td>\n",
       "      <td>-6.290689</td>\n",
       "      <td>chr1:115429-115969</td>\n",
       "    </tr>\n",
       "    <tr>\n",
       "      <th>...</th>\n",
       "      <td>...</td>\n",
       "      <td>...</td>\n",
       "      <td>...</td>\n",
       "    </tr>\n",
       "    <tr>\n",
       "      <th>115948</th>\n",
       "      <td>-5.495279</td>\n",
       "      <td>-6.053900</td>\n",
       "      <td>chrX:155218847-155219098</td>\n",
       "    </tr>\n",
       "    <tr>\n",
       "      <th>115949</th>\n",
       "      <td>-21.415310</td>\n",
       "      <td>-13.148938</td>\n",
       "      <td>chrX:155819909-155820432</td>\n",
       "    </tr>\n",
       "    <tr>\n",
       "      <th>115950</th>\n",
       "      <td>-8.206317</td>\n",
       "      <td>-6.476792</td>\n",
       "      <td>chrX:155893484-155893981</td>\n",
       "    </tr>\n",
       "    <tr>\n",
       "      <th>115951</th>\n",
       "      <td>-20.988771</td>\n",
       "      <td>-12.729661</td>\n",
       "      <td>chrX:155966976-155967335</td>\n",
       "    </tr>\n",
       "    <tr>\n",
       "      <th>115952</th>\n",
       "      <td>-19.645569</td>\n",
       "      <td>-16.919714</td>\n",
       "      <td>chrX:155971615-155972197</td>\n",
       "    </tr>\n",
       "  </tbody>\n",
       "</table>\n",
       "<p>115953 rows × 3 columns</p>\n",
       "</div>"
      ],
      "text/plain": [
       "            UMAP1      UMAP2                    Region\n",
       "0       -8.756425 -18.446810          chr1:10038-10405\n",
       "1      -17.356913 -15.904090          chr1:16025-16338\n",
       "2       -9.108912 -19.168379          chr1:17288-17689\n",
       "3       -8.496169 -22.646748          chr1:28934-29499\n",
       "4       -5.995242  -6.290689        chr1:115429-115969\n",
       "...           ...        ...                       ...\n",
       "115948  -5.495279  -6.053900  chrX:155218847-155219098\n",
       "115949 -21.415310 -13.148938  chrX:155819909-155820432\n",
       "115950  -8.206317  -6.476792  chrX:155893484-155893981\n",
       "115951 -20.988771 -12.729661  chrX:155966976-155967335\n",
       "115952 -19.645569 -16.919714  chrX:155971615-155972197\n",
       "\n",
       "[115953 rows x 3 columns]"
      ]
     },
     "execution_count": 12,
     "metadata": {},
     "output_type": "execute_result"
    }
   ],
   "source": [
    "txt_fname = \"umap.metric_manhattan.n_neighbors_70.annotation.prepare.cre.chipseq_full.fcc.tss.tsv\"\n",
    "txt_fpath = os.path.join(txt_fdiry, txt_fname)\n",
    "dat = pd.read_csv(txt_fpath, sep=\"\\t\")\n",
    "dat"
   ]
  },
  {
   "cell_type": "code",
   "execution_count": 13,
   "id": "a0cc9ba1-dde3-4f8d-9a5f-2c774c17230a",
   "metadata": {},
   "outputs": [
    {
     "data": {
      "text/html": [
       "<div>\n",
       "<style scoped>\n",
       "    .dataframe tbody tr th:only-of-type {\n",
       "        vertical-align: middle;\n",
       "    }\n",
       "\n",
       "    .dataframe tbody tr th {\n",
       "        vertical-align: top;\n",
       "    }\n",
       "\n",
       "    .dataframe thead th {\n",
       "        text-align: right;\n",
       "    }\n",
       "</style>\n",
       "<table border=\"1\" class=\"dataframe\">\n",
       "  <thead>\n",
       "    <tr style=\"text-align: right;\">\n",
       "      <th></th>\n",
       "      <th>UMAP1</th>\n",
       "      <th>UMAP2</th>\n",
       "      <th>Region</th>\n",
       "    </tr>\n",
       "  </thead>\n",
       "  <tbody>\n",
       "    <tr>\n",
       "      <th>1</th>\n",
       "      <td>-17.356913</td>\n",
       "      <td>-15.904090</td>\n",
       "      <td>chr1:16025-16338</td>\n",
       "    </tr>\n",
       "    <tr>\n",
       "      <th>2</th>\n",
       "      <td>-9.108912</td>\n",
       "      <td>-19.168379</td>\n",
       "      <td>chr1:17288-17689</td>\n",
       "    </tr>\n",
       "    <tr>\n",
       "      <th>3</th>\n",
       "      <td>-8.496169</td>\n",
       "      <td>-22.646748</td>\n",
       "      <td>chr1:28934-29499</td>\n",
       "    </tr>\n",
       "    <tr>\n",
       "      <th>5</th>\n",
       "      <td>-7.917427</td>\n",
       "      <td>-20.808850</td>\n",
       "      <td>chr1:136201-137353</td>\n",
       "    </tr>\n",
       "    <tr>\n",
       "      <th>7</th>\n",
       "      <td>-15.355801</td>\n",
       "      <td>-5.527660</td>\n",
       "      <td>chr1:184091-184563</td>\n",
       "    </tr>\n",
       "    <tr>\n",
       "      <th>...</th>\n",
       "      <td>...</td>\n",
       "      <td>...</td>\n",
       "      <td>...</td>\n",
       "    </tr>\n",
       "    <tr>\n",
       "      <th>115948</th>\n",
       "      <td>-5.495279</td>\n",
       "      <td>-6.053900</td>\n",
       "      <td>chrX:155218847-155219098</td>\n",
       "    </tr>\n",
       "    <tr>\n",
       "      <th>115949</th>\n",
       "      <td>-21.415310</td>\n",
       "      <td>-13.148938</td>\n",
       "      <td>chrX:155819909-155820432</td>\n",
       "    </tr>\n",
       "    <tr>\n",
       "      <th>115950</th>\n",
       "      <td>-8.206317</td>\n",
       "      <td>-6.476792</td>\n",
       "      <td>chrX:155893484-155893981</td>\n",
       "    </tr>\n",
       "    <tr>\n",
       "      <th>115951</th>\n",
       "      <td>-20.988771</td>\n",
       "      <td>-12.729661</td>\n",
       "      <td>chrX:155966976-155967335</td>\n",
       "    </tr>\n",
       "    <tr>\n",
       "      <th>115952</th>\n",
       "      <td>-19.645569</td>\n",
       "      <td>-16.919714</td>\n",
       "      <td>chrX:155971615-155972197</td>\n",
       "    </tr>\n",
       "  </tbody>\n",
       "</table>\n",
       "<p>100000 rows × 3 columns</p>\n",
       "</div>"
      ],
      "text/plain": [
       "            UMAP1      UMAP2                    Region\n",
       "1      -17.356913 -15.904090          chr1:16025-16338\n",
       "2       -9.108912 -19.168379          chr1:17288-17689\n",
       "3       -8.496169 -22.646748          chr1:28934-29499\n",
       "5       -7.917427 -20.808850        chr1:136201-137353\n",
       "7      -15.355801  -5.527660        chr1:184091-184563\n",
       "...           ...        ...                       ...\n",
       "115948  -5.495279  -6.053900  chrX:155218847-155219098\n",
       "115949 -21.415310 -13.148938  chrX:155819909-155820432\n",
       "115950  -8.206317  -6.476792  chrX:155893484-155893981\n",
       "115951 -20.988771 -12.729661  chrX:155966976-155967335\n",
       "115952 -19.645569 -16.919714  chrX:155971615-155972197\n",
       "\n",
       "[100000 rows x 3 columns]"
      ]
     },
     "execution_count": 13,
     "metadata": {},
     "output_type": "execute_result"
    }
   ],
   "source": [
    "tmp = dat.iloc[idx]\n",
    "tmp"
   ]
  },
  {
   "cell_type": "code",
   "execution_count": 14,
   "id": "9d21bc4c-25d7-49ca-a843-5b588cbd3522",
   "metadata": {},
   "outputs": [],
   "source": [
    "plot_kwds = {'alpha' : 0.5, 's' : 80, 'linewidths':0}"
   ]
  },
  {
   "cell_type": "code",
   "execution_count": 15,
   "id": "df108779-0484-46af-9cd1-1121b9c2eec3",
   "metadata": {},
   "outputs": [
    {
     "data": {
      "text/plain": [
       "<matplotlib.collections.PathCollection at 0x7f2f841f6ad0>"
      ]
     },
     "execution_count": 15,
     "metadata": {},
     "output_type": "execute_result"
    },
    {
     "data": {
      "image/png": "[encoded data removed]",
      "text/plain": [
       "<Figure size 640x480 with 1 Axes>"
      ]
     },
     "metadata": {},
     "output_type": "display_data"
    }
   ],
   "source": [
    "plt.scatter(tmp.UMAP1, tmp.UMAP2, s = 1)"
   ]
  },
  {
   "cell_type": "code",
   "execution_count": 16,
   "id": "04214d99-229e-4143-af52-c73b16da6d4b",
   "metadata": {},
   "outputs": [
    {
     "data": {
      "text/plain": [
       "{-1: 90948, 0: 5589, 1: 3463}"
      ]
     },
     "execution_count": 16,
     "metadata": {},
     "output_type": "execute_result"
    }
   ],
   "source": [
    "x = clusterer.labels_\n",
    "unique, counts = np.unique(x, return_counts=True)\n",
    "dict(zip(unique, counts))"
   ]
  },
  {
   "cell_type": "code",
   "execution_count": 19,
   "id": "730a3165-4923-468b-98e3-2b60f20275ef",
   "metadata": {},
   "outputs": [
    {
     "data": {
      "text/plain": [
       "<matplotlib.collections.PathCollection at 0x7f2f845f6390>"
      ]
     },
     "execution_count": 19,
     "metadata": {},
     "output_type": "execute_result"
    },
    {
     "data": {
      "image/png": "[encoded data removed]",
      "text/plain": [
       "<Figure size 640x480 with 1 Axes>"
      ]
     },
     "metadata": {},
     "output_type": "display_data"
    }
   ],
   "source": [
    "x = clusterer.labels_\n",
    "i = np.where(x==1)[0]\n",
    "plt.scatter(tmp.UMAP1, tmp.UMAP2, s = 1)\n",
    "plt.scatter(tmp.UMAP1.iloc[i], tmp.UMAP2.iloc[i], s = 0.1)"
   ]
  },
  {
   "cell_type": "code",
   "execution_count": 20,
   "id": "0a8bc149-4933-42c2-8cd3-2a5d9cad66a8",
   "metadata": {},
   "outputs": [
    {
     "data": {
      "text/plain": [
       "<matplotlib.collections.PathCollection at 0x7f2f692b46d0>"
      ]
     },
     "execution_count": 20,
     "metadata": {},
     "output_type": "execute_result"
    },
    {
     "data": {
      "image/png": "[encoded data removed]",
      "text/plain": [
       "<Figure size 640x480 with 1 Axes>"
      ]
     },
     "metadata": {},
     "output_type": "display_data"
    }
   ],
   "source": [
    "palette = sns.color_palette()\n",
    "cluster_colors = [sns.desaturate(palette[col], sat)\n",
    "                  if col >= 0 else (0.5, 0.5, 0.5) for col, sat in\n",
    "                  zip(clusterer.labels_, clusterer.probabilities_)]\n",
    "plt.scatter(tmp.UMAP1, tmp.UMAP2, s = 1, c=cluster_colors)"
   ]
  },
  {
   "cell_type": "code",
   "execution_count": 23,
   "id": "0ee44b43-1272-4ad8-9588-ae1b2c06d656",
   "metadata": {},
   "outputs": [
    {
     "name": "stdout",
     "output_type": "stream",
     "text": [
      "1e2 <class 'str'>\n",
      "100.0 <class 'float'>\n",
      "100 <class 'int'>\n"
     ]
    }
   ],
   "source": [
    "x = \"1e2\"\n",
    "print(x, type(x))\n",
    "x = float(x)\n",
    "print(x, type(x))\n",
    "x = int(x)\n",
    "print(x, type(x))"
   ]
  },
  {
   "cell_type": "code",
   "execution_count": null,
   "id": "b13caede-f28a-4645-8148-59e97e660b05",
   "metadata": {},
   "outputs": [],
   "source": []
  }
 ],
 "metadata": {
  "kernelspec": {
   "display_name": "Python 3 (ipykernel)",
   "language": "python",
   "name": "python3"
  },
  "language_info": {
   "codemirror_mode": {
    "name": "ipython",
    "version": 3
   },
   "file_extension": ".py",
   "mimetype": "text/x-python",
   "name": "python",
   "nbconvert_exporter": "python",
   "pygments_lexer": "ipython3",
   "version": "3.11.6"
  }
 },
 "nbformat": 4,
 "nbformat_minor": 5
}
