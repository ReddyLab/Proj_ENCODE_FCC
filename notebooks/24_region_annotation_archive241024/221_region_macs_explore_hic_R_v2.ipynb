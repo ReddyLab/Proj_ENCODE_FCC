{
 "cells": [
  {
   "cell_type": "code",
   "execution_count": 1,
   "id": "ee982247-7e99-4616-ac36-b535c1d83323",
   "metadata": {},
   "outputs": [
    {
     "name": "stdout",
     "output_type": "stream",
     "text": [
      "You are working on        Singularity \n",
      "BASE DIRECTORY (FD_BASE): /mount \n",
      "REPO DIRECTORY (FD_REPO): /mount/repo \n",
      "WORK DIRECTORY (FD_WORK): /mount/work \n",
      "DATA DIRECTORY (FD_DATA): /mount/data \n",
      "\n",
      "You are working with      ENCODE FCC \n",
      "PATH OF PROJECT (FD_PRJ): /mount/repo/Proj_ENCODE_FCC \n",
      "PROJECT RESULTS (FD_RES): /mount/repo/Proj_ENCODE_FCC/results \n",
      "PROJECT SCRIPTS (FD_EXE): /mount/repo/Proj_ENCODE_FCC/scripts \n",
      "PROJECT DATA    (FD_DAT): /mount/repo/Proj_ENCODE_FCC/data \n",
      "PROJECT NOTE    (FD_NBK): /mount/repo/Proj_ENCODE_FCC/notebooks \n",
      "PROJECT DOCS    (FD_DOC): /mount/repo/Proj_ENCODE_FCC/docs \n",
      "PROJECT LOG     (FD_LOG): /mount/repo/Proj_ENCODE_FCC/log \n",
      "PROJECT APP     (FD_APP): /mount/repo/Proj_ENCODE_FCC/app \n",
      "PROJECT REF     (FD_REF): /mount/repo/Proj_ENCODE_FCC/references \n",
      "\n"
     ]
    }
   ],
   "source": [
    "suppressMessages(suppressWarnings(source(\"../run_config_project_sing.R\")))\n",
    "show_env()"
   ]
  },
  {
   "cell_type": "code",
   "execution_count": 2,
   "id": "6ffb5695-c4e4-4f6d-ae6e-3d2b046c7f31",
   "metadata": {},
   "outputs": [
    {
     "name": "stdout",
     "output_type": "stream",
     "text": [
      " [1] \"hclust.col.annotation.test_chrX.chipseq_full.only.tsv\"    \n",
      " [2] \"hclust.row.annotation.test_chrX.chipseq_full.only.tsv\"    \n",
      " [3] \"matrix.annotation.chipseq_flagship.tsv\"                   \n",
      " [4] \"matrix.annotation.chipseq_full.tsv\"                       \n",
      " [5] \"matrix.annotation.chipseq_histone.tsv\"                    \n",
      " [6] \"matrix.annotation.chipseq_subset.tsv\"                     \n",
      " [7] \"matrix.annotation.fcc_peak_call.tsv\"                      \n",
      " [8] \"matrix.annotation.genome_tss.tsv\"                         \n",
      " [9] \"matrix.annotation.merge.chipseq_full.fcc.tss.tsv\"         \n",
      "[10] \"matrix.annotation.prepare.chipseq_full.fcc.tss.tsv\"       \n",
      "[11] \"matrix.annotation.prepare.chipseq_full.only.tsv\"          \n",
      "[12] \"matrix.annotation.test_chrX.chipseq_full.fcc.tss.tsv\"     \n",
      "[13] \"matrix.annotation.test_chrX.chipseq_full.only.tsv\"        \n",
      "[14] \"matrix.annotation.tss.chipseq_histone.chipseq_encode4.tsv\"\n",
      "[15] \"region.annotation.encode_chipseq_flagship.tsv\"            \n",
      "[16] \"region.annotation.encode_chipseq_histone.tsv\"             \n",
      "[17] \"region.annotation.encode_chipseq_subset.tsv\"              \n",
      "[18] \"region.annotation.encode_chromatin_states.tsv\"            \n",
      "[19] \"region.annotation.fcc_astarr_csaw.tsv\"                    \n",
      "[20] \"region.annotation.fcc_crispri_growth.tsv\"                 \n",
      "[21] \"region.annotation.fcc_crispri_hcrff.tsv\"                  \n",
      "[22] \"region.annotation.fcc_mpra_agarwal2023.tsv\"               \n",
      "[23] \"region.annotation.fcc_starrmpra_junke.tsv\"                \n",
      "[24] \"region.annotation.genome_tss.tsv\"                         \n",
      "[25] \"region.annotation.hic_insitu_K562_ENCSR545YBD.tsv\"        \n",
      "[26] \"region.annotation.hic_intact_K562_deep.tsv\"               \n",
      "[27] \"region.annotation.hic_intact_K562_ENCSR479XDG.tsv\"        \n",
      "[28] \"region.annotation.module_tf_shannon.tsv\"                  \n",
      "[29] \"region.summary.encode_chipseq_encode4.tsv\"                \n",
      "[30] \"region.summary.encode_chipseq_flagship.tsv\"               \n",
      "[31] \"region.summary.encode_chipseq_histone.tsv\"                \n",
      "[32] \"region.summary.encode_chipseq_subset.tsv\"                 \n",
      "[33] \"region.summary.encode_chromatin_states.tsv\"               \n",
      "[34] \"region.summary.fcc_astarr_csaw.tsv\"                       \n",
      "[35] \"region.summary.fcc_crispri_growth.tsv\"                    \n",
      "[36] \"region.summary.fcc_crispri_hcrff.tsv\"                     \n",
      "[37] \"region.summary.fcc_mpra_agarwal2023.tsv\"                  \n",
      "[38] \"region.summary.fcc_starrmpra_junke.tsv\"                   \n",
      "[39] \"region.summary.genome_tss.tsv\"                            \n",
      "[40] \"region.summary.hic_insitu_K562_ENCSR545YBD.tsv\"           \n",
      "[41] \"region.summary.hic_intact_K562_deep.tsv\"                  \n",
      "[42] \"region.summary.hic_intact_K562_ENCSR479XDG.tsv\"           \n",
      "[43] \"region.summary.module_tf_shannon.tsv\"                     \n",
      "[44] \"result.summary.chipseq_flagship.tsv\"                      \n",
      "[45] \"result.summary.chipseq_full.tsv\"                          \n",
      "[46] \"result.summary.chipseq_histone.tsv\"                       \n",
      "[47] \"result.summary.chipseq_subset.tsv\"                        \n",
      "[48] \"result.summary.connectivity.loop.tsv\"                     \n",
      "[49] \"result.summary.fcc_peak_call.tsv\"                         \n",
      "[50] \"result.summary.genome_tss.tsv\"                            \n",
      "[51] \"umap.annotation.chipseq.tsv\"                              \n"
     ]
    }
   ],
   "source": [
    "txt_fdiry = file.path(\n",
    "    FD_RES, \n",
    "    \"region_annotation\", \n",
    "    \"fcc_astarr_macs_input_overlap\",\n",
    "    \"summary\"\n",
    ")\n",
    "vec = dir(txt_fdiry)\n",
    "print(vec)"
   ]
  },
  {
   "cell_type": "code",
   "execution_count": 3,
   "id": "64b62dca-2618-4e24-837a-c8083e801436",
   "metadata": {},
   "outputs": [
    {
     "name": "stderr",
     "output_type": "stream",
     "text": [
      "\u001b[1mRows: \u001b[22m\u001b[34m76344\u001b[39m \u001b[1mColumns: \u001b[22m\u001b[34m8\u001b[39m\n",
      "\u001b[36m──\u001b[39m \u001b[1mColumn specification\u001b[22m \u001b[36m────────────────────────────────────────────────────────────────────\u001b[39m\n",
      "\u001b[1mDelimiter:\u001b[22m \"\\t\"\n",
      "\u001b[31mchr\u001b[39m (5): Chrom, Region, Annotation_A, Annotation_B, Label\n",
      "\u001b[32mdbl\u001b[39m (3): ChromStart, ChromEnd, Count\n",
      "\n",
      "\u001b[36mℹ\u001b[39m Use `spec()` to retrieve the full column specification for this data.\n",
      "\u001b[36mℹ\u001b[39m Specify the column types or set `show_col_types = FALSE` to quiet this message.\n"
     ]
    },
    {
     "data": {
      "text/html": [
       "<table class=\"dataframe\">\n",
       "<caption>A tibble: 6 × 8</caption>\n",
       "<thead>\n",
       "\t<tr><th scope=col>Chrom</th><th scope=col>ChromStart</th><th scope=col>ChromEnd</th><th scope=col>Region</th><th scope=col>Annotation_A</th><th scope=col>Annotation_B</th><th scope=col>Count</th><th scope=col>Label</th></tr>\n",
       "\t<tr><th scope=col>&lt;chr&gt;</th><th scope=col>&lt;dbl&gt;</th><th scope=col>&lt;dbl&gt;</th><th scope=col>&lt;chr&gt;</th><th scope=col>&lt;chr&gt;</th><th scope=col>&lt;chr&gt;</th><th scope=col>&lt;dbl&gt;</th><th scope=col>&lt;chr&gt;</th></tr>\n",
       "</thead>\n",
       "<tbody>\n",
       "\t<tr><td>chr1</td><td>778233</td><td>779389</td><td>chr1:778233-779389</td><td>fcc_astarr_macs_input_overlap</td><td>hic_intact_Loop_A_deep</td><td>1</td><td>#Loop == 1</td></tr>\n",
       "\t<tr><td>chr1</td><td>826796</td><td>828040</td><td>chr1:826796-828040</td><td>fcc_astarr_macs_input_overlap</td><td>hic_intact_Loop_B_deep</td><td>1</td><td>#Loop == 1</td></tr>\n",
       "\t<tr><td>chr1</td><td>869637</td><td>870233</td><td>chr1:869637-870233</td><td>fcc_astarr_macs_input_overlap</td><td>hic_intact_Loop_A_deep</td><td>3</td><td>#Loop == 3</td></tr>\n",
       "\t<tr><td>chr1</td><td>903783</td><td>905204</td><td>chr1:903783-905204</td><td>fcc_astarr_macs_input_overlap</td><td>hic_intact_Loop_A_deep</td><td>2</td><td>#Loop == 2</td></tr>\n",
       "\t<tr><td>chr1</td><td>906659</td><td>907222</td><td>chr1:906659-907222</td><td>fcc_astarr_macs_input_overlap</td><td>hic_intact_Loop_A_deep</td><td>2</td><td>#Loop == 2</td></tr>\n",
       "\t<tr><td>chr1</td><td>920937</td><td>921509</td><td>chr1:920937-921509</td><td>fcc_astarr_macs_input_overlap</td><td>hic_intact_Loop_A_deep</td><td>2</td><td>#Loop == 2</td></tr>\n",
       "</tbody>\n",
       "</table>\n"
      ],
      "text/latex": [
       "A tibble: 6 × 8\n",
       "\\begin{tabular}{llllllll}\n",
       " Chrom & ChromStart & ChromEnd & Region & Annotation\\_A & Annotation\\_B & Count & Label\\\\\n",
       " <chr> & <dbl> & <dbl> & <chr> & <chr> & <chr> & <dbl> & <chr>\\\\\n",
       "\\hline\n",
       "\t chr1 & 778233 & 779389 & chr1:778233-779389 & fcc\\_astarr\\_macs\\_input\\_overlap & hic\\_intact\\_Loop\\_A\\_deep & 1 & \\#Loop == 1\\\\\n",
       "\t chr1 & 826796 & 828040 & chr1:826796-828040 & fcc\\_astarr\\_macs\\_input\\_overlap & hic\\_intact\\_Loop\\_B\\_deep & 1 & \\#Loop == 1\\\\\n",
       "\t chr1 & 869637 & 870233 & chr1:869637-870233 & fcc\\_astarr\\_macs\\_input\\_overlap & hic\\_intact\\_Loop\\_A\\_deep & 3 & \\#Loop == 3\\\\\n",
       "\t chr1 & 903783 & 905204 & chr1:903783-905204 & fcc\\_astarr\\_macs\\_input\\_overlap & hic\\_intact\\_Loop\\_A\\_deep & 2 & \\#Loop == 2\\\\\n",
       "\t chr1 & 906659 & 907222 & chr1:906659-907222 & fcc\\_astarr\\_macs\\_input\\_overlap & hic\\_intact\\_Loop\\_A\\_deep & 2 & \\#Loop == 2\\\\\n",
       "\t chr1 & 920937 & 921509 & chr1:920937-921509 & fcc\\_astarr\\_macs\\_input\\_overlap & hic\\_intact\\_Loop\\_A\\_deep & 2 & \\#Loop == 2\\\\\n",
       "\\end{tabular}\n"
      ],
      "text/markdown": [
       "\n",
       "A tibble: 6 × 8\n",
       "\n",
       "| Chrom &lt;chr&gt; | ChromStart &lt;dbl&gt; | ChromEnd &lt;dbl&gt; | Region &lt;chr&gt; | Annotation_A &lt;chr&gt; | Annotation_B &lt;chr&gt; | Count &lt;dbl&gt; | Label &lt;chr&gt; |\n",
       "|---|---|---|---|---|---|---|---|\n",
       "| chr1 | 778233 | 779389 | chr1:778233-779389 | fcc_astarr_macs_input_overlap | hic_intact_Loop_A_deep | 1 | #Loop == 1 |\n",
       "| chr1 | 826796 | 828040 | chr1:826796-828040 | fcc_astarr_macs_input_overlap | hic_intact_Loop_B_deep | 1 | #Loop == 1 |\n",
       "| chr1 | 869637 | 870233 | chr1:869637-870233 | fcc_astarr_macs_input_overlap | hic_intact_Loop_A_deep | 3 | #Loop == 3 |\n",
       "| chr1 | 903783 | 905204 | chr1:903783-905204 | fcc_astarr_macs_input_overlap | hic_intact_Loop_A_deep | 2 | #Loop == 2 |\n",
       "| chr1 | 906659 | 907222 | chr1:906659-907222 | fcc_astarr_macs_input_overlap | hic_intact_Loop_A_deep | 2 | #Loop == 2 |\n",
       "| chr1 | 920937 | 921509 | chr1:920937-921509 | fcc_astarr_macs_input_overlap | hic_intact_Loop_A_deep | 2 | #Loop == 2 |\n",
       "\n"
      ],
      "text/plain": [
       "  Chrom ChromStart ChromEnd Region             Annotation_A                 \n",
       "1 chr1  778233     779389   chr1:778233-779389 fcc_astarr_macs_input_overlap\n",
       "2 chr1  826796     828040   chr1:826796-828040 fcc_astarr_macs_input_overlap\n",
       "3 chr1  869637     870233   chr1:869637-870233 fcc_astarr_macs_input_overlap\n",
       "4 chr1  903783     905204   chr1:903783-905204 fcc_astarr_macs_input_overlap\n",
       "5 chr1  906659     907222   chr1:906659-907222 fcc_astarr_macs_input_overlap\n",
       "6 chr1  920937     921509   chr1:920937-921509 fcc_astarr_macs_input_overlap\n",
       "  Annotation_B           Count Label     \n",
       "1 hic_intact_Loop_A_deep 1     #Loop == 1\n",
       "2 hic_intact_Loop_B_deep 1     #Loop == 1\n",
       "3 hic_intact_Loop_A_deep 3     #Loop == 3\n",
       "4 hic_intact_Loop_A_deep 2     #Loop == 2\n",
       "5 hic_intact_Loop_A_deep 2     #Loop == 2\n",
       "6 hic_intact_Loop_A_deep 2     #Loop == 2"
      ]
     },
     "metadata": {},
     "output_type": "display_data"
    }
   ],
   "source": [
    "txt_fdiry = file.path(\n",
    "    FD_RES, \n",
    "    \"region_annotation\", \n",
    "    \"fcc_astarr_macs_input_overlap\",\n",
    "    \"summary\"\n",
    ")\n",
    "txt_fname = \"result.summary.connectivity.loop.tsv\"\n",
    "txt_fpath = file.path(txt_fdiry, txt_fname)\n",
    "\n",
    "dat = read_tsv(txt_fpath)\n",
    "\n",
    "dat_annot_loop = dat\n",
    "head(dat)"
   ]
  },
  {
   "cell_type": "code",
   "execution_count": 4,
   "id": "64ee9cfb-f6ff-46f1-ab67-e2a8e3b3c219",
   "metadata": {},
   "outputs": [
    {
     "data": {
      "text/html": [
       "<table class=\"dataframe\">\n",
       "<caption>A spec_tbl_df: 1 × 8</caption>\n",
       "<thead>\n",
       "\t<tr><th scope=col>Chrom</th><th scope=col>ChromStart</th><th scope=col>ChromEnd</th><th scope=col>Region</th><th scope=col>Annotation_A</th><th scope=col>Annotation_B</th><th scope=col>Count</th><th scope=col>Label</th></tr>\n",
       "\t<tr><th scope=col>&lt;chr&gt;</th><th scope=col>&lt;dbl&gt;</th><th scope=col>&lt;dbl&gt;</th><th scope=col>&lt;chr&gt;</th><th scope=col>&lt;chr&gt;</th><th scope=col>&lt;chr&gt;</th><th scope=col>&lt;dbl&gt;</th><th scope=col>&lt;chr&gt;</th></tr>\n",
       "</thead>\n",
       "<tbody>\n",
       "\t<tr><td>chr6</td><td>32968088</td><td>32970973</td><td>chr6:32968088-32970973</td><td>fcc_astarr_macs_input_overlap</td><td>hic_intact_Loop_B_deep</td><td>8</td><td>#Loop == 8</td></tr>\n",
       "</tbody>\n",
       "</table>\n"
      ],
      "text/latex": [
       "A spec\\_tbl\\_df: 1 × 8\n",
       "\\begin{tabular}{llllllll}\n",
       " Chrom & ChromStart & ChromEnd & Region & Annotation\\_A & Annotation\\_B & Count & Label\\\\\n",
       " <chr> & <dbl> & <dbl> & <chr> & <chr> & <chr> & <dbl> & <chr>\\\\\n",
       "\\hline\n",
       "\t chr6 & 32968088 & 32970973 & chr6:32968088-32970973 & fcc\\_astarr\\_macs\\_input\\_overlap & hic\\_intact\\_Loop\\_B\\_deep & 8 & \\#Loop == 8\\\\\n",
       "\\end{tabular}\n"
      ],
      "text/markdown": [
       "\n",
       "A spec_tbl_df: 1 × 8\n",
       "\n",
       "| Chrom &lt;chr&gt; | ChromStart &lt;dbl&gt; | ChromEnd &lt;dbl&gt; | Region &lt;chr&gt; | Annotation_A &lt;chr&gt; | Annotation_B &lt;chr&gt; | Count &lt;dbl&gt; | Label &lt;chr&gt; |\n",
       "|---|---|---|---|---|---|---|---|\n",
       "| chr6 | 32968088 | 32970973 | chr6:32968088-32970973 | fcc_astarr_macs_input_overlap | hic_intact_Loop_B_deep | 8 | #Loop == 8 |\n",
       "\n"
      ],
      "text/plain": [
       "  Chrom ChromStart ChromEnd Region                \n",
       "1 chr6  32968088   32970973 chr6:32968088-32970973\n",
       "  Annotation_A                  Annotation_B           Count Label     \n",
       "1 fcc_astarr_macs_input_overlap hic_intact_Loop_B_deep 8     #Loop == 8"
      ]
     },
     "metadata": {},
     "output_type": "display_data"
    }
   ],
   "source": [
    "dat %>% dplyr::filter(Count == 8)"
   ]
  },
  {
   "cell_type": "code",
   "execution_count": 6,
   "id": "7ab71bef-acff-4024-9238-ce84d3c1a129",
   "metadata": {},
   "outputs": [
    {
     "data": {
      "text/html": [
       "<table class=\"dataframe\">\n",
       "<caption>A spec_tbl_df: 0 × 8</caption>\n",
       "<thead>\n",
       "\t<tr><th scope=col>Chrom</th><th scope=col>ChromStart</th><th scope=col>ChromEnd</th><th scope=col>Region</th><th scope=col>Annotation_A</th><th scope=col>Annotation_B</th><th scope=col>Count</th><th scope=col>Label</th></tr>\n",
       "\t<tr><th scope=col>&lt;chr&gt;</th><th scope=col>&lt;dbl&gt;</th><th scope=col>&lt;dbl&gt;</th><th scope=col>&lt;chr&gt;</th><th scope=col>&lt;chr&gt;</th><th scope=col>&lt;chr&gt;</th><th scope=col>&lt;dbl&gt;</th><th scope=col>&lt;chr&gt;</th></tr>\n",
       "</thead>\n",
       "<tbody>\n",
       "</tbody>\n",
       "</table>\n"
      ],
      "text/latex": [
       "A spec\\_tbl\\_df: 0 × 8\n",
       "\\begin{tabular}{llllllll}\n",
       " Chrom & ChromStart & ChromEnd & Region & Annotation\\_A & Annotation\\_B & Count & Label\\\\\n",
       " <chr> & <dbl> & <dbl> & <chr> & <chr> & <chr> & <dbl> & <chr>\\\\\n",
       "\\hline\n",
       "\\end{tabular}\n"
      ],
      "text/markdown": [
       "\n",
       "A spec_tbl_df: 0 × 8\n",
       "\n",
       "| Chrom &lt;chr&gt; | ChromStart &lt;dbl&gt; | ChromEnd &lt;dbl&gt; | Region &lt;chr&gt; | Annotation_A &lt;chr&gt; | Annotation_B &lt;chr&gt; | Count &lt;dbl&gt; | Label &lt;chr&gt; |\n",
       "|---|---|---|---|---|---|---|---|\n",
       "\n"
      ],
      "text/plain": [
       "     Chrom ChromStart ChromEnd Region Annotation_A Annotation_B Count Label"
      ]
     },
     "metadata": {},
     "output_type": "display_data"
    }
   ],
   "source": [
    "dat %>% dplyr::filter(Region == \"chr6:32837729-32839169\")"
   ]
  },
  {
   "cell_type": "code",
   "execution_count": null,
   "id": "e6bb2d09-8fcd-4f68-91db-b21c5591657c",
   "metadata": {},
   "outputs": [],
   "source": []
  }
 ],
 "metadata": {
  "kernelspec": {
   "display_name": "R",
   "language": "R",
   "name": "ir"
  },
  "language_info": {
   "codemirror_mode": "r",
   "file_extension": ".r",
   "mimetype": "text/x-r-source",
   "name": "R",
   "pygments_lexer": "r",
   "version": "4.4.1"
  }
 },
 "nbformat": 4,
 "nbformat_minor": 5
}
