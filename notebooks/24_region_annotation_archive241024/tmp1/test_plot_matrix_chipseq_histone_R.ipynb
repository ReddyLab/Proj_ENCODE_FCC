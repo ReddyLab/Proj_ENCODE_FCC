{
 "cells": [
  {
   "cell_type": "code",
   "execution_count": null,
   "id": "7cca7c04-86b9-4e88-a14c-0ca75261da2b",
   "metadata": {},
   "outputs": [],
   "source": []
  },
  {
   "cell_type": "markdown",
   "id": "53c4e9e8-ac47-445a-a4e8-83e6ea9f0619",
   "metadata": {},
   "source": [
    "**Set environment**"
   ]
  },
  {
   "cell_type": "code",
   "execution_count": 1,
   "id": "28af9759-df67-46ce-bdc9-56af749dea9c",
   "metadata": {
    "tags": []
   },
   "outputs": [
    {
     "name": "stdout",
     "output_type": "stream",
     "text": [
      "You are working on        Singularity \n",
      "BASE DIRECTORY (FD_BASE): /mount \n",
      "REPO DIRECTORY (FD_REPO): /mount/repo \n",
      "WORK DIRECTORY (FD_WORK): /mount/work \n",
      "DATA DIRECTORY (FD_DATA): /mount/data \n",
      "\n",
      "You are working with      ENCODE FCC \n",
      "PATH OF PROJECT (FD_PRJ): /mount/repo/Proj_ENCODE_FCC \n",
      "PROJECT RESULTS (FD_RES): /mount/repo/Proj_ENCODE_FCC/results \n",
      "PROJECT SCRIPTS (FD_EXE): /mount/repo/Proj_ENCODE_FCC/scripts \n",
      "PROJECT DATA    (FD_DAT): /mount/repo/Proj_ENCODE_FCC/data \n",
      "PROJECT NOTE    (FD_NBK): /mount/repo/Proj_ENCODE_FCC/notebooks \n",
      "PROJECT DOCS    (FD_DOC): /mount/repo/Proj_ENCODE_FCC/docs \n",
      "PROJECT LOG     (FD_LOG): /mount/repo/Proj_ENCODE_FCC/log \n",
      "PROJECT APP     (FD_APP): /mount/repo/Proj_ENCODE_FCC/app \n",
      "PROJECT REF     (FD_REF): /mount/repo/Proj_ENCODE_FCC/references \n",
      "\n"
     ]
    }
   ],
   "source": [
    "suppressMessages(suppressWarnings(source(\"../run_config_project_sing.R\")))\n",
    "show_env()"
   ]
  },
  {
   "cell_type": "code",
   "execution_count": 2,
   "id": "ba913cf5-b7db-4678-b573-d957f55aaee0",
   "metadata": {},
   "outputs": [
    {
     "name": "stdout",
     "output_type": "stream",
     "text": [
      " [1] \"region.summary.encode_chipseq_flagship.tsv\"    \n",
      " [2] \"region.summary.encode_chipseq_histone.tsv\"     \n",
      " [3] \"region.summary.encode_chipseq_subset.tsv\"      \n",
      " [4] \"region.summary.encode_chromatin_states.tsv\"    \n",
      " [5] \"region.summary.fcc_astarr_csaw.tsv\"            \n",
      " [6] \"region.summary.fcc_crispri_hcrff.tsv\"          \n",
      " [7] \"region.summary.genome_tss.tsv\"                 \n",
      " [8] \"region.summary.hic_insitu_K562_ENCSR545YBD.tsv\"\n",
      " [9] \"region.summary.hic_intact_K562_deep.tsv\"       \n",
      "[10] \"region.summary.hic_intact_K562_ENCSR479XDG.tsv\"\n"
     ]
    }
   ],
   "source": [
    "txt_fdiry = file.path(\n",
    "    FD_RES, \n",
    "    \"region_annotation\", \n",
    "    \"fcc_astarr_macs_input_overlap\",\n",
    "    \"summary\"\n",
    ")\n",
    "vec = dir(txt_fdiry)\n",
    "print(vec)"
   ]
  },
  {
   "cell_type": "code",
   "execution_count": 3,
   "id": "6baac15b-2e2b-428e-80ff-a794652f7588",
   "metadata": {},
   "outputs": [
    {
     "name": "stderr",
     "output_type": "stream",
     "text": [
      "\u001b[1mRows: \u001b[22m\u001b[34m511609\u001b[39m \u001b[1mColumns: \u001b[22m\u001b[34m10\u001b[39m\n",
      "\u001b[36m──\u001b[39m \u001b[1mColumn specification\u001b[22m \u001b[36m───────────────────────────────────────────────────────────────\u001b[39m\n",
      "\u001b[1mDelimiter:\u001b[22m \"\\t\"\n",
      "\u001b[31mchr\u001b[39m (7): Chrom_A, Region_A, Annotation_A, Annotation_B, Group_B, Label_B, Re...\n",
      "\u001b[32mdbl\u001b[39m (3): ChromStart_A, ChromEnd_A, Count\n",
      "\n",
      "\u001b[36mℹ\u001b[39m Use `spec()` to retrieve the full column specification for this data.\n",
      "\u001b[36mℹ\u001b[39m Specify the column types or set `show_col_types = FALSE` to quiet this message.\n"
     ]
    },
    {
     "name": "stdout",
     "output_type": "stream",
     "text": [
      "[1] 511609     10\n"
     ]
    },
    {
     "data": {
      "text/html": [
       "<table class=\"dataframe\">\n",
       "<caption>A tibble: 6 × 10</caption>\n",
       "<thead>\n",
       "\t<tr><th scope=col>Chrom_A</th><th scope=col>ChromStart_A</th><th scope=col>ChromEnd_A</th><th scope=col>Region_A</th><th scope=col>Annotation_A</th><th scope=col>Annotation_B</th><th scope=col>Group_B</th><th scope=col>Label_B</th><th scope=col>Region_B</th><th scope=col>Count</th></tr>\n",
       "\t<tr><th scope=col>&lt;chr&gt;</th><th scope=col>&lt;dbl&gt;</th><th scope=col>&lt;dbl&gt;</th><th scope=col>&lt;chr&gt;</th><th scope=col>&lt;chr&gt;</th><th scope=col>&lt;chr&gt;</th><th scope=col>&lt;chr&gt;</th><th scope=col>&lt;chr&gt;</th><th scope=col>&lt;chr&gt;</th><th scope=col>&lt;dbl&gt;</th></tr>\n",
       "</thead>\n",
       "<tbody>\n",
       "\t<tr><td>chr1</td><td> 16025</td><td> 16338</td><td>chr1:16025-16338  </td><td>fcc_astarr_macs_input_overlap</td><td>chipseq_H3K36me3_ENCFF193ERO</td><td>ChIP-seq; Histone</td><td>H3K36me3</td><td>chr1:16092-16380  </td><td>1</td></tr>\n",
       "\t<tr><td>chr1</td><td> 16025</td><td> 16338</td><td>chr1:16025-16338  </td><td>fcc_astarr_macs_input_overlap</td><td>chipseq_H3K36me3_ENCFF561OUZ</td><td>ChIP-seq; Histone</td><td>H3K36me3</td><td>chr1:16209-16339  </td><td>1</td></tr>\n",
       "\t<tr><td>chr1</td><td>137748</td><td>138049</td><td>chr1:137748-138049</td><td>fcc_astarr_macs_input_overlap</td><td>chipseq_H3K27ac_ENCFF544LXB </td><td>ChIP-seq; Histone</td><td>H3K27ac </td><td>chr1:137650-138169</td><td>1</td></tr>\n",
       "\t<tr><td>chr1</td><td>137748</td><td>138049</td><td>chr1:137748-138049</td><td>fcc_astarr_macs_input_overlap</td><td>chipseq_H3K4me2_ENCFF749KLQ </td><td>ChIP-seq; Histone</td><td>H3K4me2 </td><td>chr1:137654-138013</td><td>1</td></tr>\n",
       "\t<tr><td>chr1</td><td>137748</td><td>138049</td><td>chr1:137748-138049</td><td>fcc_astarr_macs_input_overlap</td><td>chipseq_H3K4me3_ENCFF122CSI </td><td>ChIP-seq; Histone</td><td>H3K4me3 </td><td>chr1:137633-138169</td><td>1</td></tr>\n",
       "\t<tr><td>chr1</td><td>137748</td><td>138049</td><td>chr1:137748-138049</td><td>fcc_astarr_macs_input_overlap</td><td>chipseq_H3K4me3_ENCFF689QIJ </td><td>ChIP-seq; Histone</td><td>H3K4me3 </td><td>chr1:137660-138147</td><td>1</td></tr>\n",
       "</tbody>\n",
       "</table>\n"
      ],
      "text/latex": [
       "A tibble: 6 × 10\n",
       "\\begin{tabular}{llllllllll}\n",
       " Chrom\\_A & ChromStart\\_A & ChromEnd\\_A & Region\\_A & Annotation\\_A & Annotation\\_B & Group\\_B & Label\\_B & Region\\_B & Count\\\\\n",
       " <chr> & <dbl> & <dbl> & <chr> & <chr> & <chr> & <chr> & <chr> & <chr> & <dbl>\\\\\n",
       "\\hline\n",
       "\t chr1 &  16025 &  16338 & chr1:16025-16338   & fcc\\_astarr\\_macs\\_input\\_overlap & chipseq\\_H3K36me3\\_ENCFF193ERO & ChIP-seq; Histone & H3K36me3 & chr1:16092-16380   & 1\\\\\n",
       "\t chr1 &  16025 &  16338 & chr1:16025-16338   & fcc\\_astarr\\_macs\\_input\\_overlap & chipseq\\_H3K36me3\\_ENCFF561OUZ & ChIP-seq; Histone & H3K36me3 & chr1:16209-16339   & 1\\\\\n",
       "\t chr1 & 137748 & 138049 & chr1:137748-138049 & fcc\\_astarr\\_macs\\_input\\_overlap & chipseq\\_H3K27ac\\_ENCFF544LXB  & ChIP-seq; Histone & H3K27ac  & chr1:137650-138169 & 1\\\\\n",
       "\t chr1 & 137748 & 138049 & chr1:137748-138049 & fcc\\_astarr\\_macs\\_input\\_overlap & chipseq\\_H3K4me2\\_ENCFF749KLQ  & ChIP-seq; Histone & H3K4me2  & chr1:137654-138013 & 1\\\\\n",
       "\t chr1 & 137748 & 138049 & chr1:137748-138049 & fcc\\_astarr\\_macs\\_input\\_overlap & chipseq\\_H3K4me3\\_ENCFF122CSI  & ChIP-seq; Histone & H3K4me3  & chr1:137633-138169 & 1\\\\\n",
       "\t chr1 & 137748 & 138049 & chr1:137748-138049 & fcc\\_astarr\\_macs\\_input\\_overlap & chipseq\\_H3K4me3\\_ENCFF689QIJ  & ChIP-seq; Histone & H3K4me3  & chr1:137660-138147 & 1\\\\\n",
       "\\end{tabular}\n"
      ],
      "text/markdown": [
       "\n",
       "A tibble: 6 × 10\n",
       "\n",
       "| Chrom_A &lt;chr&gt; | ChromStart_A &lt;dbl&gt; | ChromEnd_A &lt;dbl&gt; | Region_A &lt;chr&gt; | Annotation_A &lt;chr&gt; | Annotation_B &lt;chr&gt; | Group_B &lt;chr&gt; | Label_B &lt;chr&gt; | Region_B &lt;chr&gt; | Count &lt;dbl&gt; |\n",
       "|---|---|---|---|---|---|---|---|---|---|\n",
       "| chr1 |  16025 |  16338 | chr1:16025-16338   | fcc_astarr_macs_input_overlap | chipseq_H3K36me3_ENCFF193ERO | ChIP-seq; Histone | H3K36me3 | chr1:16092-16380   | 1 |\n",
       "| chr1 |  16025 |  16338 | chr1:16025-16338   | fcc_astarr_macs_input_overlap | chipseq_H3K36me3_ENCFF561OUZ | ChIP-seq; Histone | H3K36me3 | chr1:16209-16339   | 1 |\n",
       "| chr1 | 137748 | 138049 | chr1:137748-138049 | fcc_astarr_macs_input_overlap | chipseq_H3K27ac_ENCFF544LXB  | ChIP-seq; Histone | H3K27ac  | chr1:137650-138169 | 1 |\n",
       "| chr1 | 137748 | 138049 | chr1:137748-138049 | fcc_astarr_macs_input_overlap | chipseq_H3K4me2_ENCFF749KLQ  | ChIP-seq; Histone | H3K4me2  | chr1:137654-138013 | 1 |\n",
       "| chr1 | 137748 | 138049 | chr1:137748-138049 | fcc_astarr_macs_input_overlap | chipseq_H3K4me3_ENCFF122CSI  | ChIP-seq; Histone | H3K4me3  | chr1:137633-138169 | 1 |\n",
       "| chr1 | 137748 | 138049 | chr1:137748-138049 | fcc_astarr_macs_input_overlap | chipseq_H3K4me3_ENCFF689QIJ  | ChIP-seq; Histone | H3K4me3  | chr1:137660-138147 | 1 |\n",
       "\n"
      ],
      "text/plain": [
       "  Chrom_A ChromStart_A ChromEnd_A Region_A          \n",
       "1 chr1     16025        16338     chr1:16025-16338  \n",
       "2 chr1     16025        16338     chr1:16025-16338  \n",
       "3 chr1    137748       138049     chr1:137748-138049\n",
       "4 chr1    137748       138049     chr1:137748-138049\n",
       "5 chr1    137748       138049     chr1:137748-138049\n",
       "6 chr1    137748       138049     chr1:137748-138049\n",
       "  Annotation_A                  Annotation_B                 Group_B          \n",
       "1 fcc_astarr_macs_input_overlap chipseq_H3K36me3_ENCFF193ERO ChIP-seq; Histone\n",
       "2 fcc_astarr_macs_input_overlap chipseq_H3K36me3_ENCFF561OUZ ChIP-seq; Histone\n",
       "3 fcc_astarr_macs_input_overlap chipseq_H3K27ac_ENCFF544LXB  ChIP-seq; Histone\n",
       "4 fcc_astarr_macs_input_overlap chipseq_H3K4me2_ENCFF749KLQ  ChIP-seq; Histone\n",
       "5 fcc_astarr_macs_input_overlap chipseq_H3K4me3_ENCFF122CSI  ChIP-seq; Histone\n",
       "6 fcc_astarr_macs_input_overlap chipseq_H3K4me3_ENCFF689QIJ  ChIP-seq; Histone\n",
       "  Label_B  Region_B           Count\n",
       "1 H3K36me3 chr1:16092-16380   1    \n",
       "2 H3K36me3 chr1:16209-16339   1    \n",
       "3 H3K27ac  chr1:137650-138169 1    \n",
       "4 H3K4me2  chr1:137654-138013 1    \n",
       "5 H3K4me3  chr1:137633-138169 1    \n",
       "6 H3K4me3  chr1:137660-138147 1    "
      ]
     },
     "metadata": {},
     "output_type": "display_data"
    }
   ],
   "source": [
    "txt_fdiry = file.path(\n",
    "    FD_RES, \n",
    "    \"region_annotation\", \n",
    "    \"fcc_astarr_macs_input_overlap\",\n",
    "    \"summary\"\n",
    ")\n",
    "txt_fname = \"region.summary.encode_chipseq_histone.tsv\"\n",
    "txt_fpath = file.path(txt_fdiry, txt_fname)\n",
    "\n",
    "dat = read_tsv(txt_fpath)\n",
    "dat_region_import = dat\n",
    "print(dim(dat))\n",
    "head(dat)"
   ]
  },
  {
   "cell_type": "code",
   "execution_count": 4,
   "id": "0b8c4e05-6158-45eb-998a-dab0f563626a",
   "metadata": {},
   "outputs": [
    {
     "name": "stdout",
     "output_type": "stream",
     "text": [
      "[1] 384749      6\n"
     ]
    },
    {
     "data": {
      "text/html": [
       "<table class=\"dataframe\">\n",
       "<caption>A tibble: 6 × 6</caption>\n",
       "<thead>\n",
       "\t<tr><th scope=col>Chrom_A</th><th scope=col>ChromStart_A</th><th scope=col>ChromEnd_A</th><th scope=col>Region_A</th><th scope=col>Label_B</th><th scope=col>Count</th></tr>\n",
       "\t<tr><th scope=col>&lt;chr&gt;</th><th scope=col>&lt;dbl&gt;</th><th scope=col>&lt;dbl&gt;</th><th scope=col>&lt;chr&gt;</th><th scope=col>&lt;chr&gt;</th><th scope=col>&lt;int&gt;</th></tr>\n",
       "</thead>\n",
       "<tbody>\n",
       "\t<tr><td>chr1</td><td> 16025</td><td> 16338</td><td>chr1:16025-16338  </td><td>H3K36me3</td><td>2</td></tr>\n",
       "\t<tr><td>chr1</td><td>137748</td><td>138049</td><td>chr1:137748-138049</td><td>H3K27ac </td><td>1</td></tr>\n",
       "\t<tr><td>chr1</td><td>137748</td><td>138049</td><td>chr1:137748-138049</td><td>H3K4me2 </td><td>1</td></tr>\n",
       "\t<tr><td>chr1</td><td>137748</td><td>138049</td><td>chr1:137748-138049</td><td>H3K4me3 </td><td>4</td></tr>\n",
       "\t<tr><td>chr1</td><td>137748</td><td>138049</td><td>chr1:137748-138049</td><td>H3K79me2</td><td>1</td></tr>\n",
       "\t<tr><td>chr1</td><td>137748</td><td>138049</td><td>chr1:137748-138049</td><td>H3K9ac  </td><td>2</td></tr>\n",
       "</tbody>\n",
       "</table>\n"
      ],
      "text/latex": [
       "A tibble: 6 × 6\n",
       "\\begin{tabular}{llllll}\n",
       " Chrom\\_A & ChromStart\\_A & ChromEnd\\_A & Region\\_A & Label\\_B & Count\\\\\n",
       " <chr> & <dbl> & <dbl> & <chr> & <chr> & <int>\\\\\n",
       "\\hline\n",
       "\t chr1 &  16025 &  16338 & chr1:16025-16338   & H3K36me3 & 2\\\\\n",
       "\t chr1 & 137748 & 138049 & chr1:137748-138049 & H3K27ac  & 1\\\\\n",
       "\t chr1 & 137748 & 138049 & chr1:137748-138049 & H3K4me2  & 1\\\\\n",
       "\t chr1 & 137748 & 138049 & chr1:137748-138049 & H3K4me3  & 4\\\\\n",
       "\t chr1 & 137748 & 138049 & chr1:137748-138049 & H3K79me2 & 1\\\\\n",
       "\t chr1 & 137748 & 138049 & chr1:137748-138049 & H3K9ac   & 2\\\\\n",
       "\\end{tabular}\n"
      ],
      "text/markdown": [
       "\n",
       "A tibble: 6 × 6\n",
       "\n",
       "| Chrom_A &lt;chr&gt; | ChromStart_A &lt;dbl&gt; | ChromEnd_A &lt;dbl&gt; | Region_A &lt;chr&gt; | Label_B &lt;chr&gt; | Count &lt;int&gt; |\n",
       "|---|---|---|---|---|---|\n",
       "| chr1 |  16025 |  16338 | chr1:16025-16338   | H3K36me3 | 2 |\n",
       "| chr1 | 137748 | 138049 | chr1:137748-138049 | H3K27ac  | 1 |\n",
       "| chr1 | 137748 | 138049 | chr1:137748-138049 | H3K4me2  | 1 |\n",
       "| chr1 | 137748 | 138049 | chr1:137748-138049 | H3K4me3  | 4 |\n",
       "| chr1 | 137748 | 138049 | chr1:137748-138049 | H3K79me2 | 1 |\n",
       "| chr1 | 137748 | 138049 | chr1:137748-138049 | H3K9ac   | 2 |\n",
       "\n"
      ],
      "text/plain": [
       "  Chrom_A ChromStart_A ChromEnd_A Region_A           Label_B  Count\n",
       "1 chr1     16025        16338     chr1:16025-16338   H3K36me3 2    \n",
       "2 chr1    137748       138049     chr1:137748-138049 H3K27ac  1    \n",
       "3 chr1    137748       138049     chr1:137748-138049 H3K4me2  1    \n",
       "4 chr1    137748       138049     chr1:137748-138049 H3K4me3  4    \n",
       "5 chr1    137748       138049     chr1:137748-138049 H3K79me2 1    \n",
       "6 chr1    137748       138049     chr1:137748-138049 H3K9ac   2    "
      ]
     },
     "metadata": {},
     "output_type": "display_data"
    }
   ],
   "source": [
    "dat = dat_region_import\n",
    "dat = dat %>% \n",
    "    dplyr::group_by(Chrom_A, ChromStart_A, ChromEnd_A, Region_A, Label_B) %>%\n",
    "    dplyr::summarise(Count = n(), .groups = \"drop\")\n",
    "\n",
    "dat_region_arrange = dat\n",
    "print(dim(dat))\n",
    "head(dat)"
   ]
  },
  {
   "cell_type": "code",
   "execution_count": 23,
   "id": "95ea37ec-47fe-40a6-9ff7-8775a935193d",
   "metadata": {},
   "outputs": [
    {
     "data": {
      "text/html": [
       "<table class=\"dataframe\">\n",
       "<caption>A tibble: 6 × 6</caption>\n",
       "<thead>\n",
       "\t<tr><th scope=col>Chrom_A</th><th scope=col>ChromStart_A</th><th scope=col>ChromEnd_A</th><th scope=col>Region_A</th><th scope=col>Label_B</th><th scope=col>Value</th></tr>\n",
       "\t<tr><th scope=col>&lt;chr&gt;</th><th scope=col>&lt;dbl&gt;</th><th scope=col>&lt;dbl&gt;</th><th scope=col>&lt;chr&gt;</th><th scope=col>&lt;chr&gt;</th><th scope=col>&lt;dbl&gt;</th></tr>\n",
       "</thead>\n",
       "<tbody>\n",
       "\t<tr><td>chrX</td><td>19497</td><td>20820</td><td>chrX:19497-20820</td><td>H2AFZ  </td><td>1</td></tr>\n",
       "\t<tr><td>chrX</td><td>19497</td><td>20820</td><td>chrX:19497-20820</td><td>H3K4me1</td><td>1</td></tr>\n",
       "\t<tr><td>chrX</td><td>19497</td><td>20820</td><td>chrX:19497-20820</td><td>H3K4me2</td><td>1</td></tr>\n",
       "\t<tr><td>chrX</td><td>19497</td><td>20820</td><td>chrX:19497-20820</td><td>H3K4me3</td><td>1</td></tr>\n",
       "\t<tr><td>chrX</td><td>19497</td><td>20820</td><td>chrX:19497-20820</td><td>H3K9ac </td><td>1</td></tr>\n",
       "\t<tr><td>chrX</td><td>95163</td><td>95655</td><td>chrX:95163-95655</td><td>H2AFZ  </td><td>1</td></tr>\n",
       "</tbody>\n",
       "</table>\n"
      ],
      "text/latex": [
       "A tibble: 6 × 6\n",
       "\\begin{tabular}{llllll}\n",
       " Chrom\\_A & ChromStart\\_A & ChromEnd\\_A & Region\\_A & Label\\_B & Value\\\\\n",
       " <chr> & <dbl> & <dbl> & <chr> & <chr> & <dbl>\\\\\n",
       "\\hline\n",
       "\t chrX & 19497 & 20820 & chrX:19497-20820 & H2AFZ   & 1\\\\\n",
       "\t chrX & 19497 & 20820 & chrX:19497-20820 & H3K4me1 & 1\\\\\n",
       "\t chrX & 19497 & 20820 & chrX:19497-20820 & H3K4me2 & 1\\\\\n",
       "\t chrX & 19497 & 20820 & chrX:19497-20820 & H3K4me3 & 1\\\\\n",
       "\t chrX & 19497 & 20820 & chrX:19497-20820 & H3K9ac  & 1\\\\\n",
       "\t chrX & 95163 & 95655 & chrX:95163-95655 & H2AFZ   & 1\\\\\n",
       "\\end{tabular}\n"
      ],
      "text/markdown": [
       "\n",
       "A tibble: 6 × 6\n",
       "\n",
       "| Chrom_A &lt;chr&gt; | ChromStart_A &lt;dbl&gt; | ChromEnd_A &lt;dbl&gt; | Region_A &lt;chr&gt; | Label_B &lt;chr&gt; | Value &lt;dbl&gt; |\n",
       "|---|---|---|---|---|---|\n",
       "| chrX | 19497 | 20820 | chrX:19497-20820 | H2AFZ   | 1 |\n",
       "| chrX | 19497 | 20820 | chrX:19497-20820 | H3K4me1 | 1 |\n",
       "| chrX | 19497 | 20820 | chrX:19497-20820 | H3K4me2 | 1 |\n",
       "| chrX | 19497 | 20820 | chrX:19497-20820 | H3K4me3 | 1 |\n",
       "| chrX | 19497 | 20820 | chrX:19497-20820 | H3K9ac  | 1 |\n",
       "| chrX | 95163 | 95655 | chrX:95163-95655 | H2AFZ   | 1 |\n",
       "\n"
      ],
      "text/plain": [
       "  Chrom_A ChromStart_A ChromEnd_A Region_A         Label_B Value\n",
       "1 chrX    19497        20820      chrX:19497-20820 H2AFZ   1    \n",
       "2 chrX    19497        20820      chrX:19497-20820 H3K4me1 1    \n",
       "3 chrX    19497        20820      chrX:19497-20820 H3K4me2 1    \n",
       "4 chrX    19497        20820      chrX:19497-20820 H3K4me3 1    \n",
       "5 chrX    19497        20820      chrX:19497-20820 H3K9ac  1    \n",
       "6 chrX    95163        95655      chrX:95163-95655 H2AFZ   1    "
      ]
     },
     "metadata": {},
     "output_type": "display_data"
    }
   ],
   "source": [
    "dat = dat_region_arrange\n",
    "dat = dat %>% \n",
    "    dplyr::filter(Chrom_A == \"chrX\") %>% \n",
    "    dplyr::mutate(Value = 1) %>%\n",
    "    dplyr::select(-Count) %>%\n",
    "    dplyr::distinct() \n",
    "\n",
    "dat_region_subset = dat\n",
    "head(dat)"
   ]
  },
  {
   "cell_type": "code",
   "execution_count": 31,
   "id": "3c356d9d-63c3-40be-a144-e8d043a29485",
   "metadata": {},
   "outputs": [
    {
     "name": "stdout",
     "output_type": "stream",
     "text": [
      "[1] 8757    7\n"
     ]
    },
    {
     "data": {
      "text/html": [
       "<table class=\"dataframe\">\n",
       "<caption>A tibble: 6 × 7</caption>\n",
       "<thead>\n",
       "\t<tr><th scope=col>Chrom_A</th><th scope=col>ChromStart_A</th><th scope=col>ChromEnd_A</th><th scope=col>Region_A</th><th scope=col>Label_B</th><th scope=col>Value</th><th scope=col>Index_A</th></tr>\n",
       "\t<tr><th scope=col>&lt;chr&gt;</th><th scope=col>&lt;dbl&gt;</th><th scope=col>&lt;dbl&gt;</th><th scope=col>&lt;fct&gt;</th><th scope=col>&lt;fct&gt;</th><th scope=col>&lt;dbl&gt;</th><th scope=col>&lt;int&gt;</th></tr>\n",
       "</thead>\n",
       "<tbody>\n",
       "\t<tr><td>chrX</td><td>19497</td><td>20820</td><td>chrX:19497-20820</td><td>H2AFZ  </td><td>1</td><td>1</td></tr>\n",
       "\t<tr><td>chrX</td><td>19497</td><td>20820</td><td>chrX:19497-20820</td><td>H3K4me1</td><td>1</td><td>1</td></tr>\n",
       "\t<tr><td>chrX</td><td>19497</td><td>20820</td><td>chrX:19497-20820</td><td>H3K4me2</td><td>1</td><td>1</td></tr>\n",
       "\t<tr><td>chrX</td><td>19497</td><td>20820</td><td>chrX:19497-20820</td><td>H3K4me3</td><td>1</td><td>1</td></tr>\n",
       "\t<tr><td>chrX</td><td>19497</td><td>20820</td><td>chrX:19497-20820</td><td>H3K9ac </td><td>1</td><td>1</td></tr>\n",
       "\t<tr><td>chrX</td><td>95163</td><td>95655</td><td>chrX:95163-95655</td><td>H2AFZ  </td><td>1</td><td>2</td></tr>\n",
       "</tbody>\n",
       "</table>\n"
      ],
      "text/latex": [
       "A tibble: 6 × 7\n",
       "\\begin{tabular}{lllllll}\n",
       " Chrom\\_A & ChromStart\\_A & ChromEnd\\_A & Region\\_A & Label\\_B & Value & Index\\_A\\\\\n",
       " <chr> & <dbl> & <dbl> & <fct> & <fct> & <dbl> & <int>\\\\\n",
       "\\hline\n",
       "\t chrX & 19497 & 20820 & chrX:19497-20820 & H2AFZ   & 1 & 1\\\\\n",
       "\t chrX & 19497 & 20820 & chrX:19497-20820 & H3K4me1 & 1 & 1\\\\\n",
       "\t chrX & 19497 & 20820 & chrX:19497-20820 & H3K4me2 & 1 & 1\\\\\n",
       "\t chrX & 19497 & 20820 & chrX:19497-20820 & H3K4me3 & 1 & 1\\\\\n",
       "\t chrX & 19497 & 20820 & chrX:19497-20820 & H3K9ac  & 1 & 1\\\\\n",
       "\t chrX & 95163 & 95655 & chrX:95163-95655 & H2AFZ   & 1 & 2\\\\\n",
       "\\end{tabular}\n"
      ],
      "text/markdown": [
       "\n",
       "A tibble: 6 × 7\n",
       "\n",
       "| Chrom_A &lt;chr&gt; | ChromStart_A &lt;dbl&gt; | ChromEnd_A &lt;dbl&gt; | Region_A &lt;fct&gt; | Label_B &lt;fct&gt; | Value &lt;dbl&gt; | Index_A &lt;int&gt; |\n",
       "|---|---|---|---|---|---|---|\n",
       "| chrX | 19497 | 20820 | chrX:19497-20820 | H2AFZ   | 1 | 1 |\n",
       "| chrX | 19497 | 20820 | chrX:19497-20820 | H3K4me1 | 1 | 1 |\n",
       "| chrX | 19497 | 20820 | chrX:19497-20820 | H3K4me2 | 1 | 1 |\n",
       "| chrX | 19497 | 20820 | chrX:19497-20820 | H3K4me3 | 1 | 1 |\n",
       "| chrX | 19497 | 20820 | chrX:19497-20820 | H3K9ac  | 1 | 1 |\n",
       "| chrX | 95163 | 95655 | chrX:95163-95655 | H2AFZ   | 1 | 2 |\n",
       "\n"
      ],
      "text/plain": [
       "  Chrom_A ChromStart_A ChromEnd_A Region_A         Label_B Value Index_A\n",
       "1 chrX    19497        20820      chrX:19497-20820 H2AFZ   1     1      \n",
       "2 chrX    19497        20820      chrX:19497-20820 H3K4me1 1     1      \n",
       "3 chrX    19497        20820      chrX:19497-20820 H3K4me2 1     1      \n",
       "4 chrX    19497        20820      chrX:19497-20820 H3K4me3 1     1      \n",
       "5 chrX    19497        20820      chrX:19497-20820 H3K9ac  1     1      \n",
       "6 chrX    95163        95655      chrX:95163-95655 H2AFZ   1     2      "
      ]
     },
     "metadata": {},
     "output_type": "display_data"
    }
   ],
   "source": [
    "### init\n",
    "dat = dat_region_subset\n",
    "\n",
    "###\n",
    "dat = dat %>% dplyr::arrange(Chrom_A, ChromStart_A, ChromEnd_A)\n",
    "vec = unique(dat$Region_A)\n",
    "vec_txt_region_A = vec\n",
    "\n",
    "###\n",
    "tmp = data.frame(Region_A = vec, Index_A = 1:length(vec))\n",
    "dat = dat %>% dplyr::left_join(tmp, by=\"Region_A\")\n",
    "\n",
    "###\n",
    "mat = dat %>% \n",
    "    tidyr::spread(Label_B, Value) %>%\n",
    "    replace(is.na(.), 0)\n",
    "vec = mat$Index_A\n",
    "mat = mat %>% dplyr::select(-dplyr::contains(c(\"Chrom\", \"Region\", \"Index\")))\n",
    "res = apply(mat, 2, function(x){\n",
    "    num = cor(x, vec, method = \"spearman\")\n",
    "    return(num)\n",
    "})\n",
    "\n",
    "###\n",
    "vec = names(sort(res))\n",
    "vec_txt_label_B = vec\n",
    "\n",
    "###\n",
    "dat = dat %>% \n",
    "    dplyr::mutate(\n",
    "        Region_A = factor(Region_A, levels = rev(vec_txt_region_A)),\n",
    "        Label_B  = factor(Label_B,  levels =  vec_txt_label_B)\n",
    "    ) \n",
    "\n",
    "### assign and show\n",
    "dat_region_ordered = dat\n",
    "print(dim(dat))\n",
    "head(dat)"
   ]
  },
  {
   "cell_type": "code",
   "execution_count": 32,
   "id": "bf04a840-d3a3-4712-ba65-aae831858d8a",
   "metadata": {},
   "outputs": [
    {
     "data": {
      "image/png": "[encoded data removed]",
      "text/plain": [
       "plot without title"
      ]
     },
     "metadata": {
      "image/png": {
       "height": 420,
       "width": 420
      }
     },
     "output_type": "display_data"
    }
   ],
   "source": [
    "gpt = ggplot(dat, aes(x=Label_B, y=Region_A, fill=Value)) +\n",
    "    geom_tile() + \n",
    "    labs(x=\"ChIP-seq; Histone\", y=\"ATAC\") +\n",
    "    theme_cowplot() +\n",
    "    theme(\n",
    "        axis.text  = element_blank(),\n",
    "        axis.ticks = element_blank(),\n",
    "        legend.position = \"None\"\n",
    "    )\n",
    "print(gpt)"
   ]
  },
  {
   "cell_type": "code",
   "execution_count": 53,
   "id": "ce43d9f3-946f-4734-9a03-516d775bd982",
   "metadata": {},
   "outputs": [],
   "source": [
    "### init\n",
    "dat = dat_region_subset\n",
    "dat = dat %>% dplyr::mutate(Label_B = paste(\"chipseq\", Label_B, sep=\"_\"))\n",
    "\n",
    "mat = dat %>% \n",
    "    tidyr::spread(Label_B, Value) %>%\n",
    "    dplyr::arrange(pick(starts_with(\"chipseq\")))\n",
    "\n",
    "vec_txt_region_A = unique(mat$Region_A)"
   ]
  },
  {
   "cell_type": "code",
   "execution_count": 54,
   "id": "b795f856-98f8-48ce-a886-fed35eba7f31",
   "metadata": {},
   "outputs": [],
   "source": [
    "dat = dat_region_subset\n",
    "dat = dat %>% dplyr::mutate(Label_B = paste(\"chipseq\", Label_B, sep=\"_\"))\n",
    "\n",
    "res = as.data.frame(table(dat$Label_B))\n",
    "res = res %>% dplyr::arrange(-Freq)\n",
    "\n",
    "vec_txt_label_B = res$Var1"
   ]
  },
  {
   "cell_type": "code",
   "execution_count": 55,
   "id": "767d48ea-5665-4366-bb72-7df9a0ce905f",
   "metadata": {},
   "outputs": [
    {
     "name": "stdout",
     "output_type": "stream",
     "text": [
      "[1] 8757    6\n"
     ]
    },
    {
     "data": {
      "text/html": [
       "<table class=\"dataframe\">\n",
       "<caption>A tibble: 6 × 6</caption>\n",
       "<thead>\n",
       "\t<tr><th scope=col>Chrom_A</th><th scope=col>ChromStart_A</th><th scope=col>ChromEnd_A</th><th scope=col>Region_A</th><th scope=col>Label_B</th><th scope=col>Value</th></tr>\n",
       "\t<tr><th scope=col>&lt;chr&gt;</th><th scope=col>&lt;dbl&gt;</th><th scope=col>&lt;dbl&gt;</th><th scope=col>&lt;fct&gt;</th><th scope=col>&lt;fct&gt;</th><th scope=col>&lt;dbl&gt;</th></tr>\n",
       "</thead>\n",
       "<tbody>\n",
       "\t<tr><td>chrX</td><td>19497</td><td>20820</td><td>chrX:19497-20820</td><td>chipseq_H2AFZ  </td><td>1</td></tr>\n",
       "\t<tr><td>chrX</td><td>19497</td><td>20820</td><td>chrX:19497-20820</td><td>chipseq_H3K4me1</td><td>1</td></tr>\n",
       "\t<tr><td>chrX</td><td>19497</td><td>20820</td><td>chrX:19497-20820</td><td>chipseq_H3K4me2</td><td>1</td></tr>\n",
       "\t<tr><td>chrX</td><td>19497</td><td>20820</td><td>chrX:19497-20820</td><td>chipseq_H3K4me3</td><td>1</td></tr>\n",
       "\t<tr><td>chrX</td><td>19497</td><td>20820</td><td>chrX:19497-20820</td><td>chipseq_H3K9ac </td><td>1</td></tr>\n",
       "\t<tr><td>chrX</td><td>95163</td><td>95655</td><td>chrX:95163-95655</td><td>chipseq_H2AFZ  </td><td>1</td></tr>\n",
       "</tbody>\n",
       "</table>\n"
      ],
      "text/latex": [
       "A tibble: 6 × 6\n",
       "\\begin{tabular}{llllll}\n",
       " Chrom\\_A & ChromStart\\_A & ChromEnd\\_A & Region\\_A & Label\\_B & Value\\\\\n",
       " <chr> & <dbl> & <dbl> & <fct> & <fct> & <dbl>\\\\\n",
       "\\hline\n",
       "\t chrX & 19497 & 20820 & chrX:19497-20820 & chipseq\\_H2AFZ   & 1\\\\\n",
       "\t chrX & 19497 & 20820 & chrX:19497-20820 & chipseq\\_H3K4me1 & 1\\\\\n",
       "\t chrX & 19497 & 20820 & chrX:19497-20820 & chipseq\\_H3K4me2 & 1\\\\\n",
       "\t chrX & 19497 & 20820 & chrX:19497-20820 & chipseq\\_H3K4me3 & 1\\\\\n",
       "\t chrX & 19497 & 20820 & chrX:19497-20820 & chipseq\\_H3K9ac  & 1\\\\\n",
       "\t chrX & 95163 & 95655 & chrX:95163-95655 & chipseq\\_H2AFZ   & 1\\\\\n",
       "\\end{tabular}\n"
      ],
      "text/markdown": [
       "\n",
       "A tibble: 6 × 6\n",
       "\n",
       "| Chrom_A &lt;chr&gt; | ChromStart_A &lt;dbl&gt; | ChromEnd_A &lt;dbl&gt; | Region_A &lt;fct&gt; | Label_B &lt;fct&gt; | Value &lt;dbl&gt; |\n",
       "|---|---|---|---|---|---|\n",
       "| chrX | 19497 | 20820 | chrX:19497-20820 | chipseq_H2AFZ   | 1 |\n",
       "| chrX | 19497 | 20820 | chrX:19497-20820 | chipseq_H3K4me1 | 1 |\n",
       "| chrX | 19497 | 20820 | chrX:19497-20820 | chipseq_H3K4me2 | 1 |\n",
       "| chrX | 19497 | 20820 | chrX:19497-20820 | chipseq_H3K4me3 | 1 |\n",
       "| chrX | 19497 | 20820 | chrX:19497-20820 | chipseq_H3K9ac  | 1 |\n",
       "| chrX | 95163 | 95655 | chrX:95163-95655 | chipseq_H2AFZ   | 1 |\n",
       "\n"
      ],
      "text/plain": [
       "  Chrom_A ChromStart_A ChromEnd_A Region_A         Label_B         Value\n",
       "1 chrX    19497        20820      chrX:19497-20820 chipseq_H2AFZ   1    \n",
       "2 chrX    19497        20820      chrX:19497-20820 chipseq_H3K4me1 1    \n",
       "3 chrX    19497        20820      chrX:19497-20820 chipseq_H3K4me2 1    \n",
       "4 chrX    19497        20820      chrX:19497-20820 chipseq_H3K4me3 1    \n",
       "5 chrX    19497        20820      chrX:19497-20820 chipseq_H3K9ac  1    \n",
       "6 chrX    95163        95655      chrX:95163-95655 chipseq_H2AFZ   1    "
      ]
     },
     "metadata": {},
     "output_type": "display_data"
    }
   ],
   "source": [
    "dat = dat_region_subset\n",
    "dat = dat %>% dplyr::mutate(Label_B = paste(\"chipseq\", Label_B, sep=\"_\"))\n",
    "\n",
    "dat = dat %>% \n",
    "    dplyr::mutate(\n",
    "        Region_A = factor(Region_A, levels = rev(vec_txt_region_A)),\n",
    "        Label_B  = factor(Label_B,  levels =  vec_txt_label_B)\n",
    "    ) \n",
    "\n",
    "### assign and show\n",
    "dat_region_ordered = dat\n",
    "print(dim(dat))\n",
    "head(dat)"
   ]
  },
  {
   "cell_type": "code",
   "execution_count": 59,
   "id": "3a9135a0-d5bf-4b49-b627-939e0aede593",
   "metadata": {},
   "outputs": [
    {
     "data": {
      "image/png": "[encoded data removed]",
      "text/plain": [
       "plot without title"
      ]
     },
     "metadata": {
      "image/png": {
       "height": 300,
       "width": 180
      }
     },
     "output_type": "display_data"
    }
   ],
   "source": [
    "gpt = ggplot(dat, aes(x=Label_B, y=Region_A, fill=Value)) +\n",
    "    geom_tile() + \n",
    "    labs(x=\"ChIP-seq; Histone\", y=\"ATAC\") +\n",
    "    theme_cowplot() +\n",
    "    theme(\n",
    "        axis.text  = element_blank(),\n",
    "        axis.ticks = element_blank(),\n",
    "        legend.position = \"None\"\n",
    "    )\n",
    "\n",
    "options(repr.plot.height = 5, repr.plot.width = 3)\n",
    "print(gpt)"
   ]
  },
  {
   "cell_type": "code",
   "execution_count": null,
   "id": "bf4cef58-0991-42d8-8186-764f44609a82",
   "metadata": {},
   "outputs": [],
   "source": []
  },
  {
   "cell_type": "code",
   "execution_count": null,
   "id": "c230faee-736c-4010-b4c8-1a0ba5119c24",
   "metadata": {},
   "outputs": [],
   "source": [
    "### init\n",
    "dat = dat_region_subset\n",
    "\n",
    "###\n",
    "dat = dat %>% dplyr::arrange(Chrom_A, ChromStart_A, ChromEnd_A)\n",
    "vec = unique(dat$Region_A)\n",
    "vec_txt_region_A = vec\n",
    "\n",
    "###\n",
    "tmp = data.frame(Region_A = vec, Index_A = 1:length(vec))\n",
    "dat = dat %>% dplyr::left_join(tmp, by=\"Region_A\")\n",
    "\n",
    "###\n",
    "mat = dat %>% \n",
    "    tidyr::spread(Label_B, Value) %>%\n",
    "    replace(is.na(.), 0)\n",
    "vec = mat$Index_A\n",
    "mat = mat %>% dplyr::select(-dplyr::contains(c(\"Chrom\", \"Region\", \"Index\")))\n",
    "res = apply(mat, 2, function(x){\n",
    "    num = cor(x, vec, method = \"spearman\")\n",
    "    return(num)\n",
    "})\n",
    "\n",
    "###\n",
    "vec = names(sort(res))\n",
    "vec_txt_label_B = vec\n",
    "\n",
    "###\n",
    "dat = dat %>% \n",
    "    dplyr::mutate(\n",
    "        Region_A = factor(Region_A, levels = rev(vec_txt_region_A)),\n",
    "        Label_B  = factor(Label_B,  levels =  vec_txt_label_B)\n",
    "    ) \n",
    "\n",
    "### assign and show\n",
    "dat_region_ordered = dat\n",
    "print(dim(dat))\n",
    "head(dat)"
   ]
  },
  {
   "cell_type": "code",
   "execution_count": null,
   "id": "e0f391c3-6e87-4040-9e27-959c788651d6",
   "metadata": {},
   "outputs": [],
   "source": []
  },
  {
   "cell_type": "code",
   "execution_count": null,
   "id": "43e232d5-7b28-4eac-8019-bfea33c4ead5",
   "metadata": {},
   "outputs": [],
   "source": []
  },
  {
   "cell_type": "code",
   "execution_count": 27,
   "id": "60c75ee0-9239-4e9a-bc09-18c69d1a0ea1",
   "metadata": {},
   "outputs": [],
   "source": [
    "dat = dat_region_subset\n",
    "dat = dat %>% \n",
    "    dplyr::filter(Chrom_A == \"chrX\") %>% \n",
    "    dplyr::mutate(Value = 1) %>%\n",
    "    dplyr::distinct() \n",
    "\n",
    "dat = dat %>%\n",
    "    dplyr::arrange(Chrom_A, ChromStart_A, ChromEnd_A)\n",
    "vec = unique(dat$Region_A)\n",
    "tmp = data.frame(Region_A = vec, Index_A = 1:length(vec))\n",
    "\n",
    "dat = dat %>% dplyr::mutate(Region_A = factor(Region_A, levels=rev(vec))) \n",
    "dat = dat %>% dplyr::left_join(tmp, by=\"Region_A\")\n",
    "\n",
    "tmp = dat %>% \n",
    "    dplyr::group_by(Label_B) %>%\n",
    "    dplyr::summarise(\n",
    "        Index_B = min(Index_A),\n",
    "        .groups = \"drop\"\n",
    "    ) %>%\n",
    "    dplyr::arrange(Index_B)\n",
    "vec = tmp$Label_B\n",
    "\n",
    "dat = dat %>% dplyr::mutate(Label_B = factor(Label_B, levels=vec))\n"
   ]
  },
  {
   "cell_type": "code",
   "execution_count": 28,
   "id": "74f6e2b8-c352-4ca3-b777-651df0a2ae04",
   "metadata": {},
   "outputs": [
    {
     "data": {
      "image/png": "[encoded data removed]",
      "text/plain": [
       "plot without title"
      ]
     },
     "metadata": {
      "image/png": {
       "height": 420,
       "width": 420
      }
     },
     "output_type": "display_data"
    }
   ],
   "source": [
    "gpt = ggplot(dat, aes(x=Label_B, y=Region_A, fill=Value)) +\n",
    "    geom_tile() + \n",
    "    labs(x=\"ChIP-seq; Histone\", y=\"ATAC\") +\n",
    "    theme_cowplot() +\n",
    "    theme(\n",
    "        axis.text  = element_blank(),\n",
    "        axis.ticks = element_blank(),\n",
    "        legend.position = \"None\"\n",
    "    )\n",
    "print(gpt)"
   ]
  },
  {
   "cell_type": "code",
   "execution_count": null,
   "id": "2c199159-3a6f-4003-ae64-a19550fec9a4",
   "metadata": {},
   "outputs": [],
   "source": []
  }
 ],
 "metadata": {
  "kernelspec": {
   "display_name": "R",
   "language": "R",
   "name": "ir"
  },
  "language_info": {
   "codemirror_mode": "r",
   "file_extension": ".r",
   "mimetype": "text/x-r-source",
   "name": "R",
   "pygments_lexer": "r",
   "version": "4.4.0"
  }
 },
 "nbformat": 4,
 "nbformat_minor": 5
}
