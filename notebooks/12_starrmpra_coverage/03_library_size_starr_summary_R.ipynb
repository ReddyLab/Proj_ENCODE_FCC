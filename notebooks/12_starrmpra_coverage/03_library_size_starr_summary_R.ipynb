{
 "cells": [
  {
   "cell_type": "raw",
   "id": "3234426d-0d91-42f8-88ac-2d4b8bb795b8",
   "metadata": {},
   "source": [
    "---\n",
    "title: STARR/MPRA Coverage 03\n",
    "subtitle: Summarize coverage for STARR-seq\n",
    "format:\n",
    "    html:\n",
    "        code-fold:  true\n",
    "        code-tools: true\n",
    "---"
   ]
  },
  {
   "cell_type": "markdown",
   "id": "5f1b2f3d-973e-476d-87bb-52851ccfa490",
   "metadata": {},
   "source": [
    "**Set environment**"
   ]
  },
  {
   "cell_type": "code",
   "execution_count": 1,
   "id": "f1d78c2c-538e-4ae5-b4cd-bfda40b16703",
   "metadata": {},
   "outputs": [
    {
     "name": "stdout",
     "output_type": "stream",
     "text": [
      "You are working on        Singularity \n",
      "BASE DIRECTORY (FD_BASE): /mount \n",
      "REPO DIRECTORY (FD_REPO): /mount/repo \n",
      "WORK DIRECTORY (FD_WORK): /mount/work \n",
      "DATA DIRECTORY (FD_DATA): /mount/data \n",
      "\n",
      "You are working with      ENCODE FCC \n",
      "PATH OF PROJECT (FD_PRJ): /mount/repo/Proj_ENCODE_FCC \n",
      "PROJECT RESULTS (FD_RES): /mount/repo/Proj_ENCODE_FCC/results \n",
      "PROJECT SCRIPTS (FD_EXE): /mount/repo/Proj_ENCODE_FCC/scripts \n",
      "PROJECT DATA    (FD_DAT): /mount/repo/Proj_ENCODE_FCC/data \n",
      "PROJECT NOTE    (FD_NBK): /mount/repo/Proj_ENCODE_FCC/notebooks \n",
      "PROJECT DOCS    (FD_DOC): /mount/repo/Proj_ENCODE_FCC/docs \n",
      "PROJECT LOG     (FD_LOG): /mount/repo/Proj_ENCODE_FCC/log \n",
      "PROJECT APP     (FD_APP): /mount/repo/Proj_ENCODE_FCC/app \n",
      "PROJECT REF     (FD_REF): /mount/repo/Proj_ENCODE_FCC/references \n",
      "\n"
     ]
    }
   ],
   "source": [
    "suppressMessages(suppressWarnings(source(\"../run_config_project_sing.R\")))\n",
    "show_env()"
   ]
  },
  {
   "cell_type": "markdown",
   "id": "133545ad-f9b3-490b-8611-8534f1bb5003",
   "metadata": {},
   "source": [
    "## Import data, arrange, and save"
   ]
  },
  {
   "cell_type": "markdown",
   "id": "93f2c13b-1e61-4c87-ba0f-2978e444ab74",
   "metadata": {},
   "source": [
    "**Check data**"
   ]
  },
  {
   "cell_type": "code",
   "execution_count": 2,
   "id": "92555845-3d6d-4e71-9f9b-8098e79ded28",
   "metadata": {},
   "outputs": [],
   "source": [
    "VEC_TXT_ASSAY = c(\n",
    "    \"STARR_ATAC_K562_Reddy_KS91\",\n",
    "    \"STARR_ATAC_K562_Reddy_KS274\",\n",
    "    \"STARR_WHG_K562_Reddy_A001\"\n",
    ")"
   ]
  },
  {
   "cell_type": "code",
   "execution_count": 3,
   "id": "b64fa6ba-1e86-4992-9637-b39c77deba37",
   "metadata": {},
   "outputs": [
    {
     "name": "stdout",
     "output_type": "stream",
     "text": [
      "STARR_ATAC_K562_Reddy_KS91 \n",
      "/mount/repo/Proj_ENCODE_FCC/results/assay_fcc/STARR_ATAC_K562_Reddy_KS91/fragment_counts/summary/result.size.concat.csv \n",
      "\n",
      "STARR_ATAC_K562_Reddy_KS274 \n",
      "/mount/repo/Proj_ENCODE_FCC/results/assay_fcc/STARR_ATAC_K562_Reddy_KS274/fragment_counts/summary/result.size.concat.csv \n",
      "\n",
      "STARR_WHG_K562_Reddy_A001 \n",
      "/mount/repo/Proj_ENCODE_FCC/results/assay_fcc/STARR_WHG_K562_Reddy_A001/fragment_counts/summary/result.size.concat.csv \n",
      "\n"
     ]
    }
   ],
   "source": [
    "for (txt_assay in VEC_TXT_ASSAY) {\n",
    "    txt_fdiry = file.path(FD_RES, \"assay_fcc\", txt_assay, \"fragment_counts\", \"summary\")\n",
    "    txt_fname = \"result.size.concat.csv\"\n",
    "    txt_fpath = file.path(txt_fdiry, txt_fname)\n",
    "    vec = Sys.glob(txt_fpath)\n",
    "\n",
    "    cat(txt_assay, \"\\n\")\n",
    "    for (txt in vec) {\n",
    "        cat(txt, \"\\n\")\n",
    "    }\n",
    "    cat(\"\\n\")\n",
    "}"
   ]
  },
  {
   "cell_type": "markdown",
   "id": "dda51a4c-d0ef-4118-a0ad-9ef478de3bb8",
   "metadata": {},
   "source": [
    "**Read, join, and write tables**"
   ]
  },
  {
   "cell_type": "code",
   "execution_count": 4,
   "id": "746b8e3e-5cc1-4b62-9dfe-481ad5700b49",
   "metadata": {},
   "outputs": [
    {
     "name": "stdout",
     "output_type": "stream",
     "text": [
      "STARR_ATAC_K562_Reddy_KS91 \n"
     ]
    },
    {
     "data": {
      "text/html": [
       "<table>\n",
       " <thead>\n",
       "  <tr>\n",
       "   <th style=\"text-align:left;\"> FName </th>\n",
       "   <th style=\"text-align:left;\"> Assay </th>\n",
       "   <th style=\"text-align:left;\"> Prefix </th>\n",
       "   <th style=\"text-align:left;\"> Group </th>\n",
       "   <th style=\"text-align:left;\"> Sample </th>\n",
       "   <th style=\"text-align:right;\"> Size_Unique </th>\n",
       "   <th style=\"text-align:right;\"> Size_Total </th>\n",
       "  </tr>\n",
       " </thead>\n",
       "<tbody>\n",
       "  <tr>\n",
       "   <td style=\"text-align:left;\"> ASTARRseq_K562_KS91.hg38.Input.rep1.WGS.unstranded.bed.gz </td>\n",
       "   <td style=\"text-align:left;\"> STARR_ATAC_K562_Reddy_KS91 </td>\n",
       "   <td style=\"text-align:left;\"> ASTARRseq_K562_KS91 </td>\n",
       "   <td style=\"text-align:left;\"> Input </td>\n",
       "   <td style=\"text-align:left;\"> Input.rep1 </td>\n",
       "   <td style=\"text-align:right;\"> 348695063 </td>\n",
       "   <td style=\"text-align:right;\"> 348695063 </td>\n",
       "  </tr>\n",
       "  <tr>\n",
       "   <td style=\"text-align:left;\"> ASTARRseq_K562_KS91.hg38.Input.rep2.WGS.unstranded.bed.gz </td>\n",
       "   <td style=\"text-align:left;\"> STARR_ATAC_K562_Reddy_KS91 </td>\n",
       "   <td style=\"text-align:left;\"> ASTARRseq_K562_KS91 </td>\n",
       "   <td style=\"text-align:left;\"> Input </td>\n",
       "   <td style=\"text-align:left;\"> Input.rep2 </td>\n",
       "   <td style=\"text-align:right;\"> 451369741 </td>\n",
       "   <td style=\"text-align:right;\"> 451369741 </td>\n",
       "  </tr>\n",
       "  <tr>\n",
       "   <td style=\"text-align:left;\"> ASTARRseq_K562_KS91.hg38.Input.rep3.WGS.unstranded.bed.gz </td>\n",
       "   <td style=\"text-align:left;\"> STARR_ATAC_K562_Reddy_KS91 </td>\n",
       "   <td style=\"text-align:left;\"> ASTARRseq_K562_KS91 </td>\n",
       "   <td style=\"text-align:left;\"> Input </td>\n",
       "   <td style=\"text-align:left;\"> Input.rep3 </td>\n",
       "   <td style=\"text-align:right;\"> 487579055 </td>\n",
       "   <td style=\"text-align:right;\"> 487579055 </td>\n",
       "  </tr>\n",
       "  <tr>\n",
       "   <td style=\"text-align:left;\"> ASTARRseq_K562_KS91.hg38.Input.rep4.WGS.unstranded.bed.gz </td>\n",
       "   <td style=\"text-align:left;\"> STARR_ATAC_K562_Reddy_KS91 </td>\n",
       "   <td style=\"text-align:left;\"> ASTARRseq_K562_KS91 </td>\n",
       "   <td style=\"text-align:left;\"> Input </td>\n",
       "   <td style=\"text-align:left;\"> Input.rep4 </td>\n",
       "   <td style=\"text-align:right;\"> 456246254 </td>\n",
       "   <td style=\"text-align:right;\"> 456246254 </td>\n",
       "  </tr>\n",
       "  <tr>\n",
       "   <td style=\"text-align:left;\"> ASTARRseq_K562_KS91.hg38.Input.rep5.WGS.unstranded.bed.gz </td>\n",
       "   <td style=\"text-align:left;\"> STARR_ATAC_K562_Reddy_KS91 </td>\n",
       "   <td style=\"text-align:left;\"> ASTARRseq_K562_KS91 </td>\n",
       "   <td style=\"text-align:left;\"> Input </td>\n",
       "   <td style=\"text-align:left;\"> Input.rep5 </td>\n",
       "   <td style=\"text-align:right;\"> 444268950 </td>\n",
       "   <td style=\"text-align:right;\"> 444268950 </td>\n",
       "  </tr>\n",
       "  <tr>\n",
       "   <td style=\"text-align:left;\"> ASTARRseq_K562_KS91.hg38.Input.rep6.WGS.unstranded.bed.gz </td>\n",
       "   <td style=\"text-align:left;\"> STARR_ATAC_K562_Reddy_KS91 </td>\n",
       "   <td style=\"text-align:left;\"> ASTARRseq_K562_KS91 </td>\n",
       "   <td style=\"text-align:left;\"> Input </td>\n",
       "   <td style=\"text-align:left;\"> Input.rep6 </td>\n",
       "   <td style=\"text-align:right;\"> 397333562 </td>\n",
       "   <td style=\"text-align:right;\"> 397333562 </td>\n",
       "  </tr>\n",
       "  <tr>\n",
       "   <td style=\"text-align:left;\"> ASTARRseq_K562_KS91.hg38.Output.rep1.WGS.unstranded.bed.gz </td>\n",
       "   <td style=\"text-align:left;\"> STARR_ATAC_K562_Reddy_KS91 </td>\n",
       "   <td style=\"text-align:left;\"> ASTARRseq_K562_KS91 </td>\n",
       "   <td style=\"text-align:left;\"> Output </td>\n",
       "   <td style=\"text-align:left;\"> Output.rep1 </td>\n",
       "   <td style=\"text-align:right;\"> 39258388 </td>\n",
       "   <td style=\"text-align:right;\"> 44103844 </td>\n",
       "  </tr>\n",
       "  <tr>\n",
       "   <td style=\"text-align:left;\"> ASTARRseq_K562_KS91.hg38.Output.rep2.WGS.unstranded.bed.gz </td>\n",
       "   <td style=\"text-align:left;\"> STARR_ATAC_K562_Reddy_KS91 </td>\n",
       "   <td style=\"text-align:left;\"> ASTARRseq_K562_KS91 </td>\n",
       "   <td style=\"text-align:left;\"> Output </td>\n",
       "   <td style=\"text-align:left;\"> Output.rep2 </td>\n",
       "   <td style=\"text-align:right;\"> 70029279 </td>\n",
       "   <td style=\"text-align:right;\"> 79902408 </td>\n",
       "  </tr>\n",
       "  <tr>\n",
       "   <td style=\"text-align:left;\"> ASTARRseq_K562_KS91.hg38.Output.rep3.WGS.unstranded.bed.gz </td>\n",
       "   <td style=\"text-align:left;\"> STARR_ATAC_K562_Reddy_KS91 </td>\n",
       "   <td style=\"text-align:left;\"> ASTARRseq_K562_KS91 </td>\n",
       "   <td style=\"text-align:left;\"> Output </td>\n",
       "   <td style=\"text-align:left;\"> Output.rep3 </td>\n",
       "   <td style=\"text-align:right;\"> 74932952 </td>\n",
       "   <td style=\"text-align:right;\"> 84103298 </td>\n",
       "  </tr>\n",
       "  <tr>\n",
       "   <td style=\"text-align:left;\"> ASTARRseq_K562_KS91.hg38.Output.rep4.WGS.unstranded.bed.gz </td>\n",
       "   <td style=\"text-align:left;\"> STARR_ATAC_K562_Reddy_KS91 </td>\n",
       "   <td style=\"text-align:left;\"> ASTARRseq_K562_KS91 </td>\n",
       "   <td style=\"text-align:left;\"> Output </td>\n",
       "   <td style=\"text-align:left;\"> Output.rep4 </td>\n",
       "   <td style=\"text-align:right;\"> 125219777 </td>\n",
       "   <td style=\"text-align:right;\"> 148739471 </td>\n",
       "  </tr>\n",
       "</tbody>\n",
       "</table>"
      ]
     },
     "metadata": {},
     "output_type": "display_data"
    },
    {
     "name": "stdout",
     "output_type": "stream",
     "text": [
      "\n",
      "STARR_ATAC_K562_Reddy_KS274 \n"
     ]
    },
    {
     "data": {
      "text/html": [
       "<table>\n",
       " <thead>\n",
       "  <tr>\n",
       "   <th style=\"text-align:left;\"> FName </th>\n",
       "   <th style=\"text-align:left;\"> Assay </th>\n",
       "   <th style=\"text-align:left;\"> Prefix </th>\n",
       "   <th style=\"text-align:left;\"> Group </th>\n",
       "   <th style=\"text-align:left;\"> Sample </th>\n",
       "   <th style=\"text-align:right;\"> Size_Unique </th>\n",
       "   <th style=\"text-align:right;\"> Size_Total </th>\n",
       "  </tr>\n",
       " </thead>\n",
       "<tbody>\n",
       "  <tr>\n",
       "   <td style=\"text-align:left;\"> ASTARRseq_K562_KS274.hg38.Output.rep1.WGS.unstranded.bed.gz </td>\n",
       "   <td style=\"text-align:left;\"> STARR_ATAC_K562_Reddy_KS274 </td>\n",
       "   <td style=\"text-align:left;\"> ASTARRseq_K562_KS274 </td>\n",
       "   <td style=\"text-align:left;\"> Output </td>\n",
       "   <td style=\"text-align:left;\"> Output.rep1 </td>\n",
       "   <td style=\"text-align:right;\"> 41119652 </td>\n",
       "   <td style=\"text-align:right;\"> 75921554 </td>\n",
       "  </tr>\n",
       "  <tr>\n",
       "   <td style=\"text-align:left;\"> ASTARRseq_K562_KS274.hg38.Output.rep2.WGS.unstranded.bed.gz </td>\n",
       "   <td style=\"text-align:left;\"> STARR_ATAC_K562_Reddy_KS274 </td>\n",
       "   <td style=\"text-align:left;\"> ASTARRseq_K562_KS274 </td>\n",
       "   <td style=\"text-align:left;\"> Output </td>\n",
       "   <td style=\"text-align:left;\"> Output.rep2 </td>\n",
       "   <td style=\"text-align:right;\"> 33845018 </td>\n",
       "   <td style=\"text-align:right;\"> 61846404 </td>\n",
       "  </tr>\n",
       "  <tr>\n",
       "   <td style=\"text-align:left;\"> ASTARRseq_K562_KS274.hg38.Output.rep3.WGS.unstranded.bed.gz </td>\n",
       "   <td style=\"text-align:left;\"> STARR_ATAC_K562_Reddy_KS274 </td>\n",
       "   <td style=\"text-align:left;\"> ASTARRseq_K562_KS274 </td>\n",
       "   <td style=\"text-align:left;\"> Output </td>\n",
       "   <td style=\"text-align:left;\"> Output.rep3 </td>\n",
       "   <td style=\"text-align:right;\"> 46177734 </td>\n",
       "   <td style=\"text-align:right;\"> 80233063 </td>\n",
       "  </tr>\n",
       "</tbody>\n",
       "</table>"
      ]
     },
     "metadata": {},
     "output_type": "display_data"
    },
    {
     "name": "stdout",
     "output_type": "stream",
     "text": [
      "\n",
      "STARR_WHG_K562_Reddy_A001 \n"
     ]
    },
    {
     "data": {
      "text/html": [
       "<table>\n",
       " <thead>\n",
       "  <tr>\n",
       "   <th style=\"text-align:left;\"> FName </th>\n",
       "   <th style=\"text-align:left;\"> Assay </th>\n",
       "   <th style=\"text-align:left;\"> Prefix </th>\n",
       "   <th style=\"text-align:left;\"> Group </th>\n",
       "   <th style=\"text-align:left;\"> Sample </th>\n",
       "   <th style=\"text-align:right;\"> Size_Unique </th>\n",
       "   <th style=\"text-align:right;\"> Size_Total </th>\n",
       "  </tr>\n",
       " </thead>\n",
       "<tbody>\n",
       "  <tr>\n",
       "   <td style=\"text-align:left;\"> WSTARRseq_K562_A001.hg38.Input.rep1.WGS.unstranded.bed.gz </td>\n",
       "   <td style=\"text-align:left;\"> STARR_WHG_K562_Reddy_A001 </td>\n",
       "   <td style=\"text-align:left;\"> WSTARRseq_K562_A001 </td>\n",
       "   <td style=\"text-align:left;\"> Input </td>\n",
       "   <td style=\"text-align:left;\"> Input.rep1 </td>\n",
       "   <td style=\"text-align:right;\"> 26908970 </td>\n",
       "   <td style=\"text-align:right;\"> 26908970 </td>\n",
       "  </tr>\n",
       "  <tr>\n",
       "   <td style=\"text-align:left;\"> WSTARRseq_K562_A001.hg38.Input.rep2.WGS.unstranded.bed.gz </td>\n",
       "   <td style=\"text-align:left;\"> STARR_WHG_K562_Reddy_A001 </td>\n",
       "   <td style=\"text-align:left;\"> WSTARRseq_K562_A001 </td>\n",
       "   <td style=\"text-align:left;\"> Input </td>\n",
       "   <td style=\"text-align:left;\"> Input.rep2 </td>\n",
       "   <td style=\"text-align:right;\"> 99899775 </td>\n",
       "   <td style=\"text-align:right;\"> 99899775 </td>\n",
       "  </tr>\n",
       "  <tr>\n",
       "   <td style=\"text-align:left;\"> WSTARRseq_K562_A001.hg38.Input.rep3.WGS.unstranded.bed.gz </td>\n",
       "   <td style=\"text-align:left;\"> STARR_WHG_K562_Reddy_A001 </td>\n",
       "   <td style=\"text-align:left;\"> WSTARRseq_K562_A001 </td>\n",
       "   <td style=\"text-align:left;\"> Input </td>\n",
       "   <td style=\"text-align:left;\"> Input.rep3 </td>\n",
       "   <td style=\"text-align:right;\"> 105623984 </td>\n",
       "   <td style=\"text-align:right;\"> 105623984 </td>\n",
       "  </tr>\n",
       "  <tr>\n",
       "   <td style=\"text-align:left;\"> WSTARRseq_K562_A001.hg38.Input.rep4.WGS.unstranded.bed.gz </td>\n",
       "   <td style=\"text-align:left;\"> STARR_WHG_K562_Reddy_A001 </td>\n",
       "   <td style=\"text-align:left;\"> WSTARRseq_K562_A001 </td>\n",
       "   <td style=\"text-align:left;\"> Input </td>\n",
       "   <td style=\"text-align:left;\"> Input.rep4 </td>\n",
       "   <td style=\"text-align:right;\"> 108635002 </td>\n",
       "   <td style=\"text-align:right;\"> 108635002 </td>\n",
       "  </tr>\n",
       "  <tr>\n",
       "   <td style=\"text-align:left;\"> WSTARRseq_K562_A001.hg38.Output.rep1.WGS.unstranded.bed.gz </td>\n",
       "   <td style=\"text-align:left;\"> STARR_WHG_K562_Reddy_A001 </td>\n",
       "   <td style=\"text-align:left;\"> WSTARRseq_K562_A001 </td>\n",
       "   <td style=\"text-align:left;\"> Output </td>\n",
       "   <td style=\"text-align:left;\"> Output.rep1 </td>\n",
       "   <td style=\"text-align:right;\"> 160349140 </td>\n",
       "   <td style=\"text-align:right;\"> 160349140 </td>\n",
       "  </tr>\n",
       "  <tr>\n",
       "   <td style=\"text-align:left;\"> WSTARRseq_K562_A001.hg38.Output.rep2.WGS.unstranded.bed.gz </td>\n",
       "   <td style=\"text-align:left;\"> STARR_WHG_K562_Reddy_A001 </td>\n",
       "   <td style=\"text-align:left;\"> WSTARRseq_K562_A001 </td>\n",
       "   <td style=\"text-align:left;\"> Output </td>\n",
       "   <td style=\"text-align:left;\"> Output.rep2 </td>\n",
       "   <td style=\"text-align:right;\"> 157326312 </td>\n",
       "   <td style=\"text-align:right;\"> 157326312 </td>\n",
       "  </tr>\n",
       "  <tr>\n",
       "   <td style=\"text-align:left;\"> WSTARRseq_K562_A001.hg38.Output.rep3.WGS.unstranded.bed.gz </td>\n",
       "   <td style=\"text-align:left;\"> STARR_WHG_K562_Reddy_A001 </td>\n",
       "   <td style=\"text-align:left;\"> WSTARRseq_K562_A001 </td>\n",
       "   <td style=\"text-align:left;\"> Output </td>\n",
       "   <td style=\"text-align:left;\"> Output.rep3 </td>\n",
       "   <td style=\"text-align:right;\"> 328185275 </td>\n",
       "   <td style=\"text-align:right;\"> 328185275 </td>\n",
       "  </tr>\n",
       "</tbody>\n",
       "</table>"
      ]
     },
     "metadata": {},
     "output_type": "display_data"
    },
    {
     "name": "stdout",
     "output_type": "stream",
     "text": [
      "\n"
     ]
    }
   ],
   "source": [
    "for (txt_assay in VEC_TXT_ASSAY) {\n",
    "    ### read meta data\n",
    "    txt_fdiry = file.path(FD_RES, \"assay_fcc\", txt_assay, \"fragment_counts\", \"summary\")\n",
    "    txt_fname = \"metadata.tsv\"\n",
    "    txt_fpath = file.path(txt_fdiry, txt_fname)\n",
    "    dat_meta  = read_tsv(txt_fpath, show_col_types = FALSE)\n",
    "\n",
    "    ### read library size\n",
    "    txt_fname = \"result.size.concat.csv\"\n",
    "    txt_fpath = file.path(txt_fdiry, txt_fname)\n",
    "    dat_size  = read_csv(txt_fpath, col_names = FALSE, show_col_types = FALSE)\n",
    "    colnames(dat_size) = c(\"FName\", \"Size_Unique\", \"Size_Total\")\n",
    "\n",
    "    ### join information\n",
    "    dat_meta_size = dplyr::left_join(dat_meta, dat_size, by=\"FName\")\n",
    "\n",
    "    ### write table\n",
    "    txt_fname = \"metadata.size.tsv\"\n",
    "    txt_fpath = file.path(txt_fdiry, txt_fname)\n",
    "    write_tsv(dat_meta_size, txt_fpath)\n",
    "    \n",
    "    ### show progress\n",
    "    cat(txt_assay, \"\\n\")\n",
    "    flush.console()\n",
    "    fun_display_table(dat_meta_size)\n",
    "    flush.console()\n",
    "    cat(\"\\n\")\n",
    "}"
   ]
  },
  {
   "cell_type": "code",
   "execution_count": null,
   "id": "5f6b95c4-7ca8-44e4-8190-b66c480d1995",
   "metadata": {},
   "outputs": [],
   "source": []
  }
 ],
 "metadata": {
  "kernelspec": {
   "display_name": "R",
   "language": "R",
   "name": "ir"
  },
  "language_info": {
   "codemirror_mode": "r",
   "file_extension": ".r",
   "mimetype": "text/x-r-source",
   "name": "R",
   "pygments_lexer": "r",
   "version": "4.3.3"
  }
 },
 "nbformat": 4,
 "nbformat_minor": 5
}
