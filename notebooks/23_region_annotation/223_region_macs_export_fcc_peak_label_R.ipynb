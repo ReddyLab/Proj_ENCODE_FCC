{
 "cells": [
  {
   "cell_type": "raw",
   "id": "23d59dc6-66f8-4147-a0a9-2816e7f03a61",
   "metadata": {},
   "source": [
    "---\n",
    "title: FCC Peak calls\n",
    "subtitle: export annotation\n",
    "format:\n",
    "    html:\n",
    "        code-fold:  true\n",
    "        code-tools: true\n",
    "---"
   ]
  },
  {
   "cell_type": "markdown",
   "id": "455a6d42-b149-42a5-a2e4-ba62583cf4d7",
   "metadata": {},
   "source": [
    "**Set environment**"
   ]
  },
  {
   "cell_type": "code",
   "execution_count": 1,
   "id": "e7dca752-c660-4129-b226-04384c14f5ff",
   "metadata": {
    "tags": []
   },
   "outputs": [
    {
     "name": "stdout",
     "output_type": "stream",
     "text": [
      "You are working on        Singularity \n",
      "BASE DIRECTORY (FD_BASE): /mount \n",
      "REPO DIRECTORY (FD_REPO): /mount/repo \n",
      "WORK DIRECTORY (FD_WORK): /mount/work \n",
      "DATA DIRECTORY (FD_DATA): /mount/data \n",
      "\n",
      "You are working with      ENCODE FCC \n",
      "PATH OF PROJECT (FD_PRJ): /mount/repo/Proj_ENCODE_FCC \n",
      "PROJECT RESULTS (FD_RES): /mount/repo/Proj_ENCODE_FCC/results \n",
      "PROJECT SCRIPTS (FD_EXE): /mount/repo/Proj_ENCODE_FCC/scripts \n",
      "PROJECT DATA    (FD_DAT): /mount/repo/Proj_ENCODE_FCC/data \n",
      "PROJECT NOTE    (FD_NBK): /mount/repo/Proj_ENCODE_FCC/notebooks \n",
      "PROJECT DOCS    (FD_DOC): /mount/repo/Proj_ENCODE_FCC/docs \n",
      "PROJECT LOG     (FD_LOG): /mount/repo/Proj_ENCODE_FCC/log \n",
      "PROJECT APP     (FD_APP): /mount/repo/Proj_ENCODE_FCC/app \n",
      "PROJECT REF     (FD_REF): /mount/repo/Proj_ENCODE_FCC/references \n",
      "\n"
     ]
    }
   ],
   "source": [
    "suppressMessages(suppressWarnings(source(\"../run_config_project_sing.R\")))\n",
    "show_env()"
   ]
  },
  {
   "cell_type": "markdown",
   "id": "c5c4618f-4f8f-4f3e-aac0-39d3c6e40304",
   "metadata": {},
   "source": [
    "## Import data"
   ]
  },
  {
   "cell_type": "code",
   "execution_count": 2,
   "id": "5a54fbc6-7b39-48bf-af1f-e4c3202ca7c7",
   "metadata": {},
   "outputs": [
    {
     "name": "stdout",
     "output_type": "stream",
     "text": [
      "[1] 150041      4\n"
     ]
    },
    {
     "data": {
      "text/html": [
       "<table>\n",
       " <thead>\n",
       "  <tr>\n",
       "   <th style=\"text-align:left;\"> Chrom </th>\n",
       "   <th style=\"text-align:right;\"> ChromStart </th>\n",
       "   <th style=\"text-align:right;\"> ChromEnd </th>\n",
       "   <th style=\"text-align:left;\"> Region </th>\n",
       "  </tr>\n",
       " </thead>\n",
       "<tbody>\n",
       "  <tr>\n",
       "   <td style=\"text-align:left;\"> chr1 </td>\n",
       "   <td style=\"text-align:right;\"> 14282 </td>\n",
       "   <td style=\"text-align:right;\"> 14614 </td>\n",
       "   <td style=\"text-align:left;\"> chr1:14282-14614 </td>\n",
       "  </tr>\n",
       "  <tr>\n",
       "   <td style=\"text-align:left;\"> chr1 </td>\n",
       "   <td style=\"text-align:right;\"> 16025 </td>\n",
       "   <td style=\"text-align:right;\"> 16338 </td>\n",
       "   <td style=\"text-align:left;\"> chr1:16025-16338 </td>\n",
       "  </tr>\n",
       "  <tr>\n",
       "   <td style=\"text-align:left;\"> chr1 </td>\n",
       "   <td style=\"text-align:right;\"> 17288 </td>\n",
       "   <td style=\"text-align:right;\"> 17689 </td>\n",
       "   <td style=\"text-align:left;\"> chr1:17288-17689 </td>\n",
       "  </tr>\n",
       "</tbody>\n",
       "</table>"
      ]
     },
     "metadata": {},
     "output_type": "display_data"
    }
   ],
   "source": [
    "txt_fdiry = file.path(\n",
    "    FD_RES, \n",
    "    \"region\", \n",
    "    \"fcc_astarr_macs\"\n",
    ")\n",
    "txt_fname = \"K562.hg38.ASTARR.macs.KS91.input.rep_all.max_overlaps.q5.bed.gz\"\n",
    "txt_fpath = file.path(txt_fdiry, txt_fname)\n",
    "\n",
    "dat = read_tsv(txt_fpath, show_col_types = FALSE)\n",
    "colnames(dat) = c(\"Chrom\", \"ChromStart\", \"ChromEnd\")\n",
    "\n",
    "dat = dat %>% dplyr::mutate(Region = fun_gen_region(Chrom, ChromStart, ChromEnd))\n",
    "\n",
    "dat_region_atac = dat\n",
    "print(dim(dat))\n",
    "fun_display_table(head(dat, 3))"
   ]
  },
  {
   "cell_type": "code",
   "execution_count": 3,
   "id": "4715e482-b569-4b3f-9832-bafdd34616de",
   "metadata": {},
   "outputs": [
    {
     "name": "stdout",
     "output_type": "stream",
     "text": [
      "[1] 10817     7\n"
     ]
    },
    {
     "data": {
      "text/html": [
       "<table>\n",
       " <thead>\n",
       "  <tr>\n",
       "   <th style=\"text-align:left;\"> Chrom </th>\n",
       "   <th style=\"text-align:right;\"> ChromStart </th>\n",
       "   <th style=\"text-align:right;\"> ChromEnd </th>\n",
       "   <th style=\"text-align:left;\"> Region </th>\n",
       "   <th style=\"text-align:left;\"> Group </th>\n",
       "   <th style=\"text-align:left;\"> Label </th>\n",
       "   <th style=\"text-align:left;\"> Essential </th>\n",
       "  </tr>\n",
       " </thead>\n",
       "<tbody>\n",
       "  <tr>\n",
       "   <td style=\"text-align:left;\"> chr1 </td>\n",
       "   <td style=\"text-align:right;\"> 28934 </td>\n",
       "   <td style=\"text-align:right;\"> 29499 </td>\n",
       "   <td style=\"text-align:left;\"> chr1:28934-29499 </td>\n",
       "   <td style=\"text-align:left;\"> TSS_Pol2_RNAseq </td>\n",
       "   <td style=\"text-align:left;\"> WASH7P </td>\n",
       "   <td style=\"text-align:left;\"> FALSE </td>\n",
       "  </tr>\n",
       "  <tr>\n",
       "   <td style=\"text-align:left;\"> chr1 </td>\n",
       "   <td style=\"text-align:right;\"> 826796 </td>\n",
       "   <td style=\"text-align:right;\"> 828040 </td>\n",
       "   <td style=\"text-align:left;\"> chr1:826796-828040 </td>\n",
       "   <td style=\"text-align:left;\"> TSS_Pol2_RNAseq </td>\n",
       "   <td style=\"text-align:left;\"> LINC00115 </td>\n",
       "   <td style=\"text-align:left;\"> FALSE </td>\n",
       "  </tr>\n",
       "  <tr>\n",
       "   <td style=\"text-align:left;\"> chr1 </td>\n",
       "   <td style=\"text-align:right;\"> 826796 </td>\n",
       "   <td style=\"text-align:right;\"> 828040 </td>\n",
       "   <td style=\"text-align:left;\"> chr1:826796-828040 </td>\n",
       "   <td style=\"text-align:left;\"> TSS_Pol2_RNAseq </td>\n",
       "   <td style=\"text-align:left;\"> LINC01128 </td>\n",
       "   <td style=\"text-align:left;\"> FALSE </td>\n",
       "  </tr>\n",
       "</tbody>\n",
       "</table>"
      ]
     },
     "metadata": {},
     "output_type": "display_data"
    }
   ],
   "source": [
    "txt_fdiry = file.path(\n",
    "    FD_RES, \n",
    "    \"region_annotation\", \n",
    "    \"fcc_astarr_macs_input_overlap\",\n",
    "    \"summary\"\n",
    ")\n",
    "txt_fname = \"region.summary.genome_tss.tsv\"\n",
    "txt_fpath = file.path(txt_fdiry, txt_fname)\n",
    "\n",
    "dat = read_tsv(txt_fpath, show_col_types = FALSE)\n",
    "\n",
    "dat_region_annot_tss = dat\n",
    "print(dim(dat))\n",
    "fun_display_table(head(dat, 3))"
   ]
  },
  {
   "cell_type": "code",
   "execution_count": 4,
   "id": "06db0ab9-2415-409e-a8ed-8cce3d2bc4b0",
   "metadata": {},
   "outputs": [
    {
     "name": "stdout",
     "output_type": "stream",
     "text": [
      "[1] 160666      6\n"
     ]
    },
    {
     "data": {
      "text/html": [
       "<table>\n",
       " <thead>\n",
       "  <tr>\n",
       "   <th style=\"text-align:left;\"> Chrom </th>\n",
       "   <th style=\"text-align:right;\"> ChromStart </th>\n",
       "   <th style=\"text-align:right;\"> ChromEnd </th>\n",
       "   <th style=\"text-align:left;\"> Region </th>\n",
       "   <th style=\"text-align:left;\"> Type </th>\n",
       "   <th style=\"text-align:right;\"> Num_Assay </th>\n",
       "  </tr>\n",
       " </thead>\n",
       "<tbody>\n",
       "  <tr>\n",
       "   <td style=\"text-align:left;\"> chr1 </td>\n",
       "   <td style=\"text-align:right;\"> 115429 </td>\n",
       "   <td style=\"text-align:right;\"> 115969 </td>\n",
       "   <td style=\"text-align:left;\"> chr1:115429-115969 </td>\n",
       "   <td style=\"text-align:left;\"> Enhancer </td>\n",
       "   <td style=\"text-align:right;\"> 1 </td>\n",
       "  </tr>\n",
       "  <tr>\n",
       "   <td style=\"text-align:left;\"> chr1 </td>\n",
       "   <td style=\"text-align:right;\"> 184091 </td>\n",
       "   <td style=\"text-align:right;\"> 184563 </td>\n",
       "   <td style=\"text-align:left;\"> chr1:184091-184563 </td>\n",
       "   <td style=\"text-align:left;\"> Enhancer </td>\n",
       "   <td style=\"text-align:right;\"> 1 </td>\n",
       "  </tr>\n",
       "  <tr>\n",
       "   <td style=\"text-align:left;\"> chr1 </td>\n",
       "   <td style=\"text-align:right;\"> 605104 </td>\n",
       "   <td style=\"text-align:right;\"> 605675 </td>\n",
       "   <td style=\"text-align:left;\"> chr1:605104-605675 </td>\n",
       "   <td style=\"text-align:left;\"> Enhancer </td>\n",
       "   <td style=\"text-align:right;\"> 1 </td>\n",
       "  </tr>\n",
       "</tbody>\n",
       "</table>"
      ]
     },
     "metadata": {},
     "output_type": "display_data"
    }
   ],
   "source": [
    "txt_fdiry = file.path(\n",
    "    FD_RES, \n",
    "    \"region_annotation\", \n",
    "    \"fcc_astarr_macs_input_overlap\",\n",
    "    \"summary\"\n",
    ")\n",
    "txt_fname = \"region.summary.fcc_peak_call.assayvote.tsv\"\n",
    "txt_fpath = file.path(txt_fdiry, txt_fname)\n",
    "\n",
    "dat = read_tsv(txt_fpath, show_col_types = FALSE)\n",
    "\n",
    "dat_region_annot_fcc_assay_vote = dat\n",
    "print(dim(dat))\n",
    "fun_display_table(head(dat, 3))"
   ]
  },
  {
   "cell_type": "code",
   "execution_count": 5,
   "id": "17f9dee0-2d4c-41a7-bc6d-881584717170",
   "metadata": {},
   "outputs": [
    {
     "name": "stdout",
     "output_type": "stream",
     "text": [
      "[1] 100454     15\n"
     ]
    },
    {
     "data": {
      "text/html": [
       "<table>\n",
       " <thead>\n",
       "  <tr>\n",
       "   <th style=\"text-align:left;\"> Chrom </th>\n",
       "   <th style=\"text-align:right;\"> ChromStart </th>\n",
       "   <th style=\"text-align:right;\"> ChromEnd </th>\n",
       "   <th style=\"text-align:left;\"> Region </th>\n",
       "   <th style=\"text-align:right;\"> ASTARR_A </th>\n",
       "   <th style=\"text-align:right;\"> WSTARR_A </th>\n",
       "   <th style=\"text-align:right;\"> LMPRA_A </th>\n",
       "   <th style=\"text-align:right;\"> TMPRA_A </th>\n",
       "   <th style=\"text-align:right;\"> ASTARR_R </th>\n",
       "   <th style=\"text-align:right;\"> WSTARR_R </th>\n",
       "   <th style=\"text-align:right;\"> LMPRA_R </th>\n",
       "   <th style=\"text-align:right;\"> TMPRA_R </th>\n",
       "   <th style=\"text-align:right;\"> CRISPRi-HCRFF </th>\n",
       "   <th style=\"text-align:right;\"> CRISPRi-Growth </th>\n",
       "   <th style=\"text-align:right;\"> E2G-Benchmark </th>\n",
       "  </tr>\n",
       " </thead>\n",
       "<tbody>\n",
       "  <tr>\n",
       "   <td style=\"text-align:left;\"> chr1 </td>\n",
       "   <td style=\"text-align:right;\"> 10038 </td>\n",
       "   <td style=\"text-align:right;\"> 10405 </td>\n",
       "   <td style=\"text-align:left;\"> chr1:10038-10405 </td>\n",
       "   <td style=\"text-align:right;\"> 0 </td>\n",
       "   <td style=\"text-align:right;\"> 0 </td>\n",
       "   <td style=\"text-align:right;\"> 0 </td>\n",
       "   <td style=\"text-align:right;\"> 0 </td>\n",
       "   <td style=\"text-align:right;\"> 1 </td>\n",
       "   <td style=\"text-align:right;\"> 0 </td>\n",
       "   <td style=\"text-align:right;\"> 0 </td>\n",
       "   <td style=\"text-align:right;\"> 0 </td>\n",
       "   <td style=\"text-align:right;\"> 0 </td>\n",
       "   <td style=\"text-align:right;\"> 0 </td>\n",
       "   <td style=\"text-align:right;\"> 0 </td>\n",
       "  </tr>\n",
       "  <tr>\n",
       "   <td style=\"text-align:left;\"> chr1 </td>\n",
       "   <td style=\"text-align:right;\"> 16025 </td>\n",
       "   <td style=\"text-align:right;\"> 16338 </td>\n",
       "   <td style=\"text-align:left;\"> chr1:16025-16338 </td>\n",
       "   <td style=\"text-align:right;\"> 0 </td>\n",
       "   <td style=\"text-align:right;\"> 0 </td>\n",
       "   <td style=\"text-align:right;\"> 0 </td>\n",
       "   <td style=\"text-align:right;\"> 0 </td>\n",
       "   <td style=\"text-align:right;\"> 1 </td>\n",
       "   <td style=\"text-align:right;\"> 0 </td>\n",
       "   <td style=\"text-align:right;\"> 0 </td>\n",
       "   <td style=\"text-align:right;\"> 0 </td>\n",
       "   <td style=\"text-align:right;\"> 0 </td>\n",
       "   <td style=\"text-align:right;\"> 0 </td>\n",
       "   <td style=\"text-align:right;\"> 0 </td>\n",
       "  </tr>\n",
       "  <tr>\n",
       "   <td style=\"text-align:left;\"> chr1 </td>\n",
       "   <td style=\"text-align:right;\"> 17288 </td>\n",
       "   <td style=\"text-align:right;\"> 17689 </td>\n",
       "   <td style=\"text-align:left;\"> chr1:17288-17689 </td>\n",
       "   <td style=\"text-align:right;\"> 0 </td>\n",
       "   <td style=\"text-align:right;\"> 0 </td>\n",
       "   <td style=\"text-align:right;\"> 0 </td>\n",
       "   <td style=\"text-align:right;\"> 0 </td>\n",
       "   <td style=\"text-align:right;\"> 1 </td>\n",
       "   <td style=\"text-align:right;\"> 0 </td>\n",
       "   <td style=\"text-align:right;\"> 0 </td>\n",
       "   <td style=\"text-align:right;\"> 0 </td>\n",
       "   <td style=\"text-align:right;\"> 0 </td>\n",
       "   <td style=\"text-align:right;\"> 0 </td>\n",
       "   <td style=\"text-align:right;\"> 0 </td>\n",
       "  </tr>\n",
       "</tbody>\n",
       "</table>"
      ]
     },
     "metadata": {},
     "output_type": "display_data"
    }
   ],
   "source": [
    "txt_fdiry = file.path(\n",
    "    FD_RES, \n",
    "    \"region_annotation\", \n",
    "    \"fcc_astarr_macs_input_overlap\",\n",
    "    \"summary\"\n",
    ")\n",
    "txt_fname = \"matrix.annotation.fcc_peak_call.tsv\"\n",
    "txt_fpath = file.path(txt_fdiry, txt_fname)\n",
    "\n",
    "dat = read_tsv(txt_fpath, show_col_types = FALSE)\n",
    "\n",
    "mat_region_annot_fcc_peak = dat\n",
    "print(dim(dat))\n",
    "fun_display_table(head(dat, 3))"
   ]
  },
  {
   "cell_type": "markdown",
   "id": "c089fea6-abec-4967-b4e0-b5a2c7110825",
   "metadata": {},
   "source": [
    "**FCC Coverage**"
   ]
  },
  {
   "cell_type": "code",
   "execution_count": 6,
   "id": "8060fe51-5de2-482c-b299-5d45a9c7b9aa",
   "metadata": {},
   "outputs": [
    {
     "name": "stdout",
     "output_type": "stream",
     "text": [
      "[1] 432505      9\n"
     ]
    },
    {
     "data": {
      "text/html": [
       "<table>\n",
       " <thead>\n",
       "  <tr>\n",
       "   <th style=\"text-align:left;\"> Chrom </th>\n",
       "   <th style=\"text-align:right;\"> ChromStart </th>\n",
       "   <th style=\"text-align:right;\"> ChromEnd </th>\n",
       "   <th style=\"text-align:left;\"> Region </th>\n",
       "   <th style=\"text-align:right;\"> Score </th>\n",
       "   <th style=\"text-align:left;\"> Assay_Name </th>\n",
       "   <th style=\"text-align:left;\"> Assay_Type </th>\n",
       "   <th style=\"text-align:left;\"> Assay_Group </th>\n",
       "   <th style=\"text-align:left;\"> Assay_Label </th>\n",
       "  </tr>\n",
       " </thead>\n",
       "<tbody>\n",
       "  <tr>\n",
       "   <td style=\"text-align:left;\"> chr10 </td>\n",
       "   <td style=\"text-align:right;\"> 100729094 </td>\n",
       "   <td style=\"text-align:right;\"> 100729750 </td>\n",
       "   <td style=\"text-align:left;\"> chr10:100729094-100729750 </td>\n",
       "   <td style=\"text-align:right;\"> -0.3065107 </td>\n",
       "   <td style=\"text-align:left;\"> CRISPRi_FlowFISH_K562_Riley_JinWoo </td>\n",
       "   <td style=\"text-align:left;\"> CRISPRi-HCRFF </td>\n",
       "   <td style=\"text-align:left;\"> CRISPRi-HCRFF </td>\n",
       "   <td style=\"text-align:left;\"> CRISPRi-HCR FlowFISH </td>\n",
       "  </tr>\n",
       "  <tr>\n",
       "   <td style=\"text-align:left;\"> chr10 </td>\n",
       "   <td style=\"text-align:right;\"> 100743501 </td>\n",
       "   <td style=\"text-align:right;\"> 100744571 </td>\n",
       "   <td style=\"text-align:left;\"> chr10:100743501-100744571 </td>\n",
       "   <td style=\"text-align:right;\"> -0.2702473 </td>\n",
       "   <td style=\"text-align:left;\"> CRISPRi_FlowFISH_K562_Riley_JinWoo </td>\n",
       "   <td style=\"text-align:left;\"> CRISPRi-HCRFF </td>\n",
       "   <td style=\"text-align:left;\"> CRISPRi-HCRFF </td>\n",
       "   <td style=\"text-align:left;\"> CRISPRi-HCR FlowFISH </td>\n",
       "  </tr>\n",
       "  <tr>\n",
       "   <td style=\"text-align:left;\"> chr10 </td>\n",
       "   <td style=\"text-align:right;\"> 100745413 </td>\n",
       "   <td style=\"text-align:right;\"> 100745741 </td>\n",
       "   <td style=\"text-align:left;\"> chr10:100745413-100745741 </td>\n",
       "   <td style=\"text-align:right;\"> 0.1130381 </td>\n",
       "   <td style=\"text-align:left;\"> CRISPRi_FlowFISH_K562_Riley_JinWoo </td>\n",
       "   <td style=\"text-align:left;\"> CRISPRi-HCRFF </td>\n",
       "   <td style=\"text-align:left;\"> CRISPRi-HCRFF </td>\n",
       "   <td style=\"text-align:left;\"> CRISPRi-HCR FlowFISH </td>\n",
       "  </tr>\n",
       "</tbody>\n",
       "</table>"
      ]
     },
     "metadata": {},
     "output_type": "display_data"
    }
   ],
   "source": [
    "txt_fdiry = file.path(\n",
    "    FD_RES, \n",
    "    \"region_coverage_fcc\", \n",
    "    \"fcc_astarr_macs_input_overlap\",\n",
    "    \"summary\"\n",
    ")\n",
    "txt_fname = \"result.coverage.zscore.final.tsv\"\n",
    "txt_fpath = file.path(txt_fdiry, txt_fname)\n",
    "\n",
    "dat = read_tsv(txt_fpath, show_col_types = FALSE)\n",
    "\n",
    "dat_region_score_fcc = dat\n",
    "print(dim(dat))\n",
    "fun_display_table(head(dat, 3))"
   ]
  },
  {
   "cell_type": "code",
   "execution_count": 7,
   "id": "6bee7ee2-3b71-4180-b22d-ddf29b28ab84",
   "metadata": {},
   "outputs": [
    {
     "name": "stdout",
     "output_type": "stream",
     "text": [
      "[1] 3035    6\n"
     ]
    },
    {
     "data": {
      "text/html": [
       "<table>\n",
       " <thead>\n",
       "  <tr>\n",
       "   <th style=\"text-align:left;\"> Chrom </th>\n",
       "   <th style=\"text-align:right;\"> ChromStart </th>\n",
       "   <th style=\"text-align:right;\"> ChromEnd </th>\n",
       "   <th style=\"text-align:left;\"> Region </th>\n",
       "   <th style=\"text-align:left;\"> Regulated_Ifany </th>\n",
       "   <th style=\"text-align:right;\"> Regulated_Count </th>\n",
       "  </tr>\n",
       " </thead>\n",
       "<tbody>\n",
       "  <tr>\n",
       "   <td style=\"text-align:left;\"> chr1 </td>\n",
       "   <td style=\"text-align:right;\"> 3774056 </td>\n",
       "   <td style=\"text-align:right;\"> 3776283 </td>\n",
       "   <td style=\"text-align:left;\"> chr1:3774056-3776283 </td>\n",
       "   <td style=\"text-align:left;\"> TRUE </td>\n",
       "   <td style=\"text-align:right;\"> 3 </td>\n",
       "  </tr>\n",
       "  <tr>\n",
       "   <td style=\"text-align:left;\"> chr1 </td>\n",
       "   <td style=\"text-align:right;\"> 3803955 </td>\n",
       "   <td style=\"text-align:right;\"> 3806146 </td>\n",
       "   <td style=\"text-align:left;\"> chr1:3803955-3806146 </td>\n",
       "   <td style=\"text-align:left;\"> FALSE </td>\n",
       "   <td style=\"text-align:right;\"> 0 </td>\n",
       "  </tr>\n",
       "  <tr>\n",
       "   <td style=\"text-align:left;\"> chr1 </td>\n",
       "   <td style=\"text-align:right;\"> 4126841 </td>\n",
       "   <td style=\"text-align:right;\"> 4128109 </td>\n",
       "   <td style=\"text-align:left;\"> chr1:4126841-4128109 </td>\n",
       "   <td style=\"text-align:left;\"> FALSE </td>\n",
       "   <td style=\"text-align:right;\"> 0 </td>\n",
       "  </tr>\n",
       "</tbody>\n",
       "</table>"
      ]
     },
     "metadata": {},
     "output_type": "display_data"
    }
   ],
   "source": [
    "txt_fdiry = file.path(\n",
    "    FD_RES, \n",
    "    \"region_annotation\", \n",
    "    \"fcc_astarr_macs_input_overlap\",\n",
    "    \"summary\"\n",
    ")\n",
    "txt_fname = \"region.summary.encode_e2g_benchmark.regulated.tsv\"\n",
    "txt_fpath = file.path(txt_fdiry, txt_fname)\n",
    "\n",
    "dat = read_tsv(txt_fpath, show_col_types = FALSE)\n",
    "\n",
    "dat_region_annot_e2g = dat\n",
    "print(dim(dat))\n",
    "fun_display_table(head(dat, 3))"
   ]
  },
  {
   "cell_type": "code",
   "execution_count": null,
   "id": "7f79571e-42b8-4c28-ba39-e8a9686b8c8a",
   "metadata": {},
   "outputs": [],
   "source": []
  },
  {
   "cell_type": "code",
   "execution_count": null,
   "id": "5d7bad20-02fc-4607-b2e9-ce7870ad147d",
   "metadata": {},
   "outputs": [],
   "source": []
  },
  {
   "cell_type": "code",
   "execution_count": null,
   "id": "c8e3b108-bf0d-4928-9bf7-fe1d77ed1266",
   "metadata": {},
   "outputs": [],
   "source": []
  },
  {
   "cell_type": "code",
   "execution_count": 8,
   "id": "134a4c71-40e3-4b74-a846-26e19185d349",
   "metadata": {},
   "outputs": [
    {
     "data": {
      "text/html": [
       "<table class=\"dataframe\">\n",
       "<caption>A tibble: 6 × 7</caption>\n",
       "<thead>\n",
       "\t<tr><th scope=col>Chrom</th><th scope=col>ChromStart</th><th scope=col>ChromEnd</th><th scope=col>Region</th><th scope=col>Group</th><th scope=col>Label</th><th scope=col>Essential</th></tr>\n",
       "\t<tr><th scope=col>&lt;chr&gt;</th><th scope=col>&lt;dbl&gt;</th><th scope=col>&lt;dbl&gt;</th><th scope=col>&lt;chr&gt;</th><th scope=col>&lt;chr&gt;</th><th scope=col>&lt;chr&gt;</th><th scope=col>&lt;lgl&gt;</th></tr>\n",
       "</thead>\n",
       "<tbody>\n",
       "\t<tr><td>chr1</td><td> 28934</td><td> 29499</td><td>chr1:28934-29499  </td><td>TSS_Pol2_RNAseq</td><td>WASH7P   </td><td>FALSE</td></tr>\n",
       "\t<tr><td>chr1</td><td>826796</td><td>828040</td><td>chr1:826796-828040</td><td>TSS_Pol2_RNAseq</td><td>LINC00115</td><td>FALSE</td></tr>\n",
       "\t<tr><td>chr1</td><td>826796</td><td>828040</td><td>chr1:826796-828040</td><td>TSS_Pol2_RNAseq</td><td>LINC01128</td><td>FALSE</td></tr>\n",
       "\t<tr><td>chr1</td><td>876493</td><td>877795</td><td>chr1:876493-877795</td><td>TSS_Pol2_RNAseq</td><td>FAM41C   </td><td>FALSE</td></tr>\n",
       "\t<tr><td>chr1</td><td>958722</td><td>959968</td><td>chr1:958722-959968</td><td>TSS_Pol2_RNAseq</td><td>NOC2L    </td><td>FALSE</td></tr>\n",
       "\t<tr><td>chr1</td><td>960468</td><td>961615</td><td>chr1:960468-961615</td><td>TSS_Pol2_RNAseq</td><td>KLHL17   </td><td>FALSE</td></tr>\n",
       "</tbody>\n",
       "</table>\n"
      ],
      "text/latex": [
       "A tibble: 6 × 7\n",
       "\\begin{tabular}{lllllll}\n",
       " Chrom & ChromStart & ChromEnd & Region & Group & Label & Essential\\\\\n",
       " <chr> & <dbl> & <dbl> & <chr> & <chr> & <chr> & <lgl>\\\\\n",
       "\\hline\n",
       "\t chr1 &  28934 &  29499 & chr1:28934-29499   & TSS\\_Pol2\\_RNAseq & WASH7P    & FALSE\\\\\n",
       "\t chr1 & 826796 & 828040 & chr1:826796-828040 & TSS\\_Pol2\\_RNAseq & LINC00115 & FALSE\\\\\n",
       "\t chr1 & 826796 & 828040 & chr1:826796-828040 & TSS\\_Pol2\\_RNAseq & LINC01128 & FALSE\\\\\n",
       "\t chr1 & 876493 & 877795 & chr1:876493-877795 & TSS\\_Pol2\\_RNAseq & FAM41C    & FALSE\\\\\n",
       "\t chr1 & 958722 & 959968 & chr1:958722-959968 & TSS\\_Pol2\\_RNAseq & NOC2L     & FALSE\\\\\n",
       "\t chr1 & 960468 & 961615 & chr1:960468-961615 & TSS\\_Pol2\\_RNAseq & KLHL17    & FALSE\\\\\n",
       "\\end{tabular}\n"
      ],
      "text/markdown": [
       "\n",
       "A tibble: 6 × 7\n",
       "\n",
       "| Chrom &lt;chr&gt; | ChromStart &lt;dbl&gt; | ChromEnd &lt;dbl&gt; | Region &lt;chr&gt; | Group &lt;chr&gt; | Label &lt;chr&gt; | Essential &lt;lgl&gt; |\n",
       "|---|---|---|---|---|---|---|\n",
       "| chr1 |  28934 |  29499 | chr1:28934-29499   | TSS_Pol2_RNAseq | WASH7P    | FALSE |\n",
       "| chr1 | 826796 | 828040 | chr1:826796-828040 | TSS_Pol2_RNAseq | LINC00115 | FALSE |\n",
       "| chr1 | 826796 | 828040 | chr1:826796-828040 | TSS_Pol2_RNAseq | LINC01128 | FALSE |\n",
       "| chr1 | 876493 | 877795 | chr1:876493-877795 | TSS_Pol2_RNAseq | FAM41C    | FALSE |\n",
       "| chr1 | 958722 | 959968 | chr1:958722-959968 | TSS_Pol2_RNAseq | NOC2L     | FALSE |\n",
       "| chr1 | 960468 | 961615 | chr1:960468-961615 | TSS_Pol2_RNAseq | KLHL17    | FALSE |\n",
       "\n"
      ],
      "text/plain": [
       "  Chrom ChromStart ChromEnd Region             Group           Label    \n",
       "1 chr1   28934      29499   chr1:28934-29499   TSS_Pol2_RNAseq WASH7P   \n",
       "2 chr1  826796     828040   chr1:826796-828040 TSS_Pol2_RNAseq LINC00115\n",
       "3 chr1  826796     828040   chr1:826796-828040 TSS_Pol2_RNAseq LINC01128\n",
       "4 chr1  876493     877795   chr1:876493-877795 TSS_Pol2_RNAseq FAM41C   \n",
       "5 chr1  958722     959968   chr1:958722-959968 TSS_Pol2_RNAseq NOC2L    \n",
       "6 chr1  960468     961615   chr1:960468-961615 TSS_Pol2_RNAseq KLHL17   \n",
       "  Essential\n",
       "1 FALSE    \n",
       "2 FALSE    \n",
       "3 FALSE    \n",
       "4 FALSE    \n",
       "5 FALSE    \n",
       "6 FALSE    "
      ]
     },
     "metadata": {},
     "output_type": "display_data"
    }
   ],
   "source": [
    "dat = dat_region_annot_tss\n",
    "head(dat)"
   ]
  },
  {
   "cell_type": "code",
   "execution_count": 9,
   "id": "0327cddd-9536-4867-8860-a2782e38efa6",
   "metadata": {},
   "outputs": [
    {
     "name": "stdout",
     "output_type": "stream",
     "text": [
      "[1] 9649\n",
      "[1] 1199\n"
     ]
    }
   ],
   "source": [
    "dat = dat_region_annot_tss\n",
    "vec = dat$Region\n",
    "idx = dat$Essential\n",
    "\n",
    "vec_txt_region_tss_total = unique(vec)\n",
    "vec_txt_region_tss_essen = unique(vec[idx])\n",
    "\n",
    "print(length(vec_txt_region_tss_total))\n",
    "print(length(vec_txt_region_tss_essen))"
   ]
  },
  {
   "cell_type": "code",
   "execution_count": 23,
   "id": "fc3ff958-8592-4c2d-bd9b-0ea572b1f8c8",
   "metadata": {},
   "outputs": [],
   "source": [
    "dat = dat_region_score_fcc\n",
    "dat = dat %>% dplyr::filter(Assay_Type == \"CRISPRi-Growth\")\n",
    "vec = unique(dat$Region)\n",
    "vec_txt_region_crispr_screen_growth = vec\n",
    "\n",
    "dat = dat_region_score_fcc\n",
    "dat = dat %>% dplyr::filter(Assay_Type == \"CRISPRi-HCRFF\")\n",
    "vec = unique(dat$Region)\n",
    "vec_txt_region_crispr_screen_hcrff = vec\n",
    "\n",
    "dat = dat_region_annot_e2g\n",
    "vec = unique(dat$Region)\n",
    "vec_txt_region_crispr_screen_e2g = vec\n",
    "\n",
    "vec = c(\n",
    "    vec_txt_region_crispr_screen_growth,\n",
    "    vec_txt_region_crispr_screen_hcrff,\n",
    "    vec_txt_region_crispr_screen_e2g\n",
    ")\n",
    "vec_txt_region_crispr_screen_total = vec"
   ]
  },
  {
   "cell_type": "code",
   "execution_count": 33,
   "id": "e504e081-98fd-4812-972f-0e7c507fc2e3",
   "metadata": {},
   "outputs": [
    {
     "name": "stdout",
     "output_type": "stream",
     "text": [
      "[1] 100454      4\n"
     ]
    },
    {
     "data": {
      "text/html": [
       "<table>\n",
       " <thead>\n",
       "  <tr>\n",
       "   <th style=\"text-align:left;\"> Region </th>\n",
       "   <th style=\"text-align:right;\"> Signif_CRISPR_Growth </th>\n",
       "   <th style=\"text-align:right;\"> Signif_CRISPR_HCRFF </th>\n",
       "   <th style=\"text-align:right;\"> Signif_CRISPR_E2G </th>\n",
       "  </tr>\n",
       " </thead>\n",
       "<tbody>\n",
       "  <tr>\n",
       "   <td style=\"text-align:left;\"> chr1:10038-10405 </td>\n",
       "   <td style=\"text-align:right;\"> 0 </td>\n",
       "   <td style=\"text-align:right;\"> 0 </td>\n",
       "   <td style=\"text-align:right;\"> 0 </td>\n",
       "  </tr>\n",
       "  <tr>\n",
       "   <td style=\"text-align:left;\"> chr1:16025-16338 </td>\n",
       "   <td style=\"text-align:right;\"> 0 </td>\n",
       "   <td style=\"text-align:right;\"> 0 </td>\n",
       "   <td style=\"text-align:right;\"> 0 </td>\n",
       "  </tr>\n",
       "  <tr>\n",
       "   <td style=\"text-align:left;\"> chr1:17288-17689 </td>\n",
       "   <td style=\"text-align:right;\"> 0 </td>\n",
       "   <td style=\"text-align:right;\"> 0 </td>\n",
       "   <td style=\"text-align:right;\"> 0 </td>\n",
       "  </tr>\n",
       "</tbody>\n",
       "</table>"
      ]
     },
     "metadata": {},
     "output_type": "display_data"
    }
   ],
   "source": [
    "dat = mat_region_annot_fcc_peak\n",
    "dat = dat %>% \n",
    "    dplyr::select(\n",
    "        Region, \n",
    "        `CRISPRi-Growth`, \n",
    "        `CRISPRi-HCRFF`, \n",
    "        `E2G-Benchmark`\n",
    "    )\n",
    "colnames(dat) = c(\n",
    "    \"Region\",\n",
    "    \"Signif_CRISPR_Growth\",\n",
    "    \"Signif_CRISPR_HCRFF\",\n",
    "    \"Signif_CRISPR_E2G\"\n",
    ")\n",
    "\n",
    "mat_region_annot_crispr_signif = dat\n",
    "print(dim(dat))\n",
    "fun_display_table(head(dat, 3))"
   ]
  },
  {
   "cell_type": "code",
   "execution_count": 34,
   "id": "01749921-c03e-4a4f-b4fd-8e75173f5737",
   "metadata": {},
   "outputs": [
    {
     "name": "stdout",
     "output_type": "stream",
     "text": [
      "[1] 4740\n"
     ]
    }
   ],
   "source": [
    "dat = dat_region_annot_fcc_assay_vote\n",
    "dat = dat %>% dplyr::filter(Type == \"CRISPR\")\n",
    "vec = dat$Region\n",
    "\n",
    "vec_txt_region_crispr_signif = unique(vec)\n",
    "print(length(vec))"
   ]
  },
  {
   "cell_type": "markdown",
   "id": "8c0791b0-6dd5-4d11-9423-9c2a0829b84e",
   "metadata": {},
   "source": [
    "**Check**"
   ]
  },
  {
   "cell_type": "code",
   "execution_count": 35,
   "id": "479f29cd-6915-479a-b781-88a5dd1b50d1",
   "metadata": {},
   "outputs": [
    {
     "data": {
      "text/html": [
       "TRUE"
      ],
      "text/latex": [
       "TRUE"
      ],
      "text/markdown": [
       "TRUE"
      ],
      "text/plain": [
       "[1] TRUE"
      ]
     },
     "metadata": {},
     "output_type": "display_data"
    }
   ],
   "source": [
    "dat = mat_region_annot_fcc_peak\n",
    "vec1 = c(\n",
    "    dat$Region[dat$`CRISPRi-HCRFF`  == 1],\n",
    "    dat$Region[dat$`CRISPRi-Growth` == 1],\n",
    "    dat$Region[dat$`E2G-Benchmark`  == 1]\n",
    ")\n",
    "vec1 = sort(unique(vec1))\n",
    "\n",
    "vec2 = vec_txt_region_crispr_signif\n",
    "vec2 = sort(unique(vec2))\n",
    "\n",
    "all(vec1 == vec2)"
   ]
  },
  {
   "cell_type": "markdown",
   "id": "d4271d0f-0488-4eb7-9f9b-fbcf79636023",
   "metadata": {},
   "source": [
    "## Merge"
   ]
  },
  {
   "cell_type": "code",
   "execution_count": 38,
   "id": "aacd8025-94a0-48b4-a592-ed1357b88965",
   "metadata": {},
   "outputs": [
    {
     "data": {
      "text/html": [
       "<table>\n",
       " <thead>\n",
       "  <tr>\n",
       "   <th style=\"text-align:left;\"> Chrom </th>\n",
       "   <th style=\"text-align:right;\"> ChromStart </th>\n",
       "   <th style=\"text-align:right;\"> ChromEnd </th>\n",
       "   <th style=\"text-align:left;\"> Region </th>\n",
       "   <th style=\"text-align:left;\"> Type </th>\n",
       "   <th style=\"text-align:right;\"> Num_Assay </th>\n",
       "  </tr>\n",
       " </thead>\n",
       "<tbody>\n",
       "  <tr>\n",
       "   <td style=\"text-align:left;\"> chr1 </td>\n",
       "   <td style=\"text-align:right;\"> 115429 </td>\n",
       "   <td style=\"text-align:right;\"> 115969 </td>\n",
       "   <td style=\"text-align:left;\"> chr1:115429-115969 </td>\n",
       "   <td style=\"text-align:left;\"> Enhancer </td>\n",
       "   <td style=\"text-align:right;\"> 1 </td>\n",
       "  </tr>\n",
       "  <tr>\n",
       "   <td style=\"text-align:left;\"> chr1 </td>\n",
       "   <td style=\"text-align:right;\"> 184091 </td>\n",
       "   <td style=\"text-align:right;\"> 184563 </td>\n",
       "   <td style=\"text-align:left;\"> chr1:184091-184563 </td>\n",
       "   <td style=\"text-align:left;\"> Enhancer </td>\n",
       "   <td style=\"text-align:right;\"> 1 </td>\n",
       "  </tr>\n",
       "  <tr>\n",
       "   <td style=\"text-align:left;\"> chr1 </td>\n",
       "   <td style=\"text-align:right;\"> 605104 </td>\n",
       "   <td style=\"text-align:right;\"> 605675 </td>\n",
       "   <td style=\"text-align:left;\"> chr1:605104-605675 </td>\n",
       "   <td style=\"text-align:left;\"> Enhancer </td>\n",
       "   <td style=\"text-align:right;\"> 1 </td>\n",
       "  </tr>\n",
       "</tbody>\n",
       "</table>"
      ]
     },
     "metadata": {},
     "output_type": "display_data"
    }
   ],
   "source": [
    "dat = dat_region_annot_fcc_assay_vote\n",
    "fun_display_table(head(dat, 3))"
   ]
  },
  {
   "cell_type": "code",
   "execution_count": 37,
   "id": "fea8b8e2-6ce3-4fe1-9a39-406219c2bc5a",
   "metadata": {},
   "outputs": [
    {
     "data": {
      "text/plain": [
       "\n",
       "            CRISPR           Enhancer          Repressor Repressor_GCFilter \n",
       "              4740              43993              65401              46532 "
      ]
     },
     "metadata": {},
     "output_type": "display_data"
    }
   ],
   "source": [
    "dat = dat_region_annot_fcc_assay_vote\n",
    "table(dat$Type)"
   ]
  },
  {
   "cell_type": "code",
   "execution_count": 43,
   "id": "f62003cd-abe8-4bcd-9eab-c312612311fd",
   "metadata": {},
   "outputs": [
    {
     "name": "stdout",
     "output_type": "stream",
     "text": [
      "[1] 155926     18\n",
      "[1] FALSE\n"
     ]
    },
    {
     "data": {
      "text/html": [
       "<table>\n",
       " <thead>\n",
       "  <tr>\n",
       "   <th style=\"text-align:left;\"> Chrom </th>\n",
       "   <th style=\"text-align:right;\"> ChromStart </th>\n",
       "   <th style=\"text-align:right;\"> ChromEnd </th>\n",
       "   <th style=\"text-align:left;\"> Region </th>\n",
       "   <th style=\"text-align:left;\"> Type </th>\n",
       "   <th style=\"text-align:right;\"> Num_Assay </th>\n",
       "   <th style=\"text-align:right;\"> TSS_Total </th>\n",
       "   <th style=\"text-align:right;\"> TSS_Essential </th>\n",
       "   <th style=\"text-align:left;\"> Label1 </th>\n",
       "   <th style=\"text-align:left;\"> Label2 </th>\n",
       "   <th style=\"text-align:right;\"> Screen_CRISPR_Total </th>\n",
       "   <th style=\"text-align:right;\"> Screen_CRISPR_Growth </th>\n",
       "   <th style=\"text-align:right;\"> Screen_CRISPR_HCRFF </th>\n",
       "   <th style=\"text-align:right;\"> Screen_CRISPR_E2G </th>\n",
       "   <th style=\"text-align:right;\"> Signif_CRISPR_Total </th>\n",
       "   <th style=\"text-align:right;\"> Signif_CRISPR_Growth </th>\n",
       "   <th style=\"text-align:right;\"> Signif_CRISPR_HCRFF </th>\n",
       "   <th style=\"text-align:right;\"> Signif_CRISPR_E2G </th>\n",
       "  </tr>\n",
       " </thead>\n",
       "<tbody>\n",
       "  <tr>\n",
       "   <td style=\"text-align:left;\"> chr1 </td>\n",
       "   <td style=\"text-align:right;\"> 115429 </td>\n",
       "   <td style=\"text-align:right;\"> 115969 </td>\n",
       "   <td style=\"text-align:left;\"> chr1:115429-115969 </td>\n",
       "   <td style=\"text-align:left;\"> Enhancer </td>\n",
       "   <td style=\"text-align:right;\"> 1 </td>\n",
       "   <td style=\"text-align:right;\"> 0 </td>\n",
       "   <td style=\"text-align:right;\"> 0 </td>\n",
       "   <td style=\"text-align:left;\"> Enhancer </td>\n",
       "   <td style=\"text-align:left;\"> Enhancer </td>\n",
       "   <td style=\"text-align:right;\"> 0 </td>\n",
       "   <td style=\"text-align:right;\"> 0 </td>\n",
       "   <td style=\"text-align:right;\"> 0 </td>\n",
       "   <td style=\"text-align:right;\"> 0 </td>\n",
       "   <td style=\"text-align:right;\"> 0 </td>\n",
       "   <td style=\"text-align:right;\"> 0 </td>\n",
       "   <td style=\"text-align:right;\"> 0 </td>\n",
       "   <td style=\"text-align:right;\"> 0 </td>\n",
       "  </tr>\n",
       "  <tr>\n",
       "   <td style=\"text-align:left;\"> chr1 </td>\n",
       "   <td style=\"text-align:right;\"> 184091 </td>\n",
       "   <td style=\"text-align:right;\"> 184563 </td>\n",
       "   <td style=\"text-align:left;\"> chr1:184091-184563 </td>\n",
       "   <td style=\"text-align:left;\"> Enhancer </td>\n",
       "   <td style=\"text-align:right;\"> 1 </td>\n",
       "   <td style=\"text-align:right;\"> 0 </td>\n",
       "   <td style=\"text-align:right;\"> 0 </td>\n",
       "   <td style=\"text-align:left;\"> Enhancer </td>\n",
       "   <td style=\"text-align:left;\"> Enhancer </td>\n",
       "   <td style=\"text-align:right;\"> 0 </td>\n",
       "   <td style=\"text-align:right;\"> 0 </td>\n",
       "   <td style=\"text-align:right;\"> 0 </td>\n",
       "   <td style=\"text-align:right;\"> 0 </td>\n",
       "   <td style=\"text-align:right;\"> 0 </td>\n",
       "   <td style=\"text-align:right;\"> 0 </td>\n",
       "   <td style=\"text-align:right;\"> 0 </td>\n",
       "   <td style=\"text-align:right;\"> 0 </td>\n",
       "  </tr>\n",
       "  <tr>\n",
       "   <td style=\"text-align:left;\"> chr1 </td>\n",
       "   <td style=\"text-align:right;\"> 605104 </td>\n",
       "   <td style=\"text-align:right;\"> 605675 </td>\n",
       "   <td style=\"text-align:left;\"> chr1:605104-605675 </td>\n",
       "   <td style=\"text-align:left;\"> Enhancer </td>\n",
       "   <td style=\"text-align:right;\"> 1 </td>\n",
       "   <td style=\"text-align:right;\"> 0 </td>\n",
       "   <td style=\"text-align:right;\"> 0 </td>\n",
       "   <td style=\"text-align:left;\"> Enhancer </td>\n",
       "   <td style=\"text-align:left;\"> Enhancer </td>\n",
       "   <td style=\"text-align:right;\"> 1 </td>\n",
       "   <td style=\"text-align:right;\"> 1 </td>\n",
       "   <td style=\"text-align:right;\"> 0 </td>\n",
       "   <td style=\"text-align:right;\"> 0 </td>\n",
       "   <td style=\"text-align:right;\"> 1 </td>\n",
       "   <td style=\"text-align:right;\"> 1 </td>\n",
       "   <td style=\"text-align:right;\"> 0 </td>\n",
       "   <td style=\"text-align:right;\"> 0 </td>\n",
       "  </tr>\n",
       "</tbody>\n",
       "</table>"
      ]
     },
     "metadata": {},
     "output_type": "display_data"
    }
   ],
   "source": [
    "dat = dat_region_annot_fcc_assay_vote\n",
    "\n",
    "dat = dat %>% \n",
    "    dplyr::filter(Type != \"CRISPR\") %>%\n",
    "    dplyr::mutate(TSS_Total     = as.integer(Region %in% vec_txt_region_tss_total)) %>%\n",
    "    dplyr::mutate(TSS_Essential = as.integer(Region %in% vec_txt_region_tss_essen)) %>%\n",
    "    dplyr::mutate(Label1 = ifelse(TSS_Total, paste(\"TSS\", Type, sep=\":\"), Type)) %>%\n",
    "    dplyr::mutate(Label2 = ifelse(TSS_Total, \"Promoter\", Type))\n",
    "\n",
    "dat = dat %>% dplyr::mutate(\n",
    "    Screen_CRISPR_Total  = as.integer(Region %in% vec_txt_region_crispr_screen_total), \n",
    "    Screen_CRISPR_Growth = as.integer(Region %in% vec_txt_region_crispr_screen_growth), \n",
    "    Screen_CRISPR_HCRFF  = as.integer(Region %in% vec_txt_region_crispr_screen_hcrff), \n",
    "    Screen_CRISPR_E2G    = as.integer(Region %in% vec_txt_region_crispr_screen_e2g),\n",
    "    Signif_CRISPR_Total  = as.integer(Region %in% vec_txt_region_crispr_signif)\n",
    ")\n",
    "\n",
    "dat = dat %>% dplyr::left_join(mat_region_annot_crispr_signif, by = \"Region\")\n",
    "\n",
    "dat_region_annot_fcc_label = dat\n",
    "print(dim(dat))\n",
    "print(any(is.na(dat)))\n",
    "fun_display_table(head(dat, 3))"
   ]
  },
  {
   "cell_type": "code",
   "execution_count": 45,
   "id": "a32f5978-e4d8-480d-bf5d-0db0c15f2219",
   "metadata": {},
   "outputs": [
    {
     "name": "stdout",
     "output_type": "stream",
     "text": [
      "\n",
      "              Enhancer              Repressor     Repressor_GCFilter \n",
      "                 35731                  61395                  45615 \n",
      "          TSS:Enhancer          TSS:Repressor TSS:Repressor_GCFilter \n",
      "                  8262                   4006                    917 \n",
      "\n",
      "          Enhancer           Promoter          Repressor Repressor_GCFilter \n",
      "             35731              13185              61395              45615 \n",
      "                        \n",
      "                         Enhancer Promoter Repressor Repressor_GCFilter\n",
      "  Enhancer                  35731        0         0                  0\n",
      "  Repressor                     0        0     61395                  0\n",
      "  Repressor_GCFilter            0        0         0              45615\n",
      "  TSS:Enhancer                  0     8262         0                  0\n",
      "  TSS:Repressor                 0     4006         0                  0\n",
      "  TSS:Repressor_GCFilter        0      917         0                  0\n"
     ]
    }
   ],
   "source": [
    "dat = dat_region_annot_fcc_label\n",
    "print(table(dat$Label1))\n",
    "print(table(dat$Label2))\n",
    "print(table(dat$Label1, dat$Label2))"
   ]
  },
  {
   "cell_type": "markdown",
   "id": "f2d03126-c8f5-42a1-a04f-ac7785f36f65",
   "metadata": {},
   "source": [
    "## Explort results"
   ]
  },
  {
   "cell_type": "code",
   "execution_count": 46,
   "id": "8474b076-0d7f-4467-a1e5-a7a9cb9977cc",
   "metadata": {},
   "outputs": [],
   "source": [
    "txt_fdiry = file.path(\n",
    "    FD_RES, \n",
    "    \"region_annotation\", \n",
    "    \"fcc_astarr_macs_input_overlap\",\n",
    "    \"summary\"\n",
    ")\n",
    "txt_fname = \"region.summary.fcc_peak_call.label.tsv\"\n",
    "txt_fpath = file.path(txt_fdiry, txt_fname)\n",
    "\n",
    "dat = dat_region_annot_fcc_label\n",
    "dat = dat %>% dplyr::arrange(Chrom, ChromStart, ChromEnd, Type)\n",
    "write_tsv(dat, txt_fpath)"
   ]
  },
  {
   "cell_type": "code",
   "execution_count": null,
   "id": "8882ec57-bb66-48e8-a0b1-da91de6b626e",
   "metadata": {},
   "outputs": [],
   "source": []
  },
  {
   "cell_type": "code",
   "execution_count": null,
   "id": "891063ce-9c4a-420c-a611-80e7d9df4545",
   "metadata": {},
   "outputs": [],
   "source": []
  },
  {
   "cell_type": "code",
   "execution_count": 9,
   "id": "d7c4e203-1811-482c-80d9-e7f26dab0fe5",
   "metadata": {},
   "outputs": [
    {
     "name": "stdout",
     "output_type": "stream",
     "text": [
      "[1] 4740\n"
     ]
    }
   ],
   "source": [
    "dat = dat_region_annot_fcc_assay_vote\n",
    "dat = dat %>% dplyr::filter(Type == \"CRISPR\")\n",
    "vec = dat$Region\n",
    "\n",
    "vec_txt_region_crispr_signif = unique(vec)\n",
    "print(length(vec))"
   ]
  },
  {
   "cell_type": "code",
   "execution_count": 7,
   "id": "d559abad-57e2-4ff8-98dc-d75eb39394cc",
   "metadata": {},
   "outputs": [
    {
     "name": "stdout",
     "output_type": "stream",
     "text": [
      "[1] 155926     10\n"
     ]
    },
    {
     "data": {
      "text/html": [
       "<table>\n",
       " <thead>\n",
       "  <tr>\n",
       "   <th style=\"text-align:left;\"> Chrom </th>\n",
       "   <th style=\"text-align:right;\"> ChromStart </th>\n",
       "   <th style=\"text-align:right;\"> ChromEnd </th>\n",
       "   <th style=\"text-align:left;\"> Region </th>\n",
       "   <th style=\"text-align:left;\"> Type </th>\n",
       "   <th style=\"text-align:right;\"> Num_Assay </th>\n",
       "   <th style=\"text-align:right;\"> TSS </th>\n",
       "   <th style=\"text-align:right;\"> CRISPR </th>\n",
       "   <th style=\"text-align:left;\"> Label </th>\n",
       "   <th style=\"text-align:left;\"> Label2 </th>\n",
       "  </tr>\n",
       " </thead>\n",
       "<tbody>\n",
       "  <tr>\n",
       "   <td style=\"text-align:left;\"> chr1 </td>\n",
       "   <td style=\"text-align:right;\"> 115429 </td>\n",
       "   <td style=\"text-align:right;\"> 115969 </td>\n",
       "   <td style=\"text-align:left;\"> chr1:115429-115969 </td>\n",
       "   <td style=\"text-align:left;\"> Enhancer </td>\n",
       "   <td style=\"text-align:right;\"> 1 </td>\n",
       "   <td style=\"text-align:right;\"> 0 </td>\n",
       "   <td style=\"text-align:right;\"> 0 </td>\n",
       "   <td style=\"text-align:left;\"> Enhancer </td>\n",
       "   <td style=\"text-align:left;\"> Enhancer </td>\n",
       "  </tr>\n",
       "  <tr>\n",
       "   <td style=\"text-align:left;\"> chr1 </td>\n",
       "   <td style=\"text-align:right;\"> 184091 </td>\n",
       "   <td style=\"text-align:right;\"> 184563 </td>\n",
       "   <td style=\"text-align:left;\"> chr1:184091-184563 </td>\n",
       "   <td style=\"text-align:left;\"> Enhancer </td>\n",
       "   <td style=\"text-align:right;\"> 1 </td>\n",
       "   <td style=\"text-align:right;\"> 0 </td>\n",
       "   <td style=\"text-align:right;\"> 0 </td>\n",
       "   <td style=\"text-align:left;\"> Enhancer </td>\n",
       "   <td style=\"text-align:left;\"> Enhancer </td>\n",
       "  </tr>\n",
       "  <tr>\n",
       "   <td style=\"text-align:left;\"> chr1 </td>\n",
       "   <td style=\"text-align:right;\"> 605104 </td>\n",
       "   <td style=\"text-align:right;\"> 605675 </td>\n",
       "   <td style=\"text-align:left;\"> chr1:605104-605675 </td>\n",
       "   <td style=\"text-align:left;\"> Enhancer </td>\n",
       "   <td style=\"text-align:right;\"> 1 </td>\n",
       "   <td style=\"text-align:right;\"> 0 </td>\n",
       "   <td style=\"text-align:right;\"> 1 </td>\n",
       "   <td style=\"text-align:left;\"> Enhancer </td>\n",
       "   <td style=\"text-align:left;\"> Enhancer </td>\n",
       "  </tr>\n",
       "</tbody>\n",
       "</table>"
      ]
     },
     "metadata": {},
     "output_type": "display_data"
    }
   ],
   "source": [
    "dat = dat_region_annot_fcc_assay_vote\n",
    "vec = c(\"Enhancer\", \"Repressor\", \"Repressor_GCFilter\")\n",
    "\n",
    "dat = dat %>% \n",
    "    dplyr::filter(Type != \"CRISPR\") %>%\n",
    "    dplyr::mutate(TSS    = as.integer(Region %in% vec_txt_region_tss)) %>%\n",
    "    dplyr::mutate(CRISPR = as.integer(Region %in% vec_txt_region_crispr)) %>%\n",
    "    dplyr::mutate(Label  = ifelse(TSS, paste(\"TSS\", Type, sep=\":\"), Type)) %>%\n",
    "    dplyr::mutate(Label2 = ifelse(TSS, \"Promoter\", Type))\n",
    "\n",
    "dat_region_annot_fcc_label = dat\n",
    "print(dim(dat))\n",
    "fun_display_table(head(dat, 3))"
   ]
  },
  {
   "cell_type": "code",
   "execution_count": 8,
   "id": "12644bce-c85d-41f4-b461-84ad4febaaa9",
   "metadata": {},
   "outputs": [
    {
     "data": {
      "text/plain": [
       "\n",
       "          Enhancer          Repressor Repressor_GCFilter \n",
       "             43993              65401              46532 "
      ]
     },
     "metadata": {},
     "output_type": "display_data"
    }
   ],
   "source": [
    "dat = dat_region_annot_fcc_label\n",
    "dat = dat %>% dplyr::select(Region, Type) %>% dplyr::distinct()\n",
    "table(dat$Type)"
   ]
  },
  {
   "cell_type": "code",
   "execution_count": 9,
   "id": "0db2f7b7-300c-40e0-8512-6512f309eb7b",
   "metadata": {},
   "outputs": [
    {
     "data": {
      "text/plain": [
       "\n",
       "              Enhancer              Repressor     Repressor_GCFilter \n",
       "                 35731                  61395                  45615 \n",
       "          TSS:Enhancer          TSS:Repressor TSS:Repressor_GCFilter \n",
       "                  8262                   4006                    917 "
      ]
     },
     "metadata": {},
     "output_type": "display_data"
    }
   ],
   "source": [
    "dat = dat_region_annot_fcc_label\n",
    "dat = dat %>% dplyr::select(Region, Label) %>% dplyr::distinct()\n",
    "table(dat$Label)"
   ]
  },
  {
   "cell_type": "code",
   "execution_count": 10,
   "id": "2268b3a2-cb4d-4bc5-ab84-8b79bbc860f7",
   "metadata": {},
   "outputs": [
    {
     "data": {
      "text/plain": [
       "\n",
       "          Enhancer           Promoter          Repressor Repressor_GCFilter \n",
       "             35731               9290              61395              45615 "
      ]
     },
     "metadata": {},
     "output_type": "display_data"
    }
   ],
   "source": [
    "dat = dat_region_annot_fcc_label\n",
    "dat = dat %>% dplyr::select(Region, Label2) %>% dplyr::distinct()\n",
    "table(dat$Label2)"
   ]
  },
  {
   "cell_type": "markdown",
   "id": "2360c368-6572-4163-a7f4-12d88d85ba8c",
   "metadata": {},
   "source": [
    "## Export results"
   ]
  },
  {
   "cell_type": "code",
   "execution_count": 11,
   "id": "aa570899-a584-41a4-bc9b-6513dcf536eb",
   "metadata": {},
   "outputs": [],
   "source": [
    "txt_fdiry = file.path(\n",
    "    FD_RES, \n",
    "    \"region_annotation\", \n",
    "    \"fcc_astarr_macs_input_overlap\",\n",
    "    \"summary\"\n",
    ")\n",
    "txt_fname = \"region.summary.fcc_peak_call.label.tsv\"\n",
    "txt_fpath = file.path(txt_fdiry, txt_fname)\n",
    "\n",
    "dat = dat_region_annot_fcc_label\n",
    "dat = dat %>% dplyr::arrange(Chrom, ChromStart, ChromEnd, Type)\n",
    "write_tsv(dat, txt_fpath)"
   ]
  },
  {
   "cell_type": "code",
   "execution_count": null,
   "id": "80be02b7-627f-47e8-ba06-e49ff2bc8473",
   "metadata": {},
   "outputs": [],
   "source": []
  },
  {
   "cell_type": "code",
   "execution_count": 57,
   "id": "e83616a7-b789-4461-b418-b44883626fbf",
   "metadata": {},
   "outputs": [],
   "source": [
    "library(UpSetR)"
   ]
  },
  {
   "cell_type": "code",
   "execution_count": 58,
   "id": "e0e77a2f-0a67-4d0f-937a-8d229333937f",
   "metadata": {},
   "outputs": [],
   "source": [
    "dat = dat_region_annot_fcc_label\n",
    "vec = dat$Region\n",
    "lst = list(\n",
    "    \"Enhancer\"  = vec[dat$Type == \"Enhancer\"],\n",
    "    \"Repressor\" = vec[dat$Type == \"Repressor\"],\n",
    "    \"TSS\"       = vec[dat$TSS     > 0],\n",
    "    \"CRISPR\"    = vec[dat$CRISPR  > 0]\n",
    ")"
   ]
  },
  {
   "cell_type": "code",
   "execution_count": 63,
   "id": "b19ab415-d24e-47fa-8def-85921df04909",
   "metadata": {},
   "outputs": [
    {
     "data": {
      "image/png": "[encoded data removed]",
      "text/plain": [
       "plot without title"
      ]
     },
     "metadata": {
      "image/png": {
       "height": 360,
       "width": 420
      }
     },
     "output_type": "display_data"
    }
   ],
   "source": [
    "options(repr.plot.width = 7, repr.plot.height = 6)\n",
    "upset(fromList(lst), order.by = \"freq\")"
   ]
  },
  {
   "cell_type": "code",
   "execution_count": 66,
   "id": "675f5b6f-e43c-496b-9304-25ee20415f12",
   "metadata": {},
   "outputs": [
    {
     "name": "stdout",
     "output_type": "stream",
     "text": [
      "[1] 0.9343403\n",
      "[1] 0.8423482\n"
     ]
    }
   ],
   "source": [
    "vec1 = lst[[\"TSS\"]]\n",
    "vec2 = lst[[\"Enhancer\"]]\n",
    "vec3 = lst[[\"Repressor\"]]\n",
    "print(mean(vec1 %in% vec2))\n",
    "print(mean(vec1 %in% vec3))"
   ]
  },
  {
   "cell_type": "code",
   "execution_count": 67,
   "id": "8b79885c-178c-4631-9cbc-16d74ffb85a3",
   "metadata": {},
   "outputs": [],
   "source": [
    "dat = dat_region_annot_fcc_label\n",
    "dat = dat %>% dplyr::filter(Num_Assay > 1)\n",
    "\n",
    "vec = dat$Region\n",
    "lst = list(\n",
    "    \"Enhancer\"  = vec[dat$Type == \"Enhancer\"],\n",
    "    \"Repressor\" = vec[dat$Type == \"Repressor\"],\n",
    "    \"TSS\"       = vec[dat$TSS     > 0],\n",
    "    \"CRISPR\"    = vec[dat$CRISPR  > 0]\n",
    ")"
   ]
  },
  {
   "cell_type": "code",
   "execution_count": 68,
   "id": "0c9f6346-6cfe-4e2e-be71-b1a3bad92360",
   "metadata": {},
   "outputs": [
    {
     "data": {
      "image/png": "[encoded data removed]",
      "text/plain": [
       "plot without title"
      ]
     },
     "metadata": {
      "image/png": {
       "height": 360,
       "width": 420
      }
     },
     "output_type": "display_data"
    }
   ],
   "source": [
    "options(repr.plot.width = 7, repr.plot.height = 6)\n",
    "upset(fromList(lst), order.by = \"freq\")"
   ]
  },
  {
   "cell_type": "code",
   "execution_count": 69,
   "id": "2d8e8636-58eb-4f54-bfde-5b7fc0639f29",
   "metadata": {},
   "outputs": [
    {
     "name": "stdout",
     "output_type": "stream",
     "text": [
      "[1] 0.9635471\n",
      "[1] 0.09686059\n"
     ]
    }
   ],
   "source": [
    "vec1 = lst[[\"TSS\"]]\n",
    "vec2 = lst[[\"Enhancer\"]]\n",
    "vec3 = lst[[\"Repressor\"]]\n",
    "print(mean(vec1 %in% vec2))\n",
    "print(mean(vec1 %in% vec3))"
   ]
  },
  {
   "cell_type": "code",
   "execution_count": null,
   "id": "7d069c76-6e86-44f9-95f0-02af7d7a6b9e",
   "metadata": {},
   "outputs": [],
   "source": []
  },
  {
   "cell_type": "code",
   "execution_count": 70,
   "id": "c258c32a-ce01-46a3-9ecc-01f867743c35",
   "metadata": {},
   "outputs": [
    {
     "data": {
      "text/html": [
       "<table class=\"dataframe\">\n",
       "<caption>A data.frame: 7 × 5</caption>\n",
       "<thead>\n",
       "\t<tr><th scope=col>Label</th><th scope=col>CRISPR_Not_Significant</th><th scope=col>CRISPR_Significant</th><th scope=col>Sum</th><th scope=col>Percentage</th></tr>\n",
       "\t<tr><th scope=col>&lt;fct&gt;</th><th scope=col>&lt;dbl&gt;</th><th scope=col>&lt;dbl&gt;</th><th scope=col>&lt;dbl&gt;</th><th scope=col>&lt;dbl&gt;</th></tr>\n",
       "</thead>\n",
       "<tbody>\n",
       "\t<tr><td>Enhancer              </td><td> 37540</td><td>1512</td><td> 39052</td><td>0.03871761</td></tr>\n",
       "\t<tr><td>Repressor             </td><td> 66025</td><td>1742</td><td> 67767</td><td>0.02570573</td></tr>\n",
       "\t<tr><td>Repressor_GCFilter    </td><td> 49899</td><td>1158</td><td> 51057</td><td>0.02268053</td></tr>\n",
       "\t<tr><td>TSS:Enhancer          </td><td>  7193</td><td>1441</td><td>  8634</td><td>0.16689831</td></tr>\n",
       "\t<tr><td>TSS:Repressor         </td><td>  5892</td><td> 883</td><td>  6775</td><td>0.13033210</td></tr>\n",
       "\t<tr><td>TSS:Repressor_GCFilter</td><td>  1738</td><td> 398</td><td>  2136</td><td>0.18632959</td></tr>\n",
       "\t<tr><td>Sum                   </td><td>168287</td><td>7134</td><td>175421</td><td>0.04066788</td></tr>\n",
       "</tbody>\n",
       "</table>\n"
      ],
      "text/latex": [
       "A data.frame: 7 × 5\n",
       "\\begin{tabular}{lllll}\n",
       " Label & CRISPR\\_Not\\_Significant & CRISPR\\_Significant & Sum & Percentage\\\\\n",
       " <fct> & <dbl> & <dbl> & <dbl> & <dbl>\\\\\n",
       "\\hline\n",
       "\t Enhancer               &  37540 & 1512 &  39052 & 0.03871761\\\\\n",
       "\t Repressor              &  66025 & 1742 &  67767 & 0.02570573\\\\\n",
       "\t Repressor\\_GCFilter     &  49899 & 1158 &  51057 & 0.02268053\\\\\n",
       "\t TSS:Enhancer           &   7193 & 1441 &   8634 & 0.16689831\\\\\n",
       "\t TSS:Repressor          &   5892 &  883 &   6775 & 0.13033210\\\\\n",
       "\t TSS:Repressor\\_GCFilter &   1738 &  398 &   2136 & 0.18632959\\\\\n",
       "\t Sum                    & 168287 & 7134 & 175421 & 0.04066788\\\\\n",
       "\\end{tabular}\n"
      ],
      "text/markdown": [
       "\n",
       "A data.frame: 7 × 5\n",
       "\n",
       "| Label &lt;fct&gt; | CRISPR_Not_Significant &lt;dbl&gt; | CRISPR_Significant &lt;dbl&gt; | Sum &lt;dbl&gt; | Percentage &lt;dbl&gt; |\n",
       "|---|---|---|---|---|\n",
       "| Enhancer               |  37540 | 1512 |  39052 | 0.03871761 |\n",
       "| Repressor              |  66025 | 1742 |  67767 | 0.02570573 |\n",
       "| Repressor_GCFilter     |  49899 | 1158 |  51057 | 0.02268053 |\n",
       "| TSS:Enhancer           |   7193 | 1441 |   8634 | 0.16689831 |\n",
       "| TSS:Repressor          |   5892 |  883 |   6775 | 0.13033210 |\n",
       "| TSS:Repressor_GCFilter |   1738 |  398 |   2136 | 0.18632959 |\n",
       "| Sum                    | 168287 | 7134 | 175421 | 0.04066788 |\n",
       "\n"
      ],
      "text/plain": [
       "  Label                  CRISPR_Not_Significant CRISPR_Significant Sum   \n",
       "1 Enhancer                37540                 1512                39052\n",
       "2 Repressor               66025                 1742                67767\n",
       "3 Repressor_GCFilter      49899                 1158                51057\n",
       "4 TSS:Enhancer             7193                 1441                 8634\n",
       "5 TSS:Repressor            5892                  883                 6775\n",
       "6 TSS:Repressor_GCFilter   1738                  398                 2136\n",
       "7 Sum                    168287                 7134               175421\n",
       "  Percentage\n",
       "1 0.03871761\n",
       "2 0.02570573\n",
       "3 0.02268053\n",
       "4 0.16689831\n",
       "5 0.13033210\n",
       "6 0.18632959\n",
       "7 0.04066788"
      ]
     },
     "metadata": {},
     "output_type": "display_data"
    }
   ],
   "source": [
    "dat = dat_region_annot_fcc_label\n",
    "dat = dat %>% dplyr::mutate(\n",
    "    CRISPR = ifelse(\n",
    "        CRISPR, \n",
    "        \"CRISPR_Significant\", \n",
    "        \"CRISPR_Not_Significant\"\n",
    "    )\n",
    ")\n",
    "\n",
    "dat = addmargins(table(dat$Label, dat$CRISPR))\n",
    "dat = dat %>% \n",
    "    as.data.frame %>% \n",
    "    tidyr::spread(Var2, Freq)\n",
    "colnames(dat)[1] = \"Label\"\n",
    "\n",
    "dat = dat %>% dplyr::mutate(Percentage = CRISPR_Significant / Sum)\n",
    "dat"
   ]
  },
  {
   "cell_type": "code",
   "execution_count": 71,
   "id": "9b5f2e6d-e8ba-4152-af29-bba3439e99b3",
   "metadata": {},
   "outputs": [
    {
     "data": {
      "text/html": [
       "<table class=\"dataframe\">\n",
       "<caption>A data.frame: 7 × 5</caption>\n",
       "<thead>\n",
       "\t<tr><th scope=col>Label</th><th scope=col>CRISPR_Not_Significant</th><th scope=col>CRISPR_Significant</th><th scope=col>Sum</th><th scope=col>Percentage</th></tr>\n",
       "\t<tr><th scope=col>&lt;fct&gt;</th><th scope=col>&lt;dbl&gt;</th><th scope=col>&lt;dbl&gt;</th><th scope=col>&lt;dbl&gt;</th><th scope=col>&lt;dbl&gt;</th></tr>\n",
       "</thead>\n",
       "<tbody>\n",
       "\t<tr><td>Enhancer              </td><td>13323</td><td> 711</td><td>14034</td><td>0.05066268</td></tr>\n",
       "\t<tr><td>Repressor             </td><td> 2146</td><td>  66</td><td> 2212</td><td>0.02983725</td></tr>\n",
       "\t<tr><td>Repressor_GCFilter    </td><td> 1496</td><td>  41</td><td> 1537</td><td>0.02667534</td></tr>\n",
       "\t<tr><td>TSS:Enhancer          </td><td> 5057</td><td>1192</td><td> 6249</td><td>0.19075052</td></tr>\n",
       "\t<tr><td>TSS:Repressor         </td><td>  364</td><td>  43</td><td>  407</td><td>0.10565111</td></tr>\n",
       "\t<tr><td>TSS:Repressor_GCFilter</td><td>   49</td><td>  16</td><td>   65</td><td>0.24615385</td></tr>\n",
       "\t<tr><td>Sum                   </td><td>22435</td><td>2069</td><td>24504</td><td>0.08443519</td></tr>\n",
       "</tbody>\n",
       "</table>\n"
      ],
      "text/latex": [
       "A data.frame: 7 × 5\n",
       "\\begin{tabular}{lllll}\n",
       " Label & CRISPR\\_Not\\_Significant & CRISPR\\_Significant & Sum & Percentage\\\\\n",
       " <fct> & <dbl> & <dbl> & <dbl> & <dbl>\\\\\n",
       "\\hline\n",
       "\t Enhancer               & 13323 &  711 & 14034 & 0.05066268\\\\\n",
       "\t Repressor              &  2146 &   66 &  2212 & 0.02983725\\\\\n",
       "\t Repressor\\_GCFilter     &  1496 &   41 &  1537 & 0.02667534\\\\\n",
       "\t TSS:Enhancer           &  5057 & 1192 &  6249 & 0.19075052\\\\\n",
       "\t TSS:Repressor          &   364 &   43 &   407 & 0.10565111\\\\\n",
       "\t TSS:Repressor\\_GCFilter &    49 &   16 &    65 & 0.24615385\\\\\n",
       "\t Sum                    & 22435 & 2069 & 24504 & 0.08443519\\\\\n",
       "\\end{tabular}\n"
      ],
      "text/markdown": [
       "\n",
       "A data.frame: 7 × 5\n",
       "\n",
       "| Label &lt;fct&gt; | CRISPR_Not_Significant &lt;dbl&gt; | CRISPR_Significant &lt;dbl&gt; | Sum &lt;dbl&gt; | Percentage &lt;dbl&gt; |\n",
       "|---|---|---|---|---|\n",
       "| Enhancer               | 13323 |  711 | 14034 | 0.05066268 |\n",
       "| Repressor              |  2146 |   66 |  2212 | 0.02983725 |\n",
       "| Repressor_GCFilter     |  1496 |   41 |  1537 | 0.02667534 |\n",
       "| TSS:Enhancer           |  5057 | 1192 |  6249 | 0.19075052 |\n",
       "| TSS:Repressor          |   364 |   43 |   407 | 0.10565111 |\n",
       "| TSS:Repressor_GCFilter |    49 |   16 |    65 | 0.24615385 |\n",
       "| Sum                    | 22435 | 2069 | 24504 | 0.08443519 |\n",
       "\n"
      ],
      "text/plain": [
       "  Label                  CRISPR_Not_Significant CRISPR_Significant Sum  \n",
       "1 Enhancer               13323                   711               14034\n",
       "2 Repressor               2146                    66                2212\n",
       "3 Repressor_GCFilter      1496                    41                1537\n",
       "4 TSS:Enhancer            5057                  1192                6249\n",
       "5 TSS:Repressor            364                    43                 407\n",
       "6 TSS:Repressor_GCFilter    49                    16                  65\n",
       "7 Sum                    22435                  2069               24504\n",
       "  Percentage\n",
       "1 0.05066268\n",
       "2 0.02983725\n",
       "3 0.02667534\n",
       "4 0.19075052\n",
       "5 0.10565111\n",
       "6 0.24615385\n",
       "7 0.08443519"
      ]
     },
     "metadata": {},
     "output_type": "display_data"
    }
   ],
   "source": [
    "dat = dat_region_annot_fcc_label\n",
    "dat = dat %>% dplyr::filter(Num_Assay > 1)\n",
    "\n",
    "dat = dat %>% dplyr::mutate(\n",
    "    CRISPR = ifelse(\n",
    "        CRISPR, \n",
    "        \"CRISPR_Significant\", \n",
    "        \"CRISPR_Not_Significant\"\n",
    "    )\n",
    ")\n",
    "\n",
    "dat = addmargins(table(dat$Label, dat$CRISPR))\n",
    "dat = dat %>% \n",
    "    as.data.frame %>% \n",
    "    tidyr::spread(Var2, Freq)\n",
    "colnames(dat)[1] = \"Label\"\n",
    "\n",
    "dat = dat %>% dplyr::mutate(Percentage = CRISPR_Significant / Sum)\n",
    "dat"
   ]
  },
  {
   "cell_type": "code",
   "execution_count": null,
   "id": "7ea5440a-1414-4dd3-a82a-6d2333b12f95",
   "metadata": {},
   "outputs": [],
   "source": []
  }
 ],
 "metadata": {
  "kernelspec": {
   "display_name": "R",
   "language": "R",
   "name": "ir"
  },
  "language_info": {
   "codemirror_mode": "r",
   "file_extension": ".r",
   "mimetype": "text/x-r-source",
   "name": "R",
   "pygments_lexer": "r",
   "version": "4.4.1"
  }
 },
 "nbformat": 4,
 "nbformat_minor": 5
}
