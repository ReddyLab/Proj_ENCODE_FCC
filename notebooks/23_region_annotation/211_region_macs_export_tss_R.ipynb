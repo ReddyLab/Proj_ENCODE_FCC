{
 "cells": [
  {
   "cell_type": "raw",
   "id": "95444087-4a37-472a-9210-61d9b03d3e2b",
   "metadata": {},
   "source": [
    "---\n",
    "title: FCC Peak calls\n",
    "subtitle: export annotation\n",
    "format:\n",
    "    html:\n",
    "        code-fold:  true\n",
    "        code-tools: true\n",
    "---"
   ]
  },
  {
   "cell_type": "markdown",
   "id": "73996bbe-747e-48de-8b0a-230fc2deb2e1",
   "metadata": {},
   "source": [
    "**Set environment**"
   ]
  },
  {
   "cell_type": "code",
   "execution_count": 1,
   "id": "d1cd54f6-8565-48b1-9421-21e560a43cc8",
   "metadata": {
    "tags": []
   },
   "outputs": [
    {
     "name": "stdout",
     "output_type": "stream",
     "text": [
      "You are working on        Singularity \n",
      "BASE DIRECTORY (FD_BASE): /mount \n",
      "REPO DIRECTORY (FD_REPO): /mount/repo \n",
      "WORK DIRECTORY (FD_WORK): /mount/work \n",
      "DATA DIRECTORY (FD_DATA): /mount/data \n",
      "\n",
      "You are working with      ENCODE FCC \n",
      "PATH OF PROJECT (FD_PRJ): /mount/repo/Proj_ENCODE_FCC \n",
      "PROJECT RESULTS (FD_RES): /mount/repo/Proj_ENCODE_FCC/results \n",
      "PROJECT SCRIPTS (FD_EXE): /mount/repo/Proj_ENCODE_FCC/scripts \n",
      "PROJECT DATA    (FD_DAT): /mount/repo/Proj_ENCODE_FCC/data \n",
      "PROJECT NOTE    (FD_NBK): /mount/repo/Proj_ENCODE_FCC/notebooks \n",
      "PROJECT DOCS    (FD_DOC): /mount/repo/Proj_ENCODE_FCC/docs \n",
      "PROJECT LOG     (FD_LOG): /mount/repo/Proj_ENCODE_FCC/log \n",
      "PROJECT APP     (FD_APP): /mount/repo/Proj_ENCODE_FCC/app \n",
      "PROJECT REF     (FD_REF): /mount/repo/Proj_ENCODE_FCC/references \n",
      "\n"
     ]
    }
   ],
   "source": [
    "suppressMessages(suppressWarnings(source(\"../run_config_project_sing.R\")))\n",
    "show_env()"
   ]
  },
  {
   "cell_type": "markdown",
   "id": "5b670d9b-2d3b-4a2a-800f-8bf2b2f21f4c",
   "metadata": {},
   "source": [
    "## Import data"
   ]
  },
  {
   "cell_type": "code",
   "execution_count": 2,
   "id": "25b1f9e8-1132-4363-a899-de756e5f0dff",
   "metadata": {},
   "outputs": [
    {
     "name": "stdout",
     "output_type": "stream",
     "text": [
      "[1] 26926    10\n"
     ]
    },
    {
     "data": {
      "text/html": [
       "<table>\n",
       " <thead>\n",
       "  <tr>\n",
       "   <th style=\"text-align:left;\"> Chrom </th>\n",
       "   <th style=\"text-align:right;\"> ChromStart </th>\n",
       "   <th style=\"text-align:right;\"> ChromEnd </th>\n",
       "   <th style=\"text-align:left;\"> Region </th>\n",
       "   <th style=\"text-align:left;\"> Annotation_A </th>\n",
       "   <th style=\"text-align:left;\"> Annotation_B </th>\n",
       "   <th style=\"text-align:left;\"> Group </th>\n",
       "   <th style=\"text-align:left;\"> Label </th>\n",
       "   <th style=\"text-align:left;\"> Region_Annot </th>\n",
       "   <th style=\"text-align:right;\"> Region_Count </th>\n",
       "  </tr>\n",
       " </thead>\n",
       "<tbody>\n",
       "  <tr>\n",
       "   <td style=\"text-align:left;\"> chr1 </td>\n",
       "   <td style=\"text-align:right;\"> 17288 </td>\n",
       "   <td style=\"text-align:right;\"> 17689 </td>\n",
       "   <td style=\"text-align:left;\"> chr1:17288-17689 </td>\n",
       "   <td style=\"text-align:left;\"> fcc_astarr_macs_input_overlap </td>\n",
       "   <td style=\"text-align:left;\"> genome_tss_pol2 </td>\n",
       "   <td style=\"text-align:left;\"> TSS_Pol2 </td>\n",
       "   <td style=\"text-align:left;\"> MIR6859-1 </td>\n",
       "   <td style=\"text-align:left;\"> chr1:17436-17437 </td>\n",
       "   <td style=\"text-align:right;\"> 1 </td>\n",
       "  </tr>\n",
       "  <tr>\n",
       "   <td style=\"text-align:left;\"> chr1 </td>\n",
       "   <td style=\"text-align:right;\"> 17288 </td>\n",
       "   <td style=\"text-align:right;\"> 17689 </td>\n",
       "   <td style=\"text-align:left;\"> chr1:17288-17689 </td>\n",
       "   <td style=\"text-align:left;\"> fcc_astarr_macs_input_overlap </td>\n",
       "   <td style=\"text-align:left;\"> genome_tss_pol2 </td>\n",
       "   <td style=\"text-align:left;\"> TSS_Pol2 </td>\n",
       "   <td style=\"text-align:left;\"> MIR6859-2 </td>\n",
       "   <td style=\"text-align:left;\"> chr1:17436-17437 </td>\n",
       "   <td style=\"text-align:right;\"> 1 </td>\n",
       "  </tr>\n",
       "  <tr>\n",
       "   <td style=\"text-align:left;\"> chr1 </td>\n",
       "   <td style=\"text-align:right;\"> 17288 </td>\n",
       "   <td style=\"text-align:right;\"> 17689 </td>\n",
       "   <td style=\"text-align:left;\"> chr1:17288-17689 </td>\n",
       "   <td style=\"text-align:left;\"> fcc_astarr_macs_input_overlap </td>\n",
       "   <td style=\"text-align:left;\"> genome_tss_pol2 </td>\n",
       "   <td style=\"text-align:left;\"> TSS_Pol2 </td>\n",
       "   <td style=\"text-align:left;\"> MIR6859-3 </td>\n",
       "   <td style=\"text-align:left;\"> chr1:17436-17437 </td>\n",
       "   <td style=\"text-align:right;\"> 1 </td>\n",
       "  </tr>\n",
       "</tbody>\n",
       "</table>"
      ]
     },
     "metadata": {},
     "output_type": "display_data"
    }
   ],
   "source": [
    "txt_fdiry = file.path(\n",
    "    FD_RES, \n",
    "    \"region_annotation\", \n",
    "    \"fcc_astarr_macs_input_overlap\",\n",
    "    \"summary\"\n",
    ")\n",
    "txt_fname = \"region.annotation.genome_tss.tsv\"\n",
    "txt_fpath = file.path(txt_fdiry, txt_fname)\n",
    "\n",
    "dat = read_tsv(txt_fpath, show_col_types = FALSE)\n",
    "\n",
    "dat_region_annot_import = dat\n",
    "print(dim(dat))\n",
    "fun_display_table(head(dat, 3))"
   ]
  },
  {
   "cell_type": "code",
   "execution_count": 3,
   "id": "5175c0c4-74d3-4105-85f5-adaf52bb653b",
   "metadata": {},
   "outputs": [
    {
     "name": "stdout",
     "output_type": "stream",
     "text": [
      "[1] 1247    1\n"
     ]
    },
    {
     "data": {
      "text/html": [
       "<table>\n",
       " <thead>\n",
       "  <tr>\n",
       "   <th style=\"text-align:left;\"> Gene </th>\n",
       "  </tr>\n",
       " </thead>\n",
       "<tbody>\n",
       "  <tr>\n",
       "   <td style=\"text-align:left;\"> AAMP (14) </td>\n",
       "  </tr>\n",
       "  <tr>\n",
       "   <td style=\"text-align:left;\"> AARS1 (16) </td>\n",
       "  </tr>\n",
       "  <tr>\n",
       "   <td style=\"text-align:left;\"> AASDHPPT (60496) </td>\n",
       "  </tr>\n",
       "</tbody>\n",
       "</table>"
      ]
     },
     "metadata": {},
     "output_type": "display_data"
    }
   ],
   "source": [
    "txt_fdiry = file.path(\n",
    "    FD_REF,\n",
    "    \"genome_gene\"\n",
    ")\n",
    "txt_fname = \"demap.v24Q2.AchillesCommonEssentialControls.csv\"\n",
    "txt_fpath = file.path(txt_fdiry, txt_fname)\n",
    "\n",
    "dat = read_csv(txt_fpath, show_col_types = FALSE)\n",
    "\n",
    "dat_gene_essential_import = dat\n",
    "print(dim(dat))\n",
    "fun_display_table(head(dat, 3))"
   ]
  },
  {
   "cell_type": "code",
   "execution_count": 4,
   "id": "8f5e350b-c828-452a-8350-84a8010f73b3",
   "metadata": {},
   "outputs": [
    {
     "data": {
      "text/plain": [
       "\n",
       "       TSS_Pol2 TSS_Pol2_RNAseq \n",
       "          16109           10817 "
      ]
     },
     "metadata": {},
     "output_type": "display_data"
    }
   ],
   "source": [
    "dat = dat_region_annot_import\n",
    "table(dat$Group)"
   ]
  },
  {
   "cell_type": "markdown",
   "id": "c7025827-6c64-426c-8467-e1790cb38d3b",
   "metadata": {},
   "source": [
    "## Summary"
   ]
  },
  {
   "cell_type": "code",
   "execution_count": 5,
   "id": "e0689cf8-04e9-47ed-8290-e518898a28be",
   "metadata": {},
   "outputs": [
    {
     "data": {
      "text/html": [
       "<table class=\"dataframe\">\n",
       "<caption>A tibble: 6 × 2</caption>\n",
       "<thead>\n",
       "\t<tr><th scope=col>Gene</th><th scope=col>Note</th></tr>\n",
       "\t<tr><th scope=col>&lt;chr&gt;</th><th scope=col>&lt;chr&gt;</th></tr>\n",
       "</thead>\n",
       "<tbody>\n",
       "\t<tr><td>AAMP    </td><td>(14)   </td></tr>\n",
       "\t<tr><td>AARS1   </td><td>(16)   </td></tr>\n",
       "\t<tr><td>AASDHPPT</td><td>(60496)</td></tr>\n",
       "\t<tr><td>ABCB7   </td><td>(22)   </td></tr>\n",
       "\t<tr><td>ABCE1   </td><td>(6059) </td></tr>\n",
       "\t<tr><td>ABCF1   </td><td>(23)   </td></tr>\n",
       "</tbody>\n",
       "</table>\n"
      ],
      "text/latex": [
       "A tibble: 6 × 2\n",
       "\\begin{tabular}{ll}\n",
       " Gene & Note\\\\\n",
       " <chr> & <chr>\\\\\n",
       "\\hline\n",
       "\t AAMP     & (14)   \\\\\n",
       "\t AARS1    & (16)   \\\\\n",
       "\t AASDHPPT & (60496)\\\\\n",
       "\t ABCB7    & (22)   \\\\\n",
       "\t ABCE1    & (6059) \\\\\n",
       "\t ABCF1    & (23)   \\\\\n",
       "\\end{tabular}\n"
      ],
      "text/markdown": [
       "\n",
       "A tibble: 6 × 2\n",
       "\n",
       "| Gene &lt;chr&gt; | Note &lt;chr&gt; |\n",
       "|---|---|\n",
       "| AAMP     | (14)    |\n",
       "| AARS1    | (16)    |\n",
       "| AASDHPPT | (60496) |\n",
       "| ABCB7    | (22)    |\n",
       "| ABCE1    | (6059)  |\n",
       "| ABCF1    | (23)    |\n",
       "\n"
      ],
      "text/plain": [
       "  Gene     Note   \n",
       "1 AAMP     (14)   \n",
       "2 AARS1    (16)   \n",
       "3 AASDHPPT (60496)\n",
       "4 ABCB7    (22)   \n",
       "5 ABCE1    (6059) \n",
       "6 ABCF1    (23)   "
      ]
     },
     "metadata": {},
     "output_type": "display_data"
    }
   ],
   "source": [
    "dat = dat_gene_essential_import\n",
    "dat = dat %>% tidyr::separate(col=\"Gene\", into=c(\"Gene\", \"Note\"), sep = \" \")\n",
    "\n",
    "dat_gene_essential_arrange = dat\n",
    "head(dat)"
   ]
  },
  {
   "cell_type": "code",
   "execution_count": 7,
   "id": "cb0a5ae1-8bb9-4edb-9c37-b3e138661072",
   "metadata": {},
   "outputs": [
    {
     "name": "stdout",
     "output_type": "stream",
     "text": [
      "[1] 10817     7\n"
     ]
    },
    {
     "data": {
      "text/html": [
       "<table>\n",
       " <thead>\n",
       "  <tr>\n",
       "   <th style=\"text-align:left;\"> Chrom </th>\n",
       "   <th style=\"text-align:right;\"> ChromStart </th>\n",
       "   <th style=\"text-align:right;\"> ChromEnd </th>\n",
       "   <th style=\"text-align:left;\"> Region </th>\n",
       "   <th style=\"text-align:left;\"> Group </th>\n",
       "   <th style=\"text-align:left;\"> Label </th>\n",
       "   <th style=\"text-align:left;\"> Essential </th>\n",
       "  </tr>\n",
       " </thead>\n",
       "<tbody>\n",
       "  <tr>\n",
       "   <td style=\"text-align:left;\"> chr1 </td>\n",
       "   <td style=\"text-align:right;\"> 28934 </td>\n",
       "   <td style=\"text-align:right;\"> 29499 </td>\n",
       "   <td style=\"text-align:left;\"> chr1:28934-29499 </td>\n",
       "   <td style=\"text-align:left;\"> TSS_Pol2_RNAseq </td>\n",
       "   <td style=\"text-align:left;\"> WASH7P </td>\n",
       "   <td style=\"text-align:left;\"> FALSE </td>\n",
       "  </tr>\n",
       "  <tr>\n",
       "   <td style=\"text-align:left;\"> chr1 </td>\n",
       "   <td style=\"text-align:right;\"> 826796 </td>\n",
       "   <td style=\"text-align:right;\"> 828040 </td>\n",
       "   <td style=\"text-align:left;\"> chr1:826796-828040 </td>\n",
       "   <td style=\"text-align:left;\"> TSS_Pol2_RNAseq </td>\n",
       "   <td style=\"text-align:left;\"> LINC00115 </td>\n",
       "   <td style=\"text-align:left;\"> FALSE </td>\n",
       "  </tr>\n",
       "  <tr>\n",
       "   <td style=\"text-align:left;\"> chr1 </td>\n",
       "   <td style=\"text-align:right;\"> 826796 </td>\n",
       "   <td style=\"text-align:right;\"> 828040 </td>\n",
       "   <td style=\"text-align:left;\"> chr1:826796-828040 </td>\n",
       "   <td style=\"text-align:left;\"> TSS_Pol2_RNAseq </td>\n",
       "   <td style=\"text-align:left;\"> LINC01128 </td>\n",
       "   <td style=\"text-align:left;\"> FALSE </td>\n",
       "  </tr>\n",
       "</tbody>\n",
       "</table>"
      ]
     },
     "metadata": {},
     "output_type": "display_data"
    }
   ],
   "source": [
    "dat = dat_gene_essential_arrange\n",
    "vec = dat$Gene\n",
    "\n",
    "dat = dat_region_annot_import\n",
    "dat = dat %>% \n",
    "    dplyr::filter(Group == \"TSS_Pol2_RNAseq\") %>%\n",
    "    dplyr::select(Chrom, ChromStart, ChromEnd, Region, Group, Label) %>%\n",
    "    dplyr::distinct()\n",
    "\n",
    "dat = dat %>% \n",
    "    dplyr::rowwise() %>%\n",
    "    dplyr::mutate(Essential = Label %in% vec) %>%\n",
    "    dplyr::ungroup()\n",
    "\n",
    "\n",
    "dat_region_annot_arrange = dat\n",
    "print(dim(dat))\n",
    "fun_display_table(head(dat, 3))"
   ]
  },
  {
   "cell_type": "code",
   "execution_count": 8,
   "id": "64e08d80-9245-41dd-b386-e9f40fb9575d",
   "metadata": {},
   "outputs": [
    {
     "name": "stdout",
     "output_type": "stream",
     "text": [
      "[1] 10817     5\n"
     ]
    },
    {
     "data": {
      "text/html": [
       "<table>\n",
       " <thead>\n",
       "  <tr>\n",
       "   <th style=\"text-align:left;\"> Chrom </th>\n",
       "   <th style=\"text-align:right;\"> ChromStart </th>\n",
       "   <th style=\"text-align:right;\"> ChromEnd </th>\n",
       "   <th style=\"text-align:left;\"> Region </th>\n",
       "   <th style=\"text-align:right;\"> TSS </th>\n",
       "  </tr>\n",
       " </thead>\n",
       "<tbody>\n",
       "  <tr>\n",
       "   <td style=\"text-align:left;\"> chr1 </td>\n",
       "   <td style=\"text-align:right;\"> 28934 </td>\n",
       "   <td style=\"text-align:right;\"> 29499 </td>\n",
       "   <td style=\"text-align:left;\"> chr1:28934-29499 </td>\n",
       "   <td style=\"text-align:right;\"> 1 </td>\n",
       "  </tr>\n",
       "  <tr>\n",
       "   <td style=\"text-align:left;\"> chr1 </td>\n",
       "   <td style=\"text-align:right;\"> 826796 </td>\n",
       "   <td style=\"text-align:right;\"> 828040 </td>\n",
       "   <td style=\"text-align:left;\"> chr1:826796-828040 </td>\n",
       "   <td style=\"text-align:right;\"> 1 </td>\n",
       "  </tr>\n",
       "  <tr>\n",
       "   <td style=\"text-align:left;\"> chr1 </td>\n",
       "   <td style=\"text-align:right;\"> 826796 </td>\n",
       "   <td style=\"text-align:right;\"> 828040 </td>\n",
       "   <td style=\"text-align:left;\"> chr1:826796-828040 </td>\n",
       "   <td style=\"text-align:right;\"> 1 </td>\n",
       "  </tr>\n",
       "</tbody>\n",
       "</table>"
      ]
     },
     "metadata": {},
     "output_type": "display_data"
    }
   ],
   "source": [
    "dat = dat_region_annot_arrange\n",
    "dat = dat %>%\n",
    "    dplyr::select(Chrom, ChromStart, ChromEnd, Region) %>%\n",
    "    dplyr::mutate(TSS = 1)\n",
    "\n",
    "mat_region_annot = dat\n",
    "print(dim(dat))\n",
    "fun_display_table(head(dat, 3))"
   ]
  },
  {
   "cell_type": "markdown",
   "id": "d9ac91bc-c296-406c-b4a4-8be0ae441a59",
   "metadata": {},
   "source": [
    "## Export results"
   ]
  },
  {
   "cell_type": "code",
   "execution_count": 9,
   "id": "85f7fe4d-3723-4ec4-8773-ee8957646f74",
   "metadata": {},
   "outputs": [],
   "source": [
    "txt_fdiry = file.path(\n",
    "    FD_RES, \n",
    "    \"region_annotation\", \n",
    "    \"fcc_astarr_macs_input_overlap\",\n",
    "    \"summary\"\n",
    ")\n",
    "txt_fname = \"region.summary.genome_tss.tsv\"\n",
    "txt_fpath = file.path(txt_fdiry, txt_fname)\n",
    "\n",
    "dat = dat_region_annot_arrange\n",
    "dat = dat %>% dplyr::arrange(Chrom, ChromStart, ChromEnd)\n",
    "\n",
    "write_tsv(dat, txt_fpath)"
   ]
  },
  {
   "cell_type": "code",
   "execution_count": 10,
   "id": "5fb0d597-9e71-4ef2-b825-553f3407cc14",
   "metadata": {},
   "outputs": [],
   "source": [
    "txt_fdiry = file.path(\n",
    "    FD_RES, \n",
    "    \"region_annotation\", \n",
    "    \"fcc_astarr_macs_input_overlap\",\n",
    "    \"summary\"\n",
    ")\n",
    "txt_fname = \"matrix.annotation.genome_tss.tsv\"\n",
    "txt_fpath = file.path(txt_fdiry, txt_fname)\n",
    "\n",
    "dat = mat_region_annot\n",
    "dat = dat %>% dplyr::arrange(Chrom, ChromStart, ChromEnd)\n",
    "\n",
    "write_tsv(dat, txt_fpath)"
   ]
  },
  {
   "cell_type": "code",
   "execution_count": null,
   "id": "cc58bdb1-e445-447c-9591-3c2316db7804",
   "metadata": {},
   "outputs": [],
   "source": []
  }
 ],
 "metadata": {
  "kernelspec": {
   "display_name": "R",
   "language": "R",
   "name": "ir"
  },
  "language_info": {
   "codemirror_mode": "r",
   "file_extension": ".r",
   "mimetype": "text/x-r-source",
   "name": "R",
   "pygments_lexer": "r",
   "version": "4.4.1"
  }
 },
 "nbformat": 4,
 "nbformat_minor": 5
}
