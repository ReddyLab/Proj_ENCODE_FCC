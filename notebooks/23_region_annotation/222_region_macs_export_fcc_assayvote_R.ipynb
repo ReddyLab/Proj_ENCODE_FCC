{
 "cells": [
  {
   "cell_type": "raw",
   "id": "1685744e-e20a-4df4-a49a-835619adf50e",
   "metadata": {},
   "source": [
    "---\n",
    "title: FCC Peak calls\n",
    "subtitle: export annotation\n",
    "format:\n",
    "    html:\n",
    "        code-fold:  true\n",
    "        code-tools: true\n",
    "---"
   ]
  },
  {
   "cell_type": "markdown",
   "id": "3ac07320-4da9-4956-9998-5c8673ae42ce",
   "metadata": {},
   "source": [
    "**Set environment**"
   ]
  },
  {
   "cell_type": "code",
   "execution_count": 1,
   "id": "619ffec3-b58e-494b-97cc-cd90b85c49b5",
   "metadata": {
    "tags": []
   },
   "outputs": [
    {
     "name": "stdout",
     "output_type": "stream",
     "text": [
      "You are working on        Singularity \n",
      "BASE DIRECTORY (FD_BASE): /mount \n",
      "REPO DIRECTORY (FD_REPO): /mount/repo \n",
      "WORK DIRECTORY (FD_WORK): /mount/work \n",
      "DATA DIRECTORY (FD_DATA): /mount/data \n",
      "\n",
      "You are working with      ENCODE FCC \n",
      "PATH OF PROJECT (FD_PRJ): /mount/repo/Proj_ENCODE_FCC \n",
      "PROJECT RESULTS (FD_RES): /mount/repo/Proj_ENCODE_FCC/results \n",
      "PROJECT SCRIPTS (FD_EXE): /mount/repo/Proj_ENCODE_FCC/scripts \n",
      "PROJECT DATA    (FD_DAT): /mount/repo/Proj_ENCODE_FCC/data \n",
      "PROJECT NOTE    (FD_NBK): /mount/repo/Proj_ENCODE_FCC/notebooks \n",
      "PROJECT DOCS    (FD_DOC): /mount/repo/Proj_ENCODE_FCC/docs \n",
      "PROJECT LOG     (FD_LOG): /mount/repo/Proj_ENCODE_FCC/log \n",
      "PROJECT APP     (FD_APP): /mount/repo/Proj_ENCODE_FCC/app \n",
      "PROJECT REF     (FD_REF): /mount/repo/Proj_ENCODE_FCC/references \n",
      "\n"
     ]
    }
   ],
   "source": [
    "suppressMessages(suppressWarnings(source(\"../run_config_project_sing.R\")))\n",
    "show_env()"
   ]
  },
  {
   "cell_type": "markdown",
   "id": "53c44950-7d1e-4ec5-8480-ba3f81d040f3",
   "metadata": {},
   "source": [
    "## Import data"
   ]
  },
  {
   "cell_type": "code",
   "execution_count": 2,
   "id": "ae83f566-873c-4097-b27e-a56c336a02d1",
   "metadata": {},
   "outputs": [
    {
     "name": "stdout",
     "output_type": "stream",
     "text": [
      "[1] 100454     15\n"
     ]
    },
    {
     "data": {
      "text/html": [
       "<table>\n",
       " <thead>\n",
       "  <tr>\n",
       "   <th style=\"text-align:left;\"> Chrom </th>\n",
       "   <th style=\"text-align:right;\"> ChromStart </th>\n",
       "   <th style=\"text-align:right;\"> ChromEnd </th>\n",
       "   <th style=\"text-align:left;\"> Region </th>\n",
       "   <th style=\"text-align:right;\"> ASTARR_A </th>\n",
       "   <th style=\"text-align:right;\"> WSTARR_A </th>\n",
       "   <th style=\"text-align:right;\"> LMPRA_A </th>\n",
       "   <th style=\"text-align:right;\"> TMPRA_A </th>\n",
       "   <th style=\"text-align:right;\"> ASTARR_R </th>\n",
       "   <th style=\"text-align:right;\"> WSTARR_R </th>\n",
       "   <th style=\"text-align:right;\"> LMPRA_R </th>\n",
       "   <th style=\"text-align:right;\"> TMPRA_R </th>\n",
       "   <th style=\"text-align:right;\"> CRISPRi-HCRFF </th>\n",
       "   <th style=\"text-align:right;\"> CRISPRi-Growth </th>\n",
       "   <th style=\"text-align:right;\"> E2G-Benchmark </th>\n",
       "  </tr>\n",
       " </thead>\n",
       "<tbody>\n",
       "  <tr>\n",
       "   <td style=\"text-align:left;\"> chr1 </td>\n",
       "   <td style=\"text-align:right;\"> 10038 </td>\n",
       "   <td style=\"text-align:right;\"> 10405 </td>\n",
       "   <td style=\"text-align:left;\"> chr1:10038-10405 </td>\n",
       "   <td style=\"text-align:right;\"> 0 </td>\n",
       "   <td style=\"text-align:right;\"> 0 </td>\n",
       "   <td style=\"text-align:right;\"> 0 </td>\n",
       "   <td style=\"text-align:right;\"> 0 </td>\n",
       "   <td style=\"text-align:right;\"> 1 </td>\n",
       "   <td style=\"text-align:right;\"> 0 </td>\n",
       "   <td style=\"text-align:right;\"> 0 </td>\n",
       "   <td style=\"text-align:right;\"> 0 </td>\n",
       "   <td style=\"text-align:right;\"> 0 </td>\n",
       "   <td style=\"text-align:right;\"> 0 </td>\n",
       "   <td style=\"text-align:right;\"> 0 </td>\n",
       "  </tr>\n",
       "  <tr>\n",
       "   <td style=\"text-align:left;\"> chr1 </td>\n",
       "   <td style=\"text-align:right;\"> 16025 </td>\n",
       "   <td style=\"text-align:right;\"> 16338 </td>\n",
       "   <td style=\"text-align:left;\"> chr1:16025-16338 </td>\n",
       "   <td style=\"text-align:right;\"> 0 </td>\n",
       "   <td style=\"text-align:right;\"> 0 </td>\n",
       "   <td style=\"text-align:right;\"> 0 </td>\n",
       "   <td style=\"text-align:right;\"> 0 </td>\n",
       "   <td style=\"text-align:right;\"> 1 </td>\n",
       "   <td style=\"text-align:right;\"> 0 </td>\n",
       "   <td style=\"text-align:right;\"> 0 </td>\n",
       "   <td style=\"text-align:right;\"> 0 </td>\n",
       "   <td style=\"text-align:right;\"> 0 </td>\n",
       "   <td style=\"text-align:right;\"> 0 </td>\n",
       "   <td style=\"text-align:right;\"> 0 </td>\n",
       "  </tr>\n",
       "  <tr>\n",
       "   <td style=\"text-align:left;\"> chr1 </td>\n",
       "   <td style=\"text-align:right;\"> 17288 </td>\n",
       "   <td style=\"text-align:right;\"> 17689 </td>\n",
       "   <td style=\"text-align:left;\"> chr1:17288-17689 </td>\n",
       "   <td style=\"text-align:right;\"> 0 </td>\n",
       "   <td style=\"text-align:right;\"> 0 </td>\n",
       "   <td style=\"text-align:right;\"> 0 </td>\n",
       "   <td style=\"text-align:right;\"> 0 </td>\n",
       "   <td style=\"text-align:right;\"> 1 </td>\n",
       "   <td style=\"text-align:right;\"> 0 </td>\n",
       "   <td style=\"text-align:right;\"> 0 </td>\n",
       "   <td style=\"text-align:right;\"> 0 </td>\n",
       "   <td style=\"text-align:right;\"> 0 </td>\n",
       "   <td style=\"text-align:right;\"> 0 </td>\n",
       "   <td style=\"text-align:right;\"> 0 </td>\n",
       "  </tr>\n",
       "</tbody>\n",
       "</table>"
      ]
     },
     "metadata": {},
     "output_type": "display_data"
    }
   ],
   "source": [
    "txt_fdiry = file.path(\n",
    "    FD_RES, \n",
    "    \"region_annotation\", \n",
    "    \"fcc_astarr_macs_input_overlap\",\n",
    "    \"summary\"\n",
    ")\n",
    "txt_fname = \"matrix.annotation.fcc_peak_call.tsv\"\n",
    "txt_fpath = file.path(txt_fdiry, txt_fname)\n",
    "\n",
    "dat = read_tsv(txt_fpath, show_col_types = FALSE)\n",
    "\n",
    "dat_region_annot_fcc = dat\n",
    "print(dim(dat))\n",
    "fun_display_table(head(dat, 3))"
   ]
  },
  {
   "cell_type": "code",
   "execution_count": 3,
   "id": "1d8505a0-e48a-47b3-a092-40cff10ca55f",
   "metadata": {},
   "outputs": [
    {
     "name": "stdout",
     "output_type": "stream",
     "text": [
      "[1] 3035    6\n"
     ]
    },
    {
     "data": {
      "text/html": [
       "<table>\n",
       " <thead>\n",
       "  <tr>\n",
       "   <th style=\"text-align:left;\"> Chrom </th>\n",
       "   <th style=\"text-align:right;\"> ChromStart </th>\n",
       "   <th style=\"text-align:right;\"> ChromEnd </th>\n",
       "   <th style=\"text-align:left;\"> Region </th>\n",
       "   <th style=\"text-align:left;\"> Regulated_Ifany </th>\n",
       "   <th style=\"text-align:right;\"> Regulated_Count </th>\n",
       "  </tr>\n",
       " </thead>\n",
       "<tbody>\n",
       "  <tr>\n",
       "   <td style=\"text-align:left;\"> chr1 </td>\n",
       "   <td style=\"text-align:right;\"> 3774056 </td>\n",
       "   <td style=\"text-align:right;\"> 3776283 </td>\n",
       "   <td style=\"text-align:left;\"> chr1:3774056-3776283 </td>\n",
       "   <td style=\"text-align:left;\"> TRUE </td>\n",
       "   <td style=\"text-align:right;\"> 3 </td>\n",
       "  </tr>\n",
       "  <tr>\n",
       "   <td style=\"text-align:left;\"> chr1 </td>\n",
       "   <td style=\"text-align:right;\"> 3803955 </td>\n",
       "   <td style=\"text-align:right;\"> 3806146 </td>\n",
       "   <td style=\"text-align:left;\"> chr1:3803955-3806146 </td>\n",
       "   <td style=\"text-align:left;\"> FALSE </td>\n",
       "   <td style=\"text-align:right;\"> 0 </td>\n",
       "  </tr>\n",
       "  <tr>\n",
       "   <td style=\"text-align:left;\"> chr1 </td>\n",
       "   <td style=\"text-align:right;\"> 4126841 </td>\n",
       "   <td style=\"text-align:right;\"> 4128109 </td>\n",
       "   <td style=\"text-align:left;\"> chr1:4126841-4128109 </td>\n",
       "   <td style=\"text-align:left;\"> FALSE </td>\n",
       "   <td style=\"text-align:right;\"> 0 </td>\n",
       "  </tr>\n",
       "</tbody>\n",
       "</table>"
      ]
     },
     "metadata": {},
     "output_type": "display_data"
    }
   ],
   "source": [
    "txt_fdiry = file.path(\n",
    "    FD_RES, \n",
    "    \"region_annotation\", \n",
    "    \"fcc_astarr_macs_input_overlap\",\n",
    "    \"summary\"\n",
    ")\n",
    "txt_fname = \"region.summary.encode_e2g_benchmark.regulated.tsv\"\n",
    "txt_fpath = file.path(txt_fdiry, txt_fname)\n",
    "\n",
    "dat = read_tsv(txt_fpath, show_col_types = FALSE)\n",
    "\n",
    "dat_region_annot_e2g = dat\n",
    "print(dim(dat))\n",
    "fun_display_table(head(dat, 3))"
   ]
  },
  {
   "cell_type": "code",
   "execution_count": 5,
   "id": "40c8a7b4-6f1c-4fcc-a0aa-f6e6152f7fec",
   "metadata": {},
   "outputs": [
    {
     "name": "stdout",
     "output_type": "stream",
     "text": [
      "[1] 150042      6\n"
     ]
    },
    {
     "data": {
      "text/html": [
       "<table>\n",
       " <thead>\n",
       "  <tr>\n",
       "   <th style=\"text-align:left;\"> Chrom </th>\n",
       "   <th style=\"text-align:right;\"> ChromStart </th>\n",
       "   <th style=\"text-align:right;\"> ChromEnd </th>\n",
       "   <th style=\"text-align:left;\"> Region </th>\n",
       "   <th style=\"text-align:right;\"> pGC </th>\n",
       "   <th style=\"text-align:right;\"> Length </th>\n",
       "  </tr>\n",
       " </thead>\n",
       "<tbody>\n",
       "  <tr>\n",
       "   <td style=\"text-align:left;\"> chr1 </td>\n",
       "   <td style=\"text-align:right;\"> 10038 </td>\n",
       "   <td style=\"text-align:right;\"> 10405 </td>\n",
       "   <td style=\"text-align:left;\"> chr1:10038-10405 </td>\n",
       "   <td style=\"text-align:right;\"> 0.523161 </td>\n",
       "   <td style=\"text-align:right;\"> 367 </td>\n",
       "  </tr>\n",
       "  <tr>\n",
       "   <td style=\"text-align:left;\"> chr1 </td>\n",
       "   <td style=\"text-align:right;\"> 14282 </td>\n",
       "   <td style=\"text-align:right;\"> 14614 </td>\n",
       "   <td style=\"text-align:left;\"> chr1:14282-14614 </td>\n",
       "   <td style=\"text-align:right;\"> 0.578313 </td>\n",
       "   <td style=\"text-align:right;\"> 332 </td>\n",
       "  </tr>\n",
       "  <tr>\n",
       "   <td style=\"text-align:left;\"> chr1 </td>\n",
       "   <td style=\"text-align:right;\"> 16025 </td>\n",
       "   <td style=\"text-align:right;\"> 16338 </td>\n",
       "   <td style=\"text-align:left;\"> chr1:16025-16338 </td>\n",
       "   <td style=\"text-align:right;\"> 0.587859 </td>\n",
       "   <td style=\"text-align:right;\"> 313 </td>\n",
       "  </tr>\n",
       "</tbody>\n",
       "</table>"
      ]
     },
     "metadata": {},
     "output_type": "display_data"
    }
   ],
   "source": [
    "txt_fdiry = file.path(\n",
    "    FD_RES, \n",
    "    \"region_nuc\", \n",
    "    \"fcc_astarr_macs\",\n",
    "    \"summary\"\n",
    ")\n",
    "txt_fname = \"K562.hg38.ASTARR.macs.KS91.input.rep_all.max_overlaps.q5.tsv\"\n",
    "txt_fpath = file.path(txt_fdiry, txt_fname)\n",
    "\n",
    "dat = read_tsv(txt_fpath, show_col_types = FALSE)\n",
    "\n",
    "dat_region_nuc = dat\n",
    "print(dim(dat))\n",
    "fun_display_table(head(dat, 3))"
   ]
  },
  {
   "cell_type": "markdown",
   "id": "53b3a686-eea9-42f5-833a-be46f85a8e18",
   "metadata": {},
   "source": [
    "## ASTARR and GC Content"
   ]
  },
  {
   "cell_type": "code",
   "execution_count": 6,
   "id": "e187e26e-2bc6-4915-8c67-808331491aad",
   "metadata": {},
   "outputs": [
    {
     "data": {
      "text/html": [
       "<table class=\"dataframe\">\n",
       "<caption>A tibble: 6 × 16</caption>\n",
       "<thead>\n",
       "\t<tr><th scope=col>Chrom</th><th scope=col>ChromStart</th><th scope=col>ChromEnd</th><th scope=col>Region</th><th scope=col>ASTARR_A</th><th scope=col>WSTARR_A</th><th scope=col>LMPRA_A</th><th scope=col>TMPRA_A</th><th scope=col>ASTARR_R</th><th scope=col>WSTARR_R</th><th scope=col>LMPRA_R</th><th scope=col>TMPRA_R</th><th scope=col>CRISPRi-HCRFF</th><th scope=col>CRISPRi-Growth</th><th scope=col>High_GC</th><th scope=col>ASTARR_R_GC</th></tr>\n",
       "\t<tr><th scope=col>&lt;chr&gt;</th><th scope=col>&lt;dbl&gt;</th><th scope=col>&lt;dbl&gt;</th><th scope=col>&lt;chr&gt;</th><th scope=col>&lt;dbl&gt;</th><th scope=col>&lt;dbl&gt;</th><th scope=col>&lt;dbl&gt;</th><th scope=col>&lt;dbl&gt;</th><th scope=col>&lt;dbl&gt;</th><th scope=col>&lt;dbl&gt;</th><th scope=col>&lt;dbl&gt;</th><th scope=col>&lt;dbl&gt;</th><th scope=col>&lt;dbl&gt;</th><th scope=col>&lt;dbl&gt;</th><th scope=col>&lt;int&gt;</th><th scope=col>&lt;dbl&gt;</th></tr>\n",
       "</thead>\n",
       "<tbody>\n",
       "\t<tr><td>chr1</td><td> 10038</td><td> 10405</td><td>chr1:10038-10405  </td><td>0</td><td>0</td><td>0</td><td>0</td><td>1</td><td>0</td><td>0</td><td>0</td><td>0</td><td>0</td><td>0</td><td>1</td></tr>\n",
       "\t<tr><td>chr1</td><td> 16025</td><td> 16338</td><td>chr1:16025-16338  </td><td>0</td><td>0</td><td>0</td><td>0</td><td>1</td><td>0</td><td>0</td><td>0</td><td>0</td><td>0</td><td>0</td><td>1</td></tr>\n",
       "\t<tr><td>chr1</td><td> 17288</td><td> 17689</td><td>chr1:17288-17689  </td><td>0</td><td>0</td><td>0</td><td>0</td><td>1</td><td>0</td><td>0</td><td>0</td><td>0</td><td>0</td><td>1</td><td>0</td></tr>\n",
       "\t<tr><td>chr1</td><td> 28934</td><td> 29499</td><td>chr1:28934-29499  </td><td>0</td><td>0</td><td>0</td><td>0</td><td>1</td><td>0</td><td>0</td><td>0</td><td>0</td><td>0</td><td>1</td><td>0</td></tr>\n",
       "\t<tr><td>chr1</td><td>115429</td><td>115969</td><td>chr1:115429-115969</td><td>1</td><td>0</td><td>0</td><td>0</td><td>0</td><td>0</td><td>0</td><td>0</td><td>0</td><td>0</td><td>0</td><td>0</td></tr>\n",
       "\t<tr><td>chr1</td><td>136201</td><td>137353</td><td>chr1:136201-137353</td><td>0</td><td>0</td><td>0</td><td>0</td><td>1</td><td>0</td><td>0</td><td>0</td><td>0</td><td>0</td><td>1</td><td>0</td></tr>\n",
       "</tbody>\n",
       "</table>\n"
      ],
      "text/latex": [
       "A tibble: 6 × 16\n",
       "\\begin{tabular}{llllllllllllllll}\n",
       " Chrom & ChromStart & ChromEnd & Region & ASTARR\\_A & WSTARR\\_A & LMPRA\\_A & TMPRA\\_A & ASTARR\\_R & WSTARR\\_R & LMPRA\\_R & TMPRA\\_R & CRISPRi-HCRFF & CRISPRi-Growth & High\\_GC & ASTARR\\_R\\_GC\\\\\n",
       " <chr> & <dbl> & <dbl> & <chr> & <dbl> & <dbl> & <dbl> & <dbl> & <dbl> & <dbl> & <dbl> & <dbl> & <dbl> & <dbl> & <int> & <dbl>\\\\\n",
       "\\hline\n",
       "\t chr1 &  10038 &  10405 & chr1:10038-10405   & 0 & 0 & 0 & 0 & 1 & 0 & 0 & 0 & 0 & 0 & 0 & 1\\\\\n",
       "\t chr1 &  16025 &  16338 & chr1:16025-16338   & 0 & 0 & 0 & 0 & 1 & 0 & 0 & 0 & 0 & 0 & 0 & 1\\\\\n",
       "\t chr1 &  17288 &  17689 & chr1:17288-17689   & 0 & 0 & 0 & 0 & 1 & 0 & 0 & 0 & 0 & 0 & 1 & 0\\\\\n",
       "\t chr1 &  28934 &  29499 & chr1:28934-29499   & 0 & 0 & 0 & 0 & 1 & 0 & 0 & 0 & 0 & 0 & 1 & 0\\\\\n",
       "\t chr1 & 115429 & 115969 & chr1:115429-115969 & 1 & 0 & 0 & 0 & 0 & 0 & 0 & 0 & 0 & 0 & 0 & 0\\\\\n",
       "\t chr1 & 136201 & 137353 & chr1:136201-137353 & 0 & 0 & 0 & 0 & 1 & 0 & 0 & 0 & 0 & 0 & 1 & 0\\\\\n",
       "\\end{tabular}\n"
      ],
      "text/markdown": [
       "\n",
       "A tibble: 6 × 16\n",
       "\n",
       "| Chrom &lt;chr&gt; | ChromStart &lt;dbl&gt; | ChromEnd &lt;dbl&gt; | Region &lt;chr&gt; | ASTARR_A &lt;dbl&gt; | WSTARR_A &lt;dbl&gt; | LMPRA_A &lt;dbl&gt; | TMPRA_A &lt;dbl&gt; | ASTARR_R &lt;dbl&gt; | WSTARR_R &lt;dbl&gt; | LMPRA_R &lt;dbl&gt; | TMPRA_R &lt;dbl&gt; | CRISPRi-HCRFF &lt;dbl&gt; | CRISPRi-Growth &lt;dbl&gt; | High_GC &lt;int&gt; | ASTARR_R_GC &lt;dbl&gt; |\n",
       "|---|---|---|---|---|---|---|---|---|---|---|---|---|---|---|---|\n",
       "| chr1 |  10038 |  10405 | chr1:10038-10405   | 0 | 0 | 0 | 0 | 1 | 0 | 0 | 0 | 0 | 0 | 0 | 1 |\n",
       "| chr1 |  16025 |  16338 | chr1:16025-16338   | 0 | 0 | 0 | 0 | 1 | 0 | 0 | 0 | 0 | 0 | 0 | 1 |\n",
       "| chr1 |  17288 |  17689 | chr1:17288-17689   | 0 | 0 | 0 | 0 | 1 | 0 | 0 | 0 | 0 | 0 | 1 | 0 |\n",
       "| chr1 |  28934 |  29499 | chr1:28934-29499   | 0 | 0 | 0 | 0 | 1 | 0 | 0 | 0 | 0 | 0 | 1 | 0 |\n",
       "| chr1 | 115429 | 115969 | chr1:115429-115969 | 1 | 0 | 0 | 0 | 0 | 0 | 0 | 0 | 0 | 0 | 0 | 0 |\n",
       "| chr1 | 136201 | 137353 | chr1:136201-137353 | 0 | 0 | 0 | 0 | 1 | 0 | 0 | 0 | 0 | 0 | 1 | 0 |\n",
       "\n"
      ],
      "text/plain": [
       "  Chrom ChromStart ChromEnd Region             ASTARR_A WSTARR_A LMPRA_A\n",
       "1 chr1   10038      10405   chr1:10038-10405   0        0        0      \n",
       "2 chr1   16025      16338   chr1:16025-16338   0        0        0      \n",
       "3 chr1   17288      17689   chr1:17288-17689   0        0        0      \n",
       "4 chr1   28934      29499   chr1:28934-29499   0        0        0      \n",
       "5 chr1  115429     115969   chr1:115429-115969 1        0        0      \n",
       "6 chr1  136201     137353   chr1:136201-137353 0        0        0      \n",
       "  TMPRA_A ASTARR_R WSTARR_R LMPRA_R TMPRA_R CRISPRi-HCRFF CRISPRi-Growth\n",
       "1 0       1        0        0       0       0             0             \n",
       "2 0       1        0        0       0       0             0             \n",
       "3 0       1        0        0       0       0             0             \n",
       "4 0       1        0        0       0       0             0             \n",
       "5 0       0        0        0       0       0             0             \n",
       "6 0       1        0        0       0       0             0             \n",
       "  High_GC ASTARR_R_GC\n",
       "1 0       1          \n",
       "2 0       1          \n",
       "3 1       0          \n",
       "4 1       0          \n",
       "5 0       0          \n",
       "6 1       0          "
      ]
     },
     "metadata": {},
     "output_type": "display_data"
    }
   ],
   "source": [
    "tmp = dat_region_nuc\n",
    "tmp = tmp  %>% \n",
    "    dplyr::mutate(High_GC = as.integer(pGC > 0.60)) %>%\n",
    "    dplyr::select(Chrom, ChromStart, ChromEnd, High_GC)\n",
    "\n",
    "dat = dat_region_annot_fcc\n",
    "dat = dat %>% dplyr::left_join(tmp, by = c(\"Chrom\", \"ChromStart\", \"ChromEnd\"))\n",
    "dat = dat %>% dplyr::mutate(ASTARR_R_GC = ifelse(High_GC == 1, 0, ASTARR_R))\n",
    "\n",
    "dat_region_annot_fcc_pgc = dat\n",
    "head(dat)"
   ]
  },
  {
   "cell_type": "markdown",
   "id": "6e9e6c46-b4d2-4dc2-b38b-d2c3785b2f0d",
   "metadata": {},
   "source": [
    "## Enhancer vs Repressor"
   ]
  },
  {
   "cell_type": "code",
   "execution_count": 7,
   "id": "3c1fae97-5768-40d7-bc77-9baebd3a2932",
   "metadata": {},
   "outputs": [
    {
     "name": "stdout",
     "output_type": "stream",
     "text": [
      "[1] 100454      5\n"
     ]
    },
    {
     "data": {
      "text/html": [
       "<table class=\"dataframe\">\n",
       "<caption>A tibble: 6 × 5</caption>\n",
       "<thead>\n",
       "\t<tr><th scope=col>Region</th><th scope=col>ASTARR_A</th><th scope=col>WSTARR_A</th><th scope=col>LMPRA_A</th><th scope=col>TMPRA_A</th></tr>\n",
       "\t<tr><th scope=col>&lt;chr&gt;</th><th scope=col>&lt;dbl&gt;</th><th scope=col>&lt;dbl&gt;</th><th scope=col>&lt;dbl&gt;</th><th scope=col>&lt;dbl&gt;</th></tr>\n",
       "</thead>\n",
       "<tbody>\n",
       "\t<tr><td>chr1:10038-10405  </td><td>0</td><td>0</td><td>0</td><td>0</td></tr>\n",
       "\t<tr><td>chr1:16025-16338  </td><td>0</td><td>0</td><td>0</td><td>0</td></tr>\n",
       "\t<tr><td>chr1:17288-17689  </td><td>0</td><td>0</td><td>0</td><td>0</td></tr>\n",
       "\t<tr><td>chr1:28934-29499  </td><td>0</td><td>0</td><td>0</td><td>0</td></tr>\n",
       "\t<tr><td>chr1:115429-115969</td><td>1</td><td>0</td><td>0</td><td>0</td></tr>\n",
       "\t<tr><td>chr1:136201-137353</td><td>0</td><td>0</td><td>0</td><td>0</td></tr>\n",
       "</tbody>\n",
       "</table>\n"
      ],
      "text/latex": [
       "A tibble: 6 × 5\n",
       "\\begin{tabular}{lllll}\n",
       " Region & ASTARR\\_A & WSTARR\\_A & LMPRA\\_A & TMPRA\\_A\\\\\n",
       " <chr> & <dbl> & <dbl> & <dbl> & <dbl>\\\\\n",
       "\\hline\n",
       "\t chr1:10038-10405   & 0 & 0 & 0 & 0\\\\\n",
       "\t chr1:16025-16338   & 0 & 0 & 0 & 0\\\\\n",
       "\t chr1:17288-17689   & 0 & 0 & 0 & 0\\\\\n",
       "\t chr1:28934-29499   & 0 & 0 & 0 & 0\\\\\n",
       "\t chr1:115429-115969 & 1 & 0 & 0 & 0\\\\\n",
       "\t chr1:136201-137353 & 0 & 0 & 0 & 0\\\\\n",
       "\\end{tabular}\n"
      ],
      "text/markdown": [
       "\n",
       "A tibble: 6 × 5\n",
       "\n",
       "| Region &lt;chr&gt; | ASTARR_A &lt;dbl&gt; | WSTARR_A &lt;dbl&gt; | LMPRA_A &lt;dbl&gt; | TMPRA_A &lt;dbl&gt; |\n",
       "|---|---|---|---|---|\n",
       "| chr1:10038-10405   | 0 | 0 | 0 | 0 |\n",
       "| chr1:16025-16338   | 0 | 0 | 0 | 0 |\n",
       "| chr1:17288-17689   | 0 | 0 | 0 | 0 |\n",
       "| chr1:28934-29499   | 0 | 0 | 0 | 0 |\n",
       "| chr1:115429-115969 | 1 | 0 | 0 | 0 |\n",
       "| chr1:136201-137353 | 0 | 0 | 0 | 0 |\n",
       "\n"
      ],
      "text/plain": [
       "  Region             ASTARR_A WSTARR_A LMPRA_A TMPRA_A\n",
       "1 chr1:10038-10405   0        0        0       0      \n",
       "2 chr1:16025-16338   0        0        0       0      \n",
       "3 chr1:17288-17689   0        0        0       0      \n",
       "4 chr1:28934-29499   0        0        0       0      \n",
       "5 chr1:115429-115969 1        0        0       0      \n",
       "6 chr1:136201-137353 0        0        0       0      "
      ]
     },
     "metadata": {},
     "output_type": "display_data"
    }
   ],
   "source": [
    "dat = dat_region_annot_fcc\n",
    "dat = dat %>% dplyr::select(Region, ends_with(\"_A\"))\n",
    "\n",
    "dat_region_annot_enh = dat\n",
    "print(dim(dat))\n",
    "head(dat)"
   ]
  },
  {
   "cell_type": "code",
   "execution_count": 8,
   "id": "45782350-6ae8-4c1a-9d87-6c179fab5936",
   "metadata": {},
   "outputs": [
    {
     "name": "stdout",
     "output_type": "stream",
     "text": [
      "[1] 100454      5\n"
     ]
    },
    {
     "data": {
      "text/html": [
       "<table class=\"dataframe\">\n",
       "<caption>A tibble: 6 × 5</caption>\n",
       "<thead>\n",
       "\t<tr><th scope=col>Region</th><th scope=col>ASTARR_R</th><th scope=col>WSTARR_R</th><th scope=col>LMPRA_R</th><th scope=col>TMPRA_R</th></tr>\n",
       "\t<tr><th scope=col>&lt;chr&gt;</th><th scope=col>&lt;dbl&gt;</th><th scope=col>&lt;dbl&gt;</th><th scope=col>&lt;dbl&gt;</th><th scope=col>&lt;dbl&gt;</th></tr>\n",
       "</thead>\n",
       "<tbody>\n",
       "\t<tr><td>chr1:10038-10405  </td><td>1</td><td>0</td><td>0</td><td>0</td></tr>\n",
       "\t<tr><td>chr1:16025-16338  </td><td>1</td><td>0</td><td>0</td><td>0</td></tr>\n",
       "\t<tr><td>chr1:17288-17689  </td><td>1</td><td>0</td><td>0</td><td>0</td></tr>\n",
       "\t<tr><td>chr1:28934-29499  </td><td>1</td><td>0</td><td>0</td><td>0</td></tr>\n",
       "\t<tr><td>chr1:115429-115969</td><td>0</td><td>0</td><td>0</td><td>0</td></tr>\n",
       "\t<tr><td>chr1:136201-137353</td><td>1</td><td>0</td><td>0</td><td>0</td></tr>\n",
       "</tbody>\n",
       "</table>\n"
      ],
      "text/latex": [
       "A tibble: 6 × 5\n",
       "\\begin{tabular}{lllll}\n",
       " Region & ASTARR\\_R & WSTARR\\_R & LMPRA\\_R & TMPRA\\_R\\\\\n",
       " <chr> & <dbl> & <dbl> & <dbl> & <dbl>\\\\\n",
       "\\hline\n",
       "\t chr1:10038-10405   & 1 & 0 & 0 & 0\\\\\n",
       "\t chr1:16025-16338   & 1 & 0 & 0 & 0\\\\\n",
       "\t chr1:17288-17689   & 1 & 0 & 0 & 0\\\\\n",
       "\t chr1:28934-29499   & 1 & 0 & 0 & 0\\\\\n",
       "\t chr1:115429-115969 & 0 & 0 & 0 & 0\\\\\n",
       "\t chr1:136201-137353 & 1 & 0 & 0 & 0\\\\\n",
       "\\end{tabular}\n"
      ],
      "text/markdown": [
       "\n",
       "A tibble: 6 × 5\n",
       "\n",
       "| Region &lt;chr&gt; | ASTARR_R &lt;dbl&gt; | WSTARR_R &lt;dbl&gt; | LMPRA_R &lt;dbl&gt; | TMPRA_R &lt;dbl&gt; |\n",
       "|---|---|---|---|---|\n",
       "| chr1:10038-10405   | 1 | 0 | 0 | 0 |\n",
       "| chr1:16025-16338   | 1 | 0 | 0 | 0 |\n",
       "| chr1:17288-17689   | 1 | 0 | 0 | 0 |\n",
       "| chr1:28934-29499   | 1 | 0 | 0 | 0 |\n",
       "| chr1:115429-115969 | 0 | 0 | 0 | 0 |\n",
       "| chr1:136201-137353 | 1 | 0 | 0 | 0 |\n",
       "\n"
      ],
      "text/plain": [
       "  Region             ASTARR_R WSTARR_R LMPRA_R TMPRA_R\n",
       "1 chr1:10038-10405   1        0        0       0      \n",
       "2 chr1:16025-16338   1        0        0       0      \n",
       "3 chr1:17288-17689   1        0        0       0      \n",
       "4 chr1:28934-29499   1        0        0       0      \n",
       "5 chr1:115429-115969 0        0        0       0      \n",
       "6 chr1:136201-137353 1        0        0       0      "
      ]
     },
     "metadata": {},
     "output_type": "display_data"
    }
   ],
   "source": [
    "dat = dat_region_annot_fcc\n",
    "dat = dat %>% dplyr::select(Region, ends_with(\"_R\"))\n",
    "\n",
    "dat_region_annot_rep = dat\n",
    "print(dim(dat))\n",
    "head(dat)"
   ]
  },
  {
   "cell_type": "code",
   "execution_count": 9,
   "id": "37a45afd-2d06-42fc-95ab-6039e561bd5e",
   "metadata": {},
   "outputs": [
    {
     "name": "stdout",
     "output_type": "stream",
     "text": [
      "[1] 100454      5\n"
     ]
    },
    {
     "data": {
      "text/html": [
       "<table class=\"dataframe\">\n",
       "<caption>A tibble: 6 × 5</caption>\n",
       "<thead>\n",
       "\t<tr><th scope=col>Region</th><th scope=col>ASTARR_R_GC</th><th scope=col>WSTARR_R</th><th scope=col>LMPRA_R</th><th scope=col>TMPRA_R</th></tr>\n",
       "\t<tr><th scope=col>&lt;chr&gt;</th><th scope=col>&lt;dbl&gt;</th><th scope=col>&lt;dbl&gt;</th><th scope=col>&lt;dbl&gt;</th><th scope=col>&lt;dbl&gt;</th></tr>\n",
       "</thead>\n",
       "<tbody>\n",
       "\t<tr><td>chr1:10038-10405  </td><td>1</td><td>0</td><td>0</td><td>0</td></tr>\n",
       "\t<tr><td>chr1:16025-16338  </td><td>1</td><td>0</td><td>0</td><td>0</td></tr>\n",
       "\t<tr><td>chr1:17288-17689  </td><td>0</td><td>0</td><td>0</td><td>0</td></tr>\n",
       "\t<tr><td>chr1:28934-29499  </td><td>0</td><td>0</td><td>0</td><td>0</td></tr>\n",
       "\t<tr><td>chr1:115429-115969</td><td>0</td><td>0</td><td>0</td><td>0</td></tr>\n",
       "\t<tr><td>chr1:136201-137353</td><td>0</td><td>0</td><td>0</td><td>0</td></tr>\n",
       "</tbody>\n",
       "</table>\n"
      ],
      "text/latex": [
       "A tibble: 6 × 5\n",
       "\\begin{tabular}{lllll}\n",
       " Region & ASTARR\\_R\\_GC & WSTARR\\_R & LMPRA\\_R & TMPRA\\_R\\\\\n",
       " <chr> & <dbl> & <dbl> & <dbl> & <dbl>\\\\\n",
       "\\hline\n",
       "\t chr1:10038-10405   & 1 & 0 & 0 & 0\\\\\n",
       "\t chr1:16025-16338   & 1 & 0 & 0 & 0\\\\\n",
       "\t chr1:17288-17689   & 0 & 0 & 0 & 0\\\\\n",
       "\t chr1:28934-29499   & 0 & 0 & 0 & 0\\\\\n",
       "\t chr1:115429-115969 & 0 & 0 & 0 & 0\\\\\n",
       "\t chr1:136201-137353 & 0 & 0 & 0 & 0\\\\\n",
       "\\end{tabular}\n"
      ],
      "text/markdown": [
       "\n",
       "A tibble: 6 × 5\n",
       "\n",
       "| Region &lt;chr&gt; | ASTARR_R_GC &lt;dbl&gt; | WSTARR_R &lt;dbl&gt; | LMPRA_R &lt;dbl&gt; | TMPRA_R &lt;dbl&gt; |\n",
       "|---|---|---|---|---|\n",
       "| chr1:10038-10405   | 1 | 0 | 0 | 0 |\n",
       "| chr1:16025-16338   | 1 | 0 | 0 | 0 |\n",
       "| chr1:17288-17689   | 0 | 0 | 0 | 0 |\n",
       "| chr1:28934-29499   | 0 | 0 | 0 | 0 |\n",
       "| chr1:115429-115969 | 0 | 0 | 0 | 0 |\n",
       "| chr1:136201-137353 | 0 | 0 | 0 | 0 |\n",
       "\n"
      ],
      "text/plain": [
       "  Region             ASTARR_R_GC WSTARR_R LMPRA_R TMPRA_R\n",
       "1 chr1:10038-10405   1           0        0       0      \n",
       "2 chr1:16025-16338   1           0        0       0      \n",
       "3 chr1:17288-17689   0           0        0       0      \n",
       "4 chr1:28934-29499   0           0        0       0      \n",
       "5 chr1:115429-115969 0           0        0       0      \n",
       "6 chr1:136201-137353 0           0        0       0      "
      ]
     },
     "metadata": {},
     "output_type": "display_data"
    }
   ],
   "source": [
    "dat = dat_region_annot_fcc_pgc\n",
    "dat = dat %>% \n",
    "    dplyr::select(Region, ASTARR_R_GC, ends_with(\"_R\")) %>%\n",
    "    dplyr::select(-ASTARR_R)\n",
    "\n",
    "dat_region_annot_rep_gcfilter = dat\n",
    "print(dim(dat))\n",
    "head(dat)"
   ]
  },
  {
   "cell_type": "markdown",
   "id": "755dfcc2-1a32-4da2-a815-830e116eb784",
   "metadata": {},
   "source": [
    "## CRISPRi E2G"
   ]
  },
  {
   "cell_type": "code",
   "execution_count": 10,
   "id": "bb41c0ec-b515-489f-a6df-16e067e789d5",
   "metadata": {},
   "outputs": [
    {
     "data": {
      "text/html": [
       "<table class=\"dataframe\">\n",
       "<caption>A tibble: 6 × 5</caption>\n",
       "<thead>\n",
       "\t<tr><th scope=col>Chrom</th><th scope=col>ChromStart</th><th scope=col>ChromEnd</th><th scope=col>Region</th><th scope=col>CRISPR_E2G</th></tr>\n",
       "\t<tr><th scope=col>&lt;chr&gt;</th><th scope=col>&lt;dbl&gt;</th><th scope=col>&lt;dbl&gt;</th><th scope=col>&lt;chr&gt;</th><th scope=col>&lt;dbl&gt;</th></tr>\n",
       "</thead>\n",
       "<tbody>\n",
       "\t<tr><td>chr1</td><td> 3774056</td><td> 3776283</td><td>chr1:3774056-3776283  </td><td>1</td></tr>\n",
       "\t<tr><td>chr1</td><td> 8857787</td><td> 8858608</td><td>chr1:8857787-8858608  </td><td>1</td></tr>\n",
       "\t<tr><td>chr1</td><td>25932989</td><td>25934187</td><td>chr1:25932989-25934187</td><td>1</td></tr>\n",
       "\t<tr><td>chr1</td><td>26378069</td><td>26379011</td><td>chr1:26378069-26379011</td><td>1</td></tr>\n",
       "\t<tr><td>chr1</td><td>28883566</td><td>28885491</td><td>chr1:28883566-28885491</td><td>1</td></tr>\n",
       "\t<tr><td>chr1</td><td>70674903</td><td>70676391</td><td>chr1:70674903-70676391</td><td>1</td></tr>\n",
       "</tbody>\n",
       "</table>\n"
      ],
      "text/latex": [
       "A tibble: 6 × 5\n",
       "\\begin{tabular}{lllll}\n",
       " Chrom & ChromStart & ChromEnd & Region & CRISPR\\_E2G\\\\\n",
       " <chr> & <dbl> & <dbl> & <chr> & <dbl>\\\\\n",
       "\\hline\n",
       "\t chr1 &  3774056 &  3776283 & chr1:3774056-3776283   & 1\\\\\n",
       "\t chr1 &  8857787 &  8858608 & chr1:8857787-8858608   & 1\\\\\n",
       "\t chr1 & 25932989 & 25934187 & chr1:25932989-25934187 & 1\\\\\n",
       "\t chr1 & 26378069 & 26379011 & chr1:26378069-26379011 & 1\\\\\n",
       "\t chr1 & 28883566 & 28885491 & chr1:28883566-28885491 & 1\\\\\n",
       "\t chr1 & 70674903 & 70676391 & chr1:70674903-70676391 & 1\\\\\n",
       "\\end{tabular}\n"
      ],
      "text/markdown": [
       "\n",
       "A tibble: 6 × 5\n",
       "\n",
       "| Chrom &lt;chr&gt; | ChromStart &lt;dbl&gt; | ChromEnd &lt;dbl&gt; | Region &lt;chr&gt; | CRISPR_E2G &lt;dbl&gt; |\n",
       "|---|---|---|---|---|\n",
       "| chr1 |  3774056 |  3776283 | chr1:3774056-3776283   | 1 |\n",
       "| chr1 |  8857787 |  8858608 | chr1:8857787-8858608   | 1 |\n",
       "| chr1 | 25932989 | 25934187 | chr1:25932989-25934187 | 1 |\n",
       "| chr1 | 26378069 | 26379011 | chr1:26378069-26379011 | 1 |\n",
       "| chr1 | 28883566 | 28885491 | chr1:28883566-28885491 | 1 |\n",
       "| chr1 | 70674903 | 70676391 | chr1:70674903-70676391 | 1 |\n",
       "\n"
      ],
      "text/plain": [
       "  Chrom ChromStart ChromEnd Region                 CRISPR_E2G\n",
       "1 chr1   3774056    3776283 chr1:3774056-3776283   1         \n",
       "2 chr1   8857787    8858608 chr1:8857787-8858608   1         \n",
       "3 chr1  25932989   25934187 chr1:25932989-25934187 1         \n",
       "4 chr1  26378069   26379011 chr1:26378069-26379011 1         \n",
       "5 chr1  28883566   28885491 chr1:28883566-28885491 1         \n",
       "6 chr1  70674903   70676391 chr1:70674903-70676391 1         "
      ]
     },
     "metadata": {},
     "output_type": "display_data"
    }
   ],
   "source": [
    "dat = dat_region_annot_e2g\n",
    "dat = dat %>% \n",
    "    dplyr::filter(Regulated_Ifany) %>% \n",
    "    dplyr::select(Chrom, ChromStart, ChromEnd, Region) %>% \n",
    "    dplyr::mutate(CRISPR_E2G = 1)\n",
    "\n",
    "dat_region_annot_e2g_arrange = dat\n",
    "head(dat)"
   ]
  },
  {
   "cell_type": "code",
   "execution_count": 11,
   "id": "80b04338-9c14-4261-92a3-7a195ce4fb42",
   "metadata": {},
   "outputs": [
    {
     "name": "stdout",
     "output_type": "stream",
     "text": [
      "[1] 100454      4\n"
     ]
    },
    {
     "data": {
      "text/html": [
       "<table class=\"dataframe\">\n",
       "<caption>A tibble: 6 × 4</caption>\n",
       "<thead>\n",
       "\t<tr><th scope=col>Region</th><th scope=col>CRISPRi-HCRFF</th><th scope=col>CRISPRi-Growth</th><th scope=col>CRISPR_E2G</th></tr>\n",
       "\t<tr><th scope=col>&lt;chr&gt;</th><th scope=col>&lt;dbl&gt;</th><th scope=col>&lt;dbl&gt;</th><th scope=col>&lt;dbl&gt;</th></tr>\n",
       "</thead>\n",
       "<tbody>\n",
       "\t<tr><td>chr1:10038-10405  </td><td>0</td><td>0</td><td>0</td></tr>\n",
       "\t<tr><td>chr1:16025-16338  </td><td>0</td><td>0</td><td>0</td></tr>\n",
       "\t<tr><td>chr1:17288-17689  </td><td>0</td><td>0</td><td>0</td></tr>\n",
       "\t<tr><td>chr1:28934-29499  </td><td>0</td><td>0</td><td>0</td></tr>\n",
       "\t<tr><td>chr1:115429-115969</td><td>0</td><td>0</td><td>0</td></tr>\n",
       "\t<tr><td>chr1:136201-137353</td><td>0</td><td>0</td><td>0</td></tr>\n",
       "</tbody>\n",
       "</table>\n"
      ],
      "text/latex": [
       "A tibble: 6 × 4\n",
       "\\begin{tabular}{llll}\n",
       " Region & CRISPRi-HCRFF & CRISPRi-Growth & CRISPR\\_E2G\\\\\n",
       " <chr> & <dbl> & <dbl> & <dbl>\\\\\n",
       "\\hline\n",
       "\t chr1:10038-10405   & 0 & 0 & 0\\\\\n",
       "\t chr1:16025-16338   & 0 & 0 & 0\\\\\n",
       "\t chr1:17288-17689   & 0 & 0 & 0\\\\\n",
       "\t chr1:28934-29499   & 0 & 0 & 0\\\\\n",
       "\t chr1:115429-115969 & 0 & 0 & 0\\\\\n",
       "\t chr1:136201-137353 & 0 & 0 & 0\\\\\n",
       "\\end{tabular}\n"
      ],
      "text/markdown": [
       "\n",
       "A tibble: 6 × 4\n",
       "\n",
       "| Region &lt;chr&gt; | CRISPRi-HCRFF &lt;dbl&gt; | CRISPRi-Growth &lt;dbl&gt; | CRISPR_E2G &lt;dbl&gt; |\n",
       "|---|---|---|---|\n",
       "| chr1:10038-10405   | 0 | 0 | 0 |\n",
       "| chr1:16025-16338   | 0 | 0 | 0 |\n",
       "| chr1:17288-17689   | 0 | 0 | 0 |\n",
       "| chr1:28934-29499   | 0 | 0 | 0 |\n",
       "| chr1:115429-115969 | 0 | 0 | 0 |\n",
       "| chr1:136201-137353 | 0 | 0 | 0 |\n",
       "\n"
      ],
      "text/plain": [
       "  Region             CRISPRi-HCRFF CRISPRi-Growth CRISPR_E2G\n",
       "1 chr1:10038-10405   0             0              0         \n",
       "2 chr1:16025-16338   0             0              0         \n",
       "3 chr1:17288-17689   0             0              0         \n",
       "4 chr1:28934-29499   0             0              0         \n",
       "5 chr1:115429-115969 0             0              0         \n",
       "6 chr1:136201-137353 0             0              0         "
      ]
     },
     "metadata": {},
     "output_type": "display_data"
    }
   ],
   "source": [
    "dat = dplyr::left_join(\n",
    "    dat_region_annot_fcc,\n",
    "    dat_region_annot_e2g_arrange,\n",
    "    by = c(\"Chrom\", \"ChromStart\", \"ChromEnd\", \"Region\")\n",
    ")\n",
    "\n",
    "dat = dat %>% \n",
    "    dplyr::select(Region, starts_with(\"CRISPR\")) %>% \n",
    "    replace(is.na(.), 0)\n",
    "\n",
    "dat_region_annot_crispr = dat\n",
    "print(dim(dat))\n",
    "head(dat)"
   ]
  },
  {
   "cell_type": "markdown",
   "id": "55449b80-a36a-49e2-bf19-9c9543232351",
   "metadata": {},
   "source": [
    "## Count assay for each region"
   ]
  },
  {
   "cell_type": "code",
   "execution_count": 12,
   "id": "9eef9e4b-e190-422a-9535-20458d2c9781",
   "metadata": {},
   "outputs": [
    {
     "name": "stdout",
     "output_type": "stream",
     "text": [
      "[1] 160666      6\n"
     ]
    },
    {
     "data": {
      "text/html": [
       "<table class=\"dataframe\">\n",
       "<caption>A data.frame: 6 × 6</caption>\n",
       "<thead>\n",
       "\t<tr><th></th><th scope=col>Chrom</th><th scope=col>ChromStart</th><th scope=col>ChromEnd</th><th scope=col>Region</th><th scope=col>Type</th><th scope=col>Num_Assay</th></tr>\n",
       "\t<tr><th></th><th scope=col>&lt;chr&gt;</th><th scope=col>&lt;chr&gt;</th><th scope=col>&lt;chr&gt;</th><th scope=col>&lt;chr&gt;</th><th scope=col>&lt;chr&gt;</th><th scope=col>&lt;dbl&gt;</th></tr>\n",
       "</thead>\n",
       "<tbody>\n",
       "\t<tr><th scope=row>chr1:115429-115969</th><td>chr1</td><td>115429</td><td>115969</td><td>chr1:115429-115969</td><td>Enhancer</td><td>1</td></tr>\n",
       "\t<tr><th scope=row>chr1:184091-184563</th><td>chr1</td><td>184091</td><td>184563</td><td>chr1:184091-184563</td><td>Enhancer</td><td>1</td></tr>\n",
       "\t<tr><th scope=row>chr1:605104-605675...3</th><td>chr1</td><td>605104</td><td>605675</td><td>chr1:605104-605675</td><td>Enhancer</td><td>1</td></tr>\n",
       "\t<tr><th scope=row>chr1:778233-779389</th><td>chr1</td><td>778233</td><td>779389</td><td>chr1:778233-779389</td><td>Enhancer</td><td>3</td></tr>\n",
       "\t<tr><th scope=row>chr1:818708-819335...5</th><td>chr1</td><td>818708</td><td>819335</td><td>chr1:818708-819335</td><td>Enhancer</td><td>1</td></tr>\n",
       "\t<tr><th scope=row>chr1:826796-828040...6</th><td>chr1</td><td>826796</td><td>828040</td><td>chr1:826796-828040</td><td>Enhancer</td><td>1</td></tr>\n",
       "</tbody>\n",
       "</table>\n"
      ],
      "text/latex": [
       "A data.frame: 6 × 6\n",
       "\\begin{tabular}{r|llllll}\n",
       "  & Chrom & ChromStart & ChromEnd & Region & Type & Num\\_Assay\\\\\n",
       "  & <chr> & <chr> & <chr> & <chr> & <chr> & <dbl>\\\\\n",
       "\\hline\n",
       "\tchr1:115429-115969 & chr1 & 115429 & 115969 & chr1:115429-115969 & Enhancer & 1\\\\\n",
       "\tchr1:184091-184563 & chr1 & 184091 & 184563 & chr1:184091-184563 & Enhancer & 1\\\\\n",
       "\tchr1:605104-605675...3 & chr1 & 605104 & 605675 & chr1:605104-605675 & Enhancer & 1\\\\\n",
       "\tchr1:778233-779389 & chr1 & 778233 & 779389 & chr1:778233-779389 & Enhancer & 3\\\\\n",
       "\tchr1:818708-819335...5 & chr1 & 818708 & 819335 & chr1:818708-819335 & Enhancer & 1\\\\\n",
       "\tchr1:826796-828040...6 & chr1 & 826796 & 828040 & chr1:826796-828040 & Enhancer & 1\\\\\n",
       "\\end{tabular}\n"
      ],
      "text/markdown": [
       "\n",
       "A data.frame: 6 × 6\n",
       "\n",
       "| <!--/--> | Chrom &lt;chr&gt; | ChromStart &lt;chr&gt; | ChromEnd &lt;chr&gt; | Region &lt;chr&gt; | Type &lt;chr&gt; | Num_Assay &lt;dbl&gt; |\n",
       "|---|---|---|---|---|---|---|\n",
       "| chr1:115429-115969 | chr1 | 115429 | 115969 | chr1:115429-115969 | Enhancer | 1 |\n",
       "| chr1:184091-184563 | chr1 | 184091 | 184563 | chr1:184091-184563 | Enhancer | 1 |\n",
       "| chr1:605104-605675...3 | chr1 | 605104 | 605675 | chr1:605104-605675 | Enhancer | 1 |\n",
       "| chr1:778233-779389 | chr1 | 778233 | 779389 | chr1:778233-779389 | Enhancer | 3 |\n",
       "| chr1:818708-819335...5 | chr1 | 818708 | 819335 | chr1:818708-819335 | Enhancer | 1 |\n",
       "| chr1:826796-828040...6 | chr1 | 826796 | 828040 | chr1:826796-828040 | Enhancer | 1 |\n",
       "\n"
      ],
      "text/plain": [
       "                       Chrom ChromStart ChromEnd Region             Type    \n",
       "chr1:115429-115969     chr1  115429     115969   chr1:115429-115969 Enhancer\n",
       "chr1:184091-184563     chr1  184091     184563   chr1:184091-184563 Enhancer\n",
       "chr1:605104-605675...3 chr1  605104     605675   chr1:605104-605675 Enhancer\n",
       "chr1:778233-779389     chr1  778233     779389   chr1:778233-779389 Enhancer\n",
       "chr1:818708-819335...5 chr1  818708     819335   chr1:818708-819335 Enhancer\n",
       "chr1:826796-828040...6 chr1  826796     828040   chr1:826796-828040 Enhancer\n",
       "                       Num_Assay\n",
       "chr1:115429-115969     1        \n",
       "chr1:184091-184563     1        \n",
       "chr1:605104-605675...3 1        \n",
       "chr1:778233-779389     3        \n",
       "chr1:818708-819335...5 1        \n",
       "chr1:826796-828040...6 1        "
      ]
     },
     "metadata": {},
     "output_type": "display_data"
    }
   ],
   "source": [
    "lst = list(\n",
    "    \"Enhancer\"  = dat_region_annot_enh,\n",
    "    \"Repressor\" = dat_region_annot_rep,\n",
    "    \"Repressor_GCFilter\" = dat_region_annot_rep_gcfilter,\n",
    "    \"CRISPR\"    = dat_region_annot_crispr\n",
    ")\n",
    "\n",
    "lst = lapply(lst, function(dat){\n",
    "    dat = dat %>% tibble::column_to_rownames(var=\"Region\")\n",
    "    vec = apply(dat, 1, sum)\n",
    "    \n",
    "    idx = (vec > 0)\n",
    "    vec = vec[idx]\n",
    "\n",
    "    dat = data.frame(\n",
    "        Region    = names(vec),\n",
    "        Num_Assay = vec\n",
    "    )\n",
    "    return(dat)\n",
    "})\n",
    "\n",
    "dat = bind_rows(lst, .id = \"Type\")\n",
    "dat = dat %>% tidyr::separate(Region, c(\"Chrom\", \"ChromStart\", \"ChromEnd\"), remove = FALSE)\n",
    "dat = dat %>% dplyr::select(Chrom, ChromStart, ChromEnd, Region, Type, Num_Assay)\n",
    "\n",
    "dat_region_annot_fcc_vote = dat\n",
    "print(dim(dat))\n",
    "head(dat)"
   ]
  },
  {
   "cell_type": "code",
   "execution_count": 13,
   "id": "6c2376d0-f95c-48c2-998b-12167860e5e7",
   "metadata": {},
   "outputs": [
    {
     "data": {
      "text/plain": [
       "\n",
       "            CRISPR           Enhancer          Repressor Repressor_GCFilter \n",
       "              4740              43993              65401              46532 "
      ]
     },
     "metadata": {},
     "output_type": "display_data"
    }
   ],
   "source": [
    "dat = dat_region_annot_fcc_vote\n",
    "table(dat$Type)"
   ]
  },
  {
   "cell_type": "code",
   "execution_count": 14,
   "id": "c9798166-52cb-45f5-96b0-4ff0612ad0a3",
   "metadata": {},
   "outputs": [
    {
     "data": {
      "text/plain": [
       "                    \n",
       "                         1     2     3     4\n",
       "  CRISPR              4692    40     8     0\n",
       "  Enhancer           27396 12548  4011    38\n",
       "  Repressor          63652  1744     5     0\n",
       "  Repressor_GCFilter 45310  1219     3     0"
      ]
     },
     "metadata": {},
     "output_type": "display_data"
    }
   ],
   "source": [
    "dat = dat_region_annot_fcc_vote\n",
    "table(dat$Type, dat$Num_Assay)"
   ]
  },
  {
   "cell_type": "code",
   "execution_count": 23,
   "id": "81872480-e503-42c8-b8af-c585b9739cc9",
   "metadata": {},
   "outputs": [
    {
     "data": {
      "text/plain": [
       "                    \n",
       "                         1     2     3     4\n",
       "  CRISPR              4662    40     8     0\n",
       "  Enhancer           27403 13617  6609    57\n",
       "  Repressor          71923  2610     9     0\n",
       "  Repressor_GCFilter 51591  1599     3     0"
      ]
     },
     "metadata": {},
     "output_type": "display_data"
    }
   ],
   "source": [
    "dat = dat_region_annot_fcc_vote\n",
    "table(dat$Type, dat$Num_Assay)"
   ]
  },
  {
   "cell_type": "markdown",
   "id": "668c6bad-39a8-4b5b-a576-a57766da6df0",
   "metadata": {},
   "source": [
    "## Export results"
   ]
  },
  {
   "cell_type": "code",
   "execution_count": 15,
   "id": "06150531-a997-4a65-b0f9-6b1fddb78e3e",
   "metadata": {},
   "outputs": [],
   "source": [
    "txt_fdiry = file.path(\n",
    "    FD_RES, \n",
    "    \"region_annotation\", \n",
    "    \"fcc_astarr_macs_input_overlap\",\n",
    "    \"summary\"\n",
    ")\n",
    "txt_fname = \"region.summary.fcc_peak_call.assayvote.tsv\"\n",
    "txt_fpath = file.path(txt_fdiry, txt_fname)\n",
    "\n",
    "dat = dat_region_annot_fcc_vote\n",
    "write_tsv(dat, txt_fpath)"
   ]
  },
  {
   "cell_type": "code",
   "execution_count": null,
   "id": "7cef0121-5427-410d-9775-beb7a9958ca5",
   "metadata": {},
   "outputs": [],
   "source": []
  }
 ],
 "metadata": {
  "kernelspec": {
   "display_name": "R",
   "language": "R",
   "name": "ir"
  },
  "language_info": {
   "codemirror_mode": "r",
   "file_extension": ".r",
   "mimetype": "text/x-r-source",
   "name": "R",
   "pygments_lexer": "r",
   "version": "4.4.1"
  }
 },
 "nbformat": 4,
 "nbformat_minor": 5
}
