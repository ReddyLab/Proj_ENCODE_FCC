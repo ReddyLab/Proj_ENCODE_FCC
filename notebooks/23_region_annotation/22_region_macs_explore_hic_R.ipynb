{
 "cells": [
  {
   "cell_type": "code",
   "execution_count": null,
   "id": "db594d3a-30f6-430c-b666-81747cbbfef9",
   "metadata": {},
   "outputs": [],
   "source": []
  },
  {
   "cell_type": "markdown",
   "id": "87831688-a204-4ab2-9321-1e52f89d6be5",
   "metadata": {},
   "source": [
    "**Set environment**"
   ]
  },
  {
   "cell_type": "code",
   "execution_count": 1,
   "id": "52b78828-755a-477d-bc8c-6c60e1b87ab2",
   "metadata": {
    "tags": []
   },
   "outputs": [
    {
     "name": "stdout",
     "output_type": "stream",
     "text": [
      "You are working on        Singularity \n",
      "BASE DIRECTORY (FD_BASE): /mount \n",
      "REPO DIRECTORY (FD_REPO): /mount/repo \n",
      "WORK DIRECTORY (FD_WORK): /mount/work \n",
      "DATA DIRECTORY (FD_DATA): /mount/data \n",
      "\n",
      "You are working with      ENCODE FCC \n",
      "PATH OF PROJECT (FD_PRJ): /mount/repo/Proj_ENCODE_FCC \n",
      "PROJECT RESULTS (FD_RES): /mount/repo/Proj_ENCODE_FCC/results \n",
      "PROJECT SCRIPTS (FD_EXE): /mount/repo/Proj_ENCODE_FCC/scripts \n",
      "PROJECT DATA    (FD_DAT): /mount/repo/Proj_ENCODE_FCC/data \n",
      "PROJECT NOTE    (FD_NBK): /mount/repo/Proj_ENCODE_FCC/notebooks \n",
      "PROJECT DOCS    (FD_DOC): /mount/repo/Proj_ENCODE_FCC/docs \n",
      "PROJECT LOG     (FD_LOG): /mount/repo/Proj_ENCODE_FCC/log \n",
      "PROJECT APP     (FD_APP): /mount/repo/Proj_ENCODE_FCC/app \n",
      "PROJECT REF     (FD_REF): /mount/repo/Proj_ENCODE_FCC/references \n",
      "\n"
     ]
    }
   ],
   "source": [
    "suppressMessages(suppressWarnings(source(\"../run_config_project_sing.R\")))\n",
    "show_env()"
   ]
  },
  {
   "cell_type": "code",
   "execution_count": 2,
   "id": "56509f12-a5ae-446f-9874-d862323e19d2",
   "metadata": {},
   "outputs": [
    {
     "name": "stdout",
     "output_type": "stream",
     "text": [
      " [1] \"region.annotation.encode_chromatin_states.tsv\"    \n",
      " [2] \"region.annotation.fcc_astarr_csaw.tsv\"            \n",
      " [3] \"region.annotation.fcc_crispri_hcrff.tsv\"          \n",
      " [4] \"region.annotation.genome_tss.tsv\"                 \n",
      " [5] \"region.annotation.hic_insitu_K562_ENCSR545YBD.tsv\"\n",
      " [6] \"region.annotation.hic_intact_K562_deep.tsv\"       \n",
      " [7] \"region.annotation.hic_intact_K562_ENCSR479XDG.tsv\"\n",
      " [8] \"region.summary.encode_chipseq_flagship.tsv\"       \n",
      " [9] \"region.summary.encode_chipseq_histone.tsv\"        \n",
      "[10] \"region.summary.encode_chipseq_subset.tsv\"         \n",
      "[11] \"region.summary.encode_chromatin_states.tsv\"       \n",
      "[12] \"region.summary.fcc_astarr_csaw.tsv\"               \n",
      "[13] \"region.summary.fcc_crispri_hcrff.tsv\"             \n",
      "[14] \"region.summary.genome_tss.tsv\"                    \n",
      "[15] \"region.summary.hic_insitu_K562_ENCSR545YBD.tsv\"   \n",
      "[16] \"region.summary.hic_intact_K562_deep.tsv\"          \n",
      "[17] \"region.summary.hic_intact_K562_ENCSR479XDG.tsv\"   \n"
     ]
    }
   ],
   "source": [
    "txt_fdiry = file.path(\n",
    "    FD_RES, \n",
    "    \"region_annotation\", \n",
    "    \"fcc_astarr_macs_input_overlap\",\n",
    "    \"summary\"\n",
    ")\n",
    "vec = dir(txt_fdiry)\n",
    "print(vec)"
   ]
  },
  {
   "cell_type": "code",
   "execution_count": 3,
   "id": "ef429851-2d9c-4472-b136-bf13dc355ab3",
   "metadata": {},
   "outputs": [
    {
     "name": "stdout",
     "output_type": "stream",
     "text": [
      "[1] \"description.tsv\"               \"K562.hg38.hic_intact.Loop.tsv\"\n",
      "[3] \"K562.hg38.hic_intact.TAD.tsv\"  \"metadata.label.tsv\"           \n"
     ]
    }
   ],
   "source": [
    "txt_fdiry = file.path(\n",
    "    FD_RES, \n",
    "    \"region\", \n",
    "    \"hic_intact_K562_ENCSR479XDG\",\n",
    "    \"summary\"\n",
    ")\n",
    "vec = dir(txt_fdiry)\n",
    "print(vec)"
   ]
  },
  {
   "cell_type": "markdown",
   "id": "0066db4b-58de-490f-bdd8-522b51545f63",
   "metadata": {},
   "source": [
    "## Import data"
   ]
  },
  {
   "cell_type": "code",
   "execution_count": 19,
   "id": "f574237d-a7de-43a7-979f-f33493aa602d",
   "metadata": {},
   "outputs": [
    {
     "name": "stdout",
     "output_type": "stream",
     "text": [
      "[1] 46004    17\n"
     ]
    },
    {
     "data": {
      "text/html": [
       "<table>\n",
       " <thead>\n",
       "  <tr>\n",
       "   <th style=\"text-align:left;\"> Chrom_A </th>\n",
       "   <th style=\"text-align:right;\"> ChromStart_A </th>\n",
       "   <th style=\"text-align:right;\"> ChromEnd_A </th>\n",
       "   <th style=\"text-align:left;\"> Region_A </th>\n",
       "   <th style=\"text-align:right;\"> Length_A </th>\n",
       "   <th style=\"text-align:left;\"> Chrom_B </th>\n",
       "   <th style=\"text-align:right;\"> ChromStart_B </th>\n",
       "   <th style=\"text-align:right;\"> ChromEnd_B </th>\n",
       "   <th style=\"text-align:left;\"> Region_B </th>\n",
       "   <th style=\"text-align:right;\"> Length_B </th>\n",
       "   <th style=\"text-align:left;\"> Name </th>\n",
       "   <th style=\"text-align:right;\"> Observed </th>\n",
       "   <th style=\"text-align:right;\"> Centroid_A </th>\n",
       "   <th style=\"text-align:right;\"> Centroid_B </th>\n",
       "   <th style=\"text-align:right;\"> Radius </th>\n",
       "   <th style=\"text-align:right;\"> Distance </th>\n",
       "   <th style=\"text-align:right;\"> Size </th>\n",
       "  </tr>\n",
       " </thead>\n",
       "<tbody>\n",
       "  <tr>\n",
       "   <td style=\"text-align:left;\"> chr1 </td>\n",
       "   <td style=\"text-align:right;\"> 770000 </td>\n",
       "   <td style=\"text-align:right;\"> 780000 </td>\n",
       "   <td style=\"text-align:left;\"> chr1:770000-780000 </td>\n",
       "   <td style=\"text-align:right;\"> 10000 </td>\n",
       "   <td style=\"text-align:left;\"> chr1 </td>\n",
       "   <td style=\"text-align:right;\"> 840000 </td>\n",
       "   <td style=\"text-align:right;\"> 850000 </td>\n",
       "   <td style=\"text-align:left;\"> chr1:840000-850000 </td>\n",
       "   <td style=\"text-align:right;\"> 10000 </td>\n",
       "   <td style=\"text-align:left;\"> chr1:770000-780000|chr1:840000-850000 </td>\n",
       "   <td style=\"text-align:right;\"> 19 </td>\n",
       "   <td style=\"text-align:right;\"> 775000 </td>\n",
       "   <td style=\"text-align:right;\"> 845000 </td>\n",
       "   <td style=\"text-align:right;\"> 0 </td>\n",
       "   <td style=\"text-align:right;\"> 70000 </td>\n",
       "   <td style=\"text-align:right;\"> 10000 </td>\n",
       "  </tr>\n",
       "  <tr>\n",
       "   <td style=\"text-align:left;\"> chr1 </td>\n",
       "   <td style=\"text-align:right;\"> 904000 </td>\n",
       "   <td style=\"text-align:right;\"> 906000 </td>\n",
       "   <td style=\"text-align:left;\"> chr1:904000-906000 </td>\n",
       "   <td style=\"text-align:right;\"> 2000 </td>\n",
       "   <td style=\"text-align:left;\"> chr1 </td>\n",
       "   <td style=\"text-align:right;\"> 976000 </td>\n",
       "   <td style=\"text-align:right;\"> 978000 </td>\n",
       "   <td style=\"text-align:left;\"> chr1:976000-978000 </td>\n",
       "   <td style=\"text-align:right;\"> 2000 </td>\n",
       "   <td style=\"text-align:left;\"> chr1:904000-906000|chr1:976000-978000 </td>\n",
       "   <td style=\"text-align:right;\"> 8 </td>\n",
       "   <td style=\"text-align:right;\"> 905000 </td>\n",
       "   <td style=\"text-align:right;\"> 977000 </td>\n",
       "   <td style=\"text-align:right;\"> 0 </td>\n",
       "   <td style=\"text-align:right;\"> 72000 </td>\n",
       "   <td style=\"text-align:right;\"> 2000 </td>\n",
       "  </tr>\n",
       "  <tr>\n",
       "   <td style=\"text-align:left;\"> chr1 </td>\n",
       "   <td style=\"text-align:right;\"> 920000 </td>\n",
       "   <td style=\"text-align:right;\"> 925000 </td>\n",
       "   <td style=\"text-align:left;\"> chr1:920000-925000 </td>\n",
       "   <td style=\"text-align:right;\"> 5000 </td>\n",
       "   <td style=\"text-align:left;\"> chr1 </td>\n",
       "   <td style=\"text-align:right;\"> 1060000 </td>\n",
       "   <td style=\"text-align:right;\"> 1065000 </td>\n",
       "   <td style=\"text-align:left;\"> chr1:1060000-1065000 </td>\n",
       "   <td style=\"text-align:right;\"> 5000 </td>\n",
       "   <td style=\"text-align:left;\"> chr1:920000-925000|chr1:1060000-1065000 </td>\n",
       "   <td style=\"text-align:right;\"> 17 </td>\n",
       "   <td style=\"text-align:right;\"> 917500 </td>\n",
       "   <td style=\"text-align:right;\"> 1062500 </td>\n",
       "   <td style=\"text-align:right;\"> 5000 </td>\n",
       "   <td style=\"text-align:right;\"> 145000 </td>\n",
       "   <td style=\"text-align:right;\"> 5000 </td>\n",
       "  </tr>\n",
       "</tbody>\n",
       "</table>"
      ]
     },
     "metadata": {},
     "output_type": "display_data"
    }
   ],
   "source": [
    "txt_fdiry = file.path(\n",
    "    FD_RES, \n",
    "    \"region\", \n",
    "    \"hic_intact_K562_ENCSR479XDG\",\n",
    "    \"summary\"\n",
    ")\n",
    "txt_fname = \"K562.hg38.hic_intact.Loop.tsv\"\n",
    "txt_fpath = file.path(txt_fdiry, txt_fname)\n",
    "\n",
    "dat = read_tsv(txt_fpath, show_col_types = FALSE)\n",
    "dat_region_info_loop = dat\n",
    "print(dim(dat))\n",
    "fun_display_table(head(dat, 3))"
   ]
  },
  {
   "cell_type": "code",
   "execution_count": 20,
   "id": "b3cbfb54-46fa-41d7-9165-166da8687c38",
   "metadata": {},
   "outputs": [
    {
     "name": "stdout",
     "output_type": "stream",
     "text": [
      "[1] 4348   12\n"
     ]
    },
    {
     "data": {
      "text/html": [
       "<table>\n",
       " <thead>\n",
       "  <tr>\n",
       "   <th style=\"text-align:left;\"> Chrom_A </th>\n",
       "   <th style=\"text-align:right;\"> ChromStart_A </th>\n",
       "   <th style=\"text-align:right;\"> ChromEnd_A </th>\n",
       "   <th style=\"text-align:left;\"> Region_A </th>\n",
       "   <th style=\"text-align:right;\"> Length_A </th>\n",
       "   <th style=\"text-align:left;\"> Chrom_B </th>\n",
       "   <th style=\"text-align:right;\"> ChromStart_B </th>\n",
       "   <th style=\"text-align:right;\"> ChromEnd_B </th>\n",
       "   <th style=\"text-align:left;\"> Region_B </th>\n",
       "   <th style=\"text-align:right;\"> Length_B </th>\n",
       "   <th style=\"text-align:left;\"> Name </th>\n",
       "   <th style=\"text-align:right;\"> Size </th>\n",
       "  </tr>\n",
       " </thead>\n",
       "<tbody>\n",
       "  <tr>\n",
       "   <td style=\"text-align:left;\"> chr1 </td>\n",
       "   <td style=\"text-align:right;\"> 1120000 </td>\n",
       "   <td style=\"text-align:right;\"> 1240000 </td>\n",
       "   <td style=\"text-align:left;\"> chr1:1120000-1240000 </td>\n",
       "   <td style=\"text-align:right;\"> 120000 </td>\n",
       "   <td style=\"text-align:left;\"> chr1 </td>\n",
       "   <td style=\"text-align:right;\"> 1120000 </td>\n",
       "   <td style=\"text-align:right;\"> 1240000 </td>\n",
       "   <td style=\"text-align:left;\"> chr1:1120000-1240000 </td>\n",
       "   <td style=\"text-align:right;\"> 120000 </td>\n",
       "   <td style=\"text-align:left;\"> chr1:1120000-1240000|chr1:1120000-1240000 </td>\n",
       "   <td style=\"text-align:right;\"> 120000 </td>\n",
       "  </tr>\n",
       "  <tr>\n",
       "   <td style=\"text-align:left;\"> chr1 </td>\n",
       "   <td style=\"text-align:right;\"> 1940000 </td>\n",
       "   <td style=\"text-align:right;\"> 2040000 </td>\n",
       "   <td style=\"text-align:left;\"> chr1:1940000-2040000 </td>\n",
       "   <td style=\"text-align:right;\"> 100000 </td>\n",
       "   <td style=\"text-align:left;\"> chr1 </td>\n",
       "   <td style=\"text-align:right;\"> 1940000 </td>\n",
       "   <td style=\"text-align:right;\"> 2040000 </td>\n",
       "   <td style=\"text-align:left;\"> chr1:1940000-2040000 </td>\n",
       "   <td style=\"text-align:right;\"> 100000 </td>\n",
       "   <td style=\"text-align:left;\"> chr1:1940000-2040000|chr1:1940000-2040000 </td>\n",
       "   <td style=\"text-align:right;\"> 100000 </td>\n",
       "  </tr>\n",
       "  <tr>\n",
       "   <td style=\"text-align:left;\"> chr1 </td>\n",
       "   <td style=\"text-align:right;\"> 2205000 </td>\n",
       "   <td style=\"text-align:right;\"> 2310000 </td>\n",
       "   <td style=\"text-align:left;\"> chr1:2205000-2310000 </td>\n",
       "   <td style=\"text-align:right;\"> 105000 </td>\n",
       "   <td style=\"text-align:left;\"> chr1 </td>\n",
       "   <td style=\"text-align:right;\"> 2205000 </td>\n",
       "   <td style=\"text-align:right;\"> 2310000 </td>\n",
       "   <td style=\"text-align:left;\"> chr1:2205000-2310000 </td>\n",
       "   <td style=\"text-align:right;\"> 105000 </td>\n",
       "   <td style=\"text-align:left;\"> chr1:2205000-2310000|chr1:2205000-2310000 </td>\n",
       "   <td style=\"text-align:right;\"> 105000 </td>\n",
       "  </tr>\n",
       "</tbody>\n",
       "</table>"
      ]
     },
     "metadata": {},
     "output_type": "display_data"
    }
   ],
   "source": [
    "txt_fdiry = file.path(\n",
    "    FD_RES, \n",
    "    \"region\", \n",
    "    \"hic_intact_K562_ENCSR479XDG\",\n",
    "    \"summary\"\n",
    ")\n",
    "txt_fname = \"K562.hg38.hic_intact.TAD.tsv\"\n",
    "txt_fpath = file.path(txt_fdiry, txt_fname)\n",
    "\n",
    "dat = read_tsv(txt_fpath, show_col_types = FALSE)\n",
    "dat_region_info_tad = dat\n",
    "print(dim(dat))\n",
    "fun_display_table(head(dat, 3))"
   ]
  },
  {
   "cell_type": "code",
   "execution_count": 21,
   "id": "fe8b88a7-834a-405b-a7fe-fed0e0983f69",
   "metadata": {},
   "outputs": [
    {
     "name": "stdout",
     "output_type": "stream",
     "text": [
      "[1] 160863     14\n"
     ]
    },
    {
     "data": {
      "text/html": [
       "<table>\n",
       " <thead>\n",
       "  <tr>\n",
       "   <th style=\"text-align:left;\"> Chrom_A </th>\n",
       "   <th style=\"text-align:right;\"> ChromStart_A </th>\n",
       "   <th style=\"text-align:right;\"> ChromEnd_A </th>\n",
       "   <th style=\"text-align:left;\"> Chrom_B </th>\n",
       "   <th style=\"text-align:right;\"> ChromStart_B </th>\n",
       "   <th style=\"text-align:right;\"> ChromEnd_B </th>\n",
       "   <th style=\"text-align:left;\"> Name_B </th>\n",
       "   <th style=\"text-align:left;\"> Group_B </th>\n",
       "   <th style=\"text-align:left;\"> Label_B </th>\n",
       "   <th style=\"text-align:right;\"> Note_B </th>\n",
       "   <th style=\"text-align:left;\"> Region_A </th>\n",
       "   <th style=\"text-align:left;\"> Region_B </th>\n",
       "   <th style=\"text-align:left;\"> Annotation_A </th>\n",
       "   <th style=\"text-align:left;\"> Annotation_B </th>\n",
       "  </tr>\n",
       " </thead>\n",
       "<tbody>\n",
       "  <tr>\n",
       "   <td style=\"text-align:left;\"> chr1 </td>\n",
       "   <td style=\"text-align:right;\"> 778233 </td>\n",
       "   <td style=\"text-align:right;\"> 779389 </td>\n",
       "   <td style=\"text-align:left;\"> chr1 </td>\n",
       "   <td style=\"text-align:right;\"> 770000 </td>\n",
       "   <td style=\"text-align:right;\"> 780000 </td>\n",
       "   <td style=\"text-align:left;\"> chr1:770000-780000|chr1:840000-850000 </td>\n",
       "   <td style=\"text-align:left;\"> hic_intact </td>\n",
       "   <td style=\"text-align:left;\"> Loop_A </td>\n",
       "   <td style=\"text-align:right;\"> 1156 </td>\n",
       "   <td style=\"text-align:left;\"> chr1:778233-779389 </td>\n",
       "   <td style=\"text-align:left;\"> chr1:770000-780000 </td>\n",
       "   <td style=\"text-align:left;\"> fcc_astarr_macs_input_overlap </td>\n",
       "   <td style=\"text-align:left;\"> hic_intact_Loop_A_ENCSR479XDG </td>\n",
       "  </tr>\n",
       "  <tr>\n",
       "   <td style=\"text-align:left;\"> chr1 </td>\n",
       "   <td style=\"text-align:right;\"> 903783 </td>\n",
       "   <td style=\"text-align:right;\"> 905204 </td>\n",
       "   <td style=\"text-align:left;\"> chr1 </td>\n",
       "   <td style=\"text-align:right;\"> 904000 </td>\n",
       "   <td style=\"text-align:right;\"> 906000 </td>\n",
       "   <td style=\"text-align:left;\"> chr1:904000-906000|chr1:976000-978000 </td>\n",
       "   <td style=\"text-align:left;\"> hic_intact </td>\n",
       "   <td style=\"text-align:left;\"> Loop_A </td>\n",
       "   <td style=\"text-align:right;\"> 1204 </td>\n",
       "   <td style=\"text-align:left;\"> chr1:903783-905204 </td>\n",
       "   <td style=\"text-align:left;\"> chr1:904000-906000 </td>\n",
       "   <td style=\"text-align:left;\"> fcc_astarr_macs_input_overlap </td>\n",
       "   <td style=\"text-align:left;\"> hic_intact_Loop_A_ENCSR479XDG </td>\n",
       "  </tr>\n",
       "  <tr>\n",
       "   <td style=\"text-align:left;\"> chr1 </td>\n",
       "   <td style=\"text-align:right;\"> 920937 </td>\n",
       "   <td style=\"text-align:right;\"> 921509 </td>\n",
       "   <td style=\"text-align:left;\"> chr1 </td>\n",
       "   <td style=\"text-align:right;\"> 920000 </td>\n",
       "   <td style=\"text-align:right;\"> 925000 </td>\n",
       "   <td style=\"text-align:left;\"> chr1:920000-925000|chr1:1060000-1065000 </td>\n",
       "   <td style=\"text-align:left;\"> hic_intact </td>\n",
       "   <td style=\"text-align:left;\"> Loop_A </td>\n",
       "   <td style=\"text-align:right;\"> 572 </td>\n",
       "   <td style=\"text-align:left;\"> chr1:920937-921509 </td>\n",
       "   <td style=\"text-align:left;\"> chr1:920000-925000 </td>\n",
       "   <td style=\"text-align:left;\"> fcc_astarr_macs_input_overlap </td>\n",
       "   <td style=\"text-align:left;\"> hic_intact_Loop_A_ENCSR479XDG </td>\n",
       "  </tr>\n",
       "</tbody>\n",
       "</table>"
      ]
     },
     "metadata": {},
     "output_type": "display_data"
    }
   ],
   "source": [
    "txt_fdiry = file.path(\n",
    "    FD_RES, \n",
    "    \"region_annotation\", \n",
    "    \"fcc_astarr_macs_input_overlap\",\n",
    "    \"summary\"\n",
    ")\n",
    "txt_fname = \"region.annotation.hic_intact_K562_ENCSR479XDG.tsv\"\n",
    "txt_fpath = file.path(txt_fdiry, txt_fname)\n",
    "\n",
    "dat = read_tsv(txt_fpath, show_col_types = FALSE)\n",
    "dat_region_annot_pair = dat\n",
    "print(dim(dat))\n",
    "fun_display_table(head(dat, 3))"
   ]
  },
  {
   "cell_type": "code",
   "execution_count": 22,
   "id": "b678bfd2-ec5f-4925-874d-9b3bbc1d986c",
   "metadata": {},
   "outputs": [
    {
     "name": "stdout",
     "output_type": "stream",
     "text": [
      "[1] 160863     10\n"
     ]
    },
    {
     "data": {
      "text/html": [
       "<table>\n",
       " <thead>\n",
       "  <tr>\n",
       "   <th style=\"text-align:left;\"> Chrom_A </th>\n",
       "   <th style=\"text-align:right;\"> ChromStart_A </th>\n",
       "   <th style=\"text-align:right;\"> ChromEnd_A </th>\n",
       "   <th style=\"text-align:left;\"> Region_A </th>\n",
       "   <th style=\"text-align:left;\"> Annotation_A </th>\n",
       "   <th style=\"text-align:left;\"> Annotation_B </th>\n",
       "   <th style=\"text-align:left;\"> Group_B </th>\n",
       "   <th style=\"text-align:left;\"> Name_B </th>\n",
       "   <th style=\"text-align:left;\"> Label_B </th>\n",
       "   <th style=\"text-align:right;\"> Count </th>\n",
       "  </tr>\n",
       " </thead>\n",
       "<tbody>\n",
       "  <tr>\n",
       "   <td style=\"text-align:left;\"> chr1 </td>\n",
       "   <td style=\"text-align:right;\"> 778233 </td>\n",
       "   <td style=\"text-align:right;\"> 779389 </td>\n",
       "   <td style=\"text-align:left;\"> chr1:778233-779389 </td>\n",
       "   <td style=\"text-align:left;\"> fcc_astarr_macs_input_overlap </td>\n",
       "   <td style=\"text-align:left;\"> hic_intact_Loop_A_ENCSR479XDG </td>\n",
       "   <td style=\"text-align:left;\"> hic_intact </td>\n",
       "   <td style=\"text-align:left;\"> chr1:770000-780000|chr1:840000-850000 </td>\n",
       "   <td style=\"text-align:left;\"> Loop_A|Loop_B </td>\n",
       "   <td style=\"text-align:right;\"> 3 </td>\n",
       "  </tr>\n",
       "  <tr>\n",
       "   <td style=\"text-align:left;\"> chr1 </td>\n",
       "   <td style=\"text-align:right;\"> 903783 </td>\n",
       "   <td style=\"text-align:right;\"> 905204 </td>\n",
       "   <td style=\"text-align:left;\"> chr1:903783-905204 </td>\n",
       "   <td style=\"text-align:left;\"> fcc_astarr_macs_input_overlap </td>\n",
       "   <td style=\"text-align:left;\"> hic_intact_Loop_A_ENCSR479XDG </td>\n",
       "   <td style=\"text-align:left;\"> hic_intact </td>\n",
       "   <td style=\"text-align:left;\"> chr1:904000-906000|chr1:976000-978000 </td>\n",
       "   <td style=\"text-align:left;\"> Loop_A|Loop_B </td>\n",
       "   <td style=\"text-align:right;\"> 2 </td>\n",
       "  </tr>\n",
       "  <tr>\n",
       "   <td style=\"text-align:left;\"> chr1 </td>\n",
       "   <td style=\"text-align:right;\"> 920937 </td>\n",
       "   <td style=\"text-align:right;\"> 921509 </td>\n",
       "   <td style=\"text-align:left;\"> chr1:920937-921509 </td>\n",
       "   <td style=\"text-align:left;\"> fcc_astarr_macs_input_overlap </td>\n",
       "   <td style=\"text-align:left;\"> hic_intact_Loop_A_ENCSR479XDG </td>\n",
       "   <td style=\"text-align:left;\"> hic_intact </td>\n",
       "   <td style=\"text-align:left;\"> chr1:920000-925000|chr1:1060000-1065000 </td>\n",
       "   <td style=\"text-align:left;\"> Loop_A|Loop_B </td>\n",
       "   <td style=\"text-align:right;\"> 5 </td>\n",
       "  </tr>\n",
       "</tbody>\n",
       "</table>"
      ]
     },
     "metadata": {},
     "output_type": "display_data"
    }
   ],
   "source": [
    "txt_fdiry = file.path(\n",
    "    FD_RES, \n",
    "    \"region_annotation\", \n",
    "    \"fcc_astarr_macs_input_overlap\",\n",
    "    \"summary\"\n",
    ")\n",
    "txt_fname = \"region.summary.hic_intact_K562_ENCSR479XDG.tsv\"\n",
    "txt_fpath = file.path(txt_fdiry, txt_fname)\n",
    "\n",
    "dat = read_tsv(txt_fpath, show_col_types = FALSE)\n",
    "dat_region_annot_summary = dat\n",
    "print(dim(dat))\n",
    "fun_display_table(head(dat, 3))"
   ]
  },
  {
   "cell_type": "markdown",
   "id": "a32efed0-7db8-4976-acb0-1581a3ac58bb",
   "metadata": {},
   "source": [
    "**Check**"
   ]
  },
  {
   "cell_type": "code",
   "execution_count": 23,
   "id": "d1e701d9-aba4-4d65-b9a0-b7542ab799e1",
   "metadata": {},
   "outputs": [
    {
     "name": "stdout",
     "output_type": "stream",
     "text": [
      "\n",
      "       Loop_A Loop_A|Loop_B        Loop_B           TAD \n",
      "         6278         81344          6355         66886 \n",
      "\n",
      "    1     2     3     4     5     6     7     8     9    10    11    12    13 \n",
      " 8975 46196 21579 10692  5625  3138  1904  1928  2097  2420  2552  2544  2808 \n",
      "   14    15    16    17    18    19    20    21    22    23    24    25    26 \n",
      " 2758  2985  2336  2448  2358  2090  2160  2058  1408  1702  1728  1475  1664 \n",
      "   27    28    29    30    31    32    33    34    35    36    37    38    39 \n",
      " 1431  1288  1189   960  1023   736   924   884   630   684   555   418   780 \n",
      "   40    41    42    43    44    45    46    47    48    49    50    51    52 \n",
      "  640   287   378   344   176   315   414   188   288   392   350   255   364 \n",
      "   53    54    55    56    57    58    59    60    61    62    63    64    65 \n",
      "  371   270   385   280   285   232   354   120   122   186   126   192   130 \n",
      "   66    67    68    69    70    73    74    77    78    79    81    82    83 \n",
      "  132    67    68    69   140   146    74    77    78    79    81   246   166 \n",
      "   85    88    89    93    95   101   115   200 \n",
      "   85    88    89    93    95   101   115   200 \n"
     ]
    }
   ],
   "source": [
    "dat = dat_region_annot_summary\n",
    "print(table(dat$Label_B))\n",
    "print(table(dat$Count))"
   ]
  },
  {
   "cell_type": "markdown",
   "id": "5a4a8a52-0bcf-4257-af8f-71b4eb730a71",
   "metadata": {},
   "source": [
    "## "
   ]
  },
  {
   "cell_type": "code",
   "execution_count": null,
   "id": "687513c5-7fb5-4dc7-a6a7-9a29bd93f3b4",
   "metadata": {},
   "outputs": [],
   "source": []
  },
  {
   "cell_type": "code",
   "execution_count": 24,
   "id": "9e818f74-1932-47f6-9d1c-09d85ff33cae",
   "metadata": {},
   "outputs": [
    {
     "data": {
      "text/html": [
       "<table class=\"dataframe\">\n",
       "<caption>A tibble: 6 × 14</caption>\n",
       "<thead>\n",
       "\t<tr><th scope=col>Chrom_A</th><th scope=col>ChromStart_A</th><th scope=col>ChromEnd_A</th><th scope=col>Chrom_B</th><th scope=col>ChromStart_B</th><th scope=col>ChromEnd_B</th><th scope=col>Name_B</th><th scope=col>Group_B</th><th scope=col>Label_B</th><th scope=col>Note_B</th><th scope=col>Region_A</th><th scope=col>Region_B</th><th scope=col>Annotation_A</th><th scope=col>Annotation_B</th></tr>\n",
       "\t<tr><th scope=col>&lt;chr&gt;</th><th scope=col>&lt;dbl&gt;</th><th scope=col>&lt;dbl&gt;</th><th scope=col>&lt;chr&gt;</th><th scope=col>&lt;dbl&gt;</th><th scope=col>&lt;dbl&gt;</th><th scope=col>&lt;chr&gt;</th><th scope=col>&lt;chr&gt;</th><th scope=col>&lt;chr&gt;</th><th scope=col>&lt;dbl&gt;</th><th scope=col>&lt;chr&gt;</th><th scope=col>&lt;chr&gt;</th><th scope=col>&lt;chr&gt;</th><th scope=col>&lt;chr&gt;</th></tr>\n",
       "</thead>\n",
       "<tbody>\n",
       "\t<tr><td>chr1</td><td>778233</td><td>779389</td><td>chr1</td><td>770000</td><td>780000</td><td>chr1:770000-780000|chr1:840000-850000  </td><td>hic_intact</td><td>Loop_A</td><td>1156</td><td>chr1:778233-779389</td><td>chr1:770000-780000</td><td>fcc_astarr_macs_input_overlap</td><td>hic_intact_Loop_A_ENCSR479XDG</td></tr>\n",
       "\t<tr><td>chr1</td><td>903783</td><td>905204</td><td>chr1</td><td>904000</td><td>906000</td><td>chr1:904000-906000|chr1:976000-978000  </td><td>hic_intact</td><td>Loop_A</td><td>1204</td><td>chr1:903783-905204</td><td>chr1:904000-906000</td><td>fcc_astarr_macs_input_overlap</td><td>hic_intact_Loop_A_ENCSR479XDG</td></tr>\n",
       "\t<tr><td>chr1</td><td>920937</td><td>921509</td><td>chr1</td><td>920000</td><td>925000</td><td>chr1:920000-925000|chr1:1060000-1065000</td><td>hic_intact</td><td>Loop_A</td><td> 572</td><td>chr1:920937-921509</td><td>chr1:920000-925000</td><td>fcc_astarr_macs_input_overlap</td><td>hic_intact_Loop_A_ENCSR479XDG</td></tr>\n",
       "\t<tr><td>chr1</td><td>923427</td><td>925161</td><td>chr1</td><td>920000</td><td>925000</td><td>chr1:920000-925000|chr1:1060000-1065000</td><td>hic_intact</td><td>Loop_A</td><td>1573</td><td>chr1:923427-925161</td><td>chr1:920000-925000</td><td>fcc_astarr_macs_input_overlap</td><td>hic_intact_Loop_A_ENCSR479XDG</td></tr>\n",
       "\t<tr><td>chr1</td><td>979401</td><td>980599</td><td>chr1</td><td>980000</td><td>990000</td><td>chr1:980000-990000|chr1:1290000-1300000</td><td>hic_intact</td><td>Loop_A</td><td> 599</td><td>chr1:979401-980599</td><td>chr1:980000-990000</td><td>fcc_astarr_macs_input_overlap</td><td>hic_intact_Loop_A_ENCSR479XDG</td></tr>\n",
       "\t<tr><td>chr1</td><td>984073</td><td>984542</td><td>chr1</td><td>984000</td><td>985000</td><td>chr1:984000-985000|chr1:1063000-1064000</td><td>hic_intact</td><td>Loop_A</td><td> 469</td><td>chr1:984073-984542</td><td>chr1:984000-985000</td><td>fcc_astarr_macs_input_overlap</td><td>hic_intact_Loop_A_ENCSR479XDG</td></tr>\n",
       "</tbody>\n",
       "</table>\n"
      ],
      "text/latex": [
       "A tibble: 6 × 14\n",
       "\\begin{tabular}{llllllllllllll}\n",
       " Chrom\\_A & ChromStart\\_A & ChromEnd\\_A & Chrom\\_B & ChromStart\\_B & ChromEnd\\_B & Name\\_B & Group\\_B & Label\\_B & Note\\_B & Region\\_A & Region\\_B & Annotation\\_A & Annotation\\_B\\\\\n",
       " <chr> & <dbl> & <dbl> & <chr> & <dbl> & <dbl> & <chr> & <chr> & <chr> & <dbl> & <chr> & <chr> & <chr> & <chr>\\\\\n",
       "\\hline\n",
       "\t chr1 & 778233 & 779389 & chr1 & 770000 & 780000 & chr1:770000-780000\\textbar{}chr1:840000-850000   & hic\\_intact & Loop\\_A & 1156 & chr1:778233-779389 & chr1:770000-780000 & fcc\\_astarr\\_macs\\_input\\_overlap & hic\\_intact\\_Loop\\_A\\_ENCSR479XDG\\\\\n",
       "\t chr1 & 903783 & 905204 & chr1 & 904000 & 906000 & chr1:904000-906000\\textbar{}chr1:976000-978000   & hic\\_intact & Loop\\_A & 1204 & chr1:903783-905204 & chr1:904000-906000 & fcc\\_astarr\\_macs\\_input\\_overlap & hic\\_intact\\_Loop\\_A\\_ENCSR479XDG\\\\\n",
       "\t chr1 & 920937 & 921509 & chr1 & 920000 & 925000 & chr1:920000-925000\\textbar{}chr1:1060000-1065000 & hic\\_intact & Loop\\_A &  572 & chr1:920937-921509 & chr1:920000-925000 & fcc\\_astarr\\_macs\\_input\\_overlap & hic\\_intact\\_Loop\\_A\\_ENCSR479XDG\\\\\n",
       "\t chr1 & 923427 & 925161 & chr1 & 920000 & 925000 & chr1:920000-925000\\textbar{}chr1:1060000-1065000 & hic\\_intact & Loop\\_A & 1573 & chr1:923427-925161 & chr1:920000-925000 & fcc\\_astarr\\_macs\\_input\\_overlap & hic\\_intact\\_Loop\\_A\\_ENCSR479XDG\\\\\n",
       "\t chr1 & 979401 & 980599 & chr1 & 980000 & 990000 & chr1:980000-990000\\textbar{}chr1:1290000-1300000 & hic\\_intact & Loop\\_A &  599 & chr1:979401-980599 & chr1:980000-990000 & fcc\\_astarr\\_macs\\_input\\_overlap & hic\\_intact\\_Loop\\_A\\_ENCSR479XDG\\\\\n",
       "\t chr1 & 984073 & 984542 & chr1 & 984000 & 985000 & chr1:984000-985000\\textbar{}chr1:1063000-1064000 & hic\\_intact & Loop\\_A &  469 & chr1:984073-984542 & chr1:984000-985000 & fcc\\_astarr\\_macs\\_input\\_overlap & hic\\_intact\\_Loop\\_A\\_ENCSR479XDG\\\\\n",
       "\\end{tabular}\n"
      ],
      "text/markdown": [
       "\n",
       "A tibble: 6 × 14\n",
       "\n",
       "| Chrom_A &lt;chr&gt; | ChromStart_A &lt;dbl&gt; | ChromEnd_A &lt;dbl&gt; | Chrom_B &lt;chr&gt; | ChromStart_B &lt;dbl&gt; | ChromEnd_B &lt;dbl&gt; | Name_B &lt;chr&gt; | Group_B &lt;chr&gt; | Label_B &lt;chr&gt; | Note_B &lt;dbl&gt; | Region_A &lt;chr&gt; | Region_B &lt;chr&gt; | Annotation_A &lt;chr&gt; | Annotation_B &lt;chr&gt; |\n",
       "|---|---|---|---|---|---|---|---|---|---|---|---|---|---|\n",
       "| chr1 | 778233 | 779389 | chr1 | 770000 | 780000 | chr1:770000-780000|chr1:840000-850000   | hic_intact | Loop_A | 1156 | chr1:778233-779389 | chr1:770000-780000 | fcc_astarr_macs_input_overlap | hic_intact_Loop_A_ENCSR479XDG |\n",
       "| chr1 | 903783 | 905204 | chr1 | 904000 | 906000 | chr1:904000-906000|chr1:976000-978000   | hic_intact | Loop_A | 1204 | chr1:903783-905204 | chr1:904000-906000 | fcc_astarr_macs_input_overlap | hic_intact_Loop_A_ENCSR479XDG |\n",
       "| chr1 | 920937 | 921509 | chr1 | 920000 | 925000 | chr1:920000-925000|chr1:1060000-1065000 | hic_intact | Loop_A |  572 | chr1:920937-921509 | chr1:920000-925000 | fcc_astarr_macs_input_overlap | hic_intact_Loop_A_ENCSR479XDG |\n",
       "| chr1 | 923427 | 925161 | chr1 | 920000 | 925000 | chr1:920000-925000|chr1:1060000-1065000 | hic_intact | Loop_A | 1573 | chr1:923427-925161 | chr1:920000-925000 | fcc_astarr_macs_input_overlap | hic_intact_Loop_A_ENCSR479XDG |\n",
       "| chr1 | 979401 | 980599 | chr1 | 980000 | 990000 | chr1:980000-990000|chr1:1290000-1300000 | hic_intact | Loop_A |  599 | chr1:979401-980599 | chr1:980000-990000 | fcc_astarr_macs_input_overlap | hic_intact_Loop_A_ENCSR479XDG |\n",
       "| chr1 | 984073 | 984542 | chr1 | 984000 | 985000 | chr1:984000-985000|chr1:1063000-1064000 | hic_intact | Loop_A |  469 | chr1:984073-984542 | chr1:984000-985000 | fcc_astarr_macs_input_overlap | hic_intact_Loop_A_ENCSR479XDG |\n",
       "\n"
      ],
      "text/plain": [
       "  Chrom_A ChromStart_A ChromEnd_A Chrom_B ChromStart_B ChromEnd_B\n",
       "1 chr1    778233       779389     chr1    770000       780000    \n",
       "2 chr1    903783       905204     chr1    904000       906000    \n",
       "3 chr1    920937       921509     chr1    920000       925000    \n",
       "4 chr1    923427       925161     chr1    920000       925000    \n",
       "5 chr1    979401       980599     chr1    980000       990000    \n",
       "6 chr1    984073       984542     chr1    984000       985000    \n",
       "  Name_B                                  Group_B    Label_B Note_B\n",
       "1 chr1:770000-780000|chr1:840000-850000   hic_intact Loop_A  1156  \n",
       "2 chr1:904000-906000|chr1:976000-978000   hic_intact Loop_A  1204  \n",
       "3 chr1:920000-925000|chr1:1060000-1065000 hic_intact Loop_A   572  \n",
       "4 chr1:920000-925000|chr1:1060000-1065000 hic_intact Loop_A  1573  \n",
       "5 chr1:980000-990000|chr1:1290000-1300000 hic_intact Loop_A   599  \n",
       "6 chr1:984000-985000|chr1:1063000-1064000 hic_intact Loop_A   469  \n",
       "  Region_A           Region_B           Annotation_A                 \n",
       "1 chr1:778233-779389 chr1:770000-780000 fcc_astarr_macs_input_overlap\n",
       "2 chr1:903783-905204 chr1:904000-906000 fcc_astarr_macs_input_overlap\n",
       "3 chr1:920937-921509 chr1:920000-925000 fcc_astarr_macs_input_overlap\n",
       "4 chr1:923427-925161 chr1:920000-925000 fcc_astarr_macs_input_overlap\n",
       "5 chr1:979401-980599 chr1:980000-990000 fcc_astarr_macs_input_overlap\n",
       "6 chr1:984073-984542 chr1:984000-985000 fcc_astarr_macs_input_overlap\n",
       "  Annotation_B                 \n",
       "1 hic_intact_Loop_A_ENCSR479XDG\n",
       "2 hic_intact_Loop_A_ENCSR479XDG\n",
       "3 hic_intact_Loop_A_ENCSR479XDG\n",
       "4 hic_intact_Loop_A_ENCSR479XDG\n",
       "5 hic_intact_Loop_A_ENCSR479XDG\n",
       "6 hic_intact_Loop_A_ENCSR479XDG"
      ]
     },
     "metadata": {},
     "output_type": "display_data"
    }
   ],
   "source": [
    "dat = dat_region_annot_pair\n",
    "head(dat)"
   ]
  },
  {
   "cell_type": "code",
   "execution_count": 35,
   "id": "1741d252-9d51-47d9-863a-ddbd9dbb8f89",
   "metadata": {},
   "outputs": [
    {
     "data": {
      "text/html": [
       "<table>\n",
       " <thead>\n",
       "  <tr>\n",
       "   <th style=\"text-align:left;\"> Chrom_A </th>\n",
       "   <th style=\"text-align:right;\"> ChromStart_A </th>\n",
       "   <th style=\"text-align:right;\"> ChromEnd_A </th>\n",
       "   <th style=\"text-align:left;\"> Region_A </th>\n",
       "   <th style=\"text-align:left;\"> Annotation_A </th>\n",
       "  </tr>\n",
       " </thead>\n",
       "<tbody>\n",
       "  <tr>\n",
       "   <td style=\"text-align:left;\"> chr1 </td>\n",
       "   <td style=\"text-align:right;\"> 778233 </td>\n",
       "   <td style=\"text-align:right;\"> 779389 </td>\n",
       "   <td style=\"text-align:left;\"> chr1:778233-779389 </td>\n",
       "   <td style=\"text-align:left;\"> fcc_astarr_macs_input_overlap </td>\n",
       "  </tr>\n",
       "  <tr>\n",
       "   <td style=\"text-align:left;\"> chr1 </td>\n",
       "   <td style=\"text-align:right;\"> 842516 </td>\n",
       "   <td style=\"text-align:right;\"> 843431 </td>\n",
       "   <td style=\"text-align:left;\"> chr1:842516-843431 </td>\n",
       "   <td style=\"text-align:left;\"> fcc_astarr_macs_input_overlap </td>\n",
       "  </tr>\n",
       "  <tr>\n",
       "   <td style=\"text-align:left;\"> chr1 </td>\n",
       "   <td style=\"text-align:right;\"> 849583 </td>\n",
       "   <td style=\"text-align:right;\"> 850403 </td>\n",
       "   <td style=\"text-align:left;\"> chr1:849583-850403 </td>\n",
       "   <td style=\"text-align:left;\"> fcc_astarr_macs_input_overlap </td>\n",
       "  </tr>\n",
       "</tbody>\n",
       "</table>"
      ]
     },
     "metadata": {},
     "output_type": "display_data"
    }
   ],
   "source": [
    "dat = dat_region_annot_pair\n",
    "dat = dat %>% \n",
    "    dplyr::select(ends_with(\"_A\")) %>% \n",
    "    dplyr::distinct() %>% \n",
    "    dplyr::arrange(Chrom_A, ChromStart_A, ChromEnd_A)\n",
    "\n",
    "vec_txt_region_A = dat$Region_A\n",
    "fun_display_table(head(dat, 3))"
   ]
  },
  {
   "cell_type": "code",
   "execution_count": 36,
   "id": "7437e083-22de-4068-9577-ecf4d29f1431",
   "metadata": {},
   "outputs": [
    {
     "data": {
      "text/html": [
       "<table>\n",
       " <thead>\n",
       "  <tr>\n",
       "   <th style=\"text-align:left;\"> Name_B </th>\n",
       "   <th style=\"text-align:left;\"> Chrom </th>\n",
       "   <th style=\"text-align:right;\"> ChromLoc </th>\n",
       "  </tr>\n",
       " </thead>\n",
       "<tbody>\n",
       "  <tr>\n",
       "   <td style=\"text-align:left;\"> chr1:770000-780000|chr1:840000-850000 </td>\n",
       "   <td style=\"text-align:left;\"> chr1 </td>\n",
       "   <td style=\"text-align:right;\"> 816666.7 </td>\n",
       "  </tr>\n",
       "  <tr>\n",
       "   <td style=\"text-align:left;\"> chr1:904000-906000|chr1:976000-978000 </td>\n",
       "   <td style=\"text-align:left;\"> chr1 </td>\n",
       "   <td style=\"text-align:right;\"> 940000.0 </td>\n",
       "  </tr>\n",
       "  <tr>\n",
       "   <td style=\"text-align:left;\"> chr1:920000-925000|chr1:1060000-1065000 </td>\n",
       "   <td style=\"text-align:left;\"> chr1 </td>\n",
       "   <td style=\"text-align:right;\"> 1004000.0 </td>\n",
       "  </tr>\n",
       "</tbody>\n",
       "</table>"
      ]
     },
     "metadata": {},
     "output_type": "display_data"
    }
   ],
   "source": [
    "dat = dat_region_annot_pair\n",
    "dat = dat %>% \n",
    "    dplyr::select(ends_with(\"_B\")) %>% \n",
    "    dplyr::distinct() %>% \n",
    "    dplyr::group_by(Name_B) %>% \n",
    "    dplyr::summarise(\n",
    "        Chrom    = unique(Chrom_B),\n",
    "        ChromLoc = mean(ChromStart_B),\n",
    "        .groups  = \"drop\"\n",
    "    ) %>% \n",
    "    dplyr::arrange(Chrom, ChromLoc)\n",
    "\n",
    "vec_txt_region_B = dat$Name_B\n",
    "fun_display_table(head(dat, 3))"
   ]
  },
  {
   "cell_type": "markdown",
   "id": "c30f4a55-44ee-446e-b815-331dd5f23ef4",
   "metadata": {},
   "source": [
    "## Explore: Loop"
   ]
  },
  {
   "cell_type": "code",
   "execution_count": 38,
   "id": "a3d4bdf5-0a0c-460e-95db-28703497b0d6",
   "metadata": {},
   "outputs": [
    {
     "data": {
      "text/html": [
       "<table>\n",
       " <thead>\n",
       "  <tr>\n",
       "   <th style=\"text-align:left;\"> Chrom_A </th>\n",
       "   <th style=\"text-align:right;\"> ChromStart_A </th>\n",
       "   <th style=\"text-align:right;\"> ChromEnd_A </th>\n",
       "   <th style=\"text-align:left;\"> Region_A </th>\n",
       "   <th style=\"text-align:left;\"> Annotation_A </th>\n",
       "   <th style=\"text-align:left;\"> Annotation_B </th>\n",
       "   <th style=\"text-align:left;\"> Group_B </th>\n",
       "   <th style=\"text-align:left;\"> Name_B </th>\n",
       "   <th style=\"text-align:left;\"> Label_B </th>\n",
       "   <th style=\"text-align:right;\"> Count </th>\n",
       "   <th style=\"text-align:right;\"> Value </th>\n",
       "  </tr>\n",
       " </thead>\n",
       "<tbody>\n",
       "  <tr>\n",
       "   <td style=\"text-align:left;\"> chrX </td>\n",
       "   <td style=\"text-align:right;\"> 155819909 </td>\n",
       "   <td style=\"text-align:right;\"> 155820432 </td>\n",
       "   <td style=\"text-align:left;\"> chrX:155819909-155820432 </td>\n",
       "   <td style=\"text-align:left;\"> fcc_astarr_macs_input_overlap </td>\n",
       "   <td style=\"text-align:left;\"> hic_intact_Loop_B_ENCSR479XDG </td>\n",
       "   <td style=\"text-align:left;\"> hic_intact </td>\n",
       "   <td style=\"text-align:left;\"> chrX:154915000-154920000|chrX:155820000-155825000 </td>\n",
       "   <td style=\"text-align:left;\"> Loop_A|Loop_B </td>\n",
       "   <td style=\"text-align:right;\"> 2 </td>\n",
       "   <td style=\"text-align:right;\"> 1 </td>\n",
       "  </tr>\n",
       "  <tr>\n",
       "   <td style=\"text-align:left;\"> chrX </td>\n",
       "   <td style=\"text-align:right;\"> 155819909 </td>\n",
       "   <td style=\"text-align:right;\"> 155820432 </td>\n",
       "   <td style=\"text-align:left;\"> chrX:155819909-155820432 </td>\n",
       "   <td style=\"text-align:left;\"> fcc_astarr_macs_input_overlap </td>\n",
       "   <td style=\"text-align:left;\"> hic_intact_Loop_B_ENCSR479XDG </td>\n",
       "   <td style=\"text-align:left;\"> hic_intact </td>\n",
       "   <td style=\"text-align:left;\"> chrX:154980000-154982000|chrX:155820000-155822000 </td>\n",
       "   <td style=\"text-align:left;\"> Loop_A|Loop_B </td>\n",
       "   <td style=\"text-align:right;\"> 2 </td>\n",
       "   <td style=\"text-align:right;\"> 1 </td>\n",
       "  </tr>\n",
       "  <tr>\n",
       "   <td style=\"text-align:left;\"> chrX </td>\n",
       "   <td style=\"text-align:right;\"> 155215877 </td>\n",
       "   <td style=\"text-align:right;\"> 155217263 </td>\n",
       "   <td style=\"text-align:left;\"> chrX:155215877-155217263 </td>\n",
       "   <td style=\"text-align:left;\"> fcc_astarr_macs_input_overlap </td>\n",
       "   <td style=\"text-align:left;\"> hic_intact_Loop_B_ENCSR479XDG </td>\n",
       "   <td style=\"text-align:left;\"> hic_intact </td>\n",
       "   <td style=\"text-align:left;\"> chrX:155070000-155072000|chrX:155216000-155218000 </td>\n",
       "   <td style=\"text-align:left;\"> Loop_A|Loop_B </td>\n",
       "   <td style=\"text-align:right;\"> 2 </td>\n",
       "   <td style=\"text-align:right;\"> 1 </td>\n",
       "  </tr>\n",
       "</tbody>\n",
       "</table>"
      ]
     },
     "metadata": {},
     "output_type": "display_data"
    }
   ],
   "source": [
    "dat = dat_region_import_annot \n",
    "dat = dat %>% \n",
    "    dplyr::filter(Chrom_A == \"chrX\") %>% \n",
    "    dplyr::filter(\n",
    "        Label_B == \"Loop_A|Loop_B\", \n",
    "        Count > 1) %>%\n",
    "    dplyr::mutate(Value = 1) %>%\n",
    "    dplyr::distinct()\n",
    "\n",
    "vec = vec_txt_region_A\n",
    "dat = dat %>% dplyr::mutate(Region_A = factor(Region_A, levels=rev(vec)))\n",
    "\n",
    "vec = vec_txt_region_B\n",
    "dat = dat %>% dplyr::mutate(Name_B = factor(Name_B, levels=vec))\n",
    "\n",
    "dat = dat %>% dplyr::arrange(Region_A, Name_B) %>% na.omit()\n",
    "dat_region_simplify = dat\n",
    "fun_display_table(head(dat, 3))"
   ]
  },
  {
   "cell_type": "code",
   "execution_count": 39,
   "id": "1ab310c0-1482-47cb-acee-1fdc2705e0c5",
   "metadata": {},
   "outputs": [
    {
     "data": {
      "image/png": "[encoded data removed]",
      "text/plain": [
       "plot without title"
      ]
     },
     "metadata": {
      "image/png": {
       "height": 300,
       "width": 300
      }
     },
     "output_type": "display_data"
    }
   ],
   "source": [
    "gpt = ggplot(dat, aes(x=Name_B, y=Region_A, fill=Value)) +\n",
    "    geom_tile() + \n",
    "    labs(x=\"Loop\", y=\"ATAC\") +\n",
    "    theme_cowplot() +\n",
    "    theme(\n",
    "        axis.text  = element_blank(),\n",
    "        axis.ticks = element_blank(),\n",
    "        legend.position = \"None\"\n",
    "    )\n",
    "\n",
    "options(repr.plot.height = 5, repr.plot.width = 5)\n",
    "print(gpt)"
   ]
  },
  {
   "cell_type": "markdown",
   "id": "61a78d81-1da1-4475-8c15-528bae62e1fe",
   "metadata": {},
   "source": [
    "## Explore:: TAD"
   ]
  },
  {
   "cell_type": "code",
   "execution_count": 40,
   "id": "d95372b6-4a0b-4285-a316-7bbb631a7b51",
   "metadata": {},
   "outputs": [
    {
     "data": {
      "text/plain": [
       "\n",
       "       Loop_A Loop_A|Loop_B        Loop_B           TAD \n",
       "         6278         81344          6355         66886 "
      ]
     },
     "metadata": {},
     "output_type": "display_data"
    }
   ],
   "source": [
    "dat = dat_region_import_annot \n",
    "table(dat$Label_B)"
   ]
  },
  {
   "cell_type": "code",
   "execution_count": 50,
   "id": "3265235e-dbcd-41c2-afc6-5aec3f7034c9",
   "metadata": {},
   "outputs": [
    {
     "data": {
      "text/html": [
       "<table class=\"dataframe\">\n",
       "<caption>A tibble: 6 × 11</caption>\n",
       "<thead>\n",
       "\t<tr><th scope=col>Chrom_A</th><th scope=col>ChromStart_A</th><th scope=col>ChromEnd_A</th><th scope=col>Region_A</th><th scope=col>Annotation_A</th><th scope=col>Annotation_B</th><th scope=col>Group_B</th><th scope=col>Name_B</th><th scope=col>Label_B</th><th scope=col>Count</th><th scope=col>Value</th></tr>\n",
       "\t<tr><th scope=col>&lt;chr&gt;</th><th scope=col>&lt;dbl&gt;</th><th scope=col>&lt;dbl&gt;</th><th scope=col>&lt;fct&gt;</th><th scope=col>&lt;chr&gt;</th><th scope=col>&lt;chr&gt;</th><th scope=col>&lt;chr&gt;</th><th scope=col>&lt;fct&gt;</th><th scope=col>&lt;chr&gt;</th><th scope=col>&lt;dbl&gt;</th><th scope=col>&lt;dbl&gt;</th></tr>\n",
       "</thead>\n",
       "<tbody>\n",
       "\t<tr><td>chrX</td><td>155819909</td><td>155820432</td><td>chrX:155819909-155820432</td><td>fcc_astarr_macs_input_overlap</td><td>hic_intact_TAD_ENCSR479XDG</td><td>hic_intact</td><td>chrX:155520000-155825000</td><td>TAD</td><td>6</td><td>1</td></tr>\n",
       "\t<tr><td>chrX</td><td>155767150</td><td>155768005</td><td>chrX:155767150-155768005</td><td>fcc_astarr_macs_input_overlap</td><td>hic_intact_TAD_ENCSR479XDG</td><td>hic_intact</td><td>chrX:155520000-155825000</td><td>TAD</td><td>6</td><td>1</td></tr>\n",
       "\t<tr><td>chrX</td><td>155745699</td><td>155746091</td><td>chrX:155745699-155746091</td><td>fcc_astarr_macs_input_overlap</td><td>hic_intact_TAD_ENCSR479XDG</td><td>hic_intact</td><td>chrX:155520000-155825000</td><td>TAD</td><td>6</td><td>1</td></tr>\n",
       "\t<tr><td>chrX</td><td>155719884</td><td>155720457</td><td>chrX:155719884-155720457</td><td>fcc_astarr_macs_input_overlap</td><td>hic_intact_TAD_ENCSR479XDG</td><td>hic_intact</td><td>chrX:155520000-155825000</td><td>TAD</td><td>6</td><td>1</td></tr>\n",
       "\t<tr><td>chrX</td><td>155641452</td><td>155641830</td><td>chrX:155641452-155641830</td><td>fcc_astarr_macs_input_overlap</td><td>hic_intact_TAD_ENCSR479XDG</td><td>hic_intact</td><td>chrX:155520000-155825000</td><td>TAD</td><td>6</td><td>1</td></tr>\n",
       "\t<tr><td>chrX</td><td>155612256</td><td>155613349</td><td>chrX:155612256-155613349</td><td>fcc_astarr_macs_input_overlap</td><td>hic_intact_TAD_ENCSR479XDG</td><td>hic_intact</td><td>chrX:155520000-155825000</td><td>TAD</td><td>6</td><td>1</td></tr>\n",
       "</tbody>\n",
       "</table>\n"
      ],
      "text/latex": [
       "A tibble: 6 × 11\n",
       "\\begin{tabular}{lllllllllll}\n",
       " Chrom\\_A & ChromStart\\_A & ChromEnd\\_A & Region\\_A & Annotation\\_A & Annotation\\_B & Group\\_B & Name\\_B & Label\\_B & Count & Value\\\\\n",
       " <chr> & <dbl> & <dbl> & <fct> & <chr> & <chr> & <chr> & <fct> & <chr> & <dbl> & <dbl>\\\\\n",
       "\\hline\n",
       "\t chrX & 155819909 & 155820432 & chrX:155819909-155820432 & fcc\\_astarr\\_macs\\_input\\_overlap & hic\\_intact\\_TAD\\_ENCSR479XDG & hic\\_intact & chrX:155520000-155825000 & TAD & 6 & 1\\\\\n",
       "\t chrX & 155767150 & 155768005 & chrX:155767150-155768005 & fcc\\_astarr\\_macs\\_input\\_overlap & hic\\_intact\\_TAD\\_ENCSR479XDG & hic\\_intact & chrX:155520000-155825000 & TAD & 6 & 1\\\\\n",
       "\t chrX & 155745699 & 155746091 & chrX:155745699-155746091 & fcc\\_astarr\\_macs\\_input\\_overlap & hic\\_intact\\_TAD\\_ENCSR479XDG & hic\\_intact & chrX:155520000-155825000 & TAD & 6 & 1\\\\\n",
       "\t chrX & 155719884 & 155720457 & chrX:155719884-155720457 & fcc\\_astarr\\_macs\\_input\\_overlap & hic\\_intact\\_TAD\\_ENCSR479XDG & hic\\_intact & chrX:155520000-155825000 & TAD & 6 & 1\\\\\n",
       "\t chrX & 155641452 & 155641830 & chrX:155641452-155641830 & fcc\\_astarr\\_macs\\_input\\_overlap & hic\\_intact\\_TAD\\_ENCSR479XDG & hic\\_intact & chrX:155520000-155825000 & TAD & 6 & 1\\\\\n",
       "\t chrX & 155612256 & 155613349 & chrX:155612256-155613349 & fcc\\_astarr\\_macs\\_input\\_overlap & hic\\_intact\\_TAD\\_ENCSR479XDG & hic\\_intact & chrX:155520000-155825000 & TAD & 6 & 1\\\\\n",
       "\\end{tabular}\n"
      ],
      "text/markdown": [
       "\n",
       "A tibble: 6 × 11\n",
       "\n",
       "| Chrom_A &lt;chr&gt; | ChromStart_A &lt;dbl&gt; | ChromEnd_A &lt;dbl&gt; | Region_A &lt;fct&gt; | Annotation_A &lt;chr&gt; | Annotation_B &lt;chr&gt; | Group_B &lt;chr&gt; | Name_B &lt;fct&gt; | Label_B &lt;chr&gt; | Count &lt;dbl&gt; | Value &lt;dbl&gt; |\n",
       "|---|---|---|---|---|---|---|---|---|---|---|\n",
       "| chrX | 155819909 | 155820432 | chrX:155819909-155820432 | fcc_astarr_macs_input_overlap | hic_intact_TAD_ENCSR479XDG | hic_intact | chrX:155520000-155825000 | TAD | 6 | 1 |\n",
       "| chrX | 155767150 | 155768005 | chrX:155767150-155768005 | fcc_astarr_macs_input_overlap | hic_intact_TAD_ENCSR479XDG | hic_intact | chrX:155520000-155825000 | TAD | 6 | 1 |\n",
       "| chrX | 155745699 | 155746091 | chrX:155745699-155746091 | fcc_astarr_macs_input_overlap | hic_intact_TAD_ENCSR479XDG | hic_intact | chrX:155520000-155825000 | TAD | 6 | 1 |\n",
       "| chrX | 155719884 | 155720457 | chrX:155719884-155720457 | fcc_astarr_macs_input_overlap | hic_intact_TAD_ENCSR479XDG | hic_intact | chrX:155520000-155825000 | TAD | 6 | 1 |\n",
       "| chrX | 155641452 | 155641830 | chrX:155641452-155641830 | fcc_astarr_macs_input_overlap | hic_intact_TAD_ENCSR479XDG | hic_intact | chrX:155520000-155825000 | TAD | 6 | 1 |\n",
       "| chrX | 155612256 | 155613349 | chrX:155612256-155613349 | fcc_astarr_macs_input_overlap | hic_intact_TAD_ENCSR479XDG | hic_intact | chrX:155520000-155825000 | TAD | 6 | 1 |\n",
       "\n"
      ],
      "text/plain": [
       "  Chrom_A ChromStart_A ChromEnd_A Region_A                \n",
       "1 chrX    155819909    155820432  chrX:155819909-155820432\n",
       "2 chrX    155767150    155768005  chrX:155767150-155768005\n",
       "3 chrX    155745699    155746091  chrX:155745699-155746091\n",
       "4 chrX    155719884    155720457  chrX:155719884-155720457\n",
       "5 chrX    155641452    155641830  chrX:155641452-155641830\n",
       "6 chrX    155612256    155613349  chrX:155612256-155613349\n",
       "  Annotation_A                  Annotation_B               Group_B   \n",
       "1 fcc_astarr_macs_input_overlap hic_intact_TAD_ENCSR479XDG hic_intact\n",
       "2 fcc_astarr_macs_input_overlap hic_intact_TAD_ENCSR479XDG hic_intact\n",
       "3 fcc_astarr_macs_input_overlap hic_intact_TAD_ENCSR479XDG hic_intact\n",
       "4 fcc_astarr_macs_input_overlap hic_intact_TAD_ENCSR479XDG hic_intact\n",
       "5 fcc_astarr_macs_input_overlap hic_intact_TAD_ENCSR479XDG hic_intact\n",
       "6 fcc_astarr_macs_input_overlap hic_intact_TAD_ENCSR479XDG hic_intact\n",
       "  Name_B                   Label_B Count Value\n",
       "1 chrX:155520000-155825000 TAD     6     1    \n",
       "2 chrX:155520000-155825000 TAD     6     1    \n",
       "3 chrX:155520000-155825000 TAD     6     1    \n",
       "4 chrX:155520000-155825000 TAD     6     1    \n",
       "5 chrX:155520000-155825000 TAD     6     1    \n",
       "6 chrX:155520000-155825000 TAD     6     1    "
      ]
     },
     "metadata": {},
     "output_type": "display_data"
    }
   ],
   "source": [
    "dat = dat_region_import_annot \n",
    "dat = dat %>% \n",
    "    dplyr::filter(Chrom_A == \"chrX\") %>% \n",
    "    dplyr::filter(\n",
    "        Label_B == \"TAD\", \n",
    "        Count > 1\n",
    "    ) %>%\n",
    "    dplyr::mutate(Value = 1) %>%\n",
    "    dplyr::distinct()\n",
    "\n",
    "vec = vec_txt_region_A\n",
    "dat = dat %>% dplyr::mutate(Region_A = factor(Region_A, levels=rev(vec)))\n",
    "\n",
    "vec = vec_txt_region_B\n",
    "dat = dat %>% dplyr::mutate(Name_B = factor(Name_B, levels=vec))\n",
    "\n",
    "dat = dat %>% dplyr::arrange(Region_A, Name_B) %>% na.omit()\n",
    "dat_region_simplify = dat\n",
    "head(dat)"
   ]
  },
  {
   "cell_type": "code",
   "execution_count": 51,
   "id": "5da97771-3013-4baf-b5e8-40655e553bb8",
   "metadata": {},
   "outputs": [
    {
     "data": {
      "image/png": "[encoded data removed]",
      "text/plain": [
       "plot without title"
      ]
     },
     "metadata": {
      "image/png": {
       "height": 300,
       "width": 300
      }
     },
     "output_type": "display_data"
    }
   ],
   "source": [
    "gpt = ggplot(dat, aes(x=Name_B, y=Region_A, fill=Value)) +\n",
    "    geom_tile() + \n",
    "    labs(x=\"TAD\", y=\"ATAC\") +\n",
    "    theme_cowplot() +\n",
    "    theme(\n",
    "        axis.text  = element_blank(),\n",
    "        axis.ticks = element_blank(),\n",
    "        legend.position = \"None\"\n",
    "    )\n",
    "\n",
    "options(repr.plot.height = 5, repr.plot.width = 5)\n",
    "print(gpt)"
   ]
  },
  {
   "cell_type": "code",
   "execution_count": null,
   "id": "5fce71c0-e177-428e-8dc4-eb2e21d750eb",
   "metadata": {},
   "outputs": [],
   "source": []
  }
 ],
 "metadata": {
  "kernelspec": {
   "display_name": "R",
   "language": "R",
   "name": "ir"
  },
  "language_info": {
   "codemirror_mode": "r",
   "file_extension": ".r",
   "mimetype": "text/x-r-source",
   "name": "R",
   "pygments_lexer": "r",
   "version": "4.4.0"
  }
 },
 "nbformat": 4,
 "nbformat_minor": 5
}
