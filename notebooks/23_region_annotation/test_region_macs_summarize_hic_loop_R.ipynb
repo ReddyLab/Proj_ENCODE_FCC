{
 "cells": [
  {
   "cell_type": "code",
   "execution_count": null,
   "id": "fc354558-1831-4969-b99e-ad00b5d98c3e",
   "metadata": {},
   "outputs": [],
   "source": []
  },
  {
   "cell_type": "markdown",
   "id": "d5793d71-7441-428d-a07f-7fbb4f11a1cc",
   "metadata": {},
   "source": [
    "**Set environment**"
   ]
  },
  {
   "cell_type": "code",
   "execution_count": 1,
   "id": "fc9cf07b-7ef4-4018-a1e7-b8d9a0fa5f50",
   "metadata": {
    "tags": []
   },
   "outputs": [
    {
     "name": "stdout",
     "output_type": "stream",
     "text": [
      "You are working on        Singularity \n",
      "BASE DIRECTORY (FD_BASE): /mount \n",
      "REPO DIRECTORY (FD_REPO): /mount/repo \n",
      "WORK DIRECTORY (FD_WORK): /mount/work \n",
      "DATA DIRECTORY (FD_DATA): /mount/data \n",
      "\n",
      "You are working with      ENCODE FCC \n",
      "PATH OF PROJECT (FD_PRJ): /mount/repo/Proj_ENCODE_FCC \n",
      "PROJECT RESULTS (FD_RES): /mount/repo/Proj_ENCODE_FCC/results \n",
      "PROJECT SCRIPTS (FD_EXE): /mount/repo/Proj_ENCODE_FCC/scripts \n",
      "PROJECT DATA    (FD_DAT): /mount/repo/Proj_ENCODE_FCC/data \n",
      "PROJECT NOTE    (FD_NBK): /mount/repo/Proj_ENCODE_FCC/notebooks \n",
      "PROJECT DOCS    (FD_DOC): /mount/repo/Proj_ENCODE_FCC/docs \n",
      "PROJECT LOG     (FD_LOG): /mount/repo/Proj_ENCODE_FCC/log \n",
      "PROJECT APP     (FD_APP): /mount/repo/Proj_ENCODE_FCC/app \n",
      "PROJECT REF     (FD_REF): /mount/repo/Proj_ENCODE_FCC/references \n",
      "\n"
     ]
    }
   ],
   "source": [
    "suppressMessages(suppressWarnings(source(\"../run_config_project_sing.R\")))\n",
    "show_env()"
   ]
  },
  {
   "cell_type": "code",
   "execution_count": 2,
   "id": "7f0c4dfa-3dc8-44dc-a482-25037f347bd4",
   "metadata": {},
   "outputs": [
    {
     "name": "stdout",
     "output_type": "stream",
     "text": [
      "[1] \"fcc_astarr_macs_input_overlap.hic_intact_Loop_A_deep.bed.gz\"\n",
      "[2] \"fcc_astarr_macs_input_overlap.hic_intact_Loop_B_deep.bed.gz\"\n"
     ]
    }
   ],
   "source": [
    "txt_fdiry = file.path(\n",
    "    FD_RES, \n",
    "    \"region_annotation\", \n",
    "    \"fcc_astarr_macs_input_overlap\",\n",
    "    \"hic_intact_K562_deep\"\n",
    ")\n",
    "vec = dir(txt_fdiry)\n",
    "print(vec)"
   ]
  },
  {
   "cell_type": "code",
   "execution_count": 3,
   "id": "29fe343a-d6da-499e-8729-fff9f77e4bec",
   "metadata": {},
   "outputs": [],
   "source": [
    "txt_region_folder_A = \"fcc_astarr_macs\"\n",
    "txt_region_folder_B = \"hic_intact_K562_deep\"\n",
    "\n",
    "txt_fdiry = file.path(FD_RES, \"region\", txt_region_folder_A, \"summary\")\n",
    "txt_fname = \"description.tsv\"\n",
    "txt_fpath = file.path(txt_fdiry, txt_fname)\n",
    "dat_cname = read_tsv(txt_fpath, show_col_types = FALSE)\n",
    "vec_txt_cname_A = dat_cname$Name\n",
    "\n",
    "txt_fdiry = file.path(FD_RES, \"region\", txt_region_folder_B, \"summary\")\n",
    "txt_fname = \"description.tsv\"\n",
    "txt_fpath = file.path(txt_fdiry, txt_fname)\n",
    "dat_cname = read_tsv(txt_fpath, show_col_types = FALSE)\n",
    "vec_txt_cname_B = dat_cname$Name\n",
    "\n",
    "vec_txt_cname = c(\n",
    "    paste0(vec_txt_cname_A, \"_A\"),\n",
    "    paste0(vec_txt_cname_B, \"_B\"),\n",
    "    \"Overlap\"\n",
    ")"
   ]
  },
  {
   "cell_type": "code",
   "execution_count": 4,
   "id": "eb16a7e8-70c4-4cfb-a881-e02a19f8129d",
   "metadata": {},
   "outputs": [
    {
     "name": "stderr",
     "output_type": "stream",
     "text": [
      "\u001b[1mRows: \u001b[22m\u001b[34m114064\u001b[39m \u001b[1mColumns: \u001b[22m\u001b[34m10\u001b[39m\n",
      "\u001b[36m──\u001b[39m \u001b[1mColumn specification\u001b[22m \u001b[36m───────────────────────────────────────────────────────────────\u001b[39m\n",
      "\u001b[1mDelimiter:\u001b[22m \"\\t\"\n",
      "\u001b[31mchr\u001b[39m (5): Chrom_A, Chrom_B, Name_B, Group_B, Label_B\n",
      "\u001b[32mdbl\u001b[39m (5): ChromStart_A, ChromEnd_A, ChromStart_B, ChromEnd_B, Overlap\n",
      "\n",
      "\u001b[36mℹ\u001b[39m Use `spec()` to retrieve the full column specification for this data.\n",
      "\u001b[36mℹ\u001b[39m Specify the column types or set `show_col_types = FALSE` to quiet this message.\n",
      "\u001b[1mRows: \u001b[22m\u001b[34m113665\u001b[39m \u001b[1mColumns: \u001b[22m\u001b[34m10\u001b[39m\n",
      "\u001b[36m──\u001b[39m \u001b[1mColumn specification\u001b[22m \u001b[36m───────────────────────────────────────────────────────────────\u001b[39m\n",
      "\u001b[1mDelimiter:\u001b[22m \"\\t\"\n",
      "\u001b[31mchr\u001b[39m (5): Chrom_A, Chrom_B, Name_B, Group_B, Label_B\n",
      "\u001b[32mdbl\u001b[39m (5): ChromStart_A, ChromEnd_A, ChromStart_B, ChromEnd_B, Overlap\n",
      "\n",
      "\u001b[36mℹ\u001b[39m Use `spec()` to retrieve the full column specification for this data.\n",
      "\u001b[36mℹ\u001b[39m Specify the column types or set `show_col_types = FALSE` to quiet this message.\n"
     ]
    },
    {
     "name": "stdout",
     "output_type": "stream",
     "text": [
      "[1] 227729     10\n"
     ]
    },
    {
     "data": {
      "text/html": [
       "<table class=\"dataframe\">\n",
       "<caption>A tibble: 6 × 10</caption>\n",
       "<thead>\n",
       "\t<tr><th scope=col>Chrom_A</th><th scope=col>ChromStart_A</th><th scope=col>ChromEnd_A</th><th scope=col>Chrom_B</th><th scope=col>ChromStart_B</th><th scope=col>ChromEnd_B</th><th scope=col>Name_B</th><th scope=col>Group_B</th><th scope=col>Label_B</th><th scope=col>Overlap</th></tr>\n",
       "\t<tr><th scope=col>&lt;chr&gt;</th><th scope=col>&lt;dbl&gt;</th><th scope=col>&lt;dbl&gt;</th><th scope=col>&lt;chr&gt;</th><th scope=col>&lt;dbl&gt;</th><th scope=col>&lt;dbl&gt;</th><th scope=col>&lt;chr&gt;</th><th scope=col>&lt;chr&gt;</th><th scope=col>&lt;chr&gt;</th><th scope=col>&lt;dbl&gt;</th></tr>\n",
       "</thead>\n",
       "<tbody>\n",
       "\t<tr><td>chr1</td><td>778233</td><td>779389</td><td>chr1</td><td>778000</td><td>779000</td><td>chr1:778000-779000|chr1:827000-828000  </td><td>hic_intact</td><td>Loop_A</td><td> 767</td></tr>\n",
       "\t<tr><td>chr1</td><td>869637</td><td>870233</td><td>chr1</td><td>870000</td><td>872000</td><td>chr1:870000-872000|chr1:974000-976000  </td><td>hic_intact</td><td>Loop_A</td><td> 233</td></tr>\n",
       "\t<tr><td>chr1</td><td>869637</td><td>870233</td><td>chr1</td><td>870000</td><td>872000</td><td>chr1:870000-872000|chr1:1062000-1064000</td><td>hic_intact</td><td>Loop_A</td><td> 233</td></tr>\n",
       "\t<tr><td>chr1</td><td>869637</td><td>870233</td><td>chr1</td><td>870000</td><td>875000</td><td>chr1:870000-875000|chr1:935000-940000  </td><td>hic_intact</td><td>Loop_A</td><td> 233</td></tr>\n",
       "\t<tr><td>chr1</td><td>869637</td><td>870233</td><td>chr1</td><td>868000</td><td>870000</td><td>chr1:868000-870000|chr1:1290000-1292000</td><td>hic_intact</td><td>Loop_A</td><td> 363</td></tr>\n",
       "\t<tr><td>chr1</td><td>903783</td><td>905204</td><td>chr1</td><td>904000</td><td>905000</td><td>chr1:904000-905000|chr1:976000-977000  </td><td>hic_intact</td><td>Loop_A</td><td>1000</td></tr>\n",
       "</tbody>\n",
       "</table>\n"
      ],
      "text/latex": [
       "A tibble: 6 × 10\n",
       "\\begin{tabular}{llllllllll}\n",
       " Chrom\\_A & ChromStart\\_A & ChromEnd\\_A & Chrom\\_B & ChromStart\\_B & ChromEnd\\_B & Name\\_B & Group\\_B & Label\\_B & Overlap\\\\\n",
       " <chr> & <dbl> & <dbl> & <chr> & <dbl> & <dbl> & <chr> & <chr> & <chr> & <dbl>\\\\\n",
       "\\hline\n",
       "\t chr1 & 778233 & 779389 & chr1 & 778000 & 779000 & chr1:778000-779000\\textbar{}chr1:827000-828000   & hic\\_intact & Loop\\_A &  767\\\\\n",
       "\t chr1 & 869637 & 870233 & chr1 & 870000 & 872000 & chr1:870000-872000\\textbar{}chr1:974000-976000   & hic\\_intact & Loop\\_A &  233\\\\\n",
       "\t chr1 & 869637 & 870233 & chr1 & 870000 & 872000 & chr1:870000-872000\\textbar{}chr1:1062000-1064000 & hic\\_intact & Loop\\_A &  233\\\\\n",
       "\t chr1 & 869637 & 870233 & chr1 & 870000 & 875000 & chr1:870000-875000\\textbar{}chr1:935000-940000   & hic\\_intact & Loop\\_A &  233\\\\\n",
       "\t chr1 & 869637 & 870233 & chr1 & 868000 & 870000 & chr1:868000-870000\\textbar{}chr1:1290000-1292000 & hic\\_intact & Loop\\_A &  363\\\\\n",
       "\t chr1 & 903783 & 905204 & chr1 & 904000 & 905000 & chr1:904000-905000\\textbar{}chr1:976000-977000   & hic\\_intact & Loop\\_A & 1000\\\\\n",
       "\\end{tabular}\n"
      ],
      "text/markdown": [
       "\n",
       "A tibble: 6 × 10\n",
       "\n",
       "| Chrom_A &lt;chr&gt; | ChromStart_A &lt;dbl&gt; | ChromEnd_A &lt;dbl&gt; | Chrom_B &lt;chr&gt; | ChromStart_B &lt;dbl&gt; | ChromEnd_B &lt;dbl&gt; | Name_B &lt;chr&gt; | Group_B &lt;chr&gt; | Label_B &lt;chr&gt; | Overlap &lt;dbl&gt; |\n",
       "|---|---|---|---|---|---|---|---|---|---|\n",
       "| chr1 | 778233 | 779389 | chr1 | 778000 | 779000 | chr1:778000-779000|chr1:827000-828000   | hic_intact | Loop_A |  767 |\n",
       "| chr1 | 869637 | 870233 | chr1 | 870000 | 872000 | chr1:870000-872000|chr1:974000-976000   | hic_intact | Loop_A |  233 |\n",
       "| chr1 | 869637 | 870233 | chr1 | 870000 | 872000 | chr1:870000-872000|chr1:1062000-1064000 | hic_intact | Loop_A |  233 |\n",
       "| chr1 | 869637 | 870233 | chr1 | 870000 | 875000 | chr1:870000-875000|chr1:935000-940000   | hic_intact | Loop_A |  233 |\n",
       "| chr1 | 869637 | 870233 | chr1 | 868000 | 870000 | chr1:868000-870000|chr1:1290000-1292000 | hic_intact | Loop_A |  363 |\n",
       "| chr1 | 903783 | 905204 | chr1 | 904000 | 905000 | chr1:904000-905000|chr1:976000-977000   | hic_intact | Loop_A | 1000 |\n",
       "\n"
      ],
      "text/plain": [
       "  Chrom_A ChromStart_A ChromEnd_A Chrom_B ChromStart_B ChromEnd_B\n",
       "1 chr1    778233       779389     chr1    778000       779000    \n",
       "2 chr1    869637       870233     chr1    870000       872000    \n",
       "3 chr1    869637       870233     chr1    870000       872000    \n",
       "4 chr1    869637       870233     chr1    870000       875000    \n",
       "5 chr1    869637       870233     chr1    868000       870000    \n",
       "6 chr1    903783       905204     chr1    904000       905000    \n",
       "  Name_B                                  Group_B    Label_B Overlap\n",
       "1 chr1:778000-779000|chr1:827000-828000   hic_intact Loop_A   767   \n",
       "2 chr1:870000-872000|chr1:974000-976000   hic_intact Loop_A   233   \n",
       "3 chr1:870000-872000|chr1:1062000-1064000 hic_intact Loop_A   233   \n",
       "4 chr1:870000-875000|chr1:935000-940000   hic_intact Loop_A   233   \n",
       "5 chr1:868000-870000|chr1:1290000-1292000 hic_intact Loop_A   363   \n",
       "6 chr1:904000-905000|chr1:976000-977000   hic_intact Loop_A  1000   "
      ]
     },
     "metadata": {},
     "output_type": "display_data"
    }
   ],
   "source": [
    "txt_fdiry = file.path(\n",
    "    FD_RES, \n",
    "    \"region_annotation\", \n",
    "    \"fcc_astarr_macs_input_overlap\",\n",
    "    \"hic_intact_K562_deep\"\n",
    ")\n",
    "\n",
    "txt_fname = \"fcc_astarr_macs_input_overlap.hic_intact_Loop_A_deep.bed.gz\"\n",
    "txt_fpath = file.path(txt_fdiry, txt_fname)\n",
    "dat1 = read_tsv(txt_fpath, col_names = vec_txt_cname)\n",
    "\n",
    "txt_fname = \"fcc_astarr_macs_input_overlap.hic_intact_Loop_B_deep.bed.gz\"\n",
    "txt_fpath = file.path(txt_fdiry, txt_fname)\n",
    "dat2 = read_tsv(txt_fpath, col_names = vec_txt_cname)\n",
    "\n",
    "dat = bind_rows(dat1, dat2)\n",
    "\n",
    "dat_region_import = dat\n",
    "print(dim(dat))\n",
    "head(dat)"
   ]
  },
  {
   "cell_type": "code",
   "execution_count": 5,
   "id": "31ba83d4-ab4d-4693-bb00-8de82578f89a",
   "metadata": {},
   "outputs": [
    {
     "name": "stdout",
     "output_type": "stream",
     "text": [
      "[1] 227729     14\n"
     ]
    },
    {
     "data": {
      "text/html": [
       "<table class=\"dataframe\">\n",
       "<caption>A tibble: 6 × 14</caption>\n",
       "<thead>\n",
       "\t<tr><th scope=col>Chrom_A</th><th scope=col>ChromStart_A</th><th scope=col>ChromEnd_A</th><th scope=col>Chrom_B</th><th scope=col>ChromStart_B</th><th scope=col>ChromEnd_B</th><th scope=col>Name_B</th><th scope=col>Group_B</th><th scope=col>Label_B</th><th scope=col>Overlap</th><th scope=col>Region_A</th><th scope=col>Region_B</th><th scope=col>Annotation_A</th><th scope=col>Annotation_B</th></tr>\n",
       "\t<tr><th scope=col>&lt;chr&gt;</th><th scope=col>&lt;dbl&gt;</th><th scope=col>&lt;dbl&gt;</th><th scope=col>&lt;chr&gt;</th><th scope=col>&lt;dbl&gt;</th><th scope=col>&lt;dbl&gt;</th><th scope=col>&lt;chr&gt;</th><th scope=col>&lt;chr&gt;</th><th scope=col>&lt;chr&gt;</th><th scope=col>&lt;dbl&gt;</th><th scope=col>&lt;chr&gt;</th><th scope=col>&lt;chr&gt;</th><th scope=col>&lt;chr&gt;</th><th scope=col>&lt;chr&gt;</th></tr>\n",
       "</thead>\n",
       "<tbody>\n",
       "\t<tr><td>chr1</td><td>778233</td><td>779389</td><td>chr1</td><td>778000</td><td>779000</td><td>chr1:778000-779000|chr1:827000-828000  </td><td>hic_intact</td><td>Loop_A</td><td> 767</td><td>chr1:778233-779389</td><td>chr1:778000-779000</td><td>fcc_astarr_macs_input_overlap</td><td>hic_intact_Loop_B_deep</td></tr>\n",
       "\t<tr><td>chr1</td><td>869637</td><td>870233</td><td>chr1</td><td>870000</td><td>872000</td><td>chr1:870000-872000|chr1:974000-976000  </td><td>hic_intact</td><td>Loop_A</td><td> 233</td><td>chr1:869637-870233</td><td>chr1:870000-872000</td><td>fcc_astarr_macs_input_overlap</td><td>hic_intact_Loop_B_deep</td></tr>\n",
       "\t<tr><td>chr1</td><td>869637</td><td>870233</td><td>chr1</td><td>870000</td><td>872000</td><td>chr1:870000-872000|chr1:1062000-1064000</td><td>hic_intact</td><td>Loop_A</td><td> 233</td><td>chr1:869637-870233</td><td>chr1:870000-872000</td><td>fcc_astarr_macs_input_overlap</td><td>hic_intact_Loop_B_deep</td></tr>\n",
       "\t<tr><td>chr1</td><td>869637</td><td>870233</td><td>chr1</td><td>870000</td><td>875000</td><td>chr1:870000-875000|chr1:935000-940000  </td><td>hic_intact</td><td>Loop_A</td><td> 233</td><td>chr1:869637-870233</td><td>chr1:870000-875000</td><td>fcc_astarr_macs_input_overlap</td><td>hic_intact_Loop_B_deep</td></tr>\n",
       "\t<tr><td>chr1</td><td>869637</td><td>870233</td><td>chr1</td><td>868000</td><td>870000</td><td>chr1:868000-870000|chr1:1290000-1292000</td><td>hic_intact</td><td>Loop_A</td><td> 363</td><td>chr1:869637-870233</td><td>chr1:868000-870000</td><td>fcc_astarr_macs_input_overlap</td><td>hic_intact_Loop_B_deep</td></tr>\n",
       "\t<tr><td>chr1</td><td>903783</td><td>905204</td><td>chr1</td><td>904000</td><td>905000</td><td>chr1:904000-905000|chr1:976000-977000  </td><td>hic_intact</td><td>Loop_A</td><td>1000</td><td>chr1:903783-905204</td><td>chr1:904000-905000</td><td>fcc_astarr_macs_input_overlap</td><td>hic_intact_Loop_B_deep</td></tr>\n",
       "</tbody>\n",
       "</table>\n"
      ],
      "text/latex": [
       "A tibble: 6 × 14\n",
       "\\begin{tabular}{llllllllllllll}\n",
       " Chrom\\_A & ChromStart\\_A & ChromEnd\\_A & Chrom\\_B & ChromStart\\_B & ChromEnd\\_B & Name\\_B & Group\\_B & Label\\_B & Overlap & Region\\_A & Region\\_B & Annotation\\_A & Annotation\\_B\\\\\n",
       " <chr> & <dbl> & <dbl> & <chr> & <dbl> & <dbl> & <chr> & <chr> & <chr> & <dbl> & <chr> & <chr> & <chr> & <chr>\\\\\n",
       "\\hline\n",
       "\t chr1 & 778233 & 779389 & chr1 & 778000 & 779000 & chr1:778000-779000\\textbar{}chr1:827000-828000   & hic\\_intact & Loop\\_A &  767 & chr1:778233-779389 & chr1:778000-779000 & fcc\\_astarr\\_macs\\_input\\_overlap & hic\\_intact\\_Loop\\_B\\_deep\\\\\n",
       "\t chr1 & 869637 & 870233 & chr1 & 870000 & 872000 & chr1:870000-872000\\textbar{}chr1:974000-976000   & hic\\_intact & Loop\\_A &  233 & chr1:869637-870233 & chr1:870000-872000 & fcc\\_astarr\\_macs\\_input\\_overlap & hic\\_intact\\_Loop\\_B\\_deep\\\\\n",
       "\t chr1 & 869637 & 870233 & chr1 & 870000 & 872000 & chr1:870000-872000\\textbar{}chr1:1062000-1064000 & hic\\_intact & Loop\\_A &  233 & chr1:869637-870233 & chr1:870000-872000 & fcc\\_astarr\\_macs\\_input\\_overlap & hic\\_intact\\_Loop\\_B\\_deep\\\\\n",
       "\t chr1 & 869637 & 870233 & chr1 & 870000 & 875000 & chr1:870000-875000\\textbar{}chr1:935000-940000   & hic\\_intact & Loop\\_A &  233 & chr1:869637-870233 & chr1:870000-875000 & fcc\\_astarr\\_macs\\_input\\_overlap & hic\\_intact\\_Loop\\_B\\_deep\\\\\n",
       "\t chr1 & 869637 & 870233 & chr1 & 868000 & 870000 & chr1:868000-870000\\textbar{}chr1:1290000-1292000 & hic\\_intact & Loop\\_A &  363 & chr1:869637-870233 & chr1:868000-870000 & fcc\\_astarr\\_macs\\_input\\_overlap & hic\\_intact\\_Loop\\_B\\_deep\\\\\n",
       "\t chr1 & 903783 & 905204 & chr1 & 904000 & 905000 & chr1:904000-905000\\textbar{}chr1:976000-977000   & hic\\_intact & Loop\\_A & 1000 & chr1:903783-905204 & chr1:904000-905000 & fcc\\_astarr\\_macs\\_input\\_overlap & hic\\_intact\\_Loop\\_B\\_deep\\\\\n",
       "\\end{tabular}\n"
      ],
      "text/markdown": [
       "\n",
       "A tibble: 6 × 14\n",
       "\n",
       "| Chrom_A &lt;chr&gt; | ChromStart_A &lt;dbl&gt; | ChromEnd_A &lt;dbl&gt; | Chrom_B &lt;chr&gt; | ChromStart_B &lt;dbl&gt; | ChromEnd_B &lt;dbl&gt; | Name_B &lt;chr&gt; | Group_B &lt;chr&gt; | Label_B &lt;chr&gt; | Overlap &lt;dbl&gt; | Region_A &lt;chr&gt; | Region_B &lt;chr&gt; | Annotation_A &lt;chr&gt; | Annotation_B &lt;chr&gt; |\n",
       "|---|---|---|---|---|---|---|---|---|---|---|---|---|---|\n",
       "| chr1 | 778233 | 779389 | chr1 | 778000 | 779000 | chr1:778000-779000|chr1:827000-828000   | hic_intact | Loop_A |  767 | chr1:778233-779389 | chr1:778000-779000 | fcc_astarr_macs_input_overlap | hic_intact_Loop_B_deep |\n",
       "| chr1 | 869637 | 870233 | chr1 | 870000 | 872000 | chr1:870000-872000|chr1:974000-976000   | hic_intact | Loop_A |  233 | chr1:869637-870233 | chr1:870000-872000 | fcc_astarr_macs_input_overlap | hic_intact_Loop_B_deep |\n",
       "| chr1 | 869637 | 870233 | chr1 | 870000 | 872000 | chr1:870000-872000|chr1:1062000-1064000 | hic_intact | Loop_A |  233 | chr1:869637-870233 | chr1:870000-872000 | fcc_astarr_macs_input_overlap | hic_intact_Loop_B_deep |\n",
       "| chr1 | 869637 | 870233 | chr1 | 870000 | 875000 | chr1:870000-875000|chr1:935000-940000   | hic_intact | Loop_A |  233 | chr1:869637-870233 | chr1:870000-875000 | fcc_astarr_macs_input_overlap | hic_intact_Loop_B_deep |\n",
       "| chr1 | 869637 | 870233 | chr1 | 868000 | 870000 | chr1:868000-870000|chr1:1290000-1292000 | hic_intact | Loop_A |  363 | chr1:869637-870233 | chr1:868000-870000 | fcc_astarr_macs_input_overlap | hic_intact_Loop_B_deep |\n",
       "| chr1 | 903783 | 905204 | chr1 | 904000 | 905000 | chr1:904000-905000|chr1:976000-977000   | hic_intact | Loop_A | 1000 | chr1:903783-905204 | chr1:904000-905000 | fcc_astarr_macs_input_overlap | hic_intact_Loop_B_deep |\n",
       "\n"
      ],
      "text/plain": [
       "  Chrom_A ChromStart_A ChromEnd_A Chrom_B ChromStart_B ChromEnd_B\n",
       "1 chr1    778233       779389     chr1    778000       779000    \n",
       "2 chr1    869637       870233     chr1    870000       872000    \n",
       "3 chr1    869637       870233     chr1    870000       872000    \n",
       "4 chr1    869637       870233     chr1    870000       875000    \n",
       "5 chr1    869637       870233     chr1    868000       870000    \n",
       "6 chr1    903783       905204     chr1    904000       905000    \n",
       "  Name_B                                  Group_B    Label_B Overlap\n",
       "1 chr1:778000-779000|chr1:827000-828000   hic_intact Loop_A   767   \n",
       "2 chr1:870000-872000|chr1:974000-976000   hic_intact Loop_A   233   \n",
       "3 chr1:870000-872000|chr1:1062000-1064000 hic_intact Loop_A   233   \n",
       "4 chr1:870000-875000|chr1:935000-940000   hic_intact Loop_A   233   \n",
       "5 chr1:868000-870000|chr1:1290000-1292000 hic_intact Loop_A   363   \n",
       "6 chr1:904000-905000|chr1:976000-977000   hic_intact Loop_A  1000   \n",
       "  Region_A           Region_B           Annotation_A                 \n",
       "1 chr1:778233-779389 chr1:778000-779000 fcc_astarr_macs_input_overlap\n",
       "2 chr1:869637-870233 chr1:870000-872000 fcc_astarr_macs_input_overlap\n",
       "3 chr1:869637-870233 chr1:870000-872000 fcc_astarr_macs_input_overlap\n",
       "4 chr1:869637-870233 chr1:870000-875000 fcc_astarr_macs_input_overlap\n",
       "5 chr1:869637-870233 chr1:868000-870000 fcc_astarr_macs_input_overlap\n",
       "6 chr1:903783-905204 chr1:904000-905000 fcc_astarr_macs_input_overlap\n",
       "  Annotation_B          \n",
       "1 hic_intact_Loop_B_deep\n",
       "2 hic_intact_Loop_B_deep\n",
       "3 hic_intact_Loop_B_deep\n",
       "4 hic_intact_Loop_B_deep\n",
       "5 hic_intact_Loop_B_deep\n",
       "6 hic_intact_Loop_B_deep"
      ]
     },
     "metadata": {},
     "output_type": "display_data"
    }
   ],
   "source": [
    "###\n",
    "dat = dat_region_import\n",
    "\n",
    "###\n",
    "vec = str_split(txt_fname, \"\\\\.\")[[1]]\n",
    "txt_annot_A = vec[1]\n",
    "txt_annot_B = vec[2]\n",
    "\n",
    "###\n",
    "dat = dat %>% \n",
    "    dplyr::mutate(\n",
    "        Region_A = paste0(Chrom_A, \":\", ChromStart_A, \"-\", ChromEnd_A),\n",
    "        Region_B = paste0(Chrom_B, \":\", ChromStart_B, \"-\", ChromEnd_B),\n",
    "        Annotation_A = txt_annot_A,\n",
    "        Annotation_B = txt_annot_B\n",
    "    )\n",
    "dat_region_arrange = dat\n",
    "print(dim(dat))\n",
    "head(dat)"
   ]
  },
  {
   "cell_type": "code",
   "execution_count": 7,
   "id": "b6a1f09f-3bf5-47d0-959b-dce00b819ac9",
   "metadata": {},
   "outputs": [
    {
     "name": "stdout",
     "output_type": "stream",
     "text": [
      "[1] 227729      6\n"
     ]
    },
    {
     "data": {
      "text/html": [
       "<table class=\"dataframe\">\n",
       "<caption>A tibble: 6 × 6</caption>\n",
       "<thead>\n",
       "\t<tr><th scope=col>Chrom_A</th><th scope=col>ChromStart_A</th><th scope=col>ChromEnd_A</th><th scope=col>Region_A</th><th scope=col>Name_B</th><th scope=col>ChromLoc_B</th></tr>\n",
       "\t<tr><th scope=col>&lt;chr&gt;</th><th scope=col>&lt;dbl&gt;</th><th scope=col>&lt;dbl&gt;</th><th scope=col>&lt;chr&gt;</th><th scope=col>&lt;chr&gt;</th><th scope=col>&lt;dbl&gt;</th></tr>\n",
       "</thead>\n",
       "<tbody>\n",
       "\t<tr><td>chr1</td><td>778233</td><td>779389</td><td>chr1:778233-779389</td><td>chr1:778000-779000|chr1:827000-828000  </td><td>778000</td></tr>\n",
       "\t<tr><td>chr1</td><td>826796</td><td>828040</td><td>chr1:826796-828040</td><td>chr1:778000-779000|chr1:827000-828000  </td><td>827000</td></tr>\n",
       "\t<tr><td>chr1</td><td>869637</td><td>870233</td><td>chr1:869637-870233</td><td>chr1:868000-870000|chr1:1290000-1292000</td><td>868000</td></tr>\n",
       "\t<tr><td>chr1</td><td>869637</td><td>870233</td><td>chr1:869637-870233</td><td>chr1:870000-872000|chr1:1062000-1064000</td><td>870000</td></tr>\n",
       "\t<tr><td>chr1</td><td>869637</td><td>870233</td><td>chr1:869637-870233</td><td>chr1:870000-872000|chr1:974000-976000  </td><td>870000</td></tr>\n",
       "\t<tr><td>chr1</td><td>869637</td><td>870233</td><td>chr1:869637-870233</td><td>chr1:870000-875000|chr1:935000-940000  </td><td>870000</td></tr>\n",
       "</tbody>\n",
       "</table>\n"
      ],
      "text/latex": [
       "A tibble: 6 × 6\n",
       "\\begin{tabular}{llllll}\n",
       " Chrom\\_A & ChromStart\\_A & ChromEnd\\_A & Region\\_A & Name\\_B & ChromLoc\\_B\\\\\n",
       " <chr> & <dbl> & <dbl> & <chr> & <chr> & <dbl>\\\\\n",
       "\\hline\n",
       "\t chr1 & 778233 & 779389 & chr1:778233-779389 & chr1:778000-779000\\textbar{}chr1:827000-828000   & 778000\\\\\n",
       "\t chr1 & 826796 & 828040 & chr1:826796-828040 & chr1:778000-779000\\textbar{}chr1:827000-828000   & 827000\\\\\n",
       "\t chr1 & 869637 & 870233 & chr1:869637-870233 & chr1:868000-870000\\textbar{}chr1:1290000-1292000 & 868000\\\\\n",
       "\t chr1 & 869637 & 870233 & chr1:869637-870233 & chr1:870000-872000\\textbar{}chr1:1062000-1064000 & 870000\\\\\n",
       "\t chr1 & 869637 & 870233 & chr1:869637-870233 & chr1:870000-872000\\textbar{}chr1:974000-976000   & 870000\\\\\n",
       "\t chr1 & 869637 & 870233 & chr1:869637-870233 & chr1:870000-875000\\textbar{}chr1:935000-940000   & 870000\\\\\n",
       "\\end{tabular}\n"
      ],
      "text/markdown": [
       "\n",
       "A tibble: 6 × 6\n",
       "\n",
       "| Chrom_A &lt;chr&gt; | ChromStart_A &lt;dbl&gt; | ChromEnd_A &lt;dbl&gt; | Region_A &lt;chr&gt; | Name_B &lt;chr&gt; | ChromLoc_B &lt;dbl&gt; |\n",
       "|---|---|---|---|---|---|\n",
       "| chr1 | 778233 | 779389 | chr1:778233-779389 | chr1:778000-779000|chr1:827000-828000   | 778000 |\n",
       "| chr1 | 826796 | 828040 | chr1:826796-828040 | chr1:778000-779000|chr1:827000-828000   | 827000 |\n",
       "| chr1 | 869637 | 870233 | chr1:869637-870233 | chr1:868000-870000|chr1:1290000-1292000 | 868000 |\n",
       "| chr1 | 869637 | 870233 | chr1:869637-870233 | chr1:870000-872000|chr1:1062000-1064000 | 870000 |\n",
       "| chr1 | 869637 | 870233 | chr1:869637-870233 | chr1:870000-872000|chr1:974000-976000   | 870000 |\n",
       "| chr1 | 869637 | 870233 | chr1:869637-870233 | chr1:870000-875000|chr1:935000-940000   | 870000 |\n",
       "\n"
      ],
      "text/plain": [
       "  Chrom_A ChromStart_A ChromEnd_A Region_A          \n",
       "1 chr1    778233       779389     chr1:778233-779389\n",
       "2 chr1    826796       828040     chr1:826796-828040\n",
       "3 chr1    869637       870233     chr1:869637-870233\n",
       "4 chr1    869637       870233     chr1:869637-870233\n",
       "5 chr1    869637       870233     chr1:869637-870233\n",
       "6 chr1    869637       870233     chr1:869637-870233\n",
       "  Name_B                                  ChromLoc_B\n",
       "1 chr1:778000-779000|chr1:827000-828000   778000    \n",
       "2 chr1:778000-779000|chr1:827000-828000   827000    \n",
       "3 chr1:868000-870000|chr1:1290000-1292000 868000    \n",
       "4 chr1:870000-872000|chr1:1062000-1064000 870000    \n",
       "5 chr1:870000-872000|chr1:974000-976000   870000    \n",
       "6 chr1:870000-875000|chr1:935000-940000   870000    "
      ]
     },
     "metadata": {},
     "output_type": "display_data"
    }
   ],
   "source": [
    "dat = dat_region_arrange\n",
    "dat = dat %>% \n",
    "    dplyr::select(\n",
    "        Chrom_A, ChromStart_A, ChromEnd_A, \n",
    "        Chrom_B, ChromStart_B, ChromEnd_B, \n",
    "        Region_A, Name_B) %>% \n",
    "    dplyr::distinct() %>%\n",
    "    dplyr::group_by(Chrom_A, ChromStart_A, ChromEnd_A, Region_A, Name_B) %>%\n",
    "    dplyr::summarise(\n",
    "        ChromLoc_B = mean(ChromStart_B),\n",
    "        .groups = \"drop\"\n",
    "    )\n",
    "\n",
    "dat_region_simplify = dat\n",
    "print(dim(dat))\n",
    "head(dat)"
   ]
  },
  {
   "cell_type": "code",
   "execution_count": null,
   "id": "9984747f-13df-4cbd-b6dd-9fa334bcb751",
   "metadata": {},
   "outputs": [],
   "source": []
  }
 ],
 "metadata": {
  "kernelspec": {
   "display_name": "R",
   "language": "R",
   "name": "ir"
  },
  "language_info": {
   "codemirror_mode": "r",
   "file_extension": ".r",
   "mimetype": "text/x-r-source",
   "name": "R",
   "pygments_lexer": "r",
   "version": "4.4.0"
  }
 },
 "nbformat": 4,
 "nbformat_minor": 5
}
