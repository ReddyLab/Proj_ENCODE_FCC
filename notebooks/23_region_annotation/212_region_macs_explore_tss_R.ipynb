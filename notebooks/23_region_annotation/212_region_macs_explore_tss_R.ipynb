{
 "cells": [
  {
   "cell_type": "raw",
   "id": "75c12c88-d4a9-4464-a365-bcccafe57aa9",
   "metadata": {},
   "source": [
    "---\n",
    "title: FCC Peak calls\n",
    "subtitle: export annotation\n",
    "format:\n",
    "    html:\n",
    "        code-fold:  true\n",
    "        code-tools: true\n",
    "---"
   ]
  },
  {
   "cell_type": "markdown",
   "id": "adbd03bd-ca69-485f-bbbb-9bedaf9eb403",
   "metadata": {},
   "source": [
    "**Set environment**"
   ]
  },
  {
   "cell_type": "code",
   "execution_count": 1,
   "id": "86d24f09-29e2-48e1-b6a2-fb9cea9f02c1",
   "metadata": {
    "tags": []
   },
   "outputs": [
    {
     "name": "stdout",
     "output_type": "stream",
     "text": [
      "You are working on        Singularity \n",
      "BASE DIRECTORY (FD_BASE): /mount \n",
      "REPO DIRECTORY (FD_REPO): /mount/repo \n",
      "WORK DIRECTORY (FD_WORK): /mount/work \n",
      "DATA DIRECTORY (FD_DATA): /mount/data \n",
      "\n",
      "You are working with      ENCODE FCC \n",
      "PATH OF PROJECT (FD_PRJ): /mount/repo/Proj_ENCODE_FCC \n",
      "PROJECT RESULTS (FD_RES): /mount/repo/Proj_ENCODE_FCC/results \n",
      "PROJECT SCRIPTS (FD_EXE): /mount/repo/Proj_ENCODE_FCC/scripts \n",
      "PROJECT DATA    (FD_DAT): /mount/repo/Proj_ENCODE_FCC/data \n",
      "PROJECT NOTE    (FD_NBK): /mount/repo/Proj_ENCODE_FCC/notebooks \n",
      "PROJECT DOCS    (FD_DOC): /mount/repo/Proj_ENCODE_FCC/docs \n",
      "PROJECT LOG     (FD_LOG): /mount/repo/Proj_ENCODE_FCC/log \n",
      "PROJECT APP     (FD_APP): /mount/repo/Proj_ENCODE_FCC/app \n",
      "PROJECT REF     (FD_REF): /mount/repo/Proj_ENCODE_FCC/references \n",
      "\n"
     ]
    }
   ],
   "source": [
    "suppressMessages(suppressWarnings(source(\"../run_config_project_sing.R\")))\n",
    "show_env()"
   ]
  },
  {
   "cell_type": "markdown",
   "id": "22cb40ab-f2ca-4a31-a062-ea3bea227c90",
   "metadata": {},
   "source": [
    "## Import data"
   ]
  },
  {
   "cell_type": "code",
   "execution_count": 2,
   "id": "2a3c60ad-3285-4684-b6c9-45fdb66b3d09",
   "metadata": {},
   "outputs": [
    {
     "name": "stdout",
     "output_type": "stream",
     "text": [
      "[1] 26926    10\n"
     ]
    },
    {
     "data": {
      "text/html": [
       "<table>\n",
       " <thead>\n",
       "  <tr>\n",
       "   <th style=\"text-align:left;\"> Chrom </th>\n",
       "   <th style=\"text-align:right;\"> ChromStart </th>\n",
       "   <th style=\"text-align:right;\"> ChromEnd </th>\n",
       "   <th style=\"text-align:left;\"> Region </th>\n",
       "   <th style=\"text-align:left;\"> Annotation_A </th>\n",
       "   <th style=\"text-align:left;\"> Annotation_B </th>\n",
       "   <th style=\"text-align:left;\"> Group </th>\n",
       "   <th style=\"text-align:left;\"> Label </th>\n",
       "   <th style=\"text-align:left;\"> Region_Annot </th>\n",
       "   <th style=\"text-align:right;\"> Region_Count </th>\n",
       "  </tr>\n",
       " </thead>\n",
       "<tbody>\n",
       "  <tr>\n",
       "   <td style=\"text-align:left;\"> chr1 </td>\n",
       "   <td style=\"text-align:right;\"> 17288 </td>\n",
       "   <td style=\"text-align:right;\"> 17689 </td>\n",
       "   <td style=\"text-align:left;\"> chr1:17288-17689 </td>\n",
       "   <td style=\"text-align:left;\"> fcc_astarr_macs_input_overlap </td>\n",
       "   <td style=\"text-align:left;\"> genome_tss_pol2 </td>\n",
       "   <td style=\"text-align:left;\"> TSS_Pol2 </td>\n",
       "   <td style=\"text-align:left;\"> MIR6859-1 </td>\n",
       "   <td style=\"text-align:left;\"> chr1:17436-17437 </td>\n",
       "   <td style=\"text-align:right;\"> 1 </td>\n",
       "  </tr>\n",
       "  <tr>\n",
       "   <td style=\"text-align:left;\"> chr1 </td>\n",
       "   <td style=\"text-align:right;\"> 17288 </td>\n",
       "   <td style=\"text-align:right;\"> 17689 </td>\n",
       "   <td style=\"text-align:left;\"> chr1:17288-17689 </td>\n",
       "   <td style=\"text-align:left;\"> fcc_astarr_macs_input_overlap </td>\n",
       "   <td style=\"text-align:left;\"> genome_tss_pol2 </td>\n",
       "   <td style=\"text-align:left;\"> TSS_Pol2 </td>\n",
       "   <td style=\"text-align:left;\"> MIR6859-2 </td>\n",
       "   <td style=\"text-align:left;\"> chr1:17436-17437 </td>\n",
       "   <td style=\"text-align:right;\"> 1 </td>\n",
       "  </tr>\n",
       "  <tr>\n",
       "   <td style=\"text-align:left;\"> chr1 </td>\n",
       "   <td style=\"text-align:right;\"> 17288 </td>\n",
       "   <td style=\"text-align:right;\"> 17689 </td>\n",
       "   <td style=\"text-align:left;\"> chr1:17288-17689 </td>\n",
       "   <td style=\"text-align:left;\"> fcc_astarr_macs_input_overlap </td>\n",
       "   <td style=\"text-align:left;\"> genome_tss_pol2 </td>\n",
       "   <td style=\"text-align:left;\"> TSS_Pol2 </td>\n",
       "   <td style=\"text-align:left;\"> MIR6859-3 </td>\n",
       "   <td style=\"text-align:left;\"> chr1:17436-17437 </td>\n",
       "   <td style=\"text-align:right;\"> 1 </td>\n",
       "  </tr>\n",
       "</tbody>\n",
       "</table>"
      ]
     },
     "metadata": {},
     "output_type": "display_data"
    }
   ],
   "source": [
    "txt_fdiry = file.path(\n",
    "    FD_RES, \n",
    "    \"region_annotation\", \n",
    "    \"fcc_astarr_macs_input_overlap\",\n",
    "    \"summary\"\n",
    ")\n",
    "txt_fname = \"region.annotation.genome_tss.tsv\"\n",
    "txt_fpath = file.path(txt_fdiry, txt_fname)\n",
    "\n",
    "dat = read_tsv(txt_fpath, show_col_types = FALSE)\n",
    "\n",
    "dat_region_annot_import = dat\n",
    "print(dim(dat))\n",
    "fun_display_table(head(dat, 3))"
   ]
  },
  {
   "cell_type": "code",
   "execution_count": 3,
   "id": "d072d6d8-4fb6-41bc-bfd2-80d4335ecc30",
   "metadata": {},
   "outputs": [
    {
     "data": {
      "text/plain": [
       "\n",
       "       TSS_Pol2 TSS_Pol2_RNAseq \n",
       "          16109           10817 "
      ]
     },
     "metadata": {},
     "output_type": "display_data"
    }
   ],
   "source": [
    "dat = dat_region_annot_import\n",
    "table(dat$Group)"
   ]
  },
  {
   "cell_type": "code",
   "execution_count": 6,
   "id": "f44b822c-fda8-4a95-bef2-4d0d9d813274",
   "metadata": {},
   "outputs": [
    {
     "data": {
      "text/html": [
       "<style>\n",
       ".list-inline {list-style: none; margin:0; padding: 0}\n",
       ".list-inline>li {display: inline-block}\n",
       ".list-inline>li:not(:last-child)::after {content: \"\\00b7\"; padding: 0 .5ex}\n",
       "</style>\n",
       "<ol class=list-inline><li>'biomart.ensembl_gene_111.GRCh38.p14.gene_stable_id2name_tss.tsv.gz'</li><li>'biomart.ensembl_gene_111.GRCh38.p14.gene_stable_id2name.tsv.gz'</li><li>'demap.v24Q2.AchillesCommonEssentialControls.csv'</li></ol>\n"
      ],
      "text/latex": [
       "\\begin{enumerate*}\n",
       "\\item 'biomart.ensembl\\_gene\\_111.GRCh38.p14.gene\\_stable\\_id2name\\_tss.tsv.gz'\n",
       "\\item 'biomart.ensembl\\_gene\\_111.GRCh38.p14.gene\\_stable\\_id2name.tsv.gz'\n",
       "\\item 'demap.v24Q2.AchillesCommonEssentialControls.csv'\n",
       "\\end{enumerate*}\n"
      ],
      "text/markdown": [
       "1. 'biomart.ensembl_gene_111.GRCh38.p14.gene_stable_id2name_tss.tsv.gz'\n",
       "2. 'biomart.ensembl_gene_111.GRCh38.p14.gene_stable_id2name.tsv.gz'\n",
       "3. 'demap.v24Q2.AchillesCommonEssentialControls.csv'\n",
       "\n",
       "\n"
      ],
      "text/plain": [
       "[1] \"biomart.ensembl_gene_111.GRCh38.p14.gene_stable_id2name_tss.tsv.gz\"\n",
       "[2] \"biomart.ensembl_gene_111.GRCh38.p14.gene_stable_id2name.tsv.gz\"    \n",
       "[3] \"demap.v24Q2.AchillesCommonEssentialControls.csv\"                   "
      ]
     },
     "metadata": {},
     "output_type": "display_data"
    }
   ],
   "source": [
    "txt_fdiry = file.path(\n",
    "    FD_REF,\n",
    "    \"genome_gene\"\n",
    ")\n",
    "\n",
    "dat = demap.v24Q2.AchillesCommonEssentialControls.csv\n",
    "dir(txt_fdiry)"
   ]
  },
  {
   "cell_type": "code",
   "execution_count": 16,
   "id": "c02e85d9-a3db-4e34-808e-9bf18008ee15",
   "metadata": {},
   "outputs": [
    {
     "name": "stdout",
     "output_type": "stream",
     "text": [
      "[1] 1247    1\n"
     ]
    },
    {
     "data": {
      "text/html": [
       "<table>\n",
       " <thead>\n",
       "  <tr>\n",
       "   <th style=\"text-align:left;\"> Gene </th>\n",
       "  </tr>\n",
       " </thead>\n",
       "<tbody>\n",
       "  <tr>\n",
       "   <td style=\"text-align:left;\"> AAMP (14) </td>\n",
       "  </tr>\n",
       "  <tr>\n",
       "   <td style=\"text-align:left;\"> AARS1 (16) </td>\n",
       "  </tr>\n",
       "  <tr>\n",
       "   <td style=\"text-align:left;\"> AASDHPPT (60496) </td>\n",
       "  </tr>\n",
       "</tbody>\n",
       "</table>"
      ]
     },
     "metadata": {},
     "output_type": "display_data"
    }
   ],
   "source": [
    "txt_fdiry = file.path(\n",
    "    FD_REF,\n",
    "    \"genome_gene\"\n",
    ")\n",
    "txt_fname = \"demap.v24Q2.AchillesCommonEssentialControls.csv\"\n",
    "txt_fpath = file.path(txt_fdiry, txt_fname)\n",
    "\n",
    "dat = read_csv(txt_fpath, show_col_types = FALSE)\n",
    "\n",
    "dat_gene_essential_import = dat\n",
    "print(dim(dat))\n",
    "fun_display_table(head(dat, 3))"
   ]
  },
  {
   "cell_type": "code",
   "execution_count": 17,
   "id": "0ca162cb-a89b-4bfe-914f-ccd0b1e77e6f",
   "metadata": {},
   "outputs": [
    {
     "data": {
      "text/html": [
       "<table class=\"dataframe\">\n",
       "<caption>A tibble: 6 × 2</caption>\n",
       "<thead>\n",
       "\t<tr><th scope=col>Gene</th><th scope=col>Note</th></tr>\n",
       "\t<tr><th scope=col>&lt;chr&gt;</th><th scope=col>&lt;chr&gt;</th></tr>\n",
       "</thead>\n",
       "<tbody>\n",
       "\t<tr><td>AAMP    </td><td>(14)   </td></tr>\n",
       "\t<tr><td>AARS1   </td><td>(16)   </td></tr>\n",
       "\t<tr><td>AASDHPPT</td><td>(60496)</td></tr>\n",
       "\t<tr><td>ABCB7   </td><td>(22)   </td></tr>\n",
       "\t<tr><td>ABCE1   </td><td>(6059) </td></tr>\n",
       "\t<tr><td>ABCF1   </td><td>(23)   </td></tr>\n",
       "</tbody>\n",
       "</table>\n"
      ],
      "text/latex": [
       "A tibble: 6 × 2\n",
       "\\begin{tabular}{ll}\n",
       " Gene & Note\\\\\n",
       " <chr> & <chr>\\\\\n",
       "\\hline\n",
       "\t AAMP     & (14)   \\\\\n",
       "\t AARS1    & (16)   \\\\\n",
       "\t AASDHPPT & (60496)\\\\\n",
       "\t ABCB7    & (22)   \\\\\n",
       "\t ABCE1    & (6059) \\\\\n",
       "\t ABCF1    & (23)   \\\\\n",
       "\\end{tabular}\n"
      ],
      "text/markdown": [
       "\n",
       "A tibble: 6 × 2\n",
       "\n",
       "| Gene &lt;chr&gt; | Note &lt;chr&gt; |\n",
       "|---|---|\n",
       "| AAMP     | (14)    |\n",
       "| AARS1    | (16)    |\n",
       "| AASDHPPT | (60496) |\n",
       "| ABCB7    | (22)    |\n",
       "| ABCE1    | (6059)  |\n",
       "| ABCF1    | (23)    |\n",
       "\n"
      ],
      "text/plain": [
       "  Gene     Note   \n",
       "1 AAMP     (14)   \n",
       "2 AARS1    (16)   \n",
       "3 AASDHPPT (60496)\n",
       "4 ABCB7    (22)   \n",
       "5 ABCE1    (6059) \n",
       "6 ABCF1    (23)   "
      ]
     },
     "metadata": {},
     "output_type": "display_data"
    }
   ],
   "source": [
    "dat = dat_gene_essential_import\n",
    "dat = dat %>% tidyr::separate(col=\"Gene\", into=c(\"Gene\", \"Note\"), sep = \" \")\n",
    "\n",
    "dat_gene_essential_arrange = dat\n",
    "head(dat)"
   ]
  },
  {
   "cell_type": "markdown",
   "id": "48187a22-8168-4f2e-b34f-8fa0357ffab4",
   "metadata": {},
   "source": [
    "## Summary"
   ]
  },
  {
   "cell_type": "code",
   "execution_count": 19,
   "id": "b294b7b7-fe69-4b21-b4aa-bdd629b98e86",
   "metadata": {},
   "outputs": [
    {
     "data": {
      "text/html": [
       "<table class=\"dataframe\">\n",
       "<caption>A tibble: 6 × 7</caption>\n",
       "<thead>\n",
       "\t<tr><th scope=col>Chrom</th><th scope=col>ChromStart</th><th scope=col>ChromEnd</th><th scope=col>Region</th><th scope=col>Group</th><th scope=col>Label</th><th scope=col>Essential</th></tr>\n",
       "\t<tr><th scope=col>&lt;chr&gt;</th><th scope=col>&lt;dbl&gt;</th><th scope=col>&lt;dbl&gt;</th><th scope=col>&lt;chr&gt;</th><th scope=col>&lt;chr&gt;</th><th scope=col>&lt;chr&gt;</th><th scope=col>&lt;lgl&gt;</th></tr>\n",
       "</thead>\n",
       "<tbody>\n",
       "\t<tr><td>chr1</td><td> 28934</td><td> 29499</td><td>chr1:28934-29499  </td><td>TSS_Pol2_RNAseq</td><td>WASH7P   </td><td>FALSE</td></tr>\n",
       "\t<tr><td>chr1</td><td>826796</td><td>828040</td><td>chr1:826796-828040</td><td>TSS_Pol2_RNAseq</td><td>LINC00115</td><td>FALSE</td></tr>\n",
       "\t<tr><td>chr1</td><td>826796</td><td>828040</td><td>chr1:826796-828040</td><td>TSS_Pol2_RNAseq</td><td>LINC01128</td><td>FALSE</td></tr>\n",
       "\t<tr><td>chr1</td><td>876493</td><td>877795</td><td>chr1:876493-877795</td><td>TSS_Pol2_RNAseq</td><td>FAM41C   </td><td>FALSE</td></tr>\n",
       "\t<tr><td>chr1</td><td>958722</td><td>959968</td><td>chr1:958722-959968</td><td>TSS_Pol2_RNAseq</td><td>NOC2L    </td><td>FALSE</td></tr>\n",
       "\t<tr><td>chr1</td><td>960468</td><td>961615</td><td>chr1:960468-961615</td><td>TSS_Pol2_RNAseq</td><td>KLHL17   </td><td>FALSE</td></tr>\n",
       "</tbody>\n",
       "</table>\n"
      ],
      "text/latex": [
       "A tibble: 6 × 7\n",
       "\\begin{tabular}{lllllll}\n",
       " Chrom & ChromStart & ChromEnd & Region & Group & Label & Essential\\\\\n",
       " <chr> & <dbl> & <dbl> & <chr> & <chr> & <chr> & <lgl>\\\\\n",
       "\\hline\n",
       "\t chr1 &  28934 &  29499 & chr1:28934-29499   & TSS\\_Pol2\\_RNAseq & WASH7P    & FALSE\\\\\n",
       "\t chr1 & 826796 & 828040 & chr1:826796-828040 & TSS\\_Pol2\\_RNAseq & LINC00115 & FALSE\\\\\n",
       "\t chr1 & 826796 & 828040 & chr1:826796-828040 & TSS\\_Pol2\\_RNAseq & LINC01128 & FALSE\\\\\n",
       "\t chr1 & 876493 & 877795 & chr1:876493-877795 & TSS\\_Pol2\\_RNAseq & FAM41C    & FALSE\\\\\n",
       "\t chr1 & 958722 & 959968 & chr1:958722-959968 & TSS\\_Pol2\\_RNAseq & NOC2L     & FALSE\\\\\n",
       "\t chr1 & 960468 & 961615 & chr1:960468-961615 & TSS\\_Pol2\\_RNAseq & KLHL17    & FALSE\\\\\n",
       "\\end{tabular}\n"
      ],
      "text/markdown": [
       "\n",
       "A tibble: 6 × 7\n",
       "\n",
       "| Chrom &lt;chr&gt; | ChromStart &lt;dbl&gt; | ChromEnd &lt;dbl&gt; | Region &lt;chr&gt; | Group &lt;chr&gt; | Label &lt;chr&gt; | Essential &lt;lgl&gt; |\n",
       "|---|---|---|---|---|---|---|\n",
       "| chr1 |  28934 |  29499 | chr1:28934-29499   | TSS_Pol2_RNAseq | WASH7P    | FALSE |\n",
       "| chr1 | 826796 | 828040 | chr1:826796-828040 | TSS_Pol2_RNAseq | LINC00115 | FALSE |\n",
       "| chr1 | 826796 | 828040 | chr1:826796-828040 | TSS_Pol2_RNAseq | LINC01128 | FALSE |\n",
       "| chr1 | 876493 | 877795 | chr1:876493-877795 | TSS_Pol2_RNAseq | FAM41C    | FALSE |\n",
       "| chr1 | 958722 | 959968 | chr1:958722-959968 | TSS_Pol2_RNAseq | NOC2L     | FALSE |\n",
       "| chr1 | 960468 | 961615 | chr1:960468-961615 | TSS_Pol2_RNAseq | KLHL17    | FALSE |\n",
       "\n"
      ],
      "text/plain": [
       "  Chrom ChromStart ChromEnd Region             Group           Label    \n",
       "1 chr1   28934      29499   chr1:28934-29499   TSS_Pol2_RNAseq WASH7P   \n",
       "2 chr1  826796     828040   chr1:826796-828040 TSS_Pol2_RNAseq LINC00115\n",
       "3 chr1  826796     828040   chr1:826796-828040 TSS_Pol2_RNAseq LINC01128\n",
       "4 chr1  876493     877795   chr1:876493-877795 TSS_Pol2_RNAseq FAM41C   \n",
       "5 chr1  958722     959968   chr1:958722-959968 TSS_Pol2_RNAseq NOC2L    \n",
       "6 chr1  960468     961615   chr1:960468-961615 TSS_Pol2_RNAseq KLHL17   \n",
       "  Essential\n",
       "1 FALSE    \n",
       "2 FALSE    \n",
       "3 FALSE    \n",
       "4 FALSE    \n",
       "5 FALSE    \n",
       "6 FALSE    "
      ]
     },
     "metadata": {},
     "output_type": "display_data"
    }
   ],
   "source": [
    "dat = dat_gene_essential_arrange\n",
    "vec = dat$Gene\n",
    "\n",
    "dat = dat_region_annot_import\n",
    "dat = dat %>% \n",
    "    dplyr::filter(Group == \"TSS_Pol2_RNAseq\") %>%\n",
    "    dplyr::select(Chrom, ChromStart, ChromEnd, Region, Group, Label) %>%\n",
    "    dplyr::distinct()\n",
    "\n",
    "dat = dat %>% \n",
    "    dplyr::rowwise() %>%\n",
    "    dplyr::mutate(Essential = Label %in% vec) %>%\n",
    "    dplyr::ungroup()\n",
    "\n",
    "head(dat)"
   ]
  },
  {
   "cell_type": "code",
   "execution_count": 20,
   "id": "cf040fda-74ed-4e8c-a437-e5a3f8b719de",
   "metadata": {},
   "outputs": [
    {
     "data": {
      "text/html": [
       "<table class=\"dataframe\">\n",
       "<caption>A tibble: 6 × 7</caption>\n",
       "<thead>\n",
       "\t<tr><th scope=col>Chrom</th><th scope=col>ChromStart</th><th scope=col>ChromEnd</th><th scope=col>Region</th><th scope=col>Group</th><th scope=col>Label</th><th scope=col>Essential</th></tr>\n",
       "\t<tr><th scope=col>&lt;chr&gt;</th><th scope=col>&lt;dbl&gt;</th><th scope=col>&lt;dbl&gt;</th><th scope=col>&lt;chr&gt;</th><th scope=col>&lt;chr&gt;</th><th scope=col>&lt;chr&gt;</th><th scope=col>&lt;lgl&gt;</th></tr>\n",
       "</thead>\n",
       "<tbody>\n",
       "\t<tr><td>chr1</td><td> 1406826</td><td> 1408156</td><td>chr1:1406826-1408156  </td><td>TSS_Pol2_RNAseq</td><td>MRPL20 </td><td>TRUE</td></tr>\n",
       "\t<tr><td>chr1</td><td> 1573998</td><td> 1575422</td><td>chr1:1573998-1575422  </td><td>TSS_Pol2_RNAseq</td><td>SSU72  </td><td>TRUE</td></tr>\n",
       "\t<tr><td>chr1</td><td> 6553721</td><td> 6555462</td><td>chr1:6553721-6555462  </td><td>TSS_Pol2_RNAseq</td><td>NOL9   </td><td>TRUE</td></tr>\n",
       "\t<tr><td>chr1</td><td> 6700962</td><td> 6702422</td><td>chr1:6700962-6702422  </td><td>TSS_Pol2_RNAseq</td><td>DNAJC11</td><td>TRUE</td></tr>\n",
       "\t<tr><td>chr1</td><td> 8877924</td><td> 8879490</td><td>chr1:8877924-8879490  </td><td>TSS_Pol2_RNAseq</td><td>ENO1   </td><td>TRUE</td></tr>\n",
       "\t<tr><td>chr1</td><td>10398409</td><td>10399778</td><td>chr1:10398409-10399778</td><td>TSS_Pol2_RNAseq</td><td>PGD    </td><td>TRUE</td></tr>\n",
       "</tbody>\n",
       "</table>\n"
      ],
      "text/latex": [
       "A tibble: 6 × 7\n",
       "\\begin{tabular}{lllllll}\n",
       " Chrom & ChromStart & ChromEnd & Region & Group & Label & Essential\\\\\n",
       " <chr> & <dbl> & <dbl> & <chr> & <chr> & <chr> & <lgl>\\\\\n",
       "\\hline\n",
       "\t chr1 &  1406826 &  1408156 & chr1:1406826-1408156   & TSS\\_Pol2\\_RNAseq & MRPL20  & TRUE\\\\\n",
       "\t chr1 &  1573998 &  1575422 & chr1:1573998-1575422   & TSS\\_Pol2\\_RNAseq & SSU72   & TRUE\\\\\n",
       "\t chr1 &  6553721 &  6555462 & chr1:6553721-6555462   & TSS\\_Pol2\\_RNAseq & NOL9    & TRUE\\\\\n",
       "\t chr1 &  6700962 &  6702422 & chr1:6700962-6702422   & TSS\\_Pol2\\_RNAseq & DNAJC11 & TRUE\\\\\n",
       "\t chr1 &  8877924 &  8879490 & chr1:8877924-8879490   & TSS\\_Pol2\\_RNAseq & ENO1    & TRUE\\\\\n",
       "\t chr1 & 10398409 & 10399778 & chr1:10398409-10399778 & TSS\\_Pol2\\_RNAseq & PGD     & TRUE\\\\\n",
       "\\end{tabular}\n"
      ],
      "text/markdown": [
       "\n",
       "A tibble: 6 × 7\n",
       "\n",
       "| Chrom &lt;chr&gt; | ChromStart &lt;dbl&gt; | ChromEnd &lt;dbl&gt; | Region &lt;chr&gt; | Group &lt;chr&gt; | Label &lt;chr&gt; | Essential &lt;lgl&gt; |\n",
       "|---|---|---|---|---|---|---|\n",
       "| chr1 |  1406826 |  1408156 | chr1:1406826-1408156   | TSS_Pol2_RNAseq | MRPL20  | TRUE |\n",
       "| chr1 |  1573998 |  1575422 | chr1:1573998-1575422   | TSS_Pol2_RNAseq | SSU72   | TRUE |\n",
       "| chr1 |  6553721 |  6555462 | chr1:6553721-6555462   | TSS_Pol2_RNAseq | NOL9    | TRUE |\n",
       "| chr1 |  6700962 |  6702422 | chr1:6700962-6702422   | TSS_Pol2_RNAseq | DNAJC11 | TRUE |\n",
       "| chr1 |  8877924 |  8879490 | chr1:8877924-8879490   | TSS_Pol2_RNAseq | ENO1    | TRUE |\n",
       "| chr1 | 10398409 | 10399778 | chr1:10398409-10399778 | TSS_Pol2_RNAseq | PGD     | TRUE |\n",
       "\n"
      ],
      "text/plain": [
       "  Chrom ChromStart ChromEnd Region                 Group           Label  \n",
       "1 chr1   1406826    1408156 chr1:1406826-1408156   TSS_Pol2_RNAseq MRPL20 \n",
       "2 chr1   1573998    1575422 chr1:1573998-1575422   TSS_Pol2_RNAseq SSU72  \n",
       "3 chr1   6553721    6555462 chr1:6553721-6555462   TSS_Pol2_RNAseq NOL9   \n",
       "4 chr1   6700962    6702422 chr1:6700962-6702422   TSS_Pol2_RNAseq DNAJC11\n",
       "5 chr1   8877924    8879490 chr1:8877924-8879490   TSS_Pol2_RNAseq ENO1   \n",
       "6 chr1  10398409   10399778 chr1:10398409-10399778 TSS_Pol2_RNAseq PGD    \n",
       "  Essential\n",
       "1 TRUE     \n",
       "2 TRUE     \n",
       "3 TRUE     \n",
       "4 TRUE     \n",
       "5 TRUE     \n",
       "6 TRUE     "
      ]
     },
     "metadata": {},
     "output_type": "display_data"
    }
   ],
   "source": [
    "dat %>% dplyr::filter(Essential) %>% head"
   ]
  },
  {
   "cell_type": "code",
   "execution_count": 21,
   "id": "e72305e6-389a-4787-8202-86ce4059beb5",
   "metadata": {},
   "outputs": [
    {
     "data": {
      "text/html": [
       "TRUE"
      ],
      "text/latex": [
       "TRUE"
      ],
      "text/markdown": [
       "TRUE"
      ],
      "text/plain": [
       "[1] TRUE"
      ]
     },
     "metadata": {},
     "output_type": "display_data"
    }
   ],
   "source": [
    "\"DNAJC11\" %in% vec"
   ]
  },
  {
   "cell_type": "code",
   "execution_count": 4,
   "id": "3b9263f3-23e7-4edb-a242-1aa835ebc97c",
   "metadata": {},
   "outputs": [
    {
     "name": "stdout",
     "output_type": "stream",
     "text": [
      "[1] 9649    7\n"
     ]
    },
    {
     "data": {
      "text/html": [
       "<table>\n",
       " <thead>\n",
       "  <tr>\n",
       "   <th style=\"text-align:left;\"> Chrom </th>\n",
       "   <th style=\"text-align:right;\"> ChromStart </th>\n",
       "   <th style=\"text-align:right;\"> ChromEnd </th>\n",
       "   <th style=\"text-align:left;\"> Region </th>\n",
       "   <th style=\"text-align:left;\"> Group </th>\n",
       "   <th style=\"text-align:left;\"> Label </th>\n",
       "   <th style=\"text-align:right;\"> Count </th>\n",
       "  </tr>\n",
       " </thead>\n",
       "<tbody>\n",
       "  <tr>\n",
       "   <td style=\"text-align:left;\"> chr1 </td>\n",
       "   <td style=\"text-align:right;\"> 28934 </td>\n",
       "   <td style=\"text-align:right;\"> 29499 </td>\n",
       "   <td style=\"text-align:left;\"> chr1:28934-29499 </td>\n",
       "   <td style=\"text-align:left;\"> TSS_Pol2_RNAseq </td>\n",
       "   <td style=\"text-align:left;\"> WASH7P </td>\n",
       "   <td style=\"text-align:right;\"> 1 </td>\n",
       "  </tr>\n",
       "  <tr>\n",
       "   <td style=\"text-align:left;\"> chr1 </td>\n",
       "   <td style=\"text-align:right;\"> 826796 </td>\n",
       "   <td style=\"text-align:right;\"> 828040 </td>\n",
       "   <td style=\"text-align:left;\"> chr1:826796-828040 </td>\n",
       "   <td style=\"text-align:left;\"> TSS_Pol2_RNAseq </td>\n",
       "   <td style=\"text-align:left;\"> LINC00115;LINC01128 </td>\n",
       "   <td style=\"text-align:right;\"> 2 </td>\n",
       "  </tr>\n",
       "  <tr>\n",
       "   <td style=\"text-align:left;\"> chr1 </td>\n",
       "   <td style=\"text-align:right;\"> 876493 </td>\n",
       "   <td style=\"text-align:right;\"> 877795 </td>\n",
       "   <td style=\"text-align:left;\"> chr1:876493-877795 </td>\n",
       "   <td style=\"text-align:left;\"> TSS_Pol2_RNAseq </td>\n",
       "   <td style=\"text-align:left;\"> FAM41C </td>\n",
       "   <td style=\"text-align:right;\"> 1 </td>\n",
       "  </tr>\n",
       "</tbody>\n",
       "</table>"
      ]
     },
     "metadata": {},
     "output_type": "display_data"
    }
   ],
   "source": [
    "dat = dat_region_annot_import\n",
    "dat = dat %>% \n",
    "    dplyr::filter(Group == \"TSS_Pol2_RNAseq\") %>%\n",
    "    dplyr::select(Chrom, ChromStart, ChromEnd, Region, Group, Label) %>%\n",
    "    dplyr::distinct()\n",
    "\n",
    "dat = dat %>%\n",
    "    dplyr::group_by(Chrom, ChromStart, ChromEnd, Region, Group) %>%\n",
    "    dplyr::summarise(\n",
    "        Label   = paste(Label, collapse = \";\"),\n",
    "        Count   = n(), \n",
    "        .groups = \"drop\"\n",
    "    )\n",
    "\n",
    "dat_region_annot_export = dat\n",
    "print(dim(dat))\n",
    "fun_display_table(head(dat, 3))"
   ]
  }
 ],
 "metadata": {
  "kernelspec": {
   "display_name": "R",
   "language": "R",
   "name": "ir"
  },
  "language_info": {
   "codemirror_mode": "r",
   "file_extension": ".r",
   "mimetype": "text/x-r-source",
   "name": "R",
   "pygments_lexer": "r",
   "version": "4.4.1"
  }
 },
 "nbformat": 4,
 "nbformat_minor": 5
}
