{
 "cells": [
  {
   "cell_type": "raw",
   "id": "433728f3-90cc-4866-9c92-74d4207c9a78",
   "metadata": {},
   "source": [
    "---\n",
    "title: Region annotation 023 (ASTARR MACS peaks)\n",
    "subtitle: Summarize annotations (ChIP-seq; TF; Flagship)\n",
    "format:\n",
    "    html:\n",
    "        code-fold:  true\n",
    "        code-tools: true\n",
    "---"
   ]
  },
  {
   "cell_type": "markdown",
   "id": "15a64f3e-b732-4dda-848e-1daa331172f8",
   "metadata": {},
   "source": [
    "**Set environment**"
   ]
  },
  {
   "cell_type": "code",
   "execution_count": 1,
   "id": "e1ee259f-0230-4b2b-90de-3e20ed1a3765",
   "metadata": {
    "tags": []
   },
   "outputs": [
    {
     "name": "stdout",
     "output_type": "stream",
     "text": [
      "You are working on        Singularity \n",
      "BASE DIRECTORY (FD_BASE): /mount \n",
      "REPO DIRECTORY (FD_REPO): /mount/repo \n",
      "WORK DIRECTORY (FD_WORK): /mount/work \n",
      "DATA DIRECTORY (FD_DATA): /mount/data \n",
      "\n",
      "You are working with      ENCODE FCC \n",
      "PATH OF PROJECT (FD_PRJ): /mount/repo/Proj_ENCODE_FCC \n",
      "PROJECT RESULTS (FD_RES): /mount/repo/Proj_ENCODE_FCC/results \n",
      "PROJECT SCRIPTS (FD_EXE): /mount/repo/Proj_ENCODE_FCC/scripts \n",
      "PROJECT DATA    (FD_DAT): /mount/repo/Proj_ENCODE_FCC/data \n",
      "PROJECT NOTE    (FD_NBK): /mount/repo/Proj_ENCODE_FCC/notebooks \n",
      "PROJECT DOCS    (FD_DOC): /mount/repo/Proj_ENCODE_FCC/docs \n",
      "PROJECT LOG     (FD_LOG): /mount/repo/Proj_ENCODE_FCC/log \n",
      "PROJECT APP     (FD_APP): /mount/repo/Proj_ENCODE_FCC/app \n",
      "PROJECT REF     (FD_REF): /mount/repo/Proj_ENCODE_FCC/references \n",
      "\n"
     ]
    }
   ],
   "source": [
    "suppressMessages(suppressWarnings(source(\"../run_config_project_sing.R\")))\n",
    "show_env()"
   ]
  },
  {
   "cell_type": "markdown",
   "id": "c7e4b39e-eeb9-4568-b3c6-7392ff143da9",
   "metadata": {},
   "source": [
    "**Set global variables**"
   ]
  },
  {
   "cell_type": "code",
   "execution_count": 2,
   "id": "b7526cb6-a8ae-4fa5-bfef-1af5e4772d90",
   "metadata": {},
   "outputs": [
    {
     "name": "stdout",
     "output_type": "stream",
     "text": [
      "annotation.macs.label.region_A.tsv \n",
      "annotation.macs.label.region_B.chipseq_full.tsv \n",
      "annotation.macs.label.region_B.chipseq_subset.tsv \n",
      "annotation.macs.label.region_B.main.tsv \n",
      "metadata.label.astarr_macs.tsv \n",
      "metadata.label.chipseq_full.tsv \n",
      "metadata.label.main.tsv \n",
      "metadata.label.ocr.tsv \n"
     ]
    }
   ],
   "source": [
    "txt_fdiry = file.path(FD_RES, \"region\", \"summary\")\n",
    "vec = dir(txt_fdiry)\n",
    "for (txt in vec){cat(txt, \"\\n\")}"
   ]
  },
  {
   "cell_type": "code",
   "execution_count": 3,
   "id": "34c22af4-23ad-40b6-84de-4c56994aafc9",
   "metadata": {},
   "outputs": [],
   "source": [
    "TXT_FDIRY_REGION_LABEL   = file.path(FD_RES, \"region\", \"summary\")\n",
    "#TXT_FNAME_REGION_LABEL_A = \"annotation.macs.label.region_A.tsv\"\n",
    "#TXT_FNAME_REGION_LABEL_B = \"annotation.macs.label.region_B.chipseq_full.tsv\"\n",
    "\n",
    "TXT_FNAME_REGION_LABEL_A = \"metadata.label.astarr_macs.tsv\"\n",
    "TXT_FNAME_REGION_LABEL_B = \"metadata.label.chipseq_full.tsv\""
   ]
  },
  {
   "cell_type": "markdown",
   "id": "367300db-3f2d-4b4f-959e-a8514bd9a834",
   "metadata": {},
   "source": [
    "## Import data"
   ]
  },
  {
   "cell_type": "code",
   "execution_count": 4,
   "id": "da20b6b6-76df-4914-b24d-78b3759f73f7",
   "metadata": {},
   "outputs": [
    {
     "data": {
      "text/html": [
       "<table class=\"dataframe\">\n",
       "<caption>A spec_tbl_df: 2 × 3</caption>\n",
       "<thead>\n",
       "\t<tr><th scope=col>Folder</th><th scope=col>FName</th><th scope=col>Label</th></tr>\n",
       "\t<tr><th scope=col>&lt;chr&gt;</th><th scope=col>&lt;chr&gt;</th><th scope=col>&lt;chr&gt;</th></tr>\n",
       "</thead>\n",
       "<tbody>\n",
       "\t<tr><td>fcc_astarr_macs</td><td>K562.hg38.ASTARR.macs.KS91.input.rep_all.max_overlaps.q5.bed.gz</td><td>fcc_astarr_macs_input_overlap</td></tr>\n",
       "\t<tr><td>fcc_astarr_macs</td><td>K562.hg38.ASTARR.macs.KS91.input.rep_all.union.q5.bed.gz       </td><td>fcc_astarr_macs_input_union  </td></tr>\n",
       "</tbody>\n",
       "</table>\n"
      ],
      "text/latex": [
       "A spec\\_tbl\\_df: 2 × 3\n",
       "\\begin{tabular}{lll}\n",
       " Folder & FName & Label\\\\\n",
       " <chr> & <chr> & <chr>\\\\\n",
       "\\hline\n",
       "\t fcc\\_astarr\\_macs & K562.hg38.ASTARR.macs.KS91.input.rep\\_all.max\\_overlaps.q5.bed.gz & fcc\\_astarr\\_macs\\_input\\_overlap\\\\\n",
       "\t fcc\\_astarr\\_macs & K562.hg38.ASTARR.macs.KS91.input.rep\\_all.union.q5.bed.gz        & fcc\\_astarr\\_macs\\_input\\_union  \\\\\n",
       "\\end{tabular}\n"
      ],
      "text/markdown": [
       "\n",
       "A spec_tbl_df: 2 × 3\n",
       "\n",
       "| Folder &lt;chr&gt; | FName &lt;chr&gt; | Label &lt;chr&gt; |\n",
       "|---|---|---|\n",
       "| fcc_astarr_macs | K562.hg38.ASTARR.macs.KS91.input.rep_all.max_overlaps.q5.bed.gz | fcc_astarr_macs_input_overlap |\n",
       "| fcc_astarr_macs | K562.hg38.ASTARR.macs.KS91.input.rep_all.union.q5.bed.gz        | fcc_astarr_macs_input_union   |\n",
       "\n"
      ],
      "text/plain": [
       "  Folder         \n",
       "1 fcc_astarr_macs\n",
       "2 fcc_astarr_macs\n",
       "  FName                                                          \n",
       "1 K562.hg38.ASTARR.macs.KS91.input.rep_all.max_overlaps.q5.bed.gz\n",
       "2 K562.hg38.ASTARR.macs.KS91.input.rep_all.union.q5.bed.gz       \n",
       "  Label                        \n",
       "1 fcc_astarr_macs_input_overlap\n",
       "2 fcc_astarr_macs_input_union  "
      ]
     },
     "metadata": {},
     "output_type": "display_data"
    }
   ],
   "source": [
    "txt_fdiry = TXT_FDIRY_REGION_LABEL\n",
    "txt_fname = TXT_FNAME_REGION_LABEL_A\n",
    "txt_fpath = file.path(txt_fdiry, txt_fname)\n",
    "\n",
    "dat_region_label_A = read_tsv(txt_fpath, show_col_types = FALSE)\n",
    "dat_region_label_A"
   ]
  },
  {
   "cell_type": "code",
   "execution_count": 5,
   "id": "4fcd2ff8-e77d-4a70-99ad-b903e18e223a",
   "metadata": {},
   "outputs": [
    {
     "data": {
      "text/html": [
       "<table class=\"dataframe\">\n",
       "<caption>A tibble: 6 × 3</caption>\n",
       "<thead>\n",
       "\t<tr><th scope=col>Folder</th><th scope=col>FName</th><th scope=col>Label</th></tr>\n",
       "\t<tr><th scope=col>&lt;chr&gt;</th><th scope=col>&lt;chr&gt;</th><th scope=col>&lt;chr&gt;</th></tr>\n",
       "</thead>\n",
       "<tbody>\n",
       "\t<tr><td>encode_chipseq_encode4</td><td>ENCFF124KCE.bed.gz</td><td>chipseq_ZBTB43_ENCFF124KCE</td></tr>\n",
       "\t<tr><td>encode_chipseq_encode4</td><td>ENCFF173QUY.bed.gz</td><td>chipseq_E2F5_ENCFF173QUY  </td></tr>\n",
       "\t<tr><td>encode_chipseq_encode4</td><td>ENCFF442RYH.bed.gz</td><td>chipseq_ZNF431_ENCFF442RYH</td></tr>\n",
       "\t<tr><td>encode_chipseq_encode4</td><td>ENCFF817EJA.bed.gz</td><td>chipseq_ZNF512_ENCFF817EJA</td></tr>\n",
       "\t<tr><td>encode_chipseq_encode4</td><td>ENCFF430YXJ.bed.gz</td><td>chipseq_IRF2_ENCFF430YXJ  </td></tr>\n",
       "\t<tr><td>encode_chipseq_encode4</td><td>ENCFF881MMD.bed.gz</td><td>chipseq_ZNF124_ENCFF881MMD</td></tr>\n",
       "</tbody>\n",
       "</table>\n"
      ],
      "text/latex": [
       "A tibble: 6 × 3\n",
       "\\begin{tabular}{lll}\n",
       " Folder & FName & Label\\\\\n",
       " <chr> & <chr> & <chr>\\\\\n",
       "\\hline\n",
       "\t encode\\_chipseq\\_encode4 & ENCFF124KCE.bed.gz & chipseq\\_ZBTB43\\_ENCFF124KCE\\\\\n",
       "\t encode\\_chipseq\\_encode4 & ENCFF173QUY.bed.gz & chipseq\\_E2F5\\_ENCFF173QUY  \\\\\n",
       "\t encode\\_chipseq\\_encode4 & ENCFF442RYH.bed.gz & chipseq\\_ZNF431\\_ENCFF442RYH\\\\\n",
       "\t encode\\_chipseq\\_encode4 & ENCFF817EJA.bed.gz & chipseq\\_ZNF512\\_ENCFF817EJA\\\\\n",
       "\t encode\\_chipseq\\_encode4 & ENCFF430YXJ.bed.gz & chipseq\\_IRF2\\_ENCFF430YXJ  \\\\\n",
       "\t encode\\_chipseq\\_encode4 & ENCFF881MMD.bed.gz & chipseq\\_ZNF124\\_ENCFF881MMD\\\\\n",
       "\\end{tabular}\n"
      ],
      "text/markdown": [
       "\n",
       "A tibble: 6 × 3\n",
       "\n",
       "| Folder &lt;chr&gt; | FName &lt;chr&gt; | Label &lt;chr&gt; |\n",
       "|---|---|---|\n",
       "| encode_chipseq_encode4 | ENCFF124KCE.bed.gz | chipseq_ZBTB43_ENCFF124KCE |\n",
       "| encode_chipseq_encode4 | ENCFF173QUY.bed.gz | chipseq_E2F5_ENCFF173QUY   |\n",
       "| encode_chipseq_encode4 | ENCFF442RYH.bed.gz | chipseq_ZNF431_ENCFF442RYH |\n",
       "| encode_chipseq_encode4 | ENCFF817EJA.bed.gz | chipseq_ZNF512_ENCFF817EJA |\n",
       "| encode_chipseq_encode4 | ENCFF430YXJ.bed.gz | chipseq_IRF2_ENCFF430YXJ   |\n",
       "| encode_chipseq_encode4 | ENCFF881MMD.bed.gz | chipseq_ZNF124_ENCFF881MMD |\n",
       "\n"
      ],
      "text/plain": [
       "  Folder                 FName              Label                     \n",
       "1 encode_chipseq_encode4 ENCFF124KCE.bed.gz chipseq_ZBTB43_ENCFF124KCE\n",
       "2 encode_chipseq_encode4 ENCFF173QUY.bed.gz chipseq_E2F5_ENCFF173QUY  \n",
       "3 encode_chipseq_encode4 ENCFF442RYH.bed.gz chipseq_ZNF431_ENCFF442RYH\n",
       "4 encode_chipseq_encode4 ENCFF817EJA.bed.gz chipseq_ZNF512_ENCFF817EJA\n",
       "5 encode_chipseq_encode4 ENCFF430YXJ.bed.gz chipseq_IRF2_ENCFF430YXJ  \n",
       "6 encode_chipseq_encode4 ENCFF881MMD.bed.gz chipseq_ZNF124_ENCFF881MMD"
      ]
     },
     "metadata": {},
     "output_type": "display_data"
    }
   ],
   "source": [
    "txt_fdiry = TXT_FDIRY_REGION_LABEL\n",
    "txt_fname = TXT_FNAME_REGION_LABEL_B\n",
    "txt_fpath = file.path(txt_fdiry, txt_fname)\n",
    "\n",
    "dat_region_label_B = read_tsv(txt_fpath, show_col_types = FALSE)\n",
    "head(dat_region_label_B)"
   ]
  },
  {
   "cell_type": "markdown",
   "id": "a4607504-ff21-47f1-b0ed-a249d283557f",
   "metadata": {},
   "source": [
    "**Check colnumn names**"
   ]
  },
  {
   "cell_type": "code",
   "execution_count": 6,
   "id": "b0b8e770-4f6d-42f6-9780-0c4fca60ed5f",
   "metadata": {},
   "outputs": [
    {
     "name": "stdout",
     "output_type": "stream",
     "text": [
      "encode_chipseq_encode4 \n",
      " [1] \"Chrom\"       \"ChromStart\"  \"ChromEnd\"    \"Name\"        \"Score\"      \n",
      " [6] \"Strand\"      \"SignalValue\" \"PValue\"      \"QValue\"      \"Peak\"       \n",
      "\n",
      "encode_chipseq_histone \n",
      " [1] \"Chrom\"       \"ChromStart\"  \"ChromEnd\"    \"Name\"        \"Score\"      \n",
      " [6] \"Strand\"      \"SignalValue\" \"PValue\"      \"QValue\"      \"Peak\"       \n",
      "\n"
     ]
    }
   ],
   "source": [
    "dat = dat_region_label_B\n",
    "vec = unique(dat$Folder)\n",
    "vec_txt_region_folder_B = vec\n",
    "\n",
    "for (txt_region_folder_B in vec_txt_region_folder_B){\n",
    "    ###\n",
    "    txt_fdiry = file.path(FD_RES, \"region\", txt_region_folder_B, \"summary\")\n",
    "    txt_fname = \"description.tsv\"\n",
    "    txt_fpath = file.path(txt_fdiry, txt_fname)\n",
    "    dat_cname = read_tsv(txt_fpath, show_col_types = FALSE)\n",
    "    vec_txt_cname_B = dat_cname$Name\n",
    "\n",
    "    ###\n",
    "    cat(txt_region_folder_B, \"\\n\")\n",
    "    print(vec_txt_cname_B)\n",
    "    cat(\"\\n\")\n",
    "}"
   ]
  },
  {
   "cell_type": "markdown",
   "id": "ab55eb61-3543-4ab2-bbf8-c3fc7a957a25",
   "metadata": {},
   "source": [
    "## Main"
   ]
  },
  {
   "cell_type": "code",
   "execution_count": 7,
   "id": "4757dba1-1cf4-4bf3-a7db-a9ade60db7c7",
   "metadata": {},
   "outputs": [
    {
     "data": {
      "text/html": [
       "<dl>\n",
       "\t<dt>$`1`</dt>\n",
       "\t\t<dd><dl>\n",
       "\t<dt>$Folder</dt>\n",
       "\t\t<dd>'fcc_astarr_macs'</dd>\n",
       "\t<dt>$FName</dt>\n",
       "\t\t<dd>'K562.hg38.ASTARR.macs.KS91.input.rep_all.max_overlaps.q5.bed.gz'</dd>\n",
       "\t<dt>$Label</dt>\n",
       "\t\t<dd>'fcc_astarr_macs_input_overlap'</dd>\n",
       "</dl>\n",
       "</dd>\n",
       "\t<dt>$`2`</dt>\n",
       "\t\t<dd><dl>\n",
       "\t<dt>$Folder</dt>\n",
       "\t\t<dd>'fcc_astarr_macs'</dd>\n",
       "\t<dt>$FName</dt>\n",
       "\t\t<dd>'K562.hg38.ASTARR.macs.KS91.input.rep_all.union.q5.bed.gz'</dd>\n",
       "\t<dt>$Label</dt>\n",
       "\t\t<dd>'fcc_astarr_macs_input_union'</dd>\n",
       "</dl>\n",
       "</dd>\n",
       "</dl>\n"
      ],
      "text/latex": [
       "\\begin{description}\n",
       "\\item[\\$`1`] \\begin{description}\n",
       "\\item[\\$Folder] 'fcc\\_astarr\\_macs'\n",
       "\\item[\\$FName] 'K562.hg38.ASTARR.macs.KS91.input.rep\\_all.max\\_overlaps.q5.bed.gz'\n",
       "\\item[\\$Label] 'fcc\\_astarr\\_macs\\_input\\_overlap'\n",
       "\\end{description}\n",
       "\n",
       "\\item[\\$`2`] \\begin{description}\n",
       "\\item[\\$Folder] 'fcc\\_astarr\\_macs'\n",
       "\\item[\\$FName] 'K562.hg38.ASTARR.macs.KS91.input.rep\\_all.union.q5.bed.gz'\n",
       "\\item[\\$Label] 'fcc\\_astarr\\_macs\\_input\\_union'\n",
       "\\end{description}\n",
       "\n",
       "\\end{description}\n"
      ],
      "text/markdown": [
       "$`1`\n",
       ":   $Folder\n",
       ":   'fcc_astarr_macs'\n",
       "$FName\n",
       ":   'K562.hg38.ASTARR.macs.KS91.input.rep_all.max_overlaps.q5.bed.gz'\n",
       "$Label\n",
       ":   'fcc_astarr_macs_input_overlap'\n",
       "\n",
       "\n",
       "\n",
       "$`2`\n",
       ":   $Folder\n",
       ":   'fcc_astarr_macs'\n",
       "$FName\n",
       ":   'K562.hg38.ASTARR.macs.KS91.input.rep_all.union.q5.bed.gz'\n",
       "$Label\n",
       ":   'fcc_astarr_macs_input_union'\n",
       "\n",
       "\n",
       "\n",
       "\n",
       "\n"
      ],
      "text/plain": [
       "$`1`\n",
       "$`1`$Folder\n",
       "[1] \"fcc_astarr_macs\"\n",
       "\n",
       "$`1`$FName\n",
       "[1] \"K562.hg38.ASTARR.macs.KS91.input.rep_all.max_overlaps.q5.bed.gz\"\n",
       "\n",
       "$`1`$Label\n",
       "[1] \"fcc_astarr_macs_input_overlap\"\n",
       "\n",
       "\n",
       "$`2`\n",
       "$`2`$Folder\n",
       "[1] \"fcc_astarr_macs\"\n",
       "\n",
       "$`2`$FName\n",
       "[1] \"K562.hg38.ASTARR.macs.KS91.input.rep_all.union.q5.bed.gz\"\n",
       "\n",
       "$`2`$Label\n",
       "[1] \"fcc_astarr_macs_input_union\"\n",
       "\n"
      ]
     },
     "metadata": {},
     "output_type": "display_data"
    }
   ],
   "source": [
    "dat = dat_region_label_A\n",
    "lst = split(dat, 1:nrow(dat))\n",
    "lst = lapply(lst, as.list)\n",
    "lst_region_label_A = lst\n",
    "lst"
   ]
  },
  {
   "cell_type": "code",
   "execution_count": 8,
   "id": "2189ac20-90a0-422f-8265-620a2ae8afed",
   "metadata": {},
   "outputs": [
    {
     "data": {
      "text/html": [
       "<style>\n",
       ".list-inline {list-style: none; margin:0; padding: 0}\n",
       ".list-inline>li {display: inline-block}\n",
       ".list-inline>li:not(:last-child)::after {content: \"\\00b7\"; padding: 0 .5ex}\n",
       "</style>\n",
       "<ol class=list-inline><li>'encode_chipseq_encode4'</li><li>'encode_chipseq_histone'</li></ol>\n"
      ],
      "text/latex": [
       "\\begin{enumerate*}\n",
       "\\item 'encode\\_chipseq\\_encode4'\n",
       "\\item 'encode\\_chipseq\\_histone'\n",
       "\\end{enumerate*}\n"
      ],
      "text/markdown": [
       "1. 'encode_chipseq_encode4'\n",
       "2. 'encode_chipseq_histone'\n",
       "\n",
       "\n"
      ],
      "text/plain": [
       "[1] \"encode_chipseq_encode4\" \"encode_chipseq_histone\""
      ]
     },
     "metadata": {},
     "output_type": "display_data"
    }
   ],
   "source": [
    "dat = dat_region_label_B\n",
    "vec = unique(dat$Folder)\n",
    "vec_txt_region_folder_B = vec\n",
    "vec"
   ]
  },
  {
   "cell_type": "code",
   "execution_count": 11,
   "id": "bad6c38f-675c-4884-92d5-afda9599ae1c",
   "metadata": {},
   "outputs": [
    {
     "name": "stdout",
     "output_type": "stream",
     "text": [
      "===========================================\n",
      "Read annotation... \n",
      "Region A: fcc_astarr_macs | fcc_astarr_macs_input_overlap \n",
      "Region B: encode_chipseq_encode4 \n",
      "FDiry:    /mount/repo/Proj_ENCODE_FCC/results/region_annotation/fcc_astarr_macs_input_overlap/encode_chipseq_encode4 \n",
      "FName:    \n",
      " [1] \"fcc_astarr_macs_input_overlap.chipseq_AFF4_ENCFF142MJD.bed.gz\"  \n",
      " [2] \"fcc_astarr_macs_input_overlap.chipseq_ARID3B_ENCFF270TSN.bed.gz\"\n",
      " [3] \"fcc_astarr_macs_input_overlap.chipseq_ARID4B_ENCFF086FAZ.bed.gz\"\n",
      " [4] \"fcc_astarr_macs_input_overlap.chipseq_ARID4B_ENCFF528IDR.bed.gz\"\n",
      " [5] \"fcc_astarr_macs_input_overlap.chipseq_ATF1_ENCFF793HSJ.bed.gz\"  \n",
      " [6] \"fcc_astarr_macs_input_overlap.chipseq_ATF2_ENCFF121HYT.bed.gz\"  \n",
      " [7] \"fcc_astarr_macs_input_overlap.chipseq_ATF3_ENCFF246USC.bed.gz\"  \n",
      " [8] \"fcc_astarr_macs_input_overlap.chipseq_ATF4_ENCFF250MUC.bed.gz\"  \n",
      " [9] \"fcc_astarr_macs_input_overlap.chipseq_ATF6_ENCFF863ZFH.bed.gz\"  \n",
      "[10] \"fcc_astarr_macs_input_overlap.chipseq_BCL6_ENCFF941EDY.bed.gz\"  \n",
      "#{FName} = 237 \n",
      "\n",
      "Save annotation... \n",
      "FDiry: /mount/repo/Proj_ENCODE_FCC/results/region_annotation/fcc_astarr_macs_input_overlap/summary \n",
      "FName: region.summary.encode_chipseq_encode4.tsv \n",
      "\n"
     ]
    }
   ],
   "source": [
    "### init\n",
    "dat = dat_region_label_A\n",
    "lst = split(dat, 1:nrow(dat))\n",
    "lst = lapply(lst, as.list)\n",
    "lst_region_label_A = lst[1]\n",
    "\n",
    "dat = dat_region_label_B\n",
    "vec = unique(dat$Folder)\n",
    "vec_txt_region_folder_B = c(\"encode_chipseq_encode4\")\n",
    "\n",
    "###\n",
    "for (idx in seq_along(lst_region_label_A)){\n",
    "    ###\n",
    "    lst = lst_region_label_A[[idx]]\n",
    "    txt_region_folder_A = lst$Folder\n",
    "    txt_region_label_A  = lst$Label\n",
    "\n",
    "    ###\n",
    "    txt_fdiry = file.path(FD_RES, \"region\", txt_region_folder_A, \"summary\")\n",
    "    txt_fname = \"description.tsv\"\n",
    "    txt_fpath = file.path(txt_fdiry, txt_fname)\n",
    "    dat_cname = read_tsv(txt_fpath, show_col_types = FALSE)\n",
    "    vec_txt_cname_A = dat_cname$Name\n",
    "\n",
    "    for (txt_region_folder_B in vec_txt_region_folder_B){\n",
    "        ###\n",
    "        txt_fdiry = file.path(FD_RES, \"region\", txt_region_folder_B, \"summary\")\n",
    "        txt_fname = \"description.tsv\"\n",
    "        txt_fpath = file.path(txt_fdiry, txt_fname)\n",
    "        dat_cname = read_tsv(txt_fpath, show_col_types = FALSE)\n",
    "        vec_txt_cname_B = dat_cname$Name\n",
    "\n",
    "        ###\n",
    "        vec_txt_cname = c(\n",
    "            paste0(vec_txt_cname_A, \"_A\"),\n",
    "            paste0(vec_txt_cname_B, \"_B\"),\n",
    "            \"Overlap\"\n",
    "        )\n",
    "        \n",
    "        ###\n",
    "        txt_fdiry = file.path(\n",
    "            FD_RES, \n",
    "            \"region_annotation\",\n",
    "            txt_region_label_A, \n",
    "            txt_region_folder_B\n",
    "        )\n",
    "        txt_fname = \"*bed.gz\"\n",
    "        txt_fglob = file.path(txt_fdiry, txt_fname)\n",
    "        \n",
    "        vec_txt_fpath = Sys.glob(txt_fglob)\n",
    "        vec_txt_fname = basename(vec_txt_fpath)\n",
    "        vec_txt_fname = vec_txt_fname[-501]\n",
    "        \n",
    "        ### show progress\n",
    "        cat(\"===========================================\\n\")\n",
    "        cat(\"Read annotation...\", \"\\n\")\n",
    "        cat(\"Region A:\", txt_region_folder_A, \"|\", txt_region_label_A, \"\\n\")\n",
    "        cat(\"Region B:\", txt_region_folder_B, \"\\n\")\n",
    "        cat(\"FDiry:   \", txt_fdiry, \"\\n\")\n",
    "        cat(\"FName:   \", \"\\n\")\n",
    "        print(head(vec_txt_fname, 10))\n",
    "        cat(\"#{FName} =\", length(vec_txt_fname), \"\\n\")\n",
    "        cat(\"\\n\")\n",
    "        flush.console()\n",
    "        \n",
    "        ###\n",
    "        lst = lapply(vec_txt_fname, function(txt_fname){\n",
    "            ###\n",
    "            txt_fpath = file.path(txt_fdiry, txt_fname)\n",
    "            \n",
    "            ###\n",
    "            vec = str_split(txt_fname, \"\\\\.\")[[1]]\n",
    "            txt_annot_A = vec[1]\n",
    "            txt_annot_B = vec[2]\n",
    "\n",
    "            ###\n",
    "            vec = str_split(txt_annot_B, \"_\")[[1]]\n",
    "            txt_group_B = \"ChIP-seq; TF\"\n",
    "            txt_label_B = vec[2]\n",
    "            \n",
    "            ###\n",
    "            dat = read_tsv(txt_fpath, col_names = vec_txt_cname, show_col_types = FALSE)\n",
    "            dat = dat %>% \n",
    "                dplyr::mutate(\n",
    "                    Region_A = paste0(Chrom_A, \":\", ChromStart_A, \"-\", ChromEnd_A),\n",
    "                    Region_B = paste0(Chrom_B, \":\", ChromStart_B, \"-\", ChromEnd_B),\n",
    "                    Annotation_A = txt_annot_A,\n",
    "                    Annotation_B = txt_annot_B,\n",
    "                    Group_B      = txt_group_B,\n",
    "                    Label_B      = txt_label_B\n",
    "                )\n",
    "            return(dat)\n",
    "        }) \n",
    "\n",
    "        ###\n",
    "        dat = bind_rows(lst)\n",
    "        dat = dat %>%\n",
    "            dplyr::group_by(\n",
    "                Chrom_A, ChromStart_A, ChromEnd_A, Region_A,\n",
    "                Annotation_A,\n",
    "                Annotation_B,\n",
    "                Group_B, \n",
    "                Label_B\n",
    "            ) %>%\n",
    "            dplyr::summarise(\n",
    "                Region_B = paste(Region_B, collapse=\"|\"),\n",
    "                Count  = n(),\n",
    "                .groups = \"drop\")\n",
    "\n",
    "        ###\n",
    "        txt_fdiry = file.path(\n",
    "            FD_RES, \n",
    "            \"region_annotation\",\n",
    "            txt_region_label_A,\n",
    "            \"summary\"\n",
    "        )\n",
    "        txt_fname = paste(\"region\", \"summary\", txt_region_folder_B, \"tsv\", sep = \".\")\n",
    "        txt_fpath = file.path(txt_fdiry, txt_fname)\n",
    "\n",
    "        dir.create(txt_fdiry, showWarnings = FALSE)\n",
    "        write_tsv(dat, txt_fpath)\n",
    "        \n",
    "        ### show progress\n",
    "        cat(\"Save annotation...\",  \"\\n\")\n",
    "        cat(\"FDiry:\", txt_fdiry, \"\\n\")\n",
    "        cat(\"FName:\", txt_fname, \"\\n\")\n",
    "        cat(\"\\n\")\n",
    "        flush.console()\n",
    "    } ### end loop region B\n",
    "} ### end loop region A"
   ]
  },
  {
   "cell_type": "code",
   "execution_count": 13,
   "id": "29269d86-0e6e-40ca-b0cb-2ba190b06d23",
   "metadata": {},
   "outputs": [
    {
     "data": {
      "text/html": [
       "'/mount/repo/Proj_ENCODE_FCC/results/region_annotation/fcc_astarr_macs_input_overlap/summary/region.summary.encode_chipseq_flagship.tsv'"
      ],
      "text/latex": [
       "'/mount/repo/Proj\\_ENCODE\\_FCC/results/region\\_annotation/fcc\\_astarr\\_macs\\_input\\_overlap/summary/region.summary.encode\\_chipseq\\_flagship.tsv'"
      ],
      "text/markdown": [
       "'/mount/repo/Proj_ENCODE_FCC/results/region_annotation/fcc_astarr_macs_input_overlap/summary/region.summary.encode_chipseq_flagship.tsv'"
      ],
      "text/plain": [
       "[1] \"/mount/repo/Proj_ENCODE_FCC/results/region_annotation/fcc_astarr_macs_input_overlap/summary/region.summary.encode_chipseq_flagship.tsv\""
      ]
     },
     "metadata": {},
     "output_type": "display_data"
    }
   ],
   "source": [
    "txt_fpath"
   ]
  },
  {
   "cell_type": "code",
   "execution_count": 12,
   "id": "9ff2cb9c-96cd-4645-bf69-57d302826277",
   "metadata": {},
   "outputs": [
    {
     "name": "stdout",
     "output_type": "stream",
     "text": [
      "[1] 1135998      10\n"
     ]
    }
   ],
   "source": [
    "print(dim(dat))"
   ]
  },
  {
   "cell_type": "code",
   "execution_count": 13,
   "id": "b08119eb-cf85-4962-9a41-b6360dc0af0a",
   "metadata": {},
   "outputs": [],
   "source": [
    "write_tsv(dat, txt_fpath)"
   ]
  },
  {
   "cell_type": "code",
   "execution_count": null,
   "id": "3a825bed-ec4c-480b-9ade-f6de947195e7",
   "metadata": {},
   "outputs": [],
   "source": []
  },
  {
   "cell_type": "code",
   "execution_count": null,
   "id": "34ceb50b-248d-40d2-a5d6-bcf6c811cf3a",
   "metadata": {},
   "outputs": [],
   "source": []
  },
  {
   "cell_type": "code",
   "execution_count": null,
   "id": "7807b176-8dad-4157-9729-b91e75c3d73b",
   "metadata": {},
   "outputs": [],
   "source": []
  },
  {
   "cell_type": "code",
   "execution_count": 17,
   "id": "f409c78a-5cba-443e-94e4-0bcc3d436ab3",
   "metadata": {},
   "outputs": [
    {
     "data": {
      "text/html": [
       "734"
      ],
      "text/latex": [
       "734"
      ],
      "text/markdown": [
       "734"
      ],
      "text/plain": [
       "[1] 734"
      ]
     },
     "metadata": {},
     "output_type": "display_data"
    }
   ],
   "source": [
    "length(lst)"
   ]
  },
  {
   "cell_type": "code",
   "execution_count": 48,
   "id": "766866f6-13c3-4602-a8e5-e37e78b34994",
   "metadata": {},
   "outputs": [
    {
     "name": "stdout",
     "output_type": "stream",
     "text": [
      "[1] 13591    20\n",
      "[1]  0 20\n"
     ]
    }
   ],
   "source": [
    "print(dim(lst[[1]]))\n",
    "print(dim(lst[[501]]))"
   ]
  },
  {
   "cell_type": "code",
   "execution_count": 51,
   "id": "45b44157-084a-4262-af35-ca27b45d0a58",
   "metadata": {},
   "outputs": [
    {
     "name": "stdout",
     "output_type": "stream",
     "text": [
      "[1] 275\n",
      "\n",
      "[1] 720   2\n",
      "\n",
      "  vec Freq\n",
      "1   0    1\n",
      "2   9    1\n",
      "3  19    2\n",
      "4  23    1\n",
      "5  25    1\n",
      "6  26    1\n",
      "      vec Freq\n",
      "715 41245    1\n",
      "716 41257    1\n",
      "717 41960    1\n",
      "718 43597    1\n",
      "719 44243    1\n",
      "720 49375    1\n"
     ]
    }
   ],
   "source": [
    "tmp = lst\n",
    "vec = lapply(tmp, nrow)\n",
    "vec = unlist(vec)\n",
    "\n",
    "res = sum(vec > 10000)\n",
    "print(res)\n",
    "cat(\"\\n\")\n",
    "\n",
    "res = as.data.frame(table(vec))\n",
    "print(dim(res))\n",
    "cat(\"\\n\")\n",
    "print(head(res))\n",
    "print(tail(res))"
   ]
  },
  {
   "cell_type": "code",
   "execution_count": 52,
   "id": "200d6eea-15b6-4076-9d2b-50fe3ad60ff6",
   "metadata": {},
   "outputs": [
    {
     "name": "stdout",
     "output_type": "stream",
     "text": [
      "[1] 275\n",
      "\n",
      "[1] 719   2\n",
      "\n",
      "  vec Freq\n",
      "1   9    1\n",
      "2  19    2\n",
      "3  23    1\n",
      "4  25    1\n",
      "5  26    1\n",
      "6  27    1\n",
      "      vec Freq\n",
      "714 41245    1\n",
      "715 41257    1\n",
      "716 41960    1\n",
      "717 43597    1\n",
      "718 44243    1\n",
      "719 49375    1\n"
     ]
    }
   ],
   "source": [
    "tmp = lst[-501]\n",
    "vec = lapply(tmp, nrow)\n",
    "vec = unlist(vec)\n",
    "\n",
    "res = sum(vec > 10000)\n",
    "print(res)\n",
    "cat(\"\\n\")\n",
    "\n",
    "res = as.data.frame(table(vec))\n",
    "print(dim(res))\n",
    "cat(\"\\n\")\n",
    "print(head(res))\n",
    "print(tail(res))"
   ]
  },
  {
   "cell_type": "code",
   "execution_count": 46,
   "id": "ea81b3d2-7567-4c3b-b563-2c290c0a10f9",
   "metadata": {},
   "outputs": [
    {
     "name": "stdout",
     "output_type": "stream",
     "text": [
      "[1] 734\n",
      "[1] 733\n"
     ]
    }
   ],
   "source": [
    "print(length(lst))\n",
    "tmp = lst[-501]\n",
    "print(length(tmp))"
   ]
  },
  {
   "cell_type": "code",
   "execution_count": 54,
   "id": "27bf8211-c74a-4c67-ac2a-01aeb940d985",
   "metadata": {},
   "outputs": [
    {
     "data": {
      "text/html": [
       "<table class=\"dataframe\">\n",
       "<caption>A tibble: 6 × 3</caption>\n",
       "<thead>\n",
       "\t<tr><th scope=col>Folder</th><th scope=col>FName</th><th scope=col>Label</th></tr>\n",
       "\t<tr><th scope=col>&lt;chr&gt;</th><th scope=col>&lt;chr&gt;</th><th scope=col>&lt;chr&gt;</th></tr>\n",
       "</thead>\n",
       "<tbody>\n",
       "\t<tr><td>encode_chipseq_flagship</td><td>K562.hg38.ENCSR000AKO.ENCFF769AUF.ChIPseq.CTCF.bed.gz </td><td>chipseq_CTCF_ENCFF769AUF </td></tr>\n",
       "\t<tr><td>encode_chipseq_flagship</td><td>K562.hg38.ENCSR000AQA.ENCFF807FNB.ChIPseq.KDM5B.bed.gz</td><td>chipseq_KDM5B_ENCFF807FNB</td></tr>\n",
       "\t<tr><td>encode_chipseq_flagship</td><td>K562.hg38.ENCSR000AQD.ENCFF408NUX.ChIPseq.CHD1.bed.gz </td><td>chipseq_CHD1_ENCFF408NUX </td></tr>\n",
       "\t<tr><td>encode_chipseq_flagship</td><td>K562.hg38.ENCSR000AQE.ENCFF804RVA.ChIPseq.EZH2.bed.gz </td><td>chipseq_EZH2_ENCFF804RVA </td></tr>\n",
       "\t<tr><td>encode_chipseq_flagship</td><td>K562.hg38.ENCSR000AQF.ENCFF669MJX.ChIPseq.HDAC1.bed.gz</td><td>chipseq_HDAC1_ENCFF669MJX</td></tr>\n",
       "\t<tr><td>encode_chipseq_flagship</td><td>K562.hg38.ENCSR000AQG.ENCFF182MPT.ChIPseq.HDAC2.bed.gz</td><td>chipseq_HDAC2_ENCFF182MPT</td></tr>\n",
       "</tbody>\n",
       "</table>\n"
      ],
      "text/latex": [
       "A tibble: 6 × 3\n",
       "\\begin{tabular}{lll}\n",
       " Folder & FName & Label\\\\\n",
       " <chr> & <chr> & <chr>\\\\\n",
       "\\hline\n",
       "\t encode\\_chipseq\\_flagship & K562.hg38.ENCSR000AKO.ENCFF769AUF.ChIPseq.CTCF.bed.gz  & chipseq\\_CTCF\\_ENCFF769AUF \\\\\n",
       "\t encode\\_chipseq\\_flagship & K562.hg38.ENCSR000AQA.ENCFF807FNB.ChIPseq.KDM5B.bed.gz & chipseq\\_KDM5B\\_ENCFF807FNB\\\\\n",
       "\t encode\\_chipseq\\_flagship & K562.hg38.ENCSR000AQD.ENCFF408NUX.ChIPseq.CHD1.bed.gz  & chipseq\\_CHD1\\_ENCFF408NUX \\\\\n",
       "\t encode\\_chipseq\\_flagship & K562.hg38.ENCSR000AQE.ENCFF804RVA.ChIPseq.EZH2.bed.gz  & chipseq\\_EZH2\\_ENCFF804RVA \\\\\n",
       "\t encode\\_chipseq\\_flagship & K562.hg38.ENCSR000AQF.ENCFF669MJX.ChIPseq.HDAC1.bed.gz & chipseq\\_HDAC1\\_ENCFF669MJX\\\\\n",
       "\t encode\\_chipseq\\_flagship & K562.hg38.ENCSR000AQG.ENCFF182MPT.ChIPseq.HDAC2.bed.gz & chipseq\\_HDAC2\\_ENCFF182MPT\\\\\n",
       "\\end{tabular}\n"
      ],
      "text/markdown": [
       "\n",
       "A tibble: 6 × 3\n",
       "\n",
       "| Folder &lt;chr&gt; | FName &lt;chr&gt; | Label &lt;chr&gt; |\n",
       "|---|---|---|\n",
       "| encode_chipseq_flagship | K562.hg38.ENCSR000AKO.ENCFF769AUF.ChIPseq.CTCF.bed.gz  | chipseq_CTCF_ENCFF769AUF  |\n",
       "| encode_chipseq_flagship | K562.hg38.ENCSR000AQA.ENCFF807FNB.ChIPseq.KDM5B.bed.gz | chipseq_KDM5B_ENCFF807FNB |\n",
       "| encode_chipseq_flagship | K562.hg38.ENCSR000AQD.ENCFF408NUX.ChIPseq.CHD1.bed.gz  | chipseq_CHD1_ENCFF408NUX  |\n",
       "| encode_chipseq_flagship | K562.hg38.ENCSR000AQE.ENCFF804RVA.ChIPseq.EZH2.bed.gz  | chipseq_EZH2_ENCFF804RVA  |\n",
       "| encode_chipseq_flagship | K562.hg38.ENCSR000AQF.ENCFF669MJX.ChIPseq.HDAC1.bed.gz | chipseq_HDAC1_ENCFF669MJX |\n",
       "| encode_chipseq_flagship | K562.hg38.ENCSR000AQG.ENCFF182MPT.ChIPseq.HDAC2.bed.gz | chipseq_HDAC2_ENCFF182MPT |\n",
       "\n"
      ],
      "text/plain": [
       "  Folder                 \n",
       "1 encode_chipseq_flagship\n",
       "2 encode_chipseq_flagship\n",
       "3 encode_chipseq_flagship\n",
       "4 encode_chipseq_flagship\n",
       "5 encode_chipseq_flagship\n",
       "6 encode_chipseq_flagship\n",
       "  FName                                                 \n",
       "1 K562.hg38.ENCSR000AKO.ENCFF769AUF.ChIPseq.CTCF.bed.gz \n",
       "2 K562.hg38.ENCSR000AQA.ENCFF807FNB.ChIPseq.KDM5B.bed.gz\n",
       "3 K562.hg38.ENCSR000AQD.ENCFF408NUX.ChIPseq.CHD1.bed.gz \n",
       "4 K562.hg38.ENCSR000AQE.ENCFF804RVA.ChIPseq.EZH2.bed.gz \n",
       "5 K562.hg38.ENCSR000AQF.ENCFF669MJX.ChIPseq.HDAC1.bed.gz\n",
       "6 K562.hg38.ENCSR000AQG.ENCFF182MPT.ChIPseq.HDAC2.bed.gz\n",
       "  Label                    \n",
       "1 chipseq_CTCF_ENCFF769AUF \n",
       "2 chipseq_KDM5B_ENCFF807FNB\n",
       "3 chipseq_CHD1_ENCFF408NUX \n",
       "4 chipseq_EZH2_ENCFF804RVA \n",
       "5 chipseq_HDAC1_ENCFF669MJX\n",
       "6 chipseq_HDAC2_ENCFF182MPT"
      ]
     },
     "metadata": {},
     "output_type": "display_data"
    }
   ],
   "source": [
    "dat = bind_rows(tmp)\n",
    "head"
   ]
  },
  {
   "cell_type": "code",
   "execution_count": null,
   "id": "29fee912-3859-49a3-968a-aab96c8fd4fd",
   "metadata": {},
   "outputs": [],
   "source": []
  },
  {
   "cell_type": "code",
   "execution_count": 37,
   "id": "1af234e8-dd30-44e3-bbcd-91780c375516",
   "metadata": {},
   "outputs": [
    {
     "data": {
      "text/html": [
       "734"
      ],
      "text/latex": [
       "734"
      ],
      "text/markdown": [
       "734"
      ],
      "text/plain": [
       "[1] 734"
      ]
     },
     "metadata": {},
     "output_type": "display_data"
    }
   ],
   "source": [
    "length(vec)"
   ]
  },
  {
   "cell_type": "code",
   "execution_count": 18,
   "id": "7b921ca9-f89c-46f0-9c87-54dd418c96ab",
   "metadata": {},
   "outputs": [
    {
     "data": {
      "text/html": [
       "<table class=\"dataframe\">\n",
       "<caption>A tibble: 0 × 20</caption>\n",
       "<thead>\n",
       "\t<tr><th scope=col>Chrom_A</th><th scope=col>ChromStart_A</th><th scope=col>ChromEnd_A</th><th scope=col>Chrom_B</th><th scope=col>ChromStart_B</th><th scope=col>ChromEnd_B</th><th scope=col>Name_B</th><th scope=col>Score_B</th><th scope=col>Strand_B</th><th scope=col>SignalValue_B</th><th scope=col>PValue_B</th><th scope=col>QValue_B</th><th scope=col>Peak_B</th><th scope=col>Overlap</th><th scope=col>Region_A</th><th scope=col>Region_B</th><th scope=col>Annotation_A</th><th scope=col>Annotation_B</th><th scope=col>Group_B</th><th scope=col>Label_B</th></tr>\n",
       "\t<tr><th scope=col>&lt;chr&gt;</th><th scope=col>&lt;chr&gt;</th><th scope=col>&lt;chr&gt;</th><th scope=col>&lt;chr&gt;</th><th scope=col>&lt;chr&gt;</th><th scope=col>&lt;chr&gt;</th><th scope=col>&lt;chr&gt;</th><th scope=col>&lt;chr&gt;</th><th scope=col>&lt;chr&gt;</th><th scope=col>&lt;chr&gt;</th><th scope=col>&lt;chr&gt;</th><th scope=col>&lt;chr&gt;</th><th scope=col>&lt;chr&gt;</th><th scope=col>&lt;chr&gt;</th><th scope=col>&lt;chr&gt;</th><th scope=col>&lt;chr&gt;</th><th scope=col>&lt;chr&gt;</th><th scope=col>&lt;chr&gt;</th><th scope=col>&lt;chr&gt;</th><th scope=col>&lt;chr&gt;</th></tr>\n",
       "</thead>\n",
       "<tbody>\n",
       "</tbody>\n",
       "</table>\n"
      ],
      "text/latex": [
       "A tibble: 0 × 20\n",
       "\\begin{tabular}{llllllllllllllllllll}\n",
       " Chrom\\_A & ChromStart\\_A & ChromEnd\\_A & Chrom\\_B & ChromStart\\_B & ChromEnd\\_B & Name\\_B & Score\\_B & Strand\\_B & SignalValue\\_B & PValue\\_B & QValue\\_B & Peak\\_B & Overlap & Region\\_A & Region\\_B & Annotation\\_A & Annotation\\_B & Group\\_B & Label\\_B\\\\\n",
       " <chr> & <chr> & <chr> & <chr> & <chr> & <chr> & <chr> & <chr> & <chr> & <chr> & <chr> & <chr> & <chr> & <chr> & <chr> & <chr> & <chr> & <chr> & <chr> & <chr>\\\\\n",
       "\\hline\n",
       "\\end{tabular}\n"
      ],
      "text/markdown": [
       "\n",
       "A tibble: 0 × 20\n",
       "\n",
       "| Chrom_A &lt;chr&gt; | ChromStart_A &lt;chr&gt; | ChromEnd_A &lt;chr&gt; | Chrom_B &lt;chr&gt; | ChromStart_B &lt;chr&gt; | ChromEnd_B &lt;chr&gt; | Name_B &lt;chr&gt; | Score_B &lt;chr&gt; | Strand_B &lt;chr&gt; | SignalValue_B &lt;chr&gt; | PValue_B &lt;chr&gt; | QValue_B &lt;chr&gt; | Peak_B &lt;chr&gt; | Overlap &lt;chr&gt; | Region_A &lt;chr&gt; | Region_B &lt;chr&gt; | Annotation_A &lt;chr&gt; | Annotation_B &lt;chr&gt; | Group_B &lt;chr&gt; | Label_B &lt;chr&gt; |\n",
       "|---|---|---|---|---|---|---|---|---|---|---|---|---|---|---|---|---|---|---|---|\n",
       "\n"
      ],
      "text/plain": [
       "     Chrom_A ChromStart_A ChromEnd_A Chrom_B ChromStart_B ChromEnd_B Name_B\n",
       "     Score_B Strand_B SignalValue_B PValue_B QValue_B Peak_B Overlap Region_A\n",
       "     Region_B Annotation_A Annotation_B Group_B Label_B"
      ]
     },
     "metadata": {},
     "output_type": "display_data"
    }
   ],
   "source": [
    "head(lst[[501]])"
   ]
  },
  {
   "cell_type": "code",
   "execution_count": 55,
   "id": "6ee409d0-9f4b-4799-84a5-2bc518361fb5",
   "metadata": {},
   "outputs": [],
   "source": [
    "tmp = lst[-501]\n",
    "dat = bind_rows(tmp)\n",
    "    dat = dat %>%\n",
    "        dplyr::group_by(\n",
    "            Chrom_A, ChromStart_A, ChromEnd_A, Region_A,\n",
    "            Annotation_A,\n",
    "            Annotation_B,\n",
    "            Group_B, \n",
    "            Label_B\n",
    "        ) %>%\n",
    "        dplyr::summarise(\n",
    "            Region_B = paste(Region_B, collapse=\"|\"),\n",
    "            Count  = n(),\n",
    "            .groups = \"drop\")"
   ]
  },
  {
   "cell_type": "code",
   "execution_count": 56,
   "id": "bef9b1dc-bbd6-4403-b48b-cd074f3eee9b",
   "metadata": {},
   "outputs": [
    {
     "name": "stdout",
     "output_type": "stream",
     "text": [
      "[1] 5859682      10\n"
     ]
    }
   ],
   "source": [
    "print(dim(dat))"
   ]
  },
  {
   "cell_type": "code",
   "execution_count": 62,
   "id": "5d190415-1ca0-4a1b-96b2-a3b6b333caa1",
   "metadata": {},
   "outputs": [
    {
     "name": "stdout",
     "output_type": "stream",
     "text": [
      "[1] 733   2\n"
     ]
    }
   ],
   "source": [
    "res = as.data.frame(table(dat$Label_B))\n",
    "print(dim(res))"
   ]
  },
  {
   "cell_type": "code",
   "execution_count": 64,
   "id": "78f0473e-c865-4479-b6b5-ee052e46ff19",
   "metadata": {},
   "outputs": [
    {
     "name": "stdout",
     "output_type": "stream",
     "text": [
      "Save annotation... \n",
      "FDiry: /mount/repo/Proj_ENCODE_FCC/results/region_annotation/fcc_astarr_macs_input_overlap/summary \n",
      "FName: region.summary.encode_chipseq_flagship.tsv \n"
     ]
    }
   ],
   "source": [
    "###\n",
    "txt_fdiry = file.path(\n",
    "    FD_RES, \n",
    "    \"region_annotation\",\n",
    "    txt_region_label_A,\n",
    "    \"summary\"\n",
    ")\n",
    "txt_fname = paste(\"region\", \"summary\", txt_region_folder_B, \"tsv\", sep = \".\")\n",
    "txt_fpath = file.path(txt_fdiry, txt_fname)\n",
    "\n",
    "dir.create(txt_fdiry, showWarnings = FALSE)\n",
    "write_tsv(dat, txt_fpath)\n",
    "\n",
    "### show progress\n",
    "cat(\"Save annotation...\",  \"\\n\")\n",
    "cat(\"FDiry:\", txt_fdiry, \"\\n\")\n",
    "cat(\"FName:\", txt_fname, \"\\n\")"
   ]
  },
  {
   "cell_type": "code",
   "execution_count": null,
   "id": "6db544b2-0665-49a0-9b23-7ceacad2b737",
   "metadata": {},
   "outputs": [],
   "source": []
  },
  {
   "cell_type": "code",
   "execution_count": 22,
   "id": "f228468d-7af9-4389-9739-82c887793fbd",
   "metadata": {},
   "outputs": [
    {
     "data": {
      "text/html": [
       "21"
      ],
      "text/latex": [
       "21"
      ],
      "text/markdown": [
       "21"
      ],
      "text/plain": [
       "[1] 21"
      ]
     },
     "metadata": {},
     "output_type": "display_data"
    }
   ],
   "source": [
    "length(lst)"
   ]
  },
  {
   "cell_type": "code",
   "execution_count": 23,
   "id": "e4fc76ca-082e-4a97-95c3-ffc9228f9a00",
   "metadata": {},
   "outputs": [
    {
     "data": {
      "text/html": [
       "<table class=\"dataframe\">\n",
       "<caption>A tibble: 6 × 10</caption>\n",
       "<thead>\n",
       "\t<tr><th scope=col>Chrom_A</th><th scope=col>ChromStart_A</th><th scope=col>ChromEnd_A</th><th scope=col>Region_A</th><th scope=col>Annotation_A</th><th scope=col>Annotation_B</th><th scope=col>Group_B</th><th scope=col>Label_B</th><th scope=col>Region_B</th><th scope=col>Count</th></tr>\n",
       "\t<tr><th scope=col>&lt;chr&gt;</th><th scope=col>&lt;dbl&gt;</th><th scope=col>&lt;dbl&gt;</th><th scope=col>&lt;chr&gt;</th><th scope=col>&lt;chr&gt;</th><th scope=col>&lt;chr&gt;</th><th scope=col>&lt;chr&gt;</th><th scope=col>&lt;chr&gt;</th><th scope=col>&lt;chr&gt;</th><th scope=col>&lt;int&gt;</th></tr>\n",
       "</thead>\n",
       "<tbody>\n",
       "\t<tr><td>chr1</td><td> 16025</td><td> 16338</td><td>chr1:16025-16338  </td><td>fcc_astarr_macs_input_overlap</td><td>encode_chipseq_CTCF_ENCFF660GHM  </td><td>ChIP-seq</td><td>CTCF  </td><td>chr1:16127-16367  </td><td>1</td></tr>\n",
       "\t<tr><td>chr1</td><td> 17288</td><td> 17689</td><td>chr1:17288-17689  </td><td>fcc_astarr_macs_input_overlap</td><td>encode_chipseq_POLR2A_ENCFF355MNE</td><td>ChIP-seq</td><td>POLR2A</td><td>chr1:17333-17518  </td><td>1</td></tr>\n",
       "\t<tr><td>chr1</td><td>115429</td><td>115969</td><td>chr1:115429-115969</td><td>fcc_astarr_macs_input_overlap</td><td>encode_chipseq_EP300_ENCFF702XPO </td><td>ChIP-seq</td><td>EP300 </td><td>chr1:115579-115895</td><td>1</td></tr>\n",
       "\t<tr><td>chr1</td><td>115429</td><td>115969</td><td>chr1:115429-115969</td><td>fcc_astarr_macs_input_overlap</td><td>encode_chipseq_NFE2_ENCFF023IFO  </td><td>ChIP-seq</td><td>NFE2  </td><td>chr1:115518-115922</td><td>1</td></tr>\n",
       "\t<tr><td>chr1</td><td>115429</td><td>115969</td><td>chr1:115429-115969</td><td>fcc_astarr_macs_input_overlap</td><td>encode_chipseq_NRF1_ENCFF777PKJ  </td><td>ChIP-seq</td><td>NRF1  </td><td>chr1:115456-116012</td><td>1</td></tr>\n",
       "\t<tr><td>chr1</td><td>115429</td><td>115969</td><td>chr1:115429-115969</td><td>fcc_astarr_macs_input_overlap</td><td>encode_chipseq_POLR2A_ENCFF355MNE</td><td>ChIP-seq</td><td>POLR2A</td><td>chr1:115625-115913</td><td>1</td></tr>\n",
       "</tbody>\n",
       "</table>\n"
      ],
      "text/latex": [
       "A tibble: 6 × 10\n",
       "\\begin{tabular}{llllllllll}\n",
       " Chrom\\_A & ChromStart\\_A & ChromEnd\\_A & Region\\_A & Annotation\\_A & Annotation\\_B & Group\\_B & Label\\_B & Region\\_B & Count\\\\\n",
       " <chr> & <dbl> & <dbl> & <chr> & <chr> & <chr> & <chr> & <chr> & <chr> & <int>\\\\\n",
       "\\hline\n",
       "\t chr1 &  16025 &  16338 & chr1:16025-16338   & fcc\\_astarr\\_macs\\_input\\_overlap & encode\\_chipseq\\_CTCF\\_ENCFF660GHM   & ChIP-seq & CTCF   & chr1:16127-16367   & 1\\\\\n",
       "\t chr1 &  17288 &  17689 & chr1:17288-17689   & fcc\\_astarr\\_macs\\_input\\_overlap & encode\\_chipseq\\_POLR2A\\_ENCFF355MNE & ChIP-seq & POLR2A & chr1:17333-17518   & 1\\\\\n",
       "\t chr1 & 115429 & 115969 & chr1:115429-115969 & fcc\\_astarr\\_macs\\_input\\_overlap & encode\\_chipseq\\_EP300\\_ENCFF702XPO  & ChIP-seq & EP300  & chr1:115579-115895 & 1\\\\\n",
       "\t chr1 & 115429 & 115969 & chr1:115429-115969 & fcc\\_astarr\\_macs\\_input\\_overlap & encode\\_chipseq\\_NFE2\\_ENCFF023IFO   & ChIP-seq & NFE2   & chr1:115518-115922 & 1\\\\\n",
       "\t chr1 & 115429 & 115969 & chr1:115429-115969 & fcc\\_astarr\\_macs\\_input\\_overlap & encode\\_chipseq\\_NRF1\\_ENCFF777PKJ   & ChIP-seq & NRF1   & chr1:115456-116012 & 1\\\\\n",
       "\t chr1 & 115429 & 115969 & chr1:115429-115969 & fcc\\_astarr\\_macs\\_input\\_overlap & encode\\_chipseq\\_POLR2A\\_ENCFF355MNE & ChIP-seq & POLR2A & chr1:115625-115913 & 1\\\\\n",
       "\\end{tabular}\n"
      ],
      "text/markdown": [
       "\n",
       "A tibble: 6 × 10\n",
       "\n",
       "| Chrom_A &lt;chr&gt; | ChromStart_A &lt;dbl&gt; | ChromEnd_A &lt;dbl&gt; | Region_A &lt;chr&gt; | Annotation_A &lt;chr&gt; | Annotation_B &lt;chr&gt; | Group_B &lt;chr&gt; | Label_B &lt;chr&gt; | Region_B &lt;chr&gt; | Count &lt;int&gt; |\n",
       "|---|---|---|---|---|---|---|---|---|---|\n",
       "| chr1 |  16025 |  16338 | chr1:16025-16338   | fcc_astarr_macs_input_overlap | encode_chipseq_CTCF_ENCFF660GHM   | ChIP-seq | CTCF   | chr1:16127-16367   | 1 |\n",
       "| chr1 |  17288 |  17689 | chr1:17288-17689   | fcc_astarr_macs_input_overlap | encode_chipseq_POLR2A_ENCFF355MNE | ChIP-seq | POLR2A | chr1:17333-17518   | 1 |\n",
       "| chr1 | 115429 | 115969 | chr1:115429-115969 | fcc_astarr_macs_input_overlap | encode_chipseq_EP300_ENCFF702XPO  | ChIP-seq | EP300  | chr1:115579-115895 | 1 |\n",
       "| chr1 | 115429 | 115969 | chr1:115429-115969 | fcc_astarr_macs_input_overlap | encode_chipseq_NFE2_ENCFF023IFO   | ChIP-seq | NFE2   | chr1:115518-115922 | 1 |\n",
       "| chr1 | 115429 | 115969 | chr1:115429-115969 | fcc_astarr_macs_input_overlap | encode_chipseq_NRF1_ENCFF777PKJ   | ChIP-seq | NRF1   | chr1:115456-116012 | 1 |\n",
       "| chr1 | 115429 | 115969 | chr1:115429-115969 | fcc_astarr_macs_input_overlap | encode_chipseq_POLR2A_ENCFF355MNE | ChIP-seq | POLR2A | chr1:115625-115913 | 1 |\n",
       "\n"
      ],
      "text/plain": [
       "  Chrom_A ChromStart_A ChromEnd_A Region_A          \n",
       "1 chr1     16025        16338     chr1:16025-16338  \n",
       "2 chr1     17288        17689     chr1:17288-17689  \n",
       "3 chr1    115429       115969     chr1:115429-115969\n",
       "4 chr1    115429       115969     chr1:115429-115969\n",
       "5 chr1    115429       115969     chr1:115429-115969\n",
       "6 chr1    115429       115969     chr1:115429-115969\n",
       "  Annotation_A                  Annotation_B                      Group_B \n",
       "1 fcc_astarr_macs_input_overlap encode_chipseq_CTCF_ENCFF660GHM   ChIP-seq\n",
       "2 fcc_astarr_macs_input_overlap encode_chipseq_POLR2A_ENCFF355MNE ChIP-seq\n",
       "3 fcc_astarr_macs_input_overlap encode_chipseq_EP300_ENCFF702XPO  ChIP-seq\n",
       "4 fcc_astarr_macs_input_overlap encode_chipseq_NFE2_ENCFF023IFO   ChIP-seq\n",
       "5 fcc_astarr_macs_input_overlap encode_chipseq_NRF1_ENCFF777PKJ   ChIP-seq\n",
       "6 fcc_astarr_macs_input_overlap encode_chipseq_POLR2A_ENCFF355MNE ChIP-seq\n",
       "  Label_B Region_B           Count\n",
       "1 CTCF    chr1:16127-16367   1    \n",
       "2 POLR2A  chr1:17333-17518   1    \n",
       "3 EP300   chr1:115579-115895 1    \n",
       "4 NFE2    chr1:115518-115922 1    \n",
       "5 NRF1    chr1:115456-116012 1    \n",
       "6 POLR2A  chr1:115625-115913 1    "
      ]
     },
     "metadata": {},
     "output_type": "display_data"
    }
   ],
   "source": [
    "head(dat)"
   ]
  },
  {
   "cell_type": "code",
   "execution_count": 24,
   "id": "83bb038e-bda5-48fd-bf03-079d0210b234",
   "metadata": {},
   "outputs": [
    {
     "data": {
      "text/plain": [
       "\n",
       "    encode_chipseq_ATF1_ENCFF627RSK     encode_chipseq_CTCF_ENCFF660GHM \n",
       "                              25057                               35092 \n",
       "    encode_chipseq_ELK1_ENCFF715WGN    encode_chipseq_EP300_ENCFF702XPO \n",
       "                               3170                               22338 \n",
       "   encode_chipseq_GATA1_ENCFF657CTC  encode_chipseq_H3K27ac_ENCFF544LXB \n",
       "                              11599                               35908 \n",
       "encode_chipseq_H3K27me3_ENCFF323WOT  encode_chipseq_H3K4me1_ENCFF135ZLM \n",
       "                              13762                               47064 \n",
       " encode_chipseq_H3K4me2_ENCFF749KLQ  encode_chipseq_H3K4me3_ENCFF885FQN \n",
       "                              44809                               19708 \n",
       "     encode_chipseq_JUN_ENCFF190CGV    encode_chipseq_KLF10_ENCFF142ZTD \n",
       "                              16025                                 722 \n",
       "   encode_chipseq_KLF16_ENCFF488OTN     encode_chipseq_NFE2_ENCFF023IFO \n",
       "                              15398                               14559 \n",
       "    encode_chipseq_NRF1_ENCFF777PKJ   encode_chipseq_POLR2A_ENCFF355MNE \n",
       "                              22286                               18045 \n",
       "    encode_chipseq_REST_ENCFF707MDI      encode_chipseq_SP1_ENCFF553GPK \n",
       "                              14037                                9082 \n",
       "    encode_chipseq_TAL1_ENCFF852ZRK      encode_chipseq_YY1_ENCFF398UQZ \n",
       "                              21912                               20631 \n",
       "    encode_chipseq_ZEB2_ENCFF242AOL \n",
       "                              17310 "
      ]
     },
     "metadata": {},
     "output_type": "display_data"
    }
   ],
   "source": [
    "table(dat$Annotation_B)"
   ]
  },
  {
   "cell_type": "code",
   "execution_count": 25,
   "id": "7653c9b7-c957-4177-bf62-eb072546325b",
   "metadata": {},
   "outputs": [
    {
     "data": {
      "text/plain": [
       "\n",
       "ChIP-seq \n",
       "  428514 "
      ]
     },
     "metadata": {},
     "output_type": "display_data"
    }
   ],
   "source": [
    "table(dat$Group_B)"
   ]
  },
  {
   "cell_type": "code",
   "execution_count": 26,
   "id": "4d044b62-3edf-4443-83f4-85c8bcde318a",
   "metadata": {},
   "outputs": [
    {
     "data": {
      "text/plain": [
       "\n",
       "    ATF1     CTCF     ELK1    EP300    GATA1  H3K27ac H3K27me3  H3K4me1 \n",
       "   25057    35092     3170    22338    11599    35908    13762    47064 \n",
       " H3K4me2  H3K4me3      JUN    KLF10    KLF16     NFE2     NRF1   POLR2A \n",
       "   44809    19708    16025      722    15398    14559    22286    18045 \n",
       "    REST      SP1     TAL1      YY1     ZEB2 \n",
       "   14037     9082    21912    20631    17310 "
      ]
     },
     "metadata": {},
     "output_type": "display_data"
    }
   ],
   "source": [
    "table(dat$Label_B)"
   ]
  },
  {
   "cell_type": "code",
   "execution_count": null,
   "id": "cc8ae94e-f6b9-46a7-aaf3-36196e172658",
   "metadata": {},
   "outputs": [],
   "source": []
  },
  {
   "cell_type": "code",
   "execution_count": null,
   "id": "282502ee-7e9f-4a3f-a5fe-1adf651c2fee",
   "metadata": {},
   "outputs": [],
   "source": []
  },
  {
   "cell_type": "code",
   "execution_count": null,
   "id": "ec517d41-37be-4ce4-ae5c-ed40ec563549",
   "metadata": {},
   "outputs": [],
   "source": []
  },
  {
   "cell_type": "raw",
   "id": "8d92fcb8-d236-4de6-bf96-1f9e64cb47ce",
   "metadata": {},
   "source": [
    "---\n",
    "title: Region annotation 022 (ASTARR MACS peaks)\n",
    "subtitle: Summarize annotations (ChIP-seq; subset)\n",
    "format:\n",
    "    html:\n",
    "        code-fold:  true\n",
    "        code-tools: true\n",
    "---"
   ]
  },
  {
   "cell_type": "markdown",
   "id": "8203b821-81f2-4284-86b7-8b0bba6e95a8",
   "metadata": {},
   "source": [
    "**Set environment**"
   ]
  },
  {
   "cell_type": "code",
   "execution_count": 4,
   "id": "c000def5-a34f-4112-b7ad-f61b6661b149",
   "metadata": {
    "tags": []
   },
   "outputs": [
    {
     "name": "stdout",
     "output_type": "stream",
     "text": [
      "You are working on        Singularity \n",
      "BASE DIRECTORY (FD_BASE): /mount \n",
      "REPO DIRECTORY (FD_REPO): /mount/repo \n",
      "WORK DIRECTORY (FD_WORK): /mount/work \n",
      "DATA DIRECTORY (FD_DATA): /mount/data \n",
      "\n",
      "You are working with      ENCODE FCC \n",
      "PATH OF PROJECT (FD_PRJ): /mount/repo/Proj_ENCODE_FCC \n",
      "PROJECT RESULTS (FD_RES): /mount/repo/Proj_ENCODE_FCC/results \n",
      "PROJECT SCRIPTS (FD_EXE): /mount/repo/Proj_ENCODE_FCC/scripts \n",
      "PROJECT DATA    (FD_DAT): /mount/repo/Proj_ENCODE_FCC/data \n",
      "PROJECT NOTE    (FD_NBK): /mount/repo/Proj_ENCODE_FCC/notebooks \n",
      "PROJECT DOCS    (FD_DOC): /mount/repo/Proj_ENCODE_FCC/docs \n",
      "PROJECT LOG     (FD_LOG): /mount/repo/Proj_ENCODE_FCC/log \n",
      "PROJECT APP     (FD_APP): /mount/repo/Proj_ENCODE_FCC/app \n",
      "PROJECT REF     (FD_REF): /mount/repo/Proj_ENCODE_FCC/references \n",
      "\n"
     ]
    }
   ],
   "source": [
    "suppressMessages(suppressWarnings(source(\"../run_config_project_sing.R\")))\n",
    "show_env()"
   ]
  },
  {
   "cell_type": "markdown",
   "id": "82709568-e196-4c31-8b30-9053679091af",
   "metadata": {},
   "source": [
    "## Import data"
   ]
  },
  {
   "cell_type": "code",
   "execution_count": 13,
   "id": "c5874d68-77d3-44da-b506-a42311a84378",
   "metadata": {},
   "outputs": [],
   "source": [
    "txt_region_folder_A = \"fcc_astarr_macs\"\n",
    "txt_region_folder_B = \"encode_chipseq_subset\""
   ]
  },
  {
   "cell_type": "code",
   "execution_count": null,
   "id": "2e4a72f5-8e0d-4189-a2f7-cb3e46fd4efe",
   "metadata": {},
   "outputs": [],
   "source": []
  },
  {
   "cell_type": "code",
   "execution_count": 14,
   "id": "a2000c0d-63d4-441d-9c06-f7a2197697f8",
   "metadata": {},
   "outputs": [
    {
     "data": {
      "text/html": [
       "<style>\n",
       ".list-inline {list-style: none; margin:0; padding: 0}\n",
       ".list-inline>li {display: inline-block}\n",
       ".list-inline>li:not(:last-child)::after {content: \"\\00b7\"; padding: 0 .5ex}\n",
       "</style>\n",
       "<ol class=list-inline><li>'Chrom'</li><li>'ChromStart'</li><li>'ChromEnd'</li></ol>\n"
      ],
      "text/latex": [
       "\\begin{enumerate*}\n",
       "\\item 'Chrom'\n",
       "\\item 'ChromStart'\n",
       "\\item 'ChromEnd'\n",
       "\\end{enumerate*}\n"
      ],
      "text/markdown": [
       "1. 'Chrom'\n",
       "2. 'ChromStart'\n",
       "3. 'ChromEnd'\n",
       "\n",
       "\n"
      ],
      "text/plain": [
       "[1] \"Chrom\"      \"ChromStart\" \"ChromEnd\"  "
      ]
     },
     "metadata": {},
     "output_type": "display_data"
    }
   ],
   "source": [
    "txt_fdiry = file.path(FD_RES, \"region\", txt_region_folder_A, \"summary\")\n",
    "txt_fname = \"description.tsv\"\n",
    "txt_fpath = file.path(txt_fdiry, txt_fname)\n",
    "\n",
    "dat_cname = read_tsv(txt_fpath, show_col_types = FALSE)\n",
    "vec_txt_cname_A = dat_cname$Name\n",
    "vec_txt_cname_A"
   ]
  },
  {
   "cell_type": "code",
   "execution_count": 15,
   "id": "5242191c-7d04-494c-8673-25f3170f53ce",
   "metadata": {},
   "outputs": [
    {
     "data": {
      "text/html": [
       "<style>\n",
       ".list-inline {list-style: none; margin:0; padding: 0}\n",
       ".list-inline>li {display: inline-block}\n",
       ".list-inline>li:not(:last-child)::after {content: \"\\00b7\"; padding: 0 .5ex}\n",
       "</style>\n",
       "<ol class=list-inline><li>'Chrom'</li><li>'ChromStart'</li><li>'ChromEnd'</li><li>'Name'</li><li>'Score'</li><li>'Strand'</li><li>'SignalValue'</li><li>'PValue'</li><li>'QValue'</li><li>'Peak'</li></ol>\n"
      ],
      "text/latex": [
       "\\begin{enumerate*}\n",
       "\\item 'Chrom'\n",
       "\\item 'ChromStart'\n",
       "\\item 'ChromEnd'\n",
       "\\item 'Name'\n",
       "\\item 'Score'\n",
       "\\item 'Strand'\n",
       "\\item 'SignalValue'\n",
       "\\item 'PValue'\n",
       "\\item 'QValue'\n",
       "\\item 'Peak'\n",
       "\\end{enumerate*}\n"
      ],
      "text/markdown": [
       "1. 'Chrom'\n",
       "2. 'ChromStart'\n",
       "3. 'ChromEnd'\n",
       "4. 'Name'\n",
       "5. 'Score'\n",
       "6. 'Strand'\n",
       "7. 'SignalValue'\n",
       "8. 'PValue'\n",
       "9. 'QValue'\n",
       "10. 'Peak'\n",
       "\n",
       "\n"
      ],
      "text/plain": [
       " [1] \"Chrom\"       \"ChromStart\"  \"ChromEnd\"    \"Name\"        \"Score\"      \n",
       " [6] \"Strand\"      \"SignalValue\" \"PValue\"      \"QValue\"      \"Peak\"       "
      ]
     },
     "metadata": {},
     "output_type": "display_data"
    }
   ],
   "source": [
    "txt_fdiry = file.path(FD_RES, \"region\", txt_region_folder_B, \"summary\")\n",
    "txt_fname = \"description.tsv\"\n",
    "txt_fpath = file.path(txt_fdiry, txt_fname)\n",
    "\n",
    "dat_cname = read_tsv(txt_fpath, show_col_types = FALSE)\n",
    "vec_txt_cname_B = dat_cname$Name\n",
    "vec_txt_cname_B"
   ]
  },
  {
   "cell_type": "code",
   "execution_count": 16,
   "id": "2f840d12-44be-4843-b359-18a31243909b",
   "metadata": {},
   "outputs": [
    {
     "data": {
      "text/html": [
       "<style>\n",
       ".list-inline {list-style: none; margin:0; padding: 0}\n",
       ".list-inline>li {display: inline-block}\n",
       ".list-inline>li:not(:last-child)::after {content: \"\\00b7\"; padding: 0 .5ex}\n",
       "</style>\n",
       "<ol class=list-inline><li>'Chrom_A'</li><li>'ChromStart_A'</li><li>'ChromEnd_A'</li><li>'Chrom_B'</li><li>'ChromStart_B'</li><li>'ChromEnd_B'</li><li>'Name_B'</li><li>'Score_B'</li><li>'Strand_B'</li><li>'SignalValue_B'</li><li>'PValue_B'</li><li>'QValue_B'</li><li>'Peak_B'</li><li>'Overlap'</li></ol>\n"
      ],
      "text/latex": [
       "\\begin{enumerate*}\n",
       "\\item 'Chrom\\_A'\n",
       "\\item 'ChromStart\\_A'\n",
       "\\item 'ChromEnd\\_A'\n",
       "\\item 'Chrom\\_B'\n",
       "\\item 'ChromStart\\_B'\n",
       "\\item 'ChromEnd\\_B'\n",
       "\\item 'Name\\_B'\n",
       "\\item 'Score\\_B'\n",
       "\\item 'Strand\\_B'\n",
       "\\item 'SignalValue\\_B'\n",
       "\\item 'PValue\\_B'\n",
       "\\item 'QValue\\_B'\n",
       "\\item 'Peak\\_B'\n",
       "\\item 'Overlap'\n",
       "\\end{enumerate*}\n"
      ],
      "text/markdown": [
       "1. 'Chrom_A'\n",
       "2. 'ChromStart_A'\n",
       "3. 'ChromEnd_A'\n",
       "4. 'Chrom_B'\n",
       "5. 'ChromStart_B'\n",
       "6. 'ChromEnd_B'\n",
       "7. 'Name_B'\n",
       "8. 'Score_B'\n",
       "9. 'Strand_B'\n",
       "10. 'SignalValue_B'\n",
       "11. 'PValue_B'\n",
       "12. 'QValue_B'\n",
       "13. 'Peak_B'\n",
       "14. 'Overlap'\n",
       "\n",
       "\n"
      ],
      "text/plain": [
       " [1] \"Chrom_A\"       \"ChromStart_A\"  \"ChromEnd_A\"    \"Chrom_B\"      \n",
       " [5] \"ChromStart_B\"  \"ChromEnd_B\"    \"Name_B\"        \"Score_B\"      \n",
       " [9] \"Strand_B\"      \"SignalValue_B\" \"PValue_B\"      \"QValue_B\"     \n",
       "[13] \"Peak_B\"        \"Overlap\"      "
      ]
     },
     "metadata": {},
     "output_type": "display_data"
    }
   ],
   "source": [
    "vec_txt_cname = c(\n",
    "    paste0(vec_txt_cname_A, \"_A\"),\n",
    "    paste0(vec_txt_cname_B, \"_B\"),\n",
    "    \"Overlap\"\n",
    ")\n",
    "vec_txt_cname"
   ]
  },
  {
   "cell_type": "code",
   "execution_count": 19,
   "id": "c762f73d-115a-473c-a2fc-ea3587c5bed8",
   "metadata": {},
   "outputs": [
    {
     "data": {
      "text/html": [
       "<style>\n",
       ".list-inline {list-style: none; margin:0; padding: 0}\n",
       ".list-inline>li {display: inline-block}\n",
       ".list-inline>li:not(:last-child)::after {content: \"\\00b7\"; padding: 0 .5ex}\n",
       "</style>\n",
       "<ol class=list-inline><li>'fcc_astarr_macs_input_overlap'</li><li>'fcc_astarr_macs_input_union'</li></ol>\n"
      ],
      "text/latex": [
       "\\begin{enumerate*}\n",
       "\\item 'fcc\\_astarr\\_macs\\_input\\_overlap'\n",
       "\\item 'fcc\\_astarr\\_macs\\_input\\_union'\n",
       "\\end{enumerate*}\n"
      ],
      "text/markdown": [
       "1. 'fcc_astarr_macs_input_overlap'\n",
       "2. 'fcc_astarr_macs_input_union'\n",
       "\n",
       "\n"
      ],
      "text/plain": [
       "[1] \"fcc_astarr_macs_input_overlap\" \"fcc_astarr_macs_input_union\"  "
      ]
     },
     "metadata": {},
     "output_type": "display_data"
    }
   ],
   "source": [
    "txt_fdiry = file.path(FD_RES, \"region\",txt_region_folder_A, \"summary\")\n",
    "txt_fname = \"metadata.label.tsv\"\n",
    "txt_fpath = file.path(txt_fdiry, txt_fname)\n",
    "\n",
    "dat_label = read_tsv(txt_fpath, show_col_types = FALSE)\n",
    "vec_txt_region_label_A = dat_label$Label\n",
    "vec_txt_region_label_A"
   ]
  },
  {
   "cell_type": "code",
   "execution_count": 20,
   "id": "55feeed4-5d03-43ab-b333-559a9351deda",
   "metadata": {},
   "outputs": [
    {
     "data": {
      "text/html": [
       "<style>\n",
       ".list-inline {list-style: none; margin:0; padding: 0}\n",
       ".list-inline>li {display: inline-block}\n",
       ".list-inline>li:not(:last-child)::after {content: \"\\00b7\"; padding: 0 .5ex}\n",
       "</style>\n",
       "<ol class=list-inline><li>'encode_chipseq_H3K27ac_ENCFF544LXB'</li><li>'encode_chipseq_H3K27me3_ENCFF323WOT'</li><li>'encode_chipseq_H3K4me1_ENCFF135ZLM'</li><li>'encode_chipseq_H3K4me2_ENCFF749KLQ'</li><li>'encode_chipseq_YY1_ENCFF398UQZ'</li><li>'encode_chipseq_REST_ENCFF707MDI'</li><li>'encode_chipseq_JUN_ENCFF190CGV'</li><li>'encode_chipseq_GATA1_ENCFF657CTC'</li><li>'encode_chipseq_ELK1_ENCFF715WGN'</li><li>'encode_chipseq_EP300_ENCFF702XPO'</li><li>'encode_chipseq_CTCF_ENCFF660GHM'</li><li>'encode_chipseq_TAL1_ENCFF852ZRK'</li><li>'encode_chipseq_ZEB2_ENCFF242AOL'</li><li>'encode_chipseq_ATF1_ENCFF627RSK'</li><li>'encode_chipseq_KLF10_ENCFF142ZTD'</li><li>'encode_chipseq_POLR2A_ENCFF355MNE'</li><li>'encode_chipseq_NFE2_ENCFF023IFO'</li><li>'encode_chipseq_H3K4me3_ENCFF885FQN'</li><li>'encode_chipseq_KLF16_ENCFF488OTN'</li><li>'encode_chipseq_SP1_ENCFF553GPK'</li><li>'encode_chipseq_NRF1_ENCFF777PKJ'</li></ol>\n"
      ],
      "text/latex": [
       "\\begin{enumerate*}\n",
       "\\item 'encode\\_chipseq\\_H3K27ac\\_ENCFF544LXB'\n",
       "\\item 'encode\\_chipseq\\_H3K27me3\\_ENCFF323WOT'\n",
       "\\item 'encode\\_chipseq\\_H3K4me1\\_ENCFF135ZLM'\n",
       "\\item 'encode\\_chipseq\\_H3K4me2\\_ENCFF749KLQ'\n",
       "\\item 'encode\\_chipseq\\_YY1\\_ENCFF398UQZ'\n",
       "\\item 'encode\\_chipseq\\_REST\\_ENCFF707MDI'\n",
       "\\item 'encode\\_chipseq\\_JUN\\_ENCFF190CGV'\n",
       "\\item 'encode\\_chipseq\\_GATA1\\_ENCFF657CTC'\n",
       "\\item 'encode\\_chipseq\\_ELK1\\_ENCFF715WGN'\n",
       "\\item 'encode\\_chipseq\\_EP300\\_ENCFF702XPO'\n",
       "\\item 'encode\\_chipseq\\_CTCF\\_ENCFF660GHM'\n",
       "\\item 'encode\\_chipseq\\_TAL1\\_ENCFF852ZRK'\n",
       "\\item 'encode\\_chipseq\\_ZEB2\\_ENCFF242AOL'\n",
       "\\item 'encode\\_chipseq\\_ATF1\\_ENCFF627RSK'\n",
       "\\item 'encode\\_chipseq\\_KLF10\\_ENCFF142ZTD'\n",
       "\\item 'encode\\_chipseq\\_POLR2A\\_ENCFF355MNE'\n",
       "\\item 'encode\\_chipseq\\_NFE2\\_ENCFF023IFO'\n",
       "\\item 'encode\\_chipseq\\_H3K4me3\\_ENCFF885FQN'\n",
       "\\item 'encode\\_chipseq\\_KLF16\\_ENCFF488OTN'\n",
       "\\item 'encode\\_chipseq\\_SP1\\_ENCFF553GPK'\n",
       "\\item 'encode\\_chipseq\\_NRF1\\_ENCFF777PKJ'\n",
       "\\end{enumerate*}\n"
      ],
      "text/markdown": [
       "1. 'encode_chipseq_H3K27ac_ENCFF544LXB'\n",
       "2. 'encode_chipseq_H3K27me3_ENCFF323WOT'\n",
       "3. 'encode_chipseq_H3K4me1_ENCFF135ZLM'\n",
       "4. 'encode_chipseq_H3K4me2_ENCFF749KLQ'\n",
       "5. 'encode_chipseq_YY1_ENCFF398UQZ'\n",
       "6. 'encode_chipseq_REST_ENCFF707MDI'\n",
       "7. 'encode_chipseq_JUN_ENCFF190CGV'\n",
       "8. 'encode_chipseq_GATA1_ENCFF657CTC'\n",
       "9. 'encode_chipseq_ELK1_ENCFF715WGN'\n",
       "10. 'encode_chipseq_EP300_ENCFF702XPO'\n",
       "11. 'encode_chipseq_CTCF_ENCFF660GHM'\n",
       "12. 'encode_chipseq_TAL1_ENCFF852ZRK'\n",
       "13. 'encode_chipseq_ZEB2_ENCFF242AOL'\n",
       "14. 'encode_chipseq_ATF1_ENCFF627RSK'\n",
       "15. 'encode_chipseq_KLF10_ENCFF142ZTD'\n",
       "16. 'encode_chipseq_POLR2A_ENCFF355MNE'\n",
       "17. 'encode_chipseq_NFE2_ENCFF023IFO'\n",
       "18. 'encode_chipseq_H3K4me3_ENCFF885FQN'\n",
       "19. 'encode_chipseq_KLF16_ENCFF488OTN'\n",
       "20. 'encode_chipseq_SP1_ENCFF553GPK'\n",
       "21. 'encode_chipseq_NRF1_ENCFF777PKJ'\n",
       "\n",
       "\n"
      ],
      "text/plain": [
       " [1] \"encode_chipseq_H3K27ac_ENCFF544LXB\"  \"encode_chipseq_H3K27me3_ENCFF323WOT\"\n",
       " [3] \"encode_chipseq_H3K4me1_ENCFF135ZLM\"  \"encode_chipseq_H3K4me2_ENCFF749KLQ\" \n",
       " [5] \"encode_chipseq_YY1_ENCFF398UQZ\"      \"encode_chipseq_REST_ENCFF707MDI\"    \n",
       " [7] \"encode_chipseq_JUN_ENCFF190CGV\"      \"encode_chipseq_GATA1_ENCFF657CTC\"   \n",
       " [9] \"encode_chipseq_ELK1_ENCFF715WGN\"     \"encode_chipseq_EP300_ENCFF702XPO\"   \n",
       "[11] \"encode_chipseq_CTCF_ENCFF660GHM\"     \"encode_chipseq_TAL1_ENCFF852ZRK\"    \n",
       "[13] \"encode_chipseq_ZEB2_ENCFF242AOL\"     \"encode_chipseq_ATF1_ENCFF627RSK\"    \n",
       "[15] \"encode_chipseq_KLF10_ENCFF142ZTD\"    \"encode_chipseq_POLR2A_ENCFF355MNE\"  \n",
       "[17] \"encode_chipseq_NFE2_ENCFF023IFO\"     \"encode_chipseq_H3K4me3_ENCFF885FQN\" \n",
       "[19] \"encode_chipseq_KLF16_ENCFF488OTN\"    \"encode_chipseq_SP1_ENCFF553GPK\"     \n",
       "[21] \"encode_chipseq_NRF1_ENCFF777PKJ\"    "
      ]
     },
     "metadata": {},
     "output_type": "display_data"
    }
   ],
   "source": [
    "txt_fdiry = file.path(FD_RES, \"region\",txt_region_folder_B, \"summary\")\n",
    "txt_fname = \"metadata.label.tsv\"\n",
    "txt_fpath = file.path(txt_fdiry, txt_fname)\n",
    "\n",
    "dat_label = read_tsv(txt_fpath, show_col_types = FALSE)\n",
    "vec_txt_region_label_B = dat_label$Label\n",
    "vec_txt_region_label_B"
   ]
  },
  {
   "cell_type": "code",
   "execution_count": null,
   "id": "767bb305-d1e8-47c5-8d87-d035a8929e3e",
   "metadata": {},
   "outputs": [],
   "source": []
  },
  {
   "cell_type": "code",
   "execution_count": 25,
   "id": "6c862bf7-45fb-419d-ac60-1a22c93f6a1a",
   "metadata": {},
   "outputs": [
    {
     "name": "stdout",
     "output_type": "stream",
     "text": [
      "[1] \"fcc_astarr_macs_input_overlap\"\n",
      " [1] \"fcc_astarr_macs_input_overlap.encode_chipseq_ATF1_ENCFF627RSK.bed.gz\"    \n",
      " [2] \"fcc_astarr_macs_input_overlap.encode_chipseq_CTCF_ENCFF660GHM.bed.gz\"    \n",
      " [3] \"fcc_astarr_macs_input_overlap.encode_chipseq_ELK1_ENCFF715WGN.bed.gz\"    \n",
      " [4] \"fcc_astarr_macs_input_overlap.encode_chipseq_EP300_ENCFF702XPO.bed.gz\"   \n",
      " [5] \"fcc_astarr_macs_input_overlap.encode_chipseq_GATA1_ENCFF657CTC.bed.gz\"   \n",
      " [6] \"fcc_astarr_macs_input_overlap.encode_chipseq_H3K27ac_ENCFF544LXB.bed.gz\" \n",
      " [7] \"fcc_astarr_macs_input_overlap.encode_chipseq_H3K27me3_ENCFF323WOT.bed.gz\"\n",
      " [8] \"fcc_astarr_macs_input_overlap.encode_chipseq_H3K4me1_ENCFF135ZLM.bed.gz\" \n",
      " [9] \"fcc_astarr_macs_input_overlap.encode_chipseq_H3K4me2_ENCFF749KLQ.bed.gz\" \n",
      "[10] \"fcc_astarr_macs_input_overlap.encode_chipseq_H3K4me3_ENCFF885FQN.bed.gz\" \n",
      "[11] \"fcc_astarr_macs_input_overlap.encode_chipseq_JUN_ENCFF190CGV.bed.gz\"     \n",
      "[12] \"fcc_astarr_macs_input_overlap.encode_chipseq_KLF10_ENCFF142ZTD.bed.gz\"   \n",
      "[13] \"fcc_astarr_macs_input_overlap.encode_chipseq_KLF16_ENCFF488OTN.bed.gz\"   \n",
      "[14] \"fcc_astarr_macs_input_overlap.encode_chipseq_NFE2_ENCFF023IFO.bed.gz\"    \n",
      "[15] \"fcc_astarr_macs_input_overlap.encode_chipseq_NRF1_ENCFF777PKJ.bed.gz\"    \n",
      "[16] \"fcc_astarr_macs_input_overlap.encode_chipseq_POLR2A_ENCFF355MNE.bed.gz\"  \n",
      "[17] \"fcc_astarr_macs_input_overlap.encode_chipseq_REST_ENCFF707MDI.bed.gz\"    \n",
      "[18] \"fcc_astarr_macs_input_overlap.encode_chipseq_SP1_ENCFF553GPK.bed.gz\"     \n",
      "[19] \"fcc_astarr_macs_input_overlap.encode_chipseq_TAL1_ENCFF852ZRK.bed.gz\"    \n",
      "[20] \"fcc_astarr_macs_input_overlap.encode_chipseq_YY1_ENCFF398UQZ.bed.gz\"     \n",
      "[21] \"fcc_astarr_macs_input_overlap.encode_chipseq_ZEB2_ENCFF242AOL.bed.gz\"    \n",
      "\n"
     ]
    }
   ],
   "source": [
    "txt_region_label_A = vec_txt_region_label_A[1]\n",
    "###\n",
    "txt_fdiry = file.path(\n",
    "    FD_RES, \n",
    "    \"region_annotation\",\n",
    "    txt_region_label_A, \n",
    "    txt_region_folder_B\n",
    ")\n",
    "txt_fname = \"*bed.gz\"\n",
    "txt_fglob = file.path(txt_fdiry, txt_fname)\n",
    "\n",
    "vec_txt_fpath = Sys.glob(txt_fglob)\n",
    "vec_txt_fname = basename(vec_txt_fpath)\n",
    "print(txt_region_label_A)\n",
    "print(vec_txt_fname)\n",
    "cat(\"\\n\")"
   ]
  },
  {
   "cell_type": "code",
   "execution_count": 26,
   "id": "e5b4d0f0-d269-4c01-bfad-7af5ee920dcf",
   "metadata": {},
   "outputs": [],
   "source": [
    "lst = lapply(vec_txt_fname, function(txt_fname){\n",
    "    ###\n",
    "    txt_fpath = file.path(txt_fdiry, txt_fname)\n",
    "    \n",
    "    ###\n",
    "    lst = str_split(txt_fname, \"\\\\.\")\n",
    "    vec = lst[[1]]\n",
    "    txt_annot_A = vec[1]\n",
    "    txt_annot_B = vec[2]\n",
    "\n",
    "    ###\n",
    "    vec = str_split(txt_annot_B, \"_\")[[1]]\n",
    "    txt_group = \"ChIPseq:Subset\"\n",
    "    txt_label = vec[3]\n",
    "\n",
    "    ###\n",
    "    dat = read_tsv(txt_fpath, col_names = vec_txt_cname, show_col_types = FALSE)\n",
    "    dat = dat %>% \n",
    "        dplyr::mutate(\n",
    "            Region_A = paste0(Chrom_A, \":\", ChromStart_A, \"-\", ChromEnd_A),\n",
    "            Region_B = paste0(Chrom_B, \":\", ChromStart_B, \"-\", ChromEnd_B),\n",
    "            Annotation_A = txt_annot_A,\n",
    "            Annotation_B = txt_annot_B,\n",
    "            Group_B      = txt_group,\n",
    "            Label_B      = txt_label\n",
    "        )\n",
    "    return(dat)\n",
    "})"
   ]
  },
  {
   "cell_type": "code",
   "execution_count": 27,
   "id": "d42a3f6a-ace3-43fb-a568-8b79a395efeb",
   "metadata": {},
   "outputs": [
    {
     "data": {
      "text/html": [
       "<table class=\"dataframe\">\n",
       "<caption>A tibble: 6 × 20</caption>\n",
       "<thead>\n",
       "\t<tr><th scope=col>Chrom_A</th><th scope=col>ChromStart_A</th><th scope=col>ChromEnd_A</th><th scope=col>Chrom_B</th><th scope=col>ChromStart_B</th><th scope=col>ChromEnd_B</th><th scope=col>Name_B</th><th scope=col>Score_B</th><th scope=col>Strand_B</th><th scope=col>SignalValue_B</th><th scope=col>PValue_B</th><th scope=col>QValue_B</th><th scope=col>Peak_B</th><th scope=col>Overlap</th><th scope=col>Region_A</th><th scope=col>Region_B</th><th scope=col>Annotation_A</th><th scope=col>Annotation_B</th><th scope=col>Group_B</th><th scope=col>Label_B</th></tr>\n",
       "\t<tr><th scope=col>&lt;chr&gt;</th><th scope=col>&lt;dbl&gt;</th><th scope=col>&lt;dbl&gt;</th><th scope=col>&lt;chr&gt;</th><th scope=col>&lt;dbl&gt;</th><th scope=col>&lt;dbl&gt;</th><th scope=col>&lt;chr&gt;</th><th scope=col>&lt;dbl&gt;</th><th scope=col>&lt;chr&gt;</th><th scope=col>&lt;dbl&gt;</th><th scope=col>&lt;dbl&gt;</th><th scope=col>&lt;dbl&gt;</th><th scope=col>&lt;dbl&gt;</th><th scope=col>&lt;dbl&gt;</th><th scope=col>&lt;chr&gt;</th><th scope=col>&lt;chr&gt;</th><th scope=col>&lt;chr&gt;</th><th scope=col>&lt;chr&gt;</th><th scope=col>&lt;chr&gt;</th><th scope=col>&lt;chr&gt;</th></tr>\n",
       "</thead>\n",
       "<tbody>\n",
       "\t<tr><td>chr1</td><td>778233</td><td>779389</td><td>chr1</td><td>778198</td><td>779139</td><td>.</td><td>1000</td><td>.</td><td>10888.81006</td><td>-1</td><td>4.26233</td><td>505</td><td>906</td><td>chr1:778233-779389</td><td>chr1:778198-779139</td><td>fcc_astarr_macs_input_overlap</td><td>encode_chipseq_ATF1_ENCFF627RSK</td><td>ChIPseq</td><td>ATF1</td></tr>\n",
       "\t<tr><td>chr1</td><td>817031</td><td>817525</td><td>chr1</td><td>817203</td><td>817893</td><td>.</td><td>1000</td><td>.</td><td>  111.09106</td><td>-1</td><td>3.87876</td><td>345</td><td>322</td><td>chr1:817031-817525</td><td>chr1:817203-817893</td><td>fcc_astarr_macs_input_overlap</td><td>encode_chipseq_ATF1_ENCFF627RSK</td><td>ChIPseq</td><td>ATF1</td></tr>\n",
       "\t<tr><td>chr1</td><td>817031</td><td>817525</td><td>chr1</td><td>817206</td><td>817533</td><td>.</td><td>1000</td><td>.</td><td>  258.40874</td><td>-1</td><td>4.26233</td><td>141</td><td>319</td><td>chr1:817031-817525</td><td>chr1:817206-817533</td><td>fcc_astarr_macs_input_overlap</td><td>encode_chipseq_ATF1_ENCFF627RSK</td><td>ChIPseq</td><td>ATF1</td></tr>\n",
       "\t<tr><td>chr1</td><td>826796</td><td>828040</td><td>chr1</td><td>827315</td><td>827649</td><td>.</td><td>1000</td><td>.</td><td>  157.62140</td><td>-1</td><td>3.91482</td><td>176</td><td>334</td><td>chr1:826796-828040</td><td>chr1:827315-827649</td><td>fcc_astarr_macs_input_overlap</td><td>encode_chipseq_ATF1_ENCFF627RSK</td><td>ChIPseq</td><td>ATF1</td></tr>\n",
       "\t<tr><td>chr1</td><td>842516</td><td>843431</td><td>chr1</td><td>842533</td><td>843223</td><td>.</td><td> 754</td><td>.</td><td>   66.73495</td><td>-1</td><td>3.71724</td><td>345</td><td>690</td><td>chr1:842516-843431</td><td>chr1:842533-843223</td><td>fcc_astarr_macs_input_overlap</td><td>encode_chipseq_ATF1_ENCFF627RSK</td><td>ChIPseq</td><td>ATF1</td></tr>\n",
       "\t<tr><td>chr1</td><td>869637</td><td>870233</td><td>chr1</td><td>869692</td><td>870382</td><td>.</td><td> 866</td><td>.</td><td>   67.40187</td><td>-1</td><td>3.78482</td><td>345</td><td>541</td><td>chr1:869637-870233</td><td>chr1:869692-870382</td><td>fcc_astarr_macs_input_overlap</td><td>encode_chipseq_ATF1_ENCFF627RSK</td><td>ChIPseq</td><td>ATF1</td></tr>\n",
       "</tbody>\n",
       "</table>\n"
      ],
      "text/latex": [
       "A tibble: 6 × 20\n",
       "\\begin{tabular}{llllllllllllllllllll}\n",
       " Chrom\\_A & ChromStart\\_A & ChromEnd\\_A & Chrom\\_B & ChromStart\\_B & ChromEnd\\_B & Name\\_B & Score\\_B & Strand\\_B & SignalValue\\_B & PValue\\_B & QValue\\_B & Peak\\_B & Overlap & Region\\_A & Region\\_B & Annotation\\_A & Annotation\\_B & Group\\_B & Label\\_B\\\\\n",
       " <chr> & <dbl> & <dbl> & <chr> & <dbl> & <dbl> & <chr> & <dbl> & <chr> & <dbl> & <dbl> & <dbl> & <dbl> & <dbl> & <chr> & <chr> & <chr> & <chr> & <chr> & <chr>\\\\\n",
       "\\hline\n",
       "\t chr1 & 778233 & 779389 & chr1 & 778198 & 779139 & . & 1000 & . & 10888.81006 & -1 & 4.26233 & 505 & 906 & chr1:778233-779389 & chr1:778198-779139 & fcc\\_astarr\\_macs\\_input\\_overlap & encode\\_chipseq\\_ATF1\\_ENCFF627RSK & ChIPseq & ATF1\\\\\n",
       "\t chr1 & 817031 & 817525 & chr1 & 817203 & 817893 & . & 1000 & . &   111.09106 & -1 & 3.87876 & 345 & 322 & chr1:817031-817525 & chr1:817203-817893 & fcc\\_astarr\\_macs\\_input\\_overlap & encode\\_chipseq\\_ATF1\\_ENCFF627RSK & ChIPseq & ATF1\\\\\n",
       "\t chr1 & 817031 & 817525 & chr1 & 817206 & 817533 & . & 1000 & . &   258.40874 & -1 & 4.26233 & 141 & 319 & chr1:817031-817525 & chr1:817206-817533 & fcc\\_astarr\\_macs\\_input\\_overlap & encode\\_chipseq\\_ATF1\\_ENCFF627RSK & ChIPseq & ATF1\\\\\n",
       "\t chr1 & 826796 & 828040 & chr1 & 827315 & 827649 & . & 1000 & . &   157.62140 & -1 & 3.91482 & 176 & 334 & chr1:826796-828040 & chr1:827315-827649 & fcc\\_astarr\\_macs\\_input\\_overlap & encode\\_chipseq\\_ATF1\\_ENCFF627RSK & ChIPseq & ATF1\\\\\n",
       "\t chr1 & 842516 & 843431 & chr1 & 842533 & 843223 & . &  754 & . &    66.73495 & -1 & 3.71724 & 345 & 690 & chr1:842516-843431 & chr1:842533-843223 & fcc\\_astarr\\_macs\\_input\\_overlap & encode\\_chipseq\\_ATF1\\_ENCFF627RSK & ChIPseq & ATF1\\\\\n",
       "\t chr1 & 869637 & 870233 & chr1 & 869692 & 870382 & . &  866 & . &    67.40187 & -1 & 3.78482 & 345 & 541 & chr1:869637-870233 & chr1:869692-870382 & fcc\\_astarr\\_macs\\_input\\_overlap & encode\\_chipseq\\_ATF1\\_ENCFF627RSK & ChIPseq & ATF1\\\\\n",
       "\\end{tabular}\n"
      ],
      "text/markdown": [
       "\n",
       "A tibble: 6 × 20\n",
       "\n",
       "| Chrom_A &lt;chr&gt; | ChromStart_A &lt;dbl&gt; | ChromEnd_A &lt;dbl&gt; | Chrom_B &lt;chr&gt; | ChromStart_B &lt;dbl&gt; | ChromEnd_B &lt;dbl&gt; | Name_B &lt;chr&gt; | Score_B &lt;dbl&gt; | Strand_B &lt;chr&gt; | SignalValue_B &lt;dbl&gt; | PValue_B &lt;dbl&gt; | QValue_B &lt;dbl&gt; | Peak_B &lt;dbl&gt; | Overlap &lt;dbl&gt; | Region_A &lt;chr&gt; | Region_B &lt;chr&gt; | Annotation_A &lt;chr&gt; | Annotation_B &lt;chr&gt; | Group_B &lt;chr&gt; | Label_B &lt;chr&gt; |\n",
       "|---|---|---|---|---|---|---|---|---|---|---|---|---|---|---|---|---|---|---|---|\n",
       "| chr1 | 778233 | 779389 | chr1 | 778198 | 779139 | . | 1000 | . | 10888.81006 | -1 | 4.26233 | 505 | 906 | chr1:778233-779389 | chr1:778198-779139 | fcc_astarr_macs_input_overlap | encode_chipseq_ATF1_ENCFF627RSK | ChIPseq | ATF1 |\n",
       "| chr1 | 817031 | 817525 | chr1 | 817203 | 817893 | . | 1000 | . |   111.09106 | -1 | 3.87876 | 345 | 322 | chr1:817031-817525 | chr1:817203-817893 | fcc_astarr_macs_input_overlap | encode_chipseq_ATF1_ENCFF627RSK | ChIPseq | ATF1 |\n",
       "| chr1 | 817031 | 817525 | chr1 | 817206 | 817533 | . | 1000 | . |   258.40874 | -1 | 4.26233 | 141 | 319 | chr1:817031-817525 | chr1:817206-817533 | fcc_astarr_macs_input_overlap | encode_chipseq_ATF1_ENCFF627RSK | ChIPseq | ATF1 |\n",
       "| chr1 | 826796 | 828040 | chr1 | 827315 | 827649 | . | 1000 | . |   157.62140 | -1 | 3.91482 | 176 | 334 | chr1:826796-828040 | chr1:827315-827649 | fcc_astarr_macs_input_overlap | encode_chipseq_ATF1_ENCFF627RSK | ChIPseq | ATF1 |\n",
       "| chr1 | 842516 | 843431 | chr1 | 842533 | 843223 | . |  754 | . |    66.73495 | -1 | 3.71724 | 345 | 690 | chr1:842516-843431 | chr1:842533-843223 | fcc_astarr_macs_input_overlap | encode_chipseq_ATF1_ENCFF627RSK | ChIPseq | ATF1 |\n",
       "| chr1 | 869637 | 870233 | chr1 | 869692 | 870382 | . |  866 | . |    67.40187 | -1 | 3.78482 | 345 | 541 | chr1:869637-870233 | chr1:869692-870382 | fcc_astarr_macs_input_overlap | encode_chipseq_ATF1_ENCFF627RSK | ChIPseq | ATF1 |\n",
       "\n"
      ],
      "text/plain": [
       "  Chrom_A ChromStart_A ChromEnd_A Chrom_B ChromStart_B ChromEnd_B Name_B\n",
       "1 chr1    778233       779389     chr1    778198       779139     .     \n",
       "2 chr1    817031       817525     chr1    817203       817893     .     \n",
       "3 chr1    817031       817525     chr1    817206       817533     .     \n",
       "4 chr1    826796       828040     chr1    827315       827649     .     \n",
       "5 chr1    842516       843431     chr1    842533       843223     .     \n",
       "6 chr1    869637       870233     chr1    869692       870382     .     \n",
       "  Score_B Strand_B SignalValue_B PValue_B QValue_B Peak_B Overlap\n",
       "1 1000    .        10888.81006   -1       4.26233  505    906    \n",
       "2 1000    .          111.09106   -1       3.87876  345    322    \n",
       "3 1000    .          258.40874   -1       4.26233  141    319    \n",
       "4 1000    .          157.62140   -1       3.91482  176    334    \n",
       "5  754    .           66.73495   -1       3.71724  345    690    \n",
       "6  866    .           67.40187   -1       3.78482  345    541    \n",
       "  Region_A           Region_B           Annotation_A                 \n",
       "1 chr1:778233-779389 chr1:778198-779139 fcc_astarr_macs_input_overlap\n",
       "2 chr1:817031-817525 chr1:817203-817893 fcc_astarr_macs_input_overlap\n",
       "3 chr1:817031-817525 chr1:817206-817533 fcc_astarr_macs_input_overlap\n",
       "4 chr1:826796-828040 chr1:827315-827649 fcc_astarr_macs_input_overlap\n",
       "5 chr1:842516-843431 chr1:842533-843223 fcc_astarr_macs_input_overlap\n",
       "6 chr1:869637-870233 chr1:869692-870382 fcc_astarr_macs_input_overlap\n",
       "  Annotation_B                    Group_B Label_B\n",
       "1 encode_chipseq_ATF1_ENCFF627RSK ChIPseq ATF1   \n",
       "2 encode_chipseq_ATF1_ENCFF627RSK ChIPseq ATF1   \n",
       "3 encode_chipseq_ATF1_ENCFF627RSK ChIPseq ATF1   \n",
       "4 encode_chipseq_ATF1_ENCFF627RSK ChIPseq ATF1   \n",
       "5 encode_chipseq_ATF1_ENCFF627RSK ChIPseq ATF1   \n",
       "6 encode_chipseq_ATF1_ENCFF627RSK ChIPseq ATF1   "
      ]
     },
     "metadata": {},
     "output_type": "display_data"
    }
   ],
   "source": [
    "dat = bind_rows(lst)\n",
    "dat_region_intersect = dat\n",
    "head(dat)"
   ]
  },
  {
   "cell_type": "code",
   "execution_count": 29,
   "id": "0ae44bd5-a975-4eff-bc2e-6143384e33e6",
   "metadata": {},
   "outputs": [
    {
     "data": {
      "text/plain": [
       "\n",
       "    encode_chipseq_ATF1_ENCFF627RSK     encode_chipseq_CTCF_ENCFF660GHM \n",
       "                              39474                               37223 \n",
       "    encode_chipseq_ELK1_ENCFF715WGN    encode_chipseq_EP300_ENCFF702XPO \n",
       "                               3588                               24505 \n",
       "   encode_chipseq_GATA1_ENCFF657CTC  encode_chipseq_H3K27ac_ENCFF544LXB \n",
       "                              12114                               43224 \n",
       "encode_chipseq_H3K27me3_ENCFF323WOT  encode_chipseq_H3K4me1_ENCFF135ZLM \n",
       "                              17193                               57397 \n",
       " encode_chipseq_H3K4me2_ENCFF749KLQ  encode_chipseq_H3K4me3_ENCFF885FQN \n",
       "                              53021                               21318 \n",
       "     encode_chipseq_JUN_ENCFF190CGV    encode_chipseq_KLF10_ENCFF142ZTD \n",
       "                              17570                                 779 \n",
       "   encode_chipseq_KLF16_ENCFF488OTN     encode_chipseq_NFE2_ENCFF023IFO \n",
       "                              16407                               15377 \n",
       "    encode_chipseq_NRF1_ENCFF777PKJ   encode_chipseq_POLR2A_ENCFF355MNE \n",
       "                              32439                               36319 \n",
       "    encode_chipseq_REST_ENCFF707MDI      encode_chipseq_SP1_ENCFF553GPK \n",
       "                              15951                               11743 \n",
       "    encode_chipseq_TAL1_ENCFF852ZRK      encode_chipseq_YY1_ENCFF398UQZ \n",
       "                              23632                               26194 \n",
       "    encode_chipseq_ZEB2_ENCFF242AOL \n",
       "                              20943 "
      ]
     },
     "metadata": {},
     "output_type": "display_data"
    }
   ],
   "source": [
    "table(dat$Annotation_B)"
   ]
  },
  {
   "cell_type": "code",
   "execution_count": 28,
   "id": "55cc28aa-3d55-4408-8f98-03625bc42f8b",
   "metadata": {},
   "outputs": [
    {
     "data": {
      "text/plain": [
       "\n",
       "    ATF1     CTCF     ELK1    EP300    GATA1  H3K27ac H3K27me3  H3K4me1 \n",
       "   39474    37223     3588    24505    12114    43224    17193    57397 \n",
       " H3K4me2  H3K4me3      JUN    KLF10    KLF16     NFE2     NRF1   POLR2A \n",
       "   53021    21318    17570      779    16407    15377    32439    36319 \n",
       "    REST      SP1     TAL1      YY1     ZEB2 \n",
       "   15951    11743    23632    26194    20943 "
      ]
     },
     "metadata": {},
     "output_type": "display_data"
    }
   ],
   "source": [
    "table(dat$Label_B)"
   ]
  },
  {
   "cell_type": "code",
   "execution_count": null,
   "id": "41df28de-9fdc-4082-bb1d-29355833ccdc",
   "metadata": {},
   "outputs": [],
   "source": []
  },
  {
   "cell_type": "code",
   "execution_count": 30,
   "id": "dfd5037f-5a16-4284-b5e0-266a5156cb55",
   "metadata": {},
   "outputs": [],
   "source": [
    "### init\n",
    "dat = dat_region_intersect\n",
    "\n",
    "###\n",
    "dat = dat %>%\n",
    "    dplyr::group_by(\n",
    "        Chrom_A, ChromStart_A, ChromEnd_A, Region_A,\n",
    "        Annotation_A,\n",
    "        Annotation_B,\n",
    "        Group_B,\n",
    "        Label_B\n",
    "    ) %>%\n",
    "    dplyr::summarise(\n",
    "        Region_B = paste(Region_B, collapse=\"|\"),\n",
    "        Count  = n(),\n",
    "        .groups = \"drop\") %>%\n",
    "    dplyr::arrange(Chrom_A, ChromStart_A, ChromEnd_A)"
   ]
  },
  {
   "cell_type": "code",
   "execution_count": 31,
   "id": "56128e96-64ca-4be4-9160-c2e4bf510c51",
   "metadata": {},
   "outputs": [
    {
     "data": {
      "text/html": [
       "<table class=\"dataframe\">\n",
       "<caption>A tibble: 6 × 10</caption>\n",
       "<thead>\n",
       "\t<tr><th scope=col>Chrom_A</th><th scope=col>ChromStart_A</th><th scope=col>ChromEnd_A</th><th scope=col>Region_A</th><th scope=col>Annotation_A</th><th scope=col>Annotation_B</th><th scope=col>Group_B</th><th scope=col>Label_B</th><th scope=col>Region_B</th><th scope=col>Count</th></tr>\n",
       "\t<tr><th scope=col>&lt;chr&gt;</th><th scope=col>&lt;dbl&gt;</th><th scope=col>&lt;dbl&gt;</th><th scope=col>&lt;chr&gt;</th><th scope=col>&lt;chr&gt;</th><th scope=col>&lt;chr&gt;</th><th scope=col>&lt;chr&gt;</th><th scope=col>&lt;chr&gt;</th><th scope=col>&lt;chr&gt;</th><th scope=col>&lt;int&gt;</th></tr>\n",
       "</thead>\n",
       "<tbody>\n",
       "\t<tr><td>chr1</td><td> 16025</td><td> 16338</td><td>chr1:16025-16338  </td><td>fcc_astarr_macs_input_overlap</td><td>encode_chipseq_CTCF_ENCFF660GHM  </td><td>ChIPseq</td><td>CTCF  </td><td>chr1:16127-16367  </td><td>1</td></tr>\n",
       "\t<tr><td>chr1</td><td> 17288</td><td> 17689</td><td>chr1:17288-17689  </td><td>fcc_astarr_macs_input_overlap</td><td>encode_chipseq_POLR2A_ENCFF355MNE</td><td>ChIPseq</td><td>POLR2A</td><td>chr1:17333-17518  </td><td>1</td></tr>\n",
       "\t<tr><td>chr1</td><td>115429</td><td>115969</td><td>chr1:115429-115969</td><td>fcc_astarr_macs_input_overlap</td><td>encode_chipseq_EP300_ENCFF702XPO </td><td>ChIPseq</td><td>EP300 </td><td>chr1:115579-115895</td><td>1</td></tr>\n",
       "\t<tr><td>chr1</td><td>115429</td><td>115969</td><td>chr1:115429-115969</td><td>fcc_astarr_macs_input_overlap</td><td>encode_chipseq_NFE2_ENCFF023IFO  </td><td>ChIPseq</td><td>NFE2  </td><td>chr1:115518-115922</td><td>1</td></tr>\n",
       "\t<tr><td>chr1</td><td>115429</td><td>115969</td><td>chr1:115429-115969</td><td>fcc_astarr_macs_input_overlap</td><td>encode_chipseq_NRF1_ENCFF777PKJ  </td><td>ChIPseq</td><td>NRF1  </td><td>chr1:115456-116012</td><td>1</td></tr>\n",
       "\t<tr><td>chr1</td><td>115429</td><td>115969</td><td>chr1:115429-115969</td><td>fcc_astarr_macs_input_overlap</td><td>encode_chipseq_POLR2A_ENCFF355MNE</td><td>ChIPseq</td><td>POLR2A</td><td>chr1:115625-115913</td><td>1</td></tr>\n",
       "</tbody>\n",
       "</table>\n"
      ],
      "text/latex": [
       "A tibble: 6 × 10\n",
       "\\begin{tabular}{llllllllll}\n",
       " Chrom\\_A & ChromStart\\_A & ChromEnd\\_A & Region\\_A & Annotation\\_A & Annotation\\_B & Group\\_B & Label\\_B & Region\\_B & Count\\\\\n",
       " <chr> & <dbl> & <dbl> & <chr> & <chr> & <chr> & <chr> & <chr> & <chr> & <int>\\\\\n",
       "\\hline\n",
       "\t chr1 &  16025 &  16338 & chr1:16025-16338   & fcc\\_astarr\\_macs\\_input\\_overlap & encode\\_chipseq\\_CTCF\\_ENCFF660GHM   & ChIPseq & CTCF   & chr1:16127-16367   & 1\\\\\n",
       "\t chr1 &  17288 &  17689 & chr1:17288-17689   & fcc\\_astarr\\_macs\\_input\\_overlap & encode\\_chipseq\\_POLR2A\\_ENCFF355MNE & ChIPseq & POLR2A & chr1:17333-17518   & 1\\\\\n",
       "\t chr1 & 115429 & 115969 & chr1:115429-115969 & fcc\\_astarr\\_macs\\_input\\_overlap & encode\\_chipseq\\_EP300\\_ENCFF702XPO  & ChIPseq & EP300  & chr1:115579-115895 & 1\\\\\n",
       "\t chr1 & 115429 & 115969 & chr1:115429-115969 & fcc\\_astarr\\_macs\\_input\\_overlap & encode\\_chipseq\\_NFE2\\_ENCFF023IFO   & ChIPseq & NFE2   & chr1:115518-115922 & 1\\\\\n",
       "\t chr1 & 115429 & 115969 & chr1:115429-115969 & fcc\\_astarr\\_macs\\_input\\_overlap & encode\\_chipseq\\_NRF1\\_ENCFF777PKJ   & ChIPseq & NRF1   & chr1:115456-116012 & 1\\\\\n",
       "\t chr1 & 115429 & 115969 & chr1:115429-115969 & fcc\\_astarr\\_macs\\_input\\_overlap & encode\\_chipseq\\_POLR2A\\_ENCFF355MNE & ChIPseq & POLR2A & chr1:115625-115913 & 1\\\\\n",
       "\\end{tabular}\n"
      ],
      "text/markdown": [
       "\n",
       "A tibble: 6 × 10\n",
       "\n",
       "| Chrom_A &lt;chr&gt; | ChromStart_A &lt;dbl&gt; | ChromEnd_A &lt;dbl&gt; | Region_A &lt;chr&gt; | Annotation_A &lt;chr&gt; | Annotation_B &lt;chr&gt; | Group_B &lt;chr&gt; | Label_B &lt;chr&gt; | Region_B &lt;chr&gt; | Count &lt;int&gt; |\n",
       "|---|---|---|---|---|---|---|---|---|---|\n",
       "| chr1 |  16025 |  16338 | chr1:16025-16338   | fcc_astarr_macs_input_overlap | encode_chipseq_CTCF_ENCFF660GHM   | ChIPseq | CTCF   | chr1:16127-16367   | 1 |\n",
       "| chr1 |  17288 |  17689 | chr1:17288-17689   | fcc_astarr_macs_input_overlap | encode_chipseq_POLR2A_ENCFF355MNE | ChIPseq | POLR2A | chr1:17333-17518   | 1 |\n",
       "| chr1 | 115429 | 115969 | chr1:115429-115969 | fcc_astarr_macs_input_overlap | encode_chipseq_EP300_ENCFF702XPO  | ChIPseq | EP300  | chr1:115579-115895 | 1 |\n",
       "| chr1 | 115429 | 115969 | chr1:115429-115969 | fcc_astarr_macs_input_overlap | encode_chipseq_NFE2_ENCFF023IFO   | ChIPseq | NFE2   | chr1:115518-115922 | 1 |\n",
       "| chr1 | 115429 | 115969 | chr1:115429-115969 | fcc_astarr_macs_input_overlap | encode_chipseq_NRF1_ENCFF777PKJ   | ChIPseq | NRF1   | chr1:115456-116012 | 1 |\n",
       "| chr1 | 115429 | 115969 | chr1:115429-115969 | fcc_astarr_macs_input_overlap | encode_chipseq_POLR2A_ENCFF355MNE | ChIPseq | POLR2A | chr1:115625-115913 | 1 |\n",
       "\n"
      ],
      "text/plain": [
       "  Chrom_A ChromStart_A ChromEnd_A Region_A          \n",
       "1 chr1     16025        16338     chr1:16025-16338  \n",
       "2 chr1     17288        17689     chr1:17288-17689  \n",
       "3 chr1    115429       115969     chr1:115429-115969\n",
       "4 chr1    115429       115969     chr1:115429-115969\n",
       "5 chr1    115429       115969     chr1:115429-115969\n",
       "6 chr1    115429       115969     chr1:115429-115969\n",
       "  Annotation_A                  Annotation_B                      Group_B\n",
       "1 fcc_astarr_macs_input_overlap encode_chipseq_CTCF_ENCFF660GHM   ChIPseq\n",
       "2 fcc_astarr_macs_input_overlap encode_chipseq_POLR2A_ENCFF355MNE ChIPseq\n",
       "3 fcc_astarr_macs_input_overlap encode_chipseq_EP300_ENCFF702XPO  ChIPseq\n",
       "4 fcc_astarr_macs_input_overlap encode_chipseq_NFE2_ENCFF023IFO   ChIPseq\n",
       "5 fcc_astarr_macs_input_overlap encode_chipseq_NRF1_ENCFF777PKJ   ChIPseq\n",
       "6 fcc_astarr_macs_input_overlap encode_chipseq_POLR2A_ENCFF355MNE ChIPseq\n",
       "  Label_B Region_B           Count\n",
       "1 CTCF    chr1:16127-16367   1    \n",
       "2 POLR2A  chr1:17333-17518   1    \n",
       "3 EP300   chr1:115579-115895 1    \n",
       "4 NFE2    chr1:115518-115922 1    \n",
       "5 NRF1    chr1:115456-116012 1    \n",
       "6 POLR2A  chr1:115625-115913 1    "
      ]
     },
     "metadata": {},
     "output_type": "display_data"
    }
   ],
   "source": [
    "head(dat)"
   ]
  },
  {
   "cell_type": "code",
   "execution_count": null,
   "id": "4dd32085-0103-4b21-aea9-bc4e75edf114",
   "metadata": {},
   "outputs": [],
   "source": []
  },
  {
   "cell_type": "code",
   "execution_count": null,
   "id": "096c4969-67a0-40f6-a39c-86108d2273b7",
   "metadata": {},
   "outputs": [],
   "source": []
  },
  {
   "cell_type": "code",
   "execution_count": null,
   "id": "ebecc830-f989-4ff2-9925-bfcd1cfeacd3",
   "metadata": {},
   "outputs": [],
   "source": []
  },
  {
   "cell_type": "code",
   "execution_count": null,
   "id": "acb47cdc-e69d-464c-a539-604c9fb0785a",
   "metadata": {},
   "outputs": [],
   "source": []
  },
  {
   "cell_type": "code",
   "execution_count": 22,
   "id": "e5e52129-551e-457a-a6a9-f213589b4226",
   "metadata": {},
   "outputs": [
    {
     "name": "stdout",
     "output_type": "stream",
     "text": [
      "[1] \"fcc_astarr_macs_input_overlap\"\n",
      " [1] \"fcc_astarr_macs_input_overlap.encode_chipseq_ATF1_ENCFF627RSK.bed.gz\"    \n",
      " [2] \"fcc_astarr_macs_input_overlap.encode_chipseq_CTCF_ENCFF660GHM.bed.gz\"    \n",
      " [3] \"fcc_astarr_macs_input_overlap.encode_chipseq_ELK1_ENCFF715WGN.bed.gz\"    \n",
      " [4] \"fcc_astarr_macs_input_overlap.encode_chipseq_EP300_ENCFF702XPO.bed.gz\"   \n",
      " [5] \"fcc_astarr_macs_input_overlap.encode_chipseq_GATA1_ENCFF657CTC.bed.gz\"   \n",
      " [6] \"fcc_astarr_macs_input_overlap.encode_chipseq_H3K27ac_ENCFF544LXB.bed.gz\" \n",
      " [7] \"fcc_astarr_macs_input_overlap.encode_chipseq_H3K27me3_ENCFF323WOT.bed.gz\"\n",
      " [8] \"fcc_astarr_macs_input_overlap.encode_chipseq_H3K4me1_ENCFF135ZLM.bed.gz\" \n",
      " [9] \"fcc_astarr_macs_input_overlap.encode_chipseq_H3K4me2_ENCFF749KLQ.bed.gz\" \n",
      "[10] \"fcc_astarr_macs_input_overlap.encode_chipseq_H3K4me3_ENCFF885FQN.bed.gz\" \n",
      "[11] \"fcc_astarr_macs_input_overlap.encode_chipseq_JUN_ENCFF190CGV.bed.gz\"     \n",
      "[12] \"fcc_astarr_macs_input_overlap.encode_chipseq_KLF10_ENCFF142ZTD.bed.gz\"   \n",
      "[13] \"fcc_astarr_macs_input_overlap.encode_chipseq_KLF16_ENCFF488OTN.bed.gz\"   \n",
      "[14] \"fcc_astarr_macs_input_overlap.encode_chipseq_NFE2_ENCFF023IFO.bed.gz\"    \n",
      "[15] \"fcc_astarr_macs_input_overlap.encode_chipseq_NRF1_ENCFF777PKJ.bed.gz\"    \n",
      "[16] \"fcc_astarr_macs_input_overlap.encode_chipseq_POLR2A_ENCFF355MNE.bed.gz\"  \n",
      "[17] \"fcc_astarr_macs_input_overlap.encode_chipseq_REST_ENCFF707MDI.bed.gz\"    \n",
      "[18] \"fcc_astarr_macs_input_overlap.encode_chipseq_SP1_ENCFF553GPK.bed.gz\"     \n",
      "[19] \"fcc_astarr_macs_input_overlap.encode_chipseq_TAL1_ENCFF852ZRK.bed.gz\"    \n",
      "[20] \"fcc_astarr_macs_input_overlap.encode_chipseq_YY1_ENCFF398UQZ.bed.gz\"     \n",
      "[21] \"fcc_astarr_macs_input_overlap.encode_chipseq_ZEB2_ENCFF242AOL.bed.gz\"    \n",
      "\n",
      "[1] \"fcc_astarr_macs_input_union\"\n",
      " [1] \"fcc_astarr_macs_input_union.encode_chipseq_ATF1_ENCFF627RSK.bed.gz\"    \n",
      " [2] \"fcc_astarr_macs_input_union.encode_chipseq_CTCF_ENCFF660GHM.bed.gz\"    \n",
      " [3] \"fcc_astarr_macs_input_union.encode_chipseq_ELK1_ENCFF715WGN.bed.gz\"    \n",
      " [4] \"fcc_astarr_macs_input_union.encode_chipseq_EP300_ENCFF702XPO.bed.gz\"   \n",
      " [5] \"fcc_astarr_macs_input_union.encode_chipseq_GATA1_ENCFF657CTC.bed.gz\"   \n",
      " [6] \"fcc_astarr_macs_input_union.encode_chipseq_H3K27ac_ENCFF544LXB.bed.gz\" \n",
      " [7] \"fcc_astarr_macs_input_union.encode_chipseq_H3K27me3_ENCFF323WOT.bed.gz\"\n",
      " [8] \"fcc_astarr_macs_input_union.encode_chipseq_H3K4me1_ENCFF135ZLM.bed.gz\" \n",
      " [9] \"fcc_astarr_macs_input_union.encode_chipseq_H3K4me2_ENCFF749KLQ.bed.gz\" \n",
      "[10] \"fcc_astarr_macs_input_union.encode_chipseq_H3K4me3_ENCFF885FQN.bed.gz\" \n",
      "[11] \"fcc_astarr_macs_input_union.encode_chipseq_JUN_ENCFF190CGV.bed.gz\"     \n",
      "[12] \"fcc_astarr_macs_input_union.encode_chipseq_KLF10_ENCFF142ZTD.bed.gz\"   \n",
      "[13] \"fcc_astarr_macs_input_union.encode_chipseq_KLF16_ENCFF488OTN.bed.gz\"   \n",
      "[14] \"fcc_astarr_macs_input_union.encode_chipseq_NFE2_ENCFF023IFO.bed.gz\"    \n",
      "[15] \"fcc_astarr_macs_input_union.encode_chipseq_NRF1_ENCFF777PKJ.bed.gz\"    \n",
      "[16] \"fcc_astarr_macs_input_union.encode_chipseq_POLR2A_ENCFF355MNE.bed.gz\"  \n",
      "[17] \"fcc_astarr_macs_input_union.encode_chipseq_REST_ENCFF707MDI.bed.gz\"    \n",
      "[18] \"fcc_astarr_macs_input_union.encode_chipseq_SP1_ENCFF553GPK.bed.gz\"     \n",
      "[19] \"fcc_astarr_macs_input_union.encode_chipseq_TAL1_ENCFF852ZRK.bed.gz\"    \n",
      "[20] \"fcc_astarr_macs_input_union.encode_chipseq_YY1_ENCFF398UQZ.bed.gz\"     \n",
      "[21] \"fcc_astarr_macs_input_union.encode_chipseq_ZEB2_ENCFF242AOL.bed.gz\"    \n",
      "\n"
     ]
    }
   ],
   "source": [
    "for (txt_region_label_A in vec_txt_region_label_A) {\n",
    "    ###\n",
    "    txt_fdiry = file.path(\n",
    "        FD_RES, \n",
    "        \"region_annotation\",\n",
    "        txt_region_label_A, \n",
    "        txt_region_folder_B\n",
    "    )\n",
    "    txt_fname = \"*bed.gz\"\n",
    "    txt_fglob = file.path(txt_fdiry, txt_fname)\n",
    "    \n",
    "    vec_txt_fpath = Sys.glob(txt_fglob)\n",
    "    vec_txt_fname = basename(vec_txt_fpath)\n",
    "    \n",
    "    print(txt_region_label_A)\n",
    "    print(vec_txt_fname)\n",
    "    cat(\"\\n\")\n",
    "\n",
    "    ###\n",
    "    txt_fname = vec_txt_fname[1]\n",
    "    txt_fpath = file.path(txt_fdiry, txt_fname)\n",
    "    print(txt_fname)\n",
    "    \n",
    "    ###\n",
    "    lst = str_split(txt_fname, \"\\\\.\")\n",
    "    vec = lst[[1]]\n",
    "    txt_annot_A = vec[1]\n",
    "    txt_annot_B = vec[2]\n",
    "    \n",
    "    ###\n",
    "    vec = str_split(txt_annot_B, \"_\")[[1]]\n",
    "    txt_group = \"ChIPseq\"\n",
    "    txt_label = vec[3]\n",
    "    \n",
    "    ###\n",
    "    dat = read_tsv(txt_fpath, col_names = vec_txt_cname, show_col_types = FALSE)\n",
    "    dat = dat %>% \n",
    "        dplyr::mutate(\n",
    "            Region_A = paste0(Chrom_A, \":\", ChromStart_A, \"-\", ChromEnd_A),\n",
    "            Region_B = paste0(Chrom_B, \":\", ChromStart_B, \"-\", ChromEnd_B),\n",
    "            Annotation_A = txt_annot_A,\n",
    "            Annotation_B = txt_annot_B,\n",
    "            Group_B      = txt_group,\n",
    "            Label_B      = txt_label\n",
    "        )\n",
    "    dat_region_intersect = dat\n",
    "}"
   ]
  },
  {
   "cell_type": "code",
   "execution_count": null,
   "id": "5e42da3f-6a48-4d18-9376-4c7ce6380423",
   "metadata": {},
   "outputs": [],
   "source": []
  },
  {
   "cell_type": "code",
   "execution_count": null,
   "id": "5f1653b3-6d41-4c7a-8490-49b3821a9c04",
   "metadata": {},
   "outputs": [],
   "source": []
  },
  {
   "cell_type": "code",
   "execution_count": null,
   "id": "84b9f7b7-0c96-4543-8bf4-bff8bd25ad65",
   "metadata": {},
   "outputs": [],
   "source": [
    "\n",
    "txt_fdiry = file.path(\n",
    "    FD_RES, \n",
    "    \"region_annotation\",\n",
    "    txt_region_label_A, \n",
    "    txt_region_folder_B\n",
    ")\n",
    "txt_fname = \"*bed.gz\"\n",
    "txt_fglob = file.path(txt_fdiry, txt_fname)\n",
    "\n",
    "vec_txt_fpath = Sys.glob(txt_fglob)\n",
    "vec_txt_fname = basename(vec_txt_fpath)\n",
    "vec_txt_fname"
   ]
  }
 ],
 "metadata": {
  "kernelspec": {
   "display_name": "R",
   "language": "R",
   "name": "ir"
  },
  "language_info": {
   "codemirror_mode": "r",
   "file_extension": ".r",
   "mimetype": "text/x-r-source",
   "name": "R",
   "pygments_lexer": "r",
   "version": "4.4.0"
  }
 },
 "nbformat": 4,
 "nbformat_minor": 5
}
