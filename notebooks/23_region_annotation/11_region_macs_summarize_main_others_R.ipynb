{
 "cells": [
  {
   "cell_type": "raw",
   "id": "7bf110d3-e251-4e0c-80bd-c81100273908",
   "metadata": {},
   "source": [
    "---\n",
    "title: Region annotation 021 (ASTARR MACS peaks)\n",
    "subtitle: Summarize annotations (Main)\n",
    "format:\n",
    "    html:\n",
    "        code-fold:  true\n",
    "        code-tools: true\n",
    "---"
   ]
  },
  {
   "cell_type": "markdown",
   "id": "5295f312-6d7a-4527-8443-1426b2762f0c",
   "metadata": {},
   "source": [
    "**Set environment**"
   ]
  },
  {
   "cell_type": "code",
   "execution_count": 1,
   "id": "08fdea9d-572f-4d2d-9b84-d2c8823215ef",
   "metadata": {
    "tags": []
   },
   "outputs": [
    {
     "name": "stdout",
     "output_type": "stream",
     "text": [
      "You are working on        Singularity \n",
      "BASE DIRECTORY (FD_BASE): /mount \n",
      "REPO DIRECTORY (FD_REPO): /mount/repo \n",
      "WORK DIRECTORY (FD_WORK): /mount/work \n",
      "DATA DIRECTORY (FD_DATA): /mount/data \n",
      "\n",
      "You are working with      ENCODE FCC \n",
      "PATH OF PROJECT (FD_PRJ): /mount/repo/Proj_ENCODE_FCC \n",
      "PROJECT RESULTS (FD_RES): /mount/repo/Proj_ENCODE_FCC/results \n",
      "PROJECT SCRIPTS (FD_EXE): /mount/repo/Proj_ENCODE_FCC/scripts \n",
      "PROJECT DATA    (FD_DAT): /mount/repo/Proj_ENCODE_FCC/data \n",
      "PROJECT NOTE    (FD_NBK): /mount/repo/Proj_ENCODE_FCC/notebooks \n",
      "PROJECT DOCS    (FD_DOC): /mount/repo/Proj_ENCODE_FCC/docs \n",
      "PROJECT LOG     (FD_LOG): /mount/repo/Proj_ENCODE_FCC/log \n",
      "PROJECT APP     (FD_APP): /mount/repo/Proj_ENCODE_FCC/app \n",
      "PROJECT REF     (FD_REF): /mount/repo/Proj_ENCODE_FCC/references \n",
      "\n"
     ]
    }
   ],
   "source": [
    "suppressMessages(suppressWarnings(source(\"../run_config_project_sing.R\")))\n",
    "show_env()"
   ]
  },
  {
   "cell_type": "markdown",
   "id": "25781ad8-51d2-4d05-b8c4-eab76d79b107",
   "metadata": {},
   "source": [
    "**Set global variables**"
   ]
  },
  {
   "cell_type": "code",
   "execution_count": 2,
   "id": "60c69147-a899-4e04-adf6-15bfe6075ae5",
   "metadata": {},
   "outputs": [
    {
     "name": "stdout",
     "output_type": "stream",
     "text": [
      "annotation.macs.label.region_A.tsv \n",
      "annotation.macs.label.region_B.chipseq_full.tsv \n",
      "annotation.macs.label.region_B.chipseq_subset.tsv \n",
      "annotation.macs.label.region_B.main.tsv \n"
     ]
    }
   ],
   "source": [
    "txt_fdiry = file.path(FD_RES, \"region\", \"summary\")\n",
    "vec = dir(txt_fdiry)\n",
    "for (txt in vec){cat(txt, \"\\n\")}"
   ]
  },
  {
   "cell_type": "code",
   "execution_count": 3,
   "id": "90e3d146-096f-4125-b3d4-b1150f88a1ef",
   "metadata": {},
   "outputs": [],
   "source": [
    "TXT_FDIRY_REGION_LABEL   = file.path(FD_RES, \"region\", \"summary\")\n",
    "TXT_FNAME_REGION_LABEL_A = \"annotation.macs.label.region_A.tsv\"\n",
    "TXT_FNAME_REGION_LABEL_B = \"annotation.macs.label.region_B.main.tsv\""
   ]
  },
  {
   "cell_type": "markdown",
   "id": "4762ad14-7305-402c-bb5f-ece48ce48e6d",
   "metadata": {},
   "source": [
    "## Import data"
   ]
  },
  {
   "cell_type": "code",
   "execution_count": 4,
   "id": "76c722ae-d43e-4fd1-babb-c2c2086ff7bd",
   "metadata": {},
   "outputs": [
    {
     "data": {
      "text/html": [
       "<table class=\"dataframe\">\n",
       "<caption>A spec_tbl_df: 2 × 3</caption>\n",
       "<thead>\n",
       "\t<tr><th scope=col>Folder</th><th scope=col>FName</th><th scope=col>Label</th></tr>\n",
       "\t<tr><th scope=col>&lt;chr&gt;</th><th scope=col>&lt;chr&gt;</th><th scope=col>&lt;chr&gt;</th></tr>\n",
       "</thead>\n",
       "<tbody>\n",
       "\t<tr><td>fcc_astarr_macs</td><td>ASTARRseq_K562_KS91.hg38.Input.rep_all.max_overlaps.q5.bed.gz</td><td>fcc_astarr_macs_input_overlap</td></tr>\n",
       "\t<tr><td>fcc_astarr_macs</td><td>ASTARRseq_K562_KS91.hg38.Input.rep_all.union.q5.bed.gz       </td><td>fcc_astarr_macs_input_union  </td></tr>\n",
       "</tbody>\n",
       "</table>\n"
      ],
      "text/latex": [
       "A spec\\_tbl\\_df: 2 × 3\n",
       "\\begin{tabular}{lll}\n",
       " Folder & FName & Label\\\\\n",
       " <chr> & <chr> & <chr>\\\\\n",
       "\\hline\n",
       "\t fcc\\_astarr\\_macs & ASTARRseq\\_K562\\_KS91.hg38.Input.rep\\_all.max\\_overlaps.q5.bed.gz & fcc\\_astarr\\_macs\\_input\\_overlap\\\\\n",
       "\t fcc\\_astarr\\_macs & ASTARRseq\\_K562\\_KS91.hg38.Input.rep\\_all.union.q5.bed.gz        & fcc\\_astarr\\_macs\\_input\\_union  \\\\\n",
       "\\end{tabular}\n"
      ],
      "text/markdown": [
       "\n",
       "A spec_tbl_df: 2 × 3\n",
       "\n",
       "| Folder &lt;chr&gt; | FName &lt;chr&gt; | Label &lt;chr&gt; |\n",
       "|---|---|---|\n",
       "| fcc_astarr_macs | ASTARRseq_K562_KS91.hg38.Input.rep_all.max_overlaps.q5.bed.gz | fcc_astarr_macs_input_overlap |\n",
       "| fcc_astarr_macs | ASTARRseq_K562_KS91.hg38.Input.rep_all.union.q5.bed.gz        | fcc_astarr_macs_input_union   |\n",
       "\n"
      ],
      "text/plain": [
       "  Folder          FName                                                        \n",
       "1 fcc_astarr_macs ASTARRseq_K562_KS91.hg38.Input.rep_all.max_overlaps.q5.bed.gz\n",
       "2 fcc_astarr_macs ASTARRseq_K562_KS91.hg38.Input.rep_all.union.q5.bed.gz       \n",
       "  Label                        \n",
       "1 fcc_astarr_macs_input_overlap\n",
       "2 fcc_astarr_macs_input_union  "
      ]
     },
     "metadata": {},
     "output_type": "display_data"
    }
   ],
   "source": [
    "txt_fdiry = TXT_FDIRY_REGION_LABEL\n",
    "txt_fname = TXT_FNAME_REGION_LABEL_A\n",
    "txt_fpath = file.path(txt_fdiry, txt_fname)\n",
    "\n",
    "dat_region_label_A = read_tsv(txt_fpath, show_col_types = FALSE)\n",
    "dat_region_label_A"
   ]
  },
  {
   "cell_type": "code",
   "execution_count": 5,
   "id": "7c39c557-f13e-4a93-9bcb-0baef8a3fa3a",
   "metadata": {},
   "outputs": [
    {
     "data": {
      "text/html": [
       "<table class=\"dataframe\">\n",
       "<caption>A spec_tbl_df: 17 × 3</caption>\n",
       "<thead>\n",
       "\t<tr><th scope=col>Folder</th><th scope=col>FName</th><th scope=col>Label</th></tr>\n",
       "\t<tr><th scope=col>&lt;chr&gt;</th><th scope=col>&lt;chr&gt;</th><th scope=col>&lt;chr&gt;</th></tr>\n",
       "</thead>\n",
       "<tbody>\n",
       "\t<tr><td>encode_chromatin_states    </td><td>K562.hg38.cCREs.silencer_rest.bed.gz                                       </td><td>encode_ccres_silencer_rest   </td></tr>\n",
       "\t<tr><td>encode_chromatin_states    </td><td>K562.hg38.cCREs.silencer_starr.bed.gz                                      </td><td>encode_ccres_silencer_starr  </td></tr>\n",
       "\t<tr><td>encode_chromatin_states    </td><td>K562.hg38.ENCSR365YNI.ENCFF106BGJ.ChromHMM.simplified.bed.gz               </td><td>encode_chromhmm_ENCFF106BGJ  </td></tr>\n",
       "\t<tr><td>encode_chromatin_states    </td><td>K562.hg38.ENCSR913HQX.ENCFF286VQG.cCREs.simplified.bed.gz                  </td><td>encode_ccres_ENCFF286VQG     </td></tr>\n",
       "\t<tr><td>fcc_astarr_csaw            </td><td>K562.hg38.ASTARR.KS91.csaw.bed.gz                                          </td><td>fcc_astarr_csaw_KS91         </td></tr>\n",
       "\t<tr><td>fcc_astarr_csaw            </td><td>K562.hg38.ASTARR.KSMerge.csaw.bed.gz                                       </td><td>fcc_astarr_csaw_KSMerge      </td></tr>\n",
       "\t<tr><td>fcc_crispri_hcrff          </td><td>K562.hg38.CRISPRi_HCRFF.CASA.bed.gz                                        </td><td>fcc_crispri_hcrff_casa       </td></tr>\n",
       "\t<tr><td>genome_tss                 </td><td>K562.hg38.TSS.selected_by_highest_Pol2_signal.bed.gz                       </td><td>genome_tss_pol2              </td></tr>\n",
       "\t<tr><td>genome_tss                 </td><td>K562.hg38.TSS.selected_by_highest_Pol2_signal.filtered_by_RNAseq_TPM.bed.gz</td><td>genome_tss_pol2_rnaseq       </td></tr>\n",
       "\t<tr><td>hic_insitu_K562_ENCSR545YBD</td><td>K562.hg38.hic_insitu.Loop_A.bed.gz                                         </td><td>hic_insitu_Loop_A_ENCSR545YBD</td></tr>\n",
       "\t<tr><td>hic_insitu_K562_ENCSR545YBD</td><td>K562.hg38.hic_insitu.Loop_B.bed.gz                                         </td><td>hic_insitu_Loop_B_ENCSR545YBD</td></tr>\n",
       "\t<tr><td>hic_insitu_K562_ENCSR545YBD</td><td>K562.hg38.hic_insitu.TAD.bedpe.gz                                          </td><td>hic_insitu_TAD_ENCSR545YBD   </td></tr>\n",
       "\t<tr><td>hic_intact_K562_deep       </td><td>K562.hg38.hic_intact.Loop_A.bed.gz                                         </td><td>hic_intact_Loop_A_deep       </td></tr>\n",
       "\t<tr><td>hic_intact_K562_deep       </td><td>K562.hg38.hic_intact.Loop_B.bed.gz                                         </td><td>hic_intact_Loop_B_deep       </td></tr>\n",
       "\t<tr><td>hic_intact_K562_ENCSR479XDG</td><td>K562.hg38.hic_intact.Loop_A.bed.gz                                         </td><td>hic_intact_Loop_A_ENCSR479XDG</td></tr>\n",
       "\t<tr><td>hic_intact_K562_ENCSR479XDG</td><td>K562.hg38.hic_intact.Loop_B.bed.gz                                         </td><td>hic_intact_Loop_B_ENCSR479XDG</td></tr>\n",
       "\t<tr><td>hic_intact_K562_ENCSR479XDG</td><td>K562.hg38.hic_intact.TAD.bedpe.gz                                          </td><td>hic_intact_TAD_ENCSR479XDG   </td></tr>\n",
       "</tbody>\n",
       "</table>\n"
      ],
      "text/latex": [
       "A spec\\_tbl\\_df: 17 × 3\n",
       "\\begin{tabular}{lll}\n",
       " Folder & FName & Label\\\\\n",
       " <chr> & <chr> & <chr>\\\\\n",
       "\\hline\n",
       "\t encode\\_chromatin\\_states     & K562.hg38.cCREs.silencer\\_rest.bed.gz                                        & encode\\_ccres\\_silencer\\_rest   \\\\\n",
       "\t encode\\_chromatin\\_states     & K562.hg38.cCREs.silencer\\_starr.bed.gz                                       & encode\\_ccres\\_silencer\\_starr  \\\\\n",
       "\t encode\\_chromatin\\_states     & K562.hg38.ENCSR365YNI.ENCFF106BGJ.ChromHMM.simplified.bed.gz                & encode\\_chromhmm\\_ENCFF106BGJ  \\\\\n",
       "\t encode\\_chromatin\\_states     & K562.hg38.ENCSR913HQX.ENCFF286VQG.cCREs.simplified.bed.gz                   & encode\\_ccres\\_ENCFF286VQG     \\\\\n",
       "\t fcc\\_astarr\\_csaw             & K562.hg38.ASTARR.KS91.csaw.bed.gz                                           & fcc\\_astarr\\_csaw\\_KS91         \\\\\n",
       "\t fcc\\_astarr\\_csaw             & K562.hg38.ASTARR.KSMerge.csaw.bed.gz                                        & fcc\\_astarr\\_csaw\\_KSMerge      \\\\\n",
       "\t fcc\\_crispri\\_hcrff           & K562.hg38.CRISPRi\\_HCRFF.CASA.bed.gz                                         & fcc\\_crispri\\_hcrff\\_casa       \\\\\n",
       "\t genome\\_tss                  & K562.hg38.TSS.selected\\_by\\_highest\\_Pol2\\_signal.bed.gz                        & genome\\_tss\\_pol2              \\\\\n",
       "\t genome\\_tss                  & K562.hg38.TSS.selected\\_by\\_highest\\_Pol2\\_signal.filtered\\_by\\_RNAseq\\_TPM.bed.gz & genome\\_tss\\_pol2\\_rnaseq       \\\\\n",
       "\t hic\\_insitu\\_K562\\_ENCSR545YBD & K562.hg38.hic\\_insitu.Loop\\_A.bed.gz                                          & hic\\_insitu\\_Loop\\_A\\_ENCSR545YBD\\\\\n",
       "\t hic\\_insitu\\_K562\\_ENCSR545YBD & K562.hg38.hic\\_insitu.Loop\\_B.bed.gz                                          & hic\\_insitu\\_Loop\\_B\\_ENCSR545YBD\\\\\n",
       "\t hic\\_insitu\\_K562\\_ENCSR545YBD & K562.hg38.hic\\_insitu.TAD.bedpe.gz                                           & hic\\_insitu\\_TAD\\_ENCSR545YBD   \\\\\n",
       "\t hic\\_intact\\_K562\\_deep        & K562.hg38.hic\\_intact.Loop\\_A.bed.gz                                          & hic\\_intact\\_Loop\\_A\\_deep       \\\\\n",
       "\t hic\\_intact\\_K562\\_deep        & K562.hg38.hic\\_intact.Loop\\_B.bed.gz                                          & hic\\_intact\\_Loop\\_B\\_deep       \\\\\n",
       "\t hic\\_intact\\_K562\\_ENCSR479XDG & K562.hg38.hic\\_intact.Loop\\_A.bed.gz                                          & hic\\_intact\\_Loop\\_A\\_ENCSR479XDG\\\\\n",
       "\t hic\\_intact\\_K562\\_ENCSR479XDG & K562.hg38.hic\\_intact.Loop\\_B.bed.gz                                          & hic\\_intact\\_Loop\\_B\\_ENCSR479XDG\\\\\n",
       "\t hic\\_intact\\_K562\\_ENCSR479XDG & K562.hg38.hic\\_intact.TAD.bedpe.gz                                           & hic\\_intact\\_TAD\\_ENCSR479XDG   \\\\\n",
       "\\end{tabular}\n"
      ],
      "text/markdown": [
       "\n",
       "A spec_tbl_df: 17 × 3\n",
       "\n",
       "| Folder &lt;chr&gt; | FName &lt;chr&gt; | Label &lt;chr&gt; |\n",
       "|---|---|---|\n",
       "| encode_chromatin_states     | K562.hg38.cCREs.silencer_rest.bed.gz                                        | encode_ccres_silencer_rest    |\n",
       "| encode_chromatin_states     | K562.hg38.cCREs.silencer_starr.bed.gz                                       | encode_ccres_silencer_starr   |\n",
       "| encode_chromatin_states     | K562.hg38.ENCSR365YNI.ENCFF106BGJ.ChromHMM.simplified.bed.gz                | encode_chromhmm_ENCFF106BGJ   |\n",
       "| encode_chromatin_states     | K562.hg38.ENCSR913HQX.ENCFF286VQG.cCREs.simplified.bed.gz                   | encode_ccres_ENCFF286VQG      |\n",
       "| fcc_astarr_csaw             | K562.hg38.ASTARR.KS91.csaw.bed.gz                                           | fcc_astarr_csaw_KS91          |\n",
       "| fcc_astarr_csaw             | K562.hg38.ASTARR.KSMerge.csaw.bed.gz                                        | fcc_astarr_csaw_KSMerge       |\n",
       "| fcc_crispri_hcrff           | K562.hg38.CRISPRi_HCRFF.CASA.bed.gz                                         | fcc_crispri_hcrff_casa        |\n",
       "| genome_tss                  | K562.hg38.TSS.selected_by_highest_Pol2_signal.bed.gz                        | genome_tss_pol2               |\n",
       "| genome_tss                  | K562.hg38.TSS.selected_by_highest_Pol2_signal.filtered_by_RNAseq_TPM.bed.gz | genome_tss_pol2_rnaseq        |\n",
       "| hic_insitu_K562_ENCSR545YBD | K562.hg38.hic_insitu.Loop_A.bed.gz                                          | hic_insitu_Loop_A_ENCSR545YBD |\n",
       "| hic_insitu_K562_ENCSR545YBD | K562.hg38.hic_insitu.Loop_B.bed.gz                                          | hic_insitu_Loop_B_ENCSR545YBD |\n",
       "| hic_insitu_K562_ENCSR545YBD | K562.hg38.hic_insitu.TAD.bedpe.gz                                           | hic_insitu_TAD_ENCSR545YBD    |\n",
       "| hic_intact_K562_deep        | K562.hg38.hic_intact.Loop_A.bed.gz                                          | hic_intact_Loop_A_deep        |\n",
       "| hic_intact_K562_deep        | K562.hg38.hic_intact.Loop_B.bed.gz                                          | hic_intact_Loop_B_deep        |\n",
       "| hic_intact_K562_ENCSR479XDG | K562.hg38.hic_intact.Loop_A.bed.gz                                          | hic_intact_Loop_A_ENCSR479XDG |\n",
       "| hic_intact_K562_ENCSR479XDG | K562.hg38.hic_intact.Loop_B.bed.gz                                          | hic_intact_Loop_B_ENCSR479XDG |\n",
       "| hic_intact_K562_ENCSR479XDG | K562.hg38.hic_intact.TAD.bedpe.gz                                           | hic_intact_TAD_ENCSR479XDG    |\n",
       "\n"
      ],
      "text/plain": [
       "   Folder                     \n",
       "1  encode_chromatin_states    \n",
       "2  encode_chromatin_states    \n",
       "3  encode_chromatin_states    \n",
       "4  encode_chromatin_states    \n",
       "5  fcc_astarr_csaw            \n",
       "6  fcc_astarr_csaw            \n",
       "7  fcc_crispri_hcrff          \n",
       "8  genome_tss                 \n",
       "9  genome_tss                 \n",
       "10 hic_insitu_K562_ENCSR545YBD\n",
       "11 hic_insitu_K562_ENCSR545YBD\n",
       "12 hic_insitu_K562_ENCSR545YBD\n",
       "13 hic_intact_K562_deep       \n",
       "14 hic_intact_K562_deep       \n",
       "15 hic_intact_K562_ENCSR479XDG\n",
       "16 hic_intact_K562_ENCSR479XDG\n",
       "17 hic_intact_K562_ENCSR479XDG\n",
       "   FName                                                                      \n",
       "1  K562.hg38.cCREs.silencer_rest.bed.gz                                       \n",
       "2  K562.hg38.cCREs.silencer_starr.bed.gz                                      \n",
       "3  K562.hg38.ENCSR365YNI.ENCFF106BGJ.ChromHMM.simplified.bed.gz               \n",
       "4  K562.hg38.ENCSR913HQX.ENCFF286VQG.cCREs.simplified.bed.gz                  \n",
       "5  K562.hg38.ASTARR.KS91.csaw.bed.gz                                          \n",
       "6  K562.hg38.ASTARR.KSMerge.csaw.bed.gz                                       \n",
       "7  K562.hg38.CRISPRi_HCRFF.CASA.bed.gz                                        \n",
       "8  K562.hg38.TSS.selected_by_highest_Pol2_signal.bed.gz                       \n",
       "9  K562.hg38.TSS.selected_by_highest_Pol2_signal.filtered_by_RNAseq_TPM.bed.gz\n",
       "10 K562.hg38.hic_insitu.Loop_A.bed.gz                                         \n",
       "11 K562.hg38.hic_insitu.Loop_B.bed.gz                                         \n",
       "12 K562.hg38.hic_insitu.TAD.bedpe.gz                                          \n",
       "13 K562.hg38.hic_intact.Loop_A.bed.gz                                         \n",
       "14 K562.hg38.hic_intact.Loop_B.bed.gz                                         \n",
       "15 K562.hg38.hic_intact.Loop_A.bed.gz                                         \n",
       "16 K562.hg38.hic_intact.Loop_B.bed.gz                                         \n",
       "17 K562.hg38.hic_intact.TAD.bedpe.gz                                          \n",
       "   Label                        \n",
       "1  encode_ccres_silencer_rest   \n",
       "2  encode_ccres_silencer_starr  \n",
       "3  encode_chromhmm_ENCFF106BGJ  \n",
       "4  encode_ccres_ENCFF286VQG     \n",
       "5  fcc_astarr_csaw_KS91         \n",
       "6  fcc_astarr_csaw_KSMerge      \n",
       "7  fcc_crispri_hcrff_casa       \n",
       "8  genome_tss_pol2              \n",
       "9  genome_tss_pol2_rnaseq       \n",
       "10 hic_insitu_Loop_A_ENCSR545YBD\n",
       "11 hic_insitu_Loop_B_ENCSR545YBD\n",
       "12 hic_insitu_TAD_ENCSR545YBD   \n",
       "13 hic_intact_Loop_A_deep       \n",
       "14 hic_intact_Loop_B_deep       \n",
       "15 hic_intact_Loop_A_ENCSR479XDG\n",
       "16 hic_intact_Loop_B_ENCSR479XDG\n",
       "17 hic_intact_TAD_ENCSR479XDG   "
      ]
     },
     "metadata": {},
     "output_type": "display_data"
    }
   ],
   "source": [
    "txt_fdiry = TXT_FDIRY_REGION_LABEL\n",
    "txt_fname = TXT_FNAME_REGION_LABEL_B\n",
    "txt_fpath = file.path(txt_fdiry, txt_fname)\n",
    "\n",
    "dat_region_label_B = read_tsv(txt_fpath, show_col_types = FALSE)\n",
    "dat_region_label_B"
   ]
  },
  {
   "cell_type": "markdown",
   "id": "2e0c0282-b362-4e8d-a323-1a65e7434f49",
   "metadata": {},
   "source": [
    "**Check colnumn names**"
   ]
  },
  {
   "cell_type": "code",
   "execution_count": 6,
   "id": "681d2099-c068-44cf-abcc-84df914e5b09",
   "metadata": {},
   "outputs": [
    {
     "name": "stdout",
     "output_type": "stream",
     "text": [
      "fcc_astarr_macs \n",
      "[1] \"Chrom\"      \"ChromStart\" \"ChromEnd\"  \n",
      "\n"
     ]
    }
   ],
   "source": [
    "dat = dat_region_label_A\n",
    "vec = unique(dat$Folder)\n",
    "vec_txt_region_folder_A = vec\n",
    "\n",
    "for (txt_region_folder_A in vec_txt_region_folder_A){\n",
    "    ###\n",
    "    txt_fdiry = file.path(FD_RES, \"region\", txt_region_folder_A, \"summary\")\n",
    "    txt_fname = \"description.tsv\"\n",
    "    txt_fpath = file.path(txt_fdiry, txt_fname)\n",
    "    dat_cname = read_tsv(txt_fpath, show_col_types = FALSE)\n",
    "    vec_txt_cname_A = dat_cname$Name\n",
    "\n",
    "    ###\n",
    "    cat(txt_region_folder_A, \"\\n\")\n",
    "    print(vec_txt_cname_A)\n",
    "    cat(\"\\n\")\n",
    "}"
   ]
  },
  {
   "cell_type": "code",
   "execution_count": 7,
   "id": "2b5cfbc7-6639-44e6-9264-6d3aa1f94d30",
   "metadata": {},
   "outputs": [
    {
     "name": "stdout",
     "output_type": "stream",
     "text": [
      "encode_chromatin_states \n",
      "[1] \"Chrom\"      \"ChromStart\" \"ChromEnd\"   \"Name\"       \"Group\"     \n",
      "[6] \"Label\"     \n",
      "\n",
      "fcc_astarr_csaw \n",
      " [1] \"Chrom\"            \"ChromStart\"       \"ChromEnd\"         \"Name\"            \n",
      " [5] \"Score\"            \"Strand\"           \"Log2FC\"           \"Input_CPM\"       \n",
      " [9] \"Output_CPM\"       \"MinusLog10PValue\" \"MinusLog10QValue\" \"Group\"           \n",
      "[13] \"Label\"           \n",
      "\n",
      "fcc_crispri_hcrff \n",
      "[1] \"Chrom\"        \"ChromStart\"   \"ChromEnd\"     \"Name\"         \"Score\"       \n",
      "[6] \"Gene_Symbol\"  \"Gene_Ensembl\" \"Group\"        \"Label\"       \n",
      "\n",
      "genome_tss \n",
      "[1] \"Chrom\"      \"ChromStart\" \"ChromEnd\"   \"Name\"       \"Score\"     \n",
      "[6] \"Group\"      \"Label\"     \n",
      "\n",
      "hic_insitu_K562_ENCSR545YBD \n",
      "[1] \"Chrom\"      \"ChromStart\" \"ChromEnd\"   \"Name\"       \"Group\"     \n",
      "[6] \"Label\"     \n",
      "\n",
      "hic_intact_K562_deep \n",
      "[1] \"Chrom\"      \"ChromStart\" \"ChromEnd\"   \"Name\"       \"Group\"     \n",
      "[6] \"Label\"     \n",
      "\n",
      "hic_intact_K562_ENCSR479XDG \n",
      "[1] \"Chrom\"      \"ChromStart\" \"ChromEnd\"   \"Name\"       \"Group\"     \n",
      "[6] \"Label\"      \"Note\"      \n",
      "\n"
     ]
    }
   ],
   "source": [
    "dat = dat_region_label_B\n",
    "vec = unique(dat$Folder)\n",
    "vec_txt_region_folder_B = vec\n",
    "\n",
    "for (txt_region_folder_B in vec_txt_region_folder_B){\n",
    "    ###\n",
    "    txt_fdiry = file.path(FD_RES, \"region\", txt_region_folder_B, \"summary\")\n",
    "    txt_fname = \"description.tsv\"\n",
    "    txt_fpath = file.path(txt_fdiry, txt_fname)\n",
    "    dat_cname = read_tsv(txt_fpath, show_col_types = FALSE)\n",
    "    vec_txt_cname_B = dat_cname$Name\n",
    "\n",
    "    ###\n",
    "    cat(txt_region_folder_B, \"\\n\")\n",
    "    print(vec_txt_cname_B)\n",
    "    cat(\"\\n\")\n",
    "}"
   ]
  },
  {
   "cell_type": "markdown",
   "id": "bd28b8ce-c6f3-4bfd-b5af-f6fe4dea08d9",
   "metadata": {},
   "source": [
    "## Main"
   ]
  },
  {
   "cell_type": "markdown",
   "id": "e07adb07-d2a8-4aea-af4c-de3e5c6d9aee",
   "metadata": {},
   "source": [
    "**init**"
   ]
  },
  {
   "cell_type": "code",
   "execution_count": 10,
   "id": "0414bdca-f109-4103-8fb5-4f8d391f31ef",
   "metadata": {},
   "outputs": [
    {
     "data": {
      "text/html": [
       "<dl>\n",
       "\t<dt>$`1`</dt>\n",
       "\t\t<dd><dl>\n",
       "\t<dt>$Folder</dt>\n",
       "\t\t<dd>'fcc_astarr_macs'</dd>\n",
       "\t<dt>$FName</dt>\n",
       "\t\t<dd>'ASTARRseq_K562_KS91.hg38.Input.rep_all.max_overlaps.q5.bed.gz'</dd>\n",
       "\t<dt>$Label</dt>\n",
       "\t\t<dd>'fcc_astarr_macs_input_overlap'</dd>\n",
       "</dl>\n",
       "</dd>\n",
       "\t<dt>$`2`</dt>\n",
       "\t\t<dd><dl>\n",
       "\t<dt>$Folder</dt>\n",
       "\t\t<dd>'fcc_astarr_macs'</dd>\n",
       "\t<dt>$FName</dt>\n",
       "\t\t<dd>'ASTARRseq_K562_KS91.hg38.Input.rep_all.union.q5.bed.gz'</dd>\n",
       "\t<dt>$Label</dt>\n",
       "\t\t<dd>'fcc_astarr_macs_input_union'</dd>\n",
       "</dl>\n",
       "</dd>\n",
       "</dl>\n"
      ],
      "text/latex": [
       "\\begin{description}\n",
       "\\item[\\$`1`] \\begin{description}\n",
       "\\item[\\$Folder] 'fcc\\_astarr\\_macs'\n",
       "\\item[\\$FName] 'ASTARRseq\\_K562\\_KS91.hg38.Input.rep\\_all.max\\_overlaps.q5.bed.gz'\n",
       "\\item[\\$Label] 'fcc\\_astarr\\_macs\\_input\\_overlap'\n",
       "\\end{description}\n",
       "\n",
       "\\item[\\$`2`] \\begin{description}\n",
       "\\item[\\$Folder] 'fcc\\_astarr\\_macs'\n",
       "\\item[\\$FName] 'ASTARRseq\\_K562\\_KS91.hg38.Input.rep\\_all.union.q5.bed.gz'\n",
       "\\item[\\$Label] 'fcc\\_astarr\\_macs\\_input\\_union'\n",
       "\\end{description}\n",
       "\n",
       "\\end{description}\n"
      ],
      "text/markdown": [
       "$`1`\n",
       ":   $Folder\n",
       ":   'fcc_astarr_macs'\n",
       "$FName\n",
       ":   'ASTARRseq_K562_KS91.hg38.Input.rep_all.max_overlaps.q5.bed.gz'\n",
       "$Label\n",
       ":   'fcc_astarr_macs_input_overlap'\n",
       "\n",
       "\n",
       "\n",
       "$`2`\n",
       ":   $Folder\n",
       ":   'fcc_astarr_macs'\n",
       "$FName\n",
       ":   'ASTARRseq_K562_KS91.hg38.Input.rep_all.union.q5.bed.gz'\n",
       "$Label\n",
       ":   'fcc_astarr_macs_input_union'\n",
       "\n",
       "\n",
       "\n",
       "\n",
       "\n"
      ],
      "text/plain": [
       "$`1`\n",
       "$`1`$Folder\n",
       "[1] \"fcc_astarr_macs\"\n",
       "\n",
       "$`1`$FName\n",
       "[1] \"ASTARRseq_K562_KS91.hg38.Input.rep_all.max_overlaps.q5.bed.gz\"\n",
       "\n",
       "$`1`$Label\n",
       "[1] \"fcc_astarr_macs_input_overlap\"\n",
       "\n",
       "\n",
       "$`2`\n",
       "$`2`$Folder\n",
       "[1] \"fcc_astarr_macs\"\n",
       "\n",
       "$`2`$FName\n",
       "[1] \"ASTARRseq_K562_KS91.hg38.Input.rep_all.union.q5.bed.gz\"\n",
       "\n",
       "$`2`$Label\n",
       "[1] \"fcc_astarr_macs_input_union\"\n",
       "\n"
      ]
     },
     "metadata": {},
     "output_type": "display_data"
    }
   ],
   "source": [
    "dat = dat_region_label_A\n",
    "lst = split(dat, 1:nrow(dat))\n",
    "lst = lapply(lst, as.list)\n",
    "lst_region_label_A = lst[1]\n",
    "lst"
   ]
  },
  {
   "cell_type": "code",
   "execution_count": 11,
   "id": "49028d3b-d008-4ec8-a77c-03a488168bad",
   "metadata": {},
   "outputs": [
    {
     "data": {
      "text/html": [
       "<style>\n",
       ".list-inline {list-style: none; margin:0; padding: 0}\n",
       ".list-inline>li {display: inline-block}\n",
       ".list-inline>li:not(:last-child)::after {content: \"\\00b7\"; padding: 0 .5ex}\n",
       "</style>\n",
       "<ol class=list-inline><li>'encode_chromatin_states'</li><li>'fcc_astarr_csaw'</li><li>'fcc_crispri_hcrff'</li><li>'genome_tss'</li></ol>\n"
      ],
      "text/latex": [
       "\\begin{enumerate*}\n",
       "\\item 'encode\\_chromatin\\_states'\n",
       "\\item 'fcc\\_astarr\\_csaw'\n",
       "\\item 'fcc\\_crispri\\_hcrff'\n",
       "\\item 'genome\\_tss'\n",
       "\\end{enumerate*}\n"
      ],
      "text/markdown": [
       "1. 'encode_chromatin_states'\n",
       "2. 'fcc_astarr_csaw'\n",
       "3. 'fcc_crispri_hcrff'\n",
       "4. 'genome_tss'\n",
       "\n",
       "\n"
      ],
      "text/plain": [
       "[1] \"encode_chromatin_states\" \"fcc_astarr_csaw\"        \n",
       "[3] \"fcc_crispri_hcrff\"       \"genome_tss\"             "
      ]
     },
     "metadata": {},
     "output_type": "display_data"
    }
   ],
   "source": [
    "dat = dat_region_label_B\n",
    "vec = unique(dat$Folder)\n",
    "idx = str_detect(vec, \"hic\")\n",
    "vec = vec[!idx]\n",
    "vec_txt_region_folder_B = vec[1]\n",
    "vec"
   ]
  },
  {
   "cell_type": "markdown",
   "id": "4614f31f-6cee-4f1b-96fc-d23b1e88e641",
   "metadata": {},
   "source": [
    "**Loop**"
   ]
  },
  {
   "cell_type": "code",
   "execution_count": 12,
   "id": "a7028241-e969-4957-9980-e1b9e35ba080",
   "metadata": {},
   "outputs": [
    {
     "name": "stdout",
     "output_type": "stream",
     "text": [
      "===========================================\n",
      "Read annotation... \n",
      "Region A: fcc_astarr_macs | fcc_astarr_macs_input_overlap \n",
      "Region B: encode_chromatin_states \n",
      "FDiry:    /mount/repo/Proj_ENCODE_FCC/results/region_annotation/fcc_astarr_macs_input_overlap/encode_chromatin_states \n",
      "FName:    \n",
      "[1] \"fcc_astarr_macs_input_overlap.encode_ccres_ENCFF286VQG.bed.gz\"   \n",
      "[2] \"fcc_astarr_macs_input_overlap.encode_ccres_silencer_rest.bed.gz\" \n",
      "[3] \"fcc_astarr_macs_input_overlap.encode_ccres_silencer_starr.bed.gz\"\n",
      "[4] \"fcc_astarr_macs_input_overlap.encode_chromhmm_ENCFF106BGJ.bed.gz\"\n",
      "\n",
      "Save annotation... \n",
      "FDiry:  /mount/repo/Proj_ENCODE_FCC/results/region_annotation/fcc_astarr_macs_input_overlap/summary \n",
      "FName1: region.annotation.encode_chromatin_states.tsv \n",
      "FName2: region.summary.encode_chromatin_states.tsv \n",
      "\n"
     ]
    }
   ],
   "source": [
    "###\n",
    "for (idx in seq_along(lst_region_label_A)){\n",
    "    ###\n",
    "    lst = lst_region_label_A[[idx]]\n",
    "    txt_region_folder_A = lst$Folder\n",
    "    txt_region_label_A  = lst$Label\n",
    "\n",
    "    ###\n",
    "    txt_fdiry = file.path(FD_RES, \"region\", txt_region_folder_A, \"summary\")\n",
    "    txt_fname = \"description.tsv\"\n",
    "    txt_fpath = file.path(txt_fdiry, txt_fname)\n",
    "    dat_cname = read_tsv(txt_fpath, show_col_types = FALSE)\n",
    "    vec_txt_cname_A = dat_cname$Name\n",
    "\n",
    "    for (txt_region_folder_B in vec_txt_region_folder_B){\n",
    "        ###\n",
    "        txt_fdiry = file.path(FD_RES, \"region\", txt_region_folder_B, \"summary\")\n",
    "        txt_fname = \"description.tsv\"\n",
    "        txt_fpath = file.path(txt_fdiry, txt_fname)\n",
    "        dat_cname = read_tsv(txt_fpath, show_col_types = FALSE)\n",
    "        vec_txt_cname_B = dat_cname$Name\n",
    "\n",
    "        ###\n",
    "        vec_txt_cname = c(\n",
    "            paste0(vec_txt_cname_A, \"_A\"),\n",
    "            paste0(vec_txt_cname_B, \"_B\"),\n",
    "            \"Overlap\"\n",
    "        )\n",
    "        \n",
    "        ###\n",
    "        txt_fdiry = file.path(\n",
    "            FD_RES, \n",
    "            \"region_annotation\",\n",
    "            txt_region_label_A, \n",
    "            txt_region_folder_B\n",
    "        )\n",
    "        txt_fname = \"*bed.gz\"\n",
    "        txt_fglob = file.path(txt_fdiry, txt_fname)\n",
    "        \n",
    "        vec_txt_fpath = Sys.glob(txt_fglob)\n",
    "        vec_txt_fname = basename(vec_txt_fpath)\n",
    "\n",
    "        ### show progress\n",
    "        cat(\"===========================================\\n\")\n",
    "        cat(\"Read annotation...\", \"\\n\")\n",
    "        cat(\"Region A:\", txt_region_folder_A, \"|\", txt_region_label_A, \"\\n\")\n",
    "        cat(\"Region B:\", txt_region_folder_B, \"\\n\")\n",
    "        cat(\"FDiry:   \", txt_fdiry, \"\\n\")\n",
    "        cat(\"FName:   \", \"\\n\")\n",
    "        print(vec_txt_fname)\n",
    "        cat(\"\\n\")\n",
    "        flush.console()\n",
    "        \n",
    "        ###\n",
    "        lst = lapply(vec_txt_fname, function(txt_fname){\n",
    "            ###\n",
    "            txt_fpath = file.path(txt_fdiry, txt_fname)\n",
    "            \n",
    "            ###\n",
    "            vec = str_split(txt_fname, \"\\\\.\")[[1]]\n",
    "            txt_annot_A = vec[1]\n",
    "            txt_annot_B = vec[2]\n",
    "\n",
    "            ###\n",
    "            dat = read_tsv(txt_fpath, col_names = vec_txt_cname, show_col_types = FALSE)\n",
    "            dat = dat %>% \n",
    "                dplyr::mutate(\n",
    "                    Region_A = fun_gen_region(Chrom_A, ChromStart_A, ChromEnd_A),\n",
    "                    Region_B = fun_gen_region(Chrom_B, ChromStart_B, ChromEnd_B),\n",
    "                    Annotation_A = txt_annot_A,\n",
    "                    Annotation_B = txt_annot_B\n",
    "                )\n",
    "            return(dat)\n",
    "        }) \n",
    "\n",
    "        ###\n",
    "        dat = bind_rows(lst)\n",
    "        dat_region_annot_pair = dat\n",
    "        \n",
    "        ###\n",
    "        dat = dat_region_annot_pair\n",
    "        dat = dat %>%\n",
    "            dplyr::group_by(\n",
    "                Chrom_A, ChromStart_A, ChromEnd_A, Region_A,\n",
    "                Annotation_A,\n",
    "                Annotation_B,\n",
    "                Group_B, \n",
    "                Label_B\n",
    "            ) %>%\n",
    "            dplyr::summarise(\n",
    "                Region_B = paste(Region_B, collapse=\";\"),\n",
    "                Count  = n(),\n",
    "                .groups = \"drop\")\n",
    "        dat_region_annot_summary = dat\n",
    "\n",
    "\n",
    "       ###\n",
    "        txt_fdiry = file.path(\n",
    "            FD_RES, \n",
    "            \"region_annotation\",\n",
    "            txt_region_label_A,\n",
    "            \"summary\"\n",
    "        )\n",
    "        txt_fname1 = paste(\"region\", \"annotation\", txt_region_folder_B, \"tsv\", sep = \".\")\n",
    "        txt_fpath1 = file.path(txt_fdiry, txt_fname1)\n",
    "        txt_fname2 = paste(\"region\", \"summary\",    txt_region_folder_B, \"tsv\", sep = \".\")\n",
    "        txt_fpath2 = file.path(txt_fdiry, txt_fname2)\n",
    "        \n",
    "        ### show progress\n",
    "        cat(\"Save annotation...\",  \"\\n\")\n",
    "        cat(\"FDiry: \", txt_fdiry, \"\\n\")\n",
    "        cat(\"FName1:\", txt_fname1, \"\\n\")\n",
    "        cat(\"FName2:\", txt_fname2, \"\\n\")\n",
    "        cat(\"\\n\")\n",
    "        flush.console()\n",
    "        \n",
    "        dir.create(txt_fdiry, showWarnings = FALSE)\n",
    "        #write_tsv(dat_region_annot_pair,    txt_fpath1)\n",
    "        #write_tsv(dat_region_annot_summary, txt_fpath2)\n",
    "        \n",
    "        \n",
    "    } ### end loop region B\n",
    "} ### end loop region A"
   ]
  },
  {
   "cell_type": "code",
   "execution_count": 13,
   "id": "3cc1bb9b-dc83-4697-9960-50df5a99adda",
   "metadata": {},
   "outputs": [
    {
     "data": {
      "text/html": [
       "<table class=\"dataframe\">\n",
       "<caption>A tibble: 6 × 14</caption>\n",
       "<thead>\n",
       "\t<tr><th scope=col>Chrom_A</th><th scope=col>ChromStart_A</th><th scope=col>ChromEnd_A</th><th scope=col>Chrom_B</th><th scope=col>ChromStart_B</th><th scope=col>ChromEnd_B</th><th scope=col>Name_B</th><th scope=col>Group_B</th><th scope=col>Label_B</th><th scope=col>Overlap</th><th scope=col>Region_A</th><th scope=col>Region_B</th><th scope=col>Annotation_A</th><th scope=col>Annotation_B</th></tr>\n",
       "\t<tr><th scope=col>&lt;chr&gt;</th><th scope=col>&lt;dbl&gt;</th><th scope=col>&lt;dbl&gt;</th><th scope=col>&lt;chr&gt;</th><th scope=col>&lt;dbl&gt;</th><th scope=col>&lt;dbl&gt;</th><th scope=col>&lt;chr&gt;</th><th scope=col>&lt;chr&gt;</th><th scope=col>&lt;chr&gt;</th><th scope=col>&lt;dbl&gt;</th><th scope=col>&lt;chr&gt;</th><th scope=col>&lt;chr&gt;</th><th scope=col>&lt;chr&gt;</th><th scope=col>&lt;chr&gt;</th></tr>\n",
       "</thead>\n",
       "<tbody>\n",
       "\t<tr><td>chr1</td><td> 10038</td><td> 10405</td><td>chr1</td><td> 10033</td><td> 10250</td><td>EH38E2776516</td><td>cCREs</td><td>Low-DNase</td><td>212</td><td>chr1:    10038-    10405</td><td>chr1:    10033-    10250</td><td>fcc_astarr_macs_input_overlap</td><td>encode_ccres_ENCFF286VQG</td></tr>\n",
       "\t<tr><td>chr1</td><td> 10038</td><td> 10405</td><td>chr1</td><td> 10385</td><td> 10713</td><td>EH38E2776517</td><td>cCREs</td><td>Low-DNase</td><td> 20</td><td>chr1:    10038-    10405</td><td>chr1:    10385-    10713</td><td>fcc_astarr_macs_input_overlap</td><td>encode_ccres_ENCFF286VQG</td></tr>\n",
       "\t<tr><td>chr1</td><td> 16025</td><td> 16338</td><td>chr1</td><td> 16097</td><td> 16381</td><td>EH38E3951272</td><td>cCREs</td><td>Low-DNase</td><td>241</td><td>chr1:    16025-    16338</td><td>chr1:    16097-    16381</td><td>fcc_astarr_macs_input_overlap</td><td>encode_ccres_ENCFF286VQG</td></tr>\n",
       "\t<tr><td>chr1</td><td> 17288</td><td> 17689</td><td>chr1</td><td> 17343</td><td> 17642</td><td>EH38E3951273</td><td>cCREs</td><td>Low-DNase</td><td>299</td><td>chr1:    17288-    17689</td><td>chr1:    17343-    17642</td><td>fcc_astarr_macs_input_overlap</td><td>encode_ccres_ENCFF286VQG</td></tr>\n",
       "\t<tr><td>chr1</td><td> 28934</td><td> 29499</td><td>chr1</td><td> 29320</td><td> 29517</td><td>EH38E3951274</td><td>cCREs</td><td>Low-DNase</td><td>179</td><td>chr1:    28934-    29499</td><td>chr1:    29320-    29517</td><td>fcc_astarr_macs_input_overlap</td><td>encode_ccres_ENCFF286VQG</td></tr>\n",
       "\t<tr><td>chr1</td><td>115429</td><td>115969</td><td>chr1</td><td>115562</td><td>115912</td><td>EH38E3951280</td><td>cCREs</td><td>CA-CTCF  </td><td>350</td><td>chr1:   115429-   115969</td><td>chr1:   115562-   115912</td><td>fcc_astarr_macs_input_overlap</td><td>encode_ccres_ENCFF286VQG</td></tr>\n",
       "</tbody>\n",
       "</table>\n"
      ],
      "text/latex": [
       "A tibble: 6 × 14\n",
       "\\begin{tabular}{llllllllllllll}\n",
       " Chrom\\_A & ChromStart\\_A & ChromEnd\\_A & Chrom\\_B & ChromStart\\_B & ChromEnd\\_B & Name\\_B & Group\\_B & Label\\_B & Overlap & Region\\_A & Region\\_B & Annotation\\_A & Annotation\\_B\\\\\n",
       " <chr> & <dbl> & <dbl> & <chr> & <dbl> & <dbl> & <chr> & <chr> & <chr> & <dbl> & <chr> & <chr> & <chr> & <chr>\\\\\n",
       "\\hline\n",
       "\t chr1 &  10038 &  10405 & chr1 &  10033 &  10250 & EH38E2776516 & cCREs & Low-DNase & 212 & chr1:    10038-    10405 & chr1:    10033-    10250 & fcc\\_astarr\\_macs\\_input\\_overlap & encode\\_ccres\\_ENCFF286VQG\\\\\n",
       "\t chr1 &  10038 &  10405 & chr1 &  10385 &  10713 & EH38E2776517 & cCREs & Low-DNase &  20 & chr1:    10038-    10405 & chr1:    10385-    10713 & fcc\\_astarr\\_macs\\_input\\_overlap & encode\\_ccres\\_ENCFF286VQG\\\\\n",
       "\t chr1 &  16025 &  16338 & chr1 &  16097 &  16381 & EH38E3951272 & cCREs & Low-DNase & 241 & chr1:    16025-    16338 & chr1:    16097-    16381 & fcc\\_astarr\\_macs\\_input\\_overlap & encode\\_ccres\\_ENCFF286VQG\\\\\n",
       "\t chr1 &  17288 &  17689 & chr1 &  17343 &  17642 & EH38E3951273 & cCREs & Low-DNase & 299 & chr1:    17288-    17689 & chr1:    17343-    17642 & fcc\\_astarr\\_macs\\_input\\_overlap & encode\\_ccres\\_ENCFF286VQG\\\\\n",
       "\t chr1 &  28934 &  29499 & chr1 &  29320 &  29517 & EH38E3951274 & cCREs & Low-DNase & 179 & chr1:    28934-    29499 & chr1:    29320-    29517 & fcc\\_astarr\\_macs\\_input\\_overlap & encode\\_ccres\\_ENCFF286VQG\\\\\n",
       "\t chr1 & 115429 & 115969 & chr1 & 115562 & 115912 & EH38E3951280 & cCREs & CA-CTCF   & 350 & chr1:   115429-   115969 & chr1:   115562-   115912 & fcc\\_astarr\\_macs\\_input\\_overlap & encode\\_ccres\\_ENCFF286VQG\\\\\n",
       "\\end{tabular}\n"
      ],
      "text/markdown": [
       "\n",
       "A tibble: 6 × 14\n",
       "\n",
       "| Chrom_A &lt;chr&gt; | ChromStart_A &lt;dbl&gt; | ChromEnd_A &lt;dbl&gt; | Chrom_B &lt;chr&gt; | ChromStart_B &lt;dbl&gt; | ChromEnd_B &lt;dbl&gt; | Name_B &lt;chr&gt; | Group_B &lt;chr&gt; | Label_B &lt;chr&gt; | Overlap &lt;dbl&gt; | Region_A &lt;chr&gt; | Region_B &lt;chr&gt; | Annotation_A &lt;chr&gt; | Annotation_B &lt;chr&gt; |\n",
       "|---|---|---|---|---|---|---|---|---|---|---|---|---|---|\n",
       "| chr1 |  10038 |  10405 | chr1 |  10033 |  10250 | EH38E2776516 | cCREs | Low-DNase | 212 | chr1:    10038-    10405 | chr1:    10033-    10250 | fcc_astarr_macs_input_overlap | encode_ccres_ENCFF286VQG |\n",
       "| chr1 |  10038 |  10405 | chr1 |  10385 |  10713 | EH38E2776517 | cCREs | Low-DNase |  20 | chr1:    10038-    10405 | chr1:    10385-    10713 | fcc_astarr_macs_input_overlap | encode_ccres_ENCFF286VQG |\n",
       "| chr1 |  16025 |  16338 | chr1 |  16097 |  16381 | EH38E3951272 | cCREs | Low-DNase | 241 | chr1:    16025-    16338 | chr1:    16097-    16381 | fcc_astarr_macs_input_overlap | encode_ccres_ENCFF286VQG |\n",
       "| chr1 |  17288 |  17689 | chr1 |  17343 |  17642 | EH38E3951273 | cCREs | Low-DNase | 299 | chr1:    17288-    17689 | chr1:    17343-    17642 | fcc_astarr_macs_input_overlap | encode_ccres_ENCFF286VQG |\n",
       "| chr1 |  28934 |  29499 | chr1 |  29320 |  29517 | EH38E3951274 | cCREs | Low-DNase | 179 | chr1:    28934-    29499 | chr1:    29320-    29517 | fcc_astarr_macs_input_overlap | encode_ccres_ENCFF286VQG |\n",
       "| chr1 | 115429 | 115969 | chr1 | 115562 | 115912 | EH38E3951280 | cCREs | CA-CTCF   | 350 | chr1:   115429-   115969 | chr1:   115562-   115912 | fcc_astarr_macs_input_overlap | encode_ccres_ENCFF286VQG |\n",
       "\n"
      ],
      "text/plain": [
       "  Chrom_A ChromStart_A ChromEnd_A Chrom_B ChromStart_B ChromEnd_B Name_B      \n",
       "1 chr1     10038        10405     chr1     10033        10250     EH38E2776516\n",
       "2 chr1     10038        10405     chr1     10385        10713     EH38E2776517\n",
       "3 chr1     16025        16338     chr1     16097        16381     EH38E3951272\n",
       "4 chr1     17288        17689     chr1     17343        17642     EH38E3951273\n",
       "5 chr1     28934        29499     chr1     29320        29517     EH38E3951274\n",
       "6 chr1    115429       115969     chr1    115562       115912     EH38E3951280\n",
       "  Group_B Label_B   Overlap Region_A                 Region_B                \n",
       "1 cCREs   Low-DNase 212     chr1:    10038-    10405 chr1:    10033-    10250\n",
       "2 cCREs   Low-DNase  20     chr1:    10038-    10405 chr1:    10385-    10713\n",
       "3 cCREs   Low-DNase 241     chr1:    16025-    16338 chr1:    16097-    16381\n",
       "4 cCREs   Low-DNase 299     chr1:    17288-    17689 chr1:    17343-    17642\n",
       "5 cCREs   Low-DNase 179     chr1:    28934-    29499 chr1:    29320-    29517\n",
       "6 cCREs   CA-CTCF   350     chr1:   115429-   115969 chr1:   115562-   115912\n",
       "  Annotation_A                  Annotation_B            \n",
       "1 fcc_astarr_macs_input_overlap encode_ccres_ENCFF286VQG\n",
       "2 fcc_astarr_macs_input_overlap encode_ccres_ENCFF286VQG\n",
       "3 fcc_astarr_macs_input_overlap encode_ccres_ENCFF286VQG\n",
       "4 fcc_astarr_macs_input_overlap encode_ccres_ENCFF286VQG\n",
       "5 fcc_astarr_macs_input_overlap encode_ccres_ENCFF286VQG\n",
       "6 fcc_astarr_macs_input_overlap encode_ccres_ENCFF286VQG"
      ]
     },
     "metadata": {},
     "output_type": "display_data"
    }
   ],
   "source": [
    "head(dat_region_annot_pair)"
   ]
  },
  {
   "cell_type": "code",
   "execution_count": 14,
   "id": "8905ab16-b683-4ef3-a0f1-9b573f67dfea",
   "metadata": {},
   "outputs": [
    {
     "data": {
      "text/html": [
       "<table class=\"dataframe\">\n",
       "<caption>A tibble: 6 × 10</caption>\n",
       "<thead>\n",
       "\t<tr><th scope=col>Chrom_A</th><th scope=col>ChromStart_A</th><th scope=col>ChromEnd_A</th><th scope=col>Region_A</th><th scope=col>Annotation_A</th><th scope=col>Annotation_B</th><th scope=col>Group_B</th><th scope=col>Label_B</th><th scope=col>Region_B</th><th scope=col>Count</th></tr>\n",
       "\t<tr><th scope=col>&lt;chr&gt;</th><th scope=col>&lt;dbl&gt;</th><th scope=col>&lt;dbl&gt;</th><th scope=col>&lt;chr&gt;</th><th scope=col>&lt;chr&gt;</th><th scope=col>&lt;chr&gt;</th><th scope=col>&lt;chr&gt;</th><th scope=col>&lt;chr&gt;</th><th scope=col>&lt;chr&gt;</th><th scope=col>&lt;int&gt;</th></tr>\n",
       "</thead>\n",
       "<tbody>\n",
       "\t<tr><td>chr1</td><td>10038</td><td>10405</td><td>chr1:    10038-    10405</td><td>fcc_astarr_macs_input_overlap</td><td>encode_ccres_ENCFF286VQG   </td><td>cCREs   </td><td>Low-DNase</td><td>chr1:    10033-    10250;chr1:    10385-    10713</td><td>2</td></tr>\n",
       "\t<tr><td>chr1</td><td>10038</td><td>10405</td><td>chr1:    10038-    10405</td><td>fcc_astarr_macs_input_overlap</td><td>encode_chromhmm_ENCFF106BGJ</td><td>ChromHMM</td><td>Quies    </td><td>chr1:        0-    16000                         </td><td>1</td></tr>\n",
       "\t<tr><td>chr1</td><td>14282</td><td>14614</td><td>chr1:    14282-    14614</td><td>fcc_astarr_macs_input_overlap</td><td>encode_chromhmm_ENCFF106BGJ</td><td>ChromHMM</td><td>Quies    </td><td>chr1:        0-    16000                         </td><td>1</td></tr>\n",
       "\t<tr><td>chr1</td><td>16025</td><td>16338</td><td>chr1:    16025-    16338</td><td>fcc_astarr_macs_input_overlap</td><td>encode_ccres_ENCFF286VQG   </td><td>cCREs   </td><td>Low-DNase</td><td>chr1:    16097-    16381                         </td><td>1</td></tr>\n",
       "\t<tr><td>chr1</td><td>16025</td><td>16338</td><td>chr1:    16025-    16338</td><td>fcc_astarr_macs_input_overlap</td><td>encode_chromhmm_ENCFF106BGJ</td><td>ChromHMM</td><td>Quies    </td><td>chr1:    16200-    17400                         </td><td>1</td></tr>\n",
       "\t<tr><td>chr1</td><td>16025</td><td>16338</td><td>chr1:    16025-    16338</td><td>fcc_astarr_macs_input_overlap</td><td>encode_chromhmm_ENCFF106BGJ</td><td>ChromHMM</td><td>TxWk     </td><td>chr1:    16000-    16200                         </td><td>1</td></tr>\n",
       "</tbody>\n",
       "</table>\n"
      ],
      "text/latex": [
       "A tibble: 6 × 10\n",
       "\\begin{tabular}{llllllllll}\n",
       " Chrom\\_A & ChromStart\\_A & ChromEnd\\_A & Region\\_A & Annotation\\_A & Annotation\\_B & Group\\_B & Label\\_B & Region\\_B & Count\\\\\n",
       " <chr> & <dbl> & <dbl> & <chr> & <chr> & <chr> & <chr> & <chr> & <chr> & <int>\\\\\n",
       "\\hline\n",
       "\t chr1 & 10038 & 10405 & chr1:    10038-    10405 & fcc\\_astarr\\_macs\\_input\\_overlap & encode\\_ccres\\_ENCFF286VQG    & cCREs    & Low-DNase & chr1:    10033-    10250;chr1:    10385-    10713 & 2\\\\\n",
       "\t chr1 & 10038 & 10405 & chr1:    10038-    10405 & fcc\\_astarr\\_macs\\_input\\_overlap & encode\\_chromhmm\\_ENCFF106BGJ & ChromHMM & Quies     & chr1:        0-    16000                          & 1\\\\\n",
       "\t chr1 & 14282 & 14614 & chr1:    14282-    14614 & fcc\\_astarr\\_macs\\_input\\_overlap & encode\\_chromhmm\\_ENCFF106BGJ & ChromHMM & Quies     & chr1:        0-    16000                          & 1\\\\\n",
       "\t chr1 & 16025 & 16338 & chr1:    16025-    16338 & fcc\\_astarr\\_macs\\_input\\_overlap & encode\\_ccres\\_ENCFF286VQG    & cCREs    & Low-DNase & chr1:    16097-    16381                          & 1\\\\\n",
       "\t chr1 & 16025 & 16338 & chr1:    16025-    16338 & fcc\\_astarr\\_macs\\_input\\_overlap & encode\\_chromhmm\\_ENCFF106BGJ & ChromHMM & Quies     & chr1:    16200-    17400                          & 1\\\\\n",
       "\t chr1 & 16025 & 16338 & chr1:    16025-    16338 & fcc\\_astarr\\_macs\\_input\\_overlap & encode\\_chromhmm\\_ENCFF106BGJ & ChromHMM & TxWk      & chr1:    16000-    16200                          & 1\\\\\n",
       "\\end{tabular}\n"
      ],
      "text/markdown": [
       "\n",
       "A tibble: 6 × 10\n",
       "\n",
       "| Chrom_A &lt;chr&gt; | ChromStart_A &lt;dbl&gt; | ChromEnd_A &lt;dbl&gt; | Region_A &lt;chr&gt; | Annotation_A &lt;chr&gt; | Annotation_B &lt;chr&gt; | Group_B &lt;chr&gt; | Label_B &lt;chr&gt; | Region_B &lt;chr&gt; | Count &lt;int&gt; |\n",
       "|---|---|---|---|---|---|---|---|---|---|\n",
       "| chr1 | 10038 | 10405 | chr1:    10038-    10405 | fcc_astarr_macs_input_overlap | encode_ccres_ENCFF286VQG    | cCREs    | Low-DNase | chr1:    10033-    10250;chr1:    10385-    10713 | 2 |\n",
       "| chr1 | 10038 | 10405 | chr1:    10038-    10405 | fcc_astarr_macs_input_overlap | encode_chromhmm_ENCFF106BGJ | ChromHMM | Quies     | chr1:        0-    16000                          | 1 |\n",
       "| chr1 | 14282 | 14614 | chr1:    14282-    14614 | fcc_astarr_macs_input_overlap | encode_chromhmm_ENCFF106BGJ | ChromHMM | Quies     | chr1:        0-    16000                          | 1 |\n",
       "| chr1 | 16025 | 16338 | chr1:    16025-    16338 | fcc_astarr_macs_input_overlap | encode_ccres_ENCFF286VQG    | cCREs    | Low-DNase | chr1:    16097-    16381                          | 1 |\n",
       "| chr1 | 16025 | 16338 | chr1:    16025-    16338 | fcc_astarr_macs_input_overlap | encode_chromhmm_ENCFF106BGJ | ChromHMM | Quies     | chr1:    16200-    17400                          | 1 |\n",
       "| chr1 | 16025 | 16338 | chr1:    16025-    16338 | fcc_astarr_macs_input_overlap | encode_chromhmm_ENCFF106BGJ | ChromHMM | TxWk      | chr1:    16000-    16200                          | 1 |\n",
       "\n"
      ],
      "text/plain": [
       "  Chrom_A ChromStart_A ChromEnd_A Region_A                \n",
       "1 chr1    10038        10405      chr1:    10038-    10405\n",
       "2 chr1    10038        10405      chr1:    10038-    10405\n",
       "3 chr1    14282        14614      chr1:    14282-    14614\n",
       "4 chr1    16025        16338      chr1:    16025-    16338\n",
       "5 chr1    16025        16338      chr1:    16025-    16338\n",
       "6 chr1    16025        16338      chr1:    16025-    16338\n",
       "  Annotation_A                  Annotation_B                Group_B  Label_B  \n",
       "1 fcc_astarr_macs_input_overlap encode_ccres_ENCFF286VQG    cCREs    Low-DNase\n",
       "2 fcc_astarr_macs_input_overlap encode_chromhmm_ENCFF106BGJ ChromHMM Quies    \n",
       "3 fcc_astarr_macs_input_overlap encode_chromhmm_ENCFF106BGJ ChromHMM Quies    \n",
       "4 fcc_astarr_macs_input_overlap encode_ccres_ENCFF286VQG    cCREs    Low-DNase\n",
       "5 fcc_astarr_macs_input_overlap encode_chromhmm_ENCFF106BGJ ChromHMM Quies    \n",
       "6 fcc_astarr_macs_input_overlap encode_chromhmm_ENCFF106BGJ ChromHMM TxWk     \n",
       "  Region_B                                          Count\n",
       "1 chr1:    10033-    10250;chr1:    10385-    10713 2    \n",
       "2 chr1:        0-    16000                          1    \n",
       "3 chr1:        0-    16000                          1    \n",
       "4 chr1:    16097-    16381                          1    \n",
       "5 chr1:    16200-    17400                          1    \n",
       "6 chr1:    16000-    16200                          1    "
      ]
     },
     "metadata": {},
     "output_type": "display_data"
    }
   ],
   "source": [
    "head(dat_region_annot_summary)"
   ]
  },
  {
   "cell_type": "code",
   "execution_count": null,
   "id": "ddc6fbfd-bba2-4e8c-8b90-d4dd50d2497d",
   "metadata": {},
   "outputs": [],
   "source": []
  },
  {
   "cell_type": "code",
   "execution_count": null,
   "id": "a22dd2ff-3d0f-4ee7-9a87-b4ef0752c830",
   "metadata": {},
   "outputs": [],
   "source": []
  },
  {
   "cell_type": "code",
   "execution_count": null,
   "id": "93718a51-6bde-4e52-a375-f4488bf85c3d",
   "metadata": {},
   "outputs": [],
   "source": []
  }
 ],
 "metadata": {
  "kernelspec": {
   "display_name": "R",
   "language": "R",
   "name": "ir"
  },
  "language_info": {
   "codemirror_mode": "r",
   "file_extension": ".r",
   "mimetype": "text/x-r-source",
   "name": "R",
   "pygments_lexer": "r",
   "version": "4.4.0"
  }
 },
 "nbformat": 4,
 "nbformat_minor": 5
}
