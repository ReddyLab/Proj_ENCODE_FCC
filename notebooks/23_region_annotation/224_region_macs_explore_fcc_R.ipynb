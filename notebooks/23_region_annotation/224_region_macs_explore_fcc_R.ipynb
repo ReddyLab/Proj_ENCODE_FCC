{
 "cells": [
  {
   "cell_type": "raw",
   "id": "083d4d92-a75d-46eb-84bf-5e791a542122",
   "metadata": {},
   "source": [
    "---\n",
    "title: FCC Peak calls\n",
    "subtitle: export annotation\n",
    "format:\n",
    "    html:\n",
    "        code-fold:  true\n",
    "        code-tools: true\n",
    "---"
   ]
  },
  {
   "cell_type": "markdown",
   "id": "a7365301-dc73-4557-9444-2da5968b591b",
   "metadata": {},
   "source": [
    "**Set environment**"
   ]
  },
  {
   "cell_type": "code",
   "execution_count": 1,
   "id": "da88cc53-a7a3-4cfe-8029-fae11d2f4eb4",
   "metadata": {
    "tags": []
   },
   "outputs": [
    {
     "name": "stdout",
     "output_type": "stream",
     "text": [
      "You are working on        Singularity \n",
      "BASE DIRECTORY (FD_BASE): /mount \n",
      "REPO DIRECTORY (FD_REPO): /mount/repo \n",
      "WORK DIRECTORY (FD_WORK): /mount/work \n",
      "DATA DIRECTORY (FD_DATA): /mount/data \n",
      "\n",
      "You are working with      ENCODE FCC \n",
      "PATH OF PROJECT (FD_PRJ): /mount/repo/Proj_ENCODE_FCC \n",
      "PROJECT RESULTS (FD_RES): /mount/repo/Proj_ENCODE_FCC/results \n",
      "PROJECT SCRIPTS (FD_EXE): /mount/repo/Proj_ENCODE_FCC/scripts \n",
      "PROJECT DATA    (FD_DAT): /mount/repo/Proj_ENCODE_FCC/data \n",
      "PROJECT NOTE    (FD_NBK): /mount/repo/Proj_ENCODE_FCC/notebooks \n",
      "PROJECT DOCS    (FD_DOC): /mount/repo/Proj_ENCODE_FCC/docs \n",
      "PROJECT LOG     (FD_LOG): /mount/repo/Proj_ENCODE_FCC/log \n",
      "PROJECT APP     (FD_APP): /mount/repo/Proj_ENCODE_FCC/app \n",
      "PROJECT REF     (FD_REF): /mount/repo/Proj_ENCODE_FCC/references \n",
      "\n"
     ]
    }
   ],
   "source": [
    "suppressMessages(suppressWarnings(source(\"../run_config_project_sing.R\")))\n",
    "show_env()"
   ]
  },
  {
   "cell_type": "code",
   "execution_count": 3,
   "id": "05971cfe-8380-41c0-9ad7-765f12cafa2b",
   "metadata": {},
   "outputs": [
    {
     "name": "stdout",
     "output_type": "stream",
     "text": [
      "matrix.annotation.chipseq_flagship.tsv \n",
      "matrix.annotation.chipseq_full.tsv \n",
      "matrix.annotation.chipseq_histone.tsv \n",
      "matrix.annotation.chipseq_subset.tsv \n",
      "region.annotation.encode_chipseq_flagship.tsv \n",
      "region.annotation.encode_chipseq_histone.tsv \n",
      "region.annotation.encode_chipseq_subset.tsv \n",
      "region.annotation.encode_chromatin_states.tsv \n",
      "region.annotation.encode_e2g_benchmark.tsv \n",
      "region.annotation.fcc_astarr_csaw.tsv \n",
      "region.annotation.fcc_crispri_growth.tsv \n",
      "region.annotation.fcc_crispri_hcrff.tsv \n",
      "region.annotation.fcc_mpra_agarwal2023.tsv \n",
      "region.annotation.fcc_starrmpra_junke.tsv \n",
      "region.annotation.genome_tss.tsv \n",
      "region.annotation.module_tf_shannon.tsv \n",
      "region.intersect.encode_chipseq_flagship.tsv \n",
      "region.intersect.encode_chipseq_histone.tsv \n",
      "region.intersect.encode_chipseq_subset.tsv \n",
      "region.intersect.encode_chromatin_states.tsv \n",
      "region.intersect.encode_e2g_benchmark.tsv \n",
      "region.intersect.fcc_astarr_csaw.tsv \n",
      "region.intersect.fcc_crispri_growth.tsv \n",
      "region.intersect.fcc_crispri_hcrff.tsv \n",
      "region.intersect.fcc_mpra_agarwal2023.tsv \n",
      "region.intersect.fcc_starrmpra_junke.tsv \n",
      "region.intersect.genome_tss.tsv \n",
      "region.intersect.module_tf_shannon.tsv \n",
      "region.summary.encode_e2g_benchmark.tsv \n"
     ]
    }
   ],
   "source": [
    "txt_fdiry = file.path(\n",
    "    FD_RES, \n",
    "    \"region_annotation\", \n",
    "    \"fcc_astarr_macs_input_overlap\",\n",
    "    \"summary\"\n",
    ")\n",
    "vec = dir(txt_fdiry)\n",
    "for (txt in vec){cat(txt, \"\\n\")}"
   ]
  },
  {
   "cell_type": "markdown",
   "id": "b352da84-cc6f-4ba9-8e02-fe99534b5de0",
   "metadata": {},
   "source": [
    "## Import data"
   ]
  },
  {
   "cell_type": "code",
   "execution_count": 4,
   "id": "26078625-ff94-4e9a-a7c2-8f28deb3ec97",
   "metadata": {},
   "outputs": [
    {
     "name": "stdout",
     "output_type": "stream",
     "text": [
      "[1] 84 10\n"
     ]
    },
    {
     "data": {
      "text/html": [
       "<table>\n",
       " <thead>\n",
       "  <tr>\n",
       "   <th style=\"text-align:left;\"> Chrom </th>\n",
       "   <th style=\"text-align:right;\"> ChromStart </th>\n",
       "   <th style=\"text-align:right;\"> ChromEnd </th>\n",
       "   <th style=\"text-align:left;\"> Region </th>\n",
       "   <th style=\"text-align:left;\"> Annotation_A </th>\n",
       "   <th style=\"text-align:left;\"> Annotation_B </th>\n",
       "   <th style=\"text-align:left;\"> Group </th>\n",
       "   <th style=\"text-align:left;\"> Label </th>\n",
       "   <th style=\"text-align:left;\"> Region_Annot </th>\n",
       "   <th style=\"text-align:right;\"> Region_Count </th>\n",
       "  </tr>\n",
       " </thead>\n",
       "<tbody>\n",
       "  <tr>\n",
       "   <td style=\"text-align:left;\"> chr11 </td>\n",
       "   <td style=\"text-align:right;\"> 5249957 </td>\n",
       "   <td style=\"text-align:right;\"> 5250351 </td>\n",
       "   <td style=\"text-align:left;\"> chr11:5249957-5250351 </td>\n",
       "   <td style=\"text-align:left;\"> fcc_astarr_macs_input_overlap </td>\n",
       "   <td style=\"text-align:left;\"> fcc_crispri_hcrff_casa </td>\n",
       "   <td style=\"text-align:left;\"> CRISPRi-HCRFF </td>\n",
       "   <td style=\"text-align:left;\"> CRISPRi-HCRFF:HBG1 </td>\n",
       "   <td style=\"text-align:left;\"> chr11:5249847-5250847 </td>\n",
       "   <td style=\"text-align:right;\"> 1 </td>\n",
       "  </tr>\n",
       "  <tr>\n",
       "   <td style=\"text-align:left;\"> chr11 </td>\n",
       "   <td style=\"text-align:right;\"> 5249957 </td>\n",
       "   <td style=\"text-align:right;\"> 5250351 </td>\n",
       "   <td style=\"text-align:left;\"> chr11:5249957-5250351 </td>\n",
       "   <td style=\"text-align:left;\"> fcc_astarr_macs_input_overlap </td>\n",
       "   <td style=\"text-align:left;\"> fcc_crispri_hcrff_casa </td>\n",
       "   <td style=\"text-align:left;\"> CRISPRi-HCRFF </td>\n",
       "   <td style=\"text-align:left;\"> CRISPRi-HCRFF:HBG2 </td>\n",
       "   <td style=\"text-align:left;\"> chr11:5249847-5250847 </td>\n",
       "   <td style=\"text-align:right;\"> 1 </td>\n",
       "  </tr>\n",
       "  <tr>\n",
       "   <td style=\"text-align:left;\"> chr11 </td>\n",
       "   <td style=\"text-align:right;\"> 5254200 </td>\n",
       "   <td style=\"text-align:right;\"> 5254444 </td>\n",
       "   <td style=\"text-align:left;\"> chr11:5254200-5254444 </td>\n",
       "   <td style=\"text-align:left;\"> fcc_astarr_macs_input_overlap </td>\n",
       "   <td style=\"text-align:left;\"> fcc_crispri_hcrff_casa </td>\n",
       "   <td style=\"text-align:left;\"> CRISPRi-HCRFF </td>\n",
       "   <td style=\"text-align:left;\"> CRISPRi-HCRFF:HBG1 </td>\n",
       "   <td style=\"text-align:left;\"> chr11:5253647-5254647 </td>\n",
       "   <td style=\"text-align:right;\"> 1 </td>\n",
       "  </tr>\n",
       "</tbody>\n",
       "</table>"
      ]
     },
     "metadata": {},
     "output_type": "display_data"
    }
   ],
   "source": [
    "txt_fdiry = file.path(\n",
    "    FD_RES, \n",
    "    \"region_annotation\", \n",
    "    \"fcc_astarr_macs_input_overlap\",\n",
    "    \"summary\"\n",
    ")\n",
    "txt_fname = \"region.annotation.fcc_crispri_hcrff.tsv\"\n",
    "txt_fpath = file.path(txt_fdiry, txt_fname)\n",
    "\n",
    "dat = read_tsv(txt_fpath, show_col_types = FALSE)\n",
    "\n",
    "dat_region_annot_fcc_crispri_hcrff = dat\n",
    "print(dim(dat))\n",
    "fun_display_table(head(dat, 3))"
   ]
  },
  {
   "cell_type": "code",
   "execution_count": 6,
   "id": "355c23b1-af38-4eec-be17-be4ff8544e47",
   "metadata": {},
   "outputs": [
    {
     "name": "stdout",
     "output_type": "stream",
     "text": [
      "[1] 4380   10\n"
     ]
    },
    {
     "data": {
      "text/html": [
       "<table>\n",
       " <thead>\n",
       "  <tr>\n",
       "   <th style=\"text-align:left;\"> Chrom </th>\n",
       "   <th style=\"text-align:right;\"> ChromStart </th>\n",
       "   <th style=\"text-align:right;\"> ChromEnd </th>\n",
       "   <th style=\"text-align:left;\"> Region </th>\n",
       "   <th style=\"text-align:left;\"> Annotation_A </th>\n",
       "   <th style=\"text-align:left;\"> Annotation_B </th>\n",
       "   <th style=\"text-align:left;\"> Group </th>\n",
       "   <th style=\"text-align:left;\"> Label </th>\n",
       "   <th style=\"text-align:left;\"> Region_Annot </th>\n",
       "   <th style=\"text-align:right;\"> Region_Count </th>\n",
       "  </tr>\n",
       " </thead>\n",
       "<tbody>\n",
       "  <tr>\n",
       "   <td style=\"text-align:left;\"> chr1 </td>\n",
       "   <td style=\"text-align:right;\"> 605104 </td>\n",
       "   <td style=\"text-align:right;\"> 605675 </td>\n",
       "   <td style=\"text-align:left;\"> chr1:605104-605675 </td>\n",
       "   <td style=\"text-align:left;\"> fcc_astarr_macs_input_overlap </td>\n",
       "   <td style=\"text-align:left;\"> fcc_crispri_growth_signif </td>\n",
       "   <td style=\"text-align:left;\"> CRISPRi-Growth </td>\n",
       "   <td style=\"text-align:left;\"> Signif </td>\n",
       "   <td style=\"text-align:left;\"> chr1:605550-605627 </td>\n",
       "   <td style=\"text-align:right;\"> 1 </td>\n",
       "  </tr>\n",
       "  <tr>\n",
       "   <td style=\"text-align:left;\"> chr1 </td>\n",
       "   <td style=\"text-align:right;\"> 826796 </td>\n",
       "   <td style=\"text-align:right;\"> 828040 </td>\n",
       "   <td style=\"text-align:left;\"> chr1:826796-828040 </td>\n",
       "   <td style=\"text-align:left;\"> fcc_astarr_macs_input_overlap </td>\n",
       "   <td style=\"text-align:left;\"> fcc_crispri_growth_signif </td>\n",
       "   <td style=\"text-align:left;\"> CRISPRi-Growth </td>\n",
       "   <td style=\"text-align:left;\"> Signif </td>\n",
       "   <td style=\"text-align:left;\"> chr1:826642-827902 </td>\n",
       "   <td style=\"text-align:right;\"> 1 </td>\n",
       "  </tr>\n",
       "  <tr>\n",
       "   <td style=\"text-align:left;\"> chr1 </td>\n",
       "   <td style=\"text-align:right;\"> 1068587 </td>\n",
       "   <td style=\"text-align:right;\"> 1070616 </td>\n",
       "   <td style=\"text-align:left;\"> chr1:1068587-1070616 </td>\n",
       "   <td style=\"text-align:left;\"> fcc_astarr_macs_input_overlap </td>\n",
       "   <td style=\"text-align:left;\"> fcc_crispri_growth_signif </td>\n",
       "   <td style=\"text-align:left;\"> CRISPRi-Growth </td>\n",
       "   <td style=\"text-align:left;\"> Signif </td>\n",
       "   <td style=\"text-align:left;\"> chr1:1067929-1070953 </td>\n",
       "   <td style=\"text-align:right;\"> 1 </td>\n",
       "  </tr>\n",
       "</tbody>\n",
       "</table>"
      ]
     },
     "metadata": {},
     "output_type": "display_data"
    }
   ],
   "source": [
    "txt_fdiry = file.path(\n",
    "    FD_RES, \n",
    "    \"region_annotation\", \n",
    "    \"fcc_astarr_macs_input_overlap\",\n",
    "    \"summary\"\n",
    ")\n",
    "txt_fname = \"region.annotation.fcc_crispri_growth.tsv\"\n",
    "txt_fpath = file.path(txt_fdiry, txt_fname)\n",
    "\n",
    "dat = read_tsv(txt_fpath, show_col_types = FALSE)\n",
    "dat = dat %>% dplyr::filter(Label == \"Signif\")\n",
    "\n",
    "dat_region_annot_fcc_crispri_growth = dat\n",
    "print(dim(dat))\n",
    "fun_display_table(head(dat, 3))"
   ]
  },
  {
   "cell_type": "code",
   "execution_count": 15,
   "id": "f2ef0404-9f68-4562-a6e7-913eefb174c1",
   "metadata": {},
   "outputs": [
    {
     "name": "stdout",
     "output_type": "stream",
     "text": [
      "[1] 208167     10\n"
     ]
    },
    {
     "data": {
      "text/html": [
       "<table>\n",
       " <thead>\n",
       "  <tr>\n",
       "   <th style=\"text-align:left;\"> Chrom </th>\n",
       "   <th style=\"text-align:right;\"> ChromStart </th>\n",
       "   <th style=\"text-align:right;\"> ChromEnd </th>\n",
       "   <th style=\"text-align:left;\"> Region </th>\n",
       "   <th style=\"text-align:left;\"> Annotation_A </th>\n",
       "   <th style=\"text-align:left;\"> Annotation_B </th>\n",
       "   <th style=\"text-align:left;\"> Group </th>\n",
       "   <th style=\"text-align:left;\"> Label </th>\n",
       "   <th style=\"text-align:left;\"> Region_Annot </th>\n",
       "   <th style=\"text-align:right;\"> Region_Count </th>\n",
       "  </tr>\n",
       " </thead>\n",
       "<tbody>\n",
       "  <tr>\n",
       "   <td style=\"text-align:left;\"> chr1 </td>\n",
       "   <td style=\"text-align:right;\"> 10038 </td>\n",
       "   <td style=\"text-align:right;\"> 10405 </td>\n",
       "   <td style=\"text-align:left;\"> chr1:10038-10405 </td>\n",
       "   <td style=\"text-align:left;\"> fcc_astarr_macs_input_overlap </td>\n",
       "   <td style=\"text-align:left;\"> fcc_starrmpra_junke_astarr </td>\n",
       "   <td style=\"text-align:left;\"> ASTARR </td>\n",
       "   <td style=\"text-align:left;\"> ASTARR_R:junke </td>\n",
       "   <td style=\"text-align:left;\"> chr1:10010-10430 </td>\n",
       "   <td style=\"text-align:right;\"> 1 </td>\n",
       "  </tr>\n",
       "  <tr>\n",
       "   <td style=\"text-align:left;\"> chr1 </td>\n",
       "   <td style=\"text-align:right;\"> 16025 </td>\n",
       "   <td style=\"text-align:right;\"> 16338 </td>\n",
       "   <td style=\"text-align:left;\"> chr1:16025-16338 </td>\n",
       "   <td style=\"text-align:left;\"> fcc_astarr_macs_input_overlap </td>\n",
       "   <td style=\"text-align:left;\"> fcc_starrmpra_junke_astarr </td>\n",
       "   <td style=\"text-align:left;\"> ASTARR </td>\n",
       "   <td style=\"text-align:left;\"> ASTARR_R:junke </td>\n",
       "   <td style=\"text-align:left;\"> chr1:16220-16340 </td>\n",
       "   <td style=\"text-align:right;\"> 1 </td>\n",
       "  </tr>\n",
       "  <tr>\n",
       "   <td style=\"text-align:left;\"> chr1 </td>\n",
       "   <td style=\"text-align:right;\"> 17288 </td>\n",
       "   <td style=\"text-align:right;\"> 17689 </td>\n",
       "   <td style=\"text-align:left;\"> chr1:17288-17689 </td>\n",
       "   <td style=\"text-align:left;\"> fcc_astarr_macs_input_overlap </td>\n",
       "   <td style=\"text-align:left;\"> fcc_starrmpra_junke_astarr </td>\n",
       "   <td style=\"text-align:left;\"> ASTARR </td>\n",
       "   <td style=\"text-align:left;\"> ASTARR_R:junke </td>\n",
       "   <td style=\"text-align:left;\"> chr1:17230-17440;chr1:17610-17720 </td>\n",
       "   <td style=\"text-align:right;\"> 2 </td>\n",
       "  </tr>\n",
       "</tbody>\n",
       "</table>"
      ]
     },
     "metadata": {},
     "output_type": "display_data"
    }
   ],
   "source": [
    "txt_fdiry = file.path(\n",
    "    FD_RES, \n",
    "    \"region_annotation\", \n",
    "    \"fcc_astarr_macs_input_overlap\",\n",
    "    \"summary\"\n",
    ")\n",
    "txt_fname = \"region.annotation.fcc_starrmpra_junke.tsv\"\n",
    "txt_fpath = file.path(txt_fdiry, txt_fname)\n",
    "\n",
    "dat = read_tsv(txt_fpath, show_col_types = FALSE)\n",
    "dat = dat %>% dplyr::mutate(Label = paste(Label, \"junke\", sep = \":\"))\n",
    "\n",
    "dat_region_annot_fcc_starrmpra = dat\n",
    "print(dim(dat))\n",
    "fun_display_table(head(dat, 3))"
   ]
  },
  {
   "cell_type": "code",
   "execution_count": 16,
   "id": "cf7c84f2-6243-42d8-baf6-f9a5b293d30e",
   "metadata": {},
   "outputs": [
    {
     "name": "stdout",
     "output_type": "stream",
     "text": [
      "[1] 163901     10\n"
     ]
    },
    {
     "data": {
      "text/html": [
       "<table>\n",
       " <thead>\n",
       "  <tr>\n",
       "   <th style=\"text-align:left;\"> Chrom </th>\n",
       "   <th style=\"text-align:right;\"> ChromStart </th>\n",
       "   <th style=\"text-align:right;\"> ChromEnd </th>\n",
       "   <th style=\"text-align:left;\"> Region </th>\n",
       "   <th style=\"text-align:left;\"> Annotation_A </th>\n",
       "   <th style=\"text-align:left;\"> Annotation_B </th>\n",
       "   <th style=\"text-align:left;\"> Group </th>\n",
       "   <th style=\"text-align:left;\"> Label </th>\n",
       "   <th style=\"text-align:left;\"> Region_Annot </th>\n",
       "   <th style=\"text-align:right;\"> Region_Count </th>\n",
       "  </tr>\n",
       " </thead>\n",
       "<tbody>\n",
       "  <tr>\n",
       "   <td style=\"text-align:left;\"> chr1 </td>\n",
       "   <td style=\"text-align:right;\"> 10038 </td>\n",
       "   <td style=\"text-align:right;\"> 10405 </td>\n",
       "   <td style=\"text-align:left;\"> chr1:10038-10405 </td>\n",
       "   <td style=\"text-align:left;\"> fcc_astarr_macs_input_overlap </td>\n",
       "   <td style=\"text-align:left;\"> fcc_astarr_csaw_KS91 </td>\n",
       "   <td style=\"text-align:left;\"> ASTARR </td>\n",
       "   <td style=\"text-align:left;\"> ASTARR_R:csaw </td>\n",
       "   <td style=\"text-align:left;\"> chr1:9976-10475 </td>\n",
       "   <td style=\"text-align:right;\"> 1 </td>\n",
       "  </tr>\n",
       "  <tr>\n",
       "   <td style=\"text-align:left;\"> chr1 </td>\n",
       "   <td style=\"text-align:right;\"> 14282 </td>\n",
       "   <td style=\"text-align:right;\"> 14614 </td>\n",
       "   <td style=\"text-align:left;\"> chr1:14282-14614 </td>\n",
       "   <td style=\"text-align:left;\"> fcc_astarr_macs_input_overlap </td>\n",
       "   <td style=\"text-align:left;\"> fcc_astarr_csaw_KS91 </td>\n",
       "   <td style=\"text-align:left;\"> ASTARR </td>\n",
       "   <td style=\"text-align:left;\"> ASTARR_R:csaw </td>\n",
       "   <td style=\"text-align:left;\"> chr1:14226-14675 </td>\n",
       "   <td style=\"text-align:right;\"> 1 </td>\n",
       "  </tr>\n",
       "  <tr>\n",
       "   <td style=\"text-align:left;\"> chr1 </td>\n",
       "   <td style=\"text-align:right;\"> 16025 </td>\n",
       "   <td style=\"text-align:right;\"> 16338 </td>\n",
       "   <td style=\"text-align:left;\"> chr1:16025-16338 </td>\n",
       "   <td style=\"text-align:left;\"> fcc_astarr_macs_input_overlap </td>\n",
       "   <td style=\"text-align:left;\"> fcc_astarr_csaw_KS91 </td>\n",
       "   <td style=\"text-align:left;\"> ASTARR </td>\n",
       "   <td style=\"text-align:left;\"> ASTARR_R:csaw </td>\n",
       "   <td style=\"text-align:left;\"> chr1:15976-16525 </td>\n",
       "   <td style=\"text-align:right;\"> 1 </td>\n",
       "  </tr>\n",
       "</tbody>\n",
       "</table>"
      ]
     },
     "metadata": {},
     "output_type": "display_data"
    }
   ],
   "source": [
    "txt_fdiry = file.path(\n",
    "    FD_RES, \n",
    "    \"region_annotation\", \n",
    "    \"fcc_astarr_macs_input_overlap\",\n",
    "    \"summary\"\n",
    ")\n",
    "txt_fname = \"region.annotation.fcc_astarr_csaw.tsv\"\n",
    "txt_fpath = file.path(txt_fdiry, txt_fname)\n",
    "\n",
    "dat = read_tsv(txt_fpath, show_col_types = FALSE)\n",
    "dat = dat %>% \n",
    "    dplyr::filter(str_detect(Label, \"csaw:KS91\")) %>%\n",
    "    dplyr::mutate(Label = str_remove(Label, \":KS91\"))\n",
    "\n",
    "dat_region_annot_fcc_csaw = dat\n",
    "print(dim(dat))\n",
    "fun_display_table(head(dat, 3))"
   ]
  },
  {
   "cell_type": "markdown",
   "id": "a3691b56-192c-4328-993c-209ba4253578",
   "metadata": {},
   "source": [
    "## Merge"
   ]
  },
  {
   "cell_type": "code",
   "execution_count": 19,
   "id": "9e6c8d2e-7b2f-483a-ab86-1dc09981656d",
   "metadata": {},
   "outputs": [
    {
     "data": {
      "text/html": [
       "<table class=\"dataframe\">\n",
       "<caption>A tibble: 6 × 5</caption>\n",
       "<thead>\n",
       "\t<tr><th scope=col>Region</th><th scope=col>ASTARR_A:csaw</th><th scope=col>ASTARR_A:junke</th><th scope=col>ASTARR_R:csaw</th><th scope=col>ASTARR_R:junke</th></tr>\n",
       "\t<tr><th scope=col>&lt;chr&gt;</th><th scope=col>&lt;dbl&gt;</th><th scope=col>&lt;dbl&gt;</th><th scope=col>&lt;dbl&gt;</th><th scope=col>&lt;dbl&gt;</th></tr>\n",
       "</thead>\n",
       "<tbody>\n",
       "\t<tr><td>chr1:100028014-100029653</td><td>1</td><td>0</td><td>1</td><td>1</td></tr>\n",
       "\t<tr><td>chr1:100036895-100039189</td><td>1</td><td>1</td><td>0</td><td>1</td></tr>\n",
       "\t<tr><td>chr1:100046252-100046533</td><td>0</td><td>0</td><td>1</td><td>0</td></tr>\n",
       "\t<tr><td>chr1:100048290-100048918</td><td>0</td><td>0</td><td>1</td><td>1</td></tr>\n",
       "\t<tr><td>chr1:100050225-100050529</td><td>1</td><td>0</td><td>0</td><td>0</td></tr>\n",
       "\t<tr><td>chr1:100064757-100065161</td><td>1</td><td>0</td><td>0</td><td>0</td></tr>\n",
       "</tbody>\n",
       "</table>\n"
      ],
      "text/latex": [
       "A tibble: 6 × 5\n",
       "\\begin{tabular}{lllll}\n",
       " Region & ASTARR\\_A:csaw & ASTARR\\_A:junke & ASTARR\\_R:csaw & ASTARR\\_R:junke\\\\\n",
       " <chr> & <dbl> & <dbl> & <dbl> & <dbl>\\\\\n",
       "\\hline\n",
       "\t chr1:100028014-100029653 & 1 & 0 & 1 & 1\\\\\n",
       "\t chr1:100036895-100039189 & 1 & 1 & 0 & 1\\\\\n",
       "\t chr1:100046252-100046533 & 0 & 0 & 1 & 0\\\\\n",
       "\t chr1:100048290-100048918 & 0 & 0 & 1 & 1\\\\\n",
       "\t chr1:100050225-100050529 & 1 & 0 & 0 & 0\\\\\n",
       "\t chr1:100064757-100065161 & 1 & 0 & 0 & 0\\\\\n",
       "\\end{tabular}\n"
      ],
      "text/markdown": [
       "\n",
       "A tibble: 6 × 5\n",
       "\n",
       "| Region &lt;chr&gt; | ASTARR_A:csaw &lt;dbl&gt; | ASTARR_A:junke &lt;dbl&gt; | ASTARR_R:csaw &lt;dbl&gt; | ASTARR_R:junke &lt;dbl&gt; |\n",
       "|---|---|---|---|---|\n",
       "| chr1:100028014-100029653 | 1 | 0 | 1 | 1 |\n",
       "| chr1:100036895-100039189 | 1 | 1 | 0 | 1 |\n",
       "| chr1:100046252-100046533 | 0 | 0 | 1 | 0 |\n",
       "| chr1:100048290-100048918 | 0 | 0 | 1 | 1 |\n",
       "| chr1:100050225-100050529 | 1 | 0 | 0 | 0 |\n",
       "| chr1:100064757-100065161 | 1 | 0 | 0 | 0 |\n",
       "\n"
      ],
      "text/plain": [
       "  Region                   ASTARR_A:csaw ASTARR_A:junke ASTARR_R:csaw\n",
       "1 chr1:100028014-100029653 1             0              1            \n",
       "2 chr1:100036895-100039189 1             1              0            \n",
       "3 chr1:100046252-100046533 0             0              1            \n",
       "4 chr1:100048290-100048918 0             0              1            \n",
       "5 chr1:100050225-100050529 1             0              0            \n",
       "6 chr1:100064757-100065161 1             0              0            \n",
       "  ASTARR_R:junke\n",
       "1 1             \n",
       "2 1             \n",
       "3 0             \n",
       "4 1             \n",
       "5 0             \n",
       "6 0             "
      ]
     },
     "metadata": {},
     "output_type": "display_data"
    }
   ],
   "source": [
    "dat = bind_rows(\n",
    "    dat_region_annot_fcc_starrmpra %>% dplyr::filter(Label %in% c(\"ASTARR_A:junke\", \"ASTARR_R:junke\")),\n",
    "    dat_region_annot_fcc_csaw\n",
    ")\n",
    "dat = dat %>% \n",
    "    dplyr::select(Region, Label) %>% \n",
    "    dplyr::mutate(Value = 1) %>%\n",
    "    dplyr::distinct()\n",
    "dat = dat %>% tidyr::spread(Label, Value) %>% replace(is.na(.), 0)\n",
    "head(dat)"
   ]
  },
  {
   "cell_type": "code",
   "execution_count": 24,
   "id": "b394d5af-a6f1-4c89-bb1f-cad079bb3d4e",
   "metadata": {},
   "outputs": [
    {
     "data": {
      "text/html": [
       "<table class=\"dataframe\">\n",
       "<caption>A table: 3 × 3 of type dbl</caption>\n",
       "<thead>\n",
       "\t<tr><th></th><th scope=col>ASTARR_A:csaw</th><th scope=col>Not Signif</th><th scope=col>Sum</th></tr>\n",
       "</thead>\n",
       "<tbody>\n",
       "\t<tr><th scope=row>ASTARR_A:junke</th><td>24994</td><td> 1167</td><td> 26161</td></tr>\n",
       "\t<tr><th scope=row>Not Signif</th><td>55137</td><td>67954</td><td>123091</td></tr>\n",
       "\t<tr><th scope=row>Sum</th><td>80131</td><td>69121</td><td>149252</td></tr>\n",
       "</tbody>\n",
       "</table>\n"
      ],
      "text/latex": [
       "A table: 3 × 3 of type dbl\n",
       "\\begin{tabular}{r|lll}\n",
       "  & ASTARR\\_A:csaw & Not Signif & Sum\\\\\n",
       "\\hline\n",
       "\tASTARR\\_A:junke & 24994 &  1167 &  26161\\\\\n",
       "\tNot Signif & 55137 & 67954 & 123091\\\\\n",
       "\tSum & 80131 & 69121 & 149252\\\\\n",
       "\\end{tabular}\n"
      ],
      "text/markdown": [
       "\n",
       "A table: 3 × 3 of type dbl\n",
       "\n",
       "| <!--/--> | ASTARR_A:csaw | Not Signif | Sum |\n",
       "|---|---|---|---|\n",
       "| ASTARR_A:junke | 24994 |  1167 |  26161 |\n",
       "| Not Signif | 55137 | 67954 | 123091 |\n",
       "| Sum | 80131 | 69121 | 149252 |\n",
       "\n"
      ],
      "text/plain": [
       "                vec2\n",
       "vec1             ASTARR_A:csaw Not Signif Sum   \n",
       "  ASTARR_A:junke 24994          1167       26161\n",
       "  Not Signif     55137         67954      123091\n",
       "  Sum            80131         69121      149252"
      ]
     },
     "metadata": {},
     "output_type": "display_data"
    }
   ],
   "source": [
    "vec1 = dat$`ASTARR_A:junke`\n",
    "vec1 = ifelse(vec1 > 0, \"ASTARR_A:junke\", \"Not Signif\")\n",
    "vec2 = dat$`ASTARR_A:csaw`\n",
    "vec2 = ifelse(vec2 > 0, \"ASTARR_A:csaw\", \"Not Signif\")\n",
    "\n",
    "addmargins(table(vec1, vec2))"
   ]
  },
  {
   "cell_type": "code",
   "execution_count": 25,
   "id": "5e67e119-680b-4203-ad1c-602c2f95230c",
   "metadata": {},
   "outputs": [
    {
     "data": {
      "text/html": [
       "<table class=\"dataframe\">\n",
       "<caption>A table: 3 × 3 of type dbl</caption>\n",
       "<thead>\n",
       "\t<tr><th></th><th scope=col>ASTARR_R:csaw</th><th scope=col>Not Signif</th><th scope=col>Sum</th></tr>\n",
       "</thead>\n",
       "<tbody>\n",
       "\t<tr><th scope=row>ASTARR_R:junke</th><td>57540</td><td>16183</td><td> 73723</td></tr>\n",
       "\t<tr><th scope=row>Not Signif</th><td>26230</td><td>49299</td><td> 75529</td></tr>\n",
       "\t<tr><th scope=row>Sum</th><td>83770</td><td>65482</td><td>149252</td></tr>\n",
       "</tbody>\n",
       "</table>\n"
      ],
      "text/latex": [
       "A table: 3 × 3 of type dbl\n",
       "\\begin{tabular}{r|lll}\n",
       "  & ASTARR\\_R:csaw & Not Signif & Sum\\\\\n",
       "\\hline\n",
       "\tASTARR\\_R:junke & 57540 & 16183 &  73723\\\\\n",
       "\tNot Signif & 26230 & 49299 &  75529\\\\\n",
       "\tSum & 83770 & 65482 & 149252\\\\\n",
       "\\end{tabular}\n"
      ],
      "text/markdown": [
       "\n",
       "A table: 3 × 3 of type dbl\n",
       "\n",
       "| <!--/--> | ASTARR_R:csaw | Not Signif | Sum |\n",
       "|---|---|---|---|\n",
       "| ASTARR_R:junke | 57540 | 16183 |  73723 |\n",
       "| Not Signif | 26230 | 49299 |  75529 |\n",
       "| Sum | 83770 | 65482 | 149252 |\n",
       "\n"
      ],
      "text/plain": [
       "                vec2\n",
       "vec1             ASTARR_R:csaw Not Signif Sum   \n",
       "  ASTARR_R:junke 57540         16183       73723\n",
       "  Not Signif     26230         49299       75529\n",
       "  Sum            83770         65482      149252"
      ]
     },
     "metadata": {},
     "output_type": "display_data"
    }
   ],
   "source": [
    "vec1 = dat$`ASTARR_R:junke`\n",
    "vec1 = ifelse(vec1 > 0, \"ASTARR_R:junke\", \"Not Signif\")\n",
    "vec2 = dat$`ASTARR_R:csaw`\n",
    "vec2 = ifelse(vec2 > 0, \"ASTARR_R:csaw\", \"Not Signif\")\n",
    "\n",
    "addmargins(table(vec1, vec2))"
   ]
  },
  {
   "cell_type": "code",
   "execution_count": null,
   "id": "a29a200e-ac04-4d5c-b191-70d4939f41a8",
   "metadata": {},
   "outputs": [],
   "source": []
  },
  {
   "cell_type": "code",
   "execution_count": null,
   "id": "8b32ee70-4f7f-4f1f-be2e-ae5abcb60da9",
   "metadata": {},
   "outputs": [],
   "source": []
  },
  {
   "cell_type": "code",
   "execution_count": 2,
   "id": "fbf0296f-8c97-40b6-8c57-88ac340a57f6",
   "metadata": {},
   "outputs": [
    {
     "name": "stdout",
     "output_type": "stream",
     "text": [
      "You are working on        Singularity \n",
      "BASE DIRECTORY (FD_BASE): /mount \n",
      "REPO DIRECTORY (FD_REPO): /mount/repo \n",
      "WORK DIRECTORY (FD_WORK): /mount/work \n",
      "DATA DIRECTORY (FD_DATA): /mount/data \n",
      "\n",
      "You are working with      ENCODE FCC \n",
      "PATH OF PROJECT (FD_PRJ): /mount/repo/Proj_ENCODE_FCC \n",
      "PROJECT RESULTS (FD_RES): /mount/repo/Proj_ENCODE_FCC/results \n",
      "PROJECT SCRIPTS (FD_EXE): /mount/repo/Proj_ENCODE_FCC/scripts \n",
      "PROJECT DATA    (FD_DAT): /mount/repo/Proj_ENCODE_FCC/data \n",
      "PROJECT NOTE    (FD_NBK): /mount/repo/Proj_ENCODE_FCC/notebooks \n",
      "PROJECT DOCS    (FD_DOC): /mount/repo/Proj_ENCODE_FCC/docs \n",
      "PROJECT LOG     (FD_LOG): /mount/repo/Proj_ENCODE_FCC/log \n",
      "PROJECT APP     (FD_APP): /mount/repo/Proj_ENCODE_FCC/app \n",
      "PROJECT REF     (FD_REF): /mount/repo/Proj_ENCODE_FCC/references \n",
      "\n"
     ]
    }
   ],
   "source": [
    "suppressMessages(suppressWarnings(source(\"../run_config_project_sing.R\")))\n",
    "show_env()"
   ]
  },
  {
   "cell_type": "code",
   "execution_count": 3,
   "id": "8e1a35f9-a128-4000-b84b-0f04d1221657",
   "metadata": {},
   "outputs": [
    {
     "name": "stdout",
     "output_type": "stream",
     "text": [
      "[1] 156326      8\n"
     ]
    },
    {
     "data": {
      "text/html": [
       "<table>\n",
       " <thead>\n",
       "  <tr>\n",
       "   <th style=\"text-align:left;\"> Chrom </th>\n",
       "   <th style=\"text-align:right;\"> ChromStart </th>\n",
       "   <th style=\"text-align:right;\"> ChromEnd </th>\n",
       "   <th style=\"text-align:left;\"> Region </th>\n",
       "   <th style=\"text-align:left;\"> Group </th>\n",
       "   <th style=\"text-align:left;\"> Label </th>\n",
       "   <th style=\"text-align:left;\"> Label2 </th>\n",
       "   <th style=\"text-align:left;\"> Label3 </th>\n",
       "  </tr>\n",
       " </thead>\n",
       "<tbody>\n",
       "  <tr>\n",
       "   <td style=\"text-align:left;\"> chr1 </td>\n",
       "   <td style=\"text-align:right;\"> 10038 </td>\n",
       "   <td style=\"text-align:right;\"> 10405 </td>\n",
       "   <td style=\"text-align:left;\"> chr1:10038-10405 </td>\n",
       "   <td style=\"text-align:left;\"> ASTARR </td>\n",
       "   <td style=\"text-align:left;\"> ASTARR_R </td>\n",
       "   <td style=\"text-align:left;\"> ASTARR_R </td>\n",
       "   <td style=\"text-align:left;\"> Repress (R) </td>\n",
       "  </tr>\n",
       "  <tr>\n",
       "   <td style=\"text-align:left;\"> chr1 </td>\n",
       "   <td style=\"text-align:right;\"> 16025 </td>\n",
       "   <td style=\"text-align:right;\"> 16338 </td>\n",
       "   <td style=\"text-align:left;\"> chr1:16025-16338 </td>\n",
       "   <td style=\"text-align:left;\"> ASTARR </td>\n",
       "   <td style=\"text-align:left;\"> ASTARR_R </td>\n",
       "   <td style=\"text-align:left;\"> ASTARR_R </td>\n",
       "   <td style=\"text-align:left;\"> Repress (R) </td>\n",
       "  </tr>\n",
       "  <tr>\n",
       "   <td style=\"text-align:left;\"> chr1 </td>\n",
       "   <td style=\"text-align:right;\"> 17288 </td>\n",
       "   <td style=\"text-align:right;\"> 17689 </td>\n",
       "   <td style=\"text-align:left;\"> chr1:17288-17689 </td>\n",
       "   <td style=\"text-align:left;\"> ASTARR </td>\n",
       "   <td style=\"text-align:left;\"> ASTARR_R </td>\n",
       "   <td style=\"text-align:left;\"> ASTARR_R </td>\n",
       "   <td style=\"text-align:left;\"> Repress (R) </td>\n",
       "  </tr>\n",
       "</tbody>\n",
       "</table>"
      ]
     },
     "metadata": {},
     "output_type": "display_data"
    }
   ],
   "source": [
    "txt_fdiry = file.path(\n",
    "    FD_RES, \n",
    "    \"region_annotation\", \n",
    "    \"fcc_astarr_macs_input_overlap\",\n",
    "    \"summary\"\n",
    ")\n",
    "txt_fname = \"region.summary.fcc_peak_call.tsv\"\n",
    "txt_fpath = file.path(txt_fdiry, txt_fname)\n",
    "\n",
    "dat = read_tsv(txt_fpath, show_col_types = FALSE)\n",
    "\n",
    "dat_region_annot_fcc_peak_call = dat\n",
    "print(dim(dat))\n",
    "fun_display_table(head(dat, 3))"
   ]
  },
  {
   "cell_type": "code",
   "execution_count": 4,
   "id": "6566ad8f-abd2-43b5-977e-a76465917304",
   "metadata": {},
   "outputs": [
    {
     "name": "stdout",
     "output_type": "stream",
     "text": [
      "[1] 225161      8\n"
     ]
    },
    {
     "data": {
      "text/html": [
       "<table>\n",
       " <thead>\n",
       "  <tr>\n",
       "   <th style=\"text-align:left;\"> Chrom </th>\n",
       "   <th style=\"text-align:right;\"> ChromStart </th>\n",
       "   <th style=\"text-align:right;\"> ChromEnd </th>\n",
       "   <th style=\"text-align:left;\"> Region </th>\n",
       "   <th style=\"text-align:left;\"> Group </th>\n",
       "   <th style=\"text-align:left;\"> Label </th>\n",
       "   <th style=\"text-align:left;\"> Label2 </th>\n",
       "   <th style=\"text-align:left;\"> Label3 </th>\n",
       "  </tr>\n",
       " </thead>\n",
       "<tbody>\n",
       "  <tr>\n",
       "   <td style=\"text-align:left;\"> chr1 </td>\n",
       "   <td style=\"text-align:right;\"> 10038 </td>\n",
       "   <td style=\"text-align:right;\"> 10405 </td>\n",
       "   <td style=\"text-align:left;\"> chr1:10038-10405 </td>\n",
       "   <td style=\"text-align:left;\"> ASTARR </td>\n",
       "   <td style=\"text-align:left;\"> ASTARR_R </td>\n",
       "   <td style=\"text-align:left;\"> ASTARR_R </td>\n",
       "   <td style=\"text-align:left;\"> Repress (R) </td>\n",
       "  </tr>\n",
       "  <tr>\n",
       "   <td style=\"text-align:left;\"> chr1 </td>\n",
       "   <td style=\"text-align:right;\"> 16025 </td>\n",
       "   <td style=\"text-align:right;\"> 16338 </td>\n",
       "   <td style=\"text-align:left;\"> chr1:16025-16338 </td>\n",
       "   <td style=\"text-align:left;\"> ASTARR </td>\n",
       "   <td style=\"text-align:left;\"> ASTARR_R </td>\n",
       "   <td style=\"text-align:left;\"> ASTARR_R </td>\n",
       "   <td style=\"text-align:left;\"> Repress (R) </td>\n",
       "  </tr>\n",
       "  <tr>\n",
       "   <td style=\"text-align:left;\"> chr1 </td>\n",
       "   <td style=\"text-align:right;\"> 17288 </td>\n",
       "   <td style=\"text-align:right;\"> 17689 </td>\n",
       "   <td style=\"text-align:left;\"> chr1:17288-17689 </td>\n",
       "   <td style=\"text-align:left;\"> ASTARR </td>\n",
       "   <td style=\"text-align:left;\"> ASTARR_R </td>\n",
       "   <td style=\"text-align:left;\"> ASTARR_R </td>\n",
       "   <td style=\"text-align:left;\"> Repress (R) </td>\n",
       "  </tr>\n",
       "</tbody>\n",
       "</table>"
      ]
     },
     "metadata": {},
     "output_type": "display_data"
    }
   ],
   "source": [
    "txt_fdiry = file.path(\n",
    "    FD_RES, \n",
    "    \"region_annotation\", \n",
    "    \"fcc_astarr_macs_input_overlap\",\n",
    "    \"summary_v1\"\n",
    ")\n",
    "txt_fname = \"result.summary.fcc_peak_call.tsv\"\n",
    "txt_fpath = file.path(txt_fdiry, txt_fname)\n",
    "\n",
    "dat = read_tsv(txt_fpath, show_col_types = FALSE)\n",
    "\n",
    "dat_region_annot_fcc_peak_call_prev = dat\n",
    "print(dim(dat))\n",
    "fun_display_table(head(dat, 3))"
   ]
  },
  {
   "cell_type": "code",
   "execution_count": 8,
   "id": "4f2b0d96-c067-4c8b-886f-aa95bda12ace",
   "metadata": {},
   "outputs": [
    {
     "data": {
      "text/plain": [
       "\n",
       "        ASTARR CRISPRi-Growth  CRISPRi-HCRFF          LMPRA          TMPRA \n",
       "         99884           4380             84          20937            860 \n",
       "        WSTARR \n",
       "         30181 "
      ]
     },
     "metadata": {},
     "output_type": "display_data"
    }
   ],
   "source": [
    "dat = dat_region_annot_fcc_peak_call\n",
    "table(dat$Group)"
   ]
  },
  {
   "cell_type": "code",
   "execution_count": 9,
   "id": "c65a842c-eff7-4b37-9360-38c0f980b566",
   "metadata": {},
   "outputs": [
    {
     "data": {
      "text/plain": [
       "\n",
       "        ASTARR CRISPRi-Growth  CRISPRi-HCRFF          LMPRA          TMPRA \n",
       "         99884          73243             56          20937            860 \n",
       "        WSTARR \n",
       "         30181 "
      ]
     },
     "metadata": {},
     "output_type": "display_data"
    }
   ],
   "source": [
    "dat = dat_region_annot_fcc_peak_call_prev\n",
    "table(dat$Group)"
   ]
  },
  {
   "cell_type": "code",
   "execution_count": 6,
   "id": "e34071ff-6122-41b5-8866-bf190bc967ef",
   "metadata": {},
   "outputs": [
    {
     "data": {
      "text/plain": [
       "\n",
       "             ASTARR_A              ASTARR_R CRISPRi-Growth:Signif \n",
       "                26161                 73723                 73243 \n",
       "   CRISPRi-HCRFF:CASA               LMPRA_A               LMPRA_R \n",
       "                   56                 20692                   245 \n",
       "              TMPRA_A               TMPRA_R              WSTARR_A \n",
       "                  847                    13                 26992 \n",
       "             WSTARR_R \n",
       "                 3189 "
      ]
     },
     "metadata": {},
     "output_type": "display_data"
    }
   ],
   "source": [
    "dat = dat_region_annot_fcc_peak_call_prev\n",
    "table(dat$Label)"
   ]
  },
  {
   "cell_type": "code",
   "execution_count": 5,
   "id": "77605ca1-dd98-4722-8edb-fbb9b32b2a80",
   "metadata": {},
   "outputs": [
    {
     "name": "stderr",
     "output_type": "stream",
     "text": [
      "Warning message in vec1 == vec2:\n",
      "“longer object length is not a multiple of shorter object length”\n"
     ]
    },
    {
     "name": "stdout",
     "output_type": "stream",
     "text": [
      "[1] FALSE\n"
     ]
    },
    {
     "name": "stderr",
     "output_type": "stream",
     "text": [
      "Warning message in vec1 == vec2:\n",
      "“longer object length is not a multiple of shorter object length”\n"
     ]
    },
    {
     "name": "stdout",
     "output_type": "stream",
     "text": [
      "[1] FALSE\n"
     ]
    },
    {
     "name": "stderr",
     "output_type": "stream",
     "text": [
      "Warning message in vec1 == vec2:\n",
      "“longer object length is not a multiple of shorter object length”\n"
     ]
    },
    {
     "name": "stdout",
     "output_type": "stream",
     "text": [
      "[1] FALSE\n"
     ]
    },
    {
     "name": "stderr",
     "output_type": "stream",
     "text": [
      "Warning message in vec1 == vec2:\n",
      "“longer object length is not a multiple of shorter object length”\n"
     ]
    },
    {
     "name": "stdout",
     "output_type": "stream",
     "text": [
      "[1] FALSE\n"
     ]
    }
   ],
   "source": [
    "dat1 = dat_region_annot_fcc_peak_call\n",
    "dat2 = dat_region_annot_fcc_peak_call_prev\n",
    "\n",
    "vec1 = dat1$Region\n",
    "vec2 = dat2$Region\n",
    "print(all(vec1 == vec2))\n",
    "\n",
    "vec1 = dat1$Label\n",
    "vec2 = dat2$Label\n",
    "print(all(vec1 == vec2))\n",
    "\n",
    "vec1 = dat1$Label2\n",
    "vec2 = dat2$Label2\n",
    "print(all(vec1 == vec2))\n",
    "\n",
    "vec1 = dat1$Label3\n",
    "vec2 = dat2$Label3\n",
    "print(all(vec1 == vec2))"
   ]
  },
  {
   "cell_type": "code",
   "execution_count": null,
   "id": "76dec6ab-b7fe-4db5-a699-fbb253a89fc5",
   "metadata": {},
   "outputs": [],
   "source": []
  },
  {
   "cell_type": "code",
   "execution_count": null,
   "id": "074a902d-c5ef-4f47-9bd0-c166d3252700",
   "metadata": {},
   "outputs": [],
   "source": []
  },
  {
   "cell_type": "code",
   "execution_count": null,
   "id": "c58cb59c-475d-4912-93b8-b2ff1c18c454",
   "metadata": {},
   "outputs": [],
   "source": []
  },
  {
   "cell_type": "code",
   "execution_count": null,
   "id": "04924007-bb73-4bc1-a209-03251bffebc2",
   "metadata": {},
   "outputs": [],
   "source": []
  },
  {
   "cell_type": "code",
   "execution_count": null,
   "id": "0873a8b8-1b47-4a30-8dcb-0cfb3cde1684",
   "metadata": {},
   "outputs": [],
   "source": []
  },
  {
   "cell_type": "code",
   "execution_count": 57,
   "id": "a2843dfc-c553-4985-a001-bce99a579083",
   "metadata": {},
   "outputs": [],
   "source": [
    "library(UpSetR)"
   ]
  },
  {
   "cell_type": "code",
   "execution_count": 58,
   "id": "e05035dc-8ee5-4f43-b775-b74e94710b80",
   "metadata": {},
   "outputs": [],
   "source": [
    "dat = dat_region_annot_fcc_label\n",
    "vec = dat$Region\n",
    "lst = list(\n",
    "    \"Enhancer\"  = vec[dat$Type == \"Enhancer\"],\n",
    "    \"Repressor\" = vec[dat$Type == \"Repressor\"],\n",
    "    \"TSS\"       = vec[dat$TSS     > 0],\n",
    "    \"CRISPR\"    = vec[dat$CRISPR  > 0]\n",
    ")"
   ]
  },
  {
   "cell_type": "code",
   "execution_count": 63,
   "id": "d9f610c1-e271-4ff1-bd16-6a87deb5d9df",
   "metadata": {},
   "outputs": [
    {
     "data": {
      "image/png": "[encoded data removed]",
      "text/plain": [
       "plot without title"
      ]
     },
     "metadata": {
      "image/png": {
       "height": 360,
       "width": 420
      }
     },
     "output_type": "display_data"
    }
   ],
   "source": [
    "options(repr.plot.width = 7, repr.plot.height = 6)\n",
    "upset(fromList(lst), order.by = \"freq\")"
   ]
  },
  {
   "cell_type": "code",
   "execution_count": 66,
   "id": "a03a6cde-5978-408f-a0f8-13c899766587",
   "metadata": {},
   "outputs": [
    {
     "name": "stdout",
     "output_type": "stream",
     "text": [
      "[1] 0.9343403\n",
      "[1] 0.8423482\n"
     ]
    }
   ],
   "source": [
    "vec1 = lst[[\"TSS\"]]\n",
    "vec2 = lst[[\"Enhancer\"]]\n",
    "vec3 = lst[[\"Repressor\"]]\n",
    "print(mean(vec1 %in% vec2))\n",
    "print(mean(vec1 %in% vec3))"
   ]
  },
  {
   "cell_type": "code",
   "execution_count": 67,
   "id": "5b70cd15-64a4-4381-bcf6-c0be1702bb51",
   "metadata": {},
   "outputs": [],
   "source": [
    "dat = dat_region_annot_fcc_label\n",
    "dat = dat %>% dplyr::filter(Num_Assay > 1)\n",
    "\n",
    "vec = dat$Region\n",
    "lst = list(\n",
    "    \"Enhancer\"  = vec[dat$Type == \"Enhancer\"],\n",
    "    \"Repressor\" = vec[dat$Type == \"Repressor\"],\n",
    "    \"TSS\"       = vec[dat$TSS     > 0],\n",
    "    \"CRISPR\"    = vec[dat$CRISPR  > 0]\n",
    ")"
   ]
  },
  {
   "cell_type": "code",
   "execution_count": 68,
   "id": "3f6d11f6-0ccf-4fb1-a18e-54b9bff27e5e",
   "metadata": {},
   "outputs": [
    {
     "data": {
      "image/png": "[encoded data removed]",
      "text/plain": [
       "plot without title"
      ]
     },
     "metadata": {
      "image/png": {
       "height": 360,
       "width": 420
      }
     },
     "output_type": "display_data"
    }
   ],
   "source": [
    "options(repr.plot.width = 7, repr.plot.height = 6)\n",
    "upset(fromList(lst), order.by = \"freq\")"
   ]
  },
  {
   "cell_type": "code",
   "execution_count": 69,
   "id": "322d1ba0-fb7f-4288-912e-d9786ecd7630",
   "metadata": {},
   "outputs": [
    {
     "name": "stdout",
     "output_type": "stream",
     "text": [
      "[1] 0.9635471\n",
      "[1] 0.09686059\n"
     ]
    }
   ],
   "source": [
    "vec1 = lst[[\"TSS\"]]\n",
    "vec2 = lst[[\"Enhancer\"]]\n",
    "vec3 = lst[[\"Repressor\"]]\n",
    "print(mean(vec1 %in% vec2))\n",
    "print(mean(vec1 %in% vec3))"
   ]
  },
  {
   "cell_type": "code",
   "execution_count": null,
   "id": "ee5d3aa9-234c-4773-8846-4ef66f4245ce",
   "metadata": {},
   "outputs": [],
   "source": []
  },
  {
   "cell_type": "code",
   "execution_count": 70,
   "id": "9c02543f-7edd-49b2-971a-752e06b77c52",
   "metadata": {},
   "outputs": [
    {
     "data": {
      "text/html": [
       "<table class=\"dataframe\">\n",
       "<caption>A data.frame: 7 × 5</caption>\n",
       "<thead>\n",
       "\t<tr><th scope=col>Label</th><th scope=col>CRISPR_Not_Significant</th><th scope=col>CRISPR_Significant</th><th scope=col>Sum</th><th scope=col>Percentage</th></tr>\n",
       "\t<tr><th scope=col>&lt;fct&gt;</th><th scope=col>&lt;dbl&gt;</th><th scope=col>&lt;dbl&gt;</th><th scope=col>&lt;dbl&gt;</th><th scope=col>&lt;dbl&gt;</th></tr>\n",
       "</thead>\n",
       "<tbody>\n",
       "\t<tr><td>Enhancer              </td><td> 37540</td><td>1512</td><td> 39052</td><td>0.03871761</td></tr>\n",
       "\t<tr><td>Repressor             </td><td> 66025</td><td>1742</td><td> 67767</td><td>0.02570573</td></tr>\n",
       "\t<tr><td>Repressor_GCFilter    </td><td> 49899</td><td>1158</td><td> 51057</td><td>0.02268053</td></tr>\n",
       "\t<tr><td>TSS:Enhancer          </td><td>  7193</td><td>1441</td><td>  8634</td><td>0.16689831</td></tr>\n",
       "\t<tr><td>TSS:Repressor         </td><td>  5892</td><td> 883</td><td>  6775</td><td>0.13033210</td></tr>\n",
       "\t<tr><td>TSS:Repressor_GCFilter</td><td>  1738</td><td> 398</td><td>  2136</td><td>0.18632959</td></tr>\n",
       "\t<tr><td>Sum                   </td><td>168287</td><td>7134</td><td>175421</td><td>0.04066788</td></tr>\n",
       "</tbody>\n",
       "</table>\n"
      ],
      "text/latex": [
       "A data.frame: 7 × 5\n",
       "\\begin{tabular}{lllll}\n",
       " Label & CRISPR\\_Not\\_Significant & CRISPR\\_Significant & Sum & Percentage\\\\\n",
       " <fct> & <dbl> & <dbl> & <dbl> & <dbl>\\\\\n",
       "\\hline\n",
       "\t Enhancer               &  37540 & 1512 &  39052 & 0.03871761\\\\\n",
       "\t Repressor              &  66025 & 1742 &  67767 & 0.02570573\\\\\n",
       "\t Repressor\\_GCFilter     &  49899 & 1158 &  51057 & 0.02268053\\\\\n",
       "\t TSS:Enhancer           &   7193 & 1441 &   8634 & 0.16689831\\\\\n",
       "\t TSS:Repressor          &   5892 &  883 &   6775 & 0.13033210\\\\\n",
       "\t TSS:Repressor\\_GCFilter &   1738 &  398 &   2136 & 0.18632959\\\\\n",
       "\t Sum                    & 168287 & 7134 & 175421 & 0.04066788\\\\\n",
       "\\end{tabular}\n"
      ],
      "text/markdown": [
       "\n",
       "A data.frame: 7 × 5\n",
       "\n",
       "| Label &lt;fct&gt; | CRISPR_Not_Significant &lt;dbl&gt; | CRISPR_Significant &lt;dbl&gt; | Sum &lt;dbl&gt; | Percentage &lt;dbl&gt; |\n",
       "|---|---|---|---|---|\n",
       "| Enhancer               |  37540 | 1512 |  39052 | 0.03871761 |\n",
       "| Repressor              |  66025 | 1742 |  67767 | 0.02570573 |\n",
       "| Repressor_GCFilter     |  49899 | 1158 |  51057 | 0.02268053 |\n",
       "| TSS:Enhancer           |   7193 | 1441 |   8634 | 0.16689831 |\n",
       "| TSS:Repressor          |   5892 |  883 |   6775 | 0.13033210 |\n",
       "| TSS:Repressor_GCFilter |   1738 |  398 |   2136 | 0.18632959 |\n",
       "| Sum                    | 168287 | 7134 | 175421 | 0.04066788 |\n",
       "\n"
      ],
      "text/plain": [
       "  Label                  CRISPR_Not_Significant CRISPR_Significant Sum   \n",
       "1 Enhancer                37540                 1512                39052\n",
       "2 Repressor               66025                 1742                67767\n",
       "3 Repressor_GCFilter      49899                 1158                51057\n",
       "4 TSS:Enhancer             7193                 1441                 8634\n",
       "5 TSS:Repressor            5892                  883                 6775\n",
       "6 TSS:Repressor_GCFilter   1738                  398                 2136\n",
       "7 Sum                    168287                 7134               175421\n",
       "  Percentage\n",
       "1 0.03871761\n",
       "2 0.02570573\n",
       "3 0.02268053\n",
       "4 0.16689831\n",
       "5 0.13033210\n",
       "6 0.18632959\n",
       "7 0.04066788"
      ]
     },
     "metadata": {},
     "output_type": "display_data"
    }
   ],
   "source": [
    "dat = dat_region_annot_fcc_label\n",
    "dat = dat %>% dplyr::mutate(\n",
    "    CRISPR = ifelse(\n",
    "        CRISPR, \n",
    "        \"CRISPR_Significant\", \n",
    "        \"CRISPR_Not_Significant\"\n",
    "    )\n",
    ")\n",
    "\n",
    "dat = addmargins(table(dat$Label, dat$CRISPR))\n",
    "dat = dat %>% \n",
    "    as.data.frame %>% \n",
    "    tidyr::spread(Var2, Freq)\n",
    "colnames(dat)[1] = \"Label\"\n",
    "\n",
    "dat = dat %>% dplyr::mutate(Percentage = CRISPR_Significant / Sum)\n",
    "dat"
   ]
  },
  {
   "cell_type": "code",
   "execution_count": 71,
   "id": "6398e509-647d-4c71-93aa-e44f7e28ea2c",
   "metadata": {},
   "outputs": [
    {
     "data": {
      "text/html": [
       "<table class=\"dataframe\">\n",
       "<caption>A data.frame: 7 × 5</caption>\n",
       "<thead>\n",
       "\t<tr><th scope=col>Label</th><th scope=col>CRISPR_Not_Significant</th><th scope=col>CRISPR_Significant</th><th scope=col>Sum</th><th scope=col>Percentage</th></tr>\n",
       "\t<tr><th scope=col>&lt;fct&gt;</th><th scope=col>&lt;dbl&gt;</th><th scope=col>&lt;dbl&gt;</th><th scope=col>&lt;dbl&gt;</th><th scope=col>&lt;dbl&gt;</th></tr>\n",
       "</thead>\n",
       "<tbody>\n",
       "\t<tr><td>Enhancer              </td><td>13323</td><td> 711</td><td>14034</td><td>0.05066268</td></tr>\n",
       "\t<tr><td>Repressor             </td><td> 2146</td><td>  66</td><td> 2212</td><td>0.02983725</td></tr>\n",
       "\t<tr><td>Repressor_GCFilter    </td><td> 1496</td><td>  41</td><td> 1537</td><td>0.02667534</td></tr>\n",
       "\t<tr><td>TSS:Enhancer          </td><td> 5057</td><td>1192</td><td> 6249</td><td>0.19075052</td></tr>\n",
       "\t<tr><td>TSS:Repressor         </td><td>  364</td><td>  43</td><td>  407</td><td>0.10565111</td></tr>\n",
       "\t<tr><td>TSS:Repressor_GCFilter</td><td>   49</td><td>  16</td><td>   65</td><td>0.24615385</td></tr>\n",
       "\t<tr><td>Sum                   </td><td>22435</td><td>2069</td><td>24504</td><td>0.08443519</td></tr>\n",
       "</tbody>\n",
       "</table>\n"
      ],
      "text/latex": [
       "A data.frame: 7 × 5\n",
       "\\begin{tabular}{lllll}\n",
       " Label & CRISPR\\_Not\\_Significant & CRISPR\\_Significant & Sum & Percentage\\\\\n",
       " <fct> & <dbl> & <dbl> & <dbl> & <dbl>\\\\\n",
       "\\hline\n",
       "\t Enhancer               & 13323 &  711 & 14034 & 0.05066268\\\\\n",
       "\t Repressor              &  2146 &   66 &  2212 & 0.02983725\\\\\n",
       "\t Repressor\\_GCFilter     &  1496 &   41 &  1537 & 0.02667534\\\\\n",
       "\t TSS:Enhancer           &  5057 & 1192 &  6249 & 0.19075052\\\\\n",
       "\t TSS:Repressor          &   364 &   43 &   407 & 0.10565111\\\\\n",
       "\t TSS:Repressor\\_GCFilter &    49 &   16 &    65 & 0.24615385\\\\\n",
       "\t Sum                    & 22435 & 2069 & 24504 & 0.08443519\\\\\n",
       "\\end{tabular}\n"
      ],
      "text/markdown": [
       "\n",
       "A data.frame: 7 × 5\n",
       "\n",
       "| Label &lt;fct&gt; | CRISPR_Not_Significant &lt;dbl&gt; | CRISPR_Significant &lt;dbl&gt; | Sum &lt;dbl&gt; | Percentage &lt;dbl&gt; |\n",
       "|---|---|---|---|---|\n",
       "| Enhancer               | 13323 |  711 | 14034 | 0.05066268 |\n",
       "| Repressor              |  2146 |   66 |  2212 | 0.02983725 |\n",
       "| Repressor_GCFilter     |  1496 |   41 |  1537 | 0.02667534 |\n",
       "| TSS:Enhancer           |  5057 | 1192 |  6249 | 0.19075052 |\n",
       "| TSS:Repressor          |   364 |   43 |   407 | 0.10565111 |\n",
       "| TSS:Repressor_GCFilter |    49 |   16 |    65 | 0.24615385 |\n",
       "| Sum                    | 22435 | 2069 | 24504 | 0.08443519 |\n",
       "\n"
      ],
      "text/plain": [
       "  Label                  CRISPR_Not_Significant CRISPR_Significant Sum  \n",
       "1 Enhancer               13323                   711               14034\n",
       "2 Repressor               2146                    66                2212\n",
       "3 Repressor_GCFilter      1496                    41                1537\n",
       "4 TSS:Enhancer            5057                  1192                6249\n",
       "5 TSS:Repressor            364                    43                 407\n",
       "6 TSS:Repressor_GCFilter    49                    16                  65\n",
       "7 Sum                    22435                  2069               24504\n",
       "  Percentage\n",
       "1 0.05066268\n",
       "2 0.02983725\n",
       "3 0.02667534\n",
       "4 0.19075052\n",
       "5 0.10565111\n",
       "6 0.24615385\n",
       "7 0.08443519"
      ]
     },
     "metadata": {},
     "output_type": "display_data"
    }
   ],
   "source": [
    "dat = dat_region_annot_fcc_label\n",
    "dat = dat %>% dplyr::filter(Num_Assay > 1)\n",
    "\n",
    "dat = dat %>% dplyr::mutate(\n",
    "    CRISPR = ifelse(\n",
    "        CRISPR, \n",
    "        \"CRISPR_Significant\", \n",
    "        \"CRISPR_Not_Significant\"\n",
    "    )\n",
    ")\n",
    "\n",
    "dat = addmargins(table(dat$Label, dat$CRISPR))\n",
    "dat = dat %>% \n",
    "    as.data.frame %>% \n",
    "    tidyr::spread(Var2, Freq)\n",
    "colnames(dat)[1] = \"Label\"\n",
    "\n",
    "dat = dat %>% dplyr::mutate(Percentage = CRISPR_Significant / Sum)\n",
    "dat"
   ]
  }
 ],
 "metadata": {
  "kernelspec": {
   "display_name": "R",
   "language": "R",
   "name": "ir"
  },
  "language_info": {
   "codemirror_mode": "r",
   "file_extension": ".r",
   "mimetype": "text/x-r-source",
   "name": "R",
   "pygments_lexer": "r",
   "version": "4.4.1"
  }
 },
 "nbformat": 4,
 "nbformat_minor": 5
}
