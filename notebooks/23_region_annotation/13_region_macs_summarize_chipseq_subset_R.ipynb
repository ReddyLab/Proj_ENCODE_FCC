{
 "cells": [
  {
   "cell_type": "raw",
   "id": "433728f3-90cc-4866-9c92-74d4207c9a78",
   "metadata": {},
   "source": [
    "---\n",
    "title: Region annotation 13 (ASTARR MACS peaks)\n",
    "subtitle: Summarize annotations (ChIP-seq; subset)\n",
    "format:\n",
    "    html:\n",
    "        code-fold:  true\n",
    "        code-tools: true\n",
    "---"
   ]
  },
  {
   "cell_type": "markdown",
   "id": "15a64f3e-b732-4dda-848e-1daa331172f8",
   "metadata": {},
   "source": [
    "**Set environment**"
   ]
  },
  {
   "cell_type": "code",
   "execution_count": 1,
   "id": "e1ee259f-0230-4b2b-90de-3e20ed1a3765",
   "metadata": {
    "tags": []
   },
   "outputs": [
    {
     "name": "stdout",
     "output_type": "stream",
     "text": [
      "You are working on        Singularity: singularity_proj_encode_fcc \n",
      "BASE DIRECTORY (FD_BASE): /data/reddylab/Kuei \n",
      "REPO DIRECTORY (FD_REPO): /data/reddylab/Kuei/repo \n",
      "WORK DIRECTORY (FD_WORK): /data/reddylab/Kuei/work \n",
      "DATA DIRECTORY (FD_DATA): /data/reddylab/Kuei/data \n",
      "\n",
      "You are working with      ENCODE FCC \n",
      "PATH OF PROJECT (FD_PRJ): /data/reddylab/Kuei/repo/Proj_ENCODE_FCC \n",
      "PROJECT RESULTS (FD_RES): /data/reddylab/Kuei/repo/Proj_ENCODE_FCC/results \n",
      "PROJECT SCRIPTS (FD_EXE): /data/reddylab/Kuei/repo/Proj_ENCODE_FCC/scripts \n",
      "PROJECT DATA    (FD_DAT): /data/reddylab/Kuei/repo/Proj_ENCODE_FCC/data \n",
      "PROJECT NOTE    (FD_NBK): /data/reddylab/Kuei/repo/Proj_ENCODE_FCC/notebooks \n",
      "PROJECT DOCS    (FD_DOC): /data/reddylab/Kuei/repo/Proj_ENCODE_FCC/docs \n",
      "PROJECT LOG     (FD_LOG): /data/reddylab/Kuei/repo/Proj_ENCODE_FCC/log \n",
      "PROJECT REF     (FD_REF): /data/reddylab/Kuei/repo/Proj_ENCODE_FCC/references \n",
      "\n"
     ]
    }
   ],
   "source": [
    "suppressMessages(suppressWarnings(source(\"../run_config_project_sing.R\")))\n",
    "show_env()"
   ]
  },
  {
   "cell_type": "markdown",
   "id": "c7e4b39e-eeb9-4568-b3c6-7392ff143da9",
   "metadata": {},
   "source": [
    "**Set global variables**"
   ]
  },
  {
   "cell_type": "code",
   "execution_count": 2,
   "id": "b7526cb6-a8ae-4fa5-bfef-1af5e4772d90",
   "metadata": {},
   "outputs": [
    {
     "name": "stdout",
     "output_type": "stream",
     "text": [
      "metadata.label.astarr_macs.tsv \n",
      "metadata.label.chipseq_flagship.tsv \n",
      "metadata.label.chipseq_full.tsv \n",
      "metadata.label.chipseq_histone.tsv \n",
      "metadata.label.chipseq_subset.tsv \n",
      "metadata.label.main.tsv \n",
      "metadata.label.ocr.tsv \n"
     ]
    }
   ],
   "source": [
    "txt_fdiry = file.path(FD_RES, \"region\", \"summary\")\n",
    "vec = dir(txt_fdiry)\n",
    "for (txt in vec){cat(txt, \"\\n\")}"
   ]
  },
  {
   "cell_type": "code",
   "execution_count": 3,
   "id": "34c22af4-23ad-40b6-84de-4c56994aafc9",
   "metadata": {},
   "outputs": [],
   "source": [
    "TXT_FDIRY_REGION_LABEL   = file.path(FD_RES, \"region\", \"summary\")\n",
    "TXT_FNAME_REGION_LABEL_A = \"metadata.label.astarr_macs.tsv\"\n",
    "TXT_FNAME_REGION_LABEL_B = \"metadata.label.chipseq_subset.tsv\""
   ]
  },
  {
   "cell_type": "markdown",
   "id": "6f6f8247-38b5-4970-b79d-e1676dd48ff2",
   "metadata": {},
   "source": [
    "## Import data"
   ]
  },
  {
   "cell_type": "code",
   "execution_count": 4,
   "id": "468dbd8e-b7fd-4240-bd2c-2c9a7b00f135",
   "metadata": {},
   "outputs": [
    {
     "data": {
      "text/html": [
       "<table class=\"dataframe\">\n",
       "<caption>A spec_tbl_df: 2 × 3</caption>\n",
       "<thead>\n",
       "\t<tr><th scope=col>Folder</th><th scope=col>FName</th><th scope=col>Label</th></tr>\n",
       "\t<tr><th scope=col>&lt;chr&gt;</th><th scope=col>&lt;chr&gt;</th><th scope=col>&lt;chr&gt;</th></tr>\n",
       "</thead>\n",
       "<tbody>\n",
       "\t<tr><td>fcc_astarr_macs</td><td>K562.hg38.ASTARR.macs.KS91.input.rep_all.max_overlaps.q5.bed.gz</td><td>fcc_astarr_macs_input_overlap</td></tr>\n",
       "\t<tr><td>fcc_astarr_macs</td><td>K562.hg38.ASTARR.macs.KS91.input.rep_all.union.q5.bed.gz       </td><td>fcc_astarr_macs_input_union  </td></tr>\n",
       "</tbody>\n",
       "</table>\n"
      ],
      "text/latex": [
       "A spec\\_tbl\\_df: 2 × 3\n",
       "\\begin{tabular}{lll}\n",
       " Folder & FName & Label\\\\\n",
       " <chr> & <chr> & <chr>\\\\\n",
       "\\hline\n",
       "\t fcc\\_astarr\\_macs & K562.hg38.ASTARR.macs.KS91.input.rep\\_all.max\\_overlaps.q5.bed.gz & fcc\\_astarr\\_macs\\_input\\_overlap\\\\\n",
       "\t fcc\\_astarr\\_macs & K562.hg38.ASTARR.macs.KS91.input.rep\\_all.union.q5.bed.gz        & fcc\\_astarr\\_macs\\_input\\_union  \\\\\n",
       "\\end{tabular}\n"
      ],
      "text/markdown": [
       "\n",
       "A spec_tbl_df: 2 × 3\n",
       "\n",
       "| Folder &lt;chr&gt; | FName &lt;chr&gt; | Label &lt;chr&gt; |\n",
       "|---|---|---|\n",
       "| fcc_astarr_macs | K562.hg38.ASTARR.macs.KS91.input.rep_all.max_overlaps.q5.bed.gz | fcc_astarr_macs_input_overlap |\n",
       "| fcc_astarr_macs | K562.hg38.ASTARR.macs.KS91.input.rep_all.union.q5.bed.gz        | fcc_astarr_macs_input_union   |\n",
       "\n"
      ],
      "text/plain": [
       "  Folder         \n",
       "1 fcc_astarr_macs\n",
       "2 fcc_astarr_macs\n",
       "  FName                                                          \n",
       "1 K562.hg38.ASTARR.macs.KS91.input.rep_all.max_overlaps.q5.bed.gz\n",
       "2 K562.hg38.ASTARR.macs.KS91.input.rep_all.union.q5.bed.gz       \n",
       "  Label                        \n",
       "1 fcc_astarr_macs_input_overlap\n",
       "2 fcc_astarr_macs_input_union  "
      ]
     },
     "metadata": {},
     "output_type": "display_data"
    }
   ],
   "source": [
    "txt_fdiry = TXT_FDIRY_REGION_LABEL\n",
    "txt_fname = TXT_FNAME_REGION_LABEL_A\n",
    "txt_fpath = file.path(txt_fdiry, txt_fname)\n",
    "\n",
    "dat_region_label_A = read_tsv(txt_fpath, show_col_types = FALSE)\n",
    "dat_region_label_A"
   ]
  },
  {
   "cell_type": "code",
   "execution_count": 5,
   "id": "cc5bcb4e-7613-438a-a173-2e98f05bdc50",
   "metadata": {},
   "outputs": [
    {
     "data": {
      "text/html": [
       "<table class=\"dataframe\">\n",
       "<caption>A spec_tbl_df: 21 × 3</caption>\n",
       "<thead>\n",
       "\t<tr><th scope=col>Folder</th><th scope=col>FName</th><th scope=col>Label</th></tr>\n",
       "\t<tr><th scope=col>&lt;chr&gt;</th><th scope=col>&lt;chr&gt;</th><th scope=col>&lt;chr&gt;</th></tr>\n",
       "</thead>\n",
       "<tbody>\n",
       "\t<tr><td>encode_chipseq_subset</td><td>ENCFF023IFO.bed.gz</td><td>encode_chipseq_NFE2_ENCFF023IFO    </td></tr>\n",
       "\t<tr><td>encode_chipseq_subset</td><td>ENCFF135ZLM.bed.gz</td><td>encode_chipseq_H3K4me1_ENCFF135ZLM </td></tr>\n",
       "\t<tr><td>encode_chipseq_subset</td><td>ENCFF142ZTD.bed.gz</td><td>encode_chipseq_KLF10_ENCFF142ZTD   </td></tr>\n",
       "\t<tr><td>encode_chipseq_subset</td><td>ENCFF190CGV.bed.gz</td><td>encode_chipseq_JUN_ENCFF190CGV     </td></tr>\n",
       "\t<tr><td>encode_chipseq_subset</td><td>ENCFF242AOL.bed.gz</td><td>encode_chipseq_ZEB2_ENCFF242AOL    </td></tr>\n",
       "\t<tr><td>encode_chipseq_subset</td><td>ENCFF323WOT.bed.gz</td><td>encode_chipseq_H3K27me3_ENCFF323WOT</td></tr>\n",
       "\t<tr><td>encode_chipseq_subset</td><td>ENCFF355MNE.bed.gz</td><td>encode_chipseq_POLR2A_ENCFF355MNE  </td></tr>\n",
       "\t<tr><td>encode_chipseq_subset</td><td>ENCFF398UQZ.bed.gz</td><td>encode_chipseq_YY1_ENCFF398UQZ     </td></tr>\n",
       "\t<tr><td>encode_chipseq_subset</td><td>ENCFF488OTN.bed.gz</td><td>encode_chipseq_KLF16_ENCFF488OTN   </td></tr>\n",
       "\t<tr><td>encode_chipseq_subset</td><td>ENCFF544LXB.bed.gz</td><td>encode_chipseq_H3K27ac_ENCFF544LXB </td></tr>\n",
       "\t<tr><td>encode_chipseq_subset</td><td>ENCFF553GPK.bed.gz</td><td>encode_chipseq_SP1_ENCFF553GPK     </td></tr>\n",
       "\t<tr><td>encode_chipseq_subset</td><td>ENCFF627RSK.bed.gz</td><td>encode_chipseq_ATF1_ENCFF627RSK    </td></tr>\n",
       "\t<tr><td>encode_chipseq_subset</td><td>ENCFF657CTC.bed.gz</td><td>encode_chipseq_GATA1_ENCFF657CTC   </td></tr>\n",
       "\t<tr><td>encode_chipseq_subset</td><td>ENCFF660GHM.bed.gz</td><td>encode_chipseq_CTCF_ENCFF660GHM    </td></tr>\n",
       "\t<tr><td>encode_chipseq_subset</td><td>ENCFF702XPO.bed.gz</td><td>encode_chipseq_EP300_ENCFF702XPO   </td></tr>\n",
       "\t<tr><td>encode_chipseq_subset</td><td>ENCFF707MDI.bed.gz</td><td>encode_chipseq_REST_ENCFF707MDI    </td></tr>\n",
       "\t<tr><td>encode_chipseq_subset</td><td>ENCFF715WGN.bed.gz</td><td>encode_chipseq_ELK1_ENCFF715WGN    </td></tr>\n",
       "\t<tr><td>encode_chipseq_subset</td><td>ENCFF749KLQ.bed.gz</td><td>encode_chipseq_H3K4me2_ENCFF749KLQ </td></tr>\n",
       "\t<tr><td>encode_chipseq_subset</td><td>ENCFF777PKJ.bed.gz</td><td>encode_chipseq_NRF1_ENCFF777PKJ    </td></tr>\n",
       "\t<tr><td>encode_chipseq_subset</td><td>ENCFF852ZRK.bed.gz</td><td>encode_chipseq_TAL1_ENCFF852ZRK    </td></tr>\n",
       "\t<tr><td>encode_chipseq_subset</td><td>ENCFF885FQN.bed.gz</td><td>encode_chipseq_H3K4me3_ENCFF885FQN </td></tr>\n",
       "</tbody>\n",
       "</table>\n"
      ],
      "text/latex": [
       "A spec\\_tbl\\_df: 21 × 3\n",
       "\\begin{tabular}{lll}\n",
       " Folder & FName & Label\\\\\n",
       " <chr> & <chr> & <chr>\\\\\n",
       "\\hline\n",
       "\t encode\\_chipseq\\_subset & ENCFF023IFO.bed.gz & encode\\_chipseq\\_NFE2\\_ENCFF023IFO    \\\\\n",
       "\t encode\\_chipseq\\_subset & ENCFF135ZLM.bed.gz & encode\\_chipseq\\_H3K4me1\\_ENCFF135ZLM \\\\\n",
       "\t encode\\_chipseq\\_subset & ENCFF142ZTD.bed.gz & encode\\_chipseq\\_KLF10\\_ENCFF142ZTD   \\\\\n",
       "\t encode\\_chipseq\\_subset & ENCFF190CGV.bed.gz & encode\\_chipseq\\_JUN\\_ENCFF190CGV     \\\\\n",
       "\t encode\\_chipseq\\_subset & ENCFF242AOL.bed.gz & encode\\_chipseq\\_ZEB2\\_ENCFF242AOL    \\\\\n",
       "\t encode\\_chipseq\\_subset & ENCFF323WOT.bed.gz & encode\\_chipseq\\_H3K27me3\\_ENCFF323WOT\\\\\n",
       "\t encode\\_chipseq\\_subset & ENCFF355MNE.bed.gz & encode\\_chipseq\\_POLR2A\\_ENCFF355MNE  \\\\\n",
       "\t encode\\_chipseq\\_subset & ENCFF398UQZ.bed.gz & encode\\_chipseq\\_YY1\\_ENCFF398UQZ     \\\\\n",
       "\t encode\\_chipseq\\_subset & ENCFF488OTN.bed.gz & encode\\_chipseq\\_KLF16\\_ENCFF488OTN   \\\\\n",
       "\t encode\\_chipseq\\_subset & ENCFF544LXB.bed.gz & encode\\_chipseq\\_H3K27ac\\_ENCFF544LXB \\\\\n",
       "\t encode\\_chipseq\\_subset & ENCFF553GPK.bed.gz & encode\\_chipseq\\_SP1\\_ENCFF553GPK     \\\\\n",
       "\t encode\\_chipseq\\_subset & ENCFF627RSK.bed.gz & encode\\_chipseq\\_ATF1\\_ENCFF627RSK    \\\\\n",
       "\t encode\\_chipseq\\_subset & ENCFF657CTC.bed.gz & encode\\_chipseq\\_GATA1\\_ENCFF657CTC   \\\\\n",
       "\t encode\\_chipseq\\_subset & ENCFF660GHM.bed.gz & encode\\_chipseq\\_CTCF\\_ENCFF660GHM    \\\\\n",
       "\t encode\\_chipseq\\_subset & ENCFF702XPO.bed.gz & encode\\_chipseq\\_EP300\\_ENCFF702XPO   \\\\\n",
       "\t encode\\_chipseq\\_subset & ENCFF707MDI.bed.gz & encode\\_chipseq\\_REST\\_ENCFF707MDI    \\\\\n",
       "\t encode\\_chipseq\\_subset & ENCFF715WGN.bed.gz & encode\\_chipseq\\_ELK1\\_ENCFF715WGN    \\\\\n",
       "\t encode\\_chipseq\\_subset & ENCFF749KLQ.bed.gz & encode\\_chipseq\\_H3K4me2\\_ENCFF749KLQ \\\\\n",
       "\t encode\\_chipseq\\_subset & ENCFF777PKJ.bed.gz & encode\\_chipseq\\_NRF1\\_ENCFF777PKJ    \\\\\n",
       "\t encode\\_chipseq\\_subset & ENCFF852ZRK.bed.gz & encode\\_chipseq\\_TAL1\\_ENCFF852ZRK    \\\\\n",
       "\t encode\\_chipseq\\_subset & ENCFF885FQN.bed.gz & encode\\_chipseq\\_H3K4me3\\_ENCFF885FQN \\\\\n",
       "\\end{tabular}\n"
      ],
      "text/markdown": [
       "\n",
       "A spec_tbl_df: 21 × 3\n",
       "\n",
       "| Folder &lt;chr&gt; | FName &lt;chr&gt; | Label &lt;chr&gt; |\n",
       "|---|---|---|\n",
       "| encode_chipseq_subset | ENCFF023IFO.bed.gz | encode_chipseq_NFE2_ENCFF023IFO     |\n",
       "| encode_chipseq_subset | ENCFF135ZLM.bed.gz | encode_chipseq_H3K4me1_ENCFF135ZLM  |\n",
       "| encode_chipseq_subset | ENCFF142ZTD.bed.gz | encode_chipseq_KLF10_ENCFF142ZTD    |\n",
       "| encode_chipseq_subset | ENCFF190CGV.bed.gz | encode_chipseq_JUN_ENCFF190CGV      |\n",
       "| encode_chipseq_subset | ENCFF242AOL.bed.gz | encode_chipseq_ZEB2_ENCFF242AOL     |\n",
       "| encode_chipseq_subset | ENCFF323WOT.bed.gz | encode_chipseq_H3K27me3_ENCFF323WOT |\n",
       "| encode_chipseq_subset | ENCFF355MNE.bed.gz | encode_chipseq_POLR2A_ENCFF355MNE   |\n",
       "| encode_chipseq_subset | ENCFF398UQZ.bed.gz | encode_chipseq_YY1_ENCFF398UQZ      |\n",
       "| encode_chipseq_subset | ENCFF488OTN.bed.gz | encode_chipseq_KLF16_ENCFF488OTN    |\n",
       "| encode_chipseq_subset | ENCFF544LXB.bed.gz | encode_chipseq_H3K27ac_ENCFF544LXB  |\n",
       "| encode_chipseq_subset | ENCFF553GPK.bed.gz | encode_chipseq_SP1_ENCFF553GPK      |\n",
       "| encode_chipseq_subset | ENCFF627RSK.bed.gz | encode_chipseq_ATF1_ENCFF627RSK     |\n",
       "| encode_chipseq_subset | ENCFF657CTC.bed.gz | encode_chipseq_GATA1_ENCFF657CTC    |\n",
       "| encode_chipseq_subset | ENCFF660GHM.bed.gz | encode_chipseq_CTCF_ENCFF660GHM     |\n",
       "| encode_chipseq_subset | ENCFF702XPO.bed.gz | encode_chipseq_EP300_ENCFF702XPO    |\n",
       "| encode_chipseq_subset | ENCFF707MDI.bed.gz | encode_chipseq_REST_ENCFF707MDI     |\n",
       "| encode_chipseq_subset | ENCFF715WGN.bed.gz | encode_chipseq_ELK1_ENCFF715WGN     |\n",
       "| encode_chipseq_subset | ENCFF749KLQ.bed.gz | encode_chipseq_H3K4me2_ENCFF749KLQ  |\n",
       "| encode_chipseq_subset | ENCFF777PKJ.bed.gz | encode_chipseq_NRF1_ENCFF777PKJ     |\n",
       "| encode_chipseq_subset | ENCFF852ZRK.bed.gz | encode_chipseq_TAL1_ENCFF852ZRK     |\n",
       "| encode_chipseq_subset | ENCFF885FQN.bed.gz | encode_chipseq_H3K4me3_ENCFF885FQN  |\n",
       "\n"
      ],
      "text/plain": [
       "   Folder                FName              Label                              \n",
       "1  encode_chipseq_subset ENCFF023IFO.bed.gz encode_chipseq_NFE2_ENCFF023IFO    \n",
       "2  encode_chipseq_subset ENCFF135ZLM.bed.gz encode_chipseq_H3K4me1_ENCFF135ZLM \n",
       "3  encode_chipseq_subset ENCFF142ZTD.bed.gz encode_chipseq_KLF10_ENCFF142ZTD   \n",
       "4  encode_chipseq_subset ENCFF190CGV.bed.gz encode_chipseq_JUN_ENCFF190CGV     \n",
       "5  encode_chipseq_subset ENCFF242AOL.bed.gz encode_chipseq_ZEB2_ENCFF242AOL    \n",
       "6  encode_chipseq_subset ENCFF323WOT.bed.gz encode_chipseq_H3K27me3_ENCFF323WOT\n",
       "7  encode_chipseq_subset ENCFF355MNE.bed.gz encode_chipseq_POLR2A_ENCFF355MNE  \n",
       "8  encode_chipseq_subset ENCFF398UQZ.bed.gz encode_chipseq_YY1_ENCFF398UQZ     \n",
       "9  encode_chipseq_subset ENCFF488OTN.bed.gz encode_chipseq_KLF16_ENCFF488OTN   \n",
       "10 encode_chipseq_subset ENCFF544LXB.bed.gz encode_chipseq_H3K27ac_ENCFF544LXB \n",
       "11 encode_chipseq_subset ENCFF553GPK.bed.gz encode_chipseq_SP1_ENCFF553GPK     \n",
       "12 encode_chipseq_subset ENCFF627RSK.bed.gz encode_chipseq_ATF1_ENCFF627RSK    \n",
       "13 encode_chipseq_subset ENCFF657CTC.bed.gz encode_chipseq_GATA1_ENCFF657CTC   \n",
       "14 encode_chipseq_subset ENCFF660GHM.bed.gz encode_chipseq_CTCF_ENCFF660GHM    \n",
       "15 encode_chipseq_subset ENCFF702XPO.bed.gz encode_chipseq_EP300_ENCFF702XPO   \n",
       "16 encode_chipseq_subset ENCFF707MDI.bed.gz encode_chipseq_REST_ENCFF707MDI    \n",
       "17 encode_chipseq_subset ENCFF715WGN.bed.gz encode_chipseq_ELK1_ENCFF715WGN    \n",
       "18 encode_chipseq_subset ENCFF749KLQ.bed.gz encode_chipseq_H3K4me2_ENCFF749KLQ \n",
       "19 encode_chipseq_subset ENCFF777PKJ.bed.gz encode_chipseq_NRF1_ENCFF777PKJ    \n",
       "20 encode_chipseq_subset ENCFF852ZRK.bed.gz encode_chipseq_TAL1_ENCFF852ZRK    \n",
       "21 encode_chipseq_subset ENCFF885FQN.bed.gz encode_chipseq_H3K4me3_ENCFF885FQN "
      ]
     },
     "metadata": {},
     "output_type": "display_data"
    }
   ],
   "source": [
    "txt_fdiry = TXT_FDIRY_REGION_LABEL\n",
    "txt_fname = TXT_FNAME_REGION_LABEL_B\n",
    "txt_fpath = file.path(txt_fdiry, txt_fname)\n",
    "\n",
    "dat_region_label_B = read_tsv(txt_fpath, show_col_types = FALSE)\n",
    "dat_region_label_B"
   ]
  },
  {
   "cell_type": "markdown",
   "id": "d92071a4-3cde-4048-8c09-66cb6ba03e60",
   "metadata": {},
   "source": [
    "**Check colnumn names**"
   ]
  },
  {
   "cell_type": "code",
   "execution_count": 6,
   "id": "5ee4f7e2-e58c-4d57-9976-b26609f0542b",
   "metadata": {},
   "outputs": [
    {
     "name": "stdout",
     "output_type": "stream",
     "text": [
      "fcc_astarr_macs \n",
      "[1] \"Chrom\"      \"ChromStart\" \"ChromEnd\"  \n",
      "\n"
     ]
    }
   ],
   "source": [
    "dat = dat_region_label_A\n",
    "vec = unique(dat$Folder)\n",
    "vec_txt_region_folder_A = vec\n",
    "\n",
    "for (txt_region_folder_A in vec_txt_region_folder_A){\n",
    "    ### get column names for region A\n",
    "    txt_fdiry = file.path(FD_RES, \"region\", txt_region_folder_A, \"summary\")\n",
    "    txt_fname = \"description.tsv\"\n",
    "    txt_fpath = file.path(txt_fdiry, txt_fname)\n",
    "    dat_cname = read_tsv(txt_fpath, show_col_types = FALSE)\n",
    "    vec_txt_cname_A = dat_cname$Name\n",
    "\n",
    "    ### show results\n",
    "    cat(txt_region_folder_A, \"\\n\")\n",
    "    print(vec_txt_cname_A)\n",
    "    cat(\"\\n\")\n",
    "}"
   ]
  },
  {
   "cell_type": "code",
   "execution_count": 7,
   "id": "deb3ae43-6128-4134-a113-03d45e8006da",
   "metadata": {},
   "outputs": [
    {
     "name": "stdout",
     "output_type": "stream",
     "text": [
      "encode_chipseq_subset \n",
      " [1] \"Chrom\"       \"ChromStart\"  \"ChromEnd\"    \"Name\"        \"Score\"      \n",
      " [6] \"Strand\"      \"SignalValue\" \"PValue\"      \"QValue\"      \"Peak\"       \n",
      "\n"
     ]
    }
   ],
   "source": [
    "dat = dat_region_label_B\n",
    "vec = unique(dat$Folder)\n",
    "vec_txt_region_folder_B = vec\n",
    "\n",
    "for (txt_region_folder_B in vec_txt_region_folder_B){\n",
    "    ### get column names for region B\n",
    "    txt_fdiry = file.path(FD_RES, \"region\", txt_region_folder_B, \"summary\")\n",
    "    txt_fname = \"description.tsv\"\n",
    "    txt_fpath = file.path(txt_fdiry, txt_fname)\n",
    "    dat_cname = read_tsv(txt_fpath, show_col_types = FALSE)\n",
    "    vec_txt_cname_B = dat_cname$Name\n",
    "\n",
    "    ### show results\n",
    "    cat(txt_region_folder_B, \"\\n\")\n",
    "    print(vec_txt_cname_B)\n",
    "    cat(\"\\n\")\n",
    "}"
   ]
  },
  {
   "cell_type": "markdown",
   "id": "ab55eb61-3543-4ab2-bbf8-c3fc7a957a25",
   "metadata": {},
   "source": [
    "## Main"
   ]
  },
  {
   "cell_type": "code",
   "execution_count": 8,
   "id": "4757dba1-1cf4-4bf3-a7db-a9ade60db7c7",
   "metadata": {},
   "outputs": [
    {
     "data": {
      "text/html": [
       "<dl>\n",
       "\t<dt>$`1`</dt>\n",
       "\t\t<dd><dl>\n",
       "\t<dt>$Folder</dt>\n",
       "\t\t<dd>'fcc_astarr_macs'</dd>\n",
       "\t<dt>$FName</dt>\n",
       "\t\t<dd>'K562.hg38.ASTARR.macs.KS91.input.rep_all.max_overlaps.q5.bed.gz'</dd>\n",
       "\t<dt>$Label</dt>\n",
       "\t\t<dd>'fcc_astarr_macs_input_overlap'</dd>\n",
       "</dl>\n",
       "</dd>\n",
       "\t<dt>$`2`</dt>\n",
       "\t\t<dd><dl>\n",
       "\t<dt>$Folder</dt>\n",
       "\t\t<dd>'fcc_astarr_macs'</dd>\n",
       "\t<dt>$FName</dt>\n",
       "\t\t<dd>'K562.hg38.ASTARR.macs.KS91.input.rep_all.union.q5.bed.gz'</dd>\n",
       "\t<dt>$Label</dt>\n",
       "\t\t<dd>'fcc_astarr_macs_input_union'</dd>\n",
       "</dl>\n",
       "</dd>\n",
       "</dl>\n"
      ],
      "text/latex": [
       "\\begin{description}\n",
       "\\item[\\$`1`] \\begin{description}\n",
       "\\item[\\$Folder] 'fcc\\_astarr\\_macs'\n",
       "\\item[\\$FName] 'K562.hg38.ASTARR.macs.KS91.input.rep\\_all.max\\_overlaps.q5.bed.gz'\n",
       "\\item[\\$Label] 'fcc\\_astarr\\_macs\\_input\\_overlap'\n",
       "\\end{description}\n",
       "\n",
       "\\item[\\$`2`] \\begin{description}\n",
       "\\item[\\$Folder] 'fcc\\_astarr\\_macs'\n",
       "\\item[\\$FName] 'K562.hg38.ASTARR.macs.KS91.input.rep\\_all.union.q5.bed.gz'\n",
       "\\item[\\$Label] 'fcc\\_astarr\\_macs\\_input\\_union'\n",
       "\\end{description}\n",
       "\n",
       "\\end{description}\n"
      ],
      "text/markdown": [
       "$`1`\n",
       ":   $Folder\n",
       ":   'fcc_astarr_macs'\n",
       "$FName\n",
       ":   'K562.hg38.ASTARR.macs.KS91.input.rep_all.max_overlaps.q5.bed.gz'\n",
       "$Label\n",
       ":   'fcc_astarr_macs_input_overlap'\n",
       "\n",
       "\n",
       "\n",
       "$`2`\n",
       ":   $Folder\n",
       ":   'fcc_astarr_macs'\n",
       "$FName\n",
       ":   'K562.hg38.ASTARR.macs.KS91.input.rep_all.union.q5.bed.gz'\n",
       "$Label\n",
       ":   'fcc_astarr_macs_input_union'\n",
       "\n",
       "\n",
       "\n",
       "\n",
       "\n"
      ],
      "text/plain": [
       "$`1`\n",
       "$`1`$Folder\n",
       "[1] \"fcc_astarr_macs\"\n",
       "\n",
       "$`1`$FName\n",
       "[1] \"K562.hg38.ASTARR.macs.KS91.input.rep_all.max_overlaps.q5.bed.gz\"\n",
       "\n",
       "$`1`$Label\n",
       "[1] \"fcc_astarr_macs_input_overlap\"\n",
       "\n",
       "\n",
       "$`2`\n",
       "$`2`$Folder\n",
       "[1] \"fcc_astarr_macs\"\n",
       "\n",
       "$`2`$FName\n",
       "[1] \"K562.hg38.ASTARR.macs.KS91.input.rep_all.union.q5.bed.gz\"\n",
       "\n",
       "$`2`$Label\n",
       "[1] \"fcc_astarr_macs_input_union\"\n",
       "\n"
      ]
     },
     "metadata": {},
     "output_type": "display_data"
    }
   ],
   "source": [
    "dat = dat_region_label_A\n",
    "lst = split(dat, 1:nrow(dat))\n",
    "lst = lapply(lst, as.list)\n",
    "lst_region_label_A = lst\n",
    "lst"
   ]
  },
  {
   "cell_type": "code",
   "execution_count": 9,
   "id": "2189ac20-90a0-422f-8265-620a2ae8afed",
   "metadata": {},
   "outputs": [
    {
     "data": {
      "text/html": [
       "'encode_chipseq_subset'"
      ],
      "text/latex": [
       "'encode\\_chipseq\\_subset'"
      ],
      "text/markdown": [
       "'encode_chipseq_subset'"
      ],
      "text/plain": [
       "[1] \"encode_chipseq_subset\""
      ]
     },
     "metadata": {},
     "output_type": "display_data"
    }
   ],
   "source": [
    "dat = dat_region_label_B\n",
    "vec = unique(dat$Folder)\n",
    "vec_txt_region_folder_B = vec\n",
    "vec"
   ]
  },
  {
   "cell_type": "markdown",
   "id": "19c238dc-2449-4293-a7c6-4e98b45c1f23",
   "metadata": {},
   "source": [
    "**Loop**"
   ]
  },
  {
   "cell_type": "code",
   "execution_count": 10,
   "id": "0f286782-5bae-412e-95a5-53c74f91ec15",
   "metadata": {},
   "outputs": [
    {
     "name": "stdout",
     "output_type": "stream",
     "text": [
      "===========================================\n",
      "Read annotation... \n",
      "Region A: fcc_astarr_macs | fcc_astarr_macs_input_overlap \n",
      "Region B: encode_chipseq_subset \n",
      "FDiry:    \n",
      "[1] \"/data/reddylab/Kuei/repo/Proj_ENCODE_FCC/results/region_annotation/fcc_astarr_macs_input_overlap/encode_chipseq_subset\"\n",
      "FName:    \n",
      " [1] \"fcc_astarr_macs_input_overlap.encode_chipseq_ATF1_ENCFF627RSK.bed.gz\"    \n",
      " [2] \"fcc_astarr_macs_input_overlap.encode_chipseq_CTCF_ENCFF660GHM.bed.gz\"    \n",
      " [3] \"fcc_astarr_macs_input_overlap.encode_chipseq_ELK1_ENCFF715WGN.bed.gz\"    \n",
      " [4] \"fcc_astarr_macs_input_overlap.encode_chipseq_EP300_ENCFF702XPO.bed.gz\"   \n",
      " [5] \"fcc_astarr_macs_input_overlap.encode_chipseq_GATA1_ENCFF657CTC.bed.gz\"   \n",
      " [6] \"fcc_astarr_macs_input_overlap.encode_chipseq_H3K27ac_ENCFF544LXB.bed.gz\" \n",
      " [7] \"fcc_astarr_macs_input_overlap.encode_chipseq_H3K27me3_ENCFF323WOT.bed.gz\"\n",
      " [8] \"fcc_astarr_macs_input_overlap.encode_chipseq_H3K4me1_ENCFF135ZLM.bed.gz\" \n",
      " [9] \"fcc_astarr_macs_input_overlap.encode_chipseq_H3K4me2_ENCFF749KLQ.bed.gz\" \n",
      "[10] \"fcc_astarr_macs_input_overlap.encode_chipseq_H3K4me3_ENCFF885FQN.bed.gz\" \n",
      "[11] \"fcc_astarr_macs_input_overlap.encode_chipseq_JUN_ENCFF190CGV.bed.gz\"     \n",
      "[12] \"fcc_astarr_macs_input_overlap.encode_chipseq_KLF10_ENCFF142ZTD.bed.gz\"   \n",
      "[13] \"fcc_astarr_macs_input_overlap.encode_chipseq_KLF16_ENCFF488OTN.bed.gz\"   \n",
      "[14] \"fcc_astarr_macs_input_overlap.encode_chipseq_NFE2_ENCFF023IFO.bed.gz\"    \n",
      "[15] \"fcc_astarr_macs_input_overlap.encode_chipseq_NRF1_ENCFF777PKJ.bed.gz\"    \n",
      "[16] \"fcc_astarr_macs_input_overlap.encode_chipseq_POLR2A_ENCFF355MNE.bed.gz\"  \n",
      "[17] \"fcc_astarr_macs_input_overlap.encode_chipseq_REST_ENCFF707MDI.bed.gz\"    \n",
      "[18] \"fcc_astarr_macs_input_overlap.encode_chipseq_SP1_ENCFF553GPK.bed.gz\"     \n",
      "[19] \"fcc_astarr_macs_input_overlap.encode_chipseq_TAL1_ENCFF852ZRK.bed.gz\"    \n",
      "[20] \"fcc_astarr_macs_input_overlap.encode_chipseq_YY1_ENCFF398UQZ.bed.gz\"     \n",
      "[21] \"fcc_astarr_macs_input_overlap.encode_chipseq_ZEB2_ENCFF242AOL.bed.gz\"    \n",
      "\n",
      "Save annotation... \n",
      "FDiry:  /data/reddylab/Kuei/repo/Proj_ENCODE_FCC/results/region_annotation/fcc_astarr_macs_input_overlap/summary \n",
      "FName1: region.intersect.encode_chipseq_subset.tsv \n",
      "FName2: region.annotation.encode_chipseq_subset.tsv \n",
      "\n",
      "===========================================\n",
      "Read annotation... \n",
      "Region A: fcc_astarr_macs | fcc_astarr_macs_input_union \n",
      "Region B: encode_chipseq_subset \n",
      "FDiry:    \n",
      "[1] \"/data/reddylab/Kuei/repo/Proj_ENCODE_FCC/results/region_annotation/fcc_astarr_macs_input_union/encode_chipseq_subset\"\n",
      "FName:    \n",
      " [1] \"fcc_astarr_macs_input_union.encode_chipseq_ATF1_ENCFF627RSK.bed.gz\"    \n",
      " [2] \"fcc_astarr_macs_input_union.encode_chipseq_CTCF_ENCFF660GHM.bed.gz\"    \n",
      " [3] \"fcc_astarr_macs_input_union.encode_chipseq_ELK1_ENCFF715WGN.bed.gz\"    \n",
      " [4] \"fcc_astarr_macs_input_union.encode_chipseq_EP300_ENCFF702XPO.bed.gz\"   \n",
      " [5] \"fcc_astarr_macs_input_union.encode_chipseq_GATA1_ENCFF657CTC.bed.gz\"   \n",
      " [6] \"fcc_astarr_macs_input_union.encode_chipseq_H3K27ac_ENCFF544LXB.bed.gz\" \n",
      " [7] \"fcc_astarr_macs_input_union.encode_chipseq_H3K27me3_ENCFF323WOT.bed.gz\"\n",
      " [8] \"fcc_astarr_macs_input_union.encode_chipseq_H3K4me1_ENCFF135ZLM.bed.gz\" \n",
      " [9] \"fcc_astarr_macs_input_union.encode_chipseq_H3K4me2_ENCFF749KLQ.bed.gz\" \n",
      "[10] \"fcc_astarr_macs_input_union.encode_chipseq_H3K4me3_ENCFF885FQN.bed.gz\" \n",
      "[11] \"fcc_astarr_macs_input_union.encode_chipseq_JUN_ENCFF190CGV.bed.gz\"     \n",
      "[12] \"fcc_astarr_macs_input_union.encode_chipseq_KLF10_ENCFF142ZTD.bed.gz\"   \n",
      "[13] \"fcc_astarr_macs_input_union.encode_chipseq_KLF16_ENCFF488OTN.bed.gz\"   \n",
      "[14] \"fcc_astarr_macs_input_union.encode_chipseq_NFE2_ENCFF023IFO.bed.gz\"    \n",
      "[15] \"fcc_astarr_macs_input_union.encode_chipseq_NRF1_ENCFF777PKJ.bed.gz\"    \n",
      "[16] \"fcc_astarr_macs_input_union.encode_chipseq_POLR2A_ENCFF355MNE.bed.gz\"  \n",
      "[17] \"fcc_astarr_macs_input_union.encode_chipseq_REST_ENCFF707MDI.bed.gz\"    \n",
      "[18] \"fcc_astarr_macs_input_union.encode_chipseq_SP1_ENCFF553GPK.bed.gz\"     \n",
      "[19] \"fcc_astarr_macs_input_union.encode_chipseq_TAL1_ENCFF852ZRK.bed.gz\"    \n",
      "[20] \"fcc_astarr_macs_input_union.encode_chipseq_YY1_ENCFF398UQZ.bed.gz\"     \n",
      "[21] \"fcc_astarr_macs_input_union.encode_chipseq_ZEB2_ENCFF242AOL.bed.gz\"    \n",
      "\n",
      "Save annotation... \n",
      "FDiry:  /data/reddylab/Kuei/repo/Proj_ENCODE_FCC/results/region_annotation/fcc_astarr_macs_input_union/summary \n",
      "FName1: region.intersect.encode_chipseq_subset.tsv \n",
      "FName2: region.annotation.encode_chipseq_subset.tsv \n",
      "\n"
     ]
    }
   ],
   "source": [
    "### loop through region A\n",
    "for (idx in seq_along(lst_region_label_A)){\n",
    "    ### get region A\n",
    "    lst = lst_region_label_A[[idx]]\n",
    "    txt_region_folder_A = lst$Folder\n",
    "    txt_region_label_A  = lst$Label\n",
    "\n",
    "    ### get column names for region A\n",
    "    txt_fdiry = file.path(FD_RES, \"region\", txt_region_folder_A, \"summary\")\n",
    "    txt_fname = \"description.tsv\"\n",
    "    txt_fpath = file.path(txt_fdiry, txt_fname)\n",
    "    dat_cname = read_tsv(txt_fpath, show_col_types = FALSE)\n",
    "    vec_txt_cname_A = dat_cname$Name\n",
    "\n",
    "    ### loop through region B\n",
    "    for (txt_region_folder_B in vec_txt_region_folder_B){\n",
    "        ### get column names for region B\n",
    "        txt_fdiry = file.path(FD_RES, \"region\", txt_region_folder_B, \"summary\")\n",
    "        txt_fname = \"description.tsv\"\n",
    "        txt_fpath = file.path(txt_fdiry, txt_fname)\n",
    "        dat_cname = read_tsv(txt_fpath, show_col_types = FALSE)\n",
    "        vec_txt_cname_B = dat_cname$Name\n",
    "\n",
    "        ### get total column names for annotation table\n",
    "        vec_txt_cname = c(\n",
    "            paste0(vec_txt_cname_A, \"_A\"),\n",
    "            paste0(vec_txt_cname_B, \"_B\"),\n",
    "            \"Overlap\"\n",
    "        )\n",
    "        \n",
    "        ### get directory of annotation table\n",
    "        txt_fdiry = file.path(\n",
    "            FD_RES, \n",
    "            \"region_annotation\",\n",
    "            txt_region_label_A, \n",
    "            txt_region_folder_B\n",
    "        )\n",
    "        txt_fname = \"*bed.gz\"\n",
    "        txt_fglob = file.path(txt_fdiry, txt_fname)\n",
    "\n",
    "        ### get annotation table files\n",
    "        vec_txt_fpath = Sys.glob(txt_fglob)\n",
    "        vec_txt_fname = basename(vec_txt_fpath)\n",
    "\n",
    "        ### show progress\n",
    "        cat(\"===========================================\\n\")\n",
    "        cat(\"Read annotation...\", \"\\n\")\n",
    "        cat(\"Region A:\", txt_region_folder_A, \"|\", txt_region_label_A, \"\\n\")\n",
    "        cat(\"Region B:\", txt_region_folder_B, \"\\n\")\n",
    "        cat(\"FDiry:   \", \"\\n\")\n",
    "        print(txt_fdiry)\n",
    "        cat(\"FName:   \", \"\\n\")\n",
    "        print(vec_txt_fname)\n",
    "        cat(\"\\n\")\n",
    "        flush.console()\n",
    "        \n",
    "        ### import annotation tables\n",
    "        lst = lapply(vec_txt_fname, function(txt_fname){\n",
    "            ### set directory\n",
    "            txt_fpath = file.path(txt_fdiry, txt_fname)\n",
    "            \n",
    "            ### get annotation of region A and region B\n",
    "            vec = str_split(txt_fname, \"\\\\.\")[[1]]\n",
    "            txt_annot_A = vec[1]\n",
    "            txt_annot_B = vec[2]\n",
    "\n",
    "            ### get group,label of region B\n",
    "            vec = str_split(txt_annot_B, \"_\")[[1]]\n",
    "            txt_group_B = \"ChIP-seq:Subset\"\n",
    "            txt_label_B = vec[3]\n",
    "            \n",
    "            ### read table and add annotation labels\n",
    "            dat = read_tsv(txt_fpath, col_names = vec_txt_cname, show_col_types = FALSE)\n",
    "            dat = dat %>% \n",
    "                dplyr::mutate(\n",
    "                    Region_A = fun_gen_region(Chrom_A, ChromStart_A, ChromEnd_A),\n",
    "                    Region_B = fun_gen_region(Chrom_B, ChromStart_B, ChromEnd_B),\n",
    "                    Annotation_A = txt_annot_A,\n",
    "                    Annotation_B = txt_annot_B,\n",
    "                    Group_B = txt_group_B,\n",
    "                    Label_B = txt_label_B\n",
    "                )\n",
    "            return(dat)\n",
    "        }) \n",
    "\n",
    "        ### concatenate tables\n",
    "        dat = bind_rows(lst)\n",
    "        dat_region_annot_pair = dat\n",
    "        \n",
    "        ### summarize annotation tables\n",
    "        dat = dat_region_annot_pair\n",
    "        dat = dat %>%\n",
    "            dplyr::group_by(\n",
    "                Chrom_A, ChromStart_A, ChromEnd_A, Region_A,\n",
    "                Annotation_A,\n",
    "                Annotation_B,\n",
    "                Group_B,\n",
    "                Label_B\n",
    "            ) %>%\n",
    "            dplyr::summarise(\n",
    "                Region_Annot = paste(Region_B, collapse=\";\"),\n",
    "                Region_Count = n(),\n",
    "                .groups = \"drop\")\n",
    "\n",
    "        ### rename the columns and assign\n",
    "        colnames(dat) = c(\n",
    "            \"Chrom\", \"ChromStart\", \"ChromEnd\", \"Region\", \n",
    "            \"Annotation_A\", \n",
    "            \"Annotation_B\",\n",
    "            \"Group\",\n",
    "            \"Label\",\n",
    "            \"Region_Annot\",\n",
    "            \"Region_Count\"\n",
    "        )\n",
    "        dat_region_annot_summary = dat\n",
    "\n",
    "\n",
    "        ### set directory\n",
    "        txt_fdiry = file.path(\n",
    "            FD_RES, \n",
    "            \"region_annotation\",\n",
    "            txt_region_label_A,\n",
    "            \"summary\"\n",
    "        )\n",
    "        txt_fname1 = paste(\"region\", \"intersect\",  txt_region_folder_B, \"tsv\", sep = \".\")\n",
    "        txt_fpath1 = file.path(txt_fdiry, txt_fname1)\n",
    "        txt_fname2 = paste(\"region\", \"annotation\", txt_region_folder_B, \"tsv\", sep = \".\")\n",
    "        txt_fpath2 = file.path(txt_fdiry, txt_fname2)\n",
    "        \n",
    "        ### show progress\n",
    "        cat(\"Save annotation...\",  \"\\n\")\n",
    "        cat(\"FDiry: \", txt_fdiry, \"\\n\")\n",
    "        cat(\"FName1:\", txt_fname1, \"\\n\")\n",
    "        cat(\"FName2:\", txt_fname2, \"\\n\")\n",
    "        cat(\"\\n\")\n",
    "        flush.console()\n",
    "\n",
    "        ### write tables\n",
    "        dir.create(txt_fdiry, showWarnings = FALSE)\n",
    "        write_tsv(dat_region_annot_pair,    txt_fpath1)\n",
    "        write_tsv(dat_region_annot_summary, txt_fpath2)\n",
    "    } ### end loop region B\n",
    "} ### end loop region A"
   ]
  },
  {
   "cell_type": "markdown",
   "id": "85b1fbff-f68f-4b41-835b-81a35dcb8e86",
   "metadata": {},
   "source": [
    "## Review"
   ]
  },
  {
   "cell_type": "code",
   "execution_count": 11,
   "id": "643a640a-4a8f-4ecc-8b1d-cce4d7ecb1ef",
   "metadata": {},
   "outputs": [
    {
     "data": {
      "text/html": [
       "<table class=\"dataframe\">\n",
       "<caption>A tibble: 6 × 20</caption>\n",
       "<thead>\n",
       "\t<tr><th scope=col>Chrom_A</th><th scope=col>ChromStart_A</th><th scope=col>ChromEnd_A</th><th scope=col>Chrom_B</th><th scope=col>ChromStart_B</th><th scope=col>ChromEnd_B</th><th scope=col>Name_B</th><th scope=col>Score_B</th><th scope=col>Strand_B</th><th scope=col>SignalValue_B</th><th scope=col>PValue_B</th><th scope=col>QValue_B</th><th scope=col>Peak_B</th><th scope=col>Overlap</th><th scope=col>Region_A</th><th scope=col>Region_B</th><th scope=col>Annotation_A</th><th scope=col>Annotation_B</th><th scope=col>Group_B</th><th scope=col>Label_B</th></tr>\n",
       "\t<tr><th scope=col>&lt;chr&gt;</th><th scope=col>&lt;dbl&gt;</th><th scope=col>&lt;dbl&gt;</th><th scope=col>&lt;chr&gt;</th><th scope=col>&lt;dbl&gt;</th><th scope=col>&lt;dbl&gt;</th><th scope=col>&lt;chr&gt;</th><th scope=col>&lt;dbl&gt;</th><th scope=col>&lt;chr&gt;</th><th scope=col>&lt;dbl&gt;</th><th scope=col>&lt;dbl&gt;</th><th scope=col>&lt;dbl&gt;</th><th scope=col>&lt;dbl&gt;</th><th scope=col>&lt;dbl&gt;</th><th scope=col>&lt;chr&gt;</th><th scope=col>&lt;chr&gt;</th><th scope=col>&lt;chr&gt;</th><th scope=col>&lt;chr&gt;</th><th scope=col>&lt;chr&gt;</th><th scope=col>&lt;chr&gt;</th></tr>\n",
       "</thead>\n",
       "<tbody>\n",
       "\t<tr><td>chr1</td><td>777949</td><td>779437</td><td>chr1</td><td>778198</td><td>779139</td><td>.</td><td>1000</td><td>.</td><td>10888.81006</td><td>-1</td><td>4.26233</td><td>505</td><td>941</td><td>chr1:777949-779437</td><td>chr1:778198-779139</td><td>fcc_astarr_macs_input_union</td><td>encode_chipseq_ATF1_ENCFF627RSK</td><td>ChIP-seq:Subset</td><td>ATF1</td></tr>\n",
       "\t<tr><td>chr1</td><td>816774</td><td>817547</td><td>chr1</td><td>817203</td><td>817893</td><td>.</td><td>1000</td><td>.</td><td>  111.09106</td><td>-1</td><td>3.87876</td><td>345</td><td>344</td><td>chr1:816774-817547</td><td>chr1:817203-817893</td><td>fcc_astarr_macs_input_union</td><td>encode_chipseq_ATF1_ENCFF627RSK</td><td>ChIP-seq:Subset</td><td>ATF1</td></tr>\n",
       "\t<tr><td>chr1</td><td>816774</td><td>817547</td><td>chr1</td><td>817206</td><td>817533</td><td>.</td><td>1000</td><td>.</td><td>  258.40874</td><td>-1</td><td>4.26233</td><td>141</td><td>327</td><td>chr1:816774-817547</td><td>chr1:817206-817533</td><td>fcc_astarr_macs_input_union</td><td>encode_chipseq_ATF1_ENCFF627RSK</td><td>ChIP-seq:Subset</td><td>ATF1</td></tr>\n",
       "\t<tr><td>chr1</td><td>826754</td><td>828040</td><td>chr1</td><td>827315</td><td>827649</td><td>.</td><td>1000</td><td>.</td><td>  157.62140</td><td>-1</td><td>3.91482</td><td>176</td><td>334</td><td>chr1:826754-828040</td><td>chr1:827315-827649</td><td>fcc_astarr_macs_input_union</td><td>encode_chipseq_ATF1_ENCFF627RSK</td><td>ChIP-seq:Subset</td><td>ATF1</td></tr>\n",
       "\t<tr><td>chr1</td><td>842480</td><td>843449</td><td>chr1</td><td>842533</td><td>843223</td><td>.</td><td> 754</td><td>.</td><td>   66.73495</td><td>-1</td><td>3.71724</td><td>345</td><td>690</td><td>chr1:842480-843449</td><td>chr1:842533-843223</td><td>fcc_astarr_macs_input_union</td><td>encode_chipseq_ATF1_ENCFF627RSK</td><td>ChIP-seq:Subset</td><td>ATF1</td></tr>\n",
       "\t<tr><td>chr1</td><td>869623</td><td>870250</td><td>chr1</td><td>869692</td><td>870382</td><td>.</td><td> 866</td><td>.</td><td>   67.40187</td><td>-1</td><td>3.78482</td><td>345</td><td>558</td><td>chr1:869623-870250</td><td>chr1:869692-870382</td><td>fcc_astarr_macs_input_union</td><td>encode_chipseq_ATF1_ENCFF627RSK</td><td>ChIP-seq:Subset</td><td>ATF1</td></tr>\n",
       "</tbody>\n",
       "</table>\n"
      ],
      "text/latex": [
       "A tibble: 6 × 20\n",
       "\\begin{tabular}{llllllllllllllllllll}\n",
       " Chrom\\_A & ChromStart\\_A & ChromEnd\\_A & Chrom\\_B & ChromStart\\_B & ChromEnd\\_B & Name\\_B & Score\\_B & Strand\\_B & SignalValue\\_B & PValue\\_B & QValue\\_B & Peak\\_B & Overlap & Region\\_A & Region\\_B & Annotation\\_A & Annotation\\_B & Group\\_B & Label\\_B\\\\\n",
       " <chr> & <dbl> & <dbl> & <chr> & <dbl> & <dbl> & <chr> & <dbl> & <chr> & <dbl> & <dbl> & <dbl> & <dbl> & <dbl> & <chr> & <chr> & <chr> & <chr> & <chr> & <chr>\\\\\n",
       "\\hline\n",
       "\t chr1 & 777949 & 779437 & chr1 & 778198 & 779139 & . & 1000 & . & 10888.81006 & -1 & 4.26233 & 505 & 941 & chr1:777949-779437 & chr1:778198-779139 & fcc\\_astarr\\_macs\\_input\\_union & encode\\_chipseq\\_ATF1\\_ENCFF627RSK & ChIP-seq:Subset & ATF1\\\\\n",
       "\t chr1 & 816774 & 817547 & chr1 & 817203 & 817893 & . & 1000 & . &   111.09106 & -1 & 3.87876 & 345 & 344 & chr1:816774-817547 & chr1:817203-817893 & fcc\\_astarr\\_macs\\_input\\_union & encode\\_chipseq\\_ATF1\\_ENCFF627RSK & ChIP-seq:Subset & ATF1\\\\\n",
       "\t chr1 & 816774 & 817547 & chr1 & 817206 & 817533 & . & 1000 & . &   258.40874 & -1 & 4.26233 & 141 & 327 & chr1:816774-817547 & chr1:817206-817533 & fcc\\_astarr\\_macs\\_input\\_union & encode\\_chipseq\\_ATF1\\_ENCFF627RSK & ChIP-seq:Subset & ATF1\\\\\n",
       "\t chr1 & 826754 & 828040 & chr1 & 827315 & 827649 & . & 1000 & . &   157.62140 & -1 & 3.91482 & 176 & 334 & chr1:826754-828040 & chr1:827315-827649 & fcc\\_astarr\\_macs\\_input\\_union & encode\\_chipseq\\_ATF1\\_ENCFF627RSK & ChIP-seq:Subset & ATF1\\\\\n",
       "\t chr1 & 842480 & 843449 & chr1 & 842533 & 843223 & . &  754 & . &    66.73495 & -1 & 3.71724 & 345 & 690 & chr1:842480-843449 & chr1:842533-843223 & fcc\\_astarr\\_macs\\_input\\_union & encode\\_chipseq\\_ATF1\\_ENCFF627RSK & ChIP-seq:Subset & ATF1\\\\\n",
       "\t chr1 & 869623 & 870250 & chr1 & 869692 & 870382 & . &  866 & . &    67.40187 & -1 & 3.78482 & 345 & 558 & chr1:869623-870250 & chr1:869692-870382 & fcc\\_astarr\\_macs\\_input\\_union & encode\\_chipseq\\_ATF1\\_ENCFF627RSK & ChIP-seq:Subset & ATF1\\\\\n",
       "\\end{tabular}\n"
      ],
      "text/markdown": [
       "\n",
       "A tibble: 6 × 20\n",
       "\n",
       "| Chrom_A &lt;chr&gt; | ChromStart_A &lt;dbl&gt; | ChromEnd_A &lt;dbl&gt; | Chrom_B &lt;chr&gt; | ChromStart_B &lt;dbl&gt; | ChromEnd_B &lt;dbl&gt; | Name_B &lt;chr&gt; | Score_B &lt;dbl&gt; | Strand_B &lt;chr&gt; | SignalValue_B &lt;dbl&gt; | PValue_B &lt;dbl&gt; | QValue_B &lt;dbl&gt; | Peak_B &lt;dbl&gt; | Overlap &lt;dbl&gt; | Region_A &lt;chr&gt; | Region_B &lt;chr&gt; | Annotation_A &lt;chr&gt; | Annotation_B &lt;chr&gt; | Group_B &lt;chr&gt; | Label_B &lt;chr&gt; |\n",
       "|---|---|---|---|---|---|---|---|---|---|---|---|---|---|---|---|---|---|---|---|\n",
       "| chr1 | 777949 | 779437 | chr1 | 778198 | 779139 | . | 1000 | . | 10888.81006 | -1 | 4.26233 | 505 | 941 | chr1:777949-779437 | chr1:778198-779139 | fcc_astarr_macs_input_union | encode_chipseq_ATF1_ENCFF627RSK | ChIP-seq:Subset | ATF1 |\n",
       "| chr1 | 816774 | 817547 | chr1 | 817203 | 817893 | . | 1000 | . |   111.09106 | -1 | 3.87876 | 345 | 344 | chr1:816774-817547 | chr1:817203-817893 | fcc_astarr_macs_input_union | encode_chipseq_ATF1_ENCFF627RSK | ChIP-seq:Subset | ATF1 |\n",
       "| chr1 | 816774 | 817547 | chr1 | 817206 | 817533 | . | 1000 | . |   258.40874 | -1 | 4.26233 | 141 | 327 | chr1:816774-817547 | chr1:817206-817533 | fcc_astarr_macs_input_union | encode_chipseq_ATF1_ENCFF627RSK | ChIP-seq:Subset | ATF1 |\n",
       "| chr1 | 826754 | 828040 | chr1 | 827315 | 827649 | . | 1000 | . |   157.62140 | -1 | 3.91482 | 176 | 334 | chr1:826754-828040 | chr1:827315-827649 | fcc_astarr_macs_input_union | encode_chipseq_ATF1_ENCFF627RSK | ChIP-seq:Subset | ATF1 |\n",
       "| chr1 | 842480 | 843449 | chr1 | 842533 | 843223 | . |  754 | . |    66.73495 | -1 | 3.71724 | 345 | 690 | chr1:842480-843449 | chr1:842533-843223 | fcc_astarr_macs_input_union | encode_chipseq_ATF1_ENCFF627RSK | ChIP-seq:Subset | ATF1 |\n",
       "| chr1 | 869623 | 870250 | chr1 | 869692 | 870382 | . |  866 | . |    67.40187 | -1 | 3.78482 | 345 | 558 | chr1:869623-870250 | chr1:869692-870382 | fcc_astarr_macs_input_union | encode_chipseq_ATF1_ENCFF627RSK | ChIP-seq:Subset | ATF1 |\n",
       "\n"
      ],
      "text/plain": [
       "  Chrom_A ChromStart_A ChromEnd_A Chrom_B ChromStart_B ChromEnd_B Name_B\n",
       "1 chr1    777949       779437     chr1    778198       779139     .     \n",
       "2 chr1    816774       817547     chr1    817203       817893     .     \n",
       "3 chr1    816774       817547     chr1    817206       817533     .     \n",
       "4 chr1    826754       828040     chr1    827315       827649     .     \n",
       "5 chr1    842480       843449     chr1    842533       843223     .     \n",
       "6 chr1    869623       870250     chr1    869692       870382     .     \n",
       "  Score_B Strand_B SignalValue_B PValue_B QValue_B Peak_B Overlap\n",
       "1 1000    .        10888.81006   -1       4.26233  505    941    \n",
       "2 1000    .          111.09106   -1       3.87876  345    344    \n",
       "3 1000    .          258.40874   -1       4.26233  141    327    \n",
       "4 1000    .          157.62140   -1       3.91482  176    334    \n",
       "5  754    .           66.73495   -1       3.71724  345    690    \n",
       "6  866    .           67.40187   -1       3.78482  345    558    \n",
       "  Region_A           Region_B           Annotation_A               \n",
       "1 chr1:777949-779437 chr1:778198-779139 fcc_astarr_macs_input_union\n",
       "2 chr1:816774-817547 chr1:817203-817893 fcc_astarr_macs_input_union\n",
       "3 chr1:816774-817547 chr1:817206-817533 fcc_astarr_macs_input_union\n",
       "4 chr1:826754-828040 chr1:827315-827649 fcc_astarr_macs_input_union\n",
       "5 chr1:842480-843449 chr1:842533-843223 fcc_astarr_macs_input_union\n",
       "6 chr1:869623-870250 chr1:869692-870382 fcc_astarr_macs_input_union\n",
       "  Annotation_B                    Group_B         Label_B\n",
       "1 encode_chipseq_ATF1_ENCFF627RSK ChIP-seq:Subset ATF1   \n",
       "2 encode_chipseq_ATF1_ENCFF627RSK ChIP-seq:Subset ATF1   \n",
       "3 encode_chipseq_ATF1_ENCFF627RSK ChIP-seq:Subset ATF1   \n",
       "4 encode_chipseq_ATF1_ENCFF627RSK ChIP-seq:Subset ATF1   \n",
       "5 encode_chipseq_ATF1_ENCFF627RSK ChIP-seq:Subset ATF1   \n",
       "6 encode_chipseq_ATF1_ENCFF627RSK ChIP-seq:Subset ATF1   "
      ]
     },
     "metadata": {},
     "output_type": "display_data"
    }
   ],
   "source": [
    "head(dat_region_annot_pair)"
   ]
  },
  {
   "cell_type": "code",
   "execution_count": 12,
   "id": "f778e5e6-c8fb-4aac-bac7-6a228c13ac22",
   "metadata": {},
   "outputs": [
    {
     "data": {
      "text/html": [
       "<table class=\"dataframe\">\n",
       "<caption>A tibble: 6 × 10</caption>\n",
       "<thead>\n",
       "\t<tr><th scope=col>Chrom</th><th scope=col>ChromStart</th><th scope=col>ChromEnd</th><th scope=col>Region</th><th scope=col>Annotation_A</th><th scope=col>Annotation_B</th><th scope=col>Group</th><th scope=col>Label</th><th scope=col>Region_Annot</th><th scope=col>Region_Count</th></tr>\n",
       "\t<tr><th scope=col>&lt;chr&gt;</th><th scope=col>&lt;dbl&gt;</th><th scope=col>&lt;dbl&gt;</th><th scope=col>&lt;chr&gt;</th><th scope=col>&lt;chr&gt;</th><th scope=col>&lt;chr&gt;</th><th scope=col>&lt;chr&gt;</th><th scope=col>&lt;chr&gt;</th><th scope=col>&lt;chr&gt;</th><th scope=col>&lt;int&gt;</th></tr>\n",
       "</thead>\n",
       "<tbody>\n",
       "\t<tr><td>chr1</td><td> 16015</td><td> 16477</td><td>chr1:16015-16477  </td><td>fcc_astarr_macs_input_union</td><td>encode_chipseq_CTCF_ENCFF660GHM  </td><td>ChIP-seq:Subset</td><td>CTCF  </td><td>chr1:16127-16367  </td><td>1</td></tr>\n",
       "\t<tr><td>chr1</td><td> 17237</td><td> 17772</td><td>chr1:17237-17772  </td><td>fcc_astarr_macs_input_union</td><td>encode_chipseq_POLR2A_ENCFF355MNE</td><td>ChIP-seq:Subset</td><td>POLR2A</td><td>chr1:17333-17518  </td><td>1</td></tr>\n",
       "\t<tr><td>chr1</td><td>115411</td><td>115986</td><td>chr1:115411-115986</td><td>fcc_astarr_macs_input_union</td><td>encode_chipseq_EP300_ENCFF702XPO </td><td>ChIP-seq:Subset</td><td>EP300 </td><td>chr1:115579-115895</td><td>1</td></tr>\n",
       "\t<tr><td>chr1</td><td>115411</td><td>115986</td><td>chr1:115411-115986</td><td>fcc_astarr_macs_input_union</td><td>encode_chipseq_NFE2_ENCFF023IFO  </td><td>ChIP-seq:Subset</td><td>NFE2  </td><td>chr1:115518-115922</td><td>1</td></tr>\n",
       "\t<tr><td>chr1</td><td>115411</td><td>115986</td><td>chr1:115411-115986</td><td>fcc_astarr_macs_input_union</td><td>encode_chipseq_NRF1_ENCFF777PKJ  </td><td>ChIP-seq:Subset</td><td>NRF1  </td><td>chr1:115456-116012</td><td>1</td></tr>\n",
       "\t<tr><td>chr1</td><td>115411</td><td>115986</td><td>chr1:115411-115986</td><td>fcc_astarr_macs_input_union</td><td>encode_chipseq_POLR2A_ENCFF355MNE</td><td>ChIP-seq:Subset</td><td>POLR2A</td><td>chr1:115625-115913</td><td>1</td></tr>\n",
       "</tbody>\n",
       "</table>\n"
      ],
      "text/latex": [
       "A tibble: 6 × 10\n",
       "\\begin{tabular}{llllllllll}\n",
       " Chrom & ChromStart & ChromEnd & Region & Annotation\\_A & Annotation\\_B & Group & Label & Region\\_Annot & Region\\_Count\\\\\n",
       " <chr> & <dbl> & <dbl> & <chr> & <chr> & <chr> & <chr> & <chr> & <chr> & <int>\\\\\n",
       "\\hline\n",
       "\t chr1 &  16015 &  16477 & chr1:16015-16477   & fcc\\_astarr\\_macs\\_input\\_union & encode\\_chipseq\\_CTCF\\_ENCFF660GHM   & ChIP-seq:Subset & CTCF   & chr1:16127-16367   & 1\\\\\n",
       "\t chr1 &  17237 &  17772 & chr1:17237-17772   & fcc\\_astarr\\_macs\\_input\\_union & encode\\_chipseq\\_POLR2A\\_ENCFF355MNE & ChIP-seq:Subset & POLR2A & chr1:17333-17518   & 1\\\\\n",
       "\t chr1 & 115411 & 115986 & chr1:115411-115986 & fcc\\_astarr\\_macs\\_input\\_union & encode\\_chipseq\\_EP300\\_ENCFF702XPO  & ChIP-seq:Subset & EP300  & chr1:115579-115895 & 1\\\\\n",
       "\t chr1 & 115411 & 115986 & chr1:115411-115986 & fcc\\_astarr\\_macs\\_input\\_union & encode\\_chipseq\\_NFE2\\_ENCFF023IFO   & ChIP-seq:Subset & NFE2   & chr1:115518-115922 & 1\\\\\n",
       "\t chr1 & 115411 & 115986 & chr1:115411-115986 & fcc\\_astarr\\_macs\\_input\\_union & encode\\_chipseq\\_NRF1\\_ENCFF777PKJ   & ChIP-seq:Subset & NRF1   & chr1:115456-116012 & 1\\\\\n",
       "\t chr1 & 115411 & 115986 & chr1:115411-115986 & fcc\\_astarr\\_macs\\_input\\_union & encode\\_chipseq\\_POLR2A\\_ENCFF355MNE & ChIP-seq:Subset & POLR2A & chr1:115625-115913 & 1\\\\\n",
       "\\end{tabular}\n"
      ],
      "text/markdown": [
       "\n",
       "A tibble: 6 × 10\n",
       "\n",
       "| Chrom &lt;chr&gt; | ChromStart &lt;dbl&gt; | ChromEnd &lt;dbl&gt; | Region &lt;chr&gt; | Annotation_A &lt;chr&gt; | Annotation_B &lt;chr&gt; | Group &lt;chr&gt; | Label &lt;chr&gt; | Region_Annot &lt;chr&gt; | Region_Count &lt;int&gt; |\n",
       "|---|---|---|---|---|---|---|---|---|---|\n",
       "| chr1 |  16015 |  16477 | chr1:16015-16477   | fcc_astarr_macs_input_union | encode_chipseq_CTCF_ENCFF660GHM   | ChIP-seq:Subset | CTCF   | chr1:16127-16367   | 1 |\n",
       "| chr1 |  17237 |  17772 | chr1:17237-17772   | fcc_astarr_macs_input_union | encode_chipseq_POLR2A_ENCFF355MNE | ChIP-seq:Subset | POLR2A | chr1:17333-17518   | 1 |\n",
       "| chr1 | 115411 | 115986 | chr1:115411-115986 | fcc_astarr_macs_input_union | encode_chipseq_EP300_ENCFF702XPO  | ChIP-seq:Subset | EP300  | chr1:115579-115895 | 1 |\n",
       "| chr1 | 115411 | 115986 | chr1:115411-115986 | fcc_astarr_macs_input_union | encode_chipseq_NFE2_ENCFF023IFO   | ChIP-seq:Subset | NFE2   | chr1:115518-115922 | 1 |\n",
       "| chr1 | 115411 | 115986 | chr1:115411-115986 | fcc_astarr_macs_input_union | encode_chipseq_NRF1_ENCFF777PKJ   | ChIP-seq:Subset | NRF1   | chr1:115456-116012 | 1 |\n",
       "| chr1 | 115411 | 115986 | chr1:115411-115986 | fcc_astarr_macs_input_union | encode_chipseq_POLR2A_ENCFF355MNE | ChIP-seq:Subset | POLR2A | chr1:115625-115913 | 1 |\n",
       "\n"
      ],
      "text/plain": [
       "  Chrom ChromStart ChromEnd Region             Annotation_A               \n",
       "1 chr1   16015      16477   chr1:16015-16477   fcc_astarr_macs_input_union\n",
       "2 chr1   17237      17772   chr1:17237-17772   fcc_astarr_macs_input_union\n",
       "3 chr1  115411     115986   chr1:115411-115986 fcc_astarr_macs_input_union\n",
       "4 chr1  115411     115986   chr1:115411-115986 fcc_astarr_macs_input_union\n",
       "5 chr1  115411     115986   chr1:115411-115986 fcc_astarr_macs_input_union\n",
       "6 chr1  115411     115986   chr1:115411-115986 fcc_astarr_macs_input_union\n",
       "  Annotation_B                      Group           Label  Region_Annot      \n",
       "1 encode_chipseq_CTCF_ENCFF660GHM   ChIP-seq:Subset CTCF   chr1:16127-16367  \n",
       "2 encode_chipseq_POLR2A_ENCFF355MNE ChIP-seq:Subset POLR2A chr1:17333-17518  \n",
       "3 encode_chipseq_EP300_ENCFF702XPO  ChIP-seq:Subset EP300  chr1:115579-115895\n",
       "4 encode_chipseq_NFE2_ENCFF023IFO   ChIP-seq:Subset NFE2   chr1:115518-115922\n",
       "5 encode_chipseq_NRF1_ENCFF777PKJ   ChIP-seq:Subset NRF1   chr1:115456-116012\n",
       "6 encode_chipseq_POLR2A_ENCFF355MNE ChIP-seq:Subset POLR2A chr1:115625-115913\n",
       "  Region_Count\n",
       "1 1           \n",
       "2 1           \n",
       "3 1           \n",
       "4 1           \n",
       "5 1           \n",
       "6 1           "
      ]
     },
     "metadata": {},
     "output_type": "display_data"
    }
   ],
   "source": [
    "head(dat_region_annot_summary)"
   ]
  },
  {
   "cell_type": "code",
   "execution_count": null,
   "id": "f13eb989-c4ee-4c6b-9bee-99d5c7941895",
   "metadata": {},
   "outputs": [],
   "source": []
  },
  {
   "cell_type": "code",
   "execution_count": null,
   "id": "f5818029-7788-4a74-824c-311be290a161",
   "metadata": {},
   "outputs": [],
   "source": []
  },
  {
   "cell_type": "code",
   "execution_count": null,
   "id": "73222702-5ca9-424a-b2ee-6f169bd0cbc6",
   "metadata": {},
   "outputs": [],
   "source": []
  }
 ],
 "metadata": {
  "kernelspec": {
   "display_name": "R",
   "language": "R",
   "name": "ir"
  },
  "language_info": {
   "codemirror_mode": "r",
   "file_extension": ".r",
   "mimetype": "text/x-r-source",
   "name": "R",
   "pygments_lexer": "r",
   "version": "4.4.1"
  }
 },
 "nbformat": 4,
 "nbformat_minor": 5
}
