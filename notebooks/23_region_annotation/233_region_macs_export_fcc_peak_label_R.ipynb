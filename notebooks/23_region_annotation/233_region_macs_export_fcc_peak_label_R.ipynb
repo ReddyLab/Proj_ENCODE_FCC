{
 "cells": [
  {
   "cell_type": "raw",
   "id": "23d59dc6-66f8-4147-a0a9-2816e7f03a61",
   "metadata": {},
   "source": [
    "---\n",
    "title: FCC Peak calls\n",
    "subtitle: export annotation\n",
    "format:\n",
    "    html:\n",
    "        code-fold:  true\n",
    "        code-tools: true\n",
    "---"
   ]
  },
  {
   "cell_type": "markdown",
   "id": "455a6d42-b149-42a5-a2e4-ba62583cf4d7",
   "metadata": {},
   "source": [
    "**Set environment**"
   ]
  },
  {
   "cell_type": "code",
   "execution_count": 1,
   "id": "e7dca752-c660-4129-b226-04384c14f5ff",
   "metadata": {
    "tags": []
   },
   "outputs": [
    {
     "name": "stdout",
     "output_type": "stream",
     "text": [
      "You are working on        Singularity: singularity_proj_encode_fcc \n",
      "BASE DIRECTORY (FD_BASE): /data/reddylab/Kuei \n",
      "REPO DIRECTORY (FD_REPO): /data/reddylab/Kuei/repo \n",
      "WORK DIRECTORY (FD_WORK): /data/reddylab/Kuei/work \n",
      "DATA DIRECTORY (FD_DATA): /data/reddylab/Kuei/data \n",
      "\n",
      "You are working with      ENCODE FCC \n",
      "PATH OF PROJECT (FD_PRJ): /data/reddylab/Kuei/repo/Proj_ENCODE_FCC \n",
      "PROJECT RESULTS (FD_RES): /data/reddylab/Kuei/repo/Proj_ENCODE_FCC/results \n",
      "PROJECT SCRIPTS (FD_EXE): /data/reddylab/Kuei/repo/Proj_ENCODE_FCC/scripts \n",
      "PROJECT DATA    (FD_DAT): /data/reddylab/Kuei/repo/Proj_ENCODE_FCC/data \n",
      "PROJECT NOTE    (FD_NBK): /data/reddylab/Kuei/repo/Proj_ENCODE_FCC/notebooks \n",
      "PROJECT DOCS    (FD_DOC): /data/reddylab/Kuei/repo/Proj_ENCODE_FCC/docs \n",
      "PROJECT LOG     (FD_LOG): /data/reddylab/Kuei/repo/Proj_ENCODE_FCC/log \n",
      "PROJECT REF     (FD_REF): /data/reddylab/Kuei/repo/Proj_ENCODE_FCC/references \n",
      "\n"
     ]
    }
   ],
   "source": [
    "suppressMessages(suppressWarnings(source(\"../run_config_project_sing.R\")))\n",
    "show_env()"
   ]
  },
  {
   "cell_type": "markdown",
   "id": "c5c4618f-4f8f-4f3e-aac0-39d3c6e40304",
   "metadata": {},
   "source": [
    "## Import data"
   ]
  },
  {
   "cell_type": "markdown",
   "id": "831c5a54-560f-4fe9-9bdb-265dcb7d92b8",
   "metadata": {},
   "source": [
    "**Total ATAC**"
   ]
  },
  {
   "cell_type": "code",
   "execution_count": 2,
   "id": "5a54fbc6-7b39-48bf-af1f-e4c3202ca7c7",
   "metadata": {},
   "outputs": [
    {
     "name": "stdout",
     "output_type": "stream",
     "text": [
      "[1] 150041      4\n"
     ]
    },
    {
     "data": {
      "text/html": [
       "<table>\n",
       " <thead>\n",
       "  <tr>\n",
       "   <th style=\"text-align:left;\"> Chrom </th>\n",
       "   <th style=\"text-align:right;\"> ChromStart </th>\n",
       "   <th style=\"text-align:right;\"> ChromEnd </th>\n",
       "   <th style=\"text-align:left;\"> Region </th>\n",
       "  </tr>\n",
       " </thead>\n",
       "<tbody>\n",
       "  <tr>\n",
       "   <td style=\"text-align:left;\"> chr1 </td>\n",
       "   <td style=\"text-align:right;\"> 14282 </td>\n",
       "   <td style=\"text-align:right;\"> 14614 </td>\n",
       "   <td style=\"text-align:left;\"> chr1:14282-14614 </td>\n",
       "  </tr>\n",
       "  <tr>\n",
       "   <td style=\"text-align:left;\"> chr1 </td>\n",
       "   <td style=\"text-align:right;\"> 16025 </td>\n",
       "   <td style=\"text-align:right;\"> 16338 </td>\n",
       "   <td style=\"text-align:left;\"> chr1:16025-16338 </td>\n",
       "  </tr>\n",
       "  <tr>\n",
       "   <td style=\"text-align:left;\"> chr1 </td>\n",
       "   <td style=\"text-align:right;\"> 17288 </td>\n",
       "   <td style=\"text-align:right;\"> 17689 </td>\n",
       "   <td style=\"text-align:left;\"> chr1:17288-17689 </td>\n",
       "  </tr>\n",
       "</tbody>\n",
       "</table>"
      ]
     },
     "metadata": {},
     "output_type": "display_data"
    }
   ],
   "source": [
    "txt_fdiry = file.path(\n",
    "    FD_RES, \n",
    "    \"region\", \n",
    "    \"fcc_astarr_macs\"\n",
    ")\n",
    "txt_fname = \"K562.hg38.ASTARR.macs.KS91.input.rep_all.max_overlaps.q5.bed.gz\"\n",
    "txt_fpath = file.path(txt_fdiry, txt_fname)\n",
    "\n",
    "dat = read_tsv(txt_fpath, show_col_types = FALSE)\n",
    "colnames(dat) = c(\"Chrom\", \"ChromStart\", \"ChromEnd\")\n",
    "\n",
    "dat = dat %>% dplyr::mutate(Region = fun_gen_region(Chrom, ChromStart, ChromEnd))\n",
    "\n",
    "dat_region_atac = dat\n",
    "print(dim(dat))\n",
    "fun_display_table(head(dat, 3))"
   ]
  },
  {
   "cell_type": "markdown",
   "id": "2583ddd1-365b-4888-8821-1ad9afb9eec4",
   "metadata": {},
   "source": [
    "**ATAC with TSS**"
   ]
  },
  {
   "cell_type": "code",
   "execution_count": 3,
   "id": "4715e482-b569-4b3f-9832-bafdd34616de",
   "metadata": {},
   "outputs": [
    {
     "name": "stdout",
     "output_type": "stream",
     "text": [
      "[1] 10817     7\n"
     ]
    },
    {
     "data": {
      "text/html": [
       "<table>\n",
       " <thead>\n",
       "  <tr>\n",
       "   <th style=\"text-align:left;\"> Chrom </th>\n",
       "   <th style=\"text-align:right;\"> ChromStart </th>\n",
       "   <th style=\"text-align:right;\"> ChromEnd </th>\n",
       "   <th style=\"text-align:left;\"> Region </th>\n",
       "   <th style=\"text-align:left;\"> Group </th>\n",
       "   <th style=\"text-align:left;\"> Label </th>\n",
       "   <th style=\"text-align:left;\"> Essential </th>\n",
       "  </tr>\n",
       " </thead>\n",
       "<tbody>\n",
       "  <tr>\n",
       "   <td style=\"text-align:left;\"> chr1 </td>\n",
       "   <td style=\"text-align:right;\"> 28934 </td>\n",
       "   <td style=\"text-align:right;\"> 29499 </td>\n",
       "   <td style=\"text-align:left;\"> chr1:28934-29499 </td>\n",
       "   <td style=\"text-align:left;\"> TSS_Pol2_RNAseq </td>\n",
       "   <td style=\"text-align:left;\"> WASH7P </td>\n",
       "   <td style=\"text-align:left;\"> FALSE </td>\n",
       "  </tr>\n",
       "  <tr>\n",
       "   <td style=\"text-align:left;\"> chr1 </td>\n",
       "   <td style=\"text-align:right;\"> 826796 </td>\n",
       "   <td style=\"text-align:right;\"> 828040 </td>\n",
       "   <td style=\"text-align:left;\"> chr1:826796-828040 </td>\n",
       "   <td style=\"text-align:left;\"> TSS_Pol2_RNAseq </td>\n",
       "   <td style=\"text-align:left;\"> LINC00115 </td>\n",
       "   <td style=\"text-align:left;\"> FALSE </td>\n",
       "  </tr>\n",
       "  <tr>\n",
       "   <td style=\"text-align:left;\"> chr1 </td>\n",
       "   <td style=\"text-align:right;\"> 826796 </td>\n",
       "   <td style=\"text-align:right;\"> 828040 </td>\n",
       "   <td style=\"text-align:left;\"> chr1:826796-828040 </td>\n",
       "   <td style=\"text-align:left;\"> TSS_Pol2_RNAseq </td>\n",
       "   <td style=\"text-align:left;\"> LINC01128 </td>\n",
       "   <td style=\"text-align:left;\"> FALSE </td>\n",
       "  </tr>\n",
       "</tbody>\n",
       "</table>"
      ]
     },
     "metadata": {},
     "output_type": "display_data"
    }
   ],
   "source": [
    "txt_fdiry = file.path(\n",
    "    FD_RES, \n",
    "    \"region_annotation\", \n",
    "    \"fcc_astarr_macs_input_overlap\",\n",
    "    \"summary\"\n",
    ")\n",
    "txt_fname = \"region.summary.genome_tss.tsv\"\n",
    "txt_fpath = file.path(txt_fdiry, txt_fname)\n",
    "\n",
    "dat = read_tsv(txt_fpath, show_col_types = FALSE)\n",
    "\n",
    "dat_region_annot_tss = dat\n",
    "print(dim(dat))\n",
    "fun_display_table(head(dat, 3))"
   ]
  },
  {
   "cell_type": "markdown",
   "id": "a916014a-cea4-48b8-9c0e-f297e4e7f30d",
   "metadata": {},
   "source": [
    "**ATAC with STARR/MPRA/CRISPR peak**"
   ]
  },
  {
   "cell_type": "code",
   "execution_count": 4,
   "id": "06db0ab9-2415-409e-a8ed-8cce3d2bc4b0",
   "metadata": {},
   "outputs": [
    {
     "name": "stdout",
     "output_type": "stream",
     "text": [
      "[1] 160666      6\n"
     ]
    },
    {
     "data": {
      "text/html": [
       "<table>\n",
       " <thead>\n",
       "  <tr>\n",
       "   <th style=\"text-align:left;\"> Chrom </th>\n",
       "   <th style=\"text-align:right;\"> ChromStart </th>\n",
       "   <th style=\"text-align:right;\"> ChromEnd </th>\n",
       "   <th style=\"text-align:left;\"> Region </th>\n",
       "   <th style=\"text-align:left;\"> Type </th>\n",
       "   <th style=\"text-align:right;\"> Num_Assay </th>\n",
       "  </tr>\n",
       " </thead>\n",
       "<tbody>\n",
       "  <tr>\n",
       "   <td style=\"text-align:left;\"> chr1 </td>\n",
       "   <td style=\"text-align:right;\"> 115429 </td>\n",
       "   <td style=\"text-align:right;\"> 115969 </td>\n",
       "   <td style=\"text-align:left;\"> chr1:115429-115969 </td>\n",
       "   <td style=\"text-align:left;\"> Enhance </td>\n",
       "   <td style=\"text-align:right;\"> 1 </td>\n",
       "  </tr>\n",
       "  <tr>\n",
       "   <td style=\"text-align:left;\"> chr1 </td>\n",
       "   <td style=\"text-align:right;\"> 184091 </td>\n",
       "   <td style=\"text-align:right;\"> 184563 </td>\n",
       "   <td style=\"text-align:left;\"> chr1:184091-184563 </td>\n",
       "   <td style=\"text-align:left;\"> Enhance </td>\n",
       "   <td style=\"text-align:right;\"> 1 </td>\n",
       "  </tr>\n",
       "  <tr>\n",
       "   <td style=\"text-align:left;\"> chr1 </td>\n",
       "   <td style=\"text-align:right;\"> 605104 </td>\n",
       "   <td style=\"text-align:right;\"> 605675 </td>\n",
       "   <td style=\"text-align:left;\"> chr1:605104-605675 </td>\n",
       "   <td style=\"text-align:left;\"> Enhance </td>\n",
       "   <td style=\"text-align:right;\"> 1 </td>\n",
       "  </tr>\n",
       "</tbody>\n",
       "</table>"
      ]
     },
     "metadata": {},
     "output_type": "display_data"
    }
   ],
   "source": [
    "txt_fdiry = file.path(\n",
    "    FD_RES, \n",
    "    \"region_annotation\", \n",
    "    \"fcc_astarr_macs_input_overlap\",\n",
    "    \"summary\"\n",
    ")\n",
    "txt_fname = \"region.summary.fcc_peak_call.assayvote.tsv\"\n",
    "txt_fpath = file.path(txt_fdiry, txt_fname)\n",
    "\n",
    "dat = read_tsv(txt_fpath, show_col_types = FALSE)\n",
    "\n",
    "dat_region_annot_fcc_assay_vote = dat\n",
    "print(dim(dat))\n",
    "fun_display_table(head(dat, 3))"
   ]
  },
  {
   "cell_type": "code",
   "execution_count": 5,
   "id": "17f9dee0-2d4c-41a7-bc6d-881584717170",
   "metadata": {},
   "outputs": [
    {
     "name": "stdout",
     "output_type": "stream",
     "text": [
      "[1] 100454     15\n"
     ]
    },
    {
     "data": {
      "text/html": [
       "<table>\n",
       " <thead>\n",
       "  <tr>\n",
       "   <th style=\"text-align:left;\"> Chrom </th>\n",
       "   <th style=\"text-align:right;\"> ChromStart </th>\n",
       "   <th style=\"text-align:right;\"> ChromEnd </th>\n",
       "   <th style=\"text-align:left;\"> Region </th>\n",
       "   <th style=\"text-align:right;\"> ASTARR_A </th>\n",
       "   <th style=\"text-align:right;\"> WSTARR_A </th>\n",
       "   <th style=\"text-align:right;\"> LMPRA_A </th>\n",
       "   <th style=\"text-align:right;\"> TMPRA_A </th>\n",
       "   <th style=\"text-align:right;\"> ASTARR_R </th>\n",
       "   <th style=\"text-align:right;\"> WSTARR_R </th>\n",
       "   <th style=\"text-align:right;\"> LMPRA_R </th>\n",
       "   <th style=\"text-align:right;\"> TMPRA_R </th>\n",
       "   <th style=\"text-align:right;\"> CRISPRi-HCRFF </th>\n",
       "   <th style=\"text-align:right;\"> CRISPRi-Growth </th>\n",
       "   <th style=\"text-align:right;\"> CRISPR-E2G </th>\n",
       "  </tr>\n",
       " </thead>\n",
       "<tbody>\n",
       "  <tr>\n",
       "   <td style=\"text-align:left;\"> chr1 </td>\n",
       "   <td style=\"text-align:right;\"> 10038 </td>\n",
       "   <td style=\"text-align:right;\"> 10405 </td>\n",
       "   <td style=\"text-align:left;\"> chr1:10038-10405 </td>\n",
       "   <td style=\"text-align:right;\"> 0 </td>\n",
       "   <td style=\"text-align:right;\"> 0 </td>\n",
       "   <td style=\"text-align:right;\"> 0 </td>\n",
       "   <td style=\"text-align:right;\"> 0 </td>\n",
       "   <td style=\"text-align:right;\"> 1 </td>\n",
       "   <td style=\"text-align:right;\"> 0 </td>\n",
       "   <td style=\"text-align:right;\"> 0 </td>\n",
       "   <td style=\"text-align:right;\"> 0 </td>\n",
       "   <td style=\"text-align:right;\"> 0 </td>\n",
       "   <td style=\"text-align:right;\"> 0 </td>\n",
       "   <td style=\"text-align:right;\"> 0 </td>\n",
       "  </tr>\n",
       "  <tr>\n",
       "   <td style=\"text-align:left;\"> chr1 </td>\n",
       "   <td style=\"text-align:right;\"> 16025 </td>\n",
       "   <td style=\"text-align:right;\"> 16338 </td>\n",
       "   <td style=\"text-align:left;\"> chr1:16025-16338 </td>\n",
       "   <td style=\"text-align:right;\"> 0 </td>\n",
       "   <td style=\"text-align:right;\"> 0 </td>\n",
       "   <td style=\"text-align:right;\"> 0 </td>\n",
       "   <td style=\"text-align:right;\"> 0 </td>\n",
       "   <td style=\"text-align:right;\"> 1 </td>\n",
       "   <td style=\"text-align:right;\"> 0 </td>\n",
       "   <td style=\"text-align:right;\"> 0 </td>\n",
       "   <td style=\"text-align:right;\"> 0 </td>\n",
       "   <td style=\"text-align:right;\"> 0 </td>\n",
       "   <td style=\"text-align:right;\"> 0 </td>\n",
       "   <td style=\"text-align:right;\"> 0 </td>\n",
       "  </tr>\n",
       "  <tr>\n",
       "   <td style=\"text-align:left;\"> chr1 </td>\n",
       "   <td style=\"text-align:right;\"> 17288 </td>\n",
       "   <td style=\"text-align:right;\"> 17689 </td>\n",
       "   <td style=\"text-align:left;\"> chr1:17288-17689 </td>\n",
       "   <td style=\"text-align:right;\"> 0 </td>\n",
       "   <td style=\"text-align:right;\"> 0 </td>\n",
       "   <td style=\"text-align:right;\"> 0 </td>\n",
       "   <td style=\"text-align:right;\"> 0 </td>\n",
       "   <td style=\"text-align:right;\"> 1 </td>\n",
       "   <td style=\"text-align:right;\"> 0 </td>\n",
       "   <td style=\"text-align:right;\"> 0 </td>\n",
       "   <td style=\"text-align:right;\"> 0 </td>\n",
       "   <td style=\"text-align:right;\"> 0 </td>\n",
       "   <td style=\"text-align:right;\"> 0 </td>\n",
       "   <td style=\"text-align:right;\"> 0 </td>\n",
       "  </tr>\n",
       "</tbody>\n",
       "</table>"
      ]
     },
     "metadata": {},
     "output_type": "display_data"
    }
   ],
   "source": [
    "txt_fdiry = file.path(\n",
    "    FD_RES, \n",
    "    \"region_annotation\", \n",
    "    \"fcc_astarr_macs_input_overlap\",\n",
    "    \"summary\"\n",
    ")\n",
    "txt_fname = \"matrix.annotation.fcc_peak_call.tsv\"\n",
    "txt_fpath = file.path(txt_fdiry, txt_fname)\n",
    "\n",
    "dat = read_tsv(txt_fpath, show_col_types = FALSE)\n",
    "\n",
    "mat_region_annot_fcc_peak = dat\n",
    "print(dim(dat))\n",
    "fun_display_table(head(dat, 3))"
   ]
  },
  {
   "cell_type": "markdown",
   "id": "ce7a5bfd-f482-4463-84c8-096e900ddabc",
   "metadata": {},
   "source": [
    "**ATAC with E2G**"
   ]
  },
  {
   "cell_type": "code",
   "execution_count": 6,
   "id": "cd189c0b-1ce1-4353-b7b1-05ed6dfed9bb",
   "metadata": {},
   "outputs": [
    {
     "name": "stdout",
     "output_type": "stream",
     "text": [
      "[1] 8770   10\n"
     ]
    },
    {
     "data": {
      "text/html": [
       "<table>\n",
       " <thead>\n",
       "  <tr>\n",
       "   <th style=\"text-align:left;\"> Chrom </th>\n",
       "   <th style=\"text-align:right;\"> ChromStart </th>\n",
       "   <th style=\"text-align:right;\"> ChromEnd </th>\n",
       "   <th style=\"text-align:left;\"> Region </th>\n",
       "   <th style=\"text-align:left;\"> Group </th>\n",
       "   <th style=\"text-align:left;\"> Target </th>\n",
       "   <th style=\"text-align:right;\"> Score </th>\n",
       "   <th style=\"text-align:right;\"> NLog10P </th>\n",
       "   <th style=\"text-align:left;\"> Regulated </th>\n",
       "   <th style=\"text-align:left;\"> Source </th>\n",
       "  </tr>\n",
       " </thead>\n",
       "<tbody>\n",
       "  <tr>\n",
       "   <td style=\"text-align:left;\"> chr1 </td>\n",
       "   <td style=\"text-align:right;\"> 3774056 </td>\n",
       "   <td style=\"text-align:right;\"> 3776283 </td>\n",
       "   <td style=\"text-align:left;\"> chr1:3774056-3776283 </td>\n",
       "   <td style=\"text-align:left;\"> E2G-Benchmark </td>\n",
       "   <td style=\"text-align:left;\"> CEP104 </td>\n",
       "   <td style=\"text-align:right;\"> -0.2934319 </td>\n",
       "   <td style=\"text-align:right;\"> 2.395344 </td>\n",
       "   <td style=\"text-align:left;\"> TRUE </td>\n",
       "   <td style=\"text-align:left;\"> Ulirsch2016 </td>\n",
       "  </tr>\n",
       "  <tr>\n",
       "   <td style=\"text-align:left;\"> chr1 </td>\n",
       "   <td style=\"text-align:right;\"> 3774056 </td>\n",
       "   <td style=\"text-align:right;\"> 3776283 </td>\n",
       "   <td style=\"text-align:left;\"> chr1:3774056-3776283 </td>\n",
       "   <td style=\"text-align:left;\"> E2G-Benchmark </td>\n",
       "   <td style=\"text-align:left;\"> LRRC47 </td>\n",
       "   <td style=\"text-align:right;\"> -0.3311781 </td>\n",
       "   <td style=\"text-align:right;\"> 2.109514 </td>\n",
       "   <td style=\"text-align:left;\"> TRUE </td>\n",
       "   <td style=\"text-align:left;\"> Ulirsch2016 </td>\n",
       "  </tr>\n",
       "  <tr>\n",
       "   <td style=\"text-align:left;\"> chr1 </td>\n",
       "   <td style=\"text-align:right;\"> 3774056 </td>\n",
       "   <td style=\"text-align:right;\"> 3776283 </td>\n",
       "   <td style=\"text-align:left;\"> chr1:3774056-3776283 </td>\n",
       "   <td style=\"text-align:left;\"> E2G-Benchmark </td>\n",
       "   <td style=\"text-align:left;\"> SMIM1 </td>\n",
       "   <td style=\"text-align:right;\"> -0.4720192 </td>\n",
       "   <td style=\"text-align:right;\"> 3.192703 </td>\n",
       "   <td style=\"text-align:left;\"> TRUE </td>\n",
       "   <td style=\"text-align:left;\"> Ulirsch2016 </td>\n",
       "  </tr>\n",
       "</tbody>\n",
       "</table>"
      ]
     },
     "metadata": {},
     "output_type": "display_data"
    }
   ],
   "source": [
    "txt_fdiry = file.path(\n",
    "    FD_RES, \n",
    "    \"region_annotation\", \n",
    "    \"fcc_astarr_macs_input_overlap\",\n",
    "    \"summary\"\n",
    ")\n",
    "txt_fname = \"region.summary.encode_e2g_benchmark.tsv\"\n",
    "txt_fpath = file.path(txt_fdiry, txt_fname)\n",
    "\n",
    "dat = read_tsv(txt_fpath, show_col_types = FALSE)\n",
    "\n",
    "dat_region_annot_e2g = dat\n",
    "print(dim(dat))\n",
    "fun_display_table(head(dat, 3))"
   ]
  },
  {
   "cell_type": "markdown",
   "id": "c089fea6-abec-4967-b4e0-b5a2c7110825",
   "metadata": {},
   "source": [
    "**ATAC with FCC Coverage**"
   ]
  },
  {
   "cell_type": "code",
   "execution_count": 7,
   "id": "8060fe51-5de2-482c-b299-5d45a9c7b9aa",
   "metadata": {},
   "outputs": [
    {
     "name": "stdout",
     "output_type": "stream",
     "text": [
      "[1] 432505      9\n"
     ]
    },
    {
     "data": {
      "text/html": [
       "<table>\n",
       " <thead>\n",
       "  <tr>\n",
       "   <th style=\"text-align:left;\"> Chrom </th>\n",
       "   <th style=\"text-align:right;\"> ChromStart </th>\n",
       "   <th style=\"text-align:right;\"> ChromEnd </th>\n",
       "   <th style=\"text-align:left;\"> Region </th>\n",
       "   <th style=\"text-align:right;\"> Score </th>\n",
       "   <th style=\"text-align:left;\"> Assay_Name </th>\n",
       "   <th style=\"text-align:left;\"> Assay_Type </th>\n",
       "   <th style=\"text-align:left;\"> Assay_Group </th>\n",
       "   <th style=\"text-align:left;\"> Assay_Label </th>\n",
       "  </tr>\n",
       " </thead>\n",
       "<tbody>\n",
       "  <tr>\n",
       "   <td style=\"text-align:left;\"> chr10 </td>\n",
       "   <td style=\"text-align:right;\"> 100729094 </td>\n",
       "   <td style=\"text-align:right;\"> 100729750 </td>\n",
       "   <td style=\"text-align:left;\"> chr10:100729094-100729750 </td>\n",
       "   <td style=\"text-align:right;\"> -0.3065107 </td>\n",
       "   <td style=\"text-align:left;\"> CRISPRi_FlowFISH_K562_Riley_JinWoo </td>\n",
       "   <td style=\"text-align:left;\"> CRISPRi-HCRFF </td>\n",
       "   <td style=\"text-align:left;\"> CRISPRi-HCRFF </td>\n",
       "   <td style=\"text-align:left;\"> CRISPRi-HCR FlowFISH </td>\n",
       "  </tr>\n",
       "  <tr>\n",
       "   <td style=\"text-align:left;\"> chr10 </td>\n",
       "   <td style=\"text-align:right;\"> 100743501 </td>\n",
       "   <td style=\"text-align:right;\"> 100744571 </td>\n",
       "   <td style=\"text-align:left;\"> chr10:100743501-100744571 </td>\n",
       "   <td style=\"text-align:right;\"> -0.2702473 </td>\n",
       "   <td style=\"text-align:left;\"> CRISPRi_FlowFISH_K562_Riley_JinWoo </td>\n",
       "   <td style=\"text-align:left;\"> CRISPRi-HCRFF </td>\n",
       "   <td style=\"text-align:left;\"> CRISPRi-HCRFF </td>\n",
       "   <td style=\"text-align:left;\"> CRISPRi-HCR FlowFISH </td>\n",
       "  </tr>\n",
       "  <tr>\n",
       "   <td style=\"text-align:left;\"> chr10 </td>\n",
       "   <td style=\"text-align:right;\"> 100745413 </td>\n",
       "   <td style=\"text-align:right;\"> 100745741 </td>\n",
       "   <td style=\"text-align:left;\"> chr10:100745413-100745741 </td>\n",
       "   <td style=\"text-align:right;\"> 0.1130381 </td>\n",
       "   <td style=\"text-align:left;\"> CRISPRi_FlowFISH_K562_Riley_JinWoo </td>\n",
       "   <td style=\"text-align:left;\"> CRISPRi-HCRFF </td>\n",
       "   <td style=\"text-align:left;\"> CRISPRi-HCRFF </td>\n",
       "   <td style=\"text-align:left;\"> CRISPRi-HCR FlowFISH </td>\n",
       "  </tr>\n",
       "</tbody>\n",
       "</table>"
      ]
     },
     "metadata": {},
     "output_type": "display_data"
    }
   ],
   "source": [
    "txt_fdiry = file.path(\n",
    "    FD_RES, \n",
    "    \"region_coverage_fcc\", \n",
    "    \"fcc_astarr_macs_input_overlap\",\n",
    "    \"summary\"\n",
    ")\n",
    "txt_fname = \"result.coverage.zscore.final.tsv\"\n",
    "txt_fpath = file.path(txt_fdiry, txt_fname)\n",
    "\n",
    "dat = read_tsv(txt_fpath, show_col_types = FALSE)\n",
    "\n",
    "dat_region_score_fcc = dat\n",
    "print(dim(dat))\n",
    "fun_display_table(head(dat, 3))"
   ]
  },
  {
   "cell_type": "markdown",
   "id": "952115ec-f88d-4f37-af1f-e288b30e644b",
   "metadata": {},
   "source": [
    "## Arrange regions"
   ]
  },
  {
   "cell_type": "markdown",
   "id": "42780ef0-39fd-45f0-b6a3-c0d8bca86ebd",
   "metadata": {},
   "source": [
    "**TSS**"
   ]
  },
  {
   "cell_type": "code",
   "execution_count": 8,
   "id": "134a4c71-40e3-4b74-a846-26e19185d349",
   "metadata": {},
   "outputs": [
    {
     "data": {
      "text/html": [
       "<table>\n",
       " <thead>\n",
       "  <tr>\n",
       "   <th style=\"text-align:left;\"> Chrom </th>\n",
       "   <th style=\"text-align:right;\"> ChromStart </th>\n",
       "   <th style=\"text-align:right;\"> ChromEnd </th>\n",
       "   <th style=\"text-align:left;\"> Region </th>\n",
       "   <th style=\"text-align:left;\"> Group </th>\n",
       "   <th style=\"text-align:left;\"> Label </th>\n",
       "   <th style=\"text-align:left;\"> Essential </th>\n",
       "  </tr>\n",
       " </thead>\n",
       "<tbody>\n",
       "  <tr>\n",
       "   <td style=\"text-align:left;\"> chr1 </td>\n",
       "   <td style=\"text-align:right;\"> 28934 </td>\n",
       "   <td style=\"text-align:right;\"> 29499 </td>\n",
       "   <td style=\"text-align:left;\"> chr1:28934-29499 </td>\n",
       "   <td style=\"text-align:left;\"> TSS_Pol2_RNAseq </td>\n",
       "   <td style=\"text-align:left;\"> WASH7P </td>\n",
       "   <td style=\"text-align:left;\"> FALSE </td>\n",
       "  </tr>\n",
       "  <tr>\n",
       "   <td style=\"text-align:left;\"> chr1 </td>\n",
       "   <td style=\"text-align:right;\"> 826796 </td>\n",
       "   <td style=\"text-align:right;\"> 828040 </td>\n",
       "   <td style=\"text-align:left;\"> chr1:826796-828040 </td>\n",
       "   <td style=\"text-align:left;\"> TSS_Pol2_RNAseq </td>\n",
       "   <td style=\"text-align:left;\"> LINC00115 </td>\n",
       "   <td style=\"text-align:left;\"> FALSE </td>\n",
       "  </tr>\n",
       "  <tr>\n",
       "   <td style=\"text-align:left;\"> chr1 </td>\n",
       "   <td style=\"text-align:right;\"> 826796 </td>\n",
       "   <td style=\"text-align:right;\"> 828040 </td>\n",
       "   <td style=\"text-align:left;\"> chr1:826796-828040 </td>\n",
       "   <td style=\"text-align:left;\"> TSS_Pol2_RNAseq </td>\n",
       "   <td style=\"text-align:left;\"> LINC01128 </td>\n",
       "   <td style=\"text-align:left;\"> FALSE </td>\n",
       "  </tr>\n",
       "</tbody>\n",
       "</table>"
      ]
     },
     "metadata": {},
     "output_type": "display_data"
    }
   ],
   "source": [
    "dat = dat_region_annot_tss\n",
    "fun_display_table(head(dat, 3))"
   ]
  },
  {
   "cell_type": "code",
   "execution_count": 9,
   "id": "0327cddd-9536-4867-8860-a2782e38efa6",
   "metadata": {},
   "outputs": [
    {
     "name": "stdout",
     "output_type": "stream",
     "text": [
      "[1] 9649\n",
      "[1] 1199\n"
     ]
    }
   ],
   "source": [
    "dat = dat_region_annot_tss\n",
    "vec = dat$Region\n",
    "idx = dat$Essential\n",
    "\n",
    "vec_txt_region_tss_total = unique(vec)\n",
    "vec_txt_region_tss_essen = unique(vec[idx])\n",
    "\n",
    "print(length(vec_txt_region_tss_total))\n",
    "print(length(vec_txt_region_tss_essen))"
   ]
  },
  {
   "cell_type": "markdown",
   "id": "95e694ad-ba5d-4b55-a693-78cf243dcb92",
   "metadata": {},
   "source": [
    "**CRISPR screen**"
   ]
  },
  {
   "cell_type": "code",
   "execution_count": 10,
   "id": "fc3ff958-8592-4c2d-bd9b-0ea572b1f8c8",
   "metadata": {},
   "outputs": [],
   "source": [
    "### CRIPSRi-Growth\n",
    "dat = dat_region_score_fcc\n",
    "dat = dat %>% dplyr::filter(Assay_Type == \"CRISPRi-Growth\")\n",
    "vec = unique(dat$Region)\n",
    "vec_txt_region_screen_crispr_growth = vec\n",
    "\n",
    "### CRIPSRi-HCRFF\n",
    "dat = dat_region_score_fcc\n",
    "dat = dat %>% dplyr::filter(Assay_Type == \"CRISPRi-HCRFF\")\n",
    "vec = unique(dat$Region)\n",
    "vec_txt_region_screen_crispr_hcrff = vec\n",
    "\n",
    "### CRISPR E2G\n",
    "dat = dat_region_annot_e2g\n",
    "vec = unique(dat$Region)\n",
    "vec_txt_region_screen_crispr_e2g = vec\n",
    "\n",
    "### Merge regions\n",
    "vec = c(\n",
    "    vec_txt_region_screen_crispr_growth,\n",
    "    vec_txt_region_screen_crispr_hcrff,\n",
    "    vec_txt_region_screen_crispr_e2g\n",
    ")\n",
    "vec_txt_region_screen_crispr_total = vec"
   ]
  },
  {
   "cell_type": "markdown",
   "id": "16e01999-8087-4d87-96c6-f4d5206725b5",
   "metadata": {},
   "source": [
    "**CRISPR significant**"
   ]
  },
  {
   "cell_type": "code",
   "execution_count": 11,
   "id": "e504e081-98fd-4812-972f-0e7c507fc2e3",
   "metadata": {},
   "outputs": [
    {
     "name": "stdout",
     "output_type": "stream",
     "text": [
      "[1] 100454      4\n"
     ]
    },
    {
     "data": {
      "text/html": [
       "<table>\n",
       " <thead>\n",
       "  <tr>\n",
       "   <th style=\"text-align:left;\"> Region </th>\n",
       "   <th style=\"text-align:right;\"> Signif_CRISPR_Growth </th>\n",
       "   <th style=\"text-align:right;\"> Signif_CRISPR_HCRFF </th>\n",
       "   <th style=\"text-align:right;\"> Signif_CRISPR_E2G </th>\n",
       "  </tr>\n",
       " </thead>\n",
       "<tbody>\n",
       "  <tr>\n",
       "   <td style=\"text-align:left;\"> chr1:10038-10405 </td>\n",
       "   <td style=\"text-align:right;\"> 0 </td>\n",
       "   <td style=\"text-align:right;\"> 0 </td>\n",
       "   <td style=\"text-align:right;\"> 0 </td>\n",
       "  </tr>\n",
       "  <tr>\n",
       "   <td style=\"text-align:left;\"> chr1:16025-16338 </td>\n",
       "   <td style=\"text-align:right;\"> 0 </td>\n",
       "   <td style=\"text-align:right;\"> 0 </td>\n",
       "   <td style=\"text-align:right;\"> 0 </td>\n",
       "  </tr>\n",
       "  <tr>\n",
       "   <td style=\"text-align:left;\"> chr1:17288-17689 </td>\n",
       "   <td style=\"text-align:right;\"> 0 </td>\n",
       "   <td style=\"text-align:right;\"> 0 </td>\n",
       "   <td style=\"text-align:right;\"> 0 </td>\n",
       "  </tr>\n",
       "</tbody>\n",
       "</table>"
      ]
     },
     "metadata": {},
     "output_type": "display_data"
    }
   ],
   "source": [
    "dat = mat_region_annot_fcc_peak\n",
    "dat = dat %>% \n",
    "    dplyr::select(\n",
    "        Region, \n",
    "        `CRISPRi-Growth`, \n",
    "        `CRISPRi-HCRFF`, \n",
    "        `CRISPR-E2G`\n",
    "    )\n",
    "colnames(dat) = c(\n",
    "    \"Region\",\n",
    "    \"Signif_CRISPR_Growth\",\n",
    "    \"Signif_CRISPR_HCRFF\",\n",
    "    \"Signif_CRISPR_E2G\"\n",
    ")\n",
    "\n",
    "mat_region_annot_signif_crispr = dat\n",
    "print(dim(dat))\n",
    "fun_display_table(head(dat, 3))"
   ]
  },
  {
   "cell_type": "code",
   "execution_count": 12,
   "id": "01749921-c03e-4a4f-b4fd-8e75173f5737",
   "metadata": {},
   "outputs": [
    {
     "name": "stdout",
     "output_type": "stream",
     "text": [
      "[1] 4740\n"
     ]
    }
   ],
   "source": [
    "dat = dat_region_annot_fcc_assay_vote\n",
    "dat = dat %>% dplyr::filter(Type == \"CRISPR\")\n",
    "vec = dat$Region\n",
    "\n",
    "vec_txt_region_signif_crispr_total = unique(vec)\n",
    "print(length(vec))"
   ]
  },
  {
   "cell_type": "markdown",
   "id": "8c0791b0-6dd5-4d11-9423-9c2a0829b84e",
   "metadata": {},
   "source": [
    "**Check**"
   ]
  },
  {
   "cell_type": "code",
   "execution_count": 13,
   "id": "479f29cd-6915-479a-b781-88a5dd1b50d1",
   "metadata": {},
   "outputs": [
    {
     "data": {
      "text/html": [
       "TRUE"
      ],
      "text/latex": [
       "TRUE"
      ],
      "text/markdown": [
       "TRUE"
      ],
      "text/plain": [
       "[1] TRUE"
      ]
     },
     "metadata": {},
     "output_type": "display_data"
    }
   ],
   "source": [
    "dat = mat_region_annot_fcc_peak\n",
    "vec1 = c(\n",
    "    dat$Region[dat$`CRISPRi-HCRFF`  == 1],\n",
    "    dat$Region[dat$`CRISPRi-Growth` == 1],\n",
    "    dat$Region[dat$`CRISPR-E2G`     == 1]\n",
    ")\n",
    "vec1 = sort(unique(vec1))\n",
    "\n",
    "vec2 = vec_txt_region_signif_crispr_total\n",
    "vec2 = sort(unique(vec2))\n",
    "\n",
    "all(vec1 == vec2)"
   ]
  },
  {
   "cell_type": "markdown",
   "id": "d4271d0f-0488-4eb7-9f9b-fbcf79636023",
   "metadata": {},
   "source": [
    "## Merge"
   ]
  },
  {
   "cell_type": "code",
   "execution_count": 14,
   "id": "aacd8025-94a0-48b4-a592-ed1357b88965",
   "metadata": {},
   "outputs": [
    {
     "data": {
      "text/html": [
       "<table>\n",
       " <thead>\n",
       "  <tr>\n",
       "   <th style=\"text-align:left;\"> Chrom </th>\n",
       "   <th style=\"text-align:right;\"> ChromStart </th>\n",
       "   <th style=\"text-align:right;\"> ChromEnd </th>\n",
       "   <th style=\"text-align:left;\"> Region </th>\n",
       "   <th style=\"text-align:left;\"> Type </th>\n",
       "   <th style=\"text-align:right;\"> Num_Assay </th>\n",
       "  </tr>\n",
       " </thead>\n",
       "<tbody>\n",
       "  <tr>\n",
       "   <td style=\"text-align:left;\"> chr1 </td>\n",
       "   <td style=\"text-align:right;\"> 115429 </td>\n",
       "   <td style=\"text-align:right;\"> 115969 </td>\n",
       "   <td style=\"text-align:left;\"> chr1:115429-115969 </td>\n",
       "   <td style=\"text-align:left;\"> Enhance </td>\n",
       "   <td style=\"text-align:right;\"> 1 </td>\n",
       "  </tr>\n",
       "  <tr>\n",
       "   <td style=\"text-align:left;\"> chr1 </td>\n",
       "   <td style=\"text-align:right;\"> 184091 </td>\n",
       "   <td style=\"text-align:right;\"> 184563 </td>\n",
       "   <td style=\"text-align:left;\"> chr1:184091-184563 </td>\n",
       "   <td style=\"text-align:left;\"> Enhance </td>\n",
       "   <td style=\"text-align:right;\"> 1 </td>\n",
       "  </tr>\n",
       "  <tr>\n",
       "   <td style=\"text-align:left;\"> chr1 </td>\n",
       "   <td style=\"text-align:right;\"> 605104 </td>\n",
       "   <td style=\"text-align:right;\"> 605675 </td>\n",
       "   <td style=\"text-align:left;\"> chr1:605104-605675 </td>\n",
       "   <td style=\"text-align:left;\"> Enhance </td>\n",
       "   <td style=\"text-align:right;\"> 1 </td>\n",
       "  </tr>\n",
       "</tbody>\n",
       "</table>"
      ]
     },
     "metadata": {},
     "output_type": "display_data"
    }
   ],
   "source": [
    "dat = dat_region_annot_fcc_assay_vote\n",
    "fun_display_table(head(dat, 3))"
   ]
  },
  {
   "cell_type": "code",
   "execution_count": 15,
   "id": "553a6886-63c9-4f74-ae28-4b26ded19b29",
   "metadata": {},
   "outputs": [
    {
     "data": {
      "text/html": [
       "<style>\n",
       ".list-inline {list-style: none; margin:0; padding: 0}\n",
       ".list-inline>li {display: inline-block}\n",
       ".list-inline>li:not(:last-child)::after {content: \"\\00b7\"; padding: 0 .5ex}\n",
       "</style>\n",
       "<ol class=list-inline><li>'Enhancer'</li><li>'Silencer'</li><li>'Silencer'</li></ol>\n"
      ],
      "text/latex": [
       "\\begin{enumerate*}\n",
       "\\item 'Enhancer'\n",
       "\\item 'Silencer'\n",
       "\\item 'Silencer'\n",
       "\\end{enumerate*}\n"
      ],
      "text/markdown": [
       "1. 'Enhancer'\n",
       "2. 'Silencer'\n",
       "3. 'Silencer'\n",
       "\n",
       "\n"
      ],
      "text/plain": [
       "[1] \"Enhancer\" \"Silencer\" \"Silencer\""
      ]
     },
     "metadata": {},
     "output_type": "display_data"
    }
   ],
   "source": [
    "vec = c(\"Enhance\",  \"Repress\", \"Repress_GCFilter\")\n",
    "\n",
    "fun = function(vec_txt_input){\n",
    "    vec_txt_pattern = c(\"Enhance\",  \"Repress\")\n",
    "    vec_txt_replace = c(\"Enhancer\", \"Silencer\")\n",
    "    vec_txt_output  = fun_str_map_detect(vec_txt_input, vec_txt_pattern, vec_txt_replace)\n",
    "    return(vec_txt_output)\n",
    "}\n",
    "\n",
    "fun(vec)"
   ]
  },
  {
   "cell_type": "code",
   "execution_count": 21,
   "id": "50ee3950-b6de-42ab-b6d2-cbfa3a3c42bd",
   "metadata": {},
   "outputs": [
    {
     "name": "stdout",
     "output_type": "stream",
     "text": [
      "[1] 155926     19\n",
      "[1] FALSE\n"
     ]
    },
    {
     "data": {
      "text/html": [
       "<table>\n",
       " <thead>\n",
       "  <tr>\n",
       "   <th style=\"text-align:left;\"> Chrom </th>\n",
       "   <th style=\"text-align:right;\"> ChromStart </th>\n",
       "   <th style=\"text-align:right;\"> ChromEnd </th>\n",
       "   <th style=\"text-align:left;\"> Region </th>\n",
       "   <th style=\"text-align:left;\"> Type </th>\n",
       "   <th style=\"text-align:right;\"> Num_Assay </th>\n",
       "   <th style=\"text-align:right;\"> TSS_Total </th>\n",
       "   <th style=\"text-align:right;\"> TSS_Essential </th>\n",
       "   <th style=\"text-align:left;\"> Label1 </th>\n",
       "   <th style=\"text-align:left;\"> Label2 </th>\n",
       "   <th style=\"text-align:left;\"> Label3 </th>\n",
       "   <th style=\"text-align:right;\"> Screen_CRISPR_Total </th>\n",
       "   <th style=\"text-align:right;\"> Screen_CRISPR_Growth </th>\n",
       "   <th style=\"text-align:right;\"> Screen_CRISPR_HCRFF </th>\n",
       "   <th style=\"text-align:right;\"> Screen_CRISPR_E2G </th>\n",
       "   <th style=\"text-align:right;\"> Signif_CRISPR_Total </th>\n",
       "   <th style=\"text-align:right;\"> Signif_CRISPR_Growth </th>\n",
       "   <th style=\"text-align:right;\"> Signif_CRISPR_HCRFF </th>\n",
       "   <th style=\"text-align:right;\"> Signif_CRISPR_E2G </th>\n",
       "  </tr>\n",
       " </thead>\n",
       "<tbody>\n",
       "  <tr>\n",
       "   <td style=\"text-align:left;\"> chr1 </td>\n",
       "   <td style=\"text-align:right;\"> 115429 </td>\n",
       "   <td style=\"text-align:right;\"> 115969 </td>\n",
       "   <td style=\"text-align:left;\"> chr1:115429-115969 </td>\n",
       "   <td style=\"text-align:left;\"> Enhance </td>\n",
       "   <td style=\"text-align:right;\"> 1 </td>\n",
       "   <td style=\"text-align:right;\"> 0 </td>\n",
       "   <td style=\"text-align:right;\"> 0 </td>\n",
       "   <td style=\"text-align:left;\"> Enhancer </td>\n",
       "   <td style=\"text-align:left;\"> Enhancer </td>\n",
       "   <td style=\"text-align:left;\"> Enhancer </td>\n",
       "   <td style=\"text-align:right;\"> 0 </td>\n",
       "   <td style=\"text-align:right;\"> 0 </td>\n",
       "   <td style=\"text-align:right;\"> 0 </td>\n",
       "   <td style=\"text-align:right;\"> 0 </td>\n",
       "   <td style=\"text-align:right;\"> 0 </td>\n",
       "   <td style=\"text-align:right;\"> 0 </td>\n",
       "   <td style=\"text-align:right;\"> 0 </td>\n",
       "   <td style=\"text-align:right;\"> 0 </td>\n",
       "  </tr>\n",
       "  <tr>\n",
       "   <td style=\"text-align:left;\"> chr1 </td>\n",
       "   <td style=\"text-align:right;\"> 184091 </td>\n",
       "   <td style=\"text-align:right;\"> 184563 </td>\n",
       "   <td style=\"text-align:left;\"> chr1:184091-184563 </td>\n",
       "   <td style=\"text-align:left;\"> Enhance </td>\n",
       "   <td style=\"text-align:right;\"> 1 </td>\n",
       "   <td style=\"text-align:right;\"> 0 </td>\n",
       "   <td style=\"text-align:right;\"> 0 </td>\n",
       "   <td style=\"text-align:left;\"> Enhancer </td>\n",
       "   <td style=\"text-align:left;\"> Enhancer </td>\n",
       "   <td style=\"text-align:left;\"> Enhancer </td>\n",
       "   <td style=\"text-align:right;\"> 0 </td>\n",
       "   <td style=\"text-align:right;\"> 0 </td>\n",
       "   <td style=\"text-align:right;\"> 0 </td>\n",
       "   <td style=\"text-align:right;\"> 0 </td>\n",
       "   <td style=\"text-align:right;\"> 0 </td>\n",
       "   <td style=\"text-align:right;\"> 0 </td>\n",
       "   <td style=\"text-align:right;\"> 0 </td>\n",
       "   <td style=\"text-align:right;\"> 0 </td>\n",
       "  </tr>\n",
       "  <tr>\n",
       "   <td style=\"text-align:left;\"> chr1 </td>\n",
       "   <td style=\"text-align:right;\"> 605104 </td>\n",
       "   <td style=\"text-align:right;\"> 605675 </td>\n",
       "   <td style=\"text-align:left;\"> chr1:605104-605675 </td>\n",
       "   <td style=\"text-align:left;\"> Enhance </td>\n",
       "   <td style=\"text-align:right;\"> 1 </td>\n",
       "   <td style=\"text-align:right;\"> 0 </td>\n",
       "   <td style=\"text-align:right;\"> 0 </td>\n",
       "   <td style=\"text-align:left;\"> Enhancer </td>\n",
       "   <td style=\"text-align:left;\"> Enhancer </td>\n",
       "   <td style=\"text-align:left;\"> Enhancer </td>\n",
       "   <td style=\"text-align:right;\"> 1 </td>\n",
       "   <td style=\"text-align:right;\"> 1 </td>\n",
       "   <td style=\"text-align:right;\"> 0 </td>\n",
       "   <td style=\"text-align:right;\"> 0 </td>\n",
       "   <td style=\"text-align:right;\"> 1 </td>\n",
       "   <td style=\"text-align:right;\"> 1 </td>\n",
       "   <td style=\"text-align:right;\"> 0 </td>\n",
       "   <td style=\"text-align:right;\"> 0 </td>\n",
       "  </tr>\n",
       "</tbody>\n",
       "</table>"
      ]
     },
     "metadata": {},
     "output_type": "display_data"
    }
   ],
   "source": [
    "dat = dat_region_annot_fcc_assay_vote\n",
    "\n",
    "### Label: TSS\n",
    "dat = dat %>% \n",
    "    dplyr::filter(Type != \"CRISPR\") %>%\n",
    "    dplyr::mutate(TSS_Total     = as.integer(Region %in% vec_txt_region_tss_total)) %>%\n",
    "    dplyr::mutate(TSS_Essential = as.integer(Region %in% vec_txt_region_tss_essen))\n",
    "\n",
    "### Label: Enhancer/Silencer/Promoter\n",
    "fun = function(vec_txt_input){\n",
    "    vec_txt_pattern = c(\"Enhance\",  \"Repress\")\n",
    "    vec_txt_replace = c(\"Enhancer\", \"Silencer\")\n",
    "    vec_txt_output  = fun_str_map_detect(vec_txt_input, vec_txt_pattern, vec_txt_replace)\n",
    "    return(vec_txt_output)\n",
    "}\n",
    "dat = dat %>% \n",
    "    dplyr::mutate(Label1 = fun(Type)) %>%\n",
    "    dplyr::mutate(Label2 = ifelse(TSS_Total, \"Promoter\", Label1)) %>%\n",
    "    dplyr::mutate(Label3 = ifelse(TSS_Total, \"TSS:\", \"\")) %>%\n",
    "    dplyr::mutate(Label3 = paste0(Label3, Label1))\n",
    "\n",
    "### Label: CRISPR screen\n",
    "dat = dat %>% dplyr::mutate(\n",
    "    Screen_CRISPR_Total  = as.integer(Region %in% vec_txt_region_screen_crispr_total), \n",
    "    Screen_CRISPR_Growth = as.integer(Region %in% vec_txt_region_screen_crispr_growth), \n",
    "    Screen_CRISPR_HCRFF  = as.integer(Region %in% vec_txt_region_screen_crispr_hcrff), \n",
    "    Screen_CRISPR_E2G    = as.integer(Region %in% vec_txt_region_screen_crispr_e2g),\n",
    "    Signif_CRISPR_Total  = as.integer(Region %in% vec_txt_region_signif_crispr_total)\n",
    ")\n",
    "\n",
    "### Label: CRISPR significant\n",
    "dat = dat %>% dplyr::left_join(mat_region_annot_signif_crispr, by = \"Region\")\n",
    "\n",
    "### assign and show\n",
    "dat_region_annot_fcc_label = dat\n",
    "print(dim(dat))\n",
    "print(any(is.na(dat)))\n",
    "fun_display_table(head(dat, 3))"
   ]
  },
  {
   "cell_type": "markdown",
   "id": "f1cca846-6378-4b67-a170-12764d741dff",
   "metadata": {},
   "source": [
    "**Check**"
   ]
  },
  {
   "cell_type": "code",
   "execution_count": 22,
   "id": "d077113e-6d64-44ae-8e58-3d3e81ada227",
   "metadata": {},
   "outputs": [
    {
     "data": {
      "text/plain": [
       "\n",
       "         Enhance          Repress Repress_GCFilter \n",
       "           43993            65401            46532 "
      ]
     },
     "metadata": {},
     "output_type": "display_data"
    }
   ],
   "source": [
    "dat = dat_region_annot_fcc_label\n",
    "table(dat$Type)"
   ]
  },
  {
   "cell_type": "code",
   "execution_count": 23,
   "id": "47a60ef3-7c95-42a9-981c-2570b2c1e22f",
   "metadata": {},
   "outputs": [
    {
     "data": {
      "text/plain": [
       "                  \n",
       "                   Enhancer Silencer\n",
       "  Enhance             43993        0\n",
       "  Repress                 0    65401\n",
       "  Repress_GCFilter        0    46532"
      ]
     },
     "metadata": {},
     "output_type": "display_data"
    }
   ],
   "source": [
    "dat = dat_region_annot_fcc_label\n",
    "table(dat$Type, dat$Label1)"
   ]
  },
  {
   "cell_type": "code",
   "execution_count": 24,
   "id": "d7e1cca2-64f9-417a-84c4-182710bbac50",
   "metadata": {},
   "outputs": [
    {
     "data": {
      "text/plain": [
       "                  \n",
       "                   Enhancer Promoter Silencer\n",
       "  Enhance             35731     8262        0\n",
       "  Repress                 0     4006    61395\n",
       "  Repress_GCFilter        0      917    45615"
      ]
     },
     "metadata": {},
     "output_type": "display_data"
    }
   ],
   "source": [
    "dat = dat_region_annot_fcc_label\n",
    "table(dat$Type, dat$Label2)"
   ]
  },
  {
   "cell_type": "code",
   "execution_count": 25,
   "id": "ff3a1a5b-548a-4c3b-ae44-d96182608410",
   "metadata": {},
   "outputs": [
    {
     "data": {
      "text/plain": [
       "                  \n",
       "                   Enhancer Silencer TSS:Enhancer TSS:Silencer\n",
       "  Enhance             35731        0         8262            0\n",
       "  Repress                 0    61395            0         4006\n",
       "  Repress_GCFilter        0    45615            0          917"
      ]
     },
     "metadata": {},
     "output_type": "display_data"
    }
   ],
   "source": [
    "dat = dat_region_annot_fcc_label\n",
    "table(dat$Type, dat$Label3)"
   ]
  },
  {
   "cell_type": "markdown",
   "id": "f2d03126-c8f5-42a1-a04f-ac7785f36f65",
   "metadata": {},
   "source": [
    "## Explort results"
   ]
  },
  {
   "cell_type": "code",
   "execution_count": 26,
   "id": "8474b076-0d7f-4467-a1e5-a7a9cb9977cc",
   "metadata": {},
   "outputs": [],
   "source": [
    "txt_fdiry = file.path(\n",
    "    FD_RES, \n",
    "    \"region_annotation\", \n",
    "    \"fcc_astarr_macs_input_overlap\",\n",
    "    \"summary\"\n",
    ")\n",
    "txt_fname = \"region.summary.fcc_peak_call.label.tsv\"\n",
    "txt_fpath = file.path(txt_fdiry, txt_fname)\n",
    "\n",
    "dat = dat_region_annot_fcc_label\n",
    "dat = dat %>% dplyr::arrange(Chrom, ChromStart, ChromEnd, Type)\n",
    "write_tsv(dat, txt_fpath)"
   ]
  },
  {
   "cell_type": "code",
   "execution_count": null,
   "id": "30974945-3a78-474f-a82e-b0996130c463",
   "metadata": {},
   "outputs": [],
   "source": []
  }
 ],
 "metadata": {
  "kernelspec": {
   "display_name": "R",
   "language": "R",
   "name": "ir"
  },
  "language_info": {
   "codemirror_mode": "r",
   "file_extension": ".r",
   "mimetype": "text/x-r-source",
   "name": "R",
   "pygments_lexer": "r",
   "version": "4.4.1"
  }
 },
 "nbformat": 4,
 "nbformat_minor": 5
}
