{
 "cells": [
  {
   "cell_type": "code",
   "execution_count": null,
   "id": "29ef7777-07e4-4213-aba7-2f7bb8d55a10",
   "metadata": {},
   "outputs": [],
   "source": []
  },
  {
   "cell_type": "markdown",
   "id": "5295f312-6d7a-4527-8443-1426b2762f0c",
   "metadata": {},
   "source": [
    "**Set environment**"
   ]
  },
  {
   "cell_type": "code",
   "execution_count": 1,
   "id": "08fdea9d-572f-4d2d-9b84-d2c8823215ef",
   "metadata": {
    "tags": []
   },
   "outputs": [
    {
     "name": "stdout",
     "output_type": "stream",
     "text": [
      "You are working on        Singularity \n",
      "BASE DIRECTORY (FD_BASE): /mount \n",
      "REPO DIRECTORY (FD_REPO): /mount/repo \n",
      "WORK DIRECTORY (FD_WORK): /mount/work \n",
      "DATA DIRECTORY (FD_DATA): /mount/data \n",
      "\n",
      "You are working with      ENCODE FCC \n",
      "PATH OF PROJECT (FD_PRJ): /mount/repo/Proj_ENCODE_FCC \n",
      "PROJECT RESULTS (FD_RES): /mount/repo/Proj_ENCODE_FCC/results \n",
      "PROJECT SCRIPTS (FD_EXE): /mount/repo/Proj_ENCODE_FCC/scripts \n",
      "PROJECT DATA    (FD_DAT): /mount/repo/Proj_ENCODE_FCC/data \n",
      "PROJECT NOTE    (FD_NBK): /mount/repo/Proj_ENCODE_FCC/notebooks \n",
      "PROJECT DOCS    (FD_DOC): /mount/repo/Proj_ENCODE_FCC/docs \n",
      "PROJECT LOG     (FD_LOG): /mount/repo/Proj_ENCODE_FCC/log \n",
      "PROJECT APP     (FD_APP): /mount/repo/Proj_ENCODE_FCC/app \n",
      "PROJECT REF     (FD_REF): /mount/repo/Proj_ENCODE_FCC/references \n",
      "\n"
     ]
    }
   ],
   "source": [
    "suppressMessages(suppressWarnings(source(\"../run_config_project_sing.R\")))\n",
    "show_env()"
   ]
  },
  {
   "cell_type": "markdown",
   "id": "fd0e7597-abc5-4f06-a2b2-971e58ebe336",
   "metadata": {},
   "source": [
    "**Set global variables**"
   ]
  },
  {
   "cell_type": "code",
   "execution_count": null,
   "id": "69f07c82-ce3d-4c02-b089-b3abacc1ffd3",
   "metadata": {},
   "outputs": [],
   "source": []
  },
  {
   "cell_type": "markdown",
   "id": "4762ad14-7305-402c-bb5f-ece48ce48e6d",
   "metadata": {},
   "source": [
    "## Import data"
   ]
  },
  {
   "cell_type": "code",
   "execution_count": 2,
   "id": "8f2d8795-c869-4f94-b5aa-84af594d9414",
   "metadata": {},
   "outputs": [],
   "source": [
    "txt_region_folder_A = \"fcc_astarr_macs\"\n",
    "txt_region_folder_B = \"encode_chipseq_subset\"\n",
    "txt_region_label_A  = \"fcc_astarr_macs_input_overlap\""
   ]
  },
  {
   "cell_type": "code",
   "execution_count": 3,
   "id": "0eb1f7c5-e3a5-49eb-9848-b80a97fd69d0",
   "metadata": {},
   "outputs": [
    {
     "data": {
      "text/html": [
       "<style>\n",
       ".list-inline {list-style: none; margin:0; padding: 0}\n",
       ".list-inline>li {display: inline-block}\n",
       ".list-inline>li:not(:last-child)::after {content: \"\\00b7\"; padding: 0 .5ex}\n",
       "</style>\n",
       "<ol class=list-inline><li>'Chrom'</li><li>'ChromStart'</li><li>'ChromEnd'</li></ol>\n"
      ],
      "text/latex": [
       "\\begin{enumerate*}\n",
       "\\item 'Chrom'\n",
       "\\item 'ChromStart'\n",
       "\\item 'ChromEnd'\n",
       "\\end{enumerate*}\n"
      ],
      "text/markdown": [
       "1. 'Chrom'\n",
       "2. 'ChromStart'\n",
       "3. 'ChromEnd'\n",
       "\n",
       "\n"
      ],
      "text/plain": [
       "[1] \"Chrom\"      \"ChromStart\" \"ChromEnd\"  "
      ]
     },
     "metadata": {},
     "output_type": "display_data"
    }
   ],
   "source": [
    "txt_fdiry = file.path(FD_RES, \"region\", txt_region_folder_A, \"summary\")\n",
    "txt_fname = \"description.tsv\"\n",
    "txt_fpath = file.path(txt_fdiry, txt_fname)\n",
    "\n",
    "dat_cname = read_tsv(txt_fpath, show_col_types = FALSE)\n",
    "vec_txt_cname_A = dat_cname$Name\n",
    "vec_txt_cname_A"
   ]
  },
  {
   "cell_type": "code",
   "execution_count": 4,
   "id": "b6e771f2-96f4-4bbd-9836-dbe879dfb62b",
   "metadata": {},
   "outputs": [
    {
     "data": {
      "text/html": [
       "<style>\n",
       ".list-inline {list-style: none; margin:0; padding: 0}\n",
       ".list-inline>li {display: inline-block}\n",
       ".list-inline>li:not(:last-child)::after {content: \"\\00b7\"; padding: 0 .5ex}\n",
       "</style>\n",
       "<ol class=list-inline><li>'Chrom'</li><li>'ChromStart'</li><li>'ChromEnd'</li><li>'Name'</li><li>'Score'</li><li>'Strand'</li><li>'SignalValue'</li><li>'PValue'</li><li>'QValue'</li><li>'Peak'</li></ol>\n"
      ],
      "text/latex": [
       "\\begin{enumerate*}\n",
       "\\item 'Chrom'\n",
       "\\item 'ChromStart'\n",
       "\\item 'ChromEnd'\n",
       "\\item 'Name'\n",
       "\\item 'Score'\n",
       "\\item 'Strand'\n",
       "\\item 'SignalValue'\n",
       "\\item 'PValue'\n",
       "\\item 'QValue'\n",
       "\\item 'Peak'\n",
       "\\end{enumerate*}\n"
      ],
      "text/markdown": [
       "1. 'Chrom'\n",
       "2. 'ChromStart'\n",
       "3. 'ChromEnd'\n",
       "4. 'Name'\n",
       "5. 'Score'\n",
       "6. 'Strand'\n",
       "7. 'SignalValue'\n",
       "8. 'PValue'\n",
       "9. 'QValue'\n",
       "10. 'Peak'\n",
       "\n",
       "\n"
      ],
      "text/plain": [
       " [1] \"Chrom\"       \"ChromStart\"  \"ChromEnd\"    \"Name\"        \"Score\"      \n",
       " [6] \"Strand\"      \"SignalValue\" \"PValue\"      \"QValue\"      \"Peak\"       "
      ]
     },
     "metadata": {},
     "output_type": "display_data"
    }
   ],
   "source": [
    "txt_fdiry = file.path(FD_RES, \"region\", txt_region_folder_B, \"summary\")\n",
    "txt_fname = \"description.tsv\"\n",
    "txt_fpath = file.path(txt_fdiry, txt_fname)\n",
    "\n",
    "dat_cname = read_tsv(txt_fpath, show_col_types = FALSE)\n",
    "vec_txt_cname_B = dat_cname$Name\n",
    "vec_txt_cname_B"
   ]
  },
  {
   "cell_type": "code",
   "execution_count": 5,
   "id": "76fae291-3454-4827-8105-090319ba026c",
   "metadata": {},
   "outputs": [
    {
     "data": {
      "text/html": [
       "<style>\n",
       ".list-inline {list-style: none; margin:0; padding: 0}\n",
       ".list-inline>li {display: inline-block}\n",
       ".list-inline>li:not(:last-child)::after {content: \"\\00b7\"; padding: 0 .5ex}\n",
       "</style>\n",
       "<ol class=list-inline><li>'Chrom_A'</li><li>'ChromStart_A'</li><li>'ChromEnd_A'</li><li>'Chrom_B'</li><li>'ChromStart_B'</li><li>'ChromEnd_B'</li><li>'Name_B'</li><li>'Score_B'</li><li>'Strand_B'</li><li>'SignalValue_B'</li><li>'PValue_B'</li><li>'QValue_B'</li><li>'Peak_B'</li><li>'Overlap'</li></ol>\n"
      ],
      "text/latex": [
       "\\begin{enumerate*}\n",
       "\\item 'Chrom\\_A'\n",
       "\\item 'ChromStart\\_A'\n",
       "\\item 'ChromEnd\\_A'\n",
       "\\item 'Chrom\\_B'\n",
       "\\item 'ChromStart\\_B'\n",
       "\\item 'ChromEnd\\_B'\n",
       "\\item 'Name\\_B'\n",
       "\\item 'Score\\_B'\n",
       "\\item 'Strand\\_B'\n",
       "\\item 'SignalValue\\_B'\n",
       "\\item 'PValue\\_B'\n",
       "\\item 'QValue\\_B'\n",
       "\\item 'Peak\\_B'\n",
       "\\item 'Overlap'\n",
       "\\end{enumerate*}\n"
      ],
      "text/markdown": [
       "1. 'Chrom_A'\n",
       "2. 'ChromStart_A'\n",
       "3. 'ChromEnd_A'\n",
       "4. 'Chrom_B'\n",
       "5. 'ChromStart_B'\n",
       "6. 'ChromEnd_B'\n",
       "7. 'Name_B'\n",
       "8. 'Score_B'\n",
       "9. 'Strand_B'\n",
       "10. 'SignalValue_B'\n",
       "11. 'PValue_B'\n",
       "12. 'QValue_B'\n",
       "13. 'Peak_B'\n",
       "14. 'Overlap'\n",
       "\n",
       "\n"
      ],
      "text/plain": [
       " [1] \"Chrom_A\"       \"ChromStart_A\"  \"ChromEnd_A\"    \"Chrom_B\"      \n",
       " [5] \"ChromStart_B\"  \"ChromEnd_B\"    \"Name_B\"        \"Score_B\"      \n",
       " [9] \"Strand_B\"      \"SignalValue_B\" \"PValue_B\"      \"QValue_B\"     \n",
       "[13] \"Peak_B\"        \"Overlap\"      "
      ]
     },
     "metadata": {},
     "output_type": "display_data"
    }
   ],
   "source": [
    "vec_txt_cname = c(\n",
    "    paste0(vec_txt_cname_A, \"_A\"),\n",
    "    paste0(vec_txt_cname_B, \"_B\"),\n",
    "    \"Overlap\"\n",
    ")\n",
    "vec_txt_cname"
   ]
  },
  {
   "cell_type": "code",
   "execution_count": 6,
   "id": "5383a2ab-5cf6-4006-81e1-28efcbcad6ee",
   "metadata": {},
   "outputs": [
    {
     "data": {
      "text/html": [
       "<table class=\"dataframe\">\n",
       "<caption>A spec_tbl_df: 2 × 3</caption>\n",
       "<thead>\n",
       "\t<tr><th scope=col>Folder</th><th scope=col>FName</th><th scope=col>Label</th></tr>\n",
       "\t<tr><th scope=col>&lt;chr&gt;</th><th scope=col>&lt;chr&gt;</th><th scope=col>&lt;chr&gt;</th></tr>\n",
       "</thead>\n",
       "<tbody>\n",
       "\t<tr><td>fcc_astarr_macs</td><td>ASTARRseq_K562_KS91.hg38.Input.rep_all.max_overlaps.q5.bed.gz</td><td>fcc_astarr_macs_input_overlap</td></tr>\n",
       "\t<tr><td>fcc_astarr_macs</td><td>ASTARRseq_K562_KS91.hg38.Input.rep_all.union.q5.bed.gz       </td><td>fcc_astarr_macs_input_union  </td></tr>\n",
       "</tbody>\n",
       "</table>\n"
      ],
      "text/latex": [
       "A spec\\_tbl\\_df: 2 × 3\n",
       "\\begin{tabular}{lll}\n",
       " Folder & FName & Label\\\\\n",
       " <chr> & <chr> & <chr>\\\\\n",
       "\\hline\n",
       "\t fcc\\_astarr\\_macs & ASTARRseq\\_K562\\_KS91.hg38.Input.rep\\_all.max\\_overlaps.q5.bed.gz & fcc\\_astarr\\_macs\\_input\\_overlap\\\\\n",
       "\t fcc\\_astarr\\_macs & ASTARRseq\\_K562\\_KS91.hg38.Input.rep\\_all.union.q5.bed.gz        & fcc\\_astarr\\_macs\\_input\\_union  \\\\\n",
       "\\end{tabular}\n"
      ],
      "text/markdown": [
       "\n",
       "A spec_tbl_df: 2 × 3\n",
       "\n",
       "| Folder &lt;chr&gt; | FName &lt;chr&gt; | Label &lt;chr&gt; |\n",
       "|---|---|---|\n",
       "| fcc_astarr_macs | ASTARRseq_K562_KS91.hg38.Input.rep_all.max_overlaps.q5.bed.gz | fcc_astarr_macs_input_overlap |\n",
       "| fcc_astarr_macs | ASTARRseq_K562_KS91.hg38.Input.rep_all.union.q5.bed.gz        | fcc_astarr_macs_input_union   |\n",
       "\n"
      ],
      "text/plain": [
       "  Folder          FName                                                        \n",
       "1 fcc_astarr_macs ASTARRseq_K562_KS91.hg38.Input.rep_all.max_overlaps.q5.bed.gz\n",
       "2 fcc_astarr_macs ASTARRseq_K562_KS91.hg38.Input.rep_all.union.q5.bed.gz       \n",
       "  Label                        \n",
       "1 fcc_astarr_macs_input_overlap\n",
       "2 fcc_astarr_macs_input_union  "
      ]
     },
     "metadata": {},
     "output_type": "display_data"
    }
   ],
   "source": [
    "txt_fdiry = file.path(FD_RES, \"region\",txt_region_folder_A, \"summary\")\n",
    "txt_fname = \"metadata.label.tsv\"\n",
    "txt_fpath = file.path(txt_fdiry, txt_fname)\n",
    "\n",
    "dat_label_A = read_tsv(txt_fpath, show_col_types = FALSE)\n",
    "dat_label_A"
   ]
  },
  {
   "cell_type": "code",
   "execution_count": 7,
   "id": "7c7c73eb-d782-4c76-9e0c-bd544fc01cc1",
   "metadata": {},
   "outputs": [
    {
     "data": {
      "text/html": [
       "<table class=\"dataframe\">\n",
       "<caption>A spec_tbl_df: 21 × 3</caption>\n",
       "<thead>\n",
       "\t<tr><th scope=col>Folder</th><th scope=col>FName</th><th scope=col>Label</th></tr>\n",
       "\t<tr><th scope=col>&lt;chr&gt;</th><th scope=col>&lt;chr&gt;</th><th scope=col>&lt;chr&gt;</th></tr>\n",
       "</thead>\n",
       "<tbody>\n",
       "\t<tr><td>encode_chipseq_subset</td><td>K562.hg38.ENCSR000AKP.ENCFF544LXB.ChIPseq.H3K27ac.bed.gz </td><td>encode_chipseq_H3K27ac_ENCFF544LXB </td></tr>\n",
       "\t<tr><td>encode_chipseq_subset</td><td>K562.hg38.ENCSR000AKQ.ENCFF323WOT.ChIPseq.H3K27me3.bed.gz</td><td>encode_chipseq_H3K27me3_ENCFF323WOT</td></tr>\n",
       "\t<tr><td>encode_chipseq_subset</td><td>K562.hg38.ENCSR000AKS.ENCFF135ZLM.ChIPseq.H3K4me1.bed.gz </td><td>encode_chipseq_H3K4me1_ENCFF135ZLM </td></tr>\n",
       "\t<tr><td>encode_chipseq_subset</td><td>K562.hg38.ENCSR000AKT.ENCFF749KLQ.ChIPseq.H3K4me2.bed.gz </td><td>encode_chipseq_H3K4me2_ENCFF749KLQ </td></tr>\n",
       "\t<tr><td>encode_chipseq_subset</td><td>K562.hg38.ENCSR000BMH.ENCFF398UQZ.ChIPseq.YY1.bed.gz     </td><td>encode_chipseq_YY1_ENCFF398UQZ     </td></tr>\n",
       "\t<tr><td>encode_chipseq_subset</td><td>K562.hg38.ENCSR000BMW.ENCFF707MDI.ChIPseq.REST.bed.gz    </td><td>encode_chipseq_REST_ENCFF707MDI    </td></tr>\n",
       "\t<tr><td>encode_chipseq_subset</td><td>K562.hg38.ENCSR000EFS.ENCFF190CGV.ChIPseq.JUN.bed.gz     </td><td>encode_chipseq_JUN_ENCFF190CGV     </td></tr>\n",
       "\t<tr><td>encode_chipseq_subset</td><td>K562.hg38.ENCSR000EFT.ENCFF657CTC.ChIPseq.GATA1.bed.gz   </td><td>encode_chipseq_GATA1_ENCFF657CTC   </td></tr>\n",
       "\t<tr><td>encode_chipseq_subset</td><td>K562.hg38.ENCSR000EFU.ENCFF715WGN.ChIPseq.ELK1.bed.gz    </td><td>encode_chipseq_ELK1_ENCFF715WGN    </td></tr>\n",
       "\t<tr><td>encode_chipseq_subset</td><td>K562.hg38.ENCSR000EGE.ENCFF702XPO.ChIPseq.EP300.bed.gz   </td><td>encode_chipseq_EP300_ENCFF702XPO   </td></tr>\n",
       "\t<tr><td>encode_chipseq_subset</td><td>K562.hg38.ENCSR000EGM.ENCFF660GHM.ChIPseq.CTCF.bed.gz    </td><td>encode_chipseq_CTCF_ENCFF660GHM    </td></tr>\n",
       "\t<tr><td>encode_chipseq_subset</td><td>K562.hg38.ENCSR000EHB.ENCFF852ZRK.ChIPseq.TAL1.bed.gz    </td><td>encode_chipseq_TAL1_ENCFF852ZRK    </td></tr>\n",
       "\t<tr><td>encode_chipseq_subset</td><td>K562.hg38.ENCSR004GKA.ENCFF242AOL.ChIPseq.ZEB2.bed.gz    </td><td>encode_chipseq_ZEB2_ENCFF242AOL    </td></tr>\n",
       "\t<tr><td>encode_chipseq_subset</td><td>K562.hg38.ENCSR091GVJ.ENCFF627RSK.ChIPseq.ATF1.bed.gz    </td><td>encode_chipseq_ATF1_ENCFF627RSK    </td></tr>\n",
       "\t<tr><td>encode_chipseq_subset</td><td>K562.hg38.ENCSR121SPB.ENCFF142ZTD.ChIPseq.KLF10.bed.gz   </td><td>encode_chipseq_KLF10_ENCFF142ZTD   </td></tr>\n",
       "\t<tr><td>encode_chipseq_subset</td><td>K562.hg38.ENCSR388QZF.ENCFF355MNE.ChIPseq.POLR2A.bed.gz  </td><td>encode_chipseq_POLR2A_ENCFF355MNE  </td></tr>\n",
       "\t<tr><td>encode_chipseq_subset</td><td>K562.hg38.ENCSR552YGL.ENCFF023IFO.ChIPseq.NFE2.bed.gz    </td><td>encode_chipseq_NFE2_ENCFF023IFO    </td></tr>\n",
       "\t<tr><td>encode_chipseq_subset</td><td>K562.hg38.ENCSR668LDD.ENCFF885FQN.ChIPseq.H3K4me3.bed.gz </td><td>encode_chipseq_H3K4me3_ENCFF885FQN </td></tr>\n",
       "\t<tr><td>encode_chipseq_subset</td><td>K562.hg38.ENCSR760UVO.ENCFF488OTN.ChIPseq.KLF16.bed.gz   </td><td>encode_chipseq_KLF16_ENCFF488OTN   </td></tr>\n",
       "\t<tr><td>encode_chipseq_subset</td><td>K562.hg38.ENCSR991ELG.ENCFF553GPK.ChIPseq.SP1.bed.gz     </td><td>encode_chipseq_SP1_ENCFF553GPK     </td></tr>\n",
       "\t<tr><td>encode_chipseq_subset</td><td>K562.hg38.ENCSR998AJK.ENCFF777PKJ.ChIPseq.NRF1.bed.gz    </td><td>encode_chipseq_NRF1_ENCFF777PKJ    </td></tr>\n",
       "</tbody>\n",
       "</table>\n"
      ],
      "text/latex": [
       "A spec\\_tbl\\_df: 21 × 3\n",
       "\\begin{tabular}{lll}\n",
       " Folder & FName & Label\\\\\n",
       " <chr> & <chr> & <chr>\\\\\n",
       "\\hline\n",
       "\t encode\\_chipseq\\_subset & K562.hg38.ENCSR000AKP.ENCFF544LXB.ChIPseq.H3K27ac.bed.gz  & encode\\_chipseq\\_H3K27ac\\_ENCFF544LXB \\\\\n",
       "\t encode\\_chipseq\\_subset & K562.hg38.ENCSR000AKQ.ENCFF323WOT.ChIPseq.H3K27me3.bed.gz & encode\\_chipseq\\_H3K27me3\\_ENCFF323WOT\\\\\n",
       "\t encode\\_chipseq\\_subset & K562.hg38.ENCSR000AKS.ENCFF135ZLM.ChIPseq.H3K4me1.bed.gz  & encode\\_chipseq\\_H3K4me1\\_ENCFF135ZLM \\\\\n",
       "\t encode\\_chipseq\\_subset & K562.hg38.ENCSR000AKT.ENCFF749KLQ.ChIPseq.H3K4me2.bed.gz  & encode\\_chipseq\\_H3K4me2\\_ENCFF749KLQ \\\\\n",
       "\t encode\\_chipseq\\_subset & K562.hg38.ENCSR000BMH.ENCFF398UQZ.ChIPseq.YY1.bed.gz      & encode\\_chipseq\\_YY1\\_ENCFF398UQZ     \\\\\n",
       "\t encode\\_chipseq\\_subset & K562.hg38.ENCSR000BMW.ENCFF707MDI.ChIPseq.REST.bed.gz     & encode\\_chipseq\\_REST\\_ENCFF707MDI    \\\\\n",
       "\t encode\\_chipseq\\_subset & K562.hg38.ENCSR000EFS.ENCFF190CGV.ChIPseq.JUN.bed.gz      & encode\\_chipseq\\_JUN\\_ENCFF190CGV     \\\\\n",
       "\t encode\\_chipseq\\_subset & K562.hg38.ENCSR000EFT.ENCFF657CTC.ChIPseq.GATA1.bed.gz    & encode\\_chipseq\\_GATA1\\_ENCFF657CTC   \\\\\n",
       "\t encode\\_chipseq\\_subset & K562.hg38.ENCSR000EFU.ENCFF715WGN.ChIPseq.ELK1.bed.gz     & encode\\_chipseq\\_ELK1\\_ENCFF715WGN    \\\\\n",
       "\t encode\\_chipseq\\_subset & K562.hg38.ENCSR000EGE.ENCFF702XPO.ChIPseq.EP300.bed.gz    & encode\\_chipseq\\_EP300\\_ENCFF702XPO   \\\\\n",
       "\t encode\\_chipseq\\_subset & K562.hg38.ENCSR000EGM.ENCFF660GHM.ChIPseq.CTCF.bed.gz     & encode\\_chipseq\\_CTCF\\_ENCFF660GHM    \\\\\n",
       "\t encode\\_chipseq\\_subset & K562.hg38.ENCSR000EHB.ENCFF852ZRK.ChIPseq.TAL1.bed.gz     & encode\\_chipseq\\_TAL1\\_ENCFF852ZRK    \\\\\n",
       "\t encode\\_chipseq\\_subset & K562.hg38.ENCSR004GKA.ENCFF242AOL.ChIPseq.ZEB2.bed.gz     & encode\\_chipseq\\_ZEB2\\_ENCFF242AOL    \\\\\n",
       "\t encode\\_chipseq\\_subset & K562.hg38.ENCSR091GVJ.ENCFF627RSK.ChIPseq.ATF1.bed.gz     & encode\\_chipseq\\_ATF1\\_ENCFF627RSK    \\\\\n",
       "\t encode\\_chipseq\\_subset & K562.hg38.ENCSR121SPB.ENCFF142ZTD.ChIPseq.KLF10.bed.gz    & encode\\_chipseq\\_KLF10\\_ENCFF142ZTD   \\\\\n",
       "\t encode\\_chipseq\\_subset & K562.hg38.ENCSR388QZF.ENCFF355MNE.ChIPseq.POLR2A.bed.gz   & encode\\_chipseq\\_POLR2A\\_ENCFF355MNE  \\\\\n",
       "\t encode\\_chipseq\\_subset & K562.hg38.ENCSR552YGL.ENCFF023IFO.ChIPseq.NFE2.bed.gz     & encode\\_chipseq\\_NFE2\\_ENCFF023IFO    \\\\\n",
       "\t encode\\_chipseq\\_subset & K562.hg38.ENCSR668LDD.ENCFF885FQN.ChIPseq.H3K4me3.bed.gz  & encode\\_chipseq\\_H3K4me3\\_ENCFF885FQN \\\\\n",
       "\t encode\\_chipseq\\_subset & K562.hg38.ENCSR760UVO.ENCFF488OTN.ChIPseq.KLF16.bed.gz    & encode\\_chipseq\\_KLF16\\_ENCFF488OTN   \\\\\n",
       "\t encode\\_chipseq\\_subset & K562.hg38.ENCSR991ELG.ENCFF553GPK.ChIPseq.SP1.bed.gz      & encode\\_chipseq\\_SP1\\_ENCFF553GPK     \\\\\n",
       "\t encode\\_chipseq\\_subset & K562.hg38.ENCSR998AJK.ENCFF777PKJ.ChIPseq.NRF1.bed.gz     & encode\\_chipseq\\_NRF1\\_ENCFF777PKJ    \\\\\n",
       "\\end{tabular}\n"
      ],
      "text/markdown": [
       "\n",
       "A spec_tbl_df: 21 × 3\n",
       "\n",
       "| Folder &lt;chr&gt; | FName &lt;chr&gt; | Label &lt;chr&gt; |\n",
       "|---|---|---|\n",
       "| encode_chipseq_subset | K562.hg38.ENCSR000AKP.ENCFF544LXB.ChIPseq.H3K27ac.bed.gz  | encode_chipseq_H3K27ac_ENCFF544LXB  |\n",
       "| encode_chipseq_subset | K562.hg38.ENCSR000AKQ.ENCFF323WOT.ChIPseq.H3K27me3.bed.gz | encode_chipseq_H3K27me3_ENCFF323WOT |\n",
       "| encode_chipseq_subset | K562.hg38.ENCSR000AKS.ENCFF135ZLM.ChIPseq.H3K4me1.bed.gz  | encode_chipseq_H3K4me1_ENCFF135ZLM  |\n",
       "| encode_chipseq_subset | K562.hg38.ENCSR000AKT.ENCFF749KLQ.ChIPseq.H3K4me2.bed.gz  | encode_chipseq_H3K4me2_ENCFF749KLQ  |\n",
       "| encode_chipseq_subset | K562.hg38.ENCSR000BMH.ENCFF398UQZ.ChIPseq.YY1.bed.gz      | encode_chipseq_YY1_ENCFF398UQZ      |\n",
       "| encode_chipseq_subset | K562.hg38.ENCSR000BMW.ENCFF707MDI.ChIPseq.REST.bed.gz     | encode_chipseq_REST_ENCFF707MDI     |\n",
       "| encode_chipseq_subset | K562.hg38.ENCSR000EFS.ENCFF190CGV.ChIPseq.JUN.bed.gz      | encode_chipseq_JUN_ENCFF190CGV      |\n",
       "| encode_chipseq_subset | K562.hg38.ENCSR000EFT.ENCFF657CTC.ChIPseq.GATA1.bed.gz    | encode_chipseq_GATA1_ENCFF657CTC    |\n",
       "| encode_chipseq_subset | K562.hg38.ENCSR000EFU.ENCFF715WGN.ChIPseq.ELK1.bed.gz     | encode_chipseq_ELK1_ENCFF715WGN     |\n",
       "| encode_chipseq_subset | K562.hg38.ENCSR000EGE.ENCFF702XPO.ChIPseq.EP300.bed.gz    | encode_chipseq_EP300_ENCFF702XPO    |\n",
       "| encode_chipseq_subset | K562.hg38.ENCSR000EGM.ENCFF660GHM.ChIPseq.CTCF.bed.gz     | encode_chipseq_CTCF_ENCFF660GHM     |\n",
       "| encode_chipseq_subset | K562.hg38.ENCSR000EHB.ENCFF852ZRK.ChIPseq.TAL1.bed.gz     | encode_chipseq_TAL1_ENCFF852ZRK     |\n",
       "| encode_chipseq_subset | K562.hg38.ENCSR004GKA.ENCFF242AOL.ChIPseq.ZEB2.bed.gz     | encode_chipseq_ZEB2_ENCFF242AOL     |\n",
       "| encode_chipseq_subset | K562.hg38.ENCSR091GVJ.ENCFF627RSK.ChIPseq.ATF1.bed.gz     | encode_chipseq_ATF1_ENCFF627RSK     |\n",
       "| encode_chipseq_subset | K562.hg38.ENCSR121SPB.ENCFF142ZTD.ChIPseq.KLF10.bed.gz    | encode_chipseq_KLF10_ENCFF142ZTD    |\n",
       "| encode_chipseq_subset | K562.hg38.ENCSR388QZF.ENCFF355MNE.ChIPseq.POLR2A.bed.gz   | encode_chipseq_POLR2A_ENCFF355MNE   |\n",
       "| encode_chipseq_subset | K562.hg38.ENCSR552YGL.ENCFF023IFO.ChIPseq.NFE2.bed.gz     | encode_chipseq_NFE2_ENCFF023IFO     |\n",
       "| encode_chipseq_subset | K562.hg38.ENCSR668LDD.ENCFF885FQN.ChIPseq.H3K4me3.bed.gz  | encode_chipseq_H3K4me3_ENCFF885FQN  |\n",
       "| encode_chipseq_subset | K562.hg38.ENCSR760UVO.ENCFF488OTN.ChIPseq.KLF16.bed.gz    | encode_chipseq_KLF16_ENCFF488OTN    |\n",
       "| encode_chipseq_subset | K562.hg38.ENCSR991ELG.ENCFF553GPK.ChIPseq.SP1.bed.gz      | encode_chipseq_SP1_ENCFF553GPK      |\n",
       "| encode_chipseq_subset | K562.hg38.ENCSR998AJK.ENCFF777PKJ.ChIPseq.NRF1.bed.gz     | encode_chipseq_NRF1_ENCFF777PKJ     |\n",
       "\n"
      ],
      "text/plain": [
       "   Folder               \n",
       "1  encode_chipseq_subset\n",
       "2  encode_chipseq_subset\n",
       "3  encode_chipseq_subset\n",
       "4  encode_chipseq_subset\n",
       "5  encode_chipseq_subset\n",
       "6  encode_chipseq_subset\n",
       "7  encode_chipseq_subset\n",
       "8  encode_chipseq_subset\n",
       "9  encode_chipseq_subset\n",
       "10 encode_chipseq_subset\n",
       "11 encode_chipseq_subset\n",
       "12 encode_chipseq_subset\n",
       "13 encode_chipseq_subset\n",
       "14 encode_chipseq_subset\n",
       "15 encode_chipseq_subset\n",
       "16 encode_chipseq_subset\n",
       "17 encode_chipseq_subset\n",
       "18 encode_chipseq_subset\n",
       "19 encode_chipseq_subset\n",
       "20 encode_chipseq_subset\n",
       "21 encode_chipseq_subset\n",
       "   FName                                                    \n",
       "1  K562.hg38.ENCSR000AKP.ENCFF544LXB.ChIPseq.H3K27ac.bed.gz \n",
       "2  K562.hg38.ENCSR000AKQ.ENCFF323WOT.ChIPseq.H3K27me3.bed.gz\n",
       "3  K562.hg38.ENCSR000AKS.ENCFF135ZLM.ChIPseq.H3K4me1.bed.gz \n",
       "4  K562.hg38.ENCSR000AKT.ENCFF749KLQ.ChIPseq.H3K4me2.bed.gz \n",
       "5  K562.hg38.ENCSR000BMH.ENCFF398UQZ.ChIPseq.YY1.bed.gz     \n",
       "6  K562.hg38.ENCSR000BMW.ENCFF707MDI.ChIPseq.REST.bed.gz    \n",
       "7  K562.hg38.ENCSR000EFS.ENCFF190CGV.ChIPseq.JUN.bed.gz     \n",
       "8  K562.hg38.ENCSR000EFT.ENCFF657CTC.ChIPseq.GATA1.bed.gz   \n",
       "9  K562.hg38.ENCSR000EFU.ENCFF715WGN.ChIPseq.ELK1.bed.gz    \n",
       "10 K562.hg38.ENCSR000EGE.ENCFF702XPO.ChIPseq.EP300.bed.gz   \n",
       "11 K562.hg38.ENCSR000EGM.ENCFF660GHM.ChIPseq.CTCF.bed.gz    \n",
       "12 K562.hg38.ENCSR000EHB.ENCFF852ZRK.ChIPseq.TAL1.bed.gz    \n",
       "13 K562.hg38.ENCSR004GKA.ENCFF242AOL.ChIPseq.ZEB2.bed.gz    \n",
       "14 K562.hg38.ENCSR091GVJ.ENCFF627RSK.ChIPseq.ATF1.bed.gz    \n",
       "15 K562.hg38.ENCSR121SPB.ENCFF142ZTD.ChIPseq.KLF10.bed.gz   \n",
       "16 K562.hg38.ENCSR388QZF.ENCFF355MNE.ChIPseq.POLR2A.bed.gz  \n",
       "17 K562.hg38.ENCSR552YGL.ENCFF023IFO.ChIPseq.NFE2.bed.gz    \n",
       "18 K562.hg38.ENCSR668LDD.ENCFF885FQN.ChIPseq.H3K4me3.bed.gz \n",
       "19 K562.hg38.ENCSR760UVO.ENCFF488OTN.ChIPseq.KLF16.bed.gz   \n",
       "20 K562.hg38.ENCSR991ELG.ENCFF553GPK.ChIPseq.SP1.bed.gz     \n",
       "21 K562.hg38.ENCSR998AJK.ENCFF777PKJ.ChIPseq.NRF1.bed.gz    \n",
       "   Label                              \n",
       "1  encode_chipseq_H3K27ac_ENCFF544LXB \n",
       "2  encode_chipseq_H3K27me3_ENCFF323WOT\n",
       "3  encode_chipseq_H3K4me1_ENCFF135ZLM \n",
       "4  encode_chipseq_H3K4me2_ENCFF749KLQ \n",
       "5  encode_chipseq_YY1_ENCFF398UQZ     \n",
       "6  encode_chipseq_REST_ENCFF707MDI    \n",
       "7  encode_chipseq_JUN_ENCFF190CGV     \n",
       "8  encode_chipseq_GATA1_ENCFF657CTC   \n",
       "9  encode_chipseq_ELK1_ENCFF715WGN    \n",
       "10 encode_chipseq_EP300_ENCFF702XPO   \n",
       "11 encode_chipseq_CTCF_ENCFF660GHM    \n",
       "12 encode_chipseq_TAL1_ENCFF852ZRK    \n",
       "13 encode_chipseq_ZEB2_ENCFF242AOL    \n",
       "14 encode_chipseq_ATF1_ENCFF627RSK    \n",
       "15 encode_chipseq_KLF10_ENCFF142ZTD   \n",
       "16 encode_chipseq_POLR2A_ENCFF355MNE  \n",
       "17 encode_chipseq_NFE2_ENCFF023IFO    \n",
       "18 encode_chipseq_H3K4me3_ENCFF885FQN \n",
       "19 encode_chipseq_KLF16_ENCFF488OTN   \n",
       "20 encode_chipseq_SP1_ENCFF553GPK     \n",
       "21 encode_chipseq_NRF1_ENCFF777PKJ    "
      ]
     },
     "metadata": {},
     "output_type": "display_data"
    }
   ],
   "source": [
    "txt_fdiry = file.path(FD_RES, \"region\",txt_region_folder_B, \"summary\")\n",
    "txt_fname = \"metadata.label.tsv\"\n",
    "txt_fpath = file.path(txt_fdiry, txt_fname)\n",
    "\n",
    "dat_label_B = read_tsv(txt_fpath, show_col_types = FALSE)\n",
    "dat_label_B"
   ]
  },
  {
   "cell_type": "code",
   "execution_count": null,
   "id": "4effea5f-22a3-48a6-83c1-b92eb37d8012",
   "metadata": {},
   "outputs": [],
   "source": []
  },
  {
   "cell_type": "code",
   "execution_count": 8,
   "id": "5d8709c6-7b29-4c0a-8ec9-2ce738ddd047",
   "metadata": {},
   "outputs": [
    {
     "data": {
      "text/html": [
       "<style>\n",
       ".list-inline {list-style: none; margin:0; padding: 0}\n",
       ".list-inline>li {display: inline-block}\n",
       ".list-inline>li:not(:last-child)::after {content: \"\\00b7\"; padding: 0 .5ex}\n",
       "</style>\n",
       "<ol class=list-inline><li>'fcc_astarr_macs_input_overlap.encode_chipseq_ATF1_ENCFF627RSK.bed.gz'</li><li>'fcc_astarr_macs_input_overlap.encode_chipseq_CTCF_ENCFF660GHM.bed.gz'</li><li>'fcc_astarr_macs_input_overlap.encode_chipseq_ELK1_ENCFF715WGN.bed.gz'</li><li>'fcc_astarr_macs_input_overlap.encode_chipseq_EP300_ENCFF702XPO.bed.gz'</li><li>'fcc_astarr_macs_input_overlap.encode_chipseq_GATA1_ENCFF657CTC.bed.gz'</li><li>'fcc_astarr_macs_input_overlap.encode_chipseq_H3K27ac_ENCFF544LXB.bed.gz'</li><li>'fcc_astarr_macs_input_overlap.encode_chipseq_H3K27me3_ENCFF323WOT.bed.gz'</li><li>'fcc_astarr_macs_input_overlap.encode_chipseq_H3K4me1_ENCFF135ZLM.bed.gz'</li><li>'fcc_astarr_macs_input_overlap.encode_chipseq_H3K4me2_ENCFF749KLQ.bed.gz'</li><li>'fcc_astarr_macs_input_overlap.encode_chipseq_H3K4me3_ENCFF885FQN.bed.gz'</li><li>'fcc_astarr_macs_input_overlap.encode_chipseq_JUN_ENCFF190CGV.bed.gz'</li><li>'fcc_astarr_macs_input_overlap.encode_chipseq_KLF10_ENCFF142ZTD.bed.gz'</li><li>'fcc_astarr_macs_input_overlap.encode_chipseq_KLF16_ENCFF488OTN.bed.gz'</li><li>'fcc_astarr_macs_input_overlap.encode_chipseq_NFE2_ENCFF023IFO.bed.gz'</li><li>'fcc_astarr_macs_input_overlap.encode_chipseq_NRF1_ENCFF777PKJ.bed.gz'</li><li>'fcc_astarr_macs_input_overlap.encode_chipseq_POLR2A_ENCFF355MNE.bed.gz'</li><li>'fcc_astarr_macs_input_overlap.encode_chipseq_REST_ENCFF707MDI.bed.gz'</li><li>'fcc_astarr_macs_input_overlap.encode_chipseq_SP1_ENCFF553GPK.bed.gz'</li><li>'fcc_astarr_macs_input_overlap.encode_chipseq_TAL1_ENCFF852ZRK.bed.gz'</li><li>'fcc_astarr_macs_input_overlap.encode_chipseq_YY1_ENCFF398UQZ.bed.gz'</li><li>'fcc_astarr_macs_input_overlap.encode_chipseq_ZEB2_ENCFF242AOL.bed.gz'</li></ol>\n"
      ],
      "text/latex": [
       "\\begin{enumerate*}\n",
       "\\item 'fcc\\_astarr\\_macs\\_input\\_overlap.encode\\_chipseq\\_ATF1\\_ENCFF627RSK.bed.gz'\n",
       "\\item 'fcc\\_astarr\\_macs\\_input\\_overlap.encode\\_chipseq\\_CTCF\\_ENCFF660GHM.bed.gz'\n",
       "\\item 'fcc\\_astarr\\_macs\\_input\\_overlap.encode\\_chipseq\\_ELK1\\_ENCFF715WGN.bed.gz'\n",
       "\\item 'fcc\\_astarr\\_macs\\_input\\_overlap.encode\\_chipseq\\_EP300\\_ENCFF702XPO.bed.gz'\n",
       "\\item 'fcc\\_astarr\\_macs\\_input\\_overlap.encode\\_chipseq\\_GATA1\\_ENCFF657CTC.bed.gz'\n",
       "\\item 'fcc\\_astarr\\_macs\\_input\\_overlap.encode\\_chipseq\\_H3K27ac\\_ENCFF544LXB.bed.gz'\n",
       "\\item 'fcc\\_astarr\\_macs\\_input\\_overlap.encode\\_chipseq\\_H3K27me3\\_ENCFF323WOT.bed.gz'\n",
       "\\item 'fcc\\_astarr\\_macs\\_input\\_overlap.encode\\_chipseq\\_H3K4me1\\_ENCFF135ZLM.bed.gz'\n",
       "\\item 'fcc\\_astarr\\_macs\\_input\\_overlap.encode\\_chipseq\\_H3K4me2\\_ENCFF749KLQ.bed.gz'\n",
       "\\item 'fcc\\_astarr\\_macs\\_input\\_overlap.encode\\_chipseq\\_H3K4me3\\_ENCFF885FQN.bed.gz'\n",
       "\\item 'fcc\\_astarr\\_macs\\_input\\_overlap.encode\\_chipseq\\_JUN\\_ENCFF190CGV.bed.gz'\n",
       "\\item 'fcc\\_astarr\\_macs\\_input\\_overlap.encode\\_chipseq\\_KLF10\\_ENCFF142ZTD.bed.gz'\n",
       "\\item 'fcc\\_astarr\\_macs\\_input\\_overlap.encode\\_chipseq\\_KLF16\\_ENCFF488OTN.bed.gz'\n",
       "\\item 'fcc\\_astarr\\_macs\\_input\\_overlap.encode\\_chipseq\\_NFE2\\_ENCFF023IFO.bed.gz'\n",
       "\\item 'fcc\\_astarr\\_macs\\_input\\_overlap.encode\\_chipseq\\_NRF1\\_ENCFF777PKJ.bed.gz'\n",
       "\\item 'fcc\\_astarr\\_macs\\_input\\_overlap.encode\\_chipseq\\_POLR2A\\_ENCFF355MNE.bed.gz'\n",
       "\\item 'fcc\\_astarr\\_macs\\_input\\_overlap.encode\\_chipseq\\_REST\\_ENCFF707MDI.bed.gz'\n",
       "\\item 'fcc\\_astarr\\_macs\\_input\\_overlap.encode\\_chipseq\\_SP1\\_ENCFF553GPK.bed.gz'\n",
       "\\item 'fcc\\_astarr\\_macs\\_input\\_overlap.encode\\_chipseq\\_TAL1\\_ENCFF852ZRK.bed.gz'\n",
       "\\item 'fcc\\_astarr\\_macs\\_input\\_overlap.encode\\_chipseq\\_YY1\\_ENCFF398UQZ.bed.gz'\n",
       "\\item 'fcc\\_astarr\\_macs\\_input\\_overlap.encode\\_chipseq\\_ZEB2\\_ENCFF242AOL.bed.gz'\n",
       "\\end{enumerate*}\n"
      ],
      "text/markdown": [
       "1. 'fcc_astarr_macs_input_overlap.encode_chipseq_ATF1_ENCFF627RSK.bed.gz'\n",
       "2. 'fcc_astarr_macs_input_overlap.encode_chipseq_CTCF_ENCFF660GHM.bed.gz'\n",
       "3. 'fcc_astarr_macs_input_overlap.encode_chipseq_ELK1_ENCFF715WGN.bed.gz'\n",
       "4. 'fcc_astarr_macs_input_overlap.encode_chipseq_EP300_ENCFF702XPO.bed.gz'\n",
       "5. 'fcc_astarr_macs_input_overlap.encode_chipseq_GATA1_ENCFF657CTC.bed.gz'\n",
       "6. 'fcc_astarr_macs_input_overlap.encode_chipseq_H3K27ac_ENCFF544LXB.bed.gz'\n",
       "7. 'fcc_astarr_macs_input_overlap.encode_chipseq_H3K27me3_ENCFF323WOT.bed.gz'\n",
       "8. 'fcc_astarr_macs_input_overlap.encode_chipseq_H3K4me1_ENCFF135ZLM.bed.gz'\n",
       "9. 'fcc_astarr_macs_input_overlap.encode_chipseq_H3K4me2_ENCFF749KLQ.bed.gz'\n",
       "10. 'fcc_astarr_macs_input_overlap.encode_chipseq_H3K4me3_ENCFF885FQN.bed.gz'\n",
       "11. 'fcc_astarr_macs_input_overlap.encode_chipseq_JUN_ENCFF190CGV.bed.gz'\n",
       "12. 'fcc_astarr_macs_input_overlap.encode_chipseq_KLF10_ENCFF142ZTD.bed.gz'\n",
       "13. 'fcc_astarr_macs_input_overlap.encode_chipseq_KLF16_ENCFF488OTN.bed.gz'\n",
       "14. 'fcc_astarr_macs_input_overlap.encode_chipseq_NFE2_ENCFF023IFO.bed.gz'\n",
       "15. 'fcc_astarr_macs_input_overlap.encode_chipseq_NRF1_ENCFF777PKJ.bed.gz'\n",
       "16. 'fcc_astarr_macs_input_overlap.encode_chipseq_POLR2A_ENCFF355MNE.bed.gz'\n",
       "17. 'fcc_astarr_macs_input_overlap.encode_chipseq_REST_ENCFF707MDI.bed.gz'\n",
       "18. 'fcc_astarr_macs_input_overlap.encode_chipseq_SP1_ENCFF553GPK.bed.gz'\n",
       "19. 'fcc_astarr_macs_input_overlap.encode_chipseq_TAL1_ENCFF852ZRK.bed.gz'\n",
       "20. 'fcc_astarr_macs_input_overlap.encode_chipseq_YY1_ENCFF398UQZ.bed.gz'\n",
       "21. 'fcc_astarr_macs_input_overlap.encode_chipseq_ZEB2_ENCFF242AOL.bed.gz'\n",
       "\n",
       "\n"
      ],
      "text/plain": [
       " [1] \"fcc_astarr_macs_input_overlap.encode_chipseq_ATF1_ENCFF627RSK.bed.gz\"    \n",
       " [2] \"fcc_astarr_macs_input_overlap.encode_chipseq_CTCF_ENCFF660GHM.bed.gz\"    \n",
       " [3] \"fcc_astarr_macs_input_overlap.encode_chipseq_ELK1_ENCFF715WGN.bed.gz\"    \n",
       " [4] \"fcc_astarr_macs_input_overlap.encode_chipseq_EP300_ENCFF702XPO.bed.gz\"   \n",
       " [5] \"fcc_astarr_macs_input_overlap.encode_chipseq_GATA1_ENCFF657CTC.bed.gz\"   \n",
       " [6] \"fcc_astarr_macs_input_overlap.encode_chipseq_H3K27ac_ENCFF544LXB.bed.gz\" \n",
       " [7] \"fcc_astarr_macs_input_overlap.encode_chipseq_H3K27me3_ENCFF323WOT.bed.gz\"\n",
       " [8] \"fcc_astarr_macs_input_overlap.encode_chipseq_H3K4me1_ENCFF135ZLM.bed.gz\" \n",
       " [9] \"fcc_astarr_macs_input_overlap.encode_chipseq_H3K4me2_ENCFF749KLQ.bed.gz\" \n",
       "[10] \"fcc_astarr_macs_input_overlap.encode_chipseq_H3K4me3_ENCFF885FQN.bed.gz\" \n",
       "[11] \"fcc_astarr_macs_input_overlap.encode_chipseq_JUN_ENCFF190CGV.bed.gz\"     \n",
       "[12] \"fcc_astarr_macs_input_overlap.encode_chipseq_KLF10_ENCFF142ZTD.bed.gz\"   \n",
       "[13] \"fcc_astarr_macs_input_overlap.encode_chipseq_KLF16_ENCFF488OTN.bed.gz\"   \n",
       "[14] \"fcc_astarr_macs_input_overlap.encode_chipseq_NFE2_ENCFF023IFO.bed.gz\"    \n",
       "[15] \"fcc_astarr_macs_input_overlap.encode_chipseq_NRF1_ENCFF777PKJ.bed.gz\"    \n",
       "[16] \"fcc_astarr_macs_input_overlap.encode_chipseq_POLR2A_ENCFF355MNE.bed.gz\"  \n",
       "[17] \"fcc_astarr_macs_input_overlap.encode_chipseq_REST_ENCFF707MDI.bed.gz\"    \n",
       "[18] \"fcc_astarr_macs_input_overlap.encode_chipseq_SP1_ENCFF553GPK.bed.gz\"     \n",
       "[19] \"fcc_astarr_macs_input_overlap.encode_chipseq_TAL1_ENCFF852ZRK.bed.gz\"    \n",
       "[20] \"fcc_astarr_macs_input_overlap.encode_chipseq_YY1_ENCFF398UQZ.bed.gz\"     \n",
       "[21] \"fcc_astarr_macs_input_overlap.encode_chipseq_ZEB2_ENCFF242AOL.bed.gz\"    "
      ]
     },
     "metadata": {},
     "output_type": "display_data"
    }
   ],
   "source": [
    "txt_fdiry = file.path(\n",
    "    FD_RES, \n",
    "    \"region_annotation\",\n",
    "    txt_region_label_A, \n",
    "    txt_region_folder_B\n",
    ")\n",
    "txt_fname = \"*bed.gz\"\n",
    "txt_fglob = file.path(txt_fdiry, txt_fname)\n",
    "\n",
    "vec_txt_fpath = Sys.glob(txt_fglob)\n",
    "vec_txt_fname = basename(vec_txt_fpath)\n",
    "vec_txt_fname"
   ]
  },
  {
   "cell_type": "code",
   "execution_count": 13,
   "id": "aea3dea5-108e-4eef-a257-a48c52440003",
   "metadata": {},
   "outputs": [
    {
     "name": "stdout",
     "output_type": "stream",
     "text": [
      "[1] \"fcc_astarr_macs_input_overlap.encode_chipseq_ATF1_ENCFF627RSK.bed.gz\"\n"
     ]
    },
    {
     "data": {
      "text/html": [
       "<table class=\"dataframe\">\n",
       "<caption>A tibble: 6 × 20</caption>\n",
       "<thead>\n",
       "\t<tr><th scope=col>Chrom_A</th><th scope=col>ChromStart_A</th><th scope=col>ChromEnd_A</th><th scope=col>Chrom_B</th><th scope=col>ChromStart_B</th><th scope=col>ChromEnd_B</th><th scope=col>Name_B</th><th scope=col>Score_B</th><th scope=col>Strand_B</th><th scope=col>SignalValue_B</th><th scope=col>PValue_B</th><th scope=col>QValue_B</th><th scope=col>Peak_B</th><th scope=col>Overlap</th><th scope=col>Region_A</th><th scope=col>Region_B</th><th scope=col>Annotation_A</th><th scope=col>Annotation_B</th><th scope=col>Group_B</th><th scope=col>Label_B</th></tr>\n",
       "\t<tr><th scope=col>&lt;chr&gt;</th><th scope=col>&lt;dbl&gt;</th><th scope=col>&lt;dbl&gt;</th><th scope=col>&lt;chr&gt;</th><th scope=col>&lt;dbl&gt;</th><th scope=col>&lt;dbl&gt;</th><th scope=col>&lt;chr&gt;</th><th scope=col>&lt;dbl&gt;</th><th scope=col>&lt;chr&gt;</th><th scope=col>&lt;dbl&gt;</th><th scope=col>&lt;dbl&gt;</th><th scope=col>&lt;dbl&gt;</th><th scope=col>&lt;dbl&gt;</th><th scope=col>&lt;dbl&gt;</th><th scope=col>&lt;chr&gt;</th><th scope=col>&lt;chr&gt;</th><th scope=col>&lt;chr&gt;</th><th scope=col>&lt;chr&gt;</th><th scope=col>&lt;chr&gt;</th><th scope=col>&lt;chr&gt;</th></tr>\n",
       "</thead>\n",
       "<tbody>\n",
       "\t<tr><td>chr1</td><td>778233</td><td>779389</td><td>chr1</td><td>778198</td><td>779139</td><td>.</td><td>1000</td><td>.</td><td>10888.81006</td><td>-1</td><td>4.26233</td><td>505</td><td>906</td><td>chr1:778233-779389</td><td>chr1:778198-779139</td><td>fcc_astarr_macs_input_overlap</td><td>encode_chipseq_ATF1_ENCFF627RSK</td><td>ChIPseq</td><td>ATF1</td></tr>\n",
       "\t<tr><td>chr1</td><td>817031</td><td>817525</td><td>chr1</td><td>817203</td><td>817893</td><td>.</td><td>1000</td><td>.</td><td>  111.09106</td><td>-1</td><td>3.87876</td><td>345</td><td>322</td><td>chr1:817031-817525</td><td>chr1:817203-817893</td><td>fcc_astarr_macs_input_overlap</td><td>encode_chipseq_ATF1_ENCFF627RSK</td><td>ChIPseq</td><td>ATF1</td></tr>\n",
       "\t<tr><td>chr1</td><td>817031</td><td>817525</td><td>chr1</td><td>817206</td><td>817533</td><td>.</td><td>1000</td><td>.</td><td>  258.40874</td><td>-1</td><td>4.26233</td><td>141</td><td>319</td><td>chr1:817031-817525</td><td>chr1:817206-817533</td><td>fcc_astarr_macs_input_overlap</td><td>encode_chipseq_ATF1_ENCFF627RSK</td><td>ChIPseq</td><td>ATF1</td></tr>\n",
       "\t<tr><td>chr1</td><td>826796</td><td>828040</td><td>chr1</td><td>827315</td><td>827649</td><td>.</td><td>1000</td><td>.</td><td>  157.62140</td><td>-1</td><td>3.91482</td><td>176</td><td>334</td><td>chr1:826796-828040</td><td>chr1:827315-827649</td><td>fcc_astarr_macs_input_overlap</td><td>encode_chipseq_ATF1_ENCFF627RSK</td><td>ChIPseq</td><td>ATF1</td></tr>\n",
       "\t<tr><td>chr1</td><td>842516</td><td>843431</td><td>chr1</td><td>842533</td><td>843223</td><td>.</td><td> 754</td><td>.</td><td>   66.73495</td><td>-1</td><td>3.71724</td><td>345</td><td>690</td><td>chr1:842516-843431</td><td>chr1:842533-843223</td><td>fcc_astarr_macs_input_overlap</td><td>encode_chipseq_ATF1_ENCFF627RSK</td><td>ChIPseq</td><td>ATF1</td></tr>\n",
       "\t<tr><td>chr1</td><td>869637</td><td>870233</td><td>chr1</td><td>869692</td><td>870382</td><td>.</td><td> 866</td><td>.</td><td>   67.40187</td><td>-1</td><td>3.78482</td><td>345</td><td>541</td><td>chr1:869637-870233</td><td>chr1:869692-870382</td><td>fcc_astarr_macs_input_overlap</td><td>encode_chipseq_ATF1_ENCFF627RSK</td><td>ChIPseq</td><td>ATF1</td></tr>\n",
       "</tbody>\n",
       "</table>\n"
      ],
      "text/latex": [
       "A tibble: 6 × 20\n",
       "\\begin{tabular}{llllllllllllllllllll}\n",
       " Chrom\\_A & ChromStart\\_A & ChromEnd\\_A & Chrom\\_B & ChromStart\\_B & ChromEnd\\_B & Name\\_B & Score\\_B & Strand\\_B & SignalValue\\_B & PValue\\_B & QValue\\_B & Peak\\_B & Overlap & Region\\_A & Region\\_B & Annotation\\_A & Annotation\\_B & Group\\_B & Label\\_B\\\\\n",
       " <chr> & <dbl> & <dbl> & <chr> & <dbl> & <dbl> & <chr> & <dbl> & <chr> & <dbl> & <dbl> & <dbl> & <dbl> & <dbl> & <chr> & <chr> & <chr> & <chr> & <chr> & <chr>\\\\\n",
       "\\hline\n",
       "\t chr1 & 778233 & 779389 & chr1 & 778198 & 779139 & . & 1000 & . & 10888.81006 & -1 & 4.26233 & 505 & 906 & chr1:778233-779389 & chr1:778198-779139 & fcc\\_astarr\\_macs\\_input\\_overlap & encode\\_chipseq\\_ATF1\\_ENCFF627RSK & ChIPseq & ATF1\\\\\n",
       "\t chr1 & 817031 & 817525 & chr1 & 817203 & 817893 & . & 1000 & . &   111.09106 & -1 & 3.87876 & 345 & 322 & chr1:817031-817525 & chr1:817203-817893 & fcc\\_astarr\\_macs\\_input\\_overlap & encode\\_chipseq\\_ATF1\\_ENCFF627RSK & ChIPseq & ATF1\\\\\n",
       "\t chr1 & 817031 & 817525 & chr1 & 817206 & 817533 & . & 1000 & . &   258.40874 & -1 & 4.26233 & 141 & 319 & chr1:817031-817525 & chr1:817206-817533 & fcc\\_astarr\\_macs\\_input\\_overlap & encode\\_chipseq\\_ATF1\\_ENCFF627RSK & ChIPseq & ATF1\\\\\n",
       "\t chr1 & 826796 & 828040 & chr1 & 827315 & 827649 & . & 1000 & . &   157.62140 & -1 & 3.91482 & 176 & 334 & chr1:826796-828040 & chr1:827315-827649 & fcc\\_astarr\\_macs\\_input\\_overlap & encode\\_chipseq\\_ATF1\\_ENCFF627RSK & ChIPseq & ATF1\\\\\n",
       "\t chr1 & 842516 & 843431 & chr1 & 842533 & 843223 & . &  754 & . &    66.73495 & -1 & 3.71724 & 345 & 690 & chr1:842516-843431 & chr1:842533-843223 & fcc\\_astarr\\_macs\\_input\\_overlap & encode\\_chipseq\\_ATF1\\_ENCFF627RSK & ChIPseq & ATF1\\\\\n",
       "\t chr1 & 869637 & 870233 & chr1 & 869692 & 870382 & . &  866 & . &    67.40187 & -1 & 3.78482 & 345 & 541 & chr1:869637-870233 & chr1:869692-870382 & fcc\\_astarr\\_macs\\_input\\_overlap & encode\\_chipseq\\_ATF1\\_ENCFF627RSK & ChIPseq & ATF1\\\\\n",
       "\\end{tabular}\n"
      ],
      "text/markdown": [
       "\n",
       "A tibble: 6 × 20\n",
       "\n",
       "| Chrom_A &lt;chr&gt; | ChromStart_A &lt;dbl&gt; | ChromEnd_A &lt;dbl&gt; | Chrom_B &lt;chr&gt; | ChromStart_B &lt;dbl&gt; | ChromEnd_B &lt;dbl&gt; | Name_B &lt;chr&gt; | Score_B &lt;dbl&gt; | Strand_B &lt;chr&gt; | SignalValue_B &lt;dbl&gt; | PValue_B &lt;dbl&gt; | QValue_B &lt;dbl&gt; | Peak_B &lt;dbl&gt; | Overlap &lt;dbl&gt; | Region_A &lt;chr&gt; | Region_B &lt;chr&gt; | Annotation_A &lt;chr&gt; | Annotation_B &lt;chr&gt; | Group_B &lt;chr&gt; | Label_B &lt;chr&gt; |\n",
       "|---|---|---|---|---|---|---|---|---|---|---|---|---|---|---|---|---|---|---|---|\n",
       "| chr1 | 778233 | 779389 | chr1 | 778198 | 779139 | . | 1000 | . | 10888.81006 | -1 | 4.26233 | 505 | 906 | chr1:778233-779389 | chr1:778198-779139 | fcc_astarr_macs_input_overlap | encode_chipseq_ATF1_ENCFF627RSK | ChIPseq | ATF1 |\n",
       "| chr1 | 817031 | 817525 | chr1 | 817203 | 817893 | . | 1000 | . |   111.09106 | -1 | 3.87876 | 345 | 322 | chr1:817031-817525 | chr1:817203-817893 | fcc_astarr_macs_input_overlap | encode_chipseq_ATF1_ENCFF627RSK | ChIPseq | ATF1 |\n",
       "| chr1 | 817031 | 817525 | chr1 | 817206 | 817533 | . | 1000 | . |   258.40874 | -1 | 4.26233 | 141 | 319 | chr1:817031-817525 | chr1:817206-817533 | fcc_astarr_macs_input_overlap | encode_chipseq_ATF1_ENCFF627RSK | ChIPseq | ATF1 |\n",
       "| chr1 | 826796 | 828040 | chr1 | 827315 | 827649 | . | 1000 | . |   157.62140 | -1 | 3.91482 | 176 | 334 | chr1:826796-828040 | chr1:827315-827649 | fcc_astarr_macs_input_overlap | encode_chipseq_ATF1_ENCFF627RSK | ChIPseq | ATF1 |\n",
       "| chr1 | 842516 | 843431 | chr1 | 842533 | 843223 | . |  754 | . |    66.73495 | -1 | 3.71724 | 345 | 690 | chr1:842516-843431 | chr1:842533-843223 | fcc_astarr_macs_input_overlap | encode_chipseq_ATF1_ENCFF627RSK | ChIPseq | ATF1 |\n",
       "| chr1 | 869637 | 870233 | chr1 | 869692 | 870382 | . |  866 | . |    67.40187 | -1 | 3.78482 | 345 | 541 | chr1:869637-870233 | chr1:869692-870382 | fcc_astarr_macs_input_overlap | encode_chipseq_ATF1_ENCFF627RSK | ChIPseq | ATF1 |\n",
       "\n"
      ],
      "text/plain": [
       "  Chrom_A ChromStart_A ChromEnd_A Chrom_B ChromStart_B ChromEnd_B Name_B\n",
       "1 chr1    778233       779389     chr1    778198       779139     .     \n",
       "2 chr1    817031       817525     chr1    817203       817893     .     \n",
       "3 chr1    817031       817525     chr1    817206       817533     .     \n",
       "4 chr1    826796       828040     chr1    827315       827649     .     \n",
       "5 chr1    842516       843431     chr1    842533       843223     .     \n",
       "6 chr1    869637       870233     chr1    869692       870382     .     \n",
       "  Score_B Strand_B SignalValue_B PValue_B QValue_B Peak_B Overlap\n",
       "1 1000    .        10888.81006   -1       4.26233  505    906    \n",
       "2 1000    .          111.09106   -1       3.87876  345    322    \n",
       "3 1000    .          258.40874   -1       4.26233  141    319    \n",
       "4 1000    .          157.62140   -1       3.91482  176    334    \n",
       "5  754    .           66.73495   -1       3.71724  345    690    \n",
       "6  866    .           67.40187   -1       3.78482  345    541    \n",
       "  Region_A           Region_B           Annotation_A                 \n",
       "1 chr1:778233-779389 chr1:778198-779139 fcc_astarr_macs_input_overlap\n",
       "2 chr1:817031-817525 chr1:817203-817893 fcc_astarr_macs_input_overlap\n",
       "3 chr1:817031-817525 chr1:817206-817533 fcc_astarr_macs_input_overlap\n",
       "4 chr1:826796-828040 chr1:827315-827649 fcc_astarr_macs_input_overlap\n",
       "5 chr1:842516-843431 chr1:842533-843223 fcc_astarr_macs_input_overlap\n",
       "6 chr1:869637-870233 chr1:869692-870382 fcc_astarr_macs_input_overlap\n",
       "  Annotation_B                    Group_B Label_B\n",
       "1 encode_chipseq_ATF1_ENCFF627RSK ChIPseq ATF1   \n",
       "2 encode_chipseq_ATF1_ENCFF627RSK ChIPseq ATF1   \n",
       "3 encode_chipseq_ATF1_ENCFF627RSK ChIPseq ATF1   \n",
       "4 encode_chipseq_ATF1_ENCFF627RSK ChIPseq ATF1   \n",
       "5 encode_chipseq_ATF1_ENCFF627RSK ChIPseq ATF1   \n",
       "6 encode_chipseq_ATF1_ENCFF627RSK ChIPseq ATF1   "
      ]
     },
     "metadata": {},
     "output_type": "display_data"
    }
   ],
   "source": [
    "###\n",
    "txt_fname = vec_txt_fname[1]\n",
    "txt_fpath = file.path(txt_fdiry, txt_fname)\n",
    "print(txt_fname)\n",
    "\n",
    "###\n",
    "lst = str_split(txt_fname, \"\\\\.\")\n",
    "vec = lst[[1]]\n",
    "txt_annot_A = vec[1]\n",
    "txt_annot_B = vec[2]\n",
    "\n",
    "###\n",
    "vec = str_split(txt_annot_B, \"_\")[[1]]\n",
    "txt_group = \"ChIPseq\"\n",
    "txt_label = vec[3]\n",
    "\n",
    "###\n",
    "dat = read_tsv(txt_fpath, col_names = vec_txt_cname, show_col_types = FALSE)\n",
    "dat = dat %>% \n",
    "    dplyr::mutate(\n",
    "        Region_A = paste0(Chrom_A, \":\", ChromStart_A, \"-\", ChromEnd_A),\n",
    "        Region_B = paste0(Chrom_B, \":\", ChromStart_B, \"-\", ChromEnd_B),\n",
    "        Annotation_A = txt_annot_A,\n",
    "        Annotation_B = txt_annot_B,\n",
    "        Group_B      = txt_group,\n",
    "        Label_B      = txt_label\n",
    "    )\n",
    "dat_region_intersect = dat\n",
    "head(dat)"
   ]
  },
  {
   "cell_type": "code",
   "execution_count": 15,
   "id": "c6feb4ee-09c2-4b5d-8079-b4d534974f64",
   "metadata": {},
   "outputs": [
    {
     "data": {
      "text/html": [
       "<table class=\"dataframe\">\n",
       "<caption>A tibble: 6 × 10</caption>\n",
       "<thead>\n",
       "\t<tr><th scope=col>Chrom_A</th><th scope=col>ChromStart_A</th><th scope=col>ChromEnd_A</th><th scope=col>Region_A</th><th scope=col>Annotation_A</th><th scope=col>Annotation_B</th><th scope=col>Group_B</th><th scope=col>Label_B</th><th scope=col>Region_B</th><th scope=col>Count</th></tr>\n",
       "\t<tr><th scope=col>&lt;chr&gt;</th><th scope=col>&lt;dbl&gt;</th><th scope=col>&lt;dbl&gt;</th><th scope=col>&lt;chr&gt;</th><th scope=col>&lt;chr&gt;</th><th scope=col>&lt;chr&gt;</th><th scope=col>&lt;chr&gt;</th><th scope=col>&lt;chr&gt;</th><th scope=col>&lt;chr&gt;</th><th scope=col>&lt;int&gt;</th></tr>\n",
       "</thead>\n",
       "<tbody>\n",
       "\t<tr><td>chr1</td><td>778233</td><td>779389</td><td>chr1:778233-779389</td><td>fcc_astarr_macs_input_overlap</td><td>encode_chipseq_ATF1_ENCFF627RSK</td><td>ChIPseq</td><td>ATF1</td><td>chr1:778198-779139                   </td><td>1</td></tr>\n",
       "\t<tr><td>chr1</td><td>817031</td><td>817525</td><td>chr1:817031-817525</td><td>fcc_astarr_macs_input_overlap</td><td>encode_chipseq_ATF1_ENCFF627RSK</td><td>ChIPseq</td><td>ATF1</td><td>chr1:817203-817893|chr1:817206-817533</td><td>2</td></tr>\n",
       "\t<tr><td>chr1</td><td>826796</td><td>828040</td><td>chr1:826796-828040</td><td>fcc_astarr_macs_input_overlap</td><td>encode_chipseq_ATF1_ENCFF627RSK</td><td>ChIPseq</td><td>ATF1</td><td>chr1:827315-827649                   </td><td>1</td></tr>\n",
       "\t<tr><td>chr1</td><td>842516</td><td>843431</td><td>chr1:842516-843431</td><td>fcc_astarr_macs_input_overlap</td><td>encode_chipseq_ATF1_ENCFF627RSK</td><td>ChIPseq</td><td>ATF1</td><td>chr1:842533-843223                   </td><td>1</td></tr>\n",
       "\t<tr><td>chr1</td><td>869637</td><td>870233</td><td>chr1:869637-870233</td><td>fcc_astarr_macs_input_overlap</td><td>encode_chipseq_ATF1_ENCFF627RSK</td><td>ChIPseq</td><td>ATF1</td><td>chr1:869692-870382                   </td><td>1</td></tr>\n",
       "\t<tr><td>chr1</td><td>898691</td><td>899306</td><td>chr1:898691-899306</td><td>fcc_astarr_macs_input_overlap</td><td>encode_chipseq_ATF1_ENCFF627RSK</td><td>ChIPseq</td><td>ATF1</td><td>chr1:898551-899241                   </td><td>1</td></tr>\n",
       "</tbody>\n",
       "</table>\n"
      ],
      "text/latex": [
       "A tibble: 6 × 10\n",
       "\\begin{tabular}{llllllllll}\n",
       " Chrom\\_A & ChromStart\\_A & ChromEnd\\_A & Region\\_A & Annotation\\_A & Annotation\\_B & Group\\_B & Label\\_B & Region\\_B & Count\\\\\n",
       " <chr> & <dbl> & <dbl> & <chr> & <chr> & <chr> & <chr> & <chr> & <chr> & <int>\\\\\n",
       "\\hline\n",
       "\t chr1 & 778233 & 779389 & chr1:778233-779389 & fcc\\_astarr\\_macs\\_input\\_overlap & encode\\_chipseq\\_ATF1\\_ENCFF627RSK & ChIPseq & ATF1 & chr1:778198-779139                    & 1\\\\\n",
       "\t chr1 & 817031 & 817525 & chr1:817031-817525 & fcc\\_astarr\\_macs\\_input\\_overlap & encode\\_chipseq\\_ATF1\\_ENCFF627RSK & ChIPseq & ATF1 & chr1:817203-817893\\textbar{}chr1:817206-817533 & 2\\\\\n",
       "\t chr1 & 826796 & 828040 & chr1:826796-828040 & fcc\\_astarr\\_macs\\_input\\_overlap & encode\\_chipseq\\_ATF1\\_ENCFF627RSK & ChIPseq & ATF1 & chr1:827315-827649                    & 1\\\\\n",
       "\t chr1 & 842516 & 843431 & chr1:842516-843431 & fcc\\_astarr\\_macs\\_input\\_overlap & encode\\_chipseq\\_ATF1\\_ENCFF627RSK & ChIPseq & ATF1 & chr1:842533-843223                    & 1\\\\\n",
       "\t chr1 & 869637 & 870233 & chr1:869637-870233 & fcc\\_astarr\\_macs\\_input\\_overlap & encode\\_chipseq\\_ATF1\\_ENCFF627RSK & ChIPseq & ATF1 & chr1:869692-870382                    & 1\\\\\n",
       "\t chr1 & 898691 & 899306 & chr1:898691-899306 & fcc\\_astarr\\_macs\\_input\\_overlap & encode\\_chipseq\\_ATF1\\_ENCFF627RSK & ChIPseq & ATF1 & chr1:898551-899241                    & 1\\\\\n",
       "\\end{tabular}\n"
      ],
      "text/markdown": [
       "\n",
       "A tibble: 6 × 10\n",
       "\n",
       "| Chrom_A &lt;chr&gt; | ChromStart_A &lt;dbl&gt; | ChromEnd_A &lt;dbl&gt; | Region_A &lt;chr&gt; | Annotation_A &lt;chr&gt; | Annotation_B &lt;chr&gt; | Group_B &lt;chr&gt; | Label_B &lt;chr&gt; | Region_B &lt;chr&gt; | Count &lt;int&gt; |\n",
       "|---|---|---|---|---|---|---|---|---|---|\n",
       "| chr1 | 778233 | 779389 | chr1:778233-779389 | fcc_astarr_macs_input_overlap | encode_chipseq_ATF1_ENCFF627RSK | ChIPseq | ATF1 | chr1:778198-779139                    | 1 |\n",
       "| chr1 | 817031 | 817525 | chr1:817031-817525 | fcc_astarr_macs_input_overlap | encode_chipseq_ATF1_ENCFF627RSK | ChIPseq | ATF1 | chr1:817203-817893|chr1:817206-817533 | 2 |\n",
       "| chr1 | 826796 | 828040 | chr1:826796-828040 | fcc_astarr_macs_input_overlap | encode_chipseq_ATF1_ENCFF627RSK | ChIPseq | ATF1 | chr1:827315-827649                    | 1 |\n",
       "| chr1 | 842516 | 843431 | chr1:842516-843431 | fcc_astarr_macs_input_overlap | encode_chipseq_ATF1_ENCFF627RSK | ChIPseq | ATF1 | chr1:842533-843223                    | 1 |\n",
       "| chr1 | 869637 | 870233 | chr1:869637-870233 | fcc_astarr_macs_input_overlap | encode_chipseq_ATF1_ENCFF627RSK | ChIPseq | ATF1 | chr1:869692-870382                    | 1 |\n",
       "| chr1 | 898691 | 899306 | chr1:898691-899306 | fcc_astarr_macs_input_overlap | encode_chipseq_ATF1_ENCFF627RSK | ChIPseq | ATF1 | chr1:898551-899241                    | 1 |\n",
       "\n"
      ],
      "text/plain": [
       "  Chrom_A ChromStart_A ChromEnd_A Region_A          \n",
       "1 chr1    778233       779389     chr1:778233-779389\n",
       "2 chr1    817031       817525     chr1:817031-817525\n",
       "3 chr1    826796       828040     chr1:826796-828040\n",
       "4 chr1    842516       843431     chr1:842516-843431\n",
       "5 chr1    869637       870233     chr1:869637-870233\n",
       "6 chr1    898691       899306     chr1:898691-899306\n",
       "  Annotation_A                  Annotation_B                    Group_B Label_B\n",
       "1 fcc_astarr_macs_input_overlap encode_chipseq_ATF1_ENCFF627RSK ChIPseq ATF1   \n",
       "2 fcc_astarr_macs_input_overlap encode_chipseq_ATF1_ENCFF627RSK ChIPseq ATF1   \n",
       "3 fcc_astarr_macs_input_overlap encode_chipseq_ATF1_ENCFF627RSK ChIPseq ATF1   \n",
       "4 fcc_astarr_macs_input_overlap encode_chipseq_ATF1_ENCFF627RSK ChIPseq ATF1   \n",
       "5 fcc_astarr_macs_input_overlap encode_chipseq_ATF1_ENCFF627RSK ChIPseq ATF1   \n",
       "6 fcc_astarr_macs_input_overlap encode_chipseq_ATF1_ENCFF627RSK ChIPseq ATF1   \n",
       "  Region_B                              Count\n",
       "1 chr1:778198-779139                    1    \n",
       "2 chr1:817203-817893|chr1:817206-817533 2    \n",
       "3 chr1:827315-827649                    1    \n",
       "4 chr1:842533-843223                    1    \n",
       "5 chr1:869692-870382                    1    \n",
       "6 chr1:898551-899241                    1    "
      ]
     },
     "metadata": {},
     "output_type": "display_data"
    }
   ],
   "source": [
    "dat = dat_region_intersect\n",
    "\n",
    "###\n",
    "dat = dat %>%\n",
    "    dplyr::group_by(\n",
    "        Chrom_A, ChromStart_A, ChromEnd_A, Region_A,\n",
    "        Annotation_A,\n",
    "        Annotation_B,\n",
    "        Group_B, \n",
    "        Label_B\n",
    "    ) %>%\n",
    "    dplyr::summarise(\n",
    "        Region_B = paste(Region_B, collapse=\"|\"),\n",
    "        Count  = n(),\n",
    "        .groups = \"drop\") %>%\n",
    "    dplyr::arrange(Chrom_A, ChromStart_A, ChromEnd_A)\n",
    "\n",
    "head(dat)"
   ]
  },
  {
   "cell_type": "code",
   "execution_count": null,
   "id": "38548e9f-88aa-43ec-8b18-75ff88f63a00",
   "metadata": {},
   "outputs": [],
   "source": []
  },
  {
   "cell_type": "code",
   "execution_count": null,
   "id": "da916d1f-5e42-44c6-bcac-5cc3ce7af6ad",
   "metadata": {},
   "outputs": [],
   "source": []
  },
  {
   "cell_type": "code",
   "execution_count": null,
   "id": "db7ede99-a0b6-4bc7-8ebf-7298086386dd",
   "metadata": {},
   "outputs": [],
   "source": []
  },
  {
   "cell_type": "code",
   "execution_count": null,
   "id": "b53419af-ef16-4a4d-b136-824d241e1231",
   "metadata": {},
   "outputs": [],
   "source": []
  },
  {
   "cell_type": "code",
   "execution_count": null,
   "id": "e3503891-1f7f-4aba-84e9-09e98bf19b55",
   "metadata": {},
   "outputs": [],
   "source": []
  },
  {
   "cell_type": "code",
   "execution_count": 42,
   "id": "21533add-a210-4a3b-b25f-9e93decb468a",
   "metadata": {},
   "outputs": [
    {
     "data": {
      "text/html": [
       "<table class=\"dataframe\">\n",
       "<caption>A tibble: 6 × 8</caption>\n",
       "<thead>\n",
       "\t<tr><th scope=col>Chrom_A</th><th scope=col>ChromStart_A</th><th scope=col>ChromEnd_A</th><th scope=col>Region_A</th><th scope=col>Group</th><th scope=col>Label</th><th scope=col>Count</th><th scope=col>Region_B</th></tr>\n",
       "\t<tr><th scope=col>&lt;chr&gt;</th><th scope=col>&lt;dbl&gt;</th><th scope=col>&lt;dbl&gt;</th><th scope=col>&lt;chr&gt;</th><th scope=col>&lt;chr&gt;</th><th scope=col>&lt;chr&gt;</th><th scope=col>&lt;int&gt;</th><th scope=col>&lt;chr&gt;</th></tr>\n",
       "</thead>\n",
       "<tbody>\n",
       "\t<tr><td>chr1</td><td>778233</td><td>779389</td><td>chr1:778233-779389</td><td>ChIPseq</td><td>ATF1</td><td>1</td><td>chr1:778198-779139                   </td></tr>\n",
       "\t<tr><td>chr1</td><td>817031</td><td>817525</td><td>chr1:817031-817525</td><td>ChIPseq</td><td>ATF1</td><td>2</td><td>chr1:817203-817893|chr1:817206-817533</td></tr>\n",
       "\t<tr><td>chr1</td><td>826796</td><td>828040</td><td>chr1:826796-828040</td><td>ChIPseq</td><td>ATF1</td><td>1</td><td>chr1:827315-827649                   </td></tr>\n",
       "\t<tr><td>chr1</td><td>842516</td><td>843431</td><td>chr1:842516-843431</td><td>ChIPseq</td><td>ATF1</td><td>1</td><td>chr1:842533-843223                   </td></tr>\n",
       "\t<tr><td>chr1</td><td>869637</td><td>870233</td><td>chr1:869637-870233</td><td>ChIPseq</td><td>ATF1</td><td>1</td><td>chr1:869692-870382                   </td></tr>\n",
       "\t<tr><td>chr1</td><td>898691</td><td>899306</td><td>chr1:898691-899306</td><td>ChIPseq</td><td>ATF1</td><td>1</td><td>chr1:898551-899241                   </td></tr>\n",
       "</tbody>\n",
       "</table>\n"
      ],
      "text/latex": [
       "A tibble: 6 × 8\n",
       "\\begin{tabular}{llllllll}\n",
       " Chrom\\_A & ChromStart\\_A & ChromEnd\\_A & Region\\_A & Group & Label & Count & Region\\_B\\\\\n",
       " <chr> & <dbl> & <dbl> & <chr> & <chr> & <chr> & <int> & <chr>\\\\\n",
       "\\hline\n",
       "\t chr1 & 778233 & 779389 & chr1:778233-779389 & ChIPseq & ATF1 & 1 & chr1:778198-779139                   \\\\\n",
       "\t chr1 & 817031 & 817525 & chr1:817031-817525 & ChIPseq & ATF1 & 2 & chr1:817203-817893\\textbar{}chr1:817206-817533\\\\\n",
       "\t chr1 & 826796 & 828040 & chr1:826796-828040 & ChIPseq & ATF1 & 1 & chr1:827315-827649                   \\\\\n",
       "\t chr1 & 842516 & 843431 & chr1:842516-843431 & ChIPseq & ATF1 & 1 & chr1:842533-843223                   \\\\\n",
       "\t chr1 & 869637 & 870233 & chr1:869637-870233 & ChIPseq & ATF1 & 1 & chr1:869692-870382                   \\\\\n",
       "\t chr1 & 898691 & 899306 & chr1:898691-899306 & ChIPseq & ATF1 & 1 & chr1:898551-899241                   \\\\\n",
       "\\end{tabular}\n"
      ],
      "text/markdown": [
       "\n",
       "A tibble: 6 × 8\n",
       "\n",
       "| Chrom_A &lt;chr&gt; | ChromStart_A &lt;dbl&gt; | ChromEnd_A &lt;dbl&gt; | Region_A &lt;chr&gt; | Group &lt;chr&gt; | Label &lt;chr&gt; | Count &lt;int&gt; | Region_B &lt;chr&gt; |\n",
       "|---|---|---|---|---|---|---|---|\n",
       "| chr1 | 778233 | 779389 | chr1:778233-779389 | ChIPseq | ATF1 | 1 | chr1:778198-779139                    |\n",
       "| chr1 | 817031 | 817525 | chr1:817031-817525 | ChIPseq | ATF1 | 2 | chr1:817203-817893|chr1:817206-817533 |\n",
       "| chr1 | 826796 | 828040 | chr1:826796-828040 | ChIPseq | ATF1 | 1 | chr1:827315-827649                    |\n",
       "| chr1 | 842516 | 843431 | chr1:842516-843431 | ChIPseq | ATF1 | 1 | chr1:842533-843223                    |\n",
       "| chr1 | 869637 | 870233 | chr1:869637-870233 | ChIPseq | ATF1 | 1 | chr1:869692-870382                    |\n",
       "| chr1 | 898691 | 899306 | chr1:898691-899306 | ChIPseq | ATF1 | 1 | chr1:898551-899241                    |\n",
       "\n"
      ],
      "text/plain": [
       "  Chrom_A ChromStart_A ChromEnd_A Region_A           Group   Label Count\n",
       "1 chr1    778233       779389     chr1:778233-779389 ChIPseq ATF1  1    \n",
       "2 chr1    817031       817525     chr1:817031-817525 ChIPseq ATF1  2    \n",
       "3 chr1    826796       828040     chr1:826796-828040 ChIPseq ATF1  1    \n",
       "4 chr1    842516       843431     chr1:842516-843431 ChIPseq ATF1  1    \n",
       "5 chr1    869637       870233     chr1:869637-870233 ChIPseq ATF1  1    \n",
       "6 chr1    898691       899306     chr1:898691-899306 ChIPseq ATF1  1    \n",
       "  Region_B                             \n",
       "1 chr1:778198-779139                   \n",
       "2 chr1:817203-817893|chr1:817206-817533\n",
       "3 chr1:827315-827649                   \n",
       "4 chr1:842533-843223                   \n",
       "5 chr1:869692-870382                   \n",
       "6 chr1:898551-899241                   "
      ]
     },
     "metadata": {},
     "output_type": "display_data"
    }
   ],
   "source": [
    "dat = dat_region_intersect\n",
    "\n",
    "###\n",
    "lst = str_split(txt_fname, \"\\\\.\")\n",
    "vec = lst[[1]]\n",
    "txt_label_A = vec[1]\n",
    "txt_label_B = vec[2]\n",
    "\n",
    "###\n",
    "if (\"Group\" %in% vec_txt_cname_B) {\n",
    "    dat = dat %>%\n",
    "        dplyr::mutate(\n",
    "            Group = Group_B,\n",
    "            Label = Label_B\n",
    "        )\n",
    "} else {\n",
    "    dat = dat %>% \n",
    "        dplyr::mutate(\n",
    "            Fout_A = txt_label_A,\n",
    "            Fout_B = txt_label_B\n",
    "        ) %>%\n",
    "        dplyr::left_join(\n",
    "            dat_label_B, \n",
    "            by = c(\"Fout_B\"=\"Fout\")\n",
    "        )\n",
    "}\n",
    "\n",
    "###\n",
    "dat = dat %>%\n",
    "    dplyr::mutate(\n",
    "        Region_A = paste0(Chrom_A, \":\", ChromStart_A, \"-\", ChromEnd_A),\n",
    "        Region_B = paste0(Chrom_B, \":\", ChromStart_B, \"-\", ChromEnd_B)\n",
    "    ) %>%\n",
    "    dplyr::group_by(Chrom_A, ChromStart_A, ChromEnd_A, Region_A, Group, Label) %>%\n",
    "    dplyr::summarise(\n",
    "        Count  = n(), \n",
    "        Region_B = paste(Region_B, collapse=\"|\"),\n",
    "        .groups = \"drop\")\n",
    "\n",
    "head(dat)"
   ]
  },
  {
   "cell_type": "code",
   "execution_count": null,
   "id": "105d1cae-c6dd-4c5e-be30-b385ae48bf1b",
   "metadata": {},
   "outputs": [],
   "source": []
  },
  {
   "cell_type": "code",
   "execution_count": null,
   "id": "89bca1bc-b94b-4b24-a3dc-a7ec779eef4c",
   "metadata": {},
   "outputs": [],
   "source": []
  }
 ],
 "metadata": {
  "kernelspec": {
   "display_name": "R",
   "language": "R",
   "name": "ir"
  },
  "language_info": {
   "codemirror_mode": "r",
   "file_extension": ".r",
   "mimetype": "text/x-r-source",
   "name": "R",
   "pygments_lexer": "r",
   "version": "4.4.0"
  }
 },
 "nbformat": 4,
 "nbformat_minor": 5
}
