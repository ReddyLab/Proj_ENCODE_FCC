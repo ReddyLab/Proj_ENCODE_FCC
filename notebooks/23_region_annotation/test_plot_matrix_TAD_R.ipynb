{
 "cells": [
  {
   "cell_type": "code",
   "execution_count": null,
   "id": "f573d832-1f9c-4810-8262-b17ea874c775",
   "metadata": {},
   "outputs": [],
   "source": []
  },
  {
   "cell_type": "markdown",
   "id": "5068423f-5d8f-478c-937a-ba5421b90dcc",
   "metadata": {},
   "source": [
    "**Set environment**"
   ]
  },
  {
   "cell_type": "code",
   "execution_count": 1,
   "id": "af697991-39e9-4aa8-b7e1-dd4e2a3a6933",
   "metadata": {
    "tags": []
   },
   "outputs": [
    {
     "name": "stdout",
     "output_type": "stream",
     "text": [
      "You are working on        Singularity \n",
      "BASE DIRECTORY (FD_BASE): /mount \n",
      "REPO DIRECTORY (FD_REPO): /mount/repo \n",
      "WORK DIRECTORY (FD_WORK): /mount/work \n",
      "DATA DIRECTORY (FD_DATA): /mount/data \n",
      "\n",
      "You are working with      ENCODE FCC \n",
      "PATH OF PROJECT (FD_PRJ): /mount/repo/Proj_ENCODE_FCC \n",
      "PROJECT RESULTS (FD_RES): /mount/repo/Proj_ENCODE_FCC/results \n",
      "PROJECT SCRIPTS (FD_EXE): /mount/repo/Proj_ENCODE_FCC/scripts \n",
      "PROJECT DATA    (FD_DAT): /mount/repo/Proj_ENCODE_FCC/data \n",
      "PROJECT NOTE    (FD_NBK): /mount/repo/Proj_ENCODE_FCC/notebooks \n",
      "PROJECT DOCS    (FD_DOC): /mount/repo/Proj_ENCODE_FCC/docs \n",
      "PROJECT LOG     (FD_LOG): /mount/repo/Proj_ENCODE_FCC/log \n",
      "PROJECT APP     (FD_APP): /mount/repo/Proj_ENCODE_FCC/app \n",
      "PROJECT REF     (FD_REF): /mount/repo/Proj_ENCODE_FCC/references \n",
      "\n"
     ]
    }
   ],
   "source": [
    "suppressMessages(suppressWarnings(source(\"../run_config_project_sing.R\")))\n",
    "show_env()"
   ]
  },
  {
   "cell_type": "code",
   "execution_count": 2,
   "id": "ec3d8a85-fc20-4f43-8cfc-c50e0651b7a7",
   "metadata": {},
   "outputs": [
    {
     "name": "stdout",
     "output_type": "stream",
     "text": [
      "[1] \"fcc_astarr_macs_input_overlap.hic_intact_Loop_A_ENCSR479XDG.bed.gz\"\n",
      "[2] \"fcc_astarr_macs_input_overlap.hic_intact_Loop_B_ENCSR479XDG.bed.gz\"\n",
      "[3] \"fcc_astarr_macs_input_overlap.hic_intact_TAD_ENCSR479XDG.bed.gz\"   \n"
     ]
    }
   ],
   "source": [
    "txt_fdiry = file.path(\n",
    "    FD_RES, \n",
    "    \"region_annotation\", \n",
    "    \"fcc_astarr_macs_input_overlap\",\n",
    "    \"hic_intact_K562_ENCSR479XDG\"\n",
    ")\n",
    "vec = dir(txt_fdiry)\n",
    "print(vec)"
   ]
  },
  {
   "cell_type": "code",
   "execution_count": 3,
   "id": "8d3d5cc2-ee54-4074-b154-ce04d71546e3",
   "metadata": {},
   "outputs": [],
   "source": [
    "txt_region_folder_A = \"fcc_astarr_macs\"\n",
    "txt_region_folder_B = \"hic_intact_K562_ENCSR479XDG\"\n",
    "\n",
    "txt_fdiry = file.path(FD_RES, \"region\", txt_region_folder_A, \"summary\")\n",
    "txt_fname = \"description.tsv\"\n",
    "txt_fpath = file.path(txt_fdiry, txt_fname)\n",
    "dat_cname = read_tsv(txt_fpath, show_col_types = FALSE)\n",
    "vec_txt_cname_A = dat_cname$Name\n",
    "\n",
    "txt_fdiry = file.path(FD_RES, \"region\", txt_region_folder_B, \"summary\")\n",
    "txt_fname = \"description.tsv\"\n",
    "txt_fpath = file.path(txt_fdiry, txt_fname)\n",
    "dat_cname = read_tsv(txt_fpath, show_col_types = FALSE)\n",
    "vec_txt_cname_B = dat_cname$Name\n",
    "\n",
    "vec_txt_cname = c(\n",
    "    paste0(vec_txt_cname_A, \"_A\"),\n",
    "    paste0(vec_txt_cname_B, \"_B\"),\n",
    "    \"Overlap\"\n",
    ")"
   ]
  },
  {
   "cell_type": "code",
   "execution_count": 4,
   "id": "36875060-1e27-4faf-8efb-677d0a59f65a",
   "metadata": {},
   "outputs": [
    {
     "name": "stderr",
     "output_type": "stream",
     "text": [
      "\u001b[1mRows: \u001b[22m\u001b[34m66886\u001b[39m \u001b[1mColumns: \u001b[22m\u001b[34m10\u001b[39m\n",
      "\u001b[36m──\u001b[39m \u001b[1mColumn specification\u001b[22m \u001b[36m───────────────────────────────────────────────────────────────\u001b[39m\n",
      "\u001b[1mDelimiter:\u001b[22m \"\\t\"\n",
      "\u001b[31mchr\u001b[39m (5): Chrom_A, Chrom_B, Name_B, Group_B, Label_B\n",
      "\u001b[32mdbl\u001b[39m (5): ChromStart_A, ChromEnd_A, ChromStart_B, ChromEnd_B, Overlap\n",
      "\n",
      "\u001b[36mℹ\u001b[39m Use `spec()` to retrieve the full column specification for this data.\n",
      "\u001b[36mℹ\u001b[39m Specify the column types or set `show_col_types = FALSE` to quiet this message.\n"
     ]
    },
    {
     "name": "stdout",
     "output_type": "stream",
     "text": [
      "[1] 66886    10\n"
     ]
    },
    {
     "data": {
      "text/html": [
       "<table class=\"dataframe\">\n",
       "<caption>A tibble: 6 × 10</caption>\n",
       "<thead>\n",
       "\t<tr><th scope=col>Chrom_A</th><th scope=col>ChromStart_A</th><th scope=col>ChromEnd_A</th><th scope=col>Chrom_B</th><th scope=col>ChromStart_B</th><th scope=col>ChromEnd_B</th><th scope=col>Name_B</th><th scope=col>Group_B</th><th scope=col>Label_B</th><th scope=col>Overlap</th></tr>\n",
       "\t<tr><th scope=col>&lt;chr&gt;</th><th scope=col>&lt;dbl&gt;</th><th scope=col>&lt;dbl&gt;</th><th scope=col>&lt;chr&gt;</th><th scope=col>&lt;dbl&gt;</th><th scope=col>&lt;dbl&gt;</th><th scope=col>&lt;chr&gt;</th><th scope=col>&lt;chr&gt;</th><th scope=col>&lt;chr&gt;</th><th scope=col>&lt;dbl&gt;</th></tr>\n",
       "</thead>\n",
       "<tbody>\n",
       "\t<tr><td>chr1</td><td>1121812</td><td>1122517</td><td>chr1</td><td>1120000</td><td>1240000</td><td>chr1:1120000-1240000</td><td>hic_intact</td><td>TAD</td><td>705</td></tr>\n",
       "\t<tr><td>chr1</td><td>1123051</td><td>1123418</td><td>chr1</td><td>1120000</td><td>1240000</td><td>chr1:1120000-1240000</td><td>hic_intact</td><td>TAD</td><td>367</td></tr>\n",
       "\t<tr><td>chr1</td><td>1124365</td><td>1124875</td><td>chr1</td><td>1120000</td><td>1240000</td><td>chr1:1120000-1240000</td><td>hic_intact</td><td>TAD</td><td>510</td></tr>\n",
       "\t<tr><td>chr1</td><td>1125359</td><td>1125597</td><td>chr1</td><td>1120000</td><td>1240000</td><td>chr1:1120000-1240000</td><td>hic_intact</td><td>TAD</td><td>238</td></tr>\n",
       "\t<tr><td>chr1</td><td>1127573</td><td>1128245</td><td>chr1</td><td>1120000</td><td>1240000</td><td>chr1:1120000-1240000</td><td>hic_intact</td><td>TAD</td><td>672</td></tr>\n",
       "\t<tr><td>chr1</td><td>1128708</td><td>1128988</td><td>chr1</td><td>1120000</td><td>1240000</td><td>chr1:1120000-1240000</td><td>hic_intact</td><td>TAD</td><td>280</td></tr>\n",
       "</tbody>\n",
       "</table>\n"
      ],
      "text/latex": [
       "A tibble: 6 × 10\n",
       "\\begin{tabular}{llllllllll}\n",
       " Chrom\\_A & ChromStart\\_A & ChromEnd\\_A & Chrom\\_B & ChromStart\\_B & ChromEnd\\_B & Name\\_B & Group\\_B & Label\\_B & Overlap\\\\\n",
       " <chr> & <dbl> & <dbl> & <chr> & <dbl> & <dbl> & <chr> & <chr> & <chr> & <dbl>\\\\\n",
       "\\hline\n",
       "\t chr1 & 1121812 & 1122517 & chr1 & 1120000 & 1240000 & chr1:1120000-1240000 & hic\\_intact & TAD & 705\\\\\n",
       "\t chr1 & 1123051 & 1123418 & chr1 & 1120000 & 1240000 & chr1:1120000-1240000 & hic\\_intact & TAD & 367\\\\\n",
       "\t chr1 & 1124365 & 1124875 & chr1 & 1120000 & 1240000 & chr1:1120000-1240000 & hic\\_intact & TAD & 510\\\\\n",
       "\t chr1 & 1125359 & 1125597 & chr1 & 1120000 & 1240000 & chr1:1120000-1240000 & hic\\_intact & TAD & 238\\\\\n",
       "\t chr1 & 1127573 & 1128245 & chr1 & 1120000 & 1240000 & chr1:1120000-1240000 & hic\\_intact & TAD & 672\\\\\n",
       "\t chr1 & 1128708 & 1128988 & chr1 & 1120000 & 1240000 & chr1:1120000-1240000 & hic\\_intact & TAD & 280\\\\\n",
       "\\end{tabular}\n"
      ],
      "text/markdown": [
       "\n",
       "A tibble: 6 × 10\n",
       "\n",
       "| Chrom_A &lt;chr&gt; | ChromStart_A &lt;dbl&gt; | ChromEnd_A &lt;dbl&gt; | Chrom_B &lt;chr&gt; | ChromStart_B &lt;dbl&gt; | ChromEnd_B &lt;dbl&gt; | Name_B &lt;chr&gt; | Group_B &lt;chr&gt; | Label_B &lt;chr&gt; | Overlap &lt;dbl&gt; |\n",
       "|---|---|---|---|---|---|---|---|---|---|\n",
       "| chr1 | 1121812 | 1122517 | chr1 | 1120000 | 1240000 | chr1:1120000-1240000 | hic_intact | TAD | 705 |\n",
       "| chr1 | 1123051 | 1123418 | chr1 | 1120000 | 1240000 | chr1:1120000-1240000 | hic_intact | TAD | 367 |\n",
       "| chr1 | 1124365 | 1124875 | chr1 | 1120000 | 1240000 | chr1:1120000-1240000 | hic_intact | TAD | 510 |\n",
       "| chr1 | 1125359 | 1125597 | chr1 | 1120000 | 1240000 | chr1:1120000-1240000 | hic_intact | TAD | 238 |\n",
       "| chr1 | 1127573 | 1128245 | chr1 | 1120000 | 1240000 | chr1:1120000-1240000 | hic_intact | TAD | 672 |\n",
       "| chr1 | 1128708 | 1128988 | chr1 | 1120000 | 1240000 | chr1:1120000-1240000 | hic_intact | TAD | 280 |\n",
       "\n"
      ],
      "text/plain": [
       "  Chrom_A ChromStart_A ChromEnd_A Chrom_B ChromStart_B ChromEnd_B\n",
       "1 chr1    1121812      1122517    chr1    1120000      1240000   \n",
       "2 chr1    1123051      1123418    chr1    1120000      1240000   \n",
       "3 chr1    1124365      1124875    chr1    1120000      1240000   \n",
       "4 chr1    1125359      1125597    chr1    1120000      1240000   \n",
       "5 chr1    1127573      1128245    chr1    1120000      1240000   \n",
       "6 chr1    1128708      1128988    chr1    1120000      1240000   \n",
       "  Name_B               Group_B    Label_B Overlap\n",
       "1 chr1:1120000-1240000 hic_intact TAD     705    \n",
       "2 chr1:1120000-1240000 hic_intact TAD     367    \n",
       "3 chr1:1120000-1240000 hic_intact TAD     510    \n",
       "4 chr1:1120000-1240000 hic_intact TAD     238    \n",
       "5 chr1:1120000-1240000 hic_intact TAD     672    \n",
       "6 chr1:1120000-1240000 hic_intact TAD     280    "
      ]
     },
     "metadata": {},
     "output_type": "display_data"
    }
   ],
   "source": [
    "txt_fdiry = file.path(\n",
    "    FD_RES, \n",
    "    \"region_annotation\", \n",
    "    \"fcc_astarr_macs_input_overlap\",\n",
    "    \"hic_intact_K562_ENCSR479XDG\"\n",
    ")\n",
    "txt_fname = \"fcc_astarr_macs_input_overlap.hic_intact_TAD_ENCSR479XDG.bed.gz\"\n",
    "txt_fpath = file.path(txt_fdiry, txt_fname)\n",
    "\n",
    "dat = read_tsv(txt_fpath, col_names = vec_txt_cname)\n",
    "dat_region_import = dat\n",
    "print(dim(dat))\n",
    "head(dat)"
   ]
  },
  {
   "cell_type": "code",
   "execution_count": 5,
   "id": "c4341b1b-7acf-4417-a98c-59df494f88bc",
   "metadata": {},
   "outputs": [
    {
     "name": "stdout",
     "output_type": "stream",
     "text": [
      "[1] 66886    14\n"
     ]
    },
    {
     "data": {
      "text/html": [
       "<table class=\"dataframe\">\n",
       "<caption>A tibble: 6 × 14</caption>\n",
       "<thead>\n",
       "\t<tr><th scope=col>Chrom_A</th><th scope=col>ChromStart_A</th><th scope=col>ChromEnd_A</th><th scope=col>Chrom_B</th><th scope=col>ChromStart_B</th><th scope=col>ChromEnd_B</th><th scope=col>Name_B</th><th scope=col>Group_B</th><th scope=col>Label_B</th><th scope=col>Overlap</th><th scope=col>Region_A</th><th scope=col>Region_B</th><th scope=col>Annotation_A</th><th scope=col>Annotation_B</th></tr>\n",
       "\t<tr><th scope=col>&lt;chr&gt;</th><th scope=col>&lt;dbl&gt;</th><th scope=col>&lt;dbl&gt;</th><th scope=col>&lt;chr&gt;</th><th scope=col>&lt;dbl&gt;</th><th scope=col>&lt;dbl&gt;</th><th scope=col>&lt;chr&gt;</th><th scope=col>&lt;chr&gt;</th><th scope=col>&lt;chr&gt;</th><th scope=col>&lt;dbl&gt;</th><th scope=col>&lt;chr&gt;</th><th scope=col>&lt;chr&gt;</th><th scope=col>&lt;chr&gt;</th><th scope=col>&lt;chr&gt;</th></tr>\n",
       "</thead>\n",
       "<tbody>\n",
       "\t<tr><td>chr1</td><td>1121812</td><td>1122517</td><td>chr1</td><td>1120000</td><td>1240000</td><td>chr1:1120000-1240000</td><td>hic_intact</td><td>TAD</td><td>705</td><td>chr1:1121812-1122517</td><td>chr1:1120000-1240000</td><td>fcc_astarr_macs_input_overlap</td><td>hic_intact_TAD_ENCSR479XDG</td></tr>\n",
       "\t<tr><td>chr1</td><td>1123051</td><td>1123418</td><td>chr1</td><td>1120000</td><td>1240000</td><td>chr1:1120000-1240000</td><td>hic_intact</td><td>TAD</td><td>367</td><td>chr1:1123051-1123418</td><td>chr1:1120000-1240000</td><td>fcc_astarr_macs_input_overlap</td><td>hic_intact_TAD_ENCSR479XDG</td></tr>\n",
       "\t<tr><td>chr1</td><td>1124365</td><td>1124875</td><td>chr1</td><td>1120000</td><td>1240000</td><td>chr1:1120000-1240000</td><td>hic_intact</td><td>TAD</td><td>510</td><td>chr1:1124365-1124875</td><td>chr1:1120000-1240000</td><td>fcc_astarr_macs_input_overlap</td><td>hic_intact_TAD_ENCSR479XDG</td></tr>\n",
       "\t<tr><td>chr1</td><td>1125359</td><td>1125597</td><td>chr1</td><td>1120000</td><td>1240000</td><td>chr1:1120000-1240000</td><td>hic_intact</td><td>TAD</td><td>238</td><td>chr1:1125359-1125597</td><td>chr1:1120000-1240000</td><td>fcc_astarr_macs_input_overlap</td><td>hic_intact_TAD_ENCSR479XDG</td></tr>\n",
       "\t<tr><td>chr1</td><td>1127573</td><td>1128245</td><td>chr1</td><td>1120000</td><td>1240000</td><td>chr1:1120000-1240000</td><td>hic_intact</td><td>TAD</td><td>672</td><td>chr1:1127573-1128245</td><td>chr1:1120000-1240000</td><td>fcc_astarr_macs_input_overlap</td><td>hic_intact_TAD_ENCSR479XDG</td></tr>\n",
       "\t<tr><td>chr1</td><td>1128708</td><td>1128988</td><td>chr1</td><td>1120000</td><td>1240000</td><td>chr1:1120000-1240000</td><td>hic_intact</td><td>TAD</td><td>280</td><td>chr1:1128708-1128988</td><td>chr1:1120000-1240000</td><td>fcc_astarr_macs_input_overlap</td><td>hic_intact_TAD_ENCSR479XDG</td></tr>\n",
       "</tbody>\n",
       "</table>\n"
      ],
      "text/latex": [
       "A tibble: 6 × 14\n",
       "\\begin{tabular}{llllllllllllll}\n",
       " Chrom\\_A & ChromStart\\_A & ChromEnd\\_A & Chrom\\_B & ChromStart\\_B & ChromEnd\\_B & Name\\_B & Group\\_B & Label\\_B & Overlap & Region\\_A & Region\\_B & Annotation\\_A & Annotation\\_B\\\\\n",
       " <chr> & <dbl> & <dbl> & <chr> & <dbl> & <dbl> & <chr> & <chr> & <chr> & <dbl> & <chr> & <chr> & <chr> & <chr>\\\\\n",
       "\\hline\n",
       "\t chr1 & 1121812 & 1122517 & chr1 & 1120000 & 1240000 & chr1:1120000-1240000 & hic\\_intact & TAD & 705 & chr1:1121812-1122517 & chr1:1120000-1240000 & fcc\\_astarr\\_macs\\_input\\_overlap & hic\\_intact\\_TAD\\_ENCSR479XDG\\\\\n",
       "\t chr1 & 1123051 & 1123418 & chr1 & 1120000 & 1240000 & chr1:1120000-1240000 & hic\\_intact & TAD & 367 & chr1:1123051-1123418 & chr1:1120000-1240000 & fcc\\_astarr\\_macs\\_input\\_overlap & hic\\_intact\\_TAD\\_ENCSR479XDG\\\\\n",
       "\t chr1 & 1124365 & 1124875 & chr1 & 1120000 & 1240000 & chr1:1120000-1240000 & hic\\_intact & TAD & 510 & chr1:1124365-1124875 & chr1:1120000-1240000 & fcc\\_astarr\\_macs\\_input\\_overlap & hic\\_intact\\_TAD\\_ENCSR479XDG\\\\\n",
       "\t chr1 & 1125359 & 1125597 & chr1 & 1120000 & 1240000 & chr1:1120000-1240000 & hic\\_intact & TAD & 238 & chr1:1125359-1125597 & chr1:1120000-1240000 & fcc\\_astarr\\_macs\\_input\\_overlap & hic\\_intact\\_TAD\\_ENCSR479XDG\\\\\n",
       "\t chr1 & 1127573 & 1128245 & chr1 & 1120000 & 1240000 & chr1:1120000-1240000 & hic\\_intact & TAD & 672 & chr1:1127573-1128245 & chr1:1120000-1240000 & fcc\\_astarr\\_macs\\_input\\_overlap & hic\\_intact\\_TAD\\_ENCSR479XDG\\\\\n",
       "\t chr1 & 1128708 & 1128988 & chr1 & 1120000 & 1240000 & chr1:1120000-1240000 & hic\\_intact & TAD & 280 & chr1:1128708-1128988 & chr1:1120000-1240000 & fcc\\_astarr\\_macs\\_input\\_overlap & hic\\_intact\\_TAD\\_ENCSR479XDG\\\\\n",
       "\\end{tabular}\n"
      ],
      "text/markdown": [
       "\n",
       "A tibble: 6 × 14\n",
       "\n",
       "| Chrom_A &lt;chr&gt; | ChromStart_A &lt;dbl&gt; | ChromEnd_A &lt;dbl&gt; | Chrom_B &lt;chr&gt; | ChromStart_B &lt;dbl&gt; | ChromEnd_B &lt;dbl&gt; | Name_B &lt;chr&gt; | Group_B &lt;chr&gt; | Label_B &lt;chr&gt; | Overlap &lt;dbl&gt; | Region_A &lt;chr&gt; | Region_B &lt;chr&gt; | Annotation_A &lt;chr&gt; | Annotation_B &lt;chr&gt; |\n",
       "|---|---|---|---|---|---|---|---|---|---|---|---|---|---|\n",
       "| chr1 | 1121812 | 1122517 | chr1 | 1120000 | 1240000 | chr1:1120000-1240000 | hic_intact | TAD | 705 | chr1:1121812-1122517 | chr1:1120000-1240000 | fcc_astarr_macs_input_overlap | hic_intact_TAD_ENCSR479XDG |\n",
       "| chr1 | 1123051 | 1123418 | chr1 | 1120000 | 1240000 | chr1:1120000-1240000 | hic_intact | TAD | 367 | chr1:1123051-1123418 | chr1:1120000-1240000 | fcc_astarr_macs_input_overlap | hic_intact_TAD_ENCSR479XDG |\n",
       "| chr1 | 1124365 | 1124875 | chr1 | 1120000 | 1240000 | chr1:1120000-1240000 | hic_intact | TAD | 510 | chr1:1124365-1124875 | chr1:1120000-1240000 | fcc_astarr_macs_input_overlap | hic_intact_TAD_ENCSR479XDG |\n",
       "| chr1 | 1125359 | 1125597 | chr1 | 1120000 | 1240000 | chr1:1120000-1240000 | hic_intact | TAD | 238 | chr1:1125359-1125597 | chr1:1120000-1240000 | fcc_astarr_macs_input_overlap | hic_intact_TAD_ENCSR479XDG |\n",
       "| chr1 | 1127573 | 1128245 | chr1 | 1120000 | 1240000 | chr1:1120000-1240000 | hic_intact | TAD | 672 | chr1:1127573-1128245 | chr1:1120000-1240000 | fcc_astarr_macs_input_overlap | hic_intact_TAD_ENCSR479XDG |\n",
       "| chr1 | 1128708 | 1128988 | chr1 | 1120000 | 1240000 | chr1:1120000-1240000 | hic_intact | TAD | 280 | chr1:1128708-1128988 | chr1:1120000-1240000 | fcc_astarr_macs_input_overlap | hic_intact_TAD_ENCSR479XDG |\n",
       "\n"
      ],
      "text/plain": [
       "  Chrom_A ChromStart_A ChromEnd_A Chrom_B ChromStart_B ChromEnd_B\n",
       "1 chr1    1121812      1122517    chr1    1120000      1240000   \n",
       "2 chr1    1123051      1123418    chr1    1120000      1240000   \n",
       "3 chr1    1124365      1124875    chr1    1120000      1240000   \n",
       "4 chr1    1125359      1125597    chr1    1120000      1240000   \n",
       "5 chr1    1127573      1128245    chr1    1120000      1240000   \n",
       "6 chr1    1128708      1128988    chr1    1120000      1240000   \n",
       "  Name_B               Group_B    Label_B Overlap Region_A            \n",
       "1 chr1:1120000-1240000 hic_intact TAD     705     chr1:1121812-1122517\n",
       "2 chr1:1120000-1240000 hic_intact TAD     367     chr1:1123051-1123418\n",
       "3 chr1:1120000-1240000 hic_intact TAD     510     chr1:1124365-1124875\n",
       "4 chr1:1120000-1240000 hic_intact TAD     238     chr1:1125359-1125597\n",
       "5 chr1:1120000-1240000 hic_intact TAD     672     chr1:1127573-1128245\n",
       "6 chr1:1120000-1240000 hic_intact TAD     280     chr1:1128708-1128988\n",
       "  Region_B             Annotation_A                  Annotation_B              \n",
       "1 chr1:1120000-1240000 fcc_astarr_macs_input_overlap hic_intact_TAD_ENCSR479XDG\n",
       "2 chr1:1120000-1240000 fcc_astarr_macs_input_overlap hic_intact_TAD_ENCSR479XDG\n",
       "3 chr1:1120000-1240000 fcc_astarr_macs_input_overlap hic_intact_TAD_ENCSR479XDG\n",
       "4 chr1:1120000-1240000 fcc_astarr_macs_input_overlap hic_intact_TAD_ENCSR479XDG\n",
       "5 chr1:1120000-1240000 fcc_astarr_macs_input_overlap hic_intact_TAD_ENCSR479XDG\n",
       "6 chr1:1120000-1240000 fcc_astarr_macs_input_overlap hic_intact_TAD_ENCSR479XDG"
      ]
     },
     "metadata": {},
     "output_type": "display_data"
    }
   ],
   "source": [
    "###\n",
    "dat = dat_region_import\n",
    "\n",
    "###\n",
    "vec = str_split(txt_fname, \"\\\\.\")[[1]]\n",
    "txt_annot_A = vec[1]\n",
    "txt_annot_B = vec[2]\n",
    "\n",
    "###\n",
    "dat = dat %>% \n",
    "    dplyr::mutate(\n",
    "        Region_A = paste0(Chrom_A, \":\", ChromStart_A, \"-\", ChromEnd_A),\n",
    "        Region_B = paste0(Chrom_B, \":\", ChromStart_B, \"-\", ChromEnd_B),\n",
    "        Annotation_A = txt_annot_A,\n",
    "        Annotation_B = txt_annot_B\n",
    "    )\n",
    "dat_region_arrange = dat\n",
    "print(dim(dat))\n",
    "head(dat)"
   ]
  },
  {
   "cell_type": "code",
   "execution_count": 6,
   "id": "e7376e31-a84f-4f88-89e0-46c9d0d53af3",
   "metadata": {},
   "outputs": [
    {
     "name": "stdout",
     "output_type": "stream",
     "text": [
      "[1] 66886     8\n"
     ]
    },
    {
     "data": {
      "text/html": [
       "<table class=\"dataframe\">\n",
       "<caption>A tibble: 6 × 8</caption>\n",
       "<thead>\n",
       "\t<tr><th scope=col>Chrom_A</th><th scope=col>ChromStart_A</th><th scope=col>ChromEnd_A</th><th scope=col>Chrom_B</th><th scope=col>ChromStart_B</th><th scope=col>ChromEnd_B</th><th scope=col>Region_A</th><th scope=col>Region_B</th></tr>\n",
       "\t<tr><th scope=col>&lt;chr&gt;</th><th scope=col>&lt;dbl&gt;</th><th scope=col>&lt;dbl&gt;</th><th scope=col>&lt;chr&gt;</th><th scope=col>&lt;dbl&gt;</th><th scope=col>&lt;dbl&gt;</th><th scope=col>&lt;chr&gt;</th><th scope=col>&lt;chr&gt;</th></tr>\n",
       "</thead>\n",
       "<tbody>\n",
       "\t<tr><td>chr1</td><td>1121812</td><td>1122517</td><td>chr1</td><td>1120000</td><td>1240000</td><td>chr1:1121812-1122517</td><td>chr1:1120000-1240000</td></tr>\n",
       "\t<tr><td>chr1</td><td>1123051</td><td>1123418</td><td>chr1</td><td>1120000</td><td>1240000</td><td>chr1:1123051-1123418</td><td>chr1:1120000-1240000</td></tr>\n",
       "\t<tr><td>chr1</td><td>1124365</td><td>1124875</td><td>chr1</td><td>1120000</td><td>1240000</td><td>chr1:1124365-1124875</td><td>chr1:1120000-1240000</td></tr>\n",
       "\t<tr><td>chr1</td><td>1125359</td><td>1125597</td><td>chr1</td><td>1120000</td><td>1240000</td><td>chr1:1125359-1125597</td><td>chr1:1120000-1240000</td></tr>\n",
       "\t<tr><td>chr1</td><td>1127573</td><td>1128245</td><td>chr1</td><td>1120000</td><td>1240000</td><td>chr1:1127573-1128245</td><td>chr1:1120000-1240000</td></tr>\n",
       "\t<tr><td>chr1</td><td>1128708</td><td>1128988</td><td>chr1</td><td>1120000</td><td>1240000</td><td>chr1:1128708-1128988</td><td>chr1:1120000-1240000</td></tr>\n",
       "</tbody>\n",
       "</table>\n"
      ],
      "text/latex": [
       "A tibble: 6 × 8\n",
       "\\begin{tabular}{llllllll}\n",
       " Chrom\\_A & ChromStart\\_A & ChromEnd\\_A & Chrom\\_B & ChromStart\\_B & ChromEnd\\_B & Region\\_A & Region\\_B\\\\\n",
       " <chr> & <dbl> & <dbl> & <chr> & <dbl> & <dbl> & <chr> & <chr>\\\\\n",
       "\\hline\n",
       "\t chr1 & 1121812 & 1122517 & chr1 & 1120000 & 1240000 & chr1:1121812-1122517 & chr1:1120000-1240000\\\\\n",
       "\t chr1 & 1123051 & 1123418 & chr1 & 1120000 & 1240000 & chr1:1123051-1123418 & chr1:1120000-1240000\\\\\n",
       "\t chr1 & 1124365 & 1124875 & chr1 & 1120000 & 1240000 & chr1:1124365-1124875 & chr1:1120000-1240000\\\\\n",
       "\t chr1 & 1125359 & 1125597 & chr1 & 1120000 & 1240000 & chr1:1125359-1125597 & chr1:1120000-1240000\\\\\n",
       "\t chr1 & 1127573 & 1128245 & chr1 & 1120000 & 1240000 & chr1:1127573-1128245 & chr1:1120000-1240000\\\\\n",
       "\t chr1 & 1128708 & 1128988 & chr1 & 1120000 & 1240000 & chr1:1128708-1128988 & chr1:1120000-1240000\\\\\n",
       "\\end{tabular}\n"
      ],
      "text/markdown": [
       "\n",
       "A tibble: 6 × 8\n",
       "\n",
       "| Chrom_A &lt;chr&gt; | ChromStart_A &lt;dbl&gt; | ChromEnd_A &lt;dbl&gt; | Chrom_B &lt;chr&gt; | ChromStart_B &lt;dbl&gt; | ChromEnd_B &lt;dbl&gt; | Region_A &lt;chr&gt; | Region_B &lt;chr&gt; |\n",
       "|---|---|---|---|---|---|---|---|\n",
       "| chr1 | 1121812 | 1122517 | chr1 | 1120000 | 1240000 | chr1:1121812-1122517 | chr1:1120000-1240000 |\n",
       "| chr1 | 1123051 | 1123418 | chr1 | 1120000 | 1240000 | chr1:1123051-1123418 | chr1:1120000-1240000 |\n",
       "| chr1 | 1124365 | 1124875 | chr1 | 1120000 | 1240000 | chr1:1124365-1124875 | chr1:1120000-1240000 |\n",
       "| chr1 | 1125359 | 1125597 | chr1 | 1120000 | 1240000 | chr1:1125359-1125597 | chr1:1120000-1240000 |\n",
       "| chr1 | 1127573 | 1128245 | chr1 | 1120000 | 1240000 | chr1:1127573-1128245 | chr1:1120000-1240000 |\n",
       "| chr1 | 1128708 | 1128988 | chr1 | 1120000 | 1240000 | chr1:1128708-1128988 | chr1:1120000-1240000 |\n",
       "\n"
      ],
      "text/plain": [
       "  Chrom_A ChromStart_A ChromEnd_A Chrom_B ChromStart_B ChromEnd_B\n",
       "1 chr1    1121812      1122517    chr1    1120000      1240000   \n",
       "2 chr1    1123051      1123418    chr1    1120000      1240000   \n",
       "3 chr1    1124365      1124875    chr1    1120000      1240000   \n",
       "4 chr1    1125359      1125597    chr1    1120000      1240000   \n",
       "5 chr1    1127573      1128245    chr1    1120000      1240000   \n",
       "6 chr1    1128708      1128988    chr1    1120000      1240000   \n",
       "  Region_A             Region_B            \n",
       "1 chr1:1121812-1122517 chr1:1120000-1240000\n",
       "2 chr1:1123051-1123418 chr1:1120000-1240000\n",
       "3 chr1:1124365-1124875 chr1:1120000-1240000\n",
       "4 chr1:1125359-1125597 chr1:1120000-1240000\n",
       "5 chr1:1127573-1128245 chr1:1120000-1240000\n",
       "6 chr1:1128708-1128988 chr1:1120000-1240000"
      ]
     },
     "metadata": {},
     "output_type": "display_data"
    }
   ],
   "source": [
    "dat = dat_region_arrange\n",
    "dat = dat %>% \n",
    "    dplyr::select(\n",
    "        Chrom_A, ChromStart_A, ChromEnd_A, \n",
    "        Chrom_B, ChromStart_B, ChromEnd_B, \n",
    "        Region_A, Region_B) %>% \n",
    "    dplyr::distinct()\n",
    "\n",
    "dat_region_simplify = dat\n",
    "print(dim(dat))\n",
    "head(dat)"
   ]
  },
  {
   "cell_type": "code",
   "execution_count": 7,
   "id": "db431403-3940-4986-b783-f81d1d1abfa5",
   "metadata": {},
   "outputs": [
    {
     "data": {
      "text/html": [
       "4320"
      ],
      "text/latex": [
       "4320"
      ],
      "text/markdown": [
       "4320"
      ],
      "text/plain": [
       "[1] 4320"
      ]
     },
     "metadata": {},
     "output_type": "display_data"
    }
   ],
   "source": [
    "dat = dat_region_simplify\n",
    "length(unique(dat$Region_B))"
   ]
  },
  {
   "cell_type": "code",
   "execution_count": 8,
   "id": "433894db-4223-4927-bc59-0fadf6fdddc3",
   "metadata": {},
   "outputs": [],
   "source": [
    "dat = dat_region_simplify\n",
    "dat = dat %>% \n",
    "    dplyr::filter(Chrom_A == \"chrX\") %>% \n",
    "    dplyr::mutate(Value = 1) %>%\n",
    "    dplyr::distinct() \n",
    "dat = dat %>%\n",
    "    dplyr::arrange(Chrom_B, ChromStart_B, ChromEnd_B)\n",
    "vec = unique(dat$Region_B)\n",
    "dat = dat %>% dplyr::mutate(Region_B = factor(Region_B, levels=vec))\n",
    "\n",
    "dat = dat %>%\n",
    "    dplyr::arrange(Chrom_A, ChromStart_A, ChromEnd_A)\n",
    "vec = unique(dat$Region_A)\n",
    "dat = dat %>% dplyr::mutate(Region_A = factor(Region_A, levels=rev(vec)))"
   ]
  },
  {
   "cell_type": "code",
   "execution_count": 9,
   "id": "70e6a36a-b52a-4db2-9adf-df2a1cc36b1f",
   "metadata": {},
   "outputs": [
    {
     "name": "stdout",
     "output_type": "stream",
     "text": [
      "[1] 860   9\n"
     ]
    },
    {
     "data": {
      "text/html": [
       "<table class=\"dataframe\">\n",
       "<caption>A tibble: 3 × 9</caption>\n",
       "<thead>\n",
       "\t<tr><th scope=col>Chrom_A</th><th scope=col>ChromStart_A</th><th scope=col>ChromEnd_A</th><th scope=col>Chrom_B</th><th scope=col>ChromStart_B</th><th scope=col>ChromEnd_B</th><th scope=col>Region_A</th><th scope=col>Region_B</th><th scope=col>Value</th></tr>\n",
       "\t<tr><th scope=col>&lt;chr&gt;</th><th scope=col>&lt;dbl&gt;</th><th scope=col>&lt;dbl&gt;</th><th scope=col>&lt;chr&gt;</th><th scope=col>&lt;dbl&gt;</th><th scope=col>&lt;dbl&gt;</th><th scope=col>&lt;fct&gt;</th><th scope=col>&lt;fct&gt;</th><th scope=col>&lt;dbl&gt;</th></tr>\n",
       "</thead>\n",
       "<tbody>\n",
       "\t<tr><td>chrX</td><td> 8782989</td><td> 8783613</td><td>chrX</td><td> 8740000</td><td> 8815000</td><td>chrX:8782989-8783613  </td><td>chrX:8740000-8815000</td><td>1</td></tr>\n",
       "\t<tr><td>chrX</td><td>10014495</td><td>10015522</td><td>chrX</td><td>10000000</td><td>10090000</td><td>chrX:10014495-10015522</td><td>chrX:1e+07-10090000 </td><td>1</td></tr>\n",
       "\t<tr><td>chrX</td><td>10047058</td><td>10047541</td><td>chrX</td><td>10000000</td><td>10090000</td><td>chrX:10047058-10047541</td><td>chrX:1e+07-10090000 </td><td>1</td></tr>\n",
       "</tbody>\n",
       "</table>\n"
      ],
      "text/latex": [
       "A tibble: 3 × 9\n",
       "\\begin{tabular}{lllllllll}\n",
       " Chrom\\_A & ChromStart\\_A & ChromEnd\\_A & Chrom\\_B & ChromStart\\_B & ChromEnd\\_B & Region\\_A & Region\\_B & Value\\\\\n",
       " <chr> & <dbl> & <dbl> & <chr> & <dbl> & <dbl> & <fct> & <fct> & <dbl>\\\\\n",
       "\\hline\n",
       "\t chrX &  8782989 &  8783613 & chrX &  8740000 &  8815000 & chrX:8782989-8783613   & chrX:8740000-8815000 & 1\\\\\n",
       "\t chrX & 10014495 & 10015522 & chrX & 10000000 & 10090000 & chrX:10014495-10015522 & chrX:1e+07-10090000  & 1\\\\\n",
       "\t chrX & 10047058 & 10047541 & chrX & 10000000 & 10090000 & chrX:10047058-10047541 & chrX:1e+07-10090000  & 1\\\\\n",
       "\\end{tabular}\n"
      ],
      "text/markdown": [
       "\n",
       "A tibble: 3 × 9\n",
       "\n",
       "| Chrom_A &lt;chr&gt; | ChromStart_A &lt;dbl&gt; | ChromEnd_A &lt;dbl&gt; | Chrom_B &lt;chr&gt; | ChromStart_B &lt;dbl&gt; | ChromEnd_B &lt;dbl&gt; | Region_A &lt;fct&gt; | Region_B &lt;fct&gt; | Value &lt;dbl&gt; |\n",
       "|---|---|---|---|---|---|---|---|---|\n",
       "| chrX |  8782989 |  8783613 | chrX |  8740000 |  8815000 | chrX:8782989-8783613   | chrX:8740000-8815000 | 1 |\n",
       "| chrX | 10014495 | 10015522 | chrX | 10000000 | 10090000 | chrX:10014495-10015522 | chrX:1e+07-10090000  | 1 |\n",
       "| chrX | 10047058 | 10047541 | chrX | 10000000 | 10090000 | chrX:10047058-10047541 | chrX:1e+07-10090000  | 1 |\n",
       "\n"
      ],
      "text/plain": [
       "  Chrom_A ChromStart_A ChromEnd_A Chrom_B ChromStart_B ChromEnd_B\n",
       "1 chrX     8782989      8783613   chrX     8740000      8815000  \n",
       "2 chrX    10014495     10015522   chrX    10000000     10090000  \n",
       "3 chrX    10047058     10047541   chrX    10000000     10090000  \n",
       "  Region_A               Region_B             Value\n",
       "1 chrX:8782989-8783613   chrX:8740000-8815000 1    \n",
       "2 chrX:10014495-10015522 chrX:1e+07-10090000  1    \n",
       "3 chrX:10047058-10047541 chrX:1e+07-10090000  1    "
      ]
     },
     "metadata": {},
     "output_type": "display_data"
    }
   ],
   "source": [
    "print(dim(dat))\n",
    "head(dat, 3)"
   ]
  },
  {
   "cell_type": "code",
   "execution_count": 10,
   "id": "4c3295dd-36ba-4c5c-8ad5-68f9882ed34f",
   "metadata": {},
   "outputs": [
    {
     "data": {
      "image/png": "[encoded data removed]",
      "text/plain": [
       "plot without title"
      ]
     },
     "metadata": {
      "image/png": {
       "height": 300,
       "width": 300
      }
     },
     "output_type": "display_data"
    }
   ],
   "source": [
    "gpt = ggplot(dat, aes(x=Region_B, y=Region_A, fill=Value)) +\n",
    "    geom_tile() + \n",
    "    labs(x=\"TAD\", y=\"ATAC\") +\n",
    "    theme_cowplot() +\n",
    "    theme(\n",
    "        axis.text  = element_blank(),\n",
    "        axis.ticks = element_blank(),\n",
    "        legend.position = \"None\"\n",
    "    )\n",
    "\n",
    "options(repr.plot.height = 5, repr.plot.width = 5)\n",
    "print(gpt)"
   ]
  },
  {
   "cell_type": "code",
   "execution_count": null,
   "id": "d9105e6d-7140-475f-8f59-c6cf278e5e1a",
   "metadata": {},
   "outputs": [],
   "source": []
  }
 ],
 "metadata": {
  "kernelspec": {
   "display_name": "R",
   "language": "R",
   "name": "ir"
  },
  "language_info": {
   "codemirror_mode": "r",
   "file_extension": ".r",
   "mimetype": "text/x-r-source",
   "name": "R",
   "pygments_lexer": "r",
   "version": "4.4.0"
  }
 },
 "nbformat": 4,
 "nbformat_minor": 5
}
