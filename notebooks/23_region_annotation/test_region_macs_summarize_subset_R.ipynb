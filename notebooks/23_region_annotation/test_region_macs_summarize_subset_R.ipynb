{
 "cells": [
  {
   "cell_type": "raw",
   "id": "e2cb820d-4edf-454e-bef3-e417c944e2f1",
   "metadata": {},
   "source": []
  },
  {
   "cell_type": "markdown",
   "id": "5295f312-6d7a-4527-8443-1426b2762f0c",
   "metadata": {},
   "source": [
    "**Set environment**"
   ]
  },
  {
   "cell_type": "code",
   "execution_count": 1,
   "id": "08fdea9d-572f-4d2d-9b84-d2c8823215ef",
   "metadata": {
    "tags": []
   },
   "outputs": [
    {
     "name": "stdout",
     "output_type": "stream",
     "text": [
      "You are working on        Singularity \n",
      "BASE DIRECTORY (FD_BASE): /mount \n",
      "REPO DIRECTORY (FD_REPO): /mount/repo \n",
      "WORK DIRECTORY (FD_WORK): /mount/work \n",
      "DATA DIRECTORY (FD_DATA): /mount/data \n",
      "\n",
      "You are working with      ENCODE FCC \n",
      "PATH OF PROJECT (FD_PRJ): /mount/repo/Proj_ENCODE_FCC \n",
      "PROJECT RESULTS (FD_RES): /mount/repo/Proj_ENCODE_FCC/results \n",
      "PROJECT SCRIPTS (FD_EXE): /mount/repo/Proj_ENCODE_FCC/scripts \n",
      "PROJECT DATA    (FD_DAT): /mount/repo/Proj_ENCODE_FCC/data \n",
      "PROJECT NOTE    (FD_NBK): /mount/repo/Proj_ENCODE_FCC/notebooks \n",
      "PROJECT DOCS    (FD_DOC): /mount/repo/Proj_ENCODE_FCC/docs \n",
      "PROJECT LOG     (FD_LOG): /mount/repo/Proj_ENCODE_FCC/log \n",
      "PROJECT APP     (FD_APP): /mount/repo/Proj_ENCODE_FCC/app \n",
      "PROJECT REF     (FD_REF): /mount/repo/Proj_ENCODE_FCC/references \n",
      "\n"
     ]
    }
   ],
   "source": [
    "suppressMessages(suppressWarnings(source(\"../run_config_project_sing.R\")))\n",
    "show_env()"
   ]
  },
  {
   "cell_type": "markdown",
   "id": "fd0e7597-abc5-4f06-a2b2-971e58ebe336",
   "metadata": {},
   "source": [
    "**Set global variables**"
   ]
  },
  {
   "cell_type": "code",
   "execution_count": 2,
   "id": "69f07c82-ce3d-4c02-b089-b3abacc1ffd3",
   "metadata": {},
   "outputs": [],
   "source": [
    "txt_region_folder_A = \"fcc_astarr_macs_input_overlap\"\n",
    "txt_region_folder_B = \"encode_chromatin_states\""
   ]
  },
  {
   "cell_type": "markdown",
   "id": "4762ad14-7305-402c-bb5f-ece48ce48e6d",
   "metadata": {},
   "source": [
    "## Import data"
   ]
  },
  {
   "cell_type": "code",
   "execution_count": 3,
   "id": "8f2d8795-c869-4f94-b5aa-84af594d9414",
   "metadata": {},
   "outputs": [],
   "source": [
    "#vec_txt_region_label = c(   \n",
    "#)\n",
    "txt_region_folder_A = \"fcc_astarr_macs\"\n",
    "txt_region_folder_B = \"encode_chromatin_states\"\n",
    "txt_region_label_A  = \"fcc_astarr_macs_input_overlap\""
   ]
  },
  {
   "cell_type": "code",
   "execution_count": 4,
   "id": "f90d053b-7580-4ec8-bc5b-b06e942f6643",
   "metadata": {},
   "outputs": [
    {
     "data": {
      "text/html": [
       "<style>\n",
       ".list-inline {list-style: none; margin:0; padding: 0}\n",
       ".list-inline>li {display: inline-block}\n",
       ".list-inline>li:not(:last-child)::after {content: \"\\00b7\"; padding: 0 .5ex}\n",
       "</style>\n",
       "<ol class=list-inline><li>'Chrom'</li><li>'ChromStart'</li><li>'ChromEnd'</li></ol>\n"
      ],
      "text/latex": [
       "\\begin{enumerate*}\n",
       "\\item 'Chrom'\n",
       "\\item 'ChromStart'\n",
       "\\item 'ChromEnd'\n",
       "\\end{enumerate*}\n"
      ],
      "text/markdown": [
       "1. 'Chrom'\n",
       "2. 'ChromStart'\n",
       "3. 'ChromEnd'\n",
       "\n",
       "\n"
      ],
      "text/plain": [
       "[1] \"Chrom\"      \"ChromStart\" \"ChromEnd\"  "
      ]
     },
     "metadata": {},
     "output_type": "display_data"
    }
   ],
   "source": [
    "txt_fdiry = file.path(FD_RES, \"region\", txt_region_folder_A, \"summary\")\n",
    "txt_fname = \"description.tsv\"\n",
    "txt_fpath = file.path(txt_fdiry, txt_fname)\n",
    "\n",
    "dat_cname = read_tsv(txt_fpath, show_col_types = FALSE)\n",
    "vec_txt_cname_A = dat_cname$Name\n",
    "vec_txt_cname_A"
   ]
  },
  {
   "cell_type": "code",
   "execution_count": 5,
   "id": "8497c6ca-69a2-4aeb-9ab7-deae61f1d37a",
   "metadata": {},
   "outputs": [
    {
     "data": {
      "text/html": [
       "<style>\n",
       ".list-inline {list-style: none; margin:0; padding: 0}\n",
       ".list-inline>li {display: inline-block}\n",
       ".list-inline>li:not(:last-child)::after {content: \"\\00b7\"; padding: 0 .5ex}\n",
       "</style>\n",
       "<ol class=list-inline><li>'Chrom'</li><li>'ChromStart'</li><li>'ChromEnd'</li><li>'Name'</li><li>'Group'</li><li>'Label'</li></ol>\n"
      ],
      "text/latex": [
       "\\begin{enumerate*}\n",
       "\\item 'Chrom'\n",
       "\\item 'ChromStart'\n",
       "\\item 'ChromEnd'\n",
       "\\item 'Name'\n",
       "\\item 'Group'\n",
       "\\item 'Label'\n",
       "\\end{enumerate*}\n"
      ],
      "text/markdown": [
       "1. 'Chrom'\n",
       "2. 'ChromStart'\n",
       "3. 'ChromEnd'\n",
       "4. 'Name'\n",
       "5. 'Group'\n",
       "6. 'Label'\n",
       "\n",
       "\n"
      ],
      "text/plain": [
       "[1] \"Chrom\"      \"ChromStart\" \"ChromEnd\"   \"Name\"       \"Group\"     \n",
       "[6] \"Label\"     "
      ]
     },
     "metadata": {},
     "output_type": "display_data"
    }
   ],
   "source": [
    "txt_fdiry = file.path(FD_RES, \"region\", txt_region_folder_B, \"summary\")\n",
    "txt_fname = \"description.tsv\"\n",
    "txt_fpath = file.path(txt_fdiry, txt_fname)\n",
    "\n",
    "dat_cname = read_tsv(txt_fpath, show_col_types = FALSE)\n",
    "vec_txt_cname_B = dat_cname$Name\n",
    "vec_txt_cname_B"
   ]
  },
  {
   "cell_type": "code",
   "execution_count": 6,
   "id": "3cc6c79e-ea65-44ee-804e-f25a7e4b6df2",
   "metadata": {},
   "outputs": [
    {
     "data": {
      "text/html": [
       "<style>\n",
       ".list-inline {list-style: none; margin:0; padding: 0}\n",
       ".list-inline>li {display: inline-block}\n",
       ".list-inline>li:not(:last-child)::after {content: \"\\00b7\"; padding: 0 .5ex}\n",
       "</style>\n",
       "<ol class=list-inline><li>'Chrom_A'</li><li>'ChromStart_A'</li><li>'ChromEnd_A'</li><li>'Chrom_B'</li><li>'ChromStart_B'</li><li>'ChromEnd_B'</li><li>'Name_B'</li><li>'Group_B'</li><li>'Label_B'</li><li>'Overlap'</li></ol>\n"
      ],
      "text/latex": [
       "\\begin{enumerate*}\n",
       "\\item 'Chrom\\_A'\n",
       "\\item 'ChromStart\\_A'\n",
       "\\item 'ChromEnd\\_A'\n",
       "\\item 'Chrom\\_B'\n",
       "\\item 'ChromStart\\_B'\n",
       "\\item 'ChromEnd\\_B'\n",
       "\\item 'Name\\_B'\n",
       "\\item 'Group\\_B'\n",
       "\\item 'Label\\_B'\n",
       "\\item 'Overlap'\n",
       "\\end{enumerate*}\n"
      ],
      "text/markdown": [
       "1. 'Chrom_A'\n",
       "2. 'ChromStart_A'\n",
       "3. 'ChromEnd_A'\n",
       "4. 'Chrom_B'\n",
       "5. 'ChromStart_B'\n",
       "6. 'ChromEnd_B'\n",
       "7. 'Name_B'\n",
       "8. 'Group_B'\n",
       "9. 'Label_B'\n",
       "10. 'Overlap'\n",
       "\n",
       "\n"
      ],
      "text/plain": [
       " [1] \"Chrom_A\"      \"ChromStart_A\" \"ChromEnd_A\"   \"Chrom_B\"      \"ChromStart_B\"\n",
       " [6] \"ChromEnd_B\"   \"Name_B\"       \"Group_B\"      \"Label_B\"      \"Overlap\"     "
      ]
     },
     "metadata": {},
     "output_type": "display_data"
    }
   ],
   "source": [
    "vec_txt_cname = c(\n",
    "    paste0(vec_txt_cname_A, \"_A\"),\n",
    "    paste0(vec_txt_cname_B, \"_B\"),\n",
    "    \"Overlap\"\n",
    ")\n",
    "vec_txt_cname"
   ]
  },
  {
   "cell_type": "code",
   "execution_count": 7,
   "id": "ae48b512-35ba-45f3-a6d9-bb42bf4f858e",
   "metadata": {},
   "outputs": [
    {
     "data": {
      "text/html": [
       "<table class=\"dataframe\">\n",
       "<caption>A spec_tbl_df: 2 × 3</caption>\n",
       "<thead>\n",
       "\t<tr><th scope=col>Folder</th><th scope=col>FName</th><th scope=col>Label</th></tr>\n",
       "\t<tr><th scope=col>&lt;chr&gt;</th><th scope=col>&lt;chr&gt;</th><th scope=col>&lt;chr&gt;</th></tr>\n",
       "</thead>\n",
       "<tbody>\n",
       "\t<tr><td>fcc_astarr_macs</td><td>ASTARRseq_K562_KS91.hg38.Input.rep_all.max_overlaps.q5.bed.gz</td><td>fcc_astarr_macs_input_overlap</td></tr>\n",
       "\t<tr><td>fcc_astarr_macs</td><td>ASTARRseq_K562_KS91.hg38.Input.rep_all.union.q5.bed.gz       </td><td>fcc_astarr_macs_input_union  </td></tr>\n",
       "</tbody>\n",
       "</table>\n"
      ],
      "text/latex": [
       "A spec\\_tbl\\_df: 2 × 3\n",
       "\\begin{tabular}{lll}\n",
       " Folder & FName & Label\\\\\n",
       " <chr> & <chr> & <chr>\\\\\n",
       "\\hline\n",
       "\t fcc\\_astarr\\_macs & ASTARRseq\\_K562\\_KS91.hg38.Input.rep\\_all.max\\_overlaps.q5.bed.gz & fcc\\_astarr\\_macs\\_input\\_overlap\\\\\n",
       "\t fcc\\_astarr\\_macs & ASTARRseq\\_K562\\_KS91.hg38.Input.rep\\_all.union.q5.bed.gz        & fcc\\_astarr\\_macs\\_input\\_union  \\\\\n",
       "\\end{tabular}\n"
      ],
      "text/markdown": [
       "\n",
       "A spec_tbl_df: 2 × 3\n",
       "\n",
       "| Folder &lt;chr&gt; | FName &lt;chr&gt; | Label &lt;chr&gt; |\n",
       "|---|---|---|\n",
       "| fcc_astarr_macs | ASTARRseq_K562_KS91.hg38.Input.rep_all.max_overlaps.q5.bed.gz | fcc_astarr_macs_input_overlap |\n",
       "| fcc_astarr_macs | ASTARRseq_K562_KS91.hg38.Input.rep_all.union.q5.bed.gz        | fcc_astarr_macs_input_union   |\n",
       "\n"
      ],
      "text/plain": [
       "  Folder          FName                                                        \n",
       "1 fcc_astarr_macs ASTARRseq_K562_KS91.hg38.Input.rep_all.max_overlaps.q5.bed.gz\n",
       "2 fcc_astarr_macs ASTARRseq_K562_KS91.hg38.Input.rep_all.union.q5.bed.gz       \n",
       "  Label                        \n",
       "1 fcc_astarr_macs_input_overlap\n",
       "2 fcc_astarr_macs_input_union  "
      ]
     },
     "metadata": {},
     "output_type": "display_data"
    }
   ],
   "source": [
    "txt_fdiry = file.path(FD_RES, \"region\",txt_region_folder_A, \"summary\")\n",
    "txt_fname = \"metadata.label.tsv\"\n",
    "txt_fpath = file.path(txt_fdiry, txt_fname)\n",
    "\n",
    "dat_label_A = read_tsv(txt_fpath, show_col_types = FALSE)\n",
    "dat_label_A"
   ]
  },
  {
   "cell_type": "code",
   "execution_count": 8,
   "id": "c5d9bb5a-60c7-46c8-b049-f03d7c917d66",
   "metadata": {},
   "outputs": [
    {
     "data": {
      "text/html": [
       "<table class=\"dataframe\">\n",
       "<caption>A spec_tbl_df: 4 × 3</caption>\n",
       "<thead>\n",
       "\t<tr><th scope=col>Folder</th><th scope=col>FName</th><th scope=col>Label</th></tr>\n",
       "\t<tr><th scope=col>&lt;chr&gt;</th><th scope=col>&lt;chr&gt;</th><th scope=col>&lt;chr&gt;</th></tr>\n",
       "</thead>\n",
       "<tbody>\n",
       "\t<tr><td>encode_chromatin_states</td><td>K562.hg38.cCREs.silencer_rest.bed.gz                        </td><td>encode_ccres_silencer_rest </td></tr>\n",
       "\t<tr><td>encode_chromatin_states</td><td>K562.hg38.cCREs.silencer_starr.bed.gz                       </td><td>encode_ccres_silencer_starr</td></tr>\n",
       "\t<tr><td>encode_chromatin_states</td><td>K562.hg38.ENCSR365YNI.ENCFF106BGJ.ChromHMM.simplified.bed.gz</td><td>encode_chromhmm_ENCFF106BGJ</td></tr>\n",
       "\t<tr><td>encode_chromatin_states</td><td>K562.hg38.ENCSR913HQX.ENCFF286VQG.cCREs.simplified.bed.gz   </td><td>encode_ccres_ENCFF286VQG   </td></tr>\n",
       "</tbody>\n",
       "</table>\n"
      ],
      "text/latex": [
       "A spec\\_tbl\\_df: 4 × 3\n",
       "\\begin{tabular}{lll}\n",
       " Folder & FName & Label\\\\\n",
       " <chr> & <chr> & <chr>\\\\\n",
       "\\hline\n",
       "\t encode\\_chromatin\\_states & K562.hg38.cCREs.silencer\\_rest.bed.gz                         & encode\\_ccres\\_silencer\\_rest \\\\\n",
       "\t encode\\_chromatin\\_states & K562.hg38.cCREs.silencer\\_starr.bed.gz                        & encode\\_ccres\\_silencer\\_starr\\\\\n",
       "\t encode\\_chromatin\\_states & K562.hg38.ENCSR365YNI.ENCFF106BGJ.ChromHMM.simplified.bed.gz & encode\\_chromhmm\\_ENCFF106BGJ\\\\\n",
       "\t encode\\_chromatin\\_states & K562.hg38.ENCSR913HQX.ENCFF286VQG.cCREs.simplified.bed.gz    & encode\\_ccres\\_ENCFF286VQG   \\\\\n",
       "\\end{tabular}\n"
      ],
      "text/markdown": [
       "\n",
       "A spec_tbl_df: 4 × 3\n",
       "\n",
       "| Folder &lt;chr&gt; | FName &lt;chr&gt; | Label &lt;chr&gt; |\n",
       "|---|---|---|\n",
       "| encode_chromatin_states | K562.hg38.cCREs.silencer_rest.bed.gz                         | encode_ccres_silencer_rest  |\n",
       "| encode_chromatin_states | K562.hg38.cCREs.silencer_starr.bed.gz                        | encode_ccres_silencer_starr |\n",
       "| encode_chromatin_states | K562.hg38.ENCSR365YNI.ENCFF106BGJ.ChromHMM.simplified.bed.gz | encode_chromhmm_ENCFF106BGJ |\n",
       "| encode_chromatin_states | K562.hg38.ENCSR913HQX.ENCFF286VQG.cCREs.simplified.bed.gz    | encode_ccres_ENCFF286VQG    |\n",
       "\n"
      ],
      "text/plain": [
       "  Folder                 \n",
       "1 encode_chromatin_states\n",
       "2 encode_chromatin_states\n",
       "3 encode_chromatin_states\n",
       "4 encode_chromatin_states\n",
       "  FName                                                       \n",
       "1 K562.hg38.cCREs.silencer_rest.bed.gz                        \n",
       "2 K562.hg38.cCREs.silencer_starr.bed.gz                       \n",
       "3 K562.hg38.ENCSR365YNI.ENCFF106BGJ.ChromHMM.simplified.bed.gz\n",
       "4 K562.hg38.ENCSR913HQX.ENCFF286VQG.cCREs.simplified.bed.gz   \n",
       "  Label                      \n",
       "1 encode_ccres_silencer_rest \n",
       "2 encode_ccres_silencer_starr\n",
       "3 encode_chromhmm_ENCFF106BGJ\n",
       "4 encode_ccres_ENCFF286VQG   "
      ]
     },
     "metadata": {},
     "output_type": "display_data"
    }
   ],
   "source": [
    "txt_fdiry = file.path(FD_RES, \"region\",txt_region_folder_B, \"summary\")\n",
    "txt_fname = \"metadata.label.tsv\"\n",
    "txt_fpath = file.path(txt_fdiry, txt_fname)\n",
    "\n",
    "dat_label_B = read_tsv(txt_fpath, show_col_types = FALSE)\n",
    "dat_label_B"
   ]
  },
  {
   "cell_type": "code",
   "execution_count": null,
   "id": "63b513b1-0980-4d35-91a7-1e5de88ab20f",
   "metadata": {},
   "outputs": [],
   "source": []
  },
  {
   "cell_type": "code",
   "execution_count": 10,
   "id": "a1236d28-3973-4607-9059-d5f0c276a841",
   "metadata": {},
   "outputs": [
    {
     "data": {
      "text/html": [
       "<style>\n",
       ".list-inline {list-style: none; margin:0; padding: 0}\n",
       ".list-inline>li {display: inline-block}\n",
       ".list-inline>li:not(:last-child)::after {content: \"\\00b7\"; padding: 0 .5ex}\n",
       "</style>\n",
       "<ol class=list-inline><li>'fcc_astarr_macs_input_overlap.encode_ccres_ENCFF286VQG.bed.gz'</li><li>'fcc_astarr_macs_input_overlap.encode_ccres_silencer_rest.bed.gz'</li><li>'fcc_astarr_macs_input_overlap.encode_ccres_silencer_starr.bed.gz'</li><li>'fcc_astarr_macs_input_overlap.encode_chromhmm_ENCFF106BGJ.bed.gz'</li></ol>\n"
      ],
      "text/latex": [
       "\\begin{enumerate*}\n",
       "\\item 'fcc\\_astarr\\_macs\\_input\\_overlap.encode\\_ccres\\_ENCFF286VQG.bed.gz'\n",
       "\\item 'fcc\\_astarr\\_macs\\_input\\_overlap.encode\\_ccres\\_silencer\\_rest.bed.gz'\n",
       "\\item 'fcc\\_astarr\\_macs\\_input\\_overlap.encode\\_ccres\\_silencer\\_starr.bed.gz'\n",
       "\\item 'fcc\\_astarr\\_macs\\_input\\_overlap.encode\\_chromhmm\\_ENCFF106BGJ.bed.gz'\n",
       "\\end{enumerate*}\n"
      ],
      "text/markdown": [
       "1. 'fcc_astarr_macs_input_overlap.encode_ccres_ENCFF286VQG.bed.gz'\n",
       "2. 'fcc_astarr_macs_input_overlap.encode_ccres_silencer_rest.bed.gz'\n",
       "3. 'fcc_astarr_macs_input_overlap.encode_ccres_silencer_starr.bed.gz'\n",
       "4. 'fcc_astarr_macs_input_overlap.encode_chromhmm_ENCFF106BGJ.bed.gz'\n",
       "\n",
       "\n"
      ],
      "text/plain": [
       "[1] \"fcc_astarr_macs_input_overlap.encode_ccres_ENCFF286VQG.bed.gz\"   \n",
       "[2] \"fcc_astarr_macs_input_overlap.encode_ccres_silencer_rest.bed.gz\" \n",
       "[3] \"fcc_astarr_macs_input_overlap.encode_ccres_silencer_starr.bed.gz\"\n",
       "[4] \"fcc_astarr_macs_input_overlap.encode_chromhmm_ENCFF106BGJ.bed.gz\""
      ]
     },
     "metadata": {},
     "output_type": "display_data"
    }
   ],
   "source": [
    "txt_fdiry = file.path(\n",
    "    FD_RES, \n",
    "    \"region_annotation\",\n",
    "    txt_region_label_A, \n",
    "    txt_region_folder_B\n",
    ")\n",
    "txt_fname = \"*bed.gz\"\n",
    "txt_fglob = file.path(txt_fdiry, txt_fname)\n",
    "\n",
    "vec_txt_fpath = Sys.glob(txt_fglob)\n",
    "vec_txt_fname = basename(vec_txt_fpath)\n",
    "vec_txt_fname"
   ]
  },
  {
   "cell_type": "code",
   "execution_count": 17,
   "id": "a6a99809-11b8-4d5f-acd5-9daeb5f1029c",
   "metadata": {},
   "outputs": [
    {
     "name": "stdout",
     "output_type": "stream",
     "text": [
      "[1] \"fcc_astarr_macs_input_overlap.encode_ccres_ENCFF286VQG.bed.gz\"\n"
     ]
    },
    {
     "data": {
      "text/html": [
       "<table class=\"dataframe\">\n",
       "<caption>A tibble: 6 × 14</caption>\n",
       "<thead>\n",
       "\t<tr><th scope=col>Chrom_A</th><th scope=col>ChromStart_A</th><th scope=col>ChromEnd_A</th><th scope=col>Chrom_B</th><th scope=col>ChromStart_B</th><th scope=col>ChromEnd_B</th><th scope=col>Name_B</th><th scope=col>Group_B</th><th scope=col>Label_B</th><th scope=col>Overlap</th><th scope=col>Region_A</th><th scope=col>Region_B</th><th scope=col>Annotation_A</th><th scope=col>Annotation_B</th></tr>\n",
       "\t<tr><th scope=col>&lt;chr&gt;</th><th scope=col>&lt;dbl&gt;</th><th scope=col>&lt;dbl&gt;</th><th scope=col>&lt;chr&gt;</th><th scope=col>&lt;dbl&gt;</th><th scope=col>&lt;dbl&gt;</th><th scope=col>&lt;chr&gt;</th><th scope=col>&lt;chr&gt;</th><th scope=col>&lt;chr&gt;</th><th scope=col>&lt;dbl&gt;</th><th scope=col>&lt;chr&gt;</th><th scope=col>&lt;chr&gt;</th><th scope=col>&lt;chr&gt;</th><th scope=col>&lt;chr&gt;</th></tr>\n",
       "</thead>\n",
       "<tbody>\n",
       "\t<tr><td>chr1</td><td> 10038</td><td> 10405</td><td>chr1</td><td> 10033</td><td> 10250</td><td>EH38E2776516</td><td>cCREs</td><td>Low-DNase</td><td>212</td><td>chr1:10038-10405  </td><td>chr1:10033-10250  </td><td>fcc_astarr_macs_input_overlap</td><td>encode_ccres_ENCFF286VQG</td></tr>\n",
       "\t<tr><td>chr1</td><td> 10038</td><td> 10405</td><td>chr1</td><td> 10385</td><td> 10713</td><td>EH38E2776517</td><td>cCREs</td><td>Low-DNase</td><td> 20</td><td>chr1:10038-10405  </td><td>chr1:10385-10713  </td><td>fcc_astarr_macs_input_overlap</td><td>encode_ccres_ENCFF286VQG</td></tr>\n",
       "\t<tr><td>chr1</td><td> 16025</td><td> 16338</td><td>chr1</td><td> 16097</td><td> 16381</td><td>EH38E3951272</td><td>cCREs</td><td>Low-DNase</td><td>241</td><td>chr1:16025-16338  </td><td>chr1:16097-16381  </td><td>fcc_astarr_macs_input_overlap</td><td>encode_ccres_ENCFF286VQG</td></tr>\n",
       "\t<tr><td>chr1</td><td> 17288</td><td> 17689</td><td>chr1</td><td> 17343</td><td> 17642</td><td>EH38E3951273</td><td>cCREs</td><td>Low-DNase</td><td>299</td><td>chr1:17288-17689  </td><td>chr1:17343-17642  </td><td>fcc_astarr_macs_input_overlap</td><td>encode_ccres_ENCFF286VQG</td></tr>\n",
       "\t<tr><td>chr1</td><td> 28934</td><td> 29499</td><td>chr1</td><td> 29320</td><td> 29517</td><td>EH38E3951274</td><td>cCREs</td><td>Low-DNase</td><td>179</td><td>chr1:28934-29499  </td><td>chr1:29320-29517  </td><td>fcc_astarr_macs_input_overlap</td><td>encode_ccres_ENCFF286VQG</td></tr>\n",
       "\t<tr><td>chr1</td><td>115429</td><td>115969</td><td>chr1</td><td>115562</td><td>115912</td><td>EH38E3951280</td><td>cCREs</td><td>CA-CTCF  </td><td>350</td><td>chr1:115429-115969</td><td>chr1:115562-115912</td><td>fcc_astarr_macs_input_overlap</td><td>encode_ccres_ENCFF286VQG</td></tr>\n",
       "</tbody>\n",
       "</table>\n"
      ],
      "text/latex": [
       "A tibble: 6 × 14\n",
       "\\begin{tabular}{llllllllllllll}\n",
       " Chrom\\_A & ChromStart\\_A & ChromEnd\\_A & Chrom\\_B & ChromStart\\_B & ChromEnd\\_B & Name\\_B & Group\\_B & Label\\_B & Overlap & Region\\_A & Region\\_B & Annotation\\_A & Annotation\\_B\\\\\n",
       " <chr> & <dbl> & <dbl> & <chr> & <dbl> & <dbl> & <chr> & <chr> & <chr> & <dbl> & <chr> & <chr> & <chr> & <chr>\\\\\n",
       "\\hline\n",
       "\t chr1 &  10038 &  10405 & chr1 &  10033 &  10250 & EH38E2776516 & cCREs & Low-DNase & 212 & chr1:10038-10405   & chr1:10033-10250   & fcc\\_astarr\\_macs\\_input\\_overlap & encode\\_ccres\\_ENCFF286VQG\\\\\n",
       "\t chr1 &  10038 &  10405 & chr1 &  10385 &  10713 & EH38E2776517 & cCREs & Low-DNase &  20 & chr1:10038-10405   & chr1:10385-10713   & fcc\\_astarr\\_macs\\_input\\_overlap & encode\\_ccres\\_ENCFF286VQG\\\\\n",
       "\t chr1 &  16025 &  16338 & chr1 &  16097 &  16381 & EH38E3951272 & cCREs & Low-DNase & 241 & chr1:16025-16338   & chr1:16097-16381   & fcc\\_astarr\\_macs\\_input\\_overlap & encode\\_ccres\\_ENCFF286VQG\\\\\n",
       "\t chr1 &  17288 &  17689 & chr1 &  17343 &  17642 & EH38E3951273 & cCREs & Low-DNase & 299 & chr1:17288-17689   & chr1:17343-17642   & fcc\\_astarr\\_macs\\_input\\_overlap & encode\\_ccres\\_ENCFF286VQG\\\\\n",
       "\t chr1 &  28934 &  29499 & chr1 &  29320 &  29517 & EH38E3951274 & cCREs & Low-DNase & 179 & chr1:28934-29499   & chr1:29320-29517   & fcc\\_astarr\\_macs\\_input\\_overlap & encode\\_ccres\\_ENCFF286VQG\\\\\n",
       "\t chr1 & 115429 & 115969 & chr1 & 115562 & 115912 & EH38E3951280 & cCREs & CA-CTCF   & 350 & chr1:115429-115969 & chr1:115562-115912 & fcc\\_astarr\\_macs\\_input\\_overlap & encode\\_ccres\\_ENCFF286VQG\\\\\n",
       "\\end{tabular}\n"
      ],
      "text/markdown": [
       "\n",
       "A tibble: 6 × 14\n",
       "\n",
       "| Chrom_A &lt;chr&gt; | ChromStart_A &lt;dbl&gt; | ChromEnd_A &lt;dbl&gt; | Chrom_B &lt;chr&gt; | ChromStart_B &lt;dbl&gt; | ChromEnd_B &lt;dbl&gt; | Name_B &lt;chr&gt; | Group_B &lt;chr&gt; | Label_B &lt;chr&gt; | Overlap &lt;dbl&gt; | Region_A &lt;chr&gt; | Region_B &lt;chr&gt; | Annotation_A &lt;chr&gt; | Annotation_B &lt;chr&gt; |\n",
       "|---|---|---|---|---|---|---|---|---|---|---|---|---|---|\n",
       "| chr1 |  10038 |  10405 | chr1 |  10033 |  10250 | EH38E2776516 | cCREs | Low-DNase | 212 | chr1:10038-10405   | chr1:10033-10250   | fcc_astarr_macs_input_overlap | encode_ccres_ENCFF286VQG |\n",
       "| chr1 |  10038 |  10405 | chr1 |  10385 |  10713 | EH38E2776517 | cCREs | Low-DNase |  20 | chr1:10038-10405   | chr1:10385-10713   | fcc_astarr_macs_input_overlap | encode_ccres_ENCFF286VQG |\n",
       "| chr1 |  16025 |  16338 | chr1 |  16097 |  16381 | EH38E3951272 | cCREs | Low-DNase | 241 | chr1:16025-16338   | chr1:16097-16381   | fcc_astarr_macs_input_overlap | encode_ccres_ENCFF286VQG |\n",
       "| chr1 |  17288 |  17689 | chr1 |  17343 |  17642 | EH38E3951273 | cCREs | Low-DNase | 299 | chr1:17288-17689   | chr1:17343-17642   | fcc_astarr_macs_input_overlap | encode_ccres_ENCFF286VQG |\n",
       "| chr1 |  28934 |  29499 | chr1 |  29320 |  29517 | EH38E3951274 | cCREs | Low-DNase | 179 | chr1:28934-29499   | chr1:29320-29517   | fcc_astarr_macs_input_overlap | encode_ccres_ENCFF286VQG |\n",
       "| chr1 | 115429 | 115969 | chr1 | 115562 | 115912 | EH38E3951280 | cCREs | CA-CTCF   | 350 | chr1:115429-115969 | chr1:115562-115912 | fcc_astarr_macs_input_overlap | encode_ccres_ENCFF286VQG |\n",
       "\n"
      ],
      "text/plain": [
       "  Chrom_A ChromStart_A ChromEnd_A Chrom_B ChromStart_B ChromEnd_B Name_B      \n",
       "1 chr1     10038        10405     chr1     10033        10250     EH38E2776516\n",
       "2 chr1     10038        10405     chr1     10385        10713     EH38E2776517\n",
       "3 chr1     16025        16338     chr1     16097        16381     EH38E3951272\n",
       "4 chr1     17288        17689     chr1     17343        17642     EH38E3951273\n",
       "5 chr1     28934        29499     chr1     29320        29517     EH38E3951274\n",
       "6 chr1    115429       115969     chr1    115562       115912     EH38E3951280\n",
       "  Group_B Label_B   Overlap Region_A           Region_B          \n",
       "1 cCREs   Low-DNase 212     chr1:10038-10405   chr1:10033-10250  \n",
       "2 cCREs   Low-DNase  20     chr1:10038-10405   chr1:10385-10713  \n",
       "3 cCREs   Low-DNase 241     chr1:16025-16338   chr1:16097-16381  \n",
       "4 cCREs   Low-DNase 299     chr1:17288-17689   chr1:17343-17642  \n",
       "5 cCREs   Low-DNase 179     chr1:28934-29499   chr1:29320-29517  \n",
       "6 cCREs   CA-CTCF   350     chr1:115429-115969 chr1:115562-115912\n",
       "  Annotation_A                  Annotation_B            \n",
       "1 fcc_astarr_macs_input_overlap encode_ccres_ENCFF286VQG\n",
       "2 fcc_astarr_macs_input_overlap encode_ccres_ENCFF286VQG\n",
       "3 fcc_astarr_macs_input_overlap encode_ccres_ENCFF286VQG\n",
       "4 fcc_astarr_macs_input_overlap encode_ccres_ENCFF286VQG\n",
       "5 fcc_astarr_macs_input_overlap encode_ccres_ENCFF286VQG\n",
       "6 fcc_astarr_macs_input_overlap encode_ccres_ENCFF286VQG"
      ]
     },
     "metadata": {},
     "output_type": "display_data"
    }
   ],
   "source": [
    "###\n",
    "txt_fname = vec_txt_fname[1]\n",
    "txt_fpath = file.path(txt_fdiry, txt_fname)\n",
    "print(txt_fname)\n",
    "\n",
    "###\n",
    "lst = str_split(txt_fname, \"\\\\.\")\n",
    "vec = lst[[1]]\n",
    "txt_annot_A = vec[1]\n",
    "txt_annot_B = vec[2]\n",
    "\n",
    "dat = read_tsv(txt_fpath, col_names = vec_txt_cname, show_col_types = FALSE)\n",
    "dat = dat %>% \n",
    "    dplyr::mutate(\n",
    "        Region_A = paste0(Chrom_A, \":\", ChromStart_A, \"-\", ChromEnd_A),\n",
    "        Region_B = paste0(Chrom_B, \":\", ChromStart_B, \"-\", ChromEnd_B),\n",
    "        Annotation_A = txt_annot_A,\n",
    "        Annotation_B = txt_annot_B\n",
    "    )\n",
    "dat_region_intersect = dat\n",
    "head(dat)"
   ]
  },
  {
   "cell_type": "code",
   "execution_count": 20,
   "id": "fe59cc70-5077-45dd-a279-a8b2b9d43478",
   "metadata": {},
   "outputs": [
    {
     "data": {
      "text/html": [
       "<table class=\"dataframe\">\n",
       "<caption>A tibble: 6 × 10</caption>\n",
       "<thead>\n",
       "\t<tr><th scope=col>Chrom_A</th><th scope=col>ChromStart_A</th><th scope=col>ChromEnd_A</th><th scope=col>Region_A</th><th scope=col>Annotation_A</th><th scope=col>Annotation_B</th><th scope=col>Group_B</th><th scope=col>Label_B</th><th scope=col>Region_B</th><th scope=col>Count</th></tr>\n",
       "\t<tr><th scope=col>&lt;chr&gt;</th><th scope=col>&lt;dbl&gt;</th><th scope=col>&lt;dbl&gt;</th><th scope=col>&lt;chr&gt;</th><th scope=col>&lt;chr&gt;</th><th scope=col>&lt;chr&gt;</th><th scope=col>&lt;chr&gt;</th><th scope=col>&lt;chr&gt;</th><th scope=col>&lt;chr&gt;</th><th scope=col>&lt;int&gt;</th></tr>\n",
       "</thead>\n",
       "<tbody>\n",
       "\t<tr><td>chr1</td><td> 10038</td><td> 10405</td><td>chr1:10038-10405  </td><td>fcc_astarr_macs_input_overlap</td><td>encode_ccres_ENCFF286VQG</td><td>cCREs</td><td>Low-DNase</td><td>chr1:10033-10250|chr1:10385-10713    </td><td>2</td></tr>\n",
       "\t<tr><td>chr1</td><td> 16025</td><td> 16338</td><td>chr1:16025-16338  </td><td>fcc_astarr_macs_input_overlap</td><td>encode_ccres_ENCFF286VQG</td><td>cCREs</td><td>Low-DNase</td><td>chr1:16097-16381                     </td><td>1</td></tr>\n",
       "\t<tr><td>chr1</td><td> 17288</td><td> 17689</td><td>chr1:17288-17689  </td><td>fcc_astarr_macs_input_overlap</td><td>encode_ccres_ENCFF286VQG</td><td>cCREs</td><td>Low-DNase</td><td>chr1:17343-17642                     </td><td>1</td></tr>\n",
       "\t<tr><td>chr1</td><td> 28934</td><td> 29499</td><td>chr1:28934-29499  </td><td>fcc_astarr_macs_input_overlap</td><td>encode_ccres_ENCFF286VQG</td><td>cCREs</td><td>Low-DNase</td><td>chr1:29320-29517                     </td><td>1</td></tr>\n",
       "\t<tr><td>chr1</td><td>115429</td><td>115969</td><td>chr1:115429-115969</td><td>fcc_astarr_macs_input_overlap</td><td>encode_ccres_ENCFF286VQG</td><td>cCREs</td><td>CA-CTCF  </td><td>chr1:115562-115912                   </td><td>1</td></tr>\n",
       "\t<tr><td>chr1</td><td>136201</td><td>137353</td><td>chr1:136201-137353</td><td>fcc_astarr_macs_input_overlap</td><td>encode_ccres_ENCFF286VQG</td><td>cCREs</td><td>Low-DNase</td><td>chr1:136378-136540|chr1:136646-136985</td><td>2</td></tr>\n",
       "</tbody>\n",
       "</table>\n"
      ],
      "text/latex": [
       "A tibble: 6 × 10\n",
       "\\begin{tabular}{llllllllll}\n",
       " Chrom\\_A & ChromStart\\_A & ChromEnd\\_A & Region\\_A & Annotation\\_A & Annotation\\_B & Group\\_B & Label\\_B & Region\\_B & Count\\\\\n",
       " <chr> & <dbl> & <dbl> & <chr> & <chr> & <chr> & <chr> & <chr> & <chr> & <int>\\\\\n",
       "\\hline\n",
       "\t chr1 &  10038 &  10405 & chr1:10038-10405   & fcc\\_astarr\\_macs\\_input\\_overlap & encode\\_ccres\\_ENCFF286VQG & cCREs & Low-DNase & chr1:10033-10250\\textbar{}chr1:10385-10713     & 2\\\\\n",
       "\t chr1 &  16025 &  16338 & chr1:16025-16338   & fcc\\_astarr\\_macs\\_input\\_overlap & encode\\_ccres\\_ENCFF286VQG & cCREs & Low-DNase & chr1:16097-16381                      & 1\\\\\n",
       "\t chr1 &  17288 &  17689 & chr1:17288-17689   & fcc\\_astarr\\_macs\\_input\\_overlap & encode\\_ccres\\_ENCFF286VQG & cCREs & Low-DNase & chr1:17343-17642                      & 1\\\\\n",
       "\t chr1 &  28934 &  29499 & chr1:28934-29499   & fcc\\_astarr\\_macs\\_input\\_overlap & encode\\_ccres\\_ENCFF286VQG & cCREs & Low-DNase & chr1:29320-29517                      & 1\\\\\n",
       "\t chr1 & 115429 & 115969 & chr1:115429-115969 & fcc\\_astarr\\_macs\\_input\\_overlap & encode\\_ccres\\_ENCFF286VQG & cCREs & CA-CTCF   & chr1:115562-115912                    & 1\\\\\n",
       "\t chr1 & 136201 & 137353 & chr1:136201-137353 & fcc\\_astarr\\_macs\\_input\\_overlap & encode\\_ccres\\_ENCFF286VQG & cCREs & Low-DNase & chr1:136378-136540\\textbar{}chr1:136646-136985 & 2\\\\\n",
       "\\end{tabular}\n"
      ],
      "text/markdown": [
       "\n",
       "A tibble: 6 × 10\n",
       "\n",
       "| Chrom_A &lt;chr&gt; | ChromStart_A &lt;dbl&gt; | ChromEnd_A &lt;dbl&gt; | Region_A &lt;chr&gt; | Annotation_A &lt;chr&gt; | Annotation_B &lt;chr&gt; | Group_B &lt;chr&gt; | Label_B &lt;chr&gt; | Region_B &lt;chr&gt; | Count &lt;int&gt; |\n",
       "|---|---|---|---|---|---|---|---|---|---|\n",
       "| chr1 |  10038 |  10405 | chr1:10038-10405   | fcc_astarr_macs_input_overlap | encode_ccres_ENCFF286VQG | cCREs | Low-DNase | chr1:10033-10250|chr1:10385-10713     | 2 |\n",
       "| chr1 |  16025 |  16338 | chr1:16025-16338   | fcc_astarr_macs_input_overlap | encode_ccres_ENCFF286VQG | cCREs | Low-DNase | chr1:16097-16381                      | 1 |\n",
       "| chr1 |  17288 |  17689 | chr1:17288-17689   | fcc_astarr_macs_input_overlap | encode_ccres_ENCFF286VQG | cCREs | Low-DNase | chr1:17343-17642                      | 1 |\n",
       "| chr1 |  28934 |  29499 | chr1:28934-29499   | fcc_astarr_macs_input_overlap | encode_ccres_ENCFF286VQG | cCREs | Low-DNase | chr1:29320-29517                      | 1 |\n",
       "| chr1 | 115429 | 115969 | chr1:115429-115969 | fcc_astarr_macs_input_overlap | encode_ccres_ENCFF286VQG | cCREs | CA-CTCF   | chr1:115562-115912                    | 1 |\n",
       "| chr1 | 136201 | 137353 | chr1:136201-137353 | fcc_astarr_macs_input_overlap | encode_ccres_ENCFF286VQG | cCREs | Low-DNase | chr1:136378-136540|chr1:136646-136985 | 2 |\n",
       "\n"
      ],
      "text/plain": [
       "  Chrom_A ChromStart_A ChromEnd_A Region_A          \n",
       "1 chr1     10038        10405     chr1:10038-10405  \n",
       "2 chr1     16025        16338     chr1:16025-16338  \n",
       "3 chr1     17288        17689     chr1:17288-17689  \n",
       "4 chr1     28934        29499     chr1:28934-29499  \n",
       "5 chr1    115429       115969     chr1:115429-115969\n",
       "6 chr1    136201       137353     chr1:136201-137353\n",
       "  Annotation_A                  Annotation_B             Group_B Label_B  \n",
       "1 fcc_astarr_macs_input_overlap encode_ccres_ENCFF286VQG cCREs   Low-DNase\n",
       "2 fcc_astarr_macs_input_overlap encode_ccres_ENCFF286VQG cCREs   Low-DNase\n",
       "3 fcc_astarr_macs_input_overlap encode_ccres_ENCFF286VQG cCREs   Low-DNase\n",
       "4 fcc_astarr_macs_input_overlap encode_ccres_ENCFF286VQG cCREs   Low-DNase\n",
       "5 fcc_astarr_macs_input_overlap encode_ccres_ENCFF286VQG cCREs   CA-CTCF  \n",
       "6 fcc_astarr_macs_input_overlap encode_ccres_ENCFF286VQG cCREs   Low-DNase\n",
       "  Region_B                              Count\n",
       "1 chr1:10033-10250|chr1:10385-10713     2    \n",
       "2 chr1:16097-16381                      1    \n",
       "3 chr1:17343-17642                      1    \n",
       "4 chr1:29320-29517                      1    \n",
       "5 chr1:115562-115912                    1    \n",
       "6 chr1:136378-136540|chr1:136646-136985 2    "
      ]
     },
     "metadata": {},
     "output_type": "display_data"
    }
   ],
   "source": [
    "dat = dat_region_intersect\n",
    "\n",
    "###\n",
    "dat = dat %>%\n",
    "    dplyr::group_by(\n",
    "        Chrom_A, ChromStart_A, ChromEnd_A, Region_A,\n",
    "        Annotation_A,\n",
    "        Annotation_B,\n",
    "        Group_B, \n",
    "        Label_B\n",
    "    ) %>%\n",
    "    dplyr::summarise(\n",
    "        Region_B = paste(Region_B, collapse=\"|\"),\n",
    "        Count  = n(),\n",
    "        .groups = \"drop\")\n",
    "\n",
    "head(dat)"
   ]
  },
  {
   "cell_type": "code",
   "execution_count": null,
   "id": "ddc6fbfd-bba2-4e8c-8b90-d4dd50d2497d",
   "metadata": {},
   "outputs": [],
   "source": []
  },
  {
   "cell_type": "code",
   "execution_count": null,
   "id": "a22dd2ff-3d0f-4ee7-9a87-b4ef0752c830",
   "metadata": {},
   "outputs": [],
   "source": []
  },
  {
   "cell_type": "code",
   "execution_count": null,
   "id": "93718a51-6bde-4e52-a375-f4488bf85c3d",
   "metadata": {},
   "outputs": [],
   "source": []
  }
 ],
 "metadata": {
  "kernelspec": {
   "display_name": "R",
   "language": "R",
   "name": "ir"
  },
  "language_info": {
   "codemirror_mode": "r",
   "file_extension": ".r",
   "mimetype": "text/x-r-source",
   "name": "R",
   "pygments_lexer": "r",
   "version": "4.4.0"
  }
 },
 "nbformat": 4,
 "nbformat_minor": 5
}
