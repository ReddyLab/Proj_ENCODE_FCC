{
 "cells": [
  {
   "cell_type": "code",
   "execution_count": null,
   "id": "5ba907a8-6072-467b-af81-8ebd090ee6dc",
   "metadata": {},
   "outputs": [],
   "source": []
  }
 ],
 "metadata": {
  "kernelspec": {
   "display_name": "Python 3 (ipykernel)",
   "language": "python",
   "name": "python3"
  },
  "language_info": {
   "name": ""
  }
 },
 "nbformat": 4,
 "nbformat_minor": 5
}
