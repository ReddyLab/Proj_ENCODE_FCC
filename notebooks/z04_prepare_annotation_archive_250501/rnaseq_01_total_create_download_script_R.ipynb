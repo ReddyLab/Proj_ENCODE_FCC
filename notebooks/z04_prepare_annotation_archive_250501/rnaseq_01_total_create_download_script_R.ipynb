{
 "cells": [
  {
   "cell_type": "raw",
   "id": "23e50943-a8a4-4e44-8132-9c300fb512e1",
   "metadata": {},
   "source": [
    "---\n",
    "title: Prepare ENCODE RNA-seq 01\n",
    "subtitle: Generate download script to download the data\n",
    "format:\n",
    "    html:\n",
    "        code-fold:  true\n",
    "        code-tools: true\n",
    "---"
   ]
  },
  {
   "cell_type": "markdown",
   "id": "515b5303-7e3f-4c54-8317-87dbb9d96151",
   "metadata": {},
   "source": [
    "**Set environment**"
   ]
  },
  {
   "cell_type": "code",
   "execution_count": 1,
   "id": "a00a4b22-6ee0-414b-90b9-26945bacf0a6",
   "metadata": {
    "tags": []
   },
   "outputs": [
    {
     "name": "stdout",
     "output_type": "stream",
     "text": [
      "You are working on        Singularity \n",
      "BASE DIRECTORY (FD_BASE): /mount \n",
      "REPO DIRECTORY (FD_REPO): /mount/repo \n",
      "WORK DIRECTORY (FD_WORK): /mount/work \n",
      "DATA DIRECTORY (FD_DATA): /mount/data \n",
      "\n",
      "You are working with      ENCODE FCC \n",
      "PATH OF PROJECT (FD_PRJ): /mount/repo/Proj_ENCODE_FCC \n",
      "PROJECT RESULTS (FD_RES): /mount/repo/Proj_ENCODE_FCC/results \n",
      "PROJECT SCRIPTS (FD_EXE): /mount/repo/Proj_ENCODE_FCC/scripts \n",
      "PROJECT DATA    (FD_DAT): /mount/repo/Proj_ENCODE_FCC/data \n",
      "PROJECT NOTE    (FD_NBK): /mount/repo/Proj_ENCODE_FCC/notebooks \n",
      "PROJECT DOCS    (FD_DOC): /mount/repo/Proj_ENCODE_FCC/docs \n",
      "PROJECT LOG     (FD_LOG): /mount/repo/Proj_ENCODE_FCC/log \n",
      "PROJECT APP     (FD_APP): /mount/repo/Proj_ENCODE_FCC/app \n",
      "PROJECT REF     (FD_REF): /mount/repo/Proj_ENCODE_FCC/references \n",
      "\n"
     ]
    }
   ],
   "source": [
    "suppressMessages(suppressWarnings(source(\"../run_config_project_sing.R\")))\n",
    "show_env()"
   ]
  },
  {
   "cell_type": "markdown",
   "id": "49325969-22b6-4e7f-9cc8-f6b69b04b861",
   "metadata": {},
   "source": [
    "**Set global variable**"
   ]
  },
  {
   "cell_type": "code",
   "execution_count": 2,
   "id": "b9567b45-b5dd-4410-a912-6c89c83f46ae",
   "metadata": {},
   "outputs": [],
   "source": [
    "TXT_FOLDER = \"encode_rnaseq\""
   ]
  },
  {
   "cell_type": "markdown",
   "id": "adb8b081-b578-4840-894e-8cac3a203405",
   "metadata": {
    "tags": []
   },
   "source": [
    "## Import metadata from reference file"
   ]
  },
  {
   "cell_type": "code",
   "execution_count": 3,
   "id": "b1d023a3-eb80-4d14-9a2a-689baf8baa7e",
   "metadata": {},
   "outputs": [
    {
     "data": {
      "text/html": [
       "'ENCODE_K562_hg38_RNAseq.tsv'"
      ],
      "text/latex": [
       "'ENCODE\\_K562\\_hg38\\_RNAseq.tsv'"
      ],
      "text/markdown": [
       "'ENCODE_K562_hg38_RNAseq.tsv'"
      ],
      "text/plain": [
       "[1] \"ENCODE_K562_hg38_RNAseq.tsv\""
      ]
     },
     "metadata": {},
     "output_type": "display_data"
    }
   ],
   "source": [
    "txt_folder = TXT_FOLDER\n",
    "txt_fdiry  = file.path(FD_REF, txt_folder)\n",
    "dir(txt_fdiry)"
   ]
  },
  {
   "cell_type": "code",
   "execution_count": 4,
   "id": "46b79062-580c-42dc-aef7-8264931564f9",
   "metadata": {},
   "outputs": [
    {
     "data": {
      "text/html": [
       "<table>\n",
       " <thead>\n",
       "  <tr>\n",
       "   <th style=\"text-align:left;\"> Assay </th>\n",
       "   <th style=\"text-align:left;\"> Biosample </th>\n",
       "   <th style=\"text-align:left;\"> Index_Experiment </th>\n",
       "   <th style=\"text-align:left;\"> Index_Process </th>\n",
       "   <th style=\"text-align:left;\"> Index_File </th>\n",
       "   <th style=\"text-align:left;\"> File_Type </th>\n",
       "   <th style=\"text-align:left;\"> Output_Type </th>\n",
       "   <th style=\"text-align:left;\"> Genome </th>\n",
       "   <th style=\"text-align:left;\"> Lab </th>\n",
       "  </tr>\n",
       " </thead>\n",
       "<tbody>\n",
       "  <tr>\n",
       "   <td style=\"text-align:left;\"> RNA-seq (total RNA-seq) </td>\n",
       "   <td style=\"text-align:left;\"> K562 </td>\n",
       "   <td style=\"text-align:left;\"> ENCSR615EEK </td>\n",
       "   <td style=\"text-align:left;\"> ENCODE4 v1.2.1 GRCh38 V29 (ENCAN412LMP) processed data </td>\n",
       "   <td style=\"text-align:left;\"> ENCFF421TJX </td>\n",
       "   <td style=\"text-align:left;\"> tsv </td>\n",
       "   <td style=\"text-align:left;\"> gene quantifications </td>\n",
       "   <td style=\"text-align:left;\"> hg38 </td>\n",
       "   <td style=\"text-align:left;\"> Barbara Wold, Caltech </td>\n",
       "  </tr>\n",
       "  <tr>\n",
       "   <td style=\"text-align:left;\"> RNA-seq (total RNA-seq) </td>\n",
       "   <td style=\"text-align:left;\"> K562 </td>\n",
       "   <td style=\"text-align:left;\"> ENCSR615EEK </td>\n",
       "   <td style=\"text-align:left;\"> ENCODE4 v1.2.1 GRCh38 V29 (ENCAN412LMP) processed data </td>\n",
       "   <td style=\"text-align:left;\"> ENCFF585HTZ </td>\n",
       "   <td style=\"text-align:left;\"> bigWig </td>\n",
       "   <td style=\"text-align:left;\"> plus strand signal of unique reads </td>\n",
       "   <td style=\"text-align:left;\"> hg38 </td>\n",
       "   <td style=\"text-align:left;\"> Barbara Wold, Caltech </td>\n",
       "  </tr>\n",
       "  <tr>\n",
       "   <td style=\"text-align:left;\"> RNA-seq (total RNA-seq) </td>\n",
       "   <td style=\"text-align:left;\"> K562 </td>\n",
       "   <td style=\"text-align:left;\"> ENCSR615EEK </td>\n",
       "   <td style=\"text-align:left;\"> ENCODE4 v1.2.1 GRCh38 V29 (ENCAN412LMP) processed data </td>\n",
       "   <td style=\"text-align:left;\"> ENCFF876JOV </td>\n",
       "   <td style=\"text-align:left;\"> bigWig </td>\n",
       "   <td style=\"text-align:left;\"> minus strand signal of unique reads </td>\n",
       "   <td style=\"text-align:left;\"> hg38 </td>\n",
       "   <td style=\"text-align:left;\"> Barbara Wold, Caltech </td>\n",
       "  </tr>\n",
       "</tbody>\n",
       "</table>"
      ]
     },
     "metadata": {},
     "output_type": "display_data"
    }
   ],
   "source": [
    "### set file path\n",
    "txt_folder = TXT_FOLDER\n",
    "txt_fdiry  = file.path(FD_REF, txt_folder)\n",
    "txt_fname = \"ENCODE_K562_hg38_RNAseq.tsv\"\n",
    "txt_fpath = file.path(txt_fdiry, txt_fname)\n",
    "\n",
    "### read table\n",
    "dat = read_tsv(txt_fpath, show_col_types = FALSE)\n",
    "\n",
    "### show and assign\n",
    "dat_metadata = dat\n",
    "fun_display_table(dat)"
   ]
  },
  {
   "cell_type": "markdown",
   "id": "3201550f-f334-4690-a258-66a415174f94",
   "metadata": {},
   "source": [
    "## Generate download commands\n",
    "```\n",
    "wget -O FILE URL\n",
    "```"
   ]
  },
  {
   "cell_type": "code",
   "execution_count": 5,
   "id": "d5ebc65f-7d81-428d-a244-ae54e6f08b87",
   "metadata": {},
   "outputs": [
    {
     "data": {
      "text/html": [
       "<table class=\"dataframe\">\n",
       "<caption>A data.frame: 3 × 5</caption>\n",
       "<thead>\n",
       "\t<tr><th scope=col>File_Type</th><th scope=col>File_Ext1</th><th scope=col>File_Ext2</th><th scope=col>Output_Type</th><th scope=col>Output_Label</th></tr>\n",
       "\t<tr><th scope=col>&lt;chr&gt;</th><th scope=col>&lt;chr&gt;</th><th scope=col>&lt;chr&gt;</th><th scope=col>&lt;chr&gt;</th><th scope=col>&lt;chr&gt;</th></tr>\n",
       "</thead>\n",
       "<tbody>\n",
       "\t<tr><td>tsv   </td><td>tsv</td><td>tsv   </td><td>gene quantifications               </td><td>total           </td></tr>\n",
       "\t<tr><td>bigWig</td><td>bw </td><td>bigWig</td><td>plus strand signal of unique reads </td><td>total.strand_pos</td></tr>\n",
       "\t<tr><td>bigWig</td><td>bw </td><td>bigWig</td><td>minus strand signal of unique reads</td><td>total.strand_neg</td></tr>\n",
       "</tbody>\n",
       "</table>\n"
      ],
      "text/latex": [
       "A data.frame: 3 × 5\n",
       "\\begin{tabular}{lllll}\n",
       " File\\_Type & File\\_Ext1 & File\\_Ext2 & Output\\_Type & Output\\_Label\\\\\n",
       " <chr> & <chr> & <chr> & <chr> & <chr>\\\\\n",
       "\\hline\n",
       "\t tsv    & tsv & tsv    & gene quantifications                & total           \\\\\n",
       "\t bigWig & bw  & bigWig & plus strand signal of unique reads  & total.strand\\_pos\\\\\n",
       "\t bigWig & bw  & bigWig & minus strand signal of unique reads & total.strand\\_neg\\\\\n",
       "\\end{tabular}\n"
      ],
      "text/markdown": [
       "\n",
       "A data.frame: 3 × 5\n",
       "\n",
       "| File_Type &lt;chr&gt; | File_Ext1 &lt;chr&gt; | File_Ext2 &lt;chr&gt; | Output_Type &lt;chr&gt; | Output_Label &lt;chr&gt; |\n",
       "|---|---|---|---|---|\n",
       "| tsv    | tsv | tsv    | gene quantifications                | total            |\n",
       "| bigWig | bw  | bigWig | plus strand signal of unique reads  | total.strand_pos |\n",
       "| bigWig | bw  | bigWig | minus strand signal of unique reads | total.strand_neg |\n",
       "\n"
      ],
      "text/plain": [
       "  File_Type File_Ext1 File_Ext2 Output_Type                        \n",
       "1 tsv       tsv       tsv       gene quantifications               \n",
       "2 bigWig    bw        bigWig    plus strand signal of unique reads \n",
       "3 bigWig    bw        bigWig    minus strand signal of unique reads\n",
       "  Output_Label    \n",
       "1 total           \n",
       "2 total.strand_pos\n",
       "3 total.strand_neg"
      ]
     },
     "metadata": {},
     "output_type": "display_data"
    }
   ],
   "source": [
    "fun_get_file_ext1 = function(txt) {\n",
    "    vec1 = c(\"bed\",    \"bigWig\")\n",
    "    vec2 = c(\"bed.gz\", \"bw\")\n",
    "    res  = fun_str_map_detect(txt, vec1, vec2, .default=txt)\n",
    "    return(res)\n",
    "}\n",
    "\n",
    "fun_get_file_ext2 = function(txt) {\n",
    "    vec1 = c(\"bed\")\n",
    "    vec2 = c(\"bed.gz\")\n",
    "    res  = fun_str_map_detect(txt, vec1, vec2, .default=txt)\n",
    "    return(res)\n",
    "}\n",
    "\n",
    "fun_get_file_label = function(txt){\n",
    "    vec1 = c(\"quantifications\", \"plus strand\", \"minus strand\")\n",
    "    vec2 = c(\"total\", \"total.strand_pos\", \"total.strand_neg\")\n",
    "    res  = fun_str_map_detect(txt, vec1, vec2, .default=txt)\n",
    "    return(res)\n",
    "}\n",
    "\n",
    "dat  = dat_metadata\n",
    "vec1 = dat$File_Type\n",
    "vec2 = dat$Output_Type\n",
    "dat  = data.frame(\n",
    "    File_Type    = vec1,\n",
    "    File_Ext1    = fun_get_file_ext1(vec1),\n",
    "    File_Ext2    = fun_get_file_ext2(vec1),\n",
    "    Output_Type  = vec2,\n",
    "    Output_Label = fun_get_file_label(vec2)\n",
    ")\n",
    "dat"
   ]
  },
  {
   "cell_type": "code",
   "execution_count": 6,
   "id": "4dac3f90-5867-4be6-996a-e539343f2f40",
   "metadata": {},
   "outputs": [
    {
     "data": {
      "text/html": [
       "<table>\n",
       " <thead>\n",
       "  <tr>\n",
       "   <th style=\"text-align:left;\"> #!/bin/bash </th>\n",
       "  </tr>\n",
       " </thead>\n",
       "<tbody>\n",
       "  <tr>\n",
       "   <td style=\"text-align:left;\"> echo -n &quot;&quot; &gt; run_download.log.txt </td>\n",
       "  </tr>\n",
       "  <tr>\n",
       "   <td style=\"text-align:left;\"> wget --append-output=run_download.log.txt -O K562.hg38.ENCSR615EEK.ENCFF421TJX.RNAseq.total.tsv https://www.encodeproject.org/files/ENCFF421TJX/@@download/ENCFF421TJX.tsv </td>\n",
       "  </tr>\n",
       "  <tr>\n",
       "   <td style=\"text-align:left;\"> wget --append-output=run_download.log.txt -O K562.hg38.ENCSR615EEK.ENCFF585HTZ.RNAseq.total.strand_pos.bw https://www.encodeproject.org/files/ENCFF585HTZ/@@download/ENCFF585HTZ.bigWig </td>\n",
       "  </tr>\n",
       "  <tr>\n",
       "   <td style=\"text-align:left;\"> wget --append-output=run_download.log.txt -O K562.hg38.ENCSR615EEK.ENCFF876JOV.RNAseq.total.strand_neg.bw https://www.encodeproject.org/files/ENCFF876JOV/@@download/ENCFF876JOV.bigWig </td>\n",
       "  </tr>\n",
       "</tbody>\n",
       "</table>"
      ]
     },
     "metadata": {},
     "output_type": "display_data"
    }
   ],
   "source": [
    "### init\n",
    "dat = dat_metadata\n",
    "\n",
    "### setup download file name and wget command\n",
    "dat = dat %>%\n",
    "    dplyr::mutate(\n",
    "        File_Ext1  = fun_get_file_ext1(File_Type),\n",
    "        File_Ext2  = fun_get_file_ext2(File_Type),\n",
    "        File_Assay = \"RNAseq\",\n",
    "        File_Label = fun_get_file_label(Output_Type)\n",
    "    ) %>%\n",
    "    dplyr::mutate(\n",
    "        File_Name = paste(\n",
    "            Biosample, \n",
    "            Genome, \n",
    "            Index_Experiment, \n",
    "            Index_File,\n",
    "            File_Assay,\n",
    "            File_Label,\n",
    "            File_Ext1, \n",
    "            sep=\".\")\n",
    "    ) %>%\n",
    "    dplyr::mutate(\n",
    "        File_URL_Download = file.path(\n",
    "            \"https://www.encodeproject.org/files\",\n",
    "            Index_File,\n",
    "            \"@@download\",\n",
    "            paste(Index_File, File_Ext2, sep = \".\")\n",
    "        )\n",
    "    ) %>%\n",
    "    dplyr::mutate(\n",
    "        CMD = paste(\"wget\", \"--append-output=run_download.log.txt\", \"-O\", File_Name, File_URL_Download)\n",
    "    )\n",
    "\n",
    "### add Shebang and initial commands\n",
    "#dat = dat %>% dplyr::select(Assay, Biosample, Index_Experiment, Index_File, File_Name, CMD)\n",
    "dat = dat %>% dplyr::select(CMD)\n",
    "dat = rbind('echo -n \"\" > run_download.log.txt', dat)\n",
    "colnames(dat) = \"#!/bin/bash\"\n",
    "\n",
    "### assign and show\n",
    "dat_cmd = dat\n",
    "fun_display_table(dat)"
   ]
  },
  {
   "cell_type": "markdown",
   "id": "c6639692-b303-4cc3-a9fc-5b7e204c3576",
   "metadata": {},
   "source": [
    "## Save to script\n",
    "Save the command lines for each row into a bash script"
   ]
  },
  {
   "cell_type": "code",
   "execution_count": 7,
   "id": "3695da73-61d2-42d5-b5f8-d2788094319c",
   "metadata": {},
   "outputs": [],
   "source": [
    "### set output path\n",
    "txt_folder = TXT_FOLDER\n",
    "txt_fdiry  = file.path(FD_DAT, \"external\", txt_folder)\n",
    "txt_fname  = \"run_download.sh\"\n",
    "txt_fpath  = file.path(txt_fdiry, txt_fname)\n",
    "\n",
    "### save table\n",
    "dir.create(txt_fdiry, showWarnings = FALSE)\n",
    "dat = dat_cmd\n",
    "write_tsv(dat, txt_fpath)  "
   ]
  },
  {
   "cell_type": "code",
   "execution_count": null,
   "id": "b4e5af87-0509-4180-8bd1-b5f60cfb6851",
   "metadata": {},
   "outputs": [],
   "source": []
  }
 ],
 "metadata": {
  "kernelspec": {
   "display_name": "R",
   "language": "R",
   "name": "ir"
  },
  "language_info": {
   "codemirror_mode": "r",
   "file_extension": ".r",
   "mimetype": "text/x-r-source",
   "name": "R",
   "pygments_lexer": "r",
   "version": "4.4.2"
  }
 },
 "nbformat": 4,
 "nbformat_minor": 5
}
