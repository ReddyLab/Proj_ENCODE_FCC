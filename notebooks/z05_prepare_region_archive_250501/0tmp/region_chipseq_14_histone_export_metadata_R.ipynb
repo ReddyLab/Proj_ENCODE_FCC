{
 "cells": [
  {
   "cell_type": "raw",
   "id": "824c5b24-4b6d-4196-b3a6-b082d09d1804",
   "metadata": {},
   "source": [
    "---\n",
    "title: Prepare ENCODE ChIP-seq 14 (Histone)\n",
    "subtitle: Create metadata\n",
    "format:\n",
    "    html:\n",
    "        code-fold:  true\n",
    "        code-tools: true\n",
    "---"
   ]
  },
  {
   "cell_type": "markdown",
   "id": "be108294-8fc4-49fe-9bbf-52a6d94689b3",
   "metadata": {},
   "source": [
    "**Set environment**"
   ]
  },
  {
   "cell_type": "code",
   "execution_count": 1,
   "id": "7bf0c251-1c12-4280-9905-6651347fdee8",
   "metadata": {},
   "outputs": [
    {
     "name": "stdout",
     "output_type": "stream",
     "text": [
      "You are working on        Singularity \n",
      "BASE DIRECTORY (FD_BASE): /mount \n",
      "REPO DIRECTORY (FD_REPO): /mount/repo \n",
      "WORK DIRECTORY (FD_WORK): /mount/work \n",
      "DATA DIRECTORY (FD_DATA): /mount/data \n",
      "\n",
      "You are working with      ENCODE FCC \n",
      "PATH OF PROJECT (FD_PRJ): /mount/repo/Proj_ENCODE_FCC \n",
      "PROJECT RESULTS (FD_RES): /mount/repo/Proj_ENCODE_FCC/results \n",
      "PROJECT SCRIPTS (FD_EXE): /mount/repo/Proj_ENCODE_FCC/scripts \n",
      "PROJECT DATA    (FD_DAT): /mount/repo/Proj_ENCODE_FCC/data \n",
      "PROJECT NOTE    (FD_NBK): /mount/repo/Proj_ENCODE_FCC/notebooks \n",
      "PROJECT DOCS    (FD_DOC): /mount/repo/Proj_ENCODE_FCC/docs \n",
      "PROJECT LOG     (FD_LOG): /mount/repo/Proj_ENCODE_FCC/log \n",
      "PROJECT APP     (FD_APP): /mount/repo/Proj_ENCODE_FCC/app \n",
      "PROJECT REF     (FD_REF): /mount/repo/Proj_ENCODE_FCC/references \n",
      "\n"
     ]
    }
   ],
   "source": [
    "suppressMessages(suppressWarnings(source(\"../run_config_project_sing.R\")))\n",
    "show_env()"
   ]
  },
  {
   "cell_type": "markdown",
   "id": "664a4244-1f73-4f75-b9c8-196eb3b89ac0",
   "metadata": {},
   "source": [
    "**Set global variables**"
   ]
  },
  {
   "cell_type": "code",
   "execution_count": 2,
   "id": "4bb3a19a-d477-4b84-81f7-fa6cde066c75",
   "metadata": {},
   "outputs": [],
   "source": [
    "TXT_REGION_FOLDER = \"encode_chipseq_histone\""
   ]
  },
  {
   "cell_type": "markdown",
   "id": "3f0c9816-a609-40dc-b744-09090960fac6",
   "metadata": {},
   "source": [
    "## Define column description\n",
    "The peak file is in narrowPeak format, which is a standard six field bed with four additional fields (BED6+4 format)"
   ]
  },
  {
   "cell_type": "code",
   "execution_count": 3,
   "id": "1a7b3434-9f40-4fdf-9fea-7d4f0f60a383",
   "metadata": {},
   "outputs": [
    {
     "data": {
      "text/html": [
       "<table>\n",
       " <thead>\n",
       "  <tr>\n",
       "   <th style=\"text-align:left;\"> Name </th>\n",
       "   <th style=\"text-align:left;\"> Note </th>\n",
       "  </tr>\n",
       " </thead>\n",
       "<tbody>\n",
       "  <tr>\n",
       "   <td style=\"text-align:left;\"> Chrom </td>\n",
       "   <td style=\"text-align:left;\"> Name of the chromosome </td>\n",
       "  </tr>\n",
       "  <tr>\n",
       "   <td style=\"text-align:left;\"> ChromStart </td>\n",
       "   <td style=\"text-align:left;\"> The starting position of the feature in the chromosome </td>\n",
       "  </tr>\n",
       "  <tr>\n",
       "   <td style=\"text-align:left;\"> ChromEnd </td>\n",
       "   <td style=\"text-align:left;\"> The ending position of the feature in the chromosome </td>\n",
       "  </tr>\n",
       "  <tr>\n",
       "   <td style=\"text-align:left;\"> Name </td>\n",
       "   <td style=\"text-align:left;\"> Name given to a region; Use '.' if no name is assigned. </td>\n",
       "  </tr>\n",
       "  <tr>\n",
       "   <td style=\"text-align:left;\"> Score </td>\n",
       "   <td style=\"text-align:left;\"> Indicates how dark the peak will be displayed in the browser (0-1000). </td>\n",
       "  </tr>\n",
       "  <tr>\n",
       "   <td style=\"text-align:left;\"> Strand </td>\n",
       "   <td style=\"text-align:left;\"> +/- to denote strand or orientation. Use '.' if no orientation is assigned. </td>\n",
       "  </tr>\n",
       "  <tr>\n",
       "   <td style=\"text-align:left;\"> SignalValue </td>\n",
       "   <td style=\"text-align:left;\"> Measurement of overall (usually, average) enrichment for the region. </td>\n",
       "  </tr>\n",
       "  <tr>\n",
       "   <td style=\"text-align:left;\"> PValue </td>\n",
       "   <td style=\"text-align:left;\"> Measurement of statistical significance (-log10). Use -1 if no pValue is assigned. </td>\n",
       "  </tr>\n",
       "  <tr>\n",
       "   <td style=\"text-align:left;\"> QValue </td>\n",
       "   <td style=\"text-align:left;\"> Measurement of statistical significance using false discovery rate (-log10). Use -1 if no qValue is assigned. </td>\n",
       "  </tr>\n",
       "  <tr>\n",
       "   <td style=\"text-align:left;\"> Peak </td>\n",
       "   <td style=\"text-align:left;\"> Point-source called for this peak; 0-based offset from chromStart. Use -1 if no point-source called. </td>\n",
       "  </tr>\n",
       "</tbody>\n",
       "</table>"
      ]
     },
     "metadata": {},
     "output_type": "display_data"
    }
   ],
   "source": [
    "### ENCODE narrowPeak: Narrow (or Point-Source) Peaks format\n",
    "dat = tribble(\n",
    "    ~Name,        ~Note,\n",
    "    \"Chrom\",      \"Name of the chromosome\",\n",
    "    \"ChromStart\", \"The starting position of the feature in the chromosome\",\n",
    "    \"ChromEnd\",   \"The ending position of the feature in the chromosome\",\n",
    "    \"Name\",       \"Name given to a region; Use '.' if no name is assigned.\",\n",
    "    \"Score\",      \"Indicates how dark the peak will be displayed in the browser (0-1000).\",\n",
    "    \"Strand\",     \"+/- to denote strand or orientation. Use '.' if no orientation is assigned.\",\n",
    "    \"SignalValue\",\"Measurement of overall (usually, average) enrichment for the region.\",\n",
    "    \"PValue\",     \"Measurement of statistical significance (-log10). Use -1 if no pValue is assigned.\",\n",
    "    \"QValue\",     \"Measurement of statistical significance using false discovery rate (-log10). Use -1 if no qValue is assigned.\",\n",
    "    \"Peak\",       \"Point-source called for this peak; 0-based offset from chromStart. Use -1 if no point-source called.\"\n",
    "    \n",
    ")\n",
    "\n",
    "### assign and show\n",
    "dat_cnames = dat\n",
    "fun_display_table(dat)"
   ]
  },
  {
   "cell_type": "markdown",
   "id": "a3c6f709-54b0-4c20-ae05-8c18cb7c1f32",
   "metadata": {},
   "source": [
    "## Define file labeling"
   ]
  },
  {
   "cell_type": "code",
   "execution_count": 4,
   "id": "edd8e09e-cd0c-4468-b3fc-d7746cf44d95",
   "metadata": {},
   "outputs": [
    {
     "data": {
      "text/html": [
       "<table>\n",
       " <thead>\n",
       "  <tr>\n",
       "   <th style=\"text-align:left;\"> Folder </th>\n",
       "   <th style=\"text-align:left;\"> FName </th>\n",
       "   <th style=\"text-align:left;\"> Label </th>\n",
       "  </tr>\n",
       " </thead>\n",
       "<tbody>\n",
       "  <tr>\n",
       "   <td style=\"text-align:left;\"> encode_chipseq_histone </td>\n",
       "   <td style=\"text-align:left;\"> K562.hg38.ENCSR000AKP.ENCFF544LXB.ChIPseq.H3K27ac.bed.gz </td>\n",
       "   <td style=\"text-align:left;\"> chipseq_H3K27ac_ENCFF544LXB </td>\n",
       "  </tr>\n",
       "  <tr>\n",
       "   <td style=\"text-align:left;\"> encode_chipseq_histone </td>\n",
       "   <td style=\"text-align:left;\"> K562.hg38.ENCSR000AKQ.ENCFF323WOT.ChIPseq.H3K27me3.bed.gz </td>\n",
       "   <td style=\"text-align:left;\"> chipseq_H3K27me3_ENCFF323WOT </td>\n",
       "  </tr>\n",
       "  <tr>\n",
       "   <td style=\"text-align:left;\"> encode_chipseq_histone </td>\n",
       "   <td style=\"text-align:left;\"> K562.hg38.ENCSR000AKR.ENCFF193ERO.ChIPseq.H3K36me3.bed.gz </td>\n",
       "   <td style=\"text-align:left;\"> chipseq_H3K36me3_ENCFF193ERO </td>\n",
       "  </tr>\n",
       "  <tr>\n",
       "   <td style=\"text-align:left;\"> encode_chipseq_histone </td>\n",
       "   <td style=\"text-align:left;\"> K562.hg38.ENCSR000AKS.ENCFF135ZLM.ChIPseq.H3K4me1.bed.gz </td>\n",
       "   <td style=\"text-align:left;\"> chipseq_H3K4me1_ENCFF135ZLM </td>\n",
       "  </tr>\n",
       "  <tr>\n",
       "   <td style=\"text-align:left;\"> encode_chipseq_histone </td>\n",
       "   <td style=\"text-align:left;\"> K562.hg38.ENCSR000AKT.ENCFF749KLQ.ChIPseq.H3K4me2.bed.gz </td>\n",
       "   <td style=\"text-align:left;\"> chipseq_H3K4me2_ENCFF749KLQ </td>\n",
       "  </tr>\n",
       "  <tr>\n",
       "   <td style=\"text-align:left;\"> encode_chipseq_histone </td>\n",
       "   <td style=\"text-align:left;\"> K562.hg38.ENCSR000AKU.ENCFF689QIJ.ChIPseq.H3K4me3.bed.gz </td>\n",
       "   <td style=\"text-align:left;\"> chipseq_H3K4me3_ENCFF689QIJ </td>\n",
       "  </tr>\n",
       "  <tr>\n",
       "   <td style=\"text-align:left;\"> encode_chipseq_histone </td>\n",
       "   <td style=\"text-align:left;\"> K562.hg38.ENCSR000AKV.ENCFF891CHI.ChIPseq.H3K9ac.bed.gz </td>\n",
       "   <td style=\"text-align:left;\"> chipseq_H3K9ac_ENCFF891CHI </td>\n",
       "  </tr>\n",
       "  <tr>\n",
       "   <td style=\"text-align:left;\"> encode_chipseq_histone </td>\n",
       "   <td style=\"text-align:left;\"> K562.hg38.ENCSR000AKW.ENCFF462AVD.ChIPseq.H3K9me1.bed.gz </td>\n",
       "   <td style=\"text-align:left;\"> chipseq_H3K9me1_ENCFF462AVD </td>\n",
       "  </tr>\n",
       "  <tr>\n",
       "   <td style=\"text-align:left;\"> encode_chipseq_histone </td>\n",
       "   <td style=\"text-align:left;\"> K562.hg38.ENCSR000AKX.ENCFF909RKY.ChIPseq.H4K20me1.bed.gz </td>\n",
       "   <td style=\"text-align:left;\"> chipseq_H4K20me1_ENCFF909RKY </td>\n",
       "  </tr>\n",
       "  <tr>\n",
       "   <td style=\"text-align:left;\"> encode_chipseq_histone </td>\n",
       "   <td style=\"text-align:left;\"> K562.hg38.ENCSR000APC.ENCFF213OTI.ChIPseq.H2AFZ.bed.gz </td>\n",
       "   <td style=\"text-align:left;\"> chipseq_H2AFZ_ENCFF213OTI </td>\n",
       "  </tr>\n",
       "  <tr>\n",
       "   <td style=\"text-align:left;\"> encode_chipseq_histone </td>\n",
       "   <td style=\"text-align:left;\"> K562.hg38.ENCSR000APD.ENCFF209OQD.ChIPseq.H3K79me2.bed.gz </td>\n",
       "   <td style=\"text-align:left;\"> chipseq_H3K79me2_ENCFF209OQD </td>\n",
       "  </tr>\n",
       "  <tr>\n",
       "   <td style=\"text-align:left;\"> encode_chipseq_histone </td>\n",
       "   <td style=\"text-align:left;\"> K562.hg38.ENCSR000APE.ENCFF963GZJ.ChIPseq.H3K9me3.bed.gz </td>\n",
       "   <td style=\"text-align:left;\"> chipseq_H3K9me3_ENCFF963GZJ </td>\n",
       "  </tr>\n",
       "  <tr>\n",
       "   <td style=\"text-align:left;\"> encode_chipseq_histone </td>\n",
       "   <td style=\"text-align:left;\"> K562.hg38.ENCSR000DWB.ENCFF561OUZ.ChIPseq.H3K36me3.bed.gz </td>\n",
       "   <td style=\"text-align:left;\"> chipseq_H3K36me3_ENCFF561OUZ </td>\n",
       "  </tr>\n",
       "  <tr>\n",
       "   <td style=\"text-align:left;\"> encode_chipseq_histone </td>\n",
       "   <td style=\"text-align:left;\"> K562.hg38.ENCSR000DWD.ENCFF706WUF.ChIPseq.H3K4me3.bed.gz </td>\n",
       "   <td style=\"text-align:left;\"> chipseq_H3K4me3_ENCFF706WUF </td>\n",
       "  </tr>\n",
       "  <tr>\n",
       "   <td style=\"text-align:left;\"> encode_chipseq_histone </td>\n",
       "   <td style=\"text-align:left;\"> K562.hg38.ENCSR000EVZ.ENCFF148UQI.ChIPseq.H3K9ac.bed.gz </td>\n",
       "   <td style=\"text-align:left;\"> chipseq_H3K9ac_ENCFF148UQI </td>\n",
       "  </tr>\n",
       "  <tr>\n",
       "   <td style=\"text-align:left;\"> encode_chipseq_histone </td>\n",
       "   <td style=\"text-align:left;\"> K562.hg38.ENCSR000EWA.ENCFF122CSI.ChIPseq.H3K4me3.bed.gz </td>\n",
       "   <td style=\"text-align:left;\"> chipseq_H3K4me3_ENCFF122CSI </td>\n",
       "  </tr>\n",
       "  <tr>\n",
       "   <td style=\"text-align:left;\"> encode_chipseq_histone </td>\n",
       "   <td style=\"text-align:left;\"> K562.hg38.ENCSR000EWB.ENCFF801AHF.ChIPseq.H3K27me3.bed.gz </td>\n",
       "   <td style=\"text-align:left;\"> chipseq_H3K27me3_ENCFF801AHF </td>\n",
       "  </tr>\n",
       "  <tr>\n",
       "   <td style=\"text-align:left;\"> encode_chipseq_histone </td>\n",
       "   <td style=\"text-align:left;\"> K562.hg38.ENCSR000EWC.ENCFF540NGG.ChIPseq.H3K4me1.bed.gz </td>\n",
       "   <td style=\"text-align:left;\"> chipseq_H3K4me1_ENCFF540NGG </td>\n",
       "  </tr>\n",
       "  <tr>\n",
       "   <td style=\"text-align:left;\"> encode_chipseq_histone </td>\n",
       "   <td style=\"text-align:left;\"> K562.hg38.ENCSR668LDD.ENCFF885FQN.ChIPseq.H3K4me3.bed.gz </td>\n",
       "   <td style=\"text-align:left;\"> chipseq_H3K4me3_ENCFF885FQN </td>\n",
       "  </tr>\n",
       "</tbody>\n",
       "</table>"
      ]
     },
     "metadata": {},
     "output_type": "display_data"
    }
   ],
   "source": [
    "### set directory\n",
    "txt_folder = TXT_REGION_FOLDER\n",
    "txt_fdiry  = file.path(FD_RES, \"region\", txt_folder)\n",
    "txt_fglob  = file.path(txt_fdiry, \"*bed*\")\n",
    "\n",
    "### get file names\n",
    "vec_txt_fpath = Sys.glob(txt_fglob)\n",
    "vec_txt_fname = basename(vec_txt_fpath)\n",
    "\n",
    "### init info table\n",
    "dat = data.frame(\n",
    "    \"Folder\" = txt_folder,\n",
    "    \"FName\"  = vec_txt_fname\n",
    ")\n",
    "\n",
    "### arrange table\n",
    "dat = dat %>% tidyr::separate(\n",
    "        FName, \n",
    "        c(\"Biosample\", \"Genome\", \"Index_Experiment\", \"Index_File\", \"Assay\", \"Target\", \"File_Type\", \"File_Ext\"),\n",
    "        sep = \"\\\\.\",\n",
    "        remove = FALSE\n",
    "    ) %>%\n",
    "    dplyr::mutate(Label = paste(tolower(Assay), Target, Index_File, sep=\"_\")) %>%\n",
    "    dplyr::select(Folder, FName, Label) \n",
    "\n",
    "### assign and show\n",
    "dat_region_label = dat\n",
    "fun_display_table(dat)"
   ]
  },
  {
   "cell_type": "markdown",
   "id": "815b0426-3474-4fe6-bf15-6b219dd7e8be",
   "metadata": {},
   "source": [
    "## Save results"
   ]
  },
  {
   "cell_type": "code",
   "execution_count": 5,
   "id": "1c3b9ada-fc96-44e9-a295-e71a00fa446a",
   "metadata": {},
   "outputs": [],
   "source": [
    "txt_folder = TXT_REGION_FOLDER\n",
    "txt_fdiry  = file.path(FD_RES, \"region\", txt_folder, \"summary\")\n",
    "txt_fname  = \"description.tsv\"\n",
    "txt_fpath  = file.path(txt_fdiry, txt_fname)\n",
    "\n",
    "dir.create(txt_fdiry, showWarnings = FALSE)\n",
    "dat = dat_cnames\n",
    "write_tsv(dat, txt_fpath)"
   ]
  },
  {
   "cell_type": "code",
   "execution_count": 6,
   "id": "e3926cef-86cb-4783-b7d2-07958e63b583",
   "metadata": {},
   "outputs": [],
   "source": [
    "txt_folder = TXT_REGION_FOLDER\n",
    "txt_fdiry  = file.path(FD_RES, \"region\", txt_folder, \"summary\")\n",
    "txt_fname  = \"metadata.label.tsv\"\n",
    "txt_fpath  = file.path(txt_fdiry, txt_fname)\n",
    "\n",
    "dir.create(txt_fdiry, showWarnings = FALSE)\n",
    "dat = dat_region_label\n",
    "write_tsv(dat, txt_fpath)"
   ]
  },
  {
   "cell_type": "code",
   "execution_count": null,
   "id": "44f56e76-f527-40cd-a680-8ff424fa5020",
   "metadata": {},
   "outputs": [],
   "source": []
  }
 ],
 "metadata": {
  "kernelspec": {
   "display_name": "R (alex_py3)",
   "language": "R",
   "name": "ir_alex_py3"
  },
  "language_info": {
   "codemirror_mode": "r",
   "file_extension": ".r",
   "mimetype": "text/x-r-source",
   "name": "R",
   "pygments_lexer": "r",
   "version": "4.4.0"
  }
 },
 "nbformat": 4,
 "nbformat_minor": 5
}
