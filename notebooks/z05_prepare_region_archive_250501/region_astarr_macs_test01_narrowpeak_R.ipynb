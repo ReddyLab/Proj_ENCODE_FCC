{
 "cells": [
  {
   "cell_type": "raw",
   "id": "90348af3-0f3c-44d9-a2e9-d8a2294a0850",
   "metadata": {},
   "source": [
    "---\n",
    "title: Prepare CRISPRi-Growth significant region 02\n",
    "subtitle: Explore regions\n",
    "format:\n",
    "    html:\n",
    "        code-fold:  true\n",
    "        code-tools: true\n",
    "---"
   ]
  },
  {
   "cell_type": "markdown",
   "id": "557e56ce-ca69-42c5-9214-a32111e5bae7",
   "metadata": {},
   "source": [
    "**Set environment**"
   ]
  },
  {
   "cell_type": "code",
   "execution_count": 1,
   "id": "6cbc1923-3da8-4a8f-b982-afb97aa8ccc6",
   "metadata": {},
   "outputs": [
    {
     "name": "stdout",
     "output_type": "stream",
     "text": [
      "You are working on        Singularity: singularity_proj_encode_fcc \n",
      "BASE DIRECTORY (FD_BASE): /data/reddylab/Kuei \n",
      "REPO DIRECTORY (FD_REPO): /data/reddylab/Kuei/repo \n",
      "WORK DIRECTORY (FD_WORK): /data/reddylab/Kuei/work \n",
      "DATA DIRECTORY (FD_DATA): /data/reddylab/Kuei/data \n",
      "\n",
      "You are working with      ENCODE FCC \n",
      "PATH OF PROJECT (FD_PRJ): /data/reddylab/Kuei/repo/Proj_ENCODE_FCC \n",
      "PROJECT RESULTS (FD_RES): /data/reddylab/Kuei/repo/Proj_ENCODE_FCC/results \n",
      "PROJECT SCRIPTS (FD_EXE): /data/reddylab/Kuei/repo/Proj_ENCODE_FCC/scripts \n",
      "PROJECT DATA    (FD_DAT): /data/reddylab/Kuei/repo/Proj_ENCODE_FCC/data \n",
      "PROJECT NOTE    (FD_NBK): /data/reddylab/Kuei/repo/Proj_ENCODE_FCC/notebooks \n",
      "PROJECT DOCS    (FD_DOC): /data/reddylab/Kuei/repo/Proj_ENCODE_FCC/docs \n",
      "PROJECT LOG     (FD_LOG): /data/reddylab/Kuei/repo/Proj_ENCODE_FCC/log \n",
      "PROJECT REF     (FD_REF): /data/reddylab/Kuei/repo/Proj_ENCODE_FCC/references \n",
      "\n"
     ]
    }
   ],
   "source": [
    "suppressMessages(suppressWarnings(source(\"../run_config_project_sing.R\")))\n",
    "show_env()"
   ]
  },
  {
   "cell_type": "markdown",
   "id": "8ab84cef-f607-4b67-8d1f-4e5ada475c71",
   "metadata": {},
   "source": [
    "## Prepare data"
   ]
  },
  {
   "cell_type": "code",
   "execution_count": 14,
   "id": "82c08b77-d2cf-484f-b122-84f73bd2e7fc",
   "metadata": {},
   "outputs": [],
   "source": [
    "TXT_FOLDER_REGION = \"fcc_astarr_macs_narrowpeak\""
   ]
  },
  {
   "cell_type": "code",
   "execution_count": 2,
   "id": "8de46912-cc7f-4e4e-9d1d-dea3ac56c544",
   "metadata": {},
   "outputs": [
    {
     "name": "stdout",
     "output_type": "stream",
     "text": [
      "CRISPRi_FlowFISH_K562_Riley_JinWoo \n",
      "CRISPRi_Growth_K562_Gersbach_Alex \n",
      "fcc_astarr_csaw \n",
      "fcc_enhancer_Junke_zscore_240415 \n",
      "fcc_enhancer_Junke_zscore_240513_astarr_filter \n",
      "fcc_enhancer_Junke_zscore_240611 \n",
      "fcc_trackhub_JinWoo \n",
      "MPRA_Lenti_K562_Nadav_Vikram_230621 \n",
      "MPRA_Tiling_K562_Tewhey_Hannah \n",
      "Readmd.md \n",
      "STARR_ATAC_K562_Reddy_KS274_240311 \n",
      "STARR_ATAC_K562_Reddy_KS91_210401 \n",
      "STARR_WHG_K562_Reddy_A001_Alex \n",
      "STARR_WHG_K562_Reddy_A001_Kari \n",
      "TF_modules_Shannon \n"
     ]
    }
   ],
   "source": [
    "txt_fdiry = file.path(FD_DAT, \"processed\")\n",
    "\n",
    "vec = dir(txt_fdiry)\n",
    "for (txt in vec){\n",
    "    cat(txt, \"\\n\")\n",
    "}"
   ]
  },
  {
   "cell_type": "code",
   "execution_count": 3,
   "id": "294dc722-c961-4923-a402-79abd6f37f14",
   "metadata": {},
   "outputs": [
    {
     "name": "stdout",
     "output_type": "stream",
     "text": [
      "KS91_K562_hg38_ASTARRseq_Input_rep1.masked.dups_marked_peaks.narrowPeak \n",
      "KS91_K562_hg38_ASTARRseq_Input_rep2.masked.dups_marked_peaks.narrowPeak \n",
      "KS91_K562_hg38_ASTARRseq_Input_rep3.masked.dups_marked_peaks.narrowPeak \n",
      "KS91_K562_hg38_ASTARRseq_Input_rep4.masked.dups_marked_peaks.narrowPeak \n",
      "KS91_K562_hg38_ASTARRseq_Input_rep5.masked.dups_marked_peaks.narrowPeak \n",
      "KS91_K562_hg38_ASTARRseq_Input_rep6.masked.dups_marked_peaks.narrowPeak \n",
      "KS91_K562_hg38_ASTARRseq_Input.all_reps.masked.union_narrowPeak.q5.bed \n",
      "KS91_K562_hg38_ASTARRseq_Input.q5.in_all.max_overlaps.bed \n"
     ]
    }
   ],
   "source": [
    "txt_fdiry = file.path(\n",
    "    FD_DAT, \n",
    "    \"processed\", \n",
    "    \"STARR_ATAC_K562_Reddy_KS91_210401\",\n",
    "    \"peaks\"\n",
    ")\n",
    "\n",
    "vec = dir(txt_fdiry)\n",
    "for (txt in vec){\n",
    "    cat(txt, \"\\n\")\n",
    "}"
   ]
  },
  {
   "cell_type": "code",
   "execution_count": 4,
   "id": "0d79a443-7275-45ef-bb30-e3eb274904f7",
   "metadata": {},
   "outputs": [
    {
     "name": "stdout",
     "output_type": "stream",
     "text": [
      "KS91_K562_hg38_ASTARRseq_Input_rep1.masked.dups_marked_peaks.narrowPeak \n",
      "KS91_K562_hg38_ASTARRseq_Input_rep2.masked.dups_marked_peaks.narrowPeak \n",
      "KS91_K562_hg38_ASTARRseq_Input_rep3.masked.dups_marked_peaks.narrowPeak \n",
      "KS91_K562_hg38_ASTARRseq_Input_rep4.masked.dups_marked_peaks.narrowPeak \n",
      "KS91_K562_hg38_ASTARRseq_Input_rep5.masked.dups_marked_peaks.narrowPeak \n",
      "KS91_K562_hg38_ASTARRseq_Input_rep6.masked.dups_marked_peaks.narrowPeak \n"
     ]
    }
   ],
   "source": [
    "txt_fdiry = file.path(\n",
    "    FD_DAT, \n",
    "    \"processed\", \n",
    "    \"STARR_ATAC_K562_Reddy_KS91_210401\",\n",
    "    \"peaks\"\n",
    ")\n",
    "txt_fname = \"*narrowPeak\"\n",
    "txt_fglob = file.path(txt_fdiry, txt_fname)\n",
    "\n",
    "vec_txt_fpath = Sys.glob(txt_fglob)\n",
    "vec_txt_fname = basename(vec_txt_fpath)\n",
    "\n",
    "vec = vec_txt_fname\n",
    "for (txt in vec){\n",
    "    cat(txt, \"\\n\")\n",
    "}"
   ]
  },
  {
   "cell_type": "markdown",
   "id": "2a0cdfb0-3c15-45f2-9ae5-a34256926302",
   "metadata": {},
   "source": [
    "## Import data"
   ]
  },
  {
   "cell_type": "code",
   "execution_count": 5,
   "id": "40af44e9-2daf-4fe9-9081-34b11d92a8e3",
   "metadata": {},
   "outputs": [],
   "source": [
    "vec_txt_cname = c(\n",
    "    \"Chrom\",\n",
    "    \"ChromStart\",\n",
    "    \"ChromEnd\",\n",
    "    \"Name\",\n",
    "    \"Score\",\n",
    "    \"Strand\",\n",
    "    \"SignalValue\",\n",
    "    \"PValue\",\n",
    "    \"QValue\",\n",
    "    \"Peak\"\n",
    ")\n",
    "\n",
    "lst = lapply(vec_txt_fpath, function(txt_fpath){\n",
    "    dat = read_tsv(txt_fpath, col_names = vec_txt_cname, show_col_types = FALSE)\n",
    "    return(dat)\n",
    "})\n",
    "names(lst) = paste0(\"input.rep\", 1:6)\n",
    "lst_dat_astarr_input_macs = lst"
   ]
  },
  {
   "cell_type": "code",
   "execution_count": 6,
   "id": "ce58c870-3919-43d4-9bf5-618adad80f89",
   "metadata": {},
   "outputs": [
    {
     "data": {
      "text/html": [
       "<table>\n",
       " <thead>\n",
       "  <tr>\n",
       "   <th style=\"text-align:left;\"> Chrom </th>\n",
       "   <th style=\"text-align:right;\"> ChromStart </th>\n",
       "   <th style=\"text-align:right;\"> ChromEnd </th>\n",
       "   <th style=\"text-align:left;\"> Name </th>\n",
       "   <th style=\"text-align:right;\"> Score </th>\n",
       "   <th style=\"text-align:left;\"> Strand </th>\n",
       "   <th style=\"text-align:right;\"> SignalValue </th>\n",
       "   <th style=\"text-align:right;\"> PValue </th>\n",
       "   <th style=\"text-align:right;\"> QValue </th>\n",
       "   <th style=\"text-align:right;\"> Peak </th>\n",
       "  </tr>\n",
       " </thead>\n",
       "<tbody>\n",
       "  <tr>\n",
       "   <td style=\"text-align:left;\"> chr1 </td>\n",
       "   <td style=\"text-align:right;\"> 10021 </td>\n",
       "   <td style=\"text-align:right;\"> 10430 </td>\n",
       "   <td style=\"text-align:left;\"> /data/reddylab/Alex/encode4_duke//processing/atac_seq/210401_KS91_K562ASTARR_NovaSeq.hg38-pe-blacklist-removal//KS91_K562_hg38_ASTARRseq_Input_rep1.masked.dups_marked_peak_1 </td>\n",
       "   <td style=\"text-align:right;\"> 254 </td>\n",
       "   <td style=\"text-align:left;\"> . </td>\n",
       "   <td style=\"text-align:right;\"> 3.43469 </td>\n",
       "   <td style=\"text-align:right;\"> 27.4435 </td>\n",
       "   <td style=\"text-align:right;\"> 25.4524 </td>\n",
       "   <td style=\"text-align:right;\"> 96 </td>\n",
       "  </tr>\n",
       "  <tr>\n",
       "   <td style=\"text-align:left;\"> chr1 </td>\n",
       "   <td style=\"text-align:right;\"> 14258 </td>\n",
       "   <td style=\"text-align:right;\"> 14640 </td>\n",
       "   <td style=\"text-align:left;\"> /data/reddylab/Alex/encode4_duke//processing/atac_seq/210401_KS91_K562ASTARR_NovaSeq.hg38-pe-blacklist-removal//KS91_K562_hg38_ASTARRseq_Input_rep1.masked.dups_marked_peak_2 </td>\n",
       "   <td style=\"text-align:right;\"> 243 </td>\n",
       "   <td style=\"text-align:left;\"> . </td>\n",
       "   <td style=\"text-align:right;\"> 3.37224 </td>\n",
       "   <td style=\"text-align:right;\"> 26.3451 </td>\n",
       "   <td style=\"text-align:right;\"> 24.3633 </td>\n",
       "   <td style=\"text-align:right;\"> 204 </td>\n",
       "  </tr>\n",
       "  <tr>\n",
       "   <td style=\"text-align:left;\"> chr1 </td>\n",
       "   <td style=\"text-align:right;\"> 16024 </td>\n",
       "   <td style=\"text-align:right;\"> 16338 </td>\n",
       "   <td style=\"text-align:left;\"> /data/reddylab/Alex/encode4_duke//processing/atac_seq/210401_KS91_K562ASTARR_NovaSeq.hg38-pe-blacklist-removal//KS91_K562_hg38_ASTARRseq_Input_rep1.masked.dups_marked_peak_3 </td>\n",
       "   <td style=\"text-align:right;\"> 211 </td>\n",
       "   <td style=\"text-align:left;\"> . </td>\n",
       "   <td style=\"text-align:right;\"> 3.18489 </td>\n",
       "   <td style=\"text-align:right;\"> 23.1462 </td>\n",
       "   <td style=\"text-align:right;\"> 21.1944 </td>\n",
       "   <td style=\"text-align:right;\"> 218 </td>\n",
       "  </tr>\n",
       "</tbody>\n",
       "</table>"
      ]
     },
     "metadata": {},
     "output_type": "display_data"
    }
   ],
   "source": [
    "dat = lst[[1]]\n",
    "fun_display_table(head(dat, 3))"
   ]
  },
  {
   "cell_type": "markdown",
   "id": "a8d3fe17-06d8-4186-83fc-cfa1f0a9755f",
   "metadata": {},
   "source": [
    "## Arrange region"
   ]
  },
  {
   "cell_type": "code",
   "execution_count": 7,
   "id": "aacffcc6-c58a-43f1-931c-bef717c97b7a",
   "metadata": {},
   "outputs": [
    {
     "name": "stdout",
     "output_type": "stream",
     "text": [
      "[1] \"input.rep1\" \"input.rep2\" \"input.rep3\" \"input.rep4\" \"input.rep5\"\n",
      "[6] \"input.rep6\"\n"
     ]
    },
    {
     "data": {
      "text/html": [
       "<table>\n",
       " <thead>\n",
       "  <tr>\n",
       "   <th style=\"text-align:left;\"> Chrom </th>\n",
       "   <th style=\"text-align:right;\"> ChromStart </th>\n",
       "   <th style=\"text-align:right;\"> ChromEnd </th>\n",
       "   <th style=\"text-align:left;\"> Name </th>\n",
       "   <th style=\"text-align:right;\"> Score </th>\n",
       "   <th style=\"text-align:left;\"> Strand </th>\n",
       "   <th style=\"text-align:right;\"> SignalValue </th>\n",
       "   <th style=\"text-align:right;\"> PValue </th>\n",
       "   <th style=\"text-align:right;\"> QValue </th>\n",
       "   <th style=\"text-align:right;\"> Peak </th>\n",
       "  </tr>\n",
       " </thead>\n",
       "<tbody>\n",
       "  <tr>\n",
       "   <td style=\"text-align:left;\"> chr1 </td>\n",
       "   <td style=\"text-align:right;\"> 10021 </td>\n",
       "   <td style=\"text-align:right;\"> 10430 </td>\n",
       "   <td style=\"text-align:left;\"> chr1:10021-10430 </td>\n",
       "   <td style=\"text-align:right;\"> 254 </td>\n",
       "   <td style=\"text-align:left;\"> . </td>\n",
       "   <td style=\"text-align:right;\"> 3.43469 </td>\n",
       "   <td style=\"text-align:right;\"> 27.4435 </td>\n",
       "   <td style=\"text-align:right;\"> 25.4524 </td>\n",
       "   <td style=\"text-align:right;\"> 96 </td>\n",
       "  </tr>\n",
       "  <tr>\n",
       "   <td style=\"text-align:left;\"> chr1 </td>\n",
       "   <td style=\"text-align:right;\"> 14258 </td>\n",
       "   <td style=\"text-align:right;\"> 14640 </td>\n",
       "   <td style=\"text-align:left;\"> chr1:14258-14640 </td>\n",
       "   <td style=\"text-align:right;\"> 243 </td>\n",
       "   <td style=\"text-align:left;\"> . </td>\n",
       "   <td style=\"text-align:right;\"> 3.37224 </td>\n",
       "   <td style=\"text-align:right;\"> 26.3451 </td>\n",
       "   <td style=\"text-align:right;\"> 24.3633 </td>\n",
       "   <td style=\"text-align:right;\"> 204 </td>\n",
       "  </tr>\n",
       "  <tr>\n",
       "   <td style=\"text-align:left;\"> chr1 </td>\n",
       "   <td style=\"text-align:right;\"> 16024 </td>\n",
       "   <td style=\"text-align:right;\"> 16338 </td>\n",
       "   <td style=\"text-align:left;\"> chr1:16024-16338 </td>\n",
       "   <td style=\"text-align:right;\"> 211 </td>\n",
       "   <td style=\"text-align:left;\"> . </td>\n",
       "   <td style=\"text-align:right;\"> 3.18489 </td>\n",
       "   <td style=\"text-align:right;\"> 23.1462 </td>\n",
       "   <td style=\"text-align:right;\"> 21.1944 </td>\n",
       "   <td style=\"text-align:right;\"> 218 </td>\n",
       "  </tr>\n",
       "</tbody>\n",
       "</table>"
      ]
     },
     "metadata": {},
     "output_type": "display_data"
    }
   ],
   "source": [
    "lst = lst_dat_astarr_input_macs\n",
    "lst = lapply(lst, function(dat){\n",
    "    dat = dat %>% \n",
    "        dplyr::mutate(Name = fun_gen_region(Chrom, ChromStart, ChromEnd)) %>%\n",
    "        dplyr::arrange(Chrom, ChromStart, ChromEnd)\n",
    "    return(dat)\n",
    "})\n",
    "\n",
    "lst_dat_astarr_input_macs_region = lst\n",
    "print(names(lst))\n",
    "\n",
    "dat = lst[[1]]\n",
    "fun_display_table(head(dat, 3))"
   ]
  },
  {
   "cell_type": "markdown",
   "id": "25adcf80-3d5e-42d3-81ff-8f7bb6647b63",
   "metadata": {},
   "source": [
    "## Arrange summit"
   ]
  },
  {
   "cell_type": "code",
   "execution_count": 8,
   "id": "eac89059-516c-45af-84d9-e50bbe1a498e",
   "metadata": {},
   "outputs": [
    {
     "name": "stdout",
     "output_type": "stream",
     "text": [
      "[1] \"input.rep1\" \"input.rep2\" \"input.rep3\" \"input.rep4\" \"input.rep5\"\n",
      "[6] \"input.rep6\"\n"
     ]
    },
    {
     "data": {
      "text/html": [
       "<table>\n",
       " <thead>\n",
       "  <tr>\n",
       "   <th style=\"text-align:left;\"> Chrom </th>\n",
       "   <th style=\"text-align:right;\"> ChromStart </th>\n",
       "   <th style=\"text-align:right;\"> ChromEnd </th>\n",
       "   <th style=\"text-align:left;\"> Region </th>\n",
       "  </tr>\n",
       " </thead>\n",
       "<tbody>\n",
       "  <tr>\n",
       "   <td style=\"text-align:left;\"> chr1 </td>\n",
       "   <td style=\"text-align:right;\"> 10117 </td>\n",
       "   <td style=\"text-align:right;\"> 10118 </td>\n",
       "   <td style=\"text-align:left;\"> chr1:10117-10118 </td>\n",
       "  </tr>\n",
       "  <tr>\n",
       "   <td style=\"text-align:left;\"> chr1 </td>\n",
       "   <td style=\"text-align:right;\"> 14462 </td>\n",
       "   <td style=\"text-align:right;\"> 14463 </td>\n",
       "   <td style=\"text-align:left;\"> chr1:14462-14463 </td>\n",
       "  </tr>\n",
       "  <tr>\n",
       "   <td style=\"text-align:left;\"> chr1 </td>\n",
       "   <td style=\"text-align:right;\"> 16242 </td>\n",
       "   <td style=\"text-align:right;\"> 16243 </td>\n",
       "   <td style=\"text-align:left;\"> chr1:16242-16243 </td>\n",
       "  </tr>\n",
       "</tbody>\n",
       "</table>"
      ]
     },
     "metadata": {},
     "output_type": "display_data"
    }
   ],
   "source": [
    "lst = lst_dat_astarr_input_macs\n",
    "lst = lapply(lst, function(dat){\n",
    "    dat = dat %>% \n",
    "        dplyr::mutate(ChromStart = ChromStart + Peak) %>%\n",
    "        dplyr::mutate(ChromEnd   = ChromStart + 1) %>%\n",
    "        dplyr::mutate(Region     = fun_gen_region(Chrom, ChromStart, ChromEnd)) %>%\n",
    "        dplyr::select(Chrom, ChromStart, ChromEnd, Region) %>%\n",
    "        dplyr::arrange(Chrom, ChromStart, ChromEnd)\n",
    "    return(dat)\n",
    "})\n",
    "\n",
    "lst_dat_astarr_input_macs_summit = lst\n",
    "print(names(lst))\n",
    "\n",
    "dat = lst[[1]]\n",
    "fun_display_table(head(dat, 3))"
   ]
  },
  {
   "cell_type": "markdown",
   "id": "85fa1a1a-0179-4c49-b49a-49cb8fe153dc",
   "metadata": {},
   "source": [
    "## Define column description"
   ]
  },
  {
   "cell_type": "code",
   "execution_count": 9,
   "id": "a1d7e90a-e093-4382-a16e-f322b7f8460d",
   "metadata": {},
   "outputs": [
    {
     "data": {
      "text/html": [
       "<table>\n",
       " <thead>\n",
       "  <tr>\n",
       "   <th style=\"text-align:left;\"> Name </th>\n",
       "   <th style=\"text-align:left;\"> Note </th>\n",
       "  </tr>\n",
       " </thead>\n",
       "<tbody>\n",
       "  <tr>\n",
       "   <td style=\"text-align:left;\"> Chrom </td>\n",
       "   <td style=\"text-align:left;\"> Name of the chromosome </td>\n",
       "  </tr>\n",
       "  <tr>\n",
       "   <td style=\"text-align:left;\"> ChromStart </td>\n",
       "   <td style=\"text-align:left;\"> The starting position of the feature in the chromosome </td>\n",
       "  </tr>\n",
       "  <tr>\n",
       "   <td style=\"text-align:left;\"> ChromEnd </td>\n",
       "   <td style=\"text-align:left;\"> The ending position of the feature in the chromosome </td>\n",
       "  </tr>\n",
       "  <tr>\n",
       "   <td style=\"text-align:left;\"> Region </td>\n",
       "   <td style=\"text-align:left;\"> chr:start-end for each row </td>\n",
       "  </tr>\n",
       "  <tr>\n",
       "   <td style=\"text-align:left;\"> Score </td>\n",
       "   <td style=\"text-align:left;\"> Score </td>\n",
       "  </tr>\n",
       "  <tr>\n",
       "   <td style=\"text-align:left;\"> Strand </td>\n",
       "   <td style=\"text-align:left;\"> Strand </td>\n",
       "  </tr>\n",
       "  <tr>\n",
       "   <td style=\"text-align:left;\"> SignalValue </td>\n",
       "   <td style=\"text-align:left;\"> Measurement of overall enrichment for the region. </td>\n",
       "  </tr>\n",
       "  <tr>\n",
       "   <td style=\"text-align:left;\"> PValue </td>\n",
       "   <td style=\"text-align:left;\"> Measurement of statistical significance (-log10). Use -1 if no pValue is assigned. </td>\n",
       "  </tr>\n",
       "  <tr>\n",
       "   <td style=\"text-align:left;\"> QValue </td>\n",
       "   <td style=\"text-align:left;\"> Measurement of statistical significance using false discovery rate (-log10). Use -1 if no qValue is assigned. </td>\n",
       "  </tr>\n",
       "  <tr>\n",
       "   <td style=\"text-align:left;\"> Peak </td>\n",
       "   <td style=\"text-align:left;\"> Point-source called for this peak; 0-based offset from chromStart. </td>\n",
       "  </tr>\n",
       "</tbody>\n",
       "</table>"
      ]
     },
     "metadata": {},
     "output_type": "display_data"
    }
   ],
   "source": [
    "### set column name and description\n",
    "dat = tribble(\n",
    "    ~Name,         ~Note,\n",
    "    \"Chrom\",       \"Name of the chromosome\",\n",
    "    \"ChromStart\",  \"The starting position of the feature in the chromosome\",\n",
    "    \"ChromEnd\",    \"The ending position of the feature in the chromosome\",\n",
    "    \"Region\",      \"chr:start-end for each row\",\n",
    "    \"Score\",       \"Score\",\n",
    "    \"Strand\",      \"Strand\",\n",
    "    \"SignalValue\", \"Measurement of overall enrichment for the region.\",\n",
    "    \"PValue\",      \"Measurement of statistical significance (-log10). Use -1 if no pValue is assigned.\",\n",
    "    \"QValue\",      \"Measurement of statistical significance using false discovery rate (-log10). Use -1 if no qValue is assigned.\",\n",
    "    \"Peak\",        \"Point-source called for this peak; 0-based offset from chromStart.\"    \n",
    ")\n",
    "\n",
    "### assign and show\n",
    "dat_cname = dat\n",
    "fun_display_table(dat)"
   ]
  },
  {
   "cell_type": "markdown",
   "id": "a1ab49d3-2f44-435c-9e17-5c7531a4e781",
   "metadata": {},
   "source": [
    "## Export results"
   ]
  },
  {
   "cell_type": "code",
   "execution_count": 10,
   "id": "831b1feb-c10f-45cf-a0d0-0ca8d8bf5fc1",
   "metadata": {},
   "outputs": [
    {
     "name": "stdout",
     "output_type": "stream",
     "text": [
      "K562.hg38.ASTARR.macs.KS91.input.rep1.narrowpeak.bed.gz \n",
      "K562.hg38.ASTARR.macs.KS91.input.rep1.summit.bed.gz \n",
      "K562.hg38.ASTARR.macs.KS91.input.rep2.narrowpeak.bed.gz \n",
      "K562.hg38.ASTARR.macs.KS91.input.rep2.summit.bed.gz \n",
      "K562.hg38.ASTARR.macs.KS91.input.rep3.narrowpeak.bed.gz \n",
      "K562.hg38.ASTARR.macs.KS91.input.rep3.summit.bed.gz \n",
      "K562.hg38.ASTARR.macs.KS91.input.rep4.narrowpeak.bed.gz \n",
      "K562.hg38.ASTARR.macs.KS91.input.rep4.summit.bed.gz \n",
      "K562.hg38.ASTARR.macs.KS91.input.rep5.narrowpeak.bed.gz \n",
      "K562.hg38.ASTARR.macs.KS91.input.rep5.summit.bed.gz \n",
      "K562.hg38.ASTARR.macs.KS91.input.rep6.narrowpeak.bed.gz \n",
      "K562.hg38.ASTARR.macs.KS91.input.rep6.summit.bed.gz \n",
      "summary \n"
     ]
    }
   ],
   "source": [
    "txt_fdiry = file.path(FD_RES, \"region\", \"fcc_astarr_macs_narrowpeak\")\n",
    "\n",
    "vec = dir(txt_fdiry)\n",
    "for (txt in vec){\n",
    "    cat(txt, \"\\n\")\n",
    "}"
   ]
  },
  {
   "cell_type": "code",
   "execution_count": 11,
   "id": "56223a41-8972-4e01-9798-7a3d0e59b5c6",
   "metadata": {},
   "outputs": [
    {
     "name": "stdout",
     "output_type": "stream",
     "text": [
      "K562.hg38.ASTARR.macs.KS91.input.rep1.narrowpeak.bed.gz \n",
      "K562.hg38.ASTARR.macs.KS91.input.rep2.narrowpeak.bed.gz \n",
      "K562.hg38.ASTARR.macs.KS91.input.rep3.narrowpeak.bed.gz \n",
      "K562.hg38.ASTARR.macs.KS91.input.rep4.narrowpeak.bed.gz \n",
      "K562.hg38.ASTARR.macs.KS91.input.rep5.narrowpeak.bed.gz \n",
      "K562.hg38.ASTARR.macs.KS91.input.rep6.narrowpeak.bed.gz \n"
     ]
    }
   ],
   "source": [
    "lst = lst_dat_astarr_input_macs_region\n",
    "\n",
    "for (idx in names(lst)){\n",
    "    txt_foldr = \"fcc_astarr_macs_narrowpeak\"\n",
    "    txt_fdiry = file.path(FD_RES, \"region\", txt_foldr)\n",
    "    txt_fname = paste(\"K562.hg38.ASTARR.macs.KS91\", idx, \"narrowpeak.bed.gz\", sep = \".\")\n",
    "    txt_fpath = file.path(txt_fdiry, txt_fname)\n",
    "    cat(txt_fname, \"\\n\")\n",
    "\n",
    "    dat = lst[[idx]]\n",
    "    write_tsv(dat, txt_fpath, col_names = FALSE)\n",
    "}"
   ]
  },
  {
   "cell_type": "code",
   "execution_count": 12,
   "id": "d5805174-8d9b-426f-80f0-2d55281af060",
   "metadata": {},
   "outputs": [
    {
     "name": "stdout",
     "output_type": "stream",
     "text": [
      "K562.hg38.ASTARR.macs.KS91.input.rep1.summit.bed.gz \n",
      "K562.hg38.ASTARR.macs.KS91.input.rep2.summit.bed.gz \n",
      "K562.hg38.ASTARR.macs.KS91.input.rep3.summit.bed.gz \n",
      "K562.hg38.ASTARR.macs.KS91.input.rep4.summit.bed.gz \n",
      "K562.hg38.ASTARR.macs.KS91.input.rep5.summit.bed.gz \n",
      "K562.hg38.ASTARR.macs.KS91.input.rep6.summit.bed.gz \n"
     ]
    }
   ],
   "source": [
    "lst = lst_dat_astarr_input_macs_summit\n",
    "\n",
    "for (idx in names(lst)){\n",
    "    txt_foldr = \"fcc_astarr_macs_narrowpeak\"\n",
    "    txt_fdiry = file.path(FD_RES, \"region\", txt_foldr)\n",
    "    txt_fname = paste(\"K562.hg38.ASTARR.macs.KS91\", idx, \"summit.bed.gz\", sep = \".\")\n",
    "    txt_fpath = file.path(txt_fdiry, txt_fname)\n",
    "    cat(txt_fname, \"\\n\")\n",
    "\n",
    "    dat = lst[[idx]]\n",
    "    write_tsv(dat, txt_fpath, col_names = FALSE)\n",
    "}"
   ]
  },
  {
   "cell_type": "code",
   "execution_count": 15,
   "id": "8dc9574b-2184-4289-84f0-9590004763bd",
   "metadata": {},
   "outputs": [],
   "source": [
    "txt_foldr = TXT_FOLDER_REGION\n",
    "txt_fdiry = file.path(FD_RES, \"region\", txt_foldr, \"summary\")\n",
    "txt_fname = \"description.tsv\"\n",
    "txt_fpath = file.path(txt_fdiry, txt_fname)\n",
    "\n",
    "dir.create(txt_fdiry, showWarnings = FALSE)\n",
    "dat = dat_cname\n",
    "write_tsv(dat, txt_fpath)"
   ]
  },
  {
   "cell_type": "code",
   "execution_count": null,
   "id": "6c57f61b-b190-4d2f-a36c-c2a5e31a0a52",
   "metadata": {},
   "outputs": [],
   "source": []
  }
 ],
 "metadata": {
  "kernelspec": {
   "display_name": "R",
   "language": "R",
   "name": "ir"
  },
  "language_info": {
   "codemirror_mode": "r",
   "file_extension": ".r",
   "mimetype": "text/x-r-source",
   "name": "R",
   "pygments_lexer": "r",
   "version": "4.4.1"
  }
 },
 "nbformat": 4,
 "nbformat_minor": 5
}
