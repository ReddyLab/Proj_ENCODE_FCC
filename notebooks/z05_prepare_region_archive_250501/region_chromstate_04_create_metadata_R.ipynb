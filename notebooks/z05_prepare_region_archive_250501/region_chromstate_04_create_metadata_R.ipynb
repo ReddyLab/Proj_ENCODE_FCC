{
 "cells": [
  {
   "cell_type": "raw",
   "id": "63b25f30-5f5a-4f73-a65b-d29c176e7440",
   "metadata": {},
   "source": [
    "---\n",
    "title: Prepare ENCODE Chromatin State 04\n",
    "subtitle: Generate metadata for the peak file\n",
    "format:\n",
    "    html:\n",
    "        code-fold:  true\n",
    "        code-tools: true\n",
    "---"
   ]
  },
  {
   "cell_type": "markdown",
   "id": "292c8881-b418-41ba-89da-fbc14ab332a7",
   "metadata": {},
   "source": [
    "**Set environment**"
   ]
  },
  {
   "cell_type": "code",
   "execution_count": 1,
   "id": "fbfc0565-a46c-4dea-9764-51930ddb27e2",
   "metadata": {},
   "outputs": [
    {
     "name": "stdout",
     "output_type": "stream",
     "text": [
      "You are working on        Singularity \n",
      "BASE DIRECTORY (FD_BASE): /mount \n",
      "REPO DIRECTORY (FD_REPO): /mount/repo \n",
      "WORK DIRECTORY (FD_WORK): /mount/work \n",
      "DATA DIRECTORY (FD_DATA): /mount/data \n",
      "\n",
      "You are working with      ENCODE FCC \n",
      "PATH OF PROJECT (FD_PRJ): /mount/repo/Proj_ENCODE_FCC \n",
      "PROJECT RESULTS (FD_RES): /mount/repo/Proj_ENCODE_FCC/results \n",
      "PROJECT SCRIPTS (FD_EXE): /mount/repo/Proj_ENCODE_FCC/scripts \n",
      "PROJECT DATA    (FD_DAT): /mount/repo/Proj_ENCODE_FCC/data \n",
      "PROJECT NOTE    (FD_NBK): /mount/repo/Proj_ENCODE_FCC/notebooks \n",
      "PROJECT DOCS    (FD_DOC): /mount/repo/Proj_ENCODE_FCC/docs \n",
      "PROJECT LOG     (FD_LOG): /mount/repo/Proj_ENCODE_FCC/log \n",
      "PROJECT APP     (FD_APP): /mount/repo/Proj_ENCODE_FCC/app \n",
      "PROJECT REF     (FD_REF): /mount/repo/Proj_ENCODE_FCC/references \n",
      "\n"
     ]
    }
   ],
   "source": [
    "suppressMessages(suppressWarnings(source(\"../run_config_project_sing.R\")))\n",
    "show_env()"
   ]
  },
  {
   "cell_type": "markdown",
   "id": "ce64fe5c-dc29-46fb-8b0c-3e57f78bfdf0",
   "metadata": {},
   "source": [
    "**Set global variables**"
   ]
  },
  {
   "cell_type": "code",
   "execution_count": 2,
   "id": "80ff9c14-7395-4406-a81d-7539dbfbd4ef",
   "metadata": {},
   "outputs": [],
   "source": [
    "TXT_FOLDER_REGION = \"encode_chromatin_states\""
   ]
  },
  {
   "cell_type": "markdown",
   "id": "ffb5a44e-1577-4e13-8e64-ffa7211263cf",
   "metadata": {},
   "source": [
    "## Define column description\n",
    "The peak file is in narrowPeak format, which is a standard six field bed with four additional fields (BED6+4 format)"
   ]
  },
  {
   "cell_type": "code",
   "execution_count": 3,
   "id": "b1c09c36-d1f0-4cd5-9bde-de9bb836093f",
   "metadata": {},
   "outputs": [
    {
     "data": {
      "text/html": [
       "<table>\n",
       " <thead>\n",
       "  <tr>\n",
       "   <th style=\"text-align:left;\"> Name </th>\n",
       "   <th style=\"text-align:left;\"> Note </th>\n",
       "  </tr>\n",
       " </thead>\n",
       "<tbody>\n",
       "  <tr>\n",
       "   <td style=\"text-align:left;\"> Chrom </td>\n",
       "   <td style=\"text-align:left;\"> Name of the chromosome </td>\n",
       "  </tr>\n",
       "  <tr>\n",
       "   <td style=\"text-align:left;\"> ChromStart </td>\n",
       "   <td style=\"text-align:left;\"> The starting position of the feature in the chromosome </td>\n",
       "  </tr>\n",
       "  <tr>\n",
       "   <td style=\"text-align:left;\"> ChromEnd </td>\n",
       "   <td style=\"text-align:left;\"> The ending position of the feature in the chromosome </td>\n",
       "  </tr>\n",
       "  <tr>\n",
       "   <td style=\"text-align:left;\"> Name </td>\n",
       "   <td style=\"text-align:left;\"> Name given to a region; Use '.' if no name is assigned. </td>\n",
       "  </tr>\n",
       "  <tr>\n",
       "   <td style=\"text-align:left;\"> Group </td>\n",
       "   <td style=\"text-align:left;\"> Type of chromatin states annotaiton </td>\n",
       "  </tr>\n",
       "  <tr>\n",
       "   <td style=\"text-align:left;\"> Label </td>\n",
       "   <td style=\"text-align:left;\"> cCREs/ChromHMM labels </td>\n",
       "  </tr>\n",
       "</tbody>\n",
       "</table>"
      ]
     },
     "metadata": {},
     "output_type": "display_data"
    }
   ],
   "source": [
    "### create metadata: column information\n",
    "dat = tribble(\n",
    "    ~Name,        ~Note,\n",
    "    \"Chrom\",      \"Name of the chromosome\",\n",
    "    \"ChromStart\", \"The starting position of the feature in the chromosome\",\n",
    "    \"ChromEnd\",   \"The ending position of the feature in the chromosome\",\n",
    "    \"Name\",       \"Name given to a region; Use '.' if no name is assigned.\",\n",
    "    \"Group\",      \"Type of chromatin states annotaiton\",\n",
    "    \"Label\",      \"cCREs/ChromHMM labels\"\n",
    ")\n",
    "\n",
    "### assign and show\n",
    "dat_cname = dat\n",
    "fun_display_table(dat)"
   ]
  },
  {
   "cell_type": "markdown",
   "id": "19449b05-a5ae-4058-b83e-cdd82947be57",
   "metadata": {},
   "source": [
    "## Define file labeling"
   ]
  },
  {
   "cell_type": "code",
   "execution_count": 4,
   "id": "4b1640aa-4a8f-498c-8dff-d3e0b4b8a782",
   "metadata": {},
   "outputs": [
    {
     "data": {
      "text/html": [
       "<table>\n",
       " <thead>\n",
       "  <tr>\n",
       "   <th style=\"text-align:left;\"> Folder </th>\n",
       "   <th style=\"text-align:left;\"> FName </th>\n",
       "  </tr>\n",
       " </thead>\n",
       "<tbody>\n",
       "  <tr>\n",
       "   <td style=\"text-align:left;\"> encode_chromatin_states </td>\n",
       "   <td style=\"text-align:left;\"> K562.hg38.cCREs.silencer_rest.bed.gz </td>\n",
       "  </tr>\n",
       "  <tr>\n",
       "   <td style=\"text-align:left;\"> encode_chromatin_states </td>\n",
       "   <td style=\"text-align:left;\"> K562.hg38.cCREs.silencer_starr.bed.gz </td>\n",
       "  </tr>\n",
       "  <tr>\n",
       "   <td style=\"text-align:left;\"> encode_chromatin_states </td>\n",
       "   <td style=\"text-align:left;\"> K562.hg38.ENCSR365YNI.ENCFF106BGJ.ChromHMM.simplified.bed.gz </td>\n",
       "  </tr>\n",
       "  <tr>\n",
       "   <td style=\"text-align:left;\"> encode_chromatin_states </td>\n",
       "   <td style=\"text-align:left;\"> K562.hg38.ENCSR913HQX.ENCFF286VQG.cCREs.simplified.bed.gz </td>\n",
       "  </tr>\n",
       "</tbody>\n",
       "</table>"
      ]
     },
     "metadata": {},
     "output_type": "display_data"
    }
   ],
   "source": [
    "### set directory\n",
    "txt_folder = TXT_FOLDER_REGION\n",
    "txt_fdiry  = file.path(FD_RES, \"region\", txt_folder)\n",
    "txt_fglob  = file.path(txt_fdiry, \"*bed*\")\n",
    "\n",
    "### get file names\n",
    "vec_txt_fpath = Sys.glob(txt_fglob)\n",
    "vec_txt_fname = basename(vec_txt_fpath)\n",
    "\n",
    "### init info table\n",
    "dat = data.frame(\n",
    "    \"Folder\" = txt_folder,\n",
    "    \"FName\"  = vec_txt_fname\n",
    ")\n",
    "\n",
    "### assign and show\n",
    "dat_region = dat\n",
    "fun_display_table(dat)"
   ]
  },
  {
   "cell_type": "code",
   "execution_count": 5,
   "id": "fd5df7d6-5453-4dd4-9244-aebcb58c9c7b",
   "metadata": {},
   "outputs": [
    {
     "data": {
      "text/html": [
       "<table>\n",
       " <thead>\n",
       "  <tr>\n",
       "   <th style=\"text-align:left;\"> Folder </th>\n",
       "   <th style=\"text-align:left;\"> FName </th>\n",
       "   <th style=\"text-align:left;\"> Label </th>\n",
       "  </tr>\n",
       " </thead>\n",
       "<tbody>\n",
       "  <tr>\n",
       "   <td style=\"text-align:left;\"> encode_chromatin_states </td>\n",
       "   <td style=\"text-align:left;\"> K562.hg38.cCREs.silencer_rest.bed.gz </td>\n",
       "   <td style=\"text-align:left;\"> encode_ccres_silencer_rest </td>\n",
       "  </tr>\n",
       "  <tr>\n",
       "   <td style=\"text-align:left;\"> encode_chromatin_states </td>\n",
       "   <td style=\"text-align:left;\"> K562.hg38.cCREs.silencer_starr.bed.gz </td>\n",
       "   <td style=\"text-align:left;\"> encode_ccres_silencer_starr </td>\n",
       "  </tr>\n",
       "  <tr>\n",
       "   <td style=\"text-align:left;\"> encode_chromatin_states </td>\n",
       "   <td style=\"text-align:left;\"> K562.hg38.ENCSR365YNI.ENCFF106BGJ.ChromHMM.simplified.bed.gz </td>\n",
       "   <td style=\"text-align:left;\"> encode_chromhmm_ENCFF106BGJ </td>\n",
       "  </tr>\n",
       "  <tr>\n",
       "   <td style=\"text-align:left;\"> encode_chromatin_states </td>\n",
       "   <td style=\"text-align:left;\"> K562.hg38.ENCSR913HQX.ENCFF286VQG.cCREs.simplified.bed.gz </td>\n",
       "   <td style=\"text-align:left;\"> encode_ccres_ENCFF286VQG </td>\n",
       "  </tr>\n",
       "</tbody>\n",
       "</table>"
      ]
     },
     "metadata": {},
     "output_type": "display_data"
    }
   ],
   "source": [
    "dat = dat_region\n",
    "dat = dat %>% dplyr::mutate(\n",
    "    Label = c(\n",
    "        \"encode_ccres_silencer_rest\",\n",
    "        \"encode_ccres_silencer_starr\",\n",
    "        \"encode_chromhmm_ENCFF106BGJ\",\n",
    "        \"encode_ccres_ENCFF286VQG\"\n",
    "    )\n",
    ")\n",
    "\n",
    "### assign and show\n",
    "dat_region_label = dat\n",
    "fun_display_table(dat)"
   ]
  },
  {
   "cell_type": "markdown",
   "id": "5903e2a4-cbf8-4c8a-a894-f12d2c94685e",
   "metadata": {},
   "source": [
    "## Save results"
   ]
  },
  {
   "cell_type": "code",
   "execution_count": 6,
   "id": "20d0c045-825c-424c-9231-3bce59b82320",
   "metadata": {},
   "outputs": [],
   "source": [
    "txt_folder = TXT_FOLDER_REGION\n",
    "txt_fdiry  = file.path(FD_RES, \"region\", txt_folder, \"summary\")\n",
    "txt_fname  = \"description.tsv\"\n",
    "txt_fpath  = file.path(txt_fdiry, txt_fname)\n",
    "\n",
    "dir.create(txt_fdiry, showWarnings = FALSE)\n",
    "dat = dat_cname\n",
    "write_tsv(dat, txt_fpath)"
   ]
  },
  {
   "cell_type": "code",
   "execution_count": 7,
   "id": "e4f7af56-c48c-4671-8804-2f3b1cc57e4f",
   "metadata": {},
   "outputs": [],
   "source": [
    "txt_folder = TXT_FOLDER_REGION\n",
    "txt_fdiry  = file.path(FD_RES, \"region\", txt_folder, \"summary\")\n",
    "txt_fname  = \"metadata.label.tsv\"\n",
    "txt_fpath  = file.path(txt_fdiry, txt_fname)\n",
    "\n",
    "dir.create(txt_fdiry, showWarnings = FALSE)\n",
    "dat = dat_region_label\n",
    "write_tsv(dat, txt_fpath)"
   ]
  },
  {
   "cell_type": "code",
   "execution_count": null,
   "id": "23be3093-5c61-4bed-98fa-8063dacd6ef8",
   "metadata": {},
   "outputs": [],
   "source": []
  }
 ],
 "metadata": {
  "kernelspec": {
   "display_name": "R",
   "language": "R",
   "name": "ir"
  },
  "language_info": {
   "codemirror_mode": "r",
   "file_extension": ".r",
   "mimetype": "text/x-r-source",
   "name": "R",
   "pygments_lexer": "r",
   "version": "4.4.0"
  }
 },
 "nbformat": 4,
 "nbformat_minor": 5
}
