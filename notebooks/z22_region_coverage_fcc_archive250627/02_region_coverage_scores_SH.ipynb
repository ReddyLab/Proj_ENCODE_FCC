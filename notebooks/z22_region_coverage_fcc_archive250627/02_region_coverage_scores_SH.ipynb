{
 "cells": [
  {
   "cell_type": "raw",
   "id": "41051402-2737-418f-aa65-24e1832473fe",
   "metadata": {},
   "source": [
    "---\n",
    "title: Region Coverage 02\n",
    "subtitle: Calculate coverage of given region set (CRISPRi and Lenti-MPRA)\n",
    "format:\n",
    "    html:\n",
    "        code-fold:  true\n",
    "        code-tools: true\n",
    "---"
   ]
  },
  {
   "cell_type": "markdown",
   "id": "cb194c3c-caaa-4f15-b951-4ade71e26414",
   "metadata": {},
   "source": [
    "FCC Assay: CRISPRi and Lenti-MPRA"
   ]
  },
  {
   "cell_type": "markdown",
   "id": "3f7a8602-6f86-487a-a528-0b6b635cc3c2",
   "metadata": {},
   "source": [
    "**Set environment**"
   ]
  },
  {
   "cell_type": "code",
   "execution_count": 2,
   "id": "ba96c547-8837-4f50-87d5-e4b031203db6",
   "metadata": {},
   "outputs": [
    {
     "name": "stdout",
     "output_type": "stream",
     "text": [
      "\n",
      "You are working on             Duke Server: HARDAC\n",
      "BASE DIRECTORY (FD_BASE):      /data/reddylab/Kuei\n",
      "REPO DIRECTORY (FD_REPO):      /data/reddylab/Kuei/repo\n",
      "WORK DIRECTORY (FD_WORK):      /data/reddylab/Kuei/work\n",
      "DATA DIRECTORY (FD_DATA):      /data/reddylab/Kuei/data\n",
      "CONTAINER DIR. (FD_SING):      /data/reddylab/Kuei/container\n",
      "\n",
      "You are working with           ENCODE FCC\n",
      "PATH OF PROJECT (FD_PRJ):      /data/reddylab/Kuei/repo/Proj_ENCODE_FCC\n",
      "PROJECT RESULTS (FD_RES):      /data/reddylab/Kuei/repo/Proj_ENCODE_FCC/results\n",
      "PROJECT SCRIPTS (FD_EXE):      /data/reddylab/Kuei/repo/Proj_ENCODE_FCC/scripts\n",
      "PROJECT DATA    (FD_DAT):      /data/reddylab/Kuei/repo/Proj_ENCODE_FCC/data\n",
      "PROJECT NOTE    (FD_NBK):      /data/reddylab/Kuei/repo/Proj_ENCODE_FCC/notebooks\n",
      "PROJECT DOCS    (FD_DOC):      /data/reddylab/Kuei/repo/Proj_ENCODE_FCC/docs\n",
      "PROJECT LOG     (FD_LOG):      /data/reddylab/Kuei/repo/Proj_ENCODE_FCC/log\n",
      "PROJECT APP     (FD_APP):      \n",
      "PROJECT REF     (FD_REF):      /data/reddylab/Kuei/repo/Proj_ENCODE_FCC/references\n",
      "PROJECT IMAGE   (FP_PRJ_SIF):  /data/reddylab/Kuei/container/project/singularity_proj_encode_fcc.sif\n",
      "\n"
     ]
    }
   ],
   "source": [
    "source ../run_config_project.sh\n",
    "show_env"
   ]
  },
  {
   "cell_type": "markdown",
   "id": "631e914a-aa53-437f-b924-7d6f34a16cdd",
   "metadata": {},
   "source": [
    "## Get data"
   ]
  },
  {
   "cell_type": "code",
   "execution_count": 3,
   "id": "709a8d3d-b10e-4082-b10e-e02b194a0176",
   "metadata": {},
   "outputs": [
    {
     "name": "stdout",
     "output_type": "stream",
     "text": [
      "Folder\tFName\tLabel\n",
      "encode_open_chromatin\tK562.hg38.ENCSR000EKS.ENCFF274YGF.DNase.bed.gz\tdnase_ENCFF274YGF\n",
      "encode_open_chromatin\tK562.hg38.ENCSR000EOT.ENCFF185XRG.DNase.bed.gz\tdnase_ENCFF185XRG\n",
      "encode_open_chromatin\tK562.hg38.ENCSR483RKN.ENCFF558BLC.ATAC.bed.gz\tatac_ENCFF558BLC\n",
      "encode_open_chromatin\tK562.hg38.ENCSR483RKN.ENCFF925CYR.ATAC.bed.gz\tatac_ENCFF925CYR\n",
      "encode_open_chromatin\tK562.hg38.ENCSR868FGK.ENCFF333TAT.ATAC.bed.gz\tatac_ENCFF333TAT\n",
      "encode_open_chromatin\tK562.hg38.ENCSR868FGK.ENCFF948AFM.ATAC.bed.gz\tatac_ENCFF948AFM\n",
      "fcc_astarr_macs\tK562.hg38.ASTARR.macs.KS91.input.rep_all.max_overlaps.q5.bed.gz\tfcc_astarr_macs_input_overlap\n",
      "fcc_astarr_macs\tK562.hg38.ASTARR.macs.KS91.input.rep_all.union.q5.bed.gz\tfcc_astarr_macs_input_union\n"
     ]
    }
   ],
   "source": [
    "### set directory\n",
    "FDIRY=${FD_RES}/region/summary\n",
    "FNAME=metadata.label.ocr.tsv\n",
    "FPATH=${FDIRY}/${FNAME}\n",
    "\n",
    "### get table\n",
    "FP_REGION_LABEL=${FPATH}\n",
    "cat ${FPATH}"
   ]
  },
  {
   "cell_type": "code",
   "execution_count": 4,
   "id": "782a17d3-0a6f-4dfc-9d0d-17d2c4ba01a7",
   "metadata": {},
   "outputs": [
    {
     "name": "stdout",
     "output_type": "stream",
     "text": [
      "\u001b[0m\u001b[38;5;27mCRISPRi_FlowFISH_K562_Riley_JinWoo\u001b[0m\n",
      "\u001b[38;5;27mCRISPRi_Growth_K562_Gersbach_JinWoo\u001b[0m\n",
      "\u001b[38;5;27mMPRA_Lenti_K562_Nadav_Vikram\u001b[0m\n",
      "\u001b[38;5;27mMPRA_Tiling_K562_Tewhey_Hannah\u001b[0m\n",
      "\u001b[38;5;27mSTARR_ATAC_K562_Reddy_KS274\u001b[0m\n",
      "\u001b[38;5;27mSTARR_ATAC_K562_Reddy_KS91\u001b[0m\n",
      "\u001b[38;5;27mSTARR_ATAC_K562_Reddy_KSMerge\u001b[0m\n",
      "\u001b[38;5;27mSTARR_WHG_K562_Reddy_A001\u001b[0m\n"
     ]
    }
   ],
   "source": [
    "ls -1 ${FD_RES}/assay_fcc"
   ]
  },
  {
   "cell_type": "code",
   "execution_count": 5,
   "id": "3a249862-ca59-47d1-90b7-2a12cfd78c42",
   "metadata": {},
   "outputs": [],
   "source": [
    "### Assay\n",
    "ASSAY_TYPE=assay_fcc\n",
    "ASSAY_NAMES=(\n",
    "    CRISPRi_FlowFISH_K562_Riley_JinWoo\n",
    "    CRISPRi_Growth_K562_Gersbach_JinWoo\n",
    "    MPRA_Lenti_K562_Nadav_Vikram\n",
    ")"
   ]
  },
  {
   "cell_type": "markdown",
   "id": "6fac89db-0dcc-45f3-a811-6294fed61289",
   "metadata": {},
   "source": [
    "## Check input"
   ]
  },
  {
   "cell_type": "markdown",
   "id": "a5c52ee3-b5c8-4e36-a670-ede2f307dd66",
   "metadata": {},
   "source": [
    "**Test loop: Region**"
   ]
  },
  {
   "cell_type": "code",
   "execution_count": 7,
   "id": "bc707dc9-4c05-4637-a5e8-632a9e4fe6c3",
   "metadata": {},
   "outputs": [
    {
     "name": "stdout",
     "output_type": "stream",
     "text": [
      "encode_open_chromatin\tK562.hg38.ENCSR000EKS.ENCFF274YGF.DNase.bed.gz\tdnase_ENCFF274YGF\n",
      "encode_open_chromatin\tK562.hg38.ENCSR000EOT.ENCFF185XRG.DNase.bed.gz\tdnase_ENCFF185XRG\n",
      "encode_open_chromatin\tK562.hg38.ENCSR483RKN.ENCFF558BLC.ATAC.bed.gz\tatac_ENCFF558BLC\n",
      "encode_open_chromatin\tK562.hg38.ENCSR483RKN.ENCFF925CYR.ATAC.bed.gz\tatac_ENCFF925CYR\n",
      "encode_open_chromatin\tK562.hg38.ENCSR868FGK.ENCFF333TAT.ATAC.bed.gz\tatac_ENCFF333TAT\n",
      "encode_open_chromatin\tK562.hg38.ENCSR868FGK.ENCFF948AFM.ATAC.bed.gz\tatac_ENCFF948AFM\n",
      "fcc_astarr_macs\tK562.hg38.ASTARR.macs.KS91.input.rep_all.max_overlaps.q5.bed.gz\tfcc_astarr_macs_input_overlap\n",
      "fcc_astarr_macs\tK562.hg38.ASTARR.macs.KS91.input.rep_all.union.q5.bed.gz\tfcc_astarr_macs_input_union\n"
     ]
    }
   ],
   "source": [
    "cat ${FP_REGION_LABEL} | awk 'NR >=2 {print}'"
   ]
  },
  {
   "cell_type": "code",
   "execution_count": 8,
   "id": "39a18074-dc43-48cd-ab40-09fec2ff63f4",
   "metadata": {},
   "outputs": [
    {
     "name": "stdout",
     "output_type": "stream",
     "text": [
      "==============================\n",
      "Region folder: encode_open_chromatin\n",
      "Region label:  dnase_ENCFF274YGF\n",
      "==============================\n",
      "Region folder: encode_open_chromatin\n",
      "Region label:  dnase_ENCFF185XRG\n",
      "==============================\n",
      "Region folder: encode_open_chromatin\n",
      "Region label:  atac_ENCFF558BLC\n",
      "==============================\n",
      "Region folder: encode_open_chromatin\n",
      "Region label:  atac_ENCFF925CYR\n",
      "==============================\n",
      "Region folder: encode_open_chromatin\n",
      "Region label:  atac_ENCFF333TAT\n",
      "==============================\n",
      "Region folder: encode_open_chromatin\n",
      "Region label:  atac_ENCFF948AFM\n",
      "==============================\n",
      "Region folder: fcc_astarr_macs\n",
      "Region label:  fcc_astarr_macs_input_overlap\n",
      "==============================\n",
      "Region folder: fcc_astarr_macs\n",
      "Region label:  fcc_astarr_macs_input_union\n"
     ]
    }
   ],
   "source": [
    "while read FOLDER_REG FNAME_REG LABEL_REG; do\n",
    "    \n",
    "    ### show progress\n",
    "    echo ==============================\n",
    "    echo \"Region folder:\" ${FOLDER_REG}\n",
    "    echo \"Region label: \" ${LABEL_REG}\n",
    "    \n",
    "    ### Set directory\n",
    "    FD_INP_A=${FD_RES}/region/${FOLDER_REG}\n",
    "    FN_INP_A=${FNAME_REG}\n",
    "    FP_INP_A=${FD_INP_A}/${FN_INP_A}\n",
    "    \n",
    "done < <(cat ${FP_REGION_LABEL} | awk 'NR >=2 {print}')"
   ]
  },
  {
   "cell_type": "code",
   "execution_count": 9,
   "id": "91f742cd-95c8-4f07-b8ab-b43e212f3507",
   "metadata": {},
   "outputs": [
    {
     "name": "stdout",
     "output_type": "stream",
     "text": [
      "==============================\n",
      "Region folder: fcc_astarr_macs\n",
      "Region label:  fcc_astarr_macs_input_overlap\n",
      "==============================\n",
      "Region folder: fcc_astarr_macs\n",
      "Region label:  fcc_astarr_macs_input_union\n"
     ]
    }
   ],
   "source": [
    "while read FOLDER_REG FNAME_REG LABEL_REG; do\n",
    "    \n",
    "    ### show progress\n",
    "    echo ==============================\n",
    "    echo \"Region folder:\" ${FOLDER_REG}\n",
    "    echo \"Region label: \" ${LABEL_REG}\n",
    "    \n",
    "    ### Set directory\n",
    "    FD_INP_A=${FD_RES}/region/${FOLDER_REG}\n",
    "    FN_INP_A=${FNAME_REG}\n",
    "    FP_INP_A=${FD_INP_A}/${FN_INP_A}\n",
    "    \n",
    "done < <(cat ${FP_REGION_LABEL} | awk 'NR >=2 {print}' | grep fcc_astarr_macs)"
   ]
  },
  {
   "cell_type": "markdown",
   "id": "d2d69696-5055-4e5c-be2d-f4468e58ce3d",
   "metadata": {},
   "source": [
    "**Test loop: Assay**"
   ]
  },
  {
   "cell_type": "code",
   "execution_count": 10,
   "id": "7bfaea4c-0053-4b82-8b20-7a7e80fc5216",
   "metadata": {},
   "outputs": [
    {
     "name": "stdout",
     "output_type": "stream",
     "text": [
      "==============================\n",
      "Assay name:  CRISPRi_FlowFISH_K562_Riley_JinWoo\n",
      "/data/reddylab/Kuei/repo/Proj_ENCODE_FCC/results/assay_fcc/CRISPRi_FlowFISH_K562_Riley_JinWoo/coverage\n",
      "CRISPRi_HCRFF_K562.hg38.ZScore.filtered.unstranded.bed.gz\n",
      "/data/reddylab/Kuei/repo/Proj_ENCODE_FCC/results/assay_fcc/CRISPRi_FlowFISH_K562_Riley_JinWoo/coverage\n",
      "CRISPRi_HCRFF_K562.hg38.ZScore.unstranded.bed.gz\n",
      "\n",
      "==============================\n",
      "Assay name:  CRISPRi_Growth_K562_Gersbach_JinWoo\n",
      "/data/reddylab/Kuei/repo/Proj_ENCODE_FCC/results/assay_fcc/CRISPRi_Growth_K562_Gersbach_JinWoo/coverage\n",
      "CRISPRi_Growth_K562.hg38.ZScore.unstranded.bed.gz\n",
      "\n",
      "==============================\n",
      "Assay name:  MPRA_Lenti_K562_Nadav_Vikram\n",
      "/data/reddylab/Kuei/repo/Proj_ENCODE_FCC/results/assay_fcc/MPRA_Lenti_K562_Nadav_Vikram/coverage\n",
      "LMPRA_K562.hg38.ZScore.stranded.bed.gz\n",
      "\n"
     ]
    }
   ],
   "source": [
    "for ASSAY_NAME in ${ASSAY_NAMES[@]}; do\n",
    "    \n",
    "    ### show progress\n",
    "    echo ==============================\n",
    "    echo \"Assay name: \" ${ASSAY_NAME}\n",
    "    FD_INP=${FD_RES}/${ASSAY_TYPE}/${ASSAY_NAME}\n",
    "    FP_INPS=($(ls ${FD_INP}/coverage/*hg38*ZScore*bed.gz))\n",
    "    \n",
    "    ### loop through each sample\n",
    "    for FP_INP_B in ${FP_INPS[@]}; do\n",
    "        FD_INP_B=$(dirname  ${FP_INP_B})\n",
    "        FN_INP_B=$(basename ${FP_INP_B})\n",
    "        echo ${FD_INP_B}\n",
    "        echo ${FN_INP_B}\n",
    "    done\n",
    "    echo\n",
    "done"
   ]
  },
  {
   "cell_type": "markdown",
   "id": "48f74128-a092-4d07-8ff2-7a548a8d7974",
   "metadata": {},
   "source": [
    "**Test loop: Region + Assay**"
   ]
  },
  {
   "cell_type": "code",
   "execution_count": 11,
   "id": "5286e72d-9d55-4ee7-8e42-da6c80bf6d39",
   "metadata": {},
   "outputs": [
    {
     "name": "stdout",
     "output_type": "stream",
     "text": [
      "\u001b[0m\u001b[38;5;27m/data/reddylab/Kuei/repo/Proj_ENCODE_FCC/results/region_coverage_fcc\u001b[0m\n"
     ]
    }
   ],
   "source": [
    "ls -d ${FD_RES}/region_coverage_fcc"
   ]
  },
  {
   "cell_type": "code",
   "execution_count": 13,
   "id": "adfba764-1ec1-4d77-9866-428b758fdb9d",
   "metadata": {
    "tags": []
   },
   "outputs": [
    {
     "name": "stdout",
     "output_type": "stream",
     "text": [
      "==============================\n",
      "Region folder: encode_open_chromatin\n",
      "Region label:  dnase_ENCFF274YGF\n",
      "Assay  name:   CRISPRi_FlowFISH_K562_Riley_JinWoo\n",
      "\n",
      "Output fdiry:  /data/reddylab/Kuei/repo/Proj_ENCODE_FCC/results/region_coverage_fcc/dnase_ENCFF274YGF/CRISPRi_FlowFISH_K562_Riley_JinWoo/overlap_score\n",
      "Output fname:  CRISPRi_HCRFF_K562.hg38.ZScore.filtered.unstranded.bed.gz\n",
      "\n",
      "Log file: ${FD_LOG}/region.coverage.dnase_ENCFF274YGF.CRISPRi_HCRFF_K562.hg38.ZScore.filtered.unstranded.bed.gz.txt\n",
      "\n",
      "==============================\n",
      "Region folder: encode_open_chromatin\n",
      "Region label:  dnase_ENCFF274YGF\n",
      "Assay  name:   CRISPRi_FlowFISH_K562_Riley_JinWoo\n",
      "\n",
      "Output fdiry:  /data/reddylab/Kuei/repo/Proj_ENCODE_FCC/results/region_coverage_fcc/dnase_ENCFF274YGF/CRISPRi_FlowFISH_K562_Riley_JinWoo/overlap_score\n",
      "Output fname:  CRISPRi_HCRFF_K562.hg38.ZScore.unstranded.bed.gz\n",
      "\n",
      "Log file: ${FD_LOG}/region.coverage.dnase_ENCFF274YGF.CRISPRi_HCRFF_K562.hg38.ZScore.unstranded.bed.gz.txt\n",
      "\n",
      "==============================\n",
      "Region folder: encode_open_chromatin\n",
      "Region label:  dnase_ENCFF274YGF\n",
      "Assay  name:   CRISPRi_Growth_K562_Gersbach_JinWoo\n",
      "\n",
      "Output fdiry:  /data/reddylab/Kuei/repo/Proj_ENCODE_FCC/results/region_coverage_fcc/dnase_ENCFF274YGF/CRISPRi_Growth_K562_Gersbach_JinWoo/overlap_score\n",
      "Output fname:  CRISPRi_Growth_K562.hg38.ZScore.unstranded.bed.gz\n",
      "\n",
      "Log file: ${FD_LOG}/region.coverage.dnase_ENCFF274YGF.CRISPRi_Growth_K562.hg38.ZScore.unstranded.bed.gz.txt\n",
      "\n",
      "==============================\n",
      "Region folder: encode_open_chromatin\n",
      "Region label:  dnase_ENCFF274YGF\n",
      "Assay  name:   MPRA_Lenti_K562_Nadav_Vikram\n",
      "\n",
      "Output fdiry:  /data/reddylab/Kuei/repo/Proj_ENCODE_FCC/results/region_coverage_fcc/dnase_ENCFF274YGF/MPRA_Lenti_K562_Nadav_Vikram/overlap_score\n",
      "Output fname:  LMPRA_K562.hg38.ZScore.stranded.bed.gz\n",
      "\n",
      "Log file: ${FD_LOG}/region.coverage.dnase_ENCFF274YGF.LMPRA_K562.hg38.ZScore.stranded.bed.gz.txt\n",
      "\n"
     ]
    }
   ],
   "source": [
    "### loop through each region set\n",
    "while read FOLDER_REG FNAME_REG LABEL_REG; do\n",
    "    \n",
    "    ### Set directory\n",
    "    FD_INP_A=${FD_RES}/region/${FOLDER_REG}\n",
    "    FN_INP_A=${FNAME_REG}\n",
    "    FP_INP_A=${FD_INP_A}/${FN_INP_A}\n",
    "    \n",
    "    ### loop through each assay\n",
    "    for ASSAY_NAME in ${ASSAY_NAMES[@]}; do\n",
    "\n",
    "        ### Set directory\n",
    "        FD_INP=${FD_RES}/${ASSAY_TYPE}/${ASSAY_NAME}\n",
    "        FP_INPS=($(ls ${FD_INP}/coverage/*hg38*ZScore*bed.gz))\n",
    "\n",
    "        ### loop through each sample\n",
    "        for FP_INP_B in ${FP_INPS[@]}; do\n",
    "            ### setup input file\n",
    "            FD_INP_B=$(dirname  ${FP_INP_B})\n",
    "            FN_INP_B=$(basename ${FP_INP_B})\n",
    "            \n",
    "            ### setup output file\n",
    "            FD_OUT=${FD_RES}/region_coverage_fcc/${LABEL_REG}/${ASSAY_NAME}/overlap_score\n",
    "            FN_OUT=${FN_INP_B}\n",
    "            FP_OUT=${FD_OUT}/${FN_OUT}\n",
    "            \n",
    "            ### setup log file\n",
    "            FN_LOG=region.coverage.${LABEL_REG}.${FN_OUT}.txt\n",
    "            FP_LOG=${FD_LOG}/${FN_LOG}\n",
    "            \n",
    "            ### show progress\n",
    "            echo ==============================\n",
    "            echo \"Region folder:\" ${FOLDER_REG}\n",
    "            echo \"Region label: \" ${LABEL_REG}\n",
    "            echo \"Assay  name:  \" ${ASSAY_NAME}\n",
    "            echo\n",
    "            echo \"Output fdiry: \" ${FD_OUT}\n",
    "            echo \"Output fname: \" ${FN_OUT}\n",
    "            echo\n",
    "            echo \"Log file:\" '${FD_LOG}/'${FN_LOG}\n",
    "            echo\n",
    "        done\n",
    "    done\n",
    "done < <(cat ${FP_REGION_LABEL} | awk 'NR >=2 {print}' | head -n 1)"
   ]
  },
  {
   "cell_type": "markdown",
   "id": "c68ed3ca-0b74-4e78-a5ad-ef95acc171e2",
   "metadata": {
    "tags": []
   },
   "source": [
    "## Execute"
   ]
  },
  {
   "cell_type": "markdown",
   "id": "9e085e5d-c41c-49c9-a659-5f0520f3832d",
   "metadata": {},
   "source": [
    "**RUN**"
   ]
  },
  {
   "cell_type": "code",
   "execution_count": 16,
   "id": "b371ea4e-76d7-423c-8724-a5206adfeb0c",
   "metadata": {},
   "outputs": [
    {
     "name": "stdout",
     "output_type": "stream",
     "text": [
      "==============================\n",
      "Region folder: fcc_astarr_macs\n",
      "Region label:  fcc_astarr_macs_input_overlap\n",
      "Assay  name:   CRISPRi_FlowFISH_K562_Riley_JinWoo\n",
      "\n",
      "Output fdiry:  /data/reddylab/Kuei/repo/Proj_ENCODE_FCC/results/region_coverage_fcc/fcc_astarr_macs_input_overlap/CRISPRi_FlowFISH_K562_Riley_JinWoo/overlap_score\n",
      "Output fname:  CRISPRi_HCRFF_K562.hg38.ZScore.filtered.unstranded.bed.gz\n",
      "\n",
      "Log file: ${FD_LOG}/region.coverage.fcc_astarr_macs_input_overlap.CRISPRi_HCRFF_K562.hg38.ZScore.filtered.unstranded.bed.gz.txt\n",
      "\n",
      "Submitted batch job 30854188\n",
      "\n",
      "==============================\n",
      "Region folder: fcc_astarr_macs\n",
      "Region label:  fcc_astarr_macs_input_overlap\n",
      "Assay  name:   CRISPRi_FlowFISH_K562_Riley_JinWoo\n",
      "\n",
      "Output fdiry:  /data/reddylab/Kuei/repo/Proj_ENCODE_FCC/results/region_coverage_fcc/fcc_astarr_macs_input_overlap/CRISPRi_FlowFISH_K562_Riley_JinWoo/overlap_score\n",
      "Output fname:  CRISPRi_HCRFF_K562.hg38.ZScore.unstranded.bed.gz\n",
      "\n",
      "Log file: ${FD_LOG}/region.coverage.fcc_astarr_macs_input_overlap.CRISPRi_HCRFF_K562.hg38.ZScore.unstranded.bed.gz.txt\n",
      "\n",
      "Submitted batch job 30854189\n",
      "\n",
      "==============================\n",
      "Region folder: fcc_astarr_macs\n",
      "Region label:  fcc_astarr_macs_input_overlap\n",
      "Assay  name:   CRISPRi_Growth_K562_Gersbach_JinWoo\n",
      "\n",
      "Output fdiry:  /data/reddylab/Kuei/repo/Proj_ENCODE_FCC/results/region_coverage_fcc/fcc_astarr_macs_input_overlap/CRISPRi_Growth_K562_Gersbach_JinWoo/overlap_score\n",
      "Output fname:  CRISPRi_Growth_K562.hg38.ZScore.unstranded.bed.gz\n",
      "\n",
      "Log file: ${FD_LOG}/region.coverage.fcc_astarr_macs_input_overlap.CRISPRi_Growth_K562.hg38.ZScore.unstranded.bed.gz.txt\n",
      "\n",
      "Submitted batch job 30854190\n",
      "\n",
      "==============================\n",
      "Region folder: fcc_astarr_macs\n",
      "Region label:  fcc_astarr_macs_input_overlap\n",
      "Assay  name:   MPRA_Lenti_K562_Nadav_Vikram\n",
      "\n",
      "Output fdiry:  /data/reddylab/Kuei/repo/Proj_ENCODE_FCC/results/region_coverage_fcc/fcc_astarr_macs_input_overlap/MPRA_Lenti_K562_Nadav_Vikram/overlap_score\n",
      "Output fname:  LMPRA_K562.hg38.ZScore.stranded.bed.gz\n",
      "\n",
      "Log file: ${FD_LOG}/region.coverage.fcc_astarr_macs_input_overlap.LMPRA_K562.hg38.ZScore.stranded.bed.gz.txt\n",
      "\n",
      "Submitted batch job 30854191\n",
      "\n",
      "==============================\n",
      "Region folder: fcc_astarr_macs\n",
      "Region label:  fcc_astarr_macs_input_union\n",
      "Assay  name:   CRISPRi_FlowFISH_K562_Riley_JinWoo\n",
      "\n",
      "Output fdiry:  /data/reddylab/Kuei/repo/Proj_ENCODE_FCC/results/region_coverage_fcc/fcc_astarr_macs_input_union/CRISPRi_FlowFISH_K562_Riley_JinWoo/overlap_score\n",
      "Output fname:  CRISPRi_HCRFF_K562.hg38.ZScore.filtered.unstranded.bed.gz\n",
      "\n",
      "Log file: ${FD_LOG}/region.coverage.fcc_astarr_macs_input_union.CRISPRi_HCRFF_K562.hg38.ZScore.filtered.unstranded.bed.gz.txt\n",
      "\n",
      "Submitted batch job 30854192\n",
      "\n",
      "==============================\n",
      "Region folder: fcc_astarr_macs\n",
      "Region label:  fcc_astarr_macs_input_union\n",
      "Assay  name:   CRISPRi_FlowFISH_K562_Riley_JinWoo\n",
      "\n",
      "Output fdiry:  /data/reddylab/Kuei/repo/Proj_ENCODE_FCC/results/region_coverage_fcc/fcc_astarr_macs_input_union/CRISPRi_FlowFISH_K562_Riley_JinWoo/overlap_score\n",
      "Output fname:  CRISPRi_HCRFF_K562.hg38.ZScore.unstranded.bed.gz\n",
      "\n",
      "Log file: ${FD_LOG}/region.coverage.fcc_astarr_macs_input_union.CRISPRi_HCRFF_K562.hg38.ZScore.unstranded.bed.gz.txt\n",
      "\n",
      "Submitted batch job 30854193\n",
      "\n",
      "==============================\n",
      "Region folder: fcc_astarr_macs\n",
      "Region label:  fcc_astarr_macs_input_union\n",
      "Assay  name:   CRISPRi_Growth_K562_Gersbach_JinWoo\n",
      "\n",
      "Output fdiry:  /data/reddylab/Kuei/repo/Proj_ENCODE_FCC/results/region_coverage_fcc/fcc_astarr_macs_input_union/CRISPRi_Growth_K562_Gersbach_JinWoo/overlap_score\n",
      "Output fname:  CRISPRi_Growth_K562.hg38.ZScore.unstranded.bed.gz\n",
      "\n",
      "Log file: ${FD_LOG}/region.coverage.fcc_astarr_macs_input_union.CRISPRi_Growth_K562.hg38.ZScore.unstranded.bed.gz.txt\n",
      "\n",
      "Submitted batch job 30854194\n",
      "\n",
      "==============================\n",
      "Region folder: fcc_astarr_macs\n",
      "Region label:  fcc_astarr_macs_input_union\n",
      "Assay  name:   MPRA_Lenti_K562_Nadav_Vikram\n",
      "\n",
      "Output fdiry:  /data/reddylab/Kuei/repo/Proj_ENCODE_FCC/results/region_coverage_fcc/fcc_astarr_macs_input_union/MPRA_Lenti_K562_Nadav_Vikram/overlap_score\n",
      "Output fname:  LMPRA_K562.hg38.ZScore.stranded.bed.gz\n",
      "\n",
      "Log file: ${FD_LOG}/region.coverage.fcc_astarr_macs_input_union.LMPRA_K562.hg38.ZScore.stranded.bed.gz.txt\n",
      "\n",
      "Submitted batch job 30854195\n",
      "\n"
     ]
    }
   ],
   "source": [
    "### loop through each region set\n",
    "while read FOLDER_REG FNAME_REG LABEL_REG; do\n",
    "    \n",
    "    ### Set directory\n",
    "    FD_INP_A=${FD_RES}/region/${FOLDER_REG}\n",
    "    FN_INP_A=${FNAME_REG}\n",
    "    FP_INP_A=${FD_INP_A}/${FN_INP_A}\n",
    "    \n",
    "    ### loop through each assay\n",
    "    for ASSAY_NAME in ${ASSAY_NAMES[@]}; do\n",
    "\n",
    "        ### Set directory\n",
    "        FD_INP=${FD_RES}/${ASSAY_TYPE}/${ASSAY_NAME}\n",
    "        FP_INPS=($(ls ${FD_INP}/coverage/*hg38*ZScore*bed.gz))\n",
    "\n",
    "        ### loop through each sample\n",
    "        for FP_INP_B in ${FP_INPS[@]}; do\n",
    "            ### setup input file\n",
    "            FD_INP_B=$(dirname  ${FP_INP_B})\n",
    "            FN_INP_B=$(basename ${FP_INP_B})\n",
    "            \n",
    "            ### setup output file\n",
    "            FD_OUT=${FD_RES}/region_coverage_fcc/${LABEL_REG}/${ASSAY_NAME}/overlap_score\n",
    "            FN_OUT=${FN_INP_B}\n",
    "            FP_OUT=${FD_OUT}/${FN_OUT}\n",
    "            \n",
    "            ### setup log file\n",
    "            FN_LOG=region.coverage.${LABEL_REG}.${FN_OUT}.txt\n",
    "            FP_LOG=${FD_LOG}/${FN_LOG}\n",
    "            \n",
    "            ### show progress\n",
    "            echo ==============================\n",
    "            echo \"Region folder:\" ${FOLDER_REG}\n",
    "            echo \"Region label: \" ${LABEL_REG}\n",
    "            echo \"Assay  name:  \" ${ASSAY_NAME}\n",
    "            echo\n",
    "            echo \"Output fdiry: \" ${FD_OUT}\n",
    "            echo \"Output fname: \" ${FN_OUT}\n",
    "            echo\n",
    "            echo \"Log file:\" '${FD_LOG}/'${FN_LOG}\n",
    "            echo\n",
    "            \n",
    "            ### execute\n",
    "            mkdir -p ${FD_OUT}\n",
    "            sbatch -p ${NODE} \\\n",
    "                --exclude=dl-01 \\\n",
    "                --cpus-per-task 4 \\\n",
    "                --mem 10G \\\n",
    "                --output ${FP_LOG} \\\n",
    "                ${FD_EXE}/run_bedtools_intersect_wo.sh ${FD_PRJ} ${FP_INP_A} ${FP_INP_B} ${FP_OUT}\n",
    "            echo\n",
    "        done\n",
    "    done\n",
    "done < <(cat ${FP_REGION_LABEL} | awk 'NR >=2 {print}' | grep fcc_astarr_macs)"
   ]
  },
  {
   "cell_type": "markdown",
   "id": "8ccef8db-2486-4aca-95c4-b9e70e644710",
   "metadata": {},
   "source": [
    "## Review"
   ]
  },
  {
   "cell_type": "markdown",
   "id": "a3fa749f-f53f-40b4-845f-11de4d2de298",
   "metadata": {},
   "source": [
    "**Check results**"
   ]
  },
  {
   "cell_type": "code",
   "execution_count": 17,
   "id": "69f4a864-6716-46f5-876b-458a260a8d27",
   "metadata": {},
   "outputs": [
    {
     "name": "stdout",
     "output_type": "stream",
     "text": [
      "Hostname:           x2-08-4.genome.duke.edu\n",
      "Slurm Array Index: \n",
      "Time Stamp:         06-14-24+14:24:41\n",
      "\n",
      "Input:  /data/reddylab/Kuei/repo/Proj_ENCODE_FCC/results/region/fcc_astarr_macs/K562.hg38.ASTARR.macs.KS91.input.rep_all.max_overlaps.q5.bed.gz\n",
      "\n",
      "show first few lines of input\n",
      "chr1\t10038\t10405\n",
      "chr1\t14282\t14614\n",
      "chr1\t16025\t16338\n",
      "chr1\t17288\t17689\n",
      "chr1\t28934\t29499\n",
      "chr1\t115429\t115969\n",
      "chr1\t136201\t137353\n",
      "chr1\t137748\t138049\n",
      "chr1\t138321\t139517\n",
      "chr1\t181005\t181854\n",
      "\n",
      "Input:  /data/reddylab/Kuei/repo/Proj_ENCODE_FCC/results/assay_fcc/CRISPRi_Growth_K562_Gersbach_JinWoo/coverage/CRISPRi_Growth_K562.hg38.ZScore.unstranded.bed.gz\n",
      "\n",
      "show first few lines of input\n",
      "chr1\t605580\t605581\tid-1\t-0.18066\t.\n",
      "chr1\t605581\t605582\tid-2\t0.486646\t.\n",
      "chr1\t605589\t605590\tid-3\t3.17124\t.\n",
      "chr1\t605591\t605592\tid-4\t-0.364573\t.\n",
      "chr1\t605592\t605593\tid-5\t-0.206319\t.\n",
      "chr1\t605609\t605610\tid-6\t-0.26675\t.\n",
      "chr1\t605617\t605618\tid-7\t-0.7741\t.\n",
      "chr1\t605618\t605619\tid-8\t-0.353224\t.\n",
      "chr1\t605619\t605620\tid-9\t-0.187707\t.\n",
      "chr1\t605620\t605621\tid-10\t-0.420401\t.\n",
      "\n",
      "\n",
      "Output:  /data/reddylab/Kuei/repo/Proj_ENCODE_FCC/results/region_coverage_fcc/fcc_astarr_macs_input_overlap/CRISPRi_Growth_K562_Gersbach_JinWoo/overlap_score/CRISPRi_Growth_K562.hg38.ZScore.unstranded.bed.gz\n",
      "\n",
      "show first few lines of output:\n",
      "chr1\t605104\t605675\tchr1\t605580\t605581\tid-1\t-0.18066\t.\t1\n",
      "chr1\t605104\t605675\tchr1\t605581\t605582\tid-2\t0.486646\t.\t1\n",
      "chr1\t605104\t605675\tchr1\t605589\t605590\tid-3\t3.17124\t.\t1\n",
      "chr1\t605104\t605675\tchr1\t605591\t605592\tid-4\t-0.364573\t.\t1\n",
      "chr1\t605104\t605675\tchr1\t605592\t605593\tid-5\t-0.206319\t.\t1\n",
      "chr1\t605104\t605675\tchr1\t605609\t605610\tid-6\t-0.26675\t.\t1\n",
      "chr1\t605104\t605675\tchr1\t605617\t605618\tid-7\t-0.7741\t.\t1\n",
      "chr1\t605104\t605675\tchr1\t605618\t605619\tid-8\t-0.353224\t.\t1\n",
      "chr1\t605104\t605675\tchr1\t605619\t605620\tid-9\t-0.187707\t.\t1\n",
      "chr1\t605104\t605675\tchr1\t605620\t605621\tid-10\t-0.420401\t.\t1\n",
      "\n",
      "\n",
      "Done!\n",
      "Run Time: 6 seconds\n"
     ]
    }
   ],
   "source": [
    "cat ${FD_LOG}/region.coverage.fcc_astarr_macs_input_overlap.CRISPRi_Growth_K562.hg38.ZScore.unstranded.bed.gz.txt"
   ]
  },
  {
   "cell_type": "code",
   "execution_count": 15,
   "id": "0ad97dd8-1626-4c9a-bb43-331a8030f4ba",
   "metadata": {},
   "outputs": [
    {
     "name": "stdout",
     "output_type": "stream",
     "text": [
      "Hostname:           x3-03-1.genome.duke.edu\n",
      "Slurm Array Index: \n",
      "Time Stamp:         06-13-24+14:33:28\n",
      "\n",
      "Input:  /data/reddylab/Kuei/repo/Proj_ENCODE_FCC/results/region/fcc_astarr_macs/K562.hg38.ASTARR.macs.KS91.input.rep_all.max_overlaps.q5.bed.gz\n",
      "\n",
      "show first few lines of input\n",
      "chr1\t10038\t10405\n",
      "chr1\t14282\t14614\n",
      "chr1\t16025\t16338\n",
      "chr1\t17288\t17689\n",
      "chr1\t28934\t29499\n",
      "chr1\t115429\t115969\n",
      "chr1\t136201\t137353\n",
      "chr1\t137748\t138049\n",
      "chr1\t138321\t139517\n",
      "chr1\t181005\t181854\n",
      "\n",
      "Input:  /data/reddylab/Kuei/repo/Proj_ENCODE_FCC/results/assay_fcc/MPRA_Lenti_K562_Nadav_Vikram/coverage/LMPRA_K562.hg38.ZScore.stranded.bed.gz\n",
      "\n",
      "show first few lines of input\n",
      "chr1\t115631\t115831\tpeak1_Reversed:\t2.0511007569226227\t-\n",
      "chr1\t138940\t139140\tpeak2_Reversed:\t1.5391817792648435\t-\n",
      "chr1\t138940\t139140\tpeak2\t-0.06555714360564233\t+\n",
      "chr1\t203225\t203425\tpeak3\t1.2305781402512883\t+\n",
      "chr1\t203225\t203425\tpeak3_Reversed:\t0.8856681907655505\t-\n",
      "chr1\t267911\t268111\tpeak4_Reversed:\t-1.6049447076261982\t-\n",
      "chr1\t267911\t268111\tpeak4\t2.7227675006580068\t+\n",
      "chr1\t586093\t586293\tpeak5\t0.30476722321062366\t+\n",
      "chr1\t586093\t586293\tpeak5_Reversed:\t1.5137673619343153\t-\n",
      "chr1\t629847\t630047\tpeak6_Reversed:\t-1.4451969415485937\t-\n",
      "\n",
      "\n",
      "Output:  /data/reddylab/Kuei/repo/Proj_ENCODE_FCC/results/region_coverage_fcc/fcc_astarr_macs_input_overlap/MPRA_Lenti_K562_Nadav_Vikram/overlap_score/LMPRA_K562.hg38.ZScore.stranded.bed.gz\n",
      "\n",
      "show first few lines of output:\n",
      "chr1\t115429\t115969\tchr1\t115631\t115831\tpeak1_Reversed:\t2.0511007569226227\t-\t200\n",
      "chr1\t138321\t139517\tchr1\t138940\t139140\tpeak2_Reversed:\t1.5391817792648435\t-\t200\n",
      "chr1\t138321\t139517\tchr1\t138940\t139140\tpeak2\t-0.06555714360564233\t+\t200\n",
      "chr1\t267910\t268557\tchr1\t267911\t268111\tpeak4_Reversed:\t-1.6049447076261982\t-\t200\n",
      "chr1\t267910\t268557\tchr1\t267911\t268111\tpeak4\t2.7227675006580068\t+\t200\n",
      "chr1\t778233\t779389\tchr1\t778638\t778838\tpeak11\t5.376758796174578\t+\t200\n",
      "chr1\t778233\t779389\tchr1\t778638\t778838\tpeak11_Reversed:\t6.447794955103975\t-\t200\n",
      "chr1\t842516\t843431\tchr1\t842870\t843070\tpeak13_Reversed:\t3.0059567223410335\t-\t200\n",
      "chr1\t842516\t843431\tchr1\t842870\t843070\tpeak13\t2.893407159877267\t+\t200\n",
      "chr1\t898691\t899306\tchr1\t898800\t899000\tpeak15_Reversed:\t0.9764339669460079\t-\t200\n",
      "\n",
      "\n",
      "Done!\n",
      "Run Time: 3 seconds\n"
     ]
    }
   ],
   "source": [
    "cat ${FD_LOG}/region.coverage.fcc_astarr_macs_input_overlap.LMPRA_K562.hg38.ZScore.stranded.bed.gz.txt"
   ]
  },
  {
   "cell_type": "code",
   "execution_count": 16,
   "id": "c9b91833-4e27-421c-9579-df4231081185",
   "metadata": {},
   "outputs": [
    {
     "name": "stdout",
     "output_type": "stream",
     "text": [
      "Hostname:           x3-03-1.genome.duke.edu\n",
      "Slurm Array Index: \n",
      "Time Stamp:         06-13-24+14:33:28\n",
      "\n",
      "Input:  /data/reddylab/Kuei/repo/Proj_ENCODE_FCC/results/region/fcc_astarr_macs/K562.hg38.ASTARR.macs.KS91.input.rep_all.union.q5.bed.gz\n",
      "\n",
      "show first few lines of input\n",
      "chr1\t10015\t10442\n",
      "chr1\t14253\t14645\n",
      "chr1\t16015\t16477\n",
      "chr1\t17237\t17772\n",
      "chr1\t28903\t29613\n",
      "chr1\t30803\t31072\n",
      "chr1\t101603\t101849\n",
      "chr1\t115411\t115986\n",
      "chr1\t118518\t118743\n",
      "chr1\t136071\t137429\n",
      "\n",
      "Input:  /data/reddylab/Kuei/repo/Proj_ENCODE_FCC/results/assay_fcc/CRISPRi_FlowFISH_K562_Riley_JinWoo/coverage/CRISPRi_HCRFF_K562.hg38.ZScore.filtered.unstranded.bed.gz\n",
      "\n",
      "show first few lines of input\n",
      "chr11\t4091884\t4091885\tid-99\t0.114291\t.\tHBE1\n",
      "chr11\t4091884\t4091885\tid-99\t0.650791\t.\tHBG1\n",
      "chr11\t4091884\t4091885\tid-99\t0.694152\t.\tHBG2\n",
      "chr11\t4091884\t4091885\tid-99\t-0.074553\t.\tHBS1L\n",
      "chr11\t4091884\t4091885\tid-99\t-0.257127\t.\tMYB\n",
      "chr11\t4091885\t4091886\tid-100\t-0.546764\t.\tHBE1\n",
      "chr11\t4091885\t4091886\tid-100\t0.084442\t.\tHBG1\n",
      "chr11\t4091885\t4091886\tid-100\t-0.119862\t.\tHBG2\n",
      "chr11\t4091885\t4091886\tid-100\t0.240283\t.\tHBS1L\n",
      "chr11\t4091885\t4091886\tid-100\t0.212189\t.\tMYB\n",
      "\n",
      "\n",
      "Output:  /data/reddylab/Kuei/repo/Proj_ENCODE_FCC/results/region_coverage_fcc/fcc_astarr_macs_input_union/CRISPRi_FlowFISH_K562_Riley_JinWoo/overlap_score/CRISPRi_HCRFF_K562.hg38.ZScore.filtered.unstranded.bed.gz\n",
      "\n",
      "show first few lines of output:\n",
      "chr11\t4092104\t4092566\tchr11\t4092122\t4092123\tid-145\t-1.10103\t.\tHBE1\t1\n",
      "chr11\t4092104\t4092566\tchr11\t4092122\t4092123\tid-145\t-0.015199\t.\tHBG1\t1\n",
      "chr11\t4092104\t4092566\tchr11\t4092122\t4092123\tid-145\t0.304337\t.\tHBG2\t1\n",
      "chr11\t4092104\t4092566\tchr11\t4092122\t4092123\tid-145\t-0.675545\t.\tHBS1L\t1\n",
      "chr11\t4092104\t4092566\tchr11\t4092122\t4092123\tid-145\t0.134939\t.\tMYB\t1\n",
      "chr11\t4092104\t4092566\tchr11\t4092123\t4092124\tid-146\t-0.061961\t.\tHBE1\t1\n",
      "chr11\t4092104\t4092566\tchr11\t4092123\t4092124\tid-146\t0.666595\t.\tHBG1\t1\n",
      "chr11\t4092104\t4092566\tchr11\t4092123\t4092124\tid-146\t0.267739\t.\tHBG2\t1\n",
      "chr11\t4092104\t4092566\tchr11\t4092123\t4092124\tid-146\t-0.384682\t.\tHBS1L\t1\n",
      "chr11\t4092104\t4092566\tchr11\t4092123\t4092124\tid-146\t-0.100842\t.\tMYB\t1\n",
      "\n",
      "\n",
      "Done!\n",
      "Run Time: 3 seconds\n"
     ]
    }
   ],
   "source": [
    "cat ${FD_LOG}/region.coverage.fcc_astarr_macs_input_union.CRISPRi_HCRFF_K562.hg38.ZScore.filtered.unstranded.bed.gz.txt"
   ]
  },
  {
   "cell_type": "code",
   "execution_count": 17,
   "id": "e3c8555d-48fd-40cd-b6a6-618895acb960",
   "metadata": {},
   "outputs": [
    {
     "name": "stdout",
     "output_type": "stream",
     "text": [
      "Hostname:           x3-03-2.genome.duke.edu\n",
      "Slurm Array Index: \n",
      "Time Stamp:         06-13-24+14:33:28\n",
      "\n",
      "Input:  /data/reddylab/Kuei/repo/Proj_ENCODE_FCC/results/region/fcc_astarr_macs/K562.hg38.ASTARR.macs.KS91.input.rep_all.union.q5.bed.gz\n",
      "\n",
      "show first few lines of input\n",
      "chr1\t10015\t10442\n",
      "chr1\t14253\t14645\n",
      "chr1\t16015\t16477\n",
      "chr1\t17237\t17772\n",
      "chr1\t28903\t29613\n",
      "chr1\t30803\t31072\n",
      "chr1\t101603\t101849\n",
      "chr1\t115411\t115986\n",
      "chr1\t118518\t118743\n",
      "chr1\t136071\t137429\n",
      "\n",
      "Input:  /data/reddylab/Kuei/repo/Proj_ENCODE_FCC/results/assay_fcc/CRISPRi_FlowFISH_K562_Riley_JinWoo/coverage/CRISPRi_HCRFF_K562.hg38.ZScore.unstranded.bed.gz\n",
      "\n",
      "show first few lines of input\n",
      "chr1\t74582275\t74582276\tid-1\t0.414014\t.\tCD164\n",
      "chr1\t74582275\t74582276\tid-1\t-0.493091\t.\tMYC\n",
      "chr1\t74582275\t74582276\tid-1\t0.024514\t.\tNMU\n",
      "chr1\t74582275\t74582276\tid-1\t0.44089\t.\tPVT1\n",
      "chr1\t74582309\t74582310\tid-2\t-0.181799\t.\tCD164\n",
      "chr1\t74582309\t74582310\tid-2\t0.997649\t.\tMYC\n",
      "chr1\t74582309\t74582310\tid-2\t-0.439687\t.\tNMU\n",
      "chr1\t74582309\t74582310\tid-2\t1.25627\t.\tPVT1\n",
      "chr1\t80526338\t80526339\tid-3\t-0.186275\t.\tCD164\n",
      "chr1\t80526338\t80526339\tid-3\t0.340142\t.\tMYC\n",
      "\n",
      "\n",
      "Output:  /data/reddylab/Kuei/repo/Proj_ENCODE_FCC/results/region_coverage_fcc/fcc_astarr_macs_input_union/CRISPRi_FlowFISH_K562_Riley_JinWoo/overlap_score/CRISPRi_HCRFF_K562.hg38.ZScore.unstranded.bed.gz\n",
      "\n",
      "show first few lines of output:\n",
      "chr10\t100729027\t100729908\tchr10\t100729052\t100729053\tid-241\t-0.282619\t.\tCAPRIN1\t1\n",
      "chr10\t100729027\t100729908\tchr10\t100729052\t100729053\tid-241\t-1.27947\t.\tCAT\t1\n",
      "chr10\t100729027\t100729908\tchr10\t100729052\t100729053\tid-340\t0.65685\t.\tCD164\t1\n",
      "chr10\t100729027\t100729908\tchr10\t100729052\t100729053\tid-241\t-0.323226\t.\tERP29\t1\n",
      "chr10\t100729027\t100729908\tchr10\t100729052\t100729053\tid-241\t-0.582477\t.\tLMO2\t1\n",
      "chr10\t100729027\t100729908\tchr10\t100729052\t100729053\tid-241\t-0.499114\t.\tMEF2C\t1\n",
      "chr10\t100729027\t100729908\tchr10\t100729052\t100729053\tid-340\t0.229685\t.\tNMU\t1\n",
      "chr10\t100729027\t100729908\tchr10\t100729112\t100729113\tid-242\t-1.31977\t.\tCAPRIN1\t1\n",
      "chr10\t100729027\t100729908\tchr10\t100729112\t100729113\tid-242\t-0.259811\t.\tCAT\t1\n",
      "chr10\t100729027\t100729908\tchr10\t100729112\t100729113\tid-341\t-0.422878\t.\tCD164\t1\n",
      "\n",
      "\n",
      "Done!\n",
      "Run Time: 3 seconds\n"
     ]
    }
   ],
   "source": [
    "cat ${FD_LOG}/region.coverage.fcc_astarr_macs_input_union.CRISPRi_HCRFF_K562.hg38.ZScore.unstranded.bed.gz.txt"
   ]
  },
  {
   "cell_type": "code",
   "execution_count": null,
   "id": "8dacd268-69f5-4d20-b80f-c1f7bff3ce17",
   "metadata": {},
   "outputs": [],
   "source": []
  },
  {
   "cell_type": "code",
   "execution_count": null,
   "id": "c6fda712-eccd-4b8d-838f-76d7b51b3c42",
   "metadata": {},
   "outputs": [],
   "source": []
  },
  {
   "cell_type": "code",
   "execution_count": 12,
   "id": "c08267ca-0fc7-4940-b959-898d32f3ce00",
   "metadata": {},
   "outputs": [
    {
     "name": "stdout",
     "output_type": "stream",
     "text": [
      "Hostname:           x3-01-4.genome.duke.edu\n",
      "Slurm Array Index: \n",
      "Time Stamp:         06-13-24+14:32:58\n",
      "\n",
      "Input:  /data/reddylab/Kuei/repo/Proj_ENCODE_FCC/results/region/encode_open_chromatin/K562.hg38.ENCSR000EKS.ENCFF274YGF.DNase.bed.gz\n",
      "\n",
      "show first few lines of input\n",
      "chr1\t181400\t181530\t.\t0\t.\t0.299874\t-1\t-1\t75\n",
      "chr1\t778660\t778800\t.\t0\t.\t14.1383\t-1\t-1\t75\n",
      "chr1\t779137\t779200\t.\t0\t.\t0.33144\t-1\t-1\t75\n",
      "chr1\t827460\t827554\t.\t0\t.\t3.38384\t-1\t-1\t75\n",
      "chr1\t842880\t843060\t.\t0\t.\t1.64457\t-1\t-1\t75\n",
      "chr1\t869800\t869980\t.\t0\t.\t2.23485\t-1\t-1\t75\n",
      "chr1\t875760\t875920\t.\t0\t.\t0.356692\t-1\t-1\t75\n",
      "chr1\t898828\t899004\t.\t0\t.\t0.363005\t-1\t-1\t75\n",
      "chr1\t900030\t900100\t.\t0\t.\t0.249369\t-1\t-1\t75\n",
      "chr1\t901580\t901645\t.\t0\t.\t0.217803\t-1\t-1\t75\n",
      "\n",
      "Input:  /data/reddylab/Kuei/repo/Proj_ENCODE_FCC/results/assay_fcc/CRISPRi_Growth_K562_Gersbach_JinWoo/coverage/CRISPRi_Growth_K562.hg38.ZScore.unstranded.bed.gz\n",
      "\n",
      "show first few lines of input\n",
      "chr1\t74582275\t74582276\tid-1\t0.44089\t.\n",
      "chr1\t74582309\t74582310\tid-2\t1.25627\t.\n",
      "chr1\t80526338\t80526339\tid-3\t0.146948\t.\n",
      "chr1\t102025739\t102025740\tid-4\t-0.389965\t.\n",
      "chr1\t102026463\t102026464\tid-5\t-0.983594\t.\n",
      "chr1\t102522706\t102522707\tid-6\t-0.050346\t.\n",
      "chr1\t105022840\t105022841\tid-7\t0.415363\t.\n",
      "chr1\t118171119\t118171120\tid-8\t0.218691\t.\n",
      "chr1\t118172364\t118172365\tid-9\t-1.3605\t.\n",
      "chr1\t158881104\t158881105\tid-10\t-0.187116\t.\n",
      "\n"
     ]
    }
   ],
   "source": [
    "cat ${FD_LOG}/region.coverage.dnase_ENCFF274YGF.CRISPRi_Growth_K562.hg38.ZScore.unstranded.bed.gz.txt"
   ]
  },
  {
   "cell_type": "code",
   "execution_count": 25,
   "id": "e6c9bd55-85f5-4968-8da0-fc7ac775fb04",
   "metadata": {},
   "outputs": [
    {
     "name": "stdout",
     "output_type": "stream",
     "text": [
      "Hostname:           x2-08-1.genome.duke.edu\n",
      "Slurm Array Index: \n",
      "Time Stamp:         06-11-24+13:55:03\n",
      "\n",
      "Input:  /data/reddylab/Kuei/repo/Proj_ENCODE_FCC/results/region/encode_open_chromatin/K562.hg38.ENCSR000EKS.ENCFF274YGF.DNase.bed.gz\n",
      "\n",
      "show first few lines of input\n",
      "chr1\t181400\t181530\t.\t0\t.\t0.299874\t-1\t-1\t75\n",
      "chr1\t778660\t778800\t.\t0\t.\t14.1383\t-1\t-1\t75\n",
      "chr1\t779137\t779200\t.\t0\t.\t0.33144\t-1\t-1\t75\n",
      "chr1\t827460\t827554\t.\t0\t.\t3.38384\t-1\t-1\t75\n",
      "chr1\t842880\t843060\t.\t0\t.\t1.64457\t-1\t-1\t75\n",
      "chr1\t869800\t869980\t.\t0\t.\t2.23485\t-1\t-1\t75\n",
      "chr1\t875760\t875920\t.\t0\t.\t0.356692\t-1\t-1\t75\n",
      "chr1\t898828\t899004\t.\t0\t.\t0.363005\t-1\t-1\t75\n",
      "chr1\t900030\t900100\t.\t0\t.\t0.249369\t-1\t-1\t75\n",
      "chr1\t901580\t901645\t.\t0\t.\t0.217803\t-1\t-1\t75\n",
      "\n",
      "Input:  /data/reddylab/Kuei/repo/Proj_ENCODE_FCC/results/assay_fcc/MPRA_Lenti_K562_Nadav_Vikram/coverage/LMPRA_K562.hg38.ZScore.stranded.bed.gz\n",
      "\n",
      "show first few lines of input\n",
      "chr1\t115631\t115831\tpeak1_Reversed:\t2.0511007569226227\t-\n",
      "chr1\t138940\t139140\tpeak2_Reversed:\t1.5391817792648435\t-\n",
      "chr1\t138940\t139140\tpeak2\t-0.06555714360564233\t+\n",
      "chr1\t203225\t203425\tpeak3\t1.2305781402512883\t+\n",
      "chr1\t203225\t203425\tpeak3_Reversed:\t0.8856681907655505\t-\n",
      "chr1\t267911\t268111\tpeak4_Reversed:\t-1.6049447076261982\t-\n",
      "chr1\t267911\t268111\tpeak4\t2.7227675006580068\t+\n",
      "chr1\t586093\t586293\tpeak5\t0.30476722321062366\t+\n",
      "chr1\t586093\t586293\tpeak5_Reversed:\t1.5137673619343153\t-\n",
      "chr1\t629847\t630047\tpeak6_Reversed:\t-1.4451969415485937\t-\n",
      "\n",
      "\n",
      "Output:  /data/reddylab/Kuei/repo/Proj_ENCODE_FCC/results/region_coverage_fcc/dnase_ENCFF274YGF/MPRA_Lenti_K562_Nadav_Vikram/overlap_score/LMPRA_K562.hg38.ZScore.stranded.bed.gz\n",
      "\n",
      "show first few lines of output:\n",
      "chr1\t778660\t778800\t.\t0\t.\t14.1383\t-1\t-1\t75\tchr1\t778638\t778838\tpeak11\t5.376758796174578\t+\t140\n",
      "chr1\t778660\t778800\t.\t0\t.\t14.1383\t-1\t-1\t75\tchr1\t778638\t778838\tpeak11_Reversed:\t6.447794955103975\t-\t140\n",
      "chr1\t842880\t843060\t.\t0\t.\t1.64457\t-1\t-1\t75\tchr1\t842870\t843070\tpeak13_Reversed:\t3.0059567223410335\t-\t180\n",
      "chr1\t842880\t843060\t.\t0\t.\t1.64457\t-1\t-1\t75\tchr1\t842870\t843070\tpeak13\t2.893407159877267\t+\t180\n",
      "chr1\t898828\t899004\t.\t0\t.\t0.363005\t-1\t-1\t75\tchr1\t898800\t899000\tpeak15_Reversed:\t0.9764339669460079\t-\t172\n",
      "chr1\t898828\t899004\t.\t0\t.\t0.363005\t-1\t-1\t75\tchr1\t898800\t899000\tpeak15\t3.499722544762722\t+\t172\n",
      "chr1\t904360\t904520\t.\t0\t.\t1.3447\t-1\t-1\t75\tchr1\t904350\t904550\tpeak16\t3.103983760615928\t+\t160\n",
      "chr1\t904360\t904520\t.\t0\t.\t1.3447\t-1\t-1\t75\tchr1\t904350\t904550\tpeak16_Reversed:\t3.358127933921208\t-\t160\n",
      "chr1\t911280\t911460\t.\t0\t.\t1.78662\t-1\t-1\t75\tchr1\t911257\t911457\tpeak18_Reversed:\t0.22852397121903947\t-\t177\n",
      "chr1\t911280\t911460\t.\t0\t.\t1.78662\t-1\t-1\t75\tchr1\t911257\t911457\tpeak18\t1.771542166286814\t+\t177\n",
      "\n",
      "\n",
      "Done!\n",
      "Run Time: 2 seconds\n"
     ]
    }
   ],
   "source": [
    "cat ${FD_LOG}/region.coverage.dnase_ENCFF274YGF.LMPRA_K562.hg38.ZScore.stranded.bed.gz.txt"
   ]
  },
  {
   "cell_type": "code",
   "execution_count": 28,
   "id": "b509144c-4a62-47eb-b1f1-7a7beaabefc3",
   "metadata": {},
   "outputs": [
    {
     "name": "stdout",
     "output_type": "stream",
     "text": [
      "Hostname:           x2-08-1.genome.duke.edu\n",
      "Slurm Array Index: \n",
      "Time Stamp:         06-10-24+17:26:54\n",
      "\n",
      "Input:  /data/reddylab/Kuei/repo/Proj_ENCODE_FCC/results/region/encode_open_chromatin/K562.hg38.ENCSR000EKS.ENCFF274YGF.DNase.bed.gz\n",
      "\n",
      "show first few lines of input\n",
      "chr1\t181400\t181530\t.\t0\t.\t0.299874\t-1\t-1\t75\n",
      "chr1\t778660\t778800\t.\t0\t.\t14.1383\t-1\t-1\t75\n",
      "chr1\t779137\t779200\t.\t0\t.\t0.33144\t-1\t-1\t75\n",
      "chr1\t827460\t827554\t.\t0\t.\t3.38384\t-1\t-1\t75\n",
      "chr1\t842880\t843060\t.\t0\t.\t1.64457\t-1\t-1\t75\n",
      "chr1\t869800\t869980\t.\t0\t.\t2.23485\t-1\t-1\t75\n",
      "chr1\t875760\t875920\t.\t0\t.\t0.356692\t-1\t-1\t75\n",
      "chr1\t898828\t899004\t.\t0\t.\t0.363005\t-1\t-1\t75\n",
      "chr1\t900030\t900100\t.\t0\t.\t0.249369\t-1\t-1\t75\n",
      "chr1\t901580\t901645\t.\t0\t.\t0.217803\t-1\t-1\t75\n",
      "\n",
      "Input:  /data/reddylab/Kuei/repo/Proj_ENCODE_FCC/results/assay_fcc/CRISPRi_FlowFISH_K562_Riley_JinWoo/guide_scores/CRISPRi_HCRFF_K562.hg38.ZScore.filtered.unstranded.bed.gz\n",
      "\n",
      "show first few lines of input\n",
      "chr11\t4091884\t4091885\tid-99\t0.114291\t.\tHBE1\n",
      "chr11\t4091884\t4091885\tid-99\t0.650791\t.\tHBG1\n",
      "chr11\t4091884\t4091885\tid-99\t0.694152\t.\tHBG2\n",
      "chr11\t4091884\t4091885\tid-99\t-0.074553\t.\tHBS1L\n",
      "chr11\t4091884\t4091885\tid-99\t-0.257127\t.\tMYB\n",
      "chr11\t4091885\t4091886\tid-100\t-0.546764\t.\tHBE1\n",
      "chr11\t4091885\t4091886\tid-100\t0.084442\t.\tHBG1\n",
      "chr11\t4091885\t4091886\tid-100\t-0.119862\t.\tHBG2\n",
      "chr11\t4091885\t4091886\tid-100\t0.240283\t.\tHBS1L\n",
      "chr11\t4091885\t4091886\tid-100\t0.212189\t.\tMYB\n",
      "\n",
      "\n",
      "Output:  /data/reddylab/Kuei/repo/Proj_ENCODE_FCC/results/region_coverage_fcc/dnase_ENCFF274YGF/CRISPRi_FlowFISH_K562_Riley_JinWoo/overlap_score/CRISPRi_HCRFF_K562.hg38.ZScore.filtered.unstranded.bed.gz\n",
      "\n",
      "show first few lines of output:\n",
      "chr11\t4092120\t4092337\t.\t0\t.\t0.565025\t-1\t-1\t75\tchr11\t4092122\t4092123\tid-145\t-1.10103\t.\tHBE1\t1\n",
      "chr11\t4092120\t4092337\t.\t0\t.\t0.565025\t-1\t-1\t75\tchr11\t4092122\t4092123\tid-145\t-0.015199\t.\tHBG1\t1\n",
      "chr11\t4092120\t4092337\t.\t0\t.\t0.565025\t-1\t-1\t75\tchr11\t4092122\t4092123\tid-145\t0.304337\t.\tHBG2\t1\n",
      "chr11\t4092120\t4092337\t.\t0\t.\t0.565025\t-1\t-1\t75\tchr11\t4092122\t4092123\tid-145\t-0.675545\t.\tHBS1L\t1\n",
      "chr11\t4092120\t4092337\t.\t0\t.\t0.565025\t-1\t-1\t75\tchr11\t4092122\t4092123\tid-145\t0.134939\t.\tMYB\t1\n",
      "chr11\t4092120\t4092337\t.\t0\t.\t0.565025\t-1\t-1\t75\tchr11\t4092123\t4092124\tid-146\t-0.061961\t.\tHBE1\t1\n",
      "chr11\t4092120\t4092337\t.\t0\t.\t0.565025\t-1\t-1\t75\tchr11\t4092123\t4092124\tid-146\t0.666595\t.\tHBG1\t1\n",
      "chr11\t4092120\t4092337\t.\t0\t.\t0.565025\t-1\t-1\t75\tchr11\t4092123\t4092124\tid-146\t0.267739\t.\tHBG2\t1\n",
      "chr11\t4092120\t4092337\t.\t0\t.\t0.565025\t-1\t-1\t75\tchr11\t4092123\t4092124\tid-146\t-0.384682\t.\tHBS1L\t1\n",
      "chr11\t4092120\t4092337\t.\t0\t.\t0.565025\t-1\t-1\t75\tchr11\t4092123\t4092124\tid-146\t-0.100842\t.\tMYB\t1\n",
      "\n",
      "\n",
      "Done!\n",
      "Run Time: 1 seconds\n"
     ]
    }
   ],
   "source": [
    "cat ${FD_LOG}/region.coverage.dnase_ENCFF274YGF.CRISPRi_HCRFF_K562.hg38.ZScore.filtered.unstranded.bed.gz.txt"
   ]
  },
  {
   "cell_type": "code",
   "execution_count": 29,
   "id": "00afc594-114b-4bf3-a9dc-3201e2c28c87",
   "metadata": {},
   "outputs": [
    {
     "name": "stdout",
     "output_type": "stream",
     "text": [
      "Hostname:           x2-08-1.genome.duke.edu\n",
      "Slurm Array Index: \n",
      "Time Stamp:         06-10-24+17:26:55\n",
      "\n",
      "Input:  /data/reddylab/Kuei/repo/Proj_ENCODE_FCC/results/region/fcc_astarr_macs/K562.hg38.ASTARR.macs.KS91.input.rep_all.union.q5.bed.gz\n",
      "\n",
      "show first few lines of input\n",
      "chr1\t10015\t10442\n",
      "chr1\t14253\t14645\n",
      "chr1\t16015\t16477\n",
      "chr1\t17237\t17772\n",
      "chr1\t28903\t29613\n",
      "chr1\t30803\t31072\n",
      "chr1\t101603\t101849\n",
      "chr1\t115411\t115986\n",
      "chr1\t118518\t118743\n",
      "chr1\t136071\t137429\n",
      "\n",
      "Input:  /data/reddylab/Kuei/repo/Proj_ENCODE_FCC/results/assay_fcc/MPRA_Lenti_K562_Nadav_Vikram/fragment_counts/LMPRA_K562.hg38.ZScore.stranded.bed.gz\n",
      "\n",
      "show first few lines of input\n",
      "chr1\t115631\t115831\tpeak1_Reversed:\t2.0511007569226227\t-\n",
      "chr1\t138940\t139140\tpeak2_Reversed:\t1.5391817792648435\t-\n",
      "chr1\t138940\t139140\tpeak2\t-0.06555714360564233\t+\n",
      "chr1\t203225\t203425\tpeak3\t1.2305781402512883\t+\n",
      "chr1\t203225\t203425\tpeak3_Reversed:\t0.8856681907655505\t-\n",
      "chr1\t267911\t268111\tpeak4_Reversed:\t-1.6049447076261982\t-\n",
      "chr1\t267911\t268111\tpeak4\t2.7227675006580068\t+\n",
      "chr1\t586093\t586293\tpeak5\t0.30476722321062366\t+\n",
      "chr1\t586093\t586293\tpeak5_Reversed:\t1.5137673619343153\t-\n",
      "chr1\t629847\t630047\tpeak6_Reversed:\t-1.4451969415485937\t-\n",
      "\n",
      "***** ERROR: illegal number \"NA\". Exiting...\n",
      "\n",
      "Output:  /data/reddylab/Kuei/repo/Proj_ENCODE_FCC/results/region_coverage_fcc/fcc_astarr_macs_input_union/MPRA_Lenti_K562_Nadav_Vikram/overlap_score/LMPRA_K562.hg38.ZScore.stranded.bed.gz\n",
      "\n",
      "show first few lines of output:\n",
      "\n",
      "\n",
      "Done!\n",
      "Run Time: 0 seconds\n"
     ]
    }
   ],
   "source": [
    "cat ${FD_LOG}/region.coverage.fcc_astarr_macs_input_union.LMPRA_K562.hg38.ZScore.stranded.bed.gz.txt"
   ]
  },
  {
   "cell_type": "code",
   "execution_count": null,
   "id": "7552a9e2-6c20-48ab-8399-fb999718837d",
   "metadata": {},
   "outputs": [],
   "source": []
  }
 ],
 "metadata": {
  "kernelspec": {
   "display_name": "Bash",
   "language": "bash",
   "name": "bash"
  },
  "language_info": {
   "codemirror_mode": "shell",
   "file_extension": ".sh",
   "mimetype": "text/x-sh",
   "name": "bash"
  }
 },
 "nbformat": 4,
 "nbformat_minor": 5
}
