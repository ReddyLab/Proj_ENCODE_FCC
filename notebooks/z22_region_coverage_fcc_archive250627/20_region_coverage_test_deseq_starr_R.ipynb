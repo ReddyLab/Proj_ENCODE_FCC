{
 "cells": [
  {
   "cell_type": "raw",
   "id": "ec684734-233a-4670-9831-d6765573b40d",
   "metadata": {},
   "source": [
    "---\n",
    "title: Region Coverage 21\n",
    "subtitle: Apply DESeq2 to process count matrix (STARR)\n",
    "format:\n",
    "    html:\n",
    "        code-fold:  true\n",
    "        code-tools: true\n",
    "---"
   ]
  },
  {
   "cell_type": "markdown",
   "id": "1290b651-701e-47fb-a9c0-1c1ff98eabe2",
   "metadata": {},
   "source": [
    "**Set environment**"
   ]
  },
  {
   "cell_type": "code",
   "execution_count": 1,
   "id": "8539e80c-fdde-49ca-865a-30d9c614314a",
   "metadata": {},
   "outputs": [
    {
     "name": "stdout",
     "output_type": "stream",
     "text": [
      "You are working on        Singularity \n",
      "BASE DIRECTORY (FD_BASE): /mount \n",
      "REPO DIRECTORY (FD_REPO): /mount/repo \n",
      "WORK DIRECTORY (FD_WORK): /mount/work \n",
      "DATA DIRECTORY (FD_DATA): /mount/data \n",
      "\n",
      "You are working with      ENCODE FCC \n",
      "PATH OF PROJECT (FD_PRJ): /mount/repo/Proj_ENCODE_FCC \n",
      "PROJECT RESULTS (FD_RES): /mount/repo/Proj_ENCODE_FCC/results \n",
      "PROJECT SCRIPTS (FD_EXE): /mount/repo/Proj_ENCODE_FCC/scripts \n",
      "PROJECT DATA    (FD_DAT): /mount/repo/Proj_ENCODE_FCC/data \n",
      "PROJECT NOTE    (FD_NBK): /mount/repo/Proj_ENCODE_FCC/notebooks \n",
      "PROJECT DOCS    (FD_DOC): /mount/repo/Proj_ENCODE_FCC/docs \n",
      "PROJECT LOG     (FD_LOG): /mount/repo/Proj_ENCODE_FCC/log \n",
      "PROJECT APP     (FD_APP): /mount/repo/Proj_ENCODE_FCC/app \n",
      "PROJECT REF     (FD_REF): /mount/repo/Proj_ENCODE_FCC/references \n",
      "\n"
     ]
    }
   ],
   "source": [
    "suppressMessages(suppressWarnings(source(\"../run_config_project_sing.R\")))\n",
    "suppressMessages(suppressWarnings(library(\"DESeq2\")))\n",
    "suppressMessages(suppressWarnings(library(\"edgeR\")))\n",
    "show_env()"
   ]
  },
  {
   "cell_type": "code",
   "execution_count": 7,
   "id": "a6b78d65-cde7-4748-b85b-dd32e8b1bf0b",
   "metadata": {},
   "outputs": [
    {
     "name": "stdout",
     "output_type": "stream",
     "text": [
      "[1] \"/mount/repo/Proj_ENCODE_FCC/results/region_coverage_fcc/fcc_astarr_macs_input_overlap/STARR_ATAC_K562_Reddy_KS274/overlap_count/summary/data_list_count_column.rds\"  \n",
      "[2] \"/mount/repo/Proj_ENCODE_FCC/results/region_coverage_fcc/fcc_astarr_macs_input_overlap/STARR_ATAC_K562_Reddy_KS91/overlap_count/summary/data_list_count_column.rds\"   \n",
      "[3] \"/mount/repo/Proj_ENCODE_FCC/results/region_coverage_fcc/fcc_astarr_macs_input_overlap/STARR_ATAC_K562_Reddy_KSMerge/overlap_count/summary/data_list_count_column.rds\"\n",
      "[4] \"/mount/repo/Proj_ENCODE_FCC/results/region_coverage_fcc/fcc_astarr_macs_input_overlap/STARR_WHG_K562_Reddy_A001/overlap_count/summary/data_list_count_column.rds\"    \n"
     ]
    }
   ],
   "source": [
    "txt_region = \"fcc_astarr_macs_input_overlap\"\n",
    "txt_fdiry = file.path(\n",
    "    FD_RES, \"region_coverage_fcc\",\n",
    "    txt_region,\n",
    "    \"*\",\n",
    "    \"overlap_count\",\n",
    "    \"summary\"\n",
    ")\n",
    "txt_fname = \"data_list_count_column.rds\"\n",
    "txt_fglob = file.path(txt_fdiry, txt_fname)\n",
    "\n",
    "vec = Sys.glob(txt_fglob)\n",
    "print(vec)"
   ]
  },
  {
   "cell_type": "markdown",
   "id": "d42a0b52-f2fc-40ea-a4d3-f340489efce8",
   "metadata": {},
   "source": [
    "## Test ASTARR MACS Overlap + ASTARR KS91"
   ]
  },
  {
   "cell_type": "code",
   "execution_count": 2,
   "id": "9d4bed03-01e7-4189-ba70-4084275f9a22",
   "metadata": {},
   "outputs": [
    {
     "name": "stdout",
     "output_type": "stream",
     "text": [
      "[1] 150041\n",
      "[1] 150040\n"
     ]
    }
   ],
   "source": [
    "### init\n",
    "txt_region = \"fcc_astarr_macs_input_overlap\"\n",
    "txt_assay  = \"STARR_ATAC_K562_Reddy_KS91\"\n",
    "\n",
    "### set directory\n",
    "txt_fdiry = file.path(\n",
    "    FD_RES, \"region_coverage_fcc\",\n",
    "    txt_region,\n",
    "    txt_assay,\n",
    "    \"overlap_count\",\n",
    "    \"summary\"\n",
    ")\n",
    "txt_fname = \"data_list_count_column.rds\"\n",
    "txt_fpath = file.path(txt_fdiry, txt_fname)\n",
    "\n",
    "### read object\n",
    "lst_dat = readRDS(txt_fpath)\n",
    "dat_cnt = lst_dat$data_cnt\n",
    "dat_col = lst_dat$data_col\n",
    "\n",
    "### arrange column data\n",
    "dat_col = dat_col  %>% \n",
    "    dplyr::mutate(Group = factor(Group, levels = c(\"Input\", \"Output\"))) %>%\n",
    "    column_to_rownames(var = \"Sample\")\n",
    "\n",
    "### arrange count matrix\n",
    "mat = dat_cnt %>%\n",
    "    dplyr::select(-Chrom, -ChromStart, -ChromEnd) %>%\n",
    "    column_to_rownames(var = \"Region\")\n",
    "\n",
    "dge = DGEList(counts=mat, group=dat_col$Group)\n",
    "idx = filterByExpr(dge)\n",
    "dge = dge[idx, , keep.lib.sizes=FALSE]\n",
    "mat = dge$counts\n",
    "\n",
    "mat_cnt = mat\n",
    "print(nrow(dat_cnt))\n",
    "print(nrow(mat_cnt))"
   ]
  },
  {
   "cell_type": "code",
   "execution_count": 3,
   "id": "ab5bab58-6d94-491b-90de-95438d5688f2",
   "metadata": {},
   "outputs": [
    {
     "name": "stderr",
     "output_type": "stream",
     "text": [
      "estimating size factors\n",
      "\n",
      "estimating dispersions\n",
      "\n",
      "gene-wise dispersion estimates\n",
      "\n",
      "mean-dispersion relationship\n",
      "\n",
      "final dispersion estimates\n",
      "\n",
      "fitting model and testing\n",
      "\n"
     ]
    }
   ],
   "source": [
    "### create DESeq2 object\n",
    "dds = DESeqDataSetFromMatrix(\n",
    "    countData = mat_cnt, \n",
    "    colData   = dat_col, \n",
    "    design    = ~Group)\n",
    "\n",
    "### ensure Input group is set as reference\n",
    "dds$Group <- relevel(dds$Group, ref = \"Input\")\n",
    "\n",
    "### run deseq analysis\n",
    "dds = DESeq(dds)"
   ]
  },
  {
   "cell_type": "code",
   "execution_count": 4,
   "id": "59e8657c-afce-41de-ae5b-a9480c672e17",
   "metadata": {},
   "outputs": [],
   "source": [
    "### save deseq object\n",
    "txt_fdiry = dirname(txt_fpath)\n",
    "txt_fname = \"data_deseq2.rds\"\n",
    "txt_fpath = file.path(txt_fdiry, txt_fname)\n",
    "\n",
    "obj = dds\n",
    "saveRDS(obj, txt_fpath)"
   ]
  },
  {
   "cell_type": "code",
   "execution_count": 5,
   "id": "7646bccb-6edb-4f72-ae96-974b1a1a7839",
   "metadata": {},
   "outputs": [
    {
     "data": {
      "text/html": [
       "<table class=\"dataframe\">\n",
       "<caption>A matrix: 6 × 10 of type int</caption>\n",
       "<thead>\n",
       "\t<tr><th></th><th scope=col>Input.rep1</th><th scope=col>Input.rep2</th><th scope=col>Input.rep3</th><th scope=col>Input.rep4</th><th scope=col>Input.rep5</th><th scope=col>Input.rep6</th><th scope=col>Output.rep1</th><th scope=col>Output.rep2</th><th scope=col>Output.rep3</th><th scope=col>Output.rep4</th></tr>\n",
       "</thead>\n",
       "<tbody>\n",
       "\t<tr><th scope=row>chr1:10038-10405</th><td>145</td><td> 207</td><td> 244</td><td> 229</td><td> 178</td><td> 206</td><td>  5</td><td> 12</td><td>  4</td><td> 10</td></tr>\n",
       "\t<tr><th scope=row>chr1:14282-14614</th><td>106</td><td> 139</td><td> 153</td><td> 137</td><td> 123</td><td> 128</td><td>  8</td><td> 23</td><td> 26</td><td> 41</td></tr>\n",
       "\t<tr><th scope=row>chr1:16025-16338</th><td>124</td><td> 189</td><td> 175</td><td> 170</td><td> 178</td><td> 164</td><td>  8</td><td>  7</td><td> 15</td><td> 18</td></tr>\n",
       "\t<tr><th scope=row>chr1:17288-17689</th><td>259</td><td> 350</td><td> 400</td><td> 367</td><td> 369</td><td> 331</td><td>  7</td><td> 13</td><td> 23</td><td> 59</td></tr>\n",
       "\t<tr><th scope=row>chr1:28934-29499</th><td>258</td><td> 324</td><td> 349</td><td> 324</td><td> 346</td><td> 310</td><td>  8</td><td> 11</td><td>  3</td><td> 26</td></tr>\n",
       "\t<tr><th scope=row>chr1:115429-115969</th><td>950</td><td>1174</td><td>1276</td><td>1151</td><td>1179</td><td>1054</td><td>234</td><td>443</td><td>469</td><td>752</td></tr>\n",
       "</tbody>\n",
       "</table>\n"
      ],
      "text/latex": [
       "A matrix: 6 × 10 of type int\n",
       "\\begin{tabular}{r|llllllllll}\n",
       "  & Input.rep1 & Input.rep2 & Input.rep3 & Input.rep4 & Input.rep5 & Input.rep6 & Output.rep1 & Output.rep2 & Output.rep3 & Output.rep4\\\\\n",
       "\\hline\n",
       "\tchr1:10038-10405 & 145 &  207 &  244 &  229 &  178 &  206 &   5 &  12 &   4 &  10\\\\\n",
       "\tchr1:14282-14614 & 106 &  139 &  153 &  137 &  123 &  128 &   8 &  23 &  26 &  41\\\\\n",
       "\tchr1:16025-16338 & 124 &  189 &  175 &  170 &  178 &  164 &   8 &   7 &  15 &  18\\\\\n",
       "\tchr1:17288-17689 & 259 &  350 &  400 &  367 &  369 &  331 &   7 &  13 &  23 &  59\\\\\n",
       "\tchr1:28934-29499 & 258 &  324 &  349 &  324 &  346 &  310 &   8 &  11 &   3 &  26\\\\\n",
       "\tchr1:115429-115969 & 950 & 1174 & 1276 & 1151 & 1179 & 1054 & 234 & 443 & 469 & 752\\\\\n",
       "\\end{tabular}\n"
      ],
      "text/markdown": [
       "\n",
       "A matrix: 6 × 10 of type int\n",
       "\n",
       "| <!--/--> | Input.rep1 | Input.rep2 | Input.rep3 | Input.rep4 | Input.rep5 | Input.rep6 | Output.rep1 | Output.rep2 | Output.rep3 | Output.rep4 |\n",
       "|---|---|---|---|---|---|---|---|---|---|---|\n",
       "| chr1:10038-10405 | 145 |  207 |  244 |  229 |  178 |  206 |   5 |  12 |   4 |  10 |\n",
       "| chr1:14282-14614 | 106 |  139 |  153 |  137 |  123 |  128 |   8 |  23 |  26 |  41 |\n",
       "| chr1:16025-16338 | 124 |  189 |  175 |  170 |  178 |  164 |   8 |   7 |  15 |  18 |\n",
       "| chr1:17288-17689 | 259 |  350 |  400 |  367 |  369 |  331 |   7 |  13 |  23 |  59 |\n",
       "| chr1:28934-29499 | 258 |  324 |  349 |  324 |  346 |  310 |   8 |  11 |   3 |  26 |\n",
       "| chr1:115429-115969 | 950 | 1174 | 1276 | 1151 | 1179 | 1054 | 234 | 443 | 469 | 752 |\n",
       "\n"
      ],
      "text/plain": [
       "                   Input.rep1 Input.rep2 Input.rep3 Input.rep4 Input.rep5\n",
       "chr1:10038-10405   145         207        244        229        178      \n",
       "chr1:14282-14614   106         139        153        137        123      \n",
       "chr1:16025-16338   124         189        175        170        178      \n",
       "chr1:17288-17689   259         350        400        367        369      \n",
       "chr1:28934-29499   258         324        349        324        346      \n",
       "chr1:115429-115969 950        1174       1276       1151       1179      \n",
       "                   Input.rep6 Output.rep1 Output.rep2 Output.rep3 Output.rep4\n",
       "chr1:10038-10405    206         5          12           4          10        \n",
       "chr1:14282-14614    128         8          23          26          41        \n",
       "chr1:16025-16338    164         8           7          15          18        \n",
       "chr1:17288-17689    331         7          13          23          59        \n",
       "chr1:28934-29499    310         8          11           3          26        \n",
       "chr1:115429-115969 1054       234         443         469         752        "
      ]
     },
     "metadata": {},
     "output_type": "display_data"
    }
   ],
   "source": [
    "head(mat_cnt)"
   ]
  },
  {
   "cell_type": "code",
   "execution_count": 6,
   "id": "9c8c1687-33b4-4741-9332-5ffe6c82dacb",
   "metadata": {},
   "outputs": [
    {
     "data": {
      "text/html": [
       "<table class=\"dataframe\">\n",
       "<caption>A data.frame: 6 × 4</caption>\n",
       "<thead>\n",
       "\t<tr><th></th><th scope=col>FName</th><th scope=col>Assay</th><th scope=col>Prefix</th><th scope=col>Group</th></tr>\n",
       "\t<tr><th></th><th scope=col>&lt;chr&gt;</th><th scope=col>&lt;chr&gt;</th><th scope=col>&lt;chr&gt;</th><th scope=col>&lt;fct&gt;</th></tr>\n",
       "</thead>\n",
       "<tbody>\n",
       "\t<tr><th scope=row>Input.rep1</th><td>ASTARRseq_K562_KS91.hg38.Input.rep1.WGS.unstranded.bed.gz</td><td>STARR_ATAC_K562_Reddy_KS91</td><td>ASTARRseq_K562_KS91</td><td>Input</td></tr>\n",
       "\t<tr><th scope=row>Input.rep2</th><td>ASTARRseq_K562_KS91.hg38.Input.rep2.WGS.unstranded.bed.gz</td><td>STARR_ATAC_K562_Reddy_KS91</td><td>ASTARRseq_K562_KS91</td><td>Input</td></tr>\n",
       "\t<tr><th scope=row>Input.rep3</th><td>ASTARRseq_K562_KS91.hg38.Input.rep3.WGS.unstranded.bed.gz</td><td>STARR_ATAC_K562_Reddy_KS91</td><td>ASTARRseq_K562_KS91</td><td>Input</td></tr>\n",
       "\t<tr><th scope=row>Input.rep4</th><td>ASTARRseq_K562_KS91.hg38.Input.rep4.WGS.unstranded.bed.gz</td><td>STARR_ATAC_K562_Reddy_KS91</td><td>ASTARRseq_K562_KS91</td><td>Input</td></tr>\n",
       "\t<tr><th scope=row>Input.rep5</th><td>ASTARRseq_K562_KS91.hg38.Input.rep5.WGS.unstranded.bed.gz</td><td>STARR_ATAC_K562_Reddy_KS91</td><td>ASTARRseq_K562_KS91</td><td>Input</td></tr>\n",
       "\t<tr><th scope=row>Input.rep6</th><td>ASTARRseq_K562_KS91.hg38.Input.rep6.WGS.unstranded.bed.gz</td><td>STARR_ATAC_K562_Reddy_KS91</td><td>ASTARRseq_K562_KS91</td><td>Input</td></tr>\n",
       "</tbody>\n",
       "</table>\n"
      ],
      "text/latex": [
       "A data.frame: 6 × 4\n",
       "\\begin{tabular}{r|llll}\n",
       "  & FName & Assay & Prefix & Group\\\\\n",
       "  & <chr> & <chr> & <chr> & <fct>\\\\\n",
       "\\hline\n",
       "\tInput.rep1 & ASTARRseq\\_K562\\_KS91.hg38.Input.rep1.WGS.unstranded.bed.gz & STARR\\_ATAC\\_K562\\_Reddy\\_KS91 & ASTARRseq\\_K562\\_KS91 & Input\\\\\n",
       "\tInput.rep2 & ASTARRseq\\_K562\\_KS91.hg38.Input.rep2.WGS.unstranded.bed.gz & STARR\\_ATAC\\_K562\\_Reddy\\_KS91 & ASTARRseq\\_K562\\_KS91 & Input\\\\\n",
       "\tInput.rep3 & ASTARRseq\\_K562\\_KS91.hg38.Input.rep3.WGS.unstranded.bed.gz & STARR\\_ATAC\\_K562\\_Reddy\\_KS91 & ASTARRseq\\_K562\\_KS91 & Input\\\\\n",
       "\tInput.rep4 & ASTARRseq\\_K562\\_KS91.hg38.Input.rep4.WGS.unstranded.bed.gz & STARR\\_ATAC\\_K562\\_Reddy\\_KS91 & ASTARRseq\\_K562\\_KS91 & Input\\\\\n",
       "\tInput.rep5 & ASTARRseq\\_K562\\_KS91.hg38.Input.rep5.WGS.unstranded.bed.gz & STARR\\_ATAC\\_K562\\_Reddy\\_KS91 & ASTARRseq\\_K562\\_KS91 & Input\\\\\n",
       "\tInput.rep6 & ASTARRseq\\_K562\\_KS91.hg38.Input.rep6.WGS.unstranded.bed.gz & STARR\\_ATAC\\_K562\\_Reddy\\_KS91 & ASTARRseq\\_K562\\_KS91 & Input\\\\\n",
       "\\end{tabular}\n"
      ],
      "text/markdown": [
       "\n",
       "A data.frame: 6 × 4\n",
       "\n",
       "| <!--/--> | FName &lt;chr&gt; | Assay &lt;chr&gt; | Prefix &lt;chr&gt; | Group &lt;fct&gt; |\n",
       "|---|---|---|---|---|\n",
       "| Input.rep1 | ASTARRseq_K562_KS91.hg38.Input.rep1.WGS.unstranded.bed.gz | STARR_ATAC_K562_Reddy_KS91 | ASTARRseq_K562_KS91 | Input |\n",
       "| Input.rep2 | ASTARRseq_K562_KS91.hg38.Input.rep2.WGS.unstranded.bed.gz | STARR_ATAC_K562_Reddy_KS91 | ASTARRseq_K562_KS91 | Input |\n",
       "| Input.rep3 | ASTARRseq_K562_KS91.hg38.Input.rep3.WGS.unstranded.bed.gz | STARR_ATAC_K562_Reddy_KS91 | ASTARRseq_K562_KS91 | Input |\n",
       "| Input.rep4 | ASTARRseq_K562_KS91.hg38.Input.rep4.WGS.unstranded.bed.gz | STARR_ATAC_K562_Reddy_KS91 | ASTARRseq_K562_KS91 | Input |\n",
       "| Input.rep5 | ASTARRseq_K562_KS91.hg38.Input.rep5.WGS.unstranded.bed.gz | STARR_ATAC_K562_Reddy_KS91 | ASTARRseq_K562_KS91 | Input |\n",
       "| Input.rep6 | ASTARRseq_K562_KS91.hg38.Input.rep6.WGS.unstranded.bed.gz | STARR_ATAC_K562_Reddy_KS91 | ASTARRseq_K562_KS91 | Input |\n",
       "\n"
      ],
      "text/plain": [
       "           FName                                                    \n",
       "Input.rep1 ASTARRseq_K562_KS91.hg38.Input.rep1.WGS.unstranded.bed.gz\n",
       "Input.rep2 ASTARRseq_K562_KS91.hg38.Input.rep2.WGS.unstranded.bed.gz\n",
       "Input.rep3 ASTARRseq_K562_KS91.hg38.Input.rep3.WGS.unstranded.bed.gz\n",
       "Input.rep4 ASTARRseq_K562_KS91.hg38.Input.rep4.WGS.unstranded.bed.gz\n",
       "Input.rep5 ASTARRseq_K562_KS91.hg38.Input.rep5.WGS.unstranded.bed.gz\n",
       "Input.rep6 ASTARRseq_K562_KS91.hg38.Input.rep6.WGS.unstranded.bed.gz\n",
       "           Assay                      Prefix              Group\n",
       "Input.rep1 STARR_ATAC_K562_Reddy_KS91 ASTARRseq_K562_KS91 Input\n",
       "Input.rep2 STARR_ATAC_K562_Reddy_KS91 ASTARRseq_K562_KS91 Input\n",
       "Input.rep3 STARR_ATAC_K562_Reddy_KS91 ASTARRseq_K562_KS91 Input\n",
       "Input.rep4 STARR_ATAC_K562_Reddy_KS91 ASTARRseq_K562_KS91 Input\n",
       "Input.rep5 STARR_ATAC_K562_Reddy_KS91 ASTARRseq_K562_KS91 Input\n",
       "Input.rep6 STARR_ATAC_K562_Reddy_KS91 ASTARRseq_K562_KS91 Input"
      ]
     },
     "metadata": {},
     "output_type": "display_data"
    }
   ],
   "source": [
    "head(dat_col)"
   ]
  },
  {
   "cell_type": "markdown",
   "id": "4eec6775-33c2-4ca0-b154-3b9494cf6446",
   "metadata": {},
   "source": [
    "## Test ASTARR MACS Overlap + ASTARR KS274"
   ]
  },
  {
   "cell_type": "code",
   "execution_count": 8,
   "id": "cd45bb1f-8113-47ed-8728-d9d7794e056d",
   "metadata": {},
   "outputs": [
    {
     "name": "stdout",
     "output_type": "stream",
     "text": [
      "[1] 150042\n",
      "[1] 150041\n"
     ]
    }
   ],
   "source": [
    "### init\n",
    "txt_region = \"fcc_astarr_macs_input_overlap\"\n",
    "txt_assay  = \"STARR_ATAC_K562_Reddy_KS274\"\n",
    "\n",
    "### set directory\n",
    "txt_fdiry = file.path(\n",
    "    FD_RES, \"region_coverage_fcc\",\n",
    "    txt_region,\n",
    "    txt_assay,\n",
    "    \"overlap_count\",\n",
    "    \"summary\"\n",
    ")\n",
    "txt_fname = \"data_list_count_column.rds\"\n",
    "txt_fpath = file.path(txt_fdiry, txt_fname)\n",
    "\n",
    "### read object\n",
    "lst_dat = readRDS(txt_fpath)\n",
    "dat_cnt = lst_dat$data_cnt\n",
    "dat_col = lst_dat$data_col\n",
    "\n",
    "### arrange column data\n",
    "dat_col = dat_col  %>% \n",
    "    dplyr::mutate(Group = factor(Group, levels = c(\"Input\", \"Output\"))) %>%\n",
    "    column_to_rownames(var = \"Sample\")\n",
    "\n",
    "### arrange count matrix\n",
    "mat = dat_cnt %>%\n",
    "    dplyr::select(-Chrom, -ChromStart, -ChromEnd) %>%\n",
    "    column_to_rownames(var = \"Region\")\n",
    "\n",
    "dge = DGEList(counts=mat, group=dat_col$Group)\n",
    "idx = filterByExpr(dge)\n",
    "dge = dge[idx, , keep.lib.sizes=FALSE]\n",
    "mat = dge$counts\n",
    "\n",
    "mat_cnt = mat\n",
    "print(nrow(dat_cnt))\n",
    "print(nrow(mat_cnt))"
   ]
  },
  {
   "cell_type": "code",
   "execution_count": 9,
   "id": "d1672550-2b7c-4360-aeb8-3722f4c173e0",
   "metadata": {},
   "outputs": [
    {
     "name": "stderr",
     "output_type": "stream",
     "text": [
      "estimating size factors\n",
      "\n",
      "estimating dispersions\n",
      "\n",
      "gene-wise dispersion estimates\n",
      "\n",
      "mean-dispersion relationship\n",
      "\n",
      "final dispersion estimates\n",
      "\n",
      "fitting model and testing\n",
      "\n"
     ]
    }
   ],
   "source": [
    "### create DESeq2 object\n",
    "dds = DESeqDataSetFromMatrix(\n",
    "    countData = mat_cnt, \n",
    "    colData   = dat_col, \n",
    "    design    = ~Group)\n",
    "\n",
    "### ensure Input group is set as reference\n",
    "dds$Group <- relevel(dds$Group, ref = \"Input\")\n",
    "\n",
    "### run deseq analysis\n",
    "dds = DESeq(dds)"
   ]
  },
  {
   "cell_type": "code",
   "execution_count": 10,
   "id": "ce9f066f-ce73-4486-b7a3-880556edd030",
   "metadata": {},
   "outputs": [
    {
     "name": "stdout",
     "output_type": "stream",
     "text": [
      "[1] \"/mount/repo/Proj_ENCODE_FCC/results/region_coverage_fcc/fcc_astarr_macs_input_overlap/STARR_ATAC_K562_Reddy_KS274/overlap_count/summary\"\n"
     ]
    }
   ],
   "source": [
    "txt_fdiry = dirname(txt_fpath)\n",
    "print(txt_fdiry)"
   ]
  },
  {
   "cell_type": "code",
   "execution_count": 11,
   "id": "3f485485-e9fe-4eee-a354-811549a66cfa",
   "metadata": {},
   "outputs": [],
   "source": [
    "### save deseq object\n",
    "txt_fdiry = dirname(txt_fpath)\n",
    "txt_fname = \"data_deseq2.rds\"\n",
    "txt_fpath = file.path(txt_fdiry, txt_fname)\n",
    "\n",
    "obj = dds\n",
    "saveRDS(obj, txt_fpath)"
   ]
  },
  {
   "cell_type": "code",
   "execution_count": 12,
   "id": "e58998e8-e3a2-4eb7-a9e0-773dd13dc25d",
   "metadata": {},
   "outputs": [
    {
     "data": {
      "text/html": [
       "<table class=\"dataframe\">\n",
       "<caption>A matrix: 6 × 9 of type int</caption>\n",
       "<thead>\n",
       "\t<tr><th></th><th scope=col>Input.rep1</th><th scope=col>Input.rep2</th><th scope=col>Input.rep3</th><th scope=col>Input.rep4</th><th scope=col>Input.rep5</th><th scope=col>Input.rep6</th><th scope=col>Output.rep1</th><th scope=col>Output.rep2</th><th scope=col>Output.rep3</th></tr>\n",
       "</thead>\n",
       "<tbody>\n",
       "\t<tr><th scope=row>chr1:10038-10405</th><td>145</td><td> 207</td><td> 244</td><td> 229</td><td> 178</td><td> 206</td><td>  0</td><td>  0</td><td>  0</td></tr>\n",
       "\t<tr><th scope=row>chr1:14282-14614</th><td>106</td><td> 139</td><td> 153</td><td> 137</td><td> 123</td><td> 128</td><td>  4</td><td>  6</td><td>  5</td></tr>\n",
       "\t<tr><th scope=row>chr1:16025-16338</th><td>124</td><td> 189</td><td> 175</td><td> 170</td><td> 178</td><td> 164</td><td> 15</td><td>  4</td><td>  4</td></tr>\n",
       "\t<tr><th scope=row>chr1:17288-17689</th><td>259</td><td> 350</td><td> 400</td><td> 367</td><td> 369</td><td> 331</td><td> 17</td><td> 15</td><td> 14</td></tr>\n",
       "\t<tr><th scope=row>chr1:28934-29499</th><td>258</td><td> 324</td><td> 349</td><td> 324</td><td> 346</td><td> 310</td><td>  2</td><td>  1</td><td>  3</td></tr>\n",
       "\t<tr><th scope=row>chr1:115429-115969</th><td>950</td><td>1174</td><td>1276</td><td>1151</td><td>1179</td><td>1054</td><td>290</td><td>265</td><td>277</td></tr>\n",
       "</tbody>\n",
       "</table>\n"
      ],
      "text/latex": [
       "A matrix: 6 × 9 of type int\n",
       "\\begin{tabular}{r|lllllllll}\n",
       "  & Input.rep1 & Input.rep2 & Input.rep3 & Input.rep4 & Input.rep5 & Input.rep6 & Output.rep1 & Output.rep2 & Output.rep3\\\\\n",
       "\\hline\n",
       "\tchr1:10038-10405 & 145 &  207 &  244 &  229 &  178 &  206 &   0 &   0 &   0\\\\\n",
       "\tchr1:14282-14614 & 106 &  139 &  153 &  137 &  123 &  128 &   4 &   6 &   5\\\\\n",
       "\tchr1:16025-16338 & 124 &  189 &  175 &  170 &  178 &  164 &  15 &   4 &   4\\\\\n",
       "\tchr1:17288-17689 & 259 &  350 &  400 &  367 &  369 &  331 &  17 &  15 &  14\\\\\n",
       "\tchr1:28934-29499 & 258 &  324 &  349 &  324 &  346 &  310 &   2 &   1 &   3\\\\\n",
       "\tchr1:115429-115969 & 950 & 1174 & 1276 & 1151 & 1179 & 1054 & 290 & 265 & 277\\\\\n",
       "\\end{tabular}\n"
      ],
      "text/markdown": [
       "\n",
       "A matrix: 6 × 9 of type int\n",
       "\n",
       "| <!--/--> | Input.rep1 | Input.rep2 | Input.rep3 | Input.rep4 | Input.rep5 | Input.rep6 | Output.rep1 | Output.rep2 | Output.rep3 |\n",
       "|---|---|---|---|---|---|---|---|---|---|\n",
       "| chr1:10038-10405 | 145 |  207 |  244 |  229 |  178 |  206 |   0 |   0 |   0 |\n",
       "| chr1:14282-14614 | 106 |  139 |  153 |  137 |  123 |  128 |   4 |   6 |   5 |\n",
       "| chr1:16025-16338 | 124 |  189 |  175 |  170 |  178 |  164 |  15 |   4 |   4 |\n",
       "| chr1:17288-17689 | 259 |  350 |  400 |  367 |  369 |  331 |  17 |  15 |  14 |\n",
       "| chr1:28934-29499 | 258 |  324 |  349 |  324 |  346 |  310 |   2 |   1 |   3 |\n",
       "| chr1:115429-115969 | 950 | 1174 | 1276 | 1151 | 1179 | 1054 | 290 | 265 | 277 |\n",
       "\n"
      ],
      "text/plain": [
       "                   Input.rep1 Input.rep2 Input.rep3 Input.rep4 Input.rep5\n",
       "chr1:10038-10405   145         207        244        229        178      \n",
       "chr1:14282-14614   106         139        153        137        123      \n",
       "chr1:16025-16338   124         189        175        170        178      \n",
       "chr1:17288-17689   259         350        400        367        369      \n",
       "chr1:28934-29499   258         324        349        324        346      \n",
       "chr1:115429-115969 950        1174       1276       1151       1179      \n",
       "                   Input.rep6 Output.rep1 Output.rep2 Output.rep3\n",
       "chr1:10038-10405    206         0           0           0        \n",
       "chr1:14282-14614    128         4           6           5        \n",
       "chr1:16025-16338    164        15           4           4        \n",
       "chr1:17288-17689    331        17          15          14        \n",
       "chr1:28934-29499    310         2           1           3        \n",
       "chr1:115429-115969 1054       290         265         277        "
      ]
     },
     "metadata": {},
     "output_type": "display_data"
    }
   ],
   "source": [
    "head(mat_cnt)"
   ]
  },
  {
   "cell_type": "code",
   "execution_count": 13,
   "id": "fa576b44-e6bb-4f99-873d-cbd4a6560c92",
   "metadata": {},
   "outputs": [
    {
     "data": {
      "text/html": [
       "<table class=\"dataframe\">\n",
       "<caption>A data.frame: 6 × 4</caption>\n",
       "<thead>\n",
       "\t<tr><th></th><th scope=col>FName</th><th scope=col>Assay</th><th scope=col>Prefix</th><th scope=col>Group</th></tr>\n",
       "\t<tr><th></th><th scope=col>&lt;chr&gt;</th><th scope=col>&lt;chr&gt;</th><th scope=col>&lt;chr&gt;</th><th scope=col>&lt;fct&gt;</th></tr>\n",
       "</thead>\n",
       "<tbody>\n",
       "\t<tr><th scope=row>Input.rep1</th><td>ASTARRseq_K562_KS91.hg38.Input.rep1.WGS.unstranded.bed.gz</td><td>STARR_ATAC_K562_Reddy_KS274</td><td>ASTARRseq_K562_KS91</td><td>Input</td></tr>\n",
       "\t<tr><th scope=row>Input.rep2</th><td>ASTARRseq_K562_KS91.hg38.Input.rep2.WGS.unstranded.bed.gz</td><td>STARR_ATAC_K562_Reddy_KS274</td><td>ASTARRseq_K562_KS91</td><td>Input</td></tr>\n",
       "\t<tr><th scope=row>Input.rep3</th><td>ASTARRseq_K562_KS91.hg38.Input.rep3.WGS.unstranded.bed.gz</td><td>STARR_ATAC_K562_Reddy_KS274</td><td>ASTARRseq_K562_KS91</td><td>Input</td></tr>\n",
       "\t<tr><th scope=row>Input.rep4</th><td>ASTARRseq_K562_KS91.hg38.Input.rep4.WGS.unstranded.bed.gz</td><td>STARR_ATAC_K562_Reddy_KS274</td><td>ASTARRseq_K562_KS91</td><td>Input</td></tr>\n",
       "\t<tr><th scope=row>Input.rep5</th><td>ASTARRseq_K562_KS91.hg38.Input.rep5.WGS.unstranded.bed.gz</td><td>STARR_ATAC_K562_Reddy_KS274</td><td>ASTARRseq_K562_KS91</td><td>Input</td></tr>\n",
       "\t<tr><th scope=row>Input.rep6</th><td>ASTARRseq_K562_KS91.hg38.Input.rep6.WGS.unstranded.bed.gz</td><td>STARR_ATAC_K562_Reddy_KS274</td><td>ASTARRseq_K562_KS91</td><td>Input</td></tr>\n",
       "</tbody>\n",
       "</table>\n"
      ],
      "text/latex": [
       "A data.frame: 6 × 4\n",
       "\\begin{tabular}{r|llll}\n",
       "  & FName & Assay & Prefix & Group\\\\\n",
       "  & <chr> & <chr> & <chr> & <fct>\\\\\n",
       "\\hline\n",
       "\tInput.rep1 & ASTARRseq\\_K562\\_KS91.hg38.Input.rep1.WGS.unstranded.bed.gz & STARR\\_ATAC\\_K562\\_Reddy\\_KS274 & ASTARRseq\\_K562\\_KS91 & Input\\\\\n",
       "\tInput.rep2 & ASTARRseq\\_K562\\_KS91.hg38.Input.rep2.WGS.unstranded.bed.gz & STARR\\_ATAC\\_K562\\_Reddy\\_KS274 & ASTARRseq\\_K562\\_KS91 & Input\\\\\n",
       "\tInput.rep3 & ASTARRseq\\_K562\\_KS91.hg38.Input.rep3.WGS.unstranded.bed.gz & STARR\\_ATAC\\_K562\\_Reddy\\_KS274 & ASTARRseq\\_K562\\_KS91 & Input\\\\\n",
       "\tInput.rep4 & ASTARRseq\\_K562\\_KS91.hg38.Input.rep4.WGS.unstranded.bed.gz & STARR\\_ATAC\\_K562\\_Reddy\\_KS274 & ASTARRseq\\_K562\\_KS91 & Input\\\\\n",
       "\tInput.rep5 & ASTARRseq\\_K562\\_KS91.hg38.Input.rep5.WGS.unstranded.bed.gz & STARR\\_ATAC\\_K562\\_Reddy\\_KS274 & ASTARRseq\\_K562\\_KS91 & Input\\\\\n",
       "\tInput.rep6 & ASTARRseq\\_K562\\_KS91.hg38.Input.rep6.WGS.unstranded.bed.gz & STARR\\_ATAC\\_K562\\_Reddy\\_KS274 & ASTARRseq\\_K562\\_KS91 & Input\\\\\n",
       "\\end{tabular}\n"
      ],
      "text/markdown": [
       "\n",
       "A data.frame: 6 × 4\n",
       "\n",
       "| <!--/--> | FName &lt;chr&gt; | Assay &lt;chr&gt; | Prefix &lt;chr&gt; | Group &lt;fct&gt; |\n",
       "|---|---|---|---|---|\n",
       "| Input.rep1 | ASTARRseq_K562_KS91.hg38.Input.rep1.WGS.unstranded.bed.gz | STARR_ATAC_K562_Reddy_KS274 | ASTARRseq_K562_KS91 | Input |\n",
       "| Input.rep2 | ASTARRseq_K562_KS91.hg38.Input.rep2.WGS.unstranded.bed.gz | STARR_ATAC_K562_Reddy_KS274 | ASTARRseq_K562_KS91 | Input |\n",
       "| Input.rep3 | ASTARRseq_K562_KS91.hg38.Input.rep3.WGS.unstranded.bed.gz | STARR_ATAC_K562_Reddy_KS274 | ASTARRseq_K562_KS91 | Input |\n",
       "| Input.rep4 | ASTARRseq_K562_KS91.hg38.Input.rep4.WGS.unstranded.bed.gz | STARR_ATAC_K562_Reddy_KS274 | ASTARRseq_K562_KS91 | Input |\n",
       "| Input.rep5 | ASTARRseq_K562_KS91.hg38.Input.rep5.WGS.unstranded.bed.gz | STARR_ATAC_K562_Reddy_KS274 | ASTARRseq_K562_KS91 | Input |\n",
       "| Input.rep6 | ASTARRseq_K562_KS91.hg38.Input.rep6.WGS.unstranded.bed.gz | STARR_ATAC_K562_Reddy_KS274 | ASTARRseq_K562_KS91 | Input |\n",
       "\n"
      ],
      "text/plain": [
       "           FName                                                    \n",
       "Input.rep1 ASTARRseq_K562_KS91.hg38.Input.rep1.WGS.unstranded.bed.gz\n",
       "Input.rep2 ASTARRseq_K562_KS91.hg38.Input.rep2.WGS.unstranded.bed.gz\n",
       "Input.rep3 ASTARRseq_K562_KS91.hg38.Input.rep3.WGS.unstranded.bed.gz\n",
       "Input.rep4 ASTARRseq_K562_KS91.hg38.Input.rep4.WGS.unstranded.bed.gz\n",
       "Input.rep5 ASTARRseq_K562_KS91.hg38.Input.rep5.WGS.unstranded.bed.gz\n",
       "Input.rep6 ASTARRseq_K562_KS91.hg38.Input.rep6.WGS.unstranded.bed.gz\n",
       "           Assay                       Prefix              Group\n",
       "Input.rep1 STARR_ATAC_K562_Reddy_KS274 ASTARRseq_K562_KS91 Input\n",
       "Input.rep2 STARR_ATAC_K562_Reddy_KS274 ASTARRseq_K562_KS91 Input\n",
       "Input.rep3 STARR_ATAC_K562_Reddy_KS274 ASTARRseq_K562_KS91 Input\n",
       "Input.rep4 STARR_ATAC_K562_Reddy_KS274 ASTARRseq_K562_KS91 Input\n",
       "Input.rep5 STARR_ATAC_K562_Reddy_KS274 ASTARRseq_K562_KS91 Input\n",
       "Input.rep6 STARR_ATAC_K562_Reddy_KS274 ASTARRseq_K562_KS91 Input"
      ]
     },
     "metadata": {},
     "output_type": "display_data"
    }
   ],
   "source": [
    "head(dat_col)"
   ]
  },
  {
   "cell_type": "markdown",
   "id": "ad91a644-7067-41ee-8a9a-6640839b024c",
   "metadata": {},
   "source": [
    "## Test ASTARR MACS Overlap + ASTARR KSMerge"
   ]
  },
  {
   "cell_type": "code",
   "execution_count": 14,
   "id": "23f232bc-fac2-4c8c-8cec-d247b8c442f7",
   "metadata": {},
   "outputs": [
    {
     "name": "stdout",
     "output_type": "stream",
     "text": [
      "[1] 150042\n",
      "[1] 150040\n"
     ]
    }
   ],
   "source": [
    "### init\n",
    "txt_region = \"fcc_astarr_macs_input_overlap\"\n",
    "txt_assay  = \"STARR_ATAC_K562_Reddy_KSMerge\"\n",
    "\n",
    "### set directory\n",
    "txt_fdiry = file.path(\n",
    "    FD_RES, \"region_coverage_fcc\",\n",
    "    txt_region,\n",
    "    txt_assay,\n",
    "    \"overlap_count\",\n",
    "    \"summary\"\n",
    ")\n",
    "txt_fname = \"data_list_count_column.rds\"\n",
    "txt_fpath = file.path(txt_fdiry, txt_fname)\n",
    "\n",
    "### read object\n",
    "lst_dat = readRDS(txt_fpath)\n",
    "dat_cnt = lst_dat$data_cnt\n",
    "dat_col = lst_dat$data_col\n",
    "\n",
    "### arrange column data\n",
    "dat_col = dat_col  %>% \n",
    "    dplyr::mutate(Group = factor(Group, levels = c(\"Input\", \"Output\"))) %>%\n",
    "    column_to_rownames(var = \"Sample\")\n",
    "\n",
    "### arrange count matrix\n",
    "mat = dat_cnt %>%\n",
    "    dplyr::select(-Chrom, -ChromStart, -ChromEnd) %>%\n",
    "    column_to_rownames(var = \"Region\")\n",
    "\n",
    "dge = DGEList(counts=mat, group=dat_col$Group)\n",
    "idx = filterByExpr(dge)\n",
    "dge = dge[idx, , keep.lib.sizes=FALSE]\n",
    "mat = dge$counts\n",
    "\n",
    "mat_cnt = mat\n",
    "print(nrow(dat_cnt))\n",
    "print(nrow(mat_cnt))"
   ]
  },
  {
   "cell_type": "code",
   "execution_count": 17,
   "id": "1986b1eb-e302-4f31-b7af-53716557deb2",
   "metadata": {},
   "outputs": [
    {
     "data": {
      "text/html": [
       "<table class=\"dataframe\">\n",
       "<caption>A matrix: 6 × 13 of type int</caption>\n",
       "<thead>\n",
       "\t<tr><th></th><th scope=col>Input.rep1</th><th scope=col>Input.rep2</th><th scope=col>Input.rep3</th><th scope=col>Input.rep4</th><th scope=col>Input.rep5</th><th scope=col>Input.rep6</th><th scope=col>Output.rep1</th><th scope=col>Output.rep2</th><th scope=col>Output.rep3</th><th scope=col>Output.rep4</th><th scope=col>Output.rep5</th><th scope=col>Output.rep6</th><th scope=col>Output.rep7</th></tr>\n",
       "</thead>\n",
       "<tbody>\n",
       "\t<tr><th scope=row>chr1:10038-10405</th><td>145</td><td> 207</td><td> 244</td><td> 229</td><td> 178</td><td> 206</td><td>  5</td><td> 12</td><td>  4</td><td> 10</td><td>  0</td><td>  0</td><td>  0</td></tr>\n",
       "\t<tr><th scope=row>chr1:14282-14614</th><td>106</td><td> 139</td><td> 153</td><td> 137</td><td> 123</td><td> 128</td><td>  8</td><td> 23</td><td> 26</td><td> 41</td><td>  4</td><td>  6</td><td>  5</td></tr>\n",
       "\t<tr><th scope=row>chr1:16025-16338</th><td>124</td><td> 189</td><td> 175</td><td> 170</td><td> 178</td><td> 164</td><td>  8</td><td>  7</td><td> 15</td><td> 18</td><td> 15</td><td>  4</td><td>  4</td></tr>\n",
       "\t<tr><th scope=row>chr1:17288-17689</th><td>259</td><td> 350</td><td> 400</td><td> 367</td><td> 369</td><td> 331</td><td>  7</td><td> 13</td><td> 23</td><td> 59</td><td> 17</td><td> 15</td><td> 14</td></tr>\n",
       "\t<tr><th scope=row>chr1:28934-29499</th><td>258</td><td> 324</td><td> 349</td><td> 324</td><td> 346</td><td> 310</td><td>  8</td><td> 11</td><td>  3</td><td> 26</td><td>  2</td><td>  1</td><td>  3</td></tr>\n",
       "\t<tr><th scope=row>chr1:115429-115969</th><td>950</td><td>1174</td><td>1276</td><td>1151</td><td>1179</td><td>1054</td><td>234</td><td>443</td><td>469</td><td>752</td><td>290</td><td>265</td><td>277</td></tr>\n",
       "</tbody>\n",
       "</table>\n"
      ],
      "text/latex": [
       "A matrix: 6 × 13 of type int\n",
       "\\begin{tabular}{r|lllllllllllll}\n",
       "  & Input.rep1 & Input.rep2 & Input.rep3 & Input.rep4 & Input.rep5 & Input.rep6 & Output.rep1 & Output.rep2 & Output.rep3 & Output.rep4 & Output.rep5 & Output.rep6 & Output.rep7\\\\\n",
       "\\hline\n",
       "\tchr1:10038-10405 & 145 &  207 &  244 &  229 &  178 &  206 &   5 &  12 &   4 &  10 &   0 &   0 &   0\\\\\n",
       "\tchr1:14282-14614 & 106 &  139 &  153 &  137 &  123 &  128 &   8 &  23 &  26 &  41 &   4 &   6 &   5\\\\\n",
       "\tchr1:16025-16338 & 124 &  189 &  175 &  170 &  178 &  164 &   8 &   7 &  15 &  18 &  15 &   4 &   4\\\\\n",
       "\tchr1:17288-17689 & 259 &  350 &  400 &  367 &  369 &  331 &   7 &  13 &  23 &  59 &  17 &  15 &  14\\\\\n",
       "\tchr1:28934-29499 & 258 &  324 &  349 &  324 &  346 &  310 &   8 &  11 &   3 &  26 &   2 &   1 &   3\\\\\n",
       "\tchr1:115429-115969 & 950 & 1174 & 1276 & 1151 & 1179 & 1054 & 234 & 443 & 469 & 752 & 290 & 265 & 277\\\\\n",
       "\\end{tabular}\n"
      ],
      "text/markdown": [
       "\n",
       "A matrix: 6 × 13 of type int\n",
       "\n",
       "| <!--/--> | Input.rep1 | Input.rep2 | Input.rep3 | Input.rep4 | Input.rep5 | Input.rep6 | Output.rep1 | Output.rep2 | Output.rep3 | Output.rep4 | Output.rep5 | Output.rep6 | Output.rep7 |\n",
       "|---|---|---|---|---|---|---|---|---|---|---|---|---|---|\n",
       "| chr1:10038-10405 | 145 |  207 |  244 |  229 |  178 |  206 |   5 |  12 |   4 |  10 |   0 |   0 |   0 |\n",
       "| chr1:14282-14614 | 106 |  139 |  153 |  137 |  123 |  128 |   8 |  23 |  26 |  41 |   4 |   6 |   5 |\n",
       "| chr1:16025-16338 | 124 |  189 |  175 |  170 |  178 |  164 |   8 |   7 |  15 |  18 |  15 |   4 |   4 |\n",
       "| chr1:17288-17689 | 259 |  350 |  400 |  367 |  369 |  331 |   7 |  13 |  23 |  59 |  17 |  15 |  14 |\n",
       "| chr1:28934-29499 | 258 |  324 |  349 |  324 |  346 |  310 |   8 |  11 |   3 |  26 |   2 |   1 |   3 |\n",
       "| chr1:115429-115969 | 950 | 1174 | 1276 | 1151 | 1179 | 1054 | 234 | 443 | 469 | 752 | 290 | 265 | 277 |\n",
       "\n"
      ],
      "text/plain": [
       "                   Input.rep1 Input.rep2 Input.rep3 Input.rep4 Input.rep5\n",
       "chr1:10038-10405   145         207        244        229        178      \n",
       "chr1:14282-14614   106         139        153        137        123      \n",
       "chr1:16025-16338   124         189        175        170        178      \n",
       "chr1:17288-17689   259         350        400        367        369      \n",
       "chr1:28934-29499   258         324        349        324        346      \n",
       "chr1:115429-115969 950        1174       1276       1151       1179      \n",
       "                   Input.rep6 Output.rep1 Output.rep2 Output.rep3 Output.rep4\n",
       "chr1:10038-10405    206         5          12           4          10        \n",
       "chr1:14282-14614    128         8          23          26          41        \n",
       "chr1:16025-16338    164         8           7          15          18        \n",
       "chr1:17288-17689    331         7          13          23          59        \n",
       "chr1:28934-29499    310         8          11           3          26        \n",
       "chr1:115429-115969 1054       234         443         469         752        \n",
       "                   Output.rep5 Output.rep6 Output.rep7\n",
       "chr1:10038-10405     0           0           0        \n",
       "chr1:14282-14614     4           6           5        \n",
       "chr1:16025-16338    15           4           4        \n",
       "chr1:17288-17689    17          15          14        \n",
       "chr1:28934-29499     2           1           3        \n",
       "chr1:115429-115969 290         265         277        "
      ]
     },
     "metadata": {},
     "output_type": "display_data"
    }
   ],
   "source": [
    "head(mat_cnt)"
   ]
  },
  {
   "cell_type": "code",
   "execution_count": 19,
   "id": "827b1fb8-b755-4119-831b-88e6568be934",
   "metadata": {},
   "outputs": [
    {
     "data": {
      "text/html": [
       "<table class=\"dataframe\">\n",
       "<caption>A data.frame: 13 × 4</caption>\n",
       "<thead>\n",
       "\t<tr><th></th><th scope=col>FName</th><th scope=col>Assay</th><th scope=col>Prefix</th><th scope=col>Group</th></tr>\n",
       "\t<tr><th></th><th scope=col>&lt;chr&gt;</th><th scope=col>&lt;chr&gt;</th><th scope=col>&lt;chr&gt;</th><th scope=col>&lt;fct&gt;</th></tr>\n",
       "</thead>\n",
       "<tbody>\n",
       "\t<tr><th scope=row>Input.rep1</th><td>ASTARRseq_K562_KS91.hg38.Input.rep1.WGS.unstranded.bed.gz  </td><td>STARR_ATAC_K562_Reddy_KSMerge</td><td>ASTARRseq_K562_KS91 </td><td>Input </td></tr>\n",
       "\t<tr><th scope=row>Input.rep2</th><td>ASTARRseq_K562_KS91.hg38.Input.rep2.WGS.unstranded.bed.gz  </td><td>STARR_ATAC_K562_Reddy_KSMerge</td><td>ASTARRseq_K562_KS91 </td><td>Input </td></tr>\n",
       "\t<tr><th scope=row>Input.rep3</th><td>ASTARRseq_K562_KS91.hg38.Input.rep3.WGS.unstranded.bed.gz  </td><td>STARR_ATAC_K562_Reddy_KSMerge</td><td>ASTARRseq_K562_KS91 </td><td>Input </td></tr>\n",
       "\t<tr><th scope=row>Input.rep4</th><td>ASTARRseq_K562_KS91.hg38.Input.rep4.WGS.unstranded.bed.gz  </td><td>STARR_ATAC_K562_Reddy_KSMerge</td><td>ASTARRseq_K562_KS91 </td><td>Input </td></tr>\n",
       "\t<tr><th scope=row>Input.rep5</th><td>ASTARRseq_K562_KS91.hg38.Input.rep5.WGS.unstranded.bed.gz  </td><td>STARR_ATAC_K562_Reddy_KSMerge</td><td>ASTARRseq_K562_KS91 </td><td>Input </td></tr>\n",
       "\t<tr><th scope=row>Input.rep6</th><td>ASTARRseq_K562_KS91.hg38.Input.rep6.WGS.unstranded.bed.gz  </td><td>STARR_ATAC_K562_Reddy_KSMerge</td><td>ASTARRseq_K562_KS91 </td><td>Input </td></tr>\n",
       "\t<tr><th scope=row>Output.rep1</th><td>ASTARRseq_K562_KS91.hg38.Output.rep1.WGS.unstranded.bed.gz </td><td>STARR_ATAC_K562_Reddy_KSMerge</td><td>ASTARRseq_K562_KS91 </td><td>Output</td></tr>\n",
       "\t<tr><th scope=row>Output.rep2</th><td>ASTARRseq_K562_KS91.hg38.Output.rep2.WGS.unstranded.bed.gz </td><td>STARR_ATAC_K562_Reddy_KSMerge</td><td>ASTARRseq_K562_KS91 </td><td>Output</td></tr>\n",
       "\t<tr><th scope=row>Output.rep3</th><td>ASTARRseq_K562_KS91.hg38.Output.rep3.WGS.unstranded.bed.gz </td><td>STARR_ATAC_K562_Reddy_KSMerge</td><td>ASTARRseq_K562_KS91 </td><td>Output</td></tr>\n",
       "\t<tr><th scope=row>Output.rep4</th><td>ASTARRseq_K562_KS91.hg38.Output.rep4.WGS.unstranded.bed.gz </td><td>STARR_ATAC_K562_Reddy_KSMerge</td><td>ASTARRseq_K562_KS91 </td><td>Output</td></tr>\n",
       "\t<tr><th scope=row>Output.rep5</th><td>ASTARRseq_K562_KS274.hg38.Output.rep1.WGS.unstranded.bed.gz</td><td>STARR_ATAC_K562_Reddy_KSMerge</td><td>ASTARRseq_K562_KS274</td><td>Output</td></tr>\n",
       "\t<tr><th scope=row>Output.rep6</th><td>ASTARRseq_K562_KS274.hg38.Output.rep2.WGS.unstranded.bed.gz</td><td>STARR_ATAC_K562_Reddy_KSMerge</td><td>ASTARRseq_K562_KS274</td><td>Output</td></tr>\n",
       "\t<tr><th scope=row>Output.rep7</th><td>ASTARRseq_K562_KS274.hg38.Output.rep3.WGS.unstranded.bed.gz</td><td>STARR_ATAC_K562_Reddy_KSMerge</td><td>ASTARRseq_K562_KS274</td><td>Output</td></tr>\n",
       "</tbody>\n",
       "</table>\n"
      ],
      "text/latex": [
       "A data.frame: 13 × 4\n",
       "\\begin{tabular}{r|llll}\n",
       "  & FName & Assay & Prefix & Group\\\\\n",
       "  & <chr> & <chr> & <chr> & <fct>\\\\\n",
       "\\hline\n",
       "\tInput.rep1 & ASTARRseq\\_K562\\_KS91.hg38.Input.rep1.WGS.unstranded.bed.gz   & STARR\\_ATAC\\_K562\\_Reddy\\_KSMerge & ASTARRseq\\_K562\\_KS91  & Input \\\\\n",
       "\tInput.rep2 & ASTARRseq\\_K562\\_KS91.hg38.Input.rep2.WGS.unstranded.bed.gz   & STARR\\_ATAC\\_K562\\_Reddy\\_KSMerge & ASTARRseq\\_K562\\_KS91  & Input \\\\\n",
       "\tInput.rep3 & ASTARRseq\\_K562\\_KS91.hg38.Input.rep3.WGS.unstranded.bed.gz   & STARR\\_ATAC\\_K562\\_Reddy\\_KSMerge & ASTARRseq\\_K562\\_KS91  & Input \\\\\n",
       "\tInput.rep4 & ASTARRseq\\_K562\\_KS91.hg38.Input.rep4.WGS.unstranded.bed.gz   & STARR\\_ATAC\\_K562\\_Reddy\\_KSMerge & ASTARRseq\\_K562\\_KS91  & Input \\\\\n",
       "\tInput.rep5 & ASTARRseq\\_K562\\_KS91.hg38.Input.rep5.WGS.unstranded.bed.gz   & STARR\\_ATAC\\_K562\\_Reddy\\_KSMerge & ASTARRseq\\_K562\\_KS91  & Input \\\\\n",
       "\tInput.rep6 & ASTARRseq\\_K562\\_KS91.hg38.Input.rep6.WGS.unstranded.bed.gz   & STARR\\_ATAC\\_K562\\_Reddy\\_KSMerge & ASTARRseq\\_K562\\_KS91  & Input \\\\\n",
       "\tOutput.rep1 & ASTARRseq\\_K562\\_KS91.hg38.Output.rep1.WGS.unstranded.bed.gz  & STARR\\_ATAC\\_K562\\_Reddy\\_KSMerge & ASTARRseq\\_K562\\_KS91  & Output\\\\\n",
       "\tOutput.rep2 & ASTARRseq\\_K562\\_KS91.hg38.Output.rep2.WGS.unstranded.bed.gz  & STARR\\_ATAC\\_K562\\_Reddy\\_KSMerge & ASTARRseq\\_K562\\_KS91  & Output\\\\\n",
       "\tOutput.rep3 & ASTARRseq\\_K562\\_KS91.hg38.Output.rep3.WGS.unstranded.bed.gz  & STARR\\_ATAC\\_K562\\_Reddy\\_KSMerge & ASTARRseq\\_K562\\_KS91  & Output\\\\\n",
       "\tOutput.rep4 & ASTARRseq\\_K562\\_KS91.hg38.Output.rep4.WGS.unstranded.bed.gz  & STARR\\_ATAC\\_K562\\_Reddy\\_KSMerge & ASTARRseq\\_K562\\_KS91  & Output\\\\\n",
       "\tOutput.rep5 & ASTARRseq\\_K562\\_KS274.hg38.Output.rep1.WGS.unstranded.bed.gz & STARR\\_ATAC\\_K562\\_Reddy\\_KSMerge & ASTARRseq\\_K562\\_KS274 & Output\\\\\n",
       "\tOutput.rep6 & ASTARRseq\\_K562\\_KS274.hg38.Output.rep2.WGS.unstranded.bed.gz & STARR\\_ATAC\\_K562\\_Reddy\\_KSMerge & ASTARRseq\\_K562\\_KS274 & Output\\\\\n",
       "\tOutput.rep7 & ASTARRseq\\_K562\\_KS274.hg38.Output.rep3.WGS.unstranded.bed.gz & STARR\\_ATAC\\_K562\\_Reddy\\_KSMerge & ASTARRseq\\_K562\\_KS274 & Output\\\\\n",
       "\\end{tabular}\n"
      ],
      "text/markdown": [
       "\n",
       "A data.frame: 13 × 4\n",
       "\n",
       "| <!--/--> | FName &lt;chr&gt; | Assay &lt;chr&gt; | Prefix &lt;chr&gt; | Group &lt;fct&gt; |\n",
       "|---|---|---|---|---|\n",
       "| Input.rep1 | ASTARRseq_K562_KS91.hg38.Input.rep1.WGS.unstranded.bed.gz   | STARR_ATAC_K562_Reddy_KSMerge | ASTARRseq_K562_KS91  | Input  |\n",
       "| Input.rep2 | ASTARRseq_K562_KS91.hg38.Input.rep2.WGS.unstranded.bed.gz   | STARR_ATAC_K562_Reddy_KSMerge | ASTARRseq_K562_KS91  | Input  |\n",
       "| Input.rep3 | ASTARRseq_K562_KS91.hg38.Input.rep3.WGS.unstranded.bed.gz   | STARR_ATAC_K562_Reddy_KSMerge | ASTARRseq_K562_KS91  | Input  |\n",
       "| Input.rep4 | ASTARRseq_K562_KS91.hg38.Input.rep4.WGS.unstranded.bed.gz   | STARR_ATAC_K562_Reddy_KSMerge | ASTARRseq_K562_KS91  | Input  |\n",
       "| Input.rep5 | ASTARRseq_K562_KS91.hg38.Input.rep5.WGS.unstranded.bed.gz   | STARR_ATAC_K562_Reddy_KSMerge | ASTARRseq_K562_KS91  | Input  |\n",
       "| Input.rep6 | ASTARRseq_K562_KS91.hg38.Input.rep6.WGS.unstranded.bed.gz   | STARR_ATAC_K562_Reddy_KSMerge | ASTARRseq_K562_KS91  | Input  |\n",
       "| Output.rep1 | ASTARRseq_K562_KS91.hg38.Output.rep1.WGS.unstranded.bed.gz  | STARR_ATAC_K562_Reddy_KSMerge | ASTARRseq_K562_KS91  | Output |\n",
       "| Output.rep2 | ASTARRseq_K562_KS91.hg38.Output.rep2.WGS.unstranded.bed.gz  | STARR_ATAC_K562_Reddy_KSMerge | ASTARRseq_K562_KS91  | Output |\n",
       "| Output.rep3 | ASTARRseq_K562_KS91.hg38.Output.rep3.WGS.unstranded.bed.gz  | STARR_ATAC_K562_Reddy_KSMerge | ASTARRseq_K562_KS91  | Output |\n",
       "| Output.rep4 | ASTARRseq_K562_KS91.hg38.Output.rep4.WGS.unstranded.bed.gz  | STARR_ATAC_K562_Reddy_KSMerge | ASTARRseq_K562_KS91  | Output |\n",
       "| Output.rep5 | ASTARRseq_K562_KS274.hg38.Output.rep1.WGS.unstranded.bed.gz | STARR_ATAC_K562_Reddy_KSMerge | ASTARRseq_K562_KS274 | Output |\n",
       "| Output.rep6 | ASTARRseq_K562_KS274.hg38.Output.rep2.WGS.unstranded.bed.gz | STARR_ATAC_K562_Reddy_KSMerge | ASTARRseq_K562_KS274 | Output |\n",
       "| Output.rep7 | ASTARRseq_K562_KS274.hg38.Output.rep3.WGS.unstranded.bed.gz | STARR_ATAC_K562_Reddy_KSMerge | ASTARRseq_K562_KS274 | Output |\n",
       "\n"
      ],
      "text/plain": [
       "            FName                                                      \n",
       "Input.rep1  ASTARRseq_K562_KS91.hg38.Input.rep1.WGS.unstranded.bed.gz  \n",
       "Input.rep2  ASTARRseq_K562_KS91.hg38.Input.rep2.WGS.unstranded.bed.gz  \n",
       "Input.rep3  ASTARRseq_K562_KS91.hg38.Input.rep3.WGS.unstranded.bed.gz  \n",
       "Input.rep4  ASTARRseq_K562_KS91.hg38.Input.rep4.WGS.unstranded.bed.gz  \n",
       "Input.rep5  ASTARRseq_K562_KS91.hg38.Input.rep5.WGS.unstranded.bed.gz  \n",
       "Input.rep6  ASTARRseq_K562_KS91.hg38.Input.rep6.WGS.unstranded.bed.gz  \n",
       "Output.rep1 ASTARRseq_K562_KS91.hg38.Output.rep1.WGS.unstranded.bed.gz \n",
       "Output.rep2 ASTARRseq_K562_KS91.hg38.Output.rep2.WGS.unstranded.bed.gz \n",
       "Output.rep3 ASTARRseq_K562_KS91.hg38.Output.rep3.WGS.unstranded.bed.gz \n",
       "Output.rep4 ASTARRseq_K562_KS91.hg38.Output.rep4.WGS.unstranded.bed.gz \n",
       "Output.rep5 ASTARRseq_K562_KS274.hg38.Output.rep1.WGS.unstranded.bed.gz\n",
       "Output.rep6 ASTARRseq_K562_KS274.hg38.Output.rep2.WGS.unstranded.bed.gz\n",
       "Output.rep7 ASTARRseq_K562_KS274.hg38.Output.rep3.WGS.unstranded.bed.gz\n",
       "            Assay                         Prefix               Group \n",
       "Input.rep1  STARR_ATAC_K562_Reddy_KSMerge ASTARRseq_K562_KS91  Input \n",
       "Input.rep2  STARR_ATAC_K562_Reddy_KSMerge ASTARRseq_K562_KS91  Input \n",
       "Input.rep3  STARR_ATAC_K562_Reddy_KSMerge ASTARRseq_K562_KS91  Input \n",
       "Input.rep4  STARR_ATAC_K562_Reddy_KSMerge ASTARRseq_K562_KS91  Input \n",
       "Input.rep5  STARR_ATAC_K562_Reddy_KSMerge ASTARRseq_K562_KS91  Input \n",
       "Input.rep6  STARR_ATAC_K562_Reddy_KSMerge ASTARRseq_K562_KS91  Input \n",
       "Output.rep1 STARR_ATAC_K562_Reddy_KSMerge ASTARRseq_K562_KS91  Output\n",
       "Output.rep2 STARR_ATAC_K562_Reddy_KSMerge ASTARRseq_K562_KS91  Output\n",
       "Output.rep3 STARR_ATAC_K562_Reddy_KSMerge ASTARRseq_K562_KS91  Output\n",
       "Output.rep4 STARR_ATAC_K562_Reddy_KSMerge ASTARRseq_K562_KS91  Output\n",
       "Output.rep5 STARR_ATAC_K562_Reddy_KSMerge ASTARRseq_K562_KS274 Output\n",
       "Output.rep6 STARR_ATAC_K562_Reddy_KSMerge ASTARRseq_K562_KS274 Output\n",
       "Output.rep7 STARR_ATAC_K562_Reddy_KSMerge ASTARRseq_K562_KS274 Output"
      ]
     },
     "metadata": {},
     "output_type": "display_data"
    }
   ],
   "source": [
    "dat_col"
   ]
  },
  {
   "cell_type": "code",
   "execution_count": 21,
   "id": "769ce0e5-1788-4ca4-9a0a-24240a6850dc",
   "metadata": {},
   "outputs": [
    {
     "name": "stderr",
     "output_type": "stream",
     "text": [
      "Warning message in DESeqDataSet(se, design = design, ignoreRank):\n",
      "“some variables in design formula are characters, converting to factors”\n",
      "estimating size factors\n",
      "\n",
      "estimating dispersions\n",
      "\n",
      "gene-wise dispersion estimates\n",
      "\n",
      "mean-dispersion relationship\n",
      "\n",
      "final dispersion estimates\n",
      "\n",
      "fitting model and testing\n",
      "\n"
     ]
    }
   ],
   "source": [
    "### create DESeq2 object\n",
    "dds = DESeqDataSetFromMatrix(\n",
    "    countData = mat_cnt, \n",
    "    colData   = dat_col, \n",
    "    design    = ~Group+Prefix)\n",
    "\n",
    "### ensure Input group is set as reference\n",
    "dds$Group <- relevel(dds$Group, ref = \"Input\")\n",
    "\n",
    "### run deseq analysis\n",
    "dds = DESeq(dds)"
   ]
  },
  {
   "cell_type": "code",
   "execution_count": 20,
   "id": "eb27f4a2-2248-4325-a656-f95c0d4e0cb9",
   "metadata": {},
   "outputs": [
    {
     "data": {
      "text/plain": [
       "log2 fold change (MLE): Group Output vs Input \n",
       "Wald test p-value: Group Output vs Input \n",
       "DataFrame with 150040 rows and 6 columns\n",
       "                          baseMean log2FoldChange     lfcSE      stat\n",
       "                         <numeric>      <numeric> <numeric> <numeric>\n",
       "chr1:10038-10405           37.1501      -2.841742  0.284172 -10.00008\n",
       "chr1:14282-14614           38.1342      -0.422697  0.226805  -1.86370\n",
       "chr1:16025-16338           39.0636      -1.364749  0.191184  -7.13841\n",
       "chr1:17288-17689           78.4934      -1.381308  0.141734  -9.74578\n",
       "chr1:28934-29499           59.3694      -2.709320  0.208606 -12.98772\n",
       "...                            ...            ...       ...       ...\n",
       "chrX:156000431-156003126 1086.0954       0.418280 0.0677411   6.17469\n",
       "chrX:156009723-156010194   33.7977      -1.167201 0.2158986  -5.40625\n",
       "chrX:156016432-156016780   29.9501      -4.597370 0.5152203  -8.92312\n",
       "chrX:156024963-156025554  104.6954      -0.581278 0.1302340  -4.46334\n",
       "chrX:156030352-156030709   31.4379      -6.862698 0.7738812  -8.86790\n",
       "                              pvalue        padj\n",
       "                           <numeric>   <numeric>\n",
       "chr1:10038-10405         1.52274e-23 2.44041e-22\n",
       "chr1:14282-14614         6.23634e-02 9.93787e-02\n",
       "chr1:16025-16338         9.44174e-13 6.94635e-12\n",
       "chr1:17288-17689         1.92301e-22 2.88672e-21\n",
       "chr1:28934-29499         1.43645e-38 4.98554e-37\n",
       "...                              ...         ...\n",
       "chrX:156000431-156003126 6.62945e-10 3.71386e-09\n",
       "chrX:156009723-156010194 6.43591e-08 2.88968e-07\n",
       "chrX:156016432-156016780 4.53350e-19 5.45343e-18\n",
       "chrX:156024963-156025554 8.06935e-06 2.75206e-05\n",
       "chrX:156030352-156030709 7.45409e-19 8.84469e-18"
      ]
     },
     "metadata": {},
     "output_type": "display_data"
    }
   ],
   "source": [
    "res = results(dds, contrast = c(\"Group\", \"Output\", \"Input\"))\n",
    "res"
   ]
  },
  {
   "cell_type": "code",
   "execution_count": 22,
   "id": "3b842bcf-2276-4e38-b34a-1ee39547efa6",
   "metadata": {},
   "outputs": [
    {
     "data": {
      "text/plain": [
       "log2 fold change (MLE): Group Output vs Input \n",
       "Wald test p-value: Group Output vs Input \n",
       "DataFrame with 150040 rows and 6 columns\n",
       "                          baseMean log2FoldChange     lfcSE       stat\n",
       "                         <numeric>      <numeric> <numeric>  <numeric>\n",
       "chr1:10038-10405           37.1501     -2.2374091  0.281460  -7.949302\n",
       "chr1:14282-14614           38.1342      0.0272619  0.166605   0.163632\n",
       "chr1:16025-16338           39.0636     -1.3419408  0.226576  -5.922701\n",
       "chr1:17288-17689           78.4934     -1.3371407  0.165021  -8.102831\n",
       "chr1:28934-29499           59.3694     -2.2857276  0.217494 -10.509365\n",
       "...                            ...            ...       ...        ...\n",
       "chrX:156000431-156003126 1086.0954       0.530026 0.0424995   12.47133\n",
       "chrX:156009723-156010194   33.7977      -1.782659 0.2854546   -6.24498\n",
       "chrX:156016432-156016780   29.9501      -4.203190 0.5501279   -7.64039\n",
       "chrX:156024963-156025554  104.6954      -0.349008 0.1144266   -3.05006\n",
       "chrX:156030352-156030709   31.4379      -6.752881 1.0102499   -6.68437\n",
       "                              pvalue        padj\n",
       "                           <numeric>   <numeric>\n",
       "chr1:10038-10405         1.87565e-15 1.37827e-14\n",
       "chr1:14282-14614         8.70021e-01 9.01338e-01\n",
       "chr1:16025-16338         3.16697e-09 1.54203e-08\n",
       "chr1:17288-17689         5.36949e-16 4.05954e-15\n",
       "chr1:28934-29499         7.82188e-26 8.55742e-25\n",
       "...                              ...         ...\n",
       "chrX:156000431-156003126 1.07019e-35 1.52659e-34\n",
       "chrX:156009723-156010194 4.23847e-10 2.22079e-09\n",
       "chrX:156016432-156016780 2.16571e-14 1.50272e-13\n",
       "chrX:156024963-156025554 2.28795e-03 5.11999e-03\n",
       "chrX:156030352-156030709 2.31924e-11 1.33393e-10"
      ]
     },
     "metadata": {},
     "output_type": "display_data"
    }
   ],
   "source": [
    "res = results(dds, contrast = c(\"Group\", \"Output\", \"Input\"))\n",
    "res"
   ]
  },
  {
   "cell_type": "code",
   "execution_count": 23,
   "id": "4f46f86f-f7c8-4b6d-82b9-d26eff877385",
   "metadata": {},
   "outputs": [
    {
     "name": "stdout",
     "output_type": "stream",
     "text": [
      "[1] \"/mount/repo/Proj_ENCODE_FCC/results/region_coverage_fcc/fcc_astarr_macs_input_overlap/STARR_ATAC_K562_Reddy_KSMerge/overlap_count/summary\"\n"
     ]
    }
   ],
   "source": [
    "txt_fdiry = dirname(txt_fpath)\n",
    "print(txt_fdiry)"
   ]
  },
  {
   "cell_type": "code",
   "execution_count": 24,
   "id": "71390688-4da2-444d-81c0-518cb0ca97f3",
   "metadata": {},
   "outputs": [],
   "source": [
    "### save deseq object\n",
    "txt_fdiry = dirname(txt_fpath)\n",
    "txt_fname = \"data_deseq2.rds\"\n",
    "txt_fpath = file.path(txt_fdiry, txt_fname)\n",
    "\n",
    "obj = dds\n",
    "saveRDS(obj, txt_fpath)"
   ]
  },
  {
   "cell_type": "code",
   "execution_count": null,
   "id": "92a780ee-59a4-4d71-9d8a-5a8158851a65",
   "metadata": {},
   "outputs": [],
   "source": []
  },
  {
   "cell_type": "code",
   "execution_count": null,
   "id": "bbff5424-4109-449b-946b-9cbd5169e415",
   "metadata": {},
   "outputs": [],
   "source": []
  },
  {
   "cell_type": "code",
   "execution_count": null,
   "id": "85baefe0-0985-4db9-ace6-dce00e4d8c3a",
   "metadata": {},
   "outputs": [],
   "source": []
  },
  {
   "cell_type": "code",
   "execution_count": null,
   "id": "c7c400a8-6012-45d9-b31a-fe8644c2d36b",
   "metadata": {},
   "outputs": [],
   "source": []
  },
  {
   "cell_type": "code",
   "execution_count": null,
   "id": "bc2f4eab-6b80-40c1-b422-7bf2d7c097da",
   "metadata": {},
   "outputs": [],
   "source": []
  },
  {
   "cell_type": "code",
   "execution_count": null,
   "id": "88ea2879-34bb-402f-8991-407e0dfc8a3f",
   "metadata": {},
   "outputs": [],
   "source": []
  },
  {
   "cell_type": "code",
   "execution_count": null,
   "id": "8449f24b-ac9a-4be6-8b86-0bcf33eb5f57",
   "metadata": {},
   "outputs": [],
   "source": [
    "### init\n",
    "txt_region = \"fcc_astarr_macs_input_overlap\"\n",
    "txt_assay  = \"STARR_ATAC_K562_Reddy_KS91\"\n",
    "\n",
    "### set directory\n",
    "txt_fdiry = file.path(\n",
    "    FD_RES, \"region_coverage_fcc\",\n",
    "    txt_region,\n",
    "    txt_assay,\n",
    "    \"overlap_count\",\n",
    "    \"summary\"\n",
    ")\n",
    "txt_fname = \"data_list_count_column.rds\"\n",
    "txt_fpath = file.path(txt_fdiry, txt_fname)\n",
    "\n",
    "### read object\n",
    "lst_dat = readRDS(txt_fpath)\n",
    "dat_cnt = lst_dat$data_cnt\n",
    "dat_col = lst_dat$data_col\n",
    "\n",
    "### arrange column data\n",
    "dat_col = dat_col  %>% \n",
    "    dplyr::mutate(Group = factor(Group, levels = c(\"Input\", \"Output\"))) %>%\n",
    "    column_to_rownames(var = \"Sample\")\n",
    "\n",
    "### arrange count matrix\n",
    "mat = dat_cnt %>%\n",
    "    dplyr::select(-Chrom, -ChromStart, -ChromEnd) %>%\n",
    "    column_to_rownames(var = \"Region\")\n",
    "\n",
    "dge = DGEList(counts=mat, group=dat_col$Group)\n",
    "idx = filterByExpr(dge)\n",
    "dge = dge[idx, , keep.lib.sizes=FALSE]\n",
    "mat = dge$counts\n",
    "\n",
    "mat_cnt = mat\n",
    "print(nrow(dat_cnt))\n",
    "print(nrow(mat_cnt))"
   ]
  },
  {
   "cell_type": "code",
   "execution_count": null,
   "id": "7f636ec8-6687-447f-b34b-808aeeeab321",
   "metadata": {},
   "outputs": [],
   "source": []
  },
  {
   "cell_type": "code",
   "execution_count": null,
   "id": "fd8970d4-44b4-4167-917e-c1c3ab33138b",
   "metadata": {},
   "outputs": [],
   "source": []
  },
  {
   "cell_type": "code",
   "execution_count": null,
   "id": "22ec85df-3acb-4b2b-843e-2ad713473922",
   "metadata": {},
   "outputs": [],
   "source": []
  },
  {
   "cell_type": "code",
   "execution_count": 13,
   "id": "264aba97-b2ad-4fdf-97fd-f9bf10449d13",
   "metadata": {},
   "outputs": [
    {
     "name": "stderr",
     "output_type": "stream",
     "text": [
      "estimating size factors\n",
      "\n",
      "estimating dispersions\n",
      "\n",
      "gene-wise dispersion estimates\n",
      "\n",
      "mean-dispersion relationship\n",
      "\n",
      "final dispersion estimates\n",
      "\n",
      "fitting model and testing\n",
      "\n"
     ]
    }
   ],
   "source": []
  },
  {
   "cell_type": "code",
   "execution_count": null,
   "id": "f703ef2a-04d1-4459-be84-d93b6e4bf94b",
   "metadata": {},
   "outputs": [],
   "source": [
    "print(dim(mat_cnt))\n",
    "print(dim(mat))"
   ]
  },
  {
   "cell_type": "code",
   "execution_count": 14,
   "id": "c872c4f1-2eaa-4073-b349-396513382774",
   "metadata": {},
   "outputs": [
    {
     "data": {
      "text/html": [
       "'/mount/repo/Proj_ENCODE_FCC/results/region_coverage_fcc/fcc_astarr_macs_input_overlap/STARR_ATAC_K562_Reddy_KS91/overlap_count/summary'"
      ],
      "text/latex": [
       "'/mount/repo/Proj\\_ENCODE\\_FCC/results/region\\_coverage\\_fcc/fcc\\_astarr\\_macs\\_input\\_overlap/STARR\\_ATAC\\_K562\\_Reddy\\_KS91/overlap\\_count/summary'"
      ],
      "text/markdown": [
       "'/mount/repo/Proj_ENCODE_FCC/results/region_coverage_fcc/fcc_astarr_macs_input_overlap/STARR_ATAC_K562_Reddy_KS91/overlap_count/summary'"
      ],
      "text/plain": [
       "[1] \"/mount/repo/Proj_ENCODE_FCC/results/region_coverage_fcc/fcc_astarr_macs_input_overlap/STARR_ATAC_K562_Reddy_KS91/overlap_count/summary\""
      ]
     },
     "metadata": {},
     "output_type": "display_data"
    }
   ],
   "source": [
    "txt_fdiry = dirname(txt_fpath)\n",
    "txt_fdiry"
   ]
  },
  {
   "cell_type": "code",
   "execution_count": 15,
   "id": "b2d88663-f36e-4973-a0b7-47298776214e",
   "metadata": {},
   "outputs": [],
   "source": [
    "### save deseq object\n",
    "txt_fdiry = dirname(txt_fpath)\n",
    "txt_fname = \"data_deseq2.rds\"\n",
    "txt_fpath = file.path(txt_fdiry, txt_fname)\n",
    "\n",
    "obj = dds\n",
    "saveRDS(obj, txt_fpath)"
   ]
  },
  {
   "cell_type": "code",
   "execution_count": null,
   "id": "1cd4f44c-7026-46b3-93a8-df8f01702fbc",
   "metadata": {},
   "outputs": [],
   "source": []
  },
  {
   "cell_type": "code",
   "execution_count": null,
   "id": "b234bb23-aa7f-4556-a4ef-fa0ab9605c26",
   "metadata": {},
   "outputs": [],
   "source": []
  },
  {
   "cell_type": "code",
   "execution_count": null,
   "id": "88a406a2-c41f-4143-8f85-ab0b3c26218f",
   "metadata": {},
   "outputs": [],
   "source": []
  },
  {
   "cell_type": "code",
   "execution_count": null,
   "id": "23d25be9-d489-4b60-9654-b2568784f1eb",
   "metadata": {},
   "outputs": [],
   "source": []
  },
  {
   "cell_type": "code",
   "execution_count": 17,
   "id": "ea4bf95a-fbbd-4fd5-aa2d-54bcf0ebe5b0",
   "metadata": {},
   "outputs": [
    {
     "name": "stderr",
     "output_type": "stream",
     "text": [
      "Warning message in DESeqDataSet(se, design = design, ignoreRank):\n",
      "“some variables in design formula are characters, converting to factors”\n"
     ]
    },
    {
     "ename": "ERROR",
     "evalue": "Error in checkFullRank(modelMatrix): the model matrix is not full rank, so the model cannot be fit as specified.\n  One or more variables or interaction terms in the design formula are linear\n  combinations of the others and must be removed.\n\n  Please read the vignette section 'Model matrix not full rank':\n\n  vignette('DESeq2')\n",
     "output_type": "error",
     "traceback": [
      "Error in checkFullRank(modelMatrix): the model matrix is not full rank, so the model cannot be fit as specified.\n  One or more variables or interaction terms in the design formula are linear\n  combinations of the others and must be removed.\n\n  Please read the vignette section 'Model matrix not full rank':\n\n  vignette('DESeq2')\nTraceback:\n",
      "1. DESeqDataSetFromMatrix(countData = mat_cnt, colData = dat_col, \n .     design = ~Group + Prefix)",
      "2. DESeqDataSet(se, design = design, ignoreRank)",
      "3. checkFullRank(modelMatrix)",
      "4. stop(\"the model matrix is not full rank, so the model cannot be fit as specified.\\n  One or more variables or interaction terms in the design formula are linear\\n  combinations of the others and must be removed.\\n\\n  Please read the vignette section 'Model matrix not full rank':\\n\\n  vignette('DESeq2')\")"
     ]
    }
   ],
   "source": [
    "### create DESeq2 object\n",
    "dds = DESeqDataSetFromMatrix(\n",
    "    countData = mat_cnt, \n",
    "    colData   = dat_col, \n",
    "    design    = ~Group+Prefix)\n",
    "\n",
    "### ensure Input group is set as reference\n",
    "dds$Group <- relevel(dds$Group, ref = \"Input\")\n",
    "\n",
    "### run deseq analysis\n",
    "dds = DESeq(dds)\n",
    "\n",
    "dds2 = dds"
   ]
  },
  {
   "cell_type": "code",
   "execution_count": null,
   "id": "8ea6d014-cde4-4568-b33f-985e9c45f775",
   "metadata": {},
   "outputs": [],
   "source": []
  },
  {
   "cell_type": "code",
   "execution_count": 2,
   "id": "d0736e0f-cd97-48bd-aeab-c4e619b6fe69",
   "metadata": {},
   "outputs": [
    {
     "data": {
      "text/html": [
       "<style>\n",
       ".list-inline {list-style: none; margin:0; padding: 0}\n",
       ".list-inline>li {display: inline-block}\n",
       ".list-inline>li:not(:last-child)::after {content: \"\\00b7\"; padding: 0 .5ex}\n",
       "</style>\n",
       "<ol class=list-inline><li>'MPRA_Tiling_K562_Tewhey_hannah'</li><li>'STARR_ATAC_K562_Reddy_KS91'</li><li>'STARR_WHG_K562_Reddy_A001'</li></ol>\n"
      ],
      "text/latex": [
       "\\begin{enumerate*}\n",
       "\\item 'MPRA\\_Tiling\\_K562\\_Tewhey\\_hannah'\n",
       "\\item 'STARR\\_ATAC\\_K562\\_Reddy\\_KS91'\n",
       "\\item 'STARR\\_WHG\\_K562\\_Reddy\\_A001'\n",
       "\\end{enumerate*}\n"
      ],
      "text/markdown": [
       "1. 'MPRA_Tiling_K562_Tewhey_hannah'\n",
       "2. 'STARR_ATAC_K562_Reddy_KS91'\n",
       "3. 'STARR_WHG_K562_Reddy_A001'\n",
       "\n",
       "\n"
      ],
      "text/plain": [
       "[1] \"MPRA_Tiling_K562_Tewhey_hannah\" \"STARR_ATAC_K562_Reddy_KS91\"    \n",
       "[3] \"STARR_WHG_K562_Reddy_A001\"     "
      ]
     },
     "metadata": {},
     "output_type": "display_data"
    }
   ],
   "source": [
    "txt_fdiry = file.path(FD_RES, \"assay_fcc\")\n",
    "dir(txt_fdiry)"
   ]
  },
  {
   "cell_type": "code",
   "execution_count": 3,
   "id": "e374b58c-40b6-4ae1-ae32-cdc9dee406d1",
   "metadata": {},
   "outputs": [],
   "source": [
    "VEC_TXT_ASSAY = c(\n",
    "    \"STARR_ATAC_K562_Reddy_KS91\",\n",
    "    \"STARR_WHG_K562_Reddy_A001\"\n",
    ")"
   ]
  },
  {
   "cell_type": "code",
   "execution_count": 4,
   "id": "3d113c8b-1925-497f-aca7-a60cdaf7a822",
   "metadata": {},
   "outputs": [
    {
     "name": "stdout",
     "output_type": "stream",
     "text": [
      "STARR_ATAC_K562_Reddy_KS91 \n",
      "[1] \"/mount/repo/Proj_CombEffect_ENCODE_FCC/results/assay_fcc/STARR_ATAC_K562_Reddy_KS91/coverage/encode_open_chromatin/atac_ENCFF333TAT/summary\"\n",
      "[1] \"/mount/repo/Proj_CombEffect_ENCODE_FCC/results/assay_fcc/STARR_ATAC_K562_Reddy_KS91/coverage/encode_open_chromatin/atac_ENCFF558BLC/summary\"\n",
      "[1] \"/mount/repo/Proj_CombEffect_ENCODE_FCC/results/assay_fcc/STARR_ATAC_K562_Reddy_KS91/coverage/encode_open_chromatin/atac_ENCFF925CYR/summary\"\n",
      "[1] \"/mount/repo/Proj_CombEffect_ENCODE_FCC/results/assay_fcc/STARR_ATAC_K562_Reddy_KS91/coverage/encode_open_chromatin/atac_ENCFF948AFM/summary\"\n",
      "[1] \"/mount/repo/Proj_CombEffect_ENCODE_FCC/results/assay_fcc/STARR_ATAC_K562_Reddy_KS91/coverage/encode_open_chromatin/dnase_ENCFF185XRG/summary\"\n",
      "[1] \"/mount/repo/Proj_CombEffect_ENCODE_FCC/results/assay_fcc/STARR_ATAC_K562_Reddy_KS91/coverage/encode_open_chromatin/dnase_ENCFF274YGF/summary\"\n",
      "[1] \"/mount/repo/Proj_CombEffect_ENCODE_FCC/results/assay_fcc/STARR_ATAC_K562_Reddy_KS91/coverage/fcc_astarr_macs/astarr_macs_input_overlap/summary\"\n",
      "[1] \"/mount/repo/Proj_CombEffect_ENCODE_FCC/results/assay_fcc/STARR_ATAC_K562_Reddy_KS91/coverage/fcc_astarr_macs/astarr_macs_input_union/summary\"\n",
      "\n",
      "STARR_WHG_K562_Reddy_A001 \n",
      "[1] \"/mount/repo/Proj_CombEffect_ENCODE_FCC/results/assay_fcc/STARR_WHG_K562_Reddy_A001/coverage/encode_open_chromatin/atac_ENCFF333TAT/summary\"\n",
      "[1] \"/mount/repo/Proj_CombEffect_ENCODE_FCC/results/assay_fcc/STARR_WHG_K562_Reddy_A001/coverage/encode_open_chromatin/atac_ENCFF558BLC/summary\"\n",
      "[1] \"/mount/repo/Proj_CombEffect_ENCODE_FCC/results/assay_fcc/STARR_WHG_K562_Reddy_A001/coverage/encode_open_chromatin/atac_ENCFF925CYR/summary\"\n",
      "[1] \"/mount/repo/Proj_CombEffect_ENCODE_FCC/results/assay_fcc/STARR_WHG_K562_Reddy_A001/coverage/encode_open_chromatin/atac_ENCFF948AFM/summary\"\n",
      "[1] \"/mount/repo/Proj_CombEffect_ENCODE_FCC/results/assay_fcc/STARR_WHG_K562_Reddy_A001/coverage/encode_open_chromatin/dnase_ENCFF185XRG/summary\"\n",
      "[1] \"/mount/repo/Proj_CombEffect_ENCODE_FCC/results/assay_fcc/STARR_WHG_K562_Reddy_A001/coverage/encode_open_chromatin/dnase_ENCFF274YGF/summary\"\n",
      "[1] \"/mount/repo/Proj_CombEffect_ENCODE_FCC/results/assay_fcc/STARR_WHG_K562_Reddy_A001/coverage/fcc_astarr_macs/astarr_macs_input_overlap/summary\"\n",
      "[1] \"/mount/repo/Proj_CombEffect_ENCODE_FCC/results/assay_fcc/STARR_WHG_K562_Reddy_A001/coverage/fcc_astarr_macs/astarr_macs_input_union/summary\"\n",
      "\n"
     ]
    }
   ],
   "source": [
    "for (txt_assay in VEC_TXT_ASSAY) {\n",
    "    cat(txt_assay, \"\\n\")\n",
    "    txt_fdiry = file.path(FD_RES, \"assay_fcc\", txt_assay, \"coverage\", \"*\", \"*\", \"summary\")\n",
    "    txt_fname = \"data_list_count_column.rds\"\n",
    "    txt_fglob = file.path(txt_fdiry, txt_fname)\n",
    "    \n",
    "    vec_txt_fpath = Sys.glob(txt_fglob)\n",
    "    \n",
    "    for (txt_fpath in vec_txt_fpath){\n",
    "        txt_fdiry = dirname(txt_fpath)\n",
    "        print(txt_fdiry)\n",
    "    }\n",
    "    cat(\"\\n\")\n",
    "}"
   ]
  }
 ],
 "metadata": {
  "kernelspec": {
   "display_name": "R",
   "language": "R",
   "name": "ir"
  },
  "language_info": {
   "codemirror_mode": "r",
   "file_extension": ".r",
   "mimetype": "text/x-r-source",
   "name": "R",
   "pygments_lexer": "r",
   "version": "4.4.0"
  }
 },
 "nbformat": 4,
 "nbformat_minor": 5
}
