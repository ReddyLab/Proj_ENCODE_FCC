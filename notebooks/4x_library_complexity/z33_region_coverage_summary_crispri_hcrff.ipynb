{
 "cells": [
  {
   "cell_type": "raw",
   "id": "a94361a4-40fe-42f9-b46d-3bbd92b83b8d",
   "metadata": {},
   "source": [
    "---\n",
    "title: ...\n",
    "subtitle: ...\n",
    "format:\n",
    "    html:\n",
    "        code-fold:  true\n",
    "        code-tools: true\n",
    "---"
   ]
  },
  {
   "cell_type": "markdown",
   "id": "dacb5981-8284-4a0d-9058-cfe261f10bd0",
   "metadata": {},
   "source": [
    "**Set environment**"
   ]
  },
  {
   "cell_type": "code",
   "execution_count": 2,
   "id": "6b1007a7-193a-478e-982c-0137e7999a30",
   "metadata": {},
   "outputs": [
    {
     "name": "stdout",
     "output_type": "stream",
     "text": [
      "You are working on        Singularity \n",
      "BASE DIRECTORY (FD_BASE): /mount \n",
      "REPO DIRECTORY (FD_REPO): /mount/repo \n",
      "WORK DIRECTORY (FD_WORK): /mount/work \n",
      "DATA DIRECTORY (FD_DATA): /mount/data \n",
      "\n",
      "You are working with      ENCODE FCC \n",
      "PATH OF PROJECT (FD_PRJ): /mount/repo/Proj_ENCODE_FCC \n",
      "PROJECT RESULTS (FD_RES): /mount/repo/Proj_ENCODE_FCC/results \n",
      "PROJECT SCRIPTS (FD_EXE): /mount/repo/Proj_ENCODE_FCC/scripts \n",
      "PROJECT DATA    (FD_DAT): /mount/repo/Proj_ENCODE_FCC/data \n",
      "PROJECT NOTE    (FD_NBK): /mount/repo/Proj_ENCODE_FCC/notebooks \n",
      "PROJECT DOCS    (FD_DOC): /mount/repo/Proj_ENCODE_FCC/docs \n",
      "PROJECT LOG     (FD_LOG): /mount/repo/Proj_ENCODE_FCC/log \n",
      "PROJECT APP     (FD_APP): /mount/repo/Proj_ENCODE_FCC/app \n",
      "PROJECT REF     (FD_REF): /mount/repo/Proj_ENCODE_FCC/references \n",
      "\n"
     ]
    }
   ],
   "source": [
    "suppressMessages(suppressWarnings(source(\"../run_config_project_sing.R\")))\n",
    "show_env()"
   ]
  },
  {
   "cell_type": "code",
   "execution_count": 3,
   "id": "42bfba17-7975-4695-9111-8d8805f320d1",
   "metadata": {},
   "outputs": [
    {
     "name": "stdout",
     "output_type": "stream",
     "text": [
      "atac_ENCFF333TAT \n",
      "atac_ENCFF558BLC \n",
      "atac_ENCFF925CYR \n",
      "atac_ENCFF948AFM \n",
      "dnase_ENCFF185XRG \n",
      "dnase_ENCFF274YGF \n",
      "fcc_astarr_macs_input_overlap \n",
      "fcc_astarr_macs_input_union \n"
     ]
    }
   ],
   "source": [
    "txt_fdiry = file.path(FD_RES, \"region_coverage_fcc\")\n",
    "vec = dir(txt_fdiry)\n",
    "for (txt in vec) {cat(txt, \"\\n\")}"
   ]
  },
  {
   "cell_type": "code",
   "execution_count": 4,
   "id": "052a8a3e-6474-4df8-9c2f-4e75d9540be5",
   "metadata": {},
   "outputs": [
    {
     "name": "stdout",
     "output_type": "stream",
     "text": [
      "CRISPRi_FlowFISH_K562_Riley_JinWoo \n",
      "CRISPRi_Growth_K562_Gersbach_JinWoo \n",
      "MPRA_Lenti_K562_Nadav_Vikram \n",
      "STARR_ATAC_K562_Reddy_KS274 \n",
      "STARR_ATAC_K562_Reddy_KS91 \n",
      "STARR_ATAC_K562_Reddy_KSMerge \n",
      "STARR_WHG_K562_Reddy_A001 \n"
     ]
    }
   ],
   "source": [
    "txt_region = \"fcc_astarr_macs_input_union\"\n",
    "txt_fdiry  = file.path(FD_RES, \"region_coverage_fcc\", txt_region)\n",
    "vec = dir(txt_fdiry)\n",
    "for (txt in vec) {cat(txt, \"\\n\")}"
   ]
  },
  {
   "cell_type": "code",
   "execution_count": 6,
   "id": "58da96e2-1e3e-4148-a984-e9ebed746028",
   "metadata": {},
   "outputs": [],
   "source": [
    "vec_txt_assay = c(\n",
    "    \"CRISPRi_FlowFISH_K562_Riley_JinWoo\",\n",
    "    \"CRISPRi_Growth_K562_Gersbach_JinWoo\",\n",
    "    \"MPRA_Lenti_K562_Nadav_Vikram\"\n",
    ")"
   ]
  },
  {
   "cell_type": "markdown",
   "id": "d6879208-6583-4700-bd94-6e121879c397",
   "metadata": {},
   "source": [
    "## Import region data"
   ]
  },
  {
   "cell_type": "markdown",
   "id": "35e913d3-082d-46fb-acce-6cc281491f86",
   "metadata": {},
   "source": [
    "**Read region metadata table**"
   ]
  },
  {
   "cell_type": "code",
   "execution_count": 11,
   "id": "ad87dded-2871-4aaa-84b0-9d5a81483cf1",
   "metadata": {},
   "outputs": [
    {
     "data": {
      "text/html": [
       "<table>\n",
       " <thead>\n",
       "  <tr>\n",
       "   <th style=\"text-align:left;\"> Folder </th>\n",
       "   <th style=\"text-align:left;\"> FName </th>\n",
       "   <th style=\"text-align:left;\"> Label </th>\n",
       "  </tr>\n",
       " </thead>\n",
       "<tbody>\n",
       "  <tr>\n",
       "   <td style=\"text-align:left;\"> encode_open_chromatin </td>\n",
       "   <td style=\"text-align:left;\"> K562.hg38.ENCSR000EKS.ENCFF274YGF.DNase.bed.gz </td>\n",
       "   <td style=\"text-align:left;\"> dnase_ENCFF274YGF </td>\n",
       "  </tr>\n",
       "  <tr>\n",
       "   <td style=\"text-align:left;\"> encode_open_chromatin </td>\n",
       "   <td style=\"text-align:left;\"> K562.hg38.ENCSR000EOT.ENCFF185XRG.DNase.bed.gz </td>\n",
       "   <td style=\"text-align:left;\"> dnase_ENCFF185XRG </td>\n",
       "  </tr>\n",
       "  <tr>\n",
       "   <td style=\"text-align:left;\"> encode_open_chromatin </td>\n",
       "   <td style=\"text-align:left;\"> K562.hg38.ENCSR483RKN.ENCFF558BLC.ATAC.bed.gz </td>\n",
       "   <td style=\"text-align:left;\"> atac_ENCFF558BLC </td>\n",
       "  </tr>\n",
       "  <tr>\n",
       "   <td style=\"text-align:left;\"> encode_open_chromatin </td>\n",
       "   <td style=\"text-align:left;\"> K562.hg38.ENCSR483RKN.ENCFF925CYR.ATAC.bed.gz </td>\n",
       "   <td style=\"text-align:left;\"> atac_ENCFF925CYR </td>\n",
       "  </tr>\n",
       "  <tr>\n",
       "   <td style=\"text-align:left;\"> encode_open_chromatin </td>\n",
       "   <td style=\"text-align:left;\"> K562.hg38.ENCSR868FGK.ENCFF333TAT.ATAC.bed.gz </td>\n",
       "   <td style=\"text-align:left;\"> atac_ENCFF333TAT </td>\n",
       "  </tr>\n",
       "  <tr>\n",
       "   <td style=\"text-align:left;\"> encode_open_chromatin </td>\n",
       "   <td style=\"text-align:left;\"> K562.hg38.ENCSR868FGK.ENCFF948AFM.ATAC.bed.gz </td>\n",
       "   <td style=\"text-align:left;\"> atac_ENCFF948AFM </td>\n",
       "  </tr>\n",
       "  <tr>\n",
       "   <td style=\"text-align:left;\"> fcc_astarr_macs </td>\n",
       "   <td style=\"text-align:left;\"> K562.hg38.ASTARR.macs.KS91.input.rep_all.max_overlaps.q5.bed.gz </td>\n",
       "   <td style=\"text-align:left;\"> fcc_astarr_macs_input_overlap </td>\n",
       "  </tr>\n",
       "  <tr>\n",
       "   <td style=\"text-align:left;\"> fcc_astarr_macs </td>\n",
       "   <td style=\"text-align:left;\"> K562.hg38.ASTARR.macs.KS91.input.rep_all.union.q5.bed.gz </td>\n",
       "   <td style=\"text-align:left;\"> fcc_astarr_macs_input_union </td>\n",
       "  </tr>\n",
       "</tbody>\n",
       "</table>"
      ]
     },
     "metadata": {},
     "output_type": "display_data"
    }
   ],
   "source": [
    "### set directory\n",
    "txt_fdiry = file.path(FD_RES, \"region\", \"summary\")\n",
    "txt_fname = \"metadata.label.ocr.tsv\"\n",
    "txt_fpath = file.path(txt_fdiry, txt_fname)\n",
    "\n",
    "### read table\n",
    "dat = read_tsv(txt_fpath, show_col_types = FALSE)\n",
    "\n",
    "### assign and show\n",
    "dat_meta_region = dat\n",
    "fun_display_table(dat)"
   ]
  },
  {
   "cell_type": "markdown",
   "id": "b593b9bb-7e02-46fc-8b78-f6fa2332634e",
   "metadata": {},
   "source": [
    "**Create region list for looping**"
   ]
  },
  {
   "cell_type": "code",
   "execution_count": 12,
   "id": "f022608f-07b1-43b9-aec6-e8232a004dae",
   "metadata": {},
   "outputs": [
    {
     "name": "stdout",
     "output_type": "stream",
     "text": [
      "$atac_ENCFF333TAT\n",
      "[1] \"encode_open_chromatin\"\n",
      "\n",
      "$atac_ENCFF558BLC\n",
      "[1] \"encode_open_chromatin\"\n",
      "\n",
      "$atac_ENCFF925CYR\n",
      "[1] \"encode_open_chromatin\"\n",
      "\n",
      "$atac_ENCFF948AFM\n",
      "[1] \"encode_open_chromatin\"\n",
      "\n",
      "$dnase_ENCFF185XRG\n",
      "[1] \"encode_open_chromatin\"\n",
      "\n",
      "$dnase_ENCFF274YGF\n",
      "[1] \"encode_open_chromatin\"\n",
      "\n",
      "$fcc_astarr_macs_input_overlap\n",
      "[1] \"fcc_astarr_macs\"\n",
      "\n",
      "$fcc_astarr_macs_input_union\n",
      "[1] \"fcc_astarr_macs\"\n",
      "\n"
     ]
    }
   ],
   "source": [
    "dat = dat_meta_region\n",
    "lst = split(dat$Folder, dat$Label)\n",
    "\n",
    "lst_region = lst\n",
    "print(lst)"
   ]
  },
  {
   "cell_type": "code",
   "execution_count": null,
   "id": "ca26fe29-a815-4178-8158-626ce292ea4b",
   "metadata": {},
   "outputs": [],
   "source": []
  },
  {
   "cell_type": "code",
   "execution_count": 57,
   "id": "9e5fa935-cfae-4116-97fd-459559585517",
   "metadata": {},
   "outputs": [
    {
     "name": "stdout",
     "output_type": "stream",
     "text": [
      "[1] \"atac_ENCFF333TAT\"              \"atac_ENCFF558BLC\"             \n",
      "[3] \"atac_ENCFF925CYR\"              \"atac_ENCFF948AFM\"             \n",
      "[5] \"dnase_ENCFF185XRG\"             \"dnase_ENCFF274YGF\"            \n",
      "[7] \"fcc_astarr_macs_input_overlap\" \"fcc_astarr_macs_input_union\"  \n"
     ]
    }
   ],
   "source": [
    "### get region folders\n",
    "txt_fdiry = file.path(FD_RES, \"region_coverage_fcc\")\n",
    "vec_txt_region = dir(txt_fdiry)\n",
    "print(vec_txt_region)"
   ]
  },
  {
   "cell_type": "code",
   "execution_count": 7,
   "id": "42a13d96-a2aa-4c6b-b92c-38d5070d7cb7",
   "metadata": {},
   "outputs": [
    {
     "name": "stdout",
     "output_type": "stream",
     "text": [
      "====================\n",
      "Region Folder: fcc_astarr_macs_input_union \n",
      "Assay  Folder: CRISPRi_FlowFISH_K562_Riley_JinWoo \n",
      "Import Files:\n",
      "[1] \"CRISPRi_HCRFF_K562.hg38.ZScore.filtered.unstranded.bed.gz\"\n",
      "[2] \"CRISPRi_HCRFF_K562.hg38.ZScore.unstranded.bed.gz\"         \n",
      "\n"
     ]
    },
    {
     "ename": "ERROR",
     "evalue": "Error in eval(expr, envir, enclos): object 'lst_region' not found\n",
     "output_type": "error",
     "traceback": [
      "Error in eval(expr, envir, enclos): object 'lst_region' not found\nTraceback:\n"
     ]
    }
   ],
   "source": [
    "vec_txt_region = \"fcc_astarr_macs_input_union\"\n",
    "\n",
    "for (txt_region in vec_txt_region){\n",
    "    for (txt_assay in vec_txt_assay){\n",
    "        ### init:\n",
    "        txt_fdiry     = file.path(FD_RES, \"region_coverage_fcc\", txt_region, txt_assay, \"overlap_score\")\n",
    "        vec_txt_fname = dir(txt_fdiry)\n",
    "        \n",
    "        ### show progress:\n",
    "        cat(\"====================\\n\")\n",
    "        cat(\"Region Folder:\", txt_region, \"\\n\")\n",
    "        cat(\"Assay  Folder:\", txt_assay,  \"\\n\")\n",
    "        cat(\"Import Files:\\n\")\n",
    "        print(vec_txt_fname)\n",
    "        cat(\"\\n\")\n",
    "\n",
    "        for (txt_fname_import in vec_txt_fname){\n",
    "            ### set directory for assay coverage description\n",
    "            txt_fdiry = file.path(FD_RES, \"assay_fcc\", txt_assay, \"coverage\", \"summary\")\n",
    "            txt_fname = \"description.tsv\"\n",
    "            txt_fpath = file.path(txt_fdiry, txt_fname)\n",
    "            \n",
    "            ### get assay description\n",
    "            dat_cname_assay = read_tsv(txt_fpath, show_col_types = FALSE)\n",
    "    \n",
    "            ### set directory for region description\n",
    "            txt_folder = lst_region[[txt_region]]\n",
    "            txt_fdiry  = file.path(FD_RES, \"region\", txt_folder, \"summary\")\n",
    "            txt_fname  = \"description.tsv\"\n",
    "            txt_fpath  = file.path(txt_fdiry, txt_fname)\n",
    "            \n",
    "            ### get region description\n",
    "            dat_cname_region = read_tsv(txt_fpath, show_col_types = FALSE)\n",
    "    \n",
    "            ### set column names/types\n",
    "            vec_txt_cname = c(\n",
    "                paste(dat_cname_region$Name, \"A\", sep = \"_\"), \n",
    "                paste(dat_cname_assay$Name,  \"B\", sep = \"_\"), \n",
    "                \"Overlap\"\n",
    "            )\n",
    "    \n",
    "            ### set directory for overlap\n",
    "            txt_folder = \"overlap_score\"\n",
    "            txt_fdiry  = file.path(FD_RES, \"region_coverage_fcc\", txt_region, txt_assay, txt_folder)\n",
    "            txt_fname  = txt_fname_import\n",
    "            txt_fpath  = file.path(txt_fdiry, txt_fname)\n",
    "    \n",
    "            ### get overlapping results\n",
    "            dat_overlap_import = read_tsv(txt_fpath, col_names = vec_txt_cname, show_col_types = FALSE)\n",
    "            \n",
    "            ###\n",
    "            dat = dat_overlap_import\n",
    "            dat = dat %>% \n",
    "                dplyr::mutate(\n",
    "                    Chrom      = Chrom_A,\n",
    "                    ChromStart = ChromStart_A,\n",
    "                    ChromEnd   = ChromEnd_A,\n",
    "                    Region     = fun_gen_region(Chrom_A, ChromStart_A, ChromEnd_A),\n",
    "                    Target     = Target_B,\n",
    "                    Score      = Score_B\n",
    "                )\n",
    "            dat_overlap_arrange = dat\n",
    "            \n",
    "            ###\n",
    "            dat = dat_overlap_arrange\n",
    "            dat = dat %>% \n",
    "                dplyr::group_by(Chrom, ChromStart, ChromEnd, Region) %>%\n",
    "                dplyr::summarise(\n",
    "                    Mean    = mean(Score),\n",
    "                    Median  = median(Score),\n",
    "                    AbsMax  = fun_get_absmax(Score),\n",
    "                    Max     = max(Score),\n",
    "                    Min     = min(Score),\n",
    "                    Count   = n(),\n",
    "                    .groups = \"drop\"\n",
    "                )\n",
    "            \n",
    "            ###\n",
    "            if (str_detect(txt_fname_import, \"filtered\")){\n",
    "                txt_fname = \"result.score.filtered.tsv\"\n",
    "            } else {\n",
    "                txt_fname = \"result.score.tsv\"\n",
    "            }\n",
    "            txt_folder = \"overlap_score\"\n",
    "            txt_fdiry  = file.path(FD_RES, \"region_coverage_fcc\", txt_region, txt_assay, txt_folder)\n",
    "            txt_fpath  = file.path(txt_fdiry, txt_fname)\n",
    "            print(txt_fpath)\n",
    "            \n",
    "            \n",
    "            \n",
    "\n",
    "                \n",
    "        }\n",
    "    }\n",
    "}"
   ]
  },
  {
   "cell_type": "markdown",
   "id": "01119f33-2dae-46a9-bf65-4e10e6f49452",
   "metadata": {},
   "source": [
    "## CRISPRi-HCRFF"
   ]
  },
  {
   "cell_type": "code",
   "execution_count": null,
   "id": "b145b10a-3c8e-45d1-a0d0-cd098cad44de",
   "metadata": {},
   "outputs": [],
   "source": [
    "vec_txt_region = \"fcc_astarr_macs_input_union\"\n",
    "\n",
    "for (txt_region in vec_txt_region){\n",
    "    for (txt_assay in vec_txt_assay){\n",
    "        ### init:\n",
    "        txt_fdiry     = file.path(FD_RES, \"region_coverage_fcc\", txt_region, txt_assay, \"overlap_score\")\n",
    "        vec_txt_fname = dir(txt_fdiry)\n",
    "        \n",
    "        ### show progress:\n",
    "        cat(\"====================\\n\")\n",
    "        cat(\"Region Folder:\", txt_region, \"\\n\")\n",
    "        cat(\"Assay  Folder:\", txt_assay,  \"\\n\")\n",
    "        cat(\"Import Files:\\n\")\n",
    "        print(vec_txt_fname)\n",
    "        cat(\"\\n\")\n",
    "\n",
    "        for (txt_fname_import in vec_txt_fname){\n",
    "            ### set directory for assay coverage description\n",
    "            txt_fdiry = file.path(FD_RES, \"assay_fcc\", txt_assay, \"coverage\", \"summary\")\n",
    "            txt_fname = \"description.tsv\"\n",
    "            txt_fpath = file.path(txt_fdiry, txt_fname)\n",
    "            \n",
    "            ### get assay description\n",
    "            dat_cname_assay = read_tsv(txt_fpath, show_col_types = FALSE)\n",
    "    \n",
    "            ### set directory for region description\n",
    "            txt_folder = lst_region[[txt_region]]\n",
    "            txt_fdiry  = file.path(FD_RES, \"region\", txt_folder, \"summary\")\n",
    "            txt_fname  = \"description.tsv\"\n",
    "            txt_fpath  = file.path(txt_fdiry, txt_fname)\n",
    "            \n",
    "            ### get region description\n",
    "            dat_cname_region = read_tsv(txt_fpath, show_col_types = FALSE)\n",
    "    \n",
    "            ### set column names/types\n",
    "            vec_txt_cname = c(\n",
    "                paste(dat_cname_region$Name, \"A\", sep = \"_\"), \n",
    "                paste(dat_cname_assay$Name,  \"B\", sep = \"_\"), \n",
    "                \"Overlap\"\n",
    "            )\n",
    "    \n",
    "            ### set directory for overlap\n",
    "            txt_folder = \"overlap_score\"\n",
    "            txt_fdiry  = file.path(FD_RES, \"region_coverage_fcc\", txt_region, txt_assay, txt_folder)\n",
    "            txt_fname  = txt_fname_import\n",
    "            txt_fpath  = file.path(txt_fdiry, txt_fname)\n",
    "    \n",
    "            ### get overlapping results\n",
    "            dat_overlap_import = read_tsv(txt_fpath, col_names = vec_txt_cname, show_col_types = FALSE)\n",
    "            \n",
    "            ###\n",
    "            dat = dat_overlap_import\n",
    "            dat = dat %>% \n",
    "                dplyr::mutate(\n",
    "                    Chrom      = Chrom_A,\n",
    "                    ChromStart = ChromStart_A,\n",
    "                    ChromEnd   = ChromEnd_A,\n",
    "                    Region     = fun_gen_region(Chrom_A, ChromStart_A, ChromEnd_A),\n",
    "                    Target     = Target_B,\n",
    "                    Score      = Score_B\n",
    "                )\n",
    "            dat_overlap_arrange = dat\n",
    "            \n",
    "            ###\n",
    "            dat = dat_overlap_arrange\n",
    "            dat = dat %>% \n",
    "                dplyr::group_by(Chrom, ChromStart, ChromEnd, Region) %>%\n",
    "                dplyr::summarise(\n",
    "                    Mean    = mean(Score),\n",
    "                    Median  = median(Score),\n",
    "                    AbsMax  = fun_get_absmax(Score),\n",
    "                    Max     = max(Score),\n",
    "                    Min     = min(Score),\n",
    "                    Count   = n(),\n",
    "                    .groups = \"drop\"\n",
    "                )\n",
    "            \n",
    "            ###\n",
    "            if (str_detect(txt_fname_import, \"filtered\")){\n",
    "                txt_fname = \"result.score.filtered.tsv\"\n",
    "            } else {\n",
    "                txt_fname = \"result.score.tsv\"\n",
    "            }\n",
    "            txt_folder = \"overlap_score\"\n",
    "            txt_fdiry  = file.path(FD_RES, \"region_coverage_fcc\", txt_region, txt_assay, txt_folder)\n",
    "            txt_fpath  = file.path(txt_fdiry, txt_fname)\n",
    "            print(txt_fpath)\n",
    "            \n",
    "            \n",
    "            \n",
    "\n",
    "                \n",
    "        }\n",
    "    }\n",
    "}"
   ]
  },
  {
   "cell_type": "code",
   "execution_count": null,
   "id": "85418668-4f79-406a-a24e-1a9528442d63",
   "metadata": {},
   "outputs": [],
   "source": [
    "###\n",
    "            dat = dat_overlap_arrange\n",
    "            dat = dat %>% \n",
    "                dplyr::group_by(Chrom, ChromStart, ChromEnd, Region, target) %>%\n",
    "                dplyr::summarise(\n",
    "                    Mean    = mean(Score),\n",
    "                    Median  = median(Score),\n",
    "                    AbsMax  = fun_get_absmax(Score),\n",
    "                    Max     = max(Score),\n",
    "                    Min     = min(Score),\n",
    "                    Count   = n(),\n",
    "                    .groups = \"drop\"\n",
    "                )\n",
    "            \n",
    "            if (str_detect(txt_fname_import, \"filtered\")){\n",
    "                txt_fname = \"result.score.by_target.filtered.tsv\"\n",
    "            } else {\n",
    "                txt_fname = \"result.score.by_target.tsv\"\n",
    "            }\n",
    "            txt_folder = \"overlap_score\"\n",
    "            txt_fdiry  = file.path(FD_RES, \"region_coverage_fcc\", txt_region, txt_assay, txt_folder)\n",
    "            txt_fpath  = file.path(txt_fdiry, txt_fname)\n",
    "            print(txt_fpath)"
   ]
  },
  {
   "cell_type": "code",
   "execution_count": null,
   "id": "bbcda276-57be-4abc-ac4c-030f31b0d9a1",
   "metadata": {},
   "outputs": [],
   "source": []
  },
  {
   "cell_type": "code",
   "execution_count": null,
   "id": "5c432d08-0c6c-4b9b-99f5-36ed480705a3",
   "metadata": {},
   "outputs": [],
   "source": []
  },
  {
   "cell_type": "code",
   "execution_count": null,
   "id": "375e39aa-62ee-439f-9cfb-6d1793508834",
   "metadata": {},
   "outputs": [],
   "source": []
  },
  {
   "cell_type": "code",
   "execution_count": null,
   "id": "7e673041-7cbf-489f-ac8f-b5099a661923",
   "metadata": {},
   "outputs": [],
   "source": []
  },
  {
   "cell_type": "code",
   "execution_count": 5,
   "id": "37b6cea4-8aa8-4f9b-a259-c62570102101",
   "metadata": {},
   "outputs": [
    {
     "ename": "ERROR",
     "evalue": "Error in eval(expr, envir, enclos): object 'vec_txt_assay' not found\n",
     "output_type": "error",
     "traceback": [
      "Error in eval(expr, envir, enclos): object 'vec_txt_assay' not found\nTraceback:\n"
     ]
    }
   ],
   "source": [
    "vec_txt_region = \"fcc_astarr_macs_input_union\"\n",
    "\n",
    "for (txt_region in vec_txt_region){\n",
    "    for (txt_assay in vec_txt_assay){\n",
    "        ### init:\n",
    "        txt_fdiry     = file.path(FD_RES, \"region_coverage_fcc\", txt_region, txt_assay, \"overlap_score\")\n",
    "        vec_txt_fname = dir(txt_fdiry)\n",
    "        \n",
    "        ### show progress:\n",
    "        cat(\"====================\\n\")\n",
    "        cat(\"Region Folder:\", txt_region, \"\\n\")\n",
    "        cat(\"Assay  Folder:\", txt_assay,  \"\\n\")\n",
    "        cat(\"Import Files:\\n\")\n",
    "        print(vec_txt_fname)\n",
    "        cat(\"\\n\")\n",
    "\n",
    "        for (txt_fname_import in vec_txt_fname){\n",
    "            ### set directory for assay coverage description\n",
    "            txt_fdiry = file.path(FD_RES, \"assay_fcc\", txt_assay, \"coverage\", \"summary\")\n",
    "            txt_fname = \"description.tsv\"\n",
    "            txt_fpath = file.path(txt_fdiry, txt_fname)\n",
    "            \n",
    "            ### get assay description\n",
    "            dat_cname_assay = read_tsv(txt_fpath, show_col_types = FALSE)\n",
    "    \n",
    "            ### set directory for region description\n",
    "            txt_folder = lst_region[[txt_region]]\n",
    "            txt_fdiry  = file.path(FD_RES, \"region\", txt_folder, \"summary\")\n",
    "            txt_fname  = \"description.tsv\"\n",
    "            txt_fpath  = file.path(txt_fdiry, txt_fname)\n",
    "            \n",
    "            ### get region description\n",
    "            dat_cname_region = read_tsv(txt_fpath, show_col_types = FALSE)\n",
    "    \n",
    "            ### set column names/types\n",
    "            vec_txt_cname = c(\n",
    "                paste(dat_cname_region$Name, \"A\", sep = \"_\"), \n",
    "                paste(dat_cname_assay$Name,  \"B\", sep = \"_\"), \n",
    "                \"Overlap\"\n",
    "            )\n",
    "    \n",
    "            ### set directory for overlap\n",
    "            txt_folder = \"overlap_score\"\n",
    "            txt_fdiry  = file.path(FD_RES, \"region_coverage_fcc\", txt_region, txt_assay, txt_folder)\n",
    "            txt_fname  = txt_fname_import\n",
    "            txt_fpath  = file.path(txt_fdiry, txt_fname)\n",
    "    \n",
    "            ### get overlapping results\n",
    "            dat_overlap_import = read_tsv(txt_fpath, col_names = vec_txt_cname, show_col_types = FALSE)\n",
    "            \n",
    "            ###\n",
    "            dat = dat_overlap_import\n",
    "            dat = dat %>% \n",
    "                dplyr::mutate(\n",
    "                    Chrom      = Chrom_A,\n",
    "                    ChromStart = ChromStart_A,\n",
    "                    ChromEnd   = ChromEnd_A,\n",
    "                    Region     = fun_gen_region(Chrom_A, ChromStart_A, ChromEnd_A),\n",
    "                    Target     = Target_B,\n",
    "                    Score      = Score_B\n",
    "                )\n",
    "            dat_overlap_arrange = dat\n",
    "            \n",
    "            ###\n",
    "            dat = dat_overlap_arrange\n",
    "            dat = dat %>% \n",
    "                dplyr::group_by(Chrom, ChromStart, ChromEnd, Region) %>%\n",
    "                dplyr::summarise(\n",
    "                    Mean    = mean(Score),\n",
    "                    Median  = median(Score),\n",
    "                    AbsMax  = fun_get_absmax(Score),\n",
    "                    Max     = max(Score),\n",
    "                    Min     = min(Score),\n",
    "                    Count   = n(),\n",
    "                    .groups = \"drop\"\n",
    "                )\n",
    "            \n",
    "            ###\n",
    "            if (str_detect(txt_fname_import, \"filtered\")){\n",
    "                txt_fname = \"result.score.filtered.tsv\"\n",
    "            } else {\n",
    "                txt_fname = \"result.score.tsv\"\n",
    "            }\n",
    "            txt_folder = \"overlap_score\"\n",
    "            txt_fdiry  = file.path(FD_RES, \"region_coverage_fcc\", txt_region, txt_assay, txt_folder)\n",
    "            txt_fpath  = file.path(txt_fdiry, txt_fname)\n",
    "            print(txt_fpath)\n",
    "            \n",
    "            ###\n",
    "            dat = dat_overlap_arrange\n",
    "            dat = dat %>% \n",
    "                dplyr::group_by(Chrom, ChromStart, ChromEnd, Region, target) %>%\n",
    "                dplyr::summarise(\n",
    "                    Mean    = mean(Score),\n",
    "                    Median  = median(Score),\n",
    "                    AbsMax  = fun_get_absmax(Score),\n",
    "                    Max     = max(Score),\n",
    "                    Min     = min(Score),\n",
    "                    Count   = n(),\n",
    "                    .groups = \"drop\"\n",
    "                )\n",
    "            \n",
    "            if (str_detect(txt_fname_import, \"filtered\")){\n",
    "                txt_fname = \"result.score.by_target.filtered.tsv\"\n",
    "            } else {\n",
    "                txt_fname = \"result.score.by_target.tsv\"\n",
    "            }\n",
    "            txt_folder = \"overlap_score\"\n",
    "            txt_fdiry  = file.path(FD_RES, \"region_coverage_fcc\", txt_region, txt_assay, txt_folder)\n",
    "            txt_fpath  = file.path(txt_fdiry, txt_fname)\n",
    "            print(txt_fpath)\n",
    "            \n",
    "\n",
    "                \n",
    "        }\n",
    "    }\n",
    "}"
   ]
  },
  {
   "cell_type": "code",
   "execution_count": null,
   "id": "997d0958-c574-467e-b64e-7fad89c2219d",
   "metadata": {},
   "outputs": [],
   "source": []
  },
  {
   "cell_type": "code",
   "execution_count": null,
   "id": "d82d3f62-02c3-429d-9ca2-271dac01ac4c",
   "metadata": {},
   "outputs": [],
   "source": []
  },
  {
   "cell_type": "code",
   "execution_count": 14,
   "id": "9980d094-54c2-47bf-808b-9fd1748963b6",
   "metadata": {},
   "outputs": [
    {
     "name": "stdout",
     "output_type": "stream",
     "text": [
      "CRISPRi_HCRFF_K562.hg38.ZScore.filtered.unstranded.bed.gz \n",
      "CRISPRi_HCRFF_K562.hg38.ZScore.unstranded.bed.gz \n"
     ]
    }
   ],
   "source": [
    "txt_region = \"fcc_astarr_macs_input_union\"\n",
    "txt_assay  = \"CRISPRi_FlowFISH_K562_Riley_JinWoo\"\n",
    "txt_fdiry  = file.path(FD_RES, \"region_coverage_fcc\", txt_region, txt_assay, \"overlap_score\")\n",
    "vec = dir(txt_fdiry)\n",
    "for (txt in vec) {cat(txt, \"\\n\")}"
   ]
  },
  {
   "cell_type": "code",
   "execution_count": 21,
   "id": "0eafc332-3110-4abb-8370-17046bc9efa5",
   "metadata": {},
   "outputs": [
    {
     "data": {
      "text/html": [
       "<table>\n",
       " <thead>\n",
       "  <tr>\n",
       "   <th style=\"text-align:left;\"> Name </th>\n",
       "   <th style=\"text-align:left;\"> Note </th>\n",
       "  </tr>\n",
       " </thead>\n",
       "<tbody>\n",
       "  <tr>\n",
       "   <td style=\"text-align:left;\"> Chrom </td>\n",
       "   <td style=\"text-align:left;\"> Name of the chromosome </td>\n",
       "  </tr>\n",
       "  <tr>\n",
       "   <td style=\"text-align:left;\"> ChromStart </td>\n",
       "   <td style=\"text-align:left;\"> The starting position of the feature in the chromosome </td>\n",
       "  </tr>\n",
       "  <tr>\n",
       "   <td style=\"text-align:left;\"> ChromEnd </td>\n",
       "   <td style=\"text-align:left;\"> The ending position of the feature in the chromosome </td>\n",
       "  </tr>\n",
       "  <tr>\n",
       "   <td style=\"text-align:left;\"> Name </td>\n",
       "   <td style=\"text-align:left;\"> Name given to a region; Use '.' if no name is assigned. </td>\n",
       "  </tr>\n",
       "  <tr>\n",
       "   <td style=\"text-align:left;\"> Score </td>\n",
       "   <td style=\"text-align:left;\"> Indicates how dark the peak will be displayed in the browser (0-1000). </td>\n",
       "  </tr>\n",
       "  <tr>\n",
       "   <td style=\"text-align:left;\"> Strand </td>\n",
       "   <td style=\"text-align:left;\"> +/- to denote strand or orientation. Use '.' if no orientation is assigned. </td>\n",
       "  </tr>\n",
       "  <tr>\n",
       "   <td style=\"text-align:left;\"> Target </td>\n",
       "   <td style=\"text-align:left;\"> Targeted gene </td>\n",
       "  </tr>\n",
       "</tbody>\n",
       "</table>"
      ]
     },
     "metadata": {},
     "output_type": "display_data"
    }
   ],
   "source": [
    "### set directory for assay coverage description\n",
    "txt_fdiry = file.path(FD_RES, \"assay_fcc\", txt_assay, \"coverage\", \"summary\")\n",
    "txt_fname = \"description.tsv\"\n",
    "txt_fpath = file.path(txt_fdiry, txt_fname)\n",
    "\n",
    "### get region description and set column names/types\n",
    "dat = read_tsv(txt_fpath, show_col_types = FALSE)\n",
    "\n",
    "### assign and show\n",
    "dat_cname_assay = dat\n",
    "fun_display_table(dat)"
   ]
  },
  {
   "cell_type": "code",
   "execution_count": 22,
   "id": "2a63b081-d6ae-4b14-a3bb-3f76ccab05f4",
   "metadata": {},
   "outputs": [
    {
     "data": {
      "text/html": [
       "<table>\n",
       " <thead>\n",
       "  <tr>\n",
       "   <th style=\"text-align:left;\"> Name </th>\n",
       "   <th style=\"text-align:left;\"> Note </th>\n",
       "  </tr>\n",
       " </thead>\n",
       "<tbody>\n",
       "  <tr>\n",
       "   <td style=\"text-align:left;\"> Chrom </td>\n",
       "   <td style=\"text-align:left;\"> Name of the chromosome </td>\n",
       "  </tr>\n",
       "  <tr>\n",
       "   <td style=\"text-align:left;\"> ChromStart </td>\n",
       "   <td style=\"text-align:left;\"> The starting position of the feature in the chromosome </td>\n",
       "  </tr>\n",
       "  <tr>\n",
       "   <td style=\"text-align:left;\"> ChromEnd </td>\n",
       "   <td style=\"text-align:left;\"> The ending position of the feature in the chromosome </td>\n",
       "  </tr>\n",
       "</tbody>\n",
       "</table>"
      ]
     },
     "metadata": {},
     "output_type": "display_data"
    }
   ],
   "source": [
    "### set directory for region description\n",
    "txt_folder = lst_region[[txt_region]]\n",
    "txt_fdiry = file.path(FD_RES, \"region\", txt_folder, \"summary\")\n",
    "txt_fname = \"description.tsv\"\n",
    "txt_fpath = file.path(txt_fdiry, txt_fname)\n",
    "\n",
    "### get region description and set column names/types\n",
    "dat = read_tsv(txt_fpath, show_col_types = FALSE)\n",
    "\n",
    "### assign and show\n",
    "dat_cname_region = dat\n",
    "fun_display_table(dat)"
   ]
  },
  {
   "cell_type": "code",
   "execution_count": 27,
   "id": "e096919e-7b40-490a-a006-150d247a7136",
   "metadata": {},
   "outputs": [
    {
     "data": {
      "text/html": [
       "<style>\n",
       ".list-inline {list-style: none; margin:0; padding: 0}\n",
       ".list-inline>li {display: inline-block}\n",
       ".list-inline>li:not(:last-child)::after {content: \"\\00b7\"; padding: 0 .5ex}\n",
       "</style>\n",
       "<ol class=list-inline><li>'Chrom_A'</li><li>'ChromStart_A'</li><li>'ChromEnd_A'</li><li>'Chrom_B'</li><li>'ChromStart_B'</li><li>'ChromEnd_B'</li><li>'Name_B'</li><li>'Score_B'</li><li>'Strand_B'</li><li>'Target_B'</li><li>'Overlap'</li></ol>\n"
      ],
      "text/latex": [
       "\\begin{enumerate*}\n",
       "\\item 'Chrom\\_A'\n",
       "\\item 'ChromStart\\_A'\n",
       "\\item 'ChromEnd\\_A'\n",
       "\\item 'Chrom\\_B'\n",
       "\\item 'ChromStart\\_B'\n",
       "\\item 'ChromEnd\\_B'\n",
       "\\item 'Name\\_B'\n",
       "\\item 'Score\\_B'\n",
       "\\item 'Strand\\_B'\n",
       "\\item 'Target\\_B'\n",
       "\\item 'Overlap'\n",
       "\\end{enumerate*}\n"
      ],
      "text/markdown": [
       "1. 'Chrom_A'\n",
       "2. 'ChromStart_A'\n",
       "3. 'ChromEnd_A'\n",
       "4. 'Chrom_B'\n",
       "5. 'ChromStart_B'\n",
       "6. 'ChromEnd_B'\n",
       "7. 'Name_B'\n",
       "8. 'Score_B'\n",
       "9. 'Strand_B'\n",
       "10. 'Target_B'\n",
       "11. 'Overlap'\n",
       "\n",
       "\n"
      ],
      "text/plain": [
       " [1] \"Chrom_A\"      \"ChromStart_A\" \"ChromEnd_A\"   \"Chrom_B\"      \"ChromStart_B\"\n",
       " [6] \"ChromEnd_B\"   \"Name_B\"       \"Score_B\"      \"Strand_B\"     \"Target_B\"    \n",
       "[11] \"Overlap\"     "
      ]
     },
     "metadata": {},
     "output_type": "display_data"
    }
   ],
   "source": [
    "vec_txt_cname = c(\n",
    "    paste(dat_cname_region$Name, \"A\", sep = \"_\"), \n",
    "    paste(dat_cname_assay$Name,  \"B\", sep = \"_\"), \n",
    "    \"Overlap\"\n",
    ")\n",
    "vec_txt_cname"
   ]
  },
  {
   "cell_type": "code",
   "execution_count": 31,
   "id": "dc83da82-d6e4-4b2c-a2de-321044bd744a",
   "metadata": {},
   "outputs": [
    {
     "data": {
      "text/html": [
       "<table class=\"dataframe\">\n",
       "<caption>A tibble: 6 × 11</caption>\n",
       "<thead>\n",
       "\t<tr><th scope=col>Chrom_A</th><th scope=col>ChromStart_A</th><th scope=col>ChromEnd_A</th><th scope=col>Chrom_B</th><th scope=col>ChromStart_B</th><th scope=col>ChromEnd_B</th><th scope=col>Name_B</th><th scope=col>Score_B</th><th scope=col>Strand_B</th><th scope=col>Target_B</th><th scope=col>Overlap</th></tr>\n",
       "\t<tr><th scope=col>&lt;chr&gt;</th><th scope=col>&lt;dbl&gt;</th><th scope=col>&lt;dbl&gt;</th><th scope=col>&lt;chr&gt;</th><th scope=col>&lt;dbl&gt;</th><th scope=col>&lt;dbl&gt;</th><th scope=col>&lt;chr&gt;</th><th scope=col>&lt;dbl&gt;</th><th scope=col>&lt;chr&gt;</th><th scope=col>&lt;chr&gt;</th><th scope=col>&lt;dbl&gt;</th></tr>\n",
       "</thead>\n",
       "<tbody>\n",
       "\t<tr><td>chr11</td><td>4092104</td><td>4092566</td><td>chr11</td><td>4092122</td><td>4092123</td><td>id-145</td><td>-1.101030</td><td>.</td><td>HBE1 </td><td>1</td></tr>\n",
       "\t<tr><td>chr11</td><td>4092104</td><td>4092566</td><td>chr11</td><td>4092122</td><td>4092123</td><td>id-145</td><td>-0.015199</td><td>.</td><td>HBG1 </td><td>1</td></tr>\n",
       "\t<tr><td>chr11</td><td>4092104</td><td>4092566</td><td>chr11</td><td>4092122</td><td>4092123</td><td>id-145</td><td> 0.304337</td><td>.</td><td>HBG2 </td><td>1</td></tr>\n",
       "\t<tr><td>chr11</td><td>4092104</td><td>4092566</td><td>chr11</td><td>4092122</td><td>4092123</td><td>id-145</td><td>-0.675545</td><td>.</td><td>HBS1L</td><td>1</td></tr>\n",
       "\t<tr><td>chr11</td><td>4092104</td><td>4092566</td><td>chr11</td><td>4092122</td><td>4092123</td><td>id-145</td><td> 0.134939</td><td>.</td><td>MYB  </td><td>1</td></tr>\n",
       "\t<tr><td>chr11</td><td>4092104</td><td>4092566</td><td>chr11</td><td>4092123</td><td>4092124</td><td>id-146</td><td>-0.061961</td><td>.</td><td>HBE1 </td><td>1</td></tr>\n",
       "</tbody>\n",
       "</table>\n"
      ],
      "text/latex": [
       "A tibble: 6 × 11\n",
       "\\begin{tabular}{lllllllllll}\n",
       " Chrom\\_A & ChromStart\\_A & ChromEnd\\_A & Chrom\\_B & ChromStart\\_B & ChromEnd\\_B & Name\\_B & Score\\_B & Strand\\_B & Target\\_B & Overlap\\\\\n",
       " <chr> & <dbl> & <dbl> & <chr> & <dbl> & <dbl> & <chr> & <dbl> & <chr> & <chr> & <dbl>\\\\\n",
       "\\hline\n",
       "\t chr11 & 4092104 & 4092566 & chr11 & 4092122 & 4092123 & id-145 & -1.101030 & . & HBE1  & 1\\\\\n",
       "\t chr11 & 4092104 & 4092566 & chr11 & 4092122 & 4092123 & id-145 & -0.015199 & . & HBG1  & 1\\\\\n",
       "\t chr11 & 4092104 & 4092566 & chr11 & 4092122 & 4092123 & id-145 &  0.304337 & . & HBG2  & 1\\\\\n",
       "\t chr11 & 4092104 & 4092566 & chr11 & 4092122 & 4092123 & id-145 & -0.675545 & . & HBS1L & 1\\\\\n",
       "\t chr11 & 4092104 & 4092566 & chr11 & 4092122 & 4092123 & id-145 &  0.134939 & . & MYB   & 1\\\\\n",
       "\t chr11 & 4092104 & 4092566 & chr11 & 4092123 & 4092124 & id-146 & -0.061961 & . & HBE1  & 1\\\\\n",
       "\\end{tabular}\n"
      ],
      "text/markdown": [
       "\n",
       "A tibble: 6 × 11\n",
       "\n",
       "| Chrom_A &lt;chr&gt; | ChromStart_A &lt;dbl&gt; | ChromEnd_A &lt;dbl&gt; | Chrom_B &lt;chr&gt; | ChromStart_B &lt;dbl&gt; | ChromEnd_B &lt;dbl&gt; | Name_B &lt;chr&gt; | Score_B &lt;dbl&gt; | Strand_B &lt;chr&gt; | Target_B &lt;chr&gt; | Overlap &lt;dbl&gt; |\n",
       "|---|---|---|---|---|---|---|---|---|---|---|\n",
       "| chr11 | 4092104 | 4092566 | chr11 | 4092122 | 4092123 | id-145 | -1.101030 | . | HBE1  | 1 |\n",
       "| chr11 | 4092104 | 4092566 | chr11 | 4092122 | 4092123 | id-145 | -0.015199 | . | HBG1  | 1 |\n",
       "| chr11 | 4092104 | 4092566 | chr11 | 4092122 | 4092123 | id-145 |  0.304337 | . | HBG2  | 1 |\n",
       "| chr11 | 4092104 | 4092566 | chr11 | 4092122 | 4092123 | id-145 | -0.675545 | . | HBS1L | 1 |\n",
       "| chr11 | 4092104 | 4092566 | chr11 | 4092122 | 4092123 | id-145 |  0.134939 | . | MYB   | 1 |\n",
       "| chr11 | 4092104 | 4092566 | chr11 | 4092123 | 4092124 | id-146 | -0.061961 | . | HBE1  | 1 |\n",
       "\n"
      ],
      "text/plain": [
       "  Chrom_A ChromStart_A ChromEnd_A Chrom_B ChromStart_B ChromEnd_B Name_B\n",
       "1 chr11   4092104      4092566    chr11   4092122      4092123    id-145\n",
       "2 chr11   4092104      4092566    chr11   4092122      4092123    id-145\n",
       "3 chr11   4092104      4092566    chr11   4092122      4092123    id-145\n",
       "4 chr11   4092104      4092566    chr11   4092122      4092123    id-145\n",
       "5 chr11   4092104      4092566    chr11   4092122      4092123    id-145\n",
       "6 chr11   4092104      4092566    chr11   4092123      4092124    id-146\n",
       "  Score_B   Strand_B Target_B Overlap\n",
       "1 -1.101030 .        HBE1     1      \n",
       "2 -0.015199 .        HBG1     1      \n",
       "3  0.304337 .        HBG2     1      \n",
       "4 -0.675545 .        HBS1L    1      \n",
       "5  0.134939 .        MYB      1      \n",
       "6 -0.061961 .        HBE1     1      "
      ]
     },
     "metadata": {},
     "output_type": "display_data"
    }
   ],
   "source": [
    "### set directory for overlap\n",
    "txt_folder = \"overlap_score\"\n",
    "txt_fdiry  = file.path(FD_RES, \"region_coverage_fcc\", txt_region, txt_assay, txt_folder)\n",
    "txt_fname  = \"CRISPRi_HCRFF_K562.hg38.ZScore.filtered.unstranded.bed.gz\"\n",
    "txt_fpath  = file.path(txt_fdiry, txt_fname)\n",
    "\n",
    "dat = read_tsv(txt_fpath, col_names = vec_txt_cname, show_col_types = FALSE)\n",
    "\n",
    "### assign and show\n",
    "dat_overlap_import = dat\n",
    "head(dat)"
   ]
  },
  {
   "cell_type": "code",
   "execution_count": 32,
   "id": "1192e2a4-5ed3-41ee-9354-9c95ae2747d5",
   "metadata": {},
   "outputs": [
    {
     "data": {
      "text/html": [
       "<pre class=language-r><code>function (txt_chrom, num_chrom_start, num_chrom_end) \n",
       "{\n",
       "<span style=white-space:pre-wrap>    txt_chrom_start = format(num_chrom_start, scientific = FALSE)</span>\n",
       "<span style=white-space:pre-wrap>    txt_chrom_end = format(num_chrom_end, scientific = FALSE)</span>\n",
       "<span style=white-space:pre-wrap>    txt_region = paste0(txt_chrom, \":\", txt_chrom_start, \"-\", </span>\n",
       "<span style=white-space:pre-wrap>        txt_chrom_end)</span>\n",
       "<span style=white-space:pre-wrap>    txt_region = stringr::str_remove_all(txt_region, \" \")</span>\n",
       "<span style=white-space:pre-wrap>    return(txt_region)</span>\n",
       "}</code></pre>"
      ],
      "text/latex": [
       "\\begin{minted}{r}\n",
       "function (txt\\_chrom, num\\_chrom\\_start, num\\_chrom\\_end) \n",
       "\\{\n",
       "    txt\\_chrom\\_start = format(num\\_chrom\\_start, scientific = FALSE)\n",
       "    txt\\_chrom\\_end = format(num\\_chrom\\_end, scientific = FALSE)\n",
       "    txt\\_region = paste0(txt\\_chrom, \":\", txt\\_chrom\\_start, \"-\", \n",
       "        txt\\_chrom\\_end)\n",
       "    txt\\_region = stringr::str\\_remove\\_all(txt\\_region, \" \")\n",
       "    return(txt\\_region)\n",
       "\\}\n",
       "\\end{minted}"
      ],
      "text/markdown": [
       "```r\n",
       "function (txt_chrom, num_chrom_start, num_chrom_end) \n",
       "{\n",
       "    txt_chrom_start = format(num_chrom_start, scientific = FALSE)\n",
       "    txt_chrom_end = format(num_chrom_end, scientific = FALSE)\n",
       "    txt_region = paste0(txt_chrom, \":\", txt_chrom_start, \"-\", \n",
       "        txt_chrom_end)\n",
       "    txt_region = stringr::str_remove_all(txt_region, \" \")\n",
       "    return(txt_region)\n",
       "}\n",
       "```"
      ],
      "text/plain": [
       "function (txt_chrom, num_chrom_start, num_chrom_end) \n",
       "{\n",
       "    txt_chrom_start = format(num_chrom_start, scientific = FALSE)\n",
       "    txt_chrom_end = format(num_chrom_end, scientific = FALSE)\n",
       "    txt_region = paste0(txt_chrom, \":\", txt_chrom_start, \"-\", \n",
       "        txt_chrom_end)\n",
       "    txt_region = stringr::str_remove_all(txt_region, \" \")\n",
       "    return(txt_region)\n",
       "}"
      ]
     },
     "metadata": {},
     "output_type": "display_data"
    }
   ],
   "source": [
    "fun_gen_region"
   ]
  },
  {
   "cell_type": "code",
   "execution_count": 38,
   "id": "272e09a9-07fa-4ffb-8a56-54c0ae21e7f3",
   "metadata": {},
   "outputs": [],
   "source": [
    "fun_get_absmax = function(x){ x[which.max(abs(x))] }"
   ]
  },
  {
   "cell_type": "code",
   "execution_count": 52,
   "id": "4ccdd426-5ce3-442d-bf58-0af249440057",
   "metadata": {},
   "outputs": [
    {
     "data": {
      "text/html": [
       "<table class=\"dataframe\">\n",
       "<caption>A tibble: 6 × 17</caption>\n",
       "<thead>\n",
       "\t<tr><th scope=col>Chrom_A</th><th scope=col>ChromStart_A</th><th scope=col>ChromEnd_A</th><th scope=col>Chrom_B</th><th scope=col>ChromStart_B</th><th scope=col>ChromEnd_B</th><th scope=col>Name_B</th><th scope=col>Score_B</th><th scope=col>Strand_B</th><th scope=col>Target_B</th><th scope=col>Overlap</th><th scope=col>Chrom</th><th scope=col>ChromStart</th><th scope=col>ChromEnd</th><th scope=col>Region</th><th scope=col>Target</th><th scope=col>Score</th></tr>\n",
       "\t<tr><th scope=col>&lt;chr&gt;</th><th scope=col>&lt;dbl&gt;</th><th scope=col>&lt;dbl&gt;</th><th scope=col>&lt;chr&gt;</th><th scope=col>&lt;dbl&gt;</th><th scope=col>&lt;dbl&gt;</th><th scope=col>&lt;chr&gt;</th><th scope=col>&lt;dbl&gt;</th><th scope=col>&lt;chr&gt;</th><th scope=col>&lt;chr&gt;</th><th scope=col>&lt;dbl&gt;</th><th scope=col>&lt;chr&gt;</th><th scope=col>&lt;dbl&gt;</th><th scope=col>&lt;dbl&gt;</th><th scope=col>&lt;chr&gt;</th><th scope=col>&lt;chr&gt;</th><th scope=col>&lt;dbl&gt;</th></tr>\n",
       "</thead>\n",
       "<tbody>\n",
       "\t<tr><td>chr11</td><td>4092104</td><td>4092566</td><td>chr11</td><td>4092122</td><td>4092123</td><td>id-145</td><td>-1.101030</td><td>.</td><td>HBE1 </td><td>1</td><td>chr11</td><td>4092104</td><td>4092566</td><td>chr11:4092104-4092566</td><td>HBE1 </td><td>-1.101030</td></tr>\n",
       "\t<tr><td>chr11</td><td>4092104</td><td>4092566</td><td>chr11</td><td>4092122</td><td>4092123</td><td>id-145</td><td>-0.015199</td><td>.</td><td>HBG1 </td><td>1</td><td>chr11</td><td>4092104</td><td>4092566</td><td>chr11:4092104-4092566</td><td>HBG1 </td><td>-0.015199</td></tr>\n",
       "\t<tr><td>chr11</td><td>4092104</td><td>4092566</td><td>chr11</td><td>4092122</td><td>4092123</td><td>id-145</td><td> 0.304337</td><td>.</td><td>HBG2 </td><td>1</td><td>chr11</td><td>4092104</td><td>4092566</td><td>chr11:4092104-4092566</td><td>HBG2 </td><td> 0.304337</td></tr>\n",
       "\t<tr><td>chr11</td><td>4092104</td><td>4092566</td><td>chr11</td><td>4092122</td><td>4092123</td><td>id-145</td><td>-0.675545</td><td>.</td><td>HBS1L</td><td>1</td><td>chr11</td><td>4092104</td><td>4092566</td><td>chr11:4092104-4092566</td><td>HBS1L</td><td>-0.675545</td></tr>\n",
       "\t<tr><td>chr11</td><td>4092104</td><td>4092566</td><td>chr11</td><td>4092122</td><td>4092123</td><td>id-145</td><td> 0.134939</td><td>.</td><td>MYB  </td><td>1</td><td>chr11</td><td>4092104</td><td>4092566</td><td>chr11:4092104-4092566</td><td>MYB  </td><td> 0.134939</td></tr>\n",
       "\t<tr><td>chr11</td><td>4092104</td><td>4092566</td><td>chr11</td><td>4092123</td><td>4092124</td><td>id-146</td><td>-0.061961</td><td>.</td><td>HBE1 </td><td>1</td><td>chr11</td><td>4092104</td><td>4092566</td><td>chr11:4092104-4092566</td><td>HBE1 </td><td>-0.061961</td></tr>\n",
       "</tbody>\n",
       "</table>\n"
      ],
      "text/latex": [
       "A tibble: 6 × 17\n",
       "\\begin{tabular}{lllllllllllllllll}\n",
       " Chrom\\_A & ChromStart\\_A & ChromEnd\\_A & Chrom\\_B & ChromStart\\_B & ChromEnd\\_B & Name\\_B & Score\\_B & Strand\\_B & Target\\_B & Overlap & Chrom & ChromStart & ChromEnd & Region & Target & Score\\\\\n",
       " <chr> & <dbl> & <dbl> & <chr> & <dbl> & <dbl> & <chr> & <dbl> & <chr> & <chr> & <dbl> & <chr> & <dbl> & <dbl> & <chr> & <chr> & <dbl>\\\\\n",
       "\\hline\n",
       "\t chr11 & 4092104 & 4092566 & chr11 & 4092122 & 4092123 & id-145 & -1.101030 & . & HBE1  & 1 & chr11 & 4092104 & 4092566 & chr11:4092104-4092566 & HBE1  & -1.101030\\\\\n",
       "\t chr11 & 4092104 & 4092566 & chr11 & 4092122 & 4092123 & id-145 & -0.015199 & . & HBG1  & 1 & chr11 & 4092104 & 4092566 & chr11:4092104-4092566 & HBG1  & -0.015199\\\\\n",
       "\t chr11 & 4092104 & 4092566 & chr11 & 4092122 & 4092123 & id-145 &  0.304337 & . & HBG2  & 1 & chr11 & 4092104 & 4092566 & chr11:4092104-4092566 & HBG2  &  0.304337\\\\\n",
       "\t chr11 & 4092104 & 4092566 & chr11 & 4092122 & 4092123 & id-145 & -0.675545 & . & HBS1L & 1 & chr11 & 4092104 & 4092566 & chr11:4092104-4092566 & HBS1L & -0.675545\\\\\n",
       "\t chr11 & 4092104 & 4092566 & chr11 & 4092122 & 4092123 & id-145 &  0.134939 & . & MYB   & 1 & chr11 & 4092104 & 4092566 & chr11:4092104-4092566 & MYB   &  0.134939\\\\\n",
       "\t chr11 & 4092104 & 4092566 & chr11 & 4092123 & 4092124 & id-146 & -0.061961 & . & HBE1  & 1 & chr11 & 4092104 & 4092566 & chr11:4092104-4092566 & HBE1  & -0.061961\\\\\n",
       "\\end{tabular}\n"
      ],
      "text/markdown": [
       "\n",
       "A tibble: 6 × 17\n",
       "\n",
       "| Chrom_A &lt;chr&gt; | ChromStart_A &lt;dbl&gt; | ChromEnd_A &lt;dbl&gt; | Chrom_B &lt;chr&gt; | ChromStart_B &lt;dbl&gt; | ChromEnd_B &lt;dbl&gt; | Name_B &lt;chr&gt; | Score_B &lt;dbl&gt; | Strand_B &lt;chr&gt; | Target_B &lt;chr&gt; | Overlap &lt;dbl&gt; | Chrom &lt;chr&gt; | ChromStart &lt;dbl&gt; | ChromEnd &lt;dbl&gt; | Region &lt;chr&gt; | Target &lt;chr&gt; | Score &lt;dbl&gt; |\n",
       "|---|---|---|---|---|---|---|---|---|---|---|---|---|---|---|---|---|\n",
       "| chr11 | 4092104 | 4092566 | chr11 | 4092122 | 4092123 | id-145 | -1.101030 | . | HBE1  | 1 | chr11 | 4092104 | 4092566 | chr11:4092104-4092566 | HBE1  | -1.101030 |\n",
       "| chr11 | 4092104 | 4092566 | chr11 | 4092122 | 4092123 | id-145 | -0.015199 | . | HBG1  | 1 | chr11 | 4092104 | 4092566 | chr11:4092104-4092566 | HBG1  | -0.015199 |\n",
       "| chr11 | 4092104 | 4092566 | chr11 | 4092122 | 4092123 | id-145 |  0.304337 | . | HBG2  | 1 | chr11 | 4092104 | 4092566 | chr11:4092104-4092566 | HBG2  |  0.304337 |\n",
       "| chr11 | 4092104 | 4092566 | chr11 | 4092122 | 4092123 | id-145 | -0.675545 | . | HBS1L | 1 | chr11 | 4092104 | 4092566 | chr11:4092104-4092566 | HBS1L | -0.675545 |\n",
       "| chr11 | 4092104 | 4092566 | chr11 | 4092122 | 4092123 | id-145 |  0.134939 | . | MYB   | 1 | chr11 | 4092104 | 4092566 | chr11:4092104-4092566 | MYB   |  0.134939 |\n",
       "| chr11 | 4092104 | 4092566 | chr11 | 4092123 | 4092124 | id-146 | -0.061961 | . | HBE1  | 1 | chr11 | 4092104 | 4092566 | chr11:4092104-4092566 | HBE1  | -0.061961 |\n",
       "\n"
      ],
      "text/plain": [
       "  Chrom_A ChromStart_A ChromEnd_A Chrom_B ChromStart_B ChromEnd_B Name_B\n",
       "1 chr11   4092104      4092566    chr11   4092122      4092123    id-145\n",
       "2 chr11   4092104      4092566    chr11   4092122      4092123    id-145\n",
       "3 chr11   4092104      4092566    chr11   4092122      4092123    id-145\n",
       "4 chr11   4092104      4092566    chr11   4092122      4092123    id-145\n",
       "5 chr11   4092104      4092566    chr11   4092122      4092123    id-145\n",
       "6 chr11   4092104      4092566    chr11   4092123      4092124    id-146\n",
       "  Score_B   Strand_B Target_B Overlap Chrom ChromStart ChromEnd\n",
       "1 -1.101030 .        HBE1     1       chr11 4092104    4092566 \n",
       "2 -0.015199 .        HBG1     1       chr11 4092104    4092566 \n",
       "3  0.304337 .        HBG2     1       chr11 4092104    4092566 \n",
       "4 -0.675545 .        HBS1L    1       chr11 4092104    4092566 \n",
       "5  0.134939 .        MYB      1       chr11 4092104    4092566 \n",
       "6 -0.061961 .        HBE1     1       chr11 4092104    4092566 \n",
       "  Region                Target Score    \n",
       "1 chr11:4092104-4092566 HBE1   -1.101030\n",
       "2 chr11:4092104-4092566 HBG1   -0.015199\n",
       "3 chr11:4092104-4092566 HBG2    0.304337\n",
       "4 chr11:4092104-4092566 HBS1L  -0.675545\n",
       "5 chr11:4092104-4092566 MYB     0.134939\n",
       "6 chr11:4092104-4092566 HBE1   -0.061961"
      ]
     },
     "metadata": {},
     "output_type": "display_data"
    }
   ],
   "source": [
    "dat = dat_overlap_import\n",
    "dat = dat %>% \n",
    "    dplyr::mutate(\n",
    "        Chrom      = Chrom_A,\n",
    "        ChromStart = ChromStart_A,\n",
    "        ChromEnd   = ChromEnd_A,\n",
    "        Region     = fun_gen_region(Chrom_A, ChromStart_A, ChromEnd_A),\n",
    "        Target     = Target_B,\n",
    "        Score      = Score_B\n",
    "    )\n",
    "dat_overlap_arrange = dat\n",
    "head(dat)"
   ]
  },
  {
   "cell_type": "code",
   "execution_count": 53,
   "id": "8527ac04-ade6-4ebe-a760-a94f346cab04",
   "metadata": {},
   "outputs": [
    {
     "data": {
      "text/html": [
       "<table class=\"dataframe\">\n",
       "<caption>A tibble: 6 × 10</caption>\n",
       "<thead>\n",
       "\t<tr><th scope=col>Chrom</th><th scope=col>ChromStart</th><th scope=col>ChromEnd</th><th scope=col>Region</th><th scope=col>Mean</th><th scope=col>Median</th><th scope=col>AbsMax</th><th scope=col>Max</th><th scope=col>Min</th><th scope=col>Count</th></tr>\n",
       "\t<tr><th scope=col>&lt;chr&gt;</th><th scope=col>&lt;dbl&gt;</th><th scope=col>&lt;dbl&gt;</th><th scope=col>&lt;chr&gt;</th><th scope=col>&lt;dbl&gt;</th><th scope=col>&lt;dbl&gt;</th><th scope=col>&lt;dbl&gt;</th><th scope=col>&lt;dbl&gt;</th><th scope=col>&lt;dbl&gt;</th><th scope=col>&lt;int&gt;</th></tr>\n",
       "</thead>\n",
       "<tbody>\n",
       "\t<tr><td>chr11</td><td>4092104</td><td>4092566</td><td>chr11:4092104-4092566</td><td>-0.13403994</td><td>-0.1597090</td><td>-2.05570</td><td>1.47841</td><td>-2.05570</td><td> 325</td></tr>\n",
       "\t<tr><td>chr11</td><td>4094204</td><td>4095676</td><td>chr11:4094204-4095676</td><td>-0.04821938</td><td>-0.0473140</td><td>-3.02950</td><td>2.38441</td><td>-3.02950</td><td>1330</td></tr>\n",
       "\t<tr><td>chr11</td><td>4144511</td><td>4147030</td><td>chr11:4144511-4147030</td><td>-0.07024901</td><td>-0.0666760</td><td>-2.83058</td><td>2.67552</td><td>-2.83058</td><td>1185</td></tr>\n",
       "\t<tr><td>chr11</td><td>4167268</td><td>4168022</td><td>chr11:4167268-4168022</td><td>-0.09706626</td><td>-0.0376275</td><td>-2.54257</td><td>1.49502</td><td>-2.54257</td><td> 270</td></tr>\n",
       "\t<tr><td>chr11</td><td>4181723</td><td>4182583</td><td>chr11:4181723-4182583</td><td>-0.06066954</td><td>-0.0110980</td><td>-2.25877</td><td>1.90851</td><td>-2.25877</td><td> 265</td></tr>\n",
       "\t<tr><td>chr11</td><td>4186880</td><td>4188018</td><td>chr11:4186880-4188018</td><td>-0.09280724</td><td>-0.0568135</td><td>-3.52390</td><td>1.70212</td><td>-3.52390</td><td> 680</td></tr>\n",
       "</tbody>\n",
       "</table>\n"
      ],
      "text/latex": [
       "A tibble: 6 × 10\n",
       "\\begin{tabular}{llllllllll}\n",
       " Chrom & ChromStart & ChromEnd & Region & Mean & Median & AbsMax & Max & Min & Count\\\\\n",
       " <chr> & <dbl> & <dbl> & <chr> & <dbl> & <dbl> & <dbl> & <dbl> & <dbl> & <int>\\\\\n",
       "\\hline\n",
       "\t chr11 & 4092104 & 4092566 & chr11:4092104-4092566 & -0.13403994 & -0.1597090 & -2.05570 & 1.47841 & -2.05570 &  325\\\\\n",
       "\t chr11 & 4094204 & 4095676 & chr11:4094204-4095676 & -0.04821938 & -0.0473140 & -3.02950 & 2.38441 & -3.02950 & 1330\\\\\n",
       "\t chr11 & 4144511 & 4147030 & chr11:4144511-4147030 & -0.07024901 & -0.0666760 & -2.83058 & 2.67552 & -2.83058 & 1185\\\\\n",
       "\t chr11 & 4167268 & 4168022 & chr11:4167268-4168022 & -0.09706626 & -0.0376275 & -2.54257 & 1.49502 & -2.54257 &  270\\\\\n",
       "\t chr11 & 4181723 & 4182583 & chr11:4181723-4182583 & -0.06066954 & -0.0110980 & -2.25877 & 1.90851 & -2.25877 &  265\\\\\n",
       "\t chr11 & 4186880 & 4188018 & chr11:4186880-4188018 & -0.09280724 & -0.0568135 & -3.52390 & 1.70212 & -3.52390 &  680\\\\\n",
       "\\end{tabular}\n"
      ],
      "text/markdown": [
       "\n",
       "A tibble: 6 × 10\n",
       "\n",
       "| Chrom &lt;chr&gt; | ChromStart &lt;dbl&gt; | ChromEnd &lt;dbl&gt; | Region &lt;chr&gt; | Mean &lt;dbl&gt; | Median &lt;dbl&gt; | AbsMax &lt;dbl&gt; | Max &lt;dbl&gt; | Min &lt;dbl&gt; | Count &lt;int&gt; |\n",
       "|---|---|---|---|---|---|---|---|---|---|\n",
       "| chr11 | 4092104 | 4092566 | chr11:4092104-4092566 | -0.13403994 | -0.1597090 | -2.05570 | 1.47841 | -2.05570 |  325 |\n",
       "| chr11 | 4094204 | 4095676 | chr11:4094204-4095676 | -0.04821938 | -0.0473140 | -3.02950 | 2.38441 | -3.02950 | 1330 |\n",
       "| chr11 | 4144511 | 4147030 | chr11:4144511-4147030 | -0.07024901 | -0.0666760 | -2.83058 | 2.67552 | -2.83058 | 1185 |\n",
       "| chr11 | 4167268 | 4168022 | chr11:4167268-4168022 | -0.09706626 | -0.0376275 | -2.54257 | 1.49502 | -2.54257 |  270 |\n",
       "| chr11 | 4181723 | 4182583 | chr11:4181723-4182583 | -0.06066954 | -0.0110980 | -2.25877 | 1.90851 | -2.25877 |  265 |\n",
       "| chr11 | 4186880 | 4188018 | chr11:4186880-4188018 | -0.09280724 | -0.0568135 | -3.52390 | 1.70212 | -3.52390 |  680 |\n",
       "\n"
      ],
      "text/plain": [
       "  Chrom ChromStart ChromEnd Region                Mean        Median    \n",
       "1 chr11 4092104    4092566  chr11:4092104-4092566 -0.13403994 -0.1597090\n",
       "2 chr11 4094204    4095676  chr11:4094204-4095676 -0.04821938 -0.0473140\n",
       "3 chr11 4144511    4147030  chr11:4144511-4147030 -0.07024901 -0.0666760\n",
       "4 chr11 4167268    4168022  chr11:4167268-4168022 -0.09706626 -0.0376275\n",
       "5 chr11 4181723    4182583  chr11:4181723-4182583 -0.06066954 -0.0110980\n",
       "6 chr11 4186880    4188018  chr11:4186880-4188018 -0.09280724 -0.0568135\n",
       "  AbsMax   Max     Min      Count\n",
       "1 -2.05570 1.47841 -2.05570  325 \n",
       "2 -3.02950 2.38441 -3.02950 1330 \n",
       "3 -2.83058 2.67552 -2.83058 1185 \n",
       "4 -2.54257 1.49502 -2.54257  270 \n",
       "5 -2.25877 1.90851 -2.25877  265 \n",
       "6 -3.52390 1.70212 -3.52390  680 "
      ]
     },
     "metadata": {},
     "output_type": "display_data"
    }
   ],
   "source": [
    "dat = dat_overlap_arrange\n",
    "dat = dat %>% \n",
    "    dplyr::group_by(Chrom, ChromStart, ChromEnd, Region) %>%\n",
    "    dplyr::summarise(\n",
    "        Mean    = mean(Score),\n",
    "        Median  = median(Score),\n",
    "        AbsMax  = fun_get_absmax(Score),\n",
    "        Max     = max(Score),\n",
    "        Min     = min(Score),\n",
    "        Count   = n(),\n",
    "        .groups = \"drop\"\n",
    "    )\n",
    "\n",
    "head(dat)"
   ]
  },
  {
   "cell_type": "code",
   "execution_count": 56,
   "id": "887466ea-4460-431f-a849-91d6b1e7b616",
   "metadata": {},
   "outputs": [
    {
     "data": {
      "text/html": [
       "<table class=\"dataframe\">\n",
       "<caption>A tibble: 6 × 10</caption>\n",
       "<thead>\n",
       "\t<tr><th scope=col>Chrom</th><th scope=col>ChromStart</th><th scope=col>ChromEnd</th><th scope=col>Region</th><th scope=col>Mean</th><th scope=col>Median</th><th scope=col>AbsMax</th><th scope=col>Max</th><th scope=col>Min</th><th scope=col>Count</th></tr>\n",
       "\t<tr><th scope=col>&lt;chr&gt;</th><th scope=col>&lt;dbl&gt;</th><th scope=col>&lt;dbl&gt;</th><th scope=col>&lt;chr&gt;</th><th scope=col>&lt;dbl&gt;</th><th scope=col>&lt;dbl&gt;</th><th scope=col>&lt;dbl&gt;</th><th scope=col>&lt;dbl&gt;</th><th scope=col>&lt;dbl&gt;</th><th scope=col>&lt;int&gt;</th></tr>\n",
       "</thead>\n",
       "<tbody>\n",
       "\t<tr><td>chr11</td><td>4092104</td><td>4092566</td><td>chr11:4092104-4092566</td><td>-0.13403994</td><td>-0.1597090</td><td>-2.05570</td><td>1.47841</td><td>-2.05570</td><td> 325</td></tr>\n",
       "\t<tr><td>chr11</td><td>4094204</td><td>4095676</td><td>chr11:4094204-4095676</td><td>-0.04821938</td><td>-0.0473140</td><td>-3.02950</td><td>2.38441</td><td>-3.02950</td><td>1330</td></tr>\n",
       "\t<tr><td>chr11</td><td>4144511</td><td>4147030</td><td>chr11:4144511-4147030</td><td>-0.07024901</td><td>-0.0666760</td><td>-2.83058</td><td>2.67552</td><td>-2.83058</td><td>1185</td></tr>\n",
       "\t<tr><td>chr11</td><td>4167268</td><td>4168022</td><td>chr11:4167268-4168022</td><td>-0.09706626</td><td>-0.0376275</td><td>-2.54257</td><td>1.49502</td><td>-2.54257</td><td> 270</td></tr>\n",
       "\t<tr><td>chr11</td><td>4181723</td><td>4182583</td><td>chr11:4181723-4182583</td><td>-0.06066954</td><td>-0.0110980</td><td>-2.25877</td><td>1.90851</td><td>-2.25877</td><td> 265</td></tr>\n",
       "\t<tr><td>chr11</td><td>4186880</td><td>4188018</td><td>chr11:4186880-4188018</td><td>-0.09280724</td><td>-0.0568135</td><td>-3.52390</td><td>1.70212</td><td>-3.52390</td><td> 680</td></tr>\n",
       "</tbody>\n",
       "</table>\n"
      ],
      "text/latex": [
       "A tibble: 6 × 10\n",
       "\\begin{tabular}{llllllllll}\n",
       " Chrom & ChromStart & ChromEnd & Region & Mean & Median & AbsMax & Max & Min & Count\\\\\n",
       " <chr> & <dbl> & <dbl> & <chr> & <dbl> & <dbl> & <dbl> & <dbl> & <dbl> & <int>\\\\\n",
       "\\hline\n",
       "\t chr11 & 4092104 & 4092566 & chr11:4092104-4092566 & -0.13403994 & -0.1597090 & -2.05570 & 1.47841 & -2.05570 &  325\\\\\n",
       "\t chr11 & 4094204 & 4095676 & chr11:4094204-4095676 & -0.04821938 & -0.0473140 & -3.02950 & 2.38441 & -3.02950 & 1330\\\\\n",
       "\t chr11 & 4144511 & 4147030 & chr11:4144511-4147030 & -0.07024901 & -0.0666760 & -2.83058 & 2.67552 & -2.83058 & 1185\\\\\n",
       "\t chr11 & 4167268 & 4168022 & chr11:4167268-4168022 & -0.09706626 & -0.0376275 & -2.54257 & 1.49502 & -2.54257 &  270\\\\\n",
       "\t chr11 & 4181723 & 4182583 & chr11:4181723-4182583 & -0.06066954 & -0.0110980 & -2.25877 & 1.90851 & -2.25877 &  265\\\\\n",
       "\t chr11 & 4186880 & 4188018 & chr11:4186880-4188018 & -0.09280724 & -0.0568135 & -3.52390 & 1.70212 & -3.52390 &  680\\\\\n",
       "\\end{tabular}\n"
      ],
      "text/markdown": [
       "\n",
       "A tibble: 6 × 10\n",
       "\n",
       "| Chrom &lt;chr&gt; | ChromStart &lt;dbl&gt; | ChromEnd &lt;dbl&gt; | Region &lt;chr&gt; | Mean &lt;dbl&gt; | Median &lt;dbl&gt; | AbsMax &lt;dbl&gt; | Max &lt;dbl&gt; | Min &lt;dbl&gt; | Count &lt;int&gt; |\n",
       "|---|---|---|---|---|---|---|---|---|---|\n",
       "| chr11 | 4092104 | 4092566 | chr11:4092104-4092566 | -0.13403994 | -0.1597090 | -2.05570 | 1.47841 | -2.05570 |  325 |\n",
       "| chr11 | 4094204 | 4095676 | chr11:4094204-4095676 | -0.04821938 | -0.0473140 | -3.02950 | 2.38441 | -3.02950 | 1330 |\n",
       "| chr11 | 4144511 | 4147030 | chr11:4144511-4147030 | -0.07024901 | -0.0666760 | -2.83058 | 2.67552 | -2.83058 | 1185 |\n",
       "| chr11 | 4167268 | 4168022 | chr11:4167268-4168022 | -0.09706626 | -0.0376275 | -2.54257 | 1.49502 | -2.54257 |  270 |\n",
       "| chr11 | 4181723 | 4182583 | chr11:4181723-4182583 | -0.06066954 | -0.0110980 | -2.25877 | 1.90851 | -2.25877 |  265 |\n",
       "| chr11 | 4186880 | 4188018 | chr11:4186880-4188018 | -0.09280724 | -0.0568135 | -3.52390 | 1.70212 | -3.52390 |  680 |\n",
       "\n"
      ],
      "text/plain": [
       "  Chrom ChromStart ChromEnd Region                Mean        Median    \n",
       "1 chr11 4092104    4092566  chr11:4092104-4092566 -0.13403994 -0.1597090\n",
       "2 chr11 4094204    4095676  chr11:4094204-4095676 -0.04821938 -0.0473140\n",
       "3 chr11 4144511    4147030  chr11:4144511-4147030 -0.07024901 -0.0666760\n",
       "4 chr11 4167268    4168022  chr11:4167268-4168022 -0.09706626 -0.0376275\n",
       "5 chr11 4181723    4182583  chr11:4181723-4182583 -0.06066954 -0.0110980\n",
       "6 chr11 4186880    4188018  chr11:4186880-4188018 -0.09280724 -0.0568135\n",
       "  AbsMax   Max     Min      Count\n",
       "1 -2.05570 1.47841 -2.05570  325 \n",
       "2 -3.02950 2.38441 -3.02950 1330 \n",
       "3 -2.83058 2.67552 -2.83058 1185 \n",
       "4 -2.54257 1.49502 -2.54257  270 \n",
       "5 -2.25877 1.90851 -2.25877  265 \n",
       "6 -3.52390 1.70212 -3.52390  680 "
      ]
     },
     "metadata": {},
     "output_type": "display_data"
    }
   ],
   "source": [
    "dat = dat_overlap_arrange\n",
    "dat = dat %>% \n",
    "    dplyr::group_by(Chrom, ChromStart, ChromEnd, Region) %>%\n",
    "    dplyr::summarise(\n",
    "        Mean    = mean(Score),\n",
    "        Median  = median(Score),\n",
    "        AbsMax  = fun_get_absmax(Score),\n",
    "        Max     = max(Score),\n",
    "        Min     = min(Score),\n",
    "        Count   = n(),\n",
    "        .groups = \"drop\"\n",
    "    )\n",
    "\n",
    "head(dat)"
   ]
  },
  {
   "cell_type": "code",
   "execution_count": 45,
   "id": "04eef5f4-83b9-4936-acaf-4cbf0e213e7b",
   "metadata": {},
   "outputs": [
    {
     "data": {
      "text/html": [
       "<table class=\"dataframe\">\n",
       "<caption>A tibble: 6 × 11</caption>\n",
       "<thead>\n",
       "\t<tr><th scope=col>Chrom</th><th scope=col>ChromStart</th><th scope=col>ChromEnd</th><th scope=col>Region</th><th scope=col>Target</th><th scope=col>Mean</th><th scope=col>Median</th><th scope=col>AbsMax</th><th scope=col>Max</th><th scope=col>Min</th><th scope=col>Count</th></tr>\n",
       "\t<tr><th scope=col>&lt;chr&gt;</th><th scope=col>&lt;dbl&gt;</th><th scope=col>&lt;dbl&gt;</th><th scope=col>&lt;chr&gt;</th><th scope=col>&lt;chr&gt;</th><th scope=col>&lt;dbl&gt;</th><th scope=col>&lt;dbl&gt;</th><th scope=col>&lt;dbl&gt;</th><th scope=col>&lt;dbl&gt;</th><th scope=col>&lt;dbl&gt;</th><th scope=col>&lt;int&gt;</th></tr>\n",
       "</thead>\n",
       "<tbody>\n",
       "\t<tr><td>chr11</td><td>4092104</td><td>4092566</td><td>chr11:4092104-4092566</td><td>HBE1 </td><td>-0.11635528</td><td>-0.141933</td><td>-2.05570</td><td>1.21353</td><td>-2.05570</td><td> 65</td></tr>\n",
       "\t<tr><td>chr11</td><td>4092104</td><td>4092566</td><td>chr11:4092104-4092566</td><td>HBG1 </td><td>-0.16674203</td><td>-0.159709</td><td>-1.53233</td><td>1.47841</td><td>-1.53233</td><td> 65</td></tr>\n",
       "\t<tr><td>chr11</td><td>4092104</td><td>4092566</td><td>chr11:4092104-4092566</td><td>HBG2 </td><td>-0.25223588</td><td>-0.256263</td><td>-1.95678</td><td>0.72989</td><td>-1.95678</td><td> 65</td></tr>\n",
       "\t<tr><td>chr11</td><td>4092104</td><td>4092566</td><td>chr11:4092104-4092566</td><td>HBS1L</td><td>-0.04147475</td><td>-0.105674</td><td>-1.48871</td><td>1.44665</td><td>-1.48871</td><td> 65</td></tr>\n",
       "\t<tr><td>chr11</td><td>4092104</td><td>4092566</td><td>chr11:4092104-4092566</td><td>MYB  </td><td>-0.09339174</td><td>-0.100842</td><td>-1.88964</td><td>1.37112</td><td>-1.88964</td><td> 65</td></tr>\n",
       "\t<tr><td>chr11</td><td>4094204</td><td>4095676</td><td>chr11:4094204-4095676</td><td>HBE1 </td><td>-0.22842143</td><td>-0.264859</td><td>-2.47029</td><td>2.33671</td><td>-2.47029</td><td>266</td></tr>\n",
       "</tbody>\n",
       "</table>\n"
      ],
      "text/latex": [
       "A tibble: 6 × 11\n",
       "\\begin{tabular}{lllllllllll}\n",
       " Chrom & ChromStart & ChromEnd & Region & Target & Mean & Median & AbsMax & Max & Min & Count\\\\\n",
       " <chr> & <dbl> & <dbl> & <chr> & <chr> & <dbl> & <dbl> & <dbl> & <dbl> & <dbl> & <int>\\\\\n",
       "\\hline\n",
       "\t chr11 & 4092104 & 4092566 & chr11:4092104-4092566 & HBE1  & -0.11635528 & -0.141933 & -2.05570 & 1.21353 & -2.05570 &  65\\\\\n",
       "\t chr11 & 4092104 & 4092566 & chr11:4092104-4092566 & HBG1  & -0.16674203 & -0.159709 & -1.53233 & 1.47841 & -1.53233 &  65\\\\\n",
       "\t chr11 & 4092104 & 4092566 & chr11:4092104-4092566 & HBG2  & -0.25223588 & -0.256263 & -1.95678 & 0.72989 & -1.95678 &  65\\\\\n",
       "\t chr11 & 4092104 & 4092566 & chr11:4092104-4092566 & HBS1L & -0.04147475 & -0.105674 & -1.48871 & 1.44665 & -1.48871 &  65\\\\\n",
       "\t chr11 & 4092104 & 4092566 & chr11:4092104-4092566 & MYB   & -0.09339174 & -0.100842 & -1.88964 & 1.37112 & -1.88964 &  65\\\\\n",
       "\t chr11 & 4094204 & 4095676 & chr11:4094204-4095676 & HBE1  & -0.22842143 & -0.264859 & -2.47029 & 2.33671 & -2.47029 & 266\\\\\n",
       "\\end{tabular}\n"
      ],
      "text/markdown": [
       "\n",
       "A tibble: 6 × 11\n",
       "\n",
       "| Chrom &lt;chr&gt; | ChromStart &lt;dbl&gt; | ChromEnd &lt;dbl&gt; | Region &lt;chr&gt; | Target &lt;chr&gt; | Mean &lt;dbl&gt; | Median &lt;dbl&gt; | AbsMax &lt;dbl&gt; | Max &lt;dbl&gt; | Min &lt;dbl&gt; | Count &lt;int&gt; |\n",
       "|---|---|---|---|---|---|---|---|---|---|---|\n",
       "| chr11 | 4092104 | 4092566 | chr11:4092104-4092566 | HBE1  | -0.11635528 | -0.141933 | -2.05570 | 1.21353 | -2.05570 |  65 |\n",
       "| chr11 | 4092104 | 4092566 | chr11:4092104-4092566 | HBG1  | -0.16674203 | -0.159709 | -1.53233 | 1.47841 | -1.53233 |  65 |\n",
       "| chr11 | 4092104 | 4092566 | chr11:4092104-4092566 | HBG2  | -0.25223588 | -0.256263 | -1.95678 | 0.72989 | -1.95678 |  65 |\n",
       "| chr11 | 4092104 | 4092566 | chr11:4092104-4092566 | HBS1L | -0.04147475 | -0.105674 | -1.48871 | 1.44665 | -1.48871 |  65 |\n",
       "| chr11 | 4092104 | 4092566 | chr11:4092104-4092566 | MYB   | -0.09339174 | -0.100842 | -1.88964 | 1.37112 | -1.88964 |  65 |\n",
       "| chr11 | 4094204 | 4095676 | chr11:4094204-4095676 | HBE1  | -0.22842143 | -0.264859 | -2.47029 | 2.33671 | -2.47029 | 266 |\n",
       "\n"
      ],
      "text/plain": [
       "  Chrom ChromStart ChromEnd Region                Target Mean        Median   \n",
       "1 chr11 4092104    4092566  chr11:4092104-4092566 HBE1   -0.11635528 -0.141933\n",
       "2 chr11 4092104    4092566  chr11:4092104-4092566 HBG1   -0.16674203 -0.159709\n",
       "3 chr11 4092104    4092566  chr11:4092104-4092566 HBG2   -0.25223588 -0.256263\n",
       "4 chr11 4092104    4092566  chr11:4092104-4092566 HBS1L  -0.04147475 -0.105674\n",
       "5 chr11 4092104    4092566  chr11:4092104-4092566 MYB    -0.09339174 -0.100842\n",
       "6 chr11 4094204    4095676  chr11:4094204-4095676 HBE1   -0.22842143 -0.264859\n",
       "  AbsMax   Max     Min      Count\n",
       "1 -2.05570 1.21353 -2.05570  65  \n",
       "2 -1.53233 1.47841 -1.53233  65  \n",
       "3 -1.95678 0.72989 -1.95678  65  \n",
       "4 -1.48871 1.44665 -1.48871  65  \n",
       "5 -1.88964 1.37112 -1.88964  65  \n",
       "6 -2.47029 2.33671 -2.47029 266  "
      ]
     },
     "metadata": {},
     "output_type": "display_data"
    }
   ],
   "source": [
    "dat = dat_overlap_import\n",
    "dat = dat %>% \n",
    "    dplyr::mutate(\n",
    "        Chrom      = Chrom_A,\n",
    "        ChromStart = ChromStart_A,\n",
    "        ChromEnd   = ChromEnd_A,\n",
    "        Region     = fun_gen_region(Chrom_A, ChromStart_A, ChromEnd_A),\n",
    "        Target     = Target_B,\n",
    "        Score      = Score_B\n",
    "    ) %>%\n",
    "    dplyr::group_by(Chrom, ChromStart, ChromEnd, Region, Target) %>%\n",
    "    dplyr::summarise(\n",
    "        Mean    = mean(Score),\n",
    "        Median  = median(Score),\n",
    "        AbsMax  = fun_get_absmax(Score),\n",
    "        Max     = max(Score),\n",
    "        Min     = min(Score),\n",
    "        Count   = n(),\n",
    "        .groups = \"drop\"\n",
    "    )\n",
    "\n",
    "head(dat)"
   ]
  },
  {
   "cell_type": "code",
   "execution_count": null,
   "id": "44e90d28-b3fa-4929-becd-01388c7081e3",
   "metadata": {},
   "outputs": [],
   "source": [
    "MaxAbs"
   ]
  },
  {
   "cell_type": "code",
   "execution_count": 34,
   "id": "ba8b626c-eb31-4a2b-a15d-abe0efc4167d",
   "metadata": {},
   "outputs": [],
   "source": [
    "dat = dat_overlap_import\n",
    "dat = dat %>% \n",
    "    dplyr::mutate(\n",
    "        Region_A = fun_gen_region(Chrom_A, ChromStart_A, ChromEnd_A),\n",
    "        Target   = Target_B\n",
    "    )"
   ]
  },
  {
   "cell_type": "code",
   "execution_count": 33,
   "id": "25170230-726d-4d68-bbff-522e2a3e4faf",
   "metadata": {},
   "outputs": [
    {
     "ename": "ERROR",
     "evalue": "\u001b[1m\u001b[33mError\u001b[39m in `dplyr::select()`:\u001b[22m\n\u001b[33m!\u001b[39m Can't select columns that don't exist.\n\u001b[31m✖\u001b[39m Column `Score` doesn't exist.\n",
     "output_type": "error",
     "traceback": [
      "\u001b[1m\u001b[33mError\u001b[39m in `dplyr::select()`:\u001b[22m\n\u001b[33m!\u001b[39m Can't select columns that don't exist.\n\u001b[31m✖\u001b[39m Column `Score` doesn't exist.\nTraceback:\n",
      "1. dat %>% dplyr::mutate(Region_A = fun_gen_region(Chrom_A, ChromStart_A, \n .     ChromEnd_A), Region_B = fun_gen_region(Chrom_B, ChromStart_B, \n .     ChromEnd_B)) %>% dplyr::select(Region_A, Score)",
      "2. dplyr::select(., Region_A, Score)",
      "3. select.data.frame(., Region_A, Score)",
      "4. tidyselect::eval_select(expr(c(...)), data = .data, error_call = error_call)",
      "5. eval_select_impl(data, names(data), as_quosure(expr, env), include = include, \n .     exclude = exclude, strict = strict, name_spec = name_spec, \n .     allow_rename = allow_rename, allow_empty = allow_empty, allow_predicates = allow_predicates, \n .     error_call = error_call, )",
      "6. with_subscript_errors(out <- vars_select_eval(vars, expr, strict = strict, \n .     data = x, name_spec = name_spec, uniquely_named = uniquely_named, \n .     allow_rename = allow_rename, allow_empty = allow_empty, allow_predicates = allow_predicates, \n .     type = type, error_call = error_call), type = type)",
      "7. withCallingHandlers(expr, vctrs_error_subscript = function(cnd) {\n .     cnd$subscript_action <- subscript_action(type)\n .     cnd$subscript_elt <- \"column\"\n .     cnd_signal(cnd)\n . })",
      "8. vars_select_eval(vars, expr, strict = strict, data = x, name_spec = name_spec, \n .     uniquely_named = uniquely_named, allow_rename = allow_rename, \n .     allow_empty = allow_empty, allow_predicates = allow_predicates, \n .     type = type, error_call = error_call)",
      "9. walk_data_tree(expr, data_mask, context_mask)",
      "10. eval_c(expr, data_mask, context_mask)",
      "11. reduce_sels(node, data_mask, context_mask, init = init)",
      "12. walk_data_tree(new, data_mask, context_mask)",
      "13. as_indices_sel_impl(out, vars = vars, strict = strict, data = data, \n  .     allow_predicates = allow_predicates, call = error_call, arg = as_label(expr))",
      "14. as_indices_impl(x, vars, call = call, arg = arg, strict = strict)",
      "15. chr_as_locations(x, vars, call = call, arg = arg)",
      "16. vctrs::vec_as_location(x, n = length(vars), names = vars, call = call, \n  .     arg = arg)",
      "17. (function () \n  . stop_subscript_oob(i = i, subscript_type = subscript_type, names = names, \n  .     subscript_action = subscript_action, subscript_arg = subscript_arg, \n  .     call = call))()",
      "18. stop_subscript_oob(i = i, subscript_type = subscript_type, names = names, \n  .     subscript_action = subscript_action, subscript_arg = subscript_arg, \n  .     call = call)",
      "19. stop_subscript(class = \"vctrs_error_subscript_oob\", i = i, subscript_type = subscript_type, \n  .     ..., call = call)",
      "20. abort(class = c(class, \"vctrs_error_subscript\"), i = i, ..., \n  .     call = call)",
      "21. signal_abort(cnd, .file)",
      "22. signalCondition(cnd)",
      "23. (function (cnd) \n  . {\n  .     cnd$subscript_action <- subscript_action(type)\n  .     cnd$subscript_elt <- \"column\"\n  .     cnd_signal(cnd)\n  . })(structure(list(message = \"\", trace = structure(list(call = list(\n  .     IRkernel::main(), kernel$run(), handle_shell(), executor$execute(msg), \n  .     tryCatch(evaluate(request$content$code, envir = .GlobalEnv, \n  .         output_handler = oh, stop_on_error = 1L), interrupt = function(cond) {\n  .         log_debug(\"Interrupt during execution\")\n  .         interrupted <<- TRUE\n  .     }, error = .self$handle_error), tryCatchList(expr, classes, \n  .         parentenv, handlers), tryCatchOne(tryCatchList(expr, \n  .         names[-nh], parentenv, handlers[-nh]), names[nh], parentenv, \n  .         handlers[[nh]]), doTryCatch(return(expr), name, parentenv, \n  .         handler), tryCatchList(expr, names[-nh], parentenv, handlers[-nh]), \n  .     tryCatchOne(expr, names, parentenv, handlers[[1L]]), doTryCatch(return(expr), \n  .         name, parentenv, handler), evaluate(request$content$code, \n  .         envir = .GlobalEnv, output_handler = oh, stop_on_error = 1L), \n  .     evaluate_call(expr, parsed$src[[i]], envir = envir, enclos = enclos, \n  .         debug = debug, last = i == length(out), use_try = stop_on_error != \n  .             2L, keep_warning = keep_warning, keep_message = keep_message, \n  .         log_echo = log_echo, log_warning = log_warning, output_handler = output_handler, \n  .         include_timing = include_timing), timing_fn(handle(ev <- withCallingHandlers(withVisible(eval_with_user_handlers(expr, \n  .         envir, enclos, user_handlers)), warning = wHandler, error = eHandler, \n  .         message = mHandler))), handle(ev <- withCallingHandlers(withVisible(eval_with_user_handlers(expr, \n  .         envir, enclos, user_handlers)), warning = wHandler, error = eHandler, \n  .         message = mHandler)), try(f, silent = TRUE), tryCatch(expr, \n  .         error = function(e) {\n  .             call <- conditionCall(e)\n  .             if (!is.null(call)) {\n  .                 if (identical(call[[1L]], quote(doTryCatch))) \n  .                   call <- sys.call(-4L)\n  .                 dcall <- deparse(call, nlines = 1L)\n  .                 prefix <- paste(\"Error in\", dcall, \": \")\n  .                 LONG <- 75L\n  .                 sm <- strsplit(conditionMessage(e), \"\\n\")[[1L]]\n  .                 w <- 14L + nchar(dcall, type = \"w\") + nchar(sm[1L], \n  .                   type = \"w\")\n  .                 if (is.na(w)) \n  .                   w <- 14L + nchar(dcall, type = \"b\") + nchar(sm[1L], \n  .                     type = \"b\")\n  .                 if (w > LONG) \n  .                   prefix <- paste0(prefix, \"\\n  \")\n  .             }\n  .             else prefix <- \"Error : \"\n  .             msg <- paste0(prefix, conditionMessage(e), \"\\n\")\n  .             .Internal(seterrmessage(msg[1L]))\n  .             if (!silent && isTRUE(getOption(\"show.error.messages\"))) {\n  .                 cat(msg, file = outFile)\n  .                 .Internal(printDeferredWarnings())\n  .             }\n  .             invisible(structure(msg, class = \"try-error\", condition = e))\n  .         }), tryCatchList(expr, classes, parentenv, handlers), \n  .     tryCatchOne(expr, names, parentenv, handlers[[1L]]), doTryCatch(return(expr), \n  .         name, parentenv, handler), withCallingHandlers(withVisible(eval_with_user_handlers(expr, \n  .         envir, enclos, user_handlers)), warning = wHandler, error = eHandler, \n  .         message = mHandler), withVisible(eval_with_user_handlers(expr, \n  .         envir, enclos, user_handlers)), eval_with_user_handlers(expr, \n  .         envir, enclos, user_handlers), eval(expr, envir, enclos), \n  .     eval(expr, envir, enclos), dat %>% dplyr::mutate(Region_A = fun_gen_region(Chrom_A, \n  .         ChromStart_A, ChromEnd_A), Region_B = fun_gen_region(Chrom_B, \n  .         ChromStart_B, ChromEnd_B)) %>% dplyr::select(Region_A, \n  .         Score), dplyr::select(., Region_A, Score), select.data.frame(., \n  .         Region_A, Score), tidyselect::eval_select(expr(c(...)), \n  .         data = .data, error_call = error_call), eval_select_impl(data, \n  .         names(data), as_quosure(expr, env), include = include, \n  .         exclude = exclude, strict = strict, name_spec = name_spec, \n  .         allow_rename = allow_rename, allow_empty = allow_empty, \n  .         allow_predicates = allow_predicates, error_call = error_call, \n  .         ), with_subscript_errors(out <- vars_select_eval(vars, \n  .         expr, strict = strict, data = x, name_spec = name_spec, \n  .         uniquely_named = uniquely_named, allow_rename = allow_rename, \n  .         allow_empty = allow_empty, allow_predicates = allow_predicates, \n  .         type = type, error_call = error_call), type = type), \n  .     withCallingHandlers(expr, vctrs_error_subscript = function(cnd) {\n  .         cnd$subscript_action <- subscript_action(type)\n  .         cnd$subscript_elt <- \"column\"\n  .         cnd_signal(cnd)\n  .     }), vars_select_eval(vars, expr, strict = strict, data = x, \n  .         name_spec = name_spec, uniquely_named = uniquely_named, \n  .         allow_rename = allow_rename, allow_empty = allow_empty, \n  .         allow_predicates = allow_predicates, type = type, error_call = error_call), \n  .     walk_data_tree(expr, data_mask, context_mask), eval_c(expr, \n  .         data_mask, context_mask), reduce_sels(node, data_mask, \n  .         context_mask, init = init), walk_data_tree(new, data_mask, \n  .         context_mask), as_indices_sel_impl(out, vars = vars, \n  .         strict = strict, data = data, allow_predicates = allow_predicates, \n  .         call = error_call, arg = as_label(expr)), as_indices_impl(x, \n  .         vars, call = call, arg = arg, strict = strict), chr_as_locations(x, \n  .         vars, call = call, arg = arg), vctrs::vec_as_location(x, \n  .         n = length(vars), names = vars, call = call, arg = arg), \n  .     `<fn>`(), stop_subscript_oob(i = i, subscript_type = subscript_type, \n  .         names = names, subscript_action = subscript_action, subscript_arg = subscript_arg, \n  .         call = call), stop_subscript(class = \"vctrs_error_subscript_oob\", \n  .         i = i, subscript_type = subscript_type, ..., call = call), \n  .     abort(class = c(class, \"vctrs_error_subscript\"), i = i, ..., \n  .         call = call)), parent = c(0L, 1L, 2L, 3L, 4L, 5L, 6L, \n  . 7L, 6L, 9L, 10L, 4L, 12L, 13L, 13L, 15L, 16L, 17L, 18L, 19L, \n  . 13L, 13L, 13L, 23L, 24L, 0L, 0L, 0L, 28L, 29L, 30L, 31L, 30L, \n  . 33L, 34L, 35L, 36L, 37L, 38L, 39L, 40L, 0L, 42L, 43L, 44L), visible = c(TRUE, \n  . TRUE, TRUE, TRUE, TRUE, TRUE, TRUE, TRUE, TRUE, TRUE, TRUE, TRUE, \n  . TRUE, TRUE, TRUE, TRUE, TRUE, TRUE, TRUE, TRUE, TRUE, TRUE, TRUE, \n  . TRUE, TRUE, TRUE, TRUE, TRUE, FALSE, FALSE, FALSE, FALSE, FALSE, \n  . FALSE, FALSE, FALSE, FALSE, FALSE, FALSE, FALSE, FALSE, FALSE, \n  . FALSE, FALSE, FALSE), namespace = c(\"IRkernel\", NA, \"IRkernel\", \n  . NA, \"base\", \"base\", \"base\", \"base\", \"base\", \"base\", \"base\", \"evaluate\", \n  . \"evaluate\", \"evaluate\", \"evaluate\", \"base\", \"base\", \"base\", \"base\", \n  . \"base\", \"base\", \"base\", \"evaluate\", \"base\", \"base\", NA, \"dplyr\", \n  . \"dplyr\", \"tidyselect\", \"tidyselect\", \"tidyselect\", \"base\", \"tidyselect\", \n  . \"tidyselect\", \"tidyselect\", \"tidyselect\", \"tidyselect\", \"tidyselect\", \n  . \"tidyselect\", \"tidyselect\", \"vctrs\", \"vctrs\", \"vctrs\", \"vctrs\", \n  . \"rlang\"), scope = c(\"::\", NA, \"local\", NA, \"::\", \"local\", \"local\", \n  . \"local\", \"local\", \"local\", \"local\", \"::\", \":::\", \"local\", \"local\", \n  . \"::\", \"::\", \"local\", \"local\", \"local\", \"::\", \"::\", \":::\", \"::\", \n  . \"::\", NA, \"::\", \":::\", \"::\", \":::\", \":::\", \"::\", \":::\", \":::\", \n  . \":::\", \":::\", \":::\", \":::\", \":::\", \":::\", \"::\", \"local\", \":::\", \n  . \":::\", \"::\"), error_frame = c(FALSE, FALSE, FALSE, FALSE, FALSE, \n  . FALSE, FALSE, FALSE, FALSE, FALSE, FALSE, FALSE, FALSE, FALSE, \n  . FALSE, FALSE, FALSE, FALSE, FALSE, FALSE, FALSE, FALSE, FALSE, \n  . FALSE, FALSE, FALSE, FALSE, TRUE, FALSE, FALSE, FALSE, FALSE, \n  . FALSE, FALSE, FALSE, FALSE, FALSE, FALSE, FALSE, FALSE, FALSE, \n  . FALSE, FALSE, FALSE, FALSE)), row.names = c(NA, -45L), version = 2L, class = c(\"rlang_trace\", \n  . \"rlib_trace\", \"tbl\", \"data.frame\")), parent = NULL, i = \"Score\", \n  .     subscript_type = \"character\", names = c(\"Chrom_A\", \"ChromStart_A\", \n  .     \"ChromEnd_A\", \"Chrom_B\", \"ChromStart_B\", \"ChromEnd_B\", \"Name_B\", \n  .     \"Score_B\", \"Strand_B\", \"Target_B\", \"Overlap\", \"Region_A\", \n  .     \"Region_B\"), subscript_action = NULL, subscript_arg = \"Score\", \n  .     rlang = list(inherit = TRUE), call = dplyr::select(., Region_A, \n  .         Score)), class = c(\"vctrs_error_subscript_oob\", \"vctrs_error_subscript\", \n  . \"rlang_error\", \"error\", \"condition\")))",
      "24. cnd_signal(cnd)",
      "25. signal_abort(cnd)"
     ]
    }
   ],
   "source": [
    "dat = dat_overlap_import\n",
    "dat = dat %>% \n",
    "    dplyr::mutate(\n",
    "        Region_A = fun_gen_region(Chrom_A, ChromStart_A, ChromEnd_A),\n",
    "        Region_B = fun_gen_region(Chrom_B, ChromStart_B, ChromEnd_B)\n",
    "    ) %>%\n",
    "    dplyr::select(\n",
    "        Region_A, Score, \n",
    "    )\n",
    "\n",
    "###\n",
    "#dat_peak_score_arrange = dat\n",
    "#print(dim(dat))\n",
    "head(dat)"
   ]
  },
  {
   "cell_type": "code",
   "execution_count": null,
   "id": "11d0d50a-ac88-4df4-91b7-40ff12dd6c35",
   "metadata": {},
   "outputs": [],
   "source": []
  }
 ],
 "metadata": {
  "kernelspec": {
   "display_name": "R",
   "language": "R",
   "name": "ir"
  },
  "language_info": {
   "codemirror_mode": "r",
   "file_extension": ".r",
   "mimetype": "text/x-r-source",
   "name": "R",
   "pygments_lexer": "r",
   "version": "4.4.0"
  }
 },
 "nbformat": 4,
 "nbformat_minor": 5
}
