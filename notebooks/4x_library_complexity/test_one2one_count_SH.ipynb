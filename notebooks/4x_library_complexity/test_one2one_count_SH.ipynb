{
 "cells": [
  {
   "cell_type": "code",
   "execution_count": 1,
   "id": "9562879d-ae06-4aa2-816d-404c003197cd",
   "metadata": {},
   "outputs": [
    {
     "name": "stdout",
     "output_type": "stream",
     "text": [
      "You are working on             Duke Server: HARDAC\n",
      "BASE DIRECTORY (FD_BASE):      /data/reddylab/Kuei\n",
      "REPO DIRECTORY (FD_REPO):      /data/reddylab/Kuei/repo\n",
      "WORK DIRECTORY (FD_WORK):      /data/reddylab/Kuei/work\n",
      "DATA DIRECTORY (FD_DATA):      /data/reddylab/Kuei/data\n",
      "CONTAINER DIR. (FD_SING):      /data/reddylab/Kuei/container\n",
      "\n",
      "You are working with           ENCODE FCC\n",
      "PATH OF PROJECT (FD_PRJ):      /data/reddylab/Kuei/repo/Proj_ENCODE_FCC\n",
      "PROJECT RESULTS (FD_RES):      /data/reddylab/Kuei/repo/Proj_ENCODE_FCC/results\n",
      "PROJECT SCRIPTS (FD_EXE):      /data/reddylab/Kuei/repo/Proj_ENCODE_FCC/scripts\n",
      "PROJECT DATA    (FD_DAT):      /data/reddylab/Kuei/repo/Proj_ENCODE_FCC/data\n",
      "PROJECT NOTE    (FD_NBK):      /data/reddylab/Kuei/repo/Proj_ENCODE_FCC/notebooks\n",
      "PROJECT DOCS    (FD_DOC):      /data/reddylab/Kuei/repo/Proj_ENCODE_FCC/docs\n",
      "PROJECT LOG     (FD_LOG):      /data/reddylab/Kuei/repo/Proj_ENCODE_FCC/log\n",
      "PROJECT APP     (FD_APP):      /data/reddylab/Kuei/repo/Proj_ENCODE_FCC/app\n",
      "PROJECT REF     (FD_REF):      /data/reddylab/Kuei/repo/Proj_ENCODE_FCC/references\n",
      "PROJECT IMAGE   (FP_PRJ_SIF):  /data/reddylab/Kuei/repo/Proj_ENCODE_FCC/app/singularity_proj_encode_fcc.sif\n",
      "\n"
     ]
    }
   ],
   "source": [
    "source ../run_config_project.sh\n",
    "source ${FD_EXE}/config_load_module_bedtools.sh\n",
    "show_env"
   ]
  },
  {
   "cell_type": "code",
   "execution_count": 2,
   "id": "430976b3-3272-444b-aa8c-b86c9c770476",
   "metadata": {},
   "outputs": [
    {
     "name": "stdout",
     "output_type": "stream",
     "text": [
      "chr1\t10001\t10143\tchr1_10001_10143\t1\t.\tchr1\t10015\t10442\t128\n",
      "chr1\t10002\t10118\tchr1_10002_10118\t1\t.\tchr1\t10015\t10442\t103\n",
      "chr1\t10002\t10131\tchr1_10002_10131\t1\t.\tchr1\t10015\t10442\t116\n",
      "chr1\t10002\t10203\tchr1_10002_10203\t1\t.\tchr1\t10015\t10442\t188\n",
      "chr1\t10002\t10209\tchr1_10002_10209\t1\t.\tchr1\t10015\t10442\t194\n",
      "chr1\t10002\t10227\tchr1_10002_10227\t1\t.\tchr1\t10015\t10442\t212\n",
      "chr1\t10002\t10436\tchr1_10002_10436\t1\t.\tchr1\t10015\t10442\t421\n",
      "chr1\t10003\t10113\tchr1_10003_10113\t1\t.\tchr1\t10015\t10442\t98\n",
      "chr1\t10003\t10118\tchr1_10003_10118\t1\t.\tchr1\t10015\t10442\t103\n",
      "chr1\t10003\t10119\tchr1_10003_10119\t1\t.\tchr1\t10015\t10442\t104\n"
     ]
    }
   ],
   "source": [
    "FD_INP=${FD_RES}/assay_fcc/STARR_ATAC_K562_Reddy_KS91/coverage\n",
    "FD_INP=${FD_INP}/fcc_astarr_macs/astarr_macs_input_union/overlap_fragment_one2one\n",
    "FN_INP=\"ASTARRseq_K562_KS91.hg38.Input.rep1.WGS.unstranded.bed.gz\"\n",
    "FP_INP=${FD_INP}/${FN_INP}\n",
    "\n",
    "zcat ${FP_INP} | head"
   ]
  },
  {
   "cell_type": "code",
   "execution_count": 5,
   "id": "01efb54c-f3ce-41c9-9b45-ae557a23200d",
   "metadata": {},
   "outputs": [
    {
     "name": "stdout",
     "output_type": "stream",
     "text": [
      "chr1\t10057\t10233\tchr1_10057_10233\t2\t.\tchr1\t10015\t10442\t176\n",
      "chr1\t10188\t10442\tchr1_10188_10442\t1\t.\tchr1\t10015\t10442\t254\n",
      "chr1\t10285\t10349\tchr1_10285_10349\t1\t.\tchr1\t10015\t10442\t64\n",
      "chr1\t10287\t10332\tchr1_10287_10332\t1\t.\tchr1\t10015\t10442\t45\n",
      "chr1\t10365\t10449\tchr1_10365_10449\t1\t.\tchr1\t10015\t10442\t77\n",
      "chr1\t10389\t10442\tchr1_10389_10442\t1\t.\tchr1\t10015\t10442\t53\n",
      "chr1\t14098\t14507\tchr1_14098_14507\t1\t.\tchr1\t14253\t14645\t254\n",
      "chr1\t14132\t14498\tchr1_14132_14498\t1\t.\tchr1\t14253\t14645\t245\n",
      "chr1\t14134\t14498\tchr1_14134_14498\t1\t.\tchr1\t14253\t14645\t245\n",
      "chr1\t14243\t14498\tchr1_14243_14498\t1\t.\tchr1\t14253\t14645\t245\n"
     ]
    }
   ],
   "source": [
    "FD_INP=${FD_RES}/assay_fcc/STARR_ATAC_K562_Reddy_KS91/coverage\n",
    "FD_INP=${FD_INP}/fcc_astarr_macs/astarr_macs_input_union/overlap_fragment_one2one\n",
    "FN_INP=\"ASTARRseq_K562_KS91.hg38.Output.rep1.WGS.unstranded.bed.gz\"\n",
    "FP_INP=${FD_INP}/${FN_INP}\n",
    "\n",
    "zcat ${FP_INP} | head"
   ]
  },
  {
   "cell_type": "code",
   "execution_count": 6,
   "id": "76f9df6c-6f7d-48f0-8301-eba3fd0f1abd",
   "metadata": {},
   "outputs": [
    {
     "name": "stdout",
     "output_type": "stream",
     "text": [
      "chr1\t10015\t10442\t6\t7\n",
      "chr1\t14253\t14645\t8\t8\n",
      "chr1\t16015\t16477\t11\t15\n",
      "chr1\t17237\t17772\t7\t7\n",
      "chr1\t28903\t29613\t12\t12\n",
      "chr1\t30803\t31072\t14\t14\n",
      "chr1\t101603\t101849\t9\t9\n",
      "chr1\t115411\t115986\t33\t33\n"
     ]
    }
   ],
   "source": [
    "FD_INP=${FD_RES}/assay_fcc/STARR_ATAC_K562_Reddy_KS91/coverage\n",
    "FD_INP=${FD_INP}/fcc_astarr_macs/astarr_macs_input_union/overlap_fragment_one2one\n",
    "FN_INP=\"ASTARRseq_K562_KS91.hg38.Output.rep1.WGS.unstranded.bed.gz\"\n",
    "FP_INP=${FD_INP}/${FN_INP}\n",
    "\n",
    "zcat ${FP_INP} | head -n 100 \\\n",
    "| sort -k7,7 -k8,8n -k9,9n \\\n",
    "| bedtools groupby \\\n",
    "    -g 7-9 \\\n",
    "    -c 4,5 \\\n",
    "    -o count,sum"
   ]
  },
  {
   "cell_type": "code",
   "execution_count": 7,
   "id": "faeb0023-4eed-4449-9684-db5bde55612d",
   "metadata": {},
   "outputs": [
    {
     "name": "stdout",
     "output_type": "stream",
     "text": [
      "chr1\t10033\t10130\tchr1_10033_10130\t1\t.\tchr1\t10015\t10442\t97\n",
      "chr1\t10057\t10233\tchr1_10057_10233\t3\t.\tchr1\t10015\t10442\t176\n",
      "chr1\t10104\t10345\tchr1_10104_10345\t1\t.\tchr1\t10015\t10442\t241\n",
      "chr1\t10116\t10461\tchr1_10116_10461\t1\t.\tchr1\t10015\t10442\t326\n",
      "chr1\t10147\t10430\tchr1_10147_10430\t1\t.\tchr1\t10015\t10442\t283\n",
      "chr1\t10164\t10240\tchr1_10164_10240\t1\t.\tchr1\t10015\t10442\t76\n",
      "chr1\t10231\t10455\tchr1_10231_10455\t1\t.\tchr1\t10015\t10442\t211\n",
      "chr1\t10342\t10461\tchr1_10342_10461\t1\t.\tchr1\t10015\t10442\t100\n",
      "chr1\t10371\t10441\tchr1_10371_10441\t1\t.\tchr1\t10015\t10442\t70\n",
      "chr1\t14096\t14772\tchr1_14096_14772\t1\t.\tchr1\t14253\t14645\t392\n"
     ]
    }
   ],
   "source": [
    "FD_INP=${FD_RES}/assay_fcc/STARR_ATAC_K562_Reddy_KS91/coverage\n",
    "FD_INP=${FD_INP}/fcc_astarr_macs/astarr_macs_input_union/overlap_fragment_one2one\n",
    "FN_INP=\"ASTARRseq_K562_KS91.hg38.Output.rep4.WGS.unstranded.bed.gz\"\n",
    "FP_INP=${FD_INP}/${FN_INP}\n",
    "\n",
    "zcat ${FP_INP} | head"
   ]
  },
  {
   "cell_type": "code",
   "execution_count": 8,
   "id": "89fc60ba-3064-44fc-b01f-9c5455e311d6",
   "metadata": {},
   "outputs": [
    {
     "name": "stdout",
     "output_type": "stream",
     "text": [
      "chr1\t10015\t10442\t9\t11\n",
      "chr1\t14253\t14645\t55\t64\n",
      "chr1\t16015\t16477\t21\t25\n",
      "chr1\t17237\t17772\t15\t17\n"
     ]
    }
   ],
   "source": [
    "FD_INP=${FD_RES}/assay_fcc/STARR_ATAC_K562_Reddy_KS91/coverage\n",
    "FD_INP=${FD_INP}/fcc_astarr_macs/astarr_macs_input_union/overlap_fragment_one2one\n",
    "FN_INP=\"ASTARRseq_K562_KS91.hg38.Output.rep4.WGS.unstranded.bed.gz\"\n",
    "FP_INP=${FD_INP}/${FN_INP}\n",
    "\n",
    "zcat ${FP_INP} | head -n 100 \\\n",
    "| sort -k7,7 -k8,8n -k9,9n \\\n",
    "| bedtools groupby \\\n",
    "    -g 7-9 \\\n",
    "    -c 4,5 \\\n",
    "    -o count,sum"
   ]
  },
  {
   "cell_type": "code",
   "execution_count": null,
   "id": "3150fa72-db6f-4ff8-a76f-759d4d25899e",
   "metadata": {},
   "outputs": [],
   "source": []
  },
  {
   "cell_type": "code",
   "execution_count": null,
   "id": "4c641410-e405-45bf-8de3-e939713b8b3f",
   "metadata": {},
   "outputs": [],
   "source": [
    "FDIRY=${FD_RES}/assay_fcc/STARR_ATAC_K562_Reddy_KS91/coverage/fcc_astarr_macs/astarr_macs_input_union\n",
    "\n",
    "FD_INP=${FDIRY}/overlap_fragment_one2one\n",
    "FN_INP=\"ASTARRseq_K562_KS91.hg38.Output.rep4.WGS.unstranded.bed.gz\"\n",
    "FP_INP=${FD_INP}/${FN_INP}\n",
    "\n",
    "FD_OUT=${FDIRY}/overlap_count_one2one\n",
    "FN_OUT=${FN_INP}\n",
    "FP_OUT=${FD_OUT}/${FN_OUT}\n",
    "\n",
    "mkdir -p ${FD_OUT}\n",
    "zcat ${FP_INP} | head -n 1000 \\\n",
    "| sort -k7,7 -k8,8n -k9,9n \\\n",
    "| bedtools groupby \\\n",
    "    -g 7-9 \\\n",
    "    -c 4,5 \\\n",
    "    -o count,sum"
   ]
  },
  {
   "cell_type": "code",
   "execution_count": null,
   "id": "3f068f80-3772-4aac-ac5f-3807ba996fac",
   "metadata": {},
   "outputs": [],
   "source": []
  }
 ],
 "metadata": {
  "kernelspec": {
   "display_name": "Bash",
   "language": "bash",
   "name": "bash"
  },
  "language_info": {
   "codemirror_mode": "shell",
   "file_extension": ".sh",
   "mimetype": "text/x-sh",
   "name": "bash"
  }
 },
 "nbformat": 4,
 "nbformat_minor": 5
}
