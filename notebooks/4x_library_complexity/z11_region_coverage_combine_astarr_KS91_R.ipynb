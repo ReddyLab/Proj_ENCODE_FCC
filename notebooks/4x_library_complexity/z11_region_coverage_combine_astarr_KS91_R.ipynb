{
 "cells": [
  {
   "cell_type": "raw",
   "id": "36286fd4-a06b-4220-bcc2-6fe6ce2706fc",
   "metadata": {},
   "source": [
    "---\n",
    "title: Region Coverage 11\n",
    "subtitle: Combine counts across samples and generate count matrix (STARR)\n",
    "format:\n",
    "    html:\n",
    "        code-fold:  true\n",
    "        code-tools: true\n",
    "---"
   ]
  },
  {
   "cell_type": "markdown",
   "id": "743dc211-715e-4a36-b38f-1c67a0812068",
   "metadata": {},
   "source": [
    "**Set environment**"
   ]
  },
  {
   "cell_type": "code",
   "execution_count": 1,
   "id": "e8c96568-4e8d-4ba7-8d39-6434b3a595a1",
   "metadata": {},
   "outputs": [
    {
     "name": "stdout",
     "output_type": "stream",
     "text": [
      "You are working on        Singularity \n",
      "BASE DIRECTORY (FD_BASE): /mount \n",
      "REPO DIRECTORY (FD_REPO): /mount/repo \n",
      "WORK DIRECTORY (FD_WORK): /mount/work \n",
      "DATA DIRECTORY (FD_DATA): /mount/data \n",
      "\n",
      "You are working with      ENCODE FCC \n",
      "PATH OF PROJECT (FD_PRJ): /mount/repo/Proj_ENCODE_FCC \n",
      "PROJECT RESULTS (FD_RES): /mount/repo/Proj_ENCODE_FCC/results \n",
      "PROJECT SCRIPTS (FD_EXE): /mount/repo/Proj_ENCODE_FCC/scripts \n",
      "PROJECT DATA    (FD_DAT): /mount/repo/Proj_ENCODE_FCC/data \n",
      "PROJECT NOTE    (FD_NBK): /mount/repo/Proj_ENCODE_FCC/notebooks \n",
      "PROJECT DOCS    (FD_DOC): /mount/repo/Proj_ENCODE_FCC/docs \n",
      "PROJECT LOG     (FD_LOG): /mount/repo/Proj_ENCODE_FCC/log \n",
      "PROJECT APP     (FD_APP): /mount/repo/Proj_ENCODE_FCC/app \n",
      "PROJECT REF     (FD_REF): /mount/repo/Proj_ENCODE_FCC/references \n",
      "\n"
     ]
    }
   ],
   "source": [
    "suppressMessages(suppressWarnings(source(\"../run_config_project_sing.R\")))\n",
    "show_env()"
   ]
  },
  {
   "cell_type": "markdown",
   "id": "46c96b7b-b680-4f33-83ce-479ffbb19999",
   "metadata": {},
   "source": [
    "## Import data"
   ]
  },
  {
   "cell_type": "code",
   "execution_count": 2,
   "id": "debc8071-909c-4c40-bd06-c9c76697c9dd",
   "metadata": {},
   "outputs": [
    {
     "name": "stdout",
     "output_type": "stream",
     "text": [
      "CRISPRi_FlowFISH_K562_Riley_JinWoo \n",
      "CRISPRi_Growth_K562_Gersbach_JinWoo \n",
      "MPRA_Lenti_K562_Nadav_Vikram \n",
      "MPRA_Tiling_K562_Tewhey_Hannah \n",
      "STARR_ATAC_K562_Reddy_KS274 \n",
      "STARR_ATAC_K562_Reddy_KS91 \n",
      "STARR_ATAC_K562_Reddy_KSMerge \n",
      "STARR_WHG_K562_Reddy_A001 \n"
     ]
    }
   ],
   "source": [
    "txt_fdiry = file.path(FD_RES, \"assay_fcc\")\n",
    "vec = dir(txt_fdiry)\n",
    "for (txt in vec) {cat(txt, \"\\n\")}"
   ]
  },
  {
   "cell_type": "code",
   "execution_count": 3,
   "id": "851c17d2-2a3e-4cb7-87e5-279a258a031b",
   "metadata": {},
   "outputs": [
    {
     "name": "stdout",
     "output_type": "stream",
     "text": [
      "atac_ENCFF333TAT \n",
      "atac_ENCFF558BLC \n",
      "atac_ENCFF925CYR \n",
      "atac_ENCFF948AFM \n",
      "dnase_ENCFF185XRG \n",
      "dnase_ENCFF274YGF \n",
      "fcc_astarr_macs_input_overlap \n",
      "fcc_astarr_macs_input_union \n"
     ]
    }
   ],
   "source": [
    "txt_fdiry = file.path(FD_RES, \"region_coverage_fcc\")\n",
    "vec = dir(txt_fdiry)\n",
    "for (txt in vec) {cat(txt, \"\\n\")}"
   ]
  },
  {
   "cell_type": "code",
   "execution_count": 4,
   "id": "604b8e4b-8452-423b-9aa3-981c2e371b60",
   "metadata": {},
   "outputs": [
    {
     "name": "stdout",
     "output_type": "stream",
     "text": [
      "STARR_ATAC_K562_Reddy_KS274 \n",
      "STARR_ATAC_K562_Reddy_KS91 \n",
      "STARR_WHG_K562_Reddy_A001 \n"
     ]
    }
   ],
   "source": [
    "txt_folder = \"fcc_astarr_macs_input_union\"\n",
    "txt_fdiry  = file.path(FD_RES, \"region_coverage_fcc\", txt_folder)\n",
    "vec = dir(txt_fdiry)\n",
    "for (txt in vec) {cat(txt, \"\\n\")}"
   ]
  },
  {
   "cell_type": "code",
   "execution_count": 5,
   "id": "4b2b9faa-948b-4095-a9d6-df6ccf65c482",
   "metadata": {},
   "outputs": [
    {
     "name": "stdout",
     "output_type": "stream",
     "text": [
      "ASTARRseq_K562_KS91.hg38.Input.rep1.WGS.unstranded.bed.gz \n",
      "ASTARRseq_K562_KS91.hg38.Input.rep2.WGS.unstranded.bed.gz \n",
      "ASTARRseq_K562_KS91.hg38.Input.rep3.WGS.unstranded.bed.gz \n",
      "ASTARRseq_K562_KS91.hg38.Input.rep4.WGS.unstranded.bed.gz \n",
      "ASTARRseq_K562_KS91.hg38.Input.rep5.WGS.unstranded.bed.gz \n",
      "ASTARRseq_K562_KS91.hg38.Input.rep6.WGS.unstranded.bed.gz \n",
      "ASTARRseq_K562_KS91.hg38.Output.rep1.WGS.unstranded.bed.gz \n",
      "ASTARRseq_K562_KS91.hg38.Output.rep2.WGS.unstranded.bed.gz \n",
      "ASTARRseq_K562_KS91.hg38.Output.rep3.WGS.unstranded.bed.gz \n",
      "ASTARRseq_K562_KS91.hg38.Output.rep4.WGS.unstranded.bed.gz \n"
     ]
    }
   ],
   "source": [
    "txt_assay  = \"STARR_ATAC_K562_Reddy_KS91\"\n",
    "txt_folder = \"fcc_astarr_macs_input_union\"\n",
    "txt_fdiry  = file.path(FD_RES, \"region_coverage_fcc\", txt_folder, txt_assay, \"overlap_count\")\n",
    "vec = dir(txt_fdiry)\n",
    "for (txt in vec) {cat(txt, \"\\n\")}"
   ]
  },
  {
   "cell_type": "code",
   "execution_count": null,
   "id": "29f00e4a-fe99-4da1-b30c-588809440bc1",
   "metadata": {},
   "outputs": [],
   "source": [
    "txt_assay        = \"STARR_WHG_K562_Reddy_A001\"\n",
    "txt_region_group = \"fcc_astarr_macs\"\n",
    "txt_region_label = \"fcc_astarr_macs_input_union\""
   ]
  },
  {
   "cell_type": "code",
   "execution_count": 14,
   "id": "3e9188ed-76b7-459f-bb2f-b6fc9df14021",
   "metadata": {},
   "outputs": [
    {
     "name": "stdout",
     "output_type": "stream",
     "text": [
      "[1] \"WSTARRseq_K562_A001.hg38.Input.rep1.WGS.unstranded.bed.gz\" \n",
      "[2] \"WSTARRseq_K562_A001.hg38.Input.rep2.WGS.unstranded.bed.gz\" \n",
      "[3] \"WSTARRseq_K562_A001.hg38.Input.rep3.WGS.unstranded.bed.gz\" \n",
      "[4] \"WSTARRseq_K562_A001.hg38.Input.rep4.WGS.unstranded.bed.gz\" \n",
      "[5] \"WSTARRseq_K562_A001.hg38.Output.rep1.WGS.unstranded.bed.gz\"\n",
      "[6] \"WSTARRseq_K562_A001.hg38.Output.rep2.WGS.unstranded.bed.gz\"\n",
      "[7] \"WSTARRseq_K562_A001.hg38.Output.rep3.WGS.unstranded.bed.gz\"\n"
     ]
    }
   ],
   "source": [
    "txt_fdiry = file.path(\n",
    "    FD_RES, \n",
    "    \"region_coverage_fcc\", \n",
    "    txt_region_label, \n",
    "    txt_assay, \n",
    "    \"overlap_count\")\n",
    "\n",
    "vec_txt_fname = dir(txt_fdiry)\n",
    "vec_txt_fpath = file.path(txt_fdiry, vec_txt_fname)\n",
    "print(vec_txt_fname)"
   ]
  },
  {
   "cell_type": "code",
   "execution_count": 16,
   "id": "f99724ab-a835-481e-8dfd-e2fc1c68f1b4",
   "metadata": {},
   "outputs": [
    {
     "data": {
      "text/html": [
       "<style>\n",
       ".list-inline {list-style: none; margin:0; padding: 0}\n",
       ".list-inline>li {display: inline-block}\n",
       ".list-inline>li:not(:last-child)::after {content: \"\\00b7\"; padding: 0 .5ex}\n",
       "</style>\n",
       "<ol class=list-inline><li>'ASTARRseq_K562_KS91.hg38.Input.rep_all.max_overlaps.q5.bed.gz'</li><li>'ASTARRseq_K562_KS91.hg38.Input.rep_all.union.q5.bed.gz'</li><li>'K562.hg38.ASTARR.macs.KS91.input.rep_all.max_overlaps.q5.bed.gz'</li><li>'K562.hg38.ASTARR.macs.KS91.input.rep_all.union.q5.bed.gz'</li><li>'summary'</li></ol>\n"
      ],
      "text/latex": [
       "\\begin{enumerate*}\n",
       "\\item 'ASTARRseq\\_K562\\_KS91.hg38.Input.rep\\_all.max\\_overlaps.q5.bed.gz'\n",
       "\\item 'ASTARRseq\\_K562\\_KS91.hg38.Input.rep\\_all.union.q5.bed.gz'\n",
       "\\item 'K562.hg38.ASTARR.macs.KS91.input.rep\\_all.max\\_overlaps.q5.bed.gz'\n",
       "\\item 'K562.hg38.ASTARR.macs.KS91.input.rep\\_all.union.q5.bed.gz'\n",
       "\\item 'summary'\n",
       "\\end{enumerate*}\n"
      ],
      "text/markdown": [
       "1. 'ASTARRseq_K562_KS91.hg38.Input.rep_all.max_overlaps.q5.bed.gz'\n",
       "2. 'ASTARRseq_K562_KS91.hg38.Input.rep_all.union.q5.bed.gz'\n",
       "3. 'K562.hg38.ASTARR.macs.KS91.input.rep_all.max_overlaps.q5.bed.gz'\n",
       "4. 'K562.hg38.ASTARR.macs.KS91.input.rep_all.union.q5.bed.gz'\n",
       "5. 'summary'\n",
       "\n",
       "\n"
      ],
      "text/plain": [
       "[1] \"ASTARRseq_K562_KS91.hg38.Input.rep_all.max_overlaps.q5.bed.gz\"  \n",
       "[2] \"ASTARRseq_K562_KS91.hg38.Input.rep_all.union.q5.bed.gz\"         \n",
       "[3] \"K562.hg38.ASTARR.macs.KS91.input.rep_all.max_overlaps.q5.bed.gz\"\n",
       "[4] \"K562.hg38.ASTARR.macs.KS91.input.rep_all.union.q5.bed.gz\"       \n",
       "[5] \"summary\"                                                        "
      ]
     },
     "metadata": {},
     "output_type": "display_data"
    }
   ],
   "source": [
    "txt_fdiry  = file.path(FD_RES, \"region\", txt_region_group)\n",
    "dir(txt_fdiry)"
   ]
  },
  {
   "cell_type": "code",
   "execution_count": 22,
   "id": "ebf0e1ce-62a3-4592-9677-60c1c1e888a1",
   "metadata": {},
   "outputs": [
    {
     "name": "stdout",
     "output_type": "stream",
     "text": [
      "                                                  Input.rep1 \n",
      " \"WSTARRseq_K562_A001.hg38.Input.rep1.WGS.unstranded.bed.gz\" \n",
      "                                                  Input.rep2 \n",
      " \"WSTARRseq_K562_A001.hg38.Input.rep2.WGS.unstranded.bed.gz\" \n",
      "                                                  Input.rep3 \n",
      " \"WSTARRseq_K562_A001.hg38.Input.rep3.WGS.unstranded.bed.gz\" \n",
      "                                                  Input.rep4 \n",
      " \"WSTARRseq_K562_A001.hg38.Input.rep4.WGS.unstranded.bed.gz\" \n",
      "                                                 Output.rep1 \n",
      "\"WSTARRseq_K562_A001.hg38.Output.rep1.WGS.unstranded.bed.gz\" \n",
      "                                                 Output.rep2 \n",
      "\"WSTARRseq_K562_A001.hg38.Output.rep2.WGS.unstranded.bed.gz\" \n",
      "                                                 Output.rep3 \n",
      "\"WSTARRseq_K562_A001.hg38.Output.rep3.WGS.unstranded.bed.gz\" \n"
     ]
    }
   ],
   "source": [
    "### set directory for assay metadata\n",
    "txt_fdiry = file.path(FD_RES, \"assay_fcc\", txt_assay, \"fragment_counts\", \"summary\")\n",
    "txt_fname = \"metadata.tsv\"\n",
    "txt_fpath = file.path(txt_fdiry, txt_fname)\n",
    "\n",
    "### read metadata\n",
    "dat_meta = read_tsv(txt_fpath, show_col_types = FALSE)\n",
    "\n",
    "### setup sample names\n",
    "vec1 = dat_meta$FName\n",
    "vec2 = dat_meta$Sample\n",
    "vec_txt_sample = setNames(vec1, vec2)\n",
    "print(vec_txt_sample)"
   ]
  },
  {
   "cell_type": "code",
   "execution_count": 23,
   "id": "d54deb06-2868-44a3-8a8b-46d887633413",
   "metadata": {},
   "outputs": [
    {
     "name": "stdout",
     "output_type": "stream",
     "text": [
      "[1] \"Chrom\"      \"ChromStart\" \"ChromEnd\"   \"Count\"     \n"
     ]
    }
   ],
   "source": [
    "### set directory for region description\n",
    "txt_fdiry  = file.path(FD_RES, \"region\", txt_region_group, \"summary\")\n",
    "txt_fname  = \"description.tsv\"\n",
    "txt_fpath  = file.path(txt_fdiry, txt_fname)\n",
    "\n",
    "### read region description and set column names/types\n",
    "dat = read_tsv(txt_fpath, show_col_types = FALSE)\n",
    "vec = dat$Name\n",
    "vec_txt_cname = c(vec, \"Count\")\n",
    "vec_col_ctype = cols(Count = col_character())\n",
    "print(vec_txt_cname)"
   ]
  },
  {
   "cell_type": "code",
   "execution_count": null,
   "id": "7f0d11a0-3187-4ef9-b391-d6234f138492",
   "metadata": {},
   "outputs": [],
   "source": []
  },
  {
   "cell_type": "code",
   "execution_count": null,
   "id": "f4e2e8d8-e636-4303-8add-84627695df82",
   "metadata": {},
   "outputs": [],
   "source": []
  },
  {
   "cell_type": "markdown",
   "id": "17594673-7f49-4d5d-9004-7f4b3d893460",
   "metadata": {},
   "source": [
    "**Define helper function**"
   ]
  },
  {
   "cell_type": "code",
   "execution_count": 19,
   "id": "f0968e3c-8cad-4fcb-a3dc-a0cb23f2d1f7",
   "metadata": {},
   "outputs": [],
   "source": [
    "### loop through count files and import them\n",
    "lst_dat = lapply(vec_txt_fpath, function(txt_fpath){\n",
    "\n",
    "    ### read table\n",
    "    dat = read_tsv(\n",
    "        txt_fpath, \n",
    "        col_names = vec_txt_cname, \n",
    "        col_types = vec_col_ctype, \n",
    "        show_col_types = FALSE)\n",
    "\n",
    "    ### arrange columns\n",
    "    dat = dat %>% \n",
    "        dplyr::select(Chrom, ChromStart, ChromEnd, Count) %>%\n",
    "        dplyr::mutate(Region = paste0(Chrom, \":\", ChromStart, \"-\", ChromEnd)) %>%\n",
    "        dplyr::mutate(Count  = replace(Count, Count == \".\", \"0\")) %>%\n",
    "        dplyr::mutate(Count  = as.integer(Count)) %>%\n",
    "        dplyr::select(Chrom, ChromStart, ChromEnd, Region, Count) %>%\n",
    "        dplyr::distinct()\n",
    "\n",
    "    ### rename column to include the file name\n",
    "    txt_fname = basename(txt_fpath)\n",
    "    vec = c(\"Chrom\", \"ChromStart\", \"ChromEnd\", \"Region\", txt_fname)\n",
    "    colnames(dat) = vec\n",
    "    \n",
    "    return(dat)\n",
    "})"
   ]
  },
  {
   "cell_type": "code",
   "execution_count": 20,
   "id": "8d11153d-9139-4d4d-a03d-a3a1b8c4b130",
   "metadata": {},
   "outputs": [
    {
     "data": {
      "text/html": [
       "<table class=\"dataframe\">\n",
       "<caption>A tibble: 6 × 5</caption>\n",
       "<thead>\n",
       "\t<tr><th scope=col>Chrom</th><th scope=col>ChromStart</th><th scope=col>ChromEnd</th><th scope=col>Region</th><th scope=col>WSTARRseq_K562_A001.hg38.Input.rep1.WGS.unstranded.bed.gz</th></tr>\n",
       "\t<tr><th scope=col>&lt;chr&gt;</th><th scope=col>&lt;dbl&gt;</th><th scope=col>&lt;dbl&gt;</th><th scope=col>&lt;chr&gt;</th><th scope=col>&lt;int&gt;</th></tr>\n",
       "</thead>\n",
       "<tbody>\n",
       "\t<tr><td>chr1</td><td>10015</td><td>10442</td><td>chr1:10015-10442</td><td>1</td></tr>\n",
       "\t<tr><td>chr1</td><td>14253</td><td>14645</td><td>chr1:14253-14645</td><td>0</td></tr>\n",
       "\t<tr><td>chr1</td><td>16015</td><td>16477</td><td>chr1:16015-16477</td><td>0</td></tr>\n",
       "\t<tr><td>chr1</td><td>17237</td><td>17772</td><td>chr1:17237-17772</td><td>5</td></tr>\n",
       "\t<tr><td>chr1</td><td>28903</td><td>29613</td><td>chr1:28903-29613</td><td>0</td></tr>\n",
       "\t<tr><td>chr1</td><td>30803</td><td>31072</td><td>chr1:30803-31072</td><td>0</td></tr>\n",
       "</tbody>\n",
       "</table>\n"
      ],
      "text/latex": [
       "A tibble: 6 × 5\n",
       "\\begin{tabular}{lllll}\n",
       " Chrom & ChromStart & ChromEnd & Region & WSTARRseq\\_K562\\_A001.hg38.Input.rep1.WGS.unstranded.bed.gz\\\\\n",
       " <chr> & <dbl> & <dbl> & <chr> & <int>\\\\\n",
       "\\hline\n",
       "\t chr1 & 10015 & 10442 & chr1:10015-10442 & 1\\\\\n",
       "\t chr1 & 14253 & 14645 & chr1:14253-14645 & 0\\\\\n",
       "\t chr1 & 16015 & 16477 & chr1:16015-16477 & 0\\\\\n",
       "\t chr1 & 17237 & 17772 & chr1:17237-17772 & 5\\\\\n",
       "\t chr1 & 28903 & 29613 & chr1:28903-29613 & 0\\\\\n",
       "\t chr1 & 30803 & 31072 & chr1:30803-31072 & 0\\\\\n",
       "\\end{tabular}\n"
      ],
      "text/markdown": [
       "\n",
       "A tibble: 6 × 5\n",
       "\n",
       "| Chrom &lt;chr&gt; | ChromStart &lt;dbl&gt; | ChromEnd &lt;dbl&gt; | Region &lt;chr&gt; | WSTARRseq_K562_A001.hg38.Input.rep1.WGS.unstranded.bed.gz &lt;int&gt; |\n",
       "|---|---|---|---|---|\n",
       "| chr1 | 10015 | 10442 | chr1:10015-10442 | 1 |\n",
       "| chr1 | 14253 | 14645 | chr1:14253-14645 | 0 |\n",
       "| chr1 | 16015 | 16477 | chr1:16015-16477 | 0 |\n",
       "| chr1 | 17237 | 17772 | chr1:17237-17772 | 5 |\n",
       "| chr1 | 28903 | 29613 | chr1:28903-29613 | 0 |\n",
       "| chr1 | 30803 | 31072 | chr1:30803-31072 | 0 |\n",
       "\n"
      ],
      "text/plain": [
       "  Chrom ChromStart ChromEnd Region          \n",
       "1 chr1  10015      10442    chr1:10015-10442\n",
       "2 chr1  14253      14645    chr1:14253-14645\n",
       "3 chr1  16015      16477    chr1:16015-16477\n",
       "4 chr1  17237      17772    chr1:17237-17772\n",
       "5 chr1  28903      29613    chr1:28903-29613\n",
       "6 chr1  30803      31072    chr1:30803-31072\n",
       "  WSTARRseq_K562_A001.hg38.Input.rep1.WGS.unstranded.bed.gz\n",
       "1 1                                                        \n",
       "2 0                                                        \n",
       "3 0                                                        \n",
       "4 5                                                        \n",
       "5 0                                                        \n",
       "6 0                                                        "
      ]
     },
     "metadata": {},
     "output_type": "display_data"
    }
   ],
   "source": [
    "dat = lst_dat[[1]]\n",
    "head(dat)"
   ]
  },
  {
   "cell_type": "code",
   "execution_count": 25,
   "id": "5f35071b-bfea-4364-ab21-8ea57fd03a96",
   "metadata": {},
   "outputs": [],
   "source": [
    "fun = function(dat1, dat2){\n",
    "    dat = dplyr::full_join(dat1, dat2, by = c(\"Chrom\", \"ChromStart\", \"ChromEnd\", \"Region\"))\n",
    "    return(dat)\n",
    "}"
   ]
  },
  {
   "cell_type": "code",
   "execution_count": 29,
   "id": "4a77c658-f395-4f52-a9e2-fad226a4623f",
   "metadata": {},
   "outputs": [
    {
     "name": "stdout",
     "output_type": "stream",
     "text": [
      "[1] 246852     11\n"
     ]
    },
    {
     "data": {
      "text/html": [
       "<table class=\"dataframe\">\n",
       "<caption>A tibble: 3 × 11</caption>\n",
       "<thead>\n",
       "\t<tr><th scope=col>Chrom</th><th scope=col>ChromStart</th><th scope=col>ChromEnd</th><th scope=col>Region</th><th scope=col>Input.rep1</th><th scope=col>Input.rep2</th><th scope=col>Input.rep3</th><th scope=col>Input.rep4</th><th scope=col>Output.rep1</th><th scope=col>Output.rep2</th><th scope=col>Output.rep3</th></tr>\n",
       "\t<tr><th scope=col>&lt;chr&gt;</th><th scope=col>&lt;dbl&gt;</th><th scope=col>&lt;dbl&gt;</th><th scope=col>&lt;chr&gt;</th><th scope=col>&lt;int&gt;</th><th scope=col>&lt;int&gt;</th><th scope=col>&lt;int&gt;</th><th scope=col>&lt;int&gt;</th><th scope=col>&lt;int&gt;</th><th scope=col>&lt;int&gt;</th><th scope=col>&lt;int&gt;</th></tr>\n",
       "</thead>\n",
       "<tbody>\n",
       "\t<tr><td>chr1</td><td>10015</td><td>10442</td><td>chr1:10015-10442</td><td>1</td><td>1</td><td>1</td><td> 1</td><td> 0</td><td> 0</td><td> 0</td></tr>\n",
       "\t<tr><td>chr1</td><td>14253</td><td>14645</td><td>chr1:14253-14645</td><td>0</td><td>0</td><td>0</td><td> 0</td><td> 0</td><td> 0</td><td> 1</td></tr>\n",
       "\t<tr><td>chr1</td><td>16015</td><td>16477</td><td>chr1:16015-16477</td><td>0</td><td>6</td><td>9</td><td>12</td><td>20</td><td>14</td><td>33</td></tr>\n",
       "</tbody>\n",
       "</table>\n"
      ],
      "text/latex": [
       "A tibble: 3 × 11\n",
       "\\begin{tabular}{lllllllllll}\n",
       " Chrom & ChromStart & ChromEnd & Region & Input.rep1 & Input.rep2 & Input.rep3 & Input.rep4 & Output.rep1 & Output.rep2 & Output.rep3\\\\\n",
       " <chr> & <dbl> & <dbl> & <chr> & <int> & <int> & <int> & <int> & <int> & <int> & <int>\\\\\n",
       "\\hline\n",
       "\t chr1 & 10015 & 10442 & chr1:10015-10442 & 1 & 1 & 1 &  1 &  0 &  0 &  0\\\\\n",
       "\t chr1 & 14253 & 14645 & chr1:14253-14645 & 0 & 0 & 0 &  0 &  0 &  0 &  1\\\\\n",
       "\t chr1 & 16015 & 16477 & chr1:16015-16477 & 0 & 6 & 9 & 12 & 20 & 14 & 33\\\\\n",
       "\\end{tabular}\n"
      ],
      "text/markdown": [
       "\n",
       "A tibble: 3 × 11\n",
       "\n",
       "| Chrom &lt;chr&gt; | ChromStart &lt;dbl&gt; | ChromEnd &lt;dbl&gt; | Region &lt;chr&gt; | Input.rep1 &lt;int&gt; | Input.rep2 &lt;int&gt; | Input.rep3 &lt;int&gt; | Input.rep4 &lt;int&gt; | Output.rep1 &lt;int&gt; | Output.rep2 &lt;int&gt; | Output.rep3 &lt;int&gt; |\n",
       "|---|---|---|---|---|---|---|---|---|---|---|\n",
       "| chr1 | 10015 | 10442 | chr1:10015-10442 | 1 | 1 | 1 |  1 |  0 |  0 |  0 |\n",
       "| chr1 | 14253 | 14645 | chr1:14253-14645 | 0 | 0 | 0 |  0 |  0 |  0 |  1 |\n",
       "| chr1 | 16015 | 16477 | chr1:16015-16477 | 0 | 6 | 9 | 12 | 20 | 14 | 33 |\n",
       "\n"
      ],
      "text/plain": [
       "  Chrom ChromStart ChromEnd Region           Input.rep1 Input.rep2 Input.rep3\n",
       "1 chr1  10015      10442    chr1:10015-10442 1          1          1         \n",
       "2 chr1  14253      14645    chr1:14253-14645 0          0          0         \n",
       "3 chr1  16015      16477    chr1:16015-16477 0          6          9         \n",
       "  Input.rep4 Output.rep1 Output.rep2 Output.rep3\n",
       "1  1          0           0           0         \n",
       "2  0          0           0           1         \n",
       "3 12         20          14          33         "
      ]
     },
     "metadata": {},
     "output_type": "display_data"
    }
   ],
   "source": [
    "### combine imported counts into a matrix\n",
    "dat_cnt = Reduce(fun, lst_dat)\n",
    "dat_cnt = dplyr::rename(dat_cnt, any_of(vec_txt_sample))\n",
    "\n",
    "print(dim(dat_cnt))\n",
    "head(dat_cnt, 3)"
   ]
  },
  {
   "cell_type": "code",
   "execution_count": 30,
   "id": "2cc707c6-728d-4adc-9132-18f8ed82e8c8",
   "metadata": {},
   "outputs": [
    {
     "name": "stdout",
     "output_type": "stream",
     "text": [
      "[1] 246828     11\n"
     ]
    },
    {
     "data": {
      "text/html": [
       "<table class=\"dataframe\">\n",
       "<caption>A tibble: 3 × 11</caption>\n",
       "<thead>\n",
       "\t<tr><th scope=col>Chrom</th><th scope=col>ChromStart</th><th scope=col>ChromEnd</th><th scope=col>Region</th><th scope=col>Input.rep1</th><th scope=col>Input.rep2</th><th scope=col>Input.rep3</th><th scope=col>Input.rep4</th><th scope=col>Output.rep1</th><th scope=col>Output.rep2</th><th scope=col>Output.rep3</th></tr>\n",
       "\t<tr><th scope=col>&lt;chr&gt;</th><th scope=col>&lt;dbl&gt;</th><th scope=col>&lt;dbl&gt;</th><th scope=col>&lt;chr&gt;</th><th scope=col>&lt;int&gt;</th><th scope=col>&lt;int&gt;</th><th scope=col>&lt;int&gt;</th><th scope=col>&lt;int&gt;</th><th scope=col>&lt;int&gt;</th><th scope=col>&lt;int&gt;</th><th scope=col>&lt;int&gt;</th></tr>\n",
       "</thead>\n",
       "<tbody>\n",
       "\t<tr><td>chr1</td><td>10015</td><td>10442</td><td>chr1:10015-10442</td><td>1</td><td>1</td><td>1</td><td> 1</td><td> 0</td><td> 0</td><td> 0</td></tr>\n",
       "\t<tr><td>chr1</td><td>14253</td><td>14645</td><td>chr1:14253-14645</td><td>0</td><td>0</td><td>0</td><td> 0</td><td> 0</td><td> 0</td><td> 1</td></tr>\n",
       "\t<tr><td>chr1</td><td>16015</td><td>16477</td><td>chr1:16015-16477</td><td>0</td><td>6</td><td>9</td><td>12</td><td>20</td><td>14</td><td>33</td></tr>\n",
       "</tbody>\n",
       "</table>\n"
      ],
      "text/latex": [
       "A tibble: 3 × 11\n",
       "\\begin{tabular}{lllllllllll}\n",
       " Chrom & ChromStart & ChromEnd & Region & Input.rep1 & Input.rep2 & Input.rep3 & Input.rep4 & Output.rep1 & Output.rep2 & Output.rep3\\\\\n",
       " <chr> & <dbl> & <dbl> & <chr> & <int> & <int> & <int> & <int> & <int> & <int> & <int>\\\\\n",
       "\\hline\n",
       "\t chr1 & 10015 & 10442 & chr1:10015-10442 & 1 & 1 & 1 &  1 &  0 &  0 &  0\\\\\n",
       "\t chr1 & 14253 & 14645 & chr1:14253-14645 & 0 & 0 & 0 &  0 &  0 &  0 &  1\\\\\n",
       "\t chr1 & 16015 & 16477 & chr1:16015-16477 & 0 & 6 & 9 & 12 & 20 & 14 & 33\\\\\n",
       "\\end{tabular}\n"
      ],
      "text/markdown": [
       "\n",
       "A tibble: 3 × 11\n",
       "\n",
       "| Chrom &lt;chr&gt; | ChromStart &lt;dbl&gt; | ChromEnd &lt;dbl&gt; | Region &lt;chr&gt; | Input.rep1 &lt;int&gt; | Input.rep2 &lt;int&gt; | Input.rep3 &lt;int&gt; | Input.rep4 &lt;int&gt; | Output.rep1 &lt;int&gt; | Output.rep2 &lt;int&gt; | Output.rep3 &lt;int&gt; |\n",
       "|---|---|---|---|---|---|---|---|---|---|---|\n",
       "| chr1 | 10015 | 10442 | chr1:10015-10442 | 1 | 1 | 1 |  1 |  0 |  0 |  0 |\n",
       "| chr1 | 14253 | 14645 | chr1:14253-14645 | 0 | 0 | 0 |  0 |  0 |  0 |  1 |\n",
       "| chr1 | 16015 | 16477 | chr1:16015-16477 | 0 | 6 | 9 | 12 | 20 | 14 | 33 |\n",
       "\n"
      ],
      "text/plain": [
       "  Chrom ChromStart ChromEnd Region           Input.rep1 Input.rep2 Input.rep3\n",
       "1 chr1  10015      10442    chr1:10015-10442 1          1          1         \n",
       "2 chr1  14253      14645    chr1:14253-14645 0          0          0         \n",
       "3 chr1  16015      16477    chr1:16015-16477 0          6          9         \n",
       "  Input.rep4 Output.rep1 Output.rep2 Output.rep3\n",
       "1  1          0           0           0         \n",
       "2  0          0           0           1         \n",
       "3 12         20          14          33         "
      ]
     },
     "metadata": {},
     "output_type": "display_data"
    }
   ],
   "source": [
    "### combine imported counts into a matrix\n",
    "dat_cnt = Reduce(fun, lst_dat)\n",
    "dat_cnt = dplyr::rename(dat_cnt, any_of(vec_txt_sample))\n",
    "\n",
    "### filter out unaligned reigons\n",
    "mat_cnt = dat_cnt %>%\n",
    "    dplyr::select(-Chrom, -ChromStart, -ChromEnd) %>%\n",
    "    column_to_rownames(var = \"Region\")\n",
    "\n",
    "###\n",
    "vec = apply(mat_cnt, 1, sum)\n",
    "idx = (vec != 0)\n",
    "dat_cnt = dat_cnt[idx,]\n",
    "\n",
    "print(dim(dat_cnt))\n",
    "head(dat_cnt, 3)"
   ]
  },
  {
   "cell_type": "code",
   "execution_count": null,
   "id": "1cc9f0ff-d7e0-41a1-a3aa-b4d962dbda83",
   "metadata": {},
   "outputs": [],
   "source": []
  }
 ],
 "metadata": {
  "kernelspec": {
   "display_name": "R",
   "language": "R",
   "name": "ir"
  },
  "language_info": {
   "codemirror_mode": "r",
   "file_extension": ".r",
   "mimetype": "text/x-r-source",
   "name": "R",
   "pygments_lexer": "r",
   "version": "4.4.0"
  }
 },
 "nbformat": 4,
 "nbformat_minor": 5
}
