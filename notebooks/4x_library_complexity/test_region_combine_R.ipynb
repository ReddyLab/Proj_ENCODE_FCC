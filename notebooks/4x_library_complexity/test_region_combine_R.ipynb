{
 "cells": [
  {
   "cell_type": "raw",
   "id": "f33e6406-66d9-47d2-ba14-feaaafa05082",
   "metadata": {},
   "source": [
    "---\n",
    "title: Region Coverage 02\n",
    "subtitle: Combine coverage for each region set and each assay\n",
    "format:\n",
    "    html:\n",
    "        code-fold:  true\n",
    "        code-tools: true\n",
    "---"
   ]
  },
  {
   "cell_type": "markdown",
   "id": "6f46e730-6d42-4525-ab8e-8eb9a763cd6b",
   "metadata": {},
   "source": [
    "**Set environment**"
   ]
  },
  {
   "cell_type": "code",
   "execution_count": 1,
   "id": "47c0c7a3-49fe-4434-83d9-0cfd4996792b",
   "metadata": {},
   "outputs": [
    {
     "name": "stdout",
     "output_type": "stream",
     "text": [
      "You are working on        Singularity \n",
      "BASE DIRECTORY (FD_BASE): /mount \n",
      "REPO DIRECTORY (FD_REPO): /mount/repo \n",
      "WORK DIRECTORY (FD_WORK): /mount/work \n",
      "DATA DIRECTORY (FD_DATA): /mount/data \n",
      "\n",
      "You are working with      ENCODE FCC \n",
      "PATH OF PROJECT (FD_PRJ): /mount/repo/Proj_CombEffect_ENCODE_FCC \n",
      "PROJECT RESULTS (FD_RES): /mount/repo/Proj_CombEffect_ENCODE_FCC/results \n",
      "PROJECT SCRIPTS (FD_EXE): /mount/repo/Proj_CombEffect_ENCODE_FCC/scripts \n",
      "PROJECT DATA    (FD_DAT): /mount/repo/Proj_CombEffect_ENCODE_FCC/data \n",
      "PROJECT NOTE    (FD_NBK): /mount/repo/Proj_CombEffect_ENCODE_FCC/notebooks \n",
      "PROJECT DOCS    (FD_DOC): /mount/repo/Proj_CombEffect_ENCODE_FCC/docs \n",
      "PROJECT LOG     (FD_LOG): /mount/repo/Proj_CombEffect_ENCODE_FCC/log \n",
      "PROJECT APP     (FD_APP): /mount/repo/Proj_CombEffect_ENCODE_FCC/app \n",
      "PROJECT REF     (FD_REF): /mount/repo/Proj_CombEffect_ENCODE_FCC/references \n",
      "\n"
     ]
    }
   ],
   "source": [
    "suppressMessages(suppressWarnings(source(\"../run_config_project_sing.R\")))\n",
    "show_env()"
   ]
  },
  {
   "cell_type": "markdown",
   "id": "59b3f281-f675-4248-b9d9-d526c3f0e967",
   "metadata": {},
   "source": [
    "## Import data"
   ]
  },
  {
   "cell_type": "code",
   "execution_count": 2,
   "id": "e6bfe41b-6f0a-422f-9aea-80dfa5b73f77",
   "metadata": {},
   "outputs": [
    {
     "data": {
      "text/html": [
       "<table>\n",
       " <thead>\n",
       "  <tr>\n",
       "   <th style=\"text-align:left;\"> FName </th>\n",
       "   <th style=\"text-align:left;\"> Assay </th>\n",
       "   <th style=\"text-align:left;\"> Prefix </th>\n",
       "   <th style=\"text-align:left;\"> Group </th>\n",
       "   <th style=\"text-align:left;\"> Sample </th>\n",
       "  </tr>\n",
       " </thead>\n",
       "<tbody>\n",
       "  <tr>\n",
       "   <td style=\"text-align:left;\"> ASTARRseq_K562_KS91.hg38.Input.rep1.WGS.unstranded.bed.gz </td>\n",
       "   <td style=\"text-align:left;\"> STARR_ATAC_K562_Reddy_KS91 </td>\n",
       "   <td style=\"text-align:left;\"> ASTARRseq_K562_KS91 </td>\n",
       "   <td style=\"text-align:left;\"> Input </td>\n",
       "   <td style=\"text-align:left;\"> Input.rep1 </td>\n",
       "  </tr>\n",
       "  <tr>\n",
       "   <td style=\"text-align:left;\"> ASTARRseq_K562_KS91.hg38.Input.rep2.WGS.unstranded.bed.gz </td>\n",
       "   <td style=\"text-align:left;\"> STARR_ATAC_K562_Reddy_KS91 </td>\n",
       "   <td style=\"text-align:left;\"> ASTARRseq_K562_KS91 </td>\n",
       "   <td style=\"text-align:left;\"> Input </td>\n",
       "   <td style=\"text-align:left;\"> Input.rep2 </td>\n",
       "  </tr>\n",
       "  <tr>\n",
       "   <td style=\"text-align:left;\"> ASTARRseq_K562_KS91.hg38.Input.rep3.WGS.unstranded.bed.gz </td>\n",
       "   <td style=\"text-align:left;\"> STARR_ATAC_K562_Reddy_KS91 </td>\n",
       "   <td style=\"text-align:left;\"> ASTARRseq_K562_KS91 </td>\n",
       "   <td style=\"text-align:left;\"> Input </td>\n",
       "   <td style=\"text-align:left;\"> Input.rep3 </td>\n",
       "  </tr>\n",
       "  <tr>\n",
       "   <td style=\"text-align:left;\"> ASTARRseq_K562_KS91.hg38.Input.rep4.WGS.unstranded.bed.gz </td>\n",
       "   <td style=\"text-align:left;\"> STARR_ATAC_K562_Reddy_KS91 </td>\n",
       "   <td style=\"text-align:left;\"> ASTARRseq_K562_KS91 </td>\n",
       "   <td style=\"text-align:left;\"> Input </td>\n",
       "   <td style=\"text-align:left;\"> Input.rep4 </td>\n",
       "  </tr>\n",
       "  <tr>\n",
       "   <td style=\"text-align:left;\"> ASTARRseq_K562_KS91.hg38.Input.rep5.WGS.unstranded.bed.gz </td>\n",
       "   <td style=\"text-align:left;\"> STARR_ATAC_K562_Reddy_KS91 </td>\n",
       "   <td style=\"text-align:left;\"> ASTARRseq_K562_KS91 </td>\n",
       "   <td style=\"text-align:left;\"> Input </td>\n",
       "   <td style=\"text-align:left;\"> Input.rep5 </td>\n",
       "  </tr>\n",
       "  <tr>\n",
       "   <td style=\"text-align:left;\"> ASTARRseq_K562_KS91.hg38.Input.rep6.WGS.unstranded.bed.gz </td>\n",
       "   <td style=\"text-align:left;\"> STARR_ATAC_K562_Reddy_KS91 </td>\n",
       "   <td style=\"text-align:left;\"> ASTARRseq_K562_KS91 </td>\n",
       "   <td style=\"text-align:left;\"> Input </td>\n",
       "   <td style=\"text-align:left;\"> Input.rep6 </td>\n",
       "  </tr>\n",
       "  <tr>\n",
       "   <td style=\"text-align:left;\"> ASTARRseq_K562_KS91.hg38.Output.rep1.WGS.unstranded.bed.gz </td>\n",
       "   <td style=\"text-align:left;\"> STARR_ATAC_K562_Reddy_KS91 </td>\n",
       "   <td style=\"text-align:left;\"> ASTARRseq_K562_KS91 </td>\n",
       "   <td style=\"text-align:left;\"> Output </td>\n",
       "   <td style=\"text-align:left;\"> Output.rep1 </td>\n",
       "  </tr>\n",
       "  <tr>\n",
       "   <td style=\"text-align:left;\"> ASTARRseq_K562_KS91.hg38.Output.rep2.WGS.unstranded.bed.gz </td>\n",
       "   <td style=\"text-align:left;\"> STARR_ATAC_K562_Reddy_KS91 </td>\n",
       "   <td style=\"text-align:left;\"> ASTARRseq_K562_KS91 </td>\n",
       "   <td style=\"text-align:left;\"> Output </td>\n",
       "   <td style=\"text-align:left;\"> Output.rep2 </td>\n",
       "  </tr>\n",
       "  <tr>\n",
       "   <td style=\"text-align:left;\"> ASTARRseq_K562_KS91.hg38.Output.rep3.WGS.unstranded.bed.gz </td>\n",
       "   <td style=\"text-align:left;\"> STARR_ATAC_K562_Reddy_KS91 </td>\n",
       "   <td style=\"text-align:left;\"> ASTARRseq_K562_KS91 </td>\n",
       "   <td style=\"text-align:left;\"> Output </td>\n",
       "   <td style=\"text-align:left;\"> Output.rep3 </td>\n",
       "  </tr>\n",
       "  <tr>\n",
       "   <td style=\"text-align:left;\"> ASTARRseq_K562_KS91.hg38.Output.rep4.WGS.unstranded.bed.gz </td>\n",
       "   <td style=\"text-align:left;\"> STARR_ATAC_K562_Reddy_KS91 </td>\n",
       "   <td style=\"text-align:left;\"> ASTARRseq_K562_KS91 </td>\n",
       "   <td style=\"text-align:left;\"> Output </td>\n",
       "   <td style=\"text-align:left;\"> Output.rep4 </td>\n",
       "  </tr>\n",
       "</tbody>\n",
       "</table>"
      ]
     },
     "metadata": {},
     "output_type": "display_data"
    }
   ],
   "source": [
    "### init\n",
    "TXT_ASSAY  = \"STARR_ATAC_K562_Reddy_KS91\"\n",
    "\n",
    "### set directory\n",
    "txt_fdiry = file.path(FD_RES, \"assay_fcc\", TXT_ASSAY, \"fragment_counts\", \"summary\")\n",
    "txt_fname = \"metadata.tsv\"\n",
    "txt_fpath = file.path(txt_fdiry, txt_fname)\n",
    "\n",
    "### read table\n",
    "dat = read_tsv(txt_fpath, show_col_types = FALSE)\n",
    "\n",
    "### assign and show\n",
    "dat_metadata_astarr = dat\n",
    "fun_display_table(dat)"
   ]
  },
  {
   "cell_type": "code",
   "execution_count": 3,
   "id": "8acb90dc-f77a-41bd-ab75-868a72e062d3",
   "metadata": {},
   "outputs": [
    {
     "name": "stdout",
     "output_type": "stream",
     "text": [
      "                                                  Input.rep1 \n",
      " \"ASTARRseq_K562_KS91.hg38.Input.rep1.WGS.unstranded.bed.gz\" \n",
      "                                                  Input.rep2 \n",
      " \"ASTARRseq_K562_KS91.hg38.Input.rep2.WGS.unstranded.bed.gz\" \n",
      "                                                  Input.rep3 \n",
      " \"ASTARRseq_K562_KS91.hg38.Input.rep3.WGS.unstranded.bed.gz\" \n",
      "                                                  Input.rep4 \n",
      " \"ASTARRseq_K562_KS91.hg38.Input.rep4.WGS.unstranded.bed.gz\" \n",
      "                                                  Input.rep5 \n",
      " \"ASTARRseq_K562_KS91.hg38.Input.rep5.WGS.unstranded.bed.gz\" \n",
      "                                                  Input.rep6 \n",
      " \"ASTARRseq_K562_KS91.hg38.Input.rep6.WGS.unstranded.bed.gz\" \n",
      "                                                 Output.rep1 \n",
      "\"ASTARRseq_K562_KS91.hg38.Output.rep1.WGS.unstranded.bed.gz\" \n",
      "                                                 Output.rep2 \n",
      "\"ASTARRseq_K562_KS91.hg38.Output.rep2.WGS.unstranded.bed.gz\" \n",
      "                                                 Output.rep3 \n",
      "\"ASTARRseq_K562_KS91.hg38.Output.rep3.WGS.unstranded.bed.gz\" \n",
      "                                                 Output.rep4 \n",
      "\"ASTARRseq_K562_KS91.hg38.Output.rep4.WGS.unstranded.bed.gz\" \n"
     ]
    }
   ],
   "source": [
    "dat  = dat_metadata_astarr\n",
    "vec1 = dat$FName\n",
    "vec2 = dat$Sample\n",
    "\n",
    "vec = setNames(vec1, vec2)\n",
    "vec_txt_sample = vec\n",
    "print(vec)"
   ]
  },
  {
   "cell_type": "code",
   "execution_count": 4,
   "id": "c66d52df-2358-4686-829d-e2c67ae7a933",
   "metadata": {},
   "outputs": [
    {
     "name": "stdout",
     "output_type": "stream",
     "text": [
      "[1] 8 3\n"
     ]
    },
    {
     "data": {
      "text/html": [
       "<table>\n",
       " <thead>\n",
       "  <tr>\n",
       "   <th style=\"text-align:left;\"> Folder </th>\n",
       "   <th style=\"text-align:left;\"> FName </th>\n",
       "   <th style=\"text-align:left;\"> Label </th>\n",
       "  </tr>\n",
       " </thead>\n",
       "<tbody>\n",
       "  <tr>\n",
       "   <td style=\"text-align:left;\"> encode_open_chromatin </td>\n",
       "   <td style=\"text-align:left;\"> K562.hg38.ENCSR000EKS.ENCFF274YGF.DNase.bed.gz </td>\n",
       "   <td style=\"text-align:left;\"> dnase_ENCFF274YGF </td>\n",
       "  </tr>\n",
       "  <tr>\n",
       "   <td style=\"text-align:left;\"> encode_open_chromatin </td>\n",
       "   <td style=\"text-align:left;\"> K562.hg38.ENCSR000EOT.ENCFF185XRG.DNase.bed.gz </td>\n",
       "   <td style=\"text-align:left;\"> dnase_ENCFF185XRG </td>\n",
       "  </tr>\n",
       "  <tr>\n",
       "   <td style=\"text-align:left;\"> encode_open_chromatin </td>\n",
       "   <td style=\"text-align:left;\"> K562.hg38.ENCSR483RKN.ENCFF558BLC.ATAC.bed.gz </td>\n",
       "   <td style=\"text-align:left;\"> atac_ENCFF558BLC </td>\n",
       "  </tr>\n",
       "  <tr>\n",
       "   <td style=\"text-align:left;\"> encode_open_chromatin </td>\n",
       "   <td style=\"text-align:left;\"> K562.hg38.ENCSR483RKN.ENCFF925CYR.ATAC.bed.gz </td>\n",
       "   <td style=\"text-align:left;\"> atac_ENCFF925CYR </td>\n",
       "  </tr>\n",
       "  <tr>\n",
       "   <td style=\"text-align:left;\"> encode_open_chromatin </td>\n",
       "   <td style=\"text-align:left;\"> K562.hg38.ENCSR868FGK.ENCFF333TAT.ATAC.bed.gz </td>\n",
       "   <td style=\"text-align:left;\"> atac_ENCFF333TAT </td>\n",
       "  </tr>\n",
       "  <tr>\n",
       "   <td style=\"text-align:left;\"> encode_open_chromatin </td>\n",
       "   <td style=\"text-align:left;\"> K562.hg38.ENCSR868FGK.ENCFF948AFM.ATAC.bed.gz </td>\n",
       "   <td style=\"text-align:left;\"> atac_ENCFF948AFM </td>\n",
       "  </tr>\n",
       "  <tr>\n",
       "   <td style=\"text-align:left;\"> fcc_astarr_macs </td>\n",
       "   <td style=\"text-align:left;\"> ASTARRseq_K562_KS91.hg38.Input.rep_all.max_overlaps.q5.bed </td>\n",
       "   <td style=\"text-align:left;\"> astarr_macs_input_overlap </td>\n",
       "  </tr>\n",
       "  <tr>\n",
       "   <td style=\"text-align:left;\"> fcc_astarr_macs </td>\n",
       "   <td style=\"text-align:left;\"> ASTARRseq_K562_KS91.hg38.Input.rep_all.union.q5.bed </td>\n",
       "   <td style=\"text-align:left;\"> astarr_macs_input_union </td>\n",
       "  </tr>\n",
       "</tbody>\n",
       "</table>"
      ]
     },
     "metadata": {},
     "output_type": "display_data"
    }
   ],
   "source": [
    "txt_fdiry = file.path(FD_RES, \"region\", \"summary\")\n",
    "txt_fname = \"metadata_region_label.tsv\"\n",
    "txt_fpath = file.path(txt_fdiry, txt_fname)\n",
    "\n",
    "dat = read_tsv(txt_fpath, show_col_types = FALSE)\n",
    "\n",
    "dat_metadata_region = dat\n",
    "print(dim(dat))\n",
    "fun_display_table(dat)"
   ]
  },
  {
   "cell_type": "code",
   "execution_count": 5,
   "id": "7a423d64-031b-45a2-85cd-ca5bb7e2a986",
   "metadata": {},
   "outputs": [
    {
     "data": {
      "text/html": [
       "'fcc_astarr_macs'"
      ],
      "text/latex": [
       "'fcc\\_astarr\\_macs'"
      ],
      "text/markdown": [
       "'fcc_astarr_macs'"
      ],
      "text/plain": [
       "[1] \"fcc_astarr_macs\""
      ]
     },
     "metadata": {},
     "output_type": "display_data"
    }
   ],
   "source": [
    "ASSAY_TYPE=\"assay_fcc\"\n",
    "ASSAY_NAME=\"STARR_ATAC_K562_Reddy_KS91\"\n",
    "txt = file.path(FD_RES, ASSAY_TYPE, ASSAY_NAME, \"coverage\")\n",
    "dir(txt)"
   ]
  },
  {
   "cell_type": "code",
   "execution_count": 6,
   "id": "cb1e8773-6f19-4125-adcc-1f4cb708d200",
   "metadata": {},
   "outputs": [
    {
     "data": {
      "text/html": [
       "<style>\n",
       ".list-inline {list-style: none; margin:0; padding: 0}\n",
       ".list-inline>li {display: inline-block}\n",
       ".list-inline>li:not(:last-child)::after {content: \"\\00b7\"; padding: 0 .5ex}\n",
       "</style>\n",
       "<ol class=list-inline><li>'astarr_macs_input_overlap'</li><li>'astarr_macs_input_union'</li></ol>\n"
      ],
      "text/latex": [
       "\\begin{enumerate*}\n",
       "\\item 'astarr\\_macs\\_input\\_overlap'\n",
       "\\item 'astarr\\_macs\\_input\\_union'\n",
       "\\end{enumerate*}\n"
      ],
      "text/markdown": [
       "1. 'astarr_macs_input_overlap'\n",
       "2. 'astarr_macs_input_union'\n",
       "\n",
       "\n"
      ],
      "text/plain": [
       "[1] \"astarr_macs_input_overlap\" \"astarr_macs_input_union\"  "
      ]
     },
     "metadata": {},
     "output_type": "display_data"
    }
   ],
   "source": [
    "ASSAY_TYPE=\"assay_fcc\"\n",
    "ASSAY_NAME=\"STARR_ATAC_K562_Reddy_KS91\"\n",
    "txt = file.path(FD_RES, ASSAY_TYPE, ASSAY_NAME, \"coverage\", \"fcc_astarr_macs\")\n",
    "dir(txt)"
   ]
  },
  {
   "cell_type": "code",
   "execution_count": null,
   "id": "644761cf-2cdf-439d-9799-e08987bdb061",
   "metadata": {},
   "outputs": [],
   "source": []
  },
  {
   "cell_type": "code",
   "execution_count": null,
   "id": "24352d59-65a4-4e06-8ec5-b3e57c2476e5",
   "metadata": {},
   "outputs": [],
   "source": []
  },
  {
   "cell_type": "code",
   "execution_count": 7,
   "id": "4530b9fb-decc-47a1-ae3f-3df527ea5daa",
   "metadata": {},
   "outputs": [
    {
     "data": {
      "text/html": [
       "<table class=\"dataframe\">\n",
       "<caption>A spec_tbl_df: 3 × 2</caption>\n",
       "<thead>\n",
       "\t<tr><th scope=col>Name</th><th scope=col>Note</th></tr>\n",
       "\t<tr><th scope=col>&lt;chr&gt;</th><th scope=col>&lt;chr&gt;</th></tr>\n",
       "</thead>\n",
       "<tbody>\n",
       "\t<tr><td>Chrom     </td><td>Name of the chromosome                                </td></tr>\n",
       "\t<tr><td>ChromStart</td><td>The starting position of the feature in the chromosome</td></tr>\n",
       "\t<tr><td>ChromEnd  </td><td>The ending position of the feature in the chromosome  </td></tr>\n",
       "</tbody>\n",
       "</table>\n"
      ],
      "text/latex": [
       "A spec\\_tbl\\_df: 3 × 2\n",
       "\\begin{tabular}{ll}\n",
       " Name & Note\\\\\n",
       " <chr> & <chr>\\\\\n",
       "\\hline\n",
       "\t Chrom      & Name of the chromosome                                \\\\\n",
       "\t ChromStart & The starting position of the feature in the chromosome\\\\\n",
       "\t ChromEnd   & The ending position of the feature in the chromosome  \\\\\n",
       "\\end{tabular}\n"
      ],
      "text/markdown": [
       "\n",
       "A spec_tbl_df: 3 × 2\n",
       "\n",
       "| Name &lt;chr&gt; | Note &lt;chr&gt; |\n",
       "|---|---|\n",
       "| Chrom      | Name of the chromosome                                 |\n",
       "| ChromStart | The starting position of the feature in the chromosome |\n",
       "| ChromEnd   | The ending position of the feature in the chromosome   |\n",
       "\n"
      ],
      "text/plain": [
       "  Name       Note                                                  \n",
       "1 Chrom      Name of the chromosome                                \n",
       "2 ChromStart The starting position of the feature in the chromosome\n",
       "3 ChromEnd   The ending position of the feature in the chromosome  "
      ]
     },
     "metadata": {},
     "output_type": "display_data"
    }
   ],
   "source": [
    "txt_folder = \"fcc_astarr_macs\"\n",
    "txt_fdiry  = file.path(FD_RES, \"region\", txt_folder)\n",
    "txt_fname  = \"description.tsv\"\n",
    "txt_fpath  = file.path(txt_fdiry, txt_fname)\n",
    "\n",
    "dat = read_tsv(txt_fpath, show_col_types = FALSE)\n",
    "vec = dat$Name\n",
    "\n",
    "vec_txt_cname = c(vec, \"Count\")\n",
    "dat"
   ]
  },
  {
   "cell_type": "code",
   "execution_count": 8,
   "id": "7a8248b9-f392-43d3-b04a-821c45636580",
   "metadata": {},
   "outputs": [
    {
     "name": "stdout",
     "output_type": "stream",
     "text": [
      " [1] \"ASTARRseq_K562_KS91.hg38.Input.rep1.WGS.unstranded.bed.gz\" \n",
      " [2] \"ASTARRseq_K562_KS91.hg38.Input.rep2.WGS.unstranded.bed.gz\" \n",
      " [3] \"ASTARRseq_K562_KS91.hg38.Input.rep3.WGS.unstranded.bed.gz\" \n",
      " [4] \"ASTARRseq_K562_KS91.hg38.Input.rep4.WGS.unstranded.bed.gz\" \n",
      " [5] \"ASTARRseq_K562_KS91.hg38.Input.rep5.WGS.unstranded.bed.gz\" \n",
      " [6] \"ASTARRseq_K562_KS91.hg38.Input.rep6.WGS.unstranded.bed.gz\" \n",
      " [7] \"ASTARRseq_K562_KS91.hg38.Output.rep1.WGS.unstranded.bed.gz\"\n",
      " [8] \"ASTARRseq_K562_KS91.hg38.Output.rep2.WGS.unstranded.bed.gz\"\n",
      " [9] \"ASTARRseq_K562_KS91.hg38.Output.rep3.WGS.unstranded.bed.gz\"\n",
      "[10] \"ASTARRseq_K562_KS91.hg38.Output.rep4.WGS.unstranded.bed.gz\"\n"
     ]
    }
   ],
   "source": [
    "txt_label = \"astarr_macs_input_union\"\n",
    "txt_fdiry = file.path(FD_RES, ASSAY_TYPE, ASSAY_NAME, \"coverage\", txt_folder, txt_label)\n",
    "\n",
    "vec = dir(txt_fdiry)\n",
    "\n",
    "vec_txt_fname = vec\n",
    "print(vec)"
   ]
  },
  {
   "cell_type": "code",
   "execution_count": 9,
   "id": "3f20ca63-c0b9-424c-9760-c223fe151a99",
   "metadata": {},
   "outputs": [
    {
     "name": "stdout",
     "output_type": "stream",
     "text": [
      "[1] \"ASTARRseq_K562_KS91.hg38.Input.rep1.WGS.unstranded.bed.gz\"\n",
      "[1] \"ASTARRseq_K562_KS91.hg38.Input.rep2.WGS.unstranded.bed.gz\"\n",
      "[1] \"ASTARRseq_K562_KS91.hg38.Input.rep3.WGS.unstranded.bed.gz\"\n",
      "[1] \"ASTARRseq_K562_KS91.hg38.Input.rep4.WGS.unstranded.bed.gz\"\n",
      "[1] \"ASTARRseq_K562_KS91.hg38.Input.rep5.WGS.unstranded.bed.gz\"\n",
      "[1] \"ASTARRseq_K562_KS91.hg38.Input.rep6.WGS.unstranded.bed.gz\"\n",
      "[1] \"ASTARRseq_K562_KS91.hg38.Output.rep1.WGS.unstranded.bed.gz\"\n",
      "[1] \"ASTARRseq_K562_KS91.hg38.Output.rep2.WGS.unstranded.bed.gz\"\n",
      "[1] \"ASTARRseq_K562_KS91.hg38.Output.rep3.WGS.unstranded.bed.gz\"\n",
      "[1] \"ASTARRseq_K562_KS91.hg38.Output.rep4.WGS.unstranded.bed.gz\"\n"
     ]
    }
   ],
   "source": [
    "txt_fdiry = file.path(FD_RES, ASSAY_TYPE, ASSAY_NAME, \"coverage\", txt_folder, txt_label)\n",
    "\n",
    "lst = lapply(vec_txt_fname, function(txt_fname){\n",
    "    print(txt_fname)\n",
    "    txt_fpath = file.path(txt_fdiry, txt_fname)\n",
    "    \n",
    "    dat = read_tsv(txt_fpath, col_names = vec_txt_cname, show_col_types = FALSE)\n",
    "    dat = dat %>% \n",
    "        dplyr::select(Chrom, ChromStart, ChromEnd, Count) %>%\n",
    "        dplyr::mutate(Region = paste0(Chrom, \":\", ChromStart, \"-\", ChromEnd)) %>%\n",
    "        dplyr::mutate(Count  = replace(Count, Count == \".\", \"0\")) %>%\n",
    "        dplyr::mutate(Count  = as.integer(Count)) %>%\n",
    "        dplyr::select(Region, Count)\n",
    "\n",
    "    vec = c(\"Region\", txt_fname)\n",
    "    colnames(dat) = vec\n",
    "    \n",
    "    return(dat)\n",
    "})\n"
   ]
  },
  {
   "cell_type": "code",
   "execution_count": 10,
   "id": "816cb5e1-1b0c-4040-9d0c-a24dd4031607",
   "metadata": {},
   "outputs": [
    {
     "data": {
      "text/html": [
       "<table>\n",
       " <thead>\n",
       "  <tr>\n",
       "   <th style=\"text-align:left;\"> Region </th>\n",
       "   <th style=\"text-align:right;\"> Input.rep1 </th>\n",
       "   <th style=\"text-align:right;\"> Input.rep2 </th>\n",
       "   <th style=\"text-align:right;\"> Input.rep3 </th>\n",
       "   <th style=\"text-align:right;\"> Input.rep4 </th>\n",
       "   <th style=\"text-align:right;\"> Input.rep5 </th>\n",
       "   <th style=\"text-align:right;\"> Input.rep6 </th>\n",
       "   <th style=\"text-align:right;\"> Output.rep1 </th>\n",
       "   <th style=\"text-align:right;\"> Output.rep2 </th>\n",
       "   <th style=\"text-align:right;\"> Output.rep3 </th>\n",
       "   <th style=\"text-align:right;\"> Output.rep4 </th>\n",
       "  </tr>\n",
       " </thead>\n",
       "<tbody>\n",
       "  <tr>\n",
       "   <td style=\"text-align:left;\"> chr1:10015-10442 </td>\n",
       "   <td style=\"text-align:right;\"> 155 </td>\n",
       "   <td style=\"text-align:right;\"> 214 </td>\n",
       "   <td style=\"text-align:right;\"> 257 </td>\n",
       "   <td style=\"text-align:right;\"> 236 </td>\n",
       "   <td style=\"text-align:right;\"> 185 </td>\n",
       "   <td style=\"text-align:right;\"> 214 </td>\n",
       "   <td style=\"text-align:right;\"> 7 </td>\n",
       "   <td style=\"text-align:right;\"> 12 </td>\n",
       "   <td style=\"text-align:right;\"> 4 </td>\n",
       "   <td style=\"text-align:right;\"> 11 </td>\n",
       "  </tr>\n",
       "  <tr>\n",
       "   <td style=\"text-align:left;\"> chr1:14253-14645 </td>\n",
       "   <td style=\"text-align:right;\"> 110 </td>\n",
       "   <td style=\"text-align:right;\"> 144 </td>\n",
       "   <td style=\"text-align:right;\"> 160 </td>\n",
       "   <td style=\"text-align:right;\"> 141 </td>\n",
       "   <td style=\"text-align:right;\"> 130 </td>\n",
       "   <td style=\"text-align:right;\"> 130 </td>\n",
       "   <td style=\"text-align:right;\"> 8 </td>\n",
       "   <td style=\"text-align:right;\"> 26 </td>\n",
       "   <td style=\"text-align:right;\"> 30 </td>\n",
       "   <td style=\"text-align:right;\"> 57 </td>\n",
       "  </tr>\n",
       "  <tr>\n",
       "   <td style=\"text-align:left;\"> chr1:16015-16477 </td>\n",
       "   <td style=\"text-align:right;\"> 141 </td>\n",
       "   <td style=\"text-align:right;\"> 208 </td>\n",
       "   <td style=\"text-align:right;\"> 206 </td>\n",
       "   <td style=\"text-align:right;\"> 190 </td>\n",
       "   <td style=\"text-align:right;\"> 202 </td>\n",
       "   <td style=\"text-align:right;\"> 182 </td>\n",
       "   <td style=\"text-align:right;\"> 9 </td>\n",
       "   <td style=\"text-align:right;\"> 9 </td>\n",
       "   <td style=\"text-align:right;\"> 18 </td>\n",
       "   <td style=\"text-align:right;\"> 23 </td>\n",
       "  </tr>\n",
       "  <tr>\n",
       "   <td style=\"text-align:left;\"> chr1:17237-17772 </td>\n",
       "   <td style=\"text-align:right;\"> 259 </td>\n",
       "   <td style=\"text-align:right;\"> 350 </td>\n",
       "   <td style=\"text-align:right;\"> 399 </td>\n",
       "   <td style=\"text-align:right;\"> 367 </td>\n",
       "   <td style=\"text-align:right;\"> 369 </td>\n",
       "   <td style=\"text-align:right;\"> 331 </td>\n",
       "   <td style=\"text-align:right;\"> 7 </td>\n",
       "   <td style=\"text-align:right;\"> 13 </td>\n",
       "   <td style=\"text-align:right;\"> 23 </td>\n",
       "   <td style=\"text-align:right;\"> 59 </td>\n",
       "  </tr>\n",
       "  <tr>\n",
       "   <td style=\"text-align:left;\"> chr1:28903-29613 </td>\n",
       "   <td style=\"text-align:right;\"> 263 </td>\n",
       "   <td style=\"text-align:right;\"> 338 </td>\n",
       "   <td style=\"text-align:right;\"> 368 </td>\n",
       "   <td style=\"text-align:right;\"> 333 </td>\n",
       "   <td style=\"text-align:right;\"> 352 </td>\n",
       "   <td style=\"text-align:right;\"> 317 </td>\n",
       "   <td style=\"text-align:right;\"> 12 </td>\n",
       "   <td style=\"text-align:right;\"> 18 </td>\n",
       "   <td style=\"text-align:right;\"> 3 </td>\n",
       "   <td style=\"text-align:right;\"> 32 </td>\n",
       "  </tr>\n",
       "  <tr>\n",
       "   <td style=\"text-align:left;\"> chr1:30803-31072 </td>\n",
       "   <td style=\"text-align:right;\"> 82 </td>\n",
       "   <td style=\"text-align:right;\"> 115 </td>\n",
       "   <td style=\"text-align:right;\"> 171 </td>\n",
       "   <td style=\"text-align:right;\"> 136 </td>\n",
       "   <td style=\"text-align:right;\"> 105 </td>\n",
       "   <td style=\"text-align:right;\"> 115 </td>\n",
       "   <td style=\"text-align:right;\"> 13 </td>\n",
       "   <td style=\"text-align:right;\"> 22 </td>\n",
       "   <td style=\"text-align:right;\"> 14 </td>\n",
       "   <td style=\"text-align:right;\"> 33 </td>\n",
       "  </tr>\n",
       "</tbody>\n",
       "</table>"
      ]
     },
     "metadata": {},
     "output_type": "display_data"
    }
   ],
   "source": [
    "fun = function(dat1, dat2){\n",
    "    dat = dplyr::full_join(dat1, dat2, by = \"Region\")\n",
    "    return(dat)\n",
    "}\n",
    "dat = Reduce(fun, lst)\n",
    "dat = dplyr::rename(dat, any_of(vec_txt_sample))\n",
    "fun_display_table(head(dat))"
   ]
  },
  {
   "cell_type": "code",
   "execution_count": 11,
   "id": "fadbec94-f303-4b2b-9d61-a5534bf0d23e",
   "metadata": {},
   "outputs": [
    {
     "data": {
      "text/html": [
       "<table class=\"dataframe\">\n",
       "<caption>A tibble: 6 × 11</caption>\n",
       "<thead>\n",
       "\t<tr><th scope=col>Region</th><th scope=col>Input.rep1</th><th scope=col>Input.rep2</th><th scope=col>Input.rep3</th><th scope=col>Input.rep4</th><th scope=col>Input.rep5</th><th scope=col>Input.rep6</th><th scope=col>Output.rep1</th><th scope=col>Output.rep2</th><th scope=col>Output.rep3</th><th scope=col>Output.rep4</th></tr>\n",
       "\t<tr><th scope=col>&lt;chr&gt;</th><th scope=col>&lt;int&gt;</th><th scope=col>&lt;int&gt;</th><th scope=col>&lt;int&gt;</th><th scope=col>&lt;int&gt;</th><th scope=col>&lt;int&gt;</th><th scope=col>&lt;int&gt;</th><th scope=col>&lt;int&gt;</th><th scope=col>&lt;int&gt;</th><th scope=col>&lt;int&gt;</th><th scope=col>&lt;int&gt;</th></tr>\n",
       "</thead>\n",
       "<tbody>\n",
       "\t<tr><td>chrX:156000382-156003205</td><td>2232</td><td>2835</td><td>3075</td><td>2965</td><td>2708</td><td>2511</td><td>316</td><td>692</td><td>646</td><td>1202</td></tr>\n",
       "\t<tr><td>chrX:156009687-156010227</td><td> 136</td><td> 163</td><td> 194</td><td> 156</td><td> 171</td><td> 161</td><td>  6</td><td>  7</td><td> 12</td><td>  17</td></tr>\n",
       "\t<tr><td>chrX:156016391-156016836</td><td> 146</td><td> 197</td><td> 197</td><td> 186</td><td> 193</td><td> 178</td><td>  4</td><td>  1</td><td>  2</td><td>   2</td></tr>\n",
       "\t<tr><td>chrX:156024950-156025593</td><td> 307</td><td> 381</td><td> 422</td><td> 418</td><td> 408</td><td> 350</td><td> 20</td><td> 46</td><td> 43</td><td> 112</td></tr>\n",
       "\t<tr><td>chrX:156030187-156030740</td><td> 164</td><td> 254</td><td> 249</td><td> 238</td><td> 236</td><td> 187</td><td>  3</td><td>  5</td><td>  3</td><td>   2</td></tr>\n",
       "\t<tr><td>chrY:11215098-11215422  </td><td>   0</td><td>   0</td><td>   0</td><td>   0</td><td>   0</td><td>   0</td><td>  0</td><td>  0</td><td>  0</td><td>   0</td></tr>\n",
       "</tbody>\n",
       "</table>\n"
      ],
      "text/latex": [
       "A tibble: 6 × 11\n",
       "\\begin{tabular}{lllllllllll}\n",
       " Region & Input.rep1 & Input.rep2 & Input.rep3 & Input.rep4 & Input.rep5 & Input.rep6 & Output.rep1 & Output.rep2 & Output.rep3 & Output.rep4\\\\\n",
       " <chr> & <int> & <int> & <int> & <int> & <int> & <int> & <int> & <int> & <int> & <int>\\\\\n",
       "\\hline\n",
       "\t chrX:156000382-156003205 & 2232 & 2835 & 3075 & 2965 & 2708 & 2511 & 316 & 692 & 646 & 1202\\\\\n",
       "\t chrX:156009687-156010227 &  136 &  163 &  194 &  156 &  171 &  161 &   6 &   7 &  12 &   17\\\\\n",
       "\t chrX:156016391-156016836 &  146 &  197 &  197 &  186 &  193 &  178 &   4 &   1 &   2 &    2\\\\\n",
       "\t chrX:156024950-156025593 &  307 &  381 &  422 &  418 &  408 &  350 &  20 &  46 &  43 &  112\\\\\n",
       "\t chrX:156030187-156030740 &  164 &  254 &  249 &  238 &  236 &  187 &   3 &   5 &   3 &    2\\\\\n",
       "\t chrY:11215098-11215422   &    0 &    0 &    0 &    0 &    0 &    0 &   0 &   0 &   0 &    0\\\\\n",
       "\\end{tabular}\n"
      ],
      "text/markdown": [
       "\n",
       "A tibble: 6 × 11\n",
       "\n",
       "| Region &lt;chr&gt; | Input.rep1 &lt;int&gt; | Input.rep2 &lt;int&gt; | Input.rep3 &lt;int&gt; | Input.rep4 &lt;int&gt; | Input.rep5 &lt;int&gt; | Input.rep6 &lt;int&gt; | Output.rep1 &lt;int&gt; | Output.rep2 &lt;int&gt; | Output.rep3 &lt;int&gt; | Output.rep4 &lt;int&gt; |\n",
       "|---|---|---|---|---|---|---|---|---|---|---|\n",
       "| chrX:156000382-156003205 | 2232 | 2835 | 3075 | 2965 | 2708 | 2511 | 316 | 692 | 646 | 1202 |\n",
       "| chrX:156009687-156010227 |  136 |  163 |  194 |  156 |  171 |  161 |   6 |   7 |  12 |   17 |\n",
       "| chrX:156016391-156016836 |  146 |  197 |  197 |  186 |  193 |  178 |   4 |   1 |   2 |    2 |\n",
       "| chrX:156024950-156025593 |  307 |  381 |  422 |  418 |  408 |  350 |  20 |  46 |  43 |  112 |\n",
       "| chrX:156030187-156030740 |  164 |  254 |  249 |  238 |  236 |  187 |   3 |   5 |   3 |    2 |\n",
       "| chrY:11215098-11215422   |    0 |    0 |    0 |    0 |    0 |    0 |   0 |   0 |   0 |    0 |\n",
       "\n"
      ],
      "text/plain": [
       "  Region                   Input.rep1 Input.rep2 Input.rep3 Input.rep4\n",
       "1 chrX:156000382-156003205 2232       2835       3075       2965      \n",
       "2 chrX:156009687-156010227  136        163        194        156      \n",
       "3 chrX:156016391-156016836  146        197        197        186      \n",
       "4 chrX:156024950-156025593  307        381        422        418      \n",
       "5 chrX:156030187-156030740  164        254        249        238      \n",
       "6 chrY:11215098-11215422      0          0          0          0      \n",
       "  Input.rep5 Input.rep6 Output.rep1 Output.rep2 Output.rep3 Output.rep4\n",
       "1 2708       2511       316         692         646         1202       \n",
       "2  171        161         6           7          12           17       \n",
       "3  193        178         4           1           2            2       \n",
       "4  408        350        20          46          43          112       \n",
       "5  236        187         3           5           3            2       \n",
       "6    0          0         0           0           0            0       "
      ]
     },
     "metadata": {},
     "output_type": "display_data"
    }
   ],
   "source": [
    "tail(dat)"
   ]
  },
  {
   "cell_type": "code",
   "execution_count": null,
   "id": "044990ee-883f-4e78-84bb-5be3ab10fb10",
   "metadata": {},
   "outputs": [],
   "source": []
  },
  {
   "cell_type": "code",
   "execution_count": null,
   "id": "ca0e56d0-6b48-4516-85e3-07fabf6e4b67",
   "metadata": {},
   "outputs": [],
   "source": []
  }
 ],
 "metadata": {
  "kernelspec": {
   "display_name": "R",
   "language": "R",
   "name": "ir"
  },
  "language_info": {
   "codemirror_mode": "r",
   "file_extension": ".r",
   "mimetype": "text/x-r-source",
   "name": "R",
   "pygments_lexer": "r",
   "version": "4.3.1"
  }
 },
 "nbformat": 4,
 "nbformat_minor": 5
}
