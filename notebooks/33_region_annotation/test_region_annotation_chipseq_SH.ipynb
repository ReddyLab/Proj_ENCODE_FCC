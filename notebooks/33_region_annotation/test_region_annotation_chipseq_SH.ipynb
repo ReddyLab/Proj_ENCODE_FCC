{
 "cells": [
  {
   "cell_type": "code",
   "execution_count": null,
   "id": "316d53c7-7efc-4cb9-914c-b7afe5d59f73",
   "metadata": {},
   "outputs": [],
   "source": []
  },
  {
   "cell_type": "markdown",
   "id": "1bb013b4-f6f9-49d6-b312-55fb73cbd1b3",
   "metadata": {},
   "source": [
    "**Set environment**"
   ]
  },
  {
   "cell_type": "code",
   "execution_count": 1,
   "id": "867a6ba2-9157-412f-b691-141771a1d82f",
   "metadata": {},
   "outputs": [
    {
     "name": "stdout",
     "output_type": "stream",
     "text": [
      "You are working on             Duke Server: HARDAC\n",
      "BASE DIRECTORY (FD_BASE):      /data/reddylab/Kuei\n",
      "REPO DIRECTORY (FD_REPO):      /data/reddylab/Kuei/repo\n",
      "WORK DIRECTORY (FD_WORK):      /data/reddylab/Kuei/work\n",
      "DATA DIRECTORY (FD_DATA):      /data/reddylab/Kuei/data\n",
      "CONTAINER DIR. (FD_SING):      /data/reddylab/Kuei/container\n",
      "\n",
      "You are working with           ENCODE FCC\n",
      "PATH OF PROJECT (FD_PRJ):      /data/reddylab/Kuei/repo/Proj_ENCODE_FCC\n",
      "PROJECT RESULTS (FD_RES):      /data/reddylab/Kuei/repo/Proj_ENCODE_FCC/results\n",
      "PROJECT SCRIPTS (FD_EXE):      /data/reddylab/Kuei/repo/Proj_ENCODE_FCC/scripts\n",
      "PROJECT DATA    (FD_DAT):      /data/reddylab/Kuei/repo/Proj_ENCODE_FCC/data\n",
      "PROJECT NOTE    (FD_NBK):      /data/reddylab/Kuei/repo/Proj_ENCODE_FCC/notebooks\n",
      "PROJECT DOCS    (FD_DOC):      /data/reddylab/Kuei/repo/Proj_ENCODE_FCC/docs\n",
      "PROJECT LOG     (FD_LOG):      /data/reddylab/Kuei/repo/Proj_ENCODE_FCC/log\n",
      "PROJECT APP     (FD_APP):      /data/reddylab/Kuei/repo/Proj_ENCODE_FCC/app\n",
      "PROJECT REF     (FD_REF):      /data/reddylab/Kuei/repo/Proj_ENCODE_FCC/references\n",
      "PROJECT IMAGE   (FP_PRJ_SIF):  /data/reddylab/Kuei/repo/Proj_ENCODE_FCC/app/singularity_proj_encode_fcc.sif\n",
      "\n"
     ]
    }
   ],
   "source": [
    "source ../run_config_project.sh\n",
    "show_env"
   ]
  },
  {
   "cell_type": "markdown",
   "id": "360c5211-c526-4f11-acc1-10d490cf4d80",
   "metadata": {},
   "source": [
    "## Get data"
   ]
  },
  {
   "cell_type": "code",
   "execution_count": 3,
   "id": "837702b0-b025-4283-84d6-86b511d826f5",
   "metadata": {},
   "outputs": [],
   "source": [
    "### Assay\n",
    "ASSAY_TYPE=assay_fcc\n",
    "ASSAY_NAMES=(\n",
    "    STARR_ATAC_K562_Reddy_KS91\n",
    "    STARR_ATAC_K562_Reddy_KS274\n",
    "    STARR_WHG_K562_Reddy_A001\n",
    "    MPRA_Tiling_K562_Tewhey_Hannah\n",
    ")"
   ]
  },
  {
   "cell_type": "code",
   "execution_count": 9,
   "id": "87a3d638-7258-4f1b-b199-d005aea4d0ca",
   "metadata": {},
   "outputs": [
    {
     "name": "stdout",
     "output_type": "stream",
     "text": [
      "\u001b[0m\u001b[38;5;9mASTARRseq_K562_KS91.hg38.Input.rep_all.max_overlaps.q5.bed.gz\u001b[0m  description.tsv\n",
      "\u001b[38;5;9mASTARRseq_K562_KS91.hg38.Input.rep_all.union.q5.bed.gz\u001b[0m\n"
     ]
    }
   ],
   "source": [
    "FDIRY=${FD_RES}/region/fcc_astarr_macs\n",
    "ls ${FDIRY} "
   ]
  },
  {
   "cell_type": "code",
   "execution_count": null,
   "id": "acfb5495-a450-4f22-a9b5-ed213a071145",
   "metadata": {},
   "outputs": [],
   "source": [
    "FDIRY=${FD_RES}/region/encode_chipseq_subset/summary\n",
    "ls ${FDIRY}"
   ]
  },
  {
   "cell_type": "code",
   "execution_count": 5,
   "id": "cf9e3a1e-55d3-40c9-86c9-7061e2d97cb2",
   "metadata": {},
   "outputs": [
    {
     "name": "stdout",
     "output_type": "stream",
     "text": [
      "description.tsv  metadata.label.tsv\n"
     ]
    }
   ],
   "source": [
    "FDIRY=${FD_RES}/region/encode_chipseq_subset/summary\n",
    "ls ${FDIRY}"
   ]
  },
  {
   "cell_type": "code",
   "execution_count": null,
   "id": "2531b068-eaad-4644-a464-00ea18d9a7ef",
   "metadata": {},
   "outputs": [],
   "source": []
  },
  {
   "cell_type": "code",
   "execution_count": 6,
   "id": "c1367b03-233e-4323-8ba8-5a2957359930",
   "metadata": {},
   "outputs": [
    {
     "name": "stdout",
     "output_type": "stream",
     "text": [
      "Folder\tFName\tLabel\n",
      "encode_chipseq_subset\tK562.hg38.ENCSR000AKP.ENCFF544LXB.ChIPseq.H3K27ac.bed.gz\tchipseq_H3K27ac_ENCFF544LXB\n",
      "encode_chipseq_subset\tK562.hg38.ENCSR000AKQ.ENCFF323WOT.ChIPseq.H3K27me3.bed.gz\tchipseq_H3K27me3_ENCFF323WOT\n",
      "encode_chipseq_subset\tK562.hg38.ENCSR000AKS.ENCFF135ZLM.ChIPseq.H3K4me1.bed.gz\tchipseq_H3K4me1_ENCFF135ZLM\n",
      "encode_chipseq_subset\tK562.hg38.ENCSR000AKT.ENCFF749KLQ.ChIPseq.H3K4me2.bed.gz\tchipseq_H3K4me2_ENCFF749KLQ\n",
      "encode_chipseq_subset\tK562.hg38.ENCSR000BMH.ENCFF398UQZ.ChIPseq.YY1.bed.gz\tchipseq_YY1_ENCFF398UQZ\n",
      "encode_chipseq_subset\tK562.hg38.ENCSR000BMW.ENCFF707MDI.ChIPseq.REST.bed.gz\tchipseq_REST_ENCFF707MDI\n",
      "encode_chipseq_subset\tK562.hg38.ENCSR000EFS.ENCFF190CGV.ChIPseq.JUN.bed.gz\tchipseq_JUN_ENCFF190CGV\n",
      "encode_chipseq_subset\tK562.hg38.ENCSR000EFT.ENCFF657CTC.ChIPseq.GATA1.bed.gz\tchipseq_GATA1_ENCFF657CTC\n",
      "encode_chipseq_subset\tK562.hg38.ENCSR000EFU.ENCFF715WGN.ChIPseq.ELK1.bed.gz\tchipseq_ELK1_ENCFF715WGN\n",
      "encode_chipseq_subset\tK562.hg38.ENCSR000EGE.ENCFF702XPO.ChIPseq.EP300.bed.gz\tchipseq_EP300_ENCFF702XPO\n",
      "encode_chipseq_subset\tK562.hg38.ENCSR000EGM.ENCFF660GHM.ChIPseq.CTCF.bed.gz\tchipseq_CTCF_ENCFF660GHM\n",
      "encode_chipseq_subset\tK562.hg38.ENCSR000EHB.ENCFF852ZRK.ChIPseq.TAL1.bed.gz\tchipseq_TAL1_ENCFF852ZRK\n",
      "encode_chipseq_subset\tK562.hg38.ENCSR004GKA.ENCFF242AOL.ChIPseq.ZEB2.bed.gz\tchipseq_ZEB2_ENCFF242AOL\n",
      "encode_chipseq_subset\tK562.hg38.ENCSR091GVJ.ENCFF627RSK.ChIPseq.ATF1.bed.gz\tchipseq_ATF1_ENCFF627RSK\n",
      "encode_chipseq_subset\tK562.hg38.ENCSR121SPB.ENCFF142ZTD.ChIPseq.KLF10.bed.gz\tchipseq_KLF10_ENCFF142ZTD\n",
      "encode_chipseq_subset\tK562.hg38.ENCSR388QZF.ENCFF355MNE.ChIPseq.POLR2A.bed.gz\tchipseq_POLR2A_ENCFF355MNE\n",
      "encode_chipseq_subset\tK562.hg38.ENCSR552YGL.ENCFF023IFO.ChIPseq.NFE2.bed.gz\tchipseq_NFE2_ENCFF023IFO\n",
      "encode_chipseq_subset\tK562.hg38.ENCSR668LDD.ENCFF885FQN.ChIPseq.H3K4me3.bed.gz\tchipseq_H3K4me3_ENCFF885FQN\n",
      "encode_chipseq_subset\tK562.hg38.ENCSR760UVO.ENCFF488OTN.ChIPseq.KLF16.bed.gz\tchipseq_KLF16_ENCFF488OTN\n",
      "encode_chipseq_subset\tK562.hg38.ENCSR991ELG.ENCFF553GPK.ChIPseq.SP1.bed.gz\tchipseq_SP1_ENCFF553GPK\n",
      "encode_chipseq_subset\tK562.hg38.ENCSR998AJK.ENCFF777PKJ.ChIPseq.NRF1.bed.gz\tchipseq_NRF1_ENCFF777PKJ\n"
     ]
    }
   ],
   "source": [
    "### set directory\n",
    "FDIRY=${FD_RES}/region/encode_chipseq_subset/summary\n",
    "FNAME=metadata.label.tsv\n",
    "FPATH=${FDIRY}/${FNAME}\n",
    "\n",
    "### get table\n",
    "FP_REGION_LABEL=${FPATH}\n",
    "cat ${FPATH}"
   ]
  },
  {
   "cell_type": "markdown",
   "id": "af5a37d5-8a70-455a-a59f-822a73cb3c1b",
   "metadata": {},
   "source": [
    "## Check input"
   ]
  },
  {
   "cell_type": "markdown",
   "id": "bc1a117a-d13c-4edd-b54a-b2593b032851",
   "metadata": {},
   "source": [
    "**Test loop: Region**"
   ]
  },
  {
   "cell_type": "code",
   "execution_count": 4,
   "id": "282bce95-4782-48ee-9f6a-a30954896ba9",
   "metadata": {},
   "outputs": [
    {
     "name": "stdout",
     "output_type": "stream",
     "text": [
      "==============================\n",
      "Region folder: encode_open_chromatin\n",
      "Region label:  dnase_ENCFF274YGF\n",
      "==============================\n",
      "Region folder: encode_open_chromatin\n",
      "Region label:  dnase_ENCFF185XRG\n",
      "==============================\n",
      "Region folder: encode_open_chromatin\n",
      "Region label:  atac_ENCFF558BLC\n",
      "==============================\n",
      "Region folder: encode_open_chromatin\n",
      "Region label:  atac_ENCFF925CYR\n",
      "==============================\n",
      "Region folder: encode_open_chromatin\n",
      "Region label:  atac_ENCFF333TAT\n",
      "==============================\n",
      "Region folder: encode_open_chromatin\n",
      "Region label:  atac_ENCFF948AFM\n",
      "==============================\n",
      "Region folder: fcc_astarr_macs\n",
      "Region label:  astarr_macs_input_overlap\n",
      "==============================\n",
      "Region folder: fcc_astarr_macs\n",
      "Region label:  astarr_macs_input_union\n"
     ]
    }
   ],
   "source": [
    "while read FOLDER_REG FNAME_REG LABEL_REG; do\n",
    "    \n",
    "    ### show progress\n",
    "    echo ==============================\n",
    "    echo \"Region folder:\" ${FOLDER_REG}\n",
    "    echo \"Region label: \" ${LABEL_REG}\n",
    "    \n",
    "    ### Set directory\n",
    "    FD_INP_A=${FD_RES}/region/${FOLDER_REG}\n",
    "    FN_INP_A=${FNAME_REG}\n",
    "    FP_INP_A=${FD_INP_A}/${FN_INP_A}\n",
    "    \n",
    "done < <(cat ${FP_REGION_LABEL} | awk 'NR >=2 {print}')"
   ]
  },
  {
   "cell_type": "markdown",
   "id": "f4ab62de-5d12-477b-83d7-1cda53a75e1a",
   "metadata": {},
   "source": [
    "**Test loop: Assay**"
   ]
  },
  {
   "cell_type": "code",
   "execution_count": 5,
   "id": "81e2f36a-c8fb-44e6-b7f8-2f4e265ab437",
   "metadata": {},
   "outputs": [
    {
     "name": "stdout",
     "output_type": "stream",
     "text": [
      "\u001b[0m\u001b[38;5;27mMPRA_Tiling_K562_Tewhey_Hannah\u001b[0m  \u001b[38;5;27mSTARR_ATAC_K562_Reddy_KS91\u001b[0m\n",
      "\u001b[38;5;27mSTARR_ATAC_K562_Reddy_KS274\u001b[0m     \u001b[38;5;27mSTARR_WHG_K562_Reddy_A001\u001b[0m\n"
     ]
    }
   ],
   "source": [
    "ls /data/reddylab/Kuei/repo/Proj_ENCODE_FCC/results/assay_fcc"
   ]
  },
  {
   "cell_type": "code",
   "execution_count": 5,
   "id": "92a852c7-979b-4925-8864-48d6f315e30a",
   "metadata": {},
   "outputs": [
    {
     "name": "stdout",
     "output_type": "stream",
     "text": [
      "==============================\n",
      "Assay name:  STARR_ATAC_K562_Reddy_KS91\n",
      "ASTARRseq_K562_KS91.hg38.Input.rep1.WGS.unstranded.bed.gz\n",
      "ASTARRseq_K562_KS91.hg38.Input.rep2.WGS.unstranded.bed.gz\n",
      "ASTARRseq_K562_KS91.hg38.Input.rep3.WGS.unstranded.bed.gz\n",
      "ASTARRseq_K562_KS91.hg38.Input.rep4.WGS.unstranded.bed.gz\n",
      "ASTARRseq_K562_KS91.hg38.Input.rep5.WGS.unstranded.bed.gz\n",
      "ASTARRseq_K562_KS91.hg38.Input.rep6.WGS.unstranded.bed.gz\n",
      "ASTARRseq_K562_KS91.hg38.Output.rep1.WGS.unstranded.bed.gz\n",
      "ASTARRseq_K562_KS91.hg38.Output.rep2.WGS.unstranded.bed.gz\n",
      "ASTARRseq_K562_KS91.hg38.Output.rep3.WGS.unstranded.bed.gz\n",
      "ASTARRseq_K562_KS91.hg38.Output.rep4.WGS.unstranded.bed.gz\n",
      "==============================\n",
      "Assay name:  STARR_ATAC_K562_Reddy_KS274\n",
      "ASTARRseq_K562_KS274.hg38.Output.rep1.WGS.unstranded.bed.gz\n",
      "ASTARRseq_K562_KS274.hg38.Output.rep2.WGS.unstranded.bed.gz\n",
      "ASTARRseq_K562_KS274.hg38.Output.rep3.WGS.unstranded.bed.gz\n",
      "==============================\n",
      "Assay name:  STARR_WHG_K562_Reddy_A001\n",
      "WSTARRseq_K562_A001.hg38.Input.rep1.WGS.unstranded.bed.gz\n",
      "WSTARRseq_K562_A001.hg38.Input.rep2.WGS.unstranded.bed.gz\n",
      "WSTARRseq_K562_A001.hg38.Input.rep3.WGS.unstranded.bed.gz\n",
      "WSTARRseq_K562_A001.hg38.Input.rep4.WGS.unstranded.bed.gz\n",
      "WSTARRseq_K562_A001.hg38.Output.rep1.WGS.unstranded.bed.gz\n",
      "WSTARRseq_K562_A001.hg38.Output.rep2.WGS.unstranded.bed.gz\n",
      "WSTARRseq_K562_A001.hg38.Output.rep3.WGS.unstranded.bed.gz\n",
      "==============================\n",
      "Assay name:  MPRA_Tiling_K562_Tewhey_Hannah\n",
      "TMPRA_K562_OL13_20220512.hg38.norm.Input.rep1.stranded_pos.bed.gz\n",
      "TMPRA_K562_OL13_20220512.hg38.norm.Input.rep2.stranded_pos.bed.gz\n",
      "TMPRA_K562_OL13_20220512.hg38.norm.Input.rep3.stranded_pos.bed.gz\n",
      "TMPRA_K562_OL13_20220512.hg38.norm.Input.rep4.stranded_pos.bed.gz\n",
      "TMPRA_K562_OL13_20220512.hg38.norm.Output.rep1.stranded_pos.bed.gz\n",
      "TMPRA_K562_OL13_20220512.hg38.norm.Output.rep2.stranded_pos.bed.gz\n",
      "TMPRA_K562_OL13_20220512.hg38.norm.Output.rep3.stranded_pos.bed.gz\n",
      "TMPRA_K562_OL13_20220512.hg38.norm.Output.rep4.stranded_pos.bed.gz\n",
      "TMPRA_K562_OL13_20220512.hg38.raw.Input.rep1.stranded_pos.bed.gz\n",
      "TMPRA_K562_OL13_20220512.hg38.raw.Input.rep2.stranded_pos.bed.gz\n",
      "TMPRA_K562_OL13_20220512.hg38.raw.Input.rep3.stranded_pos.bed.gz\n",
      "TMPRA_K562_OL13_20220512.hg38.raw.Input.rep4.stranded_pos.bed.gz\n",
      "TMPRA_K562_OL13_20220512.hg38.raw.Output.rep1.stranded_pos.bed.gz\n",
      "TMPRA_K562_OL13_20220512.hg38.raw.Output.rep2.stranded_pos.bed.gz\n",
      "TMPRA_K562_OL13_20220512.hg38.raw.Output.rep3.stranded_pos.bed.gz\n",
      "TMPRA_K562_OL13_20220512.hg38.raw.Output.rep4.stranded_pos.bed.gz\n",
      "TMPRA_K562_OL43_20221003.hg38.norm.Input.rep1.stranded_pos.bed.gz\n",
      "TMPRA_K562_OL43_20221003.hg38.norm.Input.rep2.stranded_pos.bed.gz\n",
      "TMPRA_K562_OL43_20221003.hg38.norm.Input.rep3.stranded_pos.bed.gz\n",
      "TMPRA_K562_OL43_20221003.hg38.norm.Input.rep4.stranded_pos.bed.gz\n",
      "TMPRA_K562_OL43_20221003.hg38.norm.Input.rep5.stranded_pos.bed.gz\n",
      "TMPRA_K562_OL43_20221003.hg38.norm.Input.rep6.stranded_pos.bed.gz\n",
      "TMPRA_K562_OL43_20221003.hg38.norm.Output.rep1.stranded_pos.bed.gz\n",
      "TMPRA_K562_OL43_20221003.hg38.norm.Output.rep2.stranded_pos.bed.gz\n",
      "TMPRA_K562_OL43_20221003.hg38.norm.Output.rep3.stranded_pos.bed.gz\n",
      "TMPRA_K562_OL43_20221003.hg38.norm.Output.rep4.stranded_pos.bed.gz\n",
      "TMPRA_K562_OL43_20221003.hg38.norm.Output.rep5.stranded_pos.bed.gz\n",
      "TMPRA_K562_OL43_20221003.hg38.raw.Input.rep1.stranded_pos.bed.gz\n",
      "TMPRA_K562_OL43_20221003.hg38.raw.Input.rep2.stranded_pos.bed.gz\n",
      "TMPRA_K562_OL43_20221003.hg38.raw.Input.rep3.stranded_pos.bed.gz\n",
      "TMPRA_K562_OL43_20221003.hg38.raw.Input.rep4.stranded_pos.bed.gz\n",
      "TMPRA_K562_OL43_20221003.hg38.raw.Input.rep5.stranded_pos.bed.gz\n",
      "TMPRA_K562_OL43_20221003.hg38.raw.Input.rep6.stranded_pos.bed.gz\n",
      "TMPRA_K562_OL43_20221003.hg38.raw.Output.rep1.stranded_pos.bed.gz\n",
      "TMPRA_K562_OL43_20221003.hg38.raw.Output.rep2.stranded_pos.bed.gz\n",
      "TMPRA_K562_OL43_20221003.hg38.raw.Output.rep3.stranded_pos.bed.gz\n",
      "TMPRA_K562_OL43_20221003.hg38.raw.Output.rep4.stranded_pos.bed.gz\n",
      "TMPRA_K562_OL43_20221003.hg38.raw.Output.rep5.stranded_pos.bed.gz\n",
      "TMPRA_K562_OL45_20220927.hg38.norm.Input.rep1.stranded_pos.bed.gz\n",
      "TMPRA_K562_OL45_20220927.hg38.norm.Input.rep2.stranded_pos.bed.gz\n",
      "TMPRA_K562_OL45_20220927.hg38.norm.Input.rep3.stranded_pos.bed.gz\n",
      "TMPRA_K562_OL45_20220927.hg38.norm.Input.rep4.stranded_pos.bed.gz\n",
      "TMPRA_K562_OL45_20220927.hg38.norm.Output.rep1.stranded_pos.bed.gz\n",
      "TMPRA_K562_OL45_20220927.hg38.norm.Output.rep2.stranded_pos.bed.gz\n",
      "TMPRA_K562_OL45_20220927.hg38.norm.Output.rep3.stranded_pos.bed.gz\n",
      "TMPRA_K562_OL45_20220927.hg38.norm.Output.rep4.stranded_pos.bed.gz\n",
      "TMPRA_K562_OL45_20220927.hg38.raw.Input.rep1.stranded_pos.bed.gz\n",
      "TMPRA_K562_OL45_20220927.hg38.raw.Input.rep2.stranded_pos.bed.gz\n",
      "TMPRA_K562_OL45_20220927.hg38.raw.Input.rep3.stranded_pos.bed.gz\n",
      "TMPRA_K562_OL45_20220927.hg38.raw.Input.rep4.stranded_pos.bed.gz\n",
      "TMPRA_K562_OL45_20220927.hg38.raw.Output.rep1.stranded_pos.bed.gz\n",
      "TMPRA_K562_OL45_20220927.hg38.raw.Output.rep2.stranded_pos.bed.gz\n",
      "TMPRA_K562_OL45_20220927.hg38.raw.Output.rep3.stranded_pos.bed.gz\n",
      "TMPRA_K562_OL45_20220927.hg38.raw.Output.rep4.stranded_pos.bed.gz\n"
     ]
    }
   ],
   "source": [
    "for ASSAY_NAME in ${ASSAY_NAMES[@]}; do\n",
    "    \n",
    "    ### show progress\n",
    "    echo ==============================\n",
    "    echo \"Assay name: \" ${ASSAY_NAME}\n",
    "    \n",
    "    ### Set directory\n",
    "    FD_INP_B=${FD_RES}/${ASSAY_TYPE}/${ASSAY_NAME}/fragment_counts\n",
    "    FP_INPS=($(ls ${FD_INP_B}/*hg38*rep*bed.gz))\n",
    "    \n",
    "    ### loop through each sample\n",
    "    for FP_INP_B in ${FP_INPS[@]}; do\n",
    "        FN_INP_B=$(basename ${FP_INP_B})\n",
    "        echo ${FN_INP_B}\n",
    "    done\n",
    "done"
   ]
  }
 ],
 "metadata": {
  "kernelspec": {
   "display_name": "Bash",
   "language": "bash",
   "name": "bash"
  },
  "language_info": {
   "codemirror_mode": "shell",
   "file_extension": ".sh",
   "mimetype": "text/x-sh",
   "name": "bash"
  }
 },
 "nbformat": 4,
 "nbformat_minor": 5
}
