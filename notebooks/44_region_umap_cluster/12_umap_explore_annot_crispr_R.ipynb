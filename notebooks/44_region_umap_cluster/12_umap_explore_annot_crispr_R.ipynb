{
 "cells": [
  {
   "cell_type": "raw",
   "id": "6b8860e9-bd60-4818-9bf8-ad6f3606d433",
   "metadata": {},
   "source": [
    "---\n",
    "title: Region annotation 11 (ASTARR MACS peaks)\n",
    "subtitle: Summarize annotations (Main)\n",
    "format:\n",
    "    html:\n",
    "        code-fold:  true\n",
    "        code-tools: true\n",
    "---"
   ]
  },
  {
   "cell_type": "markdown",
   "id": "61ee1219-8c6e-4cf7-8592-ad4351e549b8",
   "metadata": {},
   "source": [
    "**Set environment**"
   ]
  },
  {
   "cell_type": "code",
   "execution_count": 1,
   "id": "05687ca6-c7f9-482d-bebd-95c3ac2dc2ba",
   "metadata": {
    "tags": []
   },
   "outputs": [
    {
     "name": "stdout",
     "output_type": "stream",
     "text": [
      "You are working on        Singularity: singularity_proj_encode_fcc \n",
      "BASE DIRECTORY (FD_BASE): /data/reddylab/Kuei \n",
      "REPO DIRECTORY (FD_REPO): /data/reddylab/Kuei/repo \n",
      "WORK DIRECTORY (FD_WORK): /data/reddylab/Kuei/work \n",
      "DATA DIRECTORY (FD_DATA): /data/reddylab/Kuei/data \n",
      "\n",
      "You are working with      ENCODE FCC \n",
      "PATH OF PROJECT (FD_PRJ): /data/reddylab/Kuei/repo/Proj_ENCODE_FCC \n",
      "PROJECT RESULTS (FD_RES): /data/reddylab/Kuei/repo/Proj_ENCODE_FCC/results \n",
      "PROJECT SCRIPTS (FD_EXE): /data/reddylab/Kuei/repo/Proj_ENCODE_FCC/scripts \n",
      "PROJECT DATA    (FD_DAT): /data/reddylab/Kuei/repo/Proj_ENCODE_FCC/data \n",
      "PROJECT NOTE    (FD_NBK): /data/reddylab/Kuei/repo/Proj_ENCODE_FCC/notebooks \n",
      "PROJECT DOCS    (FD_DOC): /data/reddylab/Kuei/repo/Proj_ENCODE_FCC/docs \n",
      "PROJECT LOG     (FD_LOG): /data/reddylab/Kuei/repo/Proj_ENCODE_FCC/log \n",
      "PROJECT REF     (FD_REF): /data/reddylab/Kuei/repo/Proj_ENCODE_FCC/references \n",
      "\n"
     ]
    }
   ],
   "source": [
    "suppressMessages(suppressWarnings(source(\"../run_config_project_sing.R\")))\n",
    "show_env()"
   ]
  },
  {
   "cell_type": "markdown",
   "id": "9c106628-9948-4bac-b990-de20e450edc5",
   "metadata": {},
   "source": [
    "## Import data"
   ]
  },
  {
   "cell_type": "code",
   "execution_count": null,
   "id": "bb640fb1-403f-4777-9dbb-1f34b4215767",
   "metadata": {},
   "outputs": [],
   "source": []
  },
  {
   "cell_type": "code",
   "execution_count": 2,
   "id": "a4539cf6-5a11-4aaa-9e3a-91ab3e8b4a50",
   "metadata": {},
   "outputs": [
    {
     "name": "stdout",
     "output_type": "stream",
     "text": [
      "umap.metric_euclidean.neighbors_070.coverage.encode_chipseq_full_log2p.tsv \n"
     ]
    }
   ],
   "source": [
    "txt_fdiry = file.path(\n",
    "    FD_RES, \n",
    "    \"analysis_umap_cluster_by_coverage\", \n",
    "    \"fcc_astarr_macs_input_overlap\",\n",
    "    \"fcc_starrmpracrispri_vote2\",\n",
    "    \"run_umap\"\n",
    ")\n",
    "vec = dir(txt_fdiry)\n",
    "for (txt in vec){cat(txt, \"\\n\")}"
   ]
  },
  {
   "cell_type": "code",
   "execution_count": 4,
   "id": "a710c0db-e3fd-4d20-85da-34cd103c6cef",
   "metadata": {},
   "outputs": [
    {
     "name": "stdout",
     "output_type": "stream",
     "text": [
      "[1] 33953     3\n"
     ]
    },
    {
     "data": {
      "text/html": [
       "<table class=\"dataframe\">\n",
       "<caption>A tibble: 6 × 3</caption>\n",
       "<thead>\n",
       "\t<tr><th scope=col>UMAP1</th><th scope=col>UMAP2</th><th scope=col>Region</th></tr>\n",
       "\t<tr><th scope=col>&lt;dbl&gt;</th><th scope=col>&lt;dbl&gt;</th><th scope=col>&lt;chr&gt;</th></tr>\n",
       "</thead>\n",
       "<tbody>\n",
       "\t<tr><td>-1.680812</td><td>5.204691</td><td>chr1:605104-605675</td></tr>\n",
       "\t<tr><td> 8.620607</td><td>5.645398</td><td>chr1:778233-779389</td></tr>\n",
       "\t<tr><td>-1.475871</td><td>3.743281</td><td>chr1:818708-819335</td></tr>\n",
       "\t<tr><td> 6.664661</td><td>4.790435</td><td>chr1:826796-828040</td></tr>\n",
       "\t<tr><td> 2.103905</td><td>6.490981</td><td>chr1:842516-843431</td></tr>\n",
       "\t<tr><td> 6.647105</td><td>4.062519</td><td>chr1:903783-905204</td></tr>\n",
       "</tbody>\n",
       "</table>\n"
      ],
      "text/latex": [
       "A tibble: 6 × 3\n",
       "\\begin{tabular}{lll}\n",
       " UMAP1 & UMAP2 & Region\\\\\n",
       " <dbl> & <dbl> & <chr>\\\\\n",
       "\\hline\n",
       "\t -1.680812 & 5.204691 & chr1:605104-605675\\\\\n",
       "\t  8.620607 & 5.645398 & chr1:778233-779389\\\\\n",
       "\t -1.475871 & 3.743281 & chr1:818708-819335\\\\\n",
       "\t  6.664661 & 4.790435 & chr1:826796-828040\\\\\n",
       "\t  2.103905 & 6.490981 & chr1:842516-843431\\\\\n",
       "\t  6.647105 & 4.062519 & chr1:903783-905204\\\\\n",
       "\\end{tabular}\n"
      ],
      "text/markdown": [
       "\n",
       "A tibble: 6 × 3\n",
       "\n",
       "| UMAP1 &lt;dbl&gt; | UMAP2 &lt;dbl&gt; | Region &lt;chr&gt; |\n",
       "|---|---|---|\n",
       "| -1.680812 | 5.204691 | chr1:605104-605675 |\n",
       "|  8.620607 | 5.645398 | chr1:778233-779389 |\n",
       "| -1.475871 | 3.743281 | chr1:818708-819335 |\n",
       "|  6.664661 | 4.790435 | chr1:826796-828040 |\n",
       "|  2.103905 | 6.490981 | chr1:842516-843431 |\n",
       "|  6.647105 | 4.062519 | chr1:903783-905204 |\n",
       "\n"
      ],
      "text/plain": [
       "  UMAP1     UMAP2    Region            \n",
       "1 -1.680812 5.204691 chr1:605104-605675\n",
       "2  8.620607 5.645398 chr1:778233-779389\n",
       "3 -1.475871 3.743281 chr1:818708-819335\n",
       "4  6.664661 4.790435 chr1:826796-828040\n",
       "5  2.103905 6.490981 chr1:842516-843431\n",
       "6  6.647105 4.062519 chr1:903783-905204"
      ]
     },
     "metadata": {},
     "output_type": "display_data"
    }
   ],
   "source": [
    "txt_fdiry = file.path(\n",
    "    FD_RES, \n",
    "    \"analysis_umap_cluster_by_coverage\", \n",
    "    \"fcc_astarr_macs_input_overlap\",\n",
    "    \"fcc_starrmpracrispri_vote2\",\n",
    "    \"run_umap\"\n",
    ")\n",
    "txt_fname = \"umap.metric_euclidean.neighbors_070.coverage.encode_chipseq_full_log2p.tsv\"\n",
    "txt_fpath = file.path(txt_fdiry, txt_fname)\n",
    "\n",
    "dat = read_tsv(txt_fpath, show_col_types = FALSE)\n",
    "#dat = dat %>% dplyr::left_join(mat_region_annot_merge, by = \"Region\")\n",
    "\n",
    "dat_region_umap = dat\n",
    "print(dim(dat))\n",
    "head(dat)"
   ]
  }
 ],
 "metadata": {
  "kernelspec": {
   "display_name": "R",
   "language": "R",
   "name": "ir"
  },
  "language_info": {
   "codemirror_mode": "r",
   "file_extension": ".r",
   "mimetype": "text/x-r-source",
   "name": "R",
   "pygments_lexer": "r",
   "version": "4.4.2"
  }
 },
 "nbformat": 4,
 "nbformat_minor": 5
}
