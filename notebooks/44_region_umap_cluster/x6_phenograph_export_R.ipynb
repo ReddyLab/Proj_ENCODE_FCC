{
 "cells": [
  {
   "cell_type": "raw",
   "id": "1487a30e-1ed3-4997-9557-089733c5d6ad",
   "metadata": {},
   "source": [
    "---\n",
    "title: Region annotation 11 (ASTARR MACS peaks)\n",
    "subtitle: Summarize annotations (Main)\n",
    "format:\n",
    "    html:\n",
    "        code-fold:  true\n",
    "        code-tools: true\n",
    "---"
   ]
  },
  {
   "cell_type": "markdown",
   "id": "8ea81ef5-e5a1-4ebb-9908-b6d05597d8a8",
   "metadata": {},
   "source": [
    "**Set environment**"
   ]
  },
  {
   "cell_type": "code",
   "execution_count": 1,
   "id": "010c2374-562c-41f1-abcc-3a47bff2d539",
   "metadata": {
    "tags": []
   },
   "outputs": [
    {
     "name": "stdout",
     "output_type": "stream",
     "text": [
      "You are working on        Singularity: singularity_proj_encode_fcc \n",
      "BASE DIRECTORY (FD_BASE): /data/reddylab/Kuei \n",
      "REPO DIRECTORY (FD_REPO): /data/reddylab/Kuei/repo \n",
      "WORK DIRECTORY (FD_WORK): /data/reddylab/Kuei/work \n",
      "DATA DIRECTORY (FD_DATA): /data/reddylab/Kuei/data \n",
      "\n",
      "You are working with      ENCODE FCC \n",
      "PATH OF PROJECT (FD_PRJ): /data/reddylab/Kuei/repo/Proj_ENCODE_FCC \n",
      "PROJECT RESULTS (FD_RES): /data/reddylab/Kuei/repo/Proj_ENCODE_FCC/results \n",
      "PROJECT SCRIPTS (FD_EXE): /data/reddylab/Kuei/repo/Proj_ENCODE_FCC/scripts \n",
      "PROJECT DATA    (FD_DAT): /data/reddylab/Kuei/repo/Proj_ENCODE_FCC/data \n",
      "PROJECT NOTE    (FD_NBK): /data/reddylab/Kuei/repo/Proj_ENCODE_FCC/notebooks \n",
      "PROJECT DOCS    (FD_DOC): /data/reddylab/Kuei/repo/Proj_ENCODE_FCC/docs \n",
      "PROJECT LOG     (FD_LOG): /data/reddylab/Kuei/repo/Proj_ENCODE_FCC/log \n",
      "PROJECT REF     (FD_REF): /data/reddylab/Kuei/repo/Proj_ENCODE_FCC/references \n",
      "\n"
     ]
    }
   ],
   "source": [
    "suppressMessages(suppressWarnings(source(\"../run_config_project_sing.R\")))\n",
    "show_env()"
   ]
  },
  {
   "cell_type": "markdown",
   "id": "0c0d9985-4654-4bda-8676-ad25196462ca",
   "metadata": {},
   "source": [
    "## Import data"
   ]
  },
  {
   "cell_type": "code",
   "execution_count": 2,
   "id": "f4a93d33-7a45-4afd-a529-ba3be5eed8b8",
   "metadata": {},
   "outputs": [
    {
     "name": "stdout",
     "output_type": "stream",
     "text": [
      "description.tsv \n",
      "K562.hg38.ENCSR913HQX.ENCFF286VQG.cCREs.label2name.bed.gz \n",
      "K562.hg38.ENCSR913HQX.ENCFF286VQG.cCREs.label2name.PLS_ELS.bed.gz \n",
      "metadata.label.tsv \n"
     ]
    }
   ],
   "source": [
    "txt_fdiry = file.path(\n",
    "    FD_RES, \n",
    "    \"region\", \n",
    "    \"encode_chromatin_states\",\n",
    "    \"summary\"\n",
    ")\n",
    "vec = dir(txt_fdiry)\n",
    "for (txt in vec){cat(txt, \"\\n\")}"
   ]
  },
  {
   "cell_type": "code",
   "execution_count": 3,
   "id": "61dcd222-cbe6-4bdd-a996-63d209453cc8",
   "metadata": {},
   "outputs": [
    {
     "name": "stdout",
     "output_type": "stream",
     "text": [
      "[1] 2348854      11\n"
     ]
    },
    {
     "data": {
      "text/html": [
       "<table>\n",
       " <thead>\n",
       "  <tr>\n",
       "   <th style=\"text-align:left;\"> X1 </th>\n",
       "   <th style=\"text-align:right;\"> X2 </th>\n",
       "   <th style=\"text-align:right;\"> X3 </th>\n",
       "   <th style=\"text-align:left;\"> X4 </th>\n",
       "   <th style=\"text-align:right;\"> X5 </th>\n",
       "   <th style=\"text-align:left;\"> X6 </th>\n",
       "   <th style=\"text-align:right;\"> X7 </th>\n",
       "   <th style=\"text-align:right;\"> X8 </th>\n",
       "   <th style=\"text-align:left;\"> X9 </th>\n",
       "   <th style=\"text-align:left;\"> X10 </th>\n",
       "   <th style=\"text-align:left;\"> X11 </th>\n",
       "  </tr>\n",
       " </thead>\n",
       "<tbody>\n",
       "  <tr>\n",
       "   <td style=\"text-align:left;\"> chr1 </td>\n",
       "   <td style=\"text-align:right;\"> 10033 </td>\n",
       "   <td style=\"text-align:right;\"> 10250 </td>\n",
       "   <td style=\"text-align:left;\"> Low-DNase </td>\n",
       "   <td style=\"text-align:right;\"> 0 </td>\n",
       "   <td style=\"text-align:left;\"> . </td>\n",
       "   <td style=\"text-align:right;\"> 10033 </td>\n",
       "   <td style=\"text-align:right;\"> 10250 </td>\n",
       "   <td style=\"text-align:left;\"> 225,225,225 </td>\n",
       "   <td style=\"text-align:left;\"> Low-DNase </td>\n",
       "   <td style=\"text-align:left;\"> All-data/Full-classification </td>\n",
       "  </tr>\n",
       "  <tr>\n",
       "   <td style=\"text-align:left;\"> chr1 </td>\n",
       "   <td style=\"text-align:right;\"> 10385 </td>\n",
       "   <td style=\"text-align:right;\"> 10713 </td>\n",
       "   <td style=\"text-align:left;\"> Low-DNase </td>\n",
       "   <td style=\"text-align:right;\"> 0 </td>\n",
       "   <td style=\"text-align:left;\"> . </td>\n",
       "   <td style=\"text-align:right;\"> 10385 </td>\n",
       "   <td style=\"text-align:right;\"> 10713 </td>\n",
       "   <td style=\"text-align:left;\"> 225,225,225 </td>\n",
       "   <td style=\"text-align:left;\"> Low-DNase </td>\n",
       "   <td style=\"text-align:left;\"> All-data/Full-classification </td>\n",
       "  </tr>\n",
       "  <tr>\n",
       "   <td style=\"text-align:left;\"> chr1 </td>\n",
       "   <td style=\"text-align:right;\"> 16097 </td>\n",
       "   <td style=\"text-align:right;\"> 16381 </td>\n",
       "   <td style=\"text-align:left;\"> Low-DNase </td>\n",
       "   <td style=\"text-align:right;\"> 0 </td>\n",
       "   <td style=\"text-align:left;\"> . </td>\n",
       "   <td style=\"text-align:right;\"> 16097 </td>\n",
       "   <td style=\"text-align:right;\"> 16381 </td>\n",
       "   <td style=\"text-align:left;\"> 225,225,225 </td>\n",
       "   <td style=\"text-align:left;\"> Low-DNase </td>\n",
       "   <td style=\"text-align:left;\"> All-data/Full-classification </td>\n",
       "  </tr>\n",
       "  <tr>\n",
       "   <td style=\"text-align:left;\"> chr1 </td>\n",
       "   <td style=\"text-align:right;\"> 17343 </td>\n",
       "   <td style=\"text-align:right;\"> 17642 </td>\n",
       "   <td style=\"text-align:left;\"> Low-DNase </td>\n",
       "   <td style=\"text-align:right;\"> 0 </td>\n",
       "   <td style=\"text-align:left;\"> . </td>\n",
       "   <td style=\"text-align:right;\"> 17343 </td>\n",
       "   <td style=\"text-align:right;\"> 17642 </td>\n",
       "   <td style=\"text-align:left;\"> 225,225,225 </td>\n",
       "   <td style=\"text-align:left;\"> Low-DNase </td>\n",
       "   <td style=\"text-align:left;\"> All-data/Full-classification </td>\n",
       "  </tr>\n",
       "  <tr>\n",
       "   <td style=\"text-align:left;\"> chr1 </td>\n",
       "   <td style=\"text-align:right;\"> 29320 </td>\n",
       "   <td style=\"text-align:right;\"> 29517 </td>\n",
       "   <td style=\"text-align:left;\"> Low-DNase </td>\n",
       "   <td style=\"text-align:right;\"> 0 </td>\n",
       "   <td style=\"text-align:left;\"> . </td>\n",
       "   <td style=\"text-align:right;\"> 29320 </td>\n",
       "   <td style=\"text-align:right;\"> 29517 </td>\n",
       "   <td style=\"text-align:left;\"> 225,225,225 </td>\n",
       "   <td style=\"text-align:left;\"> Low-DNase </td>\n",
       "   <td style=\"text-align:left;\"> All-data/Full-classification </td>\n",
       "  </tr>\n",
       "  <tr>\n",
       "   <td style=\"text-align:left;\"> chr1 </td>\n",
       "   <td style=\"text-align:right;\"> 66350 </td>\n",
       "   <td style=\"text-align:right;\"> 66509 </td>\n",
       "   <td style=\"text-align:left;\"> Low-DNase </td>\n",
       "   <td style=\"text-align:right;\"> 0 </td>\n",
       "   <td style=\"text-align:left;\"> . </td>\n",
       "   <td style=\"text-align:right;\"> 66350 </td>\n",
       "   <td style=\"text-align:right;\"> 66509 </td>\n",
       "   <td style=\"text-align:left;\"> 225,225,225 </td>\n",
       "   <td style=\"text-align:left;\"> Low-DNase </td>\n",
       "   <td style=\"text-align:left;\"> All-data/Full-classification </td>\n",
       "  </tr>\n",
       "</tbody>\n",
       "</table>"
      ]
     },
     "metadata": {},
     "output_type": "display_data"
    }
   ],
   "source": [
    "txt_fdiry = file.path(\n",
    "    FD_RES, \n",
    "    \"region\", \n",
    "    \"encode_chromatin_states\",\n",
    "    \"summary\"\n",
    ")\n",
    "txt_fname = \"K562.hg38.ENCSR913HQX.ENCFF286VQG.cCREs.label2name.bed.gz\"\n",
    "txt_fpath = file.path(txt_fdiry, txt_fname)\n",
    "\n",
    "dat = read_tsv(txt_fpath, col_names = FALSE, show_col_types = FALSE)\n",
    "\n",
    "dat_region_ccres = dat\n",
    "print(dim(dat))\n",
    "fun_display_table(head(dat))"
   ]
  },
  {
   "cell_type": "code",
   "execution_count": 4,
   "id": "486eebbd-48b0-4f3a-ad98-2c4b74fcb86f",
   "metadata": {},
   "outputs": [
    {
     "data": {
      "text/html": [
       "<table class=\"dataframe\">\n",
       "<caption>A tibble: 8 × 2</caption>\n",
       "<thead>\n",
       "\t<tr><th scope=col>X4</th><th scope=col>X9</th></tr>\n",
       "\t<tr><th scope=col>&lt;chr&gt;</th><th scope=col>&lt;chr&gt;</th></tr>\n",
       "</thead>\n",
       "<tbody>\n",
       "\t<tr><td>Low-DNase </td><td>225,225,225</td></tr>\n",
       "\t<tr><td>CA-CTCF   </td><td>0,176,240  </td></tr>\n",
       "\t<tr><td>pELS      </td><td>255,167,0  </td></tr>\n",
       "\t<tr><td>CA-TF     </td><td>190,40,229 </td></tr>\n",
       "\t<tr><td>PLS       </td><td>255,0,0    </td></tr>\n",
       "\t<tr><td>CA-only   </td><td>6,218,147  </td></tr>\n",
       "\t<tr><td>CA-H3K4me3</td><td>255,170,170</td></tr>\n",
       "\t<tr><td>dELS      </td><td>255,205,0  </td></tr>\n",
       "</tbody>\n",
       "</table>\n"
      ],
      "text/latex": [
       "A tibble: 8 × 2\n",
       "\\begin{tabular}{ll}\n",
       " X4 & X9\\\\\n",
       " <chr> & <chr>\\\\\n",
       "\\hline\n",
       "\t Low-DNase  & 225,225,225\\\\\n",
       "\t CA-CTCF    & 0,176,240  \\\\\n",
       "\t pELS       & 255,167,0  \\\\\n",
       "\t CA-TF      & 190,40,229 \\\\\n",
       "\t PLS        & 255,0,0    \\\\\n",
       "\t CA-only    & 6,218,147  \\\\\n",
       "\t CA-H3K4me3 & 255,170,170\\\\\n",
       "\t dELS       & 255,205,0  \\\\\n",
       "\\end{tabular}\n"
      ],
      "text/markdown": [
       "\n",
       "A tibble: 8 × 2\n",
       "\n",
       "| X4 &lt;chr&gt; | X9 &lt;chr&gt; |\n",
       "|---|---|\n",
       "| Low-DNase  | 225,225,225 |\n",
       "| CA-CTCF    | 0,176,240   |\n",
       "| pELS       | 255,167,0   |\n",
       "| CA-TF      | 190,40,229  |\n",
       "| PLS        | 255,0,0     |\n",
       "| CA-only    | 6,218,147   |\n",
       "| CA-H3K4me3 | 255,170,170 |\n",
       "| dELS       | 255,205,0   |\n",
       "\n"
      ],
      "text/plain": [
       "  X4         X9         \n",
       "1 Low-DNase  225,225,225\n",
       "2 CA-CTCF    0,176,240  \n",
       "3 pELS       255,167,0  \n",
       "4 CA-TF      190,40,229 \n",
       "5 PLS        255,0,0    \n",
       "6 CA-only    6,218,147  \n",
       "7 CA-H3K4me3 255,170,170\n",
       "8 dELS       255,205,0  "
      ]
     },
     "metadata": {},
     "output_type": "display_data"
    }
   ],
   "source": [
    "dat = dat_region_ccres\n",
    "dat = dat %>% dplyr::select(X4, X9) %>% dplyr::distinct()\n",
    "dat"
   ]
  },
  {
   "cell_type": "code",
   "execution_count": 5,
   "id": "5a685eef-fd6f-442e-bec8-fd3658c1d446",
   "metadata": {},
   "outputs": [
    {
     "data": {
      "text/html": [
       "<table class=\"dataframe\">\n",
       "<caption>A tibble: 15 × 2</caption>\n",
       "<thead>\n",
       "\t<tr><th scope=col>Label</th><th scope=col>Color</th></tr>\n",
       "\t<tr><th scope=col>&lt;chr&gt;</th><th scope=col>&lt;chr&gt;</th></tr>\n",
       "</thead>\n",
       "<tbody>\n",
       "\t<tr><td>C00</td><td>255,0,0    </td></tr>\n",
       "\t<tr><td>C01</td><td>255,167,0  </td></tr>\n",
       "\t<tr><td>C02</td><td>255,205,0  </td></tr>\n",
       "\t<tr><td>C03</td><td>255,205,0  </td></tr>\n",
       "\t<tr><td>C04</td><td>190,186,218</td></tr>\n",
       "\t<tr><td>C05</td><td>231,138,195</td></tr>\n",
       "\t<tr><td>C06</td><td>0,176,240  </td></tr>\n",
       "\t<tr><td>C07</td><td>229,196,148</td></tr>\n",
       "\t<tr><td>C08</td><td>229,196,148</td></tr>\n",
       "\t<tr><td>C09</td><td>190,186,218</td></tr>\n",
       "\t<tr><td>C10</td><td>255,170,170</td></tr>\n",
       "\t<tr><td>C11</td><td>225,225,225</td></tr>\n",
       "\t<tr><td>C12</td><td>190,40,229 </td></tr>\n",
       "\t<tr><td>C13</td><td>225,225,225</td></tr>\n",
       "\t<tr><td>C14</td><td>225,225,225</td></tr>\n",
       "</tbody>\n",
       "</table>\n"
      ],
      "text/latex": [
       "A tibble: 15 × 2\n",
       "\\begin{tabular}{ll}\n",
       " Label & Color\\\\\n",
       " <chr> & <chr>\\\\\n",
       "\\hline\n",
       "\t C00 & 255,0,0    \\\\\n",
       "\t C01 & 255,167,0  \\\\\n",
       "\t C02 & 255,205,0  \\\\\n",
       "\t C03 & 255,205,0  \\\\\n",
       "\t C04 & 190,186,218\\\\\n",
       "\t C05 & 231,138,195\\\\\n",
       "\t C06 & 0,176,240  \\\\\n",
       "\t C07 & 229,196,148\\\\\n",
       "\t C08 & 229,196,148\\\\\n",
       "\t C09 & 190,186,218\\\\\n",
       "\t C10 & 255,170,170\\\\\n",
       "\t C11 & 225,225,225\\\\\n",
       "\t C12 & 190,40,229 \\\\\n",
       "\t C13 & 225,225,225\\\\\n",
       "\t C14 & 225,225,225\\\\\n",
       "\\end{tabular}\n"
      ],
      "text/markdown": [
       "\n",
       "A tibble: 15 × 2\n",
       "\n",
       "| Label &lt;chr&gt; | Color &lt;chr&gt; |\n",
       "|---|---|\n",
       "| C00 | 255,0,0     |\n",
       "| C01 | 255,167,0   |\n",
       "| C02 | 255,205,0   |\n",
       "| C03 | 255,205,0   |\n",
       "| C04 | 190,186,218 |\n",
       "| C05 | 231,138,195 |\n",
       "| C06 | 0,176,240   |\n",
       "| C07 | 229,196,148 |\n",
       "| C08 | 229,196,148 |\n",
       "| C09 | 190,186,218 |\n",
       "| C10 | 255,170,170 |\n",
       "| C11 | 225,225,225 |\n",
       "| C12 | 190,40,229  |\n",
       "| C13 | 225,225,225 |\n",
       "| C14 | 225,225,225 |\n",
       "\n"
      ],
      "text/plain": [
       "   Label Color      \n",
       "1  C00   255,0,0    \n",
       "2  C01   255,167,0  \n",
       "3  C02   255,205,0  \n",
       "4  C03   255,205,0  \n",
       "5  C04   190,186,218\n",
       "6  C05   231,138,195\n",
       "7  C06   0,176,240  \n",
       "8  C07   229,196,148\n",
       "9  C08   229,196,148\n",
       "10 C09   190,186,218\n",
       "11 C10   255,170,170\n",
       "12 C11   225,225,225\n",
       "13 C12   190,40,229 \n",
       "14 C13   225,225,225\n",
       "15 C14   225,225,225"
      ]
     },
     "metadata": {},
     "output_type": "display_data"
    }
   ],
   "source": [
    "dat = tribble(\n",
    "    ~Label,  ~Color,\n",
    "    \"C00\",   \"255,0,0\",   ### #ff0000; Red\n",
    "    \"C01\",   \"255,167,0\", ### #ffa700; Orange\n",
    "    \"C02\",   \"255,205,0\", ### #ffcd00; Yellow\n",
    "    \"C03\",   \"255,205,0\", ### #ffcd00; Yellow\n",
    "    \"C04\",   \"190,186,218\", ### #bebada; light purple\n",
    "    \"C05\",   \"231,138,195\", ### #e78ac3; pink\n",
    "    \"C06\",   \"0,176,240\",   ### #00b0f0; Blue\n",
    "    \"C07\",   \"229,196,148\", ### #e5c494; light brown\n",
    "    \"C08\",   \"229,196,148\", ### #e5c494; light brown\n",
    "    \"C09\",   \"190,186,218\", ### #bebada; light purple\n",
    "    \"C10\",   \"255,170,170\", ### #ffaaaa; light red\n",
    "    \"C11\",   \"225,225,225\", ### Grey\n",
    "    \"C12\",   \"190,40,229\",  ### #be28e5; Purple\n",
    "    \"C13\",   \"225,225,225\", ### Grey\n",
    "    \"C14\",   \"225,225,225\", ### Grey\n",
    ")\n",
    "dat_label_color = dat\n",
    "dat"
   ]
  },
  {
   "cell_type": "code",
   "execution_count": 6,
   "id": "c6d292f1-c4b5-41d7-8a11-8f505bdbc200",
   "metadata": {},
   "outputs": [
    {
     "name": "stdout",
     "output_type": "stream",
     "text": [
      "[1] 18341     2\n"
     ]
    },
    {
     "data": {
      "text/html": [
       "<table class=\"dataframe\">\n",
       "<caption>A tibble: 6 × 2</caption>\n",
       "<thead>\n",
       "\t<tr><th scope=col>Cluster</th><th scope=col>Region</th></tr>\n",
       "\t<tr><th scope=col>&lt;dbl&gt;</th><th scope=col>&lt;chr&gt;</th></tr>\n",
       "</thead>\n",
       "<tbody>\n",
       "\t<tr><td> 0</td><td>chr1:100036895-100039189</td></tr>\n",
       "\t<tr><td> 0</td><td>chr1:100132375-100133491</td></tr>\n",
       "\t<tr><td> 0</td><td>chr1:100265562-100266994</td></tr>\n",
       "\t<tr><td>13</td><td>chr1:10032429-10033763  </td></tr>\n",
       "\t<tr><td> 0</td><td>chr1:100362769-100363401</td></tr>\n",
       "\t<tr><td> 1</td><td>chr1:100400445-100400762</td></tr>\n",
       "</tbody>\n",
       "</table>\n"
      ],
      "text/latex": [
       "A tibble: 6 × 2\n",
       "\\begin{tabular}{ll}\n",
       " Cluster & Region\\\\\n",
       " <dbl> & <chr>\\\\\n",
       "\\hline\n",
       "\t  0 & chr1:100036895-100039189\\\\\n",
       "\t  0 & chr1:100132375-100133491\\\\\n",
       "\t  0 & chr1:100265562-100266994\\\\\n",
       "\t 13 & chr1:10032429-10033763  \\\\\n",
       "\t  0 & chr1:100362769-100363401\\\\\n",
       "\t  1 & chr1:100400445-100400762\\\\\n",
       "\\end{tabular}\n"
      ],
      "text/markdown": [
       "\n",
       "A tibble: 6 × 2\n",
       "\n",
       "| Cluster &lt;dbl&gt; | Region &lt;chr&gt; |\n",
       "|---|---|\n",
       "|  0 | chr1:100036895-100039189 |\n",
       "|  0 | chr1:100132375-100133491 |\n",
       "|  0 | chr1:100265562-100266994 |\n",
       "| 13 | chr1:10032429-10033763   |\n",
       "|  0 | chr1:100362769-100363401 |\n",
       "|  1 | chr1:100400445-100400762 |\n",
       "\n"
      ],
      "text/plain": [
       "  Cluster Region                  \n",
       "1  0      chr1:100036895-100039189\n",
       "2  0      chr1:100132375-100133491\n",
       "3  0      chr1:100265562-100266994\n",
       "4 13      chr1:10032429-10033763  \n",
       "5  0      chr1:100362769-100363401\n",
       "6  1      chr1:100400445-100400762"
      ]
     },
     "metadata": {},
     "output_type": "display_data"
    }
   ],
   "source": [
    "txt_fdiry = file.path(\n",
    "    FD_RES, \n",
    "    \"analysis_umap_cluster_by_coverage_score\", \n",
    "    \"fcc_astarr_macs_input_overlap\",\n",
    "    \"fcc_starrmpracrispri_vote2\",\n",
    "    \"cluster_phenograph\"\n",
    ")\n",
    "txt_fname = \"cluster.neighbors_070.coverage.encode_chipseq_full_log2p.tsv\"\n",
    "txt_fpath = file.path(txt_fdiry, txt_fname)\n",
    "\n",
    "dat = read_tsv(txt_fpath, show_col_types = FALSE)\n",
    "\n",
    "dat_region_cluster = dat\n",
    "print(dim(dat))\n",
    "head(dat)"
   ]
  },
  {
   "cell_type": "code",
   "execution_count": 10,
   "id": "99e67474-8ec4-42c7-9e6d-dc9c92f3a136",
   "metadata": {},
   "outputs": [
    {
     "name": "stdout",
     "output_type": "stream",
     "text": [
      "[1] 18341     9\n"
     ]
    },
    {
     "data": {
      "text/html": [
       "<table class=\"dataframe\">\n",
       "<caption>A tibble: 6 × 9</caption>\n",
       "<thead>\n",
       "\t<tr><th scope=col>Chrom</th><th scope=col>ChromStart</th><th scope=col>ChromEnd</th><th scope=col>Name</th><th scope=col>Score</th><th scope=col>Strand</th><th scope=col>ThickStart</th><th scope=col>ThickEnd</th><th scope=col>Color</th></tr>\n",
       "\t<tr><th scope=col>&lt;chr&gt;</th><th scope=col>&lt;int&gt;</th><th scope=col>&lt;int&gt;</th><th scope=col>&lt;chr&gt;</th><th scope=col>&lt;dbl&gt;</th><th scope=col>&lt;chr&gt;</th><th scope=col>&lt;int&gt;</th><th scope=col>&lt;int&gt;</th><th scope=col>&lt;chr&gt;</th></tr>\n",
       "</thead>\n",
       "<tbody>\n",
       "\t<tr><td>chr1</td><td> 778233</td><td> 779389</td><td>C00</td><td>0</td><td>.</td><td> 778233</td><td> 779389</td><td>255,0,0    </td></tr>\n",
       "\t<tr><td>chr1</td><td> 958722</td><td> 959968</td><td>C00</td><td>0</td><td>.</td><td> 958722</td><td> 959968</td><td>255,0,0    </td></tr>\n",
       "\t<tr><td>chr1</td><td> 960468</td><td> 961615</td><td>C00</td><td>0</td><td>.</td><td> 960468</td><td> 961615</td><td>255,0,0    </td></tr>\n",
       "\t<tr><td>chr1</td><td>1005094</td><td>1005553</td><td>C01</td><td>0</td><td>.</td><td>1005094</td><td>1005553</td><td>255,167,0  </td></tr>\n",
       "\t<tr><td>chr1</td><td>1013154</td><td>1014482</td><td>C05</td><td>0</td><td>.</td><td>1013154</td><td>1014482</td><td>231,138,195</td></tr>\n",
       "\t<tr><td>chr1</td><td>1059012</td><td>1060137</td><td>C00</td><td>0</td><td>.</td><td>1059012</td><td>1060137</td><td>255,0,0    </td></tr>\n",
       "</tbody>\n",
       "</table>\n"
      ],
      "text/latex": [
       "A tibble: 6 × 9\n",
       "\\begin{tabular}{lllllllll}\n",
       " Chrom & ChromStart & ChromEnd & Name & Score & Strand & ThickStart & ThickEnd & Color\\\\\n",
       " <chr> & <int> & <int> & <chr> & <dbl> & <chr> & <int> & <int> & <chr>\\\\\n",
       "\\hline\n",
       "\t chr1 &  778233 &  779389 & C00 & 0 & . &  778233 &  779389 & 255,0,0    \\\\\n",
       "\t chr1 &  958722 &  959968 & C00 & 0 & . &  958722 &  959968 & 255,0,0    \\\\\n",
       "\t chr1 &  960468 &  961615 & C00 & 0 & . &  960468 &  961615 & 255,0,0    \\\\\n",
       "\t chr1 & 1005094 & 1005553 & C01 & 0 & . & 1005094 & 1005553 & 255,167,0  \\\\\n",
       "\t chr1 & 1013154 & 1014482 & C05 & 0 & . & 1013154 & 1014482 & 231,138,195\\\\\n",
       "\t chr1 & 1059012 & 1060137 & C00 & 0 & . & 1059012 & 1060137 & 255,0,0    \\\\\n",
       "\\end{tabular}\n"
      ],
      "text/markdown": [
       "\n",
       "A tibble: 6 × 9\n",
       "\n",
       "| Chrom &lt;chr&gt; | ChromStart &lt;int&gt; | ChromEnd &lt;int&gt; | Name &lt;chr&gt; | Score &lt;dbl&gt; | Strand &lt;chr&gt; | ThickStart &lt;int&gt; | ThickEnd &lt;int&gt; | Color &lt;chr&gt; |\n",
       "|---|---|---|---|---|---|---|---|---|\n",
       "| chr1 |  778233 |  779389 | C00 | 0 | . |  778233 |  779389 | 255,0,0     |\n",
       "| chr1 |  958722 |  959968 | C00 | 0 | . |  958722 |  959968 | 255,0,0     |\n",
       "| chr1 |  960468 |  961615 | C00 | 0 | . |  960468 |  961615 | 255,0,0     |\n",
       "| chr1 | 1005094 | 1005553 | C01 | 0 | . | 1005094 | 1005553 | 255,167,0   |\n",
       "| chr1 | 1013154 | 1014482 | C05 | 0 | . | 1013154 | 1014482 | 231,138,195 |\n",
       "| chr1 | 1059012 | 1060137 | C00 | 0 | . | 1059012 | 1060137 | 255,0,0     |\n",
       "\n"
      ],
      "text/plain": [
       "  Chrom ChromStart ChromEnd Name Score Strand ThickStart ThickEnd Color      \n",
       "1 chr1   778233     779389  C00  0     .       778233     779389  255,0,0    \n",
       "2 chr1   958722     959968  C00  0     .       958722     959968  255,0,0    \n",
       "3 chr1   960468     961615  C00  0     .       960468     961615  255,0,0    \n",
       "4 chr1  1005094    1005553  C01  0     .      1005094    1005553  255,167,0  \n",
       "5 chr1  1013154    1014482  C05  0     .      1013154    1014482  231,138,195\n",
       "6 chr1  1059012    1060137  C00  0     .      1059012    1060137  255,0,0    "
      ]
     },
     "metadata": {},
     "output_type": "display_data"
    }
   ],
   "source": [
    "###\n",
    "dat = dat_region_cluster \n",
    "dat = dat %>% \n",
    "    tidyr::separate(Region, c(\"Chrom\", \"ChromStart\", \"ChromEnd\"), remove = FALSE) %>%\n",
    "    dplyr::mutate(Label = str_pad(Cluster, width = 2, pad = \"0\")) %>%\n",
    "    dplyr::mutate(Label = paste0(\"C\", Label))\n",
    "\n",
    "###\n",
    "dat = dat %>%\n",
    "    dplyr::mutate(\n",
    "        ChromStart = as.integer(ChromStart), \n",
    "        ChromEnd   = as.integer(ChromEnd), \n",
    "        Name       = Label,\n",
    "        Score      = 0,\n",
    "        Strand     = \".\",\n",
    "        ThickStart = ChromStart,\n",
    "        ThickEnd   = ChromEnd\n",
    "    ) \n",
    "\n",
    "###\n",
    "dat = dat %>%\n",
    "    dplyr::left_join(dat_label_color, by = \"Label\") %>%\n",
    "    #dplyr::select(Chrom, ChromStart, ChromEnd, Name, Score, Strand, ThickStart, ThickEnd, Color, Label) %>%\n",
    "dplyr::select(Chrom, ChromStart, ChromEnd, Name, Score, Strand, ThickStart, ThickEnd, Color) %>%\n",
    "    dplyr::arrange(Chrom, ChromStart, ChromEnd)\n",
    "\n",
    "###\n",
    "dat_region_cluster_arranged = dat\n",
    "print(dim(dat))\n",
    "head(dat)"
   ]
  },
  {
   "cell_type": "code",
   "execution_count": 11,
   "id": "24ea3dbb-997e-4151-aab7-87a68a3eea03",
   "metadata": {},
   "outputs": [],
   "source": [
    "txt_fdiry = file.path(\n",
    "    FD_RES, \n",
    "    \"region\", \n",
    "    \"fcc_table_cluster\",\n",
    "    \"summary\"\n",
    ")\n",
    "txt_fname = \"K562.hg38.fcc_starrmpracrispri_vote2.cluster_total.bed.gz\"\n",
    "txt_fpath = file.path(txt_fdiry, txt_fname)\n",
    "\n",
    "dat = dat_region_cluster_arranged\n",
    "write_tsv(dat, txt_fpath, col_names = FALSE)"
   ]
  },
  {
   "cell_type": "code",
   "execution_count": 12,
   "id": "4cfc09fd-8104-4174-a8e6-4c44ff6dac7b",
   "metadata": {},
   "outputs": [],
   "source": [
    "txt_fdiry = file.path(\n",
    "    FD_RES, \n",
    "    \"region\", \n",
    "    \"fcc_table_cluster\",\n",
    "    \"summary\"\n",
    ")\n",
    "txt_fname = \"K562.hg38.fcc_starrmpracrispri_vote2.cluster_total.bed\"\n",
    "txt_fpath = file.path(txt_fdiry, txt_fname)\n",
    "\n",
    "dat = dat_region_cluster_arranged\n",
    "write_tsv(dat, txt_fpath, col_names = FALSE)"
   ]
  },
  {
   "cell_type": "code",
   "execution_count": null,
   "id": "52c24dda-a357-4bec-a9c9-f86458c4cf3f",
   "metadata": {},
   "outputs": [],
   "source": []
  }
 ],
 "metadata": {
  "kernelspec": {
   "display_name": "R",
   "language": "R",
   "name": "ir"
  },
  "language_info": {
   "codemirror_mode": "r",
   "file_extension": ".r",
   "mimetype": "text/x-r-source",
   "name": "R",
   "pygments_lexer": "r",
   "version": "4.4.2"
  }
 },
 "nbformat": 4,
 "nbformat_minor": 5
}
