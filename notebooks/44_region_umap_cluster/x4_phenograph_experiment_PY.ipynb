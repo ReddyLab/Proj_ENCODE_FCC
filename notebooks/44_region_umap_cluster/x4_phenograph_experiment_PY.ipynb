{
 "cells": [
  {
   "cell_type": "raw",
   "id": "caa734ce-e5a5-4d21-81ab-c6e610c2fc27",
   "metadata": {},
   "source": [
    "---\n",
    "title: Region annotation 11 (ASTARR MACS peaks)\n",
    "subtitle: Summarize annotations (Main)\n",
    "format:\n",
    "    html:\n",
    "        code-fold:  true\n",
    "        code-tools: true\n",
    "---"
   ]
  },
  {
   "cell_type": "markdown",
   "id": "75a973b6-f7a2-41dc-806e-08389f173ee4",
   "metadata": {},
   "source": [
    "**Set environment**"
   ]
  },
  {
   "cell_type": "code",
   "execution_count": 1,
   "id": "0101f436-4cfd-4ba3-9006-4cc1797447b8",
   "metadata": {},
   "outputs": [
    {
     "name": "stdout",
     "output_type": "stream",
     "text": [
      "You are working on        Singularity: singularity_proj_encode_fcc\n",
      "BASE DIRECTORY (FD_BASE): /data/reddylab/Kuei\n",
      "REPO DIRECTORY (FD_REPO): /data/reddylab/Kuei/repo\n",
      "WORK DIRECTORY (FD_WORK): /data/reddylab/Kuei/work\n",
      "DATA DIRECTORY (FD_DATA): /data/reddylab/Kuei/data\n",
      "\n",
      "\n",
      "You are working with      ENCODE FCC\n",
      "PATH OF PROJECT (FD_PRJ): /data/reddylab/Kuei/repo/Proj_ENCODE_FCC\n",
      "PROJECT RESULTS (FD_RES): /data/reddylab/Kuei/repo/Proj_ENCODE_FCC/results\n",
      "PROJECT SCRIPTS (FD_EXE): /data/reddylab/Kuei/repo/Proj_ENCODE_FCC/scripts\n",
      "PROJECT DATA    (FD_DAT): /data/reddylab/Kuei/repo/Proj_ENCODE_FCC/data\n",
      "PROJECT NOTE    (FD_NBK): /data/reddylab/Kuei/repo/Proj_ENCODE_FCC/notebooks\n",
      "PROJECT DOCS    (FD_DOC): /data/reddylab/Kuei/repo/Proj_ENCODE_FCC/docs\n",
      "PROJECT LOG     (FD_LOG): /data/reddylab/Kuei/repo/Proj_ENCODE_FCC/log\n",
      "PROJECT REF     (FD_REF): /data/reddylab/Kuei/repo/Proj_ENCODE_FCC/references\n",
      "\n"
     ]
    }
   ],
   "source": [
    "import numpy  as np\n",
    "import pandas as pd\n",
    "import matplotlib.pyplot as plt\n",
    "import sys, os\n",
    "\n",
    "import umap\n",
    "import phenograph\n",
    "\n",
    "import importlib.util\n",
    "def import_from_file(module_name, file_path):\n",
    "    spec   = importlib.util.spec_from_file_location(module_name, file_path)\n",
    "    module = importlib.util.module_from_spec(spec)\n",
    "    spec.loader.exec_module(module)\n",
    "    return module\n",
    "\n",
    "CONFIG = import_from_file('config', '../run_config_project_sing.py')\n",
    "CONFIG.show_env()"
   ]
  },
  {
   "cell_type": "code",
   "execution_count": 2,
   "id": "01df31cf-f0cc-4f53-9436-f6a59acd66ea",
   "metadata": {},
   "outputs": [
    {
     "data": {
      "text/plain": [
       "'/data/reddylab/Kuei/repo'"
      ]
     },
     "execution_count": 2,
     "metadata": {},
     "output_type": "execute_result"
    }
   ],
   "source": [
    "CONFIG.FD_REPO"
   ]
  },
  {
   "cell_type": "code",
   "execution_count": 3,
   "id": "648af596-17cf-47ba-a91a-1a5dbe2c3fe8",
   "metadata": {},
   "outputs": [
    {
     "data": {
      "text/plain": [
       "'/data/reddylab/Kuei/repo/Proj_ENCODE_FCC'"
      ]
     },
     "execution_count": 3,
     "metadata": {},
     "output_type": "execute_result"
    }
   ],
   "source": [
    "CONFIG.FD_PRJ"
   ]
  },
  {
   "cell_type": "markdown",
   "id": "f5545920-5e7a-48e7-aa60-098e4d5bd88d",
   "metadata": {},
   "source": [
    "## Import data"
   ]
  },
  {
   "cell_type": "code",
   "execution_count": 4,
   "id": "1ecb18e8-0680-4420-94b4-f6083f106034",
   "metadata": {},
   "outputs": [
    {
     "name": "stdout",
     "output_type": "stream",
     "text": [
      "matrix.coverage.encode_chipseq_full_log2p.tsv\n",
      "matrix.coverage.encode_chipseq_full_mean0.tsv\n",
      "matrix.coverage.encode_chipseq_full_zscore.fcc_zscore.tss.tsv\n",
      "matrix.coverage.encode_chipseq_full_zscore.fcc_zscore.tsv\n",
      "matrix.coverage.encode_chipseq_full_zscore.tsv\n",
      "matrix.coverage.fcc_zscore.tsv\n"
     ]
    }
   ],
   "source": [
    "txt_fdiry = os.path.join(\n",
    "    CONFIG.FD_RES, \n",
    "    \"analysis_umap_cluster_by_coverage_score\", \n",
    "    \"fcc_astarr_macs_input_overlap\",\n",
    "    \"fcc_starrmpracrispri_vote2\",\n",
    "    \"prepare_matrix\"\n",
    ")\n",
    "lst = os.listdir(txt_fdiry)\n",
    "for txt in lst:\n",
    "    print(txt)"
   ]
  },
  {
   "cell_type": "code",
   "execution_count": 5,
   "id": "224ef939-22d2-489f-9baa-4220ea1a57ca",
   "metadata": {},
   "outputs": [
    {
     "name": "stdout",
     "output_type": "stream",
     "text": [
      "(18341, 521)\n"
     ]
    },
    {
     "data": {
      "text/html": [
       "<div>\n",
       "<style scoped>\n",
       "    .dataframe tbody tr th:only-of-type {\n",
       "        vertical-align: middle;\n",
       "    }\n",
       "\n",
       "    .dataframe tbody tr th {\n",
       "        vertical-align: top;\n",
       "    }\n",
       "\n",
       "    .dataframe thead th {\n",
       "        text-align: right;\n",
       "    }\n",
       "</style>\n",
       "<table border=\"1\" class=\"dataframe\">\n",
       "  <thead>\n",
       "    <tr style=\"text-align: right;\">\n",
       "      <th></th>\n",
       "      <th>H2AFZ</th>\n",
       "      <th>H3K27ac</th>\n",
       "      <th>H3K27me3</th>\n",
       "      <th>H3K36me3</th>\n",
       "      <th>H3K4me1</th>\n",
       "      <th>H3K4me2</th>\n",
       "      <th>H3K4me3</th>\n",
       "      <th>H3K79me2</th>\n",
       "      <th>H3K9ac</th>\n",
       "      <th>H3K9me1</th>\n",
       "      <th>...</th>\n",
       "      <th>ZNF778</th>\n",
       "      <th>ZNF780A</th>\n",
       "      <th>ZNF785</th>\n",
       "      <th>ZNF79</th>\n",
       "      <th>ZNF83</th>\n",
       "      <th>ZNF830</th>\n",
       "      <th>ZNF84</th>\n",
       "      <th>ZSCAN29</th>\n",
       "      <th>ZSCAN32</th>\n",
       "      <th>ZZZ3</th>\n",
       "    </tr>\n",
       "    <tr>\n",
       "      <th>Region</th>\n",
       "      <th></th>\n",
       "      <th></th>\n",
       "      <th></th>\n",
       "      <th></th>\n",
       "      <th></th>\n",
       "      <th></th>\n",
       "      <th></th>\n",
       "      <th></th>\n",
       "      <th></th>\n",
       "      <th></th>\n",
       "      <th></th>\n",
       "      <th></th>\n",
       "      <th></th>\n",
       "      <th></th>\n",
       "      <th></th>\n",
       "      <th></th>\n",
       "      <th></th>\n",
       "      <th></th>\n",
       "      <th></th>\n",
       "      <th></th>\n",
       "      <th></th>\n",
       "    </tr>\n",
       "  </thead>\n",
       "  <tbody>\n",
       "    <tr>\n",
       "      <th>chr1:100036895-100039189</th>\n",
       "      <td>2.899574</td>\n",
       "      <td>3.910099</td>\n",
       "      <td>0.409154</td>\n",
       "      <td>1.197812</td>\n",
       "      <td>1.069881</td>\n",
       "      <td>4.947811</td>\n",
       "      <td>5.521968</td>\n",
       "      <td>4.177296</td>\n",
       "      <td>4.663171</td>\n",
       "      <td>0.943200</td>\n",
       "      <td>...</td>\n",
       "      <td>0.470371</td>\n",
       "      <td>0.997476</td>\n",
       "      <td>0.749405</td>\n",
       "      <td>0.784789</td>\n",
       "      <td>1.059418</td>\n",
       "      <td>0.900666</td>\n",
       "      <td>1.149806</td>\n",
       "      <td>1.249139</td>\n",
       "      <td>1.045114</td>\n",
       "      <td>1.033166</td>\n",
       "    </tr>\n",
       "    <tr>\n",
       "      <th>chr1:100132375-100133491</th>\n",
       "      <td>3.511342</td>\n",
       "      <td>3.432175</td>\n",
       "      <td>0.342399</td>\n",
       "      <td>0.766170</td>\n",
       "      <td>0.611599</td>\n",
       "      <td>4.537458</td>\n",
       "      <td>5.160366</td>\n",
       "      <td>2.783096</td>\n",
       "      <td>4.025729</td>\n",
       "      <td>0.882832</td>\n",
       "      <td>...</td>\n",
       "      <td>0.831960</td>\n",
       "      <td>0.813704</td>\n",
       "      <td>0.763733</td>\n",
       "      <td>1.342896</td>\n",
       "      <td>1.278580</td>\n",
       "      <td>0.983076</td>\n",
       "      <td>1.285402</td>\n",
       "      <td>1.344204</td>\n",
       "      <td>1.306595</td>\n",
       "      <td>1.304038</td>\n",
       "    </tr>\n",
       "    <tr>\n",
       "      <th>chr1:100265562-100266994</th>\n",
       "      <td>3.496910</td>\n",
       "      <td>3.284969</td>\n",
       "      <td>0.523121</td>\n",
       "      <td>1.064331</td>\n",
       "      <td>1.224565</td>\n",
       "      <td>4.710806</td>\n",
       "      <td>5.403491</td>\n",
       "      <td>3.499795</td>\n",
       "      <td>4.206733</td>\n",
       "      <td>0.852746</td>\n",
       "      <td>...</td>\n",
       "      <td>0.825408</td>\n",
       "      <td>1.127501</td>\n",
       "      <td>0.843342</td>\n",
       "      <td>1.326117</td>\n",
       "      <td>0.994073</td>\n",
       "      <td>0.907716</td>\n",
       "      <td>1.253039</td>\n",
       "      <td>1.217287</td>\n",
       "      <td>1.263143</td>\n",
       "      <td>1.129296</td>\n",
       "    </tr>\n",
       "    <tr>\n",
       "      <th>chr1:10032429-10033763</th>\n",
       "      <td>3.354819</td>\n",
       "      <td>3.412492</td>\n",
       "      <td>0.315848</td>\n",
       "      <td>0.590785</td>\n",
       "      <td>1.149366</td>\n",
       "      <td>4.590871</td>\n",
       "      <td>4.823100</td>\n",
       "      <td>2.317032</td>\n",
       "      <td>3.945846</td>\n",
       "      <td>0.718048</td>\n",
       "      <td>...</td>\n",
       "      <td>0.666777</td>\n",
       "      <td>0.929208</td>\n",
       "      <td>0.893152</td>\n",
       "      <td>1.037769</td>\n",
       "      <td>0.844770</td>\n",
       "      <td>0.911814</td>\n",
       "      <td>1.164059</td>\n",
       "      <td>1.228428</td>\n",
       "      <td>1.018435</td>\n",
       "      <td>0.911599</td>\n",
       "    </tr>\n",
       "    <tr>\n",
       "      <th>chr1:100362769-100363401</th>\n",
       "      <td>1.923438</td>\n",
       "      <td>3.315037</td>\n",
       "      <td>0.370305</td>\n",
       "      <td>0.853586</td>\n",
       "      <td>0.910019</td>\n",
       "      <td>3.980117</td>\n",
       "      <td>3.433015</td>\n",
       "      <td>3.114860</td>\n",
       "      <td>3.647725</td>\n",
       "      <td>1.196009</td>\n",
       "      <td>...</td>\n",
       "      <td>0.942585</td>\n",
       "      <td>1.296269</td>\n",
       "      <td>0.900235</td>\n",
       "      <td>1.557185</td>\n",
       "      <td>1.323606</td>\n",
       "      <td>0.899546</td>\n",
       "      <td>1.704624</td>\n",
       "      <td>0.968597</td>\n",
       "      <td>1.581804</td>\n",
       "      <td>1.040023</td>\n",
       "    </tr>\n",
       "  </tbody>\n",
       "</table>\n",
       "<p>5 rows × 521 columns</p>\n",
       "</div>"
      ],
      "text/plain": [
       "                             H2AFZ   H3K27ac  H3K27me3  H3K36me3   H3K4me1  \\\n",
       "Region                                                                       \n",
       "chr1:100036895-100039189  2.899574  3.910099  0.409154  1.197812  1.069881   \n",
       "chr1:100132375-100133491  3.511342  3.432175  0.342399  0.766170  0.611599   \n",
       "chr1:100265562-100266994  3.496910  3.284969  0.523121  1.064331  1.224565   \n",
       "chr1:10032429-10033763    3.354819  3.412492  0.315848  0.590785  1.149366   \n",
       "chr1:100362769-100363401  1.923438  3.315037  0.370305  0.853586  0.910019   \n",
       "\n",
       "                           H3K4me2   H3K4me3  H3K79me2    H3K9ac   H3K9me1  \\\n",
       "Region                                                                       \n",
       "chr1:100036895-100039189  4.947811  5.521968  4.177296  4.663171  0.943200   \n",
       "chr1:100132375-100133491  4.537458  5.160366  2.783096  4.025729  0.882832   \n",
       "chr1:100265562-100266994  4.710806  5.403491  3.499795  4.206733  0.852746   \n",
       "chr1:10032429-10033763    4.590871  4.823100  2.317032  3.945846  0.718048   \n",
       "chr1:100362769-100363401  3.980117  3.433015  3.114860  3.647725  1.196009   \n",
       "\n",
       "                          ...    ZNF778   ZNF780A    ZNF785     ZNF79  \\\n",
       "Region                    ...                                           \n",
       "chr1:100036895-100039189  ...  0.470371  0.997476  0.749405  0.784789   \n",
       "chr1:100132375-100133491  ...  0.831960  0.813704  0.763733  1.342896   \n",
       "chr1:100265562-100266994  ...  0.825408  1.127501  0.843342  1.326117   \n",
       "chr1:10032429-10033763    ...  0.666777  0.929208  0.893152  1.037769   \n",
       "chr1:100362769-100363401  ...  0.942585  1.296269  0.900235  1.557185   \n",
       "\n",
       "                             ZNF83    ZNF830     ZNF84   ZSCAN29   ZSCAN32  \\\n",
       "Region                                                                       \n",
       "chr1:100036895-100039189  1.059418  0.900666  1.149806  1.249139  1.045114   \n",
       "chr1:100132375-100133491  1.278580  0.983076  1.285402  1.344204  1.306595   \n",
       "chr1:100265562-100266994  0.994073  0.907716  1.253039  1.217287  1.263143   \n",
       "chr1:10032429-10033763    0.844770  0.911814  1.164059  1.228428  1.018435   \n",
       "chr1:100362769-100363401  1.323606  0.899546  1.704624  0.968597  1.581804   \n",
       "\n",
       "                              ZZZ3  \n",
       "Region                              \n",
       "chr1:100036895-100039189  1.033166  \n",
       "chr1:100132375-100133491  1.304038  \n",
       "chr1:100265562-100266994  1.129296  \n",
       "chr1:10032429-10033763    0.911599  \n",
       "chr1:100362769-100363401  1.040023  \n",
       "\n",
       "[5 rows x 521 columns]"
      ]
     },
     "execution_count": 5,
     "metadata": {},
     "output_type": "execute_result"
    }
   ],
   "source": [
    "txt_fdiry = os.path.join(\n",
    "    CONFIG.FD_RES, \n",
    "    \"analysis_umap_cluster_by_coverage_score\", \n",
    "    \"fcc_astarr_macs_input_overlap\",\n",
    "    \"fcc_starrmpracrispri_vote2\",\n",
    "    \"prepare_matrix\"\n",
    ")\n",
    "txt_fname = \"matrix.coverage.encode_chipseq_full_log2p.tsv\"\n",
    "txt_fpath = os.path.join(txt_fdiry, txt_fname)\n",
    "\n",
    "mat = pd.read_csv(txt_fpath, sep=\"\\t\")\n",
    "vec = mat.Region\n",
    "mat = mat.set_index('Region')\n",
    "\n",
    "mat_region_score = mat\n",
    "print(mat.shape)\n",
    "mat.head()"
   ]
  },
  {
   "cell_type": "code",
   "execution_count": 12,
   "id": "5f9495bf-8661-43cc-9728-24620d5fbaaf",
   "metadata": {},
   "outputs": [
    {
     "name": "stdout",
     "output_type": "stream",
     "text": [
      "Finding 70 nearest neighbors using minkowski metric and 'auto' algorithm\n",
      "Neighbors computed in 1.0483372211456299 seconds\n",
      "Jaccard graph constructed in 5.668705940246582 seconds\n",
      "Wrote graph to binary file in 0.54984450340271 seconds\n",
      "Running Louvain modularity optimization\n",
      "After 1 runs, maximum modularity is Q = 0.718959\n",
      "After 4 runs, maximum modularity is Q = 0.720574\n",
      "Louvain completed 24 runs in 17.484044790267944 seconds\n",
      "Sorting communities by size, please wait ...\n",
      "PhenoGraph completed in 25.605312824249268 seconds\n"
     ]
    }
   ],
   "source": [
    "dat = mat_region_score\n",
    "communities, graph, Q = phenograph.cluster(dat, k = 70)"
   ]
  },
  {
   "cell_type": "code",
   "execution_count": 17,
   "id": "f14c89a0-51fa-4b46-82e1-557d7ca46529",
   "metadata": {},
   "outputs": [
    {
     "name": "stdout",
     "output_type": "stream",
     "text": [
      "18341\n"
     ]
    },
    {
     "data": {
      "text/plain": [
       "array([0, 0, 0, ..., 9, 3, 0])"
      ]
     },
     "execution_count": 17,
     "metadata": {},
     "output_type": "execute_result"
    }
   ],
   "source": [
    "print(len(communities))\n",
    "communities"
   ]
  },
  {
   "cell_type": "code",
   "execution_count": 18,
   "id": "43234d69-3053-403f-8e21-ca43f5e9a0c8",
   "metadata": {},
   "outputs": [
    {
     "data": {
      "text/plain": [
       "<18341x18341 sparse matrix of type '<class 'numpy.float64'>'\n",
       "\twith 1111252 stored elements in COOrdinate format>"
      ]
     },
     "execution_count": 18,
     "metadata": {},
     "output_type": "execute_result"
    }
   ],
   "source": [
    "graph"
   ]
  },
  {
   "cell_type": "code",
   "execution_count": 19,
   "id": "d6dc349b-a350-4fdd-bff0-25eefc7539d2",
   "metadata": {},
   "outputs": [
    {
     "data": {
      "text/html": [
       "<div>\n",
       "<style scoped>\n",
       "    .dataframe tbody tr th:only-of-type {\n",
       "        vertical-align: middle;\n",
       "    }\n",
       "\n",
       "    .dataframe tbody tr th {\n",
       "        vertical-align: top;\n",
       "    }\n",
       "\n",
       "    .dataframe thead th {\n",
       "        text-align: right;\n",
       "    }\n",
       "</style>\n",
       "<table border=\"1\" class=\"dataframe\">\n",
       "  <thead>\n",
       "    <tr style=\"text-align: right;\">\n",
       "      <th></th>\n",
       "      <th>Cluster</th>\n",
       "      <th>Region</th>\n",
       "    </tr>\n",
       "  </thead>\n",
       "  <tbody>\n",
       "    <tr>\n",
       "      <th>0</th>\n",
       "      <td>0</td>\n",
       "      <td>chr1:100036895-100039189</td>\n",
       "    </tr>\n",
       "    <tr>\n",
       "      <th>1</th>\n",
       "      <td>0</td>\n",
       "      <td>chr1:100132375-100133491</td>\n",
       "    </tr>\n",
       "    <tr>\n",
       "      <th>2</th>\n",
       "      <td>0</td>\n",
       "      <td>chr1:100265562-100266994</td>\n",
       "    </tr>\n",
       "    <tr>\n",
       "      <th>3</th>\n",
       "      <td>13</td>\n",
       "      <td>chr1:10032429-10033763</td>\n",
       "    </tr>\n",
       "    <tr>\n",
       "      <th>4</th>\n",
       "      <td>0</td>\n",
       "      <td>chr1:100362769-100363401</td>\n",
       "    </tr>\n",
       "    <tr>\n",
       "      <th>...</th>\n",
       "      <td>...</td>\n",
       "      <td>...</td>\n",
       "    </tr>\n",
       "    <tr>\n",
       "      <th>18336</th>\n",
       "      <td>7</td>\n",
       "      <td>chrX:9351677-9353363</td>\n",
       "    </tr>\n",
       "    <tr>\n",
       "      <th>18337</th>\n",
       "      <td>3</td>\n",
       "      <td>chrX:95903401-95903802</td>\n",
       "    </tr>\n",
       "    <tr>\n",
       "      <th>18338</th>\n",
       "      <td>9</td>\n",
       "      <td>chrX:9786386-9786821</td>\n",
       "    </tr>\n",
       "    <tr>\n",
       "      <th>18339</th>\n",
       "      <td>3</td>\n",
       "      <td>chrX:9882663-9883076</td>\n",
       "    </tr>\n",
       "    <tr>\n",
       "      <th>18340</th>\n",
       "      <td>0</td>\n",
       "      <td>chrX:989825-990522</td>\n",
       "    </tr>\n",
       "  </tbody>\n",
       "</table>\n",
       "<p>18341 rows × 2 columns</p>\n",
       "</div>"
      ],
      "text/plain": [
       "       Cluster                    Region\n",
       "0            0  chr1:100036895-100039189\n",
       "1            0  chr1:100132375-100133491\n",
       "2            0  chr1:100265562-100266994\n",
       "3           13    chr1:10032429-10033763\n",
       "4            0  chr1:100362769-100363401\n",
       "...        ...                       ...\n",
       "18336        7      chrX:9351677-9353363\n",
       "18337        3    chrX:95903401-95903802\n",
       "18338        9      chrX:9786386-9786821\n",
       "18339        3      chrX:9882663-9883076\n",
       "18340        0        chrX:989825-990522\n",
       "\n",
       "[18341 rows x 2 columns]"
      ]
     },
     "execution_count": 19,
     "metadata": {},
     "output_type": "execute_result"
    }
   ],
   "source": [
    "dat = pd.DataFrame(communities, columns=[\"Cluster\"])\n",
    "dat = dat.assign(Region = vec)\n",
    "dat"
   ]
  },
  {
   "cell_type": "code",
   "execution_count": 20,
   "id": "e388efa3-201e-42cf-9931-288992b0216d",
   "metadata": {},
   "outputs": [],
   "source": [
    "txt_fdiry = os.path.join(\n",
    "    CONFIG.FD_RES, \n",
    "    \"analysis_umap_cluster_by_coverage_score\", \n",
    "    \"fcc_astarr_macs_input_overlap\",\n",
    "    \"fcc_starrmpracrispri_vote2\",\n",
    "    \"cluster_phenograph\"\n",
    ")\n",
    "txt_fname = \"cluster.neighbors_070.coverage.encode_chipseq_full_log2p.tsv\"\n",
    "txt_fpath = os.path.join(txt_fdiry, txt_fname)\n",
    "\n",
    "dat.to_csv(txt_fpath, sep=\"\\t\", index=False)"
   ]
  },
  {
   "cell_type": "code",
   "execution_count": null,
   "id": "a1a79ad7-bde5-4c69-acd7-1a939bb85294",
   "metadata": {},
   "outputs": [],
   "source": []
  }
 ],
 "metadata": {
  "kernelspec": {
   "display_name": "Python 3 (ipykernel)",
   "language": "python",
   "name": "python3"
  },
  "language_info": {
   "codemirror_mode": {
    "name": "ipython",
    "version": 3
   },
   "file_extension": ".py",
   "mimetype": "text/x-python",
   "name": "python",
   "nbconvert_exporter": "python",
   "pygments_lexer": "ipython3",
   "version": "3.11.6"
  }
 },
 "nbformat": 4,
 "nbformat_minor": 5
}
