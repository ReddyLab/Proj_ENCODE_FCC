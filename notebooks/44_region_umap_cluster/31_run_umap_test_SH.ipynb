{
 "cells": [
  {
   "cell_type": "raw",
   "id": "6ce4839e-b2d7-4e2b-83e5-6d1c8a632ec7",
   "metadata": {},
   "source": [
    "---\n",
    "title: Run UMAP on ATAC regions\n",
    "subtitle: Annotate peaks (ChIP-seq)\n",
    "format:\n",
    "    html:\n",
    "        code-fold:  true\n",
    "        code-tools: true\n",
    "---"
   ]
  },
  {
   "cell_type": "markdown",
   "id": "50dcac70-28ee-4b3f-a5b1-0845ae7027d8",
   "metadata": {},
   "source": [
    "**Set environment**"
   ]
  },
  {
   "cell_type": "code",
   "execution_count": 1,
   "id": "4ee7e301-f959-4e62-9663-6e0f5fc67d86",
   "metadata": {},
   "outputs": [
    {
     "name": "stdout",
     "output_type": "stream",
     "text": [
      "You are working on             Duke Server: RCC\n",
      "BASE DIRECTORY (FD_BASE):      /data/reddylab/Kuei\n",
      "REPO DIRECTORY (FD_REPO):      /data/reddylab/Kuei/repo\n",
      "WORK DIRECTORY (FD_WORK):      /data/reddylab/Kuei/work\n",
      "DATA DIRECTORY (FD_DATA):      /data/reddylab/Kuei/data\n",
      "CONTAINER DIR. (FD_SING):      /data/reddylab/Kuei/container\n",
      "\n",
      "You are working with           ENCODE FCC\n",
      "PATH OF PROJECT (FD_PRJ):      /data/reddylab/Kuei/repo/Proj_ENCODE_FCC\n",
      "PROJECT RESULTS (FD_RES):      /data/reddylab/Kuei/repo/Proj_ENCODE_FCC/results\n",
      "PROJECT SCRIPTS (FD_EXE):      /data/reddylab/Kuei/repo/Proj_ENCODE_FCC/scripts\n",
      "PROJECT DATA    (FD_DAT):      /data/reddylab/Kuei/repo/Proj_ENCODE_FCC/data\n",
      "PROJECT NOTE    (FD_NBK):      /data/reddylab/Kuei/repo/Proj_ENCODE_FCC/notebooks\n",
      "PROJECT DOCS    (FD_DOC):      /data/reddylab/Kuei/repo/Proj_ENCODE_FCC/docs\n",
      "PROJECT LOG     (FD_LOG):      /data/reddylab/Kuei/repo/Proj_ENCODE_FCC/log\n",
      "PROJECT REF     (FD_REF):      /data/reddylab/Kuei/repo/Proj_ENCODE_FCC/references\n",
      "PROJECT IMAGE   (FP_PRJ_SIF):  /data/reddylab/Kuei/container/project/singularity_proj_encode_fcc.sif\n",
      "PROJECT CONF.   (FP_CNF):      /data/reddylab/Kuei/repo/Proj_ENCODE_FCC/scripts/config_project.sh\n",
      "\n"
     ]
    }
   ],
   "source": [
    "source ../run_config_project.sh\n",
    "show_env"
   ]
  },
  {
   "cell_type": "code",
   "execution_count": null,
   "id": "fe983cab-3ca5-42ad-9713-a6497ac4997d",
   "metadata": {},
   "outputs": [],
   "source": []
  },
  {
   "cell_type": "code",
   "execution_count": null,
   "id": "6fd176de-39e1-4d26-a8de-149f150e35a0",
   "metadata": {},
   "outputs": [],
   "source": []
  },
  {
   "cell_type": "code",
   "execution_count": 4,
   "id": "b58a2733-a1c8-458f-9f02-a31443a5f0f7",
   "metadata": {},
   "outputs": [
    {
     "name": "stdout",
     "output_type": "stream",
     "text": [
      "/data/reddylab/Kuei/repo/Proj_ENCODE_FCC/results/analysis_umap_cluster_by_coverage_score/fcc_astarr_macs_input_overlap/atac_10k/prepare_matrix\n",
      "\n",
      "matrix.coverage.encode_chipseq_full_mean0.tsv\n"
     ]
    }
   ],
   "source": [
    "FD_INP=${FD_RES}/analysis_umap_cluster_by_coverage_score\n",
    "FD_INP=${FD_INP}/fcc_astarr_macs_input_overlap\n",
    "FD_INP=${FD_INP}/atac_10k\n",
    "FD_INP=${FD_INP}/prepare_matrix\n",
    "echo  ${FD_INP}\n",
    "echo \n",
    "ls -1 ${FD_INP}"
   ]
  },
  {
   "cell_type": "code",
   "execution_count": 9,
   "id": "b2838dc6-7d81-46b1-8876-35229315702a",
   "metadata": {},
   "outputs": [
    {
     "name": "stdout",
     "output_type": "stream",
     "text": [
      "matrix.coverage.encode_chipseq_full_mean0.tsv\n",
      "umap.metric_euclidean.neighbor_015.coverage.encode_chipseq_full_mean0.tsv\n"
     ]
    }
   ],
   "source": [
    "FDIRY=${FD_RES}/analysis_umap_cluster_by_coverage_score\n",
    "FDIRY=${FDIRY}/fcc_astarr_macs_input_overlap\n",
    "FDIRY=${FDIRY}/atac_10k\n",
    "\n",
    "FD_INP=${FDIRY}/prepare_matrix\n",
    "FD_OUT=${FDIRY}/umap\n",
    "\n",
    "FP_INPS=($(ls ${FD_INP}/matrix*tsv))\n",
    "for FP_INP in ${FP_INPS[@]}; do\n",
    "    FN_INP=$(basename ${FP_INP})\n",
    "    FN_OUT=${FN_INP/\"matrix\"/\"umap.metric_euclidean.neighbor_015\"}\n",
    "    echo ${FN_INP}\n",
    "    echo ${FN_OUT}\n",
    "done"
   ]
  },
  {
   "cell_type": "code",
   "execution_count": 10,
   "id": "c78b65e4-9f29-4cee-b998-6cf47c201898",
   "metadata": {},
   "outputs": [
    {
     "name": "stdout",
     "output_type": "stream",
     "text": [
      "matrix.coverage.encode_chipseq_full_mean0.tsv\n",
      "umap.metric_euclidean.n_neighbors_15.coverage.encode_chipseq_full_mean0.tsv\n",
      "\n"
     ]
    }
   ],
   "source": [
    "NUM_NEIGHBORS=15\n",
    "TXT_METRIC=\"euclidean\"\n",
    "\n",
    "FDIRY=${FD_RES}/analysis_umap_cluster_by_coverage_score\n",
    "FDIRY=${FDIRY}/fcc_astarr_macs_input_overlap\n",
    "FDIRY=${FDIRY}/atac_10k\n",
    "\n",
    "FD_INP=${FDIRY}/prepare_matrix\n",
    "FD_OUT=${FDIRY}/umap\n",
    "\n",
    "FP_INPS=($(ls ${FD_INP}/matrix*tsv))\n",
    "for FP_INP in ${FP_INPS[@]}; do\n",
    "    PREFIX=\"umap.metric_${TXT_METRIC}.neighbors_${NUM_NEIGHBORS}\"\n",
    "    FN_INP=$(basename ${FP_INP})\n",
    "    FN_OUT=${FN_INP/matrix/${PREFIX}}\n",
    "    echo ${FN_INP}\n",
    "    echo ${FN_OUT}\n",
    "    echo\n",
    "done"
   ]
  },
  {
   "cell_type": "markdown",
   "id": "1bd22a8d-5b62-4e2e-87ee-ee09c5e57ba5",
   "metadata": {},
   "source": [
    "## Test loop: parameters"
   ]
  },
  {
   "cell_type": "code",
   "execution_count": 16,
   "id": "13f0cb5a-60b6-489f-9b62-0b703867d901",
   "metadata": {},
   "outputs": [
    {
     "name": "stdout",
     "output_type": "stream",
     "text": [
      "umap.metric_euclidean.neighbors_015\n",
      "umap.metric_euclidean.neighbors_050\n",
      "umap.metric_euclidean.neighbors_070\n",
      "umap.metric_euclidean.neighbors_100\n",
      "\n",
      "umap.metric_manhattan.neighbors_015\n",
      "umap.metric_manhattan.neighbors_050\n",
      "umap.metric_manhattan.neighbors_070\n",
      "umap.metric_manhattan.neighbors_100\n",
      "\n"
     ]
    }
   ],
   "source": [
    "VEC_NUM_NEIGHBORS=(15 50 70 100)\n",
    "VEC_TXT_METRIC=(\"euclidean\" \"manhattan\")\n",
    "\n",
    "for TXT_METRIC in ${VEC_TXT_METRIC[@]}; do\n",
    "    for NUM_NEIGHBORS in ${VEC_NUM_NEIGHBORS[@]}; do\n",
    "        TXT_NEIGHBORS=$(printf %03d $NUM_NEIGHBORS)\n",
    "        PREFIX=\"umap.metric_${TXT_METRIC}.neighbors_${TXT_NEIGHBORS}\"\n",
    "        echo ${PREFIX}\n",
    "    done\n",
    "    echo\n",
    "done"
   ]
  },
  {
   "cell_type": "markdown",
   "id": "252657e8-ec5d-4b8e-af79-bdcbe5efa3e2",
   "metadata": {},
   "source": [
    "## Test run:"
   ]
  },
  {
   "cell_type": "code",
   "execution_count": 20,
   "id": "a2d7b556-9985-4740-a5c7-437c6fed9cd1",
   "metadata": {},
   "outputs": [
    {
     "name": "stdout",
     "output_type": "stream",
     "text": [
      "### set environment\n",
      "import numpy as np\n",
      "import pandas as pd\n",
      "import argparse\n",
      "import os\n",
      "\n",
      "import umap\n",
      "\n",
      "### get parameters\n",
      "parser = argparse.ArgumentParser()\n",
      "parser.add_argument(\"finp\",        type = str, help = \"input file\")\n",
      "parser.add_argument(\"fout\",        type = str, help = \"output file\")\n",
      "parser.add_argument(\"metric\",      type = str, help = \"metric for distance calculation\")\n",
      "parser.add_argument(\"n_neighbors\", type = int, help = \"numbers of neighbor points for UMAP\")\n",
      "\n",
      "### set global variables\n",
      "args = parser.parse_args()\n",
      "\n",
      "NUM_SEED      = 123\n",
      "NUM_NEIGHBORS = args.n_neighbors\n",
      "TXT_FPATH_INP = args.finp\n",
      "TXT_FPATH_OUT = args.fout\n",
      "TXT_METRIC    = args.metric\n",
      "\n",
      "### show env\n",
      "print(f\"Input  File:\")\n",
      "print(f\"{TXT_FPATH_INP}\")\n",
      "print()\n",
      "print(f\"Output File:\")\n",
      "print(f\"{TXT_FPATH_OUT}\")\n",
      "print()\n",
      "\n",
      "### import data\n",
      "mat = pd.read_csv(TXT_FPATH_INP, sep=\"\\t\")\n",
      "vec = mat.Region\n",
      "mat = mat.set_index('Region')\n",
      "\n",
      "### execute\n",
      "fit = umap.UMAP(metric=TXT_METRIC, n_neighbors=NUM_NEIGHBORS, n_jobs=1, random_state=NUM_SEED)\n",
      "mat = mat.to_numpy()\n",
      "res = fit.fit_transform(mat)\n",
      "\n",
      "### convert to dataframe\n",
      "dat = pd.DataFrame(res, columns=[\"UMAP1\", \"UMAP2\"])\n",
      "dat = dat.assign(Region = vec)\n",
      "\n",
      "### save the results\n",
      "dat.to_csv(TXT_FPATH_OUT, sep=\"\\t\", index=False)\n"
     ]
    }
   ],
   "source": [
    "FP_EXE=${FD_EXE}/run_region_umap.py\n",
    "cat ${FP_EXE}"
   ]
  },
  {
   "cell_type": "code",
   "execution_count": 22,
   "id": "8ba65453-d682-4542-8687-01c46fde2106",
   "metadata": {},
   "outputs": [
    {
     "name": "stdout",
     "output_type": "stream",
     "text": [
      "#!/bin/bash\n",
      "\n",
      "### Source the configuration file\n",
      "FP_CNF=/data/reddylab/Kuei/repo/Proj_ENCODE_FCC/scripts/config_project.sh\n",
      "source ${FP_CNF}\n",
      "\n",
      "### From the configuration file, Get the following:\n",
      "### singularity file path and temporary directory\n",
      "FP_SIF=${FP_PRJ_SIF}\n",
      "FD_TMP=${FD_TEMP}\n",
      "\n",
      "### Get the arguments\n",
      "ARGS=\"$@\"\n",
      "#ARGS=\"${@:2}\"\n",
      "\n",
      "### Run the command in singularity environment\n",
      "singularity exec   \\\n",
      "    --env NUMBA_CACHE_DIR=/tmp \\\n",
      "    -B ${FD_TMP}:/tmp \\\n",
      "    -B ${PWD}      \\\n",
      "    -B /data:/data \\\n",
      "    ${FP_SIF} ${ARGS}\n"
     ]
    }
   ],
   "source": [
    "FP_APP=${FD_EXE}/sing_script.sh\n",
    "cat ${FP_APP}"
   ]
  },
  {
   "cell_type": "code",
   "execution_count": 17,
   "id": "6e7e600b-142f-49e6-bf7f-0a113a60aa44",
   "metadata": {},
   "outputs": [
    {
     "name": "stdout",
     "output_type": "stream",
     "text": [
      "matrix.coverage.encode_chipseq_full_mean0.tsv\n",
      "umap.metric_euclidean.neighbors_15.coverage.encode_chipseq_full_mean0.tsv\n",
      "\n"
     ]
    }
   ],
   "source": [
    "FP_EXE=${FD_EXE}/run_region_umap.py\n",
    "FP_APP=${FD_EXE}/sing_script.sh\n",
    "\n",
    "NUM_NEIGHBORS=15\n",
    "TXT_METRIC=\"euclidean\"\n",
    "\n",
    "FDIRY=${FD_RES}/analysis_umap_cluster_by_coverage_score\n",
    "FDIRY=${FDIRY}/fcc_astarr_macs_input_overlap\n",
    "FDIRY=${FDIRY}/atac_10k\n",
    "\n",
    "FD_INP=${FDIRY}/prepare_matrix\n",
    "FD_OUT=${FDIRY}/umap\n",
    "\n",
    "TXT_NEIGHBORS=$(printf %03d $NUM_NEIGHBORS)\n",
    "PREFIX=\"umap.metric_${TXT_METRIC}.neighbors_${TXT_NEIGHBORS}\"\n",
    "\n",
    "FP_INPS=($(ls ${FD_INP}/matrix*tsv))\n",
    "for FP_INP in ${FP_INPS[@]}; do\n",
    "    PREFIX=\"umap.metric_${TXT_METRIC}.neighbors_${NUM_NEIGHBORS}\"\n",
    "    FN_INP=$(basename ${FP_INP})\n",
    "    FN_OUT=${FN_INP/matrix/${PREFIX}}\n",
    "    echo ${FN_INP}\n",
    "    echo ${FN_OUT}\n",
    "    echo\n",
    "done"
   ]
  },
  {
   "cell_type": "code",
   "execution_count": 25,
   "id": "d2aa6484-cf14-4cac-b456-d0fd2aec8cb8",
   "metadata": {},
   "outputs": [
    {
     "name": "stdout",
     "output_type": "stream",
     "text": [
      "Input File:\n",
      "matrix.coverage.encode_chipseq_full_mean0.tsv\n",
      "Output File:\n",
      "umap.metric_euclidean.neighbors_15.coverage.encode_chipseq_full_mean0.tsv\n",
      "Log File:\n",
      "${FD_LOG}/run.umap.metric_euclidean.neighbors_15.coverage.encode_chipseq_full_mean0.tsv.txt\n",
      "\n",
      "Submitted batch job 74184\n"
     ]
    }
   ],
   "source": [
    "NUM_NEIGHBORS=15\n",
    "TXT_METRIC=\"euclidean\"\n",
    "\n",
    "FDIRY=${FD_RES}/analysis_umap_cluster_by_coverage_score\n",
    "FDIRY=${FDIRY}/fcc_astarr_macs_input_overlap\n",
    "FDIRY=${FDIRY}/atac_10k\n",
    "\n",
    "FD_INP=${FDIRY}/prepare_matrix\n",
    "FD_OUT=${FDIRY}/umap\n",
    "\n",
    "TXT_NEIGHBORS=$(printf %03d $NUM_NEIGHBORS)\n",
    "PREFIX=\"umap.metric_${TXT_METRIC}.neighbors_${TXT_NEIGHBORS}\"\n",
    "\n",
    "FP_INPS=($(ls ${FD_INP}/matrix*tsv))\n",
    "for FP_INP in ${FP_INPS[@]}; do\n",
    "    PREFIX=\"umap.metric_${TXT_METRIC}.neighbors_${NUM_NEIGHBORS}\"\n",
    "    FN_INP=$(basename ${FP_INP})\n",
    "    FN_OUT=${FN_INP/matrix/${PREFIX}}\n",
    "    FP_OUT=${FD_OUT}/${FN_OUT}\n",
    "    \n",
    "    FN_LOG=run.${FN_OUT}.txt\n",
    "    FP_LOG=${FD_LOG}/${FN_LOG}\n",
    "\n",
    "    echo \"Input File:\"\n",
    "    echo ${FN_INP}\n",
    "    echo \"Output File:\"\n",
    "    echo ${FN_OUT}\n",
    "    echo \"Log File:\"\n",
    "    echo '${FD_LOG}/'${FN_LOG}\n",
    "    echo\n",
    "    sbatch \\\n",
    "        --cpus-per-task 10 \\\n",
    "        --mem 20G \\\n",
    "        --output ${FP_LOG} \\\n",
    "        ${FP_APP} python ${FP_EXE} ${FP_INP} ${FP_OUT} ${TXT_METRIC} ${NUM_NEIGHBORS}\n",
    "done"
   ]
  },
  {
   "cell_type": "code",
   "execution_count": 33,
   "id": "8270eef3-59fe-4a4b-be0e-465a12106bf1",
   "metadata": {},
   "outputs": [
    {
     "name": "stdout",
     "output_type": "stream",
     "text": [
      "OMP: Info #276: omp_set_nested routine deprecated, please use omp_set_max_active_levels instead.\n",
      "Input  File:\n",
      "/data/reddylab/Kuei/repo/Proj_ENCODE_FCC/results/analysis_umap_cluster_by_coverage_score/fcc_astarr_macs_input_overlap/atac_10k/prepare_matrix/matrix.coverage.encode_chipseq_full_mean0.tsv\n",
      "\n",
      "Output File:\n",
      "/data/reddylab/Kuei/repo/Proj_ENCODE_FCC/results/analysis_umap_cluster_by_coverage_score/fcc_astarr_macs_input_overlap/atac_10k/umap/umap.metric_euclidean.neighbors_15.coverage.encode_chipseq_full_mean0.tsv\n",
      "\n"
     ]
    }
   ],
   "source": [
    "cat ${FD_LOG}/run.umap.metric_euclidean.neighbors_15.coverage.encode_chipseq_full_mean0.tsv.txt"
   ]
  },
  {
   "cell_type": "code",
   "execution_count": null,
   "id": "22746d78-9bee-45f3-bb15-fc561293e98a",
   "metadata": {},
   "outputs": [],
   "source": []
  },
  {
   "cell_type": "code",
   "execution_count": null,
   "id": "446e2a0b-2054-4c8e-8b3c-55842b46bd0e",
   "metadata": {},
   "outputs": [],
   "source": []
  },
  {
   "cell_type": "code",
   "execution_count": null,
   "id": "a6bbb146-28dd-41c3-a9f8-035d7aef80a5",
   "metadata": {},
   "outputs": [],
   "source": []
  },
  {
   "cell_type": "code",
   "execution_count": 32,
   "id": "d7b5d0c1-dccf-439b-bb81-49545c7e7712",
   "metadata": {},
   "outputs": [
    {
     "name": "stdout",
     "output_type": "stream",
     "text": [
      "Input File:\n",
      "matrix.coverage.encode_chipseq_full_mean0.tsv\n",
      "Output File:\n",
      "umap.metric_euclidean.neighbors_70.coverage.encode_chipseq_full_mean0.tsv\n",
      "Log File:\n",
      "${FD_LOG}/run.atac_full.umap.metric_euclidean.neighbors_70.coverage.encode_chipseq_full_mean0.tsv.txt\n",
      "\n",
      "Submitted batch job 74186\n"
     ]
    }
   ],
   "source": [
    "NUM_NEIGHBORS=70\n",
    "TXT_METRIC=\"euclidean\"\n",
    "TXT_FOLDER=\"atac_full\"\n",
    "\n",
    "FDIRY=${FD_RES}/analysis_umap_cluster_by_coverage_score\n",
    "FDIRY=${FDIRY}/fcc_astarr_macs_input_overlap\n",
    "FDIRY=${FDIRY}/${TXT_FOLDER}\n",
    "\n",
    "FD_INP=${FDIRY}/prepare_matrix\n",
    "FD_OUT=${FDIRY}/umap\n",
    "\n",
    "TXT_NEIGHBORS=$(printf %03d $NUM_NEIGHBORS)\n",
    "PREFIX=\"umap.metric_${TXT_METRIC}.neighbors_${TXT_NEIGHBORS}\"\n",
    "\n",
    "FP_INPS=($(ls ${FD_INP}/matrix*tsv))\n",
    "for FP_INP in ${FP_INPS[@]}; do\n",
    "    PREFIX=\"umap.metric_${TXT_METRIC}.neighbors_${NUM_NEIGHBORS}\"\n",
    "    FN_INP=$(basename ${FP_INP})\n",
    "    FN_OUT=${FN_INP/matrix/${PREFIX}}\n",
    "    FP_OUT=${FD_OUT}/${FN_OUT}\n",
    "    \n",
    "    FN_LOG=run.${TXT_FOLDER}.${FN_OUT}.txt\n",
    "    FP_LOG=${FD_LOG}/${FN_LOG}\n",
    "\n",
    "    echo \"Input File:\"\n",
    "    echo ${FN_INP}\n",
    "    echo \"Output File:\"\n",
    "    echo ${FN_OUT}\n",
    "    echo \"Log File:\"\n",
    "    echo '${FD_LOG}/'${FN_LOG}\n",
    "    echo\n",
    "    sbatch \\\n",
    "        --cpus-per-task 10 \\\n",
    "        --mem 20G \\\n",
    "        --output ${FP_LOG} \\\n",
    "        ${FP_APP} python ${FP_EXE} ${FP_INP} ${FP_OUT} ${TXT_METRIC} ${NUM_NEIGHBORS}\n",
    "done"
   ]
  },
  {
   "cell_type": "code",
   "execution_count": 34,
   "id": "bbf09972-575a-41d5-9aaa-03fcf3276f52",
   "metadata": {},
   "outputs": [
    {
     "name": "stdout",
     "output_type": "stream",
     "text": [
      "Input File:\n",
      "matrix.coverage.encode_chipseq_full_mean0.tsv\n",
      "Output File:\n",
      "umap.metric_manhattan.neighbors_70.coverage.encode_chipseq_full_mean0.tsv\n",
      "Log File:\n",
      "${FD_LOG}/run.atac_full.umap.metric_manhattan.neighbors_70.coverage.encode_chipseq_full_mean0.tsv.txt\n",
      "\n",
      "Submitted batch job 74191\n"
     ]
    }
   ],
   "source": [
    "NUM_NEIGHBORS=70\n",
    "TXT_METRIC=\"manhattan\"\n",
    "TXT_FOLDER=\"atac_full\"\n",
    "\n",
    "FDIRY=${FD_RES}/analysis_umap_cluster_by_coverage_score\n",
    "FDIRY=${FDIRY}/fcc_astarr_macs_input_overlap\n",
    "FDIRY=${FDIRY}/${TXT_FOLDER}\n",
    "\n",
    "FD_INP=${FDIRY}/prepare_matrix\n",
    "FD_OUT=${FDIRY}/umap\n",
    "\n",
    "TXT_NEIGHBORS=$(printf %03d $NUM_NEIGHBORS)\n",
    "PREFIX=\"umap.metric_${TXT_METRIC}.neighbors_${TXT_NEIGHBORS}\"\n",
    "\n",
    "FP_INPS=($(ls ${FD_INP}/matrix*tsv))\n",
    "for FP_INP in ${FP_INPS[@]}; do\n",
    "    PREFIX=\"umap.metric_${TXT_METRIC}.neighbors_${NUM_NEIGHBORS}\"\n",
    "    FN_INP=$(basename ${FP_INP})\n",
    "    FN_OUT=${FN_INP/matrix/${PREFIX}}\n",
    "    FP_OUT=${FD_OUT}/${FN_OUT}\n",
    "    \n",
    "    FN_LOG=run.${TXT_FOLDER}.${FN_OUT}.txt\n",
    "    FP_LOG=${FD_LOG}/${FN_LOG}\n",
    "\n",
    "    echo \"Input File:\"\n",
    "    echo ${FN_INP}\n",
    "    echo \"Output File:\"\n",
    "    echo ${FN_OUT}\n",
    "    echo \"Log File:\"\n",
    "    echo '${FD_LOG}/'${FN_LOG}\n",
    "    echo\n",
    "    sbatch \\\n",
    "        --cpus-per-task 10 \\\n",
    "        --mem 20G \\\n",
    "        --output ${FP_LOG} \\\n",
    "        ${FP_APP} python ${FP_EXE} ${FP_INP} ${FP_OUT} ${TXT_METRIC} ${NUM_NEIGHBORS}\n",
    "done"
   ]
  },
  {
   "cell_type": "code",
   "execution_count": null,
   "id": "6d6f6ace-a9f2-4a7b-92b4-403784b84556",
   "metadata": {},
   "outputs": [],
   "source": []
  }
 ],
 "metadata": {
  "kernelspec": {
   "display_name": "Bash",
   "language": "bash",
   "name": "bash"
  },
  "language_info": {
   "codemirror_mode": "shell",
   "file_extension": ".sh",
   "mimetype": "text/x-sh",
   "name": "bash"
  }
 },
 "nbformat": 4,
 "nbformat_minor": 5
}
