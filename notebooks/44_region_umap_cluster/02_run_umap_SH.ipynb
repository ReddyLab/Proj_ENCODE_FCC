{
 "cells": [
  {
   "cell_type": "raw",
   "id": "cc4c94a4-434b-4320-a94f-6b89be6a2dfb",
   "metadata": {},
   "source": [
    "---\n",
    "title: Run UMAP on ATAC regions\n",
    "subtitle: Annotate peaks (ChIP-seq)\n",
    "format:\n",
    "    html:\n",
    "        code-fold:  true\n",
    "        code-tools: true\n",
    "---"
   ]
  },
  {
   "cell_type": "markdown",
   "id": "63c095dc-1eeb-4052-b4d0-4489775c6d4f",
   "metadata": {},
   "source": [
    "**Set environment**"
   ]
  },
  {
   "cell_type": "code",
   "execution_count": 1,
   "id": "06c05d50-1d15-4a50-b160-6e3eb252c357",
   "metadata": {},
   "outputs": [
    {
     "name": "stdout",
     "output_type": "stream",
     "text": [
      "You are working on             Duke Server: RCC\n",
      "BASE DIRECTORY (FD_BASE):      /data/reddylab/Kuei\n",
      "REPO DIRECTORY (FD_REPO):      /data/reddylab/Kuei/repo\n",
      "WORK DIRECTORY (FD_WORK):      /data/reddylab/Kuei/work\n",
      "DATA DIRECTORY (FD_DATA):      /data/reddylab/Kuei/data\n",
      "CONTAINER DIR. (FD_SING):      /data/reddylab/Kuei/container\n",
      "\n",
      "You are working with           ENCODE FCC\n",
      "PATH OF PROJECT (FD_PRJ):      /data/reddylab/Kuei/repo/Proj_ENCODE_FCC\n",
      "PROJECT RESULTS (FD_RES):      /data/reddylab/Kuei/repo/Proj_ENCODE_FCC/results\n",
      "PROJECT SCRIPTS (FD_EXE):      /data/reddylab/Kuei/repo/Proj_ENCODE_FCC/scripts\n",
      "PROJECT DATA    (FD_DAT):      /data/reddylab/Kuei/repo/Proj_ENCODE_FCC/data\n",
      "PROJECT NOTE    (FD_NBK):      /data/reddylab/Kuei/repo/Proj_ENCODE_FCC/notebooks\n",
      "PROJECT DOCS    (FD_DOC):      /data/reddylab/Kuei/repo/Proj_ENCODE_FCC/docs\n",
      "PROJECT LOG     (FD_LOG):      /data/reddylab/Kuei/repo/Proj_ENCODE_FCC/log\n",
      "PROJECT REF     (FD_REF):      /data/reddylab/Kuei/repo/Proj_ENCODE_FCC/references\n",
      "PROJECT IMAGE   (FP_PRJ_SIF):  /data/reddylab/Kuei/container/project/singularity_proj_encode_fcc.sif\n",
      "PROJECT CONF.   (FP_CNF):      /data/reddylab/Kuei/repo/Proj_ENCODE_FCC/scripts/config_project.sh\n",
      "\n"
     ]
    }
   ],
   "source": [
    "source ../run_config_project.sh\n",
    "show_env"
   ]
  },
  {
   "cell_type": "code",
   "execution_count": null,
   "id": "d98b1763-8495-4f74-ba1f-2e3cf094d82a",
   "metadata": {},
   "outputs": [],
   "source": []
  },
  {
   "cell_type": "code",
   "execution_count": null,
   "id": "0089129e-1b8e-4f3c-b0b5-0d2b713eb716",
   "metadata": {},
   "outputs": [],
   "source": []
  },
  {
   "cell_type": "code",
   "execution_count": null,
   "id": "7d3265c1-2dfb-4dee-a489-8939788e4704",
   "metadata": {},
   "outputs": [],
   "source": []
  },
  {
   "cell_type": "code",
   "execution_count": 3,
   "id": "19627bbb-97de-404d-b1e0-c24a36b1fbd1",
   "metadata": {},
   "outputs": [
    {
     "name": "stdout",
     "output_type": "stream",
     "text": [
      "\u001b[0m\u001b[01;34mfcc_starrmpracrispri_vote2\u001b[0m\n"
     ]
    }
   ],
   "source": [
    "FD_INP=${FD_RES}/analysis_umap_cluster_by_coverage\n",
    "FD_INP=${FD_INP}/fcc_astarr_macs_input_overlap\n",
    "\n",
    "ls ${FD_INP}"
   ]
  },
  {
   "cell_type": "code",
   "execution_count": 5,
   "id": "888cdb14-a581-404e-8ae9-f8b30a94c811",
   "metadata": {},
   "outputs": [
    {
     "name": "stdout",
     "output_type": "stream",
     "text": [
      "/data/reddylab/Kuei/repo/Proj_ENCODE_FCC/results/analysis_umap_cluster_by_coverage/fcc_astarr_macs_input_overlap/fcc_starrmpracrispri_vote2/prepare_matrix/matrix.coverage.encode_chipseq_full_log2p.tsv\n",
      "/data/reddylab/Kuei/repo/Proj_ENCODE_FCC/results/analysis_umap_cluster_by_coverage/fcc_astarr_macs_input_union/fcc_starrmpracrispri_vote2/prepare_matrix/matrix.coverage.encode_chipseq_full_log2p.tsv\n"
     ]
    }
   ],
   "source": [
    "FD_INP=${FD_RES}/analysis_umap_cluster_by_coverage\n",
    "\n",
    "\n",
    "ls ${FD_INP}/*/*/prepare_matrix/matrix*tsv"
   ]
  },
  {
   "cell_type": "code",
   "execution_count": 6,
   "id": "6197d1c5-445d-4dc0-90de-c2a51bc0616b",
   "metadata": {},
   "outputs": [
    {
     "name": "stdout",
     "output_type": "stream",
     "text": [
      "/data/reddylab/Kuei/repo/Proj_ENCODE_FCC/results/analysis_umap_cluster_by_coverage/fcc_astarr_macs_input_overlap/fcc_starrmpracrispri_vote2/prepare_matrix/matrix.coverage.encode_chipseq_full_log2p.tsv\n",
      "matrix.coverage.encode_chipseq_full_log2p.tsv\n",
      "\n",
      "/data/reddylab/Kuei/repo/Proj_ENCODE_FCC/results/analysis_umap_cluster_by_coverage/fcc_astarr_macs_input_union/fcc_starrmpracrispri_vote2/prepare_matrix/matrix.coverage.encode_chipseq_full_log2p.tsv\n",
      "matrix.coverage.encode_chipseq_full_log2p.tsv\n",
      "\n"
     ]
    }
   ],
   "source": [
    "FP_INPS=($(ls ${FD_INP}/*/*/prepare_matrix/matrix*tsv))\n",
    "for FP_INP in ${FP_INPS[@]}; do\n",
    "    FN_INP=$(basename ${FP_INP})\n",
    "    echo ${FP_INP}\n",
    "    echo ${FN_INP}\n",
    "    echo\n",
    "done"
   ]
  },
  {
   "cell_type": "code",
   "execution_count": 1,
   "id": "3e40d02a-0a96-448d-bdba-3c96f8bcd0ef",
   "metadata": {},
   "outputs": [
    {
     "name": "stdout",
     "output_type": "stream",
     "text": [
      "umap.metric_euclidean.neighbors_015\n",
      "umap.metric_euclidean.neighbors_015.coverage.encode_chipseq_full_log2p.tsv\n",
      "umap.metric_euclidean.neighbors_050\n",
      "umap.metric_euclidean.neighbors_050.coverage.encode_chipseq_full_log2p.tsv\n",
      "umap.metric_euclidean.neighbors_070\n",
      "umap.metric_euclidean.neighbors_070.coverage.encode_chipseq_full_log2p.tsv\n",
      "umap.metric_euclidean.neighbors_100\n",
      "umap.metric_euclidean.neighbors_100.coverage.encode_chipseq_full_log2p.tsv\n",
      "\n",
      "umap.metric_manhattan.neighbors_015\n",
      "umap.metric_manhattan.neighbors_015.coverage.encode_chipseq_full_log2p.tsv\n",
      "umap.metric_manhattan.neighbors_050\n",
      "umap.metric_manhattan.neighbors_050.coverage.encode_chipseq_full_log2p.tsv\n",
      "umap.metric_manhattan.neighbors_070\n",
      "umap.metric_manhattan.neighbors_070.coverage.encode_chipseq_full_log2p.tsv\n",
      "umap.metric_manhattan.neighbors_100\n",
      "umap.metric_manhattan.neighbors_100.coverage.encode_chipseq_full_log2p.tsv\n",
      "\n"
     ]
    }
   ],
   "source": [
    "VEC_NUM_NEIGHBORS=(15 50 70 100)\n",
    "VEC_TXT_METRIC=(\"euclidean\" \"manhattan\")\n",
    "\n",
    "for TXT_METRIC in ${VEC_TXT_METRIC[@]}; do\n",
    "    for NUM_NEIGHBORS in ${VEC_NUM_NEIGHBORS[@]}; do\n",
    "        TXT_NEIGHBORS=$(printf %03d $NUM_NEIGHBORS)\n",
    "        PREFIX=\"umap.metric_${TXT_METRIC}.neighbors_${TXT_NEIGHBORS}\"\n",
    "        FN_INP=\"matrix.coverage.encode_chipseq_full_log2p.tsv\"\n",
    "        FN_OUT=${FN_INP/matrix/${PREFIX}}\n",
    "        echo ${PREFIX}\n",
    "        echo ${FN_OUT}\n",
    "    done\n",
    "    echo\n",
    "done"
   ]
  },
  {
   "cell_type": "code",
   "execution_count": null,
   "id": "69025b74-85d9-4337-87b6-79e364e58a32",
   "metadata": {},
   "outputs": [],
   "source": []
  },
  {
   "cell_type": "code",
   "execution_count": null,
   "id": "a087712b-d225-4b7a-9685-55c676a65a65",
   "metadata": {},
   "outputs": [],
   "source": []
  },
  {
   "cell_type": "code",
   "execution_count": null,
   "id": "70bcd993-0dfb-4178-b4da-f51afb6fafd2",
   "metadata": {},
   "outputs": [],
   "source": []
  },
  {
   "cell_type": "code",
   "execution_count": 2,
   "id": "0b31b5e7-c6f5-429d-b0a2-756f231a85fe",
   "metadata": {},
   "outputs": [
    {
     "name": "stdout",
     "output_type": "stream",
     "text": [
      "/data/reddylab/Kuei/repo/Proj_ENCODE_FCC/results/analysis_umap_cluster_by_coverage/fcc_astarr_macs_input_overlap/fcc_starrmpracrispri_vote2/prepare_matrix/matrix.coverage.encode_chipseq_full_log2p.tsv\n",
      "matrix.coverage.encode_chipseq_full_log2p.tsv\n",
      "\n",
      "/data/reddylab/Kuei/repo/Proj_ENCODE_FCC/results/analysis_umap_cluster_by_coverage/fcc_astarr_macs_input_union/fcc_starrmpracrispri_vote2/prepare_matrix/matrix.coverage.encode_chipseq_full_log2p.tsv\n",
      "matrix.coverage.encode_chipseq_full_log2p.tsv\n",
      "\n"
     ]
    }
   ],
   "source": [
    "FD_INP=${FD_RES}/analysis_umap_cluster_by_coverage\n",
    "REGION=\"fcc_starrmpracrispri_vote2\"\n",
    "\n",
    "FP_INPS=($(ls ${FD_INP}/*/${REGION}/prepare_matrix/matrix*tsv))\n",
    "for FP_INP in ${FP_INPS[@]}; do\n",
    "    FN_INP=$(basename ${FP_INP})\n",
    "    echo ${FP_INP}\n",
    "    echo ${FN_INP}\n",
    "    echo\n",
    "done"
   ]
  },
  {
   "cell_type": "code",
   "execution_count": null,
   "id": "ab76b7b4-cb0a-4535-aa81-78b9af28ca08",
   "metadata": {},
   "outputs": [],
   "source": []
  },
  {
   "cell_type": "code",
   "execution_count": null,
   "id": "96f350f8-30f3-4fec-a0ab-bcc9a4ad834c",
   "metadata": {},
   "outputs": [],
   "source": []
  },
  {
   "cell_type": "code",
   "execution_count": null,
   "id": "3d5d02b9-625c-4468-bcfe-738963f53595",
   "metadata": {},
   "outputs": [],
   "source": []
  },
  {
   "cell_type": "code",
   "execution_count": 10,
   "id": "c5bd6edf-2da2-494d-9631-f568721aabd4",
   "metadata": {},
   "outputs": [
    {
     "name": "stdout",
     "output_type": "stream",
     "text": [
      "Input File:\n",
      "/data/reddylab/Kuei/repo/Proj_ENCODE_FCC/results/analysis_umap_cluster_by_coverage/fcc_astarr_macs_input_overlap/fcc_starrmpracrispri_vote2/prepare_matrix/matrix.coverage.encode_chipseq_full_log2p.tsv\n",
      "Output File:\n",
      "/data/reddylab/Kuei/repo/Proj_ENCODE_FCC/results/analysis_umap_cluster_by_coverage/fcc_astarr_macs_input_overlap/fcc_starrmpracrispri_vote2/run_umap/umap.metric_euclidean.neighbors_070.coverage.encode_chipseq_full_log2p.tsv\n",
      "Log File:\n",
      "${FD_LOG}/run.umap.metric_euclidean.neighbors_070.coverage.encode_chipseq_full_log2p.tsv.txt\n",
      "\n",
      "Submitted batch job 283037\n",
      "\n",
      "Input File:\n",
      "/data/reddylab/Kuei/repo/Proj_ENCODE_FCC/results/analysis_umap_cluster_by_coverage/fcc_astarr_macs_input_union/fcc_starrmpracrispri_vote2/prepare_matrix/matrix.coverage.encode_chipseq_full_log2p.tsv\n",
      "Output File:\n",
      "/data/reddylab/Kuei/repo/Proj_ENCODE_FCC/results/analysis_umap_cluster_by_coverage/fcc_astarr_macs_input_union/fcc_starrmpracrispri_vote2/run_umap/umap.metric_euclidean.neighbors_070.coverage.encode_chipseq_full_log2p.tsv\n",
      "Log File:\n",
      "${FD_LOG}/run.umap.metric_euclidean.neighbors_070.coverage.encode_chipseq_full_log2p.tsv.txt\n",
      "\n",
      "Submitted batch job 283038\n",
      "\n"
     ]
    }
   ],
   "source": [
    "NUM_NEIGHBORS=70\n",
    "TXT_METRIC=\"euclidean\"\n",
    "\n",
    "FD_INP=${FD_RES}/analysis_umap_cluster_by_coverage\n",
    "REGION=\"fcc_starrmpracrispri_vote2\"\n",
    "FP_INPS=($(ls ${FD_INP}/*/${REGION}/prepare_matrix/matrix*tsv))\n",
    "\n",
    "for FP_INP in ${FP_INPS[@]}; do\n",
    "    ### set output file prefix\n",
    "    TXT_NEIGHBORS=$(printf %03d $NUM_NEIGHBORS)\n",
    "    PREFIX=\"umap.metric_${TXT_METRIC}.neighbors_${TXT_NEIGHBORS}\"\n",
    "\n",
    "    ### set output directory\n",
    "    FD_TMP=$(dirname ${FP_INP})\n",
    "    FD_TMP=$(dirname ${FD_TMP})\n",
    "    FD_OUT=${FD_TMP}/run_umap\n",
    "\n",
    "    ### set output file\n",
    "    FN_INP=$(basename ${FP_INP})\n",
    "    FN_OUT=${FN_INP/matrix/${PREFIX}}\n",
    "    FP_OUT=${FD_OUT}/${FN_OUT}\n",
    "\n",
    "    ### set log file\n",
    "    FN_LOG=run.${FN_OUT}.txt\n",
    "    FP_LOG=${FD_LOG}/${FN_LOG}\n",
    "\n",
    "    ### show progress\n",
    "    echo \"Input File:\"\n",
    "    echo ${FP_INP}\n",
    "    echo \"Output File:\"\n",
    "    echo ${FP_OUT}\n",
    "    echo \"Log File:\"\n",
    "    echo '${FD_LOG}/'${FN_LOG}\n",
    "    echo\n",
    "\n",
    "    ### execute\n",
    "    mkdir -p ${FD_OUT}\n",
    "    sbatch \\\n",
    "        --cpus-per-task 10 \\\n",
    "        --mem 20G \\\n",
    "        --output ${FP_LOG} \\\n",
    "        ${FP_APP} python ${FP_EXE} ${FP_INP} ${FP_OUT} ${TXT_METRIC} ${NUM_NEIGHBORS}\n",
    "    echo\n",
    "done"
   ]
  },
  {
   "cell_type": "code",
   "execution_count": null,
   "id": "6cb77344-195d-4d0f-b36d-78fe50c038af",
   "metadata": {},
   "outputs": [],
   "source": []
  },
  {
   "cell_type": "code",
   "execution_count": 4,
   "id": "e839ad5b-1981-4cc7-9f25-3e4288f73d7d",
   "metadata": {},
   "outputs": [
    {
     "name": "stdout",
     "output_type": "stream",
     "text": [
      "Input File:\n",
      "/data/reddylab/Kuei/repo/Proj_ENCODE_FCC/results/analysis_umap_cluster_by_coverage/fcc_astarr_macs_input_overlap/fcc_starrmpracrispri_vote2/prepare_matrix/matrix.coverage.encode_chipseq_full_log2p.tsv\n",
      "Output File:\n",
      "/run_umap/umap.metric_euclidean.neighbors_015.coverage.encode_chipseq_full_log2p.tsv\n",
      "Log File:\n",
      "${FD_LOG}/run.umap.metric_euclidean.neighbors_015.coverage.encode_chipseq_full_log2p.tsv.txt\n",
      "\n",
      "Input File:\n",
      "/data/reddylab/Kuei/repo/Proj_ENCODE_FCC/results/analysis_umap_cluster_by_coverage/fcc_astarr_macs_input_overlap/fcc_starrmpracrispri_vote2/prepare_matrix/matrix.coverage.encode_chipseq_full_log2p.tsv\n",
      "Output File:\n",
      "/run_umap/umap.metric_euclidean.neighbors_050.coverage.encode_chipseq_full_log2p.tsv\n",
      "Log File:\n",
      "${FD_LOG}/run.umap.metric_euclidean.neighbors_050.coverage.encode_chipseq_full_log2p.tsv.txt\n",
      "\n",
      "Input File:\n",
      "/data/reddylab/Kuei/repo/Proj_ENCODE_FCC/results/analysis_umap_cluster_by_coverage/fcc_astarr_macs_input_overlap/fcc_starrmpracrispri_vote2/prepare_matrix/matrix.coverage.encode_chipseq_full_log2p.tsv\n",
      "Output File:\n",
      "/run_umap/umap.metric_euclidean.neighbors_070.coverage.encode_chipseq_full_log2p.tsv\n",
      "Log File:\n",
      "${FD_LOG}/run.umap.metric_euclidean.neighbors_070.coverage.encode_chipseq_full_log2p.tsv.txt\n",
      "\n",
      "Input File:\n",
      "/data/reddylab/Kuei/repo/Proj_ENCODE_FCC/results/analysis_umap_cluster_by_coverage/fcc_astarr_macs_input_overlap/fcc_starrmpracrispri_vote2/prepare_matrix/matrix.coverage.encode_chipseq_full_log2p.tsv\n",
      "Output File:\n",
      "/run_umap/umap.metric_euclidean.neighbors_100.coverage.encode_chipseq_full_log2p.tsv\n",
      "Log File:\n",
      "${FD_LOG}/run.umap.metric_euclidean.neighbors_100.coverage.encode_chipseq_full_log2p.tsv.txt\n",
      "\n",
      "\n",
      "Input File:\n",
      "/data/reddylab/Kuei/repo/Proj_ENCODE_FCC/results/analysis_umap_cluster_by_coverage/fcc_astarr_macs_input_overlap/fcc_starrmpracrispri_vote2/prepare_matrix/matrix.coverage.encode_chipseq_full_log2p.tsv\n",
      "Output File:\n",
      "/run_umap/umap.metric_manhattan.neighbors_015.coverage.encode_chipseq_full_log2p.tsv\n",
      "Log File:\n",
      "${FD_LOG}/run.umap.metric_manhattan.neighbors_015.coverage.encode_chipseq_full_log2p.tsv.txt\n",
      "\n",
      "Input File:\n",
      "/data/reddylab/Kuei/repo/Proj_ENCODE_FCC/results/analysis_umap_cluster_by_coverage/fcc_astarr_macs_input_overlap/fcc_starrmpracrispri_vote2/prepare_matrix/matrix.coverage.encode_chipseq_full_log2p.tsv\n",
      "Output File:\n",
      "/run_umap/umap.metric_manhattan.neighbors_050.coverage.encode_chipseq_full_log2p.tsv\n",
      "Log File:\n",
      "${FD_LOG}/run.umap.metric_manhattan.neighbors_050.coverage.encode_chipseq_full_log2p.tsv.txt\n",
      "\n",
      "Input File:\n",
      "/data/reddylab/Kuei/repo/Proj_ENCODE_FCC/results/analysis_umap_cluster_by_coverage/fcc_astarr_macs_input_overlap/fcc_starrmpracrispri_vote2/prepare_matrix/matrix.coverage.encode_chipseq_full_log2p.tsv\n",
      "Output File:\n",
      "/run_umap/umap.metric_manhattan.neighbors_070.coverage.encode_chipseq_full_log2p.tsv\n",
      "Log File:\n",
      "${FD_LOG}/run.umap.metric_manhattan.neighbors_070.coverage.encode_chipseq_full_log2p.tsv.txt\n",
      "\n",
      "Input File:\n",
      "/data/reddylab/Kuei/repo/Proj_ENCODE_FCC/results/analysis_umap_cluster_by_coverage/fcc_astarr_macs_input_overlap/fcc_starrmpracrispri_vote2/prepare_matrix/matrix.coverage.encode_chipseq_full_log2p.tsv\n",
      "Output File:\n",
      "/run_umap/umap.metric_manhattan.neighbors_100.coverage.encode_chipseq_full_log2p.tsv\n",
      "Log File:\n",
      "${FD_LOG}/run.umap.metric_manhattan.neighbors_100.coverage.encode_chipseq_full_log2p.tsv.txt\n",
      "\n",
      "\n",
      "Input File:\n",
      "/data/reddylab/Kuei/repo/Proj_ENCODE_FCC/results/analysis_umap_cluster_by_coverage/fcc_astarr_macs_input_union/fcc_starrmpracrispri_vote2/prepare_matrix/matrix.coverage.encode_chipseq_full_log2p.tsv\n",
      "Output File:\n",
      "/run_umap/umap.metric_euclidean.neighbors_015.coverage.encode_chipseq_full_log2p.tsv\n",
      "Log File:\n",
      "${FD_LOG}/run.umap.metric_euclidean.neighbors_015.coverage.encode_chipseq_full_log2p.tsv.txt\n",
      "\n",
      "Input File:\n",
      "/data/reddylab/Kuei/repo/Proj_ENCODE_FCC/results/analysis_umap_cluster_by_coverage/fcc_astarr_macs_input_union/fcc_starrmpracrispri_vote2/prepare_matrix/matrix.coverage.encode_chipseq_full_log2p.tsv\n",
      "Output File:\n",
      "/run_umap/umap.metric_euclidean.neighbors_050.coverage.encode_chipseq_full_log2p.tsv\n",
      "Log File:\n",
      "${FD_LOG}/run.umap.metric_euclidean.neighbors_050.coverage.encode_chipseq_full_log2p.tsv.txt\n",
      "\n",
      "Input File:\n",
      "/data/reddylab/Kuei/repo/Proj_ENCODE_FCC/results/analysis_umap_cluster_by_coverage/fcc_astarr_macs_input_union/fcc_starrmpracrispri_vote2/prepare_matrix/matrix.coverage.encode_chipseq_full_log2p.tsv\n",
      "Output File:\n",
      "/run_umap/umap.metric_euclidean.neighbors_070.coverage.encode_chipseq_full_log2p.tsv\n",
      "Log File:\n",
      "${FD_LOG}/run.umap.metric_euclidean.neighbors_070.coverage.encode_chipseq_full_log2p.tsv.txt\n",
      "\n",
      "Input File:\n",
      "/data/reddylab/Kuei/repo/Proj_ENCODE_FCC/results/analysis_umap_cluster_by_coverage/fcc_astarr_macs_input_union/fcc_starrmpracrispri_vote2/prepare_matrix/matrix.coverage.encode_chipseq_full_log2p.tsv\n",
      "Output File:\n",
      "/run_umap/umap.metric_euclidean.neighbors_100.coverage.encode_chipseq_full_log2p.tsv\n",
      "Log File:\n",
      "${FD_LOG}/run.umap.metric_euclidean.neighbors_100.coverage.encode_chipseq_full_log2p.tsv.txt\n",
      "\n",
      "\n",
      "Input File:\n",
      "/data/reddylab/Kuei/repo/Proj_ENCODE_FCC/results/analysis_umap_cluster_by_coverage/fcc_astarr_macs_input_union/fcc_starrmpracrispri_vote2/prepare_matrix/matrix.coverage.encode_chipseq_full_log2p.tsv\n",
      "Output File:\n",
      "/run_umap/umap.metric_manhattan.neighbors_015.coverage.encode_chipseq_full_log2p.tsv\n",
      "Log File:\n",
      "${FD_LOG}/run.umap.metric_manhattan.neighbors_015.coverage.encode_chipseq_full_log2p.tsv.txt\n",
      "\n",
      "Input File:\n",
      "/data/reddylab/Kuei/repo/Proj_ENCODE_FCC/results/analysis_umap_cluster_by_coverage/fcc_astarr_macs_input_union/fcc_starrmpracrispri_vote2/prepare_matrix/matrix.coverage.encode_chipseq_full_log2p.tsv\n",
      "Output File:\n",
      "/run_umap/umap.metric_manhattan.neighbors_050.coverage.encode_chipseq_full_log2p.tsv\n",
      "Log File:\n",
      "${FD_LOG}/run.umap.metric_manhattan.neighbors_050.coverage.encode_chipseq_full_log2p.tsv.txt\n",
      "\n",
      "Input File:\n",
      "/data/reddylab/Kuei/repo/Proj_ENCODE_FCC/results/analysis_umap_cluster_by_coverage/fcc_astarr_macs_input_union/fcc_starrmpracrispri_vote2/prepare_matrix/matrix.coverage.encode_chipseq_full_log2p.tsv\n",
      "Output File:\n",
      "/run_umap/umap.metric_manhattan.neighbors_070.coverage.encode_chipseq_full_log2p.tsv\n",
      "Log File:\n",
      "${FD_LOG}/run.umap.metric_manhattan.neighbors_070.coverage.encode_chipseq_full_log2p.tsv.txt\n",
      "\n",
      "Input File:\n",
      "/data/reddylab/Kuei/repo/Proj_ENCODE_FCC/results/analysis_umap_cluster_by_coverage/fcc_astarr_macs_input_union/fcc_starrmpracrispri_vote2/prepare_matrix/matrix.coverage.encode_chipseq_full_log2p.tsv\n",
      "Output File:\n",
      "/run_umap/umap.metric_manhattan.neighbors_100.coverage.encode_chipseq_full_log2p.tsv\n",
      "Log File:\n",
      "${FD_LOG}/run.umap.metric_manhattan.neighbors_100.coverage.encode_chipseq_full_log2p.tsv.txt\n",
      "\n",
      "\n"
     ]
    }
   ],
   "source": [
    "VEC_NUM_NEIGHBORS=(15 50 70 100)\n",
    "VEC_TXT_METRIC=(\"euclidean\" \"manhattan\")\n",
    "\n",
    "FP_EXE=${FD_EXE}/run_region_umap.py\n",
    "FP_APP=${FD_EXE}/sing_script.sh\n",
    "\n",
    "FD_INP=${FD_RES}/analysis_umap_cluster_by_coverage\n",
    "REGION=\"fcc_starrmpracrispri_vote2\"\n",
    "FP_INPS=($(ls ${FD_INP}/*/${REGION}/prepare_matrix/matrix*tsv))\n",
    "\n",
    "for FP_INP in ${FP_INPS[@]}; do\n",
    "    for TXT_METRIC in ${VEC_TXT_METRIC[@]}; do\n",
    "        for NUM_NEIGHBORS in ${VEC_NUM_NEIGHBORS[@]}; do\n",
    "            TXT_NEIGHBORS=$(printf %03d $NUM_NEIGHBORS)\n",
    "            PREFIX=\"umap.metric_${TXT_METRIC}.neighbors_${TXT_NEIGHBORS}\"\n",
    "\n",
    "            FD_TMP=$(dirname  ${FP_INP})\n",
    "            FD_TMP=$(dirname  ${FD_TMP})\n",
    "            FD_OUT=${FP_TMP}/run_umap\n",
    "            \n",
    "            FN_INP=$(basename ${FP_INP})\n",
    "            FN_OUT=${FN_INP/matrix/${PREFIX}}\n",
    "            FP_OUT=${FD_OUT}/${FN_OUT}\n",
    "            \n",
    "            FN_LOG=run.${FN_OUT}.txt\n",
    "            FP_LOG=${FD_LOG}/${FN_LOG}\n",
    "        \n",
    "            echo \"Input File:\"\n",
    "            echo ${FP_INP}\n",
    "            echo \"Output File:\"\n",
    "            echo ${FP_OUT}\n",
    "            echo \"Log File:\"\n",
    "            echo '${FD_LOG}/'${FN_LOG}\n",
    "            echo\n",
    "            \n",
    "        done\n",
    "        echo\n",
    "    done\n",
    "done"
   ]
  },
  {
   "cell_type": "code",
   "execution_count": null,
   "id": "dae1cd74-fe4d-44a5-a9af-e26b69a5ba95",
   "metadata": {},
   "outputs": [],
   "source": []
  }
 ],
 "metadata": {
  "kernelspec": {
   "display_name": "Bash",
   "language": "bash",
   "name": "bash"
  },
  "language_info": {
   "codemirror_mode": "shell",
   "file_extension": ".sh",
   "mimetype": "text/x-sh",
   "name": "bash"
  }
 },
 "nbformat": 4,
 "nbformat_minor": 5
}
