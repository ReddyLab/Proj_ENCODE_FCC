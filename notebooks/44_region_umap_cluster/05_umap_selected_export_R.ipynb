{
 "cells": [
  {
   "cell_type": "raw",
   "id": "6aaf1aec-74bb-461d-b2f9-96625c0c28bb",
   "metadata": {},
   "source": [
    "---\n",
    "title: Region annotation 11 (ASTARR MACS peaks)\n",
    "subtitle: Summarize annotations (Main)\n",
    "format:\n",
    "    html:\n",
    "        code-fold:  true\n",
    "        code-tools: true\n",
    "---"
   ]
  },
  {
   "cell_type": "markdown",
   "id": "7f3172a0-2e33-4b15-8ba1-b43992fb543d",
   "metadata": {},
   "source": [
    "**Set environment**"
   ]
  },
  {
   "cell_type": "code",
   "execution_count": 1,
   "id": "5b8e1d8b-c41e-40a5-b046-e5ca35294025",
   "metadata": {
    "tags": []
   },
   "outputs": [
    {
     "name": "stdout",
     "output_type": "stream",
     "text": [
      "You are working on        Singularity: singularity_proj_encode_fcc \n",
      "BASE DIRECTORY (FD_BASE): /data/reddylab/Kuei \n",
      "REPO DIRECTORY (FD_REPO): /data/reddylab/Kuei/repo \n",
      "WORK DIRECTORY (FD_WORK): /data/reddylab/Kuei/work \n",
      "DATA DIRECTORY (FD_DATA): /data/reddylab/Kuei/data \n",
      "\n",
      "You are working with      ENCODE FCC \n",
      "PATH OF PROJECT (FD_PRJ): /data/reddylab/Kuei/repo/Proj_ENCODE_FCC \n",
      "PROJECT RESULTS (FD_RES): /data/reddylab/Kuei/repo/Proj_ENCODE_FCC/results \n",
      "PROJECT SCRIPTS (FD_EXE): /data/reddylab/Kuei/repo/Proj_ENCODE_FCC/scripts \n",
      "PROJECT DATA    (FD_DAT): /data/reddylab/Kuei/repo/Proj_ENCODE_FCC/data \n",
      "PROJECT NOTE    (FD_NBK): /data/reddylab/Kuei/repo/Proj_ENCODE_FCC/notebooks \n",
      "PROJECT DOCS    (FD_DOC): /data/reddylab/Kuei/repo/Proj_ENCODE_FCC/docs \n",
      "PROJECT LOG     (FD_LOG): /data/reddylab/Kuei/repo/Proj_ENCODE_FCC/log \n",
      "PROJECT REF     (FD_REF): /data/reddylab/Kuei/repo/Proj_ENCODE_FCC/references \n",
      "\n"
     ]
    }
   ],
   "source": [
    "suppressMessages(suppressWarnings(source(\"../run_config_project_sing.R\")))\n",
    "show_env()"
   ]
  },
  {
   "cell_type": "markdown",
   "id": "0d7b0eb9-c0f1-4d53-a9fe-02bb333ca38c",
   "metadata": {},
   "source": [
    "## Prepare"
   ]
  },
  {
   "cell_type": "markdown",
   "id": "e9cc7993-f74e-455c-ac4f-4f4c30f00137",
   "metadata": {},
   "source": [
    "**Set global variable**"
   ]
  },
  {
   "cell_type": "code",
   "execution_count": 2,
   "id": "e00db2f3-cef1-4afe-ae25-60b325c4640b",
   "metadata": {},
   "outputs": [
    {
     "name": "stdout",
     "output_type": "stream",
     "text": [
      "fcc_astarr_macs_input_overlap \n",
      "fcc_astarr_macs_input_union \n"
     ]
    }
   ],
   "source": [
    "vec = c(\n",
    "    \"fcc_astarr_macs_input_overlap\",\n",
    "    \"fcc_astarr_macs_input_union\"\n",
    ")\n",
    "names(vec) = vec\n",
    "\n",
    "VEC_TXT_FOLDER = vec\n",
    "for(txt in vec){cat(txt, \"\\n\")}"
   ]
  },
  {
   "cell_type": "code",
   "execution_count": 3,
   "id": "f5dc65af-470d-4727-845d-5bbd7c4a73cf",
   "metadata": {},
   "outputs": [],
   "source": [
    "TXT_FNAME_INP = \"umap.metric_euclidean.neighbors_070.coverage.encode_chipseq_full_log2p.tsv\""
   ]
  },
  {
   "cell_type": "markdown",
   "id": "3ab11fcb-8ee0-419e-9d20-512ce94c3111",
   "metadata": {},
   "source": [
    "**View files**"
   ]
  },
  {
   "cell_type": "code",
   "execution_count": 4,
   "id": "09a9171f-e1f8-4aab-9bed-77a89fba9416",
   "metadata": {},
   "outputs": [
    {
     "name": "stdout",
     "output_type": "stream",
     "text": [
      "/data/reddylab/Kuei/repo/Proj_ENCODE_FCC/results/analysis_umap_cluster_by_coverage/fcc_astarr_macs_input_overlap/fcc_starrmpracrispri_vote2/run_umap/umap.metric_euclidean.neighbors_070.coverage.encode_chipseq_full_log2p.tsv \n",
      "/data/reddylab/Kuei/repo/Proj_ENCODE_FCC/results/analysis_umap_cluster_by_coverage/fcc_astarr_macs_input_union/fcc_starrmpracrispri_vote2/run_umap/umap.metric_euclidean.neighbors_070.coverage.encode_chipseq_full_log2p.tsv \n"
     ]
    }
   ],
   "source": [
    "txt_fdiry = file.path(\n",
    "    FD_RES, \n",
    "    \"analysis_umap_cluster_by_coverage\", \n",
    "    \"*\",\n",
    "    \"fcc_starrmpracrispri_vote2\",\n",
    "    \"run_umap\"\n",
    ")\n",
    "txt_fname = TXT_FNAME_INP\n",
    "txt_fglob = file.path(txt_fdiry, txt_fname)\n",
    "\n",
    "vec = Sys.glob(txt_fglob)\n",
    "for(txt in vec){cat(txt, \"\\n\")}"
   ]
  },
  {
   "cell_type": "markdown",
   "id": "566ce723-5207-44c4-a86b-7f6f7e65a82e",
   "metadata": {},
   "source": [
    "## Import data"
   ]
  },
  {
   "cell_type": "markdown",
   "id": "37c34235-6a09-41e8-9d6f-215723401605",
   "metadata": {},
   "source": [
    "**Import region pairs**"
   ]
  },
  {
   "cell_type": "code",
   "execution_count": 6,
   "id": "91d3a49a-0726-489a-ae8d-93080df10e03",
   "metadata": {},
   "outputs": [
    {
     "name": "stdout",
     "output_type": "stream",
     "text": [
      "$fcc_astarr_macs_input_overlap\n",
      "[1] 33953     3\n",
      "\n",
      "$fcc_astarr_macs_input_union\n",
      "[1] 39788     3\n",
      "\n"
     ]
    },
    {
     "data": {
      "text/html": [
       "<table>\n",
       " <thead>\n",
       "  <tr>\n",
       "   <th style=\"text-align:right;\"> UMAP1 </th>\n",
       "   <th style=\"text-align:right;\"> UMAP2 </th>\n",
       "   <th style=\"text-align:left;\"> Region </th>\n",
       "  </tr>\n",
       " </thead>\n",
       "<tbody>\n",
       "  <tr>\n",
       "   <td style=\"text-align:right;\"> -1.680812 </td>\n",
       "   <td style=\"text-align:right;\"> 5.204691 </td>\n",
       "   <td style=\"text-align:left;\"> chr1:605104-605675 </td>\n",
       "  </tr>\n",
       "  <tr>\n",
       "   <td style=\"text-align:right;\"> 8.620607 </td>\n",
       "   <td style=\"text-align:right;\"> 5.645398 </td>\n",
       "   <td style=\"text-align:left;\"> chr1:778233-779389 </td>\n",
       "  </tr>\n",
       "  <tr>\n",
       "   <td style=\"text-align:right;\"> -1.475871 </td>\n",
       "   <td style=\"text-align:right;\"> 3.743281 </td>\n",
       "   <td style=\"text-align:left;\"> chr1:818708-819335 </td>\n",
       "  </tr>\n",
       "</tbody>\n",
       "</table>"
      ]
     },
     "metadata": {},
     "output_type": "display_data"
    }
   ],
   "source": [
    "### loop to import data\n",
    "lst = lapply(VEC_TXT_FOLDER, function(txt_folder){\n",
    "    ### set file directory\n",
    "    txt_fdiry = file.path(\n",
    "        FD_RES, \n",
    "        \"analysis_umap_cluster_by_coverage\", \n",
    "        txt_folder,\n",
    "        \"fcc_starrmpracrispri_vote2\",\n",
    "        \"run_umap\"\n",
    "    )\n",
    "    txt_fname = TXT_FNAME_INP\n",
    "    txt_fpath = file.path(txt_fdiry, txt_fname)\n",
    "\n",
    "    ### read table\n",
    "    dat = read_tsv(txt_fpath, show_col_types = FALSE)\n",
    "    return(dat)\n",
    "})\n",
    "\n",
    "### assign and show\n",
    "lst_dat_region_umap_import = lst\n",
    "\n",
    "res = lapply(lst, dim)\n",
    "print(res)\n",
    "\n",
    "dat = lst[[1]]\n",
    "fun_display_table(head(dat, 3))"
   ]
  },
  {
   "cell_type": "markdown",
   "id": "41125acd-0ce4-462b-9cd2-0678da56ac9c",
   "metadata": {},
   "source": [
    "## Summarize"
   ]
  },
  {
   "cell_type": "code",
   "execution_count": 8,
   "id": "61eefba3-86f5-4dc2-bb51-e0110b6d6206",
   "metadata": {},
   "outputs": [
    {
     "name": "stdout",
     "output_type": "stream",
     "text": [
      "$fcc_astarr_macs_input_overlap\n",
      "[1] 33953     6\n",
      "\n",
      "$fcc_astarr_macs_input_union\n",
      "[1] 39788     6\n",
      "\n"
     ]
    },
    {
     "data": {
      "text/html": [
       "<table>\n",
       " <thead>\n",
       "  <tr>\n",
       "   <th style=\"text-align:left;\"> Chrom </th>\n",
       "   <th style=\"text-align:left;\"> ChromStart </th>\n",
       "   <th style=\"text-align:left;\"> ChromEnd </th>\n",
       "   <th style=\"text-align:left;\"> Region </th>\n",
       "   <th style=\"text-align:right;\"> UMAP1 </th>\n",
       "   <th style=\"text-align:right;\"> UMAP2 </th>\n",
       "  </tr>\n",
       " </thead>\n",
       "<tbody>\n",
       "  <tr>\n",
       "   <td style=\"text-align:left;\"> chr1 </td>\n",
       "   <td style=\"text-align:left;\"> 605104 </td>\n",
       "   <td style=\"text-align:left;\"> 605675 </td>\n",
       "   <td style=\"text-align:left;\"> chr1:605104-605675 </td>\n",
       "   <td style=\"text-align:right;\"> -1.680812 </td>\n",
       "   <td style=\"text-align:right;\"> 5.204691 </td>\n",
       "  </tr>\n",
       "  <tr>\n",
       "   <td style=\"text-align:left;\"> chr1 </td>\n",
       "   <td style=\"text-align:left;\"> 778233 </td>\n",
       "   <td style=\"text-align:left;\"> 779389 </td>\n",
       "   <td style=\"text-align:left;\"> chr1:778233-779389 </td>\n",
       "   <td style=\"text-align:right;\"> 8.620607 </td>\n",
       "   <td style=\"text-align:right;\"> 5.645398 </td>\n",
       "  </tr>\n",
       "  <tr>\n",
       "   <td style=\"text-align:left;\"> chr1 </td>\n",
       "   <td style=\"text-align:left;\"> 818708 </td>\n",
       "   <td style=\"text-align:left;\"> 819335 </td>\n",
       "   <td style=\"text-align:left;\"> chr1:818708-819335 </td>\n",
       "   <td style=\"text-align:right;\"> -1.475871 </td>\n",
       "   <td style=\"text-align:right;\"> 3.743281 </td>\n",
       "  </tr>\n",
       "</tbody>\n",
       "</table>"
      ]
     },
     "metadata": {},
     "output_type": "display_data"
    }
   ],
   "source": [
    "### rename columns\n",
    "lst = lst_dat_region_umap_import\n",
    "lst = lapply(lst, function(dat){\n",
    "    ### convert into bed file format\n",
    "    dat = dat %>% \n",
    "        tidyr::separate(Region, into = c(\"Chrom\", \"ChromStart\", \"ChromEnd\"), remove = FALSE) %>%\n",
    "        dplyr::select(Chrom, ChromStart, ChromEnd, Region, UMAP1, UMAP2) %>%\n",
    "        dplyr::distinct()\n",
    "    return(dat)\n",
    "})\n",
    "\n",
    "### assign and show\n",
    "lst_dat_region_umap_arrange = lst\n",
    "\n",
    "res = lapply(lst, dim)\n",
    "print(res)\n",
    "\n",
    "dat = lst[[1]]\n",
    "fun_display_table(head(dat, 3))"
   ]
  },
  {
   "cell_type": "markdown",
   "id": "fbf284af-c2af-4bc1-bca6-74a276842851",
   "metadata": {},
   "source": [
    "## Export"
   ]
  },
  {
   "cell_type": "code",
   "execution_count": 10,
   "id": "fbd84610-516a-4980-abbb-c714a380ac94",
   "metadata": {},
   "outputs": [],
   "source": [
    "for (txt_folder in VEC_TXT_FOLDER){\n",
    "    ### set file directory\n",
    "    txt_fdiry = file.path(\n",
    "        FD_RES, \n",
    "        \"analysis_umap_cluster_by_coverage\", \n",
    "        txt_folder,\n",
    "        \"fcc_starrmpracrispri_vote2\",\n",
    "        \"summary\"\n",
    "    )\n",
    "    ### set command\n",
    "    txt_cmd = paste(\"mkdir -p\", txt_fdiry)\n",
    "    \n",
    "    ### execute\n",
    "    system(txt_cmd)\n",
    "}"
   ]
  },
  {
   "cell_type": "code",
   "execution_count": 11,
   "id": "762521ee-c265-469c-91f4-eb259cec87f6",
   "metadata": {},
   "outputs": [],
   "source": [
    "for (txt_folder in VEC_TXT_FOLDER){\n",
    "\n",
    "    ### get tables\n",
    "    dat_region_result = lst_dat_region_umap_arrange[[txt_folder]]\n",
    "    \n",
    "    ### set file directory\n",
    "    txt_fdiry = file.path(\n",
    "        FD_RES, \n",
    "        \"analysis_umap_cluster_by_coverage\", \n",
    "        txt_folder,\n",
    "        \"fcc_starrmpracrispri_vote2\",\n",
    "        \"summary\"\n",
    "    )\n",
    "    \n",
    "    ### write table\n",
    "    txt_fname = \"region.umap.metric_euclidean.neighbors_070.coverage.encode_chipseq_full_log2p.tsv\"\n",
    "    txt_fpath = file.path(txt_fdiry, txt_fname)\n",
    "    \n",
    "    dat = dat_region_result\n",
    "    dat = dat %>% dplyr::arrange(Chrom, ChromStart, ChromEnd)\n",
    "    write_tsv(dat, txt_fpath)\n",
    "}"
   ]
  },
  {
   "cell_type": "markdown",
   "id": "fd5389ec-4916-4520-9128-4cec8e02fd90",
   "metadata": {},
   "source": [
    "**Save a copy to reference folder**"
   ]
  },
  {
   "cell_type": "code",
   "execution_count": 14,
   "id": "f8b73e8e-f379-4745-89d9-52d0d59c687b",
   "metadata": {},
   "outputs": [],
   "source": [
    "txt_fdiry = file.path(FD_REF, \"fcc_region_results\")\n",
    "txt_fname = \"region.fcc_starrmpra_vote2.umap.metric_euclidean.neighbors_070.coverage.encode_chipseq_full_log2p.tsv\"\n",
    "txt_fpath = file.path(txt_fdiry, txt_fname)\n",
    "\n",
    "idx = \"fcc_astarr_macs_input_overlap\"\n",
    "dat = lst_dat_region_umap_arrange[[idx]]\n",
    "dat = dat %>% dplyr::arrange(Chrom, ChromStart, ChromEnd) \n",
    "write_tsv(dat, txt_fpath)"
   ]
  },
  {
   "cell_type": "code",
   "execution_count": null,
   "id": "694bd5d7-692a-4b87-bcd0-7a834447c969",
   "metadata": {},
   "outputs": [],
   "source": []
  }
 ],
 "metadata": {
  "kernelspec": {
   "display_name": "R",
   "language": "R",
   "name": "ir"
  },
  "language_info": {
   "codemirror_mode": "r",
   "file_extension": ".r",
   "mimetype": "text/x-r-source",
   "name": "R",
   "pygments_lexer": "r",
   "version": "4.4.2"
  }
 },
 "nbformat": 4,
 "nbformat_minor": 5
}
