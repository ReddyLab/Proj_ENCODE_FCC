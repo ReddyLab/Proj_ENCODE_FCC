{
 "cells": [
  {
   "cell_type": "raw",
   "id": "71b82768-5bd7-41c7-a5d6-1194da296be2",
   "metadata": {},
   "source": [
    "---\n",
    "title: CRISPR vs STARRMPRA 11\n",
    "subtitle: Show table of distance correlation\n",
    "format:\n",
    "    html:\n",
    "        code-fold:  true\n",
    "        code-tools: true\n",
    "---"
   ]
  },
  {
   "cell_type": "markdown",
   "id": "481dbf57-8929-4fe0-84b7-c909f515c598",
   "metadata": {},
   "source": [
    "**Set environment**"
   ]
  },
  {
   "cell_type": "code",
   "execution_count": 6,
   "id": "68e7f939-40b9-444e-bc5e-a9f2c3b7f053",
   "metadata": {},
   "outputs": [
    {
     "name": "stdout",
     "output_type": "stream",
     "text": [
      "You are working on        Singularity: singularity_proj_encode_fcc \n",
      "BASE DIRECTORY (FD_BASE): /data/reddylab/Kuei \n",
      "REPO DIRECTORY (FD_REPO): /data/reddylab/Kuei/repo \n",
      "WORK DIRECTORY (FD_WORK): /data/reddylab/Kuei/work \n",
      "DATA DIRECTORY (FD_DATA): /data/reddylab/Kuei/data \n",
      "\n",
      "You are working with      ENCODE FCC \n",
      "PATH OF PROJECT (FD_PRJ): /data/reddylab/Kuei/repo/Proj_ENCODE_FCC \n",
      "PROJECT RESULTS (FD_RES): /data/reddylab/Kuei/repo/Proj_ENCODE_FCC/results \n",
      "PROJECT SCRIPTS (FD_EXE): /data/reddylab/Kuei/repo/Proj_ENCODE_FCC/scripts \n",
      "PROJECT DATA    (FD_DAT): /data/reddylab/Kuei/repo/Proj_ENCODE_FCC/data \n",
      "PROJECT NOTE    (FD_NBK): /data/reddylab/Kuei/repo/Proj_ENCODE_FCC/notebooks \n",
      "PROJECT DOCS    (FD_DOC): /data/reddylab/Kuei/repo/Proj_ENCODE_FCC/docs \n",
      "PROJECT LOG     (FD_LOG): /data/reddylab/Kuei/repo/Proj_ENCODE_FCC/log \n",
      "PROJECT REF     (FD_REF): /data/reddylab/Kuei/repo/Proj_ENCODE_FCC/references \n",
      "\n"
     ]
    }
   ],
   "source": [
    "suppressMessages(suppressWarnings(source(\"../run_config_project_sing.R\")))\n",
    "show_env()"
   ]
  },
  {
   "cell_type": "markdown",
   "id": "40c122ee-bc30-4e67-ba18-9b25164ab684",
   "metadata": {},
   "source": [
    "**Set global variable**"
   ]
  },
  {
   "cell_type": "code",
   "execution_count": 7,
   "id": "5801d82f-af6b-404f-b065-9f0a4ae48594",
   "metadata": {},
   "outputs": [
    {
     "name": "stdout",
     "output_type": "stream",
     "text": [
      "fcc_astarr_macs_input_overlap \n",
      "fcc_astarr_macs_input_union \n"
     ]
    }
   ],
   "source": [
    "## init: region folder\n",
    "vec = c(\"fcc_astarr_macs_input_overlap\", \"fcc_astarr_macs_input_union\")\n",
    "names(vec) = vec\n",
    "\n",
    "VEC_TXT_FOLDER = vec\n",
    "for (txt in vec) {cat(txt, \"\\n\")}"
   ]
  },
  {
   "cell_type": "code",
   "execution_count": 8,
   "id": "bc2113fe-cc33-4b2c-8234-8f3e1762952f",
   "metadata": {},
   "outputs": [],
   "source": [
    "vec = c(\"CRISPRi-HCRFF\", \"CRISPRi-Growth\", \"ENCODE-rE2G Benchmark\", \"CRISPR\")\n",
    "names(vec) = vec\n",
    "VEC_TXT_ASSAY_OUT = vec\n",
    "\n",
    "vec = c(\"ASTARR\", \"WSTARR\", \"LMPRA\", \"TMPRA\", \"ATAC\")\n",
    "names(vec) = vec\n",
    "VEC_TXT_ASSAY_INP = vec"
   ]
  },
  {
   "cell_type": "markdown",
   "id": "1ffe9808-288b-4472-a1d0-1d0f05c0e537",
   "metadata": {},
   "source": [
    "**Check input files**"
   ]
  },
  {
   "cell_type": "code",
   "execution_count": 9,
   "id": "74f11822-976c-4397-8088-dc3a3e27610e",
   "metadata": {},
   "outputs": [
    {
     "name": "stdout",
     "output_type": "stream",
     "text": [
      "/data/reddylab/Kuei/repo/Proj_ENCODE_FCC/results/analysis_fcc_correlation/fcc_astarr_macs_input_union/result.cripsr_vs_starrmpra.distance_correlation.tsv \n"
     ]
    }
   ],
   "source": [
    "txt_folder = \"fcc_astarr_macs_input_union\"\n",
    "txt_fdiry  = file.path(FD_RES, \"analysis_fcc_correlation\", txt_folder)\n",
    "txt_fname  = \"*distance_correlation*\"\n",
    "txt_fglob  = file.path(txt_fdiry, txt_fname)\n",
    "\n",
    "vec = Sys.glob(txt_fglob)\n",
    "for (txt in vec) {cat(txt, \"\\n\")}"
   ]
  },
  {
   "cell_type": "markdown",
   "id": "8aadb406-26a9-4c81-b43f-81c66a2b64e5",
   "metadata": {},
   "source": [
    "## Import data"
   ]
  },
  {
   "cell_type": "code",
   "execution_count": 13,
   "id": "e535f720-77a5-48d9-a6fd-c3fb3612901a",
   "metadata": {},
   "outputs": [
    {
     "name": "stdout",
     "output_type": "stream",
     "text": [
      "[1] 15  7\n"
     ]
    },
    {
     "data": {
      "text/html": [
       "<table>\n",
       " <thead>\n",
       "  <tr>\n",
       "   <th style=\"text-align:left;\"> Assay_CRISPR </th>\n",
       "   <th style=\"text-align:left;\"> Assay_STARRMPRA </th>\n",
       "   <th style=\"text-align:right;\"> scor </th>\n",
       "   <th style=\"text-align:right;\"> dcor </th>\n",
       "   <th style=\"text-align:right;\"> pval </th>\n",
       "   <th style=\"text-align:right;\"> padj </th>\n",
       "   <th style=\"text-align:right;\"> size </th>\n",
       "  </tr>\n",
       " </thead>\n",
       "<tbody>\n",
       "  <tr>\n",
       "   <td style=\"text-align:left;\"> CRISPRi-HCRFF </td>\n",
       "   <td style=\"text-align:left;\"> ASTARR </td>\n",
       "   <td style=\"text-align:right;\"> 0.0386677 </td>\n",
       "   <td style=\"text-align:right;\"> 0.1229384 </td>\n",
       "   <td style=\"text-align:right;\"> 0.005 </td>\n",
       "   <td style=\"text-align:right;\"> 0.005 </td>\n",
       "   <td style=\"text-align:right;\"> 1330 </td>\n",
       "  </tr>\n",
       "  <tr>\n",
       "   <td style=\"text-align:left;\"> CRISPRi-HCRFF </td>\n",
       "   <td style=\"text-align:left;\"> WSTARR </td>\n",
       "   <td style=\"text-align:right;\"> 0.0349937 </td>\n",
       "   <td style=\"text-align:right;\"> 0.1076867 </td>\n",
       "   <td style=\"text-align:right;\"> 0.005 </td>\n",
       "   <td style=\"text-align:right;\"> 0.005 </td>\n",
       "   <td style=\"text-align:right;\"> 1306 </td>\n",
       "  </tr>\n",
       "  <tr>\n",
       "   <td style=\"text-align:left;\"> CRISPRi-HCRFF </td>\n",
       "   <td style=\"text-align:left;\"> LMPRA </td>\n",
       "   <td style=\"text-align:right;\"> 0.0182321 </td>\n",
       "   <td style=\"text-align:right;\"> 0.1244118 </td>\n",
       "   <td style=\"text-align:right;\"> 0.005 </td>\n",
       "   <td style=\"text-align:right;\"> 0.005 </td>\n",
       "   <td style=\"text-align:right;\"> 721 </td>\n",
       "  </tr>\n",
       "  <tr>\n",
       "   <td style=\"text-align:left;\"> CRISPRi-HCRFF </td>\n",
       "   <td style=\"text-align:left;\"> TMPRA </td>\n",
       "   <td style=\"text-align:right;\"> 0.0019486 </td>\n",
       "   <td style=\"text-align:right;\"> 0.1422553 </td>\n",
       "   <td style=\"text-align:right;\"> 0.005 </td>\n",
       "   <td style=\"text-align:right;\"> 0.005 </td>\n",
       "   <td style=\"text-align:right;\"> 632 </td>\n",
       "  </tr>\n",
       "  <tr>\n",
       "   <td style=\"text-align:left;\"> CRISPRi-HCRFF </td>\n",
       "   <td style=\"text-align:left;\"> ATAC </td>\n",
       "   <td style=\"text-align:right;\"> 0.0659424 </td>\n",
       "   <td style=\"text-align:right;\"> 0.1807591 </td>\n",
       "   <td style=\"text-align:right;\"> 0.005 </td>\n",
       "   <td style=\"text-align:right;\"> 0.005 </td>\n",
       "   <td style=\"text-align:right;\"> 1330 </td>\n",
       "  </tr>\n",
       "  <tr>\n",
       "   <td style=\"text-align:left;\"> CRISPRi-Growth </td>\n",
       "   <td style=\"text-align:left;\"> ASTARR </td>\n",
       "   <td style=\"text-align:right;\"> -0.0180952 </td>\n",
       "   <td style=\"text-align:right;\"> 0.0527377 </td>\n",
       "   <td style=\"text-align:right;\"> 0.000 </td>\n",
       "   <td style=\"text-align:right;\"> 0.000 </td>\n",
       "   <td style=\"text-align:right;\"> 80288 </td>\n",
       "  </tr>\n",
       "  <tr>\n",
       "   <td style=\"text-align:left;\"> CRISPRi-Growth </td>\n",
       "   <td style=\"text-align:left;\"> WSTARR </td>\n",
       "   <td style=\"text-align:right;\"> 0.0938136 </td>\n",
       "   <td style=\"text-align:right;\"> 0.1030646 </td>\n",
       "   <td style=\"text-align:right;\"> 0.000 </td>\n",
       "   <td style=\"text-align:right;\"> 0.000 </td>\n",
       "   <td style=\"text-align:right;\"> 79528 </td>\n",
       "  </tr>\n",
       "  <tr>\n",
       "   <td style=\"text-align:left;\"> CRISPRi-Growth </td>\n",
       "   <td style=\"text-align:left;\"> LMPRA </td>\n",
       "   <td style=\"text-align:right;\"> 0.0732455 </td>\n",
       "   <td style=\"text-align:right;\"> 0.1049379 </td>\n",
       "   <td style=\"text-align:right;\"> 0.000 </td>\n",
       "   <td style=\"text-align:right;\"> 0.000 </td>\n",
       "   <td style=\"text-align:right;\"> 53957 </td>\n",
       "  </tr>\n",
       "  <tr>\n",
       "   <td style=\"text-align:left;\"> CRISPRi-Growth </td>\n",
       "   <td style=\"text-align:left;\"> TMPRA </td>\n",
       "   <td style=\"text-align:right;\"> 0.1533737 </td>\n",
       "   <td style=\"text-align:right;\"> 0.1628685 </td>\n",
       "   <td style=\"text-align:right;\"> 0.005 </td>\n",
       "   <td style=\"text-align:right;\"> 0.005 </td>\n",
       "   <td style=\"text-align:right;\"> 708 </td>\n",
       "  </tr>\n",
       "  <tr>\n",
       "   <td style=\"text-align:left;\"> CRISPRi-Growth </td>\n",
       "   <td style=\"text-align:left;\"> ATAC </td>\n",
       "   <td style=\"text-align:right;\"> 0.0878955 </td>\n",
       "   <td style=\"text-align:right;\"> 0.1202718 </td>\n",
       "   <td style=\"text-align:right;\"> 0.000 </td>\n",
       "   <td style=\"text-align:right;\"> 0.000 </td>\n",
       "   <td style=\"text-align:right;\"> 80288 </td>\n",
       "  </tr>\n",
       "  <tr>\n",
       "   <td style=\"text-align:left;\"> ENCODE-rE2G Benchmark </td>\n",
       "   <td style=\"text-align:left;\"> ASTARR </td>\n",
       "   <td style=\"text-align:right;\"> -0.1385846 </td>\n",
       "   <td style=\"text-align:right;\"> 0.1760506 </td>\n",
       "   <td style=\"text-align:right;\"> 0.005 </td>\n",
       "   <td style=\"text-align:right;\"> 0.005 </td>\n",
       "   <td style=\"text-align:right;\"> 3169 </td>\n",
       "  </tr>\n",
       "  <tr>\n",
       "   <td style=\"text-align:left;\"> ENCODE-rE2G Benchmark </td>\n",
       "   <td style=\"text-align:left;\"> WSTARR </td>\n",
       "   <td style=\"text-align:right;\"> -0.0780332 </td>\n",
       "   <td style=\"text-align:right;\"> 0.0917318 </td>\n",
       "   <td style=\"text-align:right;\"> 0.005 </td>\n",
       "   <td style=\"text-align:right;\"> 0.005 </td>\n",
       "   <td style=\"text-align:right;\"> 3154 </td>\n",
       "  </tr>\n",
       "  <tr>\n",
       "   <td style=\"text-align:left;\"> ENCODE-rE2G Benchmark </td>\n",
       "   <td style=\"text-align:left;\"> LMPRA </td>\n",
       "   <td style=\"text-align:right;\"> -0.0444022 </td>\n",
       "   <td style=\"text-align:right;\"> 0.0733794 </td>\n",
       "   <td style=\"text-align:right;\"> 0.005 </td>\n",
       "   <td style=\"text-align:right;\"> 0.005 </td>\n",
       "   <td style=\"text-align:right;\"> 2691 </td>\n",
       "  </tr>\n",
       "  <tr>\n",
       "   <td style=\"text-align:left;\"> ENCODE-rE2G Benchmark </td>\n",
       "   <td style=\"text-align:left;\"> TMPRA </td>\n",
       "   <td style=\"text-align:right;\"> -0.1772569 </td>\n",
       "   <td style=\"text-align:right;\"> 0.3202003 </td>\n",
       "   <td style=\"text-align:right;\"> 0.005 </td>\n",
       "   <td style=\"text-align:right;\"> 0.005 </td>\n",
       "   <td style=\"text-align:right;\"> 217 </td>\n",
       "  </tr>\n",
       "  <tr>\n",
       "   <td style=\"text-align:left;\"> ENCODE-rE2G Benchmark </td>\n",
       "   <td style=\"text-align:left;\"> ATAC </td>\n",
       "   <td style=\"text-align:right;\"> -0.1765386 </td>\n",
       "   <td style=\"text-align:right;\"> 0.1866028 </td>\n",
       "   <td style=\"text-align:right;\"> 0.005 </td>\n",
       "   <td style=\"text-align:right;\"> 0.005 </td>\n",
       "   <td style=\"text-align:right;\"> 3169 </td>\n",
       "  </tr>\n",
       "</tbody>\n",
       "</table>"
      ]
     },
     "metadata": {},
     "output_type": "display_data"
    }
   ],
   "source": [
    "### set file directory\n",
    "txt_foldr = \"fcc_astarr_macs_input_union\"\n",
    "txt_fdiry = file.path(FD_RES, \"analysis_fcc_correlation\", txt_foldr)\n",
    "txt_fname = \"result.cripsr_vs_starrmpra.distance_correlation.tsv\"\n",
    "txt_fpath = file.path(txt_fdiry, txt_fname)\n",
    "\n",
    "### read table\n",
    "dat = read_tsv(txt_fpath, show_col_types = FALSE)\n",
    "\n",
    "### assign and show\n",
    "dat_dcor_stats = dat\n",
    "print(dim(dat))\n",
    "fun_display_table(dat)"
   ]
  },
  {
   "cell_type": "code",
   "execution_count": 15,
   "id": "7ec861f5-fece-40f2-af2f-d7a7d87449fe",
   "metadata": {},
   "outputs": [
    {
     "name": "stdout",
     "output_type": "stream",
     "text": [
      "\u001b[90m# A tibble: 15 × 4\u001b[39m\n",
      "   Assay_CRISPR          Assay_STARRMPRA     pval     padj\n",
      "   \u001b[3m\u001b[90m<chr>\u001b[39m\u001b[23m                 \u001b[3m\u001b[90m<chr>\u001b[39m\u001b[23m              \u001b[3m\u001b[90m<dbl>\u001b[39m\u001b[23m    \u001b[3m\u001b[90m<dbl>\u001b[39m\u001b[23m\n",
      "\u001b[90m 1\u001b[39m CRISPRi-HCRFF         ASTARR          5   \u001b[90me\u001b[39m\u001b[31m- 3\u001b[39m 5   \u001b[90me\u001b[39m\u001b[31m- 3\u001b[39m\n",
      "\u001b[90m 2\u001b[39m CRISPRi-HCRFF         WSTARR          5   \u001b[90me\u001b[39m\u001b[31m- 3\u001b[39m 5   \u001b[90me\u001b[39m\u001b[31m- 3\u001b[39m\n",
      "\u001b[90m 3\u001b[39m CRISPRi-HCRFF         LMPRA           5   \u001b[90me\u001b[39m\u001b[31m- 3\u001b[39m 5   \u001b[90me\u001b[39m\u001b[31m- 3\u001b[39m\n",
      "\u001b[90m 4\u001b[39m CRISPRi-HCRFF         TMPRA           5   \u001b[90me\u001b[39m\u001b[31m- 3\u001b[39m 5   \u001b[90me\u001b[39m\u001b[31m- 3\u001b[39m\n",
      "\u001b[90m 5\u001b[39m CRISPRi-HCRFF         ATAC            5   \u001b[90me\u001b[39m\u001b[31m- 3\u001b[39m 5   \u001b[90me\u001b[39m\u001b[31m- 3\u001b[39m\n",
      "\u001b[90m 6\u001b[39m CRISPRi-Growth        ASTARR          3.65\u001b[90me\u001b[39m\u001b[31m-12\u001b[39m 1.37\u001b[90me\u001b[39m\u001b[31m-11\u001b[39m\n",
      "\u001b[90m 7\u001b[39m CRISPRi-Growth        WSTARR          1.06\u001b[90me\u001b[39m\u001b[31m-13\u001b[39m 5.31\u001b[90me\u001b[39m\u001b[31m-13\u001b[39m\n",
      "\u001b[90m 8\u001b[39m CRISPRi-Growth        LMPRA           1.06\u001b[90me\u001b[39m\u001b[31m-13\u001b[39m 5.31\u001b[90me\u001b[39m\u001b[31m-13\u001b[39m\n",
      "\u001b[90m 9\u001b[39m CRISPRi-Growth        TMPRA           5   \u001b[90me\u001b[39m\u001b[31m- 3\u001b[39m 5   \u001b[90me\u001b[39m\u001b[31m- 3\u001b[39m\n",
      "\u001b[90m10\u001b[39m CRISPRi-Growth        ATAC            1.06\u001b[90me\u001b[39m\u001b[31m-13\u001b[39m 5.31\u001b[90me\u001b[39m\u001b[31m-13\u001b[39m\n",
      "\u001b[90m11\u001b[39m ENCODE-rE2G Benchmark ASTARR          5   \u001b[90me\u001b[39m\u001b[31m- 3\u001b[39m 5   \u001b[90me\u001b[39m\u001b[31m- 3\u001b[39m\n",
      "\u001b[90m12\u001b[39m ENCODE-rE2G Benchmark WSTARR          5   \u001b[90me\u001b[39m\u001b[31m- 3\u001b[39m 5   \u001b[90me\u001b[39m\u001b[31m- 3\u001b[39m\n",
      "\u001b[90m13\u001b[39m ENCODE-rE2G Benchmark LMPRA           5   \u001b[90me\u001b[39m\u001b[31m- 3\u001b[39m 5   \u001b[90me\u001b[39m\u001b[31m- 3\u001b[39m\n",
      "\u001b[90m14\u001b[39m ENCODE-rE2G Benchmark TMPRA           5   \u001b[90me\u001b[39m\u001b[31m- 3\u001b[39m 5   \u001b[90me\u001b[39m\u001b[31m- 3\u001b[39m\n",
      "\u001b[90m15\u001b[39m ENCODE-rE2G Benchmark ATAC            5   \u001b[90me\u001b[39m\u001b[31m- 3\u001b[39m 5   \u001b[90me\u001b[39m\u001b[31m- 3\u001b[39m\n"
     ]
    }
   ],
   "source": [
    "dat = dat_dcor_stats\n",
    "dat = dat %>% dplyr::select(Assay_CRISPR, Assay_STARRMPRA, pval, padj)\n",
    "print(dat)"
   ]
  },
  {
   "cell_type": "code",
   "execution_count": null,
   "id": "c3438f1b-c890-4a51-8993-1b3cb1cd8161",
   "metadata": {},
   "outputs": [],
   "source": []
  }
 ],
 "metadata": {
  "kernelspec": {
   "display_name": "R",
   "language": "R",
   "name": "ir"
  },
  "language_info": {
   "codemirror_mode": "r",
   "file_extension": ".r",
   "mimetype": "text/x-r-source",
   "name": "R",
   "pygments_lexer": "r",
   "version": "4.5.1"
  }
 },
 "nbformat": 4,
 "nbformat_minor": 5
}
