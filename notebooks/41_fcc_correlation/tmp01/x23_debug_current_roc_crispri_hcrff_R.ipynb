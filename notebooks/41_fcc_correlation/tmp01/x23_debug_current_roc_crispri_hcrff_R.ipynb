{
 "cells": [
  {
   "cell_type": "raw",
   "id": "844e4a8b-9bcb-4bac-b97d-d4f95c26be9a",
   "metadata": {},
   "source": [
    "---\n",
    "title: ...\n",
    "subtitle: combine ATAC, setup total, final, and share verion of table\n",
    "format:\n",
    "    html:\n",
    "        code-fold:  true\n",
    "        code-tools: true\n",
    "---"
   ]
  },
  {
   "cell_type": "markdown",
   "id": "bf1b7862-09bd-4499-8c5f-678a3aa9d279",
   "metadata": {},
   "source": [
    "**Set environment**"
   ]
  },
  {
   "cell_type": "code",
   "execution_count": 1,
   "id": "3dfce3b9-b17d-434f-b3c2-94e0213a113d",
   "metadata": {},
   "outputs": [
    {
     "name": "stdout",
     "output_type": "stream",
     "text": [
      "You are working on        Singularity: singularity_proj_encode_fcc \n",
      "BASE DIRECTORY (FD_BASE): /data/reddylab/Kuei \n",
      "REPO DIRECTORY (FD_REPO): /data/reddylab/Kuei/repo \n",
      "WORK DIRECTORY (FD_WORK): /data/reddylab/Kuei/work \n",
      "DATA DIRECTORY (FD_DATA): /data/reddylab/Kuei/data \n",
      "\n",
      "You are working with      ENCODE FCC \n",
      "PATH OF PROJECT (FD_PRJ): /data/reddylab/Kuei/repo/Proj_ENCODE_FCC \n",
      "PROJECT RESULTS (FD_RES): /data/reddylab/Kuei/repo/Proj_ENCODE_FCC/results \n",
      "PROJECT SCRIPTS (FD_EXE): /data/reddylab/Kuei/repo/Proj_ENCODE_FCC/scripts \n",
      "PROJECT DATA    (FD_DAT): /data/reddylab/Kuei/repo/Proj_ENCODE_FCC/data \n",
      "PROJECT NOTE    (FD_NBK): /data/reddylab/Kuei/repo/Proj_ENCODE_FCC/notebooks \n",
      "PROJECT DOCS    (FD_DOC): /data/reddylab/Kuei/repo/Proj_ENCODE_FCC/docs \n",
      "PROJECT LOG     (FD_LOG): /data/reddylab/Kuei/repo/Proj_ENCODE_FCC/log \n",
      "PROJECT REF     (FD_REF): /data/reddylab/Kuei/repo/Proj_ENCODE_FCC/references \n",
      "\n"
     ]
    }
   ],
   "source": [
    "suppressMessages(suppressWarnings(source(\"../run_config_project_sing.R\")))\n",
    "show_env()"
   ]
  },
  {
   "cell_type": "markdown",
   "id": "8d733b1b-fc05-43a5-87ef-e8e0b2003241",
   "metadata": {},
   "source": [
    "**Set global variables**"
   ]
  },
  {
   "cell_type": "code",
   "execution_count": 2,
   "id": "25ee923f-c231-4ac4-8740-094bf7374c4f",
   "metadata": {},
   "outputs": [
    {
     "name": "stdout",
     "output_type": "stream",
     "text": [
      "atac_ENCFF333TAT \n",
      "atac_ENCFF558BLC \n",
      "atac_ENCFF925CYR \n",
      "atac_ENCFF948AFM \n",
      "dnase_ENCFF185XRG \n",
      "dnase_ENCFF274YGF \n",
      "fcc_astarr_macs_input_overlap \n",
      "fcc_astarr_macs_input_union \n"
     ]
    }
   ],
   "source": [
    "txt_fdiry = file.path(FD_RES, \"region_coverage_fcc\")\n",
    "vec = dir(txt_fdiry)\n",
    "for (txt in vec) {cat(txt, \"\\n\")}"
   ]
  },
  {
   "cell_type": "code",
   "execution_count": 3,
   "id": "7902492c-95c2-4dc9-8139-9bc774cc0324",
   "metadata": {},
   "outputs": [
    {
     "name": "stdout",
     "output_type": "stream",
     "text": [
      "CRISPRi_FlowFISH_K562_Riley_JinWoo \n",
      "CRISPRi_Growth_K562_Gersbach_JinWoo \n",
      "MPRA_Lenti_K562_Nadav_Vikram \n",
      "MPRA_Tiling_K562_Tewhey_Hannah \n",
      "STARR_ATAC_K562_Reddy_KS274 \n",
      "STARR_ATAC_K562_Reddy_KS91 \n",
      "STARR_ATAC_K562_Reddy_KSMerge \n",
      "STARR_WHG_K562_Reddy_A001 \n",
      "summary \n"
     ]
    }
   ],
   "source": [
    "txt_region = \"fcc_astarr_macs_input_union\"\n",
    "txt_fdiry  = file.path(FD_RES, \"region_coverage_fcc\", txt_region)\n",
    "vec = dir(txt_fdiry)\n",
    "for (txt in vec) {cat(txt, \"\\n\")}"
   ]
  },
  {
   "cell_type": "code",
   "execution_count": 4,
   "id": "29f570b6-1059-4980-8123-7824a8e81573",
   "metadata": {},
   "outputs": [
    {
     "name": "stdout",
     "output_type": "stream",
     "text": [
      "fcc_astarr_macs_input_overlap \n",
      "fcc_astarr_macs_input_union \n"
     ]
    }
   ],
   "source": [
    "#txt_fdiry = file.path(FD_RES, \"region_coverage_fcc\")\n",
    "#vec = dir(txt_fdiry)\n",
    "vec = c(\"fcc_astarr_macs_input_overlap\", \"fcc_astarr_macs_input_union\")\n",
    "names(vec) = vec\n",
    "\n",
    "VEC_TXT_REGION = vec\n",
    "for (txt in vec) {cat(txt, \"\\n\")}"
   ]
  },
  {
   "cell_type": "markdown",
   "id": "c1a85906-7379-40bd-b494-0451c200e1e0",
   "metadata": {},
   "source": [
    "## Import data"
   ]
  },
  {
   "cell_type": "code",
   "execution_count": 5,
   "id": "58fcbdaa-46b4-4dbd-9175-331a847c6dca",
   "metadata": {},
   "outputs": [
    {
     "name": "stdout",
     "output_type": "stream",
     "text": [
      "$fcc_astarr_macs_input_overlap\n",
      "[1] 432928      9\n",
      "\n",
      "$fcc_astarr_macs_input_union\n",
      "[1] 639718      9\n",
      "\n"
     ]
    },
    {
     "data": {
      "text/html": [
       "<table class=\"dataframe\">\n",
       "<caption>A tibble: 3 × 9</caption>\n",
       "<thead>\n",
       "\t<tr><th scope=col>Chrom</th><th scope=col>ChromStart</th><th scope=col>ChromEnd</th><th scope=col>Region</th><th scope=col>Score</th><th scope=col>Assay_Name</th><th scope=col>Assay_Type</th><th scope=col>Assay_Group</th><th scope=col>Assay_Label</th></tr>\n",
       "\t<tr><th scope=col>&lt;chr&gt;</th><th scope=col>&lt;dbl&gt;</th><th scope=col>&lt;dbl&gt;</th><th scope=col>&lt;chr&gt;</th><th scope=col>&lt;dbl&gt;</th><th scope=col>&lt;chr&gt;</th><th scope=col>&lt;chr&gt;</th><th scope=col>&lt;chr&gt;</th><th scope=col>&lt;chr&gt;</th></tr>\n",
       "</thead>\n",
       "<tbody>\n",
       "\t<tr><td>chr11</td><td>4092109</td><td>4092511</td><td>chr11:4092109-4092511</td><td>-0.4446170</td><td>CRISPRi_FlowFISH_K562_Riley_JinWoo</td><td>CRISPRi-HCRFF</td><td>CRISPRi-HCRFF</td><td>CRISPRi-HCR FlowFISH</td></tr>\n",
       "\t<tr><td>chr11</td><td>4094223</td><td>4095304</td><td>chr11:4094223-4095304</td><td>-0.2302549</td><td>CRISPRi_FlowFISH_K562_Riley_JinWoo</td><td>CRISPRi-HCRFF</td><td>CRISPRi-HCRFF</td><td>CRISPRi-HCR FlowFISH</td></tr>\n",
       "\t<tr><td>chr11</td><td>4144721</td><td>4147004</td><td>chr11:4144721-4147004</td><td>-0.2878661</td><td>CRISPRi_FlowFISH_K562_Riley_JinWoo</td><td>CRISPRi-HCRFF</td><td>CRISPRi-HCRFF</td><td>CRISPRi-HCR FlowFISH</td></tr>\n",
       "</tbody>\n",
       "</table>\n"
      ],
      "text/latex": [
       "A tibble: 3 × 9\n",
       "\\begin{tabular}{lllllllll}\n",
       " Chrom & ChromStart & ChromEnd & Region & Score & Assay\\_Name & Assay\\_Type & Assay\\_Group & Assay\\_Label\\\\\n",
       " <chr> & <dbl> & <dbl> & <chr> & <dbl> & <chr> & <chr> & <chr> & <chr>\\\\\n",
       "\\hline\n",
       "\t chr11 & 4092109 & 4092511 & chr11:4092109-4092511 & -0.4446170 & CRISPRi\\_FlowFISH\\_K562\\_Riley\\_JinWoo & CRISPRi-HCRFF & CRISPRi-HCRFF & CRISPRi-HCR FlowFISH\\\\\n",
       "\t chr11 & 4094223 & 4095304 & chr11:4094223-4095304 & -0.2302549 & CRISPRi\\_FlowFISH\\_K562\\_Riley\\_JinWoo & CRISPRi-HCRFF & CRISPRi-HCRFF & CRISPRi-HCR FlowFISH\\\\\n",
       "\t chr11 & 4144721 & 4147004 & chr11:4144721-4147004 & -0.2878661 & CRISPRi\\_FlowFISH\\_K562\\_Riley\\_JinWoo & CRISPRi-HCRFF & CRISPRi-HCRFF & CRISPRi-HCR FlowFISH\\\\\n",
       "\\end{tabular}\n"
      ],
      "text/markdown": [
       "\n",
       "A tibble: 3 × 9\n",
       "\n",
       "| Chrom &lt;chr&gt; | ChromStart &lt;dbl&gt; | ChromEnd &lt;dbl&gt; | Region &lt;chr&gt; | Score &lt;dbl&gt; | Assay_Name &lt;chr&gt; | Assay_Type &lt;chr&gt; | Assay_Group &lt;chr&gt; | Assay_Label &lt;chr&gt; |\n",
       "|---|---|---|---|---|---|---|---|---|\n",
       "| chr11 | 4092109 | 4092511 | chr11:4092109-4092511 | -0.4446170 | CRISPRi_FlowFISH_K562_Riley_JinWoo | CRISPRi-HCRFF | CRISPRi-HCRFF | CRISPRi-HCR FlowFISH |\n",
       "| chr11 | 4094223 | 4095304 | chr11:4094223-4095304 | -0.2302549 | CRISPRi_FlowFISH_K562_Riley_JinWoo | CRISPRi-HCRFF | CRISPRi-HCRFF | CRISPRi-HCR FlowFISH |\n",
       "| chr11 | 4144721 | 4147004 | chr11:4144721-4147004 | -0.2878661 | CRISPRi_FlowFISH_K562_Riley_JinWoo | CRISPRi-HCRFF | CRISPRi-HCRFF | CRISPRi-HCR FlowFISH |\n",
       "\n"
      ],
      "text/plain": [
       "  Chrom ChromStart ChromEnd Region                Score     \n",
       "1 chr11 4092109    4092511  chr11:4092109-4092511 -0.4446170\n",
       "2 chr11 4094223    4095304  chr11:4094223-4095304 -0.2302549\n",
       "3 chr11 4144721    4147004  chr11:4144721-4147004 -0.2878661\n",
       "  Assay_Name                         Assay_Type    Assay_Group  \n",
       "1 CRISPRi_FlowFISH_K562_Riley_JinWoo CRISPRi-HCRFF CRISPRi-HCRFF\n",
       "2 CRISPRi_FlowFISH_K562_Riley_JinWoo CRISPRi-HCRFF CRISPRi-HCRFF\n",
       "3 CRISPRi_FlowFISH_K562_Riley_JinWoo CRISPRi-HCRFF CRISPRi-HCRFF\n",
       "  Assay_Label         \n",
       "1 CRISPRi-HCR FlowFISH\n",
       "2 CRISPRi-HCR FlowFISH\n",
       "3 CRISPRi-HCR FlowFISH"
      ]
     },
     "metadata": {},
     "output_type": "display_data"
    }
   ],
   "source": [
    "lst = lapply(VEC_TXT_REGION, function(txt_region){\n",
    "    ### set file directory\n",
    "    txt_fdiry  = file.path(\n",
    "        FD_RES, \n",
    "        \"region_coverage_fcc\", \n",
    "        txt_region, \n",
    "        \"summary\"\n",
    "    )\n",
    "    txt_fname = \"result.coverage.score.final.tsv\"\n",
    "    txt_fpath = file.path(txt_fdiry, txt_fname)\n",
    "\n",
    "    ### read table\n",
    "    dat = read_tsv(txt_fpath, show_col_types = FALSE)\n",
    "    return(dat)\n",
    "})\n",
    "\n",
    "### assign and show\n",
    "lst_dat_region_score_import = lst\n",
    "\n",
    "res = lapply(lst, dim)\n",
    "print(res)\n",
    "\n",
    "dat = lst[[1]]\n",
    "head(dat, 3)"
   ]
  },
  {
   "cell_type": "code",
   "execution_count": 17,
   "id": "c9a42b69-e7db-4e03-b1fe-afdd142f1394",
   "metadata": {},
   "outputs": [
    {
     "name": "stdout",
     "output_type": "stream",
     "text": [
      "[1] 639718      9\n"
     ]
    },
    {
     "data": {
      "text/plain": [
       "                \n",
       "                 ASTARR_KS91 CRISPRi-Growth CRISPRi-HCRFF  LMPRA  TMPRA WSTARR\n",
       "  ASTARR              246850              0             0      0      0      0\n",
       "  CRISPRi-Growth           0          80288             0      0      0      0\n",
       "  CRISPRi-HCRFF            0              0          1330      0      0      0\n",
       "  LMPRA                    0              0             0  68497      0      0\n",
       "  TMPRA                    0              0             0      0   1722      0\n",
       "  WSTARR                   0              0             0      0      0 241031"
      ]
     },
     "metadata": {},
     "output_type": "display_data"
    }
   ],
   "source": [
    "lst = lst_dat_region_score_import \n",
    "dat = lst[[\"fcc_astarr_macs_input_union\"]]\n",
    "\n",
    "dat_peak_atac_fcc_total = dat\n",
    "print(dim(dat))\n",
    "table(dat$Assay_Type,dat$Assay_Group)"
   ]
  },
  {
   "cell_type": "code",
   "execution_count": 18,
   "id": "d67c80cc-141f-43cb-b0f2-bd1700f44e15",
   "metadata": {},
   "outputs": [
    {
     "name": "stdout",
     "output_type": "stream",
     "text": [
      "\n",
      "ASTARR  LMPRA  TMPRA WSTARR \n",
      "246850  68497   1722 241031 \n"
     ]
    }
   ],
   "source": [
    "vec = c(\"ASTARR\", \"WSTARR\", \"TMPRA\", \"LMPRA\", \"ATAC\")\n",
    "lst = lst_dat_region_score_import \n",
    "dat = lst[[\"fcc_astarr_macs_input_union\"]]\n",
    "dat = dat %>% dplyr::filter(Assay_Type %in% vec)\n",
    "res = table(dat$Assay_Type)\n",
    "print(res)"
   ]
  },
  {
   "cell_type": "markdown",
   "id": "748b789a-7fc0-4386-a82d-79ef9ce6c28e",
   "metadata": {},
   "source": [
    "ASTARR  LMPRA  TMPRA WSTARR \n",
    "246850  68420   1722 246688 "
   ]
  },
  {
   "cell_type": "code",
   "execution_count": 9,
   "id": "e82e1c1e-a1b5-4ff7-baee-d35e6e09aaff",
   "metadata": {},
   "outputs": [
    {
     "name": "stdout",
     "output_type": "stream",
     "text": [
      "[1] \"ASTARR\"         \"CRISPRi-Growth\" \"CRISPRi-HCRFF\"  \"LMPRA\"         \n",
      "[5] \"TMPRA\"          \"WSTARR\"        \n",
      "[1] 1330    9\n",
      "[1] 80288     9\n"
     ]
    }
   ],
   "source": [
    "lst = lst_dat_region_score_import \n",
    "dat = lst[[\"fcc_astarr_macs_input_union\"]]\n",
    "\n",
    "lst = split(dat, dat$Assay_Type)\n",
    "print(names(lst))\n",
    "dat_peak_total_crispri_hcrff  = lst[[\"CRISPRi-HCRFF\"]]\n",
    "dat_peak_total_crispri_growth = lst[[\"CRISPRi-Growth\"]]\n",
    "\n",
    "dat = dat_peak_total_crispri_hcrff\n",
    "print(dim(dat))\n",
    "\n",
    "dat = dat_peak_total_crispri_growth\n",
    "print(dim(dat))"
   ]
  },
  {
   "cell_type": "code",
   "execution_count": 12,
   "id": "36e77cae-5e62-47ce-82cf-2f17adb1f19b",
   "metadata": {},
   "outputs": [
    {
     "data": {
      "text/html": [
       "<table class=\"dataframe\">\n",
       "<caption>A tibble: 6 × 9</caption>\n",
       "<thead>\n",
       "\t<tr><th scope=col>Chrom</th><th scope=col>ChromStart</th><th scope=col>ChromEnd</th><th scope=col>Region</th><th scope=col>Score</th><th scope=col>Assay_Name</th><th scope=col>Assay_Type</th><th scope=col>Assay_Group</th><th scope=col>Assay_Label</th></tr>\n",
       "\t<tr><th scope=col>&lt;chr&gt;</th><th scope=col>&lt;dbl&gt;</th><th scope=col>&lt;dbl&gt;</th><th scope=col>&lt;chr&gt;</th><th scope=col>&lt;dbl&gt;</th><th scope=col>&lt;chr&gt;</th><th scope=col>&lt;chr&gt;</th><th scope=col>&lt;chr&gt;</th><th scope=col>&lt;chr&gt;</th></tr>\n",
       "</thead>\n",
       "<tbody>\n",
       "\t<tr><td>chr11</td><td>4092104</td><td>4092566</td><td>chr11:4092104-4092566</td><td>-0.4800155</td><td>CRISPRi_FlowFISH_K562_Riley_JinWoo</td><td>CRISPRi-HCRFF</td><td>CRISPRi-HCRFF</td><td>CRISPRi-HCR FlowFISH</td></tr>\n",
       "\t<tr><td>chr11</td><td>4094204</td><td>4095676</td><td>chr11:4094204-4095676</td><td>-0.2046389</td><td>CRISPRi_FlowFISH_K562_Riley_JinWoo</td><td>CRISPRi-HCRFF</td><td>CRISPRi-HCRFF</td><td>CRISPRi-HCR FlowFISH</td></tr>\n",
       "\t<tr><td>chr11</td><td>4144511</td><td>4147030</td><td>chr11:4144511-4147030</td><td>-0.2753264</td><td>CRISPRi_FlowFISH_K562_Riley_JinWoo</td><td>CRISPRi-HCRFF</td><td>CRISPRi-HCRFF</td><td>CRISPRi-HCR FlowFISH</td></tr>\n",
       "\t<tr><td>chr11</td><td>4167268</td><td>4168022</td><td>chr11:4167268-4168022</td><td>-0.3613763</td><td>CRISPRi_FlowFISH_K562_Riley_JinWoo</td><td>CRISPRi-HCRFF</td><td>CRISPRi-HCRFF</td><td>CRISPRi-HCR FlowFISH</td></tr>\n",
       "\t<tr><td>chr11</td><td>4181723</td><td>4182583</td><td>chr11:4181723-4182583</td><td>-0.2445883</td><td>CRISPRi_FlowFISH_K562_Riley_JinWoo</td><td>CRISPRi-HCRFF</td><td>CRISPRi-HCRFF</td><td>CRISPRi-HCR FlowFISH</td></tr>\n",
       "\t<tr><td>chr11</td><td>4186880</td><td>4188018</td><td>chr11:4186880-4188018</td><td>-0.3477101</td><td>CRISPRi_FlowFISH_K562_Riley_JinWoo</td><td>CRISPRi-HCRFF</td><td>CRISPRi-HCRFF</td><td>CRISPRi-HCR FlowFISH</td></tr>\n",
       "</tbody>\n",
       "</table>\n"
      ],
      "text/latex": [
       "A tibble: 6 × 9\n",
       "\\begin{tabular}{lllllllll}\n",
       " Chrom & ChromStart & ChromEnd & Region & Score & Assay\\_Name & Assay\\_Type & Assay\\_Group & Assay\\_Label\\\\\n",
       " <chr> & <dbl> & <dbl> & <chr> & <dbl> & <chr> & <chr> & <chr> & <chr>\\\\\n",
       "\\hline\n",
       "\t chr11 & 4092104 & 4092566 & chr11:4092104-4092566 & -0.4800155 & CRISPRi\\_FlowFISH\\_K562\\_Riley\\_JinWoo & CRISPRi-HCRFF & CRISPRi-HCRFF & CRISPRi-HCR FlowFISH\\\\\n",
       "\t chr11 & 4094204 & 4095676 & chr11:4094204-4095676 & -0.2046389 & CRISPRi\\_FlowFISH\\_K562\\_Riley\\_JinWoo & CRISPRi-HCRFF & CRISPRi-HCRFF & CRISPRi-HCR FlowFISH\\\\\n",
       "\t chr11 & 4144511 & 4147030 & chr11:4144511-4147030 & -0.2753264 & CRISPRi\\_FlowFISH\\_K562\\_Riley\\_JinWoo & CRISPRi-HCRFF & CRISPRi-HCRFF & CRISPRi-HCR FlowFISH\\\\\n",
       "\t chr11 & 4167268 & 4168022 & chr11:4167268-4168022 & -0.3613763 & CRISPRi\\_FlowFISH\\_K562\\_Riley\\_JinWoo & CRISPRi-HCRFF & CRISPRi-HCRFF & CRISPRi-HCR FlowFISH\\\\\n",
       "\t chr11 & 4181723 & 4182583 & chr11:4181723-4182583 & -0.2445883 & CRISPRi\\_FlowFISH\\_K562\\_Riley\\_JinWoo & CRISPRi-HCRFF & CRISPRi-HCRFF & CRISPRi-HCR FlowFISH\\\\\n",
       "\t chr11 & 4186880 & 4188018 & chr11:4186880-4188018 & -0.3477101 & CRISPRi\\_FlowFISH\\_K562\\_Riley\\_JinWoo & CRISPRi-HCRFF & CRISPRi-HCRFF & CRISPRi-HCR FlowFISH\\\\\n",
       "\\end{tabular}\n"
      ],
      "text/markdown": [
       "\n",
       "A tibble: 6 × 9\n",
       "\n",
       "| Chrom &lt;chr&gt; | ChromStart &lt;dbl&gt; | ChromEnd &lt;dbl&gt; | Region &lt;chr&gt; | Score &lt;dbl&gt; | Assay_Name &lt;chr&gt; | Assay_Type &lt;chr&gt; | Assay_Group &lt;chr&gt; | Assay_Label &lt;chr&gt; |\n",
       "|---|---|---|---|---|---|---|---|---|\n",
       "| chr11 | 4092104 | 4092566 | chr11:4092104-4092566 | -0.4800155 | CRISPRi_FlowFISH_K562_Riley_JinWoo | CRISPRi-HCRFF | CRISPRi-HCRFF | CRISPRi-HCR FlowFISH |\n",
       "| chr11 | 4094204 | 4095676 | chr11:4094204-4095676 | -0.2046389 | CRISPRi_FlowFISH_K562_Riley_JinWoo | CRISPRi-HCRFF | CRISPRi-HCRFF | CRISPRi-HCR FlowFISH |\n",
       "| chr11 | 4144511 | 4147030 | chr11:4144511-4147030 | -0.2753264 | CRISPRi_FlowFISH_K562_Riley_JinWoo | CRISPRi-HCRFF | CRISPRi-HCRFF | CRISPRi-HCR FlowFISH |\n",
       "| chr11 | 4167268 | 4168022 | chr11:4167268-4168022 | -0.3613763 | CRISPRi_FlowFISH_K562_Riley_JinWoo | CRISPRi-HCRFF | CRISPRi-HCRFF | CRISPRi-HCR FlowFISH |\n",
       "| chr11 | 4181723 | 4182583 | chr11:4181723-4182583 | -0.2445883 | CRISPRi_FlowFISH_K562_Riley_JinWoo | CRISPRi-HCRFF | CRISPRi-HCRFF | CRISPRi-HCR FlowFISH |\n",
       "| chr11 | 4186880 | 4188018 | chr11:4186880-4188018 | -0.3477101 | CRISPRi_FlowFISH_K562_Riley_JinWoo | CRISPRi-HCRFF | CRISPRi-HCRFF | CRISPRi-HCR FlowFISH |\n",
       "\n"
      ],
      "text/plain": [
       "  Chrom ChromStart ChromEnd Region                Score     \n",
       "1 chr11 4092104    4092566  chr11:4092104-4092566 -0.4800155\n",
       "2 chr11 4094204    4095676  chr11:4094204-4095676 -0.2046389\n",
       "3 chr11 4144511    4147030  chr11:4144511-4147030 -0.2753264\n",
       "4 chr11 4167268    4168022  chr11:4167268-4168022 -0.3613763\n",
       "5 chr11 4181723    4182583  chr11:4181723-4182583 -0.2445883\n",
       "6 chr11 4186880    4188018  chr11:4186880-4188018 -0.3477101\n",
       "  Assay_Name                         Assay_Type    Assay_Group  \n",
       "1 CRISPRi_FlowFISH_K562_Riley_JinWoo CRISPRi-HCRFF CRISPRi-HCRFF\n",
       "2 CRISPRi_FlowFISH_K562_Riley_JinWoo CRISPRi-HCRFF CRISPRi-HCRFF\n",
       "3 CRISPRi_FlowFISH_K562_Riley_JinWoo CRISPRi-HCRFF CRISPRi-HCRFF\n",
       "4 CRISPRi_FlowFISH_K562_Riley_JinWoo CRISPRi-HCRFF CRISPRi-HCRFF\n",
       "5 CRISPRi_FlowFISH_K562_Riley_JinWoo CRISPRi-HCRFF CRISPRi-HCRFF\n",
       "6 CRISPRi_FlowFISH_K562_Riley_JinWoo CRISPRi-HCRFF CRISPRi-HCRFF\n",
       "  Assay_Label         \n",
       "1 CRISPRi-HCR FlowFISH\n",
       "2 CRISPRi-HCR FlowFISH\n",
       "3 CRISPRi-HCR FlowFISH\n",
       "4 CRISPRi-HCR FlowFISH\n",
       "5 CRISPRi-HCR FlowFISH\n",
       "6 CRISPRi-HCR FlowFISH"
      ]
     },
     "metadata": {},
     "output_type": "display_data"
    }
   ],
   "source": [
    "dat = dat_peak_total_crispri_hcrff\n",
    "head(dat)"
   ]
  },
  {
   "cell_type": "code",
   "execution_count": 10,
   "id": "850616c8-869d-4f2f-8302-f6a3a02c5cd3",
   "metadata": {},
   "outputs": [
    {
     "data": {
      "image/png": "[encoded data removed]",
      "text/plain": [
       "plot without title"
      ]
     },
     "metadata": {
      "image/png": {
       "height": 240,
       "width": 420
      }
     },
     "output_type": "display_data"
    }
   ],
   "source": [
    "dat = dat_peak_total_crispri_hcrff\n",
    "gpt = ggplot(dat, aes(x=Score)) + geom_histogram(bins = 50) + theme_cowplot()\n",
    "\n",
    "options(repr.plot.height=4, repr.plot.width=7)\n",
    "print(gpt)"
   ]
  },
  {
   "cell_type": "code",
   "execution_count": 13,
   "id": "0aed53ab-9bad-46ef-aa9c-8dd37be6171e",
   "metadata": {},
   "outputs": [
    {
     "name": "stdout",
     "output_type": "stream",
     "text": [
      "[1] 1330    2\n"
     ]
    },
    {
     "data": {
      "text/html": [
       "<table class=\"dataframe\">\n",
       "<caption>A tibble: 6 × 2</caption>\n",
       "<thead>\n",
       "\t<tr><th scope=col>Region</th><th scope=col>CRISPRi_Label</th></tr>\n",
       "\t<tr><th scope=col>&lt;chr&gt;</th><th scope=col>&lt;chr&gt;</th></tr>\n",
       "</thead>\n",
       "<tbody>\n",
       "\t<tr><td>chr11:4092104-4092566</td><td>Background</td></tr>\n",
       "\t<tr><td>chr11:4094204-4095676</td><td>Background</td></tr>\n",
       "\t<tr><td>chr11:4144511-4147030</td><td>Background</td></tr>\n",
       "\t<tr><td>chr11:4167268-4168022</td><td>Background</td></tr>\n",
       "\t<tr><td>chr11:4181723-4182583</td><td>Background</td></tr>\n",
       "\t<tr><td>chr11:4186880-4188018</td><td>Background</td></tr>\n",
       "</tbody>\n",
       "</table>\n"
      ],
      "text/latex": [
       "A tibble: 6 × 2\n",
       "\\begin{tabular}{ll}\n",
       " Region & CRISPRi\\_Label\\\\\n",
       " <chr> & <chr>\\\\\n",
       "\\hline\n",
       "\t chr11:4092104-4092566 & Background\\\\\n",
       "\t chr11:4094204-4095676 & Background\\\\\n",
       "\t chr11:4144511-4147030 & Background\\\\\n",
       "\t chr11:4167268-4168022 & Background\\\\\n",
       "\t chr11:4181723-4182583 & Background\\\\\n",
       "\t chr11:4186880-4188018 & Background\\\\\n",
       "\\end{tabular}\n"
      ],
      "text/markdown": [
       "\n",
       "A tibble: 6 × 2\n",
       "\n",
       "| Region &lt;chr&gt; | CRISPRi_Label &lt;chr&gt; |\n",
       "|---|---|\n",
       "| chr11:4092104-4092566 | Background |\n",
       "| chr11:4094204-4095676 | Background |\n",
       "| chr11:4144511-4147030 | Background |\n",
       "| chr11:4167268-4168022 | Background |\n",
       "| chr11:4181723-4182583 | Background |\n",
       "| chr11:4186880-4188018 | Background |\n",
       "\n"
      ],
      "text/plain": [
       "  Region                CRISPRi_Label\n",
       "1 chr11:4092104-4092566 Background   \n",
       "2 chr11:4094204-4095676 Background   \n",
       "3 chr11:4144511-4147030 Background   \n",
       "4 chr11:4167268-4168022 Background   \n",
       "5 chr11:4181723-4182583 Background   \n",
       "6 chr11:4186880-4188018 Background   "
      ]
     },
     "metadata": {},
     "output_type": "display_data"
    }
   ],
   "source": [
    "dat = dat_peak_total_crispri_hcrff\n",
    "dat = dat %>% \n",
    "    dplyr::mutate(\n",
    "        CRISPRi_Label = ifelse(\n",
    "            abs(Score) >= 1,\n",
    "            \"CRISPRi Hit\",\n",
    "            \"Background\"\n",
    "    )) %>%\n",
    "    dplyr::select(Region, CRISPRi_Label)\n",
    "\n",
    "dat_peak_label_crispri_hcrff = dat\n",
    "print(dim(dat))\n",
    "head(dat)"
   ]
  },
  {
   "cell_type": "code",
   "execution_count": 20,
   "id": "c15dcd6d-2e89-4f7e-9acd-f956fcddb846",
   "metadata": {},
   "outputs": [
    {
     "data": {
      "text/html": [
       "<table class=\"dataframe\">\n",
       "<caption>A tibble: 6 × 10</caption>\n",
       "<thead>\n",
       "\t<tr><th scope=col>Chrom</th><th scope=col>ChromStart</th><th scope=col>ChromEnd</th><th scope=col>Region</th><th scope=col>Score</th><th scope=col>Assay_Name</th><th scope=col>Assay_Type</th><th scope=col>Assay_Group</th><th scope=col>Assay_Label</th><th scope=col>CRISPRi_Label</th></tr>\n",
       "\t<tr><th scope=col>&lt;chr&gt;</th><th scope=col>&lt;dbl&gt;</th><th scope=col>&lt;dbl&gt;</th><th scope=col>&lt;chr&gt;</th><th scope=col>&lt;dbl&gt;</th><th scope=col>&lt;chr&gt;</th><th scope=col>&lt;chr&gt;</th><th scope=col>&lt;chr&gt;</th><th scope=col>&lt;chr&gt;</th><th scope=col>&lt;chr&gt;</th></tr>\n",
       "</thead>\n",
       "<tbody>\n",
       "\t<tr><td>chr11</td><td>4092104</td><td>4092566</td><td>chr11:4092104-4092566</td><td> 0.95545769</td><td>STARR_WHG_K562_Reddy_A001</td><td>WSTARR</td><td>WSTARR</td><td>WHG-STARR</td><td>Background</td></tr>\n",
       "\t<tr><td>chr11</td><td>4094204</td><td>4095676</td><td>chr11:4094204-4095676</td><td> 2.10411931</td><td>STARR_WHG_K562_Reddy_A001</td><td>WSTARR</td><td>WSTARR</td><td>WHG-STARR</td><td>Background</td></tr>\n",
       "\t<tr><td>chr11</td><td>4144511</td><td>4147030</td><td>chr11:4144511-4147030</td><td>-0.03008522</td><td>STARR_WHG_K562_Reddy_A001</td><td>WSTARR</td><td>WSTARR</td><td>WHG-STARR</td><td>Background</td></tr>\n",
       "\t<tr><td>chr11</td><td>4167268</td><td>4168022</td><td>chr11:4167268-4168022</td><td>-0.52448939</td><td>STARR_WHG_K562_Reddy_A001</td><td>WSTARR</td><td>WSTARR</td><td>WHG-STARR</td><td>Background</td></tr>\n",
       "\t<tr><td>chr11</td><td>4181723</td><td>4182583</td><td>chr11:4181723-4182583</td><td>-0.12992407</td><td>STARR_WHG_K562_Reddy_A001</td><td>WSTARR</td><td>WSTARR</td><td>WHG-STARR</td><td>Background</td></tr>\n",
       "\t<tr><td>chr11</td><td>4186880</td><td>4188018</td><td>chr11:4186880-4188018</td><td> 0.74913660</td><td>STARR_WHG_K562_Reddy_A001</td><td>WSTARR</td><td>WSTARR</td><td>WHG-STARR</td><td>Background</td></tr>\n",
       "</tbody>\n",
       "</table>\n"
      ],
      "text/latex": [
       "A tibble: 6 × 10\n",
       "\\begin{tabular}{llllllllll}\n",
       " Chrom & ChromStart & ChromEnd & Region & Score & Assay\\_Name & Assay\\_Type & Assay\\_Group & Assay\\_Label & CRISPRi\\_Label\\\\\n",
       " <chr> & <dbl> & <dbl> & <chr> & <dbl> & <chr> & <chr> & <chr> & <chr> & <chr>\\\\\n",
       "\\hline\n",
       "\t chr11 & 4092104 & 4092566 & chr11:4092104-4092566 &  0.95545769 & STARR\\_WHG\\_K562\\_Reddy\\_A001 & WSTARR & WSTARR & WHG-STARR & Background\\\\\n",
       "\t chr11 & 4094204 & 4095676 & chr11:4094204-4095676 &  2.10411931 & STARR\\_WHG\\_K562\\_Reddy\\_A001 & WSTARR & WSTARR & WHG-STARR & Background\\\\\n",
       "\t chr11 & 4144511 & 4147030 & chr11:4144511-4147030 & -0.03008522 & STARR\\_WHG\\_K562\\_Reddy\\_A001 & WSTARR & WSTARR & WHG-STARR & Background\\\\\n",
       "\t chr11 & 4167268 & 4168022 & chr11:4167268-4168022 & -0.52448939 & STARR\\_WHG\\_K562\\_Reddy\\_A001 & WSTARR & WSTARR & WHG-STARR & Background\\\\\n",
       "\t chr11 & 4181723 & 4182583 & chr11:4181723-4182583 & -0.12992407 & STARR\\_WHG\\_K562\\_Reddy\\_A001 & WSTARR & WSTARR & WHG-STARR & Background\\\\\n",
       "\t chr11 & 4186880 & 4188018 & chr11:4186880-4188018 &  0.74913660 & STARR\\_WHG\\_K562\\_Reddy\\_A001 & WSTARR & WSTARR & WHG-STARR & Background\\\\\n",
       "\\end{tabular}\n"
      ],
      "text/markdown": [
       "\n",
       "A tibble: 6 × 10\n",
       "\n",
       "| Chrom &lt;chr&gt; | ChromStart &lt;dbl&gt; | ChromEnd &lt;dbl&gt; | Region &lt;chr&gt; | Score &lt;dbl&gt; | Assay_Name &lt;chr&gt; | Assay_Type &lt;chr&gt; | Assay_Group &lt;chr&gt; | Assay_Label &lt;chr&gt; | CRISPRi_Label &lt;chr&gt; |\n",
       "|---|---|---|---|---|---|---|---|---|---|\n",
       "| chr11 | 4092104 | 4092566 | chr11:4092104-4092566 |  0.95545769 | STARR_WHG_K562_Reddy_A001 | WSTARR | WSTARR | WHG-STARR | Background |\n",
       "| chr11 | 4094204 | 4095676 | chr11:4094204-4095676 |  2.10411931 | STARR_WHG_K562_Reddy_A001 | WSTARR | WSTARR | WHG-STARR | Background |\n",
       "| chr11 | 4144511 | 4147030 | chr11:4144511-4147030 | -0.03008522 | STARR_WHG_K562_Reddy_A001 | WSTARR | WSTARR | WHG-STARR | Background |\n",
       "| chr11 | 4167268 | 4168022 | chr11:4167268-4168022 | -0.52448939 | STARR_WHG_K562_Reddy_A001 | WSTARR | WSTARR | WHG-STARR | Background |\n",
       "| chr11 | 4181723 | 4182583 | chr11:4181723-4182583 | -0.12992407 | STARR_WHG_K562_Reddy_A001 | WSTARR | WSTARR | WHG-STARR | Background |\n",
       "| chr11 | 4186880 | 4188018 | chr11:4186880-4188018 |  0.74913660 | STARR_WHG_K562_Reddy_A001 | WSTARR | WSTARR | WHG-STARR | Background |\n",
       "\n"
      ],
      "text/plain": [
       "  Chrom ChromStart ChromEnd Region                Score      \n",
       "1 chr11 4092104    4092566  chr11:4092104-4092566  0.95545769\n",
       "2 chr11 4094204    4095676  chr11:4094204-4095676  2.10411931\n",
       "3 chr11 4144511    4147030  chr11:4144511-4147030 -0.03008522\n",
       "4 chr11 4167268    4168022  chr11:4167268-4168022 -0.52448939\n",
       "5 chr11 4181723    4182583  chr11:4181723-4182583 -0.12992407\n",
       "6 chr11 4186880    4188018  chr11:4186880-4188018  0.74913660\n",
       "  Assay_Name                Assay_Type Assay_Group Assay_Label CRISPRi_Label\n",
       "1 STARR_WHG_K562_Reddy_A001 WSTARR     WSTARR      WHG-STARR   Background   \n",
       "2 STARR_WHG_K562_Reddy_A001 WSTARR     WSTARR      WHG-STARR   Background   \n",
       "3 STARR_WHG_K562_Reddy_A001 WSTARR     WSTARR      WHG-STARR   Background   \n",
       "4 STARR_WHG_K562_Reddy_A001 WSTARR     WSTARR      WHG-STARR   Background   \n",
       "5 STARR_WHG_K562_Reddy_A001 WSTARR     WSTARR      WHG-STARR   Background   \n",
       "6 STARR_WHG_K562_Reddy_A001 WSTARR     WSTARR      WHG-STARR   Background   "
      ]
     },
     "metadata": {},
     "output_type": "display_data"
    }
   ],
   "source": [
    "dat = dat_peak_atac_fcc_total\n",
    "lst = split(dat, dat$Assay_Type)\n",
    "\n",
    "txt = \"WSTARR\"\n",
    "dat = lst[[txt]]\n",
    "dat = dat %>% dplyr::right_join(dat_peak_label_crispri_hcrff, by=\"Region\")\n",
    "\n",
    "head(dat)"
   ]
  },
  {
   "cell_type": "code",
   "execution_count": 21,
   "id": "67143c6e-4ff8-467c-88ae-f650c1f7a20a",
   "metadata": {},
   "outputs": [
    {
     "name": "stderr",
     "output_type": "stream",
     "text": [
      "Warning message:\n",
      "“\u001b[1m\u001b[22mRemoved 24 rows containing non-finite outside the scale range (`stat_boxplot()`).”\n"
     ]
    },
    {
     "data": {
      "image/png": "[encoded data removed]",
      "text/plain": [
       "plot without title"
      ]
     },
     "metadata": {
      "image/png": {
       "height": 360,
       "width": 240
      }
     },
     "output_type": "display_data"
    }
   ],
   "source": [
    "gpt = ggplot(dat, aes(x=CRISPRi_Label, y=Score)) + geom_boxplot() + theme_cowplot()\n",
    "\n",
    "options(repr.plot.height=6, repr.plot.width=4)\n",
    "print(gpt)"
   ]
  },
  {
   "cell_type": "code",
   "execution_count": 22,
   "id": "4cdf3ca2-c915-438d-8af3-09da90a09fd8",
   "metadata": {},
   "outputs": [],
   "source": [
    "fun_auroc = function(vec_boo_actual, vec_num_score) {\n",
    "    ###\n",
    "    idx = order(vec_num_score)\n",
    "    vec = vec_boo_actual[idx]\n",
    "    \n",
    "    ###\n",
    "    vec_num_sens = (sum(vec) - cumsum(vec))/sum(vec)\n",
    "    vec_num_spec = cumsum(!vec)/sum(!vec)\n",
    "    \n",
    "    ###\n",
    "    num_width = diff(c(0, 1 - vec_num_sens))\n",
    "    num_auc   = sum(vec_num_spec * num_width)\n",
    "\n",
    "    ### \n",
    "    lst = list(\n",
    "        \"Specificity\" = vec_num_spec,\n",
    "        \"Sensitivity\" = vec_num_sens,\n",
    "        \"AUROC\"       = num_auc\n",
    "    )\n",
    "    return(lst)\n",
    "}"
   ]
  },
  {
   "cell_type": "code",
   "execution_count": 25,
   "id": "07a7f4f0-853e-4c93-8876-ad7e35f4ae5a",
   "metadata": {},
   "outputs": [
    {
     "ename": "ERROR",
     "evalue": "Error in UseMethod(\"inner_join\"): no applicable method for 'inner_join' applied to an object of class \"NULL\"\n",
     "output_type": "error",
     "traceback": [
      "Error in UseMethod(\"inner_join\"): no applicable method for 'inner_join' applied to an object of class \"NULL\"\nTraceback:\n",
      "1. FUN(X[[i]], ...)",
      "2. dat %>% dplyr::inner_join(dat_peak_label_crispri_hcrff, by = \"Region\") %>% \n .     dplyr::mutate(CRISPRi_Label = factor(CRISPRi_Label, levels = vec))",
      "3. dplyr::mutate(., CRISPRi_Label = factor(CRISPRi_Label, levels = vec))",
      "4. dplyr::inner_join(., dat_peak_label_crispri_hcrff, by = \"Region\")",
      "5. .handleSimpleError(function (cnd) \n . {\n .     watcher$capture_plot_and_output()\n .     cnd <- sanitize_call(cnd)\n .     watcher$push(cnd)\n .     switch(on_error, continue = invokeRestart(\"eval_continue\"), \n .         stop = invokeRestart(\"eval_stop\"), error = NULL)\n . }, \"no applicable method for 'inner_join' applied to an object of class \\\"NULL\\\"\", \n .     base::quote(UseMethod(\"inner_join\")))"
     ]
    }
   ],
   "source": [
    "dat = bind_rows(dat_peak_atac_fcc_total)\n",
    "\n",
    "lst = split(dat, dat$Assay_Type)\n",
    "vec = c(\"ASTARR\", \"WSTARR\", \"TMPRA\", \"LMPRA\", \"ATAC\")\n",
    "lst = lst[vec]\n",
    "\n",
    "lst = lapply(lst, function(dat){\n",
    "    \n",
    "    #txt = \"CRISPRi-HCRFF\"\n",
    "    #vec = paste(txt, c(\"I\", \"A\"), sep=\"_\")\n",
    "    vec = c(\"Background\", \"CRISPRi Hit\")\n",
    "    dat = dat %>% \n",
    "        dplyr::inner_join(dat_peak_label_crispri_hcrff, by=\"Region\") %>%     \n",
    "        dplyr::mutate(CRISPRi_Label = factor(CRISPRi_Label, levels = vec))\n",
    "    \n",
    "    fit = glm(CRISPRi_Label ~ Score, data = dat, family = \"binomial\")\n",
    "    vec_boo_actual = (dat$CRISPRi_Label == \"CRISPRi Hit\")\n",
    "    vec_num_score = predict(fit, type = \"response\")\n",
    "\n",
    "    lst = fun_auroc(vec_boo_actual, vec_num_score)\n",
    "    vec_num_spec = lst[[\"Specificity\"]]\n",
    "    vec_num_sens = lst[[\"Sensitivity\"]]\n",
    "    num_auroc    = lst[[\"AUROC\"]]\n",
    "    txt_assay    = unique(dat$Assay_Type)\n",
    "\n",
    "    txt_title = paste0(\"(\", round(num_auroc, 2), \")\")\n",
    "    txt_title = paste(txt_assay, txt_title)\n",
    "    \n",
    "    dat = data.frame(\n",
    "        \"x\" = 1 - lst[[\"Specificity\"]],\n",
    "        \"y\" = lst[[\"Sensitivity\"]],\n",
    "        \"Assay\" = txt_assay,\n",
    "        \"AUROC\" = num_auroc,\n",
    "        \"Performance\" = txt_title\n",
    "    )\n",
    "    dat = dat %>% dplyr::arrange(x, y)\n",
    "    return(dat)\n",
    "})\n",
    "\n",
    "\n",
    "dat = bind_rows(lst)\n",
    "gpt = ggplot(dat, aes(x=x, y=y, group=Assay, color=Performance)) +\n",
    "    geom_line(linewidth=1) +\n",
    "    #geom_point() +\n",
    "    labs(x = \"1 - Specificity\", y = \"Sensitivity\") +\n",
    "    theme_cowplot()\n",
    "\n",
    "options(repr.plot.width=7, repr.plot.height=5)\n",
    "print(gpt)"
   ]
  },
  {
   "cell_type": "code",
   "execution_count": null,
   "id": "fad7d23c-ff8f-48cc-a71c-2594a16e271b",
   "metadata": {},
   "outputs": [],
   "source": []
  }
 ],
 "metadata": {
  "kernelspec": {
   "display_name": "R",
   "language": "R",
   "name": "ir"
  },
  "language_info": {
   "codemirror_mode": "r",
   "file_extension": ".r",
   "mimetype": "text/x-r-source",
   "name": "R",
   "pygments_lexer": "r",
   "version": "4.4.2"
  }
 },
 "nbformat": 4,
 "nbformat_minor": 5
}
