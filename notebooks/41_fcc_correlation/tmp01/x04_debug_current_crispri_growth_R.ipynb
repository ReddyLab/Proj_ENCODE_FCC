{
 "cells": [
  {
   "cell_type": "code",
   "execution_count": null,
   "id": "91c46614-73e5-4669-b780-9900686de2ff",
   "metadata": {},
   "outputs": [],
   "source": []
  },
  {
   "cell_type": "markdown",
   "id": "b72b856b-7405-4ef4-b4d3-84a5d4f6bc2e",
   "metadata": {},
   "source": [
    "**Set environment**"
   ]
  },
  {
   "cell_type": "code",
   "execution_count": 1,
   "id": "fb8d6014-d7bf-49a3-a340-23ee8b09c554",
   "metadata": {},
   "outputs": [
    {
     "name": "stdout",
     "output_type": "stream",
     "text": [
      "You are working on        Singularity: singularity_proj_encode_fcc \n",
      "BASE DIRECTORY (FD_BASE): /data/reddylab/Kuei \n",
      "REPO DIRECTORY (FD_REPO): /data/reddylab/Kuei/repo \n",
      "WORK DIRECTORY (FD_WORK): /data/reddylab/Kuei/work \n",
      "DATA DIRECTORY (FD_DATA): /data/reddylab/Kuei/data \n",
      "\n",
      "You are working with      ENCODE FCC \n",
      "PATH OF PROJECT (FD_PRJ): /data/reddylab/Kuei/repo/Proj_ENCODE_FCC \n",
      "PROJECT RESULTS (FD_RES): /data/reddylab/Kuei/repo/Proj_ENCODE_FCC/results \n",
      "PROJECT SCRIPTS (FD_EXE): /data/reddylab/Kuei/repo/Proj_ENCODE_FCC/scripts \n",
      "PROJECT DATA    (FD_DAT): /data/reddylab/Kuei/repo/Proj_ENCODE_FCC/data \n",
      "PROJECT NOTE    (FD_NBK): /data/reddylab/Kuei/repo/Proj_ENCODE_FCC/notebooks \n",
      "PROJECT DOCS    (FD_DOC): /data/reddylab/Kuei/repo/Proj_ENCODE_FCC/docs \n",
      "PROJECT LOG     (FD_LOG): /data/reddylab/Kuei/repo/Proj_ENCODE_FCC/log \n",
      "PROJECT REF     (FD_REF): /data/reddylab/Kuei/repo/Proj_ENCODE_FCC/references \n",
      "\n"
     ]
    }
   ],
   "source": [
    "suppressMessages(suppressWarnings(source(\"../run_config_project_sing.R\")))\n",
    "show_env()"
   ]
  },
  {
   "cell_type": "code",
   "execution_count": null,
   "id": "7b053bce-a05a-4861-b1d2-5e05bf27ffb8",
   "metadata": {},
   "outputs": [],
   "source": []
  },
  {
   "cell_type": "code",
   "execution_count": null,
   "id": "38bd1e64-26c6-40ea-8097-a3d796a85c36",
   "metadata": {},
   "outputs": [],
   "source": []
  },
  {
   "cell_type": "code",
   "execution_count": null,
   "id": "79bc029a-82b7-48c2-b0ae-897ddab681ab",
   "metadata": {},
   "outputs": [],
   "source": []
  },
  {
   "cell_type": "code",
   "execution_count": 2,
   "id": "fc5966c8-e7fc-4ac6-bf33-85660c9b249b",
   "metadata": {},
   "outputs": [
    {
     "data": {
      "text/html": [
       "'/data/reddylab/Kuei/repo/Proj_ENCODE_FCC/results'"
      ],
      "text/latex": [
       "'/data/reddylab/Kuei/repo/Proj\\_ENCODE\\_FCC/results'"
      ],
      "text/markdown": [
       "'/data/reddylab/Kuei/repo/Proj_ENCODE_FCC/results'"
      ],
      "text/plain": [
       "[1] \"/data/reddylab/Kuei/repo/Proj_ENCODE_FCC/results\""
      ]
     },
     "metadata": {},
     "output_type": "display_data"
    }
   ],
   "source": [
    "FD_RES"
   ]
  },
  {
   "cell_type": "code",
   "execution_count": 3,
   "id": "05d972e1-8c58-4b24-8f3e-f5b5ea560af3",
   "metadata": {},
   "outputs": [
    {
     "name": "stdout",
     "output_type": "stream",
     "text": [
      "A001_K562_WSTARRseq \n",
      "comparison \n",
      "comparison_archive231029 \n",
      "CRISPRi_FlowFISH \n",
      "CRISPRi_Growth_K562_Gersbach \n",
      "hic_intact_K562_deep \n",
      "hic_intact_K562_ENCSR479XDG \n",
      "KS91_K562_ASTARRseq \n",
      "LentiMPRA_K562_Nadav \n",
      "region \n",
      "Tewhey_K562_TileMPRA \n"
     ]
    }
   ],
   "source": [
    "txt_fdiry = \"/data/reddylab/Kuei/work//proj_encode_fcc/results_v4\"\n",
    "vec = dir(txt_fdiry)\n",
    "for (txt in vec){cat(txt, \"\\n\")}"
   ]
  },
  {
   "cell_type": "code",
   "execution_count": 4,
   "id": "1901e10e-bdc8-43a2-b958-84064a8e1ef6",
   "metadata": {},
   "outputs": [
    {
     "name": "stdout",
     "output_type": "stream",
     "text": [
      "result.ranknorm.starrmpra.overlap.tsv \n",
      "result.score.starrmpra.tsv \n"
     ]
    }
   ],
   "source": [
    "txt_fdiry = \"/data/reddylab/Kuei/work//proj_encode_fcc/results_v4/comparison\"\n",
    "vec = dir(txt_fdiry)\n",
    "for (txt in vec){cat(txt, \"\\n\")}"
   ]
  },
  {
   "cell_type": "code",
   "execution_count": 5,
   "id": "b35f8158-ee3b-4b61-aee5-0c9d9215b87d",
   "metadata": {},
   "outputs": [
    {
     "name": "stdout",
     "output_type": "stream",
     "text": [
      "[1] 1241    6\n"
     ]
    },
    {
     "data": {
      "text/html": [
       "<table>\n",
       " <thead>\n",
       "  <tr>\n",
       "   <th style=\"text-align:left;\"> Region </th>\n",
       "   <th style=\"text-align:right;\"> ASTARR </th>\n",
       "   <th style=\"text-align:right;\"> WSTARR </th>\n",
       "   <th style=\"text-align:right;\"> TMPRA </th>\n",
       "   <th style=\"text-align:right;\"> LMPRA </th>\n",
       "   <th style=\"text-align:right;\"> Mean </th>\n",
       "  </tr>\n",
       " </thead>\n",
       "<tbody>\n",
       "  <tr>\n",
       "   <td style=\"text-align:left;\"> chr11:32870601-32871324 </td>\n",
       "   <td style=\"text-align:right;\"> 0.1200645 </td>\n",
       "   <td style=\"text-align:right;\"> 0.0620467 </td>\n",
       "   <td style=\"text-align:right;\"> 0.1958098 </td>\n",
       "   <td style=\"text-align:right;\"> 0.2280419 </td>\n",
       "   <td style=\"text-align:right;\"> 0.1514907 </td>\n",
       "  </tr>\n",
       "  <tr>\n",
       "   <td style=\"text-align:left;\"> chr11:32874343-32875070 </td>\n",
       "   <td style=\"text-align:right;\"> 0.1305399 </td>\n",
       "   <td style=\"text-align:right;\"> 0.2143433 </td>\n",
       "   <td style=\"text-align:right;\"> 0.3231265 </td>\n",
       "   <td style=\"text-align:right;\"> 0.0809831 </td>\n",
       "   <td style=\"text-align:right;\"> 0.1872482 </td>\n",
       "  </tr>\n",
       "  <tr>\n",
       "   <td style=\"text-align:left;\"> chr11:32884749-32885822 </td>\n",
       "   <td style=\"text-align:right;\"> 0.0854150 </td>\n",
       "   <td style=\"text-align:right;\"> 0.2634972 </td>\n",
       "   <td style=\"text-align:right;\"> 0.5439162 </td>\n",
       "   <td style=\"text-align:right;\"> 0.7856567 </td>\n",
       "   <td style=\"text-align:right;\"> 0.4196213 </td>\n",
       "  </tr>\n",
       "</tbody>\n",
       "</table>"
      ]
     },
     "metadata": {},
     "output_type": "display_data"
    }
   ],
   "source": [
    "txt_fdiry = \"/data/reddylab/Kuei/work//proj_encode_fcc/results_v4/comparison\"\n",
    "txt_fname = \"result.ranknorm.starrmpra.overlap.tsv\"\n",
    "txt_fpath = file.path(txt_fdiry, txt_fname)\n",
    "\n",
    "dat = read_tsv(txt_fpath, show_col_types = FALSE)\n",
    "dat = dat %>% dplyr::rename(\"Region\" = \"Peak\")\n",
    "\n",
    "dat_region_ranknorm = dat\n",
    "print(dim(dat))\n",
    "fun_display_table(head(dat, 3))"
   ]
  },
  {
   "cell_type": "code",
   "execution_count": null,
   "id": "18a2eba9-b5b8-48c3-9dc5-0ae99de1eeef",
   "metadata": {},
   "outputs": [],
   "source": []
  },
  {
   "cell_type": "code",
   "execution_count": null,
   "id": "688bdb97-c76b-4895-a7dc-e39973cabcb9",
   "metadata": {},
   "outputs": [],
   "source": []
  },
  {
   "cell_type": "code",
   "execution_count": 7,
   "id": "ef51e14d-18b3-4e60-9ee1-43f85b769fd0",
   "metadata": {},
   "outputs": [
    {
     "name": "stdout",
     "output_type": "stream",
     "text": [
      "fcc_astarr_macs_input_overlap \n",
      "fcc_astarr_macs_input_union \n"
     ]
    }
   ],
   "source": [
    "#txt_fdiry = file.path(FD_RES, \"region_coverage_fcc\")\n",
    "#vec = dir(txt_fdiry)\n",
    "vec = c(\"fcc_astarr_macs_input_overlap\", \"fcc_astarr_macs_input_union\")\n",
    "names(vec) = vec\n",
    "\n",
    "VEC_TXT_FOLDER = vec\n",
    "for (txt in vec) {cat(txt, \"\\n\")}"
   ]
  },
  {
   "cell_type": "code",
   "execution_count": 8,
   "id": "0f2c95b1-ce17-491d-a2c0-05b8b7279081",
   "metadata": {},
   "outputs": [
    {
     "name": "stdout",
     "output_type": "stream",
     "text": [
      "$fcc_astarr_macs_input_overlap\n",
      "[1] 72743    11\n",
      "\n",
      "$fcc_astarr_macs_input_union\n",
      "[1] 80288    11\n",
      "\n"
     ]
    },
    {
     "data": {
      "text/html": [
       "<table class=\"dataframe\">\n",
       "<caption>A tibble: 3 × 11</caption>\n",
       "<thead>\n",
       "\t<tr><th scope=col>Chrom</th><th scope=col>ChromStart</th><th scope=col>ChromEnd</th><th scope=col>Region</th><th scope=col>Mean</th><th scope=col>Median</th><th scope=col>Max</th><th scope=col>Min</th><th scope=col>Count</th><th scope=col>Mean_Neg</th><th scope=col>Mean_Pos</th></tr>\n",
       "\t<tr><th scope=col>&lt;chr&gt;</th><th scope=col>&lt;dbl&gt;</th><th scope=col>&lt;dbl&gt;</th><th scope=col>&lt;chr&gt;</th><th scope=col>&lt;dbl&gt;</th><th scope=col>&lt;dbl&gt;</th><th scope=col>&lt;dbl&gt;</th><th scope=col>&lt;dbl&gt;</th><th scope=col>&lt;dbl&gt;</th><th scope=col>&lt;dbl&gt;</th><th scope=col>&lt;dbl&gt;</th></tr>\n",
       "</thead>\n",
       "<tbody>\n",
       "\t<tr><td>chr1</td><td>605104</td><td>605675</td><td>chr1:605104-605675</td><td> 0.0904152</td><td>-0.2365345</td><td>3.171240</td><td>-0.774100</td><td>10</td><td>-0.3442168</td><td>1.8289430</td></tr>\n",
       "\t<tr><td>chr1</td><td>778233</td><td>779389</td><td>chr1:778233-779389</td><td> 0.1162065</td><td> 0.0869985</td><td>0.666834</td><td>-0.405530</td><td>10</td><td>-0.2424447</td><td>0.3553073</td></tr>\n",
       "\t<tr><td>chr1</td><td>817031</td><td>817525</td><td>chr1:817031-817525</td><td>-0.2753540</td><td>-0.4340535</td><td>1.049030</td><td>-0.928019</td><td> 6</td><td>-0.5402308</td><td>1.0490300</td></tr>\n",
       "</tbody>\n",
       "</table>\n"
      ],
      "text/latex": [
       "A tibble: 3 × 11\n",
       "\\begin{tabular}{lllllllllll}\n",
       " Chrom & ChromStart & ChromEnd & Region & Mean & Median & Max & Min & Count & Mean\\_Neg & Mean\\_Pos\\\\\n",
       " <chr> & <dbl> & <dbl> & <chr> & <dbl> & <dbl> & <dbl> & <dbl> & <dbl> & <dbl> & <dbl>\\\\\n",
       "\\hline\n",
       "\t chr1 & 605104 & 605675 & chr1:605104-605675 &  0.0904152 & -0.2365345 & 3.171240 & -0.774100 & 10 & -0.3442168 & 1.8289430\\\\\n",
       "\t chr1 & 778233 & 779389 & chr1:778233-779389 &  0.1162065 &  0.0869985 & 0.666834 & -0.405530 & 10 & -0.2424447 & 0.3553073\\\\\n",
       "\t chr1 & 817031 & 817525 & chr1:817031-817525 & -0.2753540 & -0.4340535 & 1.049030 & -0.928019 &  6 & -0.5402308 & 1.0490300\\\\\n",
       "\\end{tabular}\n"
      ],
      "text/markdown": [
       "\n",
       "A tibble: 3 × 11\n",
       "\n",
       "| Chrom &lt;chr&gt; | ChromStart &lt;dbl&gt; | ChromEnd &lt;dbl&gt; | Region &lt;chr&gt; | Mean &lt;dbl&gt; | Median &lt;dbl&gt; | Max &lt;dbl&gt; | Min &lt;dbl&gt; | Count &lt;dbl&gt; | Mean_Neg &lt;dbl&gt; | Mean_Pos &lt;dbl&gt; |\n",
       "|---|---|---|---|---|---|---|---|---|---|---|\n",
       "| chr1 | 605104 | 605675 | chr1:605104-605675 |  0.0904152 | -0.2365345 | 3.171240 | -0.774100 | 10 | -0.3442168 | 1.8289430 |\n",
       "| chr1 | 778233 | 779389 | chr1:778233-779389 |  0.1162065 |  0.0869985 | 0.666834 | -0.405530 | 10 | -0.2424447 | 0.3553073 |\n",
       "| chr1 | 817031 | 817525 | chr1:817031-817525 | -0.2753540 | -0.4340535 | 1.049030 | -0.928019 |  6 | -0.5402308 | 1.0490300 |\n",
       "\n"
      ],
      "text/plain": [
       "  Chrom ChromStart ChromEnd Region             Mean       Median     Max     \n",
       "1 chr1  605104     605675   chr1:605104-605675  0.0904152 -0.2365345 3.171240\n",
       "2 chr1  778233     779389   chr1:778233-779389  0.1162065  0.0869985 0.666834\n",
       "3 chr1  817031     817525   chr1:817031-817525 -0.2753540 -0.4340535 1.049030\n",
       "  Min       Count Mean_Neg   Mean_Pos \n",
       "1 -0.774100 10    -0.3442168 1.8289430\n",
       "2 -0.405530 10    -0.2424447 0.3553073\n",
       "3 -0.928019  6    -0.5402308 1.0490300"
      ]
     },
     "metadata": {},
     "output_type": "display_data"
    }
   ],
   "source": [
    "txt_assay = \"CRISPRi_Growth_K562_Gersbach_JinWoo\"\n",
    "\n",
    "lst = lapply(VEC_TXT_FOLDER, function(txt_folder){\n",
    "    ### set file directory\n",
    "    txt_fdiry  = file.path(\n",
    "        FD_RES, \n",
    "        \"region_coverage_fcc\", \n",
    "        txt_folder, \n",
    "        txt_assay,\n",
    "        \"overlap_score\",\n",
    "        \"summary\"\n",
    "    )\n",
    "    #txt_fname = \"result.coverage.score.filtered.tsv\"\n",
    "    #txt_fname = \"result.coverage.score.tsv\"\n",
    "    txt_fname = \"region.coverage.score.tsv\"\n",
    "    txt_fpath = file.path(txt_fdiry, txt_fname)\n",
    "\n",
    "    ### read table\n",
    "    dat = read_tsv(txt_fpath, show_col_types = FALSE)\n",
    "    return(dat)\n",
    "})\n",
    "\n",
    "### assign and show\n",
    "lst_dat_region_score_cgrowth_import = lst\n",
    "\n",
    "res = lapply(lst, dim)\n",
    "print(res)\n",
    "\n",
    "dat = lst[[1]]\n",
    "head(dat, 3)"
   ]
  },
  {
   "cell_type": "code",
   "execution_count": null,
   "id": "cc58fce9-7980-417d-a831-b9da83319319",
   "metadata": {},
   "outputs": [],
   "source": []
  },
  {
   "cell_type": "code",
   "execution_count": null,
   "id": "12610753-f1f7-423c-8ca9-fa802a0b415b",
   "metadata": {},
   "outputs": [],
   "source": []
  },
  {
   "cell_type": "code",
   "execution_count": null,
   "id": "0907478a-9b2d-4ace-a49f-4350e4ea4616",
   "metadata": {},
   "outputs": [],
   "source": []
  },
  {
   "cell_type": "code",
   "execution_count": null,
   "id": "af6af7ac-2b0a-436b-bbc4-d218db0145b3",
   "metadata": {},
   "outputs": [],
   "source": []
  },
  {
   "cell_type": "code",
   "execution_count": 9,
   "id": "09a04c5c-3bd2-4c70-a84f-cd751b566cf5",
   "metadata": {},
   "outputs": [
    {
     "name": "stdout",
     "output_type": "stream",
     "text": [
      "[1] 1241    6\n"
     ]
    },
    {
     "data": {
      "text/html": [
       "<table>\n",
       " <thead>\n",
       "  <tr>\n",
       "   <th style=\"text-align:left;\"> Region </th>\n",
       "   <th style=\"text-align:right;\"> ASTARR </th>\n",
       "   <th style=\"text-align:right;\"> WSTARR </th>\n",
       "   <th style=\"text-align:right;\"> TMPRA </th>\n",
       "   <th style=\"text-align:right;\"> LMPRA </th>\n",
       "   <th style=\"text-align:right;\"> Mean </th>\n",
       "  </tr>\n",
       " </thead>\n",
       "<tbody>\n",
       "  <tr>\n",
       "   <td style=\"text-align:left;\"> chr11:32870601-32871324 </td>\n",
       "   <td style=\"text-align:right;\"> 0.1200645 </td>\n",
       "   <td style=\"text-align:right;\"> 0.0620467 </td>\n",
       "   <td style=\"text-align:right;\"> 0.1958098 </td>\n",
       "   <td style=\"text-align:right;\"> 0.2280419 </td>\n",
       "   <td style=\"text-align:right;\"> 0.1514907 </td>\n",
       "  </tr>\n",
       "  <tr>\n",
       "   <td style=\"text-align:left;\"> chr11:32874343-32875070 </td>\n",
       "   <td style=\"text-align:right;\"> 0.1305399 </td>\n",
       "   <td style=\"text-align:right;\"> 0.2143433 </td>\n",
       "   <td style=\"text-align:right;\"> 0.3231265 </td>\n",
       "   <td style=\"text-align:right;\"> 0.0809831 </td>\n",
       "   <td style=\"text-align:right;\"> 0.1872482 </td>\n",
       "  </tr>\n",
       "  <tr>\n",
       "   <td style=\"text-align:left;\"> chr11:32884749-32885822 </td>\n",
       "   <td style=\"text-align:right;\"> 0.0854150 </td>\n",
       "   <td style=\"text-align:right;\"> 0.2634972 </td>\n",
       "   <td style=\"text-align:right;\"> 0.5439162 </td>\n",
       "   <td style=\"text-align:right;\"> 0.7856567 </td>\n",
       "   <td style=\"text-align:right;\"> 0.4196213 </td>\n",
       "  </tr>\n",
       "  <tr>\n",
       "   <td style=\"text-align:left;\"> chr11:32901572-32902485 </td>\n",
       "   <td style=\"text-align:right;\"> 0.2232071 </td>\n",
       "   <td style=\"text-align:right;\"> 0.3545528 </td>\n",
       "   <td style=\"text-align:right;\"> 0.1571313 </td>\n",
       "   <td style=\"text-align:right;\"> 0.3174859 </td>\n",
       "   <td style=\"text-align:right;\"> 0.2630943 </td>\n",
       "  </tr>\n",
       "  <tr>\n",
       "   <td style=\"text-align:left;\"> chr11:32903491-32904506 </td>\n",
       "   <td style=\"text-align:right;\"> 0.5237712 </td>\n",
       "   <td style=\"text-align:right;\"> 0.0153102 </td>\n",
       "   <td style=\"text-align:right;\"> 0.2095085 </td>\n",
       "   <td style=\"text-align:right;\"> 0.7405318 </td>\n",
       "   <td style=\"text-align:right;\"> 0.3722804 </td>\n",
       "  </tr>\n",
       "  <tr>\n",
       "   <td style=\"text-align:left;\"> chr11:32910855-32912010 </td>\n",
       "   <td style=\"text-align:right;\"> 0.6857373 </td>\n",
       "   <td style=\"text-align:right;\"> 0.4464142 </td>\n",
       "   <td style=\"text-align:right;\"> 0.9129734 </td>\n",
       "   <td style=\"text-align:right;\"> 0.4375504 </td>\n",
       "   <td style=\"text-align:right;\"> 0.6206688 </td>\n",
       "  </tr>\n",
       "</tbody>\n",
       "</table>"
      ]
     },
     "metadata": {},
     "output_type": "display_data"
    }
   ],
   "source": [
    "#txt = \"fcc_astarr_macs_input_union\"\n",
    "#lst = lst_dat_region_score_starrmpra_import\n",
    "#dat = lst[[txt]]\n",
    "#dat_region_score_starrmpra_import = dat\n",
    "dat = dat_region_ranknorm\n",
    "print(dim(dat))\n",
    "fun_display_table(head(dat))"
   ]
  },
  {
   "cell_type": "code",
   "execution_count": 10,
   "id": "c7c6c987-9d93-4cec-830b-16df93153172",
   "metadata": {},
   "outputs": [
    {
     "name": "stdout",
     "output_type": "stream",
     "text": [
      "[1] 1241    1\n"
     ]
    },
    {
     "data": {
      "text/html": [
       "<table>\n",
       " <thead>\n",
       "  <tr>\n",
       "   <th style=\"text-align:left;\"> Region </th>\n",
       "  </tr>\n",
       " </thead>\n",
       "<tbody>\n",
       "  <tr>\n",
       "   <td style=\"text-align:left;\"> chr11:32870601-32871324 </td>\n",
       "  </tr>\n",
       "  <tr>\n",
       "   <td style=\"text-align:left;\"> chr11:32874343-32875070 </td>\n",
       "  </tr>\n",
       "  <tr>\n",
       "   <td style=\"text-align:left;\"> chr11:32884749-32885822 </td>\n",
       "  </tr>\n",
       "  <tr>\n",
       "   <td style=\"text-align:left;\"> chr11:32901572-32902485 </td>\n",
       "  </tr>\n",
       "  <tr>\n",
       "   <td style=\"text-align:left;\"> chr11:32903491-32904506 </td>\n",
       "  </tr>\n",
       "  <tr>\n",
       "   <td style=\"text-align:left;\"> chr11:32910855-32912010 </td>\n",
       "  </tr>\n",
       "</tbody>\n",
       "</table>"
      ]
     },
     "metadata": {},
     "output_type": "display_data"
    }
   ],
   "source": [
    "dat = dat_region_ranknorm\n",
    "dat = dat %>% \n",
    "    #dplyr::select(Chrom, ChromStart, ChromEnd, Region) %>% \n",
    "    dplyr::select(Region) %>% \n",
    "    dplyr::distinct()\n",
    "\n",
    "###\n",
    "dat_region = dat\n",
    "print(dim(dat))\n",
    "fun_display_table(head(dat))"
   ]
  },
  {
   "cell_type": "code",
   "execution_count": 11,
   "id": "d204aeb3-ddab-45f3-a121-2205ae6f07b8",
   "metadata": {},
   "outputs": [
    {
     "name": "stdout",
     "output_type": "stream",
     "text": [
      "[1] 1241\n"
     ]
    }
   ],
   "source": [
    "#dat = dat_region_score_starrmpra_import\n",
    "dat = dat_region_ranknorm\n",
    "\n",
    "dat = dat %>% \n",
    "    dplyr::select(Region, Mean) %>% \n",
    "    dplyr::distinct() %>%\n",
    "    dplyr::arrange(Mean)\n",
    "vec = dat$Region\n",
    "\n",
    "### assign and show\n",
    "VEC_TXT_REGION = vec\n",
    "print(length(vec))"
   ]
  },
  {
   "cell_type": "code",
   "execution_count": null,
   "id": "07ff7a35-7eae-439d-859c-65940784176a",
   "metadata": {},
   "outputs": [],
   "source": []
  },
  {
   "cell_type": "code",
   "execution_count": null,
   "id": "cc8338e8-ff3c-43b4-8f8f-f47eb118a882",
   "metadata": {},
   "outputs": [],
   "source": []
  },
  {
   "cell_type": "code",
   "execution_count": null,
   "id": "ecb09d95-d322-489b-8469-ba582600ab00",
   "metadata": {},
   "outputs": [],
   "source": []
  },
  {
   "cell_type": "code",
   "execution_count": 12,
   "id": "194f3b05-5331-45f2-8733-42a8c745d54f",
   "metadata": {},
   "outputs": [
    {
     "name": "stdout",
     "output_type": "stream",
     "text": [
      "[1] 80288    11\n"
     ]
    },
    {
     "data": {
      "text/html": [
       "<table>\n",
       " <thead>\n",
       "  <tr>\n",
       "   <th style=\"text-align:left;\"> Chrom </th>\n",
       "   <th style=\"text-align:right;\"> ChromStart </th>\n",
       "   <th style=\"text-align:right;\"> ChromEnd </th>\n",
       "   <th style=\"text-align:left;\"> Region </th>\n",
       "   <th style=\"text-align:right;\"> Mean </th>\n",
       "   <th style=\"text-align:right;\"> Median </th>\n",
       "   <th style=\"text-align:right;\"> Max </th>\n",
       "   <th style=\"text-align:right;\"> Min </th>\n",
       "   <th style=\"text-align:right;\"> Count </th>\n",
       "   <th style=\"text-align:right;\"> Mean_Neg </th>\n",
       "   <th style=\"text-align:right;\"> Mean_Pos </th>\n",
       "  </tr>\n",
       " </thead>\n",
       "<tbody>\n",
       "  <tr>\n",
       "   <td style=\"text-align:left;\"> chr1 </td>\n",
       "   <td style=\"text-align:right;\"> 605090 </td>\n",
       "   <td style=\"text-align:right;\"> 605823 </td>\n",
       "   <td style=\"text-align:left;\"> chr1:605090-605823 </td>\n",
       "   <td style=\"text-align:right;\"> 0.0904152 </td>\n",
       "   <td style=\"text-align:right;\"> -0.2365345 </td>\n",
       "   <td style=\"text-align:right;\"> 3.171240 </td>\n",
       "   <td style=\"text-align:right;\"> -0.774100 </td>\n",
       "   <td style=\"text-align:right;\"> 10 </td>\n",
       "   <td style=\"text-align:right;\"> -0.3442168 </td>\n",
       "   <td style=\"text-align:right;\"> 1.8289430 </td>\n",
       "  </tr>\n",
       "  <tr>\n",
       "   <td style=\"text-align:left;\"> chr1 </td>\n",
       "   <td style=\"text-align:right;\"> 777949 </td>\n",
       "   <td style=\"text-align:right;\"> 779437 </td>\n",
       "   <td style=\"text-align:left;\"> chr1:777949-779437 </td>\n",
       "   <td style=\"text-align:right;\"> 0.1162065 </td>\n",
       "   <td style=\"text-align:right;\"> 0.0869985 </td>\n",
       "   <td style=\"text-align:right;\"> 0.666834 </td>\n",
       "   <td style=\"text-align:right;\"> -0.405530 </td>\n",
       "   <td style=\"text-align:right;\"> 10 </td>\n",
       "   <td style=\"text-align:right;\"> -0.2424447 </td>\n",
       "   <td style=\"text-align:right;\"> 0.3553073 </td>\n",
       "  </tr>\n",
       "  <tr>\n",
       "   <td style=\"text-align:left;\"> chr1 </td>\n",
       "   <td style=\"text-align:right;\"> 816774 </td>\n",
       "   <td style=\"text-align:right;\"> 817547 </td>\n",
       "   <td style=\"text-align:left;\"> chr1:816774-817547 </td>\n",
       "   <td style=\"text-align:right;\"> -0.1820106 </td>\n",
       "   <td style=\"text-align:right;\"> -0.3681095 </td>\n",
       "   <td style=\"text-align:right;\"> 1.049030 </td>\n",
       "   <td style=\"text-align:right;\"> -0.928019 </td>\n",
       "   <td style=\"text-align:right;\"> 8 </td>\n",
       "   <td style=\"text-align:right;\"> -0.5017798 </td>\n",
       "   <td style=\"text-align:right;\"> 0.7772970 </td>\n",
       "  </tr>\n",
       "</tbody>\n",
       "</table>"
      ]
     },
     "metadata": {},
     "output_type": "display_data"
    }
   ],
   "source": [
    "txt = \"fcc_astarr_macs_input_union\"\n",
    "lst = lst_dat_region_score_cgrowth_import\n",
    "dat = lst[[txt]]\n",
    "dat_region_score_cgrowth_import = dat\n",
    "print(dim(dat))\n",
    "fun_display_table(head(dat, 3))"
   ]
  },
  {
   "cell_type": "code",
   "execution_count": 15,
   "id": "03a5a534-4d8d-4296-848f-2563fbe8b0e2",
   "metadata": {},
   "outputs": [
    {
     "name": "stdout",
     "output_type": "stream",
     "text": [
      "[1] 1241    3\n"
     ]
    },
    {
     "data": {
      "text/html": [
       "<table>\n",
       " <thead>\n",
       "  <tr>\n",
       "   <th style=\"text-align:left;\"> Region </th>\n",
       "   <th style=\"text-align:left;\"> Group </th>\n",
       "   <th style=\"text-align:right;\"> Score </th>\n",
       "  </tr>\n",
       " </thead>\n",
       "<tbody>\n",
       "  <tr>\n",
       "   <td style=\"text-align:left;\"> chr11:4539569-4540043 </td>\n",
       "   <td style=\"text-align:left;\"> Mean </td>\n",
       "   <td style=\"text-align:right;\"> -0.0747493 </td>\n",
       "  </tr>\n",
       "  <tr>\n",
       "   <td style=\"text-align:left;\"> chr11:4551336-4552012 </td>\n",
       "   <td style=\"text-align:left;\"> Mean </td>\n",
       "   <td style=\"text-align:right;\"> -0.0058791 </td>\n",
       "  </tr>\n",
       "  <tr>\n",
       "   <td style=\"text-align:left;\"> chr11:4607676-4608647 </td>\n",
       "   <td style=\"text-align:left;\"> Mean </td>\n",
       "   <td style=\"text-align:right;\"> 0.0005555 </td>\n",
       "  </tr>\n",
       "</tbody>\n",
       "</table>"
      ]
     },
     "metadata": {},
     "output_type": "display_data"
    }
   ],
   "source": [
    "dat = dat_region_score_cgrowth_import\n",
    "\n",
    "dat = dat %>% \n",
    "    dplyr::select(Region, Mean) %>%\n",
    "    dplyr::right_join(dat_region, by = \"Region\")\n",
    "\n",
    "dat = dat %>% \n",
    "    #tidyr::gather(Group, Score, -Chrom, -ChromStart, -ChromEnd, -Region) %>%\n",
    "    #dplyr::select(Chrom, ChromStart, ChromEnd, Region, Group, Score) %>%\n",
    "    tidyr::gather(Group, Score, -Region) %>%\n",
    "    dplyr::mutate(Region = factor(Region, levels=VEC_TXT_REGION)) %>%\n",
    "    replace(is.na(.), 0)\n",
    "\n",
    "dat_region_score_cgrowth_arrange = dat\n",
    "print(dim(dat))\n",
    "fun_display_table(head(dat, 3))"
   ]
  },
  {
   "cell_type": "code",
   "execution_count": 16,
   "id": "09492d04-a610-444c-b8fe-a3e8fecc3f27",
   "metadata": {},
   "outputs": [
    {
     "data": {
      "image/png": "[encoded data removed]",
      "text/plain": [
       "plot without title"
      ]
     },
     "metadata": {
      "image/png": {
       "height": 180,
       "width": 900
      }
     },
     "output_type": "display_data"
    }
   ],
   "source": [
    "theme_text = theme(\n",
    "    axis.ticks.x = element_blank(),\n",
    "    axis.text.x  = element_blank(),\n",
    "    axis.text.y  = element_text(size = 15),\n",
    "    axis.title.x = element_blank(),\n",
    "    axis.title.y = element_blank(),\n",
    "    plot.title = element_text(face = \"plain\", size = 17)\n",
    "    #axis.title.y = element_text(size = 15)\n",
    ")\n",
    "\n",
    "theme_legend = theme(legend.position = \"none\")\n",
    "\n",
    "dat = dat_region_score_cgrowth_arrange\n",
    "\n",
    "gpt = ggplot(dat, aes(x=Region, y=Score)) + \n",
    "    geom_col(width=2, position=\"identity\") +\n",
    "    labs(title = \"CRISPRi-Growth\") +\n",
    "    theme_cowplot() + \n",
    "    theme_text +\n",
    "    theme_legend\n",
    "\n",
    "gpt_score_cgrowth = gpt\n",
    "\n",
    "options(repr.plot.height=3, repr.plot.width=15)\n",
    "print(gpt)"
   ]
  },
  {
   "cell_type": "code",
   "execution_count": null,
   "id": "c438e4a8-1ee7-4e39-beb9-da846a6d55df",
   "metadata": {},
   "outputs": [],
   "source": []
  }
 ],
 "metadata": {
  "kernelspec": {
   "display_name": "R",
   "language": "R",
   "name": "ir"
  },
  "language_info": {
   "codemirror_mode": "r",
   "file_extension": ".r",
   "mimetype": "text/x-r-source",
   "name": "R",
   "pygments_lexer": "r",
   "version": "4.4.2"
  }
 },
 "nbformat": 4,
 "nbformat_minor": 5
}
