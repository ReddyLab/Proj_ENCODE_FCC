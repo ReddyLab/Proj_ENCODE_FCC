{
 "cells": [
  {
   "cell_type": "code",
   "execution_count": null,
   "id": "b612ecd2-95cc-4ae6-a6da-32a5465ac94d",
   "metadata": {},
   "outputs": [],
   "source": []
  },
  {
   "cell_type": "markdown",
   "id": "b7db4bbf-aed0-4b7e-8ed5-412fa29c53bc",
   "metadata": {},
   "source": [
    "**Set environment**"
   ]
  },
  {
   "cell_type": "code",
   "execution_count": 1,
   "id": "574ba55c-ad9d-43ff-ad89-884db803f08b",
   "metadata": {},
   "outputs": [
    {
     "name": "stdout",
     "output_type": "stream",
     "text": [
      "You are working on        Singularity: singularity_proj_encode_fcc \n",
      "BASE DIRECTORY (FD_BASE): /data/reddylab/Kuei \n",
      "REPO DIRECTORY (FD_REPO): /data/reddylab/Kuei/repo \n",
      "WORK DIRECTORY (FD_WORK): /data/reddylab/Kuei/work \n",
      "DATA DIRECTORY (FD_DATA): /data/reddylab/Kuei/data \n",
      "\n",
      "You are working with      ENCODE FCC \n",
      "PATH OF PROJECT (FD_PRJ): /data/reddylab/Kuei/repo/Proj_ENCODE_FCC \n",
      "PROJECT RESULTS (FD_RES): /data/reddylab/Kuei/repo/Proj_ENCODE_FCC/results \n",
      "PROJECT SCRIPTS (FD_EXE): /data/reddylab/Kuei/repo/Proj_ENCODE_FCC/scripts \n",
      "PROJECT DATA    (FD_DAT): /data/reddylab/Kuei/repo/Proj_ENCODE_FCC/data \n",
      "PROJECT NOTE    (FD_NBK): /data/reddylab/Kuei/repo/Proj_ENCODE_FCC/notebooks \n",
      "PROJECT DOCS    (FD_DOC): /data/reddylab/Kuei/repo/Proj_ENCODE_FCC/docs \n",
      "PROJECT LOG     (FD_LOG): /data/reddylab/Kuei/repo/Proj_ENCODE_FCC/log \n",
      "PROJECT REF     (FD_REF): /data/reddylab/Kuei/repo/Proj_ENCODE_FCC/references \n",
      "\n"
     ]
    }
   ],
   "source": [
    "suppressMessages(suppressWarnings(source(\"../run_config_project_sing.R\")))\n",
    "show_env()"
   ]
  },
  {
   "cell_type": "code",
   "execution_count": 2,
   "id": "e1a3741d-dcdf-4b43-951b-623e49ccb4a4",
   "metadata": {},
   "outputs": [],
   "source": [
    "FD_RES_PRE = \"/data/reddylab/Kuei/work/proj_encode_fcc/results_v4\""
   ]
  },
  {
   "cell_type": "code",
   "execution_count": 3,
   "id": "0795fe41-1d88-4d80-9d99-ea3f8d62dea5",
   "metadata": {},
   "outputs": [
    {
     "name": "stdout",
     "output_type": "stream",
     "text": [
      "[1] 732434      7\n"
     ]
    },
    {
     "data": {
      "text/html": [
       "<table class=\"dataframe\">\n",
       "<caption>A tibble: 6 × 7</caption>\n",
       "<thead>\n",
       "\t<tr><th scope=col>Chrom</th><th scope=col>Start</th><th scope=col>End</th><th scope=col>Peak</th><th scope=col>Score</th><th scope=col>Assay_Type</th><th scope=col>Assay_Label</th></tr>\n",
       "\t<tr><th scope=col>&lt;chr&gt;</th><th scope=col>&lt;dbl&gt;</th><th scope=col>&lt;dbl&gt;</th><th scope=col>&lt;chr&gt;</th><th scope=col>&lt;dbl&gt;</th><th scope=col>&lt;chr&gt;</th><th scope=col>&lt;chr&gt;</th></tr>\n",
       "</thead>\n",
       "<tbody>\n",
       "\t<tr><td>chr1</td><td>100006256</td><td>100006880</td><td>chr1:100006256-100006880</td><td>-0.01311792</td><td>ASTARR</td><td>ASTARR_T</td></tr>\n",
       "\t<tr><td>chr1</td><td>100010437</td><td>100010915</td><td>chr1:100010437-100010915</td><td>-0.80687947</td><td>ASTARR</td><td>ASTARR_T</td></tr>\n",
       "\t<tr><td>chr1</td><td> 10002087</td><td> 10003910</td><td>chr1:10002087-10003910  </td><td>-0.34892859</td><td>ASTARR</td><td>ASTARR_T</td></tr>\n",
       "\t<tr><td>chr1</td><td>100021298</td><td>100021629</td><td>chr1:100021298-100021629</td><td>-1.03799571</td><td>ASTARR</td><td>ASTARR_T</td></tr>\n",
       "\t<tr><td>chr1</td><td>100023727</td><td>100023976</td><td>chr1:100023727-100023976</td><td>-0.19100207</td><td>ASTARR</td><td>ASTARR_T</td></tr>\n",
       "\t<tr><td>chr1</td><td>100027983</td><td>100029702</td><td>chr1:100027983-100029702</td><td>-0.18001582</td><td>ASTARR</td><td>ASTARR_T</td></tr>\n",
       "</tbody>\n",
       "</table>\n"
      ],
      "text/latex": [
       "A tibble: 6 × 7\n",
       "\\begin{tabular}{lllllll}\n",
       " Chrom & Start & End & Peak & Score & Assay\\_Type & Assay\\_Label\\\\\n",
       " <chr> & <dbl> & <dbl> & <chr> & <dbl> & <chr> & <chr>\\\\\n",
       "\\hline\n",
       "\t chr1 & 100006256 & 100006880 & chr1:100006256-100006880 & -0.01311792 & ASTARR & ASTARR\\_T\\\\\n",
       "\t chr1 & 100010437 & 100010915 & chr1:100010437-100010915 & -0.80687947 & ASTARR & ASTARR\\_T\\\\\n",
       "\t chr1 &  10002087 &  10003910 & chr1:10002087-10003910   & -0.34892859 & ASTARR & ASTARR\\_T\\\\\n",
       "\t chr1 & 100021298 & 100021629 & chr1:100021298-100021629 & -1.03799571 & ASTARR & ASTARR\\_T\\\\\n",
       "\t chr1 & 100023727 & 100023976 & chr1:100023727-100023976 & -0.19100207 & ASTARR & ASTARR\\_T\\\\\n",
       "\t chr1 & 100027983 & 100029702 & chr1:100027983-100029702 & -0.18001582 & ASTARR & ASTARR\\_T\\\\\n",
       "\\end{tabular}\n"
      ],
      "text/markdown": [
       "\n",
       "A tibble: 6 × 7\n",
       "\n",
       "| Chrom &lt;chr&gt; | Start &lt;dbl&gt; | End &lt;dbl&gt; | Peak &lt;chr&gt; | Score &lt;dbl&gt; | Assay_Type &lt;chr&gt; | Assay_Label &lt;chr&gt; |\n",
       "|---|---|---|---|---|---|---|\n",
       "| chr1 | 100006256 | 100006880 | chr1:100006256-100006880 | -0.01311792 | ASTARR | ASTARR_T |\n",
       "| chr1 | 100010437 | 100010915 | chr1:100010437-100010915 | -0.80687947 | ASTARR | ASTARR_T |\n",
       "| chr1 |  10002087 |  10003910 | chr1:10002087-10003910   | -0.34892859 | ASTARR | ASTARR_T |\n",
       "| chr1 | 100021298 | 100021629 | chr1:100021298-100021629 | -1.03799571 | ASTARR | ASTARR_T |\n",
       "| chr1 | 100023727 | 100023976 | chr1:100023727-100023976 | -0.19100207 | ASTARR | ASTARR_T |\n",
       "| chr1 | 100027983 | 100029702 | chr1:100027983-100029702 | -0.18001582 | ASTARR | ASTARR_T |\n",
       "\n"
      ],
      "text/plain": [
       "  Chrom Start     End       Peak                     Score       Assay_Type\n",
       "1 chr1  100006256 100006880 chr1:100006256-100006880 -0.01311792 ASTARR    \n",
       "2 chr1  100010437 100010915 chr1:100010437-100010915 -0.80687947 ASTARR    \n",
       "3 chr1   10002087  10003910 chr1:10002087-10003910   -0.34892859 ASTARR    \n",
       "4 chr1  100021298 100021629 chr1:100021298-100021629 -1.03799571 ASTARR    \n",
       "5 chr1  100023727 100023976 chr1:100023727-100023976 -0.19100207 ASTARR    \n",
       "6 chr1  100027983 100029702 chr1:100027983-100029702 -0.18001582 ASTARR    \n",
       "  Assay_Label\n",
       "1 ASTARR_T   \n",
       "2 ASTARR_T   \n",
       "3 ASTARR_T   \n",
       "4 ASTARR_T   \n",
       "5 ASTARR_T   \n",
       "6 ASTARR_T   "
      ]
     },
     "metadata": {},
     "output_type": "display_data"
    }
   ],
   "source": [
    "#fdiry = file.path(FD_RES, \"results\", \"region\", \"KS91_K562_ASTARRseq_peak_macs_input\", \"summary\")\n",
    "fdiry = file.path(FD_RES_PRE, \"region\", \"KS91_K562_ASTARRseq_peak_macs_input\", \"summary\")\n",
    "fname = \"peak.screened.fcc.total.tsv\"\n",
    "fpath = file.path(fdiry, fname)\n",
    "\n",
    "dat = read_tsv(fpath, show_col_types=FALSE)\n",
    "\n",
    "dat_peak_atac_fcc_total = dat\n",
    "print(dim(dat))\n",
    "head(dat)"
   ]
  },
  {
   "cell_type": "code",
   "execution_count": 13,
   "id": "97e49d45-25e3-4608-aeee-4a7c543452d3",
   "metadata": {},
   "outputs": [
    {
     "name": "stdout",
     "output_type": "stream",
     "text": [
      "\n",
      "ASTARR  LMPRA  TMPRA WSTARR \n",
      "246850  68420   1722 246688 \n"
     ]
    }
   ],
   "source": [
    "vec = c(\"ASTARR\", \"WSTARR\", \"TMPRA\", \"LMPRA\", \"ATAC\")\n",
    "dat = dat_peak_atac_fcc_total\n",
    "dat = dat %>% dplyr::filter(Assay_Type %in% vec)\n",
    "res = table(dat$Assay_Type)\n",
    "print(res)"
   ]
  },
  {
   "cell_type": "code",
   "execution_count": 4,
   "id": "0f3a09c7-1e0d-4f5a-91f5-afdfb48d2b0e",
   "metadata": {},
   "outputs": [
    {
     "name": "stdout",
     "output_type": "stream",
     "text": [
      "[1] 246852      7\n"
     ]
    },
    {
     "data": {
      "text/html": [
       "<table class=\"dataframe\">\n",
       "<caption>A tibble: 6 × 7</caption>\n",
       "<thead>\n",
       "\t<tr><th scope=col>Chrom</th><th scope=col>Start</th><th scope=col>End</th><th scope=col>Peak</th><th scope=col>Score</th><th scope=col>Assay_Type</th><th scope=col>Assay_Label</th></tr>\n",
       "\t<tr><th scope=col>&lt;chr&gt;</th><th scope=col>&lt;dbl&gt;</th><th scope=col>&lt;dbl&gt;</th><th scope=col>&lt;chr&gt;</th><th scope=col>&lt;dbl&gt;</th><th scope=col>&lt;chr&gt;</th><th scope=col>&lt;chr&gt;</th></tr>\n",
       "</thead>\n",
       "<tbody>\n",
       "\t<tr><td>chr1</td><td>10015</td><td>10442</td><td>chr1:10015-10442</td><td>1.1389501</td><td>ATAC</td><td>ATAC_Q3</td></tr>\n",
       "\t<tr><td>chr1</td><td>14253</td><td>14645</td><td>chr1:14253-14645</td><td>0.8042019</td><td>ATAC</td><td>ATAC_Q3</td></tr>\n",
       "\t<tr><td>chr1</td><td>16015</td><td>16477</td><td>chr1:16015-16477</td><td>0.9440313</td><td>ATAC</td><td>ATAC_Q3</td></tr>\n",
       "\t<tr><td>chr1</td><td>17237</td><td>17772</td><td>chr1:17237-17772</td><td>1.4967405</td><td>ATAC</td><td>ATAC_Q4</td></tr>\n",
       "\t<tr><td>chr1</td><td>28903</td><td>29613</td><td>chr1:28903-29613</td><td>1.0746061</td><td>ATAC</td><td>ATAC_Q3</td></tr>\n",
       "\t<tr><td>chr1</td><td>30803</td><td>31072</td><td>chr1:30803-31072</td><td>1.0312963</td><td>ATAC</td><td>ATAC_Q3</td></tr>\n",
       "</tbody>\n",
       "</table>\n"
      ],
      "text/latex": [
       "A tibble: 6 × 7\n",
       "\\begin{tabular}{lllllll}\n",
       " Chrom & Start & End & Peak & Score & Assay\\_Type & Assay\\_Label\\\\\n",
       " <chr> & <dbl> & <dbl> & <chr> & <dbl> & <chr> & <chr>\\\\\n",
       "\\hline\n",
       "\t chr1 & 10015 & 10442 & chr1:10015-10442 & 1.1389501 & ATAC & ATAC\\_Q3\\\\\n",
       "\t chr1 & 14253 & 14645 & chr1:14253-14645 & 0.8042019 & ATAC & ATAC\\_Q3\\\\\n",
       "\t chr1 & 16015 & 16477 & chr1:16015-16477 & 0.9440313 & ATAC & ATAC\\_Q3\\\\\n",
       "\t chr1 & 17237 & 17772 & chr1:17237-17772 & 1.4967405 & ATAC & ATAC\\_Q4\\\\\n",
       "\t chr1 & 28903 & 29613 & chr1:28903-29613 & 1.0746061 & ATAC & ATAC\\_Q3\\\\\n",
       "\t chr1 & 30803 & 31072 & chr1:30803-31072 & 1.0312963 & ATAC & ATAC\\_Q3\\\\\n",
       "\\end{tabular}\n"
      ],
      "text/markdown": [
       "\n",
       "A tibble: 6 × 7\n",
       "\n",
       "| Chrom &lt;chr&gt; | Start &lt;dbl&gt; | End &lt;dbl&gt; | Peak &lt;chr&gt; | Score &lt;dbl&gt; | Assay_Type &lt;chr&gt; | Assay_Label &lt;chr&gt; |\n",
       "|---|---|---|---|---|---|---|\n",
       "| chr1 | 10015 | 10442 | chr1:10015-10442 | 1.1389501 | ATAC | ATAC_Q3 |\n",
       "| chr1 | 14253 | 14645 | chr1:14253-14645 | 0.8042019 | ATAC | ATAC_Q3 |\n",
       "| chr1 | 16015 | 16477 | chr1:16015-16477 | 0.9440313 | ATAC | ATAC_Q3 |\n",
       "| chr1 | 17237 | 17772 | chr1:17237-17772 | 1.4967405 | ATAC | ATAC_Q4 |\n",
       "| chr1 | 28903 | 29613 | chr1:28903-29613 | 1.0746061 | ATAC | ATAC_Q3 |\n",
       "| chr1 | 30803 | 31072 | chr1:30803-31072 | 1.0312963 | ATAC | ATAC_Q3 |\n",
       "\n"
      ],
      "text/plain": [
       "  Chrom Start End   Peak             Score     Assay_Type Assay_Label\n",
       "1 chr1  10015 10442 chr1:10015-10442 1.1389501 ATAC       ATAC_Q3    \n",
       "2 chr1  14253 14645 chr1:14253-14645 0.8042019 ATAC       ATAC_Q3    \n",
       "3 chr1  16015 16477 chr1:16015-16477 0.9440313 ATAC       ATAC_Q3    \n",
       "4 chr1  17237 17772 chr1:17237-17772 1.4967405 ATAC       ATAC_Q4    \n",
       "5 chr1  28903 29613 chr1:28903-29613 1.0746061 ATAC       ATAC_Q3    \n",
       "6 chr1  30803 31072 chr1:30803-31072 1.0312963 ATAC       ATAC_Q3    "
      ]
     },
     "metadata": {},
     "output_type": "display_data"
    }
   ],
   "source": [
    "#fdiry = file.path(FD_RES, \"results\", \"region\", \"KS91_K562_ASTARRseq_peak_macs_input\", \"summary\")\n",
    "fdiry = file.path(FD_RES_PRE, \"region\", \"KS91_K562_ASTARRseq_peak_macs_input\", \"summary\")\n",
    "fname = \"peak.screened.atac.quantile.tsv\"\n",
    "fpath = file.path(fdiry, fname)\n",
    "\n",
    "dat = read_tsv(fpath, show_col_types=FALSE)\n",
    "\n",
    "dat_peak_atac = dat\n",
    "print(dim(dat))\n",
    "head(dat)"
   ]
  },
  {
   "cell_type": "code",
   "execution_count": 5,
   "id": "32d6ad61-91f0-4b03-abab-84ef8bc4913a",
   "metadata": {},
   "outputs": [
    {
     "name": "stdout",
     "output_type": "stream",
     "text": [
      "[1] \"ASTARR\"                \"ATAC\"                  \"CRISPRi-Growth\"       \n",
      "[4] \"CRISPRi-HCRFF\"         \"ENCODE-E2G_Benchmark\"  \"ENCODE-E2G_Prediction\"\n",
      "[7] \"LMPRA\"                 \"TMPRA\"                 \"WSTARR\"               \n"
     ]
    }
   ],
   "source": [
    "dat = bind_rows(dat_peak_atac_fcc_total, dat_peak_atac)\n",
    "lst = split(dat, dat$Assay_Type)\n",
    "print(names(lst))\n",
    "dat_peak_total_crispri_hcrff  = lst[[\"CRISPRi-HCRFF\"]]\n",
    "dat_peak_total_crispri_growth = lst[[\"CRISPRi-Growth\"]]"
   ]
  },
  {
   "cell_type": "code",
   "execution_count": 14,
   "id": "14e6f1bd-7d0a-4fff-bb11-0925f81b42a5",
   "metadata": {},
   "outputs": [
    {
     "name": "stdout",
     "output_type": "stream",
     "text": [
      "[1] 1330    7\n",
      "[1] 80288     7\n"
     ]
    }
   ],
   "source": [
    "dat = dat_peak_total_crispri_hcrff\n",
    "print(dim(dat))\n",
    "\n",
    "dat = dat_peak_total_crispri_growth\n",
    "print(dim(dat))"
   ]
  },
  {
   "cell_type": "code",
   "execution_count": 6,
   "id": "0f20b1b5-ee06-4bf9-ae16-f2a90f6a6aad",
   "metadata": {},
   "outputs": [
    {
     "data": {
      "image/png": "[encoded data removed]",
      "text/plain": [
       "plot without title"
      ]
     },
     "metadata": {
      "image/png": {
       "height": 240,
       "width": 420
      }
     },
     "output_type": "display_data"
    }
   ],
   "source": [
    "dat = dat_peak_total_crispri_hcrff\n",
    "gpt = ggplot(dat, aes(x=Score)) + geom_histogram(bins = 50) + theme_cowplot()\n",
    "\n",
    "options(repr.plot.height=4, repr.plot.width=7)\n",
    "print(gpt)"
   ]
  },
  {
   "cell_type": "code",
   "execution_count": 7,
   "id": "503b07d5-07f5-470d-b6ae-7ed5d09ff2ce",
   "metadata": {},
   "outputs": [
    {
     "name": "stdout",
     "output_type": "stream",
     "text": [
      "[1] 1330    2\n"
     ]
    },
    {
     "data": {
      "text/html": [
       "<table class=\"dataframe\">\n",
       "<caption>A tibble: 6 × 2</caption>\n",
       "<thead>\n",
       "\t<tr><th scope=col>Peak</th><th scope=col>CRISPRi_Label</th></tr>\n",
       "\t<tr><th scope=col>&lt;chr&gt;</th><th scope=col>&lt;chr&gt;</th></tr>\n",
       "</thead>\n",
       "<tbody>\n",
       "\t<tr><td>chr11:33065336-33066228</td><td>Background</td></tr>\n",
       "\t<tr><td>chr11:33068519-33069100</td><td>Background</td></tr>\n",
       "\t<tr><td>chr11:33072412-33072630</td><td>Background</td></tr>\n",
       "\t<tr><td>chr11:33103533-33104120</td><td>Background</td></tr>\n",
       "\t<tr><td>chr11:33114629-33115134</td><td>Background</td></tr>\n",
       "\t<tr><td>chr11:33125296-33126416</td><td>Background</td></tr>\n",
       "</tbody>\n",
       "</table>\n"
      ],
      "text/latex": [
       "A tibble: 6 × 2\n",
       "\\begin{tabular}{ll}\n",
       " Peak & CRISPRi\\_Label\\\\\n",
       " <chr> & <chr>\\\\\n",
       "\\hline\n",
       "\t chr11:33065336-33066228 & Background\\\\\n",
       "\t chr11:33068519-33069100 & Background\\\\\n",
       "\t chr11:33072412-33072630 & Background\\\\\n",
       "\t chr11:33103533-33104120 & Background\\\\\n",
       "\t chr11:33114629-33115134 & Background\\\\\n",
       "\t chr11:33125296-33126416 & Background\\\\\n",
       "\\end{tabular}\n"
      ],
      "text/markdown": [
       "\n",
       "A tibble: 6 × 2\n",
       "\n",
       "| Peak &lt;chr&gt; | CRISPRi_Label &lt;chr&gt; |\n",
       "|---|---|\n",
       "| chr11:33065336-33066228 | Background |\n",
       "| chr11:33068519-33069100 | Background |\n",
       "| chr11:33072412-33072630 | Background |\n",
       "| chr11:33103533-33104120 | Background |\n",
       "| chr11:33114629-33115134 | Background |\n",
       "| chr11:33125296-33126416 | Background |\n",
       "\n"
      ],
      "text/plain": [
       "  Peak                    CRISPRi_Label\n",
       "1 chr11:33065336-33066228 Background   \n",
       "2 chr11:33068519-33069100 Background   \n",
       "3 chr11:33072412-33072630 Background   \n",
       "4 chr11:33103533-33104120 Background   \n",
       "5 chr11:33114629-33115134 Background   \n",
       "6 chr11:33125296-33126416 Background   "
      ]
     },
     "metadata": {},
     "output_type": "display_data"
    }
   ],
   "source": [
    "dat = dat_peak_total_crispri_hcrff\n",
    "dat = dat %>% \n",
    "    dplyr::mutate(\n",
    "        CRISPRi_Label = ifelse(\n",
    "            abs(Score) >= 1,\n",
    "            \"CRISPRi Hit\",\n",
    "            \"Background\"\n",
    "    )) %>%\n",
    "    dplyr::select(Peak, CRISPRi_Label)\n",
    "\n",
    "dat_peak_label_crispri_hcrff = dat\n",
    "print(dim(dat))\n",
    "head(dat)"
   ]
  },
  {
   "cell_type": "code",
   "execution_count": 8,
   "id": "71ebb068-4c75-4bc4-88a9-ff9a8b17cb23",
   "metadata": {},
   "outputs": [
    {
     "data": {
      "text/html": [
       "<table class=\"dataframe\">\n",
       "<caption>A tibble: 6 × 8</caption>\n",
       "<thead>\n",
       "\t<tr><th scope=col>Chrom</th><th scope=col>Start</th><th scope=col>End</th><th scope=col>Peak</th><th scope=col>Score</th><th scope=col>Assay_Type</th><th scope=col>Assay_Label</th><th scope=col>CRISPRi_Label</th></tr>\n",
       "\t<tr><th scope=col>&lt;chr&gt;</th><th scope=col>&lt;dbl&gt;</th><th scope=col>&lt;dbl&gt;</th><th scope=col>&lt;chr&gt;</th><th scope=col>&lt;dbl&gt;</th><th scope=col>&lt;chr&gt;</th><th scope=col>&lt;chr&gt;</th><th scope=col>&lt;chr&gt;</th></tr>\n",
       "</thead>\n",
       "<tbody>\n",
       "\t<tr><td>chr11</td><td>33065336</td><td>33066228</td><td>chr11:33065336-33066228</td><td>-0.1836735</td><td>WSTARR</td><td>WSTARR_T</td><td>Background</td></tr>\n",
       "\t<tr><td>chr11</td><td>33068519</td><td>33069100</td><td>chr11:33068519-33069100</td><td> 0.3259012</td><td>WSTARR</td><td>WSTARR_T</td><td>Background</td></tr>\n",
       "\t<tr><td>chr11</td><td>33072412</td><td>33072630</td><td>chr11:33072412-33072630</td><td>-0.1338946</td><td>WSTARR</td><td>WSTARR_T</td><td>Background</td></tr>\n",
       "\t<tr><td>chr11</td><td>33103533</td><td>33104120</td><td>chr11:33103533-33104120</td><td>-0.4930123</td><td>WSTARR</td><td>WSTARR_T</td><td>Background</td></tr>\n",
       "\t<tr><td>chr11</td><td>33114629</td><td>33115134</td><td>chr11:33114629-33115134</td><td>-0.2409942</td><td>WSTARR</td><td>WSTARR_T</td><td>Background</td></tr>\n",
       "\t<tr><td>chr11</td><td>33125296</td><td>33126416</td><td>chr11:33125296-33126416</td><td> 0.1596538</td><td>WSTARR</td><td>WSTARR_T</td><td>Background</td></tr>\n",
       "</tbody>\n",
       "</table>\n"
      ],
      "text/latex": [
       "A tibble: 6 × 8\n",
       "\\begin{tabular}{llllllll}\n",
       " Chrom & Start & End & Peak & Score & Assay\\_Type & Assay\\_Label & CRISPRi\\_Label\\\\\n",
       " <chr> & <dbl> & <dbl> & <chr> & <dbl> & <chr> & <chr> & <chr>\\\\\n",
       "\\hline\n",
       "\t chr11 & 33065336 & 33066228 & chr11:33065336-33066228 & -0.1836735 & WSTARR & WSTARR\\_T & Background\\\\\n",
       "\t chr11 & 33068519 & 33069100 & chr11:33068519-33069100 &  0.3259012 & WSTARR & WSTARR\\_T & Background\\\\\n",
       "\t chr11 & 33072412 & 33072630 & chr11:33072412-33072630 & -0.1338946 & WSTARR & WSTARR\\_T & Background\\\\\n",
       "\t chr11 & 33103533 & 33104120 & chr11:33103533-33104120 & -0.4930123 & WSTARR & WSTARR\\_T & Background\\\\\n",
       "\t chr11 & 33114629 & 33115134 & chr11:33114629-33115134 & -0.2409942 & WSTARR & WSTARR\\_T & Background\\\\\n",
       "\t chr11 & 33125296 & 33126416 & chr11:33125296-33126416 &  0.1596538 & WSTARR & WSTARR\\_T & Background\\\\\n",
       "\\end{tabular}\n"
      ],
      "text/markdown": [
       "\n",
       "A tibble: 6 × 8\n",
       "\n",
       "| Chrom &lt;chr&gt; | Start &lt;dbl&gt; | End &lt;dbl&gt; | Peak &lt;chr&gt; | Score &lt;dbl&gt; | Assay_Type &lt;chr&gt; | Assay_Label &lt;chr&gt; | CRISPRi_Label &lt;chr&gt; |\n",
       "|---|---|---|---|---|---|---|---|\n",
       "| chr11 | 33065336 | 33066228 | chr11:33065336-33066228 | -0.1836735 | WSTARR | WSTARR_T | Background |\n",
       "| chr11 | 33068519 | 33069100 | chr11:33068519-33069100 |  0.3259012 | WSTARR | WSTARR_T | Background |\n",
       "| chr11 | 33072412 | 33072630 | chr11:33072412-33072630 | -0.1338946 | WSTARR | WSTARR_T | Background |\n",
       "| chr11 | 33103533 | 33104120 | chr11:33103533-33104120 | -0.4930123 | WSTARR | WSTARR_T | Background |\n",
       "| chr11 | 33114629 | 33115134 | chr11:33114629-33115134 | -0.2409942 | WSTARR | WSTARR_T | Background |\n",
       "| chr11 | 33125296 | 33126416 | chr11:33125296-33126416 |  0.1596538 | WSTARR | WSTARR_T | Background |\n",
       "\n"
      ],
      "text/plain": [
       "  Chrom Start    End      Peak                    Score      Assay_Type\n",
       "1 chr11 33065336 33066228 chr11:33065336-33066228 -0.1836735 WSTARR    \n",
       "2 chr11 33068519 33069100 chr11:33068519-33069100  0.3259012 WSTARR    \n",
       "3 chr11 33072412 33072630 chr11:33072412-33072630 -0.1338946 WSTARR    \n",
       "4 chr11 33103533 33104120 chr11:33103533-33104120 -0.4930123 WSTARR    \n",
       "5 chr11 33114629 33115134 chr11:33114629-33115134 -0.2409942 WSTARR    \n",
       "6 chr11 33125296 33126416 chr11:33125296-33126416  0.1596538 WSTARR    \n",
       "  Assay_Label CRISPRi_Label\n",
       "1 WSTARR_T    Background   \n",
       "2 WSTARR_T    Background   \n",
       "3 WSTARR_T    Background   \n",
       "4 WSTARR_T    Background   \n",
       "5 WSTARR_T    Background   \n",
       "6 WSTARR_T    Background   "
      ]
     },
     "metadata": {},
     "output_type": "display_data"
    }
   ],
   "source": [
    "dat = dat_peak_atac_fcc_total\n",
    "lst = split(dat, dat$Assay_Type)\n",
    "\n",
    "txt = \"WSTARR\"\n",
    "dat = lst[[txt]]\n",
    "dat = dat %>% dplyr::right_join(dat_peak_label_crispri_hcrff, by=\"Peak\")\n",
    "\n",
    "head(dat)"
   ]
  },
  {
   "cell_type": "code",
   "execution_count": 9,
   "id": "e9d92ae1-5267-4d98-81cc-9efb6c3435ef",
   "metadata": {},
   "outputs": [
    {
     "data": {
      "image/png": "[encoded data removed]",
      "text/plain": [
       "plot without title"
      ]
     },
     "metadata": {
      "image/png": {
       "height": 360,
       "width": 240
      }
     },
     "output_type": "display_data"
    }
   ],
   "source": [
    "gpt = ggplot(dat, aes(x=CRISPRi_Label, y=Score)) + geom_boxplot() + theme_cowplot()\n",
    "\n",
    "options(repr.plot.height=6, repr.plot.width=4)\n",
    "print(gpt)"
   ]
  },
  {
   "cell_type": "code",
   "execution_count": 10,
   "id": "81124275-c063-4f51-9588-30bb9dbbe092",
   "metadata": {},
   "outputs": [],
   "source": [
    "fun_auroc = function(vec_boo_actual, vec_num_score) {\n",
    "    ###\n",
    "    idx = order(vec_num_score)\n",
    "    vec = vec_boo_actual[idx]\n",
    "    \n",
    "    ###\n",
    "    vec_num_sens = (sum(vec) - cumsum(vec))/sum(vec)\n",
    "    vec_num_spec = cumsum(!vec)/sum(!vec)\n",
    "    \n",
    "    ###\n",
    "    num_width = diff(c(0, 1 - vec_num_sens))\n",
    "    num_auc   = sum(vec_num_spec * num_width)\n",
    "\n",
    "    ### \n",
    "    lst = list(\n",
    "        \"Specificity\" = vec_num_spec,\n",
    "        \"Sensitivity\" = vec_num_sens,\n",
    "        \"AUROC\"       = num_auc\n",
    "    )\n",
    "    return(lst)\n",
    "}"
   ]
  },
  {
   "cell_type": "code",
   "execution_count": 11,
   "id": "6a86210f-9659-4807-afd6-ce31495598ef",
   "metadata": {},
   "outputs": [
    {
     "data": {
      "image/png": "[encoded data removed]",
      "text/plain": [
       "plot without title"
      ]
     },
     "metadata": {
      "image/png": {
       "height": 300,
       "width": 420
      }
     },
     "output_type": "display_data"
    }
   ],
   "source": [
    "dat = bind_rows(dat_peak_atac_fcc_total, dat_peak_atac)\n",
    "\n",
    "lst = split(dat, dat$Assay_Type)\n",
    "vec = c(\"ASTARR\", \"WSTARR\", \"TMPRA\", \"LMPRA\", \"ATAC\")\n",
    "lst = lst[vec]\n",
    "\n",
    "lst = lapply(lst, function(dat){\n",
    "    \n",
    "    #txt = \"CRISPRi-HCRFF\"\n",
    "    #vec = paste(txt, c(\"I\", \"A\"), sep=\"_\")\n",
    "    vec = c(\"Background\", \"CRISPRi Hit\")\n",
    "    dat = dat %>% \n",
    "        dplyr::inner_join(dat_peak_label_crispri_hcrff, by=\"Peak\") %>%     \n",
    "        dplyr::mutate(CRISPRi_Label = factor(CRISPRi_Label, levels = vec))\n",
    "    \n",
    "    fit = glm(CRISPRi_Label ~ Score, data = dat, family = \"binomial\")\n",
    "    vec_boo_actual = (dat$CRISPRi_Label == \"CRISPRi Hit\")\n",
    "    vec_num_score = predict(fit, type = \"response\")\n",
    "\n",
    "    lst = fun_auroc(vec_boo_actual, vec_num_score)\n",
    "    vec_num_spec = lst[[\"Specificity\"]]\n",
    "    vec_num_sens = lst[[\"Sensitivity\"]]\n",
    "    num_auroc    = lst[[\"AUROC\"]]\n",
    "    txt_assay    = unique(dat$Assay_Type)\n",
    "\n",
    "    txt_title = paste0(\"(\", round(num_auroc, 2), \")\")\n",
    "    txt_title = paste(txt_assay, txt_title)\n",
    "    \n",
    "    dat = data.frame(\n",
    "        \"x\" = 1 - lst[[\"Specificity\"]],\n",
    "        \"y\" = lst[[\"Sensitivity\"]],\n",
    "        \"Assay\" = txt_assay,\n",
    "        \"AUROC\" = num_auroc,\n",
    "        \"Performance\" = txt_title\n",
    "    )\n",
    "    dat = dat %>% dplyr::arrange(x, y)\n",
    "    return(dat)\n",
    "})\n",
    "\n",
    "\n",
    "dat = bind_rows(lst)\n",
    "gpt = ggplot(dat, aes(x=x, y=y, group=Assay, color=Performance)) +\n",
    "    geom_line(linewidth=1) +\n",
    "    #geom_point() +\n",
    "    labs(x = \"1 - Specificity\", y = \"Sensitivity\") +\n",
    "    theme_cowplot()\n",
    "\n",
    "options(repr.plot.width=7, repr.plot.height=5)\n",
    "print(gpt)"
   ]
  },
  {
   "cell_type": "code",
   "execution_count": null,
   "id": "75e13490-14ec-45b4-8de7-9f932b1fa437",
   "metadata": {},
   "outputs": [],
   "source": []
  }
 ],
 "metadata": {
  "kernelspec": {
   "display_name": "R",
   "language": "R",
   "name": "ir"
  },
  "language_info": {
   "codemirror_mode": "r",
   "file_extension": ".r",
   "mimetype": "text/x-r-source",
   "name": "R",
   "pygments_lexer": "r",
   "version": "4.4.2"
  }
 },
 "nbformat": 4,
 "nbformat_minor": 5
}
