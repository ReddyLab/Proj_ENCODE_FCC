{
 "cells": [
  {
   "cell_type": "raw",
   "id": "6fd1eea0-85c1-4fcd-9305-063283f1762e",
   "metadata": {},
   "source": [
    "---\n",
    "title: ...\n",
    "subtitle: combine ATAC, setup total, final, and share verion of table\n",
    "format:\n",
    "    html:\n",
    "        code-fold:  true\n",
    "        code-tools: true\n",
    "---"
   ]
  },
  {
   "cell_type": "markdown",
   "id": "da00b92c-2a21-4e22-bcd8-93ec9b9cac9d",
   "metadata": {},
   "source": [
    "**Set environment**"
   ]
  },
  {
   "cell_type": "code",
   "execution_count": 90,
   "id": "96378ebc-321f-4d76-899d-23057fc797a1",
   "metadata": {},
   "outputs": [
    {
     "name": "stdout",
     "output_type": "stream",
     "text": [
      "You are working on        Singularity: singularity_proj_encode_fcc \n",
      "BASE DIRECTORY (FD_BASE): /data/reddylab/Kuei \n",
      "REPO DIRECTORY (FD_REPO): /data/reddylab/Kuei/repo \n",
      "WORK DIRECTORY (FD_WORK): /data/reddylab/Kuei/work \n",
      "DATA DIRECTORY (FD_DATA): /data/reddylab/Kuei/data \n",
      "\n",
      "You are working with      ENCODE FCC \n",
      "PATH OF PROJECT (FD_PRJ): /data/reddylab/Kuei/repo/Proj_ENCODE_FCC \n",
      "PROJECT RESULTS (FD_RES): /data/reddylab/Kuei/repo/Proj_ENCODE_FCC/results \n",
      "PROJECT SCRIPTS (FD_EXE): /data/reddylab/Kuei/repo/Proj_ENCODE_FCC/scripts \n",
      "PROJECT DATA    (FD_DAT): /data/reddylab/Kuei/repo/Proj_ENCODE_FCC/data \n",
      "PROJECT NOTE    (FD_NBK): /data/reddylab/Kuei/repo/Proj_ENCODE_FCC/notebooks \n",
      "PROJECT DOCS    (FD_DOC): /data/reddylab/Kuei/repo/Proj_ENCODE_FCC/docs \n",
      "PROJECT LOG     (FD_LOG): /data/reddylab/Kuei/repo/Proj_ENCODE_FCC/log \n",
      "PROJECT REF     (FD_REF): /data/reddylab/Kuei/repo/Proj_ENCODE_FCC/references \n",
      "\n"
     ]
    }
   ],
   "source": [
    "suppressMessages(suppressWarnings(source(\"../run_config_project_sing.R\")))\n",
    "show_env()"
   ]
  },
  {
   "cell_type": "markdown",
   "id": "c05f44e5-46c8-414d-ba40-a0d5b6171489",
   "metadata": {},
   "source": [
    "**Set global variables**"
   ]
  },
  {
   "cell_type": "code",
   "execution_count": 2,
   "id": "2b3c4bd4-166b-4e27-956a-a502f99a2ecc",
   "metadata": {},
   "outputs": [],
   "source": [
    "txt_fdiry = file.path(FD_RES, \"region_coverage_fcc\")\n",
    "vec = dir(txt_fdiry)\n",
    "for (txt in vec) {cat(txt, \"\\n\")}"
   ]
  },
  {
   "cell_type": "code",
   "execution_count": 3,
   "id": "8f73e787-5003-46ae-8a85-b326c98692cf",
   "metadata": {},
   "outputs": [],
   "source": [
    "txt_region = \"fcc_astarr_macs_input_union\"\n",
    "txt_fdiry  = file.path(FD_RES, \"region_coverage_fcc\", txt_region)\n",
    "vec = dir(txt_fdiry)\n",
    "for (txt in vec) {cat(txt, \"\\n\")}"
   ]
  },
  {
   "cell_type": "code",
   "execution_count": 4,
   "id": "fa9b3844-99aa-4e92-aa6a-27327d22fb9c",
   "metadata": {},
   "outputs": [
    {
     "name": "stdout",
     "output_type": "stream",
     "text": [
      "fcc_astarr_macs_input_overlap \n",
      "fcc_astarr_macs_input_union \n"
     ]
    }
   ],
   "source": [
    "#txt_fdiry = file.path(FD_RES, \"region_coverage_fcc\")\n",
    "#vec = dir(txt_fdiry)\n",
    "vec = c(\"fcc_astarr_macs_input_overlap\", \"fcc_astarr_macs_input_union\")\n",
    "names(vec) = vec\n",
    "\n",
    "VEC_TXT_REGION = vec\n",
    "for (txt in vec) {cat(txt, \"\\n\")}"
   ]
  },
  {
   "cell_type": "markdown",
   "id": "533e2de2-12b4-405f-b13f-6d75f59a41f0",
   "metadata": {},
   "source": [
    "## Import data"
   ]
  },
  {
   "cell_type": "code",
   "execution_count": 6,
   "id": "cec85a7c-f535-428f-8d5d-51a404060991",
   "metadata": {},
   "outputs": [
    {
     "name": "stdout",
     "output_type": "stream",
     "text": [
      "$fcc_astarr_macs_input_overlap\n",
      "[1] 432928     12\n",
      "\n",
      "$fcc_astarr_macs_input_union\n",
      "[1] 639718     12\n",
      "\n"
     ]
    },
    {
     "data": {
      "text/html": [
       "<table class=\"dataframe\">\n",
       "<caption>A tibble: 3 × 12</caption>\n",
       "<thead>\n",
       "\t<tr><th scope=col>Chrom</th><th scope=col>ChromStart</th><th scope=col>ChromEnd</th><th scope=col>Region</th><th scope=col>Score</th><th scope=col>Zcore</th><th scope=col>Score_Label</th><th scope=col>Zcore_Label</th><th scope=col>Assay_Name</th><th scope=col>Assay_Type</th><th scope=col>Assay_Group</th><th scope=col>Assay_Label</th></tr>\n",
       "\t<tr><th scope=col>&lt;chr&gt;</th><th scope=col>&lt;dbl&gt;</th><th scope=col>&lt;dbl&gt;</th><th scope=col>&lt;chr&gt;</th><th scope=col>&lt;dbl&gt;</th><th scope=col>&lt;dbl&gt;</th><th scope=col>&lt;chr&gt;</th><th scope=col>&lt;chr&gt;</th><th scope=col>&lt;chr&gt;</th><th scope=col>&lt;chr&gt;</th><th scope=col>&lt;chr&gt;</th><th scope=col>&lt;chr&gt;</th></tr>\n",
       "</thead>\n",
       "<tbody>\n",
       "\t<tr><td>chr1</td><td>10038</td><td>10405</td><td>chr1:10038-10405</td><td>-2.23485265</td><td>-3.5573621</td><td>Log2FC</td><td>Scale(Log2FC)</td><td>STARR_ATAC_K562_Reddy_KS91</td><td>ASTARR</td><td>ASTARR_KS91</td><td>ATAC-STARR</td></tr>\n",
       "\t<tr><td>chr1</td><td>14282</td><td>14614</td><td>chr1:14282-14614</td><td> 0.03179044</td><td> 0.0361388</td><td>Log2FC</td><td>Scale(Log2FC)</td><td>STARR_ATAC_K562_Reddy_KS91</td><td>ASTARR</td><td>ASTARR_KS91</td><td>ATAC-STARR</td></tr>\n",
       "\t<tr><td>chr1</td><td>16025</td><td>16338</td><td>chr1:16025-16338</td><td>-1.33934060</td><td>-2.1376311</td><td>Log2FC</td><td>Scale(Log2FC)</td><td>STARR_ATAC_K562_Reddy_KS91</td><td>ASTARR</td><td>ASTARR_KS91</td><td>ATAC-STARR</td></tr>\n",
       "</tbody>\n",
       "</table>\n"
      ],
      "text/latex": [
       "A tibble: 3 × 12\n",
       "\\begin{tabular}{llllllllllll}\n",
       " Chrom & ChromStart & ChromEnd & Region & Score & Zcore & Score\\_Label & Zcore\\_Label & Assay\\_Name & Assay\\_Type & Assay\\_Group & Assay\\_Label\\\\\n",
       " <chr> & <dbl> & <dbl> & <chr> & <dbl> & <dbl> & <chr> & <chr> & <chr> & <chr> & <chr> & <chr>\\\\\n",
       "\\hline\n",
       "\t chr1 & 10038 & 10405 & chr1:10038-10405 & -2.23485265 & -3.5573621 & Log2FC & Scale(Log2FC) & STARR\\_ATAC\\_K562\\_Reddy\\_KS91 & ASTARR & ASTARR\\_KS91 & ATAC-STARR\\\\\n",
       "\t chr1 & 14282 & 14614 & chr1:14282-14614 &  0.03179044 &  0.0361388 & Log2FC & Scale(Log2FC) & STARR\\_ATAC\\_K562\\_Reddy\\_KS91 & ASTARR & ASTARR\\_KS91 & ATAC-STARR\\\\\n",
       "\t chr1 & 16025 & 16338 & chr1:16025-16338 & -1.33934060 & -2.1376311 & Log2FC & Scale(Log2FC) & STARR\\_ATAC\\_K562\\_Reddy\\_KS91 & ASTARR & ASTARR\\_KS91 & ATAC-STARR\\\\\n",
       "\\end{tabular}\n"
      ],
      "text/markdown": [
       "\n",
       "A tibble: 3 × 12\n",
       "\n",
       "| Chrom &lt;chr&gt; | ChromStart &lt;dbl&gt; | ChromEnd &lt;dbl&gt; | Region &lt;chr&gt; | Score &lt;dbl&gt; | Zcore &lt;dbl&gt; | Score_Label &lt;chr&gt; | Zcore_Label &lt;chr&gt; | Assay_Name &lt;chr&gt; | Assay_Type &lt;chr&gt; | Assay_Group &lt;chr&gt; | Assay_Label &lt;chr&gt; |\n",
       "|---|---|---|---|---|---|---|---|---|---|---|---|\n",
       "| chr1 | 10038 | 10405 | chr1:10038-10405 | -2.23485265 | -3.5573621 | Log2FC | Scale(Log2FC) | STARR_ATAC_K562_Reddy_KS91 | ASTARR | ASTARR_KS91 | ATAC-STARR |\n",
       "| chr1 | 14282 | 14614 | chr1:14282-14614 |  0.03179044 |  0.0361388 | Log2FC | Scale(Log2FC) | STARR_ATAC_K562_Reddy_KS91 | ASTARR | ASTARR_KS91 | ATAC-STARR |\n",
       "| chr1 | 16025 | 16338 | chr1:16025-16338 | -1.33934060 | -2.1376311 | Log2FC | Scale(Log2FC) | STARR_ATAC_K562_Reddy_KS91 | ASTARR | ASTARR_KS91 | ATAC-STARR |\n",
       "\n"
      ],
      "text/plain": [
       "  Chrom ChromStart ChromEnd Region           Score       Zcore      Score_Label\n",
       "1 chr1  10038      10405    chr1:10038-10405 -2.23485265 -3.5573621 Log2FC     \n",
       "2 chr1  14282      14614    chr1:14282-14614  0.03179044  0.0361388 Log2FC     \n",
       "3 chr1  16025      16338    chr1:16025-16338 -1.33934060 -2.1376311 Log2FC     \n",
       "  Zcore_Label   Assay_Name                 Assay_Type Assay_Group Assay_Label\n",
       "1 Scale(Log2FC) STARR_ATAC_K562_Reddy_KS91 ASTARR     ASTARR_KS91 ATAC-STARR \n",
       "2 Scale(Log2FC) STARR_ATAC_K562_Reddy_KS91 ASTARR     ASTARR_KS91 ATAC-STARR \n",
       "3 Scale(Log2FC) STARR_ATAC_K562_Reddy_KS91 ASTARR     ASTARR_KS91 ATAC-STARR "
      ]
     },
     "metadata": {},
     "output_type": "display_data"
    }
   ],
   "source": [
    "lst = lapply(VEC_TXT_REGION, function(txt_region){\n",
    "    ### set file directory\n",
    "    txt_fdiry  = file.path(\n",
    "        FD_RES, \n",
    "        \"region_coverage_fcc_score\", \n",
    "        txt_region, \n",
    "        \"summary\"\n",
    "    )\n",
    "    #txt_fname = \"result.coverage.score.final.tsv\"\n",
    "    txt_fname = \"region.coverage.score.fcc.final.tsv\"\n",
    "    txt_fpath = file.path(txt_fdiry, txt_fname)\n",
    "\n",
    "    ### read table\n",
    "    dat = read_tsv(txt_fpath, show_col_types = FALSE)\n",
    "    return(dat)\n",
    "})\n",
    "\n",
    "### assign and show\n",
    "lst_dat_region_score_fcc_import = lst\n",
    "\n",
    "res = lapply(lst, dim)\n",
    "print(res)\n",
    "\n",
    "dat = lst[[1]]\n",
    "head(dat, 3)"
   ]
  },
  {
   "cell_type": "code",
   "execution_count": 7,
   "id": "17e191f3-3ad8-42fd-97e1-4bde0821543f",
   "metadata": {},
   "outputs": [
    {
     "name": "stdout",
     "output_type": "stream",
     "text": [
      "$fcc_astarr_macs_input_overlap\n",
      "[1] 150041     10\n",
      "\n",
      "$fcc_astarr_macs_input_union\n",
      "[1] 246852     10\n",
      "\n"
     ]
    },
    {
     "data": {
      "text/html": [
       "<table class=\"dataframe\">\n",
       "<caption>A tibble: 3 × 10</caption>\n",
       "<thead>\n",
       "\t<tr><th scope=col>Chrom</th><th scope=col>ChromStart</th><th scope=col>ChromEnd</th><th scope=col>Region</th><th scope=col>Score</th><th scope=col>Score_Label</th><th scope=col>Assay_Name</th><th scope=col>Assay_Type</th><th scope=col>Assay_Group</th><th scope=col>Assay_Label</th></tr>\n",
       "\t<tr><th scope=col>&lt;chr&gt;</th><th scope=col>&lt;dbl&gt;</th><th scope=col>&lt;dbl&gt;</th><th scope=col>&lt;chr&gt;</th><th scope=col>&lt;dbl&gt;</th><th scope=col>&lt;chr&gt;</th><th scope=col>&lt;chr&gt;</th><th scope=col>&lt;chr&gt;</th><th scope=col>&lt;chr&gt;</th><th scope=col>&lt;chr&gt;</th></tr>\n",
       "</thead>\n",
       "<tbody>\n",
       "\t<tr><td>chr1</td><td>10038</td><td>10405</td><td>chr1:10038-10405</td><td>3.940038</td><td>Q3</td><td>STARR_ATAC_K562_Reddy_KS91</td><td>ATAC</td><td>ASTARR_KS91</td><td>ATAC</td></tr>\n",
       "\t<tr><td>chr1</td><td>14282</td><td>14614</td><td>chr1:14282-14614</td><td>2.841707</td><td>Q2</td><td>STARR_ATAC_K562_Reddy_KS91</td><td>ATAC</td><td>ASTARR_KS91</td><td>ATAC</td></tr>\n",
       "\t<tr><td>chr1</td><td>16025</td><td>16338</td><td>chr1:16025-16338</td><td>3.830812</td><td>Q3</td><td>STARR_ATAC_K562_Reddy_KS91</td><td>ATAC</td><td>ASTARR_KS91</td><td>ATAC</td></tr>\n",
       "</tbody>\n",
       "</table>\n"
      ],
      "text/latex": [
       "A tibble: 3 × 10\n",
       "\\begin{tabular}{llllllllll}\n",
       " Chrom & ChromStart & ChromEnd & Region & Score & Score\\_Label & Assay\\_Name & Assay\\_Type & Assay\\_Group & Assay\\_Label\\\\\n",
       " <chr> & <dbl> & <dbl> & <chr> & <dbl> & <chr> & <chr> & <chr> & <chr> & <chr>\\\\\n",
       "\\hline\n",
       "\t chr1 & 10038 & 10405 & chr1:10038-10405 & 3.940038 & Q3 & STARR\\_ATAC\\_K562\\_Reddy\\_KS91 & ATAC & ASTARR\\_KS91 & ATAC\\\\\n",
       "\t chr1 & 14282 & 14614 & chr1:14282-14614 & 2.841707 & Q2 & STARR\\_ATAC\\_K562\\_Reddy\\_KS91 & ATAC & ASTARR\\_KS91 & ATAC\\\\\n",
       "\t chr1 & 16025 & 16338 & chr1:16025-16338 & 3.830812 & Q3 & STARR\\_ATAC\\_K562\\_Reddy\\_KS91 & ATAC & ASTARR\\_KS91 & ATAC\\\\\n",
       "\\end{tabular}\n"
      ],
      "text/markdown": [
       "\n",
       "A tibble: 3 × 10\n",
       "\n",
       "| Chrom &lt;chr&gt; | ChromStart &lt;dbl&gt; | ChromEnd &lt;dbl&gt; | Region &lt;chr&gt; | Score &lt;dbl&gt; | Score_Label &lt;chr&gt; | Assay_Name &lt;chr&gt; | Assay_Type &lt;chr&gt; | Assay_Group &lt;chr&gt; | Assay_Label &lt;chr&gt; |\n",
       "|---|---|---|---|---|---|---|---|---|---|\n",
       "| chr1 | 10038 | 10405 | chr1:10038-10405 | 3.940038 | Q3 | STARR_ATAC_K562_Reddy_KS91 | ATAC | ASTARR_KS91 | ATAC |\n",
       "| chr1 | 14282 | 14614 | chr1:14282-14614 | 2.841707 | Q2 | STARR_ATAC_K562_Reddy_KS91 | ATAC | ASTARR_KS91 | ATAC |\n",
       "| chr1 | 16025 | 16338 | chr1:16025-16338 | 3.830812 | Q3 | STARR_ATAC_K562_Reddy_KS91 | ATAC | ASTARR_KS91 | ATAC |\n",
       "\n"
      ],
      "text/plain": [
       "  Chrom ChromStart ChromEnd Region           Score    Score_Label\n",
       "1 chr1  10038      10405    chr1:10038-10405 3.940038 Q3         \n",
       "2 chr1  14282      14614    chr1:14282-14614 2.841707 Q2         \n",
       "3 chr1  16025      16338    chr1:16025-16338 3.830812 Q3         \n",
       "  Assay_Name                 Assay_Type Assay_Group Assay_Label\n",
       "1 STARR_ATAC_K562_Reddy_KS91 ATAC       ASTARR_KS91 ATAC       \n",
       "2 STARR_ATAC_K562_Reddy_KS91 ATAC       ASTARR_KS91 ATAC       \n",
       "3 STARR_ATAC_K562_Reddy_KS91 ATAC       ASTARR_KS91 ATAC       "
      ]
     },
     "metadata": {},
     "output_type": "display_data"
    }
   ],
   "source": [
    "lst = lapply(VEC_TXT_REGION, function(txt_region){\n",
    "    ### set file directory\n",
    "    txt_fdiry  = file.path(\n",
    "        FD_RES, \n",
    "        \"region_coverage_fcc_score\", \n",
    "        txt_region, \n",
    "        \"summary\"\n",
    "    )\n",
    "    #txt_fname = \"result.coverage.score.final.tsv\"\n",
    "    txt_fname = \"region.coverage.score.atac.tsv\"\n",
    "    txt_fpath = file.path(txt_fdiry, txt_fname)\n",
    "\n",
    "    ### read table\n",
    "    dat = read_tsv(txt_fpath, show_col_types = FALSE)\n",
    "    return(dat)\n",
    "})\n",
    "\n",
    "### assign and show\n",
    "lst_dat_region_score_atac_import = lst\n",
    "\n",
    "res = lapply(lst, dim)\n",
    "print(res)\n",
    "\n",
    "dat = lst[[1]]\n",
    "head(dat, 3)"
   ]
  },
  {
   "cell_type": "code",
   "execution_count": 8,
   "id": "0612d8b5-faed-429f-8347-cc6d93dd6253",
   "metadata": {},
   "outputs": [
    {
     "name": "stdout",
     "output_type": "stream",
     "text": [
      "$fcc_astarr_macs_input_overlap\n",
      "[1] 582969      6\n",
      "\n",
      "$fcc_astarr_macs_input_union\n",
      "[1] 886570      6\n",
      "\n"
     ]
    },
    {
     "data": {
      "text/html": [
       "<table class=\"dataframe\">\n",
       "<caption>A tibble: 3 × 6</caption>\n",
       "<thead>\n",
       "\t<tr><th scope=col>Chrom</th><th scope=col>ChromStart</th><th scope=col>ChromEnd</th><th scope=col>Region</th><th scope=col>Score</th><th scope=col>Assay_Type</th></tr>\n",
       "\t<tr><th scope=col>&lt;chr&gt;</th><th scope=col>&lt;dbl&gt;</th><th scope=col>&lt;dbl&gt;</th><th scope=col>&lt;chr&gt;</th><th scope=col>&lt;dbl&gt;</th><th scope=col>&lt;chr&gt;</th></tr>\n",
       "</thead>\n",
       "<tbody>\n",
       "\t<tr><td>chr1</td><td>10038</td><td>10405</td><td>chr1:10038-10405</td><td>-2.23485265</td><td>ASTARR</td></tr>\n",
       "\t<tr><td>chr1</td><td>14282</td><td>14614</td><td>chr1:14282-14614</td><td> 0.03179044</td><td>ASTARR</td></tr>\n",
       "\t<tr><td>chr1</td><td>16025</td><td>16338</td><td>chr1:16025-16338</td><td>-1.33934060</td><td>ASTARR</td></tr>\n",
       "</tbody>\n",
       "</table>\n"
      ],
      "text/latex": [
       "A tibble: 3 × 6\n",
       "\\begin{tabular}{llllll}\n",
       " Chrom & ChromStart & ChromEnd & Region & Score & Assay\\_Type\\\\\n",
       " <chr> & <dbl> & <dbl> & <chr> & <dbl> & <chr>\\\\\n",
       "\\hline\n",
       "\t chr1 & 10038 & 10405 & chr1:10038-10405 & -2.23485265 & ASTARR\\\\\n",
       "\t chr1 & 14282 & 14614 & chr1:14282-14614 &  0.03179044 & ASTARR\\\\\n",
       "\t chr1 & 16025 & 16338 & chr1:16025-16338 & -1.33934060 & ASTARR\\\\\n",
       "\\end{tabular}\n"
      ],
      "text/markdown": [
       "\n",
       "A tibble: 3 × 6\n",
       "\n",
       "| Chrom &lt;chr&gt; | ChromStart &lt;dbl&gt; | ChromEnd &lt;dbl&gt; | Region &lt;chr&gt; | Score &lt;dbl&gt; | Assay_Type &lt;chr&gt; |\n",
       "|---|---|---|---|---|---|\n",
       "| chr1 | 10038 | 10405 | chr1:10038-10405 | -2.23485265 | ASTARR |\n",
       "| chr1 | 14282 | 14614 | chr1:14282-14614 |  0.03179044 | ASTARR |\n",
       "| chr1 | 16025 | 16338 | chr1:16025-16338 | -1.33934060 | ASTARR |\n",
       "\n"
      ],
      "text/plain": [
       "  Chrom ChromStart ChromEnd Region           Score       Assay_Type\n",
       "1 chr1  10038      10405    chr1:10038-10405 -2.23485265 ASTARR    \n",
       "2 chr1  14282      14614    chr1:14282-14614  0.03179044 ASTARR    \n",
       "3 chr1  16025      16338    chr1:16025-16338 -1.33934060 ASTARR    "
      ]
     },
     "metadata": {},
     "output_type": "display_data"
    }
   ],
   "source": [
    "lst = lapply(VEC_TXT_REGION, function(txt_region){\n",
    "    ### get tables\n",
    "    dat_region_score_fcc_import  = lst_dat_region_score_fcc_import[[txt_region]]\n",
    "    dat_region_score_atac_import = lst_dat_region_score_atac_import[[txt_region]]\n",
    "    \n",
    "    ### arrange tables\n",
    "    vec = c(\"Chrom\", \"ChromStart\", \"ChromEnd\", \"Region\", \"Score\", \"Assay_Type\")\n",
    "    dat = dat_region_score_fcc_import\n",
    "    dat = dat %>% dplyr::select(any_of(vec))\n",
    "    dat_region_score_fcc_arrange = dat\n",
    "\n",
    "    dat = dat_region_score_atac_import\n",
    "    dat = dat %>% dplyr::select(any_of(vec))\n",
    "    dat_region_score_atac_arrange = dat\n",
    "\n",
    "    ### combine tables\n",
    "    dat = bind_rows(\n",
    "        dat_region_score_fcc_arrange,\n",
    "        dat_region_score_atac_arrange\n",
    "    )\n",
    "    return(dat)\n",
    "})\n",
    "\n",
    "### assign and show\n",
    "lst_dat_region_score_import = lst\n",
    "\n",
    "res = lapply(lst, dim)\n",
    "print(res)\n",
    "\n",
    "dat = lst[[1]]\n",
    "head(dat, 3)"
   ]
  },
  {
   "cell_type": "code",
   "execution_count": null,
   "id": "0dcc39a7-a8dd-497a-b8fe-a01706f2549e",
   "metadata": {},
   "outputs": [],
   "source": []
  },
  {
   "cell_type": "code",
   "execution_count": 9,
   "id": "93c8abe0-0313-4c97-b500-a8c9072cc337",
   "metadata": {},
   "outputs": [
    {
     "data": {
      "text/plain": [
       "                \n",
       "                 ASTARR   ATAC CRISPRi-Growth CRISPRi-HCRFF  LMPRA  TMPRA\n",
       "  ASTARR         246850      0              0             0      0      0\n",
       "  ATAC                0 246852              0             0      0      0\n",
       "  CRISPRi-Growth      0      0          80288             0      0      0\n",
       "  CRISPRi-HCRFF       0      0              0          1330      0      0\n",
       "  LMPRA               0      0              0             0  68497      0\n",
       "  TMPRA               0      0              0             0      0   1722\n",
       "  WSTARR              0      0              0             0      0      0\n",
       "                \n",
       "                 WSTARR\n",
       "  ASTARR              0\n",
       "  ATAC                0\n",
       "  CRISPRi-Growth      0\n",
       "  CRISPRi-HCRFF       0\n",
       "  LMPRA               0\n",
       "  TMPRA               0\n",
       "  WSTARR         241031"
      ]
     },
     "metadata": {},
     "output_type": "display_data"
    }
   ],
   "source": [
    "lst = lst_dat_region_score_import \n",
    "dat = lst[[\"fcc_astarr_macs_input_union\"]]\n",
    "table(dat$Assay_Type,dat$Assay_Type)"
   ]
  },
  {
   "cell_type": "code",
   "execution_count": 10,
   "id": "b84b3582-85e9-4c0f-a22e-a9407a115be7",
   "metadata": {},
   "outputs": [
    {
     "name": "stdout",
     "output_type": "stream",
     "text": [
      "\n",
      "ASTARR   ATAC  LMPRA  TMPRA WSTARR \n",
      "246850 246852  68497   1722 241031 \n"
     ]
    }
   ],
   "source": [
    "vec = c(\"ASTARR\", \"WSTARR\", \"TMPRA\", \"LMPRA\", \"ATAC\")\n",
    "lst = lst_dat_region_score_import \n",
    "dat = lst[[\"fcc_astarr_macs_input_union\"]]\n",
    "dat = dat %>% dplyr::filter(Assay_Type %in% vec)\n",
    "res = table(dat$Assay_Type)\n",
    "print(res)"
   ]
  },
  {
   "cell_type": "markdown",
   "id": "f4b981d4-9efa-4f20-a0b5-60d06ed3fc71",
   "metadata": {},
   "source": [
    "ASTARR  LMPRA  TMPRA WSTARR \n",
    "246850  68420   1722 246688 "
   ]
  },
  {
   "cell_type": "code",
   "execution_count": 11,
   "id": "08a69419-aa43-4387-b123-b5ef32bf391a",
   "metadata": {},
   "outputs": [
    {
     "name": "stdout",
     "output_type": "stream",
     "text": [
      "[1] \"ASTARR\"         \"ATAC\"           \"CRISPRi-Growth\" \"CRISPRi-HCRFF\" \n",
      "[5] \"LMPRA\"          \"TMPRA\"          \"WSTARR\"        \n",
      "[1] 1330    6\n",
      "[1] 80288     6\n"
     ]
    }
   ],
   "source": [
    "lst = lst_dat_region_score_import \n",
    "dat = lst[[\"fcc_astarr_macs_input_union\"]]\n",
    "\n",
    "lst = split(dat, dat$Assay_Type)\n",
    "print(names(lst))\n",
    "dat_region_score_crispri_hcrff  = lst[[\"CRISPRi-HCRFF\"]]\n",
    "dat_region_score_crispri_growth = lst[[\"CRISPRi-Growth\"]]\n",
    "\n",
    "dat = dat_region_score_crispri_hcrff\n",
    "print(dim(dat))\n",
    "\n",
    "dat = dat_region_score_crispri_growth\n",
    "print(dim(dat))"
   ]
  },
  {
   "cell_type": "code",
   "execution_count": null,
   "id": "fd7ca22d-7d7b-4daa-a824-4ee67b7a4c74",
   "metadata": {},
   "outputs": [],
   "source": []
  },
  {
   "cell_type": "code",
   "execution_count": null,
   "id": "92a302d6-f16e-4012-853e-460c6c44fc4c",
   "metadata": {},
   "outputs": [],
   "source": []
  },
  {
   "cell_type": "code",
   "execution_count": 87,
   "id": "26d6be1e-caaa-4bfa-acfc-82761b26d6bb",
   "metadata": {},
   "outputs": [
    {
     "name": "stdout",
     "output_type": "stream",
     "text": [
      "      95% \n",
      "0.4836082 \n",
      "[1] 1330    2\n"
     ]
    },
    {
     "data": {
      "text/html": [
       "<table>\n",
       " <thead>\n",
       "  <tr>\n",
       "   <th style=\"text-align:left;\"> Region </th>\n",
       "   <th style=\"text-align:right;\"> Group </th>\n",
       "  </tr>\n",
       " </thead>\n",
       "<tbody>\n",
       "  <tr>\n",
       "   <td style=\"text-align:left;\"> chr11:4092104-4092566 </td>\n",
       "   <td style=\"text-align:right;\"> 0 </td>\n",
       "  </tr>\n",
       "  <tr>\n",
       "   <td style=\"text-align:left;\"> chr11:4094204-4095676 </td>\n",
       "   <td style=\"text-align:right;\"> 0 </td>\n",
       "  </tr>\n",
       "  <tr>\n",
       "   <td style=\"text-align:left;\"> chr11:4144511-4147030 </td>\n",
       "   <td style=\"text-align:right;\"> 0 </td>\n",
       "  </tr>\n",
       "</tbody>\n",
       "</table>"
      ]
     },
     "metadata": {},
     "output_type": "display_data"
    }
   ],
   "source": [
    "lst = lst_dat_region_score\n",
    "dat = lst[[txt_assay_crispr]]\n",
    "\n",
    "vec = dat$Score\n",
    "vec = abs(vec)\n",
    "vec_num_score = vec\n",
    "\n",
    "num_hit_rate = 0.05\n",
    "num_cutoff = quantile(vec_num_score, probs = 1 - num_hit_rate)\n",
    "print(num_cutoff)\n",
    "\n",
    "dat$Group = ifelse(vec_num_score >= num_cutoff, 1, 0)\n",
    "dat = dat %>% dplyr::select(Region, Group)\n",
    "\n",
    "\n",
    "dat_region_group = dat\n",
    "print(dim(dat))\n",
    "fun_display_table(head(dat, 3))"
   ]
  },
  {
   "cell_type": "code",
   "execution_count": null,
   "id": "1aee5f4e-ef18-4ebd-8444-d8d0b92386ef",
   "metadata": {},
   "outputs": [],
   "source": []
  },
  {
   "cell_type": "code",
   "execution_count": null,
   "id": "79267ef6-c384-4536-b381-2444da4b536d",
   "metadata": {},
   "outputs": [],
   "source": []
  },
  {
   "cell_type": "code",
   "execution_count": null,
   "id": "0f29d543-d9f6-40bf-94a6-25951aa3eefb",
   "metadata": {},
   "outputs": [],
   "source": []
  },
  {
   "cell_type": "code",
   "execution_count": 39,
   "id": "77e0a787-278a-4113-abbf-42b0a903f047",
   "metadata": {},
   "outputs": [],
   "source": [
    "fun_auroc2 = function(vec_boo_group, vec_num_score) {\n",
    "  # 1) Sort ascending by score\n",
    "  idx = order(vec_num_score)\n",
    "  grp = vec_boo_group[idx]\n",
    "\n",
    "  total_pos = sum(grp)\n",
    "  total_neg = sum(!grp)\n",
    "  if (total_pos == 0 || total_neg == 0) {\n",
    "    stop(\"Need at least one TRUE and one FALSE\")\n",
    "  }\n",
    "\n",
    "  # 2) At each unique score threshold, compute TPR & FPR\n",
    "  #    positives above threshold = total_pos - cumsum(grp)\n",
    "  #    negatives above threshold = total_neg - cumsum(!grp)\n",
    "  tpr = (total_pos - cumsum(grp)) / total_pos\n",
    "  fpr = (total_neg - cumsum(!grp)) / total_neg\n",
    "\n",
    "  # 3) Add the endpoints (0,0) and (1,1)\n",
    "  tpr = c(0, tpr, 1)\n",
    "  fpr = c(0, fpr, 1)\n",
    "\n",
    "  # 4) Compute AUROC by trapezoidal rule\n",
    "  d_fpr   = diff(fpr)\n",
    "  avg_tpr = (tpr[-1] + tpr[-length(tpr)]) / 2\n",
    "  auc     = sum(avg_tpr * d_fpr)\n",
    "\n",
    "  list(\n",
    "    Sensitivity = tpr,\n",
    "    FPR         = fpr,\n",
    "    AUROC       = auc\n",
    "  )\n",
    "}"
   ]
  },
  {
   "cell_type": "code",
   "execution_count": 51,
   "id": "daa25985-86d1-47f9-baa1-4f8b31d746fc",
   "metadata": {},
   "outputs": [],
   "source": [
    "fun_auroc = function(vec_boo_group, vec_num_score) {\n",
    "    ###\n",
    "    idx = order(vec_num_score)\n",
    "    vec = vec_boo_group[idx]\n",
    "    vec_group = vec\n",
    "\n",
    "    ###\n",
    "    num_total_pos = sum( vec_group)\n",
    "    num_total_neg = sum(!vec_group)\n",
    "    if (num_total_pos == 0 || num_total_neg == 0) {\n",
    "        stop(\"Need at least one TRUE and one FALSE\")\n",
    "    }\n",
    "    \n",
    "    ###\n",
    "    vec_num_tpr = (num_total_pos - cumsum( vec_group)) / num_total_pos\n",
    "    vec_num_fpr = (num_total_neg - cumsum(!vec_group)) / num_total_neg\n",
    "\n",
    "    vec_num_sens = vec_num_tpr\n",
    "    vec_num_spec = 1 - vec_num_fpr\n",
    "    \n",
    "    ###\n",
    "    num_width = diff(c(0, 1 - vec_num_sens))\n",
    "    num_auc   = sum(vec_num_spec * num_width)\n",
    "\n",
    "    ### \n",
    "    lst = list(\n",
    "        \"Sensitivity\" = vec_num_sens,\n",
    "        \"Specificity\" = vec_num_spec,\n",
    "        \"AUROC\"       = num_auc\n",
    "    )\n",
    "    return(lst)\n",
    "}"
   ]
  },
  {
   "cell_type": "code",
   "execution_count": 62,
   "id": "af0650ab-e432-4533-af80-7dcd02ca904f",
   "metadata": {},
   "outputs": [],
   "source": [
    "fun_auprc = function(vec_boo_group, vec_num_score) {\n",
    "    ###\n",
    "    idx = order(vec_num_score, decreasing = TRUE)\n",
    "    vec = vec_boo_group[idx]\n",
    "    vec_boo_group_sorted = vec\n",
    "\n",
    "    ###\n",
    "    num_total_pos = sum( vec_boo_group_sorted)\n",
    "    num_total_neg = sum(!vec_boo_group_sorted)\n",
    "    if (num_total_pos == 0 || num_total_neg == 0) {\n",
    "        stop(\"Need at least one TRUE and one FALSE\")\n",
    "    }\n",
    "\n",
    "    ###\n",
    "    vec_num_cum_tp = cumsum( vec_boo_group_sorted)\n",
    "    vec_num_cum_fp = cumsum(!vec_boo_group_sorted)\n",
    "    \n",
    "    ###\n",
    "    vec_num_recall    = vec_num_cum_tp / num_total_pos\n",
    "    vec_num_precision = vec_num_cum_tp / (vec_num_cum_tp + vec_num_cum_fp)\n",
    "\n",
    "    vec_num_recall    = c(0, vec_num_recall)\n",
    "    vec_num_precision = c(1, vec_num_precision)\n",
    "    \n",
    "    ###\n",
    "    lst = list(\n",
    "        \"Recall\"    = vec_num_recall,\n",
    "        \"Precision\" = vec_num_precision\n",
    "    )\n",
    "    return(lst)\n",
    "}"
   ]
  },
  {
   "cell_type": "code",
   "execution_count": 83,
   "id": "e7afc233-d599-42c1-b170-1cb45b378f62",
   "metadata": {},
   "outputs": [],
   "source": [
    "fun_auprc2 = function(vec_boo_group, vec_num_score) {\n",
    "  # 1) Order by decreasing score\n",
    "  idx = order(vec_num_score, decreasing = TRUE)\n",
    "  grp = vec_boo_group[idx]\n",
    "\n",
    "  # 2) Totals\n",
    "  total_pos = sum(grp)\n",
    "  total_neg = sum(!grp)\n",
    "  if (total_pos == 0 || total_neg == 0) {\n",
    "    stop(\"Need at least one TRUE and one FALSE\")\n",
    "  }\n",
    "\n",
    "  # 3) Cumulative TP and FP as we lower the threshold\n",
    "  cum_tp = cumsum(grp)\n",
    "  cum_fp = cumsum(!grp)\n",
    "\n",
    "  # 4) Recall and Precision at each step\n",
    "  recall    = cum_tp / total_pos\n",
    "  precision = cum_tp / (cum_tp + cum_fp)\n",
    "\n",
    "  # 5) Prepend the (0,1) point for a complete curve\n",
    "  recall    = c(0, recall)\n",
    "  precision = c(1, precision)\n",
    "\n",
    "  # 6) (Optional) Compute AUPRC by trapezoidal rule\n",
    "  d_rec   = diff(recall)\n",
    "  avg_prec = (precision[-1] + precision[-length(precision)])/2\n",
    "  auprc   = sum(avg_prec * d_rec)\n",
    "\n",
    "  list(\n",
    "    Recall    = recall,\n",
    "    Precision = precision,\n",
    "    AUPRC     = auprc\n",
    "  )\n",
    "}"
   ]
  },
  {
   "cell_type": "code",
   "execution_count": 88,
   "id": "65a9950c-158b-4a62-918c-3d994cef7101",
   "metadata": {},
   "outputs": [
    {
     "name": "stdout",
     "output_type": "stream",
     "text": [
      "[1] 5324    5\n"
     ]
    },
    {
     "data": {
      "text/html": [
       "<table>\n",
       " <thead>\n",
       "  <tr>\n",
       "   <th style=\"text-align:right;\"> x </th>\n",
       "   <th style=\"text-align:right;\"> y </th>\n",
       "   <th style=\"text-align:left;\"> Assay </th>\n",
       "   <th style=\"text-align:right;\"> AUPRC </th>\n",
       "   <th style=\"text-align:left;\"> Performance </th>\n",
       "  </tr>\n",
       " </thead>\n",
       "<tbody>\n",
       "  <tr>\n",
       "   <td style=\"text-align:right;\"> 0.0000000 </td>\n",
       "   <td style=\"text-align:right;\"> 1.0000000 </td>\n",
       "   <td style=\"text-align:left;\"> ASTARR </td>\n",
       "   <td style=\"text-align:right;\"> 0.1154789 </td>\n",
       "   <td style=\"text-align:left;\"> ASTARR (0.12) </td>\n",
       "  </tr>\n",
       "  <tr>\n",
       "   <td style=\"text-align:right;\"> 0.0149254 </td>\n",
       "   <td style=\"text-align:right;\"> 0.2500000 </td>\n",
       "   <td style=\"text-align:left;\"> ASTARR </td>\n",
       "   <td style=\"text-align:right;\"> 0.1154789 </td>\n",
       "   <td style=\"text-align:left;\"> ASTARR (0.12) </td>\n",
       "  </tr>\n",
       "  <tr>\n",
       "   <td style=\"text-align:right;\"> 0.0149254 </td>\n",
       "   <td style=\"text-align:right;\"> 0.3333333 </td>\n",
       "   <td style=\"text-align:left;\"> ASTARR </td>\n",
       "   <td style=\"text-align:right;\"> 0.1154789 </td>\n",
       "   <td style=\"text-align:left;\"> ASTARR (0.12) </td>\n",
       "  </tr>\n",
       "</tbody>\n",
       "</table>"
      ]
     },
     "metadata": {},
     "output_type": "display_data"
    }
   ],
   "source": [
    "lst = lst_dat_region_score\n",
    "\n",
    "lst = lapply(vec_txt_assay, function(txt_assay){\n",
    "    ###\n",
    "    dat = lst[[txt_assay]]\n",
    "    dat = dat %>% dplyr::select(Region, Score)\n",
    "    dat_region_score = dat\n",
    "\n",
    "    ###\n",
    "    dat = dplyr::inner_join(\n",
    "        dat_region_group,\n",
    "        dat_region_score,\n",
    "        by = \"Region\"\n",
    "    )\n",
    "    dat_region_merge = dat\n",
    "\n",
    "    ###\n",
    "    dat = dat_region_merge\n",
    "    fit = glm(Group ~ Score, data = dat, family = \"binomial\")\n",
    "    vec_boo_group = (dat$Group == 1)\n",
    "    vec_num_score = predict(fit, type = \"response\")\n",
    "\n",
    "    ###\n",
    "    #lst = fun_auroc(vec_boo_group, vec_num_score)\n",
    "    #vec_num_spec = lst[[\"Specificity\"]]\n",
    "    #vec_num_sens = lst[[\"Sensitivity\"]]\n",
    "    #num_auroc    = lst[[\"AUROC\"]]\n",
    "\n",
    "    lst = fun_auprc2(vec_boo_group, vec_num_score)\n",
    "    vec_num_recall    = lst[[\"Recall\"]]\n",
    "    vec_num_precision = lst[[\"Precision\"]]\n",
    "    num_auprc    = lst[[\"AUPRC\"]]\n",
    "\n",
    "    ###\n",
    "    txt_title = paste0(\"(\", round(num_auprc, 2), \")\")\n",
    "    txt_title = paste(txt_assay, txt_title)\n",
    "\n",
    "    ###\n",
    "    dat = data.frame(\n",
    "          x       = vec_num_recall,   # FPR\n",
    "          y       = vec_num_precision,       # TPR\n",
    "          Assay   = txt_assay,\n",
    "          AUPRC  = num_auprc,\n",
    "          \"Performance\" = txt_title,\n",
    "          stringsAsFactors = FALSE\n",
    "        )\n",
    "    dat = dat %>% dplyr::arrange(x, y)\n",
    "    return(dat)\n",
    "})\n",
    "dat = bind_rows(lst)\n",
    "\n",
    "###\n",
    "dat_assay_auroc = dat\n",
    "print(dim(dat))\n",
    "fun_display_table(head(dat, 3))"
   ]
  },
  {
   "cell_type": "code",
   "execution_count": 89,
   "id": "64149a78-1bf3-4861-9db7-b9a62e9b8e8c",
   "metadata": {},
   "outputs": [
    {
     "data": {
      "image/png": "[encoded data removed]",
      "text/plain": [
       "plot without title"
      ]
     },
     "metadata": {
      "image/png": {
       "height": 330,
       "width": 420
      }
     },
     "output_type": "display_data"
    }
   ],
   "source": [
    "dat = dat_assay_auroc\n",
    "gpt = ggplot(dat, aes(x=x, y=y, group=Assay, color=Performance)) +\n",
    "    geom_line(linewidth=1) +\n",
    "    #geom_point() +\n",
    "    labs(x = \"Recall\", y = \"Precision\", title=\"CRISPRi-HCRFF\") +\n",
    "    theme_cowplot()\n",
    "\n",
    "options(repr.plot.width=7, repr.plot.height=5.5)\n",
    "print(gpt)"
   ]
  },
  {
   "cell_type": "code",
   "execution_count": 72,
   "id": "89000862-150d-46a7-a111-cc7de0debec3",
   "metadata": {},
   "outputs": [
    {
     "data": {
      "text/html": [
       "<table class=\"dataframe\">\n",
       "<caption>A tibble: 6 × 2</caption>\n",
       "<thead>\n",
       "\t<tr><th scope=col>Region</th><th scope=col>Score</th></tr>\n",
       "\t<tr><th scope=col>&lt;chr&gt;</th><th scope=col>&lt;dbl&gt;</th></tr>\n",
       "</thead>\n",
       "<tbody>\n",
       "\t<tr><td>chr1:17237-17772  </td><td>-0.5529035</td></tr>\n",
       "\t<tr><td>chr1:137737-139544</td><td> 0.7581450</td></tr>\n",
       "\t<tr><td>chr1:180982-182087</td><td> 0.1910327</td></tr>\n",
       "\t<tr><td>chr1:183239-184602</td><td> 0.0828976</td></tr>\n",
       "\t<tr><td>chr1:186238-187159</td><td>-0.1395572</td></tr>\n",
       "\t<tr><td>chr1:191188-191739</td><td> 0.0121358</td></tr>\n",
       "</tbody>\n",
       "</table>\n"
      ],
      "text/latex": [
       "A tibble: 6 × 2\n",
       "\\begin{tabular}{ll}\n",
       " Region & Score\\\\\n",
       " <chr> & <dbl>\\\\\n",
       "\\hline\n",
       "\t chr1:17237-17772   & -0.5529035\\\\\n",
       "\t chr1:137737-139544 &  0.7581450\\\\\n",
       "\t chr1:180982-182087 &  0.1910327\\\\\n",
       "\t chr1:183239-184602 &  0.0828976\\\\\n",
       "\t chr1:186238-187159 & -0.1395572\\\\\n",
       "\t chr1:191188-191739 &  0.0121358\\\\\n",
       "\\end{tabular}\n"
      ],
      "text/markdown": [
       "\n",
       "A tibble: 6 × 2\n",
       "\n",
       "| Region &lt;chr&gt; | Score &lt;dbl&gt; |\n",
       "|---|---|\n",
       "| chr1:17237-17772   | -0.5529035 |\n",
       "| chr1:137737-139544 |  0.7581450 |\n",
       "| chr1:180982-182087 |  0.1910327 |\n",
       "| chr1:183239-184602 |  0.0828976 |\n",
       "| chr1:186238-187159 | -0.1395572 |\n",
       "| chr1:191188-191739 |  0.0121358 |\n",
       "\n"
      ],
      "text/plain": [
       "  Region             Score     \n",
       "1 chr1:17237-17772   -0.5529035\n",
       "2 chr1:137737-139544  0.7581450\n",
       "3 chr1:180982-182087  0.1910327\n",
       "4 chr1:183239-184602  0.0828976\n",
       "5 chr1:186238-187159 -0.1395572\n",
       "6 chr1:191188-191739  0.0121358"
      ]
     },
     "metadata": {},
     "output_type": "display_data"
    }
   ],
   "source": [
    "lst = lst_dat_region_score\n",
    "txt_assay = \"WSTARR\"\n",
    "\n",
    "dat = lst[[txt_assay]]\n",
    "dat = dat %>% dplyr::select(Region, Score)\n",
    "dat_region_score = dat\n",
    "head(dat)"
   ]
  },
  {
   "cell_type": "code",
   "execution_count": 73,
   "id": "3ebe383a-0c54-434b-b498-d963ea794671",
   "metadata": {},
   "outputs": [],
   "source": [
    "dat = dplyr::inner_join(\n",
    "        dat_region_group,\n",
    "        dat_region_score,\n",
    "        by = \"Region\"\n",
    "    )\n",
    "    dat_region_merge = dat"
   ]
  },
  {
   "cell_type": "code",
   "execution_count": 74,
   "id": "547d3980-32c3-4e49-8990-cbc53aca6b46",
   "metadata": {},
   "outputs": [],
   "source": [
    "dat = dat_region_merge\n",
    "fit = glm(Group ~ Score, data = dat, family = \"binomial\")\n",
    "vec_boo_group = (dat$Group == 1)\n",
    "vec_num_score = predict(fit, type = \"response\")"
   ]
  },
  {
   "cell_type": "code",
   "execution_count": null,
   "id": "25095a54-b5ef-4652-9385-4626c7e7901b",
   "metadata": {},
   "outputs": [],
   "source": []
  },
  {
   "cell_type": "code",
   "execution_count": null,
   "id": "02d1444f-ce2a-432f-8415-516f9c8b62c5",
   "metadata": {},
   "outputs": [],
   "source": []
  },
  {
   "cell_type": "code",
   "execution_count": null,
   "id": "fba1553d-e8d9-4d7d-bb34-746088764b0d",
   "metadata": {},
   "outputs": [],
   "source": []
  },
  {
   "cell_type": "code",
   "execution_count": null,
   "id": "cb1e290f-d38b-4e5e-bc40-f25493372f6b",
   "metadata": {},
   "outputs": [],
   "source": []
  },
  {
   "cell_type": "code",
   "execution_count": 12,
   "id": "d9810080-f4b9-4ca0-b2e1-432cc205bd26",
   "metadata": {},
   "outputs": [],
   "source": [
    "fun_auroc = function(vec_boo_group, vec_num_score) {\n",
    "    ###\n",
    "    idx = order(vec_num_score)\n",
    "    vec = vec_boo_group[idx]\n",
    "    \n",
    "    ###\n",
    "    vec_num_sens = (sum(vec) - cumsum(vec))/sum(vec)\n",
    "    vec_num_spec = cumsum(!vec)/sum(!vec)\n",
    "    \n",
    "    ###\n",
    "    num_width = diff(c(0, 1 - vec_num_sens))\n",
    "    num_auc   = sum(vec_num_spec * num_width)\n",
    "\n",
    "    ### \n",
    "    lst = list(\n",
    "        \"Specificity\" = vec_num_spec,\n",
    "        \"Sensitivity\" = vec_num_sens,\n",
    "        \"AUROC\"       = num_auc\n",
    "    )\n",
    "    return(lst)\n",
    "}"
   ]
  },
  {
   "cell_type": "code",
   "execution_count": 13,
   "id": "0bc0dfef-1cbc-4ccc-bcf1-b1b3a5429162",
   "metadata": {},
   "outputs": [
    {
     "name": "stdout",
     "output_type": "stream",
     "text": [
      "[1] 886570      6\n"
     ]
    },
    {
     "data": {
      "text/html": [
       "<table>\n",
       " <thead>\n",
       "  <tr>\n",
       "   <th style=\"text-align:left;\"> Chrom </th>\n",
       "   <th style=\"text-align:right;\"> ChromStart </th>\n",
       "   <th style=\"text-align:right;\"> ChromEnd </th>\n",
       "   <th style=\"text-align:left;\"> Region </th>\n",
       "   <th style=\"text-align:right;\"> Score </th>\n",
       "   <th style=\"text-align:left;\"> Assay_Type </th>\n",
       "  </tr>\n",
       " </thead>\n",
       "<tbody>\n",
       "  <tr>\n",
       "   <td style=\"text-align:left;\"> chr1 </td>\n",
       "   <td style=\"text-align:right;\"> 10015 </td>\n",
       "   <td style=\"text-align:right;\"> 10442 </td>\n",
       "   <td style=\"text-align:left;\"> chr1:10015-10442 </td>\n",
       "   <td style=\"text-align:right;\"> -2.1177891 </td>\n",
       "   <td style=\"text-align:left;\"> ASTARR </td>\n",
       "  </tr>\n",
       "  <tr>\n",
       "   <td style=\"text-align:left;\"> chr1 </td>\n",
       "   <td style=\"text-align:right;\"> 14253 </td>\n",
       "   <td style=\"text-align:right;\"> 14645 </td>\n",
       "   <td style=\"text-align:left;\"> chr1:14253-14645 </td>\n",
       "   <td style=\"text-align:right;\"> 0.3206124 </td>\n",
       "   <td style=\"text-align:left;\"> ASTARR </td>\n",
       "  </tr>\n",
       "  <tr>\n",
       "   <td style=\"text-align:left;\"> chr1 </td>\n",
       "   <td style=\"text-align:right;\"> 16015 </td>\n",
       "   <td style=\"text-align:right;\"> 16477 </td>\n",
       "   <td style=\"text-align:left;\"> chr1:16015-16477 </td>\n",
       "   <td style=\"text-align:right;\"> -1.1744478 </td>\n",
       "   <td style=\"text-align:left;\"> ASTARR </td>\n",
       "  </tr>\n",
       "</tbody>\n",
       "</table>"
      ]
     },
     "metadata": {},
     "output_type": "display_data"
    }
   ],
   "source": [
    "lst = lst_dat_region_score_import \n",
    "dat = lst[[\"fcc_astarr_macs_input_union\"]]\n",
    "dat_region_score_import = dat\n",
    "print(dim(dat))\n",
    "fun_display_table(head(dat, 3))"
   ]
  },
  {
   "cell_type": "code",
   "execution_count": null,
   "id": "c0688272-79ad-4560-b441-44679ae70d10",
   "metadata": {},
   "outputs": [],
   "source": []
  },
  {
   "cell_type": "code",
   "execution_count": null,
   "id": "c95df2a9-79f7-46ff-969c-9294f2abfd70",
   "metadata": {},
   "outputs": [],
   "source": []
  },
  {
   "cell_type": "code",
   "execution_count": null,
   "id": "070a002c-dd35-48d1-8a59-24f7f7bb2420",
   "metadata": {},
   "outputs": [],
   "source": []
  },
  {
   "cell_type": "code",
   "execution_count": 14,
   "id": "29c43b86-354c-42d9-a196-65f8064a7592",
   "metadata": {},
   "outputs": [],
   "source": [
    "txt_assay_crispr = \"CRISPRi-HCRFF\"\n",
    "vec_txt_assay = c(\"ASTARR\", \"WSTARR\", \"LMPRA\", \"TMPRA\", \"ATAC\")"
   ]
  },
  {
   "cell_type": "code",
   "execution_count": 15,
   "id": "abe81e63-e8a2-4215-b3ad-611803db74f1",
   "metadata": {},
   "outputs": [],
   "source": [
    "dat = dat_region_score_import\n",
    "lst = split(dat, dat$Assay_Type)\n",
    "\n",
    "lst_dat_region_score = lst"
   ]
  },
  {
   "cell_type": "code",
   "execution_count": null,
   "id": "1f3b832a-9d9b-4c21-9f25-8698065a2fc5",
   "metadata": {},
   "outputs": [],
   "source": []
  },
  {
   "cell_type": "code",
   "execution_count": 76,
   "id": "0cf499b0-f8a0-4959-858a-043773cafe51",
   "metadata": {},
   "outputs": [
    {
     "name": "stdout",
     "output_type": "stream",
     "text": [
      "      90% \n",
      "0.2834525 \n",
      "[1] 1330    2\n"
     ]
    },
    {
     "data": {
      "text/html": [
       "<table>\n",
       " <thead>\n",
       "  <tr>\n",
       "   <th style=\"text-align:left;\"> Region </th>\n",
       "   <th style=\"text-align:right;\"> Group </th>\n",
       "  </tr>\n",
       " </thead>\n",
       "<tbody>\n",
       "  <tr>\n",
       "   <td style=\"text-align:left;\"> chr11:4092104-4092566 </td>\n",
       "   <td style=\"text-align:right;\"> 0 </td>\n",
       "  </tr>\n",
       "  <tr>\n",
       "   <td style=\"text-align:left;\"> chr11:4094204-4095676 </td>\n",
       "   <td style=\"text-align:right;\"> 0 </td>\n",
       "  </tr>\n",
       "  <tr>\n",
       "   <td style=\"text-align:left;\"> chr11:4144511-4147030 </td>\n",
       "   <td style=\"text-align:right;\"> 0 </td>\n",
       "  </tr>\n",
       "</tbody>\n",
       "</table>"
      ]
     },
     "metadata": {},
     "output_type": "display_data"
    }
   ],
   "source": [
    "lst = lst_dat_region_score\n",
    "dat = lst[[txt_assay_crispr]]\n",
    "\n",
    "vec = dat$Score\n",
    "vec = abs(vec)\n",
    "vec_num_score = vec\n",
    "\n",
    "num_hit_rate = 0.1\n",
    "num_cutoff = quantile(vec_num_score, probs = 1 - num_hit_rate)\n",
    "print(num_cutoff)\n",
    "\n",
    "dat$Group = ifelse(vec_num_score >= num_cutoff, 1, 0)\n",
    "dat = dat %>% dplyr::select(Region, Group)\n",
    "\n",
    "\n",
    "dat_region_group = dat\n",
    "print(dim(dat))\n",
    "fun_display_table(head(dat, 3))"
   ]
  },
  {
   "cell_type": "code",
   "execution_count": 68,
   "id": "eeaf70bf-fee5-4a82-a537-83456b3f951a",
   "metadata": {},
   "outputs": [
    {
     "name": "stdout",
     "output_type": "stream",
     "text": [
      "[1] 1330    2\n"
     ]
    },
    {
     "data": {
      "text/html": [
       "<table>\n",
       " <thead>\n",
       "  <tr>\n",
       "   <th style=\"text-align:left;\"> Region </th>\n",
       "   <th style=\"text-align:right;\"> Group </th>\n",
       "  </tr>\n",
       " </thead>\n",
       "<tbody>\n",
       "  <tr>\n",
       "   <td style=\"text-align:left;\"> chr11:4092104-4092566 </td>\n",
       "   <td style=\"text-align:right;\"> 0 </td>\n",
       "  </tr>\n",
       "  <tr>\n",
       "   <td style=\"text-align:left;\"> chr11:4094204-4095676 </td>\n",
       "   <td style=\"text-align:right;\"> 0 </td>\n",
       "  </tr>\n",
       "  <tr>\n",
       "   <td style=\"text-align:left;\"> chr11:4144511-4147030 </td>\n",
       "   <td style=\"text-align:right;\"> 0 </td>\n",
       "  </tr>\n",
       "</tbody>\n",
       "</table>"
      ]
     },
     "metadata": {},
     "output_type": "display_data"
    }
   ],
   "source": [
    "lst = lst_dat_region_score\n",
    "\n",
    "dat = lst[[txt_assay_crispr]]\n",
    "dat = dat %>% \n",
    "    dplyr::mutate(\n",
    "        Group = ifelse(abs(Score) >= 1, 1, 0)\n",
    "    ) %>%\n",
    "    dplyr::select(Region, Group)\n",
    "\n",
    "dat_region_group = dat\n",
    "print(dim(dat))\n",
    "fun_display_table(head(dat, 3))"
   ]
  },
  {
   "cell_type": "code",
   "execution_count": 52,
   "id": "5234f35d-1097-4eb7-93c2-9a304581615f",
   "metadata": {},
   "outputs": [
    {
     "name": "stdout",
     "output_type": "stream",
     "text": [
      "[1] 5319    5\n"
     ]
    },
    {
     "data": {
      "text/html": [
       "<table>\n",
       " <thead>\n",
       "  <tr>\n",
       "   <th style=\"text-align:right;\"> x </th>\n",
       "   <th style=\"text-align:right;\"> y </th>\n",
       "   <th style=\"text-align:left;\"> Assay </th>\n",
       "   <th style=\"text-align:right;\"> AUROC </th>\n",
       "   <th style=\"text-align:left;\"> Performance </th>\n",
       "  </tr>\n",
       " </thead>\n",
       "<tbody>\n",
       "  <tr>\n",
       "   <td style=\"text-align:right;\"> 0.0000000 </td>\n",
       "   <td style=\"text-align:right;\"> 0.0000000 </td>\n",
       "   <td style=\"text-align:left;\"> ASTARR </td>\n",
       "   <td style=\"text-align:right;\"> 0.7120522 </td>\n",
       "   <td style=\"text-align:left;\"> ASTARR (0.71) </td>\n",
       "  </tr>\n",
       "  <tr>\n",
       "   <td style=\"text-align:right;\"> 0.0000000 </td>\n",
       "   <td style=\"text-align:right;\"> 0.0434783 </td>\n",
       "   <td style=\"text-align:left;\"> ASTARR </td>\n",
       "   <td style=\"text-align:right;\"> 0.7120522 </td>\n",
       "   <td style=\"text-align:left;\"> ASTARR (0.71) </td>\n",
       "  </tr>\n",
       "  <tr>\n",
       "   <td style=\"text-align:right;\"> 0.0007651 </td>\n",
       "   <td style=\"text-align:right;\"> 0.0434783 </td>\n",
       "   <td style=\"text-align:left;\"> ASTARR </td>\n",
       "   <td style=\"text-align:right;\"> 0.7120522 </td>\n",
       "   <td style=\"text-align:left;\"> ASTARR (0.71) </td>\n",
       "  </tr>\n",
       "</tbody>\n",
       "</table>"
      ]
     },
     "metadata": {},
     "output_type": "display_data"
    }
   ],
   "source": [
    "lst = lst_dat_region_score\n",
    "\n",
    "lst = lapply(vec_txt_assay, function(txt_assay){\n",
    "    ###\n",
    "    dat = lst[[txt_assay]]\n",
    "    dat = dat %>% dplyr::select(Region, Score)\n",
    "    dat_region_score = dat\n",
    "\n",
    "    ###\n",
    "    dat = dplyr::inner_join(\n",
    "        dat_region_group,\n",
    "        dat_region_score,\n",
    "        by = \"Region\"\n",
    "    )\n",
    "    dat_region_merge = dat\n",
    "\n",
    "    ###\n",
    "    dat = dat_region_merge\n",
    "    fit = glm(Group ~ Score, data = dat, family = \"binomial\")\n",
    "    vec_boo_group = (dat$Group == 1)\n",
    "    vec_num_score = predict(fit, type = \"response\")\n",
    "\n",
    "    ###\n",
    "    lst = fun_auroc(vec_boo_group, vec_num_score)\n",
    "    vec_num_spec = lst[[\"Specificity\"]]\n",
    "    vec_num_sens = lst[[\"Sensitivity\"]]\n",
    "    num_auroc    = lst[[\"AUROC\"]]\n",
    "\n",
    "    ###\n",
    "    txt_title = paste0(\"(\", round(num_auroc, 2), \")\")\n",
    "    txt_title = paste(txt_assay, txt_title)\n",
    "\n",
    "    ###\n",
    "    dat = data.frame(\n",
    "          x       = 1 - vec_num_spec,   # FPR\n",
    "          y       = vec_num_sens,       # TPR\n",
    "          Assay   = txt_assay,\n",
    "          AUROC   = num_auroc,\n",
    "        \"Performance\" = txt_title,\n",
    "          stringsAsFactors = FALSE\n",
    "        )\n",
    "    dat = dat %>% dplyr::arrange(x, y)\n",
    "    return(dat)\n",
    "})\n",
    "dat = bind_rows(lst)\n",
    "\n",
    "###\n",
    "dat_assay_auroc = dat\n",
    "print(dim(dat))\n",
    "fun_display_table(head(dat, 3))"
   ]
  },
  {
   "cell_type": "code",
   "execution_count": 53,
   "id": "af724be4-53e2-4244-a6ee-085891312ff8",
   "metadata": {},
   "outputs": [
    {
     "data": {
      "image/png": "[encoded data removed]",
      "text/plain": [
       "plot without title"
      ]
     },
     "metadata": {
      "image/png": {
       "height": 330,
       "width": 420
      }
     },
     "output_type": "display_data"
    }
   ],
   "source": [
    "dat = dat_assay_auroc\n",
    "gpt = ggplot(dat, aes(x=x, y=y, group=Assay, color=Performance)) +\n",
    "    geom_line(linewidth=1) +\n",
    "    #geom_point() +\n",
    "    labs(x = \"1 - Specificity\", y = \"Sensitivity\", title=\"CRISPRi-HCRFF\") +\n",
    "    theme_cowplot()\n",
    "\n",
    "options(repr.plot.width=7, repr.plot.height=5.5)\n",
    "print(gpt)"
   ]
  },
  {
   "cell_type": "code",
   "execution_count": 75,
   "id": "b1455e17-2cd7-4afe-bf36-6eaf747e798a",
   "metadata": {},
   "outputs": [
    {
     "name": "stderr",
     "output_type": "stream",
     "text": [
      "Positive prevalence: 0.0168453292496172\n",
      "\n"
     ]
    }
   ],
   "source": [
    "prevalence <- mean(vec_boo_group)\n",
    "message(\"Positive prevalence: \", prevalence)"
   ]
  },
  {
   "cell_type": "code",
   "execution_count": 42,
   "id": "5fc30df4-a0ab-45f1-8f84-3b99cc79a2ed",
   "metadata": {},
   "outputs": [
    {
     "ename": "ERROR",
     "evalue": "Error in data.frame(x = 1 - vec_num_spec, y = vec_num_sens, Assay = txt_assay, : arguments imply differing number of rows: 0, 1332, 1\n",
     "output_type": "error",
     "traceback": [
      "Error in data.frame(x = 1 - vec_num_spec, y = vec_num_sens, Assay = txt_assay, : arguments imply differing number of rows: 0, 1332, 1\nTraceback:\n",
      "1. FUN(X[[i]], ...)",
      "2. data.frame(x = 1 - vec_num_spec, y = vec_num_sens, Assay = txt_assay, \n .     AUROC = num_auroc, Performance = txt_title)",
      "3. stop(gettextf(\"arguments imply differing number of rows: %s\", \n .     paste(unique(nrows), collapse = \", \")), domain = NA)",
      "4. .handleSimpleError(function (cnd) \n . {\n .     watcher$capture_plot_and_output()\n .     cnd <- sanitize_call(cnd)\n .     watcher$push(cnd)\n .     switch(on_error, continue = invokeRestart(\"eval_continue\"), \n .         stop = invokeRestart(\"eval_stop\"), error = NULL)\n . }, \"arguments imply differing number of rows: 0, 1332, 1\", base::quote(data.frame(x = 1 - \n .     vec_num_spec, y = vec_num_sens, Assay = txt_assay, AUROC = num_auroc, \n .     Performance = txt_title)))"
     ]
    }
   ],
   "source": [
    "lst = lst_dat_region_score\n",
    "\n",
    "lst = lapply(vec_txt_assay, function(txt_assay){\n",
    "    ###\n",
    "    dat = lst[[txt_assay]]\n",
    "    dat = dat %>% dplyr::select(Region, Score)\n",
    "    dat_region_score = dat\n",
    "\n",
    "    ###\n",
    "    dat = dplyr::inner_join(\n",
    "        dat_region_group,\n",
    "        dat_region_score,\n",
    "        by = \"Region\"\n",
    "    )\n",
    "    dat_region_merge = dat\n",
    "\n",
    "    ###\n",
    "    dat = dat_region_merge\n",
    "    fit = glm(Group ~ Score, data = dat, family = \"binomial\")\n",
    "    vec_boo_group = (dat$Group == 1)\n",
    "    vec_num_score = predict(fit, type = \"response\")\n",
    "\n",
    "    ###\n",
    "    lst = fun_auroc(vec_boo_group, vec_num_score)\n",
    "    vec_num_spec = lst[[\"Specificity\"]]\n",
    "    vec_num_sens = lst[[\"Sensitivity\"]]\n",
    "    num_auroc    = lst[[\"AUROC\"]]\n",
    "\n",
    "    ###\n",
    "    txt_title = paste0(\"(\", round(num_auroc, 2), \")\")\n",
    "    txt_title = paste(txt_assay, txt_title)\n",
    "\n",
    "    ###\n",
    "    dat = data.frame(\n",
    "        \"x\" = 1 - vec_num_spec,\n",
    "        \"y\" = vec_num_sens,\n",
    "        \"Assay\" = txt_assay,\n",
    "        \"AUROC\" = num_auroc,\n",
    "        \"Performance\" = txt_title\n",
    "    )\n",
    "    dat = dat %>% dplyr::arrange(x, y)\n",
    "    return(dat)\n",
    "})\n",
    "dat = bind_rows(lst)\n",
    "\n",
    "###\n",
    "dat_assay_auroc = dat\n",
    "print(dim(dat))\n",
    "fun_display_table(head(dat, 3))"
   ]
  },
  {
   "cell_type": "code",
   "execution_count": 37,
   "id": "0b19b9fb-288e-42b2-be03-ea8f6a9f7775",
   "metadata": {},
   "outputs": [
    {
     "data": {
      "image/png": "[encoded data removed]",
      "text/plain": [
       "plot without title"
      ]
     },
     "metadata": {
      "image/png": {
       "height": 330,
       "width": 420
      }
     },
     "output_type": "display_data"
    }
   ],
   "source": [
    "dat = dat_assay_auroc\n",
    "gpt = ggplot(dat, aes(x=x, y=y, group=Assay, color=Performance)) +\n",
    "    geom_line(linewidth=1) +\n",
    "    #geom_point() +\n",
    "    labs(x = \"1 - Specificity\", y = \"Sensitivity\", title=\"CRISPRi-HCRFF\") +\n",
    "    theme_cowplot()\n",
    "\n",
    "options(repr.plot.width=7, repr.plot.height=5.5)\n",
    "print(gpt)"
   ]
  },
  {
   "cell_type": "code",
   "execution_count": null,
   "id": "15ae1790-9521-4d9c-90be-9c6ea9fedfb4",
   "metadata": {},
   "outputs": [],
   "source": []
  },
  {
   "cell_type": "code",
   "execution_count": null,
   "id": "6ff8b79b-0826-40ae-97ae-7bb4fbcd6ba5",
   "metadata": {},
   "outputs": [],
   "source": []
  },
  {
   "cell_type": "code",
   "execution_count": null,
   "id": "ea053ee4-76c1-4ac5-8063-2378fc825645",
   "metadata": {},
   "outputs": [],
   "source": []
  }
 ],
 "metadata": {
  "kernelspec": {
   "display_name": "R",
   "language": "R",
   "name": "ir"
  },
  "language_info": {
   "codemirror_mode": "r",
   "file_extension": ".r",
   "mimetype": "text/x-r-source",
   "name": "R",
   "pygments_lexer": "r",
   "version": "4.5.1"
  }
 },
 "nbformat": 4,
 "nbformat_minor": 5
}
