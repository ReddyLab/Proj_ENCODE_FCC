{
 "cells": [
  {
   "cell_type": "code",
   "execution_count": null,
   "id": "884c8b8c-c194-4eb6-a9fb-6ddb0021cf3d",
   "metadata": {},
   "outputs": [],
   "source": []
  },
  {
   "cell_type": "markdown",
   "id": "096cfd1d-2124-4564-9e1a-fa48218bb0de",
   "metadata": {},
   "source": [
    "**Set environment**"
   ]
  },
  {
   "cell_type": "code",
   "execution_count": 3,
   "id": "50a5f33d-f87f-4eb8-8472-6d8912dce9d1",
   "metadata": {},
   "outputs": [
    {
     "name": "stdout",
     "output_type": "stream",
     "text": [
      "You are working on        Singularity: singularity_proj_encode_fcc \n",
      "BASE DIRECTORY (FD_BASE): /data/reddylab/Kuei \n",
      "REPO DIRECTORY (FD_REPO): /data/reddylab/Kuei/repo \n",
      "WORK DIRECTORY (FD_WORK): /data/reddylab/Kuei/work \n",
      "DATA DIRECTORY (FD_DATA): /data/reddylab/Kuei/data \n",
      "\n",
      "You are working with      ENCODE FCC \n",
      "PATH OF PROJECT (FD_PRJ): /data/reddylab/Kuei/repo/Proj_ENCODE_FCC \n",
      "PROJECT RESULTS (FD_RES): /data/reddylab/Kuei/repo/Proj_ENCODE_FCC/results \n",
      "PROJECT SCRIPTS (FD_EXE): /data/reddylab/Kuei/repo/Proj_ENCODE_FCC/scripts \n",
      "PROJECT DATA    (FD_DAT): /data/reddylab/Kuei/repo/Proj_ENCODE_FCC/data \n",
      "PROJECT NOTE    (FD_NBK): /data/reddylab/Kuei/repo/Proj_ENCODE_FCC/notebooks \n",
      "PROJECT DOCS    (FD_DOC): /data/reddylab/Kuei/repo/Proj_ENCODE_FCC/docs \n",
      "PROJECT LOG     (FD_LOG): /data/reddylab/Kuei/repo/Proj_ENCODE_FCC/log \n",
      "PROJECT REF     (FD_REF): /data/reddylab/Kuei/repo/Proj_ENCODE_FCC/references \n",
      "\n"
     ]
    }
   ],
   "source": [
    "suppressMessages(suppressWarnings(source(\"../run_config_project_sing.R\")))\n",
    "show_env()"
   ]
  },
  {
   "cell_type": "markdown",
   "id": "854b7fa6-cc0b-4f12-9524-4562c2b26db2",
   "metadata": {},
   "source": [
    "## Import data"
   ]
  },
  {
   "cell_type": "code",
   "execution_count": 8,
   "id": "57ccf236-c903-4e7b-a2d7-d1680dadd76e",
   "metadata": {},
   "outputs": [
    {
     "data": {
      "text/html": [
       "'/data/reddylab/Kuei/repo/Proj_ENCODE_FCC/results'"
      ],
      "text/latex": [
       "'/data/reddylab/Kuei/repo/Proj\\_ENCODE\\_FCC/results'"
      ],
      "text/markdown": [
       "'/data/reddylab/Kuei/repo/Proj_ENCODE_FCC/results'"
      ],
      "text/plain": [
       "[1] \"/data/reddylab/Kuei/repo/Proj_ENCODE_FCC/results\""
      ]
     },
     "metadata": {},
     "output_type": "display_data"
    }
   ],
   "source": [
    "FD_RES"
   ]
  },
  {
   "cell_type": "code",
   "execution_count": 9,
   "id": "39b82ba0-d6bc-4e2b-93b8-ea28de4b514f",
   "metadata": {},
   "outputs": [],
   "source": [
    "FD_RES_PRE = \"/data/reddylab/Kuei/work/proj_encode_fcc/results_v4\""
   ]
  },
  {
   "cell_type": "code",
   "execution_count": 10,
   "id": "00fd89e4-1e50-4092-a72d-664a6f193a12",
   "metadata": {},
   "outputs": [
    {
     "name": "stdout",
     "output_type": "stream",
     "text": [
      "A001_K562_WSTARRseq \n",
      "comparison \n",
      "comparison_archive231029 \n",
      "CRISPRi_FlowFISH \n",
      "CRISPRi_Growth_K562_Gersbach \n",
      "hic_intact_K562_deep \n",
      "hic_intact_K562_ENCSR479XDG \n",
      "KS91_K562_ASTARRseq \n",
      "LentiMPRA_K562_Nadav \n",
      "region \n",
      "Tewhey_K562_TileMPRA \n"
     ]
    }
   ],
   "source": [
    "txt_fdiry = FD_RES_PRE\n",
    "vec = dir(txt_fdiry)\n",
    "for (txt in vec){cat(txt, \"\\n\")}"
   ]
  },
  {
   "cell_type": "markdown",
   "id": "724f01b9-7bbc-441b-ba76-9b072529609f",
   "metadata": {},
   "source": [
    "**STARR/MPRA Ranked score**"
   ]
  },
  {
   "cell_type": "code",
   "execution_count": 11,
   "id": "9993e40c-4fa7-4005-a2dd-83f97bf418c6",
   "metadata": {},
   "outputs": [
    {
     "name": "stdout",
     "output_type": "stream",
     "text": [
      "result.ranknorm.starrmpra.overlap.tsv \n",
      "result.score.starrmpra.tsv \n"
     ]
    }
   ],
   "source": [
    "txt_fdiry = file.path(FD_RES_PRE, \"comparison\")\n",
    "vec = dir(txt_fdiry)\n",
    "for (txt in vec){cat(txt, \"\\n\")}"
   ]
  },
  {
   "cell_type": "code",
   "execution_count": 16,
   "id": "100d5a3f-7fb3-4335-ada0-9a393e582168",
   "metadata": {},
   "outputs": [
    {
     "name": "stdout",
     "output_type": "stream",
     "text": [
      "[1] 1241    6\n"
     ]
    },
    {
     "data": {
      "text/html": [
       "<table>\n",
       " <thead>\n",
       "  <tr>\n",
       "   <th style=\"text-align:left;\"> Region </th>\n",
       "   <th style=\"text-align:right;\"> ASTARR </th>\n",
       "   <th style=\"text-align:right;\"> WSTARR </th>\n",
       "   <th style=\"text-align:right;\"> TMPRA </th>\n",
       "   <th style=\"text-align:right;\"> LMPRA </th>\n",
       "   <th style=\"text-align:right;\"> Mean </th>\n",
       "  </tr>\n",
       " </thead>\n",
       "<tbody>\n",
       "  <tr>\n",
       "   <td style=\"text-align:left;\"> chr11:32870601-32871324 </td>\n",
       "   <td style=\"text-align:right;\"> 0.1200645 </td>\n",
       "   <td style=\"text-align:right;\"> 0.0620467 </td>\n",
       "   <td style=\"text-align:right;\"> 0.1958098 </td>\n",
       "   <td style=\"text-align:right;\"> 0.2280419 </td>\n",
       "   <td style=\"text-align:right;\"> 0.1514907 </td>\n",
       "  </tr>\n",
       "  <tr>\n",
       "   <td style=\"text-align:left;\"> chr11:32874343-32875070 </td>\n",
       "   <td style=\"text-align:right;\"> 0.1305399 </td>\n",
       "   <td style=\"text-align:right;\"> 0.2143433 </td>\n",
       "   <td style=\"text-align:right;\"> 0.3231265 </td>\n",
       "   <td style=\"text-align:right;\"> 0.0809831 </td>\n",
       "   <td style=\"text-align:right;\"> 0.1872482 </td>\n",
       "  </tr>\n",
       "  <tr>\n",
       "   <td style=\"text-align:left;\"> chr11:32884749-32885822 </td>\n",
       "   <td style=\"text-align:right;\"> 0.0854150 </td>\n",
       "   <td style=\"text-align:right;\"> 0.2634972 </td>\n",
       "   <td style=\"text-align:right;\"> 0.5439162 </td>\n",
       "   <td style=\"text-align:right;\"> 0.7856567 </td>\n",
       "   <td style=\"text-align:right;\"> 0.4196213 </td>\n",
       "  </tr>\n",
       "</tbody>\n",
       "</table>"
      ]
     },
     "metadata": {},
     "output_type": "display_data"
    }
   ],
   "source": [
    "txt_fdiry = file.path(FD_RES_PRE, \"comparison\")\n",
    "txt_fname = \"result.ranknorm.starrmpra.overlap.tsv\"\n",
    "txt_fpath = file.path(txt_fdiry, txt_fname)\n",
    "\n",
    "dat = read_tsv(txt_fpath, show_col_types = FALSE)\n",
    "dat = dat %>% dplyr::rename(\"Region\" = \"Peak\")\n",
    "\n",
    "dat_region_ranknorm = dat\n",
    "print(dim(dat))\n",
    "fun_display_table(head(dat, 3))"
   ]
  },
  {
   "cell_type": "markdown",
   "id": "879ce3cb-65a4-4a13-90cc-2ae61bb15733",
   "metadata": {},
   "source": [
    "**CRISPRi-HCRFF (Previous)**"
   ]
  },
  {
   "cell_type": "code",
   "execution_count": 17,
   "id": "b413bb83-d127-4fa4-953c-094fcada7b46",
   "metadata": {},
   "outputs": [
    {
     "name": "stdout",
     "output_type": "stream",
     "text": [
      "Merge_HCRFF_rAVG.log2FC_2.bed.gz \n",
      "Merge_HCRFF_rAVG.log2FC_2.filtered.bed.gz \n",
      "summary \n"
     ]
    }
   ],
   "source": [
    "ASSAY   = \"CRISPRi_FlowFISH\"\n",
    "FOLDER  = \"coverage_astarrseq_peak_macs_input\"\n",
    "\n",
    "txt_fdiry = file.path(FD_RES_PRE, ASSAY, FOLDER)\n",
    "vec = dir(txt_fdiry)\n",
    "for (txt in vec){cat(txt, \"\\n\")}"
   ]
  },
  {
   "cell_type": "code",
   "execution_count": 18,
   "id": "c245ae39-25f3-49c2-a495-4478a69e29fa",
   "metadata": {},
   "outputs": [
    {
     "name": "stdout",
     "output_type": "stream",
     "text": [
      "results.score.tsv \n",
      "results.summary.Merge.tsv \n",
      "results.summary.tsv \n"
     ]
    }
   ],
   "source": [
    "ASSAY   = \"CRISPRi_FlowFISH\"\n",
    "FOLDER  = \"coverage_astarrseq_peak_macs_input\"\n",
    "\n",
    "txt_fdiry = file.path(FD_RES_PRE, ASSAY, FOLDER, \"summary\")\n",
    "vec = dir(txt_fdiry)\n",
    "for (txt in vec){cat(txt, \"\\n\")}"
   ]
  },
  {
   "cell_type": "code",
   "execution_count": 24,
   "id": "9c2d0686-ea0c-4165-8602-833b517d2b12",
   "metadata": {},
   "outputs": [
    {
     "name": "stdout",
     "output_type": "stream",
     "text": [
      "[1] 1330    6\n"
     ]
    },
    {
     "data": {
      "text/html": [
       "<table class=\"dataframe\">\n",
       "<caption>A tibble: 6 × 6</caption>\n",
       "<thead>\n",
       "\t<tr><th scope=col>Region</th><th scope=col>Mean</th><th scope=col>Mean_Pos</th><th scope=col>Mean_Neg</th><th scope=col>Count</th><th scope=col>Note</th></tr>\n",
       "\t<tr><th scope=col>&lt;chr&gt;</th><th scope=col>&lt;dbl&gt;</th><th scope=col>&lt;dbl&gt;</th><th scope=col>&lt;dbl&gt;</th><th scope=col>&lt;dbl&gt;</th><th scope=col>&lt;chr&gt;</th></tr>\n",
       "</thead>\n",
       "<tbody>\n",
       "\t<tr><td>chr11:33065336-33066228</td><td>-0.08308383</td><td>0.03675483</td><td>-0.2734393</td><td>138</td><td>CAPRIN1:138|CAT:138|LMO2:138</td></tr>\n",
       "\t<tr><td>chr11:33068519-33069100</td><td>-0.12006903</td><td>0.00000000</td><td>-0.1593220</td><td>159</td><td>CAPRIN1:159|CAT:159|LMO2:159</td></tr>\n",
       "\t<tr><td>chr11:33072412-33072630</td><td> 0.10643558</td><td>0.35299267</td><td>-0.1982723</td><td> 36</td><td>CAPRIN1:36|CAT:36|LMO2:36   </td></tr>\n",
       "\t<tr><td>chr11:33103533-33104120</td><td> 0.98158422</td><td>1.44209600</td><td> 0.0000000</td><td>  9</td><td>CAPRIN1:9|CAT:9|LMO2:9      </td></tr>\n",
       "\t<tr><td>chr11:33114629-33115134</td><td> 0.22095793</td><td>0.42649733</td><td> 0.0000000</td><td> 27</td><td>CAPRIN1:27|CAT:27|LMO2:27   </td></tr>\n",
       "\t<tr><td>chr11:33125296-33126416</td><td>-0.05128921</td><td>0.04323581</td><td>-0.1542515</td><td>159</td><td>CAPRIN1:159|CAT:159|LMO2:159</td></tr>\n",
       "</tbody>\n",
       "</table>\n"
      ],
      "text/latex": [
       "A tibble: 6 × 6\n",
       "\\begin{tabular}{llllll}\n",
       " Region & Mean & Mean\\_Pos & Mean\\_Neg & Count & Note\\\\\n",
       " <chr> & <dbl> & <dbl> & <dbl> & <dbl> & <chr>\\\\\n",
       "\\hline\n",
       "\t chr11:33065336-33066228 & -0.08308383 & 0.03675483 & -0.2734393 & 138 & CAPRIN1:138\\textbar{}CAT:138\\textbar{}LMO2:138\\\\\n",
       "\t chr11:33068519-33069100 & -0.12006903 & 0.00000000 & -0.1593220 & 159 & CAPRIN1:159\\textbar{}CAT:159\\textbar{}LMO2:159\\\\\n",
       "\t chr11:33072412-33072630 &  0.10643558 & 0.35299267 & -0.1982723 &  36 & CAPRIN1:36\\textbar{}CAT:36\\textbar{}LMO2:36   \\\\\n",
       "\t chr11:33103533-33104120 &  0.98158422 & 1.44209600 &  0.0000000 &   9 & CAPRIN1:9\\textbar{}CAT:9\\textbar{}LMO2:9      \\\\\n",
       "\t chr11:33114629-33115134 &  0.22095793 & 0.42649733 &  0.0000000 &  27 & CAPRIN1:27\\textbar{}CAT:27\\textbar{}LMO2:27   \\\\\n",
       "\t chr11:33125296-33126416 & -0.05128921 & 0.04323581 & -0.1542515 & 159 & CAPRIN1:159\\textbar{}CAT:159\\textbar{}LMO2:159\\\\\n",
       "\\end{tabular}\n"
      ],
      "text/markdown": [
       "\n",
       "A tibble: 6 × 6\n",
       "\n",
       "| Region &lt;chr&gt; | Mean &lt;dbl&gt; | Mean_Pos &lt;dbl&gt; | Mean_Neg &lt;dbl&gt; | Count &lt;dbl&gt; | Note &lt;chr&gt; |\n",
       "|---|---|---|---|---|---|\n",
       "| chr11:33065336-33066228 | -0.08308383 | 0.03675483 | -0.2734393 | 138 | CAPRIN1:138|CAT:138|LMO2:138 |\n",
       "| chr11:33068519-33069100 | -0.12006903 | 0.00000000 | -0.1593220 | 159 | CAPRIN1:159|CAT:159|LMO2:159 |\n",
       "| chr11:33072412-33072630 |  0.10643558 | 0.35299267 | -0.1982723 |  36 | CAPRIN1:36|CAT:36|LMO2:36    |\n",
       "| chr11:33103533-33104120 |  0.98158422 | 1.44209600 |  0.0000000 |   9 | CAPRIN1:9|CAT:9|LMO2:9       |\n",
       "| chr11:33114629-33115134 |  0.22095793 | 0.42649733 |  0.0000000 |  27 | CAPRIN1:27|CAT:27|LMO2:27    |\n",
       "| chr11:33125296-33126416 | -0.05128921 | 0.04323581 | -0.1542515 | 159 | CAPRIN1:159|CAT:159|LMO2:159 |\n",
       "\n"
      ],
      "text/plain": [
       "  Region                  Mean        Mean_Pos   Mean_Neg   Count\n",
       "1 chr11:33065336-33066228 -0.08308383 0.03675483 -0.2734393 138  \n",
       "2 chr11:33068519-33069100 -0.12006903 0.00000000 -0.1593220 159  \n",
       "3 chr11:33072412-33072630  0.10643558 0.35299267 -0.1982723  36  \n",
       "4 chr11:33103533-33104120  0.98158422 1.44209600  0.0000000   9  \n",
       "5 chr11:33114629-33115134  0.22095793 0.42649733  0.0000000  27  \n",
       "6 chr11:33125296-33126416 -0.05128921 0.04323581 -0.1542515 159  \n",
       "  Note                        \n",
       "1 CAPRIN1:138|CAT:138|LMO2:138\n",
       "2 CAPRIN1:159|CAT:159|LMO2:159\n",
       "3 CAPRIN1:36|CAT:36|LMO2:36   \n",
       "4 CAPRIN1:9|CAT:9|LMO2:9      \n",
       "5 CAPRIN1:27|CAT:27|LMO2:27   \n",
       "6 CAPRIN1:159|CAT:159|LMO2:159"
      ]
     },
     "metadata": {},
     "output_type": "display_data"
    }
   ],
   "source": [
    "ASSAY   = \"CRISPRi_FlowFISH\"\n",
    "FOLDER  = \"coverage_astarrseq_peak_macs_input\"\n",
    "\n",
    "txt_fdiry = file.path(FD_RES_PRE, ASSAY, FOLDER, \"summary\")\n",
    "txt_fname = \"results.summary.Merge.tsv\"\n",
    "txt_fpath = file.path(txt_fdiry, txt_fname)\n",
    "\n",
    "dat = read_tsv(txt_fpath, show_col_types = FALSE)\n",
    "dat = dat %>% dplyr::rename(\"Region\" = \"Peak\")\n",
    "\n",
    "dat_region_score_chcrff_import = dat\n",
    "print(dim(dat))\n",
    "head(dat)"
   ]
  },
  {
   "cell_type": "code",
   "execution_count": null,
   "id": "77554fb2-4ebc-4b3a-958d-5801992f877c",
   "metadata": {},
   "outputs": [],
   "source": []
  },
  {
   "cell_type": "code",
   "execution_count": null,
   "id": "62acdd3b-8069-474b-9241-8745f4b63f2f",
   "metadata": {},
   "outputs": [],
   "source": []
  },
  {
   "cell_type": "code",
   "execution_count": 25,
   "id": "b1ed13ae-f1cf-42d0-b132-cc4b92477b36",
   "metadata": {},
   "outputs": [
    {
     "name": "stdout",
     "output_type": "stream",
     "text": [
      "[1] 1241    1\n"
     ]
    },
    {
     "data": {
      "text/html": [
       "<table>\n",
       " <thead>\n",
       "  <tr>\n",
       "   <th style=\"text-align:left;\"> Region </th>\n",
       "  </tr>\n",
       " </thead>\n",
       "<tbody>\n",
       "  <tr>\n",
       "   <td style=\"text-align:left;\"> chr11:32870601-32871324 </td>\n",
       "  </tr>\n",
       "  <tr>\n",
       "   <td style=\"text-align:left;\"> chr11:32874343-32875070 </td>\n",
       "  </tr>\n",
       "  <tr>\n",
       "   <td style=\"text-align:left;\"> chr11:32884749-32885822 </td>\n",
       "  </tr>\n",
       "  <tr>\n",
       "   <td style=\"text-align:left;\"> chr11:32901572-32902485 </td>\n",
       "  </tr>\n",
       "  <tr>\n",
       "   <td style=\"text-align:left;\"> chr11:32903491-32904506 </td>\n",
       "  </tr>\n",
       "  <tr>\n",
       "   <td style=\"text-align:left;\"> chr11:32910855-32912010 </td>\n",
       "  </tr>\n",
       "</tbody>\n",
       "</table>"
      ]
     },
     "metadata": {},
     "output_type": "display_data"
    }
   ],
   "source": [
    "dat = dat_region_ranknorm\n",
    "dat = dat %>% \n",
    "    #dplyr::select(Chrom, ChromStart, ChromEnd, Region) %>% \n",
    "    dplyr::select(Region) %>% \n",
    "    dplyr::distinct()\n",
    "\n",
    "###\n",
    "dat_region = dat\n",
    "print(dim(dat))\n",
    "fun_display_table(head(dat))"
   ]
  },
  {
   "cell_type": "code",
   "execution_count": 26,
   "id": "d1e55058-773b-45cc-8cf0-3c1b84f2df09",
   "metadata": {},
   "outputs": [
    {
     "name": "stdout",
     "output_type": "stream",
     "text": [
      "[1] 1241\n"
     ]
    }
   ],
   "source": [
    "#dat = dat_region_score_starrmpra_import\n",
    "dat = dat_region_ranknorm\n",
    "\n",
    "dat = dat %>% \n",
    "    dplyr::select(Region, Mean) %>% \n",
    "    dplyr::distinct() %>%\n",
    "    dplyr::arrange(Mean)\n",
    "vec = dat$Region\n",
    "\n",
    "### assign and show\n",
    "VEC_TXT_REGION = vec\n",
    "print(length(vec))"
   ]
  },
  {
   "cell_type": "code",
   "execution_count": null,
   "id": "5d879e63-b0c7-48f3-8a0c-ccbbe3591e19",
   "metadata": {},
   "outputs": [],
   "source": []
  },
  {
   "cell_type": "code",
   "execution_count": null,
   "id": "0370d140-accc-4eeb-936c-976a61e03f65",
   "metadata": {},
   "outputs": [],
   "source": []
  },
  {
   "cell_type": "code",
   "execution_count": null,
   "id": "91df20e9-7a1e-4ac7-acbd-d8956630c932",
   "metadata": {},
   "outputs": [],
   "source": []
  },
  {
   "cell_type": "code",
   "execution_count": 29,
   "id": "1900a88c-6426-4373-a580-b8803595a2ac",
   "metadata": {},
   "outputs": [
    {
     "name": "stdout",
     "output_type": "stream",
     "text": [
      "[1] 2482    3\n"
     ]
    },
    {
     "data": {
      "text/html": [
       "<table>\n",
       " <thead>\n",
       "  <tr>\n",
       "   <th style=\"text-align:left;\"> Region </th>\n",
       "   <th style=\"text-align:left;\"> Group </th>\n",
       "   <th style=\"text-align:right;\"> Score </th>\n",
       "  </tr>\n",
       " </thead>\n",
       "<tbody>\n",
       "  <tr>\n",
       "   <td style=\"text-align:left;\"> chr11:33065336-33066228 </td>\n",
       "   <td style=\"text-align:left;\"> Mean_Pos </td>\n",
       "   <td style=\"text-align:right;\"> 0.0367548 </td>\n",
       "  </tr>\n",
       "  <tr>\n",
       "   <td style=\"text-align:left;\"> chr11:33068519-33069100 </td>\n",
       "   <td style=\"text-align:left;\"> Mean_Pos </td>\n",
       "   <td style=\"text-align:right;\"> 0.0000000 </td>\n",
       "  </tr>\n",
       "  <tr>\n",
       "   <td style=\"text-align:left;\"> chr11:33103533-33104120 </td>\n",
       "   <td style=\"text-align:left;\"> Mean_Pos </td>\n",
       "   <td style=\"text-align:right;\"> 1.4420960 </td>\n",
       "  </tr>\n",
       "</tbody>\n",
       "</table>"
      ]
     },
     "metadata": {},
     "output_type": "display_data"
    }
   ],
   "source": [
    "dat = dat_region_score_chcrff_import\n",
    "dat = dat %>% dplyr::filter(Count >= 3)\n",
    "\n",
    "dat = dat %>% \n",
    "    dplyr::select(Region, Mean_Pos, Mean_Neg) %>%\n",
    "    dplyr::right_join(dat_region, by = \"Region\")\n",
    "\n",
    "dat = dat %>% \n",
    "    tidyr::gather(Group, Score, -Region) %>%\n",
    "    dplyr::select(Region, Group, Score) %>%\n",
    "    dplyr::mutate(Region = factor(Region, levels=VEC_TXT_REGION)) %>%\n",
    "    replace(is.na(.), 0)\n",
    "\n",
    "dat_region_score_chcrff_arrange = dat\n",
    "print(dim(dat))\n",
    "fun_display_table(head(dat, 3))"
   ]
  },
  {
   "cell_type": "code",
   "execution_count": 30,
   "id": "52b3658a-0a75-489c-b625-22f42cb96adc",
   "metadata": {},
   "outputs": [
    {
     "data": {
      "image/png": "[encoded data removed]",
      "text/plain": [
       "plot without title"
      ]
     },
     "metadata": {
      "image/png": {
       "height": 180,
       "width": 900
      }
     },
     "output_type": "display_data"
    }
   ],
   "source": [
    "theme_fill = scale_fill_manual(\n",
    "    values = c(\n",
    "        \"Mean_Pos\"=\"#e31a1c\", \n",
    "        \"Mean_Neg\"=\"#1f78b4\")\n",
    ")\n",
    "\n",
    "theme_text = theme(\n",
    "    axis.ticks.x = element_blank(),\n",
    "    axis.text.x  = element_blank(),\n",
    "    axis.text.y  = element_text(size = 15),\n",
    "    axis.title.x = element_blank(),\n",
    "    axis.title.y = element_blank(),\n",
    "    plot.title = element_text(face = \"plain\", size = 17)\n",
    "    #axis.title.y = element_text(size = 15)\n",
    ")\n",
    "\n",
    "theme_legend = theme(legend.position = \"none\")\n",
    "\n",
    "dat = dat_region_score_chcrff_arrange\n",
    "\n",
    "gpt = ggplot(dat, aes(x=Region, y=Score, fill=Group)) + \n",
    "    geom_col(width=2, position=\"identity\") + \n",
    "    labs(title = \"CRISPRi-HCRFF\") +\n",
    "    theme_cowplot() + \n",
    "    theme_text +\n",
    "    theme_fill +\n",
    "    theme_legend\n",
    "\n",
    "gpt_score_crispri_hcrff = gpt\n",
    "\n",
    "options(repr.plot.height=3, repr.plot.width=15)\n",
    "print(gpt)"
   ]
  },
  {
   "cell_type": "code",
   "execution_count": null,
   "id": "d56a9017-ae5b-42b2-92e2-df9f3dfbd495",
   "metadata": {},
   "outputs": [],
   "source": []
  }
 ],
 "metadata": {
  "kernelspec": {
   "display_name": "R",
   "language": "R",
   "name": "ir"
  },
  "language_info": {
   "codemirror_mode": "r",
   "file_extension": ".r",
   "mimetype": "text/x-r-source",
   "name": "R",
   "pygments_lexer": "r",
   "version": "4.4.2"
  }
 },
 "nbformat": 4,
 "nbformat_minor": 5
}
