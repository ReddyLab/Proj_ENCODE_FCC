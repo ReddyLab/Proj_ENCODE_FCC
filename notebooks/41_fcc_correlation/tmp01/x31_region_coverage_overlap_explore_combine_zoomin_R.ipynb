{
 "cells": [
  {
   "cell_type": "raw",
   "id": "e1c0958d-10b1-4931-9b46-35dd591b0357",
   "metadata": {},
   "source": [
    "---\n",
    "title: ...\n",
    "subtitle: combine ATAC, setup total, final, and share verion of table\n",
    "format:\n",
    "    html:\n",
    "        code-fold:  true\n",
    "        code-tools: true\n",
    "---"
   ]
  },
  {
   "cell_type": "code",
   "execution_count": null,
   "id": "62b56465-dba2-4d7e-aed2-6b2ab99607be",
   "metadata": {},
   "outputs": [],
   "source": [
    "chr11:5,265,400-5,302,300"
   ]
  },
  {
   "cell_type": "code",
   "execution_count": null,
   "id": "d8e90c70-c5eb-4762-8981-5cad65f79c5a",
   "metadata": {},
   "outputs": [],
   "source": [
    "chr11:5,284,409-5,285,152"
   ]
  },
  {
   "cell_type": "markdown",
   "id": "b399e033-d4be-419c-bccf-4e0c5d8bbe92",
   "metadata": {},
   "source": [
    "**Set environment**"
   ]
  },
  {
   "cell_type": "code",
   "execution_count": 1,
   "id": "035aa4b8-3cfa-408e-8252-3587dc911594",
   "metadata": {},
   "outputs": [
    {
     "name": "stdout",
     "output_type": "stream",
     "text": [
      "You are working on        Singularity: singularity_proj_encode_fcc \n",
      "BASE DIRECTORY (FD_BASE): /data/reddylab/Kuei \n",
      "REPO DIRECTORY (FD_REPO): /data/reddylab/Kuei/repo \n",
      "WORK DIRECTORY (FD_WORK): /data/reddylab/Kuei/work \n",
      "DATA DIRECTORY (FD_DATA): /data/reddylab/Kuei/data \n",
      "\n",
      "You are working with      ENCODE FCC \n",
      "PATH OF PROJECT (FD_PRJ): /data/reddylab/Kuei/repo/Proj_ENCODE_FCC \n",
      "PROJECT RESULTS (FD_RES): /data/reddylab/Kuei/repo/Proj_ENCODE_FCC/results \n",
      "PROJECT SCRIPTS (FD_EXE): /data/reddylab/Kuei/repo/Proj_ENCODE_FCC/scripts \n",
      "PROJECT DATA    (FD_DAT): /data/reddylab/Kuei/repo/Proj_ENCODE_FCC/data \n",
      "PROJECT NOTE    (FD_NBK): /data/reddylab/Kuei/repo/Proj_ENCODE_FCC/notebooks \n",
      "PROJECT DOCS    (FD_DOC): /data/reddylab/Kuei/repo/Proj_ENCODE_FCC/docs \n",
      "PROJECT LOG     (FD_LOG): /data/reddylab/Kuei/repo/Proj_ENCODE_FCC/log \n",
      "PROJECT REF     (FD_REF): /data/reddylab/Kuei/repo/Proj_ENCODE_FCC/references \n",
      "\n"
     ]
    }
   ],
   "source": [
    "suppressMessages(suppressWarnings(source(\"../run_config_project_sing.R\")))\n",
    "show_env()"
   ]
  },
  {
   "cell_type": "markdown",
   "id": "f4e60fc5-d9de-44a1-963c-9141620b49d0",
   "metadata": {},
   "source": [
    "**Set global variables**"
   ]
  },
  {
   "cell_type": "code",
   "execution_count": 2,
   "id": "207001ff-f129-42e9-b232-77a3a58b559e",
   "metadata": {},
   "outputs": [
    {
     "name": "stdout",
     "output_type": "stream",
     "text": [
      "atac_ENCFF333TAT \n",
      "atac_ENCFF558BLC \n",
      "atac_ENCFF925CYR \n",
      "atac_ENCFF948AFM \n",
      "dnase_ENCFF185XRG \n",
      "dnase_ENCFF274YGF \n",
      "fcc_astarr_macs_input_overlap \n",
      "fcc_astarr_macs_input_union \n"
     ]
    }
   ],
   "source": [
    "txt_fdiry = file.path(FD_RES, \"region_coverage_fcc\")\n",
    "vec = dir(txt_fdiry)\n",
    "for (txt in vec) {cat(txt, \"\\n\")}"
   ]
  },
  {
   "cell_type": "code",
   "execution_count": 3,
   "id": "9e97d9f2-5785-449c-bcef-58d06bcbf9d3",
   "metadata": {},
   "outputs": [
    {
     "name": "stdout",
     "output_type": "stream",
     "text": [
      "CRISPRi_FlowFISH_K562_Riley_JinWoo \n",
      "CRISPRi_Growth_K562_Gersbach_JinWoo \n",
      "MPRA_Lenti_K562_Nadav_Vikram \n",
      "MPRA_Tiling_K562_Tewhey_Hannah \n",
      "STARR_ATAC_K562_Reddy_KS274 \n",
      "STARR_ATAC_K562_Reddy_KS91 \n",
      "STARR_ATAC_K562_Reddy_KSMerge \n",
      "STARR_WHG_K562_Reddy_A001 \n",
      "summary \n"
     ]
    }
   ],
   "source": [
    "txt_region = \"fcc_astarr_macs_input_union\"\n",
    "txt_fdiry  = file.path(FD_RES, \"region_coverage_fcc\", txt_region)\n",
    "vec = dir(txt_fdiry)\n",
    "for (txt in vec) {cat(txt, \"\\n\")}"
   ]
  },
  {
   "cell_type": "code",
   "execution_count": 4,
   "id": "b42f2510-ef2a-4794-a8ac-5826ae2edbd2",
   "metadata": {},
   "outputs": [
    {
     "name": "stdout",
     "output_type": "stream",
     "text": [
      "fcc_astarr_macs_input_overlap \n",
      "fcc_astarr_macs_input_union \n"
     ]
    }
   ],
   "source": [
    "#txt_fdiry = file.path(FD_RES, \"region_coverage_fcc\")\n",
    "#vec = dir(txt_fdiry)\n",
    "vec = c(\"fcc_astarr_macs_input_overlap\", \"fcc_astarr_macs_input_union\")\n",
    "names(vec) = vec\n",
    "\n",
    "VEC_TXT_FOLDER = vec\n",
    "for (txt in vec) {cat(txt, \"\\n\")}"
   ]
  },
  {
   "cell_type": "markdown",
   "id": "4509274c-8f43-46e1-88dd-b4f1f07f654e",
   "metadata": {},
   "source": [
    "## Import data"
   ]
  },
  {
   "cell_type": "code",
   "execution_count": 5,
   "id": "4183c87d-a540-46c4-9aac-69e2ed0d425e",
   "metadata": {},
   "outputs": [
    {
     "name": "stdout",
     "output_type": "stream",
     "text": [
      "$fcc_astarr_macs_input_overlap\n",
      "[1] 3376    8\n",
      "\n",
      "$fcc_astarr_macs_input_union\n",
      "[1] 4948    8\n",
      "\n"
     ]
    },
    {
     "data": {
      "text/html": [
       "<table class=\"dataframe\">\n",
       "<caption>A tibble: 3 × 8</caption>\n",
       "<thead>\n",
       "\t<tr><th scope=col>Chrom</th><th scope=col>ChromStart</th><th scope=col>ChromEnd</th><th scope=col>Region</th><th scope=col>Assay</th><th scope=col>Score</th><th scope=col>RankNorm</th><th scope=col>Mean</th></tr>\n",
       "\t<tr><th scope=col>&lt;chr&gt;</th><th scope=col>&lt;dbl&gt;</th><th scope=col>&lt;dbl&gt;</th><th scope=col>&lt;chr&gt;</th><th scope=col>&lt;chr&gt;</th><th scope=col>&lt;dbl&gt;</th><th scope=col>&lt;dbl&gt;</th><th scope=col>&lt;dbl&gt;</th></tr>\n",
       "</thead>\n",
       "<tbody>\n",
       "\t<tr><td>chr11</td><td>4551522</td><td>4551988</td><td>chr11:4551522-4551988</td><td>ASTARR</td><td>0.5272279</td><td>0.7428910</td><td>0.4856339</td></tr>\n",
       "\t<tr><td>chr11</td><td>4554256</td><td>4554817</td><td>chr11:4554256-4554817</td><td>ASTARR</td><td>0.1118192</td><td>0.5876777</td><td>0.8163507</td></tr>\n",
       "\t<tr><td>chr11</td><td>4607720</td><td>4608631</td><td>chr11:4607720-4608631</td><td>ASTARR</td><td>0.7417945</td><td>0.8009479</td><td>0.6688389</td></tr>\n",
       "</tbody>\n",
       "</table>\n"
      ],
      "text/latex": [
       "A tibble: 3 × 8\n",
       "\\begin{tabular}{llllllll}\n",
       " Chrom & ChromStart & ChromEnd & Region & Assay & Score & RankNorm & Mean\\\\\n",
       " <chr> & <dbl> & <dbl> & <chr> & <chr> & <dbl> & <dbl> & <dbl>\\\\\n",
       "\\hline\n",
       "\t chr11 & 4551522 & 4551988 & chr11:4551522-4551988 & ASTARR & 0.5272279 & 0.7428910 & 0.4856339\\\\\n",
       "\t chr11 & 4554256 & 4554817 & chr11:4554256-4554817 & ASTARR & 0.1118192 & 0.5876777 & 0.8163507\\\\\n",
       "\t chr11 & 4607720 & 4608631 & chr11:4607720-4608631 & ASTARR & 0.7417945 & 0.8009479 & 0.6688389\\\\\n",
       "\\end{tabular}\n"
      ],
      "text/markdown": [
       "\n",
       "A tibble: 3 × 8\n",
       "\n",
       "| Chrom &lt;chr&gt; | ChromStart &lt;dbl&gt; | ChromEnd &lt;dbl&gt; | Region &lt;chr&gt; | Assay &lt;chr&gt; | Score &lt;dbl&gt; | RankNorm &lt;dbl&gt; | Mean &lt;dbl&gt; |\n",
       "|---|---|---|---|---|---|---|---|\n",
       "| chr11 | 4551522 | 4551988 | chr11:4551522-4551988 | ASTARR | 0.5272279 | 0.7428910 | 0.4856339 |\n",
       "| chr11 | 4554256 | 4554817 | chr11:4554256-4554817 | ASTARR | 0.1118192 | 0.5876777 | 0.8163507 |\n",
       "| chr11 | 4607720 | 4608631 | chr11:4607720-4608631 | ASTARR | 0.7417945 | 0.8009479 | 0.6688389 |\n",
       "\n"
      ],
      "text/plain": [
       "  Chrom ChromStart ChromEnd Region                Assay  Score     RankNorm \n",
       "1 chr11 4551522    4551988  chr11:4551522-4551988 ASTARR 0.5272279 0.7428910\n",
       "2 chr11 4554256    4554817  chr11:4554256-4554817 ASTARR 0.1118192 0.5876777\n",
       "3 chr11 4607720    4608631  chr11:4607720-4608631 ASTARR 0.7417945 0.8009479\n",
       "  Mean     \n",
       "1 0.4856339\n",
       "2 0.8163507\n",
       "3 0.6688389"
      ]
     },
     "metadata": {},
     "output_type": "display_data"
    }
   ],
   "source": [
    "lst = lapply(VEC_TXT_FOLDER, function(txt_folder){\n",
    "    ### set file directory\n",
    "    txt_fdiry  = file.path(\n",
    "        FD_RES, \n",
    "        \"region_coverage_fcc\", \n",
    "        txt_folder, \n",
    "        \"summary\"\n",
    "    )\n",
    "    txt_fname = \"result.coverage.ranknorm.starrmpra.total.tsv\"\n",
    "    txt_fpath = file.path(txt_fdiry, txt_fname)\n",
    "\n",
    "    ### read table\n",
    "    dat = read_tsv(txt_fpath, show_col_types = FALSE)\n",
    "    return(dat)\n",
    "})\n",
    "\n",
    "### assign and show\n",
    "lst_dat_region_score_starrmpra_import = lst\n",
    "\n",
    "res = lapply(lst, dim)\n",
    "print(res)\n",
    "\n",
    "dat = lst[[1]]\n",
    "head(dat, 3)"
   ]
  },
  {
   "cell_type": "code",
   "execution_count": 6,
   "id": "daa9c742-8f99-488a-bb5d-dd4466ffd21d",
   "metadata": {},
   "outputs": [
    {
     "data": {
      "text/html": [
       "<style>\n",
       ".list-inline {list-style: none; margin:0; padding: 0}\n",
       ".list-inline>li {display: inline-block}\n",
       ".list-inline>li:not(:last-child)::after {content: \"\\00b7\"; padding: 0 .5ex}\n",
       "</style>\n",
       "<ol class=list-inline><li>'region.coverage.score.by_target.tsv'</li><li>'region.coverage.score.filtered.by_target.tsv'</li><li>'region.coverage.score.filtered.merge.tsv'</li><li>'region.coverage.score.merge.tsv'</li><li>'region.coverage.score.total.by_target.tsv'</li><li>'region.coverage.score.total.merge.tsv'</li><li>'result.coverage.score.filtered.tsv'</li><li>'result.coverage.score.tsv'</li><li>'result.coverage.zscore.tsv'</li><li>'result.score.filtered.tsv'</li><li>'result.score.tsv'</li></ol>\n"
      ],
      "text/latex": [
       "\\begin{enumerate*}\n",
       "\\item 'region.coverage.score.by\\_target.tsv'\n",
       "\\item 'region.coverage.score.filtered.by\\_target.tsv'\n",
       "\\item 'region.coverage.score.filtered.merge.tsv'\n",
       "\\item 'region.coverage.score.merge.tsv'\n",
       "\\item 'region.coverage.score.total.by\\_target.tsv'\n",
       "\\item 'region.coverage.score.total.merge.tsv'\n",
       "\\item 'result.coverage.score.filtered.tsv'\n",
       "\\item 'result.coverage.score.tsv'\n",
       "\\item 'result.coverage.zscore.tsv'\n",
       "\\item 'result.score.filtered.tsv'\n",
       "\\item 'result.score.tsv'\n",
       "\\end{enumerate*}\n"
      ],
      "text/markdown": [
       "1. 'region.coverage.score.by_target.tsv'\n",
       "2. 'region.coverage.score.filtered.by_target.tsv'\n",
       "3. 'region.coverage.score.filtered.merge.tsv'\n",
       "4. 'region.coverage.score.merge.tsv'\n",
       "5. 'region.coverage.score.total.by_target.tsv'\n",
       "6. 'region.coverage.score.total.merge.tsv'\n",
       "7. 'result.coverage.score.filtered.tsv'\n",
       "8. 'result.coverage.score.tsv'\n",
       "9. 'result.coverage.zscore.tsv'\n",
       "10. 'result.score.filtered.tsv'\n",
       "11. 'result.score.tsv'\n",
       "\n",
       "\n"
      ],
      "text/plain": [
       " [1] \"region.coverage.score.by_target.tsv\"         \n",
       " [2] \"region.coverage.score.filtered.by_target.tsv\"\n",
       " [3] \"region.coverage.score.filtered.merge.tsv\"    \n",
       " [4] \"region.coverage.score.merge.tsv\"             \n",
       " [5] \"region.coverage.score.total.by_target.tsv\"   \n",
       " [6] \"region.coverage.score.total.merge.tsv\"       \n",
       " [7] \"result.coverage.score.filtered.tsv\"          \n",
       " [8] \"result.coverage.score.tsv\"                   \n",
       " [9] \"result.coverage.zscore.tsv\"                  \n",
       "[10] \"result.score.filtered.tsv\"                   \n",
       "[11] \"result.score.tsv\"                            "
      ]
     },
     "metadata": {},
     "output_type": "display_data"
    }
   ],
   "source": [
    "txt_assay = \"CRISPRi_FlowFISH_K562_Riley_JinWoo\"\n",
    "txt_folder = VEC_TXT_FOLDER[1]\n",
    "txt_fdiry  = file.path(\n",
    "    FD_RES, \n",
    "    \"region_coverage_fcc\", \n",
    "    txt_folder, \n",
    "    txt_assay,\n",
    "    \"overlap_score\",\n",
    "    \"summary\"\n",
    ")\n",
    "dir(txt_fdiry)"
   ]
  },
  {
   "cell_type": "code",
   "execution_count": 7,
   "id": "30b78bda-02dc-45b2-9338-76aac7717450",
   "metadata": {},
   "outputs": [
    {
     "name": "stdout",
     "output_type": "stream",
     "text": [
      "$fcc_astarr_macs_input_overlap\n",
      "[1] 925   9\n",
      "\n",
      "$fcc_astarr_macs_input_union\n",
      "[1] 1330    9\n",
      "\n"
     ]
    },
    {
     "data": {
      "text/html": [
       "<table class=\"dataframe\">\n",
       "<caption>A tibble: 3 × 9</caption>\n",
       "<thead>\n",
       "\t<tr><th scope=col>Chrom</th><th scope=col>ChromStart</th><th scope=col>ChromEnd</th><th scope=col>Region</th><th scope=col>Mean</th><th scope=col>Mean_Pos</th><th scope=col>Mean_Neg</th><th scope=col>Count</th><th scope=col>Note</th></tr>\n",
       "\t<tr><th scope=col>&lt;chr&gt;</th><th scope=col>&lt;dbl&gt;</th><th scope=col>&lt;dbl&gt;</th><th scope=col>&lt;chr&gt;</th><th scope=col>&lt;dbl&gt;</th><th scope=col>&lt;dbl&gt;</th><th scope=col>&lt;dbl&gt;</th><th scope=col>&lt;dbl&gt;</th><th scope=col>&lt;chr&gt;</th></tr>\n",
       "</thead>\n",
       "<tbody>\n",
       "\t<tr><td>chr11</td><td>4092109</td><td>4092511</td><td>chr11:4092109-4092511</td><td>-0.12943640</td><td>0.00000000</td><td>-0.2425928</td><td> 320</td><td>HBE1:320|HBG1:320|HBG2:320|HBS1L:320|MYB:320     </td></tr>\n",
       "\t<tr><td>chr11</td><td>4094223</td><td>4095304</td><td>chr11:4094223-4095304</td><td>-0.04849565</td><td>0.09460382</td><td>-0.2516657</td><td>1030</td><td>HBE1:1030|HBG1:1030|HBG2:1030|HBS1L:1030|MYB:1030</td></tr>\n",
       "\t<tr><td>chr11</td><td>4144721</td><td>4147004</td><td>chr11:4144721-4147004</td><td>-0.07024901</td><td>0.00000000</td><td>-0.1515237</td><td>1185</td><td>HBE1:1185|HBG1:1185|HBG2:1185|HBS1L:1185|MYB:1185</td></tr>\n",
       "</tbody>\n",
       "</table>\n"
      ],
      "text/latex": [
       "A tibble: 3 × 9\n",
       "\\begin{tabular}{lllllllll}\n",
       " Chrom & ChromStart & ChromEnd & Region & Mean & Mean\\_Pos & Mean\\_Neg & Count & Note\\\\\n",
       " <chr> & <dbl> & <dbl> & <chr> & <dbl> & <dbl> & <dbl> & <dbl> & <chr>\\\\\n",
       "\\hline\n",
       "\t chr11 & 4092109 & 4092511 & chr11:4092109-4092511 & -0.12943640 & 0.00000000 & -0.2425928 &  320 & HBE1:320\\textbar{}HBG1:320\\textbar{}HBG2:320\\textbar{}HBS1L:320\\textbar{}MYB:320     \\\\\n",
       "\t chr11 & 4094223 & 4095304 & chr11:4094223-4095304 & -0.04849565 & 0.09460382 & -0.2516657 & 1030 & HBE1:1030\\textbar{}HBG1:1030\\textbar{}HBG2:1030\\textbar{}HBS1L:1030\\textbar{}MYB:1030\\\\\n",
       "\t chr11 & 4144721 & 4147004 & chr11:4144721-4147004 & -0.07024901 & 0.00000000 & -0.1515237 & 1185 & HBE1:1185\\textbar{}HBG1:1185\\textbar{}HBG2:1185\\textbar{}HBS1L:1185\\textbar{}MYB:1185\\\\\n",
       "\\end{tabular}\n"
      ],
      "text/markdown": [
       "\n",
       "A tibble: 3 × 9\n",
       "\n",
       "| Chrom &lt;chr&gt; | ChromStart &lt;dbl&gt; | ChromEnd &lt;dbl&gt; | Region &lt;chr&gt; | Mean &lt;dbl&gt; | Mean_Pos &lt;dbl&gt; | Mean_Neg &lt;dbl&gt; | Count &lt;dbl&gt; | Note &lt;chr&gt; |\n",
       "|---|---|---|---|---|---|---|---|---|\n",
       "| chr11 | 4092109 | 4092511 | chr11:4092109-4092511 | -0.12943640 | 0.00000000 | -0.2425928 |  320 | HBE1:320|HBG1:320|HBG2:320|HBS1L:320|MYB:320      |\n",
       "| chr11 | 4094223 | 4095304 | chr11:4094223-4095304 | -0.04849565 | 0.09460382 | -0.2516657 | 1030 | HBE1:1030|HBG1:1030|HBG2:1030|HBS1L:1030|MYB:1030 |\n",
       "| chr11 | 4144721 | 4147004 | chr11:4144721-4147004 | -0.07024901 | 0.00000000 | -0.1515237 | 1185 | HBE1:1185|HBG1:1185|HBG2:1185|HBS1L:1185|MYB:1185 |\n",
       "\n"
      ],
      "text/plain": [
       "  Chrom ChromStart ChromEnd Region                Mean        Mean_Pos  \n",
       "1 chr11 4092109    4092511  chr11:4092109-4092511 -0.12943640 0.00000000\n",
       "2 chr11 4094223    4095304  chr11:4094223-4095304 -0.04849565 0.09460382\n",
       "3 chr11 4144721    4147004  chr11:4144721-4147004 -0.07024901 0.00000000\n",
       "  Mean_Neg   Count Note                                             \n",
       "1 -0.2425928  320  HBE1:320|HBG1:320|HBG2:320|HBS1L:320|MYB:320     \n",
       "2 -0.2516657 1030  HBE1:1030|HBG1:1030|HBG2:1030|HBS1L:1030|MYB:1030\n",
       "3 -0.1515237 1185  HBE1:1185|HBG1:1185|HBG2:1185|HBS1L:1185|MYB:1185"
      ]
     },
     "metadata": {},
     "output_type": "display_data"
    }
   ],
   "source": [
    "txt_assay = \"CRISPRi_FlowFISH_K562_Riley_JinWoo\"\n",
    "\n",
    "lst = lapply(VEC_TXT_FOLDER, function(txt_folder){\n",
    "    ### set file directory\n",
    "    txt_fdiry  = file.path(\n",
    "        FD_RES, \n",
    "        \"region_coverage_fcc\", \n",
    "        txt_folder, \n",
    "        txt_assay,\n",
    "        \"overlap_score\",\n",
    "        \"summary\"\n",
    "    )\n",
    "    #txt_fname = \"result.coverage.score.filtered.tsv\"\n",
    "    txt_fname = \"region.coverage.score.filtered.merge.tsv\"\n",
    "    txt_fpath = file.path(txt_fdiry, txt_fname)\n",
    "\n",
    "    ### read table\n",
    "    dat = read_tsv(txt_fpath, show_col_types = FALSE)\n",
    "    return(dat)\n",
    "})\n",
    "\n",
    "### assign and show\n",
    "lst_dat_region_score_chcrff_import = lst\n",
    "\n",
    "res = lapply(lst, dim)\n",
    "print(res)\n",
    "\n",
    "dat = lst[[1]]\n",
    "head(dat, 3)"
   ]
  },
  {
   "cell_type": "code",
   "execution_count": 9,
   "id": "fc3918b5-70d4-48fe-80eb-66995e7e5dba",
   "metadata": {},
   "outputs": [
    {
     "name": "stdout",
     "output_type": "stream",
     "text": [
      "$fcc_astarr_macs_input_overlap\n",
      "[1] 72743    11\n",
      "\n",
      "$fcc_astarr_macs_input_union\n",
      "[1] 80288    11\n",
      "\n"
     ]
    },
    {
     "data": {
      "text/html": [
       "<table class=\"dataframe\">\n",
       "<caption>A tibble: 3 × 11</caption>\n",
       "<thead>\n",
       "\t<tr><th scope=col>Chrom</th><th scope=col>ChromStart</th><th scope=col>ChromEnd</th><th scope=col>Region</th><th scope=col>Mean</th><th scope=col>Median</th><th scope=col>Max</th><th scope=col>Min</th><th scope=col>Count</th><th scope=col>Mean_Neg</th><th scope=col>Mean_Pos</th></tr>\n",
       "\t<tr><th scope=col>&lt;chr&gt;</th><th scope=col>&lt;dbl&gt;</th><th scope=col>&lt;dbl&gt;</th><th scope=col>&lt;chr&gt;</th><th scope=col>&lt;dbl&gt;</th><th scope=col>&lt;dbl&gt;</th><th scope=col>&lt;dbl&gt;</th><th scope=col>&lt;dbl&gt;</th><th scope=col>&lt;dbl&gt;</th><th scope=col>&lt;dbl&gt;</th><th scope=col>&lt;dbl&gt;</th></tr>\n",
       "</thead>\n",
       "<tbody>\n",
       "\t<tr><td>chr1</td><td>605104</td><td>605675</td><td>chr1:605104-605675</td><td> 0.0904152</td><td>-0.2365345</td><td>3.171240</td><td>-0.774100</td><td>10</td><td>-0.3442168</td><td>1.8289430</td></tr>\n",
       "\t<tr><td>chr1</td><td>778233</td><td>779389</td><td>chr1:778233-779389</td><td> 0.1162065</td><td> 0.0869985</td><td>0.666834</td><td>-0.405530</td><td>10</td><td>-0.2424447</td><td>0.3553073</td></tr>\n",
       "\t<tr><td>chr1</td><td>817031</td><td>817525</td><td>chr1:817031-817525</td><td>-0.2753540</td><td>-0.4340535</td><td>1.049030</td><td>-0.928019</td><td> 6</td><td>-0.5402308</td><td>1.0490300</td></tr>\n",
       "</tbody>\n",
       "</table>\n"
      ],
      "text/latex": [
       "A tibble: 3 × 11\n",
       "\\begin{tabular}{lllllllllll}\n",
       " Chrom & ChromStart & ChromEnd & Region & Mean & Median & Max & Min & Count & Mean\\_Neg & Mean\\_Pos\\\\\n",
       " <chr> & <dbl> & <dbl> & <chr> & <dbl> & <dbl> & <dbl> & <dbl> & <dbl> & <dbl> & <dbl>\\\\\n",
       "\\hline\n",
       "\t chr1 & 605104 & 605675 & chr1:605104-605675 &  0.0904152 & -0.2365345 & 3.171240 & -0.774100 & 10 & -0.3442168 & 1.8289430\\\\\n",
       "\t chr1 & 778233 & 779389 & chr1:778233-779389 &  0.1162065 &  0.0869985 & 0.666834 & -0.405530 & 10 & -0.2424447 & 0.3553073\\\\\n",
       "\t chr1 & 817031 & 817525 & chr1:817031-817525 & -0.2753540 & -0.4340535 & 1.049030 & -0.928019 &  6 & -0.5402308 & 1.0490300\\\\\n",
       "\\end{tabular}\n"
      ],
      "text/markdown": [
       "\n",
       "A tibble: 3 × 11\n",
       "\n",
       "| Chrom &lt;chr&gt; | ChromStart &lt;dbl&gt; | ChromEnd &lt;dbl&gt; | Region &lt;chr&gt; | Mean &lt;dbl&gt; | Median &lt;dbl&gt; | Max &lt;dbl&gt; | Min &lt;dbl&gt; | Count &lt;dbl&gt; | Mean_Neg &lt;dbl&gt; | Mean_Pos &lt;dbl&gt; |\n",
       "|---|---|---|---|---|---|---|---|---|---|---|\n",
       "| chr1 | 605104 | 605675 | chr1:605104-605675 |  0.0904152 | -0.2365345 | 3.171240 | -0.774100 | 10 | -0.3442168 | 1.8289430 |\n",
       "| chr1 | 778233 | 779389 | chr1:778233-779389 |  0.1162065 |  0.0869985 | 0.666834 | -0.405530 | 10 | -0.2424447 | 0.3553073 |\n",
       "| chr1 | 817031 | 817525 | chr1:817031-817525 | -0.2753540 | -0.4340535 | 1.049030 | -0.928019 |  6 | -0.5402308 | 1.0490300 |\n",
       "\n"
      ],
      "text/plain": [
       "  Chrom ChromStart ChromEnd Region             Mean       Median     Max     \n",
       "1 chr1  605104     605675   chr1:605104-605675  0.0904152 -0.2365345 3.171240\n",
       "2 chr1  778233     779389   chr1:778233-779389  0.1162065  0.0869985 0.666834\n",
       "3 chr1  817031     817525   chr1:817031-817525 -0.2753540 -0.4340535 1.049030\n",
       "  Min       Count Mean_Neg   Mean_Pos \n",
       "1 -0.774100 10    -0.3442168 1.8289430\n",
       "2 -0.405530 10    -0.2424447 0.3553073\n",
       "3 -0.928019  6    -0.5402308 1.0490300"
      ]
     },
     "metadata": {},
     "output_type": "display_data"
    }
   ],
   "source": [
    "txt_assay = \"CRISPRi_Growth_K562_Gersbach_JinWoo\"\n",
    "\n",
    "lst = lapply(VEC_TXT_FOLDER, function(txt_folder){\n",
    "    ### set file directory\n",
    "    txt_fdiry  = file.path(\n",
    "        FD_RES, \n",
    "        \"region_coverage_fcc\", \n",
    "        txt_folder, \n",
    "        txt_assay,\n",
    "        \"overlap_score\",\n",
    "        \"summary\"\n",
    "    )\n",
    "    txt_fname = \"region.coverage.score.tsv\"\n",
    "    txt_fpath = file.path(txt_fdiry, txt_fname)\n",
    "\n",
    "    ### read table\n",
    "    dat = read_tsv(txt_fpath, show_col_types = FALSE)\n",
    "    return(dat)\n",
    "})\n",
    "\n",
    "### assign and show\n",
    "lst_dat_region_score_cgrowth_import = lst\n",
    "\n",
    "res = lapply(lst, dim)\n",
    "print(res)\n",
    "\n",
    "dat = lst[[1]]\n",
    "head(dat, 3)"
   ]
  },
  {
   "cell_type": "code",
   "execution_count": 24,
   "id": "fa4ff57b-2d9e-4b3f-8d11-e2c9ce90c431",
   "metadata": {},
   "outputs": [
    {
     "name": "stdout",
     "output_type": "stream",
     "text": [
      "/data/reddylab/Kuei/repo/Proj_ENCODE_FCC/results/region_coverage_fcc/fcc_astarr_macs_input_overlap/summary/result.coverage.score.atac.tsv \n",
      "/data/reddylab/Kuei/repo/Proj_ENCODE_FCC/results/region_coverage_fcc/fcc_astarr_macs_input_union/summary/result.coverage.score.atac.tsv \n"
     ]
    }
   ],
   "source": [
    "### set file directory\n",
    "txt_fdiry  = file.path(\n",
    "    FD_RES, \n",
    "    \"region_coverage_fcc\", \n",
    "    \"*\", \n",
    "    \"summary\"\n",
    ")\n",
    "txt_fname = \"result.coverage.score.atac.tsv\"\n",
    "txt_fglob = file.path(txt_fdiry, txt_fname)\n",
    "\n",
    "vec = Sys.glob(txt_fglob)\n",
    "for (txt in vec){cat(txt, \"\\n\")}"
   ]
  },
  {
   "cell_type": "code",
   "execution_count": 25,
   "id": "3d7b5a6d-716b-4ae9-b9cf-9031e5a8d01e",
   "metadata": {},
   "outputs": [
    {
     "name": "stdout",
     "output_type": "stream",
     "text": [
      "$fcc_astarr_macs_input_overlap\n",
      "[1] 150041      9\n",
      "\n",
      "$fcc_astarr_macs_input_union\n",
      "[1] 246852      9\n",
      "\n"
     ]
    },
    {
     "data": {
      "text/html": [
       "<table class=\"dataframe\">\n",
       "<caption>A tibble: 3 × 9</caption>\n",
       "<thead>\n",
       "\t<tr><th scope=col>Chrom</th><th scope=col>ChromStart</th><th scope=col>ChromEnd</th><th scope=col>Region</th><th scope=col>Score</th><th scope=col>Assay_Name</th><th scope=col>Assay_Type</th><th scope=col>Assay_Group</th><th scope=col>Assay_Label</th></tr>\n",
       "\t<tr><th scope=col>&lt;chr&gt;</th><th scope=col>&lt;dbl&gt;</th><th scope=col>&lt;dbl&gt;</th><th scope=col>&lt;chr&gt;</th><th scope=col>&lt;dbl&gt;</th><th scope=col>&lt;chr&gt;</th><th scope=col>&lt;chr&gt;</th><th scope=col>&lt;chr&gt;</th><th scope=col>&lt;chr&gt;</th></tr>\n",
       "</thead>\n",
       "<tbody>\n",
       "\t<tr><td>chr1</td><td>10038</td><td>10405</td><td>chr1:10038-10405</td><td>3.940038</td><td>STARR_ATAC_K562_Reddy_KS91</td><td>ATAC</td><td>ASTARR_KS91</td><td>ATAC</td></tr>\n",
       "\t<tr><td>chr1</td><td>14282</td><td>14614</td><td>chr1:14282-14614</td><td>2.841707</td><td>STARR_ATAC_K562_Reddy_KS91</td><td>ATAC</td><td>ASTARR_KS91</td><td>ATAC</td></tr>\n",
       "\t<tr><td>chr1</td><td>16025</td><td>16338</td><td>chr1:16025-16338</td><td>3.830812</td><td>STARR_ATAC_K562_Reddy_KS91</td><td>ATAC</td><td>ASTARR_KS91</td><td>ATAC</td></tr>\n",
       "</tbody>\n",
       "</table>\n"
      ],
      "text/latex": [
       "A tibble: 3 × 9\n",
       "\\begin{tabular}{lllllllll}\n",
       " Chrom & ChromStart & ChromEnd & Region & Score & Assay\\_Name & Assay\\_Type & Assay\\_Group & Assay\\_Label\\\\\n",
       " <chr> & <dbl> & <dbl> & <chr> & <dbl> & <chr> & <chr> & <chr> & <chr>\\\\\n",
       "\\hline\n",
       "\t chr1 & 10038 & 10405 & chr1:10038-10405 & 3.940038 & STARR\\_ATAC\\_K562\\_Reddy\\_KS91 & ATAC & ASTARR\\_KS91 & ATAC\\\\\n",
       "\t chr1 & 14282 & 14614 & chr1:14282-14614 & 2.841707 & STARR\\_ATAC\\_K562\\_Reddy\\_KS91 & ATAC & ASTARR\\_KS91 & ATAC\\\\\n",
       "\t chr1 & 16025 & 16338 & chr1:16025-16338 & 3.830812 & STARR\\_ATAC\\_K562\\_Reddy\\_KS91 & ATAC & ASTARR\\_KS91 & ATAC\\\\\n",
       "\\end{tabular}\n"
      ],
      "text/markdown": [
       "\n",
       "A tibble: 3 × 9\n",
       "\n",
       "| Chrom &lt;chr&gt; | ChromStart &lt;dbl&gt; | ChromEnd &lt;dbl&gt; | Region &lt;chr&gt; | Score &lt;dbl&gt; | Assay_Name &lt;chr&gt; | Assay_Type &lt;chr&gt; | Assay_Group &lt;chr&gt; | Assay_Label &lt;chr&gt; |\n",
       "|---|---|---|---|---|---|---|---|---|\n",
       "| chr1 | 10038 | 10405 | chr1:10038-10405 | 3.940038 | STARR_ATAC_K562_Reddy_KS91 | ATAC | ASTARR_KS91 | ATAC |\n",
       "| chr1 | 14282 | 14614 | chr1:14282-14614 | 2.841707 | STARR_ATAC_K562_Reddy_KS91 | ATAC | ASTARR_KS91 | ATAC |\n",
       "| chr1 | 16025 | 16338 | chr1:16025-16338 | 3.830812 | STARR_ATAC_K562_Reddy_KS91 | ATAC | ASTARR_KS91 | ATAC |\n",
       "\n"
      ],
      "text/plain": [
       "  Chrom ChromStart ChromEnd Region           Score   \n",
       "1 chr1  10038      10405    chr1:10038-10405 3.940038\n",
       "2 chr1  14282      14614    chr1:14282-14614 2.841707\n",
       "3 chr1  16025      16338    chr1:16025-16338 3.830812\n",
       "  Assay_Name                 Assay_Type Assay_Group Assay_Label\n",
       "1 STARR_ATAC_K562_Reddy_KS91 ATAC       ASTARR_KS91 ATAC       \n",
       "2 STARR_ATAC_K562_Reddy_KS91 ATAC       ASTARR_KS91 ATAC       \n",
       "3 STARR_ATAC_K562_Reddy_KS91 ATAC       ASTARR_KS91 ATAC       "
      ]
     },
     "metadata": {},
     "output_type": "display_data"
    }
   ],
   "source": [
    "lst = lapply(VEC_TXT_FOLDER, function(txt_folder){\n",
    "    ### set file directory\n",
    "    txt_fdiry  = file.path(\n",
    "        FD_RES, \n",
    "        \"region_coverage_fcc\", \n",
    "        txt_folder, \n",
    "        \"summary\"\n",
    "    )\n",
    "    txt_fname = \"result.coverage.score.atac.tsv\"\n",
    "    txt_fpath = file.path(txt_fdiry, txt_fname)\n",
    "\n",
    "    ### read table\n",
    "    dat = read_tsv(txt_fpath, show_col_types = FALSE)\n",
    "    return(dat)\n",
    "})\n",
    "\n",
    "### assign and show\n",
    "lst_dat_region_score_atac_import = lst\n",
    "\n",
    "res = lapply(lst, dim)\n",
    "print(res)\n",
    "\n",
    "dat = lst[[1]]\n",
    "head(dat, 3)"
   ]
  },
  {
   "cell_type": "markdown",
   "id": "71f3ff2f-dd1d-4aba-aedd-dd1eb92a0524",
   "metadata": {},
   "source": [
    "## Arrange table"
   ]
  },
  {
   "cell_type": "markdown",
   "id": "2aebdef7-ece7-45f4-8532-f5d1af305ab5",
   "metadata": {},
   "source": [
    "**STARR/MPRA**"
   ]
  },
  {
   "cell_type": "code",
   "execution_count": 14,
   "id": "c720fedb-d36c-43db-993f-1ba7d4805c3a",
   "metadata": {},
   "outputs": [],
   "source": [
    "VEC_TXT_ASSAY = c(\"ASTARR\", \"WSTARR\", \"LMPRA\", \"TMPRA\")"
   ]
  },
  {
   "cell_type": "code",
   "execution_count": 15,
   "id": "1e386879-1247-44cf-b9eb-a4608969b3af",
   "metadata": {},
   "outputs": [
    {
     "name": "stdout",
     "output_type": "stream",
     "text": [
      "[1] 4948    8\n"
     ]
    },
    {
     "data": {
      "text/html": [
       "<table>\n",
       " <thead>\n",
       "  <tr>\n",
       "   <th style=\"text-align:left;\"> Chrom </th>\n",
       "   <th style=\"text-align:right;\"> ChromStart </th>\n",
       "   <th style=\"text-align:right;\"> ChromEnd </th>\n",
       "   <th style=\"text-align:left;\"> Region </th>\n",
       "   <th style=\"text-align:left;\"> Assay </th>\n",
       "   <th style=\"text-align:right;\"> Score </th>\n",
       "   <th style=\"text-align:right;\"> RankNorm </th>\n",
       "   <th style=\"text-align:right;\"> Mean </th>\n",
       "  </tr>\n",
       " </thead>\n",
       "<tbody>\n",
       "  <tr>\n",
       "   <td style=\"text-align:left;\"> chr11 </td>\n",
       "   <td style=\"text-align:right;\"> 4539569 </td>\n",
       "   <td style=\"text-align:right;\"> 4540043 </td>\n",
       "   <td style=\"text-align:left;\"> chr11:4539569-4540043 </td>\n",
       "   <td style=\"text-align:left;\"> ASTARR </td>\n",
       "   <td style=\"text-align:right;\"> 0.3923719 </td>\n",
       "   <td style=\"text-align:right;\"> 0.7000808 </td>\n",
       "   <td style=\"text-align:right;\"> 0.3839935 </td>\n",
       "  </tr>\n",
       "  <tr>\n",
       "   <td style=\"text-align:left;\"> chr11 </td>\n",
       "   <td style=\"text-align:right;\"> 4551336 </td>\n",
       "   <td style=\"text-align:right;\"> 4552012 </td>\n",
       "   <td style=\"text-align:left;\"> chr11:4551336-4552012 </td>\n",
       "   <td style=\"text-align:left;\"> ASTARR </td>\n",
       "   <td style=\"text-align:right;\"> 0.7410411 </td>\n",
       "   <td style=\"text-align:right;\"> 0.8100243 </td>\n",
       "   <td style=\"text-align:right;\"> 0.5588116 </td>\n",
       "  </tr>\n",
       "  <tr>\n",
       "   <td style=\"text-align:left;\"> chr11 </td>\n",
       "   <td style=\"text-align:right;\"> 4553969 </td>\n",
       "   <td style=\"text-align:right;\"> 4555012 </td>\n",
       "   <td style=\"text-align:left;\"> chr11:4553969-4555012 </td>\n",
       "   <td style=\"text-align:left;\"> ASTARR </td>\n",
       "   <td style=\"text-align:right;\"> 0.4063894 </td>\n",
       "   <td style=\"text-align:right;\"> 0.7089733 </td>\n",
       "   <td style=\"text-align:right;\"> 0.7928456 </td>\n",
       "  </tr>\n",
       "  <tr>\n",
       "   <td style=\"text-align:left;\"> chr11 </td>\n",
       "   <td style=\"text-align:right;\"> 4569016 </td>\n",
       "   <td style=\"text-align:right;\"> 4569992 </td>\n",
       "   <td style=\"text-align:left;\"> chr11:4569016-4569992 </td>\n",
       "   <td style=\"text-align:left;\"> ASTARR </td>\n",
       "   <td style=\"text-align:right;\"> 0.1426206 </td>\n",
       "   <td style=\"text-align:right;\"> 0.6054972 </td>\n",
       "   <td style=\"text-align:right;\"> 0.3524656 </td>\n",
       "  </tr>\n",
       "  <tr>\n",
       "   <td style=\"text-align:left;\"> chr11 </td>\n",
       "   <td style=\"text-align:right;\"> 4601808 </td>\n",
       "   <td style=\"text-align:right;\"> 4602487 </td>\n",
       "   <td style=\"text-align:left;\"> chr11:4601808-4602487 </td>\n",
       "   <td style=\"text-align:left;\"> ASTARR </td>\n",
       "   <td style=\"text-align:right;\"> -0.8709535 </td>\n",
       "   <td style=\"text-align:right;\"> 0.1220695 </td>\n",
       "   <td style=\"text-align:right;\"> 0.1840137 </td>\n",
       "  </tr>\n",
       "  <tr>\n",
       "   <td style=\"text-align:left;\"> chr11 </td>\n",
       "   <td style=\"text-align:right;\"> 4607676 </td>\n",
       "   <td style=\"text-align:right;\"> 4608647 </td>\n",
       "   <td style=\"text-align:left;\"> chr11:4607676-4608647 </td>\n",
       "   <td style=\"text-align:left;\"> ASTARR </td>\n",
       "   <td style=\"text-align:right;\"> 0.9139146 </td>\n",
       "   <td style=\"text-align:right;\"> 0.8480194 </td>\n",
       "   <td style=\"text-align:right;\"> 0.7164511 </td>\n",
       "  </tr>\n",
       "</tbody>\n",
       "</table>"
      ]
     },
     "metadata": {},
     "output_type": "display_data"
    }
   ],
   "source": [
    "txt = \"fcc_astarr_macs_input_union\"\n",
    "lst = lst_dat_region_score_starrmpra_import\n",
    "dat = lst[[txt]]\n",
    "dat_region_score_starrmpra_import = dat\n",
    "print(dim(dat))\n",
    "fun_display_table(head(dat))"
   ]
  },
  {
   "cell_type": "code",
   "execution_count": 16,
   "id": "a764dfb1-c365-473e-bec2-e0074e5ffe6d",
   "metadata": {},
   "outputs": [
    {
     "name": "stdout",
     "output_type": "stream",
     "text": [
      "[1] 1237\n"
     ]
    }
   ],
   "source": [
    "dat = dat_region_score_starrmpra_import\n",
    "dat = dat %>% \n",
    "    dplyr::select(Region, Mean) %>% \n",
    "    dplyr::distinct() %>%\n",
    "    dplyr::arrange(Mean)\n",
    "vec = dat$Region\n",
    "\n",
    "VEC_TXT_REGION = vec\n",
    "print(length(vec))"
   ]
  },
  {
   "cell_type": "code",
   "execution_count": 17,
   "id": "47496007-7a0d-4029-90c0-8c5e1910b27e",
   "metadata": {},
   "outputs": [
    {
     "name": "stdout",
     "output_type": "stream",
     "text": [
      "[1] 4948    8\n"
     ]
    },
    {
     "data": {
      "text/html": [
       "<table>\n",
       " <thead>\n",
       "  <tr>\n",
       "   <th style=\"text-align:left;\"> Chrom </th>\n",
       "   <th style=\"text-align:right;\"> ChromStart </th>\n",
       "   <th style=\"text-align:right;\"> ChromEnd </th>\n",
       "   <th style=\"text-align:left;\"> Region </th>\n",
       "   <th style=\"text-align:left;\"> Assay </th>\n",
       "   <th style=\"text-align:right;\"> Score </th>\n",
       "   <th style=\"text-align:right;\"> RankNorm </th>\n",
       "   <th style=\"text-align:right;\"> Mean </th>\n",
       "  </tr>\n",
       " </thead>\n",
       "<tbody>\n",
       "  <tr>\n",
       "   <td style=\"text-align:left;\"> chr11 </td>\n",
       "   <td style=\"text-align:right;\"> 4539569 </td>\n",
       "   <td style=\"text-align:right;\"> 4540043 </td>\n",
       "   <td style=\"text-align:left;\"> chr11:4539569-4540043 </td>\n",
       "   <td style=\"text-align:left;\"> ASTARR </td>\n",
       "   <td style=\"text-align:right;\"> 0.3923719 </td>\n",
       "   <td style=\"text-align:right;\"> 0.7000808 </td>\n",
       "   <td style=\"text-align:right;\"> 0.3839935 </td>\n",
       "  </tr>\n",
       "  <tr>\n",
       "   <td style=\"text-align:left;\"> chr11 </td>\n",
       "   <td style=\"text-align:right;\"> 4551336 </td>\n",
       "   <td style=\"text-align:right;\"> 4552012 </td>\n",
       "   <td style=\"text-align:left;\"> chr11:4551336-4552012 </td>\n",
       "   <td style=\"text-align:left;\"> ASTARR </td>\n",
       "   <td style=\"text-align:right;\"> 0.7410411 </td>\n",
       "   <td style=\"text-align:right;\"> 0.8100243 </td>\n",
       "   <td style=\"text-align:right;\"> 0.5588116 </td>\n",
       "  </tr>\n",
       "  <tr>\n",
       "   <td style=\"text-align:left;\"> chr11 </td>\n",
       "   <td style=\"text-align:right;\"> 4553969 </td>\n",
       "   <td style=\"text-align:right;\"> 4555012 </td>\n",
       "   <td style=\"text-align:left;\"> chr11:4553969-4555012 </td>\n",
       "   <td style=\"text-align:left;\"> ASTARR </td>\n",
       "   <td style=\"text-align:right;\"> 0.4063894 </td>\n",
       "   <td style=\"text-align:right;\"> 0.7089733 </td>\n",
       "   <td style=\"text-align:right;\"> 0.7928456 </td>\n",
       "  </tr>\n",
       "</tbody>\n",
       "</table>"
      ]
     },
     "metadata": {},
     "output_type": "display_data"
    }
   ],
   "source": [
    "dat = dat_region_score_starrmpra_import\n",
    "dat = dat %>%\n",
    "    dplyr::mutate(\n",
    "        Assay  = factor(Assay,  levels=VEC_TXT_ASSAY),\n",
    "        Region = factor(Region, levels=VEC_TXT_REGION),\n",
    "    )\n",
    "\n",
    "dat_region_score_starrmpra_arrange = dat\n",
    "print(dim(dat))\n",
    "fun_display_table(head(dat, 3))"
   ]
  },
  {
   "cell_type": "markdown",
   "id": "a92044fd-eb33-4580-9ad6-7733c80f0207",
   "metadata": {},
   "source": [
    "**Region**"
   ]
  },
  {
   "cell_type": "code",
   "execution_count": 18,
   "id": "41091ce2-ed5a-4176-98d0-8fabb5fc799c",
   "metadata": {},
   "outputs": [
    {
     "name": "stdout",
     "output_type": "stream",
     "text": [
      "[1] 1237    4\n"
     ]
    },
    {
     "data": {
      "text/html": [
       "<table>\n",
       " <thead>\n",
       "  <tr>\n",
       "   <th style=\"text-align:left;\"> Chrom </th>\n",
       "   <th style=\"text-align:right;\"> ChromStart </th>\n",
       "   <th style=\"text-align:right;\"> ChromEnd </th>\n",
       "   <th style=\"text-align:left;\"> Region </th>\n",
       "  </tr>\n",
       " </thead>\n",
       "<tbody>\n",
       "  <tr>\n",
       "   <td style=\"text-align:left;\"> chr11 </td>\n",
       "   <td style=\"text-align:right;\"> 4539569 </td>\n",
       "   <td style=\"text-align:right;\"> 4540043 </td>\n",
       "   <td style=\"text-align:left;\"> chr11:4539569-4540043 </td>\n",
       "  </tr>\n",
       "  <tr>\n",
       "   <td style=\"text-align:left;\"> chr11 </td>\n",
       "   <td style=\"text-align:right;\"> 4551336 </td>\n",
       "   <td style=\"text-align:right;\"> 4552012 </td>\n",
       "   <td style=\"text-align:left;\"> chr11:4551336-4552012 </td>\n",
       "  </tr>\n",
       "  <tr>\n",
       "   <td style=\"text-align:left;\"> chr11 </td>\n",
       "   <td style=\"text-align:right;\"> 4553969 </td>\n",
       "   <td style=\"text-align:right;\"> 4555012 </td>\n",
       "   <td style=\"text-align:left;\"> chr11:4553969-4555012 </td>\n",
       "  </tr>\n",
       "  <tr>\n",
       "   <td style=\"text-align:left;\"> chr11 </td>\n",
       "   <td style=\"text-align:right;\"> 4569016 </td>\n",
       "   <td style=\"text-align:right;\"> 4569992 </td>\n",
       "   <td style=\"text-align:left;\"> chr11:4569016-4569992 </td>\n",
       "  </tr>\n",
       "  <tr>\n",
       "   <td style=\"text-align:left;\"> chr11 </td>\n",
       "   <td style=\"text-align:right;\"> 4601808 </td>\n",
       "   <td style=\"text-align:right;\"> 4602487 </td>\n",
       "   <td style=\"text-align:left;\"> chr11:4601808-4602487 </td>\n",
       "  </tr>\n",
       "  <tr>\n",
       "   <td style=\"text-align:left;\"> chr11 </td>\n",
       "   <td style=\"text-align:right;\"> 4607676 </td>\n",
       "   <td style=\"text-align:right;\"> 4608647 </td>\n",
       "   <td style=\"text-align:left;\"> chr11:4607676-4608647 </td>\n",
       "  </tr>\n",
       "</tbody>\n",
       "</table>"
      ]
     },
     "metadata": {},
     "output_type": "display_data"
    }
   ],
   "source": [
    "dat = dat_region_score_starrmpra_arrange\n",
    "dat = dat %>% \n",
    "    dplyr::select(Chrom, ChromStart, ChromEnd, Region) %>% \n",
    "    dplyr::distinct()\n",
    "\n",
    "###\n",
    "dat_region = dat\n",
    "print(dim(dat))\n",
    "fun_display_table(head(dat))"
   ]
  },
  {
   "cell_type": "markdown",
   "id": "36f0ec5d-ccc5-4d5d-8d5d-b72261defe79",
   "metadata": {},
   "source": [
    "**CRISPRi-HCRFF**"
   ]
  },
  {
   "cell_type": "code",
   "execution_count": 19,
   "id": "778077cc-f26c-4625-b24c-eeb8c976c3e4",
   "metadata": {},
   "outputs": [
    {
     "name": "stdout",
     "output_type": "stream",
     "text": [
      "[1] 1330    9\n"
     ]
    },
    {
     "data": {
      "text/html": [
       "<table>\n",
       " <thead>\n",
       "  <tr>\n",
       "   <th style=\"text-align:left;\"> Chrom </th>\n",
       "   <th style=\"text-align:right;\"> ChromStart </th>\n",
       "   <th style=\"text-align:right;\"> ChromEnd </th>\n",
       "   <th style=\"text-align:left;\"> Region </th>\n",
       "   <th style=\"text-align:right;\"> Mean </th>\n",
       "   <th style=\"text-align:right;\"> Mean_Pos </th>\n",
       "   <th style=\"text-align:right;\"> Mean_Neg </th>\n",
       "   <th style=\"text-align:right;\"> Count </th>\n",
       "   <th style=\"text-align:left;\"> Note </th>\n",
       "  </tr>\n",
       " </thead>\n",
       "<tbody>\n",
       "  <tr>\n",
       "   <td style=\"text-align:left;\"> chr11 </td>\n",
       "   <td style=\"text-align:right;\"> 4092104 </td>\n",
       "   <td style=\"text-align:right;\"> 4092566 </td>\n",
       "   <td style=\"text-align:left;\"> chr11:4092104-4092566 </td>\n",
       "   <td style=\"text-align:right;\"> -0.1340399 </td>\n",
       "   <td style=\"text-align:right;\"> 0.0000000 </td>\n",
       "   <td style=\"text-align:right;\"> -0.2522359 </td>\n",
       "   <td style=\"text-align:right;\"> 325 </td>\n",
       "   <td style=\"text-align:left;\"> HBE1:325|HBG1:325|HBG2:325|HBS1L:325|MYB:325 </td>\n",
       "  </tr>\n",
       "  <tr>\n",
       "   <td style=\"text-align:left;\"> chr11 </td>\n",
       "   <td style=\"text-align:right;\"> 4094204 </td>\n",
       "   <td style=\"text-align:right;\"> 4095676 </td>\n",
       "   <td style=\"text-align:left;\"> chr11:4094204-4095676 </td>\n",
       "   <td style=\"text-align:right;\"> -0.0482194 </td>\n",
       "   <td style=\"text-align:right;\"> 0.0585651 </td>\n",
       "   <td style=\"text-align:right;\"> -0.2284214 </td>\n",
       "   <td style=\"text-align:right;\"> 1330 </td>\n",
       "   <td style=\"text-align:left;\"> HBE1:1330|HBG1:1330|HBG2:1330|HBS1L:1330|MYB:1330 </td>\n",
       "  </tr>\n",
       "  <tr>\n",
       "   <td style=\"text-align:left;\"> chr11 </td>\n",
       "   <td style=\"text-align:right;\"> 4144511 </td>\n",
       "   <td style=\"text-align:right;\"> 4147030 </td>\n",
       "   <td style=\"text-align:left;\"> chr11:4144511-4147030 </td>\n",
       "   <td style=\"text-align:right;\"> -0.0702490 </td>\n",
       "   <td style=\"text-align:right;\"> 0.0000000 </td>\n",
       "   <td style=\"text-align:right;\"> -0.1515237 </td>\n",
       "   <td style=\"text-align:right;\"> 1185 </td>\n",
       "   <td style=\"text-align:left;\"> HBE1:1185|HBG1:1185|HBG2:1185|HBS1L:1185|MYB:1185 </td>\n",
       "  </tr>\n",
       "</tbody>\n",
       "</table>"
      ]
     },
     "metadata": {},
     "output_type": "display_data"
    }
   ],
   "source": [
    "txt = \"fcc_astarr_macs_input_union\"\n",
    "lst = lst_dat_region_score_chcrff_import\n",
    "dat = lst[[txt]]\n",
    "dat_region_score_chcrff_import = dat\n",
    "print(dim(dat))\n",
    "fun_display_table(head(dat, 3))"
   ]
  },
  {
   "cell_type": "code",
   "execution_count": 20,
   "id": "51492914-a473-48af-bcb6-2e73b6ad7c91",
   "metadata": {},
   "outputs": [
    {
     "name": "stdout",
     "output_type": "stream",
     "text": [
      "[1] 2474    6\n"
     ]
    },
    {
     "data": {
      "text/html": [
       "<table>\n",
       " <thead>\n",
       "  <tr>\n",
       "   <th style=\"text-align:left;\"> Chrom </th>\n",
       "   <th style=\"text-align:right;\"> ChromStart </th>\n",
       "   <th style=\"text-align:right;\"> ChromEnd </th>\n",
       "   <th style=\"text-align:left;\"> Region </th>\n",
       "   <th style=\"text-align:left;\"> Group </th>\n",
       "   <th style=\"text-align:right;\"> Score </th>\n",
       "  </tr>\n",
       " </thead>\n",
       "<tbody>\n",
       "  <tr>\n",
       "   <td style=\"text-align:left;\"> chr11 </td>\n",
       "   <td style=\"text-align:right;\"> 4539569 </td>\n",
       "   <td style=\"text-align:right;\"> 4540043 </td>\n",
       "   <td style=\"text-align:left;\"> chr11:4539569-4540043 </td>\n",
       "   <td style=\"text-align:left;\"> Mean_Pos </td>\n",
       "   <td style=\"text-align:right;\"> 0.0995223 </td>\n",
       "  </tr>\n",
       "  <tr>\n",
       "   <td style=\"text-align:left;\"> chr11 </td>\n",
       "   <td style=\"text-align:right;\"> 4607676 </td>\n",
       "   <td style=\"text-align:right;\"> 4608647 </td>\n",
       "   <td style=\"text-align:left;\"> chr11:4607676-4608647 </td>\n",
       "   <td style=\"text-align:left;\"> Mean_Pos </td>\n",
       "   <td style=\"text-align:right;\"> 0.0000000 </td>\n",
       "  </tr>\n",
       "  <tr>\n",
       "   <td style=\"text-align:left;\"> chr11 </td>\n",
       "   <td style=\"text-align:right;\"> 4626130 </td>\n",
       "   <td style=\"text-align:right;\"> 4626814 </td>\n",
       "   <td style=\"text-align:left;\"> chr11:4626130-4626814 </td>\n",
       "   <td style=\"text-align:left;\"> Mean_Pos </td>\n",
       "   <td style=\"text-align:right;\"> 0.1135594 </td>\n",
       "  </tr>\n",
       "</tbody>\n",
       "</table>"
      ]
     },
     "metadata": {},
     "output_type": "display_data"
    }
   ],
   "source": [
    "dat = dat_region_score_chcrff_import\n",
    "\n",
    "dat = dat %>% \n",
    "    dplyr::select(Region, Mean_Pos, Mean_Neg) %>%\n",
    "    dplyr::right_join(dat_region, by = \"Region\")\n",
    "\n",
    "dat = dat %>% \n",
    "    tidyr::gather(Group, Score, -Chrom, -ChromStart, -ChromEnd, -Region) %>%\n",
    "    dplyr::select(Chrom, ChromStart, ChromEnd, Region, Group, Score) %>%\n",
    "    dplyr::mutate(Region = factor(Region, levels=VEC_TXT_REGION)) %>%\n",
    "    replace(is.na(.), 0)\n",
    "\n",
    "dat_region_score_chcrff_arrange = dat\n",
    "print(dim(dat))\n",
    "fun_display_table(head(dat, 3))"
   ]
  },
  {
   "cell_type": "markdown",
   "id": "1b5d6ba4-6395-4e2d-b55e-ae31506e67a6",
   "metadata": {},
   "source": [
    "**CRISPRi-Growth**"
   ]
  },
  {
   "cell_type": "code",
   "execution_count": 21,
   "id": "8f4d354d-1d57-4700-a20d-80892db19178",
   "metadata": {},
   "outputs": [
    {
     "name": "stdout",
     "output_type": "stream",
     "text": [
      "[1] 80288    11\n"
     ]
    },
    {
     "data": {
      "text/html": [
       "<table>\n",
       " <thead>\n",
       "  <tr>\n",
       "   <th style=\"text-align:left;\"> Chrom </th>\n",
       "   <th style=\"text-align:right;\"> ChromStart </th>\n",
       "   <th style=\"text-align:right;\"> ChromEnd </th>\n",
       "   <th style=\"text-align:left;\"> Region </th>\n",
       "   <th style=\"text-align:right;\"> Mean </th>\n",
       "   <th style=\"text-align:right;\"> Median </th>\n",
       "   <th style=\"text-align:right;\"> Max </th>\n",
       "   <th style=\"text-align:right;\"> Min </th>\n",
       "   <th style=\"text-align:right;\"> Count </th>\n",
       "   <th style=\"text-align:right;\"> Mean_Neg </th>\n",
       "   <th style=\"text-align:right;\"> Mean_Pos </th>\n",
       "  </tr>\n",
       " </thead>\n",
       "<tbody>\n",
       "  <tr>\n",
       "   <td style=\"text-align:left;\"> chr1 </td>\n",
       "   <td style=\"text-align:right;\"> 605090 </td>\n",
       "   <td style=\"text-align:right;\"> 605823 </td>\n",
       "   <td style=\"text-align:left;\"> chr1:605090-605823 </td>\n",
       "   <td style=\"text-align:right;\"> 0.0904152 </td>\n",
       "   <td style=\"text-align:right;\"> -0.2365345 </td>\n",
       "   <td style=\"text-align:right;\"> 3.171240 </td>\n",
       "   <td style=\"text-align:right;\"> -0.774100 </td>\n",
       "   <td style=\"text-align:right;\"> 10 </td>\n",
       "   <td style=\"text-align:right;\"> -0.3442168 </td>\n",
       "   <td style=\"text-align:right;\"> 1.8289430 </td>\n",
       "  </tr>\n",
       "  <tr>\n",
       "   <td style=\"text-align:left;\"> chr1 </td>\n",
       "   <td style=\"text-align:right;\"> 777949 </td>\n",
       "   <td style=\"text-align:right;\"> 779437 </td>\n",
       "   <td style=\"text-align:left;\"> chr1:777949-779437 </td>\n",
       "   <td style=\"text-align:right;\"> 0.1162065 </td>\n",
       "   <td style=\"text-align:right;\"> 0.0869985 </td>\n",
       "   <td style=\"text-align:right;\"> 0.666834 </td>\n",
       "   <td style=\"text-align:right;\"> -0.405530 </td>\n",
       "   <td style=\"text-align:right;\"> 10 </td>\n",
       "   <td style=\"text-align:right;\"> -0.2424447 </td>\n",
       "   <td style=\"text-align:right;\"> 0.3553073 </td>\n",
       "  </tr>\n",
       "  <tr>\n",
       "   <td style=\"text-align:left;\"> chr1 </td>\n",
       "   <td style=\"text-align:right;\"> 816774 </td>\n",
       "   <td style=\"text-align:right;\"> 817547 </td>\n",
       "   <td style=\"text-align:left;\"> chr1:816774-817547 </td>\n",
       "   <td style=\"text-align:right;\"> -0.1820106 </td>\n",
       "   <td style=\"text-align:right;\"> -0.3681095 </td>\n",
       "   <td style=\"text-align:right;\"> 1.049030 </td>\n",
       "   <td style=\"text-align:right;\"> -0.928019 </td>\n",
       "   <td style=\"text-align:right;\"> 8 </td>\n",
       "   <td style=\"text-align:right;\"> -0.5017798 </td>\n",
       "   <td style=\"text-align:right;\"> 0.7772970 </td>\n",
       "  </tr>\n",
       "</tbody>\n",
       "</table>"
      ]
     },
     "metadata": {},
     "output_type": "display_data"
    }
   ],
   "source": [
    "txt = \"fcc_astarr_macs_input_union\"\n",
    "lst = lst_dat_region_score_cgrowth_import\n",
    "dat = lst[[txt]]\n",
    "dat_region_score_cgrowth_import = dat\n",
    "print(dim(dat))\n",
    "fun_display_table(head(dat, 3))"
   ]
  },
  {
   "cell_type": "code",
   "execution_count": 22,
   "id": "58b8dad1-78c2-465d-80c6-895e431bf3ed",
   "metadata": {},
   "outputs": [
    {
     "name": "stdout",
     "output_type": "stream",
     "text": [
      "[1] 1237    6\n"
     ]
    },
    {
     "data": {
      "text/html": [
       "<table>\n",
       " <thead>\n",
       "  <tr>\n",
       "   <th style=\"text-align:left;\"> Chrom </th>\n",
       "   <th style=\"text-align:right;\"> ChromStart </th>\n",
       "   <th style=\"text-align:right;\"> ChromEnd </th>\n",
       "   <th style=\"text-align:left;\"> Region </th>\n",
       "   <th style=\"text-align:left;\"> Group </th>\n",
       "   <th style=\"text-align:right;\"> Score </th>\n",
       "  </tr>\n",
       " </thead>\n",
       "<tbody>\n",
       "  <tr>\n",
       "   <td style=\"text-align:left;\"> chr11 </td>\n",
       "   <td style=\"text-align:right;\"> 4539569 </td>\n",
       "   <td style=\"text-align:right;\"> 4540043 </td>\n",
       "   <td style=\"text-align:left;\"> chr11:4539569-4540043 </td>\n",
       "   <td style=\"text-align:left;\"> Mean </td>\n",
       "   <td style=\"text-align:right;\"> -0.0747493 </td>\n",
       "  </tr>\n",
       "  <tr>\n",
       "   <td style=\"text-align:left;\"> chr11 </td>\n",
       "   <td style=\"text-align:right;\"> 4551336 </td>\n",
       "   <td style=\"text-align:right;\"> 4552012 </td>\n",
       "   <td style=\"text-align:left;\"> chr11:4551336-4552012 </td>\n",
       "   <td style=\"text-align:left;\"> Mean </td>\n",
       "   <td style=\"text-align:right;\"> -0.0058791 </td>\n",
       "  </tr>\n",
       "  <tr>\n",
       "   <td style=\"text-align:left;\"> chr11 </td>\n",
       "   <td style=\"text-align:right;\"> 4607676 </td>\n",
       "   <td style=\"text-align:right;\"> 4608647 </td>\n",
       "   <td style=\"text-align:left;\"> chr11:4607676-4608647 </td>\n",
       "   <td style=\"text-align:left;\"> Mean </td>\n",
       "   <td style=\"text-align:right;\"> 0.0005555 </td>\n",
       "  </tr>\n",
       "</tbody>\n",
       "</table>"
      ]
     },
     "metadata": {},
     "output_type": "display_data"
    }
   ],
   "source": [
    "dat = dat_region_score_cgrowth_import\n",
    "\n",
    "dat = dat %>% \n",
    "    dplyr::select(Region, Mean) %>%\n",
    "    dplyr::right_join(dat_region, by = \"Region\")\n",
    "\n",
    "dat = dat %>% \n",
    "    tidyr::gather(Group, Score, -Chrom, -ChromStart, -ChromEnd, -Region) %>%\n",
    "    dplyr::select(Chrom, ChromStart, ChromEnd, Region, Group, Score) %>%\n",
    "    dplyr::mutate(Region = factor(Region, levels=VEC_TXT_REGION)) %>%\n",
    "    replace(is.na(.), 0)\n",
    "\n",
    "dat_region_score_cgrowth_arrange = dat\n",
    "print(dim(dat))\n",
    "fun_display_table(head(dat, 3))"
   ]
  },
  {
   "cell_type": "markdown",
   "id": "49576b07-4044-450d-b6b4-7bca063c1259",
   "metadata": {},
   "source": [
    "**ATAC**"
   ]
  },
  {
   "cell_type": "code",
   "execution_count": 27,
   "id": "c8da4eba-b6d0-4684-914a-ea3d58e1b64d",
   "metadata": {},
   "outputs": [
    {
     "name": "stdout",
     "output_type": "stream",
     "text": [
      "[1] 246852      9\n"
     ]
    },
    {
     "data": {
      "text/html": [
       "<table>\n",
       " <thead>\n",
       "  <tr>\n",
       "   <th style=\"text-align:left;\"> Chrom </th>\n",
       "   <th style=\"text-align:right;\"> ChromStart </th>\n",
       "   <th style=\"text-align:right;\"> ChromEnd </th>\n",
       "   <th style=\"text-align:left;\"> Region </th>\n",
       "   <th style=\"text-align:right;\"> Score </th>\n",
       "   <th style=\"text-align:left;\"> Assay_Name </th>\n",
       "   <th style=\"text-align:left;\"> Assay_Type </th>\n",
       "   <th style=\"text-align:left;\"> Assay_Group </th>\n",
       "   <th style=\"text-align:left;\"> Assay_Label </th>\n",
       "  </tr>\n",
       " </thead>\n",
       "<tbody>\n",
       "  <tr>\n",
       "   <td style=\"text-align:left;\"> chr1 </td>\n",
       "   <td style=\"text-align:right;\"> 10015 </td>\n",
       "   <td style=\"text-align:right;\"> 10442 </td>\n",
       "   <td style=\"text-align:left;\"> chr1:10015-10442 </td>\n",
       "   <td style=\"text-align:right;\"> 3.160573 </td>\n",
       "   <td style=\"text-align:left;\"> STARR_ATAC_K562_Reddy_KS91 </td>\n",
       "   <td style=\"text-align:left;\"> ATAC </td>\n",
       "   <td style=\"text-align:left;\"> ASTARR_KS91 </td>\n",
       "   <td style=\"text-align:left;\"> ATAC </td>\n",
       "  </tr>\n",
       "  <tr>\n",
       "   <td style=\"text-align:left;\"> chr1 </td>\n",
       "   <td style=\"text-align:right;\"> 14253 </td>\n",
       "   <td style=\"text-align:right;\"> 14645 </td>\n",
       "   <td style=\"text-align:left;\"> chr1:14253-14645 </td>\n",
       "   <td style=\"text-align:right;\"> 2.231167 </td>\n",
       "   <td style=\"text-align:left;\"> STARR_ATAC_K562_Reddy_KS91 </td>\n",
       "   <td style=\"text-align:left;\"> ATAC </td>\n",
       "   <td style=\"text-align:left;\"> ASTARR_KS91 </td>\n",
       "   <td style=\"text-align:left;\"> ATAC </td>\n",
       "  </tr>\n",
       "  <tr>\n",
       "   <td style=\"text-align:left;\"> chr1 </td>\n",
       "   <td style=\"text-align:right;\"> 16015 </td>\n",
       "   <td style=\"text-align:right;\"> 16477 </td>\n",
       "   <td style=\"text-align:left;\"> chr1:16015-16477 </td>\n",
       "   <td style=\"text-align:right;\"> 2.619283 </td>\n",
       "   <td style=\"text-align:left;\"> STARR_ATAC_K562_Reddy_KS91 </td>\n",
       "   <td style=\"text-align:left;\"> ATAC </td>\n",
       "   <td style=\"text-align:left;\"> ASTARR_KS91 </td>\n",
       "   <td style=\"text-align:left;\"> ATAC </td>\n",
       "  </tr>\n",
       "  <tr>\n",
       "   <td style=\"text-align:left;\"> chr1 </td>\n",
       "   <td style=\"text-align:right;\"> 17237 </td>\n",
       "   <td style=\"text-align:right;\"> 17772 </td>\n",
       "   <td style=\"text-align:left;\"> chr1:17237-17772 </td>\n",
       "   <td style=\"text-align:right;\"> 4.153273 </td>\n",
       "   <td style=\"text-align:left;\"> STARR_ATAC_K562_Reddy_KS91 </td>\n",
       "   <td style=\"text-align:left;\"> ATAC </td>\n",
       "   <td style=\"text-align:left;\"> ASTARR_KS91 </td>\n",
       "   <td style=\"text-align:left;\"> ATAC </td>\n",
       "  </tr>\n",
       "  <tr>\n",
       "   <td style=\"text-align:left;\"> chr1 </td>\n",
       "   <td style=\"text-align:right;\"> 28903 </td>\n",
       "   <td style=\"text-align:right;\"> 29613 </td>\n",
       "   <td style=\"text-align:left;\"> chr1:28903-29613 </td>\n",
       "   <td style=\"text-align:right;\"> 2.981219 </td>\n",
       "   <td style=\"text-align:left;\"> STARR_ATAC_K562_Reddy_KS91 </td>\n",
       "   <td style=\"text-align:left;\"> ATAC </td>\n",
       "   <td style=\"text-align:left;\"> ASTARR_KS91 </td>\n",
       "   <td style=\"text-align:left;\"> ATAC </td>\n",
       "  </tr>\n",
       "  <tr>\n",
       "   <td style=\"text-align:left;\"> chr1 </td>\n",
       "   <td style=\"text-align:right;\"> 30803 </td>\n",
       "   <td style=\"text-align:right;\"> 31072 </td>\n",
       "   <td style=\"text-align:left;\"> chr1:30803-31072 </td>\n",
       "   <td style=\"text-align:right;\"> 2.863264 </td>\n",
       "   <td style=\"text-align:left;\"> STARR_ATAC_K562_Reddy_KS91 </td>\n",
       "   <td style=\"text-align:left;\"> ATAC </td>\n",
       "   <td style=\"text-align:left;\"> ASTARR_KS91 </td>\n",
       "   <td style=\"text-align:left;\"> ATAC </td>\n",
       "  </tr>\n",
       "</tbody>\n",
       "</table>"
      ]
     },
     "metadata": {},
     "output_type": "display_data"
    }
   ],
   "source": [
    "txt = \"fcc_astarr_macs_input_union\"\n",
    "lst = lst_dat_region_score_atac_import\n",
    "dat = lst[[txt]]\n",
    "dat_region_score_atac_import = dat\n",
    "print(dim(dat))\n",
    "fun_display_table(head(dat))"
   ]
  },
  {
   "cell_type": "code",
   "execution_count": 28,
   "id": "fd7cec48-8365-4536-94c8-86656b8a8519",
   "metadata": {},
   "outputs": [
    {
     "name": "stdout",
     "output_type": "stream",
     "text": [
      "[1] 1237    5\n"
     ]
    },
    {
     "data": {
      "text/html": [
       "<table>\n",
       " <thead>\n",
       "  <tr>\n",
       "   <th style=\"text-align:left;\"> Chrom </th>\n",
       "   <th style=\"text-align:right;\"> ChromStart </th>\n",
       "   <th style=\"text-align:right;\"> ChromEnd </th>\n",
       "   <th style=\"text-align:left;\"> Region </th>\n",
       "   <th style=\"text-align:right;\"> Score </th>\n",
       "  </tr>\n",
       " </thead>\n",
       "<tbody>\n",
       "  <tr>\n",
       "   <td style=\"text-align:left;\"> chr11 </td>\n",
       "   <td style=\"text-align:right;\"> 4539569 </td>\n",
       "   <td style=\"text-align:right;\"> 4540043 </td>\n",
       "   <td style=\"text-align:left;\"> chr11:4539569-4540043 </td>\n",
       "   <td style=\"text-align:right;\"> 1.858881 </td>\n",
       "  </tr>\n",
       "  <tr>\n",
       "   <td style=\"text-align:left;\"> chr11 </td>\n",
       "   <td style=\"text-align:right;\"> 4551336 </td>\n",
       "   <td style=\"text-align:right;\"> 4552012 </td>\n",
       "   <td style=\"text-align:left;\"> chr11:4551336-4552012 </td>\n",
       "   <td style=\"text-align:right;\"> 2.182456 </td>\n",
       "  </tr>\n",
       "  <tr>\n",
       "   <td style=\"text-align:left;\"> chr11 </td>\n",
       "   <td style=\"text-align:right;\"> 4553969 </td>\n",
       "   <td style=\"text-align:right;\"> 4555012 </td>\n",
       "   <td style=\"text-align:left;\"> chr11:4553969-4555012 </td>\n",
       "   <td style=\"text-align:right;\"> 1.776601 </td>\n",
       "  </tr>\n",
       "</tbody>\n",
       "</table>"
      ]
     },
     "metadata": {},
     "output_type": "display_data"
    }
   ],
   "source": [
    "dat = dat_region_score_atac_import\n",
    "\n",
    "dat = dat %>% \n",
    "    dplyr::select(Region, Score) %>%\n",
    "    dplyr::right_join(dat_region, by = \"Region\")\n",
    "\n",
    "dat = dat %>% \n",
    "    dplyr::select(Chrom, ChromStart, ChromEnd, Region, Score) %>%\n",
    "    dplyr::mutate(Region = factor(Region, levels=VEC_TXT_REGION)) %>%\n",
    "    replace(is.na(.), 0)\n",
    "\n",
    "dat_region_score_atac_arrange = dat\n",
    "print(dim(dat))\n",
    "fun_display_table(head(dat, 3))"
   ]
  },
  {
   "cell_type": "code",
   "execution_count": null,
   "id": "2606efcc-428e-4503-b4cc-7a54c70c5967",
   "metadata": {},
   "outputs": [],
   "source": []
  },
  {
   "cell_type": "code",
   "execution_count": null,
   "id": "dcf662f1-edc0-4315-a359-42131424798e",
   "metadata": {},
   "outputs": [],
   "source": []
  },
  {
   "cell_type": "code",
   "execution_count": null,
   "id": "9bda788f-225a-47a0-81b6-ff074f430085",
   "metadata": {},
   "outputs": [],
   "source": []
  },
  {
   "cell_type": "code",
   "execution_count": null,
   "id": "c0f427b6-02ea-4efc-9664-9bb13ff87d48",
   "metadata": {},
   "outputs": [],
   "source": []
  }
 ],
 "metadata": {
  "kernelspec": {
   "display_name": "R",
   "language": "R",
   "name": "ir"
  },
  "language_info": {
   "codemirror_mode": "r",
   "file_extension": ".r",
   "mimetype": "text/x-r-source",
   "name": "R",
   "pygments_lexer": "r",
   "version": "4.4.2"
  }
 },
 "nbformat": 4,
 "nbformat_minor": 5
}
