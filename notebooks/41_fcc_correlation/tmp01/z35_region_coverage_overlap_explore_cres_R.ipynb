{
 "cells": [
  {
   "cell_type": "raw",
   "id": "365e81ca-a69d-4b91-b5ae-5f305d53afbc",
   "metadata": {},
   "source": [
    "---\n",
    "title: ...\n",
    "subtitle: combine ATAC, setup total, final, and share verion of table\n",
    "format:\n",
    "    html:\n",
    "        code-fold:  true\n",
    "        code-tools: true\n",
    "---"
   ]
  },
  {
   "cell_type": "markdown",
   "id": "d86afc50-8126-41a7-a6df-47ef3dfbf9ba",
   "metadata": {},
   "source": [
    "**Set environment**"
   ]
  },
  {
   "cell_type": "code",
   "execution_count": 3,
   "id": "b0c9fa19-56a9-4744-bc44-0d372b20ebd0",
   "metadata": {
    "tags": []
   },
   "outputs": [
    {
     "name": "stdout",
     "output_type": "stream",
     "text": [
      "You are working on        Singularity: singularity_proj_encode_fcc \n",
      "BASE DIRECTORY (FD_BASE): /data/reddylab/Kuei \n",
      "REPO DIRECTORY (FD_REPO): /data/reddylab/Kuei/repo \n",
      "WORK DIRECTORY (FD_WORK): /data/reddylab/Kuei/work \n",
      "DATA DIRECTORY (FD_DATA): /data/reddylab/Kuei/data \n",
      "\n",
      "You are working with      ENCODE FCC \n",
      "PATH OF PROJECT (FD_PRJ): /data/reddylab/Kuei/repo/Proj_ENCODE_FCC \n",
      "PROJECT RESULTS (FD_RES): /data/reddylab/Kuei/repo/Proj_ENCODE_FCC/results \n",
      "PROJECT SCRIPTS (FD_EXE): /data/reddylab/Kuei/repo/Proj_ENCODE_FCC/scripts \n",
      "PROJECT DATA    (FD_DAT): /data/reddylab/Kuei/repo/Proj_ENCODE_FCC/data \n",
      "PROJECT NOTE    (FD_NBK): /data/reddylab/Kuei/repo/Proj_ENCODE_FCC/notebooks \n",
      "PROJECT DOCS    (FD_DOC): /data/reddylab/Kuei/repo/Proj_ENCODE_FCC/docs \n",
      "PROJECT LOG     (FD_LOG): /data/reddylab/Kuei/repo/Proj_ENCODE_FCC/log \n",
      "PROJECT REF     (FD_REF): /data/reddylab/Kuei/repo/Proj_ENCODE_FCC/references \n",
      "\n"
     ]
    }
   ],
   "source": [
    "suppressMessages(suppressWarnings(source(\"../run_config_project_sing.R\")))\n",
    "show_env()"
   ]
  },
  {
   "cell_type": "markdown",
   "id": "9669a669-76a1-47bc-a9c9-8657385a9ed3",
   "metadata": {},
   "source": [
    "## Prepare"
   ]
  },
  {
   "cell_type": "markdown",
   "id": "309d890f-d791-4c67-9331-ab855d9c6fc8",
   "metadata": {},
   "source": [
    "**Set global variable**"
   ]
  },
  {
   "cell_type": "code",
   "execution_count": 4,
   "id": "4b86030a-880e-481f-86e1-41ba96c30f90",
   "metadata": {},
   "outputs": [
    {
     "name": "stdout",
     "output_type": "stream",
     "text": [
      "fcc_astarr_macs_input_overlap \n",
      "fcc_astarr_macs_input_union \n"
     ]
    }
   ],
   "source": [
    "vec = c(\n",
    "    \"fcc_astarr_macs_input_overlap\",\n",
    "    \"fcc_astarr_macs_input_union\"\n",
    ")\n",
    "names(vec) = vec\n",
    "\n",
    "VEC_TXT_FOLDER = vec\n",
    "for(txt in vec){cat(txt, \"\\n\")}"
   ]
  },
  {
   "cell_type": "code",
   "execution_count": 5,
   "id": "b8781e26-7f32-4e0c-9850-1b5a9096de05",
   "metadata": {},
   "outputs": [],
   "source": [
    "TXT_FNAME_ANNOT = \"region.annotation.encode_e2g_benchmark.tsv\""
   ]
  },
  {
   "cell_type": "markdown",
   "id": "974fda80-fe06-40a2-834a-4fb1e1a29343",
   "metadata": {},
   "source": [
    "**View files**"
   ]
  },
  {
   "cell_type": "code",
   "execution_count": 6,
   "id": "3708797d-7569-4f68-bc03-9696ab83b13d",
   "metadata": {},
   "outputs": [
    {
     "name": "stdout",
     "output_type": "stream",
     "text": [
      "/data/reddylab/Kuei/repo/Proj_ENCODE_FCC/results/region_annotation/fcc_astarr_macs_input_overlap/summary/region.annotation.encode_e2g_benchmark.tsv \n",
      "/data/reddylab/Kuei/repo/Proj_ENCODE_FCC/results/region_annotation/fcc_astarr_macs_input_union/summary/region.annotation.encode_e2g_benchmark.tsv \n"
     ]
    }
   ],
   "source": [
    "txt_fdiry = file.path(FD_RES, \"region_annotation\", \"*\", \"summary\")\n",
    "txt_fname = TXT_FNAME_ANNOT\n",
    "txt_fglob = file.path(txt_fdiry, txt_fname)\n",
    "\n",
    "vec = Sys.glob(txt_fglob)\n",
    "for(txt in vec){cat(txt, \"\\n\")}"
   ]
  },
  {
   "cell_type": "markdown",
   "id": "e49f47be-2d34-472e-b247-42d08a0d0ac8",
   "metadata": {},
   "source": [
    "## Import data"
   ]
  },
  {
   "cell_type": "markdown",
   "id": "e0ec89d9-3801-446e-b0ba-b6632012d860",
   "metadata": {},
   "source": [
    "**Known or tested CREs**"
   ]
  },
  {
   "cell_type": "code",
   "execution_count": 16,
   "id": "0a24fa3e-70bb-437b-a0de-b618fa75f120",
   "metadata": {},
   "outputs": [
    {
     "name": "stdout",
     "output_type": "stream",
     "text": [
      "$fcc_astarr_macs_input_overlap\n",
      "[1] 27 12\n",
      "\n",
      "$fcc_astarr_macs_input_union\n",
      "[1] 27 12\n",
      "\n"
     ]
    },
    {
     "data": {
      "text/html": [
       "<table class=\"dataframe\">\n",
       "<caption>A tibble: 3 × 12</caption>\n",
       "<thead>\n",
       "\t<tr><th scope=col>Chrom</th><th scope=col>ChromStart</th><th scope=col>ChromEnd</th><th scope=col>Region</th><th scope=col>Region_CRE</th><th scope=col>Group</th><th scope=col>Label</th><th scope=col>Type</th><th scope=col>Target</th><th scope=col>Description</th><th scope=col>Reference</th><th scope=col>Note</th></tr>\n",
       "\t<tr><th scope=col>&lt;chr&gt;</th><th scope=col>&lt;dbl&gt;</th><th scope=col>&lt;dbl&gt;</th><th scope=col>&lt;chr&gt;</th><th scope=col>&lt;chr&gt;</th><th scope=col>&lt;chr&gt;</th><th scope=col>&lt;chr&gt;</th><th scope=col>&lt;chr&gt;</th><th scope=col>&lt;chr&gt;</th><th scope=col>&lt;chr&gt;</th><th scope=col>&lt;chr&gt;</th><th scope=col>&lt;chr&gt;</th></tr>\n",
       "</thead>\n",
       "<tbody>\n",
       "\t<tr><td>chr11</td><td>5269503</td><td>5270633</td><td>chr11:5269503-5270633</td><td>chr11:5269504-5270633</td><td>genome_cres</td><td>HBE1 promoter</td><td>promoter</td><td>HBE1</td><td>HBE1 promoter           </td><td>NA</td><td>known CREs</td></tr>\n",
       "\t<tr><td>chr11</td><td>5275455</td><td>5276164</td><td>chr11:5275455-5276164</td><td>chr11:5275456-5276164</td><td>genome_cres</td><td>LCR HS1      </td><td>enhancer</td><td>HBE1</td><td>locus control region HS1</td><td>NA</td><td>known CREs</td></tr>\n",
       "\t<tr><td>chr11</td><td>5280584</td><td>5281266</td><td>chr11:5280584-5281266</td><td>chr11:5280585-5281266</td><td>genome_cres</td><td>LCR HS2      </td><td>enhancer</td><td>HBE1</td><td>locus control region HS2</td><td>NA</td><td>known CREs</td></tr>\n",
       "</tbody>\n",
       "</table>\n"
      ],
      "text/latex": [
       "A tibble: 3 × 12\n",
       "\\begin{tabular}{llllllllllll}\n",
       " Chrom & ChromStart & ChromEnd & Region & Region\\_CRE & Group & Label & Type & Target & Description & Reference & Note\\\\\n",
       " <chr> & <dbl> & <dbl> & <chr> & <chr> & <chr> & <chr> & <chr> & <chr> & <chr> & <chr> & <chr>\\\\\n",
       "\\hline\n",
       "\t chr11 & 5269503 & 5270633 & chr11:5269503-5270633 & chr11:5269504-5270633 & genome\\_cres & HBE1 promoter & promoter & HBE1 & HBE1 promoter            & NA & known CREs\\\\\n",
       "\t chr11 & 5275455 & 5276164 & chr11:5275455-5276164 & chr11:5275456-5276164 & genome\\_cres & LCR HS1       & enhancer & HBE1 & locus control region HS1 & NA & known CREs\\\\\n",
       "\t chr11 & 5280584 & 5281266 & chr11:5280584-5281266 & chr11:5280585-5281266 & genome\\_cres & LCR HS2       & enhancer & HBE1 & locus control region HS2 & NA & known CREs\\\\\n",
       "\\end{tabular}\n"
      ],
      "text/markdown": [
       "\n",
       "A tibble: 3 × 12\n",
       "\n",
       "| Chrom &lt;chr&gt; | ChromStart &lt;dbl&gt; | ChromEnd &lt;dbl&gt; | Region &lt;chr&gt; | Region_CRE &lt;chr&gt; | Group &lt;chr&gt; | Label &lt;chr&gt; | Type &lt;chr&gt; | Target &lt;chr&gt; | Description &lt;chr&gt; | Reference &lt;chr&gt; | Note &lt;chr&gt; |\n",
       "|---|---|---|---|---|---|---|---|---|---|---|---|\n",
       "| chr11 | 5269503 | 5270633 | chr11:5269503-5270633 | chr11:5269504-5270633 | genome_cres | HBE1 promoter | promoter | HBE1 | HBE1 promoter            | NA | known CREs |\n",
       "| chr11 | 5275455 | 5276164 | chr11:5275455-5276164 | chr11:5275456-5276164 | genome_cres | LCR HS1       | enhancer | HBE1 | locus control region HS1 | NA | known CREs |\n",
       "| chr11 | 5280584 | 5281266 | chr11:5280584-5281266 | chr11:5280585-5281266 | genome_cres | LCR HS2       | enhancer | HBE1 | locus control region HS2 | NA | known CREs |\n",
       "\n"
      ],
      "text/plain": [
       "  Chrom ChromStart ChromEnd Region                Region_CRE           \n",
       "1 chr11 5269503    5270633  chr11:5269503-5270633 chr11:5269504-5270633\n",
       "2 chr11 5275455    5276164  chr11:5275455-5276164 chr11:5275456-5276164\n",
       "3 chr11 5280584    5281266  chr11:5280584-5281266 chr11:5280585-5281266\n",
       "  Group       Label         Type     Target Description              Reference\n",
       "1 genome_cres HBE1 promoter promoter HBE1   HBE1 promoter            NA       \n",
       "2 genome_cres LCR HS1       enhancer HBE1   locus control region HS1 NA       \n",
       "3 genome_cres LCR HS2       enhancer HBE1   locus control region HS2 NA       \n",
       "  Note      \n",
       "1 known CREs\n",
       "2 known CREs\n",
       "3 known CREs"
      ]
     },
     "metadata": {},
     "output_type": "display_data"
    }
   ],
   "source": [
    "lst = lapply(VEC_TXT_FOLDER, function(txt_folder){\n",
    "    ### set file directory\n",
    "    txt_fdiry  = file.path(FD_RES, \"region_annotation\", txt_folder, \"summary\")\n",
    "    txt_fname  = \"region.annotation.genome_cres.tsv\"\n",
    "    txt_fpath = file.path(txt_fdiry, txt_fname)\n",
    "\n",
    "    ### read table\n",
    "    dat = read_tsv(txt_fpath, show_col_types = FALSE)\n",
    "    return(dat)\n",
    "})\n",
    "\n",
    "### assign and show\n",
    "lst_dat_region_annot_cres_import = lst\n",
    "\n",
    "res = lapply(lst, dim)\n",
    "print(res)\n",
    "\n",
    "dat = lst[[1]]\n",
    "head(dat, 3)"
   ]
  },
  {
   "cell_type": "code",
   "execution_count": null,
   "id": "2a9ef57d-6bb2-4c74-b47d-d994e243555f",
   "metadata": {},
   "outputs": [],
   "source": []
  },
  {
   "cell_type": "markdown",
   "id": "9a1ad341-2b2c-44fd-b41b-d187630ee668",
   "metadata": {},
   "source": [
    "## E2G"
   ]
  },
  {
   "cell_type": "markdown",
   "id": "66136fb2-84ed-4df4-9b9d-456033372d1f",
   "metadata": {},
   "source": [
    "**Read region annotation**"
   ]
  },
  {
   "cell_type": "code",
   "execution_count": 7,
   "id": "b31cf15c-79cf-4623-a837-b4331a25f145",
   "metadata": {},
   "outputs": [
    {
     "name": "stdout",
     "output_type": "stream",
     "text": [
      "$fcc_astarr_macs_input_overlap\n",
      "[1] 8770   12\n",
      "\n",
      "$fcc_astarr_macs_input_union\n",
      "[1] 9229   12\n",
      "\n"
     ]
    },
    {
     "data": {
      "text/html": [
       "<table>\n",
       " <thead>\n",
       "  <tr>\n",
       "   <th style=\"text-align:left;\"> Chrom </th>\n",
       "   <th style=\"text-align:right;\"> ChromStart </th>\n",
       "   <th style=\"text-align:right;\"> ChromEnd </th>\n",
       "   <th style=\"text-align:left;\"> Region </th>\n",
       "   <th style=\"text-align:left;\"> Group </th>\n",
       "   <th style=\"text-align:left;\"> Label </th>\n",
       "   <th style=\"text-align:left;\"> Target </th>\n",
       "   <th style=\"text-align:right;\"> Score </th>\n",
       "   <th style=\"text-align:right;\"> Zcore </th>\n",
       "   <th style=\"text-align:right;\"> NLog10P </th>\n",
       "   <th style=\"text-align:left;\"> Regulated </th>\n",
       "   <th style=\"text-align:left;\"> Source </th>\n",
       "  </tr>\n",
       " </thead>\n",
       "<tbody>\n",
       "  <tr>\n",
       "   <td style=\"text-align:left;\"> chr1 </td>\n",
       "   <td style=\"text-align:right;\"> 3774056 </td>\n",
       "   <td style=\"text-align:right;\"> 3776283 </td>\n",
       "   <td style=\"text-align:left;\"> chr1:3774056-3776283 </td>\n",
       "   <td style=\"text-align:left;\"> E2G-Benchmark </td>\n",
       "   <td style=\"text-align:left;\"> Regulated:TRUE </td>\n",
       "   <td style=\"text-align:left;\"> CEP104 </td>\n",
       "   <td style=\"text-align:right;\"> -0.2934319 </td>\n",
       "   <td style=\"text-align:right;\"> -4.705144 </td>\n",
       "   <td style=\"text-align:right;\"> 2.395344 </td>\n",
       "   <td style=\"text-align:left;\"> TRUE </td>\n",
       "   <td style=\"text-align:left;\"> Ulirsch2016 </td>\n",
       "  </tr>\n",
       "  <tr>\n",
       "   <td style=\"text-align:left;\"> chr1 </td>\n",
       "   <td style=\"text-align:right;\"> 3774056 </td>\n",
       "   <td style=\"text-align:right;\"> 3776283 </td>\n",
       "   <td style=\"text-align:left;\"> chr1:3774056-3776283 </td>\n",
       "   <td style=\"text-align:left;\"> E2G-Benchmark </td>\n",
       "   <td style=\"text-align:left;\"> Regulated:TRUE </td>\n",
       "   <td style=\"text-align:left;\"> LRRC47 </td>\n",
       "   <td style=\"text-align:right;\"> -0.3311781 </td>\n",
       "   <td style=\"text-align:right;\"> -5.331209 </td>\n",
       "   <td style=\"text-align:right;\"> 2.109514 </td>\n",
       "   <td style=\"text-align:left;\"> TRUE </td>\n",
       "   <td style=\"text-align:left;\"> Ulirsch2016 </td>\n",
       "  </tr>\n",
       "  <tr>\n",
       "   <td style=\"text-align:left;\"> chr1 </td>\n",
       "   <td style=\"text-align:right;\"> 3774056 </td>\n",
       "   <td style=\"text-align:right;\"> 3776283 </td>\n",
       "   <td style=\"text-align:left;\"> chr1:3774056-3776283 </td>\n",
       "   <td style=\"text-align:left;\"> E2G-Benchmark </td>\n",
       "   <td style=\"text-align:left;\"> Regulated:TRUE </td>\n",
       "   <td style=\"text-align:left;\"> SMIM1 </td>\n",
       "   <td style=\"text-align:right;\"> -0.4720192 </td>\n",
       "   <td style=\"text-align:right;\"> -7.667223 </td>\n",
       "   <td style=\"text-align:right;\"> 3.192703 </td>\n",
       "   <td style=\"text-align:left;\"> TRUE </td>\n",
       "   <td style=\"text-align:left;\"> Ulirsch2016 </td>\n",
       "  </tr>\n",
       "</tbody>\n",
       "</table>"
      ]
     },
     "metadata": {},
     "output_type": "display_data"
    }
   ],
   "source": [
    "### loop to import data\n",
    "lst = lapply(VEC_TXT_FOLDER, function(txt_folder){\n",
    "    ### set file directory\n",
    "    txt_fdiry = file.path(FD_RES, \"region_annotation\", txt_folder, \"summary\")\n",
    "    txt_fname = TXT_FNAME_ANNOT\n",
    "    txt_fpath = file.path(txt_fdiry, txt_fname)\n",
    "\n",
    "    ### read table\n",
    "    dat = read_tsv(txt_fpath, show_col_types = FALSE)\n",
    "    return(dat)\n",
    "})\n",
    "names(lst) = VEC_TXT_FOLDER\n",
    "\n",
    "### assign and show\n",
    "lst_dat_region_annot_import = lst\n",
    "\n",
    "res = lapply(lst, dim)\n",
    "print(res)\n",
    "\n",
    "dat = lst[[1]]\n",
    "fun_display_table(head(dat, 3))"
   ]
  },
  {
   "cell_type": "markdown",
   "id": "771bd700-5f4b-40d0-a36d-9579ac393ab7",
   "metadata": {},
   "source": [
    "## Arrange table"
   ]
  },
  {
   "cell_type": "code",
   "execution_count": 8,
   "id": "69894228-d43e-4916-a6ab-85bd3995de7d",
   "metadata": {},
   "outputs": [
    {
     "name": "stdout",
     "output_type": "stream",
     "text": [
      "$fcc_astarr_macs_input_overlap\n",
      "[1] 8770    7\n",
      "\n",
      "$fcc_astarr_macs_input_union\n",
      "[1] 9229    7\n",
      "\n"
     ]
    },
    {
     "data": {
      "text/html": [
       "<table class=\"dataframe\">\n",
       "<caption>A tibble: 3 × 7</caption>\n",
       "<thead>\n",
       "\t<tr><th scope=col>Chrom</th><th scope=col>ChromStart</th><th scope=col>ChromEnd</th><th scope=col>Region</th><th scope=col>Score</th><th scope=col>Target</th><th scope=col>Sign</th></tr>\n",
       "\t<tr><th scope=col>&lt;chr&gt;</th><th scope=col>&lt;dbl&gt;</th><th scope=col>&lt;dbl&gt;</th><th scope=col>&lt;chr&gt;</th><th scope=col>&lt;dbl&gt;</th><th scope=col>&lt;chr&gt;</th><th scope=col>&lt;chr&gt;</th></tr>\n",
       "</thead>\n",
       "<tbody>\n",
       "\t<tr><td>chr1</td><td>3774056</td><td>3776283</td><td>chr1:3774056-3776283</td><td>-4.705144</td><td>CEP104</td><td>neg</td></tr>\n",
       "\t<tr><td>chr1</td><td>3774056</td><td>3776283</td><td>chr1:3774056-3776283</td><td>-5.331209</td><td>LRRC47</td><td>neg</td></tr>\n",
       "\t<tr><td>chr1</td><td>3774056</td><td>3776283</td><td>chr1:3774056-3776283</td><td>-7.667223</td><td>SMIM1 </td><td>neg</td></tr>\n",
       "</tbody>\n",
       "</table>\n"
      ],
      "text/latex": [
       "A tibble: 3 × 7\n",
       "\\begin{tabular}{lllllll}\n",
       " Chrom & ChromStart & ChromEnd & Region & Score & Target & Sign\\\\\n",
       " <chr> & <dbl> & <dbl> & <chr> & <dbl> & <chr> & <chr>\\\\\n",
       "\\hline\n",
       "\t chr1 & 3774056 & 3776283 & chr1:3774056-3776283 & -4.705144 & CEP104 & neg\\\\\n",
       "\t chr1 & 3774056 & 3776283 & chr1:3774056-3776283 & -5.331209 & LRRC47 & neg\\\\\n",
       "\t chr1 & 3774056 & 3776283 & chr1:3774056-3776283 & -7.667223 & SMIM1  & neg\\\\\n",
       "\\end{tabular}\n"
      ],
      "text/markdown": [
       "\n",
       "A tibble: 3 × 7\n",
       "\n",
       "| Chrom &lt;chr&gt; | ChromStart &lt;dbl&gt; | ChromEnd &lt;dbl&gt; | Region &lt;chr&gt; | Score &lt;dbl&gt; | Target &lt;chr&gt; | Sign &lt;chr&gt; |\n",
       "|---|---|---|---|---|---|---|\n",
       "| chr1 | 3774056 | 3776283 | chr1:3774056-3776283 | -4.705144 | CEP104 | neg |\n",
       "| chr1 | 3774056 | 3776283 | chr1:3774056-3776283 | -5.331209 | LRRC47 | neg |\n",
       "| chr1 | 3774056 | 3776283 | chr1:3774056-3776283 | -7.667223 | SMIM1  | neg |\n",
       "\n"
      ],
      "text/plain": [
       "  Chrom ChromStart ChromEnd Region               Score     Target Sign\n",
       "1 chr1  3774056    3776283  chr1:3774056-3776283 -4.705144 CEP104 neg \n",
       "2 chr1  3774056    3776283  chr1:3774056-3776283 -5.331209 LRRC47 neg \n",
       "3 chr1  3774056    3776283  chr1:3774056-3776283 -7.667223 SMIM1  neg "
      ]
     },
     "metadata": {},
     "output_type": "display_data"
    }
   ],
   "source": [
    "lst = lst_dat_region_annot_import\n",
    "lst = lapply(lst, function(dat){\n",
    "    ### set score and sign\n",
    "    dat = dat %>% \n",
    "        dplyr::mutate(Score = Zcore) %>%\n",
    "        dplyr::mutate(Sign  = ifelse(Score > 0, \"pos\", \"neg\"))\n",
    "\n",
    "    ### select the columns\n",
    "    dat = dat %>%\n",
    "        dplyr::select(Chrom, ChromStart, ChromEnd, Region, Score, Target, Sign) %>%\n",
    "        dplyr::distinct()\n",
    "    return(dat)\n",
    "})\n",
    "\n",
    "### assign and show\n",
    "lst_dat_region_score_arrange = lst\n",
    "\n",
    "res = lapply(lst, dim)\n",
    "print(res)\n",
    "\n",
    "dat = lst[[1]]\n",
    "head(dat, 3)"
   ]
  },
  {
   "cell_type": "markdown",
   "id": "19a5a448-6e18-45b7-b6f9-4d5c1d76c088",
   "metadata": {},
   "source": [
    "## Check regions: HS2"
   ]
  },
  {
   "cell_type": "code",
   "execution_count": 9,
   "id": "08624196-be3d-4f09-a0fe-5dff53932db7",
   "metadata": {},
   "outputs": [],
   "source": [
    "TXT_REGION_LCR_HS2 = \"chr11:5280584-5281266\""
   ]
  },
  {
   "cell_type": "code",
   "execution_count": 11,
   "id": "77912d20-1750-439d-968b-24238ff1199b",
   "metadata": {},
   "outputs": [
    {
     "data": {
      "text/html": [
       "<table>\n",
       " <thead>\n",
       "  <tr>\n",
       "   <th style=\"text-align:left;\"> Chrom </th>\n",
       "   <th style=\"text-align:right;\"> ChromStart </th>\n",
       "   <th style=\"text-align:right;\"> ChromEnd </th>\n",
       "   <th style=\"text-align:left;\"> Region </th>\n",
       "   <th style=\"text-align:right;\"> Score </th>\n",
       "   <th style=\"text-align:left;\"> Target </th>\n",
       "   <th style=\"text-align:left;\"> Sign </th>\n",
       "  </tr>\n",
       " </thead>\n",
       "<tbody>\n",
       "  <tr>\n",
       "   <td style=\"text-align:left;\"> chr11 </td>\n",
       "   <td style=\"text-align:right;\"> 5280584 </td>\n",
       "   <td style=\"text-align:right;\"> 5281266 </td>\n",
       "   <td style=\"text-align:left;\"> chr11:5280584-5281266 </td>\n",
       "   <td style=\"text-align:right;\"> -14.1819818 </td>\n",
       "   <td style=\"text-align:left;\"> HBE1 </td>\n",
       "   <td style=\"text-align:left;\"> neg </td>\n",
       "  </tr>\n",
       "  <tr>\n",
       "   <td style=\"text-align:left;\"> chr11 </td>\n",
       "   <td style=\"text-align:right;\"> 5280584 </td>\n",
       "   <td style=\"text-align:right;\"> 5281266 </td>\n",
       "   <td style=\"text-align:left;\"> chr11:5280584-5281266 </td>\n",
       "   <td style=\"text-align:right;\"> -12.0884764 </td>\n",
       "   <td style=\"text-align:left;\"> HBG2 </td>\n",
       "   <td style=\"text-align:left;\"> neg </td>\n",
       "  </tr>\n",
       "  <tr>\n",
       "   <td style=\"text-align:left;\"> chr11 </td>\n",
       "   <td style=\"text-align:right;\"> 5280584 </td>\n",
       "   <td style=\"text-align:right;\"> 5281266 </td>\n",
       "   <td style=\"text-align:left;\"> chr11:5280584-5281266 </td>\n",
       "   <td style=\"text-align:right;\"> -7.6439811 </td>\n",
       "   <td style=\"text-align:left;\"> HBG1 </td>\n",
       "   <td style=\"text-align:left;\"> neg </td>\n",
       "  </tr>\n",
       "  <tr>\n",
       "   <td style=\"text-align:left;\"> chr11 </td>\n",
       "   <td style=\"text-align:right;\"> 5280584 </td>\n",
       "   <td style=\"text-align:right;\"> 5281266 </td>\n",
       "   <td style=\"text-align:left;\"> chr11:5280584-5281266 </td>\n",
       "   <td style=\"text-align:right;\"> -0.1321715 </td>\n",
       "   <td style=\"text-align:left;\"> HBB </td>\n",
       "   <td style=\"text-align:left;\"> neg </td>\n",
       "  </tr>\n",
       "  <tr>\n",
       "   <td style=\"text-align:left;\"> chr11 </td>\n",
       "   <td style=\"text-align:right;\"> 5280584 </td>\n",
       "   <td style=\"text-align:right;\"> 5281266 </td>\n",
       "   <td style=\"text-align:left;\"> chr11:5280584-5281266 </td>\n",
       "   <td style=\"text-align:right;\"> -0.9829265 </td>\n",
       "   <td style=\"text-align:left;\"> HBD </td>\n",
       "   <td style=\"text-align:left;\"> neg </td>\n",
       "  </tr>\n",
       "</tbody>\n",
       "</table>"
      ]
     },
     "metadata": {},
     "output_type": "display_data"
    }
   ],
   "source": [
    "idx = \"fcc_astarr_macs_input_overlap\"\n",
    "#lst = lst_dat_region_annot_import\n",
    "lst = lst_dat_region_score_arrange\n",
    "dat = lst[[idx]]\n",
    "\n",
    "dat = dat %>% dplyr::filter(Region == TXT_REGION_LCR_HS2)\n",
    "fun_display_table(dat)"
   ]
  },
  {
   "cell_type": "code",
   "execution_count": null,
   "id": "92ba2a28-78e0-4ff0-a4d0-82401c374d62",
   "metadata": {},
   "outputs": [],
   "source": []
  },
  {
   "cell_type": "markdown",
   "id": "38d5c29a-4cdf-4693-937e-95dbb48a6f51",
   "metadata": {},
   "source": [
    "## CRISPRi-HCRFF"
   ]
  },
  {
   "cell_type": "code",
   "execution_count": 12,
   "id": "3ea7f821-7700-47d1-a7b2-89e887924743",
   "metadata": {},
   "outputs": [
    {
     "name": "stdout",
     "output_type": "stream",
     "text": [
      "$fcc_astarr_macs_input_overlap\n",
      "[1] 2304   12\n",
      "\n",
      "$fcc_astarr_macs_input_union\n",
      "[1] 3084   12\n",
      "\n"
     ]
    },
    {
     "data": {
      "text/html": [
       "<table class=\"dataframe\">\n",
       "<caption>A tibble: 3 × 12</caption>\n",
       "<thead>\n",
       "\t<tr><th scope=col>Chrom</th><th scope=col>ChromStart</th><th scope=col>ChromEnd</th><th scope=col>Region</th><th scope=col>Target</th><th scope=col>Mean</th><th scope=col>Median</th><th scope=col>Max</th><th scope=col>Min</th><th scope=col>Count</th><th scope=col>Mean_Neg</th><th scope=col>Mean_Pos</th></tr>\n",
       "\t<tr><th scope=col>&lt;chr&gt;</th><th scope=col>&lt;dbl&gt;</th><th scope=col>&lt;dbl&gt;</th><th scope=col>&lt;chr&gt;</th><th scope=col>&lt;chr&gt;</th><th scope=col>&lt;dbl&gt;</th><th scope=col>&lt;dbl&gt;</th><th scope=col>&lt;dbl&gt;</th><th scope=col>&lt;dbl&gt;</th><th scope=col>&lt;dbl&gt;</th><th scope=col>&lt;dbl&gt;</th><th scope=col>&lt;dbl&gt;</th></tr>\n",
       "</thead>\n",
       "<tbody>\n",
       "\t<tr><td>chr11</td><td>4092109</td><td>4092511</td><td>chr11:4092109-4092511</td><td>HBE1</td><td>-0.1137124</td><td>-0.1415565</td><td>1.21353</td><td>-2.05570</td><td>64</td><td>-0.5895217</td><td>0.5817010</td></tr>\n",
       "\t<tr><td>chr11</td><td>4092109</td><td>4092511</td><td>chr11:4092109-4092511</td><td>HBG1</td><td>-0.1517430</td><td>-0.1508580</td><td>1.47841</td><td>-1.53233</td><td>64</td><td>-0.5163575</td><td>0.4982220</td></tr>\n",
       "\t<tr><td>chr11</td><td>4092109</td><td>4092511</td><td>chr11:4092109-4092511</td><td>HBG2</td><td>-0.2425928</td><td>-0.2483860</td><td>0.72989</td><td>-1.95678</td><td>64</td><td>-0.4951560</td><td>0.3130464</td></tr>\n",
       "</tbody>\n",
       "</table>\n"
      ],
      "text/latex": [
       "A tibble: 3 × 12\n",
       "\\begin{tabular}{llllllllllll}\n",
       " Chrom & ChromStart & ChromEnd & Region & Target & Mean & Median & Max & Min & Count & Mean\\_Neg & Mean\\_Pos\\\\\n",
       " <chr> & <dbl> & <dbl> & <chr> & <chr> & <dbl> & <dbl> & <dbl> & <dbl> & <dbl> & <dbl> & <dbl>\\\\\n",
       "\\hline\n",
       "\t chr11 & 4092109 & 4092511 & chr11:4092109-4092511 & HBE1 & -0.1137124 & -0.1415565 & 1.21353 & -2.05570 & 64 & -0.5895217 & 0.5817010\\\\\n",
       "\t chr11 & 4092109 & 4092511 & chr11:4092109-4092511 & HBG1 & -0.1517430 & -0.1508580 & 1.47841 & -1.53233 & 64 & -0.5163575 & 0.4982220\\\\\n",
       "\t chr11 & 4092109 & 4092511 & chr11:4092109-4092511 & HBG2 & -0.2425928 & -0.2483860 & 0.72989 & -1.95678 & 64 & -0.4951560 & 0.3130464\\\\\n",
       "\\end{tabular}\n"
      ],
      "text/markdown": [
       "\n",
       "A tibble: 3 × 12\n",
       "\n",
       "| Chrom &lt;chr&gt; | ChromStart &lt;dbl&gt; | ChromEnd &lt;dbl&gt; | Region &lt;chr&gt; | Target &lt;chr&gt; | Mean &lt;dbl&gt; | Median &lt;dbl&gt; | Max &lt;dbl&gt; | Min &lt;dbl&gt; | Count &lt;dbl&gt; | Mean_Neg &lt;dbl&gt; | Mean_Pos &lt;dbl&gt; |\n",
       "|---|---|---|---|---|---|---|---|---|---|---|---|\n",
       "| chr11 | 4092109 | 4092511 | chr11:4092109-4092511 | HBE1 | -0.1137124 | -0.1415565 | 1.21353 | -2.05570 | 64 | -0.5895217 | 0.5817010 |\n",
       "| chr11 | 4092109 | 4092511 | chr11:4092109-4092511 | HBG1 | -0.1517430 | -0.1508580 | 1.47841 | -1.53233 | 64 | -0.5163575 | 0.4982220 |\n",
       "| chr11 | 4092109 | 4092511 | chr11:4092109-4092511 | HBG2 | -0.2425928 | -0.2483860 | 0.72989 | -1.95678 | 64 | -0.4951560 | 0.3130464 |\n",
       "\n"
      ],
      "text/plain": [
       "  Chrom ChromStart ChromEnd Region                Target Mean       Median    \n",
       "1 chr11 4092109    4092511  chr11:4092109-4092511 HBE1   -0.1137124 -0.1415565\n",
       "2 chr11 4092109    4092511  chr11:4092109-4092511 HBG1   -0.1517430 -0.1508580\n",
       "3 chr11 4092109    4092511  chr11:4092109-4092511 HBG2   -0.2425928 -0.2483860\n",
       "  Max     Min      Count Mean_Neg   Mean_Pos \n",
       "1 1.21353 -2.05570 64    -0.5895217 0.5817010\n",
       "2 1.47841 -1.53233 64    -0.5163575 0.4982220\n",
       "3 0.72989 -1.95678 64    -0.4951560 0.3130464"
      ]
     },
     "metadata": {},
     "output_type": "display_data"
    }
   ],
   "source": [
    "txt_assay = \"CRISPRi_FlowFISH_K562_Riley_JinWoo\"\n",
    "\n",
    "lst = lapply(VEC_TXT_FOLDER, function(txt_folder){\n",
    "    ### set file directory\n",
    "    txt_assay = \"CRISPRi_FlowFISH_K562_Riley_JinWoo\"\n",
    "    txt_fdiry  = file.path(FD_RES, \"region_coverage_fcc_score\", txt_folder, txt_assay, \"summary\")\n",
    "    txt_fname = \"region.coverage.score.filtered.target.tsv\"\n",
    "    txt_fpath = file.path(txt_fdiry, txt_fname)\n",
    "\n",
    "    ### read table\n",
    "    dat = read_tsv(txt_fpath, show_col_types = FALSE)\n",
    "    return(dat)\n",
    "})\n",
    "\n",
    "### assign and show\n",
    "lst_dat_region_score_chcrff_import = lst\n",
    "\n",
    "res = lapply(lst, dim)\n",
    "print(res)\n",
    "\n",
    "dat = lst[[1]]\n",
    "head(dat, 3)"
   ]
  },
  {
   "cell_type": "code",
   "execution_count": 15,
   "id": "b9f37a39-2d87-4c98-9ed6-a3df65435210",
   "metadata": {},
   "outputs": [
    {
     "name": "stdout",
     "output_type": "stream",
     "text": [
      "$fcc_astarr_macs_input_overlap\n",
      "[1] 2304    6\n",
      "\n",
      "$fcc_astarr_macs_input_union\n",
      "[1] 3084    6\n",
      "\n"
     ]
    },
    {
     "data": {
      "text/html": [
       "<table class=\"dataframe\">\n",
       "<caption>A tibble: 3 × 6</caption>\n",
       "<thead>\n",
       "\t<tr><th scope=col>Chrom</th><th scope=col>ChromStart</th><th scope=col>ChromEnd</th><th scope=col>Region</th><th scope=col>Score</th><th scope=col>Target</th></tr>\n",
       "\t<tr><th scope=col>&lt;chr&gt;</th><th scope=col>&lt;dbl&gt;</th><th scope=col>&lt;dbl&gt;</th><th scope=col>&lt;chr&gt;</th><th scope=col>&lt;dbl&gt;</th><th scope=col>&lt;chr&gt;</th></tr>\n",
       "</thead>\n",
       "<tbody>\n",
       "\t<tr><td>chr11</td><td>4092109</td><td>4092511</td><td>chr11:4092109-4092511</td><td>-0.1137124</td><td>HBE1</td></tr>\n",
       "\t<tr><td>chr11</td><td>4092109</td><td>4092511</td><td>chr11:4092109-4092511</td><td>-0.1517430</td><td>HBG1</td></tr>\n",
       "\t<tr><td>chr11</td><td>4092109</td><td>4092511</td><td>chr11:4092109-4092511</td><td>-0.2425928</td><td>HBG2</td></tr>\n",
       "</tbody>\n",
       "</table>\n"
      ],
      "text/latex": [
       "A tibble: 3 × 6\n",
       "\\begin{tabular}{llllll}\n",
       " Chrom & ChromStart & ChromEnd & Region & Score & Target\\\\\n",
       " <chr> & <dbl> & <dbl> & <chr> & <dbl> & <chr>\\\\\n",
       "\\hline\n",
       "\t chr11 & 4092109 & 4092511 & chr11:4092109-4092511 & -0.1137124 & HBE1\\\\\n",
       "\t chr11 & 4092109 & 4092511 & chr11:4092109-4092511 & -0.1517430 & HBG1\\\\\n",
       "\t chr11 & 4092109 & 4092511 & chr11:4092109-4092511 & -0.2425928 & HBG2\\\\\n",
       "\\end{tabular}\n"
      ],
      "text/markdown": [
       "\n",
       "A tibble: 3 × 6\n",
       "\n",
       "| Chrom &lt;chr&gt; | ChromStart &lt;dbl&gt; | ChromEnd &lt;dbl&gt; | Region &lt;chr&gt; | Score &lt;dbl&gt; | Target &lt;chr&gt; |\n",
       "|---|---|---|---|---|---|\n",
       "| chr11 | 4092109 | 4092511 | chr11:4092109-4092511 | -0.1137124 | HBE1 |\n",
       "| chr11 | 4092109 | 4092511 | chr11:4092109-4092511 | -0.1517430 | HBG1 |\n",
       "| chr11 | 4092109 | 4092511 | chr11:4092109-4092511 | -0.2425928 | HBG2 |\n",
       "\n"
      ],
      "text/plain": [
       "  Chrom ChromStart ChromEnd Region                Score      Target\n",
       "1 chr11 4092109    4092511  chr11:4092109-4092511 -0.1137124 HBE1  \n",
       "2 chr11 4092109    4092511  chr11:4092109-4092511 -0.1517430 HBG1  \n",
       "3 chr11 4092109    4092511  chr11:4092109-4092511 -0.2425928 HBG2  "
      ]
     },
     "metadata": {},
     "output_type": "display_data"
    }
   ],
   "source": [
    "lst = lst_dat_region_score_chcrff_import\n",
    "lst = lapply(lst, function(dat){\n",
    "    ### set score\n",
    "    dat = dat %>% dplyr::mutate(Score = Mean)\n",
    "\n",
    "    ### select the columns\n",
    "    dat = dat %>%\n",
    "        dplyr::select(Chrom, ChromStart, ChromEnd, Region, Score, Target) %>%\n",
    "        dplyr::distinct()\n",
    "    return(dat)\n",
    "})\n",
    "\n",
    "### assign and show\n",
    "lst_dat_region_score_arrange = lst\n",
    "\n",
    "res = lapply(lst, dim)\n",
    "print(res)\n",
    "\n",
    "dat = lst[[1]]\n",
    "head(dat, 3)"
   ]
  },
  {
   "cell_type": "code",
   "execution_count": 17,
   "id": "1da769d1-e155-48b7-8dc9-2857a89ec6db",
   "metadata": {},
   "outputs": [
    {
     "data": {
      "text/html": [
       "<table>\n",
       " <thead>\n",
       "  <tr>\n",
       "   <th style=\"text-align:left;\"> Chrom </th>\n",
       "   <th style=\"text-align:right;\"> ChromStart </th>\n",
       "   <th style=\"text-align:right;\"> ChromEnd </th>\n",
       "   <th style=\"text-align:left;\"> Region </th>\n",
       "   <th style=\"text-align:right;\"> Score </th>\n",
       "   <th style=\"text-align:left;\"> Target </th>\n",
       "  </tr>\n",
       " </thead>\n",
       "<tbody>\n",
       "  <tr>\n",
       "   <td style=\"text-align:left;\"> chr11 </td>\n",
       "   <td style=\"text-align:right;\"> 5280584 </td>\n",
       "   <td style=\"text-align:right;\"> 5281266 </td>\n",
       "   <td style=\"text-align:left;\"> chr11:5280584-5281266 </td>\n",
       "   <td style=\"text-align:right;\"> 2.2706102 </td>\n",
       "   <td style=\"text-align:left;\"> HBE1 </td>\n",
       "  </tr>\n",
       "  <tr>\n",
       "   <td style=\"text-align:left;\"> chr11 </td>\n",
       "   <td style=\"text-align:right;\"> 5280584 </td>\n",
       "   <td style=\"text-align:right;\"> 5281266 </td>\n",
       "   <td style=\"text-align:left;\"> chr11:5280584-5281266 </td>\n",
       "   <td style=\"text-align:right;\"> 4.0285310 </td>\n",
       "   <td style=\"text-align:left;\"> HBG1 </td>\n",
       "  </tr>\n",
       "  <tr>\n",
       "   <td style=\"text-align:left;\"> chr11 </td>\n",
       "   <td style=\"text-align:right;\"> 5280584 </td>\n",
       "   <td style=\"text-align:right;\"> 5281266 </td>\n",
       "   <td style=\"text-align:left;\"> chr11:5280584-5281266 </td>\n",
       "   <td style=\"text-align:right;\"> 4.6146099 </td>\n",
       "   <td style=\"text-align:left;\"> HBG2 </td>\n",
       "  </tr>\n",
       "  <tr>\n",
       "   <td style=\"text-align:left;\"> chr11 </td>\n",
       "   <td style=\"text-align:right;\"> 5280584 </td>\n",
       "   <td style=\"text-align:right;\"> 5281266 </td>\n",
       "   <td style=\"text-align:left;\"> chr11:5280584-5281266 </td>\n",
       "   <td style=\"text-align:right;\"> -0.1405130 </td>\n",
       "   <td style=\"text-align:left;\"> HBS1L </td>\n",
       "  </tr>\n",
       "  <tr>\n",
       "   <td style=\"text-align:left;\"> chr11 </td>\n",
       "   <td style=\"text-align:right;\"> 5280584 </td>\n",
       "   <td style=\"text-align:right;\"> 5281266 </td>\n",
       "   <td style=\"text-align:left;\"> chr11:5280584-5281266 </td>\n",
       "   <td style=\"text-align:right;\"> 0.0163336 </td>\n",
       "   <td style=\"text-align:left;\"> MYB </td>\n",
       "  </tr>\n",
       "</tbody>\n",
       "</table>"
      ]
     },
     "metadata": {},
     "output_type": "display_data"
    }
   ],
   "source": [
    "idx = \"fcc_astarr_macs_input_overlap\"\n",
    "lst = lst_dat_region_score_arrange\n",
    "dat = lst[[idx]]\n",
    "\n",
    "dat = dat %>% dplyr::filter(Region == TXT_REGION_LCR_HS2)\n",
    "fun_display_table(dat)"
   ]
  },
  {
   "cell_type": "code",
   "execution_count": null,
   "id": "755cc501-815f-479a-ad78-5f8288518975",
   "metadata": {},
   "outputs": [],
   "source": []
  },
  {
   "cell_type": "code",
   "execution_count": null,
   "id": "1b2c608b-fc48-4f86-8be1-6358d7856109",
   "metadata": {},
   "outputs": [],
   "source": []
  },
  {
   "cell_type": "code",
   "execution_count": null,
   "id": "41e703c7-1b4f-48fe-88c5-a6a6d56edc68",
   "metadata": {},
   "outputs": [],
   "source": []
  },
  {
   "cell_type": "code",
   "execution_count": null,
   "id": "a53d9e3b-7916-4a09-b54c-1f4da8c6d7ff",
   "metadata": {},
   "outputs": [],
   "source": []
  },
  {
   "cell_type": "code",
   "execution_count": 7,
   "id": "3e891a25-d4db-4f3e-a34e-c8985b15f00c",
   "metadata": {},
   "outputs": [
    {
     "data": {
      "text/html": [
       "<table class=\"dataframe\">\n",
       "<caption>A spec_tbl_df: 5 × 12</caption>\n",
       "<thead>\n",
       "\t<tr><th scope=col>Chrom</th><th scope=col>ChromStart</th><th scope=col>ChromEnd</th><th scope=col>Region</th><th scope=col>Score</th><th scope=col>Zcore</th><th scope=col>Score_Label</th><th scope=col>Zcore_Label</th><th scope=col>Assay_Name</th><th scope=col>Assay_Type</th><th scope=col>Assay_Group</th><th scope=col>Assay_Label</th></tr>\n",
       "\t<tr><th scope=col>&lt;chr&gt;</th><th scope=col>&lt;dbl&gt;</th><th scope=col>&lt;dbl&gt;</th><th scope=col>&lt;chr&gt;</th><th scope=col>&lt;dbl&gt;</th><th scope=col>&lt;dbl&gt;</th><th scope=col>&lt;chr&gt;</th><th scope=col>&lt;chr&gt;</th><th scope=col>&lt;chr&gt;</th><th scope=col>&lt;chr&gt;</th><th scope=col>&lt;chr&gt;</th><th scope=col>&lt;chr&gt;</th></tr>\n",
       "</thead>\n",
       "<tbody>\n",
       "\t<tr><td>chrX</td><td>48782613</td><td>48783539</td><td>chrX:48782613-48783539</td><td>1.7147966</td><td>1.032789</td><td>Log2FC      </td><td>Scale(Log2FC)</td><td>MPRA_Tiling_K562_Tewhey_Hannah     </td><td>TMPRA         </td><td>TMPRA         </td><td>Tiling-MPRA         </td></tr>\n",
       "\t<tr><td>chrX</td><td>48782613</td><td>48783539</td><td>chrX:48782613-48783539</td><td>1.5149754</td><td>2.387557</td><td>Log2FC      </td><td>Scale(Log2FC)</td><td>STARR_ATAC_K562_Reddy_KS91         </td><td>ASTARR        </td><td>ASTARR_KS91   </td><td>ATAC-STARR          </td></tr>\n",
       "\t<tr><td>chrX</td><td>48782613</td><td>48783539</td><td>chrX:48782613-48783539</td><td>0.7122563</td><td>1.782385</td><td>Log2FC      </td><td>Scale(Log2FC)</td><td>STARR_WHG_K562_Reddy_A001          </td><td>WSTARR        </td><td>WSTARR        </td><td>WHG-STARR           </td></tr>\n",
       "\t<tr><td>chrX</td><td>48782613</td><td>48783539</td><td>chrX:48782613-48783539</td><td>1.5321586</td><td>1.532159</td><td>Mean(ZScore)</td><td>Mean(ZScore) </td><td>CRISPRi_FlowFISH_K562_Riley_JinWoo </td><td>CRISPRi-HCRFF </td><td>CRISPRi-HCRFF </td><td>CRISPRi-HCR FlowFISH</td></tr>\n",
       "\t<tr><td>chrX</td><td>48782613</td><td>48783539</td><td>chrX:48782613-48783539</td><td>2.4922080</td><td>2.492208</td><td>Mean(ZScore)</td><td>Mean(ZScore) </td><td>CRISPRi_Growth_K562_Gersbach_JinWoo</td><td>CRISPRi-Growth</td><td>CRISPRi-Growth</td><td>CRISPRi-Growth      </td></tr>\n",
       "</tbody>\n",
       "</table>\n"
      ],
      "text/latex": [
       "A spec\\_tbl\\_df: 5 × 12\n",
       "\\begin{tabular}{llllllllllll}\n",
       " Chrom & ChromStart & ChromEnd & Region & Score & Zcore & Score\\_Label & Zcore\\_Label & Assay\\_Name & Assay\\_Type & Assay\\_Group & Assay\\_Label\\\\\n",
       " <chr> & <dbl> & <dbl> & <chr> & <dbl> & <dbl> & <chr> & <chr> & <chr> & <chr> & <chr> & <chr>\\\\\n",
       "\\hline\n",
       "\t chrX & 48782613 & 48783539 & chrX:48782613-48783539 & 1.7147966 & 1.032789 & Log2FC       & Scale(Log2FC) & MPRA\\_Tiling\\_K562\\_Tewhey\\_Hannah      & TMPRA          & TMPRA          & Tiling-MPRA         \\\\\n",
       "\t chrX & 48782613 & 48783539 & chrX:48782613-48783539 & 1.5149754 & 2.387557 & Log2FC       & Scale(Log2FC) & STARR\\_ATAC\\_K562\\_Reddy\\_KS91          & ASTARR         & ASTARR\\_KS91    & ATAC-STARR          \\\\\n",
       "\t chrX & 48782613 & 48783539 & chrX:48782613-48783539 & 0.7122563 & 1.782385 & Log2FC       & Scale(Log2FC) & STARR\\_WHG\\_K562\\_Reddy\\_A001           & WSTARR         & WSTARR         & WHG-STARR           \\\\\n",
       "\t chrX & 48782613 & 48783539 & chrX:48782613-48783539 & 1.5321586 & 1.532159 & Mean(ZScore) & Mean(ZScore)  & CRISPRi\\_FlowFISH\\_K562\\_Riley\\_JinWoo  & CRISPRi-HCRFF  & CRISPRi-HCRFF  & CRISPRi-HCR FlowFISH\\\\\n",
       "\t chrX & 48782613 & 48783539 & chrX:48782613-48783539 & 2.4922080 & 2.492208 & Mean(ZScore) & Mean(ZScore)  & CRISPRi\\_Growth\\_K562\\_Gersbach\\_JinWoo & CRISPRi-Growth & CRISPRi-Growth & CRISPRi-Growth      \\\\\n",
       "\\end{tabular}\n"
      ],
      "text/markdown": [
       "\n",
       "A spec_tbl_df: 5 × 12\n",
       "\n",
       "| Chrom &lt;chr&gt; | ChromStart &lt;dbl&gt; | ChromEnd &lt;dbl&gt; | Region &lt;chr&gt; | Score &lt;dbl&gt; | Zcore &lt;dbl&gt; | Score_Label &lt;chr&gt; | Zcore_Label &lt;chr&gt; | Assay_Name &lt;chr&gt; | Assay_Type &lt;chr&gt; | Assay_Group &lt;chr&gt; | Assay_Label &lt;chr&gt; |\n",
       "|---|---|---|---|---|---|---|---|---|---|---|---|\n",
       "| chrX | 48782613 | 48783539 | chrX:48782613-48783539 | 1.7147966 | 1.032789 | Log2FC       | Scale(Log2FC) | MPRA_Tiling_K562_Tewhey_Hannah      | TMPRA          | TMPRA          | Tiling-MPRA          |\n",
       "| chrX | 48782613 | 48783539 | chrX:48782613-48783539 | 1.5149754 | 2.387557 | Log2FC       | Scale(Log2FC) | STARR_ATAC_K562_Reddy_KS91          | ASTARR         | ASTARR_KS91    | ATAC-STARR           |\n",
       "| chrX | 48782613 | 48783539 | chrX:48782613-48783539 | 0.7122563 | 1.782385 | Log2FC       | Scale(Log2FC) | STARR_WHG_K562_Reddy_A001           | WSTARR         | WSTARR         | WHG-STARR            |\n",
       "| chrX | 48782613 | 48783539 | chrX:48782613-48783539 | 1.5321586 | 1.532159 | Mean(ZScore) | Mean(ZScore)  | CRISPRi_FlowFISH_K562_Riley_JinWoo  | CRISPRi-HCRFF  | CRISPRi-HCRFF  | CRISPRi-HCR FlowFISH |\n",
       "| chrX | 48782613 | 48783539 | chrX:48782613-48783539 | 2.4922080 | 2.492208 | Mean(ZScore) | Mean(ZScore)  | CRISPRi_Growth_K562_Gersbach_JinWoo | CRISPRi-Growth | CRISPRi-Growth | CRISPRi-Growth       |\n",
       "\n"
      ],
      "text/plain": [
       "  Chrom ChromStart ChromEnd Region                 Score     Zcore   \n",
       "1 chrX  48782613   48783539 chrX:48782613-48783539 1.7147966 1.032789\n",
       "2 chrX  48782613   48783539 chrX:48782613-48783539 1.5149754 2.387557\n",
       "3 chrX  48782613   48783539 chrX:48782613-48783539 0.7122563 1.782385\n",
       "4 chrX  48782613   48783539 chrX:48782613-48783539 1.5321586 1.532159\n",
       "5 chrX  48782613   48783539 chrX:48782613-48783539 2.4922080 2.492208\n",
       "  Score_Label  Zcore_Label   Assay_Name                          Assay_Type    \n",
       "1 Log2FC       Scale(Log2FC) MPRA_Tiling_K562_Tewhey_Hannah      TMPRA         \n",
       "2 Log2FC       Scale(Log2FC) STARR_ATAC_K562_Reddy_KS91          ASTARR        \n",
       "3 Log2FC       Scale(Log2FC) STARR_WHG_K562_Reddy_A001           WSTARR        \n",
       "4 Mean(ZScore) Mean(ZScore)  CRISPRi_FlowFISH_K562_Riley_JinWoo  CRISPRi-HCRFF \n",
       "5 Mean(ZScore) Mean(ZScore)  CRISPRi_Growth_K562_Gersbach_JinWoo CRISPRi-Growth\n",
       "  Assay_Group    Assay_Label         \n",
       "1 TMPRA          Tiling-MPRA         \n",
       "2 ASTARR_KS91    ATAC-STARR          \n",
       "3 WSTARR         WHG-STARR           \n",
       "4 CRISPRi-HCRFF  CRISPRi-HCR FlowFISH\n",
       "5 CRISPRi-Growth CRISPRi-Growth      "
      ]
     },
     "metadata": {},
     "output_type": "display_data"
    }
   ],
   "source": [
    "lst = lst_dat_region_score_import\n",
    "dat = lst[[1]]\n",
    "dat %>% dplyr::filter(Region == \"chrX:48782613-48783539\")"
   ]
  },
  {
   "cell_type": "code",
   "execution_count": null,
   "id": "b0cf1b90-d5ba-4d6a-8683-76248035c8c9",
   "metadata": {},
   "outputs": [],
   "source": [
    "\"chrX:48782613-48783539\"\n",
    "chrX:48782524-48783758"
   ]
  }
 ],
 "metadata": {
  "kernelspec": {
   "display_name": "R",
   "language": "R",
   "name": "ir"
  },
  "language_info": {
   "codemirror_mode": "r",
   "file_extension": ".r",
   "mimetype": "text/x-r-source",
   "name": "R",
   "pygments_lexer": "r",
   "version": "4.5.1"
  }
 },
 "nbformat": 4,
 "nbformat_minor": 5
}
