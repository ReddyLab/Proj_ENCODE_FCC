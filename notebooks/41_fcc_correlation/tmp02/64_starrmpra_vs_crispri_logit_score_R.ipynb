{
 "cells": [
  {
   "cell_type": "raw",
   "id": "dac68edf-b44a-4e59-a9a8-d714152b0f2f",
   "metadata": {},
   "source": [
    "---\n",
    "title: ...\n",
    "subtitle: combine ATAC, setup total, final, and share verion of table\n",
    "format:\n",
    "    html:\n",
    "        code-fold:  true\n",
    "        code-tools: true\n",
    "---"
   ]
  },
  {
   "cell_type": "markdown",
   "id": "28ce7f83-b965-4fc8-b9cd-ffa7cf973fc1",
   "metadata": {},
   "source": [
    "**Set environment**"
   ]
  },
  {
   "cell_type": "code",
   "execution_count": 1,
   "id": "d90366d5-86bc-4cba-b803-5f55a6b9c120",
   "metadata": {},
   "outputs": [
    {
     "name": "stdout",
     "output_type": "stream",
     "text": [
      "You are working on        Singularity: singularity_proj_encode_fcc \n",
      "BASE DIRECTORY (FD_BASE): /data/reddylab/Kuei \n",
      "REPO DIRECTORY (FD_REPO): /data/reddylab/Kuei/repo \n",
      "WORK DIRECTORY (FD_WORK): /data/reddylab/Kuei/work \n",
      "DATA DIRECTORY (FD_DATA): /data/reddylab/Kuei/data \n",
      "\n",
      "You are working with      ENCODE FCC \n",
      "PATH OF PROJECT (FD_PRJ): /data/reddylab/Kuei/repo/Proj_ENCODE_FCC \n",
      "PROJECT RESULTS (FD_RES): /data/reddylab/Kuei/repo/Proj_ENCODE_FCC/results \n",
      "PROJECT SCRIPTS (FD_EXE): /data/reddylab/Kuei/repo/Proj_ENCODE_FCC/scripts \n",
      "PROJECT DATA    (FD_DAT): /data/reddylab/Kuei/repo/Proj_ENCODE_FCC/data \n",
      "PROJECT NOTE    (FD_NBK): /data/reddylab/Kuei/repo/Proj_ENCODE_FCC/notebooks \n",
      "PROJECT DOCS    (FD_DOC): /data/reddylab/Kuei/repo/Proj_ENCODE_FCC/docs \n",
      "PROJECT LOG     (FD_LOG): /data/reddylab/Kuei/repo/Proj_ENCODE_FCC/log \n",
      "PROJECT REF     (FD_REF): /data/reddylab/Kuei/repo/Proj_ENCODE_FCC/references \n",
      "\n"
     ]
    }
   ],
   "source": [
    "suppressMessages(suppressWarnings(source(\"../run_config_project_sing.R\")))\n",
    "show_env()"
   ]
  },
  {
   "cell_type": "markdown",
   "id": "dba23ca4-c72d-48c7-aef1-bfe66c617cc0",
   "metadata": {},
   "source": [
    "**Check: region directory**"
   ]
  },
  {
   "cell_type": "code",
   "execution_count": 2,
   "id": "50857a1a-5695-4004-8b25-7e118fcdd2ad",
   "metadata": {},
   "outputs": [
    {
     "name": "stdout",
     "output_type": "stream",
     "text": [
      "atac_ENCFF333TAT \n",
      "atac_ENCFF558BLC \n",
      "atac_ENCFF925CYR \n",
      "atac_ENCFF948AFM \n",
      "dnase_ENCFF185XRG \n",
      "dnase_ENCFF274YGF \n",
      "fcc_astarr_macs_input_overlap \n",
      "fcc_astarr_macs_input_union \n"
     ]
    }
   ],
   "source": [
    "txt_fdiry = file.path(FD_RES, \"region_coverage_fcc_score\")\n",
    "\n",
    "vec = dir(txt_fdiry)\n",
    "for (txt in vec){cat(txt, \"\\n\")}"
   ]
  },
  {
   "cell_type": "markdown",
   "id": "65314e0d-903a-4f60-91a7-26f79c55ed17",
   "metadata": {},
   "source": [
    "**Check: assay directory**"
   ]
  },
  {
   "cell_type": "code",
   "execution_count": 3,
   "id": "8158015a-d698-4e2d-90bb-8f4a88a2bb6f",
   "metadata": {},
   "outputs": [
    {
     "name": "stdout",
     "output_type": "stream",
     "text": [
      "CRISPRi_FlowFISH_K562_Riley_JinWoo \n",
      "CRISPRi_Growth_K562_Gersbach_JinWoo \n",
      "MPRA_Lenti_K562_Nadav_Vikram \n",
      "MPRA_Tiling_K562_Tewhey_Hannah \n",
      "STARR_ATAC_K562_Reddy_KS274 \n",
      "STARR_ATAC_K562_Reddy_KS91 \n",
      "STARR_ATAC_K562_Reddy_KSMerge \n",
      "STARR_WHG_K562_Reddy_A001 \n",
      "summary \n"
     ]
    }
   ],
   "source": [
    "txt_region = \"fcc_astarr_macs_input_union\"\n",
    "txt_fdiry  = file.path(FD_RES, \"region_coverage_fcc_score\", txt_region)\n",
    "vec = dir(txt_fdiry)\n",
    "for (txt in vec) {cat(txt, \"\\n\")}"
   ]
  },
  {
   "cell_type": "markdown",
   "id": "597ed728-83f9-4f83-82d9-2edff2f7d825",
   "metadata": {},
   "source": [
    "**Set global variable**"
   ]
  },
  {
   "cell_type": "code",
   "execution_count": 4,
   "id": "9372dc5d-41e3-4753-a86b-c0695a423899",
   "metadata": {},
   "outputs": [
    {
     "name": "stdout",
     "output_type": "stream",
     "text": [
      "fcc_astarr_macs_input_overlap \n",
      "fcc_astarr_macs_input_union \n"
     ]
    }
   ],
   "source": [
    "## init: region folder\n",
    "vec = c(\"fcc_astarr_macs_input_overlap\", \"fcc_astarr_macs_input_union\")\n",
    "names(vec) = vec\n",
    "\n",
    "VEC_TXT_FOLDER = vec\n",
    "for (txt in vec) {cat(txt, \"\\n\")}"
   ]
  },
  {
   "cell_type": "code",
   "execution_count": 5,
   "id": "180aac97-7e4e-4f9c-bb4a-30048ec9fff5",
   "metadata": {},
   "outputs": [],
   "source": [
    "vec = c(\"CRISPRi-HCRFF\", \"CRISPRi-Growth\", \"ENCODE-rE2G Benchmark\")\n",
    "names(vec) = vec\n",
    "VEC_TXT_ASSAY_OUT = vec\n",
    "\n",
    "vec = c(\"ASTARR\", \"WSTARR\", \"LMPRA\", \"TMPRA\", \"ATAC\")\n",
    "names(vec) = vec\n",
    "VEC_TXT_ASSAY_INP = vec"
   ]
  },
  {
   "cell_type": "markdown",
   "id": "da056a22-f40e-4e46-8d8b-e9010276558b",
   "metadata": {},
   "source": [
    "**Check input files**"
   ]
  },
  {
   "cell_type": "code",
   "execution_count": 6,
   "id": "9fb5da54-69dc-4ef2-9cce-7cda121822ed",
   "metadata": {},
   "outputs": [
    {
     "name": "stdout",
     "output_type": "stream",
     "text": [
      "/data/reddylab/Kuei/repo/Proj_ENCODE_FCC/results/analysis_fcc_correlation/fcc_astarr_macs_input_overlap/region.coverage.score.concat.tsv \n"
     ]
    }
   ],
   "source": [
    "txt_folder = VEC_TXT_FOLDER[1]\n",
    "txt_fdiry  = file.path(FD_RES, \"analysis_fcc_correlation\", txt_folder)\n",
    "txt_fname  = \"region.coverage.score.*.tsv\"\n",
    "txt_fglob  = file.path(txt_fdiry, txt_fname)\n",
    "\n",
    "vec = Sys.glob(txt_fglob)\n",
    "for (txt in vec) {cat(txt, \"\\n\")}"
   ]
  },
  {
   "cell_type": "markdown",
   "id": "5e294aad-cffa-4560-8956-f477a2c7bdde",
   "metadata": {},
   "source": [
    "## Import data"
   ]
  },
  {
   "cell_type": "code",
   "execution_count": 7,
   "id": "33a2f5c4-8774-4351-89fb-8f4422fea413",
   "metadata": {},
   "outputs": [
    {
     "name": "stdout",
     "output_type": "stream",
     "text": [
      "$fcc_astarr_macs_input_overlap\n",
      "[1] 586004      8\n",
      "\n",
      "$fcc_astarr_macs_input_union\n",
      "[1] 889739      8\n",
      "\n"
     ]
    },
    {
     "data": {
      "text/html": [
       "<table class=\"dataframe\">\n",
       "<caption>A tibble: 3 × 8</caption>\n",
       "<thead>\n",
       "\t<tr><th scope=col>Chrom</th><th scope=col>ChromStart</th><th scope=col>ChromEnd</th><th scope=col>Region</th><th scope=col>Score</th><th scope=col>Score_Label</th><th scope=col>Assay_Group</th><th scope=col>Assay_Label</th></tr>\n",
       "\t<tr><th scope=col>&lt;chr&gt;</th><th scope=col>&lt;dbl&gt;</th><th scope=col>&lt;dbl&gt;</th><th scope=col>&lt;chr&gt;</th><th scope=col>&lt;dbl&gt;</th><th scope=col>&lt;chr&gt;</th><th scope=col>&lt;chr&gt;</th><th scope=col>&lt;chr&gt;</th></tr>\n",
       "</thead>\n",
       "<tbody>\n",
       "\t<tr><td>chr1</td><td>10038</td><td>10405</td><td>chr1:10038-10405</td><td>-3.5573621</td><td>Scale(Log2FC)</td><td>ASTARR_KS91</td><td>ASTARR</td></tr>\n",
       "\t<tr><td>chr1</td><td>14282</td><td>14614</td><td>chr1:14282-14614</td><td> 0.0361388</td><td>Scale(Log2FC)</td><td>ASTARR_KS91</td><td>ASTARR</td></tr>\n",
       "\t<tr><td>chr1</td><td>16025</td><td>16338</td><td>chr1:16025-16338</td><td>-2.1376311</td><td>Scale(Log2FC)</td><td>ASTARR_KS91</td><td>ASTARR</td></tr>\n",
       "</tbody>\n",
       "</table>\n"
      ],
      "text/latex": [
       "A tibble: 3 × 8\n",
       "\\begin{tabular}{llllllll}\n",
       " Chrom & ChromStart & ChromEnd & Region & Score & Score\\_Label & Assay\\_Group & Assay\\_Label\\\\\n",
       " <chr> & <dbl> & <dbl> & <chr> & <dbl> & <chr> & <chr> & <chr>\\\\\n",
       "\\hline\n",
       "\t chr1 & 10038 & 10405 & chr1:10038-10405 & -3.5573621 & Scale(Log2FC) & ASTARR\\_KS91 & ASTARR\\\\\n",
       "\t chr1 & 14282 & 14614 & chr1:14282-14614 &  0.0361388 & Scale(Log2FC) & ASTARR\\_KS91 & ASTARR\\\\\n",
       "\t chr1 & 16025 & 16338 & chr1:16025-16338 & -2.1376311 & Scale(Log2FC) & ASTARR\\_KS91 & ASTARR\\\\\n",
       "\\end{tabular}\n"
      ],
      "text/markdown": [
       "\n",
       "A tibble: 3 × 8\n",
       "\n",
       "| Chrom &lt;chr&gt; | ChromStart &lt;dbl&gt; | ChromEnd &lt;dbl&gt; | Region &lt;chr&gt; | Score &lt;dbl&gt; | Score_Label &lt;chr&gt; | Assay_Group &lt;chr&gt; | Assay_Label &lt;chr&gt; |\n",
       "|---|---|---|---|---|---|---|---|\n",
       "| chr1 | 10038 | 10405 | chr1:10038-10405 | -3.5573621 | Scale(Log2FC) | ASTARR_KS91 | ASTARR |\n",
       "| chr1 | 14282 | 14614 | chr1:14282-14614 |  0.0361388 | Scale(Log2FC) | ASTARR_KS91 | ASTARR |\n",
       "| chr1 | 16025 | 16338 | chr1:16025-16338 | -2.1376311 | Scale(Log2FC) | ASTARR_KS91 | ASTARR |\n",
       "\n"
      ],
      "text/plain": [
       "  Chrom ChromStart ChromEnd Region           Score      Score_Label  \n",
       "1 chr1  10038      10405    chr1:10038-10405 -3.5573621 Scale(Log2FC)\n",
       "2 chr1  14282      14614    chr1:14282-14614  0.0361388 Scale(Log2FC)\n",
       "3 chr1  16025      16338    chr1:16025-16338 -2.1376311 Scale(Log2FC)\n",
       "  Assay_Group Assay_Label\n",
       "1 ASTARR_KS91 ASTARR     \n",
       "2 ASTARR_KS91 ASTARR     \n",
       "3 ASTARR_KS91 ASTARR     "
      ]
     },
     "metadata": {},
     "output_type": "display_data"
    }
   ],
   "source": [
    "lst = lapply(VEC_TXT_FOLDER, function(txt_folder){\n",
    "    ### set file directory\n",
    "    txt_fdiry  = file.path(FD_RES, \"analysis_fcc_correlation\", txt_folder)\n",
    "    txt_fname = \"region.coverage.score.concat.tsv\"\n",
    "    txt_fpath = file.path(txt_fdiry, txt_fname)\n",
    "\n",
    "    ### read table\n",
    "    dat = read_tsv(txt_fpath, show_col_types = FALSE)\n",
    "    return(dat)\n",
    "})\n",
    "\n",
    "### assign and show\n",
    "lst_dat_region_score_import = lst\n",
    "\n",
    "res = lapply(lst, dim)\n",
    "print(res)\n",
    "\n",
    "dat = lst[[1]]\n",
    "head(dat, 3)"
   ]
  },
  {
   "cell_type": "markdown",
   "id": "a1dd296d-673a-4d46-b85d-5f0f607da581",
   "metadata": {},
   "source": [
    "**Check: Assay count**"
   ]
  },
  {
   "cell_type": "code",
   "execution_count": 8,
   "id": "1988444e-a23a-411e-89b6-6ce073b2f613",
   "metadata": {},
   "outputs": [
    {
     "data": {
      "text/html": [
       "<table>\n",
       " <thead>\n",
       "  <tr>\n",
       "   <th style=\"text-align:left;\"> Assay_Group </th>\n",
       "   <th style=\"text-align:left;\"> Assay_Label </th>\n",
       "   <th style=\"text-align:right;\"> fcc_astarr_macs_input_overlap </th>\n",
       "   <th style=\"text-align:right;\"> fcc_astarr_macs_input_union </th>\n",
       "  </tr>\n",
       " </thead>\n",
       "<tbody>\n",
       "  <tr>\n",
       "   <td style=\"text-align:left;\"> ASTARR_KS91 </td>\n",
       "   <td style=\"text-align:left;\"> ASTARR </td>\n",
       "   <td style=\"text-align:right;\"> 150040 </td>\n",
       "   <td style=\"text-align:right;\"> 246850 </td>\n",
       "  </tr>\n",
       "  <tr>\n",
       "   <td style=\"text-align:left;\"> ASTARR_KS91 </td>\n",
       "   <td style=\"text-align:left;\"> ATAC </td>\n",
       "   <td style=\"text-align:right;\"> 150041 </td>\n",
       "   <td style=\"text-align:right;\"> 246852 </td>\n",
       "  </tr>\n",
       "  <tr>\n",
       "   <td style=\"text-align:left;\"> CRISPRi-Growth </td>\n",
       "   <td style=\"text-align:left;\"> CRISPRi-Growth </td>\n",
       "   <td style=\"text-align:right;\"> 72743 </td>\n",
       "   <td style=\"text-align:right;\"> 80288 </td>\n",
       "  </tr>\n",
       "  <tr>\n",
       "   <td style=\"text-align:left;\"> CRISPRi-HCRFF </td>\n",
       "   <td style=\"text-align:left;\"> CRISPRi-HCRFF </td>\n",
       "   <td style=\"text-align:right;\"> 925 </td>\n",
       "   <td style=\"text-align:right;\"> 1330 </td>\n",
       "  </tr>\n",
       "  <tr>\n",
       "   <td style=\"text-align:left;\"> ENCODE-rE2G </td>\n",
       "   <td style=\"text-align:left;\"> ENCODE-rE2G Benchmark </td>\n",
       "   <td style=\"text-align:right;\"> 3035 </td>\n",
       "   <td style=\"text-align:right;\"> 3169 </td>\n",
       "  </tr>\n",
       "  <tr>\n",
       "   <td style=\"text-align:left;\"> LMPRA </td>\n",
       "   <td style=\"text-align:left;\"> LMPRA </td>\n",
       "   <td style=\"text-align:right;\"> 61478 </td>\n",
       "   <td style=\"text-align:right;\"> 68497 </td>\n",
       "  </tr>\n",
       "  <tr>\n",
       "   <td style=\"text-align:left;\"> TMPRA </td>\n",
       "   <td style=\"text-align:left;\"> TMPRA </td>\n",
       "   <td style=\"text-align:right;\"> 1148 </td>\n",
       "   <td style=\"text-align:right;\"> 1722 </td>\n",
       "  </tr>\n",
       "  <tr>\n",
       "   <td style=\"text-align:left;\"> WSTARR </td>\n",
       "   <td style=\"text-align:left;\"> WSTARR </td>\n",
       "   <td style=\"text-align:right;\"> 146594 </td>\n",
       "   <td style=\"text-align:right;\"> 241031 </td>\n",
       "  </tr>\n",
       "</tbody>\n",
       "</table>"
      ]
     },
     "metadata": {},
     "output_type": "display_data"
    }
   ],
   "source": [
    "lst = lst_dat_region_score_import\n",
    "lst = lapply(lst, function(dat){\n",
    "    dat = dat %>% \n",
    "        dplyr::group_by(Assay_Group, Assay_Label) %>%\n",
    "        dplyr::summarise(Freq = n(), .groups = \"drop\")\n",
    "    return(dat)\n",
    "})\n",
    "\n",
    "dat = bind_rows(lst, .id = \"Folder\")\n",
    "dat = dat %>% tidyr::spread(Folder, Freq)\n",
    "fun_display_table(dat)"
   ]
  },
  {
   "cell_type": "markdown",
   "id": "fc0c891a-e713-4386-bf84-2a7994d1a4cb",
   "metadata": {},
   "source": [
    "**Check: Missing values**"
   ]
  },
  {
   "cell_type": "code",
   "execution_count": 9,
   "id": "7e3c4d6a-ff1a-4e93-aa0f-2eebb0356c4f",
   "metadata": {},
   "outputs": [
    {
     "name": "stdout",
     "output_type": "stream",
     "text": [
      "$fcc_astarr_macs_input_overlap\n",
      "[1] FALSE\n",
      "\n",
      "$fcc_astarr_macs_input_union\n",
      "[1] FALSE\n",
      "\n"
     ]
    }
   ],
   "source": [
    "lst = lst_dat_region_score_import\n",
    "lst = lapply(lst, function(dat){\n",
    "    tmp = any(is.na(dat))\n",
    "    return(tmp)\n",
    "})\n",
    "\n",
    "print(lst)"
   ]
  },
  {
   "cell_type": "markdown",
   "id": "23efd1d0-a6ec-4e90-b1b3-eedfc237508f",
   "metadata": {},
   "source": [
    "## Arrange table"
   ]
  },
  {
   "cell_type": "code",
   "execution_count": 10,
   "id": "efb7950d-de43-4f8b-bba3-b9247bf8a25a",
   "metadata": {},
   "outputs": [
    {
     "name": "stdout",
     "output_type": "stream",
     "text": [
      "[1] \"ASTARR\"                \"ATAC\"                  \"CRISPRi-Growth\"       \n",
      "[4] \"CRISPRi-HCRFF\"         \"ENCODE-rE2G Benchmark\" \"LMPRA\"                \n",
      "[7] \"TMPRA\"                 \"WSTARR\"               \n"
     ]
    }
   ],
   "source": [
    "### select and split regions by assay\n",
    "idx = \"fcc_astarr_macs_input_union\"\n",
    "lst = lst_dat_region_score_import\n",
    "\n",
    "dat = lst[[idx]]\n",
    "lst = split(dat, dat$Assay_Label)\n",
    "\n",
    "### assign and show\n",
    "lst_dat_region_score = lst\n",
    "print(names(lst))"
   ]
  },
  {
   "cell_type": "code",
   "execution_count": 11,
   "id": "e483d056-97a7-4a80-890f-b518c86e3d9f",
   "metadata": {},
   "outputs": [
    {
     "data": {
      "text/html": [
       "<table>\n",
       " <thead>\n",
       "  <tr>\n",
       "   <th style=\"text-align:left;\"> Chrom </th>\n",
       "   <th style=\"text-align:right;\"> ChromStart </th>\n",
       "   <th style=\"text-align:right;\"> ChromEnd </th>\n",
       "   <th style=\"text-align:left;\"> Region </th>\n",
       "   <th style=\"text-align:right;\"> Score </th>\n",
       "   <th style=\"text-align:left;\"> Score_Label </th>\n",
       "   <th style=\"text-align:left;\"> Assay_Group </th>\n",
       "   <th style=\"text-align:left;\"> Assay_Label </th>\n",
       "  </tr>\n",
       " </thead>\n",
       "<tbody>\n",
       "  <tr>\n",
       "   <td style=\"text-align:left;\"> chr1 </td>\n",
       "   <td style=\"text-align:right;\"> 10015 </td>\n",
       "   <td style=\"text-align:right;\"> 10442 </td>\n",
       "   <td style=\"text-align:left;\"> chr1:10015-10442 </td>\n",
       "   <td style=\"text-align:right;\"> -3.7814427 </td>\n",
       "   <td style=\"text-align:left;\"> Scale(Log2FC) </td>\n",
       "   <td style=\"text-align:left;\"> ASTARR_KS91 </td>\n",
       "   <td style=\"text-align:left;\"> ASTARR </td>\n",
       "  </tr>\n",
       "  <tr>\n",
       "   <td style=\"text-align:left;\"> chr1 </td>\n",
       "   <td style=\"text-align:right;\"> 14253 </td>\n",
       "   <td style=\"text-align:right;\"> 14645 </td>\n",
       "   <td style=\"text-align:left;\"> chr1:14253-14645 </td>\n",
       "   <td style=\"text-align:right;\"> 0.5653917 </td>\n",
       "   <td style=\"text-align:left;\"> Scale(Log2FC) </td>\n",
       "   <td style=\"text-align:left;\"> ASTARR_KS91 </td>\n",
       "   <td style=\"text-align:left;\"> ASTARR </td>\n",
       "  </tr>\n",
       "  <tr>\n",
       "   <td style=\"text-align:left;\"> chr1 </td>\n",
       "   <td style=\"text-align:right;\"> 16015 </td>\n",
       "   <td style=\"text-align:right;\"> 16477 </td>\n",
       "   <td style=\"text-align:left;\"> chr1:16015-16477 </td>\n",
       "   <td style=\"text-align:right;\"> -2.0997884 </td>\n",
       "   <td style=\"text-align:left;\"> Scale(Log2FC) </td>\n",
       "   <td style=\"text-align:left;\"> ASTARR_KS91 </td>\n",
       "   <td style=\"text-align:left;\"> ASTARR </td>\n",
       "  </tr>\n",
       "</tbody>\n",
       "</table>"
      ]
     },
     "metadata": {},
     "output_type": "display_data"
    }
   ],
   "source": [
    "lst = lst_dat_region_score\n",
    "dat = lst[[1]]\n",
    "fun_display_table(head(dat, 3))"
   ]
  },
  {
   "cell_type": "markdown",
   "id": "88ec4d7a-3e76-4051-8e7a-57f18bf16460",
   "metadata": {},
   "source": [
    "## Execute"
   ]
  },
  {
   "cell_type": "markdown",
   "id": "7eeabf81-4fc7-44da-a21b-c8831e77fa85",
   "metadata": {},
   "source": [
    "**Initialization**"
   ]
  },
  {
   "cell_type": "code",
   "execution_count": 12,
   "id": "bd592175-7b63-4766-8d69-4c8015493c04",
   "metadata": {},
   "outputs": [],
   "source": [
    "num_hit_rate = 0.1"
   ]
  },
  {
   "cell_type": "code",
   "execution_count": null,
   "id": "92efd2f3-0a6b-4fa9-9370-1ec829c4925e",
   "metadata": {},
   "outputs": [],
   "source": []
  },
  {
   "cell_type": "code",
   "execution_count": 13,
   "id": "ed2c0706-0b8e-4981-ad30-770d81438201",
   "metadata": {},
   "outputs": [
    {
     "name": "stdout",
     "output_type": "stream",
     "text": [
      "[1] \"CRISPRi-HCRFF\"         \"CRISPRi-Growth\"        \"ENCODE-rE2G Benchmark\"\n",
      "\n",
      "Call:  glm(formula = Group_CRISPR ~ Score_STARRMPRA * Assay_STARRMPRA, \n",
      "    family = binomial(link = \"logit\"), data = dat)\n",
      "\n",
      "Coefficients:\n",
      "                          (Intercept)                        Score_STARRMPRA  \n",
      "                            -2.329247                               0.313922  \n",
      "                Assay_STARRMPRAASTARR                  Assay_STARRMPRAWSTARR  \n",
      "                             0.012909                               0.106543  \n",
      "                 Assay_STARRMPRALMPRA                   Assay_STARRMPRATMPRA  \n",
      "                             0.097409                              -0.159249  \n",
      "Score_STARRMPRA:Assay_STARRMPRAASTARR  Score_STARRMPRA:Assay_STARRMPRAWSTARR  \n",
      "                             0.023774                              -0.162377  \n",
      " Score_STARRMPRA:Assay_STARRMPRALMPRA   Score_STARRMPRA:Assay_STARRMPRATMPRA  \n",
      "                             0.002312                               0.036121  \n",
      "\n",
      "Degrees of Freedom: 5318 Total (i.e. Null);  5309 Residual\n",
      "Null Deviance:\t    3370 \n",
      "Residual Deviance: 3316 \tAIC: 3336\n"
     ]
    }
   ],
   "source": [
    "lst = lapply(VEC_TXT_ASSAY_OUT, function(txt_assay_out){\n",
    "    ### get the output assay\n",
    "    lst = lst_dat_region_score\n",
    "    dat = lst[[txt_assay_out]]\n",
    "    \n",
    "    ### get the score of output assay\n",
    "    vec = dat$Score\n",
    "    vec = abs(vec)\n",
    "    vec_num_score_out = vec\n",
    "\n",
    "    ### determine score cutoff\n",
    "    num_cutoff_out = quantile(vec_num_score_out, probs = 1 - num_hit_rate)\n",
    "\n",
    "    ### setup group by cutoff\n",
    "    dat$Group_CRISPR = ifelse(vec_num_score_out >= num_cutoff_out, 1, 0)\n",
    "    dat = dat %>% dplyr::select(Region, Group_CRISPR) %>% dplyr::distinct()\n",
    "    dat_region_group_out = dat\n",
    "\n",
    "    ###\n",
    "    lst = lapply(VEC_TXT_ASSAY_INP, function(txt_assay_inp){\n",
    "        ### get the input assay\n",
    "        lst = lst_dat_region_score\n",
    "        dat = lst[[txt_assay_inp]]\n",
    "        \n",
    "        ### get the score of input assay\n",
    "        dat = dat %>% \n",
    "            dplyr::mutate(Score_STARRMPRA = Score) %>%\n",
    "            dplyr::select(Region, Score_STARRMPRA) %>%\n",
    "            dplyr::distinct()\n",
    "        dat_region_score_inp = dat\n",
    "        \n",
    "        ### combine group and score\n",
    "        dat = dplyr::inner_join(\n",
    "            dat_region_group_out,\n",
    "            dat_region_score_inp,\n",
    "            by = \"Region\"\n",
    "        )\n",
    "        return(dat)\n",
    "    })\n",
    "    dat_region_group_merge = bind_rows(lst, .id = \"Assay_STARRMPRA\")\n",
    "\n",
    "    ###\n",
    "    dat = dat_region_group_merge\n",
    "    dat = dat %>% dplyr::mutate(\n",
    "        Group_CRISPR    = factor(Group_CRISPR, levels = c(0, 1), labels = c(\"non-hit\", \"hit\")),\n",
    "        Assay_STARRMPRA = factor(Assay_STARRMPRA, levels = VEC_TXT_ASSAY_INP),\n",
    "        Assay_STARRMPRA = relevel(Assay_STARRMPRA, ref = \"ATAC\")\n",
    "    )\n",
    "\n",
    "    ###\n",
    "    fit = glm(\n",
    "        Group_CRISPR ~ Score_STARRMPRA * Assay_STARRMPRA, \n",
    "        data   = dat,\n",
    "        family = binomial(link = \"logit\")\n",
    "    )\n",
    "    return(fit)\n",
    "})\n",
    "\n",
    "lst_logit_fit = lst\n",
    "print(names(lst))\n",
    "\n",
    "fit = lst[[1]]\n",
    "print(fit)"
   ]
  },
  {
   "cell_type": "code",
   "execution_count": 15,
   "id": "72d335d7-bf40-4d62-9b73-c41088b22951",
   "metadata": {},
   "outputs": [
    {
     "name": "stdout",
     "output_type": "stream",
     "text": [
      "[1] 5319    3\n",
      "[1] 294769      3\n",
      "[1] 12400     3\n"
     ]
    }
   ],
   "source": [
    "lst = lst_logit_fit\n",
    "lst = lapply(lst, function(fit){\n",
    "    ### get the coefficients\n",
    "    tab = broom::tidy(fit, conf.int = TRUE, exponentiate = FALSE)\n",
    "    \n",
    "    ### extract the data frame that was actually fit\n",
    "    dat = fit$model\n",
    "    return(dat)\n",
    "})\n",
    "for (dat in lst){\n",
    "    print(dim(dat))\n",
    "}"
   ]
  },
  {
   "cell_type": "code",
   "execution_count": 16,
   "id": "aaf83d23-5706-4b88-bc80-e3367209f491",
   "metadata": {},
   "outputs": [
    {
     "data": {
      "text/html": [
       "<table class=\"dataframe\">\n",
       "<caption>A data.frame: 6 × 3</caption>\n",
       "<thead>\n",
       "\t<tr><th></th><th scope=col>Group_CRISPR</th><th scope=col>Score_STARRMPRA</th><th scope=col>Assay_STARRMPRA</th></tr>\n",
       "\t<tr><th></th><th scope=col>&lt;fct&gt;</th><th scope=col>&lt;dbl&gt;</th><th scope=col>&lt;fct&gt;</th></tr>\n",
       "</thead>\n",
       "<tbody>\n",
       "\t<tr><th scope=row>1</th><td>hit    </td><td> 0.4028074</td><td>ASTARR</td></tr>\n",
       "\t<tr><th scope=row>2</th><td>non-hit</td><td> 0.9559202</td><td>ASTARR</td></tr>\n",
       "\t<tr><th scope=row>3</th><td>non-hit</td><td> 0.3947029</td><td>ASTARR</td></tr>\n",
       "\t<tr><th scope=row>4</th><td>non-hit</td><td> 1.2324919</td><td>ASTARR</td></tr>\n",
       "\t<tr><th scope=row>5</th><td>non-hit</td><td> 2.4554558</td><td>ASTARR</td></tr>\n",
       "\t<tr><th scope=row>6</th><td>hit    </td><td>-0.1527905</td><td>ASTARR</td></tr>\n",
       "</tbody>\n",
       "</table>\n"
      ],
      "text/latex": [
       "A data.frame: 6 × 3\n",
       "\\begin{tabular}{r|lll}\n",
       "  & Group\\_CRISPR & Score\\_STARRMPRA & Assay\\_STARRMPRA\\\\\n",
       "  & <fct> & <dbl> & <fct>\\\\\n",
       "\\hline\n",
       "\t1 & hit     &  0.4028074 & ASTARR\\\\\n",
       "\t2 & non-hit &  0.9559202 & ASTARR\\\\\n",
       "\t3 & non-hit &  0.3947029 & ASTARR\\\\\n",
       "\t4 & non-hit &  1.2324919 & ASTARR\\\\\n",
       "\t5 & non-hit &  2.4554558 & ASTARR\\\\\n",
       "\t6 & hit     & -0.1527905 & ASTARR\\\\\n",
       "\\end{tabular}\n"
      ],
      "text/markdown": [
       "\n",
       "A data.frame: 6 × 3\n",
       "\n",
       "| <!--/--> | Group_CRISPR &lt;fct&gt; | Score_STARRMPRA &lt;dbl&gt; | Assay_STARRMPRA &lt;fct&gt; |\n",
       "|---|---|---|---|\n",
       "| 1 | hit     |  0.4028074 | ASTARR |\n",
       "| 2 | non-hit |  0.9559202 | ASTARR |\n",
       "| 3 | non-hit |  0.3947029 | ASTARR |\n",
       "| 4 | non-hit |  1.2324919 | ASTARR |\n",
       "| 5 | non-hit |  2.4554558 | ASTARR |\n",
       "| 6 | hit     | -0.1527905 | ASTARR |\n",
       "\n"
      ],
      "text/plain": [
       "  Group_CRISPR Score_STARRMPRA Assay_STARRMPRA\n",
       "1 hit           0.4028074      ASTARR         \n",
       "2 non-hit       0.9559202      ASTARR         \n",
       "3 non-hit       0.3947029      ASTARR         \n",
       "4 non-hit       1.2324919      ASTARR         \n",
       "5 non-hit       2.4554558      ASTARR         \n",
       "6 hit          -0.1527905      ASTARR         "
      ]
     },
     "metadata": {},
     "output_type": "display_data"
    }
   ],
   "source": [
    "head(dat)"
   ]
  },
  {
   "cell_type": "code",
   "execution_count": 17,
   "id": "de55b655-37a9-40ce-a4e6-71b87339b6a7",
   "metadata": {},
   "outputs": [
    {
     "data": {
      "text/plain": [
       "\n",
       "  ATAC ASTARR WSTARR  LMPRA  TMPRA \n",
       "  3169   3169   3154   2691    217 "
      ]
     },
     "metadata": {},
     "output_type": "display_data"
    }
   ],
   "source": [
    "table(dat$Assay_STARRMPRA)"
   ]
  },
  {
   "cell_type": "code",
   "execution_count": 18,
   "id": "8a7d6f90-95d4-44a3-8690-b751a041af14",
   "metadata": {},
   "outputs": [
    {
     "name": "stdout",
     "output_type": "stream",
     "text": [
      "\u001b[90m# A tibble: 5 × 6\u001b[39m\n",
      "  Assay_STARRMPRA Log10OR Log10OR_CI_Lower Log10OR_CI_Upper     Pvalue  Size\n",
      "  \u001b[3m\u001b[90m<chr>\u001b[39m\u001b[23m             \u001b[3m\u001b[90m<dbl>\u001b[39m\u001b[23m            \u001b[3m\u001b[90m<dbl>\u001b[39m\u001b[23m            \u001b[3m\u001b[90m<dbl>\u001b[39m\u001b[23m      \u001b[3m\u001b[90m<dbl>\u001b[39m\u001b[23m \u001b[3m\u001b[90m<int>\u001b[39m\u001b[23m\n",
      "\u001b[90m1\u001b[39m ATAC             0.136           0.080\u001b[4m4\u001b[24m             0.192 0.000\u001b[4m0\u001b[24m\u001b[4m0\u001b[24m\u001b[4m1\u001b[24m77  \u001b[4m1\u001b[24m330\n",
      "\u001b[90m2\u001b[39m ASTARR           0.147           0.071\u001b[4m4\u001b[24m             0.222 0.000\u001b[4m1\u001b[24m\u001b[4m3\u001b[24m\u001b[4m2\u001b[24m    \u001b[4m1\u001b[24m330\n",
      "\u001b[90m3\u001b[39m WSTARR           0.065\u001b[4m8\u001b[24m         -\u001b[31m0\u001b[39m\u001b[31m.\u001b[39m\u001b[31m00\u001b[39m\u001b[31m8\u001b[4m0\u001b[24m\u001b[4m6\u001b[24m\u001b[39m            0.140 0.080\u001b[4m8\u001b[24m      \u001b[4m1\u001b[24m306\n",
      "\u001b[90m4\u001b[39m LMPRA            0.137           0.035\u001b[4m3\u001b[24m             0.239 0.008\u001b[4m3\u001b[24m\u001b[4m4\u001b[24m      721\n",
      "\u001b[90m5\u001b[39m TMPRA            0.152           0.041\u001b[4m8\u001b[24m             0.262 0.006\u001b[4m8\u001b[24m\u001b[4m5\u001b[24m      632\n"
     ]
    }
   ],
   "source": [
    "lst = lst_logit_fit\n",
    "lst = lapply(lst, function(fit){\n",
    "    ### get the coefficients\n",
    "    tab = broom::tidy(fit, conf.int = TRUE, exponentiate = FALSE)\n",
    "    \n",
    "    ### extract the data frame that was actually fit\n",
    "    dat = fit$model\n",
    "    \n",
    "    ### get the assays and define reference\n",
    "    vec_txt_assay = levels(dat$Assay_STARRMPRA)\n",
    "    txt_assay_ref = \"ATAC\"\n",
    "    \n",
    "    ### coefficient vector & covariance matrix\n",
    "    vec_num_beta = coef(fit)\n",
    "    mat_num_vcov = vcov(fit)\n",
    "\n",
    "    ### summarize the stats\n",
    "    dat = purrr::map_dfr(vec_txt_assay, function(txt_assay) {\n",
    "        ### extract odds ratio and test results\n",
    "        if (txt_assay == txt_assay_ref) {\n",
    "            num_logOR = vec_num_beta[\"Score_STARRMPRA\"]\n",
    "            num_se    = sqrt(mat_num_vcov[\"Score_STARRMPRA\",\"Score_STARRMPRA\"])\n",
    "            num_pval  = tab %>% dplyr::filter(term == \"Score_STARRMPRA\") %>% pull(p.value)\n",
    "        } else {\n",
    "            txt_term  = paste0(\"Score_STARRMPRA:Assay_STARRMPRA\", txt_assay)\n",
    "            num_logOR = vec_num_beta[\"Score_STARRMPRA\"] + vec_num_beta[txt_term]\n",
    "            num_se    = sqrt(\n",
    "                mat_num_vcov[\"Score_STARRMPRA\",\"Score_STARRMPRA\"] +\n",
    "                mat_num_vcov[txt_term, txt_term] +\n",
    "                2 * mat_num_vcov[\"Score_STARRMPRA\", txt_term]\n",
    "            )\n",
    "            num_pval  <- 2 * pnorm(-abs(num_logOR / num_se))\n",
    "        }\n",
    "\n",
    "        ### convert from natural log to log10 scale\n",
    "        num_logOR = num_logOR / log(10)\n",
    "        num_se    = num_se    / log(10)\n",
    "\n",
    "        ### number of rows\n",
    "        num_size = sum(dat$Assay_STARRMPRA == txt_assay)\n",
    "        \n",
    "        ### calculate ci and two -sided p-values\n",
    "        res = tibble(\n",
    "            Assay_STARRMPRA = txt_assay,\n",
    "            Log10OR          = num_logOR,\n",
    "            Log10OR_CI_Lower = num_logOR - 1.96 * num_se,\n",
    "            Log10OR_CI_Upper = num_logOR + 1.96 * num_se,\n",
    "            Pvalue           = num_pval,\n",
    "            Size             = num_size\n",
    "        )\n",
    "        return(res)\n",
    "    })\n",
    "    return(dat)\n",
    "})\n",
    "\n",
    "### assign and show\n",
    "lst_logit_stats = lst\n",
    "\n",
    "res = lst[[1]]\n",
    "print(res)"
   ]
  },
  {
   "cell_type": "code",
   "execution_count": 19,
   "id": "5fe406aa-3d9b-4d28-b87e-610b65227a01",
   "metadata": {},
   "outputs": [
    {
     "data": {
      "text/html": [
       "<table>\n",
       " <thead>\n",
       "  <tr>\n",
       "   <th style=\"text-align:left;\"> Assay_CRISPR </th>\n",
       "   <th style=\"text-align:left;\"> Assay_STARRMPRA </th>\n",
       "   <th style=\"text-align:right;\"> Log10OR </th>\n",
       "   <th style=\"text-align:right;\"> Log10OR_CI_Lower </th>\n",
       "   <th style=\"text-align:right;\"> Log10OR_CI_Upper </th>\n",
       "   <th style=\"text-align:right;\"> Pvalue </th>\n",
       "   <th style=\"text-align:right;\"> Size </th>\n",
       "   <th style=\"text-align:right;\"> Padjust </th>\n",
       "  </tr>\n",
       " </thead>\n",
       "<tbody>\n",
       "  <tr>\n",
       "   <td style=\"text-align:left;\"> CRISPRi-HCRFF </td>\n",
       "   <td style=\"text-align:left;\"> ATAC </td>\n",
       "   <td style=\"text-align:right;\"> 0.1363347 </td>\n",
       "   <td style=\"text-align:right;\"> 0.0804056 </td>\n",
       "   <td style=\"text-align:right;\"> 0.1922639 </td>\n",
       "   <td style=\"text-align:right;\"> 0.0000018 </td>\n",
       "   <td style=\"text-align:right;\"> 1330 </td>\n",
       "   <td style=\"text-align:right;\"> 0.0000038 </td>\n",
       "  </tr>\n",
       "  <tr>\n",
       "   <td style=\"text-align:left;\"> CRISPRi-HCRFF </td>\n",
       "   <td style=\"text-align:left;\"> ASTARR </td>\n",
       "   <td style=\"text-align:right;\"> 0.1466595 </td>\n",
       "   <td style=\"text-align:right;\"> 0.0714492 </td>\n",
       "   <td style=\"text-align:right;\"> 0.2218698 </td>\n",
       "   <td style=\"text-align:right;\"> 0.0001324 </td>\n",
       "   <td style=\"text-align:right;\"> 1330 </td>\n",
       "   <td style=\"text-align:right;\"> 0.0002482 </td>\n",
       "  </tr>\n",
       "  <tr>\n",
       "   <td style=\"text-align:left;\"> CRISPRi-HCRFF </td>\n",
       "   <td style=\"text-align:left;\"> WSTARR </td>\n",
       "   <td style=\"text-align:right;\"> 0.0658152 </td>\n",
       "   <td style=\"text-align:right;\"> -0.0080642 </td>\n",
       "   <td style=\"text-align:right;\"> 0.1396946 </td>\n",
       "   <td style=\"text-align:right;\"> 0.0808007 </td>\n",
       "   <td style=\"text-align:right;\"> 1306 </td>\n",
       "   <td style=\"text-align:right;\"> 0.0865722 </td>\n",
       "  </tr>\n",
       "  <tr>\n",
       "   <td style=\"text-align:left;\"> CRISPRi-HCRFF </td>\n",
       "   <td style=\"text-align:left;\"> LMPRA </td>\n",
       "   <td style=\"text-align:right;\"> 0.1373386 </td>\n",
       "   <td style=\"text-align:right;\"> 0.0352971 </td>\n",
       "   <td style=\"text-align:right;\"> 0.2393802 </td>\n",
       "   <td style=\"text-align:right;\"> 0.0083401 </td>\n",
       "   <td style=\"text-align:right;\"> 721 </td>\n",
       "   <td style=\"text-align:right;\"> 0.0096232 </td>\n",
       "  </tr>\n",
       "  <tr>\n",
       "   <td style=\"text-align:left;\"> CRISPRi-HCRFF </td>\n",
       "   <td style=\"text-align:left;\"> TMPRA </td>\n",
       "   <td style=\"text-align:right;\"> 0.1520219 </td>\n",
       "   <td style=\"text-align:right;\"> 0.0418212 </td>\n",
       "   <td style=\"text-align:right;\"> 0.2622225 </td>\n",
       "   <td style=\"text-align:right;\"> 0.0068547 </td>\n",
       "   <td style=\"text-align:right;\"> 632 </td>\n",
       "   <td style=\"text-align:right;\"> 0.0093413 </td>\n",
       "  </tr>\n",
       "  <tr>\n",
       "   <td style=\"text-align:left;\"> CRISPRi-Growth </td>\n",
       "   <td style=\"text-align:left;\"> ATAC </td>\n",
       "   <td style=\"text-align:right;\"> 0.0592149 </td>\n",
       "   <td style=\"text-align:right;\"> 0.0517715 </td>\n",
       "   <td style=\"text-align:right;\"> 0.0666584 </td>\n",
       "   <td style=\"text-align:right;\"> 0.0000000 </td>\n",
       "   <td style=\"text-align:right;\"> 80288 </td>\n",
       "   <td style=\"text-align:right;\"> 0.0000000 </td>\n",
       "  </tr>\n",
       "  <tr>\n",
       "   <td style=\"text-align:left;\"> CRISPRi-Growth </td>\n",
       "   <td style=\"text-align:left;\"> ASTARR </td>\n",
       "   <td style=\"text-align:right;\"> 0.0425854 </td>\n",
       "   <td style=\"text-align:right;\"> 0.0340998 </td>\n",
       "   <td style=\"text-align:right;\"> 0.0510710 </td>\n",
       "   <td style=\"text-align:right;\"> 0.0000000 </td>\n",
       "   <td style=\"text-align:right;\"> 80288 </td>\n",
       "   <td style=\"text-align:right;\"> 0.0000000 </td>\n",
       "  </tr>\n",
       "  <tr>\n",
       "   <td style=\"text-align:left;\"> CRISPRi-Growth </td>\n",
       "   <td style=\"text-align:left;\"> WSTARR </td>\n",
       "   <td style=\"text-align:right;\"> 0.0552982 </td>\n",
       "   <td style=\"text-align:right;\"> 0.0455693 </td>\n",
       "   <td style=\"text-align:right;\"> 0.0650271 </td>\n",
       "   <td style=\"text-align:right;\"> 0.0000000 </td>\n",
       "   <td style=\"text-align:right;\"> 79528 </td>\n",
       "   <td style=\"text-align:right;\"> 0.0000000 </td>\n",
       "  </tr>\n",
       "  <tr>\n",
       "   <td style=\"text-align:left;\"> CRISPRi-Growth </td>\n",
       "   <td style=\"text-align:left;\"> LMPRA </td>\n",
       "   <td style=\"text-align:right;\"> 0.0818004 </td>\n",
       "   <td style=\"text-align:right;\"> 0.0701980 </td>\n",
       "   <td style=\"text-align:right;\"> 0.0934028 </td>\n",
       "   <td style=\"text-align:right;\"> 0.0000000 </td>\n",
       "   <td style=\"text-align:right;\"> 53957 </td>\n",
       "   <td style=\"text-align:right;\"> 0.0000000 </td>\n",
       "  </tr>\n",
       "  <tr>\n",
       "   <td style=\"text-align:left;\"> CRISPRi-Growth </td>\n",
       "   <td style=\"text-align:left;\"> TMPRA </td>\n",
       "   <td style=\"text-align:right;\"> 0.0361073 </td>\n",
       "   <td style=\"text-align:right;\"> -0.0548581 </td>\n",
       "   <td style=\"text-align:right;\"> 0.1270726 </td>\n",
       "   <td style=\"text-align:right;\"> 0.4365742 </td>\n",
       "   <td style=\"text-align:right;\"> 708 </td>\n",
       "   <td style=\"text-align:right;\"> 0.4365742 </td>\n",
       "  </tr>\n",
       "  <tr>\n",
       "   <td style=\"text-align:left;\"> ENCODE-rE2G Benchmark </td>\n",
       "   <td style=\"text-align:left;\"> ATAC </td>\n",
       "   <td style=\"text-align:right;\"> 0.1086502 </td>\n",
       "   <td style=\"text-align:right;\"> 0.0674055 </td>\n",
       "   <td style=\"text-align:right;\"> 0.1498949 </td>\n",
       "   <td style=\"text-align:right;\"> 0.0000002 </td>\n",
       "   <td style=\"text-align:right;\"> 3169 </td>\n",
       "   <td style=\"text-align:right;\"> 0.0000006 </td>\n",
       "  </tr>\n",
       "  <tr>\n",
       "   <td style=\"text-align:left;\"> ENCODE-rE2G Benchmark </td>\n",
       "   <td style=\"text-align:left;\"> ASTARR </td>\n",
       "   <td style=\"text-align:right;\"> 0.1501285 </td>\n",
       "   <td style=\"text-align:right;\"> 0.1138399 </td>\n",
       "   <td style=\"text-align:right;\"> 0.1864171 </td>\n",
       "   <td style=\"text-align:right;\"> 0.0000000 </td>\n",
       "   <td style=\"text-align:right;\"> 3169 </td>\n",
       "   <td style=\"text-align:right;\"> 0.0000000 </td>\n",
       "  </tr>\n",
       "  <tr>\n",
       "   <td style=\"text-align:left;\"> ENCODE-rE2G Benchmark </td>\n",
       "   <td style=\"text-align:left;\"> WSTARR </td>\n",
       "   <td style=\"text-align:right;\"> 0.0646697 </td>\n",
       "   <td style=\"text-align:right;\"> 0.0212393 </td>\n",
       "   <td style=\"text-align:right;\"> 0.1081002 </td>\n",
       "   <td style=\"text-align:right;\"> 0.0035169 </td>\n",
       "   <td style=\"text-align:right;\"> 3154 </td>\n",
       "   <td style=\"text-align:right;\"> 0.0052754 </td>\n",
       "  </tr>\n",
       "  <tr>\n",
       "   <td style=\"text-align:left;\"> ENCODE-rE2G Benchmark </td>\n",
       "   <td style=\"text-align:left;\"> LMPRA </td>\n",
       "   <td style=\"text-align:right;\"> 0.0744865 </td>\n",
       "   <td style=\"text-align:right;\"> 0.0199094 </td>\n",
       "   <td style=\"text-align:right;\"> 0.1290636 </td>\n",
       "   <td style=\"text-align:right;\"> 0.0074730 </td>\n",
       "   <td style=\"text-align:right;\"> 2691 </td>\n",
       "   <td style=\"text-align:right;\"> 0.0093413 </td>\n",
       "  </tr>\n",
       "  <tr>\n",
       "   <td style=\"text-align:left;\"> ENCODE-rE2G Benchmark </td>\n",
       "   <td style=\"text-align:left;\"> TMPRA </td>\n",
       "   <td style=\"text-align:right;\"> 0.2812329 </td>\n",
       "   <td style=\"text-align:right;\"> 0.1171776 </td>\n",
       "   <td style=\"text-align:right;\"> 0.4452883 </td>\n",
       "   <td style=\"text-align:right;\"> 0.0007796 </td>\n",
       "   <td style=\"text-align:right;\"> 217 </td>\n",
       "   <td style=\"text-align:right;\"> 0.0012993 </td>\n",
       "  </tr>\n",
       "</tbody>\n",
       "</table>"
      ]
     },
     "metadata": {},
     "output_type": "display_data"
    }
   ],
   "source": [
    "lst = lst_logit_stats\n",
    "dat = bind_rows(lst, .id = \"Assay_CRISPR\")\n",
    "dat = dat %>% dplyr::mutate(Padjust = p.adjust(Pvalue, method = \"BH\"))\n",
    "\n",
    "dat_logit_stats = dat\n",
    "fun_display_table(dat)"
   ]
  },
  {
   "cell_type": "code",
   "execution_count": 20,
   "id": "67e22ef7-e200-41c7-a3f7-653ea94fce3c",
   "metadata": {},
   "outputs": [
    {
     "name": "stdout",
     "output_type": "stream",
     "text": [
      "CRISPRi-HCRFF ATAC 1330 \n",
      "CRISPRi-HCRFF ASTARR 1330 \n",
      "CRISPRi-HCRFF WSTARR 1306 \n",
      "CRISPRi-HCRFF LMPRA 721 \n",
      "CRISPRi-HCRFF TMPRA 632 \n",
      "CRISPRi-Growth ATAC 80288 \n",
      "CRISPRi-Growth ASTARR 80288 \n",
      "CRISPRi-Growth WSTARR 79528 \n",
      "CRISPRi-Growth LMPRA 53957 \n",
      "CRISPRi-Growth TMPRA 708 \n",
      "ENCODE-rE2G Benchmark ATAC 3169 \n",
      "ENCODE-rE2G Benchmark ASTARR 3169 \n",
      "ENCODE-rE2G Benchmark WSTARR 3154 \n",
      "ENCODE-rE2G Benchmark LMPRA 2691 \n",
      "ENCODE-rE2G Benchmark TMPRA 217 \n"
     ]
    }
   ],
   "source": [
    "dat = dat_logit_stats\n",
    "dat = dat %>% dplyr::mutate(Assay = paste(Assay_CRISPR, Assay_STARRMPRA, Size))\n",
    "vec = dat$Assay\n",
    "for (txt in vec){cat(txt, \"\\n\")}"
   ]
  },
  {
   "cell_type": "code",
   "execution_count": 27,
   "id": "49b6e317-86dd-45e0-b691-566f29903eac",
   "metadata": {},
   "outputs": [
    {
     "data": {
      "text/html": [
       "<table class=\"dataframe\">\n",
       "<caption>A tibble: 6 × 9</caption>\n",
       "<thead>\n",
       "\t<tr><th scope=col>Assay_CRISPR</th><th scope=col>Assay_STARRMPRA</th><th scope=col>Log10OR</th><th scope=col>Log10OR_CI_Lower</th><th scope=col>Log10OR_CI_Upper</th><th scope=col>Pvalue</th><th scope=col>Size</th><th scope=col>Padjust</th><th scope=col>Assay</th></tr>\n",
       "\t<tr><th scope=col>&lt;chr&gt;</th><th scope=col>&lt;chr&gt;</th><th scope=col>&lt;dbl&gt;</th><th scope=col>&lt;dbl&gt;</th><th scope=col>&lt;dbl&gt;</th><th scope=col>&lt;dbl&gt;</th><th scope=col>&lt;int&gt;</th><th scope=col>&lt;dbl&gt;</th><th scope=col>&lt;chr&gt;</th></tr>\n",
       "</thead>\n",
       "<tbody>\n",
       "\t<tr><td>CRISPRi-HCRFF </td><td>ATAC  </td><td>0.13633472</td><td> 0.080405578</td><td>0.19226386</td><td>1.772581e-06</td><td> 1330</td><td>3.798389e-06</td><td>ATAC (1.3k)  </td></tr>\n",
       "\t<tr><td>CRISPRi-HCRFF </td><td>ASTARR</td><td>0.14665950</td><td> 0.071449166</td><td>0.22186983</td><td>1.323828e-04</td><td> 1330</td><td>2.482178e-04</td><td>ASTARR (1.3k)</td></tr>\n",
       "\t<tr><td>CRISPRi-HCRFF </td><td>WSTARR</td><td>0.06581518</td><td>-0.008064206</td><td>0.13969457</td><td>8.080073e-02</td><td> 1306</td><td>8.657221e-02</td><td>WSTARR (1.3k)</td></tr>\n",
       "\t<tr><td>CRISPRi-HCRFF </td><td>LMPRA </td><td>0.13733863</td><td> 0.035297077</td><td>0.23938019</td><td>8.340117e-03</td><td>  721</td><td>9.623212e-03</td><td>LMPRA (721)  </td></tr>\n",
       "\t<tr><td>CRISPRi-HCRFF </td><td>TMPRA </td><td>0.15202189</td><td> 0.041821245</td><td>0.26222253</td><td>6.854704e-03</td><td>  632</td><td>9.341266e-03</td><td>TMPRA (632)  </td></tr>\n",
       "\t<tr><td>CRISPRi-Growth</td><td>ATAC  </td><td>0.05921492</td><td> 0.051771460</td><td>0.06665839</td><td>8.203197e-55</td><td>80288</td><td>1.230480e-53</td><td>ATAC (80.3k) </td></tr>\n",
       "</tbody>\n",
       "</table>\n"
      ],
      "text/latex": [
       "A tibble: 6 × 9\n",
       "\\begin{tabular}{lllllllll}\n",
       " Assay\\_CRISPR & Assay\\_STARRMPRA & Log10OR & Log10OR\\_CI\\_Lower & Log10OR\\_CI\\_Upper & Pvalue & Size & Padjust & Assay\\\\\n",
       " <chr> & <chr> & <dbl> & <dbl> & <dbl> & <dbl> & <int> & <dbl> & <chr>\\\\\n",
       "\\hline\n",
       "\t CRISPRi-HCRFF  & ATAC   & 0.13633472 &  0.080405578 & 0.19226386 & 1.772581e-06 &  1330 & 3.798389e-06 & ATAC (1.3k)  \\\\\n",
       "\t CRISPRi-HCRFF  & ASTARR & 0.14665950 &  0.071449166 & 0.22186983 & 1.323828e-04 &  1330 & 2.482178e-04 & ASTARR (1.3k)\\\\\n",
       "\t CRISPRi-HCRFF  & WSTARR & 0.06581518 & -0.008064206 & 0.13969457 & 8.080073e-02 &  1306 & 8.657221e-02 & WSTARR (1.3k)\\\\\n",
       "\t CRISPRi-HCRFF  & LMPRA  & 0.13733863 &  0.035297077 & 0.23938019 & 8.340117e-03 &   721 & 9.623212e-03 & LMPRA (721)  \\\\\n",
       "\t CRISPRi-HCRFF  & TMPRA  & 0.15202189 &  0.041821245 & 0.26222253 & 6.854704e-03 &   632 & 9.341266e-03 & TMPRA (632)  \\\\\n",
       "\t CRISPRi-Growth & ATAC   & 0.05921492 &  0.051771460 & 0.06665839 & 8.203197e-55 & 80288 & 1.230480e-53 & ATAC (80.3k) \\\\\n",
       "\\end{tabular}\n"
      ],
      "text/markdown": [
       "\n",
       "A tibble: 6 × 9\n",
       "\n",
       "| Assay_CRISPR &lt;chr&gt; | Assay_STARRMPRA &lt;chr&gt; | Log10OR &lt;dbl&gt; | Log10OR_CI_Lower &lt;dbl&gt; | Log10OR_CI_Upper &lt;dbl&gt; | Pvalue &lt;dbl&gt; | Size &lt;int&gt; | Padjust &lt;dbl&gt; | Assay &lt;chr&gt; |\n",
       "|---|---|---|---|---|---|---|---|---|\n",
       "| CRISPRi-HCRFF  | ATAC   | 0.13633472 |  0.080405578 | 0.19226386 | 1.772581e-06 |  1330 | 3.798389e-06 | ATAC (1.3k)   |\n",
       "| CRISPRi-HCRFF  | ASTARR | 0.14665950 |  0.071449166 | 0.22186983 | 1.323828e-04 |  1330 | 2.482178e-04 | ASTARR (1.3k) |\n",
       "| CRISPRi-HCRFF  | WSTARR | 0.06581518 | -0.008064206 | 0.13969457 | 8.080073e-02 |  1306 | 8.657221e-02 | WSTARR (1.3k) |\n",
       "| CRISPRi-HCRFF  | LMPRA  | 0.13733863 |  0.035297077 | 0.23938019 | 8.340117e-03 |   721 | 9.623212e-03 | LMPRA (721)   |\n",
       "| CRISPRi-HCRFF  | TMPRA  | 0.15202189 |  0.041821245 | 0.26222253 | 6.854704e-03 |   632 | 9.341266e-03 | TMPRA (632)   |\n",
       "| CRISPRi-Growth | ATAC   | 0.05921492 |  0.051771460 | 0.06665839 | 8.203197e-55 | 80288 | 1.230480e-53 | ATAC (80.3k)  |\n",
       "\n"
      ],
      "text/plain": [
       "  Assay_CRISPR   Assay_STARRMPRA Log10OR    Log10OR_CI_Lower Log10OR_CI_Upper\n",
       "1 CRISPRi-HCRFF  ATAC            0.13633472  0.080405578     0.19226386      \n",
       "2 CRISPRi-HCRFF  ASTARR          0.14665950  0.071449166     0.22186983      \n",
       "3 CRISPRi-HCRFF  WSTARR          0.06581518 -0.008064206     0.13969457      \n",
       "4 CRISPRi-HCRFF  LMPRA           0.13733863  0.035297077     0.23938019      \n",
       "5 CRISPRi-HCRFF  TMPRA           0.15202189  0.041821245     0.26222253      \n",
       "6 CRISPRi-Growth ATAC            0.05921492  0.051771460     0.06665839      \n",
       "  Pvalue       Size  Padjust      Assay        \n",
       "1 1.772581e-06  1330 3.798389e-06 ATAC (1.3k)  \n",
       "2 1.323828e-04  1330 2.482178e-04 ASTARR (1.3k)\n",
       "3 8.080073e-02  1306 8.657221e-02 WSTARR (1.3k)\n",
       "4 8.340117e-03   721 9.623212e-03 LMPRA (721)  \n",
       "5 6.854704e-03   632 9.341266e-03 TMPRA (632)  \n",
       "6 8.203197e-55 80288 1.230480e-53 ATAC (80.3k) "
      ]
     },
     "metadata": {},
     "output_type": "display_data"
    }
   ],
   "source": [
    "fun_inner = function(num){\n",
    "    if (num < 1000){return(as.character(num))}\n",
    "    num = round(num / 1000, 1)\n",
    "    txt = paste0(num, \"k\")\n",
    "    return(txt)\n",
    "}\n",
    "fun = function(vec_num_inp){\n",
    "    vec_txt_out = sapply(vec_num_inp, fun_inner)\n",
    "    return(vec_txt_out)\n",
    "}\n",
    "\n",
    "dat = dat_logit_stats\n",
    "dat = dat %>% dplyr::mutate(Assay = paste0(Assay_STARRMPRA, \" (\", fun(Size), \")\"))\n",
    "head(dat)"
   ]
  },
  {
   "cell_type": "code",
   "execution_count": 37,
   "id": "6ac4ff54-08dd-4e33-bf93-487ca3046668",
   "metadata": {},
   "outputs": [
    {
     "data": {
      "image/png": "[encoded data removed]",
      "text/plain": [
       "plot without title"
      ]
     },
     "metadata": {
      "image/png": {
       "height": 240,
       "width": 900
      }
     },
     "output_type": "display_data"
    }
   ],
   "source": [
    "dat = dat_logit_stats\n",
    "dat = dat %>% dplyr::mutate(Assay = paste0(Assay_STARRMPRA, \" (\", fun(Size), \")\"))\n",
    "dat = dat %>%\n",
    "    dplyr::mutate(\n",
    "        Assay_STARRMPRA = factor(Assay_STARRMPRA, levels=VEC_TXT_ASSAY_INP),\n",
    "        Assay_CRISPR    = factor(Assay_CRISPR,    levels=VEC_TXT_ASSAY_OUT)\n",
    "    ) %>%\n",
    "    dplyr::arrange(Assay_STARRMPRA) %>%\n",
    "    dplyr::mutate(Assay = factor(Assay, levels = Assay))\n",
    "\n",
    "lst = split(dat, dat$Assay_CRISPR)\n",
    "lst = lapply(names(lst), function(idx){\n",
    "    txt = idx\n",
    "    dat = lst[[idx]]\n",
    "    \n",
    "    gpt = ggplot(dat, aes(x = Log10OR, y = Assay)) +\n",
    "        geom_point(size = 3) +\n",
    "        geom_errorbarh(aes(xmin = Log10OR_CI_Lower, xmax = Log10OR_CI_Upper), height = 0.3) +\n",
    "        geom_vline(xintercept = 0, linetype=\"dashed\") +\n",
    "        labs(x = \"Log10 Odds Ratio (95% CI)\", y = \"\", title = txt) +\n",
    "        theme_cowplot() +\n",
    "        background_grid() +\n",
    "        theme(\n",
    "            strip.text = element_text(face = \"bold\"),\n",
    "            axis.text.y = element_text(size = 11)\n",
    "        )\n",
    "    return(gpt)\n",
    "})\n",
    "\n",
    "plt = plot_grid(plotlist = lst, nrow = 1)\n",
    "\n",
    "options(repr.plot.height=4, repr.plot.width=15)\n",
    "print(plt)"
   ]
  },
  {
   "cell_type": "code",
   "execution_count": null,
   "id": "52a929ae-1b85-4a2d-97bb-cc8f79dcc8f4",
   "metadata": {},
   "outputs": [],
   "source": []
  },
  {
   "cell_type": "code",
   "execution_count": null,
   "id": "4ab718ac-3fec-4dd3-b889-2a1b354be018",
   "metadata": {},
   "outputs": [],
   "source": []
  }
 ],
 "metadata": {
  "kernelspec": {
   "display_name": "R",
   "language": "R",
   "name": "ir"
  },
  "language_info": {
   "codemirror_mode": "r",
   "file_extension": ".r",
   "mimetype": "text/x-r-source",
   "name": "R",
   "pygments_lexer": "r",
   "version": "4.5.1"
  }
 },
 "nbformat": 4,
 "nbformat_minor": 5
}
