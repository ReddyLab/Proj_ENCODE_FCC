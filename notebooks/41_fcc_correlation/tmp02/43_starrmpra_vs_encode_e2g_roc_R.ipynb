{
 "cells": [
  {
   "cell_type": "raw",
   "id": "6fd1eea0-85c1-4fcd-9305-063283f1762e",
   "metadata": {},
   "source": [
    "---\n",
    "title: ...\n",
    "subtitle: combine ATAC, setup total, final, and share verion of table\n",
    "format:\n",
    "    html:\n",
    "        code-fold:  true\n",
    "        code-tools: true\n",
    "---"
   ]
  },
  {
   "cell_type": "markdown",
   "id": "0b41556e-f403-403a-b353-e320e02d97f4",
   "metadata": {},
   "source": [
    "**Set environment**"
   ]
  },
  {
   "cell_type": "code",
   "execution_count": 1,
   "id": "28d60ffa-9b6c-4b56-aa88-2d2eb2a3919c",
   "metadata": {},
   "outputs": [
    {
     "name": "stdout",
     "output_type": "stream",
     "text": [
      "You are working on        Singularity: singularity_proj_encode_fcc \n",
      "BASE DIRECTORY (FD_BASE): /data/reddylab/Kuei \n",
      "REPO DIRECTORY (FD_REPO): /data/reddylab/Kuei/repo \n",
      "WORK DIRECTORY (FD_WORK): /data/reddylab/Kuei/work \n",
      "DATA DIRECTORY (FD_DATA): /data/reddylab/Kuei/data \n",
      "\n",
      "You are working with      ENCODE FCC \n",
      "PATH OF PROJECT (FD_PRJ): /data/reddylab/Kuei/repo/Proj_ENCODE_FCC \n",
      "PROJECT RESULTS (FD_RES): /data/reddylab/Kuei/repo/Proj_ENCODE_FCC/results \n",
      "PROJECT SCRIPTS (FD_EXE): /data/reddylab/Kuei/repo/Proj_ENCODE_FCC/scripts \n",
      "PROJECT DATA    (FD_DAT): /data/reddylab/Kuei/repo/Proj_ENCODE_FCC/data \n",
      "PROJECT NOTE    (FD_NBK): /data/reddylab/Kuei/repo/Proj_ENCODE_FCC/notebooks \n",
      "PROJECT DOCS    (FD_DOC): /data/reddylab/Kuei/repo/Proj_ENCODE_FCC/docs \n",
      "PROJECT LOG     (FD_LOG): /data/reddylab/Kuei/repo/Proj_ENCODE_FCC/log \n",
      "PROJECT REF     (FD_REF): /data/reddylab/Kuei/repo/Proj_ENCODE_FCC/references \n",
      "\n"
     ]
    }
   ],
   "source": [
    "suppressMessages(suppressWarnings(source(\"../run_config_project_sing.R\")))\n",
    "show_env()"
   ]
  },
  {
   "cell_type": "markdown",
   "id": "75f577d1-2b63-4f81-8c8a-f4017cbb17f5",
   "metadata": {},
   "source": [
    "**Check: region directory**"
   ]
  },
  {
   "cell_type": "code",
   "execution_count": 2,
   "id": "e8824ec7-c9c2-4624-8265-12f9ec43c8aa",
   "metadata": {},
   "outputs": [
    {
     "name": "stdout",
     "output_type": "stream",
     "text": [
      "atac_ENCFF333TAT \n",
      "atac_ENCFF558BLC \n",
      "atac_ENCFF925CYR \n",
      "atac_ENCFF948AFM \n",
      "dnase_ENCFF185XRG \n",
      "dnase_ENCFF274YGF \n",
      "fcc_astarr_macs_input_overlap \n",
      "fcc_astarr_macs_input_union \n"
     ]
    }
   ],
   "source": [
    "txt_fdiry = file.path(FD_RES, \"region_coverage_fcc_score\")\n",
    "\n",
    "vec = dir(txt_fdiry)\n",
    "for (txt in vec){cat(txt, \"\\n\")}"
   ]
  },
  {
   "cell_type": "markdown",
   "id": "10c3257a-00b2-43ab-89ad-1514acef5e69",
   "metadata": {},
   "source": [
    "**Check: assay directory**"
   ]
  },
  {
   "cell_type": "code",
   "execution_count": 3,
   "id": "5073ab81-8cd0-45d1-a035-b7a8a629e0a9",
   "metadata": {},
   "outputs": [
    {
     "name": "stdout",
     "output_type": "stream",
     "text": [
      "CRISPRi_FlowFISH_K562_Riley_JinWoo \n",
      "CRISPRi_Growth_K562_Gersbach_JinWoo \n",
      "MPRA_Lenti_K562_Nadav_Vikram \n",
      "MPRA_Tiling_K562_Tewhey_Hannah \n",
      "STARR_ATAC_K562_Reddy_KS274 \n",
      "STARR_ATAC_K562_Reddy_KS91 \n",
      "STARR_ATAC_K562_Reddy_KSMerge \n",
      "STARR_WHG_K562_Reddy_A001 \n",
      "summary \n"
     ]
    }
   ],
   "source": [
    "txt_region = \"fcc_astarr_macs_input_union\"\n",
    "txt_fdiry  = file.path(FD_RES, \"region_coverage_fcc_score\", txt_region)\n",
    "vec = dir(txt_fdiry)\n",
    "for (txt in vec) {cat(txt, \"\\n\")}"
   ]
  },
  {
   "cell_type": "markdown",
   "id": "b33e047e-1846-4b1b-abca-04c274aa8ec6",
   "metadata": {},
   "source": [
    "**Set global variable**"
   ]
  },
  {
   "cell_type": "code",
   "execution_count": 4,
   "id": "1c9e262d-f744-4e23-9562-7ca77c082ffe",
   "metadata": {},
   "outputs": [
    {
     "name": "stdout",
     "output_type": "stream",
     "text": [
      "fcc_astarr_macs_input_overlap \n",
      "fcc_astarr_macs_input_union \n"
     ]
    }
   ],
   "source": [
    "## init: region folder\n",
    "vec = c(\"fcc_astarr_macs_input_overlap\", \"fcc_astarr_macs_input_union\")\n",
    "names(vec) = vec\n",
    "\n",
    "VEC_TXT_FOLDER = vec\n",
    "for (txt in vec) {cat(txt, \"\\n\")}"
   ]
  },
  {
   "cell_type": "code",
   "execution_count": 13,
   "id": "2c433d87-bea9-4e2e-8fa2-bf71f3d9851a",
   "metadata": {},
   "outputs": [],
   "source": [
    "TXT_ASSAY_OUT = \"ENCODE-rE2G Benchmark\"\n",
    "VEC_TXT_ASSAY = c(\"ASTARR\", \"WSTARR\", \"LMPRA\", \"TMPRA\", \"ATAC\")"
   ]
  },
  {
   "cell_type": "markdown",
   "id": "91228c9c-91f2-4fba-8d90-df78d4a7b9ed",
   "metadata": {},
   "source": [
    "**Check input files**"
   ]
  },
  {
   "cell_type": "code",
   "execution_count": 9,
   "id": "616113cf-b811-4d30-aaf9-9ce833a465ae",
   "metadata": {},
   "outputs": [
    {
     "name": "stdout",
     "output_type": "stream",
     "text": [
      "/data/reddylab/Kuei/repo/Proj_ENCODE_FCC/results/analysis_fcc_correlation/fcc_astarr_macs_input_overlap/region.coverage.score.concat.tsv \n"
     ]
    }
   ],
   "source": [
    "txt_folder = VEC_TXT_FOLDER[1]\n",
    "txt_fdiry  = file.path(FD_RES, \"analysis_fcc_correlation\", txt_folder)\n",
    "txt_fname  = \"region.coverage.score.*.tsv\"\n",
    "txt_fglob  = file.path(txt_fdiry, txt_fname)\n",
    "\n",
    "vec = Sys.glob(txt_fglob)\n",
    "for (txt in vec) {cat(txt, \"\\n\")}"
   ]
  },
  {
   "cell_type": "markdown",
   "id": "0754e154-7fde-4adf-954c-ae8d38bff457",
   "metadata": {},
   "source": [
    "## Import data"
   ]
  },
  {
   "cell_type": "code",
   "execution_count": 10,
   "id": "4252b871-201c-492c-9683-c67d3aca5bc2",
   "metadata": {},
   "outputs": [
    {
     "name": "stdout",
     "output_type": "stream",
     "text": [
      "$fcc_astarr_macs_input_overlap\n",
      "[1] 586004      8\n",
      "\n",
      "$fcc_astarr_macs_input_union\n",
      "[1] 889739      8\n",
      "\n"
     ]
    },
    {
     "data": {
      "text/html": [
       "<table class=\"dataframe\">\n",
       "<caption>A tibble: 3 × 8</caption>\n",
       "<thead>\n",
       "\t<tr><th scope=col>Chrom</th><th scope=col>ChromStart</th><th scope=col>ChromEnd</th><th scope=col>Region</th><th scope=col>Score</th><th scope=col>Score_Label</th><th scope=col>Assay_Group</th><th scope=col>Assay_Label</th></tr>\n",
       "\t<tr><th scope=col>&lt;chr&gt;</th><th scope=col>&lt;dbl&gt;</th><th scope=col>&lt;dbl&gt;</th><th scope=col>&lt;chr&gt;</th><th scope=col>&lt;dbl&gt;</th><th scope=col>&lt;chr&gt;</th><th scope=col>&lt;chr&gt;</th><th scope=col>&lt;chr&gt;</th></tr>\n",
       "</thead>\n",
       "<tbody>\n",
       "\t<tr><td>chr1</td><td>10038</td><td>10405</td><td>chr1:10038-10405</td><td>-3.5573621</td><td>Scale(Log2FC)</td><td>ASTARR_KS91</td><td>ASTARR</td></tr>\n",
       "\t<tr><td>chr1</td><td>14282</td><td>14614</td><td>chr1:14282-14614</td><td> 0.0361388</td><td>Scale(Log2FC)</td><td>ASTARR_KS91</td><td>ASTARR</td></tr>\n",
       "\t<tr><td>chr1</td><td>16025</td><td>16338</td><td>chr1:16025-16338</td><td>-2.1376311</td><td>Scale(Log2FC)</td><td>ASTARR_KS91</td><td>ASTARR</td></tr>\n",
       "</tbody>\n",
       "</table>\n"
      ],
      "text/latex": [
       "A tibble: 3 × 8\n",
       "\\begin{tabular}{llllllll}\n",
       " Chrom & ChromStart & ChromEnd & Region & Score & Score\\_Label & Assay\\_Group & Assay\\_Label\\\\\n",
       " <chr> & <dbl> & <dbl> & <chr> & <dbl> & <chr> & <chr> & <chr>\\\\\n",
       "\\hline\n",
       "\t chr1 & 10038 & 10405 & chr1:10038-10405 & -3.5573621 & Scale(Log2FC) & ASTARR\\_KS91 & ASTARR\\\\\n",
       "\t chr1 & 14282 & 14614 & chr1:14282-14614 &  0.0361388 & Scale(Log2FC) & ASTARR\\_KS91 & ASTARR\\\\\n",
       "\t chr1 & 16025 & 16338 & chr1:16025-16338 & -2.1376311 & Scale(Log2FC) & ASTARR\\_KS91 & ASTARR\\\\\n",
       "\\end{tabular}\n"
      ],
      "text/markdown": [
       "\n",
       "A tibble: 3 × 8\n",
       "\n",
       "| Chrom &lt;chr&gt; | ChromStart &lt;dbl&gt; | ChromEnd &lt;dbl&gt; | Region &lt;chr&gt; | Score &lt;dbl&gt; | Score_Label &lt;chr&gt; | Assay_Group &lt;chr&gt; | Assay_Label &lt;chr&gt; |\n",
       "|---|---|---|---|---|---|---|---|\n",
       "| chr1 | 10038 | 10405 | chr1:10038-10405 | -3.5573621 | Scale(Log2FC) | ASTARR_KS91 | ASTARR |\n",
       "| chr1 | 14282 | 14614 | chr1:14282-14614 |  0.0361388 | Scale(Log2FC) | ASTARR_KS91 | ASTARR |\n",
       "| chr1 | 16025 | 16338 | chr1:16025-16338 | -2.1376311 | Scale(Log2FC) | ASTARR_KS91 | ASTARR |\n",
       "\n"
      ],
      "text/plain": [
       "  Chrom ChromStart ChromEnd Region           Score      Score_Label  \n",
       "1 chr1  10038      10405    chr1:10038-10405 -3.5573621 Scale(Log2FC)\n",
       "2 chr1  14282      14614    chr1:14282-14614  0.0361388 Scale(Log2FC)\n",
       "3 chr1  16025      16338    chr1:16025-16338 -2.1376311 Scale(Log2FC)\n",
       "  Assay_Group Assay_Label\n",
       "1 ASTARR_KS91 ASTARR     \n",
       "2 ASTARR_KS91 ASTARR     \n",
       "3 ASTARR_KS91 ASTARR     "
      ]
     },
     "metadata": {},
     "output_type": "display_data"
    }
   ],
   "source": [
    "lst = lapply(VEC_TXT_FOLDER, function(txt_folder){\n",
    "    ### set file directory\n",
    "    txt_fdiry  = file.path(FD_RES, \"analysis_fcc_correlation\", txt_folder)\n",
    "    txt_fname = \"region.coverage.score.concat.tsv\"\n",
    "    txt_fpath = file.path(txt_fdiry, txt_fname)\n",
    "\n",
    "    ### read table\n",
    "    dat = read_tsv(txt_fpath, show_col_types = FALSE)\n",
    "    return(dat)\n",
    "})\n",
    "\n",
    "### assign and show\n",
    "lst_dat_region_score_import = lst\n",
    "\n",
    "res = lapply(lst, dim)\n",
    "print(res)\n",
    "\n",
    "dat = lst[[1]]\n",
    "head(dat, 3)"
   ]
  },
  {
   "cell_type": "markdown",
   "id": "22169f36-a48c-4f38-a22a-57eef1166800",
   "metadata": {},
   "source": [
    "**Check: Assay count**"
   ]
  },
  {
   "cell_type": "code",
   "execution_count": 14,
   "id": "984099a8-bfdd-4de0-98f3-fd9517ec0472",
   "metadata": {},
   "outputs": [
    {
     "data": {
      "text/html": [
       "<table>\n",
       " <thead>\n",
       "  <tr>\n",
       "   <th style=\"text-align:left;\"> Assay_Group </th>\n",
       "   <th style=\"text-align:left;\"> Assay_Label </th>\n",
       "   <th style=\"text-align:right;\"> fcc_astarr_macs_input_overlap </th>\n",
       "   <th style=\"text-align:right;\"> fcc_astarr_macs_input_union </th>\n",
       "  </tr>\n",
       " </thead>\n",
       "<tbody>\n",
       "  <tr>\n",
       "   <td style=\"text-align:left;\"> ASTARR_KS91 </td>\n",
       "   <td style=\"text-align:left;\"> ASTARR </td>\n",
       "   <td style=\"text-align:right;\"> 150040 </td>\n",
       "   <td style=\"text-align:right;\"> 246850 </td>\n",
       "  </tr>\n",
       "  <tr>\n",
       "   <td style=\"text-align:left;\"> ASTARR_KS91 </td>\n",
       "   <td style=\"text-align:left;\"> ATAC </td>\n",
       "   <td style=\"text-align:right;\"> 150041 </td>\n",
       "   <td style=\"text-align:right;\"> 246852 </td>\n",
       "  </tr>\n",
       "  <tr>\n",
       "   <td style=\"text-align:left;\"> CRISPRi-Growth </td>\n",
       "   <td style=\"text-align:left;\"> CRISPRi-Growth </td>\n",
       "   <td style=\"text-align:right;\"> 72743 </td>\n",
       "   <td style=\"text-align:right;\"> 80288 </td>\n",
       "  </tr>\n",
       "  <tr>\n",
       "   <td style=\"text-align:left;\"> CRISPRi-HCRFF </td>\n",
       "   <td style=\"text-align:left;\"> CRISPRi-HCRFF </td>\n",
       "   <td style=\"text-align:right;\"> 925 </td>\n",
       "   <td style=\"text-align:right;\"> 1330 </td>\n",
       "  </tr>\n",
       "  <tr>\n",
       "   <td style=\"text-align:left;\"> ENCODE-rE2G </td>\n",
       "   <td style=\"text-align:left;\"> ENCODE-rE2G Benchmark </td>\n",
       "   <td style=\"text-align:right;\"> 3035 </td>\n",
       "   <td style=\"text-align:right;\"> 3169 </td>\n",
       "  </tr>\n",
       "  <tr>\n",
       "   <td style=\"text-align:left;\"> LMPRA </td>\n",
       "   <td style=\"text-align:left;\"> LMPRA </td>\n",
       "   <td style=\"text-align:right;\"> 61478 </td>\n",
       "   <td style=\"text-align:right;\"> 68497 </td>\n",
       "  </tr>\n",
       "  <tr>\n",
       "   <td style=\"text-align:left;\"> TMPRA </td>\n",
       "   <td style=\"text-align:left;\"> TMPRA </td>\n",
       "   <td style=\"text-align:right;\"> 1148 </td>\n",
       "   <td style=\"text-align:right;\"> 1722 </td>\n",
       "  </tr>\n",
       "  <tr>\n",
       "   <td style=\"text-align:left;\"> WSTARR </td>\n",
       "   <td style=\"text-align:left;\"> WSTARR </td>\n",
       "   <td style=\"text-align:right;\"> 146594 </td>\n",
       "   <td style=\"text-align:right;\"> 241031 </td>\n",
       "  </tr>\n",
       "</tbody>\n",
       "</table>"
      ]
     },
     "metadata": {},
     "output_type": "display_data"
    }
   ],
   "source": [
    "lst = lst_dat_region_score_import\n",
    "lst = lapply(lst, function(dat){\n",
    "    dat = dat %>% \n",
    "        dplyr::group_by(Assay_Group, Assay_Label) %>%\n",
    "        dplyr::summarise(Freq = n(), .groups = \"drop\")\n",
    "    return(dat)\n",
    "})\n",
    "\n",
    "dat = bind_rows(lst, .id = \"Folder\")\n",
    "dat = dat %>% tidyr::spread(Folder, Freq)\n",
    "fun_display_table(dat)"
   ]
  },
  {
   "cell_type": "markdown",
   "id": "e37c45c4-3224-4051-8aa0-55f09972ae54",
   "metadata": {},
   "source": [
    "**Check: Missing values**"
   ]
  },
  {
   "cell_type": "code",
   "execution_count": 15,
   "id": "6fb0f719-0392-4e9f-9568-c06f828f12b5",
   "metadata": {},
   "outputs": [
    {
     "name": "stdout",
     "output_type": "stream",
     "text": [
      "$fcc_astarr_macs_input_overlap\n",
      "[1] FALSE\n",
      "\n",
      "$fcc_astarr_macs_input_union\n",
      "[1] FALSE\n",
      "\n"
     ]
    }
   ],
   "source": [
    "lst = lst_dat_region_score_import\n",
    "lst = lapply(lst, function(dat){\n",
    "    tmp = any(is.na(dat))\n",
    "    return(tmp)\n",
    "})\n",
    "\n",
    "print(lst)"
   ]
  },
  {
   "cell_type": "markdown",
   "id": "7fb765c1-6764-47a6-aa40-3466fcfbd984",
   "metadata": {},
   "source": [
    "## Prepare"
   ]
  },
  {
   "cell_type": "code",
   "execution_count": 16,
   "id": "0035ff1a-dc0f-4159-84b7-0d300c5f0994",
   "metadata": {},
   "outputs": [
    {
     "name": "stdout",
     "output_type": "stream",
     "text": [
      "[1] \"ASTARR\"                \"ATAC\"                  \"CRISPRi-Growth\"       \n",
      "[4] \"CRISPRi-HCRFF\"         \"ENCODE-rE2G Benchmark\" \"LMPRA\"                \n",
      "[7] \"TMPRA\"                 \"WSTARR\"               \n"
     ]
    }
   ],
   "source": [
    "### select and split regions by assay\n",
    "idx = \"fcc_astarr_macs_input_union\"\n",
    "lst = lst_dat_region_score_import\n",
    "\n",
    "dat = lst[[idx]]\n",
    "lst = split(dat, dat$Assay_Label)\n",
    "\n",
    "### assign and show\n",
    "lst_dat_region_score = lst\n",
    "print(names(lst))"
   ]
  },
  {
   "cell_type": "code",
   "execution_count": 17,
   "id": "35c03d4f-bbf3-4dd6-bbb7-8988a54935de",
   "metadata": {},
   "outputs": [
    {
     "name": "stdout",
     "output_type": "stream",
     "text": [
      "Score Cut-Off: \n",
      "     99% \n",
      "3.403596 \n",
      "\n",
      "[1] 3169    2\n"
     ]
    },
    {
     "data": {
      "text/html": [
       "<table>\n",
       " <thead>\n",
       "  <tr>\n",
       "   <th style=\"text-align:left;\"> Region </th>\n",
       "   <th style=\"text-align:right;\"> Group </th>\n",
       "  </tr>\n",
       " </thead>\n",
       "<tbody>\n",
       "  <tr>\n",
       "   <td style=\"text-align:left;\"> chr1:3773953-3776305 </td>\n",
       "   <td style=\"text-align:right;\"> 1 </td>\n",
       "  </tr>\n",
       "  <tr>\n",
       "   <td style=\"text-align:left;\"> chr1:3803939-3806560 </td>\n",
       "   <td style=\"text-align:right;\"> 0 </td>\n",
       "  </tr>\n",
       "  <tr>\n",
       "   <td style=\"text-align:left;\"> chr1:4126790-4128217 </td>\n",
       "   <td style=\"text-align:right;\"> 0 </td>\n",
       "  </tr>\n",
       "</tbody>\n",
       "</table>"
      ]
     },
     "metadata": {},
     "output_type": "display_data"
    }
   ],
   "source": [
    "### get the output assay\n",
    "lst = lst_dat_region_score\n",
    "dat = lst[[TXT_ASSAY_OUT]]\n",
    "\n",
    "### get the score of output assay\n",
    "vec = dat$Score\n",
    "vec = abs(vec)\n",
    "vec_num_score = vec\n",
    "\n",
    "### determine score cutoff\n",
    "num_hit_rate = 0.01\n",
    "num_cutoff = quantile(vec_num_score, probs = 1 - num_hit_rate)\n",
    "cat(\"Score Cut-Off:\", \"\\n\")\n",
    "print(num_cutoff)\n",
    "cat(\"\\n\")\n",
    "\n",
    "### setup group by cutoff\n",
    "dat$Group = ifelse(vec_num_score >= num_cutoff, 1, 0)\n",
    "dat = dat %>% dplyr::select(Region, Group)\n",
    "\n",
    "### assign and show\n",
    "dat_region_group = dat\n",
    "print(dim(dat))\n",
    "fun_display_table(head(dat, 3))"
   ]
  },
  {
   "cell_type": "markdown",
   "id": "4a50154d-f700-4741-a475-07ac1033e0e2",
   "metadata": {},
   "source": [
    "## Test"
   ]
  },
  {
   "cell_type": "code",
   "execution_count": 18,
   "id": "887ec60d-51fd-4673-b7d3-fc217a2ae1c7",
   "metadata": {},
   "outputs": [
    {
     "name": "stdout",
     "output_type": "stream",
     "text": [
      "[1] 3154    3\n"
     ]
    },
    {
     "data": {
      "text/html": [
       "<table>\n",
       " <thead>\n",
       "  <tr>\n",
       "   <th style=\"text-align:left;\"> Region </th>\n",
       "   <th style=\"text-align:right;\"> Group </th>\n",
       "   <th style=\"text-align:right;\"> Score </th>\n",
       "  </tr>\n",
       " </thead>\n",
       "<tbody>\n",
       "  <tr>\n",
       "   <td style=\"text-align:left;\"> chr1:3773953-3776305 </td>\n",
       "   <td style=\"text-align:right;\"> 1 </td>\n",
       "   <td style=\"text-align:right;\"> 0.9353155 </td>\n",
       "  </tr>\n",
       "  <tr>\n",
       "   <td style=\"text-align:left;\"> chr1:3803939-3806560 </td>\n",
       "   <td style=\"text-align:right;\"> 0 </td>\n",
       "   <td style=\"text-align:right;\"> 0.1876852 </td>\n",
       "  </tr>\n",
       "  <tr>\n",
       "   <td style=\"text-align:left;\"> chr1:4126790-4128217 </td>\n",
       "   <td style=\"text-align:right;\"> 0 </td>\n",
       "   <td style=\"text-align:right;\"> 1.1567836 </td>\n",
       "  </tr>\n",
       "  <tr>\n",
       "   <td style=\"text-align:left;\"> chr1:5304675-5305858 </td>\n",
       "   <td style=\"text-align:right;\"> 0 </td>\n",
       "   <td style=\"text-align:right;\"> 0.3722012 </td>\n",
       "  </tr>\n",
       "  <tr>\n",
       "   <td style=\"text-align:left;\"> chr1:8197559-8198606 </td>\n",
       "   <td style=\"text-align:right;\"> 0 </td>\n",
       "   <td style=\"text-align:right;\"> 1.4368929 </td>\n",
       "  </tr>\n",
       "  <tr>\n",
       "   <td style=\"text-align:left;\"> chr1:8857749-8858710 </td>\n",
       "   <td style=\"text-align:right;\"> 0 </td>\n",
       "   <td style=\"text-align:right;\"> -0.3172373 </td>\n",
       "  </tr>\n",
       "</tbody>\n",
       "</table>"
      ]
     },
     "metadata": {},
     "output_type": "display_data"
    }
   ],
   "source": [
    "txt_assay = \"WSTARR\"\n",
    "\n",
    "### get score from each input assay\n",
    "lst = lst_dat_region_score\n",
    "dat = lst[[txt_assay]]\n",
    "dat = dat %>% dplyr::select(Region, Score)\n",
    "dat_region_score = dat\n",
    "\n",
    "### combine group and score\n",
    "dat = dplyr::inner_join(\n",
    "    dat_region_group,\n",
    "    dat_region_score,\n",
    "    by = \"Region\"\n",
    ")\n",
    "dat_region_merge = dat\n",
    "\n",
    "### apply logistic regression\n",
    "dat = dat_region_merge\n",
    "#fit = glm(Group ~ Score, data = dat, family = \"binomial\")\n",
    "#vec_boo_group = (dat$Group == 1)\n",
    "#vec_num_score = predict(fit, type = \"response\")\n",
    "print(dim(dat))\n",
    "fun_display_table(head(dat))"
   ]
  },
  {
   "cell_type": "code",
   "execution_count": 19,
   "id": "34c39187-f21b-40a9-9ac8-048b68eb90c2",
   "metadata": {},
   "outputs": [
    {
     "data": {
      "image/png": "[encoded data removed]",
      "text/plain": [
       "plot without title"
      ]
     },
     "metadata": {
      "image/png": {
       "height": 330,
       "width": 420
      }
     },
     "output_type": "display_data"
    }
   ],
   "source": [
    "dat = dat_region_merge\n",
    "gpt = ggplot(dat, aes(x = Score, fill = as.character(Group))) +\n",
    "    geom_density(alpha = 0.1) +\n",
    "    theme_cowplot() +\n",
    "    background_grid()\n",
    "\n",
    "options(repr.plot.width=7, repr.plot.height=5.5)\n",
    "print(gpt)"
   ]
  },
  {
   "cell_type": "code",
   "execution_count": 20,
   "id": "0ce449b1-bd12-4c8e-9e99-2e04df4172cf",
   "metadata": {},
   "outputs": [
    {
     "data": {
      "text/plain": [
       "\n",
       "\tWilcoxon rank sum test with continuity correction\n",
       "\n",
       "data:  Score by Group\n",
       "W = 27733, p-value = 4.175e-05\n",
       "alternative hypothesis: true location shift is not equal to 0\n"
      ]
     },
     "metadata": {},
     "output_type": "display_data"
    }
   ],
   "source": [
    "wilcox.test(Score ~ Group, data = dat_region_merge)"
   ]
  },
  {
   "cell_type": "markdown",
   "id": "dcdcfbd7-c3bb-4dec-952b-9c9ad9da6554",
   "metadata": {},
   "source": [
    "## Helper function"
   ]
  },
  {
   "cell_type": "code",
   "execution_count": 12,
   "id": "62248633-1c0e-4902-847f-c4c5d7346719",
   "metadata": {},
   "outputs": [],
   "source": [
    "fun_auroc = function(vec_boo_group, vec_num_score) {\n",
    "    ### sort the group by score\n",
    "    idx = order(vec_num_score)\n",
    "    vec = vec_boo_group[idx]\n",
    "    vec_group = vec\n",
    "\n",
    "    ### calculate total positive and negative cases\n",
    "    num_total_pos = sum( vec_group)\n",
    "    num_total_neg = sum(!vec_group)\n",
    "    if (num_total_pos == 0 || num_total_neg == 0) {\n",
    "        stop(\"Need at least one TRUE and one FALSE\")\n",
    "    }\n",
    "    \n",
    "    ### calculate positive and negative rates\n",
    "    vec_num_tpr = (num_total_pos - cumsum( vec_group)) / num_total_pos\n",
    "    vec_num_fpr = (num_total_neg - cumsum(!vec_group)) / num_total_neg\n",
    "\n",
    "    ### convert to sensitivity and specificity\n",
    "    vec_num_sens = vec_num_tpr\n",
    "    vec_num_spec = 1 - vec_num_fpr\n",
    "    \n",
    "    ### estimate the area under curve\n",
    "    num_width = diff(c(0, 1 - vec_num_sens))\n",
    "    num_auc   = sum(vec_num_spec * num_width)\n",
    "\n",
    "    ### combine and return the results\n",
    "    lst = list(\n",
    "        \"Sensitivity\" = vec_num_sens,\n",
    "        \"Specificity\" = vec_num_spec,\n",
    "        \"AUROC\"       = num_auc\n",
    "    )\n",
    "    return(lst)\n",
    "}"
   ]
  },
  {
   "cell_type": "markdown",
   "id": "d9a835dd-6bb5-4ba4-ac5f-106c57de795d",
   "metadata": {},
   "source": [
    "## Perform logistic regression for each assay"
   ]
  },
  {
   "cell_type": "code",
   "execution_count": 13,
   "id": "3c0fe783-8d98-4363-b2e6-048b34fd22e0",
   "metadata": {},
   "outputs": [
    {
     "name": "stdout",
     "output_type": "stream",
     "text": [
      "[1] 12400     5\n"
     ]
    },
    {
     "data": {
      "text/html": [
       "<table>\n",
       " <thead>\n",
       "  <tr>\n",
       "   <th style=\"text-align:right;\"> x </th>\n",
       "   <th style=\"text-align:right;\"> y </th>\n",
       "   <th style=\"text-align:left;\"> Assay </th>\n",
       "   <th style=\"text-align:right;\"> AUROC </th>\n",
       "   <th style=\"text-align:left;\"> Performance </th>\n",
       "  </tr>\n",
       " </thead>\n",
       "<tbody>\n",
       "  <tr>\n",
       "   <td style=\"text-align:right;\"> 0.0000000 </td>\n",
       "   <td style=\"text-align:right;\"> 0 </td>\n",
       "   <td style=\"text-align:left;\"> ASTARR </td>\n",
       "   <td style=\"text-align:right;\"> 0.7813297 </td>\n",
       "   <td style=\"text-align:left;\"> ASTARR (0.78) </td>\n",
       "  </tr>\n",
       "  <tr>\n",
       "   <td style=\"text-align:right;\"> 0.0003188 </td>\n",
       "   <td style=\"text-align:right;\"> 0 </td>\n",
       "   <td style=\"text-align:left;\"> ASTARR </td>\n",
       "   <td style=\"text-align:right;\"> 0.7813297 </td>\n",
       "   <td style=\"text-align:left;\"> ASTARR (0.78) </td>\n",
       "  </tr>\n",
       "  <tr>\n",
       "   <td style=\"text-align:right;\"> 0.0006376 </td>\n",
       "   <td style=\"text-align:right;\"> 0 </td>\n",
       "   <td style=\"text-align:left;\"> ASTARR </td>\n",
       "   <td style=\"text-align:right;\"> 0.7813297 </td>\n",
       "   <td style=\"text-align:left;\"> ASTARR (0.78) </td>\n",
       "  </tr>\n",
       "</tbody>\n",
       "</table>"
      ]
     },
     "metadata": {},
     "output_type": "display_data"
    }
   ],
   "source": [
    "### loop through each input assay\n",
    "lst = lapply(VEC_TXT_ASSAY, function(txt_assay){\n",
    "    ### get score from each input assay\n",
    "    lst = lst_dat_region_score\n",
    "    dat = lst[[txt_assay]]\n",
    "    dat = dat %>% dplyr::select(Region, Score)\n",
    "    dat_region_score = dat\n",
    "\n",
    "    ### combine group and score\n",
    "    dat = dplyr::inner_join(\n",
    "        dat_region_group,\n",
    "        dat_region_score,\n",
    "        by = \"Region\"\n",
    "    )\n",
    "    dat_region_merge = dat\n",
    "\n",
    "    ### apply logistic regression\n",
    "    dat = dat_region_merge\n",
    "    fit = glm(Group ~ Score, data = dat, family = \"binomial\")\n",
    "    vec_boo_group = (dat$Group == 1)\n",
    "    vec_num_score = predict(fit, type = \"response\")\n",
    "\n",
    "    ### calculate assay performance\n",
    "    lst = fun_auroc(vec_boo_group, vec_num_score)\n",
    "    vec_num_spec = lst[[\"Specificity\"]]\n",
    "    vec_num_sens = lst[[\"Sensitivity\"]]\n",
    "    num_auroc    = lst[[\"AUROC\"]]\n",
    "\n",
    "    ### summarize the results\n",
    "    txt_title = paste0(\"(\", round(num_auroc, 2), \")\")\n",
    "    txt_title = paste(txt_assay, txt_title)\n",
    "\n",
    "    dat = data.frame(\n",
    "        \"x\" = 1 - vec_num_spec,\n",
    "        \"y\" = vec_num_sens,\n",
    "        \"Assay\" = txt_assay,\n",
    "        \"AUROC\" = num_auroc,\n",
    "        \"Performance\" = txt_title\n",
    "    )\n",
    "    dat = dat %>% dplyr::arrange(x, y)\n",
    "    return(dat)\n",
    "})\n",
    "\n",
    "### combine results across different input assay\n",
    "dat = bind_rows(lst)\n",
    "\n",
    "### assign and show\n",
    "dat_auroc_assay = dat\n",
    "print(dim(dat))\n",
    "fun_display_table(head(dat, 3))"
   ]
  },
  {
   "cell_type": "markdown",
   "id": "546b6851-4b91-4e45-ab2d-3ef35ee1ab98",
   "metadata": {},
   "source": [
    "**Explore the results**"
   ]
  },
  {
   "cell_type": "code",
   "execution_count": 14,
   "id": "df156771-f739-44ec-b3be-f626e4d7c343",
   "metadata": {},
   "outputs": [
    {
     "data": {
      "image/png": "[encoded data removed]",
      "text/plain": [
       "plot without title"
      ]
     },
     "metadata": {
      "image/png": {
       "height": 330,
       "width": 420
      }
     },
     "output_type": "display_data"
    }
   ],
   "source": [
    "dat = dat_auroc_assay\n",
    "gpt = ggplot(dat, aes(x=x, y=y, group=Assay, color=Performance)) +\n",
    "    geom_line(linewidth=1) +\n",
    "    labs(x = \"1 - Specificity\", y = \"Sensitivity\", title = TXT_ASSAY_OUT) +\n",
    "    theme_cowplot()\n",
    "\n",
    "gpt_export_auroc_by_assay = gpt\n",
    "options(repr.plot.width=7, repr.plot.height=5.5)\n",
    "print(gpt)"
   ]
  },
  {
   "cell_type": "markdown",
   "id": "7c48433a-2ded-42c7-98bd-ff2c76372baf",
   "metadata": {},
   "source": [
    "## Perform logistic regression with full assay"
   ]
  },
  {
   "cell_type": "code",
   "execution_count": 15,
   "id": "7453bd9d-109f-44ac-b8f1-307ae848c2e3",
   "metadata": {},
   "outputs": [
    {
     "name": "stdout",
     "output_type": "stream",
     "text": [
      "[1] 1237    6\n"
     ]
    },
    {
     "data": {
      "text/html": [
       "<table>\n",
       " <thead>\n",
       "  <tr>\n",
       "   <th style=\"text-align:left;\"> Region </th>\n",
       "   <th style=\"text-align:right;\"> ASTARR </th>\n",
       "   <th style=\"text-align:right;\"> ATAC </th>\n",
       "   <th style=\"text-align:right;\"> LMPRA </th>\n",
       "   <th style=\"text-align:right;\"> TMPRA </th>\n",
       "   <th style=\"text-align:right;\"> WSTARR </th>\n",
       "  </tr>\n",
       " </thead>\n",
       "<tbody>\n",
       "  <tr>\n",
       "   <td style=\"text-align:left;\"> chr11:32870601-32871324 </td>\n",
       "   <td style=\"text-align:right;\"> -0.8538079 </td>\n",
       "   <td style=\"text-align:right;\"> 2.467392 </td>\n",
       "   <td style=\"text-align:right;\"> -0.3215166 </td>\n",
       "   <td style=\"text-align:right;\"> -0.8266463 </td>\n",
       "   <td style=\"text-align:right;\"> -1.1918490 </td>\n",
       "  </tr>\n",
       "  <tr>\n",
       "   <td style=\"text-align:left;\"> chr11:32874343-32875070 </td>\n",
       "   <td style=\"text-align:right;\"> -0.8072207 </td>\n",
       "   <td style=\"text-align:right;\"> 1.756847 </td>\n",
       "   <td style=\"text-align:right;\"> -0.8170978 </td>\n",
       "   <td style=\"text-align:right;\"> -0.5623429 </td>\n",
       "   <td style=\"text-align:right;\"> -0.6172344 </td>\n",
       "  </tr>\n",
       "  <tr>\n",
       "   <td style=\"text-align:left;\"> chr11:32884749-32885822 </td>\n",
       "   <td style=\"text-align:right;\"> -1.0094371 </td>\n",
       "   <td style=\"text-align:right;\"> 2.087080 </td>\n",
       "   <td style=\"text-align:right;\"> 1.3800391 </td>\n",
       "   <td style=\"text-align:right;\"> -0.0558774 </td>\n",
       "   <td style=\"text-align:right;\"> -0.4409810 </td>\n",
       "  </tr>\n",
       "  <tr>\n",
       "   <td style=\"text-align:left;\"> chr11:32901572-32902485 </td>\n",
       "   <td style=\"text-align:right;\"> -0.5173027 </td>\n",
       "   <td style=\"text-align:right;\"> 1.459900 </td>\n",
       "   <td style=\"text-align:right;\"> -0.1454310 </td>\n",
       "   <td style=\"text-align:right;\"> -0.8996262 </td>\n",
       "   <td style=\"text-align:right;\"> -0.2380913 </td>\n",
       "  </tr>\n",
       "  <tr>\n",
       "   <td style=\"text-align:left;\"> chr11:32903491-32904506 </td>\n",
       "   <td style=\"text-align:right;\"> 0.0680074 </td>\n",
       "   <td style=\"text-align:right;\"> 1.860986 </td>\n",
       "   <td style=\"text-align:right;\"> 1.1180286 </td>\n",
       "   <td style=\"text-align:right;\"> -0.7975782 </td>\n",
       "   <td style=\"text-align:right;\"> -1.7982740 </td>\n",
       "  </tr>\n",
       "  <tr>\n",
       "   <td style=\"text-align:left;\"> chr11:32910855-32912010 </td>\n",
       "   <td style=\"text-align:right;\"> 0.4775592 </td>\n",
       "   <td style=\"text-align:right;\"> 2.814297 </td>\n",
       "   <td style=\"text-align:right;\"> 0.1459271 </td>\n",
       "   <td style=\"text-align:right;\"> 1.5677460 </td>\n",
       "   <td style=\"text-align:right;\"> -0.0268376 </td>\n",
       "  </tr>\n",
       "</tbody>\n",
       "</table>"
      ]
     },
     "metadata": {},
     "output_type": "display_data"
    }
   ],
   "source": [
    "lst = lst_dat_region_score\n",
    "lst = lst[VEC_TXT_ASSAY]\n",
    "dat = bind_rows(lst, .id = \"Assay\")\n",
    "dat = dat %>% \n",
    "    dplyr::select(Region, Score, Assay) %>%\n",
    "    tidyr::spread(Assay, Score) %>% \n",
    "    na.omit\n",
    "\n",
    "### assign and show\n",
    "dat_region_score = dat\n",
    "print(dim(dat))\n",
    "fun_display_table(head(dat))"
   ]
  },
  {
   "cell_type": "code",
   "execution_count": 16,
   "id": "8c8d84fb-15ae-4d2c-af8c-24d2b377e652",
   "metadata": {},
   "outputs": [
    {
     "name": "stdout",
     "output_type": "stream",
     "text": [
      "[1] 178   5\n"
     ]
    },
    {
     "data": {
      "text/html": [
       "<table>\n",
       " <thead>\n",
       "  <tr>\n",
       "   <th style=\"text-align:right;\"> x </th>\n",
       "   <th style=\"text-align:right;\"> y </th>\n",
       "   <th style=\"text-align:left;\"> Assay </th>\n",
       "   <th style=\"text-align:right;\"> AUROC </th>\n",
       "   <th style=\"text-align:left;\"> Performance </th>\n",
       "  </tr>\n",
       " </thead>\n",
       "<tbody>\n",
       "  <tr>\n",
       "   <td style=\"text-align:right;\"> 0 </td>\n",
       "   <td style=\"text-align:right;\"> 0.000 </td>\n",
       "   <td style=\"text-align:left;\"> Total </td>\n",
       "   <td style=\"text-align:right;\"> 0.9345588 </td>\n",
       "   <td style=\"text-align:left;\"> Total (0.93) </td>\n",
       "  </tr>\n",
       "  <tr>\n",
       "   <td style=\"text-align:right;\"> 0 </td>\n",
       "   <td style=\"text-align:right;\"> 0.125 </td>\n",
       "   <td style=\"text-align:left;\"> Total </td>\n",
       "   <td style=\"text-align:right;\"> 0.9345588 </td>\n",
       "   <td style=\"text-align:left;\"> Total (0.93) </td>\n",
       "  </tr>\n",
       "  <tr>\n",
       "   <td style=\"text-align:right;\"> 0 </td>\n",
       "   <td style=\"text-align:right;\"> 0.250 </td>\n",
       "   <td style=\"text-align:left;\"> Total </td>\n",
       "   <td style=\"text-align:right;\"> 0.9345588 </td>\n",
       "   <td style=\"text-align:left;\"> Total (0.93) </td>\n",
       "  </tr>\n",
       "</tbody>\n",
       "</table>"
      ]
     },
     "metadata": {},
     "output_type": "display_data"
    }
   ],
   "source": [
    "### combine group and score\n",
    "dat = dplyr::inner_join(\n",
    "    dat_region_group,\n",
    "    dat_region_score,\n",
    "    by = \"Region\"\n",
    ")\n",
    "dat_region_merge = dat\n",
    "\n",
    "### apply logistic regression\n",
    "dat = dat_region_merge\n",
    "fit = glm(\n",
    "    Group ~ ATAC + ASTARR + WSTARR + LMPRA + TMPRA, \n",
    "    data   = dat, \n",
    "    family = \"binomial\")\n",
    "vec_boo_group = (dat$Group == 1)\n",
    "vec_num_score = predict(fit, type = \"response\")\n",
    "\n",
    "### calculate assay performance\n",
    "lst = fun_auroc(vec_boo_group, vec_num_score)\n",
    "vec_num_spec = lst[[\"Specificity\"]]\n",
    "vec_num_sens = lst[[\"Sensitivity\"]]\n",
    "num_auroc    = lst[[\"AUROC\"]]\n",
    "\n",
    "### summarize the results\n",
    "txt_assay = \"Total\"\n",
    "txt_title = paste0(\"(\", round(num_auroc, 2), \")\")\n",
    "txt_title = paste(txt_assay, txt_title)\n",
    "\n",
    "dat = data.frame(\n",
    "    \"x\" = 1 - vec_num_spec,\n",
    "    \"y\" = vec_num_sens,\n",
    "    \"Assay\" = txt_assay,\n",
    "    \"AUROC\" = num_auroc,\n",
    "    \"Performance\" = txt_title\n",
    ")\n",
    "dat = dat %>% dplyr::arrange(x, y)\n",
    "\n",
    "### assign and show\n",
    "dat_auroc_total = dat\n",
    "print(dim(dat))\n",
    "fun_display_table(head(dat, 3))"
   ]
  },
  {
   "cell_type": "code",
   "execution_count": 17,
   "id": "4e22a6bc-82ec-4542-bb83-c527ad96c4a5",
   "metadata": {},
   "outputs": [
    {
     "data": {
      "image/png": "[encoded data removed]",
      "text/plain": [
       "plot without title"
      ]
     },
     "metadata": {
      "image/png": {
       "height": 330,
       "width": 420
      }
     },
     "output_type": "display_data"
    }
   ],
   "source": [
    "dat = dat_auroc_total\n",
    "gpt = ggplot(dat, aes(x=x, y=y, group=Assay, color=Performance)) +\n",
    "    geom_line(linewidth=1) +\n",
    "    labs(x = \"1 - Specificity\", y = \"Sensitivity\", title = TXT_ASSAY_OUT) +\n",
    "    theme_cowplot()\n",
    "\n",
    "options(repr.plot.width=7, repr.plot.height=5.5)\n",
    "print(gpt)"
   ]
  },
  {
   "cell_type": "markdown",
   "id": "a5efb7cf-3bfa-43aa-978e-33fd7e3cba4a",
   "metadata": {},
   "source": [
    "## Export plots"
   ]
  },
  {
   "cell_type": "code",
   "execution_count": 18,
   "id": "a6fc7612-36f2-45f8-9608-e31ddb8f3c6f",
   "metadata": {},
   "outputs": [],
   "source": [
    "plt_export = gpt_export_auroc_by_assay\n",
    "txt_export = \"fig.region_coverage_fcc.roc.top_one_percent.encode_e2g_benchmark\"\n",
    "\n",
    "txt_fdiry = \"./\"\n",
    "txt_fname = paste(txt_export, \"png\", sep = \".\")\n",
    "txt_fpath = file.path(txt_fdiry, txt_fname)\n",
    "ggsave(txt_fpath, plt_export, height = 5.5, width = 7, units = \"in\")\n",
    "\n",
    "txt_fdiry = \"./\"\n",
    "txt_fname = paste(txt_export, \"svg\", sep = \".\")\n",
    "txt_fpath = file.path(txt_fdiry, txt_fname)\n",
    "ggsave(txt_fpath, plt_export, height = 5.5, width = 7, units = \"in\")"
   ]
  }
 ],
 "metadata": {
  "kernelspec": {
   "display_name": "R",
   "language": "R",
   "name": "ir"
  },
  "language_info": {
   "codemirror_mode": "r",
   "file_extension": ".r",
   "mimetype": "text/x-r-source",
   "name": "R",
   "pygments_lexer": "r",
   "version": "4.5.1"
  }
 },
 "nbformat": 4,
 "nbformat_minor": 5
}
