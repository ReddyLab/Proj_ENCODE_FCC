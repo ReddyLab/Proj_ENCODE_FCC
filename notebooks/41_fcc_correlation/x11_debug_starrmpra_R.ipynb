{
 "cells": [
  {
   "cell_type": "raw",
   "id": "8eca97e5-0b69-4ab6-b2e1-405d57c31d1a",
   "metadata": {},
   "source": [
    "---\n",
    "title: ...\n",
    "subtitle: combine ATAC, setup total, final, and share verion of table\n",
    "format:\n",
    "    html:\n",
    "        code-fold:  true\n",
    "        code-tools: true\n",
    "---"
   ]
  },
  {
   "cell_type": "markdown",
   "id": "e9333bc9-563f-4cba-87d7-ae7197988ac9",
   "metadata": {},
   "source": [
    "**Set environment**"
   ]
  },
  {
   "cell_type": "code",
   "execution_count": 1,
   "id": "e2c4a542-8bb4-4498-add1-2d4fb1fb68e4",
   "metadata": {},
   "outputs": [
    {
     "name": "stdout",
     "output_type": "stream",
     "text": [
      "You are working on        Singularity: singularity_proj_encode_fcc \n",
      "BASE DIRECTORY (FD_BASE): /data/reddylab/Kuei \n",
      "REPO DIRECTORY (FD_REPO): /data/reddylab/Kuei/repo \n",
      "WORK DIRECTORY (FD_WORK): /data/reddylab/Kuei/work \n",
      "DATA DIRECTORY (FD_DATA): /data/reddylab/Kuei/data \n",
      "\n",
      "You are working with      ENCODE FCC \n",
      "PATH OF PROJECT (FD_PRJ): /data/reddylab/Kuei/repo/Proj_ENCODE_FCC \n",
      "PROJECT RESULTS (FD_RES): /data/reddylab/Kuei/repo/Proj_ENCODE_FCC/results \n",
      "PROJECT SCRIPTS (FD_EXE): /data/reddylab/Kuei/repo/Proj_ENCODE_FCC/scripts \n",
      "PROJECT DATA    (FD_DAT): /data/reddylab/Kuei/repo/Proj_ENCODE_FCC/data \n",
      "PROJECT NOTE    (FD_NBK): /data/reddylab/Kuei/repo/Proj_ENCODE_FCC/notebooks \n",
      "PROJECT DOCS    (FD_DOC): /data/reddylab/Kuei/repo/Proj_ENCODE_FCC/docs \n",
      "PROJECT LOG     (FD_LOG): /data/reddylab/Kuei/repo/Proj_ENCODE_FCC/log \n",
      "PROJECT REF     (FD_REF): /data/reddylab/Kuei/repo/Proj_ENCODE_FCC/references \n",
      "\n"
     ]
    }
   ],
   "source": [
    "suppressMessages(suppressWarnings(source(\"../run_config_project_sing.R\")))\n",
    "show_env()"
   ]
  },
  {
   "cell_type": "markdown",
   "id": "2068cd7a-a93c-40ba-817e-34825171cf9d",
   "metadata": {},
   "source": [
    "**Set global variables**"
   ]
  },
  {
   "cell_type": "code",
   "execution_count": 2,
   "id": "cf0a3676-5c3f-4955-a9a5-586700497729",
   "metadata": {},
   "outputs": [
    {
     "name": "stdout",
     "output_type": "stream",
     "text": [
      "atac_ENCFF333TAT \n",
      "atac_ENCFF558BLC \n",
      "atac_ENCFF925CYR \n",
      "atac_ENCFF948AFM \n",
      "dnase_ENCFF185XRG \n",
      "dnase_ENCFF274YGF \n",
      "fcc_astarr_macs_input_overlap \n",
      "fcc_astarr_macs_input_union \n"
     ]
    }
   ],
   "source": [
    "txt_fdiry = file.path(FD_RES, \"region_coverage_fcc\")\n",
    "vec = dir(txt_fdiry)\n",
    "for (txt in vec) {cat(txt, \"\\n\")}"
   ]
  },
  {
   "cell_type": "code",
   "execution_count": 3,
   "id": "db8dafdb-5bcf-4a15-8a44-96824aec0590",
   "metadata": {},
   "outputs": [
    {
     "name": "stdout",
     "output_type": "stream",
     "text": [
      "CRISPRi_FlowFISH_K562_Riley_JinWoo \n",
      "CRISPRi_Growth_K562_Gersbach_JinWoo \n",
      "MPRA_Lenti_K562_Nadav_Vikram \n",
      "MPRA_Tiling_K562_Tewhey_Hannah \n",
      "STARR_ATAC_K562_Reddy_KS274 \n",
      "STARR_ATAC_K562_Reddy_KS91 \n",
      "STARR_ATAC_K562_Reddy_KSMerge \n",
      "STARR_WHG_K562_Reddy_A001 \n",
      "summary \n"
     ]
    }
   ],
   "source": [
    "txt_region = \"fcc_astarr_macs_input_union\"\n",
    "txt_fdiry  = file.path(FD_RES, \"region_coverage_fcc\", txt_region)\n",
    "vec = dir(txt_fdiry)\n",
    "for (txt in vec) {cat(txt, \"\\n\")}"
   ]
  },
  {
   "cell_type": "code",
   "execution_count": 4,
   "id": "ac2784b0-731e-4da6-98d2-74befa11ff8b",
   "metadata": {},
   "outputs": [
    {
     "name": "stdout",
     "output_type": "stream",
     "text": [
      "fcc_astarr_macs_input_overlap \n",
      "fcc_astarr_macs_input_union \n"
     ]
    }
   ],
   "source": [
    "#txt_fdiry = file.path(FD_RES, \"region_coverage_fcc\")\n",
    "#vec = dir(txt_fdiry)\n",
    "vec = c(\"fcc_astarr_macs_input_overlap\", \"fcc_astarr_macs_input_union\")\n",
    "names(vec) = vec\n",
    "\n",
    "VEC_TXT_REGION = vec\n",
    "for (txt in vec) {cat(txt, \"\\n\")}"
   ]
  },
  {
   "cell_type": "markdown",
   "id": "575d2d1f-48ca-4ec6-8be3-c46dacf84830",
   "metadata": {},
   "source": [
    "## Import data"
   ]
  },
  {
   "cell_type": "code",
   "execution_count": 5,
   "id": "9adcb16a-f3b0-4925-a368-d71ae65c37e9",
   "metadata": {},
   "outputs": [
    {
     "name": "stdout",
     "output_type": "stream",
     "text": [
      "$fcc_astarr_macs_input_overlap\n",
      "[1] 432603      9\n",
      "\n",
      "$fcc_astarr_macs_input_union\n",
      "[1] 639302      9\n",
      "\n"
     ]
    },
    {
     "data": {
      "text/html": [
       "<table class=\"dataframe\">\n",
       "<caption>A tibble: 3 × 9</caption>\n",
       "<thead>\n",
       "\t<tr><th scope=col>Chrom</th><th scope=col>ChromStart</th><th scope=col>ChromEnd</th><th scope=col>Region</th><th scope=col>Score</th><th scope=col>Assay_Name</th><th scope=col>Assay_Type</th><th scope=col>Assay_Group</th><th scope=col>Assay_Label</th></tr>\n",
       "\t<tr><th scope=col>&lt;chr&gt;</th><th scope=col>&lt;dbl&gt;</th><th scope=col>&lt;dbl&gt;</th><th scope=col>&lt;chr&gt;</th><th scope=col>&lt;dbl&gt;</th><th scope=col>&lt;chr&gt;</th><th scope=col>&lt;chr&gt;</th><th scope=col>&lt;chr&gt;</th><th scope=col>&lt;chr&gt;</th></tr>\n",
       "</thead>\n",
       "<tbody>\n",
       "\t<tr><td>chr11</td><td>4092109</td><td>4092511</td><td>chr11:4092109-4092511</td><td>-0.4446170</td><td>CRISPRi_FlowFISH_K562_Riley_JinWoo</td><td>CRISPRi-HCRFF</td><td>CRISPRi-HCRFF</td><td>CRISPRi-HCR FlowFISH</td></tr>\n",
       "\t<tr><td>chr11</td><td>4094223</td><td>4095304</td><td>chr11:4094223-4095304</td><td>-0.2302549</td><td>CRISPRi_FlowFISH_K562_Riley_JinWoo</td><td>CRISPRi-HCRFF</td><td>CRISPRi-HCRFF</td><td>CRISPRi-HCR FlowFISH</td></tr>\n",
       "\t<tr><td>chr11</td><td>4144721</td><td>4147004</td><td>chr11:4144721-4147004</td><td>-0.2878661</td><td>CRISPRi_FlowFISH_K562_Riley_JinWoo</td><td>CRISPRi-HCRFF</td><td>CRISPRi-HCRFF</td><td>CRISPRi-HCR FlowFISH</td></tr>\n",
       "</tbody>\n",
       "</table>\n"
      ],
      "text/latex": [
       "A tibble: 3 × 9\n",
       "\\begin{tabular}{lllllllll}\n",
       " Chrom & ChromStart & ChromEnd & Region & Score & Assay\\_Name & Assay\\_Type & Assay\\_Group & Assay\\_Label\\\\\n",
       " <chr> & <dbl> & <dbl> & <chr> & <dbl> & <chr> & <chr> & <chr> & <chr>\\\\\n",
       "\\hline\n",
       "\t chr11 & 4092109 & 4092511 & chr11:4092109-4092511 & -0.4446170 & CRISPRi\\_FlowFISH\\_K562\\_Riley\\_JinWoo & CRISPRi-HCRFF & CRISPRi-HCRFF & CRISPRi-HCR FlowFISH\\\\\n",
       "\t chr11 & 4094223 & 4095304 & chr11:4094223-4095304 & -0.2302549 & CRISPRi\\_FlowFISH\\_K562\\_Riley\\_JinWoo & CRISPRi-HCRFF & CRISPRi-HCRFF & CRISPRi-HCR FlowFISH\\\\\n",
       "\t chr11 & 4144721 & 4147004 & chr11:4144721-4147004 & -0.2878661 & CRISPRi\\_FlowFISH\\_K562\\_Riley\\_JinWoo & CRISPRi-HCRFF & CRISPRi-HCRFF & CRISPRi-HCR FlowFISH\\\\\n",
       "\\end{tabular}\n"
      ],
      "text/markdown": [
       "\n",
       "A tibble: 3 × 9\n",
       "\n",
       "| Chrom &lt;chr&gt; | ChromStart &lt;dbl&gt; | ChromEnd &lt;dbl&gt; | Region &lt;chr&gt; | Score &lt;dbl&gt; | Assay_Name &lt;chr&gt; | Assay_Type &lt;chr&gt; | Assay_Group &lt;chr&gt; | Assay_Label &lt;chr&gt; |\n",
       "|---|---|---|---|---|---|---|---|---|\n",
       "| chr11 | 4092109 | 4092511 | chr11:4092109-4092511 | -0.4446170 | CRISPRi_FlowFISH_K562_Riley_JinWoo | CRISPRi-HCRFF | CRISPRi-HCRFF | CRISPRi-HCR FlowFISH |\n",
       "| chr11 | 4094223 | 4095304 | chr11:4094223-4095304 | -0.2302549 | CRISPRi_FlowFISH_K562_Riley_JinWoo | CRISPRi-HCRFF | CRISPRi-HCRFF | CRISPRi-HCR FlowFISH |\n",
       "| chr11 | 4144721 | 4147004 | chr11:4144721-4147004 | -0.2878661 | CRISPRi_FlowFISH_K562_Riley_JinWoo | CRISPRi-HCRFF | CRISPRi-HCRFF | CRISPRi-HCR FlowFISH |\n",
       "\n"
      ],
      "text/plain": [
       "  Chrom ChromStart ChromEnd Region                Score     \n",
       "1 chr11 4092109    4092511  chr11:4092109-4092511 -0.4446170\n",
       "2 chr11 4094223    4095304  chr11:4094223-4095304 -0.2302549\n",
       "3 chr11 4144721    4147004  chr11:4144721-4147004 -0.2878661\n",
       "  Assay_Name                         Assay_Type    Assay_Group  \n",
       "1 CRISPRi_FlowFISH_K562_Riley_JinWoo CRISPRi-HCRFF CRISPRi-HCRFF\n",
       "2 CRISPRi_FlowFISH_K562_Riley_JinWoo CRISPRi-HCRFF CRISPRi-HCRFF\n",
       "3 CRISPRi_FlowFISH_K562_Riley_JinWoo CRISPRi-HCRFF CRISPRi-HCRFF\n",
       "  Assay_Label         \n",
       "1 CRISPRi-HCR FlowFISH\n",
       "2 CRISPRi-HCR FlowFISH\n",
       "3 CRISPRi-HCR FlowFISH"
      ]
     },
     "metadata": {},
     "output_type": "display_data"
    }
   ],
   "source": [
    "lst = lapply(VEC_TXT_REGION, function(txt_region){\n",
    "    ### set file directory\n",
    "    txt_fdiry  = file.path(\n",
    "        FD_RES, \n",
    "        \"region_coverage_fcc\", \n",
    "        txt_region, \n",
    "        \"summary\"\n",
    "    )\n",
    "    txt_fname = \"result.coverage.score.final.tsv\"\n",
    "    txt_fpath = file.path(txt_fdiry, txt_fname)\n",
    "\n",
    "    ### read table\n",
    "    dat = read_tsv(txt_fpath, show_col_types = FALSE)\n",
    "    return(dat)\n",
    "})\n",
    "\n",
    "### assign and show\n",
    "lst_dat_region_score_import = lst\n",
    "\n",
    "res = lapply(lst, dim)\n",
    "print(res)\n",
    "\n",
    "dat = lst[[1]]\n",
    "head(dat, 3)"
   ]
  },
  {
   "cell_type": "code",
   "execution_count": 6,
   "id": "730602f2-518a-4311-9179-3f9923e72e04",
   "metadata": {},
   "outputs": [
    {
     "name": "stdout",
     "output_type": "stream",
     "text": [
      "$fcc_astarr_macs_input_overlap\n",
      "[1] 615   8\n",
      "\n",
      "$fcc_astarr_macs_input_union\n",
      "[1] 944   8\n",
      "\n"
     ]
    },
    {
     "data": {
      "text/html": [
       "<table class=\"dataframe\">\n",
       "<caption>A tibble: 3 × 8</caption>\n",
       "<thead>\n",
       "\t<tr><th scope=col>Chrom</th><th scope=col>ChromStart</th><th scope=col>ChromEnd</th><th scope=col>Region</th><th scope=col>ASTARR</th><th scope=col>LMPRA</th><th scope=col>TMPRA</th><th scope=col>WSTARR</th></tr>\n",
       "\t<tr><th scope=col>&lt;chr&gt;</th><th scope=col>&lt;dbl&gt;</th><th scope=col>&lt;dbl&gt;</th><th scope=col>&lt;chr&gt;</th><th scope=col>&lt;dbl&gt;</th><th scope=col>&lt;dbl&gt;</th><th scope=col>&lt;dbl&gt;</th><th scope=col>&lt;dbl&gt;</th></tr>\n",
       "</thead>\n",
       "<tbody>\n",
       "\t<tr><td>chr11</td><td>4551522</td><td>4551988</td><td>chr11:4551522-4551988</td><td>0.5272279</td><td>-0.8705705</td><td>-0.2761461</td><td>-0.2447780</td></tr>\n",
       "\t<tr><td>chr11</td><td>4554256</td><td>4554817</td><td>chr11:4554256-4554817</td><td>0.1118192</td><td> 1.7290587</td><td> 1.4753201</td><td> 0.9583926</td></tr>\n",
       "\t<tr><td>chr11</td><td>4607720</td><td>4608631</td><td>chr11:4607720-4608631</td><td>0.7417945</td><td>-1.0067316</td><td> 1.2722944</td><td> 0.5669320</td></tr>\n",
       "</tbody>\n",
       "</table>\n"
      ],
      "text/latex": [
       "A tibble: 3 × 8\n",
       "\\begin{tabular}{llllllll}\n",
       " Chrom & ChromStart & ChromEnd & Region & ASTARR & LMPRA & TMPRA & WSTARR\\\\\n",
       " <chr> & <dbl> & <dbl> & <chr> & <dbl> & <dbl> & <dbl> & <dbl>\\\\\n",
       "\\hline\n",
       "\t chr11 & 4551522 & 4551988 & chr11:4551522-4551988 & 0.5272279 & -0.8705705 & -0.2761461 & -0.2447780\\\\\n",
       "\t chr11 & 4554256 & 4554817 & chr11:4554256-4554817 & 0.1118192 &  1.7290587 &  1.4753201 &  0.9583926\\\\\n",
       "\t chr11 & 4607720 & 4608631 & chr11:4607720-4608631 & 0.7417945 & -1.0067316 &  1.2722944 &  0.5669320\\\\\n",
       "\\end{tabular}\n"
      ],
      "text/markdown": [
       "\n",
       "A tibble: 3 × 8\n",
       "\n",
       "| Chrom &lt;chr&gt; | ChromStart &lt;dbl&gt; | ChromEnd &lt;dbl&gt; | Region &lt;chr&gt; | ASTARR &lt;dbl&gt; | LMPRA &lt;dbl&gt; | TMPRA &lt;dbl&gt; | WSTARR &lt;dbl&gt; |\n",
       "|---|---|---|---|---|---|---|---|\n",
       "| chr11 | 4551522 | 4551988 | chr11:4551522-4551988 | 0.5272279 | -0.8705705 | -0.2761461 | -0.2447780 |\n",
       "| chr11 | 4554256 | 4554817 | chr11:4554256-4554817 | 0.1118192 |  1.7290587 |  1.4753201 |  0.9583926 |\n",
       "| chr11 | 4607720 | 4608631 | chr11:4607720-4608631 | 0.7417945 | -1.0067316 |  1.2722944 |  0.5669320 |\n",
       "\n"
      ],
      "text/plain": [
       "  Chrom ChromStart ChromEnd Region                ASTARR    LMPRA     \n",
       "1 chr11 4551522    4551988  chr11:4551522-4551988 0.5272279 -0.8705705\n",
       "2 chr11 4554256    4554817  chr11:4554256-4554817 0.1118192  1.7290587\n",
       "3 chr11 4607720    4608631  chr11:4607720-4608631 0.7417945 -1.0067316\n",
       "  TMPRA      WSTARR    \n",
       "1 -0.2761461 -0.2447780\n",
       "2  1.4753201  0.9583926\n",
       "3  1.2722944  0.5669320"
      ]
     },
     "metadata": {},
     "output_type": "display_data"
    }
   ],
   "source": [
    "lst = lst_dat_region_score_import\n",
    "lst = lapply(lst, function(dat){\n",
    "    vec = c(\"ASTARR\", \"WSTARR\", \"LMPRA\", \"TMPRA\")\n",
    "    dat = dat %>% \n",
    "        dplyr::mutate(Assay = Assay_Type) %>% \n",
    "        dplyr::filter(Assay %in% vec) %>% \n",
    "        dplyr::select(Chrom, ChromStart, ChromEnd, Region, Assay, Score)\n",
    "    \n",
    "    dat = dat %>% tidyr::spread(Assay, Score) %>% na.omit\n",
    "    return(dat)\n",
    "})\n",
    "\n",
    "### assign and show\n",
    "lst_dat_region_score_arrange = lst\n",
    "\n",
    "res = lapply(lst, dim)\n",
    "print(res)\n",
    "\n",
    "dat = lst[[1]]\n",
    "head(dat, 3)"
   ]
  },
  {
   "cell_type": "code",
   "execution_count": null,
   "id": "32418168-4753-4346-8934-9a0630104591",
   "metadata": {},
   "outputs": [],
   "source": []
  },
  {
   "cell_type": "code",
   "execution_count": null,
   "id": "72a7ef2d-b072-4d64-87ea-6290e8a3f192",
   "metadata": {},
   "outputs": [],
   "source": []
  },
  {
   "cell_type": "code",
   "execution_count": 13,
   "id": "34a2cd48-2dbb-40e9-be6f-cec7580f34a5",
   "metadata": {},
   "outputs": [
    {
     "data": {
      "text/html": [
       "<table>\n",
       " <thead>\n",
       "  <tr>\n",
       "   <th style=\"text-align:left;\"> Chrom </th>\n",
       "   <th style=\"text-align:right;\"> ChromStart </th>\n",
       "   <th style=\"text-align:right;\"> ChromEnd </th>\n",
       "   <th style=\"text-align:left;\"> Region </th>\n",
       "   <th style=\"text-align:right;\"> Score </th>\n",
       "   <th style=\"text-align:left;\"> Assay_Name </th>\n",
       "   <th style=\"text-align:left;\"> Assay_Type </th>\n",
       "   <th style=\"text-align:left;\"> Assay_Group </th>\n",
       "   <th style=\"text-align:left;\"> Assay_Label </th>\n",
       "  </tr>\n",
       " </thead>\n",
       "<tbody>\n",
       "  <tr>\n",
       "   <td style=\"text-align:left;\"> chr11 </td>\n",
       "   <td style=\"text-align:right;\"> 4092104 </td>\n",
       "   <td style=\"text-align:right;\"> 4092566 </td>\n",
       "   <td style=\"text-align:left;\"> chr11:4092104-4092566 </td>\n",
       "   <td style=\"text-align:right;\"> -0.4800155 </td>\n",
       "   <td style=\"text-align:left;\"> CRISPRi_FlowFISH_K562_Riley_JinWoo </td>\n",
       "   <td style=\"text-align:left;\"> CRISPRi-HCRFF </td>\n",
       "   <td style=\"text-align:left;\"> CRISPRi-HCRFF </td>\n",
       "   <td style=\"text-align:left;\"> CRISPRi-HCR FlowFISH </td>\n",
       "  </tr>\n",
       "  <tr>\n",
       "   <td style=\"text-align:left;\"> chr11 </td>\n",
       "   <td style=\"text-align:right;\"> 4094204 </td>\n",
       "   <td style=\"text-align:right;\"> 4095676 </td>\n",
       "   <td style=\"text-align:left;\"> chr11:4094204-4095676 </td>\n",
       "   <td style=\"text-align:right;\"> -0.2046389 </td>\n",
       "   <td style=\"text-align:left;\"> CRISPRi_FlowFISH_K562_Riley_JinWoo </td>\n",
       "   <td style=\"text-align:left;\"> CRISPRi-HCRFF </td>\n",
       "   <td style=\"text-align:left;\"> CRISPRi-HCRFF </td>\n",
       "   <td style=\"text-align:left;\"> CRISPRi-HCR FlowFISH </td>\n",
       "  </tr>\n",
       "  <tr>\n",
       "   <td style=\"text-align:left;\"> chr11 </td>\n",
       "   <td style=\"text-align:right;\"> 4144511 </td>\n",
       "   <td style=\"text-align:right;\"> 4147030 </td>\n",
       "   <td style=\"text-align:left;\"> chr11:4144511-4147030 </td>\n",
       "   <td style=\"text-align:right;\"> -0.2753264 </td>\n",
       "   <td style=\"text-align:left;\"> CRISPRi_FlowFISH_K562_Riley_JinWoo </td>\n",
       "   <td style=\"text-align:left;\"> CRISPRi-HCRFF </td>\n",
       "   <td style=\"text-align:left;\"> CRISPRi-HCRFF </td>\n",
       "   <td style=\"text-align:left;\"> CRISPRi-HCR FlowFISH </td>\n",
       "  </tr>\n",
       "</tbody>\n",
       "</table>"
      ]
     },
     "metadata": {},
     "output_type": "display_data"
    }
   ],
   "source": [
    "idx = \"fcc_astarr_macs_input_union\"\n",
    "lst = lst_dat_region_score_import\n",
    "dat = lst[[idx]]\n",
    "fun_display_table(head(dat, 3))"
   ]
  },
  {
   "cell_type": "code",
   "execution_count": 12,
   "id": "82c663ba-c144-470a-87fd-1d7264a6bc20",
   "metadata": {},
   "outputs": [
    {
     "data": {
      "text/plain": [
       "\n",
       "        ASTARR CRISPRi-Growth  CRISPRi-HCRFF          LMPRA          TMPRA \n",
       "        246850          80288           1330          68497           1306 \n",
       "        WSTARR \n",
       "        241031 "
      ]
     },
     "metadata": {},
     "output_type": "display_data"
    }
   ],
   "source": [
    "idx = \"fcc_astarr_macs_input_union\"\n",
    "lst = lst_dat_region_score_import\n",
    "dat = lst[[idx]]\n",
    "table(dat$Assay_Type)"
   ]
  },
  {
   "cell_type": "code",
   "execution_count": 24,
   "id": "c625e811-9ab3-4b79-b6d9-527a101ad502",
   "metadata": {},
   "outputs": [
    {
     "name": "stdout",
     "output_type": "stream",
     "text": [
      "[1] 557684      9\n"
     ]
    },
    {
     "data": {
      "text/plain": [
       "\n",
       "ASTARR  LMPRA  TMPRA WSTARR \n",
       "246850  68497   1306 241031 "
      ]
     },
     "metadata": {},
     "output_type": "display_data"
    }
   ],
   "source": [
    "idx = \"fcc_astarr_macs_input_union\"\n",
    "lst = lst_dat_region_score_import\n",
    "dat = lst[[idx]]\n",
    "\n",
    "vec = c(\"ASTARR\", \"WSTARR\", \"TMPRA\", \"LMPRA\")\n",
    "dat = dat %>% dplyr::filter(Assay_Type %in% vec)\n",
    "\n",
    "dat_region_score_subset = dat\n",
    "print(dim(dat))\n",
    "table(dat$Assay_Type)"
   ]
  },
  {
   "cell_type": "code",
   "execution_count": 27,
   "id": "b4f5d7df-d39b-4bb0-8074-97528a75a49f",
   "metadata": {},
   "outputs": [
    {
     "data": {
      "text/html": [
       "1722"
      ],
      "text/latex": [
       "1722"
      ],
      "text/markdown": [
       "1722"
      ],
      "text/plain": [
       "[1] 1722"
      ]
     },
     "metadata": {},
     "output_type": "display_data"
    }
   ],
   "source": [
    "1306 + 394 + 22 "
   ]
  },
  {
   "cell_type": "code",
   "execution_count": null,
   "id": "b60a34f2-d9c6-41f4-9e0d-659db5139181",
   "metadata": {},
   "outputs": [],
   "source": []
  },
  {
   "cell_type": "code",
   "execution_count": null,
   "id": "4b6c56f5-9ed0-46b5-8042-aba365b24c34",
   "metadata": {},
   "outputs": [],
   "source": []
  },
  {
   "cell_type": "code",
   "execution_count": null,
   "id": "8eae4306-4a10-401f-966f-670a757019b9",
   "metadata": {},
   "outputs": [],
   "source": []
  },
  {
   "cell_type": "code",
   "execution_count": null,
   "id": "d2d862a8-34d4-4168-a634-e0ec3babd83b",
   "metadata": {},
   "outputs": [],
   "source": []
  },
  {
   "cell_type": "code",
   "execution_count": 17,
   "id": "2dfc4a09-536f-44d4-941a-4a5c2edd56a9",
   "metadata": {},
   "outputs": [],
   "source": [
    "FD_RES_PRE = \"/data/reddylab/Kuei/work/proj_encode_fcc/results_v4\""
   ]
  },
  {
   "cell_type": "code",
   "execution_count": 15,
   "id": "56dcaa6b-432e-4535-ac58-dfdde89e527c",
   "metadata": {},
   "outputs": [
    {
     "name": "stdout",
     "output_type": "stream",
     "text": [
      "\n",
      "               ASTARR        CRISPRi-Growth         CRISPRi-HCRFF \n",
      "               246850                 80288                  1330 \n",
      " ENCODE-E2G_Benchmark ENCODE-E2G_Prediction                 LMPRA \n",
      "                 3007                 84129                 68420 \n",
      "                TMPRA                WSTARR \n",
      "                 1722                246688 \n",
      "[1] 732434      7\n"
     ]
    },
    {
     "data": {
      "text/html": [
       "<table class=\"dataframe\">\n",
       "<caption>A tibble: 6 × 7</caption>\n",
       "<thead>\n",
       "\t<tr><th scope=col>Chrom</th><th scope=col>Start</th><th scope=col>End</th><th scope=col>Peak</th><th scope=col>Score</th><th scope=col>Assay_Type</th><th scope=col>Assay_Label</th></tr>\n",
       "\t<tr><th scope=col>&lt;chr&gt;</th><th scope=col>&lt;dbl&gt;</th><th scope=col>&lt;dbl&gt;</th><th scope=col>&lt;chr&gt;</th><th scope=col>&lt;dbl&gt;</th><th scope=col>&lt;chr&gt;</th><th scope=col>&lt;chr&gt;</th></tr>\n",
       "</thead>\n",
       "<tbody>\n",
       "\t<tr><td>chr1</td><td>100006256</td><td>100006880</td><td>chr1:100006256-100006880</td><td>-0.01311792</td><td>ASTARR</td><td>ASTARR_T</td></tr>\n",
       "\t<tr><td>chr1</td><td>100010437</td><td>100010915</td><td>chr1:100010437-100010915</td><td>-0.80687947</td><td>ASTARR</td><td>ASTARR_T</td></tr>\n",
       "\t<tr><td>chr1</td><td> 10002087</td><td> 10003910</td><td>chr1:10002087-10003910  </td><td>-0.34892859</td><td>ASTARR</td><td>ASTARR_T</td></tr>\n",
       "\t<tr><td>chr1</td><td>100021298</td><td>100021629</td><td>chr1:100021298-100021629</td><td>-1.03799571</td><td>ASTARR</td><td>ASTARR_T</td></tr>\n",
       "\t<tr><td>chr1</td><td>100023727</td><td>100023976</td><td>chr1:100023727-100023976</td><td>-0.19100207</td><td>ASTARR</td><td>ASTARR_T</td></tr>\n",
       "\t<tr><td>chr1</td><td>100027983</td><td>100029702</td><td>chr1:100027983-100029702</td><td>-0.18001582</td><td>ASTARR</td><td>ASTARR_T</td></tr>\n",
       "</tbody>\n",
       "</table>\n"
      ],
      "text/latex": [
       "A tibble: 6 × 7\n",
       "\\begin{tabular}{lllllll}\n",
       " Chrom & Start & End & Peak & Score & Assay\\_Type & Assay\\_Label\\\\\n",
       " <chr> & <dbl> & <dbl> & <chr> & <dbl> & <chr> & <chr>\\\\\n",
       "\\hline\n",
       "\t chr1 & 100006256 & 100006880 & chr1:100006256-100006880 & -0.01311792 & ASTARR & ASTARR\\_T\\\\\n",
       "\t chr1 & 100010437 & 100010915 & chr1:100010437-100010915 & -0.80687947 & ASTARR & ASTARR\\_T\\\\\n",
       "\t chr1 &  10002087 &  10003910 & chr1:10002087-10003910   & -0.34892859 & ASTARR & ASTARR\\_T\\\\\n",
       "\t chr1 & 100021298 & 100021629 & chr1:100021298-100021629 & -1.03799571 & ASTARR & ASTARR\\_T\\\\\n",
       "\t chr1 & 100023727 & 100023976 & chr1:100023727-100023976 & -0.19100207 & ASTARR & ASTARR\\_T\\\\\n",
       "\t chr1 & 100027983 & 100029702 & chr1:100027983-100029702 & -0.18001582 & ASTARR & ASTARR\\_T\\\\\n",
       "\\end{tabular}\n"
      ],
      "text/markdown": [
       "\n",
       "A tibble: 6 × 7\n",
       "\n",
       "| Chrom &lt;chr&gt; | Start &lt;dbl&gt; | End &lt;dbl&gt; | Peak &lt;chr&gt; | Score &lt;dbl&gt; | Assay_Type &lt;chr&gt; | Assay_Label &lt;chr&gt; |\n",
       "|---|---|---|---|---|---|---|\n",
       "| chr1 | 100006256 | 100006880 | chr1:100006256-100006880 | -0.01311792 | ASTARR | ASTARR_T |\n",
       "| chr1 | 100010437 | 100010915 | chr1:100010437-100010915 | -0.80687947 | ASTARR | ASTARR_T |\n",
       "| chr1 |  10002087 |  10003910 | chr1:10002087-10003910   | -0.34892859 | ASTARR | ASTARR_T |\n",
       "| chr1 | 100021298 | 100021629 | chr1:100021298-100021629 | -1.03799571 | ASTARR | ASTARR_T |\n",
       "| chr1 | 100023727 | 100023976 | chr1:100023727-100023976 | -0.19100207 | ASTARR | ASTARR_T |\n",
       "| chr1 | 100027983 | 100029702 | chr1:100027983-100029702 | -0.18001582 | ASTARR | ASTARR_T |\n",
       "\n"
      ],
      "text/plain": [
       "  Chrom Start     End       Peak                     Score       Assay_Type\n",
       "1 chr1  100006256 100006880 chr1:100006256-100006880 -0.01311792 ASTARR    \n",
       "2 chr1  100010437 100010915 chr1:100010437-100010915 -0.80687947 ASTARR    \n",
       "3 chr1   10002087  10003910 chr1:10002087-10003910   -0.34892859 ASTARR    \n",
       "4 chr1  100021298 100021629 chr1:100021298-100021629 -1.03799571 ASTARR    \n",
       "5 chr1  100023727 100023976 chr1:100023727-100023976 -0.19100207 ASTARR    \n",
       "6 chr1  100027983 100029702 chr1:100027983-100029702 -0.18001582 ASTARR    \n",
       "  Assay_Label\n",
       "1 ASTARR_T   \n",
       "2 ASTARR_T   \n",
       "3 ASTARR_T   \n",
       "4 ASTARR_T   \n",
       "5 ASTARR_T   \n",
       "6 ASTARR_T   "
      ]
     },
     "metadata": {},
     "output_type": "display_data"
    }
   ],
   "source": [
    "### set file paths\n",
    "fdiry  = file.path(\n",
    "    FD_RES_PRE,\n",
    "    \"region\",\n",
    "    \"KS91_K562_ASTARRseq_peak_macs_input\",\n",
    "    \"summary\"\n",
    ")\n",
    "fname = paste(\"peak\", \"screened\", \"fcc\", \"total\", \"tsv\", sep = \".\")\n",
    "fpath = file.path(fdiry, fname)\n",
    "\n",
    "### read table\n",
    "dat = read_tsv(fpath, show_col_types = FALSE)\n",
    "\n",
    "###\n",
    "dat_peak_screened = dat\n",
    "print(table(dat$Assay_Type))\n",
    "print(dim(dat))\n",
    "head(dat)"
   ]
  },
  {
   "cell_type": "code",
   "execution_count": 19,
   "id": "4c23efe0-8f8f-412e-8d9b-c67964845456",
   "metadata": {},
   "outputs": [
    {
     "data": {
      "text/plain": [
       "\n",
       "ASTARR  LMPRA  TMPRA WSTARR \n",
       "246850  68420   1722 246688 "
      ]
     },
     "metadata": {},
     "output_type": "display_data"
    }
   ],
   "source": [
    "dat = dat_peak_screened\n",
    "vec = c(\"ASTARR\", \"WSTARR\", \"TMPRA\", \"LMPRA\")\n",
    "dat = dat %>% dplyr::filter(Assay_Type %in% vec)\n",
    "table(dat$Assay_Type)"
   ]
  },
  {
   "cell_type": "code",
   "execution_count": 21,
   "id": "7114d729-6876-4b90-988c-da94cf00c165",
   "metadata": {},
   "outputs": [
    {
     "name": "stdout",
     "output_type": "stream",
     "text": [
      "[1] 563680      8\n"
     ]
    },
    {
     "data": {
      "text/html": [
       "<table class=\"dataframe\">\n",
       "<caption>A tibble: 6 × 8</caption>\n",
       "<thead>\n",
       "\t<tr><th scope=col>Chrom</th><th scope=col>Start</th><th scope=col>End</th><th scope=col>Peak</th><th scope=col>Score</th><th scope=col>Assay_Type</th><th scope=col>Assay_Label</th><th scope=col>Assay</th></tr>\n",
       "\t<tr><th scope=col>&lt;chr&gt;</th><th scope=col>&lt;dbl&gt;</th><th scope=col>&lt;dbl&gt;</th><th scope=col>&lt;chr&gt;</th><th scope=col>&lt;dbl&gt;</th><th scope=col>&lt;chr&gt;</th><th scope=col>&lt;chr&gt;</th><th scope=col>&lt;chr&gt;</th></tr>\n",
       "</thead>\n",
       "<tbody>\n",
       "\t<tr><td>chr1</td><td>100006256</td><td>100006880</td><td>chr1:100006256-100006880</td><td>-0.01311792</td><td>ASTARR</td><td>ASTARR_T</td><td>ASTARR</td></tr>\n",
       "\t<tr><td>chr1</td><td>100010437</td><td>100010915</td><td>chr1:100010437-100010915</td><td>-0.80687947</td><td>ASTARR</td><td>ASTARR_T</td><td>ASTARR</td></tr>\n",
       "\t<tr><td>chr1</td><td> 10002087</td><td> 10003910</td><td>chr1:10002087-10003910  </td><td>-0.34892859</td><td>ASTARR</td><td>ASTARR_T</td><td>ASTARR</td></tr>\n",
       "\t<tr><td>chr1</td><td>100021298</td><td>100021629</td><td>chr1:100021298-100021629</td><td>-1.03799571</td><td>ASTARR</td><td>ASTARR_T</td><td>ASTARR</td></tr>\n",
       "\t<tr><td>chr1</td><td>100023727</td><td>100023976</td><td>chr1:100023727-100023976</td><td>-0.19100207</td><td>ASTARR</td><td>ASTARR_T</td><td>ASTARR</td></tr>\n",
       "\t<tr><td>chr1</td><td>100027983</td><td>100029702</td><td>chr1:100027983-100029702</td><td>-0.18001582</td><td>ASTARR</td><td>ASTARR_T</td><td>ASTARR</td></tr>\n",
       "</tbody>\n",
       "</table>\n"
      ],
      "text/latex": [
       "A tibble: 6 × 8\n",
       "\\begin{tabular}{llllllll}\n",
       " Chrom & Start & End & Peak & Score & Assay\\_Type & Assay\\_Label & Assay\\\\\n",
       " <chr> & <dbl> & <dbl> & <chr> & <dbl> & <chr> & <chr> & <chr>\\\\\n",
       "\\hline\n",
       "\t chr1 & 100006256 & 100006880 & chr1:100006256-100006880 & -0.01311792 & ASTARR & ASTARR\\_T & ASTARR\\\\\n",
       "\t chr1 & 100010437 & 100010915 & chr1:100010437-100010915 & -0.80687947 & ASTARR & ASTARR\\_T & ASTARR\\\\\n",
       "\t chr1 &  10002087 &  10003910 & chr1:10002087-10003910   & -0.34892859 & ASTARR & ASTARR\\_T & ASTARR\\\\\n",
       "\t chr1 & 100021298 & 100021629 & chr1:100021298-100021629 & -1.03799571 & ASTARR & ASTARR\\_T & ASTARR\\\\\n",
       "\t chr1 & 100023727 & 100023976 & chr1:100023727-100023976 & -0.19100207 & ASTARR & ASTARR\\_T & ASTARR\\\\\n",
       "\t chr1 & 100027983 & 100029702 & chr1:100027983-100029702 & -0.18001582 & ASTARR & ASTARR\\_T & ASTARR\\\\\n",
       "\\end{tabular}\n"
      ],
      "text/markdown": [
       "\n",
       "A tibble: 6 × 8\n",
       "\n",
       "| Chrom &lt;chr&gt; | Start &lt;dbl&gt; | End &lt;dbl&gt; | Peak &lt;chr&gt; | Score &lt;dbl&gt; | Assay_Type &lt;chr&gt; | Assay_Label &lt;chr&gt; | Assay &lt;chr&gt; |\n",
       "|---|---|---|---|---|---|---|---|\n",
       "| chr1 | 100006256 | 100006880 | chr1:100006256-100006880 | -0.01311792 | ASTARR | ASTARR_T | ASTARR |\n",
       "| chr1 | 100010437 | 100010915 | chr1:100010437-100010915 | -0.80687947 | ASTARR | ASTARR_T | ASTARR |\n",
       "| chr1 |  10002087 |  10003910 | chr1:10002087-10003910   | -0.34892859 | ASTARR | ASTARR_T | ASTARR |\n",
       "| chr1 | 100021298 | 100021629 | chr1:100021298-100021629 | -1.03799571 | ASTARR | ASTARR_T | ASTARR |\n",
       "| chr1 | 100023727 | 100023976 | chr1:100023727-100023976 | -0.19100207 | ASTARR | ASTARR_T | ASTARR |\n",
       "| chr1 | 100027983 | 100029702 | chr1:100027983-100029702 | -0.18001582 | ASTARR | ASTARR_T | ASTARR |\n",
       "\n"
      ],
      "text/plain": [
       "  Chrom Start     End       Peak                     Score       Assay_Type\n",
       "1 chr1  100006256 100006880 chr1:100006256-100006880 -0.01311792 ASTARR    \n",
       "2 chr1  100010437 100010915 chr1:100010437-100010915 -0.80687947 ASTARR    \n",
       "3 chr1   10002087  10003910 chr1:10002087-10003910   -0.34892859 ASTARR    \n",
       "4 chr1  100021298 100021629 chr1:100021298-100021629 -1.03799571 ASTARR    \n",
       "5 chr1  100023727 100023976 chr1:100023727-100023976 -0.19100207 ASTARR    \n",
       "6 chr1  100027983 100029702 chr1:100027983-100029702 -0.18001582 ASTARR    \n",
       "  Assay_Label Assay \n",
       "1 ASTARR_T    ASTARR\n",
       "2 ASTARR_T    ASTARR\n",
       "3 ASTARR_T    ASTARR\n",
       "4 ASTARR_T    ASTARR\n",
       "5 ASTARR_T    ASTARR\n",
       "6 ASTARR_T    ASTARR"
      ]
     },
     "metadata": {},
     "output_type": "display_data"
    }
   ],
   "source": [
    "dat = dat_peak_screened\n",
    "vec = c(\"ASTARR\", \"WSTARR\", \"TMPRA\", \"LMPRA\")\n",
    "dat = dat %>% dplyr::filter(Assay_Type %in% vec) %>% dplyr::mutate(Assay = Assay_Type)\n",
    "\n",
    "dat_peak_screened_starrmpra = dat\n",
    "print(dim(dat))\n",
    "head(dat)"
   ]
  },
  {
   "cell_type": "code",
   "execution_count": 22,
   "id": "bb0e91bf-1a90-46fb-a9cb-fea4fb0c95b3",
   "metadata": {},
   "outputs": [
    {
     "name": "stdout",
     "output_type": "stream",
     "text": [
      "[1] 1241    5\n"
     ]
    },
    {
     "data": {
      "text/html": [
       "<table class=\"dataframe\">\n",
       "<caption>A tibble: 6 × 5</caption>\n",
       "<thead>\n",
       "\t<tr><th scope=col>Peak</th><th scope=col>ASTARR</th><th scope=col>WSTARR</th><th scope=col>TMPRA</th><th scope=col>LMPRA</th></tr>\n",
       "\t<tr><th scope=col>&lt;chr&gt;</th><th scope=col>&lt;dbl&gt;</th><th scope=col>&lt;dbl&gt;</th><th scope=col>&lt;dbl&gt;</th><th scope=col>&lt;dbl&gt;</th></tr>\n",
       "</thead>\n",
       "<tbody>\n",
       "\t<tr><td>chr11:32870601-32871324</td><td>-0.56726545</td><td>-0.45442671</td><td>-0.7592992</td><td>-0.3215166</td></tr>\n",
       "\t<tr><td>chr11:32874343-32875070</td><td>-0.54920178</td><td>-0.23994680</td><td>-0.4159155</td><td>-0.8170978</td></tr>\n",
       "\t<tr><td>chr11:32884749-32885822</td><td>-0.66011484</td><td>-0.17415901</td><td> 0.2420861</td><td> 1.3800391</td></tr>\n",
       "\t<tr><td>chr11:32901572-32902485</td><td>-0.38438377</td><td>-0.09841904</td><td>-0.8541150</td><td>-0.1454310</td></tr>\n",
       "\t<tr><td>chr11:32903491-32904506</td><td>-0.05446687</td><td>-0.68078185</td><td>-0.7215339</td><td> 1.1180286</td></tr>\n",
       "\t<tr><td>chr11:32910855-32912010</td><td> 0.17567189</td><td>-0.01956657</td><td> 2.3515025</td><td> 0.1459271</td></tr>\n",
       "</tbody>\n",
       "</table>\n"
      ],
      "text/latex": [
       "A tibble: 6 × 5\n",
       "\\begin{tabular}{lllll}\n",
       " Peak & ASTARR & WSTARR & TMPRA & LMPRA\\\\\n",
       " <chr> & <dbl> & <dbl> & <dbl> & <dbl>\\\\\n",
       "\\hline\n",
       "\t chr11:32870601-32871324 & -0.56726545 & -0.45442671 & -0.7592992 & -0.3215166\\\\\n",
       "\t chr11:32874343-32875070 & -0.54920178 & -0.23994680 & -0.4159155 & -0.8170978\\\\\n",
       "\t chr11:32884749-32885822 & -0.66011484 & -0.17415901 &  0.2420861 &  1.3800391\\\\\n",
       "\t chr11:32901572-32902485 & -0.38438377 & -0.09841904 & -0.8541150 & -0.1454310\\\\\n",
       "\t chr11:32903491-32904506 & -0.05446687 & -0.68078185 & -0.7215339 &  1.1180286\\\\\n",
       "\t chr11:32910855-32912010 &  0.17567189 & -0.01956657 &  2.3515025 &  0.1459271\\\\\n",
       "\\end{tabular}\n"
      ],
      "text/markdown": [
       "\n",
       "A tibble: 6 × 5\n",
       "\n",
       "| Peak &lt;chr&gt; | ASTARR &lt;dbl&gt; | WSTARR &lt;dbl&gt; | TMPRA &lt;dbl&gt; | LMPRA &lt;dbl&gt; |\n",
       "|---|---|---|---|---|\n",
       "| chr11:32870601-32871324 | -0.56726545 | -0.45442671 | -0.7592992 | -0.3215166 |\n",
       "| chr11:32874343-32875070 | -0.54920178 | -0.23994680 | -0.4159155 | -0.8170978 |\n",
       "| chr11:32884749-32885822 | -0.66011484 | -0.17415901 |  0.2420861 |  1.3800391 |\n",
       "| chr11:32901572-32902485 | -0.38438377 | -0.09841904 | -0.8541150 | -0.1454310 |\n",
       "| chr11:32903491-32904506 | -0.05446687 | -0.68078185 | -0.7215339 |  1.1180286 |\n",
       "| chr11:32910855-32912010 |  0.17567189 | -0.01956657 |  2.3515025 |  0.1459271 |\n",
       "\n"
      ],
      "text/plain": [
       "  Peak                    ASTARR      WSTARR      TMPRA      LMPRA     \n",
       "1 chr11:32870601-32871324 -0.56726545 -0.45442671 -0.7592992 -0.3215166\n",
       "2 chr11:32874343-32875070 -0.54920178 -0.23994680 -0.4159155 -0.8170978\n",
       "3 chr11:32884749-32885822 -0.66011484 -0.17415901  0.2420861  1.3800391\n",
       "4 chr11:32901572-32902485 -0.38438377 -0.09841904 -0.8541150 -0.1454310\n",
       "5 chr11:32903491-32904506 -0.05446687 -0.68078185 -0.7215339  1.1180286\n",
       "6 chr11:32910855-32912010  0.17567189 -0.01956657  2.3515025  0.1459271"
      ]
     },
     "metadata": {},
     "output_type": "display_data"
    }
   ],
   "source": [
    "dat = dat_peak_screened_starrmpra\n",
    "dat = dat %>%\n",
    "    dplyr::select(Assay, Peak, Score) %>%\n",
    "    tidyr::spread(Assay, Score) %>%\n",
    "    dplyr::select(Peak, ASTARR, WSTARR, TMPRA, LMPRA) %>%\n",
    "    na.omit\n",
    "\n",
    "### assign and show\n",
    "dat_peak_score = dat\n",
    "print(dim(dat))\n",
    "head(dat)"
   ]
  },
  {
   "cell_type": "code",
   "execution_count": null,
   "id": "92cbe5d5-afda-4458-9bb8-9c1b26e4f24a",
   "metadata": {},
   "outputs": [],
   "source": []
  },
  {
   "cell_type": "code",
   "execution_count": null,
   "id": "4fff6a6b-85d7-4905-9777-425a7e1fa7ec",
   "metadata": {},
   "outputs": [],
   "source": []
  },
  {
   "cell_type": "code",
   "execution_count": null,
   "id": "7dd4c48f-bf10-4cf8-b38a-83674238b65d",
   "metadata": {},
   "outputs": [],
   "source": []
  },
  {
   "cell_type": "code",
   "execution_count": 23,
   "id": "d5c61e76-c91e-4b1d-8913-455c3a388600",
   "metadata": {},
   "outputs": [
    {
     "name": "stdout",
     "output_type": "stream",
     "text": [
      "[1] 1241\n"
     ]
    }
   ],
   "source": [
    "dat = dat_peak_score\n",
    "vec = dat$Peak\n",
    "vec_txt_region_pre = vec\n",
    "print(length(vec))"
   ]
  },
  {
   "cell_type": "code",
   "execution_count": 25,
   "id": "31cdc2cf-c303-4f33-98ac-4d5861b6875b",
   "metadata": {},
   "outputs": [
    {
     "data": {
      "text/html": [
       "<dl>\n",
       "\t<dt>$ASTARR</dt>\n",
       "\t\t<dd>246850</dd>\n",
       "\t<dt>$LMPRA</dt>\n",
       "\t\t<dd>68497</dd>\n",
       "\t<dt>$TMPRA</dt>\n",
       "\t\t<dd>1306</dd>\n",
       "\t<dt>$WSTARR</dt>\n",
       "\t\t<dd>241031</dd>\n",
       "</dl>\n"
      ],
      "text/latex": [
       "\\begin{description}\n",
       "\\item[\\$ASTARR] 246850\n",
       "\\item[\\$LMPRA] 68497\n",
       "\\item[\\$TMPRA] 1306\n",
       "\\item[\\$WSTARR] 241031\n",
       "\\end{description}\n"
      ],
      "text/markdown": [
       "$ASTARR\n",
       ":   246850\n",
       "$LMPRA\n",
       ":   68497\n",
       "$TMPRA\n",
       ":   1306\n",
       "$WSTARR\n",
       ":   241031\n",
       "\n",
       "\n"
      ],
      "text/plain": [
       "$ASTARR\n",
       "[1] 246850\n",
       "\n",
       "$LMPRA\n",
       "[1] 68497\n",
       "\n",
       "$TMPRA\n",
       "[1] 1306\n",
       "\n",
       "$WSTARR\n",
       "[1] 241031\n"
      ]
     },
     "metadata": {},
     "output_type": "display_data"
    }
   ],
   "source": [
    "dat = dat_region_score_subset\n",
    "lst = split(dat$Region, dat$Assay_Type)\n",
    "lapply(lst, length)"
   ]
  },
  {
   "cell_type": "code",
   "execution_count": 26,
   "id": "cece7a95-08ca-47b4-8c46-0b5fb906aa96",
   "metadata": {},
   "outputs": [
    {
     "data": {
      "text/html": [
       "<dl>\n",
       "\t<dt>$ASTARR</dt>\n",
       "\t\t<dd>1241</dd>\n",
       "\t<dt>$LMPRA</dt>\n",
       "\t\t<dd>1241</dd>\n",
       "\t<dt>$TMPRA</dt>\n",
       "\t\t<dd>949</dd>\n",
       "\t<dt>$WSTARR</dt>\n",
       "\t\t<dd>1235</dd>\n",
       "</dl>\n"
      ],
      "text/latex": [
       "\\begin{description}\n",
       "\\item[\\$ASTARR] 1241\n",
       "\\item[\\$LMPRA] 1241\n",
       "\\item[\\$TMPRA] 949\n",
       "\\item[\\$WSTARR] 1235\n",
       "\\end{description}\n"
      ],
      "text/markdown": [
       "$ASTARR\n",
       ":   1241\n",
       "$LMPRA\n",
       ":   1241\n",
       "$TMPRA\n",
       ":   949\n",
       "$WSTARR\n",
       ":   1235\n",
       "\n",
       "\n"
      ],
      "text/plain": [
       "$ASTARR\n",
       "[1] 1241\n",
       "\n",
       "$LMPRA\n",
       "[1] 1241\n",
       "\n",
       "$TMPRA\n",
       "[1] 949\n",
       "\n",
       "$WSTARR\n",
       "[1] 1235\n"
      ]
     },
     "metadata": {},
     "output_type": "display_data"
    }
   ],
   "source": [
    "dat = dat_region_score_subset\n",
    "lst = split(dat$Region, dat$Assay_Type)\n",
    "lst = lapply(lst, function(vec){\n",
    "    res = intersect(vec, vec_txt_region_pre)\n",
    "    num = length(res)\n",
    "    return(num)\n",
    "})\n",
    "lst"
   ]
  },
  {
   "cell_type": "code",
   "execution_count": null,
   "id": "8e7511fd-0b43-40ec-92fe-efeaf5bddc4c",
   "metadata": {},
   "outputs": [],
   "source": []
  }
 ],
 "metadata": {
  "kernelspec": {
   "display_name": "R",
   "language": "R",
   "name": "ir"
  },
  "language_info": {
   "codemirror_mode": "r",
   "file_extension": ".r",
   "mimetype": "text/x-r-source",
   "name": "R",
   "pygments_lexer": "r",
   "version": "4.4.2"
  }
 },
 "nbformat": 4,
 "nbformat_minor": 5
}
