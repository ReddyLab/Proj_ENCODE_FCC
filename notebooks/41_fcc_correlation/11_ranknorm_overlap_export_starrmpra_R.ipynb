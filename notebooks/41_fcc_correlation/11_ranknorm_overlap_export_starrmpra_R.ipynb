{
 "cells": [
  {
   "cell_type": "raw",
   "id": "b84a749a-afa9-4278-8913-f91beda66801",
   "metadata": {},
   "source": [
    "---\n",
    "title: FCC correlation 11\n",
    "subtitle: STARR/MPRA rank-normalization\n",
    "format:\n",
    "    html:\n",
    "        code-fold:  true\n",
    "        code-tools: true\n",
    "---"
   ]
  },
  {
   "cell_type": "markdown",
   "id": "08715216-136d-4fe0-a102-09d63ece3b13",
   "metadata": {},
   "source": [
    "**Set environment**"
   ]
  },
  {
   "cell_type": "code",
   "execution_count": 1,
   "id": "3a7dc6db-17d2-4a54-994f-8ae6b57f21a5",
   "metadata": {},
   "outputs": [
    {
     "name": "stdout",
     "output_type": "stream",
     "text": [
      "You are working on        Singularity: singularity_proj_encode_fcc \n",
      "BASE DIRECTORY (FD_BASE): /data/reddylab/Kuei \n",
      "REPO DIRECTORY (FD_REPO): /data/reddylab/Kuei/repo \n",
      "WORK DIRECTORY (FD_WORK): /data/reddylab/Kuei/work \n",
      "DATA DIRECTORY (FD_DATA): /data/reddylab/Kuei/data \n",
      "\n",
      "You are working with      ENCODE FCC \n",
      "PATH OF PROJECT (FD_PRJ): /data/reddylab/Kuei/repo/Proj_ENCODE_FCC \n",
      "PROJECT RESULTS (FD_RES): /data/reddylab/Kuei/repo/Proj_ENCODE_FCC/results \n",
      "PROJECT SCRIPTS (FD_EXE): /data/reddylab/Kuei/repo/Proj_ENCODE_FCC/scripts \n",
      "PROJECT DATA    (FD_DAT): /data/reddylab/Kuei/repo/Proj_ENCODE_FCC/data \n",
      "PROJECT NOTE    (FD_NBK): /data/reddylab/Kuei/repo/Proj_ENCODE_FCC/notebooks \n",
      "PROJECT DOCS    (FD_DOC): /data/reddylab/Kuei/repo/Proj_ENCODE_FCC/docs \n",
      "PROJECT LOG     (FD_LOG): /data/reddylab/Kuei/repo/Proj_ENCODE_FCC/log \n",
      "PROJECT REF     (FD_REF): /data/reddylab/Kuei/repo/Proj_ENCODE_FCC/references \n",
      "\n"
     ]
    }
   ],
   "source": [
    "suppressMessages(suppressWarnings(source(\"../run_config_project_sing.R\")))\n",
    "show_env()"
   ]
  },
  {
   "cell_type": "markdown",
   "id": "94c5be69-c102-4cd6-99b2-d3c381985055",
   "metadata": {},
   "source": [
    "**Check: region directory**"
   ]
  },
  {
   "cell_type": "code",
   "execution_count": 2,
   "id": "8aea1bd7-606c-4ff1-aa7a-c34380c4a3fb",
   "metadata": {},
   "outputs": [
    {
     "name": "stdout",
     "output_type": "stream",
     "text": [
      "atac_ENCFF333TAT \n",
      "atac_ENCFF558BLC \n",
      "atac_ENCFF925CYR \n",
      "atac_ENCFF948AFM \n",
      "dnase_ENCFF185XRG \n",
      "dnase_ENCFF274YGF \n",
      "fcc_astarr_macs_input_overlap \n",
      "fcc_astarr_macs_input_union \n"
     ]
    }
   ],
   "source": [
    "txt_fdiry = file.path(FD_RES, \"region_coverage_fcc_score\")\n",
    "\n",
    "vec = dir(txt_fdiry)\n",
    "for (txt in vec){cat(txt, \"\\n\")}"
   ]
  },
  {
   "cell_type": "markdown",
   "id": "6612f22f-7827-4498-99d5-960c06cedc51",
   "metadata": {},
   "source": [
    "**Check: assay directory**"
   ]
  },
  {
   "cell_type": "code",
   "execution_count": 3,
   "id": "6679c208-2edc-4b88-b6f5-74251f173bb8",
   "metadata": {},
   "outputs": [
    {
     "name": "stdout",
     "output_type": "stream",
     "text": [
      "CRISPRi_FlowFISH_K562_Riley_JinWoo \n",
      "CRISPRi_Growth_K562_Gersbach_JinWoo \n",
      "MPRA_Lenti_K562_Nadav_Vikram \n",
      "MPRA_Tiling_K562_Tewhey_Hannah \n",
      "STARR_ATAC_K562_Reddy_KS274 \n",
      "STARR_ATAC_K562_Reddy_KS91 \n",
      "STARR_ATAC_K562_Reddy_KSMerge \n",
      "STARR_WHG_K562_Reddy_A001 \n",
      "summary \n"
     ]
    }
   ],
   "source": [
    "txt_region = \"fcc_astarr_macs_input_union\"\n",
    "txt_fdiry  = file.path(FD_RES, \"region_coverage_fcc_score\", txt_region)\n",
    "vec = dir(txt_fdiry)\n",
    "for (txt in vec) {cat(txt, \"\\n\")}"
   ]
  },
  {
   "cell_type": "markdown",
   "id": "fece258a-8bcd-4106-9a06-00fc54ec6d69",
   "metadata": {},
   "source": [
    "**Set global variable**"
   ]
  },
  {
   "cell_type": "code",
   "execution_count": 4,
   "id": "64ed1a42-61a3-47c1-ada3-4cc518b1ee37",
   "metadata": {},
   "outputs": [
    {
     "name": "stdout",
     "output_type": "stream",
     "text": [
      "fcc_astarr_macs_input_overlap \n",
      "fcc_astarr_macs_input_union \n"
     ]
    }
   ],
   "source": [
    "## init: region folder\n",
    "vec = c(\"fcc_astarr_macs_input_overlap\", \"fcc_astarr_macs_input_union\")\n",
    "names(vec) = vec\n",
    "\n",
    "VEC_TXT_FOLDER = vec\n",
    "for (txt in vec) {cat(txt, \"\\n\")}"
   ]
  },
  {
   "cell_type": "markdown",
   "id": "3e8c40ce-d162-4a67-ac95-3d23ab0ae641",
   "metadata": {},
   "source": [
    "**Check input files**"
   ]
  },
  {
   "cell_type": "code",
   "execution_count": 5,
   "id": "3673f3a6-2fc3-4007-96af-f493936282d5",
   "metadata": {},
   "outputs": [
    {
     "name": "stdout",
     "output_type": "stream",
     "text": [
      "/data/reddylab/Kuei/repo/Proj_ENCODE_FCC/results/region_coverage_fcc_score/fcc_astarr_macs_input_overlap/summary/region.coverage.score.atac.tsv \n",
      "/data/reddylab/Kuei/repo/Proj_ENCODE_FCC/results/region_coverage_fcc_score/fcc_astarr_macs_input_overlap/summary/region.coverage.score.fcc.final.tsv \n",
      "/data/reddylab/Kuei/repo/Proj_ENCODE_FCC/results/region_coverage_fcc_score/fcc_astarr_macs_input_overlap/summary/region.coverage.score.fcc.total.tsv \n"
     ]
    }
   ],
   "source": [
    "txt_folder = VEC_TXT_FOLDER[1]\n",
    "txt_fdiry  = file.path(FD_RES, \"region_coverage_fcc_score\", txt_folder, \"summary\")\n",
    "txt_fname  = \"region.coverage.score.*.tsv\"\n",
    "txt_fglob  = file.path(txt_fdiry, txt_fname)\n",
    "\n",
    "vec = Sys.glob(txt_fglob)\n",
    "for (txt in vec) {cat(txt, \"\\n\")}"
   ]
  },
  {
   "cell_type": "markdown",
   "id": "73dba42a-a622-4838-8a64-d55fcde52cc4",
   "metadata": {},
   "source": [
    "## Import data"
   ]
  },
  {
   "cell_type": "code",
   "execution_count": 7,
   "id": "ee4ae38c-f869-49f6-941e-83ea3569cee5",
   "metadata": {},
   "outputs": [
    {
     "name": "stdout",
     "output_type": "stream",
     "text": [
      "$fcc_astarr_macs_input_overlap\n",
      "[1] 432928     11\n",
      "\n",
      "$fcc_astarr_macs_input_union\n",
      "[1] 639718     11\n",
      "\n"
     ]
    },
    {
     "data": {
      "text/html": [
       "<table class=\"dataframe\">\n",
       "<caption>A tibble: 3 × 11</caption>\n",
       "<thead>\n",
       "\t<tr><th scope=col>Chrom</th><th scope=col>ChromStart</th><th scope=col>ChromEnd</th><th scope=col>Region</th><th scope=col>Score</th><th scope=col>Zcore</th><th scope=col>Score_Label</th><th scope=col>Zcore_Label</th><th scope=col>Assay_Folder</th><th scope=col>Assay_Group</th><th scope=col>Assay_Label</th></tr>\n",
       "\t<tr><th scope=col>&lt;chr&gt;</th><th scope=col>&lt;dbl&gt;</th><th scope=col>&lt;dbl&gt;</th><th scope=col>&lt;chr&gt;</th><th scope=col>&lt;dbl&gt;</th><th scope=col>&lt;dbl&gt;</th><th scope=col>&lt;chr&gt;</th><th scope=col>&lt;chr&gt;</th><th scope=col>&lt;chr&gt;</th><th scope=col>&lt;chr&gt;</th><th scope=col>&lt;chr&gt;</th></tr>\n",
       "</thead>\n",
       "<tbody>\n",
       "\t<tr><td>chr1</td><td>10038</td><td>10405</td><td>chr1:10038-10405</td><td>-2.23485265</td><td>-3.5573621</td><td>Log2FC</td><td>Scale(Log2FC)</td><td>STARR_ATAC_K562_Reddy_KS91</td><td>ASTARR_KS91</td><td>ASTARR</td></tr>\n",
       "\t<tr><td>chr1</td><td>14282</td><td>14614</td><td>chr1:14282-14614</td><td> 0.03179044</td><td> 0.0361388</td><td>Log2FC</td><td>Scale(Log2FC)</td><td>STARR_ATAC_K562_Reddy_KS91</td><td>ASTARR_KS91</td><td>ASTARR</td></tr>\n",
       "\t<tr><td>chr1</td><td>16025</td><td>16338</td><td>chr1:16025-16338</td><td>-1.33934060</td><td>-2.1376311</td><td>Log2FC</td><td>Scale(Log2FC)</td><td>STARR_ATAC_K562_Reddy_KS91</td><td>ASTARR_KS91</td><td>ASTARR</td></tr>\n",
       "</tbody>\n",
       "</table>\n"
      ],
      "text/latex": [
       "A tibble: 3 × 11\n",
       "\\begin{tabular}{lllllllllll}\n",
       " Chrom & ChromStart & ChromEnd & Region & Score & Zcore & Score\\_Label & Zcore\\_Label & Assay\\_Folder & Assay\\_Group & Assay\\_Label\\\\\n",
       " <chr> & <dbl> & <dbl> & <chr> & <dbl> & <dbl> & <chr> & <chr> & <chr> & <chr> & <chr>\\\\\n",
       "\\hline\n",
       "\t chr1 & 10038 & 10405 & chr1:10038-10405 & -2.23485265 & -3.5573621 & Log2FC & Scale(Log2FC) & STARR\\_ATAC\\_K562\\_Reddy\\_KS91 & ASTARR\\_KS91 & ASTARR\\\\\n",
       "\t chr1 & 14282 & 14614 & chr1:14282-14614 &  0.03179044 &  0.0361388 & Log2FC & Scale(Log2FC) & STARR\\_ATAC\\_K562\\_Reddy\\_KS91 & ASTARR\\_KS91 & ASTARR\\\\\n",
       "\t chr1 & 16025 & 16338 & chr1:16025-16338 & -1.33934060 & -2.1376311 & Log2FC & Scale(Log2FC) & STARR\\_ATAC\\_K562\\_Reddy\\_KS91 & ASTARR\\_KS91 & ASTARR\\\\\n",
       "\\end{tabular}\n"
      ],
      "text/markdown": [
       "\n",
       "A tibble: 3 × 11\n",
       "\n",
       "| Chrom &lt;chr&gt; | ChromStart &lt;dbl&gt; | ChromEnd &lt;dbl&gt; | Region &lt;chr&gt; | Score &lt;dbl&gt; | Zcore &lt;dbl&gt; | Score_Label &lt;chr&gt; | Zcore_Label &lt;chr&gt; | Assay_Folder &lt;chr&gt; | Assay_Group &lt;chr&gt; | Assay_Label &lt;chr&gt; |\n",
       "|---|---|---|---|---|---|---|---|---|---|---|\n",
       "| chr1 | 10038 | 10405 | chr1:10038-10405 | -2.23485265 | -3.5573621 | Log2FC | Scale(Log2FC) | STARR_ATAC_K562_Reddy_KS91 | ASTARR_KS91 | ASTARR |\n",
       "| chr1 | 14282 | 14614 | chr1:14282-14614 |  0.03179044 |  0.0361388 | Log2FC | Scale(Log2FC) | STARR_ATAC_K562_Reddy_KS91 | ASTARR_KS91 | ASTARR |\n",
       "| chr1 | 16025 | 16338 | chr1:16025-16338 | -1.33934060 | -2.1376311 | Log2FC | Scale(Log2FC) | STARR_ATAC_K562_Reddy_KS91 | ASTARR_KS91 | ASTARR |\n",
       "\n"
      ],
      "text/plain": [
       "  Chrom ChromStart ChromEnd Region           Score       Zcore      Score_Label\n",
       "1 chr1  10038      10405    chr1:10038-10405 -2.23485265 -3.5573621 Log2FC     \n",
       "2 chr1  14282      14614    chr1:14282-14614  0.03179044  0.0361388 Log2FC     \n",
       "3 chr1  16025      16338    chr1:16025-16338 -1.33934060 -2.1376311 Log2FC     \n",
       "  Zcore_Label   Assay_Folder               Assay_Group Assay_Label\n",
       "1 Scale(Log2FC) STARR_ATAC_K562_Reddy_KS91 ASTARR_KS91 ASTARR     \n",
       "2 Scale(Log2FC) STARR_ATAC_K562_Reddy_KS91 ASTARR_KS91 ASTARR     \n",
       "3 Scale(Log2FC) STARR_ATAC_K562_Reddy_KS91 ASTARR_KS91 ASTARR     "
      ]
     },
     "metadata": {},
     "output_type": "display_data"
    }
   ],
   "source": [
    "lst = lapply(VEC_TXT_FOLDER, function(txt_folder){\n",
    "    ### set file directory\n",
    "    txt_fdiry  = file.path(\n",
    "        FD_RES, \"region_coverage_fcc_score\", \n",
    "        txt_folder, \n",
    "        \"summary\"\n",
    "    )\n",
    "    txt_fname = \"region.coverage.score.fcc.final.tsv\"\n",
    "    txt_fpath = file.path(txt_fdiry, txt_fname)\n",
    "\n",
    "    ### read table\n",
    "    dat = read_tsv(txt_fpath, show_col_types = FALSE)\n",
    "    return(dat)\n",
    "})\n",
    "\n",
    "### assign and show\n",
    "lst_dat_region_score_import = lst\n",
    "\n",
    "res = lapply(lst, dim)\n",
    "print(res)\n",
    "\n",
    "dat = lst[[1]]\n",
    "head(dat, 3)"
   ]
  },
  {
   "cell_type": "markdown",
   "id": "d4f4e76c-000d-43d2-8058-5803c921eeaa",
   "metadata": {},
   "source": [
    "**Check: Assay count**"
   ]
  },
  {
   "cell_type": "code",
   "execution_count": 8,
   "id": "264e943b-e2b2-4fff-bd11-d0a925c61cd2",
   "metadata": {},
   "outputs": [
    {
     "data": {
      "text/html": [
       "<table>\n",
       " <thead>\n",
       "  <tr>\n",
       "   <th style=\"text-align:left;\"> Assay_Group </th>\n",
       "   <th style=\"text-align:left;\"> Assay_Label </th>\n",
       "   <th style=\"text-align:right;\"> fcc_astarr_macs_input_overlap </th>\n",
       "   <th style=\"text-align:right;\"> fcc_astarr_macs_input_union </th>\n",
       "  </tr>\n",
       " </thead>\n",
       "<tbody>\n",
       "  <tr>\n",
       "   <td style=\"text-align:left;\"> ASTARR_KS91 </td>\n",
       "   <td style=\"text-align:left;\"> ASTARR </td>\n",
       "   <td style=\"text-align:right;\"> 150040 </td>\n",
       "   <td style=\"text-align:right;\"> 246850 </td>\n",
       "  </tr>\n",
       "  <tr>\n",
       "   <td style=\"text-align:left;\"> CRISPRi-Growth </td>\n",
       "   <td style=\"text-align:left;\"> CRISPRi-Growth </td>\n",
       "   <td style=\"text-align:right;\"> 72743 </td>\n",
       "   <td style=\"text-align:right;\"> 80288 </td>\n",
       "  </tr>\n",
       "  <tr>\n",
       "   <td style=\"text-align:left;\"> CRISPRi-HCRFF </td>\n",
       "   <td style=\"text-align:left;\"> CRISPRi-HCRFF </td>\n",
       "   <td style=\"text-align:right;\"> 925 </td>\n",
       "   <td style=\"text-align:right;\"> 1330 </td>\n",
       "  </tr>\n",
       "  <tr>\n",
       "   <td style=\"text-align:left;\"> LMPRA </td>\n",
       "   <td style=\"text-align:left;\"> LMPRA </td>\n",
       "   <td style=\"text-align:right;\"> 61478 </td>\n",
       "   <td style=\"text-align:right;\"> 68497 </td>\n",
       "  </tr>\n",
       "  <tr>\n",
       "   <td style=\"text-align:left;\"> TMPRA </td>\n",
       "   <td style=\"text-align:left;\"> TMPRA </td>\n",
       "   <td style=\"text-align:right;\"> 1148 </td>\n",
       "   <td style=\"text-align:right;\"> 1722 </td>\n",
       "  </tr>\n",
       "  <tr>\n",
       "   <td style=\"text-align:left;\"> WSTARR </td>\n",
       "   <td style=\"text-align:left;\"> WSTARR </td>\n",
       "   <td style=\"text-align:right;\"> 146594 </td>\n",
       "   <td style=\"text-align:right;\"> 241031 </td>\n",
       "  </tr>\n",
       "</tbody>\n",
       "</table>"
      ]
     },
     "metadata": {},
     "output_type": "display_data"
    }
   ],
   "source": [
    "lst = lst_dat_region_score_import \n",
    "lst = lapply(lst, function(dat){\n",
    "    dat = dat %>% \n",
    "        dplyr::group_by(Assay_Group, Assay_Label) %>%\n",
    "        dplyr::summarise(Freq = n(), .groups = \"drop\")\n",
    "    return(dat)\n",
    "})\n",
    "\n",
    "dat = bind_rows(lst, .id = \"Folder\")\n",
    "dat = dat %>% tidyr::spread(Folder, Freq)\n",
    "fun_display_table(dat)"
   ]
  },
  {
   "cell_type": "markdown",
   "id": "65571afa-6478-447b-85f5-8d316f11f8f9",
   "metadata": {},
   "source": [
    "**Check: Missing values**"
   ]
  },
  {
   "cell_type": "code",
   "execution_count": 9,
   "id": "1af8223e-74bd-452c-8aaf-8ead840430d8",
   "metadata": {},
   "outputs": [
    {
     "name": "stdout",
     "output_type": "stream",
     "text": [
      "$fcc_astarr_macs_input_overlap\n",
      "[1] FALSE\n",
      "\n",
      "$fcc_astarr_macs_input_union\n",
      "[1] FALSE\n",
      "\n"
     ]
    }
   ],
   "source": [
    "lst = lst_dat_region_score_import \n",
    "lst = lapply(lst, function(dat){\n",
    "    tmp = any(is.na(dat))\n",
    "    return(tmp)\n",
    "})\n",
    "\n",
    "print(lst)"
   ]
  },
  {
   "cell_type": "markdown",
   "id": "1bde2e10-3e42-401d-98b4-556fc8ba1fdd",
   "metadata": {},
   "source": [
    "## Arrange region scores screened by all STARR/MRPA assays"
   ]
  },
  {
   "cell_type": "code",
   "execution_count": 10,
   "id": "b8acbfdb-c0a7-4468-8e40-e8ff5cd827b8",
   "metadata": {},
   "outputs": [
    {
     "name": "stdout",
     "output_type": "stream",
     "text": [
      "$fcc_astarr_macs_input_overlap\n",
      "[1] 844   8\n",
      "\n",
      "$fcc_astarr_macs_input_union\n",
      "[1] 1237    8\n",
      "\n"
     ]
    },
    {
     "data": {
      "text/html": [
       "<table class=\"dataframe\">\n",
       "<caption>A tibble: 3 × 8</caption>\n",
       "<thead>\n",
       "\t<tr><th scope=col>Chrom</th><th scope=col>ChromStart</th><th scope=col>ChromEnd</th><th scope=col>Region</th><th scope=col>ASTARR</th><th scope=col>LMPRA</th><th scope=col>TMPRA</th><th scope=col>WSTARR</th></tr>\n",
       "\t<tr><th scope=col>&lt;chr&gt;</th><th scope=col>&lt;dbl&gt;</th><th scope=col>&lt;dbl&gt;</th><th scope=col>&lt;chr&gt;</th><th scope=col>&lt;dbl&gt;</th><th scope=col>&lt;dbl&gt;</th><th scope=col>&lt;dbl&gt;</th><th scope=col>&lt;dbl&gt;</th></tr>\n",
       "</thead>\n",
       "<tbody>\n",
       "\t<tr><td>chr11</td><td>4551522</td><td>4551988</td><td>chr11:4551522-4551988</td><td>0.34155069</td><td>0.25393839</td><td>-0.1224555</td><td>-0.1099597</td></tr>\n",
       "\t<tr><td>chr11</td><td>4554256</td><td>4554817</td><td>chr11:4554256-4554817</td><td>0.07952676</td><td>4.75955152</td><td> 2.3306759</td><td> 0.3780454</td></tr>\n",
       "\t<tr><td>chr11</td><td>4607720</td><td>4608631</td><td>chr11:4607720-4608631</td><td>0.47689108</td><td>0.01794737</td><td> 2.0463150</td><td> 0.2192692</td></tr>\n",
       "</tbody>\n",
       "</table>\n"
      ],
      "text/latex": [
       "A tibble: 3 × 8\n",
       "\\begin{tabular}{llllllll}\n",
       " Chrom & ChromStart & ChromEnd & Region & ASTARR & LMPRA & TMPRA & WSTARR\\\\\n",
       " <chr> & <dbl> & <dbl> & <chr> & <dbl> & <dbl> & <dbl> & <dbl>\\\\\n",
       "\\hline\n",
       "\t chr11 & 4551522 & 4551988 & chr11:4551522-4551988 & 0.34155069 & 0.25393839 & -0.1224555 & -0.1099597\\\\\n",
       "\t chr11 & 4554256 & 4554817 & chr11:4554256-4554817 & 0.07952676 & 4.75955152 &  2.3306759 &  0.3780454\\\\\n",
       "\t chr11 & 4607720 & 4608631 & chr11:4607720-4608631 & 0.47689108 & 0.01794737 &  2.0463150 &  0.2192692\\\\\n",
       "\\end{tabular}\n"
      ],
      "text/markdown": [
       "\n",
       "A tibble: 3 × 8\n",
       "\n",
       "| Chrom &lt;chr&gt; | ChromStart &lt;dbl&gt; | ChromEnd &lt;dbl&gt; | Region &lt;chr&gt; | ASTARR &lt;dbl&gt; | LMPRA &lt;dbl&gt; | TMPRA &lt;dbl&gt; | WSTARR &lt;dbl&gt; |\n",
       "|---|---|---|---|---|---|---|---|\n",
       "| chr11 | 4551522 | 4551988 | chr11:4551522-4551988 | 0.34155069 | 0.25393839 | -0.1224555 | -0.1099597 |\n",
       "| chr11 | 4554256 | 4554817 | chr11:4554256-4554817 | 0.07952676 | 4.75955152 |  2.3306759 |  0.3780454 |\n",
       "| chr11 | 4607720 | 4608631 | chr11:4607720-4608631 | 0.47689108 | 0.01794737 |  2.0463150 |  0.2192692 |\n",
       "\n"
      ],
      "text/plain": [
       "  Chrom ChromStart ChromEnd Region                ASTARR     LMPRA     \n",
       "1 chr11 4551522    4551988  chr11:4551522-4551988 0.34155069 0.25393839\n",
       "2 chr11 4554256    4554817  chr11:4554256-4554817 0.07952676 4.75955152\n",
       "3 chr11 4607720    4608631  chr11:4607720-4608631 0.47689108 0.01794737\n",
       "  TMPRA      WSTARR    \n",
       "1 -0.1224555 -0.1099597\n",
       "2  2.3306759  0.3780454\n",
       "3  2.0463150  0.2192692"
      ]
     },
     "metadata": {},
     "output_type": "display_data"
    }
   ],
   "source": [
    "lst = lst_dat_region_score_import\n",
    "lst = lapply(lst, function(dat){\n",
    "    ### get reporter assays\n",
    "    vec = c(\"ASTARR\", \"WSTARR\", \"LMPRA\", \"TMPRA\")\n",
    "    dat = dat %>% \n",
    "        dplyr::mutate(Assay = Assay_Label) %>% \n",
    "        dplyr::filter(Assay %in% vec) %>% \n",
    "        dplyr::select(Chrom, ChromStart, ChromEnd, Region, Assay, Score)\n",
    "\n",
    "    ### get regions screened by all assays\n",
    "    dat = dat %>% tidyr::spread(Assay, Score) %>% na.omit\n",
    "    return(dat)\n",
    "})\n",
    "\n",
    "### assign and show\n",
    "lst_dat_region_score_arrange = lst\n",
    "\n",
    "res = lapply(lst, dim)\n",
    "print(res)\n",
    "\n",
    "dat = lst[[1]]\n",
    "head(dat, 3)"
   ]
  },
  {
   "cell_type": "markdown",
   "id": "9e6d9f9a-5f17-497d-afb2-5500b6cfa2a1",
   "metadata": {},
   "source": [
    "## Rank normalized scores"
   ]
  },
  {
   "cell_type": "markdown",
   "id": "8140a0e2-622a-48c5-b70c-5746780b779c",
   "metadata": {},
   "source": [
    "$$\\text{RankNorm}(x_i) = \\frac{\\text{rank}(x_i)−1}{n−1}$$"
   ]
  },
  {
   "cell_type": "markdown",
   "id": "5b3f6e56-3cd8-494e-b99f-e1a590cad42a",
   "metadata": {},
   "source": [
    "**Helper function**"
   ]
  },
  {
   "cell_type": "code",
   "execution_count": 13,
   "id": "fc32c4c1-014c-4854-82ac-042cb1fbb7fb",
   "metadata": {},
   "outputs": [
    {
     "name": "stdout",
     "output_type": "stream",
     "text": [
      "[1] 1 4 3 2\n"
     ]
    }
   ],
   "source": [
    "x = c(1, 10, 5, 3)\n",
    "r = rank(x)\n",
    "print(r)"
   ]
  },
  {
   "cell_type": "markdown",
   "id": "bd6ad796-c7e2-4f2c-9956-beb279350fef",
   "metadata": {},
   "source": [
    "```\n",
    "fun_ranknorm = function(x){\n",
    "    r = rank(x, ties.method = \"average\") - 1\n",
    "    n = (length(x) - 1)\n",
    "    return(r / n)\n",
    "}\n",
    "```"
   ]
  },
  {
   "cell_type": "code",
   "execution_count": 16,
   "id": "027bcf3d-26b6-4cad-909b-9083f4473d1e",
   "metadata": {},
   "outputs": [],
   "source": [
    "fun_ranknorm = function(x) {\n",
    "    ### Remove NA values for ranking\n",
    "    r = rank(x, na.last = \"keep\", ties.method = \"average\")\n",
    "    n = sum(!is.na(x)) \n",
    "\n",
    "    ### return rank-normalized scores; return NAs if no value\n",
    "    if (n <= 0) return(rep(NA, length(x)))\n",
    "    return((r - 1) / (n - 1))\n",
    "}"
   ]
  },
  {
   "cell_type": "markdown",
   "id": "0b766186-ad27-49e3-b33a-e55930e6d014",
   "metadata": {},
   "source": [
    "**Rank normalize**"
   ]
  },
  {
   "cell_type": "code",
   "execution_count": 17,
   "id": "6a7cc5a0-e5aa-4771-9e40-802e9b92c58c",
   "metadata": {},
   "outputs": [
    {
     "name": "stdout",
     "output_type": "stream",
     "text": [
      "$fcc_astarr_macs_input_overlap\n",
      "[1] 3376    8\n",
      "\n",
      "$fcc_astarr_macs_input_union\n",
      "[1] 4948    8\n",
      "\n"
     ]
    },
    {
     "data": {
      "text/html": [
       "<table class=\"dataframe\">\n",
       "<caption>A tibble: 3 × 8</caption>\n",
       "<thead>\n",
       "\t<tr><th scope=col>Chrom</th><th scope=col>ChromStart</th><th scope=col>ChromEnd</th><th scope=col>Region</th><th scope=col>Assay</th><th scope=col>Score</th><th scope=col>RankNorm</th><th scope=col>Mean</th></tr>\n",
       "\t<tr><th scope=col>&lt;chr&gt;</th><th scope=col>&lt;dbl&gt;</th><th scope=col>&lt;dbl&gt;</th><th scope=col>&lt;chr&gt;</th><th scope=col>&lt;chr&gt;</th><th scope=col>&lt;dbl&gt;</th><th scope=col>&lt;dbl&gt;</th><th scope=col>&lt;dbl&gt;</th></tr>\n",
       "</thead>\n",
       "<tbody>\n",
       "\t<tr><td>chr11</td><td>4551522</td><td>4551988</td><td>chr11:4551522-4551988</td><td>ASTARR</td><td>0.34155069</td><td>0.7425860</td><td>0.4848754</td></tr>\n",
       "\t<tr><td>chr11</td><td>4554256</td><td>4554817</td><td>chr11:4554256-4554817</td><td>ASTARR</td><td>0.07952676</td><td>0.5871886</td><td>0.8161329</td></tr>\n",
       "\t<tr><td>chr11</td><td>4607720</td><td>4608631</td><td>chr11:4607720-4608631</td><td>ASTARR</td><td>0.47689108</td><td>0.8007117</td><td>0.6684460</td></tr>\n",
       "</tbody>\n",
       "</table>\n"
      ],
      "text/latex": [
       "A tibble: 3 × 8\n",
       "\\begin{tabular}{llllllll}\n",
       " Chrom & ChromStart & ChromEnd & Region & Assay & Score & RankNorm & Mean\\\\\n",
       " <chr> & <dbl> & <dbl> & <chr> & <chr> & <dbl> & <dbl> & <dbl>\\\\\n",
       "\\hline\n",
       "\t chr11 & 4551522 & 4551988 & chr11:4551522-4551988 & ASTARR & 0.34155069 & 0.7425860 & 0.4848754\\\\\n",
       "\t chr11 & 4554256 & 4554817 & chr11:4554256-4554817 & ASTARR & 0.07952676 & 0.5871886 & 0.8161329\\\\\n",
       "\t chr11 & 4607720 & 4608631 & chr11:4607720-4608631 & ASTARR & 0.47689108 & 0.8007117 & 0.6684460\\\\\n",
       "\\end{tabular}\n"
      ],
      "text/markdown": [
       "\n",
       "A tibble: 3 × 8\n",
       "\n",
       "| Chrom &lt;chr&gt; | ChromStart &lt;dbl&gt; | ChromEnd &lt;dbl&gt; | Region &lt;chr&gt; | Assay &lt;chr&gt; | Score &lt;dbl&gt; | RankNorm &lt;dbl&gt; | Mean &lt;dbl&gt; |\n",
       "|---|---|---|---|---|---|---|---|\n",
       "| chr11 | 4551522 | 4551988 | chr11:4551522-4551988 | ASTARR | 0.34155069 | 0.7425860 | 0.4848754 |\n",
       "| chr11 | 4554256 | 4554817 | chr11:4554256-4554817 | ASTARR | 0.07952676 | 0.5871886 | 0.8161329 |\n",
       "| chr11 | 4607720 | 4608631 | chr11:4607720-4608631 | ASTARR | 0.47689108 | 0.8007117 | 0.6684460 |\n",
       "\n"
      ],
      "text/plain": [
       "  Chrom ChromStart ChromEnd Region                Assay  Score      RankNorm \n",
       "1 chr11 4551522    4551988  chr11:4551522-4551988 ASTARR 0.34155069 0.7425860\n",
       "2 chr11 4554256    4554817  chr11:4554256-4554817 ASTARR 0.07952676 0.5871886\n",
       "3 chr11 4607720    4608631  chr11:4607720-4608631 ASTARR 0.47689108 0.8007117\n",
       "  Mean     \n",
       "1 0.4848754\n",
       "2 0.8161329\n",
       "3 0.6684460"
      ]
     },
     "metadata": {},
     "output_type": "display_data"
    }
   ],
   "source": [
    "lst = lst_dat_region_score_arrange\n",
    "lst = lapply(lst, function(dat){\n",
    "    ### convert wide matrix to long format\n",
    "    dat = dat %>% tidyr::gather(Assay, Score, -Chrom, -ChromStart, -ChromEnd, -Region)\n",
    "\n",
    "    ### rank normalized region scores by assay\n",
    "    dat = dat %>%\n",
    "        dplyr::group_by(Assay) %>%\n",
    "        dplyr::mutate(RankNorm = fun_ranknorm(Score)) %>%\n",
    "        dplyr::ungroup()\n",
    "\n",
    "    ### calculate mean of rank nomrlized scores\n",
    "    dat = dat %>%\n",
    "        dplyr::group_by(Chrom, ChromStart, ChromEnd, Region) %>%\n",
    "        dplyr::mutate(Mean = mean(RankNorm)) %>%\n",
    "        dplyr::ungroup()\n",
    "    \n",
    "    return(dat)\n",
    "})\n",
    "\n",
    "### assign and show\n",
    "lst_dat_region_score_ranknorm = lst\n",
    "\n",
    "res = lapply(lst, dim)\n",
    "print(res)\n",
    "\n",
    "dat = lst[[1]]\n",
    "head(dat, 3)"
   ]
  },
  {
   "cell_type": "markdown",
   "id": "96d1a13f-0be7-47dc-b072-111e8d664d53",
   "metadata": {},
   "source": [
    "**Check: Assay count**"
   ]
  },
  {
   "cell_type": "code",
   "execution_count": 18,
   "id": "6a5f0244-a5e1-4bea-b065-841bc206befb",
   "metadata": {},
   "outputs": [
    {
     "data": {
      "text/html": [
       "<table>\n",
       " <thead>\n",
       "  <tr>\n",
       "   <th style=\"text-align:left;\"> Assay </th>\n",
       "   <th style=\"text-align:right;\"> fcc_astarr_macs_input_overlap </th>\n",
       "   <th style=\"text-align:right;\"> fcc_astarr_macs_input_union </th>\n",
       "  </tr>\n",
       " </thead>\n",
       "<tbody>\n",
       "  <tr>\n",
       "   <td style=\"text-align:left;\"> ASTARR </td>\n",
       "   <td style=\"text-align:right;\"> 844 </td>\n",
       "   <td style=\"text-align:right;\"> 1237 </td>\n",
       "  </tr>\n",
       "  <tr>\n",
       "   <td style=\"text-align:left;\"> LMPRA </td>\n",
       "   <td style=\"text-align:right;\"> 844 </td>\n",
       "   <td style=\"text-align:right;\"> 1237 </td>\n",
       "  </tr>\n",
       "  <tr>\n",
       "   <td style=\"text-align:left;\"> TMPRA </td>\n",
       "   <td style=\"text-align:right;\"> 844 </td>\n",
       "   <td style=\"text-align:right;\"> 1237 </td>\n",
       "  </tr>\n",
       "  <tr>\n",
       "   <td style=\"text-align:left;\"> WSTARR </td>\n",
       "   <td style=\"text-align:right;\"> 844 </td>\n",
       "   <td style=\"text-align:right;\"> 1237 </td>\n",
       "  </tr>\n",
       "</tbody>\n",
       "</table>"
      ]
     },
     "metadata": {},
     "output_type": "display_data"
    }
   ],
   "source": [
    "lst = lst_dat_region_score_ranknorm\n",
    "lst = lapply(lst, function(dat){\n",
    "    dat = dat %>% \n",
    "        dplyr::group_by(Assay) %>%\n",
    "        dplyr::summarise(Freq = n(), .groups = \"drop\")\n",
    "    return(dat)\n",
    "})\n",
    "\n",
    "dat = bind_rows(lst, .id = \"Folder\")\n",
    "dat = dat %>% tidyr::spread(Folder, Freq)\n",
    "fun_display_table(dat)"
   ]
  },
  {
   "cell_type": "markdown",
   "id": "f26f26f3-b443-4c36-821d-b36c3eb8fb58",
   "metadata": {},
   "source": [
    "**Check: Region count**"
   ]
  },
  {
   "cell_type": "code",
   "execution_count": 19,
   "id": "da7250c3-176f-4344-a5f3-3d44535c8e5f",
   "metadata": {},
   "outputs": [
    {
     "name": "stdout",
     "output_type": "stream",
     "text": [
      "$fcc_astarr_macs_input_overlap\n",
      "[1] 844\n",
      "\n",
      "$fcc_astarr_macs_input_union\n",
      "[1] 1237\n",
      "\n"
     ]
    }
   ],
   "source": [
    "lst = lst_dat_region_score_ranknorm\n",
    "lst = lapply(lst, function(dat){\n",
    "    dat = dat %>% \n",
    "        dplyr::select(Region, Mean) %>%\n",
    "        dplyr::distinct()\n",
    "    num = nrow(dat)\n",
    "    return(num)\n",
    "})\n",
    "\n",
    "print(lst)"
   ]
  },
  {
   "cell_type": "markdown",
   "id": "912d5d12-6228-4548-b190-d113aa396f78",
   "metadata": {},
   "source": [
    "## Export results"
   ]
  },
  {
   "cell_type": "code",
   "execution_count": 20,
   "id": "27fa92d9-4b03-4359-92b9-aaf0cbf73bb7",
   "metadata": {},
   "outputs": [],
   "source": [
    "for (txt_folder in VEC_TXT_FOLDER){\n",
    "    ### get tables\n",
    "    dat_region_score = lst_dat_region_score_ranknorm[[txt_folder]]\n",
    "    \n",
    "    ### set file directory\n",
    "    txt_fdiry  = file.path(FD_RES, \"analysis_fcc_correlation\", txt_folder)\n",
    "    \n",
    "    ### write table\n",
    "    txt_fname = \"region.coverage.ranknorm.overlap.starrmpra.tsv\"\n",
    "    txt_fpath = file.path(txt_fdiry, txt_fname)\n",
    "    \n",
    "    dat = dat_region_score\n",
    "    write_tsv(dat, txt_fpath)\n",
    "}"
   ]
  },
  {
   "cell_type": "code",
   "execution_count": null,
   "id": "051626a7-e2c4-40c1-b44b-ae26981f8cd3",
   "metadata": {},
   "outputs": [],
   "source": []
  }
 ],
 "metadata": {
  "kernelspec": {
   "display_name": "R",
   "language": "R",
   "name": "ir"
  },
  "language_info": {
   "codemirror_mode": "r",
   "file_extension": ".r",
   "mimetype": "text/x-r-source",
   "name": "R",
   "pygments_lexer": "r",
   "version": "4.5.1"
  }
 },
 "nbformat": 4,
 "nbformat_minor": 5
}
