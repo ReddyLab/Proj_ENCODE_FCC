{
 "cells": [
  {
   "cell_type": "raw",
   "id": "dac68edf-b44a-4e59-a9a8-d714152b0f2f",
   "metadata": {},
   "source": [
    "---\n",
    "title: ...\n",
    "subtitle: combine ATAC, setup total, final, and share verion of table\n",
    "format:\n",
    "    html:\n",
    "        code-fold:  true\n",
    "        code-tools: true\n",
    "---"
   ]
  },
  {
   "cell_type": "markdown",
   "id": "4a8dba6b-c639-4f39-b364-e1a90c28ad71",
   "metadata": {},
   "source": [
    "**Set environment**"
   ]
  },
  {
   "cell_type": "code",
   "execution_count": 2,
   "id": "ef537595-06de-4a27-8df7-1ffe0aa8c081",
   "metadata": {},
   "outputs": [
    {
     "name": "stdout",
     "output_type": "stream",
     "text": [
      "You are working on        Singularity: singularity_proj_encode_fcc \n",
      "BASE DIRECTORY (FD_BASE): /data/reddylab/Kuei \n",
      "REPO DIRECTORY (FD_REPO): /data/reddylab/Kuei/repo \n",
      "WORK DIRECTORY (FD_WORK): /data/reddylab/Kuei/work \n",
      "DATA DIRECTORY (FD_DATA): /data/reddylab/Kuei/data \n",
      "\n",
      "You are working with      ENCODE FCC \n",
      "PATH OF PROJECT (FD_PRJ): /data/reddylab/Kuei/repo/Proj_ENCODE_FCC \n",
      "PROJECT RESULTS (FD_RES): /data/reddylab/Kuei/repo/Proj_ENCODE_FCC/results \n",
      "PROJECT SCRIPTS (FD_EXE): /data/reddylab/Kuei/repo/Proj_ENCODE_FCC/scripts \n",
      "PROJECT DATA    (FD_DAT): /data/reddylab/Kuei/repo/Proj_ENCODE_FCC/data \n",
      "PROJECT NOTE    (FD_NBK): /data/reddylab/Kuei/repo/Proj_ENCODE_FCC/notebooks \n",
      "PROJECT DOCS    (FD_DOC): /data/reddylab/Kuei/repo/Proj_ENCODE_FCC/docs \n",
      "PROJECT LOG     (FD_LOG): /data/reddylab/Kuei/repo/Proj_ENCODE_FCC/log \n",
      "PROJECT REF     (FD_REF): /data/reddylab/Kuei/repo/Proj_ENCODE_FCC/references \n",
      "\n"
     ]
    }
   ],
   "source": [
    "suppressMessages(suppressWarnings(source(\"../run_config_project_sing.R\")))\n",
    "show_env()"
   ]
  },
  {
   "cell_type": "markdown",
   "id": "0f61b72f-3cb9-4b9b-8620-5e5b46bfe1b2",
   "metadata": {},
   "source": [
    "**Check: region directory**"
   ]
  },
  {
   "cell_type": "code",
   "execution_count": 3,
   "id": "68f5d75f-ada3-400d-8a12-f67c8b64ac3b",
   "metadata": {},
   "outputs": [
    {
     "name": "stdout",
     "output_type": "stream",
     "text": [
      "atac_ENCFF333TAT \n",
      "atac_ENCFF558BLC \n",
      "atac_ENCFF925CYR \n",
      "atac_ENCFF948AFM \n",
      "dnase_ENCFF185XRG \n",
      "dnase_ENCFF274YGF \n",
      "fcc_astarr_macs_input_overlap \n",
      "fcc_astarr_macs_input_union \n"
     ]
    }
   ],
   "source": [
    "txt_fdiry = file.path(FD_RES, \"region_coverage_fcc_score\")\n",
    "\n",
    "vec = dir(txt_fdiry)\n",
    "for (txt in vec){cat(txt, \"\\n\")}"
   ]
  },
  {
   "cell_type": "markdown",
   "id": "ef811aaf-d301-408d-95bc-9f86b061245a",
   "metadata": {},
   "source": [
    "**Check: assay directory**"
   ]
  },
  {
   "cell_type": "code",
   "execution_count": 4,
   "id": "7a027aae-5928-4ef7-a8f1-4b36aa36411a",
   "metadata": {},
   "outputs": [
    {
     "name": "stdout",
     "output_type": "stream",
     "text": [
      "CRISPRi_FlowFISH_K562_Riley_JinWoo \n",
      "CRISPRi_Growth_K562_Gersbach_JinWoo \n",
      "MPRA_Lenti_K562_Nadav_Vikram \n",
      "MPRA_Tiling_K562_Tewhey_Hannah \n",
      "STARR_ATAC_K562_Reddy_KS274 \n",
      "STARR_ATAC_K562_Reddy_KS91 \n",
      "STARR_ATAC_K562_Reddy_KSMerge \n",
      "STARR_WHG_K562_Reddy_A001 \n",
      "summary \n"
     ]
    }
   ],
   "source": [
    "txt_region = \"fcc_astarr_macs_input_union\"\n",
    "txt_fdiry  = file.path(FD_RES, \"region_coverage_fcc_score\", txt_region)\n",
    "vec = dir(txt_fdiry)\n",
    "for (txt in vec) {cat(txt, \"\\n\")}"
   ]
  },
  {
   "cell_type": "markdown",
   "id": "05325da9-c75b-4b3d-babc-39a7941b291e",
   "metadata": {},
   "source": [
    "**Set global variable**"
   ]
  },
  {
   "cell_type": "code",
   "execution_count": 5,
   "id": "b63f76ad-c33b-4bdb-9d65-c5005bc6e5d8",
   "metadata": {},
   "outputs": [
    {
     "name": "stdout",
     "output_type": "stream",
     "text": [
      "fcc_astarr_macs_input_overlap \n",
      "fcc_astarr_macs_input_union \n"
     ]
    }
   ],
   "source": [
    "## init: region folder\n",
    "vec = c(\"fcc_astarr_macs_input_overlap\", \"fcc_astarr_macs_input_union\")\n",
    "names(vec) = vec\n",
    "\n",
    "VEC_TXT_FOLDER = vec\n",
    "for (txt in vec) {cat(txt, \"\\n\")}"
   ]
  },
  {
   "cell_type": "code",
   "execution_count": 6,
   "id": "f3ac6efd-6127-4e17-92b2-b593e94d0927",
   "metadata": {},
   "outputs": [],
   "source": [
    "vec = c(\"CRISPRi-HCRFF\", \"CRISPRi-Growth\", \"ENCODE-rE2G Benchmark\")\n",
    "names(vec) = vec\n",
    "VEC_TXT_ASSAY_OUT = vec\n",
    "\n",
    "vec = c(\"ASTARR\", \"WSTARR\", \"LMPRA\", \"TMPRA\", \"ATAC\")\n",
    "names(vec) = vec\n",
    "VEC_TXT_ASSAY_INP = vec"
   ]
  },
  {
   "cell_type": "markdown",
   "id": "3037d4a8-d94c-43e7-9741-ae867f0a5f6c",
   "metadata": {},
   "source": [
    "**Check input files**"
   ]
  },
  {
   "cell_type": "code",
   "execution_count": 7,
   "id": "19af5ebd-a4d3-4d79-af6d-18b13d0cb8ca",
   "metadata": {},
   "outputs": [
    {
     "name": "stdout",
     "output_type": "stream",
     "text": [
      "/data/reddylab/Kuei/repo/Proj_ENCODE_FCC/results/analysis_fcc_correlation/fcc_astarr_macs_input_overlap/region.coverage.score.concat.tsv \n"
     ]
    }
   ],
   "source": [
    "txt_folder = VEC_TXT_FOLDER[1]\n",
    "txt_fdiry  = file.path(FD_RES, \"analysis_fcc_correlation\", txt_folder)\n",
    "txt_fname  = \"region.coverage.score.*.tsv\"\n",
    "txt_fglob  = file.path(txt_fdiry, txt_fname)\n",
    "\n",
    "vec = Sys.glob(txt_fglob)\n",
    "for (txt in vec) {cat(txt, \"\\n\")}"
   ]
  },
  {
   "cell_type": "markdown",
   "id": "cb3c5a4a-8126-43b5-a8ec-9693720a80fd",
   "metadata": {},
   "source": [
    "## Import data"
   ]
  },
  {
   "cell_type": "code",
   "execution_count": 8,
   "id": "2df1b497-c661-45a4-ae6c-53e3f463742c",
   "metadata": {},
   "outputs": [
    {
     "name": "stdout",
     "output_type": "stream",
     "text": [
      "$fcc_astarr_macs_input_overlap\n",
      "[1] 586004      8\n",
      "\n",
      "$fcc_astarr_macs_input_union\n",
      "[1] 889739      8\n",
      "\n"
     ]
    },
    {
     "data": {
      "text/html": [
       "<table class=\"dataframe\">\n",
       "<caption>A tibble: 3 × 8</caption>\n",
       "<thead>\n",
       "\t<tr><th scope=col>Chrom</th><th scope=col>ChromStart</th><th scope=col>ChromEnd</th><th scope=col>Region</th><th scope=col>Score</th><th scope=col>Score_Label</th><th scope=col>Assay_Group</th><th scope=col>Assay_Label</th></tr>\n",
       "\t<tr><th scope=col>&lt;chr&gt;</th><th scope=col>&lt;dbl&gt;</th><th scope=col>&lt;dbl&gt;</th><th scope=col>&lt;chr&gt;</th><th scope=col>&lt;dbl&gt;</th><th scope=col>&lt;chr&gt;</th><th scope=col>&lt;chr&gt;</th><th scope=col>&lt;chr&gt;</th></tr>\n",
       "</thead>\n",
       "<tbody>\n",
       "\t<tr><td>chr1</td><td>10038</td><td>10405</td><td>chr1:10038-10405</td><td>-3.5573621</td><td>Scale(Log2FC)</td><td>ASTARR_KS91</td><td>ASTARR</td></tr>\n",
       "\t<tr><td>chr1</td><td>14282</td><td>14614</td><td>chr1:14282-14614</td><td> 0.0361388</td><td>Scale(Log2FC)</td><td>ASTARR_KS91</td><td>ASTARR</td></tr>\n",
       "\t<tr><td>chr1</td><td>16025</td><td>16338</td><td>chr1:16025-16338</td><td>-2.1376311</td><td>Scale(Log2FC)</td><td>ASTARR_KS91</td><td>ASTARR</td></tr>\n",
       "</tbody>\n",
       "</table>\n"
      ],
      "text/latex": [
       "A tibble: 3 × 8\n",
       "\\begin{tabular}{llllllll}\n",
       " Chrom & ChromStart & ChromEnd & Region & Score & Score\\_Label & Assay\\_Group & Assay\\_Label\\\\\n",
       " <chr> & <dbl> & <dbl> & <chr> & <dbl> & <chr> & <chr> & <chr>\\\\\n",
       "\\hline\n",
       "\t chr1 & 10038 & 10405 & chr1:10038-10405 & -3.5573621 & Scale(Log2FC) & ASTARR\\_KS91 & ASTARR\\\\\n",
       "\t chr1 & 14282 & 14614 & chr1:14282-14614 &  0.0361388 & Scale(Log2FC) & ASTARR\\_KS91 & ASTARR\\\\\n",
       "\t chr1 & 16025 & 16338 & chr1:16025-16338 & -2.1376311 & Scale(Log2FC) & ASTARR\\_KS91 & ASTARR\\\\\n",
       "\\end{tabular}\n"
      ],
      "text/markdown": [
       "\n",
       "A tibble: 3 × 8\n",
       "\n",
       "| Chrom &lt;chr&gt; | ChromStart &lt;dbl&gt; | ChromEnd &lt;dbl&gt; | Region &lt;chr&gt; | Score &lt;dbl&gt; | Score_Label &lt;chr&gt; | Assay_Group &lt;chr&gt; | Assay_Label &lt;chr&gt; |\n",
       "|---|---|---|---|---|---|---|---|\n",
       "| chr1 | 10038 | 10405 | chr1:10038-10405 | -3.5573621 | Scale(Log2FC) | ASTARR_KS91 | ASTARR |\n",
       "| chr1 | 14282 | 14614 | chr1:14282-14614 |  0.0361388 | Scale(Log2FC) | ASTARR_KS91 | ASTARR |\n",
       "| chr1 | 16025 | 16338 | chr1:16025-16338 | -2.1376311 | Scale(Log2FC) | ASTARR_KS91 | ASTARR |\n",
       "\n"
      ],
      "text/plain": [
       "  Chrom ChromStart ChromEnd Region           Score      Score_Label  \n",
       "1 chr1  10038      10405    chr1:10038-10405 -3.5573621 Scale(Log2FC)\n",
       "2 chr1  14282      14614    chr1:14282-14614  0.0361388 Scale(Log2FC)\n",
       "3 chr1  16025      16338    chr1:16025-16338 -2.1376311 Scale(Log2FC)\n",
       "  Assay_Group Assay_Label\n",
       "1 ASTARR_KS91 ASTARR     \n",
       "2 ASTARR_KS91 ASTARR     \n",
       "3 ASTARR_KS91 ASTARR     "
      ]
     },
     "metadata": {},
     "output_type": "display_data"
    }
   ],
   "source": [
    "lst = lapply(VEC_TXT_FOLDER, function(txt_folder){\n",
    "    ### set file directory\n",
    "    txt_fdiry  = file.path(FD_RES, \"analysis_fcc_correlation\", txt_folder)\n",
    "    txt_fname = \"region.coverage.score.concat.tsv\"\n",
    "    txt_fpath = file.path(txt_fdiry, txt_fname)\n",
    "\n",
    "    ### read table\n",
    "    dat = read_tsv(txt_fpath, show_col_types = FALSE)\n",
    "    return(dat)\n",
    "})\n",
    "\n",
    "### assign and show\n",
    "lst_dat_region_score_import = lst\n",
    "\n",
    "res = lapply(lst, dim)\n",
    "print(res)\n",
    "\n",
    "dat = lst[[1]]\n",
    "head(dat, 3)"
   ]
  },
  {
   "cell_type": "markdown",
   "id": "b2347385-a445-4345-8122-0df278aa2e1b",
   "metadata": {},
   "source": [
    "**Check: Assay count**"
   ]
  },
  {
   "cell_type": "code",
   "execution_count": 9,
   "id": "a8243a34-6d6e-4931-8dba-c510e0583696",
   "metadata": {},
   "outputs": [
    {
     "data": {
      "text/html": [
       "<table>\n",
       " <thead>\n",
       "  <tr>\n",
       "   <th style=\"text-align:left;\"> Assay_Group </th>\n",
       "   <th style=\"text-align:left;\"> Assay_Label </th>\n",
       "   <th style=\"text-align:right;\"> fcc_astarr_macs_input_overlap </th>\n",
       "   <th style=\"text-align:right;\"> fcc_astarr_macs_input_union </th>\n",
       "  </tr>\n",
       " </thead>\n",
       "<tbody>\n",
       "  <tr>\n",
       "   <td style=\"text-align:left;\"> ASTARR_KS91 </td>\n",
       "   <td style=\"text-align:left;\"> ASTARR </td>\n",
       "   <td style=\"text-align:right;\"> 150040 </td>\n",
       "   <td style=\"text-align:right;\"> 246850 </td>\n",
       "  </tr>\n",
       "  <tr>\n",
       "   <td style=\"text-align:left;\"> ASTARR_KS91 </td>\n",
       "   <td style=\"text-align:left;\"> ATAC </td>\n",
       "   <td style=\"text-align:right;\"> 150041 </td>\n",
       "   <td style=\"text-align:right;\"> 246852 </td>\n",
       "  </tr>\n",
       "  <tr>\n",
       "   <td style=\"text-align:left;\"> CRISPRi-Growth </td>\n",
       "   <td style=\"text-align:left;\"> CRISPRi-Growth </td>\n",
       "   <td style=\"text-align:right;\"> 72743 </td>\n",
       "   <td style=\"text-align:right;\"> 80288 </td>\n",
       "  </tr>\n",
       "  <tr>\n",
       "   <td style=\"text-align:left;\"> CRISPRi-HCRFF </td>\n",
       "   <td style=\"text-align:left;\"> CRISPRi-HCRFF </td>\n",
       "   <td style=\"text-align:right;\"> 925 </td>\n",
       "   <td style=\"text-align:right;\"> 1330 </td>\n",
       "  </tr>\n",
       "  <tr>\n",
       "   <td style=\"text-align:left;\"> ENCODE-rE2G </td>\n",
       "   <td style=\"text-align:left;\"> ENCODE-rE2G Benchmark </td>\n",
       "   <td style=\"text-align:right;\"> 3035 </td>\n",
       "   <td style=\"text-align:right;\"> 3169 </td>\n",
       "  </tr>\n",
       "  <tr>\n",
       "   <td style=\"text-align:left;\"> LMPRA </td>\n",
       "   <td style=\"text-align:left;\"> LMPRA </td>\n",
       "   <td style=\"text-align:right;\"> 61478 </td>\n",
       "   <td style=\"text-align:right;\"> 68497 </td>\n",
       "  </tr>\n",
       "  <tr>\n",
       "   <td style=\"text-align:left;\"> TMPRA </td>\n",
       "   <td style=\"text-align:left;\"> TMPRA </td>\n",
       "   <td style=\"text-align:right;\"> 1148 </td>\n",
       "   <td style=\"text-align:right;\"> 1722 </td>\n",
       "  </tr>\n",
       "  <tr>\n",
       "   <td style=\"text-align:left;\"> WSTARR </td>\n",
       "   <td style=\"text-align:left;\"> WSTARR </td>\n",
       "   <td style=\"text-align:right;\"> 146594 </td>\n",
       "   <td style=\"text-align:right;\"> 241031 </td>\n",
       "  </tr>\n",
       "</tbody>\n",
       "</table>"
      ]
     },
     "metadata": {},
     "output_type": "display_data"
    }
   ],
   "source": [
    "lst = lst_dat_region_score_import\n",
    "lst = lapply(lst, function(dat){\n",
    "    dat = dat %>% \n",
    "        dplyr::group_by(Assay_Group, Assay_Label) %>%\n",
    "        dplyr::summarise(Freq = n(), .groups = \"drop\")\n",
    "    return(dat)\n",
    "})\n",
    "\n",
    "dat = bind_rows(lst, .id = \"Folder\")\n",
    "dat = dat %>% tidyr::spread(Folder, Freq)\n",
    "fun_display_table(dat)"
   ]
  },
  {
   "cell_type": "markdown",
   "id": "0cee5cf3-64b0-4059-a851-535bcf7a933e",
   "metadata": {},
   "source": [
    "**Check: Missing values**"
   ]
  },
  {
   "cell_type": "code",
   "execution_count": 10,
   "id": "aad5c739-cd7a-417a-ada2-b27378afd501",
   "metadata": {},
   "outputs": [
    {
     "name": "stdout",
     "output_type": "stream",
     "text": [
      "$fcc_astarr_macs_input_overlap\n",
      "[1] FALSE\n",
      "\n",
      "$fcc_astarr_macs_input_union\n",
      "[1] FALSE\n",
      "\n"
     ]
    }
   ],
   "source": [
    "lst = lst_dat_region_score_import\n",
    "lst = lapply(lst, function(dat){\n",
    "    tmp = any(is.na(dat))\n",
    "    return(tmp)\n",
    "})\n",
    "\n",
    "print(lst)"
   ]
  },
  {
   "cell_type": "markdown",
   "id": "cbf15823-e620-4ae0-bf16-1a14d5148a47",
   "metadata": {},
   "source": [
    "## Arrange table"
   ]
  },
  {
   "cell_type": "code",
   "execution_count": 11,
   "id": "8b13b929-042a-4baa-b6b0-6ef4a1b5a9b3",
   "metadata": {},
   "outputs": [
    {
     "name": "stdout",
     "output_type": "stream",
     "text": [
      "[1] \"ASTARR\"                \"ATAC\"                  \"CRISPRi-Growth\"       \n",
      "[4] \"CRISPRi-HCRFF\"         \"ENCODE-rE2G Benchmark\" \"LMPRA\"                \n",
      "[7] \"TMPRA\"                 \"WSTARR\"               \n"
     ]
    }
   ],
   "source": [
    "### select and split regions by assay\n",
    "idx = \"fcc_astarr_macs_input_union\"\n",
    "lst = lst_dat_region_score_import\n",
    "\n",
    "dat = lst[[idx]]\n",
    "lst = split(dat, dat$Assay_Label)\n",
    "\n",
    "### assign and show\n",
    "lst_dat_region_score = lst\n",
    "print(names(lst))"
   ]
  },
  {
   "cell_type": "code",
   "execution_count": 12,
   "id": "d7e3ed28-61e8-4275-b98c-384030f3462f",
   "metadata": {},
   "outputs": [
    {
     "data": {
      "text/html": [
       "<table>\n",
       " <thead>\n",
       "  <tr>\n",
       "   <th style=\"text-align:left;\"> Chrom </th>\n",
       "   <th style=\"text-align:right;\"> ChromStart </th>\n",
       "   <th style=\"text-align:right;\"> ChromEnd </th>\n",
       "   <th style=\"text-align:left;\"> Region </th>\n",
       "   <th style=\"text-align:right;\"> Score </th>\n",
       "   <th style=\"text-align:left;\"> Score_Label </th>\n",
       "   <th style=\"text-align:left;\"> Assay_Group </th>\n",
       "   <th style=\"text-align:left;\"> Assay_Label </th>\n",
       "  </tr>\n",
       " </thead>\n",
       "<tbody>\n",
       "  <tr>\n",
       "   <td style=\"text-align:left;\"> chr1 </td>\n",
       "   <td style=\"text-align:right;\"> 10015 </td>\n",
       "   <td style=\"text-align:right;\"> 10442 </td>\n",
       "   <td style=\"text-align:left;\"> chr1:10015-10442 </td>\n",
       "   <td style=\"text-align:right;\"> -3.7814427 </td>\n",
       "   <td style=\"text-align:left;\"> Scale(Log2FC) </td>\n",
       "   <td style=\"text-align:left;\"> ASTARR_KS91 </td>\n",
       "   <td style=\"text-align:left;\"> ASTARR </td>\n",
       "  </tr>\n",
       "  <tr>\n",
       "   <td style=\"text-align:left;\"> chr1 </td>\n",
       "   <td style=\"text-align:right;\"> 14253 </td>\n",
       "   <td style=\"text-align:right;\"> 14645 </td>\n",
       "   <td style=\"text-align:left;\"> chr1:14253-14645 </td>\n",
       "   <td style=\"text-align:right;\"> 0.5653917 </td>\n",
       "   <td style=\"text-align:left;\"> Scale(Log2FC) </td>\n",
       "   <td style=\"text-align:left;\"> ASTARR_KS91 </td>\n",
       "   <td style=\"text-align:left;\"> ASTARR </td>\n",
       "  </tr>\n",
       "  <tr>\n",
       "   <td style=\"text-align:left;\"> chr1 </td>\n",
       "   <td style=\"text-align:right;\"> 16015 </td>\n",
       "   <td style=\"text-align:right;\"> 16477 </td>\n",
       "   <td style=\"text-align:left;\"> chr1:16015-16477 </td>\n",
       "   <td style=\"text-align:right;\"> -2.0997884 </td>\n",
       "   <td style=\"text-align:left;\"> Scale(Log2FC) </td>\n",
       "   <td style=\"text-align:left;\"> ASTARR_KS91 </td>\n",
       "   <td style=\"text-align:left;\"> ASTARR </td>\n",
       "  </tr>\n",
       "</tbody>\n",
       "</table>"
      ]
     },
     "metadata": {},
     "output_type": "display_data"
    }
   ],
   "source": [
    "lst = lst_dat_region_score\n",
    "dat = lst[[1]]\n",
    "fun_display_table(head(dat, 3))"
   ]
  },
  {
   "cell_type": "markdown",
   "id": "d7a73e12-4dd0-4fc9-ab1b-ee8008d8a826",
   "metadata": {},
   "source": [
    "## Helper function"
   ]
  },
  {
   "cell_type": "code",
   "execution_count": 13,
   "id": "499a58bc-d0da-4f1f-96ce-ffe422c406e8",
   "metadata": {},
   "outputs": [],
   "source": [
    "fun_distance_correlation = function(x, y) {\n",
    "    ### get distance matrix\n",
    "    n = length(x)\n",
    "    A = as.matrix(dist(x))\n",
    "    B = as.matrix(dist(y))\n",
    "    \n",
    "    ### double center\n",
    "    A_c = A - rowMeans(A) - colMeans(A) + mean(A)\n",
    "    B_c = B - rowMeans(B) - colMeans(B) + mean(B)\n",
    "    \n",
    "    ### raw sums\n",
    "    dcov2 = sum(A_c * B_c) / (n * n)\n",
    "    dvarx = sum(A_c * A_c) / (n * n)\n",
    "    dvary = sum(B_c * B_c) / (n * n)\n",
    "    \n",
    "    ### ensure positive; avoid tiny negatives\n",
    "    dcov2 = max(dcov2, 0)\n",
    "    dvarx = max(dvarx, 0)\n",
    "    dvary = max(dvary, 0)\n",
    "    \n",
    "    ### compute distance correlation\n",
    "    dcor = sqrt(dcov2) / sqrt(sqrt(dvarx * dvary))\n",
    "    return(dcor)\n",
    "}"
   ]
  },
  {
   "cell_type": "markdown",
   "id": "220149c6-2879-4485-a377-92a4b636bd73",
   "metadata": {},
   "source": [
    "## Execute"
   ]
  },
  {
   "cell_type": "code",
   "execution_count": 14,
   "id": "ae3b8de3-2b07-4470-bfcb-b37e4555dafa",
   "metadata": {},
   "outputs": [
    {
     "name": "stdout",
     "output_type": "stream",
     "text": [
      "[1] \"CRISPRi-HCRFF\"         \"CRISPRi-Growth\"        \"ENCODE-rE2G Benchmark\"\n",
      "[1] \"ASTARR\" \"WSTARR\" \"LMPRA\"  \"TMPRA\"  \"ATAC\"  \n"
     ]
    },
    {
     "data": {
      "text/html": [
       "<table>\n",
       " <thead>\n",
       "  <tr>\n",
       "   <th style=\"text-align:left;\"> Region </th>\n",
       "   <th style=\"text-align:right;\"> Score_CRISPR </th>\n",
       "   <th style=\"text-align:right;\"> Score_STARRMPRA </th>\n",
       "  </tr>\n",
       " </thead>\n",
       "<tbody>\n",
       "  <tr>\n",
       "   <td style=\"text-align:left;\"> chr11:4092104-4092566 </td>\n",
       "   <td style=\"text-align:right;\"> -0.1340399 </td>\n",
       "   <td style=\"text-align:right;\"> 0.5588223 </td>\n",
       "  </tr>\n",
       "  <tr>\n",
       "   <td style=\"text-align:left;\"> chr11:4094204-4095676 </td>\n",
       "   <td style=\"text-align:right;\"> -0.0482194 </td>\n",
       "   <td style=\"text-align:right;\"> 2.5172737 </td>\n",
       "  </tr>\n",
       "  <tr>\n",
       "   <td style=\"text-align:left;\"> chr11:4144511-4147030 </td>\n",
       "   <td style=\"text-align:right;\"> -0.0702490 </td>\n",
       "   <td style=\"text-align:right;\"> 0.1706916 </td>\n",
       "  </tr>\n",
       "</tbody>\n",
       "</table>"
      ]
     },
     "metadata": {},
     "output_type": "display_data"
    }
   ],
   "source": [
    "lol = lapply(VEC_TXT_ASSAY_OUT, function(txt_assay_out){\n",
    "    ### get the output assay\n",
    "    lst = lst_dat_region_score\n",
    "    dat = lst[[txt_assay_out]]\n",
    "    \n",
    "    ### get the score of output assay\n",
    "    dat = dat %>% \n",
    "        dplyr::mutate(Score_CRISPR = Score) %>%\n",
    "        dplyr::select(Region, Score_CRISPR) %>%\n",
    "        dplyr::distinct()\n",
    "    dat_region_score_out = dat\n",
    "\n",
    "    ###\n",
    "    lst = lapply(VEC_TXT_ASSAY_INP, function(txt_assay_inp){\n",
    "        ### get the output assay\n",
    "        lst = lst_dat_region_score\n",
    "        dat = lst[[txt_assay_inp]]\n",
    "        \n",
    "        ### get the score of output assay\n",
    "        dat = dat %>% \n",
    "            dplyr::mutate(Score_STARRMPRA = Score) %>%\n",
    "            dplyr::select(Region, Score_STARRMPRA) %>%\n",
    "            dplyr::distinct()\n",
    "        dat_region_score_inp = dat\n",
    "\n",
    "        ### combine group and score\n",
    "        dat = dplyr::inner_join(\n",
    "            dat_region_score_out,\n",
    "            dat_region_score_inp,\n",
    "            by = \"Region\"\n",
    "        )\n",
    "        return(dat)\n",
    "    })\n",
    "    return(lst)\n",
    "})\n",
    "\n",
    "### assign and show\n",
    "lol_region_score_merge = lol\n",
    "print(names(lol))\n",
    "lst = lol[[1]]\n",
    "print(names(lst))\n",
    "dat = lst[[1]]\n",
    "fun_display_table(head(dat, 3))"
   ]
  },
  {
   "cell_type": "code",
   "execution_count": 15,
   "id": "4049fe60-e03b-4f81-bfb9-813f45776443",
   "metadata": {},
   "outputs": [
    {
     "data": {
      "text/html": [
       "<table class=\"dataframe\">\n",
       "<caption>A tibble: 15 × 4</caption>\n",
       "<thead>\n",
       "\t<tr><th scope=col>Assay_CRISPR</th><th scope=col>Assay_STARRMPRA</th><th scope=col>Spearman_Corr</th><th scope=col>Distanc_Corr</th></tr>\n",
       "\t<tr><th scope=col>&lt;chr&gt;</th><th scope=col>&lt;chr&gt;</th><th scope=col>&lt;dbl&gt;</th><th scope=col>&lt;dbl&gt;</th></tr>\n",
       "</thead>\n",
       "<tbody>\n",
       "\t<tr><td>CRISPRi-HCRFF        </td><td>ASTARR</td><td> 0.038667725</td><td>1</td></tr>\n",
       "\t<tr><td>CRISPRi-HCRFF        </td><td>WSTARR</td><td> 0.034993732</td><td>1</td></tr>\n",
       "\t<tr><td>CRISPRi-HCRFF        </td><td>LMPRA </td><td> 0.018214615</td><td>1</td></tr>\n",
       "\t<tr><td>CRISPRi-HCRFF        </td><td>TMPRA </td><td> 0.001948634</td><td>1</td></tr>\n",
       "\t<tr><td>CRISPRi-HCRFF        </td><td>ATAC  </td><td> 0.065942369</td><td>1</td></tr>\n",
       "\t<tr><td>CRISPRi-Growth       </td><td>ASTARR</td><td>-0.018095172</td><td>1</td></tr>\n",
       "\t<tr><td>CRISPRi-Growth       </td><td>WSTARR</td><td> 0.093813614</td><td>1</td></tr>\n",
       "\t<tr><td>CRISPRi-Growth       </td><td>LMPRA </td><td> 0.073245635</td><td>1</td></tr>\n",
       "\t<tr><td>CRISPRi-Growth       </td><td>TMPRA </td><td> 0.153373663</td><td>1</td></tr>\n",
       "\t<tr><td>CRISPRi-Growth       </td><td>ATAC  </td><td> 0.087895550</td><td>1</td></tr>\n",
       "\t<tr><td>ENCODE-rE2G Benchmark</td><td>ASTARR</td><td>-0.138584610</td><td>1</td></tr>\n",
       "\t<tr><td>ENCODE-rE2G Benchmark</td><td>WSTARR</td><td>-0.078033181</td><td>1</td></tr>\n",
       "\t<tr><td>ENCODE-rE2G Benchmark</td><td>LMPRA </td><td>-0.044395729</td><td>1</td></tr>\n",
       "\t<tr><td>ENCODE-rE2G Benchmark</td><td>TMPRA </td><td>-0.177256948</td><td>1</td></tr>\n",
       "\t<tr><td>ENCODE-rE2G Benchmark</td><td>ATAC  </td><td>-0.176538583</td><td>1</td></tr>\n",
       "</tbody>\n",
       "</table>\n"
      ],
      "text/latex": [
       "A tibble: 15 × 4\n",
       "\\begin{tabular}{llll}\n",
       " Assay\\_CRISPR & Assay\\_STARRMPRA & Spearman\\_Corr & Distanc\\_Corr\\\\\n",
       " <chr> & <chr> & <dbl> & <dbl>\\\\\n",
       "\\hline\n",
       "\t CRISPRi-HCRFF         & ASTARR &  0.038667725 & 1\\\\\n",
       "\t CRISPRi-HCRFF         & WSTARR &  0.034993732 & 1\\\\\n",
       "\t CRISPRi-HCRFF         & LMPRA  &  0.018214615 & 1\\\\\n",
       "\t CRISPRi-HCRFF         & TMPRA  &  0.001948634 & 1\\\\\n",
       "\t CRISPRi-HCRFF         & ATAC   &  0.065942369 & 1\\\\\n",
       "\t CRISPRi-Growth        & ASTARR & -0.018095172 & 1\\\\\n",
       "\t CRISPRi-Growth        & WSTARR &  0.093813614 & 1\\\\\n",
       "\t CRISPRi-Growth        & LMPRA  &  0.073245635 & 1\\\\\n",
       "\t CRISPRi-Growth        & TMPRA  &  0.153373663 & 1\\\\\n",
       "\t CRISPRi-Growth        & ATAC   &  0.087895550 & 1\\\\\n",
       "\t ENCODE-rE2G Benchmark & ASTARR & -0.138584610 & 1\\\\\n",
       "\t ENCODE-rE2G Benchmark & WSTARR & -0.078033181 & 1\\\\\n",
       "\t ENCODE-rE2G Benchmark & LMPRA  & -0.044395729 & 1\\\\\n",
       "\t ENCODE-rE2G Benchmark & TMPRA  & -0.177256948 & 1\\\\\n",
       "\t ENCODE-rE2G Benchmark & ATAC   & -0.176538583 & 1\\\\\n",
       "\\end{tabular}\n"
      ],
      "text/markdown": [
       "\n",
       "A tibble: 15 × 4\n",
       "\n",
       "| Assay_CRISPR &lt;chr&gt; | Assay_STARRMPRA &lt;chr&gt; | Spearman_Corr &lt;dbl&gt; | Distanc_Corr &lt;dbl&gt; |\n",
       "|---|---|---|---|\n",
       "| CRISPRi-HCRFF         | ASTARR |  0.038667725 | 1 |\n",
       "| CRISPRi-HCRFF         | WSTARR |  0.034993732 | 1 |\n",
       "| CRISPRi-HCRFF         | LMPRA  |  0.018214615 | 1 |\n",
       "| CRISPRi-HCRFF         | TMPRA  |  0.001948634 | 1 |\n",
       "| CRISPRi-HCRFF         | ATAC   |  0.065942369 | 1 |\n",
       "| CRISPRi-Growth        | ASTARR | -0.018095172 | 1 |\n",
       "| CRISPRi-Growth        | WSTARR |  0.093813614 | 1 |\n",
       "| CRISPRi-Growth        | LMPRA  |  0.073245635 | 1 |\n",
       "| CRISPRi-Growth        | TMPRA  |  0.153373663 | 1 |\n",
       "| CRISPRi-Growth        | ATAC   |  0.087895550 | 1 |\n",
       "| ENCODE-rE2G Benchmark | ASTARR | -0.138584610 | 1 |\n",
       "| ENCODE-rE2G Benchmark | WSTARR | -0.078033181 | 1 |\n",
       "| ENCODE-rE2G Benchmark | LMPRA  | -0.044395729 | 1 |\n",
       "| ENCODE-rE2G Benchmark | TMPRA  | -0.177256948 | 1 |\n",
       "| ENCODE-rE2G Benchmark | ATAC   | -0.176538583 | 1 |\n",
       "\n"
      ],
      "text/plain": [
       "   Assay_CRISPR          Assay_STARRMPRA Spearman_Corr Distanc_Corr\n",
       "1  CRISPRi-HCRFF         ASTARR           0.038667725  1           \n",
       "2  CRISPRi-HCRFF         WSTARR           0.034993732  1           \n",
       "3  CRISPRi-HCRFF         LMPRA            0.018214615  1           \n",
       "4  CRISPRi-HCRFF         TMPRA            0.001948634  1           \n",
       "5  CRISPRi-HCRFF         ATAC             0.065942369  1           \n",
       "6  CRISPRi-Growth        ASTARR          -0.018095172  1           \n",
       "7  CRISPRi-Growth        WSTARR           0.093813614  1           \n",
       "8  CRISPRi-Growth        LMPRA            0.073245635  1           \n",
       "9  CRISPRi-Growth        TMPRA            0.153373663  1           \n",
       "10 CRISPRi-Growth        ATAC             0.087895550  1           \n",
       "11 ENCODE-rE2G Benchmark ASTARR          -0.138584610  1           \n",
       "12 ENCODE-rE2G Benchmark WSTARR          -0.078033181  1           \n",
       "13 ENCODE-rE2G Benchmark LMPRA           -0.044395729  1           \n",
       "14 ENCODE-rE2G Benchmark TMPRA           -0.177256948  1           \n",
       "15 ENCODE-rE2G Benchmark ATAC            -0.176538583  1           "
      ]
     },
     "metadata": {},
     "output_type": "display_data"
    }
   ],
   "source": [
    "lol = lol_region_score_merge\n",
    "lst = lapply(lol, function(lst){\n",
    "    lst = lapply(lst, function(dat){\n",
    "        ### get x and y\n",
    "        x = dat$Score_CRISPR\n",
    "        y = dat$Score_STARRMPRA\n",
    "\n",
    "        ### observed correlation\n",
    "        num_obs_scor = cor(x, y, method = \"spearman\")\n",
    "        num_obs_dcor = 1 #fun_distance_correlation(x, y)\n",
    "\n",
    "        ### arrange results\n",
    "        vec = c(\"Spearman_Corr\" = num_obs_scor, \"Distanc_Corr\" = num_obs_dcor)\n",
    "        return(vec)\n",
    "    })\n",
    "    dat = bind_rows(lst, .id = \"Assay_STARRMPRA\")\n",
    "    return(dat)\n",
    "})\n",
    "\n",
    "dat = bind_rows(lst, .id = \"Assay_CRISPR\")\n",
    "dat"
   ]
  },
  {
   "cell_type": "code",
   "execution_count": null,
   "id": "1e07e65d-9f0c-465f-8eb7-5a26dfd380d4",
   "metadata": {},
   "outputs": [],
   "source": []
  },
  {
   "cell_type": "code",
   "execution_count": null,
   "id": "e58b04eb-6844-4300-a5f9-29b9b174f253",
   "metadata": {},
   "outputs": [],
   "source": []
  },
  {
   "cell_type": "code",
   "execution_count": null,
   "id": "46a7969b-ba23-4848-842e-f96197fb711b",
   "metadata": {},
   "outputs": [],
   "source": []
  },
  {
   "cell_type": "code",
   "execution_count": 52,
   "id": "ab15b7f9-ed22-41c2-bb86-c413f1505724",
   "metadata": {},
   "outputs": [
    {
     "name": "stdout",
     "output_type": "stream",
     "text": [
      "[1] \"CRISPRi-HCRFF\"         \"CRISPRi-Growth\"        \"ENCODE-rE2G Benchmark\"\n",
      "\n",
      "Call:  glm(formula = Group_CRISPR ~ Group_STARRMPRA * Assay_STARRMPRA, \n",
      "    family = binomial(link = \"logit\"), data = dat)\n",
      "\n",
      "Coefficients:\n",
      "                             (Intercept)  \n",
      "                                -2.36047  \n",
      "                      Group_STARRMPRAhit  \n",
      "                                 0.88962  \n",
      "                   Assay_STARRMPRAWSTARR  \n",
      "                                 0.07281  \n",
      "                    Assay_STARRMPRALMPRA  \n",
      "                                 0.03157  \n",
      "                    Assay_STARRMPRATMPRA  \n",
      "                                -0.27482  \n",
      "                     Assay_STARRMPRAATAC  \n",
      "                                -0.02781  \n",
      "Group_STARRMPRAhit:Assay_STARRMPRAWSTARR  \n",
      "                                -0.28483  \n",
      " Group_STARRMPRAhit:Assay_STARRMPRALMPRA  \n",
      "                                -0.43252  \n",
      " Group_STARRMPRAhit:Assay_STARRMPRATMPRA  \n",
      "                                 0.37879  \n",
      "  Group_STARRMPRAhit:Assay_STARRMPRAATAC  \n",
      "                                 0.04865  \n",
      "\n",
      "Degrees of Freedom: 5318 Total (i.e. Null);  5309 Residual\n",
      "Null Deviance:\t    3370 \n",
      "Residual Deviance: 3318 \tAIC: 3338\n"
     ]
    }
   ],
   "source": [
    "lst = lapply(VEC_TXT_ASSAY_OUT, function(txt_assay_out){\n",
    "    ### get the output assay\n",
    "    lst = lst_dat_region_score\n",
    "    dat = lst[[txt_assay_out]]\n",
    "    \n",
    "    ### get the score of output assay\n",
    "    dat = dat %>% \n",
    "        dplyr::mutate(Score_CRISPR = Score) %>%\n",
    "        dplyr::select(Region, Score_CRISPR) %>%\n",
    "        dplyr::distinct()\n",
    "    dat_region_score_out = dat\n",
    "\n",
    "    ###\n",
    "    lst = lapply(VEC_TXT_ASSAY_INP, function(txt_assay_inp){\n",
    "        ### get the output assay\n",
    "        lst = lst_dat_region_score\n",
    "        dat = lst[[txt_assay_inp]]\n",
    "        \n",
    "        ### get the score of output assay\n",
    "        dat = dat %>% \n",
    "            dplyr::mutate(Score_STARRMPRA = Score) %>%\n",
    "            dplyr::select(Region, Score_STARRMPRA) %>%\n",
    "            dplyr::distinct()\n",
    "        dat_region_score_inp = dat\n",
    "\n",
    "        ### combine group and score\n",
    "        dat = dplyr::inner_join(\n",
    "            dat_region_score_out,\n",
    "            dat_region_score_inp,\n",
    "            by = \"Region\"\n",
    "        )\n",
    "        return(dat)\n",
    "    })\n",
    "    dat_region_group_merge = bind_rows(lst, .id = \"Assay_STARRMPRA\")\n",
    "\n",
    "    ###\n",
    "    dat = dat_region_group_merge\n",
    "    dat = dat %>% dplyr::mutate(\n",
    "        Assay_STARRMPRA = factor(Assay_STARRMPRA, levels = VEC_TXT_ASSAY_INP),\n",
    "        Group_CRISPR    = factor(Group_CRISPR,    levels = c(0, 1), labels = c(\"non-hit\", \"hit\")),\n",
    "        Group_STARRMPRA = factor(Group_STARRMPRA, levels = c(0, 1), labels = c(\"non-hit\", \"hit\"))\n",
    "    )\n",
    "\n",
    "    ###\n",
    "    fit = glm(\n",
    "        Group_CRISPR ~ Group_STARRMPRA * Assay_STARRMPRA, \n",
    "        data   = dat,\n",
    "        family = binomial(link = \"logit\")\n",
    "    )\n",
    "    return(fit)\n",
    "})\n",
    "\n",
    "lst_logit_fit = lst\n",
    "print(names(lst))\n",
    "\n",
    "fit = lst[[1]]\n",
    "print(fit)"
   ]
  },
  {
   "cell_type": "code",
   "execution_count": null,
   "id": "ea8556c0-eb5b-48f2-8779-f419b3d6193d",
   "metadata": {},
   "outputs": [],
   "source": []
  },
  {
   "cell_type": "code",
   "execution_count": null,
   "id": "47e95d4c-43cf-4b36-b9a3-7d5fee65f771",
   "metadata": {},
   "outputs": [],
   "source": []
  },
  {
   "cell_type": "code",
   "execution_count": null,
   "id": "e87c061d-178b-4599-9626-e191b607717e",
   "metadata": {},
   "outputs": [],
   "source": []
  },
  {
   "cell_type": "code",
   "execution_count": null,
   "id": "c322c555-2ca3-4e29-b7e5-7c330f8590f6",
   "metadata": {},
   "outputs": [],
   "source": []
  },
  {
   "cell_type": "markdown",
   "id": "28ce7f83-b965-4fc8-b9cd-ffa7cf973fc1",
   "metadata": {},
   "source": [
    "**Set environment**"
   ]
  },
  {
   "cell_type": "code",
   "execution_count": 2,
   "id": "d90366d5-86bc-4cba-b803-5f55a6b9c120",
   "metadata": {},
   "outputs": [
    {
     "name": "stdout",
     "output_type": "stream",
     "text": [
      "You are working on        Singularity: singularity_proj_encode_fcc \n",
      "BASE DIRECTORY (FD_BASE): /data/reddylab/Kuei \n",
      "REPO DIRECTORY (FD_REPO): /data/reddylab/Kuei/repo \n",
      "WORK DIRECTORY (FD_WORK): /data/reddylab/Kuei/work \n",
      "DATA DIRECTORY (FD_DATA): /data/reddylab/Kuei/data \n",
      "\n",
      "You are working with      ENCODE FCC \n",
      "PATH OF PROJECT (FD_PRJ): /data/reddylab/Kuei/repo/Proj_ENCODE_FCC \n",
      "PROJECT RESULTS (FD_RES): /data/reddylab/Kuei/repo/Proj_ENCODE_FCC/results \n",
      "PROJECT SCRIPTS (FD_EXE): /data/reddylab/Kuei/repo/Proj_ENCODE_FCC/scripts \n",
      "PROJECT DATA    (FD_DAT): /data/reddylab/Kuei/repo/Proj_ENCODE_FCC/data \n",
      "PROJECT NOTE    (FD_NBK): /data/reddylab/Kuei/repo/Proj_ENCODE_FCC/notebooks \n",
      "PROJECT DOCS    (FD_DOC): /data/reddylab/Kuei/repo/Proj_ENCODE_FCC/docs \n",
      "PROJECT LOG     (FD_LOG): /data/reddylab/Kuei/repo/Proj_ENCODE_FCC/log \n",
      "PROJECT REF     (FD_REF): /data/reddylab/Kuei/repo/Proj_ENCODE_FCC/references \n",
      "\n"
     ]
    }
   ],
   "source": [
    "suppressMessages(suppressWarnings(source(\"../run_config_project_sing.R\")))\n",
    "#library(coin)\n",
    "show_env()"
   ]
  },
  {
   "cell_type": "markdown",
   "id": "dba23ca4-c72d-48c7-aef1-bfe66c617cc0",
   "metadata": {},
   "source": [
    "**Check: region directory**"
   ]
  },
  {
   "cell_type": "code",
   "execution_count": 3,
   "id": "50857a1a-5695-4004-8b25-7e118fcdd2ad",
   "metadata": {},
   "outputs": [
    {
     "name": "stdout",
     "output_type": "stream",
     "text": [
      "atac_ENCFF333TAT \n",
      "atac_ENCFF558BLC \n",
      "atac_ENCFF925CYR \n",
      "atac_ENCFF948AFM \n",
      "dnase_ENCFF185XRG \n",
      "dnase_ENCFF274YGF \n",
      "fcc_astarr_macs_input_overlap \n",
      "fcc_astarr_macs_input_union \n"
     ]
    }
   ],
   "source": [
    "txt_fdiry = file.path(FD_RES, \"region_coverage_fcc_score\")\n",
    "\n",
    "vec = dir(txt_fdiry)\n",
    "for (txt in vec){cat(txt, \"\\n\")}"
   ]
  },
  {
   "cell_type": "markdown",
   "id": "65314e0d-903a-4f60-91a7-26f79c55ed17",
   "metadata": {},
   "source": [
    "**Check: assay directory**"
   ]
  },
  {
   "cell_type": "code",
   "execution_count": 4,
   "id": "8158015a-d698-4e2d-90bb-8f4a88a2bb6f",
   "metadata": {},
   "outputs": [
    {
     "name": "stdout",
     "output_type": "stream",
     "text": [
      "CRISPRi_FlowFISH_K562_Riley_JinWoo \n",
      "CRISPRi_Growth_K562_Gersbach_JinWoo \n",
      "MPRA_Lenti_K562_Nadav_Vikram \n",
      "MPRA_Tiling_K562_Tewhey_Hannah \n",
      "STARR_ATAC_K562_Reddy_KS274 \n",
      "STARR_ATAC_K562_Reddy_KS91 \n",
      "STARR_ATAC_K562_Reddy_KSMerge \n",
      "STARR_WHG_K562_Reddy_A001 \n",
      "summary \n"
     ]
    }
   ],
   "source": [
    "txt_region = \"fcc_astarr_macs_input_union\"\n",
    "txt_fdiry  = file.path(FD_RES, \"region_coverage_fcc_score\", txt_region)\n",
    "vec = dir(txt_fdiry)\n",
    "for (txt in vec) {cat(txt, \"\\n\")}"
   ]
  },
  {
   "cell_type": "markdown",
   "id": "597ed728-83f9-4f83-82d9-2edff2f7d825",
   "metadata": {},
   "source": [
    "**Set global variable**"
   ]
  },
  {
   "cell_type": "code",
   "execution_count": 5,
   "id": "9372dc5d-41e3-4753-a86b-c0695a423899",
   "metadata": {},
   "outputs": [
    {
     "name": "stdout",
     "output_type": "stream",
     "text": [
      "fcc_astarr_macs_input_overlap \n",
      "fcc_astarr_macs_input_union \n"
     ]
    }
   ],
   "source": [
    "## init: region folder\n",
    "vec = c(\"fcc_astarr_macs_input_overlap\", \"fcc_astarr_macs_input_union\")\n",
    "names(vec) = vec\n",
    "\n",
    "VEC_TXT_FOLDER = vec\n",
    "for (txt in vec) {cat(txt, \"\\n\")}"
   ]
  },
  {
   "cell_type": "code",
   "execution_count": 6,
   "id": "180aac97-7e4e-4f9c-bb4a-30048ec9fff5",
   "metadata": {},
   "outputs": [],
   "source": [
    "TXT_ASSAY_OUT = \"CRISPRi-HCRFF\"\n",
    "\n",
    "vec = c(\"ASTARR\", \"WSTARR\", \"LMPRA\", \"TMPRA\", \"ATAC\")\n",
    "names(vec) = vec\n",
    "VEC_TXT_ASSAY = vec"
   ]
  },
  {
   "cell_type": "markdown",
   "id": "da056a22-f40e-4e46-8d8b-e9010276558b",
   "metadata": {},
   "source": [
    "**Check input files**"
   ]
  },
  {
   "cell_type": "code",
   "execution_count": 7,
   "id": "9fb5da54-69dc-4ef2-9cce-7cda121822ed",
   "metadata": {},
   "outputs": [
    {
     "name": "stdout",
     "output_type": "stream",
     "text": [
      "/data/reddylab/Kuei/repo/Proj_ENCODE_FCC/results/analysis_fcc_correlation/fcc_astarr_macs_input_overlap/region.coverage.score.concat.tsv \n"
     ]
    }
   ],
   "source": [
    "txt_folder = VEC_TXT_FOLDER[1]\n",
    "txt_fdiry  = file.path(FD_RES, \"analysis_fcc_correlation\", txt_folder)\n",
    "txt_fname  = \"region.coverage.score.*.tsv\"\n",
    "txt_fglob  = file.path(txt_fdiry, txt_fname)\n",
    "\n",
    "vec = Sys.glob(txt_fglob)\n",
    "for (txt in vec) {cat(txt, \"\\n\")}"
   ]
  },
  {
   "cell_type": "markdown",
   "id": "5e294aad-cffa-4560-8956-f477a2c7bdde",
   "metadata": {},
   "source": [
    "## Import data"
   ]
  },
  {
   "cell_type": "code",
   "execution_count": 8,
   "id": "33a2f5c4-8774-4351-89fb-8f4422fea413",
   "metadata": {},
   "outputs": [
    {
     "name": "stdout",
     "output_type": "stream",
     "text": [
      "$fcc_astarr_macs_input_overlap\n",
      "[1] 586004      8\n",
      "\n",
      "$fcc_astarr_macs_input_union\n",
      "[1] 889739      8\n",
      "\n"
     ]
    },
    {
     "data": {
      "text/html": [
       "<table class=\"dataframe\">\n",
       "<caption>A tibble: 3 × 8</caption>\n",
       "<thead>\n",
       "\t<tr><th scope=col>Chrom</th><th scope=col>ChromStart</th><th scope=col>ChromEnd</th><th scope=col>Region</th><th scope=col>Score</th><th scope=col>Score_Label</th><th scope=col>Assay_Group</th><th scope=col>Assay_Label</th></tr>\n",
       "\t<tr><th scope=col>&lt;chr&gt;</th><th scope=col>&lt;dbl&gt;</th><th scope=col>&lt;dbl&gt;</th><th scope=col>&lt;chr&gt;</th><th scope=col>&lt;dbl&gt;</th><th scope=col>&lt;chr&gt;</th><th scope=col>&lt;chr&gt;</th><th scope=col>&lt;chr&gt;</th></tr>\n",
       "</thead>\n",
       "<tbody>\n",
       "\t<tr><td>chr1</td><td>10038</td><td>10405</td><td>chr1:10038-10405</td><td>-3.5573621</td><td>Scale(Log2FC)</td><td>ASTARR_KS91</td><td>ASTARR</td></tr>\n",
       "\t<tr><td>chr1</td><td>14282</td><td>14614</td><td>chr1:14282-14614</td><td> 0.0361388</td><td>Scale(Log2FC)</td><td>ASTARR_KS91</td><td>ASTARR</td></tr>\n",
       "\t<tr><td>chr1</td><td>16025</td><td>16338</td><td>chr1:16025-16338</td><td>-2.1376311</td><td>Scale(Log2FC)</td><td>ASTARR_KS91</td><td>ASTARR</td></tr>\n",
       "</tbody>\n",
       "</table>\n"
      ],
      "text/latex": [
       "A tibble: 3 × 8\n",
       "\\begin{tabular}{llllllll}\n",
       " Chrom & ChromStart & ChromEnd & Region & Score & Score\\_Label & Assay\\_Group & Assay\\_Label\\\\\n",
       " <chr> & <dbl> & <dbl> & <chr> & <dbl> & <chr> & <chr> & <chr>\\\\\n",
       "\\hline\n",
       "\t chr1 & 10038 & 10405 & chr1:10038-10405 & -3.5573621 & Scale(Log2FC) & ASTARR\\_KS91 & ASTARR\\\\\n",
       "\t chr1 & 14282 & 14614 & chr1:14282-14614 &  0.0361388 & Scale(Log2FC) & ASTARR\\_KS91 & ASTARR\\\\\n",
       "\t chr1 & 16025 & 16338 & chr1:16025-16338 & -2.1376311 & Scale(Log2FC) & ASTARR\\_KS91 & ASTARR\\\\\n",
       "\\end{tabular}\n"
      ],
      "text/markdown": [
       "\n",
       "A tibble: 3 × 8\n",
       "\n",
       "| Chrom &lt;chr&gt; | ChromStart &lt;dbl&gt; | ChromEnd &lt;dbl&gt; | Region &lt;chr&gt; | Score &lt;dbl&gt; | Score_Label &lt;chr&gt; | Assay_Group &lt;chr&gt; | Assay_Label &lt;chr&gt; |\n",
       "|---|---|---|---|---|---|---|---|\n",
       "| chr1 | 10038 | 10405 | chr1:10038-10405 | -3.5573621 | Scale(Log2FC) | ASTARR_KS91 | ASTARR |\n",
       "| chr1 | 14282 | 14614 | chr1:14282-14614 |  0.0361388 | Scale(Log2FC) | ASTARR_KS91 | ASTARR |\n",
       "| chr1 | 16025 | 16338 | chr1:16025-16338 | -2.1376311 | Scale(Log2FC) | ASTARR_KS91 | ASTARR |\n",
       "\n"
      ],
      "text/plain": [
       "  Chrom ChromStart ChromEnd Region           Score      Score_Label  \n",
       "1 chr1  10038      10405    chr1:10038-10405 -3.5573621 Scale(Log2FC)\n",
       "2 chr1  14282      14614    chr1:14282-14614  0.0361388 Scale(Log2FC)\n",
       "3 chr1  16025      16338    chr1:16025-16338 -2.1376311 Scale(Log2FC)\n",
       "  Assay_Group Assay_Label\n",
       "1 ASTARR_KS91 ASTARR     \n",
       "2 ASTARR_KS91 ASTARR     \n",
       "3 ASTARR_KS91 ASTARR     "
      ]
     },
     "metadata": {},
     "output_type": "display_data"
    }
   ],
   "source": [
    "lst = lapply(VEC_TXT_FOLDER, function(txt_folder){\n",
    "    ### set file directory\n",
    "    txt_fdiry  = file.path(FD_RES, \"analysis_fcc_correlation\", txt_folder)\n",
    "    txt_fname = \"region.coverage.score.concat.tsv\"\n",
    "    txt_fpath = file.path(txt_fdiry, txt_fname)\n",
    "\n",
    "    ### read table\n",
    "    dat = read_tsv(txt_fpath, show_col_types = FALSE)\n",
    "    return(dat)\n",
    "})\n",
    "\n",
    "### assign and show\n",
    "lst_dat_region_score_import = lst\n",
    "\n",
    "res = lapply(lst, dim)\n",
    "print(res)\n",
    "\n",
    "dat = lst[[1]]\n",
    "head(dat, 3)"
   ]
  },
  {
   "cell_type": "markdown",
   "id": "a1dd296d-673a-4d46-b85d-5f0f607da581",
   "metadata": {},
   "source": [
    "**Check: Assay count**"
   ]
  },
  {
   "cell_type": "code",
   "execution_count": 9,
   "id": "1988444e-a23a-411e-89b6-6ce073b2f613",
   "metadata": {},
   "outputs": [
    {
     "data": {
      "text/html": [
       "<table>\n",
       " <thead>\n",
       "  <tr>\n",
       "   <th style=\"text-align:left;\"> Assay_Group </th>\n",
       "   <th style=\"text-align:left;\"> Assay_Label </th>\n",
       "   <th style=\"text-align:right;\"> fcc_astarr_macs_input_overlap </th>\n",
       "   <th style=\"text-align:right;\"> fcc_astarr_macs_input_union </th>\n",
       "  </tr>\n",
       " </thead>\n",
       "<tbody>\n",
       "  <tr>\n",
       "   <td style=\"text-align:left;\"> ASTARR_KS91 </td>\n",
       "   <td style=\"text-align:left;\"> ASTARR </td>\n",
       "   <td style=\"text-align:right;\"> 150040 </td>\n",
       "   <td style=\"text-align:right;\"> 246850 </td>\n",
       "  </tr>\n",
       "  <tr>\n",
       "   <td style=\"text-align:left;\"> ASTARR_KS91 </td>\n",
       "   <td style=\"text-align:left;\"> ATAC </td>\n",
       "   <td style=\"text-align:right;\"> 150041 </td>\n",
       "   <td style=\"text-align:right;\"> 246852 </td>\n",
       "  </tr>\n",
       "  <tr>\n",
       "   <td style=\"text-align:left;\"> CRISPRi-Growth </td>\n",
       "   <td style=\"text-align:left;\"> CRISPRi-Growth </td>\n",
       "   <td style=\"text-align:right;\"> 72743 </td>\n",
       "   <td style=\"text-align:right;\"> 80288 </td>\n",
       "  </tr>\n",
       "  <tr>\n",
       "   <td style=\"text-align:left;\"> CRISPRi-HCRFF </td>\n",
       "   <td style=\"text-align:left;\"> CRISPRi-HCRFF </td>\n",
       "   <td style=\"text-align:right;\"> 925 </td>\n",
       "   <td style=\"text-align:right;\"> 1330 </td>\n",
       "  </tr>\n",
       "  <tr>\n",
       "   <td style=\"text-align:left;\"> ENCODE-rE2G </td>\n",
       "   <td style=\"text-align:left;\"> ENCODE-rE2G Benchmark </td>\n",
       "   <td style=\"text-align:right;\"> 3035 </td>\n",
       "   <td style=\"text-align:right;\"> 3169 </td>\n",
       "  </tr>\n",
       "  <tr>\n",
       "   <td style=\"text-align:left;\"> LMPRA </td>\n",
       "   <td style=\"text-align:left;\"> LMPRA </td>\n",
       "   <td style=\"text-align:right;\"> 61478 </td>\n",
       "   <td style=\"text-align:right;\"> 68497 </td>\n",
       "  </tr>\n",
       "  <tr>\n",
       "   <td style=\"text-align:left;\"> TMPRA </td>\n",
       "   <td style=\"text-align:left;\"> TMPRA </td>\n",
       "   <td style=\"text-align:right;\"> 1148 </td>\n",
       "   <td style=\"text-align:right;\"> 1722 </td>\n",
       "  </tr>\n",
       "  <tr>\n",
       "   <td style=\"text-align:left;\"> WSTARR </td>\n",
       "   <td style=\"text-align:left;\"> WSTARR </td>\n",
       "   <td style=\"text-align:right;\"> 146594 </td>\n",
       "   <td style=\"text-align:right;\"> 241031 </td>\n",
       "  </tr>\n",
       "</tbody>\n",
       "</table>"
      ]
     },
     "metadata": {},
     "output_type": "display_data"
    }
   ],
   "source": [
    "lst = lst_dat_region_score_import\n",
    "lst = lapply(lst, function(dat){\n",
    "    dat = dat %>% \n",
    "        dplyr::group_by(Assay_Group, Assay_Label) %>%\n",
    "        dplyr::summarise(Freq = n(), .groups = \"drop\")\n",
    "    return(dat)\n",
    "})\n",
    "\n",
    "dat = bind_rows(lst, .id = \"Folder\")\n",
    "dat = dat %>% tidyr::spread(Folder, Freq)\n",
    "fun_display_table(dat)"
   ]
  },
  {
   "cell_type": "markdown",
   "id": "fc0c891a-e713-4386-bf84-2a7994d1a4cb",
   "metadata": {},
   "source": [
    "**Check: Missing values**"
   ]
  },
  {
   "cell_type": "code",
   "execution_count": 10,
   "id": "7e3c4d6a-ff1a-4e93-aa0f-2eebb0356c4f",
   "metadata": {},
   "outputs": [
    {
     "name": "stdout",
     "output_type": "stream",
     "text": [
      "$fcc_astarr_macs_input_overlap\n",
      "[1] FALSE\n",
      "\n",
      "$fcc_astarr_macs_input_union\n",
      "[1] FALSE\n",
      "\n"
     ]
    }
   ],
   "source": [
    "lst = lst_dat_region_score_import\n",
    "lst = lapply(lst, function(dat){\n",
    "    tmp = any(is.na(dat))\n",
    "    return(tmp)\n",
    "})\n",
    "\n",
    "print(lst)"
   ]
  },
  {
   "cell_type": "code",
   "execution_count": null,
   "id": "55aa2b94-7c33-48b2-8b38-a64d47c45b6b",
   "metadata": {},
   "outputs": [],
   "source": []
  },
  {
   "cell_type": "code",
   "execution_count": null,
   "id": "efb7950d-de43-4f8b-bba3-b9247bf8a25a",
   "metadata": {},
   "outputs": [],
   "source": []
  },
  {
   "cell_type": "code",
   "execution_count": null,
   "id": "171d88f6-0029-4d48-8744-647a61f3b2b6",
   "metadata": {},
   "outputs": [],
   "source": []
  },
  {
   "cell_type": "code",
   "execution_count": 20,
   "id": "bd592175-7b63-4766-8d69-4c8015493c04",
   "metadata": {},
   "outputs": [],
   "source": [
    "distance_correlation <- function(x, y) {\n",
    "  n <- length(x)\n",
    "  A <- as.matrix(dist(x))\n",
    "  B <- as.matrix(dist(y))\n",
    "  \n",
    "  # double center\n",
    "  A_c <- A - rowMeans(A) - colMeans(A) + mean(A)\n",
    "  B_c <- B - rowMeans(B) - colMeans(B) + mean(B)\n",
    "  \n",
    "  # raw sums\n",
    "  dcov2 <- sum(A_c * B_c) / (n * n)\n",
    "  dvarx <- sum(A_c * A_c) / (n * n)\n",
    "  dvary <- sum(B_c * B_c) / (n * n)\n",
    "  \n",
    "  # guard against tiny negatives\n",
    "  dcov2 <- max(dcov2, 0)\n",
    "  dvarx <- max(dvarx, 0)\n",
    "  dvary <- max(dvary, 0)\n",
    "  \n",
    "  # compute distance correlation\n",
    "  sqrt(dcov2) / sqrt(sqrt(dvarx * dvary))\n",
    "}"
   ]
  },
  {
   "cell_type": "code",
   "execution_count": 12,
   "id": "387f6f06-7511-41d3-89c4-03609612cd2c",
   "metadata": {},
   "outputs": [
    {
     "name": "stdout",
     "output_type": "stream",
     "text": [
      "[1] \"ASTARR\"                \"ATAC\"                  \"CRISPRi-Growth\"       \n",
      "[4] \"CRISPRi-HCRFF\"         \"ENCODE-rE2G Benchmark\" \"LMPRA\"                \n",
      "[7] \"TMPRA\"                 \"WSTARR\"               \n"
     ]
    }
   ],
   "source": [
    "### select and split regions by assay\n",
    "idx = \"fcc_astarr_macs_input_union\"\n",
    "lst = lst_dat_region_score_import\n",
    "\n",
    "dat = lst[[idx]]\n",
    "lst = split(dat, dat$Assay_Label)\n",
    "\n",
    "### assign and show\n",
    "lst_dat_region_score = lst\n",
    "print(names(lst))"
   ]
  },
  {
   "cell_type": "code",
   "execution_count": 15,
   "id": "eb890f33-1f80-4348-8fbf-5eed454c6972",
   "metadata": {},
   "outputs": [
    {
     "data": {
      "text/html": [
       "<table class=\"dataframe\">\n",
       "<caption>A tibble: 3 × 2</caption>\n",
       "<thead>\n",
       "\t<tr><th scope=col>Region</th><th scope=col>Score_CRISPR</th></tr>\n",
       "\t<tr><th scope=col>&lt;chr&gt;</th><th scope=col>&lt;dbl&gt;</th></tr>\n",
       "</thead>\n",
       "<tbody>\n",
       "\t<tr><td>chr11:4092104-4092566</td><td>-0.13403994</td></tr>\n",
       "\t<tr><td>chr11:4094204-4095676</td><td>-0.04821938</td></tr>\n",
       "\t<tr><td>chr11:4144511-4147030</td><td>-0.07024901</td></tr>\n",
       "</tbody>\n",
       "</table>\n"
      ],
      "text/latex": [
       "A tibble: 3 × 2\n",
       "\\begin{tabular}{ll}\n",
       " Region & Score\\_CRISPR\\\\\n",
       " <chr> & <dbl>\\\\\n",
       "\\hline\n",
       "\t chr11:4092104-4092566 & -0.13403994\\\\\n",
       "\t chr11:4094204-4095676 & -0.04821938\\\\\n",
       "\t chr11:4144511-4147030 & -0.07024901\\\\\n",
       "\\end{tabular}\n"
      ],
      "text/markdown": [
       "\n",
       "A tibble: 3 × 2\n",
       "\n",
       "| Region &lt;chr&gt; | Score_CRISPR &lt;dbl&gt; |\n",
       "|---|---|\n",
       "| chr11:4092104-4092566 | -0.13403994 |\n",
       "| chr11:4094204-4095676 | -0.04821938 |\n",
       "| chr11:4144511-4147030 | -0.07024901 |\n",
       "\n"
      ],
      "text/plain": [
       "  Region                Score_CRISPR\n",
       "1 chr11:4092104-4092566 -0.13403994 \n",
       "2 chr11:4094204-4095676 -0.04821938 \n",
       "3 chr11:4144511-4147030 -0.07024901 "
      ]
     },
     "metadata": {},
     "output_type": "display_data"
    }
   ],
   "source": [
    "### get the output assay\n",
    "lst = lst_dat_region_score\n",
    "dat = lst[[TXT_ASSAY_OUT]]\n",
    "dat = dat %>% dplyr::select(Region, Score) %>% dplyr::rename(Score_CRISPR = Score)\n",
    "dat_region_score_out = dat\n",
    "head(dat, 3)"
   ]
  },
  {
   "cell_type": "code",
   "execution_count": 19,
   "id": "516fb137-9f55-4dbd-bdc3-39c85c610a29",
   "metadata": {},
   "outputs": [
    {
     "data": {
      "text/html": [
       "0.253219189328972"
      ],
      "text/latex": [
       "0.253219189328972"
      ],
      "text/markdown": [
       "0.253219189328972"
      ],
      "text/plain": [
       "[1] 0.2532192"
      ]
     },
     "metadata": {},
     "output_type": "display_data"
    }
   ],
   "source": [
    "### get the output assay\n",
    "lst = lst_dat_region_score\n",
    "dat = lst[[TXT_ASSAY_OUT]]\n",
    "dat = dat %>% dplyr::select(Region, Score) %>% dplyr::rename(Score_CRISPR = Score)\n",
    "dat_region_score_out = dat\n",
    "\n",
    "txt_assay = \"WSTARR\"\n",
    "\n",
    "### get the input assay\n",
    "lst = lst_dat_region_score\n",
    "dat = lst[[txt_assay]]\n",
    "dat = dat %>% dplyr::select(Region, Score) %>% dplyr::rename(Score_Reporter = Score)\n",
    "dat_region_score_inp = dat\n",
    "\n",
    "### combine group and score\n",
    "dat = dplyr::inner_join(\n",
    "    dat_region_score_out,\n",
    "    dat_region_score_inp,\n",
    "    by = \"Region\"\n",
    ")\n",
    "dat_region_merge = dat\n",
    "\n",
    "# 2) Compute the observed distance correlation\n",
    "dat = dat_region_merge\n",
    "x   = dat$Score_CRISPR   # your CRISPRi z-scores\n",
    "y   = dat$Score_Reporter # your reporter scores\n",
    "obs_dcor = distance_correlation(x, y)\n",
    "\n",
    "obs_dcor"
   ]
  },
  {
   "cell_type": "code",
   "execution_count": 21,
   "id": "59f2407c-d47d-4a98-a871-8f3a6a95055a",
   "metadata": {},
   "outputs": [
    {
     "name": "stdout",
     "output_type": "stream",
     "text": [
      "Observed dCor = 0.3373; permutation p = 0\n",
      "Observed dCor = 0.2532; permutation p = 0.01\n",
      "Observed dCor = 0.2071; permutation p = 0.02\n",
      "Observed dCor = 0.3424; permutation p = 0\n",
      "Observed dCor = 0.4537; permutation p = 0\n"
     ]
    },
    {
     "data": {
      "text/html": [
       "<table class=\"dataframe\">\n",
       "<caption>A tibble: 5 × 5</caption>\n",
       "<thead>\n",
       "\t<tr><th scope=col>Assay_Input</th><th scope=col>dCor</th><th scope=col>Pvalue</th><th scope=col>Size</th><th scope=col>Assay_Output</th></tr>\n",
       "\t<tr><th scope=col>&lt;chr&gt;</th><th scope=col>&lt;dbl&gt;</th><th scope=col>&lt;dbl&gt;</th><th scope=col>&lt;int&gt;</th><th scope=col>&lt;chr&gt;</th></tr>\n",
       "</thead>\n",
       "<tbody>\n",
       "\t<tr><td>ASTARR</td><td>0.3372526</td><td>0.00</td><td>1330</td><td>CRISPRi-HCRFF</td></tr>\n",
       "\t<tr><td>WSTARR</td><td>0.2532192</td><td>0.01</td><td>1306</td><td>CRISPRi-HCRFF</td></tr>\n",
       "\t<tr><td>LMPRA </td><td>0.2070989</td><td>0.02</td><td> 721</td><td>CRISPRi-HCRFF</td></tr>\n",
       "\t<tr><td>TMPRA </td><td>0.3423868</td><td>0.00</td><td> 632</td><td>CRISPRi-HCRFF</td></tr>\n",
       "\t<tr><td>ATAC  </td><td>0.4536955</td><td>0.00</td><td>1330</td><td>CRISPRi-HCRFF</td></tr>\n",
       "</tbody>\n",
       "</table>\n"
      ],
      "text/latex": [
       "A tibble: 5 × 5\n",
       "\\begin{tabular}{lllll}\n",
       " Assay\\_Input & dCor & Pvalue & Size & Assay\\_Output\\\\\n",
       " <chr> & <dbl> & <dbl> & <int> & <chr>\\\\\n",
       "\\hline\n",
       "\t ASTARR & 0.3372526 & 0.00 & 1330 & CRISPRi-HCRFF\\\\\n",
       "\t WSTARR & 0.2532192 & 0.01 & 1306 & CRISPRi-HCRFF\\\\\n",
       "\t LMPRA  & 0.2070989 & 0.02 &  721 & CRISPRi-HCRFF\\\\\n",
       "\t TMPRA  & 0.3423868 & 0.00 &  632 & CRISPRi-HCRFF\\\\\n",
       "\t ATAC   & 0.4536955 & 0.00 & 1330 & CRISPRi-HCRFF\\\\\n",
       "\\end{tabular}\n"
      ],
      "text/markdown": [
       "\n",
       "A tibble: 5 × 5\n",
       "\n",
       "| Assay_Input &lt;chr&gt; | dCor &lt;dbl&gt; | Pvalue &lt;dbl&gt; | Size &lt;int&gt; | Assay_Output &lt;chr&gt; |\n",
       "|---|---|---|---|---|\n",
       "| ASTARR | 0.3372526 | 0.00 | 1330 | CRISPRi-HCRFF |\n",
       "| WSTARR | 0.2532192 | 0.01 | 1306 | CRISPRi-HCRFF |\n",
       "| LMPRA  | 0.2070989 | 0.02 |  721 | CRISPRi-HCRFF |\n",
       "| TMPRA  | 0.3423868 | 0.00 |  632 | CRISPRi-HCRFF |\n",
       "| ATAC   | 0.4536955 | 0.00 | 1330 | CRISPRi-HCRFF |\n",
       "\n"
      ],
      "text/plain": [
       "  Assay_Input dCor      Pvalue Size Assay_Output \n",
       "1 ASTARR      0.3372526 0.00   1330 CRISPRi-HCRFF\n",
       "2 WSTARR      0.2532192 0.01   1306 CRISPRi-HCRFF\n",
       "3 LMPRA       0.2070989 0.02    721 CRISPRi-HCRFF\n",
       "4 TMPRA       0.3423868 0.00    632 CRISPRi-HCRFF\n",
       "5 ATAC        0.4536955 0.00   1330 CRISPRi-HCRFF"
      ]
     },
     "metadata": {},
     "output_type": "display_data"
    }
   ],
   "source": [
    "### get the output assay\n",
    "lst = lst_dat_region_score\n",
    "dat = lst[[TXT_ASSAY_OUT]]\n",
    "dat = dat %>% dplyr::select(Region, Score) %>% dplyr::rename(Score_CRISPR = Score)\n",
    "dat_region_score_out = dat\n",
    "\n",
    "lst = lapply(VEC_TXT_ASSAY, function(txt_assay){\n",
    "    ### get the input assay\n",
    "    lst = lst_dat_region_score\n",
    "    dat = lst[[txt_assay]]\n",
    "    dat = dat %>% dplyr::select(Region, Score) %>% dplyr::rename(Score_Reporter = Score)\n",
    "    dat_region_score_inp = dat\n",
    "    \n",
    "    ### combine group and score\n",
    "    dat = dplyr::inner_join(\n",
    "        dat_region_score_out,\n",
    "        dat_region_score_inp,\n",
    "        by = \"Region\"\n",
    "    )\n",
    "    dat_region_merge = dat\n",
    "\n",
    "    # 2) Compute the observed distance correlation\n",
    "    dat = dat_region_merge\n",
    "    x   = dat$Score_CRISPR   # your CRISPRi z-scores\n",
    "    y   = dat$Score_Reporter # your reporter scores\n",
    "    obs_dcor = distance_correlation(x, y)\n",
    "    \n",
    "    # 3) Permutation test to get a p-value\n",
    "    set.seed(123)\n",
    "    B = 100\n",
    "    perm_dcors = replicate(B, {\n",
    "      y_perm = sample(y) # randomly shuffle y\n",
    "      distance_correlation(x, y_perm)\n",
    "    })\n",
    "    p_value <- mean(perm_dcors >= obs_dcor)    # one-sided test\n",
    "    \n",
    "    # 4) Report\n",
    "    cat(sprintf(\n",
    "      \"Observed dCor = %.4f; permutation p = %.4g\\n\", \n",
    "      obs_dcor, p_value\n",
    "    ))\n",
    "    \n",
    "    ###\n",
    "    res = tibble(\n",
    "        \"dCor\"   = obs_dcor, \n",
    "        \"Pvalue\" = p_value, \n",
    "        \"Size\"   = as.integer(nrow(dat_region_merge))\n",
    "    )\n",
    "    return(res)\n",
    "})\n",
    "\n",
    "###\n",
    "dat = bind_rows(lst, .id = \"Assay_Input\")\n",
    "dat$Assay_Output = TXT_ASSAY_OUT\n",
    "head(dat)"
   ]
  },
  {
   "cell_type": "code",
   "execution_count": null,
   "id": "c2d2082a-b5b2-4be7-927a-8562bf238355",
   "metadata": {},
   "outputs": [],
   "source": []
  },
  {
   "cell_type": "code",
   "execution_count": null,
   "id": "159716d5-8cda-482e-b12f-d99a36f824c1",
   "metadata": {},
   "outputs": [],
   "source": []
  },
  {
   "cell_type": "code",
   "execution_count": null,
   "id": "3db29af2-b52b-49df-b7df-0463e691149d",
   "metadata": {},
   "outputs": [],
   "source": []
  },
  {
   "cell_type": "code",
   "execution_count": 41,
   "id": "0574e688-b47b-4676-900a-2209d60ba52d",
   "metadata": {},
   "outputs": [
    {
     "name": "stdout",
     "output_type": "stream",
     "text": [
      "[1] \"ASTARR\"                \"ATAC\"                  \"CRISPRi-Growth\"       \n",
      "[4] \"CRISPRi-HCRFF\"         \"ENCODE-rE2G Benchmark\" \"LMPRA\"                \n",
      "[7] \"TMPRA\"                 \"WSTARR\"               \n"
     ]
    }
   ],
   "source": [
    "### select and split regions by assay\n",
    "idx = \"fcc_astarr_macs_input_union\"\n",
    "lst = lst_dat_region_score_import\n",
    "\n",
    "dat = lst[[idx]]\n",
    "lst = split(dat, dat$Assay_Label)\n",
    "\n",
    "### assign and show\n",
    "lst_dat_region_score = lst\n",
    "print(names(lst))"
   ]
  },
  {
   "cell_type": "code",
   "execution_count": 34,
   "id": "f3e528a6-fa89-4882-aa3c-22efc8ad9726",
   "metadata": {},
   "outputs": [],
   "source": [
    "vec_num_hit_rate = c(0.01, 0.05, 0.1)\n",
    "names(vec_num_hit_rate) = c(\"Top 1%\", \"Top 5%\", \"Top 10%\")"
   ]
  },
  {
   "cell_type": "code",
   "execution_count": 40,
   "id": "e79c9674-06d3-4b0f-acb9-ff981ee086b5",
   "metadata": {},
   "outputs": [
    {
     "data": {
      "text/html": [
       "<table class=\"dataframe\">\n",
       "<caption>A tibble: 15 × 9</caption>\n",
       "<thead>\n",
       "\t<tr><th scope=col>Assay_Output</th><th scope=col>Assay_Input</th><th scope=col>Label</th><th scope=col>CutOff</th><th scope=col>Statistics</th><th scope=col>Pvalue</th><th scope=col>Is_Signif</th><th scope=col>Size</th><th scope=col>Cliffs_Delta</th></tr>\n",
       "\t<tr><th scope=col>&lt;chr&gt;</th><th scope=col>&lt;chr&gt;</th><th scope=col>&lt;chr&gt;</th><th scope=col>&lt;dbl&gt;</th><th scope=col>&lt;dbl&gt;</th><th scope=col>&lt;dbl&gt;</th><th scope=col>&lt;lgl&gt;</th><th scope=col>&lt;int&gt;</th><th scope=col>&lt;dbl&gt;</th></tr>\n",
       "</thead>\n",
       "<tbody>\n",
       "\t<tr><td>CRISPRi-HCRFF</td><td>ASTARR</td><td>Top 1% </td><td>1.2258364</td><td> 5543.0</td><td>1.028061e-02</td><td>FALSE</td><td>1330</td><td>0.398</td></tr>\n",
       "\t<tr><td>CRISPRi-HCRFF</td><td>WSTARR</td><td>Top 1% </td><td>1.2258364</td><td> 4962.0</td><td>3.638811e-03</td><td> TRUE</td><td>1306</td><td>0.451</td></tr>\n",
       "\t<tr><td>CRISPRi-HCRFF</td><td>LMPRA </td><td>Top 1% </td><td>1.2258364</td><td> 3136.5</td><td>1.184740e-01</td><td>FALSE</td><td> 721</td><td>0.263</td></tr>\n",
       "\t<tr><td>CRISPRi-HCRFF</td><td>TMPRA </td><td>Top 1% </td><td>1.2258364</td><td>  759.0</td><td>2.953451e-03</td><td> TRUE</td><td> 632</td><td>0.653</td></tr>\n",
       "\t<tr><td>CRISPRi-HCRFF</td><td>ATAC  </td><td>Top 1% </td><td>1.2258364</td><td> 3053.0</td><td>1.646718e-05</td><td> TRUE</td><td>1330</td><td>0.669</td></tr>\n",
       "\t<tr><td>CRISPRi-HCRFF</td><td>ASTARR</td><td>Top 5% </td><td>0.4836082</td><td>34869.0</td><td>1.514840e-02</td><td>FALSE</td><td>1330</td><td>0.176</td></tr>\n",
       "\t<tr><td>CRISPRi-HCRFF</td><td>WSTARR</td><td>Top 5% </td><td>0.4836082</td><td>30557.0</td><td>5.188335e-04</td><td> TRUE</td><td>1306</td><td>0.253</td></tr>\n",
       "\t<tr><td>CRISPRi-HCRFF</td><td>LMPRA </td><td>Top 5% </td><td>0.4836082</td><td> 9751.0</td><td>2.513025e-03</td><td> TRUE</td><td> 721</td><td>0.284</td></tr>\n",
       "\t<tr><td>CRISPRi-HCRFF</td><td>TMPRA </td><td>Top 5% </td><td>0.4836082</td><td> 5879.0</td><td>2.863946e-03</td><td> TRUE</td><td> 632</td><td>0.328</td></tr>\n",
       "\t<tr><td>CRISPRi-HCRFF</td><td>ATAC  </td><td>Top 5% </td><td>0.4836082</td><td>29225.0</td><td>1.945411e-05</td><td> TRUE</td><td>1330</td><td>0.309</td></tr>\n",
       "\t<tr><td>CRISPRi-HCRFF</td><td>ASTARR</td><td>Top 10%</td><td>0.2834525</td><td>66607.0</td><td>1.988193e-03</td><td> TRUE</td><td>1330</td><td>0.163</td></tr>\n",
       "\t<tr><td>CRISPRi-HCRFF</td><td>WSTARR</td><td>Top 10%</td><td>0.2834525</td><td>71269.0</td><td>2.531520e-01</td><td>FALSE</td><td>1306</td><td>0.061</td></tr>\n",
       "\t<tr><td>CRISPRi-HCRFF</td><td>LMPRA </td><td>Top 10%</td><td>0.2834525</td><td>16301.0</td><td>9.854182e-04</td><td> TRUE</td><td> 721</td><td>0.246</td></tr>\n",
       "\t<tr><td>CRISPRi-HCRFF</td><td>TMPRA </td><td>Top 10%</td><td>0.2834525</td><td>12290.0</td><td>4.341928e-02</td><td>FALSE</td><td> 632</td><td>0.170</td></tr>\n",
       "\t<tr><td>CRISPRi-HCRFF</td><td>ATAC  </td><td>Top 10%</td><td>0.2834525</td><td>67909.0</td><td>5.400027e-03</td><td> TRUE</td><td>1330</td><td>0.147</td></tr>\n",
       "</tbody>\n",
       "</table>\n"
      ],
      "text/latex": [
       "A tibble: 15 × 9\n",
       "\\begin{tabular}{lllllllll}\n",
       " Assay\\_Output & Assay\\_Input & Label & CutOff & Statistics & Pvalue & Is\\_Signif & Size & Cliffs\\_Delta\\\\\n",
       " <chr> & <chr> & <chr> & <dbl> & <dbl> & <dbl> & <lgl> & <int> & <dbl>\\\\\n",
       "\\hline\n",
       "\t CRISPRi-HCRFF & ASTARR & Top 1\\%  & 1.2258364 &  5543.0 & 1.028061e-02 & FALSE & 1330 & 0.398\\\\\n",
       "\t CRISPRi-HCRFF & WSTARR & Top 1\\%  & 1.2258364 &  4962.0 & 3.638811e-03 &  TRUE & 1306 & 0.451\\\\\n",
       "\t CRISPRi-HCRFF & LMPRA  & Top 1\\%  & 1.2258364 &  3136.5 & 1.184740e-01 & FALSE &  721 & 0.263\\\\\n",
       "\t CRISPRi-HCRFF & TMPRA  & Top 1\\%  & 1.2258364 &   759.0 & 2.953451e-03 &  TRUE &  632 & 0.653\\\\\n",
       "\t CRISPRi-HCRFF & ATAC   & Top 1\\%  & 1.2258364 &  3053.0 & 1.646718e-05 &  TRUE & 1330 & 0.669\\\\\n",
       "\t CRISPRi-HCRFF & ASTARR & Top 5\\%  & 0.4836082 & 34869.0 & 1.514840e-02 & FALSE & 1330 & 0.176\\\\\n",
       "\t CRISPRi-HCRFF & WSTARR & Top 5\\%  & 0.4836082 & 30557.0 & 5.188335e-04 &  TRUE & 1306 & 0.253\\\\\n",
       "\t CRISPRi-HCRFF & LMPRA  & Top 5\\%  & 0.4836082 &  9751.0 & 2.513025e-03 &  TRUE &  721 & 0.284\\\\\n",
       "\t CRISPRi-HCRFF & TMPRA  & Top 5\\%  & 0.4836082 &  5879.0 & 2.863946e-03 &  TRUE &  632 & 0.328\\\\\n",
       "\t CRISPRi-HCRFF & ATAC   & Top 5\\%  & 0.4836082 & 29225.0 & 1.945411e-05 &  TRUE & 1330 & 0.309\\\\\n",
       "\t CRISPRi-HCRFF & ASTARR & Top 10\\% & 0.2834525 & 66607.0 & 1.988193e-03 &  TRUE & 1330 & 0.163\\\\\n",
       "\t CRISPRi-HCRFF & WSTARR & Top 10\\% & 0.2834525 & 71269.0 & 2.531520e-01 & FALSE & 1306 & 0.061\\\\\n",
       "\t CRISPRi-HCRFF & LMPRA  & Top 10\\% & 0.2834525 & 16301.0 & 9.854182e-04 &  TRUE &  721 & 0.246\\\\\n",
       "\t CRISPRi-HCRFF & TMPRA  & Top 10\\% & 0.2834525 & 12290.0 & 4.341928e-02 & FALSE &  632 & 0.170\\\\\n",
       "\t CRISPRi-HCRFF & ATAC   & Top 10\\% & 0.2834525 & 67909.0 & 5.400027e-03 &  TRUE & 1330 & 0.147\\\\\n",
       "\\end{tabular}\n"
      ],
      "text/markdown": [
       "\n",
       "A tibble: 15 × 9\n",
       "\n",
       "| Assay_Output &lt;chr&gt; | Assay_Input &lt;chr&gt; | Label &lt;chr&gt; | CutOff &lt;dbl&gt; | Statistics &lt;dbl&gt; | Pvalue &lt;dbl&gt; | Is_Signif &lt;lgl&gt; | Size &lt;int&gt; | Cliffs_Delta &lt;dbl&gt; |\n",
       "|---|---|---|---|---|---|---|---|---|\n",
       "| CRISPRi-HCRFF | ASTARR | Top 1%  | 1.2258364 |  5543.0 | 1.028061e-02 | FALSE | 1330 | 0.398 |\n",
       "| CRISPRi-HCRFF | WSTARR | Top 1%  | 1.2258364 |  4962.0 | 3.638811e-03 |  TRUE | 1306 | 0.451 |\n",
       "| CRISPRi-HCRFF | LMPRA  | Top 1%  | 1.2258364 |  3136.5 | 1.184740e-01 | FALSE |  721 | 0.263 |\n",
       "| CRISPRi-HCRFF | TMPRA  | Top 1%  | 1.2258364 |   759.0 | 2.953451e-03 |  TRUE |  632 | 0.653 |\n",
       "| CRISPRi-HCRFF | ATAC   | Top 1%  | 1.2258364 |  3053.0 | 1.646718e-05 |  TRUE | 1330 | 0.669 |\n",
       "| CRISPRi-HCRFF | ASTARR | Top 5%  | 0.4836082 | 34869.0 | 1.514840e-02 | FALSE | 1330 | 0.176 |\n",
       "| CRISPRi-HCRFF | WSTARR | Top 5%  | 0.4836082 | 30557.0 | 5.188335e-04 |  TRUE | 1306 | 0.253 |\n",
       "| CRISPRi-HCRFF | LMPRA  | Top 5%  | 0.4836082 |  9751.0 | 2.513025e-03 |  TRUE |  721 | 0.284 |\n",
       "| CRISPRi-HCRFF | TMPRA  | Top 5%  | 0.4836082 |  5879.0 | 2.863946e-03 |  TRUE |  632 | 0.328 |\n",
       "| CRISPRi-HCRFF | ATAC   | Top 5%  | 0.4836082 | 29225.0 | 1.945411e-05 |  TRUE | 1330 | 0.309 |\n",
       "| CRISPRi-HCRFF | ASTARR | Top 10% | 0.2834525 | 66607.0 | 1.988193e-03 |  TRUE | 1330 | 0.163 |\n",
       "| CRISPRi-HCRFF | WSTARR | Top 10% | 0.2834525 | 71269.0 | 2.531520e-01 | FALSE | 1306 | 0.061 |\n",
       "| CRISPRi-HCRFF | LMPRA  | Top 10% | 0.2834525 | 16301.0 | 9.854182e-04 |  TRUE |  721 | 0.246 |\n",
       "| CRISPRi-HCRFF | TMPRA  | Top 10% | 0.2834525 | 12290.0 | 4.341928e-02 | FALSE |  632 | 0.170 |\n",
       "| CRISPRi-HCRFF | ATAC   | Top 10% | 0.2834525 | 67909.0 | 5.400027e-03 |  TRUE | 1330 | 0.147 |\n",
       "\n"
      ],
      "text/plain": [
       "   Assay_Output  Assay_Input Label   CutOff    Statistics Pvalue      \n",
       "1  CRISPRi-HCRFF ASTARR      Top 1%  1.2258364  5543.0    1.028061e-02\n",
       "2  CRISPRi-HCRFF WSTARR      Top 1%  1.2258364  4962.0    3.638811e-03\n",
       "3  CRISPRi-HCRFF LMPRA       Top 1%  1.2258364  3136.5    1.184740e-01\n",
       "4  CRISPRi-HCRFF TMPRA       Top 1%  1.2258364   759.0    2.953451e-03\n",
       "5  CRISPRi-HCRFF ATAC        Top 1%  1.2258364  3053.0    1.646718e-05\n",
       "6  CRISPRi-HCRFF ASTARR      Top 5%  0.4836082 34869.0    1.514840e-02\n",
       "7  CRISPRi-HCRFF WSTARR      Top 5%  0.4836082 30557.0    5.188335e-04\n",
       "8  CRISPRi-HCRFF LMPRA       Top 5%  0.4836082  9751.0    2.513025e-03\n",
       "9  CRISPRi-HCRFF TMPRA       Top 5%  0.4836082  5879.0    2.863946e-03\n",
       "10 CRISPRi-HCRFF ATAC        Top 5%  0.4836082 29225.0    1.945411e-05\n",
       "11 CRISPRi-HCRFF ASTARR      Top 10% 0.2834525 66607.0    1.988193e-03\n",
       "12 CRISPRi-HCRFF WSTARR      Top 10% 0.2834525 71269.0    2.531520e-01\n",
       "13 CRISPRi-HCRFF LMPRA       Top 10% 0.2834525 16301.0    9.854182e-04\n",
       "14 CRISPRi-HCRFF TMPRA       Top 10% 0.2834525 12290.0    4.341928e-02\n",
       "15 CRISPRi-HCRFF ATAC        Top 10% 0.2834525 67909.0    5.400027e-03\n",
       "   Is_Signif Size Cliffs_Delta\n",
       "1  FALSE     1330 0.398       \n",
       "2   TRUE     1306 0.451       \n",
       "3  FALSE      721 0.263       \n",
       "4   TRUE      632 0.653       \n",
       "5   TRUE     1330 0.669       \n",
       "6  FALSE     1330 0.176       \n",
       "7   TRUE     1306 0.253       \n",
       "8   TRUE      721 0.284       \n",
       "9   TRUE      632 0.328       \n",
       "10  TRUE     1330 0.309       \n",
       "11  TRUE     1330 0.163       \n",
       "12 FALSE     1306 0.061       \n",
       "13  TRUE      721 0.246       \n",
       "14 FALSE      632 0.170       \n",
       "15  TRUE     1330 0.147       "
      ]
     },
     "metadata": {},
     "output_type": "display_data"
    }
   ],
   "source": [
    "lst = lapply(vec_num_hit_rate, function(num_hit_rate){\n",
    "    ### get the output assay\n",
    "    lst = lst_dat_region_score\n",
    "    dat = lst[[TXT_ASSAY_OUT]]\n",
    "    \n",
    "    ### get the score of output assay\n",
    "    vec = dat$Score\n",
    "    vec = abs(vec)\n",
    "    vec_num_score_out = vec\n",
    "    \n",
    "    ### determine score cutoff\n",
    "    num_cutoff = quantile(vec_num_score_out, probs = 1 - num_hit_rate)\n",
    "    \n",
    "    ### setup group by cutoff\n",
    "    dat$Group = ifelse(vec_num_score_out >= num_cutoff, 1, 0)\n",
    "    dat = dat %>% dplyr::select(Region, Group)\n",
    "    dat_region_group = dat\n",
    "\n",
    "    lst = lapply(VEC_TXT_ASSAY, function(txt_assay){\n",
    "        ### get the input assay\n",
    "        lst = lst_dat_region_score\n",
    "        dat = lst[[txt_assay]]\n",
    "        dat = dat %>% dplyr::select(Region, Score)\n",
    "        dat_region_score_inp = dat\n",
    "        \n",
    "        ### combine group and score\n",
    "        dat = dplyr::inner_join(\n",
    "            dat_region_group,\n",
    "            dat_region_score_inp,\n",
    "            by = \"Region\"\n",
    "        )\n",
    "        dat_region_merge = dat\n",
    "    \n",
    "        ###\n",
    "        dat  = dat_region_merge\n",
    "        lst  = split(dat$Score, dat$Group)\n",
    "        vec1 = lst[[\"1\"]]\n",
    "        vec2 = lst[[\"0\"]]\n",
    "        num  = fun_cliffs_delta(vec1, vec2)\n",
    "        num_cliffs_delta = num\n",
    "        \n",
    "        ###\n",
    "        dat  = dat_region_merge\n",
    "        fit = wilcox.test(Score ~ Group, data = dat)\n",
    "        \n",
    "        ###\n",
    "        res = tibble(\n",
    "            \"Statistics\"   = fit$statistic, \n",
    "            \"Pvalue\"       = fit$p.value, \n",
    "            \"Size\"         = as.integer(nrow(dat)), \n",
    "            \"Cliffs_Delta\" = round(num_cliffs_delta, 3)\n",
    "        )\n",
    "        return(res)\n",
    "    })\n",
    "\n",
    "    ###\n",
    "    dat = bind_rows(lst, .id = \"Assay_Input\")\n",
    "    dat$Assay_Output = TXT_ASSAY_OUT\n",
    "    dat$CutOff       = num_cutoff\n",
    "\n",
    "    return(dat)\n",
    "})\n",
    "\n",
    "dat = bind_rows(lst, .id = \"Label\")\n",
    "dat = dat %>% \n",
    "    dplyr::mutate(Is_Signif = Pvalue < 0.01) %>%\n",
    "    dplyr::select(Assay_Output, Assay_Input, Label, CutOff, Statistics, Pvalue, Is_Signif, Size, Cliffs_Delta)\n",
    "dat"
   ]
  },
  {
   "cell_type": "code",
   "execution_count": null,
   "id": "c6677aa4-f122-44ce-ad03-656ed1991907",
   "metadata": {},
   "outputs": [],
   "source": []
  },
  {
   "cell_type": "code",
   "execution_count": null,
   "id": "66db4691-b1fe-4613-abdc-ae51ee195a77",
   "metadata": {},
   "outputs": [],
   "source": []
  },
  {
   "cell_type": "code",
   "execution_count": null,
   "id": "34f06fcb-732b-4939-9eac-d457cdc24a7f",
   "metadata": {},
   "outputs": [],
   "source": []
  },
  {
   "cell_type": "markdown",
   "id": "d229b766-772c-4328-805d-60287a7818a5",
   "metadata": {},
   "source": [
    "## Prepare CRISPR z-cutoff"
   ]
  },
  {
   "cell_type": "code",
   "execution_count": 10,
   "id": "3b0062d6-d0af-4ac4-8338-87fec7892240",
   "metadata": {},
   "outputs": [
    {
     "name": "stdout",
     "output_type": "stream",
     "text": [
      "[1] \"ASTARR\"                \"ATAC\"                  \"CRISPRi-Growth\"       \n",
      "[4] \"CRISPRi-HCRFF\"         \"ENCODE-rE2G Benchmark\" \"LMPRA\"                \n",
      "[7] \"TMPRA\"                 \"WSTARR\"               \n"
     ]
    }
   ],
   "source": [
    "### select and split regions by assay\n",
    "idx = \"fcc_astarr_macs_input_union\"\n",
    "lst = lst_dat_region_score_import\n",
    "\n",
    "dat = lst[[idx]]\n",
    "lst = split(dat, dat$Assay_Label)\n",
    "\n",
    "### assign and show\n",
    "lst_dat_region_score = lst\n",
    "print(names(lst))"
   ]
  },
  {
   "cell_type": "code",
   "execution_count": 11,
   "id": "2ed655a8-800e-4d15-8c96-5dde7313ce1d",
   "metadata": {},
   "outputs": [
    {
     "name": "stdout",
     "output_type": "stream",
     "text": [
      "Score Cut-Off: \n",
      "     99% \n",
      "1.225836 \n",
      "\n",
      "[1] 1330    2\n"
     ]
    },
    {
     "data": {
      "text/html": [
       "<table>\n",
       " <thead>\n",
       "  <tr>\n",
       "   <th style=\"text-align:left;\"> Region </th>\n",
       "   <th style=\"text-align:right;\"> Group </th>\n",
       "  </tr>\n",
       " </thead>\n",
       "<tbody>\n",
       "  <tr>\n",
       "   <td style=\"text-align:left;\"> chr11:4092104-4092566 </td>\n",
       "   <td style=\"text-align:right;\"> 0 </td>\n",
       "  </tr>\n",
       "  <tr>\n",
       "   <td style=\"text-align:left;\"> chr11:4094204-4095676 </td>\n",
       "   <td style=\"text-align:right;\"> 0 </td>\n",
       "  </tr>\n",
       "  <tr>\n",
       "   <td style=\"text-align:left;\"> chr11:4144511-4147030 </td>\n",
       "   <td style=\"text-align:right;\"> 0 </td>\n",
       "  </tr>\n",
       "</tbody>\n",
       "</table>"
      ]
     },
     "metadata": {},
     "output_type": "display_data"
    }
   ],
   "source": [
    "### get the output assay\n",
    "lst = lst_dat_region_score\n",
    "dat = lst[[TXT_ASSAY_OUT]]\n",
    "\n",
    "### get the score of output assay\n",
    "vec = dat$Score\n",
    "vec = abs(vec)\n",
    "vec_num_score = vec\n",
    "\n",
    "### determine score cutoff\n",
    "num_hit_rate = 0.01\n",
    "num_cutoff = quantile(vec_num_score, probs = 1 - num_hit_rate)\n",
    "cat(\"Score Cut-Off:\", \"\\n\")\n",
    "print(num_cutoff)\n",
    "cat(\"\\n\")\n",
    "\n",
    "### setup group by cutoff\n",
    "dat$Group = ifelse(vec_num_score >= num_cutoff, 1, 0)\n",
    "dat = dat %>% dplyr::select(Region, Group)\n",
    "\n",
    "### assign and show\n",
    "dat_region_group = dat\n",
    "print(dim(dat))\n",
    "fun_display_table(head(dat, 3))"
   ]
  },
  {
   "cell_type": "markdown",
   "id": "fdc54683-cb35-43dd-85cf-5e412783b9c8",
   "metadata": {},
   "source": [
    "## Test"
   ]
  },
  {
   "cell_type": "code",
   "execution_count": 33,
   "id": "6170c3f1-d9e4-4627-9257-17664676bf8d",
   "metadata": {},
   "outputs": [
    {
     "data": {
      "text/html": [
       "<table class=\"dataframe\">\n",
       "<caption>A tibble: 5 × 5</caption>\n",
       "<thead>\n",
       "\t<tr><th scope=col>Assay</th><th scope=col>Statistics</th><th scope=col>Pvalue</th><th scope=col>Size</th><th scope=col>Cliffs_Delta</th></tr>\n",
       "\t<tr><th scope=col>&lt;chr&gt;</th><th scope=col>&lt;dbl&gt;</th><th scope=col>&lt;dbl&gt;</th><th scope=col>&lt;int&gt;</th><th scope=col>&lt;dbl&gt;</th></tr>\n",
       "</thead>\n",
       "<tbody>\n",
       "\t<tr><td>ASTARR</td><td>5543.0</td><td>1.028061e-02</td><td>1330</td><td>0.398</td></tr>\n",
       "\t<tr><td>WSTARR</td><td>4962.0</td><td>3.638811e-03</td><td>1306</td><td>0.451</td></tr>\n",
       "\t<tr><td>LMPRA </td><td>3136.5</td><td>1.184740e-01</td><td> 721</td><td>0.263</td></tr>\n",
       "\t<tr><td>TMPRA </td><td> 759.0</td><td>2.953451e-03</td><td> 632</td><td>0.653</td></tr>\n",
       "\t<tr><td>ATAC  </td><td>3053.0</td><td>1.646718e-05</td><td>1330</td><td>0.669</td></tr>\n",
       "</tbody>\n",
       "</table>\n"
      ],
      "text/latex": [
       "A tibble: 5 × 5\n",
       "\\begin{tabular}{lllll}\n",
       " Assay & Statistics & Pvalue & Size & Cliffs\\_Delta\\\\\n",
       " <chr> & <dbl> & <dbl> & <int> & <dbl>\\\\\n",
       "\\hline\n",
       "\t ASTARR & 5543.0 & 1.028061e-02 & 1330 & 0.398\\\\\n",
       "\t WSTARR & 4962.0 & 3.638811e-03 & 1306 & 0.451\\\\\n",
       "\t LMPRA  & 3136.5 & 1.184740e-01 &  721 & 0.263\\\\\n",
       "\t TMPRA  &  759.0 & 2.953451e-03 &  632 & 0.653\\\\\n",
       "\t ATAC   & 3053.0 & 1.646718e-05 & 1330 & 0.669\\\\\n",
       "\\end{tabular}\n"
      ],
      "text/markdown": [
       "\n",
       "A tibble: 5 × 5\n",
       "\n",
       "| Assay &lt;chr&gt; | Statistics &lt;dbl&gt; | Pvalue &lt;dbl&gt; | Size &lt;int&gt; | Cliffs_Delta &lt;dbl&gt; |\n",
       "|---|---|---|---|---|\n",
       "| ASTARR | 5543.0 | 1.028061e-02 | 1330 | 0.398 |\n",
       "| WSTARR | 4962.0 | 3.638811e-03 | 1306 | 0.451 |\n",
       "| LMPRA  | 3136.5 | 1.184740e-01 |  721 | 0.263 |\n",
       "| TMPRA  |  759.0 | 2.953451e-03 |  632 | 0.653 |\n",
       "| ATAC   | 3053.0 | 1.646718e-05 | 1330 | 0.669 |\n",
       "\n"
      ],
      "text/plain": [
       "  Assay  Statistics Pvalue       Size Cliffs_Delta\n",
       "1 ASTARR 5543.0     1.028061e-02 1330 0.398       \n",
       "2 WSTARR 4962.0     3.638811e-03 1306 0.451       \n",
       "3 LMPRA  3136.5     1.184740e-01  721 0.263       \n",
       "4 TMPRA   759.0     2.953451e-03  632 0.653       \n",
       "5 ATAC   3053.0     1.646718e-05 1330 0.669       "
      ]
     },
     "metadata": {},
     "output_type": "display_data"
    }
   ],
   "source": [
    "lst = lapply(VEC_TXT_ASSAY, function(txt_assay){\n",
    "    ###\n",
    "    lst = lst_dat_region_score\n",
    "    dat = lst[[txt_assay]]\n",
    "    dat = dat %>% dplyr::select(Region, Score)\n",
    "    dat_region_score = dat\n",
    "    \n",
    "    ### combine group and score\n",
    "    dat = dplyr::inner_join(\n",
    "        dat_region_group,\n",
    "        dat_region_score,\n",
    "        by = \"Region\"\n",
    "    )\n",
    "    dat_region_merge = dat\n",
    "\n",
    "    ###\n",
    "    dat  = dat_region_merge\n",
    "    lst  = split(dat$Score, dat$Group)\n",
    "    vec1 = lst[[\"1\"]]\n",
    "    vec2 = lst[[\"0\"]]\n",
    "    num  = fun_cliffs_delta(vec1, vec2)\n",
    "    num_cliffs_delta = num\n",
    "    \n",
    "    ###\n",
    "    dat  = dat_region_merge\n",
    "    fit = wilcox.test(Score ~ Group, data = dat)\n",
    "    \n",
    "    ###\n",
    "    res = tibble(\n",
    "        \"Statistics\"   = fit$statistic, \n",
    "        \"Pvalue\"       = fit$p.value, \n",
    "        \"Size\"         = as.integer(nrow(dat)), \n",
    "        \"Cliffs_Delta\" = round(num_cliffs_delta, 3)\n",
    "    )\n",
    "    return(res)\n",
    "})\n",
    "\n",
    "dat = bind_rows(lst, .id = \"Assay\")\n",
    "dat"
   ]
  },
  {
   "cell_type": "code",
   "execution_count": 12,
   "id": "b10be452-e6c1-46e5-b626-713c1c1e6d6b",
   "metadata": {},
   "outputs": [
    {
     "name": "stdout",
     "output_type": "stream",
     "text": [
      "[1] 1306    3\n"
     ]
    },
    {
     "data": {
      "text/html": [
       "<table>\n",
       " <thead>\n",
       "  <tr>\n",
       "   <th style=\"text-align:left;\"> Region </th>\n",
       "   <th style=\"text-align:right;\"> Group </th>\n",
       "   <th style=\"text-align:right;\"> Score </th>\n",
       "  </tr>\n",
       " </thead>\n",
       "<tbody>\n",
       "  <tr>\n",
       "   <td style=\"text-align:left;\"> chr11:4092104-4092566 </td>\n",
       "   <td style=\"text-align:right;\"> 0 </td>\n",
       "   <td style=\"text-align:right;\"> 0.9554577 </td>\n",
       "  </tr>\n",
       "  <tr>\n",
       "   <td style=\"text-align:left;\"> chr11:4094204-4095676 </td>\n",
       "   <td style=\"text-align:right;\"> 0 </td>\n",
       "   <td style=\"text-align:right;\"> 2.1041193 </td>\n",
       "  </tr>\n",
       "  <tr>\n",
       "   <td style=\"text-align:left;\"> chr11:4144511-4147030 </td>\n",
       "   <td style=\"text-align:right;\"> 0 </td>\n",
       "   <td style=\"text-align:right;\"> -0.0300852 </td>\n",
       "  </tr>\n",
       "  <tr>\n",
       "   <td style=\"text-align:left;\"> chr11:4167268-4168022 </td>\n",
       "   <td style=\"text-align:right;\"> 0 </td>\n",
       "   <td style=\"text-align:right;\"> -0.5244894 </td>\n",
       "  </tr>\n",
       "  <tr>\n",
       "   <td style=\"text-align:left;\"> chr11:4181723-4182583 </td>\n",
       "   <td style=\"text-align:right;\"> 0 </td>\n",
       "   <td style=\"text-align:right;\"> -0.1299241 </td>\n",
       "  </tr>\n",
       "  <tr>\n",
       "   <td style=\"text-align:left;\"> chr11:4186880-4188018 </td>\n",
       "   <td style=\"text-align:right;\"> 0 </td>\n",
       "   <td style=\"text-align:right;\"> 0.7491366 </td>\n",
       "  </tr>\n",
       "</tbody>\n",
       "</table>"
      ]
     },
     "metadata": {},
     "output_type": "display_data"
    }
   ],
   "source": [
    "txt_assay = \"WSTARR\"\n",
    "\n",
    "### get score from each input assay\n",
    "lst = lst_dat_region_score\n",
    "dat = lst[[txt_assay]]\n",
    "dat = dat %>% dplyr::select(Region, Score)\n",
    "dat_region_score = dat\n",
    "\n",
    "### combine group and score\n",
    "dat = dplyr::inner_join(\n",
    "    dat_region_group,\n",
    "    dat_region_score,\n",
    "    by = \"Region\"\n",
    ")\n",
    "dat_region_merge = dat\n",
    "\n",
    "### apply logistic regression\n",
    "dat = dat_region_merge\n",
    "#fit = glm(Group ~ Score, data = dat, family = \"binomial\")\n",
    "#vec_boo_group = (dat$Group == 1)\n",
    "#vec_num_score = predict(fit, type = \"response\")\n",
    "print(dim(dat))\n",
    "fun_display_table(head(dat))"
   ]
  },
  {
   "cell_type": "code",
   "execution_count": 15,
   "id": "c996b152-4e91-4673-8196-c60cae7f3f4d",
   "metadata": {},
   "outputs": [
    {
     "data": {
      "image/png": "[encoded data removed]",
      "text/plain": [
       "plot without title"
      ]
     },
     "metadata": {
      "image/png": {
       "height": 330,
       "width": 420
      }
     },
     "output_type": "display_data"
    }
   ],
   "source": [
    "dat = dat_region_merge\n",
    "gpt = ggplot(dat, aes(x = Score, fill = as.character(Group))) +\n",
    "    geom_density(alpha = 0.1) +\n",
    "    theme_cowplot() +\n",
    "    background_grid()\n",
    "\n",
    "options(repr.plot.width=7, repr.plot.height=5.5)\n",
    "print(gpt)"
   ]
  },
  {
   "cell_type": "code",
   "execution_count": 18,
   "id": "68270728-14b7-4959-ba38-f31683015fe4",
   "metadata": {},
   "outputs": [
    {
     "name": "stdout",
     "output_type": "stream",
     "text": [
      "\n",
      "\tWilcoxon rank sum test with continuity correction\n",
      "\n",
      "data:  Score by Group\n",
      "W = 4962, p-value = 0.003639\n",
      "alternative hypothesis: true location shift is not equal to 0\n",
      "\n"
     ]
    }
   ],
   "source": [
    "res = wilcox.test(Score ~ Group, data = dat_region_merge)\n",
    "print(res)"
   ]
  },
  {
   "cell_type": "code",
   "execution_count": 24,
   "id": "ab7b4ce6-bf04-45d4-b005-35044da73d3b",
   "metadata": {},
   "outputs": [
    {
     "data": {
      "text/html": [
       "<style>\n",
       ".dl-inline {width: auto; margin:0; padding: 0}\n",
       ".dl-inline>dt, .dl-inline>dd {float: none; width: auto; display: inline-block}\n",
       ".dl-inline>dt::after {content: \":\\0020\"; padding-right: .5ex}\n",
       ".dl-inline>dt:not(:first-of-type) {padding-left: .5ex}\n",
       "</style><dl class=dl-inline><dt>W</dt><dd>4962</dd><dt>2</dt><dd>0.00363881125476654</dd><dt>3</dt><dd>1306</dd></dl>\n"
      ],
      "text/latex": [
       "\\begin{description*}\n",
       "\\item[W] 4962\n",
       "\\item[2] 0.00363881125476654\n",
       "\\item[3] 1306\n",
       "\\end{description*}\n"
      ],
      "text/markdown": [
       "W\n",
       ":   49622\n",
       ":   0.003638811254766543\n",
       ":   1306\n",
       "\n"
      ],
      "text/plain": [
       "           W                           \n",
       "4.962000e+03 3.638811e-03 1.306000e+03 "
      ]
     },
     "metadata": {},
     "output_type": "display_data"
    }
   ],
   "source": [
    "c(res$statistic, res$p.value, nrow(dat))"
   ]
  },
  {
   "cell_type": "code",
   "execution_count": 19,
   "id": "3ca49d10-9655-45a4-ab4b-006ec9b273b9",
   "metadata": {},
   "outputs": [
    {
     "data": {
      "text/html": [
       "0.00363881125476654"
      ],
      "text/latex": [
       "0.00363881125476654"
      ],
      "text/markdown": [
       "0.00363881125476654"
      ],
      "text/plain": [
       "[1] 0.003638811"
      ]
     },
     "metadata": {},
     "output_type": "display_data"
    }
   ],
   "source": [
    "res$p.value"
   ]
  },
  {
   "cell_type": "code",
   "execution_count": 23,
   "id": "09d0a7d4-0661-4822-bc84-74e6c9bf8531",
   "metadata": {},
   "outputs": [
    {
     "data": {
      "text/html": [
       "1306"
      ],
      "text/latex": [
       "1306"
      ],
      "text/markdown": [
       "1306"
      ],
      "text/plain": [
       "[1] 1306"
      ]
     },
     "metadata": {},
     "output_type": "display_data"
    }
   ],
   "source": [
    "nrow(dat_region_merge)"
   ]
  },
  {
   "cell_type": "code",
   "execution_count": 16,
   "id": "aec3be67-bcc5-4552-b5bf-fb7b5b6079d1",
   "metadata": {},
   "outputs": [
    {
     "data": {
      "text/html": [
       "-0.451348960636886"
      ],
      "text/latex": [
       "-0.451348960636886"
      ],
      "text/markdown": [
       "-0.451348960636886"
      ],
      "text/plain": [
       "[1] -0.451349"
      ]
     },
     "metadata": {},
     "output_type": "display_data"
    }
   ],
   "source": [
    "lst = split(dat$Score, dat$Group)\n",
    "vec1 = lst[[1]]\n",
    "vec2 = lst[[2]]\n",
    "fun_cliffs_delta(vec1, vec2)"
   ]
  },
  {
   "cell_type": "code",
   "execution_count": 17,
   "id": "783f519a-7ee2-4e80-8c9e-bc403e90c02c",
   "metadata": {},
   "outputs": [
    {
     "data": {
      "text/html": [
       "<style>\n",
       ".list-inline {list-style: none; margin:0; padding: 0}\n",
       ".list-inline>li {display: inline-block}\n",
       ".list-inline>li:not(:last-child)::after {content: \"\\00b7\"; padding: 0 .5ex}\n",
       "</style>\n",
       "<ol class=list-inline><li>'0'</li><li>'1'</li></ol>\n"
      ],
      "text/latex": [
       "\\begin{enumerate*}\n",
       "\\item '0'\n",
       "\\item '1'\n",
       "\\end{enumerate*}\n"
      ],
      "text/markdown": [
       "1. '0'\n",
       "2. '1'\n",
       "\n",
       "\n"
      ],
      "text/plain": [
       "[1] \"0\" \"1\""
      ]
     },
     "metadata": {},
     "output_type": "display_data"
    }
   ],
   "source": [
    "names(lst)"
   ]
  },
  {
   "cell_type": "code",
   "execution_count": null,
   "id": "4ab718ac-3fec-4dd3-b889-2a1b354be018",
   "metadata": {},
   "outputs": [],
   "source": []
  }
 ],
 "metadata": {
  "kernelspec": {
   "display_name": "R",
   "language": "R",
   "name": "ir"
  },
  "language_info": {
   "codemirror_mode": "r",
   "file_extension": ".r",
   "mimetype": "text/x-r-source",
   "name": "R",
   "pygments_lexer": "r",
   "version": "4.5.1"
  }
 },
 "nbformat": 4,
 "nbformat_minor": 5
}
