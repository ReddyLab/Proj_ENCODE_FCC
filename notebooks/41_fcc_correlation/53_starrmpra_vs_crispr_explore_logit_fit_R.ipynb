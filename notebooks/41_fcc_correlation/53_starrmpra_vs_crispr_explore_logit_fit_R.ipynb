{
 "cells": [
  {
   "cell_type": "raw",
   "id": "491f6173-af36-4dd3-9ae0-bffe72b0a4ff",
   "metadata": {},
   "source": [
    "---\n",
    "title: CRISPR vs STARRMPRA 13\n",
    "subtitle: Explore Logit CRISPR and STARRMPRA (Odds Ratio)\n",
    "format:\n",
    "    html:\n",
    "        code-fold:  true\n",
    "        code-tools: true\n",
    "---"
   ]
  },
  {
   "cell_type": "markdown",
   "id": "c4290bdc-0eaa-4d04-b643-8375b83b5171",
   "metadata": {},
   "source": [
    "**Set environment**"
   ]
  },
  {
   "cell_type": "code",
   "execution_count": 24,
   "id": "5a93e712-e1cf-4148-a6c3-1c7f1622abc5",
   "metadata": {},
   "outputs": [
    {
     "name": "stdout",
     "output_type": "stream",
     "text": [
      "You are working on        Singularity: singularity_proj_encode_fcc \n",
      "BASE DIRECTORY (FD_BASE): /data/reddylab/Kuei \n",
      "REPO DIRECTORY (FD_REPO): /data/reddylab/Kuei/repo \n",
      "WORK DIRECTORY (FD_WORK): /data/reddylab/Kuei/work \n",
      "DATA DIRECTORY (FD_DATA): /data/reddylab/Kuei/data \n",
      "\n",
      "You are working with      ENCODE FCC \n",
      "PATH OF PROJECT (FD_PRJ): /data/reddylab/Kuei/repo/Proj_ENCODE_FCC \n",
      "PROJECT RESULTS (FD_RES): /data/reddylab/Kuei/repo/Proj_ENCODE_FCC/results \n",
      "PROJECT SCRIPTS (FD_EXE): /data/reddylab/Kuei/repo/Proj_ENCODE_FCC/scripts \n",
      "PROJECT DATA    (FD_DAT): /data/reddylab/Kuei/repo/Proj_ENCODE_FCC/data \n",
      "PROJECT NOTE    (FD_NBK): /data/reddylab/Kuei/repo/Proj_ENCODE_FCC/notebooks \n",
      "PROJECT DOCS    (FD_DOC): /data/reddylab/Kuei/repo/Proj_ENCODE_FCC/docs \n",
      "PROJECT LOG     (FD_LOG): /data/reddylab/Kuei/repo/Proj_ENCODE_FCC/log \n",
      "PROJECT REF     (FD_REF): /data/reddylab/Kuei/repo/Proj_ENCODE_FCC/references \n",
      "\n"
     ]
    }
   ],
   "source": [
    "suppressMessages(suppressWarnings(source(\"../run_config_project_sing.R\")))\n",
    "show_env()"
   ]
  },
  {
   "cell_type": "markdown",
   "id": "f70e5492-b521-41a1-8778-8e7a58e37d5a",
   "metadata": {},
   "source": [
    "**Set global variable**"
   ]
  },
  {
   "cell_type": "code",
   "execution_count": 25,
   "id": "6633a16d-e24d-47d2-b88d-cccf3b4db77e",
   "metadata": {},
   "outputs": [
    {
     "name": "stdout",
     "output_type": "stream",
     "text": [
      "fcc_astarr_macs_input_overlap \n",
      "fcc_astarr_macs_input_union \n"
     ]
    }
   ],
   "source": [
    "## init: region folder\n",
    "vec = c(\"fcc_astarr_macs_input_overlap\", \"fcc_astarr_macs_input_union\")\n",
    "names(vec) = vec\n",
    "\n",
    "VEC_TXT_FOLDER = vec\n",
    "for (txt in vec) {cat(txt, \"\\n\")}"
   ]
  },
  {
   "cell_type": "code",
   "execution_count": 26,
   "id": "e91e6f65-5d46-4ffb-be54-75cbbc11abe3",
   "metadata": {},
   "outputs": [],
   "source": [
    "vec = c(\"CRISPR\", \"CRISPRi-HCRFF\", \"CRISPRi-Growth\", \"ENCODE-rE2G Benchmark\")\n",
    "names(vec) = vec\n",
    "VEC_TXT_ASSAY_OUT = vec\n",
    "\n",
    "vec = c(\"ASTARR\", \"WSTARR\", \"LMPRA\", \"TMPRA\", \"ATAC\")\n",
    "names(vec) = vec\n",
    "VEC_TXT_ASSAY_INP = vec"
   ]
  },
  {
   "cell_type": "markdown",
   "id": "7540c6e3-5a0a-4166-a767-e96da0f65503",
   "metadata": {},
   "source": [
    "**Check input files**"
   ]
  },
  {
   "cell_type": "code",
   "execution_count": 27,
   "id": "e9ae26b0-a976-4260-ba02-3262f6333797",
   "metadata": {},
   "outputs": [
    {
     "name": "stdout",
     "output_type": "stream",
     "text": [
      "/data/reddylab/Kuei/repo/Proj_ENCODE_FCC/results/analysis_fcc_correlation/fcc_astarr_macs_input_union/result.cripsr_vs_starrmpra.logit.roc.tsv \n"
     ]
    }
   ],
   "source": [
    "txt_folder = \"fcc_astarr_macs_input_union\"\n",
    "txt_fdiry  = file.path(FD_RES, \"analysis_fcc_correlation\", txt_folder)\n",
    "txt_fname  = \"result.cripsr_vs_starrmpra.logit.roc.tsv\"\n",
    "txt_fglob  = file.path(txt_fdiry, txt_fname)\n",
    "\n",
    "vec = Sys.glob(txt_fglob)\n",
    "for (txt in vec) {cat(txt, \"\\n\")}"
   ]
  },
  {
   "cell_type": "markdown",
   "id": "f2bd088a-5671-49f7-9342-1c229f8d7420",
   "metadata": {},
   "source": [
    "## Import data"
   ]
  },
  {
   "cell_type": "code",
   "execution_count": 28,
   "id": "797aab0a-1a4d-4698-bac5-e5af6ba99562",
   "metadata": {},
   "outputs": [
    {
     "name": "stdout",
     "output_type": "stream",
     "text": [
      "[1] 112  12\n"
     ]
    },
    {
     "data": {
      "text/html": [
       "<table>\n",
       " <thead>\n",
       "  <tr>\n",
       "   <th style=\"text-align:right;\"> CutOff_CRISPR </th>\n",
       "   <th style=\"text-align:left;\"> Assay_CRISPR </th>\n",
       "   <th style=\"text-align:left;\"> Assay_STARRMPRA </th>\n",
       "   <th style=\"text-align:right;\"> OR </th>\n",
       "   <th style=\"text-align:right;\"> OR_CI_Lower </th>\n",
       "   <th style=\"text-align:right;\"> OR_CI_Upper </th>\n",
       "   <th style=\"text-align:right;\"> Log10OR </th>\n",
       "   <th style=\"text-align:right;\"> Log10OR_CI_Lower </th>\n",
       "   <th style=\"text-align:right;\"> Log10OR_CI_Upper </th>\n",
       "   <th style=\"text-align:right;\"> Pvalue </th>\n",
       "   <th style=\"text-align:right;\"> Total </th>\n",
       "   <th style=\"text-align:right;\"> Count </th>\n",
       "  </tr>\n",
       " </thead>\n",
       "<tbody>\n",
       "  <tr>\n",
       "   <td style=\"text-align:right;\"> 0.01 </td>\n",
       "   <td style=\"text-align:left;\"> CRISPRi-HCRFF </td>\n",
       "   <td style=\"text-align:left;\"> ATAC </td>\n",
       "   <td style=\"text-align:right;\"> 2.378547 </td>\n",
       "   <td style=\"text-align:right;\"> 1.747075 </td>\n",
       "   <td style=\"text-align:right;\"> 3.238262 </td>\n",
       "   <td style=\"text-align:right;\"> 0.3763118 </td>\n",
       "   <td style=\"text-align:right;\"> 0.2423115 </td>\n",
       "   <td style=\"text-align:right;\"> 0.5103121 </td>\n",
       "   <td style=\"text-align:right;\"> 0 </td>\n",
       "   <td style=\"text-align:right;\"> 5319 </td>\n",
       "   <td style=\"text-align:right;\"> 1330 </td>\n",
       "  </tr>\n",
       "  <tr>\n",
       "   <td style=\"text-align:right;\"> 0.01 </td>\n",
       "   <td style=\"text-align:left;\"> CRISPRi-HCRFF </td>\n",
       "   <td style=\"text-align:left;\"> STARRMPRA </td>\n",
       "   <td style=\"text-align:right;\"> 1.817318 </td>\n",
       "   <td style=\"text-align:right;\"> 1.490459 </td>\n",
       "   <td style=\"text-align:right;\"> 2.215858 </td>\n",
       "   <td style=\"text-align:right;\"> 0.2594310 </td>\n",
       "   <td style=\"text-align:right;\"> 0.1733200 </td>\n",
       "   <td style=\"text-align:right;\"> 0.3455420 </td>\n",
       "   <td style=\"text-align:right;\"> 0 </td>\n",
       "   <td style=\"text-align:right;\"> 5319 </td>\n",
       "   <td style=\"text-align:right;\"> 3989 </td>\n",
       "  </tr>\n",
       "  <tr>\n",
       "   <td style=\"text-align:right;\"> 0.01 </td>\n",
       "   <td style=\"text-align:left;\"> CRISPRi-Growth </td>\n",
       "   <td style=\"text-align:left;\"> ATAC </td>\n",
       "   <td style=\"text-align:right;\"> 2.040152 </td>\n",
       "   <td style=\"text-align:right;\"> 1.946319 </td>\n",
       "   <td style=\"text-align:right;\"> 2.138509 </td>\n",
       "   <td style=\"text-align:right;\"> 0.3096625 </td>\n",
       "   <td style=\"text-align:right;\"> 0.2892139 </td>\n",
       "   <td style=\"text-align:right;\"> 0.3301110 </td>\n",
       "   <td style=\"text-align:right;\"> 0 </td>\n",
       "   <td style=\"text-align:right;\"> 294769 </td>\n",
       "   <td style=\"text-align:right;\"> 80288 </td>\n",
       "  </tr>\n",
       "</tbody>\n",
       "</table>"
      ]
     },
     "metadata": {},
     "output_type": "display_data"
    }
   ],
   "source": [
    "### set directory\n",
    "txt_foldr = \"fcc_astarr_macs_input_union\"\n",
    "txt_fdiry = file.path(FD_RES, \"analysis_fcc_correlation\", txt_foldr)\n",
    "txt_fname = \"result.cripsr_vs_starrmpra.logit.stats.pool.tsv\"\n",
    "txt_fpath = file.path(txt_fdiry, txt_fname)\n",
    "\n",
    "### read table\n",
    "dat = read_tsv(txt_fpath, show_col_types = FALSE)\n",
    "\n",
    "### assign and show\n",
    "dat_logit_stats_pool = dat\n",
    "print(dim(dat))\n",
    "fun_display_table(head(dat, 3))"
   ]
  },
  {
   "cell_type": "code",
   "execution_count": 29,
   "id": "bc66afbd-95fc-4ad2-ab3c-fbb5999b5886",
   "metadata": {},
   "outputs": [
    {
     "name": "stdout",
     "output_type": "stream",
     "text": [
      "[1] 280  12\n"
     ]
    },
    {
     "data": {
      "text/html": [
       "<table>\n",
       " <thead>\n",
       "  <tr>\n",
       "   <th style=\"text-align:right;\"> CutOff_CRISPR </th>\n",
       "   <th style=\"text-align:left;\"> Assay_CRISPR </th>\n",
       "   <th style=\"text-align:left;\"> Assay_STARRMPRA </th>\n",
       "   <th style=\"text-align:right;\"> OR </th>\n",
       "   <th style=\"text-align:right;\"> OR_CI_Lower </th>\n",
       "   <th style=\"text-align:right;\"> OR_CI_Upper </th>\n",
       "   <th style=\"text-align:right;\"> Log10OR </th>\n",
       "   <th style=\"text-align:right;\"> Log10OR_CI_Lower </th>\n",
       "   <th style=\"text-align:right;\"> Log10OR_CI_Upper </th>\n",
       "   <th style=\"text-align:right;\"> Pvalue </th>\n",
       "   <th style=\"text-align:right;\"> Total </th>\n",
       "   <th style=\"text-align:right;\"> Count </th>\n",
       "  </tr>\n",
       " </thead>\n",
       "<tbody>\n",
       "  <tr>\n",
       "   <td style=\"text-align:right;\"> 0.01 </td>\n",
       "   <td style=\"text-align:left;\"> CRISPRi-HCRFF </td>\n",
       "   <td style=\"text-align:left;\"> ATAC </td>\n",
       "   <td style=\"text-align:right;\"> 2.378547 </td>\n",
       "   <td style=\"text-align:right;\"> 1.747075 </td>\n",
       "   <td style=\"text-align:right;\"> 3.238262 </td>\n",
       "   <td style=\"text-align:right;\"> 0.3763118 </td>\n",
       "   <td style=\"text-align:right;\"> 0.2423115 </td>\n",
       "   <td style=\"text-align:right;\"> 0.5103121 </td>\n",
       "   <td style=\"text-align:right;\"> 0.00e+00 </td>\n",
       "   <td style=\"text-align:right;\"> 5319 </td>\n",
       "   <td style=\"text-align:right;\"> 1330 </td>\n",
       "  </tr>\n",
       "  <tr>\n",
       "   <td style=\"text-align:right;\"> 0.01 </td>\n",
       "   <td style=\"text-align:left;\"> CRISPRi-HCRFF </td>\n",
       "   <td style=\"text-align:left;\"> ASTARR </td>\n",
       "   <td style=\"text-align:right;\"> 2.065837 </td>\n",
       "   <td style=\"text-align:right;\"> 1.475816 </td>\n",
       "   <td style=\"text-align:right;\"> 2.891744 </td>\n",
       "   <td style=\"text-align:right;\"> 0.3150961 </td>\n",
       "   <td style=\"text-align:right;\"> 0.1690322 </td>\n",
       "   <td style=\"text-align:right;\"> 0.4611599 </td>\n",
       "   <td style=\"text-align:right;\"> 2.36e-05 </td>\n",
       "   <td style=\"text-align:right;\"> 5319 </td>\n",
       "   <td style=\"text-align:right;\"> 1330 </td>\n",
       "  </tr>\n",
       "  <tr>\n",
       "   <td style=\"text-align:right;\"> 0.01 </td>\n",
       "   <td style=\"text-align:left;\"> CRISPRi-HCRFF </td>\n",
       "   <td style=\"text-align:left;\"> WSTARR </td>\n",
       "   <td style=\"text-align:right;\"> 1.860945 </td>\n",
       "   <td style=\"text-align:right;\"> 1.363876 </td>\n",
       "   <td style=\"text-align:right;\"> 2.539171 </td>\n",
       "   <td style=\"text-align:right;\"> 0.2697334 </td>\n",
       "   <td style=\"text-align:right;\"> 0.1347750 </td>\n",
       "   <td style=\"text-align:right;\"> 0.4046919 </td>\n",
       "   <td style=\"text-align:right;\"> 8.96e-05 </td>\n",
       "   <td style=\"text-align:right;\"> 5319 </td>\n",
       "   <td style=\"text-align:right;\"> 1306 </td>\n",
       "  </tr>\n",
       "</tbody>\n",
       "</table>"
      ]
     },
     "metadata": {},
     "output_type": "display_data"
    }
   ],
   "source": [
    "### set directory\n",
    "txt_foldr = \"fcc_astarr_macs_input_union\"\n",
    "txt_fdiry = file.path(FD_RES, \"analysis_fcc_correlation\", txt_foldr)\n",
    "txt_fname = \"result.cripsr_vs_starrmpra.logit.stats.split.tsv\"\n",
    "txt_fpath = file.path(txt_fdiry, txt_fname)\n",
    "\n",
    "### read table\n",
    "dat = read_tsv(txt_fpath, show_col_types = FALSE)\n",
    "\n",
    "### assign and show\n",
    "dat_logit_stats_split = dat\n",
    "print(dim(dat))\n",
    "fun_display_table(head(dat, 3))"
   ]
  },
  {
   "cell_type": "markdown",
   "id": "910684bb-e790-43a9-b99e-b53eb817ef96",
   "metadata": {},
   "source": [
    "## Plot odds ratio for pooled STARR/MPRA"
   ]
  },
  {
   "cell_type": "markdown",
   "id": "b273c519-6b47-4180-a31c-2305d2d654a4",
   "metadata": {},
   "source": [
    "**Set text style**"
   ]
  },
  {
   "cell_type": "code",
   "execution_count": 30,
   "id": "81ec9f35-4682-4897-9ef3-fb94f92d78cb",
   "metadata": {},
   "outputs": [],
   "source": [
    "THEME_TEXT = theme(\n",
    "    title        = element_text(size = 16),\n",
    "    axis.text.x  = element_text(size = 16),\n",
    "    axis.text.y  = element_text(size = 16),\n",
    "    axis.title.x = element_text(size = 16),\n",
    "    axis.title.y = element_text(size = 16),\n",
    "    legend.text  = element_text(size = 14),\n",
    "    legend.title = element_text(size = 14) \n",
    ")"
   ]
  },
  {
   "cell_type": "markdown",
   "id": "c85689e3-e473-4f03-b448-96a5d2ead162",
   "metadata": {},
   "source": [
    "**Generate plot**"
   ]
  },
  {
   "cell_type": "code",
   "execution_count": 33,
   "id": "5bb0a09e-0420-4e14-8a86-5aaf03bd94cc",
   "metadata": {},
   "outputs": [
    {
     "data": {
      "image/png": "[encoded data removed]",
      "text/plain": [
       "plot without title"
      ]
     },
     "metadata": {
      "image/png": {
       "height": 240,
       "width": 300
      }
     },
     "output_type": "display_data"
    }
   ],
   "source": [
    "### init\n",
    "dat = dat_logit_stats_pool\n",
    "dat = dat %>% dplyr::filter(CutOff_CRISPR <= 0.1, Assay_CRISPR == \"CRISPR\")\n",
    "\n",
    "### set grid lines\n",
    "vec_num_break_total = seq(0, 0.1, 0.01)\n",
    "vec_num_break_major = c(0.01, 0.05, 0.10)\n",
    "vec_num_break_minor = setdiff(vec_num_break_total, vec_num_break_major)\n",
    "\n",
    "### generate plot\n",
    "gpt = ggplot(dat, aes(x = CutOff_CRISPR, y = OR, group = Assay_STARRMPRA, color = Assay_STARRMPRA)) +\n",
    "    geom_ribbon(\n",
    "        aes(ymin = OR_CI_Lower, ymax = OR_CI_Upper, fill = Assay_STARRMPRA), \n",
    "        alpha = 0.15, \n",
    "        color = NA\n",
    "    ) +\n",
    "    geom_line(linewidth = 1) +\n",
    "    geom_point(size = 1.8) +\n",
    "    geom_hline(yintercept = 1, linetype = \"dashed\") +\n",
    "    scale_x_continuous(\n",
    "        breaks = vec_num_break_major,\n",
    "        labels = scales::label_number(accuracy = 0.01),\n",
    "        minor_breaks = vec_num_break_minor\n",
    "    ) +\n",
    "    scale_y_continuous(breaks = scales::pretty_breaks()) +\n",
    "    theme_cowplot() +\n",
    "    background_grid(major = \"xy\", minor = \"x\") +\n",
    "    labs(x=\"CRISPR CutOff Rate\", y = \"Odds Ratio (95% CI)\", title = \"CRISPR ~ STARR/MPRA\") +\n",
    "    guides(fill = \"none\", color = guide_legend(title = NULL)) +\n",
    "    theme(\n",
    "        legend.background = element_rect(fill=\"white\"),\n",
    "        legend.position   = \"inside\",\n",
    "        legend.position.inside = c(0.5, 0.7)\n",
    "    ) +\n",
    "    THEME_TEXT\n",
    "\n",
    "### assign and show\n",
    "gpt_export_logit_pool = gpt\n",
    "options(repr.plot.height=4, repr.plot.width=5)\n",
    "print(gpt)"
   ]
  },
  {
   "cell_type": "markdown",
   "id": "3b6450bd-60e8-4444-853f-71918417b04b",
   "metadata": {},
   "source": [
    "**Export plots**"
   ]
  },
  {
   "cell_type": "code",
   "execution_count": 34,
   "id": "d0f28c26-38ee-4d21-b0ff-5898801575ce",
   "metadata": {},
   "outputs": [],
   "source": [
    "plt_export = gpt_export_logit_pool\n",
    "txt_export = \"fig.region_coverage_fcc.logit.odds_ratio.pool\"\n",
    "num_height = 4\n",
    "num_width  = 5\n",
    "\n",
    "txt_fdiry = \"./\"\n",
    "txt_fname = paste(txt_export, \"png\", sep = \".\")\n",
    "txt_fpath = file.path(txt_fdiry, txt_fname)\n",
    "#ggsave(txt_fpath, plt_export, height = num_height, width = num_width, units = \"in\")\n",
    "\n",
    "txt_fdiry = \"./\"\n",
    "txt_fname = paste(txt_export, \"svg\", sep = \".\")\n",
    "txt_fpath = file.path(txt_fdiry, txt_fname)\n",
    "#ggsave(txt_fpath, plt_export, height = num_height, width = num_width, units = \"in\")"
   ]
  },
  {
   "cell_type": "markdown",
   "id": "4b662bed-4b63-4bec-9817-f08cf151eb03",
   "metadata": {},
   "source": [
    "## Plot odds ratio for split STARR/MPRA"
   ]
  },
  {
   "cell_type": "markdown",
   "id": "6dcb0e0f-82ea-402c-a0c4-e4b5a425e697",
   "metadata": {},
   "source": [
    "**Split data table by CRISPR cutoff rate**"
   ]
  },
  {
   "cell_type": "code",
   "execution_count": 38,
   "id": "e151fcbe-0e2c-4995-bf21-772ea0d247f6",
   "metadata": {},
   "outputs": [
    {
     "data": {
      "text/html": [
       "<table>\n",
       " <thead>\n",
       "  <tr>\n",
       "   <th style=\"text-align:left;\"> CutOff_CRISPR </th>\n",
       "   <th style=\"text-align:left;\"> Assay_CRISPR </th>\n",
       "   <th style=\"text-align:left;\"> Assay_STARRMPRA </th>\n",
       "   <th style=\"text-align:right;\"> OR </th>\n",
       "   <th style=\"text-align:right;\"> OR_CI_Lower </th>\n",
       "   <th style=\"text-align:right;\"> OR_CI_Upper </th>\n",
       "   <th style=\"text-align:right;\"> Log10OR </th>\n",
       "   <th style=\"text-align:right;\"> Log10OR_CI_Lower </th>\n",
       "   <th style=\"text-align:right;\"> Log10OR_CI_Upper </th>\n",
       "   <th style=\"text-align:right;\"> Pvalue </th>\n",
       "   <th style=\"text-align:right;\"> Total </th>\n",
       "   <th style=\"text-align:right;\"> Count </th>\n",
       "  </tr>\n",
       " </thead>\n",
       "<tbody>\n",
       "  <tr>\n",
       "   <td style=\"text-align:left;\"> 0.01 </td>\n",
       "   <td style=\"text-align:left;\"> CRISPRi-HCRFF </td>\n",
       "   <td style=\"text-align:left;\"> ATAC </td>\n",
       "   <td style=\"text-align:right;\"> 2.378547 </td>\n",
       "   <td style=\"text-align:right;\"> 1.747075 </td>\n",
       "   <td style=\"text-align:right;\"> 3.238262 </td>\n",
       "   <td style=\"text-align:right;\"> 0.3763118 </td>\n",
       "   <td style=\"text-align:right;\"> 0.2423115 </td>\n",
       "   <td style=\"text-align:right;\"> 0.5103121 </td>\n",
       "   <td style=\"text-align:right;\"> 0 </td>\n",
       "   <td style=\"text-align:right;\"> 5319 </td>\n",
       "   <td style=\"text-align:right;\"> 1330 </td>\n",
       "  </tr>\n",
       "  <tr>\n",
       "   <td style=\"text-align:left;\"> 0.01 </td>\n",
       "   <td style=\"text-align:left;\"> CRISPRi-HCRFF </td>\n",
       "   <td style=\"text-align:left;\"> STARRMPRA </td>\n",
       "   <td style=\"text-align:right;\"> 1.817318 </td>\n",
       "   <td style=\"text-align:right;\"> 1.490459 </td>\n",
       "   <td style=\"text-align:right;\"> 2.215858 </td>\n",
       "   <td style=\"text-align:right;\"> 0.2594310 </td>\n",
       "   <td style=\"text-align:right;\"> 0.1733200 </td>\n",
       "   <td style=\"text-align:right;\"> 0.3455420 </td>\n",
       "   <td style=\"text-align:right;\"> 0 </td>\n",
       "   <td style=\"text-align:right;\"> 5319 </td>\n",
       "   <td style=\"text-align:right;\"> 3989 </td>\n",
       "  </tr>\n",
       "  <tr>\n",
       "   <td style=\"text-align:left;\"> 0.01 </td>\n",
       "   <td style=\"text-align:left;\"> CRISPRi-Growth </td>\n",
       "   <td style=\"text-align:left;\"> ATAC </td>\n",
       "   <td style=\"text-align:right;\"> 2.040152 </td>\n",
       "   <td style=\"text-align:right;\"> 1.946319 </td>\n",
       "   <td style=\"text-align:right;\"> 2.138509 </td>\n",
       "   <td style=\"text-align:right;\"> 0.3096625 </td>\n",
       "   <td style=\"text-align:right;\"> 0.2892139 </td>\n",
       "   <td style=\"text-align:right;\"> 0.3301110 </td>\n",
       "   <td style=\"text-align:right;\"> 0 </td>\n",
       "   <td style=\"text-align:right;\"> 294769 </td>\n",
       "   <td style=\"text-align:right;\"> 80288 </td>\n",
       "  </tr>\n",
       "</tbody>\n",
       "</table>"
      ]
     },
     "metadata": {},
     "output_type": "display_data"
    }
   ],
   "source": [
    "### split by cutoff rate\n",
    "dat = dat_logit_stats_pool\n",
    "dat = dat %>% dplyr::mutate(CutOff_CRISPR = as.character(CutOff_CRISPR))\n",
    "lst = split(dat, dat$CutOff_CRISPR)\n",
    "\n",
    "### assign and show\n",
    "lst_dat_logit_stats_pool = lst\n",
    "dat = lst[[1]]\n",
    "fun_display_table(head(dat, 3))"
   ]
  },
  {
   "cell_type": "code",
   "execution_count": 39,
   "id": "7caa3fbb-0eb0-440b-9c42-907bf136da5c",
   "metadata": {},
   "outputs": [
    {
     "data": {
      "text/html": [
       "<table>\n",
       " <thead>\n",
       "  <tr>\n",
       "   <th style=\"text-align:left;\"> CutOff_CRISPR </th>\n",
       "   <th style=\"text-align:left;\"> Assay_CRISPR </th>\n",
       "   <th style=\"text-align:left;\"> Assay_STARRMPRA </th>\n",
       "   <th style=\"text-align:right;\"> OR </th>\n",
       "   <th style=\"text-align:right;\"> OR_CI_Lower </th>\n",
       "   <th style=\"text-align:right;\"> OR_CI_Upper </th>\n",
       "   <th style=\"text-align:right;\"> Log10OR </th>\n",
       "   <th style=\"text-align:right;\"> Log10OR_CI_Lower </th>\n",
       "   <th style=\"text-align:right;\"> Log10OR_CI_Upper </th>\n",
       "   <th style=\"text-align:right;\"> Pvalue </th>\n",
       "   <th style=\"text-align:right;\"> Total </th>\n",
       "   <th style=\"text-align:right;\"> Count </th>\n",
       "  </tr>\n",
       " </thead>\n",
       "<tbody>\n",
       "  <tr>\n",
       "   <td style=\"text-align:left;\"> 0.01 </td>\n",
       "   <td style=\"text-align:left;\"> CRISPRi-HCRFF </td>\n",
       "   <td style=\"text-align:left;\"> ATAC </td>\n",
       "   <td style=\"text-align:right;\"> 2.378547 </td>\n",
       "   <td style=\"text-align:right;\"> 1.747075 </td>\n",
       "   <td style=\"text-align:right;\"> 3.238262 </td>\n",
       "   <td style=\"text-align:right;\"> 0.3763118 </td>\n",
       "   <td style=\"text-align:right;\"> 0.2423115 </td>\n",
       "   <td style=\"text-align:right;\"> 0.5103121 </td>\n",
       "   <td style=\"text-align:right;\"> 0.00e+00 </td>\n",
       "   <td style=\"text-align:right;\"> 5319 </td>\n",
       "   <td style=\"text-align:right;\"> 1330 </td>\n",
       "  </tr>\n",
       "  <tr>\n",
       "   <td style=\"text-align:left;\"> 0.01 </td>\n",
       "   <td style=\"text-align:left;\"> CRISPRi-HCRFF </td>\n",
       "   <td style=\"text-align:left;\"> ASTARR </td>\n",
       "   <td style=\"text-align:right;\"> 2.065837 </td>\n",
       "   <td style=\"text-align:right;\"> 1.475816 </td>\n",
       "   <td style=\"text-align:right;\"> 2.891744 </td>\n",
       "   <td style=\"text-align:right;\"> 0.3150961 </td>\n",
       "   <td style=\"text-align:right;\"> 0.1690322 </td>\n",
       "   <td style=\"text-align:right;\"> 0.4611599 </td>\n",
       "   <td style=\"text-align:right;\"> 2.36e-05 </td>\n",
       "   <td style=\"text-align:right;\"> 5319 </td>\n",
       "   <td style=\"text-align:right;\"> 1330 </td>\n",
       "  </tr>\n",
       "  <tr>\n",
       "   <td style=\"text-align:left;\"> 0.01 </td>\n",
       "   <td style=\"text-align:left;\"> CRISPRi-HCRFF </td>\n",
       "   <td style=\"text-align:left;\"> WSTARR </td>\n",
       "   <td style=\"text-align:right;\"> 1.860945 </td>\n",
       "   <td style=\"text-align:right;\"> 1.363876 </td>\n",
       "   <td style=\"text-align:right;\"> 2.539171 </td>\n",
       "   <td style=\"text-align:right;\"> 0.2697334 </td>\n",
       "   <td style=\"text-align:right;\"> 0.1347750 </td>\n",
       "   <td style=\"text-align:right;\"> 0.4046919 </td>\n",
       "   <td style=\"text-align:right;\"> 8.96e-05 </td>\n",
       "   <td style=\"text-align:right;\"> 5319 </td>\n",
       "   <td style=\"text-align:right;\"> 1306 </td>\n",
       "  </tr>\n",
       "</tbody>\n",
       "</table>"
      ]
     },
     "metadata": {},
     "output_type": "display_data"
    }
   ],
   "source": [
    "### split by cutoff rate\n",
    "dat = dat_logit_stats_split\n",
    "dat = dat %>% dplyr::mutate(CutOff_CRISPR = as.character(CutOff_CRISPR))\n",
    "lst = split(dat, dat$CutOff_CRISPR)\n",
    "\n",
    "### assign and show\n",
    "lst_dat_logit_stats_split = lst\n",
    "dat = lst[[1]]\n",
    "fun_display_table(head(dat, 3))"
   ]
  },
  {
   "cell_type": "markdown",
   "id": "fd742043-30c8-4ef3-8974-a23a472d8d53",
   "metadata": {},
   "source": [
    "**Check: order of STARR/MPRA/ATAC assay**"
   ]
  },
  {
   "cell_type": "code",
   "execution_count": 19,
   "id": "a45dab1e-9466-4b87-87cb-bfbecfd0ef77",
   "metadata": {},
   "outputs": [
    {
     "data": {
      "text/html": [
       "<style>\n",
       ".dl-inline {width: auto; margin:0; padding: 0}\n",
       ".dl-inline>dt, .dl-inline>dd {float: none; width: auto; display: inline-block}\n",
       ".dl-inline>dt::after {content: \":\\0020\"; padding-right: .5ex}\n",
       ".dl-inline>dt:not(:first-of-type) {padding-left: .5ex}\n",
       "</style><dl class=dl-inline><dt>ASTARR</dt><dd>'ASTARR'</dd><dt>WSTARR</dt><dd>'WSTARR'</dd><dt>LMPRA</dt><dd>'LMPRA'</dd><dt>TMPRA</dt><dd>'TMPRA'</dd><dt>ATAC</dt><dd>'ATAC'</dd></dl>\n"
      ],
      "text/latex": [
       "\\begin{description*}\n",
       "\\item[ASTARR] 'ASTARR'\n",
       "\\item[WSTARR] 'WSTARR'\n",
       "\\item[LMPRA] 'LMPRA'\n",
       "\\item[TMPRA] 'TMPRA'\n",
       "\\item[ATAC] 'ATAC'\n",
       "\\end{description*}\n"
      ],
      "text/markdown": [
       "ASTARR\n",
       ":   'ASTARR'WSTARR\n",
       ":   'WSTARR'LMPRA\n",
       ":   'LMPRA'TMPRA\n",
       ":   'TMPRA'ATAC\n",
       ":   'ATAC'\n",
       "\n"
      ],
      "text/plain": [
       "  ASTARR   WSTARR    LMPRA    TMPRA     ATAC \n",
       "\"ASTARR\" \"WSTARR\"  \"LMPRA\"  \"TMPRA\"   \"ATAC\" "
      ]
     },
     "metadata": {},
     "output_type": "display_data"
    }
   ],
   "source": [
    "VEC_TXT_ASSAY_INP"
   ]
  },
  {
   "cell_type": "markdown",
   "id": "df47193d-d0ac-46fb-9dec-bb3f3398ced1",
   "metadata": {},
   "source": [
    "**Helper function**"
   ]
  },
  {
   "cell_type": "code",
   "execution_count": 20,
   "id": "d2465c81-9f52-473d-b39d-8854c265f044",
   "metadata": {},
   "outputs": [],
   "source": [
    "fun_inner = function(num){\n",
    "    if (num > 1000) {\n",
    "        txt = round(num / 1000, 1)\n",
    "        txt = paste0(txt, \"k\")\n",
    "    } else {\n",
    "        txt = as.character(num)\n",
    "    }\n",
    "    return(txt)\n",
    "}\n",
    "\n",
    "fun_wrapper = function(vec){\n",
    "    vec = sapply(vec, fun_inner)\n",
    "    return(vec)\n",
    "}"
   ]
  },
  {
   "cell_type": "markdown",
   "id": "a34b4038-0632-4c22-bdba-3dec84acf64b",
   "metadata": {},
   "source": [
    "**Generate plot**"
   ]
  },
  {
   "cell_type": "code",
   "execution_count": 42,
   "id": "1abcb68e-8224-4857-a9e0-a35e0e347442",
   "metadata": {},
   "outputs": [
    {
     "data": {
      "image/png": "[encoded data removed]",
      "text/plain": [
       "plot without title"
      ]
     },
     "metadata": {
      "image/png": {
       "height": 480,
       "width": 960
      }
     },
     "output_type": "display_data"
    }
   ],
   "source": [
    "### choose threshold\n",
    "idx = \"0.01\"\n",
    "\n",
    "### get logit (pool) results based on the chosen cutoff rate\n",
    "lst = lst_dat_logit_stats_pool\n",
    "dat = lst[[idx]]\n",
    "tmp = dat %>% dplyr::filter(Assay_STARRMPRA == \"STARRMPRA\")\n",
    "\n",
    "### get logit (split) results based on the chosen cutoff rate\n",
    "lst = lst_dat_logit_stats_split\n",
    "dat = lst[[idx]]\n",
    "dat = bind_rows(dat, tmp)\n",
    "\n",
    "### generate plot\n",
    "lst = split(dat, dat$Assay_CRISPR)\n",
    "lst = lapply(lst, function(dat){\n",
    "    vec = c(\"STARRMPRA\", VEC_TXT_ASSAY_INP)\n",
    "    txt = unique(dat$Assay_CRISPR)\n",
    "    \n",
    "    dat = dat %>% \n",
    "        dplyr::mutate(Assay_STARRMPRA = factor(Assay_STARRMPRA, levels=vec)) %>%\n",
    "        dplyr::mutate(Count_Label = fun_wrapper(Count)) %>%\n",
    "        dplyr::mutate(Assay_Label = paste0(Assay_STARRMPRA, \" (\", Count_Label, \")\")) %>%\n",
    "        dplyr::mutate(Assay_Label = factor(Assay_Label, levels=Assay_Label))\n",
    "\n",
    "    gpt = ggplot(dat, aes(x = Log10OR, y = Assay_Label)) +\n",
    "        geom_point(size = 3) +\n",
    "        geom_errorbarh(aes(xmin = Log10OR_CI_Lower, xmax = Log10OR_CI_Upper), height = 0.3) +\n",
    "        geom_vline(xintercept = 0, linetype=\"dashed\") +\n",
    "        labs(x = \"Log10 Odds Ratio (95% CI)\", y = \"\", title = txt) +\n",
    "        theme_cowplot() +\n",
    "        background_grid() \n",
    "    return(gpt)\n",
    "})\n",
    "\n",
    "### setup grid lines\n",
    "vec_num_break_total = seq(-0.1, 0.8, 0.1)\n",
    "vec_num_break_major = seq(-0.1, 0.8, 0.2)\n",
    "vec_num_break_minor = setdiff(vec_num_break_total, vec_num_break_major)\n",
    "\n",
    "### update plots\n",
    "lst = lapply(lst, function(gpt){\n",
    "    ### udpate text style\n",
    "    gpt = gpt +\n",
    "        theme(\n",
    "            strip.text = element_text(face = \"bold\"),\n",
    "            axis.text.y = element_text(size = 11)\n",
    "        ) +\n",
    "        THEME_TEXT\n",
    "\n",
    "    ### udpate x breaks, labels, and grid line\n",
    "    gpt = gpt + \n",
    "        scale_x_continuous(\n",
    "            breaks = vec_num_break_major,\n",
    "            labels = scales::label_number(accuracy = 0.1),\n",
    "            minor_breaks = vec_num_break_minor,\n",
    "            limits = c(-0.1, 0.75)\n",
    "        ) +\n",
    "        background_grid(major = \"xy\", minor = \"x\")\n",
    "    return(gpt)\n",
    "})\n",
    "\n",
    "### generate plot\n",
    "plt = plot_grid(plotlist = lst, align = \"v\")\n",
    "\n",
    "\n",
    "### assign and show\n",
    "plt_export_logit_split = plt\n",
    "options(repr.plot.height=8, repr.plot.width=16)\n",
    "print(plt)"
   ]
  },
  {
   "cell_type": "markdown",
   "id": "e07334f5-a663-4d2e-bb6b-df8f8b0378b5",
   "metadata": {},
   "source": [
    "**Export plots**"
   ]
  },
  {
   "cell_type": "code",
   "execution_count": 43,
   "id": "ff4f2e23-eb9a-4ef8-bdec-9e1fc4fb5057",
   "metadata": {},
   "outputs": [],
   "source": [
    "plt_export = plt_export_logit_split\n",
    "txt_export = \"fig.region_coverage_fcc.logit.odds_ratio.split\"\n",
    "num_height = 8\n",
    "num_width  = 16\n",
    "\n",
    "txt_fdiry = \"./\"\n",
    "txt_fname = paste(txt_export, \"png\", sep = \".\")\n",
    "txt_fpath = file.path(txt_fdiry, txt_fname)\n",
    "#ggsave(txt_fpath, plt_export, height = num_height, width = num_width, units = \"in\")\n",
    "\n",
    "txt_fdiry = \"./\"\n",
    "txt_fname = paste(txt_export, \"svg\", sep = \".\")\n",
    "txt_fpath = file.path(txt_fdiry, txt_fname)\n",
    "#ggsave(txt_fpath, plt_export, height = num_height, width = num_width, units = \"in\")"
   ]
  }
 ],
 "metadata": {
  "kernelspec": {
   "display_name": "R",
   "language": "R",
   "name": "ir"
  },
  "language_info": {
   "codemirror_mode": "r",
   "file_extension": ".r",
   "mimetype": "text/x-r-source",
   "name": "R",
   "pygments_lexer": "r",
   "version": "4.5.1"
  }
 },
 "nbformat": 4,
 "nbformat_minor": 5
}
