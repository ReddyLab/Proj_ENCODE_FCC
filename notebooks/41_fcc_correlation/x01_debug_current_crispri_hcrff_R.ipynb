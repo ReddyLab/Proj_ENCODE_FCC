{
 "cells": [
  {
   "cell_type": "code",
   "execution_count": null,
   "id": "f4fc91d9-9066-41a9-9e02-09519f9c609d",
   "metadata": {},
   "outputs": [],
   "source": []
  },
  {
   "cell_type": "markdown",
   "id": "89f376ca-233d-4949-88ed-e5b66242be78",
   "metadata": {},
   "source": [
    "**Set environment**"
   ]
  },
  {
   "cell_type": "code",
   "execution_count": 1,
   "id": "d993920b-65f5-456f-b6e2-b520d99d3c61",
   "metadata": {},
   "outputs": [
    {
     "name": "stdout",
     "output_type": "stream",
     "text": [
      "You are working on        Singularity: singularity_proj_encode_fcc \n",
      "BASE DIRECTORY (FD_BASE): /data/reddylab/Kuei \n",
      "REPO DIRECTORY (FD_REPO): /data/reddylab/Kuei/repo \n",
      "WORK DIRECTORY (FD_WORK): /data/reddylab/Kuei/work \n",
      "DATA DIRECTORY (FD_DATA): /data/reddylab/Kuei/data \n",
      "\n",
      "You are working with      ENCODE FCC \n",
      "PATH OF PROJECT (FD_PRJ): /data/reddylab/Kuei/repo/Proj_ENCODE_FCC \n",
      "PROJECT RESULTS (FD_RES): /data/reddylab/Kuei/repo/Proj_ENCODE_FCC/results \n",
      "PROJECT SCRIPTS (FD_EXE): /data/reddylab/Kuei/repo/Proj_ENCODE_FCC/scripts \n",
      "PROJECT DATA    (FD_DAT): /data/reddylab/Kuei/repo/Proj_ENCODE_FCC/data \n",
      "PROJECT NOTE    (FD_NBK): /data/reddylab/Kuei/repo/Proj_ENCODE_FCC/notebooks \n",
      "PROJECT DOCS    (FD_DOC): /data/reddylab/Kuei/repo/Proj_ENCODE_FCC/docs \n",
      "PROJECT LOG     (FD_LOG): /data/reddylab/Kuei/repo/Proj_ENCODE_FCC/log \n",
      "PROJECT REF     (FD_REF): /data/reddylab/Kuei/repo/Proj_ENCODE_FCC/references \n",
      "\n"
     ]
    }
   ],
   "source": [
    "suppressMessages(suppressWarnings(source(\"../run_config_project_sing.R\")))\n",
    "show_env()"
   ]
  },
  {
   "cell_type": "code",
   "execution_count": null,
   "id": "ad657d99-f6b1-432f-8933-e478b12a67e8",
   "metadata": {},
   "outputs": [],
   "source": []
  },
  {
   "cell_type": "code",
   "execution_count": null,
   "id": "a4b98a1e-1382-4da5-9306-c126031c5cb5",
   "metadata": {},
   "outputs": [],
   "source": []
  },
  {
   "cell_type": "code",
   "execution_count": null,
   "id": "04299c63-cb3e-4787-b422-bc8f16d9a58b",
   "metadata": {},
   "outputs": [],
   "source": []
  },
  {
   "cell_type": "code",
   "execution_count": 2,
   "id": "7e15fb88-a46b-4ea0-839d-39d14f23c9a3",
   "metadata": {},
   "outputs": [
    {
     "data": {
      "text/html": [
       "'/data/reddylab/Kuei/repo/Proj_ENCODE_FCC/results'"
      ],
      "text/latex": [
       "'/data/reddylab/Kuei/repo/Proj\\_ENCODE\\_FCC/results'"
      ],
      "text/markdown": [
       "'/data/reddylab/Kuei/repo/Proj_ENCODE_FCC/results'"
      ],
      "text/plain": [
       "[1] \"/data/reddylab/Kuei/repo/Proj_ENCODE_FCC/results\""
      ]
     },
     "metadata": {},
     "output_type": "display_data"
    }
   ],
   "source": [
    "FD_RES"
   ]
  },
  {
   "cell_type": "code",
   "execution_count": 8,
   "id": "39b6fa75-16fa-4f20-a0af-72d81155bd87",
   "metadata": {},
   "outputs": [
    {
     "name": "stdout",
     "output_type": "stream",
     "text": [
      "A001_K562_WSTARRseq \n",
      "comparison \n",
      "comparison_archive231029 \n",
      "CRISPRi_FlowFISH \n",
      "CRISPRi_Growth_K562_Gersbach \n",
      "hic_intact_K562_deep \n",
      "hic_intact_K562_ENCSR479XDG \n",
      "KS91_K562_ASTARRseq \n",
      "LentiMPRA_K562_Nadav \n",
      "region \n",
      "Tewhey_K562_TileMPRA \n"
     ]
    }
   ],
   "source": [
    "txt_fdiry = \"/data/reddylab/Kuei/work//proj_encode_fcc/results_v4\"\n",
    "vec = dir(txt_fdiry)\n",
    "for (txt in vec){cat(txt, \"\\n\")}"
   ]
  },
  {
   "cell_type": "code",
   "execution_count": 9,
   "id": "14a7b948-22b0-4ac2-86fc-94039c0f4f5a",
   "metadata": {},
   "outputs": [
    {
     "name": "stdout",
     "output_type": "stream",
     "text": [
      "result.ranknorm.starrmpra.overlap.tsv \n",
      "result.score.starrmpra.tsv \n"
     ]
    }
   ],
   "source": [
    "txt_fdiry = \"/data/reddylab/Kuei/work//proj_encode_fcc/results_v4/comparison\"\n",
    "vec = dir(txt_fdiry)\n",
    "for (txt in vec){cat(txt, \"\\n\")}"
   ]
  },
  {
   "cell_type": "code",
   "execution_count": 27,
   "id": "8f5d5b30-12b9-4ae9-b670-0475a346738a",
   "metadata": {},
   "outputs": [
    {
     "name": "stdout",
     "output_type": "stream",
     "text": [
      "[1] 1241    6\n"
     ]
    },
    {
     "data": {
      "text/html": [
       "<table>\n",
       " <thead>\n",
       "  <tr>\n",
       "   <th style=\"text-align:left;\"> Region </th>\n",
       "   <th style=\"text-align:right;\"> ASTARR </th>\n",
       "   <th style=\"text-align:right;\"> WSTARR </th>\n",
       "   <th style=\"text-align:right;\"> TMPRA </th>\n",
       "   <th style=\"text-align:right;\"> LMPRA </th>\n",
       "   <th style=\"text-align:right;\"> Mean </th>\n",
       "  </tr>\n",
       " </thead>\n",
       "<tbody>\n",
       "  <tr>\n",
       "   <td style=\"text-align:left;\"> chr11:32870601-32871324 </td>\n",
       "   <td style=\"text-align:right;\"> 0.1200645 </td>\n",
       "   <td style=\"text-align:right;\"> 0.0620467 </td>\n",
       "   <td style=\"text-align:right;\"> 0.1958098 </td>\n",
       "   <td style=\"text-align:right;\"> 0.2280419 </td>\n",
       "   <td style=\"text-align:right;\"> 0.1514907 </td>\n",
       "  </tr>\n",
       "  <tr>\n",
       "   <td style=\"text-align:left;\"> chr11:32874343-32875070 </td>\n",
       "   <td style=\"text-align:right;\"> 0.1305399 </td>\n",
       "   <td style=\"text-align:right;\"> 0.2143433 </td>\n",
       "   <td style=\"text-align:right;\"> 0.3231265 </td>\n",
       "   <td style=\"text-align:right;\"> 0.0809831 </td>\n",
       "   <td style=\"text-align:right;\"> 0.1872482 </td>\n",
       "  </tr>\n",
       "  <tr>\n",
       "   <td style=\"text-align:left;\"> chr11:32884749-32885822 </td>\n",
       "   <td style=\"text-align:right;\"> 0.0854150 </td>\n",
       "   <td style=\"text-align:right;\"> 0.2634972 </td>\n",
       "   <td style=\"text-align:right;\"> 0.5439162 </td>\n",
       "   <td style=\"text-align:right;\"> 0.7856567 </td>\n",
       "   <td style=\"text-align:right;\"> 0.4196213 </td>\n",
       "  </tr>\n",
       "</tbody>\n",
       "</table>"
      ]
     },
     "metadata": {},
     "output_type": "display_data"
    }
   ],
   "source": [
    "txt_fdiry = \"/data/reddylab/Kuei/work//proj_encode_fcc/results_v4/comparison\"\n",
    "txt_fname = \"result.ranknorm.starrmpra.overlap.tsv\"\n",
    "txt_fpath = file.path(txt_fdiry, txt_fname)\n",
    "\n",
    "dat = read_tsv(txt_fpath, show_col_types = FALSE)\n",
    "dat = dat %>% dplyr::rename(\"Region\" = \"Peak\")\n",
    "\n",
    "dat_region_ranknorm = dat\n",
    "print(dim(dat))\n",
    "fun_display_table(head(dat, 3))"
   ]
  },
  {
   "cell_type": "code",
   "execution_count": null,
   "id": "a50e5eb6-2e79-4909-9545-11a868f50c1c",
   "metadata": {},
   "outputs": [],
   "source": []
  },
  {
   "cell_type": "code",
   "execution_count": null,
   "id": "4c3b5ee2-3530-4c0a-b3c4-885008f2349f",
   "metadata": {},
   "outputs": [],
   "source": []
  },
  {
   "cell_type": "code",
   "execution_count": null,
   "id": "63da5fee-03e4-4045-8884-d10d1df7c471",
   "metadata": {},
   "outputs": [],
   "source": []
  },
  {
   "cell_type": "code",
   "execution_count": 13,
   "id": "8b7c60d3-030c-402d-b8f2-bb80fc7a7541",
   "metadata": {},
   "outputs": [
    {
     "name": "stdout",
     "output_type": "stream",
     "text": [
      "fcc_astarr_macs_input_overlap \n",
      "fcc_astarr_macs_input_union \n"
     ]
    }
   ],
   "source": [
    "#txt_fdiry = file.path(FD_RES, \"region_coverage_fcc\")\n",
    "#vec = dir(txt_fdiry)\n",
    "vec = c(\"fcc_astarr_macs_input_overlap\", \"fcc_astarr_macs_input_union\")\n",
    "names(vec) = vec\n",
    "\n",
    "VEC_TXT_FOLDER = vec\n",
    "for (txt in vec) {cat(txt, \"\\n\")}"
   ]
  },
  {
   "cell_type": "code",
   "execution_count": 14,
   "id": "475bdc9a-d97f-457a-b917-a82914d082d1",
   "metadata": {},
   "outputs": [
    {
     "name": "stdout",
     "output_type": "stream",
     "text": [
      "$fcc_astarr_macs_input_overlap\n",
      "[1] 941  32\n",
      "\n",
      "$fcc_astarr_macs_input_union\n",
      "[1] 1358   32\n",
      "\n"
     ]
    },
    {
     "data": {
      "text/html": [
       "<table class=\"dataframe\">\n",
       "<caption>A tibble: 3 × 32</caption>\n",
       "<thead>\n",
       "\t<tr><th scope=col>Chrom</th><th scope=col>ChromStart</th><th scope=col>ChromEnd</th><th scope=col>Region</th><th scope=col>Mean</th><th scope=col>Median</th><th scope=col>AbsMax</th><th scope=col>Max</th><th scope=col>Min</th><th scope=col>Count</th><th scope=col>⋯</th><th scope=col>Target_HBG1</th><th scope=col>Target_HBG2</th><th scope=col>Target_HBS1L</th><th scope=col>Target_HDAC6</th><th scope=col>Target_LMO2</th><th scope=col>Target_MEF2C</th><th scope=col>Target_MYB</th><th scope=col>Target_MYC</th><th scope=col>Target_NMU</th><th scope=col>Target_PVT1</th></tr>\n",
       "\t<tr><th scope=col>&lt;chr&gt;</th><th scope=col>&lt;dbl&gt;</th><th scope=col>&lt;dbl&gt;</th><th scope=col>&lt;chr&gt;</th><th scope=col>&lt;dbl&gt;</th><th scope=col>&lt;dbl&gt;</th><th scope=col>&lt;dbl&gt;</th><th scope=col>&lt;dbl&gt;</th><th scope=col>&lt;dbl&gt;</th><th scope=col>&lt;dbl&gt;</th><th scope=col>⋯</th><th scope=col>&lt;dbl&gt;</th><th scope=col>&lt;dbl&gt;</th><th scope=col>&lt;dbl&gt;</th><th scope=col>&lt;dbl&gt;</th><th scope=col>&lt;dbl&gt;</th><th scope=col>&lt;dbl&gt;</th><th scope=col>&lt;dbl&gt;</th><th scope=col>&lt;dbl&gt;</th><th scope=col>&lt;dbl&gt;</th><th scope=col>&lt;dbl&gt;</th></tr>\n",
       "</thead>\n",
       "<tbody>\n",
       "\t<tr><td>chr10</td><td>100729094</td><td>100729750</td><td>chr10:100729094-100729750</td><td>-0.07708560</td><td>-0.155771</td><td>-1.82683</td><td>1.63462</td><td>-1.82683</td><td> 84</td><td>⋯</td><td>NA</td><td>NA</td><td>NA</td><td>NA</td><td> 0.0534315</td><td>-0.453715167</td><td>NA</td><td>NA</td><td>-0.1621681</td><td>NA</td></tr>\n",
       "\t<tr><td>chr10</td><td>100743501</td><td>100744571</td><td>chr10:100743501-100744571</td><td>-0.06350497</td><td>-0.101530</td><td>-1.97401</td><td>1.83498</td><td>-1.97401</td><td>147</td><td>⋯</td><td>NA</td><td>NA</td><td>NA</td><td>NA</td><td>-0.1640059</td><td> 0.159182286</td><td>NA</td><td>NA</td><td>-0.1338784</td><td>NA</td></tr>\n",
       "\t<tr><td>chr10</td><td>100745413</td><td>100745741</td><td>chr10:100745413-100745741</td><td> 0.08003521</td><td> 0.111189</td><td> 2.60601</td><td>2.60601</td><td>-2.44093</td><td> 42</td><td>⋯</td><td>NA</td><td>NA</td><td>NA</td><td>NA</td><td>-0.1335742</td><td>-0.004853833</td><td>NA</td><td>NA</td><td> 0.2845222</td><td>NA</td></tr>\n",
       "</tbody>\n",
       "</table>\n"
      ],
      "text/latex": [
       "A tibble: 3 × 32\n",
       "\\begin{tabular}{lllllllllllllllllllll}\n",
       " Chrom & ChromStart & ChromEnd & Region & Mean & Median & AbsMax & Max & Min & Count & ⋯ & Target\\_HBG1 & Target\\_HBG2 & Target\\_HBS1L & Target\\_HDAC6 & Target\\_LMO2 & Target\\_MEF2C & Target\\_MYB & Target\\_MYC & Target\\_NMU & Target\\_PVT1\\\\\n",
       " <chr> & <dbl> & <dbl> & <chr> & <dbl> & <dbl> & <dbl> & <dbl> & <dbl> & <dbl> & ⋯ & <dbl> & <dbl> & <dbl> & <dbl> & <dbl> & <dbl> & <dbl> & <dbl> & <dbl> & <dbl>\\\\\n",
       "\\hline\n",
       "\t chr10 & 100729094 & 100729750 & chr10:100729094-100729750 & -0.07708560 & -0.155771 & -1.82683 & 1.63462 & -1.82683 &  84 & ⋯ & NA & NA & NA & NA &  0.0534315 & -0.453715167 & NA & NA & -0.1621681 & NA\\\\\n",
       "\t chr10 & 100743501 & 100744571 & chr10:100743501-100744571 & -0.06350497 & -0.101530 & -1.97401 & 1.83498 & -1.97401 & 147 & ⋯ & NA & NA & NA & NA & -0.1640059 &  0.159182286 & NA & NA & -0.1338784 & NA\\\\\n",
       "\t chr10 & 100745413 & 100745741 & chr10:100745413-100745741 &  0.08003521 &  0.111189 &  2.60601 & 2.60601 & -2.44093 &  42 & ⋯ & NA & NA & NA & NA & -0.1335742 & -0.004853833 & NA & NA &  0.2845222 & NA\\\\\n",
       "\\end{tabular}\n"
      ],
      "text/markdown": [
       "\n",
       "A tibble: 3 × 32\n",
       "\n",
       "| Chrom &lt;chr&gt; | ChromStart &lt;dbl&gt; | ChromEnd &lt;dbl&gt; | Region &lt;chr&gt; | Mean &lt;dbl&gt; | Median &lt;dbl&gt; | AbsMax &lt;dbl&gt; | Max &lt;dbl&gt; | Min &lt;dbl&gt; | Count &lt;dbl&gt; | ⋯ ⋯ | Target_HBG1 &lt;dbl&gt; | Target_HBG2 &lt;dbl&gt; | Target_HBS1L &lt;dbl&gt; | Target_HDAC6 &lt;dbl&gt; | Target_LMO2 &lt;dbl&gt; | Target_MEF2C &lt;dbl&gt; | Target_MYB &lt;dbl&gt; | Target_MYC &lt;dbl&gt; | Target_NMU &lt;dbl&gt; | Target_PVT1 &lt;dbl&gt; |\n",
       "|---|---|---|---|---|---|---|---|---|---|---|---|---|---|---|---|---|---|---|---|---|\n",
       "| chr10 | 100729094 | 100729750 | chr10:100729094-100729750 | -0.07708560 | -0.155771 | -1.82683 | 1.63462 | -1.82683 |  84 | ⋯ | NA | NA | NA | NA |  0.0534315 | -0.453715167 | NA | NA | -0.1621681 | NA |\n",
       "| chr10 | 100743501 | 100744571 | chr10:100743501-100744571 | -0.06350497 | -0.101530 | -1.97401 | 1.83498 | -1.97401 | 147 | ⋯ | NA | NA | NA | NA | -0.1640059 |  0.159182286 | NA | NA | -0.1338784 | NA |\n",
       "| chr10 | 100745413 | 100745741 | chr10:100745413-100745741 |  0.08003521 |  0.111189 |  2.60601 | 2.60601 | -2.44093 |  42 | ⋯ | NA | NA | NA | NA | -0.1335742 | -0.004853833 | NA | NA |  0.2845222 | NA |\n",
       "\n"
      ],
      "text/plain": [
       "  Chrom ChromStart ChromEnd  Region                    Mean        Median   \n",
       "1 chr10 100729094  100729750 chr10:100729094-100729750 -0.07708560 -0.155771\n",
       "2 chr10 100743501  100744571 chr10:100743501-100744571 -0.06350497 -0.101530\n",
       "3 chr10 100745413  100745741 chr10:100745413-100745741  0.08003521  0.111189\n",
       "  AbsMax   Max     Min      Count ⋯ Target_HBG1 Target_HBG2 Target_HBS1L\n",
       "1 -1.82683 1.63462 -1.82683  84   ⋯ NA          NA          NA          \n",
       "2 -1.97401 1.83498 -1.97401 147   ⋯ NA          NA          NA          \n",
       "3  2.60601 2.60601 -2.44093  42   ⋯ NA          NA          NA          \n",
       "  Target_HDAC6 Target_LMO2 Target_MEF2C Target_MYB Target_MYC Target_NMU\n",
       "1 NA            0.0534315  -0.453715167 NA         NA         -0.1621681\n",
       "2 NA           -0.1640059   0.159182286 NA         NA         -0.1338784\n",
       "3 NA           -0.1335742  -0.004853833 NA         NA          0.2845222\n",
       "  Target_PVT1\n",
       "1 NA         \n",
       "2 NA         \n",
       "3 NA         "
      ]
     },
     "metadata": {},
     "output_type": "display_data"
    }
   ],
   "source": [
    "txt_assay = \"CRISPRi_FlowFISH_K562_Riley_JinWoo\"\n",
    "\n",
    "lst = lapply(VEC_TXT_FOLDER, function(txt_folder){\n",
    "    ### set file directory\n",
    "    txt_fdiry  = file.path(\n",
    "        FD_RES, \n",
    "        \"region_coverage_fcc\", \n",
    "        txt_folder, \n",
    "        txt_assay,\n",
    "        \"overlap_score\",\n",
    "        \"summary\"\n",
    "    )\n",
    "    #txt_fname = \"result.coverage.score.filtered.tsv\"\n",
    "    txt_fname = \"result.coverage.score.tsv\"\n",
    "    txt_fpath = file.path(txt_fdiry, txt_fname)\n",
    "\n",
    "    ### read table\n",
    "    dat = read_tsv(txt_fpath, show_col_types = FALSE)\n",
    "    return(dat)\n",
    "})\n",
    "\n",
    "### assign and show\n",
    "lst_dat_region_score_chcrff_import = lst\n",
    "\n",
    "res = lapply(lst, dim)\n",
    "print(res)\n",
    "\n",
    "dat = lst[[1]]\n",
    "head(dat, 3)"
   ]
  },
  {
   "cell_type": "code",
   "execution_count": 21,
   "id": "40b30f73-2496-4d78-9017-d9ea12c473fc",
   "metadata": {},
   "outputs": [
    {
     "name": "stdout",
     "output_type": "stream",
     "text": [
      "[1] 1358   32\n"
     ]
    },
    {
     "data": {
      "text/html": [
       "<table>\n",
       " <thead>\n",
       "  <tr>\n",
       "   <th style=\"text-align:left;\"> Chrom </th>\n",
       "   <th style=\"text-align:right;\"> ChromStart </th>\n",
       "   <th style=\"text-align:right;\"> ChromEnd </th>\n",
       "   <th style=\"text-align:left;\"> Region </th>\n",
       "   <th style=\"text-align:right;\"> Mean </th>\n",
       "   <th style=\"text-align:right;\"> Median </th>\n",
       "   <th style=\"text-align:right;\"> AbsMax </th>\n",
       "   <th style=\"text-align:right;\"> Max </th>\n",
       "   <th style=\"text-align:right;\"> Min </th>\n",
       "   <th style=\"text-align:right;\"> Count </th>\n",
       "   <th style=\"text-align:right;\"> Mean_Neg </th>\n",
       "   <th style=\"text-align:right;\"> Mean_Pos </th>\n",
       "   <th style=\"text-align:right;\"> Target_CAPRIN1 </th>\n",
       "   <th style=\"text-align:right;\"> Target_CAT </th>\n",
       "   <th style=\"text-align:right;\"> Target_CD164 </th>\n",
       "   <th style=\"text-align:right;\"> Target_ERP29 </th>\n",
       "   <th style=\"text-align:right;\"> Target_FADS1 </th>\n",
       "   <th style=\"text-align:right;\"> Target_FADS2 </th>\n",
       "   <th style=\"text-align:right;\"> Target_FADS3 </th>\n",
       "   <th style=\"text-align:right;\"> Target_FEN1 </th>\n",
       "   <th style=\"text-align:right;\"> Target_GATA1 </th>\n",
       "   <th style=\"text-align:right;\"> Target_HBE1 </th>\n",
       "   <th style=\"text-align:right;\"> Target_HBG1 </th>\n",
       "   <th style=\"text-align:right;\"> Target_HBG2 </th>\n",
       "   <th style=\"text-align:right;\"> Target_HBS1L </th>\n",
       "   <th style=\"text-align:right;\"> Target_HDAC6 </th>\n",
       "   <th style=\"text-align:right;\"> Target_LMO2 </th>\n",
       "   <th style=\"text-align:right;\"> Target_MEF2C </th>\n",
       "   <th style=\"text-align:right;\"> Target_MYB </th>\n",
       "   <th style=\"text-align:right;\"> Target_MYC </th>\n",
       "   <th style=\"text-align:right;\"> Target_NMU </th>\n",
       "   <th style=\"text-align:right;\"> Target_PVT1 </th>\n",
       "  </tr>\n",
       " </thead>\n",
       "<tbody>\n",
       "  <tr>\n",
       "   <td style=\"text-align:left;\"> chr10 </td>\n",
       "   <td style=\"text-align:right;\"> 100729027 </td>\n",
       "   <td style=\"text-align:right;\"> 100729908 </td>\n",
       "   <td style=\"text-align:left;\"> chr10:100729027-100729908 </td>\n",
       "   <td style=\"text-align:right;\"> -0.0858394 </td>\n",
       "   <td style=\"text-align:right;\"> -0.1594330 </td>\n",
       "   <td style=\"text-align:right;\"> 2.14893 </td>\n",
       "   <td style=\"text-align:right;\"> 2.14893 </td>\n",
       "   <td style=\"text-align:right;\"> -1.82683 </td>\n",
       "   <td style=\"text-align:right;\"> 105 </td>\n",
       "   <td style=\"text-align:right;\"> -0.5536601 </td>\n",
       "   <td style=\"text-align:right;\"> 0.5141915 </td>\n",
       "   <td style=\"text-align:right;\"> -0.0414317 </td>\n",
       "   <td style=\"text-align:right;\"> -0.2229054 </td>\n",
       "   <td style=\"text-align:right;\"> -0.3815898 </td>\n",
       "   <td style=\"text-align:right;\"> 0.5596685 </td>\n",
       "   <td style=\"text-align:right;\"> NA </td>\n",
       "   <td style=\"text-align:right;\"> NA </td>\n",
       "   <td style=\"text-align:right;\"> NA </td>\n",
       "   <td style=\"text-align:right;\"> NA </td>\n",
       "   <td style=\"text-align:right;\"> NA </td>\n",
       "   <td style=\"text-align:right;\"> NA </td>\n",
       "   <td style=\"text-align:right;\"> NA </td>\n",
       "   <td style=\"text-align:right;\"> NA </td>\n",
       "   <td style=\"text-align:right;\"> NA </td>\n",
       "   <td style=\"text-align:right;\"> NA </td>\n",
       "   <td style=\"text-align:right;\"> 0.0318141 </td>\n",
       "   <td style=\"text-align:right;\"> -0.4688053 </td>\n",
       "   <td style=\"text-align:right;\"> NA </td>\n",
       "   <td style=\"text-align:right;\"> NA </td>\n",
       "   <td style=\"text-align:right;\"> -0.0776260 </td>\n",
       "   <td style=\"text-align:right;\"> NA </td>\n",
       "  </tr>\n",
       "  <tr>\n",
       "   <td style=\"text-align:left;\"> chr10 </td>\n",
       "   <td style=\"text-align:right;\"> 100731148 </td>\n",
       "   <td style=\"text-align:right;\"> 100731673 </td>\n",
       "   <td style=\"text-align:left;\"> chr10:100731148-100731673 </td>\n",
       "   <td style=\"text-align:right;\"> -0.0904755 </td>\n",
       "   <td style=\"text-align:right;\"> -0.0654630 </td>\n",
       "   <td style=\"text-align:right;\"> -1.82975 </td>\n",
       "   <td style=\"text-align:right;\"> 1.82954 </td>\n",
       "   <td style=\"text-align:right;\"> -1.82975 </td>\n",
       "   <td style=\"text-align:right;\"> 77 </td>\n",
       "   <td style=\"text-align:right;\"> -0.5561907 </td>\n",
       "   <td style=\"text-align:right;\"> 0.4683827 </td>\n",
       "   <td style=\"text-align:right;\"> -0.0352723 </td>\n",
       "   <td style=\"text-align:right;\"> -0.0595452 </td>\n",
       "   <td style=\"text-align:right;\"> 0.0086696 </td>\n",
       "   <td style=\"text-align:right;\"> 0.0036632 </td>\n",
       "   <td style=\"text-align:right;\"> NA </td>\n",
       "   <td style=\"text-align:right;\"> NA </td>\n",
       "   <td style=\"text-align:right;\"> NA </td>\n",
       "   <td style=\"text-align:right;\"> NA </td>\n",
       "   <td style=\"text-align:right;\"> NA </td>\n",
       "   <td style=\"text-align:right;\"> NA </td>\n",
       "   <td style=\"text-align:right;\"> NA </td>\n",
       "   <td style=\"text-align:right;\"> NA </td>\n",
       "   <td style=\"text-align:right;\"> NA </td>\n",
       "   <td style=\"text-align:right;\"> NA </td>\n",
       "   <td style=\"text-align:right;\"> 0.1832274 </td>\n",
       "   <td style=\"text-align:right;\"> -0.4742773 </td>\n",
       "   <td style=\"text-align:right;\"> NA </td>\n",
       "   <td style=\"text-align:right;\"> NA </td>\n",
       "   <td style=\"text-align:right;\"> -0.2597943 </td>\n",
       "   <td style=\"text-align:right;\"> NA </td>\n",
       "  </tr>\n",
       "  <tr>\n",
       "   <td style=\"text-align:left;\"> chr10 </td>\n",
       "   <td style=\"text-align:right;\"> 100735439 </td>\n",
       "   <td style=\"text-align:right;\"> 100736071 </td>\n",
       "   <td style=\"text-align:left;\"> chr10:100735439-100736071 </td>\n",
       "   <td style=\"text-align:right;\"> -0.0833788 </td>\n",
       "   <td style=\"text-align:right;\"> -0.0532875 </td>\n",
       "   <td style=\"text-align:right;\"> 2.91365 </td>\n",
       "   <td style=\"text-align:right;\"> 2.91365 </td>\n",
       "   <td style=\"text-align:right;\"> -2.46520 </td>\n",
       "   <td style=\"text-align:right;\"> 70 </td>\n",
       "   <td style=\"text-align:right;\"> -0.8810970 </td>\n",
       "   <td style=\"text-align:right;\"> 0.7143393 </td>\n",
       "   <td style=\"text-align:right;\"> -0.1459802 </td>\n",
       "   <td style=\"text-align:right;\"> -0.0943544 </td>\n",
       "   <td style=\"text-align:right;\"> 0.3746315 </td>\n",
       "   <td style=\"text-align:right;\"> -0.0374764 </td>\n",
       "   <td style=\"text-align:right;\"> NA </td>\n",
       "   <td style=\"text-align:right;\"> NA </td>\n",
       "   <td style=\"text-align:right;\"> NA </td>\n",
       "   <td style=\"text-align:right;\"> NA </td>\n",
       "   <td style=\"text-align:right;\"> NA </td>\n",
       "   <td style=\"text-align:right;\"> NA </td>\n",
       "   <td style=\"text-align:right;\"> NA </td>\n",
       "   <td style=\"text-align:right;\"> NA </td>\n",
       "   <td style=\"text-align:right;\"> NA </td>\n",
       "   <td style=\"text-align:right;\"> NA </td>\n",
       "   <td style=\"text-align:right;\"> -0.0494644 </td>\n",
       "   <td style=\"text-align:right;\"> -0.4473627 </td>\n",
       "   <td style=\"text-align:right;\"> NA </td>\n",
       "   <td style=\"text-align:right;\"> NA </td>\n",
       "   <td style=\"text-align:right;\"> -0.1836452 </td>\n",
       "   <td style=\"text-align:right;\"> NA </td>\n",
       "  </tr>\n",
       "</tbody>\n",
       "</table>"
      ]
     },
     "metadata": {},
     "output_type": "display_data"
    }
   ],
   "source": [
    "txt = \"fcc_astarr_macs_input_union\"\n",
    "lst = lst_dat_region_score_chcrff_import\n",
    "dat = lst[[txt]]\n",
    "dat_region_score_chcrff_import = dat\n",
    "print(dim(dat))\n",
    "fun_display_table(head(dat, 3))"
   ]
  },
  {
   "cell_type": "code",
   "execution_count": 35,
   "id": "9169597d-333a-42f1-84b5-90bb646c3edb",
   "metadata": {},
   "outputs": [
    {
     "name": "stdout",
     "output_type": "stream",
     "text": [
      "[1] 1358   32\n",
      "\n",
      " 1  2  3  4  5  6 \n",
      " 6 11  5 10  9 13 \n",
      "\n",
      "1185 1228 1325 1330 1785 2115 \n",
      "   1    1    1    1    1    1 \n"
     ]
    },
    {
     "data": {
      "text/html": [
       "<table class=\"dataframe\">\n",
       "<caption>A tibble: 3 × 32</caption>\n",
       "<thead>\n",
       "\t<tr><th scope=col>Chrom</th><th scope=col>ChromStart</th><th scope=col>ChromEnd</th><th scope=col>Region</th><th scope=col>Mean</th><th scope=col>Median</th><th scope=col>AbsMax</th><th scope=col>Max</th><th scope=col>Min</th><th scope=col>Count</th><th scope=col>⋯</th><th scope=col>Target_HBG1</th><th scope=col>Target_HBG2</th><th scope=col>Target_HBS1L</th><th scope=col>Target_HDAC6</th><th scope=col>Target_LMO2</th><th scope=col>Target_MEF2C</th><th scope=col>Target_MYB</th><th scope=col>Target_MYC</th><th scope=col>Target_NMU</th><th scope=col>Target_PVT1</th></tr>\n",
       "\t<tr><th scope=col>&lt;chr&gt;</th><th scope=col>&lt;dbl&gt;</th><th scope=col>&lt;dbl&gt;</th><th scope=col>&lt;chr&gt;</th><th scope=col>&lt;dbl&gt;</th><th scope=col>&lt;dbl&gt;</th><th scope=col>&lt;dbl&gt;</th><th scope=col>&lt;dbl&gt;</th><th scope=col>&lt;dbl&gt;</th><th scope=col>&lt;dbl&gt;</th><th scope=col>⋯</th><th scope=col>&lt;dbl&gt;</th><th scope=col>&lt;dbl&gt;</th><th scope=col>&lt;dbl&gt;</th><th scope=col>&lt;dbl&gt;</th><th scope=col>&lt;dbl&gt;</th><th scope=col>&lt;dbl&gt;</th><th scope=col>&lt;dbl&gt;</th><th scope=col>&lt;dbl&gt;</th><th scope=col>&lt;dbl&gt;</th><th scope=col>&lt;dbl&gt;</th></tr>\n",
       "</thead>\n",
       "<tbody>\n",
       "\t<tr><td>chr10</td><td>100729027</td><td>100729908</td><td>chr10:100729027-100729908</td><td>-0.08583938</td><td>-0.1594330</td><td> 2.14893</td><td>2.14893</td><td>-1.82683</td><td>105</td><td>⋯</td><td>NA</td><td>NA</td><td>NA</td><td>NA</td><td> 0.03181413</td><td>-0.4688053</td><td>NA</td><td>NA</td><td>-0.0776260</td><td>NA</td></tr>\n",
       "\t<tr><td>chr10</td><td>100731148</td><td>100731673</td><td>chr10:100731148-100731673</td><td>-0.09047555</td><td>-0.0654630</td><td>-1.82975</td><td>1.82954</td><td>-1.82975</td><td> 77</td><td>⋯</td><td>NA</td><td>NA</td><td>NA</td><td>NA</td><td> 0.18322736</td><td>-0.4742773</td><td>NA</td><td>NA</td><td>-0.2597943</td><td>NA</td></tr>\n",
       "\t<tr><td>chr10</td><td>100735439</td><td>100736071</td><td>chr10:100735439-100736071</td><td>-0.08337883</td><td>-0.0532875</td><td> 2.91365</td><td>2.91365</td><td>-2.46520</td><td> 70</td><td>⋯</td><td>NA</td><td>NA</td><td>NA</td><td>NA</td><td>-0.04946440</td><td>-0.4473627</td><td>NA</td><td>NA</td><td>-0.1836452</td><td>NA</td></tr>\n",
       "</tbody>\n",
       "</table>\n"
      ],
      "text/latex": [
       "A tibble: 3 × 32\n",
       "\\begin{tabular}{lllllllllllllllllllll}\n",
       " Chrom & ChromStart & ChromEnd & Region & Mean & Median & AbsMax & Max & Min & Count & ⋯ & Target\\_HBG1 & Target\\_HBG2 & Target\\_HBS1L & Target\\_HDAC6 & Target\\_LMO2 & Target\\_MEF2C & Target\\_MYB & Target\\_MYC & Target\\_NMU & Target\\_PVT1\\\\\n",
       " <chr> & <dbl> & <dbl> & <chr> & <dbl> & <dbl> & <dbl> & <dbl> & <dbl> & <dbl> & ⋯ & <dbl> & <dbl> & <dbl> & <dbl> & <dbl> & <dbl> & <dbl> & <dbl> & <dbl> & <dbl>\\\\\n",
       "\\hline\n",
       "\t chr10 & 100729027 & 100729908 & chr10:100729027-100729908 & -0.08583938 & -0.1594330 &  2.14893 & 2.14893 & -1.82683 & 105 & ⋯ & NA & NA & NA & NA &  0.03181413 & -0.4688053 & NA & NA & -0.0776260 & NA\\\\\n",
       "\t chr10 & 100731148 & 100731673 & chr10:100731148-100731673 & -0.09047555 & -0.0654630 & -1.82975 & 1.82954 & -1.82975 &  77 & ⋯ & NA & NA & NA & NA &  0.18322736 & -0.4742773 & NA & NA & -0.2597943 & NA\\\\\n",
       "\t chr10 & 100735439 & 100736071 & chr10:100735439-100736071 & -0.08337883 & -0.0532875 &  2.91365 & 2.91365 & -2.46520 &  70 & ⋯ & NA & NA & NA & NA & -0.04946440 & -0.4473627 & NA & NA & -0.1836452 & NA\\\\\n",
       "\\end{tabular}\n"
      ],
      "text/markdown": [
       "\n",
       "A tibble: 3 × 32\n",
       "\n",
       "| Chrom &lt;chr&gt; | ChromStart &lt;dbl&gt; | ChromEnd &lt;dbl&gt; | Region &lt;chr&gt; | Mean &lt;dbl&gt; | Median &lt;dbl&gt; | AbsMax &lt;dbl&gt; | Max &lt;dbl&gt; | Min &lt;dbl&gt; | Count &lt;dbl&gt; | ⋯ ⋯ | Target_HBG1 &lt;dbl&gt; | Target_HBG2 &lt;dbl&gt; | Target_HBS1L &lt;dbl&gt; | Target_HDAC6 &lt;dbl&gt; | Target_LMO2 &lt;dbl&gt; | Target_MEF2C &lt;dbl&gt; | Target_MYB &lt;dbl&gt; | Target_MYC &lt;dbl&gt; | Target_NMU &lt;dbl&gt; | Target_PVT1 &lt;dbl&gt; |\n",
       "|---|---|---|---|---|---|---|---|---|---|---|---|---|---|---|---|---|---|---|---|---|\n",
       "| chr10 | 100729027 | 100729908 | chr10:100729027-100729908 | -0.08583938 | -0.1594330 |  2.14893 | 2.14893 | -1.82683 | 105 | ⋯ | NA | NA | NA | NA |  0.03181413 | -0.4688053 | NA | NA | -0.0776260 | NA |\n",
       "| chr10 | 100731148 | 100731673 | chr10:100731148-100731673 | -0.09047555 | -0.0654630 | -1.82975 | 1.82954 | -1.82975 |  77 | ⋯ | NA | NA | NA | NA |  0.18322736 | -0.4742773 | NA | NA | -0.2597943 | NA |\n",
       "| chr10 | 100735439 | 100736071 | chr10:100735439-100736071 | -0.08337883 | -0.0532875 |  2.91365 | 2.91365 | -2.46520 |  70 | ⋯ | NA | NA | NA | NA | -0.04946440 | -0.4473627 | NA | NA | -0.1836452 | NA |\n",
       "\n"
      ],
      "text/plain": [
       "  Chrom ChromStart ChromEnd  Region                    Mean        Median    \n",
       "1 chr10 100729027  100729908 chr10:100729027-100729908 -0.08583938 -0.1594330\n",
       "2 chr10 100731148  100731673 chr10:100731148-100731673 -0.09047555 -0.0654630\n",
       "3 chr10 100735439  100736071 chr10:100735439-100736071 -0.08337883 -0.0532875\n",
       "  AbsMax   Max     Min      Count ⋯ Target_HBG1 Target_HBG2 Target_HBS1L\n",
       "1  2.14893 2.14893 -1.82683 105   ⋯ NA          NA          NA          \n",
       "2 -1.82975 1.82954 -1.82975  77   ⋯ NA          NA          NA          \n",
       "3  2.91365 2.91365 -2.46520  70   ⋯ NA          NA          NA          \n",
       "  Target_HDAC6 Target_LMO2 Target_MEF2C Target_MYB Target_MYC Target_NMU\n",
       "1 NA            0.03181413 -0.4688053   NA         NA         -0.0776260\n",
       "2 NA            0.18322736 -0.4742773   NA         NA         -0.2597943\n",
       "3 NA           -0.04946440 -0.4473627   NA         NA         -0.1836452\n",
       "  Target_PVT1\n",
       "1 NA         \n",
       "2 NA         \n",
       "3 NA         "
      ]
     },
     "metadata": {},
     "output_type": "display_data"
    }
   ],
   "source": [
    "dat = dat_region_score_chcrff_import\n",
    "res = table(dat$Count)\n",
    "\n",
    "print(dim(dat))\n",
    "print(head(res))\n",
    "print(tail(res))\n",
    "head(dat, 3)"
   ]
  },
  {
   "cell_type": "code",
   "execution_count": null,
   "id": "6d546401-b2b8-4e85-9627-d77e9e1f4170",
   "metadata": {},
   "outputs": [],
   "source": []
  },
  {
   "cell_type": "code",
   "execution_count": null,
   "id": "4958f651-9693-48f6-b937-18015b3b352b",
   "metadata": {},
   "outputs": [],
   "source": []
  },
  {
   "cell_type": "code",
   "execution_count": 45,
   "id": "0ff6344c-5e67-4e2e-ac84-e6d37a08d51e",
   "metadata": {},
   "outputs": [],
   "source": [
    "VEC_TXT_ASSAY = c(\"ASTARR\", \"WSTARR\", \"LMPRA\", \"TMPRA\")"
   ]
  },
  {
   "cell_type": "code",
   "execution_count": 28,
   "id": "b37d2d26-0f0a-496c-a09f-c97fd852742f",
   "metadata": {},
   "outputs": [
    {
     "name": "stdout",
     "output_type": "stream",
     "text": [
      "[1] 1241    6\n"
     ]
    },
    {
     "data": {
      "text/html": [
       "<table>\n",
       " <thead>\n",
       "  <tr>\n",
       "   <th style=\"text-align:left;\"> Region </th>\n",
       "   <th style=\"text-align:right;\"> ASTARR </th>\n",
       "   <th style=\"text-align:right;\"> WSTARR </th>\n",
       "   <th style=\"text-align:right;\"> TMPRA </th>\n",
       "   <th style=\"text-align:right;\"> LMPRA </th>\n",
       "   <th style=\"text-align:right;\"> Mean </th>\n",
       "  </tr>\n",
       " </thead>\n",
       "<tbody>\n",
       "  <tr>\n",
       "   <td style=\"text-align:left;\"> chr11:32870601-32871324 </td>\n",
       "   <td style=\"text-align:right;\"> 0.1200645 </td>\n",
       "   <td style=\"text-align:right;\"> 0.0620467 </td>\n",
       "   <td style=\"text-align:right;\"> 0.1958098 </td>\n",
       "   <td style=\"text-align:right;\"> 0.2280419 </td>\n",
       "   <td style=\"text-align:right;\"> 0.1514907 </td>\n",
       "  </tr>\n",
       "  <tr>\n",
       "   <td style=\"text-align:left;\"> chr11:32874343-32875070 </td>\n",
       "   <td style=\"text-align:right;\"> 0.1305399 </td>\n",
       "   <td style=\"text-align:right;\"> 0.2143433 </td>\n",
       "   <td style=\"text-align:right;\"> 0.3231265 </td>\n",
       "   <td style=\"text-align:right;\"> 0.0809831 </td>\n",
       "   <td style=\"text-align:right;\"> 0.1872482 </td>\n",
       "  </tr>\n",
       "  <tr>\n",
       "   <td style=\"text-align:left;\"> chr11:32884749-32885822 </td>\n",
       "   <td style=\"text-align:right;\"> 0.0854150 </td>\n",
       "   <td style=\"text-align:right;\"> 0.2634972 </td>\n",
       "   <td style=\"text-align:right;\"> 0.5439162 </td>\n",
       "   <td style=\"text-align:right;\"> 0.7856567 </td>\n",
       "   <td style=\"text-align:right;\"> 0.4196213 </td>\n",
       "  </tr>\n",
       "  <tr>\n",
       "   <td style=\"text-align:left;\"> chr11:32901572-32902485 </td>\n",
       "   <td style=\"text-align:right;\"> 0.2232071 </td>\n",
       "   <td style=\"text-align:right;\"> 0.3545528 </td>\n",
       "   <td style=\"text-align:right;\"> 0.1571313 </td>\n",
       "   <td style=\"text-align:right;\"> 0.3174859 </td>\n",
       "   <td style=\"text-align:right;\"> 0.2630943 </td>\n",
       "  </tr>\n",
       "  <tr>\n",
       "   <td style=\"text-align:left;\"> chr11:32903491-32904506 </td>\n",
       "   <td style=\"text-align:right;\"> 0.5237712 </td>\n",
       "   <td style=\"text-align:right;\"> 0.0153102 </td>\n",
       "   <td style=\"text-align:right;\"> 0.2095085 </td>\n",
       "   <td style=\"text-align:right;\"> 0.7405318 </td>\n",
       "   <td style=\"text-align:right;\"> 0.3722804 </td>\n",
       "  </tr>\n",
       "  <tr>\n",
       "   <td style=\"text-align:left;\"> chr11:32910855-32912010 </td>\n",
       "   <td style=\"text-align:right;\"> 0.6857373 </td>\n",
       "   <td style=\"text-align:right;\"> 0.4464142 </td>\n",
       "   <td style=\"text-align:right;\"> 0.9129734 </td>\n",
       "   <td style=\"text-align:right;\"> 0.4375504 </td>\n",
       "   <td style=\"text-align:right;\"> 0.6206688 </td>\n",
       "  </tr>\n",
       "</tbody>\n",
       "</table>"
      ]
     },
     "metadata": {},
     "output_type": "display_data"
    }
   ],
   "source": [
    "#txt = \"fcc_astarr_macs_input_union\"\n",
    "#lst = lst_dat_region_score_starrmpra_import\n",
    "#dat = lst[[txt]]\n",
    "#dat_region_score_starrmpra_import = dat\n",
    "dat = dat_region_ranknorm\n",
    "print(dim(dat))\n",
    "fun_display_table(head(dat))"
   ]
  },
  {
   "cell_type": "code",
   "execution_count": 29,
   "id": "49c85d7e-96d0-4cb0-9d76-903c8eb7e310",
   "metadata": {},
   "outputs": [
    {
     "name": "stdout",
     "output_type": "stream",
     "text": [
      "[1] 1241    1\n"
     ]
    },
    {
     "data": {
      "text/html": [
       "<table>\n",
       " <thead>\n",
       "  <tr>\n",
       "   <th style=\"text-align:left;\"> Region </th>\n",
       "  </tr>\n",
       " </thead>\n",
       "<tbody>\n",
       "  <tr>\n",
       "   <td style=\"text-align:left;\"> chr11:32870601-32871324 </td>\n",
       "  </tr>\n",
       "  <tr>\n",
       "   <td style=\"text-align:left;\"> chr11:32874343-32875070 </td>\n",
       "  </tr>\n",
       "  <tr>\n",
       "   <td style=\"text-align:left;\"> chr11:32884749-32885822 </td>\n",
       "  </tr>\n",
       "  <tr>\n",
       "   <td style=\"text-align:left;\"> chr11:32901572-32902485 </td>\n",
       "  </tr>\n",
       "  <tr>\n",
       "   <td style=\"text-align:left;\"> chr11:32903491-32904506 </td>\n",
       "  </tr>\n",
       "  <tr>\n",
       "   <td style=\"text-align:left;\"> chr11:32910855-32912010 </td>\n",
       "  </tr>\n",
       "</tbody>\n",
       "</table>"
      ]
     },
     "metadata": {},
     "output_type": "display_data"
    }
   ],
   "source": [
    "dat = dat_region_ranknorm\n",
    "dat = dat %>% \n",
    "    #dplyr::select(Chrom, ChromStart, ChromEnd, Region) %>% \n",
    "    dplyr::select(Region) %>% \n",
    "    dplyr::distinct()\n",
    "\n",
    "###\n",
    "dat_region = dat\n",
    "print(dim(dat))\n",
    "fun_display_table(head(dat))"
   ]
  },
  {
   "cell_type": "code",
   "execution_count": 30,
   "id": "53557aca-1e0c-4828-b907-9cce8845cc37",
   "metadata": {},
   "outputs": [
    {
     "name": "stdout",
     "output_type": "stream",
     "text": [
      "[1] 1241\n"
     ]
    }
   ],
   "source": [
    "#dat = dat_region_score_starrmpra_import\n",
    "dat = dat_region_ranknorm\n",
    "\n",
    "dat = dat %>% \n",
    "    dplyr::select(Region, Mean) %>% \n",
    "    dplyr::distinct() %>%\n",
    "    dplyr::arrange(Mean)\n",
    "vec = dat$Region\n",
    "\n",
    "### assign and show\n",
    "VEC_TXT_REGION = vec\n",
    "print(length(vec))"
   ]
  },
  {
   "cell_type": "code",
   "execution_count": 34,
   "id": "690b17ac-0dd4-4582-a283-679c90adb537",
   "metadata": {},
   "outputs": [
    {
     "name": "stdout",
     "output_type": "stream",
     "text": [
      "[1] 2482    3\n"
     ]
    },
    {
     "data": {
      "text/html": [
       "<table>\n",
       " <thead>\n",
       "  <tr>\n",
       "   <th style=\"text-align:left;\"> Region </th>\n",
       "   <th style=\"text-align:left;\"> Group </th>\n",
       "   <th style=\"text-align:right;\"> Score </th>\n",
       "  </tr>\n",
       " </thead>\n",
       "<tbody>\n",
       "  <tr>\n",
       "   <td style=\"text-align:left;\"> chr11:4539569-4540043 </td>\n",
       "   <td style=\"text-align:left;\"> Mean_Pos </td>\n",
       "   <td style=\"text-align:right;\"> 0.4905018 </td>\n",
       "  </tr>\n",
       "  <tr>\n",
       "   <td style=\"text-align:left;\"> chr11:4607676-4608647 </td>\n",
       "   <td style=\"text-align:left;\"> Mean_Pos </td>\n",
       "   <td style=\"text-align:right;\"> 0.4771347 </td>\n",
       "  </tr>\n",
       "  <tr>\n",
       "   <td style=\"text-align:left;\"> chr11:4626130-4626814 </td>\n",
       "   <td style=\"text-align:left;\"> Mean_Pos </td>\n",
       "   <td style=\"text-align:right;\"> 0.4872799 </td>\n",
       "  </tr>\n",
       "</tbody>\n",
       "</table>"
      ]
     },
     "metadata": {},
     "output_type": "display_data"
    }
   ],
   "source": [
    "dat = dat_region_score_chcrff_import\n",
    "dat = dat %>% dplyr::filter(Count >= 3)\n",
    "\n",
    "dat = dat %>% \n",
    "    dplyr::select(Region, Mean_Pos, Mean_Neg) %>%\n",
    "    dplyr::right_join(dat_region, by = \"Region\")\n",
    "\n",
    "dat = dat %>% \n",
    "    #tidyr::gather(Group, Score, -Chrom, -ChromStart, -ChromEnd, -Region) %>%\n",
    "    tidyr::gather(Group, Score, -Region) %>%\n",
    "    dplyr::select(Region, Group, Score) %>%\n",
    "    dplyr::mutate(Region = factor(Region, levels=VEC_TXT_REGION)) %>%\n",
    "    replace(is.na(.), 0)\n",
    "\n",
    "dat_region_score_chcrff_arrange = dat\n",
    "print(dim(dat))\n",
    "fun_display_table(head(dat, 3))"
   ]
  },
  {
   "cell_type": "code",
   "execution_count": 32,
   "id": "c625666b-ea4b-431b-b4ed-88a64b0c2faf",
   "metadata": {},
   "outputs": [
    {
     "data": {
      "text/plain": [
       "\n",
       "Mean_Neg Mean_Pos \n",
       "    1241     1241 "
      ]
     },
     "metadata": {},
     "output_type": "display_data"
    }
   ],
   "source": [
    "dat = dat_region_score_chcrff_arrange\n",
    "table(dat$Group)"
   ]
  },
  {
   "cell_type": "code",
   "execution_count": 33,
   "id": "2885d80b-aa12-44c9-8200-b2c04109093a",
   "metadata": {},
   "outputs": [
    {
     "data": {
      "image/png": "[encoded data removed]",
      "text/plain": [
       "plot without title"
      ]
     },
     "metadata": {
      "image/png": {
       "height": 180,
       "width": 900
      }
     },
     "output_type": "display_data"
    }
   ],
   "source": [
    "theme_fill = scale_fill_manual(\n",
    "    values = c(\n",
    "        \"Mean_Pos\"=\"#e31a1c\", \n",
    "        \"Mean_Neg\"=\"#1f78b4\")\n",
    ")\n",
    "\n",
    "theme_text = theme(\n",
    "    axis.ticks.x = element_blank(),\n",
    "    axis.text.x  = element_blank(),\n",
    "    axis.text.y  = element_text(size = 15),\n",
    "    axis.title.x = element_blank(),\n",
    "    axis.title.y = element_blank(),\n",
    "    plot.title = element_text(face = \"plain\", size = 17)\n",
    "    #axis.title.y = element_text(size = 15)\n",
    ")\n",
    "\n",
    "theme_legend = theme(legend.position = \"none\")\n",
    "\n",
    "dat = dat_region_score_chcrff_arrange\n",
    "\n",
    "gpt = ggplot(dat, aes(x=Region, y=Score, fill=Group)) + \n",
    "    geom_col(width=1, position=\"identity\") + \n",
    "    labs(title = \"CRISPRi-HCRFF\") +\n",
    "    theme_cowplot() + \n",
    "    theme_text +\n",
    "    theme_fill +\n",
    "    theme_legend\n",
    "\n",
    "gpt_score_chcrff = gpt\n",
    "\n",
    "options(repr.plot.height=3, repr.plot.width=15)\n",
    "print(gpt)"
   ]
  },
  {
   "cell_type": "code",
   "execution_count": null,
   "id": "bfb0e922-e4e8-47b9-b59c-2bf2000a1e97",
   "metadata": {},
   "outputs": [],
   "source": []
  }
 ],
 "metadata": {
  "kernelspec": {
   "display_name": "R",
   "language": "R",
   "name": "ir"
  },
  "language_info": {
   "codemirror_mode": "r",
   "file_extension": ".r",
   "mimetype": "text/x-r-source",
   "name": "R",
   "pygments_lexer": "r",
   "version": "4.4.2"
  }
 },
 "nbformat": 4,
 "nbformat_minor": 5
}
