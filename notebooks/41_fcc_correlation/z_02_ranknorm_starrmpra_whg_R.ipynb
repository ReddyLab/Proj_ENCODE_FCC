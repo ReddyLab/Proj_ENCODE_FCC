{
 "cells": [
  {
   "cell_type": "raw",
   "id": "9f23476f-65a6-4e26-93d7-d7cf936d769a",
   "metadata": {},
   "source": [
    "---\n",
    "title: Prepare TF Modules 01\n",
    "subtitle: Explore the data\n",
    "format:\n",
    "    html:\n",
    "        code-fold:  true\n",
    "        code-tools: true\n",
    "---"
   ]
  },
  {
   "cell_type": "markdown",
   "id": "77f8465d-6f23-44f7-9cd5-13f978a984ba",
   "metadata": {},
   "source": [
    "**Set environment**"
   ]
  },
  {
   "cell_type": "code",
   "execution_count": 1,
   "id": "5f8ed1fb-708b-429f-931d-0cba93166a38",
   "metadata": {},
   "outputs": [
    {
     "name": "stdout",
     "output_type": "stream",
     "text": [
      "You are working on        Singularity \n",
      "BASE DIRECTORY (FD_BASE): /mount \n",
      "REPO DIRECTORY (FD_REPO): /mount/repo \n",
      "WORK DIRECTORY (FD_WORK): /mount/work \n",
      "DATA DIRECTORY (FD_DATA): /mount/data \n",
      "\n",
      "You are working with      ENCODE FCC \n",
      "PATH OF PROJECT (FD_PRJ): /mount/repo/Proj_ENCODE_FCC \n",
      "PROJECT RESULTS (FD_RES): /mount/repo/Proj_ENCODE_FCC/results \n",
      "PROJECT SCRIPTS (FD_EXE): /mount/repo/Proj_ENCODE_FCC/scripts \n",
      "PROJECT DATA    (FD_DAT): /mount/repo/Proj_ENCODE_FCC/data \n",
      "PROJECT NOTE    (FD_NBK): /mount/repo/Proj_ENCODE_FCC/notebooks \n",
      "PROJECT DOCS    (FD_DOC): /mount/repo/Proj_ENCODE_FCC/docs \n",
      "PROJECT LOG     (FD_LOG): /mount/repo/Proj_ENCODE_FCC/log \n",
      "PROJECT APP     (FD_APP): /mount/repo/Proj_ENCODE_FCC/app \n",
      "PROJECT REF     (FD_REF): /mount/repo/Proj_ENCODE_FCC/references \n",
      "\n"
     ]
    }
   ],
   "source": [
    "suppressMessages(suppressWarnings(source(\"../run_config_project_sing.R\")))\n",
    "show_env()"
   ]
  },
  {
   "cell_type": "code",
   "execution_count": 2,
   "id": "d340687d-083d-4249-ac87-6a74de07d1ee",
   "metadata": {},
   "outputs": [
    {
     "name": "stdout",
     "output_type": "stream",
     "text": [
      "[1] 432505      9\n"
     ]
    },
    {
     "data": {
      "text/html": [
       "<table>\n",
       " <thead>\n",
       "  <tr>\n",
       "   <th style=\"text-align:left;\"> Chrom </th>\n",
       "   <th style=\"text-align:right;\"> ChromStart </th>\n",
       "   <th style=\"text-align:right;\"> ChromEnd </th>\n",
       "   <th style=\"text-align:left;\"> Region </th>\n",
       "   <th style=\"text-align:right;\"> Score </th>\n",
       "   <th style=\"text-align:left;\"> Assay_Name </th>\n",
       "   <th style=\"text-align:left;\"> Assay_Type </th>\n",
       "   <th style=\"text-align:left;\"> Assay_Group </th>\n",
       "   <th style=\"text-align:left;\"> Assay_Label </th>\n",
       "  </tr>\n",
       " </thead>\n",
       "<tbody>\n",
       "  <tr>\n",
       "   <td style=\"text-align:left;\"> chr10 </td>\n",
       "   <td style=\"text-align:right;\"> 100729094 </td>\n",
       "   <td style=\"text-align:right;\"> 100729750 </td>\n",
       "   <td style=\"text-align:left;\"> chr10:100729094-100729750 </td>\n",
       "   <td style=\"text-align:right;\"> -0.3065107 </td>\n",
       "   <td style=\"text-align:left;\"> CRISPRi_FlowFISH_K562_Riley_JinWoo </td>\n",
       "   <td style=\"text-align:left;\"> CRISPRi-HCRFF </td>\n",
       "   <td style=\"text-align:left;\"> CRISPRi-HCRFF </td>\n",
       "   <td style=\"text-align:left;\"> CRISPRi-HCR FlowFISH </td>\n",
       "  </tr>\n",
       "  <tr>\n",
       "   <td style=\"text-align:left;\"> chr10 </td>\n",
       "   <td style=\"text-align:right;\"> 100743501 </td>\n",
       "   <td style=\"text-align:right;\"> 100744571 </td>\n",
       "   <td style=\"text-align:left;\"> chr10:100743501-100744571 </td>\n",
       "   <td style=\"text-align:right;\"> -0.2702473 </td>\n",
       "   <td style=\"text-align:left;\"> CRISPRi_FlowFISH_K562_Riley_JinWoo </td>\n",
       "   <td style=\"text-align:left;\"> CRISPRi-HCRFF </td>\n",
       "   <td style=\"text-align:left;\"> CRISPRi-HCRFF </td>\n",
       "   <td style=\"text-align:left;\"> CRISPRi-HCR FlowFISH </td>\n",
       "  </tr>\n",
       "  <tr>\n",
       "   <td style=\"text-align:left;\"> chr10 </td>\n",
       "   <td style=\"text-align:right;\"> 100745413 </td>\n",
       "   <td style=\"text-align:right;\"> 100745741 </td>\n",
       "   <td style=\"text-align:left;\"> chr10:100745413-100745741 </td>\n",
       "   <td style=\"text-align:right;\"> 0.1130381 </td>\n",
       "   <td style=\"text-align:left;\"> CRISPRi_FlowFISH_K562_Riley_JinWoo </td>\n",
       "   <td style=\"text-align:left;\"> CRISPRi-HCRFF </td>\n",
       "   <td style=\"text-align:left;\"> CRISPRi-HCRFF </td>\n",
       "   <td style=\"text-align:left;\"> CRISPRi-HCR FlowFISH </td>\n",
       "  </tr>\n",
       "</tbody>\n",
       "</table>"
      ]
     },
     "metadata": {},
     "output_type": "display_data"
    }
   ],
   "source": [
    "txt_region = \"fcc_astarr_macs_input_overlap\"\n",
    "txt_fdiry  = file.path(FD_RES, \"region_coverage_fcc\", txt_region, \"summary\")\n",
    "txt_fname  = \"result.coverage.zscore.final.tsv\"\n",
    "txt_fpath  = file.path(txt_fdiry, txt_fname)\n",
    "\n",
    "dat = read_tsv(txt_fpath, show_col_types = FALSE)\n",
    "dat_region_score = dat\n",
    "\n",
    "print(dim(dat))\n",
    "fun_display_table(head(dat, 3))"
   ]
  },
  {
   "cell_type": "code",
   "execution_count": null,
   "id": "5adbf341-df57-4d59-8fc7-66dcff33f69a",
   "metadata": {},
   "outputs": [],
   "source": []
  },
  {
   "cell_type": "code",
   "execution_count": null,
   "id": "0c44725c-1ac5-45ca-9f44-4853dec88e99",
   "metadata": {},
   "outputs": [],
   "source": []
  },
  {
   "cell_type": "code",
   "execution_count": null,
   "id": "43855c0b-643e-42e5-8039-484d4e7ad075",
   "metadata": {},
   "outputs": [],
   "source": []
  },
  {
   "cell_type": "code",
   "execution_count": 6,
   "id": "d307d299-a7b0-4076-8b27-4996df21f2b6",
   "metadata": {},
   "outputs": [
    {
     "data": {
      "text/plain": [
       "\n",
       "        ASTARR CRISPRi-Growth  CRISPRi-HCRFF          LMPRA          TMPRA \n",
       "        150040          72743            941          61478            823 \n",
       "        WSTARR \n",
       "        146480 "
      ]
     },
     "metadata": {},
     "output_type": "display_data"
    }
   ],
   "source": [
    "dat = dat_region_score\n",
    "table(dat$Assay_Type)"
   ]
  },
  {
   "cell_type": "code",
   "execution_count": 5,
   "id": "a6b6a547-a47f-40b1-915a-65a53d6cf2d0",
   "metadata": {},
   "outputs": [
    {
     "data": {
      "text/plain": [
       "\n",
       "   ASTARR_KS91 CRISPRi-Growth  CRISPRi-HCRFF          LMPRA          TMPRA \n",
       "        150040          72743            941          61478            823 \n",
       "        WSTARR \n",
       "        146480 "
      ]
     },
     "metadata": {},
     "output_type": "display_data"
    }
   ],
   "source": [
    "dat = dat_region_score\n",
    "table(dat$Assay_Group)"
   ]
  },
  {
   "cell_type": "code",
   "execution_count": null,
   "id": "5fd53ad9-68af-4d08-8fee-f6e275c6c37e",
   "metadata": {},
   "outputs": [],
   "source": []
  },
  {
   "cell_type": "code",
   "execution_count": 7,
   "id": "3be60db4-58d1-435a-ba99-23e88b8babbd",
   "metadata": {},
   "outputs": [
    {
     "name": "stdout",
     "output_type": "stream",
     "text": [
      "[1] 60618     4\n"
     ]
    },
    {
     "data": {
      "text/html": [
       "<table class=\"dataframe\">\n",
       "<caption>A tibble: 6 × 4</caption>\n",
       "<thead>\n",
       "\t<tr><th scope=col>Region</th><th scope=col>ASTARR</th><th scope=col>LMPRA</th><th scope=col>WSTARR</th></tr>\n",
       "\t<tr><th scope=col>&lt;chr&gt;</th><th scope=col>&lt;dbl&gt;</th><th scope=col>&lt;dbl&gt;</th><th scope=col>&lt;dbl&gt;</th></tr>\n",
       "</thead>\n",
       "<tbody>\n",
       "\t<tr><td>chr1:100036895-100039189</td><td> 1.71301173</td><td> 1.832751</td><td> 2.22355898</td></tr>\n",
       "\t<tr><td>chr1:100048290-100048918</td><td>-1.20269450</td><td>-1.732575</td><td>-1.47308866</td></tr>\n",
       "\t<tr><td>chr1:100050225-100050529</td><td> 0.91339185</td><td>-1.159651</td><td> 1.04945863</td></tr>\n",
       "\t<tr><td>chr1:100132375-100133491</td><td> 2.93068403</td><td> 0.791642</td><td> 2.53316751</td></tr>\n",
       "\t<tr><td>chr1:10015258-10016191  </td><td>-0.08094399</td><td>-1.285338</td><td>-0.95298857</td></tr>\n",
       "\t<tr><td>chr1:100248956-100250290</td><td> 1.13654552</td><td> 1.871504</td><td> 0.03547326</td></tr>\n",
       "</tbody>\n",
       "</table>\n"
      ],
      "text/latex": [
       "A tibble: 6 × 4\n",
       "\\begin{tabular}{llll}\n",
       " Region & ASTARR & LMPRA & WSTARR\\\\\n",
       " <chr> & <dbl> & <dbl> & <dbl>\\\\\n",
       "\\hline\n",
       "\t chr1:100036895-100039189 &  1.71301173 &  1.832751 &  2.22355898\\\\\n",
       "\t chr1:100048290-100048918 & -1.20269450 & -1.732575 & -1.47308866\\\\\n",
       "\t chr1:100050225-100050529 &  0.91339185 & -1.159651 &  1.04945863\\\\\n",
       "\t chr1:100132375-100133491 &  2.93068403 &  0.791642 &  2.53316751\\\\\n",
       "\t chr1:10015258-10016191   & -0.08094399 & -1.285338 & -0.95298857\\\\\n",
       "\t chr1:100248956-100250290 &  1.13654552 &  1.871504 &  0.03547326\\\\\n",
       "\\end{tabular}\n"
      ],
      "text/markdown": [
       "\n",
       "A tibble: 6 × 4\n",
       "\n",
       "| Region &lt;chr&gt; | ASTARR &lt;dbl&gt; | LMPRA &lt;dbl&gt; | WSTARR &lt;dbl&gt; |\n",
       "|---|---|---|---|\n",
       "| chr1:100036895-100039189 |  1.71301173 |  1.832751 |  2.22355898 |\n",
       "| chr1:100048290-100048918 | -1.20269450 | -1.732575 | -1.47308866 |\n",
       "| chr1:100050225-100050529 |  0.91339185 | -1.159651 |  1.04945863 |\n",
       "| chr1:100132375-100133491 |  2.93068403 |  0.791642 |  2.53316751 |\n",
       "| chr1:10015258-10016191   | -0.08094399 | -1.285338 | -0.95298857 |\n",
       "| chr1:100248956-100250290 |  1.13654552 |  1.871504 |  0.03547326 |\n",
       "\n"
      ],
      "text/plain": [
       "  Region                   ASTARR      LMPRA     WSTARR     \n",
       "1 chr1:100036895-100039189  1.71301173  1.832751  2.22355898\n",
       "2 chr1:100048290-100048918 -1.20269450 -1.732575 -1.47308866\n",
       "3 chr1:100050225-100050529  0.91339185 -1.159651  1.04945863\n",
       "4 chr1:100132375-100133491  2.93068403  0.791642  2.53316751\n",
       "5 chr1:10015258-10016191   -0.08094399 -1.285338 -0.95298857\n",
       "6 chr1:100248956-100250290  1.13654552  1.871504  0.03547326"
      ]
     },
     "metadata": {},
     "output_type": "display_data"
    }
   ],
   "source": [
    "dat = dat_region_score\n",
    "vec = c(\"ASTARR\", \"WSTARR\", \"LMPRA\")\n",
    "dat = dat %>% dplyr::filter(Assay_Type %in% vec) %>% dplyr::mutate(Assay = Assay_Type)\n",
    "\n",
    "dat = dat %>%\n",
    "    dplyr::select(Assay_Type, Region, Score) %>%\n",
    "    tidyr::spread(Assay_Type, Score) %>%\n",
    "    na.omit\n",
    "\n",
    "### assign and show\n",
    "mat_region_score = dat\n",
    "print(dim(dat))\n",
    "head(dat)"
   ]
  },
  {
   "cell_type": "code",
   "execution_count": 9,
   "id": "f595bf4e-cb3a-478a-95ff-aaec3391d729",
   "metadata": {},
   "outputs": [],
   "source": [
    "fun_ranknorm = function(x){\n",
    "    return(rank(x)/length(x))\n",
    "}"
   ]
  },
  {
   "cell_type": "code",
   "execution_count": 11,
   "id": "6793e3d7-d58e-4fb9-8b77-5e443945704b",
   "metadata": {},
   "outputs": [
    {
     "data": {
      "text/html": [
       "<table class=\"dataframe\">\n",
       "<caption>A tibble: 6 × 5</caption>\n",
       "<thead>\n",
       "\t<tr><th scope=col>Region</th><th scope=col>ASTARR</th><th scope=col>LMPRA</th><th scope=col>WSTARR</th><th scope=col>Mean</th></tr>\n",
       "\t<tr><th scope=col>&lt;chr&gt;</th><th scope=col>&lt;dbl&gt;</th><th scope=col>&lt;dbl&gt;</th><th scope=col>&lt;dbl&gt;</th><th scope=col>&lt;dbl&gt;</th></tr>\n",
       "</thead>\n",
       "<tbody>\n",
       "\t<tr><td>chr1:100036895-100039189</td><td>0.90324656</td><td>0.93528325</td><td>0.96270085</td><td>0.93374355</td></tr>\n",
       "\t<tr><td>chr1:100048290-100048918</td><td>0.04957273</td><td>0.01337062</td><td>0.03498961</td><td>0.03264432</td></tr>\n",
       "\t<tr><td>chr1:100050225-100050529</td><td>0.74992576</td><td>0.07186809</td><td>0.80123066</td><td>0.54100817</td></tr>\n",
       "\t<tr><td>chr1:100132375-100133491</td><td>0.98051734</td><td>0.79668580</td><td>0.97723448</td><td>0.91814588</td></tr>\n",
       "\t<tr><td>chr1:10015258-10016191  </td><td>0.34964862</td><td>0.04888812</td><td>0.10084463</td><td>0.16646046</td></tr>\n",
       "\t<tr><td>chr1:100248956-100250290</td><td>0.80720248</td><td>0.93898677</td><td>0.44178297</td><td>0.72932407</td></tr>\n",
       "</tbody>\n",
       "</table>\n"
      ],
      "text/latex": [
       "A tibble: 6 × 5\n",
       "\\begin{tabular}{lllll}\n",
       " Region & ASTARR & LMPRA & WSTARR & Mean\\\\\n",
       " <chr> & <dbl> & <dbl> & <dbl> & <dbl>\\\\\n",
       "\\hline\n",
       "\t chr1:100036895-100039189 & 0.90324656 & 0.93528325 & 0.96270085 & 0.93374355\\\\\n",
       "\t chr1:100048290-100048918 & 0.04957273 & 0.01337062 & 0.03498961 & 0.03264432\\\\\n",
       "\t chr1:100050225-100050529 & 0.74992576 & 0.07186809 & 0.80123066 & 0.54100817\\\\\n",
       "\t chr1:100132375-100133491 & 0.98051734 & 0.79668580 & 0.97723448 & 0.91814588\\\\\n",
       "\t chr1:10015258-10016191   & 0.34964862 & 0.04888812 & 0.10084463 & 0.16646046\\\\\n",
       "\t chr1:100248956-100250290 & 0.80720248 & 0.93898677 & 0.44178297 & 0.72932407\\\\\n",
       "\\end{tabular}\n"
      ],
      "text/markdown": [
       "\n",
       "A tibble: 6 × 5\n",
       "\n",
       "| Region &lt;chr&gt; | ASTARR &lt;dbl&gt; | LMPRA &lt;dbl&gt; | WSTARR &lt;dbl&gt; | Mean &lt;dbl&gt; |\n",
       "|---|---|---|---|---|\n",
       "| chr1:100036895-100039189 | 0.90324656 | 0.93528325 | 0.96270085 | 0.93374355 |\n",
       "| chr1:100048290-100048918 | 0.04957273 | 0.01337062 | 0.03498961 | 0.03264432 |\n",
       "| chr1:100050225-100050529 | 0.74992576 | 0.07186809 | 0.80123066 | 0.54100817 |\n",
       "| chr1:100132375-100133491 | 0.98051734 | 0.79668580 | 0.97723448 | 0.91814588 |\n",
       "| chr1:10015258-10016191   | 0.34964862 | 0.04888812 | 0.10084463 | 0.16646046 |\n",
       "| chr1:100248956-100250290 | 0.80720248 | 0.93898677 | 0.44178297 | 0.72932407 |\n",
       "\n"
      ],
      "text/plain": [
       "  Region                   ASTARR     LMPRA      WSTARR     Mean      \n",
       "1 chr1:100036895-100039189 0.90324656 0.93528325 0.96270085 0.93374355\n",
       "2 chr1:100048290-100048918 0.04957273 0.01337062 0.03498961 0.03264432\n",
       "3 chr1:100050225-100050529 0.74992576 0.07186809 0.80123066 0.54100817\n",
       "4 chr1:100132375-100133491 0.98051734 0.79668580 0.97723448 0.91814588\n",
       "5 chr1:10015258-10016191   0.34964862 0.04888812 0.10084463 0.16646046\n",
       "6 chr1:100248956-100250290 0.80720248 0.93898677 0.44178297 0.72932407"
      ]
     },
     "metadata": {},
     "output_type": "display_data"
    }
   ],
   "source": [
    "dat = mat_region_score\n",
    "dat = dat %>% \n",
    "    dplyr::mutate(across(2:4, fun_ranknorm)) %>% \n",
    "    dplyr::rowwise() %>%\n",
    "    dplyr::mutate(Mean = mean(c(ASTARR, WSTARR, LMPRA))) %>%\n",
    "    dplyr::ungroup()\n",
    "\n",
    "mat_region_ranknorm = dat\n",
    "head(dat)"
   ]
  },
  {
   "cell_type": "code",
   "execution_count": null,
   "id": "0f3d5bcc-5844-4864-bd91-aab6801e2ed0",
   "metadata": {},
   "outputs": [],
   "source": []
  },
  {
   "cell_type": "code",
   "execution_count": null,
   "id": "9ab27558-8bb8-4226-a7db-eb1a07a5b269",
   "metadata": {},
   "outputs": [],
   "source": []
  },
  {
   "cell_type": "code",
   "execution_count": null,
   "id": "464f2b94-946a-453d-9538-7c663c7d642f",
   "metadata": {},
   "outputs": [],
   "source": []
  },
  {
   "cell_type": "code",
   "execution_count": 13,
   "id": "8f7d33ed-a249-4aa6-a398-75848d86d008",
   "metadata": {},
   "outputs": [],
   "source": [
    "txt_region = \"fcc_astarr_macs_input_overlap\"\n",
    "txt_fdiry  = file.path(FD_RES, \"region_integration\", txt_region)\n",
    "txt_fname  = \"result.coverage.ranknorm.whg.tsv\"\n",
    "txt_fpath  = file.path(txt_fdiry, txt_fname)\n",
    "\n",
    "dat = mat_region_ranknorm\n",
    "write_tsv(dat, txt_fpath)"
   ]
  },
  {
   "cell_type": "code",
   "execution_count": null,
   "id": "6b272026-a80e-4518-a462-6fb644302304",
   "metadata": {},
   "outputs": [],
   "source": []
  }
 ],
 "metadata": {
  "kernelspec": {
   "display_name": "R",
   "language": "R",
   "name": "ir"
  },
  "language_info": {
   "codemirror_mode": "r",
   "file_extension": ".r",
   "mimetype": "text/x-r-source",
   "name": "R",
   "pygments_lexer": "r",
   "version": "4.4.1"
  }
 },
 "nbformat": 4,
 "nbformat_minor": 5
}
