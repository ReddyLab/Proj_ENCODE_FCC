{
 "cells": [
  {
   "cell_type": "raw",
   "id": "dac68edf-b44a-4e59-a9a8-d714152b0f2f",
   "metadata": {},
   "source": [
    "---\n",
    "title: ...\n",
    "subtitle: combine ATAC, setup total, final, and share verion of table\n",
    "format:\n",
    "    html:\n",
    "        code-fold:  true\n",
    "        code-tools: true\n",
    "---"
   ]
  },
  {
   "cell_type": "markdown",
   "id": "28ce7f83-b965-4fc8-b9cd-ffa7cf973fc1",
   "metadata": {},
   "source": [
    "**Set environment**"
   ]
  },
  {
   "cell_type": "code",
   "execution_count": 1,
   "id": "d90366d5-86bc-4cba-b803-5f55a6b9c120",
   "metadata": {},
   "outputs": [
    {
     "name": "stdout",
     "output_type": "stream",
     "text": [
      "You are working on        Singularity: singularity_proj_encode_fcc \n",
      "BASE DIRECTORY (FD_BASE): /data/reddylab/Kuei \n",
      "REPO DIRECTORY (FD_REPO): /data/reddylab/Kuei/repo \n",
      "WORK DIRECTORY (FD_WORK): /data/reddylab/Kuei/work \n",
      "DATA DIRECTORY (FD_DATA): /data/reddylab/Kuei/data \n",
      "\n",
      "You are working with      ENCODE FCC \n",
      "PATH OF PROJECT (FD_PRJ): /data/reddylab/Kuei/repo/Proj_ENCODE_FCC \n",
      "PROJECT RESULTS (FD_RES): /data/reddylab/Kuei/repo/Proj_ENCODE_FCC/results \n",
      "PROJECT SCRIPTS (FD_EXE): /data/reddylab/Kuei/repo/Proj_ENCODE_FCC/scripts \n",
      "PROJECT DATA    (FD_DAT): /data/reddylab/Kuei/repo/Proj_ENCODE_FCC/data \n",
      "PROJECT NOTE    (FD_NBK): /data/reddylab/Kuei/repo/Proj_ENCODE_FCC/notebooks \n",
      "PROJECT DOCS    (FD_DOC): /data/reddylab/Kuei/repo/Proj_ENCODE_FCC/docs \n",
      "PROJECT LOG     (FD_LOG): /data/reddylab/Kuei/repo/Proj_ENCODE_FCC/log \n",
      "PROJECT REF     (FD_REF): /data/reddylab/Kuei/repo/Proj_ENCODE_FCC/references \n",
      "\n"
     ]
    }
   ],
   "source": [
    "suppressMessages(suppressWarnings(source(\"../run_config_project_sing.R\")))\n",
    "suppressMessages(suppressWarnings(library(\"emmeans\")))\n",
    "show_env()"
   ]
  },
  {
   "cell_type": "markdown",
   "id": "dba23ca4-c72d-48c7-aef1-bfe66c617cc0",
   "metadata": {},
   "source": [
    "**Check: region directory**"
   ]
  },
  {
   "cell_type": "code",
   "execution_count": 2,
   "id": "50857a1a-5695-4004-8b25-7e118fcdd2ad",
   "metadata": {},
   "outputs": [
    {
     "name": "stdout",
     "output_type": "stream",
     "text": [
      "atac_ENCFF333TAT \n",
      "atac_ENCFF558BLC \n",
      "atac_ENCFF925CYR \n",
      "atac_ENCFF948AFM \n",
      "dnase_ENCFF185XRG \n",
      "dnase_ENCFF274YGF \n",
      "fcc_astarr_macs_input_overlap \n",
      "fcc_astarr_macs_input_union \n"
     ]
    }
   ],
   "source": [
    "txt_fdiry = file.path(FD_RES, \"region_coverage_fcc_score\")\n",
    "\n",
    "vec = dir(txt_fdiry)\n",
    "for (txt in vec){cat(txt, \"\\n\")}"
   ]
  },
  {
   "cell_type": "markdown",
   "id": "65314e0d-903a-4f60-91a7-26f79c55ed17",
   "metadata": {},
   "source": [
    "**Check: assay directory**"
   ]
  },
  {
   "cell_type": "code",
   "execution_count": 3,
   "id": "8158015a-d698-4e2d-90bb-8f4a88a2bb6f",
   "metadata": {},
   "outputs": [
    {
     "name": "stdout",
     "output_type": "stream",
     "text": [
      "CRISPRi_FlowFISH_K562_Riley_JinWoo \n",
      "CRISPRi_Growth_K562_Gersbach_JinWoo \n",
      "MPRA_Lenti_K562_Nadav_Vikram \n",
      "MPRA_Tiling_K562_Tewhey_Hannah \n",
      "STARR_ATAC_K562_Reddy_KS274 \n",
      "STARR_ATAC_K562_Reddy_KS91 \n",
      "STARR_ATAC_K562_Reddy_KSMerge \n",
      "STARR_WHG_K562_Reddy_A001 \n",
      "summary \n"
     ]
    }
   ],
   "source": [
    "txt_region = \"fcc_astarr_macs_input_union\"\n",
    "txt_fdiry  = file.path(FD_RES, \"region_coverage_fcc_score\", txt_region)\n",
    "vec = dir(txt_fdiry)\n",
    "for (txt in vec) {cat(txt, \"\\n\")}"
   ]
  },
  {
   "cell_type": "markdown",
   "id": "597ed728-83f9-4f83-82d9-2edff2f7d825",
   "metadata": {},
   "source": [
    "**Set global variable**"
   ]
  },
  {
   "cell_type": "code",
   "execution_count": 4,
   "id": "9372dc5d-41e3-4753-a86b-c0695a423899",
   "metadata": {},
   "outputs": [
    {
     "name": "stdout",
     "output_type": "stream",
     "text": [
      "fcc_astarr_macs_input_overlap \n",
      "fcc_astarr_macs_input_union \n"
     ]
    }
   ],
   "source": [
    "## init: region folder\n",
    "vec = c(\"fcc_astarr_macs_input_overlap\", \"fcc_astarr_macs_input_union\")\n",
    "names(vec) = vec\n",
    "\n",
    "VEC_TXT_FOLDER = vec\n",
    "for (txt in vec) {cat(txt, \"\\n\")}"
   ]
  },
  {
   "cell_type": "code",
   "execution_count": 5,
   "id": "180aac97-7e4e-4f9c-bb4a-30048ec9fff5",
   "metadata": {},
   "outputs": [],
   "source": [
    "vec = c(\"CRISPRi-HCRFF\", \"CRISPRi-Growth\", \"ENCODE-rE2G Benchmark\")\n",
    "names(vec) = vec\n",
    "VEC_TXT_ASSAY_OUT = vec\n",
    "\n",
    "vec = c(\"ASTARR\", \"WSTARR\", \"LMPRA\", \"TMPRA\", \"ATAC\")\n",
    "names(vec) = vec\n",
    "VEC_TXT_ASSAY_INP = vec"
   ]
  },
  {
   "cell_type": "markdown",
   "id": "da056a22-f40e-4e46-8d8b-e9010276558b",
   "metadata": {},
   "source": [
    "**Check input files**"
   ]
  },
  {
   "cell_type": "code",
   "execution_count": 6,
   "id": "9fb5da54-69dc-4ef2-9cce-7cda121822ed",
   "metadata": {},
   "outputs": [
    {
     "name": "stdout",
     "output_type": "stream",
     "text": [
      "/data/reddylab/Kuei/repo/Proj_ENCODE_FCC/results/analysis_fcc_correlation/fcc_astarr_macs_input_overlap/region.coverage.score.concat.tsv \n"
     ]
    }
   ],
   "source": [
    "txt_folder = VEC_TXT_FOLDER[1]\n",
    "txt_fdiry  = file.path(FD_RES, \"analysis_fcc_correlation\", txt_folder)\n",
    "txt_fname  = \"region.coverage.score.*.tsv\"\n",
    "txt_fglob  = file.path(txt_fdiry, txt_fname)\n",
    "\n",
    "vec = Sys.glob(txt_fglob)\n",
    "for (txt in vec) {cat(txt, \"\\n\")}"
   ]
  },
  {
   "cell_type": "markdown",
   "id": "5e294aad-cffa-4560-8956-f477a2c7bdde",
   "metadata": {},
   "source": [
    "## Import data"
   ]
  },
  {
   "cell_type": "code",
   "execution_count": 7,
   "id": "caaa6157-8b56-4d2b-aa71-ca1f5568a79a",
   "metadata": {},
   "outputs": [
    {
     "name": "stdout",
     "output_type": "stream",
     "text": [
      "$fcc_astarr_macs_input_overlap\n",
      "[1] 304915     11\n",
      "\n",
      "$fcc_astarr_macs_input_union\n",
      "[1] 499336     11\n",
      "\n"
     ]
    },
    {
     "data": {
      "text/html": [
       "<table class=\"dataframe\">\n",
       "<caption>A tibble: 3 × 11</caption>\n",
       "<thead>\n",
       "\t<tr><th scope=col>Chrom</th><th scope=col>ChromStart</th><th scope=col>ChromEnd</th><th scope=col>Region</th><th scope=col>Annotation_A</th><th scope=col>Annotation_B</th><th scope=col>Region_TSS</th><th scope=col>Score_Pol2</th><th scope=col>Gene</th><th scope=col>Distance2TSS</th><th scope=col>TSS_Proximity</th></tr>\n",
       "\t<tr><th scope=col>&lt;chr&gt;</th><th scope=col>&lt;dbl&gt;</th><th scope=col>&lt;dbl&gt;</th><th scope=col>&lt;chr&gt;</th><th scope=col>&lt;chr&gt;</th><th scope=col>&lt;chr&gt;</th><th scope=col>&lt;chr&gt;</th><th scope=col>&lt;dbl&gt;</th><th scope=col>&lt;chr&gt;</th><th scope=col>&lt;dbl&gt;</th><th scope=col>&lt;chr&gt;</th></tr>\n",
       "</thead>\n",
       "<tbody>\n",
       "\t<tr><td>chr1</td><td>10038</td><td>10405</td><td>chr1:10038-10405</td><td>fcc_astarr_macs_input_overlap</td><td>genome_tss_pol2       </td><td>chr1:11873-11874</td><td>0.00023</td><td>DDX11L1</td><td> 1469</td><td>Proximal</td></tr>\n",
       "\t<tr><td>chr1</td><td>10038</td><td>10405</td><td>chr1:10038-10405</td><td>fcc_astarr_macs_input_overlap</td><td>genome_tss_pol2_rnaseq</td><td>chr1:29370-29371</td><td>0.00023</td><td>WASH7P </td><td>18966</td><td>Distal  </td></tr>\n",
       "\t<tr><td>chr1</td><td>14282</td><td>14614</td><td>chr1:14282-14614</td><td>fcc_astarr_macs_input_overlap</td><td>genome_tss_pol2       </td><td>chr1:11873-11874</td><td>0.00023</td><td>DDX11L1</td><td> 2409</td><td>Distal  </td></tr>\n",
       "</tbody>\n",
       "</table>\n"
      ],
      "text/latex": [
       "A tibble: 3 × 11\n",
       "\\begin{tabular}{lllllllllll}\n",
       " Chrom & ChromStart & ChromEnd & Region & Annotation\\_A & Annotation\\_B & Region\\_TSS & Score\\_Pol2 & Gene & Distance2TSS & TSS\\_Proximity\\\\\n",
       " <chr> & <dbl> & <dbl> & <chr> & <chr> & <chr> & <chr> & <dbl> & <chr> & <dbl> & <chr>\\\\\n",
       "\\hline\n",
       "\t chr1 & 10038 & 10405 & chr1:10038-10405 & fcc\\_astarr\\_macs\\_input\\_overlap & genome\\_tss\\_pol2        & chr1:11873-11874 & 0.00023 & DDX11L1 &  1469 & Proximal\\\\\n",
       "\t chr1 & 10038 & 10405 & chr1:10038-10405 & fcc\\_astarr\\_macs\\_input\\_overlap & genome\\_tss\\_pol2\\_rnaseq & chr1:29370-29371 & 0.00023 & WASH7P  & 18966 & Distal  \\\\\n",
       "\t chr1 & 14282 & 14614 & chr1:14282-14614 & fcc\\_astarr\\_macs\\_input\\_overlap & genome\\_tss\\_pol2        & chr1:11873-11874 & 0.00023 & DDX11L1 &  2409 & Distal  \\\\\n",
       "\\end{tabular}\n"
      ],
      "text/markdown": [
       "\n",
       "A tibble: 3 × 11\n",
       "\n",
       "| Chrom &lt;chr&gt; | ChromStart &lt;dbl&gt; | ChromEnd &lt;dbl&gt; | Region &lt;chr&gt; | Annotation_A &lt;chr&gt; | Annotation_B &lt;chr&gt; | Region_TSS &lt;chr&gt; | Score_Pol2 &lt;dbl&gt; | Gene &lt;chr&gt; | Distance2TSS &lt;dbl&gt; | TSS_Proximity &lt;chr&gt; |\n",
       "|---|---|---|---|---|---|---|---|---|---|---|\n",
       "| chr1 | 10038 | 10405 | chr1:10038-10405 | fcc_astarr_macs_input_overlap | genome_tss_pol2        | chr1:11873-11874 | 0.00023 | DDX11L1 |  1469 | Proximal |\n",
       "| chr1 | 10038 | 10405 | chr1:10038-10405 | fcc_astarr_macs_input_overlap | genome_tss_pol2_rnaseq | chr1:29370-29371 | 0.00023 | WASH7P  | 18966 | Distal   |\n",
       "| chr1 | 14282 | 14614 | chr1:14282-14614 | fcc_astarr_macs_input_overlap | genome_tss_pol2        | chr1:11873-11874 | 0.00023 | DDX11L1 |  2409 | Distal   |\n",
       "\n"
      ],
      "text/plain": [
       "  Chrom ChromStart ChromEnd Region           Annotation_A                 \n",
       "1 chr1  10038      10405    chr1:10038-10405 fcc_astarr_macs_input_overlap\n",
       "2 chr1  10038      10405    chr1:10038-10405 fcc_astarr_macs_input_overlap\n",
       "3 chr1  14282      14614    chr1:14282-14614 fcc_astarr_macs_input_overlap\n",
       "  Annotation_B           Region_TSS       Score_Pol2 Gene    Distance2TSS\n",
       "1 genome_tss_pol2        chr1:11873-11874 0.00023    DDX11L1  1469       \n",
       "2 genome_tss_pol2_rnaseq chr1:29370-29371 0.00023    WASH7P  18966       \n",
       "3 genome_tss_pol2        chr1:11873-11874 0.00023    DDX11L1  2409       \n",
       "  TSS_Proximity\n",
       "1 Proximal     \n",
       "2 Distal       \n",
       "3 Distal       "
      ]
     },
     "metadata": {},
     "output_type": "display_data"
    }
   ],
   "source": [
    "lst = lapply(VEC_TXT_FOLDER, function(txt_folder){\n",
    "    ### set file directory\n",
    "    txt_fdiry  = file.path(FD_RES, \"region_closest\", txt_folder, \"summary\")\n",
    "    txt_fname = \"region.summary.genome_tss.tss_proximity.tsv\"\n",
    "    txt_fpath = file.path(txt_fdiry, txt_fname)\n",
    "\n",
    "    ### read table\n",
    "    dat = read_tsv(txt_fpath, show_col_types = FALSE)\n",
    "    return(dat)\n",
    "})\n",
    "\n",
    "### assign and show\n",
    "lst_dat_region_tss_proximity_import = lst\n",
    "\n",
    "res = lapply(lst, dim)\n",
    "print(res)\n",
    "\n",
    "dat = lst[[1]]\n",
    "head(dat, 3)"
   ]
  },
  {
   "cell_type": "code",
   "execution_count": 8,
   "id": "243a54ae-16d1-49c8-86b6-b16072dafe49",
   "metadata": {},
   "outputs": [
    {
     "name": "stdout",
     "output_type": "stream",
     "text": [
      "$fcc_astarr_macs_input_overlap\n",
      "[1] 150042      5\n",
      "\n",
      "$fcc_astarr_macs_input_union\n",
      "[1] 246852      5\n",
      "\n"
     ]
    },
    {
     "data": {
      "text/html": [
       "<table class=\"dataframe\">\n",
       "<caption>A tibble: 3 × 5</caption>\n",
       "<thead>\n",
       "\t<tr><th scope=col>Chrom</th><th scope=col>ChromStart</th><th scope=col>ChromEnd</th><th scope=col>Region</th><th scope=col>TSS_Proximity</th></tr>\n",
       "\t<tr><th scope=col>&lt;chr&gt;</th><th scope=col>&lt;dbl&gt;</th><th scope=col>&lt;dbl&gt;</th><th scope=col>&lt;chr&gt;</th><th scope=col>&lt;chr&gt;</th></tr>\n",
       "</thead>\n",
       "<tbody>\n",
       "\t<tr><td>chr1</td><td>10038</td><td>10405</td><td>chr1:10038-10405</td><td>Proximal</td></tr>\n",
       "\t<tr><td>chr1</td><td>14282</td><td>14614</td><td>chr1:14282-14614</td><td>Distal  </td></tr>\n",
       "\t<tr><td>chr1</td><td>16025</td><td>16338</td><td>chr1:16025-16338</td><td>Proximal</td></tr>\n",
       "</tbody>\n",
       "</table>\n"
      ],
      "text/latex": [
       "A tibble: 3 × 5\n",
       "\\begin{tabular}{lllll}\n",
       " Chrom & ChromStart & ChromEnd & Region & TSS\\_Proximity\\\\\n",
       " <chr> & <dbl> & <dbl> & <chr> & <chr>\\\\\n",
       "\\hline\n",
       "\t chr1 & 10038 & 10405 & chr1:10038-10405 & Proximal\\\\\n",
       "\t chr1 & 14282 & 14614 & chr1:14282-14614 & Distal  \\\\\n",
       "\t chr1 & 16025 & 16338 & chr1:16025-16338 & Proximal\\\\\n",
       "\\end{tabular}\n"
      ],
      "text/markdown": [
       "\n",
       "A tibble: 3 × 5\n",
       "\n",
       "| Chrom &lt;chr&gt; | ChromStart &lt;dbl&gt; | ChromEnd &lt;dbl&gt; | Region &lt;chr&gt; | TSS_Proximity &lt;chr&gt; |\n",
       "|---|---|---|---|---|\n",
       "| chr1 | 10038 | 10405 | chr1:10038-10405 | Proximal |\n",
       "| chr1 | 14282 | 14614 | chr1:14282-14614 | Distal   |\n",
       "| chr1 | 16025 | 16338 | chr1:16025-16338 | Proximal |\n",
       "\n"
      ],
      "text/plain": [
       "  Chrom ChromStart ChromEnd Region           TSS_Proximity\n",
       "1 chr1  10038      10405    chr1:10038-10405 Proximal     \n",
       "2 chr1  14282      14614    chr1:14282-14614 Distal       \n",
       "3 chr1  16025      16338    chr1:16025-16338 Proximal     "
      ]
     },
     "metadata": {},
     "output_type": "display_data"
    }
   ],
   "source": [
    "lst = lst_dat_region_tss_proximity_import\n",
    "lst = lapply(lst, function(dat){\n",
    "    dat = dat %>% \n",
    "        dplyr::filter(Annotation_B == \"genome_tss_pol2\") %>%\n",
    "        dplyr::select(Chrom:Region, TSS_Proximity) %>% \n",
    "        dplyr::distinct()\n",
    "    return(dat)\n",
    "})\n",
    "\n",
    "lst_dat_region_tss_proximity_arrange = lst\n",
    "\n",
    "res = lapply(lst, dim)\n",
    "print(res)\n",
    "\n",
    "dat = lst[[1]]\n",
    "head(dat, 3)"
   ]
  },
  {
   "cell_type": "code",
   "execution_count": 9,
   "id": "708e0b9f-1ad2-4036-9f39-b611e5cad619",
   "metadata": {},
   "outputs": [
    {
     "name": "stdout",
     "output_type": "stream",
     "text": [
      "[1] 246852      5\n"
     ]
    },
    {
     "data": {
      "text/html": [
       "<table>\n",
       " <thead>\n",
       "  <tr>\n",
       "   <th style=\"text-align:left;\"> Chrom </th>\n",
       "   <th style=\"text-align:right;\"> ChromStart </th>\n",
       "   <th style=\"text-align:right;\"> ChromEnd </th>\n",
       "   <th style=\"text-align:left;\"> Region </th>\n",
       "   <th style=\"text-align:left;\"> TSS_Proximity </th>\n",
       "  </tr>\n",
       " </thead>\n",
       "<tbody>\n",
       "  <tr>\n",
       "   <td style=\"text-align:left;\"> chr1 </td>\n",
       "   <td style=\"text-align:right;\"> 10015 </td>\n",
       "   <td style=\"text-align:right;\"> 10442 </td>\n",
       "   <td style=\"text-align:left;\"> chr1:10015-10442 </td>\n",
       "   <td style=\"text-align:left;\"> Proximal </td>\n",
       "  </tr>\n",
       "  <tr>\n",
       "   <td style=\"text-align:left;\"> chr1 </td>\n",
       "   <td style=\"text-align:right;\"> 14253 </td>\n",
       "   <td style=\"text-align:right;\"> 14645 </td>\n",
       "   <td style=\"text-align:left;\"> chr1:14253-14645 </td>\n",
       "   <td style=\"text-align:left;\"> Distal </td>\n",
       "  </tr>\n",
       "  <tr>\n",
       "   <td style=\"text-align:left;\"> chr1 </td>\n",
       "   <td style=\"text-align:right;\"> 16015 </td>\n",
       "   <td style=\"text-align:right;\"> 16477 </td>\n",
       "   <td style=\"text-align:left;\"> chr1:16015-16477 </td>\n",
       "   <td style=\"text-align:left;\"> Proximal </td>\n",
       "  </tr>\n",
       "</tbody>\n",
       "</table>"
      ]
     },
     "metadata": {},
     "output_type": "display_data"
    }
   ],
   "source": [
    "idx = \"fcc_astarr_macs_input_union\"\n",
    "lst = lst_dat_region_tss_proximity_arrange\n",
    "dat = lst[[idx]]\n",
    "\n",
    "dat_region_tss_proximity_arrange = dat\n",
    "print(dim(dat))\n",
    "fun_display_table(head(dat, 3))"
   ]
  },
  {
   "cell_type": "code",
   "execution_count": 10,
   "id": "ef0583d4-1fac-4975-bbcd-0a4c75bf1ef8",
   "metadata": {},
   "outputs": [
    {
     "name": "stdout",
     "output_type": "stream",
     "text": [
      "[1] 246852\n",
      "[1] 24120\n",
      "[1] 222732\n"
     ]
    }
   ],
   "source": [
    "dat = dat_region_tss_proximity_arrange\n",
    "print(nrow(dat))\n",
    "\n",
    "lst = split(dat$Region, dat$TSS_Proximity)\n",
    "vec_txt_region_proximal = lst[[\"Proximal\"]]\n",
    "vec_txt_region_distal   = lst[[\"Distal\"]]\n",
    "\n",
    "vec = vec_txt_region_proximal\n",
    "print(length(vec))\n",
    "\n",
    "vec = vec_txt_region_distal\n",
    "print(length(vec))"
   ]
  },
  {
   "cell_type": "code",
   "execution_count": 11,
   "id": "33a2f5c4-8774-4351-89fb-8f4422fea413",
   "metadata": {},
   "outputs": [
    {
     "name": "stdout",
     "output_type": "stream",
     "text": [
      "$fcc_astarr_macs_input_overlap\n",
      "[1] 586004      8\n",
      "\n",
      "$fcc_astarr_macs_input_union\n",
      "[1] 889739      8\n",
      "\n"
     ]
    },
    {
     "data": {
      "text/html": [
       "<table class=\"dataframe\">\n",
       "<caption>A tibble: 3 × 8</caption>\n",
       "<thead>\n",
       "\t<tr><th scope=col>Chrom</th><th scope=col>ChromStart</th><th scope=col>ChromEnd</th><th scope=col>Region</th><th scope=col>Score</th><th scope=col>Score_Label</th><th scope=col>Assay_Group</th><th scope=col>Assay_Label</th></tr>\n",
       "\t<tr><th scope=col>&lt;chr&gt;</th><th scope=col>&lt;dbl&gt;</th><th scope=col>&lt;dbl&gt;</th><th scope=col>&lt;chr&gt;</th><th scope=col>&lt;dbl&gt;</th><th scope=col>&lt;chr&gt;</th><th scope=col>&lt;chr&gt;</th><th scope=col>&lt;chr&gt;</th></tr>\n",
       "</thead>\n",
       "<tbody>\n",
       "\t<tr><td>chr1</td><td>10038</td><td>10405</td><td>chr1:10038-10405</td><td>-3.5573621</td><td>Scale(Log2FC)</td><td>ASTARR_KS91</td><td>ASTARR</td></tr>\n",
       "\t<tr><td>chr1</td><td>14282</td><td>14614</td><td>chr1:14282-14614</td><td> 0.0361388</td><td>Scale(Log2FC)</td><td>ASTARR_KS91</td><td>ASTARR</td></tr>\n",
       "\t<tr><td>chr1</td><td>16025</td><td>16338</td><td>chr1:16025-16338</td><td>-2.1376311</td><td>Scale(Log2FC)</td><td>ASTARR_KS91</td><td>ASTARR</td></tr>\n",
       "</tbody>\n",
       "</table>\n"
      ],
      "text/latex": [
       "A tibble: 3 × 8\n",
       "\\begin{tabular}{llllllll}\n",
       " Chrom & ChromStart & ChromEnd & Region & Score & Score\\_Label & Assay\\_Group & Assay\\_Label\\\\\n",
       " <chr> & <dbl> & <dbl> & <chr> & <dbl> & <chr> & <chr> & <chr>\\\\\n",
       "\\hline\n",
       "\t chr1 & 10038 & 10405 & chr1:10038-10405 & -3.5573621 & Scale(Log2FC) & ASTARR\\_KS91 & ASTARR\\\\\n",
       "\t chr1 & 14282 & 14614 & chr1:14282-14614 &  0.0361388 & Scale(Log2FC) & ASTARR\\_KS91 & ASTARR\\\\\n",
       "\t chr1 & 16025 & 16338 & chr1:16025-16338 & -2.1376311 & Scale(Log2FC) & ASTARR\\_KS91 & ASTARR\\\\\n",
       "\\end{tabular}\n"
      ],
      "text/markdown": [
       "\n",
       "A tibble: 3 × 8\n",
       "\n",
       "| Chrom &lt;chr&gt; | ChromStart &lt;dbl&gt; | ChromEnd &lt;dbl&gt; | Region &lt;chr&gt; | Score &lt;dbl&gt; | Score_Label &lt;chr&gt; | Assay_Group &lt;chr&gt; | Assay_Label &lt;chr&gt; |\n",
       "|---|---|---|---|---|---|---|---|\n",
       "| chr1 | 10038 | 10405 | chr1:10038-10405 | -3.5573621 | Scale(Log2FC) | ASTARR_KS91 | ASTARR |\n",
       "| chr1 | 14282 | 14614 | chr1:14282-14614 |  0.0361388 | Scale(Log2FC) | ASTARR_KS91 | ASTARR |\n",
       "| chr1 | 16025 | 16338 | chr1:16025-16338 | -2.1376311 | Scale(Log2FC) | ASTARR_KS91 | ASTARR |\n",
       "\n"
      ],
      "text/plain": [
       "  Chrom ChromStart ChromEnd Region           Score      Score_Label  \n",
       "1 chr1  10038      10405    chr1:10038-10405 -3.5573621 Scale(Log2FC)\n",
       "2 chr1  14282      14614    chr1:14282-14614  0.0361388 Scale(Log2FC)\n",
       "3 chr1  16025      16338    chr1:16025-16338 -2.1376311 Scale(Log2FC)\n",
       "  Assay_Group Assay_Label\n",
       "1 ASTARR_KS91 ASTARR     \n",
       "2 ASTARR_KS91 ASTARR     \n",
       "3 ASTARR_KS91 ASTARR     "
      ]
     },
     "metadata": {},
     "output_type": "display_data"
    }
   ],
   "source": [
    "lst = lapply(VEC_TXT_FOLDER, function(txt_folder){\n",
    "    ### set file directory\n",
    "    txt_fdiry  = file.path(FD_RES, \"analysis_fcc_correlation\", txt_folder)\n",
    "    txt_fname = \"region.coverage.score.concat.tsv\"\n",
    "    txt_fpath = file.path(txt_fdiry, txt_fname)\n",
    "\n",
    "    ### read table\n",
    "    dat = read_tsv(txt_fpath, show_col_types = FALSE)\n",
    "    return(dat)\n",
    "})\n",
    "\n",
    "### assign and show\n",
    "lst_dat_region_score_import = lst\n",
    "\n",
    "res = lapply(lst, dim)\n",
    "print(res)\n",
    "\n",
    "dat = lst[[1]]\n",
    "head(dat, 3)"
   ]
  },
  {
   "cell_type": "markdown",
   "id": "a1dd296d-673a-4d46-b85d-5f0f607da581",
   "metadata": {},
   "source": [
    "**Check: Assay count**"
   ]
  },
  {
   "cell_type": "code",
   "execution_count": 12,
   "id": "1988444e-a23a-411e-89b6-6ce073b2f613",
   "metadata": {},
   "outputs": [
    {
     "data": {
      "text/html": [
       "<table>\n",
       " <thead>\n",
       "  <tr>\n",
       "   <th style=\"text-align:left;\"> Assay_Group </th>\n",
       "   <th style=\"text-align:left;\"> Assay_Label </th>\n",
       "   <th style=\"text-align:right;\"> fcc_astarr_macs_input_overlap </th>\n",
       "   <th style=\"text-align:right;\"> fcc_astarr_macs_input_union </th>\n",
       "  </tr>\n",
       " </thead>\n",
       "<tbody>\n",
       "  <tr>\n",
       "   <td style=\"text-align:left;\"> ASTARR_KS91 </td>\n",
       "   <td style=\"text-align:left;\"> ASTARR </td>\n",
       "   <td style=\"text-align:right;\"> 150040 </td>\n",
       "   <td style=\"text-align:right;\"> 246850 </td>\n",
       "  </tr>\n",
       "  <tr>\n",
       "   <td style=\"text-align:left;\"> ASTARR_KS91 </td>\n",
       "   <td style=\"text-align:left;\"> ATAC </td>\n",
       "   <td style=\"text-align:right;\"> 150041 </td>\n",
       "   <td style=\"text-align:right;\"> 246852 </td>\n",
       "  </tr>\n",
       "  <tr>\n",
       "   <td style=\"text-align:left;\"> CRISPRi-Growth </td>\n",
       "   <td style=\"text-align:left;\"> CRISPRi-Growth </td>\n",
       "   <td style=\"text-align:right;\"> 72743 </td>\n",
       "   <td style=\"text-align:right;\"> 80288 </td>\n",
       "  </tr>\n",
       "  <tr>\n",
       "   <td style=\"text-align:left;\"> CRISPRi-HCRFF </td>\n",
       "   <td style=\"text-align:left;\"> CRISPRi-HCRFF </td>\n",
       "   <td style=\"text-align:right;\"> 925 </td>\n",
       "   <td style=\"text-align:right;\"> 1330 </td>\n",
       "  </tr>\n",
       "  <tr>\n",
       "   <td style=\"text-align:left;\"> ENCODE-rE2G </td>\n",
       "   <td style=\"text-align:left;\"> ENCODE-rE2G Benchmark </td>\n",
       "   <td style=\"text-align:right;\"> 3035 </td>\n",
       "   <td style=\"text-align:right;\"> 3169 </td>\n",
       "  </tr>\n",
       "  <tr>\n",
       "   <td style=\"text-align:left;\"> LMPRA </td>\n",
       "   <td style=\"text-align:left;\"> LMPRA </td>\n",
       "   <td style=\"text-align:right;\"> 61478 </td>\n",
       "   <td style=\"text-align:right;\"> 68497 </td>\n",
       "  </tr>\n",
       "  <tr>\n",
       "   <td style=\"text-align:left;\"> TMPRA </td>\n",
       "   <td style=\"text-align:left;\"> TMPRA </td>\n",
       "   <td style=\"text-align:right;\"> 1148 </td>\n",
       "   <td style=\"text-align:right;\"> 1722 </td>\n",
       "  </tr>\n",
       "  <tr>\n",
       "   <td style=\"text-align:left;\"> WSTARR </td>\n",
       "   <td style=\"text-align:left;\"> WSTARR </td>\n",
       "   <td style=\"text-align:right;\"> 146594 </td>\n",
       "   <td style=\"text-align:right;\"> 241031 </td>\n",
       "  </tr>\n",
       "</tbody>\n",
       "</table>"
      ]
     },
     "metadata": {},
     "output_type": "display_data"
    }
   ],
   "source": [
    "lst = lst_dat_region_score_import\n",
    "lst = lapply(lst, function(dat){\n",
    "    dat = dat %>% \n",
    "        dplyr::group_by(Assay_Group, Assay_Label) %>%\n",
    "        dplyr::summarise(Freq = n(), .groups = \"drop\")\n",
    "    return(dat)\n",
    "})\n",
    "\n",
    "dat = bind_rows(lst, .id = \"Folder\")\n",
    "dat = dat %>% tidyr::spread(Folder, Freq)\n",
    "fun_display_table(dat)"
   ]
  },
  {
   "cell_type": "markdown",
   "id": "fc0c891a-e713-4386-bf84-2a7994d1a4cb",
   "metadata": {},
   "source": [
    "**Check: Missing values**"
   ]
  },
  {
   "cell_type": "code",
   "execution_count": 13,
   "id": "7e3c4d6a-ff1a-4e93-aa0f-2eebb0356c4f",
   "metadata": {},
   "outputs": [
    {
     "name": "stdout",
     "output_type": "stream",
     "text": [
      "$fcc_astarr_macs_input_overlap\n",
      "[1] FALSE\n",
      "\n",
      "$fcc_astarr_macs_input_union\n",
      "[1] FALSE\n",
      "\n"
     ]
    }
   ],
   "source": [
    "lst = lst_dat_region_score_import\n",
    "lst = lapply(lst, function(dat){\n",
    "    tmp = any(is.na(dat))\n",
    "    return(tmp)\n",
    "})\n",
    "\n",
    "print(lst)"
   ]
  },
  {
   "cell_type": "markdown",
   "id": "23efd1d0-a6ec-4e90-b1b3-eedfc237508f",
   "metadata": {},
   "source": [
    "## Arrange table"
   ]
  },
  {
   "cell_type": "code",
   "execution_count": 14,
   "id": "efb7950d-de43-4f8b-bba3-b9247bf8a25a",
   "metadata": {},
   "outputs": [
    {
     "name": "stdout",
     "output_type": "stream",
     "text": [
      "[1] \"ASTARR\"                \"ATAC\"                  \"CRISPRi-Growth\"       \n",
      "[4] \"CRISPRi-HCRFF\"         \"ENCODE-rE2G Benchmark\" \"LMPRA\"                \n",
      "[7] \"TMPRA\"                 \"WSTARR\"               \n"
     ]
    }
   ],
   "source": [
    "### select and split regions by assay\n",
    "idx = \"fcc_astarr_macs_input_union\"\n",
    "lst = lst_dat_region_score_import\n",
    "\n",
    "dat = lst[[idx]]\n",
    "lst = split(dat, dat$Assay_Label)\n",
    "\n",
    "### assign and show\n",
    "lst_dat_region_score = lst\n",
    "print(names(lst))"
   ]
  },
  {
   "cell_type": "code",
   "execution_count": 15,
   "id": "e483d056-97a7-4a80-890f-b518c86e3d9f",
   "metadata": {},
   "outputs": [
    {
     "data": {
      "text/html": [
       "<table>\n",
       " <thead>\n",
       "  <tr>\n",
       "   <th style=\"text-align:left;\"> Chrom </th>\n",
       "   <th style=\"text-align:right;\"> ChromStart </th>\n",
       "   <th style=\"text-align:right;\"> ChromEnd </th>\n",
       "   <th style=\"text-align:left;\"> Region </th>\n",
       "   <th style=\"text-align:right;\"> Score </th>\n",
       "   <th style=\"text-align:left;\"> Score_Label </th>\n",
       "   <th style=\"text-align:left;\"> Assay_Group </th>\n",
       "   <th style=\"text-align:left;\"> Assay_Label </th>\n",
       "  </tr>\n",
       " </thead>\n",
       "<tbody>\n",
       "  <tr>\n",
       "   <td style=\"text-align:left;\"> chr1 </td>\n",
       "   <td style=\"text-align:right;\"> 10015 </td>\n",
       "   <td style=\"text-align:right;\"> 10442 </td>\n",
       "   <td style=\"text-align:left;\"> chr1:10015-10442 </td>\n",
       "   <td style=\"text-align:right;\"> -3.7814427 </td>\n",
       "   <td style=\"text-align:left;\"> Scale(Log2FC) </td>\n",
       "   <td style=\"text-align:left;\"> ASTARR_KS91 </td>\n",
       "   <td style=\"text-align:left;\"> ASTARR </td>\n",
       "  </tr>\n",
       "  <tr>\n",
       "   <td style=\"text-align:left;\"> chr1 </td>\n",
       "   <td style=\"text-align:right;\"> 14253 </td>\n",
       "   <td style=\"text-align:right;\"> 14645 </td>\n",
       "   <td style=\"text-align:left;\"> chr1:14253-14645 </td>\n",
       "   <td style=\"text-align:right;\"> 0.5653917 </td>\n",
       "   <td style=\"text-align:left;\"> Scale(Log2FC) </td>\n",
       "   <td style=\"text-align:left;\"> ASTARR_KS91 </td>\n",
       "   <td style=\"text-align:left;\"> ASTARR </td>\n",
       "  </tr>\n",
       "  <tr>\n",
       "   <td style=\"text-align:left;\"> chr1 </td>\n",
       "   <td style=\"text-align:right;\"> 16015 </td>\n",
       "   <td style=\"text-align:right;\"> 16477 </td>\n",
       "   <td style=\"text-align:left;\"> chr1:16015-16477 </td>\n",
       "   <td style=\"text-align:right;\"> -2.0997884 </td>\n",
       "   <td style=\"text-align:left;\"> Scale(Log2FC) </td>\n",
       "   <td style=\"text-align:left;\"> ASTARR_KS91 </td>\n",
       "   <td style=\"text-align:left;\"> ASTARR </td>\n",
       "  </tr>\n",
       "</tbody>\n",
       "</table>"
      ]
     },
     "metadata": {},
     "output_type": "display_data"
    }
   ],
   "source": [
    "lst = lst_dat_region_score\n",
    "dat = lst[[1]]\n",
    "fun_display_table(head(dat, 3))"
   ]
  },
  {
   "cell_type": "markdown",
   "id": "8711cc32-3e62-47d8-ab74-e4b6ec3395cc",
   "metadata": {},
   "source": [
    "## Execute"
   ]
  },
  {
   "cell_type": "code",
   "execution_count": 24,
   "id": "923d3c04-5b6b-4d5a-850a-d658a868075c",
   "metadata": {},
   "outputs": [
    {
     "data": {
      "text/html": [
       "<style>\n",
       ".list-inline {list-style: none; margin:0; padding: 0}\n",
       ".list-inline>li {display: inline-block}\n",
       ".list-inline>li:not(:last-child)::after {content: \"\\00b7\"; padding: 0 .5ex}\n",
       "</style>\n",
       "<ol class=list-inline><li>0.01</li><li>0.05</li><li>0.1</li><li>0.2</li><li>0.3</li><li>0.4</li><li>0.5</li></ol>\n"
      ],
      "text/latex": [
       "\\begin{enumerate*}\n",
       "\\item 0.01\n",
       "\\item 0.05\n",
       "\\item 0.1\n",
       "\\item 0.2\n",
       "\\item 0.3\n",
       "\\item 0.4\n",
       "\\item 0.5\n",
       "\\end{enumerate*}\n"
      ],
      "text/markdown": [
       "1. 0.01\n",
       "2. 0.05\n",
       "3. 0.1\n",
       "4. 0.2\n",
       "5. 0.3\n",
       "6. 0.4\n",
       "7. 0.5\n",
       "\n",
       "\n"
      ],
      "text/plain": [
       "[1] 0.01 0.05 0.10 0.20 0.30 0.40 0.50"
      ]
     },
     "metadata": {},
     "output_type": "display_data"
    }
   ],
   "source": [
    "vec_num_hit_rate = c(0.01, 0.05, seq(0.1, 0.5, 0.1))\n",
    "vec_num_hit_rate"
   ]
  },
  {
   "cell_type": "code",
   "execution_count": 16,
   "id": "fb0d6682-b2c9-43d0-a3ed-d3e6ed337317",
   "metadata": {},
   "outputs": [
    {
     "data": {
      "text/html": [
       "<style>\n",
       ".list-inline {list-style: none; margin:0; padding: 0}\n",
       ".list-inline>li {display: inline-block}\n",
       ".list-inline>li:not(:last-child)::after {content: \"\\00b7\"; padding: 0 .5ex}\n",
       "</style>\n",
       "<ol class=list-inline><li>0.01</li><li>0.02</li><li>0.03</li><li>0.04</li><li>0.05</li><li>0.06</li><li>0.07</li><li>0.08</li><li>0.09</li><li>0.1</li></ol>\n"
      ],
      "text/latex": [
       "\\begin{enumerate*}\n",
       "\\item 0.01\n",
       "\\item 0.02\n",
       "\\item 0.03\n",
       "\\item 0.04\n",
       "\\item 0.05\n",
       "\\item 0.06\n",
       "\\item 0.07\n",
       "\\item 0.08\n",
       "\\item 0.09\n",
       "\\item 0.1\n",
       "\\end{enumerate*}\n"
      ],
      "text/markdown": [
       "1. 0.01\n",
       "2. 0.02\n",
       "3. 0.03\n",
       "4. 0.04\n",
       "5. 0.05\n",
       "6. 0.06\n",
       "7. 0.07\n",
       "8. 0.08\n",
       "9. 0.09\n",
       "10. 0.1\n",
       "\n",
       "\n"
      ],
      "text/plain": [
       " [1] 0.01 0.02 0.03 0.04 0.05 0.06 0.07 0.08 0.09 0.10"
      ]
     },
     "metadata": {},
     "output_type": "display_data"
    }
   ],
   "source": [
    "vec_num_hit_rate = seq(0.01, 0.1, 0.01)\n",
    "vec_num_hit_rate"
   ]
  },
  {
   "cell_type": "code",
   "execution_count": 25,
   "id": "239df5f5-f83a-4765-a9ba-7abd0b07261c",
   "metadata": {},
   "outputs": [
    {
     "data": {
      "text/html": [
       "<table class=\"dataframe\">\n",
       "<caption>A tibble: 6 × 4</caption>\n",
       "<thead>\n",
       "\t<tr><th scope=col>Region</th><th scope=col>Count_CRISPR</th><th scope=col>Assay_Label</th><th scope=col>Group_CRISPR</th></tr>\n",
       "\t<tr><th scope=col>&lt;chr&gt;</th><th scope=col>&lt;dbl&gt;</th><th scope=col>&lt;chr&gt;</th><th scope=col>&lt;dbl&gt;</th></tr>\n",
       "</thead>\n",
       "<tbody>\n",
       "\t<tr><td>chr10:100009096-100010466</td><td>0</td><td>CRISPRi-Growth</td><td>0</td></tr>\n",
       "\t<tr><td>chr10:100045961-100046653</td><td>0</td><td>CRISPRi-Growth</td><td>0</td></tr>\n",
       "\t<tr><td>chr10:100065094-100065486</td><td>0</td><td>CRISPRi-Growth</td><td>0</td></tr>\n",
       "\t<tr><td>chr10:100129051-100131059</td><td>0</td><td>CRISPRi-Growth</td><td>0</td></tr>\n",
       "\t<tr><td>chr10:100185017-100187275</td><td>0</td><td>CRISPRi-Growth</td><td>0</td></tr>\n",
       "\t<tr><td>chr10:100228452-100230090</td><td>0</td><td>CRISPRi-Growth</td><td>0</td></tr>\n",
       "</tbody>\n",
       "</table>\n"
      ],
      "text/latex": [
       "A tibble: 6 × 4\n",
       "\\begin{tabular}{llll}\n",
       " Region & Count\\_CRISPR & Assay\\_Label & Group\\_CRISPR\\\\\n",
       " <chr> & <dbl> & <chr> & <dbl>\\\\\n",
       "\\hline\n",
       "\t chr10:100009096-100010466 & 0 & CRISPRi-Growth & 0\\\\\n",
       "\t chr10:100045961-100046653 & 0 & CRISPRi-Growth & 0\\\\\n",
       "\t chr10:100065094-100065486 & 0 & CRISPRi-Growth & 0\\\\\n",
       "\t chr10:100129051-100131059 & 0 & CRISPRi-Growth & 0\\\\\n",
       "\t chr10:100185017-100187275 & 0 & CRISPRi-Growth & 0\\\\\n",
       "\t chr10:100228452-100230090 & 0 & CRISPRi-Growth & 0\\\\\n",
       "\\end{tabular}\n"
      ],
      "text/markdown": [
       "\n",
       "A tibble: 6 × 4\n",
       "\n",
       "| Region &lt;chr&gt; | Count_CRISPR &lt;dbl&gt; | Assay_Label &lt;chr&gt; | Group_CRISPR &lt;dbl&gt; |\n",
       "|---|---|---|---|\n",
       "| chr10:100009096-100010466 | 0 | CRISPRi-Growth | 0 |\n",
       "| chr10:100045961-100046653 | 0 | CRISPRi-Growth | 0 |\n",
       "| chr10:100065094-100065486 | 0 | CRISPRi-Growth | 0 |\n",
       "| chr10:100129051-100131059 | 0 | CRISPRi-Growth | 0 |\n",
       "| chr10:100185017-100187275 | 0 | CRISPRi-Growth | 0 |\n",
       "| chr10:100228452-100230090 | 0 | CRISPRi-Growth | 0 |\n",
       "\n"
      ],
      "text/plain": [
       "  Region                    Count_CRISPR Assay_Label    Group_CRISPR\n",
       "1 chr10:100009096-100010466 0            CRISPRi-Growth 0           \n",
       "2 chr10:100045961-100046653 0            CRISPRi-Growth 0           \n",
       "3 chr10:100065094-100065486 0            CRISPRi-Growth 0           \n",
       "4 chr10:100129051-100131059 0            CRISPRi-Growth 0           \n",
       "5 chr10:100185017-100187275 0            CRISPRi-Growth 0           \n",
       "6 chr10:100228452-100230090 0            CRISPRi-Growth 0           "
      ]
     },
     "metadata": {},
     "output_type": "display_data"
    }
   ],
   "source": [
    "lst = lapply(vec_num_hit_rate, function(num_hit_rate){\n",
    "    lst = lapply(VEC_TXT_ASSAY_OUT, function(txt_assay_out){\n",
    "        ### get the output assay\n",
    "        lst = lst_dat_region_score\n",
    "        dat = lst[[txt_assay_out]]\n",
    "        \n",
    "        ### get the score of output assay\n",
    "        vec = dat$Score\n",
    "        vec = abs(vec)\n",
    "        vec_num_score_out = vec\n",
    "    \n",
    "        ### determine score cutoff\n",
    "        num_cutoff_out = quantile(vec_num_score_out, probs = 1 - num_hit_rate)\n",
    "    \n",
    "        ### setup group by cutoff\n",
    "        dat$Group_CRISPR = ifelse(vec_num_score_out >= num_cutoff_out, 1, 0)\n",
    "        dat = dat %>% dplyr::select(Region, Group_CRISPR) %>% dplyr::distinct()\n",
    "        return(dat)\n",
    "    })\n",
    "    \n",
    "    dat = bind_rows(lst, .id = \"Assay_Label\")\n",
    "    dat = dat %>% \n",
    "        dplyr::group_by(Region) %>% \n",
    "        dplyr::summarise(\n",
    "            Count_CRISPR = sum(Group_CRISPR),\n",
    "            Assay_Label  = paste(Assay_Label, collapse = \";\"),\n",
    "            .groups = \"drop\"\n",
    "        ) %>%\n",
    "        dplyr::mutate(Group_CRISPR = ifelse(Count_CRISPR > 0, 1, 0))\n",
    "\n",
    "    return(dat)\n",
    "})\n",
    "\n",
    "lst_dat_region_group_out = lst\n",
    "dat = lst[[1]]\n",
    "head(dat)"
   ]
  },
  {
   "cell_type": "code",
   "execution_count": 26,
   "id": "0fcc6bbd-9eb7-4078-aa93-6e5966eb5c42",
   "metadata": {},
   "outputs": [
    {
     "name": "stdout",
     "output_type": "stream",
     "text": [
      "[1] 804952      3\n"
     ]
    },
    {
     "data": {
      "text/html": [
       "<table>\n",
       " <thead>\n",
       "  <tr>\n",
       "   <th style=\"text-align:left;\"> Assay_STARRMPRA </th>\n",
       "   <th style=\"text-align:left;\"> Region </th>\n",
       "   <th style=\"text-align:right;\"> Score_STARRMPRA </th>\n",
       "  </tr>\n",
       " </thead>\n",
       "<tbody>\n",
       "  <tr>\n",
       "   <td style=\"text-align:left;\"> ASTARR </td>\n",
       "   <td style=\"text-align:left;\"> chr1:10015-10442 </td>\n",
       "   <td style=\"text-align:right;\"> -3.7814427 </td>\n",
       "  </tr>\n",
       "  <tr>\n",
       "   <td style=\"text-align:left;\"> ASTARR </td>\n",
       "   <td style=\"text-align:left;\"> chr1:14253-14645 </td>\n",
       "   <td style=\"text-align:right;\"> 0.5653917 </td>\n",
       "  </tr>\n",
       "  <tr>\n",
       "   <td style=\"text-align:left;\"> ASTARR </td>\n",
       "   <td style=\"text-align:left;\"> chr1:16015-16477 </td>\n",
       "   <td style=\"text-align:right;\"> -2.0997884 </td>\n",
       "  </tr>\n",
       "  <tr>\n",
       "   <td style=\"text-align:left;\"> ASTARR </td>\n",
       "   <td style=\"text-align:left;\"> chr1:17237-17772 </td>\n",
       "   <td style=\"text-align:right;\"> -2.2945413 </td>\n",
       "  </tr>\n",
       "  <tr>\n",
       "   <td style=\"text-align:left;\"> ASTARR </td>\n",
       "   <td style=\"text-align:left;\"> chr1:28903-29613 </td>\n",
       "   <td style=\"text-align:right;\"> -3.2907725 </td>\n",
       "  </tr>\n",
       "  <tr>\n",
       "   <td style=\"text-align:left;\"> ASTARR </td>\n",
       "   <td style=\"text-align:left;\"> chr1:30803-31072 </td>\n",
       "   <td style=\"text-align:right;\"> -0.0785169 </td>\n",
       "  </tr>\n",
       "</tbody>\n",
       "</table>"
      ]
     },
     "metadata": {},
     "output_type": "display_data"
    }
   ],
   "source": [
    "lst = lapply(VEC_TXT_ASSAY_INP, function(txt_assay_inp){\n",
    "    ### get the input assay\n",
    "    lst = lst_dat_region_score\n",
    "    dat = lst[[txt_assay_inp]]\n",
    "    \n",
    "    ### get the score of input assay\n",
    "    dat = dat %>% \n",
    "        dplyr::mutate(Score_STARRMPRA = Score) %>%\n",
    "        dplyr::select(Region, Score_STARRMPRA) %>%\n",
    "        dplyr::distinct()\n",
    "})\n",
    "\n",
    "dat = bind_rows(lst, .id = \"Assay_STARRMPRA\")\n",
    "dat_region_score_inp = dat\n",
    "print(dim(dat))\n",
    "fun_display_table(head(dat))"
   ]
  },
  {
   "cell_type": "code",
   "execution_count": 27,
   "id": "a0f70007-c209-4c1b-b7f7-10957b06bf70",
   "metadata": {},
   "outputs": [
    {
     "data": {
      "text/html": [
       "<table class=\"dataframe\">\n",
       "<caption>A tibble: 6 × 4</caption>\n",
       "<thead>\n",
       "\t<tr><th scope=col>Region</th><th scope=col>Group_CRISPR</th><th scope=col>Assay_STARRMPRA</th><th scope=col>Score_STARRMPRA</th></tr>\n",
       "\t<tr><th scope=col>&lt;chr&gt;</th><th scope=col>&lt;dbl&gt;</th><th scope=col>&lt;chr&gt;</th><th scope=col>&lt;dbl&gt;</th></tr>\n",
       "</thead>\n",
       "<tbody>\n",
       "\t<tr><td>chr10:100009096-100010466</td><td>0</td><td>ASTARR</td><td>-1.2216566</td></tr>\n",
       "\t<tr><td>chr10:100009096-100010466</td><td>0</td><td>WSTARR</td><td> 0.5896695</td></tr>\n",
       "\t<tr><td>chr10:100009096-100010466</td><td>0</td><td>ATAC  </td><td> 2.3214952</td></tr>\n",
       "\t<tr><td>chr10:100045961-100046653</td><td>0</td><td>ASTARR</td><td>-0.4754832</td></tr>\n",
       "\t<tr><td>chr10:100045961-100046653</td><td>0</td><td>WSTARR</td><td>-0.7609183</td></tr>\n",
       "\t<tr><td>chr10:100045961-100046653</td><td>0</td><td>LMPRA </td><td>-0.1956047</td></tr>\n",
       "</tbody>\n",
       "</table>\n"
      ],
      "text/latex": [
       "A tibble: 6 × 4\n",
       "\\begin{tabular}{llll}\n",
       " Region & Group\\_CRISPR & Assay\\_STARRMPRA & Score\\_STARRMPRA\\\\\n",
       " <chr> & <dbl> & <chr> & <dbl>\\\\\n",
       "\\hline\n",
       "\t chr10:100009096-100010466 & 0 & ASTARR & -1.2216566\\\\\n",
       "\t chr10:100009096-100010466 & 0 & WSTARR &  0.5896695\\\\\n",
       "\t chr10:100009096-100010466 & 0 & ATAC   &  2.3214952\\\\\n",
       "\t chr10:100045961-100046653 & 0 & ASTARR & -0.4754832\\\\\n",
       "\t chr10:100045961-100046653 & 0 & WSTARR & -0.7609183\\\\\n",
       "\t chr10:100045961-100046653 & 0 & LMPRA  & -0.1956047\\\\\n",
       "\\end{tabular}\n"
      ],
      "text/markdown": [
       "\n",
       "A tibble: 6 × 4\n",
       "\n",
       "| Region &lt;chr&gt; | Group_CRISPR &lt;dbl&gt; | Assay_STARRMPRA &lt;chr&gt; | Score_STARRMPRA &lt;dbl&gt; |\n",
       "|---|---|---|---|\n",
       "| chr10:100009096-100010466 | 0 | ASTARR | -1.2216566 |\n",
       "| chr10:100009096-100010466 | 0 | WSTARR |  0.5896695 |\n",
       "| chr10:100009096-100010466 | 0 | ATAC   |  2.3214952 |\n",
       "| chr10:100045961-100046653 | 0 | ASTARR | -0.4754832 |\n",
       "| chr10:100045961-100046653 | 0 | WSTARR | -0.7609183 |\n",
       "| chr10:100045961-100046653 | 0 | LMPRA  | -0.1956047 |\n",
       "\n"
      ],
      "text/plain": [
       "  Region                    Group_CRISPR Assay_STARRMPRA Score_STARRMPRA\n",
       "1 chr10:100009096-100010466 0            ASTARR          -1.2216566     \n",
       "2 chr10:100009096-100010466 0            WSTARR           0.5896695     \n",
       "3 chr10:100009096-100010466 0            ATAC             2.3214952     \n",
       "4 chr10:100045961-100046653 0            ASTARR          -0.4754832     \n",
       "5 chr10:100045961-100046653 0            WSTARR          -0.7609183     \n",
       "6 chr10:100045961-100046653 0            LMPRA           -0.1956047     "
      ]
     },
     "metadata": {},
     "output_type": "display_data"
    }
   ],
   "source": [
    "lst = lst_dat_region_group_out\n",
    "lst = lapply(lst, function(dat){\n",
    "    dat = dat %>% \n",
    "        dplyr::select(Region, Group_CRISPR) %>%\n",
    "        dplyr::inner_join(dat_region_score_inp, by = \"Region\")\n",
    "    return(dat)\n",
    "})\n",
    "lst_dat_region_merge = lst\n",
    "dat = lst[[1]]\n",
    "head(dat)"
   ]
  },
  {
   "cell_type": "code",
   "execution_count": 28,
   "id": "e0fa4ce5-5714-4ce6-8539-da2ddd634bc1",
   "metadata": {},
   "outputs": [
    {
     "data": {
      "text/html": [
       "<table class=\"dataframe\">\n",
       "<caption>A tibble: 6 × 5</caption>\n",
       "<thead>\n",
       "\t<tr><th scope=col>Region</th><th scope=col>Group_CRISPR</th><th scope=col>Assay_STARRMPRA</th><th scope=col>Score_STARRMPRA</th><th scope=col>TSS_Proximity</th></tr>\n",
       "\t<tr><th scope=col>&lt;chr&gt;</th><th scope=col>&lt;dbl&gt;</th><th scope=col>&lt;chr&gt;</th><th scope=col>&lt;dbl&gt;</th><th scope=col>&lt;chr&gt;</th></tr>\n",
       "</thead>\n",
       "<tbody>\n",
       "\t<tr><td>chr10:100009096-100010466</td><td>0</td><td>ASTARR</td><td>-1.2216566</td><td>Proximal</td></tr>\n",
       "\t<tr><td>chr10:100009096-100010466</td><td>0</td><td>WSTARR</td><td> 0.5896695</td><td>Proximal</td></tr>\n",
       "\t<tr><td>chr10:100009096-100010466</td><td>0</td><td>ATAC  </td><td> 2.3214952</td><td>Proximal</td></tr>\n",
       "\t<tr><td>chr10:100185017-100187275</td><td>0</td><td>ASTARR</td><td> 1.0612349</td><td>Proximal</td></tr>\n",
       "\t<tr><td>chr10:100185017-100187275</td><td>0</td><td>WSTARR</td><td> 0.7280645</td><td>Proximal</td></tr>\n",
       "\t<tr><td>chr10:100185017-100187275</td><td>0</td><td>LMPRA </td><td>-0.6414871</td><td>Proximal</td></tr>\n",
       "</tbody>\n",
       "</table>\n"
      ],
      "text/latex": [
       "A tibble: 6 × 5\n",
       "\\begin{tabular}{lllll}\n",
       " Region & Group\\_CRISPR & Assay\\_STARRMPRA & Score\\_STARRMPRA & TSS\\_Proximity\\\\\n",
       " <chr> & <dbl> & <chr> & <dbl> & <chr>\\\\\n",
       "\\hline\n",
       "\t chr10:100009096-100010466 & 0 & ASTARR & -1.2216566 & Proximal\\\\\n",
       "\t chr10:100009096-100010466 & 0 & WSTARR &  0.5896695 & Proximal\\\\\n",
       "\t chr10:100009096-100010466 & 0 & ATAC   &  2.3214952 & Proximal\\\\\n",
       "\t chr10:100185017-100187275 & 0 & ASTARR &  1.0612349 & Proximal\\\\\n",
       "\t chr10:100185017-100187275 & 0 & WSTARR &  0.7280645 & Proximal\\\\\n",
       "\t chr10:100185017-100187275 & 0 & LMPRA  & -0.6414871 & Proximal\\\\\n",
       "\\end{tabular}\n"
      ],
      "text/markdown": [
       "\n",
       "A tibble: 6 × 5\n",
       "\n",
       "| Region &lt;chr&gt; | Group_CRISPR &lt;dbl&gt; | Assay_STARRMPRA &lt;chr&gt; | Score_STARRMPRA &lt;dbl&gt; | TSS_Proximity &lt;chr&gt; |\n",
       "|---|---|---|---|---|\n",
       "| chr10:100009096-100010466 | 0 | ASTARR | -1.2216566 | Proximal |\n",
       "| chr10:100009096-100010466 | 0 | WSTARR |  0.5896695 | Proximal |\n",
       "| chr10:100009096-100010466 | 0 | ATAC   |  2.3214952 | Proximal |\n",
       "| chr10:100185017-100187275 | 0 | ASTARR |  1.0612349 | Proximal |\n",
       "| chr10:100185017-100187275 | 0 | WSTARR |  0.7280645 | Proximal |\n",
       "| chr10:100185017-100187275 | 0 | LMPRA  | -0.6414871 | Proximal |\n",
       "\n"
      ],
      "text/plain": [
       "  Region                    Group_CRISPR Assay_STARRMPRA Score_STARRMPRA\n",
       "1 chr10:100009096-100010466 0            ASTARR          -1.2216566     \n",
       "2 chr10:100009096-100010466 0            WSTARR           0.5896695     \n",
       "3 chr10:100009096-100010466 0            ATAC             2.3214952     \n",
       "4 chr10:100185017-100187275 0            ASTARR           1.0612349     \n",
       "5 chr10:100185017-100187275 0            WSTARR           0.7280645     \n",
       "6 chr10:100185017-100187275 0            LMPRA           -0.6414871     \n",
       "  TSS_Proximity\n",
       "1 Proximal     \n",
       "2 Proximal     \n",
       "3 Proximal     \n",
       "4 Proximal     \n",
       "5 Proximal     \n",
       "6 Proximal     "
      ]
     },
     "metadata": {},
     "output_type": "display_data"
    }
   ],
   "source": [
    "tmp = dat_region_tss_proximity_arrange\n",
    "tmp = tmp %>% dplyr::select(Region, TSS_Proximity)\n",
    "\n",
    "lst = lst_dat_region_merge\n",
    "lst = lapply(lst, function(dat){\n",
    "    dat = dat %>% \n",
    "        dplyr::left_join(tmp, by = \"Region\") %>% \n",
    "        dplyr::filter(TSS_Proximity == \"Proximal\")\n",
    "    return(dat)\n",
    "})\n",
    "\n",
    "lst_dat_region_merge_proximal = lst\n",
    "dat = lst[[1]]\n",
    "head(dat)"
   ]
  },
  {
   "cell_type": "code",
   "execution_count": 29,
   "id": "8f777696-480d-4ec4-91c8-a682d7d44ca5",
   "metadata": {},
   "outputs": [
    {
     "name": "stdout",
     "output_type": "stream",
     "text": [
      "\n",
      "Call:  glm(formula = Group_CRISPR ~ Score_STARRMPRA * Assay_STARRMPRA, \n",
      "    family = binomial(link = \"logit\"), data = dat)\n",
      "\n",
      "Coefficients:\n",
      "                             (Intercept)  \n",
      "                                -4.59834  \n",
      "                         Score_STARRMPRA  \n",
      "                                 0.49738  \n",
      "                Assay_STARRMPRASTARRMPRA  \n",
      "                                 0.82663  \n",
      "Score_STARRMPRA:Assay_STARRMPRASTARRMPRA  \n",
      "                                 0.02787  \n",
      "\n",
      "Degrees of Freedom: 62134 Total (i.e. Null);  62131 Residual\n",
      "Null Deviance:\t    19410 \n",
      "Residual Deviance: 18530 \tAIC: 18540\n"
     ]
    }
   ],
   "source": [
    "lst = lst_dat_region_merge_proximal\n",
    "lst = lapply(lst, function(dat){\n",
    "    dat = dat %>% \n",
    "        dplyr::mutate(\n",
    "            Assay_STARRMPRA = ifelse(\n",
    "                Assay_STARRMPRA == \"ATAC\",\n",
    "                \"ATAC\", \n",
    "                \"STARRMPRA\"\n",
    "            )\n",
    "        ) %>%\n",
    "        dplyr::mutate(\n",
    "            Group_CRISPR    = factor(Group_CRISPR, levels = c(0, 1), labels = c(\"non-hit\", \"hit\")),\n",
    "            Assay_STARRMPRA = factor( Assay_STARRMPRA, levels = c(\"ATAC\", \"STARRMPRA\")),\n",
    "            Assay_STARRMPRA = relevel(Assay_STARRMPRA, ref = \"ATAC\")\n",
    "        ) %>%\n",
    "        dplyr::distinct()\n",
    "     ###\n",
    "    fit = glm(\n",
    "        Group_CRISPR ~ Score_STARRMPRA * Assay_STARRMPRA, \n",
    "        data   = dat,\n",
    "        family = binomial(link = \"logit\")\n",
    "    )\n",
    "    return(fit)    \n",
    "})\n",
    "\n",
    "lst_fit_logit_pool = lst\n",
    "fit = lst[[1]]\n",
    "print(fit)"
   ]
  },
  {
   "cell_type": "code",
   "execution_count": 30,
   "id": "b7f1367e-9270-4b01-98ec-a5648e4dcdff",
   "metadata": {},
   "outputs": [
    {
     "data": {
      "text/html": [
       "<table class=\"dataframe\">\n",
       "<caption>A data.frame: 14 × 9</caption>\n",
       "<thead>\n",
       "\t<tr><th scope=col>CutOff_Rate</th><th scope=col>Assay_STARRMPRA</th><th scope=col>OR</th><th scope=col>OR_CI_Lower</th><th scope=col>OR_CI_Upper</th><th scope=col>Log10OR_CI_Lower</th><th scope=col>Log10OR_CI_Upper</th><th scope=col>Pvalue</th><th scope=col>Size</th></tr>\n",
       "\t<tr><th scope=col>&lt;chr&gt;</th><th scope=col>&lt;fct&gt;</th><th scope=col>&lt;dbl&gt;</th><th scope=col>&lt;dbl&gt;</th><th scope=col>&lt;dbl&gt;</th><th scope=col>&lt;dbl&gt;</th><th scope=col>&lt;dbl&gt;</th><th scope=col>&lt;dbl&gt;</th><th scope=col>&lt;int&gt;</th></tr>\n",
       "</thead>\n",
       "<tbody>\n",
       "\t<tr><td>0.01</td><td>ATAC     </td><td>1.644414</td><td>1.532313</td><td>1.764715</td><td>0.18534761</td><td>0.24667456</td><td> 2.309155e-43</td><td>62135</td></tr>\n",
       "\t<tr><td>0.01</td><td>STARRMPRA</td><td>1.690882</td><td>1.622095</td><td>1.762586</td><td>0.21007631</td><td>0.24615035</td><td>1.220658e-135</td><td>62135</td></tr>\n",
       "\t<tr><td>0.05</td><td>ATAC     </td><td>1.336274</td><td>1.283654</td><td>1.391050</td><td>0.10844798</td><td>0.14334287</td><td> 2.077679e-45</td><td>62135</td></tr>\n",
       "\t<tr><td>0.05</td><td>STARRMPRA</td><td>1.430361</td><td>1.392740</td><td>1.468999</td><td>0.14387006</td><td>0.16702139</td><td>1.141229e-152</td><td>62135</td></tr>\n",
       "\t<tr><td>0.1 </td><td>ATAC     </td><td>1.254157</td><td>1.214542</td><td>1.295065</td><td>0.08441252</td><td>0.11229161</td><td> 1.709631e-43</td><td>62135</td></tr>\n",
       "\t<tr><td>0.1 </td><td>STARRMPRA</td><td>1.317948</td><td>1.289444</td><td>1.347082</td><td>0.11040232</td><td>0.12939398</td><td>3.316351e-135</td><td>62135</td></tr>\n",
       "\t<tr><td>0.2 </td><td>ATAC     </td><td>1.159455</td><td>1.130472</td><td>1.189181</td><td>0.05325974</td><td>0.07524800</td><td> 2.225432e-30</td><td>62135</td></tr>\n",
       "\t<tr><td>0.2 </td><td>STARRMPRA</td><td>1.205038</td><td>1.183977</td><td>1.226474</td><td>0.07334319</td><td>0.08865833</td><td> 1.773104e-95</td><td>62135</td></tr>\n",
       "\t<tr><td>0.3 </td><td>ATAC     </td><td>1.129258</td><td>1.104092</td><td>1.154997</td><td>0.04300531</td><td>0.06258081</td><td> 4.034156e-26</td><td>62135</td></tr>\n",
       "\t<tr><td>0.3 </td><td>STARRMPRA</td><td>1.156114</td><td>1.138015</td><td>1.174501</td><td>0.05614807</td><td>0.06985324</td><td> 1.374091e-72</td><td>62135</td></tr>\n",
       "\t<tr><td>0.4 </td><td>ATAC     </td><td>1.100998</td><td>1.077799</td><td>1.124696</td><td>0.03253787</td><td>0.05103520</td><td> 8.342619e-19</td><td>62135</td></tr>\n",
       "\t<tr><td>0.4 </td><td>STARRMPRA</td><td>1.131526</td><td>1.114704</td><td>1.148601</td><td>0.04715959</td><td>0.06016936</td><td> 8.282629e-59</td><td>62135</td></tr>\n",
       "\t<tr><td>0.5 </td><td>ATAC     </td><td>1.086266</td><td>1.063735</td><td>1.109275</td><td>0.02683351</td><td>0.04503916</td><td> 1.013205e-14</td><td>62135</td></tr>\n",
       "\t<tr><td>0.5 </td><td>STARRMPRA</td><td>1.106652</td><td>1.090451</td><td>1.123094</td><td>0.03760617</td><td>0.05041604</td><td> 2.420854e-41</td><td>62135</td></tr>\n",
       "</tbody>\n",
       "</table>\n"
      ],
      "text/latex": [
       "A data.frame: 14 × 9\n",
       "\\begin{tabular}{lllllllll}\n",
       " CutOff\\_Rate & Assay\\_STARRMPRA & OR & OR\\_CI\\_Lower & OR\\_CI\\_Upper & Log10OR\\_CI\\_Lower & Log10OR\\_CI\\_Upper & Pvalue & Size\\\\\n",
       " <chr> & <fct> & <dbl> & <dbl> & <dbl> & <dbl> & <dbl> & <dbl> & <int>\\\\\n",
       "\\hline\n",
       "\t 0.01 & ATAC      & 1.644414 & 1.532313 & 1.764715 & 0.18534761 & 0.24667456 &  2.309155e-43 & 62135\\\\\n",
       "\t 0.01 & STARRMPRA & 1.690882 & 1.622095 & 1.762586 & 0.21007631 & 0.24615035 & 1.220658e-135 & 62135\\\\\n",
       "\t 0.05 & ATAC      & 1.336274 & 1.283654 & 1.391050 & 0.10844798 & 0.14334287 &  2.077679e-45 & 62135\\\\\n",
       "\t 0.05 & STARRMPRA & 1.430361 & 1.392740 & 1.468999 & 0.14387006 & 0.16702139 & 1.141229e-152 & 62135\\\\\n",
       "\t 0.1  & ATAC      & 1.254157 & 1.214542 & 1.295065 & 0.08441252 & 0.11229161 &  1.709631e-43 & 62135\\\\\n",
       "\t 0.1  & STARRMPRA & 1.317948 & 1.289444 & 1.347082 & 0.11040232 & 0.12939398 & 3.316351e-135 & 62135\\\\\n",
       "\t 0.2  & ATAC      & 1.159455 & 1.130472 & 1.189181 & 0.05325974 & 0.07524800 &  2.225432e-30 & 62135\\\\\n",
       "\t 0.2  & STARRMPRA & 1.205038 & 1.183977 & 1.226474 & 0.07334319 & 0.08865833 &  1.773104e-95 & 62135\\\\\n",
       "\t 0.3  & ATAC      & 1.129258 & 1.104092 & 1.154997 & 0.04300531 & 0.06258081 &  4.034156e-26 & 62135\\\\\n",
       "\t 0.3  & STARRMPRA & 1.156114 & 1.138015 & 1.174501 & 0.05614807 & 0.06985324 &  1.374091e-72 & 62135\\\\\n",
       "\t 0.4  & ATAC      & 1.100998 & 1.077799 & 1.124696 & 0.03253787 & 0.05103520 &  8.342619e-19 & 62135\\\\\n",
       "\t 0.4  & STARRMPRA & 1.131526 & 1.114704 & 1.148601 & 0.04715959 & 0.06016936 &  8.282629e-59 & 62135\\\\\n",
       "\t 0.5  & ATAC      & 1.086266 & 1.063735 & 1.109275 & 0.02683351 & 0.04503916 &  1.013205e-14 & 62135\\\\\n",
       "\t 0.5  & STARRMPRA & 1.106652 & 1.090451 & 1.123094 & 0.03760617 & 0.05041604 &  2.420854e-41 & 62135\\\\\n",
       "\\end{tabular}\n"
      ],
      "text/markdown": [
       "\n",
       "A data.frame: 14 × 9\n",
       "\n",
       "| CutOff_Rate &lt;chr&gt; | Assay_STARRMPRA &lt;fct&gt; | OR &lt;dbl&gt; | OR_CI_Lower &lt;dbl&gt; | OR_CI_Upper &lt;dbl&gt; | Log10OR_CI_Lower &lt;dbl&gt; | Log10OR_CI_Upper &lt;dbl&gt; | Pvalue &lt;dbl&gt; | Size &lt;int&gt; |\n",
       "|---|---|---|---|---|---|---|---|---|\n",
       "| 0.01 | ATAC      | 1.644414 | 1.532313 | 1.764715 | 0.18534761 | 0.24667456 |  2.309155e-43 | 62135 |\n",
       "| 0.01 | STARRMPRA | 1.690882 | 1.622095 | 1.762586 | 0.21007631 | 0.24615035 | 1.220658e-135 | 62135 |\n",
       "| 0.05 | ATAC      | 1.336274 | 1.283654 | 1.391050 | 0.10844798 | 0.14334287 |  2.077679e-45 | 62135 |\n",
       "| 0.05 | STARRMPRA | 1.430361 | 1.392740 | 1.468999 | 0.14387006 | 0.16702139 | 1.141229e-152 | 62135 |\n",
       "| 0.1  | ATAC      | 1.254157 | 1.214542 | 1.295065 | 0.08441252 | 0.11229161 |  1.709631e-43 | 62135 |\n",
       "| 0.1  | STARRMPRA | 1.317948 | 1.289444 | 1.347082 | 0.11040232 | 0.12939398 | 3.316351e-135 | 62135 |\n",
       "| 0.2  | ATAC      | 1.159455 | 1.130472 | 1.189181 | 0.05325974 | 0.07524800 |  2.225432e-30 | 62135 |\n",
       "| 0.2  | STARRMPRA | 1.205038 | 1.183977 | 1.226474 | 0.07334319 | 0.08865833 |  1.773104e-95 | 62135 |\n",
       "| 0.3  | ATAC      | 1.129258 | 1.104092 | 1.154997 | 0.04300531 | 0.06258081 |  4.034156e-26 | 62135 |\n",
       "| 0.3  | STARRMPRA | 1.156114 | 1.138015 | 1.174501 | 0.05614807 | 0.06985324 |  1.374091e-72 | 62135 |\n",
       "| 0.4  | ATAC      | 1.100998 | 1.077799 | 1.124696 | 0.03253787 | 0.05103520 |  8.342619e-19 | 62135 |\n",
       "| 0.4  | STARRMPRA | 1.131526 | 1.114704 | 1.148601 | 0.04715959 | 0.06016936 |  8.282629e-59 | 62135 |\n",
       "| 0.5  | ATAC      | 1.086266 | 1.063735 | 1.109275 | 0.02683351 | 0.04503916 |  1.013205e-14 | 62135 |\n",
       "| 0.5  | STARRMPRA | 1.106652 | 1.090451 | 1.123094 | 0.03760617 | 0.05041604 |  2.420854e-41 | 62135 |\n",
       "\n"
      ],
      "text/plain": [
       "   CutOff_Rate Assay_STARRMPRA OR       OR_CI_Lower OR_CI_Upper\n",
       "1  0.01        ATAC            1.644414 1.532313    1.764715   \n",
       "2  0.01        STARRMPRA       1.690882 1.622095    1.762586   \n",
       "3  0.05        ATAC            1.336274 1.283654    1.391050   \n",
       "4  0.05        STARRMPRA       1.430361 1.392740    1.468999   \n",
       "5  0.1         ATAC            1.254157 1.214542    1.295065   \n",
       "6  0.1         STARRMPRA       1.317948 1.289444    1.347082   \n",
       "7  0.2         ATAC            1.159455 1.130472    1.189181   \n",
       "8  0.2         STARRMPRA       1.205038 1.183977    1.226474   \n",
       "9  0.3         ATAC            1.129258 1.104092    1.154997   \n",
       "10 0.3         STARRMPRA       1.156114 1.138015    1.174501   \n",
       "11 0.4         ATAC            1.100998 1.077799    1.124696   \n",
       "12 0.4         STARRMPRA       1.131526 1.114704    1.148601   \n",
       "13 0.5         ATAC            1.086266 1.063735    1.109275   \n",
       "14 0.5         STARRMPRA       1.106652 1.090451    1.123094   \n",
       "   Log10OR_CI_Lower Log10OR_CI_Upper Pvalue        Size \n",
       "1  0.18534761       0.24667456        2.309155e-43 62135\n",
       "2  0.21007631       0.24615035       1.220658e-135 62135\n",
       "3  0.10844798       0.14334287        2.077679e-45 62135\n",
       "4  0.14387006       0.16702139       1.141229e-152 62135\n",
       "5  0.08441252       0.11229161        1.709631e-43 62135\n",
       "6  0.11040232       0.12939398       3.316351e-135 62135\n",
       "7  0.05325974       0.07524800        2.225432e-30 62135\n",
       "8  0.07334319       0.08865833        1.773104e-95 62135\n",
       "9  0.04300531       0.06258081        4.034156e-26 62135\n",
       "10 0.05614807       0.06985324        1.374091e-72 62135\n",
       "11 0.03253787       0.05103520        8.342619e-19 62135\n",
       "12 0.04715959       0.06016936        8.282629e-59 62135\n",
       "13 0.02683351       0.04503916        1.013205e-14 62135\n",
       "14 0.03760617       0.05041604        2.420854e-41 62135"
      ]
     },
     "metadata": {},
     "output_type": "display_data"
    }
   ],
   "source": [
    "lst = lst_fit_logit_pool\n",
    "lst = lapply(lst, function(fit){\n",
    "    \n",
    "    # 1) Slopes on log-odds scale\n",
    "    tr <- emtrends(fit, specs = ~ Assay_STARRMPRA, var = \"Score_STARRMPRA\")\n",
    "    \n",
    "    # 2) Summarize\n",
    "    tr_sum <- summary(tr, infer = TRUE) |> as.data.frame()\n",
    "    \n",
    "    # Identify columns robustly across emmeans versions\n",
    "    trend_col <- grep(\"\\\\.trend$\", names(tr_sum), value = TRUE)\n",
    "    low_name  <- if (\"lower.CL\" %in% names(tr_sum)) \"lower.CL\" else \"asymp.LCL\"\n",
    "    high_name <- if (\"upper.CL\" %in% names(tr_sum)) \"upper.CL\" else \"asymp.UCL\"\n",
    "    p_name    <- if (\"p.value\"  %in% names(tr_sum)) \"p.value\"  else \"asymp.p.value\"\n",
    "    \n",
    "    # 3) Convert to log10\n",
    "    out <- tr_sum %>%\n",
    "      transmute(\n",
    "        Assay_STARRMPRA,\n",
    "        OR          = exp(.data[[trend_col]]),\n",
    "        OR_CI_Lower = exp(.data[[low_name]]),\n",
    "        OR_CI_Upper = exp(.data[[high_name]]),\n",
    "        Log10OR_CI_Lower = .data[[low_name]]  / log(10),\n",
    "        Log10OR_CI_Upper = .data[[high_name]] / log(10),\n",
    "        Pvalue           = .data[[p_name]],\n",
    "        Size             = nrow(fit$model)\n",
    "      )\n",
    "    \n",
    "    return(out)\n",
    "})\n",
    "\n",
    "names(lst) = vec_num_hit_rate\n",
    "dat = bind_rows(lst, .id = \"CutOff_Rate\")\n",
    "dat_logit_stats = dat\n",
    "dat"
   ]
  },
  {
   "cell_type": "code",
   "execution_count": 31,
   "id": "d345c1a5-7c96-4ee1-a23f-a84756d0157c",
   "metadata": {},
   "outputs": [
    {
     "data": {
      "image/png": "[encoded data removed]",
      "text/plain": [
       "plot without title"
      ]
     },
     "metadata": {
      "image/png": {
       "height": 240,
       "width": 420
      }
     },
     "output_type": "display_data"
    }
   ],
   "source": [
    "dat = dat_logit_stats\n",
    "gpt = ggplot(dat, aes(x = CutOff_Rate, y = OR, group = Assay_STARRMPRA, color = Assay_STARRMPRA)) +\n",
    "    geom_ribbon(\n",
    "        aes(ymin = OR_CI_Lower, ymax = OR_CI_Upper, fill = Assay_STARRMPRA), \n",
    "        alpha = 0.15, \n",
    "        color = NA\n",
    "    ) +\n",
    "    geom_line(linewidth = 1) +\n",
    "    geom_point(size = 1.8) +\n",
    "    geom_hline(yintercept = 1, linetype = \"dashed\") +\n",
    "    #scale_x_continuous(\"Hit-rate cutoff\", labels = scales::percent_format(accuracy = 1)) +\n",
    "    #scale_y_continuous(\"Log10 Odds Ratio\", breaks = scales::pretty_breaks()) +\n",
    "    guides(fill = \"none\") +\n",
    "    theme_cowplot() +\n",
    "    background_grid() +\n",
    "    labs(x=\"CutOff Rate\", y = \"Odds Ratio (95% CI)\", title = \"CRISPR ~ STARR/MPRA (Proximal)\")\n",
    "options(repr.plot.height=4, repr.plot.width=7)\n",
    "print(gpt)"
   ]
  },
  {
   "cell_type": "code",
   "execution_count": null,
   "id": "3f02a10f-e348-4970-b475-04989a8c9305",
   "metadata": {},
   "outputs": [],
   "source": []
  },
  {
   "cell_type": "code",
   "execution_count": 23,
   "id": "35b71d4a-e2e4-4b1a-addb-291419e715ae",
   "metadata": {},
   "outputs": [
    {
     "data": {
      "image/png": "[encoded data removed]",
      "text/plain": [
       "plot without title"
      ]
     },
     "metadata": {
      "image/png": {
       "height": 240,
       "width": 420
      }
     },
     "output_type": "display_data"
    }
   ],
   "source": [
    "dat = dat_logit_stats\n",
    "gpt = ggplot(dat, aes(x = CutOff_Rate, y = OR, group = Assay_STARRMPRA, color = Assay_STARRMPRA)) +\n",
    "    geom_ribbon(\n",
    "        aes(ymin = OR_CI_Lower, ymax = OR_CI_Upper, fill = Assay_STARRMPRA), \n",
    "        alpha = 0.15, \n",
    "        color = NA\n",
    "    ) +\n",
    "    geom_line(linewidth = 1) +\n",
    "    geom_point(size = 1.8) +\n",
    "    geom_hline(yintercept = 1, linetype = \"dashed\") +\n",
    "    #scale_x_continuous(\"Hit-rate cutoff\", labels = scales::percent_format(accuracy = 1)) +\n",
    "    #scale_y_continuous(\"Log10 Odds Ratio\", breaks = scales::pretty_breaks()) +\n",
    "    guides(fill = \"none\") +\n",
    "    theme_cowplot() +\n",
    "    background_grid() +\n",
    "    labs(x=\"CutOff Rate\", y = \"Odds Ratio (95% CI)\", title = \"CRISPR ~ STARR/MPRA (Proximal)\")\n",
    "options(repr.plot.height=4, repr.plot.width=7)\n",
    "print(gpt)"
   ]
  },
  {
   "cell_type": "code",
   "execution_count": null,
   "id": "37c0a06c-b73a-47ba-9d30-dec33d56a4fd",
   "metadata": {},
   "outputs": [],
   "source": []
  },
  {
   "cell_type": "code",
   "execution_count": null,
   "id": "78588f8c-b6f7-4409-bb30-582a11562c93",
   "metadata": {},
   "outputs": [],
   "source": []
  },
  {
   "cell_type": "code",
   "execution_count": 54,
   "id": "499a8538-37f9-4cee-a66a-0d0f601ee3d8",
   "metadata": {},
   "outputs": [
    {
     "data": {
      "image/png": "[encoded data removed]",
      "text/plain": [
       "plot without title"
      ]
     },
     "metadata": {
      "image/png": {
       "height": 240,
       "width": 420
      }
     },
     "output_type": "display_data"
    }
   ],
   "source": [
    "dat = dat_logit_stats\n",
    "gpt = ggplot(dat, aes(x = CutOff_Rate, y = Log10OR, group = Assay_STARRMPRA, color = Assay_STARRMPRA)) +\n",
    "    geom_ribbon(\n",
    "        aes(ymin = Log10OR_CI_Lower, ymax = Log10OR_CI_Upper, fill = Assay_STARRMPRA), \n",
    "        alpha = 0.15, \n",
    "        color = NA\n",
    "    ) +\n",
    "    geom_line(linewidth = 1) +\n",
    "    geom_point(size = 1.8) +\n",
    "    geom_hline(yintercept = 0, linetype = \"dashed\") +\n",
    "    #scale_x_continuous(\"Hit-rate cutoff\", labels = scales::percent_format(accuracy = 1)) +\n",
    "    #scale_y_continuous(\"Log10 Odds Ratio\", breaks = scales::pretty_breaks()) +\n",
    "    guides(fill = \"none\") +\n",
    "    theme_cowplot() +\n",
    "    background_grid()\n",
    "options(repr.plot.height=4, repr.plot.width=7)\n",
    "print(gpt)"
   ]
  },
  {
   "cell_type": "code",
   "execution_count": 59,
   "id": "f1a2f321-76ef-46d6-9bd6-9896edb8a2b8",
   "metadata": {},
   "outputs": [
    {
     "data": {
      "image/png": "[encoded data removed]",
      "text/plain": [
       "plot without title"
      ]
     },
     "metadata": {
      "image/png": {
       "height": 240,
       "width": 420
      }
     },
     "output_type": "display_data"
    }
   ],
   "source": [
    "dat = dat_logit_stats\n",
    "gpt = ggplot(dat, aes(x = CutOff_Rate, y = OR, group = Assay_STARRMPRA, color = Assay_STARRMPRA)) +\n",
    "    geom_ribbon(\n",
    "        aes(ymin = OR_CI_Lower, ymax = OR_CI_Upper, fill = Assay_STARRMPRA), \n",
    "        alpha = 0.15, \n",
    "        color = NA\n",
    "    ) +\n",
    "    geom_line(linewidth = 1) +\n",
    "    geom_point(size = 1.8) +\n",
    "    geom_hline(yintercept = 1, linetype = \"dashed\") +\n",
    "    #scale_x_continuous(\"Hit-rate cutoff\", labels = scales::percent_format(accuracy = 1)) +\n",
    "    #scale_y_continuous(\"Log10 Odds Ratio\", breaks = scales::pretty_breaks()) +\n",
    "    guides(fill = \"none\") +\n",
    "    theme_cowplot() +\n",
    "    background_grid() +\n",
    "    labs(y = \"Odds Ratio\")\n",
    "options(repr.plot.height=4, repr.plot.width=7)\n",
    "print(gpt)"
   ]
  },
  {
   "cell_type": "code",
   "execution_count": 46,
   "id": "29eeda60-8bd8-49da-b290-5abf06e95861",
   "metadata": {},
   "outputs": [
    {
     "data": {
      "image/png": "[encoded data removed]",
      "text/plain": [
       "plot without title"
      ]
     },
     "metadata": {
      "image/png": {
       "height": 240,
       "width": 420
      }
     },
     "output_type": "display_data"
    }
   ],
   "source": [
    "dat = dat_logit_stats\n",
    "gpt = ggplot(dat, aes(x = CutOff_Rate, y = Log10OR, group = Assay_STARRMPRA, color = Assay_STARRMPRA)) +\n",
    "    geom_ribbon(\n",
    "        aes(ymin = Log10OR_CI_Lower, ymax = Log10OR_CI_Upper, fill = Assay_STARRMPRA), \n",
    "        alpha = 0.15, \n",
    "        color = NA\n",
    "    ) +\n",
    "    geom_line(linewidth = 1) +\n",
    "    geom_point(size = 1.8) +\n",
    "    geom_hline(yintercept = 0, linetype = \"dashed\") +\n",
    "    #scale_x_continuous(\"Hit-rate cutoff\", labels = scales::percent_format(accuracy = 1)) +\n",
    "    #scale_y_continuous(\"Log10 Odds Ratio\", breaks = scales::pretty_breaks()) +\n",
    "    guides(fill = \"none\") +\n",
    "    theme_cowplot() +\n",
    "    background_grid()\n",
    "options(repr.plot.height=4, repr.plot.width=7)\n",
    "print(gpt)"
   ]
  },
  {
   "cell_type": "code",
   "execution_count": null,
   "id": "35d2eb33-b8f8-4ce9-8797-87a73051116d",
   "metadata": {},
   "outputs": [],
   "source": []
  },
  {
   "cell_type": "code",
   "execution_count": null,
   "id": "01446df3-fbfb-414a-a107-d9c165410207",
   "metadata": {},
   "outputs": [],
   "source": []
  },
  {
   "cell_type": "markdown",
   "id": "88ec4d7a-3e76-4051-8e7a-57f18bf16460",
   "metadata": {},
   "source": [
    "## Execute"
   ]
  },
  {
   "cell_type": "markdown",
   "id": "7eeabf81-4fc7-44da-a21b-c8831e77fa85",
   "metadata": {},
   "source": [
    "**Initialization**"
   ]
  },
  {
   "cell_type": "code",
   "execution_count": 12,
   "id": "bd592175-7b63-4766-8d69-4c8015493c04",
   "metadata": {},
   "outputs": [],
   "source": [
    "num_hit_rate = 0.1"
   ]
  },
  {
   "cell_type": "code",
   "execution_count": 59,
   "id": "92efd2f3-0a6b-4fa9-9370-1ec829c4925e",
   "metadata": {},
   "outputs": [
    {
     "name": "stdout",
     "output_type": "stream",
     "text": [
      "[1] 300560      4\n"
     ]
    },
    {
     "data": {
      "text/html": [
       "<table>\n",
       " <thead>\n",
       "  <tr>\n",
       "   <th style=\"text-align:left;\"> Assay_STARRMPRA </th>\n",
       "   <th style=\"text-align:left;\"> Region </th>\n",
       "   <th style=\"text-align:right;\"> Group_CRISPR </th>\n",
       "   <th style=\"text-align:right;\"> Score_STARRMPRA </th>\n",
       "  </tr>\n",
       " </thead>\n",
       "<tbody>\n",
       "  <tr>\n",
       "   <td style=\"text-align:left;\"> ASTARR </td>\n",
       "   <td style=\"text-align:left;\"> chr11:4092104-4092566 </td>\n",
       "   <td style=\"text-align:right;\"> 0 </td>\n",
       "   <td style=\"text-align:right;\"> 0.5588223 </td>\n",
       "  </tr>\n",
       "  <tr>\n",
       "   <td style=\"text-align:left;\"> ASTARR </td>\n",
       "   <td style=\"text-align:left;\"> chr11:4094204-4095676 </td>\n",
       "   <td style=\"text-align:right;\"> 0 </td>\n",
       "   <td style=\"text-align:right;\"> 2.5172737 </td>\n",
       "  </tr>\n",
       "  <tr>\n",
       "   <td style=\"text-align:left;\"> ASTARR </td>\n",
       "   <td style=\"text-align:left;\"> chr11:4144511-4147030 </td>\n",
       "   <td style=\"text-align:right;\"> 0 </td>\n",
       "   <td style=\"text-align:right;\"> 0.1706916 </td>\n",
       "  </tr>\n",
       "  <tr>\n",
       "   <td style=\"text-align:left;\"> ASTARR </td>\n",
       "   <td style=\"text-align:left;\"> chr11:4167268-4168022 </td>\n",
       "   <td style=\"text-align:right;\"> 0 </td>\n",
       "   <td style=\"text-align:right;\"> -0.3593538 </td>\n",
       "  </tr>\n",
       "  <tr>\n",
       "   <td style=\"text-align:left;\"> ASTARR </td>\n",
       "   <td style=\"text-align:left;\"> chr11:4181723-4182583 </td>\n",
       "   <td style=\"text-align:right;\"> 0 </td>\n",
       "   <td style=\"text-align:right;\"> -0.1457068 </td>\n",
       "  </tr>\n",
       "  <tr>\n",
       "   <td style=\"text-align:left;\"> ASTARR </td>\n",
       "   <td style=\"text-align:left;\"> chr11:4186880-4188018 </td>\n",
       "   <td style=\"text-align:right;\"> 0 </td>\n",
       "   <td style=\"text-align:right;\"> -1.3013065 </td>\n",
       "  </tr>\n",
       "</tbody>\n",
       "</table>"
      ]
     },
     "metadata": {},
     "output_type": "display_data"
    }
   ],
   "source": [
    "lst = lapply(VEC_TXT_ASSAY_OUT, function(txt_assay_out){\n",
    "    ### get the output assay\n",
    "    lst = lst_dat_region_score\n",
    "    dat = lst[[txt_assay_out]]\n",
    "    \n",
    "    ### get the score of output assay\n",
    "    vec = dat$Score\n",
    "    vec = abs(vec)\n",
    "    vec_num_score_out = vec\n",
    "\n",
    "    ### determine score cutoff\n",
    "    num_cutoff_out = quantile(vec_num_score_out, probs = 1 - num_hit_rate)\n",
    "\n",
    "    ### setup group by cutoff\n",
    "    dat$Group_CRISPR = ifelse(vec_num_score_out >= num_cutoff_out, 1, 0)\n",
    "    dat = dat %>% dplyr::select(Region, Group_CRISPR) %>% dplyr::distinct()\n",
    "    dat_region_group_out = dat\n",
    "\n",
    "    ###\n",
    "    lst = lapply(VEC_TXT_ASSAY_INP, function(txt_assay_inp){\n",
    "        ### get the input assay\n",
    "        lst = lst_dat_region_score\n",
    "        dat = lst[[txt_assay_inp]]\n",
    "        \n",
    "        ### get the score of input assay\n",
    "        dat = dat %>% \n",
    "            dplyr::mutate(Score_STARRMPRA = Score) %>%\n",
    "            dplyr::select(Region, Score_STARRMPRA) %>%\n",
    "            dplyr::distinct()\n",
    "        dat_region_score_inp = dat\n",
    "        \n",
    "        ### combine group and score\n",
    "        dat = dplyr::inner_join(\n",
    "            dat_region_group_out,\n",
    "            dat_region_score_inp,\n",
    "            by = \"Region\"\n",
    "        )\n",
    "        return(dat)\n",
    "    })\n",
    "\n",
    "    ###\n",
    "    dat = bind_rows(lst, .id = \"Assay_STARRMPRA\")\n",
    "    return(dat)\n",
    "})\n",
    "dat = bind_rows(lst, .id = \"Assay_CRISPR\")\n",
    "\n",
    "dat = dat %>% \n",
    "    dplyr::select(-Assay_CRISPR) %>%\n",
    "    dplyr::distinct()\n",
    "\n",
    "dat_region_merge = dat\n",
    "print(dim(dat))\n",
    "fun_display_table(head(dat))"
   ]
  },
  {
   "cell_type": "markdown",
   "id": "984d5b79-8c79-4b0a-9324-c432f30a63d6",
   "metadata": {},
   "source": [
    "## Odds Ratio for each assay"
   ]
  },
  {
   "cell_type": "code",
   "execution_count": 60,
   "id": "ae9d92dc-599a-4864-a559-6bd54a0959cf",
   "metadata": {},
   "outputs": [
    {
     "name": "stdout",
     "output_type": "stream",
     "text": [
      "\n",
      "Call:  glm(formula = Group_CRISPR ~ Score_STARRMPRA * Assay_STARRMPRA, \n",
      "    family = binomial(link = \"logit\"), data = dat)\n",
      "\n",
      "Coefficients:\n",
      "                          (Intercept)                        Score_STARRMPRA  \n",
      "                             -2.30159                                0.14488  \n",
      "                Assay_STARRMPRAASTARR                  Assay_STARRMPRAWSTARR  \n",
      "                              0.09500                                0.07275  \n",
      "                 Assay_STARRMPRALMPRA                   Assay_STARRMPRATMPRA  \n",
      "                              0.08835                                0.36227  \n",
      "Score_STARRMPRA:Assay_STARRMPRAASTARR  Score_STARRMPRA:Assay_STARRMPRAWSTARR  \n",
      "                             -0.02296                               -0.01457  \n",
      " Score_STARRMPRA:Assay_STARRMPRALMPRA   Score_STARRMPRA:Assay_STARRMPRATMPRA  \n",
      "                              0.04740                                0.04731  \n",
      "\n",
      "Degrees of Freedom: 300559 Total (i.e. Null);  300550 Residual\n",
      "Null Deviance:\t    198800 \n",
      "Residual Deviance: 198000 \tAIC: 198000\n"
     ]
    }
   ],
   "source": [
    "dat = dat_region_merge\n",
    "dat = dat %>% dplyr::mutate(\n",
    "    Group_CRISPR    = factor(Group_CRISPR, levels = c(0, 1), labels = c(\"non-hit\", \"hit\")),\n",
    "    Assay_STARRMPRA = factor(Assay_STARRMPRA, levels = VEC_TXT_ASSAY_INP),\n",
    "    Assay_STARRMPRA = relevel(Assay_STARRMPRA, ref = \"ATAC\")\n",
    ")\n",
    "###\n",
    "fit = glm(\n",
    "    Group_CRISPR ~ Score_STARRMPRA * Assay_STARRMPRA, \n",
    "    data   = dat,\n",
    "    family = binomial(link = \"logit\")\n",
    ")\n",
    "\n",
    "fit_logit_split = fit\n",
    "print(fit)"
   ]
  },
  {
   "cell_type": "code",
   "execution_count": 61,
   "id": "4fdc60ef-1ef0-4c5b-9a8e-c4b01b32354f",
   "metadata": {},
   "outputs": [
    {
     "data": {
      "text/html": [
       "<table class=\"dataframe\">\n",
       "<caption>A tibble: 5 × 5</caption>\n",
       "<thead>\n",
       "\t<tr><th scope=col>Assay_STARRMPRA</th><th scope=col>Log10OR</th><th scope=col>Log10OR_CI_Lower</th><th scope=col>Log10OR_CI_Upper</th><th scope=col>Pvalue</th></tr>\n",
       "\t<tr><th scope=col>&lt;chr&gt;</th><th scope=col>&lt;dbl&gt;</th><th scope=col>&lt;dbl&gt;</th><th scope=col>&lt;dbl&gt;</th><th scope=col>&lt;dbl&gt;</th></tr>\n",
       "</thead>\n",
       "<tbody>\n",
       "\t<tr><td>ATAC  </td><td>0.06292138</td><td>0.05565972</td><td>0.07018305</td><td>1.094651e-64</td></tr>\n",
       "\t<tr><td>ASTARR</td><td>0.05295119</td><td>0.04469278</td><td>0.06120961</td><td>3.202338e-36</td></tr>\n",
       "\t<tr><td>WSTARR</td><td>0.05659248</td><td>0.04710239</td><td>0.06608257</td><td>1.466095e-31</td></tr>\n",
       "\t<tr><td>LMPRA </td><td>0.08350696</td><td>0.07217935</td><td>0.09483457</td><td>2.540253e-47</td></tr>\n",
       "\t<tr><td>TMPRA </td><td>0.08346763</td><td>0.01544346</td><td>0.15149179</td><td>1.617349e-02</td></tr>\n",
       "</tbody>\n",
       "</table>\n"
      ],
      "text/latex": [
       "A tibble: 5 × 5\n",
       "\\begin{tabular}{lllll}\n",
       " Assay\\_STARRMPRA & Log10OR & Log10OR\\_CI\\_Lower & Log10OR\\_CI\\_Upper & Pvalue\\\\\n",
       " <chr> & <dbl> & <dbl> & <dbl> & <dbl>\\\\\n",
       "\\hline\n",
       "\t ATAC   & 0.06292138 & 0.05565972 & 0.07018305 & 1.094651e-64\\\\\n",
       "\t ASTARR & 0.05295119 & 0.04469278 & 0.06120961 & 3.202338e-36\\\\\n",
       "\t WSTARR & 0.05659248 & 0.04710239 & 0.06608257 & 1.466095e-31\\\\\n",
       "\t LMPRA  & 0.08350696 & 0.07217935 & 0.09483457 & 2.540253e-47\\\\\n",
       "\t TMPRA  & 0.08346763 & 0.01544346 & 0.15149179 & 1.617349e-02\\\\\n",
       "\\end{tabular}\n"
      ],
      "text/markdown": [
       "\n",
       "A tibble: 5 × 5\n",
       "\n",
       "| Assay_STARRMPRA &lt;chr&gt; | Log10OR &lt;dbl&gt; | Log10OR_CI_Lower &lt;dbl&gt; | Log10OR_CI_Upper &lt;dbl&gt; | Pvalue &lt;dbl&gt; |\n",
       "|---|---|---|---|---|\n",
       "| ATAC   | 0.06292138 | 0.05565972 | 0.07018305 | 1.094651e-64 |\n",
       "| ASTARR | 0.05295119 | 0.04469278 | 0.06120961 | 3.202338e-36 |\n",
       "| WSTARR | 0.05659248 | 0.04710239 | 0.06608257 | 1.466095e-31 |\n",
       "| LMPRA  | 0.08350696 | 0.07217935 | 0.09483457 | 2.540253e-47 |\n",
       "| TMPRA  | 0.08346763 | 0.01544346 | 0.15149179 | 1.617349e-02 |\n",
       "\n"
      ],
      "text/plain": [
       "  Assay_STARRMPRA Log10OR    Log10OR_CI_Lower Log10OR_CI_Upper Pvalue      \n",
       "1 ATAC            0.06292138 0.05565972       0.07018305       1.094651e-64\n",
       "2 ASTARR          0.05295119 0.04469278       0.06120961       3.202338e-36\n",
       "3 WSTARR          0.05659248 0.04710239       0.06608257       1.466095e-31\n",
       "4 LMPRA           0.08350696 0.07217935       0.09483457       2.540253e-47\n",
       "5 TMPRA           0.08346763 0.01544346       0.15149179       1.617349e-02"
      ]
     },
     "metadata": {},
     "output_type": "display_data"
    }
   ],
   "source": [
    "### init\n",
    "fit = fit_logit_split\n",
    "\n",
    "### get the coefficients\n",
    "tab = broom::tidy(fit, conf.int = TRUE, exponentiate = FALSE)\n",
    "\n",
    "### extract the data frame that was actually fit\n",
    "dat = fit$model\n",
    "\n",
    "### get the assays and define reference\n",
    "vec_txt_assay = levels(dat$Assay_STARRMPRA)\n",
    "txt_assay_ref = \"ATAC\"\n",
    "\n",
    "### coefficient vector & covariance matrix\n",
    "vec_num_beta = coef(fit)\n",
    "mat_num_vcov = vcov(fit)\n",
    "\n",
    "### summarize the stats\n",
    "dat = purrr::map_dfr(vec_txt_assay, function(txt_assay) {\n",
    "    ### extract odds ratio and test results\n",
    "    if (txt_assay == txt_assay_ref) {\n",
    "        num_logOR = vec_num_beta[\"Score_STARRMPRA\"]\n",
    "        num_se    = sqrt(mat_num_vcov[\"Score_STARRMPRA\",\"Score_STARRMPRA\"])\n",
    "        num_pval  = tab %>% dplyr::filter(term == \"Score_STARRMPRA\") %>% pull(p.value)\n",
    "    } else {\n",
    "        txt_term  = paste0(\"Score_STARRMPRA:Assay_STARRMPRA\", txt_assay)\n",
    "        num_logOR = vec_num_beta[\"Score_STARRMPRA\"] + vec_num_beta[txt_term]\n",
    "        num_se    = sqrt(\n",
    "            mat_num_vcov[\"Score_STARRMPRA\",\"Score_STARRMPRA\"] +\n",
    "            mat_num_vcov[txt_term, txt_term] +\n",
    "            2 * mat_num_vcov[\"Score_STARRMPRA\", txt_term]\n",
    "        )\n",
    "        num_pval  <- 2 * pnorm(-abs(num_logOR / num_se))\n",
    "    }\n",
    "\n",
    "    # convert from natural log to log10 scale\n",
    "    num_logOR = num_logOR / log(10)\n",
    "    num_se    = num_se    / log(10)\n",
    "    \n",
    "    ### calculate ci and two -sided p-values\n",
    "    res = tibble(\n",
    "        Assay_STARRMPRA = txt_assay,\n",
    "        Log10OR          = num_logOR,\n",
    "        Log10OR_CI_Lower = num_logOR - 1.96 * num_se,\n",
    "        Log10OR_CI_Upper = num_logOR + 1.96 * num_se,\n",
    "        Pvalue         = num_pval\n",
    "    )\n",
    "    return(res)\n",
    "})\n",
    "\n",
    "dat_stats_split = dat\n",
    "dat"
   ]
  },
  {
   "cell_type": "code",
   "execution_count": 62,
   "id": "c87374ec-2582-41f0-96bf-56f8dba38ba4",
   "metadata": {},
   "outputs": [
    {
     "data": {
      "image/png": "[encoded data removed]",
      "text/plain": [
       "plot without title"
      ]
     },
     "metadata": {
      "image/png": {
       "height": 300,
       "width": 600
      }
     },
     "output_type": "display_data"
    }
   ],
   "source": [
    "dat = dat_stats_split\n",
    "dat = dat %>% dplyr::mutate(\n",
    "    Assay_STARRMPRA = factor(Assay_STARRMPRA, levels=VEC_TXT_ASSAY_INP)\n",
    ")\n",
    "\n",
    "gpt = ggplot(dat, aes(x = Log10OR, y = Assay_STARRMPRA)) +\n",
    "    geom_point(size = 3) +\n",
    "    geom_errorbarh(aes(xmin = Log10OR_CI_Lower, xmax = Log10OR_CI_Upper), height = 0.3) +\n",
    "    geom_vline(xintercept = 0, linetype=\"dashed\") +\n",
    "    labs(x = \"Log10 Odds Ratio (95% CI)\", y = \"\", title = \"CRISPR (Pool) ~ STARR/MPRA\") +\n",
    "    theme_cowplot() +\n",
    "    background_grid() +\n",
    "    theme(\n",
    "        strip.text = element_text(face = \"bold\"),\n",
    "        axis.text.y = element_text(size = 11)\n",
    "    )\n",
    "\n",
    "###\n",
    "gpt_logit_split = gpt\n",
    "options(repr.plot.height=5, repr.plot.width=10)\n",
    "print(gpt)"
   ]
  },
  {
   "cell_type": "markdown",
   "id": "5f68454f-5d12-476d-8e6a-8e599713b268",
   "metadata": {},
   "source": [
    "## Odds Ratio pooled"
   ]
  },
  {
   "cell_type": "code",
   "execution_count": 65,
   "id": "cd28e19c-2551-4c8c-9467-41a2d07cbbfc",
   "metadata": {},
   "outputs": [
    {
     "name": "stdout",
     "output_type": "stream",
     "text": [
      "[1] 300560      4\n"
     ]
    },
    {
     "data": {
      "text/html": [
       "<table class=\"dataframe\">\n",
       "<caption>A tibble: 6 × 4</caption>\n",
       "<thead>\n",
       "\t<tr><th scope=col>Assay_STARRMPRA</th><th scope=col>Region</th><th scope=col>Group_CRISPR</th><th scope=col>Score_STARRMPRA</th></tr>\n",
       "\t<tr><th scope=col>&lt;chr&gt;</th><th scope=col>&lt;chr&gt;</th><th scope=col>&lt;dbl&gt;</th><th scope=col>&lt;dbl&gt;</th></tr>\n",
       "</thead>\n",
       "<tbody>\n",
       "\t<tr><td>ASTARR</td><td>chr11:4092104-4092566</td><td>0</td><td> 0.5588223</td></tr>\n",
       "\t<tr><td>ASTARR</td><td>chr11:4094204-4095676</td><td>0</td><td> 2.5172737</td></tr>\n",
       "\t<tr><td>ASTARR</td><td>chr11:4144511-4147030</td><td>0</td><td> 0.1706916</td></tr>\n",
       "\t<tr><td>ASTARR</td><td>chr11:4167268-4168022</td><td>0</td><td>-0.3593538</td></tr>\n",
       "\t<tr><td>ASTARR</td><td>chr11:4181723-4182583</td><td>0</td><td>-0.1457068</td></tr>\n",
       "\t<tr><td>ASTARR</td><td>chr11:4186880-4188018</td><td>0</td><td>-1.3013065</td></tr>\n",
       "</tbody>\n",
       "</table>\n"
      ],
      "text/latex": [
       "A tibble: 6 × 4\n",
       "\\begin{tabular}{llll}\n",
       " Assay\\_STARRMPRA & Region & Group\\_CRISPR & Score\\_STARRMPRA\\\\\n",
       " <chr> & <chr> & <dbl> & <dbl>\\\\\n",
       "\\hline\n",
       "\t ASTARR & chr11:4092104-4092566 & 0 &  0.5588223\\\\\n",
       "\t ASTARR & chr11:4094204-4095676 & 0 &  2.5172737\\\\\n",
       "\t ASTARR & chr11:4144511-4147030 & 0 &  0.1706916\\\\\n",
       "\t ASTARR & chr11:4167268-4168022 & 0 & -0.3593538\\\\\n",
       "\t ASTARR & chr11:4181723-4182583 & 0 & -0.1457068\\\\\n",
       "\t ASTARR & chr11:4186880-4188018 & 0 & -1.3013065\\\\\n",
       "\\end{tabular}\n"
      ],
      "text/markdown": [
       "\n",
       "A tibble: 6 × 4\n",
       "\n",
       "| Assay_STARRMPRA &lt;chr&gt; | Region &lt;chr&gt; | Group_CRISPR &lt;dbl&gt; | Score_STARRMPRA &lt;dbl&gt; |\n",
       "|---|---|---|---|\n",
       "| ASTARR | chr11:4092104-4092566 | 0 |  0.5588223 |\n",
       "| ASTARR | chr11:4094204-4095676 | 0 |  2.5172737 |\n",
       "| ASTARR | chr11:4144511-4147030 | 0 |  0.1706916 |\n",
       "| ASTARR | chr11:4167268-4168022 | 0 | -0.3593538 |\n",
       "| ASTARR | chr11:4181723-4182583 | 0 | -0.1457068 |\n",
       "| ASTARR | chr11:4186880-4188018 | 0 | -1.3013065 |\n",
       "\n"
      ],
      "text/plain": [
       "  Assay_STARRMPRA Region                Group_CRISPR Score_STARRMPRA\n",
       "1 ASTARR          chr11:4092104-4092566 0             0.5588223     \n",
       "2 ASTARR          chr11:4094204-4095676 0             2.5172737     \n",
       "3 ASTARR          chr11:4144511-4147030 0             0.1706916     \n",
       "4 ASTARR          chr11:4167268-4168022 0            -0.3593538     \n",
       "5 ASTARR          chr11:4181723-4182583 0            -0.1457068     \n",
       "6 ASTARR          chr11:4186880-4188018 0            -1.3013065     "
      ]
     },
     "metadata": {},
     "output_type": "display_data"
    }
   ],
   "source": [
    "dat = dat_region_merge\n",
    "print(dim(dat))\n",
    "head(dat)"
   ]
  },
  {
   "cell_type": "code",
   "execution_count": 66,
   "id": "ccaa3fcf-0cce-4edd-8d6d-e14540f6e0ab",
   "metadata": {},
   "outputs": [
    {
     "name": "stdout",
     "output_type": "stream",
     "text": [
      "[1] 300560      4\n",
      "\n",
      "Call:  glm(formula = Group_CRISPR ~ Score_STARRMPRA * Assay_STARRMPRA, \n",
      "    family = binomial(link = \"logit\"), data = dat)\n",
      "\n",
      "Coefficients:\n",
      "                             (Intercept)  \n",
      "                               -2.301592  \n",
      "                         Score_STARRMPRA  \n",
      "                                0.144882  \n",
      "                Assay_STARRMPRASTARRMPRA  \n",
      "                                0.084828  \n",
      "Score_STARRMPRA:Assay_STARRMPRASTARRMPRA  \n",
      "                               -0.004958  \n",
      "\n",
      "Degrees of Freedom: 300559 Total (i.e. Null);  300556 Residual\n",
      "Null Deviance:\t    198800 \n",
      "Residual Deviance: 198000 \tAIC: 198000\n"
     ]
    }
   ],
   "source": [
    "dat = dat_region_merge\n",
    "dat = dat %>% \n",
    "    dplyr::mutate(\n",
    "        Assay_STARRMPRA = ifelse(\n",
    "            Assay_STARRMPRA == \"ATAC\",\n",
    "            \"ATAC\", \n",
    "            \"STARRMPRA\"\n",
    "        )\n",
    "    ) %>%\n",
    "    dplyr::mutate(\n",
    "        Group_CRISPR    = factor(Group_CRISPR, levels = c(0, 1), labels = c(\"non-hit\", \"hit\")),\n",
    "        Assay_STARRMPRA = factor( Assay_STARRMPRA, levels = c(\"ATAC\", \"STARRMPRA\")),\n",
    "        Assay_STARRMPRA = relevel(Assay_STARRMPRA, ref = \"ATAC\")\n",
    "    ) %>%\n",
    "    dplyr::distinct()\n",
    "print(dim(dat))\n",
    "\n",
    "###\n",
    "fit = glm(\n",
    "    Group_CRISPR ~ Score_STARRMPRA * Assay_STARRMPRA, \n",
    "    data   = dat,\n",
    "    family = binomial(link = \"logit\")\n",
    ")\n",
    "\n",
    "fit_logit_pool = fit\n",
    "print(fit)"
   ]
  },
  {
   "cell_type": "code",
   "execution_count": 67,
   "id": "8257d8fe-be0b-45f4-9efc-56c731b6e36b",
   "metadata": {},
   "outputs": [
    {
     "data": {
      "text/html": [
       "<table class=\"dataframe\">\n",
       "<caption>A tibble: 2 × 6</caption>\n",
       "<thead>\n",
       "\t<tr><th scope=col>Assay_STARRMPRA</th><th scope=col>Log10OR</th><th scope=col>Log10OR_CI_Lower</th><th scope=col>Log10OR_CI_Upper</th><th scope=col>Pvalue</th><th scope=col>Size</th></tr>\n",
       "\t<tr><th scope=col>&lt;chr&gt;</th><th scope=col>&lt;dbl&gt;</th><th scope=col>&lt;dbl&gt;</th><th scope=col>&lt;dbl&gt;</th><th scope=col>&lt;dbl&gt;</th><th scope=col>&lt;int&gt;</th></tr>\n",
       "</thead>\n",
       "<tbody>\n",
       "\t<tr><td>ATAC     </td><td>0.06292138</td><td>0.05565972</td><td>0.07018305</td><td> 1.094651e-64</td><td>300560</td></tr>\n",
       "\t<tr><td>STARRMPRA</td><td>0.06076825</td><td>0.05535782</td><td>0.06617868</td><td>2.109263e-107</td><td>300560</td></tr>\n",
       "</tbody>\n",
       "</table>\n"
      ],
      "text/latex": [
       "A tibble: 2 × 6\n",
       "\\begin{tabular}{llllll}\n",
       " Assay\\_STARRMPRA & Log10OR & Log10OR\\_CI\\_Lower & Log10OR\\_CI\\_Upper & Pvalue & Size\\\\\n",
       " <chr> & <dbl> & <dbl> & <dbl> & <dbl> & <int>\\\\\n",
       "\\hline\n",
       "\t ATAC      & 0.06292138 & 0.05565972 & 0.07018305 &  1.094651e-64 & 300560\\\\\n",
       "\t STARRMPRA & 0.06076825 & 0.05535782 & 0.06617868 & 2.109263e-107 & 300560\\\\\n",
       "\\end{tabular}\n"
      ],
      "text/markdown": [
       "\n",
       "A tibble: 2 × 6\n",
       "\n",
       "| Assay_STARRMPRA &lt;chr&gt; | Log10OR &lt;dbl&gt; | Log10OR_CI_Lower &lt;dbl&gt; | Log10OR_CI_Upper &lt;dbl&gt; | Pvalue &lt;dbl&gt; | Size &lt;int&gt; |\n",
       "|---|---|---|---|---|---|\n",
       "| ATAC      | 0.06292138 | 0.05565972 | 0.07018305 |  1.094651e-64 | 300560 |\n",
       "| STARRMPRA | 0.06076825 | 0.05535782 | 0.06617868 | 2.109263e-107 | 300560 |\n",
       "\n"
      ],
      "text/plain": [
       "                Assay_STARRMPRA Log10OR    Log10OR_CI_Lower Log10OR_CI_Upper\n",
       "                ATAC            0.06292138 0.05565972       0.07018305      \n",
       "Score_STARRMPRA STARRMPRA       0.06076825 0.05535782       0.06617868      \n",
       "                Pvalue        Size  \n",
       "                 1.094651e-64 300560\n",
       "Score_STARRMPRA 2.109263e-107 300560"
      ]
     },
     "metadata": {},
     "output_type": "display_data"
    }
   ],
   "source": [
    "### init\n",
    "fit = fit_logit_pool\n",
    "\n",
    "### get the coefficients\n",
    "tab = broom::tidy(fit, conf.int = TRUE, exponentiate = FALSE)\n",
    "\n",
    "### extract the data frame that was actually fit\n",
    "dat = fit$model\n",
    "\n",
    "### get the assays and define reference\n",
    "vec_txt_assay = levels(dat$Assay_STARRMPRA)\n",
    "txt_assay_ref = \"ATAC\"\n",
    "\n",
    "### coefficient vector & covariance matrix\n",
    "vec_num_beta = coef(fit)\n",
    "mat_num_vcov = vcov(fit)\n",
    "\n",
    "### summarize the stats\n",
    "dat = purrr::map_dfr(vec_txt_assay, function(txt_assay) {\n",
    "    ### extract odds ratio and test results\n",
    "    if (txt_assay == txt_assay_ref) {\n",
    "        num_logOR = vec_num_beta[\"Score_STARRMPRA\"]\n",
    "        num_se    = sqrt(mat_num_vcov[\"Score_STARRMPRA\",\"Score_STARRMPRA\"])\n",
    "        num_pval  = tab %>% dplyr::filter(term == \"Score_STARRMPRA\") %>% pull(p.value)\n",
    "    } else {\n",
    "        txt_term  = paste0(\"Score_STARRMPRA:Assay_STARRMPRA\", txt_assay)\n",
    "        num_logOR = vec_num_beta[\"Score_STARRMPRA\"] + vec_num_beta[txt_term]\n",
    "        num_se    = sqrt(\n",
    "            mat_num_vcov[\"Score_STARRMPRA\",\"Score_STARRMPRA\"] +\n",
    "            mat_num_vcov[txt_term, txt_term] +\n",
    "            2 * mat_num_vcov[\"Score_STARRMPRA\", txt_term]\n",
    "        )\n",
    "        num_pval  <- 2 * pnorm(-abs(num_logOR / num_se))\n",
    "    }\n",
    "\n",
    "    # convert from natural log to log10 scale\n",
    "    num_logOR = num_logOR / log(10)\n",
    "    num_se    = num_se    / log(10)\n",
    "    \n",
    "    ### calculate ci and two -sided p-values\n",
    "    res = tibble(\n",
    "        Assay_STARRMPRA = txt_assay,\n",
    "        Log10OR          = num_logOR,\n",
    "        Log10OR_CI_Lower = num_logOR - 1.96 * num_se,\n",
    "        Log10OR_CI_Upper = num_logOR + 1.96 * num_se,\n",
    "        Pvalue           = num_pval,\n",
    "        Size             = nrow(dat)\n",
    "    )\n",
    "    return(res)\n",
    "})\n",
    "\n",
    "dat_stats_pool = dat\n",
    "dat"
   ]
  },
  {
   "cell_type": "code",
   "execution_count": 68,
   "id": "b802e11d-4bc8-4190-b8a8-fdb8aa2cd4db",
   "metadata": {},
   "outputs": [
    {
     "data": {
      "image/png": "[encoded data removed]",
      "text/plain": [
       "plot without title"
      ]
     },
     "metadata": {
      "image/png": {
       "height": 180,
       "width": 600
      }
     },
     "output_type": "display_data"
    }
   ],
   "source": [
    "dat = dat_stats_pool\n",
    "dat = dat %>% dplyr::mutate(\n",
    "    Assay_STARRMPRA = factor(Assay_STARRMPRA, levels=c(\"STARRMPRA\", \"ATAC\"))\n",
    ")\n",
    "\n",
    "gpt = ggplot(dat, aes(x = Log10OR, y = Assay_STARRMPRA)) +\n",
    "    geom_point(size = 3) +\n",
    "    geom_errorbarh(aes(xmin = Log10OR_CI_Lower, xmax = Log10OR_CI_Upper), height = 0.3) +\n",
    "    geom_vline(xintercept = 0, linetype=\"dashed\") +\n",
    "    labs(x = \"Log10 Odds Ratio (95% CI)\", y = \"\", title = \"CRISPR (Pool) ~ STARR/MPRA\") +\n",
    "    theme_cowplot() +\n",
    "    background_grid() +\n",
    "    theme(\n",
    "        strip.text = element_text(face = \"bold\"),\n",
    "        axis.text.y = element_text(size = 11)\n",
    "    )\n",
    "\n",
    "###\n",
    "gpt_logit_pool = gpt\n",
    "options(repr.plot.height=3, repr.plot.width=10)\n",
    "print(gpt)"
   ]
  },
  {
   "cell_type": "markdown",
   "id": "3daf6e92-0100-4ea6-b772-65806ca7093d",
   "metadata": {},
   "source": [
    "## Merge plot"
   ]
  },
  {
   "cell_type": "code",
   "execution_count": 69,
   "id": "76dec811-5a2a-4441-a1bc-7dce99b3f365",
   "metadata": {},
   "outputs": [
    {
     "data": {
      "image/png": "[encoded data removed]",
      "text/plain": [
       "plot without title"
      ]
     },
     "metadata": {
      "image/png": {
       "height": 180,
       "width": 600
      }
     },
     "output_type": "display_data"
    }
   ],
   "source": [
    "gpt_logit_split"
   ]
  },
  {
   "cell_type": "code",
   "execution_count": 70,
   "id": "5f0defc2-44e6-4af1-b415-a13ddf23cc3e",
   "metadata": {},
   "outputs": [
    {
     "data": {
      "image/png": "[encoded data removed]",
      "text/plain": [
       "plot without title"
      ]
     },
     "metadata": {
      "image/png": {
       "height": 180,
       "width": 600
      }
     },
     "output_type": "display_data"
    }
   ],
   "source": [
    "gpt_logit_pool"
   ]
  },
  {
   "cell_type": "code",
   "execution_count": 71,
   "id": "865a15e9-08fd-4ccc-9f5d-e53f272a506b",
   "metadata": {},
   "outputs": [
    {
     "data": {
      "image/png": "[encoded data removed]",
      "text/plain": [
       "plot without title"
      ]
     },
     "metadata": {
      "image/png": {
       "height": 300,
       "width": 420
      }
     },
     "output_type": "display_data"
    }
   ],
   "source": [
    "lst = list(gpt_logit_split, gpt_logit_pool)\n",
    "lst = lapply(lst, function(gpt){\n",
    "    gpt = gpt +\n",
    "        scale_x_continuous(\n",
    "            breaks = seq(0, 0.2, 0.05), \n",
    "            limits = c(-0.01, 0.2)\n",
    "        )\n",
    "    return(gpt)\n",
    "})\n",
    "lst[[1]] = lst[[1]] + labs(x     = \"\")\n",
    "lst[[2]] = lst[[2]] + labs(title = \"\")\n",
    "\n",
    "plt = plot_grid(\n",
    "    plotlist = lst, \n",
    "    rel_heights = c(1.5, 1),\n",
    "    ncol  = 1,\n",
    "    align = \"v\"\n",
    ")\n",
    "\n",
    "options(repr.plot.height=5, repr.plot.width=7)\n",
    "print(plt)"
   ]
  },
  {
   "cell_type": "code",
   "execution_count": null,
   "id": "50f14d76-38e4-49ad-bea1-3c6efb09e4d0",
   "metadata": {},
   "outputs": [],
   "source": []
  },
  {
   "cell_type": "code",
   "execution_count": null,
   "id": "3778fa3b-6dd1-4711-8dbd-f00cc1f1a1f1",
   "metadata": {},
   "outputs": [],
   "source": []
  }
 ],
 "metadata": {
  "kernelspec": {
   "display_name": "R",
   "language": "R",
   "name": "ir"
  },
  "language_info": {
   "codemirror_mode": "r",
   "file_extension": ".r",
   "mimetype": "text/x-r-source",
   "name": "R",
   "pygments_lexer": "r",
   "version": "4.5.1"
  }
 },
 "nbformat": 4,
 "nbformat_minor": 5
}
