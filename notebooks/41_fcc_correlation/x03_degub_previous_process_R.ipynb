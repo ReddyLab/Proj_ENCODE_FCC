{
 "cells": [
  {
   "cell_type": "markdown",
   "id": "88e37e12-0a89-4c69-959b-df52c7fedc8e",
   "metadata": {},
   "source": [
    "**Set environment**"
   ]
  },
  {
   "cell_type": "code",
   "execution_count": 1,
   "id": "c64e8475-99ee-4a65-b8fb-40c8570a7631",
   "metadata": {},
   "outputs": [
    {
     "name": "stdout",
     "output_type": "stream",
     "text": [
      "You are working on        Singularity: singularity_proj_encode_fcc \n",
      "BASE DIRECTORY (FD_BASE): /data/reddylab/Kuei \n",
      "REPO DIRECTORY (FD_REPO): /data/reddylab/Kuei/repo \n",
      "WORK DIRECTORY (FD_WORK): /data/reddylab/Kuei/work \n",
      "DATA DIRECTORY (FD_DATA): /data/reddylab/Kuei/data \n",
      "\n",
      "You are working with      ENCODE FCC \n",
      "PATH OF PROJECT (FD_PRJ): /data/reddylab/Kuei/repo/Proj_ENCODE_FCC \n",
      "PROJECT RESULTS (FD_RES): /data/reddylab/Kuei/repo/Proj_ENCODE_FCC/results \n",
      "PROJECT SCRIPTS (FD_EXE): /data/reddylab/Kuei/repo/Proj_ENCODE_FCC/scripts \n",
      "PROJECT DATA    (FD_DAT): /data/reddylab/Kuei/repo/Proj_ENCODE_FCC/data \n",
      "PROJECT NOTE    (FD_NBK): /data/reddylab/Kuei/repo/Proj_ENCODE_FCC/notebooks \n",
      "PROJECT DOCS    (FD_DOC): /data/reddylab/Kuei/repo/Proj_ENCODE_FCC/docs \n",
      "PROJECT LOG     (FD_LOG): /data/reddylab/Kuei/repo/Proj_ENCODE_FCC/log \n",
      "PROJECT REF     (FD_REF): /data/reddylab/Kuei/repo/Proj_ENCODE_FCC/references \n",
      "\n"
     ]
    }
   ],
   "source": [
    "suppressMessages(suppressWarnings(source(\"../run_config_project_sing.R\")))\n",
    "show_env()"
   ]
  },
  {
   "cell_type": "markdown",
   "id": "f0d77f08-6aa6-4148-8c89-f4224b9b2103",
   "metadata": {},
   "source": [
    "**Set global variables**"
   ]
  },
  {
   "cell_type": "code",
   "execution_count": 2,
   "id": "0e540fcb-a58e-43ff-aeef-b1f9b4883d89",
   "metadata": {},
   "outputs": [
    {
     "name": "stdout",
     "output_type": "stream",
     "text": [
      "atac_ENCFF333TAT \n",
      "atac_ENCFF558BLC \n",
      "atac_ENCFF925CYR \n",
      "atac_ENCFF948AFM \n",
      "dnase_ENCFF185XRG \n",
      "dnase_ENCFF274YGF \n",
      "fcc_astarr_macs_input_overlap \n",
      "fcc_astarr_macs_input_union \n"
     ]
    }
   ],
   "source": [
    "txt_fdiry = file.path(FD_RES, \"region_coverage_fcc\")\n",
    "vec = dir(txt_fdiry)\n",
    "for (txt in vec) {cat(txt, \"\\n\")}"
   ]
  },
  {
   "cell_type": "code",
   "execution_count": 3,
   "id": "6e6557dc-067d-44ca-9e84-e5d3329db353",
   "metadata": {},
   "outputs": [
    {
     "name": "stdout",
     "output_type": "stream",
     "text": [
      "CRISPRi_FlowFISH_K562_Riley_JinWoo \n",
      "CRISPRi_Growth_K562_Gersbach_JinWoo \n",
      "MPRA_Lenti_K562_Nadav_Vikram \n",
      "MPRA_Tiling_K562_Tewhey_Hannah \n",
      "STARR_ATAC_K562_Reddy_KS274 \n",
      "STARR_ATAC_K562_Reddy_KS91 \n",
      "STARR_ATAC_K562_Reddy_KSMerge \n",
      "STARR_WHG_K562_Reddy_A001 \n",
      "summary \n"
     ]
    }
   ],
   "source": [
    "txt_region = \"fcc_astarr_macs_input_union\"\n",
    "txt_fdiry  = file.path(FD_RES, \"region_coverage_fcc\", txt_region)\n",
    "vec = dir(txt_fdiry)\n",
    "for (txt in vec) {cat(txt, \"\\n\")}"
   ]
  },
  {
   "cell_type": "code",
   "execution_count": 7,
   "id": "bec66aa3-1ec2-48f9-b6c2-b389a830c797",
   "metadata": {},
   "outputs": [
    {
     "name": "stdout",
     "output_type": "stream",
     "text": [
      "CRISPRi_HCRFF_K562.hg38.ZScore.filtered.unstranded.bed.gz \n",
      "CRISPRi_HCRFF_K562.hg38.ZScore.unstranded.bed.gz \n",
      "summary \n"
     ]
    }
   ],
   "source": [
    "txt_region = \"fcc_astarr_macs_input_union\"\n",
    "txt_assay  = \"CRISPRi_FlowFISH_K562_Riley_JinWoo\" \n",
    "txt_fdiry  = file.path(FD_RES, \"region_coverage_fcc\", txt_region, txt_assay, \"overlap_score\")\n",
    "vec = dir(txt_fdiry)\n",
    "for (txt in vec) {cat(txt, \"\\n\")}"
   ]
  },
  {
   "cell_type": "code",
   "execution_count": 8,
   "id": "8e6e97c1-0210-42ab-9636-2b95b562d88e",
   "metadata": {},
   "outputs": [
    {
     "name": "stdout",
     "output_type": "stream",
     "text": [
      "result.coverage.score.filtered.tsv \n",
      "result.coverage.score.tsv \n",
      "result.coverage.zscore.tsv \n"
     ]
    }
   ],
   "source": [
    "txt_region = \"fcc_astarr_macs_input_union\"\n",
    "txt_assay  = \"CRISPRi_FlowFISH_K562_Riley_JinWoo\" \n",
    "txt_fdiry  = file.path(FD_RES, \"region_coverage_fcc\", txt_region, txt_assay, \"overlap_score\", \"summary\")\n",
    "vec = dir(txt_fdiry)\n",
    "for (txt in vec) {cat(txt, \"\\n\")}"
   ]
  },
  {
   "cell_type": "code",
   "execution_count": 4,
   "id": "7c846f17-9e30-43f3-97b3-9b3e41da7199",
   "metadata": {},
   "outputs": [
    {
     "name": "stdout",
     "output_type": "stream",
     "text": [
      "fcc_astarr_macs_input_overlap \n",
      "fcc_astarr_macs_input_union \n"
     ]
    }
   ],
   "source": [
    "#txt_fdiry = file.path(FD_RES, \"region_coverage_fcc\")\n",
    "#vec = dir(txt_fdiry)\n",
    "vec = c(\"fcc_astarr_macs_input_overlap\", \"fcc_astarr_macs_input_union\")\n",
    "names(vec) = vec\n",
    "\n",
    "VEC_TXT_REGION = vec\n",
    "for (txt in vec) {cat(txt, \"\\n\")}"
   ]
  },
  {
   "cell_type": "markdown",
   "id": "30be681f-7b7b-491d-9b33-d52300bb843f",
   "metadata": {},
   "source": [
    "```\n",
    "vec_txt_assay = c(\n",
    "    \"CRISPRi_FlowFISH_K562_Riley_JinWoo\",\n",
    "    \"CRISPRi_Growth_K562_Gersbach_JinWoo\",\n",
    "    \"MPRA_Lenti_K562_Nadav_Vikram\"\n",
    ")\n",
    "```"
   ]
  },
  {
   "cell_type": "markdown",
   "id": "23d1a3aa-fb2b-4a0f-9a16-779f980267a9",
   "metadata": {},
   "source": [
    "## Import data"
   ]
  },
  {
   "cell_type": "code",
   "execution_count": 12,
   "id": "951e81ab-c10e-4194-9062-12a7794843ff",
   "metadata": {},
   "outputs": [
    {
     "name": "stdout",
     "output_type": "stream",
     "text": [
      "[1] 176457     12\n"
     ]
    },
    {
     "data": {
      "text/html": [
       "<table>\n",
       " <thead>\n",
       "  <tr>\n",
       "   <th style=\"text-align:left;\"> Chrom_A </th>\n",
       "   <th style=\"text-align:right;\"> ChromStart_A </th>\n",
       "   <th style=\"text-align:right;\"> ChromEnd_A </th>\n",
       "   <th style=\"text-align:left;\"> Region_A </th>\n",
       "   <th style=\"text-align:left;\"> Chrom_B </th>\n",
       "   <th style=\"text-align:right;\"> ChromStart_B </th>\n",
       "   <th style=\"text-align:right;\"> ChromEnd_B </th>\n",
       "   <th style=\"text-align:left;\"> Name_B </th>\n",
       "   <th style=\"text-align:right;\"> Score_B </th>\n",
       "   <th style=\"text-align:left;\"> Strand_B </th>\n",
       "   <th style=\"text-align:left;\"> Target_B </th>\n",
       "   <th style=\"text-align:right;\"> Overlap </th>\n",
       "  </tr>\n",
       " </thead>\n",
       "<tbody>\n",
       "  <tr>\n",
       "   <td style=\"text-align:left;\"> chr11 </td>\n",
       "   <td style=\"text-align:right;\"> 4092104 </td>\n",
       "   <td style=\"text-align:right;\"> 4092566 </td>\n",
       "   <td style=\"text-align:left;\"> chr11:4092104-4092566 </td>\n",
       "   <td style=\"text-align:left;\"> chr11 </td>\n",
       "   <td style=\"text-align:right;\"> 4092122 </td>\n",
       "   <td style=\"text-align:right;\"> 4092123 </td>\n",
       "   <td style=\"text-align:left;\"> id-145 </td>\n",
       "   <td style=\"text-align:right;\"> -1.101030 </td>\n",
       "   <td style=\"text-align:left;\"> . </td>\n",
       "   <td style=\"text-align:left;\"> HBE1 </td>\n",
       "   <td style=\"text-align:right;\"> 1 </td>\n",
       "  </tr>\n",
       "  <tr>\n",
       "   <td style=\"text-align:left;\"> chr11 </td>\n",
       "   <td style=\"text-align:right;\"> 4092104 </td>\n",
       "   <td style=\"text-align:right;\"> 4092566 </td>\n",
       "   <td style=\"text-align:left;\"> chr11:4092104-4092566 </td>\n",
       "   <td style=\"text-align:left;\"> chr11 </td>\n",
       "   <td style=\"text-align:right;\"> 4092122 </td>\n",
       "   <td style=\"text-align:right;\"> 4092123 </td>\n",
       "   <td style=\"text-align:left;\"> id-145 </td>\n",
       "   <td style=\"text-align:right;\"> -0.015199 </td>\n",
       "   <td style=\"text-align:left;\"> . </td>\n",
       "   <td style=\"text-align:left;\"> HBG1 </td>\n",
       "   <td style=\"text-align:right;\"> 1 </td>\n",
       "  </tr>\n",
       "  <tr>\n",
       "   <td style=\"text-align:left;\"> chr11 </td>\n",
       "   <td style=\"text-align:right;\"> 4092104 </td>\n",
       "   <td style=\"text-align:right;\"> 4092566 </td>\n",
       "   <td style=\"text-align:left;\"> chr11:4092104-4092566 </td>\n",
       "   <td style=\"text-align:left;\"> chr11 </td>\n",
       "   <td style=\"text-align:right;\"> 4092122 </td>\n",
       "   <td style=\"text-align:right;\"> 4092123 </td>\n",
       "   <td style=\"text-align:left;\"> id-145 </td>\n",
       "   <td style=\"text-align:right;\"> 0.304337 </td>\n",
       "   <td style=\"text-align:left;\"> . </td>\n",
       "   <td style=\"text-align:left;\"> HBG2 </td>\n",
       "   <td style=\"text-align:right;\"> 1 </td>\n",
       "  </tr>\n",
       "</tbody>\n",
       "</table>"
      ]
     },
     "metadata": {},
     "output_type": "display_data"
    }
   ],
   "source": [
    "### init\n",
    "txt_region = \"fcc_astarr_macs_input_union\"\n",
    "txt_assay  = \"CRISPRi_FlowFISH_K562_Riley_JinWoo\" \n",
    "\n",
    "### set directory and import assay description\n",
    "txt_fdiry = file.path(FD_RES, \"assay_fcc\", txt_assay, \"coverage\", \"summary\")\n",
    "txt_fname = \"description.tsv\"\n",
    "txt_fpath = file.path(txt_fdiry, txt_fname)\n",
    "\n",
    "dat_cname_assay = read_tsv(txt_fpath, show_col_types = FALSE)\n",
    "\n",
    "### set directory and import region description\n",
    "txt_folder = \"region_for_analysis\"\n",
    "txt_fdiry  = file.path(FD_RES, \"region\", txt_folder, \"summary\")\n",
    "txt_fname  = \"description.tsv\"\n",
    "txt_fpath  = file.path(txt_fdiry, txt_fname)\n",
    "\n",
    "dat_cname_region = read_tsv(txt_fpath, show_col_types = FALSE)\n",
    "\n",
    "### set column names/types for overlap score\n",
    "vec_txt_cname = c(\n",
    "    paste(dat_cname_region$Name, \"A\", sep = \"_\"), \n",
    "    paste(dat_cname_assay$Name,  \"B\", sep = \"_\"), \n",
    "    \"Overlap\"\n",
    ")\n",
    "\n",
    "### set file directory\n",
    "txt_fdiry  = file.path(FD_RES, \"region_coverage_fcc\", txt_region, txt_assay, \"overlap_score\")\n",
    "txt_fname  = \"CRISPRi_HCRFF_K562.hg38.ZScore.filtered.unstranded.bed.gz\"\n",
    "txt_fpath  = file.path(txt_fdiry, txt_fname)\n",
    "\n",
    "### read table\n",
    "dat = read_tsv(txt_fpath, col_names = vec_txt_cname, show_col_types = FALSE)\n",
    "\n",
    "### assign and show\n",
    "dat_region_score_import = dat\n",
    "print(dim(dat))\n",
    "fun_display_table(head(dat, 3))"
   ]
  },
  {
   "cell_type": "markdown",
   "id": "02fef75f-48f7-4ec5-90b0-ccf3e0a783eb",
   "metadata": {},
   "source": [
    "## Arrange table"
   ]
  },
  {
   "cell_type": "code",
   "execution_count": 14,
   "id": "a85750e0-2302-4081-95f6-9c2f05b86700",
   "metadata": {},
   "outputs": [
    {
     "name": "stdout",
     "output_type": "stream",
     "text": [
      "[1] 176457      7\n"
     ]
    },
    {
     "data": {
      "text/html": [
       "<table>\n",
       " <thead>\n",
       "  <tr>\n",
       "   <th style=\"text-align:left;\"> Chrom </th>\n",
       "   <th style=\"text-align:right;\"> ChromStart </th>\n",
       "   <th style=\"text-align:right;\"> ChromEnd </th>\n",
       "   <th style=\"text-align:left;\"> Region </th>\n",
       "   <th style=\"text-align:left;\"> Guide </th>\n",
       "   <th style=\"text-align:right;\"> Score </th>\n",
       "   <th style=\"text-align:left;\"> Target </th>\n",
       "  </tr>\n",
       " </thead>\n",
       "<tbody>\n",
       "  <tr>\n",
       "   <td style=\"text-align:left;\"> chr11 </td>\n",
       "   <td style=\"text-align:right;\"> 4092104 </td>\n",
       "   <td style=\"text-align:right;\"> 4092566 </td>\n",
       "   <td style=\"text-align:left;\"> chr11:4092104-4092566 </td>\n",
       "   <td style=\"text-align:left;\"> chr11:4092122-4092123 </td>\n",
       "   <td style=\"text-align:right;\"> -1.101030 </td>\n",
       "   <td style=\"text-align:left;\"> HBE1 </td>\n",
       "  </tr>\n",
       "  <tr>\n",
       "   <td style=\"text-align:left;\"> chr11 </td>\n",
       "   <td style=\"text-align:right;\"> 4092104 </td>\n",
       "   <td style=\"text-align:right;\"> 4092566 </td>\n",
       "   <td style=\"text-align:left;\"> chr11:4092104-4092566 </td>\n",
       "   <td style=\"text-align:left;\"> chr11:4092122-4092123 </td>\n",
       "   <td style=\"text-align:right;\"> -0.015199 </td>\n",
       "   <td style=\"text-align:left;\"> HBG1 </td>\n",
       "  </tr>\n",
       "  <tr>\n",
       "   <td style=\"text-align:left;\"> chr11 </td>\n",
       "   <td style=\"text-align:right;\"> 4092104 </td>\n",
       "   <td style=\"text-align:right;\"> 4092566 </td>\n",
       "   <td style=\"text-align:left;\"> chr11:4092104-4092566 </td>\n",
       "   <td style=\"text-align:left;\"> chr11:4092122-4092123 </td>\n",
       "   <td style=\"text-align:right;\"> 0.304337 </td>\n",
       "   <td style=\"text-align:left;\"> HBG2 </td>\n",
       "  </tr>\n",
       "</tbody>\n",
       "</table>"
      ]
     },
     "metadata": {},
     "output_type": "display_data"
    }
   ],
   "source": [
    "dat = dat_region_score_import\n",
    "dat = dat %>% \n",
    "    dplyr::mutate(\n",
    "        Chrom      = Chrom_A,\n",
    "        ChromStart = ChromStart_A,\n",
    "        ChromEnd   = ChromEnd_A,\n",
    "        Region     = fun_gen_region(Chrom_A, ChromStart_A, ChromEnd_A),\n",
    "        Guide      = fun_gen_region(Chrom_B, ChromStart_B, ChromEnd_B),\n",
    "        Score      = Score_B,\n",
    "        Target     = Target_B\n",
    "    ) %>%\n",
    "    dplyr::select(Chrom, ChromStart, ChromEnd, Region, Guide, Score, Target) %>%\n",
    "    dplyr::distinct()\n",
    "\n",
    "###\n",
    "dat_region_score_arrange = dat\n",
    "print(dim(dat))\n",
    "fun_display_table(head(dat, 3))"
   ]
  },
  {
   "cell_type": "markdown",
   "id": "dc3f8622-34c9-4124-9931-ea5acfa771dd",
   "metadata": {},
   "source": [
    "## Summarize scores"
   ]
  },
  {
   "cell_type": "code",
   "execution_count": 17,
   "id": "b0e3b868-dea5-42f8-8735-d6042b153f81",
   "metadata": {},
   "outputs": [
    {
     "name": "stdout",
     "output_type": "stream",
     "text": [
      "[1] 3084    9\n"
     ]
    },
    {
     "data": {
      "text/html": [
       "<table class=\"dataframe\">\n",
       "<caption>A tibble: 6 × 9</caption>\n",
       "<thead>\n",
       "\t<tr><th scope=col>Region</th><th scope=col>Target</th><th scope=col>Mean</th><th scope=col>Median</th><th scope=col>Max</th><th scope=col>Min</th><th scope=col>Count</th><th scope=col>Mean_Neg</th><th scope=col>Mean_Pos</th></tr>\n",
       "\t<tr><th scope=col>&lt;chr&gt;</th><th scope=col>&lt;chr&gt;</th><th scope=col>&lt;dbl&gt;</th><th scope=col>&lt;dbl&gt;</th><th scope=col>&lt;dbl&gt;</th><th scope=col>&lt;dbl&gt;</th><th scope=col>&lt;int&gt;</th><th scope=col>&lt;dbl&gt;</th><th scope=col>&lt;dbl&gt;</th></tr>\n",
       "</thead>\n",
       "<tbody>\n",
       "\t<tr><td>chr11:33065336-33066228</td><td>CAPRIN1</td><td>-0.27343935</td><td>-0.2533300</td><td>1.82911</td><td>-2.32196</td><td>46</td><td>-0.5695431</td><td>0.4782085</td></tr>\n",
       "\t<tr><td>chr11:33065336-33066228</td><td>CAT    </td><td>-0.01256696</td><td>-0.1384765</td><td>1.43868</td><td>-1.77410</td><td>46</td><td>-0.5122241</td><td>0.6369873</td></tr>\n",
       "\t<tr><td>chr11:33065336-33066228</td><td>LMO2   </td><td> 0.03675483</td><td>-0.0071000</td><td>1.09905</td><td>-1.14702</td><td>46</td><td>-0.4276747</td><td>0.5011843</td></tr>\n",
       "\t<tr><td>chr11:33068519-33069100</td><td>CAPRIN1</td><td>-0.11785479</td><td>-0.0847600</td><td>1.64429</td><td>-2.01338</td><td>53</td><td>-0.4252182</td><td>0.4797963</td></tr>\n",
       "\t<tr><td>chr11:33068519-33069100</td><td>CAT    </td><td>-0.15932204</td><td>-0.1697360</td><td>2.12211</td><td>-2.59035</td><td>53</td><td>-0.6266582</td><td>0.6769637</td></tr>\n",
       "\t<tr><td>chr11:33068519-33069100</td><td>LMO2   </td><td>-0.08303026</td><td>-0.1090310</td><td>2.73010</td><td>-2.25265</td><td>53</td><td>-0.5389359</td><td>0.5116293</td></tr>\n",
       "</tbody>\n",
       "</table>\n"
      ],
      "text/latex": [
       "A tibble: 6 × 9\n",
       "\\begin{tabular}{lllllllll}\n",
       " Region & Target & Mean & Median & Max & Min & Count & Mean\\_Neg & Mean\\_Pos\\\\\n",
       " <chr> & <chr> & <dbl> & <dbl> & <dbl> & <dbl> & <int> & <dbl> & <dbl>\\\\\n",
       "\\hline\n",
       "\t chr11:33065336-33066228 & CAPRIN1 & -0.27343935 & -0.2533300 & 1.82911 & -2.32196 & 46 & -0.5695431 & 0.4782085\\\\\n",
       "\t chr11:33065336-33066228 & CAT     & -0.01256696 & -0.1384765 & 1.43868 & -1.77410 & 46 & -0.5122241 & 0.6369873\\\\\n",
       "\t chr11:33065336-33066228 & LMO2    &  0.03675483 & -0.0071000 & 1.09905 & -1.14702 & 46 & -0.4276747 & 0.5011843\\\\\n",
       "\t chr11:33068519-33069100 & CAPRIN1 & -0.11785479 & -0.0847600 & 1.64429 & -2.01338 & 53 & -0.4252182 & 0.4797963\\\\\n",
       "\t chr11:33068519-33069100 & CAT     & -0.15932204 & -0.1697360 & 2.12211 & -2.59035 & 53 & -0.6266582 & 0.6769637\\\\\n",
       "\t chr11:33068519-33069100 & LMO2    & -0.08303026 & -0.1090310 & 2.73010 & -2.25265 & 53 & -0.5389359 & 0.5116293\\\\\n",
       "\\end{tabular}\n"
      ],
      "text/markdown": [
       "\n",
       "A tibble: 6 × 9\n",
       "\n",
       "| Region &lt;chr&gt; | Target &lt;chr&gt; | Mean &lt;dbl&gt; | Median &lt;dbl&gt; | Max &lt;dbl&gt; | Min &lt;dbl&gt; | Count &lt;int&gt; | Mean_Neg &lt;dbl&gt; | Mean_Pos &lt;dbl&gt; |\n",
       "|---|---|---|---|---|---|---|---|---|\n",
       "| chr11:33065336-33066228 | CAPRIN1 | -0.27343935 | -0.2533300 | 1.82911 | -2.32196 | 46 | -0.5695431 | 0.4782085 |\n",
       "| chr11:33065336-33066228 | CAT     | -0.01256696 | -0.1384765 | 1.43868 | -1.77410 | 46 | -0.5122241 | 0.6369873 |\n",
       "| chr11:33065336-33066228 | LMO2    |  0.03675483 | -0.0071000 | 1.09905 | -1.14702 | 46 | -0.4276747 | 0.5011843 |\n",
       "| chr11:33068519-33069100 | CAPRIN1 | -0.11785479 | -0.0847600 | 1.64429 | -2.01338 | 53 | -0.4252182 | 0.4797963 |\n",
       "| chr11:33068519-33069100 | CAT     | -0.15932204 | -0.1697360 | 2.12211 | -2.59035 | 53 | -0.6266582 | 0.6769637 |\n",
       "| chr11:33068519-33069100 | LMO2    | -0.08303026 | -0.1090310 | 2.73010 | -2.25265 | 53 | -0.5389359 | 0.5116293 |\n",
       "\n"
      ],
      "text/plain": [
       "  Region                  Target  Mean        Median     Max     Min      Count\n",
       "1 chr11:33065336-33066228 CAPRIN1 -0.27343935 -0.2533300 1.82911 -2.32196 46   \n",
       "2 chr11:33065336-33066228 CAT     -0.01256696 -0.1384765 1.43868 -1.77410 46   \n",
       "3 chr11:33065336-33066228 LMO2     0.03675483 -0.0071000 1.09905 -1.14702 46   \n",
       "4 chr11:33068519-33069100 CAPRIN1 -0.11785479 -0.0847600 1.64429 -2.01338 53   \n",
       "5 chr11:33068519-33069100 CAT     -0.15932204 -0.1697360 2.12211 -2.59035 53   \n",
       "6 chr11:33068519-33069100 LMO2    -0.08303026 -0.1090310 2.73010 -2.25265 53   \n",
       "  Mean_Neg   Mean_Pos \n",
       "1 -0.5695431 0.4782085\n",
       "2 -0.5122241 0.6369873\n",
       "3 -0.4276747 0.5011843\n",
       "4 -0.4252182 0.4797963\n",
       "5 -0.6266582 0.6769637\n",
       "6 -0.5389359 0.5116293"
      ]
     },
     "metadata": {},
     "output_type": "display_data"
    }
   ],
   "source": [
    "###\n",
    "#dat = dat_peak_score_arrange\n",
    "dat = dat_region_score_arrange\n",
    "dat = dat %>% dplyr::mutate(Sign  = ifelse(Score > 0, \"pos\", \"neg\"))\n",
    "\n",
    "###\n",
    "dat_summary_total = dat %>%\n",
    "    #dplyr::group_by(Peak, Gene) %>%\n",
    "    dplyr::group_by(Region, Target) %>%\n",
    "    dplyr::summarise(\n",
    "        Mean    = mean(Score),\n",
    "        Median  = median(Score),\n",
    "        Max     = max(Score),\n",
    "        Min     = min(Score),\n",
    "        Count   = n(),\n",
    "        .groups = \"drop\"\n",
    "    )\n",
    "\n",
    "###\n",
    "dat_summary_sign = dat %>%\n",
    "    #dplyr::group_by(Peak, Gene, Sign) %>%\n",
    "    dplyr::group_by(Region, Target, Sign) %>%\n",
    "    dplyr::summarise(Mean = mean(Score), .groups = \"drop\") %>% \n",
    "    dplyr::mutate(Sign = dplyr::recode(Sign, `pos` = \"Mean_Pos\", `neg` = \"Mean_Neg\")) %>% \n",
    "    tidyr::spread(Sign, Mean)\n",
    "\n",
    "###\n",
    "dat = dplyr::left_join(\n",
    "    dat_summary_total,\n",
    "    dat_summary_sign,\n",
    "    #by = c(\"Peak\", \"Gene\")) %>% \n",
    "    by = c(\"Region\", \"Target\")) %>% \n",
    "    replace(is.na(.), 0)\n",
    "\n",
    "#dat_peak_score_summary = dat\n",
    "dat_region_score_summary = dat\n",
    "print(dim(dat))\n",
    "head(dat)"
   ]
  },
  {
   "cell_type": "code",
   "execution_count": 20,
   "id": "f5ae07f3-4c54-48d8-bca2-8d3018d03a8c",
   "metadata": {},
   "outputs": [
    {
     "name": "stdout",
     "output_type": "stream",
     "text": [
      "[1] 1330    6\n"
     ]
    },
    {
     "data": {
      "text/html": [
       "<table class=\"dataframe\">\n",
       "<caption>A tibble: 6 × 6</caption>\n",
       "<thead>\n",
       "\t<tr><th scope=col>Region</th><th scope=col>Mean</th><th scope=col>Mean_Pos</th><th scope=col>Mean_Neg</th><th scope=col>Count</th><th scope=col>Note</th></tr>\n",
       "\t<tr><th scope=col>&lt;chr&gt;</th><th scope=col>&lt;dbl&gt;</th><th scope=col>&lt;dbl&gt;</th><th scope=col>&lt;dbl&gt;</th><th scope=col>&lt;int&gt;</th><th scope=col>&lt;chr&gt;</th></tr>\n",
       "</thead>\n",
       "<tbody>\n",
       "\t<tr><td>chr11:33065336-33066228</td><td>-0.08308383</td><td>0.03675483</td><td>-0.2734393</td><td>138</td><td>CAPRIN1:138|CAT:138|LMO2:138</td></tr>\n",
       "\t<tr><td>chr11:33068519-33069100</td><td>-0.12006903</td><td>0.00000000</td><td>-0.1593220</td><td>159</td><td>CAPRIN1:159|CAT:159|LMO2:159</td></tr>\n",
       "\t<tr><td>chr11:33072412-33072630</td><td> 0.10643558</td><td>0.35299267</td><td>-0.1982723</td><td> 36</td><td>CAPRIN1:36|CAT:36|LMO2:36   </td></tr>\n",
       "\t<tr><td>chr11:33103533-33104120</td><td> 0.98158422</td><td>1.44209600</td><td> 0.0000000</td><td>  9</td><td>CAPRIN1:9|CAT:9|LMO2:9      </td></tr>\n",
       "\t<tr><td>chr11:33114629-33115134</td><td> 0.22095793</td><td>0.42649733</td><td> 0.0000000</td><td> 27</td><td>CAPRIN1:27|CAT:27|LMO2:27   </td></tr>\n",
       "\t<tr><td>chr11:33125296-33126416</td><td>-0.05128921</td><td>0.04323581</td><td>-0.1542515</td><td>159</td><td>CAPRIN1:159|CAT:159|LMO2:159</td></tr>\n",
       "</tbody>\n",
       "</table>\n"
      ],
      "text/latex": [
       "A tibble: 6 × 6\n",
       "\\begin{tabular}{llllll}\n",
       " Region & Mean & Mean\\_Pos & Mean\\_Neg & Count & Note\\\\\n",
       " <chr> & <dbl> & <dbl> & <dbl> & <int> & <chr>\\\\\n",
       "\\hline\n",
       "\t chr11:33065336-33066228 & -0.08308383 & 0.03675483 & -0.2734393 & 138 & CAPRIN1:138\\textbar{}CAT:138\\textbar{}LMO2:138\\\\\n",
       "\t chr11:33068519-33069100 & -0.12006903 & 0.00000000 & -0.1593220 & 159 & CAPRIN1:159\\textbar{}CAT:159\\textbar{}LMO2:159\\\\\n",
       "\t chr11:33072412-33072630 &  0.10643558 & 0.35299267 & -0.1982723 &  36 & CAPRIN1:36\\textbar{}CAT:36\\textbar{}LMO2:36   \\\\\n",
       "\t chr11:33103533-33104120 &  0.98158422 & 1.44209600 &  0.0000000 &   9 & CAPRIN1:9\\textbar{}CAT:9\\textbar{}LMO2:9      \\\\\n",
       "\t chr11:33114629-33115134 &  0.22095793 & 0.42649733 &  0.0000000 &  27 & CAPRIN1:27\\textbar{}CAT:27\\textbar{}LMO2:27   \\\\\n",
       "\t chr11:33125296-33126416 & -0.05128921 & 0.04323581 & -0.1542515 & 159 & CAPRIN1:159\\textbar{}CAT:159\\textbar{}LMO2:159\\\\\n",
       "\\end{tabular}\n"
      ],
      "text/markdown": [
       "\n",
       "A tibble: 6 × 6\n",
       "\n",
       "| Region &lt;chr&gt; | Mean &lt;dbl&gt; | Mean_Pos &lt;dbl&gt; | Mean_Neg &lt;dbl&gt; | Count &lt;int&gt; | Note &lt;chr&gt; |\n",
       "|---|---|---|---|---|---|\n",
       "| chr11:33065336-33066228 | -0.08308383 | 0.03675483 | -0.2734393 | 138 | CAPRIN1:138|CAT:138|LMO2:138 |\n",
       "| chr11:33068519-33069100 | -0.12006903 | 0.00000000 | -0.1593220 | 159 | CAPRIN1:159|CAT:159|LMO2:159 |\n",
       "| chr11:33072412-33072630 |  0.10643558 | 0.35299267 | -0.1982723 |  36 | CAPRIN1:36|CAT:36|LMO2:36    |\n",
       "| chr11:33103533-33104120 |  0.98158422 | 1.44209600 |  0.0000000 |   9 | CAPRIN1:9|CAT:9|LMO2:9       |\n",
       "| chr11:33114629-33115134 |  0.22095793 | 0.42649733 |  0.0000000 |  27 | CAPRIN1:27|CAT:27|LMO2:27    |\n",
       "| chr11:33125296-33126416 | -0.05128921 | 0.04323581 | -0.1542515 | 159 | CAPRIN1:159|CAT:159|LMO2:159 |\n",
       "\n"
      ],
      "text/plain": [
       "  Region                  Mean        Mean_Pos   Mean_Neg   Count\n",
       "1 chr11:33065336-33066228 -0.08308383 0.03675483 -0.2734393 138  \n",
       "2 chr11:33068519-33069100 -0.12006903 0.00000000 -0.1593220 159  \n",
       "3 chr11:33072412-33072630  0.10643558 0.35299267 -0.1982723  36  \n",
       "4 chr11:33103533-33104120  0.98158422 1.44209600  0.0000000   9  \n",
       "5 chr11:33114629-33115134  0.22095793 0.42649733  0.0000000  27  \n",
       "6 chr11:33125296-33126416 -0.05128921 0.04323581 -0.1542515 159  \n",
       "  Note                        \n",
       "1 CAPRIN1:138|CAT:138|LMO2:138\n",
       "2 CAPRIN1:159|CAT:159|LMO2:159\n",
       "3 CAPRIN1:36|CAT:36|LMO2:36   \n",
       "4 CAPRIN1:9|CAT:9|LMO2:9      \n",
       "5 CAPRIN1:27|CAT:27|LMO2:27   \n",
       "6 CAPRIN1:159|CAT:159|LMO2:159"
      ]
     },
     "metadata": {},
     "output_type": "display_data"
    }
   ],
   "source": [
    "#dat = dat_peak_score_summary\n",
    "dat = dat_region_score_summary\n",
    "dat = dat %>% \n",
    "    #dplyr::group_by(Peak) %>%\n",
    "    dplyr::group_by(Region) %>%\n",
    "    dplyr::summarize(\n",
    "        Mean_Tot = mean(Mean),\n",
    "        Mean_Pos = max(Mean, 0),\n",
    "        Mean_Neg = min(Mean, 0),\n",
    "        Count    = sum(Count),\n",
    "        #Note     = paste(Gene, Count, sep=\":\", collapse=\"|\"),\n",
    "        Note     = paste(Target, Count, sep=\":\", collapse=\"|\"),\n",
    "        .groups  = \"drop\"\n",
    "    ) %>%\n",
    "    dplyr::rename(\"Mean\" = \"Mean_Tot\")\n",
    "\n",
    "#dat_peak_score_summary_merge = dat\n",
    "dat_region_score_summary_merge = dat\n",
    "print(dim(dat))\n",
    "head(dat)"
   ]
  },
  {
   "cell_type": "markdown",
   "id": "0f4eb479-f143-49f0-a56c-ded61d83b629",
   "metadata": {},
   "source": [
    "## Plot distribution"
   ]
  },
  {
   "cell_type": "code",
   "execution_count": 21,
   "id": "60404d8e-435c-4652-afda-98fce5cba9bb",
   "metadata": {},
   "outputs": [
    {
     "data": {
      "image/png": "[encoded data removed]",
      "text/plain": [
       "plot without title"
      ]
     },
     "metadata": {
      "image/png": {
       "height": 420,
       "width": 420
      }
     },
     "output_type": "display_data"
    }
   ],
   "source": [
    "dat = dat_region_score_summary\n",
    "gpt = ggplot(dat, aes(x=Count)) + \n",
    "    geom_histogram(bins = 50) + \n",
    "    labs(y=\"#Guides / Region\") +\n",
    "    theme_cowplot()\n",
    "print(gpt)"
   ]
  },
  {
   "cell_type": "code",
   "execution_count": 24,
   "id": "e41ddb71-cda3-4896-9467-7587a317505c",
   "metadata": {},
   "outputs": [
    {
     "data": {
      "image/png": "[encoded data removed]",
      "text/plain": [
       "plot without title"
      ]
     },
     "metadata": {
      "image/png": {
       "height": 420,
       "width": 420
      }
     },
     "output_type": "display_data"
    }
   ],
   "source": [
    "dat = dat_region_score_summary\n",
    "gpt = ggplot(dat, aes(x=Mean)) + \n",
    "    geom_histogram(bins = 50) + \n",
    "    labs(y=\"Score\") +\n",
    "    theme_cowplot()\n",
    "print(gpt)"
   ]
  },
  {
   "cell_type": "code",
   "execution_count": 23,
   "id": "5235408c-360d-4a9e-bc2a-662989453797",
   "metadata": {},
   "outputs": [
    {
     "data": {
      "image/png": "[encoded data removed]",
      "text/plain": [
       "plot without title"
      ]
     },
     "metadata": {
      "image/png": {
       "height": 420,
       "width": 420
      }
     },
     "output_type": "display_data"
    }
   ],
   "source": [
    "dat = dat_region_score_summary_merge\n",
    "gpt = ggplot(dat, aes(x=Mean)) + \n",
    "    geom_histogram(bins = 50) + \n",
    "    labs(y=\"Score\") +\n",
    "    theme_cowplot()\n",
    "print(gpt)"
   ]
  },
  {
   "cell_type": "markdown",
   "id": "fe6004de-8caa-4208-a1cd-27c87600dfcd",
   "metadata": {},
   "source": [
    "## Plot with Ranknorm"
   ]
  },
  {
   "cell_type": "markdown",
   "id": "9c6513a4-2889-4d13-90fd-e179aab77939",
   "metadata": {},
   "source": [
    "**STARR/MPRA Ranked score**"
   ]
  },
  {
   "cell_type": "code",
   "execution_count": 28,
   "id": "245a79d2-1a15-44b4-8b4c-f5e1923caa41",
   "metadata": {},
   "outputs": [],
   "source": [
    "FD_RES_PRE = \"/data/reddylab/Kuei/work/proj_encode_fcc/results_v4\""
   ]
  },
  {
   "cell_type": "code",
   "execution_count": 29,
   "id": "fe0ca488-ffaf-406b-b3c8-7991b09c4d16",
   "metadata": {},
   "outputs": [
    {
     "name": "stdout",
     "output_type": "stream",
     "text": [
      "result.ranknorm.starrmpra.overlap.tsv \n",
      "result.score.starrmpra.tsv \n"
     ]
    }
   ],
   "source": [
    "txt_fdiry = file.path(FD_RES_PRE, \"comparison\")\n",
    "vec = dir(txt_fdiry)\n",
    "for (txt in vec){cat(txt, \"\\n\")}"
   ]
  },
  {
   "cell_type": "code",
   "execution_count": 36,
   "id": "997d1820-d81b-4946-a25f-e842f7007a28",
   "metadata": {},
   "outputs": [
    {
     "name": "stdout",
     "output_type": "stream",
     "text": [
      "[1] 1241    6\n"
     ]
    },
    {
     "data": {
      "text/html": [
       "<table>\n",
       " <thead>\n",
       "  <tr>\n",
       "   <th style=\"text-align:left;\"> Region </th>\n",
       "   <th style=\"text-align:right;\"> ASTARR </th>\n",
       "   <th style=\"text-align:right;\"> WSTARR </th>\n",
       "   <th style=\"text-align:right;\"> TMPRA </th>\n",
       "   <th style=\"text-align:right;\"> LMPRA </th>\n",
       "   <th style=\"text-align:right;\"> Mean </th>\n",
       "  </tr>\n",
       " </thead>\n",
       "<tbody>\n",
       "  <tr>\n",
       "   <td style=\"text-align:left;\"> chr11:32870601-32871324 </td>\n",
       "   <td style=\"text-align:right;\"> 0.1200645 </td>\n",
       "   <td style=\"text-align:right;\"> 0.0620467 </td>\n",
       "   <td style=\"text-align:right;\"> 0.1958098 </td>\n",
       "   <td style=\"text-align:right;\"> 0.2280419 </td>\n",
       "   <td style=\"text-align:right;\"> 0.1514907 </td>\n",
       "  </tr>\n",
       "  <tr>\n",
       "   <td style=\"text-align:left;\"> chr11:32874343-32875070 </td>\n",
       "   <td style=\"text-align:right;\"> 0.1305399 </td>\n",
       "   <td style=\"text-align:right;\"> 0.2143433 </td>\n",
       "   <td style=\"text-align:right;\"> 0.3231265 </td>\n",
       "   <td style=\"text-align:right;\"> 0.0809831 </td>\n",
       "   <td style=\"text-align:right;\"> 0.1872482 </td>\n",
       "  </tr>\n",
       "  <tr>\n",
       "   <td style=\"text-align:left;\"> chr11:32884749-32885822 </td>\n",
       "   <td style=\"text-align:right;\"> 0.0854150 </td>\n",
       "   <td style=\"text-align:right;\"> 0.2634972 </td>\n",
       "   <td style=\"text-align:right;\"> 0.5439162 </td>\n",
       "   <td style=\"text-align:right;\"> 0.7856567 </td>\n",
       "   <td style=\"text-align:right;\"> 0.4196213 </td>\n",
       "  </tr>\n",
       "</tbody>\n",
       "</table>"
      ]
     },
     "metadata": {},
     "output_type": "display_data"
    }
   ],
   "source": [
    "txt_fdiry = file.path(FD_RES_PRE, \"comparison\")\n",
    "txt_fname = \"result.ranknorm.starrmpra.overlap.tsv\"\n",
    "txt_fpath = file.path(txt_fdiry, txt_fname)\n",
    "\n",
    "dat = read_tsv(txt_fpath, show_col_types = FALSE)\n",
    "dat = dat %>% dplyr::rename(\"Region\" = \"Peak\")\n",
    "\n",
    "dat_region_ranknorm_pre = dat\n",
    "print(dim(dat))\n",
    "fun_display_table(head(dat, 3))"
   ]
  },
  {
   "cell_type": "code",
   "execution_count": null,
   "id": "9d9fbbf9-fc42-412e-8d75-b2fd829af219",
   "metadata": {},
   "outputs": [],
   "source": []
  },
  {
   "cell_type": "code",
   "execution_count": null,
   "id": "8977078c-89c0-467c-b2c6-11ff6a2e97b6",
   "metadata": {},
   "outputs": [],
   "source": []
  },
  {
   "cell_type": "code",
   "execution_count": null,
   "id": "0cce2ab6-6b32-4965-ae5d-cbacac41a7c3",
   "metadata": {},
   "outputs": [],
   "source": []
  },
  {
   "cell_type": "code",
   "execution_count": 38,
   "id": "e02e0c71-1b83-4b79-b5be-87966c44be11",
   "metadata": {},
   "outputs": [
    {
     "name": "stdout",
     "output_type": "stream",
     "text": [
      "fcc_astarr_macs_input_overlap \n",
      "fcc_astarr_macs_input_union \n"
     ]
    }
   ],
   "source": [
    "#txt_fdiry = file.path(FD_RES, \"region_coverage_fcc\")\n",
    "#vec = dir(txt_fdiry)\n",
    "vec = c(\"fcc_astarr_macs_input_overlap\", \"fcc_astarr_macs_input_union\")\n",
    "names(vec) = vec\n",
    "\n",
    "VEC_TXT_REGION = vec\n",
    "for (txt in vec) {cat(txt, \"\\n\")}"
   ]
  },
  {
   "cell_type": "code",
   "execution_count": 39,
   "id": "eb5e3909-8364-4d93-aaa5-546efaea9f86",
   "metadata": {},
   "outputs": [
    {
     "name": "stdout",
     "output_type": "stream",
     "text": [
      "$fcc_astarr_macs_input_overlap\n",
      "[1] 2460    8\n",
      "\n",
      "$fcc_astarr_macs_input_union\n",
      "[1] 3776    8\n",
      "\n"
     ]
    },
    {
     "data": {
      "text/html": [
       "<table class=\"dataframe\">\n",
       "<caption>A tibble: 3 × 8</caption>\n",
       "<thead>\n",
       "\t<tr><th scope=col>Chrom</th><th scope=col>ChromStart</th><th scope=col>ChromEnd</th><th scope=col>Region</th><th scope=col>Assay</th><th scope=col>Score</th><th scope=col>RankNorm</th><th scope=col>Mean</th></tr>\n",
       "\t<tr><th scope=col>&lt;chr&gt;</th><th scope=col>&lt;dbl&gt;</th><th scope=col>&lt;dbl&gt;</th><th scope=col>&lt;chr&gt;</th><th scope=col>&lt;chr&gt;</th><th scope=col>&lt;dbl&gt;</th><th scope=col>&lt;dbl&gt;</th><th scope=col>&lt;dbl&gt;</th></tr>\n",
       "</thead>\n",
       "<tbody>\n",
       "\t<tr><td>chr11</td><td>4551522</td><td>4551988</td><td>chr11:4551522-4551988</td><td>ASTARR</td><td>0.5272279</td><td>0.7739837</td><td>0.5050813</td></tr>\n",
       "\t<tr><td>chr11</td><td>4554256</td><td>4554817</td><td>chr11:4554256-4554817</td><td>ASTARR</td><td>0.1118192</td><td>0.6211382</td><td>0.8304878</td></tr>\n",
       "\t<tr><td>chr11</td><td>4607720</td><td>4608631</td><td>chr11:4607720-4608631</td><td>ASTARR</td><td>0.7417945</td><td>0.8292683</td><td>0.6918699</td></tr>\n",
       "</tbody>\n",
       "</table>\n"
      ],
      "text/latex": [
       "A tibble: 3 × 8\n",
       "\\begin{tabular}{llllllll}\n",
       " Chrom & ChromStart & ChromEnd & Region & Assay & Score & RankNorm & Mean\\\\\n",
       " <chr> & <dbl> & <dbl> & <chr> & <chr> & <dbl> & <dbl> & <dbl>\\\\\n",
       "\\hline\n",
       "\t chr11 & 4551522 & 4551988 & chr11:4551522-4551988 & ASTARR & 0.5272279 & 0.7739837 & 0.5050813\\\\\n",
       "\t chr11 & 4554256 & 4554817 & chr11:4554256-4554817 & ASTARR & 0.1118192 & 0.6211382 & 0.8304878\\\\\n",
       "\t chr11 & 4607720 & 4608631 & chr11:4607720-4608631 & ASTARR & 0.7417945 & 0.8292683 & 0.6918699\\\\\n",
       "\\end{tabular}\n"
      ],
      "text/markdown": [
       "\n",
       "A tibble: 3 × 8\n",
       "\n",
       "| Chrom &lt;chr&gt; | ChromStart &lt;dbl&gt; | ChromEnd &lt;dbl&gt; | Region &lt;chr&gt; | Assay &lt;chr&gt; | Score &lt;dbl&gt; | RankNorm &lt;dbl&gt; | Mean &lt;dbl&gt; |\n",
       "|---|---|---|---|---|---|---|---|\n",
       "| chr11 | 4551522 | 4551988 | chr11:4551522-4551988 | ASTARR | 0.5272279 | 0.7739837 | 0.5050813 |\n",
       "| chr11 | 4554256 | 4554817 | chr11:4554256-4554817 | ASTARR | 0.1118192 | 0.6211382 | 0.8304878 |\n",
       "| chr11 | 4607720 | 4608631 | chr11:4607720-4608631 | ASTARR | 0.7417945 | 0.8292683 | 0.6918699 |\n",
       "\n"
      ],
      "text/plain": [
       "  Chrom ChromStart ChromEnd Region                Assay  Score     RankNorm \n",
       "1 chr11 4551522    4551988  chr11:4551522-4551988 ASTARR 0.5272279 0.7739837\n",
       "2 chr11 4554256    4554817  chr11:4554256-4554817 ASTARR 0.1118192 0.6211382\n",
       "3 chr11 4607720    4608631  chr11:4607720-4608631 ASTARR 0.7417945 0.8292683\n",
       "  Mean     \n",
       "1 0.5050813\n",
       "2 0.8304878\n",
       "3 0.6918699"
      ]
     },
     "metadata": {},
     "output_type": "display_data"
    }
   ],
   "source": [
    "lst = lapply(VEC_TXT_REGION, function(txt_region){\n",
    "    ### set file directory\n",
    "    txt_fdiry  = file.path(\n",
    "        FD_RES, \n",
    "        \"region_coverage_fcc\", \n",
    "        txt_region, \n",
    "        \"summary\"\n",
    "    )\n",
    "    txt_fname = \"result.coverage.ranknorm.starrmpra.total.tsv\"\n",
    "    txt_fpath = file.path(txt_fdiry, txt_fname)\n",
    "\n",
    "    ### read table\n",
    "    dat = read_tsv(txt_fpath, show_col_types = FALSE)\n",
    "    return(dat)\n",
    "})\n",
    "\n",
    "### assign and show\n",
    "lst_dat_region_score_import = lst\n",
    "\n",
    "res = lapply(lst, dim)\n",
    "print(res)\n",
    "\n",
    "dat = lst[[1]]\n",
    "head(dat, 3)"
   ]
  },
  {
   "cell_type": "code",
   "execution_count": 40,
   "id": "1b0d1b62-39f5-4b8a-b177-1fe20edeb932",
   "metadata": {},
   "outputs": [
    {
     "name": "stdout",
     "output_type": "stream",
     "text": [
      "[1] 3776    8\n"
     ]
    },
    {
     "data": {
      "text/html": [
       "<table class=\"dataframe\">\n",
       "<caption>A tibble: 3 × 8</caption>\n",
       "<thead>\n",
       "\t<tr><th scope=col>Chrom</th><th scope=col>ChromStart</th><th scope=col>ChromEnd</th><th scope=col>Region</th><th scope=col>Assay</th><th scope=col>Score</th><th scope=col>RankNorm</th><th scope=col>Mean</th></tr>\n",
       "\t<tr><th scope=col>&lt;chr&gt;</th><th scope=col>&lt;dbl&gt;</th><th scope=col>&lt;dbl&gt;</th><th scope=col>&lt;chr&gt;</th><th scope=col>&lt;chr&gt;</th><th scope=col>&lt;dbl&gt;</th><th scope=col>&lt;dbl&gt;</th><th scope=col>&lt;dbl&gt;</th></tr>\n",
       "</thead>\n",
       "<tbody>\n",
       "\t<tr><td>chr11</td><td>4539569</td><td>4540043</td><td>chr11:4539569-4540043</td><td>ASTARR</td><td>0.3923719</td><td>0.7288136</td><td>0.3961864</td></tr>\n",
       "\t<tr><td>chr11</td><td>4551336</td><td>4552012</td><td>chr11:4551336-4552012</td><td>ASTARR</td><td>0.7410411</td><td>0.8336864</td><td>0.5770657</td></tr>\n",
       "\t<tr><td>chr11</td><td>4553969</td><td>4555012</td><td>chr11:4553969-4555012</td><td>ASTARR</td><td>0.4063894</td><td>0.7394068</td><td>0.8138242</td></tr>\n",
       "</tbody>\n",
       "</table>\n"
      ],
      "text/latex": [
       "A tibble: 3 × 8\n",
       "\\begin{tabular}{llllllll}\n",
       " Chrom & ChromStart & ChromEnd & Region & Assay & Score & RankNorm & Mean\\\\\n",
       " <chr> & <dbl> & <dbl> & <chr> & <chr> & <dbl> & <dbl> & <dbl>\\\\\n",
       "\\hline\n",
       "\t chr11 & 4539569 & 4540043 & chr11:4539569-4540043 & ASTARR & 0.3923719 & 0.7288136 & 0.3961864\\\\\n",
       "\t chr11 & 4551336 & 4552012 & chr11:4551336-4552012 & ASTARR & 0.7410411 & 0.8336864 & 0.5770657\\\\\n",
       "\t chr11 & 4553969 & 4555012 & chr11:4553969-4555012 & ASTARR & 0.4063894 & 0.7394068 & 0.8138242\\\\\n",
       "\\end{tabular}\n"
      ],
      "text/markdown": [
       "\n",
       "A tibble: 3 × 8\n",
       "\n",
       "| Chrom &lt;chr&gt; | ChromStart &lt;dbl&gt; | ChromEnd &lt;dbl&gt; | Region &lt;chr&gt; | Assay &lt;chr&gt; | Score &lt;dbl&gt; | RankNorm &lt;dbl&gt; | Mean &lt;dbl&gt; |\n",
       "|---|---|---|---|---|---|---|---|\n",
       "| chr11 | 4539569 | 4540043 | chr11:4539569-4540043 | ASTARR | 0.3923719 | 0.7288136 | 0.3961864 |\n",
       "| chr11 | 4551336 | 4552012 | chr11:4551336-4552012 | ASTARR | 0.7410411 | 0.8336864 | 0.5770657 |\n",
       "| chr11 | 4553969 | 4555012 | chr11:4553969-4555012 | ASTARR | 0.4063894 | 0.7394068 | 0.8138242 |\n",
       "\n"
      ],
      "text/plain": [
       "  Chrom ChromStart ChromEnd Region                Assay  Score     RankNorm \n",
       "1 chr11 4539569    4540043  chr11:4539569-4540043 ASTARR 0.3923719 0.7288136\n",
       "2 chr11 4551336    4552012  chr11:4551336-4552012 ASTARR 0.7410411 0.8336864\n",
       "3 chr11 4553969    4555012  chr11:4553969-4555012 ASTARR 0.4063894 0.7394068\n",
       "  Mean     \n",
       "1 0.3961864\n",
       "2 0.5770657\n",
       "3 0.8138242"
      ]
     },
     "metadata": {},
     "output_type": "display_data"
    }
   ],
   "source": [
    "lst = lst_dat_region_score_import\n",
    "idx = \"fcc_astarr_macs_input_union\"\n",
    "dat = lst[[idx]]\n",
    "\n",
    "dat_region_ranknorm_new = dat\n",
    "print(dim(dat))\n",
    "head(dat, 3)"
   ]
  },
  {
   "cell_type": "code",
   "execution_count": null,
   "id": "53c11483-7af6-42fe-b574-5a4f3b90d2bc",
   "metadata": {},
   "outputs": [],
   "source": []
  },
  {
   "cell_type": "code",
   "execution_count": null,
   "id": "48b0cec1-ec27-425d-a7ad-3a79c2cc0845",
   "metadata": {},
   "outputs": [],
   "source": []
  },
  {
   "cell_type": "code",
   "execution_count": null,
   "id": "6068a5a7-4745-499c-bd35-2ad6aa49d2c5",
   "metadata": {},
   "outputs": [],
   "source": []
  },
  {
   "cell_type": "code",
   "execution_count": 41,
   "id": "4359bf69-c7df-47c1-a6c6-caceb63cf7f4",
   "metadata": {},
   "outputs": [
    {
     "name": "stdout",
     "output_type": "stream",
     "text": [
      "[1] 1241    1\n"
     ]
    },
    {
     "data": {
      "text/html": [
       "<table>\n",
       " <thead>\n",
       "  <tr>\n",
       "   <th style=\"text-align:left;\"> Region </th>\n",
       "  </tr>\n",
       " </thead>\n",
       "<tbody>\n",
       "  <tr>\n",
       "   <td style=\"text-align:left;\"> chr11:32870601-32871324 </td>\n",
       "  </tr>\n",
       "  <tr>\n",
       "   <td style=\"text-align:left;\"> chr11:32874343-32875070 </td>\n",
       "  </tr>\n",
       "  <tr>\n",
       "   <td style=\"text-align:left;\"> chr11:32884749-32885822 </td>\n",
       "  </tr>\n",
       "  <tr>\n",
       "   <td style=\"text-align:left;\"> chr11:32901572-32902485 </td>\n",
       "  </tr>\n",
       "  <tr>\n",
       "   <td style=\"text-align:left;\"> chr11:32903491-32904506 </td>\n",
       "  </tr>\n",
       "  <tr>\n",
       "   <td style=\"text-align:left;\"> chr11:32910855-32912010 </td>\n",
       "  </tr>\n",
       "</tbody>\n",
       "</table>"
      ]
     },
     "metadata": {},
     "output_type": "display_data"
    }
   ],
   "source": [
    "dat = dat_region_ranknorm_pre\n",
    "dat = dat %>% \n",
    "    #dplyr::select(Chrom, ChromStart, ChromEnd, Region) %>% \n",
    "    dplyr::select(Region) %>% \n",
    "    dplyr::distinct()\n",
    "\n",
    "###\n",
    "dat_region = dat\n",
    "print(dim(dat))\n",
    "fun_display_table(head(dat))"
   ]
  },
  {
   "cell_type": "code",
   "execution_count": 42,
   "id": "0541d455-6a3c-4944-bfe1-7864aaf9cac7",
   "metadata": {},
   "outputs": [
    {
     "name": "stdout",
     "output_type": "stream",
     "text": [
      "[1] 1241\n"
     ]
    }
   ],
   "source": [
    "#dat = dat_region_score_starrmpra_import\n",
    "dat = dat_region_ranknorm\n",
    "\n",
    "dat = dat %>% \n",
    "    dplyr::select(Region, Mean) %>% \n",
    "    dplyr::distinct() %>%\n",
    "    dplyr::arrange(Mean)\n",
    "vec = dat$Region\n",
    "\n",
    "### assign and show\n",
    "VEC_TXT_REGION = vec\n",
    "print(length(vec))"
   ]
  },
  {
   "cell_type": "code",
   "execution_count": 43,
   "id": "617a31aa-596a-42dc-9e86-a2e49658d13e",
   "metadata": {},
   "outputs": [],
   "source": [
    "dat_region_score_chcrff_import = dat_region_score_summary_merge"
   ]
  },
  {
   "cell_type": "code",
   "execution_count": 44,
   "id": "3d87103d-b251-4fd0-8a10-7457cf7530ec",
   "metadata": {},
   "outputs": [
    {
     "name": "stdout",
     "output_type": "stream",
     "text": [
      "[1] 2482    3\n"
     ]
    },
    {
     "data": {
      "text/html": [
       "<table>\n",
       " <thead>\n",
       "  <tr>\n",
       "   <th style=\"text-align:left;\"> Region </th>\n",
       "   <th style=\"text-align:left;\"> Group </th>\n",
       "   <th style=\"text-align:right;\"> Score </th>\n",
       "  </tr>\n",
       " </thead>\n",
       "<tbody>\n",
       "  <tr>\n",
       "   <td style=\"text-align:left;\"> chr11:33065336-33066228 </td>\n",
       "   <td style=\"text-align:left;\"> Mean_Pos </td>\n",
       "   <td style=\"text-align:right;\"> 0.0367548 </td>\n",
       "  </tr>\n",
       "  <tr>\n",
       "   <td style=\"text-align:left;\"> chr11:33068519-33069100 </td>\n",
       "   <td style=\"text-align:left;\"> Mean_Pos </td>\n",
       "   <td style=\"text-align:right;\"> 0.0000000 </td>\n",
       "  </tr>\n",
       "  <tr>\n",
       "   <td style=\"text-align:left;\"> chr11:33103533-33104120 </td>\n",
       "   <td style=\"text-align:left;\"> Mean_Pos </td>\n",
       "   <td style=\"text-align:right;\"> 1.4420960 </td>\n",
       "  </tr>\n",
       "</tbody>\n",
       "</table>"
      ]
     },
     "metadata": {},
     "output_type": "display_data"
    }
   ],
   "source": [
    "dat = dat_region_score_chcrff_import\n",
    "dat = dat %>% dplyr::filter(Count >= 3)\n",
    "\n",
    "dat = dat %>% \n",
    "    dplyr::select(Region, Mean_Pos, Mean_Neg) %>%\n",
    "    dplyr::right_join(dat_region, by = \"Region\")\n",
    "\n",
    "dat = dat %>% \n",
    "    tidyr::gather(Group, Score, -Region) %>%\n",
    "    dplyr::select(Region, Group, Score) %>%\n",
    "    dplyr::mutate(Region = factor(Region, levels=VEC_TXT_REGION)) %>%\n",
    "    replace(is.na(.), 0)\n",
    "\n",
    "dat_region_score_chcrff_arrange = dat\n",
    "print(dim(dat))\n",
    "fun_display_table(head(dat, 3))"
   ]
  },
  {
   "cell_type": "code",
   "execution_count": 45,
   "id": "83de3e73-8d6d-4bf9-9f23-c44b72654710",
   "metadata": {},
   "outputs": [
    {
     "data": {
      "image/png": "[encoded data removed]",
      "text/plain": [
       "plot without title"
      ]
     },
     "metadata": {
      "image/png": {
       "height": 180,
       "width": 900
      }
     },
     "output_type": "display_data"
    }
   ],
   "source": [
    "theme_fill = scale_fill_manual(\n",
    "    values = c(\n",
    "        \"Mean_Pos\"=\"#e31a1c\", \n",
    "        \"Mean_Neg\"=\"#1f78b4\")\n",
    ")\n",
    "\n",
    "theme_text = theme(\n",
    "    axis.ticks.x = element_blank(),\n",
    "    axis.text.x  = element_blank(),\n",
    "    axis.text.y  = element_text(size = 15),\n",
    "    axis.title.x = element_blank(),\n",
    "    axis.title.y = element_blank(),\n",
    "    plot.title = element_text(face = \"plain\", size = 17)\n",
    "    #axis.title.y = element_text(size = 15)\n",
    ")\n",
    "\n",
    "theme_legend = theme(legend.position = \"none\")\n",
    "\n",
    "dat = dat_region_score_chcrff_arrange\n",
    "\n",
    "gpt = ggplot(dat, aes(x=Region, y=Score, fill=Group)) + \n",
    "    geom_col(width=2, position=\"identity\") + \n",
    "    labs(title = \"CRISPRi-HCRFF\") +\n",
    "    theme_cowplot() + \n",
    "    theme_text +\n",
    "    theme_fill +\n",
    "    theme_legend\n",
    "\n",
    "gpt_score_crispri_hcrff = gpt\n",
    "\n",
    "options(repr.plot.height=3, repr.plot.width=15)\n",
    "print(gpt)"
   ]
  },
  {
   "cell_type": "code",
   "execution_count": null,
   "id": "aed05c56-9bec-47ad-811e-f040c6144069",
   "metadata": {},
   "outputs": [],
   "source": []
  },
  {
   "cell_type": "code",
   "execution_count": null,
   "id": "abce835e-ea7c-4be2-bbc8-27ca780b5eb0",
   "metadata": {},
   "outputs": [],
   "source": []
  },
  {
   "cell_type": "code",
   "execution_count": null,
   "id": "fa7506aa-8aa0-4d31-af3f-dfa74d17ec69",
   "metadata": {},
   "outputs": [],
   "source": []
  },
  {
   "cell_type": "code",
   "execution_count": null,
   "id": "a86b3dfb-352a-4a8e-aa73-b2174693537c",
   "metadata": {},
   "outputs": [],
   "source": []
  },
  {
   "cell_type": "code",
   "execution_count": 46,
   "id": "d7b4da0d-94ec-4d4d-b3da-a34169661a70",
   "metadata": {},
   "outputs": [
    {
     "name": "stdout",
     "output_type": "stream",
     "text": [
      "[1] 944   1\n"
     ]
    },
    {
     "data": {
      "text/html": [
       "<table>\n",
       " <thead>\n",
       "  <tr>\n",
       "   <th style=\"text-align:left;\"> Region </th>\n",
       "  </tr>\n",
       " </thead>\n",
       "<tbody>\n",
       "  <tr>\n",
       "   <td style=\"text-align:left;\"> chr11:4539569-4540043 </td>\n",
       "  </tr>\n",
       "  <tr>\n",
       "   <td style=\"text-align:left;\"> chr11:4551336-4552012 </td>\n",
       "  </tr>\n",
       "  <tr>\n",
       "   <td style=\"text-align:left;\"> chr11:4553969-4555012 </td>\n",
       "  </tr>\n",
       "  <tr>\n",
       "   <td style=\"text-align:left;\"> chr11:4569016-4569992 </td>\n",
       "  </tr>\n",
       "  <tr>\n",
       "   <td style=\"text-align:left;\"> chr11:4601808-4602487 </td>\n",
       "  </tr>\n",
       "  <tr>\n",
       "   <td style=\"text-align:left;\"> chr11:4607676-4608647 </td>\n",
       "  </tr>\n",
       "</tbody>\n",
       "</table>"
      ]
     },
     "metadata": {},
     "output_type": "display_data"
    }
   ],
   "source": [
    "dat = dat_region_ranknorm_new\n",
    "dat = dat %>% \n",
    "    #dplyr::select(Chrom, ChromStart, ChromEnd, Region) %>% \n",
    "    dplyr::select(Region) %>% \n",
    "    dplyr::distinct()\n",
    "\n",
    "###\n",
    "dat_region = dat\n",
    "print(dim(dat))\n",
    "fun_display_table(head(dat))"
   ]
  },
  {
   "cell_type": "code",
   "execution_count": 49,
   "id": "7211ade2-242b-4e15-b3e6-ed674b367d87",
   "metadata": {},
   "outputs": [
    {
     "name": "stdout",
     "output_type": "stream",
     "text": [
      "[1] 944\n"
     ]
    }
   ],
   "source": [
    "#dat = dat_region_score_starrmpra_import\n",
    "dat = dat_region_ranknorm_new\n",
    "\n",
    "dat = dat %>% \n",
    "    dplyr::select(Region, Mean) %>% \n",
    "    dplyr::distinct() %>%\n",
    "    dplyr::arrange(Mean)\n",
    "vec = dat$Region\n",
    "\n",
    "### assign and show\n",
    "VEC_TXT_REGION = vec\n",
    "print(length(vec))"
   ]
  },
  {
   "cell_type": "code",
   "execution_count": 50,
   "id": "1e1e06f7-a6f1-4fc4-88a1-4334f551346e",
   "metadata": {},
   "outputs": [],
   "source": [
    "dat_region_score_chcrff_import = dat_region_score_summary_merge"
   ]
  },
  {
   "cell_type": "code",
   "execution_count": 51,
   "id": "cd9a73c6-5c2f-40e2-a7a7-4df9da55668c",
   "metadata": {},
   "outputs": [
    {
     "name": "stdout",
     "output_type": "stream",
     "text": [
      "[1] 1888    3\n"
     ]
    },
    {
     "data": {
      "text/html": [
       "<table>\n",
       " <thead>\n",
       "  <tr>\n",
       "   <th style=\"text-align:left;\"> Region </th>\n",
       "   <th style=\"text-align:left;\"> Group </th>\n",
       "   <th style=\"text-align:right;\"> Score </th>\n",
       "  </tr>\n",
       " </thead>\n",
       "<tbody>\n",
       "  <tr>\n",
       "   <td style=\"text-align:left;\"> chr11:33065336-33066228 </td>\n",
       "   <td style=\"text-align:left;\"> Mean_Pos </td>\n",
       "   <td style=\"text-align:right;\"> 0.0367548 </td>\n",
       "  </tr>\n",
       "  <tr>\n",
       "   <td style=\"text-align:left;\"> chr11:33068519-33069100 </td>\n",
       "   <td style=\"text-align:left;\"> Mean_Pos </td>\n",
       "   <td style=\"text-align:right;\"> 0.0000000 </td>\n",
       "  </tr>\n",
       "  <tr>\n",
       "   <td style=\"text-align:left;\"> chr11:33103533-33104120 </td>\n",
       "   <td style=\"text-align:left;\"> Mean_Pos </td>\n",
       "   <td style=\"text-align:right;\"> 1.4420960 </td>\n",
       "  </tr>\n",
       "</tbody>\n",
       "</table>"
      ]
     },
     "metadata": {},
     "output_type": "display_data"
    }
   ],
   "source": [
    "dat = dat_region_score_chcrff_import\n",
    "dat = dat %>% dplyr::filter(Count >= 3)\n",
    "\n",
    "dat = dat %>% \n",
    "    dplyr::select(Region, Mean_Pos, Mean_Neg) %>%\n",
    "    dplyr::right_join(dat_region, by = \"Region\")\n",
    "\n",
    "dat = dat %>% \n",
    "    tidyr::gather(Group, Score, -Region) %>%\n",
    "    dplyr::select(Region, Group, Score) %>%\n",
    "    dplyr::mutate(Region = factor(Region, levels=VEC_TXT_REGION)) %>%\n",
    "    replace(is.na(.), 0)\n",
    "\n",
    "dat_region_score_chcrff_arrange = dat\n",
    "print(dim(dat))\n",
    "fun_display_table(head(dat, 3))"
   ]
  },
  {
   "cell_type": "code",
   "execution_count": 52,
   "id": "1e588257-163a-4390-940c-17724f37f4d6",
   "metadata": {},
   "outputs": [
    {
     "data": {
      "image/png": "[encoded data removed]",
      "text/plain": [
       "plot without title"
      ]
     },
     "metadata": {
      "image/png": {
       "height": 180,
       "width": 900
      }
     },
     "output_type": "display_data"
    }
   ],
   "source": [
    "theme_fill = scale_fill_manual(\n",
    "    values = c(\n",
    "        \"Mean_Pos\"=\"#e31a1c\", \n",
    "        \"Mean_Neg\"=\"#1f78b4\")\n",
    ")\n",
    "\n",
    "theme_text = theme(\n",
    "    axis.ticks.x = element_blank(),\n",
    "    axis.text.x  = element_blank(),\n",
    "    axis.text.y  = element_text(size = 15),\n",
    "    axis.title.x = element_blank(),\n",
    "    axis.title.y = element_blank(),\n",
    "    plot.title = element_text(face = \"plain\", size = 17)\n",
    "    #axis.title.y = element_text(size = 15)\n",
    ")\n",
    "\n",
    "theme_legend = theme(legend.position = \"none\")\n",
    "\n",
    "dat = dat_region_score_chcrff_arrange\n",
    "\n",
    "gpt = ggplot(dat, aes(x=Region, y=Score, fill=Group)) + \n",
    "    geom_col(width=2, position=\"identity\") + \n",
    "    labs(title = \"CRISPRi-HCRFF\") +\n",
    "    theme_cowplot() + \n",
    "    theme_text +\n",
    "    theme_fill +\n",
    "    theme_legend\n",
    "\n",
    "gpt_score_crispri_hcrff = gpt\n",
    "\n",
    "options(repr.plot.height=3, repr.plot.width=15)\n",
    "print(gpt)"
   ]
  },
  {
   "cell_type": "code",
   "execution_count": null,
   "id": "ec645079-cd86-49d9-8171-d359496df1bc",
   "metadata": {},
   "outputs": [],
   "source": []
  },
  {
   "cell_type": "code",
   "execution_count": null,
   "id": "30c2ea56-c6db-4743-8a49-1a274f5c00a1",
   "metadata": {},
   "outputs": [],
   "source": []
  },
  {
   "cell_type": "code",
   "execution_count": null,
   "id": "09cb7db2-48c4-4b43-a8da-dc729caeddda",
   "metadata": {},
   "outputs": [],
   "source": [
    "\n",
    "\n",
    "for (txt_region in VEC_TXT_REGION){\n",
    "        \n",
    "    ### show progress:\n",
    "    cat(\"====================\\n\")\n",
    "    cat(\"Region Folder:\", txt_region, \"\\n\")\n",
    "    cat(\"Assay  Folder:\", txt_assay,  \"\\n\")\n",
    "    cat(\"Import Files:\\n\")\n",
    "    print(vec_txt_fname)\n",
    "    cat(\"\\n\")\n",
    "    flush.console()\n",
    "    \n",
    "    for (txt_fname_import in vec_txt_fname){\n",
    "        \n",
    "        ### set directory and import assay description\n",
    "        txt_fdiry = file.path(FD_RES, \"assay_fcc\", txt_assay, \"coverage\", \"summary\")\n",
    "        txt_fname = \"description.tsv\"\n",
    "        txt_fpath = file.path(txt_fdiry, txt_fname)\n",
    "        \n",
    "        dat_cname_assay = read_tsv(txt_fpath, show_col_types = FALSE)\n",
    "\n",
    "        ### set directory and import region description\n",
    "        txt_folder = lst_txt_folder[[txt_region]]\n",
    "        txt_fdiry  = file.path(FD_RES, \"region\", txt_folder, \"summary\")\n",
    "        txt_fname  = \"description.tsv\"\n",
    "        txt_fpath  = file.path(txt_fdiry, txt_fname)\n",
    "        \n",
    "        dat_cname_region = read_tsv(txt_fpath, show_col_types = FALSE)\n",
    "\n",
    "        ### set column names/types for overlap score\n",
    "        vec_txt_cname = c(\n",
    "            paste(dat_cname_region$Name, \"A\", sep = \"_\"), \n",
    "            paste(dat_cname_assay$Name,  \"B\", sep = \"_\"), \n",
    "            \"Overlap\"\n",
    "        )\n",
    "\n",
    "        ### set directory and import region-assay overlap\n",
    "        txt_folder = \"overlap_score\"\n",
    "        txt_fdiry  = file.path(FD_RES, \"region_coverage_fcc\", txt_region, txt_assay, txt_folder)\n",
    "        txt_fname  = txt_fname_import\n",
    "        txt_fpath  = file.path(txt_fdiry, txt_fname)\n",
    "\n",
    "        dat = read_tsv(txt_fpath, col_names = vec_txt_cname, show_col_types = FALSE)\n",
    "        return\n",
    "\n",
    "        "
   ]
  },
  {
   "cell_type": "code",
   "execution_count": null,
   "id": "4944ddfa-134c-4413-8a82-934f7de45070",
   "metadata": {},
   "outputs": [],
   "source": []
  },
  {
   "cell_type": "code",
   "execution_count": null,
   "id": "7e6772cd-a4a1-4c92-ba92-5f010df5e1a2",
   "metadata": {},
   "outputs": [],
   "source": []
  },
  {
   "cell_type": "code",
   "execution_count": null,
   "id": "df20094d-138d-440a-a4fc-9f331165cb81",
   "metadata": {},
   "outputs": [],
   "source": []
  },
  {
   "cell_type": "code",
   "execution_count": null,
   "id": "d5610488-18b6-4e3c-8fd2-4bb4f51c8dc6",
   "metadata": {},
   "outputs": [],
   "source": []
  },
  {
   "cell_type": "markdown",
   "id": "c59cca6d-9425-4ff0-b8a3-3264a2166c31",
   "metadata": {},
   "source": [
    "## Import region data"
   ]
  },
  {
   "cell_type": "markdown",
   "id": "623c6742-08df-474b-a22b-a9aa23db5c7f",
   "metadata": {},
   "source": [
    "**Read region metadata table**"
   ]
  },
  {
   "cell_type": "code",
   "execution_count": 6,
   "id": "7062d478-ab2c-4c61-94fe-124b4252d974",
   "metadata": {},
   "outputs": [
    {
     "data": {
      "text/html": [
       "<table>\n",
       " <thead>\n",
       "  <tr>\n",
       "   <th style=\"text-align:left;\"> Folder </th>\n",
       "   <th style=\"text-align:left;\"> FName </th>\n",
       "   <th style=\"text-align:left;\"> Label </th>\n",
       "   <th style=\"text-align:left;\"> FPath </th>\n",
       "  </tr>\n",
       " </thead>\n",
       "<tbody>\n",
       "  <tr>\n",
       "   <td style=\"text-align:left;\"> region_for_analysis </td>\n",
       "   <td style=\"text-align:left;\"> K562.hg38.ASTARR.macs.KS91.input.rep_all.max_overlaps.q5.bed.gz </td>\n",
       "   <td style=\"text-align:left;\"> fcc_astarr_macs_input_overlap </td>\n",
       "   <td style=\"text-align:left;\"> /data/reddylab/Kuei/repo/Proj_ENCODE_FCC/results/region/region_for_analysis/K562.hg38.ASTARR.macs.KS91.input.rep_all.max_overlaps.q5.bed.gz </td>\n",
       "  </tr>\n",
       "  <tr>\n",
       "   <td style=\"text-align:left;\"> region_for_analysis </td>\n",
       "   <td style=\"text-align:left;\"> K562.hg38.ASTARR.macs.KS91.input.rep_all.union.q5.bed.gz </td>\n",
       "   <td style=\"text-align:left;\"> fcc_astarr_macs_input_union </td>\n",
       "   <td style=\"text-align:left;\"> /data/reddylab/Kuei/repo/Proj_ENCODE_FCC/results/region/region_for_analysis/K562.hg38.ASTARR.macs.KS91.input.rep_all.union.q5.bed.gz </td>\n",
       "  </tr>\n",
       "  <tr>\n",
       "   <td style=\"text-align:left;\"> region_for_analysis </td>\n",
       "   <td style=\"text-align:left;\"> K562.hg38.ENCSR000EKS.ENCFF274YGF.DNase.bed.gz </td>\n",
       "   <td style=\"text-align:left;\"> dnase_ENCFF274YGF </td>\n",
       "   <td style=\"text-align:left;\"> /data/reddylab/Kuei/repo/Proj_ENCODE_FCC/results/region/region_for_analysis/K562.hg38.ENCSR000EKS.ENCFF274YGF.DNase.bed.gz </td>\n",
       "  </tr>\n",
       "  <tr>\n",
       "   <td style=\"text-align:left;\"> region_for_analysis </td>\n",
       "   <td style=\"text-align:left;\"> K562.hg38.ENCSR000EOT.ENCFF185XRG.DNase.bed.gz </td>\n",
       "   <td style=\"text-align:left;\"> dnase_ENCFF185XRG </td>\n",
       "   <td style=\"text-align:left;\"> /data/reddylab/Kuei/repo/Proj_ENCODE_FCC/results/region/region_for_analysis/K562.hg38.ENCSR000EOT.ENCFF185XRG.DNase.bed.gz </td>\n",
       "  </tr>\n",
       "  <tr>\n",
       "   <td style=\"text-align:left;\"> region_for_analysis </td>\n",
       "   <td style=\"text-align:left;\"> K562.hg38.ENCSR483RKN.ENCFF558BLC.ATAC.bed.gz </td>\n",
       "   <td style=\"text-align:left;\"> atac_ENCFF558BLC </td>\n",
       "   <td style=\"text-align:left;\"> /data/reddylab/Kuei/repo/Proj_ENCODE_FCC/results/region/region_for_analysis/K562.hg38.ENCSR483RKN.ENCFF558BLC.ATAC.bed.gz </td>\n",
       "  </tr>\n",
       "  <tr>\n",
       "   <td style=\"text-align:left;\"> region_for_analysis </td>\n",
       "   <td style=\"text-align:left;\"> K562.hg38.ENCSR483RKN.ENCFF925CYR.ATAC.bed.gz </td>\n",
       "   <td style=\"text-align:left;\"> atac_ENCFF925CYR </td>\n",
       "   <td style=\"text-align:left;\"> /data/reddylab/Kuei/repo/Proj_ENCODE_FCC/results/region/region_for_analysis/K562.hg38.ENCSR483RKN.ENCFF925CYR.ATAC.bed.gz </td>\n",
       "  </tr>\n",
       "  <tr>\n",
       "   <td style=\"text-align:left;\"> region_for_analysis </td>\n",
       "   <td style=\"text-align:left;\"> K562.hg38.ENCSR868FGK.ENCFF333TAT.ATAC.bed.gz </td>\n",
       "   <td style=\"text-align:left;\"> atac_ENCFF333TAT </td>\n",
       "   <td style=\"text-align:left;\"> /data/reddylab/Kuei/repo/Proj_ENCODE_FCC/results/region/region_for_analysis/K562.hg38.ENCSR868FGK.ENCFF333TAT.ATAC.bed.gz </td>\n",
       "  </tr>\n",
       "  <tr>\n",
       "   <td style=\"text-align:left;\"> region_for_analysis </td>\n",
       "   <td style=\"text-align:left;\"> K562.hg38.ENCSR868FGK.ENCFF948AFM.ATAC.bed.gz </td>\n",
       "   <td style=\"text-align:left;\"> atac_ENCFF948AFM </td>\n",
       "   <td style=\"text-align:left;\"> /data/reddylab/Kuei/repo/Proj_ENCODE_FCC/results/region/region_for_analysis/K562.hg38.ENCSR868FGK.ENCFF948AFM.ATAC.bed.gz </td>\n",
       "  </tr>\n",
       "</tbody>\n",
       "</table>"
      ]
     },
     "metadata": {},
     "output_type": "display_data"
    }
   ],
   "source": [
    "### set directory\n",
    "txt_fdiry = file.path(FD_RES, \"region\", \"summary\")\n",
    "txt_fname = \"metadata.label.region_for_analysis.tsv\"\n",
    "txt_fpath = file.path(txt_fdiry, txt_fname)\n",
    "\n",
    "### read table\n",
    "dat = read_tsv(txt_fpath, show_col_types = FALSE)\n",
    "\n",
    "### assign and show\n",
    "dat_meta_region = dat\n",
    "fun_display_table(dat)"
   ]
  },
  {
   "cell_type": "markdown",
   "id": "f5960a1d-1474-4f36-a11f-688f57143421",
   "metadata": {},
   "source": [
    "**Create region list for looping**"
   ]
  },
  {
   "cell_type": "code",
   "execution_count": 7,
   "id": "12d39fe1-ffc9-43a3-9a05-4f219957ba38",
   "metadata": {},
   "outputs": [
    {
     "name": "stdout",
     "output_type": "stream",
     "text": [
      "$atac_ENCFF333TAT\n",
      "[1] \"region_for_analysis\"\n",
      "\n",
      "$atac_ENCFF558BLC\n",
      "[1] \"region_for_analysis\"\n",
      "\n",
      "$atac_ENCFF925CYR\n",
      "[1] \"region_for_analysis\"\n",
      "\n",
      "$atac_ENCFF948AFM\n",
      "[1] \"region_for_analysis\"\n",
      "\n",
      "$dnase_ENCFF185XRG\n",
      "[1] \"region_for_analysis\"\n",
      "\n",
      "$dnase_ENCFF274YGF\n",
      "[1] \"region_for_analysis\"\n",
      "\n",
      "$fcc_astarr_macs_input_overlap\n",
      "[1] \"region_for_analysis\"\n",
      "\n",
      "$fcc_astarr_macs_input_union\n",
      "[1] \"region_for_analysis\"\n",
      "\n"
     ]
    }
   ],
   "source": [
    "dat = dat_meta_region\n",
    "lst = split(dat$Folder, dat$Label)\n",
    "\n",
    "lst_txt_folder = lst\n",
    "print(lst)"
   ]
  },
  {
   "cell_type": "markdown",
   "id": "269fee68-96b3-4868-83bc-85cd7810c2a4",
   "metadata": {},
   "source": [
    "## Helper functions"
   ]
  },
  {
   "cell_type": "code",
   "execution_count": 8,
   "id": "f70f155c-5448-43e9-966e-28e3c33b335c",
   "metadata": {},
   "outputs": [],
   "source": [
    "fun_get_absmax = function(x){ x[which.max(abs(x))] }"
   ]
  },
  {
   "cell_type": "markdown",
   "id": "f998966f-008d-4269-a367-179448561366",
   "metadata": {},
   "source": [
    "## CRISPRi-HCRFF"
   ]
  },
  {
   "cell_type": "code",
   "execution_count": 9,
   "id": "5c3f5ba5-7954-4d00-8f86-5fd08ff5e7e8",
   "metadata": {},
   "outputs": [
    {
     "name": "stdout",
     "output_type": "stream",
     "text": [
      "====================\n",
      "Region Folder: fcc_astarr_macs_input_overlap \n",
      "Assay  Folder: CRISPRi_FlowFISH_K562_Riley_JinWoo \n",
      "Import Files:\n",
      "[1] \"CRISPRi_HCRFF_K562.hg38.ZScore.filtered.unstranded.bed.gz\"\n",
      "[2] \"CRISPRi_HCRFF_K562.hg38.ZScore.unstranded.bed.gz\"         \n",
      "\n",
      "Save File:\n",
      "[1] \"/data/reddylab/Kuei/repo/Proj_ENCODE_FCC/results/region_coverage_fcc/fcc_astarr_macs_input_overlap/CRISPRi_FlowFISH_K562_Riley_JinWoo/overlap_score/summary/result.coverage.score.filtered.tsv\"\n",
      "\n",
      "Save File:\n",
      "[1] \"/data/reddylab/Kuei/repo/Proj_ENCODE_FCC/results/region_coverage_fcc/fcc_astarr_macs_input_overlap/CRISPRi_FlowFISH_K562_Riley_JinWoo/overlap_score/summary/result.coverage.score.tsv\"\n",
      "\n",
      "====================\n",
      "Region Folder: fcc_astarr_macs_input_union \n",
      "Assay  Folder: CRISPRi_FlowFISH_K562_Riley_JinWoo \n",
      "Import Files:\n",
      "[1] \"CRISPRi_HCRFF_K562.hg38.ZScore.filtered.unstranded.bed.gz\"\n",
      "[2] \"CRISPRi_HCRFF_K562.hg38.ZScore.unstranded.bed.gz\"         \n",
      "\n",
      "Save File:\n",
      "[1] \"/data/reddylab/Kuei/repo/Proj_ENCODE_FCC/results/region_coverage_fcc/fcc_astarr_macs_input_union/CRISPRi_FlowFISH_K562_Riley_JinWoo/overlap_score/summary/result.coverage.score.filtered.tsv\"\n",
      "\n",
      "Save File:\n",
      "[1] \"/data/reddylab/Kuei/repo/Proj_ENCODE_FCC/results/region_coverage_fcc/fcc_astarr_macs_input_union/CRISPRi_FlowFISH_K562_Riley_JinWoo/overlap_score/summary/result.coverage.score.tsv\"\n",
      "\n"
     ]
    }
   ],
   "source": [
    "### init\n",
    "txt_assay  = \"CRISPRi_FlowFISH_K562_Riley_JinWoo\"\n",
    "vec_txt_fname    = c(\n",
    "    \"CRISPRi_HCRFF_K562.hg38.ZScore.filtered.unstranded.bed.gz\",\n",
    "    \"CRISPRi_HCRFF_K562.hg38.ZScore.unstranded.bed.gz\"\n",
    ")\n",
    "\n",
    "for (txt_region in VEC_TXT_REGION){\n",
    "        \n",
    "    ### show progress:\n",
    "    cat(\"====================\\n\")\n",
    "    cat(\"Region Folder:\", txt_region, \"\\n\")\n",
    "    cat(\"Assay  Folder:\", txt_assay,  \"\\n\")\n",
    "    cat(\"Import Files:\\n\")\n",
    "    print(vec_txt_fname)\n",
    "    cat(\"\\n\")\n",
    "    flush.console()\n",
    "    \n",
    "    for (txt_fname_import in vec_txt_fname){\n",
    "        \n",
    "        ### set directory and import assay description\n",
    "        txt_fdiry = file.path(FD_RES, \"assay_fcc\", txt_assay, \"coverage\", \"summary\")\n",
    "        txt_fname = \"description.tsv\"\n",
    "        txt_fpath = file.path(txt_fdiry, txt_fname)\n",
    "        \n",
    "        dat_cname_assay = read_tsv(txt_fpath, show_col_types = FALSE)\n",
    "\n",
    "        ### set directory and import region description\n",
    "        txt_folder = lst_txt_folder[[txt_region]]\n",
    "        txt_fdiry  = file.path(FD_RES, \"region\", txt_folder, \"summary\")\n",
    "        txt_fname  = \"description.tsv\"\n",
    "        txt_fpath  = file.path(txt_fdiry, txt_fname)\n",
    "        \n",
    "        dat_cname_region = read_tsv(txt_fpath, show_col_types = FALSE)\n",
    "\n",
    "        ### set column names/types for overlap score\n",
    "        vec_txt_cname = c(\n",
    "            paste(dat_cname_region$Name, \"A\", sep = \"_\"), \n",
    "            paste(dat_cname_assay$Name,  \"B\", sep = \"_\"), \n",
    "            \"Overlap\"\n",
    "        )\n",
    "\n",
    "        ### set directory and import region-assay overlap\n",
    "        txt_folder = \"overlap_score\"\n",
    "        txt_fdiry  = file.path(FD_RES, \"region_coverage_fcc\", txt_region, txt_assay, txt_folder)\n",
    "        txt_fname  = txt_fname_import\n",
    "        txt_fpath  = file.path(txt_fdiry, txt_fname)\n",
    "\n",
    "        dat_overlap_import = read_tsv(txt_fpath, col_names = vec_txt_cname, show_col_types = FALSE)\n",
    "        \n",
    "        ### arrange overlapped scores\n",
    "        dat = dat_overlap_import\n",
    "        dat = dat %>% \n",
    "            dplyr::mutate(\n",
    "                Chrom      = Chrom_A,\n",
    "                ChromStart = ChromStart_A,\n",
    "                ChromEnd   = ChromEnd_A,\n",
    "                Region     = fun_gen_region(Chrom_A, ChromStart_A, ChromEnd_A),\n",
    "                Score      = Score_B,\n",
    "                Target     = Target_B,\n",
    "                Sign       = ifelse(Score > 0, \"pos\", \"neg\")\n",
    "            )\n",
    "        dat_overlap_arrange = dat\n",
    "        \n",
    "        ### summarize scores for each region\n",
    "        dat = dat_overlap_arrange\n",
    "        dat = dat %>% \n",
    "            dplyr::group_by(Chrom, ChromStart, ChromEnd, Region) %>%\n",
    "            dplyr::summarise(\n",
    "                Mean    = mean(Score),\n",
    "                Median  = median(Score),\n",
    "                AbsMax  = fun_get_absmax(Score),\n",
    "                Max     = max(Score),\n",
    "                Min     = min(Score),\n",
    "                Count   = n(),\n",
    "                .groups = \"drop\"\n",
    "            )\n",
    "        dat_score_summary_total = dat\n",
    "\n",
    "        ### summarize scores for each region + sign\n",
    "        dat = dat_overlap_arrange\n",
    "        dat = dat %>%\n",
    "            dplyr::group_by(Region, Sign) %>%\n",
    "            dplyr::summarise(Mean = mean(Score), .groups = \"drop\") %>%\n",
    "            dplyr::mutate(Sign = dplyr::recode(Sign, `pos` = \"Mean_Pos\", `neg` = \"Mean_Neg\")) %>% \n",
    "            tidyr::spread(Sign, Mean) %>% \n",
    "            replace(is.na(.), 0)\n",
    "        dat_score_summary_sign = dat\n",
    "\n",
    "        ### summarize scores for each region + target\n",
    "        dat = dat_overlap_arrange\n",
    "        dat = dat %>%\n",
    "            dplyr::group_by(Region, Target) %>%\n",
    "            dplyr::summarise(Mean = mean(Score), .groups = \"drop\") %>%\n",
    "            dplyr::mutate(Target = paste(\"Target\", Target, sep = \"_\")) %>% \n",
    "            tidyr::spread(Target, Mean)\n",
    "        dat_score_summary_target = dat\n",
    "\n",
    "        ### combine score summaries\n",
    "        dat = dat_score_summary_total %>%\n",
    "            dplyr::left_join(\n",
    "                dat_score_summary_sign,\n",
    "                by = c(\"Region\")\n",
    "            ) %>%\n",
    "            dplyr::left_join(\n",
    "                dat_score_summary_target,\n",
    "                by = c(\"Region\")\n",
    "            )\n",
    "        dat_score_summary = dat\n",
    "        \n",
    "        ### set directory to save results\n",
    "        if (str_detect(txt_fname_import, \"filtered\")){\n",
    "            txt_fname = \"result.coverage.score.filtered.tsv\"\n",
    "        } else {\n",
    "            txt_fname = \"result.coverage.score.tsv\"\n",
    "        }\n",
    "        txt_folder = \"overlap_score\"\n",
    "        txt_fdiry  = file.path(FD_RES, \"region_coverage_fcc\", txt_region, txt_assay, txt_folder, \"summary\")\n",
    "        txt_fpath  = file.path(txt_fdiry, txt_fname)\n",
    "    \n",
    "        ### export region scores\n",
    "        txt_cmd = paste(\"mkdir -p\", txt_fdiry)\n",
    "        system(txt_cmd)\n",
    "        dat = dat_score_summary\n",
    "        dat = dat %>% dplyr::arrange(Chrom, ChromStart, ChromEnd)\n",
    "        write_tsv(dat, txt_fpath)\n",
    "        \n",
    "        ### show progress:\n",
    "        cat(\"Save File:\\n\")\n",
    "        print(txt_fpath)\n",
    "        cat(\"\\n\")\n",
    "        flush.console()\n",
    "    }\n",
    "}"
   ]
  }
 ],
 "metadata": {
  "kernelspec": {
   "display_name": "R",
   "language": "R",
   "name": "ir"
  },
  "language_info": {
   "codemirror_mode": "r",
   "file_extension": ".r",
   "mimetype": "text/x-r-source",
   "name": "R",
   "pygments_lexer": "r",
   "version": "4.4.2"
  }
 },
 "nbformat": 4,
 "nbformat_minor": 5
}
