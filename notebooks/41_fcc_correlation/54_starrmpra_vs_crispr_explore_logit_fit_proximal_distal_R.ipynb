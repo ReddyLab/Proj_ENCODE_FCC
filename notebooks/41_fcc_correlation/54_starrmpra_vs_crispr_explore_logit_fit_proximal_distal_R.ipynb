{
 "cells": [
  {
   "cell_type": "raw",
   "id": "491f6173-af36-4dd3-9ae0-bffe72b0a4ff",
   "metadata": {},
   "source": [
    "---\n",
    "title: CRISPR vs STARRMPRA 13\n",
    "subtitle: Explore Logit CRISPR and STARRMPRA (Odds Ratio; Proximal/Distal)\n",
    "format:\n",
    "    html:\n",
    "        code-fold:  true\n",
    "        code-tools: true\n",
    "---"
   ]
  },
  {
   "cell_type": "markdown",
   "id": "c4290bdc-0eaa-4d04-b643-8375b83b5171",
   "metadata": {},
   "source": [
    "**Set environment**"
   ]
  },
  {
   "cell_type": "code",
   "execution_count": 40,
   "id": "5a93e712-e1cf-4148-a6c3-1c7f1622abc5",
   "metadata": {},
   "outputs": [
    {
     "name": "stdout",
     "output_type": "stream",
     "text": [
      "You are working on        Singularity: singularity_proj_encode_fcc \n",
      "BASE DIRECTORY (FD_BASE): /data/reddylab/Kuei \n",
      "REPO DIRECTORY (FD_REPO): /data/reddylab/Kuei/repo \n",
      "WORK DIRECTORY (FD_WORK): /data/reddylab/Kuei/work \n",
      "DATA DIRECTORY (FD_DATA): /data/reddylab/Kuei/data \n",
      "\n",
      "You are working with      ENCODE FCC \n",
      "PATH OF PROJECT (FD_PRJ): /data/reddylab/Kuei/repo/Proj_ENCODE_FCC \n",
      "PROJECT RESULTS (FD_RES): /data/reddylab/Kuei/repo/Proj_ENCODE_FCC/results \n",
      "PROJECT SCRIPTS (FD_EXE): /data/reddylab/Kuei/repo/Proj_ENCODE_FCC/scripts \n",
      "PROJECT DATA    (FD_DAT): /data/reddylab/Kuei/repo/Proj_ENCODE_FCC/data \n",
      "PROJECT NOTE    (FD_NBK): /data/reddylab/Kuei/repo/Proj_ENCODE_FCC/notebooks \n",
      "PROJECT DOCS    (FD_DOC): /data/reddylab/Kuei/repo/Proj_ENCODE_FCC/docs \n",
      "PROJECT LOG     (FD_LOG): /data/reddylab/Kuei/repo/Proj_ENCODE_FCC/log \n",
      "PROJECT REF     (FD_REF): /data/reddylab/Kuei/repo/Proj_ENCODE_FCC/references \n",
      "\n"
     ]
    }
   ],
   "source": [
    "suppressMessages(suppressWarnings(source(\"../run_config_project_sing.R\")))\n",
    "show_env()"
   ]
  },
  {
   "cell_type": "markdown",
   "id": "f70e5492-b521-41a1-8778-8e7a58e37d5a",
   "metadata": {},
   "source": [
    "**Set global variable**"
   ]
  },
  {
   "cell_type": "code",
   "execution_count": 41,
   "id": "6633a16d-e24d-47d2-b88d-cccf3b4db77e",
   "metadata": {},
   "outputs": [
    {
     "name": "stdout",
     "output_type": "stream",
     "text": [
      "fcc_astarr_macs_input_overlap \n",
      "fcc_astarr_macs_input_union \n"
     ]
    }
   ],
   "source": [
    "## init: region folder\n",
    "vec = c(\"fcc_astarr_macs_input_overlap\", \"fcc_astarr_macs_input_union\")\n",
    "names(vec) = vec\n",
    "\n",
    "VEC_TXT_FOLDER = vec\n",
    "for (txt in vec) {cat(txt, \"\\n\")}"
   ]
  },
  {
   "cell_type": "code",
   "execution_count": 42,
   "id": "e91e6f65-5d46-4ffb-be54-75cbbc11abe3",
   "metadata": {},
   "outputs": [],
   "source": [
    "vec = c(\"CRISPR\", \"CRISPRi-HCRFF\", \"CRISPRi-Growth\", \"ENCODE-rE2G Benchmark\")\n",
    "names(vec) = vec\n",
    "VEC_TXT_ASSAY_OUT = vec\n",
    "\n",
    "vec = c(\"ASTARR\", \"WSTARR\", \"LMPRA\", \"TMPRA\", \"ATAC\")\n",
    "names(vec) = vec\n",
    "VEC_TXT_ASSAY_INP = vec"
   ]
  },
  {
   "cell_type": "markdown",
   "id": "7540c6e3-5a0a-4166-a767-e96da0f65503",
   "metadata": {},
   "source": [
    "**Check input files**"
   ]
  },
  {
   "cell_type": "code",
   "execution_count": 43,
   "id": "e9ae26b0-a976-4260-ba02-3262f6333797",
   "metadata": {},
   "outputs": [
    {
     "name": "stdout",
     "output_type": "stream",
     "text": [
      "/data/reddylab/Kuei/repo/Proj_ENCODE_FCC/results/analysis_fcc_correlation/fcc_astarr_macs_input_union/result.cripsr_vs_starrmpra.logit.stats.pool.distal.tsv \n",
      "/data/reddylab/Kuei/repo/Proj_ENCODE_FCC/results/analysis_fcc_correlation/fcc_astarr_macs_input_union/result.cripsr_vs_starrmpra.logit.stats.pool.proximal.tsv \n"
     ]
    }
   ],
   "source": [
    "txt_folder = \"fcc_astarr_macs_input_union\"\n",
    "txt_fdiry  = file.path(FD_RES, \"analysis_fcc_correlation\", txt_folder)\n",
    "txt_fname  = \"result.cripsr_vs_starrmpra.logit.stats.pool.*.tsv\"\n",
    "txt_fglob  = file.path(txt_fdiry, txt_fname)\n",
    "\n",
    "vec = Sys.glob(txt_fglob)\n",
    "for (txt in vec) {cat(txt, \"\\n\")}"
   ]
  },
  {
   "cell_type": "markdown",
   "id": "f2bd088a-5671-49f7-9342-1c229f8d7420",
   "metadata": {},
   "source": [
    "## Import data"
   ]
  },
  {
   "cell_type": "code",
   "execution_count": 44,
   "id": "797aab0a-1a4d-4698-bac5-e5af6ba99562",
   "metadata": {},
   "outputs": [
    {
     "name": "stdout",
     "output_type": "stream",
     "text": [
      "[1] 112  12\n"
     ]
    },
    {
     "data": {
      "text/html": [
       "<table>\n",
       " <thead>\n",
       "  <tr>\n",
       "   <th style=\"text-align:right;\"> CutOff_CRISPR </th>\n",
       "   <th style=\"text-align:left;\"> Assay_CRISPR </th>\n",
       "   <th style=\"text-align:left;\"> Assay_STARRMPRA </th>\n",
       "   <th style=\"text-align:right;\"> OR </th>\n",
       "   <th style=\"text-align:right;\"> OR_CI_Lower </th>\n",
       "   <th style=\"text-align:right;\"> OR_CI_Upper </th>\n",
       "   <th style=\"text-align:right;\"> Log10OR </th>\n",
       "   <th style=\"text-align:right;\"> Log10OR_CI_Lower </th>\n",
       "   <th style=\"text-align:right;\"> Log10OR_CI_Upper </th>\n",
       "   <th style=\"text-align:right;\"> Pvalue </th>\n",
       "   <th style=\"text-align:right;\"> Total </th>\n",
       "   <th style=\"text-align:right;\"> Count </th>\n",
       "  </tr>\n",
       " </thead>\n",
       "<tbody>\n",
       "  <tr>\n",
       "   <td style=\"text-align:right;\"> 0.01 </td>\n",
       "   <td style=\"text-align:left;\"> CRISPRi-HCRFF </td>\n",
       "   <td style=\"text-align:left;\"> ATAC </td>\n",
       "   <td style=\"text-align:right;\"> 1.669983 </td>\n",
       "   <td style=\"text-align:right;\"> 0.9914345 </td>\n",
       "   <td style=\"text-align:right;\"> 2.812938 </td>\n",
       "   <td style=\"text-align:right;\"> 0.2227121 </td>\n",
       "   <td style=\"text-align:right;\"> -0.0037360 </td>\n",
       "   <td style=\"text-align:right;\"> 0.4491602 </td>\n",
       "   <td style=\"text-align:right;\"> 0.0539014 </td>\n",
       "   <td style=\"text-align:right;\"> 705 </td>\n",
       "   <td style=\"text-align:right;\"> 169 </td>\n",
       "  </tr>\n",
       "  <tr>\n",
       "   <td style=\"text-align:right;\"> 0.01 </td>\n",
       "   <td style=\"text-align:left;\"> CRISPRi-HCRFF </td>\n",
       "   <td style=\"text-align:left;\"> STARRMPRA </td>\n",
       "   <td style=\"text-align:right;\"> 1.039863 </td>\n",
       "   <td style=\"text-align:right;\"> 0.6566306 </td>\n",
       "   <td style=\"text-align:right;\"> 1.646763 </td>\n",
       "   <td style=\"text-align:right;\"> 0.0169762 </td>\n",
       "   <td style=\"text-align:right;\"> -0.1826788 </td>\n",
       "   <td style=\"text-align:right;\"> 0.2166312 </td>\n",
       "   <td style=\"text-align:right;\"> 0.8676448 </td>\n",
       "   <td style=\"text-align:right;\"> 705 </td>\n",
       "   <td style=\"text-align:right;\"> 536 </td>\n",
       "  </tr>\n",
       "  <tr>\n",
       "   <td style=\"text-align:right;\"> 0.01 </td>\n",
       "   <td style=\"text-align:left;\"> CRISPRi-Growth </td>\n",
       "   <td style=\"text-align:left;\"> ATAC </td>\n",
       "   <td style=\"text-align:right;\"> 1.640094 </td>\n",
       "   <td style=\"text-align:right;\"> 1.5532066 </td>\n",
       "   <td style=\"text-align:right;\"> 1.731841 </td>\n",
       "   <td style=\"text-align:right;\"> 0.2148686 </td>\n",
       "   <td style=\"text-align:right;\"> 0.1912292 </td>\n",
       "   <td style=\"text-align:right;\"> 0.2385081 </td>\n",
       "   <td style=\"text-align:right;\"> 0.0000000 </td>\n",
       "   <td style=\"text-align:right;\"> 61978 </td>\n",
       "   <td style=\"text-align:right;\"> 17185 </td>\n",
       "  </tr>\n",
       "</tbody>\n",
       "</table>"
      ]
     },
     "metadata": {},
     "output_type": "display_data"
    }
   ],
   "source": [
    "### set directory\n",
    "txt_foldr = \"fcc_astarr_macs_input_union\"\n",
    "txt_fdiry = file.path(FD_RES, \"analysis_fcc_correlation\", txt_foldr)\n",
    "txt_fname = \"result.cripsr_vs_starrmpra.logit.stats.pool.proximal.tsv\"\n",
    "txt_fpath = file.path(txt_fdiry, txt_fname)\n",
    "\n",
    "### read table\n",
    "dat = read_tsv(txt_fpath, show_col_types = FALSE)\n",
    "\n",
    "### assign and show\n",
    "dat_logit_stats_pool_proximal = dat\n",
    "print(dim(dat))\n",
    "fun_display_table(head(dat, 3))"
   ]
  },
  {
   "cell_type": "code",
   "execution_count": 45,
   "id": "bc66afbd-95fc-4ad2-ab3c-fbb5999b5886",
   "metadata": {},
   "outputs": [
    {
     "name": "stdout",
     "output_type": "stream",
     "text": [
      "[1] 112  12\n"
     ]
    },
    {
     "data": {
      "text/html": [
       "<table>\n",
       " <thead>\n",
       "  <tr>\n",
       "   <th style=\"text-align:right;\"> CutOff_CRISPR </th>\n",
       "   <th style=\"text-align:left;\"> Assay_CRISPR </th>\n",
       "   <th style=\"text-align:left;\"> Assay_STARRMPRA </th>\n",
       "   <th style=\"text-align:right;\"> OR </th>\n",
       "   <th style=\"text-align:right;\"> OR_CI_Lower </th>\n",
       "   <th style=\"text-align:right;\"> OR_CI_Upper </th>\n",
       "   <th style=\"text-align:right;\"> Log10OR </th>\n",
       "   <th style=\"text-align:right;\"> Log10OR_CI_Lower </th>\n",
       "   <th style=\"text-align:right;\"> Log10OR_CI_Upper </th>\n",
       "   <th style=\"text-align:right;\"> Pvalue </th>\n",
       "   <th style=\"text-align:right;\"> Total </th>\n",
       "   <th style=\"text-align:right;\"> Count </th>\n",
       "  </tr>\n",
       " </thead>\n",
       "<tbody>\n",
       "  <tr>\n",
       "   <td style=\"text-align:right;\"> 0.01 </td>\n",
       "   <td style=\"text-align:left;\"> CRISPRi-HCRFF </td>\n",
       "   <td style=\"text-align:left;\"> ATAC </td>\n",
       "   <td style=\"text-align:right;\"> 3.441338 </td>\n",
       "   <td style=\"text-align:right;\"> 2.1316597 </td>\n",
       "   <td style=\"text-align:right;\"> 5.555674 </td>\n",
       "   <td style=\"text-align:right;\"> 0.5367273 </td>\n",
       "   <td style=\"text-align:right;\"> 0.3287179 </td>\n",
       "   <td style=\"text-align:right;\"> 0.7447368 </td>\n",
       "   <td style=\"text-align:right;\"> 0.0000004 </td>\n",
       "   <td style=\"text-align:right;\"> 4614 </td>\n",
       "   <td style=\"text-align:right;\"> 1161 </td>\n",
       "  </tr>\n",
       "  <tr>\n",
       "   <td style=\"text-align:right;\"> 0.01 </td>\n",
       "   <td style=\"text-align:left;\"> CRISPRi-HCRFF </td>\n",
       "   <td style=\"text-align:left;\"> STARRMPRA </td>\n",
       "   <td style=\"text-align:right;\"> 2.035535 </td>\n",
       "   <td style=\"text-align:right;\"> 1.6534844 </td>\n",
       "   <td style=\"text-align:right;\"> 2.505862 </td>\n",
       "   <td style=\"text-align:right;\"> 0.3086786 </td>\n",
       "   <td style=\"text-align:right;\"> 0.2184001 </td>\n",
       "   <td style=\"text-align:right;\"> 0.3989571 </td>\n",
       "   <td style=\"text-align:right;\"> 0.0000000 </td>\n",
       "   <td style=\"text-align:right;\"> 4614 </td>\n",
       "   <td style=\"text-align:right;\"> 3453 </td>\n",
       "  </tr>\n",
       "  <tr>\n",
       "   <td style=\"text-align:right;\"> 0.01 </td>\n",
       "   <td style=\"text-align:left;\"> CRISPRi-Growth </td>\n",
       "   <td style=\"text-align:left;\"> ATAC </td>\n",
       "   <td style=\"text-align:right;\"> 1.125918 </td>\n",
       "   <td style=\"text-align:right;\"> 0.9607965 </td>\n",
       "   <td style=\"text-align:right;\"> 1.319416 </td>\n",
       "   <td style=\"text-align:right;\"> 0.0515066 </td>\n",
       "   <td style=\"text-align:right;\"> -0.0173686 </td>\n",
       "   <td style=\"text-align:right;\"> 0.1203819 </td>\n",
       "   <td style=\"text-align:right;\"> 0.1427271 </td>\n",
       "   <td style=\"text-align:right;\"> 232791 </td>\n",
       "   <td style=\"text-align:right;\"> 63103 </td>\n",
       "  </tr>\n",
       "</tbody>\n",
       "</table>"
      ]
     },
     "metadata": {},
     "output_type": "display_data"
    }
   ],
   "source": [
    "### set directory\n",
    "txt_foldr = \"fcc_astarr_macs_input_union\"\n",
    "txt_fdiry = file.path(FD_RES, \"analysis_fcc_correlation\", txt_foldr)\n",
    "txt_fname = \"result.cripsr_vs_starrmpra.logit.stats.pool.distal.tsv\"\n",
    "txt_fpath = file.path(txt_fdiry, txt_fname)\n",
    "\n",
    "### read table\n",
    "dat = read_tsv(txt_fpath, show_col_types = FALSE)\n",
    "\n",
    "### assign and show\n",
    "dat_logit_stats_pool_distal = dat\n",
    "print(dim(dat))\n",
    "fun_display_table(head(dat, 3))"
   ]
  },
  {
   "cell_type": "markdown",
   "id": "e3fe6078-2ef7-4b5f-9960-0abf0d41ab4f",
   "metadata": {},
   "source": [
    "## Plot odds ratio for proximal regions"
   ]
  },
  {
   "cell_type": "markdown",
   "id": "41cb331c-a450-405e-b617-698eb140e81a",
   "metadata": {},
   "source": [
    "**Set plot text style**"
   ]
  },
  {
   "cell_type": "code",
   "execution_count": 46,
   "id": "81ec9f35-4682-4897-9ef3-fb94f92d78cb",
   "metadata": {},
   "outputs": [],
   "source": [
    "THEME_TEXT = theme(\n",
    "    title        = element_text(size = 16),\n",
    "    axis.text.x  = element_text(size = 16),\n",
    "    axis.text.y  = element_text(size = 16),\n",
    "    axis.title.x = element_text(size = 16),\n",
    "    axis.title.y = element_text(size = 16),\n",
    "    legend.text  = element_text(size = 14),\n",
    "    legend.title = element_text(size = 14) \n",
    ")"
   ]
  },
  {
   "cell_type": "markdown",
   "id": "371e1237-0598-4356-9464-1ec6abcae1ed",
   "metadata": {},
   "source": [
    "**Test and check get threshold for proximal regions**"
   ]
  },
  {
   "cell_type": "code",
   "execution_count": 47,
   "id": "0f111811-d57c-4034-90e5-aa4b0a467d4c",
   "metadata": {},
   "outputs": [
    {
     "data": {
      "text/html": [
       "<style>\n",
       ".list-inline {list-style: none; margin:0; padding: 0}\n",
       ".list-inline>li {display: inline-block}\n",
       ".list-inline>li:not(:last-child)::after {content: \"\\00b7\"; padding: 0 .5ex}\n",
       "</style>\n",
       "<ol class=list-inline><li>0.01</li><li>0.03</li><li>0.05</li><li>0.07</li><li>0.1</li><li>0.2</li><li>0.3</li><li>0.4</li><li>0.5</li></ol>\n"
      ],
      "text/latex": [
       "\\begin{enumerate*}\n",
       "\\item 0.01\n",
       "\\item 0.03\n",
       "\\item 0.05\n",
       "\\item 0.07\n",
       "\\item 0.1\n",
       "\\item 0.2\n",
       "\\item 0.3\n",
       "\\item 0.4\n",
       "\\item 0.5\n",
       "\\end{enumerate*}\n"
      ],
      "text/markdown": [
       "1. 0.01\n",
       "2. 0.03\n",
       "3. 0.05\n",
       "4. 0.07\n",
       "5. 0.1\n",
       "6. 0.2\n",
       "7. 0.3\n",
       "8. 0.4\n",
       "9. 0.5\n",
       "\n",
       "\n"
      ],
      "text/plain": [
       "[1] 0.01 0.03 0.05 0.07 0.10 0.20 0.30 0.40 0.50"
      ]
     },
     "metadata": {},
     "output_type": "display_data"
    }
   ],
   "source": [
    "c(0.01, 0.03, 0.05, 0.07, seq(0.1, 0.5, 0.1))"
   ]
  },
  {
   "cell_type": "code",
   "execution_count": 49,
   "id": "c7f0ec6a-3e61-4928-bc05-6d6bd93d9906",
   "metadata": {},
   "outputs": [
    {
     "data": {
      "text/html": [
       "<style>\n",
       ".list-inline {list-style: none; margin:0; padding: 0}\n",
       ".list-inline>li {display: inline-block}\n",
       ".list-inline>li:not(:last-child)::after {content: \"\\00b7\"; padding: 0 .5ex}\n",
       "</style>\n",
       "<ol class=list-inline><li>0.01</li><li>0.02</li><li>0.03</li><li>0.04</li><li>0.05</li><li>0.06</li><li>0.07</li><li>0.08</li><li>0.09</li><li>0.1</li><li>0.2</li><li>0.3</li><li>0.4</li><li>0.5</li></ol>\n"
      ],
      "text/latex": [
       "\\begin{enumerate*}\n",
       "\\item 0.01\n",
       "\\item 0.02\n",
       "\\item 0.03\n",
       "\\item 0.04\n",
       "\\item 0.05\n",
       "\\item 0.06\n",
       "\\item 0.07\n",
       "\\item 0.08\n",
       "\\item 0.09\n",
       "\\item 0.1\n",
       "\\item 0.2\n",
       "\\item 0.3\n",
       "\\item 0.4\n",
       "\\item 0.5\n",
       "\\end{enumerate*}\n"
      ],
      "text/markdown": [
       "1. 0.01\n",
       "2. 0.02\n",
       "3. 0.03\n",
       "4. 0.04\n",
       "5. 0.05\n",
       "6. 0.06\n",
       "7. 0.07\n",
       "8. 0.08\n",
       "9. 0.09\n",
       "10. 0.1\n",
       "11. 0.2\n",
       "12. 0.3\n",
       "13. 0.4\n",
       "14. 0.5\n",
       "\n",
       "\n"
      ],
      "text/plain": [
       " [1] 0.01 0.02 0.03 0.04 0.05 0.06 0.07 0.08 0.09 0.10 0.20 0.30 0.40 0.50"
      ]
     },
     "metadata": {},
     "output_type": "display_data"
    }
   ],
   "source": [
    "dat = dat_logit_stats_pool_proximal\n",
    "unique(dat$CutOff_CRISPR)"
   ]
  },
  {
   "cell_type": "code",
   "execution_count": 52,
   "id": "62b487b8-c774-432f-9fa9-0a554a9163e6",
   "metadata": {},
   "outputs": [
    {
     "data": {
      "text/html": [
       "<style>\n",
       ".list-inline {list-style: none; margin:0; padding: 0}\n",
       ".list-inline>li {display: inline-block}\n",
       ".list-inline>li:not(:last-child)::after {content: \"\\00b7\"; padding: 0 .5ex}\n",
       "</style>\n",
       "<ol class=list-inline><li>0.01</li><li>0.03</li><li>0.05</li><li>0.07</li><li>0.1</li><li>0.2</li><li>0.3</li><li>0.4</li><li>0.5</li></ol>\n"
      ],
      "text/latex": [
       "\\begin{enumerate*}\n",
       "\\item 0.01\n",
       "\\item 0.03\n",
       "\\item 0.05\n",
       "\\item 0.07\n",
       "\\item 0.1\n",
       "\\item 0.2\n",
       "\\item 0.3\n",
       "\\item 0.4\n",
       "\\item 0.5\n",
       "\\end{enumerate*}\n"
      ],
      "text/markdown": [
       "1. 0.01\n",
       "2. 0.03\n",
       "3. 0.05\n",
       "4. 0.07\n",
       "5. 0.1\n",
       "6. 0.2\n",
       "7. 0.3\n",
       "8. 0.4\n",
       "9. 0.5\n",
       "\n",
       "\n"
      ],
      "text/plain": [
       "[1] 0.01 0.03 0.05 0.07 0.10 0.20 0.30 0.40 0.50"
      ]
     },
     "metadata": {},
     "output_type": "display_data"
    }
   ],
   "source": [
    "dat = dat_logit_stats_pool_proximal\n",
    "dat = dat %>% dplyr::mutate(CutOff_Label = as.character(CutOff_CRISPR))\n",
    "vec = c(0.01, 0.03, 0.05, 0.07, seq(0.1, 0.5, 0.1))\n",
    "vec = as.character(vec)\n",
    "dat = dat %>% dplyr::filter(CutOff_Label %in% vec, Assay_CRISPR == \"CRISPR\")\n",
    "unique(dat$CutOff_CRISPR)"
   ]
  },
  {
   "cell_type": "markdown",
   "id": "76dc1ce3-06db-4210-9b06-02ddd86c4125",
   "metadata": {},
   "source": [
    "**Generate plots**"
   ]
  },
  {
   "cell_type": "code",
   "execution_count": 56,
   "id": "6566d07f-05d5-49c6-a2f3-5343078c6ca4",
   "metadata": {},
   "outputs": [
    {
     "data": {
      "image/png": "[encoded data removed]",
      "text/plain": [
       "plot without title"
      ]
     },
     "metadata": {
      "image/png": {
       "height": 240,
       "width": 330
      }
     },
     "output_type": "display_data"
    }
   ],
   "source": [
    "### init\n",
    "dat = dat_logit_stats_pool_proximal\n",
    "\n",
    "### get threshold for proximal regions\n",
    "dat = dat %>% dplyr::mutate(CutOff_Label = as.character(CutOff_CRISPR))\n",
    "vec = c(0.01, 0.03, 0.05, 0.07, seq(0.1, 0.5, 0.1))\n",
    "vec = as.character(vec)\n",
    "dat = dat %>% dplyr::filter(CutOff_Label %in% vec, Assay_CRISPR == \"CRISPR\")\n",
    "\n",
    "### set grid lines and labels\n",
    "vec_num_break_total = c(0.01, 0.05, seq(0.1, 0.5, 0.1))\n",
    "vec_num_break_major = c(0.01,       seq(0.1, 0.5, 0.1))\n",
    "vec_num_break_minor = setdiff(vec_num_break_total, vec_num_break_major)\n",
    "\n",
    "### generate plot\n",
    "gpt = ggplot(dat, aes(x = CutOff_CRISPR, y = OR, group = Assay_STARRMPRA, color = Assay_STARRMPRA)) +\n",
    "    geom_ribbon(\n",
    "        aes(ymin = OR_CI_Lower, ymax = OR_CI_Upper, fill = Assay_STARRMPRA), \n",
    "        alpha = 0.15, \n",
    "        color = NA\n",
    "    ) +\n",
    "    geom_line(linewidth = 1) +\n",
    "    geom_point(size = 1.8) +\n",
    "    geom_hline(yintercept = 1, linetype = \"dashed\") +\n",
    "    scale_x_continuous(\n",
    "        breaks = vec_num_break_major,\n",
    "        labels = scales::label_number(accuracy = 0.01),\n",
    "        minor_breaks = vec_num_break_minor\n",
    "    ) +\n",
    "    scale_y_continuous(breaks = scales::pretty_breaks()) +\n",
    "    theme_cowplot() +\n",
    "    background_grid(major = \"xy\", minor = \"x\") +\n",
    "    labs(x=\"CRISPR CutOff Rate\", y = \"Odds Ratio (95% CI)\", title = \"CRISPR ~ STARR/MPRA (Proximal)\") +\n",
    "    guides(fill = \"none\", color = guide_legend(title = NULL)) +\n",
    "    theme(\n",
    "        legend.background = element_rect(fill=\"white\"),\n",
    "        legend.position   = \"inside\",\n",
    "        legend.position.inside = c(0.5, 0.7)\n",
    "    ) +\n",
    "    THEME_TEXT\n",
    "\n",
    "### assign and show\n",
    "gpt_export_logit_pool_proximal = gpt\n",
    "options(repr.plot.height=4, repr.plot.width=5.5)\n",
    "print(gpt)"
   ]
  },
  {
   "cell_type": "markdown",
   "id": "fdaf9c90-b706-4472-a3ff-e760728d8b5d",
   "metadata": {},
   "source": [
    "## Plot odds ratio for distal regions"
   ]
  },
  {
   "cell_type": "code",
   "execution_count": 57,
   "id": "5bb0a09e-0420-4e14-8a86-5aaf03bd94cc",
   "metadata": {},
   "outputs": [
    {
     "data": {
      "image/png": "[encoded data removed]",
      "text/plain": [
       "plot without title"
      ]
     },
     "metadata": {
      "image/png": {
       "height": 240,
       "width": 330
      }
     },
     "output_type": "display_data"
    }
   ],
   "source": [
    "### init\n",
    "dat = dat_logit_stats_pool_distal\n",
    "\n",
    "### get threshold for proximal regions\n",
    "dat = dat %>% dplyr::filter(CutOff_CRISPR <= 0.1, Assay_CRISPR == \"CRISPR\")\n",
    "\n",
    "### set grid lines and labels\n",
    "vec_num_break_total = seq(0, 0.1, 0.01)\n",
    "vec_num_break_major = c(0.01, 0.05, 0.10)\n",
    "vec_num_break_minor = setdiff(vec_num_break_total, vec_num_break_major)\n",
    "\n",
    "### generate plot\n",
    "gpt = ggplot(dat, aes(x = CutOff_CRISPR, y = OR, group = Assay_STARRMPRA, color = Assay_STARRMPRA)) +\n",
    "    geom_ribbon(\n",
    "        aes(ymin = OR_CI_Lower, ymax = OR_CI_Upper, fill = Assay_STARRMPRA), \n",
    "        alpha = 0.15, \n",
    "        color = NA\n",
    "    ) +\n",
    "    geom_line(linewidth = 1) +\n",
    "    geom_point(size = 1.8) +\n",
    "    geom_hline(yintercept = 1, linetype = \"dashed\") +\n",
    "    scale_x_continuous(\n",
    "        breaks = vec_num_break_major,\n",
    "        labels = scales::label_number(accuracy = 0.01),\n",
    "        minor_breaks = vec_num_break_minor\n",
    "    ) +\n",
    "    scale_y_continuous(breaks = scales::pretty_breaks()) +\n",
    "    theme_cowplot() +\n",
    "    background_grid(major = \"xy\", minor = \"x\") +\n",
    "    labs(x=\"CRISPR CutOff Rate\", y = \"Odds Ratio (95% CI)\", title = \"CRISPR ~ STARR/MPRA (Distal)\") +\n",
    "    guides(fill = \"none\", color = guide_legend(title = NULL)) +\n",
    "    theme(\n",
    "        legend.background = element_rect(fill=\"white\"),\n",
    "        legend.position   = \"inside\",\n",
    "        legend.position.inside = c(0.5, 0.7)\n",
    "    ) +\n",
    "    THEME_TEXT\n",
    "\n",
    "### assign and show\n",
    "gpt_export_logit_pool_distal = gpt\n",
    "options(repr.plot.height=4, repr.plot.width=5.5)\n",
    "print(gpt)"
   ]
  },
  {
   "cell_type": "markdown",
   "id": "beaf66df-99d4-428b-9d1d-8143fc9a397e",
   "metadata": {},
   "source": [
    "## Export plots"
   ]
  },
  {
   "cell_type": "code",
   "execution_count": 58,
   "id": "cd4c68aa-212d-4b01-8b6d-eca0a6252ef0",
   "metadata": {},
   "outputs": [],
   "source": [
    "plt_export = gpt_export_logit_pool_proximal\n",
    "txt_export = \"fig.region_coverage_fcc.logit.odds_ratio.pool.proximal\"\n",
    "num_height = 4\n",
    "num_width  = 5.5\n",
    "\n",
    "txt_fdiry = \"./\"\n",
    "txt_fname = paste(txt_export, \"png\", sep = \".\")\n",
    "txt_fpath = file.path(txt_fdiry, txt_fname)\n",
    "#ggsave(txt_fpath, plt_export, height = num_height, width = num_width, units = \"in\")\n",
    "\n",
    "txt_fdiry = \"./\"\n",
    "txt_fname = paste(txt_export, \"svg\", sep = \".\")\n",
    "txt_fpath = file.path(txt_fdiry, txt_fname)\n",
    "#ggsave(txt_fpath, plt_export, height = num_height, width = num_width, units = \"in\")"
   ]
  },
  {
   "cell_type": "code",
   "execution_count": 59,
   "id": "20f2d664-6932-49ae-9f02-76aefc571dfc",
   "metadata": {},
   "outputs": [],
   "source": [
    "plt_export = gpt_export_logit_pool_distal\n",
    "txt_export = \"fig.region_coverage_fcc.logit.odds_ratio.pool.distal\"\n",
    "num_height = 8\n",
    "num_width  = 16\n",
    "\n",
    "txt_fdiry = \"./\"\n",
    "txt_fname = paste(txt_export, \"png\", sep = \".\")\n",
    "txt_fpath = file.path(txt_fdiry, txt_fname)\n",
    "#ggsave(txt_fpath, plt_export, height = num_height, width = num_width, units = \"in\")\n",
    "\n",
    "txt_fdiry = \"./\"\n",
    "txt_fname = paste(txt_export, \"svg\", sep = \".\")\n",
    "txt_fpath = file.path(txt_fdiry, txt_fname)\n",
    "#ggsave(txt_fpath, plt_export, height = num_height, width = num_width, units = \"in\")"
   ]
  },
  {
   "cell_type": "code",
   "execution_count": null,
   "id": "f45a072e-1fe2-47ac-98e3-b181c6c60d80",
   "metadata": {},
   "outputs": [],
   "source": []
  }
 ],
 "metadata": {
  "kernelspec": {
   "display_name": "R",
   "language": "R",
   "name": "ir"
  },
  "language_info": {
   "codemirror_mode": "r",
   "file_extension": ".r",
   "mimetype": "text/x-r-source",
   "name": "R",
   "pygments_lexer": "r",
   "version": "4.5.1"
  }
 },
 "nbformat": 4,
 "nbformat_minor": 5
}
