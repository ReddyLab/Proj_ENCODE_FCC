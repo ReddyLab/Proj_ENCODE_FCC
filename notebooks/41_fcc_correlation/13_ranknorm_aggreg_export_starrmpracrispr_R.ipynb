{
 "cells": [
  {
   "cell_type": "raw",
   "id": "c4172dd9-3e10-4624-a34c-4ce1ab7a59f7",
   "metadata": {},
   "source": [
    "---\n",
    "title: FCC correlation 13\n",
    "subtitle: STARR/MPRA/CRISPRi rank-aggregation\n",
    "format:\n",
    "    html:\n",
    "        code-fold:  true\n",
    "        code-tools: true\n",
    "---"
   ]
  },
  {
   "cell_type": "markdown",
   "id": "f94d9c29-8cde-4e5f-ae48-b96fd518c106",
   "metadata": {},
   "source": [
    "**Set environment**"
   ]
  },
  {
   "cell_type": "code",
   "execution_count": 1,
   "id": "3ff80a55-6a53-4587-ad59-13f6ce318934",
   "metadata": {},
   "outputs": [
    {
     "name": "stdout",
     "output_type": "stream",
     "text": [
      "You are working on        Singularity: singularity_proj_encode_fcc \n",
      "BASE DIRECTORY (FD_BASE): /data/reddylab/Kuei \n",
      "REPO DIRECTORY (FD_REPO): /data/reddylab/Kuei/repo \n",
      "WORK DIRECTORY (FD_WORK): /data/reddylab/Kuei/work \n",
      "DATA DIRECTORY (FD_DATA): /data/reddylab/Kuei/data \n",
      "\n",
      "You are working with      ENCODE FCC \n",
      "PATH OF PROJECT (FD_PRJ): /data/reddylab/Kuei/repo/Proj_ENCODE_FCC \n",
      "PROJECT RESULTS (FD_RES): /data/reddylab/Kuei/repo/Proj_ENCODE_FCC/results \n",
      "PROJECT SCRIPTS (FD_EXE): /data/reddylab/Kuei/repo/Proj_ENCODE_FCC/scripts \n",
      "PROJECT DATA    (FD_DAT): /data/reddylab/Kuei/repo/Proj_ENCODE_FCC/data \n",
      "PROJECT NOTE    (FD_NBK): /data/reddylab/Kuei/repo/Proj_ENCODE_FCC/notebooks \n",
      "PROJECT DOCS    (FD_DOC): /data/reddylab/Kuei/repo/Proj_ENCODE_FCC/docs \n",
      "PROJECT LOG     (FD_LOG): /data/reddylab/Kuei/repo/Proj_ENCODE_FCC/log \n",
      "PROJECT REF     (FD_REF): /data/reddylab/Kuei/repo/Proj_ENCODE_FCC/references \n",
      "\n"
     ]
    }
   ],
   "source": [
    "suppressMessages(suppressWarnings(source(\"../run_config_project_sing.R\")))\n",
    "library(RobustRankAggreg)\n",
    "show_env()"
   ]
  },
  {
   "cell_type": "markdown",
   "id": "8fa74b13-7cfe-4d31-94ad-74d176b58aa2",
   "metadata": {},
   "source": [
    "**Check: region directory**"
   ]
  },
  {
   "cell_type": "code",
   "execution_count": 2,
   "id": "64ad61d3-0a51-4f5b-83ef-fba26c41a87f",
   "metadata": {},
   "outputs": [
    {
     "name": "stdout",
     "output_type": "stream",
     "text": [
      "atac_ENCFF333TAT \n",
      "atac_ENCFF558BLC \n",
      "atac_ENCFF925CYR \n",
      "atac_ENCFF948AFM \n",
      "dnase_ENCFF185XRG \n",
      "dnase_ENCFF274YGF \n",
      "fcc_astarr_macs_input_overlap \n",
      "fcc_astarr_macs_input_union \n"
     ]
    }
   ],
   "source": [
    "txt_fdiry = file.path(FD_RES, \"region_coverage_fcc_score\")\n",
    "\n",
    "vec = dir(txt_fdiry)\n",
    "for (txt in vec){cat(txt, \"\\n\")}"
   ]
  },
  {
   "cell_type": "markdown",
   "id": "1525393e-d6aa-46d9-89f5-e7e8848d66d2",
   "metadata": {},
   "source": [
    "**Check: assay directory**"
   ]
  },
  {
   "cell_type": "code",
   "execution_count": 3,
   "id": "d6cf6f83-46a0-449e-a746-9b99378a4a27",
   "metadata": {},
   "outputs": [
    {
     "name": "stdout",
     "output_type": "stream",
     "text": [
      "CRISPRi_FlowFISH_K562_Riley_JinWoo \n",
      "CRISPRi_Growth_K562_Gersbach_JinWoo \n",
      "MPRA_Lenti_K562_Nadav_Vikram \n",
      "MPRA_Tiling_K562_Tewhey_Hannah \n",
      "STARR_ATAC_K562_Reddy_KS274 \n",
      "STARR_ATAC_K562_Reddy_KS91 \n",
      "STARR_ATAC_K562_Reddy_KSMerge \n",
      "STARR_WHG_K562_Reddy_A001 \n",
      "summary \n"
     ]
    }
   ],
   "source": [
    "txt_region = \"fcc_astarr_macs_input_union\"\n",
    "txt_fdiry  = file.path(FD_RES, \"region_coverage_fcc_score\", txt_region)\n",
    "vec = dir(txt_fdiry)\n",
    "for (txt in vec) {cat(txt, \"\\n\")}"
   ]
  },
  {
   "cell_type": "markdown",
   "id": "13d48dc4-59d1-49a3-93cb-ebccf0b6583e",
   "metadata": {},
   "source": [
    "**Set global variable**"
   ]
  },
  {
   "cell_type": "code",
   "execution_count": 4,
   "id": "f947a140-ce9a-4481-811f-b541e4f2d93a",
   "metadata": {},
   "outputs": [
    {
     "name": "stdout",
     "output_type": "stream",
     "text": [
      "fcc_astarr_macs_input_overlap \n",
      "fcc_astarr_macs_input_union \n"
     ]
    }
   ],
   "source": [
    "## init: region folder\n",
    "vec = c(\"fcc_astarr_macs_input_overlap\", \"fcc_astarr_macs_input_union\")\n",
    "names(vec) = vec\n",
    "\n",
    "VEC_TXT_FOLDER = vec\n",
    "for (txt in vec) {cat(txt, \"\\n\")}"
   ]
  },
  {
   "cell_type": "markdown",
   "id": "7943b82d-91e1-45df-a75e-48f2e3143936",
   "metadata": {},
   "source": [
    "**Check input files**"
   ]
  },
  {
   "cell_type": "code",
   "execution_count": 5,
   "id": "593377cb-0859-41a2-b0e5-47eda83cad6e",
   "metadata": {},
   "outputs": [
    {
     "name": "stdout",
     "output_type": "stream",
     "text": [
      "/data/reddylab/Kuei/repo/Proj_ENCODE_FCC/results/region_coverage_fcc_score/fcc_astarr_macs_input_overlap/summary/region.coverage.score.atac.tsv \n",
      "/data/reddylab/Kuei/repo/Proj_ENCODE_FCC/results/region_coverage_fcc_score/fcc_astarr_macs_input_overlap/summary/region.coverage.score.fcc.final.tsv \n",
      "/data/reddylab/Kuei/repo/Proj_ENCODE_FCC/results/region_coverage_fcc_score/fcc_astarr_macs_input_overlap/summary/region.coverage.score.fcc.test.tsv \n",
      "/data/reddylab/Kuei/repo/Proj_ENCODE_FCC/results/region_coverage_fcc_score/fcc_astarr_macs_input_overlap/summary/region.coverage.score.fcc.total.tsv \n"
     ]
    }
   ],
   "source": [
    "txt_folder = VEC_TXT_FOLDER[1]\n",
    "txt_fdiry  = file.path(FD_RES, \"region_coverage_fcc_score\", txt_folder, \"summary\")\n",
    "txt_fname  = \"region.coverage.score.*.tsv\"\n",
    "txt_fglob  = file.path(txt_fdiry, txt_fname)\n",
    "\n",
    "vec = Sys.glob(txt_fglob)\n",
    "for (txt in vec) {cat(txt, \"\\n\")}"
   ]
  },
  {
   "cell_type": "markdown",
   "id": "b5211bfc-e6bb-416e-8c3c-4885e0c7c4f9",
   "metadata": {},
   "source": [
    "## Import data"
   ]
  },
  {
   "cell_type": "code",
   "execution_count": 6,
   "id": "53eb70d0-4825-4b92-a11b-fb314ddd4d7b",
   "metadata": {},
   "outputs": [
    {
     "name": "stdout",
     "output_type": "stream",
     "text": [
      "$fcc_astarr_macs_input_overlap\n",
      "[1] 432928     11\n",
      "\n",
      "$fcc_astarr_macs_input_union\n",
      "[1] 639718     11\n",
      "\n"
     ]
    },
    {
     "data": {
      "text/html": [
       "<table class=\"dataframe\">\n",
       "<caption>A tibble: 3 × 11</caption>\n",
       "<thead>\n",
       "\t<tr><th scope=col>Chrom</th><th scope=col>ChromStart</th><th scope=col>ChromEnd</th><th scope=col>Region</th><th scope=col>Score</th><th scope=col>Zcore</th><th scope=col>Score_Label</th><th scope=col>Zcore_Label</th><th scope=col>Assay_Folder</th><th scope=col>Assay_Group</th><th scope=col>Assay_Label</th></tr>\n",
       "\t<tr><th scope=col>&lt;chr&gt;</th><th scope=col>&lt;dbl&gt;</th><th scope=col>&lt;dbl&gt;</th><th scope=col>&lt;chr&gt;</th><th scope=col>&lt;dbl&gt;</th><th scope=col>&lt;dbl&gt;</th><th scope=col>&lt;chr&gt;</th><th scope=col>&lt;chr&gt;</th><th scope=col>&lt;chr&gt;</th><th scope=col>&lt;chr&gt;</th><th scope=col>&lt;chr&gt;</th></tr>\n",
       "</thead>\n",
       "<tbody>\n",
       "\t<tr><td>chr1</td><td>10038</td><td>10405</td><td>chr1:10038-10405</td><td>-2.23485265</td><td>-3.5573621</td><td>Log2FC</td><td>Scale(Log2FC)</td><td>STARR_ATAC_K562_Reddy_KS91</td><td>ASTARR_KS91</td><td>ASTARR</td></tr>\n",
       "\t<tr><td>chr1</td><td>14282</td><td>14614</td><td>chr1:14282-14614</td><td> 0.03179044</td><td> 0.0361388</td><td>Log2FC</td><td>Scale(Log2FC)</td><td>STARR_ATAC_K562_Reddy_KS91</td><td>ASTARR_KS91</td><td>ASTARR</td></tr>\n",
       "\t<tr><td>chr1</td><td>16025</td><td>16338</td><td>chr1:16025-16338</td><td>-1.33934060</td><td>-2.1376311</td><td>Log2FC</td><td>Scale(Log2FC)</td><td>STARR_ATAC_K562_Reddy_KS91</td><td>ASTARR_KS91</td><td>ASTARR</td></tr>\n",
       "</tbody>\n",
       "</table>\n"
      ],
      "text/latex": [
       "A tibble: 3 × 11\n",
       "\\begin{tabular}{lllllllllll}\n",
       " Chrom & ChromStart & ChromEnd & Region & Score & Zcore & Score\\_Label & Zcore\\_Label & Assay\\_Folder & Assay\\_Group & Assay\\_Label\\\\\n",
       " <chr> & <dbl> & <dbl> & <chr> & <dbl> & <dbl> & <chr> & <chr> & <chr> & <chr> & <chr>\\\\\n",
       "\\hline\n",
       "\t chr1 & 10038 & 10405 & chr1:10038-10405 & -2.23485265 & -3.5573621 & Log2FC & Scale(Log2FC) & STARR\\_ATAC\\_K562\\_Reddy\\_KS91 & ASTARR\\_KS91 & ASTARR\\\\\n",
       "\t chr1 & 14282 & 14614 & chr1:14282-14614 &  0.03179044 &  0.0361388 & Log2FC & Scale(Log2FC) & STARR\\_ATAC\\_K562\\_Reddy\\_KS91 & ASTARR\\_KS91 & ASTARR\\\\\n",
       "\t chr1 & 16025 & 16338 & chr1:16025-16338 & -1.33934060 & -2.1376311 & Log2FC & Scale(Log2FC) & STARR\\_ATAC\\_K562\\_Reddy\\_KS91 & ASTARR\\_KS91 & ASTARR\\\\\n",
       "\\end{tabular}\n"
      ],
      "text/markdown": [
       "\n",
       "A tibble: 3 × 11\n",
       "\n",
       "| Chrom &lt;chr&gt; | ChromStart &lt;dbl&gt; | ChromEnd &lt;dbl&gt; | Region &lt;chr&gt; | Score &lt;dbl&gt; | Zcore &lt;dbl&gt; | Score_Label &lt;chr&gt; | Zcore_Label &lt;chr&gt; | Assay_Folder &lt;chr&gt; | Assay_Group &lt;chr&gt; | Assay_Label &lt;chr&gt; |\n",
       "|---|---|---|---|---|---|---|---|---|---|---|\n",
       "| chr1 | 10038 | 10405 | chr1:10038-10405 | -2.23485265 | -3.5573621 | Log2FC | Scale(Log2FC) | STARR_ATAC_K562_Reddy_KS91 | ASTARR_KS91 | ASTARR |\n",
       "| chr1 | 14282 | 14614 | chr1:14282-14614 |  0.03179044 |  0.0361388 | Log2FC | Scale(Log2FC) | STARR_ATAC_K562_Reddy_KS91 | ASTARR_KS91 | ASTARR |\n",
       "| chr1 | 16025 | 16338 | chr1:16025-16338 | -1.33934060 | -2.1376311 | Log2FC | Scale(Log2FC) | STARR_ATAC_K562_Reddy_KS91 | ASTARR_KS91 | ASTARR |\n",
       "\n"
      ],
      "text/plain": [
       "  Chrom ChromStart ChromEnd Region           Score       Zcore      Score_Label\n",
       "1 chr1  10038      10405    chr1:10038-10405 -2.23485265 -3.5573621 Log2FC     \n",
       "2 chr1  14282      14614    chr1:14282-14614  0.03179044  0.0361388 Log2FC     \n",
       "3 chr1  16025      16338    chr1:16025-16338 -1.33934060 -2.1376311 Log2FC     \n",
       "  Zcore_Label   Assay_Folder               Assay_Group Assay_Label\n",
       "1 Scale(Log2FC) STARR_ATAC_K562_Reddy_KS91 ASTARR_KS91 ASTARR     \n",
       "2 Scale(Log2FC) STARR_ATAC_K562_Reddy_KS91 ASTARR_KS91 ASTARR     \n",
       "3 Scale(Log2FC) STARR_ATAC_K562_Reddy_KS91 ASTARR_KS91 ASTARR     "
      ]
     },
     "metadata": {},
     "output_type": "display_data"
    }
   ],
   "source": [
    "lst = lapply(VEC_TXT_FOLDER, function(txt_folder){\n",
    "    ### set file directory\n",
    "    txt_fdiry  = file.path(\n",
    "        FD_RES, \"region_coverage_fcc_score\", \n",
    "        txt_folder, \n",
    "        \"summary\"\n",
    "    )\n",
    "    txt_fname = \"region.coverage.score.fcc.final.tsv\"\n",
    "    txt_fpath = file.path(txt_fdiry, txt_fname)\n",
    "\n",
    "    ### read table\n",
    "    dat = read_tsv(txt_fpath, show_col_types = FALSE)\n",
    "    return(dat)\n",
    "})\n",
    "\n",
    "### assign and show\n",
    "lst_dat_region_score_import = lst\n",
    "\n",
    "res = lapply(lst, dim)\n",
    "print(res)\n",
    "\n",
    "dat = lst[[1]]\n",
    "head(dat, 3)"
   ]
  },
  {
   "cell_type": "markdown",
   "id": "7b89c8f5-da07-4d86-836a-d63e1e67575e",
   "metadata": {},
   "source": [
    "**Check: Assay count**"
   ]
  },
  {
   "cell_type": "code",
   "execution_count": 7,
   "id": "580802a1-3b90-4014-b71d-49758ee99878",
   "metadata": {},
   "outputs": [
    {
     "data": {
      "text/html": [
       "<table>\n",
       " <thead>\n",
       "  <tr>\n",
       "   <th style=\"text-align:left;\"> Assay_Group </th>\n",
       "   <th style=\"text-align:left;\"> Assay_Label </th>\n",
       "   <th style=\"text-align:right;\"> fcc_astarr_macs_input_overlap </th>\n",
       "   <th style=\"text-align:right;\"> fcc_astarr_macs_input_union </th>\n",
       "  </tr>\n",
       " </thead>\n",
       "<tbody>\n",
       "  <tr>\n",
       "   <td style=\"text-align:left;\"> ASTARR_KS91 </td>\n",
       "   <td style=\"text-align:left;\"> ASTARR </td>\n",
       "   <td style=\"text-align:right;\"> 150040 </td>\n",
       "   <td style=\"text-align:right;\"> 246850 </td>\n",
       "  </tr>\n",
       "  <tr>\n",
       "   <td style=\"text-align:left;\"> CRISPRi-Growth </td>\n",
       "   <td style=\"text-align:left;\"> CRISPRi-Growth </td>\n",
       "   <td style=\"text-align:right;\"> 72743 </td>\n",
       "   <td style=\"text-align:right;\"> 80288 </td>\n",
       "  </tr>\n",
       "  <tr>\n",
       "   <td style=\"text-align:left;\"> CRISPRi-HCRFF </td>\n",
       "   <td style=\"text-align:left;\"> CRISPRi-HCRFF </td>\n",
       "   <td style=\"text-align:right;\"> 925 </td>\n",
       "   <td style=\"text-align:right;\"> 1330 </td>\n",
       "  </tr>\n",
       "  <tr>\n",
       "   <td style=\"text-align:left;\"> LMPRA </td>\n",
       "   <td style=\"text-align:left;\"> LMPRA </td>\n",
       "   <td style=\"text-align:right;\"> 61478 </td>\n",
       "   <td style=\"text-align:right;\"> 68497 </td>\n",
       "  </tr>\n",
       "  <tr>\n",
       "   <td style=\"text-align:left;\"> TMPRA </td>\n",
       "   <td style=\"text-align:left;\"> TMPRA </td>\n",
       "   <td style=\"text-align:right;\"> 1148 </td>\n",
       "   <td style=\"text-align:right;\"> 1722 </td>\n",
       "  </tr>\n",
       "  <tr>\n",
       "   <td style=\"text-align:left;\"> WSTARR </td>\n",
       "   <td style=\"text-align:left;\"> WSTARR </td>\n",
       "   <td style=\"text-align:right;\"> 146594 </td>\n",
       "   <td style=\"text-align:right;\"> 241031 </td>\n",
       "  </tr>\n",
       "</tbody>\n",
       "</table>"
      ]
     },
     "metadata": {},
     "output_type": "display_data"
    }
   ],
   "source": [
    "lst = lst_dat_region_score_import \n",
    "lst = lapply(lst, function(dat){\n",
    "    dat = dat %>% \n",
    "        dplyr::group_by(Assay_Group, Assay_Label) %>%\n",
    "        dplyr::summarise(Freq = n(), .groups = \"drop\")\n",
    "    return(dat)\n",
    "})\n",
    "\n",
    "dat = bind_rows(lst, .id = \"Folder\")\n",
    "dat = dat %>% tidyr::spread(Folder, Freq)\n",
    "fun_display_table(dat)"
   ]
  },
  {
   "cell_type": "markdown",
   "id": "35cee64d-d36d-43d5-9a80-28af9cef8b63",
   "metadata": {},
   "source": [
    "**Check: Missing values**"
   ]
  },
  {
   "cell_type": "code",
   "execution_count": 8,
   "id": "4d900d8e-b688-479c-94cf-0ad39dd78e39",
   "metadata": {},
   "outputs": [
    {
     "name": "stdout",
     "output_type": "stream",
     "text": [
      "$fcc_astarr_macs_input_overlap\n",
      "[1] FALSE\n",
      "\n",
      "$fcc_astarr_macs_input_union\n",
      "[1] FALSE\n",
      "\n"
     ]
    }
   ],
   "source": [
    "lst = lst_dat_region_score_import \n",
    "lst = lapply(lst, function(dat){\n",
    "    tmp = any(is.na(dat))\n",
    "    return(tmp)\n",
    "})\n",
    "\n",
    "print(lst)"
   ]
  },
  {
   "cell_type": "markdown",
   "id": "c61c58ba-8527-4105-acde-fa1f62e989d4",
   "metadata": {},
   "source": [
    "## Sort regions by score"
   ]
  },
  {
   "cell_type": "code",
   "execution_count": 9,
   "id": "636a4475-c6ae-4d11-b2c9-1944f047df62",
   "metadata": {},
   "outputs": [
    {
     "name": "stdout",
     "output_type": "stream",
     "text": [
      "$ASTARR\n",
      "[1] \"chr4:72112571-72112843\"    \"chr13:100392664-100393665\"\n",
      "[3] \"chr14:29805715-29806017\"   \"chr16:89994836-89996150\"  \n",
      "[5] \"chr2:189210051-189210466\"  \"chr8:90187578-90188106\"   \n",
      "\n",
      "$`CRISPRi-Growth`\n",
      "[1] \"chr11:33944532-33945260\"   \"chr11:118571936-118573512\"\n",
      "[3] \"chr12:27022297-27023165\"   \"chr6:135322911-135323679\" \n",
      "[5] \"chr1:43358140-43359669\"    \"chr1:220093702-220094870\" \n",
      "\n",
      "$`CRISPRi-HCRFF`\n",
      "[1] \"chr6:109303663-109305046\"  \"chr4:55635019-55636920\"   \n",
      "[3] \"chr4:55637203-55637621\"    \"chr11:5284435-5285126\"    \n",
      "[5] \"chr12:112012541-112014427\" \"chr11:5280584-5281266\"    \n",
      "\n",
      "$LMPRA\n",
      "[1] \"chr2:38643159-38644473\"   \"chr19:28606234-28607334\" \n",
      "[3] \"chr17:81512132-81514168\"  \"chr6:109482374-109483843\"\n",
      "[5] \"chr7:97871705-97872960\"   \"chr7:44043962-44045299\"  \n",
      "\n",
      "$TMPRA\n",
      "[1] \"chr11:5591612-5591973\"   \"chr11:33161103-33161985\"\n",
      "[3] \"chr2:60755781-60756991\"  \"chr11:34104955-34106361\"\n",
      "[5] \"chr20:56828412-56828783\" \"chr11:5280584-5281266\"  \n",
      "\n",
      "$WSTARR\n",
      "[1] \"chr6:43627184-43627634\"   \"chr18:75712375-75712688\" \n",
      "[3] \"chr4:158282204-158282507\" \"chr20:53875487-53875886\" \n",
      "[5] \"chr19:47244024-47244799\"  \"chr3:100226712-100227231\"\n",
      "\n"
     ]
    }
   ],
   "source": [
    "lst = lst_dat_region_score_import \n",
    "lol = lapply(lst, function(dat){\n",
    "    ### foreach assay, sort regions by score\n",
    "    lst = split(dat, dat$Assay_Label)\n",
    "    lst = lapply(lst, function(dat){\n",
    "        dat = dat %>% dplyr::arrange(desc(Score))\n",
    "        vec = dat$Region\n",
    "        return(vec)\n",
    "    })\n",
    "    return(lst)\n",
    "})\n",
    "\n",
    "### assign and show\n",
    "lol_vec_txt_region_sorted = lol\n",
    "\n",
    "lst = lol[[1]]\n",
    "res = lapply(lst, head)\n",
    "print(res)"
   ]
  },
  {
   "cell_type": "markdown",
   "id": "e7fc4c38-d8a2-4696-8ee8-4c382a266ab9",
   "metadata": {},
   "source": [
    "**Check: Region count**"
   ]
  },
  {
   "cell_type": "code",
   "execution_count": 10,
   "id": "3686b3bb-e47f-45cb-a5bc-3a1ed6914a1f",
   "metadata": {},
   "outputs": [
    {
     "data": {
      "text/html": [
       "<table>\n",
       " <thead>\n",
       "  <tr>\n",
       "   <th style=\"text-align:left;\"> Folder </th>\n",
       "   <th style=\"text-align:right;\"> ASTARR </th>\n",
       "   <th style=\"text-align:right;\"> CRISPRi-Growth </th>\n",
       "   <th style=\"text-align:right;\"> CRISPRi-HCRFF </th>\n",
       "   <th style=\"text-align:right;\"> LMPRA </th>\n",
       "   <th style=\"text-align:right;\"> TMPRA </th>\n",
       "   <th style=\"text-align:right;\"> WSTARR </th>\n",
       "  </tr>\n",
       " </thead>\n",
       "<tbody>\n",
       "  <tr>\n",
       "   <td style=\"text-align:left;\"> fcc_astarr_macs_input_overlap </td>\n",
       "   <td style=\"text-align:right;\"> 150040 </td>\n",
       "   <td style=\"text-align:right;\"> 72743 </td>\n",
       "   <td style=\"text-align:right;\"> 925 </td>\n",
       "   <td style=\"text-align:right;\"> 61478 </td>\n",
       "   <td style=\"text-align:right;\"> 1148 </td>\n",
       "   <td style=\"text-align:right;\"> 146594 </td>\n",
       "  </tr>\n",
       "  <tr>\n",
       "   <td style=\"text-align:left;\"> fcc_astarr_macs_input_union </td>\n",
       "   <td style=\"text-align:right;\"> 246850 </td>\n",
       "   <td style=\"text-align:right;\"> 80288 </td>\n",
       "   <td style=\"text-align:right;\"> 1330 </td>\n",
       "   <td style=\"text-align:right;\"> 68497 </td>\n",
       "   <td style=\"text-align:right;\"> 1722 </td>\n",
       "   <td style=\"text-align:right;\"> 241031 </td>\n",
       "  </tr>\n",
       "</tbody>\n",
       "</table>"
      ]
     },
     "metadata": {},
     "output_type": "display_data"
    }
   ],
   "source": [
    "lol = lol_vec_txt_region_sorted\n",
    "lst = lapply(lol, function(lst){\n",
    "    res = lapply(lst, length)\n",
    "    dat = bind_rows(res)\n",
    "    return(dat)\n",
    "})\n",
    "\n",
    "dat = bind_rows(lst, .id = \"Folder\")\n",
    "fun_display_table(dat)"
   ]
  },
  {
   "cell_type": "markdown",
   "id": "2359d1b2-d03c-4123-87f7-0fb953fe2555",
   "metadata": {},
   "source": [
    "## Apply robust aggregate ranks and calculate rank normalization scores"
   ]
  },
  {
   "cell_type": "markdown",
   "id": "df977226-125d-498c-bb9b-c5bf2b72b11f",
   "metadata": {},
   "source": [
    "**Helper function**"
   ]
  },
  {
   "cell_type": "code",
   "execution_count": 11,
   "id": "48f11d54-5bfc-4443-89e9-888efbc317c9",
   "metadata": {},
   "outputs": [],
   "source": [
    "fun_ranknorm = function(x) {\n",
    "    ### if x runs 1, 2, ... , N, then\n",
    "    ### we want (N - x + 1) / N  so that: rank = 1-> 1 & rank = N -> 0\n",
    "    n = max(x, na.rm = TRUE) \n",
    "    r = n - x + 1\n",
    "    return (r / n)\n",
    "}"
   ]
  },
  {
   "cell_type": "code",
   "execution_count": 12,
   "id": "d55e398e-f904-4958-a5c5-029e0d167a63",
   "metadata": {},
   "outputs": [],
   "source": [
    "fun_mad = function(x){\n",
    "    x_non_na = x[!is.na(x)]\n",
    "    num = mad(\n",
    "        x_non_na, \n",
    "        constant = 1, \n",
    "        na.rm    = TRUE, \n",
    "        center   = median(x_non_na)\n",
    "    )\n",
    "    return(num)\n",
    "}\n"
   ]
  },
  {
   "cell_type": "markdown",
   "id": "95d7c1f7-08db-4501-8937-95f72b727c57",
   "metadata": {},
   "source": [
    "**Test code and matrix**"
   ]
  },
  {
   "cell_type": "code",
   "execution_count": 13,
   "id": "a12862a6-b767-41f1-acee-9cba90a7e5c2",
   "metadata": {},
   "outputs": [
    {
     "data": {
      "text/html": [
       "<style>\n",
       ".list-inline {list-style: none; margin:0; padding: 0}\n",
       ".list-inline>li {display: inline-block}\n",
       ".list-inline>li:not(:last-child)::after {content: \"\\00b7\"; padding: 0 .5ex}\n",
       "</style>\n",
       "<ol class=list-inline><li>&lt;NA&gt;</li><li>2</li><li>&lt;NA&gt;</li><li>1</li><li>3</li></ol>\n"
      ],
      "text/latex": [
       "\\begin{enumerate*}\n",
       "\\item <NA>\n",
       "\\item 2\n",
       "\\item <NA>\n",
       "\\item 1\n",
       "\\item 3\n",
       "\\end{enumerate*}\n"
      ],
      "text/markdown": [
       "1. &lt;NA&gt;\n",
       "2. 2\n",
       "3. &lt;NA&gt;\n",
       "4. 1\n",
       "5. 3\n",
       "\n",
       "\n"
      ],
      "text/plain": [
       "[1] NA  2 NA  1  3"
      ]
     },
     "metadata": {},
     "output_type": "display_data"
    }
   ],
   "source": [
    "x = c(\"a\", \"y\", \"b\", \"x\", \"z\")\n",
    "y = c(\"x\", \"y\", \"z\")\n",
    "match(x, y)"
   ]
  },
  {
   "cell_type": "code",
   "execution_count": 14,
   "id": "86f42b98-3d69-4995-b7e9-6cd81d1cd4e0",
   "metadata": {},
   "outputs": [],
   "source": [
    "idx = \"fcc_astarr_macs_input_overlap\"\n",
    "lol = lol_vec_txt_region_sorted\n",
    "lst = lol[[idx]]\n",
    "\n",
    "### apply robust aggregate ranks (RRA)\n",
    "dat = aggregateRanks(lst, method = \"RRA\", full = TRUE)\n",
    "\n",
    "### calculate raw-rank matrix\n",
    "mat_num_rank = sapply(lst, function(x){match(dat$Name, x)})"
   ]
  },
  {
   "cell_type": "code",
   "execution_count": 15,
   "id": "1674946a-6db0-444a-a83b-f504ef3b2e16",
   "metadata": {},
   "outputs": [
    {
     "data": {
      "text/html": [
       "<table>\n",
       " <thead>\n",
       "  <tr>\n",
       "   <th style=\"text-align:left;\">   </th>\n",
       "   <th style=\"text-align:left;\"> Name </th>\n",
       "   <th style=\"text-align:right;\"> Score </th>\n",
       "  </tr>\n",
       " </thead>\n",
       "<tbody>\n",
       "  <tr>\n",
       "   <td style=\"text-align:left;\"> chr19:47244024-47244799 </td>\n",
       "   <td style=\"text-align:left;\"> chr19:47244024-47244799 </td>\n",
       "   <td style=\"text-align:right;\"> 0 </td>\n",
       "  </tr>\n",
       "  <tr>\n",
       "   <td style=\"text-align:left;\"> chr13:97259755-97260733 </td>\n",
       "   <td style=\"text-align:left;\"> chr13:97259755-97260733 </td>\n",
       "   <td style=\"text-align:right;\"> 0 </td>\n",
       "  </tr>\n",
       "  <tr>\n",
       "   <td style=\"text-align:left;\"> chr1:118963502-118964080 </td>\n",
       "   <td style=\"text-align:left;\"> chr1:118963502-118964080 </td>\n",
       "   <td style=\"text-align:right;\"> 0 </td>\n",
       "  </tr>\n",
       "  <tr>\n",
       "   <td style=\"text-align:left;\"> chr16:87778744-87779533 </td>\n",
       "   <td style=\"text-align:left;\"> chr16:87778744-87779533 </td>\n",
       "   <td style=\"text-align:right;\"> 0 </td>\n",
       "  </tr>\n",
       "  <tr>\n",
       "   <td style=\"text-align:left;\"> chr3:126261107-126261399 </td>\n",
       "   <td style=\"text-align:left;\"> chr3:126261107-126261399 </td>\n",
       "   <td style=\"text-align:right;\"> 0 </td>\n",
       "  </tr>\n",
       "  <tr>\n",
       "   <td style=\"text-align:left;\"> chr9:116395345-116395887 </td>\n",
       "   <td style=\"text-align:left;\"> chr9:116395345-116395887 </td>\n",
       "   <td style=\"text-align:right;\"> 0 </td>\n",
       "  </tr>\n",
       "</tbody>\n",
       "</table>"
      ]
     },
     "metadata": {},
     "output_type": "display_data"
    }
   ],
   "source": [
    "fun_display_table(head(dat))"
   ]
  },
  {
   "cell_type": "code",
   "execution_count": 16,
   "id": "8b22266e-63f7-4dbf-a9cf-3421ec70876f",
   "metadata": {},
   "outputs": [
    {
     "data": {
      "text/html": [
       "<table>\n",
       " <thead>\n",
       "  <tr>\n",
       "   <th style=\"text-align:right;\"> ASTARR </th>\n",
       "   <th style=\"text-align:right;\"> CRISPRi-Growth </th>\n",
       "   <th style=\"text-align:right;\"> CRISPRi-HCRFF </th>\n",
       "   <th style=\"text-align:right;\"> LMPRA </th>\n",
       "   <th style=\"text-align:right;\"> TMPRA </th>\n",
       "   <th style=\"text-align:right;\"> WSTARR </th>\n",
       "  </tr>\n",
       " </thead>\n",
       "<tbody>\n",
       "  <tr>\n",
       "   <td style=\"text-align:right;\"> 14 </td>\n",
       "   <td style=\"text-align:right;\"> 24949 </td>\n",
       "   <td style=\"text-align:right;\"> NA </td>\n",
       "   <td style=\"text-align:right;\"> 11 </td>\n",
       "   <td style=\"text-align:right;\"> NA </td>\n",
       "   <td style=\"text-align:right;\"> 5 </td>\n",
       "  </tr>\n",
       "  <tr>\n",
       "   <td style=\"text-align:right;\"> 12 </td>\n",
       "   <td style=\"text-align:right;\"> 9487 </td>\n",
       "   <td style=\"text-align:right;\"> NA </td>\n",
       "   <td style=\"text-align:right;\"> 7 </td>\n",
       "   <td style=\"text-align:right;\"> NA </td>\n",
       "   <td style=\"text-align:right;\"> 36 </td>\n",
       "  </tr>\n",
       "  <tr>\n",
       "   <td style=\"text-align:right;\"> 74 </td>\n",
       "   <td style=\"text-align:right;\"> NA </td>\n",
       "   <td style=\"text-align:right;\"> NA </td>\n",
       "   <td style=\"text-align:right;\"> 16 </td>\n",
       "   <td style=\"text-align:right;\"> NA </td>\n",
       "   <td style=\"text-align:right;\"> 26 </td>\n",
       "  </tr>\n",
       "  <tr>\n",
       "   <td style=\"text-align:right;\"> 82 </td>\n",
       "   <td style=\"text-align:right;\"> 69245 </td>\n",
       "   <td style=\"text-align:right;\"> NA </td>\n",
       "   <td style=\"text-align:right;\"> 13 </td>\n",
       "   <td style=\"text-align:right;\"> NA </td>\n",
       "   <td style=\"text-align:right;\"> 20 </td>\n",
       "  </tr>\n",
       "  <tr>\n",
       "   <td style=\"text-align:right;\"> 190 </td>\n",
       "   <td style=\"text-align:right;\"> NA </td>\n",
       "   <td style=\"text-align:right;\"> NA </td>\n",
       "   <td style=\"text-align:right;\"> 42 </td>\n",
       "   <td style=\"text-align:right;\"> NA </td>\n",
       "   <td style=\"text-align:right;\"> 13 </td>\n",
       "  </tr>\n",
       "  <tr>\n",
       "   <td style=\"text-align:right;\"> 98 </td>\n",
       "   <td style=\"text-align:right;\"> 62152 </td>\n",
       "   <td style=\"text-align:right;\"> NA </td>\n",
       "   <td style=\"text-align:right;\"> 40 </td>\n",
       "   <td style=\"text-align:right;\"> NA </td>\n",
       "   <td style=\"text-align:right;\"> 109 </td>\n",
       "  </tr>\n",
       "</tbody>\n",
       "</table>"
      ]
     },
     "metadata": {},
     "output_type": "display_data"
    }
   ],
   "source": [
    "fun_display_table(head(mat_num_rank))"
   ]
  },
  {
   "cell_type": "code",
   "execution_count": 17,
   "id": "546a55b9-7e88-4623-b064-d361990dc38b",
   "metadata": {},
   "outputs": [
    {
     "data": {
      "text/html": [
       "<table>\n",
       " <thead>\n",
       "  <tr>\n",
       "   <th style=\"text-align:right;\"> ASTARR </th>\n",
       "   <th style=\"text-align:right;\"> CRISPRi-Growth </th>\n",
       "   <th style=\"text-align:right;\"> CRISPRi-HCRFF </th>\n",
       "   <th style=\"text-align:right;\"> LMPRA </th>\n",
       "   <th style=\"text-align:right;\"> TMPRA </th>\n",
       "   <th style=\"text-align:right;\"> WSTARR </th>\n",
       "  </tr>\n",
       " </thead>\n",
       "<tbody>\n",
       "  <tr>\n",
       "   <td style=\"text-align:right;\"> 0.9999134 </td>\n",
       "   <td style=\"text-align:right;\"> 0.6570392 </td>\n",
       "   <td style=\"text-align:right;\"> NA </td>\n",
       "   <td style=\"text-align:right;\"> 0.9998373 </td>\n",
       "   <td style=\"text-align:right;\"> NA </td>\n",
       "   <td style=\"text-align:right;\"> 0.9999727 </td>\n",
       "  </tr>\n",
       "  <tr>\n",
       "   <td style=\"text-align:right;\"> 0.9999267 </td>\n",
       "   <td style=\"text-align:right;\"> 0.8695957 </td>\n",
       "   <td style=\"text-align:right;\"> NA </td>\n",
       "   <td style=\"text-align:right;\"> 0.9999024 </td>\n",
       "   <td style=\"text-align:right;\"> NA </td>\n",
       "   <td style=\"text-align:right;\"> 0.9997612 </td>\n",
       "  </tr>\n",
       "  <tr>\n",
       "   <td style=\"text-align:right;\"> 0.9995135 </td>\n",
       "   <td style=\"text-align:right;\"> NA </td>\n",
       "   <td style=\"text-align:right;\"> NA </td>\n",
       "   <td style=\"text-align:right;\"> 0.9997560 </td>\n",
       "   <td style=\"text-align:right;\"> NA </td>\n",
       "   <td style=\"text-align:right;\"> 0.9998295 </td>\n",
       "  </tr>\n",
       "  <tr>\n",
       "   <td style=\"text-align:right;\"> 0.9994601 </td>\n",
       "   <td style=\"text-align:right;\"> 0.0481008 </td>\n",
       "   <td style=\"text-align:right;\"> NA </td>\n",
       "   <td style=\"text-align:right;\"> 0.9998048 </td>\n",
       "   <td style=\"text-align:right;\"> NA </td>\n",
       "   <td style=\"text-align:right;\"> 0.9998704 </td>\n",
       "  </tr>\n",
       "  <tr>\n",
       "   <td style=\"text-align:right;\"> 0.9987403 </td>\n",
       "   <td style=\"text-align:right;\"> NA </td>\n",
       "   <td style=\"text-align:right;\"> NA </td>\n",
       "   <td style=\"text-align:right;\"> 0.9993331 </td>\n",
       "   <td style=\"text-align:right;\"> NA </td>\n",
       "   <td style=\"text-align:right;\"> 0.9999181 </td>\n",
       "  </tr>\n",
       "  <tr>\n",
       "   <td style=\"text-align:right;\"> 0.9993535 </td>\n",
       "   <td style=\"text-align:right;\"> 0.1456085 </td>\n",
       "   <td style=\"text-align:right;\"> NA </td>\n",
       "   <td style=\"text-align:right;\"> 0.9993656 </td>\n",
       "   <td style=\"text-align:right;\"> NA </td>\n",
       "   <td style=\"text-align:right;\"> 0.9992633 </td>\n",
       "  </tr>\n",
       "</tbody>\n",
       "</table>"
      ]
     },
     "metadata": {},
     "output_type": "display_data"
    }
   ],
   "source": [
    "### normalize so top = 1 and bottom = 0\n",
    "mat_num_norm = apply(mat_num_rank, 2, function(vec){\n",
    "    res = fun_ranknorm(vec)\n",
    "    return(res)\n",
    "})\n",
    "fun_display_table(head(mat_num_norm))"
   ]
  },
  {
   "cell_type": "code",
   "execution_count": 18,
   "id": "6e82de72-ea2c-49d6-bba2-090dd172fcfa",
   "metadata": {},
   "outputs": [
    {
     "data": {
      "text/html": [
       "<style>\n",
       ".list-inline {list-style: none; margin:0; padding: 0}\n",
       ".list-inline>li {display: inline-block}\n",
       ".list-inline>li:not(:last-child)::after {content: \"\\00b7\"; padding: 0 .5ex}\n",
       "</style>\n",
       "<ol class=list-inline><li>6.76867834495942e-05</li><li>8.27204363623157e-05</li><li>7.34506801027823e-05</li><li>0.000205123184072065</li><li>0.000585046495290231</li><li>5.11776900917749e-05</li></ol>\n"
      ],
      "text/latex": [
       "\\begin{enumerate*}\n",
       "\\item 6.76867834495942e-05\n",
       "\\item 8.27204363623157e-05\n",
       "\\item 7.34506801027823e-05\n",
       "\\item 0.000205123184072065\n",
       "\\item 0.000585046495290231\n",
       "\\item 5.11776900917749e-05\n",
       "\\end{enumerate*}\n"
      ],
      "text/markdown": [
       "1. 6.76867834495942e-05\n",
       "2. 8.27204363623157e-05\n",
       "3. 7.34506801027823e-05\n",
       "4. 0.000205123184072065\n",
       "5. 0.000585046495290231\n",
       "6. 5.11776900917749e-05\n",
       "\n",
       "\n"
      ],
      "text/plain": [
       "[1] 6.768678e-05 8.272044e-05 7.345068e-05 2.051232e-04 5.850465e-04\n",
       "[6] 5.117769e-05"
      ]
     },
     "metadata": {},
     "output_type": "display_data"
    }
   ],
   "source": [
    "vec = apply(mat_num_norm, 1, fun_mad)\n",
    "head(vec)"
   ]
  },
  {
   "cell_type": "markdown",
   "id": "ae125467-b9f5-4b98-b83f-df1cefb160a3",
   "metadata": {},
   "source": [
    "**Apply RRA and Calculate RankNorm**"
   ]
  },
  {
   "cell_type": "code",
   "execution_count": 19,
   "id": "530d052a-57dc-4890-801a-aba147bc128d",
   "metadata": {},
   "outputs": [
    {
     "name": "stdout",
     "output_type": "stream",
     "text": [
      "$fcc_astarr_macs_input_overlap\n",
      "[1] 150041      8\n",
      "\n",
      "$fcc_astarr_macs_input_union\n",
      "[1] 246851      8\n",
      "\n"
     ]
    },
    {
     "data": {
      "text/html": [
       "<table class=\"dataframe\">\n",
       "<caption>A data.frame: 3 × 8</caption>\n",
       "<thead>\n",
       "\t<tr><th></th><th scope=col>Chrom</th><th scope=col>ChromStart</th><th scope=col>ChromEnd</th><th scope=col>Region</th><th scope=col>RankNorm</th><th scope=col>RankMAD</th><th scope=col>Pvalue</th><th scope=col>Padjust</th></tr>\n",
       "\t<tr><th></th><th scope=col>&lt;chr&gt;</th><th scope=col>&lt;chr&gt;</th><th scope=col>&lt;chr&gt;</th><th scope=col>&lt;chr&gt;</th><th scope=col>&lt;dbl&gt;</th><th scope=col>&lt;dbl&gt;</th><th scope=col>&lt;dbl&gt;</th><th scope=col>&lt;dbl&gt;</th></tr>\n",
       "</thead>\n",
       "<tbody>\n",
       "\t<tr><th scope=row>chr19:47244024-47244799</th><td>chr19</td><td>47244024 </td><td>47244799 </td><td>chr19:47244024-47244799 </td><td>0.9141906</td><td>6.768678e-05</td><td>9.163905e-11</td><td>1.374961e-05</td></tr>\n",
       "\t<tr><th scope=row>chr13:97259755-97260733</th><td>chr13</td><td>97259755 </td><td>97260733 </td><td>chr13:97259755-97260733 </td><td>0.9672965</td><td>8.272044e-05</td><td>2.369185e-10</td><td>1.777374e-05</td></tr>\n",
       "\t<tr><th scope=row>chr1:118963502-118964080</th><td>chr1 </td><td>118963502</td><td>118964080</td><td>chr1:118963502-118964080</td><td>0.9996996</td><td>7.345068e-05</td><td>3.599111e-10</td><td>1.800047e-05</td></tr>\n",
       "</tbody>\n",
       "</table>\n"
      ],
      "text/latex": [
       "A data.frame: 3 × 8\n",
       "\\begin{tabular}{r|llllllll}\n",
       "  & Chrom & ChromStart & ChromEnd & Region & RankNorm & RankMAD & Pvalue & Padjust\\\\\n",
       "  & <chr> & <chr> & <chr> & <chr> & <dbl> & <dbl> & <dbl> & <dbl>\\\\\n",
       "\\hline\n",
       "\tchr19:47244024-47244799 & chr19 & 47244024  & 47244799  & chr19:47244024-47244799  & 0.9141906 & 6.768678e-05 & 9.163905e-11 & 1.374961e-05\\\\\n",
       "\tchr13:97259755-97260733 & chr13 & 97259755  & 97260733  & chr13:97259755-97260733  & 0.9672965 & 8.272044e-05 & 2.369185e-10 & 1.777374e-05\\\\\n",
       "\tchr1:118963502-118964080 & chr1  & 118963502 & 118964080 & chr1:118963502-118964080 & 0.9996996 & 7.345068e-05 & 3.599111e-10 & 1.800047e-05\\\\\n",
       "\\end{tabular}\n"
      ],
      "text/markdown": [
       "\n",
       "A data.frame: 3 × 8\n",
       "\n",
       "| <!--/--> | Chrom &lt;chr&gt; | ChromStart &lt;chr&gt; | ChromEnd &lt;chr&gt; | Region &lt;chr&gt; | RankNorm &lt;dbl&gt; | RankMAD &lt;dbl&gt; | Pvalue &lt;dbl&gt; | Padjust &lt;dbl&gt; |\n",
       "|---|---|---|---|---|---|---|---|---|\n",
       "| chr19:47244024-47244799 | chr19 | 47244024  | 47244799  | chr19:47244024-47244799  | 0.9141906 | 6.768678e-05 | 9.163905e-11 | 1.374961e-05 |\n",
       "| chr13:97259755-97260733 | chr13 | 97259755  | 97260733  | chr13:97259755-97260733  | 0.9672965 | 8.272044e-05 | 2.369185e-10 | 1.777374e-05 |\n",
       "| chr1:118963502-118964080 | chr1  | 118963502 | 118964080 | chr1:118963502-118964080 | 0.9996996 | 7.345068e-05 | 3.599111e-10 | 1.800047e-05 |\n",
       "\n"
      ],
      "text/plain": [
       "                         Chrom ChromStart ChromEnd  Region                  \n",
       "chr19:47244024-47244799  chr19 47244024   47244799  chr19:47244024-47244799 \n",
       "chr13:97259755-97260733  chr13 97259755   97260733  chr13:97259755-97260733 \n",
       "chr1:118963502-118964080 chr1  118963502  118964080 chr1:118963502-118964080\n",
       "                         RankNorm  RankMAD      Pvalue       Padjust     \n",
       "chr19:47244024-47244799  0.9141906 6.768678e-05 9.163905e-11 1.374961e-05\n",
       "chr13:97259755-97260733  0.9672965 8.272044e-05 2.369185e-10 1.777374e-05\n",
       "chr1:118963502-118964080 0.9996996 7.345068e-05 3.599111e-10 1.800047e-05"
      ]
     },
     "metadata": {},
     "output_type": "display_data"
    }
   ],
   "source": [
    "lol = lol_vec_txt_region_sorted\n",
    "lst = lapply(lol, function(lst){\n",
    "    ### apply robust aggregate ranks (RRA)\n",
    "    dat = aggregateRanks(lst, method = \"RRA\", full = TRUE)\n",
    "    \n",
    "    ### calculate raw-rank matrix\n",
    "    mat_num_rank = sapply(lst, function(x){match(dat$Name, x)})\n",
    "    \n",
    "    ### normalize so top = 1 and bottom = 0\n",
    "    mat_num_norm = apply(mat_num_rank, 2, function(vec){\n",
    "        res = fun_ranknorm(vec)\n",
    "        return(res)\n",
    "    })\n",
    "    \n",
    "    ### summarize scores and pvalues\n",
    "    dat = dat %>%\n",
    "        dplyr::mutate(\n",
    "            RankNorm = rowMeans(mat_num_norm, na.rm = TRUE),\n",
    "            RankMAD  = apply(mat_num_norm, 1, fun_mad),\n",
    "            Padjust  = p.adjust(Score, method = \"BH\")\n",
    "        )\n",
    "\n",
    "    ### rename column\n",
    "    dat = dat %>% \n",
    "        dplyr::rename(Region = Name, Pvalue = Score) %>%\n",
    "        tidyr::separate(Region, into = c(\"Chrom\", \"ChromStart\", \"ChromEnd\"), remove = FALSE) %>%\n",
    "        dplyr::select(\n",
    "            Chrom, ChromStart, ChromEnd, Region, \n",
    "            RankNorm, \n",
    "            RankMAD,\n",
    "            Pvalue, \n",
    "            Padjust\n",
    "        )\n",
    "    \n",
    "    return(dat)\n",
    "})\n",
    "\n",
    "### assign and show\n",
    "lst_dat_region_rankagg = lst\n",
    "\n",
    "res = lapply(lst, dim)\n",
    "print(res)\n",
    "\n",
    "dat = lst[[1]]\n",
    "head(dat, 3)"
   ]
  },
  {
   "cell_type": "markdown",
   "id": "840c2475-e8f2-4478-b086-bb6f4d604603",
   "metadata": {},
   "source": [
    "## Export results"
   ]
  },
  {
   "cell_type": "code",
   "execution_count": 20,
   "id": "86ae9bca-e7df-44d6-998f-a38cd16d0257",
   "metadata": {},
   "outputs": [],
   "source": [
    "for (txt_folder in VEC_TXT_FOLDER){\n",
    "    ### get tables\n",
    "    dat_region_score = lst_dat_region_rankagg[[txt_folder]]\n",
    "    \n",
    "    ### set file directory\n",
    "    txt_fdiry  = file.path(FD_RES, \"analysis_fcc_correlation\", txt_folder)\n",
    "    \n",
    "    ### write table\n",
    "    txt_fname = \"region.coverage.ranknorm.aggregate.starrmpracrispr.tsv\"\n",
    "    txt_fpath = file.path(txt_fdiry, txt_fname)\n",
    "    \n",
    "    dat = dat_region_score\n",
    "    dat = dat %>% dplyr::arrange(Chrom, ChromStart, ChromEnd)\n",
    "    write_tsv(dat, txt_fpath)\n",
    "}"
   ]
  },
  {
   "cell_type": "code",
   "execution_count": null,
   "id": "b950b123-779a-4d4f-abab-7b0bf3c5a565",
   "metadata": {},
   "outputs": [],
   "source": []
  },
  {
   "cell_type": "code",
   "execution_count": null,
   "id": "c8537ba5-bca0-4a01-8309-aa39cc3368dc",
   "metadata": {},
   "outputs": [],
   "source": []
  }
 ],
 "metadata": {
  "kernelspec": {
   "display_name": "R",
   "language": "R",
   "name": "ir"
  },
  "language_info": {
   "codemirror_mode": "r",
   "file_extension": ".r",
   "mimetype": "text/x-r-source",
   "name": "R",
   "pygments_lexer": "r",
   "version": "4.5.1"
  }
 },
 "nbformat": 4,
 "nbformat_minor": 5
}
