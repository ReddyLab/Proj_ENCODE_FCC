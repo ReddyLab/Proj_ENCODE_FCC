{
 "cells": [
  {
   "cell_type": "raw",
   "id": "6e370668-352f-4850-b681-ee0578770037",
   "metadata": {},
   "source": [
    "---\n",
    "title: CRISPR vs STARRMPRA 01\n",
    "subtitle: Prepare CRISPR group/score and STARRMPRA score for comparison\n",
    "format:\n",
    "    html:\n",
    "        code-fold:  true\n",
    "        code-tools: true\n",
    "---"
   ]
  },
  {
   "cell_type": "markdown",
   "id": "272c6e36-f72f-4e6e-99f8-ed66a08ec46b",
   "metadata": {},
   "source": [
    "**Set environment**"
   ]
  },
  {
   "cell_type": "code",
   "execution_count": 1,
   "id": "703fb14d-a605-404d-be43-fe343876dfd4",
   "metadata": {},
   "outputs": [
    {
     "name": "stdout",
     "output_type": "stream",
     "text": [
      "You are working on        Singularity: singularity_proj_encode_fcc \n",
      "BASE DIRECTORY (FD_BASE): /data/reddylab/Kuei \n",
      "REPO DIRECTORY (FD_REPO): /data/reddylab/Kuei/repo \n",
      "WORK DIRECTORY (FD_WORK): /data/reddylab/Kuei/work \n",
      "DATA DIRECTORY (FD_DATA): /data/reddylab/Kuei/data \n",
      "\n",
      "You are working with      ENCODE FCC \n",
      "PATH OF PROJECT (FD_PRJ): /data/reddylab/Kuei/repo/Proj_ENCODE_FCC \n",
      "PROJECT RESULTS (FD_RES): /data/reddylab/Kuei/repo/Proj_ENCODE_FCC/results \n",
      "PROJECT SCRIPTS (FD_EXE): /data/reddylab/Kuei/repo/Proj_ENCODE_FCC/scripts \n",
      "PROJECT DATA    (FD_DAT): /data/reddylab/Kuei/repo/Proj_ENCODE_FCC/data \n",
      "PROJECT NOTE    (FD_NBK): /data/reddylab/Kuei/repo/Proj_ENCODE_FCC/notebooks \n",
      "PROJECT DOCS    (FD_DOC): /data/reddylab/Kuei/repo/Proj_ENCODE_FCC/docs \n",
      "PROJECT LOG     (FD_LOG): /data/reddylab/Kuei/repo/Proj_ENCODE_FCC/log \n",
      "PROJECT REF     (FD_REF): /data/reddylab/Kuei/repo/Proj_ENCODE_FCC/references \n",
      "\n"
     ]
    }
   ],
   "source": [
    "suppressMessages(suppressWarnings(source(\"../run_config_project_sing.R\")))\n",
    "show_env()"
   ]
  },
  {
   "cell_type": "markdown",
   "id": "465441e9-5add-47d8-b2df-0f86ad4b0c7e",
   "metadata": {},
   "source": [
    "**Check: region directory**"
   ]
  },
  {
   "cell_type": "code",
   "execution_count": 2,
   "id": "521c8d52-f007-4d9a-8921-8bcaf50a3bb7",
   "metadata": {},
   "outputs": [
    {
     "name": "stdout",
     "output_type": "stream",
     "text": [
      "atac_ENCFF333TAT \n",
      "atac_ENCFF558BLC \n",
      "atac_ENCFF925CYR \n",
      "atac_ENCFF948AFM \n",
      "dnase_ENCFF185XRG \n",
      "dnase_ENCFF274YGF \n",
      "fcc_astarr_macs_input_overlap \n",
      "fcc_astarr_macs_input_union \n"
     ]
    }
   ],
   "source": [
    "txt_fdiry = file.path(FD_RES, \"region_coverage_fcc_score\")\n",
    "\n",
    "vec = dir(txt_fdiry)\n",
    "for (txt in vec){cat(txt, \"\\n\")}"
   ]
  },
  {
   "cell_type": "markdown",
   "id": "00737283-e879-4ebc-9ecc-9be71014351f",
   "metadata": {},
   "source": [
    "**Check: assay directory**"
   ]
  },
  {
   "cell_type": "code",
   "execution_count": 3,
   "id": "4b7e4919-989c-4e7c-b2a5-717513b271dc",
   "metadata": {},
   "outputs": [
    {
     "name": "stdout",
     "output_type": "stream",
     "text": [
      "CRISPRi_FlowFISH_K562_Riley_JinWoo \n",
      "CRISPRi_Growth_K562_Gersbach_JinWoo \n",
      "MPRA_Lenti_K562_Nadav_Vikram \n",
      "MPRA_Tiling_K562_Tewhey_Hannah \n",
      "STARR_ATAC_K562_Reddy_KS274 \n",
      "STARR_ATAC_K562_Reddy_KS91 \n",
      "STARR_ATAC_K562_Reddy_KSMerge \n",
      "STARR_WHG_K562_Reddy_A001 \n",
      "summary \n"
     ]
    }
   ],
   "source": [
    "txt_region = \"fcc_astarr_macs_input_union\"\n",
    "txt_fdiry  = file.path(FD_RES, \"region_coverage_fcc_score\", txt_region)\n",
    "vec = dir(txt_fdiry)\n",
    "for (txt in vec) {cat(txt, \"\\n\")}"
   ]
  },
  {
   "cell_type": "markdown",
   "id": "8c9ff5a5-4342-4ccd-866b-11d3652976e8",
   "metadata": {},
   "source": [
    "**Set global variable**"
   ]
  },
  {
   "cell_type": "code",
   "execution_count": 4,
   "id": "3346a35e-8040-4bf2-a8ba-6e2c67e7bd85",
   "metadata": {},
   "outputs": [
    {
     "name": "stdout",
     "output_type": "stream",
     "text": [
      "fcc_astarr_macs_input_overlap \n",
      "fcc_astarr_macs_input_union \n"
     ]
    }
   ],
   "source": [
    "## init: region folder\n",
    "vec = c(\"fcc_astarr_macs_input_overlap\", \"fcc_astarr_macs_input_union\")\n",
    "names(vec) = vec\n",
    "\n",
    "VEC_TXT_FOLDER = vec\n",
    "for (txt in vec) {cat(txt, \"\\n\")}"
   ]
  },
  {
   "cell_type": "code",
   "execution_count": 5,
   "id": "f9dcce02-9c22-41ed-a599-87da1a382557",
   "metadata": {},
   "outputs": [],
   "source": [
    "vec = c(\"CRISPRi-HCRFF\", \"CRISPRi-Growth\", \"ENCODE-rE2G Benchmark\")\n",
    "names(vec) = vec\n",
    "VEC_TXT_ASSAY_OUT = vec\n",
    "\n",
    "vec = c(\"ASTARR\", \"WSTARR\", \"LMPRA\", \"TMPRA\", \"ATAC\")\n",
    "names(vec) = vec\n",
    "VEC_TXT_ASSAY_INP = vec"
   ]
  },
  {
   "cell_type": "markdown",
   "id": "df2dee1f-df44-4f34-9973-ca39a64eef5b",
   "metadata": {},
   "source": [
    "**Check input files**"
   ]
  },
  {
   "cell_type": "code",
   "execution_count": 6,
   "id": "ef4f6f22-4a68-42c5-9e3e-070b8a505bef",
   "metadata": {},
   "outputs": [
    {
     "name": "stdout",
     "output_type": "stream",
     "text": [
      "/data/reddylab/Kuei/repo/Proj_ENCODE_FCC/results/analysis_fcc_correlation/fcc_astarr_macs_input_overlap/region.coverage.score.concat.tsv \n"
     ]
    }
   ],
   "source": [
    "txt_folder = VEC_TXT_FOLDER[1]\n",
    "txt_fdiry  = file.path(FD_RES, \"analysis_fcc_correlation\", txt_folder)\n",
    "txt_fname  = \"region.coverage.score.*.tsv\"\n",
    "txt_fglob  = file.path(txt_fdiry, txt_fname)\n",
    "\n",
    "vec = Sys.glob(txt_fglob)\n",
    "for (txt in vec) {cat(txt, \"\\n\")}"
   ]
  },
  {
   "cell_type": "markdown",
   "id": "90f23933-015a-41c3-a8b3-1de204acd3a0",
   "metadata": {},
   "source": [
    "## Import data"
   ]
  },
  {
   "cell_type": "code",
   "execution_count": 7,
   "id": "76a638e1-0e45-43bd-b029-2e431efdf220",
   "metadata": {},
   "outputs": [
    {
     "name": "stdout",
     "output_type": "stream",
     "text": [
      "$fcc_astarr_macs_input_overlap\n",
      "[1] 586004      8\n",
      "\n",
      "$fcc_astarr_macs_input_union\n",
      "[1] 889739      8\n",
      "\n"
     ]
    },
    {
     "data": {
      "text/html": [
       "<table class=\"dataframe\">\n",
       "<caption>A tibble: 3 × 8</caption>\n",
       "<thead>\n",
       "\t<tr><th scope=col>Chrom</th><th scope=col>ChromStart</th><th scope=col>ChromEnd</th><th scope=col>Region</th><th scope=col>Score</th><th scope=col>Score_Label</th><th scope=col>Assay_Group</th><th scope=col>Assay_Label</th></tr>\n",
       "\t<tr><th scope=col>&lt;chr&gt;</th><th scope=col>&lt;dbl&gt;</th><th scope=col>&lt;dbl&gt;</th><th scope=col>&lt;chr&gt;</th><th scope=col>&lt;dbl&gt;</th><th scope=col>&lt;chr&gt;</th><th scope=col>&lt;chr&gt;</th><th scope=col>&lt;chr&gt;</th></tr>\n",
       "</thead>\n",
       "<tbody>\n",
       "\t<tr><td>chr1</td><td>10038</td><td>10405</td><td>chr1:10038-10405</td><td>-3.5573621</td><td>Scale(Log2FC)</td><td>ASTARR_KS91</td><td>ASTARR</td></tr>\n",
       "\t<tr><td>chr1</td><td>14282</td><td>14614</td><td>chr1:14282-14614</td><td> 0.0361388</td><td>Scale(Log2FC)</td><td>ASTARR_KS91</td><td>ASTARR</td></tr>\n",
       "\t<tr><td>chr1</td><td>16025</td><td>16338</td><td>chr1:16025-16338</td><td>-2.1376311</td><td>Scale(Log2FC)</td><td>ASTARR_KS91</td><td>ASTARR</td></tr>\n",
       "</tbody>\n",
       "</table>\n"
      ],
      "text/latex": [
       "A tibble: 3 × 8\n",
       "\\begin{tabular}{llllllll}\n",
       " Chrom & ChromStart & ChromEnd & Region & Score & Score\\_Label & Assay\\_Group & Assay\\_Label\\\\\n",
       " <chr> & <dbl> & <dbl> & <chr> & <dbl> & <chr> & <chr> & <chr>\\\\\n",
       "\\hline\n",
       "\t chr1 & 10038 & 10405 & chr1:10038-10405 & -3.5573621 & Scale(Log2FC) & ASTARR\\_KS91 & ASTARR\\\\\n",
       "\t chr1 & 14282 & 14614 & chr1:14282-14614 &  0.0361388 & Scale(Log2FC) & ASTARR\\_KS91 & ASTARR\\\\\n",
       "\t chr1 & 16025 & 16338 & chr1:16025-16338 & -2.1376311 & Scale(Log2FC) & ASTARR\\_KS91 & ASTARR\\\\\n",
       "\\end{tabular}\n"
      ],
      "text/markdown": [
       "\n",
       "A tibble: 3 × 8\n",
       "\n",
       "| Chrom &lt;chr&gt; | ChromStart &lt;dbl&gt; | ChromEnd &lt;dbl&gt; | Region &lt;chr&gt; | Score &lt;dbl&gt; | Score_Label &lt;chr&gt; | Assay_Group &lt;chr&gt; | Assay_Label &lt;chr&gt; |\n",
       "|---|---|---|---|---|---|---|---|\n",
       "| chr1 | 10038 | 10405 | chr1:10038-10405 | -3.5573621 | Scale(Log2FC) | ASTARR_KS91 | ASTARR |\n",
       "| chr1 | 14282 | 14614 | chr1:14282-14614 |  0.0361388 | Scale(Log2FC) | ASTARR_KS91 | ASTARR |\n",
       "| chr1 | 16025 | 16338 | chr1:16025-16338 | -2.1376311 | Scale(Log2FC) | ASTARR_KS91 | ASTARR |\n",
       "\n"
      ],
      "text/plain": [
       "  Chrom ChromStart ChromEnd Region           Score      Score_Label  \n",
       "1 chr1  10038      10405    chr1:10038-10405 -3.5573621 Scale(Log2FC)\n",
       "2 chr1  14282      14614    chr1:14282-14614  0.0361388 Scale(Log2FC)\n",
       "3 chr1  16025      16338    chr1:16025-16338 -2.1376311 Scale(Log2FC)\n",
       "  Assay_Group Assay_Label\n",
       "1 ASTARR_KS91 ASTARR     \n",
       "2 ASTARR_KS91 ASTARR     \n",
       "3 ASTARR_KS91 ASTARR     "
      ]
     },
     "metadata": {},
     "output_type": "display_data"
    }
   ],
   "source": [
    "lst = lapply(VEC_TXT_FOLDER, function(txt_folder){\n",
    "    ### set file directory\n",
    "    txt_fdiry  = file.path(FD_RES, \"analysis_fcc_correlation\", txt_folder)\n",
    "    txt_fname = \"region.coverage.score.concat.tsv\"\n",
    "    txt_fpath = file.path(txt_fdiry, txt_fname)\n",
    "\n",
    "    ### read table\n",
    "    dat = read_tsv(txt_fpath, show_col_types = FALSE)\n",
    "    return(dat)\n",
    "})\n",
    "\n",
    "### assign and show\n",
    "lst_dat_region_score_import = lst\n",
    "\n",
    "res = lapply(lst, dim)\n",
    "print(res)\n",
    "\n",
    "dat = lst[[1]]\n",
    "head(dat, 3)"
   ]
  },
  {
   "cell_type": "markdown",
   "id": "78e7a0dc-1bb8-4071-bb74-ad3574b3e48b",
   "metadata": {},
   "source": [
    "**Check: Score distribution**"
   ]
  },
  {
   "cell_type": "code",
   "execution_count": 8,
   "id": "5161fdbe-1c1f-4125-bd94-d6d3e7c16455",
   "metadata": {},
   "outputs": [
    {
     "data": {
      "image/png": "[encoded data removed]",
      "text/plain": [
       "plot without title"
      ]
     },
     "metadata": {
      "image/png": {
       "height": 300,
       "width": 600
      }
     },
     "output_type": "display_data"
    }
   ],
   "source": [
    "idx = \"fcc_astarr_macs_input_overlap\"\n",
    "lst = lst_dat_region_score_import\n",
    "dat = lst[[idx]]\n",
    "\n",
    "lst = split(dat, dat$Assay_Label)\n",
    "lst = lapply(lst, function(dat){\n",
    "    vec = dat$Assay_Label\n",
    "    txt = paste(unique(vec), collapse = \";\")\n",
    "    gpt = ggplot(dat, aes(x = Score)) + \n",
    "        geom_histogram(bins = 50) +\n",
    "        theme_cowplot() +\n",
    "        background_grid() +\n",
    "        labs(title=txt)\n",
    "    return(gpt)\n",
    "})\n",
    "\n",
    "\n",
    "idx = c(\n",
    "    \"ASTARR\", \"LMPRA\", \"CRISPRi-Growth\", \"ENCODE-rE2G Benchmark\",\n",
    "    \"WSTARR\", \"TMPRA\", \"CRISPRi-HCRFF\",  \"ATAC\"\n",
    ")\n",
    "lst = lst[idx]\n",
    "\n",
    "options(repr.plot.height=5, repr.plot.width=10)\n",
    "plot_grid(plotlist = lst, nrow=2, align = \"v\")"
   ]
  },
  {
   "cell_type": "markdown",
   "id": "cf33b020-9531-4ceb-ad76-206cb3e126f4",
   "metadata": {},
   "source": [
    "**Check: Assay count**"
   ]
  },
  {
   "cell_type": "code",
   "execution_count": 9,
   "id": "2f74cc9f-0af1-436b-8f1d-c983bce48422",
   "metadata": {},
   "outputs": [
    {
     "data": {
      "text/html": [
       "<table>\n",
       " <thead>\n",
       "  <tr>\n",
       "   <th style=\"text-align:left;\"> Assay_Group </th>\n",
       "   <th style=\"text-align:left;\"> Assay_Label </th>\n",
       "   <th style=\"text-align:right;\"> fcc_astarr_macs_input_overlap </th>\n",
       "   <th style=\"text-align:right;\"> fcc_astarr_macs_input_union </th>\n",
       "  </tr>\n",
       " </thead>\n",
       "<tbody>\n",
       "  <tr>\n",
       "   <td style=\"text-align:left;\"> ASTARR_KS91 </td>\n",
       "   <td style=\"text-align:left;\"> ASTARR </td>\n",
       "   <td style=\"text-align:right;\"> 150040 </td>\n",
       "   <td style=\"text-align:right;\"> 246850 </td>\n",
       "  </tr>\n",
       "  <tr>\n",
       "   <td style=\"text-align:left;\"> ASTARR_KS91 </td>\n",
       "   <td style=\"text-align:left;\"> ATAC </td>\n",
       "   <td style=\"text-align:right;\"> 150041 </td>\n",
       "   <td style=\"text-align:right;\"> 246852 </td>\n",
       "  </tr>\n",
       "  <tr>\n",
       "   <td style=\"text-align:left;\"> CRISPRi-Growth </td>\n",
       "   <td style=\"text-align:left;\"> CRISPRi-Growth </td>\n",
       "   <td style=\"text-align:right;\"> 72743 </td>\n",
       "   <td style=\"text-align:right;\"> 80288 </td>\n",
       "  </tr>\n",
       "  <tr>\n",
       "   <td style=\"text-align:left;\"> CRISPRi-HCRFF </td>\n",
       "   <td style=\"text-align:left;\"> CRISPRi-HCRFF </td>\n",
       "   <td style=\"text-align:right;\"> 925 </td>\n",
       "   <td style=\"text-align:right;\"> 1330 </td>\n",
       "  </tr>\n",
       "  <tr>\n",
       "   <td style=\"text-align:left;\"> ENCODE-rE2G </td>\n",
       "   <td style=\"text-align:left;\"> ENCODE-rE2G Benchmark </td>\n",
       "   <td style=\"text-align:right;\"> 3035 </td>\n",
       "   <td style=\"text-align:right;\"> 3169 </td>\n",
       "  </tr>\n",
       "  <tr>\n",
       "   <td style=\"text-align:left;\"> LMPRA </td>\n",
       "   <td style=\"text-align:left;\"> LMPRA </td>\n",
       "   <td style=\"text-align:right;\"> 61478 </td>\n",
       "   <td style=\"text-align:right;\"> 68497 </td>\n",
       "  </tr>\n",
       "  <tr>\n",
       "   <td style=\"text-align:left;\"> TMPRA </td>\n",
       "   <td style=\"text-align:left;\"> TMPRA </td>\n",
       "   <td style=\"text-align:right;\"> 1148 </td>\n",
       "   <td style=\"text-align:right;\"> 1722 </td>\n",
       "  </tr>\n",
       "  <tr>\n",
       "   <td style=\"text-align:left;\"> WSTARR </td>\n",
       "   <td style=\"text-align:left;\"> WSTARR </td>\n",
       "   <td style=\"text-align:right;\"> 146594 </td>\n",
       "   <td style=\"text-align:right;\"> 241031 </td>\n",
       "  </tr>\n",
       "</tbody>\n",
       "</table>"
      ]
     },
     "metadata": {},
     "output_type": "display_data"
    }
   ],
   "source": [
    "lst = lst_dat_region_score_import\n",
    "lst = lapply(lst, function(dat){\n",
    "    dat = dat %>% \n",
    "        dplyr::group_by(Assay_Group, Assay_Label) %>%\n",
    "        dplyr::summarise(Freq = n(), .groups = \"drop\")\n",
    "    return(dat)\n",
    "})\n",
    "\n",
    "dat = bind_rows(lst, .id = \"Folder\")\n",
    "dat = dat %>% tidyr::spread(Folder, Freq)\n",
    "fun_display_table(dat)"
   ]
  },
  {
   "cell_type": "markdown",
   "id": "c395e46a-4fa9-4599-839c-e38cd6a091c4",
   "metadata": {},
   "source": [
    "**Check: Missing values**"
   ]
  },
  {
   "cell_type": "code",
   "execution_count": 10,
   "id": "b6d5c030-bcc7-4c6f-bb07-2f18a3fe53d4",
   "metadata": {},
   "outputs": [
    {
     "name": "stdout",
     "output_type": "stream",
     "text": [
      "$fcc_astarr_macs_input_overlap\n",
      "[1] FALSE\n",
      "\n",
      "$fcc_astarr_macs_input_union\n",
      "[1] FALSE\n",
      "\n"
     ]
    }
   ],
   "source": [
    "lst = lst_dat_region_score_import\n",
    "lst = lapply(lst, function(dat){\n",
    "    tmp = any(is.na(dat))\n",
    "    return(tmp)\n",
    "})\n",
    "\n",
    "print(lst)"
   ]
  },
  {
   "cell_type": "markdown",
   "id": "0bffb4cf-6370-4695-b1ab-3a74a4594c69",
   "metadata": {},
   "source": [
    "## Arrange table"
   ]
  },
  {
   "cell_type": "code",
   "execution_count": 11,
   "id": "99c73248-a9e6-4a60-8cb6-5fbc1ccda837",
   "metadata": {},
   "outputs": [
    {
     "name": "stdout",
     "output_type": "stream",
     "text": [
      "[1] \"ASTARR\"                \"ATAC\"                  \"CRISPRi-Growth\"       \n",
      "[4] \"CRISPRi-HCRFF\"         \"ENCODE-rE2G Benchmark\" \"LMPRA\"                \n",
      "[7] \"TMPRA\"                 \"WSTARR\"               \n"
     ]
    }
   ],
   "source": [
    "### select and split regions by assay\n",
    "idx = \"fcc_astarr_macs_input_union\"\n",
    "lst = lst_dat_region_score_import\n",
    "\n",
    "dat = lst[[idx]]\n",
    "lst = split(dat, dat$Assay_Label)\n",
    "\n",
    "### assign and show\n",
    "lst_dat_region_score = lst\n",
    "print(names(lst))"
   ]
  },
  {
   "cell_type": "code",
   "execution_count": 12,
   "id": "dd086d22-dcb9-4c26-81a7-9d72be898cef",
   "metadata": {},
   "outputs": [
    {
     "data": {
      "text/html": [
       "<table>\n",
       " <thead>\n",
       "  <tr>\n",
       "   <th style=\"text-align:left;\"> Chrom </th>\n",
       "   <th style=\"text-align:right;\"> ChromStart </th>\n",
       "   <th style=\"text-align:right;\"> ChromEnd </th>\n",
       "   <th style=\"text-align:left;\"> Region </th>\n",
       "   <th style=\"text-align:right;\"> Score </th>\n",
       "   <th style=\"text-align:left;\"> Score_Label </th>\n",
       "   <th style=\"text-align:left;\"> Assay_Group </th>\n",
       "   <th style=\"text-align:left;\"> Assay_Label </th>\n",
       "  </tr>\n",
       " </thead>\n",
       "<tbody>\n",
       "  <tr>\n",
       "   <td style=\"text-align:left;\"> chr1 </td>\n",
       "   <td style=\"text-align:right;\"> 10015 </td>\n",
       "   <td style=\"text-align:right;\"> 10442 </td>\n",
       "   <td style=\"text-align:left;\"> chr1:10015-10442 </td>\n",
       "   <td style=\"text-align:right;\"> -3.7814427 </td>\n",
       "   <td style=\"text-align:left;\"> Scale(Log2FC) </td>\n",
       "   <td style=\"text-align:left;\"> ASTARR_KS91 </td>\n",
       "   <td style=\"text-align:left;\"> ASTARR </td>\n",
       "  </tr>\n",
       "  <tr>\n",
       "   <td style=\"text-align:left;\"> chr1 </td>\n",
       "   <td style=\"text-align:right;\"> 14253 </td>\n",
       "   <td style=\"text-align:right;\"> 14645 </td>\n",
       "   <td style=\"text-align:left;\"> chr1:14253-14645 </td>\n",
       "   <td style=\"text-align:right;\"> 0.5653917 </td>\n",
       "   <td style=\"text-align:left;\"> Scale(Log2FC) </td>\n",
       "   <td style=\"text-align:left;\"> ASTARR_KS91 </td>\n",
       "   <td style=\"text-align:left;\"> ASTARR </td>\n",
       "  </tr>\n",
       "  <tr>\n",
       "   <td style=\"text-align:left;\"> chr1 </td>\n",
       "   <td style=\"text-align:right;\"> 16015 </td>\n",
       "   <td style=\"text-align:right;\"> 16477 </td>\n",
       "   <td style=\"text-align:left;\"> chr1:16015-16477 </td>\n",
       "   <td style=\"text-align:right;\"> -2.0997884 </td>\n",
       "   <td style=\"text-align:left;\"> Scale(Log2FC) </td>\n",
       "   <td style=\"text-align:left;\"> ASTARR_KS91 </td>\n",
       "   <td style=\"text-align:left;\"> ASTARR </td>\n",
       "  </tr>\n",
       "</tbody>\n",
       "</table>"
      ]
     },
     "metadata": {},
     "output_type": "display_data"
    }
   ],
   "source": [
    "lst = lst_dat_region_score\n",
    "dat = lst[[1]]\n",
    "fun_display_table(head(dat, 3))"
   ]
  },
  {
   "cell_type": "markdown",
   "id": "549c5519-6c88-47e7-80ab-56a3a1f16854",
   "metadata": {},
   "source": [
    "## Prepare CRISPR groups with different threshold"
   ]
  },
  {
   "cell_type": "markdown",
   "id": "d72afd94-435b-4482-a62f-9a3093923afe",
   "metadata": {},
   "source": [
    "**Setup different hit rate**"
   ]
  },
  {
   "cell_type": "code",
   "execution_count": 13,
   "id": "ccf09266-6fb9-4fa4-90d6-b092b78c7982",
   "metadata": {},
   "outputs": [
    {
     "name": "stdout",
     "output_type": "stream",
     "text": [
      "0.01 0.02 0.03 0.04 0.05 0.06 0.07 0.08 0.09 0.10 0.20 0.30 0.40 0.50 \n",
      "0.01 0.02 0.03 0.04 0.05 0.06 0.07 0.08 0.09 0.10 0.20 0.30 0.40 0.50 \n"
     ]
    }
   ],
   "source": [
    "vec = c(\n",
    "    seq(0.01, 0.1, 0.01), \n",
    "    seq(0.2,  0.5, 0.1)\n",
    ")\n",
    "names(vec) = str_pad(\n",
    "    string = as.character(vec), \n",
    "    width  = 4, \n",
    "    side   = \"right\", \n",
    "    pad    = 0\n",
    ")\n",
    "#names(vec) = paste0(\"Top_\", str_pad(string = round(vec, 2) * 100, width = 2, pad = 0), \"%\")\n",
    "\n",
    "vec_num_hit_rate = vec\n",
    "print(vec)"
   ]
  },
  {
   "cell_type": "markdown",
   "id": "b5bb7b7e-b166-4c6d-845e-94f24fd27659",
   "metadata": {},
   "source": [
    "**Prepare CRISPR groups based on different hit rate**"
   ]
  },
  {
   "cell_type": "code",
   "execution_count": 14,
   "id": "b63538c4-923c-472f-ad1f-94614b7a6909",
   "metadata": {},
   "outputs": [
    {
     "name": "stdout",
     "output_type": "stream",
     "text": [
      "$`0.01`\n",
      "[1] 166020      5\n",
      "\n",
      "$`0.02`\n",
      "[1] 166020      5\n",
      "\n",
      "$`0.03`\n",
      "[1] 166020      5\n",
      "\n",
      "$`0.04`\n",
      "[1] 166020      5\n",
      "\n",
      "$`0.05`\n",
      "[1] 166020      5\n",
      "\n",
      "$`0.06`\n",
      "[1] 166020      5\n",
      "\n",
      "$`0.07`\n",
      "[1] 166020      5\n",
      "\n",
      "$`0.08`\n",
      "[1] 166020      5\n",
      "\n",
      "$`0.09`\n",
      "[1] 166020      5\n",
      "\n",
      "$`0.10`\n",
      "[1] 166020      5\n",
      "\n",
      "$`0.20`\n",
      "[1] 166020      5\n",
      "\n",
      "$`0.30`\n",
      "[1] 166020      5\n",
      "\n",
      "$`0.40`\n",
      "[1] 166020      5\n",
      "\n",
      "$`0.50`\n",
      "[1] 166020      5\n",
      "\n"
     ]
    },
    {
     "data": {
      "text/html": [
       "<table class=\"dataframe\">\n",
       "<caption>A tibble: 3 × 5</caption>\n",
       "<thead>\n",
       "\t<tr><th scope=col>Assay_CRISPR</th><th scope=col>Region</th><th scope=col>Group_CRISPR</th><th scope=col>Score_CRISPR</th><th scope=col>CutOff_CRISPR</th></tr>\n",
       "\t<tr><th scope=col>&lt;chr&gt;</th><th scope=col>&lt;chr&gt;</th><th scope=col>&lt;dbl&gt;</th><th scope=col>&lt;dbl&gt;</th><th scope=col>&lt;dbl&gt;</th></tr>\n",
       "</thead>\n",
       "<tbody>\n",
       "\t<tr><td>CRISPRi-HCRFF</td><td>chr11:4092104-4092566</td><td>0</td><td>-0.13403994</td><td>0.01</td></tr>\n",
       "\t<tr><td>CRISPRi-HCRFF</td><td>chr11:4094204-4095676</td><td>0</td><td>-0.04821938</td><td>0.01</td></tr>\n",
       "\t<tr><td>CRISPRi-HCRFF</td><td>chr11:4144511-4147030</td><td>0</td><td>-0.07024901</td><td>0.01</td></tr>\n",
       "</tbody>\n",
       "</table>\n"
      ],
      "text/latex": [
       "A tibble: 3 × 5\n",
       "\\begin{tabular}{lllll}\n",
       " Assay\\_CRISPR & Region & Group\\_CRISPR & Score\\_CRISPR & CutOff\\_CRISPR\\\\\n",
       " <chr> & <chr> & <dbl> & <dbl> & <dbl>\\\\\n",
       "\\hline\n",
       "\t CRISPRi-HCRFF & chr11:4092104-4092566 & 0 & -0.13403994 & 0.01\\\\\n",
       "\t CRISPRi-HCRFF & chr11:4094204-4095676 & 0 & -0.04821938 & 0.01\\\\\n",
       "\t CRISPRi-HCRFF & chr11:4144511-4147030 & 0 & -0.07024901 & 0.01\\\\\n",
       "\\end{tabular}\n"
      ],
      "text/markdown": [
       "\n",
       "A tibble: 3 × 5\n",
       "\n",
       "| Assay_CRISPR &lt;chr&gt; | Region &lt;chr&gt; | Group_CRISPR &lt;dbl&gt; | Score_CRISPR &lt;dbl&gt; | CutOff_CRISPR &lt;dbl&gt; |\n",
       "|---|---|---|---|---|\n",
       "| CRISPRi-HCRFF | chr11:4092104-4092566 | 0 | -0.13403994 | 0.01 |\n",
       "| CRISPRi-HCRFF | chr11:4094204-4095676 | 0 | -0.04821938 | 0.01 |\n",
       "| CRISPRi-HCRFF | chr11:4144511-4147030 | 0 | -0.07024901 | 0.01 |\n",
       "\n"
      ],
      "text/plain": [
       "  Assay_CRISPR  Region                Group_CRISPR Score_CRISPR CutOff_CRISPR\n",
       "1 CRISPRi-HCRFF chr11:4092104-4092566 0            -0.13403994  0.01         \n",
       "2 CRISPRi-HCRFF chr11:4094204-4095676 0            -0.04821938  0.01         \n",
       "3 CRISPRi-HCRFF chr11:4144511-4147030 0            -0.07024901  0.01         "
      ]
     },
     "metadata": {},
     "output_type": "display_data"
    }
   ],
   "source": [
    "### loop through each threshold\n",
    "lst = lapply(vec_num_hit_rate, function(num_hit_rate){\n",
    "    ### set hit and non hit for each CRISPR assay\n",
    "    lst = lapply(VEC_TXT_ASSAY_OUT, function(txt_assay_out){\n",
    "        ### get the output assay\n",
    "        lst = lst_dat_region_score\n",
    "        dat = lst[[txt_assay_out]]\n",
    "        \n",
    "        ### get the score of output assay\n",
    "        vec = dat$Score\n",
    "        vec = abs(vec)\n",
    "        vec_num_score_out = vec\n",
    "    \n",
    "        ### determine score cutoff\n",
    "        num_cutoff_out = quantile(vec_num_score_out, probs = 1 - num_hit_rate)\n",
    "    \n",
    "        ### setup group by cutoff\n",
    "        dat$Group_CRISPR = ifelse(vec_num_score_out >= num_cutoff_out, 1, 0)\n",
    "        dat$Score_CRISPR = dat$Score\n",
    "        dat = dat %>% \n",
    "            dplyr::select(Region, Group_CRISPR, Score_CRISPR) %>% \n",
    "            dplyr::distinct()\n",
    "        return(dat)\n",
    "    })\n",
    "\n",
    "    ### concatenate the tables across assays\n",
    "    dat = bind_rows(lst, .id = \"Assay_CRISPR\")\n",
    "    dat_region_group_crispr_split = dat\n",
    "    \n",
    "    ### setup the CRISPR (pool) group\n",
    "    dat = dat_region_group_crispr_split\n",
    "    dat = dat %>% \n",
    "        dplyr::group_by(Region) %>% \n",
    "        dplyr::summarise(\n",
    "            Count_CRISPR =  sum(Group_CRISPR),\n",
    "            Score_CRISPR = mean(Score_CRISPR),\n",
    "            .groups = \"drop\"\n",
    "        ) %>%\n",
    "        dplyr::mutate(Group_CRISPR = ifelse(Count_CRISPR > 0, 1, 0)) %>%\n",
    "        dplyr::mutate(Assay_CRISPR = \"CRISPR\") %>%\n",
    "        dplyr::select(Region, Group_CRISPR, Score_CRISPR, Assay_CRISPR)\n",
    "    dat_region_group_crispr_pool = dat\n",
    "    \n",
    "    ### concatenate the tables\n",
    "    dat = bind_rows(\n",
    "        dat_region_group_crispr_split,\n",
    "        dat_region_group_crispr_pool\n",
    "    ) %>% \n",
    "    dplyr::mutate(CutOff_CRISPR = num_hit_rate) \n",
    "    return(dat)\n",
    "})\n",
    "\n",
    "### assign and show\n",
    "lst_dat_region_group_crispr = lst\n",
    "\n",
    "res = lapply(lst, dim)\n",
    "print(res)\n",
    "\n",
    "dat = lst[[1]]\n",
    "head(dat, 3)"
   ]
  },
  {
   "cell_type": "markdown",
   "id": "96b29051-09bb-4d8e-987a-7cadb75cb433",
   "metadata": {},
   "source": [
    "## Prepare STARRMPRA scores"
   ]
  },
  {
   "cell_type": "code",
   "execution_count": 15,
   "id": "b66118a2-9889-4d30-8467-a02f06c21154",
   "metadata": {},
   "outputs": [
    {
     "name": "stdout",
     "output_type": "stream",
     "text": [
      "[1] 804952      3\n"
     ]
    },
    {
     "data": {
      "text/html": [
       "<table>\n",
       " <thead>\n",
       "  <tr>\n",
       "   <th style=\"text-align:left;\"> Assay_STARRMPRA </th>\n",
       "   <th style=\"text-align:left;\"> Region </th>\n",
       "   <th style=\"text-align:right;\"> Score_STARRMPRA </th>\n",
       "  </tr>\n",
       " </thead>\n",
       "<tbody>\n",
       "  <tr>\n",
       "   <td style=\"text-align:left;\"> ASTARR </td>\n",
       "   <td style=\"text-align:left;\"> chr1:10015-10442 </td>\n",
       "   <td style=\"text-align:right;\"> -3.7814427 </td>\n",
       "  </tr>\n",
       "  <tr>\n",
       "   <td style=\"text-align:left;\"> ASTARR </td>\n",
       "   <td style=\"text-align:left;\"> chr1:14253-14645 </td>\n",
       "   <td style=\"text-align:right;\"> 0.5653917 </td>\n",
       "  </tr>\n",
       "  <tr>\n",
       "   <td style=\"text-align:left;\"> ASTARR </td>\n",
       "   <td style=\"text-align:left;\"> chr1:16015-16477 </td>\n",
       "   <td style=\"text-align:right;\"> -2.0997884 </td>\n",
       "  </tr>\n",
       "  <tr>\n",
       "   <td style=\"text-align:left;\"> ASTARR </td>\n",
       "   <td style=\"text-align:left;\"> chr1:17237-17772 </td>\n",
       "   <td style=\"text-align:right;\"> -2.2945413 </td>\n",
       "  </tr>\n",
       "  <tr>\n",
       "   <td style=\"text-align:left;\"> ASTARR </td>\n",
       "   <td style=\"text-align:left;\"> chr1:28903-29613 </td>\n",
       "   <td style=\"text-align:right;\"> -3.2907725 </td>\n",
       "  </tr>\n",
       "  <tr>\n",
       "   <td style=\"text-align:left;\"> ASTARR </td>\n",
       "   <td style=\"text-align:left;\"> chr1:30803-31072 </td>\n",
       "   <td style=\"text-align:right;\"> -0.0785169 </td>\n",
       "  </tr>\n",
       "</tbody>\n",
       "</table>"
      ]
     },
     "metadata": {},
     "output_type": "display_data"
    }
   ],
   "source": [
    "lst = lapply(VEC_TXT_ASSAY_INP, function(txt_assay_inp){\n",
    "    ### get the input assay\n",
    "    lst = lst_dat_region_score\n",
    "    dat = lst[[txt_assay_inp]]\n",
    "    \n",
    "    ### get the score of input assay\n",
    "    dat = dat %>% \n",
    "        dplyr::mutate(Score_STARRMPRA = Score) %>%\n",
    "        dplyr::select(Region, Score_STARRMPRA) %>%\n",
    "        dplyr::distinct()\n",
    "})\n",
    "dat = bind_rows(lst, .id = \"Assay_STARRMPRA\")\n",
    "\n",
    "### assign and show\n",
    "dat_region_score_starrmpra = dat\n",
    "print(dim(dat))\n",
    "fun_display_table(head(dat))"
   ]
  },
  {
   "cell_type": "markdown",
   "id": "755f33c5-9059-4539-b4ef-126040715ff6",
   "metadata": {},
   "source": [
    "## Join tables between CRISPR groups and STARRMPRA scores"
   ]
  },
  {
   "cell_type": "code",
   "execution_count": 16,
   "id": "328edb9a-903d-4725-80bd-e365e499c881",
   "metadata": {},
   "outputs": [
    {
     "name": "stdout",
     "output_type": "stream",
     "text": [
      "$`0.01`\n",
      "[1] 610756      7\n",
      "\n",
      "$`0.02`\n",
      "[1] 610756      7\n",
      "\n",
      "$`0.03`\n",
      "[1] 610756      7\n",
      "\n",
      "$`0.04`\n",
      "[1] 610756      7\n",
      "\n",
      "$`0.05`\n",
      "[1] 610756      7\n",
      "\n",
      "$`0.06`\n",
      "[1] 610756      7\n",
      "\n",
      "$`0.07`\n",
      "[1] 610756      7\n",
      "\n",
      "$`0.08`\n",
      "[1] 610756      7\n",
      "\n",
      "$`0.09`\n",
      "[1] 610756      7\n",
      "\n",
      "$`0.10`\n",
      "[1] 610756      7\n",
      "\n",
      "$`0.20`\n",
      "[1] 610756      7\n",
      "\n",
      "$`0.30`\n",
      "[1] 610756      7\n",
      "\n",
      "$`0.40`\n",
      "[1] 610756      7\n",
      "\n",
      "$`0.50`\n",
      "[1] 610756      7\n",
      "\n"
     ]
    },
    {
     "data": {
      "text/html": [
       "<table class=\"dataframe\">\n",
       "<caption>A tibble: 3 × 7</caption>\n",
       "<thead>\n",
       "\t<tr><th scope=col>CutOff_CRISPR</th><th scope=col>Region</th><th scope=col>Assay_CRISPR</th><th scope=col>Group_CRISPR</th><th scope=col>Score_CRISPR</th><th scope=col>Assay_STARRMPRA</th><th scope=col>Score_STARRMPRA</th></tr>\n",
       "\t<tr><th scope=col>&lt;dbl&gt;</th><th scope=col>&lt;chr&gt;</th><th scope=col>&lt;chr&gt;</th><th scope=col>&lt;dbl&gt;</th><th scope=col>&lt;dbl&gt;</th><th scope=col>&lt;chr&gt;</th><th scope=col>&lt;dbl&gt;</th></tr>\n",
       "</thead>\n",
       "<tbody>\n",
       "\t<tr><td>0.01</td><td>chr10:100009096-100010466</td><td>CRISPR</td><td>0</td><td>-0.0378617</td><td>ASTARR</td><td>-1.2216566</td></tr>\n",
       "\t<tr><td>0.01</td><td>chr10:100009096-100010466</td><td>CRISPR</td><td>0</td><td>-0.0378617</td><td>ATAC  </td><td> 2.3214952</td></tr>\n",
       "\t<tr><td>0.01</td><td>chr10:100009096-100010466</td><td>CRISPR</td><td>0</td><td>-0.0378617</td><td>WSTARR</td><td> 0.5896695</td></tr>\n",
       "</tbody>\n",
       "</table>\n"
      ],
      "text/latex": [
       "A tibble: 3 × 7\n",
       "\\begin{tabular}{lllllll}\n",
       " CutOff\\_CRISPR & Region & Assay\\_CRISPR & Group\\_CRISPR & Score\\_CRISPR & Assay\\_STARRMPRA & Score\\_STARRMPRA\\\\\n",
       " <dbl> & <chr> & <chr> & <dbl> & <dbl> & <chr> & <dbl>\\\\\n",
       "\\hline\n",
       "\t 0.01 & chr10:100009096-100010466 & CRISPR & 0 & -0.0378617 & ASTARR & -1.2216566\\\\\n",
       "\t 0.01 & chr10:100009096-100010466 & CRISPR & 0 & -0.0378617 & ATAC   &  2.3214952\\\\\n",
       "\t 0.01 & chr10:100009096-100010466 & CRISPR & 0 & -0.0378617 & WSTARR &  0.5896695\\\\\n",
       "\\end{tabular}\n"
      ],
      "text/markdown": [
       "\n",
       "A tibble: 3 × 7\n",
       "\n",
       "| CutOff_CRISPR &lt;dbl&gt; | Region &lt;chr&gt; | Assay_CRISPR &lt;chr&gt; | Group_CRISPR &lt;dbl&gt; | Score_CRISPR &lt;dbl&gt; | Assay_STARRMPRA &lt;chr&gt; | Score_STARRMPRA &lt;dbl&gt; |\n",
       "|---|---|---|---|---|---|---|\n",
       "| 0.01 | chr10:100009096-100010466 | CRISPR | 0 | -0.0378617 | ASTARR | -1.2216566 |\n",
       "| 0.01 | chr10:100009096-100010466 | CRISPR | 0 | -0.0378617 | ATAC   |  2.3214952 |\n",
       "| 0.01 | chr10:100009096-100010466 | CRISPR | 0 | -0.0378617 | WSTARR |  0.5896695 |\n",
       "\n"
      ],
      "text/plain": [
       "  CutOff_CRISPR Region                    Assay_CRISPR Group_CRISPR\n",
       "1 0.01          chr10:100009096-100010466 CRISPR       0           \n",
       "2 0.01          chr10:100009096-100010466 CRISPR       0           \n",
       "3 0.01          chr10:100009096-100010466 CRISPR       0           \n",
       "  Score_CRISPR Assay_STARRMPRA Score_STARRMPRA\n",
       "1 -0.0378617   ASTARR          -1.2216566     \n",
       "2 -0.0378617   ATAC             2.3214952     \n",
       "3 -0.0378617   WSTARR           0.5896695     "
      ]
     },
     "metadata": {},
     "output_type": "display_data"
    }
   ],
   "source": [
    "lst = lst_dat_region_group_crispr\n",
    "lst = lapply(lst, function(dat){\n",
    "    ### join tables: CRISPR groups and STARRMPRA scores\n",
    "    dat = dat %>% \n",
    "        dplyr::inner_join(\n",
    "            dat_region_score_starrmpra, \n",
    "            by = \"Region\",\n",
    "            relationship = \"many-to-many\"\n",
    "        )\n",
    "\n",
    "    ### arrange table\n",
    "    dat = dat %>%\n",
    "        dplyr::select(\n",
    "            CutOff_CRISPR, Region,\n",
    "            Assay_CRISPR, Group_CRISPR, Score_CRISPR,\n",
    "            Assay_STARRMPRA, Score_STARRMPRA\n",
    "        ) %>%\n",
    "        dplyr::arrange(CutOff_CRISPR, Region, Assay_CRISPR, Assay_STARRMPRA) %>%\n",
    "        dplyr::distinct()\n",
    "    return(dat)\n",
    "})\n",
    "\n",
    "lst_dat_region_group_merge = lst\n",
    "\n",
    "res = lapply(lst, dim)\n",
    "print(res)\n",
    "\n",
    "dat = lst[[1]]\n",
    "head(dat, 3)"
   ]
  },
  {
   "cell_type": "markdown",
   "id": "4e15dbef-f954-4057-a73d-2c5300687602",
   "metadata": {},
   "source": [
    "**Check: Count of regions across groups under different hit rate**"
   ]
  },
  {
   "cell_type": "code",
   "execution_count": 17,
   "id": "dce054f2-156e-4d32-87d3-5f2ded12ed86",
   "metadata": {},
   "outputs": [
    {
     "data": {
      "text/html": [
       "<table>\n",
       " <thead>\n",
       "  <tr>\n",
       "   <th style=\"text-align:left;\"> Assay_CRISPR </th>\n",
       "   <th style=\"text-align:left;\"> Group_CRISPR </th>\n",
       "   <th style=\"text-align:right;\"> 0.01 </th>\n",
       "   <th style=\"text-align:right;\"> 0.02 </th>\n",
       "   <th style=\"text-align:right;\"> 0.03 </th>\n",
       "   <th style=\"text-align:right;\"> 0.04 </th>\n",
       "   <th style=\"text-align:right;\"> 0.05 </th>\n",
       "   <th style=\"text-align:right;\"> 0.06 </th>\n",
       "   <th style=\"text-align:right;\"> 0.07 </th>\n",
       "   <th style=\"text-align:right;\"> 0.08 </th>\n",
       "   <th style=\"text-align:right;\"> 0.09 </th>\n",
       "   <th style=\"text-align:right;\"> 0.10 </th>\n",
       "   <th style=\"text-align:right;\"> 0.20 </th>\n",
       "   <th style=\"text-align:right;\"> 0.30 </th>\n",
       "   <th style=\"text-align:right;\"> 0.40 </th>\n",
       "   <th style=\"text-align:right;\"> 0.50 </th>\n",
       "  </tr>\n",
       " </thead>\n",
       "<tbody>\n",
       "  <tr>\n",
       "   <td style=\"text-align:left;\"> CRISPR </td>\n",
       "   <td style=\"text-align:left;\"> 0 </td>\n",
       "   <td style=\"text-align:right;\"> 80392 </td>\n",
       "   <td style=\"text-align:right;\"> 79554 </td>\n",
       "   <td style=\"text-align:right;\"> 78718 </td>\n",
       "   <td style=\"text-align:right;\"> 77873 </td>\n",
       "   <td style=\"text-align:right;\"> 77034 </td>\n",
       "   <td style=\"text-align:right;\"> 76188 </td>\n",
       "   <td style=\"text-align:right;\"> 75344 </td>\n",
       "   <td style=\"text-align:right;\"> 74500 </td>\n",
       "   <td style=\"text-align:right;\"> 73659 </td>\n",
       "   <td style=\"text-align:right;\"> 72822 </td>\n",
       "   <td style=\"text-align:right;\"> 64461 </td>\n",
       "   <td style=\"text-align:right;\"> 56155 </td>\n",
       "   <td style=\"text-align:right;\"> 47897 </td>\n",
       "   <td style=\"text-align:right;\"> 39740 </td>\n",
       "  </tr>\n",
       "  <tr>\n",
       "   <td style=\"text-align:left;\"> CRISPR </td>\n",
       "   <td style=\"text-align:left;\"> 1 </td>\n",
       "   <td style=\"text-align:right;\"> 841 </td>\n",
       "   <td style=\"text-align:right;\"> 1679 </td>\n",
       "   <td style=\"text-align:right;\"> 2515 </td>\n",
       "   <td style=\"text-align:right;\"> 3360 </td>\n",
       "   <td style=\"text-align:right;\"> 4199 </td>\n",
       "   <td style=\"text-align:right;\"> 5045 </td>\n",
       "   <td style=\"text-align:right;\"> 5889 </td>\n",
       "   <td style=\"text-align:right;\"> 6733 </td>\n",
       "   <td style=\"text-align:right;\"> 7574 </td>\n",
       "   <td style=\"text-align:right;\"> 8411 </td>\n",
       "   <td style=\"text-align:right;\"> 16772 </td>\n",
       "   <td style=\"text-align:right;\"> 25078 </td>\n",
       "   <td style=\"text-align:right;\"> 33336 </td>\n",
       "   <td style=\"text-align:right;\"> 41493 </td>\n",
       "  </tr>\n",
       "  <tr>\n",
       "   <td style=\"text-align:left;\"> CRISPRi-Growth </td>\n",
       "   <td style=\"text-align:left;\"> 0 </td>\n",
       "   <td style=\"text-align:right;\"> 79485 </td>\n",
       "   <td style=\"text-align:right;\"> 78682 </td>\n",
       "   <td style=\"text-align:right;\"> 77879 </td>\n",
       "   <td style=\"text-align:right;\"> 77076 </td>\n",
       "   <td style=\"text-align:right;\"> 76273 </td>\n",
       "   <td style=\"text-align:right;\"> 75470 </td>\n",
       "   <td style=\"text-align:right;\"> 74667 </td>\n",
       "   <td style=\"text-align:right;\"> 73865 </td>\n",
       "   <td style=\"text-align:right;\"> 73062 </td>\n",
       "   <td style=\"text-align:right;\"> 72259 </td>\n",
       "   <td style=\"text-align:right;\"> 64230 </td>\n",
       "   <td style=\"text-align:right;\"> 56201 </td>\n",
       "   <td style=\"text-align:right;\"> 48173 </td>\n",
       "   <td style=\"text-align:right;\"> 40144 </td>\n",
       "  </tr>\n",
       "  <tr>\n",
       "   <td style=\"text-align:left;\"> CRISPRi-Growth </td>\n",
       "   <td style=\"text-align:left;\"> 1 </td>\n",
       "   <td style=\"text-align:right;\"> 803 </td>\n",
       "   <td style=\"text-align:right;\"> 1606 </td>\n",
       "   <td style=\"text-align:right;\"> 2409 </td>\n",
       "   <td style=\"text-align:right;\"> 3212 </td>\n",
       "   <td style=\"text-align:right;\"> 4015 </td>\n",
       "   <td style=\"text-align:right;\"> 4818 </td>\n",
       "   <td style=\"text-align:right;\"> 5621 </td>\n",
       "   <td style=\"text-align:right;\"> 6423 </td>\n",
       "   <td style=\"text-align:right;\"> 7226 </td>\n",
       "   <td style=\"text-align:right;\"> 8029 </td>\n",
       "   <td style=\"text-align:right;\"> 16058 </td>\n",
       "   <td style=\"text-align:right;\"> 24087 </td>\n",
       "   <td style=\"text-align:right;\"> 32115 </td>\n",
       "   <td style=\"text-align:right;\"> 40144 </td>\n",
       "  </tr>\n",
       "  <tr>\n",
       "   <td style=\"text-align:left;\"> CRISPRi-HCRFF </td>\n",
       "   <td style=\"text-align:left;\"> 0 </td>\n",
       "   <td style=\"text-align:right;\"> 1316 </td>\n",
       "   <td style=\"text-align:right;\"> 1303 </td>\n",
       "   <td style=\"text-align:right;\"> 1290 </td>\n",
       "   <td style=\"text-align:right;\"> 1276 </td>\n",
       "   <td style=\"text-align:right;\"> 1263 </td>\n",
       "   <td style=\"text-align:right;\"> 1250 </td>\n",
       "   <td style=\"text-align:right;\"> 1236 </td>\n",
       "   <td style=\"text-align:right;\"> 1223 </td>\n",
       "   <td style=\"text-align:right;\"> 1210 </td>\n",
       "   <td style=\"text-align:right;\"> 1197 </td>\n",
       "   <td style=\"text-align:right;\"> 1064 </td>\n",
       "   <td style=\"text-align:right;\"> 931 </td>\n",
       "   <td style=\"text-align:right;\"> 798 </td>\n",
       "   <td style=\"text-align:right;\"> 665 </td>\n",
       "  </tr>\n",
       "  <tr>\n",
       "   <td style=\"text-align:left;\"> CRISPRi-HCRFF </td>\n",
       "   <td style=\"text-align:left;\"> 1 </td>\n",
       "   <td style=\"text-align:right;\"> 14 </td>\n",
       "   <td style=\"text-align:right;\"> 27 </td>\n",
       "   <td style=\"text-align:right;\"> 40 </td>\n",
       "   <td style=\"text-align:right;\"> 54 </td>\n",
       "   <td style=\"text-align:right;\"> 67 </td>\n",
       "   <td style=\"text-align:right;\"> 80 </td>\n",
       "   <td style=\"text-align:right;\"> 94 </td>\n",
       "   <td style=\"text-align:right;\"> 107 </td>\n",
       "   <td style=\"text-align:right;\"> 120 </td>\n",
       "   <td style=\"text-align:right;\"> 133 </td>\n",
       "   <td style=\"text-align:right;\"> 266 </td>\n",
       "   <td style=\"text-align:right;\"> 399 </td>\n",
       "   <td style=\"text-align:right;\"> 532 </td>\n",
       "   <td style=\"text-align:right;\"> 665 </td>\n",
       "  </tr>\n",
       "  <tr>\n",
       "   <td style=\"text-align:left;\"> ENCODE-rE2G Benchmark </td>\n",
       "   <td style=\"text-align:left;\"> 0 </td>\n",
       "   <td style=\"text-align:right;\"> 3137 </td>\n",
       "   <td style=\"text-align:right;\"> 3105 </td>\n",
       "   <td style=\"text-align:right;\"> 3073 </td>\n",
       "   <td style=\"text-align:right;\"> 3042 </td>\n",
       "   <td style=\"text-align:right;\"> 3010 </td>\n",
       "   <td style=\"text-align:right;\"> 2978 </td>\n",
       "   <td style=\"text-align:right;\"> 2947 </td>\n",
       "   <td style=\"text-align:right;\"> 2915 </td>\n",
       "   <td style=\"text-align:right;\"> 2883 </td>\n",
       "   <td style=\"text-align:right;\"> 2852 </td>\n",
       "   <td style=\"text-align:right;\"> 2535 </td>\n",
       "   <td style=\"text-align:right;\"> 2218 </td>\n",
       "   <td style=\"text-align:right;\"> 1901 </td>\n",
       "   <td style=\"text-align:right;\"> 1584 </td>\n",
       "  </tr>\n",
       "  <tr>\n",
       "   <td style=\"text-align:left;\"> ENCODE-rE2G Benchmark </td>\n",
       "   <td style=\"text-align:left;\"> 1 </td>\n",
       "   <td style=\"text-align:right;\"> 32 </td>\n",
       "   <td style=\"text-align:right;\"> 64 </td>\n",
       "   <td style=\"text-align:right;\"> 96 </td>\n",
       "   <td style=\"text-align:right;\"> 127 </td>\n",
       "   <td style=\"text-align:right;\"> 159 </td>\n",
       "   <td style=\"text-align:right;\"> 191 </td>\n",
       "   <td style=\"text-align:right;\"> 222 </td>\n",
       "   <td style=\"text-align:right;\"> 254 </td>\n",
       "   <td style=\"text-align:right;\"> 286 </td>\n",
       "   <td style=\"text-align:right;\"> 317 </td>\n",
       "   <td style=\"text-align:right;\"> 634 </td>\n",
       "   <td style=\"text-align:right;\"> 951 </td>\n",
       "   <td style=\"text-align:right;\"> 1268 </td>\n",
       "   <td style=\"text-align:right;\"> 1585 </td>\n",
       "  </tr>\n",
       "</tbody>\n",
       "</table>"
      ]
     },
     "metadata": {},
     "output_type": "display_data"
    }
   ],
   "source": [
    "lst = lst_dat_region_group_crispr\n",
    "lst = lapply(lst, function(dat){\n",
    "    res = table(dat$Assay_CRISPR, dat$Group_CRISPR, dnn = c(\"Assay_CRISPR\", \"Group_CRISPR\"))\n",
    "    dat = as.data.frame(res)\n",
    "    return(dat)\n",
    "})\n",
    "\n",
    "dat = bind_rows(lst, .id = \"CutOff\")\n",
    "dat = dat %>% tidyr::spread(CutOff, Freq)\n",
    "fun_display_table(dat)"
   ]
  },
  {
   "cell_type": "code",
   "execution_count": 18,
   "id": "b0d7226f-d3cd-4c66-b6a1-fad7327238bb",
   "metadata": {},
   "outputs": [
    {
     "data": {
      "text/html": [
       "<table>\n",
       " <thead>\n",
       "  <tr>\n",
       "   <th style=\"text-align:left;\"> Assay_CRISPR </th>\n",
       "   <th style=\"text-align:left;\"> Assay_STARRMPRA </th>\n",
       "   <th style=\"text-align:left;\"> Group_CRISPR </th>\n",
       "   <th style=\"text-align:right;\"> 0.01 </th>\n",
       "   <th style=\"text-align:right;\"> 0.02 </th>\n",
       "   <th style=\"text-align:right;\"> 0.03 </th>\n",
       "   <th style=\"text-align:right;\"> 0.04 </th>\n",
       "   <th style=\"text-align:right;\"> 0.05 </th>\n",
       "   <th style=\"text-align:right;\"> 0.06 </th>\n",
       "   <th style=\"text-align:right;\"> 0.07 </th>\n",
       "   <th style=\"text-align:right;\"> 0.08 </th>\n",
       "   <th style=\"text-align:right;\"> 0.09 </th>\n",
       "   <th style=\"text-align:right;\"> 0.10 </th>\n",
       "   <th style=\"text-align:right;\"> 0.20 </th>\n",
       "   <th style=\"text-align:right;\"> 0.30 </th>\n",
       "   <th style=\"text-align:right;\"> 0.40 </th>\n",
       "   <th style=\"text-align:right;\"> 0.50 </th>\n",
       "  </tr>\n",
       " </thead>\n",
       "<tbody>\n",
       "  <tr>\n",
       "   <td style=\"text-align:left;\"> CRISPR </td>\n",
       "   <td style=\"text-align:left;\"> ASTARR </td>\n",
       "   <td style=\"text-align:left;\"> 0 </td>\n",
       "   <td style=\"text-align:right;\"> 80392 </td>\n",
       "   <td style=\"text-align:right;\"> 79554 </td>\n",
       "   <td style=\"text-align:right;\"> 78718 </td>\n",
       "   <td style=\"text-align:right;\"> 77873 </td>\n",
       "   <td style=\"text-align:right;\"> 77034 </td>\n",
       "   <td style=\"text-align:right;\"> 76188 </td>\n",
       "   <td style=\"text-align:right;\"> 75344 </td>\n",
       "   <td style=\"text-align:right;\"> 74500 </td>\n",
       "   <td style=\"text-align:right;\"> 73659 </td>\n",
       "   <td style=\"text-align:right;\"> 72822 </td>\n",
       "   <td style=\"text-align:right;\"> 64461 </td>\n",
       "   <td style=\"text-align:right;\"> 56155 </td>\n",
       "   <td style=\"text-align:right;\"> 47897 </td>\n",
       "   <td style=\"text-align:right;\"> 39740 </td>\n",
       "  </tr>\n",
       "  <tr>\n",
       "   <td style=\"text-align:left;\"> CRISPR </td>\n",
       "   <td style=\"text-align:left;\"> ASTARR </td>\n",
       "   <td style=\"text-align:left;\"> 1 </td>\n",
       "   <td style=\"text-align:right;\"> 841 </td>\n",
       "   <td style=\"text-align:right;\"> 1679 </td>\n",
       "   <td style=\"text-align:right;\"> 2515 </td>\n",
       "   <td style=\"text-align:right;\"> 3360 </td>\n",
       "   <td style=\"text-align:right;\"> 4199 </td>\n",
       "   <td style=\"text-align:right;\"> 5045 </td>\n",
       "   <td style=\"text-align:right;\"> 5889 </td>\n",
       "   <td style=\"text-align:right;\"> 6733 </td>\n",
       "   <td style=\"text-align:right;\"> 7574 </td>\n",
       "   <td style=\"text-align:right;\"> 8411 </td>\n",
       "   <td style=\"text-align:right;\"> 16772 </td>\n",
       "   <td style=\"text-align:right;\"> 25078 </td>\n",
       "   <td style=\"text-align:right;\"> 33336 </td>\n",
       "   <td style=\"text-align:right;\"> 41493 </td>\n",
       "  </tr>\n",
       "  <tr>\n",
       "   <td style=\"text-align:left;\"> CRISPR </td>\n",
       "   <td style=\"text-align:left;\"> ATAC </td>\n",
       "   <td style=\"text-align:left;\"> 0 </td>\n",
       "   <td style=\"text-align:right;\"> 80392 </td>\n",
       "   <td style=\"text-align:right;\"> 79554 </td>\n",
       "   <td style=\"text-align:right;\"> 78718 </td>\n",
       "   <td style=\"text-align:right;\"> 77873 </td>\n",
       "   <td style=\"text-align:right;\"> 77034 </td>\n",
       "   <td style=\"text-align:right;\"> 76188 </td>\n",
       "   <td style=\"text-align:right;\"> 75344 </td>\n",
       "   <td style=\"text-align:right;\"> 74500 </td>\n",
       "   <td style=\"text-align:right;\"> 73659 </td>\n",
       "   <td style=\"text-align:right;\"> 72822 </td>\n",
       "   <td style=\"text-align:right;\"> 64461 </td>\n",
       "   <td style=\"text-align:right;\"> 56155 </td>\n",
       "   <td style=\"text-align:right;\"> 47897 </td>\n",
       "   <td style=\"text-align:right;\"> 39740 </td>\n",
       "  </tr>\n",
       "  <tr>\n",
       "   <td style=\"text-align:left;\"> CRISPR </td>\n",
       "   <td style=\"text-align:left;\"> ATAC </td>\n",
       "   <td style=\"text-align:left;\"> 1 </td>\n",
       "   <td style=\"text-align:right;\"> 841 </td>\n",
       "   <td style=\"text-align:right;\"> 1679 </td>\n",
       "   <td style=\"text-align:right;\"> 2515 </td>\n",
       "   <td style=\"text-align:right;\"> 3360 </td>\n",
       "   <td style=\"text-align:right;\"> 4199 </td>\n",
       "   <td style=\"text-align:right;\"> 5045 </td>\n",
       "   <td style=\"text-align:right;\"> 5889 </td>\n",
       "   <td style=\"text-align:right;\"> 6733 </td>\n",
       "   <td style=\"text-align:right;\"> 7574 </td>\n",
       "   <td style=\"text-align:right;\"> 8411 </td>\n",
       "   <td style=\"text-align:right;\"> 16772 </td>\n",
       "   <td style=\"text-align:right;\"> 25078 </td>\n",
       "   <td style=\"text-align:right;\"> 33336 </td>\n",
       "   <td style=\"text-align:right;\"> 41493 </td>\n",
       "  </tr>\n",
       "  <tr>\n",
       "   <td style=\"text-align:left;\"> CRISPR </td>\n",
       "   <td style=\"text-align:left;\"> LMPRA </td>\n",
       "   <td style=\"text-align:left;\"> 0 </td>\n",
       "   <td style=\"text-align:right;\"> 53682 </td>\n",
       "   <td style=\"text-align:right;\"> 53167 </td>\n",
       "   <td style=\"text-align:right;\"> 52642 </td>\n",
       "   <td style=\"text-align:right;\"> 52086 </td>\n",
       "   <td style=\"text-align:right;\"> 51533 </td>\n",
       "   <td style=\"text-align:right;\"> 50973 </td>\n",
       "   <td style=\"text-align:right;\"> 50419 </td>\n",
       "   <td style=\"text-align:right;\"> 49869 </td>\n",
       "   <td style=\"text-align:right;\"> 49307 </td>\n",
       "   <td style=\"text-align:right;\"> 48752 </td>\n",
       "   <td style=\"text-align:right;\"> 43076 </td>\n",
       "   <td style=\"text-align:right;\"> 37507 </td>\n",
       "   <td style=\"text-align:right;\"> 32024 </td>\n",
       "   <td style=\"text-align:right;\"> 26536 </td>\n",
       "  </tr>\n",
       "  <tr>\n",
       "   <td style=\"text-align:left;\"> CRISPR </td>\n",
       "   <td style=\"text-align:left;\"> LMPRA </td>\n",
       "   <td style=\"text-align:left;\"> 1 </td>\n",
       "   <td style=\"text-align:right;\"> 613 </td>\n",
       "   <td style=\"text-align:right;\"> 1128 </td>\n",
       "   <td style=\"text-align:right;\"> 1653 </td>\n",
       "   <td style=\"text-align:right;\"> 2209 </td>\n",
       "   <td style=\"text-align:right;\"> 2762 </td>\n",
       "   <td style=\"text-align:right;\"> 3322 </td>\n",
       "   <td style=\"text-align:right;\"> 3876 </td>\n",
       "   <td style=\"text-align:right;\"> 4426 </td>\n",
       "   <td style=\"text-align:right;\"> 4988 </td>\n",
       "   <td style=\"text-align:right;\"> 5543 </td>\n",
       "   <td style=\"text-align:right;\"> 11219 </td>\n",
       "   <td style=\"text-align:right;\"> 16788 </td>\n",
       "   <td style=\"text-align:right;\"> 22271 </td>\n",
       "   <td style=\"text-align:right;\"> 27759 </td>\n",
       "  </tr>\n",
       "  <tr>\n",
       "   <td style=\"text-align:left;\"> CRISPR </td>\n",
       "   <td style=\"text-align:left;\"> TMPRA </td>\n",
       "   <td style=\"text-align:left;\"> 0 </td>\n",
       "   <td style=\"text-align:right;\"> 1032 </td>\n",
       "   <td style=\"text-align:right;\"> 1017 </td>\n",
       "   <td style=\"text-align:right;\"> 1009 </td>\n",
       "   <td style=\"text-align:right;\"> 996 </td>\n",
       "   <td style=\"text-align:right;\"> 983 </td>\n",
       "   <td style=\"text-align:right;\"> 967 </td>\n",
       "   <td style=\"text-align:right;\"> 948 </td>\n",
       "   <td style=\"text-align:right;\"> 933 </td>\n",
       "   <td style=\"text-align:right;\"> 921 </td>\n",
       "   <td style=\"text-align:right;\"> 903 </td>\n",
       "   <td style=\"text-align:right;\"> 765 </td>\n",
       "   <td style=\"text-align:right;\"> 644 </td>\n",
       "   <td style=\"text-align:right;\"> 519 </td>\n",
       "   <td style=\"text-align:right;\"> 411 </td>\n",
       "  </tr>\n",
       "  <tr>\n",
       "   <td style=\"text-align:left;\"> CRISPR </td>\n",
       "   <td style=\"text-align:left;\"> TMPRA </td>\n",
       "   <td style=\"text-align:left;\"> 1 </td>\n",
       "   <td style=\"text-align:right;\"> 21 </td>\n",
       "   <td style=\"text-align:right;\"> 36 </td>\n",
       "   <td style=\"text-align:right;\"> 44 </td>\n",
       "   <td style=\"text-align:right;\"> 57 </td>\n",
       "   <td style=\"text-align:right;\"> 70 </td>\n",
       "   <td style=\"text-align:right;\"> 86 </td>\n",
       "   <td style=\"text-align:right;\"> 105 </td>\n",
       "   <td style=\"text-align:right;\"> 120 </td>\n",
       "   <td style=\"text-align:right;\"> 132 </td>\n",
       "   <td style=\"text-align:right;\"> 150 </td>\n",
       "   <td style=\"text-align:right;\"> 288 </td>\n",
       "   <td style=\"text-align:right;\"> 409 </td>\n",
       "   <td style=\"text-align:right;\"> 534 </td>\n",
       "   <td style=\"text-align:right;\"> 642 </td>\n",
       "  </tr>\n",
       "  <tr>\n",
       "   <td style=\"text-align:left;\"> CRISPR </td>\n",
       "   <td style=\"text-align:left;\"> WSTARR </td>\n",
       "   <td style=\"text-align:left;\"> 0 </td>\n",
       "   <td style=\"text-align:right;\"> 79621 </td>\n",
       "   <td style=\"text-align:right;\"> 78796 </td>\n",
       "   <td style=\"text-align:right;\"> 77972 </td>\n",
       "   <td style=\"text-align:right;\"> 77139 </td>\n",
       "   <td style=\"text-align:right;\"> 76312 </td>\n",
       "   <td style=\"text-align:right;\"> 75473 </td>\n",
       "   <td style=\"text-align:right;\"> 74641 </td>\n",
       "   <td style=\"text-align:right;\"> 73809 </td>\n",
       "   <td style=\"text-align:right;\"> 72979 </td>\n",
       "   <td style=\"text-align:right;\"> 72147 </td>\n",
       "   <td style=\"text-align:right;\"> 63889 </td>\n",
       "   <td style=\"text-align:right;\"> 55656 </td>\n",
       "   <td style=\"text-align:right;\"> 47471 </td>\n",
       "   <td style=\"text-align:right;\"> 39381 </td>\n",
       "  </tr>\n",
       "  <tr>\n",
       "   <td style=\"text-align:left;\"> CRISPR </td>\n",
       "   <td style=\"text-align:left;\"> WSTARR </td>\n",
       "   <td style=\"text-align:left;\"> 1 </td>\n",
       "   <td style=\"text-align:right;\"> 833 </td>\n",
       "   <td style=\"text-align:right;\"> 1658 </td>\n",
       "   <td style=\"text-align:right;\"> 2482 </td>\n",
       "   <td style=\"text-align:right;\"> 3315 </td>\n",
       "   <td style=\"text-align:right;\"> 4142 </td>\n",
       "   <td style=\"text-align:right;\"> 4981 </td>\n",
       "   <td style=\"text-align:right;\"> 5813 </td>\n",
       "   <td style=\"text-align:right;\"> 6645 </td>\n",
       "   <td style=\"text-align:right;\"> 7475 </td>\n",
       "   <td style=\"text-align:right;\"> 8307 </td>\n",
       "   <td style=\"text-align:right;\"> 16565 </td>\n",
       "   <td style=\"text-align:right;\"> 24798 </td>\n",
       "   <td style=\"text-align:right;\"> 32983 </td>\n",
       "   <td style=\"text-align:right;\"> 41073 </td>\n",
       "  </tr>\n",
       "</tbody>\n",
       "</table>"
      ]
     },
     "metadata": {},
     "output_type": "display_data"
    }
   ],
   "source": [
    "lst = lst_dat_region_group_merge\n",
    "lst = lapply(lst, function(dat){\n",
    "    dat = dat %>% \n",
    "        dplyr::filter(Assay_CRISPR == \"CRISPR\") %>%\n",
    "        dplyr::select(Region, Assay_CRISPR, Assay_STARRMPRA, Group_CRISPR) %>% \n",
    "        dplyr::distinct()\n",
    "    \n",
    "    res = table(\n",
    "        dat$Assay_CRISPR, \n",
    "        dat$Assay_STARRMPRA, \n",
    "        dat$Group_CRISPR, \n",
    "        dnn = c(\"Assay_CRISPR\", \"Assay_STARRMPRA\", \"Group_CRISPR\"))\n",
    "    dat = as.data.frame(res)\n",
    "    return(dat)\n",
    "})\n",
    "\n",
    "dat = bind_rows(lst, .id = \"CutOff\")\n",
    "dat = dat %>% tidyr::spread(CutOff, Freq)\n",
    "fun_display_table(dat)"
   ]
  },
  {
   "cell_type": "markdown",
   "id": "e303cb0c-4ca5-477a-abff-65a9f959d305",
   "metadata": {},
   "source": [
    "## Explore results"
   ]
  },
  {
   "cell_type": "code",
   "execution_count": 19,
   "id": "6206d0bd-d4d0-40a6-811e-a1e7bd83047d",
   "metadata": {},
   "outputs": [],
   "source": [
    "### set file directory\n",
    "txt_foldr = \"fcc_astarr_macs_input_union\"\n",
    "txt_fdiry = file.path(FD_RES, \"analysis_fcc_correlation\", txt_foldr)\n",
    "txt_fname = \"data.region.merge.group_crispr.score_starrmpra.rds\"\n",
    "txt_fpath = file.path(txt_fdiry, txt_fname)\n",
    "\n",
    "### save R list of tables\n",
    "obj = lst_dat_region_group_merge\n",
    "saveRDS(obj, txt_fpath)"
   ]
  }
 ],
 "metadata": {
  "kernelspec": {
   "display_name": "R",
   "language": "R",
   "name": "ir"
  },
  "language_info": {
   "codemirror_mode": "r",
   "file_extension": ".r",
   "mimetype": "text/x-r-source",
   "name": "R",
   "pygments_lexer": "r",
   "version": "4.5.1"
  }
 },
 "nbformat": 4,
 "nbformat_minor": 5
}
