{
 "cells": [
  {
   "cell_type": "raw",
   "id": "03e29131-3bfd-455e-a905-9b4f49714494",
   "metadata": {},
   "source": [
    "---\n",
    "title: CRISPR vs STARRMPRA 02\n",
    "subtitle: Calculate distance correlation between CRISPR and STARRMPRA\n",
    "format:\n",
    "    html:\n",
    "        code-fold:  true\n",
    "        code-tools: true\n",
    "---"
   ]
  },
  {
   "cell_type": "markdown",
   "id": "9bdf3d65-8ac6-484b-8598-19785f6595f2",
   "metadata": {},
   "source": [
    "**Set environment**"
   ]
  },
  {
   "cell_type": "code",
   "execution_count": 1,
   "id": "9b280b12-42e5-4275-aee2-e9a4110e9722",
   "metadata": {},
   "outputs": [
    {
     "name": "stdout",
     "output_type": "stream",
     "text": [
      "You are working on        Singularity: singularity_proj_encode_fcc \n",
      "BASE DIRECTORY (FD_BASE): /data/reddylab/Kuei \n",
      "REPO DIRECTORY (FD_REPO): /data/reddylab/Kuei/repo \n",
      "WORK DIRECTORY (FD_WORK): /data/reddylab/Kuei/work \n",
      "DATA DIRECTORY (FD_DATA): /data/reddylab/Kuei/data \n",
      "\n",
      "You are working with      ENCODE FCC \n",
      "PATH OF PROJECT (FD_PRJ): /data/reddylab/Kuei/repo/Proj_ENCODE_FCC \n",
      "PROJECT RESULTS (FD_RES): /data/reddylab/Kuei/repo/Proj_ENCODE_FCC/results \n",
      "PROJECT SCRIPTS (FD_EXE): /data/reddylab/Kuei/repo/Proj_ENCODE_FCC/scripts \n",
      "PROJECT DATA    (FD_DAT): /data/reddylab/Kuei/repo/Proj_ENCODE_FCC/data \n",
      "PROJECT NOTE    (FD_NBK): /data/reddylab/Kuei/repo/Proj_ENCODE_FCC/notebooks \n",
      "PROJECT DOCS    (FD_DOC): /data/reddylab/Kuei/repo/Proj_ENCODE_FCC/docs \n",
      "PROJECT LOG     (FD_LOG): /data/reddylab/Kuei/repo/Proj_ENCODE_FCC/log \n",
      "PROJECT REF     (FD_REF): /data/reddylab/Kuei/repo/Proj_ENCODE_FCC/references \n",
      "\n"
     ]
    }
   ],
   "source": [
    "suppressMessages(suppressWarnings(source(\"../run_config_project_sing.R\")))\n",
    "library(\"energy\")\n",
    "show_env()"
   ]
  },
  {
   "cell_type": "markdown",
   "id": "224f0915-e1b4-4a7a-ace8-519dd02486dc",
   "metadata": {},
   "source": [
    "**Check: region directory**"
   ]
  },
  {
   "cell_type": "code",
   "execution_count": 2,
   "id": "eef710af-be9d-4153-b6dc-fb2d7f6cf2fe",
   "metadata": {},
   "outputs": [
    {
     "name": "stdout",
     "output_type": "stream",
     "text": [
      "atac_ENCFF333TAT \n",
      "atac_ENCFF558BLC \n",
      "atac_ENCFF925CYR \n",
      "atac_ENCFF948AFM \n",
      "dnase_ENCFF185XRG \n",
      "dnase_ENCFF274YGF \n",
      "fcc_astarr_macs_input_overlap \n",
      "fcc_astarr_macs_input_union \n"
     ]
    }
   ],
   "source": [
    "txt_fdiry = file.path(FD_RES, \"region_coverage_fcc_score\")\n",
    "\n",
    "vec = dir(txt_fdiry)\n",
    "for (txt in vec){cat(txt, \"\\n\")}"
   ]
  },
  {
   "cell_type": "markdown",
   "id": "d4bb0c78-e878-4996-8492-d3bd9a89fc6e",
   "metadata": {},
   "source": [
    "**Check: assay directory**"
   ]
  },
  {
   "cell_type": "code",
   "execution_count": 3,
   "id": "73da2075-dded-4b23-b541-5ce4f01d7a01",
   "metadata": {},
   "outputs": [
    {
     "name": "stdout",
     "output_type": "stream",
     "text": [
      "CRISPRi_FlowFISH_K562_Riley_JinWoo \n",
      "CRISPRi_Growth_K562_Gersbach_JinWoo \n",
      "MPRA_Lenti_K562_Nadav_Vikram \n",
      "MPRA_Tiling_K562_Tewhey_Hannah \n",
      "STARR_ATAC_K562_Reddy_KS274 \n",
      "STARR_ATAC_K562_Reddy_KS91 \n",
      "STARR_ATAC_K562_Reddy_KSMerge \n",
      "STARR_WHG_K562_Reddy_A001 \n",
      "summary \n"
     ]
    }
   ],
   "source": [
    "txt_region = \"fcc_astarr_macs_input_union\"\n",
    "txt_fdiry  = file.path(FD_RES, \"region_coverage_fcc_score\", txt_region)\n",
    "vec = dir(txt_fdiry)\n",
    "for (txt in vec) {cat(txt, \"\\n\")}"
   ]
  },
  {
   "cell_type": "markdown",
   "id": "1290f49d-31f1-4713-9a28-a6dc50628fbf",
   "metadata": {},
   "source": [
    "**Set global variable**"
   ]
  },
  {
   "cell_type": "code",
   "execution_count": 4,
   "id": "cf67491f-1589-484e-87b8-2c6156ea39de",
   "metadata": {},
   "outputs": [
    {
     "name": "stdout",
     "output_type": "stream",
     "text": [
      "fcc_astarr_macs_input_overlap \n",
      "fcc_astarr_macs_input_union \n"
     ]
    }
   ],
   "source": [
    "## init: region folder\n",
    "vec = c(\"fcc_astarr_macs_input_overlap\", \"fcc_astarr_macs_input_union\")\n",
    "names(vec) = vec\n",
    "\n",
    "VEC_TXT_FOLDER = vec\n",
    "for (txt in vec) {cat(txt, \"\\n\")}"
   ]
  },
  {
   "cell_type": "code",
   "execution_count": 5,
   "id": "0cdc1989-c8fe-4a49-a586-ac28458ae437",
   "metadata": {},
   "outputs": [],
   "source": [
    "vec = c(\"CRISPRi-HCRFF\", \"CRISPRi-Growth\", \"ENCODE-rE2G Benchmark\")\n",
    "names(vec) = vec\n",
    "VEC_TXT_ASSAY_OUT = vec\n",
    "\n",
    "vec = c(\"ASTARR\", \"WSTARR\", \"LMPRA\", \"TMPRA\", \"ATAC\")\n",
    "names(vec) = vec\n",
    "VEC_TXT_ASSAY_INP = vec"
   ]
  },
  {
   "cell_type": "markdown",
   "id": "a72966a8-0ad2-4a81-ac5b-643c7813d8d5",
   "metadata": {},
   "source": [
    "**Check input files**"
   ]
  },
  {
   "cell_type": "code",
   "execution_count": 6,
   "id": "6cd47ccd-4cb9-4420-9800-b3fb38a9b7b1",
   "metadata": {},
   "outputs": [
    {
     "name": "stdout",
     "output_type": "stream",
     "text": [
      "/data/reddylab/Kuei/repo/Proj_ENCODE_FCC/results/analysis_fcc_correlation/fcc_astarr_macs_input_union/data.region.merge.group_crispr.score_starrmpra.rds \n"
     ]
    }
   ],
   "source": [
    "txt_folder = \"fcc_astarr_macs_input_union\"\n",
    "txt_fdiry  = file.path(FD_RES, \"analysis_fcc_correlation\", txt_folder)\n",
    "txt_fname  = \"*.rds\"\n",
    "txt_fglob  = file.path(txt_fdiry, txt_fname)\n",
    "\n",
    "vec = Sys.glob(txt_fglob)\n",
    "for (txt in vec) {cat(txt, \"\\n\")}"
   ]
  },
  {
   "cell_type": "markdown",
   "id": "2b7ee8f9-c325-4a5a-831b-1f1870cd46f4",
   "metadata": {},
   "source": [
    "## Import data"
   ]
  },
  {
   "cell_type": "code",
   "execution_count": 7,
   "id": "1b28566e-c926-4636-86b0-6c524efab0c1",
   "metadata": {},
   "outputs": [
    {
     "name": "stdout",
     "output_type": "stream",
     "text": [
      "$`0.01`\n",
      "[1] 610756      7\n",
      "\n",
      "$`0.02`\n",
      "[1] 610756      7\n",
      "\n",
      "$`0.03`\n",
      "[1] 610756      7\n",
      "\n",
      "$`0.04`\n",
      "[1] 610756      7\n",
      "\n",
      "$`0.05`\n",
      "[1] 610756      7\n",
      "\n",
      "$`0.06`\n",
      "[1] 610756      7\n",
      "\n",
      "$`0.07`\n",
      "[1] 610756      7\n",
      "\n",
      "$`0.08`\n",
      "[1] 610756      7\n",
      "\n",
      "$`0.09`\n",
      "[1] 610756      7\n",
      "\n",
      "$`0.10`\n",
      "[1] 610756      7\n",
      "\n",
      "$`0.20`\n",
      "[1] 610756      7\n",
      "\n",
      "$`0.30`\n",
      "[1] 610756      7\n",
      "\n",
      "$`0.40`\n",
      "[1] 610756      7\n",
      "\n",
      "$`0.50`\n",
      "[1] 610756      7\n",
      "\n"
     ]
    },
    {
     "data": {
      "text/html": [
       "<table>\n",
       " <thead>\n",
       "  <tr>\n",
       "   <th style=\"text-align:right;\"> CutOff_CRISPR </th>\n",
       "   <th style=\"text-align:left;\"> Region </th>\n",
       "   <th style=\"text-align:left;\"> Assay_CRISPR </th>\n",
       "   <th style=\"text-align:right;\"> Group_CRISPR </th>\n",
       "   <th style=\"text-align:right;\"> Score_CRISPR </th>\n",
       "   <th style=\"text-align:left;\"> Assay_STARRMPRA </th>\n",
       "   <th style=\"text-align:right;\"> Score_STARRMPRA </th>\n",
       "  </tr>\n",
       " </thead>\n",
       "<tbody>\n",
       "  <tr>\n",
       "   <td style=\"text-align:right;\"> 0.01 </td>\n",
       "   <td style=\"text-align:left;\"> chr10:100009096-100010466 </td>\n",
       "   <td style=\"text-align:left;\"> CRISPR </td>\n",
       "   <td style=\"text-align:right;\"> 0 </td>\n",
       "   <td style=\"text-align:right;\"> -0.0378617 </td>\n",
       "   <td style=\"text-align:left;\"> ASTARR </td>\n",
       "   <td style=\"text-align:right;\"> -1.2216566 </td>\n",
       "  </tr>\n",
       "  <tr>\n",
       "   <td style=\"text-align:right;\"> 0.01 </td>\n",
       "   <td style=\"text-align:left;\"> chr10:100009096-100010466 </td>\n",
       "   <td style=\"text-align:left;\"> CRISPR </td>\n",
       "   <td style=\"text-align:right;\"> 0 </td>\n",
       "   <td style=\"text-align:right;\"> -0.0378617 </td>\n",
       "   <td style=\"text-align:left;\"> ATAC </td>\n",
       "   <td style=\"text-align:right;\"> 2.3214952 </td>\n",
       "  </tr>\n",
       "  <tr>\n",
       "   <td style=\"text-align:right;\"> 0.01 </td>\n",
       "   <td style=\"text-align:left;\"> chr10:100009096-100010466 </td>\n",
       "   <td style=\"text-align:left;\"> CRISPR </td>\n",
       "   <td style=\"text-align:right;\"> 0 </td>\n",
       "   <td style=\"text-align:right;\"> -0.0378617 </td>\n",
       "   <td style=\"text-align:left;\"> WSTARR </td>\n",
       "   <td style=\"text-align:right;\"> 0.5896695 </td>\n",
       "  </tr>\n",
       "</tbody>\n",
       "</table>"
      ]
     },
     "metadata": {},
     "output_type": "display_data"
    }
   ],
   "source": [
    "txt_foldr = \"fcc_astarr_macs_input_union\"\n",
    "txt_fdiry = file.path(FD_RES, \"analysis_fcc_correlation\", txt_foldr)\n",
    "txt_fname = \"data.region.merge.group_crispr.score_starrmpra.rds\"\n",
    "txt_fpath = file.path(txt_fdiry, txt_fname)\n",
    "\n",
    "lst = readRDS(txt_fpath)\n",
    "\n",
    "lst_dat_region_merge = lst\n",
    "\n",
    "res = lapply(lst, dim)\n",
    "print(res)\n",
    "\n",
    "dat = lst[[1]]\n",
    "fun_display_table(head(dat, 3))"
   ]
  },
  {
   "cell_type": "markdown",
   "id": "4eea7436-ece7-4d40-8b83-662f5f1cb332",
   "metadata": {},
   "source": [
    "## Arrange table"
   ]
  },
  {
   "cell_type": "markdown",
   "id": "ade1986d-70b5-4098-b62c-924047a2fca3",
   "metadata": {},
   "source": [
    "**Get table**  \n",
    "Since the calculate does not involve CRISPR group, the cutoff rate does not impact the results"
   ]
  },
  {
   "cell_type": "code",
   "execution_count": 8,
   "id": "d215f2df-1313-404d-a194-219307f511dd",
   "metadata": {},
   "outputs": [
    {
     "name": "stdout",
     "output_type": "stream",
     "text": [
      "[1] 610756      7\n"
     ]
    },
    {
     "data": {
      "text/html": [
       "<table>\n",
       " <thead>\n",
       "  <tr>\n",
       "   <th style=\"text-align:right;\"> CutOff_CRISPR </th>\n",
       "   <th style=\"text-align:left;\"> Region </th>\n",
       "   <th style=\"text-align:left;\"> Assay_CRISPR </th>\n",
       "   <th style=\"text-align:right;\"> Group_CRISPR </th>\n",
       "   <th style=\"text-align:right;\"> Score_CRISPR </th>\n",
       "   <th style=\"text-align:left;\"> Assay_STARRMPRA </th>\n",
       "   <th style=\"text-align:right;\"> Score_STARRMPRA </th>\n",
       "  </tr>\n",
       " </thead>\n",
       "<tbody>\n",
       "  <tr>\n",
       "   <td style=\"text-align:right;\"> 0.01 </td>\n",
       "   <td style=\"text-align:left;\"> chr10:100009096-100010466 </td>\n",
       "   <td style=\"text-align:left;\"> CRISPR </td>\n",
       "   <td style=\"text-align:right;\"> 0 </td>\n",
       "   <td style=\"text-align:right;\"> -0.0378617 </td>\n",
       "   <td style=\"text-align:left;\"> ASTARR </td>\n",
       "   <td style=\"text-align:right;\"> -1.2216566 </td>\n",
       "  </tr>\n",
       "  <tr>\n",
       "   <td style=\"text-align:right;\"> 0.01 </td>\n",
       "   <td style=\"text-align:left;\"> chr10:100009096-100010466 </td>\n",
       "   <td style=\"text-align:left;\"> CRISPR </td>\n",
       "   <td style=\"text-align:right;\"> 0 </td>\n",
       "   <td style=\"text-align:right;\"> -0.0378617 </td>\n",
       "   <td style=\"text-align:left;\"> ATAC </td>\n",
       "   <td style=\"text-align:right;\"> 2.3214952 </td>\n",
       "  </tr>\n",
       "  <tr>\n",
       "   <td style=\"text-align:right;\"> 0.01 </td>\n",
       "   <td style=\"text-align:left;\"> chr10:100009096-100010466 </td>\n",
       "   <td style=\"text-align:left;\"> CRISPR </td>\n",
       "   <td style=\"text-align:right;\"> 0 </td>\n",
       "   <td style=\"text-align:right;\"> -0.0378617 </td>\n",
       "   <td style=\"text-align:left;\"> WSTARR </td>\n",
       "   <td style=\"text-align:right;\"> 0.5896695 </td>\n",
       "  </tr>\n",
       "  <tr>\n",
       "   <td style=\"text-align:right;\"> 0.01 </td>\n",
       "   <td style=\"text-align:left;\"> chr10:100009096-100010466 </td>\n",
       "   <td style=\"text-align:left;\"> CRISPRi-Growth </td>\n",
       "   <td style=\"text-align:right;\"> 0 </td>\n",
       "   <td style=\"text-align:right;\"> -0.0378617 </td>\n",
       "   <td style=\"text-align:left;\"> ASTARR </td>\n",
       "   <td style=\"text-align:right;\"> -1.2216566 </td>\n",
       "  </tr>\n",
       "  <tr>\n",
       "   <td style=\"text-align:right;\"> 0.01 </td>\n",
       "   <td style=\"text-align:left;\"> chr10:100009096-100010466 </td>\n",
       "   <td style=\"text-align:left;\"> CRISPRi-Growth </td>\n",
       "   <td style=\"text-align:right;\"> 0 </td>\n",
       "   <td style=\"text-align:right;\"> -0.0378617 </td>\n",
       "   <td style=\"text-align:left;\"> ATAC </td>\n",
       "   <td style=\"text-align:right;\"> 2.3214952 </td>\n",
       "  </tr>\n",
       "  <tr>\n",
       "   <td style=\"text-align:right;\"> 0.01 </td>\n",
       "   <td style=\"text-align:left;\"> chr10:100009096-100010466 </td>\n",
       "   <td style=\"text-align:left;\"> CRISPRi-Growth </td>\n",
       "   <td style=\"text-align:right;\"> 0 </td>\n",
       "   <td style=\"text-align:right;\"> -0.0378617 </td>\n",
       "   <td style=\"text-align:left;\"> WSTARR </td>\n",
       "   <td style=\"text-align:right;\"> 0.5896695 </td>\n",
       "  </tr>\n",
       "</tbody>\n",
       "</table>"
      ]
     },
     "metadata": {},
     "output_type": "display_data"
    }
   ],
   "source": [
    "lst = lst_dat_region_merge\n",
    "dat = lst[[1]]\n",
    "\n",
    "### assign and show\n",
    "dat_region_merge = dat\n",
    "print(dim(dat))\n",
    "fun_display_table(head(dat))"
   ]
  },
  {
   "cell_type": "markdown",
   "id": "77e5d8fd-001a-42b5-924c-601001cec8f7",
   "metadata": {},
   "source": [
    "## Test example"
   ]
  },
  {
   "cell_type": "code",
   "execution_count": 9,
   "id": "f5beff4b-d7ee-4e8f-937a-976e9db6d2e0",
   "metadata": {},
   "outputs": [],
   "source": [
    "### init: choose a CRISPR and a STARRMPRA assay\n",
    "txt_assay_out = \"CRISPRi-HCRFF\"\n",
    "txt_assay_inp = \"ASTARR\"\n",
    "\n",
    "### get scores for the chosen assays\n",
    "dat = dat_region_merge\n",
    "dat = dat %>% \n",
    "    dplyr::filter(\n",
    "        Assay_CRISPR    == txt_assay_out, \n",
    "        Assay_STARRMPRA == txt_assay_inp\n",
    "    ) %>%\n",
    "    dplyr::distinct()\n",
    "\n",
    "vec_num_score_out = dat$Score_CRISPR\n",
    "vec_num_score_inp = dat$Score_STARRMPRA"
   ]
  },
  {
   "cell_type": "markdown",
   "id": "fce63574-27f2-4728-8400-cd1cf9caeba6",
   "metadata": {},
   "source": [
    "**Calculate Spearman correlation**"
   ]
  },
  {
   "cell_type": "code",
   "execution_count": 10,
   "id": "6b20eddb-c9e3-4895-80fc-20725e7cdb86",
   "metadata": {},
   "outputs": [
    {
     "name": "stdout",
     "output_type": "stream",
     "text": [
      "[1] 0.03866773\n"
     ]
    }
   ],
   "source": [
    "num_scor =  cor(vec_num_score_out, vec_num_score_inp, method = \"spearman\")\n",
    "print(num_scor)"
   ]
  },
  {
   "cell_type": "markdown",
   "id": "150944d6-2ee3-4e38-90d9-617ab87be633",
   "metadata": {},
   "source": [
    "**Calculate Distance correlation**"
   ]
  },
  {
   "cell_type": "code",
   "execution_count": 11,
   "id": "190217b2-98c6-43ca-a06b-357b6168de08",
   "metadata": {},
   "outputs": [
    {
     "name": "stdout",
     "output_type": "stream",
     "text": [
      "[1] 0.1229384\n"
     ]
    }
   ],
   "source": [
    "num_dcor = dcor(vec_num_score_out, vec_num_score_inp)\n",
    "print(num_dcor)"
   ]
  },
  {
   "cell_type": "markdown",
   "id": "e5b049ce-88c0-4f3e-a529-56dac80e64a0",
   "metadata": {},
   "source": [
    "**Permutation test of distance correlation**\n",
    "\n",
    "Note: With a permutation test, if pvalue end up to be zero, it means p < 1/(R+1). If R = 199, p < 1/200 = 0.005"
   ]
  },
  {
   "cell_type": "code",
   "execution_count": 19,
   "id": "b026ec3c-c146-400e-9770-d8d8a11325f8",
   "metadata": {},
   "outputs": [
    {
     "name": "stdout",
     "output_type": "stream",
     "text": [
      "\n",
      "\tdCor independence test (permutation test)\n",
      "\n",
      "data:  index 1, replicates 300\n",
      "dCor = 0.12294, p-value = 0.003322\n",
      "sample estimates:\n",
      "      dCov       dCor    dVar(X)    dVar(Y) \n",
      "0.02851991 0.12293837 0.10348944 0.52002644 \n",
      "\n",
      "\n",
      "[1] \"method\"     \"statistic\"  \"estimates\"  \"p.value\"    \"replicates\"\n",
      "[6] \"n\"          \"data.name\" \n"
     ]
    }
   ],
   "source": [
    "fit = dcor.test(vec_num_score_out, vec_num_score_inp, index = 1, R = 300)\n",
    "print(fit)\n",
    "cat(\"\\n\")\n",
    "print(names(fit))"
   ]
  },
  {
   "cell_type": "code",
   "execution_count": 13,
   "id": "b2af8780-6958-4aa1-a6d4-9b60a5fd79e6",
   "metadata": {},
   "outputs": [
    {
     "data": {
      "text/html": [
       "<strong>dCor:</strong> 0.122938366688144"
      ],
      "text/latex": [
       "\\textbf{dCor:} 0.122938366688144"
      ],
      "text/markdown": [
       "**dCor:** 0.122938366688144"
      ],
      "text/plain": [
       "     dCor \n",
       "0.1229384 "
      ]
     },
     "metadata": {},
     "output_type": "display_data"
    }
   ],
   "source": [
    "fit$statistic"
   ]
  },
  {
   "cell_type": "code",
   "execution_count": 14,
   "id": "0e3502b6-56cf-4787-a936-8ca38158c26d",
   "metadata": {},
   "outputs": [
    {
     "data": {
      "text/html": [
       "0.005"
      ],
      "text/latex": [
       "0.005"
      ],
      "text/markdown": [
       "0.005"
      ],
      "text/plain": [
       "[1] 0.005"
      ]
     },
     "metadata": {},
     "output_type": "display_data"
    }
   ],
   "source": [
    "fit$p.value"
   ]
  },
  {
   "cell_type": "markdown",
   "id": "eb43e8e8-3157-487f-b2d4-3208f2858987",
   "metadata": {},
   "source": [
    "## Helper function"
   ]
  },
  {
   "cell_type": "markdown",
   "id": "07d96cdf-c906-4f22-ba92-fc519e3eb0f9",
   "metadata": {},
   "source": [
    "In CRISPR-growth, there are too many regions. Use bootstrapping to estimate the distance correlation."
   ]
  },
  {
   "cell_type": "code",
   "execution_count": 20,
   "id": "a6ce4eab-32af-450d-82db-8865307c69af",
   "metadata": {},
   "outputs": [],
   "source": [
    "### Core function: calculate and permutation test the distance correlation\n",
    "fun_dcor_inner = function(x, y, idx, p, index = 1){\n",
    "    ### permutation test of distance correlation on a given index set\n",
    "    fit = energy::dcor.test(x[idx], y[idx], index = index, R = p)\n",
    "    vec = c(\"statistic\" = unname(fit$statistic), \"p.value\" = fit$p.value)\n",
    "    return(vec)\n",
    "}\n",
    "\n",
    "### Helper function: Sample disjoint index to ensure each iteration is an independent test\n",
    "fun_make_indices = function(n, m, num_reps_eff, use_disjoint = TRUE){\n",
    "    ### return a list of index vectors, each of length m (or full n if n <= m)\n",
    "    if (n <= m){\n",
    "        return(list(seq_len(n)))\n",
    "    }\n",
    "    if (use_disjoint && n >= num_reps_eff * m){\n",
    "        ### disjoint blocks: random permutation, then split into equal chunks\n",
    "        idx_all = sample.int(n, size = num_reps_eff * m, replace = FALSE)\n",
    "        idx_lst = split(idx_all, rep(seq_len(num_reps_eff), each = m))\n",
    "        return(idx_lst)\n",
    "    } else {\n",
    "        ### not enough points for disjoint blocks -> independent draws (may overlap)\n",
    "        idx_lst = replicate(num_reps_eff, sample.int(n, size = m, replace = FALSE), simplify = FALSE)\n",
    "        return(idx_lst)\n",
    "    }\n",
    "}\n",
    "\n",
    "### Wrapper function\n",
    "fun_dcor_safe = function(\n",
    "    x, y, \n",
    "    num_max_size = 5000,    # safer default for dcor.test (O(n^2))\n",
    "    num_reps     = 10, \n",
    "    num_perm     = 300,     # permutations per subsample (R)\n",
    "    num_seed     = 123,     # set seed for sampling\n",
    "    num_index    = 1,       # distance exponent (alpha), default 1\n",
    "    use_disjoint = TRUE     # try to use disjoint subsamples when possible\n",
    "){\n",
    "    ### keep only finite pairs\n",
    "    ok = is.finite(x) & is.finite(y)\n",
    "    x  = as.numeric(x[ok])\n",
    "    y  = as.numeric(y[ok])\n",
    "\n",
    "    ### init\n",
    "    n = length(x)\n",
    "    m = min(n, num_max_size)\n",
    "\n",
    "    ### return NA if too small or no variation\n",
    "    if (n < 3L || stats::sd(x) == 0 || stats::sd(y) == 0){\n",
    "        lst = list(dcor = NA_real_, p.value = NA_real_)\n",
    "        return(lst)\n",
    "    }\n",
    "\n",
    "    ### if no subsampling needed, only one replicate is meaningful\n",
    "    num_reps_eff = if (n > m) num_reps else 1L\n",
    "\n",
    "    ### build index sets (disjoint when feasible)\n",
    "    if (!is.null(num_seed)) set.seed(num_seed)\n",
    "    lst_idx = fun_make_indices(n, m, num_reps_eff, use_disjoint = use_disjoint)\n",
    "\n",
    "    ### run tests over index sets\n",
    "    lst = lapply(\n",
    "        lst_idx,\n",
    "        function(idx) fun_dcor_inner(x, y, idx = idx, p = num_perm, index = num_index)\n",
    "    )\n",
    "    mat = do.call(cbind, lst)  ### 2 x num_reps_eff matrix with rows: statistic, p.value\n",
    "\n",
    "    ### extract results\n",
    "    vec_num_dcor = as.numeric(mat[\"statistic\", , drop = TRUE])\n",
    "    vec_num_pval = as.numeric(mat[\"p.value\",  , drop = TRUE])\n",
    "\n",
    "    ### summarize: mean dcor; combine p with Fisher\n",
    "    num_dcor_mean = mean(vec_num_dcor)\n",
    "    if (length(vec_num_pval) == 1L){\n",
    "        num_pval_comb = vec_num_pval\n",
    "    } else {\n",
    "        num_pval_comb = stats::pchisq(\n",
    "            -2 * sum(log(vec_num_pval)),\n",
    "            df = 2 * length(vec_num_pval),\n",
    "            lower.tail = FALSE\n",
    "        )\n",
    "    }\n",
    "\n",
    "    lst = list(dcor = num_dcor_mean, p.value = num_pval_comb)\n",
    "    return(lst)\n",
    "}"
   ]
  },
  {
   "cell_type": "markdown",
   "id": "e80fa3f7-3a89-4d76-9884-9256983c97d3",
   "metadata": {},
   "source": [
    "## Execute\n",
    "Loop through each pair of CRISPR and STARR/MPRA and calculate/test distance correlation"
   ]
  },
  {
   "cell_type": "code",
   "execution_count": 21,
   "id": "5c68fe6d-2a11-4681-b634-4027f0608c29",
   "metadata": {},
   "outputs": [
    {
     "data": {
      "text/html": [
       "<table>\n",
       " <thead>\n",
       "  <tr>\n",
       "   <th style=\"text-align:left;\"> Assay_CRISPR </th>\n",
       "   <th style=\"text-align:left;\"> Assay_STARRMPRA </th>\n",
       "   <th style=\"text-align:right;\"> scor </th>\n",
       "   <th style=\"text-align:right;\"> dcor </th>\n",
       "   <th style=\"text-align:right;\"> pval </th>\n",
       "   <th style=\"text-align:right;\"> padj </th>\n",
       "   <th style=\"text-align:right;\"> size </th>\n",
       "  </tr>\n",
       " </thead>\n",
       "<tbody>\n",
       "  <tr>\n",
       "   <td style=\"text-align:left;\"> CRISPRi-HCRFF </td>\n",
       "   <td style=\"text-align:left;\"> ASTARR </td>\n",
       "   <td style=\"text-align:right;\"> 0.0386677 </td>\n",
       "   <td style=\"text-align:right;\"> 0.1229384 </td>\n",
       "   <td style=\"text-align:right;\"> 0.0033223 </td>\n",
       "   <td style=\"text-align:right;\"> 0.0035596 </td>\n",
       "   <td style=\"text-align:right;\"> 1330 </td>\n",
       "  </tr>\n",
       "  <tr>\n",
       "   <td style=\"text-align:left;\"> CRISPRi-HCRFF </td>\n",
       "   <td style=\"text-align:left;\"> WSTARR </td>\n",
       "   <td style=\"text-align:right;\"> 0.0349937 </td>\n",
       "   <td style=\"text-align:right;\"> 0.1076867 </td>\n",
       "   <td style=\"text-align:right;\"> 0.0033223 </td>\n",
       "   <td style=\"text-align:right;\"> 0.0035596 </td>\n",
       "   <td style=\"text-align:right;\"> 1306 </td>\n",
       "  </tr>\n",
       "  <tr>\n",
       "   <td style=\"text-align:left;\"> CRISPRi-HCRFF </td>\n",
       "   <td style=\"text-align:left;\"> LMPRA </td>\n",
       "   <td style=\"text-align:right;\"> 0.0182321 </td>\n",
       "   <td style=\"text-align:right;\"> 0.1244118 </td>\n",
       "   <td style=\"text-align:right;\"> 0.0066445 </td>\n",
       "   <td style=\"text-align:right;\"> 0.0066445 </td>\n",
       "   <td style=\"text-align:right;\"> 721 </td>\n",
       "  </tr>\n",
       "  <tr>\n",
       "   <td style=\"text-align:left;\"> CRISPRi-HCRFF </td>\n",
       "   <td style=\"text-align:left;\"> TMPRA </td>\n",
       "   <td style=\"text-align:right;\"> 0.0019486 </td>\n",
       "   <td style=\"text-align:right;\"> 0.1422553 </td>\n",
       "   <td style=\"text-align:right;\"> 0.0033223 </td>\n",
       "   <td style=\"text-align:right;\"> 0.0035596 </td>\n",
       "   <td style=\"text-align:right;\"> 632 </td>\n",
       "  </tr>\n",
       "  <tr>\n",
       "   <td style=\"text-align:left;\"> CRISPRi-HCRFF </td>\n",
       "   <td style=\"text-align:left;\"> ATAC </td>\n",
       "   <td style=\"text-align:right;\"> 0.0659424 </td>\n",
       "   <td style=\"text-align:right;\"> 0.1807591 </td>\n",
       "   <td style=\"text-align:right;\"> 0.0033223 </td>\n",
       "   <td style=\"text-align:right;\"> 0.0035596 </td>\n",
       "   <td style=\"text-align:right;\"> 1330 </td>\n",
       "  </tr>\n",
       "  <tr>\n",
       "   <td style=\"text-align:left;\"> CRISPRi-Growth </td>\n",
       "   <td style=\"text-align:left;\"> ASTARR </td>\n",
       "   <td style=\"text-align:right;\"> -0.0180952 </td>\n",
       "   <td style=\"text-align:right;\"> 0.0527377 </td>\n",
       "   <td style=\"text-align:right;\"> 0.0000000 </td>\n",
       "   <td style=\"text-align:right;\"> 0.0000000 </td>\n",
       "   <td style=\"text-align:right;\"> 80288 </td>\n",
       "  </tr>\n",
       "  <tr>\n",
       "   <td style=\"text-align:left;\"> CRISPRi-Growth </td>\n",
       "   <td style=\"text-align:left;\"> WSTARR </td>\n",
       "   <td style=\"text-align:right;\"> 0.0938136 </td>\n",
       "   <td style=\"text-align:right;\"> 0.1030646 </td>\n",
       "   <td style=\"text-align:right;\"> 0.0000000 </td>\n",
       "   <td style=\"text-align:right;\"> 0.0000000 </td>\n",
       "   <td style=\"text-align:right;\"> 79528 </td>\n",
       "  </tr>\n",
       "  <tr>\n",
       "   <td style=\"text-align:left;\"> CRISPRi-Growth </td>\n",
       "   <td style=\"text-align:left;\"> LMPRA </td>\n",
       "   <td style=\"text-align:right;\"> 0.0732455 </td>\n",
       "   <td style=\"text-align:right;\"> 0.1049379 </td>\n",
       "   <td style=\"text-align:right;\"> 0.0000000 </td>\n",
       "   <td style=\"text-align:right;\"> 0.0000000 </td>\n",
       "   <td style=\"text-align:right;\"> 53957 </td>\n",
       "  </tr>\n",
       "  <tr>\n",
       "   <td style=\"text-align:left;\"> CRISPRi-Growth </td>\n",
       "   <td style=\"text-align:left;\"> TMPRA </td>\n",
       "   <td style=\"text-align:right;\"> 0.1533737 </td>\n",
       "   <td style=\"text-align:right;\"> 0.1628685 </td>\n",
       "   <td style=\"text-align:right;\"> 0.0033223 </td>\n",
       "   <td style=\"text-align:right;\"> 0.0035596 </td>\n",
       "   <td style=\"text-align:right;\"> 708 </td>\n",
       "  </tr>\n",
       "  <tr>\n",
       "   <td style=\"text-align:left;\"> CRISPRi-Growth </td>\n",
       "   <td style=\"text-align:left;\"> ATAC </td>\n",
       "   <td style=\"text-align:right;\"> 0.0878955 </td>\n",
       "   <td style=\"text-align:right;\"> 0.1202718 </td>\n",
       "   <td style=\"text-align:right;\"> 0.0000000 </td>\n",
       "   <td style=\"text-align:right;\"> 0.0000000 </td>\n",
       "   <td style=\"text-align:right;\"> 80288 </td>\n",
       "  </tr>\n",
       "  <tr>\n",
       "   <td style=\"text-align:left;\"> ENCODE-rE2G Benchmark </td>\n",
       "   <td style=\"text-align:left;\"> ASTARR </td>\n",
       "   <td style=\"text-align:right;\"> -0.1385846 </td>\n",
       "   <td style=\"text-align:right;\"> 0.1760506 </td>\n",
       "   <td style=\"text-align:right;\"> 0.0033223 </td>\n",
       "   <td style=\"text-align:right;\"> 0.0035596 </td>\n",
       "   <td style=\"text-align:right;\"> 3169 </td>\n",
       "  </tr>\n",
       "  <tr>\n",
       "   <td style=\"text-align:left;\"> ENCODE-rE2G Benchmark </td>\n",
       "   <td style=\"text-align:left;\"> WSTARR </td>\n",
       "   <td style=\"text-align:right;\"> -0.0780332 </td>\n",
       "   <td style=\"text-align:right;\"> 0.0917318 </td>\n",
       "   <td style=\"text-align:right;\"> 0.0033223 </td>\n",
       "   <td style=\"text-align:right;\"> 0.0035596 </td>\n",
       "   <td style=\"text-align:right;\"> 3154 </td>\n",
       "  </tr>\n",
       "  <tr>\n",
       "   <td style=\"text-align:left;\"> ENCODE-rE2G Benchmark </td>\n",
       "   <td style=\"text-align:left;\"> LMPRA </td>\n",
       "   <td style=\"text-align:right;\"> -0.0444022 </td>\n",
       "   <td style=\"text-align:right;\"> 0.0733794 </td>\n",
       "   <td style=\"text-align:right;\"> 0.0033223 </td>\n",
       "   <td style=\"text-align:right;\"> 0.0035596 </td>\n",
       "   <td style=\"text-align:right;\"> 2691 </td>\n",
       "  </tr>\n",
       "  <tr>\n",
       "   <td style=\"text-align:left;\"> ENCODE-rE2G Benchmark </td>\n",
       "   <td style=\"text-align:left;\"> TMPRA </td>\n",
       "   <td style=\"text-align:right;\"> -0.1772569 </td>\n",
       "   <td style=\"text-align:right;\"> 0.3202003 </td>\n",
       "   <td style=\"text-align:right;\"> 0.0033223 </td>\n",
       "   <td style=\"text-align:right;\"> 0.0035596 </td>\n",
       "   <td style=\"text-align:right;\"> 217 </td>\n",
       "  </tr>\n",
       "  <tr>\n",
       "   <td style=\"text-align:left;\"> ENCODE-rE2G Benchmark </td>\n",
       "   <td style=\"text-align:left;\"> ATAC </td>\n",
       "   <td style=\"text-align:right;\"> -0.1765386 </td>\n",
       "   <td style=\"text-align:right;\"> 0.1866028 </td>\n",
       "   <td style=\"text-align:right;\"> 0.0033223 </td>\n",
       "   <td style=\"text-align:right;\"> 0.0035596 </td>\n",
       "   <td style=\"text-align:right;\"> 3169 </td>\n",
       "  </tr>\n",
       "</tbody>\n",
       "</table>"
      ]
     },
     "metadata": {},
     "output_type": "display_data"
    }
   ],
   "source": [
    "lst = lapply(VEC_TXT_ASSAY_OUT, function(txt_assay_out){\n",
    "    lst = lapply(VEC_TXT_ASSAY_INP, function(txt_assay_inp){\n",
    "        ### get chosen assay pair\n",
    "        dat = dat_region_merge\n",
    "        dat = dat %>% \n",
    "            dplyr::filter(\n",
    "                Assay_CRISPR    == txt_assay_out, \n",
    "                Assay_STARRMPRA == txt_assay_inp\n",
    "            ) %>%\n",
    "            dplyr::distinct()\n",
    "\n",
    "        ### get scores for chosen assay\n",
    "        vec_num_score_out = dat$Score_CRISPR\n",
    "        vec_num_score_inp = dat$Score_STARRMPRA\n",
    "        \n",
    "        ### calculate spearman correlation\n",
    "        num_scor = cor(vec_num_score_out, vec_num_score_inp, method = \"spearman\")\n",
    "\n",
    "        ### calculate/test distance correlation\n",
    "        res = fun_dcor_safe(vec_num_score_out, vec_num_score_inp)\n",
    "        num_dcor = res$dcor\n",
    "        num_pval = res$p.value\n",
    "        \n",
    "        ### summarize the results\n",
    "        dat = data.frame(\n",
    "            \"scor\" = num_scor,\n",
    "            \"dcor\" = num_dcor,\n",
    "            \"pval\" = num_pval,\n",
    "            \"size\" = nrow(dat)\n",
    "        )\n",
    "        return(dat)\n",
    "    })\n",
    "    \n",
    "    ### combine results across different input assay\n",
    "    dat = bind_rows(lst, .id = \"Assay_STARRMPRA\")\n",
    "    return(dat)\n",
    "})\n",
    "\n",
    "### concat and adjust pvalues for multi-testing\n",
    "dat = bind_rows(lst, .id = \"Assay_CRISPR\")\n",
    "dat = dat %>% \n",
    "    dplyr::mutate(padj = p.adjust(pval, method = \"BH\")) %>%\n",
    "    dplyr::select(\n",
    "        Assay_CRISPR, \n",
    "        Assay_STARRMPRA,\n",
    "        scor, dcor, \n",
    "        pval, padj, \n",
    "        size\n",
    "    )\n",
    "\n",
    "### assign and show\n",
    "dat_assay_dcor_stats = dat\n",
    "fun_display_table(dat)"
   ]
  },
  {
   "cell_type": "markdown",
   "id": "d6677654-ce9e-4fcc-b4c0-f0c11e32edc4",
   "metadata": {},
   "source": [
    "## Export results"
   ]
  },
  {
   "cell_type": "code",
   "execution_count": 17,
   "id": "355275d8-987f-4153-8632-bfec3cdcaa47",
   "metadata": {},
   "outputs": [],
   "source": [
    "### set file directory\n",
    "txt_foldr = \"fcc_astarr_macs_input_union\"\n",
    "txt_fdiry = file.path(FD_RES, \"analysis_fcc_correlation\", txt_foldr)\n",
    "txt_fname = \"result.cripsr_vs_starrmpra.distance_correlation.tsv\"\n",
    "txt_fpath = file.path(txt_fdiry, txt_fname)\n",
    "\n",
    "### write table\n",
    "dat = dat_assay_dcor_stats\n",
    "write_tsv(dat, txt_fpath)"
   ]
  }
 ],
 "metadata": {
  "kernelspec": {
   "display_name": "R",
   "language": "R",
   "name": "ir"
  },
  "language_info": {
   "codemirror_mode": "r",
   "file_extension": ".r",
   "mimetype": "text/x-r-source",
   "name": "R",
   "pygments_lexer": "r",
   "version": "4.5.1"
  }
 },
 "nbformat": 4,
 "nbformat_minor": 5
}
