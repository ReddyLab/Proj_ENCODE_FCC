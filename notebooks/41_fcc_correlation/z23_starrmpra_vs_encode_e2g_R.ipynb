{
 "cells": [
  {
   "cell_type": "raw",
   "id": "6fd1eea0-85c1-4fcd-9305-063283f1762e",
   "metadata": {},
   "source": [
    "---\n",
    "title: ...\n",
    "subtitle: combine ATAC, setup total, final, and share verion of table\n",
    "format:\n",
    "    html:\n",
    "        code-fold:  true\n",
    "        code-tools: true\n",
    "---"
   ]
  },
  {
   "cell_type": "markdown",
   "id": "da00b92c-2a21-4e22-bcd8-93ec9b9cac9d",
   "metadata": {},
   "source": [
    "**Set environment**"
   ]
  },
  {
   "cell_type": "code",
   "execution_count": 1,
   "id": "96378ebc-321f-4d76-899d-23057fc797a1",
   "metadata": {},
   "outputs": [
    {
     "name": "stdout",
     "output_type": "stream",
     "text": [
      "You are working on        Singularity: singularity_proj_encode_fcc \n",
      "BASE DIRECTORY (FD_BASE): /data/reddylab/Kuei \n",
      "REPO DIRECTORY (FD_REPO): /data/reddylab/Kuei/repo \n",
      "WORK DIRECTORY (FD_WORK): /data/reddylab/Kuei/work \n",
      "DATA DIRECTORY (FD_DATA): /data/reddylab/Kuei/data \n",
      "\n",
      "You are working with      ENCODE FCC \n",
      "PATH OF PROJECT (FD_PRJ): /data/reddylab/Kuei/repo/Proj_ENCODE_FCC \n",
      "PROJECT RESULTS (FD_RES): /data/reddylab/Kuei/repo/Proj_ENCODE_FCC/results \n",
      "PROJECT SCRIPTS (FD_EXE): /data/reddylab/Kuei/repo/Proj_ENCODE_FCC/scripts \n",
      "PROJECT DATA    (FD_DAT): /data/reddylab/Kuei/repo/Proj_ENCODE_FCC/data \n",
      "PROJECT NOTE    (FD_NBK): /data/reddylab/Kuei/repo/Proj_ENCODE_FCC/notebooks \n",
      "PROJECT DOCS    (FD_DOC): /data/reddylab/Kuei/repo/Proj_ENCODE_FCC/docs \n",
      "PROJECT LOG     (FD_LOG): /data/reddylab/Kuei/repo/Proj_ENCODE_FCC/log \n",
      "PROJECT REF     (FD_REF): /data/reddylab/Kuei/repo/Proj_ENCODE_FCC/references \n",
      "\n"
     ]
    }
   ],
   "source": [
    "suppressMessages(suppressWarnings(source(\"../run_config_project_sing.R\")))\n",
    "show_env()"
   ]
  },
  {
   "cell_type": "markdown",
   "id": "c05f44e5-46c8-414d-ba40-a0d5b6171489",
   "metadata": {},
   "source": [
    "**Set global variables**"
   ]
  },
  {
   "cell_type": "code",
   "execution_count": 2,
   "id": "2b3c4bd4-166b-4e27-956a-a502f99a2ecc",
   "metadata": {},
   "outputs": [],
   "source": [
    "txt_fdiry = file.path(FD_RES, \"region_coverage_fcc\")\n",
    "vec = dir(txt_fdiry)\n",
    "for (txt in vec) {cat(txt, \"\\n\")}"
   ]
  },
  {
   "cell_type": "code",
   "execution_count": 3,
   "id": "8f73e787-5003-46ae-8a85-b326c98692cf",
   "metadata": {},
   "outputs": [
    {
     "name": "stdout",
     "output_type": "stream",
     "text": [
      "CRISPRi_FlowFISH_K562_Riley_JinWoo \n",
      "CRISPRi_Growth_K562_Gersbach_JinWoo \n",
      "MPRA_Lenti_K562_Nadav_Vikram \n",
      "MPRA_Tiling_K562_Tewhey_Hannah \n",
      "STARR_ATAC_K562_Reddy_KS274 \n",
      "STARR_ATAC_K562_Reddy_KS91 \n",
      "STARR_ATAC_K562_Reddy_KSMerge \n",
      "STARR_WHG_K562_Reddy_A001 \n",
      "summary \n"
     ]
    }
   ],
   "source": [
    "txt_region = \"fcc_astarr_macs_input_union\"\n",
    "txt_fdiry  = file.path(FD_RES, \"region_coverage_fcc_score\", txt_region)\n",
    "vec = dir(txt_fdiry)\n",
    "for (txt in vec) {cat(txt, \"\\n\")}"
   ]
  },
  {
   "cell_type": "code",
   "execution_count": 4,
   "id": "fa9b3844-99aa-4e92-aa6a-27327d22fb9c",
   "metadata": {},
   "outputs": [
    {
     "name": "stdout",
     "output_type": "stream",
     "text": [
      "fcc_astarr_macs_input_overlap \n",
      "fcc_astarr_macs_input_union \n"
     ]
    }
   ],
   "source": [
    "#txt_fdiry = file.path(FD_RES, \"region_coverage_fcc\")\n",
    "#vec = dir(txt_fdiry)\n",
    "vec = c(\"fcc_astarr_macs_input_overlap\", \"fcc_astarr_macs_input_union\")\n",
    "names(vec) = vec\n",
    "\n",
    "VEC_TXT_REGION = vec\n",
    "VEC_TXT_FOLDER = vec\n",
    "for (txt in vec) {cat(txt, \"\\n\")}"
   ]
  },
  {
   "cell_type": "markdown",
   "id": "0754e154-7fde-4adf-954c-ae8d38bff457",
   "metadata": {},
   "source": [
    "## Import data"
   ]
  },
  {
   "cell_type": "code",
   "execution_count": 5,
   "id": "4252b871-201c-492c-9683-c67d3aca5bc2",
   "metadata": {},
   "outputs": [
    {
     "name": "stdout",
     "output_type": "stream",
     "text": [
      "$fcc_astarr_macs_input_overlap\n",
      "[1] 432928     12\n",
      "\n",
      "$fcc_astarr_macs_input_union\n",
      "[1] 639718     12\n",
      "\n"
     ]
    },
    {
     "data": {
      "text/html": [
       "<table class=\"dataframe\">\n",
       "<caption>A tibble: 3 × 12</caption>\n",
       "<thead>\n",
       "\t<tr><th scope=col>Chrom</th><th scope=col>ChromStart</th><th scope=col>ChromEnd</th><th scope=col>Region</th><th scope=col>Score</th><th scope=col>Zcore</th><th scope=col>Score_Label</th><th scope=col>Zcore_Label</th><th scope=col>Assay_Name</th><th scope=col>Assay_Type</th><th scope=col>Assay_Group</th><th scope=col>Assay_Label</th></tr>\n",
       "\t<tr><th scope=col>&lt;chr&gt;</th><th scope=col>&lt;dbl&gt;</th><th scope=col>&lt;dbl&gt;</th><th scope=col>&lt;chr&gt;</th><th scope=col>&lt;dbl&gt;</th><th scope=col>&lt;dbl&gt;</th><th scope=col>&lt;chr&gt;</th><th scope=col>&lt;chr&gt;</th><th scope=col>&lt;chr&gt;</th><th scope=col>&lt;chr&gt;</th><th scope=col>&lt;chr&gt;</th><th scope=col>&lt;chr&gt;</th></tr>\n",
       "</thead>\n",
       "<tbody>\n",
       "\t<tr><td>chr1</td><td>10038</td><td>10405</td><td>chr1:10038-10405</td><td>-2.23485265</td><td>-3.5573621</td><td>Log2FC</td><td>Scale(Log2FC)</td><td>STARR_ATAC_K562_Reddy_KS91</td><td>ASTARR</td><td>ASTARR_KS91</td><td>ATAC-STARR</td></tr>\n",
       "\t<tr><td>chr1</td><td>14282</td><td>14614</td><td>chr1:14282-14614</td><td> 0.03179044</td><td> 0.0361388</td><td>Log2FC</td><td>Scale(Log2FC)</td><td>STARR_ATAC_K562_Reddy_KS91</td><td>ASTARR</td><td>ASTARR_KS91</td><td>ATAC-STARR</td></tr>\n",
       "\t<tr><td>chr1</td><td>16025</td><td>16338</td><td>chr1:16025-16338</td><td>-1.33934060</td><td>-2.1376311</td><td>Log2FC</td><td>Scale(Log2FC)</td><td>STARR_ATAC_K562_Reddy_KS91</td><td>ASTARR</td><td>ASTARR_KS91</td><td>ATAC-STARR</td></tr>\n",
       "</tbody>\n",
       "</table>\n"
      ],
      "text/latex": [
       "A tibble: 3 × 12\n",
       "\\begin{tabular}{llllllllllll}\n",
       " Chrom & ChromStart & ChromEnd & Region & Score & Zcore & Score\\_Label & Zcore\\_Label & Assay\\_Name & Assay\\_Type & Assay\\_Group & Assay\\_Label\\\\\n",
       " <chr> & <dbl> & <dbl> & <chr> & <dbl> & <dbl> & <chr> & <chr> & <chr> & <chr> & <chr> & <chr>\\\\\n",
       "\\hline\n",
       "\t chr1 & 10038 & 10405 & chr1:10038-10405 & -2.23485265 & -3.5573621 & Log2FC & Scale(Log2FC) & STARR\\_ATAC\\_K562\\_Reddy\\_KS91 & ASTARR & ASTARR\\_KS91 & ATAC-STARR\\\\\n",
       "\t chr1 & 14282 & 14614 & chr1:14282-14614 &  0.03179044 &  0.0361388 & Log2FC & Scale(Log2FC) & STARR\\_ATAC\\_K562\\_Reddy\\_KS91 & ASTARR & ASTARR\\_KS91 & ATAC-STARR\\\\\n",
       "\t chr1 & 16025 & 16338 & chr1:16025-16338 & -1.33934060 & -2.1376311 & Log2FC & Scale(Log2FC) & STARR\\_ATAC\\_K562\\_Reddy\\_KS91 & ASTARR & ASTARR\\_KS91 & ATAC-STARR\\\\\n",
       "\\end{tabular}\n"
      ],
      "text/markdown": [
       "\n",
       "A tibble: 3 × 12\n",
       "\n",
       "| Chrom &lt;chr&gt; | ChromStart &lt;dbl&gt; | ChromEnd &lt;dbl&gt; | Region &lt;chr&gt; | Score &lt;dbl&gt; | Zcore &lt;dbl&gt; | Score_Label &lt;chr&gt; | Zcore_Label &lt;chr&gt; | Assay_Name &lt;chr&gt; | Assay_Type &lt;chr&gt; | Assay_Group &lt;chr&gt; | Assay_Label &lt;chr&gt; |\n",
       "|---|---|---|---|---|---|---|---|---|---|---|---|\n",
       "| chr1 | 10038 | 10405 | chr1:10038-10405 | -2.23485265 | -3.5573621 | Log2FC | Scale(Log2FC) | STARR_ATAC_K562_Reddy_KS91 | ASTARR | ASTARR_KS91 | ATAC-STARR |\n",
       "| chr1 | 14282 | 14614 | chr1:14282-14614 |  0.03179044 |  0.0361388 | Log2FC | Scale(Log2FC) | STARR_ATAC_K562_Reddy_KS91 | ASTARR | ASTARR_KS91 | ATAC-STARR |\n",
       "| chr1 | 16025 | 16338 | chr1:16025-16338 | -1.33934060 | -2.1376311 | Log2FC | Scale(Log2FC) | STARR_ATAC_K562_Reddy_KS91 | ASTARR | ASTARR_KS91 | ATAC-STARR |\n",
       "\n"
      ],
      "text/plain": [
       "  Chrom ChromStart ChromEnd Region           Score       Zcore      Score_Label\n",
       "1 chr1  10038      10405    chr1:10038-10405 -2.23485265 -3.5573621 Log2FC     \n",
       "2 chr1  14282      14614    chr1:14282-14614  0.03179044  0.0361388 Log2FC     \n",
       "3 chr1  16025      16338    chr1:16025-16338 -1.33934060 -2.1376311 Log2FC     \n",
       "  Zcore_Label   Assay_Name                 Assay_Type Assay_Group Assay_Label\n",
       "1 Scale(Log2FC) STARR_ATAC_K562_Reddy_KS91 ASTARR     ASTARR_KS91 ATAC-STARR \n",
       "2 Scale(Log2FC) STARR_ATAC_K562_Reddy_KS91 ASTARR     ASTARR_KS91 ATAC-STARR \n",
       "3 Scale(Log2FC) STARR_ATAC_K562_Reddy_KS91 ASTARR     ASTARR_KS91 ATAC-STARR "
      ]
     },
     "metadata": {},
     "output_type": "display_data"
    }
   ],
   "source": [
    "lst = lapply(VEC_TXT_REGION, function(txt_region){\n",
    "    ### set file directory\n",
    "    txt_fdiry  = file.path(\n",
    "        FD_RES, \n",
    "        \"region_coverage_fcc_score\", \n",
    "        txt_region, \n",
    "        \"summary\"\n",
    "    )\n",
    "    #txt_fname = \"result.coverage.score.final.tsv\"\n",
    "    txt_fname = \"region.coverage.score.fcc.final.tsv\"\n",
    "    txt_fpath = file.path(txt_fdiry, txt_fname)\n",
    "\n",
    "    ### read table\n",
    "    dat = read_tsv(txt_fpath, show_col_types = FALSE)\n",
    "    return(dat)\n",
    "})\n",
    "\n",
    "### assign and show\n",
    "lst_dat_region_score_fcc_import = lst\n",
    "\n",
    "res = lapply(lst, dim)\n",
    "print(res)\n",
    "\n",
    "dat = lst[[1]]\n",
    "head(dat, 3)"
   ]
  },
  {
   "cell_type": "code",
   "execution_count": 6,
   "id": "ea5eb94e-691f-4cff-b266-34d4209f4a5a",
   "metadata": {},
   "outputs": [
    {
     "name": "stdout",
     "output_type": "stream",
     "text": [
      "$fcc_astarr_macs_input_overlap\n",
      "[1] 150041     10\n",
      "\n",
      "$fcc_astarr_macs_input_union\n",
      "[1] 246852     10\n",
      "\n"
     ]
    },
    {
     "data": {
      "text/html": [
       "<table class=\"dataframe\">\n",
       "<caption>A tibble: 3 × 10</caption>\n",
       "<thead>\n",
       "\t<tr><th scope=col>Chrom</th><th scope=col>ChromStart</th><th scope=col>ChromEnd</th><th scope=col>Region</th><th scope=col>Score</th><th scope=col>Score_Label</th><th scope=col>Assay_Name</th><th scope=col>Assay_Type</th><th scope=col>Assay_Group</th><th scope=col>Assay_Label</th></tr>\n",
       "\t<tr><th scope=col>&lt;chr&gt;</th><th scope=col>&lt;dbl&gt;</th><th scope=col>&lt;dbl&gt;</th><th scope=col>&lt;chr&gt;</th><th scope=col>&lt;dbl&gt;</th><th scope=col>&lt;chr&gt;</th><th scope=col>&lt;chr&gt;</th><th scope=col>&lt;chr&gt;</th><th scope=col>&lt;chr&gt;</th><th scope=col>&lt;chr&gt;</th></tr>\n",
       "</thead>\n",
       "<tbody>\n",
       "\t<tr><td>chr1</td><td>10038</td><td>10405</td><td>chr1:10038-10405</td><td>3.940038</td><td>Q3</td><td>STARR_ATAC_K562_Reddy_KS91</td><td>ATAC</td><td>ASTARR_KS91</td><td>ATAC</td></tr>\n",
       "\t<tr><td>chr1</td><td>14282</td><td>14614</td><td>chr1:14282-14614</td><td>2.841707</td><td>Q2</td><td>STARR_ATAC_K562_Reddy_KS91</td><td>ATAC</td><td>ASTARR_KS91</td><td>ATAC</td></tr>\n",
       "\t<tr><td>chr1</td><td>16025</td><td>16338</td><td>chr1:16025-16338</td><td>3.830812</td><td>Q3</td><td>STARR_ATAC_K562_Reddy_KS91</td><td>ATAC</td><td>ASTARR_KS91</td><td>ATAC</td></tr>\n",
       "</tbody>\n",
       "</table>\n"
      ],
      "text/latex": [
       "A tibble: 3 × 10\n",
       "\\begin{tabular}{llllllllll}\n",
       " Chrom & ChromStart & ChromEnd & Region & Score & Score\\_Label & Assay\\_Name & Assay\\_Type & Assay\\_Group & Assay\\_Label\\\\\n",
       " <chr> & <dbl> & <dbl> & <chr> & <dbl> & <chr> & <chr> & <chr> & <chr> & <chr>\\\\\n",
       "\\hline\n",
       "\t chr1 & 10038 & 10405 & chr1:10038-10405 & 3.940038 & Q3 & STARR\\_ATAC\\_K562\\_Reddy\\_KS91 & ATAC & ASTARR\\_KS91 & ATAC\\\\\n",
       "\t chr1 & 14282 & 14614 & chr1:14282-14614 & 2.841707 & Q2 & STARR\\_ATAC\\_K562\\_Reddy\\_KS91 & ATAC & ASTARR\\_KS91 & ATAC\\\\\n",
       "\t chr1 & 16025 & 16338 & chr1:16025-16338 & 3.830812 & Q3 & STARR\\_ATAC\\_K562\\_Reddy\\_KS91 & ATAC & ASTARR\\_KS91 & ATAC\\\\\n",
       "\\end{tabular}\n"
      ],
      "text/markdown": [
       "\n",
       "A tibble: 3 × 10\n",
       "\n",
       "| Chrom &lt;chr&gt; | ChromStart &lt;dbl&gt; | ChromEnd &lt;dbl&gt; | Region &lt;chr&gt; | Score &lt;dbl&gt; | Score_Label &lt;chr&gt; | Assay_Name &lt;chr&gt; | Assay_Type &lt;chr&gt; | Assay_Group &lt;chr&gt; | Assay_Label &lt;chr&gt; |\n",
       "|---|---|---|---|---|---|---|---|---|---|\n",
       "| chr1 | 10038 | 10405 | chr1:10038-10405 | 3.940038 | Q3 | STARR_ATAC_K562_Reddy_KS91 | ATAC | ASTARR_KS91 | ATAC |\n",
       "| chr1 | 14282 | 14614 | chr1:14282-14614 | 2.841707 | Q2 | STARR_ATAC_K562_Reddy_KS91 | ATAC | ASTARR_KS91 | ATAC |\n",
       "| chr1 | 16025 | 16338 | chr1:16025-16338 | 3.830812 | Q3 | STARR_ATAC_K562_Reddy_KS91 | ATAC | ASTARR_KS91 | ATAC |\n",
       "\n"
      ],
      "text/plain": [
       "  Chrom ChromStart ChromEnd Region           Score    Score_Label\n",
       "1 chr1  10038      10405    chr1:10038-10405 3.940038 Q3         \n",
       "2 chr1  14282      14614    chr1:14282-14614 2.841707 Q2         \n",
       "3 chr1  16025      16338    chr1:16025-16338 3.830812 Q3         \n",
       "  Assay_Name                 Assay_Type Assay_Group Assay_Label\n",
       "1 STARR_ATAC_K562_Reddy_KS91 ATAC       ASTARR_KS91 ATAC       \n",
       "2 STARR_ATAC_K562_Reddy_KS91 ATAC       ASTARR_KS91 ATAC       \n",
       "3 STARR_ATAC_K562_Reddy_KS91 ATAC       ASTARR_KS91 ATAC       "
      ]
     },
     "metadata": {},
     "output_type": "display_data"
    }
   ],
   "source": [
    "lst = lapply(VEC_TXT_REGION, function(txt_region){\n",
    "    ### set file directory\n",
    "    txt_fdiry  = file.path(\n",
    "        FD_RES, \n",
    "        \"region_coverage_fcc_score\", \n",
    "        txt_region, \n",
    "        \"summary\"\n",
    "    )\n",
    "    #txt_fname = \"result.coverage.score.final.tsv\"\n",
    "    txt_fname = \"region.coverage.score.atac.tsv\"\n",
    "    txt_fpath = file.path(txt_fdiry, txt_fname)\n",
    "\n",
    "    ### read table\n",
    "    dat = read_tsv(txt_fpath, show_col_types = FALSE)\n",
    "    return(dat)\n",
    "})\n",
    "\n",
    "### assign and show\n",
    "lst_dat_region_score_atac_import = lst\n",
    "\n",
    "res = lapply(lst, dim)\n",
    "print(res)\n",
    "\n",
    "dat = lst[[1]]\n",
    "head(dat, 3)"
   ]
  },
  {
   "cell_type": "code",
   "execution_count": 7,
   "id": "95a841b7-62ef-44fe-9191-3a6ca061d264",
   "metadata": {},
   "outputs": [
    {
     "name": "stdout",
     "output_type": "stream",
     "text": [
      "$fcc_astarr_macs_input_overlap\n",
      "[1] 582969      6\n",
      "\n",
      "$fcc_astarr_macs_input_union\n",
      "[1] 886570      6\n",
      "\n"
     ]
    },
    {
     "data": {
      "text/html": [
       "<table class=\"dataframe\">\n",
       "<caption>A tibble: 3 × 6</caption>\n",
       "<thead>\n",
       "\t<tr><th scope=col>Chrom</th><th scope=col>ChromStart</th><th scope=col>ChromEnd</th><th scope=col>Region</th><th scope=col>Score</th><th scope=col>Assay_Type</th></tr>\n",
       "\t<tr><th scope=col>&lt;chr&gt;</th><th scope=col>&lt;dbl&gt;</th><th scope=col>&lt;dbl&gt;</th><th scope=col>&lt;chr&gt;</th><th scope=col>&lt;dbl&gt;</th><th scope=col>&lt;chr&gt;</th></tr>\n",
       "</thead>\n",
       "<tbody>\n",
       "\t<tr><td>chr1</td><td>10038</td><td>10405</td><td>chr1:10038-10405</td><td>-2.23485265</td><td>ASTARR</td></tr>\n",
       "\t<tr><td>chr1</td><td>14282</td><td>14614</td><td>chr1:14282-14614</td><td> 0.03179044</td><td>ASTARR</td></tr>\n",
       "\t<tr><td>chr1</td><td>16025</td><td>16338</td><td>chr1:16025-16338</td><td>-1.33934060</td><td>ASTARR</td></tr>\n",
       "</tbody>\n",
       "</table>\n"
      ],
      "text/latex": [
       "A tibble: 3 × 6\n",
       "\\begin{tabular}{llllll}\n",
       " Chrom & ChromStart & ChromEnd & Region & Score & Assay\\_Type\\\\\n",
       " <chr> & <dbl> & <dbl> & <chr> & <dbl> & <chr>\\\\\n",
       "\\hline\n",
       "\t chr1 & 10038 & 10405 & chr1:10038-10405 & -2.23485265 & ASTARR\\\\\n",
       "\t chr1 & 14282 & 14614 & chr1:14282-14614 &  0.03179044 & ASTARR\\\\\n",
       "\t chr1 & 16025 & 16338 & chr1:16025-16338 & -1.33934060 & ASTARR\\\\\n",
       "\\end{tabular}\n"
      ],
      "text/markdown": [
       "\n",
       "A tibble: 3 × 6\n",
       "\n",
       "| Chrom &lt;chr&gt; | ChromStart &lt;dbl&gt; | ChromEnd &lt;dbl&gt; | Region &lt;chr&gt; | Score &lt;dbl&gt; | Assay_Type &lt;chr&gt; |\n",
       "|---|---|---|---|---|---|\n",
       "| chr1 | 10038 | 10405 | chr1:10038-10405 | -2.23485265 | ASTARR |\n",
       "| chr1 | 14282 | 14614 | chr1:14282-14614 |  0.03179044 | ASTARR |\n",
       "| chr1 | 16025 | 16338 | chr1:16025-16338 | -1.33934060 | ASTARR |\n",
       "\n"
      ],
      "text/plain": [
       "  Chrom ChromStart ChromEnd Region           Score       Assay_Type\n",
       "1 chr1  10038      10405    chr1:10038-10405 -2.23485265 ASTARR    \n",
       "2 chr1  14282      14614    chr1:14282-14614  0.03179044 ASTARR    \n",
       "3 chr1  16025      16338    chr1:16025-16338 -1.33934060 ASTARR    "
      ]
     },
     "metadata": {},
     "output_type": "display_data"
    }
   ],
   "source": [
    "lst = lapply(VEC_TXT_REGION, function(txt_region){\n",
    "    ### get tables\n",
    "    dat_region_score_fcc_import  = lst_dat_region_score_fcc_import[[txt_region]]\n",
    "    dat_region_score_atac_import = lst_dat_region_score_atac_import[[txt_region]]\n",
    "    \n",
    "    ### arrange tables\n",
    "    vec = c(\"Chrom\", \"ChromStart\", \"ChromEnd\", \"Region\", \"Score\", \"Assay_Type\")\n",
    "    dat = dat_region_score_fcc_import\n",
    "    dat = dat %>% dplyr::select(any_of(vec))\n",
    "    dat_region_score_fcc_arrange = dat\n",
    "\n",
    "    dat = dat_region_score_atac_import\n",
    "    dat = dat %>% dplyr::select(any_of(vec))\n",
    "    dat_region_score_atac_arrange = dat\n",
    "\n",
    "    ### combine tables\n",
    "    dat = bind_rows(\n",
    "        dat_region_score_fcc_arrange,\n",
    "        dat_region_score_atac_arrange\n",
    "    )\n",
    "    return(dat)\n",
    "})\n",
    "\n",
    "### assign and show\n",
    "lst_dat_region_score_import = lst\n",
    "\n",
    "res = lapply(lst, dim)\n",
    "print(res)\n",
    "\n",
    "dat = lst[[1]]\n",
    "head(dat, 3)"
   ]
  },
  {
   "cell_type": "code",
   "execution_count": 8,
   "id": "93c8abe0-0313-4c97-b500-a8c9072cc337",
   "metadata": {},
   "outputs": [
    {
     "name": "stdout",
     "output_type": "stream",
     "text": [
      "$fcc_astarr_macs_input_overlap\n",
      "[1] 3035    6\n",
      "\n",
      "$fcc_astarr_macs_input_union\n",
      "[1] 3169    6\n",
      "\n"
     ]
    },
    {
     "data": {
      "text/html": [
       "<table class=\"dataframe\">\n",
       "<caption>A tibble: 3 × 6</caption>\n",
       "<thead>\n",
       "\t<tr><th scope=col>Chrom</th><th scope=col>ChromStart</th><th scope=col>ChromEnd</th><th scope=col>Region</th><th scope=col>Score</th><th scope=col>Zcore</th></tr>\n",
       "\t<tr><th scope=col>&lt;chr&gt;</th><th scope=col>&lt;dbl&gt;</th><th scope=col>&lt;dbl&gt;</th><th scope=col>&lt;chr&gt;</th><th scope=col>&lt;dbl&gt;</th><th scope=col>&lt;dbl&gt;</th></tr>\n",
       "</thead>\n",
       "<tbody>\n",
       "\t<tr><td>chr1</td><td>3774056</td><td>3776283</td><td>chr1:3774056-3776283</td><td>-0.36554306</td><td>-5.9011920</td></tr>\n",
       "\t<tr><td>chr1</td><td>3803955</td><td>3806146</td><td>chr1:3803955-3806146</td><td> 0.01210283</td><td> 0.3625040</td></tr>\n",
       "\t<tr><td>chr1</td><td>4126841</td><td>4128109</td><td>chr1:4126841-4128109</td><td> 0.02338379</td><td> 0.5496118</td></tr>\n",
       "</tbody>\n",
       "</table>\n"
      ],
      "text/latex": [
       "A tibble: 3 × 6\n",
       "\\begin{tabular}{llllll}\n",
       " Chrom & ChromStart & ChromEnd & Region & Score & Zcore\\\\\n",
       " <chr> & <dbl> & <dbl> & <chr> & <dbl> & <dbl>\\\\\n",
       "\\hline\n",
       "\t chr1 & 3774056 & 3776283 & chr1:3774056-3776283 & -0.36554306 & -5.9011920\\\\\n",
       "\t chr1 & 3803955 & 3806146 & chr1:3803955-3806146 &  0.01210283 &  0.3625040\\\\\n",
       "\t chr1 & 4126841 & 4128109 & chr1:4126841-4128109 &  0.02338379 &  0.5496118\\\\\n",
       "\\end{tabular}\n"
      ],
      "text/markdown": [
       "\n",
       "A tibble: 3 × 6\n",
       "\n",
       "| Chrom &lt;chr&gt; | ChromStart &lt;dbl&gt; | ChromEnd &lt;dbl&gt; | Region &lt;chr&gt; | Score &lt;dbl&gt; | Zcore &lt;dbl&gt; |\n",
       "|---|---|---|---|---|---|\n",
       "| chr1 | 3774056 | 3776283 | chr1:3774056-3776283 | -0.36554306 | -5.9011920 |\n",
       "| chr1 | 3803955 | 3806146 | chr1:3803955-3806146 |  0.01210283 |  0.3625040 |\n",
       "| chr1 | 4126841 | 4128109 | chr1:4126841-4128109 |  0.02338379 |  0.5496118 |\n",
       "\n"
      ],
      "text/plain": [
       "  Chrom ChromStart ChromEnd Region               Score       Zcore     \n",
       "1 chr1  3774056    3776283  chr1:3774056-3776283 -0.36554306 -5.9011920\n",
       "2 chr1  3803955    3806146  chr1:3803955-3806146  0.01210283  0.3625040\n",
       "3 chr1  4126841    4128109  chr1:4126841-4128109  0.02338379  0.5496118"
      ]
     },
     "metadata": {},
     "output_type": "display_data"
    }
   ],
   "source": [
    "lst = lapply(VEC_TXT_FOLDER, function(txt_folder){\n",
    "    ### set file directory\n",
    "    txt_fdiry  = file.path(FD_RES, \"region_annotation\", txt_folder, \"summary\")\n",
    "    txt_fname = \"region.annotation.encode_e2g_benchmark.score.tsv\"\n",
    "    txt_fpath = file.path(txt_fdiry, txt_fname)\n",
    "\n",
    "    ### read table\n",
    "    dat = read_tsv(txt_fpath, show_col_types = FALSE)\n",
    "    return(dat)\n",
    "})\n",
    "\n",
    "### assign and show\n",
    "lst_dat_region_score_e2g_import = lst\n",
    "\n",
    "res = lapply(lst, dim)\n",
    "print(res)\n",
    "\n",
    "dat = lst[[1]]\n",
    "head(dat, 3)"
   ]
  },
  {
   "cell_type": "code",
   "execution_count": null,
   "id": "d3529736-6d3c-48fe-9e7e-452dd0a5bddf",
   "metadata": {},
   "outputs": [],
   "source": []
  },
  {
   "cell_type": "code",
   "execution_count": null,
   "id": "92a302d6-f16e-4012-853e-460c6c44fc4c",
   "metadata": {},
   "outputs": [],
   "source": []
  },
  {
   "cell_type": "code",
   "execution_count": 9,
   "id": "d9810080-f4b9-4ca0-b2e1-432cc205bd26",
   "metadata": {},
   "outputs": [],
   "source": [
    "fun_auroc = function(vec_boo_group, vec_num_score) {\n",
    "    ###\n",
    "    idx = order(vec_num_score)\n",
    "    vec = vec_boo_group[idx]\n",
    "    \n",
    "    ###\n",
    "    vec_num_sens = (sum(vec) - cumsum(vec))/sum(vec)\n",
    "    vec_num_spec = cumsum(!vec)/sum(!vec)\n",
    "    \n",
    "    ###\n",
    "    num_width = diff(c(0, 1 - vec_num_sens))\n",
    "    num_auc   = sum(vec_num_spec * num_width)\n",
    "\n",
    "    ### \n",
    "    lst = list(\n",
    "        \"Specificity\" = vec_num_spec,\n",
    "        \"Sensitivity\" = vec_num_sens,\n",
    "        \"AUROC\"       = num_auc\n",
    "    )\n",
    "    return(lst)\n",
    "}"
   ]
  },
  {
   "cell_type": "code",
   "execution_count": 10,
   "id": "0bc0dfef-1cbc-4ccc-bcf1-b1b3a5429162",
   "metadata": {},
   "outputs": [
    {
     "name": "stdout",
     "output_type": "stream",
     "text": [
      "[1] 886570      6\n"
     ]
    },
    {
     "data": {
      "text/html": [
       "<table>\n",
       " <thead>\n",
       "  <tr>\n",
       "   <th style=\"text-align:left;\"> Chrom </th>\n",
       "   <th style=\"text-align:right;\"> ChromStart </th>\n",
       "   <th style=\"text-align:right;\"> ChromEnd </th>\n",
       "   <th style=\"text-align:left;\"> Region </th>\n",
       "   <th style=\"text-align:right;\"> Score </th>\n",
       "   <th style=\"text-align:left;\"> Assay_Type </th>\n",
       "  </tr>\n",
       " </thead>\n",
       "<tbody>\n",
       "  <tr>\n",
       "   <td style=\"text-align:left;\"> chr1 </td>\n",
       "   <td style=\"text-align:right;\"> 10015 </td>\n",
       "   <td style=\"text-align:right;\"> 10442 </td>\n",
       "   <td style=\"text-align:left;\"> chr1:10015-10442 </td>\n",
       "   <td style=\"text-align:right;\"> -2.1177891 </td>\n",
       "   <td style=\"text-align:left;\"> ASTARR </td>\n",
       "  </tr>\n",
       "  <tr>\n",
       "   <td style=\"text-align:left;\"> chr1 </td>\n",
       "   <td style=\"text-align:right;\"> 14253 </td>\n",
       "   <td style=\"text-align:right;\"> 14645 </td>\n",
       "   <td style=\"text-align:left;\"> chr1:14253-14645 </td>\n",
       "   <td style=\"text-align:right;\"> 0.3206124 </td>\n",
       "   <td style=\"text-align:left;\"> ASTARR </td>\n",
       "  </tr>\n",
       "  <tr>\n",
       "   <td style=\"text-align:left;\"> chr1 </td>\n",
       "   <td style=\"text-align:right;\"> 16015 </td>\n",
       "   <td style=\"text-align:right;\"> 16477 </td>\n",
       "   <td style=\"text-align:left;\"> chr1:16015-16477 </td>\n",
       "   <td style=\"text-align:right;\"> -1.1744478 </td>\n",
       "   <td style=\"text-align:left;\"> ASTARR </td>\n",
       "  </tr>\n",
       "</tbody>\n",
       "</table>"
      ]
     },
     "metadata": {},
     "output_type": "display_data"
    }
   ],
   "source": [
    "lst = lst_dat_region_score_import \n",
    "dat = lst[[\"fcc_astarr_macs_input_union\"]]\n",
    "dat_region_score_merge_import = dat\n",
    "print(dim(dat))\n",
    "fun_display_table(head(dat, 3))"
   ]
  },
  {
   "cell_type": "code",
   "execution_count": 11,
   "id": "c0688272-79ad-4560-b441-44679ae70d10",
   "metadata": {},
   "outputs": [
    {
     "name": "stdout",
     "output_type": "stream",
     "text": [
      "[1] 3169    6\n"
     ]
    },
    {
     "data": {
      "text/html": [
       "<table>\n",
       " <thead>\n",
       "  <tr>\n",
       "   <th style=\"text-align:left;\"> Chrom </th>\n",
       "   <th style=\"text-align:right;\"> ChromStart </th>\n",
       "   <th style=\"text-align:right;\"> ChromEnd </th>\n",
       "   <th style=\"text-align:left;\"> Region </th>\n",
       "   <th style=\"text-align:right;\"> Score </th>\n",
       "   <th style=\"text-align:right;\"> Zcore </th>\n",
       "  </tr>\n",
       " </thead>\n",
       "<tbody>\n",
       "  <tr>\n",
       "   <td style=\"text-align:left;\"> chr1 </td>\n",
       "   <td style=\"text-align:right;\"> 3773953 </td>\n",
       "   <td style=\"text-align:right;\"> 3776305 </td>\n",
       "   <td style=\"text-align:left;\"> chr1:3773953-3776305 </td>\n",
       "   <td style=\"text-align:right;\"> -0.3655431 </td>\n",
       "   <td style=\"text-align:right;\"> -5.9011920 </td>\n",
       "  </tr>\n",
       "  <tr>\n",
       "   <td style=\"text-align:left;\"> chr1 </td>\n",
       "   <td style=\"text-align:right;\"> 3803939 </td>\n",
       "   <td style=\"text-align:right;\"> 3806560 </td>\n",
       "   <td style=\"text-align:left;\"> chr1:3803939-3806560 </td>\n",
       "   <td style=\"text-align:right;\"> 0.0121028 </td>\n",
       "   <td style=\"text-align:right;\"> 0.3625040 </td>\n",
       "  </tr>\n",
       "  <tr>\n",
       "   <td style=\"text-align:left;\"> chr1 </td>\n",
       "   <td style=\"text-align:right;\"> 4126790 </td>\n",
       "   <td style=\"text-align:right;\"> 4128217 </td>\n",
       "   <td style=\"text-align:left;\"> chr1:4126790-4128217 </td>\n",
       "   <td style=\"text-align:right;\"> 0.0233838 </td>\n",
       "   <td style=\"text-align:right;\"> 0.5496118 </td>\n",
       "  </tr>\n",
       "</tbody>\n",
       "</table>"
      ]
     },
     "metadata": {},
     "output_type": "display_data"
    }
   ],
   "source": [
    "lst = lst_dat_region_score_e2g_import\n",
    "dat = lst[[\"fcc_astarr_macs_input_union\"]]\n",
    "dat_region_score_e2g_import = dat\n",
    "print(dim(dat))\n",
    "fun_display_table(head(dat, 3))"
   ]
  },
  {
   "cell_type": "code",
   "execution_count": null,
   "id": "c95df2a9-79f7-46ff-969c-9294f2abfd70",
   "metadata": {},
   "outputs": [],
   "source": []
  },
  {
   "cell_type": "code",
   "execution_count": null,
   "id": "070a002c-dd35-48d1-8a59-24f7f7bb2420",
   "metadata": {},
   "outputs": [],
   "source": []
  },
  {
   "cell_type": "code",
   "execution_count": 12,
   "id": "29c43b86-354c-42d9-a196-65f8064a7592",
   "metadata": {},
   "outputs": [],
   "source": [
    "#txt_assay_crispr = \"CRISPRi-Growth\"\n",
    "vec_txt_assay = c(\"ASTARR\", \"WSTARR\", \"LMPRA\", \"TMPRA\", \"ATAC\")"
   ]
  },
  {
   "cell_type": "code",
   "execution_count": 13,
   "id": "abe81e63-e8a2-4215-b3ad-611803db74f1",
   "metadata": {},
   "outputs": [],
   "source": [
    "dat = dat_region_score_merge_import\n",
    "lst = split(dat, dat$Assay_Type)\n",
    "\n",
    "lst_dat_region_score = lst"
   ]
  },
  {
   "cell_type": "code",
   "execution_count": null,
   "id": "1f3b832a-9d9b-4c21-9f25-8698065a2fc5",
   "metadata": {},
   "outputs": [],
   "source": []
  },
  {
   "cell_type": "code",
   "execution_count": 18,
   "id": "fad5fb3f-f30f-42eb-bfdc-3a3700a33410",
   "metadata": {},
   "outputs": [
    {
     "name": "stdout",
     "output_type": "stream",
     "text": [
      "     99% \n",
      "3.403596 \n",
      "[1] 3169    2\n"
     ]
    },
    {
     "data": {
      "text/html": [
       "<table>\n",
       " <thead>\n",
       "  <tr>\n",
       "   <th style=\"text-align:left;\"> Region </th>\n",
       "   <th style=\"text-align:right;\"> Group </th>\n",
       "  </tr>\n",
       " </thead>\n",
       "<tbody>\n",
       "  <tr>\n",
       "   <td style=\"text-align:left;\"> chr1:3773953-3776305 </td>\n",
       "   <td style=\"text-align:right;\"> 1 </td>\n",
       "  </tr>\n",
       "  <tr>\n",
       "   <td style=\"text-align:left;\"> chr1:3803939-3806560 </td>\n",
       "   <td style=\"text-align:right;\"> 0 </td>\n",
       "  </tr>\n",
       "  <tr>\n",
       "   <td style=\"text-align:left;\"> chr1:4126790-4128217 </td>\n",
       "   <td style=\"text-align:right;\"> 0 </td>\n",
       "  </tr>\n",
       "</tbody>\n",
       "</table>"
      ]
     },
     "metadata": {},
     "output_type": "display_data"
    }
   ],
   "source": [
    "dat = dat_region_score_e2g_import\n",
    "\n",
    "vec = dat$Zcore\n",
    "vec = abs(vec)\n",
    "vec_num_score = vec\n",
    "\n",
    "num_hit_rate = 0.01\n",
    "num_cutoff = quantile(vec, probs = 1 - num_hit_rate)\n",
    "print(num_cutoff)\n",
    "\n",
    "dat = dat_region_score_e2g_import\n",
    "dat$Group = ifelse(vec_num_score >= num_cutoff, 1, 0)\n",
    "dat = dat %>% dplyr::select(Region, Group)\n",
    "\n",
    "\n",
    "dat_region_group = dat\n",
    "print(dim(dat))\n",
    "fun_display_table(head(dat, 3))"
   ]
  },
  {
   "cell_type": "markdown",
   "id": "d7066408-695b-44da-b617-ae3d1d7f3753",
   "metadata": {},
   "source": [
    "```\n",
    "dat = dat_region_score_e2g_import\n",
    "dat = dat %>% \n",
    "    dplyr::mutate(\n",
    "        Group = ifelse(abs(Zcore) >= 2, 1, 0)\n",
    "    ) %>%\n",
    "    dplyr::select(Region, Group)\n",
    "\n",
    "dat_region_group = dat\n",
    "print(dim(dat))\n",
    "fun_display_table(head(dat, 3))\n",
    "```"
   ]
  },
  {
   "cell_type": "code",
   "execution_count": 19,
   "id": "5fc30df4-a0ab-45f1-8f84-3b99cc79a2ed",
   "metadata": {},
   "outputs": [
    {
     "name": "stdout",
     "output_type": "stream",
     "text": [
      "[1] 12400     5\n"
     ]
    },
    {
     "data": {
      "text/html": [
       "<table>\n",
       " <thead>\n",
       "  <tr>\n",
       "   <th style=\"text-align:right;\"> x </th>\n",
       "   <th style=\"text-align:right;\"> y </th>\n",
       "   <th style=\"text-align:left;\"> Assay </th>\n",
       "   <th style=\"text-align:right;\"> AUROC </th>\n",
       "   <th style=\"text-align:left;\"> Performance </th>\n",
       "  </tr>\n",
       " </thead>\n",
       "<tbody>\n",
       "  <tr>\n",
       "   <td style=\"text-align:right;\"> 0.0000000 </td>\n",
       "   <td style=\"text-align:right;\"> 0 </td>\n",
       "   <td style=\"text-align:left;\"> ASTARR </td>\n",
       "   <td style=\"text-align:right;\"> 0.7813297 </td>\n",
       "   <td style=\"text-align:left;\"> ASTARR (0.78) </td>\n",
       "  </tr>\n",
       "  <tr>\n",
       "   <td style=\"text-align:right;\"> 0.0003188 </td>\n",
       "   <td style=\"text-align:right;\"> 0 </td>\n",
       "   <td style=\"text-align:left;\"> ASTARR </td>\n",
       "   <td style=\"text-align:right;\"> 0.7813297 </td>\n",
       "   <td style=\"text-align:left;\"> ASTARR (0.78) </td>\n",
       "  </tr>\n",
       "  <tr>\n",
       "   <td style=\"text-align:right;\"> 0.0006376 </td>\n",
       "   <td style=\"text-align:right;\"> 0 </td>\n",
       "   <td style=\"text-align:left;\"> ASTARR </td>\n",
       "   <td style=\"text-align:right;\"> 0.7813297 </td>\n",
       "   <td style=\"text-align:left;\"> ASTARR (0.78) </td>\n",
       "  </tr>\n",
       "</tbody>\n",
       "</table>"
      ]
     },
     "metadata": {},
     "output_type": "display_data"
    }
   ],
   "source": [
    "lst = lst_dat_region_score\n",
    "\n",
    "lst = lapply(vec_txt_assay, function(txt_assay){\n",
    "    ###\n",
    "    dat = lst[[txt_assay]]\n",
    "    dat = dat %>% dplyr::select(Region, Score)\n",
    "    dat_region_score = dat\n",
    "\n",
    "    ###\n",
    "    dat = dplyr::inner_join(\n",
    "        dat_region_group,\n",
    "        dat_region_score,\n",
    "        by = \"Region\"\n",
    "    )\n",
    "    dat_region_merge = dat\n",
    "\n",
    "    ###\n",
    "    dat = dat_region_merge\n",
    "    fit = glm(Group ~ Score, data = dat, family = \"binomial\")\n",
    "    vec_boo_group = (dat$Group == 1)\n",
    "    vec_num_score = predict(fit, type = \"response\")\n",
    "\n",
    "    ###\n",
    "    lst = fun_auroc(vec_boo_group, vec_num_score)\n",
    "    vec_num_spec = lst[[\"Specificity\"]]\n",
    "    vec_num_sens = lst[[\"Sensitivity\"]]\n",
    "    num_auroc    = lst[[\"AUROC\"]]\n",
    "\n",
    "    ###\n",
    "    txt_title = paste0(\"(\", round(num_auroc, 2), \")\")\n",
    "    txt_title = paste(txt_assay, txt_title)\n",
    "\n",
    "    ###\n",
    "    dat = data.frame(\n",
    "        \"x\" = 1 - vec_num_spec,\n",
    "        \"y\" = vec_num_sens,\n",
    "        \"Assay\" = txt_assay,\n",
    "        \"AUROC\" = num_auroc,\n",
    "        \"Performance\" = txt_title\n",
    "    )\n",
    "    dat = dat %>% dplyr::arrange(x, y)\n",
    "    return(dat)\n",
    "})\n",
    "dat = bind_rows(lst)\n",
    "\n",
    "###\n",
    "dat_assay_auroc = dat\n",
    "print(dim(dat))\n",
    "fun_display_table(head(dat, 3))"
   ]
  },
  {
   "cell_type": "code",
   "execution_count": 20,
   "id": "0b19b9fb-288e-42b2-be03-ea8f6a9f7775",
   "metadata": {},
   "outputs": [
    {
     "data": {
      "image/png": "[encoded data removed]",
      "text/plain": [
       "plot without title"
      ]
     },
     "metadata": {
      "image/png": {
       "height": 330,
       "width": 420
      }
     },
     "output_type": "display_data"
    }
   ],
   "source": [
    "dat = dat_assay_auroc\n",
    "gpt = ggplot(dat, aes(x=x, y=y, group=Assay, color=Performance)) +\n",
    "    geom_line(linewidth=1) +\n",
    "    #geom_point() +\n",
    "    labs(x = \"1 - Specificity\", y = \"Sensitivity\", title=\"ENCODE E2G Benchmark\") +\n",
    "    theme_cowplot()\n",
    "\n",
    "options(repr.plot.width=7, repr.plot.height=5.5)\n",
    "print(gpt)"
   ]
  },
  {
   "cell_type": "code",
   "execution_count": null,
   "id": "15ae1790-9521-4d9c-90be-9c6ea9fedfb4",
   "metadata": {},
   "outputs": [],
   "source": []
  },
  {
   "cell_type": "code",
   "execution_count": null,
   "id": "6ff8b79b-0826-40ae-97ae-7bb4fbcd6ba5",
   "metadata": {},
   "outputs": [],
   "source": []
  },
  {
   "cell_type": "code",
   "execution_count": null,
   "id": "ea053ee4-76c1-4ac5-8063-2378fc825645",
   "metadata": {},
   "outputs": [],
   "source": []
  }
 ],
 "metadata": {
  "kernelspec": {
   "display_name": "R",
   "language": "R",
   "name": "ir"
  },
  "language_info": {
   "codemirror_mode": "r",
   "file_extension": ".r",
   "mimetype": "text/x-r-source",
   "name": "R",
   "pygments_lexer": "r",
   "version": "4.5.1"
  }
 },
 "nbformat": 4,
 "nbformat_minor": 5
}
