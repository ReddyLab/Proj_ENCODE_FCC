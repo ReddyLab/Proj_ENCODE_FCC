{
 "cells": [
  {
   "cell_type": "raw",
   "id": "03e29131-3bfd-455e-a905-9b4f49714494",
   "metadata": {},
   "source": [
    "---\n",
    "title: ...\n",
    "subtitle: combine ATAC, setup total, final, and share verion of table\n",
    "format:\n",
    "    html:\n",
    "        code-fold:  true\n",
    "        code-tools: true\n",
    "---"
   ]
  },
  {
   "cell_type": "markdown",
   "id": "9bdf3d65-8ac6-484b-8598-19785f6595f2",
   "metadata": {},
   "source": [
    "**Set environment**"
   ]
  },
  {
   "cell_type": "code",
   "execution_count": 1,
   "id": "9b280b12-42e5-4275-aee2-e9a4110e9722",
   "metadata": {},
   "outputs": [
    {
     "name": "stdout",
     "output_type": "stream",
     "text": [
      "You are working on        Singularity: singularity_proj_encode_fcc \n",
      "BASE DIRECTORY (FD_BASE): /data/reddylab/Kuei \n",
      "REPO DIRECTORY (FD_REPO): /data/reddylab/Kuei/repo \n",
      "WORK DIRECTORY (FD_WORK): /data/reddylab/Kuei/work \n",
      "DATA DIRECTORY (FD_DATA): /data/reddylab/Kuei/data \n",
      "\n",
      "You are working with      ENCODE FCC \n",
      "PATH OF PROJECT (FD_PRJ): /data/reddylab/Kuei/repo/Proj_ENCODE_FCC \n",
      "PROJECT RESULTS (FD_RES): /data/reddylab/Kuei/repo/Proj_ENCODE_FCC/results \n",
      "PROJECT SCRIPTS (FD_EXE): /data/reddylab/Kuei/repo/Proj_ENCODE_FCC/scripts \n",
      "PROJECT DATA    (FD_DAT): /data/reddylab/Kuei/repo/Proj_ENCODE_FCC/data \n",
      "PROJECT NOTE    (FD_NBK): /data/reddylab/Kuei/repo/Proj_ENCODE_FCC/notebooks \n",
      "PROJECT DOCS    (FD_DOC): /data/reddylab/Kuei/repo/Proj_ENCODE_FCC/docs \n",
      "PROJECT LOG     (FD_LOG): /data/reddylab/Kuei/repo/Proj_ENCODE_FCC/log \n",
      "PROJECT REF     (FD_REF): /data/reddylab/Kuei/repo/Proj_ENCODE_FCC/references \n",
      "\n"
     ]
    }
   ],
   "source": [
    "suppressMessages(suppressWarnings(source(\"../run_config_project_sing.R\")))\n",
    "show_env()"
   ]
  },
  {
   "cell_type": "markdown",
   "id": "224f0915-e1b4-4a7a-ace8-519dd02486dc",
   "metadata": {},
   "source": [
    "**Check: region directory**"
   ]
  },
  {
   "cell_type": "code",
   "execution_count": 2,
   "id": "eef710af-be9d-4153-b6dc-fb2d7f6cf2fe",
   "metadata": {},
   "outputs": [
    {
     "name": "stdout",
     "output_type": "stream",
     "text": [
      "atac_ENCFF333TAT \n",
      "atac_ENCFF558BLC \n",
      "atac_ENCFF925CYR \n",
      "atac_ENCFF948AFM \n",
      "dnase_ENCFF185XRG \n",
      "dnase_ENCFF274YGF \n",
      "fcc_astarr_macs_input_overlap \n",
      "fcc_astarr_macs_input_union \n"
     ]
    }
   ],
   "source": [
    "txt_fdiry = file.path(FD_RES, \"region_coverage_fcc_score\")\n",
    "\n",
    "vec = dir(txt_fdiry)\n",
    "for (txt in vec){cat(txt, \"\\n\")}"
   ]
  },
  {
   "cell_type": "markdown",
   "id": "d4bb0c78-e878-4996-8492-d3bd9a89fc6e",
   "metadata": {},
   "source": [
    "**Check: assay directory**"
   ]
  },
  {
   "cell_type": "code",
   "execution_count": 3,
   "id": "73da2075-dded-4b23-b541-5ce4f01d7a01",
   "metadata": {},
   "outputs": [
    {
     "name": "stdout",
     "output_type": "stream",
     "text": [
      "CRISPRi_FlowFISH_K562_Riley_JinWoo \n",
      "CRISPRi_Growth_K562_Gersbach_JinWoo \n",
      "MPRA_Lenti_K562_Nadav_Vikram \n",
      "MPRA_Tiling_K562_Tewhey_Hannah \n",
      "STARR_ATAC_K562_Reddy_KS274 \n",
      "STARR_ATAC_K562_Reddy_KS91 \n",
      "STARR_ATAC_K562_Reddy_KSMerge \n",
      "STARR_WHG_K562_Reddy_A001 \n",
      "summary \n"
     ]
    }
   ],
   "source": [
    "txt_region = \"fcc_astarr_macs_input_union\"\n",
    "txt_fdiry  = file.path(FD_RES, \"region_coverage_fcc_score\", txt_region)\n",
    "vec = dir(txt_fdiry)\n",
    "for (txt in vec) {cat(txt, \"\\n\")}"
   ]
  },
  {
   "cell_type": "markdown",
   "id": "1290f49d-31f1-4713-9a28-a6dc50628fbf",
   "metadata": {},
   "source": [
    "**Set global variable**"
   ]
  },
  {
   "cell_type": "code",
   "execution_count": 4,
   "id": "cf67491f-1589-484e-87b8-2c6156ea39de",
   "metadata": {},
   "outputs": [
    {
     "name": "stdout",
     "output_type": "stream",
     "text": [
      "fcc_astarr_macs_input_overlap \n",
      "fcc_astarr_macs_input_union \n"
     ]
    }
   ],
   "source": [
    "## init: region folder\n",
    "vec = c(\"fcc_astarr_macs_input_overlap\", \"fcc_astarr_macs_input_union\")\n",
    "names(vec) = vec\n",
    "\n",
    "VEC_TXT_FOLDER = vec\n",
    "for (txt in vec) {cat(txt, \"\\n\")}"
   ]
  },
  {
   "cell_type": "code",
   "execution_count": 5,
   "id": "0cdc1989-c8fe-4a49-a586-ac28458ae437",
   "metadata": {},
   "outputs": [],
   "source": [
    "vec = c(\"CRISPRi-HCRFF\", \"CRISPRi-Growth\", \"ENCODE-rE2G Benchmark\")\n",
    "names(vec) = vec\n",
    "VEC_TXT_ASSAY_OUT = vec\n",
    "\n",
    "vec = c(\"ASTARR\", \"WSTARR\", \"LMPRA\", \"TMPRA\", \"ATAC\")\n",
    "names(vec) = vec\n",
    "VEC_TXT_ASSAY_INP = vec"
   ]
  },
  {
   "cell_type": "markdown",
   "id": "a72966a8-0ad2-4a81-ac5b-643c7813d8d5",
   "metadata": {},
   "source": [
    "**Check input files**"
   ]
  },
  {
   "cell_type": "code",
   "execution_count": 7,
   "id": "6cd47ccd-4cb9-4420-9800-b3fb38a9b7b1",
   "metadata": {},
   "outputs": [
    {
     "name": "stdout",
     "output_type": "stream",
     "text": [
      "/data/reddylab/Kuei/repo/Proj_ENCODE_FCC/results/analysis_fcc_correlation/fcc_astarr_macs_input_union/data.region.merge.group_crispr.score_starrmpra.rds \n"
     ]
    }
   ],
   "source": [
    "txt_folder = \"fcc_astarr_macs_input_union\"\n",
    "txt_fdiry  = file.path(FD_RES, \"analysis_fcc_correlation\", txt_folder)\n",
    "txt_fname  = \"*.rds\"\n",
    "txt_fglob  = file.path(txt_fdiry, txt_fname)\n",
    "\n",
    "vec = Sys.glob(txt_fglob)\n",
    "for (txt in vec) {cat(txt, \"\\n\")}"
   ]
  },
  {
   "cell_type": "markdown",
   "id": "2b7ee8f9-c325-4a5a-831b-1f1870cd46f4",
   "metadata": {},
   "source": [
    "## Import data"
   ]
  },
  {
   "cell_type": "code",
   "execution_count": 17,
   "id": "1b28566e-c926-4636-86b0-6c524efab0c1",
   "metadata": {},
   "outputs": [
    {
     "name": "stdout",
     "output_type": "stream",
     "text": [
      "$`Top_01%`\n",
      "[1] 610756      6\n",
      "\n",
      "$`Top_02%`\n",
      "[1] 610756      6\n",
      "\n",
      "$`Top_03%`\n",
      "[1] 610756      6\n",
      "\n",
      "$`Top_04%`\n",
      "[1] 610756      6\n",
      "\n",
      "$`Top_05%`\n",
      "[1] 610756      6\n",
      "\n",
      "$`Top_06%`\n",
      "[1] 610756      6\n",
      "\n",
      "$`Top_07%`\n",
      "[1] 610756      6\n",
      "\n",
      "$`Top_08%`\n",
      "[1] 610756      6\n",
      "\n",
      "$`Top_09%`\n",
      "[1] 610756      6\n",
      "\n",
      "$`Top_10%`\n",
      "[1] 610756      6\n",
      "\n",
      "$`Top_20%`\n",
      "[1] 610756      6\n",
      "\n",
      "$`Top_30%`\n",
      "[1] 610756      6\n",
      "\n",
      "$`Top_40%`\n",
      "[1] 610756      6\n",
      "\n",
      "$`Top_50%`\n",
      "[1] 610756      6\n",
      "\n"
     ]
    },
    {
     "data": {
      "text/html": [
       "<table>\n",
       " <thead>\n",
       "  <tr>\n",
       "   <th style=\"text-align:left;\"> Region </th>\n",
       "   <th style=\"text-align:right;\"> CutOff_CRISPR </th>\n",
       "   <th style=\"text-align:left;\"> Assay_CRISPR </th>\n",
       "   <th style=\"text-align:right;\"> Group_CRISPR </th>\n",
       "   <th style=\"text-align:left;\"> Assay_STARRMPRA </th>\n",
       "   <th style=\"text-align:right;\"> Score_STARRMPRA </th>\n",
       "  </tr>\n",
       " </thead>\n",
       "<tbody>\n",
       "  <tr>\n",
       "   <td style=\"text-align:left;\"> chr10:100009096-100010466 </td>\n",
       "   <td style=\"text-align:right;\"> 0.01 </td>\n",
       "   <td style=\"text-align:left;\"> CRISPR </td>\n",
       "   <td style=\"text-align:right;\"> 0 </td>\n",
       "   <td style=\"text-align:left;\"> ASTARR </td>\n",
       "   <td style=\"text-align:right;\"> -1.2216566 </td>\n",
       "  </tr>\n",
       "  <tr>\n",
       "   <td style=\"text-align:left;\"> chr10:100009096-100010466 </td>\n",
       "   <td style=\"text-align:right;\"> 0.01 </td>\n",
       "   <td style=\"text-align:left;\"> CRISPR </td>\n",
       "   <td style=\"text-align:right;\"> 0 </td>\n",
       "   <td style=\"text-align:left;\"> ATAC </td>\n",
       "   <td style=\"text-align:right;\"> 2.3214952 </td>\n",
       "  </tr>\n",
       "  <tr>\n",
       "   <td style=\"text-align:left;\"> chr10:100009096-100010466 </td>\n",
       "   <td style=\"text-align:right;\"> 0.01 </td>\n",
       "   <td style=\"text-align:left;\"> CRISPR </td>\n",
       "   <td style=\"text-align:right;\"> 0 </td>\n",
       "   <td style=\"text-align:left;\"> WSTARR </td>\n",
       "   <td style=\"text-align:right;\"> 0.5896695 </td>\n",
       "  </tr>\n",
       "</tbody>\n",
       "</table>"
      ]
     },
     "metadata": {},
     "output_type": "display_data"
    }
   ],
   "source": [
    "txt_foldr = \"fcc_astarr_macs_input_union\"\n",
    "txt_fdiry = file.path(FD_RES, \"analysis_fcc_correlation\", txt_foldr)\n",
    "txt_fname = \"data.region.merge.group_crispr.score_starrmpra.rds\"\n",
    "txt_fpath = file.path(txt_fdiry, txt_fname)\n",
    "\n",
    "lst = readRDS(txt_fpath)\n",
    "\n",
    "lst_dat_region_merge = lst\n",
    "\n",
    "res = lapply(lst, dim)\n",
    "print(res)\n",
    "\n",
    "dat = lst[[1]]\n",
    "fun_display_table(head(dat, 3))"
   ]
  },
  {
   "cell_type": "code",
   "execution_count": null,
   "id": "a26c5963-ad96-4ec0-b5cb-148077c28a8d",
   "metadata": {},
   "outputs": [],
   "source": []
  },
  {
   "cell_type": "markdown",
   "id": "89b52bee-84c6-4c84-a64a-8062e04c0270",
   "metadata": {},
   "source": [
    "## Helper function"
   ]
  },
  {
   "cell_type": "code",
   "execution_count": 9,
   "id": "822471b1-eba9-4b9f-a863-f8c2018815e0",
   "metadata": {},
   "outputs": [],
   "source": [
    "fun_auroc = function(vec_boo_group, vec_num_score) {\n",
    "    ### sort the group by score\n",
    "    idx = order(vec_num_score)\n",
    "    vec = vec_boo_group[idx]\n",
    "    vec_group = vec\n",
    "\n",
    "    ### calculate total positive and negative cases\n",
    "    num_total_pos = sum( vec_group)\n",
    "    num_total_neg = sum(!vec_group)\n",
    "    if (num_total_pos == 0 || num_total_neg == 0) {\n",
    "        stop(\"Need at least one TRUE and one FALSE\")\n",
    "    }\n",
    "    \n",
    "    ### calculate positive and negative rates\n",
    "    vec_num_tpr = (num_total_pos - cumsum( vec_group)) / num_total_pos\n",
    "    vec_num_fpr = (num_total_neg - cumsum(!vec_group)) / num_total_neg\n",
    "\n",
    "    ### convert to sensitivity and specificity\n",
    "    vec_num_sens = vec_num_tpr\n",
    "    vec_num_spec = 1 - vec_num_fpr\n",
    "    \n",
    "    ### estimate the area under curve\n",
    "    num_width = diff(c(0, 1 - vec_num_sens))\n",
    "    num_auc   = sum(vec_num_spec * num_width)\n",
    "\n",
    "    ### combine and return the results\n",
    "    lst = list(\n",
    "        \"Sensitivity\" = vec_num_sens,\n",
    "        \"Specificity\" = vec_num_spec,\n",
    "        \"AUROC\"       = num_auc\n",
    "    )\n",
    "    return(lst)\n",
    "}"
   ]
  },
  {
   "cell_type": "markdown",
   "id": "d6816e3e-97bf-45a0-b0fe-67eba65685a7",
   "metadata": {},
   "source": [
    "## Perform logistic regression for each assay"
   ]
  },
  {
   "cell_type": "code",
   "execution_count": 18,
   "id": "d1761f5d-a8fe-427b-b0c7-9a1120a9ee1d",
   "metadata": {},
   "outputs": [
    {
     "data": {
      "text/html": [
       "<table>\n",
       " <thead>\n",
       "  <tr>\n",
       "   <th style=\"text-align:left;\"> Region </th>\n",
       "   <th style=\"text-align:right;\"> CutOff_CRISPR </th>\n",
       "   <th style=\"text-align:left;\"> Assay_CRISPR </th>\n",
       "   <th style=\"text-align:right;\"> Group_CRISPR </th>\n",
       "   <th style=\"text-align:left;\"> Assay_STARRMPRA </th>\n",
       "   <th style=\"text-align:right;\"> Score_STARRMPRA </th>\n",
       "  </tr>\n",
       " </thead>\n",
       "<tbody>\n",
       "  <tr>\n",
       "   <td style=\"text-align:left;\"> chr10:100009096-100010466 </td>\n",
       "   <td style=\"text-align:right;\"> 0.01 </td>\n",
       "   <td style=\"text-align:left;\"> CRISPR </td>\n",
       "   <td style=\"text-align:right;\"> 0 </td>\n",
       "   <td style=\"text-align:left;\"> ASTARR </td>\n",
       "   <td style=\"text-align:right;\"> -1.2216566 </td>\n",
       "  </tr>\n",
       "  <tr>\n",
       "   <td style=\"text-align:left;\"> chr10:100009096-100010466 </td>\n",
       "   <td style=\"text-align:right;\"> 0.01 </td>\n",
       "   <td style=\"text-align:left;\"> CRISPR </td>\n",
       "   <td style=\"text-align:right;\"> 0 </td>\n",
       "   <td style=\"text-align:left;\"> ATAC </td>\n",
       "   <td style=\"text-align:right;\"> 2.3214952 </td>\n",
       "  </tr>\n",
       "  <tr>\n",
       "   <td style=\"text-align:left;\"> chr10:100009096-100010466 </td>\n",
       "   <td style=\"text-align:right;\"> 0.01 </td>\n",
       "   <td style=\"text-align:left;\"> CRISPR </td>\n",
       "   <td style=\"text-align:right;\"> 0 </td>\n",
       "   <td style=\"text-align:left;\"> WSTARR </td>\n",
       "   <td style=\"text-align:right;\"> 0.5896695 </td>\n",
       "  </tr>\n",
       "  <tr>\n",
       "   <td style=\"text-align:left;\"> chr10:100009096-100010466 </td>\n",
       "   <td style=\"text-align:right;\"> 0.01 </td>\n",
       "   <td style=\"text-align:left;\"> CRISPRi-Growth </td>\n",
       "   <td style=\"text-align:right;\"> 0 </td>\n",
       "   <td style=\"text-align:left;\"> ASTARR </td>\n",
       "   <td style=\"text-align:right;\"> -1.2216566 </td>\n",
       "  </tr>\n",
       "  <tr>\n",
       "   <td style=\"text-align:left;\"> chr10:100009096-100010466 </td>\n",
       "   <td style=\"text-align:right;\"> 0.01 </td>\n",
       "   <td style=\"text-align:left;\"> CRISPRi-Growth </td>\n",
       "   <td style=\"text-align:right;\"> 0 </td>\n",
       "   <td style=\"text-align:left;\"> ATAC </td>\n",
       "   <td style=\"text-align:right;\"> 2.3214952 </td>\n",
       "  </tr>\n",
       "  <tr>\n",
       "   <td style=\"text-align:left;\"> chr10:100009096-100010466 </td>\n",
       "   <td style=\"text-align:right;\"> 0.01 </td>\n",
       "   <td style=\"text-align:left;\"> CRISPRi-Growth </td>\n",
       "   <td style=\"text-align:right;\"> 0 </td>\n",
       "   <td style=\"text-align:left;\"> WSTARR </td>\n",
       "   <td style=\"text-align:right;\"> 0.5896695 </td>\n",
       "  </tr>\n",
       "</tbody>\n",
       "</table>"
      ]
     },
     "metadata": {},
     "output_type": "display_data"
    }
   ],
   "source": [
    "lst = lst_dat_region_merge\n",
    "dat = lst[[\"Top_01%\"]]\n",
    "\n",
    "dat_region_merge = dat\n",
    "fun_display_table(head(dat))"
   ]
  },
  {
   "cell_type": "code",
   "execution_count": null,
   "id": "2634dec6-a15e-413c-9873-37b44412a4fd",
   "metadata": {},
   "outputs": [],
   "source": []
  },
  {
   "cell_type": "code",
   "execution_count": null,
   "id": "b6b40493-874f-418b-93e7-b59e966413d7",
   "metadata": {},
   "outputs": [],
   "source": []
  },
  {
   "cell_type": "code",
   "execution_count": null,
   "id": "e82019c3-62ba-43b9-9aa6-3471411edad6",
   "metadata": {},
   "outputs": [],
   "source": []
  },
  {
   "cell_type": "code",
   "execution_count": 19,
   "id": "9345aaf3-4773-409f-9faa-4b6125f04d4b",
   "metadata": {},
   "outputs": [
    {
     "data": {
      "text/html": [
       "<table>\n",
       " <thead>\n",
       "  <tr>\n",
       "   <th style=\"text-align:left;\"> Region </th>\n",
       "   <th style=\"text-align:right;\"> CutOff_CRISPR </th>\n",
       "   <th style=\"text-align:left;\"> Assay_CRISPR </th>\n",
       "   <th style=\"text-align:right;\"> Group_CRISPR </th>\n",
       "   <th style=\"text-align:left;\"> Assay_STARRMPRA </th>\n",
       "   <th style=\"text-align:right;\"> Score_STARRMPRA </th>\n",
       "  </tr>\n",
       " </thead>\n",
       "<tbody>\n",
       "  <tr>\n",
       "   <td style=\"text-align:left;\"> chr11:33065336-33066228 </td>\n",
       "   <td style=\"text-align:right;\"> 0.01 </td>\n",
       "   <td style=\"text-align:left;\"> CRISPRi-HCRFF </td>\n",
       "   <td style=\"text-align:right;\"> 0 </td>\n",
       "   <td style=\"text-align:left;\"> ASTARR </td>\n",
       "   <td style=\"text-align:right;\"> -1.3401788 </td>\n",
       "  </tr>\n",
       "  <tr>\n",
       "   <td style=\"text-align:left;\"> chr11:33065336-33066228 </td>\n",
       "   <td style=\"text-align:right;\"> 0.01 </td>\n",
       "   <td style=\"text-align:left;\"> CRISPRi-HCRFF </td>\n",
       "   <td style=\"text-align:right;\"> 0 </td>\n",
       "   <td style=\"text-align:left;\"> ATAC </td>\n",
       "   <td style=\"text-align:right;\"> 0.6987627 </td>\n",
       "  </tr>\n",
       "  <tr>\n",
       "   <td style=\"text-align:left;\"> chr11:33065336-33066228 </td>\n",
       "   <td style=\"text-align:right;\"> 0.01 </td>\n",
       "   <td style=\"text-align:left;\"> CRISPRi-HCRFF </td>\n",
       "   <td style=\"text-align:right;\"> 0 </td>\n",
       "   <td style=\"text-align:left;\"> LMPRA </td>\n",
       "   <td style=\"text-align:right;\"> -0.9157948 </td>\n",
       "  </tr>\n",
       "  <tr>\n",
       "   <td style=\"text-align:left;\"> chr11:33065336-33066228 </td>\n",
       "   <td style=\"text-align:right;\"> 0.01 </td>\n",
       "   <td style=\"text-align:left;\"> CRISPRi-HCRFF </td>\n",
       "   <td style=\"text-align:right;\"> 0 </td>\n",
       "   <td style=\"text-align:left;\"> TMPRA </td>\n",
       "   <td style=\"text-align:right;\"> -0.3584732 </td>\n",
       "  </tr>\n",
       "  <tr>\n",
       "   <td style=\"text-align:left;\"> chr11:33065336-33066228 </td>\n",
       "   <td style=\"text-align:right;\"> 0.01 </td>\n",
       "   <td style=\"text-align:left;\"> CRISPRi-HCRFF </td>\n",
       "   <td style=\"text-align:right;\"> 0 </td>\n",
       "   <td style=\"text-align:left;\"> WSTARR </td>\n",
       "   <td style=\"text-align:right;\"> -0.4664757 </td>\n",
       "  </tr>\n",
       "  <tr>\n",
       "   <td style=\"text-align:left;\"> chr11:33068519-33069100 </td>\n",
       "   <td style=\"text-align:right;\"> 0.01 </td>\n",
       "   <td style=\"text-align:left;\"> CRISPRi-HCRFF </td>\n",
       "   <td style=\"text-align:right;\"> 0 </td>\n",
       "   <td style=\"text-align:left;\"> ASTARR </td>\n",
       "   <td style=\"text-align:right;\"> -0.2668478 </td>\n",
       "  </tr>\n",
       "</tbody>\n",
       "</table>"
      ]
     },
     "metadata": {},
     "output_type": "display_data"
    }
   ],
   "source": [
    "txt_assay_out = \"CRISPRi-HCRFF\"\n",
    "dat = dat_region_merge\n",
    "dat = dat %>% dplyr::filter(Assay_CRISPR == txt_assay_out)\n",
    "fun_display_table(head(dat))"
   ]
  },
  {
   "cell_type": "code",
   "execution_count": 20,
   "id": "d8c6c1f3-d169-40fb-8134-172ededcfb25",
   "metadata": {},
   "outputs": [
    {
     "name": "stdout",
     "output_type": "stream",
     "text": [
      "[1] 1330    6\n"
     ]
    },
    {
     "data": {
      "text/html": [
       "<table>\n",
       " <thead>\n",
       "  <tr>\n",
       "   <th style=\"text-align:left;\"> Region </th>\n",
       "   <th style=\"text-align:right;\"> CutOff_CRISPR </th>\n",
       "   <th style=\"text-align:left;\"> Assay_CRISPR </th>\n",
       "   <th style=\"text-align:right;\"> Group_CRISPR </th>\n",
       "   <th style=\"text-align:left;\"> Assay_STARRMPRA </th>\n",
       "   <th style=\"text-align:right;\"> Score_STARRMPRA </th>\n",
       "  </tr>\n",
       " </thead>\n",
       "<tbody>\n",
       "  <tr>\n",
       "   <td style=\"text-align:left;\"> chr11:33065336-33066228 </td>\n",
       "   <td style=\"text-align:right;\"> 0.01 </td>\n",
       "   <td style=\"text-align:left;\"> CRISPRi-HCRFF </td>\n",
       "   <td style=\"text-align:right;\"> 0 </td>\n",
       "   <td style=\"text-align:left;\"> ATAC </td>\n",
       "   <td style=\"text-align:right;\"> 0.6987627 </td>\n",
       "  </tr>\n",
       "  <tr>\n",
       "   <td style=\"text-align:left;\"> chr11:33068519-33069100 </td>\n",
       "   <td style=\"text-align:right;\"> 0.01 </td>\n",
       "   <td style=\"text-align:left;\"> CRISPRi-HCRFF </td>\n",
       "   <td style=\"text-align:right;\"> 0 </td>\n",
       "   <td style=\"text-align:left;\"> ATAC </td>\n",
       "   <td style=\"text-align:right;\"> -0.1814740 </td>\n",
       "  </tr>\n",
       "  <tr>\n",
       "   <td style=\"text-align:left;\"> chr11:33072412-33072630 </td>\n",
       "   <td style=\"text-align:right;\"> 0.01 </td>\n",
       "   <td style=\"text-align:left;\"> CRISPRi-HCRFF </td>\n",
       "   <td style=\"text-align:right;\"> 0 </td>\n",
       "   <td style=\"text-align:left;\"> ATAC </td>\n",
       "   <td style=\"text-align:right;\"> -0.3956781 </td>\n",
       "  </tr>\n",
       "  <tr>\n",
       "   <td style=\"text-align:left;\"> chr11:33103533-33104120 </td>\n",
       "   <td style=\"text-align:right;\"> 0.01 </td>\n",
       "   <td style=\"text-align:left;\"> CRISPRi-HCRFF </td>\n",
       "   <td style=\"text-align:right;\"> 0 </td>\n",
       "   <td style=\"text-align:left;\"> ATAC </td>\n",
       "   <td style=\"text-align:right;\"> -0.7479004 </td>\n",
       "  </tr>\n",
       "  <tr>\n",
       "   <td style=\"text-align:left;\"> chr11:33114629-33115134 </td>\n",
       "   <td style=\"text-align:right;\"> 0.01 </td>\n",
       "   <td style=\"text-align:left;\"> CRISPRi-HCRFF </td>\n",
       "   <td style=\"text-align:right;\"> 0 </td>\n",
       "   <td style=\"text-align:left;\"> ATAC </td>\n",
       "   <td style=\"text-align:right;\"> -0.6489839 </td>\n",
       "  </tr>\n",
       "  <tr>\n",
       "   <td style=\"text-align:left;\"> chr11:33125296-33126416 </td>\n",
       "   <td style=\"text-align:right;\"> 0.01 </td>\n",
       "   <td style=\"text-align:left;\"> CRISPRi-HCRFF </td>\n",
       "   <td style=\"text-align:right;\"> 0 </td>\n",
       "   <td style=\"text-align:left;\"> ATAC </td>\n",
       "   <td style=\"text-align:right;\"> -0.6518847 </td>\n",
       "  </tr>\n",
       "</tbody>\n",
       "</table>"
      ]
     },
     "metadata": {},
     "output_type": "display_data"
    }
   ],
   "source": [
    "txt_assay_out = \"CRISPRi-HCRFF\"\n",
    "txt_assay_inp = \"ATAC\"\n",
    "\n",
    "dat = dat_region_merge\n",
    "dat = dat %>% \n",
    "    dplyr::filter(\n",
    "        Assay_CRISPR    == txt_assay_out, \n",
    "        Assay_STARRMPRA == txt_assay_inp\n",
    "    )\n",
    "\n",
    "print(dim(dat))\n",
    "fun_display_table(head(dat))"
   ]
  },
  {
   "cell_type": "code",
   "execution_count": 28,
   "id": "c1ef3918-9f16-45ca-999c-54b21673236b",
   "metadata": {},
   "outputs": [
    {
     "name": "stdout",
     "output_type": "stream",
     "text": [
      "$`CRISPRi-HCRFF`\n",
      "[1] 5319    5\n",
      "\n",
      "$`CRISPRi-Growth`\n",
      "[1] 294769      5\n",
      "\n",
      "$`ENCODE-rE2G Benchmark`\n",
      "[1] 12400     5\n",
      "\n"
     ]
    },
    {
     "data": {
      "text/html": [
       "<table>\n",
       " <thead>\n",
       "  <tr>\n",
       "   <th style=\"text-align:right;\"> x </th>\n",
       "   <th style=\"text-align:right;\"> y </th>\n",
       "   <th style=\"text-align:left;\"> Assay </th>\n",
       "   <th style=\"text-align:right;\"> AUROC </th>\n",
       "   <th style=\"text-align:left;\"> Performance </th>\n",
       "  </tr>\n",
       " </thead>\n",
       "<tbody>\n",
       "  <tr>\n",
       "   <td style=\"text-align:right;\"> 0.0000000 </td>\n",
       "   <td style=\"text-align:right;\"> 0.0000000 </td>\n",
       "   <td style=\"text-align:left;\"> ASTARR </td>\n",
       "   <td style=\"text-align:right;\"> 0.6991424 </td>\n",
       "   <td style=\"text-align:left;\"> ASTARR (0.7) </td>\n",
       "  </tr>\n",
       "  <tr>\n",
       "   <td style=\"text-align:right;\"> 0.0000000 </td>\n",
       "   <td style=\"text-align:right;\"> 0.0714286 </td>\n",
       "   <td style=\"text-align:left;\"> ASTARR </td>\n",
       "   <td style=\"text-align:right;\"> 0.6991424 </td>\n",
       "   <td style=\"text-align:left;\"> ASTARR (0.7) </td>\n",
       "  </tr>\n",
       "  <tr>\n",
       "   <td style=\"text-align:right;\"> 0.0007599 </td>\n",
       "   <td style=\"text-align:right;\"> 0.0714286 </td>\n",
       "   <td style=\"text-align:left;\"> ASTARR </td>\n",
       "   <td style=\"text-align:right;\"> 0.6991424 </td>\n",
       "   <td style=\"text-align:left;\"> ASTARR (0.7) </td>\n",
       "  </tr>\n",
       "</tbody>\n",
       "</table>"
      ]
     },
     "metadata": {},
     "output_type": "display_data"
    }
   ],
   "source": [
    "lst = lapply(VEC_TXT_ASSAY_OUT, function(txt_assay_out){\n",
    "    lst = lapply(VEC_TXT_ASSAY_INP, function(txt_assay_inp){\n",
    "        ###\n",
    "        dat = dat_region_merge\n",
    "        dat = dat %>% \n",
    "            dplyr::filter(\n",
    "                Assay_CRISPR    == txt_assay_out, \n",
    "                Assay_STARRMPRA == txt_assay_inp\n",
    "            )\n",
    "\n",
    "        ###\n",
    "        fit = glm(Group_CRISPR ~ Score_STARRMPRA, data = dat, family = \"binomial\")\n",
    "        vec_boo_group = (dat$Group_CRISPR == 1)\n",
    "        vec_num_score = predict(fit, type = \"response\")\n",
    "        \n",
    "        ### calculate assay performance\n",
    "        lst = fun_auroc(vec_boo_group, vec_num_score)\n",
    "        vec_num_spec = lst[[\"Specificity\"]]\n",
    "        vec_num_sens = lst[[\"Sensitivity\"]]\n",
    "        num_auroc    = lst[[\"AUROC\"]]\n",
    "    \n",
    "        ### summarize the results\n",
    "        txt_title = paste0(\"(\", round(num_auroc, 2), \")\")\n",
    "        txt_title = paste(txt_assay_inp, txt_title)\n",
    "    \n",
    "        dat = data.frame(\n",
    "            \"x\" = 1 - vec_num_spec,\n",
    "            \"y\" = vec_num_sens,\n",
    "            \"Assay\" = txt_assay_inp,\n",
    "            \"AUROC\" = num_auroc,\n",
    "            \"Performance\" = txt_title\n",
    "        )\n",
    "        dat = dat %>% dplyr::arrange(x, y)\n",
    "        return(dat)\n",
    "    })\n",
    "    \n",
    "    ### combine results across different input assay\n",
    "    dat = bind_rows(lst)\n",
    "    return(dat)\n",
    "})\n",
    "\n",
    "lst_dat_logit_auroc = lst\n",
    "\n",
    "res = lapply(lst, dim)\n",
    "print(res)\n",
    "\n",
    "dat = lst[[1]]\n",
    "fun_display_table(head(dat, 3))"
   ]
  },
  {
   "cell_type": "code",
   "execution_count": 43,
   "id": "c05d512b-c4f2-48aa-bafa-9b1e42a5a40a",
   "metadata": {},
   "outputs": [
    {
     "data": {
      "image/png": "[encoded data removed]",
      "text/plain": [
       "plot without title"
      ]
     },
     "metadata": {
      "image/png": {
       "height": 300,
       "width": 1080
      }
     },
     "output_type": "display_data"
    }
   ],
   "source": [
    "lst = lst_dat_logit_auroc\n",
    "lst = lapply(names(lst), function(idx){\n",
    "    ###\n",
    "    txt = idx\n",
    "    dat = lst[[idx]]\n",
    "\n",
    "    ###\n",
    "    gpt = ggplot(dat, aes(x=x, y=y, group=Assay, color=Performance)) +\n",
    "        geom_line(linewidth=1) +\n",
    "        labs(x = \"1 - Specificity\", y = \"Sensitivity\", title = txt) +\n",
    "        theme_cowplot() +\n",
    "        background_grid() +\n",
    "        theme(\n",
    "            legend.background = element_rect(fill=\"white\"),\n",
    "            legend.position   = \"inside\",\n",
    "            legend.position.inside = c(0.6, 0.3)\n",
    "        )\n",
    "    return(gpt)\n",
    "})\n",
    "\n",
    "lst_gpt_export_auroc_by_assay = gpt\n",
    "options(repr.plot.height=5, repr.plot.width=18)\n",
    "plot_grid(plotlist = lst, nrow = 1)"
   ]
  }
 ],
 "metadata": {
  "kernelspec": {
   "display_name": "R",
   "language": "R",
   "name": "ir"
  },
  "language_info": {
   "codemirror_mode": "r",
   "file_extension": ".r",
   "mimetype": "text/x-r-source",
   "name": "R",
   "pygments_lexer": "r",
   "version": "4.5.1"
  }
 },
 "nbformat": 4,
 "nbformat_minor": 5
}
