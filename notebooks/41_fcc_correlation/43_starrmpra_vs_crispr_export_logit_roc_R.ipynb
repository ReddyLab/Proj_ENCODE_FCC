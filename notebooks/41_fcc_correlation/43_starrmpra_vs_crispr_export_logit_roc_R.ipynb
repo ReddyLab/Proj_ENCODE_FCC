{
 "cells": [
  {
   "cell_type": "raw",
   "id": "03e29131-3bfd-455e-a905-9b4f49714494",
   "metadata": {},
   "source": [
    "---\n",
    "title: CRISPR vs STARRMPRA 03\n",
    "subtitle: Run Logit CRISPR and STARRMPRA (ROC)\n",
    "format:\n",
    "    html:\n",
    "        code-fold:  true\n",
    "        code-tools: true\n",
    "---"
   ]
  },
  {
   "cell_type": "markdown",
   "id": "9bdf3d65-8ac6-484b-8598-19785f6595f2",
   "metadata": {},
   "source": [
    "**Set environment**"
   ]
  },
  {
   "cell_type": "code",
   "execution_count": 1,
   "id": "9b280b12-42e5-4275-aee2-e9a4110e9722",
   "metadata": {},
   "outputs": [
    {
     "name": "stdout",
     "output_type": "stream",
     "text": [
      "You are working on        Singularity: singularity_proj_encode_fcc \n",
      "BASE DIRECTORY (FD_BASE): /data/reddylab/Kuei \n",
      "REPO DIRECTORY (FD_REPO): /data/reddylab/Kuei/repo \n",
      "WORK DIRECTORY (FD_WORK): /data/reddylab/Kuei/work \n",
      "DATA DIRECTORY (FD_DATA): /data/reddylab/Kuei/data \n",
      "\n",
      "You are working with      ENCODE FCC \n",
      "PATH OF PROJECT (FD_PRJ): /data/reddylab/Kuei/repo/Proj_ENCODE_FCC \n",
      "PROJECT RESULTS (FD_RES): /data/reddylab/Kuei/repo/Proj_ENCODE_FCC/results \n",
      "PROJECT SCRIPTS (FD_EXE): /data/reddylab/Kuei/repo/Proj_ENCODE_FCC/scripts \n",
      "PROJECT DATA    (FD_DAT): /data/reddylab/Kuei/repo/Proj_ENCODE_FCC/data \n",
      "PROJECT NOTE    (FD_NBK): /data/reddylab/Kuei/repo/Proj_ENCODE_FCC/notebooks \n",
      "PROJECT DOCS    (FD_DOC): /data/reddylab/Kuei/repo/Proj_ENCODE_FCC/docs \n",
      "PROJECT LOG     (FD_LOG): /data/reddylab/Kuei/repo/Proj_ENCODE_FCC/log \n",
      "PROJECT REF     (FD_REF): /data/reddylab/Kuei/repo/Proj_ENCODE_FCC/references \n",
      "\n"
     ]
    }
   ],
   "source": [
    "suppressMessages(suppressWarnings(source(\"../run_config_project_sing.R\")))\n",
    "show_env()"
   ]
  },
  {
   "cell_type": "markdown",
   "id": "1290f49d-31f1-4713-9a28-a6dc50628fbf",
   "metadata": {},
   "source": [
    "**Set global variable**"
   ]
  },
  {
   "cell_type": "code",
   "execution_count": 4,
   "id": "cf67491f-1589-484e-87b8-2c6156ea39de",
   "metadata": {},
   "outputs": [
    {
     "name": "stdout",
     "output_type": "stream",
     "text": [
      "fcc_astarr_macs_input_overlap \n",
      "fcc_astarr_macs_input_union \n"
     ]
    }
   ],
   "source": [
    "## init: region folder\n",
    "vec = c(\"fcc_astarr_macs_input_overlap\", \"fcc_astarr_macs_input_union\")\n",
    "names(vec) = vec\n",
    "\n",
    "VEC_TXT_FOLDER = vec\n",
    "for (txt in vec) {cat(txt, \"\\n\")}"
   ]
  },
  {
   "cell_type": "code",
   "execution_count": 5,
   "id": "0cdc1989-c8fe-4a49-a586-ac28458ae437",
   "metadata": {},
   "outputs": [],
   "source": [
    "vec = c(\"CRISPRi-HCRFF\", \"CRISPRi-Growth\", \"ENCODE-rE2G Benchmark\")\n",
    "names(vec) = vec\n",
    "VEC_TXT_ASSAY_OUT = vec\n",
    "\n",
    "vec = c(\"ASTARR\", \"WSTARR\", \"LMPRA\", \"TMPRA\", \"ATAC\")\n",
    "names(vec) = vec\n",
    "VEC_TXT_ASSAY_INP = vec"
   ]
  },
  {
   "cell_type": "markdown",
   "id": "a72966a8-0ad2-4a81-ac5b-643c7813d8d5",
   "metadata": {},
   "source": [
    "**Check input files**"
   ]
  },
  {
   "cell_type": "code",
   "execution_count": 6,
   "id": "6cd47ccd-4cb9-4420-9800-b3fb38a9b7b1",
   "metadata": {},
   "outputs": [
    {
     "name": "stdout",
     "output_type": "stream",
     "text": [
      "/data/reddylab/Kuei/repo/Proj_ENCODE_FCC/results/analysis_fcc_correlation/fcc_astarr_macs_input_union/data.region.merge.group_crispr.score_starrmpra.rds \n"
     ]
    }
   ],
   "source": [
    "txt_folder = \"fcc_astarr_macs_input_union\"\n",
    "txt_fdiry  = file.path(FD_RES, \"analysis_fcc_correlation\", txt_folder)\n",
    "txt_fname  = \"*.rds\"\n",
    "txt_fglob  = file.path(txt_fdiry, txt_fname)\n",
    "\n",
    "vec = Sys.glob(txt_fglob)\n",
    "for (txt in vec) {cat(txt, \"\\n\")}"
   ]
  },
  {
   "cell_type": "markdown",
   "id": "2b7ee8f9-c325-4a5a-831b-1f1870cd46f4",
   "metadata": {},
   "source": [
    "## Import data"
   ]
  },
  {
   "cell_type": "code",
   "execution_count": 12,
   "id": "1b28566e-c926-4636-86b0-6c524efab0c1",
   "metadata": {},
   "outputs": [
    {
     "name": "stdout",
     "output_type": "stream",
     "text": [
      "$`0.01`\n",
      "[1] 610756      7\n",
      "\n",
      "$`0.02`\n",
      "[1] 610756      7\n",
      "\n",
      "$`0.03`\n",
      "[1] 610756      7\n",
      "\n",
      "$`0.04`\n",
      "[1] 610756      7\n",
      "\n",
      "$`0.05`\n",
      "[1] 610756      7\n",
      "\n",
      "$`0.06`\n",
      "[1] 610756      7\n",
      "\n",
      "$`0.07`\n",
      "[1] 610756      7\n",
      "\n",
      "$`0.08`\n",
      "[1] 610756      7\n",
      "\n",
      "$`0.09`\n",
      "[1] 610756      7\n",
      "\n",
      "$`0.10`\n",
      "[1] 610756      7\n",
      "\n",
      "$`0.20`\n",
      "[1] 610756      7\n",
      "\n",
      "$`0.30`\n",
      "[1] 610756      7\n",
      "\n",
      "$`0.40`\n",
      "[1] 610756      7\n",
      "\n",
      "$`0.50`\n",
      "[1] 610756      7\n",
      "\n"
     ]
    },
    {
     "data": {
      "text/html": [
       "<table>\n",
       " <thead>\n",
       "  <tr>\n",
       "   <th style=\"text-align:right;\"> CutOff_CRISPR </th>\n",
       "   <th style=\"text-align:left;\"> Region </th>\n",
       "   <th style=\"text-align:left;\"> Assay_CRISPR </th>\n",
       "   <th style=\"text-align:right;\"> Group_CRISPR </th>\n",
       "   <th style=\"text-align:right;\"> Score_CRISPR </th>\n",
       "   <th style=\"text-align:left;\"> Assay_STARRMPRA </th>\n",
       "   <th style=\"text-align:right;\"> Score_STARRMPRA </th>\n",
       "  </tr>\n",
       " </thead>\n",
       "<tbody>\n",
       "  <tr>\n",
       "   <td style=\"text-align:right;\"> 0.01 </td>\n",
       "   <td style=\"text-align:left;\"> chr10:100009096-100010466 </td>\n",
       "   <td style=\"text-align:left;\"> CRISPR </td>\n",
       "   <td style=\"text-align:right;\"> 0 </td>\n",
       "   <td style=\"text-align:right;\"> -0.0378617 </td>\n",
       "   <td style=\"text-align:left;\"> ASTARR </td>\n",
       "   <td style=\"text-align:right;\"> -1.2216566 </td>\n",
       "  </tr>\n",
       "  <tr>\n",
       "   <td style=\"text-align:right;\"> 0.01 </td>\n",
       "   <td style=\"text-align:left;\"> chr10:100009096-100010466 </td>\n",
       "   <td style=\"text-align:left;\"> CRISPR </td>\n",
       "   <td style=\"text-align:right;\"> 0 </td>\n",
       "   <td style=\"text-align:right;\"> -0.0378617 </td>\n",
       "   <td style=\"text-align:left;\"> ATAC </td>\n",
       "   <td style=\"text-align:right;\"> 2.3214952 </td>\n",
       "  </tr>\n",
       "  <tr>\n",
       "   <td style=\"text-align:right;\"> 0.01 </td>\n",
       "   <td style=\"text-align:left;\"> chr10:100009096-100010466 </td>\n",
       "   <td style=\"text-align:left;\"> CRISPR </td>\n",
       "   <td style=\"text-align:right;\"> 0 </td>\n",
       "   <td style=\"text-align:right;\"> -0.0378617 </td>\n",
       "   <td style=\"text-align:left;\"> WSTARR </td>\n",
       "   <td style=\"text-align:right;\"> 0.5896695 </td>\n",
       "  </tr>\n",
       "</tbody>\n",
       "</table>"
      ]
     },
     "metadata": {},
     "output_type": "display_data"
    }
   ],
   "source": [
    "### set file directory\n",
    "txt_foldr = \"fcc_astarr_macs_input_union\"\n",
    "txt_fdiry = file.path(FD_RES, \"analysis_fcc_correlation\", txt_foldr)\n",
    "txt_fname = \"data.region.merge.group_crispr.score_starrmpra.rds\"\n",
    "txt_fpath = file.path(txt_fdiry, txt_fname)\n",
    "\n",
    "### read data\n",
    "lst = readRDS(txt_fpath)\n",
    "\n",
    "### assign and show\n",
    "lst_dat_region_merge = lst\n",
    "\n",
    "res = lapply(lst, dim)\n",
    "print(res)\n",
    "\n",
    "dat = lst[[1]]\n",
    "fun_display_table(head(dat, 3))"
   ]
  },
  {
   "cell_type": "markdown",
   "id": "89b52bee-84c6-4c84-a64a-8062e04c0270",
   "metadata": {},
   "source": [
    "## Helper function"
   ]
  },
  {
   "cell_type": "code",
   "execution_count": 13,
   "id": "822471b1-eba9-4b9f-a863-f8c2018815e0",
   "metadata": {},
   "outputs": [],
   "source": [
    "fun_auroc = function(vec_boo_group, vec_num_score) {\n",
    "    ### sort the group by score\n",
    "    idx = order(vec_num_score)\n",
    "    vec = vec_boo_group[idx]\n",
    "    vec_group = vec\n",
    "\n",
    "    ### calculate total positive and negative cases\n",
    "    num_total_pos = sum( vec_group)\n",
    "    num_total_neg = sum(!vec_group)\n",
    "    if (num_total_pos == 0 || num_total_neg == 0) {\n",
    "        stop(\"Need at least one TRUE and one FALSE\")\n",
    "    }\n",
    "    \n",
    "    ### calculate positive and negative rates\n",
    "    vec_num_tpr = (num_total_pos - cumsum( vec_group)) / num_total_pos\n",
    "    vec_num_fpr = (num_total_neg - cumsum(!vec_group)) / num_total_neg\n",
    "\n",
    "    ### convert to sensitivity and specificity\n",
    "    vec_num_sens = vec_num_tpr\n",
    "    vec_num_spec = 1 - vec_num_fpr\n",
    "    \n",
    "    ### estimate the area under curve\n",
    "    num_width = diff(c(0, 1 - vec_num_sens))\n",
    "    num_auc   = sum(vec_num_spec * num_width)\n",
    "\n",
    "    ### combine and return the results\n",
    "    lst = list(\n",
    "        \"Sensitivity\" = vec_num_sens,\n",
    "        \"Specificity\" = vec_num_spec,\n",
    "        \"AUROC\"       = num_auc\n",
    "    )\n",
    "    return(lst)\n",
    "}"
   ]
  },
  {
   "cell_type": "markdown",
   "id": "d6816e3e-97bf-45a0-b0fe-67eba65685a7",
   "metadata": {},
   "source": [
    "## Perform logistic regression for each assay pair"
   ]
  },
  {
   "cell_type": "markdown",
   "id": "b8a837f3-5378-4e10-ad58-4852f658e376",
   "metadata": {},
   "source": [
    "**Show one table**"
   ]
  },
  {
   "cell_type": "code",
   "execution_count": 9,
   "id": "a5dcfb1a-c815-4a09-bee9-0fc1052fcf73",
   "metadata": {},
   "outputs": [
    {
     "data": {
      "text/html": [
       "<table>\n",
       " <thead>\n",
       "  <tr>\n",
       "   <th style=\"text-align:right;\"> CutOff_CRISPR </th>\n",
       "   <th style=\"text-align:left;\"> Region </th>\n",
       "   <th style=\"text-align:left;\"> Assay_CRISPR </th>\n",
       "   <th style=\"text-align:right;\"> Group_CRISPR </th>\n",
       "   <th style=\"text-align:right;\"> Score_CRISPR </th>\n",
       "   <th style=\"text-align:left;\"> Assay_STARRMPRA </th>\n",
       "   <th style=\"text-align:right;\"> Score_STARRMPRA </th>\n",
       "  </tr>\n",
       " </thead>\n",
       "<tbody>\n",
       "  <tr>\n",
       "   <td style=\"text-align:right;\"> 0.01 </td>\n",
       "   <td style=\"text-align:left;\"> chr10:100009096-100010466 </td>\n",
       "   <td style=\"text-align:left;\"> CRISPR </td>\n",
       "   <td style=\"text-align:right;\"> 0 </td>\n",
       "   <td style=\"text-align:right;\"> -0.0378617 </td>\n",
       "   <td style=\"text-align:left;\"> ASTARR </td>\n",
       "   <td style=\"text-align:right;\"> -1.2216566 </td>\n",
       "  </tr>\n",
       "  <tr>\n",
       "   <td style=\"text-align:right;\"> 0.01 </td>\n",
       "   <td style=\"text-align:left;\"> chr10:100009096-100010466 </td>\n",
       "   <td style=\"text-align:left;\"> CRISPR </td>\n",
       "   <td style=\"text-align:right;\"> 0 </td>\n",
       "   <td style=\"text-align:right;\"> -0.0378617 </td>\n",
       "   <td style=\"text-align:left;\"> ATAC </td>\n",
       "   <td style=\"text-align:right;\"> 2.3214952 </td>\n",
       "  </tr>\n",
       "  <tr>\n",
       "   <td style=\"text-align:right;\"> 0.01 </td>\n",
       "   <td style=\"text-align:left;\"> chr10:100009096-100010466 </td>\n",
       "   <td style=\"text-align:left;\"> CRISPR </td>\n",
       "   <td style=\"text-align:right;\"> 0 </td>\n",
       "   <td style=\"text-align:right;\"> -0.0378617 </td>\n",
       "   <td style=\"text-align:left;\"> WSTARR </td>\n",
       "   <td style=\"text-align:right;\"> 0.5896695 </td>\n",
       "  </tr>\n",
       "  <tr>\n",
       "   <td style=\"text-align:right;\"> 0.01 </td>\n",
       "   <td style=\"text-align:left;\"> chr10:100009096-100010466 </td>\n",
       "   <td style=\"text-align:left;\"> CRISPRi-Growth </td>\n",
       "   <td style=\"text-align:right;\"> 0 </td>\n",
       "   <td style=\"text-align:right;\"> -0.0378617 </td>\n",
       "   <td style=\"text-align:left;\"> ASTARR </td>\n",
       "   <td style=\"text-align:right;\"> -1.2216566 </td>\n",
       "  </tr>\n",
       "  <tr>\n",
       "   <td style=\"text-align:right;\"> 0.01 </td>\n",
       "   <td style=\"text-align:left;\"> chr10:100009096-100010466 </td>\n",
       "   <td style=\"text-align:left;\"> CRISPRi-Growth </td>\n",
       "   <td style=\"text-align:right;\"> 0 </td>\n",
       "   <td style=\"text-align:right;\"> -0.0378617 </td>\n",
       "   <td style=\"text-align:left;\"> ATAC </td>\n",
       "   <td style=\"text-align:right;\"> 2.3214952 </td>\n",
       "  </tr>\n",
       "  <tr>\n",
       "   <td style=\"text-align:right;\"> 0.01 </td>\n",
       "   <td style=\"text-align:left;\"> chr10:100009096-100010466 </td>\n",
       "   <td style=\"text-align:left;\"> CRISPRi-Growth </td>\n",
       "   <td style=\"text-align:right;\"> 0 </td>\n",
       "   <td style=\"text-align:right;\"> -0.0378617 </td>\n",
       "   <td style=\"text-align:left;\"> WSTARR </td>\n",
       "   <td style=\"text-align:right;\"> 0.5896695 </td>\n",
       "  </tr>\n",
       "</tbody>\n",
       "</table>"
      ]
     },
     "metadata": {},
     "output_type": "display_data"
    }
   ],
   "source": [
    "lst = lst_dat_region_merge\n",
    "dat = lst[[1]]\n",
    "\n",
    "dat_region_merge = dat\n",
    "fun_display_table(head(dat))"
   ]
  },
  {
   "cell_type": "markdown",
   "id": "e46774fd-cda9-4f4d-b46a-b4bba7776258",
   "metadata": {},
   "source": [
    "**Run logit: CRISPR~STARR/MPRA/ATAC and calculate ROC curve**"
   ]
  },
  {
   "cell_type": "code",
   "execution_count": 14,
   "id": "9804aedf-27e6-49a1-9af0-b93a1e6961ed",
   "metadata": {},
   "outputs": [
    {
     "name": "stdout",
     "output_type": "stream",
     "text": [
      "[1] 4374832       7\n"
     ]
    },
    {
     "data": {
      "text/html": [
       "<table>\n",
       " <thead>\n",
       "  <tr>\n",
       "   <th style=\"text-align:left;\"> CutOff_CRISPR </th>\n",
       "   <th style=\"text-align:left;\"> Assay_CRISPR </th>\n",
       "   <th style=\"text-align:left;\"> Assay_STARRMPRA </th>\n",
       "   <th style=\"text-align:right;\"> x </th>\n",
       "   <th style=\"text-align:right;\"> y </th>\n",
       "   <th style=\"text-align:right;\"> AUROC </th>\n",
       "   <th style=\"text-align:left;\"> Performance </th>\n",
       "  </tr>\n",
       " </thead>\n",
       "<tbody>\n",
       "  <tr>\n",
       "   <td style=\"text-align:left;\"> 0.01 </td>\n",
       "   <td style=\"text-align:left;\"> CRISPRi-HCRFF </td>\n",
       "   <td style=\"text-align:left;\"> ASTARR </td>\n",
       "   <td style=\"text-align:right;\"> 0.9992401 </td>\n",
       "   <td style=\"text-align:right;\"> 1 </td>\n",
       "   <td style=\"text-align:right;\"> 0.6991424 </td>\n",
       "   <td style=\"text-align:left;\"> ASTARR (0.7) </td>\n",
       "  </tr>\n",
       "  <tr>\n",
       "   <td style=\"text-align:left;\"> 0.01 </td>\n",
       "   <td style=\"text-align:left;\"> CRISPRi-HCRFF </td>\n",
       "   <td style=\"text-align:left;\"> ASTARR </td>\n",
       "   <td style=\"text-align:right;\"> 0.9984802 </td>\n",
       "   <td style=\"text-align:right;\"> 1 </td>\n",
       "   <td style=\"text-align:right;\"> 0.6991424 </td>\n",
       "   <td style=\"text-align:left;\"> ASTARR (0.7) </td>\n",
       "  </tr>\n",
       "  <tr>\n",
       "   <td style=\"text-align:left;\"> 0.01 </td>\n",
       "   <td style=\"text-align:left;\"> CRISPRi-HCRFF </td>\n",
       "   <td style=\"text-align:left;\"> ASTARR </td>\n",
       "   <td style=\"text-align:right;\"> 0.9977204 </td>\n",
       "   <td style=\"text-align:right;\"> 1 </td>\n",
       "   <td style=\"text-align:right;\"> 0.6991424 </td>\n",
       "   <td style=\"text-align:left;\"> ASTARR (0.7) </td>\n",
       "  </tr>\n",
       "</tbody>\n",
       "</table>"
      ]
     },
     "metadata": {},
     "output_type": "display_data"
    }
   ],
   "source": [
    "lst = lst_dat_region_merge\n",
    "lst = lapply(lst, function(dat_region_merge){\n",
    "    lst = lapply(VEC_TXT_ASSAY_OUT, function(txt_assay_out){\n",
    "        lst = lapply(VEC_TXT_ASSAY_INP, function(txt_assay_inp){\n",
    "            ### get group/score\n",
    "            dat = dat_region_merge\n",
    "            dat = dat %>% \n",
    "                dplyr::filter(\n",
    "                    Assay_CRISPR    == txt_assay_out, \n",
    "                    Assay_STARRMPRA == txt_assay_inp\n",
    "                )\n",
    "    \n",
    "            ### run logistic regression\n",
    "            fit = glm(Group_CRISPR ~ Score_STARRMPRA, data = dat, family = \"binomial\")\n",
    "            vec_boo_group = (dat$Group_CRISPR == 1)\n",
    "            vec_num_score = predict(fit, type = \"response\")\n",
    "            \n",
    "            ### calculate assay performance\n",
    "            lst = fun_auroc(vec_boo_group, vec_num_score)\n",
    "            vec_num_spec = lst[[\"Specificity\"]]\n",
    "            vec_num_sens = lst[[\"Sensitivity\"]]\n",
    "            num_auroc    = lst[[\"AUROC\"]]\n",
    "        \n",
    "            ### summarize the results\n",
    "            txt_title = paste0(\"(\", round(num_auroc, 2), \")\")\n",
    "            txt_title = paste(txt_assay_inp, txt_title)\n",
    "        \n",
    "            dat = data.frame(\n",
    "                #\"Assay_CRISPR\"    = txt_assay_out,\n",
    "                #\"Assay_STARRMPRA\" = txt_assay_inp,\n",
    "                \"x\"     = 1 - vec_num_spec,\n",
    "                \"y\"     = vec_num_sens,\n",
    "                \"AUROC\" = num_auroc,\n",
    "                \"Performance\" = txt_title\n",
    "            )\n",
    "            return(dat)\n",
    "        })\n",
    "    \n",
    "        ### concat results across different STARRMPRA assay\n",
    "        dat = bind_rows(lst, .id = \"Assay_STARRMPRA\")\n",
    "        return(dat)\n",
    "    })\n",
    "\n",
    "    ### concat results across different CRISPR assay\n",
    "    dat = bind_rows(lst, .id = \"Assay_CRISPR\")\n",
    "    return(dat)\n",
    "})\n",
    "\n",
    "### concat results across different hit rate\n",
    "dat = bind_rows(lst, .id = \"CutOff_CRISPR\")\n",
    "\n",
    "### assign and show\n",
    "dat_logit_roc = dat\n",
    "print(dim(dat))\n",
    "fun_display_table(head(dat, 3))"
   ]
  },
  {
   "cell_type": "markdown",
   "id": "813face0-6326-47c2-acef-5c4f669a5933",
   "metadata": {},
   "source": [
    "## Export results"
   ]
  },
  {
   "cell_type": "code",
   "execution_count": 15,
   "id": "a7545aa1-8f2f-4359-b0b7-3a343308c89d",
   "metadata": {},
   "outputs": [],
   "source": [
    "### set file directory\n",
    "txt_foldr = \"fcc_astarr_macs_input_union\"\n",
    "txt_fdiry = file.path(FD_RES, \"analysis_fcc_correlation\", txt_foldr)\n",
    "txt_fname = \"result.cripsr_vs_starrmpra.logit.roc.tsv\"\n",
    "txt_fpath = file.path(txt_fdiry, txt_fname)\n",
    "\n",
    "### write table\n",
    "dat = dat_logit_roc\n",
    "write_tsv(dat, txt_fpath)"
   ]
  },
  {
   "cell_type": "code",
   "execution_count": null,
   "id": "d1d0097b-0d81-4b16-a94a-71c557c213f0",
   "metadata": {},
   "outputs": [],
   "source": []
  }
 ],
 "metadata": {
  "kernelspec": {
   "display_name": "R",
   "language": "R",
   "name": "ir"
  },
  "language_info": {
   "codemirror_mode": "r",
   "file_extension": ".r",
   "mimetype": "text/x-r-source",
   "name": "R",
   "pygments_lexer": "r",
   "version": "4.5.1"
  }
 },
 "nbformat": 4,
 "nbformat_minor": 5
}
