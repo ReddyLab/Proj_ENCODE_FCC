{
 "cells": [
  {
   "cell_type": "raw",
   "id": "dac68edf-b44a-4e59-a9a8-d714152b0f2f",
   "metadata": {},
   "source": [
    "---\n",
    "title: ...\n",
    "subtitle: combine ATAC, setup total, final, and share verion of table\n",
    "format:\n",
    "    html:\n",
    "        code-fold:  true\n",
    "        code-tools: true\n",
    "---"
   ]
  },
  {
   "cell_type": "markdown",
   "id": "28ce7f83-b965-4fc8-b9cd-ffa7cf973fc1",
   "metadata": {},
   "source": [
    "**Set environment**"
   ]
  },
  {
   "cell_type": "code",
   "execution_count": 1,
   "id": "d90366d5-86bc-4cba-b803-5f55a6b9c120",
   "metadata": {},
   "outputs": [
    {
     "name": "stdout",
     "output_type": "stream",
     "text": [
      "You are working on        Singularity: singularity_proj_encode_fcc \n",
      "BASE DIRECTORY (FD_BASE): /data/reddylab/Kuei \n",
      "REPO DIRECTORY (FD_REPO): /data/reddylab/Kuei/repo \n",
      "WORK DIRECTORY (FD_WORK): /data/reddylab/Kuei/work \n",
      "DATA DIRECTORY (FD_DATA): /data/reddylab/Kuei/data \n",
      "\n",
      "You are working with      ENCODE FCC \n",
      "PATH OF PROJECT (FD_PRJ): /data/reddylab/Kuei/repo/Proj_ENCODE_FCC \n",
      "PROJECT RESULTS (FD_RES): /data/reddylab/Kuei/repo/Proj_ENCODE_FCC/results \n",
      "PROJECT SCRIPTS (FD_EXE): /data/reddylab/Kuei/repo/Proj_ENCODE_FCC/scripts \n",
      "PROJECT DATA    (FD_DAT): /data/reddylab/Kuei/repo/Proj_ENCODE_FCC/data \n",
      "PROJECT NOTE    (FD_NBK): /data/reddylab/Kuei/repo/Proj_ENCODE_FCC/notebooks \n",
      "PROJECT DOCS    (FD_DOC): /data/reddylab/Kuei/repo/Proj_ENCODE_FCC/docs \n",
      "PROJECT LOG     (FD_LOG): /data/reddylab/Kuei/repo/Proj_ENCODE_FCC/log \n",
      "PROJECT REF     (FD_REF): /data/reddylab/Kuei/repo/Proj_ENCODE_FCC/references \n",
      "\n"
     ]
    }
   ],
   "source": [
    "suppressMessages(suppressWarnings(source(\"../run_config_project_sing.R\")))\n",
    "show_env()"
   ]
  },
  {
   "cell_type": "markdown",
   "id": "dba23ca4-c72d-48c7-aef1-bfe66c617cc0",
   "metadata": {},
   "source": [
    "**Check: region directory**"
   ]
  },
  {
   "cell_type": "code",
   "execution_count": 2,
   "id": "50857a1a-5695-4004-8b25-7e118fcdd2ad",
   "metadata": {},
   "outputs": [
    {
     "name": "stdout",
     "output_type": "stream",
     "text": [
      "atac_ENCFF333TAT \n",
      "atac_ENCFF558BLC \n",
      "atac_ENCFF925CYR \n",
      "atac_ENCFF948AFM \n",
      "dnase_ENCFF185XRG \n",
      "dnase_ENCFF274YGF \n",
      "fcc_astarr_macs_input_overlap \n",
      "fcc_astarr_macs_input_union \n"
     ]
    }
   ],
   "source": [
    "txt_fdiry = file.path(FD_RES, \"region_coverage_fcc_score\")\n",
    "\n",
    "vec = dir(txt_fdiry)\n",
    "for (txt in vec){cat(txt, \"\\n\")}"
   ]
  },
  {
   "cell_type": "markdown",
   "id": "65314e0d-903a-4f60-91a7-26f79c55ed17",
   "metadata": {},
   "source": [
    "**Check: assay directory**"
   ]
  },
  {
   "cell_type": "code",
   "execution_count": 3,
   "id": "8158015a-d698-4e2d-90bb-8f4a88a2bb6f",
   "metadata": {},
   "outputs": [
    {
     "name": "stdout",
     "output_type": "stream",
     "text": [
      "CRISPRi_FlowFISH_K562_Riley_JinWoo \n",
      "CRISPRi_Growth_K562_Gersbach_JinWoo \n",
      "MPRA_Lenti_K562_Nadav_Vikram \n",
      "MPRA_Tiling_K562_Tewhey_Hannah \n",
      "STARR_ATAC_K562_Reddy_KS274 \n",
      "STARR_ATAC_K562_Reddy_KS91 \n",
      "STARR_ATAC_K562_Reddy_KSMerge \n",
      "STARR_WHG_K562_Reddy_A001 \n",
      "summary \n"
     ]
    }
   ],
   "source": [
    "txt_region = \"fcc_astarr_macs_input_union\"\n",
    "txt_fdiry  = file.path(FD_RES, \"region_coverage_fcc_score\", txt_region)\n",
    "vec = dir(txt_fdiry)\n",
    "for (txt in vec) {cat(txt, \"\\n\")}"
   ]
  },
  {
   "cell_type": "markdown",
   "id": "597ed728-83f9-4f83-82d9-2edff2f7d825",
   "metadata": {},
   "source": [
    "**Set global variable**"
   ]
  },
  {
   "cell_type": "code",
   "execution_count": 4,
   "id": "9372dc5d-41e3-4753-a86b-c0695a423899",
   "metadata": {},
   "outputs": [
    {
     "name": "stdout",
     "output_type": "stream",
     "text": [
      "fcc_astarr_macs_input_overlap \n",
      "fcc_astarr_macs_input_union \n"
     ]
    }
   ],
   "source": [
    "## init: region folder\n",
    "vec = c(\"fcc_astarr_macs_input_overlap\", \"fcc_astarr_macs_input_union\")\n",
    "names(vec) = vec\n",
    "\n",
    "VEC_TXT_FOLDER = vec\n",
    "for (txt in vec) {cat(txt, \"\\n\")}"
   ]
  },
  {
   "cell_type": "code",
   "execution_count": 5,
   "id": "180aac97-7e4e-4f9c-bb4a-30048ec9fff5",
   "metadata": {},
   "outputs": [],
   "source": [
    "TXT_ASSAY_OUT = \"CRISPRi-HCRFF\"\n",
    "\n",
    "vec = c(\"ASTARR\", \"WSTARR\", \"LMPRA\", \"TMPRA\", \"ATAC\")\n",
    "names(vec) = vec\n",
    "VEC_TXT_ASSAY = vec"
   ]
  },
  {
   "cell_type": "markdown",
   "id": "da056a22-f40e-4e46-8d8b-e9010276558b",
   "metadata": {},
   "source": [
    "**Check input files**"
   ]
  },
  {
   "cell_type": "code",
   "execution_count": 6,
   "id": "9fb5da54-69dc-4ef2-9cce-7cda121822ed",
   "metadata": {},
   "outputs": [
    {
     "name": "stdout",
     "output_type": "stream",
     "text": [
      "/data/reddylab/Kuei/repo/Proj_ENCODE_FCC/results/analysis_fcc_correlation/fcc_astarr_macs_input_overlap/region.coverage.score.concat.tsv \n"
     ]
    }
   ],
   "source": [
    "txt_folder = VEC_TXT_FOLDER[1]\n",
    "txt_fdiry  = file.path(FD_RES, \"analysis_fcc_correlation\", txt_folder)\n",
    "txt_fname  = \"region.coverage.score.*.tsv\"\n",
    "txt_fglob  = file.path(txt_fdiry, txt_fname)\n",
    "\n",
    "vec = Sys.glob(txt_fglob)\n",
    "for (txt in vec) {cat(txt, \"\\n\")}"
   ]
  },
  {
   "cell_type": "markdown",
   "id": "5e294aad-cffa-4560-8956-f477a2c7bdde",
   "metadata": {},
   "source": [
    "## Import data"
   ]
  },
  {
   "cell_type": "code",
   "execution_count": 7,
   "id": "33a2f5c4-8774-4351-89fb-8f4422fea413",
   "metadata": {},
   "outputs": [
    {
     "name": "stdout",
     "output_type": "stream",
     "text": [
      "$fcc_astarr_macs_input_overlap\n",
      "[1] 586004      8\n",
      "\n",
      "$fcc_astarr_macs_input_union\n",
      "[1] 889739      8\n",
      "\n"
     ]
    },
    {
     "data": {
      "text/html": [
       "<table class=\"dataframe\">\n",
       "<caption>A tibble: 3 × 8</caption>\n",
       "<thead>\n",
       "\t<tr><th scope=col>Chrom</th><th scope=col>ChromStart</th><th scope=col>ChromEnd</th><th scope=col>Region</th><th scope=col>Score</th><th scope=col>Score_Label</th><th scope=col>Assay_Group</th><th scope=col>Assay_Label</th></tr>\n",
       "\t<tr><th scope=col>&lt;chr&gt;</th><th scope=col>&lt;dbl&gt;</th><th scope=col>&lt;dbl&gt;</th><th scope=col>&lt;chr&gt;</th><th scope=col>&lt;dbl&gt;</th><th scope=col>&lt;chr&gt;</th><th scope=col>&lt;chr&gt;</th><th scope=col>&lt;chr&gt;</th></tr>\n",
       "</thead>\n",
       "<tbody>\n",
       "\t<tr><td>chr1</td><td>10038</td><td>10405</td><td>chr1:10038-10405</td><td>-3.5573621</td><td>Scale(Log2FC)</td><td>ASTARR_KS91</td><td>ASTARR</td></tr>\n",
       "\t<tr><td>chr1</td><td>14282</td><td>14614</td><td>chr1:14282-14614</td><td> 0.0361388</td><td>Scale(Log2FC)</td><td>ASTARR_KS91</td><td>ASTARR</td></tr>\n",
       "\t<tr><td>chr1</td><td>16025</td><td>16338</td><td>chr1:16025-16338</td><td>-2.1376311</td><td>Scale(Log2FC)</td><td>ASTARR_KS91</td><td>ASTARR</td></tr>\n",
       "</tbody>\n",
       "</table>\n"
      ],
      "text/latex": [
       "A tibble: 3 × 8\n",
       "\\begin{tabular}{llllllll}\n",
       " Chrom & ChromStart & ChromEnd & Region & Score & Score\\_Label & Assay\\_Group & Assay\\_Label\\\\\n",
       " <chr> & <dbl> & <dbl> & <chr> & <dbl> & <chr> & <chr> & <chr>\\\\\n",
       "\\hline\n",
       "\t chr1 & 10038 & 10405 & chr1:10038-10405 & -3.5573621 & Scale(Log2FC) & ASTARR\\_KS91 & ASTARR\\\\\n",
       "\t chr1 & 14282 & 14614 & chr1:14282-14614 &  0.0361388 & Scale(Log2FC) & ASTARR\\_KS91 & ASTARR\\\\\n",
       "\t chr1 & 16025 & 16338 & chr1:16025-16338 & -2.1376311 & Scale(Log2FC) & ASTARR\\_KS91 & ASTARR\\\\\n",
       "\\end{tabular}\n"
      ],
      "text/markdown": [
       "\n",
       "A tibble: 3 × 8\n",
       "\n",
       "| Chrom &lt;chr&gt; | ChromStart &lt;dbl&gt; | ChromEnd &lt;dbl&gt; | Region &lt;chr&gt; | Score &lt;dbl&gt; | Score_Label &lt;chr&gt; | Assay_Group &lt;chr&gt; | Assay_Label &lt;chr&gt; |\n",
       "|---|---|---|---|---|---|---|---|\n",
       "| chr1 | 10038 | 10405 | chr1:10038-10405 | -3.5573621 | Scale(Log2FC) | ASTARR_KS91 | ASTARR |\n",
       "| chr1 | 14282 | 14614 | chr1:14282-14614 |  0.0361388 | Scale(Log2FC) | ASTARR_KS91 | ASTARR |\n",
       "| chr1 | 16025 | 16338 | chr1:16025-16338 | -2.1376311 | Scale(Log2FC) | ASTARR_KS91 | ASTARR |\n",
       "\n"
      ],
      "text/plain": [
       "  Chrom ChromStart ChromEnd Region           Score      Score_Label  \n",
       "1 chr1  10038      10405    chr1:10038-10405 -3.5573621 Scale(Log2FC)\n",
       "2 chr1  14282      14614    chr1:14282-14614  0.0361388 Scale(Log2FC)\n",
       "3 chr1  16025      16338    chr1:16025-16338 -2.1376311 Scale(Log2FC)\n",
       "  Assay_Group Assay_Label\n",
       "1 ASTARR_KS91 ASTARR     \n",
       "2 ASTARR_KS91 ASTARR     \n",
       "3 ASTARR_KS91 ASTARR     "
      ]
     },
     "metadata": {},
     "output_type": "display_data"
    }
   ],
   "source": [
    "lst = lapply(VEC_TXT_FOLDER, function(txt_folder){\n",
    "    ### set file directory\n",
    "    txt_fdiry  = file.path(FD_RES, \"analysis_fcc_correlation\", txt_folder)\n",
    "    txt_fname = \"region.coverage.score.concat.tsv\"\n",
    "    txt_fpath = file.path(txt_fdiry, txt_fname)\n",
    "\n",
    "    ### read table\n",
    "    dat = read_tsv(txt_fpath, show_col_types = FALSE)\n",
    "    return(dat)\n",
    "})\n",
    "\n",
    "### assign and show\n",
    "lst_dat_region_score_import = lst\n",
    "\n",
    "res = lapply(lst, dim)\n",
    "print(res)\n",
    "\n",
    "dat = lst[[1]]\n",
    "head(dat, 3)"
   ]
  },
  {
   "cell_type": "markdown",
   "id": "a1dd296d-673a-4d46-b85d-5f0f607da581",
   "metadata": {},
   "source": [
    "**Check: Assay count**"
   ]
  },
  {
   "cell_type": "code",
   "execution_count": 8,
   "id": "1988444e-a23a-411e-89b6-6ce073b2f613",
   "metadata": {},
   "outputs": [
    {
     "data": {
      "text/html": [
       "<table>\n",
       " <thead>\n",
       "  <tr>\n",
       "   <th style=\"text-align:left;\"> Assay_Group </th>\n",
       "   <th style=\"text-align:left;\"> Assay_Label </th>\n",
       "   <th style=\"text-align:right;\"> fcc_astarr_macs_input_overlap </th>\n",
       "   <th style=\"text-align:right;\"> fcc_astarr_macs_input_union </th>\n",
       "  </tr>\n",
       " </thead>\n",
       "<tbody>\n",
       "  <tr>\n",
       "   <td style=\"text-align:left;\"> ASTARR_KS91 </td>\n",
       "   <td style=\"text-align:left;\"> ASTARR </td>\n",
       "   <td style=\"text-align:right;\"> 150040 </td>\n",
       "   <td style=\"text-align:right;\"> 246850 </td>\n",
       "  </tr>\n",
       "  <tr>\n",
       "   <td style=\"text-align:left;\"> ASTARR_KS91 </td>\n",
       "   <td style=\"text-align:left;\"> ATAC </td>\n",
       "   <td style=\"text-align:right;\"> 150041 </td>\n",
       "   <td style=\"text-align:right;\"> 246852 </td>\n",
       "  </tr>\n",
       "  <tr>\n",
       "   <td style=\"text-align:left;\"> CRISPRi-Growth </td>\n",
       "   <td style=\"text-align:left;\"> CRISPRi-Growth </td>\n",
       "   <td style=\"text-align:right;\"> 72743 </td>\n",
       "   <td style=\"text-align:right;\"> 80288 </td>\n",
       "  </tr>\n",
       "  <tr>\n",
       "   <td style=\"text-align:left;\"> CRISPRi-HCRFF </td>\n",
       "   <td style=\"text-align:left;\"> CRISPRi-HCRFF </td>\n",
       "   <td style=\"text-align:right;\"> 925 </td>\n",
       "   <td style=\"text-align:right;\"> 1330 </td>\n",
       "  </tr>\n",
       "  <tr>\n",
       "   <td style=\"text-align:left;\"> ENCODE-rE2G </td>\n",
       "   <td style=\"text-align:left;\"> ENCODE-rE2G Benchmark </td>\n",
       "   <td style=\"text-align:right;\"> 3035 </td>\n",
       "   <td style=\"text-align:right;\"> 3169 </td>\n",
       "  </tr>\n",
       "  <tr>\n",
       "   <td style=\"text-align:left;\"> LMPRA </td>\n",
       "   <td style=\"text-align:left;\"> LMPRA </td>\n",
       "   <td style=\"text-align:right;\"> 61478 </td>\n",
       "   <td style=\"text-align:right;\"> 68497 </td>\n",
       "  </tr>\n",
       "  <tr>\n",
       "   <td style=\"text-align:left;\"> TMPRA </td>\n",
       "   <td style=\"text-align:left;\"> TMPRA </td>\n",
       "   <td style=\"text-align:right;\"> 1148 </td>\n",
       "   <td style=\"text-align:right;\"> 1722 </td>\n",
       "  </tr>\n",
       "  <tr>\n",
       "   <td style=\"text-align:left;\"> WSTARR </td>\n",
       "   <td style=\"text-align:left;\"> WSTARR </td>\n",
       "   <td style=\"text-align:right;\"> 146594 </td>\n",
       "   <td style=\"text-align:right;\"> 241031 </td>\n",
       "  </tr>\n",
       "</tbody>\n",
       "</table>"
      ]
     },
     "metadata": {},
     "output_type": "display_data"
    }
   ],
   "source": [
    "lst = lst_dat_region_score_import\n",
    "lst = lapply(lst, function(dat){\n",
    "    dat = dat %>% \n",
    "        dplyr::group_by(Assay_Group, Assay_Label) %>%\n",
    "        dplyr::summarise(Freq = n(), .groups = \"drop\")\n",
    "    return(dat)\n",
    "})\n",
    "\n",
    "dat = bind_rows(lst, .id = \"Folder\")\n",
    "dat = dat %>% tidyr::spread(Folder, Freq)\n",
    "fun_display_table(dat)"
   ]
  },
  {
   "cell_type": "markdown",
   "id": "fc0c891a-e713-4386-bf84-2a7994d1a4cb",
   "metadata": {},
   "source": [
    "**Check: Missing values**"
   ]
  },
  {
   "cell_type": "code",
   "execution_count": 9,
   "id": "7e3c4d6a-ff1a-4e93-aa0f-2eebb0356c4f",
   "metadata": {},
   "outputs": [
    {
     "name": "stdout",
     "output_type": "stream",
     "text": [
      "$fcc_astarr_macs_input_overlap\n",
      "[1] FALSE\n",
      "\n",
      "$fcc_astarr_macs_input_union\n",
      "[1] FALSE\n",
      "\n"
     ]
    }
   ],
   "source": [
    "lst = lst_dat_region_score_import\n",
    "lst = lapply(lst, function(dat){\n",
    "    tmp = any(is.na(dat))\n",
    "    return(tmp)\n",
    "})\n",
    "\n",
    "print(lst)"
   ]
  },
  {
   "cell_type": "code",
   "execution_count": null,
   "id": "55aa2b94-7c33-48b2-8b38-a64d47c45b6b",
   "metadata": {},
   "outputs": [],
   "source": []
  },
  {
   "cell_type": "code",
   "execution_count": null,
   "id": "efb7950d-de43-4f8b-bba3-b9247bf8a25a",
   "metadata": {},
   "outputs": [],
   "source": []
  },
  {
   "cell_type": "code",
   "execution_count": null,
   "id": "171d88f6-0029-4d48-8744-647a61f3b2b6",
   "metadata": {},
   "outputs": [],
   "source": []
  },
  {
   "cell_type": "code",
   "execution_count": 10,
   "id": "0574e688-b47b-4676-900a-2209d60ba52d",
   "metadata": {},
   "outputs": [
    {
     "name": "stdout",
     "output_type": "stream",
     "text": [
      "[1] \"ASTARR\"                \"ATAC\"                  \"CRISPRi-Growth\"       \n",
      "[4] \"CRISPRi-HCRFF\"         \"ENCODE-rE2G Benchmark\" \"LMPRA\"                \n",
      "[7] \"TMPRA\"                 \"WSTARR\"               \n"
     ]
    }
   ],
   "source": [
    "### select and split regions by assay\n",
    "idx = \"fcc_astarr_macs_input_union\"\n",
    "lst = lst_dat_region_score_import\n",
    "\n",
    "dat = lst[[idx]]\n",
    "lst = split(dat, dat$Assay_Label)\n",
    "\n",
    "### assign and show\n",
    "lst_dat_region_score = lst\n",
    "print(names(lst))"
   ]
  },
  {
   "cell_type": "code",
   "execution_count": 53,
   "id": "104c5371-2a33-43a4-9d61-1b25acb7bb62",
   "metadata": {},
   "outputs": [],
   "source": [
    "vec_num_hit_rate = c(0.01, 0.05, 0.1, 0.2)\n",
    "names(vec_num_hit_rate) = c(\"Top 1%\", \"Top 5%\", \"Top 10%\", \"Top 20%\")"
   ]
  },
  {
   "cell_type": "code",
   "execution_count": 64,
   "id": "188ece25-069f-4f91-92a4-6ad8452c985d",
   "metadata": {},
   "outputs": [
    {
     "name": "stdout",
     "output_type": "stream",
     "text": [
      "[1] TRUE\n",
      "[1] 20 12\n"
     ]
    },
    {
     "data": {
      "text/html": [
       "<table>\n",
       " <thead>\n",
       "  <tr>\n",
       "   <th style=\"text-align:left;\"> CutOff_Label </th>\n",
       "   <th style=\"text-align:left;\"> Assay_Output </th>\n",
       "   <th style=\"text-align:left;\"> Assay_Input </th>\n",
       "   <th style=\"text-align:right;\"> CutOff_Output </th>\n",
       "   <th style=\"text-align:right;\"> CutOff_Input </th>\n",
       "   <th style=\"text-align:right;\"> Size </th>\n",
       "   <th style=\"text-align:right;\"> Odds_Ratio </th>\n",
       "   <th style=\"text-align:right;\"> CI_Lower </th>\n",
       "   <th style=\"text-align:right;\"> CI_Upper </th>\n",
       "   <th style=\"text-align:right;\"> Pvalue </th>\n",
       "   <th style=\"text-align:right;\"> Padjust </th>\n",
       "   <th style=\"text-align:left;\"> Is_Signif </th>\n",
       "  </tr>\n",
       " </thead>\n",
       "<tbody>\n",
       "  <tr>\n",
       "   <td style=\"text-align:left;\"> Top 1% </td>\n",
       "   <td style=\"text-align:left;\"> CRISPRi-HCRFF </td>\n",
       "   <td style=\"text-align:left;\"> ASTARR </td>\n",
       "   <td style=\"text-align:right;\"> 1.2258364 </td>\n",
       "   <td style=\"text-align:right;\"> 2.9098079 </td>\n",
       "   <td style=\"text-align:right;\"> 1330 </td>\n",
       "   <td style=\"text-align:right;\"> 6.2278115 </td>\n",
       "   <td style=\"text-align:right;\"> 0.1385125 </td>\n",
       "   <td style=\"text-align:right;\"> 46.569391 </td>\n",
       "   <td style=\"text-align:right;\"> 0.1655586 </td>\n",
       "   <td style=\"text-align:right;\"> 0.3543686 </td>\n",
       "   <td style=\"text-align:left;\"> FALSE </td>\n",
       "  </tr>\n",
       "  <tr>\n",
       "   <td style=\"text-align:left;\"> Top 1% </td>\n",
       "   <td style=\"text-align:left;\"> CRISPRi-HCRFF </td>\n",
       "   <td style=\"text-align:left;\"> WSTARR </td>\n",
       "   <td style=\"text-align:right;\"> 1.2258364 </td>\n",
       "   <td style=\"text-align:right;\"> 2.7833773 </td>\n",
       "   <td style=\"text-align:right;\"> 1306 </td>\n",
       "   <td style=\"text-align:right;\"> 4.6440616 </td>\n",
       "   <td style=\"text-align:right;\"> 0.1046283 </td>\n",
       "   <td style=\"text-align:right;\"> 33.780287 </td>\n",
       "   <td style=\"text-align:right;\"> 0.2126212 </td>\n",
       "   <td style=\"text-align:right;\"> 0.3543686 </td>\n",
       "   <td style=\"text-align:left;\"> FALSE </td>\n",
       "  </tr>\n",
       "  <tr>\n",
       "   <td style=\"text-align:left;\"> Top 1% </td>\n",
       "   <td style=\"text-align:left;\"> CRISPRi-HCRFF </td>\n",
       "   <td style=\"text-align:left;\"> LMPRA </td>\n",
       "   <td style=\"text-align:right;\"> 1.2258364 </td>\n",
       "   <td style=\"text-align:right;\"> 6.3825162 </td>\n",
       "   <td style=\"text-align:right;\"> 721 </td>\n",
       "   <td style=\"text-align:right;\"> 0.0000000 </td>\n",
       "   <td style=\"text-align:right;\"> 0.0000000 </td>\n",
       "   <td style=\"text-align:right;\"> 70.387923 </td>\n",
       "   <td style=\"text-align:right;\"> 1.0000000 </td>\n",
       "   <td style=\"text-align:right;\"> 1.0000000 </td>\n",
       "   <td style=\"text-align:left;\"> FALSE </td>\n",
       "  </tr>\n",
       "  <tr>\n",
       "   <td style=\"text-align:left;\"> Top 1% </td>\n",
       "   <td style=\"text-align:left;\"> CRISPRi-HCRFF </td>\n",
       "   <td style=\"text-align:left;\"> TMPRA </td>\n",
       "   <td style=\"text-align:right;\"> 1.2258364 </td>\n",
       "   <td style=\"text-align:right;\"> 2.9158048 </td>\n",
       "   <td style=\"text-align:right;\"> 632 </td>\n",
       "   <td style=\"text-align:right;\"> 25.1477027 </td>\n",
       "   <td style=\"text-align:right;\"> 0.4510066 </td>\n",
       "   <td style=\"text-align:right;\"> 313.060024 </td>\n",
       "   <td style=\"text-align:right;\"> 0.0543349 </td>\n",
       "   <td style=\"text-align:right;\"> 0.2716745 </td>\n",
       "   <td style=\"text-align:left;\"> FALSE </td>\n",
       "  </tr>\n",
       "  <tr>\n",
       "   <td style=\"text-align:left;\"> Top 1% </td>\n",
       "   <td style=\"text-align:left;\"> CRISPRi-HCRFF </td>\n",
       "   <td style=\"text-align:left;\"> ATAC </td>\n",
       "   <td style=\"text-align:right;\"> 1.2258364 </td>\n",
       "   <td style=\"text-align:right;\"> 31.6407948 </td>\n",
       "   <td style=\"text-align:right;\"> 1330 </td>\n",
       "   <td style=\"text-align:right;\"> 0.0000000 </td>\n",
       "   <td style=\"text-align:right;\"> 0.0000000 </td>\n",
       "   <td style=\"text-align:right;\"> 20.047602 </td>\n",
       "   <td style=\"text-align:right;\"> 1.0000000 </td>\n",
       "   <td style=\"text-align:right;\"> 1.0000000 </td>\n",
       "   <td style=\"text-align:left;\"> FALSE </td>\n",
       "  </tr>\n",
       "  <tr>\n",
       "   <td style=\"text-align:left;\"> Top 5% </td>\n",
       "   <td style=\"text-align:left;\"> CRISPRi-HCRFF </td>\n",
       "   <td style=\"text-align:left;\"> ASTARR </td>\n",
       "   <td style=\"text-align:right;\"> 0.4836082 </td>\n",
       "   <td style=\"text-align:right;\"> 1.6337263 </td>\n",
       "   <td style=\"text-align:right;\"> 1330 </td>\n",
       "   <td style=\"text-align:right;\"> 4.2364137 </td>\n",
       "   <td style=\"text-align:right;\"> 2.0727060 </td>\n",
       "   <td style=\"text-align:right;\"> 8.191722 </td>\n",
       "   <td style=\"text-align:right;\"> 0.0000603 </td>\n",
       "   <td style=\"text-align:right;\"> 0.0001507 </td>\n",
       "   <td style=\"text-align:left;\"> TRUE </td>\n",
       "  </tr>\n",
       "  <tr>\n",
       "   <td style=\"text-align:left;\"> Top 5% </td>\n",
       "   <td style=\"text-align:left;\"> CRISPRi-HCRFF </td>\n",
       "   <td style=\"text-align:left;\"> WSTARR </td>\n",
       "   <td style=\"text-align:right;\"> 0.4836082 </td>\n",
       "   <td style=\"text-align:right;\"> 1.7237717 </td>\n",
       "   <td style=\"text-align:right;\"> 1306 </td>\n",
       "   <td style=\"text-align:right;\"> 3.8408459 </td>\n",
       "   <td style=\"text-align:right;\"> 1.6568831 </td>\n",
       "   <td style=\"text-align:right;\"> 8.134434 </td>\n",
       "   <td style=\"text-align:right;\"> 0.0010639 </td>\n",
       "   <td style=\"text-align:right;\"> 0.0017732 </td>\n",
       "   <td style=\"text-align:left;\"> TRUE </td>\n",
       "  </tr>\n",
       "  <tr>\n",
       "   <td style=\"text-align:left;\"> Top 5% </td>\n",
       "   <td style=\"text-align:left;\"> CRISPRi-HCRFF </td>\n",
       "   <td style=\"text-align:left;\"> LMPRA </td>\n",
       "   <td style=\"text-align:right;\"> 0.4836082 </td>\n",
       "   <td style=\"text-align:right;\"> 5.1389525 </td>\n",
       "   <td style=\"text-align:right;\"> 721 </td>\n",
       "   <td style=\"text-align:right;\"> 1.5046940 </td>\n",
       "   <td style=\"text-align:right;\"> 0.1659284 </td>\n",
       "   <td style=\"text-align:right;\"> 6.478463 </td>\n",
       "   <td style=\"text-align:right;\"> 0.4095474 </td>\n",
       "   <td style=\"text-align:right;\"> 0.4095474 </td>\n",
       "   <td style=\"text-align:left;\"> FALSE </td>\n",
       "  </tr>\n",
       "  <tr>\n",
       "   <td style=\"text-align:left;\"> Top 5% </td>\n",
       "   <td style=\"text-align:left;\"> CRISPRi-HCRFF </td>\n",
       "   <td style=\"text-align:left;\"> TMPRA </td>\n",
       "   <td style=\"text-align:right;\"> 0.4836082 </td>\n",
       "   <td style=\"text-align:right;\"> 2.0073421 </td>\n",
       "   <td style=\"text-align:right;\"> 632 </td>\n",
       "   <td style=\"text-align:right;\"> 4.1074896 </td>\n",
       "   <td style=\"text-align:right;\"> 1.1417471 </td>\n",
       "   <td style=\"text-align:right;\"> 12.106596 </td>\n",
       "   <td style=\"text-align:right;\"> 0.0155381 </td>\n",
       "   <td style=\"text-align:right;\"> 0.0194226 </td>\n",
       "   <td style=\"text-align:left;\"> TRUE </td>\n",
       "  </tr>\n",
       "  <tr>\n",
       "   <td style=\"text-align:left;\"> Top 5% </td>\n",
       "   <td style=\"text-align:left;\"> CRISPRi-HCRFF </td>\n",
       "   <td style=\"text-align:left;\"> ATAC </td>\n",
       "   <td style=\"text-align:right;\"> 0.4836082 </td>\n",
       "   <td style=\"text-align:right;\"> 14.4505654 </td>\n",
       "   <td style=\"text-align:right;\"> 1330 </td>\n",
       "   <td style=\"text-align:right;\"> 5.6638801 </td>\n",
       "   <td style=\"text-align:right;\"> 3.0759816 </td>\n",
       "   <td style=\"text-align:right;\"> 10.162111 </td>\n",
       "   <td style=\"text-align:right;\"> 0.0000000 </td>\n",
       "   <td style=\"text-align:right;\"> 0.0000002 </td>\n",
       "   <td style=\"text-align:left;\"> TRUE </td>\n",
       "  </tr>\n",
       "  <tr>\n",
       "   <td style=\"text-align:left;\"> Top 10% </td>\n",
       "   <td style=\"text-align:left;\"> CRISPRi-HCRFF </td>\n",
       "   <td style=\"text-align:left;\"> ASTARR </td>\n",
       "   <td style=\"text-align:right;\"> 0.2834525 </td>\n",
       "   <td style=\"text-align:right;\"> 1.1279638 </td>\n",
       "   <td style=\"text-align:right;\"> 1330 </td>\n",
       "   <td style=\"text-align:right;\"> 2.4321005 </td>\n",
       "   <td style=\"text-align:right;\"> 1.5379744 </td>\n",
       "   <td style=\"text-align:right;\"> 3.778403 </td>\n",
       "   <td style=\"text-align:right;\"> 0.0000789 </td>\n",
       "   <td style=\"text-align:right;\"> 0.0001973 </td>\n",
       "   <td style=\"text-align:left;\"> TRUE </td>\n",
       "  </tr>\n",
       "  <tr>\n",
       "   <td style=\"text-align:left;\"> Top 10% </td>\n",
       "   <td style=\"text-align:left;\"> CRISPRi-HCRFF </td>\n",
       "   <td style=\"text-align:left;\"> WSTARR </td>\n",
       "   <td style=\"text-align:right;\"> 0.2834525 </td>\n",
       "   <td style=\"text-align:right;\"> 1.2401386 </td>\n",
       "   <td style=\"text-align:right;\"> 1306 </td>\n",
       "   <td style=\"text-align:right;\"> 1.8299422 </td>\n",
       "   <td style=\"text-align:right;\"> 1.0465663 </td>\n",
       "   <td style=\"text-align:right;\"> 3.079894 </td>\n",
       "   <td style=\"text-align:right;\"> 0.0170223 </td>\n",
       "   <td style=\"text-align:right;\"> 0.0212779 </td>\n",
       "   <td style=\"text-align:left;\"> TRUE </td>\n",
       "  </tr>\n",
       "  <tr>\n",
       "   <td style=\"text-align:left;\"> Top 10% </td>\n",
       "   <td style=\"text-align:left;\"> CRISPRi-HCRFF </td>\n",
       "   <td style=\"text-align:left;\"> LMPRA </td>\n",
       "   <td style=\"text-align:right;\"> 0.2834525 </td>\n",
       "   <td style=\"text-align:right;\"> 4.2567091 </td>\n",
       "   <td style=\"text-align:right;\"> 721 </td>\n",
       "   <td style=\"text-align:right;\"> 1.5783034 </td>\n",
       "   <td style=\"text-align:right;\"> 0.5246296 </td>\n",
       "   <td style=\"text-align:right;\"> 3.966644 </td>\n",
       "   <td style=\"text-align:right;\"> 0.2213952 </td>\n",
       "   <td style=\"text-align:right;\"> 0.2213952 </td>\n",
       "   <td style=\"text-align:left;\"> FALSE </td>\n",
       "  </tr>\n",
       "  <tr>\n",
       "   <td style=\"text-align:left;\"> Top 10% </td>\n",
       "   <td style=\"text-align:left;\"> CRISPRi-HCRFF </td>\n",
       "   <td style=\"text-align:left;\"> TMPRA </td>\n",
       "   <td style=\"text-align:right;\"> 0.2834525 </td>\n",
       "   <td style=\"text-align:right;\"> 1.4732263 </td>\n",
       "   <td style=\"text-align:right;\"> 632 </td>\n",
       "   <td style=\"text-align:right;\"> 3.5443376 </td>\n",
       "   <td style=\"text-align:right;\"> 1.6246714 </td>\n",
       "   <td style=\"text-align:right;\"> 7.349490 </td>\n",
       "   <td style=\"text-align:right;\"> 0.0007869 </td>\n",
       "   <td style=\"text-align:right;\"> 0.0013115 </td>\n",
       "   <td style=\"text-align:left;\"> TRUE </td>\n",
       "  </tr>\n",
       "  <tr>\n",
       "   <td style=\"text-align:left;\"> Top 10% </td>\n",
       "   <td style=\"text-align:left;\"> CRISPRi-HCRFF </td>\n",
       "   <td style=\"text-align:left;\"> ATAC </td>\n",
       "   <td style=\"text-align:right;\"> 0.2834525 </td>\n",
       "   <td style=\"text-align:right;\"> 7.5333540 </td>\n",
       "   <td style=\"text-align:right;\"> 1330 </td>\n",
       "   <td style=\"text-align:right;\"> 2.5531506 </td>\n",
       "   <td style=\"text-align:right;\"> 1.6442193 </td>\n",
       "   <td style=\"text-align:right;\"> 3.907986 </td>\n",
       "   <td style=\"text-align:right;\"> 0.0000166 </td>\n",
       "   <td style=\"text-align:right;\"> 0.0000829 </td>\n",
       "   <td style=\"text-align:left;\"> TRUE </td>\n",
       "  </tr>\n",
       "  <tr>\n",
       "   <td style=\"text-align:left;\"> Top 20% </td>\n",
       "   <td style=\"text-align:left;\"> CRISPRi-HCRFF </td>\n",
       "   <td style=\"text-align:left;\"> ASTARR </td>\n",
       "   <td style=\"text-align:right;\"> 0.1766146 </td>\n",
       "   <td style=\"text-align:right;\"> 0.6624068 </td>\n",
       "   <td style=\"text-align:right;\"> 1330 </td>\n",
       "   <td style=\"text-align:right;\"> 1.3855463 </td>\n",
       "   <td style=\"text-align:right;\"> 1.0143795 </td>\n",
       "   <td style=\"text-align:right;\"> 1.882300 </td>\n",
       "   <td style=\"text-align:right;\"> 0.0201014 </td>\n",
       "   <td style=\"text-align:right;\"> 0.1005069 </td>\n",
       "   <td style=\"text-align:left;\"> FALSE </td>\n",
       "  </tr>\n",
       "  <tr>\n",
       "   <td style=\"text-align:left;\"> Top 20% </td>\n",
       "   <td style=\"text-align:left;\"> CRISPRi-HCRFF </td>\n",
       "   <td style=\"text-align:left;\"> WSTARR </td>\n",
       "   <td style=\"text-align:right;\"> 0.1766146 </td>\n",
       "   <td style=\"text-align:right;\"> 0.7377556 </td>\n",
       "   <td style=\"text-align:right;\"> 1306 </td>\n",
       "   <td style=\"text-align:right;\"> 0.9525344 </td>\n",
       "   <td style=\"text-align:right;\"> 0.6589398 </td>\n",
       "   <td style=\"text-align:right;\"> 1.358652 </td>\n",
       "   <td style=\"text-align:right;\"> 0.6381452 </td>\n",
       "   <td style=\"text-align:right;\"> 0.6381452 </td>\n",
       "   <td style=\"text-align:left;\"> FALSE </td>\n",
       "  </tr>\n",
       "  <tr>\n",
       "   <td style=\"text-align:left;\"> Top 20% </td>\n",
       "   <td style=\"text-align:left;\"> CRISPRi-HCRFF </td>\n",
       "   <td style=\"text-align:left;\"> LMPRA </td>\n",
       "   <td style=\"text-align:right;\"> 0.1766146 </td>\n",
       "   <td style=\"text-align:right;\"> 3.0313711 </td>\n",
       "   <td style=\"text-align:right;\"> 721 </td>\n",
       "   <td style=\"text-align:right;\"> 1.2482824 </td>\n",
       "   <td style=\"text-align:right;\"> 0.6485089 </td>\n",
       "   <td style=\"text-align:right;\"> 2.284676 </td>\n",
       "   <td style=\"text-align:right;\"> 0.2722817 </td>\n",
       "   <td style=\"text-align:right;\"> 0.6381452 </td>\n",
       "   <td style=\"text-align:left;\"> FALSE </td>\n",
       "  </tr>\n",
       "  <tr>\n",
       "   <td style=\"text-align:left;\"> Top 20% </td>\n",
       "   <td style=\"text-align:left;\"> CRISPRi-HCRFF </td>\n",
       "   <td style=\"text-align:left;\"> TMPRA </td>\n",
       "   <td style=\"text-align:right;\"> 0.1766146 </td>\n",
       "   <td style=\"text-align:right;\"> 0.8359846 </td>\n",
       "   <td style=\"text-align:right;\"> 632 </td>\n",
       "   <td style=\"text-align:right;\"> 1.0255495 </td>\n",
       "   <td style=\"text-align:right;\"> 0.5823902 </td>\n",
       "   <td style=\"text-align:right;\"> 1.748570 </td>\n",
       "   <td style=\"text-align:right;\"> 0.5073719 </td>\n",
       "   <td style=\"text-align:right;\"> 0.6381452 </td>\n",
       "   <td style=\"text-align:left;\"> FALSE </td>\n",
       "  </tr>\n",
       "  <tr>\n",
       "   <td style=\"text-align:left;\"> Top 20% </td>\n",
       "   <td style=\"text-align:left;\"> CRISPRi-HCRFF </td>\n",
       "   <td style=\"text-align:left;\"> ATAC </td>\n",
       "   <td style=\"text-align:right;\"> 0.1766146 </td>\n",
       "   <td style=\"text-align:right;\"> 4.0018804 </td>\n",
       "   <td style=\"text-align:right;\"> 1330 </td>\n",
       "   <td style=\"text-align:right;\"> 0.9729218 </td>\n",
       "   <td style=\"text-align:right;\"> 0.7123731 </td>\n",
       "   <td style=\"text-align:right;\"> 1.320094 </td>\n",
       "   <td style=\"text-align:right;\"> 0.5989995 </td>\n",
       "   <td style=\"text-align:right;\"> 0.6381452 </td>\n",
       "   <td style=\"text-align:left;\"> FALSE </td>\n",
       "  </tr>\n",
       "</tbody>\n",
       "</table>"
      ]
     },
     "metadata": {},
     "output_type": "display_data"
    }
   ],
   "source": [
    "lst = lapply(vec_num_hit_rate, function(num_hit_rate){\n",
    "    \n",
    "    ### get the output assay\n",
    "    lst = lst_dat_region_score\n",
    "    dat = lst[[TXT_ASSAY_OUT]]\n",
    "    dat_region_score_out = dat\n",
    "    \n",
    "    ### get the score of output assay\n",
    "    dat = dat_region_score_out\n",
    "    vec = dat$Score\n",
    "    vec = abs(vec)\n",
    "    vec_num_score_out = vec\n",
    "    \n",
    "    ### determine score cutoff\n",
    "    num_cutoff_out = quantile(vec_num_score_out, probs = 1 - num_hit_rate)\n",
    "    \n",
    "    ### setup group by cutoff\n",
    "    dat = dat_region_score_out\n",
    "    dat$Group_CRISPR = ifelse(vec_num_score_out >= num_cutoff_out, 1, 0)\n",
    "    dat = dat %>% dplyr::select(Region, Group_CRISPR)\n",
    "    dat_region_group_out = dat\n",
    "    \n",
    "    lst = lapply(VEC_TXT_ASSAY, function(txt_assay){\n",
    "        ### get the input assay\n",
    "        lst = lst_dat_region_score\n",
    "        dat = lst[[txt_assay]]\n",
    "        dat = dat %>% dplyr::select(Region, Score)\n",
    "        dat_region_score_inp = dat\n",
    "    \n",
    "        ### get the score of output assay\n",
    "        dat = dat_region_score_inp\n",
    "        vec = dat$Score\n",
    "        #vec = abs(vec)\n",
    "        vec_num_score_inp = vec\n",
    "        \n",
    "        ### determine score cut off\n",
    "        num_cutoff_inp = quantile(vec_num_score_inp, probs = 1 - num_hit_rate)\n",
    "    \n",
    "        ### setup group by cutoff\n",
    "        dat = dat_region_score_inp\n",
    "        dat$Group_Reporter = ifelse(vec_num_score_inp >= num_cutoff_inp, 1, 0)\n",
    "        dat = dat %>% dplyr::select(Region, Group_Reporter)\n",
    "        dat_region_group_inp = dat\n",
    "        \n",
    "        ### combine group and score\n",
    "        dat = dplyr::inner_join(\n",
    "            dat_region_group_out,\n",
    "            dat_region_group_inp,\n",
    "            by = \"Region\"\n",
    "        )\n",
    "        dat_region_merge = dat\n",
    "    \n",
    "        ### \n",
    "        dat = dat_region_merge\n",
    "        tab = table(\n",
    "            dat$Group_CRISPR   == 1, \n",
    "            dat$Group_Reporter == 1\n",
    "        )\n",
    "        \n",
    "        ### perform fisher exact test\n",
    "        fit_twoside = fisher.test(tab, alternative = \"two.sided\", conf.level = 0.95)\n",
    "        fit_greater = fisher.test(tab, alternative = \"greater\", conf.level = 0.95)\n",
    "        \n",
    "        ### collect results\n",
    "        num_odds_ratio = as.numeric(fit_twoside$estimate)\n",
    "        num_ci_lower   = fit_twoside$conf.int[1]\n",
    "        num_ci_upper   = fit_twoside$conf.int[2]\n",
    "        num_pvalue     = fit_greater$p.value\n",
    "    \n",
    "        res = tibble(\n",
    "            CutOff_Input = num_cutoff_inp,\n",
    "            Odds_Ratio   = num_odds_ratio,\n",
    "            Pvalue       = num_pvalue,\n",
    "            CI_Lower     = num_ci_lower,\n",
    "            CI_Upper     = num_ci_upper,\n",
    "            Size         = nrow(dat_region_merge)\n",
    "        )\n",
    "        return(res)\n",
    "    })\n",
    "\n",
    "    ###\n",
    "    dat = bind_rows(lst, .id = \"Assay_Input\")\n",
    "    dat = dat %>% \n",
    "        dplyr::mutate(\n",
    "            Assay_Output  = TXT_ASSAY_OUT,\n",
    "            CutOff_Output = num_cutoff_out,\n",
    "            Padjust = p.adjust(Pvalue, method = \"BH\")\n",
    "        ) %>%\n",
    "        dplyr::mutate(\n",
    "            Is_Signif = Padjust < 0.05\n",
    "        ) %>%\n",
    "        dplyr::select(\n",
    "            Assay_Output, Assay_Input, \n",
    "            CutOff_Output, CutOff_Input, Size, \n",
    "            Odds_Ratio, CI_Lower, CI_Upper,\n",
    "            Pvalue, Padjust, Is_Signif)\n",
    "    return(dat)\n",
    "})\n",
    "\n",
    "dat = bind_rows(lst, .id = \"CutOff_Label\")\n",
    "\n",
    "### assign and show\n",
    "dat_stats = dat\n",
    "print(nrow(dat_stats) == length(vec_num_hit_rate) * length(VEC_TXT_ASSAY))\n",
    "print(dim(dat))\n",
    "fun_display_table(dat)"
   ]
  },
  {
   "cell_type": "code",
   "execution_count": 63,
   "id": "990d6545-a553-43d0-b9ba-d47d895f1c4b",
   "metadata": {},
   "outputs": [
    {
     "data": {
      "image/png": "[encoded data removed]",
      "text/plain": [
       "plot without title"
      ]
     },
     "metadata": {
      "image/png": {
       "height": 240,
       "width": 420
      }
     },
     "output_type": "display_data"
    }
   ],
   "source": [
    "dat = dat_stats\n",
    "\n",
    "dat = dat %>% dplyr::filter(CutOff_Label == \"Top 10%\")\n",
    "dat = dat %>% dplyr::mutate(Assay_Label = paste0(Assay_Input, \" (\", Size, \")\"))\n",
    "dat = dat %>% \n",
    "    dplyr::mutate(Assay_Input = factor(Assay_Input, levels = VEC_TXT_ASSAY)) %>%\n",
    "    dplyr::arrange(Assay_Input) %>%\n",
    "    dplyr::mutate(Assay_Label = factor(Assay_Label, levels = Assay_Label))\n",
    "     \n",
    "gpt = ggplot(dat, aes(x = Assay_Label, y = Odds_Ratio)) +\n",
    "    geom_point(size = 3) +\n",
    "    geom_errorbar(aes(ymin = CI_Lower, ymax = CI_Upper), linewidth=1, width = 0.2) +\n",
    "    geom_hline(yintercept=1, linetype=\"dashed\") +\n",
    "    coord_flip() +\n",
    "    labs(y=\"Odds Ratio (95% CI)\", x=\"Reporter Assay\", title = TXT_ASSAY_OUT) +\n",
    "    theme_cowplot() +\n",
    "    background_grid()\n",
    "\n",
    "options(repr.plot.height=4, repr.plot.width=7)\n",
    "print(gpt)"
   ]
  },
  {
   "cell_type": "code",
   "execution_count": 61,
   "id": "6b837654-b641-442c-a88b-58339d3eecdb",
   "metadata": {},
   "outputs": [
    {
     "data": {
      "image/png": "[encoded data removed]",
      "text/plain": [
       "plot without title"
      ]
     },
     "metadata": {
      "image/png": {
       "height": 240,
       "width": 420
      }
     },
     "output_type": "display_data"
    }
   ],
   "source": [
    "dat = dat_stats\n",
    "\n",
    "dat = dat %>% dplyr::filter(CutOff_Label == \"Top 10%\")\n",
    "dat = dat %>% dplyr::mutate(Assay_Label = paste0(Assay_Input, \" (\", Size, \")\"))\n",
    "dat = dat %>% \n",
    "    dplyr::mutate(Assay_Input = factor(Assay_Input, levels = VEC_TXT_ASSAY)) %>%\n",
    "    dplyr::arrange(Assay_Input) %>%\n",
    "    dplyr::mutate(Assay_Label = factor(Assay_Label, levels = Assay_Label))\n",
    "     \n",
    "gpt = ggplot(dat, aes(x = Assay_Label, y = Odds_Ratio)) +\n",
    "    geom_point(size = 3) +\n",
    "    geom_errorbar(aes(ymin = CI_Lower, ymax = CI_Upper), linewidth=1, width = 0.2) +\n",
    "    geom_hline(yintercept=1, linetype=\"dashed\") +\n",
    "    coord_flip() +\n",
    "    labs(y=\"Odds Ratio (95% CI)\", x=\"Reporter Assay\", title = TXT_ASSAY_OUT) +\n",
    "    theme_cowplot() +\n",
    "    background_grid()\n",
    "\n",
    "options(repr.plot.height=4, repr.plot.width=7)\n",
    "print(gpt)"
   ]
  },
  {
   "cell_type": "code",
   "execution_count": null,
   "id": "da1cb082-515b-4c36-96fc-ccfe594ac95c",
   "metadata": {},
   "outputs": [],
   "source": []
  }
 ],
 "metadata": {
  "kernelspec": {
   "display_name": "R",
   "language": "R",
   "name": "ir"
  },
  "language_info": {
   "codemirror_mode": "r",
   "file_extension": ".r",
   "mimetype": "text/x-r-source",
   "name": "R",
   "pygments_lexer": "r",
   "version": "4.5.1"
  }
 },
 "nbformat": 4,
 "nbformat_minor": 5
}
