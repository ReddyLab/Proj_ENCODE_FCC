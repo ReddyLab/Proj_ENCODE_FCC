{
 "cells": [
  {
   "cell_type": "raw",
   "id": "deea2a1d-5d76-46bf-b0e1-96a6060546bf",
   "metadata": {},
   "source": [
    "---\n",
    "title: Prepare CRISPRi-HCRFF processed by JinWoo 02\n",
    "subtitle: Get the genomic range of fragments designed in CRISPRi-HCRFF\n",
    "format:\n",
    "    html:\n",
    "        code-fold:  true\n",
    "        code-tools: true\n",
    "---"
   ]
  },
  {
   "cell_type": "markdown",
   "id": "eb972c64-54f6-4b91-bf56-88d774c7c9a0",
   "metadata": {},
   "source": [
    "**Set environment**"
   ]
  },
  {
   "cell_type": "code",
   "execution_count": 1,
   "id": "b6da7b4a-9ac8-405e-b7ed-0676d3787653",
   "metadata": {},
   "outputs": [
    {
     "name": "stdout",
     "output_type": "stream",
     "text": [
      "You are working on        Singularity \n",
      "BASE DIRECTORY (FD_BASE): /mount \n",
      "REPO DIRECTORY (FD_REPO): /mount/repo \n",
      "WORK DIRECTORY (FD_WORK): /mount/work \n",
      "DATA DIRECTORY (FD_DATA): /mount/data \n",
      "\n",
      "You are working with      ENCODE FCC \n",
      "PATH OF PROJECT (FD_PRJ): /mount/repo/Proj_ENCODE_FCC \n",
      "PROJECT RESULTS (FD_RES): /mount/repo/Proj_ENCODE_FCC/results \n",
      "PROJECT SCRIPTS (FD_EXE): /mount/repo/Proj_ENCODE_FCC/scripts \n",
      "PROJECT DATA    (FD_DAT): /mount/repo/Proj_ENCODE_FCC/data \n",
      "PROJECT NOTE    (FD_NBK): /mount/repo/Proj_ENCODE_FCC/notebooks \n",
      "PROJECT DOCS    (FD_DOC): /mount/repo/Proj_ENCODE_FCC/docs \n",
      "PROJECT LOG     (FD_LOG): /mount/repo/Proj_ENCODE_FCC/log \n",
      "PROJECT APP     (FD_APP): /mount/repo/Proj_ENCODE_FCC/app \n",
      "PROJECT REF     (FD_REF): /mount/repo/Proj_ENCODE_FCC/references \n",
      "\n"
     ]
    }
   ],
   "source": [
    "suppressMessages(suppressWarnings(source(\"../run_config_project_sing.R\")))\n",
    "show_env()"
   ]
  },
  {
   "cell_type": "markdown",
   "id": "e6c99252-f984-4afe-aedc-4ac451829c11",
   "metadata": {},
   "source": [
    "**Set global variables**"
   ]
  },
  {
   "cell_type": "code",
   "execution_count": 2,
   "id": "6910fc40-4d47-49e9-a13c-6e6e42f58979",
   "metadata": {},
   "outputs": [],
   "source": [
    "TXT_ASSAY = \"CRISPRi_Growth_K562_Gersbach_JinWoo\""
   ]
  },
  {
   "cell_type": "code",
   "execution_count": null,
   "id": "91c4f423-543d-4609-b6c0-05893cf2ee05",
   "metadata": {},
   "outputs": [],
   "source": []
  },
  {
   "cell_type": "code",
   "execution_count": null,
   "id": "f1b0b5d2-4739-4319-9c60-b13c22c9401f",
   "metadata": {},
   "outputs": [],
   "source": [
    "### init\n",
    "dat = dat_guides_crispri_growth\n",
    "vec = dat$Score\n",
    "\n",
    "### stats\n",
    "val_mu = mean(vec)\n",
    "val_sd = sd(vec)\n",
    "vec_sd = c(val_sd, -val_sd)\n",
    "\n",
    "### visualize\n",
    "dat = dat %>% dplyr::filter(abs(Score) < 2)\n",
    "gpt = ggplot(dat, aes(x=Score)) + \n",
    "    geom_histogram(binwidth = 0.1) +\n",
    "    geom_vline(xintercept = vec_sd * 1.0, linetype=\"dashed\", color=\"red\") +\n",
    "    geom_vline(xintercept = vec_sd * 1.5, linetype=\"dashed\", color=\"blue\") +\n",
    "    geom_vline(xintercept = vec_sd * 2.0, linetype=\"dashed\", color=\"chartreuse4\") +\n",
    "    theme_cowplot()\n",
    "\n",
    "options(repr.plot.height=5, repr.plot.width=8)\n",
    "print(gpt)"
   ]
  },
  {
   "cell_type": "code",
   "execution_count": null,
   "id": "8f3d8688-a28a-4d0c-b842-0b7c06f46094",
   "metadata": {},
   "outputs": [],
   "source": []
  },
  {
   "cell_type": "code",
   "execution_count": null,
   "id": "09393723-0e32-4d96-bdf0-47cc1220ca21",
   "metadata": {},
   "outputs": [],
   "source": []
  }
 ],
 "metadata": {
  "kernelspec": {
   "display_name": "R",
   "language": "R",
   "name": "ir"
  },
  "language_info": {
   "codemirror_mode": "r",
   "file_extension": ".r",
   "mimetype": "text/x-r-source",
   "name": "R",
   "pygments_lexer": "r",
   "version": "4.3.3"
  }
 },
 "nbformat": 4,
 "nbformat_minor": 5
}
