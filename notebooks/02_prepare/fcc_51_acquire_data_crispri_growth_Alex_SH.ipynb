{
 "cells": [
  {
   "cell_type": "raw",
   "id": "766dffab-a3c8-41e7-9ca7-b498f52e4e40",
   "metadata": {},
   "source": [
    "---\n",
    "title: Prepare CRISPRi-Growth significant region 01\n",
    "subtitle: Get K562 CRISPRi-Growth data files processed by Alex\n",
    "format:\n",
    "    html:\n",
    "        code-fold:  true\n",
    "        code-tools: true\n",
    "---"
   ]
  },
  {
   "cell_type": "markdown",
   "id": "0b0e8aee-28c9-4542-a55c-50f0c6af5e04",
   "metadata": {},
   "source": [
    "**Set environment**"
   ]
  },
  {
   "cell_type": "code",
   "execution_count": 1,
   "id": "c8477b37-6b87-40f0-818d-0c84eb690b5e",
   "metadata": {},
   "outputs": [
    {
     "name": "stdout",
     "output_type": "stream",
     "text": [
      "You are working on             Duke Server: HARDAC\n",
      "BASE DIRECTORY (FD_BASE):      /data/reddylab/Kuei\n",
      "REPO DIRECTORY (FD_REPO):      /data/reddylab/Kuei/repo\n",
      "WORK DIRECTORY (FD_WORK):      /data/reddylab/Kuei/work\n",
      "DATA DIRECTORY (FD_DATA):      /data/reddylab/Kuei/data\n",
      "CONTAINER DIR. (FD_SING):      /data/reddylab/Kuei/container\n",
      "\n",
      "You are working with           ENCODE FCC\n",
      "PATH OF PROJECT (FD_PRJ):      /data/reddylab/Kuei/repo/Proj_ENCODE_FCC\n",
      "PROJECT RESULTS (FD_RES):      /data/reddylab/Kuei/repo/Proj_ENCODE_FCC/results\n",
      "PROJECT SCRIPTS (FD_EXE):      /data/reddylab/Kuei/repo/Proj_ENCODE_FCC/scripts\n",
      "PROJECT DATA    (FD_DAT):      /data/reddylab/Kuei/repo/Proj_ENCODE_FCC/data\n",
      "PROJECT NOTE    (FD_NBK):      /data/reddylab/Kuei/repo/Proj_ENCODE_FCC/notebooks\n",
      "PROJECT DOCS    (FD_DOC):      /data/reddylab/Kuei/repo/Proj_ENCODE_FCC/docs\n",
      "PROJECT LOG     (FD_LOG):      /data/reddylab/Kuei/repo/Proj_ENCODE_FCC/log\n",
      "PROJECT APP     (FD_APP):      /data/reddylab/Kuei/repo/Proj_ENCODE_FCC/app\n",
      "PROJECT REF     (FD_REF):      /data/reddylab/Kuei/repo/Proj_ENCODE_FCC/references\n",
      "PROJECT IMAGE   (FP_PRJ_SIF):  /data/reddylab/Kuei/repo/Proj_ENCODE_FCC/app/singularity_proj_encode_fcc.sif\n",
      "\n"
     ]
    }
   ],
   "source": [
    "source ../run_config_project.sh\n",
    "show_env"
   ]
  },
  {
   "cell_type": "code",
   "execution_count": 3,
   "id": "921d976e-35c2-45c9-a686-ca7ba37fb785",
   "metadata": {},
   "outputs": [
    {
     "name": "stdout",
     "output_type": "stream",
     "text": [
      "\u001b[0m\u001b[38;5;27m2023_resubmission\u001b[0m\n",
      "\u001b[38;5;9mk562-gw-v3-all.sorted.counts.results.hg38.txt.gz\u001b[0m\n",
      "\u001b[38;5;9mk562-gw-v3-all.sorted.counts.results.top_guide_fdr_0_05.hg38.bed.gz\u001b[0m\n"
     ]
    }
   ],
   "source": [
    "FDIRY=${FD_WORK}/proj_encode_fcc/source/CRISPRi_growth\n",
    "\n",
    "ls ${FDIRY}"
   ]
  },
  {
   "cell_type": "code",
   "execution_count": 4,
   "id": "4387858d-d5d5-4aac-8869-2a1e0f753873",
   "metadata": {},
   "outputs": [
    {
     "name": "stdout",
     "output_type": "stream",
     "text": [
      "2023-04-26_DHS.Summary.forAndrew.csv\n",
      "2023-04-26_DHS.Summary.forAndrew.fdr_0.1.hg38.txt\n",
      "2023-04-26_DHS.Summary.forAndrew_README.txt\n"
     ]
    }
   ],
   "source": [
    "FDIRY=${FD_WORK}/proj_encode_fcc/source/CRISPRi_growth\n",
    "\n",
    "ls ${FDIRY}/2023_resubmission"
   ]
  },
  {
   "cell_type": "code",
   "execution_count": 5,
   "id": "ba27e5b4-8cb8-4ee5-ae30-038c380751f1",
   "metadata": {},
   "outputs": [
    {
     "name": "stdout",
     "output_type": "stream",
     "text": [
      "\u001b[0m\u001b[38;5;27m2023_resubmission\u001b[0m\n",
      "\u001b[38;5;9mk562-gw-v3-all.sorted.counts.results.hg38.txt.gz\u001b[0m\n",
      "\u001b[38;5;9mk562-gw-v3-all.sorted.counts.results.top_guide_fdr_0_05.hg38.bed.gz\u001b[0m\n",
      "\n"
     ]
    }
   ],
   "source": [
    "FD_INP=${FD_WORK}/proj_encode_fcc/source/CRISPRi_growth\n",
    "FD_OUT=${FD_DAT}/processed/CRISPRi_Growth_K562_Gersbach_Alex\n",
    "\n",
    "ls ${FD_INP}\n",
    "echo\n",
    "ls ${FD_OUT}"
   ]
  },
  {
   "cell_type": "code",
   "execution_count": 6,
   "id": "5a969099-07c2-4b0e-a8dc-81d870b8bafa",
   "metadata": {},
   "outputs": [],
   "source": [
    "FD_INP=${FD_WORK}/proj_encode_fcc/source/CRISPRi_growth\n",
    "FD_OUT=${FD_DAT}/processed/CRISPRi_Growth_K562_Gersbach_Alex\n",
    "cp -R ${FD_INP}/* ${FD_OUT}/"
   ]
  },
  {
   "cell_type": "code",
   "execution_count": 7,
   "id": "23824fb7-87b2-4c74-9c61-affead1ac04c",
   "metadata": {},
   "outputs": [
    {
     "name": "stdout",
     "output_type": "stream",
     "text": [
      "\u001b[0m\u001b[38;5;27m2023_resubmission\u001b[0m\n",
      "\u001b[38;5;9mk562-gw-v3-all.sorted.counts.results.hg38.txt.gz\u001b[0m\n",
      "\u001b[38;5;9mk562-gw-v3-all.sorted.counts.results.top_guide_fdr_0_05.hg38.bed.gz\u001b[0m\n"
     ]
    }
   ],
   "source": [
    "ls ${FD_OUT}"
   ]
  },
  {
   "cell_type": "code",
   "execution_count": null,
   "id": "575db3ef-117e-4399-8115-bf0be4e97db6",
   "metadata": {},
   "outputs": [],
   "source": []
  }
 ],
 "metadata": {
  "kernelspec": {
   "display_name": "Bash",
   "language": "bash",
   "name": "bash"
  },
  "language_info": {
   "codemirror_mode": "shell",
   "file_extension": ".sh",
   "mimetype": "text/x-sh",
   "name": "bash"
  }
 },
 "nbformat": 4,
 "nbformat_minor": 5
}
