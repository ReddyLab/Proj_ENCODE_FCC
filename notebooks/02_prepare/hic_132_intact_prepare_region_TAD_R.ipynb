{
 "cells": [
  {
   "cell_type": "raw",
   "id": "d40f3cbc-0c06-485a-ab4f-b8fb4fe5394b",
   "metadata": {},
   "source": [
    "---\n",
    "title: Prepare Hi-C data 132 (intact Hi-C)\n",
    "subtitle: Prepare data (TAD)\n",
    "format:\n",
    "    html:\n",
    "        code-fold:  true\n",
    "        code-tools: true\n",
    "---"
   ]
  },
  {
   "cell_type": "markdown",
   "id": "958410ad-443c-4209-88d7-aef543ba6568",
   "metadata": {},
   "source": [
    "**Set environment**"
   ]
  },
  {
   "cell_type": "code",
   "execution_count": 1,
   "id": "a9db50c4-8f79-43a6-9c8c-ba94405997e0",
   "metadata": {
    "tags": []
   },
   "outputs": [
    {
     "name": "stdout",
     "output_type": "stream",
     "text": [
      "You are working on        Singularity \n",
      "BASE DIRECTORY (FD_BASE): /mount \n",
      "REPO DIRECTORY (FD_REPO): /mount/repo \n",
      "WORK DIRECTORY (FD_WORK): /mount/work \n",
      "DATA DIRECTORY (FD_DATA): /mount/data \n",
      "\n",
      "You are working with      ENCODE FCC \n",
      "PATH OF PROJECT (FD_PRJ): /mount/repo/Proj_ENCODE_FCC \n",
      "PROJECT RESULTS (FD_RES): /mount/repo/Proj_ENCODE_FCC/results \n",
      "PROJECT SCRIPTS (FD_EXE): /mount/repo/Proj_ENCODE_FCC/scripts \n",
      "PROJECT DATA    (FD_DAT): /mount/repo/Proj_ENCODE_FCC/data \n",
      "PROJECT NOTE    (FD_NBK): /mount/repo/Proj_ENCODE_FCC/notebooks \n",
      "PROJECT DOCS    (FD_DOC): /mount/repo/Proj_ENCODE_FCC/docs \n",
      "PROJECT LOG     (FD_LOG): /mount/repo/Proj_ENCODE_FCC/log \n",
      "PROJECT APP     (FD_APP): /mount/repo/Proj_ENCODE_FCC/app \n",
      "PROJECT REF     (FD_REF): /mount/repo/Proj_ENCODE_FCC/references \n",
      "\n"
     ]
    }
   ],
   "source": [
    "suppressMessages(suppressWarnings(source(\"../run_config_project_sing.R\")))\n",
    "show_env()"
   ]
  },
  {
   "cell_type": "markdown",
   "id": "0053d1d1-0a04-4691-abff-277216ac0a81",
   "metadata": {},
   "source": [
    "**Set global variables**"
   ]
  },
  {
   "cell_type": "code",
   "execution_count": 2,
   "id": "7644756e-74d1-43dd-8181-da10a1afdfaa",
   "metadata": {},
   "outputs": [],
   "source": [
    "TXT_FOLDER_REGION = \"hic_intact_K562_ENCSR479XDG\"\n",
    "TXT_ASSAY = \"hic_intact\"\n",
    "TXT_INDEX = \"ENCSR479XDG\""
   ]
  },
  {
   "cell_type": "markdown",
   "id": "acee2d1d-b935-493d-8747-32d89a497902",
   "metadata": {},
   "source": [
    "## Import data"
   ]
  },
  {
   "cell_type": "code",
   "execution_count": 3,
   "id": "eb37b40d-3182-4210-bb7d-d77734c7dd87",
   "metadata": {},
   "outputs": [
    {
     "name": "stdout",
     "output_type": "stream",
     "text": [
      "K562.hg38.ENCSR479XDG.ENCFF126GED.hic_intact.contact_domain.bedpe.gz \n",
      "K562.hg38.ENCSR479XDG.ENCFF256ZMD.hic_intact.loop.bedpe.gz \n",
      "K562.hg38.ENCSR479XDG.ENCFF621AIY.hic_intact.matrix.hic \n",
      "run_download.log.txt \n",
      "run_download.sh \n"
     ]
    }
   ],
   "source": [
    "txt_folder = TXT_FOLDER_REGION\n",
    "txt_fdiry  = file.path(FD_DAT, \"external\", txt_folder)\n",
    "\n",
    "vec = dir(txt_fdiry)\n",
    "for (txt in vec){cat(txt, \"\\n\")}"
   ]
  },
  {
   "cell_type": "code",
   "execution_count": 4,
   "id": "302be243-7e58-4321-9217-7892fb353b0b",
   "metadata": {},
   "outputs": [
    {
     "name": "stderr",
     "output_type": "stream",
     "text": [
      "\u001b[1m\u001b[22mNew names:\n",
      "\u001b[36m•\u001b[39m `score` -> `score...8`\n",
      "\u001b[36m•\u001b[39m `score` -> `score...12`\n",
      "Warning message:\n",
      "“\u001b[1m\u001b[22mOne or more parsing issues, call `problems()` on your data frame for details, e.g.:\n",
      "  dat <- vroom(...)\n",
      "  problems(dat)”\n"
     ]
    },
    {
     "name": "stdout",
     "output_type": "stream",
     "text": [
      "[1] 4348   16\n"
     ]
    },
    {
     "data": {
      "text/html": [
       "<table>\n",
       " <thead>\n",
       "  <tr>\n",
       "   <th style=\"text-align:left;\"> chr </th>\n",
       "   <th style=\"text-align:right;\"> x1 </th>\n",
       "   <th style=\"text-align:right;\"> x2 </th>\n",
       "   <th style=\"text-align:left;\"> chr2 </th>\n",
       "   <th style=\"text-align:right;\"> y1 </th>\n",
       "   <th style=\"text-align:right;\"> y2 </th>\n",
       "   <th style=\"text-align:left;\"> name </th>\n",
       "   <th style=\"text-align:left;\"> score...8 </th>\n",
       "   <th style=\"text-align:left;\"> strand1 </th>\n",
       "   <th style=\"text-align:left;\"> strand2 </th>\n",
       "   <th style=\"text-align:right;\"> color </th>\n",
       "   <th style=\"text-align:right;\"> score...12 </th>\n",
       "   <th style=\"text-align:right;\"> uVarScore </th>\n",
       "   <th style=\"text-align:right;\"> lVarScore </th>\n",
       "   <th style=\"text-align:right;\"> upSign </th>\n",
       "   <th style=\"text-align:right;\"> loSign </th>\n",
       "  </tr>\n",
       " </thead>\n",
       "<tbody>\n",
       "  <tr>\n",
       "   <td style=\"text-align:left;\"> chr10 </td>\n",
       "   <td style=\"text-align:right;\"> 89790000 </td>\n",
       "   <td style=\"text-align:right;\"> 90730000 </td>\n",
       "   <td style=\"text-align:left;\"> chr10 </td>\n",
       "   <td style=\"text-align:right;\"> 89790000 </td>\n",
       "   <td style=\"text-align:right;\"> 90730000 </td>\n",
       "   <td style=\"text-align:left;\"> . </td>\n",
       "   <td style=\"text-align:left;\"> . </td>\n",
       "   <td style=\"text-align:left;\"> . </td>\n",
       "   <td style=\"text-align:left;\"> . </td>\n",
       "   <td style=\"text-align:right;\"> 2552550 </td>\n",
       "   <td style=\"text-align:right;\"> 0.4873343 </td>\n",
       "   <td style=\"text-align:right;\"> 0.4321875 </td>\n",
       "   <td style=\"text-align:right;\"> 0.3910142 </td>\n",
       "   <td style=\"text-align:right;\"> 0.4366181 </td>\n",
       "   <td style=\"text-align:right;\"> 0.5132139 </td>\n",
       "  </tr>\n",
       "  <tr>\n",
       "   <td style=\"text-align:left;\"> chr10 </td>\n",
       "   <td style=\"text-align:right;\"> 117485000 </td>\n",
       "   <td style=\"text-align:right;\"> 118260000 </td>\n",
       "   <td style=\"text-align:left;\"> chr10 </td>\n",
       "   <td style=\"text-align:right;\"> 117485000 </td>\n",
       "   <td style=\"text-align:right;\"> 118260000 </td>\n",
       "   <td style=\"text-align:left;\"> . </td>\n",
       "   <td style=\"text-align:left;\"> . </td>\n",
       "   <td style=\"text-align:left;\"> . </td>\n",
       "   <td style=\"text-align:left;\"> . </td>\n",
       "   <td style=\"text-align:right;\"> 2552550 </td>\n",
       "   <td style=\"text-align:right;\"> 0.4714600 </td>\n",
       "   <td style=\"text-align:right;\"> 0.4038806 </td>\n",
       "   <td style=\"text-align:right;\"> 0.4028087 </td>\n",
       "   <td style=\"text-align:right;\"> 0.4469099 </td>\n",
       "   <td style=\"text-align:right;\"> 0.4451019 </td>\n",
       "  </tr>\n",
       "  <tr>\n",
       "   <td style=\"text-align:left;\"> chr10 </td>\n",
       "   <td style=\"text-align:right;\"> 51125000 </td>\n",
       "   <td style=\"text-align:right;\"> 52215000 </td>\n",
       "   <td style=\"text-align:left;\"> chr10 </td>\n",
       "   <td style=\"text-align:right;\"> 51125000 </td>\n",
       "   <td style=\"text-align:right;\"> 52215000 </td>\n",
       "   <td style=\"text-align:left;\"> . </td>\n",
       "   <td style=\"text-align:left;\"> . </td>\n",
       "   <td style=\"text-align:left;\"> . </td>\n",
       "   <td style=\"text-align:left;\"> . </td>\n",
       "   <td style=\"text-align:right;\"> 2552550 </td>\n",
       "   <td style=\"text-align:right;\"> 0.5757076 </td>\n",
       "   <td style=\"text-align:right;\"> 0.3855988 </td>\n",
       "   <td style=\"text-align:right;\"> 0.3954850 </td>\n",
       "   <td style=\"text-align:right;\"> 0.4712260 </td>\n",
       "   <td style=\"text-align:right;\"> 0.4000834 </td>\n",
       "  </tr>\n",
       "  <tr>\n",
       "   <td style=\"text-align:left;\"> chr10 </td>\n",
       "   <td style=\"text-align:right;\"> 112495000 </td>\n",
       "   <td style=\"text-align:right;\"> 113565000 </td>\n",
       "   <td style=\"text-align:left;\"> chr10 </td>\n",
       "   <td style=\"text-align:right;\"> 112495000 </td>\n",
       "   <td style=\"text-align:right;\"> 113565000 </td>\n",
       "   <td style=\"text-align:left;\"> . </td>\n",
       "   <td style=\"text-align:left;\"> . </td>\n",
       "   <td style=\"text-align:left;\"> . </td>\n",
       "   <td style=\"text-align:left;\"> . </td>\n",
       "   <td style=\"text-align:right;\"> 2552550 </td>\n",
       "   <td style=\"text-align:right;\"> 0.6096007 </td>\n",
       "   <td style=\"text-align:right;\"> 0.3796908 </td>\n",
       "   <td style=\"text-align:right;\"> 0.3952655 </td>\n",
       "   <td style=\"text-align:right;\"> 0.5317584 </td>\n",
       "   <td style=\"text-align:right;\"> 0.4613188 </td>\n",
       "  </tr>\n",
       "  <tr>\n",
       "   <td style=\"text-align:left;\"> chr10 </td>\n",
       "   <td style=\"text-align:right;\"> 84540000 </td>\n",
       "   <td style=\"text-align:right;\"> 86085000 </td>\n",
       "   <td style=\"text-align:left;\"> chr10 </td>\n",
       "   <td style=\"text-align:right;\"> 84540000 </td>\n",
       "   <td style=\"text-align:right;\"> 86085000 </td>\n",
       "   <td style=\"text-align:left;\"> . </td>\n",
       "   <td style=\"text-align:left;\"> . </td>\n",
       "   <td style=\"text-align:left;\"> . </td>\n",
       "   <td style=\"text-align:left;\"> . </td>\n",
       "   <td style=\"text-align:right;\"> 2552550 </td>\n",
       "   <td style=\"text-align:right;\"> 0.5786491 </td>\n",
       "   <td style=\"text-align:right;\"> 0.4119491 </td>\n",
       "   <td style=\"text-align:right;\"> 0.3597105 </td>\n",
       "   <td style=\"text-align:right;\"> 0.4424142 </td>\n",
       "   <td style=\"text-align:right;\"> 0.4804162 </td>\n",
       "  </tr>\n",
       "  <tr>\n",
       "   <td style=\"text-align:left;\"> chr10 </td>\n",
       "   <td style=\"text-align:right;\"> 94665000 </td>\n",
       "   <td style=\"text-align:right;\"> 95075000 </td>\n",
       "   <td style=\"text-align:left;\"> chr10 </td>\n",
       "   <td style=\"text-align:right;\"> 94665000 </td>\n",
       "   <td style=\"text-align:right;\"> 95075000 </td>\n",
       "   <td style=\"text-align:left;\"> . </td>\n",
       "   <td style=\"text-align:left;\"> . </td>\n",
       "   <td style=\"text-align:left;\"> . </td>\n",
       "   <td style=\"text-align:left;\"> . </td>\n",
       "   <td style=\"text-align:right;\"> 2552550 </td>\n",
       "   <td style=\"text-align:right;\"> 0.6267519 </td>\n",
       "   <td style=\"text-align:right;\"> 0.3811024 </td>\n",
       "   <td style=\"text-align:right;\"> 0.3788707 </td>\n",
       "   <td style=\"text-align:right;\"> 0.5000000 </td>\n",
       "   <td style=\"text-align:right;\"> 0.4018583 </td>\n",
       "  </tr>\n",
       "</tbody>\n",
       "</table>"
      ]
     },
     "metadata": {},
     "output_type": "display_data"
    }
   ],
   "source": [
    "### set file path\n",
    "txt_folder = TXT_FOLDER_REGION\n",
    "txt_fdiry  = file.path(FD_DAT, \"external\", txt_folder)\n",
    "txt_fname = \"K562.hg38.ENCSR479XDG.ENCFF126GED.hic_intact.contact_domain.bedpe.gz\"\n",
    "txt_fpath = file.path(txt_fdiry, txt_fname)\n",
    "\n",
    "### read table\n",
    "dat = read_tsv(txt_fpath, show_col_types = FALSE)\n",
    "\n",
    "### arrange columns\n",
    "dat = dat %>% dplyr::filter(!row_number() == 1)\n",
    "colnames(dat)[1] = \"chr\"\n",
    "\n",
    "### assign and show\n",
    "dat_region_import = dat\n",
    "print(dim(dat))\n",
    "fun_display_table(head(dat))"
   ]
  },
  {
   "cell_type": "code",
   "execution_count": 5,
   "id": "c4593907-fbca-4ba1-a85a-a2201920130f",
   "metadata": {},
   "outputs": [
    {
     "data": {
      "text/html": [
       "<style>\n",
       ".list-inline {list-style: none; margin:0; padding: 0}\n",
       ".list-inline>li {display: inline-block}\n",
       ".list-inline>li:not(:last-child)::after {content: \"\\00b7\"; padding: 0 .5ex}\n",
       "</style>\n",
       "<ol class=list-inline><li>'chr'</li><li>'x1'</li><li>'x2'</li><li>'chr2'</li><li>'y1'</li><li>'y2'</li><li>'name'</li><li>'score...8'</li><li>'strand1'</li><li>'strand2'</li><li>'color'</li><li>'score...12'</li><li>'uVarScore'</li><li>'lVarScore'</li><li>'upSign'</li><li>'loSign'</li></ol>\n"
      ],
      "text/latex": [
       "\\begin{enumerate*}\n",
       "\\item 'chr'\n",
       "\\item 'x1'\n",
       "\\item 'x2'\n",
       "\\item 'chr2'\n",
       "\\item 'y1'\n",
       "\\item 'y2'\n",
       "\\item 'name'\n",
       "\\item 'score...8'\n",
       "\\item 'strand1'\n",
       "\\item 'strand2'\n",
       "\\item 'color'\n",
       "\\item 'score...12'\n",
       "\\item 'uVarScore'\n",
       "\\item 'lVarScore'\n",
       "\\item 'upSign'\n",
       "\\item 'loSign'\n",
       "\\end{enumerate*}\n"
      ],
      "text/markdown": [
       "1. 'chr'\n",
       "2. 'x1'\n",
       "3. 'x2'\n",
       "4. 'chr2'\n",
       "5. 'y1'\n",
       "6. 'y2'\n",
       "7. 'name'\n",
       "8. 'score...8'\n",
       "9. 'strand1'\n",
       "10. 'strand2'\n",
       "11. 'color'\n",
       "12. 'score...12'\n",
       "13. 'uVarScore'\n",
       "14. 'lVarScore'\n",
       "15. 'upSign'\n",
       "16. 'loSign'\n",
       "\n",
       "\n"
      ],
      "text/plain": [
       " [1] \"chr\"        \"x1\"         \"x2\"         \"chr2\"       \"y1\"        \n",
       " [6] \"y2\"         \"name\"       \"score...8\"  \"strand1\"    \"strand2\"   \n",
       "[11] \"color\"      \"score...12\" \"uVarScore\"  \"lVarScore\"  \"upSign\"    \n",
       "[16] \"loSign\"    "
      ]
     },
     "metadata": {},
     "output_type": "display_data"
    }
   ],
   "source": [
    "colnames(dat)"
   ]
  },
  {
   "cell_type": "markdown",
   "id": "edd4acdf-2279-407c-9a28-73b706a4be23",
   "metadata": {},
   "source": [
    "## Arrange loops"
   ]
  },
  {
   "cell_type": "code",
   "execution_count": 6,
   "id": "b3040eff-e9e9-4c59-ab0d-8e067afac791",
   "metadata": {},
   "outputs": [
    {
     "name": "stdout",
     "output_type": "stream",
     "text": [
      "[1] 4348   12\n"
     ]
    },
    {
     "data": {
      "text/html": [
       "<table>\n",
       " <thead>\n",
       "  <tr>\n",
       "   <th style=\"text-align:left;\"> Chrom_A </th>\n",
       "   <th style=\"text-align:right;\"> ChromStart_A </th>\n",
       "   <th style=\"text-align:right;\"> ChromEnd_A </th>\n",
       "   <th style=\"text-align:left;\"> Region_A </th>\n",
       "   <th style=\"text-align:right;\"> Length_A </th>\n",
       "   <th style=\"text-align:left;\"> Chrom_B </th>\n",
       "   <th style=\"text-align:right;\"> ChromStart_B </th>\n",
       "   <th style=\"text-align:right;\"> ChromEnd_B </th>\n",
       "   <th style=\"text-align:left;\"> Region_B </th>\n",
       "   <th style=\"text-align:right;\"> Length_B </th>\n",
       "   <th style=\"text-align:left;\"> Name </th>\n",
       "   <th style=\"text-align:right;\"> Size </th>\n",
       "  </tr>\n",
       " </thead>\n",
       "<tbody>\n",
       "  <tr>\n",
       "   <td style=\"text-align:left;\"> chr10 </td>\n",
       "   <td style=\"text-align:right;\"> 89790000 </td>\n",
       "   <td style=\"text-align:right;\"> 90730000 </td>\n",
       "   <td style=\"text-align:left;\"> chr10:89790000-90730000 </td>\n",
       "   <td style=\"text-align:right;\"> 940000 </td>\n",
       "   <td style=\"text-align:left;\"> chr10 </td>\n",
       "   <td style=\"text-align:right;\"> 89790000 </td>\n",
       "   <td style=\"text-align:right;\"> 90730000 </td>\n",
       "   <td style=\"text-align:left;\"> chr10:89790000-90730000 </td>\n",
       "   <td style=\"text-align:right;\"> 940000 </td>\n",
       "   <td style=\"text-align:left;\"> chr10:89790000-90730000|chr10:89790000-90730000 </td>\n",
       "   <td style=\"text-align:right;\"> 940000 </td>\n",
       "  </tr>\n",
       "  <tr>\n",
       "   <td style=\"text-align:left;\"> chr10 </td>\n",
       "   <td style=\"text-align:right;\"> 117485000 </td>\n",
       "   <td style=\"text-align:right;\"> 118260000 </td>\n",
       "   <td style=\"text-align:left;\"> chr10:117485000-118260000 </td>\n",
       "   <td style=\"text-align:right;\"> 775000 </td>\n",
       "   <td style=\"text-align:left;\"> chr10 </td>\n",
       "   <td style=\"text-align:right;\"> 117485000 </td>\n",
       "   <td style=\"text-align:right;\"> 118260000 </td>\n",
       "   <td style=\"text-align:left;\"> chr10:117485000-118260000 </td>\n",
       "   <td style=\"text-align:right;\"> 775000 </td>\n",
       "   <td style=\"text-align:left;\"> chr10:117485000-118260000|chr10:117485000-118260000 </td>\n",
       "   <td style=\"text-align:right;\"> 775000 </td>\n",
       "  </tr>\n",
       "  <tr>\n",
       "   <td style=\"text-align:left;\"> chr10 </td>\n",
       "   <td style=\"text-align:right;\"> 51125000 </td>\n",
       "   <td style=\"text-align:right;\"> 52215000 </td>\n",
       "   <td style=\"text-align:left;\"> chr10:51125000-52215000 </td>\n",
       "   <td style=\"text-align:right;\"> 1090000 </td>\n",
       "   <td style=\"text-align:left;\"> chr10 </td>\n",
       "   <td style=\"text-align:right;\"> 51125000 </td>\n",
       "   <td style=\"text-align:right;\"> 52215000 </td>\n",
       "   <td style=\"text-align:left;\"> chr10:51125000-52215000 </td>\n",
       "   <td style=\"text-align:right;\"> 1090000 </td>\n",
       "   <td style=\"text-align:left;\"> chr10:51125000-52215000|chr10:51125000-52215000 </td>\n",
       "   <td style=\"text-align:right;\"> 1090000 </td>\n",
       "  </tr>\n",
       "  <tr>\n",
       "   <td style=\"text-align:left;\"> chr10 </td>\n",
       "   <td style=\"text-align:right;\"> 112495000 </td>\n",
       "   <td style=\"text-align:right;\"> 113565000 </td>\n",
       "   <td style=\"text-align:left;\"> chr10:112495000-113565000 </td>\n",
       "   <td style=\"text-align:right;\"> 1070000 </td>\n",
       "   <td style=\"text-align:left;\"> chr10 </td>\n",
       "   <td style=\"text-align:right;\"> 112495000 </td>\n",
       "   <td style=\"text-align:right;\"> 113565000 </td>\n",
       "   <td style=\"text-align:left;\"> chr10:112495000-113565000 </td>\n",
       "   <td style=\"text-align:right;\"> 1070000 </td>\n",
       "   <td style=\"text-align:left;\"> chr10:112495000-113565000|chr10:112495000-113565000 </td>\n",
       "   <td style=\"text-align:right;\"> 1070000 </td>\n",
       "  </tr>\n",
       "  <tr>\n",
       "   <td style=\"text-align:left;\"> chr10 </td>\n",
       "   <td style=\"text-align:right;\"> 84540000 </td>\n",
       "   <td style=\"text-align:right;\"> 86085000 </td>\n",
       "   <td style=\"text-align:left;\"> chr10:84540000-86085000 </td>\n",
       "   <td style=\"text-align:right;\"> 1545000 </td>\n",
       "   <td style=\"text-align:left;\"> chr10 </td>\n",
       "   <td style=\"text-align:right;\"> 84540000 </td>\n",
       "   <td style=\"text-align:right;\"> 86085000 </td>\n",
       "   <td style=\"text-align:left;\"> chr10:84540000-86085000 </td>\n",
       "   <td style=\"text-align:right;\"> 1545000 </td>\n",
       "   <td style=\"text-align:left;\"> chr10:84540000-86085000|chr10:84540000-86085000 </td>\n",
       "   <td style=\"text-align:right;\"> 1545000 </td>\n",
       "  </tr>\n",
       "  <tr>\n",
       "   <td style=\"text-align:left;\"> chr10 </td>\n",
       "   <td style=\"text-align:right;\"> 94665000 </td>\n",
       "   <td style=\"text-align:right;\"> 95075000 </td>\n",
       "   <td style=\"text-align:left;\"> chr10:94665000-95075000 </td>\n",
       "   <td style=\"text-align:right;\"> 410000 </td>\n",
       "   <td style=\"text-align:left;\"> chr10 </td>\n",
       "   <td style=\"text-align:right;\"> 94665000 </td>\n",
       "   <td style=\"text-align:right;\"> 95075000 </td>\n",
       "   <td style=\"text-align:left;\"> chr10:94665000-95075000 </td>\n",
       "   <td style=\"text-align:right;\"> 410000 </td>\n",
       "   <td style=\"text-align:left;\"> chr10:94665000-95075000|chr10:94665000-95075000 </td>\n",
       "   <td style=\"text-align:right;\"> 410000 </td>\n",
       "  </tr>\n",
       "</tbody>\n",
       "</table>"
      ]
     },
     "metadata": {},
     "output_type": "display_data"
    }
   ],
   "source": [
    "### init\n",
    "dat = dat_region_import\n",
    "vec_txt_cname1 = c(\n",
    "    \"chr\",  \"x1\", \"x2\", \n",
    "    \"chr2\", \"y1\", \"y2\")\n",
    "vec_txt_cname2 = c(\n",
    "    \"Chrom_A\", \"ChromStart_A\", \"ChromEnd_A\",\n",
    "    \"Chrom_B\", \"ChromStart_B\", \"ChromEnd_B\"\n",
    ")\n",
    "vec_txt_cname3 = c(\n",
    "    \"Chrom_A\", \"ChromStart_A\", \"ChromEnd_A\", \"Region_A\", \"Length_A\",\n",
    "    \"Chrom_B\", \"ChromStart_B\", \"ChromEnd_B\", \"Region_B\", \"Length_B\",\n",
    "    \"Name\", \"Size\"\n",
    ")\n",
    "\n",
    "### get columns\n",
    "dat = dat %>% dplyr::select(!!!vec_txt_cname1)\n",
    "colnames(dat) = vec_txt_cname2\n",
    "\n",
    "### arrange columns\n",
    "dat = dat %>% \n",
    "    dplyr::mutate(\n",
    "        Length_A = ChromEnd_A - ChromStart_A,\n",
    "        Length_B = ChromEnd_B - ChromStart_B,\n",
    "        Size     = (Length_A + Length_B) / 2,\n",
    "        Region_A   = paste0(Chrom_A, \":\", ChromStart_A, \"-\", ChromEnd_A),\n",
    "        Region_B   = paste0(Chrom_B, \":\", ChromStart_B, \"-\", ChromEnd_B),\n",
    "        Name       = paste0(Region_A, \"|\", Region_B)\n",
    "    ) %>%\n",
    "    dplyr::select(!!!vec_txt_cname3)\n",
    "\n",
    "### assign and show\n",
    "dat_region_arrange = dat\n",
    "print(dim(dat))\n",
    "fun_display_table(head(dat))"
   ]
  },
  {
   "cell_type": "markdown",
   "id": "85bae598-5e76-46c8-b5e2-152e20b284b1",
   "metadata": {},
   "source": [
    "**Check**"
   ]
  },
  {
   "cell_type": "code",
   "execution_count": 7,
   "id": "6184fad0-59ec-4975-9081-6102fdc2b629",
   "metadata": {},
   "outputs": [
    {
     "name": "stdout",
     "output_type": "stream",
     "text": [
      "[1] TRUE\n",
      "[1] TRUE\n"
     ]
    }
   ],
   "source": [
    "dat  = dat_region_arrange\n",
    "\n",
    "vec1 = dat$Region_A\n",
    "vec2 = dat$Region_B\n",
    "print(all(vec1 == vec2))\n",
    "\n",
    "vec1 = dat$Length_A\n",
    "vec2 = dat$Length_B\n",
    "print(all(vec1 == vec2))"
   ]
  },
  {
   "cell_type": "markdown",
   "id": "dfb5279e-f891-42af-bcea-b8fb16d9c729",
   "metadata": {},
   "source": [
    "## Prepare region"
   ]
  },
  {
   "cell_type": "code",
   "execution_count": 9,
   "id": "d1e9f393-d19a-442c-b48a-ac82917e2594",
   "metadata": {},
   "outputs": [
    {
     "name": "stdout",
     "output_type": "stream",
     "text": [
      "[1] 4348    6\n"
     ]
    },
    {
     "data": {
      "text/html": [
       "<table>\n",
       " <thead>\n",
       "  <tr>\n",
       "   <th style=\"text-align:left;\"> Chrom </th>\n",
       "   <th style=\"text-align:right;\"> ChromStart </th>\n",
       "   <th style=\"text-align:right;\"> ChromEnd </th>\n",
       "   <th style=\"text-align:left;\"> Region </th>\n",
       "   <th style=\"text-align:left;\"> Group </th>\n",
       "   <th style=\"text-align:left;\"> Label </th>\n",
       "  </tr>\n",
       " </thead>\n",
       "<tbody>\n",
       "  <tr>\n",
       "   <td style=\"text-align:left;\"> chr10 </td>\n",
       "   <td style=\"text-align:right;\"> 89790000 </td>\n",
       "   <td style=\"text-align:right;\"> 90730000 </td>\n",
       "   <td style=\"text-align:left;\"> chr10:89790000-90730000 </td>\n",
       "   <td style=\"text-align:left;\"> hic_intact </td>\n",
       "   <td style=\"text-align:left;\"> TAD </td>\n",
       "  </tr>\n",
       "  <tr>\n",
       "   <td style=\"text-align:left;\"> chr10 </td>\n",
       "   <td style=\"text-align:right;\"> 117485000 </td>\n",
       "   <td style=\"text-align:right;\"> 118260000 </td>\n",
       "   <td style=\"text-align:left;\"> chr10:117485000-118260000 </td>\n",
       "   <td style=\"text-align:left;\"> hic_intact </td>\n",
       "   <td style=\"text-align:left;\"> TAD </td>\n",
       "  </tr>\n",
       "  <tr>\n",
       "   <td style=\"text-align:left;\"> chr10 </td>\n",
       "   <td style=\"text-align:right;\"> 51125000 </td>\n",
       "   <td style=\"text-align:right;\"> 52215000 </td>\n",
       "   <td style=\"text-align:left;\"> chr10:51125000-52215000 </td>\n",
       "   <td style=\"text-align:left;\"> hic_intact </td>\n",
       "   <td style=\"text-align:left;\"> TAD </td>\n",
       "  </tr>\n",
       "  <tr>\n",
       "   <td style=\"text-align:left;\"> chr10 </td>\n",
       "   <td style=\"text-align:right;\"> 112495000 </td>\n",
       "   <td style=\"text-align:right;\"> 113565000 </td>\n",
       "   <td style=\"text-align:left;\"> chr10:112495000-113565000 </td>\n",
       "   <td style=\"text-align:left;\"> hic_intact </td>\n",
       "   <td style=\"text-align:left;\"> TAD </td>\n",
       "  </tr>\n",
       "  <tr>\n",
       "   <td style=\"text-align:left;\"> chr10 </td>\n",
       "   <td style=\"text-align:right;\"> 84540000 </td>\n",
       "   <td style=\"text-align:right;\"> 86085000 </td>\n",
       "   <td style=\"text-align:left;\"> chr10:84540000-86085000 </td>\n",
       "   <td style=\"text-align:left;\"> hic_intact </td>\n",
       "   <td style=\"text-align:left;\"> TAD </td>\n",
       "  </tr>\n",
       "  <tr>\n",
       "   <td style=\"text-align:left;\"> chr10 </td>\n",
       "   <td style=\"text-align:right;\"> 94665000 </td>\n",
       "   <td style=\"text-align:right;\"> 95075000 </td>\n",
       "   <td style=\"text-align:left;\"> chr10:94665000-95075000 </td>\n",
       "   <td style=\"text-align:left;\"> hic_intact </td>\n",
       "   <td style=\"text-align:left;\"> TAD </td>\n",
       "  </tr>\n",
       "</tbody>\n",
       "</table>"
      ]
     },
     "metadata": {},
     "output_type": "display_data"
    }
   ],
   "source": [
    "### init\n",
    "vec_txt_cname_A = c(\"Chrom_A\", \"ChromStart_A\", \"ChromEnd_A\", \"Region_A\")\n",
    "vec_txt_cname   = c(\"Chrom\",   \"ChromStart\",   \"ChromEnd\",   \"Region\", \"Group\", \"Label\")\n",
    "txt_assay = TXT_ASSAY\n",
    "\n",
    "### prepare region\n",
    "dat = dat_region_arrange\n",
    "dat = dat %>% \n",
    "    dplyr::select(!!!vec_txt_cname_A) %>% \n",
    "    dplyr::mutate(\n",
    "        Group = txt_assay,\n",
    "        Label = \"TAD\"\n",
    "    ) %>%\n",
    "    dplyr::distinct()\n",
    "colnames(dat) = vec_txt_cname\n",
    "\n",
    "### assign and show\n",
    "dat_region_simplify = dat\n",
    "print(dim(dat))\n",
    "fun_display_table(head(dat))"
   ]
  },
  {
   "cell_type": "markdown",
   "id": "23cadd3a-b4af-406c-ad14-9376644c427c",
   "metadata": {},
   "source": [
    "## Save results"
   ]
  },
  {
   "cell_type": "code",
   "execution_count": 10,
   "id": "4b36f2a4-30f1-4e36-99f6-67736fcb1c42",
   "metadata": {},
   "outputs": [],
   "source": [
    "### set file path\n",
    "txt_folder = TXT_FOLDER_REGION\n",
    "txt_fdiry  = file.path(FD_RES, \"region\", txt_folder)\n",
    "txt_fname = \"K562.hg38.hic_intact.TAD.bedpe.gz\"\n",
    "txt_fpath = file.path(txt_fdiry, txt_fname)\n",
    "\n",
    "### get table\n",
    "dat = dat_region_simplify\n",
    "dat = dat %>% dplyr::arrange(Chrom, ChromStart, ChromEnd)\n",
    "\n",
    "### write tabel\n",
    "dir.create(txt_fdiry, showWarnings = FALSE)\n",
    "write_tsv(dat, txt_fpath, col_names = FALSE)"
   ]
  },
  {
   "cell_type": "code",
   "execution_count": 11,
   "id": "0e13af58-a0ff-4418-a6dd-425e24fee6c5",
   "metadata": {},
   "outputs": [],
   "source": [
    "### set file path\n",
    "txt_folder = TXT_FOLDER_REGION\n",
    "txt_fdiry  = file.path(FD_RES, \"region\", txt_folder, \"summary\")\n",
    "txt_fname = \"K562.hg38.hic_intact.TAD.tsv\"\n",
    "txt_fpath = file.path(txt_fdiry, txt_fname)\n",
    "\n",
    "### get table\n",
    "dat = dat_region_arrange\n",
    "dat = dat %>% dplyr::arrange(\n",
    "    Chrom_A, ChromStart_A, ChromEnd_A,\n",
    "    Chrom_B, ChromStart_B, ChromEnd_B\n",
    ")\n",
    "\n",
    "### write tabel\n",
    "dir.create(txt_fdiry, showWarnings = FALSE)\n",
    "write_tsv(dat, txt_fpath)"
   ]
  },
  {
   "cell_type": "code",
   "execution_count": null,
   "id": "7f0f8a96-7c52-4ec1-867a-ec1fecd6a6f5",
   "metadata": {},
   "outputs": [],
   "source": []
  }
 ],
 "metadata": {
  "kernelspec": {
   "display_name": "R",
   "language": "R",
   "name": "ir"
  },
  "language_info": {
   "codemirror_mode": "r",
   "file_extension": ".r",
   "mimetype": "text/x-r-source",
   "name": "R",
   "pygments_lexer": "r",
   "version": "4.4.0"
  }
 },
 "nbformat": 4,
 "nbformat_minor": 5
}
