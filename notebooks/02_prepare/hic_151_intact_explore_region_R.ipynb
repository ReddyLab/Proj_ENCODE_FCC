{
 "cells": [
  {
   "cell_type": "raw",
   "id": "a7f54252-b65e-40f0-b89a-22ac740dc6a3",
   "metadata": {},
   "source": [
    "---\n",
    "title: Prepare Hi-C data 051 (in situ Hi-C)\n",
    "subtitle: Explore data (Loop & TAD)\n",
    "format:\n",
    "    html:\n",
    "        code-fold:  true\n",
    "        code-tools: true\n",
    "---"
   ]
  },
  {
   "cell_type": "markdown",
   "id": "a9d573aa-70f0-4a46-ac5a-ef4418489cc6",
   "metadata": {},
   "source": [
    "**Set environment**"
   ]
  },
  {
   "cell_type": "code",
   "execution_count": 1,
   "id": "9971eb77-bf9c-42ff-bcb3-28afeea4a577",
   "metadata": {
    "tags": []
   },
   "outputs": [
    {
     "name": "stdout",
     "output_type": "stream",
     "text": [
      "You are working on        Singularity \n",
      "BASE DIRECTORY (FD_BASE): /mount \n",
      "REPO DIRECTORY (FD_REPO): /mount/repo \n",
      "WORK DIRECTORY (FD_WORK): /mount/work \n",
      "DATA DIRECTORY (FD_DATA): /mount/data \n",
      "\n",
      "You are working with      ENCODE FCC \n",
      "PATH OF PROJECT (FD_PRJ): /mount/repo/Proj_ENCODE_FCC \n",
      "PROJECT RESULTS (FD_RES): /mount/repo/Proj_ENCODE_FCC/results \n",
      "PROJECT SCRIPTS (FD_EXE): /mount/repo/Proj_ENCODE_FCC/scripts \n",
      "PROJECT DATA    (FD_DAT): /mount/repo/Proj_ENCODE_FCC/data \n",
      "PROJECT NOTE    (FD_NBK): /mount/repo/Proj_ENCODE_FCC/notebooks \n",
      "PROJECT DOCS    (FD_DOC): /mount/repo/Proj_ENCODE_FCC/docs \n",
      "PROJECT LOG     (FD_LOG): /mount/repo/Proj_ENCODE_FCC/log \n",
      "PROJECT APP     (FD_APP): /mount/repo/Proj_ENCODE_FCC/app \n",
      "PROJECT REF     (FD_REF): /mount/repo/Proj_ENCODE_FCC/references \n",
      "\n"
     ]
    }
   ],
   "source": [
    "suppressMessages(suppressWarnings(source(\"../run_config_project_sing.R\")))\n",
    "show_env()"
   ]
  },
  {
   "cell_type": "markdown",
   "id": "7867d46e-62c0-4f3e-8a06-3111d6cd6c9f",
   "metadata": {},
   "source": [
    "**Set global variables**"
   ]
  },
  {
   "cell_type": "code",
   "execution_count": 2,
   "id": "e0859553-1fa1-4655-a6c0-bbd2e860d102",
   "metadata": {},
   "outputs": [],
   "source": [
    "TXT_FOLDER_REGION = \"hic_intact_K562_ENCSR479XDG\""
   ]
  },
  {
   "cell_type": "markdown",
   "id": "20c1450b-fa6c-4674-a408-f1f405207908",
   "metadata": {
    "tags": []
   },
   "source": [
    "## Import data"
   ]
  },
  {
   "cell_type": "code",
   "execution_count": 3,
   "id": "3d05865e-2c0c-4037-9e23-b55421249754",
   "metadata": {},
   "outputs": [
    {
     "name": "stdout",
     "output_type": "stream",
     "text": [
      "K562.hg38.hic_intact.Loop_A.bed.gz \n",
      "K562.hg38.hic_intact.Loop_B.bed.gz \n",
      "K562.hg38.hic_intact.TAD.bedpe.gz \n",
      "summary \n"
     ]
    }
   ],
   "source": [
    "txt_folder = TXT_FOLDER_REGION\n",
    "txt_fdiry  = file.path(FD_RES, \"region\", txt_folder)\n",
    "\n",
    "vec = dir(txt_fdiry)\n",
    "for (txt in vec){cat(txt, \"\\n\")}"
   ]
  },
  {
   "cell_type": "code",
   "execution_count": 4,
   "id": "83632ee6-715a-425c-ac27-fa001ee498e8",
   "metadata": {},
   "outputs": [
    {
     "name": "stdout",
     "output_type": "stream",
     "text": [
      "description.tsv \n",
      "K562.hg38.hic_intact.Loop.tsv \n",
      "K562.hg38.hic_intact.TAD.tsv \n",
      "metadata.label.tsv \n"
     ]
    }
   ],
   "source": [
    "txt_folder = TXT_FOLDER_REGION\n",
    "txt_fdiry  = file.path(FD_RES, \"region\", txt_folder, \"summary\")\n",
    "\n",
    "vec = dir(txt_fdiry)\n",
    "for (txt in vec){cat(txt, \"\\n\")}"
   ]
  },
  {
   "cell_type": "code",
   "execution_count": 5,
   "id": "57d1c3ea-481a-4707-860a-48c2e9a6fafb",
   "metadata": {},
   "outputs": [
    {
     "data": {
      "text/html": [
       "<table>\n",
       " <thead>\n",
       "  <tr>\n",
       "   <th style=\"text-align:left;\"> Name </th>\n",
       "   <th style=\"text-align:left;\"> Note </th>\n",
       "  </tr>\n",
       " </thead>\n",
       "<tbody>\n",
       "  <tr>\n",
       "   <td style=\"text-align:left;\"> Chrom </td>\n",
       "   <td style=\"text-align:left;\"> Name of the chromosome </td>\n",
       "  </tr>\n",
       "  <tr>\n",
       "   <td style=\"text-align:left;\"> ChromStart </td>\n",
       "   <td style=\"text-align:left;\"> The starting position of the feature in the chromosome </td>\n",
       "  </tr>\n",
       "  <tr>\n",
       "   <td style=\"text-align:left;\"> ChromEnd </td>\n",
       "   <td style=\"text-align:left;\"> The ending position of the feature in the chromosome </td>\n",
       "  </tr>\n",
       "  <tr>\n",
       "   <td style=\"text-align:left;\"> Name </td>\n",
       "   <td style=\"text-align:left;\"> Name given to a region; Use '.' if no name is assigned. </td>\n",
       "  </tr>\n",
       "  <tr>\n",
       "   <td style=\"text-align:left;\"> Group </td>\n",
       "   <td style=\"text-align:left;\"> Assay Name </td>\n",
       "  </tr>\n",
       "  <tr>\n",
       "   <td style=\"text-align:left;\"> Label </td>\n",
       "   <td style=\"text-align:left;\"> Region Label </td>\n",
       "  </tr>\n",
       "</tbody>\n",
       "</table>"
      ]
     },
     "metadata": {},
     "output_type": "display_data"
    }
   ],
   "source": [
    "### set file path\n",
    "txt_folder = TXT_FOLDER_REGION\n",
    "txt_fdiry  = file.path(FD_RES, \"region\", txt_folder, \"summary\")\n",
    "txt_fname = \"description.tsv\"\n",
    "txt_fpath = file.path(txt_fdiry, txt_fname)\n",
    "\n",
    "### read table\n",
    "dat = read_tsv(txt_fpath, show_col_types = FALSE)\n",
    "\n",
    "### assign and show\n",
    "dat_cname     = dat\n",
    "vec_txt_cname = dat$Name\n",
    "fun_display_table(head(dat))"
   ]
  },
  {
   "cell_type": "code",
   "execution_count": 7,
   "id": "fb61925c-8168-440f-979d-94097d484f26",
   "metadata": {},
   "outputs": [
    {
     "data": {
      "text/html": [
       "<table>\n",
       " <thead>\n",
       "  <tr>\n",
       "   <th style=\"text-align:left;\"> Chrom_A </th>\n",
       "   <th style=\"text-align:right;\"> ChromStart_A </th>\n",
       "   <th style=\"text-align:right;\"> ChromEnd_A </th>\n",
       "   <th style=\"text-align:left;\"> Region_A </th>\n",
       "   <th style=\"text-align:right;\"> Length_A </th>\n",
       "   <th style=\"text-align:left;\"> Chrom_B </th>\n",
       "   <th style=\"text-align:right;\"> ChromStart_B </th>\n",
       "   <th style=\"text-align:right;\"> ChromEnd_B </th>\n",
       "   <th style=\"text-align:left;\"> Region_B </th>\n",
       "   <th style=\"text-align:right;\"> Length_B </th>\n",
       "   <th style=\"text-align:left;\"> Name </th>\n",
       "   <th style=\"text-align:right;\"> Observed </th>\n",
       "   <th style=\"text-align:right;\"> Centroid_A </th>\n",
       "   <th style=\"text-align:right;\"> Centroid_B </th>\n",
       "   <th style=\"text-align:right;\"> Radius </th>\n",
       "   <th style=\"text-align:right;\"> Distance </th>\n",
       "   <th style=\"text-align:right;\"> Size </th>\n",
       "  </tr>\n",
       " </thead>\n",
       "<tbody>\n",
       "  <tr>\n",
       "   <td style=\"text-align:left;\"> chr1 </td>\n",
       "   <td style=\"text-align:right;\"> 770000 </td>\n",
       "   <td style=\"text-align:right;\"> 780000 </td>\n",
       "   <td style=\"text-align:left;\"> chr1:770000-780000 </td>\n",
       "   <td style=\"text-align:right;\"> 10000 </td>\n",
       "   <td style=\"text-align:left;\"> chr1 </td>\n",
       "   <td style=\"text-align:right;\"> 840000 </td>\n",
       "   <td style=\"text-align:right;\"> 850000 </td>\n",
       "   <td style=\"text-align:left;\"> chr1:840000-850000 </td>\n",
       "   <td style=\"text-align:right;\"> 10000 </td>\n",
       "   <td style=\"text-align:left;\"> chr1:770000-780000|chr1:840000-850000 </td>\n",
       "   <td style=\"text-align:right;\"> 19 </td>\n",
       "   <td style=\"text-align:right;\"> 775000 </td>\n",
       "   <td style=\"text-align:right;\"> 845000 </td>\n",
       "   <td style=\"text-align:right;\"> 0 </td>\n",
       "   <td style=\"text-align:right;\"> 70000 </td>\n",
       "   <td style=\"text-align:right;\"> 10000 </td>\n",
       "  </tr>\n",
       "  <tr>\n",
       "   <td style=\"text-align:left;\"> chr1 </td>\n",
       "   <td style=\"text-align:right;\"> 904000 </td>\n",
       "   <td style=\"text-align:right;\"> 906000 </td>\n",
       "   <td style=\"text-align:left;\"> chr1:904000-906000 </td>\n",
       "   <td style=\"text-align:right;\"> 2000 </td>\n",
       "   <td style=\"text-align:left;\"> chr1 </td>\n",
       "   <td style=\"text-align:right;\"> 976000 </td>\n",
       "   <td style=\"text-align:right;\"> 978000 </td>\n",
       "   <td style=\"text-align:left;\"> chr1:976000-978000 </td>\n",
       "   <td style=\"text-align:right;\"> 2000 </td>\n",
       "   <td style=\"text-align:left;\"> chr1:904000-906000|chr1:976000-978000 </td>\n",
       "   <td style=\"text-align:right;\"> 8 </td>\n",
       "   <td style=\"text-align:right;\"> 905000 </td>\n",
       "   <td style=\"text-align:right;\"> 977000 </td>\n",
       "   <td style=\"text-align:right;\"> 0 </td>\n",
       "   <td style=\"text-align:right;\"> 72000 </td>\n",
       "   <td style=\"text-align:right;\"> 2000 </td>\n",
       "  </tr>\n",
       "  <tr>\n",
       "   <td style=\"text-align:left;\"> chr1 </td>\n",
       "   <td style=\"text-align:right;\"> 920000 </td>\n",
       "   <td style=\"text-align:right;\"> 925000 </td>\n",
       "   <td style=\"text-align:left;\"> chr1:920000-925000 </td>\n",
       "   <td style=\"text-align:right;\"> 5000 </td>\n",
       "   <td style=\"text-align:left;\"> chr1 </td>\n",
       "   <td style=\"text-align:right;\"> 1060000 </td>\n",
       "   <td style=\"text-align:right;\"> 1065000 </td>\n",
       "   <td style=\"text-align:left;\"> chr1:1060000-1065000 </td>\n",
       "   <td style=\"text-align:right;\"> 5000 </td>\n",
       "   <td style=\"text-align:left;\"> chr1:920000-925000|chr1:1060000-1065000 </td>\n",
       "   <td style=\"text-align:right;\"> 17 </td>\n",
       "   <td style=\"text-align:right;\"> 917500 </td>\n",
       "   <td style=\"text-align:right;\"> 1062500 </td>\n",
       "   <td style=\"text-align:right;\"> 5000 </td>\n",
       "   <td style=\"text-align:right;\"> 145000 </td>\n",
       "   <td style=\"text-align:right;\"> 5000 </td>\n",
       "  </tr>\n",
       "  <tr>\n",
       "   <td style=\"text-align:left;\"> chr1 </td>\n",
       "   <td style=\"text-align:right;\"> 980000 </td>\n",
       "   <td style=\"text-align:right;\"> 990000 </td>\n",
       "   <td style=\"text-align:left;\"> chr1:980000-990000 </td>\n",
       "   <td style=\"text-align:right;\"> 10000 </td>\n",
       "   <td style=\"text-align:left;\"> chr1 </td>\n",
       "   <td style=\"text-align:right;\"> 1290000 </td>\n",
       "   <td style=\"text-align:right;\"> 1300000 </td>\n",
       "   <td style=\"text-align:left;\"> chr1:1290000-1300000 </td>\n",
       "   <td style=\"text-align:right;\"> 10000 </td>\n",
       "   <td style=\"text-align:left;\"> chr1:980000-990000|chr1:1290000-1300000 </td>\n",
       "   <td style=\"text-align:right;\"> 34 </td>\n",
       "   <td style=\"text-align:right;\"> 988333 </td>\n",
       "   <td style=\"text-align:right;\"> 1291666 </td>\n",
       "   <td style=\"text-align:right;\"> 7454 </td>\n",
       "   <td style=\"text-align:right;\"> 303333 </td>\n",
       "   <td style=\"text-align:right;\"> 10000 </td>\n",
       "  </tr>\n",
       "  <tr>\n",
       "   <td style=\"text-align:left;\"> chr1 </td>\n",
       "   <td style=\"text-align:right;\"> 984000 </td>\n",
       "   <td style=\"text-align:right;\"> 985000 </td>\n",
       "   <td style=\"text-align:left;\"> chr1:984000-985000 </td>\n",
       "   <td style=\"text-align:right;\"> 1000 </td>\n",
       "   <td style=\"text-align:left;\"> chr1 </td>\n",
       "   <td style=\"text-align:right;\"> 1063000 </td>\n",
       "   <td style=\"text-align:right;\"> 1064000 </td>\n",
       "   <td style=\"text-align:left;\"> chr1:1063000-1064000 </td>\n",
       "   <td style=\"text-align:right;\"> 1000 </td>\n",
       "   <td style=\"text-align:left;\"> chr1:984000-985000|chr1:1063000-1064000 </td>\n",
       "   <td style=\"text-align:right;\"> 9 </td>\n",
       "   <td style=\"text-align:right;\"> 984500 </td>\n",
       "   <td style=\"text-align:right;\"> 1063500 </td>\n",
       "   <td style=\"text-align:right;\"> 0 </td>\n",
       "   <td style=\"text-align:right;\"> 79000 </td>\n",
       "   <td style=\"text-align:right;\"> 1000 </td>\n",
       "  </tr>\n",
       "  <tr>\n",
       "   <td style=\"text-align:left;\"> chr1 </td>\n",
       "   <td style=\"text-align:right;\"> 1000000 </td>\n",
       "   <td style=\"text-align:right;\"> 1005000 </td>\n",
       "   <td style=\"text-align:left;\"> chr1:1e+06-1005000 </td>\n",
       "   <td style=\"text-align:right;\"> 5000 </td>\n",
       "   <td style=\"text-align:left;\"> chr1 </td>\n",
       "   <td style=\"text-align:right;\"> 1060000 </td>\n",
       "   <td style=\"text-align:right;\"> 1065000 </td>\n",
       "   <td style=\"text-align:left;\"> chr1:1060000-1065000 </td>\n",
       "   <td style=\"text-align:right;\"> 5000 </td>\n",
       "   <td style=\"text-align:left;\"> chr1:1e+06-1005000|chr1:1060000-1065000 </td>\n",
       "   <td style=\"text-align:right;\"> 44 </td>\n",
       "   <td style=\"text-align:right;\"> 1002500 </td>\n",
       "   <td style=\"text-align:right;\"> 1060000 </td>\n",
       "   <td style=\"text-align:right;\"> 2500 </td>\n",
       "   <td style=\"text-align:right;\"> 57500 </td>\n",
       "   <td style=\"text-align:right;\"> 5000 </td>\n",
       "  </tr>\n",
       "</tbody>\n",
       "</table>"
      ]
     },
     "metadata": {},
     "output_type": "display_data"
    }
   ],
   "source": [
    "### set file path\n",
    "txt_folder = TXT_FOLDER_REGION\n",
    "txt_fdiry  = file.path(FD_RES, \"region\", txt_folder, \"summary\")\n",
    "txt_fname = \"K562.hg38.hic_intact.Loop.tsv\"\n",
    "txt_fpath = file.path(txt_fdiry, txt_fname)\n",
    "\n",
    "### read table\n",
    "dat = read_tsv(txt_fpath, show_col_types = FALSE)\n",
    "\n",
    "### assign and show\n",
    "dat_region_loop = dat\n",
    "fun_display_table(head(dat))"
   ]
  },
  {
   "cell_type": "markdown",
   "id": "6ca86ccd-f384-42ed-96d0-13caa532f68e",
   "metadata": {},
   "source": [
    "## Explore"
   ]
  },
  {
   "cell_type": "code",
   "execution_count": 8,
   "id": "861aa902-55c9-475d-934d-e19d664d6988",
   "metadata": {},
   "outputs": [
    {
     "data": {
      "text/plain": [
       "   Min. 1st Qu.  Median    Mean 3rd Qu.    Max. \n",
       "   8000   65000  147500  276793  318000 9085714 "
      ]
     },
     "metadata": {},
     "output_type": "display_data"
    }
   ],
   "source": [
    "dat = dat_region_loop\n",
    "summary(dat$Distance)"
   ]
  },
  {
   "cell_type": "code",
   "execution_count": 9,
   "id": "5793355f-4bc2-4d9c-8698-f160f71d3229",
   "metadata": {},
   "outputs": [
    {
     "data": {
      "text/plain": [
       "\n",
       " 1000  2000  5000 10000 \n",
       "14686 10059 13906  7353 "
      ]
     },
     "metadata": {},
     "output_type": "display_data"
    }
   ],
   "source": [
    "dat = dat_region_loop\n",
    "table(dat$Size)"
   ]
  },
  {
   "cell_type": "code",
   "execution_count": 10,
   "id": "319025e9-e5f3-4260-b4ba-281fd878df8d",
   "metadata": {},
   "outputs": [
    {
     "data": {
      "image/png": "[encoded data removed]",
      "text/plain": [
       "plot without title"
      ]
     },
     "metadata": {
      "image/png": {
       "height": 240,
       "width": 360
      }
     },
     "output_type": "display_data"
    }
   ],
   "source": [
    "dat = dat_region_loop\n",
    "gpt = ggplot(dat, aes(x=Distance)) + \n",
    "    geom_histogram(bins=50) +\n",
    "    theme_cowplot() +\n",
    "    background_grid()\n",
    "\n",
    "options(repr.plot.height=4, repr.plot.width=6)\n",
    "print(gpt)"
   ]
  },
  {
   "cell_type": "code",
   "execution_count": 11,
   "id": "ea1d437d-1092-4cbe-82fd-0db5baa338ba",
   "metadata": {},
   "outputs": [
    {
     "data": {
      "image/png": "[encoded data removed]",
      "text/plain": [
       "plot without title"
      ]
     },
     "metadata": {
      "image/png": {
       "height": 480,
       "width": 720
      }
     },
     "output_type": "display_data"
    }
   ],
   "source": [
    "dat = dat_region_loop\n",
    "\n",
    "gpt = ggplot(dat, aes(x=Distance)) + \n",
    "    geom_histogram(bins=50) +\n",
    "    theme_cowplot() +\n",
    "    background_grid() +\n",
    "    facet_wrap(~Size, scale = \"free_y\")\n",
    "\n",
    "options(repr.plot.height=8, repr.plot.width=12)\n",
    "print(gpt)"
   ]
  },
  {
   "cell_type": "code",
   "execution_count": null,
   "id": "b7f51da4-0a84-4c8b-bcc2-7377cdfc9167",
   "metadata": {},
   "outputs": [],
   "source": []
  }
 ],
 "metadata": {
  "kernelspec": {
   "display_name": "R",
   "language": "R",
   "name": "ir"
  },
  "language_info": {
   "codemirror_mode": "r",
   "file_extension": ".r",
   "mimetype": "text/x-r-source",
   "name": "R",
   "pygments_lexer": "r",
   "version": "4.4.0"
  }
 },
 "nbformat": 4,
 "nbformat_minor": 5
}
