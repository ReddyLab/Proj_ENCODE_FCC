{
 "cells": [
  {
   "cell_type": "raw",
   "id": "40ac695b-f76a-4513-80ad-07a577c9dfc2",
   "metadata": {},
   "source": [
    "---\n",
    "title: Prepare STARR-seq data 032\n",
    "subtitle: Prepare ATAC-STARR KS274 files from `PROJECT/data` to `PROJECT/results` folder\n",
    "format:\n",
    "    html:\n",
    "        code-fold:  true\n",
    "        code-tools: true\n",
    "---"
   ]
  },
  {
   "cell_type": "markdown",
   "id": "c9112a67-183c-47ef-a364-b997b1974ea7",
   "metadata": {},
   "source": [
    "**Set environment**"
   ]
  },
  {
   "cell_type": "code",
   "execution_count": 1,
   "id": "9a03925c-0f0b-4724-b1a5-6af34a9823af",
   "metadata": {},
   "outputs": [
    {
     "name": "stdout",
     "output_type": "stream",
     "text": [
      "You are working on             Duke Server: HARDAC\n",
      "BASE DIRECTORY (FD_BASE):      /data/reddylab/Kuei\n",
      "REPO DIRECTORY (FD_REPO):      /data/reddylab/Kuei/repo\n",
      "WORK DIRECTORY (FD_WORK):      /data/reddylab/Kuei/work\n",
      "DATA DIRECTORY (FD_DATA):      /data/reddylab/Kuei/data\n",
      "CONTAINER DIR. (FD_SING):      /data/reddylab/Kuei/container\n",
      "\n",
      "You are working with           ENCODE FCC\n",
      "PATH OF PROJECT (FD_PRJ):      /data/reddylab/Kuei/repo/Proj_ENCODE_FCC\n",
      "PROJECT RESULTS (FD_RES):      /data/reddylab/Kuei/repo/Proj_ENCODE_FCC/results\n",
      "PROJECT SCRIPTS (FD_EXE):      /data/reddylab/Kuei/repo/Proj_ENCODE_FCC/scripts\n",
      "PROJECT DATA    (FD_DAT):      /data/reddylab/Kuei/repo/Proj_ENCODE_FCC/data\n",
      "PROJECT NOTE    (FD_NBK):      /data/reddylab/Kuei/repo/Proj_ENCODE_FCC/notebooks\n",
      "PROJECT DOCS    (FD_DOC):      /data/reddylab/Kuei/repo/Proj_ENCODE_FCC/docs\n",
      "PROJECT LOG     (FD_LOG):      /data/reddylab/Kuei/repo/Proj_ENCODE_FCC/log\n",
      "PROJECT APP     (FD_APP):      /data/reddylab/Kuei/repo/Proj_ENCODE_FCC/app\n",
      "PROJECT REF     (FD_REF):      /data/reddylab/Kuei/repo/Proj_ENCODE_FCC/references\n",
      "PROJECT IMAGE   (FP_PRJ_SIF):  /data/reddylab/Kuei/repo/Proj_ENCODE_FCC/app/singularity_proj_encode_fcc.sif\n",
      "\n"
     ]
    }
   ],
   "source": [
    "source ../run_config_project.sh\n",
    "show_env"
   ]
  },
  {
   "cell_type": "markdown",
   "id": "e6c288d3-2c7a-420c-ab64-a5dabc65c080",
   "metadata": {},
   "source": [
    "## Prepare"
   ]
  },
  {
   "cell_type": "markdown",
   "id": "461bdef0-638f-4232-8392-148b74212668",
   "metadata": {},
   "source": [
    "**Check data**"
   ]
  },
  {
   "cell_type": "code",
   "execution_count": 2,
   "id": "2bd03daf-b919-4618-aafd-524bb0c1a051",
   "metadata": {},
   "outputs": [
    {
     "name": "stdout",
     "output_type": "stream",
     "text": [
      "/data/reddylab/Kuei/repo/Proj_ENCODE_FCC/data/processed/ASTARRseq_K562_hg38_KS274_240311/fragments\n",
      "K562_ASTARR_repeat_rep1.f3q10.fragments.bedpe\n",
      "K562_ASTARR_repeat_rep1.f3q10.sorted.with_umis.dedup.rpkm.bw\n",
      "K562_ASTARR_repeat_rep2.f3q10.fragments.bedpe\n",
      "K562_ASTARR_repeat_rep2.f3q10.sorted.with_umis.dedup.rpkm.bw\n",
      "K562_ASTARR_repeat_rep3.f3q10.fragments.bedpe\n",
      "K562_ASTARR_repeat_rep3.f3q10.sorted.with_umis.dedup.rpkm.bw\n"
     ]
    }
   ],
   "source": [
    "FDIRY=${FD_DAT}/processed/ASTARRseq_K562_hg38_KS274_240311/fragments\n",
    "echo ${FDIRY}\n",
    "ls   ${FDIRY}"
   ]
  },
  {
   "cell_type": "code",
   "execution_count": 3,
   "id": "024829cd-9593-493c-a889-9168b8a073ee",
   "metadata": {},
   "outputs": [
    {
     "name": "stdout",
     "output_type": "stream",
     "text": [
      "/data/reddylab/Kuei/repo/Proj_ENCODE_FCC/results/assay_fcc/STARR_ATAC_K562_Reddy_KS274/fragment_counts\n",
      "\u001b[0m\u001b[38;5;27m/data/reddylab/Kuei/repo/Proj_ENCODE_FCC/results/assay_fcc/STARR_ATAC_K562_Reddy_KS274/fragment_counts\u001b[0m\u001b[K\n"
     ]
    }
   ],
   "source": [
    "FDIRY=${FD_RES}/assay_fcc/STARR_ATAC_K562_Reddy_KS274/fragment_counts\n",
    "echo  ${FDIRY}\n",
    "ls -d ${FDIRY}"
   ]
  },
  {
   "cell_type": "markdown",
   "id": "49ed0b6e-75aa-4545-b7db-7a713d34c70a",
   "metadata": {},
   "source": [
    "**Test: Calcualte fragment -> fragment counts**"
   ]
  },
  {
   "cell_type": "code",
   "execution_count": 4,
   "id": "4ea85f97-95f1-4207-8f69-7cff3995652c",
   "metadata": {},
   "outputs": [
    {
     "name": "stdout",
     "output_type": "stream",
     "text": [
      "chr1\t14145\t14485\n",
      "chr1\t14145\t14485\n",
      "chr1\t14243\t14498\n",
      "chr1\t14454\t14729\n",
      "chr1\t14522\t14725\n",
      "chr1\t14599\t14850\n",
      "chr1\t14659\t14864\n",
      "chr1\t14659\t14864\n",
      "chr1\t14781\t15268\n",
      "chr1\t15172\t15659\n"
     ]
    }
   ],
   "source": [
    "FD_INP=${FD_DAT}/processed/ASTARRseq_K562_hg38_KS274_240311/fragments\n",
    "FN_INP=K562_ASTARR_repeat_rep1.f3q10.fragments.bedpe\n",
    "FP_INP=${FD_INP}/${FN_INP}\n",
    "cat ${FP_INP} | head"
   ]
  },
  {
   "cell_type": "code",
   "execution_count": 5,
   "id": "81b434e8-2480-4c2f-b36b-85ef331dcbee",
   "metadata": {},
   "outputs": [
    {
     "name": "stdout",
     "output_type": "stream",
     "text": [
      "chr1\t14145\t14485\tchr1:14145-14485\t2\t.\n",
      "chr1\t14243\t14498\tchr1:14243-14498\t1\t.\n",
      "chr1\t14454\t14729\tchr1:14454-14729\t1\t.\n",
      "chr1\t14522\t14725\tchr1:14522-14725\t1\t.\n",
      "chr1\t14599\t14850\tchr1:14599-14850\t1\t.\n",
      "chr1\t14659\t14864\tchr1:14659-14864\t2\t.\n",
      "chr1\t14781\t15268\tchr1:14781-15268\t1\t.\n",
      "chr1\t15172\t15659\tchr1:15172-15659\t1\t.\n"
     ]
    }
   ],
   "source": [
    "cat ${FP_INP} | head |\\\n",
    "    sort -k 1,1 -k2,2n |\\\n",
    "    uniq -c |\\\n",
    "    awk '{$(NF+1)=$1;$1=\"\"}1'   |\\\n",
    "    sed -e 's/^[[:space:]]*//'  |\\\n",
    "    sed -e 's/[[:space:]]/\\t/g' |\\\n",
    "    awk '{print $1\"\\t\"$2\"\\t\"$3\"\\t\"$1\":\"$2\"-\"$3\"\\t\"$4\"\\t\"\".\"}'"
   ]
  },
  {
   "cell_type": "markdown",
   "id": "f65648bd-869b-4289-8d2d-d507048057d0",
   "metadata": {},
   "source": [
    "## Execute"
   ]
  },
  {
   "cell_type": "markdown",
   "id": "25959044-0bcc-49df-ad9b-16e952a07c3a",
   "metadata": {},
   "source": [
    "**Run: Loop each fragment file and output fragment counts**"
   ]
  },
  {
   "cell_type": "code",
   "execution_count": 6,
   "id": "16213979-de30-4e41-b196-74becca00f54",
   "metadata": {},
   "outputs": [],
   "source": [
    "FD_INP=${FD_DAT}/processed/ASTARRseq_K562_hg38_KS274_240311/fragments\n",
    "FD_OUT=${FD_RES}/assay_fcc/STARR_ATAC_K562_Reddy_KS274/fragment_counts\n",
    "\n",
    "FN_INPS=(\n",
    "    K562_ASTARR_repeat_rep1.f3q10.fragments.bedpe\n",
    "    K562_ASTARR_repeat_rep2.f3q10.fragments.bedpe\n",
    "    K562_ASTARR_repeat_rep3.f3q10.fragments.bedpe\n",
    ")\n",
    "\n",
    "FN_OUTS=(\n",
    "    ASTARRseq_K562_KS274.hg38.Output.rep1.WGS.unstranded.bed.gz\n",
    "    ASTARRseq_K562_KS274.hg38.Output.rep2.WGS.unstranded.bed.gz\n",
    "    ASTARRseq_K562_KS274.hg38.Output.rep3.WGS.unstranded.bed.gz\n",
    ")"
   ]
  },
  {
   "cell_type": "code",
   "execution_count": 7,
   "id": "83af0cef-c6d3-457c-9a04-56eecb89afa3",
   "metadata": {},
   "outputs": [
    {
     "name": "stdout",
     "output_type": "stream",
     "text": [
      "Calculate fragment counts...\n",
      "K562_ASTARR_repeat_rep1.f3q10.fragments.bedpe\n",
      "ASTARRseq_K562_KS274.hg38.Output.rep1.WGS.unstranded.bed.gz\n",
      "fragment_count.K562_ASTARR_repeat_rep1.f3q10.fragments.bedpe.txt\n",
      "Submitted batch job 30729251\n",
      "\n",
      "Calculate fragment counts...\n",
      "K562_ASTARR_repeat_rep2.f3q10.fragments.bedpe\n",
      "ASTARRseq_K562_KS274.hg38.Output.rep2.WGS.unstranded.bed.gz\n",
      "fragment_count.K562_ASTARR_repeat_rep2.f3q10.fragments.bedpe.txt\n",
      "Submitted batch job 30729252\n",
      "\n",
      "Calculate fragment counts...\n",
      "K562_ASTARR_repeat_rep3.f3q10.fragments.bedpe\n",
      "ASTARRseq_K562_KS274.hg38.Output.rep3.WGS.unstranded.bed.gz\n",
      "fragment_count.K562_ASTARR_repeat_rep3.f3q10.fragments.bedpe.txt\n",
      "Submitted batch job 30729253\n",
      "\n"
     ]
    }
   ],
   "source": [
    "for idx in \"${!FN_INPS[@]}\"; do\n",
    "    FN_INP=${FN_INPS[idx]}\n",
    "    FN_OUT=${FN_OUTS[idx]}\n",
    "    FN_LOG=fragment_count.${FN_INP}.txt\n",
    "    \n",
    "    FP_INP=${FD_INP}/${FN_INP}\n",
    "    FP_OUT=${FD_OUT}/${FN_OUT}\n",
    "    FP_LOG=${FD_LOG}/${FN_LOG}\n",
    "    \n",
    "    echo \"Calculate fragment counts...\"\n",
    "    echo ${FN_INP}\n",
    "    echo ${FN_OUT}\n",
    "    echo ${FN_LOG}\n",
    "    \n",
    "    sbatch -p ${NODE} \\\n",
    "        --exclude=dl-01   \\\n",
    "        --cpus-per-task 4 \\\n",
    "        --mem 4G \\\n",
    "        --output ${FP_LOG} \\\n",
    "        --export=FD_PRJ=${FD_PRJ},FP_INP=${FP_INP},FP_OUT=${FP_OUT} \\\n",
    "        <<'EOF'\n",
    "#!/bin/bash\n",
    "### set environment\n",
    "source ${FD_PRJ}/scripts/config_project.sh\n",
    "\n",
    "### print start message\n",
    "timer_start=`date +%s`\n",
    "echo \"Hostname:          \" $(hostname)\n",
    "echo \"Slurm Array Index: \" ${SLURM_ARRAY_TASK_ID}\n",
    "echo \"Time Stamp:        \" $(date +\"%m-%d-%y+%T\")\n",
    "echo\n",
    "\n",
    "### show input file\n",
    "echo \"Input: \" ${FP_INP}\n",
    "echo\n",
    "echo \"show first few lines of input\"\n",
    "fun_cat ${FP_INP} | head\n",
    "echo\n",
    "\n",
    "### execute\n",
    "cat ${FP_INP} |\\\n",
    "    sort -k 1,1 -k2,2n |\\\n",
    "    uniq -c |\\\n",
    "    awk '{$(NF+1)=$1;$1=\"\"}1'   |\\\n",
    "    sed -e 's/^[[:space:]]*//'  |\\\n",
    "    sed -e 's/[[:space:]]/\\t/g' |\\\n",
    "    awk '{print $1\"\\t\"$2\"\\t\"$3\"\\t\"$1\":\"$2\"-\"$3\"\\t\"$4\"\\t\"\".\"}' |\\\n",
    "    gzip -c > ${FP_OUT}\n",
    "\n",
    "### show output file\n",
    "echo \"Output: \" ${FP_OUT}\n",
    "echo\n",
    "echo \"show first few lines of output\"\n",
    "fun_cat ${FP_OUT} | head\n",
    "echo\n",
    "\n",
    "### print end message\n",
    "timer=`date +%s`\n",
    "runtime=$(echo \"${timer} - ${timer_start}\" | bc -l)\n",
    "echo\n",
    "echo 'Done!'\n",
    "echo \"Run Time: $(displaytime ${runtime})\"\n",
    "EOF\n",
    "    echo\n",
    "done"
   ]
  },
  {
   "cell_type": "markdown",
   "id": "24db0600-d4e7-4a97-bc88-644d539905f5",
   "metadata": {},
   "source": [
    "## Review"
   ]
  },
  {
   "cell_type": "markdown",
   "id": "6639e189-ab49-4aa0-947c-4bc1a242e07d",
   "metadata": {},
   "source": [
    "**Check results**"
   ]
  },
  {
   "cell_type": "code",
   "execution_count": 8,
   "id": "b2dbcc6e-8e27-4380-858b-97d28ee0f160",
   "metadata": {},
   "outputs": [
    {
     "name": "stdout",
     "output_type": "stream",
     "text": [
      "Hostname:           x1-01-2.genome.duke.edu\n",
      "Slurm Array Index: \n",
      "Time Stamp:         03-30-24+14:34:55\n",
      "\n",
      "Input:  /data/reddylab/Kuei/repo/Proj_ENCODE_FCC/data/processed/ASTARRseq_K562_hg38_KS274_240311/fragments/K562_ASTARR_repeat_rep3.f3q10.fragments.bedpe\n",
      "\n",
      "show first few lines of input\n",
      "chr1\t10421\t10570\n",
      "chr1\t13044\t13243\n",
      "chr1\t13044\t13243\n",
      "chr1\t13303\t13459\n",
      "chr1\t13483\t13661\n",
      "chr1\t14091\t14513\n",
      "chr1\t14129\t14468\n",
      "chr1\t14191\t14755\n",
      "chr1\t14231\t14498\n",
      "chr1\t14449\t14971\n",
      "\n",
      "Output:  /data/reddylab/Kuei/repo/Proj_ENCODE_FCC/results/assay_fcc/STARR_ATAC_K562_Reddy_KS274/fragment_counts/ASTARRseq_K562_KS274.hg38.Output.rep3.WGS.unstranded.bed.gz\n",
      "\n",
      "show first few lines of output\n",
      "chr1\t10421\t10570\tchr1:10421-10570\t1\t.\n",
      "chr1\t13044\t13243\tchr1:13044-13243\t2\t.\n",
      "chr1\t13303\t13459\tchr1:13303-13459\t1\t.\n",
      "chr1\t13483\t13661\tchr1:13483-13661\t1\t.\n",
      "chr1\t14091\t14513\tchr1:14091-14513\t1\t.\n",
      "chr1\t14129\t14468\tchr1:14129-14468\t1\t.\n",
      "chr1\t14191\t14755\tchr1:14191-14755\t1\t.\n",
      "chr1\t14231\t14498\tchr1:14231-14498\t1\t.\n",
      "chr1\t14449\t14971\tchr1:14449-14971\t1\t.\n",
      "chr1\t14452\t14620\tchr1:14452-14620\t1\t.\n",
      "\n",
      "\n",
      "Done!\n",
      "Run Time: 25 minutes and 4 seconds\n"
     ]
    }
   ],
   "source": [
    "cat ${FP_LOG}"
   ]
  },
  {
   "cell_type": "code",
   "execution_count": null,
   "id": "d70364cb-053f-47d9-b8d2-e9632b7de15a",
   "metadata": {},
   "outputs": [],
   "source": []
  }
 ],
 "metadata": {
  "kernelspec": {
   "display_name": "Bash",
   "language": "bash",
   "name": "bash"
  },
  "language_info": {
   "codemirror_mode": "shell",
   "file_extension": ".sh",
   "mimetype": "text/x-sh",
   "name": "bash"
  }
 },
 "nbformat": 4,
 "nbformat_minor": 5
}
