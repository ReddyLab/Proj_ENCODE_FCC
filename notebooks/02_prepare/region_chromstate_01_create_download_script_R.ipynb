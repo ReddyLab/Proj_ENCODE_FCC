{
 "cells": [
  {
   "cell_type": "raw",
   "id": "f991187f-d130-4830-9c6c-3cebd87ed814",
   "metadata": {},
   "source": [
    "---\n",
    "title: Prepare ENCODE Chromatin State 01\n",
    "subtitle: Generate download script to download the annotation data\n",
    "format:\n",
    "    html:\n",
    "        code-fold:  true\n",
    "        code-tools: true\n",
    "---"
   ]
  },
  {
   "cell_type": "markdown",
   "id": "18a4ce1c-c3a3-4479-be3f-c9d40ee22cc8",
   "metadata": {},
   "source": [
    "**Set environment**"
   ]
  },
  {
   "cell_type": "code",
   "execution_count": 1,
   "id": "c978d2ab-5df5-4007-8f03-1a7159a7d5bd",
   "metadata": {
    "tags": []
   },
   "outputs": [
    {
     "name": "stdout",
     "output_type": "stream",
     "text": [
      "You are working on        Singularity \n",
      "BASE DIRECTORY (FD_BASE): /mount \n",
      "REPO DIRECTORY (FD_REPO): /mount/repo \n",
      "WORK DIRECTORY (FD_WORK): /mount/work \n",
      "DATA DIRECTORY (FD_DATA): /mount/data \n",
      "\n",
      "You are working with      ENCODE FCC \n",
      "PATH OF PROJECT (FD_PRJ): /mount/repo/Proj_ENCODE_FCC \n",
      "PROJECT RESULTS (FD_RES): /mount/repo/Proj_ENCODE_FCC/results \n",
      "PROJECT SCRIPTS (FD_EXE): /mount/repo/Proj_ENCODE_FCC/scripts \n",
      "PROJECT DATA    (FD_DAT): /mount/repo/Proj_ENCODE_FCC/data \n",
      "PROJECT NOTE    (FD_NBK): /mount/repo/Proj_ENCODE_FCC/notebooks \n",
      "PROJECT DOCS    (FD_DOC): /mount/repo/Proj_ENCODE_FCC/docs \n",
      "PROJECT LOG     (FD_LOG): /mount/repo/Proj_ENCODE_FCC/log \n",
      "PROJECT APP     (FD_APP): /mount/repo/Proj_ENCODE_FCC/app \n",
      "PROJECT REF     (FD_REF): /mount/repo/Proj_ENCODE_FCC/references \n",
      "\n"
     ]
    }
   ],
   "source": [
    "suppressMessages(suppressWarnings(source(\"../run_config_project_sing.R\")))\n",
    "show_env()"
   ]
  },
  {
   "cell_type": "markdown",
   "id": "1a6c667d-03be-489d-b081-a294568b6abf",
   "metadata": {
    "tags": []
   },
   "source": [
    "## Import metadata from reference file\n",
    "Read the table with the file accession numbers of ATAC peaks and DHS regions"
   ]
  },
  {
   "cell_type": "code",
   "execution_count": 2,
   "id": "b8b7a841-f2a4-474e-9bf7-c079a3ae0ec6",
   "metadata": {},
   "outputs": [
    {
     "data": {
      "text/html": [
       "<table>\n",
       " <thead>\n",
       "  <tr>\n",
       "   <th style=\"text-align:left;\"> Assay </th>\n",
       "   <th style=\"text-align:left;\"> Biosample </th>\n",
       "   <th style=\"text-align:left;\"> Index_Experiment </th>\n",
       "   <th style=\"text-align:left;\"> Index_Process </th>\n",
       "   <th style=\"text-align:left;\"> Index_File </th>\n",
       "   <th style=\"text-align:left;\"> File_Type </th>\n",
       "   <th style=\"text-align:left;\"> Output_Type </th>\n",
       "   <th style=\"text-align:left;\"> Genome </th>\n",
       "   <th style=\"text-align:left;\"> Encyclopedia version </th>\n",
       "   <th style=\"text-align:left;\"> Lab </th>\n",
       "   <th style=\"text-align:left;\"> Description </th>\n",
       "  </tr>\n",
       " </thead>\n",
       "<tbody>\n",
       "  <tr>\n",
       "   <td style=\"text-align:left;\"> cCREs </td>\n",
       "   <td style=\"text-align:left;\"> K562 </td>\n",
       "   <td style=\"text-align:left;\"> ENCSR913HQX </td>\n",
       "   <td style=\"text-align:left;\"> Lab custom GRCh38 (ENCAN130HDM) processed data </td>\n",
       "   <td style=\"text-align:left;\"> ENCFF286VQG </td>\n",
       "   <td style=\"text-align:left;\"> bed bed9+ </td>\n",
       "   <td style=\"text-align:left;\"> candidate Cis-Regulatory Elements </td>\n",
       "   <td style=\"text-align:left;\"> hg38 </td>\n",
       "   <td style=\"text-align:left;\"> ENCODE v4 </td>\n",
       "   <td style=\"text-align:left;\"> Zhiping Weng, Umass </td>\n",
       "   <td style=\"text-align:left;\"> candidate regulatory elements for GRCh38 in K562 </td>\n",
       "  </tr>\n",
       "  <tr>\n",
       "   <td style=\"text-align:left;\"> ChromHMM </td>\n",
       "   <td style=\"text-align:left;\"> K562 </td>\n",
       "   <td style=\"text-align:left;\"> ENCSR365YNI </td>\n",
       "   <td style=\"text-align:left;\"> Lab custom GRCh38 (ENCAN395TNA) processed data </td>\n",
       "   <td style=\"text-align:left;\"> ENCFF106BGJ </td>\n",
       "   <td style=\"text-align:left;\"> bed bed9 </td>\n",
       "   <td style=\"text-align:left;\"> semi-automated genome annotation </td>\n",
       "   <td style=\"text-align:left;\"> hg38 </td>\n",
       "   <td style=\"text-align:left;\"> ENCODE v4 </td>\n",
       "   <td style=\"text-align:left;\"> Zhiping Weng, Umass </td>\n",
       "   <td style=\"text-align:left;\"> ChromHMM 15-state model of K562 </td>\n",
       "  </tr>\n",
       "</tbody>\n",
       "</table>"
      ]
     },
     "metadata": {},
     "output_type": "display_data"
    }
   ],
   "source": [
    "### set file path\n",
    "txt_fdiry = file.path(FD_REF, \"encode_chromatin_states\")\n",
    "txt_fname = \"ENCODE_K562_hg38_chromatin_states.tsv\"\n",
    "txt_fpath = file.path(txt_fdiry, txt_fname)\n",
    "\n",
    "### read table\n",
    "dat = read_tsv(txt_fpath, show_col_types = FALSE)\n",
    "\n",
    "### show and assign\n",
    "dat_metadata = dat\n",
    "fun_display_table(dat)"
   ]
  },
  {
   "cell_type": "markdown",
   "id": "27baf02c-d71a-4c04-90b0-e5529036900e",
   "metadata": {},
   "source": [
    "## Generate download commands\n",
    "```\n",
    "wget -O FILE URL\n",
    "```"
   ]
  },
  {
   "cell_type": "code",
   "execution_count": 3,
   "id": "3baf58d6-4c96-4098-ab8c-84237d4219f9",
   "metadata": {},
   "outputs": [
    {
     "data": {
      "text/html": [
       "<table>\n",
       " <thead>\n",
       "  <tr>\n",
       "   <th style=\"text-align:left;\"> #!/bin/bash </th>\n",
       "  </tr>\n",
       " </thead>\n",
       "<tbody>\n",
       "  <tr>\n",
       "   <td style=\"text-align:left;\"> echo -n &quot;&quot; &gt; run_download.log.txt </td>\n",
       "  </tr>\n",
       "  <tr>\n",
       "   <td style=\"text-align:left;\"> wget --append-output=run_download.log.txt -O K562.hg38.ENCSR913HQX.ENCFF286VQG.cCREs.bed.gz https://www.encodeproject.org/files/ENCFF286VQG/@@download/ENCFF286VQG.bed.gz </td>\n",
       "  </tr>\n",
       "  <tr>\n",
       "   <td style=\"text-align:left;\"> wget --append-output=run_download.log.txt -O K562.hg38.ENCSR365YNI.ENCFF106BGJ.ChromHMM.bed.gz https://www.encodeproject.org/files/ENCFF106BGJ/@@download/ENCFF106BGJ.bed.gz </td>\n",
       "  </tr>\n",
       "</tbody>\n",
       "</table>"
      ]
     },
     "metadata": {},
     "output_type": "display_data"
    }
   ],
   "source": [
    "### init\n",
    "dat = dat_metadata\n",
    "\n",
    "### setup download file name and wget command\n",
    "dat = dat %>%\n",
    "    dplyr::mutate(\n",
    "        File_Name = paste(\n",
    "            Biosample, \n",
    "            Genome, \n",
    "            Index_Experiment, \n",
    "            Index_File,\n",
    "            Assay,\n",
    "            \"bed.gz\", \n",
    "            sep=\".\")\n",
    "    ) %>%\n",
    "    dplyr::mutate(\n",
    "        File_URL_Download = file.path(\n",
    "            \"https://www.encodeproject.org/files\",\n",
    "            Index_File,\n",
    "            \"@@download\",\n",
    "            paste(Index_File, \"bed.gz\", sep = \".\")\n",
    "        )\n",
    "    ) %>%\n",
    "    dplyr::mutate(\n",
    "        CMD = paste(\"wget\", \"--append-output=run_download.log.txt\", \"-O\", File_Name, File_URL_Download)\n",
    "    )\n",
    "\n",
    "### add Shebang and initial commands\n",
    "#dat = dat %>% dplyr::select(Assay, Biosample, Index_Experiment, Index_File, File_Name, CMD)\n",
    "dat = dat %>% dplyr::select(CMD)\n",
    "dat = rbind('echo -n \"\" > run_download.log.txt', dat)\n",
    "colnames(dat) = \"#!/bin/bash\"\n",
    "\n",
    "### assign and show\n",
    "dat_cmd = dat\n",
    "fun_display_table(dat)"
   ]
  },
  {
   "cell_type": "markdown",
   "id": "9f6d370c-b74d-41d2-b22b-749d31a06731",
   "metadata": {},
   "source": [
    "## Save to script\n",
    "Save the command lines for each row into a bash script"
   ]
  },
  {
   "cell_type": "code",
   "execution_count": 4,
   "id": "d14d6f10-1f81-46c6-b1d2-f72230e3e441",
   "metadata": {},
   "outputs": [],
   "source": [
    "### set output path\n",
    "txt_fdiry = file.path(FD_DAT, \"external\", \"encode_chromatin_states\")\n",
    "txt_fname = \"run_download.sh\"\n",
    "txt_fpath = file.path(txt_fdiry, txt_fname)\n",
    "\n",
    "### arrange table\n",
    "dat = dat_cmd\n",
    "colnames(dat) = \"#!/bin/bash\"\n",
    "\n",
    "### save table\n",
    "dir.create(txt_fdiry, showWarnings = FALSE)\n",
    "write_tsv(dat, txt_fpath)  "
   ]
  },
  {
   "cell_type": "code",
   "execution_count": null,
   "id": "eea05b15-126b-416a-8251-a25dd9dcd1d9",
   "metadata": {},
   "outputs": [],
   "source": []
  }
 ],
 "metadata": {
  "kernelspec": {
   "display_name": "R",
   "language": "R",
   "name": "ir"
  },
  "language_info": {
   "codemirror_mode": "r",
   "file_extension": ".r",
   "mimetype": "text/x-r-source",
   "name": "R",
   "pygments_lexer": "r",
   "version": "4.3.3"
  }
 },
 "nbformat": 4,
 "nbformat_minor": 5
}
