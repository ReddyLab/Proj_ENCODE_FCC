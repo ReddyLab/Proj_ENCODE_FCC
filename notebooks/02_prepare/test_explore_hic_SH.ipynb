{
 "cells": [
  {
   "cell_type": "markdown",
   "id": "a39d888a-c410-486b-ae57-0356d9d02d31",
   "metadata": {},
   "source": [
    "**Set environment**"
   ]
  },
  {
   "cell_type": "code",
   "execution_count": 1,
   "id": "b36a8de4-2f90-42d1-b86d-3774d92e44d4",
   "metadata": {},
   "outputs": [
    {
     "name": "stdout",
     "output_type": "stream",
     "text": [
      "You are working on             Duke Server: HARDAC\n",
      "BASE DIRECTORY (FD_BASE):      /data/reddylab/Kuei\n",
      "REPO DIRECTORY (FD_REPO):      /data/reddylab/Kuei/repo\n",
      "WORK DIRECTORY (FD_WORK):      /data/reddylab/Kuei/work\n",
      "DATA DIRECTORY (FD_DATA):      /data/reddylab/Kuei/data\n",
      "CONTAINER DIR. (FD_SING):      /data/reddylab/Kuei/container\n",
      "\n",
      "You are working with           ENCODE FCC\n",
      "PATH OF PROJECT (FD_PRJ):      /data/reddylab/Kuei/repo/Proj_CombEffect_ENCODE_FCC\n",
      "PROJECT RESULTS (FD_RES):      /data/reddylab/Kuei/repo/Proj_CombEffect_ENCODE_FCC/results\n",
      "PROJECT SCRIPTS (FD_EXE):      /data/reddylab/Kuei/repo/Proj_CombEffect_ENCODE_FCC/scripts\n",
      "PROJECT DATA    (FD_DAT):      /data/reddylab/Kuei/repo/Proj_CombEffect_ENCODE_FCC/data\n",
      "PROJECT NOTE    (FD_NBK):      /data/reddylab/Kuei/repo/Proj_CombEffect_ENCODE_FCC/notebooks\n",
      "PROJECT DOCS    (FD_DOC):      /data/reddylab/Kuei/repo/Proj_CombEffect_ENCODE_FCC/docs\n",
      "PROJECT LOG     (FD_LOG):      /data/reddylab/Kuei/repo/Proj_CombEffect_ENCODE_FCC/log\n",
      "PROJECT APP     (FD_APP):      /data/reddylab/Kuei/repo/Proj_CombEffect_ENCODE_FCC/app\n",
      "PROJECT REF     (FD_REF):      /data/reddylab/Kuei/repo/Proj_CombEffect_ENCODE_FCC/references\n",
      "PROJECT IMAGE   (FP_PRJ_SIF):  /data/reddylab/Kuei/repo/Proj_CombEffect_ENCODE_FCC/app/singularity_proj_encode_fcc.sif\n",
      "\n"
     ]
    }
   ],
   "source": [
    "source ../run_config_project.sh\n",
    "show_env"
   ]
  },
  {
   "cell_type": "code",
   "execution_count": 5,
   "id": "265d8902-2772-4767-85a5-2761b844dc22",
   "metadata": {},
   "outputs": [
    {
     "name": "stdout",
     "output_type": "stream",
     "text": [
      "/data/reddylab/Kuei/work\n",
      "\u001b[0m\u001b[38;5;27mproj_combeffect\u001b[0m  \u001b[38;5;27mproj_combeffect_encode_fcc\u001b[0m  \u001b[38;5;27mscratch\u001b[0m  \u001b[38;5;27mtrackhub\u001b[0m\n"
     ]
    }
   ],
   "source": [
    "echo ${FD_WORK}\n",
    "ls   ${FD_WORK}"
   ]
  },
  {
   "cell_type": "code",
   "execution_count": 8,
   "id": "b4dfd539-7673-4b56-9eea-227ebb14ab92",
   "metadata": {},
   "outputs": [
    {
     "name": "stdout",
     "output_type": "stream",
     "text": [
      "\u001b[0m\u001b[38;5;27mA001_K562_wstarrseq_fragments\u001b[0m\n",
      "\u001b[38;5;27mA001_K562_wstarrseq_fragments_wgs\u001b[0m\n",
      "\u001b[38;5;27mannotation_cCREs\u001b[0m\n",
      "\u001b[38;5;27mannotation_chipseq_histone\u001b[0m\n",
      "\u001b[38;5;27mannotation_chipseq_tf\u001b[0m\n",
      "\u001b[38;5;27mannotation_chromHMM\u001b[0m\n",
      "\u001b[38;5;27mannotation_enhancer_junke\u001b[0m\n",
      "\u001b[38;5;27mannotation_enhancer_junke_zscore\u001b[0m\n",
      "\u001b[38;5;27mannotation_enhancer_junke_zscore_prev\u001b[0m\n",
      "\u001b[38;5;27mannotation_gencode\u001b[0m\n",
      "\u001b[38;5;27mannotation_gene\u001b[0m\n",
      "\u001b[38;5;27mannotation_remap2022\u001b[0m\n",
      "\u001b[38;5;27mannotation_starrseq_negative_control_junke\u001b[0m\n",
      "chrom.sizes.hg19\n",
      "chrom.sizes.hg38\n",
      "\u001b[38;5;27mCRISPRi_FlowFISH\u001b[0m\n",
      "\u001b[38;5;27mCRISPRi_growth\u001b[0m\n",
      "\u001b[38;5;27mENCODE_E2G\u001b[0m\n",
      "\u001b[38;5;27mhic_insitu_GM12878\u001b[0m\n",
      "\u001b[38;5;27mhic_intact_K562_deep\u001b[0m\n",
      "\u001b[38;5;27mhic_intact_K562_ENCSR479XDG\u001b[0m\n",
      "\u001b[38;5;27mKS91_K562_astarrseq_fragments_220510\u001b[0m\n",
      "\u001b[38;5;27mKS91_K562_astarrseq_fragments_wgs\u001b[0m\n",
      "\u001b[38;5;27mKS91_K562_astarrseq_peak_macs\u001b[0m\n",
      "\u001b[38;5;27mMPRA\u001b[0m\n",
      "Readme.md\n",
      "\u001b[38;5;27mRNAseq\u001b[0m\n",
      "\u001b[38;5;27mTF_modules\u001b[0m\n",
      "\u001b[38;5;27mtmp\u001b[0m\n"
     ]
    }
   ],
   "source": [
    "ls ${FD_WORK}/proj_combeffect_encode_fcc/source"
   ]
  },
  {
   "cell_type": "code",
   "execution_count": 9,
   "id": "80fc5b46-2701-4dd3-bdba-82639e1ead12",
   "metadata": {},
   "outputs": [
    {
     "name": "stdout",
     "output_type": "stream",
     "text": [
      "/data/reddylab/Kuei/work/proj_combeffect_encode_fcc/source/hic_insitu_GM12878:\n",
      "ENCFF718AWL.hic\n",
      "\n",
      "/data/reddylab/Kuei/work/proj_combeffect_encode_fcc/source/hic_intact_K562_deep:\n",
      "inter.hic  localizedList_primary_10.bedpe\n",
      "\n",
      "/data/reddylab/Kuei/work/proj_combeffect_encode_fcc/source/hic_intact_K562_ENCSR479XDG:\n",
      "ENCFF621AIY.hic\n",
      "\u001b[0m\u001b[38;5;9mK562.ENCSR479XDG.ENCFF126GED.contact_domains.bedpe.gz\u001b[0m\n",
      "\u001b[38;5;9mK562.ENCSR479XDG.ENCFF256ZMD.loops.bedpe.gz\u001b[0m\n"
     ]
    }
   ],
   "source": [
    "ls ${FD_WORK}/proj_combeffect_encode_fcc/source/hic*"
   ]
  },
  {
   "cell_type": "code",
   "execution_count": null,
   "id": "3d428c6f-1317-462b-b001-dc9ca62271f9",
   "metadata": {},
   "outputs": [],
   "source": []
  }
 ],
 "metadata": {
  "kernelspec": {
   "display_name": "Bash",
   "language": "bash",
   "name": "bash"
  },
  "language_info": {
   "codemirror_mode": "shell",
   "file_extension": ".sh",
   "mimetype": "text/x-sh",
   "name": "bash"
  }
 },
 "nbformat": 4,
 "nbformat_minor": 5
}
