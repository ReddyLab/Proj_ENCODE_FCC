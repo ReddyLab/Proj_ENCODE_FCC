{
 "cells": [
  {
   "cell_type": "raw",
   "id": "92b31c37-3d70-4e7e-9352-41e1e7090632",
   "metadata": {},
   "source": [
    "---\n",
    "title: Prepare ASTARR Input MACS Peaks 01\n",
    "subtitle: Download the data\n",
    "format:\n",
    "    html:\n",
    "        code-fold:  true\n",
    "        code-tools: true\n",
    "---"
   ]
  },
  {
   "cell_type": "markdown",
   "id": "f2941f8b-2d53-41f0-8b97-0d340e61875a",
   "metadata": {},
   "source": [
    "**Set environment**"
   ]
  },
  {
   "cell_type": "code",
   "execution_count": 1,
   "id": "4f2e65e0-ad27-47c3-b935-4d4781eed63e",
   "metadata": {},
   "outputs": [
    {
     "name": "stdout",
     "output_type": "stream",
     "text": [
      "You are working on             Duke Server: HARDAC\n",
      "BASE DIRECTORY (FD_BASE):      /data/reddylab/Kuei\n",
      "REPO DIRECTORY (FD_REPO):      /data/reddylab/Kuei/repo\n",
      "WORK DIRECTORY (FD_WORK):      /data/reddylab/Kuei/work\n",
      "DATA DIRECTORY (FD_DATA):      /data/reddylab/Kuei/data\n",
      "CONTAINER DIR. (FD_SING):      /data/reddylab/Kuei/container\n",
      "\n",
      "You are working with           ENCODE FCC\n",
      "PATH OF PROJECT (FD_PRJ):      /data/reddylab/Kuei/repo/Proj_ENCODE_FCC\n",
      "PROJECT RESULTS (FD_RES):      /data/reddylab/Kuei/repo/Proj_ENCODE_FCC/results\n",
      "PROJECT SCRIPTS (FD_EXE):      /data/reddylab/Kuei/repo/Proj_ENCODE_FCC/scripts\n",
      "PROJECT DATA    (FD_DAT):      /data/reddylab/Kuei/repo/Proj_ENCODE_FCC/data\n",
      "PROJECT NOTE    (FD_NBK):      /data/reddylab/Kuei/repo/Proj_ENCODE_FCC/notebooks\n",
      "PROJECT DOCS    (FD_DOC):      /data/reddylab/Kuei/repo/Proj_ENCODE_FCC/docs\n",
      "PROJECT LOG     (FD_LOG):      /data/reddylab/Kuei/repo/Proj_ENCODE_FCC/log\n",
      "PROJECT APP     (FD_APP):      /data/reddylab/Kuei/repo/Proj_ENCODE_FCC/app\n",
      "PROJECT REF     (FD_REF):      /data/reddylab/Kuei/repo/Proj_ENCODE_FCC/references\n",
      "PROJECT IMAGE   (FP_PRJ_SIF):  /data/reddylab/Kuei/repo/Proj_ENCODE_FCC/app/singularity_proj_encode_fcc.sif\n",
      "\n"
     ]
    }
   ],
   "source": [
    "source ../run_config_project.sh\n",
    "show_env"
   ]
  },
  {
   "cell_type": "markdown",
   "id": "bfcff345-4258-48f1-9c8b-580d587aa61c",
   "metadata": {},
   "source": [
    "## Prepare data"
   ]
  },
  {
   "cell_type": "markdown",
   "id": "ac6d751d-7885-48a6-a9ed-e51091d35226",
   "metadata": {},
   "source": [
    "**Data: Original files**\n",
    "\n",
    "`PROJECT/data/processed/ASTARRseq_K562_hg38_KS91_210401/peaks`\n",
    "\n",
    "```\n",
    "KS91_K562_hg38_ASTARRseq_Input.all_reps.masked.union_narrowPeak.q5.bed\n",
    "KS91_K562_hg38_ASTARRseq_Input.q5.in_all.max_overlaps.bed\n",
    "```\n",
    "\n",
    "**Results: SymLinks**\n",
    "\n",
    "`PROJECT/results/region/starr_macs`\n",
    "\n",
    "```\n",
    "ASTARRseq_K562_KS91.hg38.Input.rep_all.union.q5.bed\n",
    "ASTARRseq_K562_KS91.hg38.Input.rep_all.max_overlaps.q5.bed\n",
    "```"
   ]
  },
  {
   "cell_type": "markdown",
   "id": "d864c634-65d2-4b79-b479-e309037e8204",
   "metadata": {},
   "source": [
    "**Check data**"
   ]
  },
  {
   "cell_type": "code",
   "execution_count": 17,
   "id": "62870577-ec68-4e55-bef5-343e9e1b537f",
   "metadata": {},
   "outputs": [
    {
     "name": "stdout",
     "output_type": "stream",
     "text": [
      "total 9.5M\n",
      "-rw-r--r-- 1 kk319 reddylab 5.7M Apr 10 21:46 KS91_K562_hg38_ASTARRseq_Input.all_reps.masked.union_narrowPeak.q5.bed\n",
      "-rw-r--r-- 1 kk319 reddylab 3.8M Apr 10 21:46 KS91_K562_hg38_ASTARRseq_Input.q5.in_all.max_overlaps.bed\n"
     ]
    }
   ],
   "source": [
    "FD_INP=${FD_DAT}/processed/STARR_ATAC_K562_Reddy_KS91_210401/peaks\n",
    "ls -lh ${FD_INP}"
   ]
  },
  {
   "cell_type": "code",
   "execution_count": 18,
   "id": "2c151220-d353-4210-8372-28b65cc50bf9",
   "metadata": {},
   "outputs": [
    {
     "name": "stdout",
     "output_type": "stream",
     "text": [
      "chr1\t10015\t10442\n",
      "chr1\t14253\t14645\n",
      "chr1\t16015\t16477\n",
      "chr1\t17237\t17772\n",
      "chr1\t28903\t29613\n",
      "chr1\t30803\t31072\n",
      "chr1\t101603\t101849\n",
      "chr1\t115411\t115986\n",
      "chr1\t118518\t118743\n",
      "chr1\t136071\t137429\n"
     ]
    }
   ],
   "source": [
    "FD_INP=${FD_DAT}/processed/STARR_ATAC_K562_Reddy_KS91_210401/peaks\n",
    "FN_INP=KS91_K562_hg38_ASTARRseq_Input.all_reps.masked.union_narrowPeak.q5.bed\n",
    "FP_INP=${FD_INP}/${FN_INP}\n",
    "\n",
    "cat ${FP_INP} | head"
   ]
  },
  {
   "cell_type": "code",
   "execution_count": 19,
   "id": "d2ad9922-93f8-4705-b4d3-211ecb7aa71e",
   "metadata": {},
   "outputs": [
    {
     "name": "stdout",
     "output_type": "stream",
     "text": [
      "chr1\t10038\t10405\t6\n",
      "chr1\t14282\t14614\t6\n",
      "chr1\t16025\t16338\t6\n",
      "chr1\t17288\t17689\t6\n",
      "chr1\t28934\t29499\t6\n",
      "chr1\t115429\t115969\t6\n",
      "chr1\t136201\t137353\t6\n",
      "chr1\t137748\t138049\t6\n",
      "chr1\t138321\t139517\t6\n",
      "chr1\t181005\t181854\t6\n"
     ]
    }
   ],
   "source": [
    "FD_INP=${FD_DAT}/processed/STARR_ATAC_K562_Reddy_KS91_210401/peaks\n",
    "FN_INP=KS91_K562_hg38_ASTARRseq_Input.q5.in_all.max_overlaps.bed\n",
    "FP_INP=${FD_INP}/${FN_INP}\n",
    "\n",
    "cat ${FP_INP} | head"
   ]
  },
  {
   "cell_type": "markdown",
   "id": "aef954b5-7c13-4ac2-b4a0-d81cd5edd651",
   "metadata": {},
   "source": [
    "**Execute**"
   ]
  },
  {
   "cell_type": "markdown",
   "id": "e78bec6e-0e50-4bc1-8f86-0eaf706531d0",
   "metadata": {},
   "source": [
    "Copy union peak file"
   ]
  },
  {
   "cell_type": "code",
   "execution_count": 20,
   "id": "af71fda4-cc06-4074-b1fc-3c4c5524c9d1",
   "metadata": {},
   "outputs": [
    {
     "name": "stdout",
     "output_type": "stream",
     "text": [
      "chr1\t10015\t10442\n",
      "chr1\t14253\t14645\n",
      "chr1\t16015\t16477\n",
      "chr1\t17237\t17772\n",
      "chr1\t28903\t29613\n",
      "chr1\t30803\t31072\n",
      "chr1\t101603\t101849\n",
      "chr1\t115411\t115986\n",
      "chr1\t118518\t118743\n",
      "chr1\t136071\t137429\n"
     ]
    }
   ],
   "source": [
    "FD_INP=${FD_DAT}/processed/STARR_ATAC_K562_Reddy_KS91_210401/peaks\n",
    "FN_INP=KS91_K562_hg38_ASTARRseq_Input.all_reps.masked.union_narrowPeak.q5.bed\n",
    "FP_INP=${FD_INP}/${FN_INP}\n",
    "\n",
    "FD_OUT=${FD_RES}/region/fcc_astarr_macs\n",
    "FN_OUT=ASTARRseq_K562_KS91.hg38.Input.rep_all.union.q5.bed.gz\n",
    "FP_OUT=${FD_OUT}/${FN_OUT}\n",
    "\n",
    "gzip -c ${FP_INP} > ${FP_OUT}\n",
    "zcat ${FP_OUT} | head"
   ]
  },
  {
   "cell_type": "markdown",
   "id": "1e2d950e-c76c-42e6-be81-f2f5d4e6fbae",
   "metadata": {},
   "source": [
    "Update overlap/intersect peak file"
   ]
  },
  {
   "cell_type": "code",
   "execution_count": 21,
   "id": "d8d2dccd-24e0-47a2-ad42-fb7ee03f4c86",
   "metadata": {},
   "outputs": [
    {
     "name": "stdout",
     "output_type": "stream",
     "text": [
      "chr1\t10038\t10405\n",
      "chr1\t14282\t14614\n",
      "chr1\t16025\t16338\n",
      "chr1\t17288\t17689\n",
      "chr1\t28934\t29499\n",
      "chr1\t115429\t115969\n",
      "chr1\t136201\t137353\n",
      "chr1\t137748\t138049\n",
      "chr1\t138321\t139517\n",
      "chr1\t181005\t181854\n"
     ]
    }
   ],
   "source": [
    "FD_INP=${FD_DAT}/processed/STARR_ATAC_K562_Reddy_KS91_210401/peaks\n",
    "FN_INP=KS91_K562_hg38_ASTARRseq_Input.q5.in_all.max_overlaps.bed\n",
    "FP_INP=${FD_INP}/${FN_INP}\n",
    "\n",
    "FD_OUT=${FD_RES}/region/fcc_astarr_macs\n",
    "FN_OUT=ASTARRseq_K562_KS91.hg38.Input.rep_all.max_overlaps.q5.bed.gz\n",
    "FP_OUT=${FD_OUT}/${FN_OUT}\n",
    "\n",
    "cat ${FP_INP} | cut -f1-3 | gzip -c > ${FP_OUT}\n",
    "zcat ${FP_OUT} | head"
   ]
  },
  {
   "cell_type": "markdown",
   "id": "d0967428-44b5-4ced-9afa-5e497f75c76e",
   "metadata": {},
   "source": [
    "Create metadata"
   ]
  },
  {
   "cell_type": "code",
   "execution_count": 22,
   "id": "f46513c0-d628-41f6-b7e0-1096f3744bec",
   "metadata": {},
   "outputs": [
    {
     "name": "stdout",
     "output_type": "stream",
     "text": [
      "Name           Note\n",
      "Chrom          Name of the chromosome\n",
      "ChromStart     The starting position of the feature in the chromosome\n",
      "ChromEnd       The ending position of the feature in the chromosome\n"
     ]
    }
   ],
   "source": [
    "TAB=\"$(printf '\\t')\"\n",
    "\n",
    "FD_OUT=${FD_RES}/region/fcc_astarr_macs\n",
    "FN_OUT=description.tsv\n",
    "FP_OUT=${FD_OUT}/${FN_OUT}\n",
    "\n",
    "cat > ${FP_OUT} << EOF\n",
    "Name${TAB}Note\n",
    "Chrom${TAB}Name of the chromosome\n",
    "ChromStart${TAB}The starting position of the feature in the chromosome\n",
    "ChromEnd${TAB}The ending position of the feature in the chromosome\n",
    "EOF\n",
    "\n",
    "cat ${FP_OUT} | expand -t 15"
   ]
  },
  {
   "cell_type": "markdown",
   "id": "8bee51a4-d5fa-4dbc-a8b8-63f52cff61e4",
   "metadata": {},
   "source": [
    "**Check results**"
   ]
  },
  {
   "cell_type": "code",
   "execution_count": 23,
   "id": "e0f05d61-6ae5-4da6-af45-3a274731ff6b",
   "metadata": {},
   "outputs": [
    {
     "name": "stdout",
     "output_type": "stream",
     "text": [
      "total 512\n",
      "-rw-rw-r-- 1 kk319 reddylab 1.2M Apr 10 22:06 \u001b[0m\u001b[38;5;9mASTARRseq_K562_KS91.hg38.Input.rep_all.max_overlaps.q5.bed.gz\u001b[0m\n",
      "-rw-rw-r-- 1 kk319 reddylab 2.0M Apr 10 22:06 \u001b[38;5;9mASTARRseq_K562_KS91.hg38.Input.rep_all.union.q5.bed.gz\u001b[0m\n",
      "-rw-rw-r-- 1 kk319 reddylab  167 Apr 10 22:06 description.tsv\n"
     ]
    }
   ],
   "source": [
    "FD_OUT=${FD_RES}/region/fcc_astarr_macs\n",
    "ls -lh ${FD_OUT}"
   ]
  },
  {
   "cell_type": "markdown",
   "id": "4f577ccc-d34a-4849-ab54-68f746fa90cc",
   "metadata": {},
   "source": [
    "## Copy ATAC peaks to `reference` folder"
   ]
  },
  {
   "cell_type": "code",
   "execution_count": 24,
   "id": "489a0f16-0c98-4c3c-b8a9-7f79f6edcd45",
   "metadata": {},
   "outputs": [],
   "source": [
    "FD_OUT=${FD_RES}/region/fcc_astarr_macs\n",
    "FN_OUT=ASTARRseq_K562_KS91.hg38.Input.rep_all.union.q5.bed.gz\n",
    "FP_OUT=${FD_OUT}/${FN_OUT}\n",
    "\n",
    "FD_REF=${FD_PRJ}/references/fcc_peak_call_atac\n",
    "FN_REF=STARRseq_ATAC.K562.TR.hg38.Input.rep_all.union.q5.bed.gz\n",
    "FP_REF=${FD_REF}/${FN_REF}\n",
    "\n",
    "cp ${FP_OUT} ${FP_REF}"
   ]
  },
  {
   "cell_type": "code",
   "execution_count": 25,
   "id": "03c57e01-1bb8-4b66-87f7-c09c626b0c35",
   "metadata": {},
   "outputs": [],
   "source": [
    "FD_OUT=${FD_RES}/region/fcc_astarr_macs\n",
    "FN_OUT=ASTARRseq_K562_KS91.hg38.Input.rep_all.max_overlaps.q5.bed.gz\n",
    "FP_OUT=${FD_OUT}/${FN_OUT}\n",
    "\n",
    "FD_REF=${FD_PRJ}/references/fcc_peak_call_atac\n",
    "FN_REF=STARRseq_ATAC.K562.TR.hg38.Input.rep_all.max_overlaps.q5.bed.gz\n",
    "FP_REF=${FD_REF}/${FN_REF}\n",
    "\n",
    "cp ${FP_OUT} ${FP_REF}"
   ]
  },
  {
   "cell_type": "code",
   "execution_count": 26,
   "id": "5a901600-ddb4-4a1e-a773-d3f6214e37cc",
   "metadata": {},
   "outputs": [
    {
     "name": "stdout",
     "output_type": "stream",
     "text": [
      "total 2.0M\n",
      "-rw-rw-r-- 1 kk319 reddylab 1.2M Apr 10 22:06 \u001b[0m\u001b[38;5;9mSTARRseq_ATAC.K562.TR.hg38.Input.rep_all.max_overlaps.q5.bed.gz\u001b[0m\u001b[K\n",
      "-rw-rw-r-- 1 kk319 reddylab 2.0M Apr 10 22:06 \u001b[38;5;9mSTARRseq_ATAC.K562.TR.hg38.Input.rep_all.union.q5.bed.gz\u001b[0m\n"
     ]
    }
   ],
   "source": [
    "ls -lh ${FD_PRJ}/references/fcc_peak_call_atac"
   ]
  }
 ],
 "metadata": {
  "kernelspec": {
   "display_name": "Bash",
   "language": "bash",
   "name": "bash"
  },
  "language_info": {
   "codemirror_mode": "shell",
   "file_extension": ".sh",
   "mimetype": "text/x-sh",
   "name": "bash"
  }
 },
 "nbformat": 4,
 "nbformat_minor": 5
}
