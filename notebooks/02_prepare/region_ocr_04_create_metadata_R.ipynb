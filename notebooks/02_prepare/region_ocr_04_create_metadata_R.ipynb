{
 "cells": [
  {
   "cell_type": "raw",
   "id": "be53188d-b74a-4c77-89f5-343a581f4bdc",
   "metadata": {},
   "source": [
    "---\n",
    "title: Prepare ENCODE ATAC/DNase Peaks 04\n",
    "subtitle: Generate metadata for the peak file\n",
    "format:\n",
    "    html:\n",
    "        code-fold:  true\n",
    "        code-tools: true\n",
    "---"
   ]
  },
  {
   "cell_type": "markdown",
   "id": "04829e66-73bc-4301-8bf2-1ddada26d90f",
   "metadata": {},
   "source": [
    "**Set environment**"
   ]
  },
  {
   "cell_type": "code",
   "execution_count": 1,
   "id": "74002c88-c268-4dc8-9f4d-d33e81cd680b",
   "metadata": {},
   "outputs": [
    {
     "name": "stdout",
     "output_type": "stream",
     "text": [
      "You are working on        Singularity \n",
      "BASE DIRECTORY (FD_BASE): /mount \n",
      "REPO DIRECTORY (FD_REPO): /mount/repo \n",
      "WORK DIRECTORY (FD_WORK): /mount/work \n",
      "DATA DIRECTORY (FD_DATA): /mount/data \n",
      "\n",
      "You are working with      ENCODE FCC \n",
      "PATH OF PROJECT (FD_PRJ): /mount/repo/Proj_ENCODE_FCC \n",
      "PROJECT RESULTS (FD_RES): /mount/repo/Proj_ENCODE_FCC/results \n",
      "PROJECT SCRIPTS (FD_EXE): /mount/repo/Proj_ENCODE_FCC/scripts \n",
      "PROJECT DATA    (FD_DAT): /mount/repo/Proj_ENCODE_FCC/data \n",
      "PROJECT NOTE    (FD_NBK): /mount/repo/Proj_ENCODE_FCC/notebooks \n",
      "PROJECT DOCS    (FD_DOC): /mount/repo/Proj_ENCODE_FCC/docs \n",
      "PROJECT LOG     (FD_LOG): /mount/repo/Proj_ENCODE_FCC/log \n",
      "PROJECT APP     (FD_APP): /mount/repo/Proj_ENCODE_FCC/app \n",
      "PROJECT REF     (FD_REF): /mount/repo/Proj_ENCODE_FCC/references \n",
      "\n"
     ]
    }
   ],
   "source": [
    "suppressMessages(suppressWarnings(source(\"../run_config_project_sing.R\")))\n",
    "show_env()"
   ]
  },
  {
   "cell_type": "markdown",
   "id": "2e84cedc-e3c5-4df4-9021-f9008fb4b7ba",
   "metadata": {},
   "source": [
    "**Set global variables**"
   ]
  },
  {
   "cell_type": "code",
   "execution_count": 2,
   "id": "e2562054-7785-4e17-879f-2805a8b507e5",
   "metadata": {},
   "outputs": [],
   "source": [
    "TXT_REGION_FOLDER = \"encode_open_chromatin\""
   ]
  },
  {
   "cell_type": "markdown",
   "id": "91a7c029-3ed7-47cd-a39b-c2a9ed869dc5",
   "metadata": {},
   "source": [
    "## Define column description\n",
    "The peak file is in narrowPeak format, which is a standard six field bed with four additional fields (BED6+4 format)"
   ]
  },
  {
   "cell_type": "code",
   "execution_count": 7,
   "id": "761bc9da-1fb1-44ff-b9cf-e173e369ad4d",
   "metadata": {},
   "outputs": [
    {
     "data": {
      "text/html": [
       "<table>\n",
       " <thead>\n",
       "  <tr>\n",
       "   <th style=\"text-align:left;\"> Name </th>\n",
       "   <th style=\"text-align:left;\"> Note </th>\n",
       "  </tr>\n",
       " </thead>\n",
       "<tbody>\n",
       "  <tr>\n",
       "   <td style=\"text-align:left;\"> Chrom </td>\n",
       "   <td style=\"text-align:left;\"> Name of the chromosome </td>\n",
       "  </tr>\n",
       "  <tr>\n",
       "   <td style=\"text-align:left;\"> ChromStart </td>\n",
       "   <td style=\"text-align:left;\"> The starting position of the feature in the chromosome </td>\n",
       "  </tr>\n",
       "  <tr>\n",
       "   <td style=\"text-align:left;\"> ChromEnd </td>\n",
       "   <td style=\"text-align:left;\"> The ending position of the feature in the chromosome </td>\n",
       "  </tr>\n",
       "  <tr>\n",
       "   <td style=\"text-align:left;\"> Name </td>\n",
       "   <td style=\"text-align:left;\"> Name given to a region; Use '.' if no name is assigned. </td>\n",
       "  </tr>\n",
       "  <tr>\n",
       "   <td style=\"text-align:left;\"> Score </td>\n",
       "   <td style=\"text-align:left;\"> Indicates how dark the peak will be displayed in the browser (0-1000). </td>\n",
       "  </tr>\n",
       "  <tr>\n",
       "   <td style=\"text-align:left;\"> Strand </td>\n",
       "   <td style=\"text-align:left;\"> +/- to denote strand or orientation. Use '.' if no orientation is assigned. </td>\n",
       "  </tr>\n",
       "  <tr>\n",
       "   <td style=\"text-align:left;\"> SignalValue </td>\n",
       "   <td style=\"text-align:left;\"> Measurement of overall (usually, average) enrichment for the region. </td>\n",
       "  </tr>\n",
       "  <tr>\n",
       "   <td style=\"text-align:left;\"> PValue </td>\n",
       "   <td style=\"text-align:left;\"> Measurement of statistical significance (-log10). Use -1 if no pValue is assigned. </td>\n",
       "  </tr>\n",
       "  <tr>\n",
       "   <td style=\"text-align:left;\"> QValue </td>\n",
       "   <td style=\"text-align:left;\"> Measurement of statistical significance using false discovery rate (-log10). Use -1 if no qValue is assigned. </td>\n",
       "  </tr>\n",
       "  <tr>\n",
       "   <td style=\"text-align:left;\"> Peak </td>\n",
       "   <td style=\"text-align:left;\"> Point-source called for this peak; 0-based offset from chromStart. Use -1 if no point-source called. </td>\n",
       "  </tr>\n",
       "</tbody>\n",
       "</table>"
      ]
     },
     "metadata": {},
     "output_type": "display_data"
    }
   ],
   "source": [
    "### ENCODE narrowPeak: Narrow (or Point-Source) Peaks format\n",
    "dat = tribble(\n",
    "    ~Name,        ~Note,\n",
    "    \"Chrom\",      \"Name of the chromosome\",\n",
    "    \"ChromStart\", \"The starting position of the feature in the chromosome\",\n",
    "    \"ChromEnd\",   \"The ending position of the feature in the chromosome\",\n",
    "    \"Name\",       \"Name given to a region; Use '.' if no name is assigned.\",\n",
    "    \"Score\",      \"Indicates how dark the peak will be displayed in the browser (0-1000).\",\n",
    "    \"Strand\",     \"+/- to denote strand or orientation. Use '.' if no orientation is assigned.\",\n",
    "    \"SignalValue\",\"Measurement of overall (usually, average) enrichment for the region.\",\n",
    "    \"PValue\",     \"Measurement of statistical significance (-log10). Use -1 if no pValue is assigned.\",\n",
    "    \"QValue\",     \"Measurement of statistical significance using false discovery rate (-log10). Use -1 if no qValue is assigned.\",\n",
    "    \"Peak\",       \"Point-source called for this peak; 0-based offset from chromStart. Use -1 if no point-source called.\"\n",
    "    \n",
    ")\n",
    "\n",
    "### assign and show\n",
    "dat_cnames = dat\n",
    "fun_display_table(dat)"
   ]
  },
  {
   "cell_type": "markdown",
   "id": "10866718-578f-4b5b-b04b-cd80fc2cb490",
   "metadata": {},
   "source": [
    "## Define file labeling"
   ]
  },
  {
   "cell_type": "code",
   "execution_count": 8,
   "id": "2931e7b4-b9c7-47b9-8244-ab3759471ed0",
   "metadata": {},
   "outputs": [
    {
     "data": {
      "text/html": [
       "<table>\n",
       " <thead>\n",
       "  <tr>\n",
       "   <th style=\"text-align:left;\"> Folder </th>\n",
       "   <th style=\"text-align:left;\"> FName </th>\n",
       "   <th style=\"text-align:left;\"> Label </th>\n",
       "  </tr>\n",
       " </thead>\n",
       "<tbody>\n",
       "  <tr>\n",
       "   <td style=\"text-align:left;\"> encode_open_chromatin </td>\n",
       "   <td style=\"text-align:left;\"> K562.hg38.ENCSR000EKS.ENCFF274YGF.DNase.bed.gz </td>\n",
       "   <td style=\"text-align:left;\"> DNase_ENCFF274YGF </td>\n",
       "  </tr>\n",
       "  <tr>\n",
       "   <td style=\"text-align:left;\"> encode_open_chromatin </td>\n",
       "   <td style=\"text-align:left;\"> K562.hg38.ENCSR000EOT.ENCFF185XRG.DNase.bed.gz </td>\n",
       "   <td style=\"text-align:left;\"> DNase_ENCFF185XRG </td>\n",
       "  </tr>\n",
       "  <tr>\n",
       "   <td style=\"text-align:left;\"> encode_open_chromatin </td>\n",
       "   <td style=\"text-align:left;\"> K562.hg38.ENCSR483RKN.ENCFF558BLC.ATAC.bed.gz </td>\n",
       "   <td style=\"text-align:left;\"> ATAC_ENCFF558BLC </td>\n",
       "  </tr>\n",
       "  <tr>\n",
       "   <td style=\"text-align:left;\"> encode_open_chromatin </td>\n",
       "   <td style=\"text-align:left;\"> K562.hg38.ENCSR483RKN.ENCFF925CYR.ATAC.bed.gz </td>\n",
       "   <td style=\"text-align:left;\"> ATAC_ENCFF925CYR </td>\n",
       "  </tr>\n",
       "  <tr>\n",
       "   <td style=\"text-align:left;\"> encode_open_chromatin </td>\n",
       "   <td style=\"text-align:left;\"> K562.hg38.ENCSR868FGK.ENCFF333TAT.ATAC.bed.gz </td>\n",
       "   <td style=\"text-align:left;\"> ATAC_ENCFF333TAT </td>\n",
       "  </tr>\n",
       "  <tr>\n",
       "   <td style=\"text-align:left;\"> encode_open_chromatin </td>\n",
       "   <td style=\"text-align:left;\"> K562.hg38.ENCSR868FGK.ENCFF948AFM.ATAC.bed.gz </td>\n",
       "   <td style=\"text-align:left;\"> ATAC_ENCFF948AFM </td>\n",
       "  </tr>\n",
       "</tbody>\n",
       "</table>"
      ]
     },
     "metadata": {},
     "output_type": "display_data"
    }
   ],
   "source": [
    "### set directory\n",
    "txt_folder = TXT_REGION_FOLDER\n",
    "txt_fdiry  = file.path(FD_RES, \"region\", txt_folder)\n",
    "txt_fglob  = file.path(txt_fdiry, \"*bed*\")\n",
    "\n",
    "### get file names\n",
    "vec_txt_fpath = Sys.glob(txt_fglob)\n",
    "vec_txt_fname = basename(vec_txt_fpath)\n",
    "\n",
    "### init info table\n",
    "dat = data.frame(\n",
    "    \"Folder\" = txt_folder,\n",
    "    \"FName\"  = vec_txt_fname\n",
    ")\n",
    "\n",
    "### arrange table\n",
    "dat = dat %>% tidyr::separate(\n",
    "        FName, \n",
    "        c(\"Biosample\", \"Genome\", \"Index_Experiment\", \"Index_File\", \"Assay\", \"File_Type\", \"File_Ext\"),\n",
    "        sep = \"\\\\.\",\n",
    "        remove = FALSE\n",
    "    ) %>%\n",
    "    dplyr::mutate(Label = paste(Assay, Index_File, sep=\"_\")) %>%\n",
    "    dplyr::select(Folder, FName, Label) \n",
    "\n",
    "### assign and show\n",
    "dat_region_label = dat\n",
    "fun_display_table(dat)"
   ]
  },
  {
   "cell_type": "markdown",
   "id": "41f8f286-e30b-4a4a-8ec4-9a3330dadba6",
   "metadata": {},
   "source": [
    "## Save results"
   ]
  },
  {
   "cell_type": "code",
   "execution_count": 12,
   "id": "fc2fc814-72ce-42ee-8cde-de40802ba8a7",
   "metadata": {},
   "outputs": [],
   "source": [
    "txt_folder = TXT_REGION_FOLDER\n",
    "txt_fdiry  = file.path(FD_RES, \"region\", txt_folder, \"summary\")\n",
    "txt_fname  = \"description.tsv\"\n",
    "txt_fpath  = file.path(txt_fdiry, txt_fname)\n",
    "\n",
    "dir.create(txt_fdiry, showWarnings = FALSE)\n",
    "dat = dat_cnames\n",
    "write_tsv(dat, txt_fpath)"
   ]
  },
  {
   "cell_type": "code",
   "execution_count": 13,
   "id": "33317d4e-5890-4610-b73e-304a70eb2c3a",
   "metadata": {},
   "outputs": [],
   "source": [
    "txt_folder = TXT_REGION_FOLDER\n",
    "txt_fdiry  = file.path(FD_RES, \"region\", txt_folder, \"summary\")\n",
    "txt_fname  = \"metadata_region_label.tsv\"\n",
    "txt_fpath  = file.path(txt_fdiry, txt_fname)\n",
    "\n",
    "dir.create(txt_fdiry, showWarnings = FALSE)\n",
    "dat = dat_region_label\n",
    "write_tsv(dat, txt_fpath)"
   ]
  },
  {
   "cell_type": "code",
   "execution_count": null,
   "id": "47ca7afa-671b-4777-90a6-896e264704b2",
   "metadata": {},
   "outputs": [],
   "source": []
  }
 ],
 "metadata": {
  "kernelspec": {
   "display_name": "R",
   "language": "R",
   "name": "ir"
  },
  "language_info": {
   "codemirror_mode": "r",
   "file_extension": ".r",
   "mimetype": "text/x-r-source",
   "name": "R",
   "pygments_lexer": "r",
   "version": "4.3.3"
  }
 },
 "nbformat": 4,
 "nbformat_minor": 5
}
