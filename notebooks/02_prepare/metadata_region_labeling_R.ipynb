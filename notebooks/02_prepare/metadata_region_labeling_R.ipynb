{
 "cells": [
  {
   "cell_type": "raw",
   "id": "a809cd43-2f44-4ff5-821d-e378c3272147",
   "metadata": {},
   "source": [
    "---\n",
    "title: Prepare Tiling MPRA data 04\n",
    "subtitle: Covert count matrix to bed format\n",
    "format:\n",
    "    html:\n",
    "        code-fold:  true\n",
    "        code-tools: true\r\n",
    "---"
   ]
  },
  {
   "cell_type": "markdown",
   "id": "029df934-4866-4db3-bc88-bd629d870a63",
   "metadata": {},
   "source": [
    "**Set environment**"
   ]
  },
  {
   "cell_type": "code",
   "execution_count": 1,
   "id": "19559128-af3a-404f-b592-e1cfdc790f14",
   "metadata": {},
   "outputs": [
    {
     "name": "stdout",
     "output_type": "stream",
     "text": [
      "You are working on        Singularity \n",
      "BASE DIRECTORY (FD_BASE): /mount \n",
      "REPO DIRECTORY (FD_REPO): /mount/repo \n",
      "WORK DIRECTORY (FD_WORK): /mount/work \n",
      "DATA DIRECTORY (FD_DATA): /mount/data \n",
      "\n",
      "You are working with      ENCODE FCC \n",
      "PATH OF PROJECT (FD_PRJ): /mount/repo/Proj_CombEffect_ENCODE_FCC \n",
      "PROJECT RESULTS (FD_RES): /mount/repo/Proj_CombEffect_ENCODE_FCC/results \n",
      "PROJECT SCRIPTS (FD_EXE): /mount/repo/Proj_CombEffect_ENCODE_FCC/scripts \n",
      "PROJECT DATA    (FD_DAT): /mount/repo/Proj_CombEffect_ENCODE_FCC/data \n",
      "PROJECT NOTE    (FD_NBK): /mount/repo/Proj_CombEffect_ENCODE_FCC/notebooks \n",
      "PROJECT DOCS    (FD_DOC): /mount/repo/Proj_CombEffect_ENCODE_FCC/docs \n",
      "PROJECT LOG     (FD_LOG): /mount/repo/Proj_CombEffect_ENCODE_FCC/log \n",
      "PROJECT APP     (FD_APP): /mount/repo/Proj_CombEffect_ENCODE_FCC/app \n",
      "PROJECT REF     (FD_REF): /mount/repo/Proj_CombEffect_ENCODE_FCC/references \n",
      "\n"
     ]
    }
   ],
   "source": [
    "suppressMessages(suppressWarnings(source(\"../run_config_project_sing.R\")))\n",
    "show_env()"
   ]
  },
  {
   "cell_type": "code",
   "execution_count": 3,
   "id": "5f26eca1-0b7a-49e2-86b8-ee45427ad324",
   "metadata": {},
   "outputs": [
    {
     "data": {
      "text/html": [
       "<style>\n",
       ".list-inline {list-style: none; margin:0; padding: 0}\n",
       ".list-inline>li {display: inline-block}\n",
       ".list-inline>li:not(:last-child)::after {content: \"\\00b7\"; padding: 0 .5ex}\n",
       "</style>\n",
       "<ol class=list-inline><li>'encode_ccres'</li><li>'encode_ccres_silencer'</li><li>'encode_chipseq_tf_subset'</li><li>'encode_chromhmm'</li><li>'encode_open_chromatin'</li><li>'fcc_astarr_macs'</li><li>'starr_csaw'</li></ol>\n"
      ],
      "text/latex": [
       "\\begin{enumerate*}\n",
       "\\item 'encode\\_ccres'\n",
       "\\item 'encode\\_ccres\\_silencer'\n",
       "\\item 'encode\\_chipseq\\_tf\\_subset'\n",
       "\\item 'encode\\_chromhmm'\n",
       "\\item 'encode\\_open\\_chromatin'\n",
       "\\item 'fcc\\_astarr\\_macs'\n",
       "\\item 'starr\\_csaw'\n",
       "\\end{enumerate*}\n"
      ],
      "text/markdown": [
       "1. 'encode_ccres'\n",
       "2. 'encode_ccres_silencer'\n",
       "3. 'encode_chipseq_tf_subset'\n",
       "4. 'encode_chromhmm'\n",
       "5. 'encode_open_chromatin'\n",
       "6. 'fcc_astarr_macs'\n",
       "7. 'starr_csaw'\n",
       "\n",
       "\n"
      ],
      "text/plain": [
       "[1] \"encode_ccres\"             \"encode_ccres_silencer\"   \n",
       "[3] \"encode_chipseq_tf_subset\" \"encode_chromhmm\"         \n",
       "[5] \"encode_open_chromatin\"    \"fcc_astarr_macs\"         \n",
       "[7] \"starr_csaw\"              "
      ]
     },
     "metadata": {},
     "output_type": "display_data"
    }
   ],
   "source": [
    "txt_fdiry = file.path(FD_RES, \"region\")\n",
    "\n",
    "dir(txt_fdiry)"
   ]
  },
  {
   "cell_type": "code",
   "execution_count": 32,
   "id": "95b4fa76-9ce8-44b6-99c5-92a1b2f9749f",
   "metadata": {},
   "outputs": [],
   "source": [
    "vec_txt_folder = c(\"encode_open_chromatin\", \"fcc_astarr_macs\")\n",
    "\n",
    "lst = lapply(vec_txt_folder, function(txt_folder){\n",
    "    ###\n",
    "    txt_fdiry = file.path(FD_RES, \"region\", txt_folder)\n",
    "    txt_fglob = file.path(txt_fdiry, \"*bed*\")\n",
    "    \n",
    "    vec_txt_fpath = Sys.glob(txt_fglob)\n",
    "    vec_txt_fname = basename(vec_txt_fpath)\n",
    "\n",
    "    dat = data.frame(\n",
    "        \"Folder\" = txt_folder,\n",
    "        \"FName\"  = vec_txt_fname\n",
    "    )\n",
    "    return(dat)\n",
    "})\n",
    "\n",
    "lst_dat_region = lst"
   ]
  },
  {
   "cell_type": "code",
   "execution_count": 24,
   "id": "45e9c485-d9f0-4634-a8e3-a10aaf63c29c",
   "metadata": {},
   "outputs": [
    {
     "data": {
      "text/html": [
       "<ol>\n",
       "\t<li><table class=\"dataframe\">\n",
       "<caption>A data.frame: 6 × 2</caption>\n",
       "<thead>\n",
       "\t<tr><th scope=col>Folder</th><th scope=col>FName</th></tr>\n",
       "\t<tr><th scope=col>&lt;chr&gt;</th><th scope=col>&lt;chr&gt;</th></tr>\n",
       "</thead>\n",
       "<tbody>\n",
       "\t<tr><td>encode_open_chromatin</td><td>K562.hg38.ENCSR000EKS.ENCFF274YGF.DNase.bed.gz</td></tr>\n",
       "\t<tr><td>encode_open_chromatin</td><td>K562.hg38.ENCSR000EOT.ENCFF185XRG.DNase.bed.gz</td></tr>\n",
       "\t<tr><td>encode_open_chromatin</td><td>K562.hg38.ENCSR483RKN.ENCFF558BLC.ATAC.bed.gz </td></tr>\n",
       "\t<tr><td>encode_open_chromatin</td><td>K562.hg38.ENCSR483RKN.ENCFF925CYR.ATAC.bed.gz </td></tr>\n",
       "\t<tr><td>encode_open_chromatin</td><td>K562.hg38.ENCSR868FGK.ENCFF333TAT.ATAC.bed.gz </td></tr>\n",
       "\t<tr><td>encode_open_chromatin</td><td>K562.hg38.ENCSR868FGK.ENCFF948AFM.ATAC.bed.gz </td></tr>\n",
       "</tbody>\n",
       "</table>\n",
       "</li>\n",
       "</ol>\n"
      ],
      "text/latex": [
       "\\begin{enumerate}\n",
       "\\item A data.frame: 6 × 2\n",
       "\\begin{tabular}{ll}\n",
       " Folder & FName\\\\\n",
       " <chr> & <chr>\\\\\n",
       "\\hline\n",
       "\t encode\\_open\\_chromatin & K562.hg38.ENCSR000EKS.ENCFF274YGF.DNase.bed.gz\\\\\n",
       "\t encode\\_open\\_chromatin & K562.hg38.ENCSR000EOT.ENCFF185XRG.DNase.bed.gz\\\\\n",
       "\t encode\\_open\\_chromatin & K562.hg38.ENCSR483RKN.ENCFF558BLC.ATAC.bed.gz \\\\\n",
       "\t encode\\_open\\_chromatin & K562.hg38.ENCSR483RKN.ENCFF925CYR.ATAC.bed.gz \\\\\n",
       "\t encode\\_open\\_chromatin & K562.hg38.ENCSR868FGK.ENCFF333TAT.ATAC.bed.gz \\\\\n",
       "\t encode\\_open\\_chromatin & K562.hg38.ENCSR868FGK.ENCFF948AFM.ATAC.bed.gz \\\\\n",
       "\\end{tabular}\n",
       "\n",
       "\\end{enumerate}\n"
      ],
      "text/markdown": [
       "1. \n",
       "A data.frame: 6 × 2\n",
       "\n",
       "| Folder &lt;chr&gt; | FName &lt;chr&gt; |\n",
       "|---|---|\n",
       "| encode_open_chromatin | K562.hg38.ENCSR000EKS.ENCFF274YGF.DNase.bed.gz |\n",
       "| encode_open_chromatin | K562.hg38.ENCSR000EOT.ENCFF185XRG.DNase.bed.gz |\n",
       "| encode_open_chromatin | K562.hg38.ENCSR483RKN.ENCFF558BLC.ATAC.bed.gz  |\n",
       "| encode_open_chromatin | K562.hg38.ENCSR483RKN.ENCFF925CYR.ATAC.bed.gz  |\n",
       "| encode_open_chromatin | K562.hg38.ENCSR868FGK.ENCFF333TAT.ATAC.bed.gz  |\n",
       "| encode_open_chromatin | K562.hg38.ENCSR868FGK.ENCFF948AFM.ATAC.bed.gz  |\n",
       "\n",
       "\n",
       "\n",
       "\n"
      ],
      "text/plain": [
       "[[1]]\n",
       "                 Folder                                          FName\n",
       "1 encode_open_chromatin K562.hg38.ENCSR000EKS.ENCFF274YGF.DNase.bed.gz\n",
       "2 encode_open_chromatin K562.hg38.ENCSR000EOT.ENCFF185XRG.DNase.bed.gz\n",
       "3 encode_open_chromatin  K562.hg38.ENCSR483RKN.ENCFF558BLC.ATAC.bed.gz\n",
       "4 encode_open_chromatin  K562.hg38.ENCSR483RKN.ENCFF925CYR.ATAC.bed.gz\n",
       "5 encode_open_chromatin  K562.hg38.ENCSR868FGK.ENCFF333TAT.ATAC.bed.gz\n",
       "6 encode_open_chromatin  K562.hg38.ENCSR868FGK.ENCFF948AFM.ATAC.bed.gz\n"
      ]
     },
     "metadata": {},
     "output_type": "display_data"
    }
   ],
   "source": [
    "lst[1]"
   ]
  },
  {
   "cell_type": "code",
   "execution_count": 41,
   "id": "6e162661-8caf-4d3e-b63d-1e67b2a4a22a",
   "metadata": {},
   "outputs": [
    {
     "data": {
      "text/html": [
       "<table>\n",
       " <thead>\n",
       "  <tr>\n",
       "   <th style=\"text-align:left;\"> Folder </th>\n",
       "   <th style=\"text-align:left;\"> FName </th>\n",
       "   <th style=\"text-align:left;\"> Label </th>\n",
       "  </tr>\n",
       " </thead>\n",
       "<tbody>\n",
       "  <tr>\n",
       "   <td style=\"text-align:left;\"> encode_open_chromatin </td>\n",
       "   <td style=\"text-align:left;\"> K562.hg38.ENCSR000EKS.ENCFF274YGF.DNase.bed.gz </td>\n",
       "   <td style=\"text-align:left;\"> dnase_ENCFF274YGF </td>\n",
       "  </tr>\n",
       "  <tr>\n",
       "   <td style=\"text-align:left;\"> encode_open_chromatin </td>\n",
       "   <td style=\"text-align:left;\"> K562.hg38.ENCSR000EOT.ENCFF185XRG.DNase.bed.gz </td>\n",
       "   <td style=\"text-align:left;\"> dnase_ENCFF185XRG </td>\n",
       "  </tr>\n",
       "  <tr>\n",
       "   <td style=\"text-align:left;\"> encode_open_chromatin </td>\n",
       "   <td style=\"text-align:left;\"> K562.hg38.ENCSR483RKN.ENCFF558BLC.ATAC.bed.gz </td>\n",
       "   <td style=\"text-align:left;\"> atac_ENCFF558BLC </td>\n",
       "  </tr>\n",
       "  <tr>\n",
       "   <td style=\"text-align:left;\"> encode_open_chromatin </td>\n",
       "   <td style=\"text-align:left;\"> K562.hg38.ENCSR483RKN.ENCFF925CYR.ATAC.bed.gz </td>\n",
       "   <td style=\"text-align:left;\"> atac_ENCFF925CYR </td>\n",
       "  </tr>\n",
       "  <tr>\n",
       "   <td style=\"text-align:left;\"> encode_open_chromatin </td>\n",
       "   <td style=\"text-align:left;\"> K562.hg38.ENCSR868FGK.ENCFF333TAT.ATAC.bed.gz </td>\n",
       "   <td style=\"text-align:left;\"> atac_ENCFF333TAT </td>\n",
       "  </tr>\n",
       "  <tr>\n",
       "   <td style=\"text-align:left;\"> encode_open_chromatin </td>\n",
       "   <td style=\"text-align:left;\"> K562.hg38.ENCSR868FGK.ENCFF948AFM.ATAC.bed.gz </td>\n",
       "   <td style=\"text-align:left;\"> atac_ENCFF948AFM </td>\n",
       "  </tr>\n",
       "  <tr>\n",
       "   <td style=\"text-align:left;\"> fcc_astarr_macs </td>\n",
       "   <td style=\"text-align:left;\"> ASTARRseq_K562_KS91.hg38.Input.rep_all.max_overlaps.q5.bed </td>\n",
       "   <td style=\"text-align:left;\"> astarr_macs_input_overlap </td>\n",
       "  </tr>\n",
       "  <tr>\n",
       "   <td style=\"text-align:left;\"> fcc_astarr_macs </td>\n",
       "   <td style=\"text-align:left;\"> ASTARRseq_K562_KS91.hg38.Input.rep_all.union.q5.bed </td>\n",
       "   <td style=\"text-align:left;\"> astarr_macs_input_union </td>\n",
       "  </tr>\n",
       "</tbody>\n",
       "</table>"
      ]
     },
     "metadata": {},
     "output_type": "display_data"
    }
   ],
   "source": [
    "lst = lst_dat_region \n",
    "\n",
    "lst[[1]] = lst[[1]] %>% \n",
    "    tidyr::separate(\n",
    "        FName, \n",
    "        c(\"Biosample\", \"Genome\", \"Index_Experiment\", \"Index_File\", \"Label\", \"File_Type\", \"File_Ext\"), \n",
    "        sep = \"\\\\.\",\n",
    "        remove = FALSE\n",
    "    ) %>%\n",
    "    dplyr::mutate(Label = paste(tolower(Label), Index_File, sep=\"_\")) %>%\n",
    "    dplyr::select(Folder, FName, Label) \n",
    "\n",
    "vec = c(\"astarr_macs_input_overlap\", \"astarr_macs_input_union\")\n",
    "lst[[2]] = lst[[2]] %>% dplyr::mutate(Label = vec)\n",
    "\n",
    "dat = bind_rows(lst)\n",
    "#dat = dat %>%\n",
    "#    dplyr::mutate(Output = paste(\"coverage\", Label, sep=\"_\")) %>%\n",
    "#    dplyr::select(Folder, FName, Output) \n",
    "\n",
    "dat_region_label = dat\n",
    "fun_display_table(dat)"
   ]
  },
  {
   "cell_type": "code",
   "execution_count": 42,
   "id": "4597adb9-86ab-41d1-8ebd-67102064e68a",
   "metadata": {},
   "outputs": [
    {
     "data": {
      "text/html": [
       "<style>\n",
       ".list-inline {list-style: none; margin:0; padding: 0}\n",
       ".list-inline>li {display: inline-block}\n",
       ".list-inline>li:not(:last-child)::after {content: \"\\00b7\"; padding: 0 .5ex}\n",
       "</style>\n",
       "<ol class=list-inline><li>'encode_ccres'</li><li>'encode_ccres_silencer'</li><li>'encode_chipseq_tf_subset'</li><li>'encode_chromhmm'</li><li>'encode_open_chromatin'</li><li>'fcc_astarr_csaw'</li><li>'fcc_astarr_macs'</li><li>'summary'</li></ol>\n"
      ],
      "text/latex": [
       "\\begin{enumerate*}\n",
       "\\item 'encode\\_ccres'\n",
       "\\item 'encode\\_ccres\\_silencer'\n",
       "\\item 'encode\\_chipseq\\_tf\\_subset'\n",
       "\\item 'encode\\_chromhmm'\n",
       "\\item 'encode\\_open\\_chromatin'\n",
       "\\item 'fcc\\_astarr\\_csaw'\n",
       "\\item 'fcc\\_astarr\\_macs'\n",
       "\\item 'summary'\n",
       "\\end{enumerate*}\n"
      ],
      "text/markdown": [
       "1. 'encode_ccres'\n",
       "2. 'encode_ccres_silencer'\n",
       "3. 'encode_chipseq_tf_subset'\n",
       "4. 'encode_chromhmm'\n",
       "5. 'encode_open_chromatin'\n",
       "6. 'fcc_astarr_csaw'\n",
       "7. 'fcc_astarr_macs'\n",
       "8. 'summary'\n",
       "\n",
       "\n"
      ],
      "text/plain": [
       "[1] \"encode_ccres\"             \"encode_ccres_silencer\"   \n",
       "[3] \"encode_chipseq_tf_subset\" \"encode_chromhmm\"         \n",
       "[5] \"encode_open_chromatin\"    \"fcc_astarr_csaw\"         \n",
       "[7] \"fcc_astarr_macs\"          \"summary\"                 "
      ]
     },
     "metadata": {},
     "output_type": "display_data"
    }
   ],
   "source": [
    "fdiry = file.path(FD_RES, \"region\")\n",
    "dir(fdiry)"
   ]
  },
  {
   "cell_type": "code",
   "execution_count": 45,
   "id": "f4f002ea-4453-4919-9863-d1f5b16c2206",
   "metadata": {},
   "outputs": [],
   "source": [
    "txt_fdiry = file.path(FD_RES, \"region\", \"summary\")\n",
    "txt_fname = \"metadata_region_label.tsv\"\n",
    "txt_fpath = file.path(txt_fdiry, txt_fname)\n",
    "\n",
    "dat = dat_region_label\n",
    "write_tsv(dat, txt_fpath)"
   ]
  },
  {
   "cell_type": "code",
   "execution_count": null,
   "id": "2692ec13-0578-4ef1-bc6c-1ce779349fae",
   "metadata": {},
   "outputs": [],
   "source": []
  }
 ],
 "metadata": {
  "kernelspec": {
   "display_name": "R",
   "language": "R",
   "name": "ir"
  },
  "language_info": {
   "codemirror_mode": "r",
   "file_extension": ".r",
   "mimetype": "text/x-r-source",
   "name": "R",
   "pygments_lexer": "r",
   "version": "4.3.1"
  }
 },
 "nbformat": 4,
 "nbformat_minor": 5
}
