{
 "cells": [
  {
   "cell_type": "raw",
   "id": "7643e561-0cd8-4fab-a54a-70e68355ac5b",
   "metadata": {},
   "source": [
    "---\n",
    "title: Prepare STARR-seq data 04\n",
    "subtitle: Create metadata for STARR-seq data files\n",
    "format:\n",
    "    html:\n",
    "        code-fold:  true\n",
    "        code-tools: true\n",
    "---"
   ]
  },
  {
   "cell_type": "markdown",
   "id": "c0b209c3-4587-461a-8d6a-359ff9b515f5",
   "metadata": {},
   "source": [
    "**Set environment**"
   ]
  },
  {
   "cell_type": "code",
   "execution_count": 1,
   "id": "9a035881-6ff4-4826-93f3-fdef4fb6118e",
   "metadata": {},
   "outputs": [
    {
     "name": "stdout",
     "output_type": "stream",
     "text": [
      "You are working on        Singularity \n",
      "BASE DIRECTORY (FD_BASE): /mount \n",
      "REPO DIRECTORY (FD_REPO): /mount/repo \n",
      "WORK DIRECTORY (FD_WORK): /mount/work \n",
      "DATA DIRECTORY (FD_DATA): /mount/data \n",
      "\n",
      "You are working with      ENCODE FCC \n",
      "PATH OF PROJECT (FD_PRJ): /mount/repo/Proj_CombEffect_ENCODE_FCC \n",
      "PROJECT RESULTS (FD_RES): /mount/repo/Proj_CombEffect_ENCODE_FCC/results \n",
      "PROJECT SCRIPTS (FD_EXE): /mount/repo/Proj_CombEffect_ENCODE_FCC/scripts \n",
      "PROJECT DATA    (FD_DAT): /mount/repo/Proj_CombEffect_ENCODE_FCC/data \n",
      "PROJECT NOTE    (FD_NBK): /mount/repo/Proj_CombEffect_ENCODE_FCC/notebooks \n",
      "PROJECT DOCS    (FD_DOC): /mount/repo/Proj_CombEffect_ENCODE_FCC/docs \n",
      "PROJECT LOG     (FD_LOG): /mount/repo/Proj_CombEffect_ENCODE_FCC/log \n",
      "PROJECT APP     (FD_APP): /mount/repo/Proj_CombEffect_ENCODE_FCC/app \n",
      "PROJECT REF     (FD_REF): /mount/repo/Proj_CombEffect_ENCODE_FCC/references \n",
      "\n"
     ]
    }
   ],
   "source": [
    "suppressMessages(suppressWarnings(source(\"../run_config_project_sing.R\")))\n",
    "show_env()"
   ]
  },
  {
   "cell_type": "markdown",
   "id": "b6540daa-5086-4152-bc79-1d2d3f57668e",
   "metadata": {},
   "source": [
    "## Helper functions"
   ]
  },
  {
   "cell_type": "markdown",
   "id": "4bb25889-f021-4ad0-8172-58cb910971dd",
   "metadata": {},
   "source": [
    "**Define functions**"
   ]
  },
  {
   "cell_type": "code",
   "execution_count": 27,
   "id": "20a69967-630d-4ab3-9b39-55647be55a45",
   "metadata": {},
   "outputs": [],
   "source": [
    "GROUPS  = c(\"Input\", \"Output\")\n",
    "SAMPLES = c(\n",
    "    paste0(\"Input.rep\",  1:6),\n",
    "    paste0(\"Output.rep\", 1:6))\n",
    "\n",
    "get_info = function(string, patterns){\n",
    "    idx = str_detect(string = string, pattern = patterns)\n",
    "    return(patterns[idx])\n",
    "}\n",
    "\n",
    "get_group  = function(strings){\n",
    "    res = sapply(strings, function(string){get_info(string, GROUPS)})\n",
    "    return(res)\n",
    "}\n",
    "\n",
    "get_sample = function(strings){\n",
    "    res = sapply(strings, function(string){get_info(string, SAMPLES)})\n",
    "    return(res)\n",
    "}"
   ]
  },
  {
   "cell_type": "markdown",
   "id": "e3cc9e82-6c4f-44db-91ca-43606e0a8fa6",
   "metadata": {},
   "source": [
    "**Test functions**"
   ]
  },
  {
   "cell_type": "code",
   "execution_count": 24,
   "id": "bc82580e-1fb7-4142-9e71-171f1ea83dab",
   "metadata": {},
   "outputs": [
    {
     "data": {
      "text/html": [
       "'Input.rep1'"
      ],
      "text/latex": [
       "'Input.rep1'"
      ],
      "text/markdown": [
       "'Input.rep1'"
      ],
      "text/plain": [
       "[1] \"Input.rep1\""
      ]
     },
     "metadata": {},
     "output_type": "display_data"
    }
   ],
   "source": [
    "txt = \"ASTARRseq_K562_KS91.hg38.Input.rep1.WGS.unstranded.bed.gz\"\n",
    "get_info(txt, SAMPLES)"
   ]
  },
  {
   "cell_type": "code",
   "execution_count": 26,
   "id": "4d4a2c5b-81b5-4583-a337-8dedd1d9ce0a",
   "metadata": {},
   "outputs": [
    {
     "data": {
      "text/html": [
       "<strong>ASTARRseq_K562_KS91.hg38.Input.rep1.WGS.unstranded.bed.gz:</strong> 'Input'"
      ],
      "text/latex": [
       "\\textbf{ASTARRseq\\textbackslash{}\\_K562\\textbackslash{}\\_KS91.hg38.Input.rep1.WGS.unstranded.bed.gz:} 'Input'"
      ],
      "text/markdown": [
       "**ASTARRseq_K562_KS91.hg38.Input.rep1.WGS.unstranded.bed.gz:** 'Input'"
      ],
      "text/plain": [
       "ASTARRseq_K562_KS91.hg38.Input.rep1.WGS.unstranded.bed.gz \n",
       "                                                  \"Input\" "
      ]
     },
     "metadata": {},
     "output_type": "display_data"
    }
   ],
   "source": [
    "txt = \"ASTARRseq_K562_KS91.hg38.Input.rep1.WGS.unstranded.bed.gz\"\n",
    "get_group(txt)"
   ]
  },
  {
   "cell_type": "markdown",
   "id": "83fdd898-0200-426b-99f0-51b4dacb0c97",
   "metadata": {},
   "source": [
    "## Metadata for ASTARR fragment counts"
   ]
  },
  {
   "cell_type": "markdown",
   "id": "dce139d7-3bd0-4ff7-957c-2818bf62098f",
   "metadata": {},
   "source": [
    "Get the file names for fragment counts"
   ]
  },
  {
   "cell_type": "code",
   "execution_count": 35,
   "id": "a65dec47-a034-4a2a-859a-26a1c2893555",
   "metadata": {},
   "outputs": [
    {
     "name": "stdout",
     "output_type": "stream",
     "text": [
      "ASTARRseq_K562_KS91.hg38.Input.rep1.WGS.unstranded.bed.gz \n",
      "ASTARRseq_K562_KS91.hg38.Input.rep2.WGS.unstranded.bed.gz \n",
      "ASTARRseq_K562_KS91.hg38.Input.rep3.WGS.unstranded.bed.gz \n",
      "ASTARRseq_K562_KS91.hg38.Input.rep4.WGS.unstranded.bed.gz \n",
      "ASTARRseq_K562_KS91.hg38.Input.rep5.WGS.unstranded.bed.gz \n",
      "ASTARRseq_K562_KS91.hg38.Input.rep6.WGS.unstranded.bed.gz \n",
      "ASTARRseq_K562_KS91.hg38.Output.rep1.WGS.unstranded.bed.gz \n",
      "ASTARRseq_K562_KS91.hg38.Output.rep2.WGS.unstranded.bed.gz \n",
      "ASTARRseq_K562_KS91.hg38.Output.rep3.WGS.unstranded.bed.gz \n",
      "ASTARRseq_K562_KS91.hg38.Output.rep4.WGS.unstranded.bed.gz \n"
     ]
    }
   ],
   "source": [
    "TXT_ASSAY  = \"STARR_ATAC_K562_Reddy_KS91\"\n",
    "TXT_PREFIX = \"ASTARRseq_K562_KS91\"\n",
    "TXT_FOLDER = \"fragment_counts\"\n",
    "\n",
    "txt_fdiry  = file.path(FD_RES, \"assay_fcc\", TXT_ASSAY, TXT_FOLDER)\n",
    "txt_fname  = \"*WGS*bed.gz\"\n",
    "txt_fglob  = file.path(txt_fdiry, txt_fname)\n",
    "\n",
    "vec_txt_fpath = Sys.glob(txt_fglob)\n",
    "vec_txt_fname = basename(vec_txt_fpath)\n",
    "\n",
    "for (txt in vec_txt_fname){cat(txt, \"\\n\")}"
   ]
  },
  {
   "cell_type": "markdown",
   "id": "1fd16d7a-3c32-4380-9c98-3623145dfb4d",
   "metadata": {},
   "source": [
    "Create metadata for the files"
   ]
  },
  {
   "cell_type": "code",
   "execution_count": 36,
   "id": "c74b2e51-44e1-43d2-a0c7-f3ff60daa928",
   "metadata": {},
   "outputs": [
    {
     "data": {
      "text/html": [
       "<table>\n",
       " <thead>\n",
       "  <tr>\n",
       "   <th style=\"text-align:left;\"> FName </th>\n",
       "   <th style=\"text-align:left;\"> Assay </th>\n",
       "   <th style=\"text-align:left;\"> Prefix </th>\n",
       "   <th style=\"text-align:left;\"> Group </th>\n",
       "   <th style=\"text-align:left;\"> Sample </th>\n",
       "  </tr>\n",
       " </thead>\n",
       "<tbody>\n",
       "  <tr>\n",
       "   <td style=\"text-align:left;\"> ASTARRseq_K562_KS91.hg38.Input.rep1.WGS.unstranded.bed.gz </td>\n",
       "   <td style=\"text-align:left;\"> STARR_ATAC_K562_Reddy_KS91 </td>\n",
       "   <td style=\"text-align:left;\"> ASTARRseq_K562_KS91 </td>\n",
       "   <td style=\"text-align:left;\"> Input </td>\n",
       "   <td style=\"text-align:left;\"> Input.rep1 </td>\n",
       "  </tr>\n",
       "  <tr>\n",
       "   <td style=\"text-align:left;\"> ASTARRseq_K562_KS91.hg38.Input.rep2.WGS.unstranded.bed.gz </td>\n",
       "   <td style=\"text-align:left;\"> STARR_ATAC_K562_Reddy_KS91 </td>\n",
       "   <td style=\"text-align:left;\"> ASTARRseq_K562_KS91 </td>\n",
       "   <td style=\"text-align:left;\"> Input </td>\n",
       "   <td style=\"text-align:left;\"> Input.rep2 </td>\n",
       "  </tr>\n",
       "  <tr>\n",
       "   <td style=\"text-align:left;\"> ASTARRseq_K562_KS91.hg38.Input.rep3.WGS.unstranded.bed.gz </td>\n",
       "   <td style=\"text-align:left;\"> STARR_ATAC_K562_Reddy_KS91 </td>\n",
       "   <td style=\"text-align:left;\"> ASTARRseq_K562_KS91 </td>\n",
       "   <td style=\"text-align:left;\"> Input </td>\n",
       "   <td style=\"text-align:left;\"> Input.rep3 </td>\n",
       "  </tr>\n",
       "  <tr>\n",
       "   <td style=\"text-align:left;\"> ASTARRseq_K562_KS91.hg38.Input.rep4.WGS.unstranded.bed.gz </td>\n",
       "   <td style=\"text-align:left;\"> STARR_ATAC_K562_Reddy_KS91 </td>\n",
       "   <td style=\"text-align:left;\"> ASTARRseq_K562_KS91 </td>\n",
       "   <td style=\"text-align:left;\"> Input </td>\n",
       "   <td style=\"text-align:left;\"> Input.rep4 </td>\n",
       "  </tr>\n",
       "  <tr>\n",
       "   <td style=\"text-align:left;\"> ASTARRseq_K562_KS91.hg38.Input.rep5.WGS.unstranded.bed.gz </td>\n",
       "   <td style=\"text-align:left;\"> STARR_ATAC_K562_Reddy_KS91 </td>\n",
       "   <td style=\"text-align:left;\"> ASTARRseq_K562_KS91 </td>\n",
       "   <td style=\"text-align:left;\"> Input </td>\n",
       "   <td style=\"text-align:left;\"> Input.rep5 </td>\n",
       "  </tr>\n",
       "  <tr>\n",
       "   <td style=\"text-align:left;\"> ASTARRseq_K562_KS91.hg38.Input.rep6.WGS.unstranded.bed.gz </td>\n",
       "   <td style=\"text-align:left;\"> STARR_ATAC_K562_Reddy_KS91 </td>\n",
       "   <td style=\"text-align:left;\"> ASTARRseq_K562_KS91 </td>\n",
       "   <td style=\"text-align:left;\"> Input </td>\n",
       "   <td style=\"text-align:left;\"> Input.rep6 </td>\n",
       "  </tr>\n",
       "  <tr>\n",
       "   <td style=\"text-align:left;\"> ASTARRseq_K562_KS91.hg38.Output.rep1.WGS.unstranded.bed.gz </td>\n",
       "   <td style=\"text-align:left;\"> STARR_ATAC_K562_Reddy_KS91 </td>\n",
       "   <td style=\"text-align:left;\"> ASTARRseq_K562_KS91 </td>\n",
       "   <td style=\"text-align:left;\"> Output </td>\n",
       "   <td style=\"text-align:left;\"> Output.rep1 </td>\n",
       "  </tr>\n",
       "  <tr>\n",
       "   <td style=\"text-align:left;\"> ASTARRseq_K562_KS91.hg38.Output.rep2.WGS.unstranded.bed.gz </td>\n",
       "   <td style=\"text-align:left;\"> STARR_ATAC_K562_Reddy_KS91 </td>\n",
       "   <td style=\"text-align:left;\"> ASTARRseq_K562_KS91 </td>\n",
       "   <td style=\"text-align:left;\"> Output </td>\n",
       "   <td style=\"text-align:left;\"> Output.rep2 </td>\n",
       "  </tr>\n",
       "  <tr>\n",
       "   <td style=\"text-align:left;\"> ASTARRseq_K562_KS91.hg38.Output.rep3.WGS.unstranded.bed.gz </td>\n",
       "   <td style=\"text-align:left;\"> STARR_ATAC_K562_Reddy_KS91 </td>\n",
       "   <td style=\"text-align:left;\"> ASTARRseq_K562_KS91 </td>\n",
       "   <td style=\"text-align:left;\"> Output </td>\n",
       "   <td style=\"text-align:left;\"> Output.rep3 </td>\n",
       "  </tr>\n",
       "  <tr>\n",
       "   <td style=\"text-align:left;\"> ASTARRseq_K562_KS91.hg38.Output.rep4.WGS.unstranded.bed.gz </td>\n",
       "   <td style=\"text-align:left;\"> STARR_ATAC_K562_Reddy_KS91 </td>\n",
       "   <td style=\"text-align:left;\"> ASTARRseq_K562_KS91 </td>\n",
       "   <td style=\"text-align:left;\"> Output </td>\n",
       "   <td style=\"text-align:left;\"> Output.rep4 </td>\n",
       "  </tr>\n",
       "</tbody>\n",
       "</table>"
      ]
     },
     "metadata": {},
     "output_type": "display_data"
    }
   ],
   "source": [
    "dat = data.frame(\n",
    "    FName  = vec_txt_fname,\n",
    "    Assay  = TXT_ASSAY,\n",
    "    Prefix = TXT_PREFIX\n",
    ")\n",
    "dat = dat %>%\n",
    "    dplyr::mutate(\n",
    "        Group  = get_group(FName),\n",
    "        Sample = get_sample(FName)\n",
    "    )\n",
    "\n",
    "dat_metadata_astarr = dat\n",
    "fun_display_table(dat)"
   ]
  },
  {
   "cell_type": "markdown",
   "id": "3138dd74-34ca-43d7-abda-a28160a1f048",
   "metadata": {},
   "source": [
    "Save results"
   ]
  },
  {
   "cell_type": "code",
   "execution_count": 40,
   "id": "f7343468-6191-4720-8360-282ed8654692",
   "metadata": {},
   "outputs": [],
   "source": [
    "txt_fdiry = file.path(FD_RES, \"assay_fcc\", TXT_ASSAY, TXT_FOLDER, \"summary\")\n",
    "txt_fname = \"metadata.tsv\"\n",
    "txt_fpath = file.path(txt_fdiry, txt_fname)\n",
    "\n",
    "txt = paste(\"mkdir -p\", txt_fdiry)\n",
    "system(txt)\n",
    "\n",
    "dat = dat_metadata_astarr\n",
    "write_tsv(dat, txt_fpath)"
   ]
  },
  {
   "cell_type": "markdown",
   "id": "44f2fc4c-8719-4617-8fc1-77171ff49767",
   "metadata": {},
   "source": [
    "## Metadata for WSTARR fragment counts"
   ]
  },
  {
   "cell_type": "markdown",
   "id": "6d93819a-6b29-49ad-831f-0b29ede77ae2",
   "metadata": {},
   "source": [
    "Get the file names for fragment counts"
   ]
  },
  {
   "cell_type": "code",
   "execution_count": 41,
   "id": "0538e1c4-6646-4678-acb3-f9c5ecdd7f71",
   "metadata": {},
   "outputs": [
    {
     "name": "stdout",
     "output_type": "stream",
     "text": [
      "WSTARRseq_K562_A001.hg38.Input.rep1.WGS.unstranded.bed.gz \n",
      "WSTARRseq_K562_A001.hg38.Input.rep2.WGS.unstranded.bed.gz \n",
      "WSTARRseq_K562_A001.hg38.Input.rep3.WGS.unstranded.bed.gz \n",
      "WSTARRseq_K562_A001.hg38.Input.rep4.WGS.unstranded.bed.gz \n",
      "WSTARRseq_K562_A001.hg38.Output.rep1.WGS.unstranded.bed.gz \n",
      "WSTARRseq_K562_A001.hg38.Output.rep2.WGS.unstranded.bed.gz \n",
      "WSTARRseq_K562_A001.hg38.Output.rep3.WGS.unstranded.bed.gz \n"
     ]
    }
   ],
   "source": [
    "TXT_ASSAY  = \"STARR_WHG_K562_Reddy_A001\"\n",
    "TXT_PREFIX = \"WSTARRseq_K562_A001\"\n",
    "TXT_FOLDER = \"fragment_counts\"\n",
    "\n",
    "txt_fdiry  = file.path(FD_RES, \"assay_fcc\", TXT_ASSAY, TXT_FOLDER)\n",
    "txt_fname  = \"*WGS*bed.gz\"\n",
    "txt_fglob  = file.path(txt_fdiry, txt_fname)\n",
    "\n",
    "vec_txt_fpath = Sys.glob(txt_fglob)\n",
    "vec_txt_fname = basename(vec_txt_fpath)\n",
    "\n",
    "for (txt in vec_txt_fname){cat(txt, \"\\n\")}"
   ]
  },
  {
   "cell_type": "markdown",
   "id": "f69e1fac-bede-4fb5-9a9b-6d5df48c86a4",
   "metadata": {},
   "source": [
    "Create metadata for the files"
   ]
  },
  {
   "cell_type": "code",
   "execution_count": 42,
   "id": "494e59d4-da17-421b-aca2-0245529bb02b",
   "metadata": {},
   "outputs": [
    {
     "data": {
      "text/html": [
       "<table>\n",
       " <thead>\n",
       "  <tr>\n",
       "   <th style=\"text-align:left;\"> FName </th>\n",
       "   <th style=\"text-align:left;\"> Assay </th>\n",
       "   <th style=\"text-align:left;\"> Prefix </th>\n",
       "   <th style=\"text-align:left;\"> Group </th>\n",
       "   <th style=\"text-align:left;\"> Sample </th>\n",
       "  </tr>\n",
       " </thead>\n",
       "<tbody>\n",
       "  <tr>\n",
       "   <td style=\"text-align:left;\"> WSTARRseq_K562_A001.hg38.Input.rep1.WGS.unstranded.bed.gz </td>\n",
       "   <td style=\"text-align:left;\"> STARR_WHG_K562_Reddy_A001 </td>\n",
       "   <td style=\"text-align:left;\"> WSTARRseq_K562_A001 </td>\n",
       "   <td style=\"text-align:left;\"> Input </td>\n",
       "   <td style=\"text-align:left;\"> Input.rep1 </td>\n",
       "  </tr>\n",
       "  <tr>\n",
       "   <td style=\"text-align:left;\"> WSTARRseq_K562_A001.hg38.Input.rep2.WGS.unstranded.bed.gz </td>\n",
       "   <td style=\"text-align:left;\"> STARR_WHG_K562_Reddy_A001 </td>\n",
       "   <td style=\"text-align:left;\"> WSTARRseq_K562_A001 </td>\n",
       "   <td style=\"text-align:left;\"> Input </td>\n",
       "   <td style=\"text-align:left;\"> Input.rep2 </td>\n",
       "  </tr>\n",
       "  <tr>\n",
       "   <td style=\"text-align:left;\"> WSTARRseq_K562_A001.hg38.Input.rep3.WGS.unstranded.bed.gz </td>\n",
       "   <td style=\"text-align:left;\"> STARR_WHG_K562_Reddy_A001 </td>\n",
       "   <td style=\"text-align:left;\"> WSTARRseq_K562_A001 </td>\n",
       "   <td style=\"text-align:left;\"> Input </td>\n",
       "   <td style=\"text-align:left;\"> Input.rep3 </td>\n",
       "  </tr>\n",
       "  <tr>\n",
       "   <td style=\"text-align:left;\"> WSTARRseq_K562_A001.hg38.Input.rep4.WGS.unstranded.bed.gz </td>\n",
       "   <td style=\"text-align:left;\"> STARR_WHG_K562_Reddy_A001 </td>\n",
       "   <td style=\"text-align:left;\"> WSTARRseq_K562_A001 </td>\n",
       "   <td style=\"text-align:left;\"> Input </td>\n",
       "   <td style=\"text-align:left;\"> Input.rep4 </td>\n",
       "  </tr>\n",
       "  <tr>\n",
       "   <td style=\"text-align:left;\"> WSTARRseq_K562_A001.hg38.Output.rep1.WGS.unstranded.bed.gz </td>\n",
       "   <td style=\"text-align:left;\"> STARR_WHG_K562_Reddy_A001 </td>\n",
       "   <td style=\"text-align:left;\"> WSTARRseq_K562_A001 </td>\n",
       "   <td style=\"text-align:left;\"> Output </td>\n",
       "   <td style=\"text-align:left;\"> Output.rep1 </td>\n",
       "  </tr>\n",
       "  <tr>\n",
       "   <td style=\"text-align:left;\"> WSTARRseq_K562_A001.hg38.Output.rep2.WGS.unstranded.bed.gz </td>\n",
       "   <td style=\"text-align:left;\"> STARR_WHG_K562_Reddy_A001 </td>\n",
       "   <td style=\"text-align:left;\"> WSTARRseq_K562_A001 </td>\n",
       "   <td style=\"text-align:left;\"> Output </td>\n",
       "   <td style=\"text-align:left;\"> Output.rep2 </td>\n",
       "  </tr>\n",
       "  <tr>\n",
       "   <td style=\"text-align:left;\"> WSTARRseq_K562_A001.hg38.Output.rep3.WGS.unstranded.bed.gz </td>\n",
       "   <td style=\"text-align:left;\"> STARR_WHG_K562_Reddy_A001 </td>\n",
       "   <td style=\"text-align:left;\"> WSTARRseq_K562_A001 </td>\n",
       "   <td style=\"text-align:left;\"> Output </td>\n",
       "   <td style=\"text-align:left;\"> Output.rep3 </td>\n",
       "  </tr>\n",
       "</tbody>\n",
       "</table>"
      ]
     },
     "metadata": {},
     "output_type": "display_data"
    }
   ],
   "source": [
    "dat = data.frame(\n",
    "    FName  = vec_txt_fname,\n",
    "    Assay  = TXT_ASSAY,\n",
    "    Prefix = TXT_PREFIX\n",
    ")\n",
    "dat = dat %>%\n",
    "    dplyr::mutate(\n",
    "        Group  = get_group(FName),\n",
    "        Sample = get_sample(FName)\n",
    "    )\n",
    "\n",
    "dat_metadata_astarr = dat\n",
    "fun_display_table(dat)"
   ]
  },
  {
   "cell_type": "markdown",
   "id": "fbab20e3-2e57-4d16-a190-39b6292a4258",
   "metadata": {},
   "source": [
    "Save results"
   ]
  },
  {
   "cell_type": "code",
   "execution_count": 43,
   "id": "d50f2edc-3099-48c3-aa24-10cf00535a00",
   "metadata": {},
   "outputs": [],
   "source": [
    "txt_fdiry = file.path(FD_RES, \"assay_fcc\", TXT_ASSAY, TXT_FOLDER, \"summary\")\n",
    "txt_fname = \"metadata.tsv\"\n",
    "txt_fpath = file.path(txt_fdiry, txt_fname)\n",
    "\n",
    "txt = paste(\"mkdir -p\", txt_fdiry)\n",
    "system(txt)\n",
    "\n",
    "dat = dat_metadata_astarr\n",
    "write_tsv(dat, txt_fpath)"
   ]
  },
  {
   "cell_type": "code",
   "execution_count": null,
   "id": "5aceed24-6b53-4613-a396-c19cbc97dcbc",
   "metadata": {},
   "outputs": [],
   "source": []
  },
  {
   "cell_type": "code",
   "execution_count": null,
   "id": "5456cdf5-bb01-4e1e-9cb0-421bb508c8f7",
   "metadata": {},
   "outputs": [],
   "source": []
  }
 ],
 "metadata": {
  "kernelspec": {
   "display_name": "R",
   "language": "R",
   "name": "ir"
  },
  "language_info": {
   "codemirror_mode": "r",
   "file_extension": ".r",
   "mimetype": "text/x-r-source",
   "name": "R",
   "pygments_lexer": "r",
   "version": "4.3.1"
  }
 },
 "nbformat": 4,
 "nbformat_minor": 5
}
