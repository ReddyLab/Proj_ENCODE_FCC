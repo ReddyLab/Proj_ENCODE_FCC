{
 "cells": [
  {
   "cell_type": "raw",
   "id": "84228666-be19-46d0-ba61-df2bddb66958",
   "metadata": {},
   "source": [
    "---\n",
    "title: Prepare track data processed by JinWoo 06\n",
    "subtitle: Prepare CRISPRi Growth data for the analysis\n",
    "format:\n",
    "    html:\n",
    "        code-fold:  true\n",
    "        code-tools: true\n",
    "---"
   ]
  },
  {
   "cell_type": "markdown",
   "id": "3d3c6633-32b4-4b08-a3fd-6dd36a87ead7",
   "metadata": {},
   "source": [
    "**Set environment**"
   ]
  },
  {
   "cell_type": "code",
   "execution_count": 1,
   "id": "62086a72-7eef-49f3-a616-f47456dae7c0",
   "metadata": {},
   "outputs": [
    {
     "name": "stdout",
     "output_type": "stream",
     "text": [
      "You are working on        Singularity \n",
      "BASE DIRECTORY (FD_BASE): /mount \n",
      "REPO DIRECTORY (FD_REPO): /mount/repo \n",
      "WORK DIRECTORY (FD_WORK): /mount/work \n",
      "DATA DIRECTORY (FD_DATA): /mount/data \n",
      "\n",
      "You are working with      ENCODE FCC \n",
      "PATH OF PROJECT (FD_PRJ): /mount/repo/Proj_ENCODE_FCC \n",
      "PROJECT RESULTS (FD_RES): /mount/repo/Proj_ENCODE_FCC/results \n",
      "PROJECT SCRIPTS (FD_EXE): /mount/repo/Proj_ENCODE_FCC/scripts \n",
      "PROJECT DATA    (FD_DAT): /mount/repo/Proj_ENCODE_FCC/data \n",
      "PROJECT NOTE    (FD_NBK): /mount/repo/Proj_ENCODE_FCC/notebooks \n",
      "PROJECT DOCS    (FD_DOC): /mount/repo/Proj_ENCODE_FCC/docs \n",
      "PROJECT LOG     (FD_LOG): /mount/repo/Proj_ENCODE_FCC/log \n",
      "PROJECT APP     (FD_APP): /mount/repo/Proj_ENCODE_FCC/app \n",
      "PROJECT REF     (FD_REF): /mount/repo/Proj_ENCODE_FCC/references \n",
      "\n"
     ]
    }
   ],
   "source": [
    "suppressMessages(suppressWarnings(source(\"../run_config_project_sing.R\")))\n",
    "show_env()"
   ]
  },
  {
   "cell_type": "markdown",
   "id": "c444344c-2b4c-4873-ab2e-fa7f8a0a7e3d",
   "metadata": {},
   "source": [
    "## Import data"
   ]
  },
  {
   "cell_type": "markdown",
   "id": "0d971961-474d-4d29-a235-f460899ed85a",
   "metadata": {},
   "source": [
    "**Read table**"
   ]
  },
  {
   "cell_type": "code",
   "execution_count": 2,
   "id": "bde44254-07b5-4e69-a96e-c5ba467fe6c1",
   "metadata": {},
   "outputs": [
    {
     "data": {
      "text/html": [
       "<table>\n",
       " <thead>\n",
       "  <tr>\n",
       "   <th style=\"text-align:left;\"> Chrom </th>\n",
       "   <th style=\"text-align:right;\"> ChromStart </th>\n",
       "   <th style=\"text-align:right;\"> ChromEnd </th>\n",
       "   <th style=\"text-align:left;\"> Name </th>\n",
       "   <th style=\"text-align:right;\"> Score </th>\n",
       "  </tr>\n",
       " </thead>\n",
       "<tbody>\n",
       "  <tr>\n",
       "   <td style=\"text-align:left;\"> chr1 </td>\n",
       "   <td style=\"text-align:right;\"> 74582275 </td>\n",
       "   <td style=\"text-align:right;\"> 74582276 </td>\n",
       "   <td style=\"text-align:left;\"> id-1 </td>\n",
       "   <td style=\"text-align:right;\"> 0.440890 </td>\n",
       "  </tr>\n",
       "  <tr>\n",
       "   <td style=\"text-align:left;\"> chr1 </td>\n",
       "   <td style=\"text-align:right;\"> 74582309 </td>\n",
       "   <td style=\"text-align:right;\"> 74582310 </td>\n",
       "   <td style=\"text-align:left;\"> id-2 </td>\n",
       "   <td style=\"text-align:right;\"> 1.256270 </td>\n",
       "  </tr>\n",
       "  <tr>\n",
       "   <td style=\"text-align:left;\"> chr1 </td>\n",
       "   <td style=\"text-align:right;\"> 80526338 </td>\n",
       "   <td style=\"text-align:right;\"> 80526339 </td>\n",
       "   <td style=\"text-align:left;\"> id-3 </td>\n",
       "   <td style=\"text-align:right;\"> 0.146948 </td>\n",
       "  </tr>\n",
       "</tbody>\n",
       "</table>"
      ]
     },
     "metadata": {},
     "output_type": "display_data"
    }
   ],
   "source": [
    "### set directory\n",
    "txt_assay  = \"CRISPRi_Growth_K562_Gersbach_JinWoo\"\n",
    "txt_folder = \"guide_scores\"\n",
    "txt_fdiry  = file.path(FD_RES, \"assay_fcc\", txt_assay, txt_folder)\n",
    "txt_fname  = \"CRISPRi_rAVG_log2FC_2.bed\"\n",
    "txt_fpath  = file.path(txt_fdiry, txt_fname)\n",
    "\n",
    "vec_txt_cname = c(\"Chrom\", \"ChromStart\", \"ChromEnd\", \"Name\", \"Score\")\n",
    "\n",
    "### read table\n",
    "dat = read_tsv(txt_fpath, col_names = vec_txt_cname, show_col_types = FALSE)\n",
    "\n",
    "### assign and show\n",
    "dat_score_cgrowth = dat\n",
    "fun_display_table(head(dat, 3))"
   ]
  },
  {
   "cell_type": "markdown",
   "id": "5cbef064-17a5-4784-87e4-143c2cd9b096",
   "metadata": {},
   "source": [
    "## Arrange table"
   ]
  },
  {
   "cell_type": "code",
   "execution_count": 3,
   "id": "a5d0f281-f386-4b79-9a72-148acb9c15de",
   "metadata": {},
   "outputs": [
    {
     "data": {
      "text/html": [
       "<table>\n",
       " <thead>\n",
       "  <tr>\n",
       "   <th style=\"text-align:left;\"> Chrom </th>\n",
       "   <th style=\"text-align:right;\"> ChromStart </th>\n",
       "   <th style=\"text-align:right;\"> ChromEnd </th>\n",
       "   <th style=\"text-align:left;\"> Name </th>\n",
       "   <th style=\"text-align:right;\"> Score </th>\n",
       "   <th style=\"text-align:left;\"> Strand </th>\n",
       "  </tr>\n",
       " </thead>\n",
       "<tbody>\n",
       "  <tr>\n",
       "   <td style=\"text-align:left;\"> chr1 </td>\n",
       "   <td style=\"text-align:right;\"> 74582275 </td>\n",
       "   <td style=\"text-align:right;\"> 74582276 </td>\n",
       "   <td style=\"text-align:left;\"> id-1 </td>\n",
       "   <td style=\"text-align:right;\"> 0.440890 </td>\n",
       "   <td style=\"text-align:left;\"> . </td>\n",
       "  </tr>\n",
       "  <tr>\n",
       "   <td style=\"text-align:left;\"> chr1 </td>\n",
       "   <td style=\"text-align:right;\"> 74582309 </td>\n",
       "   <td style=\"text-align:right;\"> 74582310 </td>\n",
       "   <td style=\"text-align:left;\"> id-2 </td>\n",
       "   <td style=\"text-align:right;\"> 1.256270 </td>\n",
       "   <td style=\"text-align:left;\"> . </td>\n",
       "  </tr>\n",
       "  <tr>\n",
       "   <td style=\"text-align:left;\"> chr1 </td>\n",
       "   <td style=\"text-align:right;\"> 80526338 </td>\n",
       "   <td style=\"text-align:right;\"> 80526339 </td>\n",
       "   <td style=\"text-align:left;\"> id-3 </td>\n",
       "   <td style=\"text-align:right;\"> 0.146948 </td>\n",
       "   <td style=\"text-align:left;\"> . </td>\n",
       "  </tr>\n",
       "</tbody>\n",
       "</table>"
      ]
     },
     "metadata": {},
     "output_type": "display_data"
    }
   ],
   "source": [
    "dat = dat_score_cgrowth\n",
    "dat = dat %>% \n",
    "    dplyr::mutate(Strand = \".\") %>% \n",
    "    dplyr::select(Chrom, ChromStart, ChromEnd, Name, Score, Strand) %>% \n",
    "    dplyr::arrange(Chrom, ChromStart, ChromEnd)\n",
    "\n",
    "### assign and show\n",
    "dat_score_cgrowth_arrange = dat\n",
    "fun_display_table(head(dat, 3))"
   ]
  },
  {
   "cell_type": "markdown",
   "id": "7a4d1f77-2374-4c99-9fff-bed12a82e5c7",
   "metadata": {},
   "source": [
    "## Save results"
   ]
  },
  {
   "cell_type": "markdown",
   "id": "2e75bc82-e657-4bc1-9a02-77055c7508fc",
   "metadata": {},
   "source": [
    "**Write table**"
   ]
  },
  {
   "cell_type": "code",
   "execution_count": 5,
   "id": "9319109e-72bd-4ea2-bdac-48401a2ff28e",
   "metadata": {},
   "outputs": [],
   "source": [
    "### set directory\n",
    "txt_assay  = \"CRISPRi_Growth_K562_Gersbach_JinWoo\"\n",
    "txt_folder = \"guide_scores\"\n",
    "txt_fdiry  = file.path(FD_RES, \"assay_fcc\", txt_assay, txt_folder)\n",
    "txt_fname  = \"CRISPRi_Growth_K562.hg38.ZScore.unstranded.bed.gz\"\n",
    "txt_fpath  = file.path(txt_fdiry, txt_fname)\n",
    "\n",
    "dat = dat_score_cgrowth_arrange\n",
    "write_tsv(dat, txt_fpath, col_names=FALSE)"
   ]
  },
  {
   "cell_type": "markdown",
   "id": "808be0fb-e36a-4985-afd7-e859e1fea950",
   "metadata": {},
   "source": [
    "**Check results**"
   ]
  },
  {
   "cell_type": "code",
   "execution_count": 6,
   "id": "69d4297b-9ff8-40c4-b1e7-34337ba66a34",
   "metadata": {},
   "outputs": [
    {
     "name": "stdout",
     "output_type": "stream",
     "text": [
      "chr1\t74582275\t74582276\tid-1\t0.44089\t. \n",
      "chr1\t74582309\t74582310\tid-2\t1.25627\t. \n",
      "chr1\t80526338\t80526339\tid-3\t0.146948\t. \n",
      "chr1\t102025739\t102025740\tid-4\t-0.389965\t. \n",
      "chr1\t102026463\t102026464\tid-5\t-0.983594\t. \n",
      "chr1\t102522706\t102522707\tid-6\t-0.050346\t. \n",
      "chr1\t105022840\t105022841\tid-7\t0.415363\t. \n",
      "chr1\t118171119\t118171120\tid-8\t0.218691\t. \n",
      "chr1\t118172364\t118172365\tid-9\t-1.3605\t. \n",
      "chr1\t158881104\t158881105\tid-10\t-0.187116\t. \n"
     ]
    }
   ],
   "source": [
    "### set directory\n",
    "txt_assay  = \"CRISPRi_Growth_K562_Gersbach_JinWoo\"\n",
    "txt_folder = \"guide_scores\"\n",
    "txt_fdiry  = file.path(FD_RES, \"assay_fcc\", txt_assay, txt_folder)\n",
    "txt_fname  = \"CRISPRi_Growth_K562.hg38.ZScore.unstranded.bed.gz\"\n",
    "txt_fpath  = file.path(txt_fdiry, txt_fname)\n",
    "\n",
    "### \n",
    "txt_cmd = paste(\"zcat\", txt_fpath, \"| head\")\n",
    "vec     = system(txt_cmd, intern = TRUE)\n",
    "for(txt in vec){cat(txt, \"\\n\")}"
   ]
  },
  {
   "cell_type": "code",
   "execution_count": null,
   "id": "4689e7c0-e393-4043-9e55-cf7b9bc2013f",
   "metadata": {},
   "outputs": [],
   "source": []
  },
  {
   "cell_type": "code",
   "execution_count": null,
   "id": "b33a0e6d-a17c-47a5-a2ee-2761fdfe0504",
   "metadata": {},
   "outputs": [],
   "source": []
  },
  {
   "cell_type": "code",
   "execution_count": null,
   "id": "f56eaeea-620c-46cf-946e-3bd766d6ec0f",
   "metadata": {},
   "outputs": [],
   "source": []
  }
 ],
 "metadata": {
  "kernelspec": {
   "display_name": "R",
   "language": "R",
   "name": "ir"
  },
  "language_info": {
   "codemirror_mode": "r",
   "file_extension": ".r",
   "mimetype": "text/x-r-source",
   "name": "R",
   "pygments_lexer": "r",
   "version": "4.3.3"
  }
 },
 "nbformat": 4,
 "nbformat_minor": 5
}
