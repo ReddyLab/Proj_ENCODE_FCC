{
 "cells": [
  {
   "cell_type": "raw",
   "id": "aa8133e8-e982-423e-814b-e58cc3710e20",
   "metadata": {},
   "source": [
    "---\n",
    "title: Prepare Junke peak call (z score) region 01\n",
    "subtitle: Get peak call from Junke's z-score peak caller\n",
    "format:\n",
    "    html:\n",
    "        code-fold:  true\n",
    "        code-tools: true\n",
    "---"
   ]
  },
  {
   "cell_type": "markdown",
   "id": "9826b7c0-d3e0-4a0c-92c6-374aac10d064",
   "metadata": {},
   "source": [
    "**Set environment**"
   ]
  },
  {
   "cell_type": "code",
   "execution_count": 1,
   "id": "a0f00ba2-0f76-4453-9575-692215ff4f76",
   "metadata": {},
   "outputs": [
    {
     "name": "stdout",
     "output_type": "stream",
     "text": [
      "You are working on             Duke Server: HARDAC\n",
      "BASE DIRECTORY (FD_BASE):      /data/reddylab/Kuei\n",
      "REPO DIRECTORY (FD_REPO):      /data/reddylab/Kuei/repo\n",
      "WORK DIRECTORY (FD_WORK):      /data/reddylab/Kuei/work\n",
      "DATA DIRECTORY (FD_DATA):      /data/reddylab/Kuei/data\n",
      "CONTAINER DIR. (FD_SING):      /data/reddylab/Kuei/container\n",
      "\n",
      "You are working with           ENCODE FCC\n",
      "PATH OF PROJECT (FD_PRJ):      /data/reddylab/Kuei/repo/Proj_ENCODE_FCC\n",
      "PROJECT RESULTS (FD_RES):      /data/reddylab/Kuei/repo/Proj_ENCODE_FCC/results\n",
      "PROJECT SCRIPTS (FD_EXE):      /data/reddylab/Kuei/repo/Proj_ENCODE_FCC/scripts\n",
      "PROJECT DATA    (FD_DAT):      /data/reddylab/Kuei/repo/Proj_ENCODE_FCC/data\n",
      "PROJECT NOTE    (FD_NBK):      /data/reddylab/Kuei/repo/Proj_ENCODE_FCC/notebooks\n",
      "PROJECT DOCS    (FD_DOC):      /data/reddylab/Kuei/repo/Proj_ENCODE_FCC/docs\n",
      "PROJECT LOG     (FD_LOG):      /data/reddylab/Kuei/repo/Proj_ENCODE_FCC/log\n",
      "PROJECT APP     (FD_APP):      /data/reddylab/Kuei/repo/Proj_ENCODE_FCC/app\n",
      "PROJECT REF     (FD_REF):      /data/reddylab/Kuei/repo/Proj_ENCODE_FCC/references\n",
      "PROJECT IMAGE   (FP_PRJ_SIF):  /data/reddylab/Kuei/repo/Proj_ENCODE_FCC/app/singularity_proj_encode_fcc.sif\n",
      "\n"
     ]
    }
   ],
   "source": [
    "source ../run_config_project.sh\n",
    "show_env"
   ]
  },
  {
   "cell_type": "code",
   "execution_count": 7,
   "id": "6c339ea6-6b0e-4171-bd01-4f2fac601fbf",
   "metadata": {},
   "outputs": [
    {
     "name": "stdout",
     "output_type": "stream",
     "text": [
      "\u001b[0m\u001b[38;5;27mdeep_ATAC_STARR_seq.genomic_bin_100_sliding_10\u001b[0m\n",
      "\u001b[38;5;9mdeep_ATAC_STARR_seq.genomic_bin_100_sliding_10.tar.gz\u001b[0m\n",
      "Enhancer call file format documentation.docx\n",
      "\u001b[38;5;27mlentiMPRA\u001b[0m\n",
      "\u001b[38;5;9mlentiMPRA.tar.gz\u001b[0m\n",
      "Note.md\n",
      "Readme.md\n",
      "\u001b[38;5;27mtilingMPRA_MYC_GATA\u001b[0m\n",
      "\u001b[38;5;9mtilingMPRA_MYC_GATA.tar.gz\u001b[0m\n",
      "\u001b[38;5;27mtilingMPRA_OL13\u001b[0m\n",
      "\u001b[38;5;9mtilingMPRA_OL13.tar.gz\u001b[0m\n",
      "\u001b[38;5;27mtilingMPRA_OL45\u001b[0m\n",
      "\u001b[38;5;9mtilingMPRA_OL45.tar.gz\u001b[0m\n",
      "\u001b[38;5;27mWHG_STARR_TR\u001b[0m\n",
      "\u001b[38;5;9mWHG_STARR_TR.tar.gz\u001b[0m\n",
      "\u001b[38;5;27mzold_MPRA\u001b[0m\n"
     ]
    }
   ],
   "source": [
    "FD_INP=${FD_WORK}/proj_encode_fcc/source/annotation_enhancer_junke_zscore\n",
    "ls ${FD_INP}"
   ]
  },
  {
   "cell_type": "code",
   "execution_count": 8,
   "id": "8a85b154-a7db-4bb5-9150-7db12eb131b0",
   "metadata": {},
   "outputs": [
    {
     "name": "stdout",
     "output_type": "stream",
     "text": [
      "\u001b[0m\u001b[38;5;27mlentiMPRA\u001b[0m            \u001b[38;5;9mtilingMPRA_GATA_MYC.tar.gz\u001b[0m  \u001b[38;5;27mtilingMPRA_OL45\u001b[0m\n",
      "\u001b[38;5;9mlentiMPRA.tar.gz\u001b[0m     \u001b[38;5;27mtilingMPRA_OL13\u001b[0m             \u001b[38;5;9mtilingMPRA_OL45.tar.gz\u001b[0m\n",
      "\u001b[38;5;27mtilingMPRA_GATA_MYC\u001b[0m  \u001b[38;5;9mtilingMPRA_OL13.tar.gz\u001b[0m\n"
     ]
    }
   ],
   "source": [
    "ls ${FD_INP}/zold_MPRA"
   ]
  },
  {
   "cell_type": "code",
   "execution_count": 9,
   "id": "a8c67b6a-ba21-4349-a16a-c45f2481707a",
   "metadata": {},
   "outputs": [
    {
     "name": "stdout",
     "output_type": "stream",
     "text": [
      "\u001b[0m\u001b[38;5;9m/data/reddylab/Kuei/work/proj_encode_fcc/source/annotation_enhancer_junke_zscore/deep_ATAC_STARR_seq.genomic_bin_100_sliding_10.tar.gz\u001b[0m\u001b[K\n",
      "\u001b[38;5;9m/data/reddylab/Kuei/work/proj_encode_fcc/source/annotation_enhancer_junke_zscore/lentiMPRA.tar.gz\u001b[0m\u001b[K\n",
      "\u001b[38;5;9m/data/reddylab/Kuei/work/proj_encode_fcc/source/annotation_enhancer_junke_zscore/tilingMPRA_MYC_GATA.tar.gz\u001b[0m\u001b[K\n",
      "\u001b[38;5;9m/data/reddylab/Kuei/work/proj_encode_fcc/source/annotation_enhancer_junke_zscore/tilingMPRA_OL13.tar.gz\u001b[0m\u001b[K\n",
      "\u001b[38;5;9m/data/reddylab/Kuei/work/proj_encode_fcc/source/annotation_enhancer_junke_zscore/tilingMPRA_OL45.tar.gz\u001b[0m\u001b[K\n",
      "\u001b[38;5;9m/data/reddylab/Kuei/work/proj_encode_fcc/source/annotation_enhancer_junke_zscore/WHG_STARR_TR.tar.gz\u001b[0m\u001b[K\n"
     ]
    }
   ],
   "source": [
    "ls ${FD_INP}/*tar.gz"
   ]
  },
  {
   "cell_type": "code",
   "execution_count": 10,
   "id": "4583cf09-f870-4d60-88f0-fc8c000c2bf0",
   "metadata": {},
   "outputs": [],
   "source": [
    "FD_OUT=${FD_DAT}/processed/fcc_enhancer_Junke_zscore\n",
    "cp ${FD_INP}/*tar.gz ${FD_OUT}/"
   ]
  },
  {
   "cell_type": "code",
   "execution_count": 11,
   "id": "3b5c58a9-8b98-42d4-819a-04543d8c2d62",
   "metadata": {},
   "outputs": [
    {
     "name": "stdout",
     "output_type": "stream",
     "text": [
      "-rw-rw-r-- 1 kk319 reddylab 584M Jun 14  2023 \u001b[0m\u001b[38;5;9m/data/reddylab/Kuei/work/proj_encode_fcc/source/annotation_enhancer_junke_zscore/deep_ATAC_STARR_seq.genomic_bin_100_sliding_10.tar.gz\u001b[0m\u001b[K\n",
      "-rw-rw-r-- 1 kk319 reddylab  31M Dec  5 12:26 \u001b[38;5;9m/data/reddylab/Kuei/work/proj_encode_fcc/source/annotation_enhancer_junke_zscore/lentiMPRA.tar.gz\u001b[0m\u001b[K\n",
      "-rw-rw-r-- 1 kk319 reddylab 8.3M Dec  5 12:26 \u001b[38;5;9m/data/reddylab/Kuei/work/proj_encode_fcc/source/annotation_enhancer_junke_zscore/tilingMPRA_MYC_GATA.tar.gz\u001b[0m\u001b[K\n",
      "-rw-rw-r-- 1 kk319 reddylab 3.6M Dec  5 12:26 \u001b[38;5;9m/data/reddylab/Kuei/work/proj_encode_fcc/source/annotation_enhancer_junke_zscore/tilingMPRA_OL13.tar.gz\u001b[0m\u001b[K\n",
      "-rw-rw-r-- 1 kk319 reddylab 7.7M Dec  5 12:26 \u001b[38;5;9m/data/reddylab/Kuei/work/proj_encode_fcc/source/annotation_enhancer_junke_zscore/tilingMPRA_OL45.tar.gz\u001b[0m\u001b[K\n",
      "-rw-rw-r-- 1 kk319 reddylab  22G Jun 14  2023 \u001b[38;5;9m/data/reddylab/Kuei/work/proj_encode_fcc/source/annotation_enhancer_junke_zscore/WHG_STARR_TR.tar.gz\u001b[0m\u001b[K\n"
     ]
    }
   ],
   "source": [
    "ls -lh ${FD_INP}/*tar.gz"
   ]
  },
  {
   "cell_type": "code",
   "execution_count": 12,
   "id": "4baa4f90-190e-4e13-b27f-d8a43cb7059b",
   "metadata": {},
   "outputs": [
    {
     "name": "stdout",
     "output_type": "stream",
     "text": [
      "total 22G\n",
      "-rw-rw-r-- 1 kk319 reddylab 584M Apr 15 11:07 \u001b[0m\u001b[38;5;9mdeep_ATAC_STARR_seq.genomic_bin_100_sliding_10.tar.gz\u001b[0m\n",
      "-rw-rw-r-- 1 kk319 reddylab  31M Apr 15 11:07 \u001b[38;5;9mlentiMPRA.tar.gz\u001b[0m\n",
      "-rw-rw-r-- 1 kk319 reddylab 8.3M Apr 15 11:07 \u001b[38;5;9mtilingMPRA_MYC_GATA.tar.gz\u001b[0m\n",
      "-rw-rw-r-- 1 kk319 reddylab 3.6M Apr 15 11:07 \u001b[38;5;9mtilingMPRA_OL13.tar.gz\u001b[0m\n",
      "-rw-rw-r-- 1 kk319 reddylab 7.7M Apr 15 11:07 \u001b[38;5;9mtilingMPRA_OL45.tar.gz\u001b[0m\n",
      "-rw-rw-r-- 1 kk319 reddylab  22G Apr 15 11:08 \u001b[38;5;9mWHG_STARR_TR.tar.gz\u001b[0m\n"
     ]
    }
   ],
   "source": [
    "ls -lh ${FD_OUT}"
   ]
  },
  {
   "cell_type": "code",
   "execution_count": 15,
   "id": "7af84ad6-02dd-4f7a-8aef-40d5e49dc1a3",
   "metadata": {},
   "outputs": [
    {
     "name": "stdout",
     "output_type": "stream",
     "text": [
      "deep_ATAC_STARR_seq.genomic_bin_100_sliding_10.tar.gz\n",
      "lentiMPRA.tar.gz\n",
      "tilingMPRA_MYC_GATA.tar.gz\n",
      "tilingMPRA_OL13.tar.gz\n",
      "tilingMPRA_OL45.tar.gz\n",
      "WHG_STARR_TR.tar.gz\n"
     ]
    }
   ],
   "source": [
    "ls -1 ${FD_OUT}/*tar.gz | xargs -n 1 basename"
   ]
  },
  {
   "cell_type": "code",
   "execution_count": null,
   "id": "7d8d5903-d780-43c1-9941-c698fb284bf0",
   "metadata": {},
   "outputs": [],
   "source": []
  }
 ],
 "metadata": {
  "kernelspec": {
   "display_name": "Bash",
   "language": "bash",
   "name": "bash"
  },
  "language_info": {
   "codemirror_mode": "shell",
   "file_extension": ".sh",
   "mimetype": "text/x-sh",
   "name": "bash"
  }
 },
 "nbformat": 4,
 "nbformat_minor": 5
}
