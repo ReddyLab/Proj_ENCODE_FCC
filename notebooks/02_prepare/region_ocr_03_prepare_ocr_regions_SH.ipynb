{
 "cells": [
  {
   "cell_type": "raw",
   "id": "655a3b74-e322-4597-90ce-2863c59b56df",
   "metadata": {},
   "source": [
    "---\n",
    "title: Prepare ENCODE ATAC/DNase Peaks 03\n",
    "subtitle: Prepare the peak files\n",
    "format:\n",
    "    html:\n",
    "        code-fold:  true\n",
    "        code-tools: true\n",
    "---"
   ]
  },
  {
   "cell_type": "markdown",
   "id": "fcbd185b-ba0e-4586-8687-5afb436a77d8",
   "metadata": {},
   "source": [
    "**Set environment**"
   ]
  },
  {
   "cell_type": "code",
   "execution_count": 1,
   "id": "f2ca7f4e-a2d1-46db-b1ad-24b4b8dfb937",
   "metadata": {},
   "outputs": [
    {
     "name": "stdout",
     "output_type": "stream",
     "text": [
      "You are working on             Duke Server: HARDAC\n",
      "BASE DIRECTORY (FD_BASE):      /data/reddylab/Kuei\n",
      "REPO DIRECTORY (FD_REPO):      /data/reddylab/Kuei/repo\n",
      "WORK DIRECTORY (FD_WORK):      /data/reddylab/Kuei/work\n",
      "DATA DIRECTORY (FD_DATA):      /data/reddylab/Kuei/data\n",
      "CONTAINER DIR. (FD_SING):      /data/reddylab/Kuei/container\n",
      "\n",
      "You are working with           ENCODE FCC\n",
      "PATH OF PROJECT (FD_PRJ):      /data/reddylab/Kuei/repo/Proj_CombEffect_ENCODE_FCC\n",
      "PROJECT RESULTS (FD_RES):      /data/reddylab/Kuei/repo/Proj_CombEffect_ENCODE_FCC/results\n",
      "PROJECT SCRIPTS (FD_EXE):      /data/reddylab/Kuei/repo/Proj_CombEffect_ENCODE_FCC/scripts\n",
      "PROJECT DATA    (FD_DAT):      /data/reddylab/Kuei/repo/Proj_CombEffect_ENCODE_FCC/data\n",
      "PROJECT NOTE    (FD_NBK):      /data/reddylab/Kuei/repo/Proj_CombEffect_ENCODE_FCC/notebooks\n",
      "PROJECT DOCS    (FD_DOC):      /data/reddylab/Kuei/repo/Proj_CombEffect_ENCODE_FCC/docs\n",
      "PROJECT LOG     (FD_LOG):      /data/reddylab/Kuei/repo/Proj_CombEffect_ENCODE_FCC/log\n",
      "PROJECT APP     (FD_APP):      /data/reddylab/Kuei/repo/Proj_CombEffect_ENCODE_FCC/app\n",
      "PROJECT REF     (FD_REF):      /data/reddylab/Kuei/repo/Proj_CombEffect_ENCODE_FCC/references\n",
      "PROJECT IMAGE   (FP_PRJ_SIF):  /data/reddylab/Kuei/repo/Proj_CombEffect_ENCODE_FCC/app/singularity_proj_encode_fcc.sif\n",
      "\n"
     ]
    }
   ],
   "source": [
    "source ../run_config_project.sh\n",
    "show_env"
   ]
  },
  {
   "cell_type": "markdown",
   "id": "26fc9be3-7ec1-4f09-807b-afd1a199129e",
   "metadata": {},
   "source": [
    "## Explore the files\n",
    "The peak file is in narrowPeak format, which is a standard six field bed with four additional fields (BED6+4 format)"
   ]
  },
  {
   "cell_type": "code",
   "execution_count": 2,
   "id": "fe1d3e15-ad4e-4d04-beb9-96daee097a74",
   "metadata": {},
   "outputs": [
    {
     "name": "stdout",
     "output_type": "stream",
     "text": [
      "K562.hg38.ENCSR000EKS.ENCFF274YGF.DNase.bed.gz\n",
      "K562.hg38.ENCSR000EOT.ENCFF185XRG.DNase.bed.gz\n",
      "K562.hg38.ENCSR483RKN.ENCFF558BLC.ATAC.bed.gz\n",
      "K562.hg38.ENCSR483RKN.ENCFF925CYR.ATAC.bed.gz\n",
      "K562.hg38.ENCSR868FGK.ENCFF333TAT.ATAC.bed.gz\n",
      "K562.hg38.ENCSR868FGK.ENCFF948AFM.ATAC.bed.gz\n"
     ]
    }
   ],
   "source": [
    "FDIRY=${FD_DAT}/external/encode_open_chromatin\n",
    "ls ${FDIRY}/*.bed.gz | xargs -n 1 basename"
   ]
  },
  {
   "cell_type": "code",
   "execution_count": 3,
   "id": "70b4a16c-66b8-4adc-b815-17b85360593b",
   "metadata": {},
   "outputs": [
    {
     "name": "stdout",
     "output_type": "stream",
     "text": [
      "chr1\t181400\t181530\t.\t0\t.\t0.299874\t-1\t-1\t75\n",
      "chr1\t778660\t778800\t.\t0\t.\t14.1383\t-1\t-1\t75\n",
      "chr1\t779137\t779200\t.\t0\t.\t0.33144\t-1\t-1\t75\n",
      "chr1\t827460\t827554\t.\t0\t.\t3.38384\t-1\t-1\t75\n",
      "chr1\t842880\t843060\t.\t0\t.\t1.64457\t-1\t-1\t75\n",
      "chr1\t869800\t869980\t.\t0\t.\t2.23485\t-1\t-1\t75\n",
      "chr1\t875760\t875920\t.\t0\t.\t0.356692\t-1\t-1\t75\n",
      "chr1\t898828\t899004\t.\t0\t.\t0.363005\t-1\t-1\t75\n",
      "chr1\t900030\t900100\t.\t0\t.\t0.249369\t-1\t-1\t75\n",
      "chr1\t901580\t901645\t.\t0\t.\t0.217803\t-1\t-1\t75\n"
     ]
    }
   ],
   "source": [
    "FDIRY=${FD_DAT}/external/encode_open_chromatin\n",
    "FNAME=K562.hg38.ENCSR000EKS.ENCFF274YGF.DNase.bed.gz\n",
    "FPATH=${FDIRY}/${FNAME}\n",
    "zcat ${FPATH} | head"
   ]
  },
  {
   "cell_type": "markdown",
   "id": "53e1fdfa-bb7f-4be4-84a5-0ae7b60ef511",
   "metadata": {},
   "source": [
    "## Link the folder\n",
    "```\n",
    "ln -s file link\n",
    "```"
   ]
  },
  {
   "cell_type": "code",
   "execution_count": 4,
   "id": "fb1e9dd5-107f-438f-984e-92d939198f58",
   "metadata": {},
   "outputs": [],
   "source": [
    "FILE=${FD_DAT}/external/encode_open_chromatin\n",
    "LINK=${FD_RES}/region/encode_open_chromatin\n",
    "\n",
    "if [[ ! -e ${LINK} ]]; then\n",
    "   ln -s ${FILE} ${LINK}\n",
    "fi"
   ]
  },
  {
   "cell_type": "code",
   "execution_count": 5,
   "id": "bf10bbea-3872-4e07-93b9-91f9df480fe1",
   "metadata": {},
   "outputs": [
    {
     "name": "stdout",
     "output_type": "stream",
     "text": [
      "\u001b[0m\u001b[38;5;27mencode_ccres\u001b[0m              \u001b[38;5;27mencode_chromhmm\u001b[0m        \u001b[38;5;27mstarr_macs\u001b[0m\n",
      "\u001b[38;5;27mencode_ccres_silencer\u001b[0m     \u001b[38;5;51mencode_open_chromatin\u001b[0m\n",
      "\u001b[38;5;27mencode_chipseq_tf_subset\u001b[0m  \u001b[38;5;27mstarr_csaw\u001b[0m\n"
     ]
    }
   ],
   "source": [
    "ls ${FD_RES}/region"
   ]
  },
  {
   "cell_type": "code",
   "execution_count": 6,
   "id": "00ad3368-f4de-48e7-b805-ee310e4d0cca",
   "metadata": {},
   "outputs": [
    {
     "name": "stdout",
     "output_type": "stream",
     "text": [
      "lrwxrwxrwx 1 kk319 reddylab 87 Mar  6 14:06 \u001b[0m\u001b[38;5;51m/data/reddylab/Kuei/repo/Proj_CombEffect_ENCODE_FCC/results/region/encode_open_chromatin\u001b[0m\u001b[K -> \u001b[38;5;27m/data/reddylab/Kuei/repo/Proj_CombEffect_ENCODE_FCC/data/external/encode_open_chromatin\u001b[0m\u001b[K\n"
     ]
    }
   ],
   "source": [
    "ls -l ${FD_RES}/region/encode_open_chromatin"
   ]
  },
  {
   "cell_type": "code",
   "execution_count": 7,
   "id": "acc175ed-3ef8-494d-a5a6-f69b1ad31261",
   "metadata": {},
   "outputs": [
    {
     "name": "stdout",
     "output_type": "stream",
     "text": [
      "description.tsv\n",
      "\u001b[0m\u001b[38;5;9mK562.hg38.ENCSR000EKS.ENCFF274YGF.DNase.bed.gz\u001b[0m\n",
      "\u001b[38;5;9mK562.hg38.ENCSR000EOT.ENCFF185XRG.DNase.bed.gz\u001b[0m\n",
      "\u001b[38;5;9mK562.hg38.ENCSR483RKN.ENCFF558BLC.ATAC.bed.gz\u001b[0m\n",
      "\u001b[38;5;9mK562.hg38.ENCSR483RKN.ENCFF925CYR.ATAC.bed.gz\u001b[0m\n",
      "\u001b[38;5;9mK562.hg38.ENCSR868FGK.ENCFF333TAT.ATAC.bed.gz\u001b[0m\n",
      "\u001b[38;5;9mK562.hg38.ENCSR868FGK.ENCFF948AFM.ATAC.bed.gz\u001b[0m\n",
      "run_download.log.txt\n",
      "\u001b[38;5;34mrun_download.sh\u001b[0m\n"
     ]
    }
   ],
   "source": [
    "ls ${FD_DAT}/external/encode_open_chromatin"
   ]
  },
  {
   "cell_type": "code",
   "execution_count": 8,
   "id": "d7be3777-adfd-40e4-bcf1-3147d5a0d6e2",
   "metadata": {},
   "outputs": [
    {
     "name": "stdout",
     "output_type": "stream",
     "text": [
      "description.tsv\n",
      "\u001b[0m\u001b[38;5;9mK562.hg38.ENCSR000EKS.ENCFF274YGF.DNase.bed.gz\u001b[0m\n",
      "\u001b[38;5;9mK562.hg38.ENCSR000EOT.ENCFF185XRG.DNase.bed.gz\u001b[0m\n",
      "\u001b[38;5;9mK562.hg38.ENCSR483RKN.ENCFF558BLC.ATAC.bed.gz\u001b[0m\n",
      "\u001b[38;5;9mK562.hg38.ENCSR483RKN.ENCFF925CYR.ATAC.bed.gz\u001b[0m\n",
      "\u001b[38;5;9mK562.hg38.ENCSR868FGK.ENCFF333TAT.ATAC.bed.gz\u001b[0m\n",
      "\u001b[38;5;9mK562.hg38.ENCSR868FGK.ENCFF948AFM.ATAC.bed.gz\u001b[0m\n",
      "run_download.log.txt\n",
      "\u001b[38;5;34mrun_download.sh\u001b[0m\n"
     ]
    }
   ],
   "source": [
    "ls ${FD_RES}/region/encode_open_chromatin"
   ]
  },
  {
   "cell_type": "code",
   "execution_count": null,
   "id": "8dfbc3b7-2e76-475e-ae66-caef40adc389",
   "metadata": {},
   "outputs": [],
   "source": []
  }
 ],
 "metadata": {
  "kernelspec": {
   "display_name": "Bash",
   "language": "bash",
   "name": "bash"
  },
  "language_info": {
   "codemirror_mode": "shell",
   "file_extension": ".sh",
   "mimetype": "text/x-sh",
   "name": "bash"
  }
 },
 "nbformat": 4,
 "nbformat_minor": 5
}
