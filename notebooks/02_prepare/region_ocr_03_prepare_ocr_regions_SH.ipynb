{
 "cells": [
  {
   "cell_type": "raw",
   "id": "655a3b74-e322-4597-90ce-2863c59b56df",
   "metadata": {},
   "source": [
    "---\n",
    "title: Prepare ENCODE ATAC/DNase Peaks 03\n",
    "subtitle: Prepare the peak files\n",
    "format:\n",
    "    html:\n",
    "        code-fold:  true\n",
    "        code-tools: true\n",
    "---"
   ]
  },
  {
   "cell_type": "markdown",
   "id": "fcbd185b-ba0e-4586-8687-5afb436a77d8",
   "metadata": {},
   "source": [
    "**Set environment**"
   ]
  },
  {
   "cell_type": "code",
   "execution_count": 1,
   "id": "f2ca7f4e-a2d1-46db-b1ad-24b4b8dfb937",
   "metadata": {},
   "outputs": [
    {
     "name": "stdout",
     "output_type": "stream",
     "text": [
      "You are working on             Duke Server: HARDAC\n",
      "BASE DIRECTORY (FD_BASE):      /data/reddylab/Kuei\n",
      "REPO DIRECTORY (FD_REPO):      /data/reddylab/Kuei/repo\n",
      "WORK DIRECTORY (FD_WORK):      /data/reddylab/Kuei/work\n",
      "DATA DIRECTORY (FD_DATA):      /data/reddylab/Kuei/data\n",
      "CONTAINER DIR. (FD_SING):      /data/reddylab/Kuei/container\n",
      "\n",
      "You are working with           ENCODE FCC\n",
      "PATH OF PROJECT (FD_PRJ):      /data/reddylab/Kuei/repo/Proj_CombEffect_ENCODE_FCC\n",
      "PROJECT RESULTS (FD_RES):      /data/reddylab/Kuei/repo/Proj_CombEffect_ENCODE_FCC/results\n",
      "PROJECT SCRIPTS (FD_EXE):      /data/reddylab/Kuei/repo/Proj_CombEffect_ENCODE_FCC/scripts\n",
      "PROJECT DATA    (FD_DAT):      /data/reddylab/Kuei/repo/Proj_CombEffect_ENCODE_FCC/data\n",
      "PROJECT NOTE    (FD_NBK):      /data/reddylab/Kuei/repo/Proj_CombEffect_ENCODE_FCC/notebooks\n",
      "PROJECT DOCS    (FD_DOC):      /data/reddylab/Kuei/repo/Proj_CombEffect_ENCODE_FCC/docs\n",
      "PROJECT LOG     (FD_LOG):      /data/reddylab/Kuei/repo/Proj_CombEffect_ENCODE_FCC/log\n",
      "PROJECT APP     (FD_APP):      /data/reddylab/Kuei/repo/Proj_CombEffect_ENCODE_FCC/app\n",
      "PROJECT REF     (FD_REF):      /data/reddylab/Kuei/repo/Proj_CombEffect_ENCODE_FCC/references\n",
      "PROJECT IMAGE   (FP_PRJ_SIF):  /data/reddylab/Kuei/repo/Proj_CombEffect_ENCODE_FCC/app/singularity_proj_encode_fcc.sif\n",
      "\n"
     ]
    }
   ],
   "source": [
    "source ../run_config_project.sh\n",
    "show_env"
   ]
  },
  {
   "cell_type": "markdown",
   "id": "26fc9be3-7ec1-4f09-807b-afd1a199129e",
   "metadata": {},
   "source": [
    "## Explore the files\n",
    "The peak file is in narrowPeak format, which is a standard six field bed with four additional fields (BED6+4 format)"
   ]
  },
  {
   "cell_type": "code",
   "execution_count": 22,
   "id": "1eb2dd90-d12a-4d52-9437-b9b3c7e13775",
   "metadata": {},
   "outputs": [
    {
     "name": "stdout",
     "output_type": "stream",
     "text": [
      "-rw-rw-r-- 1 kk319 reddylab 1.3M Nov 24  2020 \u001b[0m\u001b[38;5;9m/data/reddylab/Kuei/repo/Proj_CombEffect_ENCODE_FCC/data/external/encode_open_chromatin/K562.hg38.ENCSR000EKS.ENCFF274YGF.DNase.bed.gz\u001b[0m\u001b[K\n",
      "-rw-rw-r-- 1 kk319 reddylab 1.8M Nov 20  2020 \u001b[38;5;9m/data/reddylab/Kuei/repo/Proj_CombEffect_ENCODE_FCC/data/external/encode_open_chromatin/K562.hg38.ENCSR000EOT.ENCFF185XRG.DNase.bed.gz\u001b[0m\u001b[K\n",
      "-rw-rw-r-- 1 kk319 reddylab 4.8M Mar  2  2021 \u001b[38;5;9m/data/reddylab/Kuei/repo/Proj_CombEffect_ENCODE_FCC/data/external/encode_open_chromatin/K562.hg38.ENCSR483RKN.ENCFF558BLC.ATAC.bed.gz\u001b[0m\u001b[K\n",
      "-rw-rw-r-- 1 kk319 reddylab 2.7M Mar  2  2021 \u001b[38;5;9m/data/reddylab/Kuei/repo/Proj_CombEffect_ENCODE_FCC/data/external/encode_open_chromatin/K562.hg38.ENCSR483RKN.ENCFF925CYR.ATAC.bed.gz\u001b[0m\u001b[K\n",
      "-rw-rw-r-- 1 kk319 reddylab 6.8M Mar 19  2021 \u001b[38;5;9m/data/reddylab/Kuei/repo/Proj_CombEffect_ENCODE_FCC/data/external/encode_open_chromatin/K562.hg38.ENCSR868FGK.ENCFF333TAT.ATAC.bed.gz\u001b[0m\u001b[K\n",
      "-rw-rw-r-- 1 kk319 reddylab 4.1M Mar 19  2021 \u001b[38;5;9m/data/reddylab/Kuei/repo/Proj_CombEffect_ENCODE_FCC/data/external/encode_open_chromatin/K562.hg38.ENCSR868FGK.ENCFF948AFM.ATAC.bed.gz\u001b[0m\u001b[K\n"
     ]
    }
   ],
   "source": [
    "FDIRY=${FD_DAT}/external/encode_open_chromatin\n",
    "ls -lh ${FDIRY}/*.bed.gz"
   ]
  },
  {
   "cell_type": "code",
   "execution_count": 19,
   "id": "fe1d3e15-ad4e-4d04-beb9-96daee097a74",
   "metadata": {},
   "outputs": [
    {
     "name": "stdout",
     "output_type": "stream",
     "text": [
      "K562.hg38.ENCSR000EKS.ENCFF274YGF.DNase.bed.gz\n",
      "K562.hg38.ENCSR000EOT.ENCFF185XRG.DNase.bed.gz\n",
      "K562.hg38.ENCSR483RKN.ENCFF558BLC.ATAC.bed.gz\n",
      "K562.hg38.ENCSR483RKN.ENCFF925CYR.ATAC.bed.gz\n",
      "K562.hg38.ENCSR868FGK.ENCFF333TAT.ATAC.bed.gz\n",
      "K562.hg38.ENCSR868FGK.ENCFF948AFM.ATAC.bed.gz\n"
     ]
    }
   ],
   "source": [
    "FDIRY=${FD_DAT}/external/encode_open_chromatin\n",
    "ls ${FDIRY}/*.bed.gz | xargs -n 1 basename"
   ]
  },
  {
   "cell_type": "code",
   "execution_count": 3,
   "id": "70b4a16c-66b8-4adc-b815-17b85360593b",
   "metadata": {},
   "outputs": [
    {
     "name": "stdout",
     "output_type": "stream",
     "text": [
      "chr1\t181400\t181530\t.\t0\t.\t0.299874\t-1\t-1\t75\n",
      "chr1\t778660\t778800\t.\t0\t.\t14.1383\t-1\t-1\t75\n",
      "chr1\t779137\t779200\t.\t0\t.\t0.33144\t-1\t-1\t75\n",
      "chr1\t827460\t827554\t.\t0\t.\t3.38384\t-1\t-1\t75\n",
      "chr1\t842880\t843060\t.\t0\t.\t1.64457\t-1\t-1\t75\n",
      "chr1\t869800\t869980\t.\t0\t.\t2.23485\t-1\t-1\t75\n",
      "chr1\t875760\t875920\t.\t0\t.\t0.356692\t-1\t-1\t75\n",
      "chr1\t898828\t899004\t.\t0\t.\t0.363005\t-1\t-1\t75\n",
      "chr1\t900030\t900100\t.\t0\t.\t0.249369\t-1\t-1\t75\n",
      "chr1\t901580\t901645\t.\t0\t.\t0.217803\t-1\t-1\t75\n"
     ]
    }
   ],
   "source": [
    "FDIRY=${FD_DAT}/external/encode_open_chromatin\n",
    "FNAME=K562.hg38.ENCSR000EKS.ENCFF274YGF.DNase.bed.gz\n",
    "FPATH=${FDIRY}/${FNAME}\n",
    "zcat ${FPATH} | head"
   ]
  },
  {
   "cell_type": "code",
   "execution_count": 4,
   "id": "0112dd0b-2b5a-4017-b218-f363b6188d9d",
   "metadata": {},
   "outputs": [
    {
     "name": "stdout",
     "output_type": "stream",
     "text": [
      "description.tsv\n",
      "\u001b[0m\u001b[38;5;9mK562.hg38.ENCSR000EKS.ENCFF274YGF.DNase.bed.gz\u001b[0m\n",
      "\u001b[38;5;9mK562.hg38.ENCSR000EOT.ENCFF185XRG.DNase.bed.gz\u001b[0m\n",
      "\u001b[38;5;9mK562.hg38.ENCSR483RKN.ENCFF558BLC.ATAC.bed.gz\u001b[0m\n",
      "\u001b[38;5;9mK562.hg38.ENCSR483RKN.ENCFF925CYR.ATAC.bed.gz\u001b[0m\n",
      "\u001b[38;5;9mK562.hg38.ENCSR868FGK.ENCFF333TAT.ATAC.bed.gz\u001b[0m\n",
      "\u001b[38;5;9mK562.hg38.ENCSR868FGK.ENCFF948AFM.ATAC.bed.gz\u001b[0m\n",
      "run_download.log.txt\n",
      "\u001b[38;5;34mrun_download.sh\u001b[0m\n"
     ]
    }
   ],
   "source": [
    "FDIRY=${FD_DAT}/external/encode_open_chromatin\n",
    "ls ${FDIRY}"
   ]
  },
  {
   "cell_type": "code",
   "execution_count": 23,
   "id": "d267650f-3cc0-4dd7-b28f-2669120e0a69",
   "metadata": {},
   "outputs": [
    {
     "name": "stdout",
     "output_type": "stream",
     "text": [
      "chr1\t100028923\t100029241\tPeak_202759\t52\t.\t2.91347\t5.24652\t3.38358\t74\n",
      "chr1\t100037575\t100038998\tPeak_172664\t68\t.\t1.83651\t6.83702\t4.90355\t60\n",
      "chr1\t100037575\t100038998\tPeak_30781\t934\t.\t5.32597\t93.45621\t90.75060\t988\n",
      "chr1\t100037575\t100038998\tPeak_37596\t722\t.\t4.66917\t72.27560\t69.66279\t791\n",
      "chr1\t100037575\t100038998\tPeak_38860\t692\t.\t4.55797\t69.21054\t66.61273\t1182\n",
      "chr1\t100037575\t100038998\tPeak_7320\t1000\t.\t12.39880\t394.75714\t391.35434\t513\n",
      "chr1\t100046904\t100047187\tPeak_125191\t111\t.\t3.44067\t11.11133\t9.04548\t94\n",
      "chr1\t100048739\t100048974\tPeak_163268\t74\t.\t2.90807\t7.42227\t5.46578\t145\n",
      "chr1\t100050176\t100050470\tPeak_153800\t81\t.\t3.11401\t8.14941\t6.16809\t117\n",
      "chr1\t100090679\t100091339\tPeak_149202\t84\t.\t3.47044\t8.41934\t6.42649\t269\n"
     ]
    }
   ],
   "source": [
    "FDIRY=${FD_DAT}/external/encode_open_chromatin\n",
    "FNAME=K562.hg38.ENCSR483RKN.ENCFF558BLC.ATAC.bed.gz\n",
    "FPATH=${FDIRY}/${FNAME}\n",
    "zcat ${FPATH} | head"
   ]
  },
  {
   "cell_type": "markdown",
   "id": "53e1fdfa-bb7f-4be4-84a5-0ae7b60ef511",
   "metadata": {},
   "source": [
    "## Link the folder\n",
    "```\n",
    "ln -s file link\n",
    "```"
   ]
  },
  {
   "cell_type": "code",
   "execution_count": null,
   "id": "d42c3a0d-a2db-4e40-a95c-a1e9148d95e4",
   "metadata": {},
   "outputs": [],
   "source": [
    "sort -k 1,1 -k2,2n"
   ]
  },
  {
   "cell_type": "code",
   "execution_count": 7,
   "id": "60cc2c76-33a7-4065-b178-a2e13a44b076",
   "metadata": {},
   "outputs": [
    {
     "name": "stdout",
     "output_type": "stream",
     "text": [
      "lrwxrwxrwx 1 kk319 reddylab 87 Mar  6 14:06 \u001b[0m\u001b[38;5;51m/data/reddylab/Kuei/repo/Proj_CombEffect_ENCODE_FCC/results/region/encode_open_chromatin\u001b[0m\u001b[K -> \u001b[38;5;27m/data/reddylab/Kuei/repo/Proj_CombEffect_ENCODE_FCC/data/external/encode_open_chromatin\u001b[0m\u001b[K\n"
     ]
    }
   ],
   "source": [
    "ls -l ${FD_RES}/region/encode_open_chromatin"
   ]
  },
  {
   "cell_type": "code",
   "execution_count": 8,
   "id": "dd21bf04-fe1b-4742-aea9-de512ceac3ef",
   "metadata": {},
   "outputs": [],
   "source": [
    "rm ${FD_RES}/region/encode_open_chromatin"
   ]
  },
  {
   "cell_type": "code",
   "execution_count": 9,
   "id": "8d985168-e5c7-4ca9-9e12-3ec26afced93",
   "metadata": {},
   "outputs": [
    {
     "name": "stdout",
     "output_type": "stream",
     "text": [
      "description.tsv\n",
      "\u001b[0m\u001b[38;5;9mK562.hg38.ENCSR000EKS.ENCFF274YGF.DNase.bed.gz\u001b[0m\n",
      "\u001b[38;5;9mK562.hg38.ENCSR000EOT.ENCFF185XRG.DNase.bed.gz\u001b[0m\n",
      "\u001b[38;5;9mK562.hg38.ENCSR483RKN.ENCFF558BLC.ATAC.bed.gz\u001b[0m\n",
      "\u001b[38;5;9mK562.hg38.ENCSR483RKN.ENCFF925CYR.ATAC.bed.gz\u001b[0m\n",
      "\u001b[38;5;9mK562.hg38.ENCSR868FGK.ENCFF333TAT.ATAC.bed.gz\u001b[0m\n",
      "\u001b[38;5;9mK562.hg38.ENCSR868FGK.ENCFF948AFM.ATAC.bed.gz\u001b[0m\n",
      "run_download.log.txt\n",
      "\u001b[38;5;34mrun_download.sh\u001b[0m\n"
     ]
    }
   ],
   "source": [
    "FDIRY=${FD_DAT}/external/encode_open_chromatin\n",
    "ls ${FDIRY}"
   ]
  },
  {
   "cell_type": "code",
   "execution_count": 10,
   "id": "08539838-2f33-43a1-91e9-c14be679dc89",
   "metadata": {},
   "outputs": [],
   "source": [
    "mkdir -p ${FD_RES}/region/encode_open_chromatin"
   ]
  },
  {
   "cell_type": "code",
   "execution_count": 34,
   "id": "def12d6c-d941-4c0f-85fb-76fc3396abe3",
   "metadata": {},
   "outputs": [
    {
     "name": "stdout",
     "output_type": "stream",
     "text": [
      "K562.hg38.ENCSR000EKS.ENCFF274YGF.DNase.bed.gz\n",
      "K562.hg38.ENCSR000EOT.ENCFF185XRG.DNase.bed.gz\n",
      "K562.hg38.ENCSR483RKN.ENCFF558BLC.ATAC.bed.gz\n",
      "K562.hg38.ENCSR483RKN.ENCFF925CYR.ATAC.bed.gz\n",
      "K562.hg38.ENCSR868FGK.ENCFF333TAT.ATAC.bed.gz\n",
      "K562.hg38.ENCSR868FGK.ENCFF948AFM.ATAC.bed.gz\n"
     ]
    }
   ],
   "source": [
    "FD_INP=${FD_DAT}/external/encode_open_chromatin\n",
    "FD_OUT=${FD_RES}/region/encode_open_chromatin\n",
    "\n",
    "FP_INPS=($(ls ${FD_INP}/*bed.gz))\n",
    "for FP_INP in ${FP_INPS[@]}; do\n",
    "    ###\n",
    "    FN_INP=$(basename ${FP_INP})\n",
    "    echo ${FN_INP}\n",
    "    \n",
    "    ###\n",
    "    FN_OUT=${FN_INP}\n",
    "    FP_OUT=${FD_OUT}/${FN_OUT}\n",
    "    \n",
    "    ###\n",
    "    zcat ${FP_INP} | sort -k 1,1 -k2,2n | gzip -c > ${FP_OUT}\n",
    "done"
   ]
  },
  {
   "cell_type": "code",
   "execution_count": 35,
   "id": "1a520745-ee7b-4993-8cd5-039cb1eb9522",
   "metadata": {},
   "outputs": [
    {
     "name": "stdout",
     "output_type": "stream",
     "text": [
      "K562.hg38.ENCSR000EKS.ENCFF274YGF.DNase.bed.gz\n",
      "chr1\t181400\t181530\t.\t0\t.\t0.299874\t-1\t-1\t75\n",
      "chr1\t778660\t778800\t.\t0\t.\t14.1383\t-1\t-1\t75\n",
      "chr1\t779137\t779200\t.\t0\t.\t0.33144\t-1\t-1\t75\n",
      "chr1\t827460\t827554\t.\t0\t.\t3.38384\t-1\t-1\t75\n",
      "chr1\t842880\t843060\t.\t0\t.\t1.64457\t-1\t-1\t75\n",
      "chr1\t869800\t869980\t.\t0\t.\t2.23485\t-1\t-1\t75\n",
      "chr1\t875760\t875920\t.\t0\t.\t0.356692\t-1\t-1\t75\n",
      "chr1\t898828\t899004\t.\t0\t.\t0.363005\t-1\t-1\t75\n",
      "chr1\t900030\t900100\t.\t0\t.\t0.249369\t-1\t-1\t75\n",
      "chr1\t901580\t901645\t.\t0\t.\t0.217803\t-1\t-1\t75\n",
      "\n",
      "chr1\t181400\t181530\t.\t0\t.\t0.299874\t-1\t-1\t75\n",
      "chr1\t778660\t778800\t.\t0\t.\t14.1383\t-1\t-1\t75\n",
      "chr1\t779137\t779200\t.\t0\t.\t0.33144\t-1\t-1\t75\n",
      "chr1\t827460\t827554\t.\t0\t.\t3.38384\t-1\t-1\t75\n",
      "chr1\t842880\t843060\t.\t0\t.\t1.64457\t-1\t-1\t75\n",
      "chr1\t869800\t869980\t.\t0\t.\t2.23485\t-1\t-1\t75\n",
      "chr1\t875760\t875920\t.\t0\t.\t0.356692\t-1\t-1\t75\n",
      "chr1\t898828\t899004\t.\t0\t.\t0.363005\t-1\t-1\t75\n",
      "chr1\t900030\t900100\t.\t0\t.\t0.249369\t-1\t-1\t75\n",
      "chr1\t901580\t901645\t.\t0\t.\t0.217803\t-1\t-1\t75\n",
      "\n",
      "K562.hg38.ENCSR000EOT.ENCFF185XRG.DNase.bed.gz\n",
      "chr1\t139369\t139421\t.\t0\t.\t0.0872467\t-1\t-1\t75\n",
      "chr1\t180800\t180871\t.\t0\t.\t0.137102\t-1\t-1\t75\n",
      "chr1\t181108\t181200\t.\t0\t.\t0.124638\t-1\t-1\t75\n",
      "chr1\t181400\t181560\t.\t0\t.\t1.57044\t-1\t-1\t75\n",
      "chr1\t186785\t186839\t.\t0\t.\t0.0581644\t-1\t-1\t75\n",
      "chr1\t186980\t187129\t.\t0\t.\t0.0914013\t-1\t-1\t75\n",
      "chr1\t268011\t268080\t.\t0\t.\t1.46657\t-1\t-1\t75\n",
      "chr1\t777860\t778036\t.\t0\t.\t0.282513\t-1\t-1\t75\n",
      "chr1\t778740\t778860\t.\t0\t.\t23.9679\t-1\t-1\t75\n",
      "chr1\t779086\t779320\t.\t0\t.\t0.506862\t-1\t-1\t75\n",
      "\n",
      "chr1\t139369\t139421\t.\t0\t.\t0.0872467\t-1\t-1\t75\n",
      "chr1\t180800\t180871\t.\t0\t.\t0.137102\t-1\t-1\t75\n",
      "chr1\t181108\t181200\t.\t0\t.\t0.124638\t-1\t-1\t75\n",
      "chr1\t181400\t181560\t.\t0\t.\t1.57044\t-1\t-1\t75\n",
      "chr1\t186785\t186839\t.\t0\t.\t0.0581644\t-1\t-1\t75\n",
      "chr1\t186980\t187129\t.\t0\t.\t0.0914013\t-1\t-1\t75\n",
      "chr1\t268011\t268080\t.\t0\t.\t1.46657\t-1\t-1\t75\n",
      "chr1\t777860\t778036\t.\t0\t.\t0.282513\t-1\t-1\t75\n",
      "chr1\t778740\t778860\t.\t0\t.\t23.9679\t-1\t-1\t75\n",
      "chr1\t779086\t779320\t.\t0\t.\t0.506862\t-1\t-1\t75\n",
      "\n",
      "K562.hg38.ENCSR483RKN.ENCFF558BLC.ATAC.bed.gz\n",
      "chr1\t100028923\t100029241\tPeak_202759\t52\t.\t2.91347\t5.24652\t3.38358\t74\n",
      "chr1\t100037575\t100038998\tPeak_172664\t68\t.\t1.83651\t6.83702\t4.90355\t60\n",
      "chr1\t100037575\t100038998\tPeak_30781\t934\t.\t5.32597\t93.45621\t90.75060\t988\n",
      "chr1\t100037575\t100038998\tPeak_37596\t722\t.\t4.66917\t72.27560\t69.66279\t791\n",
      "chr1\t100037575\t100038998\tPeak_38860\t692\t.\t4.55797\t69.21054\t66.61273\t1182\n",
      "chr1\t100037575\t100038998\tPeak_7320\t1000\t.\t12.39880\t394.75714\t391.35434\t513\n",
      "chr1\t100046904\t100047187\tPeak_125191\t111\t.\t3.44067\t11.11133\t9.04548\t94\n",
      "chr1\t100048739\t100048974\tPeak_163268\t74\t.\t2.90807\t7.42227\t5.46578\t145\n",
      "chr1\t100050176\t100050470\tPeak_153800\t81\t.\t3.11401\t8.14941\t6.16809\t117\n",
      "chr1\t100090679\t100091339\tPeak_149202\t84\t.\t3.47044\t8.41934\t6.42649\t269\n",
      "\n",
      "chr1\t10509\t10674\tPeak_125662\t110\t.\t4.29354\t11.01368\t8.94965\t94\n",
      "chr1\t41987\t42385\tPeak_116641\t124\t.\t4.60022\t12.47548\t10.37921\t281\n",
      "chr1\t41987\t42385\tPeak_178161\t63\t.\t3.22015\t6.39968\t4.47989\t99\n",
      "chr1\t46755\t47025\tPeak_217457\t47\t.\t2.76013\t4.70157\t2.87144\t182\n",
      "chr1\t68969\t69964\tPeak_105604\t147\t.\t5.06024\t14.77241\t12.63228\t733\n",
      "chr1\t68969\t69964\tPeak_203155\t52\t.\t2.91347\t5.24652\t3.38358\t77\n",
      "chr1\t68969\t69964\tPeak_80922\t232\t.\t6.59365\t23.21283\t20.95212\t310\n",
      "chr1\t78951\t79407\tPeak_150566\t82\t.\t3.68018\t8.27430\t6.28501\t335\n",
      "chr1\t778328\t779235\tPeak_145438\t89\t.\t2.37705\t8.90270\t6.89830\t74\n",
      "chr1\t778328\t779235\tPeak_2263\t1000\t.\t28.93443\t749.94922\t745.95093\t458\n",
      "\n",
      "K562.hg38.ENCSR483RKN.ENCFF925CYR.ATAC.bed.gz\n",
      "chr9\t131124809\t131126067\t.\t1000\t.\t22.41632\t4381.93066\t4375.25977\t657\n",
      "chr22\t21641476\t21642667\t.\t1000\t.\t13.33761\t3766.81372\t3760.28418\t685\n",
      "chr9\t120868424\t120869438\t.\t1000\t.\t22.14111\t3623.65991\t3617.17017\t376\n",
      "chr22\t21735419\t21736448\t.\t1000\t.\t16.63537\t3321.32446\t3314.97949\t592\n",
      "chr22\t20916753\t20918326\t.\t1000\t.\t18.65871\t3288.51172\t3282.19385\t550\n",
      "chr22\t21735419\t21736448\t.\t1000\t.\t16.51002\t3287.63672\t3281.31934\t462\n",
      "chr22\t23069690\t23070661\t.\t1000\t.\t22.76646\t3208.09912\t3201.82275\t477\n",
      "chr22\t21467862\t21469131\t.\t1000\t.\t16.84795\t3113.48438\t3107.26025\t406\n",
      "chr7\t102490463\t102491224\t.\t1000\t.\t20.57310\t2996.34766\t2990.17358\t377\n",
      "chr22\t19121518\t19123136\t.\t1000\t.\t18.41356\t2910.51074\t2904.37939\t1047\n",
      "\n",
      "chr1\t778328\t779235\t.\t1000\t.\t2.37705\t8.90270\t6.89830\t74\n",
      "chr1\t778328\t779235\t.\t1000\t.\t28.93443\t749.94922\t745.95093\t458\n",
      "chr1\t778328\t779235\t.\t1000\t.\t3.36066\t20.42077\t18.19629\t788\n",
      "chr1\t817237\t818202\t.\t1000\t.\t2.88577\t8.24392\t6.26027\t608\n",
      "chr1\t817237\t818202\t.\t1000\t.\t3.53618\t12.45234\t10.35933\t844\n",
      "chr1\t817237\t818202\t.\t1000\t.\t8.38235\t66.38497\t63.80160\t275\n",
      "chr1\t826647\t828124\t.\t1000\t.\t14.32609\t674.83594\t670.95953\t977\n",
      "chr1\t826647\t828124\t.\t1000\t.\t3.52970\t53.61738\t51.10590\t399\n",
      "chr1\t826647\t828124\t.\t1000\t.\t6.27918\t172.71725\t169.76482\t1326\n",
      "chr1\t842282\t843322\t.\t1000\t.\t1.82761\t3.68048\t1.92771\t72\n",
      "\n",
      "K562.hg38.ENCSR868FGK.ENCFF333TAT.ATAC.bed.gz\n",
      "chr1\t100027916\t100029541\tPeak_168774\t375\t.\t3.46597\t37.52287\t35.56670\t1291\n",
      "chr1\t100027916\t100029541\tPeak_212397\t247\t.\t2.93255\t24.75966\t22.90134\t89\n",
      "chr1\t100027916\t100029541\tPeak_231027\t212\t.\t2.75187\t21.27480\t19.45153\t688\n",
      "chr1\t100027916\t100029541\tPeak_240800\t198\t.\t2.67162\t19.80458\t17.99839\t479\n",
      "chr1\t100027916\t100029541\tPeak_64424\t1000\t.\t8.38628\t201.28123\t198.87112\t1078\n",
      "chr1\t100034572\t100034728\tPeak_121850\t686\t.\t2.19949\t68.61837\t66.51602\t92\n",
      "chr1\t100036789\t100037403\tPeak_128434\t621\t.\t2.08027\t62.17962\t60.10153\t116\n",
      "chr1\t100036789\t100037403\tPeak_179531\t333\t.\t1.75609\t33.39536\t31.46605\t337\n",
      "chr1\t100036789\t100037403\tPeak_78567\t1000\t.\t2.78313\t147.78654\t145.47409\t516\n",
      "chr1\t100037561\t100039274\tPeak_169261\t372\t.\t1.78225\t37.25777\t35.30295\t1638\n",
      "\n",
      "chr1\t40649\t41403\tPeak_199463\t276\t.\t3.47398\t27.61589\t25.73108\t186\n",
      "chr1\t40649\t41403\tPeak_268752\t163\t.\t2.77281\t16.35313\t14.59235\t442\n",
      "chr1\t41475\t41713\tPeak_264432\t168\t.\t2.80468\t16.81758\t15.05008\t127\n",
      "chr1\t42030\t42399\tPeak_134516\t569\t.\t4.94006\t56.98604\t54.92928\t250\n",
      "chr1\t46255\t47025\tPeak_216618\t238\t.\t3.25088\t23.80577\t21.95580\t663\n",
      "chr1\t46255\t47025\tPeak_293185\t141\t.\t2.61345\t14.10533\t12.38016\t241\n",
      "chr1\t67629\t67864\tPeak_251297\t183\t.\t2.77583\t18.39192\t16.60355\t99\n",
      "chr1\t68056\t68341\tPeak_206117\t260\t.\t3.20290\t26.03832\t24.16744\t141\n",
      "chr1\t68963\t70035\tPeak_156344\t432\t.\t3.99240\t43.21727\t41.22760\t115\n",
      "chr1\t68963\t70035\tPeak_66961\t1000\t.\t8.92833\t189.89728\t187.50624\t325\n",
      "\n",
      "K562.hg38.ENCSR868FGK.ENCFF948AFM.ATAC.bed.gz\n",
      "chr9\t131124596\t131126388\t.\t1000\t.\t16.78342\t12577.13184\t12570.39062\t863\n",
      "chr22\t21641339\t21643421\t.\t1000\t.\t12.44583\t10226.13867\t10219.62695\t803\n",
      "chr22\t22507961\t22509223\t.\t1000\t.\t20.80738\t9457.05957\t9450.61914\t833\n",
      "chr9\t120868418\t120869461\t.\t1000\t.\t17.14854\t9116.13672\t9109.73340\t360\n",
      "chr1\t16612609\t16614051\t.\t1000\t.\t18.68222\t8495.99219\t8489.64062\t1002\n",
      "chr22\t21735414\t21736465\t.\t1000\t.\t14.32429\t8127.81738\t8121.50049\t598\n",
      "chr22\t19121493\t19123142\t.\t1000\t.\t14.06705\t7725.48242\t7719.21631\t1097\n",
      "chr22\t20916785\t20918382\t.\t1000\t.\t11.85198\t7595.41846\t7589.17334\t506\n",
      "chr22\t21937718\t21939021\t.\t1000\t.\t15.62368\t7587.92188\t7581.67725\t475\n",
      "chr22\t20981444\t20983128\t.\t1000\t.\t14.72065\t7581.68164\t7575.43848\t804\n",
      "\n",
      "chr1\t42030\t42399\t.\t839\t.\t4.94006\t56.98604\t54.92928\t250\n",
      "chr1\t68963\t70035\t.\t1000\t.\t3.99240\t43.21727\t41.22760\t115\n",
      "chr1\t68963\t70035\t.\t1000\t.\t6.60048\t110.44444\t108.21621\t760\n",
      "chr1\t68963\t70035\t.\t1000\t.\t8.92833\t189.89728\t187.50624\t325\n",
      "chr1\t79151\t79653\t.\t733\t.\t4.17515\t40.79512\t38.81857\t176\n",
      "chr1\t778339\t779268\t.\t1000\t.\t30.05122\t2807.95850\t2803.66772\t469\n",
      "chr1\t778339\t779268\t.\t1000\t.\t3.81137\t90.10805\t87.93501\t775\n",
      "chr1\t804424\t805054\t.\t1000\t.\t11.33568\t440.22955\t437.52475\t474\n",
      "chr1\t804424\t805054\t.\t1000\t.\t3.24670\t40.96080\t38.98348\t202\n",
      "chr1\t811420\t811854\t.\t724\t.\t3.02160\t40.20258\t38.22955\t289\n",
      "\n"
     ]
    }
   ],
   "source": [
    "FD_INP=${FD_DAT}/external/encode_open_chromatin\n",
    "FD_OUT=${FD_RES}/region/encode_open_chromatin\n",
    "\n",
    "FP_INPS=($(ls ${FD_INP}/*bed.gz))\n",
    "for FP_INP in ${FP_INPS[@]}; do\n",
    "    ###\n",
    "    FN_INP=$(basename ${FP_INP})\n",
    "    echo ${FN_INP}\n",
    "    \n",
    "    ###\n",
    "    FN_OUT=${FN_INP}\n",
    "    FP_OUT=${FD_OUT}/${FN_OUT}\n",
    "    \n",
    "    ###\n",
    "    zcat ${FP_INP} | head\n",
    "    echo\n",
    "    zcat ${FP_OUT} | head\n",
    "    echo\n",
    "done"
   ]
  },
  {
   "cell_type": "code",
   "execution_count": 17,
   "id": "4540b5f4-1bbe-497c-8464-380b8a34fbdc",
   "metadata": {},
   "outputs": [
    {
     "name": "stdout",
     "output_type": "stream",
     "text": [
      "\u001b[0m\u001b[38;5;9m/data/reddylab/Kuei/repo/Proj_CombEffect_ENCODE_FCC/data/external/encode_open_chromatin/K562.hg38.ENCSR000EKS.ENCFF274YGF.DNase.bed.gz\u001b[0m\u001b[K\n"
     ]
    }
   ],
   "source": [
    "ls /data/reddylab/Kuei/repo/Proj_CombEffect_ENCODE_FCC/data/external/encode_open_chromatin/K562.hg38.ENCSR000EKS.ENCFF274YGF.DNase.bed.gz"
   ]
  },
  {
   "cell_type": "code",
   "execution_count": 4,
   "id": "fb1e9dd5-107f-438f-984e-92d939198f58",
   "metadata": {},
   "outputs": [],
   "source": [
    "FILE=${FD_DAT}/external/encode_open_chromatin\n",
    "LINK=${FD_RES}/region/encode_open_chromatin\n",
    "\n",
    "if [[ ! -e ${LINK} ]]; then\n",
    "   ln -s ${FILE} ${LINK}\n",
    "fi"
   ]
  },
  {
   "cell_type": "code",
   "execution_count": 5,
   "id": "bf10bbea-3872-4e07-93b9-91f9df480fe1",
   "metadata": {},
   "outputs": [
    {
     "name": "stdout",
     "output_type": "stream",
     "text": [
      "\u001b[0m\u001b[38;5;27mencode_ccres\u001b[0m              \u001b[38;5;27mencode_chromhmm\u001b[0m        \u001b[38;5;27mstarr_macs\u001b[0m\n",
      "\u001b[38;5;27mencode_ccres_silencer\u001b[0m     \u001b[38;5;51mencode_open_chromatin\u001b[0m\n",
      "\u001b[38;5;27mencode_chipseq_tf_subset\u001b[0m  \u001b[38;5;27mstarr_csaw\u001b[0m\n"
     ]
    }
   ],
   "source": [
    "ls ${FD_RES}/region"
   ]
  },
  {
   "cell_type": "code",
   "execution_count": 6,
   "id": "00ad3368-f4de-48e7-b805-ee310e4d0cca",
   "metadata": {},
   "outputs": [
    {
     "name": "stdout",
     "output_type": "stream",
     "text": [
      "lrwxrwxrwx 1 kk319 reddylab 87 Mar  6 14:06 \u001b[0m\u001b[38;5;51m/data/reddylab/Kuei/repo/Proj_CombEffect_ENCODE_FCC/results/region/encode_open_chromatin\u001b[0m\u001b[K -> \u001b[38;5;27m/data/reddylab/Kuei/repo/Proj_CombEffect_ENCODE_FCC/data/external/encode_open_chromatin\u001b[0m\u001b[K\n"
     ]
    }
   ],
   "source": [
    "ls -l ${FD_RES}/region/encode_open_chromatin"
   ]
  },
  {
   "cell_type": "code",
   "execution_count": 7,
   "id": "acc175ed-3ef8-494d-a5a6-f69b1ad31261",
   "metadata": {},
   "outputs": [
    {
     "name": "stdout",
     "output_type": "stream",
     "text": [
      "description.tsv\n",
      "\u001b[0m\u001b[38;5;9mK562.hg38.ENCSR000EKS.ENCFF274YGF.DNase.bed.gz\u001b[0m\n",
      "\u001b[38;5;9mK562.hg38.ENCSR000EOT.ENCFF185XRG.DNase.bed.gz\u001b[0m\n",
      "\u001b[38;5;9mK562.hg38.ENCSR483RKN.ENCFF558BLC.ATAC.bed.gz\u001b[0m\n",
      "\u001b[38;5;9mK562.hg38.ENCSR483RKN.ENCFF925CYR.ATAC.bed.gz\u001b[0m\n",
      "\u001b[38;5;9mK562.hg38.ENCSR868FGK.ENCFF333TAT.ATAC.bed.gz\u001b[0m\n",
      "\u001b[38;5;9mK562.hg38.ENCSR868FGK.ENCFF948AFM.ATAC.bed.gz\u001b[0m\n",
      "run_download.log.txt\n",
      "\u001b[38;5;34mrun_download.sh\u001b[0m\n"
     ]
    }
   ],
   "source": [
    "ls ${FD_DAT}/external/encode_open_chromatin"
   ]
  },
  {
   "cell_type": "code",
   "execution_count": 8,
   "id": "d7be3777-adfd-40e4-bcf1-3147d5a0d6e2",
   "metadata": {},
   "outputs": [
    {
     "name": "stdout",
     "output_type": "stream",
     "text": [
      "description.tsv\n",
      "\u001b[0m\u001b[38;5;9mK562.hg38.ENCSR000EKS.ENCFF274YGF.DNase.bed.gz\u001b[0m\n",
      "\u001b[38;5;9mK562.hg38.ENCSR000EOT.ENCFF185XRG.DNase.bed.gz\u001b[0m\n",
      "\u001b[38;5;9mK562.hg38.ENCSR483RKN.ENCFF558BLC.ATAC.bed.gz\u001b[0m\n",
      "\u001b[38;5;9mK562.hg38.ENCSR483RKN.ENCFF925CYR.ATAC.bed.gz\u001b[0m\n",
      "\u001b[38;5;9mK562.hg38.ENCSR868FGK.ENCFF333TAT.ATAC.bed.gz\u001b[0m\n",
      "\u001b[38;5;9mK562.hg38.ENCSR868FGK.ENCFF948AFM.ATAC.bed.gz\u001b[0m\n",
      "run_download.log.txt\n",
      "\u001b[38;5;34mrun_download.sh\u001b[0m\n"
     ]
    }
   ],
   "source": [
    "ls ${FD_RES}/region/encode_open_chromatin"
   ]
  },
  {
   "cell_type": "code",
   "execution_count": null,
   "id": "8dfbc3b7-2e76-475e-ae66-caef40adc389",
   "metadata": {},
   "outputs": [],
   "source": []
  }
 ],
 "metadata": {
  "kernelspec": {
   "display_name": "Bash",
   "language": "bash",
   "name": "bash"
  },
  "language_info": {
   "codemirror_mode": "shell",
   "file_extension": ".sh",
   "mimetype": "text/x-sh",
   "name": "bash"
  }
 },
 "nbformat": 4,
 "nbformat_minor": 5
}
