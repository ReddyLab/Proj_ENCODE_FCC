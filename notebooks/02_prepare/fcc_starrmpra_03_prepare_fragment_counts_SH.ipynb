{
 "cells": [
  {
   "cell_type": "markdown",
   "id": "4397f047-cd59-4539-9280-1692059fb242",
   "metadata": {},
   "source": [
    "* Link from `KS91_K562_hg38_ASTARRseq_210401` to `STARR_ATAC_K562_Reddy_KS91`\n",
    "* Link from `A001_K562_hg38_WSTARRseq` to `STARR_WHG_K562_Reddy_A001`\n",
    "\n",
    "```\n",
    "ln -s file link\n",
    "```"
   ]
  },
  {
   "cell_type": "markdown",
   "id": "90d1e5e2-4620-4e07-8955-01bd08781714",
   "metadata": {},
   "source": [
    "**Set environment**"
   ]
  },
  {
   "cell_type": "code",
   "execution_count": 1,
   "id": "87f7e9e5-70c6-4e7f-8b6d-e439b16e9352",
   "metadata": {},
   "outputs": [
    {
     "name": "stdout",
     "output_type": "stream",
     "text": [
      "You are working on             Duke Server: HARDAC\n",
      "BASE DIRECTORY (FD_BASE):      /data/reddylab/Kuei\n",
      "REPO DIRECTORY (FD_REPO):      /data/reddylab/Kuei/repo\n",
      "WORK DIRECTORY (FD_WORK):      /data/reddylab/Kuei/work\n",
      "DATA DIRECTORY (FD_DATA):      /data/reddylab/Kuei/data\n",
      "CONTAINER DIR. (FD_SING):      /data/reddylab/Kuei/container\n",
      "\n",
      "You are working with           ENCODE FCC\n",
      "PATH OF PROJECT (FD_PRJ):      /data/reddylab/Kuei/repo/Proj_CombEffect_ENCODE_FCC\n",
      "PROJECT RESULTS (FD_RES):      /data/reddylab/Kuei/repo/Proj_CombEffect_ENCODE_FCC/results\n",
      "PROJECT SCRIPTS (FD_EXE):      /data/reddylab/Kuei/repo/Proj_CombEffect_ENCODE_FCC/scripts\n",
      "PROJECT DATA    (FD_DAT):      /data/reddylab/Kuei/repo/Proj_CombEffect_ENCODE_FCC/data\n",
      "PROJECT NOTE    (FD_NBK):      /data/reddylab/Kuei/repo/Proj_CombEffect_ENCODE_FCC/notebooks\n",
      "PROJECT DOCS    (FD_DOC):      /data/reddylab/Kuei/repo/Proj_CombEffect_ENCODE_FCC/docs\n",
      "PROJECT LOG     (FD_LOG):      /data/reddylab/Kuei/repo/Proj_CombEffect_ENCODE_FCC/log\n",
      "PROJECT APP     (FD_APP):      /data/reddylab/Kuei/repo/Proj_CombEffect_ENCODE_FCC/app\n",
      "PROJECT REF     (FD_REF):      /data/reddylab/Kuei/repo/Proj_CombEffect_ENCODE_FCC/references\n",
      "PROJECT IMAGE   (FP_PRJ_SIF):  /data/reddylab/Kuei/repo/Proj_CombEffect_ENCODE_FCC/app/singularity_proj_encode_fcc.sif\n",
      "\n"
     ]
    }
   ],
   "source": [
    "source ../run_config_project.sh\n",
    "show_env"
   ]
  },
  {
   "cell_type": "code",
   "execution_count": 2,
   "id": "581d5c4d-175f-4c9d-9c29-a0872202a20c",
   "metadata": {},
   "outputs": [],
   "source": [
    "mkdir -p ${FD_RES}/assay_fcc/STARR_ATAC_K562_Reddy_KS91/fragment_counts\n",
    "mkdir -p ${FD_RES}/assay_fcc/STARR_WHG_K562_Reddy_A001/fragment_counts\n",
    "mkdir -p ${FD_RES}/region/starr_macs"
   ]
  },
  {
   "cell_type": "markdown",
   "id": "f7feec24-bbe6-474e-8930-c8080a5e6a65",
   "metadata": {},
   "source": [
    "## Link fragment counts of ASTARR"
   ]
  },
  {
   "cell_type": "markdown",
   "id": "900778ce-8065-4b90-a7c6-10f3aa39a9ce",
   "metadata": {},
   "source": [
    "**Data: Original files**\n",
    "\n",
    "`PROJECT/data/processed/KS91_K562_hg38_ASTARRseq_210401/fragments`\n",
    "\n",
    "```\n",
    "KS91_K562_hg38_ASTARRseq_Input_rep1.masked.dedup.fragments.counts.txt.gz\n",
    "KS91_K562_hg38_ASTARRseq_Input_rep2.masked.dedup.fragments.counts.txt.gz\n",
    "KS91_K562_hg38_ASTARRseq_Input_rep3.masked.dedup.fragments.counts.txt.gz\n",
    "KS91_K562_hg38_ASTARRseq_Input_rep4.masked.dedup.fragments.counts.txt.gz\n",
    "KS91_K562_hg38_ASTARRseq_Input_rep5.masked.dedup.fragments.counts.txt.gz\n",
    "KS91_K562_hg38_ASTARRseq_Input_rep6.masked.dedup.fragments.counts.txt.gz\n",
    "\n",
    "KS91_K562_hg38_ASTARRseq_Output_rep1.f3q10.fragments.counts.txt.gz\n",
    "KS91_K562_hg38_ASTARRseq_Output_rep2.f3q10.fragments.counts.txt.gz\n",
    "KS91_K562_hg38_ASTARRseq_Output_rep3.f3q10.fragments.counts.txt.gz\n",
    "KS91_K562_hg38_ASTARRseq_Output_rep4.f3q10.fragments.counts.txt.gz\n",
    "```"
   ]
  },
  {
   "cell_type": "markdown",
   "id": "a0dbf595-902f-40a4-a75a-df15dbf1d0e4",
   "metadata": {},
   "source": [
    "**Results: SymLinks**\n",
    "\n",
    "`PROJECT/results/assay_fcc/STARR_ATAC_K562_Reddy_KS91/fragment_counts`\n",
    "\n",
    "```\n",
    "ASTARRseq_K562_KS91.hg38.Input.rep1.WGS.unstranded.bed.gz\n",
    "ASTARRseq_K562_KS91.hg38.Input.rep2.WGS.unstranded.bed.gz\n",
    "ASTARRseq_K562_KS91.hg38.Input.rep3.WGS.unstranded.bed.gz\n",
    "ASTARRseq_K562_KS91.hg38.Input.rep4.WGS.unstranded.bed.gz\n",
    "ASTARRseq_K562_KS91.hg38.Input.rep5.WGS.unstranded.bed.gz\n",
    "ASTARRseq_K562_KS91.hg38.Input.rep6.WGS.unstranded.bed.gz\n",
    "\n",
    "ASTARRseq_K562_KS91.hg38.Output.rep1.WGS.unstranded.bed.gz\n",
    "ASTARRseq_K562_KS91.hg38.Output.rep2.WGS.unstranded.bed.gz\n",
    "ASTARRseq_K562_KS91.hg38.Output.rep3.WGS.unstranded.bed.gz\n",
    "ASTARRseq_K562_KS91.hg38.Output.rep4.WGS.unstranded.bed.gz\n",
    "```"
   ]
  },
  {
   "cell_type": "markdown",
   "id": "fbf1f7e5-fcb8-41ed-9d1a-698ee0adf5c2",
   "metadata": {},
   "source": [
    "**Check data**"
   ]
  },
  {
   "cell_type": "code",
   "execution_count": 3,
   "id": "350f9760-d14e-4ed2-ac4a-1f5c2f68607e",
   "metadata": {},
   "outputs": [
    {
     "name": "stdout",
     "output_type": "stream",
     "text": [
      "total 24G\n",
      "-rw-r--r-- 1 kk319 reddylab 3.0G Feb 23 10:03 \u001b[0m\u001b[38;5;9mKS91_K562_hg38_ASTARRseq_Input_rep1.masked.dedup.fragments.counts.txt.gz\u001b[0m\u001b[K\n",
      "-rw-r--r-- 1 kk319 reddylab 3.8G Feb 23 10:03 \u001b[38;5;9mKS91_K562_hg38_ASTARRseq_Input_rep2.masked.dedup.fragments.counts.txt.gz\u001b[0m\u001b[K\n",
      "-rw-r--r-- 1 kk319 reddylab 4.0G Feb 23 10:03 \u001b[38;5;9mKS91_K562_hg38_ASTARRseq_Input_rep3.masked.dedup.fragments.counts.txt.gz\u001b[0m\u001b[K\n",
      "-rw-r--r-- 1 kk319 reddylab 3.8G Feb 23 10:03 \u001b[38;5;9mKS91_K562_hg38_ASTARRseq_Input_rep4.masked.dedup.fragments.counts.txt.gz\u001b[0m\u001b[K\n",
      "-rw-r--r-- 1 kk319 reddylab 3.7G Feb 23 10:03 \u001b[38;5;9mKS91_K562_hg38_ASTARRseq_Input_rep5.masked.dedup.fragments.counts.txt.gz\u001b[0m\u001b[K\n",
      "-rw-r--r-- 1 kk319 reddylab 3.4G Feb 23 10:03 \u001b[38;5;9mKS91_K562_hg38_ASTARRseq_Input_rep6.masked.dedup.fragments.counts.txt.gz\u001b[0m\u001b[K\n",
      "-rw-r--r-- 1 kk319 reddylab 306M Feb 23 10:03 \u001b[38;5;9mKS91_K562_hg38_ASTARRseq_Output_rep1.f3q10.fragments.counts.txt.gz\u001b[0m\u001b[K\n",
      "-rw-r--r-- 1 kk319 reddylab 569M Feb 23 10:03 \u001b[38;5;9mKS91_K562_hg38_ASTARRseq_Output_rep2.f3q10.fragments.counts.txt.gz\u001b[0m\u001b[K\n",
      "-rw-r--r-- 1 kk319 reddylab 642M Feb 23 10:03 \u001b[38;5;9mKS91_K562_hg38_ASTARRseq_Output_rep3.f3q10.fragments.counts.txt.gz\u001b[0m\u001b[K\n",
      "-rw-r--r-- 1 kk319 reddylab 1.1G Feb 23 10:03 \u001b[38;5;9mKS91_K562_hg38_ASTARRseq_Output_rep4.f3q10.fragments.counts.txt.gz\u001b[0m\u001b[K\n"
     ]
    }
   ],
   "source": [
    "FD_INP=${FD_DAT}/processed/KS91_K562_hg38_ASTARRseq_210401/fragments\n",
    "ls -lh ${FD_INP}"
   ]
  },
  {
   "cell_type": "markdown",
   "id": "e495532e-17a7-4886-b00b-58658c3e07af",
   "metadata": {},
   "source": [
    "**List file names and links**"
   ]
  },
  {
   "cell_type": "code",
   "execution_count": 4,
   "id": "2accdab6-516f-4d1d-98ae-da3fc1e71eb7",
   "metadata": {},
   "outputs": [],
   "source": [
    "FD_INP=${FD_DAT}/processed/KS91_K562_hg38_ASTARRseq_210401/fragments\n",
    "FN_INPS=(\n",
    "    KS91_K562_hg38_ASTARRseq_Input_rep1.masked.dedup.fragments.counts.txt.gz\n",
    "    KS91_K562_hg38_ASTARRseq_Input_rep2.masked.dedup.fragments.counts.txt.gz\n",
    "    KS91_K562_hg38_ASTARRseq_Input_rep3.masked.dedup.fragments.counts.txt.gz\n",
    "    KS91_K562_hg38_ASTARRseq_Input_rep4.masked.dedup.fragments.counts.txt.gz\n",
    "    KS91_K562_hg38_ASTARRseq_Input_rep5.masked.dedup.fragments.counts.txt.gz\n",
    "    KS91_K562_hg38_ASTARRseq_Input_rep6.masked.dedup.fragments.counts.txt.gz\n",
    "    KS91_K562_hg38_ASTARRseq_Output_rep1.f3q10.fragments.counts.txt.gz\n",
    "    KS91_K562_hg38_ASTARRseq_Output_rep2.f3q10.fragments.counts.txt.gz\n",
    "    KS91_K562_hg38_ASTARRseq_Output_rep3.f3q10.fragments.counts.txt.gz\n",
    "    KS91_K562_hg38_ASTARRseq_Output_rep4.f3q10.fragments.counts.txt.gz\n",
    ")"
   ]
  },
  {
   "cell_type": "code",
   "execution_count": 5,
   "id": "61e7be9a-4b72-4830-ae93-46ac9c7e7162",
   "metadata": {},
   "outputs": [],
   "source": [
    "FD_OUT=${FD_RES}/assay_fcc/STARR_ATAC_K562_Reddy_KS91/fragment_counts\n",
    "FN_OUTS=(\n",
    "    ASTARRseq_K562_KS91.hg38.Input.rep1.WGS.unstranded.bed.gz\n",
    "    ASTARRseq_K562_KS91.hg38.Input.rep2.WGS.unstranded.bed.gz\n",
    "    ASTARRseq_K562_KS91.hg38.Input.rep3.WGS.unstranded.bed.gz\n",
    "    ASTARRseq_K562_KS91.hg38.Input.rep4.WGS.unstranded.bed.gz\n",
    "    ASTARRseq_K562_KS91.hg38.Input.rep5.WGS.unstranded.bed.gz\n",
    "    ASTARRseq_K562_KS91.hg38.Input.rep6.WGS.unstranded.bed.gz\n",
    "    ASTARRseq_K562_KS91.hg38.Output.rep1.WGS.unstranded.bed.gz\n",
    "    ASTARRseq_K562_KS91.hg38.Output.rep2.WGS.unstranded.bed.gz\n",
    "    ASTARRseq_K562_KS91.hg38.Output.rep3.WGS.unstranded.bed.gz\n",
    "    ASTARRseq_K562_KS91.hg38.Output.rep4.WGS.unstranded.bed.gz\n",
    ")"
   ]
  },
  {
   "cell_type": "markdown",
   "id": "1ca53afa-5203-430c-b3f3-a04db0cbaf2d",
   "metadata": {},
   "source": [
    "**Loop and Link**"
   ]
  },
  {
   "cell_type": "code",
   "execution_count": 6,
   "id": "39767ccc-4533-4156-9a45-63bea93da8ca",
   "metadata": {},
   "outputs": [],
   "source": [
    "for idx in \"${!FN_INPS[@]}\"\n",
    "do\n",
    "    FN_INP=${FN_INPS[idx]}\n",
    "    FN_OUT=${FN_OUTS[idx]}\n",
    "    \n",
    "    FILE=${FD_INP}/${FN_INP}\n",
    "    LINK=${FD_OUT}/${FN_OUT}\n",
    "    \n",
    "    if [[ ! -e ${LINK} ]]; then\n",
    "        ln -s ${FILE} ${LINK}\n",
    "    fi\n",
    "done"
   ]
  },
  {
   "cell_type": "markdown",
   "id": "d06f78dd-01c0-434c-b8e5-80d2810eedf0",
   "metadata": {},
   "source": [
    "**Check results**"
   ]
  },
  {
   "cell_type": "code",
   "execution_count": 7,
   "id": "de178f56-2962-423b-93dc-4387787e5317",
   "metadata": {},
   "outputs": [
    {
     "name": "stdout",
     "output_type": "stream",
     "text": [
      "total 10\n",
      "lrwxrwxrwx 1 kk319 reddylab 181 Feb 25 13:49 \u001b[0m\u001b[38;5;51mASTARRseq_K562_KS91.hg38.Input.rep1.WGS.unstranded.bed.gz\u001b[0m -> \u001b[38;5;9m/data/reddylab/Kuei/repo/Proj_CombEffect_ENCODE_FCC/data/processed/KS91_K562_hg38_ASTARRseq_210401/fragments/KS91_K562_hg38_ASTARRseq_Input_rep1.masked.dedup.fragments.counts.txt.gz\u001b[0m\u001b[K\n",
      "lrwxrwxrwx 1 kk319 reddylab 181 Feb 25 13:49 \u001b[38;5;51mASTARRseq_K562_KS91.hg38.Input.rep2.WGS.unstranded.bed.gz\u001b[0m -> \u001b[38;5;9m/data/reddylab/Kuei/repo/Proj_CombEffect_ENCODE_FCC/data/processed/KS91_K562_hg38_ASTARRseq_210401/fragments/KS91_K562_hg38_ASTARRseq_Input_rep2.masked.dedup.fragments.counts.txt.gz\u001b[0m\u001b[K\n",
      "lrwxrwxrwx 1 kk319 reddylab 181 Feb 25 13:49 \u001b[38;5;51mASTARRseq_K562_KS91.hg38.Input.rep3.WGS.unstranded.bed.gz\u001b[0m -> \u001b[38;5;9m/data/reddylab/Kuei/repo/Proj_CombEffect_ENCODE_FCC/data/processed/KS91_K562_hg38_ASTARRseq_210401/fragments/KS91_K562_hg38_ASTARRseq_Input_rep3.masked.dedup.fragments.counts.txt.gz\u001b[0m\u001b[K\n",
      "lrwxrwxrwx 1 kk319 reddylab 181 Feb 25 13:49 \u001b[38;5;51mASTARRseq_K562_KS91.hg38.Input.rep4.WGS.unstranded.bed.gz\u001b[0m -> \u001b[38;5;9m/data/reddylab/Kuei/repo/Proj_CombEffect_ENCODE_FCC/data/processed/KS91_K562_hg38_ASTARRseq_210401/fragments/KS91_K562_hg38_ASTARRseq_Input_rep4.masked.dedup.fragments.counts.txt.gz\u001b[0m\u001b[K\n",
      "lrwxrwxrwx 1 kk319 reddylab 181 Feb 25 13:49 \u001b[38;5;51mASTARRseq_K562_KS91.hg38.Input.rep5.WGS.unstranded.bed.gz\u001b[0m -> \u001b[38;5;9m/data/reddylab/Kuei/repo/Proj_CombEffect_ENCODE_FCC/data/processed/KS91_K562_hg38_ASTARRseq_210401/fragments/KS91_K562_hg38_ASTARRseq_Input_rep5.masked.dedup.fragments.counts.txt.gz\u001b[0m\u001b[K\n",
      "lrwxrwxrwx 1 kk319 reddylab 181 Feb 25 13:49 \u001b[38;5;51mASTARRseq_K562_KS91.hg38.Input.rep6.WGS.unstranded.bed.gz\u001b[0m -> \u001b[38;5;9m/data/reddylab/Kuei/repo/Proj_CombEffect_ENCODE_FCC/data/processed/KS91_K562_hg38_ASTARRseq_210401/fragments/KS91_K562_hg38_ASTARRseq_Input_rep6.masked.dedup.fragments.counts.txt.gz\u001b[0m\u001b[K\n",
      "lrwxrwxrwx 1 kk319 reddylab 175 Feb 25 13:49 \u001b[38;5;51mASTARRseq_K562_KS91.hg38.Output.rep1.WGS.unstranded.bed.gz\u001b[0m -> \u001b[38;5;9m/data/reddylab/Kuei/repo/Proj_CombEffect_ENCODE_FCC/data/processed/KS91_K562_hg38_ASTARRseq_210401/fragments/KS91_K562_hg38_ASTARRseq_Output_rep1.f3q10.fragments.counts.txt.gz\u001b[0m\u001b[K\n",
      "lrwxrwxrwx 1 kk319 reddylab 175 Feb 25 13:49 \u001b[38;5;51mASTARRseq_K562_KS91.hg38.Output.rep2.WGS.unstranded.bed.gz\u001b[0m -> \u001b[38;5;9m/data/reddylab/Kuei/repo/Proj_CombEffect_ENCODE_FCC/data/processed/KS91_K562_hg38_ASTARRseq_210401/fragments/KS91_K562_hg38_ASTARRseq_Output_rep2.f3q10.fragments.counts.txt.gz\u001b[0m\u001b[K\n",
      "lrwxrwxrwx 1 kk319 reddylab 175 Feb 25 13:49 \u001b[38;5;51mASTARRseq_K562_KS91.hg38.Output.rep3.WGS.unstranded.bed.gz\u001b[0m -> \u001b[38;5;9m/data/reddylab/Kuei/repo/Proj_CombEffect_ENCODE_FCC/data/processed/KS91_K562_hg38_ASTARRseq_210401/fragments/KS91_K562_hg38_ASTARRseq_Output_rep3.f3q10.fragments.counts.txt.gz\u001b[0m\u001b[K\n",
      "lrwxrwxrwx 1 kk319 reddylab 175 Feb 25 13:49 \u001b[38;5;51mASTARRseq_K562_KS91.hg38.Output.rep4.WGS.unstranded.bed.gz\u001b[0m -> \u001b[38;5;9m/data/reddylab/Kuei/repo/Proj_CombEffect_ENCODE_FCC/data/processed/KS91_K562_hg38_ASTARRseq_210401/fragments/KS91_K562_hg38_ASTARRseq_Output_rep4.f3q10.fragments.counts.txt.gz\u001b[0m\u001b[K\n"
     ]
    }
   ],
   "source": [
    "FD_OUT=${FD_RES}/assay_fcc/STARR_ATAC_K562_Reddy_KS91/fragment_counts\n",
    "ls -l ${FD_OUT}"
   ]
  },
  {
   "cell_type": "markdown",
   "id": "51f960ba-3321-4eed-8b85-39a43be1518f",
   "metadata": {},
   "source": [
    "**Explore file and check**"
   ]
  },
  {
   "cell_type": "code",
   "execution_count": 8,
   "id": "26e4af8f-57fd-44b8-ab86-b464381416ce",
   "metadata": {},
   "outputs": [
    {
     "name": "stdout",
     "output_type": "stream",
     "text": [
      "chr1\t10001\t10143\tchr1_10001_10143\t1\t.\n",
      "chr1\t10002\t10118\tchr1_10002_10118\t1\t.\n",
      "chr1\t10002\t10131\tchr1_10002_10131\t1\t.\n",
      "chr1\t10002\t10203\tchr1_10002_10203\t1\t.\n",
      "chr1\t10002\t10209\tchr1_10002_10209\t1\t.\n",
      "chr1\t10002\t10227\tchr1_10002_10227\t1\t.\n",
      "chr1\t10002\t10436\tchr1_10002_10436\t1\t.\n",
      "chr1\t10003\t10113\tchr1_10003_10113\t1\t.\n",
      "chr1\t10003\t10118\tchr1_10003_10118\t1\t.\n",
      "chr1\t10003\t10119\tchr1_10003_10119\t1\t.\n"
     ]
    }
   ],
   "source": [
    "FD_OUT=${FD_RES}/assay_fcc/STARR_ATAC_K562_Reddy_KS91/fragment_counts\n",
    "FN_OUT=ASTARRseq_K562_KS91.hg38.Input.rep1.WGS.unstranded.bed.gz\n",
    "FP_OUT=${FD_OUT}/${FN_OUT}\n",
    "\n",
    "zcat ${FP_OUT} | head"
   ]
  },
  {
   "cell_type": "markdown",
   "id": "bd40d5d9-6af3-4404-b3c3-8acaefdbd9c7",
   "metadata": {},
   "source": [
    "## Link fragment counts of WSTARR"
   ]
  },
  {
   "cell_type": "markdown",
   "id": "a88eb21f-f08e-4897-8442-a1593355429e",
   "metadata": {},
   "source": [
    "**Data: Original files**\n",
    "\n",
    "`PROJECT/data/processed/A001_K562_hg38_WSTARRseq/fragments`\n",
    "\n",
    "```\n",
    "A001-input-K562-rep1.masked.dedup.fragments.counts.txt.gz\n",
    "A001-input-K562-rep2.masked.dedup.fragments.counts.txt.gz\n",
    "A001-input-K562-rep3.masked.dedup.fragments.counts.txt.gz\n",
    "A001-input-K562-rep4.masked.dedup.fragments.counts.txt.gz\n",
    "A001-K562-rep1.masked.dedup.fragments.counts.txt.gz\n",
    "A001-K562-rep2.masked.dedup.fragments.counts.txt.gz\n",
    "A001-K562-rep3.masked.dedup.fragments.counts.txt.gz\n",
    "```"
   ]
  },
  {
   "cell_type": "markdown",
   "id": "88043761-bc4c-468e-a797-1d0d1b916820",
   "metadata": {},
   "source": [
    "**Results: SymLinks**\n",
    "\n",
    "`PROJECT/results/assay_fcc/STARR_ATAC_K562_Reddy_KS91/fragment_counts`\n",
    "\n",
    "```\n",
    "WSTARRseq_K562_A001.hg38.Input.rep1.WGS.unstranded.bed.gz\n",
    "WSTARRseq_K562_A001.hg38.Input.rep2.WGS.unstranded.bed.gz\n",
    "WSTARRseq_K562_A001.hg38.Input.rep3.WGS.unstranded.bed.gz\n",
    "WSTARRseq_K562_A001.hg38.Input.rep4.WGS.unstranded.bed.gz\n",
    "\n",
    "WSTARRseq_K562_A001.hg38.Output.rep1.WGS.unstranded.bed.gz\n",
    "WSTARRseq_K562_A001.hg38.Output.rep2.WGS.unstranded.bed.gz\n",
    "WSTARRseq_K562_A001.hg38.Output.rep3.WGS.unstranded.bed.gz\n",
    "```"
   ]
  },
  {
   "cell_type": "markdown",
   "id": "49c345fc-2eac-4798-bf90-ca4f04693140",
   "metadata": {},
   "source": [
    "**Check data**"
   ]
  },
  {
   "cell_type": "code",
   "execution_count": 9,
   "id": "3b74e3ea-94b8-4756-a493-19c6d61ca0c6",
   "metadata": {},
   "outputs": [
    {
     "name": "stdout",
     "output_type": "stream",
     "text": [
      "total 9.8G\n",
      "-rw-r--r-- 1 kk319 reddylab  284M Feb 23 10:03 \u001b[0m\u001b[38;5;9mA001-input-K562-rep1.masked.dedup.fragments.counts.txt.gz\u001b[0m\n",
      "-rw-r--r-- 1 kk319 reddylab 1022M Feb 23 10:03 \u001b[38;5;9mA001-input-K562-rep2.masked.dedup.fragments.counts.txt.gz\u001b[0m\n",
      "-rw-r--r-- 1 kk319 reddylab  1.1G Feb 23 10:03 \u001b[38;5;9mA001-input-K562-rep3.masked.dedup.fragments.counts.txt.gz\u001b[0m\n",
      "-rw-r--r-- 1 kk319 reddylab  1.1G Feb 23 10:03 \u001b[38;5;9mA001-input-K562-rep4.masked.dedup.fragments.counts.txt.gz\u001b[0m\n",
      "-rw-r--r-- 1 kk319 reddylab  1.6G Feb 23 10:03 \u001b[38;5;9mA001-K562-rep1.masked.dedup.fragments.counts.txt.gz\u001b[0m\n",
      "-rw-r--r-- 1 kk319 reddylab  1.6G Feb 23 10:03 \u001b[38;5;9mA001-K562-rep2.masked.dedup.fragments.counts.txt.gz\u001b[0m\n",
      "-rw-r--r-- 1 kk319 reddylab  3.2G Feb 23 10:03 \u001b[38;5;9mA001-K562-rep3.masked.dedup.fragments.counts.txt.gz\u001b[0m\n"
     ]
    }
   ],
   "source": [
    "FD_INP=${FD_DAT}/processed/A001_K562_hg38_WSTARRseq/fragments\n",
    "ls -lh ${FD_INP}"
   ]
  },
  {
   "cell_type": "markdown",
   "id": "75a18f91-9569-4d0d-bee2-a8babd919e26",
   "metadata": {},
   "source": [
    "**List file names and links**"
   ]
  },
  {
   "cell_type": "code",
   "execution_count": 10,
   "id": "60083cb2-e644-4ded-b475-bd4b0790fb06",
   "metadata": {},
   "outputs": [],
   "source": [
    "FD_INP=${FD_DAT}/processed/A001_K562_hg38_WSTARRseq/fragments\n",
    "FN_INPS=(\n",
    "    A001-input-K562-rep1.masked.dedup.fragments.counts.txt.gz\n",
    "    A001-input-K562-rep2.masked.dedup.fragments.counts.txt.gz\n",
    "    A001-input-K562-rep3.masked.dedup.fragments.counts.txt.gz\n",
    "    A001-input-K562-rep4.masked.dedup.fragments.counts.txt.gz\n",
    "    A001-K562-rep1.masked.dedup.fragments.counts.txt.gz\n",
    "    A001-K562-rep2.masked.dedup.fragments.counts.txt.gz\n",
    "    A001-K562-rep3.masked.dedup.fragments.counts.txt.gz\n",
    ")"
   ]
  },
  {
   "cell_type": "code",
   "execution_count": 11,
   "id": "dca36149-b376-42e0-9307-6c5e909ef88d",
   "metadata": {},
   "outputs": [],
   "source": [
    "FD_OUT=${FD_RES}/assay_fcc/STARR_WHG_K562_Reddy_A001/fragment_counts\n",
    "FN_OUTS=(\n",
    "    WSTARRseq_K562_A001.hg38.Input.rep1.WGS.unstranded.bed.gz\n",
    "    WSTARRseq_K562_A001.hg38.Input.rep2.WGS.unstranded.bed.gz\n",
    "    WSTARRseq_K562_A001.hg38.Input.rep3.WGS.unstranded.bed.gz\n",
    "    WSTARRseq_K562_A001.hg38.Input.rep4.WGS.unstranded.bed.gz\n",
    "    WSTARRseq_K562_A001.hg38.Output.rep1.WGS.unstranded.bed.gz\n",
    "    WSTARRseq_K562_A001.hg38.Output.rep2.WGS.unstranded.bed.gz\n",
    "    WSTARRseq_K562_A001.hg38.Output.rep3.WGS.unstranded.bed.gz\n",
    ")"
   ]
  },
  {
   "cell_type": "markdown",
   "id": "be0ec7fe-fa7a-4274-bae4-987632960645",
   "metadata": {},
   "source": [
    "**Loop and Link**"
   ]
  },
  {
   "cell_type": "code",
   "execution_count": 12,
   "id": "787211ca-d812-4c7d-8638-ca2c32012b86",
   "metadata": {},
   "outputs": [],
   "source": [
    "for idx in \"${!FN_INPS[@]}\"\n",
    "do\n",
    "    FN_INP=${FN_INPS[idx]}\n",
    "    FN_OUT=${FN_OUTS[idx]}\n",
    "    \n",
    "    FILE=${FD_INP}/${FN_INP}\n",
    "    LINK=${FD_OUT}/${FN_OUT}\n",
    "    \n",
    "    if [[ ! -e ${LINK} ]]; then\n",
    "        ln -s ${FILE} ${LINK}\n",
    "    fi\n",
    "done"
   ]
  },
  {
   "cell_type": "markdown",
   "id": "2d6573e0-1d70-4f49-8577-1947ded3e9be",
   "metadata": {},
   "source": [
    "**Check results**"
   ]
  },
  {
   "cell_type": "code",
   "execution_count": 13,
   "id": "33cf5d7e-41fb-4e4c-a5a5-87c575f242d1",
   "metadata": {},
   "outputs": [
    {
     "name": "stdout",
     "output_type": "stream",
     "text": [
      "total 7.0K\n",
      "lrwxrwxrwx 1 kk319 reddylab 159 Feb 25 13:53 \u001b[0m\u001b[38;5;51mWSTARRseq_K562_A001.hg38.Input.rep1.WGS.unstranded.bed.gz\u001b[0m -> \u001b[38;5;9m/data/reddylab/Kuei/repo/Proj_CombEffect_ENCODE_FCC/data/processed/A001_K562_hg38_WSTARRseq/fragments/A001-input-K562-rep1.masked.dedup.fragments.counts.txt.gz\u001b[0m\u001b[K\n",
      "lrwxrwxrwx 1 kk319 reddylab 159 Feb 25 13:53 \u001b[38;5;51mWSTARRseq_K562_A001.hg38.Input.rep2.WGS.unstranded.bed.gz\u001b[0m -> \u001b[38;5;9m/data/reddylab/Kuei/repo/Proj_CombEffect_ENCODE_FCC/data/processed/A001_K562_hg38_WSTARRseq/fragments/A001-input-K562-rep2.masked.dedup.fragments.counts.txt.gz\u001b[0m\u001b[K\n",
      "lrwxrwxrwx 1 kk319 reddylab 159 Feb 25 13:53 \u001b[38;5;51mWSTARRseq_K562_A001.hg38.Input.rep3.WGS.unstranded.bed.gz\u001b[0m -> \u001b[38;5;9m/data/reddylab/Kuei/repo/Proj_CombEffect_ENCODE_FCC/data/processed/A001_K562_hg38_WSTARRseq/fragments/A001-input-K562-rep3.masked.dedup.fragments.counts.txt.gz\u001b[0m\u001b[K\n",
      "lrwxrwxrwx 1 kk319 reddylab 159 Feb 25 13:53 \u001b[38;5;51mWSTARRseq_K562_A001.hg38.Input.rep4.WGS.unstranded.bed.gz\u001b[0m -> \u001b[38;5;9m/data/reddylab/Kuei/repo/Proj_CombEffect_ENCODE_FCC/data/processed/A001_K562_hg38_WSTARRseq/fragments/A001-input-K562-rep4.masked.dedup.fragments.counts.txt.gz\u001b[0m\u001b[K\n",
      "lrwxrwxrwx 1 kk319 reddylab 153 Feb 25 13:53 \u001b[38;5;51mWSTARRseq_K562_A001.hg38.Output.rep1.WGS.unstranded.bed.gz\u001b[0m -> \u001b[38;5;9m/data/reddylab/Kuei/repo/Proj_CombEffect_ENCODE_FCC/data/processed/A001_K562_hg38_WSTARRseq/fragments/A001-K562-rep1.masked.dedup.fragments.counts.txt.gz\u001b[0m\u001b[K\n",
      "lrwxrwxrwx 1 kk319 reddylab 153 Feb 25 13:53 \u001b[38;5;51mWSTARRseq_K562_A001.hg38.Output.rep2.WGS.unstranded.bed.gz\u001b[0m -> \u001b[38;5;9m/data/reddylab/Kuei/repo/Proj_CombEffect_ENCODE_FCC/data/processed/A001_K562_hg38_WSTARRseq/fragments/A001-K562-rep2.masked.dedup.fragments.counts.txt.gz\u001b[0m\u001b[K\n",
      "lrwxrwxrwx 1 kk319 reddylab 153 Feb 25 13:53 \u001b[38;5;51mWSTARRseq_K562_A001.hg38.Output.rep3.WGS.unstranded.bed.gz\u001b[0m -> \u001b[38;5;9m/data/reddylab/Kuei/repo/Proj_CombEffect_ENCODE_FCC/data/processed/A001_K562_hg38_WSTARRseq/fragments/A001-K562-rep3.masked.dedup.fragments.counts.txt.gz\u001b[0m\u001b[K\n"
     ]
    }
   ],
   "source": [
    "FD_OUT=${FD_RES}/assay_fcc/STARR_WHG_K562_Reddy_A001/fragment_counts\n",
    "ls -lh ${FD_OUT}"
   ]
  },
  {
   "cell_type": "markdown",
   "id": "6613e56d-275b-41e9-86d1-a1b0690a2165",
   "metadata": {},
   "source": [
    "**Explore file and check**"
   ]
  },
  {
   "cell_type": "code",
   "execution_count": 14,
   "id": "280a052b-436a-460d-8333-67c1d956a02d",
   "metadata": {},
   "outputs": [
    {
     "name": "stdout",
     "output_type": "stream",
     "text": [
      "chr1\t10335\t10549\tchr1_10335_10549\t1\t.\n",
      "chr1\t16983\t17500\tchr1_16983_17500\t1\t.\n",
      "chr1\t16985\t17499\tchr1_16985_17499\t1\t.\n",
      "chr1\t17004\t17500\tchr1_17004_17500\t1\t.\n",
      "chr1\t17483\t17898\tchr1_17483_17898\t1\t.\n",
      "chr1\t17487\t17941\tchr1_17487_17941\t1\t.\n",
      "chr1\t33606\t33997\tchr1_33606_33997\t1\t.\n",
      "chr1\t33617\t33997\tchr1_33617_33997\t1\t.\n",
      "chr1\t38785\t39226\tchr1_38785_39226\t1\t.\n",
      "chr1\t46328\t46678\tchr1_46328_46678\t1\t.\n"
     ]
    }
   ],
   "source": [
    "FD_OUT=${FD_RES}/assay_fcc/STARR_WHG_K562_Reddy_A001/fragment_counts\n",
    "FN_OUT=WSTARRseq_K562_A001.hg38.Input.rep1.WGS.unstranded.bed.gz\n",
    "FP_OUT=${FD_OUT}/${FN_OUT}\n",
    "\n",
    "zcat ${FP_OUT} | head"
   ]
  },
  {
   "cell_type": "markdown",
   "id": "fa9c7339-2753-492f-bd0e-efc34c77bb39",
   "metadata": {},
   "source": [
    "## Prepare regions"
   ]
  },
  {
   "cell_type": "markdown",
   "id": "39b72082-e6e7-41cc-a5c6-cd621ffc1654",
   "metadata": {},
   "source": [
    "**Data: Original files**\n",
    "\n",
    "`PROJECT/data/processed/KS91_K562_hg38_ASTARRseq_210401/peaks`\n",
    "\n",
    "```\n",
    "KS91_K562_hg38_ASTARRseq_Input.all_reps.masked.union_narrowPeak.q5.bed\n",
    "KS91_K562_hg38_ASTARRseq_Input.q5.in_all.max_overlaps.bed\n",
    "```"
   ]
  },
  {
   "cell_type": "markdown",
   "id": "28659c16-84e2-41a3-adde-ffd04b453974",
   "metadata": {},
   "source": [
    "**Results: SymLinks**\n",
    "\n",
    "`PROJECT/results/region/starr_macs`\n",
    "\n",
    "```\n",
    "ASTARRseq_K562_KS91.hg38.Input.rep_all.union.q5.bed\n",
    "ASTARRseq_K562_KS91.hg38.Input.rep_all.max_overlaps.q5.bed\n",
    "```"
   ]
  },
  {
   "cell_type": "markdown",
   "id": "46f7f208-8102-47e1-b526-e7d5676b9f64",
   "metadata": {},
   "source": [
    "**Check data**"
   ]
  },
  {
   "cell_type": "code",
   "execution_count": 15,
   "id": "2850deaf-6584-486a-9c9c-52073f5fa658",
   "metadata": {},
   "outputs": [
    {
     "name": "stdout",
     "output_type": "stream",
     "text": [
      "total 9.5M\n",
      "-rw-r--r-- 1 kk319 reddylab 5.7M Feb 26 17:43 KS91_K562_hg38_ASTARRseq_Input.all_reps.masked.union_narrowPeak.q5.bed\n",
      "-rw-r--r-- 1 kk319 reddylab 3.8M Feb 26 17:43 KS91_K562_hg38_ASTARRseq_Input.q5.in_all.max_overlaps.bed\n"
     ]
    }
   ],
   "source": [
    "FD_INP=${FD_DAT}/processed/KS91_K562_hg38_ASTARRseq_210401/peaks\n",
    "ls -lh ${FD_INP}"
   ]
  },
  {
   "cell_type": "code",
   "execution_count": 16,
   "id": "4a22984a-7697-48ea-ad48-343741bbde4e",
   "metadata": {},
   "outputs": [
    {
     "name": "stdout",
     "output_type": "stream",
     "text": [
      "chr1\t10015\t10442\n",
      "chr1\t14253\t14645\n",
      "chr1\t16015\t16477\n",
      "chr1\t17237\t17772\n",
      "chr1\t28903\t29613\n",
      "chr1\t30803\t31072\n",
      "chr1\t101603\t101849\n",
      "chr1\t115411\t115986\n",
      "chr1\t118518\t118743\n",
      "chr1\t136071\t137429\n"
     ]
    }
   ],
   "source": [
    "FD_INP=${FD_DAT}/processed/KS91_K562_hg38_ASTARRseq_210401/peaks\n",
    "FN_INP=KS91_K562_hg38_ASTARRseq_Input.all_reps.masked.union_narrowPeak.q5.bed\n",
    "FP_INP=${FD_INP}/${FN_INP}\n",
    "\n",
    "cat ${FP_INP} | head"
   ]
  },
  {
   "cell_type": "code",
   "execution_count": 17,
   "id": "061240da-e1f9-4b86-a85f-a9a8d6dbd3c7",
   "metadata": {},
   "outputs": [
    {
     "name": "stdout",
     "output_type": "stream",
     "text": [
      "chr1\t10038\t10405\t6\n",
      "chr1\t14282\t14614\t6\n",
      "chr1\t16025\t16338\t6\n",
      "chr1\t17288\t17689\t6\n",
      "chr1\t28934\t29499\t6\n",
      "chr1\t115429\t115969\t6\n",
      "chr1\t136201\t137353\t6\n",
      "chr1\t137748\t138049\t6\n",
      "chr1\t138321\t139517\t6\n",
      "chr1\t181005\t181854\t6\n"
     ]
    }
   ],
   "source": [
    "FD_INP=${FD_DAT}/processed/KS91_K562_hg38_ASTARRseq_210401/peaks\n",
    "FN_INP=KS91_K562_hg38_ASTARRseq_Input.q5.in_all.max_overlaps.bed\n",
    "FP_INP=${FD_INP}/${FN_INP}\n",
    "\n",
    "cat ${FP_INP} | head"
   ]
  },
  {
   "cell_type": "markdown",
   "id": "21d59ff7-67a9-43aa-9f43-e692466153b7",
   "metadata": {},
   "source": [
    "**Link: union peak file**"
   ]
  },
  {
   "cell_type": "code",
   "execution_count": 18,
   "id": "300c6842-ffdb-49d8-b412-ea08e08de360",
   "metadata": {},
   "outputs": [],
   "source": [
    "FD_INP=${FD_DAT}/processed/KS91_K562_hg38_ASTARRseq_210401/peaks\n",
    "FN_INP=KS91_K562_hg38_ASTARRseq_Input.all_reps.masked.union_narrowPeak.q5.bed\n",
    "FP_INP=${FD_INP}/${FN_INP}\n",
    "\n",
    "FD_OUT=${FD_RES}/region/starr_macs\n",
    "FN_OUT=ASTARRseq_K562_KS91.hg38.Input.rep_all.union.q5.bed\n",
    "FP_OUT=${FD_OUT}/${FN_OUT}\n",
    "\n",
    "if [[ ! -e ${FP_OUT} ]]; then\n",
    "    ln -s ${FP_INP} ${FP_OUT}\n",
    "fi"
   ]
  },
  {
   "cell_type": "markdown",
   "id": "13502b82-a2c6-4d10-b819-73fe5c5ef65d",
   "metadata": {},
   "source": [
    "**Update: overlap peak file**"
   ]
  },
  {
   "cell_type": "code",
   "execution_count": 19,
   "id": "d8d85539-6ef7-4949-8354-c202892e4c29",
   "metadata": {},
   "outputs": [],
   "source": [
    "FD_INP=${FD_DAT}/processed/KS91_K562_hg38_ASTARRseq_210401/peaks\n",
    "FN_INP=KS91_K562_hg38_ASTARRseq_Input.q5.in_all.max_overlaps.bed\n",
    "FP_INP=${FD_INP}/${FN_INP}\n",
    "\n",
    "FD_OUT=${FD_RES}/region/starr_macs\n",
    "FN_OUT=ASTARRseq_K562_KS91.hg38.Input.rep_all.max_overlaps.q5.bed\n",
    "FP_OUT=${FD_OUT}/${FN_OUT}\n",
    "\n",
    "cat ${FP_INP} | cut -f1-3 > ${FP_OUT}"
   ]
  },
  {
   "cell_type": "markdown",
   "id": "b1da1381-10b6-46a4-9b08-f3d2bd926058",
   "metadata": {},
   "source": [
    "**Create metadata**"
   ]
  },
  {
   "cell_type": "code",
   "execution_count": 26,
   "id": "2bafe16b-d042-4f7c-9b67-2ba7ed19b7ab",
   "metadata": {},
   "outputs": [],
   "source": [
    "TAB=\"$(printf '\\t')\"\n",
    "\n",
    "FD_OUT=${FD_RES}/region/starr_macs\n",
    "FN_OUT=description.tsv\n",
    "FP_OUT=${FD_OUT}/${FN_OUT}\n",
    "\n",
    "cat > ${FP_OUT} << EOF\n",
    "Name${TAB}Note\n",
    "Chrom${TAB}Name of the chromosome\n",
    "ChromStart${TAB}The starting position of the feature in the chromosome\n",
    "ChromEnd${TAB}The ending position of the feature in the chromosome\n",
    "EOF"
   ]
  },
  {
   "cell_type": "markdown",
   "id": "4ed93141-4ef6-4d65-8f1e-4f735cf500dc",
   "metadata": {},
   "source": [
    "**Check results**"
   ]
  },
  {
   "cell_type": "code",
   "execution_count": 24,
   "id": "62101c3a-7600-450d-bb13-8df3312dec7b",
   "metadata": {},
   "outputs": [
    {
     "name": "stdout",
     "output_type": "stream",
     "text": [
      "total 3.6M\n",
      "-rw-rw-r-- 1 kk319 reddylab 3.5M Feb 26 17:47 ASTARRseq_K562_KS91.hg38.Input.rep_all.max_overlaps.q5.bed\n",
      "lrwxrwxrwx 1 kk319 reddylab  175 Feb 26 17:44 \u001b[0m\u001b[38;5;51mASTARRseq_K562_KS91.hg38.Input.rep_all.union.q5.bed\u001b[0m -> /data/reddylab/Kuei/repo/Proj_CombEffect_ENCODE_FCC/data/processed/KS91_K562_hg38_ASTARRseq_210401/peaks/KS91_K562_hg38_ASTARRseq_Input.all_reps.masked.union_narrowPeak.q5.bed\n",
      "-rw-rw-r-- 1 kk319 reddylab  183 Feb 26 17:55 description.tsv\n"
     ]
    }
   ],
   "source": [
    "FD_OUT=${FD_RES}/region/starr_macs\n",
    "ls -lh ${FD_OUT}"
   ]
  },
  {
   "cell_type": "markdown",
   "id": "ba691a7c-9896-4fd9-98ee-98cddca075cd",
   "metadata": {},
   "source": [
    "**Explore file and check**"
   ]
  },
  {
   "cell_type": "code",
   "execution_count": 21,
   "id": "c64b30b4-6452-4653-9240-d5fb182d6ef7",
   "metadata": {},
   "outputs": [
    {
     "name": "stdout",
     "output_type": "stream",
     "text": [
      "chr1\t10038\t10405\n",
      "chr1\t14282\t14614\n",
      "chr1\t16025\t16338\n",
      "chr1\t17288\t17689\n",
      "chr1\t28934\t29499\n",
      "chr1\t115429\t115969\n",
      "chr1\t136201\t137353\n",
      "chr1\t137748\t138049\n",
      "chr1\t138321\t139517\n",
      "chr1\t181005\t181854\n"
     ]
    }
   ],
   "source": [
    "FD_OUT=${FD_RES}/region/starr_macs\n",
    "FN_OUT=ASTARRseq_K562_KS91.hg38.Input.rep_all.max_overlaps.q5.bed\n",
    "FP_OUT=${FD_OUT}/${FN_OUT}\n",
    "\n",
    "cat ${FP_OUT} | head"
   ]
  },
  {
   "cell_type": "code",
   "execution_count": 22,
   "id": "9d741643-53cd-4978-a31c-bf9c04775e51",
   "metadata": {},
   "outputs": [
    {
     "name": "stdout",
     "output_type": "stream",
     "text": [
      "chr1\t10015\t10442\n",
      "chr1\t14253\t14645\n",
      "chr1\t16015\t16477\n",
      "chr1\t17237\t17772\n",
      "chr1\t28903\t29613\n",
      "chr1\t30803\t31072\n",
      "chr1\t101603\t101849\n",
      "chr1\t115411\t115986\n",
      "chr1\t118518\t118743\n",
      "chr1\t136071\t137429\n"
     ]
    }
   ],
   "source": [
    "FD_OUT=${FD_RES}/region/starr_macs\n",
    "FN_OUT=ASTARRseq_K562_KS91.hg38.Input.rep_all.union.q5.bed\n",
    "FP_OUT=${FD_OUT}/${FN_OUT}\n",
    "\n",
    "cat ${FP_OUT} | head"
   ]
  },
  {
   "cell_type": "code",
   "execution_count": 27,
   "id": "50b06c74-f0d9-4a5d-ade4-e772e4e95e1b",
   "metadata": {},
   "outputs": [
    {
     "name": "stdout",
     "output_type": "stream",
     "text": [
      "Name\tNote\n",
      "Chrom\tName of the chromosome\n",
      "ChromStart\tThe starting position of the feature in the chromosome\n",
      "ChromEnd\tThe ending position of the feature in the chromosome\n"
     ]
    }
   ],
   "source": [
    "FD_OUT=${FD_RES}/region/starr_macs\n",
    "FN_OUT=description.tsv\n",
    "FP_OUT=${FD_OUT}/${FN_OUT}\n",
    "\n",
    "cat ${FP_OUT}"
   ]
  },
  {
   "cell_type": "code",
   "execution_count": null,
   "id": "f5c147ad-1fad-4c91-9f79-a41436383e1e",
   "metadata": {},
   "outputs": [],
   "source": []
  }
 ],
 "metadata": {
  "kernelspec": {
   "display_name": "Bash",
   "language": "bash",
   "name": "bash"
  },
  "language_info": {
   "codemirror_mode": "shell",
   "file_extension": ".sh",
   "mimetype": "text/x-sh",
   "name": "bash"
  }
 },
 "nbformat": 4,
 "nbformat_minor": 5
}
