{
 "cells": [
  {
   "cell_type": "raw",
   "id": "db77029c-063e-4ac0-b9bf-c04928e0222c",
   "metadata": {},
   "source": [
    "---\n",
    "title: Prepare track data processed by JinWoo 05\n",
    "subtitle: Prepare CRISPRi HCRFF data for the analysis\n",
    "format:\n",
    "    html:\n",
    "        code-fold:  true\n",
    "        code-tools: true\n",
    "---"
   ]
  },
  {
   "cell_type": "markdown",
   "id": "4f8847ea-cb80-4518-9cc8-34c90eacc79e",
   "metadata": {},
   "source": [
    "**Set environment**"
   ]
  },
  {
   "cell_type": "code",
   "execution_count": 1,
   "id": "4a1ad028-a8d4-487f-9104-2728cf35fdf5",
   "metadata": {},
   "outputs": [
    {
     "name": "stdout",
     "output_type": "stream",
     "text": [
      "You are working on        Singularity \n",
      "BASE DIRECTORY (FD_BASE): /mount \n",
      "REPO DIRECTORY (FD_REPO): /mount/repo \n",
      "WORK DIRECTORY (FD_WORK): /mount/work \n",
      "DATA DIRECTORY (FD_DATA): /mount/data \n",
      "\n",
      "You are working with      ENCODE FCC \n",
      "PATH OF PROJECT (FD_PRJ): /mount/repo/Proj_ENCODE_FCC \n",
      "PROJECT RESULTS (FD_RES): /mount/repo/Proj_ENCODE_FCC/results \n",
      "PROJECT SCRIPTS (FD_EXE): /mount/repo/Proj_ENCODE_FCC/scripts \n",
      "PROJECT DATA    (FD_DAT): /mount/repo/Proj_ENCODE_FCC/data \n",
      "PROJECT NOTE    (FD_NBK): /mount/repo/Proj_ENCODE_FCC/notebooks \n",
      "PROJECT DOCS    (FD_DOC): /mount/repo/Proj_ENCODE_FCC/docs \n",
      "PROJECT LOG     (FD_LOG): /mount/repo/Proj_ENCODE_FCC/log \n",
      "PROJECT APP     (FD_APP): /mount/repo/Proj_ENCODE_FCC/app \n",
      "PROJECT REF     (FD_REF): /mount/repo/Proj_ENCODE_FCC/references \n",
      "\n"
     ]
    }
   ],
   "source": [
    "suppressMessages(suppressWarnings(source(\"../run_config_project_sing.R\")))\n",
    "show_env()"
   ]
  },
  {
   "cell_type": "markdown",
   "id": "ce11dd32-2852-41a3-adc6-2004d0b2257e",
   "metadata": {},
   "source": [
    "## Import data"
   ]
  },
  {
   "cell_type": "markdown",
   "id": "a6f00a68-8f79-4b6b-858e-914092e1901e",
   "metadata": {},
   "source": [
    "**Define helper functions**"
   ]
  },
  {
   "cell_type": "code",
   "execution_count": 2,
   "id": "58c05a5a-ffa2-4962-82af-9f6501348270",
   "metadata": {},
   "outputs": [
    {
     "data": {
      "text/html": [
       "<table>\n",
       " <thead>\n",
       "  <tr>\n",
       "   <th style=\"text-align:left;\"> Assay </th>\n",
       "   <th style=\"text-align:left;\"> Biosample </th>\n",
       "   <th style=\"text-align:left;\"> Index_Experiment </th>\n",
       "   <th style=\"text-align:left;\"> Index_Process </th>\n",
       "   <th style=\"text-align:left;\"> Index_File </th>\n",
       "   <th style=\"text-align:left;\"> File_Type </th>\n",
       "   <th style=\"text-align:left;\"> Output_Type </th>\n",
       "   <th style=\"text-align:left;\"> Genome </th>\n",
       "   <th style=\"text-align:left;\"> Target </th>\n",
       "   <th style=\"text-align:left;\"> File_Summary </th>\n",
       "   <th style=\"text-align:left;\"> Lab </th>\n",
       "  </tr>\n",
       " </thead>\n",
       "<tbody>\n",
       "  <tr>\n",
       "   <td style=\"text-align:left;\"> Flow-FISH CRISPR screen </td>\n",
       "   <td style=\"text-align:left;\"> K562 </td>\n",
       "   <td style=\"text-align:left;\"> ENCSR793WTM </td>\n",
       "   <td style=\"text-align:left;\"> Lab custom GRCh38 (ENCAN194INC) </td>\n",
       "   <td style=\"text-align:left;\"> ENCFF863AVQ </td>\n",
       "   <td style=\"text-align:left;\"> bed CRISPR element quantifications </td>\n",
       "   <td style=\"text-align:left;\"> element quantifications </td>\n",
       "   <td style=\"text-align:left;\"> hg38 </td>\n",
       "   <td style=\"text-align:left;\"> CAPRIN1 </td>\n",
       "   <td style=\"text-align:left;\"> CAPRIN1_peakwise_file </td>\n",
       "   <td style=\"text-align:left;\"> Pardis Sabeti, Broad </td>\n",
       "  </tr>\n",
       "  <tr>\n",
       "   <td style=\"text-align:left;\"> Flow-FISH CRISPR screen </td>\n",
       "   <td style=\"text-align:left;\"> K562 </td>\n",
       "   <td style=\"text-align:left;\"> ENCSR793WTM </td>\n",
       "   <td style=\"text-align:left;\"> Lab custom GRCh38 (ENCAN194INC) </td>\n",
       "   <td style=\"text-align:left;\"> ENCFF444UXP </td>\n",
       "   <td style=\"text-align:left;\"> bigWig </td>\n",
       "   <td style=\"text-align:left;\"> perturbation signal </td>\n",
       "   <td style=\"text-align:left;\"> hg38 </td>\n",
       "   <td style=\"text-align:left;\"> CAPRIN1 </td>\n",
       "   <td style=\"text-align:left;\"> CAPRIN1_perturb_signal_R1 </td>\n",
       "   <td style=\"text-align:left;\"> Pardis Sabeti, Broad </td>\n",
       "  </tr>\n",
       "  <tr>\n",
       "   <td style=\"text-align:left;\"> Flow-FISH CRISPR screen </td>\n",
       "   <td style=\"text-align:left;\"> K562 </td>\n",
       "   <td style=\"text-align:left;\"> ENCSR793WTM </td>\n",
       "   <td style=\"text-align:left;\"> Lab custom GRCh38 (ENCAN194INC) </td>\n",
       "   <td style=\"text-align:left;\"> ENCFF994KKV </td>\n",
       "   <td style=\"text-align:left;\"> bigWig </td>\n",
       "   <td style=\"text-align:left;\"> perturbation signal </td>\n",
       "   <td style=\"text-align:left;\"> hg38 </td>\n",
       "   <td style=\"text-align:left;\"> CAPRIN1 </td>\n",
       "   <td style=\"text-align:left;\"> CAPRIN1_perturb_signal_R2 </td>\n",
       "   <td style=\"text-align:left;\"> Pardis Sabeti, Broad </td>\n",
       "  </tr>\n",
       "  <tr>\n",
       "   <td style=\"text-align:left;\"> Flow-FISH CRISPR screen </td>\n",
       "   <td style=\"text-align:left;\"> K562 </td>\n",
       "   <td style=\"text-align:left;\"> ENCSR794SPV </td>\n",
       "   <td style=\"text-align:left;\"> Lab custom GRCh38 (ENCAN095VUQ) </td>\n",
       "   <td style=\"text-align:left;\"> ENCFF619FXH </td>\n",
       "   <td style=\"text-align:left;\"> bed CRISPR element quantifications </td>\n",
       "   <td style=\"text-align:left;\"> element quantifications </td>\n",
       "   <td style=\"text-align:left;\"> hg38 </td>\n",
       "   <td style=\"text-align:left;\"> CAT </td>\n",
       "   <td style=\"text-align:left;\"> CAT_peakwise_file </td>\n",
       "   <td style=\"text-align:left;\"> Pardis Sabeti, Broad </td>\n",
       "  </tr>\n",
       "  <tr>\n",
       "   <td style=\"text-align:left;\"> Flow-FISH CRISPR screen </td>\n",
       "   <td style=\"text-align:left;\"> K562 </td>\n",
       "   <td style=\"text-align:left;\"> ENCSR794SPV </td>\n",
       "   <td style=\"text-align:left;\"> Lab custom GRCh38 (ENCAN095VUQ) </td>\n",
       "   <td style=\"text-align:left;\"> ENCFF918VCM </td>\n",
       "   <td style=\"text-align:left;\"> bigWig </td>\n",
       "   <td style=\"text-align:left;\"> perturbation signal </td>\n",
       "   <td style=\"text-align:left;\"> hg38 </td>\n",
       "   <td style=\"text-align:left;\"> CAT </td>\n",
       "   <td style=\"text-align:left;\"> CAT_perturb_signal_R1 </td>\n",
       "   <td style=\"text-align:left;\"> Pardis Sabeti, Broad </td>\n",
       "  </tr>\n",
       "  <tr>\n",
       "   <td style=\"text-align:left;\"> Flow-FISH CRISPR screen </td>\n",
       "   <td style=\"text-align:left;\"> K562 </td>\n",
       "   <td style=\"text-align:left;\"> ENCSR794SPV </td>\n",
       "   <td style=\"text-align:left;\"> Lab custom GRCh38 (ENCAN095VUQ) </td>\n",
       "   <td style=\"text-align:left;\"> ENCFF965PMF </td>\n",
       "   <td style=\"text-align:left;\"> bigWig </td>\n",
       "   <td style=\"text-align:left;\"> perturbation signal </td>\n",
       "   <td style=\"text-align:left;\"> hg38 </td>\n",
       "   <td style=\"text-align:left;\"> CAT </td>\n",
       "   <td style=\"text-align:left;\"> CAT_perturb_signal_R2 </td>\n",
       "   <td style=\"text-align:left;\"> Pardis Sabeti, Broad </td>\n",
       "  </tr>\n",
       "</tbody>\n",
       "</table>"
      ]
     },
     "metadata": {},
     "output_type": "display_data"
    }
   ],
   "source": [
    "txt_fdiry = file.path(FD_REF, \"encode_crispri_hcrff\")\n",
    "txt_fname = \"ENCODE_K562_hg38_CRISPRi_HCRFF.tsv\"\n",
    "txt_fpath = file.path(txt_fdiry, txt_fname)\n",
    "\n",
    "dat = read_tsv(txt_fpath, show_col_types = FALSE)\n",
    "dat_ref_chcrff = dat\n",
    "fun_display_table(head(dat))"
   ]
  },
  {
   "cell_type": "code",
   "execution_count": 3,
   "id": "becf991f-04f7-4d96-8637-fbca2ea545fd",
   "metadata": {},
   "outputs": [],
   "source": [
    "vec_txt_gene = unique(dat_ref_chcrff$Target)\n",
    "\n",
    "get_info = function(string, patterns){\n",
    "    idx = str_detect(string = string, pattern = patterns)\n",
    "    return(patterns[idx])\n",
    "}\n",
    "\n",
    "get_gene = function(strings){\n",
    "    res = sapply(strings, function(string){get_info(string, vec_txt_gene)})\n",
    "    return(res)\n",
    "}"
   ]
  },
  {
   "cell_type": "markdown",
   "id": "518558ce-0b36-4edf-874f-6dcce82fe292",
   "metadata": {},
   "source": [
    "**Read table**"
   ]
  },
  {
   "cell_type": "code",
   "execution_count": 13,
   "id": "4dc78fe6-81d7-4c23-9256-3981709c85cf",
   "metadata": {},
   "outputs": [
    {
     "data": {
      "text/html": [
       "<table>\n",
       " <thead>\n",
       "  <tr>\n",
       "   <th style=\"text-align:left;\"> Chrom </th>\n",
       "   <th style=\"text-align:right;\"> ChromStart </th>\n",
       "   <th style=\"text-align:right;\"> ChromEnd </th>\n",
       "   <th style=\"text-align:left;\"> Name </th>\n",
       "   <th style=\"text-align:right;\"> Score </th>\n",
       "   <th style=\"text-align:left;\"> Target </th>\n",
       "  </tr>\n",
       " </thead>\n",
       "<tbody>\n",
       "  <tr>\n",
       "   <td style=\"text-align:left;\"> chr10 </td>\n",
       "   <td style=\"text-align:right;\"> 100694991 </td>\n",
       "   <td style=\"text-align:right;\"> 100694992 </td>\n",
       "   <td style=\"text-align:left;\"> id-1 </td>\n",
       "   <td style=\"text-align:right;\"> 0.436247 </td>\n",
       "   <td style=\"text-align:left;\"> CAPRIN1 </td>\n",
       "  </tr>\n",
       "  <tr>\n",
       "   <td style=\"text-align:left;\"> chr10 </td>\n",
       "   <td style=\"text-align:right;\"> 100695172 </td>\n",
       "   <td style=\"text-align:right;\"> 100695173 </td>\n",
       "   <td style=\"text-align:left;\"> id-2 </td>\n",
       "   <td style=\"text-align:right;\"> -1.057770 </td>\n",
       "   <td style=\"text-align:left;\"> CAPRIN1 </td>\n",
       "  </tr>\n",
       "  <tr>\n",
       "   <td style=\"text-align:left;\"> chr10 </td>\n",
       "   <td style=\"text-align:right;\"> 100695184 </td>\n",
       "   <td style=\"text-align:right;\"> 100695185 </td>\n",
       "   <td style=\"text-align:left;\"> id-3 </td>\n",
       "   <td style=\"text-align:right;\"> 1.242010 </td>\n",
       "   <td style=\"text-align:left;\"> CAPRIN1 </td>\n",
       "  </tr>\n",
       "</tbody>\n",
       "</table>"
      ]
     },
     "metadata": {},
     "output_type": "display_data"
    }
   ],
   "source": [
    "### set directory\n",
    "txt_assay  = \"CRISPRi_FlowFISH_K562_Riley_JinWoo\"\n",
    "txt_folder = \"guide_scores\"\n",
    "txt_fdiry  = file.path(FD_RES, \"assay_fcc\", txt_assay, txt_folder)\n",
    "txt_fname  = \"*.bed\"\n",
    "txt_fglob  = file.path(txt_fdiry, txt_fname)\n",
    "\n",
    "vec_txt_fpath = Sys.glob(txt_fglob)\n",
    "vec_txt_cname = c(\"Chrom\", \"ChromStart\", \"ChromEnd\", \"Name\", \"Score\")\n",
    "\n",
    "### read table\n",
    "lst = lapply(vec_txt_fpath, function(txt_fpath){\n",
    "    txt = get_gene(txt_fpath)\n",
    "    dat = read_tsv(txt_fpath, col_names = vec_txt_cname, show_col_types = FALSE)\n",
    "    dat = dat %>% dplyr::mutate(Target = txt)\n",
    "    return(dat)\n",
    "})\n",
    "dat = bind_rows(lst)\n",
    "\n",
    "### assign and show\n",
    "dat_score_chcrff = dat\n",
    "fun_display_table(head(dat, 3))"
   ]
  },
  {
   "cell_type": "markdown",
   "id": "76d856a6-2b1b-4ec8-97a1-fdff9ae93f75",
   "metadata": {},
   "source": [
    "## Arrange table"
   ]
  },
  {
   "cell_type": "code",
   "execution_count": 17,
   "id": "c7f2421e-251c-4490-9276-97e550665047",
   "metadata": {},
   "outputs": [
    {
     "data": {
      "text/html": [
       "<table>\n",
       " <thead>\n",
       "  <tr>\n",
       "   <th style=\"text-align:left;\"> Chrom </th>\n",
       "   <th style=\"text-align:right;\"> ChromStart </th>\n",
       "   <th style=\"text-align:right;\"> ChromEnd </th>\n",
       "   <th style=\"text-align:left;\"> Name </th>\n",
       "   <th style=\"text-align:right;\"> Score </th>\n",
       "   <th style=\"text-align:left;\"> Strand </th>\n",
       "   <th style=\"text-align:left;\"> Target </th>\n",
       "  </tr>\n",
       " </thead>\n",
       "<tbody>\n",
       "  <tr>\n",
       "   <td style=\"text-align:left;\"> chr1 </td>\n",
       "   <td style=\"text-align:right;\"> 74582275 </td>\n",
       "   <td style=\"text-align:right;\"> 74582276 </td>\n",
       "   <td style=\"text-align:left;\"> id-1 </td>\n",
       "   <td style=\"text-align:right;\"> 0.414014 </td>\n",
       "   <td style=\"text-align:left;\"> . </td>\n",
       "   <td style=\"text-align:left;\"> CD164 </td>\n",
       "  </tr>\n",
       "  <tr>\n",
       "   <td style=\"text-align:left;\"> chr1 </td>\n",
       "   <td style=\"text-align:right;\"> 74582275 </td>\n",
       "   <td style=\"text-align:right;\"> 74582276 </td>\n",
       "   <td style=\"text-align:left;\"> id-1 </td>\n",
       "   <td style=\"text-align:right;\"> -0.493091 </td>\n",
       "   <td style=\"text-align:left;\"> . </td>\n",
       "   <td style=\"text-align:left;\"> MYC </td>\n",
       "  </tr>\n",
       "  <tr>\n",
       "   <td style=\"text-align:left;\"> chr1 </td>\n",
       "   <td style=\"text-align:right;\"> 74582275 </td>\n",
       "   <td style=\"text-align:right;\"> 74582276 </td>\n",
       "   <td style=\"text-align:left;\"> id-1 </td>\n",
       "   <td style=\"text-align:right;\"> 0.024514 </td>\n",
       "   <td style=\"text-align:left;\"> . </td>\n",
       "   <td style=\"text-align:left;\"> NMU </td>\n",
       "  </tr>\n",
       "</tbody>\n",
       "</table>"
      ]
     },
     "metadata": {},
     "output_type": "display_data"
    }
   ],
   "source": [
    "dat = dat_score_chcrff\n",
    "dat = dat %>% \n",
    "    dplyr::mutate(Strand = \".\") %>% \n",
    "    dplyr::select(Chrom, ChromStart, ChromEnd, Name, Score, Strand, Target) %>% \n",
    "    dplyr::arrange(Chrom, ChromStart, ChromEnd)\n",
    "\n",
    "### assign and show\n",
    "dat_score_chcrff_arrange = dat\n",
    "fun_display_table(head(dat, 3))"
   ]
  },
  {
   "cell_type": "markdown",
   "id": "97be0d87-ba19-4ee6-8693-c0e6c4dd47f8",
   "metadata": {},
   "source": [
    "## Save results"
   ]
  },
  {
   "cell_type": "markdown",
   "id": "f95fdcfa-4382-4db4-ad5d-7111a84e315e",
   "metadata": {},
   "source": [
    "**Write table**"
   ]
  },
  {
   "cell_type": "code",
   "execution_count": 18,
   "id": "4e4966b4-f3c5-4a3a-ae39-6b6a14b6d7da",
   "metadata": {},
   "outputs": [],
   "source": [
    "### set directory\n",
    "txt_assay  = \"CRISPRi_FlowFISH_K562_Riley_JinWoo\"\n",
    "txt_folder = \"guide_scores\"\n",
    "txt_fdiry  = file.path(FD_RES, \"assay_fcc\", txt_assay, txt_folder)\n",
    "txt_fname  = \"CRISPRi_HCRFF_K562.hg38.ZScore.unstranded.bed.gz\"\n",
    "txt_fpath  = file.path(txt_fdiry, txt_fname)\n",
    "\n",
    "dat = dat_score_chcrff_arrange\n",
    "write_tsv(dat, txt_fpath, col_names=FALSE)"
   ]
  },
  {
   "cell_type": "markdown",
   "id": "fe27c504-7729-4649-9913-5fb154e1a6a6",
   "metadata": {},
   "source": [
    "**Check results**"
   ]
  },
  {
   "cell_type": "code",
   "execution_count": 19,
   "id": "11a4dcfc-c1bd-4d69-b575-5d5d16c2a7a4",
   "metadata": {},
   "outputs": [
    {
     "name": "stdout",
     "output_type": "stream",
     "text": [
      "Chrom\tChromStart\tChromEnd\tName\tScore\tStrand\tTarget \n",
      "chr1\t74582275\t74582276\tid-1\t0.414014\t.\tCD164 \n",
      "chr1\t74582275\t74582276\tid-1\t-0.493091\t.\tMYC \n",
      "chr1\t74582275\t74582276\tid-1\t0.024514\t.\tNMU \n",
      "chr1\t74582275\t74582276\tid-1\t0.44089\t.\tPVT1 \n",
      "chr1\t74582309\t74582310\tid-2\t-0.181799\t.\tCD164 \n",
      "chr1\t74582309\t74582310\tid-2\t0.997649\t.\tMYC \n",
      "chr1\t74582309\t74582310\tid-2\t-0.439687\t.\tNMU \n",
      "chr1\t74582309\t74582310\tid-2\t1.25627\t.\tPVT1 \n",
      "chr1\t80526338\t80526339\tid-3\t-0.186275\t.\tCD164 \n"
     ]
    }
   ],
   "source": [
    "### set directory\n",
    "txt_assay  = \"CRISPRi_FlowFISH_K562_Riley_JinWoo\"\n",
    "txt_folder = \"guide_scores\"\n",
    "txt_fdiry  = file.path(FD_RES, \"assay_fcc\", txt_assay, txt_folder)\n",
    "txt_fname  = \"CRISPRi_HCRFF_K562.hg38.ZScore.unstranded.bed.gz\"\n",
    "txt_fpath  = file.path(txt_fdiry, txt_fname)\n",
    "\n",
    "### \n",
    "txt_cmd = paste(\"zcat\", txt_fpath, \"| head\")\n",
    "vec     = system(txt_cmd, intern = TRUE)\n",
    "for(txt in vec){cat(txt, \"\\n\")}"
   ]
  },
  {
   "cell_type": "code",
   "execution_count": null,
   "id": "c4256e43-dbfe-4629-a4af-8e3e0bedc764",
   "metadata": {},
   "outputs": [],
   "source": []
  }
 ],
 "metadata": {
  "kernelspec": {
   "display_name": "R",
   "language": "R",
   "name": "ir"
  },
  "language_info": {
   "codemirror_mode": "r",
   "file_extension": ".r",
   "mimetype": "text/x-r-source",
   "name": "R",
   "pygments_lexer": "r",
   "version": "4.3.3"
  }
 },
 "nbformat": 4,
 "nbformat_minor": 5
}
