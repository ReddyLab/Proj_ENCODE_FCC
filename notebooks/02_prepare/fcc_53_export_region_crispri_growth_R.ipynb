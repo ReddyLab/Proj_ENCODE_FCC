{
 "cells": [
  {
   "cell_type": "raw",
   "id": "c94231a7-09a2-45b6-bc1a-fdf366063263",
   "metadata": {},
   "source": [
    "---\n",
    "title: Prepare CRISPRi-Growth significant region 03\n",
    "subtitle: Export regions\n",
    "format:\n",
    "    html:\n",
    "        code-fold:  true\n",
    "        code-tools: true\n",
    "---"
   ]
  },
  {
   "cell_type": "markdown",
   "id": "187ef77e-2e1c-44a1-94e6-3bc08b8b620f",
   "metadata": {},
   "source": [
    "**Set environment**"
   ]
  },
  {
   "cell_type": "code",
   "execution_count": 1,
   "id": "885580f8-1deb-4f33-9641-9fe838de2706",
   "metadata": {},
   "outputs": [
    {
     "name": "stdout",
     "output_type": "stream",
     "text": [
      "You are working on        Singularity \n",
      "BASE DIRECTORY (FD_BASE): /mount \n",
      "REPO DIRECTORY (FD_REPO): /mount/repo \n",
      "WORK DIRECTORY (FD_WORK): /mount/work \n",
      "DATA DIRECTORY (FD_DATA): /mount/data \n",
      "\n",
      "You are working with      ENCODE FCC \n",
      "PATH OF PROJECT (FD_PRJ): /mount/repo/Proj_ENCODE_FCC \n",
      "PROJECT RESULTS (FD_RES): /mount/repo/Proj_ENCODE_FCC/results \n",
      "PROJECT SCRIPTS (FD_EXE): /mount/repo/Proj_ENCODE_FCC/scripts \n",
      "PROJECT DATA    (FD_DAT): /mount/repo/Proj_ENCODE_FCC/data \n",
      "PROJECT NOTE    (FD_NBK): /mount/repo/Proj_ENCODE_FCC/notebooks \n",
      "PROJECT DOCS    (FD_DOC): /mount/repo/Proj_ENCODE_FCC/docs \n",
      "PROJECT LOG     (FD_LOG): /mount/repo/Proj_ENCODE_FCC/log \n",
      "PROJECT APP     (FD_APP): /mount/repo/Proj_ENCODE_FCC/app \n",
      "PROJECT REF     (FD_REF): /mount/repo/Proj_ENCODE_FCC/references \n",
      "\n"
     ]
    }
   ],
   "source": [
    "suppressMessages(suppressWarnings(source(\"../run_config_project_sing.R\")))\n",
    "show_env()"
   ]
  },
  {
   "cell_type": "markdown",
   "id": "5b9cc81d-025f-4be6-a1e1-c17e8fbe9f4f",
   "metadata": {},
   "source": [
    "**Set global variables**"
   ]
  },
  {
   "cell_type": "code",
   "execution_count": 2,
   "id": "563b1ba3-509c-4aa2-a116-204e626291f6",
   "metadata": {},
   "outputs": [],
   "source": [
    "TXT_ASSAY = \"CRISPRi_Growth_K562_Gersbach_Alex\""
   ]
  },
  {
   "cell_type": "markdown",
   "id": "fec1eba9-23b4-417f-be85-2292cec31cc9",
   "metadata": {},
   "source": [
    "## Import data"
   ]
  },
  {
   "cell_type": "code",
   "execution_count": 3,
   "id": "3056a000-e4fc-4c02-91d5-8a56b199c9d0",
   "metadata": {},
   "outputs": [
    {
     "name": "stdout",
     "output_type": "stream",
     "text": [
      "2023_resubmission \n",
      "k562-gw-v3-all.sorted.counts.results.hg38.txt.gz \n",
      "k562-gw-v3-all.sorted.counts.results.top_guide_fdr_0_05.hg38.bed.gz \n"
     ]
    }
   ],
   "source": [
    "txt_assay = TXT_ASSAY\n",
    "txt_fdiry = file.path(FD_DAT, \"processed\", txt_assay)\n",
    "\n",
    "vec = dir(txt_fdiry)\n",
    "for (txt in vec){cat(txt, \"\\n\")}"
   ]
  },
  {
   "cell_type": "code",
   "execution_count": 4,
   "id": "0d580ed0-2217-412f-ba47-4545b9f5a36e",
   "metadata": {},
   "outputs": [
    {
     "name": "stderr",
     "output_type": "stream",
     "text": [
      "\u001b[1m\u001b[22mNew names:\n",
      "\u001b[36m•\u001b[39m `` -> `...1`\n"
     ]
    },
    {
     "name": "stdout",
     "output_type": "stream",
     "text": [
      "[1] 1092166      22\n"
     ]
    },
    {
     "data": {
      "text/html": [
       "<table>\n",
       " <thead>\n",
       "  <tr>\n",
       "   <th style=\"text-align:right;\"> RowID </th>\n",
       "   <th style=\"text-align:right;\"> baseMean </th>\n",
       "   <th style=\"text-align:right;\"> log2FoldChange </th>\n",
       "   <th style=\"text-align:right;\"> lfcSE </th>\n",
       "   <th style=\"text-align:right;\"> stat </th>\n",
       "   <th style=\"text-align:right;\"> pvalue </th>\n",
       "   <th style=\"text-align:right;\"> padj </th>\n",
       "   <th style=\"text-align:right;\"> weight </th>\n",
       "   <th style=\"text-align:left;\"> name </th>\n",
       "   <th style=\"text-align:left;\"> dhs_chrom </th>\n",
       "   <th style=\"text-align:right;\"> dhs_start </th>\n",
       "   <th style=\"text-align:right;\"> dhs_end </th>\n",
       "   <th style=\"text-align:left;\"> ID </th>\n",
       "   <th style=\"text-align:left;\"> chrPerturbationTarget </th>\n",
       "   <th style=\"text-align:right;\"> startPerturbationTarget </th>\n",
       "   <th style=\"text-align:right;\"> endPerturbationTarget </th>\n",
       "   <th style=\"text-align:left;\"> chrom </th>\n",
       "   <th style=\"text-align:right;\"> start </th>\n",
       "   <th style=\"text-align:right;\"> end </th>\n",
       "   <th style=\"text-align:left;\"> dhs_id </th>\n",
       "   <th style=\"text-align:right;\"> score </th>\n",
       "   <th style=\"text-align:left;\"> strand </th>\n",
       "  </tr>\n",
       " </thead>\n",
       "<tbody>\n",
       "  <tr>\n",
       "   <td style=\"text-align:right;\"> 0 </td>\n",
       "   <td style=\"text-align:right;\"> 669.8027 </td>\n",
       "   <td style=\"text-align:right;\"> -0.9859338 </td>\n",
       "   <td style=\"text-align:right;\"> 0.1352781 </td>\n",
       "   <td style=\"text-align:right;\"> -7.5156478 </td>\n",
       "   <td style=\"text-align:right;\"> 0.0000000 </td>\n",
       "   <td style=\"text-align:right;\"> 0.0000000 </td>\n",
       "   <td style=\"text-align:right;\"> 1.0189024 </td>\n",
       "   <td style=\"text-align:left;\"> chr1.1.1 </td>\n",
       "   <td style=\"text-align:left;\"> chr1 </td>\n",
       "   <td style=\"text-align:right;\"> 540930 </td>\n",
       "   <td style=\"text-align:right;\"> 541007 </td>\n",
       "   <td style=\"text-align:left;\"> chr1.1 </td>\n",
       "   <td style=\"text-align:left;\"> chr1 </td>\n",
       "   <td style=\"text-align:right;\"> 540951 </td>\n",
       "   <td style=\"text-align:right;\"> 540970 </td>\n",
       "   <td style=\"text-align:left;\"> chr1 </td>\n",
       "   <td style=\"text-align:right;\"> 605550 </td>\n",
       "   <td style=\"text-align:right;\"> 605627 </td>\n",
       "   <td style=\"text-align:left;\"> chr1.1 </td>\n",
       "   <td style=\"text-align:right;\"> 521 </td>\n",
       "   <td style=\"text-align:left;\"> . </td>\n",
       "  </tr>\n",
       "  <tr>\n",
       "   <td style=\"text-align:right;\"> 1 </td>\n",
       "   <td style=\"text-align:right;\"> 1210.5948 </td>\n",
       "   <td style=\"text-align:right;\"> 0.0175568 </td>\n",
       "   <td style=\"text-align:right;\"> 0.1125958 </td>\n",
       "   <td style=\"text-align:right;\"> 0.9724725 </td>\n",
       "   <td style=\"text-align:right;\"> 0.3308155 </td>\n",
       "   <td style=\"text-align:right;\"> 0.8618381 </td>\n",
       "   <td style=\"text-align:right;\"> 1.3894218 </td>\n",
       "   <td style=\"text-align:left;\"> chr1.1.2 </td>\n",
       "   <td style=\"text-align:left;\"> chr1 </td>\n",
       "   <td style=\"text-align:right;\"> 540930 </td>\n",
       "   <td style=\"text-align:right;\"> 541007 </td>\n",
       "   <td style=\"text-align:left;\"> chr1.1 </td>\n",
       "   <td style=\"text-align:left;\"> chr1 </td>\n",
       "   <td style=\"text-align:right;\"> 540971 </td>\n",
       "   <td style=\"text-align:right;\"> 540990 </td>\n",
       "   <td style=\"text-align:left;\"> chr1 </td>\n",
       "   <td style=\"text-align:right;\"> 605550 </td>\n",
       "   <td style=\"text-align:right;\"> 605627 </td>\n",
       "   <td style=\"text-align:left;\"> chr1.1 </td>\n",
       "   <td style=\"text-align:right;\"> 521 </td>\n",
       "   <td style=\"text-align:left;\"> . </td>\n",
       "  </tr>\n",
       "  <tr>\n",
       "   <td style=\"text-align:right;\"> 2 </td>\n",
       "   <td style=\"text-align:right;\"> 2065.7482 </td>\n",
       "   <td style=\"text-align:right;\"> 0.0142221 </td>\n",
       "   <td style=\"text-align:right;\"> 0.0769462 </td>\n",
       "   <td style=\"text-align:right;\"> 0.7948325 </td>\n",
       "   <td style=\"text-align:right;\"> 0.4267110 </td>\n",
       "   <td style=\"text-align:right;\"> 0.9074943 </td>\n",
       "   <td style=\"text-align:right;\"> 1.2206106 </td>\n",
       "   <td style=\"text-align:left;\"> chr1.1.3 </td>\n",
       "   <td style=\"text-align:left;\"> chr1 </td>\n",
       "   <td style=\"text-align:right;\"> 540930 </td>\n",
       "   <td style=\"text-align:right;\"> 541007 </td>\n",
       "   <td style=\"text-align:left;\"> chr1.1 </td>\n",
       "   <td style=\"text-align:left;\"> chr1 </td>\n",
       "   <td style=\"text-align:right;\"> 540963 </td>\n",
       "   <td style=\"text-align:right;\"> 540982 </td>\n",
       "   <td style=\"text-align:left;\"> chr1 </td>\n",
       "   <td style=\"text-align:right;\"> 605550 </td>\n",
       "   <td style=\"text-align:right;\"> 605627 </td>\n",
       "   <td style=\"text-align:left;\"> chr1.1 </td>\n",
       "   <td style=\"text-align:right;\"> 521 </td>\n",
       "   <td style=\"text-align:left;\"> . </td>\n",
       "  </tr>\n",
       "  <tr>\n",
       "   <td style=\"text-align:right;\"> 3 </td>\n",
       "   <td style=\"text-align:right;\"> 670.0537 </td>\n",
       "   <td style=\"text-align:right;\"> 0.0184355 </td>\n",
       "   <td style=\"text-align:right;\"> 0.1262349 </td>\n",
       "   <td style=\"text-align:right;\"> 1.0421596 </td>\n",
       "   <td style=\"text-align:right;\"> 0.2973377 </td>\n",
       "   <td style=\"text-align:right;\"> 0.8864450 </td>\n",
       "   <td style=\"text-align:right;\"> 1.0189024 </td>\n",
       "   <td style=\"text-align:left;\"> chr1.1.4 </td>\n",
       "   <td style=\"text-align:left;\"> chr1 </td>\n",
       "   <td style=\"text-align:right;\"> 540930 </td>\n",
       "   <td style=\"text-align:right;\"> 541007 </td>\n",
       "   <td style=\"text-align:left;\"> chr1.1 </td>\n",
       "   <td style=\"text-align:left;\"> chr1 </td>\n",
       "   <td style=\"text-align:right;\"> 540953 </td>\n",
       "   <td style=\"text-align:right;\"> 540972 </td>\n",
       "   <td style=\"text-align:left;\"> chr1 </td>\n",
       "   <td style=\"text-align:right;\"> 605550 </td>\n",
       "   <td style=\"text-align:right;\"> 605627 </td>\n",
       "   <td style=\"text-align:left;\"> chr1.1 </td>\n",
       "   <td style=\"text-align:right;\"> 521 </td>\n",
       "   <td style=\"text-align:left;\"> . </td>\n",
       "  </tr>\n",
       "  <tr>\n",
       "   <td style=\"text-align:right;\"> 4 </td>\n",
       "   <td style=\"text-align:right;\"> 1023.9170 </td>\n",
       "   <td style=\"text-align:right;\"> 0.0112653 </td>\n",
       "   <td style=\"text-align:right;\"> 0.1017871 </td>\n",
       "   <td style=\"text-align:right;\"> 0.6436207 </td>\n",
       "   <td style=\"text-align:right;\"> 0.5198214 </td>\n",
       "   <td style=\"text-align:right;\"> 0.9145863 </td>\n",
       "   <td style=\"text-align:right;\"> 1.3894218 </td>\n",
       "   <td style=\"text-align:left;\"> chr1.1.5 </td>\n",
       "   <td style=\"text-align:left;\"> chr1 </td>\n",
       "   <td style=\"text-align:right;\"> 540930 </td>\n",
       "   <td style=\"text-align:right;\"> 541007 </td>\n",
       "   <td style=\"text-align:left;\"> chr1.1 </td>\n",
       "   <td style=\"text-align:left;\"> chr1 </td>\n",
       "   <td style=\"text-align:right;\"> 540954 </td>\n",
       "   <td style=\"text-align:right;\"> 540973 </td>\n",
       "   <td style=\"text-align:left;\"> chr1 </td>\n",
       "   <td style=\"text-align:right;\"> 605550 </td>\n",
       "   <td style=\"text-align:right;\"> 605627 </td>\n",
       "   <td style=\"text-align:left;\"> chr1.1 </td>\n",
       "   <td style=\"text-align:right;\"> 521 </td>\n",
       "   <td style=\"text-align:left;\"> . </td>\n",
       "  </tr>\n",
       "  <tr>\n",
       "   <td style=\"text-align:right;\"> 5 </td>\n",
       "   <td style=\"text-align:right;\"> 605.4137 </td>\n",
       "   <td style=\"text-align:right;\"> 0.0324261 </td>\n",
       "   <td style=\"text-align:right;\"> 0.1459777 </td>\n",
       "   <td style=\"text-align:right;\"> 1.6813118 </td>\n",
       "   <td style=\"text-align:right;\"> 0.0927024 </td>\n",
       "   <td style=\"text-align:right;\"> 0.7390114 </td>\n",
       "   <td style=\"text-align:right;\"> 0.9584715 </td>\n",
       "   <td style=\"text-align:left;\"> chr1.1.6 </td>\n",
       "   <td style=\"text-align:left;\"> chr1 </td>\n",
       "   <td style=\"text-align:right;\"> 540930 </td>\n",
       "   <td style=\"text-align:right;\"> 541007 </td>\n",
       "   <td style=\"text-align:left;\"> chr1.1 </td>\n",
       "   <td style=\"text-align:left;\"> chr1 </td>\n",
       "   <td style=\"text-align:right;\"> 540979 </td>\n",
       "   <td style=\"text-align:right;\"> 540998 </td>\n",
       "   <td style=\"text-align:left;\"> chr1 </td>\n",
       "   <td style=\"text-align:right;\"> 605550 </td>\n",
       "   <td style=\"text-align:right;\"> 605627 </td>\n",
       "   <td style=\"text-align:left;\"> chr1.1 </td>\n",
       "   <td style=\"text-align:right;\"> 521 </td>\n",
       "   <td style=\"text-align:left;\"> . </td>\n",
       "  </tr>\n",
       "</tbody>\n",
       "</table>"
      ]
     },
     "metadata": {},
     "output_type": "display_data"
    }
   ],
   "source": [
    "txt_assay = TXT_ASSAY\n",
    "txt_fdiry = file.path(FD_DAT, \"processed\", txt_assay)\n",
    "txt_fname = \"k562-gw-v3-all.sorted.counts.results.hg38.txt.gz\"\n",
    "txt_fpath = file.path(txt_fdiry, txt_fname)\n",
    "\n",
    "dat = read_tsv(txt_fpath, show_col_types = FALSE)\n",
    "colnames(dat)[1] = \"RowID\"\n",
    "\n",
    "dat_peak_crispri_growth_total = dat\n",
    "print(dim(dat))\n",
    "fun_display_table(head(dat))"
   ]
  },
  {
   "cell_type": "code",
   "execution_count": 5,
   "id": "6aebb102-3593-47fb-89de-0653ae2bfeec",
   "metadata": {},
   "outputs": [
    {
     "name": "stderr",
     "output_type": "stream",
     "text": [
      "\u001b[1m\u001b[22mNew names:\n",
      "\u001b[36m•\u001b[39m `` -> `...1`\n"
     ]
    },
    {
     "name": "stdout",
     "output_type": "stream",
     "text": [
      "[1] 6242    7\n"
     ]
    },
    {
     "data": {
      "text/html": [
       "<table>\n",
       " <thead>\n",
       "  <tr>\n",
       "   <th style=\"text-align:right;\"> RowID </th>\n",
       "   <th style=\"text-align:left;\"> chrom </th>\n",
       "   <th style=\"text-align:right;\"> start </th>\n",
       "   <th style=\"text-align:right;\"> end </th>\n",
       "   <th style=\"text-align:left;\"> name </th>\n",
       "   <th style=\"text-align:right;\"> log2FoldChange </th>\n",
       "   <th style=\"text-align:right;\"> padj </th>\n",
       "  </tr>\n",
       " </thead>\n",
       "<tbody>\n",
       "  <tr>\n",
       "   <td style=\"text-align:right;\"> 504606 </td>\n",
       "   <td style=\"text-align:left;\"> chr19 </td>\n",
       "   <td style=\"text-align:right;\"> 11155578 </td>\n",
       "   <td style=\"text-align:right;\"> 11156290 </td>\n",
       "   <td style=\"text-align:left;\"> chr19.1899.3 </td>\n",
       "   <td style=\"text-align:right;\"> -2.549922 </td>\n",
       "   <td style=\"text-align:right;\"> 0 </td>\n",
       "  </tr>\n",
       "  <tr>\n",
       "   <td style=\"text-align:right;\"> 686888 </td>\n",
       "   <td style=\"text-align:left;\"> chr22 </td>\n",
       "   <td style=\"text-align:right;\"> 30356286 </td>\n",
       "   <td style=\"text-align:right;\"> 30357525 </td>\n",
       "   <td style=\"text-align:left;\"> chr22.1285.6 </td>\n",
       "   <td style=\"text-align:right;\"> -3.059909 </td>\n",
       "   <td style=\"text-align:right;\"> 0 </td>\n",
       "  </tr>\n",
       "  <tr>\n",
       "   <td style=\"text-align:right;\"> 868222 </td>\n",
       "   <td style=\"text-align:left;\"> chr6 </td>\n",
       "   <td style=\"text-align:right;\"> 34530428 </td>\n",
       "   <td style=\"text-align:right;\"> 34530534 </td>\n",
       "   <td style=\"text-align:left;\"> chr6.2172.8 </td>\n",
       "   <td style=\"text-align:right;\"> -3.100194 </td>\n",
       "   <td style=\"text-align:right;\"> 0 </td>\n",
       "  </tr>\n",
       "  <tr>\n",
       "   <td style=\"text-align:right;\"> 50002 </td>\n",
       "   <td style=\"text-align:left;\"> chr1 </td>\n",
       "   <td style=\"text-align:right;\"> 20685850 </td>\n",
       "   <td style=\"text-align:right;\"> 20686283 </td>\n",
       "   <td style=\"text-align:left;\"> chr1.2930.10 </td>\n",
       "   <td style=\"text-align:right;\"> -2.862158 </td>\n",
       "   <td style=\"text-align:right;\"> 0 </td>\n",
       "  </tr>\n",
       "  <tr>\n",
       "   <td style=\"text-align:right;\"> 811835 </td>\n",
       "   <td style=\"text-align:left;\"> chr5 </td>\n",
       "   <td style=\"text-align:right;\"> 70924811 </td>\n",
       "   <td style=\"text-align:right;\"> 70925615 </td>\n",
       "   <td style=\"text-align:left;\"> chr5.1649.1 </td>\n",
       "   <td style=\"text-align:right;\"> -2.927110 </td>\n",
       "   <td style=\"text-align:right;\"> 0 </td>\n",
       "  </tr>\n",
       "  <tr>\n",
       "   <td style=\"text-align:right;\"> 811815 </td>\n",
       "   <td style=\"text-align:left;\"> chr5 </td>\n",
       "   <td style=\"text-align:right;\"> 70049360 </td>\n",
       "   <td style=\"text-align:right;\"> 70050252 </td>\n",
       "   <td style=\"text-align:left;\"> chr5.1647.1 </td>\n",
       "   <td style=\"text-align:right;\"> -2.927110 </td>\n",
       "   <td style=\"text-align:right;\"> 0 </td>\n",
       "  </tr>\n",
       "</tbody>\n",
       "</table>"
      ]
     },
     "metadata": {},
     "output_type": "display_data"
    }
   ],
   "source": [
    "txt_assay = TXT_ASSAY\n",
    "txt_fdiry = file.path(FD_DAT, \"processed\", txt_assay)\n",
    "txt_fname = \"k562-gw-v3-all.sorted.counts.results.top_guide_fdr_0_05.hg38.bed.gz\"\n",
    "txt_fpath = file.path(txt_fdiry, txt_fname)\n",
    "\n",
    "dat = read_csv(txt_fpath, show_col_types = FALSE)\n",
    "colnames(dat)[1] = \"RowID\"\n",
    "\n",
    "dat_peak_crispri_growth_signif = dat\n",
    "print(dim(dat))\n",
    "fun_display_table(head(dat))"
   ]
  },
  {
   "cell_type": "markdown",
   "id": "b2e7ec3f-73b2-4e6a-a2cb-c43180262b48",
   "metadata": {},
   "source": [
    "## Arrange and summary"
   ]
  },
  {
   "cell_type": "code",
   "execution_count": 6,
   "id": "7ebf9ec3-df21-47d8-aba5-511ce3ebb066",
   "metadata": {},
   "outputs": [],
   "source": [
    "### init: list of data\n",
    "lst = list(\n",
    "    \"total\"  = dat_peak_crispri_growth_total,\n",
    "    \"active\" = dat_peak_crispri_growth_signif\n",
    ")\n",
    "\n",
    "### columns and assay type\n",
    "vec = c('chrom', 'start', 'end', 'name', 'log2FoldChange', 'padj')\n",
    "txt = \"CRISPRi-Growth\"\n",
    "\n",
    "### extract columns and arrange table\n",
    "lst = lapply(lst, function(dat){\n",
    "    dat = dat %>%\n",
    "        dplyr::select({{vec}}) %>% \n",
    "        dplyr::mutate(\n",
    "            Region = paste0(chrom, \":\", start, \"-\", end),\n",
    "            Assay_Type  = txt,\n",
    "            Assay_Label = txt\n",
    "        ) %>%\n",
    "        dplyr::arrange(chrom, start, end) %>%\n",
    "        dplyr::distinct()\n",
    "})\n",
    "\n",
    "lst_dat_peak_crispri_growth_arrange = lst"
   ]
  },
  {
   "cell_type": "code",
   "execution_count": 7,
   "id": "7300dcb8-c28a-43d0-991f-880f4ebad199",
   "metadata": {},
   "outputs": [
    {
     "name": "stdout",
     "output_type": "stream",
     "text": [
      "#Row    (Total): 1092166 \n",
      "#Region (Total): 111702 \n",
      "\n",
      "#Row    (Active): 6242 \n",
      "#Region (Active): 6242 \n"
     ]
    }
   ],
   "source": [
    "### init\n",
    "lst = lst_dat_peak_crispri_growth_arrange\n",
    "\n",
    "### show information\n",
    "dat = lst[['total']]\n",
    "vec_txt_region = unique(dat$Region)\n",
    "cat(\"#Row    (Total):\", nrow(dat),              \"\\n\")\n",
    "cat(\"#Region (Total):\", length(vec_txt_region), \"\\n\")\n",
    "cat(\"\\n\")\n",
    "\n",
    "### show information\n",
    "dat = lst[['active']]\n",
    "vec_txt_region = unique(dat$Region)\n",
    "cat(\"#Row    (Active):\", nrow(dat),              \"\\n\")\n",
    "cat(\"#Region (Active):\", length(vec_txt_region), \"\\n\")"
   ]
  },
  {
   "cell_type": "markdown",
   "id": "deaf69d4-4a35-4b12-9ac5-505ef504b951",
   "metadata": {},
   "source": [
    "## Data dictionary"
   ]
  },
  {
   "cell_type": "code",
   "execution_count": 8,
   "id": "4999758e-13b1-4754-9618-0097b703f318",
   "metadata": {},
   "outputs": [
    {
     "name": "stdout",
     "output_type": "stream",
     "text": [
      "====================\n",
      "chrom \n",
      "start \n",
      "end \n",
      "name \n",
      "log2FoldChange \n",
      "padj \n",
      "Region \n",
      "Assay_Type \n",
      "Assay_Label \n",
      "====================\n",
      "chrom \n",
      "start \n",
      "end \n",
      "name \n",
      "log2FoldChange \n",
      "padj \n",
      "Region \n",
      "Assay_Type \n",
      "Assay_Label \n"
     ]
    }
   ],
   "source": [
    "lst = lst_dat_peak_crispri_growth_arrange\n",
    "\n",
    "dat = lst[['total']]\n",
    "cat (\"====================\\n\")\n",
    "for (txt in colnames(dat)){cat(txt, \"\\n\")}\n",
    "\n",
    "dat = lst[['active']]\n",
    "cat (\"====================\\n\")\n",
    "for (txt in colnames(dat)){cat(txt, \"\\n\")}"
   ]
  },
  {
   "cell_type": "code",
   "execution_count": 8,
   "id": "62778e5b-c7a6-4357-bdb4-a831c91e6540",
   "metadata": {},
   "outputs": [
    {
     "data": {
      "text/html": [
       "<table class=\"dataframe\">\n",
       "<caption>A tibble: 9 × 2</caption>\n",
       "<thead>\n",
       "\t<tr><th scope=col>Name</th><th scope=col>Description</th></tr>\n",
       "\t<tr><th scope=col>&lt;chr&gt;</th><th scope=col>&lt;chr&gt;</th></tr>\n",
       "</thead>\n",
       "<tbody>\n",
       "\t<tr><td>Chrom      </td><td>Chromosome of DHS                     </td></tr>\n",
       "\t<tr><td>Start      </td><td>Start position of DHS                 </td></tr>\n",
       "\t<tr><td>End        </td><td>End   position of DHS                 </td></tr>\n",
       "\t<tr><td>Name       </td><td>ID of significant guide within the DHS</td></tr>\n",
       "\t<tr><td>Log2FC     </td><td>Log2FC of the guide                   </td></tr>\n",
       "\t<tr><td>Padj       </td><td>Adjusted p value of the guide         </td></tr>\n",
       "\t<tr><td>Region     </td><td>Location of the DHS                   </td></tr>\n",
       "\t<tr><td>Assay_Type </td><td>Assay type                            </td></tr>\n",
       "\t<tr><td>Assay_Label</td><td>Assay label                           </td></tr>\n",
       "</tbody>\n",
       "</table>\n"
      ],
      "text/latex": [
       "A tibble: 9 × 2\n",
       "\\begin{tabular}{ll}\n",
       " Name & Description\\\\\n",
       " <chr> & <chr>\\\\\n",
       "\\hline\n",
       "\t Chrom       & Chromosome of DHS                     \\\\\n",
       "\t Start       & Start position of DHS                 \\\\\n",
       "\t End         & End   position of DHS                 \\\\\n",
       "\t Name        & ID of significant guide within the DHS\\\\\n",
       "\t Log2FC      & Log2FC of the guide                   \\\\\n",
       "\t Padj        & Adjusted p value of the guide         \\\\\n",
       "\t Region      & Location of the DHS                   \\\\\n",
       "\t Assay\\_Type  & Assay type                            \\\\\n",
       "\t Assay\\_Label & Assay label                           \\\\\n",
       "\\end{tabular}\n"
      ],
      "text/markdown": [
       "\n",
       "A tibble: 9 × 2\n",
       "\n",
       "| Name &lt;chr&gt; | Description &lt;chr&gt; |\n",
       "|---|---|\n",
       "| Chrom       | Chromosome of DHS                      |\n",
       "| Start       | Start position of DHS                  |\n",
       "| End         | End   position of DHS                  |\n",
       "| Name        | ID of significant guide within the DHS |\n",
       "| Log2FC      | Log2FC of the guide                    |\n",
       "| Padj        | Adjusted p value of the guide          |\n",
       "| Region      | Location of the DHS                    |\n",
       "| Assay_Type  | Assay type                             |\n",
       "| Assay_Label | Assay label                            |\n",
       "\n"
      ],
      "text/plain": [
       "  Name        Description                           \n",
       "1 Chrom       Chromosome of DHS                     \n",
       "2 Start       Start position of DHS                 \n",
       "3 End         End   position of DHS                 \n",
       "4 Name        ID of significant guide within the DHS\n",
       "5 Log2FC      Log2FC of the guide                   \n",
       "6 Padj        Adjusted p value of the guide         \n",
       "7 Region      Location of the DHS                   \n",
       "8 Assay_Type  Assay type                            \n",
       "9 Assay_Label Assay label                           "
      ]
     },
     "metadata": {},
     "output_type": "display_data"
    }
   ],
   "source": [
    "dat_cnames = tribble(\n",
    "    ~Name,         ~Description,\n",
    "    \"Chrom\",       \"Chromosome of DHS\",\n",
    "    \"Start\",       \"Start position of DHS\",\n",
    "    \"End\",         \"End   position of DHS\",\n",
    "    \"Name\",        \"ID of significant guide within the DHS\",\n",
    "    \"Log2FC\",      \"Log2FC of the guide\",\n",
    "    \"Padj\",        \"Adjusted p value of the guide\",\n",
    "    \"Region\",      \"Location of the DHS\",\n",
    "    \"Assay_Type\",  \"Assay type\",\n",
    "    \"Assay_Label\", \"Assay label\"\n",
    ")\n",
    "dat_cnames"
   ]
  },
  {
   "cell_type": "code",
   "execution_count": 9,
   "id": "5ce10fe0-2a39-4c82-a4b8-93bc03639374",
   "metadata": {},
   "outputs": [
    {
     "data": {
      "text/html": [
       "<table class=\"dataframe\">\n",
       "<caption>A tibble: 6 × 9</caption>\n",
       "<thead>\n",
       "\t<tr><th scope=col>chrom</th><th scope=col>start</th><th scope=col>end</th><th scope=col>name</th><th scope=col>log2FoldChange</th><th scope=col>padj</th><th scope=col>Region</th><th scope=col>Assay_Type</th><th scope=col>Assay_Label</th></tr>\n",
       "\t<tr><th scope=col>&lt;chr&gt;</th><th scope=col>&lt;dbl&gt;</th><th scope=col>&lt;dbl&gt;</th><th scope=col>&lt;chr&gt;</th><th scope=col>&lt;dbl&gt;</th><th scope=col>&lt;dbl&gt;</th><th scope=col>&lt;chr&gt;</th><th scope=col>&lt;chr&gt;</th><th scope=col>&lt;chr&gt;</th></tr>\n",
       "</thead>\n",
       "<tbody>\n",
       "\t<tr><td>chr1</td><td> 605550</td><td> 605627</td><td>chr1.1.1   </td><td>-0.9859338</td><td>3.245787e-11</td><td>chr1:605550-605627  </td><td>CRISPRi-Growth</td><td>CRISPRi-Growth</td></tr>\n",
       "\t<tr><td>chr1</td><td> 826642</td><td> 827902</td><td>chr1.4.8   </td><td> 0.1855074</td><td>3.250512e-02</td><td>chr1:826642-827902  </td><td>CRISPRi-Growth</td><td>CRISPRi-Growth</td></tr>\n",
       "\t<tr><td>chr1</td><td> 964946</td><td> 965136</td><td>chr1.41.7  </td><td>-1.1466792</td><td>1.464654e-26</td><td>chr1:964946-965136  </td><td>CRISPRi-Growth</td><td>CRISPRi-Growth</td></tr>\n",
       "\t<tr><td>chr1</td><td> 995761</td><td> 996190</td><td>chr1.53.2  </td><td> 0.2141075</td><td>1.874089e-02</td><td>chr1:995761-996190  </td><td>CRISPRi-Growth</td><td>CRISPRi-Growth</td></tr>\n",
       "\t<tr><td>chr1</td><td>1067929</td><td>1070953</td><td>chr1.74.8  </td><td>-0.3383702</td><td>3.371964e-02</td><td>chr1:1067929-1070953</td><td>CRISPRi-Growth</td><td>CRISPRi-Growth</td></tr>\n",
       "\t<tr><td>chr1</td><td>1155362</td><td>1155639</td><td>chr1.106.10</td><td>-0.5858502</td><td>3.198264e-04</td><td>chr1:1155362-1155639</td><td>CRISPRi-Growth</td><td>CRISPRi-Growth</td></tr>\n",
       "</tbody>\n",
       "</table>\n"
      ],
      "text/latex": [
       "A tibble: 6 × 9\n",
       "\\begin{tabular}{lllllllll}\n",
       " chrom & start & end & name & log2FoldChange & padj & Region & Assay\\_Type & Assay\\_Label\\\\\n",
       " <chr> & <dbl> & <dbl> & <chr> & <dbl> & <dbl> & <chr> & <chr> & <chr>\\\\\n",
       "\\hline\n",
       "\t chr1 &  605550 &  605627 & chr1.1.1    & -0.9859338 & 3.245787e-11 & chr1:605550-605627   & CRISPRi-Growth & CRISPRi-Growth\\\\\n",
       "\t chr1 &  826642 &  827902 & chr1.4.8    &  0.1855074 & 3.250512e-02 & chr1:826642-827902   & CRISPRi-Growth & CRISPRi-Growth\\\\\n",
       "\t chr1 &  964946 &  965136 & chr1.41.7   & -1.1466792 & 1.464654e-26 & chr1:964946-965136   & CRISPRi-Growth & CRISPRi-Growth\\\\\n",
       "\t chr1 &  995761 &  996190 & chr1.53.2   &  0.2141075 & 1.874089e-02 & chr1:995761-996190   & CRISPRi-Growth & CRISPRi-Growth\\\\\n",
       "\t chr1 & 1067929 & 1070953 & chr1.74.8   & -0.3383702 & 3.371964e-02 & chr1:1067929-1070953 & CRISPRi-Growth & CRISPRi-Growth\\\\\n",
       "\t chr1 & 1155362 & 1155639 & chr1.106.10 & -0.5858502 & 3.198264e-04 & chr1:1155362-1155639 & CRISPRi-Growth & CRISPRi-Growth\\\\\n",
       "\\end{tabular}\n"
      ],
      "text/markdown": [
       "\n",
       "A tibble: 6 × 9\n",
       "\n",
       "| chrom &lt;chr&gt; | start &lt;dbl&gt; | end &lt;dbl&gt; | name &lt;chr&gt; | log2FoldChange &lt;dbl&gt; | padj &lt;dbl&gt; | Region &lt;chr&gt; | Assay_Type &lt;chr&gt; | Assay_Label &lt;chr&gt; |\n",
       "|---|---|---|---|---|---|---|---|---|\n",
       "| chr1 |  605550 |  605627 | chr1.1.1    | -0.9859338 | 3.245787e-11 | chr1:605550-605627   | CRISPRi-Growth | CRISPRi-Growth |\n",
       "| chr1 |  826642 |  827902 | chr1.4.8    |  0.1855074 | 3.250512e-02 | chr1:826642-827902   | CRISPRi-Growth | CRISPRi-Growth |\n",
       "| chr1 |  964946 |  965136 | chr1.41.7   | -1.1466792 | 1.464654e-26 | chr1:964946-965136   | CRISPRi-Growth | CRISPRi-Growth |\n",
       "| chr1 |  995761 |  996190 | chr1.53.2   |  0.2141075 | 1.874089e-02 | chr1:995761-996190   | CRISPRi-Growth | CRISPRi-Growth |\n",
       "| chr1 | 1067929 | 1070953 | chr1.74.8   | -0.3383702 | 3.371964e-02 | chr1:1067929-1070953 | CRISPRi-Growth | CRISPRi-Growth |\n",
       "| chr1 | 1155362 | 1155639 | chr1.106.10 | -0.5858502 | 3.198264e-04 | chr1:1155362-1155639 | CRISPRi-Growth | CRISPRi-Growth |\n",
       "\n"
      ],
      "text/plain": [
       "  chrom start   end     name        log2FoldChange padj        \n",
       "1 chr1   605550  605627 chr1.1.1    -0.9859338     3.245787e-11\n",
       "2 chr1   826642  827902 chr1.4.8     0.1855074     3.250512e-02\n",
       "3 chr1   964946  965136 chr1.41.7   -1.1466792     1.464654e-26\n",
       "4 chr1   995761  996190 chr1.53.2    0.2141075     1.874089e-02\n",
       "5 chr1  1067929 1070953 chr1.74.8   -0.3383702     3.371964e-02\n",
       "6 chr1  1155362 1155639 chr1.106.10 -0.5858502     3.198264e-04\n",
       "  Region               Assay_Type     Assay_Label   \n",
       "1 chr1:605550-605627   CRISPRi-Growth CRISPRi-Growth\n",
       "2 chr1:826642-827902   CRISPRi-Growth CRISPRi-Growth\n",
       "3 chr1:964946-965136   CRISPRi-Growth CRISPRi-Growth\n",
       "4 chr1:995761-996190   CRISPRi-Growth CRISPRi-Growth\n",
       "5 chr1:1067929-1070953 CRISPRi-Growth CRISPRi-Growth\n",
       "6 chr1:1155362-1155639 CRISPRi-Growth CRISPRi-Growth"
      ]
     },
     "metadata": {},
     "output_type": "display_data"
    }
   ],
   "source": [
    "dat = lst[['active']]\n",
    "head(dat)"
   ]
  },
  {
   "cell_type": "markdown",
   "id": "6b364991-d59e-4e5e-9ef8-61ede669b793",
   "metadata": {},
   "source": [
    "## Save results"
   ]
  },
  {
   "cell_type": "code",
   "execution_count": 9,
   "id": "75a493aa-cc1e-4ba9-8e14-66e2f481464a",
   "metadata": {},
   "outputs": [],
   "source": [
    "FD_OUT = file.path(FD_RES, \"results\", \"region\", \"annotation_crispri_growth\")"
   ]
  },
  {
   "cell_type": "code",
   "execution_count": 10,
   "id": "ce46dcdb-3cd1-4da6-871b-ea713ed9901b",
   "metadata": {},
   "outputs": [],
   "source": [
    "fdiry = FD_OUT\n",
    "fname = \"description.tsv\"\n",
    "fpath = file.path(fdiry, fname)\n",
    "\n",
    "dat = dat_cnames\n",
    "write_tsv(dat, fpath)"
   ]
  },
  {
   "cell_type": "code",
   "execution_count": 11,
   "id": "89de8d46-b78e-4a84-9fd7-8d9a434e2503",
   "metadata": {},
   "outputs": [
    {
     "name": "stdout",
     "output_type": "stream",
     "text": [
      "[1] 1092166       9\n"
     ]
    },
    {
     "data": {
      "text/html": [
       "<table class=\"dataframe\">\n",
       "<caption>A tibble: 3 × 9</caption>\n",
       "<thead>\n",
       "\t<tr><th scope=col>chrom</th><th scope=col>start</th><th scope=col>end</th><th scope=col>name</th><th scope=col>log2FoldChange</th><th scope=col>padj</th><th scope=col>Region</th><th scope=col>Assay_Type</th><th scope=col>Assay_Label</th></tr>\n",
       "\t<tr><th scope=col>&lt;chr&gt;</th><th scope=col>&lt;dbl&gt;</th><th scope=col>&lt;dbl&gt;</th><th scope=col>&lt;chr&gt;</th><th scope=col>&lt;dbl&gt;</th><th scope=col>&lt;dbl&gt;</th><th scope=col>&lt;chr&gt;</th><th scope=col>&lt;chr&gt;</th><th scope=col>&lt;chr&gt;</th></tr>\n",
       "</thead>\n",
       "<tbody>\n",
       "\t<tr><td>chr1</td><td>605550</td><td>605627</td><td>chr1.1.1</td><td>-0.98593380</td><td>3.245787e-11</td><td>chr1:605550-605627</td><td>CRISPRi-Growth</td><td>CRISPRi-Growth</td></tr>\n",
       "\t<tr><td>chr1</td><td>605550</td><td>605627</td><td>chr1.1.2</td><td> 0.01755679</td><td>8.618381e-01</td><td>chr1:605550-605627</td><td>CRISPRi-Growth</td><td>CRISPRi-Growth</td></tr>\n",
       "\t<tr><td>chr1</td><td>605550</td><td>605627</td><td>chr1.1.3</td><td> 0.01422210</td><td>9.074943e-01</td><td>chr1:605550-605627</td><td>CRISPRi-Growth</td><td>CRISPRi-Growth</td></tr>\n",
       "</tbody>\n",
       "</table>\n"
      ],
      "text/latex": [
       "A tibble: 3 × 9\n",
       "\\begin{tabular}{lllllllll}\n",
       " chrom & start & end & name & log2FoldChange & padj & Region & Assay\\_Type & Assay\\_Label\\\\\n",
       " <chr> & <dbl> & <dbl> & <chr> & <dbl> & <dbl> & <chr> & <chr> & <chr>\\\\\n",
       "\\hline\n",
       "\t chr1 & 605550 & 605627 & chr1.1.1 & -0.98593380 & 3.245787e-11 & chr1:605550-605627 & CRISPRi-Growth & CRISPRi-Growth\\\\\n",
       "\t chr1 & 605550 & 605627 & chr1.1.2 &  0.01755679 & 8.618381e-01 & chr1:605550-605627 & CRISPRi-Growth & CRISPRi-Growth\\\\\n",
       "\t chr1 & 605550 & 605627 & chr1.1.3 &  0.01422210 & 9.074943e-01 & chr1:605550-605627 & CRISPRi-Growth & CRISPRi-Growth\\\\\n",
       "\\end{tabular}\n"
      ],
      "text/markdown": [
       "\n",
       "A tibble: 3 × 9\n",
       "\n",
       "| chrom &lt;chr&gt; | start &lt;dbl&gt; | end &lt;dbl&gt; | name &lt;chr&gt; | log2FoldChange &lt;dbl&gt; | padj &lt;dbl&gt; | Region &lt;chr&gt; | Assay_Type &lt;chr&gt; | Assay_Label &lt;chr&gt; |\n",
       "|---|---|---|---|---|---|---|---|---|\n",
       "| chr1 | 605550 | 605627 | chr1.1.1 | -0.98593380 | 3.245787e-11 | chr1:605550-605627 | CRISPRi-Growth | CRISPRi-Growth |\n",
       "| chr1 | 605550 | 605627 | chr1.1.2 |  0.01755679 | 8.618381e-01 | chr1:605550-605627 | CRISPRi-Growth | CRISPRi-Growth |\n",
       "| chr1 | 605550 | 605627 | chr1.1.3 |  0.01422210 | 9.074943e-01 | chr1:605550-605627 | CRISPRi-Growth | CRISPRi-Growth |\n",
       "\n"
      ],
      "text/plain": [
       "  chrom start  end    name     log2FoldChange padj         Region            \n",
       "1 chr1  605550 605627 chr1.1.1 -0.98593380    3.245787e-11 chr1:605550-605627\n",
       "2 chr1  605550 605627 chr1.1.2  0.01755679    8.618381e-01 chr1:605550-605627\n",
       "3 chr1  605550 605627 chr1.1.3  0.01422210    9.074943e-01 chr1:605550-605627\n",
       "  Assay_Type     Assay_Label   \n",
       "1 CRISPRi-Growth CRISPRi-Growth\n",
       "2 CRISPRi-Growth CRISPRi-Growth\n",
       "3 CRISPRi-Growth CRISPRi-Growth"
      ]
     },
     "metadata": {},
     "output_type": "display_data"
    }
   ],
   "source": [
    "fdiry = FD_OUT\n",
    "fname = \"crispri_growth.dhs.total.bed.gz\"\n",
    "fpath = file.path(fdiry, fname)\n",
    "\n",
    "lst = lst_dat_peak_crispri_growth_arrange\n",
    "dat = lst[['total']]\n",
    "write_tsv(dat, fpath, col_names = FALSE)\n",
    "\n",
    "print(dim(dat))\n",
    "head(dat, 3)"
   ]
  },
  {
   "cell_type": "code",
   "execution_count": 12,
   "id": "a93e0629-d245-45e3-aed4-ba8d56d78878",
   "metadata": {},
   "outputs": [
    {
     "name": "stdout",
     "output_type": "stream",
     "text": [
      "[1] 6242    9\n"
     ]
    },
    {
     "data": {
      "text/html": [
       "<table class=\"dataframe\">\n",
       "<caption>A tibble: 3 × 9</caption>\n",
       "<thead>\n",
       "\t<tr><th scope=col>chrom</th><th scope=col>start</th><th scope=col>end</th><th scope=col>name</th><th scope=col>log2FoldChange</th><th scope=col>padj</th><th scope=col>Region</th><th scope=col>Assay_Type</th><th scope=col>Assay_Label</th></tr>\n",
       "\t<tr><th scope=col>&lt;chr&gt;</th><th scope=col>&lt;dbl&gt;</th><th scope=col>&lt;dbl&gt;</th><th scope=col>&lt;chr&gt;</th><th scope=col>&lt;dbl&gt;</th><th scope=col>&lt;dbl&gt;</th><th scope=col>&lt;chr&gt;</th><th scope=col>&lt;chr&gt;</th><th scope=col>&lt;chr&gt;</th></tr>\n",
       "</thead>\n",
       "<tbody>\n",
       "\t<tr><td>chr1</td><td>605550</td><td>605627</td><td>chr1.1.1 </td><td>-0.9859338</td><td>3.245787e-11</td><td>chr1:605550-605627</td><td>CRISPRi-Growth</td><td>CRISPRi-Growth</td></tr>\n",
       "\t<tr><td>chr1</td><td>826642</td><td>827902</td><td>chr1.4.8 </td><td> 0.1855074</td><td>3.250512e-02</td><td>chr1:826642-827902</td><td>CRISPRi-Growth</td><td>CRISPRi-Growth</td></tr>\n",
       "\t<tr><td>chr1</td><td>964946</td><td>965136</td><td>chr1.41.7</td><td>-1.1466792</td><td>1.464654e-26</td><td>chr1:964946-965136</td><td>CRISPRi-Growth</td><td>CRISPRi-Growth</td></tr>\n",
       "</tbody>\n",
       "</table>\n"
      ],
      "text/latex": [
       "A tibble: 3 × 9\n",
       "\\begin{tabular}{lllllllll}\n",
       " chrom & start & end & name & log2FoldChange & padj & Region & Assay\\_Type & Assay\\_Label\\\\\n",
       " <chr> & <dbl> & <dbl> & <chr> & <dbl> & <dbl> & <chr> & <chr> & <chr>\\\\\n",
       "\\hline\n",
       "\t chr1 & 605550 & 605627 & chr1.1.1  & -0.9859338 & 3.245787e-11 & chr1:605550-605627 & CRISPRi-Growth & CRISPRi-Growth\\\\\n",
       "\t chr1 & 826642 & 827902 & chr1.4.8  &  0.1855074 & 3.250512e-02 & chr1:826642-827902 & CRISPRi-Growth & CRISPRi-Growth\\\\\n",
       "\t chr1 & 964946 & 965136 & chr1.41.7 & -1.1466792 & 1.464654e-26 & chr1:964946-965136 & CRISPRi-Growth & CRISPRi-Growth\\\\\n",
       "\\end{tabular}\n"
      ],
      "text/markdown": [
       "\n",
       "A tibble: 3 × 9\n",
       "\n",
       "| chrom &lt;chr&gt; | start &lt;dbl&gt; | end &lt;dbl&gt; | name &lt;chr&gt; | log2FoldChange &lt;dbl&gt; | padj &lt;dbl&gt; | Region &lt;chr&gt; | Assay_Type &lt;chr&gt; | Assay_Label &lt;chr&gt; |\n",
       "|---|---|---|---|---|---|---|---|---|\n",
       "| chr1 | 605550 | 605627 | chr1.1.1  | -0.9859338 | 3.245787e-11 | chr1:605550-605627 | CRISPRi-Growth | CRISPRi-Growth |\n",
       "| chr1 | 826642 | 827902 | chr1.4.8  |  0.1855074 | 3.250512e-02 | chr1:826642-827902 | CRISPRi-Growth | CRISPRi-Growth |\n",
       "| chr1 | 964946 | 965136 | chr1.41.7 | -1.1466792 | 1.464654e-26 | chr1:964946-965136 | CRISPRi-Growth | CRISPRi-Growth |\n",
       "\n"
      ],
      "text/plain": [
       "  chrom start  end    name      log2FoldChange padj         Region            \n",
       "1 chr1  605550 605627 chr1.1.1  -0.9859338     3.245787e-11 chr1:605550-605627\n",
       "2 chr1  826642 827902 chr1.4.8   0.1855074     3.250512e-02 chr1:826642-827902\n",
       "3 chr1  964946 965136 chr1.41.7 -1.1466792     1.464654e-26 chr1:964946-965136\n",
       "  Assay_Type     Assay_Label   \n",
       "1 CRISPRi-Growth CRISPRi-Growth\n",
       "2 CRISPRi-Growth CRISPRi-Growth\n",
       "3 CRISPRi-Growth CRISPRi-Growth"
      ]
     },
     "metadata": {},
     "output_type": "display_data"
    }
   ],
   "source": [
    "fdiry = FD_OUT\n",
    "fname = \"crispri_growth.dhs.active.bed.gz\"\n",
    "fpath = file.path(fdiry, fname)\n",
    "\n",
    "lst = lst_dat_peak_crispri_growth_arrange\n",
    "dat = lst[['active']]\n",
    "write_tsv(dat, fpath, col_names = FALSE)\n",
    "\n",
    "print(dim(dat))\n",
    "head(dat, 3)"
   ]
  }
 ],
 "metadata": {
  "kernelspec": {
   "display_name": "R",
   "language": "R",
   "name": "ir"
  },
  "language_info": {
   "codemirror_mode": "r",
   "file_extension": ".r",
   "mimetype": "text/x-r-source",
   "name": "R",
   "pygments_lexer": "r",
   "version": "4.3.3"
  }
 },
 "nbformat": 4,
 "nbformat_minor": 5
}
