{
 "cells": [
  {
   "cell_type": "raw",
   "id": "74d2fc95-63b7-4f09-88f8-0c32e8238f45",
   "metadata": {},
   "source": [
    "---\n",
    "title: Prepare STARR-seq data 02\n",
    "subtitle: Explore STARR-seq data files\n",
    "format:\n",
    "    html:\n",
    "        code-fold:  true\n",
    "        code-tools: true\n",
    "---"
   ]
  },
  {
   "cell_type": "markdown",
   "id": "39b71d17-69f1-47de-b4c9-9b1fc647ee18",
   "metadata": {},
   "source": [
    "**Set environment**"
   ]
  },
  {
   "cell_type": "code",
   "execution_count": 1,
   "id": "7622a3c3-adda-41c5-b70c-70f51f7a68ed",
   "metadata": {},
   "outputs": [
    {
     "name": "stdout",
     "output_type": "stream",
     "text": [
      "You are working on             Duke Server: HARDAC\n",
      "BASE DIRECTORY (FD_BASE):      /data/reddylab/Kuei\n",
      "REPO DIRECTORY (FD_REPO):      /data/reddylab/Kuei/repo\n",
      "WORK DIRECTORY (FD_WORK):      /data/reddylab/Kuei/work\n",
      "DATA DIRECTORY (FD_DATA):      /data/reddylab/Kuei/data\n",
      "CONTAINER DIR. (FD_SING):      /data/reddylab/Kuei/container\n",
      "\n",
      "You are working with           ENCODE FCC\n",
      "PATH OF PROJECT (FD_PRJ):      /data/reddylab/Kuei/repo/Proj_ENCODE_FCC\n",
      "PROJECT RESULTS (FD_RES):      /data/reddylab/Kuei/repo/Proj_ENCODE_FCC/results\n",
      "PROJECT SCRIPTS (FD_EXE):      /data/reddylab/Kuei/repo/Proj_ENCODE_FCC/scripts\n",
      "PROJECT DATA    (FD_DAT):      /data/reddylab/Kuei/repo/Proj_ENCODE_FCC/data\n",
      "PROJECT NOTE    (FD_NBK):      /data/reddylab/Kuei/repo/Proj_ENCODE_FCC/notebooks\n",
      "PROJECT DOCS    (FD_DOC):      /data/reddylab/Kuei/repo/Proj_ENCODE_FCC/docs\n",
      "PROJECT LOG     (FD_LOG):      /data/reddylab/Kuei/repo/Proj_ENCODE_FCC/log\n",
      "PROJECT APP     (FD_APP):      /data/reddylab/Kuei/repo/Proj_ENCODE_FCC/app\n",
      "PROJECT REF     (FD_REF):      /data/reddylab/Kuei/repo/Proj_ENCODE_FCC/references\n",
      "PROJECT IMAGE   (FP_PRJ_SIF):  /data/reddylab/Kuei/repo/Proj_ENCODE_FCC/app/singularity_proj_encode_fcc.sif\n",
      "\n"
     ]
    }
   ],
   "source": [
    "source ../run_config_project.sh\n",
    "show_env"
   ]
  },
  {
   "cell_type": "markdown",
   "id": "eed78ad3-df0d-40c4-a2ff-f39a86dfaca0",
   "metadata": {},
   "source": [
    "## Explore fragment counts of ASTARR"
   ]
  },
  {
   "cell_type": "code",
   "execution_count": 4,
   "id": "c4268420-456a-4f47-bb2c-aba6ec198df2",
   "metadata": {},
   "outputs": [
    {
     "name": "stdout",
     "output_type": "stream",
     "text": [
      "\u001b[0m\u001b[38;5;9mKS91_K562_hg38_ASTARRseq_Input_rep1.masked.dedup.fragments.counts.txt.gz\u001b[0m\n",
      "KS91_K562_hg38_ASTARRseq_Input_rep1.masked.exclude_dups.cpm.bw\n",
      "\u001b[38;5;9mKS91_K562_hg38_ASTARRseq_Input_rep2.masked.dedup.fragments.counts.txt.gz\u001b[0m\n",
      "KS91_K562_hg38_ASTARRseq_Input_rep2.masked.exclude_dups.cpm.bw\n",
      "\u001b[38;5;9mKS91_K562_hg38_ASTARRseq_Input_rep3.masked.dedup.fragments.counts.txt.gz\u001b[0m\n",
      "KS91_K562_hg38_ASTARRseq_Input_rep3.masked.exclude_dups.cpm.bw\n",
      "\u001b[38;5;9mKS91_K562_hg38_ASTARRseq_Input_rep4.masked.dedup.fragments.counts.txt.gz\u001b[0m\n",
      "KS91_K562_hg38_ASTARRseq_Input_rep4.masked.exclude_dups.cpm.bw\n",
      "\u001b[38;5;9mKS91_K562_hg38_ASTARRseq_Input_rep5.masked.dedup.fragments.counts.txt.gz\u001b[0m\n",
      "KS91_K562_hg38_ASTARRseq_Input_rep5.masked.exclude_dups.cpm.bw\n",
      "\u001b[38;5;9mKS91_K562_hg38_ASTARRseq_Input_rep6.masked.dedup.fragments.counts.txt.gz\u001b[0m\n",
      "KS91_K562_hg38_ASTARRseq_Input_rep6.masked.exclude_dups.cpm.bw\n",
      "\u001b[38;5;9mKS91_K562_hg38_ASTARRseq_Output_rep1.f3q10.fragments.counts.txt.gz\u001b[0m\n",
      "KS91_K562_hg38_ASTARRseq_Output_rep1.f3q10.sorted.with_umis.dedup.cpm.bw\n",
      "\u001b[38;5;9mKS91_K562_hg38_ASTARRseq_Output_rep2.f3q10.fragments.counts.txt.gz\u001b[0m\n",
      "KS91_K562_hg38_ASTARRseq_Output_rep2.f3q10.sorted.with_umis.dedup.cpm.bw\n",
      "\u001b[38;5;9mKS91_K562_hg38_ASTARRseq_Output_rep3.f3q10.fragments.counts.txt.gz\u001b[0m\n",
      "KS91_K562_hg38_ASTARRseq_Output_rep3.f3q10.sorted.with_umis.dedup.cpm.bw\n",
      "\u001b[38;5;9mKS91_K562_hg38_ASTARRseq_Output_rep4.f3q10.fragments.counts.txt.gz\u001b[0m\n",
      "KS91_K562_hg38_ASTARRseq_Output_rep4.f3q10.sorted.with_umis.dedup.cpm.bw\n",
      "KS91_K562_hg38_ASTARRseq_Output_rep5.f3q10.sorted.with_umis.dedup.cpm.bw\n",
      "KS91_K562_hg38_ASTARRseq_Output_rep6.f3q10.sorted.with_umis.dedup.cpm.bw\n"
     ]
    }
   ],
   "source": [
    "FDIRY=${FD_DAT}/processed/ASTARRseq_K562_hg38_KS91_210401/fragments\n",
    "ls ${FDIRY}"
   ]
  },
  {
   "cell_type": "code",
   "execution_count": 5,
   "id": "e7e5a80a-ff24-4067-830d-e45b507009a5",
   "metadata": {},
   "outputs": [
    {
     "name": "stdout",
     "output_type": "stream",
     "text": [
      "chr1\t10001\t10143\tchr1_10001_10143\t1\t.\n",
      "chr1\t10002\t10118\tchr1_10002_10118\t1\t.\n",
      "chr1\t10002\t10131\tchr1_10002_10131\t1\t.\n",
      "chr1\t10002\t10203\tchr1_10002_10203\t1\t.\n",
      "chr1\t10002\t10209\tchr1_10002_10209\t1\t.\n",
      "chr1\t10002\t10227\tchr1_10002_10227\t1\t.\n"
     ]
    }
   ],
   "source": [
    "FDIRY=${FD_DAT}/processed/ASTARRseq_K562_hg38_KS91_210401/fragments\n",
    "FNAME=KS91_K562_hg38_ASTARRseq_Input_rep1.masked.dedup.fragments.counts.txt.gz\n",
    "FPATH=${FDIRY}/${FNAME}\n",
    "\n",
    "zcat ${FPATH} | head -n 6"
   ]
  },
  {
   "cell_type": "code",
   "execution_count": 8,
   "id": "71394405-8ef0-4abd-a946-953c3e60de3e",
   "metadata": {},
   "outputs": [
    {
     "name": "stdout",
     "output_type": "stream",
     "text": [
      "K562_ASTARR_repeat_rep1.f3q10.fragments.bedpe\n",
      "K562_ASTARR_repeat_rep1.f3q10.sorted.with_umis.dedup.rpkm.bw\n",
      "K562_ASTARR_repeat_rep2.f3q10.fragments.bedpe\n",
      "K562_ASTARR_repeat_rep2.f3q10.sorted.with_umis.dedup.rpkm.bw\n",
      "K562_ASTARR_repeat_rep3.f3q10.fragments.bedpe\n",
      "K562_ASTARR_repeat_rep3.f3q10.sorted.with_umis.dedup.rpkm.bw\n"
     ]
    }
   ],
   "source": [
    "FDIRY=${FD_DAT}/processed/ASTARRseq_K562_hg38_KS274_240311/fragments\n",
    "ls ${FDIRY}"
   ]
  },
  {
   "cell_type": "code",
   "execution_count": 9,
   "id": "b4c217a5-6640-4a16-9be8-415823de990e",
   "metadata": {},
   "outputs": [
    {
     "name": "stdout",
     "output_type": "stream",
     "text": [
      "chr1\t14145\t14485\n",
      "chr1\t14145\t14485\n",
      "chr1\t14243\t14498\n",
      "chr1\t14454\t14729\n",
      "chr1\t14522\t14725\n",
      "chr1\t14599\t14850\n"
     ]
    }
   ],
   "source": [
    "FDIRY=${FD_DAT}/processed/ASTARRseq_K562_hg38_KS274_240311/fragments\n",
    "FNAME=K562_ASTARR_repeat_rep1.f3q10.fragments.bedpe\n",
    "FPATH=${FDIRY}/${FNAME}\n",
    "\n",
    "cat ${FPATH} | head -n 6"
   ]
  },
  {
   "cell_type": "markdown",
   "id": "08435931-986f-4e6c-98a5-8831ab2a543e",
   "metadata": {},
   "source": [
    "## Explore MACS peak calls on ASTARR input"
   ]
  },
  {
   "cell_type": "code",
   "execution_count": 10,
   "id": "c32ab0d9-9547-4f96-8ee7-8c64c9d5d91d",
   "metadata": {},
   "outputs": [
    {
     "name": "stdout",
     "output_type": "stream",
     "text": [
      "KS91_K562_hg38_ASTARRseq_Input.all_reps.masked.union_narrowPeak.q5.bed\n",
      "KS91_K562_hg38_ASTARRseq_Input.q5.in_all.max_overlaps.bed\n"
     ]
    }
   ],
   "source": [
    "FDIRY=${FD_DAT}/processed/ASTARRseq_K562_hg38_KS91_210401/peaks\n",
    "ls ${FDIRY}"
   ]
  },
  {
   "cell_type": "code",
   "execution_count": 11,
   "id": "0e1267e4-e656-4af2-b2e7-11894956fac7",
   "metadata": {},
   "outputs": [
    {
     "name": "stdout",
     "output_type": "stream",
     "text": [
      "chr1\t10015\t10442\n",
      "chr1\t14253\t14645\n",
      "chr1\t16015\t16477\n",
      "chr1\t17237\t17772\n",
      "chr1\t28903\t29613\n",
      "chr1\t30803\t31072\n"
     ]
    }
   ],
   "source": [
    "FDIRY=${FD_DAT}/processed/ASTARRseq_K562_hg38_KS91_210401/peaks\n",
    "FNAME=KS91_K562_hg38_ASTARRseq_Input.all_reps.masked.union_narrowPeak.q5.bed\n",
    "FPATH=${FDIRY}/${FNAME}\n",
    "\n",
    "cat ${FPATH} | head -n 6"
   ]
  },
  {
   "cell_type": "code",
   "execution_count": 12,
   "id": "1b63922c-da7e-40d9-b83e-aebf93651b61",
   "metadata": {},
   "outputs": [
    {
     "name": "stdout",
     "output_type": "stream",
     "text": [
      "chr1\t10038\t10405\t6\n",
      "chr1\t14282\t14614\t6\n",
      "chr1\t16025\t16338\t6\n",
      "chr1\t17288\t17689\t6\n",
      "chr1\t28934\t29499\t6\n",
      "chr1\t115429\t115969\t6\n"
     ]
    }
   ],
   "source": [
    "FDIRY=${FD_DAT}/processed/ASTARRseq_K562_hg38_KS91_210401/peaks\n",
    "FNAME=KS91_K562_hg38_ASTARRseq_Input.q5.in_all.max_overlaps.bed\n",
    "FPATH=${FDIRY}/${FNAME}\n",
    "\n",
    "cat ${FPATH} | head -n 6"
   ]
  },
  {
   "cell_type": "markdown",
   "id": "9b794906-915f-4b63-a802-e5a4494df66f",
   "metadata": {},
   "source": [
    "## Explore fragment counts of WSTARR"
   ]
  },
  {
   "cell_type": "code",
   "execution_count": 13,
   "id": "d3e8809f-e028-4797-a07e-1f2e425c724c",
   "metadata": {},
   "outputs": [
    {
     "name": "stdout",
     "output_type": "stream",
     "text": [
      "\u001b[0m\u001b[38;5;9mA001-input-K562-rep1.masked.dedup.fragments.counts.txt.gz\u001b[0m\n",
      "\u001b[38;5;9mA001-input-K562-rep2.masked.dedup.fragments.counts.txt.gz\u001b[0m\n",
      "\u001b[38;5;9mA001-input-K562-rep3.masked.dedup.fragments.counts.txt.gz\u001b[0m\n",
      "\u001b[38;5;9mA001-input-K562-rep4.masked.dedup.fragments.counts.txt.gz\u001b[0m\n",
      "\u001b[38;5;9mA001-K562-rep1.masked.dedup.fragments.counts.txt.gz\u001b[0m\n",
      "\u001b[38;5;9mA001-K562-rep2.masked.dedup.fragments.counts.txt.gz\u001b[0m\n",
      "\u001b[38;5;9mA001-K562-rep3.masked.dedup.fragments.counts.txt.gz\u001b[0m\n"
     ]
    }
   ],
   "source": [
    "FDIRY=${FD_DAT}/processed/WSTARRseq_K562_hg38_A001/fragments\n",
    "ls ${FDIRY}"
   ]
  },
  {
   "cell_type": "code",
   "execution_count": 14,
   "id": "0cc8efaa-5b02-4fe1-8140-690814191488",
   "metadata": {},
   "outputs": [
    {
     "name": "stdout",
     "output_type": "stream",
     "text": [
      "chr1\t10335\t10549\tchr1_10335_10549\t1\t.\n",
      "chr1\t16983\t17500\tchr1_16983_17500\t1\t.\n",
      "chr1\t16985\t17499\tchr1_16985_17499\t1\t.\n",
      "chr1\t17004\t17500\tchr1_17004_17500\t1\t.\n",
      "chr1\t17483\t17898\tchr1_17483_17898\t1\t.\n",
      "chr1\t17487\t17941\tchr1_17487_17941\t1\t.\n"
     ]
    }
   ],
   "source": [
    "FDIRY=${FD_DAT}/processed/WSTARRseq_K562_hg38_A001/fragments\n",
    "FNAME=A001-input-K562-rep1.masked.dedup.fragments.counts.txt.gz\n",
    "FPATH=${FDIRY}/${FNAME}\n",
    "\n",
    "zcat ${FPATH} | head -n 6"
   ]
  },
  {
   "cell_type": "code",
   "execution_count": null,
   "id": "90a242c0-36cc-41b6-b806-e14e2d3476e3",
   "metadata": {},
   "outputs": [],
   "source": []
  }
 ],
 "metadata": {
  "kernelspec": {
   "display_name": "Bash",
   "language": "bash",
   "name": "bash"
  },
  "language_info": {
   "codemirror_mode": "shell",
   "file_extension": ".sh",
   "mimetype": "text/x-sh",
   "name": "bash"
  }
 },
 "nbformat": 4,
 "nbformat_minor": 5
}
