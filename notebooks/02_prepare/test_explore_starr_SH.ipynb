{
 "cells": [
  {
   "cell_type": "code",
   "execution_count": 1,
   "id": "e0b5b338-0df4-4eeb-9f07-a332a440d6ec",
   "metadata": {},
   "outputs": [
    {
     "name": "stdout",
     "output_type": "stream",
     "text": [
      "You are working on             Duke Server: HARDAC\n",
      "BASE DIRECTORY (FD_BASE):      /data/reddylab/Kuei\n",
      "REPO DIRECTORY (FD_REPO):      /data/reddylab/Kuei/repo\n",
      "WORK DIRECTORY (FD_WORK):      /data/reddylab/Kuei/work\n",
      "DATA DIRECTORY (FD_DATA):      /data/reddylab/Kuei/data\n",
      "CONTAINER DIR. (FD_SING):      /data/reddylab/Kuei/container\n",
      "\n",
      "You are working with           ENCODE FCC\n",
      "PATH OF PROJECT (FD_PRJ):      /data/reddylab/Kuei/repo/Proj_CombEffect_ENCODE_FCC\n",
      "PROJECT RESULTS (FD_RES):      /data/reddylab/Kuei/repo/Proj_CombEffect_ENCODE_FCC/results\n",
      "PROJECT SCRIPTS (FD_EXE):      /data/reddylab/Kuei/repo/Proj_CombEffect_ENCODE_FCC/scripts\n",
      "PROJECT DATA    (FD_DAT):      /data/reddylab/Kuei/repo/Proj_CombEffect_ENCODE_FCC/data\n",
      "PROJECT NOTE    (FD_NBK):      /data/reddylab/Kuei/repo/Proj_CombEffect_ENCODE_FCC/notebooks\n",
      "PROJECT DOCS    (FD_DOC):      /data/reddylab/Kuei/repo/Proj_CombEffect_ENCODE_FCC/docs\n",
      "PROJECT LOG     (FD_LOG):      /data/reddylab/Kuei/repo/Proj_CombEffect_ENCODE_FCC/log\n",
      "PROJECT APP     (FD_APP):      /data/reddylab/Kuei/repo/Proj_CombEffect_ENCODE_FCC/app\n",
      "PROJECT REF     (FD_REF):      /data/reddylab/Kuei/repo/Proj_CombEffect_ENCODE_FCC/references\n",
      "PROJECT IMAGE   (FP_PRJ_SIF):  /data/reddylab/Kuei/repo/Proj_CombEffect_ENCODE_FCC/app/singularity_proj_encode_fcc.sif\n",
      "\n"
     ]
    }
   ],
   "source": [
    "source ../run_config_project.sh\n",
    "show_env"
   ]
  },
  {
   "cell_type": "code",
   "execution_count": 2,
   "id": "e49ce55c-1e6d-42ac-a690-14903604f384",
   "metadata": {},
   "outputs": [
    {
     "name": "stdout",
     "output_type": "stream",
     "text": [
      "\u001b[0m\u001b[38;5;9mA001-input-K562-rep1.masked.dedup.fragments.counts.txt.gz\u001b[0m\n",
      "\u001b[38;5;9mA001-input-K562-rep2.masked.dedup.fragments.counts.txt.gz\u001b[0m\n",
      "\u001b[38;5;9mA001-input-K562-rep3.masked.dedup.fragments.counts.txt.gz\u001b[0m\n",
      "\u001b[38;5;9mA001-input-K562-rep4.masked.dedup.fragments.counts.txt.gz\u001b[0m\n",
      "\u001b[38;5;9mA001-K562-rep1.masked.dedup.fragments.bedpe.gz\u001b[0m\n",
      "\u001b[38;5;9mA001-K562-rep1.masked.dedup.fragments.counts.txt.gz\u001b[0m\n",
      "\u001b[38;5;9mA001-K562-rep2.masked.dedup.fragments.bedpe.gz\u001b[0m\n",
      "\u001b[38;5;9mA001-K562-rep2.masked.dedup.fragments.counts.txt.gz\u001b[0m\n",
      "\u001b[38;5;9mA001-K562-rep3.masked.dedup.fragments.bedpe.gz\u001b[0m\n",
      "\u001b[38;5;9mA001-K562-rep3.masked.dedup.fragments.counts.txt.gz\u001b[0m\n"
     ]
    }
   ],
   "source": [
    "ls ${FD_ALEX}/encode4_duke/data/starr_seq/fragments"
   ]
  },
  {
   "cell_type": "code",
   "execution_count": 7,
   "id": "37a34576-5903-453e-b8fd-5f34da8ab573",
   "metadata": {},
   "outputs": [
    {
     "name": "stdout",
     "output_type": "stream",
     "text": [
      "/data/reddylab/Alex/encode4_duke/processing/atac_seq/210401_KS91_K562ASTARR_NovaSeq.hg38-pe-blacklist-removal\n"
     ]
    }
   ],
   "source": [
    "echo ${FD_WGS_ASTARR_INP}"
   ]
  },
  {
   "cell_type": "code",
   "execution_count": 3,
   "id": "45f2c6c4-cb25-4ae7-8aa2-733300eef07a",
   "metadata": {},
   "outputs": [
    {
     "name": "stdout",
     "output_type": "stream",
     "text": [
      "\u001b[0m\u001b[38;5;27mfragments\u001b[0m\n",
      "\u001b[38;5;9mKS91_K562_hg38_ASTARRseq_Input_rep1.masked.dedup.fragments.bedpe.gz\u001b[0m\n",
      "\u001b[38;5;9mKS91_K562_hg38_ASTARRseq_Input_rep1.masked.dedup.fragments.counts.txt.gz\u001b[0m\n",
      "KS91_K562_hg38_ASTARRseq_Input_rep1.masked.dups_marked.sorted.bam\n",
      "KS91_K562_hg38_ASTARRseq_Input_rep1.masked.dups_marked.sorted.bam.bai\n",
      "KS91_K562_hg38_ASTARRseq_Input_rep1.masked.exclude_dups.cpm.bw\n",
      "\u001b[38;5;9mKS91_K562_hg38_ASTARRseq_Input_rep2.masked.dedup.fragments.bedpe.gz\u001b[0m\n",
      "\u001b[38;5;9mKS91_K562_hg38_ASTARRseq_Input_rep2.masked.dedup.fragments.counts.txt.gz\u001b[0m\n",
      "KS91_K562_hg38_ASTARRseq_Input_rep2.masked.dups_marked.sorted.bam\n",
      "KS91_K562_hg38_ASTARRseq_Input_rep2.masked.dups_marked.sorted.bam.bai\n",
      "KS91_K562_hg38_ASTARRseq_Input_rep2.masked.exclude_dups.cpm.bw\n",
      "\u001b[38;5;9mKS91_K562_hg38_ASTARRseq_Input_rep3.masked.dedup.fragments.bedpe.gz\u001b[0m\n",
      "\u001b[38;5;9mKS91_K562_hg38_ASTARRseq_Input_rep3.masked.dedup.fragments.counts.txt.gz\u001b[0m\n",
      "KS91_K562_hg38_ASTARRseq_Input_rep3.masked.dups_marked.sorted.bam\n",
      "KS91_K562_hg38_ASTARRseq_Input_rep3.masked.dups_marked.sorted.bam.bai\n",
      "KS91_K562_hg38_ASTARRseq_Input_rep3.masked.exclude_dups.cpm.bw\n",
      "\u001b[38;5;9mKS91_K562_hg38_ASTARRseq_Input_rep4.masked.dedup.fragments.bedpe.gz\u001b[0m\n",
      "\u001b[38;5;9mKS91_K562_hg38_ASTARRseq_Input_rep4.masked.dedup.fragments.counts.txt.gz\u001b[0m\n",
      "KS91_K562_hg38_ASTARRseq_Input_rep4.masked.dups_marked.sorted.bam\n",
      "KS91_K562_hg38_ASTARRseq_Input_rep4.masked.dups_marked.sorted.bam.bai\n",
      "KS91_K562_hg38_ASTARRseq_Input_rep4.masked.exclude_dups.cpm.bw\n",
      "\u001b[38;5;9mKS91_K562_hg38_ASTARRseq_Input_rep5.masked.dedup.fragments.bedpe.gz\u001b[0m\n",
      "\u001b[38;5;9mKS91_K562_hg38_ASTARRseq_Input_rep5.masked.dedup.fragments.counts.txt.gz\u001b[0m\n",
      "KS91_K562_hg38_ASTARRseq_Input_rep5.masked.dups_marked.sorted.bam\n",
      "KS91_K562_hg38_ASTARRseq_Input_rep5.masked.dups_marked.sorted.bam.bai\n",
      "KS91_K562_hg38_ASTARRseq_Input_rep5.masked.exclude_dups.cpm.bw\n",
      "\u001b[38;5;9mKS91_K562_hg38_ASTARRseq_Input_rep6.masked.dedup.fragments.bedpe.gz\u001b[0m\n",
      "\u001b[38;5;9mKS91_K562_hg38_ASTARRseq_Input_rep6.masked.dedup.fragments.counts.txt.gz\u001b[0m\n",
      "KS91_K562_hg38_ASTARRseq_Input_rep6.masked.dups_marked.sorted.bam\n",
      "KS91_K562_hg38_ASTARRseq_Input_rep6.masked.dups_marked.sorted.bam.bai\n",
      "KS91_K562_hg38_ASTARRseq_Input_rep6.masked.exclude_dups.cpm.bw\n"
     ]
    }
   ],
   "source": [
    "ls ${FD_WGS_ASTARR_INP}/merged2"
   ]
  },
  {
   "cell_type": "code",
   "execution_count": 8,
   "id": "6f7b1321-9e97-48b2-85cc-d13519391df7",
   "metadata": {},
   "outputs": [
    {
     "name": "stdout",
     "output_type": "stream",
     "text": [
      "/data/reddylab/Alex/encode4_duke/processing/starr_seq/210401_KS91_K562ASTARR_NovaSeq.hg38-pe-umis\n"
     ]
    }
   ],
   "source": [
    "echo ${FD_WGS_ASTARR_OUT}"
   ]
  },
  {
   "cell_type": "code",
   "execution_count": 11,
   "id": "8f8ca8d9-3642-4e6d-ab84-654026cc5ba3",
   "metadata": {},
   "outputs": [
    {
     "name": "stdout",
     "output_type": "stream",
     "text": [
      "KS91_K562_hg38_ASTARRseq_Output_rep1.f3q10.sorted.with_umis.dedup.cpm.bw\n",
      "KS91_K562_hg38_ASTARRseq_Output_rep1.f3q10.sorted.with_umis.dups_included.cpm.bw\n",
      "KS91_K562_hg38_ASTARRseq_Output_rep1.f3q10.sorted.with_umis.dups_marked.cpm.bw\n",
      "KS91_K562_hg38_ASTARRseq_Output_rep1.input_subtracted.bw\n",
      "KS91_K562_hg38_ASTARRseq_Output_rep1.input_subtracted.pseudo_10.bw\n",
      "KS91_K562_hg38_ASTARRseq_Output_rep1_L001.f3q10.sorted.with_umis.rpkm.bw\n",
      "KS91_K562_hg38_ASTARRseq_Output_rep1_L002.f3q10.sorted.with_umis.rpkm.bw\n",
      "KS91_K562_hg38_ASTARRseq_Output_rep1_L003.f3q10.sorted.with_umis.rpkm.bw\n",
      "KS91_K562_hg38_ASTARRseq_Output_rep1_L004.f3q10.sorted.with_umis.rpkm.bw\n",
      "KS91_K562_hg38_ASTARRseq_Output_rep1.log2.pseudo_10.bw\n",
      "KS91_K562_hg38_ASTARRseq_Output_rep2.f3q10.sorted.with_umis.dedup.cpm.bw\n",
      "KS91_K562_hg38_ASTARRseq_Output_rep2.f3q10.sorted.with_umis.dups_included.cpm.bw\n",
      "KS91_K562_hg38_ASTARRseq_Output_rep2.f3q10.sorted.with_umis.dups_marked.cpm.bw\n",
      "KS91_K562_hg38_ASTARRseq_Output_rep2.input_subtracted.bw\n",
      "KS91_K562_hg38_ASTARRseq_Output_rep2.input_subtracted.pseudo_10.bw\n",
      "KS91_K562_hg38_ASTARRseq_Output_rep2_L001.f3q10.sorted.with_umis.rpkm.bw\n",
      "KS91_K562_hg38_ASTARRseq_Output_rep2_L002.f3q10.sorted.with_umis.rpkm.bw\n",
      "KS91_K562_hg38_ASTARRseq_Output_rep2_L003.f3q10.sorted.with_umis.rpkm.bw\n",
      "KS91_K562_hg38_ASTARRseq_Output_rep2_L004.f3q10.sorted.with_umis.rpkm.bw\n",
      "KS91_K562_hg38_ASTARRseq_Output_rep2.log2.pseudo_10.bw\n",
      "KS91_K562_hg38_ASTARRseq_Output_rep3.f3q10.sorted.with_umis.dedup.cpm.bw\n",
      "KS91_K562_hg38_ASTARRseq_Output_rep3.f3q10.sorted.with_umis.dups_included.cpm.bw\n",
      "KS91_K562_hg38_ASTARRseq_Output_rep3.f3q10.sorted.with_umis.dups_marked.cpm.bw\n",
      "KS91_K562_hg38_ASTARRseq_Output_rep3.input_subtracted.bw\n",
      "KS91_K562_hg38_ASTARRseq_Output_rep3.input_subtracted.pseudo_10.bw\n",
      "KS91_K562_hg38_ASTARRseq_Output_rep3_L001.f3q10.sorted.with_umis.rpkm.bw\n",
      "KS91_K562_hg38_ASTARRseq_Output_rep3_L002.f3q10.sorted.with_umis.rpkm.bw\n",
      "KS91_K562_hg38_ASTARRseq_Output_rep3_L003.f3q10.sorted.with_umis.rpkm.bw\n",
      "KS91_K562_hg38_ASTARRseq_Output_rep3_L004.f3q10.sorted.with_umis.rpkm.bw\n",
      "KS91_K562_hg38_ASTARRseq_Output_rep3.log2.pseudo_10.bw\n",
      "KS91_K562_hg38_ASTARRseq_Output_rep4.f3q10.sorted.with_umis.dedup.cpm.bw\n",
      "KS91_K562_hg38_ASTARRseq_Output_rep4.f3q10.sorted.with_umis.dups_included.cpm.bw\n",
      "KS91_K562_hg38_ASTARRseq_Output_rep4.f3q10.sorted.with_umis.dups_included.cpm.test.bw\n",
      "KS91_K562_hg38_ASTARRseq_Output_rep4.f3q10.sorted.with_umis.dups_marked.cpm.bw\n",
      "KS91_K562_hg38_ASTARRseq_Output_rep4.f3q10.sorted.with_umis.dups_marked.cpm.test.bw\n",
      "KS91_K562_hg38_ASTARRseq_Output_rep4.f3q10.sorted.with_umis.dups_marked.rpkm.test.bw\n",
      "KS91_K562_hg38_ASTARRseq_Output_rep4.input_subtracted.bw\n",
      "KS91_K562_hg38_ASTARRseq_Output_rep4.input_subtracted.pseudo_10.bw\n",
      "KS91_K562_hg38_ASTARRseq_Output_rep4_L001.f3q10.sorted.with_umis.rpkm.bw\n",
      "KS91_K562_hg38_ASTARRseq_Output_rep4_L002.f3q10.sorted.with_umis.rpkm.bw\n",
      "KS91_K562_hg38_ASTARRseq_Output_rep4_L003.f3q10.sorted.with_umis.rpkm.bw\n",
      "KS91_K562_hg38_ASTARRseq_Output_rep4_L004.f3q10.sorted.with_umis.rpkm.bw\n",
      "KS91_K562_hg38_ASTARRseq_Output_rep4.log2.pseudo_10.bw\n",
      "KS91_K562_hg38_ASTARRseq_Output_rep5.f3q10.sorted.with_umis.dedup.cpm.bw\n",
      "KS91_K562_hg38_ASTARRseq_Output_rep5.f3q10.sorted.with_umis.dups_included.cpm.bw\n",
      "KS91_K562_hg38_ASTARRseq_Output_rep5.f3q10.sorted.with_umis.dups_marked.cpm.bw\n",
      "KS91_K562_hg38_ASTARRseq_Output_rep5_L001.f3q10.sorted.with_umis.rpkm.bw\n",
      "KS91_K562_hg38_ASTARRseq_Output_rep5_L002.f3q10.sorted.with_umis.rpkm.bw\n",
      "KS91_K562_hg38_ASTARRseq_Output_rep5_L003.f3q10.sorted.with_umis.rpkm.bw\n",
      "KS91_K562_hg38_ASTARRseq_Output_rep5_L004.f3q10.sorted.with_umis.rpkm.bw\n",
      "KS91_K562_hg38_ASTARRseq_Output_rep6.f3q10.sorted.with_umis.dedup.cpm.bw\n",
      "KS91_K562_hg38_ASTARRseq_Output_rep6.f3q10.sorted.with_umis.dups_included.cpm.bw\n",
      "KS91_K562_hg38_ASTARRseq_Output_rep6.f3q10.sorted.with_umis.dups_marked.cpm.bw\n",
      "KS91_K562_hg38_ASTARRseq_Output_rep6_L001.f3q10.sorted.with_umis.rpkm.bw\n",
      "KS91_K562_hg38_ASTARRseq_Output_rep6_L002.f3q10.sorted.with_umis.rpkm.bw\n",
      "KS91_K562_hg38_ASTARRseq_Output_rep6_L003.f3q10.sorted.with_umis.rpkm.bw\n",
      "KS91_K562_hg38_ASTARRseq_Output_rep6_L004.f3q10.sorted.with_umis.rpkm.bw\n"
     ]
    }
   ],
   "source": [
    "ls ${FD_WGS_ASTARR_OUT}/*bw | xargs -n 1 basename"
   ]
  },
  {
   "cell_type": "code",
   "execution_count": null,
   "id": "0a0b3388-2784-48b4-aab8-d72c27c73612",
   "metadata": {},
   "outputs": [],
   "source": [
    "KS91_K562_hg38_ASTARRseq_Output_rep1.f3q10.sorted.with_umis.dedup.cpm.bw\n",
    "KS91_K562_hg38_ASTARRseq_Output_rep4.f3q10.sorted.with_umis.dedup.cpm.bw"
   ]
  },
  {
   "cell_type": "code",
   "execution_count": 12,
   "id": "8c83fac2-b583-4ede-94e9-0c590fed9a18",
   "metadata": {},
   "outputs": [
    {
     "name": "stdout",
     "output_type": "stream",
     "text": [
      "/data/reddylab/Keith/encode4_duke/processing/starr_seq/240311_KS274_ASTARR_Output_Nextseq-pe-umis/K562_ASTARR_repeat_rep1.bowtie2.log\n",
      "/data/reddylab/Keith/encode4_duke/processing/starr_seq/240311_KS274_ASTARR_Output_Nextseq-pe-umis/K562_ASTARR_repeat_rep1.f3q10.fragments.bedpe\n",
      "/data/reddylab/Keith/encode4_duke/processing/starr_seq/240311_KS274_ASTARR_Output_Nextseq-pe-umis/K562_ASTARR_repeat_rep1.f3q10.sorted.preseq_ccurve.txt.preseq_c_curve.txt\n",
      "/data/reddylab/Keith/encode4_duke/processing/starr_seq/240311_KS274_ASTARR_Output_Nextseq-pe-umis/K562_ASTARR_repeat_rep1.f3q10.sorted.with_umis.dedup.raw.bw\n",
      "/data/reddylab/Keith/encode4_duke/processing/starr_seq/240311_KS274_ASTARR_Output_Nextseq-pe-umis/K562_ASTARR_repeat_rep1.f3q10.sorted.with_umis.dedup.rpkm.bw\n",
      "/data/reddylab/Keith/encode4_duke/processing/starr_seq/240311_KS274_ASTARR_Output_Nextseq-pe-umis/K562_ASTARR_repeat_rep1.f3q10.sorted.with_umis.dups_marked.bam\n",
      "/data/reddylab/Keith/encode4_duke/processing/starr_seq/240311_KS274_ASTARR_Output_Nextseq-pe-umis/K562_ASTARR_repeat_rep1.f3q10.sorted.with_umis.dups_marked.bam.bai\n",
      "/data/reddylab/Keith/encode4_duke/processing/starr_seq/240311_KS274_ASTARR_Output_Nextseq-pe-umis/K562_ASTARR_repeat_rep1.f3q10.sorted.with_umis.dups_marked.dedup_metrics.txt\n",
      "/data/reddylab/Keith/encode4_duke/processing/starr_seq/240311_KS274_ASTARR_Output_Nextseq-pe-umis/K562_ASTARR_repeat_rep1.f3q10.sorted.with_umis.rpkm.bw\n",
      "/data/reddylab/Keith/encode4_duke/processing/starr_seq/240311_KS274_ASTARR_Output_Nextseq-pe-umis/K562_ASTARR_repeat_rep1.R1.custom_adapters.fasta\n",
      "/data/reddylab/Keith/encode4_duke/processing/starr_seq/240311_KS274_ASTARR_Output_Nextseq-pe-umis/K562_ASTARR_repeat_rep1.R1.fastqc_data.txt\n",
      "\u001b[0m\u001b[38;5;9m/data/reddylab/Keith/encode4_duke/processing/starr_seq/240311_KS274_ASTARR_Output_Nextseq-pe-umis/K562_ASTARR_repeat_rep1.R1_fastqc.zip\u001b[0m\u001b[K\n",
      "/data/reddylab/Keith/encode4_duke/processing/starr_seq/240311_KS274_ASTARR_Output_Nextseq-pe-umis/K562_ASTARR_repeat_rep1.R1.read_count.txt\n",
      "\u001b[38;5;9m/data/reddylab/Keith/encode4_duke/processing/starr_seq/240311_KS274_ASTARR_Output_Nextseq-pe-umis/K562_ASTARR_repeat_rep1.R1.trimmed.fastq.gz\u001b[0m\u001b[K\n",
      "/data/reddylab/Keith/encode4_duke/processing/starr_seq/240311_KS274_ASTARR_Output_Nextseq-pe-umis/K562_ASTARR_repeat_rep1.R1.trimmed.read_count.txt\n",
      "/data/reddylab/Keith/encode4_duke/processing/starr_seq/240311_KS274_ASTARR_Output_Nextseq-pe-umis/K562_ASTARR_repeat_rep1.R2.custom_adapters.fasta\n",
      "/data/reddylab/Keith/encode4_duke/processing/starr_seq/240311_KS274_ASTARR_Output_Nextseq-pe-umis/K562_ASTARR_repeat_rep1.R2.fastqc_data.txt\n",
      "\u001b[38;5;9m/data/reddylab/Keith/encode4_duke/processing/starr_seq/240311_KS274_ASTARR_Output_Nextseq-pe-umis/K562_ASTARR_repeat_rep1.R2_fastqc.zip\u001b[0m\u001b[K\n",
      "/data/reddylab/Keith/encode4_duke/processing/starr_seq/240311_KS274_ASTARR_Output_Nextseq-pe-umis/K562_ASTARR_repeat_rep1.R2.read_count.txt\n",
      "\u001b[38;5;9m/data/reddylab/Keith/encode4_duke/processing/starr_seq/240311_KS274_ASTARR_Output_Nextseq-pe-umis/K562_ASTARR_repeat_rep1.R2.trimmed.fastq.gz\u001b[0m\u001b[K\n",
      "/data/reddylab/Keith/encode4_duke/processing/starr_seq/240311_KS274_ASTARR_Output_Nextseq-pe-umis/K562_ASTARR_repeat_rep1.R2.trimmed.fastq.read_count.txt\n",
      "\u001b[38;5;9m/data/reddylab/Keith/encode4_duke/processing/starr_seq/240311_KS274_ASTARR_Output_Nextseq-pe-umis/K562_ASTARR_repeat_rep1.unmmaped.fastq.gz\u001b[0m\u001b[K\n",
      "/data/reddylab/Keith/encode4_duke/processing/starr_seq/240311_KS274_ASTARR_Output_Nextseq-pe-umis/K562_ASTARR_repeat_rep2.bowtie2.log\n",
      "/data/reddylab/Keith/encode4_duke/processing/starr_seq/240311_KS274_ASTARR_Output_Nextseq-pe-umis/K562_ASTARR_repeat_rep2.f3q10.fragments.bedpe\n",
      "/data/reddylab/Keith/encode4_duke/processing/starr_seq/240311_KS274_ASTARR_Output_Nextseq-pe-umis/K562_ASTARR_repeat_rep2.f3q10.sorted.preseq_ccurve.txt.preseq_c_curve.txt\n",
      "/data/reddylab/Keith/encode4_duke/processing/starr_seq/240311_KS274_ASTARR_Output_Nextseq-pe-umis/K562_ASTARR_repeat_rep2.f3q10.sorted.with_umis.dedup.raw.bw\n",
      "/data/reddylab/Keith/encode4_duke/processing/starr_seq/240311_KS274_ASTARR_Output_Nextseq-pe-umis/K562_ASTARR_repeat_rep2.f3q10.sorted.with_umis.dedup.rpkm.bw\n",
      "/data/reddylab/Keith/encode4_duke/processing/starr_seq/240311_KS274_ASTARR_Output_Nextseq-pe-umis/K562_ASTARR_repeat_rep2.f3q10.sorted.with_umis.dups_marked.bam\n",
      "/data/reddylab/Keith/encode4_duke/processing/starr_seq/240311_KS274_ASTARR_Output_Nextseq-pe-umis/K562_ASTARR_repeat_rep2.f3q10.sorted.with_umis.dups_marked.bam.bai\n",
      "/data/reddylab/Keith/encode4_duke/processing/starr_seq/240311_KS274_ASTARR_Output_Nextseq-pe-umis/K562_ASTARR_repeat_rep2.f3q10.sorted.with_umis.dups_marked.dedup_metrics.txt\n",
      "/data/reddylab/Keith/encode4_duke/processing/starr_seq/240311_KS274_ASTARR_Output_Nextseq-pe-umis/K562_ASTARR_repeat_rep2.f3q10.sorted.with_umis.rpkm.bw\n",
      "/data/reddylab/Keith/encode4_duke/processing/starr_seq/240311_KS274_ASTARR_Output_Nextseq-pe-umis/K562_ASTARR_repeat_rep2.R1.custom_adapters.fasta\n",
      "/data/reddylab/Keith/encode4_duke/processing/starr_seq/240311_KS274_ASTARR_Output_Nextseq-pe-umis/K562_ASTARR_repeat_rep2.R1.fastqc_data.txt\n",
      "\u001b[38;5;9m/data/reddylab/Keith/encode4_duke/processing/starr_seq/240311_KS274_ASTARR_Output_Nextseq-pe-umis/K562_ASTARR_repeat_rep2.R1_fastqc.zip\u001b[0m\u001b[K\n",
      "/data/reddylab/Keith/encode4_duke/processing/starr_seq/240311_KS274_ASTARR_Output_Nextseq-pe-umis/K562_ASTARR_repeat_rep2.R1.read_count.txt\n",
      "\u001b[38;5;9m/data/reddylab/Keith/encode4_duke/processing/starr_seq/240311_KS274_ASTARR_Output_Nextseq-pe-umis/K562_ASTARR_repeat_rep2.R1.trimmed.fastq.gz\u001b[0m\u001b[K\n",
      "/data/reddylab/Keith/encode4_duke/processing/starr_seq/240311_KS274_ASTARR_Output_Nextseq-pe-umis/K562_ASTARR_repeat_rep2.R1.trimmed.read_count.txt\n",
      "/data/reddylab/Keith/encode4_duke/processing/starr_seq/240311_KS274_ASTARR_Output_Nextseq-pe-umis/K562_ASTARR_repeat_rep2.R2.custom_adapters.fasta\n",
      "/data/reddylab/Keith/encode4_duke/processing/starr_seq/240311_KS274_ASTARR_Output_Nextseq-pe-umis/K562_ASTARR_repeat_rep2.R2.fastqc_data.txt\n",
      "\u001b[38;5;9m/data/reddylab/Keith/encode4_duke/processing/starr_seq/240311_KS274_ASTARR_Output_Nextseq-pe-umis/K562_ASTARR_repeat_rep2.R2_fastqc.zip\u001b[0m\u001b[K\n",
      "/data/reddylab/Keith/encode4_duke/processing/starr_seq/240311_KS274_ASTARR_Output_Nextseq-pe-umis/K562_ASTARR_repeat_rep2.R2.read_count.txt\n",
      "\u001b[38;5;9m/data/reddylab/Keith/encode4_duke/processing/starr_seq/240311_KS274_ASTARR_Output_Nextseq-pe-umis/K562_ASTARR_repeat_rep2.R2.trimmed.fastq.gz\u001b[0m\u001b[K\n",
      "/data/reddylab/Keith/encode4_duke/processing/starr_seq/240311_KS274_ASTARR_Output_Nextseq-pe-umis/K562_ASTARR_repeat_rep2.R2.trimmed.fastq.read_count.txt\n",
      "\u001b[38;5;9m/data/reddylab/Keith/encode4_duke/processing/starr_seq/240311_KS274_ASTARR_Output_Nextseq-pe-umis/K562_ASTARR_repeat_rep2.unmmaped.fastq.gz\u001b[0m\u001b[K\n",
      "/data/reddylab/Keith/encode4_duke/processing/starr_seq/240311_KS274_ASTARR_Output_Nextseq-pe-umis/K562_ASTARR_repeat_rep3.bowtie2.log\n",
      "/data/reddylab/Keith/encode4_duke/processing/starr_seq/240311_KS274_ASTARR_Output_Nextseq-pe-umis/K562_ASTARR_repeat_rep3.f3q10.fragments.bedpe\n",
      "/data/reddylab/Keith/encode4_duke/processing/starr_seq/240311_KS274_ASTARR_Output_Nextseq-pe-umis/K562_ASTARR_repeat_rep3.f3q10.sorted.preseq_ccurve.txt.preseq_c_curve.txt\n",
      "/data/reddylab/Keith/encode4_duke/processing/starr_seq/240311_KS274_ASTARR_Output_Nextseq-pe-umis/K562_ASTARR_repeat_rep3.f3q10.sorted.with_umis.dedup.raw.bw\n",
      "/data/reddylab/Keith/encode4_duke/processing/starr_seq/240311_KS274_ASTARR_Output_Nextseq-pe-umis/K562_ASTARR_repeat_rep3.f3q10.sorted.with_umis.dedup.rpkm.bw\n",
      "/data/reddylab/Keith/encode4_duke/processing/starr_seq/240311_KS274_ASTARR_Output_Nextseq-pe-umis/K562_ASTARR_repeat_rep3.f3q10.sorted.with_umis.dups_marked.bam\n",
      "/data/reddylab/Keith/encode4_duke/processing/starr_seq/240311_KS274_ASTARR_Output_Nextseq-pe-umis/K562_ASTARR_repeat_rep3.f3q10.sorted.with_umis.dups_marked.bam.bai\n",
      "/data/reddylab/Keith/encode4_duke/processing/starr_seq/240311_KS274_ASTARR_Output_Nextseq-pe-umis/K562_ASTARR_repeat_rep3.f3q10.sorted.with_umis.dups_marked.dedup_metrics.txt\n",
      "/data/reddylab/Keith/encode4_duke/processing/starr_seq/240311_KS274_ASTARR_Output_Nextseq-pe-umis/K562_ASTARR_repeat_rep3.f3q10.sorted.with_umis.rpkm.bw\n",
      "/data/reddylab/Keith/encode4_duke/processing/starr_seq/240311_KS274_ASTARR_Output_Nextseq-pe-umis/K562_ASTARR_repeat_rep3.R1.custom_adapters.fasta\n",
      "/data/reddylab/Keith/encode4_duke/processing/starr_seq/240311_KS274_ASTARR_Output_Nextseq-pe-umis/K562_ASTARR_repeat_rep3.R1.fastqc_data.txt\n",
      "\u001b[38;5;9m/data/reddylab/Keith/encode4_duke/processing/starr_seq/240311_KS274_ASTARR_Output_Nextseq-pe-umis/K562_ASTARR_repeat_rep3.R1_fastqc.zip\u001b[0m\u001b[K\n",
      "/data/reddylab/Keith/encode4_duke/processing/starr_seq/240311_KS274_ASTARR_Output_Nextseq-pe-umis/K562_ASTARR_repeat_rep3.R1.read_count.txt\n",
      "\u001b[38;5;9m/data/reddylab/Keith/encode4_duke/processing/starr_seq/240311_KS274_ASTARR_Output_Nextseq-pe-umis/K562_ASTARR_repeat_rep3.R1.trimmed.fastq.gz\u001b[0m\u001b[K\n",
      "/data/reddylab/Keith/encode4_duke/processing/starr_seq/240311_KS274_ASTARR_Output_Nextseq-pe-umis/K562_ASTARR_repeat_rep3.R1.trimmed.read_count.txt\n",
      "/data/reddylab/Keith/encode4_duke/processing/starr_seq/240311_KS274_ASTARR_Output_Nextseq-pe-umis/K562_ASTARR_repeat_rep3.R2.custom_adapters.fasta\n",
      "/data/reddylab/Keith/encode4_duke/processing/starr_seq/240311_KS274_ASTARR_Output_Nextseq-pe-umis/K562_ASTARR_repeat_rep3.R2.fastqc_data.txt\n",
      "\u001b[38;5;9m/data/reddylab/Keith/encode4_duke/processing/starr_seq/240311_KS274_ASTARR_Output_Nextseq-pe-umis/K562_ASTARR_repeat_rep3.R2_fastqc.zip\u001b[0m\u001b[K\n",
      "/data/reddylab/Keith/encode4_duke/processing/starr_seq/240311_KS274_ASTARR_Output_Nextseq-pe-umis/K562_ASTARR_repeat_rep3.R2.read_count.txt\n",
      "\u001b[38;5;9m/data/reddylab/Keith/encode4_duke/processing/starr_seq/240311_KS274_ASTARR_Output_Nextseq-pe-umis/K562_ASTARR_repeat_rep3.R2.trimmed.fastq.gz\u001b[0m\u001b[K\n",
      "/data/reddylab/Keith/encode4_duke/processing/starr_seq/240311_KS274_ASTARR_Output_Nextseq-pe-umis/K562_ASTARR_repeat_rep3.R2.trimmed.fastq.read_count.txt\n",
      "\u001b[38;5;9m/data/reddylab/Keith/encode4_duke/processing/starr_seq/240311_KS274_ASTARR_Output_Nextseq-pe-umis/K562_ASTARR_repeat_rep3.unmmaped.fastq.gz\u001b[0m\u001b[K\n"
     ]
    }
   ],
   "source": [
    "ls /data/reddylab/Keith/encode4_duke/processing/starr_seq/240311_KS274_ASTARR_Output_Nextseq-pe-umis/K562*"
   ]
  },
  {
   "cell_type": "code",
   "execution_count": null,
   "id": "43a26f13-57cc-4c61-8b3d-1a58e44efa9f",
   "metadata": {},
   "outputs": [],
   "source": []
  }
 ],
 "metadata": {
  "kernelspec": {
   "display_name": "Bash",
   "language": "bash",
   "name": "bash"
  },
  "language_info": {
   "codemirror_mode": "shell",
   "file_extension": ".sh",
   "mimetype": "text/x-sh",
   "name": "bash"
  }
 },
 "nbformat": 4,
 "nbformat_minor": 5
}
