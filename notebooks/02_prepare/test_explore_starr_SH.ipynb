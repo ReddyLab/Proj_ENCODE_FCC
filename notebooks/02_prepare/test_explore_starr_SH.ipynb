{
 "cells": [
  {
   "cell_type": "code",
   "execution_count": 1,
   "id": "e0b5b338-0df4-4eeb-9f07-a332a440d6ec",
   "metadata": {},
   "outputs": [
    {
     "name": "stdout",
     "output_type": "stream",
     "text": [
      "You are working on             Duke Server: HARDAC\n",
      "BASE DIRECTORY (FD_BASE):      /data/reddylab/Kuei\n",
      "REPO DIRECTORY (FD_REPO):      /data/reddylab/Kuei/repo\n",
      "WORK DIRECTORY (FD_WORK):      /data/reddylab/Kuei/work\n",
      "DATA DIRECTORY (FD_DATA):      /data/reddylab/Kuei/data\n",
      "CONTAINER DIR. (FD_SING):      /data/reddylab/Kuei/container\n",
      "\n",
      "You are working with           ENCODE FCC\n",
      "PATH OF PROJECT (FD_PRJ):      /data/reddylab/Kuei/repo/Proj_CombEffect_ENCODE_FCC\n",
      "PROJECT RESULTS (FD_RES):      /data/reddylab/Kuei/repo/Proj_CombEffect_ENCODE_FCC/results\n",
      "PROJECT SCRIPTS (FD_EXE):      /data/reddylab/Kuei/repo/Proj_CombEffect_ENCODE_FCC/scripts\n",
      "PROJECT DATA    (FD_DAT):      /data/reddylab/Kuei/repo/Proj_CombEffect_ENCODE_FCC/data\n",
      "PROJECT NOTE    (FD_NBK):      /data/reddylab/Kuei/repo/Proj_CombEffect_ENCODE_FCC/notebooks\n",
      "PROJECT DOCS    (FD_DOC):      /data/reddylab/Kuei/repo/Proj_CombEffect_ENCODE_FCC/docs\n",
      "PROJECT LOG     (FD_LOG):      /data/reddylab/Kuei/repo/Proj_CombEffect_ENCODE_FCC/log\n",
      "PROJECT APP     (FD_APP):      /data/reddylab/Kuei/repo/Proj_CombEffect_ENCODE_FCC/app\n",
      "PROJECT REF     (FD_REF):      /data/reddylab/Kuei/repo/Proj_CombEffect_ENCODE_FCC/references\n",
      "PROJECT IMAGE   (FP_PRJ_SIF):  /data/reddylab/Kuei/repo/Proj_CombEffect_ENCODE_FCC/app/singularity_proj_encode_fcc.sif\n",
      "\n"
     ]
    }
   ],
   "source": [
    "source ../run_config_project.sh\n",
    "show_env"
   ]
  },
  {
   "cell_type": "code",
   "execution_count": 17,
   "id": "e49ce55c-1e6d-42ac-a690-14903604f384",
   "metadata": {},
   "outputs": [
    {
     "name": "stdout",
     "output_type": "stream",
     "text": [
      "\u001b[0m\u001b[38;5;9mA001-input-K562-rep1.masked.dedup.fragments.counts.txt.gz\u001b[0m\n",
      "\u001b[38;5;9mA001-input-K562-rep2.masked.dedup.fragments.counts.txt.gz\u001b[0m\n",
      "\u001b[38;5;9mA001-input-K562-rep3.masked.dedup.fragments.counts.txt.gz\u001b[0m\n",
      "\u001b[38;5;9mA001-input-K562-rep4.masked.dedup.fragments.counts.txt.gz\u001b[0m\n",
      "\u001b[38;5;9mA001-K562-rep1.masked.dedup.fragments.bedpe.gz\u001b[0m\n",
      "\u001b[38;5;9mA001-K562-rep1.masked.dedup.fragments.counts.txt.gz\u001b[0m\n",
      "\u001b[38;5;9mA001-K562-rep2.masked.dedup.fragments.bedpe.gz\u001b[0m\n",
      "\u001b[38;5;9mA001-K562-rep2.masked.dedup.fragments.counts.txt.gz\u001b[0m\n",
      "\u001b[38;5;9mA001-K562-rep3.masked.dedup.fragments.bedpe.gz\u001b[0m\n",
      "\u001b[38;5;9mA001-K562-rep3.masked.dedup.fragments.counts.txt.gz\u001b[0m\n"
     ]
    }
   ],
   "source": [
    "ls ${FD_ALEX}/encode4_duke/data/starr_seq/fragments"
   ]
  },
  {
   "cell_type": "code",
   "execution_count": 14,
   "id": "45f2c6c4-cb25-4ae7-8aa2-733300eef07a",
   "metadata": {},
   "outputs": [
    {
     "name": "stdout",
     "output_type": "stream",
     "text": [
      "\u001b[0m\u001b[38;5;27mfragments\u001b[0m\n",
      "\u001b[38;5;9mKS91_K562_hg38_ASTARRseq_Input_rep1.masked.dedup.fragments.bedpe.gz\u001b[0m\n",
      "\u001b[38;5;9mKS91_K562_hg38_ASTARRseq_Input_rep1.masked.dedup.fragments.counts.txt.gz\u001b[0m\n",
      "KS91_K562_hg38_ASTARRseq_Input_rep1.masked.dups_marked.sorted.bam\n",
      "KS91_K562_hg38_ASTARRseq_Input_rep1.masked.dups_marked.sorted.bam.bai\n",
      "KS91_K562_hg38_ASTARRseq_Input_rep1.masked.exclude_dups.cpm.bw\n",
      "\u001b[38;5;9mKS91_K562_hg38_ASTARRseq_Input_rep2.masked.dedup.fragments.bedpe.gz\u001b[0m\n",
      "\u001b[38;5;9mKS91_K562_hg38_ASTARRseq_Input_rep2.masked.dedup.fragments.counts.txt.gz\u001b[0m\n",
      "KS91_K562_hg38_ASTARRseq_Input_rep2.masked.dups_marked.sorted.bam\n",
      "KS91_K562_hg38_ASTARRseq_Input_rep2.masked.dups_marked.sorted.bam.bai\n",
      "KS91_K562_hg38_ASTARRseq_Input_rep2.masked.exclude_dups.cpm.bw\n",
      "\u001b[38;5;9mKS91_K562_hg38_ASTARRseq_Input_rep3.masked.dedup.fragments.bedpe.gz\u001b[0m\n",
      "\u001b[38;5;9mKS91_K562_hg38_ASTARRseq_Input_rep3.masked.dedup.fragments.counts.txt.gz\u001b[0m\n",
      "KS91_K562_hg38_ASTARRseq_Input_rep3.masked.dups_marked.sorted.bam\n",
      "KS91_K562_hg38_ASTARRseq_Input_rep3.masked.dups_marked.sorted.bam.bai\n",
      "KS91_K562_hg38_ASTARRseq_Input_rep3.masked.exclude_dups.cpm.bw\n",
      "\u001b[38;5;9mKS91_K562_hg38_ASTARRseq_Input_rep4.masked.dedup.fragments.bedpe.gz\u001b[0m\n",
      "\u001b[38;5;9mKS91_K562_hg38_ASTARRseq_Input_rep4.masked.dedup.fragments.counts.txt.gz\u001b[0m\n",
      "KS91_K562_hg38_ASTARRseq_Input_rep4.masked.dups_marked.sorted.bam\n",
      "KS91_K562_hg38_ASTARRseq_Input_rep4.masked.dups_marked.sorted.bam.bai\n",
      "KS91_K562_hg38_ASTARRseq_Input_rep4.masked.exclude_dups.cpm.bw\n",
      "\u001b[38;5;9mKS91_K562_hg38_ASTARRseq_Input_rep5.masked.dedup.fragments.bedpe.gz\u001b[0m\n",
      "\u001b[38;5;9mKS91_K562_hg38_ASTARRseq_Input_rep5.masked.dedup.fragments.counts.txt.gz\u001b[0m\n",
      "KS91_K562_hg38_ASTARRseq_Input_rep5.masked.dups_marked.sorted.bam\n",
      "KS91_K562_hg38_ASTARRseq_Input_rep5.masked.dups_marked.sorted.bam.bai\n",
      "KS91_K562_hg38_ASTARRseq_Input_rep5.masked.exclude_dups.cpm.bw\n",
      "\u001b[38;5;9mKS91_K562_hg38_ASTARRseq_Input_rep6.masked.dedup.fragments.bedpe.gz\u001b[0m\n",
      "\u001b[38;5;9mKS91_K562_hg38_ASTARRseq_Input_rep6.masked.dedup.fragments.counts.txt.gz\u001b[0m\n",
      "KS91_K562_hg38_ASTARRseq_Input_rep6.masked.dups_marked.sorted.bam\n",
      "KS91_K562_hg38_ASTARRseq_Input_rep6.masked.dups_marked.sorted.bam.bai\n",
      "KS91_K562_hg38_ASTARRseq_Input_rep6.masked.exclude_dups.cpm.bw\n"
     ]
    }
   ],
   "source": [
    "ls ${FD_WGS_ASTARR_INP}/merged2"
   ]
  },
  {
   "cell_type": "code",
   "execution_count": null,
   "id": "6f7b1321-9e97-48b2-85cc-d13519391df7",
   "metadata": {},
   "outputs": [],
   "source": []
  }
 ],
 "metadata": {
  "kernelspec": {
   "display_name": "Bash",
   "language": "bash",
   "name": "bash"
  },
  "language_info": {
   "codemirror_mode": "shell",
   "file_extension": ".sh",
   "mimetype": "text/x-sh",
   "name": "bash"
  }
 },
 "nbformat": 4,
 "nbformat_minor": 5
}
