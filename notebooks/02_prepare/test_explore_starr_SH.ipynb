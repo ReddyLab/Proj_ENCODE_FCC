{
 "cells": [
  {
   "cell_type": "markdown",
   "id": "fbddd0ef-6650-4744-8827-7de6cb0b256a",
   "metadata": {},
   "source": [
    "# Test: Explore STARR-seq data"
   ]
  },
  {
   "cell_type": "markdown",
   "id": "5d9f6021-f4af-4bd5-8a84-8fef77149629",
   "metadata": {},
   "source": [
    "**Set environment**"
   ]
  },
  {
   "cell_type": "code",
   "execution_count": 1,
   "id": "e0b5b338-0df4-4eeb-9f07-a332a440d6ec",
   "metadata": {},
   "outputs": [
    {
     "name": "stdout",
     "output_type": "stream",
     "text": [
      "You are working on             Duke Server: HARDAC\n",
      "BASE DIRECTORY (FD_BASE):      /data/reddylab/Kuei\n",
      "REPO DIRECTORY (FD_REPO):      /data/reddylab/Kuei/repo\n",
      "WORK DIRECTORY (FD_WORK):      /data/reddylab/Kuei/work\n",
      "DATA DIRECTORY (FD_DATA):      /data/reddylab/Kuei/data\n",
      "CONTAINER DIR. (FD_SING):      /data/reddylab/Kuei/container\n",
      "\n",
      "You are working with           ENCODE FCC\n",
      "PATH OF PROJECT (FD_PRJ):      /data/reddylab/Kuei/repo/Proj_ENCODE_FCC\n",
      "PROJECT RESULTS (FD_RES):      /data/reddylab/Kuei/repo/Proj_ENCODE_FCC/results\n",
      "PROJECT SCRIPTS (FD_EXE):      /data/reddylab/Kuei/repo/Proj_ENCODE_FCC/scripts\n",
      "PROJECT DATA    (FD_DAT):      /data/reddylab/Kuei/repo/Proj_ENCODE_FCC/data\n",
      "PROJECT NOTE    (FD_NBK):      /data/reddylab/Kuei/repo/Proj_ENCODE_FCC/notebooks\n",
      "PROJECT DOCS    (FD_DOC):      /data/reddylab/Kuei/repo/Proj_ENCODE_FCC/docs\n",
      "PROJECT LOG     (FD_LOG):      /data/reddylab/Kuei/repo/Proj_ENCODE_FCC/log\n",
      "PROJECT APP     (FD_APP):      /data/reddylab/Kuei/repo/Proj_ENCODE_FCC/app\n",
      "PROJECT REF     (FD_REF):      /data/reddylab/Kuei/repo/Proj_ENCODE_FCC/references\n",
      "PROJECT IMAGE   (FP_PRJ_SIF):  /data/reddylab/Kuei/repo/Proj_ENCODE_FCC/app/singularity_proj_encode_fcc.sif\n",
      "\n"
     ]
    }
   ],
   "source": [
    "source ../run_config_project.sh\n",
    "show_env"
   ]
  },
  {
   "cell_type": "markdown",
   "id": "2b9fff97-bfe3-432e-88af-89c1b4789de9",
   "metadata": {},
   "source": [
    "## Data directories"
   ]
  },
  {
   "cell_type": "markdown",
   "id": "a4188107-b2da-4d51-baaf-a2b730442ff0",
   "metadata": {},
   "source": [
    "\n",
    "**KS91 Corrected files**\n",
    "```\n",
    "### New BAM files\n",
    "/data/reddylab/Revathy/collabs/Keith/data/k562_atac_starr/merged_bams/*.corrected.bam\n",
    "\n",
    "### New fragment counts\n",
    "/data/reddylab/Alex/encode4_duke/processing/starr_seq/210401_KS91_K562ASTARR_NovaSeq.hg38-pe-umis/KS91_K562_hg38_ASTARRseq_Output_rep{2,4}.f3q10.fragments.counts.corrected.txt.gz\n",
    "```"
   ]
  },
  {
   "cell_type": "code",
   "execution_count": 2,
   "id": "947c66cc-ed92-4698-b5b0-30e6c460b148",
   "metadata": {},
   "outputs": [],
   "source": [
    "### ReddyLab directory\n",
    "FD_ALEX=/data/reddylab/Alex\n",
    "FD_KEITH=/data/reddylab/Keith\n",
    "FD_REVATHY=/data/reddylab/Revathy\n",
    "FD_KARI=/data/reddylab/kstrouse"
   ]
  },
  {
   "cell_type": "markdown",
   "id": "e9ff76ab-99f3-4a8f-ae96-2f12e04a5c2b",
   "metadata": {},
   "source": [
    "## BAM files"
   ]
  },
  {
   "cell_type": "code",
   "execution_count": 3,
   "id": "5c51bf88-d029-40f8-a9a1-4a5bea9af519",
   "metadata": {},
   "outputs": [],
   "source": [
    "FD_WGS_ASTARR_BAM=${FD_REVATHY}/collabs/Keith/data/k562_atac_starr/merged_bams\n",
    "FD_WGS_WSTARR_INP_BAM=${FD_KARI}/superstarr/input_libs/A001/nextseq/processing/starr_seq/A001_nextseq-pe\n",
    "FD_WGS_WSTARR_OUT_BAM_rep01=${FD_KARI}/superstarr/output_libs/A001_K562/A001_K562_20201124/combined_reads/processing/starr_seq/A001_K562_20201124_combined-pe\n",
    "FD_WGS_WSTARR_OUT_BAM_rep23=${FD_KARI}/superstarr/output_libs/A001_K562/A001_K562_20210213/processing/starr_seq/Strouse_6825_210223A5-pe"
   ]
  },
  {
   "cell_type": "code",
   "execution_count": 4,
   "id": "e58a5ba7-f0ab-4335-989e-d40d6e01bbee",
   "metadata": {},
   "outputs": [
    {
     "name": "stdout",
     "output_type": "stream",
     "text": [
      "KS91_K562_hg38_ASTARRseq_Output_rep1.f3q10.sorted.with_umis.merged.dups_marked.bam\n",
      "KS91_K562_hg38_ASTARRseq_Output_rep1.f3q10.sorted.with_umis.merged.dups_marked.corrected.bam\n",
      "KS91_K562_hg38_ASTARRseq_Output_rep1.f3q10.sorted.with_umis.merged.dups_marked.corrected.bam.bai\n",
      "KS91_K562_hg38_ASTARRseq_Output_rep2.f3q10.sorted.with_umis.merged.dups_marked.bam\n",
      "KS91_K562_hg38_ASTARRseq_Output_rep2.f3q10.sorted.with_umis.merged.dups_marked.corrected.bam\n",
      "KS91_K562_hg38_ASTARRseq_Output_rep2.f3q10.sorted.with_umis.merged.dups_marked.corrected.bam.bai\n",
      "KS91_K562_hg38_ASTARRseq_Output_rep3.f3q10.sorted.with_umis.merged.dups_marked.bam\n",
      "KS91_K562_hg38_ASTARRseq_Output_rep3.f3q10.sorted.with_umis.merged.dups_marked.corrected.bam\n",
      "KS91_K562_hg38_ASTARRseq_Output_rep3.f3q10.sorted.with_umis.merged.dups_marked.corrected.bam.bai\n",
      "KS91_K562_hg38_ASTARRseq_Output_rep4.f3q10.sorted.with_umis.merged.dups_marked.bam\n",
      "KS91_K562_hg38_ASTARRseq_Output_rep4.f3q10.sorted.with_umis.merged.dups_marked.corrected.bam\n",
      "KS91_K562_hg38_ASTARRseq_Output_rep4.f3q10.sorted.with_umis.merged.dups_marked.corrected.bam.bai\n",
      "KS91_K562_hg38_ASTARRseq_Output_rep5.f3q10.sorted.with_umis.merged.dups_marked.bam\n",
      "KS91_K562_hg38_ASTARRseq_Output_rep6.f3q10.sorted.with_umis.merged.dups_marked.bam\n",
      "KS91_K562_hg38_ASTARRseq_Output_rep6.f3q10.sorted.with_umis.merged.dups_marked.bam.bai\n"
     ]
    }
   ],
   "source": [
    "ls ${FD_WGS_ASTARR_BAM}"
   ]
  },
  {
   "cell_type": "code",
   "execution_count": 5,
   "id": "9ebdfa22-2ed7-480a-af2e-4d4d724267ae",
   "metadata": {},
   "outputs": [
    {
     "name": "stdout",
     "output_type": "stream",
     "text": [
      "rep1.f3q10.sorted.dups_marked.bam\n",
      "rep2.f3q10.sorted.dups_marked.bam\n",
      "rep3.f3q10.sorted.dups_marked.bam\n",
      "rep4.f3q10.sorted.dups_marked.bam\n"
     ]
    }
   ],
   "source": [
    "ls ${FD_WGS_WSTARR_INP_BAM}/*bam | xargs -n 1 basename"
   ]
  },
  {
   "cell_type": "code",
   "execution_count": 6,
   "id": "142580db-ef45-4a75-9772-fa7608cfd9f8",
   "metadata": {},
   "outputs": [
    {
     "name": "stdout",
     "output_type": "stream",
     "text": [
      "A001-K562-rep1.f3q10.sorted.dups_marked.bam\n"
     ]
    }
   ],
   "source": [
    "ls ${FD_WGS_WSTARR_OUT_BAM_rep01}/*bam | xargs -n 1 basename"
   ]
  },
  {
   "cell_type": "code",
   "execution_count": 7,
   "id": "c2bed942-8082-4ad2-bdf6-e7a99068ec8b",
   "metadata": {},
   "outputs": [
    {
     "name": "stdout",
     "output_type": "stream",
     "text": [
      "A001-K562-rep2.f3q10.sorted.dups_marked.bam\n",
      "A001-K562-rep3.f3q10.sorted.dups_marked.bam\n"
     ]
    }
   ],
   "source": [
    "ls ${FD_WGS_WSTARR_OUT_BAM_rep23}/*bam | xargs -n 1 basename"
   ]
  },
  {
   "cell_type": "markdown",
   "id": "67d80d90-a885-4c17-a7ff-c93388fef9e5",
   "metadata": {},
   "source": [
    "## ASTARR"
   ]
  },
  {
   "cell_type": "code",
   "execution_count": 8,
   "id": "eb3c3fbe-1d6c-4014-9486-b926b673c1f4",
   "metadata": {},
   "outputs": [],
   "source": [
    "FD_WGS_ASTARR_KS91_INP=${FD_ALEX}/encode4_duke/processing/atac_seq/210401_KS91_K562ASTARR_NovaSeq.hg38-pe-blacklist-removal\n",
    "FD_WGS_ASTARR_KS91_OUT=${FD_ALEX}/encode4_duke/processing/starr_seq/210401_KS91_K562ASTARR_NovaSeq.hg38-pe-umis\n",
    "FD_WGS_ASTARR_KS274_OUT=${FD_KEITH}/encode4_duke/processing/starr_seq/240311_KS274_ASTARR_Output_Nextseq-pe-umis"
   ]
  },
  {
   "cell_type": "markdown",
   "id": "c6e934e5-7128-4933-a2d2-818ee06079fd",
   "metadata": {},
   "source": [
    "### ASTARR Input (KS91)"
   ]
  },
  {
   "cell_type": "code",
   "execution_count": 9,
   "id": "1d28dd84-e413-46fd-aefc-d4bdeca9ee28",
   "metadata": {},
   "outputs": [
    {
     "name": "stdout",
     "output_type": "stream",
     "text": [
      "\u001b[0m\u001b[38;5;27mfragments\u001b[0m\n",
      "\u001b[38;5;9mKS91_K562_hg38_ASTARRseq_Input_rep1.masked.dedup.fragments.bedpe.gz\u001b[0m\n",
      "\u001b[38;5;9mKS91_K562_hg38_ASTARRseq_Input_rep1.masked.dedup.fragments.counts.txt.gz\u001b[0m\n",
      "KS91_K562_hg38_ASTARRseq_Input_rep1.masked.dups_marked.sorted.bam\n",
      "KS91_K562_hg38_ASTARRseq_Input_rep1.masked.dups_marked.sorted.bam.bai\n",
      "KS91_K562_hg38_ASTARRseq_Input_rep1.masked.exclude_dups.cpm.bw\n",
      "\u001b[38;5;9mKS91_K562_hg38_ASTARRseq_Input_rep2.masked.dedup.fragments.bedpe.gz\u001b[0m\n",
      "\u001b[38;5;9mKS91_K562_hg38_ASTARRseq_Input_rep2.masked.dedup.fragments.counts.txt.gz\u001b[0m\n",
      "KS91_K562_hg38_ASTARRseq_Input_rep2.masked.dups_marked.sorted.bam\n",
      "KS91_K562_hg38_ASTARRseq_Input_rep2.masked.dups_marked.sorted.bam.bai\n",
      "KS91_K562_hg38_ASTARRseq_Input_rep2.masked.exclude_dups.cpm.bw\n",
      "\u001b[38;5;9mKS91_K562_hg38_ASTARRseq_Input_rep3.masked.dedup.fragments.bedpe.gz\u001b[0m\n",
      "\u001b[38;5;9mKS91_K562_hg38_ASTARRseq_Input_rep3.masked.dedup.fragments.counts.txt.gz\u001b[0m\n",
      "KS91_K562_hg38_ASTARRseq_Input_rep3.masked.dups_marked.sorted.bam\n",
      "KS91_K562_hg38_ASTARRseq_Input_rep3.masked.dups_marked.sorted.bam.bai\n",
      "KS91_K562_hg38_ASTARRseq_Input_rep3.masked.exclude_dups.cpm.bw\n",
      "\u001b[38;5;9mKS91_K562_hg38_ASTARRseq_Input_rep4.masked.dedup.fragments.bedpe.gz\u001b[0m\n",
      "\u001b[38;5;9mKS91_K562_hg38_ASTARRseq_Input_rep4.masked.dedup.fragments.counts.txt.gz\u001b[0m\n",
      "KS91_K562_hg38_ASTARRseq_Input_rep4.masked.dups_marked.sorted.bam\n",
      "KS91_K562_hg38_ASTARRseq_Input_rep4.masked.dups_marked.sorted.bam.bai\n",
      "KS91_K562_hg38_ASTARRseq_Input_rep4.masked.exclude_dups.cpm.bw\n",
      "\u001b[38;5;9mKS91_K562_hg38_ASTARRseq_Input_rep5.masked.dedup.fragments.bedpe.gz\u001b[0m\n",
      "\u001b[38;5;9mKS91_K562_hg38_ASTARRseq_Input_rep5.masked.dedup.fragments.counts.txt.gz\u001b[0m\n",
      "KS91_K562_hg38_ASTARRseq_Input_rep5.masked.dups_marked.sorted.bam\n",
      "KS91_K562_hg38_ASTARRseq_Input_rep5.masked.dups_marked.sorted.bam.bai\n",
      "KS91_K562_hg38_ASTARRseq_Input_rep5.masked.exclude_dups.cpm.bw\n",
      "\u001b[38;5;9mKS91_K562_hg38_ASTARRseq_Input_rep6.masked.dedup.fragments.bedpe.gz\u001b[0m\n",
      "\u001b[38;5;9mKS91_K562_hg38_ASTARRseq_Input_rep6.masked.dedup.fragments.counts.txt.gz\u001b[0m\n",
      "KS91_K562_hg38_ASTARRseq_Input_rep6.masked.dups_marked.sorted.bam\n",
      "KS91_K562_hg38_ASTARRseq_Input_rep6.masked.dups_marked.sorted.bam.bai\n",
      "KS91_K562_hg38_ASTARRseq_Input_rep6.masked.exclude_dups.cpm.bw\n"
     ]
    }
   ],
   "source": [
    "ls ${FD_WGS_ASTARR_KS91_INP}/merged2"
   ]
  },
  {
   "cell_type": "code",
   "execution_count": 10,
   "id": "4445871f-fa67-4ca8-b70b-79eda1501b8c",
   "metadata": {},
   "outputs": [
    {
     "name": "stdout",
     "output_type": "stream",
     "text": [
      "KS91_K562_hg38_ASTARRseq_Input_rep1.masked.exclude_dups.cpm.bw\n",
      "KS91_K562_hg38_ASTARRseq_Input_rep2.masked.exclude_dups.cpm.bw\n",
      "KS91_K562_hg38_ASTARRseq_Input_rep3.masked.exclude_dups.cpm.bw\n",
      "KS91_K562_hg38_ASTARRseq_Input_rep4.masked.exclude_dups.cpm.bw\n",
      "KS91_K562_hg38_ASTARRseq_Input_rep5.masked.exclude_dups.cpm.bw\n",
      "KS91_K562_hg38_ASTARRseq_Input_rep6.masked.exclude_dups.cpm.bw\n"
     ]
    }
   ],
   "source": [
    "ls ${FD_WGS_ASTARR_KS91_INP}/merged2/*exclude_dups.cpm.bw | xargs -n 1 basename"
   ]
  },
  {
   "cell_type": "markdown",
   "id": "1aaffaa3-d2a7-4ee2-a126-e305a129f37f",
   "metadata": {},
   "source": [
    "### ASTARR Output (KS91)"
   ]
  },
  {
   "cell_type": "code",
   "execution_count": 11,
   "id": "e93f2b0d-03cb-4238-817b-0f17b3e1d767",
   "metadata": {},
   "outputs": [
    {
     "name": "stdout",
     "output_type": "stream",
     "text": [
      "by_chrom\n",
      "by_chrom_redo\n",
      "KS91_K562_hg38_ASTARRseq_Output_rep1.f3q10.fragments.bedpe\n",
      "KS91_K562_hg38_ASTARRseq_Output_rep1.f3q10.fragments.counts.txt.gz\n",
      "KS91_K562_hg38_ASTARRseq_Output_rep1.f3q10.sorted.with_umis.dedup.cpm.bw\n",
      "KS91_K562_hg38_ASTARRseq_Output_rep1.f3q10.sorted.with_umis.dups_included.cpm.bw\n",
      "KS91_K562_hg38_ASTARRseq_Output_rep1.f3q10.sorted.with_umis.dups_marked.bam\n",
      "KS91_K562_hg38_ASTARRseq_Output_rep1.f3q10.sorted.with_umis.dups_marked.bam.bai\n",
      "KS91_K562_hg38_ASTARRseq_Output_rep1.f3q10.sorted.with_umis.dups_marked.cpm.bw\n",
      "KS91_K562_hg38_ASTARRseq_Output_rep1.f3q10.sorted.with_umis.dups_marked_peaks.narrowPeak\n"
     ]
    }
   ],
   "source": [
    "ls ${FD_WGS_ASTARR_KS91_OUT} | head -n 10"
   ]
  },
  {
   "cell_type": "code",
   "execution_count": 12,
   "id": "3181353c-104f-4949-8055-868ae0364301",
   "metadata": {},
   "outputs": [
    {
     "name": "stdout",
     "output_type": "stream",
     "text": [
      "\u001b[0m\u001b[38;5;27mchr1\u001b[0m   \u001b[38;5;27mchr11\u001b[0m  \u001b[38;5;27mchr13\u001b[0m  \u001b[38;5;27mchr15\u001b[0m  \u001b[38;5;27mchr17\u001b[0m  \u001b[38;5;27mchr19\u001b[0m  \u001b[38;5;27mchr20\u001b[0m  \u001b[38;5;27mchr22\u001b[0m  \u001b[38;5;27mchr4\u001b[0m  \u001b[38;5;27mchr6\u001b[0m  \u001b[38;5;27mchr8\u001b[0m  \u001b[38;5;27mchrX\u001b[0m\n",
      "\u001b[38;5;27mchr10\u001b[0m  \u001b[38;5;27mchr12\u001b[0m  \u001b[38;5;27mchr14\u001b[0m  \u001b[38;5;27mchr16\u001b[0m  \u001b[38;5;27mchr18\u001b[0m  \u001b[38;5;27mchr2\u001b[0m   \u001b[38;5;27mchr21\u001b[0m  \u001b[38;5;27mchr3\u001b[0m   \u001b[38;5;27mchr5\u001b[0m  \u001b[38;5;27mchr7\u001b[0m  \u001b[38;5;27mchr9\u001b[0m\n"
     ]
    }
   ],
   "source": [
    "ls ${FD_WGS_ASTARR_KS91_OUT}/by_chrom"
   ]
  },
  {
   "cell_type": "markdown",
   "id": "81544fd4-6e18-4498-acb6-892f15802eba",
   "metadata": {},
   "source": [
    "**Fragments**"
   ]
  },
  {
   "cell_type": "code",
   "execution_count": 13,
   "id": "b557fcb2-3f08-4019-b862-4a4e956d0f91",
   "metadata": {},
   "outputs": [
    {
     "name": "stdout",
     "output_type": "stream",
     "text": [
      "KS91_K562_hg38_ASTARRseq_Output_rep1.f3q10.fragments.counts.txt.gz\n",
      "KS91_K562_hg38_ASTARRseq_Output_rep2.f3q10.fragments.counts.txt.gz\n",
      "KS91_K562_hg38_ASTARRseq_Output_rep3.f3q10.fragments.counts.txt.gz\n",
      "KS91_K562_hg38_ASTARRseq_Output_rep4.f3q10.fragments.counts.txt.gz\n"
     ]
    }
   ],
   "source": [
    "ls ${FD_WGS_ASTARR_KS91_OUT}/*Output*.f3q10.fragments.counts.txt.gz | xargs -n 1 basename"
   ]
  },
  {
   "cell_type": "code",
   "execution_count": 14,
   "id": "421d10da-0135-4cc4-98a4-7c429cebf787",
   "metadata": {},
   "outputs": [
    {
     "name": "stdout",
     "output_type": "stream",
     "text": [
      "KS91_K562_hg38_ASTARRseq_Output_rep2.f3q10.fragments.counts.corrected.txt.gz\n",
      "KS91_K562_hg38_ASTARRseq_Output_rep3.f3q10.fragments.counts.corrected.txt.gz\n",
      "KS91_K562_hg38_ASTARRseq_Output_rep4.f3q10.fragments.counts.corrected.txt.gz\n"
     ]
    }
   ],
   "source": [
    "ls ${FD_WGS_ASTARR_KS91_OUT}/*Output*.f3q10.fragments.counts.corrected.txt.gz | xargs -n 1 basename"
   ]
  },
  {
   "cell_type": "code",
   "execution_count": 15,
   "id": "380ac59b-f1fa-4fa6-a014-bab468a445aa",
   "metadata": {},
   "outputs": [
    {
     "name": "stdout",
     "output_type": "stream",
     "text": [
      "KS91_K562_hg38_ASTARRseq_Output_rep1.f3q10.fragments.counts.txt.gz\n",
      "KS91_K562_hg38_ASTARRseq_Output_rep2.f3q10.fragments.counts.corrected.txt.gz\n",
      "KS91_K562_hg38_ASTARRseq_Output_rep2.f3q10.fragments.counts.txt.gz\n",
      "KS91_K562_hg38_ASTARRseq_Output_rep3.f3q10.fragments.counts.corrected.txt.gz\n",
      "KS91_K562_hg38_ASTARRseq_Output_rep3.f3q10.fragments.counts.txt.gz\n",
      "KS91_K562_hg38_ASTARRseq_Output_rep4.f3q10.fragments.counts.corrected.txt.gz\n",
      "KS91_K562_hg38_ASTARRseq_Output_rep4.f3q10.fragments.counts.txt.gz\n"
     ]
    }
   ],
   "source": [
    "ls ${FD_WGS_ASTARR_KS91_OUT}/*Output*.f3q10.fragments.counts.*.gz | xargs -n 1 basename"
   ]
  },
  {
   "cell_type": "markdown",
   "id": "2b433a4a-6671-4fbb-9fbe-842ce2598e03",
   "metadata": {},
   "source": [
    "**BigWig**"
   ]
  },
  {
   "cell_type": "code",
   "execution_count": 16,
   "id": "b9a68b13-8633-4aa1-8c46-f736131706fc",
   "metadata": {},
   "outputs": [
    {
     "name": "stdout",
     "output_type": "stream",
     "text": [
      "KS91_K562_hg38_ASTARRseq_Output_rep1.f3q10.sorted.with_umis.dedup.cpm.bw\n",
      "KS91_K562_hg38_ASTARRseq_Output_rep1.f3q10.sorted.with_umis.dups_included.cpm.bw\n",
      "KS91_K562_hg38_ASTARRseq_Output_rep1.f3q10.sorted.with_umis.dups_marked.cpm.bw\n",
      "KS91_K562_hg38_ASTARRseq_Output_rep1.input_subtracted.bw\n",
      "KS91_K562_hg38_ASTARRseq_Output_rep1.input_subtracted.pseudo_10.bw\n",
      "KS91_K562_hg38_ASTARRseq_Output_rep1.log2.pseudo_10.bw\n"
     ]
    }
   ],
   "source": [
    "ls ${FD_WGS_ASTARR_KS91_OUT}/*Output_rep1.*.bw | xargs -n 1 basename"
   ]
  },
  {
   "cell_type": "code",
   "execution_count": 17,
   "id": "50037292-d023-4788-817a-52d655489280",
   "metadata": {},
   "outputs": [
    {
     "name": "stdout",
     "output_type": "stream",
     "text": [
      "KS91_K562_hg38_ASTARRseq_Output_rep2.f3q10.sorted.with_umis.dedup.corrected.cpm.bw\n",
      "KS91_K562_hg38_ASTARRseq_Output_rep2.f3q10.sorted.with_umis.dedup.cpm.bw\n",
      "KS91_K562_hg38_ASTARRseq_Output_rep2.f3q10.sorted.with_umis.dups_included.cpm.bw\n",
      "KS91_K562_hg38_ASTARRseq_Output_rep2.f3q10.sorted.with_umis.dups_marked.cpm.bw\n",
      "KS91_K562_hg38_ASTARRseq_Output_rep2.input_subtracted.bw\n",
      "KS91_K562_hg38_ASTARRseq_Output_rep2.input_subtracted.pseudo_10.bw\n",
      "KS91_K562_hg38_ASTARRseq_Output_rep2.log2.pseudo_10.bw\n"
     ]
    }
   ],
   "source": [
    "ls ${FD_WGS_ASTARR_KS91_OUT}/*Output_rep2.*.bw | xargs -n 1 basename"
   ]
  },
  {
   "cell_type": "code",
   "execution_count": 18,
   "id": "36beb785-dde8-4ba5-b672-33e01b2e12bd",
   "metadata": {},
   "outputs": [
    {
     "name": "stdout",
     "output_type": "stream",
     "text": [
      "KS91_K562_hg38_ASTARRseq_Output_rep1.f3q10.sorted.with_umis.dedup.cpm.bw\n",
      "KS91_K562_hg38_ASTARRseq_Output_rep2.f3q10.sorted.with_umis.dedup.corrected.cpm.bw\n",
      "KS91_K562_hg38_ASTARRseq_Output_rep2.f3q10.sorted.with_umis.dedup.cpm.bw\n",
      "KS91_K562_hg38_ASTARRseq_Output_rep3.f3q10.sorted.with_umis.dedup.cpm.bw\n",
      "KS91_K562_hg38_ASTARRseq_Output_rep4.f3q10.sorted.with_umis.dedup.corrected.cpm.bw\n",
      "KS91_K562_hg38_ASTARRseq_Output_rep4.f3q10.sorted.with_umis.dedup.cpm.bw\n",
      "KS91_K562_hg38_ASTARRseq_Output_rep5.f3q10.sorted.with_umis.dedup.cpm.bw\n",
      "KS91_K562_hg38_ASTARRseq_Output_rep6.f3q10.sorted.with_umis.dedup.cpm.bw\n"
     ]
    }
   ],
   "source": [
    "ls ${FD_WGS_ASTARR_KS91_OUT}/*Output*.with_umis.dedup.*.bw | xargs -n 1 basename"
   ]
  },
  {
   "cell_type": "markdown",
   "id": "6eb74326-5d71-4c09-a517-8807dafaa6db",
   "metadata": {},
   "source": [
    "### ASTARR Output (KS274)"
   ]
  },
  {
   "cell_type": "markdown",
   "id": "67606854-8364-4877-8dc6-f679122cb9bc",
   "metadata": {},
   "source": [
    "**Fragments**"
   ]
  },
  {
   "cell_type": "code",
   "execution_count": 19,
   "id": "c44abab0-0e88-4491-ac07-600dbb5ac191",
   "metadata": {},
   "outputs": [
    {
     "name": "stdout",
     "output_type": "stream",
     "text": [
      "K562_ASTARR_repeat_rep1.bowtie2.log\n",
      "K562_ASTARR_repeat_rep1.f3q10.fragments.bedpe\n",
      "K562_ASTARR_repeat_rep1.f3q10.sorted.preseq_ccurve.txt.preseq_c_curve.txt\n",
      "K562_ASTARR_repeat_rep1.f3q10.sorted.with_umis.dedup.raw.bw\n",
      "K562_ASTARR_repeat_rep1.f3q10.sorted.with_umis.dedup.rpkm.bw\n",
      "K562_ASTARR_repeat_rep1.f3q10.sorted.with_umis.dups_marked.bam\n",
      "K562_ASTARR_repeat_rep1.f3q10.sorted.with_umis.dups_marked.bam.bai\n",
      "K562_ASTARR_repeat_rep1.f3q10.sorted.with_umis.dups_marked.dedup_metrics.txt\n",
      "K562_ASTARR_repeat_rep1.f3q10.sorted.with_umis.rpkm.bw\n",
      "K562_ASTARR_repeat_rep1.R1.custom_adapters.fasta\n"
     ]
    }
   ],
   "source": [
    "ls ${FD_WGS_ASTARR_KS274_OUT}/K562* | head -n 10 | xargs -n 1 basename"
   ]
  },
  {
   "cell_type": "code",
   "execution_count": 20,
   "id": "7c86f266-40e8-4fdf-90ed-87fa9c31c6d9",
   "metadata": {},
   "outputs": [
    {
     "name": "stdout",
     "output_type": "stream",
     "text": [
      "K562_ASTARR_repeat_rep1.f3q10.fragments.bedpe\n",
      "K562_ASTARR_repeat_rep2.f3q10.fragments.bedpe\n",
      "K562_ASTARR_repeat_rep3.f3q10.fragments.bedpe\n"
     ]
    }
   ],
   "source": [
    "ls ${FD_WGS_ASTARR_KS274_OUT}/K562*.fragments.bedpe | xargs -n 1 basename"
   ]
  },
  {
   "cell_type": "markdown",
   "id": "8277c3d7-dbbd-443c-8280-0a5184c31cf1",
   "metadata": {},
   "source": [
    "**BigWig**"
   ]
  },
  {
   "cell_type": "code",
   "execution_count": 21,
   "id": "f6e15ac0-c9d9-4aeb-a8e7-db1ccfec7711",
   "metadata": {},
   "outputs": [
    {
     "name": "stdout",
     "output_type": "stream",
     "text": [
      "K562_ASTARR_repeat_rep1.f3q10.sorted.with_umis.dedup.raw.bw\n",
      "K562_ASTARR_repeat_rep1.f3q10.sorted.with_umis.dedup.rpkm.bw\n",
      "K562_ASTARR_repeat_rep1.f3q10.sorted.with_umis.rpkm.bw\n",
      "K562_ASTARR_repeat_rep2.f3q10.sorted.with_umis.dedup.raw.bw\n",
      "K562_ASTARR_repeat_rep2.f3q10.sorted.with_umis.dedup.rpkm.bw\n",
      "K562_ASTARR_repeat_rep2.f3q10.sorted.with_umis.rpkm.bw\n",
      "K562_ASTARR_repeat_rep3.f3q10.sorted.with_umis.dedup.raw.bw\n",
      "K562_ASTARR_repeat_rep3.f3q10.sorted.with_umis.dedup.rpkm.bw\n",
      "K562_ASTARR_repeat_rep3.f3q10.sorted.with_umis.rpkm.bw\n"
     ]
    }
   ],
   "source": [
    "ls ${FD_WGS_ASTARR_KS274_OUT}/K562*bw | xargs -n 1 basename"
   ]
  },
  {
   "cell_type": "code",
   "execution_count": 22,
   "id": "0fc8435c-a99b-4156-8409-e3300f06b296",
   "metadata": {},
   "outputs": [
    {
     "name": "stdout",
     "output_type": "stream",
     "text": [
      "K562_ASTARR_repeat_rep1.f3q10.sorted.with_umis.dedup.rpkm.bw\n",
      "K562_ASTARR_repeat_rep2.f3q10.sorted.with_umis.dedup.rpkm.bw\n",
      "K562_ASTARR_repeat_rep3.f3q10.sorted.with_umis.dedup.rpkm.bw\n"
     ]
    }
   ],
   "source": [
    "ls ${FD_WGS_ASTARR_KS274_OUT}/K562*.with_umis.dedup.rpkm.bw | xargs -n 1 basename"
   ]
  },
  {
   "cell_type": "markdown",
   "id": "c609d5f0-8317-477f-9a25-02db22a9cd53",
   "metadata": {},
   "source": [
    "## WSTARR"
   ]
  },
  {
   "cell_type": "code",
   "execution_count": 23,
   "id": "ba032191-51c0-4b7f-a64d-e19e0b54aab7",
   "metadata": {},
   "outputs": [],
   "source": [
    "### whole genome fragment counts of WHG-STARR\n",
    "FD_WGS_WSTARR=${FD_ALEX}/encode4_duke/data/starr_seq"
   ]
  },
  {
   "cell_type": "code",
   "execution_count": 24,
   "id": "656282ef-5228-4bb0-b91b-217800e6048b",
   "metadata": {},
   "outputs": [
    {
     "name": "stdout",
     "output_type": "stream",
     "text": [
      "\u001b[0m\u001b[38;5;27mfragments\u001b[0m  \u001b[38;5;27mmetadata\u001b[0m  \u001b[38;5;27mmotifs\u001b[0m  \u001b[38;5;27mpeaks\u001b[0m  \u001b[38;5;27mprocessed_raw_reads\u001b[0m  \u001b[38;5;27mqc\u001b[0m  \u001b[38;5;27mraw_reads\u001b[0m\n"
     ]
    }
   ],
   "source": [
    "ls ${FD_WGS_WSTARR}"
   ]
  },
  {
   "cell_type": "markdown",
   "id": "d00fbf30-52b1-44f7-8113-f4c2c7c1ca0f",
   "metadata": {},
   "source": [
    "**Fragments**"
   ]
  },
  {
   "cell_type": "code",
   "execution_count": 25,
   "id": "d6dfc58a-5b34-4c5c-aae0-564a6e60ffd3",
   "metadata": {},
   "outputs": [
    {
     "name": "stdout",
     "output_type": "stream",
     "text": [
      "A001-input-K562-rep1.masked.dedup.fragments.counts.txt.gz\n",
      "A001-input-K562-rep2.masked.dedup.fragments.counts.txt.gz\n",
      "A001-input-K562-rep3.masked.dedup.fragments.counts.txt.gz\n",
      "A001-input-K562-rep4.masked.dedup.fragments.counts.txt.gz\n",
      "A001-K562-rep1.masked.dedup.fragments.counts.txt.gz\n",
      "A001-K562-rep2.masked.dedup.fragments.counts.txt.gz\n",
      "A001-K562-rep3.masked.dedup.fragments.counts.txt.gz\n"
     ]
    }
   ],
   "source": [
    "ls ${FD_WGS_WSTARR}/fragments/*.fragments.counts.txt.gz | xargs -n 1 basename"
   ]
  },
  {
   "cell_type": "markdown",
   "id": "b3ada1c8-4a77-48cc-b314-14972d799b6e",
   "metadata": {},
   "source": [
    "**BigWig**"
   ]
  },
  {
   "cell_type": "code",
   "execution_count": 26,
   "id": "96f2d1ce-8e81-405c-ba07-93aa682faa69",
   "metadata": {},
   "outputs": [
    {
     "name": "stdout",
     "output_type": "stream",
     "text": [
      "qc.txt\n",
      "rep1.bowtie2.log\n",
      "rep1.f3q10.fragments.bedpe\n",
      "rep1.f3q10.sorted.dedup.raw.bw\n",
      "rep1.f3q10.sorted.dedup.rpkm.bw\n",
      "rep1.f3q10.sorted.dups_marked.bam\n",
      "rep1.f3q10.sorted.dups_marked.bam.bai\n",
      "rep1.f3q10.sorted.dups_marked.dedup_metrics.txt\n",
      "rep1.f3q10.sorted.preseq_ccurve.txt.preseq_c_curve.txt\n",
      "rep1.f3q10.sorted.rpkm.bw\n",
      "rep1.R1.custom_adapters.fasta\n",
      "rep1.R1.fastqc_data.txt\n",
      "rep1.R1_fastqc.zip\n",
      "rep1.R1.read_count.txt\n",
      "rep1.R1.trimmed.fastq.gz\n",
      "rep1.R1.trimmed.read_count.txt\n",
      "rep1.R2.custom_adapters.fasta\n",
      "rep1.R2.fastqc_data.txt\n",
      "rep1.R2_fastqc.zip\n",
      "rep1.R2.read_count.txt\n"
     ]
    }
   ],
   "source": [
    "ls ${FD_WGS_WSTARR_INP_BAM} | head -n 20"
   ]
  },
  {
   "cell_type": "code",
   "execution_count": 27,
   "id": "2192fe1f-bb38-42d2-8a1b-9d2b71827397",
   "metadata": {},
   "outputs": [
    {
     "name": "stdout",
     "output_type": "stream",
     "text": [
      "rep1.f3q10.sorted.dedup.raw.bw\n",
      "rep1.f3q10.sorted.dedup.rpkm.bw\n",
      "rep1.f3q10.sorted.rpkm.bw\n",
      "rep2.f3q10.sorted.dedup.raw.bw\n",
      "rep2.f3q10.sorted.dedup.rpkm.bw\n",
      "rep2.f3q10.sorted.rpkm.bw\n",
      "rep3.f3q10.sorted.dedup.raw.bw\n",
      "rep3.f3q10.sorted.dedup.rpkm.bw\n",
      "rep3.f3q10.sorted.rpkm.bw\n",
      "rep4.f3q10.sorted.dedup.raw.bw\n",
      "rep4.f3q10.sorted.dedup.rpkm.bw\n",
      "rep4.f3q10.sorted.rpkm.bw\n"
     ]
    }
   ],
   "source": [
    "ls ${FD_WGS_WSTARR_INP_BAM}/*bw | xargs -n 1 basename"
   ]
  },
  {
   "cell_type": "code",
   "execution_count": 28,
   "id": "13f5d0b2-2c7b-4ffe-8274-4a58a3bf60da",
   "metadata": {},
   "outputs": [
    {
     "name": "stdout",
     "output_type": "stream",
     "text": [
      "rep1.f3q10.sorted.dedup.rpkm.bw\n",
      "rep2.f3q10.sorted.dedup.rpkm.bw\n",
      "rep3.f3q10.sorted.dedup.rpkm.bw\n",
      "rep4.f3q10.sorted.dedup.rpkm.bw\n"
     ]
    }
   ],
   "source": [
    "ls ${FD_WGS_WSTARR_INP_BAM}/*.dedup.rpkm.bw | xargs -n 1 basename"
   ]
  },
  {
   "cell_type": "code",
   "execution_count": 29,
   "id": "2723e8b5-4cdb-43b1-b69d-e41699ccc80b",
   "metadata": {},
   "outputs": [
    {
     "name": "stdout",
     "output_type": "stream",
     "text": [
      "A001-K562-rep1.f3q10.sorted.dedup.raw.bw\n",
      "A001-K562-rep1.f3q10.sorted.dedup.rpkm.bw\n",
      "A001-K562-rep1.f3q10.sorted.rpkm.bw\n"
     ]
    }
   ],
   "source": [
    "ls ${FD_WGS_WSTARR_OUT_BAM_rep01}/*bw | xargs -n 1 basename"
   ]
  },
  {
   "cell_type": "code",
   "execution_count": 30,
   "id": "eced4d0b-15fc-41dc-81e5-47f2554e1f75",
   "metadata": {},
   "outputs": [
    {
     "name": "stdout",
     "output_type": "stream",
     "text": [
      "A001-K562-rep2.f3q10.sorted.dedup.raw.bw\n",
      "A001-K562-rep2.f3q10.sorted.dedup.rpkm.bw\n",
      "A001-K562-rep2.f3q10.sorted.rpkm.bw\n",
      "A001-K562-rep3.f3q10.sorted.dedup.raw.bw\n",
      "A001-K562-rep3.f3q10.sorted.dedup.rpkm.bw\n",
      "A001-K562-rep3.f3q10.sorted.rpkm.bw\n"
     ]
    }
   ],
   "source": [
    "ls ${FD_WGS_WSTARR_OUT_BAM_rep23}/*bw | xargs -n 1 basename"
   ]
  },
  {
   "cell_type": "code",
   "execution_count": 31,
   "id": "7cc19ca1-a2fd-4238-81d4-5de08a8dd3e5",
   "metadata": {},
   "outputs": [
    {
     "name": "stdout",
     "output_type": "stream",
     "text": [
      "/data/reddylab/kstrouse/superstarr/output_libs/A001_K562/A001_K562_20201124/combined_reads/processing/starr_seq/A001_K562_20201124_combined-pe/A001-K562-rep1.f3q10.sorted.dedup.rpkm.bw\n",
      "/data/reddylab/kstrouse/superstarr/output_libs/A001_K562/A001_K562_20210213/processing/starr_seq/Strouse_6825_210223A5-pe/A001-K562-rep2.f3q10.sorted.dedup.rpkm.bw\n",
      "/data/reddylab/kstrouse/superstarr/output_libs/A001_K562/A001_K562_20210213/processing/starr_seq/Strouse_6825_210223A5-pe/A001-K562-rep3.f3q10.sorted.dedup.rpkm.bw\n"
     ]
    }
   ],
   "source": [
    "FPATHS1=($(ls ${FD_WGS_WSTARR_OUT_BAM_rep01}/*.dedup.rpkm.bw))\n",
    "FPATHS2=($(ls ${FD_WGS_WSTARR_OUT_BAM_rep23}/*.dedup.rpkm.bw))\n",
    "FPATHS=(\"${FPATHS1[@]}\" \"${FPATHS2[@]}\")\n",
    "\n",
    "for FPATH in ${FPATHS[@]}; do\n",
    "    echo ${FPATH}\n",
    "done"
   ]
  },
  {
   "cell_type": "code",
   "execution_count": 32,
   "id": "76348186-01f0-4134-b213-ecad17c126c0",
   "metadata": {},
   "outputs": [
    {
     "name": "stdout",
     "output_type": "stream",
     "text": [
      "A001-K562-rep1.f3q10.sorted.dedup.rpkm.bw\n",
      "A001-K562-rep2.f3q10.sorted.dedup.rpkm.bw\n",
      "A001-K562-rep3.f3q10.sorted.dedup.rpkm.bw\n"
     ]
    }
   ],
   "source": [
    "basename -a ${FPATHS[@]}"
   ]
  },
  {
   "cell_type": "code",
   "execution_count": null,
   "id": "703aec68-85e8-4ced-a813-15b068edf261",
   "metadata": {},
   "outputs": [],
   "source": []
  },
  {
   "cell_type": "code",
   "execution_count": null,
   "id": "f397bfa2-0537-40a9-9b34-c356d4352369",
   "metadata": {},
   "outputs": [],
   "source": []
  },
  {
   "cell_type": "code",
   "execution_count": 8,
   "id": "b5420cc1-d66c-4784-9c1d-07c900e3b849",
   "metadata": {},
   "outputs": [
    {
     "name": "stdout",
     "output_type": "stream",
     "text": [
      "/data/reddylab/Kuei/repo/Proj_CombEffect_ENCODE_FCC/data\n",
      "\u001b[0m\u001b[38;5;9mKS91_K562_hg38_ASTARRseq_Input_rep1.masked.dedup.fragments.counts.txt.gz\u001b[0m\n",
      "\u001b[38;5;9mKS91_K562_hg38_ASTARRseq_Input_rep2.masked.dedup.fragments.counts.txt.gz\u001b[0m\n",
      "\u001b[38;5;9mKS91_K562_hg38_ASTARRseq_Input_rep3.masked.dedup.fragments.counts.txt.gz\u001b[0m\n",
      "\u001b[38;5;9mKS91_K562_hg38_ASTARRseq_Input_rep4.masked.dedup.fragments.counts.txt.gz\u001b[0m\n",
      "\u001b[38;5;9mKS91_K562_hg38_ASTARRseq_Input_rep5.masked.dedup.fragments.counts.txt.gz\u001b[0m\n",
      "\u001b[38;5;9mKS91_K562_hg38_ASTARRseq_Input_rep6.masked.dedup.fragments.counts.txt.gz\u001b[0m\n",
      "\u001b[38;5;9mKS91_K562_hg38_ASTARRseq_Output_rep1.f3q10.fragments.counts.txt.gz\u001b[0m\n",
      "\u001b[38;5;9mKS91_K562_hg38_ASTARRseq_Output_rep2.f3q10.fragments.counts.txt.gz\u001b[0m\n",
      "\u001b[38;5;9mKS91_K562_hg38_ASTARRseq_Output_rep3.f3q10.fragments.counts.txt.gz\u001b[0m\n",
      "\u001b[38;5;9mKS91_K562_hg38_ASTARRseq_Output_rep4.f3q10.fragments.counts.txt.gz\u001b[0m\n"
     ]
    }
   ],
   "source": [
    "echo ${FD_DAT}\n",
    "ls   ${FD_DAT}/processed/KS91_K562_hg38_ASTARRseq_210401/fragments"
   ]
  },
  {
   "cell_type": "code",
   "execution_count": 16,
   "id": "71197d07-3f1c-4dc0-acd9-9bb3866b4b76",
   "metadata": {},
   "outputs": [
    {
     "name": "stdout",
     "output_type": "stream",
     "text": [
      "/data/reddylab/Alex/encode4_duke/processing/atac_seq/210401_KS91_K562ASTARR_NovaSeq.hg38-pe-blacklist-removal/merged2\n",
      "\u001b[0m\u001b[38;5;27mfragments\u001b[0m\n",
      "\u001b[38;5;9mKS91_K562_hg38_ASTARRseq_Input_rep1.masked.dedup.fragments.bedpe.gz\u001b[0m\n",
      "\u001b[38;5;9mKS91_K562_hg38_ASTARRseq_Input_rep1.masked.dedup.fragments.counts.txt.gz\u001b[0m\n",
      "KS91_K562_hg38_ASTARRseq_Input_rep1.masked.dups_marked.sorted.bam\n",
      "KS91_K562_hg38_ASTARRseq_Input_rep1.masked.dups_marked.sorted.bam.bai\n",
      "KS91_K562_hg38_ASTARRseq_Input_rep1.masked.exclude_dups.cpm.bw\n",
      "\u001b[38;5;9mKS91_K562_hg38_ASTARRseq_Input_rep2.masked.dedup.fragments.bedpe.gz\u001b[0m\n",
      "\u001b[38;5;9mKS91_K562_hg38_ASTARRseq_Input_rep2.masked.dedup.fragments.counts.txt.gz\u001b[0m\n",
      "KS91_K562_hg38_ASTARRseq_Input_rep2.masked.dups_marked.sorted.bam\n",
      "KS91_K562_hg38_ASTARRseq_Input_rep2.masked.dups_marked.sorted.bam.bai\n",
      "KS91_K562_hg38_ASTARRseq_Input_rep2.masked.exclude_dups.cpm.bw\n",
      "\u001b[38;5;9mKS91_K562_hg38_ASTARRseq_Input_rep3.masked.dedup.fragments.bedpe.gz\u001b[0m\n",
      "\u001b[38;5;9mKS91_K562_hg38_ASTARRseq_Input_rep3.masked.dedup.fragments.counts.txt.gz\u001b[0m\n",
      "KS91_K562_hg38_ASTARRseq_Input_rep3.masked.dups_marked.sorted.bam\n",
      "KS91_K562_hg38_ASTARRseq_Input_rep3.masked.dups_marked.sorted.bam.bai\n",
      "KS91_K562_hg38_ASTARRseq_Input_rep3.masked.exclude_dups.cpm.bw\n",
      "\u001b[38;5;9mKS91_K562_hg38_ASTARRseq_Input_rep4.masked.dedup.fragments.bedpe.gz\u001b[0m\n",
      "\u001b[38;5;9mKS91_K562_hg38_ASTARRseq_Input_rep4.masked.dedup.fragments.counts.txt.gz\u001b[0m\n",
      "KS91_K562_hg38_ASTARRseq_Input_rep4.masked.dups_marked.sorted.bam\n",
      "KS91_K562_hg38_ASTARRseq_Input_rep4.masked.dups_marked.sorted.bam.bai\n",
      "KS91_K562_hg38_ASTARRseq_Input_rep4.masked.exclude_dups.cpm.bw\n",
      "\u001b[38;5;9mKS91_K562_hg38_ASTARRseq_Input_rep5.masked.dedup.fragments.bedpe.gz\u001b[0m\n",
      "\u001b[38;5;9mKS91_K562_hg38_ASTARRseq_Input_rep5.masked.dedup.fragments.counts.txt.gz\u001b[0m\n",
      "KS91_K562_hg38_ASTARRseq_Input_rep5.masked.dups_marked.sorted.bam\n",
      "KS91_K562_hg38_ASTARRseq_Input_rep5.masked.dups_marked.sorted.bam.bai\n",
      "KS91_K562_hg38_ASTARRseq_Input_rep5.masked.exclude_dups.cpm.bw\n",
      "\u001b[38;5;9mKS91_K562_hg38_ASTARRseq_Input_rep6.masked.dedup.fragments.bedpe.gz\u001b[0m\n",
      "\u001b[38;5;9mKS91_K562_hg38_ASTARRseq_Input_rep6.masked.dedup.fragments.counts.txt.gz\u001b[0m\n",
      "KS91_K562_hg38_ASTARRseq_Input_rep6.masked.dups_marked.sorted.bam\n",
      "KS91_K562_hg38_ASTARRseq_Input_rep6.masked.dups_marked.sorted.bam.bai\n",
      "KS91_K562_hg38_ASTARRseq_Input_rep6.masked.exclude_dups.cpm.bw\n"
     ]
    }
   ],
   "source": [
    "echo ${FD_WGS_ASTARR_INP_KS91}/merged2\n",
    "ls   ${FD_WGS_ASTARR_INP_KS91}/merged2"
   ]
  },
  {
   "cell_type": "code",
   "execution_count": 21,
   "id": "135ae2ce-46da-44a7-b96d-696e6a5e1a45",
   "metadata": {},
   "outputs": [
    {
     "name": "stdout",
     "output_type": "stream",
     "text": [
      "\u001b[0m\u001b[38;5;9mKS91_K562_hg38_ASTARRseq_Input_rep1.masked.dedup.fragments.counts.txt.gz\u001b[0m\n",
      "KS91_K562_hg38_ASTARRseq_Input_rep1.masked.exclude_dups.cpm.bw\n",
      "\u001b[38;5;9mKS91_K562_hg38_ASTARRseq_Input_rep2.masked.dedup.fragments.counts.txt.gz\u001b[0m\n",
      "KS91_K562_hg38_ASTARRseq_Input_rep2.masked.exclude_dups.cpm.bw\n",
      "\u001b[38;5;9mKS91_K562_hg38_ASTARRseq_Input_rep3.masked.dedup.fragments.counts.txt.gz\u001b[0m\n",
      "\u001b[38;5;9mKS91_K562_hg38_ASTARRseq_Input_rep4.masked.dedup.fragments.counts.txt.gz\u001b[0m\n",
      "\u001b[38;5;9mKS91_K562_hg38_ASTARRseq_Input_rep5.masked.dedup.fragments.counts.txt.gz\u001b[0m\n",
      "\u001b[38;5;9mKS91_K562_hg38_ASTARRseq_Input_rep6.masked.dedup.fragments.counts.txt.gz\u001b[0m\n",
      "\u001b[38;5;9mKS91_K562_hg38_ASTARRseq_Output_rep1.f3q10.fragments.counts.txt.gz\u001b[0m\n",
      "\u001b[38;5;9mKS91_K562_hg38_ASTARRseq_Output_rep2.f3q10.fragments.counts.txt.gz\u001b[0m\n",
      "\u001b[38;5;9mKS91_K562_hg38_ASTARRseq_Output_rep3.f3q10.fragments.counts.txt.gz\u001b[0m\n",
      "\u001b[38;5;9mKS91_K562_hg38_ASTARRseq_Output_rep4.f3q10.fragments.counts.txt.gz\u001b[0m\n"
     ]
    }
   ],
   "source": [
    "ls ${FD_DAT}/processed/KS91_K562_hg38_ASTARRseq_210401/fragments"
   ]
  },
  {
   "cell_type": "code",
   "execution_count": 4,
   "id": "51762d06-c9ed-48d2-96bb-2ea92db3500f",
   "metadata": {},
   "outputs": [
    {
     "name": "stdout",
     "output_type": "stream",
     "text": [
      "240314_50bp_25step_Th1_windowCounts.RData\n",
      "K562_ASTARR_repeat_rep1.bowtie2.log\n",
      "K562_ASTARR_repeat_rep1.f3q10.fragments.bedpe\n",
      "K562_ASTARR_repeat_rep1.f3q10.sorted.preseq_ccurve.txt.preseq_c_curve.txt\n",
      "K562_ASTARR_repeat_rep1.f3q10.sorted.with_umis.dedup.raw.bw\n",
      "K562_ASTARR_repeat_rep1.f3q10.sorted.with_umis.dedup.rpkm.bw\n",
      "K562_ASTARR_repeat_rep1.f3q10.sorted.with_umis.dups_marked.bam\n",
      "K562_ASTARR_repeat_rep1.f3q10.sorted.with_umis.dups_marked.bam.bai\n",
      "K562_ASTARR_repeat_rep1.f3q10.sorted.with_umis.dups_marked.dedup_metrics.txt\n",
      "K562_ASTARR_repeat_rep1.f3q10.sorted.with_umis.rpkm.bw\n",
      "K562_ASTARR_repeat_rep1.R1.custom_adapters.fasta\n",
      "K562_ASTARR_repeat_rep1.R1.fastqc_data.txt\n",
      "\u001b[0m\u001b[38;5;9mK562_ASTARR_repeat_rep1.R1_fastqc.zip\u001b[0m\n",
      "K562_ASTARR_repeat_rep1.R1.read_count.txt\n",
      "\u001b[38;5;9mK562_ASTARR_repeat_rep1.R1.trimmed.fastq.gz\u001b[0m\n",
      "K562_ASTARR_repeat_rep1.R1.trimmed.read_count.txt\n",
      "K562_ASTARR_repeat_rep1.R2.custom_adapters.fasta\n",
      "K562_ASTARR_repeat_rep1.R2.fastqc_data.txt\n",
      "\u001b[38;5;9mK562_ASTARR_repeat_rep1.R2_fastqc.zip\u001b[0m\n",
      "K562_ASTARR_repeat_rep1.R2.read_count.txt\n",
      "\u001b[38;5;9mK562_ASTARR_repeat_rep1.R2.trimmed.fastq.gz\u001b[0m\n",
      "K562_ASTARR_repeat_rep1.R2.trimmed.fastq.read_count.txt\n",
      "\u001b[38;5;9mK562_ASTARR_repeat_rep1.unmmaped.fastq.gz\u001b[0m\n",
      "K562_ASTARR_repeat_rep2.bowtie2.log\n",
      "K562_ASTARR_repeat_rep2.f3q10.fragments.bedpe\n",
      "K562_ASTARR_repeat_rep2.f3q10.sorted.preseq_ccurve.txt.preseq_c_curve.txt\n",
      "K562_ASTARR_repeat_rep2.f3q10.sorted.with_umis.dedup.raw.bw\n",
      "K562_ASTARR_repeat_rep2.f3q10.sorted.with_umis.dedup.rpkm.bw\n",
      "K562_ASTARR_repeat_rep2.f3q10.sorted.with_umis.dups_marked.bam\n",
      "K562_ASTARR_repeat_rep2.f3q10.sorted.with_umis.dups_marked.bam.bai\n",
      "K562_ASTARR_repeat_rep2.f3q10.sorted.with_umis.dups_marked.dedup_metrics.txt\n",
      "K562_ASTARR_repeat_rep2.f3q10.sorted.with_umis.rpkm.bw\n",
      "K562_ASTARR_repeat_rep2.R1.custom_adapters.fasta\n",
      "K562_ASTARR_repeat_rep2.R1.fastqc_data.txt\n",
      "\u001b[38;5;9mK562_ASTARR_repeat_rep2.R1_fastqc.zip\u001b[0m\n",
      "K562_ASTARR_repeat_rep2.R1.read_count.txt\n",
      "\u001b[38;5;9mK562_ASTARR_repeat_rep2.R1.trimmed.fastq.gz\u001b[0m\n",
      "K562_ASTARR_repeat_rep2.R1.trimmed.read_count.txt\n",
      "K562_ASTARR_repeat_rep2.R2.custom_adapters.fasta\n",
      "K562_ASTARR_repeat_rep2.R2.fastqc_data.txt\n",
      "\u001b[38;5;9mK562_ASTARR_repeat_rep2.R2_fastqc.zip\u001b[0m\n",
      "K562_ASTARR_repeat_rep2.R2.read_count.txt\n",
      "\u001b[38;5;9mK562_ASTARR_repeat_rep2.R2.trimmed.fastq.gz\u001b[0m\n",
      "K562_ASTARR_repeat_rep2.R2.trimmed.fastq.read_count.txt\n",
      "\u001b[38;5;9mK562_ASTARR_repeat_rep2.unmmaped.fastq.gz\u001b[0m\n",
      "K562_ASTARR_repeat_rep3.bowtie2.log\n",
      "K562_ASTARR_repeat_rep3.f3q10.fragments.bedpe\n",
      "K562_ASTARR_repeat_rep3.f3q10.sorted.preseq_ccurve.txt.preseq_c_curve.txt\n",
      "K562_ASTARR_repeat_rep3.f3q10.sorted.with_umis.dedup.raw.bw\n",
      "K562_ASTARR_repeat_rep3.f3q10.sorted.with_umis.dedup.rpkm.bw\n",
      "K562_ASTARR_repeat_rep3.f3q10.sorted.with_umis.dups_marked.bam\n",
      "K562_ASTARR_repeat_rep3.f3q10.sorted.with_umis.dups_marked.bam.bai\n",
      "K562_ASTARR_repeat_rep3.f3q10.sorted.with_umis.dups_marked.dedup_metrics.txt\n",
      "K562_ASTARR_repeat_rep3.f3q10.sorted.with_umis.rpkm.bw\n",
      "K562_ASTARR_repeat_rep3.R1.custom_adapters.fasta\n",
      "K562_ASTARR_repeat_rep3.R1.fastqc_data.txt\n",
      "\u001b[38;5;9mK562_ASTARR_repeat_rep3.R1_fastqc.zip\u001b[0m\n",
      "K562_ASTARR_repeat_rep3.R1.read_count.txt\n",
      "\u001b[38;5;9mK562_ASTARR_repeat_rep3.R1.trimmed.fastq.gz\u001b[0m\n",
      "K562_ASTARR_repeat_rep3.R1.trimmed.read_count.txt\n",
      "K562_ASTARR_repeat_rep3.R2.custom_adapters.fasta\n",
      "K562_ASTARR_repeat_rep3.R2.fastqc_data.txt\n",
      "\u001b[38;5;9mK562_ASTARR_repeat_rep3.R2_fastqc.zip\u001b[0m\n",
      "K562_ASTARR_repeat_rep3.R2.read_count.txt\n",
      "\u001b[38;5;9mK562_ASTARR_repeat_rep3.R2.trimmed.fastq.gz\u001b[0m\n",
      "K562_ASTARR_repeat_rep3.R2.trimmed.fastq.read_count.txt\n",
      "\u001b[38;5;9mK562_ASTARR_repeat_rep3.unmmaped.fastq.gz\u001b[0m\n",
      "KS258_Th1_ASTARR_Pooled_Output_rep1.bowtie2.log\n",
      "KS258_Th1_ASTARR_Pooled_Output_rep1.f3q10.fragments.bedpe\n",
      "KS258_Th1_ASTARR_Pooled_Output_rep1.f3q10.sorted.preseq_ccurve.txt.preseq_c_curve.txt\n",
      "KS258_Th1_ASTARR_Pooled_Output_rep1.f3q10.sorted.with_umis.dedup.raw.bw\n",
      "KS258_Th1_ASTARR_Pooled_Output_rep1.f3q10.sorted.with_umis.dedup.rpkm.bw\n",
      "KS258_Th1_ASTARR_Pooled_Output_rep1.f3q10.sorted.with_umis.dups_marked.bam\n",
      "KS258_Th1_ASTARR_Pooled_Output_rep1.f3q10.sorted.with_umis.dups_marked.bam.bai\n",
      "KS258_Th1_ASTARR_Pooled_Output_rep1.f3q10.sorted.with_umis.dups_marked.dedup_metrics.txt\n",
      "KS258_Th1_ASTARR_Pooled_Output_rep1.f3q10.sorted.with_umis.rpkm.bw\n",
      "KS258_Th1_ASTARR_Pooled_Output_rep1.R1.custom_adapters.fasta\n",
      "KS258_Th1_ASTARR_Pooled_Output_rep1.R1.fastqc_data.txt\n",
      "\u001b[38;5;9mKS258_Th1_ASTARR_Pooled_Output_rep1.R1_fastqc.zip\u001b[0m\n",
      "KS258_Th1_ASTARR_Pooled_Output_rep1.R1.read_count.txt\n",
      "\u001b[38;5;9mKS258_Th1_ASTARR_Pooled_Output_rep1.R1.trimmed.fastq.gz\u001b[0m\n",
      "KS258_Th1_ASTARR_Pooled_Output_rep1.R1.trimmed.read_count.txt\n",
      "KS258_Th1_ASTARR_Pooled_Output_rep1.R2.custom_adapters.fasta\n",
      "KS258_Th1_ASTARR_Pooled_Output_rep1.R2.fastqc_data.txt\n",
      "\u001b[38;5;9mKS258_Th1_ASTARR_Pooled_Output_rep1.R2_fastqc.zip\u001b[0m\n",
      "KS258_Th1_ASTARR_Pooled_Output_rep1.R2.read_count.txt\n",
      "\u001b[38;5;9mKS258_Th1_ASTARR_Pooled_Output_rep1.R2.trimmed.fastq.gz\u001b[0m\n",
      "KS258_Th1_ASTARR_Pooled_Output_rep1.R2.trimmed.fastq.read_count.txt\n",
      "\u001b[38;5;9mKS258_Th1_ASTARR_Pooled_Output_rep1.unmmaped.fastq.gz\u001b[0m\n",
      "KS275_Th17_ASTARR_Th17inp_Output_rep1.bowtie2.log\n",
      "KS275_Th17_ASTARR_Th17inp_Output_rep1.f3q10.fragments.bedpe\n",
      "KS275_Th17_ASTARR_Th17inp_Output_rep1.f3q10.sorted.preseq_ccurve.txt.preseq_c_curve.txt\n",
      "KS275_Th17_ASTARR_Th17inp_Output_rep1.f3q10.sorted.with_umis.dedup.raw.bw\n",
      "KS275_Th17_ASTARR_Th17inp_Output_rep1.f3q10.sorted.with_umis.dedup.rpkm.bw\n",
      "KS275_Th17_ASTARR_Th17inp_Output_rep1.f3q10.sorted.with_umis.dups_marked.bam\n",
      "KS275_Th17_ASTARR_Th17inp_Output_rep1.f3q10.sorted.with_umis.dups_marked.bam.bai\n",
      "KS275_Th17_ASTARR_Th17inp_Output_rep1.f3q10.sorted.with_umis.dups_marked.dedup_metrics.txt\n",
      "KS275_Th17_ASTARR_Th17inp_Output_rep1.f3q10.sorted.with_umis.rpkm.bw\n",
      "KS275_Th17_ASTARR_Th17inp_Output_rep1.R1.custom_adapters.fasta\n",
      "KS275_Th17_ASTARR_Th17inp_Output_rep1.R1.fastqc_data.txt\n",
      "\u001b[38;5;9mKS275_Th17_ASTARR_Th17inp_Output_rep1.R1_fastqc.zip\u001b[0m\n",
      "KS275_Th17_ASTARR_Th17inp_Output_rep1.R1.read_count.txt\n",
      "\u001b[38;5;9mKS275_Th17_ASTARR_Th17inp_Output_rep1.R1.trimmed.fastq.gz\u001b[0m\n",
      "KS275_Th17_ASTARR_Th17inp_Output_rep1.R1.trimmed.read_count.txt\n",
      "KS275_Th17_ASTARR_Th17inp_Output_rep1.R2.custom_adapters.fasta\n",
      "KS275_Th17_ASTARR_Th17inp_Output_rep1.R2.fastqc_data.txt\n",
      "\u001b[38;5;9mKS275_Th17_ASTARR_Th17inp_Output_rep1.R2_fastqc.zip\u001b[0m\n",
      "KS275_Th17_ASTARR_Th17inp_Output_rep1.R2.read_count.txt\n",
      "\u001b[38;5;9mKS275_Th17_ASTARR_Th17inp_Output_rep1.R2.trimmed.fastq.gz\u001b[0m\n",
      "KS275_Th17_ASTARR_Th17inp_Output_rep1.R2.trimmed.fastq.read_count.txt\n",
      "\u001b[38;5;9mKS275_Th17_ASTARR_Th17inp_Output_rep1.unmmaped.fastq.gz\u001b[0m\n",
      "qc.txt\n",
      "stdout.txt\n"
     ]
    }
   ],
   "source": [
    "ls /data/reddylab/Keith/encode4_duke/processing/starr_seq/240311_KS274_ASTARR_Output_Nextseq-pe-umis"
   ]
  },
  {
   "cell_type": "code",
   "execution_count": 6,
   "id": "67a804aa-56f3-4848-b7af-6c79bd6d32b1",
   "metadata": {},
   "outputs": [
    {
     "name": "stdout",
     "output_type": "stream",
     "text": [
      "K562_ASTARR_repeat_rep1.bowtie2.log\n",
      "K562_ASTARR_repeat_rep1.f3q10.fragments.bedpe\n",
      "K562_ASTARR_repeat_rep1.f3q10.sorted.preseq_ccurve.txt.preseq_c_curve.txt\n",
      "K562_ASTARR_repeat_rep1.f3q10.sorted.with_umis.dedup.raw.bw\n",
      "K562_ASTARR_repeat_rep1.f3q10.sorted.with_umis.dedup.rpkm.bw\n",
      "K562_ASTARR_repeat_rep1.f3q10.sorted.with_umis.dups_marked.bam\n",
      "K562_ASTARR_repeat_rep1.f3q10.sorted.with_umis.dups_marked.bam.bai\n",
      "K562_ASTARR_repeat_rep1.f3q10.sorted.with_umis.dups_marked.dedup_metrics.txt\n",
      "K562_ASTARR_repeat_rep1.f3q10.sorted.with_umis.rpkm.bw\n",
      "K562_ASTARR_repeat_rep1.R1.custom_adapters.fasta\n",
      "K562_ASTARR_repeat_rep1.R1.fastqc_data.txt\n",
      "K562_ASTARR_repeat_rep1.R1_fastqc.zip\n",
      "K562_ASTARR_repeat_rep1.R1.read_count.txt\n",
      "K562_ASTARR_repeat_rep1.R1.trimmed.fastq.gz\n",
      "K562_ASTARR_repeat_rep1.R1.trimmed.read_count.txt\n",
      "K562_ASTARR_repeat_rep1.R2.custom_adapters.fasta\n",
      "K562_ASTARR_repeat_rep1.R2.fastqc_data.txt\n",
      "K562_ASTARR_repeat_rep1.R2_fastqc.zip\n",
      "K562_ASTARR_repeat_rep1.R2.read_count.txt\n",
      "K562_ASTARR_repeat_rep1.R2.trimmed.fastq.gz\n",
      "K562_ASTARR_repeat_rep1.R2.trimmed.fastq.read_count.txt\n",
      "K562_ASTARR_repeat_rep1.unmmaped.fastq.gz\n",
      "K562_ASTARR_repeat_rep2.bowtie2.log\n",
      "K562_ASTARR_repeat_rep2.f3q10.fragments.bedpe\n",
      "K562_ASTARR_repeat_rep2.f3q10.sorted.preseq_ccurve.txt.preseq_c_curve.txt\n",
      "K562_ASTARR_repeat_rep2.f3q10.sorted.with_umis.dedup.raw.bw\n",
      "K562_ASTARR_repeat_rep2.f3q10.sorted.with_umis.dedup.rpkm.bw\n",
      "K562_ASTARR_repeat_rep2.f3q10.sorted.with_umis.dups_marked.bam\n",
      "K562_ASTARR_repeat_rep2.f3q10.sorted.with_umis.dups_marked.bam.bai\n",
      "K562_ASTARR_repeat_rep2.f3q10.sorted.with_umis.dups_marked.dedup_metrics.txt\n",
      "K562_ASTARR_repeat_rep2.f3q10.sorted.with_umis.rpkm.bw\n",
      "K562_ASTARR_repeat_rep2.R1.custom_adapters.fasta\n",
      "K562_ASTARR_repeat_rep2.R1.fastqc_data.txt\n",
      "K562_ASTARR_repeat_rep2.R1_fastqc.zip\n",
      "K562_ASTARR_repeat_rep2.R1.read_count.txt\n",
      "K562_ASTARR_repeat_rep2.R1.trimmed.fastq.gz\n",
      "K562_ASTARR_repeat_rep2.R1.trimmed.read_count.txt\n",
      "K562_ASTARR_repeat_rep2.R2.custom_adapters.fasta\n",
      "K562_ASTARR_repeat_rep2.R2.fastqc_data.txt\n",
      "K562_ASTARR_repeat_rep2.R2_fastqc.zip\n",
      "K562_ASTARR_repeat_rep2.R2.read_count.txt\n",
      "K562_ASTARR_repeat_rep2.R2.trimmed.fastq.gz\n",
      "K562_ASTARR_repeat_rep2.R2.trimmed.fastq.read_count.txt\n",
      "K562_ASTARR_repeat_rep2.unmmaped.fastq.gz\n",
      "K562_ASTARR_repeat_rep3.bowtie2.log\n",
      "K562_ASTARR_repeat_rep3.f3q10.fragments.bedpe\n",
      "K562_ASTARR_repeat_rep3.f3q10.sorted.preseq_ccurve.txt.preseq_c_curve.txt\n",
      "K562_ASTARR_repeat_rep3.f3q10.sorted.with_umis.dedup.raw.bw\n",
      "K562_ASTARR_repeat_rep3.f3q10.sorted.with_umis.dedup.rpkm.bw\n",
      "K562_ASTARR_repeat_rep3.f3q10.sorted.with_umis.dups_marked.bam\n",
      "K562_ASTARR_repeat_rep3.f3q10.sorted.with_umis.dups_marked.bam.bai\n",
      "K562_ASTARR_repeat_rep3.f3q10.sorted.with_umis.dups_marked.dedup_metrics.txt\n",
      "K562_ASTARR_repeat_rep3.f3q10.sorted.with_umis.rpkm.bw\n",
      "K562_ASTARR_repeat_rep3.R1.custom_adapters.fasta\n",
      "K562_ASTARR_repeat_rep3.R1.fastqc_data.txt\n",
      "K562_ASTARR_repeat_rep3.R1_fastqc.zip\n",
      "K562_ASTARR_repeat_rep3.R1.read_count.txt\n",
      "K562_ASTARR_repeat_rep3.R1.trimmed.fastq.gz\n",
      "K562_ASTARR_repeat_rep3.R1.trimmed.read_count.txt\n",
      "K562_ASTARR_repeat_rep3.R2.custom_adapters.fasta\n",
      "K562_ASTARR_repeat_rep3.R2.fastqc_data.txt\n",
      "K562_ASTARR_repeat_rep3.R2_fastqc.zip\n",
      "K562_ASTARR_repeat_rep3.R2.read_count.txt\n",
      "K562_ASTARR_repeat_rep3.R2.trimmed.fastq.gz\n",
      "K562_ASTARR_repeat_rep3.R2.trimmed.fastq.read_count.txt\n",
      "K562_ASTARR_repeat_rep3.unmmaped.fastq.gz\n"
     ]
    }
   ],
   "source": [
    "FDIRY=/data/reddylab/Keith/encode4_duke/processing/starr_seq/240311_KS274_ASTARR_Output_Nextseq-pe-umis\n",
    "ls ${FDIRY}/K562* | xargs -n 1 basename"
   ]
  },
  {
   "cell_type": "code",
   "execution_count": 8,
   "id": "435209a6-d5d2-4770-867a-0bb47b691a8f",
   "metadata": {},
   "outputs": [
    {
     "name": "stdout",
     "output_type": "stream",
     "text": [
      "chr1\t13055\t13163\n",
      "chr1\t13236\t13481\n",
      "chr1\t13253\t13495\n",
      "chr1\t13261\t13479\n",
      "chr1\t13314\t13500\n",
      "chr1\t14449\t14642\n",
      "chr1\t14449\t14645\n",
      "chr1\t14449\t14645\n",
      "chr1\t14452\t14620\n",
      "chr1\t14452\t14679\n",
      "chr1\t14482\t14709\n",
      "chr1\t14540\t14725\n",
      "chr1\t14546\t14727\n",
      "chr1\t14546\t14728\n",
      "chr1\t14546\t14728\n",
      "chr1\t14786\t15265\n",
      "chr1\t15695\t15896\n",
      "chr1\t16013\t16298\n",
      "chr1\t16037\t16231\n",
      "chr1\t16095\t16277\n"
     ]
    }
   ],
   "source": [
    "FDIRY=/data/reddylab/Keith/encode4_duke/processing/starr_seq/240311_KS274_ASTARR_Output_Nextseq-pe-umis\n",
    "FNAME=K562_ASTARR_repeat_rep2.f3q10.fragments.bedpe\n",
    "FPATH=${FDIRY}/${FNAME}\\\n",
    "\n",
    "head -n 20 ${FPATH}"
   ]
  },
  {
   "cell_type": "code",
   "execution_count": 2,
   "id": "e49ce55c-1e6d-42ac-a690-14903604f384",
   "metadata": {},
   "outputs": [
    {
     "name": "stdout",
     "output_type": "stream",
     "text": [
      "\u001b[0m\u001b[38;5;9mA001-input-K562-rep1.masked.dedup.fragments.counts.txt.gz\u001b[0m\n",
      "\u001b[38;5;9mA001-input-K562-rep2.masked.dedup.fragments.counts.txt.gz\u001b[0m\n",
      "\u001b[38;5;9mA001-input-K562-rep3.masked.dedup.fragments.counts.txt.gz\u001b[0m\n",
      "\u001b[38;5;9mA001-input-K562-rep4.masked.dedup.fragments.counts.txt.gz\u001b[0m\n",
      "\u001b[38;5;9mA001-K562-rep1.masked.dedup.fragments.bedpe.gz\u001b[0m\n",
      "\u001b[38;5;9mA001-K562-rep1.masked.dedup.fragments.counts.txt.gz\u001b[0m\n",
      "\u001b[38;5;9mA001-K562-rep2.masked.dedup.fragments.bedpe.gz\u001b[0m\n",
      "\u001b[38;5;9mA001-K562-rep2.masked.dedup.fragments.counts.txt.gz\u001b[0m\n",
      "\u001b[38;5;9mA001-K562-rep3.masked.dedup.fragments.bedpe.gz\u001b[0m\n",
      "\u001b[38;5;9mA001-K562-rep3.masked.dedup.fragments.counts.txt.gz\u001b[0m\n"
     ]
    }
   ],
   "source": [
    "ls ${FD_ALEX}/encode4_duke/data/starr_seq/fragments"
   ]
  },
  {
   "cell_type": "code",
   "execution_count": 7,
   "id": "37a34576-5903-453e-b8fd-5f34da8ab573",
   "metadata": {},
   "outputs": [
    {
     "name": "stdout",
     "output_type": "stream",
     "text": [
      "/data/reddylab/Alex/encode4_duke/processing/atac_seq/210401_KS91_K562ASTARR_NovaSeq.hg38-pe-blacklist-removal\n"
     ]
    }
   ],
   "source": [
    "echo ${FD_WGS_ASTARR_INP}"
   ]
  },
  {
   "cell_type": "code",
   "execution_count": 3,
   "id": "45f2c6c4-cb25-4ae7-8aa2-733300eef07a",
   "metadata": {},
   "outputs": [
    {
     "name": "stdout",
     "output_type": "stream",
     "text": [
      "\u001b[0m\u001b[38;5;27mfragments\u001b[0m\n",
      "\u001b[38;5;9mKS91_K562_hg38_ASTARRseq_Input_rep1.masked.dedup.fragments.bedpe.gz\u001b[0m\n",
      "\u001b[38;5;9mKS91_K562_hg38_ASTARRseq_Input_rep1.masked.dedup.fragments.counts.txt.gz\u001b[0m\n",
      "KS91_K562_hg38_ASTARRseq_Input_rep1.masked.dups_marked.sorted.bam\n",
      "KS91_K562_hg38_ASTARRseq_Input_rep1.masked.dups_marked.sorted.bam.bai\n",
      "KS91_K562_hg38_ASTARRseq_Input_rep1.masked.exclude_dups.cpm.bw\n",
      "\u001b[38;5;9mKS91_K562_hg38_ASTARRseq_Input_rep2.masked.dedup.fragments.bedpe.gz\u001b[0m\n",
      "\u001b[38;5;9mKS91_K562_hg38_ASTARRseq_Input_rep2.masked.dedup.fragments.counts.txt.gz\u001b[0m\n",
      "KS91_K562_hg38_ASTARRseq_Input_rep2.masked.dups_marked.sorted.bam\n",
      "KS91_K562_hg38_ASTARRseq_Input_rep2.masked.dups_marked.sorted.bam.bai\n",
      "KS91_K562_hg38_ASTARRseq_Input_rep2.masked.exclude_dups.cpm.bw\n",
      "\u001b[38;5;9mKS91_K562_hg38_ASTARRseq_Input_rep3.masked.dedup.fragments.bedpe.gz\u001b[0m\n",
      "\u001b[38;5;9mKS91_K562_hg38_ASTARRseq_Input_rep3.masked.dedup.fragments.counts.txt.gz\u001b[0m\n",
      "KS91_K562_hg38_ASTARRseq_Input_rep3.masked.dups_marked.sorted.bam\n",
      "KS91_K562_hg38_ASTARRseq_Input_rep3.masked.dups_marked.sorted.bam.bai\n",
      "KS91_K562_hg38_ASTARRseq_Input_rep3.masked.exclude_dups.cpm.bw\n",
      "\u001b[38;5;9mKS91_K562_hg38_ASTARRseq_Input_rep4.masked.dedup.fragments.bedpe.gz\u001b[0m\n",
      "\u001b[38;5;9mKS91_K562_hg38_ASTARRseq_Input_rep4.masked.dedup.fragments.counts.txt.gz\u001b[0m\n",
      "KS91_K562_hg38_ASTARRseq_Input_rep4.masked.dups_marked.sorted.bam\n",
      "KS91_K562_hg38_ASTARRseq_Input_rep4.masked.dups_marked.sorted.bam.bai\n",
      "KS91_K562_hg38_ASTARRseq_Input_rep4.masked.exclude_dups.cpm.bw\n",
      "\u001b[38;5;9mKS91_K562_hg38_ASTARRseq_Input_rep5.masked.dedup.fragments.bedpe.gz\u001b[0m\n",
      "\u001b[38;5;9mKS91_K562_hg38_ASTARRseq_Input_rep5.masked.dedup.fragments.counts.txt.gz\u001b[0m\n",
      "KS91_K562_hg38_ASTARRseq_Input_rep5.masked.dups_marked.sorted.bam\n",
      "KS91_K562_hg38_ASTARRseq_Input_rep5.masked.dups_marked.sorted.bam.bai\n",
      "KS91_K562_hg38_ASTARRseq_Input_rep5.masked.exclude_dups.cpm.bw\n",
      "\u001b[38;5;9mKS91_K562_hg38_ASTARRseq_Input_rep6.masked.dedup.fragments.bedpe.gz\u001b[0m\n",
      "\u001b[38;5;9mKS91_K562_hg38_ASTARRseq_Input_rep6.masked.dedup.fragments.counts.txt.gz\u001b[0m\n",
      "KS91_K562_hg38_ASTARRseq_Input_rep6.masked.dups_marked.sorted.bam\n",
      "KS91_K562_hg38_ASTARRseq_Input_rep6.masked.dups_marked.sorted.bam.bai\n",
      "KS91_K562_hg38_ASTARRseq_Input_rep6.masked.exclude_dups.cpm.bw\n"
     ]
    }
   ],
   "source": [
    "ls ${FD_WGS_ASTARR_INP}/merged2"
   ]
  },
  {
   "cell_type": "code",
   "execution_count": 8,
   "id": "6f7b1321-9e97-48b2-85cc-d13519391df7",
   "metadata": {},
   "outputs": [
    {
     "name": "stdout",
     "output_type": "stream",
     "text": [
      "/data/reddylab/Alex/encode4_duke/processing/starr_seq/210401_KS91_K562ASTARR_NovaSeq.hg38-pe-umis\n"
     ]
    }
   ],
   "source": [
    "echo ${FD_WGS_ASTARR_OUT}"
   ]
  },
  {
   "cell_type": "code",
   "execution_count": 11,
   "id": "8f8ca8d9-3642-4e6d-ab84-654026cc5ba3",
   "metadata": {},
   "outputs": [
    {
     "name": "stdout",
     "output_type": "stream",
     "text": [
      "KS91_K562_hg38_ASTARRseq_Output_rep1.f3q10.sorted.with_umis.dedup.cpm.bw\n",
      "KS91_K562_hg38_ASTARRseq_Output_rep1.f3q10.sorted.with_umis.dups_included.cpm.bw\n",
      "KS91_K562_hg38_ASTARRseq_Output_rep1.f3q10.sorted.with_umis.dups_marked.cpm.bw\n",
      "KS91_K562_hg38_ASTARRseq_Output_rep1.input_subtracted.bw\n",
      "KS91_K562_hg38_ASTARRseq_Output_rep1.input_subtracted.pseudo_10.bw\n",
      "KS91_K562_hg38_ASTARRseq_Output_rep1_L001.f3q10.sorted.with_umis.rpkm.bw\n",
      "KS91_K562_hg38_ASTARRseq_Output_rep1_L002.f3q10.sorted.with_umis.rpkm.bw\n",
      "KS91_K562_hg38_ASTARRseq_Output_rep1_L003.f3q10.sorted.with_umis.rpkm.bw\n",
      "KS91_K562_hg38_ASTARRseq_Output_rep1_L004.f3q10.sorted.with_umis.rpkm.bw\n",
      "KS91_K562_hg38_ASTARRseq_Output_rep1.log2.pseudo_10.bw\n",
      "KS91_K562_hg38_ASTARRseq_Output_rep2.f3q10.sorted.with_umis.dedup.cpm.bw\n",
      "KS91_K562_hg38_ASTARRseq_Output_rep2.f3q10.sorted.with_umis.dups_included.cpm.bw\n",
      "KS91_K562_hg38_ASTARRseq_Output_rep2.f3q10.sorted.with_umis.dups_marked.cpm.bw\n",
      "KS91_K562_hg38_ASTARRseq_Output_rep2.input_subtracted.bw\n",
      "KS91_K562_hg38_ASTARRseq_Output_rep2.input_subtracted.pseudo_10.bw\n",
      "KS91_K562_hg38_ASTARRseq_Output_rep2_L001.f3q10.sorted.with_umis.rpkm.bw\n",
      "KS91_K562_hg38_ASTARRseq_Output_rep2_L002.f3q10.sorted.with_umis.rpkm.bw\n",
      "KS91_K562_hg38_ASTARRseq_Output_rep2_L003.f3q10.sorted.with_umis.rpkm.bw\n",
      "KS91_K562_hg38_ASTARRseq_Output_rep2_L004.f3q10.sorted.with_umis.rpkm.bw\n",
      "KS91_K562_hg38_ASTARRseq_Output_rep2.log2.pseudo_10.bw\n",
      "KS91_K562_hg38_ASTARRseq_Output_rep3.f3q10.sorted.with_umis.dedup.cpm.bw\n",
      "KS91_K562_hg38_ASTARRseq_Output_rep3.f3q10.sorted.with_umis.dups_included.cpm.bw\n",
      "KS91_K562_hg38_ASTARRseq_Output_rep3.f3q10.sorted.with_umis.dups_marked.cpm.bw\n",
      "KS91_K562_hg38_ASTARRseq_Output_rep3.input_subtracted.bw\n",
      "KS91_K562_hg38_ASTARRseq_Output_rep3.input_subtracted.pseudo_10.bw\n",
      "KS91_K562_hg38_ASTARRseq_Output_rep3_L001.f3q10.sorted.with_umis.rpkm.bw\n",
      "KS91_K562_hg38_ASTARRseq_Output_rep3_L002.f3q10.sorted.with_umis.rpkm.bw\n",
      "KS91_K562_hg38_ASTARRseq_Output_rep3_L003.f3q10.sorted.with_umis.rpkm.bw\n",
      "KS91_K562_hg38_ASTARRseq_Output_rep3_L004.f3q10.sorted.with_umis.rpkm.bw\n",
      "KS91_K562_hg38_ASTARRseq_Output_rep3.log2.pseudo_10.bw\n",
      "KS91_K562_hg38_ASTARRseq_Output_rep4.f3q10.sorted.with_umis.dedup.cpm.bw\n",
      "KS91_K562_hg38_ASTARRseq_Output_rep4.f3q10.sorted.with_umis.dups_included.cpm.bw\n",
      "KS91_K562_hg38_ASTARRseq_Output_rep4.f3q10.sorted.with_umis.dups_included.cpm.test.bw\n",
      "KS91_K562_hg38_ASTARRseq_Output_rep4.f3q10.sorted.with_umis.dups_marked.cpm.bw\n",
      "KS91_K562_hg38_ASTARRseq_Output_rep4.f3q10.sorted.with_umis.dups_marked.cpm.test.bw\n",
      "KS91_K562_hg38_ASTARRseq_Output_rep4.f3q10.sorted.with_umis.dups_marked.rpkm.test.bw\n",
      "KS91_K562_hg38_ASTARRseq_Output_rep4.input_subtracted.bw\n",
      "KS91_K562_hg38_ASTARRseq_Output_rep4.input_subtracted.pseudo_10.bw\n",
      "KS91_K562_hg38_ASTARRseq_Output_rep4_L001.f3q10.sorted.with_umis.rpkm.bw\n",
      "KS91_K562_hg38_ASTARRseq_Output_rep4_L002.f3q10.sorted.with_umis.rpkm.bw\n",
      "KS91_K562_hg38_ASTARRseq_Output_rep4_L003.f3q10.sorted.with_umis.rpkm.bw\n",
      "KS91_K562_hg38_ASTARRseq_Output_rep4_L004.f3q10.sorted.with_umis.rpkm.bw\n",
      "KS91_K562_hg38_ASTARRseq_Output_rep4.log2.pseudo_10.bw\n",
      "KS91_K562_hg38_ASTARRseq_Output_rep5.f3q10.sorted.with_umis.dedup.cpm.bw\n",
      "KS91_K562_hg38_ASTARRseq_Output_rep5.f3q10.sorted.with_umis.dups_included.cpm.bw\n",
      "KS91_K562_hg38_ASTARRseq_Output_rep5.f3q10.sorted.with_umis.dups_marked.cpm.bw\n",
      "KS91_K562_hg38_ASTARRseq_Output_rep5_L001.f3q10.sorted.with_umis.rpkm.bw\n",
      "KS91_K562_hg38_ASTARRseq_Output_rep5_L002.f3q10.sorted.with_umis.rpkm.bw\n",
      "KS91_K562_hg38_ASTARRseq_Output_rep5_L003.f3q10.sorted.with_umis.rpkm.bw\n",
      "KS91_K562_hg38_ASTARRseq_Output_rep5_L004.f3q10.sorted.with_umis.rpkm.bw\n",
      "KS91_K562_hg38_ASTARRseq_Output_rep6.f3q10.sorted.with_umis.dedup.cpm.bw\n",
      "KS91_K562_hg38_ASTARRseq_Output_rep6.f3q10.sorted.with_umis.dups_included.cpm.bw\n",
      "KS91_K562_hg38_ASTARRseq_Output_rep6.f3q10.sorted.with_umis.dups_marked.cpm.bw\n",
      "KS91_K562_hg38_ASTARRseq_Output_rep6_L001.f3q10.sorted.with_umis.rpkm.bw\n",
      "KS91_K562_hg38_ASTARRseq_Output_rep6_L002.f3q10.sorted.with_umis.rpkm.bw\n",
      "KS91_K562_hg38_ASTARRseq_Output_rep6_L003.f3q10.sorted.with_umis.rpkm.bw\n",
      "KS91_K562_hg38_ASTARRseq_Output_rep6_L004.f3q10.sorted.with_umis.rpkm.bw\n"
     ]
    }
   ],
   "source": [
    "ls ${FD_WGS_ASTARR_OUT}/*bw | xargs -n 1 basename"
   ]
  },
  {
   "cell_type": "code",
   "execution_count": null,
   "id": "0a0b3388-2784-48b4-aab8-d72c27c73612",
   "metadata": {},
   "outputs": [],
   "source": [
    "KS91_K562_hg38_ASTARRseq_Output_rep1.f3q10.sorted.with_umis.dedup.cpm.bw\n",
    "KS91_K562_hg38_ASTARRseq_Output_rep4.f3q10.sorted.with_umis.dedup.cpm.bw"
   ]
  },
  {
   "cell_type": "code",
   "execution_count": 12,
   "id": "8c83fac2-b583-4ede-94e9-0c590fed9a18",
   "metadata": {},
   "outputs": [
    {
     "name": "stdout",
     "output_type": "stream",
     "text": [
      "/data/reddylab/Keith/encode4_duke/processing/starr_seq/240311_KS274_ASTARR_Output_Nextseq-pe-umis/K562_ASTARR_repeat_rep1.bowtie2.log\n",
      "/data/reddylab/Keith/encode4_duke/processing/starr_seq/240311_KS274_ASTARR_Output_Nextseq-pe-umis/K562_ASTARR_repeat_rep1.f3q10.fragments.bedpe\n",
      "/data/reddylab/Keith/encode4_duke/processing/starr_seq/240311_KS274_ASTARR_Output_Nextseq-pe-umis/K562_ASTARR_repeat_rep1.f3q10.sorted.preseq_ccurve.txt.preseq_c_curve.txt\n",
      "/data/reddylab/Keith/encode4_duke/processing/starr_seq/240311_KS274_ASTARR_Output_Nextseq-pe-umis/K562_ASTARR_repeat_rep1.f3q10.sorted.with_umis.dedup.raw.bw\n",
      "/data/reddylab/Keith/encode4_duke/processing/starr_seq/240311_KS274_ASTARR_Output_Nextseq-pe-umis/K562_ASTARR_repeat_rep1.f3q10.sorted.with_umis.dedup.rpkm.bw\n",
      "/data/reddylab/Keith/encode4_duke/processing/starr_seq/240311_KS274_ASTARR_Output_Nextseq-pe-umis/K562_ASTARR_repeat_rep1.f3q10.sorted.with_umis.dups_marked.bam\n",
      "/data/reddylab/Keith/encode4_duke/processing/starr_seq/240311_KS274_ASTARR_Output_Nextseq-pe-umis/K562_ASTARR_repeat_rep1.f3q10.sorted.with_umis.dups_marked.bam.bai\n",
      "/data/reddylab/Keith/encode4_duke/processing/starr_seq/240311_KS274_ASTARR_Output_Nextseq-pe-umis/K562_ASTARR_repeat_rep1.f3q10.sorted.with_umis.dups_marked.dedup_metrics.txt\n",
      "/data/reddylab/Keith/encode4_duke/processing/starr_seq/240311_KS274_ASTARR_Output_Nextseq-pe-umis/K562_ASTARR_repeat_rep1.f3q10.sorted.with_umis.rpkm.bw\n",
      "/data/reddylab/Keith/encode4_duke/processing/starr_seq/240311_KS274_ASTARR_Output_Nextseq-pe-umis/K562_ASTARR_repeat_rep1.R1.custom_adapters.fasta\n",
      "/data/reddylab/Keith/encode4_duke/processing/starr_seq/240311_KS274_ASTARR_Output_Nextseq-pe-umis/K562_ASTARR_repeat_rep1.R1.fastqc_data.txt\n",
      "\u001b[0m\u001b[38;5;9m/data/reddylab/Keith/encode4_duke/processing/starr_seq/240311_KS274_ASTARR_Output_Nextseq-pe-umis/K562_ASTARR_repeat_rep1.R1_fastqc.zip\u001b[0m\u001b[K\n",
      "/data/reddylab/Keith/encode4_duke/processing/starr_seq/240311_KS274_ASTARR_Output_Nextseq-pe-umis/K562_ASTARR_repeat_rep1.R1.read_count.txt\n",
      "\u001b[38;5;9m/data/reddylab/Keith/encode4_duke/processing/starr_seq/240311_KS274_ASTARR_Output_Nextseq-pe-umis/K562_ASTARR_repeat_rep1.R1.trimmed.fastq.gz\u001b[0m\u001b[K\n",
      "/data/reddylab/Keith/encode4_duke/processing/starr_seq/240311_KS274_ASTARR_Output_Nextseq-pe-umis/K562_ASTARR_repeat_rep1.R1.trimmed.read_count.txt\n",
      "/data/reddylab/Keith/encode4_duke/processing/starr_seq/240311_KS274_ASTARR_Output_Nextseq-pe-umis/K562_ASTARR_repeat_rep1.R2.custom_adapters.fasta\n",
      "/data/reddylab/Keith/encode4_duke/processing/starr_seq/240311_KS274_ASTARR_Output_Nextseq-pe-umis/K562_ASTARR_repeat_rep1.R2.fastqc_data.txt\n",
      "\u001b[38;5;9m/data/reddylab/Keith/encode4_duke/processing/starr_seq/240311_KS274_ASTARR_Output_Nextseq-pe-umis/K562_ASTARR_repeat_rep1.R2_fastqc.zip\u001b[0m\u001b[K\n",
      "/data/reddylab/Keith/encode4_duke/processing/starr_seq/240311_KS274_ASTARR_Output_Nextseq-pe-umis/K562_ASTARR_repeat_rep1.R2.read_count.txt\n",
      "\u001b[38;5;9m/data/reddylab/Keith/encode4_duke/processing/starr_seq/240311_KS274_ASTARR_Output_Nextseq-pe-umis/K562_ASTARR_repeat_rep1.R2.trimmed.fastq.gz\u001b[0m\u001b[K\n",
      "/data/reddylab/Keith/encode4_duke/processing/starr_seq/240311_KS274_ASTARR_Output_Nextseq-pe-umis/K562_ASTARR_repeat_rep1.R2.trimmed.fastq.read_count.txt\n",
      "\u001b[38;5;9m/data/reddylab/Keith/encode4_duke/processing/starr_seq/240311_KS274_ASTARR_Output_Nextseq-pe-umis/K562_ASTARR_repeat_rep1.unmmaped.fastq.gz\u001b[0m\u001b[K\n",
      "/data/reddylab/Keith/encode4_duke/processing/starr_seq/240311_KS274_ASTARR_Output_Nextseq-pe-umis/K562_ASTARR_repeat_rep2.bowtie2.log\n",
      "/data/reddylab/Keith/encode4_duke/processing/starr_seq/240311_KS274_ASTARR_Output_Nextseq-pe-umis/K562_ASTARR_repeat_rep2.f3q10.fragments.bedpe\n",
      "/data/reddylab/Keith/encode4_duke/processing/starr_seq/240311_KS274_ASTARR_Output_Nextseq-pe-umis/K562_ASTARR_repeat_rep2.f3q10.sorted.preseq_ccurve.txt.preseq_c_curve.txt\n",
      "/data/reddylab/Keith/encode4_duke/processing/starr_seq/240311_KS274_ASTARR_Output_Nextseq-pe-umis/K562_ASTARR_repeat_rep2.f3q10.sorted.with_umis.dedup.raw.bw\n",
      "/data/reddylab/Keith/encode4_duke/processing/starr_seq/240311_KS274_ASTARR_Output_Nextseq-pe-umis/K562_ASTARR_repeat_rep2.f3q10.sorted.with_umis.dedup.rpkm.bw\n",
      "/data/reddylab/Keith/encode4_duke/processing/starr_seq/240311_KS274_ASTARR_Output_Nextseq-pe-umis/K562_ASTARR_repeat_rep2.f3q10.sorted.with_umis.dups_marked.bam\n",
      "/data/reddylab/Keith/encode4_duke/processing/starr_seq/240311_KS274_ASTARR_Output_Nextseq-pe-umis/K562_ASTARR_repeat_rep2.f3q10.sorted.with_umis.dups_marked.bam.bai\n",
      "/data/reddylab/Keith/encode4_duke/processing/starr_seq/240311_KS274_ASTARR_Output_Nextseq-pe-umis/K562_ASTARR_repeat_rep2.f3q10.sorted.with_umis.dups_marked.dedup_metrics.txt\n",
      "/data/reddylab/Keith/encode4_duke/processing/starr_seq/240311_KS274_ASTARR_Output_Nextseq-pe-umis/K562_ASTARR_repeat_rep2.f3q10.sorted.with_umis.rpkm.bw\n",
      "/data/reddylab/Keith/encode4_duke/processing/starr_seq/240311_KS274_ASTARR_Output_Nextseq-pe-umis/K562_ASTARR_repeat_rep2.R1.custom_adapters.fasta\n",
      "/data/reddylab/Keith/encode4_duke/processing/starr_seq/240311_KS274_ASTARR_Output_Nextseq-pe-umis/K562_ASTARR_repeat_rep2.R1.fastqc_data.txt\n",
      "\u001b[38;5;9m/data/reddylab/Keith/encode4_duke/processing/starr_seq/240311_KS274_ASTARR_Output_Nextseq-pe-umis/K562_ASTARR_repeat_rep2.R1_fastqc.zip\u001b[0m\u001b[K\n",
      "/data/reddylab/Keith/encode4_duke/processing/starr_seq/240311_KS274_ASTARR_Output_Nextseq-pe-umis/K562_ASTARR_repeat_rep2.R1.read_count.txt\n",
      "\u001b[38;5;9m/data/reddylab/Keith/encode4_duke/processing/starr_seq/240311_KS274_ASTARR_Output_Nextseq-pe-umis/K562_ASTARR_repeat_rep2.R1.trimmed.fastq.gz\u001b[0m\u001b[K\n",
      "/data/reddylab/Keith/encode4_duke/processing/starr_seq/240311_KS274_ASTARR_Output_Nextseq-pe-umis/K562_ASTARR_repeat_rep2.R1.trimmed.read_count.txt\n",
      "/data/reddylab/Keith/encode4_duke/processing/starr_seq/240311_KS274_ASTARR_Output_Nextseq-pe-umis/K562_ASTARR_repeat_rep2.R2.custom_adapters.fasta\n",
      "/data/reddylab/Keith/encode4_duke/processing/starr_seq/240311_KS274_ASTARR_Output_Nextseq-pe-umis/K562_ASTARR_repeat_rep2.R2.fastqc_data.txt\n",
      "\u001b[38;5;9m/data/reddylab/Keith/encode4_duke/processing/starr_seq/240311_KS274_ASTARR_Output_Nextseq-pe-umis/K562_ASTARR_repeat_rep2.R2_fastqc.zip\u001b[0m\u001b[K\n",
      "/data/reddylab/Keith/encode4_duke/processing/starr_seq/240311_KS274_ASTARR_Output_Nextseq-pe-umis/K562_ASTARR_repeat_rep2.R2.read_count.txt\n",
      "\u001b[38;5;9m/data/reddylab/Keith/encode4_duke/processing/starr_seq/240311_KS274_ASTARR_Output_Nextseq-pe-umis/K562_ASTARR_repeat_rep2.R2.trimmed.fastq.gz\u001b[0m\u001b[K\n",
      "/data/reddylab/Keith/encode4_duke/processing/starr_seq/240311_KS274_ASTARR_Output_Nextseq-pe-umis/K562_ASTARR_repeat_rep2.R2.trimmed.fastq.read_count.txt\n",
      "\u001b[38;5;9m/data/reddylab/Keith/encode4_duke/processing/starr_seq/240311_KS274_ASTARR_Output_Nextseq-pe-umis/K562_ASTARR_repeat_rep2.unmmaped.fastq.gz\u001b[0m\u001b[K\n",
      "/data/reddylab/Keith/encode4_duke/processing/starr_seq/240311_KS274_ASTARR_Output_Nextseq-pe-umis/K562_ASTARR_repeat_rep3.bowtie2.log\n",
      "/data/reddylab/Keith/encode4_duke/processing/starr_seq/240311_KS274_ASTARR_Output_Nextseq-pe-umis/K562_ASTARR_repeat_rep3.f3q10.fragments.bedpe\n",
      "/data/reddylab/Keith/encode4_duke/processing/starr_seq/240311_KS274_ASTARR_Output_Nextseq-pe-umis/K562_ASTARR_repeat_rep3.f3q10.sorted.preseq_ccurve.txt.preseq_c_curve.txt\n",
      "/data/reddylab/Keith/encode4_duke/processing/starr_seq/240311_KS274_ASTARR_Output_Nextseq-pe-umis/K562_ASTARR_repeat_rep3.f3q10.sorted.with_umis.dedup.raw.bw\n",
      "/data/reddylab/Keith/encode4_duke/processing/starr_seq/240311_KS274_ASTARR_Output_Nextseq-pe-umis/K562_ASTARR_repeat_rep3.f3q10.sorted.with_umis.dedup.rpkm.bw\n",
      "/data/reddylab/Keith/encode4_duke/processing/starr_seq/240311_KS274_ASTARR_Output_Nextseq-pe-umis/K562_ASTARR_repeat_rep3.f3q10.sorted.with_umis.dups_marked.bam\n",
      "/data/reddylab/Keith/encode4_duke/processing/starr_seq/240311_KS274_ASTARR_Output_Nextseq-pe-umis/K562_ASTARR_repeat_rep3.f3q10.sorted.with_umis.dups_marked.bam.bai\n",
      "/data/reddylab/Keith/encode4_duke/processing/starr_seq/240311_KS274_ASTARR_Output_Nextseq-pe-umis/K562_ASTARR_repeat_rep3.f3q10.sorted.with_umis.dups_marked.dedup_metrics.txt\n",
      "/data/reddylab/Keith/encode4_duke/processing/starr_seq/240311_KS274_ASTARR_Output_Nextseq-pe-umis/K562_ASTARR_repeat_rep3.f3q10.sorted.with_umis.rpkm.bw\n",
      "/data/reddylab/Keith/encode4_duke/processing/starr_seq/240311_KS274_ASTARR_Output_Nextseq-pe-umis/K562_ASTARR_repeat_rep3.R1.custom_adapters.fasta\n",
      "/data/reddylab/Keith/encode4_duke/processing/starr_seq/240311_KS274_ASTARR_Output_Nextseq-pe-umis/K562_ASTARR_repeat_rep3.R1.fastqc_data.txt\n",
      "\u001b[38;5;9m/data/reddylab/Keith/encode4_duke/processing/starr_seq/240311_KS274_ASTARR_Output_Nextseq-pe-umis/K562_ASTARR_repeat_rep3.R1_fastqc.zip\u001b[0m\u001b[K\n",
      "/data/reddylab/Keith/encode4_duke/processing/starr_seq/240311_KS274_ASTARR_Output_Nextseq-pe-umis/K562_ASTARR_repeat_rep3.R1.read_count.txt\n",
      "\u001b[38;5;9m/data/reddylab/Keith/encode4_duke/processing/starr_seq/240311_KS274_ASTARR_Output_Nextseq-pe-umis/K562_ASTARR_repeat_rep3.R1.trimmed.fastq.gz\u001b[0m\u001b[K\n",
      "/data/reddylab/Keith/encode4_duke/processing/starr_seq/240311_KS274_ASTARR_Output_Nextseq-pe-umis/K562_ASTARR_repeat_rep3.R1.trimmed.read_count.txt\n",
      "/data/reddylab/Keith/encode4_duke/processing/starr_seq/240311_KS274_ASTARR_Output_Nextseq-pe-umis/K562_ASTARR_repeat_rep3.R2.custom_adapters.fasta\n",
      "/data/reddylab/Keith/encode4_duke/processing/starr_seq/240311_KS274_ASTARR_Output_Nextseq-pe-umis/K562_ASTARR_repeat_rep3.R2.fastqc_data.txt\n",
      "\u001b[38;5;9m/data/reddylab/Keith/encode4_duke/processing/starr_seq/240311_KS274_ASTARR_Output_Nextseq-pe-umis/K562_ASTARR_repeat_rep3.R2_fastqc.zip\u001b[0m\u001b[K\n",
      "/data/reddylab/Keith/encode4_duke/processing/starr_seq/240311_KS274_ASTARR_Output_Nextseq-pe-umis/K562_ASTARR_repeat_rep3.R2.read_count.txt\n",
      "\u001b[38;5;9m/data/reddylab/Keith/encode4_duke/processing/starr_seq/240311_KS274_ASTARR_Output_Nextseq-pe-umis/K562_ASTARR_repeat_rep3.R2.trimmed.fastq.gz\u001b[0m\u001b[K\n",
      "/data/reddylab/Keith/encode4_duke/processing/starr_seq/240311_KS274_ASTARR_Output_Nextseq-pe-umis/K562_ASTARR_repeat_rep3.R2.trimmed.fastq.read_count.txt\n",
      "\u001b[38;5;9m/data/reddylab/Keith/encode4_duke/processing/starr_seq/240311_KS274_ASTARR_Output_Nextseq-pe-umis/K562_ASTARR_repeat_rep3.unmmaped.fastq.gz\u001b[0m\u001b[K\n"
     ]
    }
   ],
   "source": [
    "ls /data/reddylab/Keith/encode4_duke/processing/starr_seq/240311_KS274_ASTARR_Output_Nextseq-pe-umis/K562*"
   ]
  },
  {
   "cell_type": "code",
   "execution_count": null,
   "id": "130fb7c6-f35c-410c-a1d3-41749bbe5b79",
   "metadata": {},
   "outputs": [],
   "source": []
  }
 ],
 "metadata": {
  "kernelspec": {
   "display_name": "Bash",
   "language": "bash",
   "name": "bash"
  },
  "language_info": {
   "codemirror_mode": "shell",
   "file_extension": ".sh",
   "mimetype": "text/x-sh",
   "name": "bash"
  }
 },
 "nbformat": 4,
 "nbformat_minor": 5
}
