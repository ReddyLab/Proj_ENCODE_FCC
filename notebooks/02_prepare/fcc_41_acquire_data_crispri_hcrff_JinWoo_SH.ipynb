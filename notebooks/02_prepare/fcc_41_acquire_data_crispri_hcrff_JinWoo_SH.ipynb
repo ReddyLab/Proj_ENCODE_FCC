{
 "cells": [
  {
   "cell_type": "raw",
   "id": "df1a6fd7-5e80-4ae5-a3b6-72c7a652f51a",
   "metadata": {},
   "source": [
    "---\n",
    "title: Prepare CRISPRi-HCRFF processed by JinWoo 01\n",
    "subtitle: Check data\n",
    "format:\n",
    "    html:\n",
    "        code-fold:  true\n",
    "        code-tools: true\n",
    "---"
   ]
  },
  {
   "cell_type": "markdown",
   "id": "ac222854-67da-4873-b74d-3a3fec0a03a4",
   "metadata": {},
   "source": [
    "**Set environment**"
   ]
  },
  {
   "cell_type": "code",
   "execution_count": 2,
   "id": "936a5385-5773-4330-ab3e-31ab00decf16",
   "metadata": {},
   "outputs": [
    {
     "name": "stdout",
     "output_type": "stream",
     "text": [
      "You are working on             Duke Server: HARDAC\n",
      "BASE DIRECTORY (FD_BASE):      /data/reddylab/Kuei\n",
      "REPO DIRECTORY (FD_REPO):      /data/reddylab/Kuei/repo\n",
      "WORK DIRECTORY (FD_WORK):      /data/reddylab/Kuei/work\n",
      "DATA DIRECTORY (FD_DATA):      /data/reddylab/Kuei/data\n",
      "CONTAINER DIR. (FD_SING):      /data/reddylab/Kuei/container\n",
      "\n",
      "You are working with           ENCODE FCC\n",
      "PATH OF PROJECT (FD_PRJ):      /data/reddylab/Kuei/repo/Proj_ENCODE_FCC\n",
      "PROJECT RESULTS (FD_RES):      /data/reddylab/Kuei/repo/Proj_ENCODE_FCC/results\n",
      "PROJECT SCRIPTS (FD_EXE):      /data/reddylab/Kuei/repo/Proj_ENCODE_FCC/scripts\n",
      "PROJECT DATA    (FD_DAT):      /data/reddylab/Kuei/repo/Proj_ENCODE_FCC/data\n",
      "PROJECT NOTE    (FD_NBK):      /data/reddylab/Kuei/repo/Proj_ENCODE_FCC/notebooks\n",
      "PROJECT DOCS    (FD_DOC):      /data/reddylab/Kuei/repo/Proj_ENCODE_FCC/docs\n",
      "PROJECT LOG     (FD_LOG):      /data/reddylab/Kuei/repo/Proj_ENCODE_FCC/log\n",
      "PROJECT APP     (FD_APP):      /data/reddylab/Kuei/repo/Proj_ENCODE_FCC/app\n",
      "PROJECT REF     (FD_REF):      /data/reddylab/Kuei/repo/Proj_ENCODE_FCC/references\n",
      "PROJECT IMAGE   (FP_PRJ_SIF):  /data/reddylab/Kuei/repo/Proj_ENCODE_FCC/app/singularity_proj_encode_fcc.sif\n",
      "\n"
     ]
    }
   ],
   "source": [
    "source ../run_config_project.sh\n",
    "show_env"
   ]
  },
  {
   "cell_type": "code",
   "execution_count": 3,
   "id": "d3fee297-f643-4466-b95e-b056cf2d5734",
   "metadata": {},
   "outputs": [
    {
     "name": "stdout",
     "output_type": "stream",
     "text": [
      "HCRFF_20genes_ensembl.csv              \u001b[0m\u001b[38;5;27mpeak_casa_calls\u001b[0m  \u001b[38;5;27mtrack_bedgraph\u001b[0m\n",
      "K562_HCRFF_20genes_TSS_TES_coords.out  Readme.md        \u001b[38;5;27mtrack_bigwig\u001b[0m\n"
     ]
    }
   ],
   "source": [
    "ls ${FD_WORK}/proj_encode_fcc/source/CRISPRi_FlowFISH"
   ]
  },
  {
   "cell_type": "code",
   "execution_count": 6,
   "id": "7db94ec5-e6da-4280-ad70-aeffa15b66e2",
   "metadata": {},
   "outputs": [],
   "source": [
    "FD_INP=${FD_WORK}/proj_encode_fcc/source/CRISPRi_FlowFISH/track_bedgraph\n",
    "FD_OUT=${FD_DAT}/processed/fcc_trackhub_JinWoo/track_bedgraph\n",
    "\n",
    "mkdir -p ${FD_OUT}\n",
    "cp ${FD_INP}/* ${FD_OUT}"
   ]
  },
  {
   "cell_type": "code",
   "execution_count": 7,
   "id": "705ea1e0-fc21-45f8-9796-fdebf46ad3f2",
   "metadata": {},
   "outputs": [
    {
     "name": "stdout",
     "output_type": "stream",
     "text": [
      "CAPRIN1_HCRFF_r1.log2FC_Z.bedgraph  HBG1_HCRFF_r1.log2FC_Z.bedgraph\n",
      "CAPRIN1_HCRFF_r2.log2FC_Z.bedgraph  HBG1_HCRFF_r2.log2FC_Z.bedgraph\n",
      "CAPRIN1_HS_exp_r1.tsv               HBG1_HS_exp_r1.tsv\n",
      "\u001b[0m\u001b[38;5;9mCAPRIN1_HS_exp_r1.tsv.gz\u001b[0m            \u001b[38;5;9mHBG1_HS_exp_r1.tsv.gz\u001b[0m\n",
      "\u001b[38;5;9mCAPRIN1_HS_exp_r2.tsv.gz\u001b[0m            \u001b[38;5;9mHBG1_HS_exp_r2.tsv.gz\u001b[0m\n",
      "\u001b[38;5;9mCAPRIN1_LS_exp_r1.tsv.gz\u001b[0m            \u001b[38;5;9mHBG1_LS_exp_r1.tsv.gz\u001b[0m\n",
      "\u001b[38;5;9mCAPRIN1_LS_exp_r2.tsv.gz\u001b[0m            \u001b[38;5;9mHBG1_LS_exp_r2.tsv.gz\u001b[0m\n",
      "CAT_HCRFF_r1.log2FC_Z.bedgraph      HBG2_HCRFF_r1.log2FC_Z.bedgraph\n",
      "CAT_HCRFF_r2.log2FC_Z.bedgraph      HBG2_HCRFF_r2.log2FC_Z.bedgraph\n",
      "CAT_HS_exp_r1.tsv                   HBG2_HS_exp_r1.tsv\n",
      "\u001b[38;5;9mCAT_HS_exp_r1.tsv.gz\u001b[0m                \u001b[38;5;9mHBG2_HS_exp_r1.tsv.gz\u001b[0m\n",
      "\u001b[38;5;9mCAT_HS_exp_r2.tsv.gz\u001b[0m                \u001b[38;5;9mHBG2_HS_exp_r2.tsv.gz\u001b[0m\n",
      "\u001b[38;5;9mCAT_LS_exp_r1.tsv.gz\u001b[0m                \u001b[38;5;9mHBG2_LS_exp_r1.tsv.gz\u001b[0m\n",
      "\u001b[38;5;9mCAT_LS_exp_r2.tsv.gz\u001b[0m                \u001b[38;5;9mHBG2_LS_exp_r2.tsv.gz\u001b[0m\n",
      "CD164_HCRFF_r1.log2FC_Z.bedgraph    HBS1L_HCRFF_r1.log2FC_Z.bedgraph\n",
      "CD164_HCRFF_r2.log2FC_Z.bedgraph    HBS1L_HCRFF_r2.log2FC_Z.bedgraph\n",
      "CD164_HS_exp_r1.tsv                 HBS1L_HS_exp_r1.tsv\n",
      "\u001b[38;5;9mCD164_HS_exp_r1.tsv.gz\u001b[0m              \u001b[38;5;9mHBS1L_HS_exp_r1.tsv.gz\u001b[0m\n",
      "\u001b[38;5;9mCD164_HS_exp_r2.tsv.gz\u001b[0m              \u001b[38;5;9mHBS1L_HS_exp_r2.tsv.gz\u001b[0m\n",
      "\u001b[38;5;9mCD164_LS_exp_r1.tsv.gz\u001b[0m              \u001b[38;5;9mHBS1L_LS_exp_r1.tsv.gz\u001b[0m\n",
      "\u001b[38;5;9mCD164_LS_exp_r2.tsv.gz\u001b[0m              \u001b[38;5;9mHBS1L_LS_exp_r2.tsv.gz\u001b[0m\n",
      "ERP29_HCRFF_r1.log2FC_Z.bedgraph    HDAC6_HCRFF_r1.log2FC_Z.bedgraph\n",
      "ERP29_HCRFF_r2.log2FC_Z.bedgraph    HDAC6_HCRFF_r2.log2FC_Z.bedgraph\n",
      "ERP29_HS_exp_r1.tsv                 HDAC6_HS_exp_r1.tsv\n",
      "\u001b[38;5;9mERP29_HS_exp_r1.tsv.gz\u001b[0m              \u001b[38;5;9mHDAC6_HS_exp_r1.tsv.gz\u001b[0m\n",
      "\u001b[38;5;9mERP29_HS_exp_r2.tsv.gz\u001b[0m              \u001b[38;5;9mHDAC6_HS_exp_r2.tsv.gz\u001b[0m\n",
      "\u001b[38;5;9mERP29_LS_exp_r1.tsv.gz\u001b[0m              \u001b[38;5;9mHDAC6_LS_exp_r1.tsv.gz\u001b[0m\n",
      "\u001b[38;5;9mERP29_LS_exp_r2.tsv.gz\u001b[0m              \u001b[38;5;9mHDAC6_LS_exp_r2.tsv.gz\u001b[0m\n",
      "FADS1_HCRFF_r1.log2FC_Z.bedgraph    LMO2_HCRFF_r1.log2FC_Z.bedgraph\n",
      "FADS1_HCRFF_r2.log2FC_Z.bedgraph    LMO2_HCRFF_r2.log2FC_Z.bedgraph\n",
      "FADS1_HS_exp_r1.tsv                 LMO2_HS_exp_r1.tsv\n",
      "\u001b[38;5;9mFADS1_HS_exp_r1.tsv.gz\u001b[0m              \u001b[38;5;9mLMO2_HS_exp_r1.tsv.gz\u001b[0m\n",
      "\u001b[38;5;9mFADS1_HS_exp_r2.tsv.gz\u001b[0m              \u001b[38;5;9mLMO2_HS_exp_r2.tsv.gz\u001b[0m\n",
      "\u001b[38;5;9mFADS1_LS_exp_r1.tsv.gz\u001b[0m              \u001b[38;5;9mLMO2_LS_exp_r1.tsv.gz\u001b[0m\n",
      "\u001b[38;5;9mFADS1_LS_exp_r2.tsv.gz\u001b[0m              \u001b[38;5;9mLMO2_LS_exp_r2.tsv.gz\u001b[0m\n",
      "FADS2_HCRFF_r1.log2FC_Z.bedgraph    MEF2C_HCRFF_r1.log2FC_Z.bedgraph\n",
      "FADS2_HCRFF_r2.log2FC_Z.bedgraph    MEF2C_HCRFF_r2.log2FC_Z.bedgraph\n",
      "FADS2_HS_exp_r1.tsv                 MEF2C_HS_exp_r1.tsv\n",
      "\u001b[38;5;9mFADS2_HS_exp_r1.tsv.gz\u001b[0m              \u001b[38;5;9mMEF2C_HS_exp_r1.tsv.gz\u001b[0m\n",
      "\u001b[38;5;9mFADS2_HS_exp_r2.tsv.gz\u001b[0m              \u001b[38;5;9mMEF2C_HS_exp_r2.tsv.gz\u001b[0m\n",
      "\u001b[38;5;9mFADS2_LS_exp_r1.tsv.gz\u001b[0m              \u001b[38;5;9mMEF2C_LS_exp_r1.tsv.gz\u001b[0m\n",
      "\u001b[38;5;9mFADS2_LS_exp_r2.tsv.gz\u001b[0m              \u001b[38;5;9mMEF2C_LS_exp_r2.tsv.gz\u001b[0m\n",
      "FADS3_HCRFF_r1.log2FC_Z.bedgraph    MYB_HCRFF_r1.log2FC_Z.bedgraph\n",
      "FADS3_HCRFF_r2.log2FC_Z.bedgraph    MYB_HCRFF_r2.log2FC_Z.bedgraph\n",
      "FADS3_HS_exp_r1.tsv                 MYB_HS_exp_r1.tsv\n",
      "\u001b[38;5;9mFADS3_HS_exp_r1.tsv.gz\u001b[0m              \u001b[38;5;9mMYB_HS_exp_r1.tsv.gz\u001b[0m\n",
      "\u001b[38;5;9mFADS3_HS_exp_r2.tsv.gz\u001b[0m              \u001b[38;5;9mMYB_HS_exp_r2.tsv.gz\u001b[0m\n",
      "\u001b[38;5;9mFADS3_LS_exp_r1.tsv.gz\u001b[0m              \u001b[38;5;9mMYB_LS_exp_r1.tsv.gz\u001b[0m\n",
      "\u001b[38;5;9mFADS3_LS_exp_r2.tsv.gz\u001b[0m              \u001b[38;5;9mMYB_LS_exp_r2.tsv.gz\u001b[0m\n",
      "FEN1_HCRFF_r1.log2FC_Z.bedgraph     MYC_HCRFF_r1.log2FC_Z.bedgraph\n",
      "FEN1_HCRFF_r2.log2FC_Z.bedgraph     MYC_HCRFF_r2.log2FC_Z.bedgraph\n",
      "FEN1_HS_exp_r1.tsv                  MYC_HS_exp_r1.tsv\n",
      "\u001b[38;5;9mFEN1_HS_exp_r1.tsv.gz\u001b[0m               \u001b[38;5;9mMYC_HS_exp_r1.tsv.gz\u001b[0m\n",
      "\u001b[38;5;9mFEN1_HS_exp_r2.tsv.gz\u001b[0m               \u001b[38;5;9mMYC_HS_exp_r2.tsv.gz\u001b[0m\n",
      "\u001b[38;5;9mFEN1_LS_exp_r1.tsv.gz\u001b[0m               \u001b[38;5;9mMYC_LS_exp_r1.tsv.gz\u001b[0m\n",
      "\u001b[38;5;9mFEN1_LS_exp_r2.tsv.gz\u001b[0m               \u001b[38;5;9mMYC_LS_exp_r2.tsv.gz\u001b[0m\n",
      "GATA1_HCRFF_r1.log2FC_Z.bedgraph    NMU_HCRFF_r1.log2FC_Z.bedgraph\n",
      "GATA1_HCRFF_r2.log2FC_Z.bedgraph    NMU_HCRFF_r2.log2FC_Z.bedgraph\n",
      "GATA1_HS_exp_r1.tsv                 NMU_HS_exp_r1.tsv\n",
      "\u001b[38;5;9mGATA1_HS_exp_r1.tsv.gz\u001b[0m              \u001b[38;5;9mNMU_HS_exp_r1.tsv.gz\u001b[0m\n",
      "\u001b[38;5;9mGATA1_HS_exp_r2.tsv.gz\u001b[0m              \u001b[38;5;9mNMU_HS_exp_r2.tsv.gz\u001b[0m\n",
      "\u001b[38;5;9mGATA1_LS_exp_r1.tsv.gz\u001b[0m              \u001b[38;5;9mNMU_LS_exp_r1.tsv.gz\u001b[0m\n",
      "\u001b[38;5;9mGATA1_LS_exp_r2.tsv.gz\u001b[0m              \u001b[38;5;9mNMU_LS_exp_r2.tsv.gz\u001b[0m\n",
      "HBE1_HCRFF_r1.log2FC_Z.bedgraph     PVT1_HCRFF_r1.log2FC_Z.bedgraph\n",
      "HBE1_HCRFF_r2.log2FC_Z.bedgraph     PVT1_HCRFF_r2.log2FC_Z.bedgraph\n",
      "HBE1_HS_exp_r1.tsv                  PVT1_HS_exp_r1.tsv\n",
      "\u001b[38;5;9mHBE1_HS_exp_r1.tsv.gz\u001b[0m               \u001b[38;5;9mPVT1_HS_exp_r1.tsv.gz\u001b[0m\n",
      "\u001b[38;5;9mHBE1_HS_exp_r2.tsv.gz\u001b[0m               \u001b[38;5;9mPVT1_HS_exp_r2.tsv.gz\u001b[0m\n",
      "\u001b[38;5;9mHBE1_LS_exp_r1.tsv.gz\u001b[0m               \u001b[38;5;9mPVT1_LS_exp_r1.tsv.gz\u001b[0m\n",
      "\u001b[38;5;9mHBE1_LS_exp_r2.tsv.gz\u001b[0m               \u001b[38;5;9mPVT1_LS_exp_r2.tsv.gz\u001b[0m\n"
     ]
    }
   ],
   "source": [
    "ls ${FD_INP}"
   ]
  },
  {
   "cell_type": "code",
   "execution_count": 8,
   "id": "faa54078-40a1-48f8-a785-ddbc457185f5",
   "metadata": {},
   "outputs": [
    {
     "name": "stdout",
     "output_type": "stream",
     "text": [
      "CAPRIN1_HCRFF_r1.log2FC_Z.bedgraph  HBG1_HCRFF_r1.log2FC_Z.bedgraph\n",
      "CAPRIN1_HCRFF_r2.log2FC_Z.bedgraph  HBG1_HCRFF_r2.log2FC_Z.bedgraph\n",
      "CAPRIN1_HS_exp_r1.tsv               HBG1_HS_exp_r1.tsv\n",
      "\u001b[0m\u001b[38;5;9mCAPRIN1_HS_exp_r1.tsv.gz\u001b[0m            \u001b[38;5;9mHBG1_HS_exp_r1.tsv.gz\u001b[0m\n",
      "\u001b[38;5;9mCAPRIN1_HS_exp_r2.tsv.gz\u001b[0m            \u001b[38;5;9mHBG1_HS_exp_r2.tsv.gz\u001b[0m\n",
      "\u001b[38;5;9mCAPRIN1_LS_exp_r1.tsv.gz\u001b[0m            \u001b[38;5;9mHBG1_LS_exp_r1.tsv.gz\u001b[0m\n",
      "\u001b[38;5;9mCAPRIN1_LS_exp_r2.tsv.gz\u001b[0m            \u001b[38;5;9mHBG1_LS_exp_r2.tsv.gz\u001b[0m\n",
      "CAT_HCRFF_r1.log2FC_Z.bedgraph      HBG2_HCRFF_r1.log2FC_Z.bedgraph\n",
      "CAT_HCRFF_r2.log2FC_Z.bedgraph      HBG2_HCRFF_r2.log2FC_Z.bedgraph\n",
      "CAT_HS_exp_r1.tsv                   HBG2_HS_exp_r1.tsv\n",
      "\u001b[38;5;9mCAT_HS_exp_r1.tsv.gz\u001b[0m                \u001b[38;5;9mHBG2_HS_exp_r1.tsv.gz\u001b[0m\n",
      "\u001b[38;5;9mCAT_HS_exp_r2.tsv.gz\u001b[0m                \u001b[38;5;9mHBG2_HS_exp_r2.tsv.gz\u001b[0m\n",
      "\u001b[38;5;9mCAT_LS_exp_r1.tsv.gz\u001b[0m                \u001b[38;5;9mHBG2_LS_exp_r1.tsv.gz\u001b[0m\n",
      "\u001b[38;5;9mCAT_LS_exp_r2.tsv.gz\u001b[0m                \u001b[38;5;9mHBG2_LS_exp_r2.tsv.gz\u001b[0m\n",
      "CD164_HCRFF_r1.log2FC_Z.bedgraph    HBS1L_HCRFF_r1.log2FC_Z.bedgraph\n",
      "CD164_HCRFF_r2.log2FC_Z.bedgraph    HBS1L_HCRFF_r2.log2FC_Z.bedgraph\n",
      "CD164_HS_exp_r1.tsv                 HBS1L_HS_exp_r1.tsv\n",
      "\u001b[38;5;9mCD164_HS_exp_r1.tsv.gz\u001b[0m              \u001b[38;5;9mHBS1L_HS_exp_r1.tsv.gz\u001b[0m\n",
      "\u001b[38;5;9mCD164_HS_exp_r2.tsv.gz\u001b[0m              \u001b[38;5;9mHBS1L_HS_exp_r2.tsv.gz\u001b[0m\n",
      "\u001b[38;5;9mCD164_LS_exp_r1.tsv.gz\u001b[0m              \u001b[38;5;9mHBS1L_LS_exp_r1.tsv.gz\u001b[0m\n",
      "\u001b[38;5;9mCD164_LS_exp_r2.tsv.gz\u001b[0m              \u001b[38;5;9mHBS1L_LS_exp_r2.tsv.gz\u001b[0m\n",
      "ERP29_HCRFF_r1.log2FC_Z.bedgraph    HDAC6_HCRFF_r1.log2FC_Z.bedgraph\n",
      "ERP29_HCRFF_r2.log2FC_Z.bedgraph    HDAC6_HCRFF_r2.log2FC_Z.bedgraph\n",
      "ERP29_HS_exp_r1.tsv                 HDAC6_HS_exp_r1.tsv\n",
      "\u001b[38;5;9mERP29_HS_exp_r1.tsv.gz\u001b[0m              \u001b[38;5;9mHDAC6_HS_exp_r1.tsv.gz\u001b[0m\n",
      "\u001b[38;5;9mERP29_HS_exp_r2.tsv.gz\u001b[0m              \u001b[38;5;9mHDAC6_HS_exp_r2.tsv.gz\u001b[0m\n",
      "\u001b[38;5;9mERP29_LS_exp_r1.tsv.gz\u001b[0m              \u001b[38;5;9mHDAC6_LS_exp_r1.tsv.gz\u001b[0m\n",
      "\u001b[38;5;9mERP29_LS_exp_r2.tsv.gz\u001b[0m              \u001b[38;5;9mHDAC6_LS_exp_r2.tsv.gz\u001b[0m\n",
      "FADS1_HCRFF_r1.log2FC_Z.bedgraph    LMO2_HCRFF_r1.log2FC_Z.bedgraph\n",
      "FADS1_HCRFF_r2.log2FC_Z.bedgraph    LMO2_HCRFF_r2.log2FC_Z.bedgraph\n",
      "FADS1_HS_exp_r1.tsv                 LMO2_HS_exp_r1.tsv\n",
      "\u001b[38;5;9mFADS1_HS_exp_r1.tsv.gz\u001b[0m              \u001b[38;5;9mLMO2_HS_exp_r1.tsv.gz\u001b[0m\n",
      "\u001b[38;5;9mFADS1_HS_exp_r2.tsv.gz\u001b[0m              \u001b[38;5;9mLMO2_HS_exp_r2.tsv.gz\u001b[0m\n",
      "\u001b[38;5;9mFADS1_LS_exp_r1.tsv.gz\u001b[0m              \u001b[38;5;9mLMO2_LS_exp_r1.tsv.gz\u001b[0m\n",
      "\u001b[38;5;9mFADS1_LS_exp_r2.tsv.gz\u001b[0m              \u001b[38;5;9mLMO2_LS_exp_r2.tsv.gz\u001b[0m\n",
      "FADS2_HCRFF_r1.log2FC_Z.bedgraph    MEF2C_HCRFF_r1.log2FC_Z.bedgraph\n",
      "FADS2_HCRFF_r2.log2FC_Z.bedgraph    MEF2C_HCRFF_r2.log2FC_Z.bedgraph\n",
      "FADS2_HS_exp_r1.tsv                 MEF2C_HS_exp_r1.tsv\n",
      "\u001b[38;5;9mFADS2_HS_exp_r1.tsv.gz\u001b[0m              \u001b[38;5;9mMEF2C_HS_exp_r1.tsv.gz\u001b[0m\n",
      "\u001b[38;5;9mFADS2_HS_exp_r2.tsv.gz\u001b[0m              \u001b[38;5;9mMEF2C_HS_exp_r2.tsv.gz\u001b[0m\n",
      "\u001b[38;5;9mFADS2_LS_exp_r1.tsv.gz\u001b[0m              \u001b[38;5;9mMEF2C_LS_exp_r1.tsv.gz\u001b[0m\n",
      "\u001b[38;5;9mFADS2_LS_exp_r2.tsv.gz\u001b[0m              \u001b[38;5;9mMEF2C_LS_exp_r2.tsv.gz\u001b[0m\n",
      "FADS3_HCRFF_r1.log2FC_Z.bedgraph    MYB_HCRFF_r1.log2FC_Z.bedgraph\n",
      "FADS3_HCRFF_r2.log2FC_Z.bedgraph    MYB_HCRFF_r2.log2FC_Z.bedgraph\n",
      "FADS3_HS_exp_r1.tsv                 MYB_HS_exp_r1.tsv\n",
      "\u001b[38;5;9mFADS3_HS_exp_r1.tsv.gz\u001b[0m              \u001b[38;5;9mMYB_HS_exp_r1.tsv.gz\u001b[0m\n",
      "\u001b[38;5;9mFADS3_HS_exp_r2.tsv.gz\u001b[0m              \u001b[38;5;9mMYB_HS_exp_r2.tsv.gz\u001b[0m\n",
      "\u001b[38;5;9mFADS3_LS_exp_r1.tsv.gz\u001b[0m              \u001b[38;5;9mMYB_LS_exp_r1.tsv.gz\u001b[0m\n",
      "\u001b[38;5;9mFADS3_LS_exp_r2.tsv.gz\u001b[0m              \u001b[38;5;9mMYB_LS_exp_r2.tsv.gz\u001b[0m\n",
      "FEN1_HCRFF_r1.log2FC_Z.bedgraph     MYC_HCRFF_r1.log2FC_Z.bedgraph\n",
      "FEN1_HCRFF_r2.log2FC_Z.bedgraph     MYC_HCRFF_r2.log2FC_Z.bedgraph\n",
      "FEN1_HS_exp_r1.tsv                  MYC_HS_exp_r1.tsv\n",
      "\u001b[38;5;9mFEN1_HS_exp_r1.tsv.gz\u001b[0m               \u001b[38;5;9mMYC_HS_exp_r1.tsv.gz\u001b[0m\n",
      "\u001b[38;5;9mFEN1_HS_exp_r2.tsv.gz\u001b[0m               \u001b[38;5;9mMYC_HS_exp_r2.tsv.gz\u001b[0m\n",
      "\u001b[38;5;9mFEN1_LS_exp_r1.tsv.gz\u001b[0m               \u001b[38;5;9mMYC_LS_exp_r1.tsv.gz\u001b[0m\n",
      "\u001b[38;5;9mFEN1_LS_exp_r2.tsv.gz\u001b[0m               \u001b[38;5;9mMYC_LS_exp_r2.tsv.gz\u001b[0m\n",
      "GATA1_HCRFF_r1.log2FC_Z.bedgraph    NMU_HCRFF_r1.log2FC_Z.bedgraph\n",
      "GATA1_HCRFF_r2.log2FC_Z.bedgraph    NMU_HCRFF_r2.log2FC_Z.bedgraph\n",
      "GATA1_HS_exp_r1.tsv                 NMU_HS_exp_r1.tsv\n",
      "\u001b[38;5;9mGATA1_HS_exp_r1.tsv.gz\u001b[0m              \u001b[38;5;9mNMU_HS_exp_r1.tsv.gz\u001b[0m\n",
      "\u001b[38;5;9mGATA1_HS_exp_r2.tsv.gz\u001b[0m              \u001b[38;5;9mNMU_HS_exp_r2.tsv.gz\u001b[0m\n",
      "\u001b[38;5;9mGATA1_LS_exp_r1.tsv.gz\u001b[0m              \u001b[38;5;9mNMU_LS_exp_r1.tsv.gz\u001b[0m\n",
      "\u001b[38;5;9mGATA1_LS_exp_r2.tsv.gz\u001b[0m              \u001b[38;5;9mNMU_LS_exp_r2.tsv.gz\u001b[0m\n",
      "HBE1_HCRFF_r1.log2FC_Z.bedgraph     PVT1_HCRFF_r1.log2FC_Z.bedgraph\n",
      "HBE1_HCRFF_r2.log2FC_Z.bedgraph     PVT1_HCRFF_r2.log2FC_Z.bedgraph\n",
      "HBE1_HS_exp_r1.tsv                  PVT1_HS_exp_r1.tsv\n",
      "\u001b[38;5;9mHBE1_HS_exp_r1.tsv.gz\u001b[0m               \u001b[38;5;9mPVT1_HS_exp_r1.tsv.gz\u001b[0m\n",
      "\u001b[38;5;9mHBE1_HS_exp_r2.tsv.gz\u001b[0m               \u001b[38;5;9mPVT1_HS_exp_r2.tsv.gz\u001b[0m\n",
      "\u001b[38;5;9mHBE1_LS_exp_r1.tsv.gz\u001b[0m               \u001b[38;5;9mPVT1_LS_exp_r1.tsv.gz\u001b[0m\n",
      "\u001b[38;5;9mHBE1_LS_exp_r2.tsv.gz\u001b[0m               \u001b[38;5;9mPVT1_LS_exp_r2.tsv.gz\u001b[0m\n"
     ]
    }
   ],
   "source": [
    "ls ${FD_OUT}"
   ]
  },
  {
   "cell_type": "code",
   "execution_count": null,
   "id": "7f909029-574d-4e07-9cd7-5fccd49399bb",
   "metadata": {},
   "outputs": [],
   "source": []
  }
 ],
 "metadata": {
  "kernelspec": {
   "display_name": "Bash",
   "language": "bash",
   "name": "bash"
  },
  "language_info": {
   "codemirror_mode": "shell",
   "file_extension": ".sh",
   "mimetype": "text/x-sh",
   "name": "bash"
  }
 },
 "nbformat": 4,
 "nbformat_minor": 5
}
