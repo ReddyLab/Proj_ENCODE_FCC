{
 "cells": [
  {
   "cell_type": "raw",
   "id": "369ef77f-b572-4821-a4dc-1ccd33cd2f6e",
   "metadata": {},
   "source": [
    "---\n",
    "title: Prepare CRISPRi-HCRFF processed by JinWoo 02\n",
    "subtitle: Get the genomic range of fragments designed in CRISPRi-HCRFF\n",
    "format:\n",
    "    html:\n",
    "        code-fold:  true\n",
    "        code-tools: true\n",
    "---"
   ]
  },
  {
   "cell_type": "markdown",
   "id": "32e6149c-f6e5-498e-9fe5-c65348b059c6",
   "metadata": {},
   "source": [
    "**Set environment**"
   ]
  },
  {
   "cell_type": "code",
   "execution_count": 2,
   "id": "a6130bb9-069d-48c0-bfdc-4287389fcca0",
   "metadata": {},
   "outputs": [
    {
     "name": "stdout",
     "output_type": "stream",
     "text": [
      "You are working on        Singularity \n",
      "BASE DIRECTORY (FD_BASE): /mount \n",
      "REPO DIRECTORY (FD_REPO): /mount/repo \n",
      "WORK DIRECTORY (FD_WORK): /mount/work \n",
      "DATA DIRECTORY (FD_DATA): /mount/data \n",
      "\n",
      "You are working with      ENCODE FCC \n",
      "PATH OF PROJECT (FD_PRJ): /mount/repo/Proj_ENCODE_FCC \n",
      "PROJECT RESULTS (FD_RES): /mount/repo/Proj_ENCODE_FCC/results \n",
      "PROJECT SCRIPTS (FD_EXE): /mount/repo/Proj_ENCODE_FCC/scripts \n",
      "PROJECT DATA    (FD_DAT): /mount/repo/Proj_ENCODE_FCC/data \n",
      "PROJECT NOTE    (FD_NBK): /mount/repo/Proj_ENCODE_FCC/notebooks \n",
      "PROJECT DOCS    (FD_DOC): /mount/repo/Proj_ENCODE_FCC/docs \n",
      "PROJECT LOG     (FD_LOG): /mount/repo/Proj_ENCODE_FCC/log \n",
      "PROJECT APP     (FD_APP): /mount/repo/Proj_ENCODE_FCC/app \n",
      "PROJECT REF     (FD_REF): /mount/repo/Proj_ENCODE_FCC/references \n",
      "\n"
     ]
    }
   ],
   "source": [
    "suppressMessages(suppressWarnings(source(\"../run_config_project_sing.R\")))\n",
    "show_env()"
   ]
  },
  {
   "cell_type": "markdown",
   "id": "4e3b4217-9b7a-43fb-befb-0f02b4b2ad66",
   "metadata": {},
   "source": [
    "**Set global variables**"
   ]
  },
  {
   "cell_type": "code",
   "execution_count": 3,
   "id": "03e979fd-16c6-4440-9a17-f34aeb74fbbb",
   "metadata": {},
   "outputs": [],
   "source": [
    "TXT_ASSAY = \"CRISPRi_FlowFISH_K562_Riley_JinWoo\""
   ]
  },
  {
   "cell_type": "markdown",
   "id": "d62d7ca7-c4cf-411a-81a7-cb584f594022",
   "metadata": {},
   "source": [
    "## Import data"
   ]
  },
  {
   "cell_type": "code",
   "execution_count": 15,
   "id": "99955662-646a-46dd-a5ba-fb370c6892a9",
   "metadata": {},
   "outputs": [
    {
     "data": {
      "text/html": [
       "<table class=\"dataframe\">\n",
       "<caption>A tibble: 6 × 17</caption>\n",
       "<thead>\n",
       "\t<tr><th scope=col>Chrom</th><th scope=col>ChromStart</th><th scope=col>ChromEnd</th><th scope=col>Name</th><th scope=col>SeqCounts</th><th scope=col>Strand</th><th scope=col>Guide_ID</th><th scope=col>Chrom_TSS</th><th scope=col>ChromStart_TSS</th><th scope=col>ChromEnd_TSS</th><th scope=col>Strand_Gene</th><th scope=col>Gene_Symbol</th><th scope=col>Gene_Ensembl</th><th scope=col>Guide_SpacerSeq</th><th scope=col>Guide_Seq</th><th scope=col>Guide_Type</th><th scope=col>Notes</th></tr>\n",
       "\t<tr><th scope=col>&lt;chr&gt;</th><th scope=col>&lt;int&gt;</th><th scope=col>&lt;int&gt;</th><th scope=col>&lt;chr&gt;</th><th scope=col>&lt;dbl&gt;</th><th scope=col>&lt;chr&gt;</th><th scope=col>&lt;chr&gt;</th><th scope=col>&lt;chr&gt;</th><th scope=col>&lt;dbl&gt;</th><th scope=col>&lt;dbl&gt;</th><th scope=col>&lt;chr&gt;</th><th scope=col>&lt;chr&gt;</th><th scope=col>&lt;chr&gt;</th><th scope=col>&lt;chr&gt;</th><th scope=col>&lt;chr&gt;</th><th scope=col>&lt;chr&gt;</th><th scope=col>&lt;chr&gt;</th></tr>\n",
       "</thead>\n",
       "<tbody>\n",
       "\t<tr><td>chr11</td><td>61748850</td><td>61748853</td><td>NA|chr11:61748831-61748850:+</td><td>121</td><td>+</td><td>chr11:61748831-61748850:+</td><td>chr11</td><td>34051731</td><td>34051732</td><td>+</td><td>CAPRIN1</td><td>ENSG00000135387</td><td>CTTTACCTCCACTGTAAGGC</td><td>GCTTTACCTCCACTGTAAGGC</td><td>negative_control</td><td>STT</td></tr>\n",
       "\t<tr><td>chr11</td><td>61748851</td><td>61748854</td><td>NA|chr11:61748832-61748851:+</td><td>153</td><td>+</td><td>chr11:61748832-61748851:+</td><td>chr11</td><td>34051731</td><td>34051732</td><td>+</td><td>CAPRIN1</td><td>ENSG00000135387</td><td>TTTACCTCCACTGTAAGGCA</td><td>GTTTACCTCCACTGTAAGGCA</td><td>negative_control</td><td>STT</td></tr>\n",
       "\t<tr><td>chr11</td><td>61748971</td><td>61748974</td><td>NA|chr11:61748975-61748994:-</td><td>172</td><td>-</td><td>chr11:61748975-61748994:-</td><td>chr11</td><td>34051731</td><td>34051732</td><td>+</td><td>CAPRIN1</td><td>ENSG00000135387</td><td>CTACCGAGCCACAGTGAGTG</td><td>GCTACCGAGCCACAGTGAGTG</td><td>negative_control</td><td>STT</td></tr>\n",
       "\t<tr><td>chr11</td><td>61749002</td><td>61749005</td><td>NA|chr11:61748983-61749002:+</td><td>  3</td><td>+</td><td>chr11:61748983-61749002:+</td><td>chr11</td><td>34051731</td><td>34051732</td><td>+</td><td>CAPRIN1</td><td>ENSG00000135387</td><td>GTGGCTCGGTAGAGAAGCCA</td><td>GTGGCTCGGTAGAGAAGCCA </td><td>negative_control</td><td>STT</td></tr>\n",
       "\t<tr><td>chr11</td><td>61749033</td><td>61749036</td><td>NA|chr11:61749014-61749033:+</td><td>246</td><td>+</td><td>chr11:61749014-61749033:+</td><td>chr11</td><td>34051731</td><td>34051732</td><td>+</td><td>CAPRIN1</td><td>ENSG00000135387</td><td>GAGGACTCATCTCCATTGAT</td><td>GAGGACTCATCTCCATTGAT </td><td>negative_control</td><td>STT</td></tr>\n",
       "\t<tr><td>chr11</td><td>61749038</td><td>61749041</td><td>NA|chr11:61749042-61749061:-</td><td>851</td><td>-</td><td>chr11:61749042-61749061:-</td><td>chr11</td><td>34051731</td><td>34051732</td><td>+</td><td>CAPRIN1</td><td>ENSG00000135387</td><td>ACTTGCATACAAGGACCTAG</td><td>GACTTGCATACAAGGACCTAG</td><td>negative_control</td><td>STT</td></tr>\n",
       "</tbody>\n",
       "</table>\n"
      ],
      "text/latex": [
       "A tibble: 6 × 17\n",
       "\\begin{tabular}{lllllllllllllllll}\n",
       " Chrom & ChromStart & ChromEnd & Name & SeqCounts & Strand & Guide\\_ID & Chrom\\_TSS & ChromStart\\_TSS & ChromEnd\\_TSS & Strand\\_Gene & Gene\\_Symbol & Gene\\_Ensembl & Guide\\_SpacerSeq & Guide\\_Seq & Guide\\_Type & Notes\\\\\n",
       " <chr> & <int> & <int> & <chr> & <dbl> & <chr> & <chr> & <chr> & <dbl> & <dbl> & <chr> & <chr> & <chr> & <chr> & <chr> & <chr> & <chr>\\\\\n",
       "\\hline\n",
       "\t chr11 & 61748850 & 61748853 & NA\\textbar{}chr11:61748831-61748850:+ & 121 & + & chr11:61748831-61748850:+ & chr11 & 34051731 & 34051732 & + & CAPRIN1 & ENSG00000135387 & CTTTACCTCCACTGTAAGGC & GCTTTACCTCCACTGTAAGGC & negative\\_control & STT\\\\\n",
       "\t chr11 & 61748851 & 61748854 & NA\\textbar{}chr11:61748832-61748851:+ & 153 & + & chr11:61748832-61748851:+ & chr11 & 34051731 & 34051732 & + & CAPRIN1 & ENSG00000135387 & TTTACCTCCACTGTAAGGCA & GTTTACCTCCACTGTAAGGCA & negative\\_control & STT\\\\\n",
       "\t chr11 & 61748971 & 61748974 & NA\\textbar{}chr11:61748975-61748994:- & 172 & - & chr11:61748975-61748994:- & chr11 & 34051731 & 34051732 & + & CAPRIN1 & ENSG00000135387 & CTACCGAGCCACAGTGAGTG & GCTACCGAGCCACAGTGAGTG & negative\\_control & STT\\\\\n",
       "\t chr11 & 61749002 & 61749005 & NA\\textbar{}chr11:61748983-61749002:+ &   3 & + & chr11:61748983-61749002:+ & chr11 & 34051731 & 34051732 & + & CAPRIN1 & ENSG00000135387 & GTGGCTCGGTAGAGAAGCCA & GTGGCTCGGTAGAGAAGCCA  & negative\\_control & STT\\\\\n",
       "\t chr11 & 61749033 & 61749036 & NA\\textbar{}chr11:61749014-61749033:+ & 246 & + & chr11:61749014-61749033:+ & chr11 & 34051731 & 34051732 & + & CAPRIN1 & ENSG00000135387 & GAGGACTCATCTCCATTGAT & GAGGACTCATCTCCATTGAT  & negative\\_control & STT\\\\\n",
       "\t chr11 & 61749038 & 61749041 & NA\\textbar{}chr11:61749042-61749061:- & 851 & - & chr11:61749042-61749061:- & chr11 & 34051731 & 34051732 & + & CAPRIN1 & ENSG00000135387 & ACTTGCATACAAGGACCTAG & GACTTGCATACAAGGACCTAG & negative\\_control & STT\\\\\n",
       "\\end{tabular}\n"
      ],
      "text/markdown": [
       "\n",
       "A tibble: 6 × 17\n",
       "\n",
       "| Chrom &lt;chr&gt; | ChromStart &lt;int&gt; | ChromEnd &lt;int&gt; | Name &lt;chr&gt; | SeqCounts &lt;dbl&gt; | Strand &lt;chr&gt; | Guide_ID &lt;chr&gt; | Chrom_TSS &lt;chr&gt; | ChromStart_TSS &lt;dbl&gt; | ChromEnd_TSS &lt;dbl&gt; | Strand_Gene &lt;chr&gt; | Gene_Symbol &lt;chr&gt; | Gene_Ensembl &lt;chr&gt; | Guide_SpacerSeq &lt;chr&gt; | Guide_Seq &lt;chr&gt; | Guide_Type &lt;chr&gt; | Notes &lt;chr&gt; |\n",
       "|---|---|---|---|---|---|---|---|---|---|---|---|---|---|---|---|---|\n",
       "| chr11 | 61748850 | 61748853 | NA|chr11:61748831-61748850:+ | 121 | + | chr11:61748831-61748850:+ | chr11 | 34051731 | 34051732 | + | CAPRIN1 | ENSG00000135387 | CTTTACCTCCACTGTAAGGC | GCTTTACCTCCACTGTAAGGC | negative_control | STT |\n",
       "| chr11 | 61748851 | 61748854 | NA|chr11:61748832-61748851:+ | 153 | + | chr11:61748832-61748851:+ | chr11 | 34051731 | 34051732 | + | CAPRIN1 | ENSG00000135387 | TTTACCTCCACTGTAAGGCA | GTTTACCTCCACTGTAAGGCA | negative_control | STT |\n",
       "| chr11 | 61748971 | 61748974 | NA|chr11:61748975-61748994:- | 172 | - | chr11:61748975-61748994:- | chr11 | 34051731 | 34051732 | + | CAPRIN1 | ENSG00000135387 | CTACCGAGCCACAGTGAGTG | GCTACCGAGCCACAGTGAGTG | negative_control | STT |\n",
       "| chr11 | 61749002 | 61749005 | NA|chr11:61748983-61749002:+ |   3 | + | chr11:61748983-61749002:+ | chr11 | 34051731 | 34051732 | + | CAPRIN1 | ENSG00000135387 | GTGGCTCGGTAGAGAAGCCA | GTGGCTCGGTAGAGAAGCCA  | negative_control | STT |\n",
       "| chr11 | 61749033 | 61749036 | NA|chr11:61749014-61749033:+ | 246 | + | chr11:61749014-61749033:+ | chr11 | 34051731 | 34051732 | + | CAPRIN1 | ENSG00000135387 | GAGGACTCATCTCCATTGAT | GAGGACTCATCTCCATTGAT  | negative_control | STT |\n",
       "| chr11 | 61749038 | 61749041 | NA|chr11:61749042-61749061:- | 851 | - | chr11:61749042-61749061:- | chr11 | 34051731 | 34051732 | + | CAPRIN1 | ENSG00000135387 | ACTTGCATACAAGGACCTAG | GACTTGCATACAAGGACCTAG | negative_control | STT |\n",
       "\n"
      ],
      "text/plain": [
       "  Chrom ChromStart ChromEnd Name                         SeqCounts Strand\n",
       "1 chr11 61748850   61748853 NA|chr11:61748831-61748850:+ 121       +     \n",
       "2 chr11 61748851   61748854 NA|chr11:61748832-61748851:+ 153       +     \n",
       "3 chr11 61748971   61748974 NA|chr11:61748975-61748994:- 172       -     \n",
       "4 chr11 61749002   61749005 NA|chr11:61748983-61749002:+   3       +     \n",
       "5 chr11 61749033   61749036 NA|chr11:61749014-61749033:+ 246       +     \n",
       "6 chr11 61749038   61749041 NA|chr11:61749042-61749061:- 851       -     \n",
       "  Guide_ID                  Chrom_TSS ChromStart_TSS ChromEnd_TSS Strand_Gene\n",
       "1 chr11:61748831-61748850:+ chr11     34051731       34051732     +          \n",
       "2 chr11:61748832-61748851:+ chr11     34051731       34051732     +          \n",
       "3 chr11:61748975-61748994:- chr11     34051731       34051732     +          \n",
       "4 chr11:61748983-61749002:+ chr11     34051731       34051732     +          \n",
       "5 chr11:61749014-61749033:+ chr11     34051731       34051732     +          \n",
       "6 chr11:61749042-61749061:- chr11     34051731       34051732     +          \n",
       "  Gene_Symbol Gene_Ensembl    Guide_SpacerSeq      Guide_Seq            \n",
       "1 CAPRIN1     ENSG00000135387 CTTTACCTCCACTGTAAGGC GCTTTACCTCCACTGTAAGGC\n",
       "2 CAPRIN1     ENSG00000135387 TTTACCTCCACTGTAAGGCA GTTTACCTCCACTGTAAGGCA\n",
       "3 CAPRIN1     ENSG00000135387 CTACCGAGCCACAGTGAGTG GCTACCGAGCCACAGTGAGTG\n",
       "4 CAPRIN1     ENSG00000135387 GTGGCTCGGTAGAGAAGCCA GTGGCTCGGTAGAGAAGCCA \n",
       "5 CAPRIN1     ENSG00000135387 GAGGACTCATCTCCATTGAT GAGGACTCATCTCCATTGAT \n",
       "6 CAPRIN1     ENSG00000135387 ACTTGCATACAAGGACCTAG GACTTGCATACAAGGACCTAG\n",
       "  Guide_Type       Notes\n",
       "1 negative_control STT  \n",
       "2 negative_control STT  \n",
       "3 negative_control STT  \n",
       "4 negative_control STT  \n",
       "5 negative_control STT  \n",
       "6 negative_control STT  "
      ]
     },
     "metadata": {},
     "output_type": "display_data"
    }
   ],
   "source": [
    "### set directory\n",
    "txt_assay  = \"CRISPRi_FlowFISH_K562_Riley_JinWoo\"\n",
    "txt_folder = \"track_bedgraph\"\n",
    "txt_fdiry = file.path(FD_DAT, \"processed\", txt_assay, txt_folder)\n",
    "txt_fname = \"*_?S_exp_r?.tsv.gz\"\n",
    "txt_fglob = file.path(txt_fdiry, txt_fname)\n",
    "vec_txt_fpath = Sys.glob(txt_fglob)\n",
    "\n",
    "### set column names and types\n",
    "vec_txt_cname = c(\n",
    "    \"Chrom\", \"ChromStart\", \"ChromEnd\", \"Name\", \"SeqCounts\", \"Strand\", \"Guide_ID\", \n",
    "    \"Chrom_TSS\", \"ChromStart_TSS\", \"ChromEnd_TSS\", \"Strand_Gene\", \n",
    "    \"Gene_Symbol\", \n",
    "    \"Gene_Ensembl\", \n",
    "    \"Guide_SpacerSeq\",\n",
    "    \"Guide_Seq\",\n",
    "    \"Guide_Type\",\n",
    "    \"Notes\")\n",
    "vec_col_ctype = cols(\n",
    "    \"Chrom\"      = col_character(),\n",
    "    \"ChromStart\" = col_integer(),\n",
    "    \"ChromEnd\"   = col_integer()\n",
    ")\n",
    "\n",
    "### read tables\n",
    "lst = lapply(vec_txt_fpath, function(txt_fpath){\n",
    "    ### read data\n",
    "    dat = read_tsv(\n",
    "        txt_fpath, \n",
    "        col_names = vec_txt_cname, \n",
    "        col_types = vec_col_ctype, \n",
    "        show_col_types = FALSE)\n",
    "    return(dat)\n",
    "})\n",
    "dat = bind_rows(lst)\n",
    "\n",
    "### assign and show\n",
    "dat_guide_score_chcrff = dat\n",
    "head(dat)"
   ]
  },
  {
   "cell_type": "code",
   "execution_count": 24,
   "id": "0e93eca4-efc8-4f1d-865f-702e5573a70b",
   "metadata": {},
   "outputs": [
    {
     "name": "stdout",
     "output_type": "stream",
     "text": [
      "[1] 2737124\n",
      "[1] 684281\n",
      "[1] 2737124\n"
     ]
    },
    {
     "data": {
      "text/html": [
       "<table class=\"dataframe\">\n",
       "<caption>A tibble: 6 × 12</caption>\n",
       "<thead>\n",
       "\t<tr><th scope=col>Chrom</th><th scope=col>ChromStart</th><th scope=col>ChromEnd</th><th scope=col>Name</th><th scope=col>Strand</th><th scope=col>Guide_ID</th><th scope=col>Gene_Symbol</th><th scope=col>Gene_Ensembl</th><th scope=col>Guide_SpacerSeq</th><th scope=col>Guide_Seq</th><th scope=col>Guide_Type</th><th scope=col>Notes</th></tr>\n",
       "\t<tr><th scope=col>&lt;chr&gt;</th><th scope=col>&lt;int&gt;</th><th scope=col>&lt;int&gt;</th><th scope=col>&lt;chr&gt;</th><th scope=col>&lt;chr&gt;</th><th scope=col>&lt;chr&gt;</th><th scope=col>&lt;chr&gt;</th><th scope=col>&lt;chr&gt;</th><th scope=col>&lt;chr&gt;</th><th scope=col>&lt;chr&gt;</th><th scope=col>&lt;chr&gt;</th><th scope=col>&lt;chr&gt;</th></tr>\n",
       "</thead>\n",
       "<tbody>\n",
       "\t<tr><td>chr11</td><td>61748850</td><td>61748853</td><td>NA|chr11:61748831-61748850:+</td><td>+</td><td>chr11:61748831-61748850:+</td><td>CAPRIN1</td><td>ENSG00000135387</td><td>CTTTACCTCCACTGTAAGGC</td><td>GCTTTACCTCCACTGTAAGGC</td><td>negative_control</td><td>STT</td></tr>\n",
       "\t<tr><td>chr11</td><td>61748851</td><td>61748854</td><td>NA|chr11:61748832-61748851:+</td><td>+</td><td>chr11:61748832-61748851:+</td><td>CAPRIN1</td><td>ENSG00000135387</td><td>TTTACCTCCACTGTAAGGCA</td><td>GTTTACCTCCACTGTAAGGCA</td><td>negative_control</td><td>STT</td></tr>\n",
       "\t<tr><td>chr11</td><td>61748971</td><td>61748974</td><td>NA|chr11:61748975-61748994:-</td><td>-</td><td>chr11:61748975-61748994:-</td><td>CAPRIN1</td><td>ENSG00000135387</td><td>CTACCGAGCCACAGTGAGTG</td><td>GCTACCGAGCCACAGTGAGTG</td><td>negative_control</td><td>STT</td></tr>\n",
       "\t<tr><td>chr11</td><td>61749002</td><td>61749005</td><td>NA|chr11:61748983-61749002:+</td><td>+</td><td>chr11:61748983-61749002:+</td><td>CAPRIN1</td><td>ENSG00000135387</td><td>GTGGCTCGGTAGAGAAGCCA</td><td>GTGGCTCGGTAGAGAAGCCA </td><td>negative_control</td><td>STT</td></tr>\n",
       "\t<tr><td>chr11</td><td>61749033</td><td>61749036</td><td>NA|chr11:61749014-61749033:+</td><td>+</td><td>chr11:61749014-61749033:+</td><td>CAPRIN1</td><td>ENSG00000135387</td><td>GAGGACTCATCTCCATTGAT</td><td>GAGGACTCATCTCCATTGAT </td><td>negative_control</td><td>STT</td></tr>\n",
       "\t<tr><td>chr11</td><td>61749038</td><td>61749041</td><td>NA|chr11:61749042-61749061:-</td><td>-</td><td>chr11:61749042-61749061:-</td><td>CAPRIN1</td><td>ENSG00000135387</td><td>ACTTGCATACAAGGACCTAG</td><td>GACTTGCATACAAGGACCTAG</td><td>negative_control</td><td>STT</td></tr>\n",
       "</tbody>\n",
       "</table>\n"
      ],
      "text/latex": [
       "A tibble: 6 × 12\n",
       "\\begin{tabular}{llllllllllll}\n",
       " Chrom & ChromStart & ChromEnd & Name & Strand & Guide\\_ID & Gene\\_Symbol & Gene\\_Ensembl & Guide\\_SpacerSeq & Guide\\_Seq & Guide\\_Type & Notes\\\\\n",
       " <chr> & <int> & <int> & <chr> & <chr> & <chr> & <chr> & <chr> & <chr> & <chr> & <chr> & <chr>\\\\\n",
       "\\hline\n",
       "\t chr11 & 61748850 & 61748853 & NA\\textbar{}chr11:61748831-61748850:+ & + & chr11:61748831-61748850:+ & CAPRIN1 & ENSG00000135387 & CTTTACCTCCACTGTAAGGC & GCTTTACCTCCACTGTAAGGC & negative\\_control & STT\\\\\n",
       "\t chr11 & 61748851 & 61748854 & NA\\textbar{}chr11:61748832-61748851:+ & + & chr11:61748832-61748851:+ & CAPRIN1 & ENSG00000135387 & TTTACCTCCACTGTAAGGCA & GTTTACCTCCACTGTAAGGCA & negative\\_control & STT\\\\\n",
       "\t chr11 & 61748971 & 61748974 & NA\\textbar{}chr11:61748975-61748994:- & - & chr11:61748975-61748994:- & CAPRIN1 & ENSG00000135387 & CTACCGAGCCACAGTGAGTG & GCTACCGAGCCACAGTGAGTG & negative\\_control & STT\\\\\n",
       "\t chr11 & 61749002 & 61749005 & NA\\textbar{}chr11:61748983-61749002:+ & + & chr11:61748983-61749002:+ & CAPRIN1 & ENSG00000135387 & GTGGCTCGGTAGAGAAGCCA & GTGGCTCGGTAGAGAAGCCA  & negative\\_control & STT\\\\\n",
       "\t chr11 & 61749033 & 61749036 & NA\\textbar{}chr11:61749014-61749033:+ & + & chr11:61749014-61749033:+ & CAPRIN1 & ENSG00000135387 & GAGGACTCATCTCCATTGAT & GAGGACTCATCTCCATTGAT  & negative\\_control & STT\\\\\n",
       "\t chr11 & 61749038 & 61749041 & NA\\textbar{}chr11:61749042-61749061:- & - & chr11:61749042-61749061:- & CAPRIN1 & ENSG00000135387 & ACTTGCATACAAGGACCTAG & GACTTGCATACAAGGACCTAG & negative\\_control & STT\\\\\n",
       "\\end{tabular}\n"
      ],
      "text/markdown": [
       "\n",
       "A tibble: 6 × 12\n",
       "\n",
       "| Chrom &lt;chr&gt; | ChromStart &lt;int&gt; | ChromEnd &lt;int&gt; | Name &lt;chr&gt; | Strand &lt;chr&gt; | Guide_ID &lt;chr&gt; | Gene_Symbol &lt;chr&gt; | Gene_Ensembl &lt;chr&gt; | Guide_SpacerSeq &lt;chr&gt; | Guide_Seq &lt;chr&gt; | Guide_Type &lt;chr&gt; | Notes &lt;chr&gt; |\n",
       "|---|---|---|---|---|---|---|---|---|---|---|---|\n",
       "| chr11 | 61748850 | 61748853 | NA|chr11:61748831-61748850:+ | + | chr11:61748831-61748850:+ | CAPRIN1 | ENSG00000135387 | CTTTACCTCCACTGTAAGGC | GCTTTACCTCCACTGTAAGGC | negative_control | STT |\n",
       "| chr11 | 61748851 | 61748854 | NA|chr11:61748832-61748851:+ | + | chr11:61748832-61748851:+ | CAPRIN1 | ENSG00000135387 | TTTACCTCCACTGTAAGGCA | GTTTACCTCCACTGTAAGGCA | negative_control | STT |\n",
       "| chr11 | 61748971 | 61748974 | NA|chr11:61748975-61748994:- | - | chr11:61748975-61748994:- | CAPRIN1 | ENSG00000135387 | CTACCGAGCCACAGTGAGTG | GCTACCGAGCCACAGTGAGTG | negative_control | STT |\n",
       "| chr11 | 61749002 | 61749005 | NA|chr11:61748983-61749002:+ | + | chr11:61748983-61749002:+ | CAPRIN1 | ENSG00000135387 | GTGGCTCGGTAGAGAAGCCA | GTGGCTCGGTAGAGAAGCCA  | negative_control | STT |\n",
       "| chr11 | 61749033 | 61749036 | NA|chr11:61749014-61749033:+ | + | chr11:61749014-61749033:+ | CAPRIN1 | ENSG00000135387 | GAGGACTCATCTCCATTGAT | GAGGACTCATCTCCATTGAT  | negative_control | STT |\n",
       "| chr11 | 61749038 | 61749041 | NA|chr11:61749042-61749061:- | - | chr11:61749042-61749061:- | CAPRIN1 | ENSG00000135387 | ACTTGCATACAAGGACCTAG | GACTTGCATACAAGGACCTAG | negative_control | STT |\n",
       "\n"
      ],
      "text/plain": [
       "  Chrom ChromStart ChromEnd Name                         Strand\n",
       "1 chr11 61748850   61748853 NA|chr11:61748831-61748850:+ +     \n",
       "2 chr11 61748851   61748854 NA|chr11:61748832-61748851:+ +     \n",
       "3 chr11 61748971   61748974 NA|chr11:61748975-61748994:- -     \n",
       "4 chr11 61749002   61749005 NA|chr11:61748983-61749002:+ +     \n",
       "5 chr11 61749033   61749036 NA|chr11:61749014-61749033:+ +     \n",
       "6 chr11 61749038   61749041 NA|chr11:61749042-61749061:- -     \n",
       "  Guide_ID                  Gene_Symbol Gene_Ensembl    Guide_SpacerSeq     \n",
       "1 chr11:61748831-61748850:+ CAPRIN1     ENSG00000135387 CTTTACCTCCACTGTAAGGC\n",
       "2 chr11:61748832-61748851:+ CAPRIN1     ENSG00000135387 TTTACCTCCACTGTAAGGCA\n",
       "3 chr11:61748975-61748994:- CAPRIN1     ENSG00000135387 CTACCGAGCCACAGTGAGTG\n",
       "4 chr11:61748983-61749002:+ CAPRIN1     ENSG00000135387 GTGGCTCGGTAGAGAAGCCA\n",
       "5 chr11:61749014-61749033:+ CAPRIN1     ENSG00000135387 GAGGACTCATCTCCATTGAT\n",
       "6 chr11:61749042-61749061:- CAPRIN1     ENSG00000135387 ACTTGCATACAAGGACCTAG\n",
       "  Guide_Seq             Guide_Type       Notes\n",
       "1 GCTTTACCTCCACTGTAAGGC negative_control STT  \n",
       "2 GTTTACCTCCACTGTAAGGCA negative_control STT  \n",
       "3 GCTACCGAGCCACAGTGAGTG negative_control STT  \n",
       "4 GTGGCTCGGTAGAGAAGCCA  negative_control STT  \n",
       "5 GAGGACTCATCTCCATTGAT  negative_control STT  \n",
       "6 GACTTGCATACAAGGACCTAG negative_control STT  "
      ]
     },
     "metadata": {},
     "output_type": "display_data"
    }
   ],
   "source": [
    "dat = dat_guide_score_chcrff\n",
    "print(nrow(dat))\n",
    "\n",
    "dat = dat %>% dplyr::select(\n",
    "    Chrom, ChromStart, ChromEnd, Name, Strand,\n",
    "    Guide_ID,\n",
    "    Gene_Symbol, \n",
    "    Gene_Ensembl,\n",
    "    Guide_SpacerSeq,\n",
    "    Guide_Seq, \n",
    "    Guide_Type,\n",
    "    Notes)\n",
    "dat = dat %>% dplyr::distinct()\n",
    "print(nrow(dat))\n",
    "print(nrow(dat)*4)\n",
    "\n",
    "dat_guide_design_chcrff = dat\n",
    "head(dat)"
   ]
  },
  {
   "cell_type": "markdown",
   "id": "fe7a9d39-192e-4af9-b1d7-aeb59e6f3fd7",
   "metadata": {},
   "source": [
    "**Summary**"
   ]
  },
  {
   "cell_type": "code",
   "execution_count": 25,
   "id": "32b72c9d-f020-4216-a8ab-466eb9fcc77e",
   "metadata": {},
   "outputs": [
    {
     "data": {
      "text/plain": [
       "         \n",
       "          negative_control targeting\n",
       "  CAPRIN1             7500     52500\n",
       "  CAT                 7500     52500\n",
       "  CD164               6500     53501\n",
       "  ERP29               7500     52500\n",
       "  FADS1                449      9551\n",
       "  FADS2                449      9551\n",
       "  FADS3                449      9551\n",
       "  FEN1                 449      9551\n",
       "  GATA1                998     14337\n",
       "  HBE1                 500     20670\n",
       "  HBG1                 500     20670\n",
       "  HBG2                 500     20670\n",
       "  HBS1L                500     20670\n",
       "  HDAC6                998     14337\n",
       "  LMO2                7500     52500\n",
       "  MEF2C               7500     52500\n",
       "  MYB                  500     20670\n",
       "  MYC                 1000     50130\n",
       "  NMU                 6500     39000\n",
       "  PVT1                1000     50130"
      ]
     },
     "metadata": {},
     "output_type": "display_data"
    }
   ],
   "source": [
    "dat = dat_guide_design_chcrff\n",
    "table(dat$Gene_Symbol, dat$Guide_Type)"
   ]
  },
  {
   "cell_type": "markdown",
   "id": "fba289f6-41e3-4dfb-a1f5-459ab495e96c",
   "metadata": {},
   "source": [
    "## Save results"
   ]
  },
  {
   "cell_type": "code",
   "execution_count": 26,
   "id": "1d0b2ad2-6259-4753-a64e-424050c4858d",
   "metadata": {},
   "outputs": [],
   "source": [
    "### set directory\n",
    "txt_assay  = \"CRISPRi_FlowFISH_K562_Riley_JinWoo\"\n",
    "txt_folder = \"guide_scores\"\n",
    "txt_fdiry  = file.path(FD_RES, \"assay_fcc\", txt_assay, txt_folder, \"summary\")\n",
    "txt_fname  = \"metadata.library_design.tsv\"\n",
    "txt_fpath  = file.path(txt_fdiry, txt_fname)\n",
    "\n",
    "### \n",
    "txt = paste(\"mkdir -p\", txt_fdiry)\n",
    "system(txt)\n",
    "\n",
    "###\n",
    "dat = dat_guide_design_chcrff\n",
    "write_tsv(dat, txt_fpath)"
   ]
  },
  {
   "cell_type": "code",
   "execution_count": null,
   "id": "f98f5d1e-4e4d-44e8-992c-4f6a4cc8d619",
   "metadata": {},
   "outputs": [],
   "source": []
  }
 ],
 "metadata": {
  "kernelspec": {
   "display_name": "R",
   "language": "R",
   "name": "ir"
  },
  "language_info": {
   "codemirror_mode": "r",
   "file_extension": ".r",
   "mimetype": "text/x-r-source",
   "name": "R",
   "pygments_lexer": "r",
   "version": "4.3.3"
  }
 },
 "nbformat": 4,
 "nbformat_minor": 5
}
