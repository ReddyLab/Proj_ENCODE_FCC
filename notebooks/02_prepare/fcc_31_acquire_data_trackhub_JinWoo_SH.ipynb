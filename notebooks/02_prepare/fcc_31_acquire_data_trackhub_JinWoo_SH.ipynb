{
 "cells": [
  {
   "cell_type": "raw",
   "id": "29c99ce0-0676-4694-985b-0eb24aa43b36",
   "metadata": {},
   "source": [
    "---\n",
    "title: Prepare track data processed by JinWoo 01\n",
    "subtitle: Acquire track data\n",
    "format:\n",
    "    html:\n",
    "        code-fold:  true\n",
    "        code-tools: true\n",
    "---"
   ]
  },
  {
   "cell_type": "markdown",
   "id": "d468022b-4573-49bd-a68f-f2cdddef1061",
   "metadata": {},
   "source": [
    "**Set environment**"
   ]
  },
  {
   "cell_type": "code",
   "execution_count": 1,
   "id": "d323d1b1-bf8a-4149-8bfe-3f4e9e2c33de",
   "metadata": {},
   "outputs": [
    {
     "name": "stdout",
     "output_type": "stream",
     "text": [
      "You are working on             Duke Server: HARDAC\n",
      "BASE DIRECTORY (FD_BASE):      /data/reddylab/Kuei\n",
      "REPO DIRECTORY (FD_REPO):      /data/reddylab/Kuei/repo\n",
      "WORK DIRECTORY (FD_WORK):      /data/reddylab/Kuei/work\n",
      "DATA DIRECTORY (FD_DATA):      /data/reddylab/Kuei/data\n",
      "CONTAINER DIR. (FD_SING):      /data/reddylab/Kuei/container\n",
      "\n",
      "You are working with           ENCODE FCC\n",
      "PATH OF PROJECT (FD_PRJ):      /data/reddylab/Kuei/repo/Proj_ENCODE_FCC\n",
      "PROJECT RESULTS (FD_RES):      /data/reddylab/Kuei/repo/Proj_ENCODE_FCC/results\n",
      "PROJECT SCRIPTS (FD_EXE):      /data/reddylab/Kuei/repo/Proj_ENCODE_FCC/scripts\n",
      "PROJECT DATA    (FD_DAT):      /data/reddylab/Kuei/repo/Proj_ENCODE_FCC/data\n",
      "PROJECT NOTE    (FD_NBK):      /data/reddylab/Kuei/repo/Proj_ENCODE_FCC/notebooks\n",
      "PROJECT DOCS    (FD_DOC):      /data/reddylab/Kuei/repo/Proj_ENCODE_FCC/docs\n",
      "PROJECT LOG     (FD_LOG):      /data/reddylab/Kuei/repo/Proj_ENCODE_FCC/log\n",
      "PROJECT APP     (FD_APP):      /data/reddylab/Kuei/repo/Proj_ENCODE_FCC/app\n",
      "PROJECT REF     (FD_REF):      /data/reddylab/Kuei/repo/Proj_ENCODE_FCC/references\n",
      "PROJECT IMAGE   (FP_PRJ_SIF):  /data/reddylab/Kuei/repo/Proj_ENCODE_FCC/app/singularity_proj_encode_fcc.sif\n",
      "\n"
     ]
    }
   ],
   "source": [
    "source ../run_config_project.sh\n",
    "show_env"
   ]
  },
  {
   "cell_type": "markdown",
   "id": "d302cea2-dff7-4c40-bc20-c83b02623bd1",
   "metadata": {},
   "source": [
    "## Check data"
   ]
  },
  {
   "cell_type": "code",
   "execution_count": 2,
   "id": "d5c3f22f-8948-4e52-a8de-dc1f516d9070",
   "metadata": {},
   "outputs": [
    {
     "name": "stdout",
     "output_type": "stream",
     "text": [
      "\u001b[0m\u001b[38;5;27mencode_chipseq_flagship\u001b[0m\n",
      "\u001b[38;5;27mencode_chipseq_histone\u001b[0m\n",
      "\u001b[38;5;27mencode_chipseq_subset\u001b[0m\n",
      "\u001b[38;5;27mencode_crispri_hcrff\u001b[0m\n",
      "\u001b[38;5;27mencode_open_chromatin\u001b[0m\n",
      "\u001b[38;5;27mfcc_genome_tss\u001b[0m\n",
      "\u001b[38;5;27mfcc_peak_call_atac\u001b[0m\n",
      "\u001b[38;5;27mfcc_peak_call_cres\u001b[0m\n",
      "\u001b[38;5;27mfcc_trackhub_JinWoo\u001b[0m\n",
      "\u001b[38;5;27mTF_modules_Shannon\u001b[0m\n"
     ]
    }
   ],
   "source": [
    "ls -1 ${FD_REF}"
   ]
  },
  {
   "cell_type": "code",
   "execution_count": 4,
   "id": "4bcd52d6-481d-4c0e-8942-2dbc7644bb39",
   "metadata": {},
   "outputs": [
    {
     "name": "stdout",
     "output_type": "stream",
     "text": [
      "CAPRIN1_HCRFF_rAVG.log2FC_2.bw\n",
      "CAT_HCRFF_rAVG.log2FC_2.bw\n",
      "CD164_HCRFF_rAVG.log2FC_2.bw\n",
      "CRISPRi_rAVG_log2FC_2.bw\n",
      "ERP29_HCRFF_rAVG.log2FC_2.bw\n",
      "FADS1_HCRFF_rAVG.log2FC_2.bw\n",
      "FADS2_HCRFF_rAVG.log2FC_2.bw\n",
      "FADS3_HCRFF_rAVG.log2FC_2.bw\n",
      "FEN1_FADS123_MPRA_tiling.Z_bp.bw\n",
      "FEN1_HCRFF_rAVG.log2FC_2.bw\n",
      "GATA1_HCRFF_rAVG.log2FC_2.bw\n",
      "GATA-MYC_Tile_K562_K562_20210130.hg38.Z_bp.bw\n",
      "HBE1_HCRFF_rAVG.log2FC_2.bw\n",
      "HBG1_HCRFF_rAVG.log2FC_2.bw\n",
      "HBG2_HCRFF_rAVG.log2FC_2.bw\n",
      "HBS1L_HCRFF_rAVG.log2FC_2.bw\n",
      "HDAC6_HCRFF_rAVG.log2FC_2.bw\n",
      "KS91_K562_bs5_log2ratio.bw\n",
      "LMO2_HCRFF_rAVG.log2FC_2.bw\n",
      "MEF2C_HCRFF_rAVG.log2FC_2.bw\n",
      "MYB_HCRFF_rAVG.log2FC_2.bw\n",
      "MYC_HCRFF_rAVG.log2FC_2.bw\n",
      "nadav_K562_MPRA_log2FC_Z_bp.bw\n",
      "NMU_HCRFF_rAVG.log2FC_2.bw\n",
      "OL45_K562_20220628.Z_bp.bw\n",
      "PVT1_HCRFF_rAVG.log2FC_2.bw\n",
      "trackDb.txt\n"
     ]
    }
   ],
   "source": [
    "ls -1 ${FD_WORK}/proj_encode_fcc/source/CRISPRi_FlowFISH/track_bigwig"
   ]
  },
  {
   "cell_type": "code",
   "execution_count": 16,
   "id": "b047abb1-a7c0-4380-b5d4-532c2e3ff360",
   "metadata": {},
   "outputs": [
    {
     "name": "stdout",
     "output_type": "stream",
     "text": [
      "HCRFF_20genes_ensembl.csv              \u001b[0m\u001b[38;5;27mpeak_casa_calls\u001b[0m  \u001b[38;5;27mtrack_bedgraph\u001b[0m\n",
      "K562_HCRFF_20genes_TSS_TES_coords.out  Readme.md        \u001b[38;5;27mtrack_bigwig\u001b[0m\n"
     ]
    }
   ],
   "source": [
    "ls ${FD_WORK}/proj_encode_fcc/source/CRISPRi_FlowFISH"
   ]
  },
  {
   "cell_type": "markdown",
   "id": "b9477c12-d79d-476a-8072-9cef7038d310",
   "metadata": {},
   "source": [
    "```\n",
    "FD_INP=${FD_WORK}/proj_encode_fcc/source/CRISPRi_FlowFISH/track_bigwig\n",
    "FN_INP=trackDb.txt\n",
    "FP_INP=${FD_INP}/${FN_INP}\n",
    "\n",
    "FD_OUT=${FD_REF}/fcc_trackhub_JinWoo\n",
    "FN_OUT=${FN_INP}\n",
    "FP_OUT=${FD_OUT}/${FN_OUT}\n",
    "\n",
    "cp ${FP_INP} ${FP_OUT}\n",
    "```"
   ]
  },
  {
   "cell_type": "code",
   "execution_count": 22,
   "id": "ce299db6-64cb-4953-ac0e-adb6d152a443",
   "metadata": {},
   "outputs": [
    {
     "name": "stdout",
     "output_type": "stream",
     "text": [
      "\u001b[0m\u001b[38;5;9mGRCh38_latest_genomic.20230315.gff.gz\u001b[0m\n",
      "K562_TSS_selected_by_higest_Pol2_TSS_sig.out\n",
      "Readme.md\n"
     ]
    }
   ],
   "source": [
    "ls -1 ${FD_WORK}/proj_encode_fcc/source/annotation_gene"
   ]
  },
  {
   "cell_type": "markdown",
   "id": "a410384f-d616-43a3-be6e-f7f82ce9b053",
   "metadata": {},
   "source": [
    "```\n",
    "FD_INP=${FD_WORK}/proj_encode_fcc/source/annotation_gene\n",
    "FN_INP=K562_TSS_selected_by_higest_Pol2_TSS_sig.out\n",
    "FP_INP=${FD_INP}/${FN_INP}\n",
    "\n",
    "FD_OUT=${FD_REF}/fcc_trackhub_JinWoo\n",
    "FN_OUT=${FN_INP}\n",
    "FP_OUT=${FD_OUT}/${FN_OUT}\n",
    "\n",
    "cp ${FP_INP} ${FP_OUT}\n",
    "```"
   ]
  },
  {
   "cell_type": "markdown",
   "id": "97e75e79-d468-451c-9cf6-92927d24d520",
   "metadata": {},
   "source": [
    "## Prepare"
   ]
  },
  {
   "cell_type": "markdown",
   "id": "b6b97b62-30aa-4609-a381-8e71b8719430",
   "metadata": {},
   "source": [
    "**Check data**"
   ]
  },
  {
   "cell_type": "code",
   "execution_count": 14,
   "id": "d1bdf1c6-aa45-40f7-bc8f-c094482b19d1",
   "metadata": {},
   "outputs": [
    {
     "name": "stdout",
     "output_type": "stream",
     "text": [
      "trackDb.txt\n"
     ]
    }
   ],
   "source": [
    "ls ${FD_REF}/fcc_trackhub_JinWoo"
   ]
  },
  {
   "cell_type": "code",
   "execution_count": 10,
   "id": "172a528a-0b82-417a-a2c8-feac96cb7eda",
   "metadata": {},
   "outputs": [
    {
     "name": "stdout",
     "output_type": "stream",
     "text": [
      "https://data.cyverse.org/dav-anon/iplant/home/ohjinwoo94/CRISPRi_rAVG_log2FC_2.bw\n",
      "https://data.cyverse.org/dav-anon/iplant/home/ohjinwoo94/CAPRIN1_HCRFF_rAVG.log2FC_2.bw\n",
      "https://data.cyverse.org/dav-anon/iplant/home/ohjinwoo94/CAT_HCRFF_rAVG.log2FC_2.bw\n",
      "https://data.cyverse.org/dav-anon/iplant/home/ohjinwoo94/CD164_HCRFF_rAVG.log2FC_2.bw\n",
      "https://data.cyverse.org/dav-anon/iplant/home/ohjinwoo94/ERP29_HCRFF_rAVG.log2FC_2.bw\n",
      "https://data.cyverse.org/dav-anon/iplant/home/ohjinwoo94/FADS1_HCRFF_rAVG.log2FC_2.bw\n",
      "https://data.cyverse.org/dav-anon/iplant/home/ohjinwoo94/FADS2_HCRFF_rAVG.log2FC_2.bw\n",
      "https://data.cyverse.org/dav-anon/iplant/home/ohjinwoo94/FADS3_HCRFF_rAVG.log2FC_2.bw\n",
      "https://data.cyverse.org/dav-anon/iplant/home/ohjinwoo94/FEN1_HCRFF_rAVG.log2FC_2.bw\n",
      "https://data.cyverse.org/dav-anon/iplant/home/ohjinwoo94/GATA1_HCRFF_rAVG.log2FC_2.bw\n",
      "https://data.cyverse.org/dav-anon/iplant/home/ohjinwoo94/HBE1_HCRFF_rAVG.log2FC_2.bw\n",
      "https://data.cyverse.org/dav-anon/iplant/home/ohjinwoo94/HBG1_HCRFF_rAVG.log2FC_2.bw\n",
      "https://data.cyverse.org/dav-anon/iplant/home/ohjinwoo94/HBG2_HCRFF_rAVG.log2FC_2.bw\n",
      "https://data.cyverse.org/dav-anon/iplant/home/ohjinwoo94/HBS1L_HCRFF_rAVG.log2FC_2.bw\n",
      "https://data.cyverse.org/dav-anon/iplant/home/ohjinwoo94/HDAC6_HCRFF_rAVG.log2FC_2.bw\n",
      "https://data.cyverse.org/dav-anon/iplant/home/ohjinwoo94/LMO2_HCRFF_rAVG.log2FC_2.bw\n",
      "https://data.cyverse.org/dav-anon/iplant/home/ohjinwoo94/MEF2C_HCRFF_rAVG.log2FC_2.bw\n",
      "https://data.cyverse.org/dav-anon/iplant/home/ohjinwoo94/MYB_HCRFF_rAVG.log2FC_2.bw\n",
      "https://data.cyverse.org/dav-anon/iplant/home/ohjinwoo94/MYC_HCRFF_rAVG.log2FC_2.bw\n",
      "https://data.cyverse.org/dav-anon/iplant/home/ohjinwoo94/NMU_HCRFF_rAVG.log2FC_2.bw\n",
      "https://data.cyverse.org/dav-anon/iplant/home/ohjinwoo94/PVT1_HCRFF_rAVG.log2FC_2.bw\n",
      "https://data.cyverse.org/dav-anon/iplant/home/ohjinwoo94/KS91_K562_bs5_log2ratio.bw\n",
      "https://data.cyverse.org/dav-anon/iplant/home/ohjinwoo94/GATA-MYC_Tile_K562_K562_20210130.hg38.Z_bp.bw\n",
      "https://data.cyverse.org/dav-anon/iplant/home/ohjinwoo94/FEN1_FADS123_MPRA_tiling.Z_bp.bw\n",
      "https://data.cyverse.org/dav-anon/iplant/home/ohjinwoo94/OL45_K562_20220628.Z_bp.bw\n",
      "https://data.cyverse.org/dav-anon/iplant/home/ohjinwoo94/nadav_K562_MPRA_log2FC_Z_bp.bw\n"
     ]
    }
   ],
   "source": [
    "FP_INP=${FD_REF}/fcc_trackhub_JinWoo/trackDb.txt\n",
    "URLS=$(cat ${FP_INP} | grep Url | grep bw | cut -f2)\n",
    "for URL in ${URLS[@]}; do\n",
    "    echo ${URL}\n",
    "done"
   ]
  },
  {
   "cell_type": "markdown",
   "id": "8cf2e0ee-e535-498f-809f-677895c11a74",
   "metadata": {},
   "source": [
    "**Create download script**"
   ]
  },
  {
   "cell_type": "code",
   "execution_count": 13,
   "id": "8e3865a5-5351-4f98-ae0a-1a1d8d2f028a",
   "metadata": {},
   "outputs": [],
   "source": [
    "### set directories\n",
    "FP_INP=${FD_REF}/fcc_trackhub_JinWoo/trackDb.txt\n",
    "FD_OUT=${FD_DAT}/processed/fcc_trackhub_JinWoo/track_bigwig\n",
    "FN_OUT=run_download.sh\n",
    "FP_OUT=${FD_OUT}/${FN_OUT}\n",
    "\n",
    "### init\n",
    "mkdir -p ${FD_OUT}\n",
    "echo '#!/bin/bash' > ${FP_OUT}\n",
    "echo 'echo -n \"\"\"\" > run_download.log.txt' >> ${FP_OUT}\n",
    "\n",
    "### wget line for each URL\n",
    "URLS=$(cat ${FP_INP} | grep Url | grep bw | cut -f2)\n",
    "for URL in ${URLS[@]}; do\n",
    "    echo \"wget -a run_download.log.txt -P ${FD_OUT} ${URL}\" >> ${FP_OUT}\n",
    "done"
   ]
  },
  {
   "cell_type": "markdown",
   "id": "e7656ec8-eac2-43bd-829b-919730bc62b4",
   "metadata": {},
   "source": [
    "## Execute"
   ]
  },
  {
   "cell_type": "markdown",
   "id": "ab8a624e-79ba-407e-b83a-c43005d1acfc",
   "metadata": {},
   "source": [
    "**Run download script**"
   ]
  },
  {
   "cell_type": "code",
   "execution_count": 14,
   "id": "ab29344f-7dd5-42ab-878d-dbb04d744ef2",
   "metadata": {},
   "outputs": [],
   "source": [
    "FD_OUT=${FD_DAT}/processed/fcc_trackhub_JinWoo/track_bigwig\n",
    "\n",
    "cd ${FD_OUT}\n",
    "chmod +x ./run_download.sh\n",
    "\n",
    "./run_download.sh"
   ]
  },
  {
   "cell_type": "markdown",
   "id": "863fdb04-76ca-4c9d-b4bf-5f00d9b09f4c",
   "metadata": {},
   "source": [
    "## Review"
   ]
  },
  {
   "cell_type": "markdown",
   "id": "b741a871-842f-41af-aa32-e3ce7c76c480",
   "metadata": {},
   "source": [
    "**Check results**"
   ]
  },
  {
   "cell_type": "code",
   "execution_count": 6,
   "id": "4d12436a-f871-4629-9494-5e6a356b0965",
   "metadata": {},
   "outputs": [
    {
     "name": "stdout",
     "output_type": "stream",
     "text": [
      "--2024-04-11 20:53:11--  https://data.cyverse.org/dav-anon/iplant/home/ohjinwoo94/CRISPRi_rAVG_log2FC_2.bw\n",
      "Resolving data.cyverse.org (data.cyverse.org)... 206.207.252.35\n",
      "Connecting to data.cyverse.org (data.cyverse.org)|206.207.252.35|:443... connected.\n",
      "HTTP request sent, awaiting response... 200 OK\n",
      "Length: 21103568 (20M) [application/octet-stream]\n",
      "Saving to: ‘/data/reddylab/Kuei/repo/Proj_ENCODE_FCC/data/processed/fcc_trackhub_JinWoo/track_bigwig/CRISPRi_rAVG_log2FC_2.bw’\n",
      "\n",
      "     0K .......... .......... .......... .......... ..........  0%  448K 46s\n",
      "    50K .......... .......... .......... .......... ..........  0% 1.04M 33s\n",
      "   100K .......... .......... .......... .......... ..........  0% 2.45M 24s\n",
      "   150K .......... .......... .......... .......... ..........  0% 3.82M 20s\n",
      "   200K .......... .......... .......... .......... ..........  1% 1.63M 18s\n",
      "   250K .......... .......... .......... .......... ..........  1% 5.73M 16s\n",
      "   300K .......... .......... .......... .......... ..........  1% 6.65M 14s\n",
      "   350K .......... .......... .......... .......... ..........  1% 7.59M 12s\n",
      "   400K .......... .......... .......... .......... ..........  2% 2.14M 12s\n",
      "   450K .......... .......... .......... .......... ..........  2% 8.69M 11s\n",
      "   500K .......... .......... .......... .......... ..........  2% 9.88M 10s\n",
      "   550K .......... .......... .......... .......... ..........  2% 12.2M 9s\n",
      "   600K .......... .......... .......... .......... ..........  3% 8.32M 9s\n"
     ]
    }
   ],
   "source": [
    "FD_OUT=${FD_DAT}/processed/fcc_trackhub_JinWoo/track_bigwig\n",
    "FN_OUT=run_download.log.txt\n",
    "FP_OUT=${FD_OUT}/${FN_OUT}\n",
    "\n",
    "head -n 20 ${FP_OUT}"
   ]
  },
  {
   "cell_type": "code",
   "execution_count": null,
   "id": "06d919a1-ed20-4c21-9ac6-bcfe1b6a2469",
   "metadata": {},
   "outputs": [],
   "source": []
  }
 ],
 "metadata": {
  "kernelspec": {
   "display_name": "Bash",
   "language": "bash",
   "name": "bash"
  },
  "language_info": {
   "codemirror_mode": "shell",
   "file_extension": ".sh",
   "mimetype": "text/x-sh",
   "name": "bash"
  }
 },
 "nbformat": 4,
 "nbformat_minor": 5
}
