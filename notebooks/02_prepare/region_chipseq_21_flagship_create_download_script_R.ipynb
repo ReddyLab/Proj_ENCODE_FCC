{
 "cells": [
  {
   "cell_type": "raw",
   "id": "df1d1809-4604-489e-8439-ca7dc07ce742",
   "metadata": {},
   "source": [
    "---\n",
    "title: Prepare ENCODE ChIP-seq 21 (TF; Flagship)\n",
    "subtitle: Generate download script to download the data\n",
    "format:\n",
    "    html:\n",
    "        code-fold:  true\n",
    "        code-tools: true\n",
    "---"
   ]
  },
  {
   "cell_type": "markdown",
   "id": "ca5710f8-043d-411a-8af6-560154021347",
   "metadata": {},
   "source": [
    "**Set environment**"
   ]
  },
  {
   "cell_type": "code",
   "execution_count": 1,
   "id": "32a46b3e-88f0-4d9d-9b0a-6bd66dfb8b29",
   "metadata": {
    "tags": []
   },
   "outputs": [
    {
     "name": "stdout",
     "output_type": "stream",
     "text": [
      "You are working on        Singularity \n",
      "BASE DIRECTORY (FD_BASE): /mount \n",
      "REPO DIRECTORY (FD_REPO): /mount/repo \n",
      "WORK DIRECTORY (FD_WORK): /mount/work \n",
      "DATA DIRECTORY (FD_DATA): /mount/data \n",
      "\n",
      "You are working with      ENCODE FCC \n",
      "PATH OF PROJECT (FD_PRJ): /mount/repo/Proj_ENCODE_FCC \n",
      "PROJECT RESULTS (FD_RES): /mount/repo/Proj_ENCODE_FCC/results \n",
      "PROJECT SCRIPTS (FD_EXE): /mount/repo/Proj_ENCODE_FCC/scripts \n",
      "PROJECT DATA    (FD_DAT): /mount/repo/Proj_ENCODE_FCC/data \n",
      "PROJECT NOTE    (FD_NBK): /mount/repo/Proj_ENCODE_FCC/notebooks \n",
      "PROJECT DOCS    (FD_DOC): /mount/repo/Proj_ENCODE_FCC/docs \n",
      "PROJECT LOG     (FD_LOG): /mount/repo/Proj_ENCODE_FCC/log \n",
      "PROJECT APP     (FD_APP): /mount/repo/Proj_ENCODE_FCC/app \n",
      "PROJECT REF     (FD_REF): /mount/repo/Proj_ENCODE_FCC/references \n",
      "\n"
     ]
    }
   ],
   "source": [
    "suppressMessages(suppressWarnings(source(\"../run_config_project_sing.R\")))\n",
    "show_env()"
   ]
  },
  {
   "cell_type": "markdown",
   "id": "4867a6b3-48ce-49a0-952d-f1815521226d",
   "metadata": {
    "tags": []
   },
   "source": [
    "## Import metadata from reference file"
   ]
  },
  {
   "cell_type": "code",
   "execution_count": 2,
   "id": "a5d42b18-9d28-473d-b8e8-ee6b05e263fb",
   "metadata": {},
   "outputs": [
    {
     "data": {
      "text/html": [
       "'ENCODE4 TF Accessions for Flagship_updated221025.tsv'"
      ],
      "text/latex": [
       "'ENCODE4 TF Accessions for Flagship\\_updated221025.tsv'"
      ],
      "text/markdown": [
       "'ENCODE4 TF Accessions for Flagship_updated221025.tsv'"
      ],
      "text/plain": [
       "[1] \"ENCODE4 TF Accessions for Flagship_updated221025.tsv\""
      ]
     },
     "metadata": {},
     "output_type": "display_data"
    }
   ],
   "source": [
    "txt_fdiry = file.path(FD_REF, \"encode_chipseq_flagship\")\n",
    "dir(txt_fdiry)"
   ]
  },
  {
   "cell_type": "code",
   "execution_count": 3,
   "id": "c0d447fd-2715-4e4e-94da-ba3128e8ce6a",
   "metadata": {},
   "outputs": [
    {
     "name": "stdout",
     "output_type": "stream",
     "text": [
      "[1] 3092    6\n"
     ]
    },
    {
     "data": {
      "text/html": [
       "<table>\n",
       " <thead>\n",
       "  <tr>\n",
       "   <th style=\"text-align:left;\"> Experiment Accession </th>\n",
       "   <th style=\"text-align:left;\"> Peak Accession </th>\n",
       "   <th style=\"text-align:left;\"> Biosample </th>\n",
       "   <th style=\"text-align:left;\"> Target </th>\n",
       "   <th style=\"text-align:left;\"> Lab </th>\n",
       "   <th style=\"text-align:left;\"> RFA </th>\n",
       "  </tr>\n",
       " </thead>\n",
       "<tbody>\n",
       "  <tr>\n",
       "   <td style=\"text-align:left;\"> ENCSR753RME </td>\n",
       "   <td style=\"text-align:left;\"> ENCFF917CYG </td>\n",
       "   <td style=\"text-align:left;\"> Homo sapiens testis tissue male adult (37 years) </td>\n",
       "   <td style=\"text-align:left;\"> CTCF </td>\n",
       "   <td style=\"text-align:left;\"> Bradley Bernstein, Broad </td>\n",
       "   <td style=\"text-align:left;\"> ENCODE4 </td>\n",
       "  </tr>\n",
       "  <tr>\n",
       "   <td style=\"text-align:left;\"> ENCSR992XTY </td>\n",
       "   <td style=\"text-align:left;\"> ENCFF112GJQ </td>\n",
       "   <td style=\"text-align:left;\"> Homo sapiens WTC11 </td>\n",
       "   <td style=\"text-align:left;\"> CTCF </td>\n",
       "   <td style=\"text-align:left;\"> Bradley Bernstein, Broad </td>\n",
       "   <td style=\"text-align:left;\"> ENCODE4 </td>\n",
       "  </tr>\n",
       "  <tr>\n",
       "   <td style=\"text-align:left;\"> ENCSR934GQS </td>\n",
       "   <td style=\"text-align:left;\"> ENCFF483KVM </td>\n",
       "   <td style=\"text-align:left;\"> Homo sapiens ovary tissue female adult (41 years) </td>\n",
       "   <td style=\"text-align:left;\"> CTCF </td>\n",
       "   <td style=\"text-align:left;\"> Bradley Bernstein, Broad </td>\n",
       "   <td style=\"text-align:left;\"> ENCODE4 </td>\n",
       "  </tr>\n",
       "</tbody>\n",
       "</table>"
      ]
     },
     "metadata": {},
     "output_type": "display_data"
    }
   ],
   "source": [
    "### set file path\n",
    "txt_fdiry = file.path(FD_REF, \"encode_chipseq_flagship\")\n",
    "txt_fname = \"ENCODE4 TF Accessions for Flagship_updated221025.tsv\"\n",
    "txt_fpath = file.path(txt_fdiry, txt_fname)\n",
    "\n",
    "### read table\n",
    "dat = read_tsv(txt_fpath, show_col_types = FALSE)\n",
    "\n",
    "### show and assign\n",
    "dat_metadata_import = dat\n",
    "print(dim(dat))\n",
    "fun_display_table(head(dat, 3))"
   ]
  },
  {
   "cell_type": "markdown",
   "id": "8cc48d31-766e-485e-afc0-3d1e0799150c",
   "metadata": {},
   "source": [
    "## Arrange data"
   ]
  },
  {
   "cell_type": "markdown",
   "id": "6878e852-afdc-4d4d-abe9-799349148953",
   "metadata": {},
   "source": [
    "**Select for K562 only and filter NA**"
   ]
  },
  {
   "cell_type": "code",
   "execution_count": 4,
   "id": "d488d36d-23aa-4519-aba0-6466200d2552",
   "metadata": {},
   "outputs": [
    {
     "name": "stdout",
     "output_type": "stream",
     "text": [
      "#{Total}:                  3092 \n",
      "#{After filter only K562}: 735 \n",
      "#{After filter out NA}:    734 \n"
     ]
    },
    {
     "data": {
      "text/html": [
       "<table>\n",
       " <thead>\n",
       "  <tr>\n",
       "   <th style=\"text-align:left;\"> Experiment Accession </th>\n",
       "   <th style=\"text-align:left;\"> Peak Accession </th>\n",
       "   <th style=\"text-align:left;\"> Biosample </th>\n",
       "   <th style=\"text-align:left;\"> Target </th>\n",
       "   <th style=\"text-align:left;\"> Lab </th>\n",
       "   <th style=\"text-align:left;\"> RFA </th>\n",
       "  </tr>\n",
       " </thead>\n",
       "<tbody>\n",
       "  <tr>\n",
       "   <td style=\"text-align:left;\"> ENCSR805SIA </td>\n",
       "   <td style=\"text-align:left;\"> ENCFF500BWO </td>\n",
       "   <td style=\"text-align:left;\"> Homo sapiens K562 genetically modified (insertion) using CRISPR targeting H. sapiens PURB </td>\n",
       "   <td style=\"text-align:left;\"> PURB </td>\n",
       "   <td style=\"text-align:left;\"> Richard Myers, HAIB </td>\n",
       "   <td style=\"text-align:left;\"> ENCODE4 </td>\n",
       "  </tr>\n",
       "  <tr>\n",
       "   <td style=\"text-align:left;\"> ENCSR125RFR </td>\n",
       "   <td style=\"text-align:left;\"> ENCFF863ZFH </td>\n",
       "   <td style=\"text-align:left;\"> Homo sapiens K562 genetically modified (insertion) using CRISPR targeting H. sapiens ATF6 </td>\n",
       "   <td style=\"text-align:left;\"> ATF6 </td>\n",
       "   <td style=\"text-align:left;\"> Richard Myers, HAIB </td>\n",
       "   <td style=\"text-align:left;\"> ENCODE4 </td>\n",
       "  </tr>\n",
       "  <tr>\n",
       "   <td style=\"text-align:left;\"> ENCSR841GLE </td>\n",
       "   <td style=\"text-align:left;\"> ENCFF515LWL </td>\n",
       "   <td style=\"text-align:left;\"> Homo sapiens K562 genetically modified (insertion) using CRISPR targeting H. sapiens ZNF217 </td>\n",
       "   <td style=\"text-align:left;\"> ZNF217 </td>\n",
       "   <td style=\"text-align:left;\"> Richard Myers, HAIB </td>\n",
       "   <td style=\"text-align:left;\"> ENCODE4 </td>\n",
       "  </tr>\n",
       "</tbody>\n",
       "</table>"
      ]
     },
     "metadata": {},
     "output_type": "display_data"
    }
   ],
   "source": [
    "dat = dat_metadata_import\n",
    "cat(\"#{Total}:                 \", nrow(dat), \"\\n\")\n",
    "\n",
    "dat = dat %>% dplyr::filter(str_detect(Biosample, \"K562\"))\n",
    "cat(\"#{After filter only K562}:\", nrow(dat), \"\\n\")\n",
    "\n",
    "dat = dat %>% na.omit\n",
    "cat(\"#{After filter out NA}:   \", nrow(dat), \"\\n\")\n",
    "\n",
    "dat_metadata = dat\n",
    "fun_display_table(head(dat, 3))"
   ]
  },
  {
   "cell_type": "markdown",
   "id": "5f19875d-7e6b-4642-aa5f-486dfb7efbb3",
   "metadata": {},
   "source": [
    "**Explore table**"
   ]
  },
  {
   "cell_type": "code",
   "execution_count": 5,
   "id": "e586bd8f-fd05-4352-8966-ffcdce7d0695",
   "metadata": {},
   "outputs": [
    {
     "name": "stdout",
     "output_type": "stream",
     "text": [
      "[1] 734   6\n",
      "[1] 514\n",
      "[1] \"PURB\"   \"ATF6\"   \"ZNF217\" \"ATF2\"   \"ZNF165\" \"ARID4B\"\n",
      "[1] \"CHD7\"            \"POLR2AphosphoS5\" \"FOS\"             \"SAP30\"          \n",
      "[5] \"KDM5B\"           \"CBX8\"           \n"
     ]
    }
   ],
   "source": [
    "dat = dat_metadata\n",
    "vec = unique(dat$Target)\n",
    "print(dim(dat))\n",
    "print(length(vec))\n",
    "print(head(vec))\n",
    "print(tail(vec))"
   ]
  },
  {
   "cell_type": "markdown",
   "id": "97d26ba8-e946-47d2-b7b7-94f4a19e9ab0",
   "metadata": {},
   "source": [
    "## Generate download commands\n",
    "```\n",
    "wget -O FILE URL\n",
    "```"
   ]
  },
  {
   "cell_type": "code",
   "execution_count": 6,
   "id": "7ce75e6e-de88-460f-a504-aae765ec89be",
   "metadata": {},
   "outputs": [
    {
     "data": {
      "text/html": [
       "<table>\n",
       " <thead>\n",
       "  <tr>\n",
       "   <th style=\"text-align:left;\"> #!/bin/bash </th>\n",
       "  </tr>\n",
       " </thead>\n",
       "<tbody>\n",
       "  <tr>\n",
       "   <td style=\"text-align:left;\"> echo -n &quot;&quot; &gt; run_download.log.txt </td>\n",
       "  </tr>\n",
       "  <tr>\n",
       "   <td style=\"text-align:left;\"> wget --append-output=run_download.log.txt -O K562.hg38.ENCSR805SIA.ENCFF500BWO.ChIPseq.PURB.bed.gz https://www.encodeproject.org/files/ENCFF500BWO/@@download/ENCFF500BWO.bed.gz </td>\n",
       "  </tr>\n",
       "  <tr>\n",
       "   <td style=\"text-align:left;\"> wget --append-output=run_download.log.txt -O K562.hg38.ENCSR125RFR.ENCFF863ZFH.ChIPseq.ATF6.bed.gz https://www.encodeproject.org/files/ENCFF863ZFH/@@download/ENCFF863ZFH.bed.gz </td>\n",
       "  </tr>\n",
       "  <tr>\n",
       "   <td style=\"text-align:left;\"> wget --append-output=run_download.log.txt -O K562.hg38.ENCSR841GLE.ENCFF515LWL.ChIPseq.ZNF217.bed.gz https://www.encodeproject.org/files/ENCFF515LWL/@@download/ENCFF515LWL.bed.gz </td>\n",
       "  </tr>\n",
       "  <tr>\n",
       "   <td style=\"text-align:left;\"> wget --append-output=run_download.log.txt -O K562.hg38.ENCSR014ARU.ENCFF121HYT.ChIPseq.ATF2.bed.gz https://www.encodeproject.org/files/ENCFF121HYT/@@download/ENCFF121HYT.bed.gz </td>\n",
       "  </tr>\n",
       "  <tr>\n",
       "   <td style=\"text-align:left;\"> wget --append-output=run_download.log.txt -O K562.hg38.ENCSR172XJS.ENCFF169QYL.ChIPseq.ZNF165.bed.gz https://www.encodeproject.org/files/ENCFF169QYL/@@download/ENCFF169QYL.bed.gz </td>\n",
       "  </tr>\n",
       "</tbody>\n",
       "</table>"
      ]
     },
     "metadata": {},
     "output_type": "display_data"
    }
   ],
   "source": [
    "### init\n",
    "dat = dat_metadata\n",
    "\n",
    "### setup download file name and wget command\n",
    "dat = dat %>%\n",
    "    dplyr::mutate(\n",
    "        File_Name = paste(\n",
    "            \"K562\", \n",
    "            \"hg38\", \n",
    "            `Experiment Accession`, \n",
    "            `Peak Accession`,\n",
    "            \"ChIPseq\",\n",
    "            Target,\n",
    "            \"bed.gz\", \n",
    "            sep=\".\")\n",
    "    ) %>%\n",
    "    dplyr::mutate(\n",
    "        File_URL_Download = file.path(\n",
    "            \"https://www.encodeproject.org/files\",\n",
    "            `Peak Accession`,\n",
    "            \"@@download\",\n",
    "            paste(`Peak Accession`, \"bed.gz\", sep = \".\")\n",
    "        )\n",
    "    ) %>%\n",
    "    dplyr::mutate(\n",
    "        CMD = paste(\"wget\", \"--append-output=run_download.log.txt\", \"-O\", File_Name, File_URL_Download)\n",
    "    )\n",
    "\n",
    "### add Shebang and initial commands\n",
    "dat = dat %>% dplyr::select(CMD)\n",
    "dat = rbind('echo -n \"\" > run_download.log.txt', dat)\n",
    "colnames(dat) = \"#!/bin/bash\"\n",
    "\n",
    "### assign and show\n",
    "dat_cmd = dat\n",
    "fun_display_table(head(dat))"
   ]
  },
  {
   "cell_type": "markdown",
   "id": "46ca49a8-8de5-4157-b00a-8a4da2873b6d",
   "metadata": {},
   "source": [
    "## Save to script\n",
    "Save the command lines for each row into a bash script"
   ]
  },
  {
   "cell_type": "code",
   "execution_count": 7,
   "id": "4f574423-6c87-4307-9366-6f6b6902d309",
   "metadata": {},
   "outputs": [],
   "source": [
    "### set output path\n",
    "txt_fdiry = file.path(FD_DAT, \"external\", \"encode_chipseq_flagship\")\n",
    "txt_fname = \"run_download.sh\"\n",
    "txt_fpath = file.path(txt_fdiry, txt_fname)\n",
    "\n",
    "### save table\n",
    "dir.create(txt_fdiry, showWarnings = FALSE)\n",
    "dat = dat_cmd\n",
    "write_tsv(dat, txt_fpath)  "
   ]
  },
  {
   "cell_type": "code",
   "execution_count": null,
   "id": "bc26154c-411a-4e29-ba4a-abb3963e95ec",
   "metadata": {},
   "outputs": [],
   "source": []
  }
 ],
 "metadata": {
  "kernelspec": {
   "display_name": "R",
   "language": "R",
   "name": "ir"
  },
  "language_info": {
   "codemirror_mode": "r",
   "file_extension": ".r",
   "mimetype": "text/x-r-source",
   "name": "R",
   "pygments_lexer": "r",
   "version": "4.3.3"
  }
 },
 "nbformat": 4,
 "nbformat_minor": 5
}
