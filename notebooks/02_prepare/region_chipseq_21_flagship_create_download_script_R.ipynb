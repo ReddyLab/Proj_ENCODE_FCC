{
 "cells": [
  {
   "cell_type": "raw",
   "id": "df1d1809-4604-489e-8439-ca7dc07ce742",
   "metadata": {},
   "source": [
    "---\n",
    "title: Prepare ENCODE ChIP-seq 21\n",
    "subtitle: Generate download script to download the annotation data\n",
    "format:\n",
    "    html:\n",
    "        code-fold:  true\n",
    "        code-tools: true\n",
    "---"
   ]
  },
  {
   "cell_type": "markdown",
   "id": "ca5710f8-043d-411a-8af6-560154021347",
   "metadata": {},
   "source": [
    "**Set environment**"
   ]
  },
  {
   "cell_type": "code",
   "execution_count": 1,
   "id": "32a46b3e-88f0-4d9d-9b0a-6bd66dfb8b29",
   "metadata": {
    "tags": []
   },
   "outputs": [
    {
     "name": "stdout",
     "output_type": "stream",
     "text": [
      "You are working on        Singularity \n",
      "BASE DIRECTORY (FD_BASE): /mount \n",
      "REPO DIRECTORY (FD_REPO): /mount/repo \n",
      "WORK DIRECTORY (FD_WORK): /mount/work \n",
      "DATA DIRECTORY (FD_DATA): /mount/data \n",
      "\n",
      "You are working with      ENCODE FCC \n",
      "PATH OF PROJECT (FD_PRJ): /mount/repo/Proj_ENCODE_FCC \n",
      "PROJECT RESULTS (FD_RES): /mount/repo/Proj_ENCODE_FCC/results \n",
      "PROJECT SCRIPTS (FD_EXE): /mount/repo/Proj_ENCODE_FCC/scripts \n",
      "PROJECT DATA    (FD_DAT): /mount/repo/Proj_ENCODE_FCC/data \n",
      "PROJECT NOTE    (FD_NBK): /mount/repo/Proj_ENCODE_FCC/notebooks \n",
      "PROJECT DOCS    (FD_DOC): /mount/repo/Proj_ENCODE_FCC/docs \n",
      "PROJECT LOG     (FD_LOG): /mount/repo/Proj_ENCODE_FCC/log \n",
      "PROJECT APP     (FD_APP): /mount/repo/Proj_ENCODE_FCC/app \n",
      "PROJECT REF     (FD_REF): /mount/repo/Proj_ENCODE_FCC/references \n",
      "\n"
     ]
    }
   ],
   "source": [
    "suppressMessages(suppressWarnings(source(\"../run_config_project_sing.R\")))\n",
    "show_env()"
   ]
  },
  {
   "cell_type": "markdown",
   "id": "4867a6b3-48ce-49a0-952d-f1815521226d",
   "metadata": {
    "tags": []
   },
   "source": [
    "## Import metadata from reference file"
   ]
  },
  {
   "cell_type": "code",
   "execution_count": 3,
   "id": "a5d42b18-9d28-473d-b8e8-ee6b05e263fb",
   "metadata": {},
   "outputs": [
    {
     "data": {
      "text/html": [
       "'ENCODE4 TF Accessions for Flagship_updated221025.tsv'"
      ],
      "text/latex": [
       "'ENCODE4 TF Accessions for Flagship\\_updated221025.tsv'"
      ],
      "text/markdown": [
       "'ENCODE4 TF Accessions for Flagship_updated221025.tsv'"
      ],
      "text/plain": [
       "[1] \"ENCODE4 TF Accessions for Flagship_updated221025.tsv\""
      ]
     },
     "metadata": {},
     "output_type": "display_data"
    }
   ],
   "source": [
    "txt_fdiry = file.path(FD_REF, \"encode_chipseq_flagship\")\n",
    "dir(txt_fdiry)"
   ]
  },
  {
   "cell_type": "code",
   "execution_count": 4,
   "id": "c0d447fd-2715-4e4e-94da-ba3128e8ce6a",
   "metadata": {},
   "outputs": [
    {
     "name": "stdout",
     "output_type": "stream",
     "text": [
      "[1] 3092    6\n"
     ]
    },
    {
     "data": {
      "text/html": [
       "<table>\n",
       " <thead>\n",
       "  <tr>\n",
       "   <th style=\"text-align:left;\"> Experiment Accession </th>\n",
       "   <th style=\"text-align:left;\"> Peak Accession </th>\n",
       "   <th style=\"text-align:left;\"> Biosample </th>\n",
       "   <th style=\"text-align:left;\"> Target </th>\n",
       "   <th style=\"text-align:left;\"> Lab </th>\n",
       "   <th style=\"text-align:left;\"> RFA </th>\n",
       "  </tr>\n",
       " </thead>\n",
       "<tbody>\n",
       "  <tr>\n",
       "   <td style=\"text-align:left;\"> ENCSR753RME </td>\n",
       "   <td style=\"text-align:left;\"> ENCFF917CYG </td>\n",
       "   <td style=\"text-align:left;\"> Homo sapiens testis tissue male adult (37 years) </td>\n",
       "   <td style=\"text-align:left;\"> CTCF </td>\n",
       "   <td style=\"text-align:left;\"> Bradley Bernstein, Broad </td>\n",
       "   <td style=\"text-align:left;\"> ENCODE4 </td>\n",
       "  </tr>\n",
       "  <tr>\n",
       "   <td style=\"text-align:left;\"> ENCSR992XTY </td>\n",
       "   <td style=\"text-align:left;\"> ENCFF112GJQ </td>\n",
       "   <td style=\"text-align:left;\"> Homo sapiens WTC11 </td>\n",
       "   <td style=\"text-align:left;\"> CTCF </td>\n",
       "   <td style=\"text-align:left;\"> Bradley Bernstein, Broad </td>\n",
       "   <td style=\"text-align:left;\"> ENCODE4 </td>\n",
       "  </tr>\n",
       "  <tr>\n",
       "   <td style=\"text-align:left;\"> ENCSR934GQS </td>\n",
       "   <td style=\"text-align:left;\"> ENCFF483KVM </td>\n",
       "   <td style=\"text-align:left;\"> Homo sapiens ovary tissue female adult (41 years) </td>\n",
       "   <td style=\"text-align:left;\"> CTCF </td>\n",
       "   <td style=\"text-align:left;\"> Bradley Bernstein, Broad </td>\n",
       "   <td style=\"text-align:left;\"> ENCODE4 </td>\n",
       "  </tr>\n",
       "  <tr>\n",
       "   <td style=\"text-align:left;\"> ENCSR164ASX </td>\n",
       "   <td style=\"text-align:left;\"> ENCFF238PEB </td>\n",
       "   <td style=\"text-align:left;\"> Homo sapiens upper lobe of right lung tissue male adult (60 years) </td>\n",
       "   <td style=\"text-align:left;\"> CTCF </td>\n",
       "   <td style=\"text-align:left;\"> Bradley Bernstein, Broad </td>\n",
       "   <td style=\"text-align:left;\"> ENCODE4 </td>\n",
       "  </tr>\n",
       "  <tr>\n",
       "   <td style=\"text-align:left;\"> ENCSR000VGD </td>\n",
       "   <td style=\"text-align:left;\"> ENCFF870ZRR </td>\n",
       "   <td style=\"text-align:left;\"> Homo sapiens right lobe of liver tissue female adult (47 years) </td>\n",
       "   <td style=\"text-align:left;\"> CTCF </td>\n",
       "   <td style=\"text-align:left;\"> Bradley Bernstein, Broad </td>\n",
       "   <td style=\"text-align:left;\"> ENCODE4 </td>\n",
       "  </tr>\n",
       "  <tr>\n",
       "   <td style=\"text-align:left;\"> ENCSR856TKC </td>\n",
       "   <td style=\"text-align:left;\"> ENCFF072KJO </td>\n",
       "   <td style=\"text-align:left;\"> Homo sapiens natural killer cell male adult (33 years) </td>\n",
       "   <td style=\"text-align:left;\"> CTCF </td>\n",
       "   <td style=\"text-align:left;\"> Bradley Bernstein, Broad </td>\n",
       "   <td style=\"text-align:left;\"> ENCODE4 </td>\n",
       "  </tr>\n",
       "</tbody>\n",
       "</table>"
      ]
     },
     "metadata": {},
     "output_type": "display_data"
    }
   ],
   "source": [
    "### set file path\n",
    "txt_fdiry = file.path(FD_REF, \"encode_chipseq_flagship\")\n",
    "txt_fname = \"ENCODE4 TF Accessions for Flagship_updated221025.tsv\"\n",
    "txt_fpath = file.path(txt_fdiry, txt_fname)\n",
    "\n",
    "### read table\n",
    "dat = read_tsv(txt_fpath, show_col_types = FALSE)\n",
    "\n",
    "### show and assign\n",
    "dat_metadata_import = dat\n",
    "print(dim(dat))\n",
    "fun_display_table(head(dat))"
   ]
  },
  {
   "cell_type": "markdown",
   "id": "8cc48d31-766e-485e-afc0-3d1e0799150c",
   "metadata": {},
   "source": [
    "## Arrange data"
   ]
  },
  {
   "cell_type": "markdown",
   "id": "6878e852-afdc-4d4d-abe9-799349148953",
   "metadata": {},
   "source": [
    "**Select for K562 only**"
   ]
  },
  {
   "cell_type": "code",
   "execution_count": 6,
   "id": "d488d36d-23aa-4519-aba0-6466200d2552",
   "metadata": {},
   "outputs": [
    {
     "name": "stdout",
     "output_type": "stream",
     "text": [
      "[1] 735   6\n"
     ]
    },
    {
     "data": {
      "text/html": [
       "<table class=\"dataframe\">\n",
       "<caption>A tibble: 6 × 6</caption>\n",
       "<thead>\n",
       "\t<tr><th scope=col>Experiment Accession</th><th scope=col>Peak Accession</th><th scope=col>Biosample</th><th scope=col>Target</th><th scope=col>Lab</th><th scope=col>RFA</th></tr>\n",
       "\t<tr><th scope=col>&lt;chr&gt;</th><th scope=col>&lt;chr&gt;</th><th scope=col>&lt;chr&gt;</th><th scope=col>&lt;chr&gt;</th><th scope=col>&lt;chr&gt;</th><th scope=col>&lt;chr&gt;</th></tr>\n",
       "</thead>\n",
       "<tbody>\n",
       "\t<tr><td>ENCSR805SIA</td><td>ENCFF500BWO</td><td>Homo sapiens K562 genetically modified (insertion) using CRISPR targeting H. sapiens PURB  </td><td>PURB  </td><td>Richard Myers, HAIB     </td><td>ENCODE4</td></tr>\n",
       "\t<tr><td>ENCSR125RFR</td><td>ENCFF863ZFH</td><td>Homo sapiens K562 genetically modified (insertion) using CRISPR targeting H. sapiens ATF6  </td><td>ATF6  </td><td>Richard Myers, HAIB     </td><td>ENCODE4</td></tr>\n",
       "\t<tr><td>ENCSR841GLE</td><td>ENCFF515LWL</td><td>Homo sapiens K562 genetically modified (insertion) using CRISPR targeting H. sapiens ZNF217</td><td>ZNF217</td><td>Richard Myers, HAIB     </td><td>ENCODE4</td></tr>\n",
       "\t<tr><td>ENCSR014ARU</td><td>ENCFF121HYT</td><td>Homo sapiens K562 genetically modified (insertion) using CRISPR targeting H. sapiens ATF2  </td><td>ATF2  </td><td>Richard Myers, HAIB     </td><td>ENCODE4</td></tr>\n",
       "\t<tr><td>ENCSR172XJS</td><td>ENCFF169QYL</td><td>Homo sapiens K562 genetically modified (insertion) using CRISPR targeting H. sapiens ZNF165</td><td>ZNF165</td><td>Michael Snyder, Stanford</td><td>ENCODE4</td></tr>\n",
       "\t<tr><td>ENCSR676KDJ</td><td>ENCFF528IDR</td><td>Homo sapiens K562 genetically modified (insertion) using CRISPR targeting H. sapiens ARID4B</td><td>ARID4B</td><td>Michael Snyder, Stanford</td><td>ENCODE4</td></tr>\n",
       "</tbody>\n",
       "</table>\n"
      ],
      "text/latex": [
       "A tibble: 6 × 6\n",
       "\\begin{tabular}{llllll}\n",
       " Experiment Accession & Peak Accession & Biosample & Target & Lab & RFA\\\\\n",
       " <chr> & <chr> & <chr> & <chr> & <chr> & <chr>\\\\\n",
       "\\hline\n",
       "\t ENCSR805SIA & ENCFF500BWO & Homo sapiens K562 genetically modified (insertion) using CRISPR targeting H. sapiens PURB   & PURB   & Richard Myers, HAIB      & ENCODE4\\\\\n",
       "\t ENCSR125RFR & ENCFF863ZFH & Homo sapiens K562 genetically modified (insertion) using CRISPR targeting H. sapiens ATF6   & ATF6   & Richard Myers, HAIB      & ENCODE4\\\\\n",
       "\t ENCSR841GLE & ENCFF515LWL & Homo sapiens K562 genetically modified (insertion) using CRISPR targeting H. sapiens ZNF217 & ZNF217 & Richard Myers, HAIB      & ENCODE4\\\\\n",
       "\t ENCSR014ARU & ENCFF121HYT & Homo sapiens K562 genetically modified (insertion) using CRISPR targeting H. sapiens ATF2   & ATF2   & Richard Myers, HAIB      & ENCODE4\\\\\n",
       "\t ENCSR172XJS & ENCFF169QYL & Homo sapiens K562 genetically modified (insertion) using CRISPR targeting H. sapiens ZNF165 & ZNF165 & Michael Snyder, Stanford & ENCODE4\\\\\n",
       "\t ENCSR676KDJ & ENCFF528IDR & Homo sapiens K562 genetically modified (insertion) using CRISPR targeting H. sapiens ARID4B & ARID4B & Michael Snyder, Stanford & ENCODE4\\\\\n",
       "\\end{tabular}\n"
      ],
      "text/markdown": [
       "\n",
       "A tibble: 6 × 6\n",
       "\n",
       "| Experiment Accession &lt;chr&gt; | Peak Accession &lt;chr&gt; | Biosample &lt;chr&gt; | Target &lt;chr&gt; | Lab &lt;chr&gt; | RFA &lt;chr&gt; |\n",
       "|---|---|---|---|---|---|\n",
       "| ENCSR805SIA | ENCFF500BWO | Homo sapiens K562 genetically modified (insertion) using CRISPR targeting H. sapiens PURB   | PURB   | Richard Myers, HAIB      | ENCODE4 |\n",
       "| ENCSR125RFR | ENCFF863ZFH | Homo sapiens K562 genetically modified (insertion) using CRISPR targeting H. sapiens ATF6   | ATF6   | Richard Myers, HAIB      | ENCODE4 |\n",
       "| ENCSR841GLE | ENCFF515LWL | Homo sapiens K562 genetically modified (insertion) using CRISPR targeting H. sapiens ZNF217 | ZNF217 | Richard Myers, HAIB      | ENCODE4 |\n",
       "| ENCSR014ARU | ENCFF121HYT | Homo sapiens K562 genetically modified (insertion) using CRISPR targeting H. sapiens ATF2   | ATF2   | Richard Myers, HAIB      | ENCODE4 |\n",
       "| ENCSR172XJS | ENCFF169QYL | Homo sapiens K562 genetically modified (insertion) using CRISPR targeting H. sapiens ZNF165 | ZNF165 | Michael Snyder, Stanford | ENCODE4 |\n",
       "| ENCSR676KDJ | ENCFF528IDR | Homo sapiens K562 genetically modified (insertion) using CRISPR targeting H. sapiens ARID4B | ARID4B | Michael Snyder, Stanford | ENCODE4 |\n",
       "\n"
      ],
      "text/plain": [
       "  Experiment Accession Peak Accession\n",
       "1 ENCSR805SIA          ENCFF500BWO   \n",
       "2 ENCSR125RFR          ENCFF863ZFH   \n",
       "3 ENCSR841GLE          ENCFF515LWL   \n",
       "4 ENCSR014ARU          ENCFF121HYT   \n",
       "5 ENCSR172XJS          ENCFF169QYL   \n",
       "6 ENCSR676KDJ          ENCFF528IDR   \n",
       "  Biosample                                                                                  \n",
       "1 Homo sapiens K562 genetically modified (insertion) using CRISPR targeting H. sapiens PURB  \n",
       "2 Homo sapiens K562 genetically modified (insertion) using CRISPR targeting H. sapiens ATF6  \n",
       "3 Homo sapiens K562 genetically modified (insertion) using CRISPR targeting H. sapiens ZNF217\n",
       "4 Homo sapiens K562 genetically modified (insertion) using CRISPR targeting H. sapiens ATF2  \n",
       "5 Homo sapiens K562 genetically modified (insertion) using CRISPR targeting H. sapiens ZNF165\n",
       "6 Homo sapiens K562 genetically modified (insertion) using CRISPR targeting H. sapiens ARID4B\n",
       "  Target Lab                      RFA    \n",
       "1 PURB   Richard Myers, HAIB      ENCODE4\n",
       "2 ATF6   Richard Myers, HAIB      ENCODE4\n",
       "3 ZNF217 Richard Myers, HAIB      ENCODE4\n",
       "4 ATF2   Richard Myers, HAIB      ENCODE4\n",
       "5 ZNF165 Michael Snyder, Stanford ENCODE4\n",
       "6 ARID4B Michael Snyder, Stanford ENCODE4"
      ]
     },
     "metadata": {},
     "output_type": "display_data"
    }
   ],
   "source": [
    "dat = dat_metadata_import\n",
    "dat = dat %>% dplyr::filter(str_detect(Biosample, \"K562\"))\n",
    "\n",
    "dat_metadata = dat\n",
    "print(dim(dat))\n",
    "head(dat)"
   ]
  },
  {
   "cell_type": "markdown",
   "id": "5f19875d-7e6b-4642-aa5f-486dfb7efbb3",
   "metadata": {},
   "source": [
    "Show target names"
   ]
  },
  {
   "cell_type": "code",
   "execution_count": 7,
   "id": "e586bd8f-fd05-4352-8966-ffcdce7d0695",
   "metadata": {},
   "outputs": [
    {
     "name": "stdout",
     "output_type": "stream",
     "text": [
      "[1] \"PURB\"   \"ATF6\"   \"ZNF217\" \"ATF2\"   \"ZNF165\" \"ARID4B\"\n",
      "[1] \"HDAC6\"           \"CHD7\"            \"POLR2AphosphoS5\" \"SAP30\"          \n",
      "[5] \"KDM5B\"           \"CBX8\"           \n"
     ]
    }
   ],
   "source": [
    "dat = dat_metadata\n",
    "vec = unique(dat$Target)\n",
    "print(head(vec))\n",
    "print(tail(vec))"
   ]
  },
  {
   "cell_type": "markdown",
   "id": "97d26ba8-e946-47d2-b7b7-94f4a19e9ab0",
   "metadata": {},
   "source": [
    "## Generate download commands\n",
    "```\n",
    "wget -O FILE URL\n",
    "```"
   ]
  },
  {
   "cell_type": "code",
   "execution_count": 8,
   "id": "7ce75e6e-de88-460f-a504-aae765ec89be",
   "metadata": {},
   "outputs": [
    {
     "name": "stdout",
     "output_type": "stream",
     "text": [
      "[1] 736   1\n"
     ]
    },
    {
     "data": {
      "text/html": [
       "<table>\n",
       " <thead>\n",
       "  <tr>\n",
       "   <th style=\"text-align:left;\"> #!/bin/bash </th>\n",
       "  </tr>\n",
       " </thead>\n",
       "<tbody>\n",
       "  <tr>\n",
       "   <td style=\"text-align:left;\"> echo -n &quot;&quot; &gt; run_download.log.txt </td>\n",
       "  </tr>\n",
       "  <tr>\n",
       "   <td style=\"text-align:left;\"> wget --append-output=run_download.log.txt -O K562.hg38.ENCSR805SIA.ENCFF500BWO.ChIPseq.PURB.bed.gz https://www.encodeproject.org/files/ENCFF500BWO/@@download/ENCFF500BWO.bed.gz </td>\n",
       "  </tr>\n",
       "  <tr>\n",
       "   <td style=\"text-align:left;\"> wget --append-output=run_download.log.txt -O K562.hg38.ENCSR125RFR.ENCFF863ZFH.ChIPseq.ATF6.bed.gz https://www.encodeproject.org/files/ENCFF863ZFH/@@download/ENCFF863ZFH.bed.gz </td>\n",
       "  </tr>\n",
       "  <tr>\n",
       "   <td style=\"text-align:left;\"> wget --append-output=run_download.log.txt -O K562.hg38.ENCSR841GLE.ENCFF515LWL.ChIPseq.ZNF217.bed.gz https://www.encodeproject.org/files/ENCFF515LWL/@@download/ENCFF515LWL.bed.gz </td>\n",
       "  </tr>\n",
       "  <tr>\n",
       "   <td style=\"text-align:left;\"> wget --append-output=run_download.log.txt -O K562.hg38.ENCSR014ARU.ENCFF121HYT.ChIPseq.ATF2.bed.gz https://www.encodeproject.org/files/ENCFF121HYT/@@download/ENCFF121HYT.bed.gz </td>\n",
       "  </tr>\n",
       "  <tr>\n",
       "   <td style=\"text-align:left;\"> wget --append-output=run_download.log.txt -O K562.hg38.ENCSR172XJS.ENCFF169QYL.ChIPseq.ZNF165.bed.gz https://www.encodeproject.org/files/ENCFF169QYL/@@download/ENCFF169QYL.bed.gz </td>\n",
       "  </tr>\n",
       "</tbody>\n",
       "</table>"
      ]
     },
     "metadata": {},
     "output_type": "display_data"
    }
   ],
   "source": [
    "### init\n",
    "dat = dat_metadata\n",
    "\n",
    "### setup download file name and wget command\n",
    "dat = dat %>%\n",
    "    dplyr::mutate(\n",
    "        File_Name = paste(\n",
    "            \"K562\", \n",
    "            \"hg38\", \n",
    "            `Experiment Accession`, \n",
    "            `Peak Accession`,\n",
    "            \"ChIPseq\",\n",
    "            Target,\n",
    "            \"bed.gz\", \n",
    "            sep=\".\")\n",
    "    ) %>%\n",
    "    dplyr::mutate(\n",
    "        File_URL_Download = file.path(\n",
    "            \"https://www.encodeproject.org/files\",\n",
    "            `Peak Accession`,\n",
    "            \"@@download\",\n",
    "            paste(`Peak Accession`, \"bed.gz\", sep = \".\")\n",
    "        )\n",
    "    ) %>%\n",
    "    dplyr::mutate(\n",
    "        CMD = paste(\"wget\", \"--append-output=run_download.log.txt\", \"-O\", File_Name, File_URL_Download)\n",
    "    )\n",
    "\n",
    "### add Shebang and initial commands\n",
    "#dat = dat %>% dplyr::select(Assay, Biosample, Index_Experiment, Index_File, File_Name, CMD)\n",
    "dat = dat %>% dplyr::select(CMD)\n",
    "dat = rbind('echo -n \"\" > run_download.log.txt', dat)\n",
    "colnames(dat) = \"#!/bin/bash\"\n",
    "\n",
    "### assign and show\n",
    "dat_cmd = dat\n",
    "print(dim(dat))\n",
    "fun_display_table(head(dat))"
   ]
  },
  {
   "cell_type": "markdown",
   "id": "46ca49a8-8de5-4157-b00a-8a4da2873b6d",
   "metadata": {},
   "source": [
    "## Save to script\n",
    "Save the command lines for each row into a bash script"
   ]
  },
  {
   "cell_type": "code",
   "execution_count": 9,
   "id": "4f574423-6c87-4307-9366-6f6b6902d309",
   "metadata": {},
   "outputs": [],
   "source": [
    "### set output path\n",
    "txt_fdiry = file.path(FD_DAT, \"external\", \"encode_chipseq_flagship\")\n",
    "txt_fname = \"run_download.sh\"\n",
    "txt_fpath = file.path(txt_fdiry, txt_fname)\n",
    "\n",
    "### arrange table\n",
    "dat = dat_cmd\n",
    "colnames(dat) = \"#!/bin/bash\"\n",
    "\n",
    "### save table\n",
    "dir.create(txt_fdiry, showWarnings = FALSE)\n",
    "write_tsv(dat, txt_fpath)  "
   ]
  },
  {
   "cell_type": "code",
   "execution_count": null,
   "id": "89277d1c-2827-40c5-babd-70b685ee4216",
   "metadata": {},
   "outputs": [],
   "source": []
  }
 ],
 "metadata": {
  "kernelspec": {
   "display_name": "R",
   "language": "R",
   "name": "ir"
  },
  "language_info": {
   "codemirror_mode": "r",
   "file_extension": ".r",
   "mimetype": "text/x-r-source",
   "name": "R",
   "pygments_lexer": "r",
   "version": "4.3.3"
  }
 },
 "nbformat": 4,
 "nbformat_minor": 5
}
