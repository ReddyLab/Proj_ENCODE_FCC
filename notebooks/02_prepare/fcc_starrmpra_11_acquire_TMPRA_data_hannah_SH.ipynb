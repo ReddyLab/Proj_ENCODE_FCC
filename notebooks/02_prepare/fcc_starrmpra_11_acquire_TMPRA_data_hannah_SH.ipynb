{
 "cells": [
  {
   "cell_type": "raw",
   "id": "9854e954-e45c-44f7-9a6d-d8aa6b60a6b7",
   "metadata": {},
   "source": [
    "---\n",
    "title: Prepare Tiling MPRA data 01\n",
    "subtitle: Get K562 MPRA data files from Tewhey lab\n",
    "format:\n",
    "    html:\n",
    "        code-fold:  true\n",
    "        code-tools: true\n",
    "---"
   ]
  },
  {
   "cell_type": "markdown",
   "id": "b9c3e9c3-30f0-498e-bef2-ab6bf5cc3fdf",
   "metadata": {},
   "source": [
    "In this analysis, we are using the unnormalized and normalized MPRA data processed and shared by Hannah from the Tewhey lab."
   ]
  },
  {
   "cell_type": "markdown",
   "id": "66cbeb8b-bca1-4c24-90b2-812485b1fb6c",
   "metadata": {},
   "source": [
    "**Set environment**"
   ]
  },
  {
   "cell_type": "code",
   "execution_count": 1,
   "id": "9f34f622-3844-41b6-9777-ec281dd8e3c6",
   "metadata": {},
   "outputs": [
    {
     "name": "stdout",
     "output_type": "stream",
     "text": [
      "You are working on             Duke Server: HARDAC\n",
      "BASE DIRECTORY (FD_BASE):      /data/reddylab/Kuei\n",
      "REPO DIRECTORY (FD_REPO):      /data/reddylab/Kuei/repo\n",
      "WORK DIRECTORY (FD_WORK):      /data/reddylab/Kuei/work\n",
      "DATA DIRECTORY (FD_DATA):      /data/reddylab/Kuei/data\n",
      "CONTAINER DIR. (FD_SING):      /data/reddylab/Kuei/container\n",
      "\n",
      "You are working with           ENCODE FCC\n",
      "PATH OF PROJECT (FD_PRJ):      /data/reddylab/Kuei/repo/Proj_CombEffect_ENCODE_FCC\n",
      "PROJECT RESULTS (FD_RES):      /data/reddylab/Kuei/repo/Proj_CombEffect_ENCODE_FCC/results\n",
      "PROJECT SCRIPTS (FD_EXE):      /data/reddylab/Kuei/repo/Proj_CombEffect_ENCODE_FCC/scripts\n",
      "PROJECT DATA    (FD_DAT):      /data/reddylab/Kuei/repo/Proj_CombEffect_ENCODE_FCC/data\n",
      "PROJECT NOTE    (FD_NBK):      /data/reddylab/Kuei/repo/Proj_CombEffect_ENCODE_FCC/notebooks\n",
      "PROJECT DOCS    (FD_DOC):      /data/reddylab/Kuei/repo/Proj_CombEffect_ENCODE_FCC/docs\n",
      "PROJECT LOG     (FD_LOG):      /data/reddylab/Kuei/repo/Proj_CombEffect_ENCODE_FCC/log\n",
      "PROJECT APP     (FD_APP):      /data/reddylab/Kuei/repo/Proj_CombEffect_ENCODE_FCC/app\n",
      "PROJECT REF     (FD_REF):      /data/reddylab/Kuei/repo/Proj_CombEffect_ENCODE_FCC/references\n",
      "PROJECT IMAGE   (FP_PRJ_SIF):  /data/reddylab/Kuei/repo/Proj_CombEffect_ENCODE_FCC/app/singularity_proj_encode_fcc.sif\n",
      "\n"
     ]
    }
   ],
   "source": [
    "source ../run_config_project.sh\n",
    "show_env"
   ]
  },
  {
   "cell_type": "code",
   "execution_count": 7,
   "id": "71288842-4982-4d9a-a73b-ebbfcbb46a17",
   "metadata": {},
   "outputs": [
    {
     "name": "stdout",
     "output_type": "stream",
     "text": [
      "\u001b[0m\u001b[38;5;27mA001_K562_wstarrseq_fragments\u001b[0m\n",
      "\u001b[38;5;27mA001_K562_wstarrseq_fragments_wgs\u001b[0m\n",
      "\u001b[38;5;27mannotation_cCREs\u001b[0m\n",
      "\u001b[38;5;27mannotation_chipseq_histone\u001b[0m\n",
      "\u001b[38;5;27mannotation_chipseq_tf\u001b[0m\n",
      "\u001b[38;5;27mannotation_chromHMM\u001b[0m\n",
      "\u001b[38;5;27mannotation_enhancer_junke\u001b[0m\n",
      "\u001b[38;5;27mannotation_enhancer_junke_zscore\u001b[0m\n",
      "\u001b[38;5;27mannotation_enhancer_junke_zscore_prev\u001b[0m\n",
      "\u001b[38;5;27mannotation_gencode\u001b[0m\n",
      "\u001b[38;5;27mannotation_gene\u001b[0m\n",
      "\u001b[38;5;27mannotation_remap2022\u001b[0m\n",
      "\u001b[38;5;27mannotation_starrseq_negative_control_junke\u001b[0m\n",
      "chrom.sizes.hg19\n",
      "chrom.sizes.hg38\n",
      "\u001b[38;5;27mCRISPRi_FlowFISH\u001b[0m\n",
      "\u001b[38;5;27mCRISPRi_growth\u001b[0m\n",
      "\u001b[38;5;27mENCODE_E2G\u001b[0m\n",
      "\u001b[38;5;27mhic_insitu_GM12878\u001b[0m\n",
      "\u001b[38;5;27mhic_intact_K562_deep\u001b[0m\n",
      "\u001b[38;5;27mhic_intact_K562_ENCSR479XDG\u001b[0m\n",
      "\u001b[38;5;27mKS91_K562_astarrseq_fragments_220510\u001b[0m\n",
      "\u001b[38;5;27mKS91_K562_astarrseq_fragments_wgs\u001b[0m\n",
      "\u001b[38;5;27mKS91_K562_astarrseq_peak_macs\u001b[0m\n",
      "\u001b[38;5;27mMPRA\u001b[0m\n",
      "Readme.md\n",
      "\u001b[38;5;27mRNAseq\u001b[0m\n",
      "\u001b[38;5;27mTF_modules\u001b[0m\n",
      "\u001b[38;5;27mtmp\u001b[0m\n"
     ]
    }
   ],
   "source": [
    "ls ${FD_WORK}/proj_combeffect_encode_fcc/source"
   ]
  },
  {
   "cell_type": "code",
   "execution_count": 8,
   "id": "e768e975-c7c7-44be-b041-d3693999749d",
   "metadata": {},
   "outputs": [
    {
     "name": "stdout",
     "output_type": "stream",
     "text": [
      "\u001b[0m\u001b[38;5;9mENCFF460YVY.bed.gz\u001b[0m         \u001b[38;5;27mMPRA_TilingMPRA_K562_Tewhey\u001b[0m  \u001b[38;5;27msyn26435687\u001b[0m\n",
      "\u001b[38;5;27mMPRA_LentiMPRA_K562_Nadav\u001b[0m  \u001b[38;5;27msyn22348180\u001b[0m\n"
     ]
    }
   ],
   "source": [
    "ls ${FD_WORK}/proj_combeffect_encode_fcc/source/MPRA"
   ]
  },
  {
   "cell_type": "code",
   "execution_count": 11,
   "id": "9b196af5-6da2-4ae8-a5e4-ce64427dda94",
   "metadata": {},
   "outputs": [
    {
     "name": "stdout",
     "output_type": "stream",
     "text": [
      "FADS_tile_snp.20190214.attributes\n",
      "OL13_20220512_counts.out\n",
      "OL13_20220512_normalized_counts.out\n",
      "OL43_20211228_counts.out\n",
      "OL43_20211228_normalized_counts.out\n",
      "OL43_20221003_counts.out\n",
      "OL43_20221003_K562_normalized_counts.out\n",
      "OL43.attributes\n",
      "OL43_K562.bed\n",
      "OL45_20220927_counts.out\n",
      "OL45_20220927_K562_normalized_counts.out\n",
      "OL45.attributes\n",
      "OL45_K562.bed\n"
     ]
    }
   ],
   "source": [
    "FDIRY=${FD_WORK}/proj_combeffect_encode_fcc/source\n",
    "FDIRY=${FDIRY}/MPRA\n",
    "FDIRY=${FDIRY}/MPRA_TilingMPRA_K562_Tewhey\n",
    "\n",
    "ls ${FDIRY}/tiling_counts"
   ]
  },
  {
   "cell_type": "code",
   "execution_count": 15,
   "id": "a978fad2-e3e2-404d-94bf-8825c4530600",
   "metadata": {},
   "outputs": [
    {
     "name": "stdout",
     "output_type": "stream",
     "text": [
      "\u001b[0m\u001b[38;5;27mA001_K562_hg38_WSTARRseq\u001b[0m           \u001b[38;5;27mKS91_K562_hg38_ASTARRseq_Jamboree\u001b[0m\n",
      "\u001b[38;5;27mA001_K562_hg38_WSTARRseq_Jamboree\u001b[0m  \u001b[38;5;27mMPRA_Tiling_K562_Tewhey_hannah\u001b[0m\n",
      "\u001b[38;5;27mKS91_K562_hg38_ASTARRseq_210401\u001b[0m\n"
     ]
    }
   ],
   "source": [
    "ls ${FD_DAT}/processed"
   ]
  },
  {
   "cell_type": "code",
   "execution_count": 14,
   "id": "147de5a6-1fca-488d-9425-0926aa794ed6",
   "metadata": {},
   "outputs": [
    {
     "name": "stdout",
     "output_type": "stream",
     "text": [
      "\u001b[0m\u001b[38;5;9mtiling_counts.tar.gz\u001b[0m\n"
     ]
    }
   ],
   "source": [
    "ls ${FD_DAT}/processed/MPRA_Tiling_K562_Tewhey_hannah"
   ]
  },
  {
   "cell_type": "code",
   "execution_count": 16,
   "id": "4788ad8c-69d1-4c62-87f1-daa8c8e3180e",
   "metadata": {},
   "outputs": [],
   "source": [
    "FDIRY=${FD_DAT}/processed/MPRA_Tiling_K562_Tewhey_hannah\n",
    "FNAME=tiling_counts.tar.gz\n",
    "FPATH=${FDIRY}/${FNAME}\n",
    "\n",
    "tar -xf ${FPATH} -C ${FDIRY}"
   ]
  },
  {
   "cell_type": "code",
   "execution_count": 17,
   "id": "bd7a78bb-e433-4df9-83c6-928b581b1440",
   "metadata": {},
   "outputs": [
    {
     "name": "stdout",
     "output_type": "stream",
     "text": [
      "\u001b[0m\u001b[38;5;27mtiling_counts\u001b[0m  \u001b[38;5;9mtiling_counts.tar.gz\u001b[0m\n"
     ]
    }
   ],
   "source": [
    "ls ${FD_DAT}/processed/MPRA_Tiling_K562_Tewhey_hannah"
   ]
  },
  {
   "cell_type": "code",
   "execution_count": 19,
   "id": "beea2673-df0d-4905-a626-b0632d73d399",
   "metadata": {},
   "outputs": [
    {
     "name": "stdout",
     "output_type": "stream",
     "text": [
      "\u001b[0m\u001b[38;5;34mFADS_tile_snp.20190214.attributes\u001b[0m\n",
      "\u001b[38;5;34mOL13_20220512_counts.out\u001b[0m\n",
      "\u001b[38;5;34mOL13_20220512_normalized_counts.out\u001b[0m\n",
      "\u001b[38;5;34mOL43_20211228_counts.out\u001b[0m\n",
      "\u001b[38;5;34mOL43_20211228_normalized_counts.out\u001b[0m\n",
      "\u001b[38;5;34mOL43_20221003_counts.out\u001b[0m\n",
      "\u001b[38;5;34mOL43_20221003_K562_normalized_counts.out\u001b[0m\n",
      "\u001b[38;5;34mOL43.attributes\u001b[0m\n",
      "\u001b[38;5;34mOL43_K562.bed\u001b[0m\n",
      "\u001b[38;5;34mOL45_20220927_counts.out\u001b[0m\n",
      "\u001b[38;5;34mOL45_20220927_K562_normalized_counts.out\u001b[0m\n",
      "\u001b[38;5;34mOL45.attributes\u001b[0m\n",
      "\u001b[38;5;34mOL45_K562.bed\u001b[0m\n",
      "\u001b[38;5;27mUKBB_GTEx\u001b[0m\n"
     ]
    }
   ],
   "source": [
    "ls ${FD_DAT}/processed/MPRA_Tiling_K562_Tewhey_hannah/tiling_counts"
   ]
  },
  {
   "cell_type": "code",
   "execution_count": null,
   "id": "292fc42b-9edb-4bb4-887d-e8865f298651",
   "metadata": {},
   "outputs": [],
   "source": []
  }
 ],
 "metadata": {
  "kernelspec": {
   "display_name": "Bash",
   "language": "bash",
   "name": "bash"
  },
  "language_info": {
   "codemirror_mode": "shell",
   "file_extension": ".sh",
   "mimetype": "text/x-sh",
   "name": "bash"
  }
 },
 "nbformat": 4,
 "nbformat_minor": 5
}
