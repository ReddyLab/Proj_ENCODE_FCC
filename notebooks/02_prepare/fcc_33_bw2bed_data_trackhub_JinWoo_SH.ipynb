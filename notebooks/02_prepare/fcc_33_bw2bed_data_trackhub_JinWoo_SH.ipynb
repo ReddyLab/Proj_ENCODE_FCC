{
 "cells": [
  {
   "cell_type": "raw",
   "id": "05cc4ccb-62df-4e48-90d2-1a7e44a0a3c1",
   "metadata": {},
   "source": [
    "---\n",
    "title: Prepare track data processed by JinWoo 03\n",
    "subtitle: Convert bigwig to bedgraph from `PROJECT/data` to `PROJECT/results` folder\n",
    "format:\n",
    "    html:\n",
    "        code-fold:  true\n",
    "        code-tools: true\n",
    "---"
   ]
  },
  {
   "cell_type": "markdown",
   "id": "4039a5dc-e7c0-49bb-a1a3-2502b7589b14",
   "metadata": {},
   "source": [
    "**Set environment**"
   ]
  },
  {
   "cell_type": "code",
   "execution_count": 2,
   "id": "378d4535-d557-4029-9711-810772ebd83d",
   "metadata": {},
   "outputs": [
    {
     "name": "stdout",
     "output_type": "stream",
     "text": [
      "You are working on             Duke Server: HARDAC\n",
      "BASE DIRECTORY (FD_BASE):      /data/reddylab/Kuei\n",
      "REPO DIRECTORY (FD_REPO):      /data/reddylab/Kuei/repo\n",
      "WORK DIRECTORY (FD_WORK):      /data/reddylab/Kuei/work\n",
      "DATA DIRECTORY (FD_DATA):      /data/reddylab/Kuei/data\n",
      "CONTAINER DIR. (FD_SING):      /data/reddylab/Kuei/container\n",
      "\n",
      "You are working with           ENCODE FCC\n",
      "PATH OF PROJECT (FD_PRJ):      /data/reddylab/Kuei/repo/Proj_ENCODE_FCC\n",
      "PROJECT RESULTS (FD_RES):      /data/reddylab/Kuei/repo/Proj_ENCODE_FCC/results\n",
      "PROJECT SCRIPTS (FD_EXE):      /data/reddylab/Kuei/repo/Proj_ENCODE_FCC/scripts\n",
      "PROJECT DATA    (FD_DAT):      /data/reddylab/Kuei/repo/Proj_ENCODE_FCC/data\n",
      "PROJECT NOTE    (FD_NBK):      /data/reddylab/Kuei/repo/Proj_ENCODE_FCC/notebooks\n",
      "PROJECT DOCS    (FD_DOC):      /data/reddylab/Kuei/repo/Proj_ENCODE_FCC/docs\n",
      "PROJECT LOG     (FD_LOG):      /data/reddylab/Kuei/repo/Proj_ENCODE_FCC/log\n",
      "PROJECT APP     (FD_APP):      /data/reddylab/Kuei/repo/Proj_ENCODE_FCC/app\n",
      "PROJECT REF     (FD_REF):      /data/reddylab/Kuei/repo/Proj_ENCODE_FCC/references\n",
      "PROJECT IMAGE   (FP_PRJ_SIF):  /data/reddylab/Kuei/repo/Proj_ENCODE_FCC/app/singularity_proj_encode_fcc.sif\n",
      "\n"
     ]
    }
   ],
   "source": [
    "source ../run_config_project.sh\n",
    "source ${FD_EXE}/config_load_module_bedops.sh\n",
    "show_env"
   ]
  },
  {
   "cell_type": "markdown",
   "id": "f0acfb16-0247-4a8f-a020-78c7f811f721",
   "metadata": {},
   "source": [
    "## Prepare"
   ]
  },
  {
   "cell_type": "markdown",
   "id": "70b39cb6-9ecb-4df0-99fa-af31beb90235",
   "metadata": {},
   "source": [
    "**Check scripts**"
   ]
  },
  {
   "cell_type": "markdown",
   "id": "640a324f-7fdf-4916-8ea8-5d0a0541ea2b",
   "metadata": {},
   "source": [
    "```\n",
    "${FD_EXE}/run_bigWigToWig.sh\n",
    "\n",
    "bigWigToWig - Convert bigWig to wig.  This will keep more of the same structure of the\n",
    "original wig than bigWigToBedGraph does, but still will break up large stepped sections\n",
    "into smaller ones.\n",
    "usage:\n",
    "   bigWigToWig in.bigWig out.wig\n",
    "options:\n",
    "   -chrom=chr1 - if set restrict output to given chromosome\n",
    "   -start=N - if set, restrict output to only that over start\n",
    "   -end=N - if set, restict output to only that under end\n",
    "   -udcDir=/dir/to/cache - place to put cache for remote bigBed/bigWigs\n",
    "```"
   ]
  },
  {
   "cell_type": "markdown",
   "id": "bef30663-0bd2-42bc-8139-2da6d3726db1",
   "metadata": {},
   "source": [
    "```\n",
    "$ wig2bed\n",
    "\n",
    "convert2bed\n",
    "  version:  2.4.35\n",
    "  author:   Alex Reynolds\n",
    "\n",
    "  Usage:\n",
    "\n",
    "  $ convert2bed --input=fmt [--output=fmt] [options] < input > output\n",
    "\n",
    "  Convert BAM, GFF, GTF, GVF, PSL, RepeatMasker (OUT), SAM, VCF\n",
    "  and WIG genomic formats to BED or BEDOPS Starch (compressed BED)\n",
    "\n",
    "  Input can be a regular file or standard input piped in using the\n",
    "  hyphen character ('-'):\n",
    "\n",
    "  $ some_upstream_process ... | convert2bed --input=fmt - > output\n",
    "\n",
    "  Input (required):\n",
    "\n",
    "  --input=[bam|gff|gtf|gvf|psl|rmsk|sam|vcf|wig] (-i <fmt>)\n",
    "      Genomic format of input file (required)\n",
    "\n",
    "  Output:\n",
    "\n",
    "  --output=[bed|starch] (-o <fmt>)\n",
    "      Format of output file, either BED or BEDOPS Starch (optional, default is BED)\n",
    "\n",
    "  Other processing options:\n",
    "\n",
    "  --do-not-sort (-d)\n",
    "      Do not sort BED output with sort-bed (not compatible with --output=starch)\n",
    "  --max-mem=<value> (-m <val>)\n",
    "      Sets aside <value> memory for sorting BED output. For example, <value> can\n",
    "      be 8G, 8000M or 8000000000 to specify 8 GB of memory (default is 2G)\n",
    "  --sort-tmpdir=<dir> (-r <dir>)\n",
    "      Optionally sets [dir] as temporary directory for sort data, when used in\n",
    "      conjunction with --max-mem=[value], instead of the host's operating system\n",
    "      default temporary directory\n",
    "  --starch-bzip2 (-z)\n",
    "      Used with --output=starch, the compressed output explicitly applies the bzip2\n",
    "      algorithm to compress intermediate data (default is bzip2)\n",
    "  --starch-gzip (-g)\n",
    "      Used with --output=starch, the compressed output applies gzip compression on\n",
    "      intermediate data\n",
    "  --starch-note=\"xyz...\" (-e \"xyz...\")\n",
    "      Used with --output=starch, this adds a note to the Starch archive metadata\n",
    "  --help | --help[-bam|-gff|-gtf|-gvf|-psl|-rmsk|-sam|-vcf|-wig] (-h | -h <fmt>)\n",
    "      Show general help message (or detailed help for a specified input format)\n",
    "  --version (-w)\n",
    "      Show application version\n",
    "```"
   ]
  },
  {
   "cell_type": "markdown",
   "id": "f0305d57-969c-420e-ab8c-40bb8927ddd4",
   "metadata": {},
   "source": [
    "**Check data**"
   ]
  },
  {
   "cell_type": "code",
   "execution_count": 11,
   "id": "24162e94-9c52-4e74-b701-f096c33d4706",
   "metadata": {},
   "outputs": [
    {
     "name": "stdout",
     "output_type": "stream",
     "text": [
      "CAPRIN1_HCRFF_rAVG.log2FC_2.bw                 HBG2_HCRFF_rAVG.log2FC_2.bw\n",
      "CAT_HCRFF_rAVG.log2FC_2.bw                     HBS1L_HCRFF_rAVG.log2FC_2.bw\n",
      "CD164_HCRFF_rAVG.log2FC_2.bw                   HDAC6_HCRFF_rAVG.log2FC_2.bw\n",
      "CRISPRi_rAVG_log2FC_2.bw                       KS91_K562_bs5_log2ratio.bw\n",
      "ERP29_HCRFF_rAVG.log2FC_2.bw                   LMO2_HCRFF_rAVG.log2FC_2.bw\n",
      "FADS1_HCRFF_rAVG.log2FC_2.bw                   MEF2C_HCRFF_rAVG.log2FC_2.bw\n",
      "FADS2_HCRFF_rAVG.log2FC_2.bw                   MYB_HCRFF_rAVG.log2FC_2.bw\n",
      "FADS3_HCRFF_rAVG.log2FC_2.bw                   MYC_HCRFF_rAVG.log2FC_2.bw\n",
      "FEN1_FADS123_MPRA_tiling.Z_bp.bw               nadav_K562_MPRA_log2FC_Z_bp.bw\n",
      "FEN1_HCRFF_rAVG.log2FC_2.bw                    NMU_HCRFF_rAVG.log2FC_2.bw\n",
      "GATA1_HCRFF_rAVG.log2FC_2.bw                   OL45_K562_20220628.Z_bp.bw\n",
      "GATA-MYC_Tile_K562_K562_20210130.hg38.Z_bp.bw  PVT1_HCRFF_rAVG.log2FC_2.bw\n",
      "HBE1_HCRFF_rAVG.log2FC_2.bw                    run_download.log.txt\n",
      "HBG1_HCRFF_rAVG.log2FC_2.bw                    \u001b[0m\u001b[38;5;34mrun_download.sh\u001b[0m\n"
     ]
    }
   ],
   "source": [
    "ls ${FD_DAT}/processed/fcc_trackhub_JinWoo/track_bigwig"
   ]
  },
  {
   "cell_type": "code",
   "execution_count": 12,
   "id": "a3d7a6d7-ba4b-4301-b524-f5dedddde186",
   "metadata": {},
   "outputs": [
    {
     "name": "stdout",
     "output_type": "stream",
     "text": [
      "CAPRIN1_HCRFF_rAVG.log2FC_2.bw\n",
      "CAT_HCRFF_rAVG.log2FC_2.bw\n",
      "CD164_HCRFF_rAVG.log2FC_2.bw\n",
      "ERP29_HCRFF_rAVG.log2FC_2.bw\n",
      "FADS1_HCRFF_rAVG.log2FC_2.bw\n",
      "FADS2_HCRFF_rAVG.log2FC_2.bw\n",
      "FADS3_HCRFF_rAVG.log2FC_2.bw\n",
      "FEN1_HCRFF_rAVG.log2FC_2.bw\n",
      "GATA1_HCRFF_rAVG.log2FC_2.bw\n",
      "HBE1_HCRFF_rAVG.log2FC_2.bw\n",
      "HBG1_HCRFF_rAVG.log2FC_2.bw\n",
      "HBG2_HCRFF_rAVG.log2FC_2.bw\n",
      "HBS1L_HCRFF_rAVG.log2FC_2.bw\n",
      "HDAC6_HCRFF_rAVG.log2FC_2.bw\n",
      "LMO2_HCRFF_rAVG.log2FC_2.bw\n",
      "MEF2C_HCRFF_rAVG.log2FC_2.bw\n",
      "MYB_HCRFF_rAVG.log2FC_2.bw\n",
      "MYC_HCRFF_rAVG.log2FC_2.bw\n",
      "NMU_HCRFF_rAVG.log2FC_2.bw\n",
      "PVT1_HCRFF_rAVG.log2FC_2.bw\n"
     ]
    }
   ],
   "source": [
    "FD_INP=${FD_DAT}/processed/fcc_trackhub_JinWoo/track_bigwig\n",
    "FP_INPS=$(ls ${FD_INP}/*HCRFF*bw)\n",
    "basename -a ${FP_INPS}"
   ]
  },
  {
   "cell_type": "code",
   "execution_count": 18,
   "id": "caaa8b35-9f78-4ee4-af0f-5ad0074f7794",
   "metadata": {},
   "outputs": [
    {
     "name": "stdout",
     "output_type": "stream",
     "text": [
      "CRISPRi_rAVG_log2FC_2.bw\n"
     ]
    }
   ],
   "source": [
    "FD_INP=${FD_DAT}/processed/fcc_trackhub_JinWoo/track_bigwig\n",
    "FN_INP=CRISPRi_rAVG_log2FC_2.bw\n",
    "FP_INP=${FD_INP}/${FN_INP}\n",
    "ls ${FP_INP} | xargs -n 1 basename"
   ]
  },
  {
   "cell_type": "markdown",
   "id": "369311c1-9259-4eb9-9625-14a5673bcde0",
   "metadata": {},
   "source": [
    "## Execute"
   ]
  },
  {
   "cell_type": "markdown",
   "id": "b50b0506-f6b9-493d-aed7-466ad2d79b59",
   "metadata": {},
   "source": [
    "### CRISPRi-Growth"
   ]
  },
  {
   "cell_type": "code",
   "execution_count": 47,
   "id": "ffb88498-fbff-4854-8da8-c7b998860749",
   "metadata": {},
   "outputs": [
    {
     "name": "stdout",
     "output_type": "stream",
     "text": [
      "==============================\n",
      "Convert CRISPRi_rAVG_log2FC_2.bw to wig and then to bed file\n",
      "Prefix: CRISPRi_rAVG_log2FC_2\n",
      "Input:  /data/reddylab/Kuei/repo/Proj_ENCODE_FCC/data/processed/fcc_trackhub_JinWoo/track_bigwig/PVT1_HCRFF_rAVG.log2FC_2.bw\n",
      "Output: /data/reddylab/Kuei/repo/Proj_ENCODE_FCC/results/assay_fcc/CRISPRi_Growth_K562_Gersbach_JinWoo/guide_scores/CRISPRi_rAVG_log2FC_2.bed\n",
      "\n"
     ]
    }
   ],
   "source": [
    "### set directory\n",
    "ASSAY_TYPE=assay_fcc\n",
    "ASSAY_NAME=CRISPRi_Growth_K562_Gersbach_JinWoo\n",
    "\n",
    "FD_INP=${FD_DAT}/processed/fcc_trackhub_JinWoo/track_bigwig\n",
    "FD_OUT=${FD_RES}/${ASSAY_TYPE}/${ASSAY_NAME}/guide_scores\n",
    "\n",
    "### set output files\n",
    "FN_INP=CRISPRi_rAVG_log2FC_2.bw\n",
    "PREFIX=$(basename -s .bw ${FN_INP})\n",
    "FP_OUT_WIG=${FD_OUT}/${PREFIX}.wig\n",
    "FP_OUT_BED=${FD_OUT}/${PREFIX}.bed\n",
    "\n",
    "### show progress\n",
    "echo ==============================\n",
    "echo \"Convert ${FN_INP} to wig and then to bed file\"\n",
    "echo \"Prefix: ${PREFIX}\"\n",
    "echo \"Input:  ${FP_INP}\"\n",
    "echo \"Output: ${FP_OUT_BED}\"\n",
    "echo\n",
    "\n",
    "### convert to intermediate wig format\n",
    "${FD_EXE}/run_bigWigToWig.sh ${FP_INP} ${FP_OUT_WIG}\n",
    "\n",
    "### convert wig to bed\n",
    "wig2bed < ${FP_OUT_WIG} > ${FP_OUT_BED}"
   ]
  },
  {
   "cell_type": "markdown",
   "id": "f2edc0ba-172d-4328-93b4-dba8757bc550",
   "metadata": {},
   "source": [
    "### CRISPRi HCR-FlowFISH"
   ]
  },
  {
   "cell_type": "code",
   "execution_count": 48,
   "id": "c417d417-8388-4df7-babf-847861ac0c58",
   "metadata": {},
   "outputs": [
    {
     "name": "stdout",
     "output_type": "stream",
     "text": [
      "==============================\n",
      "Convert CAPRIN1_HCRFF_rAVG.log2FC_2.bw to wig and then to bed file\n",
      "Prefix: CAPRIN1_HCRFF_rAVG.log2FC_2\n",
      "\n",
      "==============================\n",
      "Convert CAT_HCRFF_rAVG.log2FC_2.bw to wig and then to bed file\n",
      "Prefix: CAT_HCRFF_rAVG.log2FC_2\n",
      "\n",
      "==============================\n",
      "Convert CD164_HCRFF_rAVG.log2FC_2.bw to wig and then to bed file\n",
      "Prefix: CD164_HCRFF_rAVG.log2FC_2\n",
      "\n",
      "==============================\n",
      "Convert ERP29_HCRFF_rAVG.log2FC_2.bw to wig and then to bed file\n",
      "Prefix: ERP29_HCRFF_rAVG.log2FC_2\n",
      "\n",
      "==============================\n",
      "Convert FADS1_HCRFF_rAVG.log2FC_2.bw to wig and then to bed file\n",
      "Prefix: FADS1_HCRFF_rAVG.log2FC_2\n",
      "\n",
      "==============================\n",
      "Convert FADS2_HCRFF_rAVG.log2FC_2.bw to wig and then to bed file\n",
      "Prefix: FADS2_HCRFF_rAVG.log2FC_2\n",
      "\n",
      "==============================\n",
      "Convert FADS3_HCRFF_rAVG.log2FC_2.bw to wig and then to bed file\n",
      "Prefix: FADS3_HCRFF_rAVG.log2FC_2\n",
      "\n",
      "==============================\n",
      "Convert FEN1_HCRFF_rAVG.log2FC_2.bw to wig and then to bed file\n",
      "Prefix: FEN1_HCRFF_rAVG.log2FC_2\n",
      "\n",
      "==============================\n",
      "Convert GATA1_HCRFF_rAVG.log2FC_2.bw to wig and then to bed file\n",
      "Prefix: GATA1_HCRFF_rAVG.log2FC_2\n",
      "\n",
      "==============================\n",
      "Convert HBE1_HCRFF_rAVG.log2FC_2.bw to wig and then to bed file\n",
      "Prefix: HBE1_HCRFF_rAVG.log2FC_2\n",
      "\n",
      "==============================\n",
      "Convert HBG1_HCRFF_rAVG.log2FC_2.bw to wig and then to bed file\n",
      "Prefix: HBG1_HCRFF_rAVG.log2FC_2\n",
      "\n",
      "==============================\n",
      "Convert HBG2_HCRFF_rAVG.log2FC_2.bw to wig and then to bed file\n",
      "Prefix: HBG2_HCRFF_rAVG.log2FC_2\n",
      "\n",
      "==============================\n",
      "Convert HBS1L_HCRFF_rAVG.log2FC_2.bw to wig and then to bed file\n",
      "Prefix: HBS1L_HCRFF_rAVG.log2FC_2\n",
      "\n",
      "==============================\n",
      "Convert HDAC6_HCRFF_rAVG.log2FC_2.bw to wig and then to bed file\n",
      "Prefix: HDAC6_HCRFF_rAVG.log2FC_2\n",
      "\n",
      "==============================\n",
      "Convert LMO2_HCRFF_rAVG.log2FC_2.bw to wig and then to bed file\n",
      "Prefix: LMO2_HCRFF_rAVG.log2FC_2\n",
      "\n",
      "==============================\n",
      "Convert MEF2C_HCRFF_rAVG.log2FC_2.bw to wig and then to bed file\n",
      "Prefix: MEF2C_HCRFF_rAVG.log2FC_2\n",
      "\n",
      "==============================\n",
      "Convert MYB_HCRFF_rAVG.log2FC_2.bw to wig and then to bed file\n",
      "Prefix: MYB_HCRFF_rAVG.log2FC_2\n",
      "\n",
      "==============================\n",
      "Convert MYC_HCRFF_rAVG.log2FC_2.bw to wig and then to bed file\n",
      "Prefix: MYC_HCRFF_rAVG.log2FC_2\n",
      "\n",
      "==============================\n",
      "Convert NMU_HCRFF_rAVG.log2FC_2.bw to wig and then to bed file\n",
      "Prefix: NMU_HCRFF_rAVG.log2FC_2\n",
      "\n",
      "==============================\n",
      "Convert PVT1_HCRFF_rAVG.log2FC_2.bw to wig and then to bed file\n",
      "Prefix: PVT1_HCRFF_rAVG.log2FC_2\n",
      "\n"
     ]
    }
   ],
   "source": [
    "ASSAY_TYPE=assay_fcc\n",
    "ASSAY_NAME=CRISPRi_FlowFISH_K562_Riley_JinWoo\n",
    "\n",
    "FD_INP=${FD_DAT}/processed/fcc_trackhub_JinWoo/track_bigwig\n",
    "FD_OUT=${FD_RES}/${ASSAY_TYPE}/${ASSAY_NAME}/guide_scores\n",
    "FP_INPS=$(ls ${FD_INP}/*HCRFF*bw)\n",
    "\n",
    "###\n",
    "for FP_INP in ${FP_INPS[@]}; do\n",
    "    ### set directory\n",
    "    FN_INP=$(basename        ${FP_INP})\n",
    "    PREFIX=$(basename -s .bw ${FP_INP})\n",
    "    FP_OUT_WIG=${FD_OUT}/${PREFIX}.wig\n",
    "    FP_OUT_BED=${FD_OUT}/${PREFIX}.bed\n",
    "    \n",
    "    ### show progress\n",
    "    echo ==============================\n",
    "    echo \"Convert ${FN_INP} to wig and then to bed file\"\n",
    "    echo \"Prefix: ${PREFIX}\"\n",
    "    echo\n",
    "    \n",
    "    ### convert to intermediate wig format\n",
    "    ${FD_EXE}/run_bigWigToWig.sh ${FP_INP} ${FP_OUT_WIG}\n",
    "\n",
    "    ### convert wig to bed\n",
    "    wig2bed < ${FP_OUT_WIG} > ${FP_OUT_BED}\n",
    "done"
   ]
  },
  {
   "cell_type": "markdown",
   "id": "dce4f195-42ee-4817-aec3-bc66594ea3c1",
   "metadata": {},
   "source": [
    "## Review"
   ]
  },
  {
   "cell_type": "markdown",
   "id": "5469ac07-dae0-4286-9634-49281c6d2ccd",
   "metadata": {},
   "source": [
    "**Check results**"
   ]
  },
  {
   "cell_type": "code",
   "execution_count": 51,
   "id": "c07aaa42-c211-4cb7-bee7-42569e0086ea",
   "metadata": {},
   "outputs": [
    {
     "name": "stdout",
     "output_type": "stream",
     "text": [
      "CRISPRi_rAVG_log2FC_2.bed\n"
     ]
    }
   ],
   "source": [
    "ASSAY_TYPE=assay_fcc\n",
    "ASSAY_NAME=CRISPRi_Growth_K562_Gersbach_JinWoo\n",
    "\n",
    "FD_OUT=${FD_RES}/${ASSAY_TYPE}/${ASSAY_NAME}/guide_scores\n",
    "\n",
    "ls ${FD_OUT}/*bed | xargs -n 1 basename"
   ]
  },
  {
   "cell_type": "code",
   "execution_count": 52,
   "id": "adff0852-e25e-4729-be93-fdbd6186c406",
   "metadata": {},
   "outputs": [
    {
     "name": "stdout",
     "output_type": "stream",
     "text": [
      "CAPRIN1_HCRFF_rAVG.log2FC_2.bed\n",
      "CAT_HCRFF_rAVG.log2FC_2.bed\n",
      "CD164_HCRFF_rAVG.log2FC_2.bed\n",
      "ERP29_HCRFF_rAVG.log2FC_2.bed\n",
      "FADS1_HCRFF_rAVG.log2FC_2.bed\n",
      "FADS2_HCRFF_rAVG.log2FC_2.bed\n",
      "FADS3_HCRFF_rAVG.log2FC_2.bed\n",
      "FEN1_HCRFF_rAVG.log2FC_2.bed\n",
      "GATA1_HCRFF_rAVG.log2FC_2.bed\n",
      "HBE1_HCRFF_rAVG.log2FC_2.bed\n",
      "HBG1_HCRFF_rAVG.log2FC_2.bed\n",
      "HBG2_HCRFF_rAVG.log2FC_2.bed\n",
      "HBS1L_HCRFF_rAVG.log2FC_2.bed\n",
      "HDAC6_HCRFF_rAVG.log2FC_2.bed\n",
      "LMO2_HCRFF_rAVG.log2FC_2.bed\n",
      "MEF2C_HCRFF_rAVG.log2FC_2.bed\n",
      "MYB_HCRFF_rAVG.log2FC_2.bed\n",
      "MYC_HCRFF_rAVG.log2FC_2.bed\n",
      "NMU_HCRFF_rAVG.log2FC_2.bed\n",
      "PVT1_HCRFF_rAVG.log2FC_2.bed\n"
     ]
    }
   ],
   "source": [
    "ASSAY_TYPE=assay_fcc\n",
    "ASSAY_NAME=CRISPRi_FlowFISH_K562_Riley_JinWoo\n",
    "\n",
    "FD_OUT=${FD_RES}/${ASSAY_TYPE}/${ASSAY_NAME}/guide_scores\n",
    "\n",
    "ls ${FD_OUT}/*bed | xargs -n 1 basename"
   ]
  },
  {
   "cell_type": "code",
   "execution_count": null,
   "id": "17d4d9e0-1227-4951-a409-520fe3555066",
   "metadata": {},
   "outputs": [],
   "source": []
  }
 ],
 "metadata": {
  "kernelspec": {
   "display_name": "Bash",
   "language": "bash",
   "name": "bash"
  },
  "language_info": {
   "codemirror_mode": "shell",
   "file_extension": ".sh",
   "mimetype": "text/x-sh",
   "name": "bash"
  }
 },
 "nbformat": 4,
 "nbformat_minor": 5
}
