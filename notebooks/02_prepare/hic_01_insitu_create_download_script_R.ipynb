{
 "cells": [
  {
   "cell_type": "raw",
   "id": "53b969c2-373b-4fd7-882b-84210fc1386b",
   "metadata": {},
   "source": [
    "---\n",
    "title: Prepare Hi-C data 01 (in situ Hi-C)\n",
    "subtitle: Generate download script to download the data\n",
    "format:\n",
    "    html:\n",
    "        code-fold:  true\n",
    "        code-tools: true\n",
    "---"
   ]
  },
  {
   "cell_type": "markdown",
   "id": "2bd42d7a-b926-42df-9a99-186e5aa4c368",
   "metadata": {},
   "source": [
    "**Set environment**"
   ]
  },
  {
   "cell_type": "code",
   "execution_count": 1,
   "id": "218a697f-0d53-49d9-82c2-ebc71d6831f9",
   "metadata": {
    "tags": []
   },
   "outputs": [
    {
     "name": "stdout",
     "output_type": "stream",
     "text": [
      "You are working on        Singularity \n",
      "BASE DIRECTORY (FD_BASE): /mount \n",
      "REPO DIRECTORY (FD_REPO): /mount/repo \n",
      "WORK DIRECTORY (FD_WORK): /mount/work \n",
      "DATA DIRECTORY (FD_DATA): /mount/data \n",
      "\n",
      "You are working with      ENCODE FCC \n",
      "PATH OF PROJECT (FD_PRJ): /mount/repo/Proj_ENCODE_FCC \n",
      "PROJECT RESULTS (FD_RES): /mount/repo/Proj_ENCODE_FCC/results \n",
      "PROJECT SCRIPTS (FD_EXE): /mount/repo/Proj_ENCODE_FCC/scripts \n",
      "PROJECT DATA    (FD_DAT): /mount/repo/Proj_ENCODE_FCC/data \n",
      "PROJECT NOTE    (FD_NBK): /mount/repo/Proj_ENCODE_FCC/notebooks \n",
      "PROJECT DOCS    (FD_DOC): /mount/repo/Proj_ENCODE_FCC/docs \n",
      "PROJECT LOG     (FD_LOG): /mount/repo/Proj_ENCODE_FCC/log \n",
      "PROJECT APP     (FD_APP): /mount/repo/Proj_ENCODE_FCC/app \n",
      "PROJECT REF     (FD_REF): /mount/repo/Proj_ENCODE_FCC/references \n",
      "\n"
     ]
    }
   ],
   "source": [
    "suppressMessages(suppressWarnings(source(\"../run_config_project_sing.R\")))\n",
    "show_env()"
   ]
  },
  {
   "cell_type": "markdown",
   "id": "017440ea-5845-4e59-a4bb-ffc86f0bd39f",
   "metadata": {
    "tags": []
   },
   "source": [
    "## Import metadata from reference file"
   ]
  },
  {
   "cell_type": "code",
   "execution_count": 2,
   "id": "394171fd-cc67-42e2-ba9e-0bbc4235fdee",
   "metadata": {},
   "outputs": [
    {
     "data": {
      "text/html": [
       "'ENCODE_K562_hg38_hic.tsv'"
      ],
      "text/latex": [
       "'ENCODE\\_K562\\_hg38\\_hic.tsv'"
      ],
      "text/markdown": [
       "'ENCODE_K562_hg38_hic.tsv'"
      ],
      "text/plain": [
       "[1] \"ENCODE_K562_hg38_hic.tsv\""
      ]
     },
     "metadata": {},
     "output_type": "display_data"
    }
   ],
   "source": [
    "txt = file.path(FD_REF, \"encode_hic\")\n",
    "dir(txt)"
   ]
  },
  {
   "cell_type": "code",
   "execution_count": 3,
   "id": "2856dc3f-4bee-4a14-a1f7-ad29b85e2b32",
   "metadata": {},
   "outputs": [
    {
     "data": {
      "text/html": [
       "<table>\n",
       " <thead>\n",
       "  <tr>\n",
       "   <th style=\"text-align:left;\"> Assay </th>\n",
       "   <th style=\"text-align:left;\"> Biosample </th>\n",
       "   <th style=\"text-align:left;\"> Index_Experiment </th>\n",
       "   <th style=\"text-align:left;\"> Index_Process </th>\n",
       "   <th style=\"text-align:left;\"> Index_File </th>\n",
       "   <th style=\"text-align:left;\"> File_Type </th>\n",
       "   <th style=\"text-align:left;\"> Output_Type </th>\n",
       "   <th style=\"text-align:left;\"> Genome </th>\n",
       "   <th style=\"text-align:left;\"> Lab </th>\n",
       "  </tr>\n",
       " </thead>\n",
       "<tbody>\n",
       "  <tr>\n",
       "   <td style=\"text-align:left;\"> HiC (in situ Hi-C) </td>\n",
       "   <td style=\"text-align:left;\"> K562 </td>\n",
       "   <td style=\"text-align:left;\"> ENCSR545YBD </td>\n",
       "   <td style=\"text-align:left;\"> ENCODE4 v1.15.0 GRCh38 (ENCAN133QZO) processed data </td>\n",
       "   <td style=\"text-align:left;\"> ENCFF616PUW </td>\n",
       "   <td style=\"text-align:left;\"> hic </td>\n",
       "   <td style=\"text-align:left;\"> mapping quality thresholded contact matrix </td>\n",
       "   <td style=\"text-align:left;\"> hg38 </td>\n",
       "   <td style=\"text-align:left;\"> Erez Aiden, Baylor </td>\n",
       "  </tr>\n",
       "  <tr>\n",
       "   <td style=\"text-align:left;\"> HiC (in situ Hi-C) </td>\n",
       "   <td style=\"text-align:left;\"> K562 </td>\n",
       "   <td style=\"text-align:left;\"> ENCSR545YBD </td>\n",
       "   <td style=\"text-align:left;\"> ENCODE4 v1.15.0 GRCh38 (ENCAN133QZO) processed data </td>\n",
       "   <td style=\"text-align:left;\"> ENCFF693XIL </td>\n",
       "   <td style=\"text-align:left;\"> bedpe </td>\n",
       "   <td style=\"text-align:left;\"> loops </td>\n",
       "   <td style=\"text-align:left;\"> hg38 </td>\n",
       "   <td style=\"text-align:left;\"> Erez Aiden, Baylor </td>\n",
       "  </tr>\n",
       "  <tr>\n",
       "   <td style=\"text-align:left;\"> HiC (in situ Hi-C) </td>\n",
       "   <td style=\"text-align:left;\"> K562 </td>\n",
       "   <td style=\"text-align:left;\"> ENCSR545YBD </td>\n",
       "   <td style=\"text-align:left;\"> ENCODE4 v1.15.0 GRCh38 (ENCAN133QZO) processed data </td>\n",
       "   <td style=\"text-align:left;\"> ENCFF271SAF </td>\n",
       "   <td style=\"text-align:left;\"> bedpe </td>\n",
       "   <td style=\"text-align:left;\"> contact domains </td>\n",
       "   <td style=\"text-align:left;\"> hg38 </td>\n",
       "   <td style=\"text-align:left;\"> Erez Aiden, Baylor </td>\n",
       "  </tr>\n",
       "  <tr>\n",
       "   <td style=\"text-align:left;\"> HiC (intact Hi-C) </td>\n",
       "   <td style=\"text-align:left;\"> K562 </td>\n",
       "   <td style=\"text-align:left;\"> ENCSR479XDG </td>\n",
       "   <td style=\"text-align:left;\"> ENCODE4 v1.14.2 GRCh38 (ENCAN923OBU) processed data </td>\n",
       "   <td style=\"text-align:left;\"> ENCFF621AIY </td>\n",
       "   <td style=\"text-align:left;\"> hic </td>\n",
       "   <td style=\"text-align:left;\"> mapping quality thresholded contact matrix </td>\n",
       "   <td style=\"text-align:left;\"> hg38 </td>\n",
       "   <td style=\"text-align:left;\"> Erez Aiden, Baylor </td>\n",
       "  </tr>\n",
       "  <tr>\n",
       "   <td style=\"text-align:left;\"> HiC (intact Hi-C) </td>\n",
       "   <td style=\"text-align:left;\"> K562 </td>\n",
       "   <td style=\"text-align:left;\"> ENCSR479XDG </td>\n",
       "   <td style=\"text-align:left;\"> ENCODE4 v1.14.2 GRCh38 (ENCAN923OBU) processed data </td>\n",
       "   <td style=\"text-align:left;\"> ENCFF256ZMD </td>\n",
       "   <td style=\"text-align:left;\"> bedpe </td>\n",
       "   <td style=\"text-align:left;\"> loops </td>\n",
       "   <td style=\"text-align:left;\"> hg38 </td>\n",
       "   <td style=\"text-align:left;\"> Erez Aiden, Baylor </td>\n",
       "  </tr>\n",
       "  <tr>\n",
       "   <td style=\"text-align:left;\"> HiC (intact Hi-C) </td>\n",
       "   <td style=\"text-align:left;\"> K562 </td>\n",
       "   <td style=\"text-align:left;\"> ENCSR479XDG </td>\n",
       "   <td style=\"text-align:left;\"> ENCODE4 v1.14.2 GRCh38 (ENCAN923OBU) processed data </td>\n",
       "   <td style=\"text-align:left;\"> ENCFF126GED </td>\n",
       "   <td style=\"text-align:left;\"> bedpe </td>\n",
       "   <td style=\"text-align:left;\"> contact domains </td>\n",
       "   <td style=\"text-align:left;\"> hg38 </td>\n",
       "   <td style=\"text-align:left;\"> Erez Aiden, Baylor </td>\n",
       "  </tr>\n",
       "</tbody>\n",
       "</table>"
      ]
     },
     "metadata": {},
     "output_type": "display_data"
    }
   ],
   "source": [
    "### set file path\n",
    "txt_fdiry = file.path(FD_REF, \"encode_hic\")\n",
    "txt_fname = \"ENCODE_K562_hg38_hic.tsv\"\n",
    "txt_fpath = file.path(txt_fdiry, txt_fname)\n",
    "\n",
    "### read table\n",
    "dat = read_tsv(txt_fpath, show_col_types = FALSE)\n",
    "\n",
    "### assign and show\n",
    "dat_metadata_import = dat\n",
    "fun_display_table(dat)"
   ]
  },
  {
   "cell_type": "code",
   "execution_count": 4,
   "id": "665923c7-ef1c-4ece-80c6-8c8202aeae76",
   "metadata": {},
   "outputs": [
    {
     "data": {
      "text/html": [
       "<table>\n",
       " <thead>\n",
       "  <tr>\n",
       "   <th style=\"text-align:left;\"> Assay </th>\n",
       "   <th style=\"text-align:left;\"> Biosample </th>\n",
       "   <th style=\"text-align:left;\"> Index_Experiment </th>\n",
       "   <th style=\"text-align:left;\"> Index_Process </th>\n",
       "   <th style=\"text-align:left;\"> Index_File </th>\n",
       "   <th style=\"text-align:left;\"> File_Type </th>\n",
       "   <th style=\"text-align:left;\"> Output_Type </th>\n",
       "   <th style=\"text-align:left;\"> Genome </th>\n",
       "   <th style=\"text-align:left;\"> Lab </th>\n",
       "  </tr>\n",
       " </thead>\n",
       "<tbody>\n",
       "  <tr>\n",
       "   <td style=\"text-align:left;\"> HiC (in situ Hi-C) </td>\n",
       "   <td style=\"text-align:left;\"> K562 </td>\n",
       "   <td style=\"text-align:left;\"> ENCSR545YBD </td>\n",
       "   <td style=\"text-align:left;\"> ENCODE4 v1.15.0 GRCh38 (ENCAN133QZO) processed data </td>\n",
       "   <td style=\"text-align:left;\"> ENCFF616PUW </td>\n",
       "   <td style=\"text-align:left;\"> hic </td>\n",
       "   <td style=\"text-align:left;\"> mapping quality thresholded contact matrix </td>\n",
       "   <td style=\"text-align:left;\"> hg38 </td>\n",
       "   <td style=\"text-align:left;\"> Erez Aiden, Baylor </td>\n",
       "  </tr>\n",
       "  <tr>\n",
       "   <td style=\"text-align:left;\"> HiC (in situ Hi-C) </td>\n",
       "   <td style=\"text-align:left;\"> K562 </td>\n",
       "   <td style=\"text-align:left;\"> ENCSR545YBD </td>\n",
       "   <td style=\"text-align:left;\"> ENCODE4 v1.15.0 GRCh38 (ENCAN133QZO) processed data </td>\n",
       "   <td style=\"text-align:left;\"> ENCFF693XIL </td>\n",
       "   <td style=\"text-align:left;\"> bedpe </td>\n",
       "   <td style=\"text-align:left;\"> loops </td>\n",
       "   <td style=\"text-align:left;\"> hg38 </td>\n",
       "   <td style=\"text-align:left;\"> Erez Aiden, Baylor </td>\n",
       "  </tr>\n",
       "  <tr>\n",
       "   <td style=\"text-align:left;\"> HiC (in situ Hi-C) </td>\n",
       "   <td style=\"text-align:left;\"> K562 </td>\n",
       "   <td style=\"text-align:left;\"> ENCSR545YBD </td>\n",
       "   <td style=\"text-align:left;\"> ENCODE4 v1.15.0 GRCh38 (ENCAN133QZO) processed data </td>\n",
       "   <td style=\"text-align:left;\"> ENCFF271SAF </td>\n",
       "   <td style=\"text-align:left;\"> bedpe </td>\n",
       "   <td style=\"text-align:left;\"> contact domains </td>\n",
       "   <td style=\"text-align:left;\"> hg38 </td>\n",
       "   <td style=\"text-align:left;\"> Erez Aiden, Baylor </td>\n",
       "  </tr>\n",
       "</tbody>\n",
       "</table>"
      ]
     },
     "metadata": {},
     "output_type": "display_data"
    }
   ],
   "source": [
    "dat = dat_metadata_import\n",
    "dat = dat %>% dplyr::filter(str_detect(Assay, \"in situ\"))\n",
    "\n",
    "### assign and show\n",
    "dat_metadata = dat\n",
    "fun_display_table(dat)"
   ]
  },
  {
   "cell_type": "markdown",
   "id": "88d0002d-6df6-4d78-949d-a8232758bd34",
   "metadata": {},
   "source": [
    "## Generate download commands\n",
    "```\n",
    "wget -O FILE URL\n",
    "```"
   ]
  },
  {
   "cell_type": "code",
   "execution_count": 5,
   "id": "e8c85c34-b7ab-43ec-a009-d7289fff8c6d",
   "metadata": {},
   "outputs": [
    {
     "name": "stdout",
     "output_type": "stream",
     "text": [
      "  Input   Output\n",
      "1   hic      hic\n",
      "2 bedpe bedpe.gz\n",
      "3 bedpe bedpe.gz\n",
      "\n",
      "                                       Input         Output\n",
      "1 mapping quality thresholded contact matrix         matrix\n",
      "2                                      loops          loops\n",
      "3                            contact domains contact_domain\n",
      "\n"
     ]
    }
   ],
   "source": [
    "### define helper function\n",
    "fun_get_file_ext = function(txt){\n",
    "    vec1 = c(\"hic\", \"bedpe\")\n",
    "    vec2 = c(\"hic\", \"bedpe.gz\")\n",
    "    res  = fun_str_map_detect(txt, vec1, vec2, .default=txt)\n",
    "    return(res)\n",
    "}\n",
    "\n",
    "### define helper function\n",
    "fun_get_file_label = function(txt){\n",
    "    vec1 = c(\"matrix\", \"loops\", \"contact domain\")\n",
    "    vec2 = c(\"matrix\", \"loops\", \"contact_domain\")\n",
    "    res  = fun_str_map_detect(txt, vec1, vec2, .default=txt)\n",
    "    return(res)\n",
    "}\n",
    "\n",
    "\n",
    "### test function\n",
    "dat = dat_metadata\n",
    "\n",
    "fun = fun_get_file_ext\n",
    "txt = dat$File_Type\n",
    "res = fun(txt)\n",
    "tmp = data.frame(\"Input\" = txt, \"Output\" = res)\n",
    "print(tmp)\n",
    "cat(\"\\n\")\n",
    "\n",
    "fun = fun_get_file_label\n",
    "txt = dat$Output_Type\n",
    "res = fun(txt)\n",
    "tmp = data.frame(\"Input\" = txt, \"Output\" = res)\n",
    "print(tmp)\n",
    "cat(\"\\n\")"
   ]
  },
  {
   "cell_type": "code",
   "execution_count": 6,
   "id": "308def89-57ae-4e99-bf0e-7ec5e3aa4680",
   "metadata": {},
   "outputs": [
    {
     "data": {
      "text/html": [
       "<table>\n",
       " <thead>\n",
       "  <tr>\n",
       "   <th style=\"text-align:left;\"> #!/bin/bash </th>\n",
       "  </tr>\n",
       " </thead>\n",
       "<tbody>\n",
       "  <tr>\n",
       "   <td style=\"text-align:left;\"> echo -n &quot;&quot; &gt; run_download.log.txt </td>\n",
       "  </tr>\n",
       "  <tr>\n",
       "   <td style=\"text-align:left;\"> wget --append-output=run_download.log.txt -O K562.hg38.ENCSR545YBD.ENCFF616PUW.hic_insitu.matrix.hic https://www.encodeproject.org/files/ENCFF616PUW/@@download/ENCFF616PUW.hic </td>\n",
       "  </tr>\n",
       "  <tr>\n",
       "   <td style=\"text-align:left;\"> wget --append-output=run_download.log.txt -O K562.hg38.ENCSR545YBD.ENCFF693XIL.hic_insitu.loops.bedpe.gz https://www.encodeproject.org/files/ENCFF693XIL/@@download/ENCFF693XIL.bedpe.gz </td>\n",
       "  </tr>\n",
       "  <tr>\n",
       "   <td style=\"text-align:left;\"> wget --append-output=run_download.log.txt -O K562.hg38.ENCSR545YBD.ENCFF271SAF.hic_insitu.contact_domain.bedpe.gz https://www.encodeproject.org/files/ENCFF271SAF/@@download/ENCFF271SAF.bedpe.gz </td>\n",
       "  </tr>\n",
       "</tbody>\n",
       "</table>"
      ]
     },
     "metadata": {},
     "output_type": "display_data"
    }
   ],
   "source": [
    "### init\n",
    "dat = dat_metadata\n",
    "\n",
    "### setup download file name and wget command\n",
    "dat = dat %>%\n",
    "    dplyr::mutate(\n",
    "        File_Label = fun_get_file_label(Output_Type),\n",
    "        File_Ext1  = fun_get_file_ext(File_Type),\n",
    "        File_Ext2  = fun_get_file_ext(File_Type)\n",
    "    ) %>%\n",
    "    dplyr::mutate(\n",
    "        File_Name = paste(\n",
    "            Biosample, \n",
    "            Genome, \n",
    "            Index_Experiment, \n",
    "            Index_File,\n",
    "            \"hic_insitu\",\n",
    "            File_Label,\n",
    "            File_Ext1, \n",
    "            sep=\".\")\n",
    "    ) %>%\n",
    "    dplyr::mutate(\n",
    "        File_URL_Download = file.path(\n",
    "            \"https://www.encodeproject.org/files\",\n",
    "            Index_File,\n",
    "            \"@@download\",\n",
    "            paste(Index_File, File_Ext2, sep = \".\")\n",
    "        )\n",
    "    ) %>%\n",
    "    dplyr::mutate(\n",
    "        CMD = paste(\"wget\", \"--append-output=run_download.log.txt\", \"-O\", File_Name, File_URL_Download)\n",
    "    )\n",
    "\n",
    "### add Shebang and initial commands\n",
    "#dat = dat %>% dplyr::select(Assay, Biosample, Index_Experiment, Index_File, File_Name, CMD)\n",
    "dat = dat %>% dplyr::select(CMD)\n",
    "dat = rbind('echo -n \"\" > run_download.log.txt', dat)\n",
    "colnames(dat) = \"#!/bin/bash\"\n",
    "\n",
    "### assign and show\n",
    "dat_cmd = dat\n",
    "fun_display_table(dat)"
   ]
  },
  {
   "cell_type": "markdown",
   "id": "1fa20360-57b7-49ef-ad6c-3fe83fc64d81",
   "metadata": {},
   "source": [
    "## Save to script\n",
    "Save the command lines for each row into a bash script"
   ]
  },
  {
   "cell_type": "code",
   "execution_count": 7,
   "id": "c0ea4901-b765-4e27-b57d-298fbc9bedaa",
   "metadata": {},
   "outputs": [],
   "source": [
    "### set output path\n",
    "txt_fdiry = file.path(FD_DAT, \"external\", \"hic_insitu_K562_ENCSR545YBD\")\n",
    "txt_fname = \"run_download.sh\"\n",
    "txt_fpath = file.path(txt_fdiry, txt_fname)\n",
    "\n",
    "### save table\n",
    "dir.create(txt_fdiry, showWarnings = FALSE)\n",
    "dat = dat_cmd\n",
    "write_tsv(dat, txt_fpath)  "
   ]
  },
  {
   "cell_type": "code",
   "execution_count": null,
   "id": "7ca88c3f-e396-4483-99c9-82c3e72345e4",
   "metadata": {},
   "outputs": [],
   "source": []
  },
  {
   "cell_type": "code",
   "execution_count": null,
   "id": "8ac1413d-943f-4f51-ab8d-5f6d1aad4ec6",
   "metadata": {},
   "outputs": [],
   "source": []
  },
  {
   "cell_type": "code",
   "execution_count": null,
   "id": "246b99b1-dff7-4e6c-9930-f3ffa93249ec",
   "metadata": {},
   "outputs": [],
   "source": []
  }
 ],
 "metadata": {
  "kernelspec": {
   "display_name": "R",
   "language": "R",
   "name": "ir"
  },
  "language_info": {
   "codemirror_mode": "r",
   "file_extension": ".r",
   "mimetype": "text/x-r-source",
   "name": "R",
   "pygments_lexer": "r",
   "version": "4.4.0"
  }
 },
 "nbformat": 4,
 "nbformat_minor": 5
}
