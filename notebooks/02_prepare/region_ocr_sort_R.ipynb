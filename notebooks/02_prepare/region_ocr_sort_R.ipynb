{
 "cells": [
  {
   "cell_type": "code",
   "execution_count": null,
   "id": "601bfa07-5bcf-4b04-b33a-8d5ab06de545",
   "metadata": {},
   "outputs": [],
   "source": []
  },
  {
   "cell_type": "code",
   "execution_count": 1,
   "id": "0db6e97f-b511-4f59-9002-77aeb47a2ab6",
   "metadata": {},
   "outputs": [
    {
     "name": "stdout",
     "output_type": "stream",
     "text": [
      "You are working on        Singularity \n",
      "BASE DIRECTORY (FD_BASE): /mount \n",
      "REPO DIRECTORY (FD_REPO): /mount/repo \n",
      "WORK DIRECTORY (FD_WORK): /mount/work \n",
      "DATA DIRECTORY (FD_DATA): /mount/data \n",
      "\n",
      "You are working with      ENCODE FCC \n",
      "PATH OF PROJECT (FD_PRJ): /mount/repo/Proj_CombEffect_ENCODE_FCC \n",
      "PROJECT RESULTS (FD_RES): /mount/repo/Proj_CombEffect_ENCODE_FCC/results \n",
      "PROJECT SCRIPTS (FD_EXE): /mount/repo/Proj_CombEffect_ENCODE_FCC/scripts \n",
      "PROJECT DATA    (FD_DAT): /mount/repo/Proj_CombEffect_ENCODE_FCC/data \n",
      "PROJECT NOTE    (FD_NBK): /mount/repo/Proj_CombEffect_ENCODE_FCC/notebooks \n",
      "PROJECT DOCS    (FD_DOC): /mount/repo/Proj_CombEffect_ENCODE_FCC/docs \n",
      "PROJECT LOG     (FD_LOG): /mount/repo/Proj_CombEffect_ENCODE_FCC/log \n",
      "PROJECT APP     (FD_APP): /mount/repo/Proj_CombEffect_ENCODE_FCC/app \n",
      "PROJECT REF     (FD_REF): /mount/repo/Proj_CombEffect_ENCODE_FCC/references \n",
      "\n"
     ]
    }
   ],
   "source": [
    "suppressMessages(suppressWarnings(source(\"../run_config_project_sing.R\")))\n",
    "show_env()"
   ]
  },
  {
   "cell_type": "code",
   "execution_count": 2,
   "id": "156b4325-656c-4c9d-9d96-f0b721d8cd7f",
   "metadata": {},
   "outputs": [
    {
     "name": "stdout",
     "output_type": "stream",
     "text": [
      "[1] 8 3\n"
     ]
    },
    {
     "data": {
      "text/html": [
       "<table>\n",
       " <thead>\n",
       "  <tr>\n",
       "   <th style=\"text-align:left;\"> Folder </th>\n",
       "   <th style=\"text-align:left;\"> FName </th>\n",
       "   <th style=\"text-align:left;\"> Label </th>\n",
       "  </tr>\n",
       " </thead>\n",
       "<tbody>\n",
       "  <tr>\n",
       "   <td style=\"text-align:left;\"> encode_open_chromatin </td>\n",
       "   <td style=\"text-align:left;\"> K562.hg38.ENCSR000EKS.ENCFF274YGF.DNase.bed.gz </td>\n",
       "   <td style=\"text-align:left;\"> dnase_ENCFF274YGF </td>\n",
       "  </tr>\n",
       "  <tr>\n",
       "   <td style=\"text-align:left;\"> encode_open_chromatin </td>\n",
       "   <td style=\"text-align:left;\"> K562.hg38.ENCSR000EOT.ENCFF185XRG.DNase.bed.gz </td>\n",
       "   <td style=\"text-align:left;\"> dnase_ENCFF185XRG </td>\n",
       "  </tr>\n",
       "  <tr>\n",
       "   <td style=\"text-align:left;\"> encode_open_chromatin </td>\n",
       "   <td style=\"text-align:left;\"> K562.hg38.ENCSR483RKN.ENCFF558BLC.ATAC.bed.gz </td>\n",
       "   <td style=\"text-align:left;\"> atac_ENCFF558BLC </td>\n",
       "  </tr>\n",
       "  <tr>\n",
       "   <td style=\"text-align:left;\"> encode_open_chromatin </td>\n",
       "   <td style=\"text-align:left;\"> K562.hg38.ENCSR483RKN.ENCFF925CYR.ATAC.bed.gz </td>\n",
       "   <td style=\"text-align:left;\"> atac_ENCFF925CYR </td>\n",
       "  </tr>\n",
       "  <tr>\n",
       "   <td style=\"text-align:left;\"> encode_open_chromatin </td>\n",
       "   <td style=\"text-align:left;\"> K562.hg38.ENCSR868FGK.ENCFF333TAT.ATAC.bed.gz </td>\n",
       "   <td style=\"text-align:left;\"> atac_ENCFF333TAT </td>\n",
       "  </tr>\n",
       "  <tr>\n",
       "   <td style=\"text-align:left;\"> encode_open_chromatin </td>\n",
       "   <td style=\"text-align:left;\"> K562.hg38.ENCSR868FGK.ENCFF948AFM.ATAC.bed.gz </td>\n",
       "   <td style=\"text-align:left;\"> atac_ENCFF948AFM </td>\n",
       "  </tr>\n",
       "  <tr>\n",
       "   <td style=\"text-align:left;\"> fcc_astarr_macs </td>\n",
       "   <td style=\"text-align:left;\"> ASTARRseq_K562_KS91.hg38.Input.rep_all.max_overlaps.q5.bed </td>\n",
       "   <td style=\"text-align:left;\"> astarr_macs_input_overlap </td>\n",
       "  </tr>\n",
       "  <tr>\n",
       "   <td style=\"text-align:left;\"> fcc_astarr_macs </td>\n",
       "   <td style=\"text-align:left;\"> ASTARRseq_K562_KS91.hg38.Input.rep_all.union.q5.bed </td>\n",
       "   <td style=\"text-align:left;\"> astarr_macs_input_union </td>\n",
       "  </tr>\n",
       "</tbody>\n",
       "</table>"
      ]
     },
     "metadata": {},
     "output_type": "display_data"
    }
   ],
   "source": [
    "txt_fdiry = file.path(FD_RES, \"region\", \"summary\")\n",
    "txt_fname = \"metadata_region_label.tsv\"\n",
    "txt_fpath = file.path(txt_fdiry, txt_fname)\n",
    "\n",
    "dat = read_tsv(txt_fpath, show_col_types = FALSE)\n",
    "\n",
    "dat_metadata_region = dat\n",
    "print(dim(dat))\n",
    "fun_display_table(dat)"
   ]
  },
  {
   "cell_type": "code",
   "execution_count": null,
   "id": "8c6b4765-5106-49fa-97a8-bd5f82173220",
   "metadata": {},
   "outputs": [],
   "source": []
  },
  {
   "cell_type": "code",
   "execution_count": null,
   "id": "ccd64868-54e8-4638-a48f-563047886fbf",
   "metadata": {},
   "outputs": [],
   "source": [
    "K562.hg38.ENCSR000EKS.ENCFF274YGF.DNase.bed.gz"
   ]
  },
  {
   "cell_type": "code",
   "execution_count": null,
   "id": "96d2d3b1-621c-4c07-a8d4-0a88c9fee835",
   "metadata": {},
   "outputs": [],
   "source": [
    "K562.hg38.ENCSR483RKN.ENCFF558BLC.ATAC.bed.gz"
   ]
  }
 ],
 "metadata": {
  "kernelspec": {
   "display_name": "R",
   "language": "R",
   "name": "ir"
  },
  "language_info": {
   "codemirror_mode": "r",
   "file_extension": ".r",
   "mimetype": "text/x-r-source",
   "name": "R",
   "pygments_lexer": "r",
   "version": "4.3.1"
  }
 },
 "nbformat": 4,
 "nbformat_minor": 5
}
