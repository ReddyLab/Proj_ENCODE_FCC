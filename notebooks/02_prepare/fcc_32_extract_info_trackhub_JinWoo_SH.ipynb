{
 "cells": [
  {
   "cell_type": "raw",
   "id": "b08ce9eb-25ed-48ec-a1df-f275fa0041c3",
   "metadata": {
    "tags": []
   },
   "source": [
    "---\n",
    "title: Prepare track data processed by JinWoo 02\n",
    "subtitle: Extract track information\n",
    "format:\n",
    "    html:\n",
    "        code-fold:  true\n",
    "        code-tools: true\n",
    "---"
   ]
  },
  {
   "cell_type": "markdown",
   "id": "aa9896cc-8b4e-4eb7-b285-3feb3d50ecba",
   "metadata": {},
   "source": [
    "**Set environment**"
   ]
  },
  {
   "cell_type": "code",
   "execution_count": 1,
   "id": "ce56ee8d-bb73-4656-a4c7-cb530f28f088",
   "metadata": {},
   "outputs": [
    {
     "name": "stdout",
     "output_type": "stream",
     "text": [
      "You are working on             Duke Server: HARDAC\n",
      "BASE DIRECTORY (FD_BASE):      /data/reddylab/Kuei\n",
      "REPO DIRECTORY (FD_REPO):      /data/reddylab/Kuei/repo\n",
      "WORK DIRECTORY (FD_WORK):      /data/reddylab/Kuei/work\n",
      "DATA DIRECTORY (FD_DATA):      /data/reddylab/Kuei/data\n",
      "CONTAINER DIR. (FD_SING):      /data/reddylab/Kuei/container\n",
      "\n",
      "You are working with           ENCODE FCC\n",
      "PATH OF PROJECT (FD_PRJ):      /data/reddylab/Kuei/repo/Proj_ENCODE_FCC\n",
      "PROJECT RESULTS (FD_RES):      /data/reddylab/Kuei/repo/Proj_ENCODE_FCC/results\n",
      "PROJECT SCRIPTS (FD_EXE):      /data/reddylab/Kuei/repo/Proj_ENCODE_FCC/scripts\n",
      "PROJECT DATA    (FD_DAT):      /data/reddylab/Kuei/repo/Proj_ENCODE_FCC/data\n",
      "PROJECT NOTE    (FD_NBK):      /data/reddylab/Kuei/repo/Proj_ENCODE_FCC/notebooks\n",
      "PROJECT DOCS    (FD_DOC):      /data/reddylab/Kuei/repo/Proj_ENCODE_FCC/docs\n",
      "PROJECT LOG     (FD_LOG):      /data/reddylab/Kuei/repo/Proj_ENCODE_FCC/log\n",
      "PROJECT APP     (FD_APP):      /data/reddylab/Kuei/repo/Proj_ENCODE_FCC/app\n",
      "PROJECT REF     (FD_REF):      /data/reddylab/Kuei/repo/Proj_ENCODE_FCC/references\n",
      "PROJECT IMAGE   (FP_PRJ_SIF):  /data/reddylab/Kuei/repo/Proj_ENCODE_FCC/app/singularity_proj_encode_fcc.sif\n",
      "\n"
     ]
    }
   ],
   "source": [
    "source ../run_config_project.sh\n",
    "show_env"
   ]
  },
  {
   "cell_type": "code",
   "execution_count": 2,
   "id": "71598fda-81d8-4f84-b7a2-62b1a222c318",
   "metadata": {},
   "outputs": [
    {
     "name": "stdout",
     "output_type": "stream",
     "text": [
      "\u001b[0m\u001b[38;5;27m/data/reddylab/Kuei/repo/Proj_ENCODE_FCC/results/assay_fcc/CRISPRi_FlowFISH_K562_Riley_JinWoo/guide_scores\u001b[0m\u001b[K\n",
      "\u001b[38;5;27m/data/reddylab/Kuei/repo/Proj_ENCODE_FCC/results/assay_fcc/CRISPRi_Growth_K562_Gersbach_JinWoo/guide_scores\u001b[0m\u001b[K\n"
     ]
    }
   ],
   "source": [
    "mkdir -p ${FD_RES}/assay_fcc/CRISPRi_FlowFISH_K562_Riley_JinWoo/guide_scores/summary\n",
    "mkdir -p ${FD_RES}/assay_fcc/CRISPRi_Growth_K562_Gersbach_JinWoo/guide_scores/summary\n",
    "\n",
    "ls -d ${FD_RES}/assay_fcc/CRISPRi*_JinWoo/guide_scores"
   ]
  },
  {
   "cell_type": "markdown",
   "id": "87bdb0f2-cd3b-4178-a0dc-14131ec81c97",
   "metadata": {},
   "source": [
    "## CRISPRi-Growth"
   ]
  },
  {
   "cell_type": "code",
   "execution_count": 12,
   "id": "c9cd4b19-8d50-4b1c-98a8-b79cf31e598d",
   "metadata": {},
   "outputs": [
    {
     "name": "stdout",
     "output_type": "stream",
     "text": [
      "bigDataUrl\thttps://data.cyverse.org/dav-anon/iplant/home/ohjinwoo94/CRISPRi_rAVG_log2FC_2.bw\n",
      "shortLabel\tgrowth log2FC\n",
      "longLabel\tCRISPRi growth screen (Gersbach). log2FC (Control/treatment) \u001b[01;31m\u001b[Kz-transformed\u001b[m\u001b[K \n"
     ]
    }
   ],
   "source": [
    "FP_INP=${FD_REF}/fcc_trackhub_JinWoo/trackDb.txt\n",
    "\n",
    "cat ${FP_INP} | grep -B 2 \"CRISPRi growth screen\" | grep -B 2 \"z-transformed\""
   ]
  },
  {
   "cell_type": "code",
   "execution_count": 14,
   "id": "6d70622c-db5d-49af-8dbe-9dc9f8cfe14a",
   "metadata": {},
   "outputs": [],
   "source": [
    "ASSAY_TYPE=assay_fcc\n",
    "ASSAY_NAME=CRISPRi_Growth_K562_Gersbach_JinWoo\n",
    "\n",
    "FP_INP=${FD_REF}/fcc_trackhub_JinWoo/trackDb.txt\n",
    "FD_OUT=${FD_RES}/${ASSAY_TYPE}/${ASSAY_NAME}/guide_scores/summary\n",
    "FN_OUT=track_info.tsv\n",
    "FP_OUT=${FD_OUT}/${FN_OUT}\n",
    "\n",
    "cat ${FP_INP} | grep -B 2 \"CRISPRi growth screen\" | grep -B 2 \"z-transformed\" > ${FP_OUT}"
   ]
  },
  {
   "cell_type": "code",
   "execution_count": 16,
   "id": "6f308f1f-850d-44e6-b1dd-9964bbb65f44",
   "metadata": {},
   "outputs": [
    {
     "name": "stdout",
     "output_type": "stream",
     "text": [
      "/data/reddylab/Kuei/repo/Proj_ENCODE_FCC/results/assay_fcc/CRISPRi_Growth_K562_Gersbach_JinWoo/guide_scores/summary\n",
      "\n",
      "bigDataUrl\thttps://data.cyverse.org/dav-anon/iplant/home/ohjinwoo94/CRISPRi_rAVG_log2FC_2.bw\n",
      "shortLabel\tgrowth log2FC\n",
      "longLabel\tCRISPRi growth screen (Gersbach). log2FC (Control/treatment) z-transformed \n"
     ]
    }
   ],
   "source": [
    "echo ${FD_OUT}\n",
    "echo\n",
    "cat  ${FP_OUT}"
   ]
  },
  {
   "cell_type": "markdown",
   "id": "0a1b143e-d55a-4180-98b4-78d8b05d5072",
   "metadata": {},
   "source": [
    "## CRISPRi-HCRFF"
   ]
  },
  {
   "cell_type": "code",
   "execution_count": 17,
   "id": "a8929f49-f172-4a4f-a303-2bdc15e17f80",
   "metadata": {},
   "outputs": [
    {
     "name": "stdout",
     "output_type": "stream",
     "text": [
      "bigDataUrl\thttps://data.cyverse.org/dav-anon/iplant/home/ohjinwoo94/CAPRIN1_HCRFF_rAVG.log2FC_2.bw\n",
      "shortLabel\tCAPRIN1 log2FC\n",
      "longLabel\t\u001b[01;31m\u001b[KCRISPRi HCR-FF with CAPRIN1\u001b[m\u001b[K as readout. log2FC (Low/High) z-transformed \n"
     ]
    }
   ],
   "source": [
    "FP_INP=${FD_REF}/fcc_trackhub_JinWoo/trackDb.txt\n",
    "\n",
    "cat ${FP_INP} | grep -B 2 \"CRISPRi HCR-FF with CAPRIN1\""
   ]
  },
  {
   "cell_type": "code",
   "execution_count": 4,
   "id": "7130c638-a487-40a7-b1f9-d726eeec628b",
   "metadata": {},
   "outputs": [
    {
     "name": "stdout",
     "output_type": "stream",
     "text": [
      "bigDataUrl\thttps://data.cyverse.org/dav-anon/iplant/home/ohjinwoo94/CAPRIN1_HCRFF_rAVG.log2FC_2.bw\n",
      "shortLabel\tCAPRIN1 log2FC\n",
      "longLabel\tCRISPRi HCR-FF with CAPRIN1 as readout. \u001b[01;31m\u001b[Klog2FC (Low/High)\u001b[m\u001b[K z-transformed \n",
      "\u001b[36m\u001b[K--\u001b[m\u001b[K\n",
      "bigDataUrl\thttps://data.cyverse.org/dav-anon/iplant/home/ohjinwoo94/CAT_HCRFF_rAVG.log2FC_2.bw\n",
      "shortLabel\tCAT log2FC\n",
      "longLabel\tCRISPRi HCR-FF with CAT as readout. \u001b[01;31m\u001b[Klog2FC (Low/High)\u001b[m\u001b[K z-transformed \n",
      "\u001b[36m\u001b[K--\u001b[m\u001b[K\n",
      "bigDataUrl\thttps://data.cyverse.org/dav-anon/iplant/home/ohjinwoo94/CD164_HCRFF_rAVG.log2FC_2.bw\n",
      "shortLabel\tCD164 log2FC\n",
      "longLabel\tCRISPRi HCR-FF with CD164 as readout. \u001b[01;31m\u001b[Klog2FC (Low/High)\u001b[m\u001b[K z-transformed \n",
      "\u001b[36m\u001b[K--\u001b[m\u001b[K\n",
      "bigDataUrl\thttps://data.cyverse.org/dav-anon/iplant/home/ohjinwoo94/ERP29_HCRFF_rAVG.log2FC_2.bw\n",
      "shortLabel\tERP29 log2FC\n",
      "longLabel\tCRISPRi HCR-FF with ERP29 as readout. \u001b[01;31m\u001b[Klog2FC (Low/High)\u001b[m\u001b[K z-transformed \n",
      "\u001b[36m\u001b[K--\u001b[m\u001b[K\n",
      "bigDataUrl\thttps://data.cyverse.org/dav-anon/iplant/home/ohjinwoo94/FADS1_HCRFF_rAVG.log2FC_2.bw\n",
      "shortLabel\tFADS1 log2FC\n",
      "longLabel\tCRISPRi HCR-FF with FADS1 as readout. \u001b[01;31m\u001b[Klog2FC (Low/High)\u001b[m\u001b[K z-transformed \n",
      "\u001b[36m\u001b[K--\u001b[m\u001b[K\n",
      "bigDataUrl\thttps://data.cyverse.org/dav-anon/iplant/home/ohjinwoo94/FADS2_HCRFF_rAVG.log2FC_2.bw\n",
      "shortLabel\tFADS2 log2FC\n",
      "longLabel\tCRISPRi HCR-FF with FADS2 as readout. \u001b[01;31m\u001b[Klog2FC (Low/High)\u001b[m\u001b[K z-transformed \n",
      "\u001b[36m\u001b[K--\u001b[m\u001b[K\n",
      "bigDataUrl\thttps://data.cyverse.org/dav-anon/iplant/home/ohjinwoo94/FADS3_HCRFF_rAVG.log2FC_2.bw\n",
      "shortLabel\tFADS3 log2FC\n",
      "longLabel\tCRISPRi HCR-FF with FADS3 as readout. \u001b[01;31m\u001b[Klog2FC (Low/High)\u001b[m\u001b[K z-transformed \n",
      "\u001b[36m\u001b[K--\u001b[m\u001b[K\n",
      "bigDataUrl\thttps://data.cyverse.org/dav-anon/iplant/home/ohjinwoo94/FEN1_HCRFF_rAVG.log2FC_2.bw\n",
      "shortLabel\tFEN1 log2FC\n",
      "longLabel\tCRISPRi HCR-FF with FEN1 as readout. \u001b[01;31m\u001b[Klog2FC (Low/High)\u001b[m\u001b[K z-transformed \n",
      "\u001b[36m\u001b[K--\u001b[m\u001b[K\n",
      "bigDataUrl\thttps://data.cyverse.org/dav-anon/iplant/home/ohjinwoo94/GATA1_HCRFF_rAVG.log2FC_2.bw\n",
      "shortLabel\tGATA1 log2FC\n",
      "longLabel\tCRISPRi HCR-FF with GATA1 as readout. \u001b[01;31m\u001b[Klog2FC (Low/High)\u001b[m\u001b[K z-transformed \n",
      "\u001b[36m\u001b[K--\u001b[m\u001b[K\n",
      "bigDataUrl\thttps://data.cyverse.org/dav-anon/iplant/home/ohjinwoo94/HBE1_HCRFF_rAVG.log2FC_2.bw\n",
      "shortLabel\tHBE1 log2FC\n",
      "longLabel\tCRISPRi HCR-FF with HBE1 as readout. \u001b[01;31m\u001b[Klog2FC (Low/High)\u001b[m\u001b[K z-transformed \n",
      "\u001b[36m\u001b[K--\u001b[m\u001b[K\n",
      "bigDataUrl\thttps://data.cyverse.org/dav-anon/iplant/home/ohjinwoo94/HBG1_HCRFF_rAVG.log2FC_2.bw\n",
      "shortLabel\tHBG1 log2FC\n",
      "longLabel\tCRISPRi HCR-FF with HBG1 as readout. \u001b[01;31m\u001b[Klog2FC (Low/High)\u001b[m\u001b[K z-transformed \n",
      "\u001b[36m\u001b[K--\u001b[m\u001b[K\n",
      "bigDataUrl\thttps://data.cyverse.org/dav-anon/iplant/home/ohjinwoo94/HBG2_HCRFF_rAVG.log2FC_2.bw\n",
      "shortLabel\tHBG2 log2FC\n",
      "longLabel\tCRISPRi HCR-FF with HBG2 as readout. \u001b[01;31m\u001b[Klog2FC (Low/High)\u001b[m\u001b[K z-transformed \n",
      "\u001b[36m\u001b[K--\u001b[m\u001b[K\n",
      "bigDataUrl\thttps://data.cyverse.org/dav-anon/iplant/home/ohjinwoo94/HBS1L_HCRFF_rAVG.log2FC_2.bw\n",
      "shortLabel\tHBS1L log2FC\n",
      "longLabel\tCRISPRi HCR-FF with HBS1L as readout. \u001b[01;31m\u001b[Klog2FC (Low/High)\u001b[m\u001b[K z-transformed \n",
      "\u001b[36m\u001b[K--\u001b[m\u001b[K\n",
      "bigDataUrl\thttps://data.cyverse.org/dav-anon/iplant/home/ohjinwoo94/HDAC6_HCRFF_rAVG.log2FC_2.bw\n",
      "shortLabel\tHDAC6 log2FC\n",
      "longLabel\tCRISPRi HCR-FF with HDAC6 as readout. \u001b[01;31m\u001b[Klog2FC (Low/High)\u001b[m\u001b[K z-transformed \n",
      "\u001b[36m\u001b[K--\u001b[m\u001b[K\n",
      "bigDataUrl\thttps://data.cyverse.org/dav-anon/iplant/home/ohjinwoo94/LMO2_HCRFF_rAVG.log2FC_2.bw\n",
      "shortLabel\tLMO2 log2FC\n",
      "longLabel\tCRISPRi HCR-FF with LMO2 as readout. \u001b[01;31m\u001b[Klog2FC (Low/High)\u001b[m\u001b[K z-transformed \n",
      "\u001b[36m\u001b[K--\u001b[m\u001b[K\n",
      "bigDataUrl\thttps://data.cyverse.org/dav-anon/iplant/home/ohjinwoo94/MEF2C_HCRFF_rAVG.log2FC_2.bw\n",
      "shortLabel\tMEF2C log2FC\n",
      "longLabel\tCRISPRi HCR-FF with MEF2C as readout. \u001b[01;31m\u001b[Klog2FC (Low/High)\u001b[m\u001b[K z-transformed \n",
      "\u001b[36m\u001b[K--\u001b[m\u001b[K\n",
      "bigDataUrl\thttps://data.cyverse.org/dav-anon/iplant/home/ohjinwoo94/MYB_HCRFF_rAVG.log2FC_2.bw\n",
      "shortLabel\tMYB log2FC\n",
      "longLabel\tCRISPRi HCR-FF with MYB as readout. \u001b[01;31m\u001b[Klog2FC (Low/High)\u001b[m\u001b[K z-transformed \n",
      "\u001b[36m\u001b[K--\u001b[m\u001b[K\n",
      "bigDataUrl\thttps://data.cyverse.org/dav-anon/iplant/home/ohjinwoo94/MYC_HCRFF_rAVG.log2FC_2.bw\n",
      "shortLabel\tMYC log2FC\n",
      "longLabel\tCRISPRi HCR-FF with MYC as readout. \u001b[01;31m\u001b[Klog2FC (Low/High)\u001b[m\u001b[K z-transformed \n",
      "\u001b[36m\u001b[K--\u001b[m\u001b[K\n",
      "bigDataUrl\thttps://data.cyverse.org/dav-anon/iplant/home/ohjinwoo94/NMU_HCRFF_rAVG.log2FC_2.bw\n",
      "shortLabel\tNMU log2FC\n",
      "longLabel\tCRISPRi HCR-FF with NMU as readout. \u001b[01;31m\u001b[Klog2FC (Low/High)\u001b[m\u001b[K z-transformed \n",
      "\u001b[36m\u001b[K--\u001b[m\u001b[K\n",
      "bigDataUrl\thttps://data.cyverse.org/dav-anon/iplant/home/ohjinwoo94/PVT1_HCRFF_rAVG.log2FC_2.bw\n",
      "shortLabel\tPVT1 log2FC\n",
      "longLabel\tCRISPRi HCR-FF with PVT1 as readout. \u001b[01;31m\u001b[Klog2FC (Low/High)\u001b[m\u001b[K z-transformed \n"
     ]
    }
   ],
   "source": [
    "FP_INP=${FD_REF}/fcc_trackhub_JinWoo/trackDb.txt\n",
    "\n",
    "cat ${FP_INP} | grep -B 2 \"CRISPRi HCR-FF\" | grep -B 2 \"log2FC (Low/High)\""
   ]
  },
  {
   "cell_type": "code",
   "execution_count": 18,
   "id": "07db91aa-e860-470d-93bb-0241ee8eb038",
   "metadata": {},
   "outputs": [],
   "source": [
    "ASSAY_TYPE=assay_fcc\n",
    "ASSAY_NAME=CRISPRi_FlowFISH_K562_Riley_JinWoo\n",
    "\n",
    "FP_INP=${FD_REF}/fcc_trackhub_JinWoo/trackDb.txt\n",
    "FD_OUT=${FD_RES}/${ASSAY_TYPE}/${ASSAY_NAME}/guide_scores/summary\n",
    "FN_OUT=track_info.tsv\n",
    "FP_OUT=${FD_OUT}/${FN_OUT}\n",
    "\n",
    "cat ${FP_INP} | grep -B 2 \"CRISPRi HCR-FF\" | grep -B 2 \"z-transformed\" > ${FP_OUT}"
   ]
  },
  {
   "cell_type": "code",
   "execution_count": 19,
   "id": "382e4fc3-cba2-4ebb-9fa0-cb3cfa38ebde",
   "metadata": {},
   "outputs": [
    {
     "name": "stdout",
     "output_type": "stream",
     "text": [
      "/data/reddylab/Kuei/repo/Proj_ENCODE_FCC/results/assay_fcc/CRISPRi_FlowFISH_K562_Riley_JinWoo/guide_scores/summary\n",
      "\n",
      "bigDataUrl\thttps://data.cyverse.org/dav-anon/iplant/home/ohjinwoo94/CAPRIN1_HCRFF_rAVG.log2FC_2.bw\n",
      "shortLabel\tCAPRIN1 log2FC\n",
      "longLabel\tCRISPRi HCR-FF with CAPRIN1 as readout. log2FC (Low/High) z-transformed \n",
      "--\n",
      "bigDataUrl\thttps://data.cyverse.org/dav-anon/iplant/home/ohjinwoo94/CAT_HCRFF_rAVG.log2FC_2.bw\n",
      "shortLabel\tCAT log2FC\n",
      "longLabel\tCRISPRi HCR-FF with CAT as readout. log2FC (Low/High) z-transformed \n",
      "--\n",
      "bigDataUrl\thttps://data.cyverse.org/dav-anon/iplant/home/ohjinwoo94/CD164_HCRFF_rAVG.log2FC_2.bw\n",
      "shortLabel\tCD164 log2FC\n",
      "longLabel\tCRISPRi HCR-FF with CD164 as readout. log2FC (Low/High) z-transformed \n",
      "--\n",
      "bigDataUrl\thttps://data.cyverse.org/dav-anon/iplant/home/ohjinwoo94/ERP29_HCRFF_rAVG.log2FC_2.bw\n",
      "shortLabel\tERP29 log2FC\n",
      "longLabel\tCRISPRi HCR-FF with ERP29 as readout. log2FC (Low/High) z-transformed \n",
      "--\n",
      "bigDataUrl\thttps://data.cyverse.org/dav-anon/iplant/home/ohjinwoo94/FADS1_HCRFF_rAVG.log2FC_2.bw\n",
      "shortLabel\tFADS1 log2FC\n",
      "longLabel\tCRISPRi HCR-FF with FADS1 as readout. log2FC (Low/High) z-transformed \n",
      "--\n",
      "bigDataUrl\thttps://data.cyverse.org/dav-anon/iplant/home/ohjinwoo94/FADS2_HCRFF_rAVG.log2FC_2.bw\n",
      "shortLabel\tFADS2 log2FC\n",
      "longLabel\tCRISPRi HCR-FF with FADS2 as readout. log2FC (Low/High) z-transformed \n",
      "--\n",
      "bigDataUrl\thttps://data.cyverse.org/dav-anon/iplant/home/ohjinwoo94/FADS3_HCRFF_rAVG.log2FC_2.bw\n",
      "shortLabel\tFADS3 log2FC\n",
      "longLabel\tCRISPRi HCR-FF with FADS3 as readout. log2FC (Low/High) z-transformed \n",
      "--\n",
      "bigDataUrl\thttps://data.cyverse.org/dav-anon/iplant/home/ohjinwoo94/FEN1_HCRFF_rAVG.log2FC_2.bw\n",
      "shortLabel\tFEN1 log2FC\n",
      "longLabel\tCRISPRi HCR-FF with FEN1 as readout. log2FC (Low/High) z-transformed \n",
      "--\n",
      "bigDataUrl\thttps://data.cyverse.org/dav-anon/iplant/home/ohjinwoo94/GATA1_HCRFF_rAVG.log2FC_2.bw\n",
      "shortLabel\tGATA1 log2FC\n",
      "longLabel\tCRISPRi HCR-FF with GATA1 as readout. log2FC (Low/High) z-transformed \n",
      "--\n",
      "bigDataUrl\thttps://data.cyverse.org/dav-anon/iplant/home/ohjinwoo94/HBE1_HCRFF_rAVG.log2FC_2.bw\n",
      "shortLabel\tHBE1 log2FC\n",
      "longLabel\tCRISPRi HCR-FF with HBE1 as readout. log2FC (Low/High) z-transformed \n",
      "--\n",
      "bigDataUrl\thttps://data.cyverse.org/dav-anon/iplant/home/ohjinwoo94/HBG1_HCRFF_rAVG.log2FC_2.bw\n",
      "shortLabel\tHBG1 log2FC\n",
      "longLabel\tCRISPRi HCR-FF with HBG1 as readout. log2FC (Low/High) z-transformed \n",
      "--\n",
      "bigDataUrl\thttps://data.cyverse.org/dav-anon/iplant/home/ohjinwoo94/HBG2_HCRFF_rAVG.log2FC_2.bw\n",
      "shortLabel\tHBG2 log2FC\n",
      "longLabel\tCRISPRi HCR-FF with HBG2 as readout. log2FC (Low/High) z-transformed \n",
      "--\n",
      "bigDataUrl\thttps://data.cyverse.org/dav-anon/iplant/home/ohjinwoo94/HBS1L_HCRFF_rAVG.log2FC_2.bw\n",
      "shortLabel\tHBS1L log2FC\n",
      "longLabel\tCRISPRi HCR-FF with HBS1L as readout. log2FC (Low/High) z-transformed \n",
      "--\n",
      "bigDataUrl\thttps://data.cyverse.org/dav-anon/iplant/home/ohjinwoo94/HDAC6_HCRFF_rAVG.log2FC_2.bw\n",
      "shortLabel\tHDAC6 log2FC\n",
      "longLabel\tCRISPRi HCR-FF with HDAC6 as readout. log2FC (Low/High) z-transformed \n",
      "--\n",
      "bigDataUrl\thttps://data.cyverse.org/dav-anon/iplant/home/ohjinwoo94/LMO2_HCRFF_rAVG.log2FC_2.bw\n",
      "shortLabel\tLMO2 log2FC\n",
      "longLabel\tCRISPRi HCR-FF with LMO2 as readout. log2FC (Low/High) z-transformed \n",
      "--\n",
      "bigDataUrl\thttps://data.cyverse.org/dav-anon/iplant/home/ohjinwoo94/MEF2C_HCRFF_rAVG.log2FC_2.bw\n",
      "shortLabel\tMEF2C log2FC\n",
      "longLabel\tCRISPRi HCR-FF with MEF2C as readout. log2FC (Low/High) z-transformed \n",
      "--\n",
      "bigDataUrl\thttps://data.cyverse.org/dav-anon/iplant/home/ohjinwoo94/MYB_HCRFF_rAVG.log2FC_2.bw\n",
      "shortLabel\tMYB log2FC\n",
      "longLabel\tCRISPRi HCR-FF with MYB as readout. log2FC (Low/High) z-transformed \n",
      "--\n",
      "bigDataUrl\thttps://data.cyverse.org/dav-anon/iplant/home/ohjinwoo94/MYC_HCRFF_rAVG.log2FC_2.bw\n",
      "shortLabel\tMYC log2FC\n",
      "longLabel\tCRISPRi HCR-FF with MYC as readout. log2FC (Low/High) z-transformed \n",
      "--\n",
      "bigDataUrl\thttps://data.cyverse.org/dav-anon/iplant/home/ohjinwoo94/NMU_HCRFF_rAVG.log2FC_2.bw\n",
      "shortLabel\tNMU log2FC\n",
      "longLabel\tCRISPRi HCR-FF with NMU as readout. log2FC (Low/High) z-transformed \n",
      "--\n",
      "bigDataUrl\thttps://data.cyverse.org/dav-anon/iplant/home/ohjinwoo94/PVT1_HCRFF_rAVG.log2FC_2.bw\n",
      "shortLabel\tPVT1 log2FC\n",
      "longLabel\tCRISPRi HCR-FF with PVT1 as readout. log2FC (Low/High) z-transformed \n"
     ]
    }
   ],
   "source": [
    "echo ${FD_OUT}\n",
    "echo\n",
    "cat  ${FP_OUT}"
   ]
  },
  {
   "cell_type": "code",
   "execution_count": null,
   "id": "3b00b3c4-6c1c-4c62-82dd-6b15c137a05b",
   "metadata": {},
   "outputs": [],
   "source": []
  }
 ],
 "metadata": {
  "kernelspec": {
   "display_name": "Bash",
   "language": "bash",
   "name": "bash"
  },
  "language_info": {
   "codemirror_mode": "shell",
   "file_extension": ".sh",
   "mimetype": "text/x-sh",
   "name": "bash"
  }
 },
 "nbformat": 4,
 "nbformat_minor": 5
}
