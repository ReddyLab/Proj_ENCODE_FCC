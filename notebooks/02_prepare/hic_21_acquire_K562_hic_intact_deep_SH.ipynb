{
 "cells": [
  {
   "cell_type": "raw",
   "id": "6b310af8-2eeb-4bfb-ba16-7f84d0013a66",
   "metadata": {},
   "source": [
    "---\n",
    "title: Prepare Hi-C data 03\n",
    "subtitle: Get K562 Deep intact hi-c data\n",
    "format:\n",
    "    html:\n",
    "        code-fold:  true\n",
    "        code-tools: true\n",
    "---"
   ]
  },
  {
   "cell_type": "markdown",
   "id": "a9e11747-c354-4e6f-b298-ccddddbef2e0",
   "metadata": {},
   "source": [
    "**Set environment**"
   ]
  },
  {
   "cell_type": "code",
   "execution_count": 1,
   "id": "b0d8dcb0-4605-4de8-94ad-f71489d0a6de",
   "metadata": {},
   "outputs": [
    {
     "name": "stdout",
     "output_type": "stream",
     "text": [
      "You are working on             Duke Server: HARDAC\n",
      "BASE DIRECTORY (FD_BASE):      /data/reddylab/Kuei\n",
      "REPO DIRECTORY (FD_REPO):      /data/reddylab/Kuei/repo\n",
      "WORK DIRECTORY (FD_WORK):      /data/reddylab/Kuei/work\n",
      "DATA DIRECTORY (FD_DATA):      /data/reddylab/Kuei/data\n",
      "CONTAINER DIR. (FD_SING):      /data/reddylab/Kuei/container\n",
      "\n",
      "You are working with           ENCODE FCC\n",
      "PATH OF PROJECT (FD_PRJ):      /data/reddylab/Kuei/repo/Proj_CombEffect_ENCODE_FCC\n",
      "PROJECT RESULTS (FD_RES):      /data/reddylab/Kuei/repo/Proj_CombEffect_ENCODE_FCC/results\n",
      "PROJECT SCRIPTS (FD_EXE):      /data/reddylab/Kuei/repo/Proj_CombEffect_ENCODE_FCC/scripts\n",
      "PROJECT DATA    (FD_DAT):      /data/reddylab/Kuei/repo/Proj_CombEffect_ENCODE_FCC/data\n",
      "PROJECT NOTE    (FD_NBK):      /data/reddylab/Kuei/repo/Proj_CombEffect_ENCODE_FCC/notebooks\n",
      "PROJECT DOCS    (FD_DOC):      /data/reddylab/Kuei/repo/Proj_CombEffect_ENCODE_FCC/docs\n",
      "PROJECT LOG     (FD_LOG):      /data/reddylab/Kuei/repo/Proj_CombEffect_ENCODE_FCC/log\n",
      "PROJECT APP     (FD_APP):      /data/reddylab/Kuei/repo/Proj_CombEffect_ENCODE_FCC/app\n",
      "PROJECT REF     (FD_REF):      /data/reddylab/Kuei/repo/Proj_CombEffect_ENCODE_FCC/references\n",
      "PROJECT IMAGE   (FP_PRJ_SIF):  /data/reddylab/Kuei/repo/Proj_CombEffect_ENCODE_FCC/app/singularity_proj_encode_fcc.sif\n",
      "\n"
     ]
    }
   ],
   "source": [
    "source ../run_config_project.sh\n",
    "show_env"
   ]
  },
  {
   "cell_type": "code",
   "execution_count": 4,
   "id": "b6ea44f9-0a3c-4b9d-93af-550d7b245f0d",
   "metadata": {},
   "outputs": [
    {
     "name": "stdout",
     "output_type": "stream",
     "text": [
      "chrom.sizes.hg19  chrom.sizes.hg38  \u001b[0m\u001b[38;5;27mencode_open_chromatin\u001b[0m\n"
     ]
    }
   ],
   "source": [
    "ls ${FD_DAT}/external"
   ]
  },
  {
   "cell_type": "code",
   "execution_count": 12,
   "id": "91f60c8b-6308-48fb-b861-0c7f0029d9b1",
   "metadata": {},
   "outputs": [
    {
     "name": "stdout",
     "output_type": "stream",
     "text": [
      "/data/reddylab/Kuei/work\n",
      "\n",
      "\u001b[0m\u001b[38;5;27mproj_combeffect\u001b[0m  \u001b[38;5;27mproj_combeffect_encode_fcc\u001b[0m  \u001b[38;5;27mscratch\u001b[0m  \u001b[38;5;27mtrackhub\u001b[0m\n",
      "\n",
      "/data/reddylab/Kuei/work/proj_combeffect_encode_fcc/data\n",
      "\n",
      "/data/reddylab/Kuei/repo/Proj_CombEffect_ENCODE_FCC/data\n",
      "\n",
      "\u001b[0m\u001b[38;5;27mexternal\u001b[0m  \u001b[38;5;27mprocessed\u001b[0m\n",
      "\n",
      "chrom.sizes.hg19  chrom.sizes.hg38  \u001b[0m\u001b[38;5;27mencode_open_chromatin\u001b[0m\n"
     ]
    }
   ],
   "source": [
    "echo ${FD_WORK}\n",
    "echo\n",
    "ls   ${FD_WORK}\n",
    "echo\n",
    "echo ${FD_WORK}/proj_combeffect_encode_fcc/data\n",
    "echo\n",
    "echo ${FD_DAT}\n",
    "echo\n",
    "ls   ${FD_DAT}\n",
    "echo\n",
    "ls   ${FD_DAT}/external"
   ]
  },
  {
   "cell_type": "code",
   "execution_count": null,
   "id": "4e798de4-0d3a-4c5b-a528-58fbd668bf1c",
   "metadata": {},
   "outputs": [],
   "source": []
  },
  {
   "cell_type": "code",
   "execution_count": 14,
   "id": "2f976787-71d1-4c3d-8ccb-bdf570ff9643",
   "metadata": {},
   "outputs": [],
   "source": [
    "#mv ${FD_WORK}/proj_combeffect_encode_fcc/source/hic_intact_K562_deep ${FD_DAT}/external/hic_intact_K562_deep"
   ]
  },
  {
   "cell_type": "code",
   "execution_count": 16,
   "id": "7703bfae-6ad3-4ee7-8826-024a55d33e43",
   "metadata": {},
   "outputs": [
    {
     "name": "stdout",
     "output_type": "stream",
     "text": [
      "chrom.sizes.hg19  chrom.sizes.hg38  \u001b[0m\u001b[38;5;27mencode_open_chromatin\u001b[0m  \u001b[38;5;27mhic_intact_K562_deep\u001b[0m\n"
     ]
    }
   ],
   "source": [
    "ls ${FD_DAT}/external"
   ]
  },
  {
   "cell_type": "code",
   "execution_count": 17,
   "id": "c3ea23fc-1bb6-45a6-be6e-3eb6cc00d9d2",
   "metadata": {},
   "outputs": [
    {
     "name": "stdout",
     "output_type": "stream",
     "text": [
      "inter.hic  localizedList_primary_10.bedpe\n"
     ]
    }
   ],
   "source": [
    "ls ${FD_DAT}/external/hic_intact_K562_deep"
   ]
  },
  {
   "cell_type": "code",
   "execution_count": null,
   "id": "e7870777-852e-4dbe-b38b-2d00a93e7d9b",
   "metadata": {},
   "outputs": [],
   "source": []
  }
 ],
 "metadata": {
  "kernelspec": {
   "display_name": "Bash",
   "language": "bash",
   "name": "bash"
  },
  "language_info": {
   "codemirror_mode": "shell",
   "file_extension": ".sh",
   "mimetype": "text/x-sh",
   "name": "bash"
  }
 },
 "nbformat": 4,
 "nbformat_minor": 5
}
