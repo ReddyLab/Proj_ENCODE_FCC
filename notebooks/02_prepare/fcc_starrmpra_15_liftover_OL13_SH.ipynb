{
 "cells": [
  {
   "cell_type": "raw",
   "id": "2d7998b3-1ae1-4fb0-a024-b317ef20dbcb",
   "metadata": {},
   "source": [
    "---\n",
    "title: Prepare Tiling MPRA data 05\n",
    "subtitle: Liftover OL13 fragments from hg19 to hg38\n",
    "format:\n",
    "    html:\n",
    "        code-fold:  true\n",
    "        code-tools: true\n",
    "---"
   ]
  },
  {
   "cell_type": "markdown",
   "id": "955e8291-8727-4c14-8b5f-ba01aaf5bcac",
   "metadata": {},
   "source": [
    "**Set environment**"
   ]
  },
  {
   "cell_type": "code",
   "execution_count": 1,
   "id": "f3f806c4-4c39-4cab-938a-db337c8c1221",
   "metadata": {},
   "outputs": [
    {
     "name": "stdout",
     "output_type": "stream",
     "text": [
      "You are working on             Duke Server: HARDAC\n",
      "BASE DIRECTORY (FD_BASE):      /data/reddylab/Kuei\n",
      "REPO DIRECTORY (FD_REPO):      /data/reddylab/Kuei/repo\n",
      "WORK DIRECTORY (FD_WORK):      /data/reddylab/Kuei/work\n",
      "DATA DIRECTORY (FD_DATA):      /data/reddylab/Kuei/data\n",
      "CONTAINER DIR. (FD_SING):      /data/reddylab/Kuei/container\n",
      "\n",
      "You are working with           ENCODE FCC\n",
      "PATH OF PROJECT (FD_PRJ):      /data/reddylab/Kuei/repo/Proj_CombEffect_ENCODE_FCC\n",
      "PROJECT RESULTS (FD_RES):      /data/reddylab/Kuei/repo/Proj_CombEffect_ENCODE_FCC/results\n",
      "PROJECT SCRIPTS (FD_EXE):      /data/reddylab/Kuei/repo/Proj_CombEffect_ENCODE_FCC/scripts\n",
      "PROJECT DATA    (FD_DAT):      /data/reddylab/Kuei/repo/Proj_CombEffect_ENCODE_FCC/data\n",
      "PROJECT NOTE    (FD_NBK):      /data/reddylab/Kuei/repo/Proj_CombEffect_ENCODE_FCC/notebooks\n",
      "PROJECT DOCS    (FD_DOC):      /data/reddylab/Kuei/repo/Proj_CombEffect_ENCODE_FCC/docs\n",
      "PROJECT LOG     (FD_LOG):      /data/reddylab/Kuei/repo/Proj_CombEffect_ENCODE_FCC/log\n",
      "PROJECT APP     (FD_APP):      /data/reddylab/Kuei/repo/Proj_CombEffect_ENCODE_FCC/app\n",
      "PROJECT REF     (FD_REF):      /data/reddylab/Kuei/repo/Proj_CombEffect_ENCODE_FCC/references\n",
      "PROJECT IMAGE   (FP_PRJ_SIF):  /data/reddylab/Kuei/repo/Proj_CombEffect_ENCODE_FCC/app/singularity_proj_encode_fcc.sif\n",
      "\n"
     ]
    }
   ],
   "source": [
    "source ../run_config_project.sh\n",
    "show_env"
   ]
  },
  {
   "cell_type": "code",
   "execution_count": null,
   "id": "ae120606-2cf8-42cb-9f95-64ea01c571ec",
   "metadata": {},
   "outputs": [],
   "source": []
  },
  {
   "cell_type": "code",
   "execution_count": 2,
   "id": "2c4d84b2-0cc6-4bf8-9f5e-5d70d0192835",
   "metadata": {},
   "outputs": [
    {
     "name": "stdout",
     "output_type": "stream",
     "text": [
      "TMPRA_K562_OL13_20220512.hg19.raw.stranded_pos.bed.gz\n"
     ]
    }
   ],
   "source": [
    "FDIRY=${FD_RES}/assay_fcc/MPRA_Tiling_K562_Tewhey_hannah/fragment\n",
    "FPATH=${FDIRY}/*hg19*\n",
    "basename ${FPATH}"
   ]
  },
  {
   "cell_type": "code",
   "execution_count": 3,
   "id": "3d6fcbf5-e5eb-4c32-ab53-fee70d0dbefa",
   "metadata": {},
   "outputs": [
    {
     "name": "stdout",
     "output_type": "stream",
     "text": [
      "TMPRA_K562_OL13_20220512.hg19.norm.Input.mean.stranded_pos.bed.gz\n",
      "TMPRA_K562_OL13_20220512.hg19.norm.Input.rep1.stranded_pos.bed.gz\n",
      "TMPRA_K562_OL13_20220512.hg19.norm.Input.rep2.stranded_pos.bed.gz\n",
      "TMPRA_K562_OL13_20220512.hg19.norm.Input.rep3.stranded_pos.bed.gz\n",
      "TMPRA_K562_OL13_20220512.hg19.norm.Input.rep4.stranded_pos.bed.gz\n",
      "TMPRA_K562_OL13_20220512.hg19.norm.Log2FC.mean.stranded_pos.bed.gz\n",
      "TMPRA_K562_OL13_20220512.hg19.norm.Output.mean.stranded_pos.bed.gz\n",
      "TMPRA_K562_OL13_20220512.hg19.norm.Output.rep1.stranded_pos.bed.gz\n",
      "TMPRA_K562_OL13_20220512.hg19.norm.Output.rep2.stranded_pos.bed.gz\n",
      "TMPRA_K562_OL13_20220512.hg19.norm.Output.rep3.stranded_pos.bed.gz\n",
      "TMPRA_K562_OL13_20220512.hg19.norm.Output.rep4.stranded_pos.bed.gz\n",
      "TMPRA_K562_OL13_20220512.hg19.raw.Input.rep1.stranded_pos.bed.gz\n",
      "TMPRA_K562_OL13_20220512.hg19.raw.Input.rep2.stranded_pos.bed.gz\n",
      "TMPRA_K562_OL13_20220512.hg19.raw.Input.rep3.stranded_pos.bed.gz\n",
      "TMPRA_K562_OL13_20220512.hg19.raw.Input.rep4.stranded_pos.bed.gz\n",
      "TMPRA_K562_OL13_20220512.hg19.raw.Output.rep1.stranded_pos.bed.gz\n",
      "TMPRA_K562_OL13_20220512.hg19.raw.Output.rep2.stranded_pos.bed.gz\n",
      "TMPRA_K562_OL13_20220512.hg19.raw.Output.rep3.stranded_pos.bed.gz\n",
      "TMPRA_K562_OL13_20220512.hg19.raw.Output.rep4.stranded_pos.bed.gz\n"
     ]
    }
   ],
   "source": [
    "FDIRY=${FD_RES}/assay_fcc/MPRA_Tiling_K562_Tewhey_hannah/fragment_counts\n",
    "FPATHS=($(ls ${FDIRY}/*hg19*))\n",
    "basename -a ${FPATHS[@]}"
   ]
  },
  {
   "cell_type": "code",
   "execution_count": 5,
   "id": "583b16b8-48bf-4cc3-90ff-a24ff0d17df0",
   "metadata": {},
   "outputs": [
    {
     "name": "stdout",
     "output_type": "stream",
     "text": [
      "\u001b[0m\u001b[38;5;34m/data/common/shared_conda_envs/ucsc/bin/liftOver\u001b[0m\n"
     ]
    }
   ],
   "source": [
    "ls /data/common/shared_conda_envs/ucsc/bin/liftOver"
   ]
  },
  {
   "cell_type": "code",
   "execution_count": 6,
   "id": "2439cc30-9d20-4651-bf2b-395031bbe060",
   "metadata": {},
   "outputs": [
    {
     "name": "stdout",
     "output_type": "stream",
     "text": [
      "liftOver - Move annotations from one assembly to another\n",
      "usage:\n",
      "   liftOver oldFile map.chain newFile unMapped\n",
      "oldFile and newFile are in bed format by default, but can be in GFF and\n",
      "maybe eventually others with the appropriate flags below.\n",
      "The map.chain file has the old genome as the target and the new genome\n",
      "as the query.\n",
      "\n",
      "***********************************************************************\n",
      "WARNING: liftOver was only designed to work between different\n",
      "         assemblies of the same organism. It may not do what you want\n",
      "         if you are lifting between different organisms. If there has\n",
      "         been a rearrangement in one of the species, the size of the\n",
      "         region being mapped may change dramatically after mapping.\n",
      "***********************************************************************\n",
      "\n",
      "options:\n",
      "   -minMatch=0.N Minimum ratio of bases that must remap. Default 0.95\n",
      "   -gff  File is in gff/gtf format.  Note that the gff lines are converted\n",
      "         separately.  It would be good to have a separate check after this\n",
      "         that the lines that make up a gene model still make a plausible gene\n",
      "         after liftOver\n",
      "   -genePred - File is in genePred format\n",
      "   -sample - File is in sample format\n",
      "   -bedPlus=N - File is bed N+ format (i.e. first N fields conform to bed format)\n",
      "   -positions - File is in browser \"position\" format\n",
      "   -hasBin - File has bin value (used only with -bedPlus)\n",
      "   -tab - Separate by tabs rather than space (used only with -bedPlus)\n",
      "   -pslT - File is in psl format, map target side only\n",
      "   -ends=N - Lift the first and last N bases of each record and combine the\n",
      "             result. This is useful for lifting large regions like BAC end pairs.\n",
      "   -minBlocks=0.N Minimum ratio of alignment blocks or exons that must map\n",
      "                  (default 1.00)\n",
      "   -fudgeThick    (bed 12 or 12+ only) If thickStart/thickEnd is not mapped,\n",
      "                  use the closest mapped base.  Recommended if using \n",
      "                  -minBlocks.\n",
      "   -multiple               Allow multiple output regions\n",
      "   -noSerial               In -multiple mode, do not put a serial number in the 5th BED column\n",
      "   -minChainT, -minChainQ  Minimum chain size in target/query, when mapping\n",
      "                           to multiple output regions (default 0, 0)\n",
      "   -minSizeT               deprecated synonym for -minChainT (ENCODE compat.)\n",
      "   -minSizeQ               Min matching region size in query with -multiple.\n",
      "   -chainTable             Used with -multiple, format is db.tablename,\n",
      "                               to extend chains from net (preserves dups)\n",
      "   -errorHelp              Explain error messages\n",
      "\n"
     ]
    },
    {
     "ename": "",
     "evalue": "255",
     "output_type": "error",
     "traceback": []
    }
   ],
   "source": [
    "/data/common/shared_conda_envs/ucsc/bin/liftOver"
   ]
  },
  {
   "cell_type": "markdown",
   "id": "44f4fa34-423f-4cf4-8b02-c6b00541ad48",
   "metadata": {},
   "source": [
    "**LiftOver fragment**"
   ]
  },
  {
   "cell_type": "code",
   "execution_count": 7,
   "id": "0384a266-ed65-41d4-abcc-53e903a790c3",
   "metadata": {},
   "outputs": [
    {
     "name": "stdout",
     "output_type": "stream",
     "text": [
      "TMPRA_K562_OL13_20220512.hg19.raw.stranded_pos.bed.gz\n",
      "TMPRA_K562_OL13_20220512.hg38.raw.stranded_pos.bed.gz\n",
      "TMPRA_K562_OL13_20220512.hg38.raw.stranded_pos.bed\n",
      "TMPRA_K562_OL13_20220512.unlifted.raw.stranded_pos.bed.gz\n",
      "TMPRA_K562_OL13_20220512.unlifted.raw.stranded_pos.bed\n"
     ]
    }
   ],
   "source": [
    "FDIRY=${FD_RES}/assay_fcc/MPRA_Tiling_K562_Tewhey_hannah/fragment\n",
    "\n",
    "FP_INP=${FDIRY}/*hg19*\n",
    "FN_INP=$(basename ${FP_INP})\n",
    "\n",
    "FN_OUT_LIFTED=${FN_INP/hg19/hg38}\n",
    "FN_TMP_LIFTED=${FN_OUT_LIFTED%.*}\n",
    "FN_OUT_UNLIFT=${FN_INP/hg19/unlifted}\n",
    "FN_TMP_UNLIFT=${FN_OUT_UNLIFT%.*}\n",
    "\n",
    "echo ${FN_INP}\n",
    "echo ${FN_OUT_LIFTED}\n",
    "echo ${FN_TMP_LIFTED}\n",
    "echo ${FN_OUT_UNLIFT}\n",
    "echo ${FN_TMP_UNLIFT}"
   ]
  },
  {
   "cell_type": "code",
   "execution_count": 8,
   "id": "a01d56f8-6a1b-4616-b8a6-2bd921c79dc2",
   "metadata": {},
   "outputs": [
    {
     "name": "stdout",
     "output_type": "stream",
     "text": [
      "Reading liftover chains\n",
      "Mapping coordinates\n"
     ]
    }
   ],
   "source": [
    "FDIRY=${FD_RES}/assay_fcc/MPRA_Tiling_K562_Tewhey_hannah/fragment\n",
    "\n",
    "FP_INP=${FDIRY}/*hg19*\n",
    "FN_INP=$(basename ${FP_INP})\n",
    "\n",
    "FN_OUT_LIFTED=${FN_INP/hg19/hg38}\n",
    "FN_OUT_UNLIFT=${FN_INP/hg19/unlifted}\n",
    "\n",
    "/data/common/shared_conda_envs/ucsc/bin/liftOver \\\n",
    "    -bedPlus=6 \\\n",
    "    ${FDIRY}/${FN_INP} \\\n",
    "    /data/reddylab/Reference_Data/Genomes/hg38/hg19ToHg38.over.chain \\\n",
    "    ${FDIRY}/${FN_TMP_LIFTED} \\\n",
    "    ${FDIRY}/${FN_TMP_UNLIFT}"
   ]
  },
  {
   "cell_type": "code",
   "execution_count": 10,
   "id": "c6202c90-e605-4e7d-83dc-dd9dd5edc902",
   "metadata": {},
   "outputs": [
    {
     "name": "stdout",
     "output_type": "stream",
     "text": [
      "\u001b[0m\u001b[38;5;9mTMPRA_K562_OL13_20220512.hg19.raw.stranded_pos.bed.gz\u001b[0m\n",
      "TMPRA_K562_OL13_20220512.hg38.raw.stranded_pos.bed\n",
      "\u001b[38;5;9mTMPRA_K562_OL13_20220512.hg38.raw.stranded_pos.bed.gz\u001b[0m\n",
      "TMPRA_K562_OL13_20220512.unlifted.raw.stranded_pos.bed\n",
      "\u001b[38;5;9mTMPRA_K562_OL13_20220512.unlifted.raw.stranded_pos.bed.gz\u001b[0m\n",
      "\u001b[38;5;9mTMPRA_K562_OL43_20221003.hg38.raw.stranded_pos.bed.gz\u001b[0m\n",
      "\u001b[38;5;9mTMPRA_K562_OL45_20220927.hg38.raw.stranded_pos.bed.gz\u001b[0m\n"
     ]
    }
   ],
   "source": [
    "ls ${FDIRY}"
   ]
  },
  {
   "cell_type": "code",
   "execution_count": 11,
   "id": "8c2c592f-43b9-475b-8ac6-06a05d342bf3",
   "metadata": {},
   "outputs": [],
   "source": [
    "gzip -f ${FDIRY}/${FN_TMP_UNLIFT}\n",
    "gzip -f ${FDIRY}/${FN_TMP_LIFTED}"
   ]
  },
  {
   "cell_type": "code",
   "execution_count": 13,
   "id": "7f1de79a-3c3c-4706-a921-8eebea7b9883",
   "metadata": {},
   "outputs": [
    {
     "name": "stdout",
     "output_type": "stream",
     "text": [
      "\u001b[0m\u001b[38;5;9mTMPRA_K562_OL13_20220512.hg19.raw.stranded_pos.bed.gz\u001b[0m\n",
      "\u001b[38;5;9mTMPRA_K562_OL13_20220512.hg38.raw.stranded_pos.bed.gz\u001b[0m\n",
      "\u001b[38;5;9mTMPRA_K562_OL13_20220512.unlifted.raw.stranded_pos.bed.gz\u001b[0m\n",
      "\u001b[38;5;9mTMPRA_K562_OL43_20221003.hg38.raw.stranded_pos.bed.gz\u001b[0m\n",
      "\u001b[38;5;9mTMPRA_K562_OL45_20220927.hg38.raw.stranded_pos.bed.gz\u001b[0m\n"
     ]
    }
   ],
   "source": [
    "ls ${FDIRY}"
   ]
  },
  {
   "cell_type": "code",
   "execution_count": 14,
   "id": "88dce341-d89b-44a2-b305-f88e057c9fc7",
   "metadata": {},
   "outputs": [
    {
     "name": "stdout",
     "output_type": "stream",
     "text": [
      "21914\n"
     ]
    }
   ],
   "source": [
    "zcat ${FDIRY}/${FN_INP} | wc -l "
   ]
  },
  {
   "cell_type": "code",
   "execution_count": 15,
   "id": "39908dcf-aa55-4d94-8ae9-46ebc0be6975",
   "metadata": {},
   "outputs": [
    {
     "name": "stdout",
     "output_type": "stream",
     "text": [
      "21914\n"
     ]
    }
   ],
   "source": [
    "zcat ${FDIRY}/${FN_OUT_LIFTED} | wc -l "
   ]
  },
  {
   "cell_type": "code",
   "execution_count": 16,
   "id": "42717719-eed7-4b32-a2ef-0c94898f24c0",
   "metadata": {},
   "outputs": [
    {
     "name": "stdout",
     "output_type": "stream",
     "text": [
      "0\n"
     ]
    }
   ],
   "source": [
    "zcat ${FDIRY}/${FN_OUT_UNLIFT} | wc -l "
   ]
  },
  {
   "cell_type": "markdown",
   "id": "bde1e265-f7d4-41c1-938a-b7de0789c3b8",
   "metadata": {},
   "source": [
    "**LiftOver fragment count**"
   ]
  },
  {
   "cell_type": "code",
   "execution_count": 18,
   "id": "81e21ee4-cf48-4c7b-b937-621aec9df0e8",
   "metadata": {},
   "outputs": [
    {
     "name": "stdout",
     "output_type": "stream",
     "text": [
      "TMPRA_K562_OL13_20220512.hg19.norm.Input.mean.stranded_pos.bed.gz\n",
      "TMPRA_K562_OL13_20220512.hg38.norm.Input.mean.stranded_pos.bed.gz\n",
      "TMPRA_K562_OL13_20220512.hg38.norm.Input.mean.stranded_pos.bed\n",
      "TMPRA_K562_OL13_20220512.unlifted.norm.Input.mean.stranded_pos.bed.gz\n",
      "TMPRA_K562_OL13_20220512.unlifted.norm.Input.mean.stranded_pos.bed\n",
      "==================\n",
      "TMPRA_K562_OL13_20220512.hg19.norm.Input.rep1.stranded_pos.bed.gz\n",
      "TMPRA_K562_OL13_20220512.hg38.norm.Input.rep1.stranded_pos.bed.gz\n",
      "TMPRA_K562_OL13_20220512.hg38.norm.Input.rep1.stranded_pos.bed\n",
      "TMPRA_K562_OL13_20220512.unlifted.norm.Input.rep1.stranded_pos.bed.gz\n",
      "TMPRA_K562_OL13_20220512.unlifted.norm.Input.rep1.stranded_pos.bed\n",
      "==================\n",
      "TMPRA_K562_OL13_20220512.hg19.norm.Input.rep2.stranded_pos.bed.gz\n",
      "TMPRA_K562_OL13_20220512.hg38.norm.Input.rep2.stranded_pos.bed.gz\n",
      "TMPRA_K562_OL13_20220512.hg38.norm.Input.rep2.stranded_pos.bed\n",
      "TMPRA_K562_OL13_20220512.unlifted.norm.Input.rep2.stranded_pos.bed.gz\n",
      "TMPRA_K562_OL13_20220512.unlifted.norm.Input.rep2.stranded_pos.bed\n",
      "==================\n",
      "TMPRA_K562_OL13_20220512.hg19.norm.Input.rep3.stranded_pos.bed.gz\n",
      "TMPRA_K562_OL13_20220512.hg38.norm.Input.rep3.stranded_pos.bed.gz\n",
      "TMPRA_K562_OL13_20220512.hg38.norm.Input.rep3.stranded_pos.bed\n",
      "TMPRA_K562_OL13_20220512.unlifted.norm.Input.rep3.stranded_pos.bed.gz\n",
      "TMPRA_K562_OL13_20220512.unlifted.norm.Input.rep3.stranded_pos.bed\n",
      "==================\n",
      "TMPRA_K562_OL13_20220512.hg19.norm.Input.rep4.stranded_pos.bed.gz\n",
      "TMPRA_K562_OL13_20220512.hg38.norm.Input.rep4.stranded_pos.bed.gz\n",
      "TMPRA_K562_OL13_20220512.hg38.norm.Input.rep4.stranded_pos.bed\n",
      "TMPRA_K562_OL13_20220512.unlifted.norm.Input.rep4.stranded_pos.bed.gz\n",
      "TMPRA_K562_OL13_20220512.unlifted.norm.Input.rep4.stranded_pos.bed\n",
      "==================\n",
      "TMPRA_K562_OL13_20220512.hg19.norm.Log2FC.mean.stranded_pos.bed.gz\n",
      "TMPRA_K562_OL13_20220512.hg38.norm.Log2FC.mean.stranded_pos.bed.gz\n",
      "TMPRA_K562_OL13_20220512.hg38.norm.Log2FC.mean.stranded_pos.bed\n",
      "TMPRA_K562_OL13_20220512.unlifted.norm.Log2FC.mean.stranded_pos.bed.gz\n",
      "TMPRA_K562_OL13_20220512.unlifted.norm.Log2FC.mean.stranded_pos.bed\n",
      "==================\n",
      "TMPRA_K562_OL13_20220512.hg19.norm.Output.mean.stranded_pos.bed.gz\n",
      "TMPRA_K562_OL13_20220512.hg38.norm.Output.mean.stranded_pos.bed.gz\n",
      "TMPRA_K562_OL13_20220512.hg38.norm.Output.mean.stranded_pos.bed\n",
      "TMPRA_K562_OL13_20220512.unlifted.norm.Output.mean.stranded_pos.bed.gz\n",
      "TMPRA_K562_OL13_20220512.unlifted.norm.Output.mean.stranded_pos.bed\n",
      "==================\n",
      "TMPRA_K562_OL13_20220512.hg19.norm.Output.rep1.stranded_pos.bed.gz\n",
      "TMPRA_K562_OL13_20220512.hg38.norm.Output.rep1.stranded_pos.bed.gz\n",
      "TMPRA_K562_OL13_20220512.hg38.norm.Output.rep1.stranded_pos.bed\n",
      "TMPRA_K562_OL13_20220512.unlifted.norm.Output.rep1.stranded_pos.bed.gz\n",
      "TMPRA_K562_OL13_20220512.unlifted.norm.Output.rep1.stranded_pos.bed\n",
      "==================\n",
      "TMPRA_K562_OL13_20220512.hg19.norm.Output.rep2.stranded_pos.bed.gz\n",
      "TMPRA_K562_OL13_20220512.hg38.norm.Output.rep2.stranded_pos.bed.gz\n",
      "TMPRA_K562_OL13_20220512.hg38.norm.Output.rep2.stranded_pos.bed\n",
      "TMPRA_K562_OL13_20220512.unlifted.norm.Output.rep2.stranded_pos.bed.gz\n",
      "TMPRA_K562_OL13_20220512.unlifted.norm.Output.rep2.stranded_pos.bed\n",
      "==================\n",
      "TMPRA_K562_OL13_20220512.hg19.norm.Output.rep3.stranded_pos.bed.gz\n",
      "TMPRA_K562_OL13_20220512.hg38.norm.Output.rep3.stranded_pos.bed.gz\n",
      "TMPRA_K562_OL13_20220512.hg38.norm.Output.rep3.stranded_pos.bed\n",
      "TMPRA_K562_OL13_20220512.unlifted.norm.Output.rep3.stranded_pos.bed.gz\n",
      "TMPRA_K562_OL13_20220512.unlifted.norm.Output.rep3.stranded_pos.bed\n",
      "==================\n",
      "TMPRA_K562_OL13_20220512.hg19.norm.Output.rep4.stranded_pos.bed.gz\n",
      "TMPRA_K562_OL13_20220512.hg38.norm.Output.rep4.stranded_pos.bed.gz\n",
      "TMPRA_K562_OL13_20220512.hg38.norm.Output.rep4.stranded_pos.bed\n",
      "TMPRA_K562_OL13_20220512.unlifted.norm.Output.rep4.stranded_pos.bed.gz\n",
      "TMPRA_K562_OL13_20220512.unlifted.norm.Output.rep4.stranded_pos.bed\n",
      "==================\n",
      "TMPRA_K562_OL13_20220512.hg19.raw.Input.rep1.stranded_pos.bed.gz\n",
      "TMPRA_K562_OL13_20220512.hg38.raw.Input.rep1.stranded_pos.bed.gz\n",
      "TMPRA_K562_OL13_20220512.hg38.raw.Input.rep1.stranded_pos.bed\n",
      "TMPRA_K562_OL13_20220512.unlifted.raw.Input.rep1.stranded_pos.bed.gz\n",
      "TMPRA_K562_OL13_20220512.unlifted.raw.Input.rep1.stranded_pos.bed\n",
      "==================\n",
      "TMPRA_K562_OL13_20220512.hg19.raw.Input.rep2.stranded_pos.bed.gz\n",
      "TMPRA_K562_OL13_20220512.hg38.raw.Input.rep2.stranded_pos.bed.gz\n",
      "TMPRA_K562_OL13_20220512.hg38.raw.Input.rep2.stranded_pos.bed\n",
      "TMPRA_K562_OL13_20220512.unlifted.raw.Input.rep2.stranded_pos.bed.gz\n",
      "TMPRA_K562_OL13_20220512.unlifted.raw.Input.rep2.stranded_pos.bed\n",
      "==================\n",
      "TMPRA_K562_OL13_20220512.hg19.raw.Input.rep3.stranded_pos.bed.gz\n",
      "TMPRA_K562_OL13_20220512.hg38.raw.Input.rep3.stranded_pos.bed.gz\n",
      "TMPRA_K562_OL13_20220512.hg38.raw.Input.rep3.stranded_pos.bed\n",
      "TMPRA_K562_OL13_20220512.unlifted.raw.Input.rep3.stranded_pos.bed.gz\n",
      "TMPRA_K562_OL13_20220512.unlifted.raw.Input.rep3.stranded_pos.bed\n",
      "==================\n",
      "TMPRA_K562_OL13_20220512.hg19.raw.Input.rep4.stranded_pos.bed.gz\n",
      "TMPRA_K562_OL13_20220512.hg38.raw.Input.rep4.stranded_pos.bed.gz\n",
      "TMPRA_K562_OL13_20220512.hg38.raw.Input.rep4.stranded_pos.bed\n",
      "TMPRA_K562_OL13_20220512.unlifted.raw.Input.rep4.stranded_pos.bed.gz\n",
      "TMPRA_K562_OL13_20220512.unlifted.raw.Input.rep4.stranded_pos.bed\n",
      "==================\n",
      "TMPRA_K562_OL13_20220512.hg19.raw.Output.rep1.stranded_pos.bed.gz\n",
      "TMPRA_K562_OL13_20220512.hg38.raw.Output.rep1.stranded_pos.bed.gz\n",
      "TMPRA_K562_OL13_20220512.hg38.raw.Output.rep1.stranded_pos.bed\n",
      "TMPRA_K562_OL13_20220512.unlifted.raw.Output.rep1.stranded_pos.bed.gz\n",
      "TMPRA_K562_OL13_20220512.unlifted.raw.Output.rep1.stranded_pos.bed\n",
      "==================\n",
      "TMPRA_K562_OL13_20220512.hg19.raw.Output.rep2.stranded_pos.bed.gz\n",
      "TMPRA_K562_OL13_20220512.hg38.raw.Output.rep2.stranded_pos.bed.gz\n",
      "TMPRA_K562_OL13_20220512.hg38.raw.Output.rep2.stranded_pos.bed\n",
      "TMPRA_K562_OL13_20220512.unlifted.raw.Output.rep2.stranded_pos.bed.gz\n",
      "TMPRA_K562_OL13_20220512.unlifted.raw.Output.rep2.stranded_pos.bed\n",
      "==================\n",
      "TMPRA_K562_OL13_20220512.hg19.raw.Output.rep3.stranded_pos.bed.gz\n",
      "TMPRA_K562_OL13_20220512.hg38.raw.Output.rep3.stranded_pos.bed.gz\n",
      "TMPRA_K562_OL13_20220512.hg38.raw.Output.rep3.stranded_pos.bed\n",
      "TMPRA_K562_OL13_20220512.unlifted.raw.Output.rep3.stranded_pos.bed.gz\n",
      "TMPRA_K562_OL13_20220512.unlifted.raw.Output.rep3.stranded_pos.bed\n",
      "==================\n",
      "TMPRA_K562_OL13_20220512.hg19.raw.Output.rep4.stranded_pos.bed.gz\n",
      "TMPRA_K562_OL13_20220512.hg38.raw.Output.rep4.stranded_pos.bed.gz\n",
      "TMPRA_K562_OL13_20220512.hg38.raw.Output.rep4.stranded_pos.bed\n",
      "TMPRA_K562_OL13_20220512.unlifted.raw.Output.rep4.stranded_pos.bed.gz\n",
      "TMPRA_K562_OL13_20220512.unlifted.raw.Output.rep4.stranded_pos.bed\n",
      "==================\n"
     ]
    }
   ],
   "source": [
    "FDIRY=${FD_RES}/assay_fcc/MPRA_Tiling_K562_Tewhey_hannah/fragment_counts\n",
    "FPATHS=($(ls ${FDIRY}/*hg19*))\n",
    "\n",
    "for FP_INP in ${FPATHS[@]}; do\n",
    "    ###\n",
    "    FN_INP=$(basename ${FP_INP})\n",
    "    FN_OUT_LIFTED=${FN_INP/hg19/hg38}\n",
    "    FN_OUT_UNLIFT=${FN_INP/hg19/unlifted}\n",
    "    FN_TMP_LIFTED=${FN_OUT_LIFTED%.*}\n",
    "    FN_TMP_UNLIFT=${FN_OUT_UNLIFT%.*}\n",
    "\n",
    "    echo ${FN_INP}\n",
    "    echo ${FN_OUT_LIFTED}\n",
    "    echo ${FN_TMP_LIFTED}\n",
    "    echo ${FN_OUT_UNLIFT}\n",
    "    echo ${FN_TMP_UNLIFT}\n",
    "    \n",
    "    echo ==================\n",
    "done"
   ]
  },
  {
   "cell_type": "code",
   "execution_count": 21,
   "id": "47001966-7f05-4db9-b583-11e68c51e8ea",
   "metadata": {},
   "outputs": [
    {
     "name": "stdout",
     "output_type": "stream",
     "text": [
      "Reading liftover chains\n",
      "Mapping coordinates\n",
      "Input:  TMPRA_K562_OL13_20220512.hg19.norm.Input.mean.stranded_pos.bed.gz\n",
      "Output: TMPRA_K562_OL13_20220512.hg38.norm.Input.mean.stranded_pos.bed.gz\n",
      "21914\n",
      "21914\n",
      "0\n",
      "==================\n",
      "Reading liftover chains\n",
      "Mapping coordinates\n",
      "Input:  TMPRA_K562_OL13_20220512.hg19.norm.Input.rep1.stranded_pos.bed.gz\n",
      "Output: TMPRA_K562_OL13_20220512.hg38.norm.Input.rep1.stranded_pos.bed.gz\n",
      "21914\n",
      "21914\n",
      "0\n",
      "==================\n",
      "Reading liftover chains\n",
      "Mapping coordinates\n",
      "Input:  TMPRA_K562_OL13_20220512.hg19.norm.Input.rep2.stranded_pos.bed.gz\n",
      "Output: TMPRA_K562_OL13_20220512.hg38.norm.Input.rep2.stranded_pos.bed.gz\n",
      "21914\n",
      "21914\n",
      "0\n",
      "==================\n",
      "Reading liftover chains\n",
      "Mapping coordinates\n",
      "Input:  TMPRA_K562_OL13_20220512.hg19.norm.Input.rep3.stranded_pos.bed.gz\n",
      "Output: TMPRA_K562_OL13_20220512.hg38.norm.Input.rep3.stranded_pos.bed.gz\n",
      "21914\n",
      "21914\n",
      "0\n",
      "==================\n",
      "Reading liftover chains\n",
      "Mapping coordinates\n",
      "Input:  TMPRA_K562_OL13_20220512.hg19.norm.Input.rep4.stranded_pos.bed.gz\n",
      "Output: TMPRA_K562_OL13_20220512.hg38.norm.Input.rep4.stranded_pos.bed.gz\n",
      "21914\n",
      "21914\n",
      "0\n",
      "==================\n",
      "Reading liftover chains\n",
      "Mapping coordinates\n",
      "Input:  TMPRA_K562_OL13_20220512.hg19.norm.Log2FC.mean.stranded_pos.bed.gz\n",
      "Output: TMPRA_K562_OL13_20220512.hg38.norm.Log2FC.mean.stranded_pos.bed.gz\n",
      "21757\n",
      "21757\n",
      "0\n",
      "==================\n",
      "Reading liftover chains\n",
      "Mapping coordinates\n",
      "Input:  TMPRA_K562_OL13_20220512.hg19.norm.Output.mean.stranded_pos.bed.gz\n",
      "Output: TMPRA_K562_OL13_20220512.hg38.norm.Output.mean.stranded_pos.bed.gz\n",
      "21914\n",
      "21914\n",
      "0\n",
      "==================\n",
      "Reading liftover chains\n",
      "Mapping coordinates\n",
      "Input:  TMPRA_K562_OL13_20220512.hg19.norm.Output.rep1.stranded_pos.bed.gz\n",
      "Output: TMPRA_K562_OL13_20220512.hg38.norm.Output.rep1.stranded_pos.bed.gz\n",
      "21914\n",
      "21914\n",
      "0\n",
      "==================\n",
      "Reading liftover chains\n",
      "Mapping coordinates\n",
      "Input:  TMPRA_K562_OL13_20220512.hg19.norm.Output.rep2.stranded_pos.bed.gz\n",
      "Output: TMPRA_K562_OL13_20220512.hg38.norm.Output.rep2.stranded_pos.bed.gz\n",
      "21914\n",
      "21914\n",
      "0\n",
      "==================\n",
      "Reading liftover chains\n",
      "Mapping coordinates\n",
      "Input:  TMPRA_K562_OL13_20220512.hg19.norm.Output.rep3.stranded_pos.bed.gz\n",
      "Output: TMPRA_K562_OL13_20220512.hg38.norm.Output.rep3.stranded_pos.bed.gz\n",
      "21914\n",
      "21914\n",
      "0\n",
      "==================\n",
      "Reading liftover chains\n",
      "Mapping coordinates\n",
      "Input:  TMPRA_K562_OL13_20220512.hg19.norm.Output.rep4.stranded_pos.bed.gz\n",
      "Output: TMPRA_K562_OL13_20220512.hg38.norm.Output.rep4.stranded_pos.bed.gz\n",
      "21914\n",
      "21914\n",
      "0\n",
      "==================\n",
      "Reading liftover chains\n",
      "Mapping coordinates\n",
      "Input:  TMPRA_K562_OL13_20220512.hg19.raw.Input.rep1.stranded_pos.bed.gz\n",
      "Output: TMPRA_K562_OL13_20220512.hg38.raw.Input.rep1.stranded_pos.bed.gz\n",
      "21914\n",
      "21914\n",
      "0\n",
      "==================\n",
      "Reading liftover chains\n",
      "Mapping coordinates\n",
      "Input:  TMPRA_K562_OL13_20220512.hg19.raw.Input.rep2.stranded_pos.bed.gz\n",
      "Output: TMPRA_K562_OL13_20220512.hg38.raw.Input.rep2.stranded_pos.bed.gz\n",
      "21914\n",
      "21914\n",
      "0\n",
      "==================\n",
      "Reading liftover chains\n",
      "Mapping coordinates\n",
      "Input:  TMPRA_K562_OL13_20220512.hg19.raw.Input.rep3.stranded_pos.bed.gz\n",
      "Output: TMPRA_K562_OL13_20220512.hg38.raw.Input.rep3.stranded_pos.bed.gz\n",
      "21914\n",
      "21914\n",
      "0\n",
      "==================\n",
      "Reading liftover chains\n",
      "Mapping coordinates\n",
      "Input:  TMPRA_K562_OL13_20220512.hg19.raw.Input.rep4.stranded_pos.bed.gz\n",
      "Output: TMPRA_K562_OL13_20220512.hg38.raw.Input.rep4.stranded_pos.bed.gz\n",
      "21914\n",
      "21914\n",
      "0\n",
      "==================\n",
      "Reading liftover chains\n",
      "Mapping coordinates\n",
      "Input:  TMPRA_K562_OL13_20220512.hg19.raw.Output.rep1.stranded_pos.bed.gz\n",
      "Output: TMPRA_K562_OL13_20220512.hg38.raw.Output.rep1.stranded_pos.bed.gz\n",
      "21914\n",
      "21914\n",
      "0\n",
      "==================\n",
      "Reading liftover chains\n",
      "Mapping coordinates\n",
      "Input:  TMPRA_K562_OL13_20220512.hg19.raw.Output.rep2.stranded_pos.bed.gz\n",
      "Output: TMPRA_K562_OL13_20220512.hg38.raw.Output.rep2.stranded_pos.bed.gz\n",
      "21914\n",
      "21914\n",
      "0\n",
      "==================\n",
      "Reading liftover chains\n",
      "Mapping coordinates\n",
      "Input:  TMPRA_K562_OL13_20220512.hg19.raw.Output.rep3.stranded_pos.bed.gz\n",
      "Output: TMPRA_K562_OL13_20220512.hg38.raw.Output.rep3.stranded_pos.bed.gz\n",
      "21914\n",
      "21914\n",
      "0\n",
      "==================\n",
      "Reading liftover chains\n",
      "Mapping coordinates\n",
      "Input:  TMPRA_K562_OL13_20220512.hg19.raw.Output.rep4.stranded_pos.bed.gz\n",
      "Output: TMPRA_K562_OL13_20220512.hg38.raw.Output.rep4.stranded_pos.bed.gz\n",
      "21914\n",
      "21914\n",
      "0\n",
      "==================\n"
     ]
    }
   ],
   "source": [
    "FDIRY=${FD_RES}/assay_fcc/MPRA_Tiling_K562_Tewhey_hannah/fragment_counts\n",
    "FPATHS=($(ls ${FDIRY}/*hg19*))\n",
    "\n",
    "for FP_INP in ${FPATHS[@]}; do\n",
    "    ### setup\n",
    "    FN_INP=$(basename ${FP_INP})\n",
    "    FN_OUT_LIFTED=${FN_INP/hg19/hg38}\n",
    "    FN_OUT_UNLIFT=${FN_INP/hg19/unlifted}\n",
    "    FN_TMP_LIFTED=${FN_OUT_LIFTED%.*}\n",
    "    FN_TMP_UNLIFT=${FN_OUT_UNLIFT%.*}\n",
    "    \n",
    "    ### liftover\n",
    "    /data/common/shared_conda_envs/ucsc/bin/liftOver \\\n",
    "        -bedPlus=6 \\\n",
    "        ${FDIRY}/${FN_INP} \\\n",
    "        /data/reddylab/Reference_Data/Genomes/hg38/hg19ToHg38.over.chain \\\n",
    "        ${FDIRY}/${FN_TMP_LIFTED} \\\n",
    "        ${FDIRY}/${FN_TMP_UNLIFT}\n",
    "    \n",
    "    ### compress files\n",
    "    gzip -f ${FDIRY}/${FN_TMP_UNLIFT}\n",
    "    gzip -f ${FDIRY}/${FN_TMP_LIFTED}\n",
    "    \n",
    "    ### show\n",
    "    echo \"Input: \" ${FN_INP}\n",
    "    echo \"Output:\" ${FN_OUT_LIFTED}\n",
    "    zcat ${FDIRY}/${FN_INP} | wc -l\n",
    "    zcat ${FDIRY}/${FN_OUT_LIFTED} | wc -l\n",
    "    zcat ${FDIRY}/${FN_OUT_UNLIFT} | wc -l\n",
    "    echo ==================\n",
    "done"
   ]
  },
  {
   "cell_type": "code",
   "execution_count": null,
   "id": "52ea65af-fa59-49b6-a6e8-e8f87a090d50",
   "metadata": {},
   "outputs": [],
   "source": []
  }
 ],
 "metadata": {
  "kernelspec": {
   "display_name": "Bash",
   "language": "bash",
   "name": "bash"
  },
  "language_info": {
   "codemirror_mode": "shell",
   "file_extension": ".sh",
   "mimetype": "text/x-sh",
   "name": "bash"
  }
 },
 "nbformat": 4,
 "nbformat_minor": 5
}
