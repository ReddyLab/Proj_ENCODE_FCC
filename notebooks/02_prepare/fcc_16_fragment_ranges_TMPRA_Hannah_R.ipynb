{
 "cells": [
  {
   "cell_type": "raw",
   "id": "54a19fe2-3c46-4af2-ac72-6570aab9d922",
   "metadata": {},
   "source": [
    "---\n",
    "title: Prepare Tiling MPRA data 06\n",
    "subtitle: Get the genomic range of fragments designed in TMPRA\n",
    "format:\n",
    "    html:\n",
    "        code-fold:  true\n",
    "        code-tools: true\n",
    "---"
   ]
  },
  {
   "cell_type": "markdown",
   "id": "6c4f5ff8-c39e-4863-bf6d-eb6e22e8c2a8",
   "metadata": {},
   "source": [
    "**Set environment**"
   ]
  },
  {
   "cell_type": "code",
   "execution_count": 1,
   "id": "f1d6d22e-69e6-42aa-86f9-ec1833dc88bd",
   "metadata": {},
   "outputs": [
    {
     "name": "stdout",
     "output_type": "stream",
     "text": [
      "You are working on        Singularity \n",
      "BASE DIRECTORY (FD_BASE): /mount \n",
      "REPO DIRECTORY (FD_REPO): /mount/repo \n",
      "WORK DIRECTORY (FD_WORK): /mount/work \n",
      "DATA DIRECTORY (FD_DATA): /mount/data \n",
      "\n",
      "You are working with      ENCODE FCC \n",
      "PATH OF PROJECT (FD_PRJ): /mount/repo/Proj_ENCODE_FCC \n",
      "PROJECT RESULTS (FD_RES): /mount/repo/Proj_ENCODE_FCC/results \n",
      "PROJECT SCRIPTS (FD_EXE): /mount/repo/Proj_ENCODE_FCC/scripts \n",
      "PROJECT DATA    (FD_DAT): /mount/repo/Proj_ENCODE_FCC/data \n",
      "PROJECT NOTE    (FD_NBK): /mount/repo/Proj_ENCODE_FCC/notebooks \n",
      "PROJECT DOCS    (FD_DOC): /mount/repo/Proj_ENCODE_FCC/docs \n",
      "PROJECT LOG     (FD_LOG): /mount/repo/Proj_ENCODE_FCC/log \n",
      "PROJECT APP     (FD_APP): /mount/repo/Proj_ENCODE_FCC/app \n",
      "PROJECT REF     (FD_REF): /mount/repo/Proj_ENCODE_FCC/references \n",
      "\n"
     ]
    }
   ],
   "source": [
    "suppressMessages(suppressWarnings(source(\"../run_config_project_sing.R\")))\n",
    "suppressWarnings(suppressMessages(library(\"GenomicRanges\")))\n",
    "show_env()"
   ]
  },
  {
   "cell_type": "markdown",
   "id": "7a17e77c-9a4c-4ff6-b127-67a3de298a41",
   "metadata": {},
   "source": [
    "## Import data"
   ]
  },
  {
   "cell_type": "code",
   "execution_count": 2,
   "id": "42994f67-3929-4842-8553-0b7994fb7719",
   "metadata": {},
   "outputs": [
    {
     "name": "stdout",
     "output_type": "stream",
     "text": [
      "[1] \"MPRA_Tiling_K562_Tewhey_hannah\" \"STARR_ATAC_K562_Reddy_KS274\"   \n",
      "[3] \"STARR_ATAC_K562_Reddy_KS91\"     \"STARR_WHG_K562_Reddy_A001\"     \n"
     ]
    }
   ],
   "source": [
    "fdiry = file.path(FD_RES, \"assay_fcc\")\n",
    "print(dir(fdiry))"
   ]
  },
  {
   "cell_type": "code",
   "execution_count": 3,
   "id": "0adb0587-f30b-48a5-b836-b50474cb6240",
   "metadata": {},
   "outputs": [
    {
     "name": "stdout",
     "output_type": "stream",
     "text": [
      "[1] \"TMPRA_K562_OL13_20220512.hg19.raw.stranded_pos.bed.gz\"    \n",
      "[2] \"TMPRA_K562_OL13_20220512.hg38.raw.stranded_pos.bed.gz\"    \n",
      "[3] \"TMPRA_K562_OL13_20220512.unlifted.raw.stranded_pos.bed.gz\"\n",
      "[4] \"TMPRA_K562_OL43_20221003.hg38.raw.stranded_pos.bed.gz\"    \n",
      "[5] \"TMPRA_K562_OL45_20220927.hg38.raw.stranded_pos.bed.gz\"    \n"
     ]
    }
   ],
   "source": [
    "fdiry = file.path(FD_RES, \"assay_fcc\", \"MPRA_Tiling_K562_Tewhey_hannah\", \"fragment\")\n",
    "print(dir(fdiry))"
   ]
  },
  {
   "cell_type": "code",
   "execution_count": 4,
   "id": "73c3b952-7d40-4641-8ed1-907d92df9596",
   "metadata": {},
   "outputs": [
    {
     "name": "stdout",
     "output_type": "stream",
     "text": [
      "[1] 21914     6\n"
     ]
    },
    {
     "data": {
      "text/html": [
       "<table class=\"dataframe\">\n",
       "<caption>A tibble: 6 × 6</caption>\n",
       "<thead>\n",
       "\t<tr><th scope=col>Chrom</th><th scope=col>Start</th><th scope=col>End</th><th scope=col>Name</th><th scope=col>Score</th><th scope=col>Strand</th></tr>\n",
       "\t<tr><th scope=col>&lt;chr&gt;</th><th scope=col>&lt;dbl&gt;</th><th scope=col>&lt;dbl&gt;</th><th scope=col>&lt;chr&gt;</th><th scope=col>&lt;chr&gt;</th><th scope=col>&lt;chr&gt;</th></tr>\n",
       "</thead>\n",
       "<tbody>\n",
       "\t<tr><td>chr11</td><td>61787329</td><td>61787528</td><td>chr11:61554801-61555000</td><td>.</td><td>+</td></tr>\n",
       "\t<tr><td>chr11</td><td>61787334</td><td>61787533</td><td>chr11:61554806-61555005</td><td>.</td><td>+</td></tr>\n",
       "\t<tr><td>chr11</td><td>61787339</td><td>61787538</td><td>chr11:61554811-61555010</td><td>.</td><td>+</td></tr>\n",
       "\t<tr><td>chr11</td><td>61787344</td><td>61787543</td><td>chr11:61554816-61555015</td><td>.</td><td>+</td></tr>\n",
       "\t<tr><td>chr11</td><td>61787349</td><td>61787548</td><td>chr11:61554821-61555020</td><td>.</td><td>+</td></tr>\n",
       "\t<tr><td>chr11</td><td>61787354</td><td>61787553</td><td>chr11:61554826-61555025</td><td>.</td><td>+</td></tr>\n",
       "</tbody>\n",
       "</table>\n"
      ],
      "text/latex": [
       "A tibble: 6 × 6\n",
       "\\begin{tabular}{llllll}\n",
       " Chrom & Start & End & Name & Score & Strand\\\\\n",
       " <chr> & <dbl> & <dbl> & <chr> & <chr> & <chr>\\\\\n",
       "\\hline\n",
       "\t chr11 & 61787329 & 61787528 & chr11:61554801-61555000 & . & +\\\\\n",
       "\t chr11 & 61787334 & 61787533 & chr11:61554806-61555005 & . & +\\\\\n",
       "\t chr11 & 61787339 & 61787538 & chr11:61554811-61555010 & . & +\\\\\n",
       "\t chr11 & 61787344 & 61787543 & chr11:61554816-61555015 & . & +\\\\\n",
       "\t chr11 & 61787349 & 61787548 & chr11:61554821-61555020 & . & +\\\\\n",
       "\t chr11 & 61787354 & 61787553 & chr11:61554826-61555025 & . & +\\\\\n",
       "\\end{tabular}\n"
      ],
      "text/markdown": [
       "\n",
       "A tibble: 6 × 6\n",
       "\n",
       "| Chrom &lt;chr&gt; | Start &lt;dbl&gt; | End &lt;dbl&gt; | Name &lt;chr&gt; | Score &lt;chr&gt; | Strand &lt;chr&gt; |\n",
       "|---|---|---|---|---|---|\n",
       "| chr11 | 61787329 | 61787528 | chr11:61554801-61555000 | . | + |\n",
       "| chr11 | 61787334 | 61787533 | chr11:61554806-61555005 | . | + |\n",
       "| chr11 | 61787339 | 61787538 | chr11:61554811-61555010 | . | + |\n",
       "| chr11 | 61787344 | 61787543 | chr11:61554816-61555015 | . | + |\n",
       "| chr11 | 61787349 | 61787548 | chr11:61554821-61555020 | . | + |\n",
       "| chr11 | 61787354 | 61787553 | chr11:61554826-61555025 | . | + |\n",
       "\n"
      ],
      "text/plain": [
       "  Chrom Start    End      Name                    Score Strand\n",
       "1 chr11 61787329 61787528 chr11:61554801-61555000 .     +     \n",
       "2 chr11 61787334 61787533 chr11:61554806-61555005 .     +     \n",
       "3 chr11 61787339 61787538 chr11:61554811-61555010 .     +     \n",
       "4 chr11 61787344 61787543 chr11:61554816-61555015 .     +     \n",
       "5 chr11 61787349 61787548 chr11:61554821-61555020 .     +     \n",
       "6 chr11 61787354 61787553 chr11:61554826-61555025 .     +     "
      ]
     },
     "metadata": {},
     "output_type": "display_data"
    }
   ],
   "source": [
    "fdiry = file.path(FD_RES, \"assay_fcc\", \"MPRA_Tiling_K562_Tewhey_hannah\", \"fragment\")\n",
    "fname = \"TMPRA_K562_OL13_20220512.hg38.raw.stranded_pos.bed.gz\"\n",
    "fpath = file.path(fdiry, fname)\n",
    "\n",
    "cnames = c(\"Chrom\", \"Start\", \"End\", \"Name\", \"Score\", \"Strand\")\n",
    "dat = read_tsv(fpath, col_names = cnames, show_col_types = FALSE)\n",
    "\n",
    "dat_frag_tmpra_OL13 = dat\n",
    "print(dim(dat))\n",
    "head(dat)"
   ]
  },
  {
   "cell_type": "code",
   "execution_count": 5,
   "id": "3399d5ba-f06c-4fd9-a3cf-528f15657174",
   "metadata": {},
   "outputs": [
    {
     "name": "stdout",
     "output_type": "stream",
     "text": [
      "[1] 96087     6\n"
     ]
    },
    {
     "data": {
      "text/html": [
       "<table class=\"dataframe\">\n",
       "<caption>A tibble: 6 × 6</caption>\n",
       "<thead>\n",
       "\t<tr><th scope=col>Chrom</th><th scope=col>Start</th><th scope=col>End</th><th scope=col>Name</th><th scope=col>Score</th><th scope=col>Strand</th></tr>\n",
       "\t<tr><th scope=col>&lt;chr&gt;</th><th scope=col>&lt;dbl&gt;</th><th scope=col>&lt;dbl&gt;</th><th scope=col>&lt;chr&gt;</th><th scope=col>&lt;chr&gt;</th><th scope=col>&lt;chr&gt;</th></tr>\n",
       "</thead>\n",
       "<tbody>\n",
       "\t<tr><td>chr8</td><td>126735901</td><td>126736100</td><td>chr8:126735901-126736100</td><td>.</td><td>+</td></tr>\n",
       "\t<tr><td>chr8</td><td>126735951</td><td>126736150</td><td>chr8:126735951-126736150</td><td>.</td><td>+</td></tr>\n",
       "\t<tr><td>chr8</td><td>126736001</td><td>126736200</td><td>chr8:126736001-126736200</td><td>.</td><td>+</td></tr>\n",
       "\t<tr><td>chr8</td><td>126736051</td><td>126736250</td><td>chr8:126736051-126736250</td><td>.</td><td>+</td></tr>\n",
       "\t<tr><td>chr8</td><td>126736101</td><td>126736300</td><td>chr8:126736101-126736300</td><td>.</td><td>+</td></tr>\n",
       "\t<tr><td>chr8</td><td>126736151</td><td>126736350</td><td>chr8:126736151-126736350</td><td>.</td><td>+</td></tr>\n",
       "</tbody>\n",
       "</table>\n"
      ],
      "text/latex": [
       "A tibble: 6 × 6\n",
       "\\begin{tabular}{llllll}\n",
       " Chrom & Start & End & Name & Score & Strand\\\\\n",
       " <chr> & <dbl> & <dbl> & <chr> & <chr> & <chr>\\\\\n",
       "\\hline\n",
       "\t chr8 & 126735901 & 126736100 & chr8:126735901-126736100 & . & +\\\\\n",
       "\t chr8 & 126735951 & 126736150 & chr8:126735951-126736150 & . & +\\\\\n",
       "\t chr8 & 126736001 & 126736200 & chr8:126736001-126736200 & . & +\\\\\n",
       "\t chr8 & 126736051 & 126736250 & chr8:126736051-126736250 & . & +\\\\\n",
       "\t chr8 & 126736101 & 126736300 & chr8:126736101-126736300 & . & +\\\\\n",
       "\t chr8 & 126736151 & 126736350 & chr8:126736151-126736350 & . & +\\\\\n",
       "\\end{tabular}\n"
      ],
      "text/markdown": [
       "\n",
       "A tibble: 6 × 6\n",
       "\n",
       "| Chrom &lt;chr&gt; | Start &lt;dbl&gt; | End &lt;dbl&gt; | Name &lt;chr&gt; | Score &lt;chr&gt; | Strand &lt;chr&gt; |\n",
       "|---|---|---|---|---|---|\n",
       "| chr8 | 126735901 | 126736100 | chr8:126735901-126736100 | . | + |\n",
       "| chr8 | 126735951 | 126736150 | chr8:126735951-126736150 | . | + |\n",
       "| chr8 | 126736001 | 126736200 | chr8:126736001-126736200 | . | + |\n",
       "| chr8 | 126736051 | 126736250 | chr8:126736051-126736250 | . | + |\n",
       "| chr8 | 126736101 | 126736300 | chr8:126736101-126736300 | . | + |\n",
       "| chr8 | 126736151 | 126736350 | chr8:126736151-126736350 | . | + |\n",
       "\n"
      ],
      "text/plain": [
       "  Chrom Start     End       Name                     Score Strand\n",
       "1 chr8  126735901 126736100 chr8:126735901-126736100 .     +     \n",
       "2 chr8  126735951 126736150 chr8:126735951-126736150 .     +     \n",
       "3 chr8  126736001 126736200 chr8:126736001-126736200 .     +     \n",
       "4 chr8  126736051 126736250 chr8:126736051-126736250 .     +     \n",
       "5 chr8  126736101 126736300 chr8:126736101-126736300 .     +     \n",
       "6 chr8  126736151 126736350 chr8:126736151-126736350 .     +     "
      ]
     },
     "metadata": {},
     "output_type": "display_data"
    }
   ],
   "source": [
    "fdiry = file.path(FD_RES, \"assay_fcc\", \"MPRA_Tiling_K562_Tewhey_hannah\", \"fragment\")\n",
    "fname = \"TMPRA_K562_OL43_20221003.hg38.raw.stranded_pos.bed.gz\"\n",
    "fpath = file.path(fdiry, fname)\n",
    "\n",
    "cnames = c(\"Chrom\", \"Start\", \"End\", \"Name\", \"Score\", \"Strand\")\n",
    "dat = read_tsv(fpath, col_names = cnames, show_col_types = FALSE)\n",
    "\n",
    "dat_frag_tmpra_OL43 = dat\n",
    "print(dim(dat))\n",
    "head(dat)"
   ]
  },
  {
   "cell_type": "code",
   "execution_count": 6,
   "id": "d2198926-a38b-444e-9d80-a4c7a70c06e6",
   "metadata": {},
   "outputs": [
    {
     "name": "stdout",
     "output_type": "stream",
     "text": [
      "[1] 91092     6\n"
     ]
    },
    {
     "data": {
      "text/html": [
       "<table class=\"dataframe\">\n",
       "<caption>A tibble: 6 × 6</caption>\n",
       "<thead>\n",
       "\t<tr><th scope=col>Chrom</th><th scope=col>Start</th><th scope=col>End</th><th scope=col>Name</th><th scope=col>Score</th><th scope=col>Strand</th></tr>\n",
       "\t<tr><th scope=col>&lt;chr&gt;</th><th scope=col>&lt;dbl&gt;</th><th scope=col>&lt;dbl&gt;</th><th scope=col>&lt;chr&gt;</th><th scope=col>&lt;chr&gt;</th><th scope=col>&lt;chr&gt;</th></tr>\n",
       "</thead>\n",
       "<tbody>\n",
       "\t<tr><td>chr11</td><td>4505501</td><td>4505700</td><td>chr11:4505501-4505700</td><td>.</td><td>+</td></tr>\n",
       "\t<tr><td>chr11</td><td>4505601</td><td>4505800</td><td>chr11:4505601-4505800</td><td>.</td><td>+</td></tr>\n",
       "\t<tr><td>chr11</td><td>4505701</td><td>4505900</td><td>chr11:4505701-4505900</td><td>.</td><td>+</td></tr>\n",
       "\t<tr><td>chr11</td><td>4505801</td><td>4506000</td><td>chr11:4505801-4506000</td><td>.</td><td>+</td></tr>\n",
       "\t<tr><td>chr11</td><td>4505901</td><td>4506100</td><td>chr11:4505901-4506100</td><td>.</td><td>+</td></tr>\n",
       "\t<tr><td>chr11</td><td>4506001</td><td>4506200</td><td>chr11:4506001-4506200</td><td>.</td><td>+</td></tr>\n",
       "</tbody>\n",
       "</table>\n"
      ],
      "text/latex": [
       "A tibble: 6 × 6\n",
       "\\begin{tabular}{llllll}\n",
       " Chrom & Start & End & Name & Score & Strand\\\\\n",
       " <chr> & <dbl> & <dbl> & <chr> & <chr> & <chr>\\\\\n",
       "\\hline\n",
       "\t chr11 & 4505501 & 4505700 & chr11:4505501-4505700 & . & +\\\\\n",
       "\t chr11 & 4505601 & 4505800 & chr11:4505601-4505800 & . & +\\\\\n",
       "\t chr11 & 4505701 & 4505900 & chr11:4505701-4505900 & . & +\\\\\n",
       "\t chr11 & 4505801 & 4506000 & chr11:4505801-4506000 & . & +\\\\\n",
       "\t chr11 & 4505901 & 4506100 & chr11:4505901-4506100 & . & +\\\\\n",
       "\t chr11 & 4506001 & 4506200 & chr11:4506001-4506200 & . & +\\\\\n",
       "\\end{tabular}\n"
      ],
      "text/markdown": [
       "\n",
       "A tibble: 6 × 6\n",
       "\n",
       "| Chrom &lt;chr&gt; | Start &lt;dbl&gt; | End &lt;dbl&gt; | Name &lt;chr&gt; | Score &lt;chr&gt; | Strand &lt;chr&gt; |\n",
       "|---|---|---|---|---|---|\n",
       "| chr11 | 4505501 | 4505700 | chr11:4505501-4505700 | . | + |\n",
       "| chr11 | 4505601 | 4505800 | chr11:4505601-4505800 | . | + |\n",
       "| chr11 | 4505701 | 4505900 | chr11:4505701-4505900 | . | + |\n",
       "| chr11 | 4505801 | 4506000 | chr11:4505801-4506000 | . | + |\n",
       "| chr11 | 4505901 | 4506100 | chr11:4505901-4506100 | . | + |\n",
       "| chr11 | 4506001 | 4506200 | chr11:4506001-4506200 | . | + |\n",
       "\n"
      ],
      "text/plain": [
       "  Chrom Start   End     Name                  Score Strand\n",
       "1 chr11 4505501 4505700 chr11:4505501-4505700 .     +     \n",
       "2 chr11 4505601 4505800 chr11:4505601-4505800 .     +     \n",
       "3 chr11 4505701 4505900 chr11:4505701-4505900 .     +     \n",
       "4 chr11 4505801 4506000 chr11:4505801-4506000 .     +     \n",
       "5 chr11 4505901 4506100 chr11:4505901-4506100 .     +     \n",
       "6 chr11 4506001 4506200 chr11:4506001-4506200 .     +     "
      ]
     },
     "metadata": {},
     "output_type": "display_data"
    }
   ],
   "source": [
    "fdiry = file.path(FD_RES, \"assay_fcc\", \"MPRA_Tiling_K562_Tewhey_hannah\", \"fragment\")\n",
    "fname = \"TMPRA_K562_OL45_20220927.hg38.raw.stranded_pos.bed.gz\"\n",
    "fpath = file.path(fdiry, fname)\n",
    "\n",
    "cnames = c(\"Chrom\", \"Start\", \"End\", \"Name\", \"Score\", \"Strand\")\n",
    "dat = read_tsv(fpath, col_names = cnames, show_col_types = FALSE)\n",
    "\n",
    "dat_frag_tmpra_OL45 = dat\n",
    "print(dim(dat))\n",
    "head(dat)"
   ]
  },
  {
   "cell_type": "markdown",
   "id": "19161159-e45d-4579-b496-578e75ddd908",
   "metadata": {},
   "source": [
    "## Setup GRanges for each file"
   ]
  },
  {
   "cell_type": "code",
   "execution_count": 7,
   "id": "331eb0cc-6af4-493f-8ae7-b73b03931e78",
   "metadata": {},
   "outputs": [],
   "source": [
    "dat = dat_frag_tmpra_OL13\n",
    "grg = GRanges(\n",
    "    seqnames = dat$Chrom,\n",
    "    ranges   = IRanges(\n",
    "        start = dat$Start, \n",
    "        end   = dat$End, \n",
    "        names = dat$Name\n",
    "    ))\n",
    "\n",
    "grg_frag_tmpra_OL13 = grg"
   ]
  },
  {
   "cell_type": "code",
   "execution_count": 8,
   "id": "b847777f-86c0-4ef6-ab68-79cb0b50e2cc",
   "metadata": {},
   "outputs": [],
   "source": [
    "dat = dat_frag_tmpra_OL43\n",
    "grg = GRanges(\n",
    "    seqnames = dat$Chrom,\n",
    "    ranges   = IRanges(\n",
    "        start = dat$Start, \n",
    "        end   = dat$End, \n",
    "        names = dat$Name\n",
    "    ))\n",
    "\n",
    "grg_frag_tmpra_OL43 = grg"
   ]
  },
  {
   "cell_type": "code",
   "execution_count": 9,
   "id": "825f0e86-031b-4d7c-ac1c-077158c469ae",
   "metadata": {},
   "outputs": [],
   "source": [
    "dat = dat_frag_tmpra_OL45\n",
    "grg = GRanges(\n",
    "    seqnames = dat$Chrom,\n",
    "    ranges   = IRanges(\n",
    "        start = dat$Start, \n",
    "        end   = dat$End, \n",
    "        names = dat$Name\n",
    "    ))\n",
    "\n",
    "grg_frag_tmpra_OL45 = grg"
   ]
  },
  {
   "cell_type": "markdown",
   "id": "9afa238e-68d5-4dc7-9c83-3d366fd6238f",
   "metadata": {},
   "source": [
    "## OL13 | FADS region"
   ]
  },
  {
   "cell_type": "code",
   "execution_count": 10,
   "id": "27a71f5f-7009-456d-a43c-01cd1b851d8b",
   "metadata": {},
   "outputs": [
    {
     "data": {
      "text/plain": [
       "GRanges object with 21914 ranges and 0 metadata columns:\n",
       "                          seqnames            ranges strand\n",
       "                             <Rle>         <IRanges>  <Rle>\n",
       "  chr11:61554801-61555000    chr11 61787329-61787528      *\n",
       "  chr11:61554806-61555005    chr11 61787334-61787533      *\n",
       "  chr11:61554811-61555010    chr11 61787339-61787538      *\n",
       "  chr11:61554816-61555015    chr11 61787344-61787543      *\n",
       "  chr11:61554821-61555020    chr11 61787349-61787548      *\n",
       "                      ...      ...               ...    ...\n",
       "  chr11:61665601-61665800    chr11 61898129-61898328      *\n",
       "  chr11:61665606-61665805    chr11 61898134-61898333      *\n",
       "  chr11:61665611-61665810    chr11 61898139-61898338      *\n",
       "  chr11:61665616-61665815    chr11 61898144-61898343      *\n",
       "  chr11:61665621-61665820    chr11 61898149-61898348      *\n",
       "  -------\n",
       "  seqinfo: 1 sequence from an unspecified genome; no seqlengths"
      ]
     },
     "metadata": {},
     "output_type": "display_data"
    }
   ],
   "source": [
    "grg = grg_frag_tmpra_OL13\n",
    "grg"
   ]
  },
  {
   "cell_type": "code",
   "execution_count": 11,
   "id": "3ac395c6-aaab-4c5a-b832-17c487dd89c0",
   "metadata": {},
   "outputs": [
    {
     "name": "stdout",
     "output_type": "stream",
     "text": [
      "GRanges object with 1 range and 2 metadata columns:\n",
      "      seqnames            ranges strand |      Region     Dataset\n",
      "         <Rle>         <IRanges>  <Rle> | <character> <character>\n",
      "  [1]    chr11 61787329-61898348      * |        FADS        OL13\n",
      "  -------\n",
      "  seqinfo: 1 sequence from an unspecified genome; no seqlengths\n"
     ]
    }
   ],
   "source": [
    "grg = grg_frag_tmpra_OL13\n",
    "grg = GenomicRanges::reduce(grg)\n",
    "\n",
    "grg$Region  = \"FADS\"\n",
    "grg$Dataset = \"OL13\"\n",
    "grg_range_OL13  = grg\n",
    "print(grg)"
   ]
  },
  {
   "cell_type": "markdown",
   "id": "b4a39b59-ad8f-4327-a27f-67bef55599d5",
   "metadata": {},
   "source": [
    "**Summary**\r\n",
    "```\r\n",
    "chr11 61787329 61898348 FADS\r\n",
    "```"
   ]
  },
  {
   "cell_type": "markdown",
   "id": "29c9fd6c-d737-46b4-a708-a0f68e412c48",
   "metadata": {},
   "source": [
    "## OL43 | GATA-MYC region"
   ]
  },
  {
   "cell_type": "code",
   "execution_count": 12,
   "id": "ec188fa3-ef8e-4666-af6f-ab51dffda715",
   "metadata": {},
   "outputs": [
    {
     "data": {
      "text/plain": [
       "GRanges object with 96087 ranges and 0 metadata columns:\n",
       "                           seqnames              ranges strand\n",
       "                              <Rle>           <IRanges>  <Rle>\n",
       "  chr8:126735901-126736100     chr8 126735901-126736100      *\n",
       "  chr8:126735951-126736150     chr8 126735951-126736150      *\n",
       "  chr8:126736001-126736200     chr8 126736001-126736200      *\n",
       "  chr8:126736051-126736250     chr8 126736051-126736250      *\n",
       "  chr8:126736101-126736300     chr8 126736101-126736300      *\n",
       "                       ...      ...                 ...    ...\n",
       "    chrX:49880251-49880450     chrX   49880251-49880450      *\n",
       "    chrX:49880301-49880500     chrX   49880301-49880500      *\n",
       "    chrX:49880351-49880550     chrX   49880351-49880550      *\n",
       "    chrX:49880401-49880600     chrX   49880401-49880600      *\n",
       "    chrX:49880451-49880650     chrX   49880451-49880650      *\n",
       "  -------\n",
       "  seqinfo: 2 sequences from an unspecified genome; no seqlengths"
      ]
     },
     "metadata": {},
     "output_type": "display_data"
    }
   ],
   "source": [
    "grg = grg_frag_tmpra_OL43\n",
    "grg"
   ]
  },
  {
   "cell_type": "code",
   "execution_count": 13,
   "id": "375642cf-b92a-498d-b33f-05c2ef0e8979",
   "metadata": {},
   "outputs": [
    {
     "data": {
      "text/plain": [
       "GRanges object with 2 ranges and 2 metadata columns:\n",
       "      seqnames              ranges strand |      Region     Dataset\n",
       "         <Rle>           <IRanges>  <Rle> | <character> <character>\n",
       "  [1]     chr8 126735901-128736550      * |         MYC        OL43\n",
       "  [2]     chrX   47785501-49880650      * |       GATA1        OL43\n",
       "  -------\n",
       "  seqinfo: 2 sequences from an unspecified genome; no seqlengths"
      ]
     },
     "metadata": {},
     "output_type": "display_data"
    }
   ],
   "source": [
    "grg = grg_frag_tmpra_OL43\n",
    "grg = GenomicRanges::reduce(grg)\n",
    "grg = range(grg)\n",
    "\n",
    "grg$Region  = c(\"MYC\", \"GATA1\")\n",
    "grg$Dataset = \"OL43\"\n",
    "grg_range_OL43 = grg\n",
    "grg "
   ]
  },
  {
   "cell_type": "markdown",
   "id": "7a9c9832-5266-4f97-b6a3-65fca3be02a9",
   "metadata": {},
   "source": [
    "**Summary**\r\n",
    "```\r\n",
    "chr8 126735901 128736550 MYC\r\n",
    "chrX  47785501 49880650  GATA1\r\n",
    "```"
   ]
  },
  {
   "cell_type": "markdown",
   "id": "6b155b39-7a05-473a-9b23-587b853167f9",
   "metadata": {},
   "source": [
    "## OL45 | LMO2, HBE1, RBM38, HBA2, BCL11A"
   ]
  },
  {
   "cell_type": "code",
   "execution_count": 14,
   "id": "efecdafa-3afd-479a-988f-4e60885a19a0",
   "metadata": {},
   "outputs": [
    {
     "name": "stdout",
     "output_type": "stream",
     "text": [
      "[1] 4\n",
      "[1] \"chr11\" \"chr16\" \"chr2\"  \"chr20\"\n"
     ]
    }
   ],
   "source": [
    "grg = grg_frag_tmpra_OL45\n",
    "grg = GenomicRanges::reduce(grg)\n",
    "lst = split(grg, grg@seqnames)\n",
    "print(length(lst))\n",
    "print(names(lst))"
   ]
  },
  {
   "cell_type": "code",
   "execution_count": 15,
   "id": "69fb92cd-e8e2-4b7f-84fd-0c0f9a6ab5a0",
   "metadata": {},
   "outputs": [
    {
     "name": "stdout",
     "output_type": "stream",
     "text": [
      "GRanges object with 1 range and 2 metadata columns:\n",
      "      seqnames          ranges strand |      Region     Dataset\n",
      "         <Rle>       <IRanges>  <Rle> | <character> <character>\n",
      "  [1]    chr11 4505501-6505900      * |        HBE1        OL45\n",
      "  -------\n",
      "  seqinfo: 4 sequences from an unspecified genome; no seqlengths\n"
     ]
    }
   ],
   "source": [
    "grg = lst[[\"chr11\"]]\n",
    "idx = grg@ranges@start < 7000000\n",
    "grg = grg[which(idx)]\n",
    "\n",
    "grg = range(grg)\n",
    "grg$Region  = \"HBE1\"\n",
    "grg$Dataset = \"OL45\"\n",
    "grg_range_OL45_chr11_v1 = grg\n",
    "print(grg)"
   ]
  },
  {
   "cell_type": "code",
   "execution_count": 16,
   "id": "1c9e3ea2-5193-401f-871b-0722b4dc742b",
   "metadata": {},
   "outputs": [
    {
     "name": "stdout",
     "output_type": "stream",
     "text": [
      "GRanges object with 1 range and 2 metadata columns:\n",
      "      seqnames            ranges strand |      Region     Dataset\n",
      "         <Rle>         <IRanges>  <Rle> | <character> <character>\n",
      "  [1]    chr11 32869701-34870100      * |        LMO2        OL45\n",
      "  -------\n",
      "  seqinfo: 4 sequences from an unspecified genome; no seqlengths\n"
     ]
    }
   ],
   "source": [
    "grg = lst[[\"chr11\"]]\n",
    "idx = grg@ranges@start > 7000000\n",
    "grg = grg[which(idx)]\n",
    "\n",
    "grg = range(grg)\n",
    "grg$Region  = \"LMO2\"\n",
    "grg$Dataset = \"OL45\"\n",
    "grg_range_OL45_chr11_v2 = grg\n",
    "print(grg)"
   ]
  },
  {
   "cell_type": "code",
   "execution_count": 17,
   "id": "36f9e18f-0cd0-4192-9047-a21c1aa5bde3",
   "metadata": {},
   "outputs": [
    {
     "name": "stdout",
     "output_type": "stream",
     "text": [
      "GRanges object with 1 range and 2 metadata columns:\n",
      "      seqnames        ranges strand |      Region     Dataset\n",
      "         <Rle>     <IRanges>  <Rle> | <character> <character>\n",
      "  [1]    chr16 10001-1173100      * |        HBA2        OL45\n",
      "  -------\n",
      "  seqinfo: 4 sequences from an unspecified genome; no seqlengths\n"
     ]
    }
   ],
   "source": [
    "grg = lst[[\"chr16\"]]\n",
    "grg = range(grg)\n",
    "grg$Region  = \"HBA2\"\n",
    "grg$Dataset = \"OL45\"\n",
    "grg_range_OL45_chr16 = grg\n",
    "print(grg)"
   ]
  },
  {
   "cell_type": "code",
   "execution_count": 19,
   "id": "5ffa4121-db61-4507-8720-05f2ba485420",
   "metadata": {},
   "outputs": [
    {
     "name": "stdout",
     "output_type": "stream",
     "text": [
      "GRanges object with 1 range and 2 metadata columns:\n",
      "      seqnames            ranges strand |      Region     Dataset\n",
      "         <Rle>         <IRanges>  <Rle> | <character> <character>\n",
      "  [1]     chr2 59553301-61553700      * |      BCL11A        OL45\n",
      "  -------\n",
      "  seqinfo: 4 sequences from an unspecified genome; no seqlengths\n"
     ]
    }
   ],
   "source": [
    "grg = lst[[\"chr2\"]]\n",
    "grg = range(grg)\n",
    "grg$Region  = \"BCL11A\"\n",
    "grg$Dataset = \"OL45\"\n",
    "grg_range_OL45_chr2 = grg\n",
    "print(grg)"
   ]
  },
  {
   "cell_type": "code",
   "execution_count": 20,
   "id": "0c2fc43e-303a-4662-b533-7c7a0fd73eeb",
   "metadata": {},
   "outputs": [
    {
     "name": "stdout",
     "output_type": "stream",
     "text": [
      "GRanges object with 1 range and 2 metadata columns:\n",
      "      seqnames            ranges strand |      Region     Dataset\n",
      "         <Rle>         <IRanges>  <Rle> | <character> <character>\n",
      "  [1]    chr20 56391301-58391700      * |       RBM38        OL45\n",
      "  -------\n",
      "  seqinfo: 4 sequences from an unspecified genome; no seqlengths\n"
     ]
    }
   ],
   "source": [
    "grg = lst[[\"chr20\"]]\n",
    "grg = range(grg)\n",
    "grg$Region  = \"RBM38\"\n",
    "grg$Dataset = \"OL45\"\n",
    "grg_range_OL45_chr20 = grg\n",
    "print(grg)"
   ]
  },
  {
   "cell_type": "markdown",
   "id": "3f9dc74b-64ce-403d-b5f9-d26110673438",
   "metadata": {},
   "source": [
    "## Combine and export"
   ]
  },
  {
   "cell_type": "markdown",
   "id": "b4e4298d-3bd0-4585-9483-590a398f6c7d",
   "metadata": {},
   "source": [
    "**Concatenate multiple granges**"
   ]
  },
  {
   "cell_type": "code",
   "execution_count": 21,
   "id": "679bdfc2-ec84-4efb-814e-7525dd190f28",
   "metadata": {},
   "outputs": [
    {
     "name": "stderr",
     "output_type": "stream",
     "text": [
      "Warning message in .merge_two_Seqinfo_objects(x, y):\n",
      "“The 2 combined objects have no sequence levels in common. (Use\n",
      "  suppressWarnings() to suppress this warning.)”\n",
      "Warning message in .merge_two_Seqinfo_objects(x, y):\n",
      "“Each of the 2 combined objects has sequence levels not in the other:\n",
      "  - in 'x': chr8, chrX\n",
      "  - in 'y': chr16, chr2, chr20\n",
      "  Make sure to always combine/compare objects based on the same reference\n",
      "  genome (use suppressWarnings() to suppress this warning).”\n"
     ]
    },
    {
     "name": "stdout",
     "output_type": "stream",
     "text": [
      "GRanges object with 8 ranges and 2 metadata columns:\n",
      "      seqnames              ranges strand |      Region     Dataset\n",
      "         <Rle>           <IRanges>  <Rle> | <character> <character>\n",
      "  [1]    chr11   61787329-61898348      * |        FADS        OL13\n",
      "  [2]     chr8 126735901-128736550      * |         MYC        OL43\n",
      "  [3]     chrX   47785501-49880650      * |       GATA1        OL43\n",
      "  [4]    chr11     4505501-6505900      * |        HBE1        OL45\n",
      "  [5]    chr11   32869701-34870100      * |        LMO2        OL45\n",
      "  [6]    chr16       10001-1173100      * |        HBA2        OL45\n",
      "  [7]     chr2   59553301-61553700      * |      BCL11A        OL45\n",
      "  [8]    chr20   56391301-58391700      * |       RBM38        OL45\n",
      "  -------\n",
      "  seqinfo: 6 sequences from an unspecified genome; no seqlengths\n"
     ]
    }
   ],
   "source": [
    "grg = c(\n",
    "    grg_range_OL13,\n",
    "    grg_range_OL43,\n",
    "    grg_range_OL45_chr11_v1, \n",
    "    grg_range_OL45_chr11_v2,\n",
    "    grg_range_OL45_chr16,\n",
    "    grg_range_OL45_chr2,\n",
    "    grg_range_OL45_chr20\n",
    ")\n",
    "\n",
    "grg_range_merge = grg\n",
    "print(grg)"
   ]
  },
  {
   "cell_type": "markdown",
   "id": "a6acdaae-dac8-4041-871f-1a3fc638e2d4",
   "metadata": {},
   "source": [
    "**Convert to dataframe**"
   ]
  },
  {
   "cell_type": "code",
   "execution_count": 23,
   "id": "acf6347f-f1d7-45d7-82f6-2f3a31df4812",
   "metadata": {},
   "outputs": [
    {
     "data": {
      "text/html": [
       "<table>\n",
       " <thead>\n",
       "  <tr>\n",
       "   <th style=\"text-align:left;\"> Chrom </th>\n",
       "   <th style=\"text-align:right;\"> ChromStart </th>\n",
       "   <th style=\"text-align:right;\"> ChromEnd </th>\n",
       "   <th style=\"text-align:left;\"> Region </th>\n",
       "   <th style=\"text-align:left;\"> Dataset </th>\n",
       "  </tr>\n",
       " </thead>\n",
       "<tbody>\n",
       "  <tr>\n",
       "   <td style=\"text-align:left;\"> chr11 </td>\n",
       "   <td style=\"text-align:right;\"> 4505501 </td>\n",
       "   <td style=\"text-align:right;\"> 6505900 </td>\n",
       "   <td style=\"text-align:left;\"> HBE1 </td>\n",
       "   <td style=\"text-align:left;\"> OL45 </td>\n",
       "  </tr>\n",
       "  <tr>\n",
       "   <td style=\"text-align:left;\"> chr11 </td>\n",
       "   <td style=\"text-align:right;\"> 32869701 </td>\n",
       "   <td style=\"text-align:right;\"> 34870100 </td>\n",
       "   <td style=\"text-align:left;\"> LMO2 </td>\n",
       "   <td style=\"text-align:left;\"> OL45 </td>\n",
       "  </tr>\n",
       "  <tr>\n",
       "   <td style=\"text-align:left;\"> chr11 </td>\n",
       "   <td style=\"text-align:right;\"> 61787329 </td>\n",
       "   <td style=\"text-align:right;\"> 61898348 </td>\n",
       "   <td style=\"text-align:left;\"> FADS </td>\n",
       "   <td style=\"text-align:left;\"> OL13 </td>\n",
       "  </tr>\n",
       "  <tr>\n",
       "   <td style=\"text-align:left;\"> chr16 </td>\n",
       "   <td style=\"text-align:right;\"> 10001 </td>\n",
       "   <td style=\"text-align:right;\"> 1173100 </td>\n",
       "   <td style=\"text-align:left;\"> HBA2 </td>\n",
       "   <td style=\"text-align:left;\"> OL45 </td>\n",
       "  </tr>\n",
       "  <tr>\n",
       "   <td style=\"text-align:left;\"> chr2 </td>\n",
       "   <td style=\"text-align:right;\"> 59553301 </td>\n",
       "   <td style=\"text-align:right;\"> 61553700 </td>\n",
       "   <td style=\"text-align:left;\"> BCL11A </td>\n",
       "   <td style=\"text-align:left;\"> OL45 </td>\n",
       "  </tr>\n",
       "  <tr>\n",
       "   <td style=\"text-align:left;\"> chr20 </td>\n",
       "   <td style=\"text-align:right;\"> 56391301 </td>\n",
       "   <td style=\"text-align:right;\"> 58391700 </td>\n",
       "   <td style=\"text-align:left;\"> RBM38 </td>\n",
       "   <td style=\"text-align:left;\"> OL45 </td>\n",
       "  </tr>\n",
       "  <tr>\n",
       "   <td style=\"text-align:left;\"> chr8 </td>\n",
       "   <td style=\"text-align:right;\"> 126735901 </td>\n",
       "   <td style=\"text-align:right;\"> 128736550 </td>\n",
       "   <td style=\"text-align:left;\"> MYC </td>\n",
       "   <td style=\"text-align:left;\"> OL43 </td>\n",
       "  </tr>\n",
       "  <tr>\n",
       "   <td style=\"text-align:left;\"> chrX </td>\n",
       "   <td style=\"text-align:right;\"> 47785501 </td>\n",
       "   <td style=\"text-align:right;\"> 49880650 </td>\n",
       "   <td style=\"text-align:left;\"> GATA1 </td>\n",
       "   <td style=\"text-align:left;\"> OL43 </td>\n",
       "  </tr>\n",
       "</tbody>\n",
       "</table>"
      ]
     },
     "metadata": {},
     "output_type": "display_data"
    }
   ],
   "source": [
    "grg = grg_range_merge\n",
    "dat = data.frame(\n",
    "    Chrom      = as.character(seqnames(grg)),\n",
    "    ChromStart = start(grg),\n",
    "    ChromEnd   = end(grg),\n",
    "    Region     = grg$Region,\n",
    "    Dataset    = grg$Dataset\n",
    ")\n",
    "dat = dat %>% dplyr::arrange(Chrom, ChromStart, ChromEnd)\n",
    "\n",
    "### assign and show\n",
    "dat_range_merge = dat\n",
    "fun_display_table(dat)"
   ]
  },
  {
   "cell_type": "code",
   "execution_count": 26,
   "id": "39aaa455-d352-4694-93cb-24eeca4aebfa",
   "metadata": {},
   "outputs": [
    {
     "name": "stdout",
     "output_type": "stream",
     "text": [
      "[1] \"/mount/repo/Proj_ENCODE_FCC/results/region/fcc_coverage/region_screened.tmpra.bed.gz\"\n"
     ]
    }
   ],
   "source": [
    "### set directory\n",
    "fdiry = file.path(FD_RES, \"region\", \"fcc_coverage\")\n",
    "fname = \"region_screened.tmpra.bed.gz\"\n",
    "fpath = file.path(fdiry, fname)\n",
    "print(fpath)\n",
    "\n",
    "### write table\n",
    "dat = dat_range_merge\n",
    "write_tsv(dat, fpath, col_names = FALSE)"
   ]
  },
  {
   "cell_type": "code",
   "execution_count": 27,
   "id": "21ece8e5-7978-4f06-9827-2f7071f5a73d",
   "metadata": {},
   "outputs": [
    {
     "name": "stdout",
     "output_type": "stream",
     "text": [
      "[1] \"/mount/repo/Proj_ENCODE_FCC/results/region/fcc_coverage/region_screened.tmpra.tsv\"\n"
     ]
    }
   ],
   "source": [
    "### set directory\n",
    "fdiry = file.path(FD_RES, \"region\", \"fcc_coverage\")\n",
    "fname = \"region_screened.tmpra.tsv\"\n",
    "fpath = file.path(fdiry, fname)\n",
    "print(fpath)\n",
    "\n",
    "### write table\n",
    "dat = dat_range_merge\n",
    "write_tsv(dat, fpath, col_names = TRUE)"
   ]
  },
  {
   "cell_type": "code",
   "execution_count": null,
   "id": "79a5ff3a-9bce-4f27-8522-bdcf69a4de4a",
   "metadata": {},
   "outputs": [],
   "source": []
  }
 ],
 "metadata": {
  "kernelspec": {
   "display_name": "R",
   "language": "R",
   "name": "ir"
  },
  "language_info": {
   "codemirror_mode": "r",
   "file_extension": ".r",
   "mimetype": "text/x-r-source",
   "name": "R",
   "pygments_lexer": "r",
   "version": "4.3.3"
  }
 },
 "nbformat": 4,
 "nbformat_minor": 5
}
