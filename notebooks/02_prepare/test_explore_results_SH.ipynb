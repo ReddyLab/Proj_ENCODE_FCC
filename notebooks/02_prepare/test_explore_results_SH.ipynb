{
 "cells": [
  {
   "cell_type": "code",
   "execution_count": 1,
   "id": "44105fc5-5134-482b-893d-c6d3db6f0d34",
   "metadata": {},
   "outputs": [
    {
     "name": "stdout",
     "output_type": "stream",
     "text": [
      "You are working on             Duke Server: HARDAC\n",
      "BASE DIRECTORY (FD_BASE):      /data/reddylab/Kuei\n",
      "REPO DIRECTORY (FD_REPO):      /data/reddylab/Kuei/repo\n",
      "WORK DIRECTORY (FD_WORK):      /data/reddylab/Kuei/work\n",
      "DATA DIRECTORY (FD_DATA):      /data/reddylab/Kuei/data\n",
      "CONTAINER DIR. (FD_SING):      /data/reddylab/Kuei/container\n",
      "\n",
      "You are working with           ENCODE FCC\n",
      "PATH OF PROJECT (FD_PRJ):      /data/reddylab/Kuei/repo/Proj_CombEffect_ENCODE_FCC\n",
      "PROJECT RESULTS (FD_RES):      /data/reddylab/Kuei/repo/Proj_CombEffect_ENCODE_FCC/results\n",
      "PROJECT SCRIPTS (FD_EXE):      /data/reddylab/Kuei/repo/Proj_CombEffect_ENCODE_FCC/scripts\n",
      "PROJECT DATA    (FD_DAT):      /data/reddylab/Kuei/repo/Proj_CombEffect_ENCODE_FCC/data\n",
      "PROJECT NOTE    (FD_NBK):      /data/reddylab/Kuei/repo/Proj_CombEffect_ENCODE_FCC/notebooks\n",
      "PROJECT DOCS    (FD_DOC):      /data/reddylab/Kuei/repo/Proj_CombEffect_ENCODE_FCC/docs\n",
      "PROJECT LOG     (FD_LOG):      /data/reddylab/Kuei/repo/Proj_CombEffect_ENCODE_FCC/log\n",
      "PROJECT APP     (FD_APP):      /data/reddylab/Kuei/repo/Proj_CombEffect_ENCODE_FCC/app\n",
      "PROJECT REF     (FD_REF):      /data/reddylab/Kuei/repo/Proj_CombEffect_ENCODE_FCC/references\n",
      "PROJECT IMAGE   (FP_PRJ_SIF):  /data/reddylab/Kuei/repo/Proj_CombEffect_ENCODE_FCC/app/singularity_proj_encode_fcc.sif\n",
      "\n"
     ]
    }
   ],
   "source": [
    "source ../run_config_project.sh\n",
    "show_env"
   ]
  },
  {
   "cell_type": "code",
   "execution_count": 4,
   "id": "04154c2c-e3be-4372-8981-e2384a0fe446",
   "metadata": {},
   "outputs": [
    {
     "name": "stdout",
     "output_type": "stream",
     "text": [
      "/data/reddylab/Kuei/repo/Proj_CombEffect_ENCODE_FCC/results\n",
      "\u001b[0m\u001b[38;5;27mannotation\u001b[0m  \u001b[38;5;27massay_fcc\u001b[0m  \u001b[38;5;27massay_hic\u001b[0m  \u001b[38;5;27mregion\u001b[0m\n"
     ]
    }
   ],
   "source": [
    "echo ${FD_RES}\n",
    "ls   ${FD_RES}"
   ]
  },
  {
   "cell_type": "code",
   "execution_count": 5,
   "id": "fab902f9-4c3b-4a60-a103-c0d4ff779253",
   "metadata": {},
   "outputs": [
    {
     "name": "stdout",
     "output_type": "stream",
     "text": [
      "\u001b[0m\u001b[38;5;27mMPRA_Tiling_K562_Tewhey_hannah\u001b[0m  \u001b[38;5;27mSTARR_WHG_K562_Reddy_A001\u001b[0m\n",
      "\u001b[38;5;27mSTARR_ATAC_K562_Reddy_KS91\u001b[0m\n"
     ]
    }
   ],
   "source": [
    "FDIRY=${FD_RES}/assay_fcc\n",
    "ls ${FDIRY}"
   ]
  },
  {
   "cell_type": "code",
   "execution_count": 7,
   "id": "ba2b3c8f-1b1d-4f79-be22-40f810bf34a3",
   "metadata": {},
   "outputs": [
    {
     "name": "stdout",
     "output_type": "stream",
     "text": [
      "/data/reddylab/Kuei/repo/Proj_CombEffect_ENCODE_FCC/results/assay_fcc/STARR_ATAC_K562_Reddy_KS91/coverage:\n",
      "\u001b[0m\u001b[38;5;27mencode_open_chromatin\u001b[0m  \u001b[38;5;27mfcc_astarr_macs\u001b[0m\n",
      "\n",
      "/data/reddylab/Kuei/repo/Proj_CombEffect_ENCODE_FCC/results/assay_fcc/STARR_WHG_K562_Reddy_A001/coverage:\n",
      "\u001b[38;5;27mfcc_astarr_macs\u001b[0m\n"
     ]
    }
   ],
   "source": [
    "FDIRY=${FD_RES}/assay_fcc\n",
    "ls ${FDIRY}/*/coverage"
   ]
  },
  {
   "cell_type": "code",
   "execution_count": 11,
   "id": "a9f2efa6-f1a3-4c54-b0db-65d851890e3a",
   "metadata": {},
   "outputs": [
    {
     "name": "stdout",
     "output_type": "stream",
     "text": [
      "data_deseq2.rds  data_list.rds  matrix.raw.count.WGS.tsv\n"
     ]
    }
   ],
   "source": [
    "TXT_ASSAY_NAME=STARR_ATAC_K562_Reddy_KS91\n",
    "ls ${FDIRY}/${TXT_ASSAY_NAME}/coverage/fcc_astarr_macs/astarr_macs_input_union/summary"
   ]
  },
  {
   "cell_type": "code",
   "execution_count": 15,
   "id": "70d2c2d0-b911-4db3-8fb0-720c1a90b6d7",
   "metadata": {},
   "outputs": [
    {
     "name": "stdout",
     "output_type": "stream",
     "text": [
      "/data/reddylab/Kuei/repo/Proj_CombEffect_ENCODE_FCC/results/assay_fcc/STARR_ATAC_K562_Reddy_KS91/coverage/encode_open_chromatin/atac_ENCFF333TAT/summary/matrix.raw.count.WGS.tsv\n",
      "/data/reddylab/Kuei/repo/Proj_CombEffect_ENCODE_FCC/results/assay_fcc/STARR_ATAC_K562_Reddy_KS91/coverage/encode_open_chromatin/atac_ENCFF558BLC/summary/matrix.raw.count.WGS.tsv\n",
      "/data/reddylab/Kuei/repo/Proj_CombEffect_ENCODE_FCC/results/assay_fcc/STARR_ATAC_K562_Reddy_KS91/coverage/encode_open_chromatin/atac_ENCFF925CYR/summary/matrix.raw.count.WGS.tsv\n",
      "/data/reddylab/Kuei/repo/Proj_CombEffect_ENCODE_FCC/results/assay_fcc/STARR_ATAC_K562_Reddy_KS91/coverage/encode_open_chromatin/atac_ENCFF948AFM/summary/matrix.raw.count.WGS.tsv\n",
      "/data/reddylab/Kuei/repo/Proj_CombEffect_ENCODE_FCC/results/assay_fcc/STARR_ATAC_K562_Reddy_KS91/coverage/encode_open_chromatin/dnase_ENCFF185XRG/summary/matrix.raw.count.WGS.tsv\n",
      "/data/reddylab/Kuei/repo/Proj_CombEffect_ENCODE_FCC/results/assay_fcc/STARR_ATAC_K562_Reddy_KS91/coverage/encode_open_chromatin/dnase_ENCFF274YGF/summary/matrix.raw.count.WGS.tsv\n",
      "/data/reddylab/Kuei/repo/Proj_CombEffect_ENCODE_FCC/results/assay_fcc/STARR_ATAC_K562_Reddy_KS91/coverage/fcc_astarr_macs/astarr_macs_input_overlap/summary/matrix.raw.count.WGS.tsv\n",
      "/data/reddylab/Kuei/repo/Proj_CombEffect_ENCODE_FCC/results/assay_fcc/STARR_ATAC_K562_Reddy_KS91/coverage/fcc_astarr_macs/astarr_macs_input_union/summary/matrix.raw.count.WGS.tsv\n"
     ]
    }
   ],
   "source": [
    "FDIRY=${FD_RES}/assay_fcc\n",
    "### region group / region name\n",
    "ls ${FDIRY}/${TXT_ASSAY_NAME}/coverage/*/*/summary/matrix.raw.count.WGS.tsv"
   ]
  }
 ],
 "metadata": {
  "kernelspec": {
   "display_name": "Bash",
   "language": "bash",
   "name": "bash"
  },
  "language_info": {
   "codemirror_mode": "shell",
   "file_extension": ".sh",
   "mimetype": "text/x-sh",
   "name": "bash"
  }
 },
 "nbformat": 4,
 "nbformat_minor": 5
}
