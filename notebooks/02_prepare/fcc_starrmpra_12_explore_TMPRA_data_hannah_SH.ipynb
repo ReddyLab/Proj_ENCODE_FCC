{
 "cells": [
  {
   "cell_type": "raw",
   "id": "8d9e7dc8-8ae0-4bca-8b27-0a9162be685e",
   "metadata": {
    "tags": []
   },
   "source": [
    "---\n",
    "title: Prepare Tiling MPRA data 02\n",
    "subtitle: Explore Tiling MPRA data files\n",
    "format:\n",
    "    html:\n",
    "        code-fold:  true\n",
    "        code-tools: true\n",
    "---"
   ]
  },
  {
   "cell_type": "markdown",
   "id": "e34ca82d-5b61-432d-891e-06b041f46103",
   "metadata": {},
   "source": [
    "In Tiling MPRA, a series of overlapped oligos are synthesized and tested in K562 for regulatory activity. According to Hannah, each count matrix has input (`plasmid`) and output barcode counts for each tested oligo."
   ]
  },
  {
   "cell_type": "markdown",
   "id": "db4cadae-4259-4e89-a4d3-231dc5287575",
   "metadata": {},
   "source": [
    "**Set environment**"
   ]
  },
  {
   "cell_type": "code",
   "execution_count": 1,
   "id": "51ba87d7-37f9-4e9c-a1d0-ccd47c629bd9",
   "metadata": {},
   "outputs": [
    {
     "name": "stdout",
     "output_type": "stream",
     "text": [
      "You are working on             Duke Server: HARDAC\n",
      "BASE DIRECTORY (FD_BASE):      /data/reddylab/Kuei\n",
      "REPO DIRECTORY (FD_REPO):      /data/reddylab/Kuei/repo\n",
      "WORK DIRECTORY (FD_WORK):      /data/reddylab/Kuei/work\n",
      "DATA DIRECTORY (FD_DATA):      /data/reddylab/Kuei/data\n",
      "CONTAINER DIR. (FD_SING):      /data/reddylab/Kuei/container\n",
      "\n",
      "You are working with           ENCODE FCC\n",
      "PATH OF PROJECT (FD_PRJ):      /data/reddylab/Kuei/repo/Proj_CombEffect_ENCODE_FCC\n",
      "PROJECT RESULTS (FD_RES):      /data/reddylab/Kuei/repo/Proj_CombEffect_ENCODE_FCC/results\n",
      "PROJECT SCRIPTS (FD_EXE):      /data/reddylab/Kuei/repo/Proj_CombEffect_ENCODE_FCC/scripts\n",
      "PROJECT DATA    (FD_DAT):      /data/reddylab/Kuei/repo/Proj_CombEffect_ENCODE_FCC/data\n",
      "PROJECT NOTE    (FD_NBK):      /data/reddylab/Kuei/repo/Proj_CombEffect_ENCODE_FCC/notebooks\n",
      "PROJECT DOCS    (FD_DOC):      /data/reddylab/Kuei/repo/Proj_CombEffect_ENCODE_FCC/docs\n",
      "PROJECT LOG     (FD_LOG):      /data/reddylab/Kuei/repo/Proj_CombEffect_ENCODE_FCC/log\n",
      "PROJECT APP     (FD_APP):      /data/reddylab/Kuei/repo/Proj_CombEffect_ENCODE_FCC/app\n",
      "PROJECT REF     (FD_REF):      /data/reddylab/Kuei/repo/Proj_CombEffect_ENCODE_FCC/references\n",
      "PROJECT IMAGE   (FP_PRJ_SIF):  /data/reddylab/Kuei/repo/Proj_CombEffect_ENCODE_FCC/app/singularity_proj_encode_fcc.sif\n",
      "\n"
     ]
    }
   ],
   "source": [
    "source ../run_config_project.sh\n",
    "show_env"
   ]
  },
  {
   "cell_type": "markdown",
   "id": "050a8272-fe0d-43e9-ada3-66a70d16d3c3",
   "metadata": {},
   "source": [
    "**Check data**"
   ]
  },
  {
   "cell_type": "code",
   "execution_count": 3,
   "id": "9c05867c-7518-4f27-ad5f-8170dce63c72",
   "metadata": {},
   "outputs": [
    {
     "name": "stdout",
     "output_type": "stream",
     "text": [
      "\u001b[0m\u001b[38;5;27mtiling_counts\u001b[0m  \u001b[38;5;9mtiling_counts.tar.gz\u001b[0m\n"
     ]
    }
   ],
   "source": [
    "ls ${FD_DAT}/processed/MPRA_Tiling_K562_Tewhey_hannah"
   ]
  },
  {
   "cell_type": "code",
   "execution_count": 4,
   "id": "e1e5bdd3-6a72-4a86-9709-fee20b529d50",
   "metadata": {},
   "outputs": [
    {
     "name": "stdout",
     "output_type": "stream",
     "text": [
      "\u001b[0m\u001b[38;5;34mFADS_tile_snp.20190214.attributes\u001b[0m\n",
      "\u001b[38;5;34mOL13_20220512_counts.out\u001b[0m\n",
      "\u001b[38;5;34mOL13_20220512_normalized_counts.out\u001b[0m\n",
      "\u001b[38;5;34mOL43_20211228_counts.out\u001b[0m\n",
      "\u001b[38;5;34mOL43_20211228_normalized_counts.out\u001b[0m\n",
      "\u001b[38;5;34mOL43_20221003_counts.out\u001b[0m\n",
      "\u001b[38;5;34mOL43_20221003_K562_normalized_counts.out\u001b[0m\n",
      "\u001b[38;5;34mOL43.attributes\u001b[0m\n",
      "\u001b[38;5;34mOL43_K562.bed\u001b[0m\n",
      "\u001b[38;5;34mOL45_20220927_counts.out\u001b[0m\n",
      "\u001b[38;5;34mOL45_20220927_K562_normalized_counts.out\u001b[0m\n",
      "\u001b[38;5;34mOL45.attributes\u001b[0m\n",
      "\u001b[38;5;34mOL45_K562.bed\u001b[0m\n",
      "\u001b[38;5;27mUKBB_GTEx\u001b[0m\n"
     ]
    }
   ],
   "source": [
    "FDIRY=${FD_DAT}\n",
    "FDIRY=${FDIRY}/processed/MPRA_Tiling_K562_Tewhey_hannah\n",
    "FDIRY=${FDIRY}/tiling_counts\n",
    "\n",
    "ls ${FDIRY}"
   ]
  },
  {
   "cell_type": "markdown",
   "id": "5cf48526-a84f-4d98-a917-c11ebd98c00c",
   "metadata": {},
   "source": [
    "## Raw and normalized barcode count matrix for OL13"
   ]
  },
  {
   "cell_type": "code",
   "execution_count": 5,
   "id": "fd8ee66a-2e47-4d1f-b24d-c1b90f094eed",
   "metadata": {},
   "outputs": [
    {
     "name": "stdout",
     "output_type": "stream",
     "text": [
      "plasmid_r1\tplasmid_r2\tplasmid_r3\tplasmid_r4\tk562_r1\tk562_r2\tk562_r3\tk562_r4\n",
      "(11:61555216-61555415;11:61555315:T:C_A_wC)\t1609\t1221\t1396\t798\t845\t283\t574\t1223\n",
      "(11:61555231-61555430_RC;11:61555330:T:C_A_wC_RC)\t1179\t582\t1225\t721\t476\t416\t912\t956\n",
      "(11:61555315:T:C_A_wC_RC;11:61555216-61555415_RC)\t1066\t643\t1206\t681\t470\t846\t540\t847\n",
      "(11:61555330:T:C_A_wC;11:61555231-61555430)\t1063\t701\t786\t416\t357\t568\t599\t518\n",
      "(11:61555366-61555565_RC;11:61555465:A:G_A_wC_RC)\t1239\t722\t1341\t682\t311\t421\t604\t556\n",
      "(11:61555366-61555565;11:61555465:A:G_A_wC)\t1362\t885\t1213\t856\t407\t49\t519\t344\n",
      "(11:61555581-61555780;11:61555680:G:A_A_wC)\t673\t290\t468\t362\t193\t173\t378\t378\n",
      "(11:61555666-61555865_RC;11:61555765:C:T_A_wC_RC)\t1361\t767\t1204\t737\t3814\t3572\t4659\t4902\n",
      "(11:61555666-61555865;11:61555765:C:T_A_wC)\t452\t336\t416\t251\t628\t831\t847\t1035\n"
     ]
    }
   ],
   "source": [
    "FDIRY=${FD_DAT}/processed/MPRA_Tiling_K562_Tewhey_hannah/tiling_counts\n",
    "FNAME=OL13_20220512_counts.out\n",
    "FPATH=${FDIRY}/${FNAME}\n",
    "\n",
    "head ${FPATH}"
   ]
  },
  {
   "cell_type": "code",
   "execution_count": 6,
   "id": "7099ea5a-0196-439d-a2a2-6fc7fabcf726",
   "metadata": {},
   "outputs": [
    {
     "name": "stdout",
     "output_type": "stream",
     "text": [
      "plasmid_r1\tplasmid_r2\tplasmid_r3\tplasmid_r4\tk562_r1\tk562_r2\tk562_r3\tk562_r4\n",
      "(11:61555216-61555415;11:61555315:T:C_A_wC)\t881.850959258118\t1196.39755882377\t855.53173555782\t774.925715691881\t1807.94704620301\t569.644913020602\t730.47466819187\t1493.44488237891\n",
      "(11:61555231-61555430_RC;11:61555330:T:C_A_wC_RC)\t646.179167784538\t570.273037866859\t750.735226402815\t700.152181721611\t1018.44117632264\t837.357893344772\t1160.61480381705\t1167.40254092742\n",
      "(11:61555315:T:C_A_wC_RC;11:61555216-61555415_RC)\t584.246813281015\t630.043923279021\t739.091169830036\t661.308787451342\t1005.60368250345\t1702.89610040788\t687.206133839042\t1034.29911314386\n",
      "(11:61555330:T:C_A_wC;11:61555231-61555430)\t582.602591480037\t686.875256949601\t481.696235063357\t403.971300410805\t763.830882241981\t1143.31558514382\t762.289766980715\t632.546565063185\n",
      "(11:61555366-61555565_RC;11:61555465:A:G_A_wC_RC)\t679.063603804107\t707.452119140674\t821.82525600504\t662.279872308098\t665.410096294835\t847.42229110132\t768.652786738484\t678.949594932685\n",
      "(11:61555366-61555565;11:61555465:A:G_A_wC)\t746.476697644224\t867.167763766615\t743.381085409481\t831.248637383772\t870.809997401922\t98.6310980141679\t660.481450856412\t420.069533555474\n",
      "(11:61555581-61555780;11:61555680:G:A_A_wC)\t368.853757352836\t284.156668352902\t286.811498740014\t351.532718145941\t412.939384517373\t348.228162376552\t481.044293687329\t461.588033965027\n",
      "(11:61555666-61555865_RC;11:61555765:C:T_A_wC_RC)\t745.928623710565\t751.5453952644\t737.865479664481\t715.689539429719\t8160.36690440032\t7190.00575727771\t5929.06181028907\t5985.99085316551\n",
      "(11:61555666-61555865;11:61555765:C:T_A_wC)\t247.729418014089\t329.229795057156\t254.943554435568\t243.742299045942\t1343.65768640886\t1672.70290713824\t1077.89554696605\t1263.87199776138\n"
     ]
    }
   ],
   "source": [
    "FDIRY=${FD_DAT}/processed/MPRA_Tiling_K562_Tewhey_hannah/tiling_counts\n",
    "FNAME=OL13_20220512_normalized_counts.out\n",
    "FPATH=${FDIRY}/${FNAME}\n",
    "\n",
    "head ${FPATH}"
   ]
  },
  {
   "cell_type": "markdown",
   "id": "242bf2b0-24c0-4a82-b977-dd210f239f3b",
   "metadata": {},
   "source": [
    "## Raw and normalized barcode count matrix for OL43"
   ]
  },
  {
   "cell_type": "code",
   "execution_count": 7,
   "id": "7f0582e9-2c79-4932-b6b9-e8c553092ac6",
   "metadata": {},
   "outputs": [
    {
     "name": "stdout",
     "output_type": "stream",
     "text": [
      "plasmid_r1\tplasmid_r2\tplasmid_r3\tplasmid_r4\tplasmid_r5\tplasmid_r6\tK562_r1\tK562_r2\tK562_r3\tK562_r4\tK562_r5\n",
      "(8:127381651-127381850;8:127320401-127320600)\t1318\t1810\t1477\t1505\t738\t687\t620\t636\t781\t520\t538\n",
      "(8:127742001-127742200;Nadav:negCtrl:seq31776.neg1.MYC)\t634\t730\t698\t761\t316\t343\t158\t194\t268\t141\t251\n",
      "(8:128045001-128045200;Nadav:posCtrl:seq31797.pos5.MYC)\t416\t432\t418\t409\t181\t211\t11164\t6818\t12118\t9512\t10450\n",
      "(8:128176951-128177150;Nadav:negCtrl:seq31802.neg5.MYC)\t1150\t1271\t1325\t1255\t597\t580\t14919\t9299\t28832\t15790\t19501\n",
      "(X:48782961-48783160;Nadav:posCtrl:ENSG00000102317.270\t345\t370\t389\t373\t211\t187\t17116\t10370\t22126\t16725\t18361\n",
      "(X:48800591-48800790;Nadav:posCtrl:pos2.GATA1)\t1008\t1075\t1137\t1049\t531\t528\t9987\t7807\t13192\t9978\t11306\n",
      "(X:48801781-48801980;Nadav:negCtrl:neg1.GATA1)\t334\t390\t383\t391\t145\t164\t4853\t2861\t4438\t3504\t3545\n",
      "(X:49154578:NA:NA;X:49298001-49298200)\t2194\t2534\t2366\t2443\t1117\t1166\t1322\t823\t1698\t1174\t1148\n",
      "(X:49322601-49322800;X:49551851-49552050)\t2164\t2372\t2184\t2371\t1181\t1087\t4503\t3182\t5161\t3330\t3702\n"
     ]
    }
   ],
   "source": [
    "FDIRY=${FD_DAT}/processed/MPRA_Tiling_K562_Tewhey_hannah/tiling_counts\n",
    "FNAME=OL43_20221003_counts.out\n",
    "FPATH=${FDIRY}/${FNAME}\n",
    "\n",
    "head ${FPATH}"
   ]
  },
  {
   "cell_type": "code",
   "execution_count": 8,
   "id": "4c790f1d-11b6-4cf6-a9bd-ea05556b2041",
   "metadata": {},
   "outputs": [
    {
     "name": "stdout",
     "output_type": "stream",
     "text": [
      "plasmid_r1\tplasmid_r2\tplasmid_r3\tplasmid_r4\tplasmid_r5\tplasmid_r6\tK562_r1\tK562_r2\tK562_r3\tK562_r4\tK562_r5\n",
      "(8:127381651-127381850;8:127320401-127320600)\t887.446571765428\t1078.77146597825\t946.831377196138\t945.721918068606\t962.323494733561\t893.908535925291\t961.772509595888\t1136.66734809629\t842.970579975295\t896.665375538462\t760.144341851228\n",
      "(8:127742001-127742200;Nadav:negCtrl:seq31776.neg1.MYC)\t426.890080803703\t435.084624400067\t447.453149142115\t478.202245614757\t412.051794492961\t446.303679508552\t245.096865348629\t346.719285425598\t289.265192616363\t243.134265290237\t354.639832350666\n",
      "(8:128045001-128045200;Nadav:posCtrl:seq31797.pos5.MYC)\t280.104532514733\t257.474736631273\t267.959049199719\t257.010142518312\t236.017008870968\t274.54832762771\t17318.1101566589\t12185.2169486171\t13079.5358362876\t16402.0789463882\t14764.885450456\n",
      "(8:128176951-128177150;Nadav:negCtrl:seq31802.neg5.MYC)\t774.327433634478\t757.524051523953\t849.391722941695\t788.625253937608\t778.464940861702\t754.682606749154\t23143.0388236469\t16619.2919338796\t31119.7538563991\t27227.5889995237\t27553.1130305591\n",
      "(X:48782961-48783160;Nadav:posCtrl:ENSG00000102317.270\t232.298230090343\t220.522343874007\t249.368588848543\t234.388222883448\t275.1358501203\t243.320081831193\t26551.1262487794\t18533.3968549662\t23881.6479545882\t28839.8623190015\t25942.3982541457\n",
      "(X:48800591-48800790;Nadav:posCtrl:pos2.GATA1)\t678.714828785699\t640.706809904209\t728.874255837515\t659.177602693666\t692.403490113172\t687.021407523368\t15492.2936344099\t13952.7704191631\t14238.7553022204\t17205.62907139\t15974.3344404646\n",
      "(X:48801781-48801980;Nadav:negCtrl:neg1.GATA1)\t224.891619855579\t232.442470569899\t245.52228670692\t245.69918270088\t189.07439937177\t213.393012942864\t7528.19675656265\t5113.21585362183\t4790.14524190827\t6042.1451459361\t5008.75779156618\n",
      "(X:49154578:NA:NA;X:49298001-49298200)\t1477.28207773395\t1510.28005236955\t1516.72514451324\t1535.14860188811\t1456.52485585012\t1517.17227494744\t2050.74718981575\t1470.87614384158\t1832.73245172606\t2024.39452092722\t1622.01803800225\n",
      "(X:49322601-49322800;X:49551851-49552050)\t1457.08223163914\t1413.72702613282\t1400.05397955069\t1489.90476261838\t1539.97838384869\t1414.37929920057\t6985.26066243594\t5686.9111661044\t5570.51365333226\t5742.107116429\t5230.58430024767\n"
     ]
    }
   ],
   "source": [
    "FDIRY=${FD_DAT}/processed/MPRA_Tiling_K562_Tewhey_hannah/tiling_counts\n",
    "FNAME=OL43_20221003_K562_normalized_counts.out\n",
    "FPATH=${FDIRY}/${FNAME}\n",
    "\n",
    "head ${FPATH}"
   ]
  },
  {
   "cell_type": "markdown",
   "id": "83d5a409-4f13-48bd-8503-1ed91115894f",
   "metadata": {},
   "source": [
    "## Raw and normalized barcode count matrix for OL45"
   ]
  },
  {
   "cell_type": "code",
   "execution_count": 9,
   "id": "a4590b9a-97dc-44ef-a9a2-1c591e5e5e03",
   "metadata": {},
   "outputs": [
    {
     "name": "stdout",
     "output_type": "stream",
     "text": [
      "plasmid_r1\tplasmid_r2\tplasmid_r3\tplasmid_r4\tK562_r1\tK562_r2\tK562_r3\tK562_r4\n",
      "(Nadav:posCtrl:seq33763.pos1.GATA1;Nadav:posCtrl:ENSG00000102317.270\t897\t717\t761\t724\t56816\t37391\t36946\t52349\n",
      "1:10437778:C:T:R:wC\t645\t437\t491\t493\t2239\t1698\t1202\t2532\n",
      "1:10451799:C:T:R:wC\t603\t584\t512\t429\t336\t280\t321\t333\n",
      "1:110198727:C:G:R:wC\t681\t589\t628\t550\t46046\t37138\t33992\t53823\n",
      "1:110881742:NA:NA\t930\t795\t874\t765\t24701\t18211\t17386\t29053\n",
      "1:111838694:C:T:R:wC\t834\t579\t755\t763\t34228\t34188\t32379\t37480\n",
      "1:113047064:NA:NA\t635\t500\t560\t550\t390\t326\t243\t574\n",
      "1:119063648:C:T:R:wC\t539\t483\t512\t471\t338\t200\t139\t172\n",
      "1:171893999:A:T:R:wC\t848\t660\t722\t725\t705\t694\t668\t801\n"
     ]
    }
   ],
   "source": [
    "FDIRY=${FD_DAT}/processed/MPRA_Tiling_K562_Tewhey_hannah/tiling_counts\n",
    "FNAME=OL45_20220927_counts.out\n",
    "FPATH=${FDIRY}/${FNAME}\n",
    "\n",
    "head ${FPATH}"
   ]
  },
  {
   "cell_type": "code",
   "execution_count": 10,
   "id": "c5e3fdb7-4334-413d-ba1d-fbec1a96023c",
   "metadata": {},
   "outputs": [
    {
     "name": "stdout",
     "output_type": "stream",
     "text": [
      "plasmid_r1\tplasmid_r2\tplasmid_r3\tplasmid_r4\tK562_r1\tK562_r2\tK562_r3\tK562_r4\n",
      "(Nadav:posCtrl:seq33763.pos1.GATA1;Nadav:posCtrl:ENSG00000102317.270\t660.352667442521\t622.944710266239\t644.22828252883\t623.288796155809\t69961.0133424845\t56175.0918266184\t62517.7361729988\t58457.7541026999\n",
      "1:10437778:C:T:R:wC\t474.83553010081\t379.674809464918\t415.658458241335\t424.421790752505\t2757.01754565303\t2551.02313181242\t2033.95005900354\t2827.46630094245\n",
      "1:10451799:C:T:R:wC\t443.916007210524\t507.391507385611\t433.436111241473\t369.324438606135\t413.737336015819\t420.663413962001\t543.176346871992\t371.85871967371\n",
      "1:110198727:C:G:R:wC\t501.337978292483\t511.735612757064\t531.636480194619\t473.492870007866\t56699.2540898346\t55794.9923847171\t57519.1600712547\t60103.7593663607\n",
      "1:110881742:NA:NA\t684.646578284888\t690.712754060892\t739.888986767671\t658.585537374577\t30415.8510027582\t27359.6479702214\t29419.5139150045\t32443.2774254664\n",
      "1:111838694:C:T:R:wC\t613.973383107093\t503.047402014159\t639.148953100219\t656.863745120003\t42147.0283843734\t51363.0028447603\t54789.7412316768\t41853.6480882002\n",
      "1:113047064:NA:NA\t467.473738936456\t434.410537145215\t474.070746670361\t473.492870007866\t480.230836446933\t489.772403398615\t411.189570996555\t640.981696975104\n",
      "1:119063648:C:T:R:wC\t396.800543758661\t419.640578882278\t433.436111241473\t405.48207595219\t416.200058254009\t300.473867115715\t235.207203162638\t192.071170522157\n",
      "1:171893999:A:T:R:wC\t624.279890737188\t573.421909031684\t611.212641242859\t624.149692283096\t868.109588961764\t1042.64431889153\t1130.34828570246\t894.470974350276\n"
     ]
    }
   ],
   "source": [
    "FDIRY=${FD_DAT}/processed/MPRA_Tiling_K562_Tewhey_hannah/tiling_counts\n",
    "FNAME=OL45_20220927_K562_normalized_counts.out\n",
    "FPATH=${FDIRY}/${FNAME}\n",
    "\n",
    "head ${FPATH}"
   ]
  },
  {
   "cell_type": "code",
   "execution_count": null,
   "id": "f01ed8ea-7b35-497f-ba05-77df313b445b",
   "metadata": {},
   "outputs": [],
   "source": []
  },
  {
   "cell_type": "code",
   "execution_count": null,
   "id": "9d04daad-24c3-4c25-956d-b24c3d329afd",
   "metadata": {},
   "outputs": [],
   "source": []
  }
 ],
 "metadata": {
  "kernelspec": {
   "display_name": "Bash",
   "language": "bash",
   "name": "bash"
  },
  "language_info": {
   "codemirror_mode": "shell",
   "file_extension": ".sh",
   "mimetype": "text/x-sh",
   "name": "bash"
  }
 },
 "nbformat": 4,
 "nbformat_minor": 5
}
