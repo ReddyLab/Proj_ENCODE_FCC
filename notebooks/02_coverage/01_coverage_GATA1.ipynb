{
 "cells": [
  {
   "cell_type": "code",
   "execution_count": 1,
   "id": "3a4c49eb-2a7f-4f5c-8cfe-684bf3313b71",
   "metadata": {},
   "outputs": [
    {
     "name": "stdout",
     "output_type": "stream",
     "text": [
      "You are on Duke Server: HARDAC\n",
      "BASE DIRECTORY:     /gpfs/fs1/data/reddylab/Kuei\n",
      "PATH OF SOURCE:     /gpfs/fs1/data/reddylab/Kuei/source\n",
      "PATH OF EXECUTABLE: /gpfs/fs1/data/reddylab/Kuei/exe\n",
      "PATH OF ANNOTATION: /gpfs/fs1/data/reddylab/Kuei/annotation\n",
      "PATH OF PROJECT:    /gpfs/fs1/data/reddylab/Kuei/GitRepo/Proj_ENCODE_FCC/notebooks\n",
      "PATH OF RESULTS:    /gpfs/fs1/data/reddylab/Kuei/out/proj_encode_fcc\n",
      "\n"
     ]
    }
   ],
   "source": [
    "source ../config_duke.sh -v\n",
    "source ../config_load_module_bedtools.sh"
   ]
  },
  {
   "cell_type": "markdown",
   "id": "234f61ab-e148-4af8-9382-6c29761a98cf",
   "metadata": {},
   "source": [
    "## set range"
   ]
  },
  {
   "cell_type": "code",
   "execution_count": 2,
   "id": "d672272e-069d-4bf4-81b2-f57542d61be7",
   "metadata": {},
   "outputs": [
    {
     "name": "stdout",
     "output_type": "stream",
     "text": [
      "\u001b[0m\u001b[38;5;27mcoverage\u001b[0m  \u001b[38;5;27mfragment\u001b[0m\n"
     ]
    }
   ],
   "source": [
    "FD_FRG=${FD_RES}/KS91_K562_ASTARRseq/fragment\n",
    "FD_COV=${FD_RES}/KS91_K562_ASTARRseq/coverage\n",
    "ls ${FD_RES}/KS91_K562_ASTARRseq"
   ]
  },
  {
   "cell_type": "code",
   "execution_count": 3,
   "id": "312a62cc-b355-4189-ada0-a6d8971e60f5",
   "metadata": {},
   "outputs": [
    {
     "name": "stdout",
     "output_type": "stream",
     "text": [
      "KS91_K562_hg38_ASTARRseq_Input_rep1.GATA1.unstranded.dedups.bed\n",
      "KS91_K562_hg38_ASTARRseq_Input_rep2.GATA1.unstranded.dedups.bed\n",
      "KS91_K562_hg38_ASTARRseq_Input_rep3.GATA1.unstranded.dedups.bed\n",
      "KS91_K562_hg38_ASTARRseq_Input_rep4.GATA1.unstranded.dedups.bed\n",
      "KS91_K562_hg38_ASTARRseq_Input_rep5.GATA1.unstranded.dedups.bed\n",
      "KS91_K562_hg38_ASTARRseq_Input_rep6.GATA1.unstranded.dedups.bed\n",
      "KS91_K562_hg38_ASTARRseq_Output_rep1.GATA1.unstranded.bed\n",
      "KS91_K562_hg38_ASTARRseq_Output_rep2.GATA1.unstranded.bed\n",
      "KS91_K562_hg38_ASTARRseq_Output_rep3.GATA1.unstranded.bed\n",
      "KS91_K562_hg38_ASTARRseq_Output_rep4.GATA1.unstranded.bed\n"
     ]
    }
   ],
   "source": [
    "ls ${FD_FRG}"
   ]
  },
  {
   "cell_type": "code",
   "execution_count": 4,
   "id": "7b1f0c14-c8a0-4615-8500-4d2ea0fb73b9",
   "metadata": {},
   "outputs": [
    {
     "name": "stdout",
     "output_type": "stream",
     "text": [
      "/gpfs/fs1/data/reddylab/Kuei/out/proj_encode_fcc/KS91_K562_ASTARRseq/fragment/KS91_K562_hg38_ASTARRseq_Input_rep1.GATA1.unstranded.dedups.bed\n",
      "KS91_K562_hg38_ASTARRseq_Input_rep1.GATA1.unstranded.dedups.perbase.tsv.gz\n",
      "/gpfs/fs1/data/reddylab/Kuei/out/proj_encode_fcc/KS91_K562_ASTARRseq/fragment/KS91_K562_hg38_ASTARRseq_Input_rep2.GATA1.unstranded.dedups.bed\n",
      "KS91_K562_hg38_ASTARRseq_Input_rep2.GATA1.unstranded.dedups.perbase.tsv.gz\n",
      "/gpfs/fs1/data/reddylab/Kuei/out/proj_encode_fcc/KS91_K562_ASTARRseq/fragment/KS91_K562_hg38_ASTARRseq_Input_rep3.GATA1.unstranded.dedups.bed\n",
      "KS91_K562_hg38_ASTARRseq_Input_rep3.GATA1.unstranded.dedups.perbase.tsv.gz\n",
      "/gpfs/fs1/data/reddylab/Kuei/out/proj_encode_fcc/KS91_K562_ASTARRseq/fragment/KS91_K562_hg38_ASTARRseq_Input_rep4.GATA1.unstranded.dedups.bed\n",
      "KS91_K562_hg38_ASTARRseq_Input_rep4.GATA1.unstranded.dedups.perbase.tsv.gz\n",
      "/gpfs/fs1/data/reddylab/Kuei/out/proj_encode_fcc/KS91_K562_ASTARRseq/fragment/KS91_K562_hg38_ASTARRseq_Input_rep5.GATA1.unstranded.dedups.bed\n",
      "KS91_K562_hg38_ASTARRseq_Input_rep5.GATA1.unstranded.dedups.perbase.tsv.gz\n",
      "/gpfs/fs1/data/reddylab/Kuei/out/proj_encode_fcc/KS91_K562_ASTARRseq/fragment/KS91_K562_hg38_ASTARRseq_Input_rep6.GATA1.unstranded.dedups.bed\n",
      "KS91_K562_hg38_ASTARRseq_Input_rep6.GATA1.unstranded.dedups.perbase.tsv.gz\n",
      "/gpfs/fs1/data/reddylab/Kuei/out/proj_encode_fcc/KS91_K562_ASTARRseq/fragment/KS91_K562_hg38_ASTARRseq_Output_rep1.GATA1.unstranded.bed\n",
      "KS91_K562_hg38_ASTARRseq_Output_rep1.GATA1.unstranded.perbase.tsv.gz\n",
      "/gpfs/fs1/data/reddylab/Kuei/out/proj_encode_fcc/KS91_K562_ASTARRseq/fragment/KS91_K562_hg38_ASTARRseq_Output_rep2.GATA1.unstranded.bed\n",
      "KS91_K562_hg38_ASTARRseq_Output_rep2.GATA1.unstranded.perbase.tsv.gz\n",
      "/gpfs/fs1/data/reddylab/Kuei/out/proj_encode_fcc/KS91_K562_ASTARRseq/fragment/KS91_K562_hg38_ASTARRseq_Output_rep3.GATA1.unstranded.bed\n",
      "KS91_K562_hg38_ASTARRseq_Output_rep3.GATA1.unstranded.perbase.tsv.gz\n",
      "/gpfs/fs1/data/reddylab/Kuei/out/proj_encode_fcc/KS91_K562_ASTARRseq/fragment/KS91_K562_hg38_ASTARRseq_Output_rep4.GATA1.unstranded.bed\n",
      "KS91_K562_hg38_ASTARRseq_Output_rep4.GATA1.unstranded.perbase.tsv.gz\n"
     ]
    }
   ],
   "source": [
    "### KS91_K562_hg38_ASTARRseq_Output_rep1.GATA1.unstranded.bed\n",
    "### KS91_K562_hg38_ASTARRseq_Output_rep1.GATA1.unstranded.perbase.tsv.gz\n",
    "\n",
    "FP_BEDS=($(ls ${FD_FRG}/KS91*))\n",
    "for FP_INP in ${FP_BEDS[@]}; do\n",
    "    FN_INP=$(basename ${FP_INP})\n",
    "    PREFIX=${FN_INP%.*}\n",
    "    FN_OUT=${PREFIX}.perbase.tsv.gz\n",
    "    echo ${FP_INP}\n",
    "    echo ${FN_OUT}\n",
    "done"
   ]
  },
  {
   "cell_type": "code",
   "execution_count": 5,
   "id": "217fd3b5-a386-4921-8463-279dcd847dba",
   "metadata": {},
   "outputs": [
    {
     "name": "stdout",
     "output_type": "stream",
     "text": [
      "KS91_K562_hg38_ASTARRseq_Input_rep1.GATA1.unstranded.dedups.bed\n",
      "KS91_K562_hg38_ASTARRseq_Input_rep4.GATA1.unstranded.dedups.bed\n"
     ]
    }
   ],
   "source": [
    "FN_BEDS=($(ls ${FD_FRG}))\n",
    "\n",
    "IDX=0\n",
    "FN_BED=${FN_BEDS[${IDX}]}\n",
    "echo ${FN_BED}\n",
    "\n",
    "IDX=3\n",
    "FN_BED=${FN_BEDS[${IDX}]}\n",
    "echo ${FN_BED}"
   ]
  },
  {
   "cell_type": "markdown",
   "id": "95901413-d9b2-45fb-8cd9-50619af2fd36",
   "metadata": {},
   "source": [
    "## RUN"
   ]
  },
  {
   "cell_type": "code",
   "execution_count": 83,
   "id": "1eb50c4f-b730-4245-964e-9ba96558ef56",
   "metadata": {},
   "outputs": [],
   "source": [
    "TAB=\"$(printf '\\t')\"\n",
    "cat > ${FD_COV}/region_GATA1.bed << EOF\n",
    "chrX${TAB}47786400${TAB}49786750\n",
    "EOF"
   ]
  },
  {
   "cell_type": "code",
   "execution_count": 84,
   "id": "27fc355d-344a-446b-97d1-c69bfc5921cc",
   "metadata": {},
   "outputs": [
    {
     "name": "stdout",
     "output_type": "stream",
     "text": [
      "Submitted batch job 27843882\n"
     ]
    }
   ],
   "source": [
    "sbatch -p ${NODE} \\\n",
    "    --mem 8G \\\n",
    "    --array 0-9 \\\n",
    "    -o ${FD_LOG}/ASTARR_coverage_gata1.%a.txt \\\n",
    "    <<'EOF'\n",
    "#!/bin/bash\n",
    "### set directories & global variables\n",
    "source ../config_duke.sh\n",
    "\n",
    "### set input and output\n",
    "FD_FRG=${FD_RES}/KS91_K562_ASTARRseq/fragment\n",
    "FD_COV=${FD_RES}/KS91_K562_ASTARRseq/coverage\n",
    "\n",
    "FP_BEDS=($(ls ${FD_FRG}/KS91*))\n",
    "FP_INP=${FP_BEDS[${SLURM_ARRAY_TASK_ID}]}\n",
    "FN_INP=$(basename ${FP_INP})\n",
    "\n",
    "PREFIX=${FN_INP%.*}\n",
    "FN_OUT=${PREFIX}.perbase.tsv.gz\n",
    "FP_OUT=${FD_COV}/${FN_OUT}\n",
    "\n",
    "### print start message\n",
    "timer_start=`date +%s`\n",
    "echo \"Slurm Array Index: \" ${SLURM_ARRAY_TASK_ID}\n",
    "echo \"Time Stamp:        \" $(date +\"%m-%d-%y+%T\")\n",
    "echo \"Input:             \" ${FP_INP}\n",
    "echo \"Output:            \" ${FP_OUT}\n",
    "echo\n",
    "\n",
    "### show first few lines of input\n",
    "echo ${FP_INP}\n",
    "cat ${FP_INP} | head -3\n",
    "echo\n",
    "\n",
    "### execute\n",
    "bedtools coverage \\\n",
    "    -a ${FD_COV}/region_GATA1.bed \\\n",
    "    -b ${FP_INP} \\\n",
    "    -d  |\\\n",
    "    awk -v OFS='\\t' {'print $1, $2+$4-1, $5'} |\\\n",
    "    gzip -c \\\n",
    "    > ${FP_OUT}\n",
    "\n",
    "### show first few lines of output\n",
    "echo ${FP_OUT}\n",
    "zcat ${FP_OUT} | head -3\n",
    "echo\n",
    "\n",
    "### print end message\n",
    "timer=`date +%s`\n",
    "runtime=$(echo \"${timer} - ${timer_start}\" | bc -l)\n",
    "echo\n",
    "echo 'Done!'\n",
    "echo \"Run Time: $(displaytime ${runtime})\"\n",
    "\n",
    "EOF"
   ]
  },
  {
   "cell_type": "code",
   "execution_count": 85,
   "id": "e1d576de-4707-41eb-b49d-90b96d559d1d",
   "metadata": {},
   "outputs": [
    {
     "name": "stdout",
     "output_type": "stream",
     "text": [
      "Slurm Array Index:  0\n",
      "Time Stamp:         03-21-22+14:26:24\n",
      "Input:              /gpfs/fs1/data/reddylab/Kuei/out/proj_encode_fcc/KS91_K562_ASTARRseq/fragment/KS91_K562_hg38_ASTARRseq_Input_rep1.GATA1.unstranded.dedups.bed\n",
      "Output:             /gpfs/fs1/data/reddylab/Kuei/out/proj_encode_fcc/KS91_K562_ASTARRseq/coverage/KS91_K562_hg38_ASTARRseq_Input_rep1.GATA1.unstranded.dedups.perbase.tsv.gz\n",
      "\n",
      "/gpfs/fs1/data/reddylab/Kuei/out/proj_encode_fcc/KS91_K562_ASTARRseq/fragment/KS91_K562_hg38_ASTARRseq_Input_rep1.GATA1.unstranded.dedups.bed\n",
      "chrX\t47787165\t47787363\tchrX_47787165_47787363\n",
      "chrX\t47787557\t47787773\tchrX_47787557_47787773\n",
      "chrX\t47787593\t47787783\tchrX_47787593_47787783\n",
      "\n",
      "/gpfs/fs1/data/reddylab/Kuei/out/proj_encode_fcc/KS91_K562_ASTARRseq/coverage/KS91_K562_hg38_ASTARRseq_Input_rep1.GATA1.unstranded.dedups.perbase.tsv.gz\n",
      "chrX\t47786400\t0\n",
      "chrX\t47786401\t0\n",
      "chrX\t47786402\t0\n",
      "\n",
      "\n",
      "Done!\n",
      "Run Time: 5 seconds\n"
     ]
    }
   ],
   "source": [
    "cat ${FD_LOG}/ASTARR_coverage_gata1.0.txt"
   ]
  },
  {
   "cell_type": "markdown",
   "id": "b853047b-a683-4794-86bd-a1493b8c39bf",
   "metadata": {},
   "source": [
    "## Check results"
   ]
  },
  {
   "cell_type": "code",
   "execution_count": 33,
   "id": "c0f72cf6-3dd2-4ae7-a868-846e49236c98",
   "metadata": {},
   "outputs": [
    {
     "name": "stdout",
     "output_type": "stream",
     "text": [
      "chrX\t47787189\t47787363\tchrX_47787189_47787363\n",
      "chrX\t47787189\t47787363\tchrX_47787189_47787363\n",
      "chrX\t47787189\t47787363\tchrX_47787189_47787363\n",
      "chrX\t47787189\t47787363\tchrX_47787189_47787363\n",
      "chrX\t47787189\t47787363\tchrX_47787189_47787363\n",
      "chrX\t47787189\t47787363\tchrX_47787189_47787363\n",
      "chrX\t47788545\t47789154\tchrX_47788545_47789154\n",
      "chrX\t47788545\t47789154\tchrX_47788545_47789154\n",
      "chrX\t47788545\t47789154\tchrX_47788545_47789154\n",
      "chrX\t47788545\t47789154\tchrX_47788545_47789154\n",
      "chrX\t47788545\t47789154\tchrX_47788545_47789154\n",
      "chrX\t47788545\t47789154\tchrX_47788545_47789154\n",
      "chrX\t47788659\t47788978\tchrX_47788659_47788978\n",
      "chrX\t47788659\t47788978\tchrX_47788659_47788978\n",
      "chrX\t47788659\t47788978\tchrX_47788659_47788978\n",
      "chrX\t47788659\t47788978\tchrX_47788659_47788978\n",
      "chrX\t47788659\t47788979\tchrX_47788659_47788979\n",
      "chrX\t47788659\t47788979\tchrX_47788659_47788979\n",
      "chrX\t47788659\t47788979\tchrX_47788659_47788979\n",
      "chrX\t47788659\t47788979\tchrX_47788659_47788979\n",
      "cat: write error: Broken pipe\n"
     ]
    }
   ],
   "source": [
    "cat ${FD_FRG}/KS91_K562_hg38_ASTARRseq_Output_rep1.GATA1.unstranded.bed | head -n 20"
   ]
  },
  {
   "cell_type": "code",
   "execution_count": 25,
   "id": "3a725b28-d5fb-41b5-a15a-0d53222add91",
   "metadata": {},
   "outputs": [
    {
     "name": "stdout",
     "output_type": "stream",
     "text": [
      "\n",
      "gzip: chrX\t47787180\t0\n",
      "chrX\t47787181\t0\n",
      "stdout: Broken pipe\n",
      "chrX\t47787182\t0\n",
      "chrX\t47787183\t0\n",
      "chrX\t47787184\t0\n",
      "chrX\t47787185\t0\n",
      "chrX\t47787186\t0\n",
      "chrX\t47787187\t0\n",
      "chrX\t47787188\t0\n",
      "chrX\t47787189\t6\n",
      "chrX\t47787190\t6\n",
      "chrX\t47787191\t6\n",
      "chrX\t47787192\t6\n",
      "chrX\t47787193\t6\n",
      "chrX\t47787194\t6\n",
      "chrX\t47787195\t6\n",
      "chrX\t47787196\t6\n",
      "chrX\t47787197\t6\n",
      "chrX\t47787198\t6\n",
      "chrX\t47787199\t6\n"
     ]
    }
   ],
   "source": [
    "zcat ${FD_COV}/KS91_K562_hg38_ASTARRseq_Output_rep1.GATA1.unstranded.perbase.tsv.gz |\\\n",
    "    head -n 800 |\\\n",
    "    tail -n 20"
   ]
  },
  {
   "cell_type": "code",
   "execution_count": 34,
   "id": "bfab8293-8a25-47a1-8daa-dfa43484101e",
   "metadata": {},
   "outputs": [
    {
     "name": "stdout",
     "output_type": "stream",
     "text": [
      "\n",
      "gzip: chrX\t47788650\t6\n",
      "chrX\t47788651\t6\n",
      "stdout: Broken pipe\n",
      "chrX\t47788652\t6\n",
      "chrX\t47788653\t6\n",
      "chrX\t47788654\t6\n",
      "chrX\t47788655\t6\n",
      "chrX\t47788656\t6\n",
      "chrX\t47788657\t6\n",
      "chrX\t47788658\t6\n",
      "chrX\t47788659\t28\n",
      "chrX\t47788660\t29\n",
      "chrX\t47788661\t29\n",
      "chrX\t47788662\t30\n",
      "chrX\t47788663\t30\n",
      "chrX\t47788664\t30\n",
      "chrX\t47788665\t30\n",
      "chrX\t47788666\t30\n",
      "chrX\t47788667\t30\n",
      "chrX\t47788668\t30\n",
      "chrX\t47788669\t30\n"
     ]
    }
   ],
   "source": [
    "zcat ${FD_COV}/KS91_K562_hg38_ASTARRseq_Output_rep1.GATA1.unstranded.perbase.tsv.gz |\\\n",
    "    head -n 2270 |\\\n",
    "    tail -n 20"
   ]
  },
  {
   "cell_type": "code",
   "execution_count": null,
   "id": "8020d550-d625-4c1c-973b-54cd2d525feb",
   "metadata": {},
   "outputs": [],
   "source": []
  }
 ],
 "metadata": {
  "kernelspec": {
   "display_name": "Bash",
   "language": "bash",
   "name": "bash"
  },
  "language_info": {
   "codemirror_mode": "shell",
   "file_extension": ".sh",
   "mimetype": "text/x-sh",
   "name": "bash"
  }
 },
 "nbformat": 4,
 "nbformat_minor": 5
}
