{
 "cells": [
  {
   "cell_type": "code",
   "execution_count": 10,
   "metadata": {},
   "outputs": [
    {
     "name": "stdout",
     "output_type": "stream",
     "text": [
      "You are in singularity_proj_encode_fcc \n",
      "BASE DIRECTORY:     /mount/work \n",
      "PATH OF SOURCE:     /mount/work/source \n",
      "PATH OF EXECUTABLE: /mount/work/exe \n",
      "PATH OF ANNOTATION: /mount/work/annotation \n",
      "PATH OF PROJECT:    /mount/project \n",
      "PATH OF RESULTS:    /mount/work/out/proj_encode_fcc \n"
     ]
    }
   ],
   "source": [
    "suppressMessages(source(\"../config_sing.R\"))"
   ]
  },
  {
   "cell_type": "code",
   "execution_count": 11,
   "metadata": {},
   "outputs": [
    {
     "data": {
      "text/html": [
       "<style>\n",
       ".list-inline {list-style: none; margin:0; padding: 0}\n",
       ".list-inline>li {display: inline-block}\n",
       ".list-inline>li:not(:last-child)::after {content: \"\\00b7\"; padding: 0 .5ex}\n",
       "</style>\n",
       "<ol class=list-inline><li>'KS91_K562_ASTARRseq'</li><li>'log'</li><li>'source'</li><li>'Tewhey_K562_TileMPRA'</li></ol>\n"
      ],
      "text/latex": [
       "\\begin{enumerate*}\n",
       "\\item 'KS91\\_K562\\_ASTARRseq'\n",
       "\\item 'log'\n",
       "\\item 'source'\n",
       "\\item 'Tewhey\\_K562\\_TileMPRA'\n",
       "\\end{enumerate*}\n"
      ],
      "text/markdown": [
       "1. 'KS91_K562_ASTARRseq'\n",
       "2. 'log'\n",
       "3. 'source'\n",
       "4. 'Tewhey_K562_TileMPRA'\n",
       "\n",
       "\n"
      ],
      "text/plain": [
       "[1] \"KS91_K562_ASTARRseq\"  \"log\"                  \"source\"              \n",
       "[4] \"Tewhey_K562_TileMPRA\""
      ]
     },
     "metadata": {},
     "output_type": "display_data"
    }
   ],
   "source": [
    "dir(FD_RES)"
   ]
  },
  {
   "cell_type": "code",
   "execution_count": 12,
   "metadata": {},
   "outputs": [
    {
     "data": {
      "text/html": [
       "'Tile_K562_20210130.GATA1.unstranded.bed'"
      ],
      "text/latex": [
       "'Tile\\_K562\\_20210130.GATA1.unstranded.bed'"
      ],
      "text/markdown": [
       "'Tile_K562_20210130.GATA1.unstranded.bed'"
      ],
      "text/plain": [
       "[1] \"Tile_K562_20210130.GATA1.unstranded.bed\""
      ]
     },
     "metadata": {},
     "output_type": "display_data"
    }
   ],
   "source": [
    "fdiry = file.path(FD_RES, \"Tewhey_K562_TileMPRA\", \"count\")\n",
    "dir(fdiry)"
   ]
  },
  {
   "cell_type": "code",
   "execution_count": 13,
   "metadata": {},
   "outputs": [
    {
     "name": "stderr",
     "output_type": "stream",
     "text": [
      "\u001b[1mRows: \u001b[22m\u001b[34m52312\u001b[39m \u001b[1mColumns: \u001b[22m\u001b[34m12\u001b[39m\n",
      "\u001b[36m──\u001b[39m \u001b[1mColumn specification\u001b[22m \u001b[36m──────────────────────────────────────────────────────────────────────────────────\u001b[39m\n",
      "\u001b[1mDelimiter:\u001b[22m \"\\t\"\n",
      "\u001b[31mchr\u001b[39m (4): chrom, ID, Score, Strand\n",
      "\u001b[32mdbl\u001b[39m (8): Start, End, log2fc, Input_Count, Output_Count, log10pval, log10fdr,...\n",
      "\n",
      "\u001b[36mℹ\u001b[39m Use `spec()` to retrieve the full column specification for this data.\n",
      "\u001b[36mℹ\u001b[39m Specify the column types or set `show_col_types = FALSE` to quiet this message.\n"
     ]
    },
    {
     "data": {
      "text/html": [
       "<table class=\"dataframe\">\n",
       "<caption>A tibble: 6 × 12</caption>\n",
       "<thead>\n",
       "\t<tr><th scope=col>chrom</th><th scope=col>Start</th><th scope=col>End</th><th scope=col>ID</th><th scope=col>Score</th><th scope=col>Strand</th><th scope=col>log2fc</th><th scope=col>Input_Count</th><th scope=col>Output_Count</th><th scope=col>log10pval</th><th scope=col>log10fdr</th><th scope=col>lfc-se</th></tr>\n",
       "\t<tr><th scope=col>&lt;chr&gt;</th><th scope=col>&lt;dbl&gt;</th><th scope=col>&lt;dbl&gt;</th><th scope=col>&lt;chr&gt;</th><th scope=col>&lt;chr&gt;</th><th scope=col>&lt;chr&gt;</th><th scope=col>&lt;dbl&gt;</th><th scope=col>&lt;dbl&gt;</th><th scope=col>&lt;dbl&gt;</th><th scope=col>&lt;dbl&gt;</th><th scope=col>&lt;dbl&gt;</th><th scope=col>&lt;dbl&gt;</th></tr>\n",
       "</thead>\n",
       "<tbody>\n",
       "\t<tr><td>chrX</td><td>47786401</td><td>47786600</td><td>X:47786401-47786600</td><td>.</td><td>+</td><td> 2.30593934</td><td>2117.787</td><td>10474.869</td><td>112.1126526</td><td>110.93113079</td><td>0.10214790</td></tr>\n",
       "\t<tr><td>chrX</td><td>47786451</td><td>47786650</td><td>X:47786451-47786650</td><td>.</td><td>+</td><td> 0.78305606</td><td>1386.007</td><td> 2387.119</td><td> 11.3173884</td><td> 10.64251685</td><td>0.11330705</td></tr>\n",
       "\t<tr><td>chrX</td><td>47786501</td><td>47786700</td><td>X:47786501-47786700</td><td>.</td><td>+</td><td>-0.12873196</td><td>1955.626</td><td> 1788.236</td><td>  0.8450697</td><td>  0.62872262</td><td>0.08785968</td></tr>\n",
       "\t<tr><td>chrX</td><td>47786551</td><td>47786750</td><td>X:47786551-47786750</td><td>.</td><td>+</td><td> 0.58829515</td><td>2388.997</td><td> 3591.264</td><td> 11.2404554</td><td> 10.56667887</td><td>0.08543661</td></tr>\n",
       "\t<tr><td>chrX</td><td>47786601</td><td>47786800</td><td>X:47786601-47786800</td><td>.</td><td>+</td><td> 0.06670014</td><td>2102.916</td><td> 2202.385</td><td>  0.3095900</td><td>  0.21047015</td><td>0.09667741</td></tr>\n",
       "\t<tr><td>chrX</td><td>47786651</td><td>47786850</td><td>X:47786651-47786850</td><td>.</td><td>+</td><td>-0.02967703</td><td>1571.259</td><td> 1537.475</td><td>  0.1009399</td><td>  0.06453099</td><td>0.11287406</td></tr>\n",
       "</tbody>\n",
       "</table>\n"
      ],
      "text/latex": [
       "A tibble: 6 × 12\n",
       "\\begin{tabular}{llllllllllll}\n",
       " chrom & Start & End & ID & Score & Strand & log2fc & Input\\_Count & Output\\_Count & log10pval & log10fdr & lfc-se\\\\\n",
       " <chr> & <dbl> & <dbl> & <chr> & <chr> & <chr> & <dbl> & <dbl> & <dbl> & <dbl> & <dbl> & <dbl>\\\\\n",
       "\\hline\n",
       "\t chrX & 47786401 & 47786600 & X:47786401-47786600 & . & + &  2.30593934 & 2117.787 & 10474.869 & 112.1126526 & 110.93113079 & 0.10214790\\\\\n",
       "\t chrX & 47786451 & 47786650 & X:47786451-47786650 & . & + &  0.78305606 & 1386.007 &  2387.119 &  11.3173884 &  10.64251685 & 0.11330705\\\\\n",
       "\t chrX & 47786501 & 47786700 & X:47786501-47786700 & . & + & -0.12873196 & 1955.626 &  1788.236 &   0.8450697 &   0.62872262 & 0.08785968\\\\\n",
       "\t chrX & 47786551 & 47786750 & X:47786551-47786750 & . & + &  0.58829515 & 2388.997 &  3591.264 &  11.2404554 &  10.56667887 & 0.08543661\\\\\n",
       "\t chrX & 47786601 & 47786800 & X:47786601-47786800 & . & + &  0.06670014 & 2102.916 &  2202.385 &   0.3095900 &   0.21047015 & 0.09667741\\\\\n",
       "\t chrX & 47786651 & 47786850 & X:47786651-47786850 & . & + & -0.02967703 & 1571.259 &  1537.475 &   0.1009399 &   0.06453099 & 0.11287406\\\\\n",
       "\\end{tabular}\n"
      ],
      "text/markdown": [
       "\n",
       "A tibble: 6 × 12\n",
       "\n",
       "| chrom &lt;chr&gt; | Start &lt;dbl&gt; | End &lt;dbl&gt; | ID &lt;chr&gt; | Score &lt;chr&gt; | Strand &lt;chr&gt; | log2fc &lt;dbl&gt; | Input_Count &lt;dbl&gt; | Output_Count &lt;dbl&gt; | log10pval &lt;dbl&gt; | log10fdr &lt;dbl&gt; | lfc-se &lt;dbl&gt; |\n",
       "|---|---|---|---|---|---|---|---|---|---|---|---|\n",
       "| chrX | 47786401 | 47786600 | X:47786401-47786600 | . | + |  2.30593934 | 2117.787 | 10474.869 | 112.1126526 | 110.93113079 | 0.10214790 |\n",
       "| chrX | 47786451 | 47786650 | X:47786451-47786650 | . | + |  0.78305606 | 1386.007 |  2387.119 |  11.3173884 |  10.64251685 | 0.11330705 |\n",
       "| chrX | 47786501 | 47786700 | X:47786501-47786700 | . | + | -0.12873196 | 1955.626 |  1788.236 |   0.8450697 |   0.62872262 | 0.08785968 |\n",
       "| chrX | 47786551 | 47786750 | X:47786551-47786750 | . | + |  0.58829515 | 2388.997 |  3591.264 |  11.2404554 |  10.56667887 | 0.08543661 |\n",
       "| chrX | 47786601 | 47786800 | X:47786601-47786800 | . | + |  0.06670014 | 2102.916 |  2202.385 |   0.3095900 |   0.21047015 | 0.09667741 |\n",
       "| chrX | 47786651 | 47786850 | X:47786651-47786850 | . | + | -0.02967703 | 1571.259 |  1537.475 |   0.1009399 |   0.06453099 | 0.11287406 |\n",
       "\n"
      ],
      "text/plain": [
       "  chrom Start    End      ID                  Score Strand log2fc     \n",
       "1 chrX  47786401 47786600 X:47786401-47786600 .     +       2.30593934\n",
       "2 chrX  47786451 47786650 X:47786451-47786650 .     +       0.78305606\n",
       "3 chrX  47786501 47786700 X:47786501-47786700 .     +      -0.12873196\n",
       "4 chrX  47786551 47786750 X:47786551-47786750 .     +       0.58829515\n",
       "5 chrX  47786601 47786800 X:47786601-47786800 .     +       0.06670014\n",
       "6 chrX  47786651 47786850 X:47786651-47786850 .     +      -0.02967703\n",
       "  Input_Count Output_Count log10pval   log10fdr     lfc-se    \n",
       "1 2117.787    10474.869    112.1126526 110.93113079 0.10214790\n",
       "2 1386.007     2387.119     11.3173884  10.64251685 0.11330705\n",
       "3 1955.626     1788.236      0.8450697   0.62872262 0.08785968\n",
       "4 2388.997     3591.264     11.2404554  10.56667887 0.08543661\n",
       "5 2102.916     2202.385      0.3095900   0.21047015 0.09667741\n",
       "6 1571.259     1537.475      0.1009399   0.06453099 0.11287406"
      ]
     },
     "metadata": {},
     "output_type": "display_data"
    }
   ],
   "source": [
    "fdiry = file.path(FD_RES, \"Tewhey_K562_TileMPRA\", \"count\")\n",
    "fname = \"Tile_K562_20210130.GATA1.unstranded.bed\"\n",
    "fpath = file.path(fdiry, fname)\n",
    "\n",
    "cnames = c(\"chrom\", \"Start\", \"End\", \"ID\", \"Score\", \"Strand\", \n",
    "           \"log2fc\", \"Input_Count\", \"Output_Count\", \n",
    "           \"log10pval\", \"log10fdr\", \"lfc-se\")\n",
    "\n",
    "dat_mpra = read_tsv(fpath, col_names = cnames)\n",
    "head(dat_mpra)"
   ]
  },
  {
   "cell_type": "code",
   "execution_count": 25,
   "metadata": {},
   "outputs": [
    {
     "data": {
      "text/html": [
       "<table class=\"dataframe\">\n",
       "<caption>A tibble: 6 × 13</caption>\n",
       "<thead>\n",
       "\t<tr><th scope=col>chrom</th><th scope=col>Start</th><th scope=col>End</th><th scope=col>ID</th><th scope=col>Score</th><th scope=col>Strand</th><th scope=col>log2fc</th><th scope=col>Input_Count</th><th scope=col>Output_Count</th><th scope=col>log10pval</th><th scope=col>log10fdr</th><th scope=col>lfc-se</th><th scope=col>Loc</th></tr>\n",
       "\t<tr><th scope=col>&lt;chr&gt;</th><th scope=col>&lt;dbl&gt;</th><th scope=col>&lt;dbl&gt;</th><th scope=col>&lt;chr&gt;</th><th scope=col>&lt;chr&gt;</th><th scope=col>&lt;chr&gt;</th><th scope=col>&lt;dbl&gt;</th><th scope=col>&lt;dbl&gt;</th><th scope=col>&lt;dbl&gt;</th><th scope=col>&lt;dbl&gt;</th><th scope=col>&lt;dbl&gt;</th><th scope=col>&lt;dbl&gt;</th><th scope=col>&lt;dbl&gt;</th></tr>\n",
       "</thead>\n",
       "<tbody>\n",
       "\t<tr><td>chrX</td><td>47786401</td><td>47786600</td><td>X:47786401-47786600</td><td>.</td><td>+</td><td> 2.30593934</td><td>2117.7868</td><td>10474.8687</td><td>112.11265262</td><td>110.93113079</td><td>0.10214790</td><td>47786500</td></tr>\n",
       "\t<tr><td>chrX</td><td>47786501</td><td>47786700</td><td>X:47786501-47786700</td><td>.</td><td>+</td><td>-0.12873196</td><td>1955.6255</td><td> 1788.2361</td><td>  0.84506966</td><td>  0.62872262</td><td>0.08785968</td><td>47786600</td></tr>\n",
       "\t<tr><td>chrX</td><td>47786601</td><td>47786800</td><td>X:47786601-47786800</td><td>.</td><td>+</td><td> 0.06670014</td><td>2102.9163</td><td> 2202.3845</td><td>  0.30958996</td><td>  0.21047015</td><td>0.09667741</td><td>47786700</td></tr>\n",
       "\t<tr><td>chrX</td><td>47786701</td><td>47786900</td><td>X:47786701-47786900</td><td>.</td><td>+</td><td>-0.14075229</td><td>1203.4858</td><td> 1091.8438</td><td>  0.82510834</td><td>  0.61223799</td><td>0.09767719</td><td>47786800</td></tr>\n",
       "\t<tr><td>chrX</td><td>47786801</td><td>47787000</td><td>X:47786801-47787000</td><td>.</td><td>+</td><td> 0.03915234</td><td> 579.5989</td><td>  594.3306</td><td>  0.09901775</td><td>  0.06322522</td><td>0.15154009</td><td>47786900</td></tr>\n",
       "\t<tr><td>chrX</td><td>47786901</td><td>47787100</td><td>X:47786901-47787100</td><td>.</td><td>+</td><td>-0.05988051</td><td>1491.4411</td><td> 1432.4449</td><td>  0.26115626</td><td>  0.17521033</td><td>0.09969449</td><td>47787000</td></tr>\n",
       "</tbody>\n",
       "</table>\n"
      ],
      "text/latex": [
       "A tibble: 6 × 13\n",
       "\\begin{tabular}{lllllllllllll}\n",
       " chrom & Start & End & ID & Score & Strand & log2fc & Input\\_Count & Output\\_Count & log10pval & log10fdr & lfc-se & Loc\\\\\n",
       " <chr> & <dbl> & <dbl> & <chr> & <chr> & <chr> & <dbl> & <dbl> & <dbl> & <dbl> & <dbl> & <dbl> & <dbl>\\\\\n",
       "\\hline\n",
       "\t chrX & 47786401 & 47786600 & X:47786401-47786600 & . & + &  2.30593934 & 2117.7868 & 10474.8687 & 112.11265262 & 110.93113079 & 0.10214790 & 47786500\\\\\n",
       "\t chrX & 47786501 & 47786700 & X:47786501-47786700 & . & + & -0.12873196 & 1955.6255 &  1788.2361 &   0.84506966 &   0.62872262 & 0.08785968 & 47786600\\\\\n",
       "\t chrX & 47786601 & 47786800 & X:47786601-47786800 & . & + &  0.06670014 & 2102.9163 &  2202.3845 &   0.30958996 &   0.21047015 & 0.09667741 & 47786700\\\\\n",
       "\t chrX & 47786701 & 47786900 & X:47786701-47786900 & . & + & -0.14075229 & 1203.4858 &  1091.8438 &   0.82510834 &   0.61223799 & 0.09767719 & 47786800\\\\\n",
       "\t chrX & 47786801 & 47787000 & X:47786801-47787000 & . & + &  0.03915234 &  579.5989 &   594.3306 &   0.09901775 &   0.06322522 & 0.15154009 & 47786900\\\\\n",
       "\t chrX & 47786901 & 47787100 & X:47786901-47787100 & . & + & -0.05988051 & 1491.4411 &  1432.4449 &   0.26115626 &   0.17521033 & 0.09969449 & 47787000\\\\\n",
       "\\end{tabular}\n"
      ],
      "text/markdown": [
       "\n",
       "A tibble: 6 × 13\n",
       "\n",
       "| chrom &lt;chr&gt; | Start &lt;dbl&gt; | End &lt;dbl&gt; | ID &lt;chr&gt; | Score &lt;chr&gt; | Strand &lt;chr&gt; | log2fc &lt;dbl&gt; | Input_Count &lt;dbl&gt; | Output_Count &lt;dbl&gt; | log10pval &lt;dbl&gt; | log10fdr &lt;dbl&gt; | lfc-se &lt;dbl&gt; | Loc &lt;dbl&gt; |\n",
       "|---|---|---|---|---|---|---|---|---|---|---|---|---|\n",
       "| chrX | 47786401 | 47786600 | X:47786401-47786600 | . | + |  2.30593934 | 2117.7868 | 10474.8687 | 112.11265262 | 110.93113079 | 0.10214790 | 47786500 |\n",
       "| chrX | 47786501 | 47786700 | X:47786501-47786700 | . | + | -0.12873196 | 1955.6255 |  1788.2361 |   0.84506966 |   0.62872262 | 0.08785968 | 47786600 |\n",
       "| chrX | 47786601 | 47786800 | X:47786601-47786800 | . | + |  0.06670014 | 2102.9163 |  2202.3845 |   0.30958996 |   0.21047015 | 0.09667741 | 47786700 |\n",
       "| chrX | 47786701 | 47786900 | X:47786701-47786900 | . | + | -0.14075229 | 1203.4858 |  1091.8438 |   0.82510834 |   0.61223799 | 0.09767719 | 47786800 |\n",
       "| chrX | 47786801 | 47787000 | X:47786801-47787000 | . | + |  0.03915234 |  579.5989 |   594.3306 |   0.09901775 |   0.06322522 | 0.15154009 | 47786900 |\n",
       "| chrX | 47786901 | 47787100 | X:47786901-47787100 | . | + | -0.05988051 | 1491.4411 |  1432.4449 |   0.26115626 |   0.17521033 | 0.09969449 | 47787000 |\n",
       "\n"
      ],
      "text/plain": [
       "  chrom Start    End      ID                  Score Strand log2fc     \n",
       "1 chrX  47786401 47786600 X:47786401-47786600 .     +       2.30593934\n",
       "2 chrX  47786501 47786700 X:47786501-47786700 .     +      -0.12873196\n",
       "3 chrX  47786601 47786800 X:47786601-47786800 .     +       0.06670014\n",
       "4 chrX  47786701 47786900 X:47786701-47786900 .     +      -0.14075229\n",
       "5 chrX  47786801 47787000 X:47786801-47787000 .     +       0.03915234\n",
       "6 chrX  47786901 47787100 X:47786901-47787100 .     +      -0.05988051\n",
       "  Input_Count Output_Count log10pval    log10fdr     lfc-se     Loc     \n",
       "1 2117.7868   10474.8687   112.11265262 110.93113079 0.10214790 47786500\n",
       "2 1955.6255    1788.2361     0.84506966   0.62872262 0.08785968 47786600\n",
       "3 2102.9163    2202.3845     0.30958996   0.21047015 0.09667741 47786700\n",
       "4 1203.4858    1091.8438     0.82510834   0.61223799 0.09767719 47786800\n",
       "5  579.5989     594.3306     0.09901775   0.06322522 0.15154009 47786900\n",
       "6 1491.4411    1432.4449     0.26115626   0.17521033 0.09969449 47787000"
      ]
     },
     "metadata": {},
     "output_type": "display_data"
    }
   ],
   "source": [
    "dat = dat_mpra\n",
    "dat = dat %>% mutate(Loc = (Start + End) / 2)\n",
    "\n",
    "n_rows = nrow(dat)\n",
    "n_pick = 2\n",
    "\n",
    "idx = rep(1:n_pick, n_rows / n_pick + 1)\n",
    "idx = idx[1:n_rows]\n",
    "idx = (idx == 1)\n",
    "\n",
    "dat = dat[idx,]\n",
    "head(dat)"
   ]
  },
  {
   "cell_type": "code",
   "execution_count": 67,
   "metadata": {},
   "outputs": [],
   "source": [
    "dat = dat_mpra\n",
    "dat = dat %>% mutate(Loc = (Start + End) / 2)\n",
    "\n",
    "gpt = ggplot(dat, aes(x=Loc, y=exp(log2fc))) + \n",
    "    geom_line(size=0.05) + \n",
    "    geom_point(size=0.1) + \n",
    "    theme_cowplot()"
   ]
  },
  {
   "cell_type": "code",
   "execution_count": 68,
   "metadata": {},
   "outputs": [
    {
     "data": {
      "image/png": "[encoded data removed]",
      "text/plain": [
       "plot without title"
      ]
     },
     "metadata": {
      "image/png": {
       "height": 420,
       "width": 900
      }
     },
     "output_type": "display_data"
    }
   ],
   "source": [
    "options(repr.plot.width=15, repr.plot.heigth=4)\n",
    "print(gpt)"
   ]
  },
  {
   "cell_type": "code",
   "execution_count": 76,
   "metadata": {},
   "outputs": [
    {
     "name": "stderr",
     "output_type": "stream",
     "text": [
      "Warning message:\n",
      "“Removed 52267 rows containing missing values (geom_point).”\n"
     ]
    },
    {
     "data": {
      "image/png": "[encoded data removed]",
      "text/plain": [
       "plot without title"
      ]
     },
     "metadata": {
      "image/png": {
       "height": 420,
       "width": 900
      }
     },
     "output_type": "display_data"
    }
   ],
   "source": [
    "dat = dat_mpra\n",
    "dat = dat %>% mutate(Loc = (Start + End) / 2)\n",
    "\n",
    "gpt = ggplot(dat, aes(x=Loc, y=log2fc)) + \n",
    "    geom_point(size=0.1) + \n",
    "    theme_cowplot() + xlim(49347500, 49530000)\n",
    "\n",
    "options(repr.plot.width=15, repr.plot.heigth=4)\n",
    "print(gpt)"
   ]
  },
  {
   "cell_type": "code",
   "execution_count": 70,
   "metadata": {},
   "outputs": [
    {
     "data": {
      "text/html": [
       "<table class=\"dataframe\">\n",
       "<caption>A tibble: 15 × 13</caption>\n",
       "<thead>\n",
       "\t<tr><th scope=col>chrom</th><th scope=col>Start</th><th scope=col>End</th><th scope=col>ID</th><th scope=col>Score</th><th scope=col>Strand</th><th scope=col>log2fc</th><th scope=col>Input_Count</th><th scope=col>Output_Count</th><th scope=col>log10pval</th><th scope=col>log10fdr</th><th scope=col>lfc-se</th><th scope=col>Loc</th></tr>\n",
       "\t<tr><th scope=col>&lt;chr&gt;</th><th scope=col>&lt;dbl&gt;</th><th scope=col>&lt;dbl&gt;</th><th scope=col>&lt;chr&gt;</th><th scope=col>&lt;chr&gt;</th><th scope=col>&lt;chr&gt;</th><th scope=col>&lt;dbl&gt;</th><th scope=col>&lt;dbl&gt;</th><th scope=col>&lt;dbl&gt;</th><th scope=col>&lt;dbl&gt;</th><th scope=col>&lt;dbl&gt;</th><th scope=col>&lt;dbl&gt;</th><th scope=col>&lt;dbl&gt;</th></tr>\n",
       "</thead>\n",
       "<tbody>\n",
       "\t<tr><td>chrX</td><td>49347901</td><td>49348100</td><td>X:49347901-49348100</td><td>.</td><td>+</td><td> 0.17348955</td><td> 526.301527</td><td>  593.75739</td><td>  0.6203219</td><td>  0.44736379</td><td>0.14755987</td><td>49348000</td></tr>\n",
       "\t<tr><td>chrX</td><td>49347951</td><td>49348150</td><td>X:49347951-49348150</td><td>.</td><td>+</td><td>-0.20054161</td><td>1249.345825</td><td> 1086.52900</td><td>  1.1724797</td><td>  0.90239496</td><td>0.10957494</td><td>49348050</td></tr>\n",
       "\t<tr><td>chrX</td><td>49348001</td><td>49348200</td><td>X:49348001-49348200</td><td>.</td><td>+</td><td>-0.11281952</td><td> 734.304457</td><td>  678.58691</td><td>  0.4752572</td><td>  0.33419425</td><td>0.11696520</td><td>49348100</td></tr>\n",
       "\t<tr><td>chrX</td><td>49348051</td><td>49348250</td><td>X:49348051-49348250</td><td>.</td><td>+</td><td> 0.06709130</td><td> 182.509987</td><td>  190.76572</td><td>  0.1063843</td><td>  0.06826882</td><td>0.24330082</td><td>49348150</td></tr>\n",
       "\t<tr><td>chrX</td><td>49348101</td><td>49348300</td><td>X:49348101-49348300</td><td>.</td><td>+</td><td>-0.46426447</td><td> 313.035046</td><td>  227.91510</td><td>  1.7335314</td><td>  1.39304615</td><td>0.19705144</td><td>49348200</td></tr>\n",
       "\t<tr><td>chrX</td><td>49348151</td><td>49348350</td><td>X:49348151-49348350</td><td>.</td><td>+</td><td>-0.21095647</td><td> 759.159440</td><td>  656.75031</td><td>  0.8682440</td><td>  0.64797845</td><td>0.14129907</td><td>49348250</td></tr>\n",
       "\t<tr><td>chrX</td><td>49528401</td><td>49528600</td><td>X:49528401-49528600</td><td>.</td><td>+</td><td> 2.81710500</td><td>1818.297455</td><td>12817.03270</td><td>257.9596924</td><td>256.49177083</td><td>0.08199446</td><td>49528500</td></tr>\n",
       "\t<tr><td>chrX</td><td>49528451</td><td>49528650</td><td>X:49528451-49528650</td><td>.</td><td>+</td><td> 0.30911606</td><td>1396.458849</td><td> 1728.26079</td><td>  2.3367590</td><td>  1.94036228</td><td>0.10909601</td><td>49528550</td></tr>\n",
       "\t<tr><td>chrX</td><td>49528501</td><td>49528700</td><td>X:49528501-49528700</td><td>.</td><td>+</td><td>-0.04017608</td><td>1648.705298</td><td> 1603.55793</td><td>  0.1874573</td><td>  0.12305565</td><td>0.08838985</td><td>49528600</td></tr>\n",
       "\t<tr><td>chrX</td><td>49528551</td><td>49528750</td><td>X:49528551-49528750</td><td>.</td><td>+</td><td> 1.61065139</td><td> 785.726510</td><td> 2400.48275</td><td> 77.3755551</td><td> 76.30162502</td><td>0.08609142</td><td>49528650</td></tr>\n",
       "\t<tr><td>chrX</td><td>49528601</td><td>49528800</td><td>X:49528601-49528800</td><td>.</td><td>+</td><td> 0.08656580</td><td> 987.261609</td><td> 1047.89799</td><td>  0.4170597</td><td>  0.28973529</td><td>0.09918172</td><td>49528700</td></tr>\n",
       "\t<tr><td>chrX</td><td>49528651</td><td>49528850</td><td>X:49528651-49528850</td><td>.</td><td>+</td><td> 0.44086418</td><td> 843.139011</td><td> 1145.25131</td><td>  4.7527612</td><td>  4.22402359</td><td>0.10270654</td><td>49528750</td></tr>\n",
       "\t<tr><td>chrX</td><td>49528701</td><td>49528900</td><td>X:49528701-49528900</td><td>.</td><td>+</td><td> 1.80843353</td><td> 524.039417</td><td> 1835.71241</td><td> 89.0122258</td><td> 87.90011101</td><td>0.09003314</td><td>49528800</td></tr>\n",
       "\t<tr><td>chrX</td><td>49528801</td><td>49529000</td><td>X:49528801-49529000</td><td>.</td><td>+</td><td> 0.51309952</td><td>   7.446807</td><td>   10.55531</td><td>  0.2947100</td><td>  0.19968081</td><td>0.77390365</td><td>49528900</td></tr>\n",
       "\t<tr><td>chrX</td><td>49528851</td><td>49529050</td><td>X:49528851-49529050</td><td>.</td><td>+</td><td> 0.28993439</td><td>  10.779872</td><td>   13.06839</td><td>  0.1871472</td><td>  0.12286457</td><td>0.63877933</td><td>49528950</td></tr>\n",
       "</tbody>\n",
       "</table>\n"
      ],
      "text/latex": [
       "A tibble: 15 × 13\n",
       "\\begin{tabular}{lllllllllllll}\n",
       " chrom & Start & End & ID & Score & Strand & log2fc & Input\\_Count & Output\\_Count & log10pval & log10fdr & lfc-se & Loc\\\\\n",
       " <chr> & <dbl> & <dbl> & <chr> & <chr> & <chr> & <dbl> & <dbl> & <dbl> & <dbl> & <dbl> & <dbl> & <dbl>\\\\\n",
       "\\hline\n",
       "\t chrX & 49347901 & 49348100 & X:49347901-49348100 & . & + &  0.17348955 &  526.301527 &   593.75739 &   0.6203219 &   0.44736379 & 0.14755987 & 49348000\\\\\n",
       "\t chrX & 49347951 & 49348150 & X:49347951-49348150 & . & + & -0.20054161 & 1249.345825 &  1086.52900 &   1.1724797 &   0.90239496 & 0.10957494 & 49348050\\\\\n",
       "\t chrX & 49348001 & 49348200 & X:49348001-49348200 & . & + & -0.11281952 &  734.304457 &   678.58691 &   0.4752572 &   0.33419425 & 0.11696520 & 49348100\\\\\n",
       "\t chrX & 49348051 & 49348250 & X:49348051-49348250 & . & + &  0.06709130 &  182.509987 &   190.76572 &   0.1063843 &   0.06826882 & 0.24330082 & 49348150\\\\\n",
       "\t chrX & 49348101 & 49348300 & X:49348101-49348300 & . & + & -0.46426447 &  313.035046 &   227.91510 &   1.7335314 &   1.39304615 & 0.19705144 & 49348200\\\\\n",
       "\t chrX & 49348151 & 49348350 & X:49348151-49348350 & . & + & -0.21095647 &  759.159440 &   656.75031 &   0.8682440 &   0.64797845 & 0.14129907 & 49348250\\\\\n",
       "\t chrX & 49528401 & 49528600 & X:49528401-49528600 & . & + &  2.81710500 & 1818.297455 & 12817.03270 & 257.9596924 & 256.49177083 & 0.08199446 & 49528500\\\\\n",
       "\t chrX & 49528451 & 49528650 & X:49528451-49528650 & . & + &  0.30911606 & 1396.458849 &  1728.26079 &   2.3367590 &   1.94036228 & 0.10909601 & 49528550\\\\\n",
       "\t chrX & 49528501 & 49528700 & X:49528501-49528700 & . & + & -0.04017608 & 1648.705298 &  1603.55793 &   0.1874573 &   0.12305565 & 0.08838985 & 49528600\\\\\n",
       "\t chrX & 49528551 & 49528750 & X:49528551-49528750 & . & + &  1.61065139 &  785.726510 &  2400.48275 &  77.3755551 &  76.30162502 & 0.08609142 & 49528650\\\\\n",
       "\t chrX & 49528601 & 49528800 & X:49528601-49528800 & . & + &  0.08656580 &  987.261609 &  1047.89799 &   0.4170597 &   0.28973529 & 0.09918172 & 49528700\\\\\n",
       "\t chrX & 49528651 & 49528850 & X:49528651-49528850 & . & + &  0.44086418 &  843.139011 &  1145.25131 &   4.7527612 &   4.22402359 & 0.10270654 & 49528750\\\\\n",
       "\t chrX & 49528701 & 49528900 & X:49528701-49528900 & . & + &  1.80843353 &  524.039417 &  1835.71241 &  89.0122258 &  87.90011101 & 0.09003314 & 49528800\\\\\n",
       "\t chrX & 49528801 & 49529000 & X:49528801-49529000 & . & + &  0.51309952 &    7.446807 &    10.55531 &   0.2947100 &   0.19968081 & 0.77390365 & 49528900\\\\\n",
       "\t chrX & 49528851 & 49529050 & X:49528851-49529050 & . & + &  0.28993439 &   10.779872 &    13.06839 &   0.1871472 &   0.12286457 & 0.63877933 & 49528950\\\\\n",
       "\\end{tabular}\n"
      ],
      "text/markdown": [
       "\n",
       "A tibble: 15 × 13\n",
       "\n",
       "| chrom &lt;chr&gt; | Start &lt;dbl&gt; | End &lt;dbl&gt; | ID &lt;chr&gt; | Score &lt;chr&gt; | Strand &lt;chr&gt; | log2fc &lt;dbl&gt; | Input_Count &lt;dbl&gt; | Output_Count &lt;dbl&gt; | log10pval &lt;dbl&gt; | log10fdr &lt;dbl&gt; | lfc-se &lt;dbl&gt; | Loc &lt;dbl&gt; |\n",
       "|---|---|---|---|---|---|---|---|---|---|---|---|---|\n",
       "| chrX | 49347901 | 49348100 | X:49347901-49348100 | . | + |  0.17348955 |  526.301527 |   593.75739 |   0.6203219 |   0.44736379 | 0.14755987 | 49348000 |\n",
       "| chrX | 49347951 | 49348150 | X:49347951-49348150 | . | + | -0.20054161 | 1249.345825 |  1086.52900 |   1.1724797 |   0.90239496 | 0.10957494 | 49348050 |\n",
       "| chrX | 49348001 | 49348200 | X:49348001-49348200 | . | + | -0.11281952 |  734.304457 |   678.58691 |   0.4752572 |   0.33419425 | 0.11696520 | 49348100 |\n",
       "| chrX | 49348051 | 49348250 | X:49348051-49348250 | . | + |  0.06709130 |  182.509987 |   190.76572 |   0.1063843 |   0.06826882 | 0.24330082 | 49348150 |\n",
       "| chrX | 49348101 | 49348300 | X:49348101-49348300 | . | + | -0.46426447 |  313.035046 |   227.91510 |   1.7335314 |   1.39304615 | 0.19705144 | 49348200 |\n",
       "| chrX | 49348151 | 49348350 | X:49348151-49348350 | . | + | -0.21095647 |  759.159440 |   656.75031 |   0.8682440 |   0.64797845 | 0.14129907 | 49348250 |\n",
       "| chrX | 49528401 | 49528600 | X:49528401-49528600 | . | + |  2.81710500 | 1818.297455 | 12817.03270 | 257.9596924 | 256.49177083 | 0.08199446 | 49528500 |\n",
       "| chrX | 49528451 | 49528650 | X:49528451-49528650 | . | + |  0.30911606 | 1396.458849 |  1728.26079 |   2.3367590 |   1.94036228 | 0.10909601 | 49528550 |\n",
       "| chrX | 49528501 | 49528700 | X:49528501-49528700 | . | + | -0.04017608 | 1648.705298 |  1603.55793 |   0.1874573 |   0.12305565 | 0.08838985 | 49528600 |\n",
       "| chrX | 49528551 | 49528750 | X:49528551-49528750 | . | + |  1.61065139 |  785.726510 |  2400.48275 |  77.3755551 |  76.30162502 | 0.08609142 | 49528650 |\n",
       "| chrX | 49528601 | 49528800 | X:49528601-49528800 | . | + |  0.08656580 |  987.261609 |  1047.89799 |   0.4170597 |   0.28973529 | 0.09918172 | 49528700 |\n",
       "| chrX | 49528651 | 49528850 | X:49528651-49528850 | . | + |  0.44086418 |  843.139011 |  1145.25131 |   4.7527612 |   4.22402359 | 0.10270654 | 49528750 |\n",
       "| chrX | 49528701 | 49528900 | X:49528701-49528900 | . | + |  1.80843353 |  524.039417 |  1835.71241 |  89.0122258 |  87.90011101 | 0.09003314 | 49528800 |\n",
       "| chrX | 49528801 | 49529000 | X:49528801-49529000 | . | + |  0.51309952 |    7.446807 |    10.55531 |   0.2947100 |   0.19968081 | 0.77390365 | 49528900 |\n",
       "| chrX | 49528851 | 49529050 | X:49528851-49529050 | . | + |  0.28993439 |   10.779872 |    13.06839 |   0.1871472 |   0.12286457 | 0.63877933 | 49528950 |\n",
       "\n"
      ],
      "text/plain": [
       "   chrom Start    End      ID                  Score Strand log2fc     \n",
       "1  chrX  49347901 49348100 X:49347901-49348100 .     +       0.17348955\n",
       "2  chrX  49347951 49348150 X:49347951-49348150 .     +      -0.20054161\n",
       "3  chrX  49348001 49348200 X:49348001-49348200 .     +      -0.11281952\n",
       "4  chrX  49348051 49348250 X:49348051-49348250 .     +       0.06709130\n",
       "5  chrX  49348101 49348300 X:49348101-49348300 .     +      -0.46426447\n",
       "6  chrX  49348151 49348350 X:49348151-49348350 .     +      -0.21095647\n",
       "7  chrX  49528401 49528600 X:49528401-49528600 .     +       2.81710500\n",
       "8  chrX  49528451 49528650 X:49528451-49528650 .     +       0.30911606\n",
       "9  chrX  49528501 49528700 X:49528501-49528700 .     +      -0.04017608\n",
       "10 chrX  49528551 49528750 X:49528551-49528750 .     +       1.61065139\n",
       "11 chrX  49528601 49528800 X:49528601-49528800 .     +       0.08656580\n",
       "12 chrX  49528651 49528850 X:49528651-49528850 .     +       0.44086418\n",
       "13 chrX  49528701 49528900 X:49528701-49528900 .     +       1.80843353\n",
       "14 chrX  49528801 49529000 X:49528801-49529000 .     +       0.51309952\n",
       "15 chrX  49528851 49529050 X:49528851-49529050 .     +       0.28993439\n",
       "   Input_Count Output_Count log10pval   log10fdr     lfc-se     Loc     \n",
       "1   526.301527   593.75739    0.6203219   0.44736379 0.14755987 49348000\n",
       "2  1249.345825  1086.52900    1.1724797   0.90239496 0.10957494 49348050\n",
       "3   734.304457   678.58691    0.4752572   0.33419425 0.11696520 49348100\n",
       "4   182.509987   190.76572    0.1063843   0.06826882 0.24330082 49348150\n",
       "5   313.035046   227.91510    1.7335314   1.39304615 0.19705144 49348200\n",
       "6   759.159440   656.75031    0.8682440   0.64797845 0.14129907 49348250\n",
       "7  1818.297455 12817.03270  257.9596924 256.49177083 0.08199446 49528500\n",
       "8  1396.458849  1728.26079    2.3367590   1.94036228 0.10909601 49528550\n",
       "9  1648.705298  1603.55793    0.1874573   0.12305565 0.08838985 49528600\n",
       "10  785.726510  2400.48275   77.3755551  76.30162502 0.08609142 49528650\n",
       "11  987.261609  1047.89799    0.4170597   0.28973529 0.09918172 49528700\n",
       "12  843.139011  1145.25131    4.7527612   4.22402359 0.10270654 49528750\n",
       "13  524.039417  1835.71241   89.0122258  87.90011101 0.09003314 49528800\n",
       "14    7.446807    10.55531    0.2947100   0.19968081 0.77390365 49528900\n",
       "15   10.779872    13.06839    0.1871472   0.12286457 0.63877933 49528950"
      ]
     },
     "metadata": {},
     "output_type": "display_data"
    }
   ],
   "source": [
    "dat = dat_mpra\n",
    "dat = dat %>% mutate(Loc = (Start + End) / 2)\n",
    "\n",
    "tmp = dat %>% dplyr::filter(Loc > 49348000, Loc < 49529000)\n",
    "tmp"
   ]
  },
  {
   "cell_type": "markdown",
   "metadata": {},
   "source": [
    "jump from `49,348,151` to `49,528,401`"
   ]
  },
  {
   "cell_type": "markdown",
   "metadata": {},
   "source": [
    "## Check the original data"
   ]
  },
  {
   "cell_type": "code",
   "execution_count": 74,
   "metadata": {},
   "outputs": [
    {
     "name": "stderr",
     "output_type": "stream",
     "text": [
      "\u001b[1mRows: \u001b[22m\u001b[34m99875\u001b[39m \u001b[1mColumns: \u001b[22m\u001b[34m12\u001b[39m\n",
      "\u001b[36m──\u001b[39m \u001b[1mColumn specification\u001b[22m \u001b[36m──────────────────────────────────────────────────────────────────────────────────\u001b[39m\n",
      "\u001b[1mDelimiter:\u001b[22m \"\\t\"\n",
      "\u001b[31mchr\u001b[39m (4): chr, id, score, strand\n",
      "\u001b[32mdbl\u001b[39m (8): start, stop, log2fc, input-count, output-count, log10pval, log10fdr...\n",
      "\n",
      "\u001b[36mℹ\u001b[39m Use `spec()` to retrieve the full column specification for this data.\n",
      "\u001b[36mℹ\u001b[39m Specify the column types or set `show_col_types = FALSE` to quiet this message.\n"
     ]
    },
    {
     "data": {
      "text/html": [
       "<table class=\"dataframe\">\n",
       "<caption>A tibble: 6 × 13</caption>\n",
       "<thead>\n",
       "\t<tr><th scope=col>chrom</th><th scope=col>Start</th><th scope=col>End</th><th scope=col>ID</th><th scope=col>Score</th><th scope=col>Strand</th><th scope=col>log2fc</th><th scope=col>Input_Count</th><th scope=col>Output_Count</th><th scope=col>log10pval</th><th scope=col>log10fdr</th><th scope=col>lfc-se</th><th scope=col>Loc</th></tr>\n",
       "\t<tr><th scope=col>&lt;chr&gt;</th><th scope=col>&lt;dbl&gt;</th><th scope=col>&lt;dbl&gt;</th><th scope=col>&lt;chr&gt;</th><th scope=col>&lt;chr&gt;</th><th scope=col>&lt;chr&gt;</th><th scope=col>&lt;dbl&gt;</th><th scope=col>&lt;dbl&gt;</th><th scope=col>&lt;dbl&gt;</th><th scope=col>&lt;dbl&gt;</th><th scope=col>&lt;dbl&gt;</th><th scope=col>&lt;dbl&gt;</th><th scope=col>&lt;dbl&gt;</th></tr>\n",
       "</thead>\n",
       "<tbody>\n",
       "\t<tr><td>1</td><td>NA</td><td>NA</td><td>1:10437778:C:T:R:wC </td><td>.</td><td>+</td><td>2.3864209</td><td>883.0929</td><td> 4616.0826</td><td>106.7371382</td><td>105.5726804</td><td>0.10837262</td><td>NA</td></tr>\n",
       "\t<tr><td>1</td><td>NA</td><td>NA</td><td>1:10451799:C:T:R:wC </td><td>.</td><td>+</td><td>0.1632697</td><td>404.4490</td><td>  452.6180</td><td>  0.6953862</td><td>  0.5069747</td><td>0.12786974</td><td>NA</td></tr>\n",
       "\t<tr><td>1</td><td>NA</td><td>NA</td><td>1:110198727:C:G:R:wC</td><td>.</td><td>+</td><td>6.8942454</td><td>310.5452</td><td>36945.0097</td><td>        Inf</td><td>        Inf</td><td>0.10442677</td><td>NA</td></tr>\n",
       "\t<tr><td>1</td><td>NA</td><td>NA</td><td>1:110881742:NA:NA   </td><td>.</td><td>+</td><td>5.2284849</td><td>616.3812</td><td>23111.0120</td><td>        Inf</td><td>        Inf</td><td>0.09590843</td><td>NA</td></tr>\n",
       "\t<tr><td>1</td><td>NA</td><td>NA</td><td>1:111838694:C:T:R:wC</td><td>.</td><td>+</td><td>6.3593775</td><td>322.7433</td><td>26498.6023</td><td>        Inf</td><td>        Inf</td><td>0.08644483</td><td>NA</td></tr>\n",
       "\t<tr><td>1</td><td>NA</td><td>NA</td><td>1:113047064:NA:NA   </td><td>.</td><td>+</td><td>0.1146690</td><td>915.5454</td><td>  990.3427</td><td>  0.5316370</td><td>  0.3776899</td><td>0.10927472</td><td>NA</td></tr>\n",
       "</tbody>\n",
       "</table>\n"
      ],
      "text/latex": [
       "A tibble: 6 × 13\n",
       "\\begin{tabular}{lllllllllllll}\n",
       " chrom & Start & End & ID & Score & Strand & log2fc & Input\\_Count & Output\\_Count & log10pval & log10fdr & lfc-se & Loc\\\\\n",
       " <chr> & <dbl> & <dbl> & <chr> & <chr> & <chr> & <dbl> & <dbl> & <dbl> & <dbl> & <dbl> & <dbl> & <dbl>\\\\\n",
       "\\hline\n",
       "\t 1 & NA & NA & 1:10437778:C:T:R:wC  & . & + & 2.3864209 & 883.0929 &  4616.0826 & 106.7371382 & 105.5726804 & 0.10837262 & NA\\\\\n",
       "\t 1 & NA & NA & 1:10451799:C:T:R:wC  & . & + & 0.1632697 & 404.4490 &   452.6180 &   0.6953862 &   0.5069747 & 0.12786974 & NA\\\\\n",
       "\t 1 & NA & NA & 1:110198727:C:G:R:wC & . & + & 6.8942454 & 310.5452 & 36945.0097 &         Inf &         Inf & 0.10442677 & NA\\\\\n",
       "\t 1 & NA & NA & 1:110881742:NA:NA    & . & + & 5.2284849 & 616.3812 & 23111.0120 &         Inf &         Inf & 0.09590843 & NA\\\\\n",
       "\t 1 & NA & NA & 1:111838694:C:T:R:wC & . & + & 6.3593775 & 322.7433 & 26498.6023 &         Inf &         Inf & 0.08644483 & NA\\\\\n",
       "\t 1 & NA & NA & 1:113047064:NA:NA    & . & + & 0.1146690 & 915.5454 &   990.3427 &   0.5316370 &   0.3776899 & 0.10927472 & NA\\\\\n",
       "\\end{tabular}\n"
      ],
      "text/markdown": [
       "\n",
       "A tibble: 6 × 13\n",
       "\n",
       "| chrom &lt;chr&gt; | Start &lt;dbl&gt; | End &lt;dbl&gt; | ID &lt;chr&gt; | Score &lt;chr&gt; | Strand &lt;chr&gt; | log2fc &lt;dbl&gt; | Input_Count &lt;dbl&gt; | Output_Count &lt;dbl&gt; | log10pval &lt;dbl&gt; | log10fdr &lt;dbl&gt; | lfc-se &lt;dbl&gt; | Loc &lt;dbl&gt; |\n",
       "|---|---|---|---|---|---|---|---|---|---|---|---|---|\n",
       "| 1 | NA | NA | 1:10437778:C:T:R:wC  | . | + | 2.3864209 | 883.0929 |  4616.0826 | 106.7371382 | 105.5726804 | 0.10837262 | NA |\n",
       "| 1 | NA | NA | 1:10451799:C:T:R:wC  | . | + | 0.1632697 | 404.4490 |   452.6180 |   0.6953862 |   0.5069747 | 0.12786974 | NA |\n",
       "| 1 | NA | NA | 1:110198727:C:G:R:wC | . | + | 6.8942454 | 310.5452 | 36945.0097 |         Inf |         Inf | 0.10442677 | NA |\n",
       "| 1 | NA | NA | 1:110881742:NA:NA    | . | + | 5.2284849 | 616.3812 | 23111.0120 |         Inf |         Inf | 0.09590843 | NA |\n",
       "| 1 | NA | NA | 1:111838694:C:T:R:wC | . | + | 6.3593775 | 322.7433 | 26498.6023 |         Inf |         Inf | 0.08644483 | NA |\n",
       "| 1 | NA | NA | 1:113047064:NA:NA    | . | + | 0.1146690 | 915.5454 |   990.3427 |   0.5316370 |   0.3776899 | 0.10927472 | NA |\n",
       "\n"
      ],
      "text/plain": [
       "  chrom Start End ID                   Score Strand log2fc    Input_Count\n",
       "1 1     NA    NA  1:10437778:C:T:R:wC  .     +      2.3864209 883.0929   \n",
       "2 1     NA    NA  1:10451799:C:T:R:wC  .     +      0.1632697 404.4490   \n",
       "3 1     NA    NA  1:110198727:C:G:R:wC .     +      6.8942454 310.5452   \n",
       "4 1     NA    NA  1:110881742:NA:NA    .     +      5.2284849 616.3812   \n",
       "5 1     NA    NA  1:111838694:C:T:R:wC .     +      6.3593775 322.7433   \n",
       "6 1     NA    NA  1:113047064:NA:NA    .     +      0.1146690 915.5454   \n",
       "  Output_Count log10pval   log10fdr    lfc-se     Loc\n",
       "1  4616.0826   106.7371382 105.5726804 0.10837262 NA \n",
       "2   452.6180     0.6953862   0.5069747 0.12786974 NA \n",
       "3 36945.0097           Inf         Inf 0.10442677 NA \n",
       "4 23111.0120           Inf         Inf 0.09590843 NA \n",
       "5 26498.6023           Inf         Inf 0.08644483 NA \n",
       "6   990.3427     0.5316370   0.3776899 0.10927472 NA "
      ]
     },
     "metadata": {},
     "output_type": "display_data"
    }
   ],
   "source": [
    "fdiry = file.path(FD_RES, \"source\", \"mpra\")\n",
    "fname = \"GATA-MYC_Tile_K562_K562_20210130.hg38.bed\"\n",
    "fpath = file.path(fdiry, fname)\n",
    "\n",
    "cnames = c(\"chrom\", \"Start\", \"End\", \"ID\", \"Score\", \"Strand\", \n",
    "           \"log2fc\", \"Input_Count\", \"Output_Count\", \n",
    "           \"log10pval\", \"log10fdr\", \"lfc-se\")\n",
    "\n",
    "dat = read_tsv(fpath)\n",
    "colnames(dat) = cnames\n",
    "dat = dat %>% mutate(Loc = (Start + End) / 2)\n",
    "\n",
    "dat_mpra_ori = dat\n",
    "head(dat_mpra_ori)"
   ]
  },
  {
   "cell_type": "code",
   "execution_count": 75,
   "metadata": {},
   "outputs": [
    {
     "data": {
      "text/html": [
       "<table class=\"dataframe\">\n",
       "<caption>A tibble: 16 × 13</caption>\n",
       "<thead>\n",
       "\t<tr><th scope=col>chrom</th><th scope=col>Start</th><th scope=col>End</th><th scope=col>ID</th><th scope=col>Score</th><th scope=col>Strand</th><th scope=col>log2fc</th><th scope=col>Input_Count</th><th scope=col>Output_Count</th><th scope=col>log10pval</th><th scope=col>log10fdr</th><th scope=col>lfc-se</th><th scope=col>Loc</th></tr>\n",
       "\t<tr><th scope=col>&lt;chr&gt;</th><th scope=col>&lt;dbl&gt;</th><th scope=col>&lt;dbl&gt;</th><th scope=col>&lt;chr&gt;</th><th scope=col>&lt;chr&gt;</th><th scope=col>&lt;chr&gt;</th><th scope=col>&lt;dbl&gt;</th><th scope=col>&lt;dbl&gt;</th><th scope=col>&lt;dbl&gt;</th><th scope=col>&lt;dbl&gt;</th><th scope=col>&lt;dbl&gt;</th><th scope=col>&lt;dbl&gt;</th><th scope=col>&lt;dbl&gt;</th></tr>\n",
       "</thead>\n",
       "<tbody>\n",
       "\t<tr><td>X</td><td>49347901</td><td>49348100</td><td>X:49347901-49348100</td><td>.</td><td>+</td><td> 0.17348955</td><td> 526.301527</td><td>  593.75739</td><td>  0.6203219</td><td>  0.44736379</td><td>0.14755987</td><td>49348000</td></tr>\n",
       "\t<tr><td>X</td><td>49347951</td><td>49348150</td><td>X:49347951-49348150</td><td>.</td><td>+</td><td>-0.20054161</td><td>1249.345825</td><td> 1086.52900</td><td>  1.1724797</td><td>  0.90239496</td><td>0.10957494</td><td>49348050</td></tr>\n",
       "\t<tr><td>X</td><td>49348001</td><td>49348200</td><td>X:49348001-49348200</td><td>.</td><td>+</td><td>-0.11281952</td><td> 734.304457</td><td>  678.58691</td><td>  0.4752572</td><td>  0.33419425</td><td>0.11696520</td><td>49348100</td></tr>\n",
       "\t<tr><td>X</td><td>49348051</td><td>49348250</td><td>X:49348051-49348250</td><td>.</td><td>+</td><td> 0.06709130</td><td> 182.509987</td><td>  190.76572</td><td>  0.1063843</td><td>  0.06826882</td><td>0.24330082</td><td>49348150</td></tr>\n",
       "\t<tr><td>X</td><td>49348101</td><td>49348300</td><td>X:49348101-49348300</td><td>.</td><td>+</td><td>-0.46426447</td><td> 313.035046</td><td>  227.91510</td><td>  1.7335314</td><td>  1.39304615</td><td>0.19705144</td><td>49348200</td></tr>\n",
       "\t<tr><td>X</td><td>49348151</td><td>49348350</td><td>X:49348151-49348350</td><td>.</td><td>+</td><td>-0.21095647</td><td> 759.159440</td><td>  656.75031</td><td>  0.8682440</td><td>  0.64797845</td><td>0.14129907</td><td>49348250</td></tr>\n",
       "\t<tr><td>X</td><td>49528401</td><td>49528600</td><td>X:49528401-49528600</td><td>.</td><td>+</td><td> 2.81710500</td><td>1818.297455</td><td>12817.03270</td><td>257.9596924</td><td>256.49177083</td><td>0.08199446</td><td>49528500</td></tr>\n",
       "\t<tr><td>X</td><td>49528451</td><td>49528650</td><td>X:49528451-49528650</td><td>.</td><td>+</td><td> 0.30911606</td><td>1396.458849</td><td> 1728.26079</td><td>  2.3367590</td><td>  1.94036228</td><td>0.10909601</td><td>49528550</td></tr>\n",
       "\t<tr><td>X</td><td>49528501</td><td>49528700</td><td>X:49528501-49528700</td><td>.</td><td>+</td><td>-0.04017608</td><td>1648.705298</td><td> 1603.55793</td><td>  0.1874573</td><td>  0.12305565</td><td>0.08838985</td><td>49528600</td></tr>\n",
       "\t<tr><td>X</td><td>49528551</td><td>49528750</td><td>X:49528551-49528750</td><td>.</td><td>+</td><td> 1.61065139</td><td> 785.726510</td><td> 2400.48275</td><td> 77.3755551</td><td> 76.30162502</td><td>0.08609142</td><td>49528650</td></tr>\n",
       "\t<tr><td>X</td><td>49528601</td><td>49528800</td><td>X:49528601-49528800</td><td>.</td><td>+</td><td> 0.08656580</td><td> 987.261609</td><td> 1047.89799</td><td>  0.4170597</td><td>  0.28973529</td><td>0.09918172</td><td>49528700</td></tr>\n",
       "\t<tr><td>X</td><td>49528651</td><td>49528850</td><td>X:49528651-49528850</td><td>.</td><td>+</td><td> 0.44086418</td><td> 843.139011</td><td> 1145.25131</td><td>  4.7527612</td><td>  4.22402359</td><td>0.10270654</td><td>49528750</td></tr>\n",
       "\t<tr><td>X</td><td>49528701</td><td>49528900</td><td>X:49528701-49528900</td><td>.</td><td>+</td><td> 1.80843353</td><td> 524.039417</td><td> 1835.71241</td><td> 89.0122258</td><td> 87.90011101</td><td>0.09003314</td><td>49528800</td></tr>\n",
       "\t<tr><td>X</td><td>49528751</td><td>49528950</td><td>X:49528751-49528950</td><td>.</td><td>+</td><td>         NA</td><td>         NA</td><td>         NA</td><td>         NA</td><td>          NA</td><td>        NA</td><td>49528850</td></tr>\n",
       "\t<tr><td>X</td><td>49528801</td><td>49529000</td><td>X:49528801-49529000</td><td>.</td><td>+</td><td> 0.51309952</td><td>   7.446807</td><td>   10.55531</td><td>  0.2947100</td><td>  0.19968081</td><td>0.77390365</td><td>49528900</td></tr>\n",
       "\t<tr><td>X</td><td>49528851</td><td>49529050</td><td>X:49528851-49529050</td><td>.</td><td>+</td><td> 0.28993439</td><td>  10.779872</td><td>   13.06839</td><td>  0.1871472</td><td>  0.12286457</td><td>0.63877933</td><td>49528950</td></tr>\n",
       "</tbody>\n",
       "</table>\n"
      ],
      "text/latex": [
       "A tibble: 16 × 13\n",
       "\\begin{tabular}{lllllllllllll}\n",
       " chrom & Start & End & ID & Score & Strand & log2fc & Input\\_Count & Output\\_Count & log10pval & log10fdr & lfc-se & Loc\\\\\n",
       " <chr> & <dbl> & <dbl> & <chr> & <chr> & <chr> & <dbl> & <dbl> & <dbl> & <dbl> & <dbl> & <dbl> & <dbl>\\\\\n",
       "\\hline\n",
       "\t X & 49347901 & 49348100 & X:49347901-49348100 & . & + &  0.17348955 &  526.301527 &   593.75739 &   0.6203219 &   0.44736379 & 0.14755987 & 49348000\\\\\n",
       "\t X & 49347951 & 49348150 & X:49347951-49348150 & . & + & -0.20054161 & 1249.345825 &  1086.52900 &   1.1724797 &   0.90239496 & 0.10957494 & 49348050\\\\\n",
       "\t X & 49348001 & 49348200 & X:49348001-49348200 & . & + & -0.11281952 &  734.304457 &   678.58691 &   0.4752572 &   0.33419425 & 0.11696520 & 49348100\\\\\n",
       "\t X & 49348051 & 49348250 & X:49348051-49348250 & . & + &  0.06709130 &  182.509987 &   190.76572 &   0.1063843 &   0.06826882 & 0.24330082 & 49348150\\\\\n",
       "\t X & 49348101 & 49348300 & X:49348101-49348300 & . & + & -0.46426447 &  313.035046 &   227.91510 &   1.7335314 &   1.39304615 & 0.19705144 & 49348200\\\\\n",
       "\t X & 49348151 & 49348350 & X:49348151-49348350 & . & + & -0.21095647 &  759.159440 &   656.75031 &   0.8682440 &   0.64797845 & 0.14129907 & 49348250\\\\\n",
       "\t X & 49528401 & 49528600 & X:49528401-49528600 & . & + &  2.81710500 & 1818.297455 & 12817.03270 & 257.9596924 & 256.49177083 & 0.08199446 & 49528500\\\\\n",
       "\t X & 49528451 & 49528650 & X:49528451-49528650 & . & + &  0.30911606 & 1396.458849 &  1728.26079 &   2.3367590 &   1.94036228 & 0.10909601 & 49528550\\\\\n",
       "\t X & 49528501 & 49528700 & X:49528501-49528700 & . & + & -0.04017608 & 1648.705298 &  1603.55793 &   0.1874573 &   0.12305565 & 0.08838985 & 49528600\\\\\n",
       "\t X & 49528551 & 49528750 & X:49528551-49528750 & . & + &  1.61065139 &  785.726510 &  2400.48275 &  77.3755551 &  76.30162502 & 0.08609142 & 49528650\\\\\n",
       "\t X & 49528601 & 49528800 & X:49528601-49528800 & . & + &  0.08656580 &  987.261609 &  1047.89799 &   0.4170597 &   0.28973529 & 0.09918172 & 49528700\\\\\n",
       "\t X & 49528651 & 49528850 & X:49528651-49528850 & . & + &  0.44086418 &  843.139011 &  1145.25131 &   4.7527612 &   4.22402359 & 0.10270654 & 49528750\\\\\n",
       "\t X & 49528701 & 49528900 & X:49528701-49528900 & . & + &  1.80843353 &  524.039417 &  1835.71241 &  89.0122258 &  87.90011101 & 0.09003314 & 49528800\\\\\n",
       "\t X & 49528751 & 49528950 & X:49528751-49528950 & . & + &          NA &          NA &          NA &          NA &           NA &         NA & 49528850\\\\\n",
       "\t X & 49528801 & 49529000 & X:49528801-49529000 & . & + &  0.51309952 &    7.446807 &    10.55531 &   0.2947100 &   0.19968081 & 0.77390365 & 49528900\\\\\n",
       "\t X & 49528851 & 49529050 & X:49528851-49529050 & . & + &  0.28993439 &   10.779872 &    13.06839 &   0.1871472 &   0.12286457 & 0.63877933 & 49528950\\\\\n",
       "\\end{tabular}\n"
      ],
      "text/markdown": [
       "\n",
       "A tibble: 16 × 13\n",
       "\n",
       "| chrom &lt;chr&gt; | Start &lt;dbl&gt; | End &lt;dbl&gt; | ID &lt;chr&gt; | Score &lt;chr&gt; | Strand &lt;chr&gt; | log2fc &lt;dbl&gt; | Input_Count &lt;dbl&gt; | Output_Count &lt;dbl&gt; | log10pval &lt;dbl&gt; | log10fdr &lt;dbl&gt; | lfc-se &lt;dbl&gt; | Loc &lt;dbl&gt; |\n",
       "|---|---|---|---|---|---|---|---|---|---|---|---|---|\n",
       "| X | 49347901 | 49348100 | X:49347901-49348100 | . | + |  0.17348955 |  526.301527 |   593.75739 |   0.6203219 |   0.44736379 | 0.14755987 | 49348000 |\n",
       "| X | 49347951 | 49348150 | X:49347951-49348150 | . | + | -0.20054161 | 1249.345825 |  1086.52900 |   1.1724797 |   0.90239496 | 0.10957494 | 49348050 |\n",
       "| X | 49348001 | 49348200 | X:49348001-49348200 | . | + | -0.11281952 |  734.304457 |   678.58691 |   0.4752572 |   0.33419425 | 0.11696520 | 49348100 |\n",
       "| X | 49348051 | 49348250 | X:49348051-49348250 | . | + |  0.06709130 |  182.509987 |   190.76572 |   0.1063843 |   0.06826882 | 0.24330082 | 49348150 |\n",
       "| X | 49348101 | 49348300 | X:49348101-49348300 | . | + | -0.46426447 |  313.035046 |   227.91510 |   1.7335314 |   1.39304615 | 0.19705144 | 49348200 |\n",
       "| X | 49348151 | 49348350 | X:49348151-49348350 | . | + | -0.21095647 |  759.159440 |   656.75031 |   0.8682440 |   0.64797845 | 0.14129907 | 49348250 |\n",
       "| X | 49528401 | 49528600 | X:49528401-49528600 | . | + |  2.81710500 | 1818.297455 | 12817.03270 | 257.9596924 | 256.49177083 | 0.08199446 | 49528500 |\n",
       "| X | 49528451 | 49528650 | X:49528451-49528650 | . | + |  0.30911606 | 1396.458849 |  1728.26079 |   2.3367590 |   1.94036228 | 0.10909601 | 49528550 |\n",
       "| X | 49528501 | 49528700 | X:49528501-49528700 | . | + | -0.04017608 | 1648.705298 |  1603.55793 |   0.1874573 |   0.12305565 | 0.08838985 | 49528600 |\n",
       "| X | 49528551 | 49528750 | X:49528551-49528750 | . | + |  1.61065139 |  785.726510 |  2400.48275 |  77.3755551 |  76.30162502 | 0.08609142 | 49528650 |\n",
       "| X | 49528601 | 49528800 | X:49528601-49528800 | . | + |  0.08656580 |  987.261609 |  1047.89799 |   0.4170597 |   0.28973529 | 0.09918172 | 49528700 |\n",
       "| X | 49528651 | 49528850 | X:49528651-49528850 | . | + |  0.44086418 |  843.139011 |  1145.25131 |   4.7527612 |   4.22402359 | 0.10270654 | 49528750 |\n",
       "| X | 49528701 | 49528900 | X:49528701-49528900 | . | + |  1.80843353 |  524.039417 |  1835.71241 |  89.0122258 |  87.90011101 | 0.09003314 | 49528800 |\n",
       "| X | 49528751 | 49528950 | X:49528751-49528950 | . | + |          NA |          NA |          NA |          NA |           NA |         NA | 49528850 |\n",
       "| X | 49528801 | 49529000 | X:49528801-49529000 | . | + |  0.51309952 |    7.446807 |    10.55531 |   0.2947100 |   0.19968081 | 0.77390365 | 49528900 |\n",
       "| X | 49528851 | 49529050 | X:49528851-49529050 | . | + |  0.28993439 |   10.779872 |    13.06839 |   0.1871472 |   0.12286457 | 0.63877933 | 49528950 |\n",
       "\n"
      ],
      "text/plain": [
       "   chrom Start    End      ID                  Score Strand log2fc     \n",
       "1  X     49347901 49348100 X:49347901-49348100 .     +       0.17348955\n",
       "2  X     49347951 49348150 X:49347951-49348150 .     +      -0.20054161\n",
       "3  X     49348001 49348200 X:49348001-49348200 .     +      -0.11281952\n",
       "4  X     49348051 49348250 X:49348051-49348250 .     +       0.06709130\n",
       "5  X     49348101 49348300 X:49348101-49348300 .     +      -0.46426447\n",
       "6  X     49348151 49348350 X:49348151-49348350 .     +      -0.21095647\n",
       "7  X     49528401 49528600 X:49528401-49528600 .     +       2.81710500\n",
       "8  X     49528451 49528650 X:49528451-49528650 .     +       0.30911606\n",
       "9  X     49528501 49528700 X:49528501-49528700 .     +      -0.04017608\n",
       "10 X     49528551 49528750 X:49528551-49528750 .     +       1.61065139\n",
       "11 X     49528601 49528800 X:49528601-49528800 .     +       0.08656580\n",
       "12 X     49528651 49528850 X:49528651-49528850 .     +       0.44086418\n",
       "13 X     49528701 49528900 X:49528701-49528900 .     +       1.80843353\n",
       "14 X     49528751 49528950 X:49528751-49528950 .     +               NA\n",
       "15 X     49528801 49529000 X:49528801-49529000 .     +       0.51309952\n",
       "16 X     49528851 49529050 X:49528851-49529050 .     +       0.28993439\n",
       "   Input_Count Output_Count log10pval   log10fdr     lfc-se     Loc     \n",
       "1   526.301527   593.75739    0.6203219   0.44736379 0.14755987 49348000\n",
       "2  1249.345825  1086.52900    1.1724797   0.90239496 0.10957494 49348050\n",
       "3   734.304457   678.58691    0.4752572   0.33419425 0.11696520 49348100\n",
       "4   182.509987   190.76572    0.1063843   0.06826882 0.24330082 49348150\n",
       "5   313.035046   227.91510    1.7335314   1.39304615 0.19705144 49348200\n",
       "6   759.159440   656.75031    0.8682440   0.64797845 0.14129907 49348250\n",
       "7  1818.297455 12817.03270  257.9596924 256.49177083 0.08199446 49528500\n",
       "8  1396.458849  1728.26079    2.3367590   1.94036228 0.10909601 49528550\n",
       "9  1648.705298  1603.55793    0.1874573   0.12305565 0.08838985 49528600\n",
       "10  785.726510  2400.48275   77.3755551  76.30162502 0.08609142 49528650\n",
       "11  987.261609  1047.89799    0.4170597   0.28973529 0.09918172 49528700\n",
       "12  843.139011  1145.25131    4.7527612   4.22402359 0.10270654 49528750\n",
       "13  524.039417  1835.71241   89.0122258  87.90011101 0.09003314 49528800\n",
       "14          NA          NA           NA           NA         NA 49528850\n",
       "15    7.446807    10.55531    0.2947100   0.19968081 0.77390365 49528900\n",
       "16   10.779872    13.06839    0.1871472   0.12286457 0.63877933 49528950"
      ]
     },
     "metadata": {},
     "output_type": "display_data"
    }
   ],
   "source": [
    "dat = dat_mpra_ori\n",
    "dat = dat %>% dplyr::filter(Loc > 49348000, Loc < 49529000)\n",
    "dat"
   ]
  },
  {
   "cell_type": "code",
   "execution_count": null,
   "metadata": {},
   "outputs": [],
   "source": []
  }
 ],
 "metadata": {
  "kernelspec": {
   "display_name": "R",
   "language": "R",
   "name": "ir"
  },
  "language_info": {
   "codemirror_mode": "r",
   "file_extension": ".r",
   "mimetype": "text/x-r-source",
   "name": "R",
   "pygments_lexer": "r",
   "version": "4.1.3"
  }
 },
 "nbformat": 4,
 "nbformat_minor": 4
}
