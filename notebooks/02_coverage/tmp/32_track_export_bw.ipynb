{
 "cells": [
  {
   "cell_type": "code",
   "execution_count": 1,
   "id": "74ae07ef",
   "metadata": {},
   "outputs": [
    {
     "name": "stdout",
     "output_type": "stream",
     "text": [
      "You are in Singularity: singularity_proj_combeffect \n",
      "BASE DIRECTORY:     /mount/work \n",
      "PATH OF SOURCE:     /mount/work/source \n",
      "PATH OF EXECUTABLE: /mount/work/exe \n",
      "PATH OF ANNOTATION: /mount/work/annotation \n",
      "PATH OF PROJECT:    /mount/project \n",
      "PATH OF RESULTS:    /mount/work/out/proj_combeffect_encode_fcc \n"
     ]
    }
   ],
   "source": [
    "suppressMessages(suppressWarnings(source(\"../config_sing.R\")))\n",
    "suppressMessages(suppressWarnings(library(\"GenomicRanges\")))\n",
    "suppressMessages(suppressWarnings(library(\"rtracklayer\")))\n",
    "suppressMessages(suppressWarnings(library(\"BSgenome.Hsapiens.UCSC.hg38\")))\n",
    "show_env()"
   ]
  },
  {
   "cell_type": "code",
   "execution_count": 3,
   "id": "a7dd032b",
   "metadata": {},
   "outputs": [
    {
     "data": {
      "text/html": [
       "<style>\n",
       ".list-inline {list-style: none; margin:0; padding: 0}\n",
       ".list-inline>li {display: inline-block}\n",
       ".list-inline>li:not(:last-child)::after {content: \"\\00b7\"; padding: 0 .5ex}\n",
       "</style>\n",
       "<ol class=list-inline><li>'KS91_K562_ASTARRseq'</li><li>'log'</li><li>'regulatory_landscape'</li><li>'source'</li><li>'Tewhey_K562_TileMPRA'</li><li>'track_compare'</li></ol>\n"
      ],
      "text/latex": [
       "\\begin{enumerate*}\n",
       "\\item 'KS91\\_K562\\_ASTARRseq'\n",
       "\\item 'log'\n",
       "\\item 'regulatory\\_landscape'\n",
       "\\item 'source'\n",
       "\\item 'Tewhey\\_K562\\_TileMPRA'\n",
       "\\item 'track\\_compare'\n",
       "\\end{enumerate*}\n"
      ],
      "text/markdown": [
       "1. 'KS91_K562_ASTARRseq'\n",
       "2. 'log'\n",
       "3. 'regulatory_landscape'\n",
       "4. 'source'\n",
       "5. 'Tewhey_K562_TileMPRA'\n",
       "6. 'track_compare'\n",
       "\n",
       "\n"
      ],
      "text/plain": [
       "[1] \"KS91_K562_ASTARRseq\"  \"log\"                  \"regulatory_landscape\"\n",
       "[4] \"source\"               \"Tewhey_K562_TileMPRA\" \"track_compare\"       "
      ]
     },
     "metadata": {},
     "output_type": "display_data"
    }
   ],
   "source": [
    "dir(FD_RES)"
   ]
  },
  {
   "cell_type": "code",
   "execution_count": 11,
   "id": "39e14765",
   "metadata": {},
   "outputs": [
    {
     "data": {
      "text/html": [
       "<table class=\"dataframe\">\n",
       "<caption>A tibble: 6 × 9</caption>\n",
       "<thead>\n",
       "\t<tr><th scope=col>Chrom</th><th scope=col>Loc</th><th scope=col>Sample</th><th scope=col>Group</th><th scope=col>Replicate</th><th scope=col>Region</th><th scope=col>Depth</th><th scope=col>Size</th><th scope=col>Depth_Norm</th></tr>\n",
       "\t<tr><th scope=col>&lt;chr&gt;</th><th scope=col>&lt;dbl&gt;</th><th scope=col>&lt;chr&gt;</th><th scope=col>&lt;chr&gt;</th><th scope=col>&lt;chr&gt;</th><th scope=col>&lt;chr&gt;</th><th scope=col>&lt;dbl&gt;</th><th scope=col>&lt;dbl&gt;</th><th scope=col>&lt;dbl&gt;</th></tr>\n",
       "</thead>\n",
       "<tbody>\n",
       "\t<tr><td>chrX</td><td>47786400</td><td>Input_rep1</td><td>Input</td><td>rep1</td><td>GATA1</td><td>0</td><td>358823</td><td>0</td></tr>\n",
       "\t<tr><td>chrX</td><td>47786401</td><td>Input_rep1</td><td>Input</td><td>rep1</td><td>GATA1</td><td>0</td><td>358823</td><td>0</td></tr>\n",
       "\t<tr><td>chrX</td><td>47786402</td><td>Input_rep1</td><td>Input</td><td>rep1</td><td>GATA1</td><td>0</td><td>358823</td><td>0</td></tr>\n",
       "\t<tr><td>chrX</td><td>47786403</td><td>Input_rep1</td><td>Input</td><td>rep1</td><td>GATA1</td><td>0</td><td>358823</td><td>0</td></tr>\n",
       "\t<tr><td>chrX</td><td>47786404</td><td>Input_rep1</td><td>Input</td><td>rep1</td><td>GATA1</td><td>0</td><td>358823</td><td>0</td></tr>\n",
       "\t<tr><td>chrX</td><td>47786405</td><td>Input_rep1</td><td>Input</td><td>rep1</td><td>GATA1</td><td>0</td><td>358823</td><td>0</td></tr>\n",
       "</tbody>\n",
       "</table>\n"
      ],
      "text/latex": [
       "A tibble: 6 × 9\n",
       "\\begin{tabular}{lllllllll}\n",
       " Chrom & Loc & Sample & Group & Replicate & Region & Depth & Size & Depth\\_Norm\\\\\n",
       " <chr> & <dbl> & <chr> & <chr> & <chr> & <chr> & <dbl> & <dbl> & <dbl>\\\\\n",
       "\\hline\n",
       "\t chrX & 47786400 & Input\\_rep1 & Input & rep1 & GATA1 & 0 & 358823 & 0\\\\\n",
       "\t chrX & 47786401 & Input\\_rep1 & Input & rep1 & GATA1 & 0 & 358823 & 0\\\\\n",
       "\t chrX & 47786402 & Input\\_rep1 & Input & rep1 & GATA1 & 0 & 358823 & 0\\\\\n",
       "\t chrX & 47786403 & Input\\_rep1 & Input & rep1 & GATA1 & 0 & 358823 & 0\\\\\n",
       "\t chrX & 47786404 & Input\\_rep1 & Input & rep1 & GATA1 & 0 & 358823 & 0\\\\\n",
       "\t chrX & 47786405 & Input\\_rep1 & Input & rep1 & GATA1 & 0 & 358823 & 0\\\\\n",
       "\\end{tabular}\n"
      ],
      "text/markdown": [
       "\n",
       "A tibble: 6 × 9\n",
       "\n",
       "| Chrom &lt;chr&gt; | Loc &lt;dbl&gt; | Sample &lt;chr&gt; | Group &lt;chr&gt; | Replicate &lt;chr&gt; | Region &lt;chr&gt; | Depth &lt;dbl&gt; | Size &lt;dbl&gt; | Depth_Norm &lt;dbl&gt; |\n",
       "|---|---|---|---|---|---|---|---|---|\n",
       "| chrX | 47786400 | Input_rep1 | Input | rep1 | GATA1 | 0 | 358823 | 0 |\n",
       "| chrX | 47786401 | Input_rep1 | Input | rep1 | GATA1 | 0 | 358823 | 0 |\n",
       "| chrX | 47786402 | Input_rep1 | Input | rep1 | GATA1 | 0 | 358823 | 0 |\n",
       "| chrX | 47786403 | Input_rep1 | Input | rep1 | GATA1 | 0 | 358823 | 0 |\n",
       "| chrX | 47786404 | Input_rep1 | Input | rep1 | GATA1 | 0 | 358823 | 0 |\n",
       "| chrX | 47786405 | Input_rep1 | Input | rep1 | GATA1 | 0 | 358823 | 0 |\n",
       "\n"
      ],
      "text/plain": [
       "  Chrom Loc      Sample     Group Replicate Region Depth Size   Depth_Norm\n",
       "1 chrX  47786400 Input_rep1 Input rep1      GATA1  0     358823 0         \n",
       "2 chrX  47786401 Input_rep1 Input rep1      GATA1  0     358823 0         \n",
       "3 chrX  47786402 Input_rep1 Input rep1      GATA1  0     358823 0         \n",
       "4 chrX  47786403 Input_rep1 Input rep1      GATA1  0     358823 0         \n",
       "5 chrX  47786404 Input_rep1 Input rep1      GATA1  0     358823 0         \n",
       "6 chrX  47786405 Input_rep1 Input rep1      GATA1  0     358823 0         "
      ]
     },
     "metadata": {},
     "output_type": "display_data"
    }
   ],
   "source": [
    "###\n",
    "fdiry = file.path(FD_RES, \"KS91_K562_ASTARRseq\", \"coverage\")\n",
    "fname = \"KS91_K562_hg38_ASTARRseq_Depth.GATA1.unstranded.perbase.tsv\"\n",
    "fpath = file.path(fdiry, fname)\n",
    "\n",
    "dat_astarr_gata1 = read_tsv(fpath, show_col_types = FALSE)\n",
    "head(dat_astarr_gata1)"
   ]
  },
  {
   "cell_type": "code",
   "execution_count": 26,
   "id": "2a57af2e",
   "metadata": {},
   "outputs": [
    {
     "data": {
      "text/html": [
       "<table class=\"dataframe\">\n",
       "<caption>A tibble: 6 × 4</caption>\n",
       "<thead>\n",
       "\t<tr><th scope=col>Chrom</th><th scope=col>Loc</th><th scope=col>Sample</th><th scope=col>Value</th></tr>\n",
       "\t<tr><th scope=col>&lt;chr&gt;</th><th scope=col>&lt;dbl&gt;</th><th scope=col>&lt;chr&gt;</th><th scope=col>&lt;dbl&gt;</th></tr>\n",
       "</thead>\n",
       "<tbody>\n",
       "\t<tr><td>chrX</td><td>48780000</td><td>Rep1</td><td> 2.898608e-06</td></tr>\n",
       "\t<tr><td>chrX</td><td>48780001</td><td>Rep1</td><td>-1.420414e-05</td></tr>\n",
       "\t<tr><td>chrX</td><td>48780002</td><td>Rep1</td><td>-1.420414e-05</td></tr>\n",
       "\t<tr><td>chrX</td><td>48780003</td><td>Rep1</td><td>-1.380209e-05</td></tr>\n",
       "\t<tr><td>chrX</td><td>48780004</td><td>Rep1</td><td>-1.380209e-05</td></tr>\n",
       "\t<tr><td>chrX</td><td>48780005</td><td>Rep1</td><td>-1.380209e-05</td></tr>\n",
       "</tbody>\n",
       "</table>\n"
      ],
      "text/latex": [
       "A tibble: 6 × 4\n",
       "\\begin{tabular}{llll}\n",
       " Chrom & Loc & Sample & Value\\\\\n",
       " <chr> & <dbl> & <chr> & <dbl>\\\\\n",
       "\\hline\n",
       "\t chrX & 48780000 & Rep1 &  2.898608e-06\\\\\n",
       "\t chrX & 48780001 & Rep1 & -1.420414e-05\\\\\n",
       "\t chrX & 48780002 & Rep1 & -1.420414e-05\\\\\n",
       "\t chrX & 48780003 & Rep1 & -1.380209e-05\\\\\n",
       "\t chrX & 48780004 & Rep1 & -1.380209e-05\\\\\n",
       "\t chrX & 48780005 & Rep1 & -1.380209e-05\\\\\n",
       "\\end{tabular}\n"
      ],
      "text/markdown": [
       "\n",
       "A tibble: 6 × 4\n",
       "\n",
       "| Chrom &lt;chr&gt; | Loc &lt;dbl&gt; | Sample &lt;chr&gt; | Value &lt;dbl&gt; |\n",
       "|---|---|---|---|\n",
       "| chrX | 48780000 | Rep1 |  2.898608e-06 |\n",
       "| chrX | 48780001 | Rep1 | -1.420414e-05 |\n",
       "| chrX | 48780002 | Rep1 | -1.420414e-05 |\n",
       "| chrX | 48780003 | Rep1 | -1.380209e-05 |\n",
       "| chrX | 48780004 | Rep1 | -1.380209e-05 |\n",
       "| chrX | 48780005 | Rep1 | -1.380209e-05 |\n",
       "\n"
      ],
      "text/plain": [
       "  Chrom Loc      Sample Value        \n",
       "1 chrX  48780000 Rep1    2.898608e-06\n",
       "2 chrX  48780001 Rep1   -1.420414e-05\n",
       "3 chrX  48780002 Rep1   -1.420414e-05\n",
       "4 chrX  48780003 Rep1   -1.380209e-05\n",
       "5 chrX  48780004 Rep1   -1.380209e-05\n",
       "6 chrX  48780005 Rep1   -1.380209e-05"
      ]
     },
     "metadata": {},
     "output_type": "display_data"
    }
   ],
   "source": [
    "start  = 48780000\n",
    "end    = 48826000\n",
    "\n",
    "dat = dat_astarr_gata1\n",
    "dat = dat %>% dplyr::filter(start <= Loc, Loc <= end)\n",
    "dat = dat %>% dplyr::filter(Replicate %in% c(\"rep1\", \"rep2\", \"rep3\", \"rep4\"))\n",
    "\n",
    "dat = dat %>% \n",
    "    dplyr::select(Chrom, Loc, Depth_Norm, Sample) %>% \n",
    "    spread(Sample, Depth_Norm) %>%\n",
    "    mutate(\n",
    "        Rep1 = log2((Output_rep1 + 10) / (Input_rep1 + 10)),\n",
    "        Rep2 = log2((Output_rep2 + 10) / (Input_rep2 + 10)),\n",
    "        Rep3 = log2((Output_rep3 + 10) / (Input_rep3 + 10)),\n",
    "        Rep4 = log2((Output_rep4 + 10) / (Input_rep4 + 10)))\n",
    "\n",
    "dat = dat %>% \n",
    "    dplyr::select(Chrom, Loc, Rep1, Rep2, Rep3, Rep4) %>%\n",
    "    gather(Sample, Value, -Chrom, -Loc)\n",
    "head(dat)"
   ]
  },
  {
   "cell_type": "code",
   "execution_count": 27,
   "id": "acb51570",
   "metadata": {},
   "outputs": [
    {
     "data": {
      "text/html": [
       "<table class=\"dataframe\">\n",
       "<caption>A tibble: 6 × 5</caption>\n",
       "<thead>\n",
       "\t<tr><th scope=col>Chrom</th><th scope=col>Start</th><th scope=col>End</th><th scope=col>Strand</th><th scope=col>Score</th></tr>\n",
       "\t<tr><th scope=col>&lt;chr&gt;</th><th scope=col>&lt;dbl&gt;</th><th scope=col>&lt;dbl&gt;</th><th scope=col>&lt;chr&gt;</th><th scope=col>&lt;dbl&gt;</th></tr>\n",
       "</thead>\n",
       "<tbody>\n",
       "\t<tr><td>chrX</td><td>48780000</td><td>48780001</td><td>*</td><td> 2.898608e-06</td></tr>\n",
       "\t<tr><td>chrX</td><td>48780001</td><td>48780002</td><td>*</td><td>-1.420414e-05</td></tr>\n",
       "\t<tr><td>chrX</td><td>48780002</td><td>48780003</td><td>*</td><td>-1.420414e-05</td></tr>\n",
       "\t<tr><td>chrX</td><td>48780003</td><td>48780004</td><td>*</td><td>-1.380209e-05</td></tr>\n",
       "\t<tr><td>chrX</td><td>48780004</td><td>48780005</td><td>*</td><td>-1.380209e-05</td></tr>\n",
       "\t<tr><td>chrX</td><td>48780005</td><td>48780006</td><td>*</td><td>-1.380209e-05</td></tr>\n",
       "</tbody>\n",
       "</table>\n"
      ],
      "text/latex": [
       "A tibble: 6 × 5\n",
       "\\begin{tabular}{lllll}\n",
       " Chrom & Start & End & Strand & Score\\\\\n",
       " <chr> & <dbl> & <dbl> & <chr> & <dbl>\\\\\n",
       "\\hline\n",
       "\t chrX & 48780000 & 48780001 & * &  2.898608e-06\\\\\n",
       "\t chrX & 48780001 & 48780002 & * & -1.420414e-05\\\\\n",
       "\t chrX & 48780002 & 48780003 & * & -1.420414e-05\\\\\n",
       "\t chrX & 48780003 & 48780004 & * & -1.380209e-05\\\\\n",
       "\t chrX & 48780004 & 48780005 & * & -1.380209e-05\\\\\n",
       "\t chrX & 48780005 & 48780006 & * & -1.380209e-05\\\\\n",
       "\\end{tabular}\n"
      ],
      "text/markdown": [
       "\n",
       "A tibble: 6 × 5\n",
       "\n",
       "| Chrom &lt;chr&gt; | Start &lt;dbl&gt; | End &lt;dbl&gt; | Strand &lt;chr&gt; | Score &lt;dbl&gt; |\n",
       "|---|---|---|---|---|\n",
       "| chrX | 48780000 | 48780001 | * |  2.898608e-06 |\n",
       "| chrX | 48780001 | 48780002 | * | -1.420414e-05 |\n",
       "| chrX | 48780002 | 48780003 | * | -1.420414e-05 |\n",
       "| chrX | 48780003 | 48780004 | * | -1.380209e-05 |\n",
       "| chrX | 48780004 | 48780005 | * | -1.380209e-05 |\n",
       "| chrX | 48780005 | 48780006 | * | -1.380209e-05 |\n",
       "\n"
      ],
      "text/plain": [
       "  Chrom Start    End      Strand Score        \n",
       "1 chrX  48780000 48780001 *       2.898608e-06\n",
       "2 chrX  48780001 48780002 *      -1.420414e-05\n",
       "3 chrX  48780002 48780003 *      -1.420414e-05\n",
       "4 chrX  48780003 48780004 *      -1.380209e-05\n",
       "5 chrX  48780004 48780005 *      -1.380209e-05\n",
       "6 chrX  48780005 48780006 *      -1.380209e-05"
      ]
     },
     "metadata": {},
     "output_type": "display_data"
    }
   ],
   "source": [
    "tmp = dat\n",
    "tmp = tmp %>% \n",
    "    dplyr::filter(Sample == \"Rep1\") %>% \n",
    "    dplyr::rename(Start = Loc) %>% \n",
    "    dplyr::mutate(\n",
    "        End    = Start + 1, \n",
    "        Strand = \"*\",\n",
    "        Score  = Value) %>%\n",
    "    dplyr::select(-Sample, -Value)\n",
    "\n",
    "\n",
    "head(tmp)"
   ]
  },
  {
   "cell_type": "code",
   "execution_count": 28,
   "id": "453f437e",
   "metadata": {},
   "outputs": [],
   "source": [
    "genome_hg38 = BSgenome.Hsapiens.UCSC.hg38"
   ]
  },
  {
   "cell_type": "code",
   "execution_count": 29,
   "id": "521432e2",
   "metadata": {},
   "outputs": [
    {
     "name": "stdout",
     "output_type": "stream",
     "text": [
      "GRanges object with 46001 ranges and 1 metadata column:\n",
      "          seqnames    ranges strand |        score\n",
      "             <Rle> <IRanges>  <Rle> |    <numeric>\n",
      "      [1]     chrX  48780001      * |  2.89861e-06\n",
      "      [2]     chrX  48780002      * | -1.42041e-05\n",
      "      [3]     chrX  48780003      * | -1.42041e-05\n",
      "      [4]     chrX  48780004      * | -1.38021e-05\n",
      "      [5]     chrX  48780005      * | -1.38021e-05\n",
      "      ...      ...       ...    ... .          ...\n",
      "  [45997]     chrX  48825997      * | -6.08451e-06\n",
      "  [45998]     chrX  48825998      * | -5.68245e-06\n",
      "  [45999]     chrX  48825999      * | -5.68245e-06\n",
      "  [46000]     chrX  48826000      * | -5.68245e-06\n",
      "  [46001]     chrX  48826001      * | -5.68245e-06\n",
      "  -------\n",
      "  seqinfo: 640 sequences from hg38 genome\n"
     ]
    }
   ],
   "source": [
    "gr = GRanges(\n",
    "    seqnames   = tmp$Chrom,               \n",
    "    ranges     = IRanges(\n",
    "        start  = tmp$Start+1,\n",
    "        end    = tmp$End), \n",
    "    strand     = tmp$Strand,\n",
    "    seqlengths = seqlengths(genome_hg38))\n",
    "\n",
    "mcols(gr)$score = tmp$Score\n",
    "genome(gr) = \"hg38\"\n",
    "\n",
    "print(gr)"
   ]
  },
  {
   "cell_type": "code",
   "execution_count": 30,
   "id": "d88ae9e8",
   "metadata": {},
   "outputs": [],
   "source": [
    "fdiry = file.path(FD_RES, \"KS91_K562_ASTARRseq\", \"coverage\")\n",
    "fname = \"test.bw\"\n",
    "fpath = file.path(fdiry, fname)\n",
    "\n",
    "export(gr, fpath, format = \"BigWig\")"
   ]
  },
  {
   "cell_type": "code",
   "execution_count": null,
   "id": "07909f03",
   "metadata": {},
   "outputs": [],
   "source": []
  }
 ],
 "metadata": {
  "kernelspec": {
   "display_name": "R",
   "language": "R",
   "name": "ir"
  },
  "language_info": {
   "codemirror_mode": "r",
   "file_extension": ".r",
   "mimetype": "text/x-r-source",
   "name": "R",
   "pygments_lexer": "r",
   "version": "4.2.0"
  }
 },
 "nbformat": 4,
 "nbformat_minor": 5
}
