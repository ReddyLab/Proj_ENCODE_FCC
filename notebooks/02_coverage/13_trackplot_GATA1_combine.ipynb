{
 "cells": [
  {
   "cell_type": "markdown",
   "id": "57f3ff0d-ef22-47b8-bc1f-e91c8280fb4d",
   "metadata": {},
   "source": [
    "**Set environment**"
   ]
  },
  {
   "cell_type": "code",
   "execution_count": 1,
   "id": "5363c840-dc4a-4fb7-8d2f-49ccfdbbeb0c",
   "metadata": {},
   "outputs": [
    {
     "name": "stdout",
     "output_type": "stream",
     "text": [
      "You are in Singularity: singularity_proj_combeffect \n",
      "BASE DIRECTORY:     /mount/work \n",
      "PATH OF SOURCE:     /mount/work/source \n",
      "PATH OF EXECUTABLE: /mount/work/exe \n",
      "PATH OF ANNOTATION: /mount/work/annotation \n",
      "PATH OF PROJECT:    /mount/project \n",
      "PATH OF RESULTS:    /mount/work/out/proj_combeffect_encode_fcc \n"
     ]
    }
   ],
   "source": [
    "suppressMessages(source(\"../config_sing.R\"))"
   ]
  },
  {
   "cell_type": "markdown",
   "id": "c2afb10b-efed-4e1c-963b-1a5fb1cd9121",
   "metadata": {},
   "source": [
    "## Import data"
   ]
  },
  {
   "cell_type": "markdown",
   "id": "a0b34129-56cb-4223-bb13-371eb6b2ebed",
   "metadata": {},
   "source": [
    "**Tiling MPRA**"
   ]
  },
  {
   "cell_type": "code",
   "execution_count": 2,
   "id": "3a3b1dbe-3272-4a2c-a9e9-7b00719cac82",
   "metadata": {},
   "outputs": [
    {
     "data": {
      "text/html": [
       "'Tile_K562_20210130.GATA1.unstranded.bed'"
      ],
      "text/latex": [
       "'Tile\\_K562\\_20210130.GATA1.unstranded.bed'"
      ],
      "text/markdown": [
       "'Tile_K562_20210130.GATA1.unstranded.bed'"
      ],
      "text/plain": [
       "[1] \"Tile_K562_20210130.GATA1.unstranded.bed\""
      ]
     },
     "metadata": {},
     "output_type": "display_data"
    }
   ],
   "source": [
    "fdiry = file.path(FD_RES, \"Tewhey_K562_TileMPRA\", \"count\")\n",
    "dir(fdiry)"
   ]
  },
  {
   "cell_type": "code",
   "execution_count": 3,
   "id": "8f8bd5e6-46a3-4394-ba26-03b3d68b7368",
   "metadata": {},
   "outputs": [
    {
     "data": {
      "text/html": [
       "<table class=\"dataframe\">\n",
       "<caption>A tibble: 6 × 13</caption>\n",
       "<thead>\n",
       "\t<tr><th scope=col>chrom</th><th scope=col>Start</th><th scope=col>End</th><th scope=col>ID</th><th scope=col>Score</th><th scope=col>Strand</th><th scope=col>log2fc</th><th scope=col>Input_Count</th><th scope=col>Output_Count</th><th scope=col>log10pval</th><th scope=col>log10fdr</th><th scope=col>lfc_se</th><th scope=col>Loc</th></tr>\n",
       "\t<tr><th scope=col>&lt;chr&gt;</th><th scope=col>&lt;dbl&gt;</th><th scope=col>&lt;dbl&gt;</th><th scope=col>&lt;chr&gt;</th><th scope=col>&lt;chr&gt;</th><th scope=col>&lt;chr&gt;</th><th scope=col>&lt;dbl&gt;</th><th scope=col>&lt;dbl&gt;</th><th scope=col>&lt;dbl&gt;</th><th scope=col>&lt;dbl&gt;</th><th scope=col>&lt;dbl&gt;</th><th scope=col>&lt;dbl&gt;</th><th scope=col>&lt;dbl&gt;</th></tr>\n",
       "</thead>\n",
       "<tbody>\n",
       "\t<tr><td>chrX</td><td>47786401</td><td>47786600</td><td>X:47786401-47786600</td><td>.</td><td>+</td><td> 2.30593934</td><td>2117.787</td><td>10474.869</td><td>112.1126526</td><td>110.93113079</td><td>0.10214790</td><td>47786500</td></tr>\n",
       "\t<tr><td>chrX</td><td>47786451</td><td>47786650</td><td>X:47786451-47786650</td><td>.</td><td>+</td><td> 0.78305606</td><td>1386.007</td><td> 2387.119</td><td> 11.3173884</td><td> 10.64251685</td><td>0.11330705</td><td>47786550</td></tr>\n",
       "\t<tr><td>chrX</td><td>47786501</td><td>47786700</td><td>X:47786501-47786700</td><td>.</td><td>+</td><td>-0.12873196</td><td>1955.626</td><td> 1788.236</td><td>  0.8450697</td><td>  0.62872262</td><td>0.08785968</td><td>47786600</td></tr>\n",
       "\t<tr><td>chrX</td><td>47786551</td><td>47786750</td><td>X:47786551-47786750</td><td>.</td><td>+</td><td> 0.58829515</td><td>2388.997</td><td> 3591.264</td><td> 11.2404554</td><td> 10.56667887</td><td>0.08543661</td><td>47786650</td></tr>\n",
       "\t<tr><td>chrX</td><td>47786601</td><td>47786800</td><td>X:47786601-47786800</td><td>.</td><td>+</td><td> 0.06670014</td><td>2102.916</td><td> 2202.385</td><td>  0.3095900</td><td>  0.21047015</td><td>0.09667741</td><td>47786700</td></tr>\n",
       "\t<tr><td>chrX</td><td>47786651</td><td>47786850</td><td>X:47786651-47786850</td><td>.</td><td>+</td><td>-0.02967703</td><td>1571.259</td><td> 1537.475</td><td>  0.1009399</td><td>  0.06453099</td><td>0.11287406</td><td>47786750</td></tr>\n",
       "</tbody>\n",
       "</table>\n"
      ],
      "text/latex": [
       "A tibble: 6 × 13\n",
       "\\begin{tabular}{lllllllllllll}\n",
       " chrom & Start & End & ID & Score & Strand & log2fc & Input\\_Count & Output\\_Count & log10pval & log10fdr & lfc\\_se & Loc\\\\\n",
       " <chr> & <dbl> & <dbl> & <chr> & <chr> & <chr> & <dbl> & <dbl> & <dbl> & <dbl> & <dbl> & <dbl> & <dbl>\\\\\n",
       "\\hline\n",
       "\t chrX & 47786401 & 47786600 & X:47786401-47786600 & . & + &  2.30593934 & 2117.787 & 10474.869 & 112.1126526 & 110.93113079 & 0.10214790 & 47786500\\\\\n",
       "\t chrX & 47786451 & 47786650 & X:47786451-47786650 & . & + &  0.78305606 & 1386.007 &  2387.119 &  11.3173884 &  10.64251685 & 0.11330705 & 47786550\\\\\n",
       "\t chrX & 47786501 & 47786700 & X:47786501-47786700 & . & + & -0.12873196 & 1955.626 &  1788.236 &   0.8450697 &   0.62872262 & 0.08785968 & 47786600\\\\\n",
       "\t chrX & 47786551 & 47786750 & X:47786551-47786750 & . & + &  0.58829515 & 2388.997 &  3591.264 &  11.2404554 &  10.56667887 & 0.08543661 & 47786650\\\\\n",
       "\t chrX & 47786601 & 47786800 & X:47786601-47786800 & . & + &  0.06670014 & 2102.916 &  2202.385 &   0.3095900 &   0.21047015 & 0.09667741 & 47786700\\\\\n",
       "\t chrX & 47786651 & 47786850 & X:47786651-47786850 & . & + & -0.02967703 & 1571.259 &  1537.475 &   0.1009399 &   0.06453099 & 0.11287406 & 47786750\\\\\n",
       "\\end{tabular}\n"
      ],
      "text/markdown": [
       "\n",
       "A tibble: 6 × 13\n",
       "\n",
       "| chrom &lt;chr&gt; | Start &lt;dbl&gt; | End &lt;dbl&gt; | ID &lt;chr&gt; | Score &lt;chr&gt; | Strand &lt;chr&gt; | log2fc &lt;dbl&gt; | Input_Count &lt;dbl&gt; | Output_Count &lt;dbl&gt; | log10pval &lt;dbl&gt; | log10fdr &lt;dbl&gt; | lfc_se &lt;dbl&gt; | Loc &lt;dbl&gt; |\n",
       "|---|---|---|---|---|---|---|---|---|---|---|---|---|\n",
       "| chrX | 47786401 | 47786600 | X:47786401-47786600 | . | + |  2.30593934 | 2117.787 | 10474.869 | 112.1126526 | 110.93113079 | 0.10214790 | 47786500 |\n",
       "| chrX | 47786451 | 47786650 | X:47786451-47786650 | . | + |  0.78305606 | 1386.007 |  2387.119 |  11.3173884 |  10.64251685 | 0.11330705 | 47786550 |\n",
       "| chrX | 47786501 | 47786700 | X:47786501-47786700 | . | + | -0.12873196 | 1955.626 |  1788.236 |   0.8450697 |   0.62872262 | 0.08785968 | 47786600 |\n",
       "| chrX | 47786551 | 47786750 | X:47786551-47786750 | . | + |  0.58829515 | 2388.997 |  3591.264 |  11.2404554 |  10.56667887 | 0.08543661 | 47786650 |\n",
       "| chrX | 47786601 | 47786800 | X:47786601-47786800 | . | + |  0.06670014 | 2102.916 |  2202.385 |   0.3095900 |   0.21047015 | 0.09667741 | 47786700 |\n",
       "| chrX | 47786651 | 47786850 | X:47786651-47786850 | . | + | -0.02967703 | 1571.259 |  1537.475 |   0.1009399 |   0.06453099 | 0.11287406 | 47786750 |\n",
       "\n"
      ],
      "text/plain": [
       "  chrom Start    End      ID                  Score Strand log2fc     \n",
       "1 chrX  47786401 47786600 X:47786401-47786600 .     +       2.30593934\n",
       "2 chrX  47786451 47786650 X:47786451-47786650 .     +       0.78305606\n",
       "3 chrX  47786501 47786700 X:47786501-47786700 .     +      -0.12873196\n",
       "4 chrX  47786551 47786750 X:47786551-47786750 .     +       0.58829515\n",
       "5 chrX  47786601 47786800 X:47786601-47786800 .     +       0.06670014\n",
       "6 chrX  47786651 47786850 X:47786651-47786850 .     +      -0.02967703\n",
       "  Input_Count Output_Count log10pval   log10fdr     lfc_se     Loc     \n",
       "1 2117.787    10474.869    112.1126526 110.93113079 0.10214790 47786500\n",
       "2 1386.007     2387.119     11.3173884  10.64251685 0.11330705 47786550\n",
       "3 1955.626     1788.236      0.8450697   0.62872262 0.08785968 47786600\n",
       "4 2388.997     3591.264     11.2404554  10.56667887 0.08543661 47786650\n",
       "5 2102.916     2202.385      0.3095900   0.21047015 0.09667741 47786700\n",
       "6 1571.259     1537.475      0.1009399   0.06453099 0.11287406 47786750"
      ]
     },
     "metadata": {},
     "output_type": "display_data"
    }
   ],
   "source": [
    "### set file path\n",
    "fdiry = file.path(FD_RES, \"Tewhey_K562_TileMPRA\", \"count\")\n",
    "fname = \"Tile_K562_20210130.GATA1.unstranded.bed\"\n",
    "fpath = file.path(fdiry, fname)\n",
    "\n",
    "### set columns\n",
    "cnames = c(\"chrom\", \"Start\", \"End\", \"ID\", \"Score\", \"Strand\", \n",
    "           \"log2fc\", \"Input_Count\", \"Output_Count\", \n",
    "           \"log10pval\", \"log10fdr\", \"lfc_se\")\n",
    "\n",
    "### read data\n",
    "dat = read_tsv(fpath, col_names = cnames, show_col_types = FALSE)\n",
    "dat = dat %>% mutate(Loc = (Start + End) / 2)\n",
    "\n",
    "### assign and show\n",
    "dat_tmpra = dat\n",
    "head(dat_tmpra)"
   ]
  },
  {
   "cell_type": "markdown",
   "id": "0eb8e283-5607-4c51-b5a4-842d32fe986b",
   "metadata": {},
   "source": [
    "**ATAC-STARR**"
   ]
  },
  {
   "cell_type": "code",
   "execution_count": 4,
   "id": "d6ef6159-eab0-4c34-9117-08fbe0340c64",
   "metadata": {},
   "outputs": [
    {
     "data": {
      "text/html": [
       "<table class=\"dataframe\">\n",
       "<caption>A tibble: 6 × 4</caption>\n",
       "<thead>\n",
       "\t<tr><th scope=col>Loc</th><th scope=col>Input</th><th scope=col>Output</th><th scope=col>Ratio</th></tr>\n",
       "\t<tr><th scope=col>&lt;dbl&gt;</th><th scope=col>&lt;dbl&gt;</th><th scope=col>&lt;dbl&gt;</th><th scope=col>&lt;dbl&gt;</th></tr>\n",
       "</thead>\n",
       "<tbody>\n",
       "\t<tr><td>47786400</td><td>0</td><td>0</td><td>0</td></tr>\n",
       "\t<tr><td>47786401</td><td>0</td><td>0</td><td>0</td></tr>\n",
       "\t<tr><td>47786402</td><td>0</td><td>0</td><td>0</td></tr>\n",
       "\t<tr><td>47786403</td><td>0</td><td>0</td><td>0</td></tr>\n",
       "\t<tr><td>47786404</td><td>0</td><td>0</td><td>0</td></tr>\n",
       "\t<tr><td>47786405</td><td>0</td><td>0</td><td>0</td></tr>\n",
       "</tbody>\n",
       "</table>\n"
      ],
      "text/latex": [
       "A tibble: 6 × 4\n",
       "\\begin{tabular}{llll}\n",
       " Loc & Input & Output & Ratio\\\\\n",
       " <dbl> & <dbl> & <dbl> & <dbl>\\\\\n",
       "\\hline\n",
       "\t 47786400 & 0 & 0 & 0\\\\\n",
       "\t 47786401 & 0 & 0 & 0\\\\\n",
       "\t 47786402 & 0 & 0 & 0\\\\\n",
       "\t 47786403 & 0 & 0 & 0\\\\\n",
       "\t 47786404 & 0 & 0 & 0\\\\\n",
       "\t 47786405 & 0 & 0 & 0\\\\\n",
       "\\end{tabular}\n"
      ],
      "text/markdown": [
       "\n",
       "A tibble: 6 × 4\n",
       "\n",
       "| Loc &lt;dbl&gt; | Input &lt;dbl&gt; | Output &lt;dbl&gt; | Ratio &lt;dbl&gt; |\n",
       "|---|---|---|---|\n",
       "| 47786400 | 0 | 0 | 0 |\n",
       "| 47786401 | 0 | 0 | 0 |\n",
       "| 47786402 | 0 | 0 | 0 |\n",
       "| 47786403 | 0 | 0 | 0 |\n",
       "| 47786404 | 0 | 0 | 0 |\n",
       "| 47786405 | 0 | 0 | 0 |\n",
       "\n"
      ],
      "text/plain": [
       "  Loc      Input Output Ratio\n",
       "1 47786400 0     0      0    \n",
       "2 47786401 0     0      0    \n",
       "3 47786402 0     0      0    \n",
       "4 47786403 0     0      0    \n",
       "5 47786404 0     0      0    \n",
       "6 47786405 0     0      0    "
      ]
     },
     "metadata": {},
     "output_type": "display_data"
    }
   ],
   "source": [
    "### set file path\n",
    "fdiry = file.path(FD_RES, \"KS91_K562_ASTARRseq\", \"coverage\")\n",
    "fname = \"KS91_K562_hg38_ASTARRseq_Ratio.GATA1.unstranded.perbase.tsv\"\n",
    "fpath = file.path(fdiry, fname)\n",
    "\n",
    "### set column\n",
    "ctypes = c(col_integer(), col_double(), col_double(), col_double())\n",
    "\n",
    "### read data and show\n",
    "dat_astarr = read_tsv(fpath, col_types = ctypes)\n",
    "head(dat_astarr)"
   ]
  },
  {
   "cell_type": "code",
   "execution_count": 5,
   "id": "26d6ae2b-59de-46ac-ae8f-78664b262fa1",
   "metadata": {},
   "outputs": [
    {
     "name": "stdout",
     "output_type": "stream",
     "text": [
      "[1] 47786400 49786749\n",
      "[1] 47786500 49786650\n",
      "[1] 47786401 49786551\n",
      "[1] 47786600 49786750\n"
     ]
    }
   ],
   "source": [
    "print(range(dat_astarr$Loc))\n",
    "print(range(dat_tmpra$Loc))\n",
    "print(range(dat_tmpra$Start))\n",
    "print(range(dat_tmpra$End))"
   ]
  },
  {
   "cell_type": "markdown",
   "id": "53e6a0be-3102-4f14-b4b3-173225799133",
   "metadata": {},
   "source": [
    "## Zoom-In: ChrX:48,780,000-48,826,000"
   ]
  },
  {
   "cell_type": "code",
   "execution_count": 11,
   "id": "184e34cb-ac75-4a8f-809c-0689f24a6d82",
   "metadata": {},
   "outputs": [
    {
     "name": "stdout",
     "output_type": "stream",
     "text": [
      "ASTARR 460 3 \n",
      "\u001b[90m# A tibble: 3 × 3\u001b[39m\n",
      "      Left    Right    Val\n",
      "     \u001b[3m\u001b[90m<int>\u001b[39m\u001b[23m    \u001b[3m\u001b[90m<int>\u001b[39m\u001b[23m  \u001b[3m\u001b[90m<dbl>\u001b[39m\u001b[23m\n",
      "\u001b[90m1\u001b[39m 48\u001b[4m7\u001b[24m\u001b[4m8\u001b[24m\u001b[4m0\u001b[24m000 48\u001b[4m7\u001b[24m\u001b[4m8\u001b[24m\u001b[4m0\u001b[24m100 0.042\u001b[4m3\u001b[24m\n",
      "\u001b[90m2\u001b[39m 48\u001b[4m7\u001b[24m\u001b[4m8\u001b[24m\u001b[4m0\u001b[24m100 48\u001b[4m7\u001b[24m\u001b[4m8\u001b[24m\u001b[4m0\u001b[24m200 0.042\u001b[4m6\u001b[24m\n",
      "\u001b[90m3\u001b[39m 48\u001b[4m7\u001b[24m\u001b[4m8\u001b[24m\u001b[4m0\u001b[24m200 48\u001b[4m7\u001b[24m\u001b[4m8\u001b[24m\u001b[4m0\u001b[24m300 0.027\u001b[4m6\u001b[24m\n",
      "\n",
      "Tiling MPRA 459 3 \n",
      "\u001b[90m# A tibble: 3 × 3\u001b[39m\n",
      "      Left    Right   Val\n",
      "     \u001b[3m\u001b[90m<int>\u001b[39m\u001b[23m    \u001b[3m\u001b[90m<int>\u001b[39m\u001b[23m \u001b[3m\u001b[90m<dbl>\u001b[39m\u001b[23m\n",
      "\u001b[90m1\u001b[39m 48\u001b[4m7\u001b[24m\u001b[4m8\u001b[24m\u001b[4m0\u001b[24m000 48\u001b[4m7\u001b[24m\u001b[4m8\u001b[24m\u001b[4m0\u001b[24m100  2.01\n",
      "\u001b[90m2\u001b[39m 48\u001b[4m7\u001b[24m\u001b[4m8\u001b[24m\u001b[4m0\u001b[24m100 48\u001b[4m7\u001b[24m\u001b[4m8\u001b[24m\u001b[4m0\u001b[24m200  2.33\n",
      "\u001b[90m3\u001b[39m 48\u001b[4m7\u001b[24m\u001b[4m8\u001b[24m\u001b[4m0\u001b[24m200 48\u001b[4m7\u001b[24m\u001b[4m8\u001b[24m\u001b[4m0\u001b[24m300  1.68\n"
     ]
    }
   ],
   "source": [
    "### set bins\n",
    "start  = 48780000\n",
    "end    = 48826000\n",
    "size   = 100\n",
    "breaks = seq(start, end, size)\n",
    "\n",
    "### binning the data\n",
    "df1 = dat_astarr\n",
    "df1$group = cut(df1$Loc, breaks=breaks, right = FALSE, dig.lab = 10)\n",
    "\n",
    "df2 = dat_tmpra \n",
    "df2$group = cut(df2$Loc, breaks=breaks, right = FALSE, dig.lab = 10)\n",
    "\n",
    "### summarize the ratio\n",
    "df1 = df1 %>% group_by(group) %>% summarize(Val = sum(Ratio))     %>% na.omit\n",
    "df2 = df2 %>% group_by(group) %>% summarize(Val = sum(2**log2fc)) %>% na.omit\n",
    "\n",
    "### separate bin label to left and right bound\n",
    "df1 = df1 %>% \n",
    "    mutate(group = gsub(\"\\\\[|\\\\)\", \"\", group)) %>%\n",
    "    separate(group, c(\"Left\", \"Right\")) %>%\n",
    "    mutate(Left = as.integer(Left), Right = as.integer(Right))\n",
    "\n",
    "df2 = df2 %>% \n",
    "    mutate(group = gsub(\"\\\\[|\\\\)\", \"\", group)) %>%\n",
    "    separate(group, c(\"Left\", \"Right\")) %>%\n",
    "    mutate(Left = as.integer(Left), Right = as.integer(Right))\n",
    "\n",
    "### show results\n",
    "cat(\"ASTARR\", dim(df1), \"\\n\")\n",
    "print(head(df1, 3))\n",
    "cat(\"\\n\")\n",
    "cat(\"Tiling MPRA\", dim(df2), \"\\n\")\n",
    "print(head(df2, 3))"
   ]
  },
  {
   "cell_type": "markdown",
   "id": "3af8c023-72a6-4d98-bfb1-646320f517fa",
   "metadata": {},
   "source": [
    "**Plot**"
   ]
  },
  {
   "cell_type": "code",
   "execution_count": 12,
   "id": "c4caa011-c5a6-458b-8e56-5a2e075e631a",
   "metadata": {},
   "outputs": [],
   "source": [
    "### create figure\n",
    "dat = df1\n",
    "gp1 = ggplot(dat) + \n",
    "    geom_rect(\n",
    "        mapping=aes(\n",
    "            xmin=Left, \n",
    "            xmax=Right, \n",
    "            ymin=0, \n",
    "            ymax=Val)) +\n",
    "    labs(y=\"Ratio\", title=\"ATAC-STARR-seq\") +\n",
    "    theme_cowplot()"
   ]
  },
  {
   "cell_type": "code",
   "execution_count": 13,
   "id": "06121d7c-7f53-4f17-8971-5c61d40418db",
   "metadata": {},
   "outputs": [],
   "source": [
    "### create figure\n",
    "dat = df2\n",
    "gp2 = ggplot(dat) + \n",
    "    geom_rect(\n",
    "        mapping=aes(\n",
    "            xmin=Left, \n",
    "            xmax=Right, \n",
    "            ymin=0, \n",
    "            ymax=Val)) +\n",
    "labs(y=\"Ratio\", title=\"Tiling MPRA\") +\n",
    "    theme_cowplot()"
   ]
  },
  {
   "cell_type": "code",
   "execution_count": 15,
   "id": "f5b24d90-5d5d-4a87-a68b-2165c59fc9f5",
   "metadata": {},
   "outputs": [
    {
     "data": {
      "image/png": "[encoded data removed]",
      "text/plain": [
       "plot without title"
      ]
     },
     "metadata": {
      "image/png": {
       "height": 300,
       "width": 600
      }
     },
     "output_type": "display_data"
    }
   ],
   "source": [
    "options(repr.plot.height=5, repr.plot.width=10)\n",
    "plot_grid(\n",
    "    gp1 + ylim(0, 10), \n",
    "    gp2 + ylim(0, 3000), \n",
    "    align=\"v\", \n",
    "    nrow=2, \n",
    "    ncol=1)"
   ]
  },
  {
   "cell_type": "markdown",
   "id": "da89d4a4-8423-4c48-a0fb-244ba079e9f6",
   "metadata": {},
   "source": [
    "**Plot (Log scale)**"
   ]
  },
  {
   "cell_type": "code",
   "execution_count": 61,
   "id": "06a2f454-f9bb-4bb6-afa6-f58bae9f95bc",
   "metadata": {},
   "outputs": [],
   "source": [
    "### create figure\n",
    "dat = df1\n",
    "gp1 = ggplot(dat) + \n",
    "    geom_rect(\n",
    "        mapping=aes(\n",
    "            xmin=Left, \n",
    "            xmax=Right, \n",
    "            ymin=0, \n",
    "            ymax=log2(Val))) +\n",
    "    theme_cowplot()"
   ]
  },
  {
   "cell_type": "code",
   "execution_count": 62,
   "id": "5fc71d0e-85a7-43b8-b4d7-65e61b4756ed",
   "metadata": {},
   "outputs": [],
   "source": [
    "### create figure\n",
    "dat = df2\n",
    "gp2 = ggplot(dat) + \n",
    "    geom_rect(\n",
    "        mapping=aes(\n",
    "            xmin=Left, \n",
    "            xmax=Right, \n",
    "            ymin=0, \n",
    "            ymax=log2(Val))) +\n",
    "    theme_cowplot()"
   ]
  },
  {
   "cell_type": "code",
   "execution_count": 63,
   "id": "bc50bdfd-641d-4790-b301-c4eecd9af2d9",
   "metadata": {},
   "outputs": [
    {
     "data": {
      "image/png": "[encoded data removed]",
      "text/plain": [
       "plot without title"
      ]
     },
     "metadata": {
      "image/png": {
       "height": 300,
       "width": 600
      }
     },
     "output_type": "display_data"
    }
   ],
   "source": [
    "options(repr.plot.height=5, repr.plot.width=10)\n",
    "plot_grid(\n",
    "    gp1 , \n",
    "    gp2 , \n",
    "    align=\"v\", \n",
    "    nrow=2, \n",
    "    ncol=1)"
   ]
  },
  {
   "cell_type": "markdown",
   "id": "05ee624f-d1f0-4e6a-9ca5-354624338e8d",
   "metadata": {},
   "source": [
    "## Plot whole"
   ]
  },
  {
   "cell_type": "code",
   "execution_count": 87,
   "id": "483aa9a5-857d-4829-8cbe-0ac6e0e0f7b3",
   "metadata": {},
   "outputs": [
    {
     "name": "stdout",
     "output_type": "stream",
     "text": [
      "Tiling MPRA 365 3 \n",
      "\u001b[90m# A tibble: 3 × 3\u001b[39m\n",
      "      Left    Right   Val\n",
      "     \u001b[3m\u001b[90m<int>\u001b[39m\u001b[23m    \u001b[3m\u001b[90m<int>\u001b[39m\u001b[23m \u001b[3m\u001b[90m<dbl>\u001b[39m\u001b[23m\n",
      "\u001b[90m1\u001b[39m 47\u001b[4m7\u001b[24m\u001b[4m8\u001b[24m\u001b[4m6\u001b[24m400 47\u001b[4m7\u001b[24m\u001b[4m9\u001b[24m\u001b[4m1\u001b[24m400  212.\n",
      "\u001b[90m2\u001b[39m 47\u001b[4m7\u001b[24m\u001b[4m9\u001b[24m\u001b[4m1\u001b[24m400 47\u001b[4m7\u001b[24m\u001b[4m9\u001b[24m\u001b[4m6\u001b[24m400  114.\n",
      "\u001b[90m3\u001b[39m 47\u001b[4m7\u001b[24m\u001b[4m9\u001b[24m\u001b[4m6\u001b[24m400 47\u001b[4m8\u001b[24m\u001b[4m0\u001b[24m\u001b[4m1\u001b[24m400  194.\n",
      "\n",
      "ASTARR 400 3 \n",
      "\u001b[90m# A tibble: 3 × 3\u001b[39m\n",
      "      Left    Right   Val\n",
      "     \u001b[3m\u001b[90m<int>\u001b[39m\u001b[23m    \u001b[3m\u001b[90m<int>\u001b[39m\u001b[23m \u001b[3m\u001b[90m<dbl>\u001b[39m\u001b[23m\n",
      "\u001b[90m1\u001b[39m 47\u001b[4m7\u001b[24m\u001b[4m8\u001b[24m\u001b[4m6\u001b[24m400 47\u001b[4m7\u001b[24m\u001b[4m9\u001b[24m\u001b[4m1\u001b[24m400 0.369\n",
      "\u001b[90m2\u001b[39m 47\u001b[4m7\u001b[24m\u001b[4m9\u001b[24m\u001b[4m1\u001b[24m400 47\u001b[4m7\u001b[24m\u001b[4m9\u001b[24m\u001b[4m6\u001b[24m400 0.319\n",
      "\u001b[90m3\u001b[39m 47\u001b[4m7\u001b[24m\u001b[4m9\u001b[24m\u001b[4m6\u001b[24m400 47\u001b[4m8\u001b[24m\u001b[4m0\u001b[24m\u001b[4m1\u001b[24m400 1.43 \n"
     ]
    }
   ],
   "source": [
    "### set bins\n",
    "start  = 47786400\n",
    "end    = 49786800\n",
    "size   = 5000\n",
    "breaks = seq(start, end, size)\n",
    "\n",
    "### binning the data\n",
    "df1 = dat_mpra \n",
    "df1$group = cut(df1$Loc, breaks=breaks, right = FALSE, dig.lab = 10)\n",
    "\n",
    "df2 = dat_astarr\n",
    "df2$group = cut(df2$Loc, breaks=breaks, right = FALSE, dig.lab = 10)\n",
    "\n",
    "### summarize the ratio\n",
    "df1 = df1 %>% group_by(group) %>% summarize(Val = sum(2**log2fc)) %>% na.omit\n",
    "df2 = df2 %>% group_by(group) %>% summarize(Val = sum(Ratio))     %>% na.omit\n",
    "\n",
    "### separate bin label to left and right bound\n",
    "df1 = df1 %>% \n",
    "    mutate(group = gsub(\"\\\\[|\\\\)\", \"\", group)) %>%\n",
    "    separate(group, c(\"Left\", \"Right\")) %>%\n",
    "    mutate(Left = as.integer(Left), Right = as.integer(Right))\n",
    "\n",
    "df2 = df2 %>% \n",
    "    mutate(group = gsub(\"\\\\[|\\\\)\", \"\", group)) %>%\n",
    "    separate(group, c(\"Left\", \"Right\")) %>%\n",
    "    mutate(Left = as.integer(Left), Right = as.integer(Right))\n",
    "\n",
    "### show results\n",
    "cat(\"Tiling MPRA\", dim(df1), \"\\n\")\n",
    "print(head(df1, 3))\n",
    "cat(\"\\n\")\n",
    "cat(\"ASTARR\", dim(df2), \"\\n\")\n",
    "print(head(df2, 3))"
   ]
  },
  {
   "cell_type": "code",
   "execution_count": 88,
   "id": "8093211b-0f18-4ae8-9f53-d0f18bdd0e8a",
   "metadata": {},
   "outputs": [],
   "source": [
    "### create figure\n",
    "dat = df1\n",
    "gp1 = ggplot(dat) + \n",
    "    geom_rect(\n",
    "        mapping=aes(\n",
    "            xmin=Left, \n",
    "            xmax=Right, \n",
    "            ymin=0, \n",
    "            ymax=Val)) +\n",
    "    theme_cowplot()"
   ]
  },
  {
   "cell_type": "code",
   "execution_count": 89,
   "id": "6af9b125-9ba7-45c7-bb17-1a39fe98cb93",
   "metadata": {},
   "outputs": [],
   "source": [
    "### create figure\n",
    "dat = df2\n",
    "gp2 = ggplot(dat) + \n",
    "    geom_rect(\n",
    "        mapping=aes(\n",
    "            xmin=Left, \n",
    "            xmax=Right, \n",
    "            ymin=0, \n",
    "            ymax=Val)) +\n",
    "    theme_cowplot()"
   ]
  },
  {
   "cell_type": "code",
   "execution_count": 90,
   "id": "13bc4c2f-2dbc-4ac9-9f26-61c44ae1f5ff",
   "metadata": {},
   "outputs": [
    {
     "data": {
      "image/png": "[encoded data removed]",
      "text/plain": [
       "plot without title"
      ]
     },
     "metadata": {
      "image/png": {
       "height": 300,
       "width": 600
      }
     },
     "output_type": "display_data"
    }
   ],
   "source": [
    "options(repr.plot.height=5, repr.plot.width=10)\n",
    "plot_grid(\n",
    "    gp1,#+ ylim(0, 8000), \n",
    "    gp2,# + ylim(0, 50), \n",
    "    align=\"v\", \n",
    "    nrow=2, \n",
    "    ncol=1)"
   ]
  },
  {
   "cell_type": "code",
   "execution_count": null,
   "id": "63e1a06a-93f3-483f-a1ae-422c34f6c881",
   "metadata": {},
   "outputs": [],
   "source": []
  }
 ],
 "metadata": {
  "kernelspec": {
   "display_name": "R",
   "language": "R",
   "name": "ir"
  },
  "language_info": {
   "codemirror_mode": "r",
   "file_extension": ".r",
   "mimetype": "text/x-r-source",
   "name": "R",
   "pygments_lexer": "r",
   "version": "4.1.3"
  }
 },
 "nbformat": 4,
 "nbformat_minor": 5
}
