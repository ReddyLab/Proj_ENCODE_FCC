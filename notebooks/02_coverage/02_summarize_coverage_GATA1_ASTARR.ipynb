{
 "cells": [
  {
   "cell_type": "markdown",
   "id": "0e6b29ba-f842-4938-b4be-15aeca962277",
   "metadata": {},
   "source": [
    "**Set environment**"
   ]
  },
  {
   "cell_type": "code",
   "execution_count": 1,
   "id": "3d022097-a1c3-4ac7-b77b-e0eb8d32962b",
   "metadata": {},
   "outputs": [
    {
     "name": "stdout",
     "output_type": "stream",
     "text": [
      "You are in Singularity: singularity_proj_combeffect \n",
      "BASE DIRECTORY:     /mount/work \n",
      "PATH OF SOURCE:     /mount/work/source \n",
      "PATH OF EXECUTABLE: /mount/work/exe \n",
      "PATH OF ANNOTATION: /mount/work/annotation \n",
      "PATH OF PROJECT:    /mount/project \n",
      "PATH OF RESULTS:    /mount/work/out/proj_combeffect_encode_fcc \n"
     ]
    }
   ],
   "source": [
    "suppressMessages(source(\"../config_sing.R\"))"
   ]
  },
  {
   "cell_type": "code",
   "execution_count": 2,
   "id": "b34c494b-fb30-4f64-9858-4edf2f18378b",
   "metadata": {},
   "outputs": [
    {
     "data": {
      "text/html": [
       "<style>\n",
       ".list-inline {list-style: none; margin:0; padding: 0}\n",
       ".list-inline>li {display: inline-block}\n",
       ".list-inline>li:not(:last-child)::after {content: \"\\00b7\"; padding: 0 .5ex}\n",
       "</style>\n",
       "<ol class=list-inline><li>'KS91_K562_hg38_ASTARRseq_Input_rep1.GATA1.unstranded.dedups.perbase.tsv.gz'</li><li>'KS91_K562_hg38_ASTARRseq_Input_rep2.GATA1.unstranded.dedups.perbase.tsv.gz'</li><li>'KS91_K562_hg38_ASTARRseq_Input_rep3.GATA1.unstranded.dedups.perbase.tsv.gz'</li><li>'KS91_K562_hg38_ASTARRseq_Input_rep4.GATA1.unstranded.dedups.perbase.tsv.gz'</li><li>'KS91_K562_hg38_ASTARRseq_Input_rep5.GATA1.unstranded.dedups.perbase.tsv.gz'</li><li>'KS91_K562_hg38_ASTARRseq_Input_rep6.GATA1.unstranded.dedups.perbase.tsv.gz'</li><li>'KS91_K562_hg38_ASTARRseq_Output_rep1.GATA1.unstranded.perbase.tsv.gz'</li><li>'KS91_K562_hg38_ASTARRseq_Output_rep2.GATA1.unstranded.perbase.tsv.gz'</li><li>'KS91_K562_hg38_ASTARRseq_Output_rep3.GATA1.unstranded.perbase.tsv.gz'</li><li>'KS91_K562_hg38_ASTARRseq_Output_rep4.GATA1.unstranded.perbase.tsv.gz'</li><li>'region_GATA1.bed'</li></ol>\n"
      ],
      "text/latex": [
       "\\begin{enumerate*}\n",
       "\\item 'KS91\\_K562\\_hg38\\_ASTARRseq\\_Input\\_rep1.GATA1.unstranded.dedups.perbase.tsv.gz'\n",
       "\\item 'KS91\\_K562\\_hg38\\_ASTARRseq\\_Input\\_rep2.GATA1.unstranded.dedups.perbase.tsv.gz'\n",
       "\\item 'KS91\\_K562\\_hg38\\_ASTARRseq\\_Input\\_rep3.GATA1.unstranded.dedups.perbase.tsv.gz'\n",
       "\\item 'KS91\\_K562\\_hg38\\_ASTARRseq\\_Input\\_rep4.GATA1.unstranded.dedups.perbase.tsv.gz'\n",
       "\\item 'KS91\\_K562\\_hg38\\_ASTARRseq\\_Input\\_rep5.GATA1.unstranded.dedups.perbase.tsv.gz'\n",
       "\\item 'KS91\\_K562\\_hg38\\_ASTARRseq\\_Input\\_rep6.GATA1.unstranded.dedups.perbase.tsv.gz'\n",
       "\\item 'KS91\\_K562\\_hg38\\_ASTARRseq\\_Output\\_rep1.GATA1.unstranded.perbase.tsv.gz'\n",
       "\\item 'KS91\\_K562\\_hg38\\_ASTARRseq\\_Output\\_rep2.GATA1.unstranded.perbase.tsv.gz'\n",
       "\\item 'KS91\\_K562\\_hg38\\_ASTARRseq\\_Output\\_rep3.GATA1.unstranded.perbase.tsv.gz'\n",
       "\\item 'KS91\\_K562\\_hg38\\_ASTARRseq\\_Output\\_rep4.GATA1.unstranded.perbase.tsv.gz'\n",
       "\\item 'region\\_GATA1.bed'\n",
       "\\end{enumerate*}\n"
      ],
      "text/markdown": [
       "1. 'KS91_K562_hg38_ASTARRseq_Input_rep1.GATA1.unstranded.dedups.perbase.tsv.gz'\n",
       "2. 'KS91_K562_hg38_ASTARRseq_Input_rep2.GATA1.unstranded.dedups.perbase.tsv.gz'\n",
       "3. 'KS91_K562_hg38_ASTARRseq_Input_rep3.GATA1.unstranded.dedups.perbase.tsv.gz'\n",
       "4. 'KS91_K562_hg38_ASTARRseq_Input_rep4.GATA1.unstranded.dedups.perbase.tsv.gz'\n",
       "5. 'KS91_K562_hg38_ASTARRseq_Input_rep5.GATA1.unstranded.dedups.perbase.tsv.gz'\n",
       "6. 'KS91_K562_hg38_ASTARRseq_Input_rep6.GATA1.unstranded.dedups.perbase.tsv.gz'\n",
       "7. 'KS91_K562_hg38_ASTARRseq_Output_rep1.GATA1.unstranded.perbase.tsv.gz'\n",
       "8. 'KS91_K562_hg38_ASTARRseq_Output_rep2.GATA1.unstranded.perbase.tsv.gz'\n",
       "9. 'KS91_K562_hg38_ASTARRseq_Output_rep3.GATA1.unstranded.perbase.tsv.gz'\n",
       "10. 'KS91_K562_hg38_ASTARRseq_Output_rep4.GATA1.unstranded.perbase.tsv.gz'\n",
       "11. 'region_GATA1.bed'\n",
       "\n",
       "\n"
      ],
      "text/plain": [
       " [1] \"KS91_K562_hg38_ASTARRseq_Input_rep1.GATA1.unstranded.dedups.perbase.tsv.gz\"\n",
       " [2] \"KS91_K562_hg38_ASTARRseq_Input_rep2.GATA1.unstranded.dedups.perbase.tsv.gz\"\n",
       " [3] \"KS91_K562_hg38_ASTARRseq_Input_rep3.GATA1.unstranded.dedups.perbase.tsv.gz\"\n",
       " [4] \"KS91_K562_hg38_ASTARRseq_Input_rep4.GATA1.unstranded.dedups.perbase.tsv.gz\"\n",
       " [5] \"KS91_K562_hg38_ASTARRseq_Input_rep5.GATA1.unstranded.dedups.perbase.tsv.gz\"\n",
       " [6] \"KS91_K562_hg38_ASTARRseq_Input_rep6.GATA1.unstranded.dedups.perbase.tsv.gz\"\n",
       " [7] \"KS91_K562_hg38_ASTARRseq_Output_rep1.GATA1.unstranded.perbase.tsv.gz\"      \n",
       " [8] \"KS91_K562_hg38_ASTARRseq_Output_rep2.GATA1.unstranded.perbase.tsv.gz\"      \n",
       " [9] \"KS91_K562_hg38_ASTARRseq_Output_rep3.GATA1.unstranded.perbase.tsv.gz\"      \n",
       "[10] \"KS91_K562_hg38_ASTARRseq_Output_rep4.GATA1.unstranded.perbase.tsv.gz\"      \n",
       "[11] \"region_GATA1.bed\"                                                          "
      ]
     },
     "metadata": {},
     "output_type": "display_data"
    }
   ],
   "source": [
    "fdiry = file.path(FD_RES, \"KS91_K562_ASTARRseq\", \"coverage\")\n",
    "dir(fdiry)"
   ]
  },
  {
   "cell_type": "code",
   "execution_count": 4,
   "id": "c1fef3ea-0043-4ac6-9e7d-24f88286dcd2",
   "metadata": {},
   "outputs": [],
   "source": [
    "### init: file directory\n",
    "fdiry = file.path(FD_RES, \"KS91_K562_ASTARRseq\", \"coverage\")\n",
    "\n",
    "### init:\n",
    "ctypes = c(col_character(), col_integer(), col_integer())\n",
    "cnames = c(\"Chrom\", \"Loc\", \"Depth\")\n",
    "\n",
    "### INPUT: set sample group and number of replicates\n",
    "GROUP   = \"Input\"\n",
    "REPLICS = paste0(\"rep\", 1:6)\n",
    "\n",
    "### INPUT: import data\n",
    "lst_dat_inp = lapply(REPLICS, function(replic){\n",
    "    ### get sample file path\n",
    "    sam   = paste(GROUP, replic, sep=\"_\")\n",
    "    fglob = paste0(\"*\", sam, \"*\")\n",
    "    fpath = Sys.glob(file.path(fdiry, fglob))\n",
    "    \n",
    "    ### read data\n",
    "    dat = read_tsv(\n",
    "        fpath, \n",
    "        col_types = ctypes, \n",
    "        col_names = cnames)\n",
    "    dat$Sample = sam\n",
    "    return(dat)\n",
    "})\n",
    "\n",
    "### OUTPUT: set sample group and number of replicates\n",
    "GROUP   = \"Output\"\n",
    "REPLICS = paste0(\"rep\", 1:4)\n",
    "\n",
    "### OUTPUT: import data\n",
    "lst_dat_out = lapply(REPLICS, function(replic){\n",
    "    ### get sample file path\n",
    "    sam   = paste(GROUP, replic, sep=\"_\")\n",
    "    fglob = paste0(\"*\", sam, \"*\")\n",
    "    fpath = Sys.glob(file.path(fdiry, fglob))\n",
    "    \n",
    "    ### read data\n",
    "    dat = read_tsv(\n",
    "        fpath, \n",
    "        col_types = ctypes, \n",
    "        col_names = cnames)\n",
    "    dat$Sample = sam\n",
    "    return(dat)\n",
    "})"
   ]
  },
  {
   "cell_type": "code",
   "execution_count": 3,
   "id": "c6eb527d-dc8c-4c9f-8ce2-203052cfef92",
   "metadata": {},
   "outputs": [
    {
     "name": "stderr",
     "output_type": "stream",
     "text": [
      "\u001b[1mRows: \u001b[22m\u001b[34m10\u001b[39m \u001b[1mColumns: \u001b[22m\u001b[34m4\u001b[39m\n",
      "\u001b[36m──\u001b[39m \u001b[1mColumn specification\u001b[22m \u001b[36m────────────────────────────────────────────────────────────────────────────────────────────────────\u001b[39m\n",
      "\u001b[1mDelimiter:\u001b[22m \"\\t\"\n",
      "\u001b[31mchr\u001b[39m (3): Sample, Group, Replicate\n",
      "\u001b[32mdbl\u001b[39m (1): Size\n",
      "\n",
      "\u001b[36mℹ\u001b[39m Use `spec()` to retrieve the full column specification for this data.\n",
      "\u001b[36mℹ\u001b[39m Specify the column types or set `show_col_types = FALSE` to quiet this message.\n"
     ]
    },
    {
     "data": {
      "text/html": [
       "<table class=\"dataframe\">\n",
       "<caption>A tibble: 6 × 4</caption>\n",
       "<thead>\n",
       "\t<tr><th scope=col>Sample</th><th scope=col>Group</th><th scope=col>Replicate</th><th scope=col>Size</th></tr>\n",
       "\t<tr><th scope=col>&lt;chr&gt;</th><th scope=col>&lt;chr&gt;</th><th scope=col>&lt;chr&gt;</th><th scope=col>&lt;dbl&gt;</th></tr>\n",
       "</thead>\n",
       "<tbody>\n",
       "\t<tr><td>Input_rep1</td><td>Input</td><td>rep1</td><td>358823</td></tr>\n",
       "\t<tr><td>Input_rep2</td><td>Input</td><td>rep2</td><td>461577</td></tr>\n",
       "\t<tr><td>Input_rep3</td><td>Input</td><td>rep3</td><td>496229</td></tr>\n",
       "\t<tr><td>Input_rep4</td><td>Input</td><td>rep4</td><td>464845</td></tr>\n",
       "\t<tr><td>Input_rep5</td><td>Input</td><td>rep5</td><td>454013</td></tr>\n",
       "\t<tr><td>Input_rep6</td><td>Input</td><td>rep6</td><td>409058</td></tr>\n",
       "</tbody>\n",
       "</table>\n"
      ],
      "text/latex": [
       "A tibble: 6 × 4\n",
       "\\begin{tabular}{llll}\n",
       " Sample & Group & Replicate & Size\\\\\n",
       " <chr> & <chr> & <chr> & <dbl>\\\\\n",
       "\\hline\n",
       "\t Input\\_rep1 & Input & rep1 & 358823\\\\\n",
       "\t Input\\_rep2 & Input & rep2 & 461577\\\\\n",
       "\t Input\\_rep3 & Input & rep3 & 496229\\\\\n",
       "\t Input\\_rep4 & Input & rep4 & 464845\\\\\n",
       "\t Input\\_rep5 & Input & rep5 & 454013\\\\\n",
       "\t Input\\_rep6 & Input & rep6 & 409058\\\\\n",
       "\\end{tabular}\n"
      ],
      "text/markdown": [
       "\n",
       "A tibble: 6 × 4\n",
       "\n",
       "| Sample &lt;chr&gt; | Group &lt;chr&gt; | Replicate &lt;chr&gt; | Size &lt;dbl&gt; |\n",
       "|---|---|---|---|\n",
       "| Input_rep1 | Input | rep1 | 358823 |\n",
       "| Input_rep2 | Input | rep2 | 461577 |\n",
       "| Input_rep3 | Input | rep3 | 496229 |\n",
       "| Input_rep4 | Input | rep4 | 464845 |\n",
       "| Input_rep5 | Input | rep5 | 454013 |\n",
       "| Input_rep6 | Input | rep6 | 409058 |\n",
       "\n"
      ],
      "text/plain": [
       "  Sample     Group Replicate Size  \n",
       "1 Input_rep1 Input rep1      358823\n",
       "2 Input_rep2 Input rep2      461577\n",
       "3 Input_rep3 Input rep3      496229\n",
       "4 Input_rep4 Input rep4      464845\n",
       "5 Input_rep5 Input rep5      454013\n",
       "6 Input_rep6 Input rep6      409058"
      ]
     },
     "metadata": {},
     "output_type": "display_data"
    }
   ],
   "source": [
    "fdiry = file.path(FD_RES, \"KS91_K562_ASTARRseq\", \"fragment\")\n",
    "fname = \"library_size.tsv\"\n",
    "dat_lib = read_tsv(file.path(fdiry, fname))\n",
    "head(dat_lib)"
   ]
  },
  {
   "cell_type": "code",
   "execution_count": 5,
   "id": "fd40bf41-8391-404e-a103-6f9223603e64",
   "metadata": {},
   "outputs": [
    {
     "data": {
      "text/html": [
       "<table class=\"dataframe\">\n",
       "<caption>A tibble: 6 × 8</caption>\n",
       "<thead>\n",
       "\t<tr><th scope=col>Chrom</th><th scope=col>Loc</th><th scope=col>Depth</th><th scope=col>Sample</th><th scope=col>Group</th><th scope=col>Replicate</th><th scope=col>Size</th><th scope=col>Depth_Norm</th></tr>\n",
       "\t<tr><th scope=col>&lt;chr&gt;</th><th scope=col>&lt;dbl&gt;</th><th scope=col>&lt;dbl&gt;</th><th scope=col>&lt;chr&gt;</th><th scope=col>&lt;chr&gt;</th><th scope=col>&lt;chr&gt;</th><th scope=col>&lt;dbl&gt;</th><th scope=col>&lt;dbl&gt;</th></tr>\n",
       "</thead>\n",
       "<tbody>\n",
       "\t<tr><td>chrX</td><td>47786400</td><td>0</td><td>Input_rep1</td><td>Input</td><td>rep1</td><td>358823</td><td>0</td></tr>\n",
       "\t<tr><td>chrX</td><td>47786401</td><td>0</td><td>Input_rep1</td><td>Input</td><td>rep1</td><td>358823</td><td>0</td></tr>\n",
       "\t<tr><td>chrX</td><td>47786402</td><td>0</td><td>Input_rep1</td><td>Input</td><td>rep1</td><td>358823</td><td>0</td></tr>\n",
       "\t<tr><td>chrX</td><td>47786403</td><td>0</td><td>Input_rep1</td><td>Input</td><td>rep1</td><td>358823</td><td>0</td></tr>\n",
       "\t<tr><td>chrX</td><td>47786404</td><td>0</td><td>Input_rep1</td><td>Input</td><td>rep1</td><td>358823</td><td>0</td></tr>\n",
       "\t<tr><td>chrX</td><td>47786405</td><td>0</td><td>Input_rep1</td><td>Input</td><td>rep1</td><td>358823</td><td>0</td></tr>\n",
       "</tbody>\n",
       "</table>\n"
      ],
      "text/latex": [
       "A tibble: 6 × 8\n",
       "\\begin{tabular}{llllllll}\n",
       " Chrom & Loc & Depth & Sample & Group & Replicate & Size & Depth\\_Norm\\\\\n",
       " <chr> & <dbl> & <dbl> & <chr> & <chr> & <chr> & <dbl> & <dbl>\\\\\n",
       "\\hline\n",
       "\t chrX & 47786400 & 0 & Input\\_rep1 & Input & rep1 & 358823 & 0\\\\\n",
       "\t chrX & 47786401 & 0 & Input\\_rep1 & Input & rep1 & 358823 & 0\\\\\n",
       "\t chrX & 47786402 & 0 & Input\\_rep1 & Input & rep1 & 358823 & 0\\\\\n",
       "\t chrX & 47786403 & 0 & Input\\_rep1 & Input & rep1 & 358823 & 0\\\\\n",
       "\t chrX & 47786404 & 0 & Input\\_rep1 & Input & rep1 & 358823 & 0\\\\\n",
       "\t chrX & 47786405 & 0 & Input\\_rep1 & Input & rep1 & 358823 & 0\\\\\n",
       "\\end{tabular}\n"
      ],
      "text/markdown": [
       "\n",
       "A tibble: 6 × 8\n",
       "\n",
       "| Chrom &lt;chr&gt; | Loc &lt;dbl&gt; | Depth &lt;dbl&gt; | Sample &lt;chr&gt; | Group &lt;chr&gt; | Replicate &lt;chr&gt; | Size &lt;dbl&gt; | Depth_Norm &lt;dbl&gt; |\n",
       "|---|---|---|---|---|---|---|---|\n",
       "| chrX | 47786400 | 0 | Input_rep1 | Input | rep1 | 358823 | 0 |\n",
       "| chrX | 47786401 | 0 | Input_rep1 | Input | rep1 | 358823 | 0 |\n",
       "| chrX | 47786402 | 0 | Input_rep1 | Input | rep1 | 358823 | 0 |\n",
       "| chrX | 47786403 | 0 | Input_rep1 | Input | rep1 | 358823 | 0 |\n",
       "| chrX | 47786404 | 0 | Input_rep1 | Input | rep1 | 358823 | 0 |\n",
       "| chrX | 47786405 | 0 | Input_rep1 | Input | rep1 | 358823 | 0 |\n",
       "\n"
      ],
      "text/plain": [
       "  Chrom Loc      Depth Sample     Group Replicate Size   Depth_Norm\n",
       "1 chrX  47786400 0     Input_rep1 Input rep1      358823 0         \n",
       "2 chrX  47786401 0     Input_rep1 Input rep1      358823 0         \n",
       "3 chrX  47786402 0     Input_rep1 Input rep1      358823 0         \n",
       "4 chrX  47786403 0     Input_rep1 Input rep1      358823 0         \n",
       "5 chrX  47786404 0     Input_rep1 Input rep1      358823 0         \n",
       "6 chrX  47786405 0     Input_rep1 Input rep1      358823 0         "
      ]
     },
     "metadata": {},
     "output_type": "display_data"
    }
   ],
   "source": [
    "dat_astarr = bind_rows(lst_dat_inp, lst_dat_out) %>% \n",
    "    left_join(dat_lib, by=\"Sample\") %>%\n",
    "    mutate(Depth_Norm = Depth / Size)\n",
    "head(dat_astarr)"
   ]
  },
  {
   "cell_type": "code",
   "execution_count": 14,
   "id": "7f93d868-c004-46fd-b89b-92329126c10b",
   "metadata": {},
   "outputs": [
    {
     "name": "stderr",
     "output_type": "stream",
     "text": [
      "\u001b[1m\u001b[22m`summarise()` has grouped output by 'Loc'. You can override using the `.groups` argument.\n"
     ]
    },
    {
     "data": {
      "text/html": [
       "<table class=\"dataframe\">\n",
       "<caption>A grouped_df: 6 × 4</caption>\n",
       "<thead>\n",
       "\t<tr><th scope=col>Loc</th><th scope=col>Input</th><th scope=col>Output</th><th scope=col>Ratio</th></tr>\n",
       "\t<tr><th scope=col>&lt;dbl&gt;</th><th scope=col>&lt;dbl&gt;</th><th scope=col>&lt;dbl&gt;</th><th scope=col>&lt;dbl&gt;</th></tr>\n",
       "</thead>\n",
       "<tbody>\n",
       "\t<tr><td>47786400</td><td>0</td><td>0</td><td>0</td></tr>\n",
       "\t<tr><td>47786401</td><td>0</td><td>0</td><td>0</td></tr>\n",
       "\t<tr><td>47786402</td><td>0</td><td>0</td><td>0</td></tr>\n",
       "\t<tr><td>47786403</td><td>0</td><td>0</td><td>0</td></tr>\n",
       "\t<tr><td>47786404</td><td>0</td><td>0</td><td>0</td></tr>\n",
       "\t<tr><td>47786405</td><td>0</td><td>0</td><td>0</td></tr>\n",
       "</tbody>\n",
       "</table>\n"
      ],
      "text/latex": [
       "A grouped\\_df: 6 × 4\n",
       "\\begin{tabular}{llll}\n",
       " Loc & Input & Output & Ratio\\\\\n",
       " <dbl> & <dbl> & <dbl> & <dbl>\\\\\n",
       "\\hline\n",
       "\t 47786400 & 0 & 0 & 0\\\\\n",
       "\t 47786401 & 0 & 0 & 0\\\\\n",
       "\t 47786402 & 0 & 0 & 0\\\\\n",
       "\t 47786403 & 0 & 0 & 0\\\\\n",
       "\t 47786404 & 0 & 0 & 0\\\\\n",
       "\t 47786405 & 0 & 0 & 0\\\\\n",
       "\\end{tabular}\n"
      ],
      "text/markdown": [
       "\n",
       "A grouped_df: 6 × 4\n",
       "\n",
       "| Loc &lt;dbl&gt; | Input &lt;dbl&gt; | Output &lt;dbl&gt; | Ratio &lt;dbl&gt; |\n",
       "|---|---|---|---|\n",
       "| 47786400 | 0 | 0 | 0 |\n",
       "| 47786401 | 0 | 0 | 0 |\n",
       "| 47786402 | 0 | 0 | 0 |\n",
       "| 47786403 | 0 | 0 | 0 |\n",
       "| 47786404 | 0 | 0 | 0 |\n",
       "| 47786405 | 0 | 0 | 0 |\n",
       "\n"
      ],
      "text/plain": [
       "  Loc      Input Output Ratio\n",
       "1 47786400 0     0      0    \n",
       "2 47786401 0     0      0    \n",
       "3 47786402 0     0      0    \n",
       "4 47786403 0     0      0    \n",
       "5 47786404 0     0      0    \n",
       "6 47786405 0     0      0    "
      ]
     },
     "metadata": {},
     "output_type": "display_data"
    }
   ],
   "source": [
    "### summarize the repeats for output and inptu\n",
    "dat = dat_astarr\n",
    "dat = dat %>% \n",
    "    group_by(Loc, Group) %>% \n",
    "    summarise(Depth_Norm = sum(Depth_Norm))\n",
    "\n",
    "### calculate the ratio\n",
    "dat = dat %>% \n",
    "    spread(Group, Depth_Norm) %>% \n",
    "    mutate(Ratio = Output / (Input+1))\n",
    "\n",
    "head(dat)"
   ]
  },
  {
   "cell_type": "code",
   "execution_count": 15,
   "id": "d25d5eb9-e8a5-4338-a551-c4f5ce5a9af4",
   "metadata": {},
   "outputs": [],
   "source": [
    "fdiry = file.path(FD_RES, \"KS91_K562_ASTARRseq\", \"coverage\")\n",
    "fname = \"KS91_K562_hg38_ASTARRseq_Ratio.GATA1.unstranded.perbase.tsv\"\n",
    "fpath = file.path(fdiry, fname)\n",
    "\n",
    "write_tsv(dat, fpath)"
   ]
  },
  {
   "cell_type": "code",
   "execution_count": null,
   "id": "5b32e982-f2a3-45bb-8e0e-e80e6cf10f59",
   "metadata": {},
   "outputs": [],
   "source": []
  }
 ],
 "metadata": {
  "kernelspec": {
   "display_name": "R",
   "language": "R",
   "name": "ir"
  },
  "language_info": {
   "codemirror_mode": "r",
   "file_extension": ".r",
   "mimetype": "text/x-r-source",
   "name": "R",
   "pygments_lexer": "r",
   "version": "4.1.3"
  }
 },
 "nbformat": 4,
 "nbformat_minor": 5
}
